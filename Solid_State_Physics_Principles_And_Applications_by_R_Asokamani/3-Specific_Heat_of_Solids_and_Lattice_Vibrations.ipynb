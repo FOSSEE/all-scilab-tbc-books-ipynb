{
"cells": [
 {
		   "cell_type": "markdown",
	   "metadata": {},
	   "source": [
       "# Chapter 3: Specific Heat of Solids and Lattice Vibrations"
	   ]
	},
{
		   "cell_type": "markdown",
		   "metadata": {},
		   "source": [
			"## Example 3.10: Temperature_at_which_lattice_specific_heat_equals_electronic_specific_heat.sce"
		   ]
		  },
  {
"cell_type": "code",
	   "execution_count": null,
	   "metadata": {
	    "collapsed": true
	   },
	   "outputs": [],
"source": [
"// Scilab Code Ex3.10: Page-91 (2006)\n",
"clc; clear;\n",
"N = 6.023e+023; // Avogadro's number, per kmol\n",
"e = 1.602e-019;   // Energy equivalent of 1 eV, J/eV\n",
"k = 1.38e-023;  // Boltzmann constant, J/K\n",
"R = N*k;    // Molar gas constant, J/kmol/K\n",
"E_F = 7;    // Fermi energy of Hf, eV\n",
"theta_D = 343;  // Debye temperature of Hf, K\n",
"T_F = E_F/k;    // Fermi temperature of Hf, K\n",
"// As C_l = 12/5*(%pi^4*R)*(T/theta_D)^3 and C_e = %pi^2/2*R*(T/(T_F*e)) so that\n",
"// For C_l = C_e, we have\n",
"T = sqrt((%pi^2/2*R*1/(T_F*e))/(12/5*%pi^4*R)*theta_D^3); // Required temperature when C_l = C_e, K\n",
"printf('\nThe temperature at which lattice specific heat equals electronic specific heat for Cu = %4.2f K', T);\n",
"\n",
"// Result \n",
"// The temperature at which lattice specific heat equals electronic specific heat for Cu = 3.24 K "
   ]
   }
,
{
		   "cell_type": "markdown",
		   "metadata": {},
		   "source": [
			"## Example 3.11: Debye_temperature_of_Al.sce"
		   ]
		  },
  {
"cell_type": "code",
	   "execution_count": null,
	   "metadata": {
	    "collapsed": true
	   },
	   "outputs": [],
"source": [
"// Scilab Code Ex3.11: Page-92 (2006)\n",
"clc; clear;\n",
"C11 = 1.08e+12, C12 = 0.62e+12, C44 = 0.28e+12;     // Elastic constants of Al, dynes/cm square\n",
"a = 4.05e-08;   // Lattice constant for Al cubic structure, cm\n",
"rho = 2.70;     // g/cm cube \n",
"k = 1.38e-023;  // Boltzmann constant, J/K\n",
"h = 6.626e-034; // Planck's constant, Js\n",
"s = 4;  // Number of atoms in Al unit cell\n",
"Va = a^3;   // Volume of unit cell, cm cube\n",
"theta_D = (3.15/(8*%pi)*(h/k)^3*s/(rho^(3/2)*Va)*(C11-C12)^(1/2)*(C11+C12+2*C44)^(1/2)*C44^(1/2))^(1/3);\n",
"printf('\nThe Debye temperature of Al = %3d K', theta_D);\n",
"\n",
"// Result \n",
"// The Debye temperature of Al = 466 K "
   ]
   }
,
{
		   "cell_type": "markdown",
		   "metadata": {},
		   "source": [
			"## Example 3.12: Debye_temperatures_of_Cu_and_Na.sce"
		   ]
		  },
  {
"cell_type": "code",
	   "execution_count": null,
	   "metadata": {
	    "collapsed": true
	   },
	   "outputs": [],
"source": [
"// Scilab Code Ex3.12: Page-93 (2006)\n",
"clc; clear;\n",
"k = 1.38e-023;  // Boltzmann constant, J/K\n",
"h = 6.626e-034; // Planck's constant, Js\n",
"A = cell(2,8);  // Declare a matrix of 2X8\n",
"A(1,1).entries = 'Cu';\n",
"A(1,2).entries = 1.684e+012;\n",
"A(1,3).entries = 1.214e+012;\n",
"A(1,4).entries = 0.754e+012;\n",
"A(1,5).entries = 4;\n",
"A(1,6).entries = 3.61e-08;\n",
"A(1,7).entries = 8.96;\n",
"A(2,1).entries = 'Na';\n",
"A(2,2).entries = 0.055e+012;\n",
"A(2,3).entries = 0.047e+012;\n",
"A(2,4).entries = 0.049e+012;\n",
"A(2,5).entries = 2;\n",
"A(2,6).entries = 4.225e-08;\n",
"A(2,7).entries = 0.971;\n",
"\n",
"// For Cu\n",
"Va = A(1,6).entries^3;   // Volume of unit cell, cm cube\n",
"A(1,8).entries = (3.15/(8*%pi)*(h/k)^3*A(1,5).entries/(A(1,7).entries^(3/2)*Va)*(A(1,2).entries-A(1,3).entries)^(1/2)*(A(1,2).entries+A(1,3).entries+2*A(1,4).entries)^(1/2)*A(1,4).entries^(1/2))^(1/3);\n",
"\n",
"// For Na\n",
"Va = A(2,6).entries^3;   // Volume of unit cell, cm cube\n",
"A(2,8).entries = (3.15/(8*%pi)*(h/k)^3*A(2,5).entries/(A(2,7).entries^(3/2)*Va)*(A(2,2).entries-A(2,3).entries)^(1/2)*(A(2,2).entries+A(2,3).entries+2*A(2,4).entries)^(1/2)*A(2,4).entries^(1/2))^(1/3);\n",
"\n",
"printf('\n________________________________________');\n",
"printf('\nMetal     C11     C12     C44     thetaD')\n",
"printf('\n________________________________________');\n",
"for i = 1:1:2\n",
"    printf('\n%s        %5.3f   %5.3f   %5.3f   %3d', A(i,1).entries, A(i,2).entries/1e+12, A(i,3).entries/1e+12, A(i,4).entries/1e+12, A(i,8).entries);\n",
"end\n",
"printf('\n________________________________________');\n",
"\n",
"// Result \n",
"// ________________________________________\n",
"// Metal     C11     C12     C44     thetaD\n",
"// ________________________________________\n",
"// Cu        1.684   1.214   0.754   380\n",
"// Na        0.055   0.047   0.049   150\n",
"// ________________________________________"
   ]
   }
,
{
		   "cell_type": "markdown",
		   "metadata": {},
		   "source": [
			"## Example 3.13: Debye_temperature_as_a_function_of_temperature.sce"
		   ]
		  },
  {
"cell_type": "code",
	   "execution_count": null,
	   "metadata": {
	    "collapsed": true
	   },
	   "outputs": [],
"source": [
"// Scilab Code Ex3.13: Page-93 (2006)\n",
"clc; clear;\n",
"k = 1.38e-023;  // Boltzmann constant, J/K\n",
"h = 6.626e-034; // Planck's constant, Js\n",
"A = cell(4,5);  // Declare a matrix of 4X5\n",
"A(1,1).entries = 300;\n",
"A(1,2).entries = 0.878e+010;\n",
"A(1,3).entries = 0.483e+010;\n",
"A(1,4).entries = 0.448e+010;\n",
"A(2,1).entries = 200;\n",
"A(2,2).entries = 0.968e+010;\n",
"A(2,3).entries = 0.508e+010;\n",
"A(2,4).entries = 0.512e+010;\n",
"A(3,1).entries = 100;\n",
"A(3,2).entries = 1.050e+010;\n",
"A(3,3).entries = 0.540e+010;\n",
"A(3,4).entries = 0.579e+010;\n",
"A(4,1).entries = 20;\n",
"A(4,2).entries = 1.101e+010;\n",
"A(4,3).entries = 0.551e+010;\n",
"A(4,4).entries = 0.624e+010;\n",
"s = 2;      // Number of atoms in a unit cell\n",
"a = 4.225e-10;  // Lattice parameter of Na, m\n",
"rho = 0.971e+03;    // Density of Na, kg/metre-cube\n",
"Va = a^3;   // Volume of unit cell, metre cube\n",
"printf('\n________________________________________');\n",
"printf('\nT       C11     C12     C44     thetaD')\n",
"printf('\n________________________________________');\n",
"for i=1:1:4\n",
"   A(i,5).entries = (3.15/(8*%pi)*(h/k)^3*s/(rho^(3/2)*Va)*(A(i,2).entries-A(i,3).entries)^(1/2)*(A(i,2).entries+A(i,3).entries+2*A(i,4).entries)^(1/2)*A(i,4).entries^(1/2))^(1/3);\n",
"printf('\n%3d     %5.3f   %5.3f   %5.3f   %3d', A(i,1).entries, A(i,2).entries/1e+10, A(i,3).entries/1e+10, A(i,4).entries/1e+10, A(i,5).entries);\n",
"end\n",
"printf('\n________________________________________');\n",
"\n",
"// Result \n",
"// ________________________________________\n",
"// T       C11     C12     C44     thetaD\n",
"// ________________________________________\n",
"// 300     0.878   0.483   0.448   197\n",
"// 200     0.968   0.508   0.512   210\n",
"// 100     1.050   0.540   0.579   222\n",
"//  20     1.101   0.551   0.624   229\n",
"// ________________________________________ \n",
"// The theta values given in the textbook are wrong"
   ]
   }
,
{
		   "cell_type": "markdown",
		   "metadata": {},
		   "source": [
			"## Example 3.14: Variation_of_Gruneisen_frequency_and_Debye_temperature_for_Lu_with_pressure.sce"
		   ]
		  },
  {
"cell_type": "code",
	   "execution_count": null,
	   "metadata": {
	    "collapsed": true
	   },
	   "outputs": [],
"source": [
"// Scilab Code Ex3.12: Page-93 (2006)\n",
"clc; clear;\n",
"Lu = cell(6,5);  // Declare a matrix of 6X5\n",
"Lu(1,1).entries = 0;\n",
"Lu(1,2).entries = 5.58;\n",
"Lu(1,3).entries = 3.517;\n",
"Lu(1,5).entries = 0.750;\n",
"Lu(2,1).entries = 36;\n",
"Lu(2,2).entries = 5.409;\n",
"Lu(2,3).entries = 3.440;\n",
"Lu(2,5).entries = 0.560;\n",
"Lu(3,1).entries = 103;\n",
"Lu(3,2).entries = 5.213;\n",
"Lu(3,3).entries = 3.341;\n",
"Lu(3,5).entries = 0.492;\n",
"Lu(4,1).entries = 157;\n",
"Lu(4,2).entries = 5.067;\n",
"Lu(4,3).entries = 3.259;\n",
"Lu(4,5).entries = 0.388;\n",
"Lu(5,1).entries = 191;\n",
"Lu(5,2).entries = 4.987;\n",
"Lu(5,3).entries = 3.217;\n",
"Lu(5,5).entries = 0.357;\n",
"Lu(6,1).entries = 236;\n",
"Lu(6,2).entries = 4.921;\n",
"Lu(6,3).entries = 3.179;\n",
"Lu(6,5).entries = 0.331;\n",
"V0 = 3*sqrt(3)/2*Lu(1,3).entries^2*Lu(1,2).entries;\n",
"V = zeros(6);   // Declare volume array\n",
"printf('\n______________________________________________________________');\n",
"printf('\nP(kbar)    c(angstrom)     a(angstrom)    gamma_G      nu_G   ');\n",
"printf('\n______________________________________________________________');\n",
"for i=1:1:6\n",
"   V(i) = 3*sqrt(3)/2*Lu(i,3).entries^2*Lu(i,2).entries;\n",
"   Lu(i,4).entries = Lu(i,5).entries*V(i)/V0+2/3*(1-V(i)/V0)^(1/2);\n",
"printf('\n%3d        %5.3f           %5.3f          %5.3f        %5.3f', Lu(i,1).entries, Lu(i,2).entries, Lu(i,3).entries, Lu(i,4).entries, Lu(i,5).entries);\n",
"end\n",
"printf('\n______________________________________________________________');\n",
"\n",
"cnt = 0;\n",
"printf('\n________________________');\n",
"printf('\nP(kbar)       Theta_D(K)');\n",
"printf('\n________________________');\n",
"for i=1:1:6\n",
"    theta_D = exp(integrate('-1*Lu(i,5).entries*exp(x)/V0-2/3*(1-exp(x)/V0)^(1/2)', 'x', -0.8+cnt, log(V(i)/1000000)));\n",
"    cnt = cnt + 0.01;\n",
"    printf('\n%3d             %3.0f', Lu(i,1).entries, theta_D);\n",
"end\n",
"printf('\n________________________');\n",
"\n",
"// Result \n",
"// ______________________________________________________________\n",
"// P(kbar)    c(angstrom)     a(angstrom)    gamma_G      nu_G   \n",
"// ______________________________________________________________\n",
"//   0        5.580           3.517          0.750        0.750\n",
"//  36        5.409           3.440          0.699        0.560\n",
"// 103        5.213           3.341          0.679        0.492\n",
"// 157        5.067           3.259          0.615        0.388\n",
"// 191        4.987           3.217          0.602        0.357\n",
"// 236        4.921           3.179          0.591        0.331\n",
"// ______________________________________________________________ \n",
"// ________________________\n",
"// P(kdbar)       Theta_D(K)\n",
"// ________________________\n",
"//   0             185\n",
"//  36             195\n",
"// 103             210\n",
"// 157             222\n",
"// 191             230\n",
"// 236             237\n",
"// ________________________ "
   ]
   }
,
{
		   "cell_type": "markdown",
		   "metadata": {},
		   "source": [
			"## Example 3.15: Lindemann_rule_to_calculate_the_Debye_temperature.sce"
		   ]
		  },
  {
"cell_type": "code",
	   "execution_count": null,
	   "metadata": {
	    "collapsed": true
	   },
	   "outputs": [],
"source": [
"// Scilab Code Ex3.15: Page-94 (2006)\n",
"clc; clear;\n",
"T_M = 1356;     // Melting temperature of Cu, K\n",
"V = 7.114;      // Atomic volume of Cu, cm cube per g-atom\n",
"M = 63.5;       // atomic weight of Cu, g/mole\n",
"K = 138.5;      // Lindemann constant\n",
"theta_M = K*(T_M/M)^(1/2)*(1/V)^(1/3); // Debye temperature by Lindemann method, K\n",
"\n",
"printf('\nThe Debye temperature by Lindemann method = %3d K', ceil(theta_M));\n",
"printf('\nThe values obtained from other methods are:');\n",
"printf('\ntheta_s = 342 K;      theta_R = 336 K;        theta_E = 345 K');\n",
"\n",
"// Result \n",
"// The Debye temperature by Lindemann method = 333 K \n",
"// The values obtained from other methods are:\n",
"// theta_s = 342 K;      theta_R = 336 K;        theta_E = 345 K "
   ]
   }
,
{
		   "cell_type": "markdown",
		   "metadata": {},
		   "source": [
			"## Example 3.16: Frequency_of_vibration_of_ions_in_InSb_crystal.sce"
		   ]
		  },
  {
"cell_type": "code",
	   "execution_count": null,
	   "metadata": {
	    "collapsed": true
	   },
	   "outputs": [],
"source": [
"// Scilab Code Ex3.16: Page-100 (2006)\n",
"clc; clear;\n",
"N_A = 6.023e+023;       // Avogadro's number\n",
"c = 3.0e+08;    // Speed of light, m/s\n",
"epsilon_0 = 15; // Dielectric constant of the medium\n",
"m = 2.0e-022;       // Mass of ion, g\n",
"e = 4.8e-010;   // Charge on the ion, C\n",
"rho = 7;    // Average density of solid, g/cc\n",
"A = 120;    // Average atomic weight of solid, g\n",
"N = rho/A*N_A;  // Number of ions per cc, per cm cube\n",
"f_P = 1/(2*%pi)*sqrt(4*%pi*N*e^2/(m*epsilon_0));      // Plasma frequency of vibrating ions in the crystal, Hz\n",
"lambda_P = c/f_P;   // Plasma wavelength of vibrating ions in the crystal, cm\n",
"printf('\nThe plasma frequency of vibrating ions in InSb crystal = %3.1e Hz', f_P);\n",
"printf('\nThe plasma wavelength of vibrating ions in InSb crystal = %3d micron', lambda_P/1e-06);\n",
"printf('\nThe calculated frequency lies in the infrared region.')\n",
"\n",
"// Result \n",
"// The plasma frequency of vibrating ions in InSb crystal = 9.3e+011 Hz\n",
"// The plasma wavelength of vibrating ions in InSb crystal = 323 micron \n",
"// The calculated frequency lies in the infrared region. "
   ]
   }
,
{
		   "cell_type": "markdown",
		   "metadata": {},
		   "source": [
			"## Example 3.17: Debye_temperature_for_diamond.sce"
		   ]
		  },
  {
"cell_type": "code",
	   "execution_count": null,
	   "metadata": {
	    "collapsed": true
	   },
	   "outputs": [],
"source": [
"// Scilab Code Ex3.17: Page-103 (2006)\n",
"clc; clear;\n",
"h = 6.624e-034;     // Planck's constant, Js\n",
"k = 1.38e-023;  // Boltzmann constant, J/mol/K\n",
"q = 1.486e+011;     // Young's modulus of diamond, N/metre-square\n",
"rho = 3500;     // Density of diamond, kg/metre-cube\n",
"c = sqrt(q/rho);    // Speed of transverse wave through diamond, m/s\n",
"m = 12*1.66e-027;      // Atomic weight of carbon, kg\n",
"theta_D = (h/k)*c*(3*rho/(4*%pi*m))^(1/3);    // Debye temperature for diamond, K\n",
"printf('\nThe Debye temperature for diamond = %4d K', theta_D);\n",
"\n",
"// Result \n",
"// The Debye temperature for diamond = 1086 K "
   ]
   }
,
{
		   "cell_type": "markdown",
		   "metadata": {},
		   "source": [
			"## Example 3.1: Grunesien_parameter_for_Pb.sce"
		   ]
		  },
  {
"cell_type": "code",
	   "execution_count": null,
	   "metadata": {
	    "collapsed": true
	   },
	   "outputs": [],
"source": [
"// Scilab Code Ex3.1: Page-79 (2006)\n",
"clc; clear;\n",
"V0 = 9.1e-05;   // Atomic volume of Pb, metre cube per kg\n",
"K = 2.3e-011;   // Compressibility of Pb, metre square per newton\n",
"alpha = 86e-06; // Coefficient of thermal expansion, per K\n",
"Cv = 1.4e+02;   // Specific heat at constant volume, J/kg\n",
"gama = alpha*V0/(K*Cv);    // Grunesien parameter for Pb\n",
"printf('\nThe Grunesien parameter for Pb = %3.1f', gama);\n",
"\n",
"// Result \n",
"// The Grunesien parameter for Pb = 2.4 "
   ]
   }
,
{
		   "cell_type": "markdown",
		   "metadata": {},
		   "source": [
			"## Example 3.2: Heat_capacity_of_Cu.sce"
		   ]
		  },
  {
"cell_type": "code",
	   "execution_count": null,
	   "metadata": {
	    "collapsed": true
	   },
	   "outputs": [],
"source": [
"// Scilab Code Ex3.2: Page-79 (2006)\n",
"clc; clear;\n",
"V0 = 11e-05;   // Atomic volume of Cu, metre cube per kg\n",
"K = 0.75e-011;   // Compressibility of Cu, metre square per newton\n",
"alpha = 49e-06; // Coefficient of thermal expansion, per K\n",
"gama = 1.9;     // The Grunesien parameter for Cu = 2.4 \n",
"Cv = alpha*V0/(K*gama);   // Specific heat of Cu at constant volume, J/kg\n",
"printf('\nThe specific heat capacity of Cu = %3.1e J/kg', Cv);\n",
"\n",
"// Result \n",
"// The specific heat capacity of Cu = 3.8e+02 J/kg "
   ]
   }
,
{
		   "cell_type": "markdown",
		   "metadata": {},
		   "source": [
			"## Example 3.3: Debye_cut_off_frequency_of_Al.sce"
		   ]
		  },
  {
"cell_type": "code",
	   "execution_count": null,
	   "metadata": {
	    "collapsed": true
	   },
	   "outputs": [],
"source": [
"// Scilab Code Ex3.3: Page-88 (2006)\n",
"clc; clear;\n",
"N = 6.02e+26;  // Avogadro's number, per kmole\n",
"C_t = 6.32e+03;     // Velocity of transverse wave, m/s\n",
"C_l = 3.1e+03;     // Velocity of longitudinal wave, m/s\n",
"rho = 2.7e+03;     // Density of Al, kg per metre cube\n",
"M = 26.97;  // Atomic weight of Al, gram per mol\n",
"V = M/rho;  // Atomic volume of Al, metre cube\n",
"f_c = (9*N/(4*%pi*V*(1/C_t^3+2/C_l^3)))^(1/3);\n",
"printf('\nThe Debye cut-off frequency of Al = %4.2e per sec', f_c);\n",
"\n",
"// Result \n",
"// The Debye cut-off frequency of Al = 8.47e+012 per sec "
   ]
   }
,
{
		   "cell_type": "markdown",
		   "metadata": {},
		   "source": [
			"## Example 3.4: Specific_heat_capacity_of_diamond.sce"
		   ]
		  },
  {
"cell_type": "code",
	   "execution_count": null,
	   "metadata": {
	    "collapsed": true
	   },
	   "outputs": [],
"source": [
"// Scilab Code Ex3.4: Page-89 (2006)\n",
"clc; clear;\n",
"N = 6.02e+23;  // Avogadro's number, per mole\n",
"k = 1.38e-023;  // Boltzmann constant, J/K\n",
"R = N*k;    // Molar gas constant, J/mol/K\n",
"theta_D = 2230;        // Debye temperature for diamond, K\n",
"T = 300;        // Room temperature, K\n",
"C_v = 12/5*(%pi^4*R)*(T/theta_D)^3; // Specific heat capacity per unit volume of diamond, J/mol-K\n",
"printf('\nThe heat capacity per unit volume of diamond = %4.2f J/mol-K', C_v);\n",
"\n",
"// Result \n",
"// The heat capacity per unit volume of diamond = 4.73 J/mol-K"
   ]
   }
,
{
		   "cell_type": "markdown",
		   "metadata": {},
		   "source": [
			"## Example 3.5: Debye_cut_off_frequency_of_Be.sce"
		   ]
		  },
  {
"cell_type": "code",
	   "execution_count": null,
	   "metadata": {
	    "collapsed": true
	   },
	   "outputs": [],
"source": [
"// Scilab Code Ex3.5: Page-89 (2006)\n",
"clc; clear;\n",
"k = 1.38e-023;  // Boltzmann constant, J/K\n",
"theta_D = 1440;        // Debye temperature for Be, K\n",
"h = 6.626e-034;     // Planck's constant, Js\n",
"f_D = k*theta_D/h;      // Debye cut off frequency of Be, Hz\n",
"printf('\nThe Debye cut off frequency of Be = %g per sec', f_D);\n",
"\n",
"// Result \n",
"// The Debye cut off frequency of Be = 2.99909e+013 per sec "
   ]
   }
,
{
		   "cell_type": "markdown",
		   "metadata": {},
		   "source": [
			"## Example 3.6: Electronic_and_lattice_heat_capacities_of_Cu.sce"
		   ]
		  },
  {
"cell_type": "code",
	   "execution_count": null,
	   "metadata": {
	    "collapsed": true
	   },
	   "outputs": [],
"source": [
"// Scilab Code Ex3.6: Page-89 (2006)\n",
"clc; clear;\n",
"N = 6.023e+023; // Avogadro's number, per kmol\n",
"e = 1.6e-019;   // Energy equivalent of 1 eV, J/eV\n",
"k = 1.38e-023;  // Boltzmann constant, J/K\n",
"R = N*k;    // Molar gas constant, J/kmol/K\n",
"E_F = 7;    // Fermi energy of Cu, eV\n",
"theta_D = 348;  // Debye temperature of Cu, K\n",
"T = 300;    // Room temperature, K\n",
"T_F = E_F/k;    // Fermi temperature of Cu, K\n",
"C_e = %pi^2/2*R*1e+03*(T/(T_F*e));    // Electronic heat capacity of Cu, J/kmol/K\n",
"C_l = 12/5*(%pi^4*R)*(T/theta_D)^3;     // Lattice heat capacity of Cu, J/kmol/K\n",
"printf('\nThe electronic heat capacity of Cu = %3d J/kmol/K', round(C_e));\n",
"printf('\nThe lattice heat capacity of Cu = %4.2e J/mol/K', C_l);\n",
"\n",
"// Result \n",
"// The electronic heat capacity of Cu = 152 J/kmol/K\n",
"// The lattice heat capacity of Cu = 1.24e+003 J/mol/K "
   ]
   }
,
{
		   "cell_type": "markdown",
		   "metadata": {},
		   "source": [
			"## Example 3.7: Heat_capacities_of_Cu_at_a_given_temperature.sce"
		   ]
		  },
  {
"cell_type": "code",
	   "execution_count": null,
	   "metadata": {
	    "collapsed": true
	   },
	   "outputs": [],
"source": [
"// Scilab Code Ex3.7: Page-90 (2006)\n",
"clc; clear;\n",
"N = 6.023e+023; // Avogadro's number, per kmol\n",
"e = 1.602e-019;   // Energy equivalent of 1 eV, J/eV\n",
"k = 1.38e-023;  // Boltzmann constant, J/K\n",
"R = N*k;    // Molar gas constant, J/kmol/K\n",
"E_F = 7;    // Fermi energy of Cu, eV\n",
"theta_D = 348;  // Debye temperature of Cu, K\n",
"T = 0.01;    // Room temperature, K\n",
"T_F = E_F/k;    // Fermi temperature of Cu, K\n",
"C_e = %pi^2/2*R*(T/(T_F*e));    // Electronic heat capacity of Cu, J/mol/K\n",
"C_l = 12/5*(%pi^4*R)*(T/theta_D)^3;     // Lattice heat capacity of Cu, J/kmol/K\n",
"printf('\nThe electronic heat capacity of Cu = %4.2e J/mol/K', C_e);\n",
"printf('\nThe lattice heat capacity of Cu = %3.1e J/mol/K', C_l);\n",
"\n",
"// Result \n",
"// The electronic heat capacity of Cu = 5.05e-006 J/mol/K\n",
"// The lattice heat capacity of Cu = 4.6e-011 J/mol/K "
   ]
   }
,
{
		   "cell_type": "markdown",
		   "metadata": {},
		   "source": [
			"## Example 3.8: Electronic_specific_heat_of_Na_at_20_K.sce"
		   ]
		  },
  {
"cell_type": "code",
	   "execution_count": null,
	   "metadata": {
	    "collapsed": true
	   },
	   "outputs": [],
"source": [
"// Scilab Code Ex3.8: Page-90 (2006)\n",
"clc; clear;\n",
"N = 6.023e+023; // Avogadro's number, per kmol\n",
"e = 1.602e-019;   // Energy equivalent of 1 eV, J/eV\n",
"k = 1.38e-023;  // Boltzmann constant, J/K\n",
"R = N*k;    // Molar gas constant, J/kmol/K\n",
"E_F = 3.2;    // Fermi energy of Cu, eV\n",
"theta_D = 150;  // Debye temperature of Cu, K\n",
"T = 20;    // Given temperature, K\n",
"T_F = E_F/k;    // Fermi temperature of Cu, K\n",
"C_e = %pi^2/2*R*(T/(T_F*e));    // Electronic heat capacity of Cu, J/mol/K\n",
"C_l = 12/5*(%pi^4*R)*(T/theta_D)^3;     // Lattice heat capacity of Cu, J/kmol/K\n",
"printf('\nThe electronic heat capacity of Na = %5.3e J/mol/K', C_e);\n",
"printf('\nThe lattice heat capacity of Na = %6.4e J/mol/K', C_l);\n",
"\n",
"// Result \n",
"// The electronic heat capacity of Na = 2.208e-002 J/mol/K\n",
"// The lattice heat capacity of Na = 4.6059e+000 J/mol/K "
   ]
   }
,
{
		   "cell_type": "markdown",
		   "metadata": {},
		   "source": [
			"## Example 3.9: Lattice_specific_heat_of_Hf.sce"
		   ]
		  },
  {
"cell_type": "code",
	   "execution_count": null,
	   "metadata": {
	    "collapsed": true
	   },
	   "outputs": [],
"source": [
"// Scilab Code Ex3.9: Page-91 (2006)\n",
"clc; clear;\n",
"N = 6.023e+023; // Avogadro's number, per kmol\n",
"e = 1.602e-019;   // Energy equivalent of 1 eV, J/eV\n",
"k = 1.38e-023;  // Boltzmann constant, J/K\n",
"R = N*k;    // Molar gas constant, J/kmol/K\n",
"E_F = 3.2;    // Fermi energy of Hf, eV\n",
"theta_D = 242;  // Debye temperature of Hf, K\n",
"T_F = E_F/k;    // Fermi temperature of Hf, K\n",
"T = [300, 200, 100, 10, 5]; // Declare a vector of 5 temperature values, K\n",
"printf('\n________________________');\n",
"printf('\nT(K)      C_l (J/kmol/K)');\n",
"printf('\n________________________')\n",
"for i = 1:1:5\n",
"    C_l = 12/5*(%pi^4*R)*(T(i)/theta_D)^3;     // Lattice heat capacity of Hf, J/kmol/K    \n",
"    printf('\n%3d       %8.3f', T(i), C_l);\n",
"end\n",
"printf('\n________________________')\n",
"\n",
"// Result \n",
"// ________________________\n",
"// T(K)      C_l (J/kmol/K)\n",
"// ________________________\n",
"// 300       3701.863\n",
"// 200       1096.848\n",
"// 100        137.106\n",
"//  10          0.137\n",
"//   5          0.017\n",
"// ________________________ "
   ]
   }
],
"metadata": {
		  "kernelspec": {
		   "display_name": "Scilab",
		   "language": "scilab",
		   "name": "scilab"
		  },
		  "language_info": {
		   "file_extension": ".sce",
		   "help_links": [
			{
			 "text": "MetaKernel Magics",
			 "url": "https://github.com/calysto/metakernel/blob/master/metakernel/magics/README.md"
			}
		   ],
		   "mimetype": "text/x-octave",
		   "name": "scilab",
		   "version": "0.7.1"
		  }
		 },
		 "nbformat": 4,
		 "nbformat_minor": 0
}
