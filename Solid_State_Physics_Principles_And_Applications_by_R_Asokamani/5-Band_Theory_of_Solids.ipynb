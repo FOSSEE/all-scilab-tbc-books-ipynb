{
"cells": [
 {
		   "cell_type": "markdown",
	   "metadata": {},
	   "source": [
       "# Chapter 5: Band Theory of Solids"
	   ]
	},
{
		   "cell_type": "markdown",
		   "metadata": {},
		   "source": [
			"## Example 5.10: Electronic_specific_heat_coefficient_of_superconductor.sce"
		   ]
		  },
  {
"cell_type": "code",
	   "execution_count": null,
	   "metadata": {
	    "collapsed": true
	   },
	   "outputs": [],
"source": [
"// Scilab Code Ex5.10: Page-181 (2006)\n",
"clc; clear;\n",
"N_Ef = 1.235;   // Density of states at fermi energy, electrons/atom-eV\n",
"N = 6.023e+23;  // Avogadro's number\n",
"k = 1.38e-23;   // Boltzmann constant, J/mol/K\n",
"e = 1.6e-019;   // Charge on an electron, C\n",
"gama = %pi^2*k^2/3*(N_Ef*N/e);   // Electronic specific heat coefficient, J/g-atom-kelvin square\n",
"\n",
"printf('\nThe electronic specific heat coefficient of superconductor = %5.3f mJ/g-atom-kelvin square', gama/1e-03);\n",
"\n",
"// Result\n",
"// The electronic specific heat coefficient of superconductor = 2.913 mJ/g-atom-kelvin square "
   ]
   }
,
{
		   "cell_type": "markdown",
		   "metadata": {},
		   "source": [
			"## Example 5.11: Electron_phonon_coupling_constant_for_metal.sce"
		   ]
		  },
  {
"cell_type": "code",
	   "execution_count": null,
	   "metadata": {
	    "collapsed": true
	   },
	   "outputs": [],
"source": [
"// Scilab Code Ex5.11: Page-181 (2006)\n",
"clc; clear;\n",
"gamma_expt = 4.84;   // Experimental value of electronic specific heat of metal, mJ/g-atom/K-square\n",
"gamma_theory = 2.991;   // Theoretical value of electronic specific heat of metal, mJ/g-atom/K-square\n",
"L = poly(0, 'L');\n",
"L = roots(gamma_expt - gamma_theory*(1 + L));\n",
"printf('\nThe electron-phonon coupling constant for metal = %5.3f', L);\n",
"\n",
"// Result\n",
"// The electron-phonon coupling constant for metal = 0.618"
   ]
   }
,
{
		   "cell_type": "markdown",
		   "metadata": {},
		   "source": [
			"## Example 5.12: Pauli_spin_susceptibility_of_Mg.sce"
		   ]
		  },
  {
"cell_type": "code",
	   "execution_count": null,
	   "metadata": {
	    "collapsed": true
	   },
	   "outputs": [],
"source": [
"// Scilab Code Ex5.12: Page-181 (2006)\n",
"clc; clear;\n",
"mu_B = 9.24e-027; // Bohr's magneton, J/T\n",
"N_Ef = 0.826;   // Density of states at fermi energy, electrons/atom-eV\n",
"N = 6.023e+23;  // Avogadro's number\n",
"e = 1.6e-019;   // Energy equivalent of 1 eV, J\n",
"chi_Pauli = mu_B^2*N_Ef*N/e;\n",
"printf('\nPauli spin susceptibility of Mg = %5.2e cgs units', chi_Pauli/1e-03);\n",
"\n",
"// Result\n",
"// Pauli spin susceptibility of Mg = 2.65e-07 cgs units "
   ]
   }
,
{
		   "cell_type": "markdown",
		   "metadata": {},
		   "source": [
			"## Example 5.1: Fermi_energy_of_Na_and_K.sce"
		   ]
		  },
  {
"cell_type": "code",
	   "execution_count": null,
	   "metadata": {
	    "collapsed": true
	   },
	   "outputs": [],
"source": [
"// Scilab Code Ex5.1: Page-176 (2006)\n",
"clc; clear;\n",
"h = 6.626e-34;  // Planck's constant, Js\n",
"h_bar = h/(2*%pi);  // Reduced Planck's constant, Js\n",
"e = 1.6e-019;   // Energy equivalent of 1 eV, J/eV\n",
"m = 9.1e-031;   // Mass of an electron, kg\n",
"\n",
"\n",
"// For Na\n",
"n_Na = 2.65e+28;    // electronic concentration of Na, per metre cube\n",
"k_F = (3*%pi^2*n_Na)^(1/3);    // Fermi wave vector, per cm\n",
"E_F = h_bar^2*k_F^2/(2*m*e);  // Fermi energy of Na, eV\n",
"printf('\nThe fermi energy of Na = %4.2f eV', E_F);\n",
"printf('\nThe band structure value of Na = %4.2f eV', 0.263*13.6);\n",
"// For K\n",
"n_K = 1.4e+28;  // electronic concentration of K, per metre cube\n",
"k_F = (3*%pi^2*n_K)^(1/3);    // Fermi wave vector, per cm\n",
"E_F = h_bar^2*k_F^2/(2*m*e);  // Fermi energy of K, eV\n",
"printf('\nThe fermi energy of K = %4.2f eV', E_F);\n",
"printf('\nThe band structure value of K = %4.2f eV', 0.164*13.6);\n",
"printf('\nThe agreement between the free electron and band theoretical values are fairly good both for Na and K');\n",
"\n",
"\n",
"// Result\n",
"// The fermi energy of Na = 3.25 eV\n",
"// The band structure value of Na = 3.58 eV\n",
"// The fermi energy of K = 2.12 eV\n",
"// The band structure value of K = 2.23 eV\n",
"// The agreement between the free electron and band theoretical values are fairly good both for Na and K "
   ]
   }
,
{
		   "cell_type": "markdown",
		   "metadata": {},
		   "source": [
			"## Example 5.3: Fermi_momentum_of_Na.sce"
		   ]
		  },
  {
"cell_type": "code",
	   "execution_count": null,
	   "metadata": {
	    "collapsed": true
	   },
	   "outputs": [],
"source": [
"// Scilab Code Ex5.3: Page-177 (2006)\n",
"clc; clear;\n",
"n_Na = 2.65e+22;    // electronic concentration of Na, per cm cube\n",
"k_F = (3*%pi^2*n_Na)^(1/3);    // Fermi wave vector, per cm\n",
"printf('\nThe fermi momentum of Na = %4.2e per cm', k_F);\n",
"\n",
"// Result\n",
"// The fermi momentum of Na = 9.22e+07 per cm "
   ]
   }
,
{
		   "cell_type": "markdown",
		   "metadata": {},
		   "source": [
			"## Example 5.5: Energy_separation_between_adjacent_energy_levels.sce"
		   ]
		  },
  {
"cell_type": "code",
	   "execution_count": null,
	   "metadata": {
	    "collapsed": true
	   },
	   "outputs": [],
"source": [
"// Scilab Code Ex5.5: Page-177 (2006)\n",
"clc; clear;\n",
"h = 6.626e-34;  // Planck's constant, Js\n",
"h_bar = h/(2*%pi);  // Reduced Planck's constant, Js\n",
"e = 1.6e-019;   // Energy equivalent of 1 eV, J/eV\n",
"m = 9.1e-031;   // Mass of an electron, kg\n",
"V = 1.0e-06; // Volume of unit cube of material, metre cube\n",
"\n",
"// For Mg\n",
"E_F = 7.13*e;  // Fermi energy of Mg, J\n",
"s = 2*%pi^2/(e*V)*(h_bar^2/(2*m))^(3/2)*(E_F)^(-1/2);  // Energy separation between levels for Mg, eV\n",
"printf('\nThe energy separation between adjacent levels for Mg = %5.3e eV', s);\n",
"\n",
"// For Cs\n",
"E_F = 1.58*e;  // Fermi energy of Cs, J\n",
"s = 2*%pi^2/(e*V)*(h_bar^2/(2*m))^(3/2)*(E_F)^(-1/2);  // Energy separation between levels for Cs, eV\n",
"printf('\nThe energy separation between adjacent levels for Cs = %5.3e eV', s);\n",
"\n",
"\n",
"// Result\n",
"// The energy separation between adjacent levels for Mg = 5.517e-23 eV\n",
"// The energy separation between adjacent levels for Cs = 1.172e-22 eV"
   ]
   }
,
{
		   "cell_type": "markdown",
		   "metadata": {},
		   "source": [
			"## Example 5.9: Coupling_constant_of_superconducting_lead.sce"
		   ]
		  },
  {
"cell_type": "code",
	   "execution_count": null,
	   "metadata": {
	    "collapsed": true
	   },
	   "outputs": [],
"source": [
"// Scilab Code Ex5.9: Page-180 (2006)\n",
"clc; clear;\n",
"\n",
"gamma_expt = 7.0e-04;   // Experimental value of electronic specific heat, cal/mol/K-square\n",
"gamma_theory = 3.6e-04;   // Theoretical value of electronic specific heat, cal/mol/K-square\n",
"L = poly(0, 'L');\n",
"L = roots(gamma_expt - gamma_theory*(1 + L));\n",
"printf('\nThe electron-phonon coupling constant of superconductor = %3.1f', L);\n",
"\n",
"// Result\n",
"// The electron-phonon coupling constant of superconductor = 0.9 "
   ]
   }
],
"metadata": {
		  "kernelspec": {
		   "display_name": "Scilab",
		   "language": "scilab",
		   "name": "scilab"
		  },
		  "language_info": {
		   "file_extension": ".sce",
		   "help_links": [
			{
			 "text": "MetaKernel Magics",
			 "url": "https://github.com/calysto/metakernel/blob/master/metakernel/magics/README.md"
			}
		   ],
		   "mimetype": "text/x-octave",
		   "name": "scilab",
		   "version": "0.7.1"
		  }
		 },
		 "nbformat": 4,
		 "nbformat_minor": 0
}
