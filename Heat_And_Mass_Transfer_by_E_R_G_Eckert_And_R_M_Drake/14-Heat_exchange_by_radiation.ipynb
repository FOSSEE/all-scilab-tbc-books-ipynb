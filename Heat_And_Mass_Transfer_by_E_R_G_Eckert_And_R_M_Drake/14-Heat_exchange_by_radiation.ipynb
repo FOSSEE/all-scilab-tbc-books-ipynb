{
"cells": [
 {
		   "cell_type": "markdown",
	   "metadata": {},
	   "source": [
       "# Chapter 14: Heat exchange by radiation"
	   ]
	},
{
		   "cell_type": "markdown",
		   "metadata": {},
		   "source": [
			"## Example 14.1: Radiation_between_two_walls.sci"
		   ]
		  },
  {
"cell_type": "code",
	   "execution_count": null,
	   "metadata": {
	    "collapsed": true
	   },
	   "outputs": [],
"source": [
"clc();\n",
"clear;\n",
" \n",
" // To calculate the heat exchange by radiation between two walls \n",
" \n",
" t1 = 212;                      // Temperature of contents in the bottle in F\n",
" t2 = 68;                       // Ambient temperature in F\n",
" \n",
" e = 0.02 ;                     // Emmisivity of silver\n",
" e12 = 1/(2/e-1);               // Exchange factor\n",
"  s = 0.173*10^-8;              // Stephens boltzmanns constant\n",
"  \n",
" q = s*e12*((t1+460)^4-(t2+460)^4);    // Heat loss in Btu/hr\n",
" printf('The heat flow per unit area of the inner wall is %.2f Btu/hr-ft^2',q);"
   ]
   }
,
{
		   "cell_type": "markdown",
		   "metadata": {},
		   "source": [
			"## Example 14.2: Radiation_of_flames.sci"
		   ]
		  },
  {
"cell_type": "code",
	   "execution_count": null,
	   "metadata": {
	    "collapsed": true
	   },
	   "outputs": [],
"source": [
"clc();\n",
"clear;\n",
" \n",
" // To calculate the heat exchange by radiation between two walls \n",
" \n",
" t1 = 2500;                     // Temperature of saturated steam in F\n",
" t2 = 600;                      // Temperature of tube wall in F\n",
" p = 0.87;                      // Emperical factor\n",
" A = 148.5;                     // Area of tube walls \n",
" A1 = 168.8;                    // Area of walls lined with cooling tubes\n",
" e = 0.8 ;                     // Emmisivity of silver\n",
"  s = 0.173*10^-8;              // Stephens boltzmanns constant\n",
"  \n",
" q = p*s*e*A*((t1+460)^4-(t2+460)^4);    // Heat loss in Btu/hr\n",
" L = 649.4;                               // Latent heat of vapourization in Btu/lb\n",
" m = q/L;                                 // Generation of steam in lb/hr\n",
" A2 = A1*%pi/2;                           // Area of tube in ft^2\n",
" h = q/A2;                                // Heat absorption rate\n",
" printf('The heat absorption per square foot of tube area is %d Btu/hr-ft^2' ,h);\n",
" \n",
" \n",
" "
   ]
   }
,
{
		   "cell_type": "markdown",
		   "metadata": {},
		   "source": [
			"## Example 14.3: Heat_transfer_coefficient_for_radiation.sci"
		   ]
		  },
  {
"cell_type": "code",
	   "execution_count": null,
	   "metadata": {
	    "collapsed": true
	   },
	   "outputs": [],
"source": [
"clc();\n",
"clear;\n",
"\n",
"// To find the division of the heating surface\n",
" t1 = 2500;                    // temperature of contenets of the bottle in F\n",
" t2 = 600;                     // Ambient temperature in F\n",
" e1 = 0.048;                   // Interchange factor in 1800 F\n",
" e2 = 0.044;                   // Interchange factor in 600 F\n",
" e = 0.94;                     // Emmisivity of walls\n",
" p = 1;                        // Emperical factor \n",
" F = 2*0.88;                    // Shape factor\n",
" s = 0.173*10^-8;              // Stephens boltzmanns constant\n",
" \n",
" h = s*e*p*F*((t1+460)^4-(t2+460)^4)/(%pi*(t1-t2));       \n",
" // Heat transfer coefficient \n",
" \n",
" \n",
" // Heat transfer for the tubes within the convective surface\n",
" // Radiation of CO2 and waterin the combustion gases \n",
" L = 0.5;                       // Eqivalent length of gas layer\n",
" Tg = 1800;                     // Gas temperature in F\n",
" Tw = 600;                      // Surface temperature of tubes in F\n",
" \n",
" // From the table the emmisivity of carbon dioxide can be known\n",
" ec1 = 0.06;                    // Emmmisivity of CO2 at 1800F\n",
" ec2 = 0.055;                   // Emmisivity of Co2 at 600F\n",
" ew = 0.8;                      // Emmisivity of tube wall \n",
" qc = s*ew*p*(ec1*(Tg+460)^4-ec2*(t2+460)^4);\n",
" // Heat loss by carbon dioxide in Btu/hr\n",
" \n",
"// From the table the emmisivity of water can be known\n",
" eh1 = 0.0176;                    // Emmmisivity of water at 1800F\n",
" eh2 = 0.0481;                    // Emmisivity of water at 600F\n",
" qh = s*ew*p*(eh1*(Tg+460)^4-eh2*(t2+460)^4);\n",
" // Heat loss by water in Btu/hr\n",
" \n",
" qg = qc + qh;                     // Heat heat flow by gas radiation\n",
" hg = qg/(Tg-t2);                  // Heat transfer coeffcoent by gas radiation\n",
" printf('The heat transfer coefficient by gas radiation is %.2f Btu/hr-ft^2 \n',hg);\n",
" \n",
" // Heat transfer by convection can be found out using values iun the table\n",
" hc = 8.14;                         // Heat transfer by convection in Btu/hr-ft^2-F\n",
"  printf(' The heat transfer coefficient by gas radiation is %.2f Btu/hr-ft^2\n',hc);\n",
"  \n",
" ht = hc + hg;                     // Total heat transfer coefficient for convective surface\n",
" \n",
" printf('The covective surface have greater heat transfer coefficients than the radiating surface. Therefore it is advantageous to line the whole combustion chamber with narrowly spaced cooling tubes');\n",
" \n",
"           \n",
" \n",
" \n",
" \n",
" \n",
" \n",
" "
   ]
   }
],
"metadata": {
		  "kernelspec": {
		   "display_name": "Scilab",
		   "language": "scilab",
		   "name": "scilab"
		  },
		  "language_info": {
		   "file_extension": ".sce",
		   "help_links": [
			{
			 "text": "MetaKernel Magics",
			 "url": "https://github.com/calysto/metakernel/blob/master/metakernel/magics/README.md"
			}
		   ],
		   "mimetype": "text/x-octave",
		   "name": "scilab",
		   "version": "0.7.1"
		  }
		 },
		 "nbformat": 4,
		 "nbformat_minor": 0
}
