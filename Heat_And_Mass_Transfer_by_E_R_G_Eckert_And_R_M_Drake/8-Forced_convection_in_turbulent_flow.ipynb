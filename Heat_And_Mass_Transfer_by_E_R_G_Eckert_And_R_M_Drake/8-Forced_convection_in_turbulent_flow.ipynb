{
"cells": [
 {
		   "cell_type": "markdown",
	   "metadata": {},
	   "source": [
       "# Chapter 8: Forced convection in turbulent flow"
	   ]
	},
{
		   "cell_type": "markdown",
		   "metadata": {},
		   "source": [
			"## Example 8.1: Analogy_between_momentum_and_heat.sci"
		   ]
		  },
  {
"cell_type": "code",
	   "execution_count": null,
	   "metadata": {
	    "collapsed": true
	   },
	   "outputs": [],
"source": [
"clc();\n",
"clear;\n",
"\n",
"// To find the amount of heat transferred to the air \n",
"\n",
"Tw = 200;                         // Wall temperature in F\n",
"delp = 14.2;                      // Pressure pressure in lb/in^2\n",
"d = 0.8/12;                       // Diameter in ft\n",
"R = delp*%pi*d^2/4;               // resistance of tube\n",
"Tb = 137;                         // bulk temperature of wall in F\n",
"\n",
"q = R*32.2*0.24*3600*(Tw-Tb)/100;      // Heat loss in Btu/hr\n",
"printf('The heat loss from the tube well to the air when the plate is heated to a temperature of 200 F is %d Btu/hr',q);\n",
"\n",
"\n",
"\n",
"\n",
"\n",
"\n",
" "
   ]
   }
,
{
		   "cell_type": "markdown",
		   "metadata": {},
		   "source": [
			"## Example 8.2: Flow_in_a_tube.sci"
		   ]
		  },
  {
"cell_type": "code",
	   "execution_count": null,
	   "metadata": {
	    "collapsed": true
	   },
	   "outputs": [],
"source": [
"clc();\n",
"clear;\n",
"\n",
"// To find the extent of heating of water and heat transfer \n",
"\n",
"d = 0.24/12;                    // Diameter of tubes in ft\n",
"l = 24/12;                      // Length of tubes in ft\n",
"v = 3;                          // velocity of cooling water in ft/sec\n",
"T = 140;                        // Temperature of cooling water in F\n",
"n = 0.514*10^-5;                // Kinematic viscosity in ft^2/sec\n",
"Pr = 3.02;                      // Prandtls number\n",
"k = 0.376;                      // Thermal conductivity in Btu/hr-ft-F\n",
"Re = d*v/n;                     // Reynolds number \n",
"A = 1.5;                        // Experimental constant\n",
"// Turbulent flow\n",
"// Greater part of the flow is developed , A=1.5 from the table\n",
"\n",
"St = 0.0384*(v*d/n)^-(1/4)/(1+A*(v*d/n)^-(1/8)*(Pr-1));   // Strantons number\n",
"Nu = Re*Pr*St;                                            // Nusselt number\n",
"h = Nu*k/d;                               // Heat transfer coefficient  \n",
"\n",
"printf('The heat transfer coefficient of heating of waterr is %d Btu/hr-ft^2-F',h);\n",
""
   ]
   }
,
{
		   "cell_type": "markdown",
		   "metadata": {},
		   "source": [
			"## Example 8.3: plane_plate_in_longitudinal_flow.sci"
		   ]
		  },
  {
"cell_type": "code",
	   "execution_count": null,
	   "metadata": {
	    "collapsed": true
	   },
	   "outputs": [],
"source": [
"clc();\n",
"clear;\n",
"\n",
"// To find the heat transfer coefficient at x = 12 in.\n",
"\n",
"Tp = 176;                    // Temperature of plate in F\n",
"Ta = 68;                     // Tempearture of air stream in F\n",
"Tm = (Tp+Ta)/2;              // Maen temperature in F\n",
"u = 30;                      // Velocity in fps\n",
"n = 19.45*10^-5;             // Dynamic visosity in ft^2/sec\n",
"v = 30;                      // Velocity in fps\n",
"Pr = 0.703;                  // Prandtls number\n",
"x = 12/12;                   // distance in ft\n",
"k = 0.0162;                  // Thermal conductivity in Btu/hr-ft^2-F\n",
"Re = v*x/n;                  // Reynolds number\n",
"// The boundary layer must be laminar or turbulent\n",
"\n",
"St =  0.0296*(Re)^-(1/5)/(1+1.75*0.87*(Re)^-(1/10)*(Pr-1));   // Strantons number\n",
"Nu = Re*Pr*St;                            // Nusselt number\n",
"h = Nu*k/x;                               // Heat transfer coefficient  \n",
"\n",
"printf('The heat transfer coefficient of heating of water for laminar is %.2f Btu/hr-ft^2-F',h)\n",
"\n",
"// If the flow is laminar \n",
"Nu1 = 0.332*Re^(1/2)*Pr^(1/3);             // Nusselt number\n",
"h1 = Nu1*k/x;                              // Heat transfer coefficient\n",
"printf(' \n The heat transfer coefficient for turbilent layer is %.2f Btu/hr',h1);\n",
""
   ]
   }
],
"metadata": {
		  "kernelspec": {
		   "display_name": "Scilab",
		   "language": "scilab",
		   "name": "scilab"
		  },
		  "language_info": {
		   "file_extension": ".sce",
		   "help_links": [
			{
			 "text": "MetaKernel Magics",
			 "url": "https://github.com/calysto/metakernel/blob/master/metakernel/magics/README.md"
			}
		   ],
		   "mimetype": "text/x-octave",
		   "name": "scilab",
		   "version": "0.7.1"
		  }
		 },
		 "nbformat": 4,
		 "nbformat_minor": 0
}
