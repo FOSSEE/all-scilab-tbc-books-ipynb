{
"cells": [
 {
		   "cell_type": "markdown",
	   "metadata": {},
	   "source": [
       "# Chapter 1: Introduction"
	   ]
	},
{
		   "cell_type": "markdown",
		   "metadata": {},
		   "source": [
			"## Example 1.1: Thermal_resistance.sci"
		   ]
		  },
  {
"cell_type": "code",
	   "execution_count": null,
	   "metadata": {
	    "collapsed": true
	   },
	   "outputs": [],
"source": [
"clc();\n",
"clear;\n",
"\n",
"// To calculate the overall thermal resistance and overall heat transfer coefficient\n",
"\n",
"b = 0.5/12;                        // Thickness of iron wall in ft\n",
"k = 30;                            // Thermal conductivity in Btu/hr-ft    \n",
"h1 = 2;                            // Heat transfer coefficient in Btu/hr-ft   \n",
"h2 = 2;                            // Heat transfer coefficient in Btu/hr-ft  \n",
"R = (1/h1)+(1/h2)+(b/k);           // Overall thermal resistance*Area in hr-F/Btu ie. (R/A)\n",
"U = 1/R;                           // Overall heat transfer coeficient in Btu/hr-ft^2-F\n",
"                    \n",
"printf('The overall thermal resistance is %.4f/A hr-F/Btu/A, where A is the area of wall  \n',R);\n",
"printf(' The overall heat transfer coefficient is %d Btu/hr-ft^2-F',round(U));                                                "
   ]
   }
,
{
		   "cell_type": "markdown",
		   "metadata": {},
		   "source": [
			"## Example 1.2: Overall_heat_transfer_coefficient.sci"
		   ]
		  },
  {
"cell_type": "code",
	   "execution_count": null,
	   "metadata": {
	    "collapsed": true
	   },
	   "outputs": [],
"source": [
"clc();\n",
"clear;\n",
"\n",
"// To calculate the thermal resistance\n",
"\n",
"b1 = 0.5/12;                        // Thickness of iron wall in ft\n",
"b2 = 0.0005/12;                     // Thickness of air gap in ft    \n",
"b3 = 1/12;                          // Thickness of aluminium wall in ft    \n",
"k1 = 30;                            // Thermal conductivity in Btu/hr-ft^2-F\n",
"k2 = 0.015;                         // Thermal conductivity in Btu/hr-ft^2-F\n",
"k3 = 118;                           // Thermal conductivity in Btu/hr-ft^2-F   \n",
"R = (b1/k1)+(b2/k2)+(b3/k3);        // Thermal resistance*Area\n",
"\n",
"printf('The overall thermal resistance of composite wall is %f/A hr-F/Btu, A being the area of wall in ft^2',R);  "
   ]
   }
,
{
		   "cell_type": "markdown",
		   "metadata": {},
		   "source": [
			"## Example 1.3: Heat_exchanger.sci"
		   ]
		  },
  {
"cell_type": "code",
	   "execution_count": null,
	   "metadata": {
	    "collapsed": true
	   },
	   "outputs": [],
"source": [
"clc();\n",
"clear;\n",
"\n",
"// To calculate the size of heating surface\n",
"\n",
"m1 = 100;                            // Flow rate of water in lb/hr\n",
"ta1 = 50;                            // Initial temperature of water in F\n",
"ta2 = 170;                           // Final temperature of water\n",
"Cp1 = 1;                             // Heat capacity of water in Btu/lb-F\n",
"te1 = 330;                           // Initial temperatutre in flue gases in F\n",
"m2 = 400;                            // Mass flow rate of flue gases in lb/hr\n",
"Cp2 = .25;                           // Heat capacity of flue gases in Btu/lb-F\n",
"q = m1*Cp1*(ta2-ta1);                // Heat absorbed by water in Btu\n",
"te2 = te1-q/(m2*Cp2);                // Final temperature of flue gases in F\n",
"U = 20;                              // Overall heat transfer in Btu/hr-ft^2-F \n",
"\n",
"// For parallel flow\n",
"delte = te1-ta1;                     // Flue tempearture difference in F\n",
"delta = te2-ta2;                     // Water temperature difference in F\n",
"\n",
"// Seeing the value of delte/delta=7, we can attain the value of a\n",
"a1 = 0.77;\n",
"deltm = (delte + delta)/2;           // Arithmetic mean in F    \n",
"LMTD1 = a1*deltm;                     // Log mean temperature diffference\n",
"A1 = q/(U*LMTD1);                    // Area in ft^2\n",
"printf('The area of heat exchanger for parallel flow is %.2f ft^2 \n ',A1);\n",
"\n",
"// for counterflow\n",
"delte = te1-te2;                     // Flue tempearture difference in F\n",
"delta = ta1-ta2;                     // Water temperature difference in F\n",
"\n",
"// Seeing the value of delte/dela=1, a=1.\n",
"a2 = 1;\n",
"LMTD2 = a2*deltm;                      // Log mean temperature diffference\n",
"A2 = q/(U*LMTD2);                      // Area in ft^2\n",
"printf('The area of heat exchanger for counterflow flow is %.2f ft^2 \n ',A2);\n",
"\n",
"// For cross flow\n",
"delte = te1-ta1;                     // Flue tempearture difference in F\n",
"delta = te2-ta2;                     // Water temperature difference in F\n",
"\n",
"// Seeing the value of delta/delte=0.143, we can attain the value of a=0.939\n",
"a3 = 0.939;\n",
"deltm = (delte + delta)/2;           // Arithmetic mean in F    \n",
"LMTD3 = a3*deltm;                    // Log mean temperature diffference\n",
"A3 = q/(U*LMTD3);                    // Area in ft^2\n",
"printf('The area of heat exchanger for cross flow is %.2f ft^2 \n ',A3);\n",
"\n",
"\n",
"\n",
"\n",
"\n",
"\n",
"\n",
"\n",
"\n",
" "
   ]
   }
],
"metadata": {
		  "kernelspec": {
		   "display_name": "Scilab",
		   "language": "scilab",
		   "name": "scilab"
		  },
		  "language_info": {
		   "file_extension": ".sce",
		   "help_links": [
			{
			 "text": "MetaKernel Magics",
			 "url": "https://github.com/calysto/metakernel/blob/master/metakernel/magics/README.md"
			}
		   ],
		   "mimetype": "text/x-octave",
		   "name": "scilab",
		   "version": "0.7.1"
		  }
		 },
		 "nbformat": 4,
		 "nbformat_minor": 0
}
