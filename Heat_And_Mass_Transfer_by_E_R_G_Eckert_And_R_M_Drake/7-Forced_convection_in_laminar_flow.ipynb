{
"cells": [
 {
		   "cell_type": "markdown",
	   "metadata": {},
	   "source": [
       "# Chapter 7: Forced convection in laminar flow"
	   ]
	},
{
		   "cell_type": "markdown",
		   "metadata": {},
		   "source": [
			"## Example 7.1: Plate_in_longitudinal_flow.sci"
		   ]
		  },
  {
"cell_type": "code",
	   "execution_count": null,
	   "metadata": {
	    "collapsed": true
	   },
	   "outputs": [],
"source": [
"clc();\n",
"clear;\n",
"\n",
"\n",
"// to calculate the heat tranaferv coefficient for a plate in an air stream\n",
"\n",
"x = 4/12;                    // distance from leading edge in ft\n",
"u = 33;                      // air velocity in fps\n",
"Ts = 125;                    // \n",
"Tw = 255;                    // surface temperature in F\n",
"k = 0.0178;                  // Thermal conductivity in Btu/hr-ft-F\n",
"Re = 46600;                  // Reynolds number\n",
"Pr = 0.695;                  // Prandtls number\n",
"\n",
"Nu = 0.332*Re^.5*Pr^(1/3);    // Nusselt number\n",
"h = Nu*k/x;                  // Local heat transfer coefficient\n",
"ha = h*12;                   // Heat transfer coefficient average\n",
"b = 1;                       // Width of plate in ft\n",
"x = 4/12;                    // Length of plate\n",
"\n",
"q = ha*b*x*(Ts-Tw);          // Heat loss in Btu/hr\n",
"\n",
"printf('The heat transfer coefficient for a plate in an air stream is %.2f Btu/hr-ft^2-F ',h);\n",
""
   ]
   }
],
"metadata": {
		  "kernelspec": {
		   "display_name": "Scilab",
		   "language": "scilab",
		   "name": "scilab"
		  },
		  "language_info": {
		   "file_extension": ".sce",
		   "help_links": [
			{
			 "text": "MetaKernel Magics",
			 "url": "https://github.com/calysto/metakernel/blob/master/metakernel/magics/README.md"
			}
		   ],
		   "mimetype": "text/x-octave",
		   "name": "scilab",
		   "version": "0.7.1"
		  }
		 },
		 "nbformat": 4,
		 "nbformat_minor": 0
}
