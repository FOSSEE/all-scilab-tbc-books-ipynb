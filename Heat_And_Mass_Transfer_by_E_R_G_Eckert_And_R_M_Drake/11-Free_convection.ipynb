{
"cells": [
 {
		   "cell_type": "markdown",
	   "metadata": {},
	   "source": [
       "# Chapter 11: Free convection"
	   ]
	},
{
		   "cell_type": "markdown",
		   "metadata": {},
		   "source": [
			"## Example 11.1: Laminar_heat_transfer.sci"
		   ]
		  },
  {
"cell_type": "code",
	   "execution_count": null,
	   "metadata": {
	    "collapsed": true
	   },
	   "outputs": [],
"source": [
"clc();\n",
"clear;\n",
"\n",
"// To calculate the local heat transfer coefficient \n",
"\n",
"Ts = 200;                            // Temperature of steam in F\n",
"Ta = 68;                             // Air temerature in F\n",
"n = 24.21*10^-5;                     // Kinematic viscosity in ft^2/sec\n",
"k = 0.0181;                          // Thermal conductivity in Btu/hr-ft-F\n",
"g = 32.2;                            // Gravity \n",
"b = 1/528;                           // Expansion coefficient\n",
"x = 8/12;                            // Distance from lower end\n",
"th = Ts-Ta;                          // Temperature difference in F\n",
"Gr = g*b*th*x^3/(n^2);               // Grashops number\n",
"Pr = 0.694;                          // Prandtls number\n",
"del = x*3.93*Pr^(-0.5)*((0.952+Pr)^1/4)*Gr^(-0.25);    \n",
"// Boundary layer thickness\n",
"h = 2*k/del;                         // film heat transfer coefficient\n",
"hav = 4*h/3;                         // Avg heat transfer cioefficient\n",
"printf('The average heat transfer coefficient over the length of 8 in. is %.2f Btu/hr-ft^2-F',h);\n",
"\n",
"\n",
"\n",
"\n",
"\n",
""
   ]
   }
],
"metadata": {
		  "kernelspec": {
		   "display_name": "Scilab",
		   "language": "scilab",
		   "name": "scilab"
		  },
		  "language_info": {
		   "file_extension": ".sce",
		   "help_links": [
			{
			 "text": "MetaKernel Magics",
			 "url": "https://github.com/calysto/metakernel/blob/master/metakernel/magics/README.md"
			}
		   ],
		   "mimetype": "text/x-octave",
		   "name": "scilab",
		   "version": "0.7.1"
		  }
		 },
		 "nbformat": 4,
		 "nbformat_minor": 0
}
