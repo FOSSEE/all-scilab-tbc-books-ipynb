{
"cells": [
 {
		   "cell_type": "markdown",
	   "metadata": {},
	   "source": [
       "# Chapter 10: Special heat transfer processes"
	   ]
	},
{
		   "cell_type": "markdown",
		   "metadata": {},
		   "source": [
			"## Example 10.1: Dimensional_analysis.sci"
		   ]
		  },
  {
"cell_type": "code",
	   "execution_count": null,
	   "metadata": {
	    "collapsed": true
	   },
	   "outputs": [],
"source": [
"clc();\n",
"clear;\n",
"\n",
"// To calculate the heat transfer coefficient from the plate to the air\n",
"\n",
"Tw = 196;                    // Temperature of plate in F\n",
"Ts = 79;                     // Temperature of the air in F\n",
"u = 587;                     // velocity in air in fps\n",
"x = 4/12;                    // Length of plate in ft\n",
"n = 20.4*10^-5;              // Kinematic velocity \n",
"Cp = 1200;                   // Specific heat capacity \n",
"Re = u*x/n;                  // Reynolds number\n",
"r = 0.845;                   // Temperature recovery factor\n",
"tr = Ts+r*u*u/Cp;            // Dynamic temperature in F\n",
"Pr = 0.697;                  // Pradtls number\n",
"p = 0.0657;                  // Density in lb/ft^3\n",
"t = 144.1;                   // Corresponding temperature in F\n",
"St =  0.0296*(Re)^-(1/5)/(1+1.75*0.87*(Re)^-(1/10)*(Pr-1));   \n",
"// Strantons number\n",
"\n",
"h = p*u*St*3600;                 // Heat transfer coefficient  \n",
"hav = 1.215*h;                  // Average heat transfer coefficient\n",
"\n",
"printf('The heat transfer coefficient from the palte to the air is %.1f Btu/hr-ft^2-F',hav);  "
   ]
   }
],
"metadata": {
		  "kernelspec": {
		   "display_name": "Scilab",
		   "language": "scilab",
		   "name": "scilab"
		  },
		  "language_info": {
		   "file_extension": ".sce",
		   "help_links": [
			{
			 "text": "MetaKernel Magics",
			 "url": "https://github.com/calysto/metakernel/blob/master/metakernel/magics/README.md"
			}
		   ],
		   "mimetype": "text/x-octave",
		   "name": "scilab",
		   "version": "0.7.1"
		  }
		 },
		 "nbformat": 4,
		 "nbformat_minor": 0
}
