{
"cells": [
 {
		   "cell_type": "markdown",
	   "metadata": {},
	   "source": [
       "# Chapter 12: Condensation and evaporation"
	   ]
	},
{
		   "cell_type": "markdown",
		   "metadata": {},
		   "source": [
			"## Example 12.1: Film_coefficient.sci"
		   ]
		  },
  {
"cell_type": "code",
	   "execution_count": null,
	   "metadata": {
	    "collapsed": true
	   },
	   "outputs": [],
"source": [
"clc();\n",
"clear;\n",
" \n",
" // To calculate the heat transfer coefficient \n",
" \n",
"L = 1029;                    // Heat of evaporation in Btu/lb\n",
"n = 0.654*10^-5;             // Kinematic viscosity in Btu/hr-ft-F            \n",
"p = 62;                      // density in lb/ft^3\n",
"k = 0.367;                   // Thermal conductivity in Btu/hr-ft^2-F\n",
"g = 32.2;                    // Gravity\n",
"x = 3/12;                    // Distance from upper edge in ft\n",
"ts = 114;                    // Saturation temperature in F\n",
"tw = 105;                    // Wall temperature in F\n",
"\n",
"h = (g*k^3*p*L*3600/(4*n*x*(ts-tw)))^0.25;    // Heat transfer coefficient\n",
"hav = h*4/3;                                   // Avg heat transfer coefficient\n",
"\n",
"printf('The average heat transfer coefficient is %d Btu/hr-ft^2-F',hav);\n",
"\n",
"\n",
""
   ]
   }
,
{
		   "cell_type": "markdown",
		   "metadata": {},
		   "source": [
			"## Example 12.2: Vertical_wall.sci"
		   ]
		  },
  {
"cell_type": "code",
	   "execution_count": null,
	   "metadata": {
	    "collapsed": true
	   },
	   "outputs": [],
"source": [
"clc();\n",
"clear;\n",
" \n",
" // To calculate the heat exchange by radiatiojn between two walls \n",
" \n",
" t1 = 2500;                   // Temperature of saturated steam in F\n",
" t2 = 600;                    // External temperature of tube walls in F\n",
" e = 0.8;                     // Emmisivity of tube wall arrangement\n",
" p = 0.87;                    // Emperical factor\n",
" A = 148.5;                   // Area of the wall in ft^2\n",
" s = 0.173*10^-8;             // Stephens boltzmanns constant\n",
" q = s*e*A*p*(((t1+460)^4)-((t2+460)^4));    // heat loss in Btu/hr\n",
" \n",
" printf('The heat exchange per unit area is %.2f Btu/hr',q);\n",
" "
   ]
   }
],
"metadata": {
		  "kernelspec": {
		   "display_name": "Scilab",
		   "language": "scilab",
		   "name": "scilab"
		  },
		  "language_info": {
		   "file_extension": ".sce",
		   "help_links": [
			{
			 "text": "MetaKernel Magics",
			 "url": "https://github.com/calysto/metakernel/blob/master/metakernel/magics/README.md"
			}
		   ],
		   "mimetype": "text/x-octave",
		   "name": "scilab",
		   "version": "0.7.1"
		  }
		 },
		 "nbformat": 4,
		 "nbformat_minor": 0
}
