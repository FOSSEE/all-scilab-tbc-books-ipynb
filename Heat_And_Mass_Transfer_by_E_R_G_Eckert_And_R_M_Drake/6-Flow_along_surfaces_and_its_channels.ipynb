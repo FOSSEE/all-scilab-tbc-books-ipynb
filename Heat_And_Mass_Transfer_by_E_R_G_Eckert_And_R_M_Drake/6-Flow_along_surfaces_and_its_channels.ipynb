{
"cells": [
 {
		   "cell_type": "markdown",
	   "metadata": {},
	   "source": [
       "# Chapter 6: Flow along surfaces and its channels"
	   ]
	},
{
		   "cell_type": "markdown",
		   "metadata": {},
		   "source": [
			"## Example 6.1: Laminar_flow.sci"
		   ]
		  },
  {
"cell_type": "code",
	   "execution_count": null,
	   "metadata": {
	    "collapsed": true
	   },
	   "outputs": [],
"source": [
"clc();\n",
"clear;\n",
"\n",
"//*****Data*****//\n",
"x = 4/12;// [thickness of plate, inch]\n",
"v = 33;// [fps]\n",
"n = 15.4*10^(-5);// [kinematic viscosity, feet^2/s]\n",
"//************//\n",
"\n",
"Re = v*x/n;// [Reynold's number]\n",
"delta = 4.64*x*12/sqrt(Re);// [Boundary layer thickness ,ft]\n",
"printf('Boundary layer thickness at 4 in. distance is %.4f in.',delta);"
   ]
   }
,
{
		   "cell_type": "markdown",
		   "metadata": {},
		   "source": [
			"## Example 6.2: turbulent_boundary_layer.sci"
		   ]
		  },
  {
"cell_type": "code",
	   "execution_count": null,
	   "metadata": {
	    "collapsed": true
	   },
	   "outputs": [],
"source": [
"clc();\n",
"clear;\n",
"\n",
"// To calculate the thickness of turbulent boundary layer at a distance of 12 inch\n",
"x = 12/12;                           // Distance from leading edge in ft\n",
"v = 33;                              // Stream flowing velocity in ft\n",
"n = 15.4*10^(-5);                    // kinematic viscosity, feet^2/s\n",
"\n",
"Re = v*x/n ;                         // reynolds number\n",
"delta = 0.376*x/(Re^0.2);            // Boundary layer thickness ,ft\n",
"delb = 0.036*delta*12;               // Turbulent layer thickness, in\n",
"printf('The turbulent boundarty layer thickness is %.3f ft',delb);"
   ]
   }
],
"metadata": {
		  "kernelspec": {
		   "display_name": "Scilab",
		   "language": "scilab",
		   "name": "scilab"
		  },
		  "language_info": {
		   "file_extension": ".sce",
		   "help_links": [
			{
			 "text": "MetaKernel Magics",
			 "url": "https://github.com/calysto/metakernel/blob/master/metakernel/magics/README.md"
			}
		   ],
		   "mimetype": "text/x-octave",
		   "name": "scilab",
		   "version": "0.7.1"
		  }
		 },
		 "nbformat": 4,
		 "nbformat_minor": 0
}
