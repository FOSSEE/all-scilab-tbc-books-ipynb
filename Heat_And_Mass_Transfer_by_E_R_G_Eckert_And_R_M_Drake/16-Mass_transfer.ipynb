{
"cells": [
 {
		   "cell_type": "markdown",
	   "metadata": {},
	   "source": [
       "# Chapter 16: Mass transfer"
	   ]
	},
{
		   "cell_type": "markdown",
		   "metadata": {},
		   "source": [
			"## Example 16.1: Diffusio.sci"
		   ]
		  },
  {
"cell_type": "code",
	   "execution_count": null,
	   "metadata": {
	    "collapsed": true
	   },
	   "outputs": [],
"source": [
"clc();\n",
"clear;\n",
"\n",
"// To calculate the siffusion coefficient\n",
"\n",
" T = 87.5;                    // Constant temperature of tube\n",
" p1 = 0.6543;                 // Saturation pressure in psi\n",
" p = 14.22;                   // Ambient pressure\n",
" e = 5.165*10^-5;             // Rate of evaporation in lb/hr\n",
" A = 0.755;                   // Area of tube in in^2\n",
" m = e*144/A;                 // Mass flux in lb/hr-ft^2\n",
" M = 18.0165;                 // Molecular weight of water\n",
" R = 1545/M;                  // Gas  constant\n",
" l = 2.527/12;                // Length of tube in ft\n",
" D = m*R*(T+460)*l/(p*144*log(p/(p-p1)));             // Diffusion coefficient\n",
" printf('The diffusion coefficient of water vapour over air is %.3f ft^2/hr',D)"
   ]
   }
,
{
		   "cell_type": "markdown",
		   "metadata": {},
		   "source": [
			"## Example 16.2: Evaporation_rate.sci"
		   ]
		  },
  {
"cell_type": "code",
	   "execution_count": null,
	   "metadata": {
	    "collapsed": true
	   },
	   "outputs": [],
"source": [
"clc();\n",
"clear;\n",
"\n",
"// To calculatevthe amount of water evaporated per hour per square feet from the water surface\n",
"\n",
"u = 10;                    // Flow of air stream in fps\n",
"r = 33.3;                  // Relative humidity\n",
"T = 519;                   // Temperature in Rankine\n",
"p = 0.1130;                // Partial pressure of water vapour\n",
"x = 4/12;                  // Water surface in the wind direction    \n",
"n = 15.99*10^-5;           // Kinematic viscosity\n",
"k = 0.0149;                // Thermal conductivity in Btu/hr-ft-F\n",
"Re = u*x/n;                // reynolds number\n",
"D = 1.127;                 // Diffusion coefficient in ft^2/sec\n",
"R = 85.74;                 // Gas constant in Imperial in Imperial units \n",
"\n",
"hd =0.664*Re^0.5*(n*3600/D)^(1/3)*D/x;            // Heat transfer coefficient\n",
"Pr = 0.710;                                // Prandtls number\n",
"Nu = 0.664*sqrt(Re)*Pr^(1/3);              // Nusselt number\n",
"h = Nu*k/x;                                // Heat transfer coefficient\n",
"ps = 0.2473;                               // Saturation pressure of water vapour\n",
"m = hd*(ps-p)*144/(R*T);                        // Water vapour formation rate in lb/hr-ft^2\n",
"\n",
"printf('The rate of amount of water evaporated per sq. foot is %.3f lb/hr-ft^2',m);\n",
"\n",
"\n",
"\n",
""
   ]
   }
,
{
		   "cell_type": "markdown",
		   "metadata": {},
		   "source": [
			"## Example 16.3: Evaporation_of_water_into_air.sci"
		   ]
		  },
  {
"cell_type": "code",
	   "execution_count": null,
	   "metadata": {
	    "collapsed": true
	   },
	   "outputs": [],
"source": [
"clc();\n",
"clear;\n",
"\n",
"// To determine the specific heat of air\n",
"\n",
"p = 14.7;                         // Pressure in psi.\n",
"Tb = 68;                          // Dry bulb temperature in F\n",
"Tw = 50;                          // Wet bulb temperature in F\n",
"\n",
"// In the enthalpy-specific heat diagram, the isotherm 50F in the supersaturated region must be extended until it intersects the isotherm 68F. \n",
"// The point of intersection gives the state of moist air and its specific heat capacity can be read \n",
"s = 0.0037;                      // Specific heat capacity\n",
"\n",
"printf('Tne specific humidity of air is %.4f lb of water per pound of dry air',s);"
   ]
   }
],
"metadata": {
		  "kernelspec": {
		   "display_name": "Scilab",
		   "language": "scilab",
		   "name": "scilab"
		  },
		  "language_info": {
		   "file_extension": ".sce",
		   "help_links": [
			{
			 "text": "MetaKernel Magics",
			 "url": "https://github.com/calysto/metakernel/blob/master/metakernel/magics/README.md"
			}
		   ],
		   "mimetype": "text/x-octave",
		   "name": "scilab",
		   "version": "0.7.1"
		  }
		 },
		 "nbformat": 4,
		 "nbformat_minor": 0
}
