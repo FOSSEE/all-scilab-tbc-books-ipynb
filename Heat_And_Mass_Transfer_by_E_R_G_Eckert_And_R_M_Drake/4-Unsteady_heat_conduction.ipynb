{
"cells": [
 {
		   "cell_type": "markdown",
	   "metadata": {},
	   "source": [
       "# Chapter 4: Unsteady heat conduction"
	   ]
	},
{
		   "cell_type": "markdown",
		   "metadata": {},
		   "source": [
			"## Example 4.1: Unsteady_state_conduction.sci"
		   ]
		  },
  {
"cell_type": "code",
	   "execution_count": null,
	   "metadata": {
	    "collapsed": true
	   },
	   "outputs": [],
"source": [
"clc();\n",
"clear;\n",
"\n",
"// To measure an unsteady state temperature with a thermometer and half value time\n",
"\n",
"// Half value time is the time within which the initial difference etween the true and indicated temperature is reduced to half its initial value\n",
"\n",
"l = 0.01/2;                          // Length of cylindrical tube in ft\n",
"a = 0.178;                           // Thermal diffusivity in ft^2/hr\n",
"k = 5;                               // Thermal conductivity in Btu/hr-ft-F\n",
"h = 10;                              // Heat transfer coefficient in Btu/hr-ft^2-F\n",
"Bi = h*l/k;                          // Biot number\n",
"\n",
"// For half time\n",
"th = 0.693*l*l*3600/(Bi*a);          // Half time in hr\n",
"\n",
"printf('The half time for unsteady change temperature change is %d sec',th);"
   ]
   }
,
{
		   "cell_type": "markdown",
		   "metadata": {},
		   "source": [
			"## Example 4.2: Lag_of_thermometer.sci"
		   ]
		  },
  {
"cell_type": "code",
	   "execution_count": null,
	   "metadata": {
	    "collapsed": true
	   },
	   "outputs": [],
"source": [
"clc();\n",
"clear;\n",
"\n",
"// To calculate the lag of thermometer used in initial example while the oven is heating\n",
"\n",
"r = 0.01;                             // Radius of cylindrical tube in ft\n",
"a = 0.178;                           // Thermal diffusivity in ft^2/hr\n",
"k = 5;                               // Thermal conductivity in Btu/hr-ft-F\n",
"h = 2;                               // Heat transfer coefficient in Btu/hr-ft^2-F\n",
"s = 400;                             // Rate of temperature change\n",
"tlag = r*k*s/(2*a*h);\n",
"\n",
"printf('The lag of thermometer while the oven is heating at the rate of 400F/hr is %.1f F',tlag);\n",
""
   ]
   }
,
{
		   "cell_type": "markdown",
		   "metadata": {},
		   "source": [
			"## Example 4.3: Infinite_flat_plate.sci"
		   ]
		  },
  {
"cell_type": "code",
	   "execution_count": null,
	   "metadata": {
	    "collapsed": true
	   },
	   "outputs": [],
"source": [
"clc();\n",
"clear\n",
"\n",
"// To find the time required for the billet to remain in the oven  \n",
"\n",
"A = 2;                                // Length of steel billet in ft\n",
"B = 2;                                // Breadth of billet in ft\n",
"C = 4;                                // Height of billet in ft\n",
"To = 70;                              // Initial temperature of billet n F\n",
"Tf = 750;                             // Maximum temp. of billet in F\n",
"T = 700;                              // Temperature for which time has to be found out\n",
"k = 25;                               // Thermal conductivity in Btu/hr-ft^2-F\n",
"a = 0.57;                             // Thermal diffusivity in ft^2/hr\n",
"h = 100;                              // Heat transfer coeff. in Btu/hr-ft\n",
"\n",
"BiA = h*A/k;                          // Biot number\n",
"BiB = h*B/k;                          \n",
"BiC = h*C/k;\n",
"t = 1.53;                            // Assumed temperature in F\n",
"s1 = a*t/A^2;                         // Parameters\n",
"s2 = a*t/B^2;\n",
"s3 = a*t/C^2;\n",
"\n",
"// Seeing the values of Bi and s and comparing from the table \n",
"\n",
"// T/Toa=0.302 and T/Tob=0.805 and (T/Toa)^2*T/Toc=0.0735\n",
"\n",
"printf('The time required for the centre temperature to reach 700 F under the conditions specified in the problem is t=%.2f hr',t);\n",
"\n",
"\n",
"\n",
" "
   ]
   }
,
{
		   "cell_type": "markdown",
		   "metadata": {},
		   "source": [
			"## Example 4.4: Semi_infinite_solid.sci"
		   ]
		  },
  {
"cell_type": "code",
	   "execution_count": null,
	   "metadata": {
	    "collapsed": true
	   },
	   "outputs": [],
"source": [
"clc();\n",
"clear;\n",
"\n",
"// To calculate the time needed to estabilish a steady state temperature distribution in the walls and in the room\n",
"tf = 70;                            // Final temperature of the wall in F\n",
"hi = 1.2;                           // Inner heat transfer coefficint of wall i Btu/hr-ft^2-degF\n",
"ho = 3.0;                            // Outer heat transfer coefficient in Btu/hr-ft^2-degF\n",
"a = 0.012;                           // Thermal diffusivity in ft^2/hr\n",
"x = 1.3;                            // Thickness of wall in ft\n",
"\n",
"// Assuming the rate of heat trasfer to the inside of a wall is constant\n",
"// And since the wall is divided into six sections \n",
"delx = x/6;                        // Thickness of sections in ft\n",
"t = (delx)^2/(2*a);                  // time required in hr\n",
"printf('the time needed to estabilish a steady state temperature distribution in the walls and in the room is %.2f hr',t);\n",
""
   ]
   }
,
{
		   "cell_type": "markdown",
		   "metadata": {},
		   "source": [
			"## Example 4.5: Periodic_heat_conduction.sci"
		   ]
		  },
  {
"cell_type": "code",
	   "execution_count": null,
	   "metadata": {
	    "collapsed": true
	   },
	   "outputs": [],
"source": [
"clc();\n",
"clear;\n",
"\n",
"// To calculate the depth and yearly temperature fluctuations penetrate the ground\n",
"\n",
"a = 0.039;                                    // thermal diffusivity of claylike soil\n",
"to = 24;                                      // time for daily fluctuations in hr\n",
"x = 1.6*sqrt(%pi*a*to);                       // depth of penetration for daily fluctuation in ft\n",
"xy = sqrt(365)*x;                             // depth of penetration for yearly fluctuation in ft\n",
"\n",
"printf('The depth of penetration for daily fluctuation is %.2f ft and depth of penetration for yearly fluctuation is %.2f ft',x, xy);\n",
"\n",
" "
   ]
   }
,
{
		   "cell_type": "markdown",
		   "metadata": {},
		   "source": [
			"## Example 4.6: Semi_infinite_solid.sci"
		   ]
		  },
  {
"cell_type": "code",
	   "execution_count": null,
	   "metadata": {
	    "collapsed": true
	   },
	   "outputs": [],
"source": [
"clc();\n",
"clear;\n",
"\n",
"// To calculate the depth of penetration of the temperature oscillation into the cylinder wall\n",
"\n",
"rpm = 2000;                            // Revolutions per minute of motor\n",
"a = 0.64;                              // Thermal diffusivity in ft^2/hr\n",
"to = 1/(60*rpm);                       // Period of oscillation in hr\n",
"x = 1.6*sqrt(%pi*a*to);                // depth of penetration in hr\n",
"printf('the depth of penetration of the temperature oscillation into the cylinder wall is %.5f ft',x);\n",
"\n",
"\n",
"          "
   ]
   }
,
{
		   "cell_type": "markdown",
		   "metadata": {},
		   "source": [
			"## Example 4.7: depth_of_penetration.sci"
		   ]
		  },
  {
"cell_type": "code",
	   "execution_count": null,
	   "metadata": {
	    "collapsed": true
	   },
	   "outputs": [],
"source": [
"clc();\n",
"clear;\n",
"\n",
"// To calculate the depth of penetration of the temperature oscillation into the cylinder wall\n",
"\n",
"rpm = 2000;                            // Revolutions per minute of motor\n",
"a = 0.64;                              // Thermal diffusivity in ft^2/hr\n",
"to = 1/(60*rpm);                       // Period of oscillation in hr\n",
"x = 1.6*sqrt(%pi*a*to);                // depth of penetration in hr\n",
"printf('the depth of penetration of the temperature oscillation into the cylinder wall is %.5f ft',x);\n",
"\n",
"\n",
"          "
   ]
   }
],
"metadata": {
		  "kernelspec": {
		   "display_name": "Scilab",
		   "language": "scilab",
		   "name": "scilab"
		  },
		  "language_info": {
		   "file_extension": ".sce",
		   "help_links": [
			{
			 "text": "MetaKernel Magics",
			 "url": "https://github.com/calysto/metakernel/blob/master/metakernel/magics/README.md"
			}
		   ],
		   "mimetype": "text/x-octave",
		   "name": "scilab",
		   "version": "0.7.1"
		  }
		 },
		 "nbformat": 4,
		 "nbformat_minor": 0
}
