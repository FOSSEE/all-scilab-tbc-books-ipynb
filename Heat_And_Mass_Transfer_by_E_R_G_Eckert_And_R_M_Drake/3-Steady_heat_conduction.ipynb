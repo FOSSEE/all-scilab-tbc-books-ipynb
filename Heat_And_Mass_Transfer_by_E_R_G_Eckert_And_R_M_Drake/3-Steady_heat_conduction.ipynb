{
"cells": [
 {
		   "cell_type": "markdown",
	   "metadata": {},
	   "source": [
       "# Chapter 3: Steady heat conduction"
	   ]
	},
{
		   "cell_type": "markdown",
		   "metadata": {},
		   "source": [
			"## Example 3.1: Heat_exchanger.sci"
		   ]
		  },
  {
"cell_type": "code",
	   "execution_count": null,
	   "metadata": {
	    "collapsed": true
	   },
	   "outputs": [],
"source": [
"clc();\n",
"clear;\n",
"\n",
"// To calculate the length of the well\n",
"\n",
"d = 0.06/12;                        // diameter of the thermometer  in ft\n",
"h = 18.5;                           // heat teansfer coefficient in Btu/hr-ft^2-F\n",
"k = 32;                             // Thermal conductivity in Btu/hr-ft^2-F\n",
"s = 0.036/12;                       // thickness of wall in ft\n",
"m = sqrt(h/(k*s));                  // parameter\n",
"\n",
"// Error is less than 0.05% of the dfference between the gas temperature and the tube well temperature. Hence a=m*l\n",
"\n",
"a = 6;                              // a=m*l\n",
"l = a/m;                            // Length of well in ft\n",
"printf('The length of well is %.2f ft',l)  \n",
"\n",
"\n",
"\n",
"\n",
""
   ]
   }
,
{
		   "cell_type": "markdown",
		   "metadata": {},
		   "source": [
			"## Example 3.2: Finned_heated_surfaces.sci"
		   ]
		  },
  {
"cell_type": "code",
	   "execution_count": null,
	   "metadata": {
	    "collapsed": true
	   },
	   "outputs": [],
"source": [
"clc();\n",
"clear;\n",
"\n",
"// To determine the effectiveness of iron fins of 0.14 inch thickness \n",
"// For heat transfer to air\n",
"b = 0.12/12;              // Thickness of iron fins in ft\n",
"k = 33;                   // Mean thermal conductivity of iron in Btu/hr-ft^2\n",
"Hamin = 2;                // Minimum heat ransfer coefficient with air in Btu/hr-ft^2-F\n",
"Hamax = 20;               // Minimum heat ransfer coefficient with air in Btu/hr-ft^2-F\n",
"// Inserting the higher value of heat transfer coefficient \n",
"m1 = 2*k/(Hamax*b);       // Characteristic value\n",
"// haracteristic value is quite high\n",
"printf('Since m = %d, hence the heat transfer from iron fins to air is advantageous \n',m1);\n",
"\n",
"// For heat transfer to water\n",
"\n",
"Hwmin = 100;                // Minimum heat ransfer coefficient with air in Btu/hr-ft^2-F\n",
"Hwmax = 1000;               // Minimum heat ransfer coefficient with air in Btu/hr-ft^2-F\n",
"// Inserting the higher value of heat transfer coefficient \n",
"m2 = 2*k/(Hwmax*b);         // Characteristic value\n",
"// Characteristic value is quite low\n",
"printf('Since m = %.1f, hence the heat transfer from iron fins to water is not advantageous \n',m2);\n",
""
   ]
   }
,
{
		   "cell_type": "markdown",
		   "metadata": {},
		   "source": [
			"## Example 3.3: Rectangular_fins.sci"
		   ]
		  },
  {
"cell_type": "code",
	   "execution_count": null,
	   "metadata": {
	    "collapsed": true
	   },
	   "outputs": [],
"source": [
"clc();\n",
"clear;\n",
"\n",
"// To study the effect of adding fins to the cylindrical barrel of an air cooled engine\n",
"\n",
"l1= 3/12;                            // Length of fins in ft\n",
"l2 = 4/12;                          \n",
"h = 50;                             // Heat transfer coefficient in Btu/hr-ft-F\n",
"k = 28;                             // Thermal conductivity in Btu/hr-ft-F\n",
"T1 = 250;                           // Cylinder wall temperature in F\n",
"T2 = 70;                            // Air temperature in F\n",
"th = T1-T2;                         // Temperature difference\n",
"b = 0.09/12;                        // Thickness of fins in ft\n",
"m = 2*h/(b*k);                      // Characteristic parameter\n",
"// Seeing the value of length and m, yhe bessel functions can be found out\n",
"\n",
"I2 = 188/7.26;                        // Magnitudes of bessel functions\n",
"I0 = 41.0/5.45;\n",
"I1 = 37.2/5.45;\n",
"K2 = 0.0;\n",
"K0 = 0.0022/5.45;\n",
"K1 = 0.0024/5.45;\n",
"\n",
"q1 = 2*%pi*0.27*k*sqrt(m)*th*(I2*l2*m*K1*l1-K2*l2*m*I1*l1)/(144*(I2*l2*sqrt(m)*K0*l1*sqrt(m)+K2*l2*sqrt(m)*I0*l1*sqrt(m)));\n",
"// Heat loss by finned surface\n",
"q2 = 0.27/144*2*%pi*3*h*th;          // heat loss from barred surface\n",
"\n",
"printf('the heat loss from the cylindrical barrel in presence of fins is %d Btu/hr \n ',q1);\n",
"printf('the heat loss from the bare cylindrical barrel is %d Btu/hr \n ',q2)\n",
"\n",
"\n",
"                    "
   ]
   }
,
{
		   "cell_type": "markdown",
		   "metadata": {},
		   "source": [
			"## Example 3.4: Minimum_width_fins.sci"
		   ]
		  },
  {
"cell_type": "code",
	   "execution_count": null,
	   "metadata": {
	    "collapsed": true
	   },
	   "outputs": [],
"source": [
"clc();\n",
"clear;\n",
"\n",
"// To study the effect of adding fins to the cylindrical barrel of an air cooled engine\n",
"\n",
"l1= 3/12;                            // Length of fins in ft\n",
"l2 = 4/12;                          \n",
"h = 50;                             // Heat transfer coefficient in Btu/hr-ft-F\n",
"k = 28;                             // Thermal conductivity in Btu/hr-ft-F\n",
"T1 = 250;                           // Cylinder wall temperature in F\n",
"T2 = 70;                            // Air temperature in F\n",
"th = T1-T2;                         // Temperature difference\n",
"b = 0.09/12;                        // Thickness of fins in ft\n",
"m = 2*h/(b*k);                      // Characteristic parameter\n",
"// Seeing the value of length and m, yhe bessel functions can be found out\n",
"\n",
"I2 = 188/7.26;                        // Magnitudes of bessel functions\n",
"I0 = 41.0/5.45;\n",
"I1 = 37.2/5.45;\n",
"K2 = 0.0;\n",
"K0 = 0.0022/5.45;\n",
"K1 = 0.0024/5.45;\n",
"\n",
"q1 = 2*%pi*0.27*k*sqrt(m)*th*(I2*l2*m*K1*l1-K2*l2*m*I1*l1)/(144*(I2*l2*sqrt(m)*K0*l1*sqrt(m)+K2*l2*sqrt(m)*I0*l1*sqrt(m)));\n",
"// Heat loss by finned surface\n",
"q2 = 0.27/144*2*%pi*3*h*th;          // heat loss from barred surface\n",
"\n",
"printf('the heat loss from the cylindrical barrel in presence of fins is %d Btu/hr \n ',q1);\n",
"printf('the heat loss from the bare cylindrical barrel is %d Btu/hr \n ',q2)\n",
"\n",
"\n",
"                    "
   ]
   }
,
{
		   "cell_type": "markdown",
		   "metadata": {},
		   "source": [
			"## Example 3.5: Wall_with_heat_sources.sci"
		   ]
		  },
  {
"cell_type": "code",
	   "execution_count": null,
	   "metadata": {
	    "collapsed": true
	   },
	   "outputs": [],
"source": [
"clc;\n",
"clear;\n",
"\n",
"// To find the tempearure difference in the plane wall with heat sources\n",
"d1 = 0.55;                        // Inside diameter of copper wire\n",
"d2 = 0.8;                         // Outside diameter of copper wire\n",
"phi = 0.6;                        // Fraction of copper in wire\n",
"j = 1300;                         // Current density in conductors in amp/in^2\n",
"p = 9.5*10^(-6);                  // Specific resistance in ohm-in^2/ft\n",
"h = 4;                            // Heat transfer coefficient on both sides ofcoil\n",
"k = 0.2;                          // Thermal conductivity of coil in Btu/hr-ft-F     \n",
"T0 = 70;                          // Temperature of air in degF\n",
"// Considering it as a plane wall with a thickness of 0.25 ft\n",
"b = 0.125;                        // half the thickness of wall in ft\n",
"l = 0.0625;                       // Distance between the two walls \n",
"q = j*j*p*phi*144*3.412;          // Generation of heat in Btu/hr-ft-F\n",
"th0 = (4730*l*l/(2*k))+(4730*l/h);          // Teperature difference in F\n",
"t0 = T0+th0;                      // Temperature at the center in F\n",
"\n",
"printf('The temperature at the centre of the pool is %.1f degF \n',t0);"
   ]
   }
,
{
		   "cell_type": "markdown",
		   "metadata": {},
		   "source": [
			"## Example 3.6: 2D_steady_state_conduction.sci"
		   ]
		  },
  {
"cell_type": "code",
	   "execution_count": null,
	   "metadata": {
	    "collapsed": true
	   },
	   "outputs": [],
"source": [
"clc();\n",
"clear;\n",
"\n",
"// To determine the shape factor for the heat flow through a square duct whose surface temperatures are constant\n",
"\n",
"// Since the duct is symmetrical. Only one of the corners is to be considered\n",
"Nc = 20;                    // Number of heat flow lanes \n",
"Nr = 7;                     // Number of temperature increments \n",
"S = Nc/Nr;                  // Shape factor\n",
"printf('The Shape factor for heat flow through square duct is %.2f \n ',S);\n",
"printf('And the heat transfer through conduction is %.2f kL(t1-t2)',S);"
   ]
   }
],
"metadata": {
		  "kernelspec": {
		   "display_name": "Scilab",
		   "language": "scilab",
		   "name": "scilab"
		  },
		  "language_info": {
		   "file_extension": ".sce",
		   "help_links": [
			{
			 "text": "MetaKernel Magics",
			 "url": "https://github.com/calysto/metakernel/blob/master/metakernel/magics/README.md"
			}
		   ],
		   "mimetype": "text/x-octave",
		   "name": "scilab",
		   "version": "0.7.1"
		  }
		 },
		 "nbformat": 4,
		 "nbformat_minor": 0
}
