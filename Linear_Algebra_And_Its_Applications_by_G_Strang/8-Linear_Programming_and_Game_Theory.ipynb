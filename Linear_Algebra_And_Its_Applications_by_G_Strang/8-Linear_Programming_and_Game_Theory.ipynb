{
"cells": [
 {
		   "cell_type": "markdown",
	   "metadata": {},
	   "source": [
       "# Chapter 8: Linear Programming and Game Theory"
	   ]
	},
{
		   "cell_type": "markdown",
		   "metadata": {},
		   "source": [
			"## Example 8.2_2: Minimize_cx_subject_to_x_greater_than_or_equal_to_zero_and_Ax_equals_to_b.sci"
		   ]
		  },
  {
"cell_type": "code",
	   "execution_count": null,
	   "metadata": {
	    "collapsed": true
	   },
	   "outputs": [],
"source": [
"//page 238\n",
"clear;\n",
"close;\n",
"clc;\n",
"A=[1 0 1 6 2;0 1 1 0 3];\n",
"b=[8 9]';\n",
"c=[0 0 7 -1 -3]';\n",
"lb=[0 0 0 0 0]'\n",
"ub=[];\n",
"[x,lagr,f]=linpro(c,A,b,lb,ub);\n",
"disp(x,'New corner:');\n",
"disp(f,'Minimum cost:');\n",
"//end"
   ]
   }
],
"metadata": {
		  "kernelspec": {
		   "display_name": "Scilab",
		   "language": "scilab",
		   "name": "scilab"
		  },
		  "language_info": {
		   "file_extension": ".sce",
		   "help_links": [
			{
			 "text": "MetaKernel Magics",
			 "url": "https://github.com/calysto/metakernel/blob/master/metakernel/magics/README.md"
			}
		   ],
		   "mimetype": "text/x-octave",
		   "name": "scilab",
		   "version": "0.7.1"
		  }
		 },
		 "nbformat": 4,
		 "nbformat_minor": 0
}
