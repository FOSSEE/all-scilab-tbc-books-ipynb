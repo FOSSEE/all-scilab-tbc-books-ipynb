{
"cells": [
 {
		   "cell_type": "markdown",
	   "metadata": {},
	   "source": [
       "# Chapter 3: Orthogonality"
	   ]
	},
{
		   "cell_type": "markdown",
		   "metadata": {},
		   "source": [
			"## Example 3.1_1: Orthogonal_vectors.sci"
		   ]
		  },
  {
"cell_type": "code",
	   "execution_count": null,
	   "metadata": {
	    "collapsed": true
	   },
	   "outputs": [],
"source": [
"//page 143\n",
"clear;\n",
"close;\n",
"clc;\n",
"x1=[2;2;-1];\n",
"disp(x1,'x1=');\n",
"x2=[-1;2;2];\n",
"disp(x2,'x2=');\n",
"disp(x1'*x2,'x1''*x2=');\n",
"disp('Therefore,X1 is orthogonal to x2 .Both have length of sqrt(14).')"
   ]
   }
,
{
		   "cell_type": "markdown",
		   "metadata": {},
		   "source": [
			"## Example 3.1_2: Orthogonal_vectors.sci"
		   ]
		  },
  {
"cell_type": "code",
	   "execution_count": null,
	   "metadata": {
	    "collapsed": true
	   },
	   "outputs": [],
"source": [
"//page 144\n",
"clear;\n",
"close;\n",
"clc;\n",
"disp('Suppose V is a plane spanned by v1=(1,0,0,0) and v2=(1,1,0,0).If W is the line spanned by w=(0,0,4,5),then w is orthogonal to both v''s.The line W will be orthogonal to the whole plane V.')"
   ]
   }
,
{
		   "cell_type": "markdown",
		   "metadata": {},
		   "source": [
			"## Example 3.1_3: Orthogonal_vectors.sci"
		   ]
		  },
  {
"cell_type": "code",
	   "execution_count": null,
	   "metadata": {
	    "collapsed": true
	   },
	   "outputs": [],
"source": [
"//page 145\n",
"clear;\n",
"close;\n",
"clc;\n",
"A=[1 3;2 6;3 9];\n",
"disp(A,'A=');\n",
"ns=kernel(A);\n",
"disp(ns,'Null space=');\n",
"disp(A(1,:)*ns,'A(1,:)*ns=');\n",
"disp(A(2,:)*ns,'A(2,:)*ns=');\n",
"disp(A(3,:)*ns,'A(3,:)*ns=');\n",
"disp('This shows that the null space of A is orthogonal to the row space.');\n",
"//end"
   ]
   }
,
{
		   "cell_type": "markdown",
		   "metadata": {},
		   "source": [
			"## Example 3.2_1: Projections_onto_a_line.sci"
		   ]
		  },
  {
"cell_type": "code",
	   "execution_count": null,
	   "metadata": {
	    "collapsed": true
	   },
	   "outputs": [],
"source": [
"//page 155\n",
"clear;\n",
"close;\n",
"clc;\n",
"b=[1;2;3];\n",
"disp(b,'b=');\n",
"a=[1;1;1];\n",
"disp(a,'a=')\n",
"x=(a'*b)/(a'*a)\n",
"disp(x*a,'Projection p of b onto the line through a is x^*a=');\n",
"disp((a'*b)/(sqrt(a'*a)*sqrt(b'*b)),'cos(thetha)=');\n",
"//end"
   ]
   }
,
{
		   "cell_type": "markdown",
		   "metadata": {},
		   "source": [
			"## Example 3.2_2: Projections_onto_a_line.sci"
		   ]
		  },
  {
"cell_type": "code",
	   "execution_count": null,
	   "metadata": {
	    "collapsed": true
	   },
	   "outputs": [],
"source": [
"//page 156\n",
"clear;\n",
"close;\n",
"clc;\n",
"a=[1;1;1];\n",
"disp(a,'a=');\n",
"P=(a*a')/(a'*a);\n",
"disp(P,'Matrix that projects onto a line through a=(1,1,1) is');\n",
"//end"
   ]
   }
,
{
		   "cell_type": "markdown",
		   "metadata": {},
		   "source": [
			"## Example 3.2_3: Projections_onto_a_line.sci"
		   ]
		  },
  {
"cell_type": "code",
	   "execution_count": null,
	   "metadata": {
	    "collapsed": true
	   },
	   "outputs": [],
"source": [
"//page 156\n",
"clear;\n",
"close;\n",
"clc;\n",
"thetha=45; //Taking some value for thetha\n",
"a=[cos(thetha);sin(thetha)];\n",
"disp(a,'a=');\n",
"P=(a*a')/(a'*a);\n",
"disp(P,'Projection of line onto the thetha-direction(thetha taken as 45) in the x-y plane passing through a is ');\n",
"//end"
   ]
   }
,
{
		   "cell_type": "markdown",
		   "metadata": {},
		   "source": [
			"## Example 3.3_1: Projection_matrices.sci"
		   ]
		  },
  {
"cell_type": "code",
	   "execution_count": null,
	   "metadata": {
	    "collapsed": true
	   },
	   "outputs": [],
"source": [
"//page 165\n",
"clear;\n",
"close;\n",
"clc;\n",
"A=rand(4,4);\n",
"disp(A,'A=');\n",
"P=A*inv(A'*A)*A';\n",
"disp('P=A*inv(A''*A)*A');\n",
"disp(P,'Projection of a  invertible 4x4 matrix on to the whole space is:');\n",
"disp('Its identity matrix.')\n",
"//end"
   ]
   }
,
{
		   "cell_type": "markdown",
		   "metadata": {},
		   "source": [
			"## Example 3.3_2: Least_squares_fitting_of_data.sci"
		   ]
		  },
  {
"cell_type": "code",
	   "execution_count": null,
	   "metadata": {
	    "collapsed": true
	   },
	   "outputs": [],
"source": [
"//page 166\n",
"clear;\n",
"close;\n",
"clc;\n",
"disp('b=C+Dt');\n",
"disp('Ax=b');\n",
"A=[1 -1;1 1;1 2];\n",
"disp(A,'A=');\n",
"b=[1;1;3];\n",
"disp(b,'b=');\n",
"disp('If Ax=b could be solved then they would be no errors, they can''t be solved because the points are not on a line.Therefore they are solved by least squares.')\n",
"disp('so,A''Ax^=A''b');\n",
"x=zeros(1,2);\n",
"x=(A'*A)\(A'*b);\n",
"disp(x(1,1),'C^ =');\n",
"disp(x(2,1),'D^=');\n",
"disp('The best line is 9/7+4/7t')\n",
"//end"
   ]
   }
,
{
		   "cell_type": "markdown",
		   "metadata": {},
		   "source": [
			"## Example 3.4_1: Orthogonal_matrices.sci"
		   ]
		  },
  {
"cell_type": "code",
	   "execution_count": null,
	   "metadata": {
	    "collapsed": true
	   },
	   "outputs": [],
"source": [
"//page 175\n",
"clear;\n",
"close;\n",
"clc;\n",
"thetha=45;//Taking some value for thetha.\n",
"Q=[cos(thetha) -sin(thetha);sin(thetha) cos(thetha)];\n",
"disp(Q,'Q=');\n",
"disp(Q','Q''=inv(Q)=');\n",
"disp('Q rotates every vector through an angle thetha, and Q'' rotates it back through -thetha.The columns are clearly orthogonal and they are orthonormal because sin^2(theta)+cos^2(thetha)=1.');\n",
"//end"
   ]
   }
,
{
		   "cell_type": "markdown",
		   "metadata": {},
		   "source": [
			"## Example 3.4_2: Orthogonal_matrices.sci"
		   ]
		  },
  {
"cell_type": "code",
	   "execution_count": null,
	   "metadata": {
	    "collapsed": true
	   },
	   "outputs": [],
"source": [
"//page 175\n",
"clear;\n",
"close;\n",
"clc;\n",
"disp('Any permutation matrix is an orthogonal matrix.The columns are certainly unit vectors and certainly orthogonal-because the 1 appears in a differnt place in each column')\n",
"P=[0 1 0;0 0 1;1 0 0];\n",
"disp(P,'P=');\n",
"disp(P','inv(P)=P''=');\n",
"disp(P'*P,'And,P''*P=');\n",
"//end"
   ]
   }
,
{
		   "cell_type": "markdown",
		   "metadata": {},
		   "source": [
			"## Example 3.4_3: Projection_onto_a_plane.sci"
		   ]
		  },
  {
"cell_type": "code",
	   "execution_count": null,
	   "metadata": {
	    "collapsed": true
	   },
	   "outputs": [],
"source": [
"//page 175\n",
"clear;\n",
"close;\n",
"clc;\n",
"disp('If we project b=(x,y,z) onto the x-y plane then its projection is p=(x,y,0),and is the sum of projection onto x- any y-axes.')\n",
"b=rand(3,1);\n",
"q1=[1;0;0];\n",
"disp(q1,'q1=');\n",
"q2=[0;1;0];\n",
"disp(q2,'q2=');\n",
"P=q1*q1'+q2*q2';\n",
"disp(P,'Overall projection matrix,P=');\n",
"disp('and,P[x;y;z]=[x;y;0]')\n",
"disp('Projection onto a plane=sum of projections onto orthonormal q1 and q2.')\n",
"//end"
   ]
   }
,
{
		   "cell_type": "markdown",
		   "metadata": {},
		   "source": [
			"## Example 3.4_4: Least_squares_fitting_of_data.sci"
		   ]
		  },
  {
"cell_type": "code",
	   "execution_count": null,
	   "metadata": {
	    "collapsed": true
	   },
	   "outputs": [],
"source": [
"//page 166\n",
"clear;\n",
"close;\n",
"clc;\n",
"disp('y=C+Dt');\n",
"disp('Ax=b');\n",
"A=[1 -3;1 0;1 3];\n",
"disp(A,'A=');\n",
"y=rand    (3,1);\n",
"disp(y,'y=');\n",
"disp('the columns of A are orthogonal,so')\n",
"x=zeros(1,2);\n",
"disp(([1 1 1]*y)/(A(:,1)'*A(:,1)),'C^ =');\n",
"disp(([-3 0 3]*y)/(A(:,2)'*A(:,2)),'D^ =')\n",
"disp('C^ gives the besy fit ny horizontal line, whereas D^t is the best fit by a straight line through the origin.')\n",
"//end"
   ]
   }
,
{
		   "cell_type": "markdown",
		   "metadata": {},
		   "source": [
			"## Example 3.4_5: Gram_Schmidt_process.sci"
		   ]
		  },
  {
"cell_type": "code",
	   "execution_count": null,
	   "metadata": {
	    "collapsed": true
	   },
	   "outputs": [],
"source": [
"//page 166\n",
"clear;\n",
"close;\n",
"clc;\n",
"A=[1 0 1;1 0 0;2 1 0];//independent vectors stored in columns of A\n",
"disp(A,'A=');\n",
"[m,n]=size(A);\n",
"for k=1:n\n",
"    V(:,k)=A(:,k);\n",
"    for j=1:k-1\n",
"        R(j,k)=V(:,j)'*A(:,k);\n",
"        V(:,k)=V(:,k)-R(j,k)*V(:,j);\n",
"    end\n",
"    R(k,k)=norm(V(:,k));\n",
"    V(:,k)=V(:,k)/R(k,k);\n",
"end\n",
"disp(V,'Q=')"
   ]
   }
],
"metadata": {
		  "kernelspec": {
		   "display_name": "Scilab",
		   "language": "scilab",
		   "name": "scilab"
		  },
		  "language_info": {
		   "file_extension": ".sce",
		   "help_links": [
			{
			 "text": "MetaKernel Magics",
			 "url": "https://github.com/calysto/metakernel/blob/master/metakernel/magics/README.md"
			}
		   ],
		   "mimetype": "text/x-octave",
		   "name": "scilab",
		   "version": "0.7.1"
		  }
		 },
		 "nbformat": 4,
		 "nbformat_minor": 0
}
