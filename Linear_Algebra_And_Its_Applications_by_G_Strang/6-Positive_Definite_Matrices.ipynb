{
"cells": [
 {
		   "cell_type": "markdown",
	   "metadata": {},
	   "source": [
       "# Chapter 6: Positive Definite Matrices"
	   ]
	},
{
		   "cell_type": "markdown",
		   "metadata": {},
		   "source": [
			"## Example 6.1_1: Definite_versus_indefinite.sci"
		   ]
		  },
  {
"cell_type": "code",
	   "execution_count": null,
	   "metadata": {
	    "collapsed": true
	   },
	   "outputs": [],
"source": [
"//313\n",
"clear;\n",
"close;\n",
"clc;\n",
"disp('f(x,y)=x^2-10*x*y+y^2');\n",
"a=1;\n",
"c=1;\n",
"deff('[f]=f(x,y)','f=x^2-10*x*y+y^2');\n",
"disp(f(1,1),'f(1,1)=');\n",
"disp('The conditions a>0 and c>0 ensure that f(x,y) is positive on the x and y axes. But this function is negative on the line x=y,because b=-10 overwhelms a and c. ');\n",
"//end"
   ]
   }
,
{
		   "cell_type": "markdown",
		   "metadata": {},
		   "source": [
			"## Example 6.1_3: Maxima_Minima_And_Saddle_points.sci"
		   ]
		  },
  {
"cell_type": "code",
	   "execution_count": null,
	   "metadata": {
	    "collapsed": true
	   },
	   "outputs": [],
"source": [
"//315\n",
"clear;\n",
"close;\n",
"clc;\n",
"disp('f(x,y)=2*x^2+4*x*y+y^2');\n",
"A=[2 2;2 1];\n",
"a=1;\n",
"c=1;\n",
"b=2;\n",
"disp(a*c,'ac=');\n",
"disp(b^2,'b^2=');\n",
"disp('Saddle point,as ac<b^2');"
   ]
   }
,
{
		   "cell_type": "markdown",
		   "metadata": {},
		   "source": [
			"## Example 6.1_4: Maxima_Minima_And_Saddle_points.sci"
		   ]
		  },
  {
"cell_type": "code",
	   "execution_count": null,
	   "metadata": {
	    "collapsed": true
	   },
	   "outputs": [],
"source": [
"//315\n",
"clear;\n",
"close;\n",
"clc;\n",
"disp('f(x,y)=2*x^2+4*x*y+y^2');\n",
"A=[2 2;2 1];\n",
"a=0;\n",
"c=0;\n",
"b=1;\n",
"disp(a*c,'ac=');\n",
"disp(b^2,'b^2=');\n",
"disp('Saddle point,as ac<b^2');"
   ]
   }
,
{
		   "cell_type": "markdown",
		   "metadata": {},
		   "source": [
			"## Example 6.2_2: Maxima_Minima_And_Saddle_points.sci"
		   ]
		  },
  {
"cell_type": "code",
	   "execution_count": null,
	   "metadata": {
	    "collapsed": true
	   },
	   "outputs": [],
"source": [
"//313\n",
"clear;\n",
"close;\n",
"clc;\n",
"disp('f(x,y)=x^2+4*x*y+y^2');\n",
"a=1;\n",
"c=1;\n",
"deff('[f]=f(x,y)','f=x^2+4*x*y+y^2');\n",
"disp(f(0,0),'f(0,0)=')\n",
"disp('Here 2b=4  it still does not ensure a minimum ,the sign of b is of no importance.Neither F nor f has a minimum at(0,0) because f(1,-1)=-1.')\n",
"//end"
   ]
   }
,
{
		   "cell_type": "markdown",
		   "metadata": {},
		   "source": [
			"## Example 6.3_1: Singular_value_decomposition.sci"
		   ]
		  },
  {
"cell_type": "code",
	   "execution_count": null,
	   "metadata": {
	    "collapsed": true
	   },
	   "outputs": [],
"source": [
"//332\n",
"clear;\n",
"close;\n",
"clc;\n",
"A=[-1 2 2]';\n",
"disp(A,'A=');\n",
"[U diagnol V]=svd(A);\n",
"disp(U,'U=');\n",
"disp(diagnol,'diagnol=');\n",
"disp(V','V''=');\n",
"disp(U*diagnol*V','A=U*diagnol*V''')\n",
"//end"
   ]
   }
,
{
		   "cell_type": "markdown",
		   "metadata": {},
		   "source": [
			"## Example 6.3_2: Singular_value_decomposition.sci"
		   ]
		  },
  {
"cell_type": "code",
	   "execution_count": null,
	   "metadata": {
	    "collapsed": true
	   },
	   "outputs": [],
"source": [
"//332\n",
"clear;\n",
"close;\n",
"clc;\n",
"A=[-1 1 0;0 -1 1];\n",
"disp(A,'A=');\n",
"[U diagnl V]=svd(A);\n",
"disp(U,'U=');\n",
"disp(diagnl,'Diagonal=');\n",
"disp(V','V''=');\n",
"disp(U*diagnl*V','A=U*diagonal*V''=')\n",
"//end"
   ]
   }
,
{
		   "cell_type": "markdown",
		   "metadata": {},
		   "source": [
			"## Example 6.3_3: Polar_decompositio.sci"
		   ]
		  },
  {
"cell_type": "code",
	   "execution_count": null,
	   "metadata": {
	    "collapsed": true
	   },
	   "outputs": [],
"source": [
"//332\n",
"clear;\n",
"close;\n",
"clc;\n",
"A=[1 -2;3 -1];\n",
"disp(A,'A=');\n",
"[U S V]=svd(A);\n",
"Q=U*V';\n",
"S=V*S*V';\n",
"disp(Q,'Q=');\n",
"disp(S,'S=');\n",
"disp(Q*S,'A=SQ=')\n",
"//end"
   ]
   }
,
{
		   "cell_type": "markdown",
		   "metadata": {},
		   "source": [
			"## Example 6.3_4: Reverse_polar_decompositio.sci"
		   ]
		  },
  {
"cell_type": "code",
	   "execution_count": null,
	   "metadata": {
	    "collapsed": true
	   },
	   "outputs": [],
"source": [
"//332\n",
"clear;\n",
"close;\n",
"clc;\n",
"A=[1 -2;3 -1];\n",
"disp(A,'A=');\n",
"[U diag1 V]=svd(A);\n",
"Q=U*V';\n",
"S=[2 1;1 3];\n",
"disp(Q,'Q=');\n",
"disp(S,'S=')\n",
"disp(S'*Q,'A=S''Q=')\n",
"//end"
   ]
   }
],
"metadata": {
		  "kernelspec": {
		   "display_name": "Scilab",
		   "language": "scilab",
		   "name": "scilab"
		  },
		  "language_info": {
		   "file_extension": ".sce",
		   "help_links": [
			{
			 "text": "MetaKernel Magics",
			 "url": "https://github.com/calysto/metakernel/blob/master/metakernel/magics/README.md"
			}
		   ],
		   "mimetype": "text/x-octave",
		   "name": "scilab",
		   "version": "0.7.1"
		  }
		 },
		 "nbformat": 4,
		 "nbformat_minor": 0
}
