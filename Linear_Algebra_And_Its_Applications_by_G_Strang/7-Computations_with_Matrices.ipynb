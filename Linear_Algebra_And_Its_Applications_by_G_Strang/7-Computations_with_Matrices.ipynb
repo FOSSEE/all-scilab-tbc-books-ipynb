{
"cells": [
 {
		   "cell_type": "markdown",
	   "metadata": {},
	   "source": [
       "# Chapter 7: Computations with Matrices"
	   ]
	},
{
		   "cell_type": "markdown",
		   "metadata": {},
		   "source": [
			"## Example 7.4_1: Jacobi_Method.sci"
		   ]
		  },
  {
"cell_type": "code",
	   "execution_count": null,
	   "metadata": {
	    "collapsed": true
	   },
	   "outputs": [],
"source": [
"//page 238\n",
"clear;\n",
"close;\n",
"clc;\n",
"A=[2 -1;-1 2];\n",
"S=[2 0;0 2];\n",
"T=[0 1;1 0];\n",
"p=inv(S)*T;\n",
"b=[2 2]';\n",
"x=zeros(2,1);\n",
"disp(x,'intial v & w:')\n",
"x_1=zeros(1,2);\n",
"for k=0:25\n",
"    x_1=p*x+inv(S)*b;\n",
"    x=x_1;\n",
"    disp(k,'k=')\n",
"    disp(x_1,'v(k+1) & w(k+1)=');\n",
"end"
   ]
   }
,
{
		   "cell_type": "markdown",
		   "metadata": {},
		   "source": [
			"## Example 7.4_2: Gauss_Seidel_method.sci"
		   ]
		  },
  {
"cell_type": "code",
	   "execution_count": null,
	   "metadata": {
	    "collapsed": true
	   },
	   "outputs": [],
"source": [
"//page 238\n",
"clear;\n",
"close;\n",
"clc;\n",
"A=[2 -1;-1 2];\n",
"S=[2 0;-1 2];\n",
"T=[0 1;0 0];\n",
"b=rand(2,1);\n",
"p=inv(S)*T;\n",
"x=zeros(2,1);\n",
"disp(x,'intial v & w:')\n",
"x_1=zeros(1,2);\n",
"for k=0:25\n",
"    x_1=p*x+inv(S)*b;\n",
"    x=x_1;\n",
"    disp(k,'k=')\n",
"    disp(x_1,'v(k+1) & w(k+1)=');\n",
"end"
   ]
   }
],
"metadata": {
		  "kernelspec": {
		   "display_name": "Scilab",
		   "language": "scilab",
		   "name": "scilab"
		  },
		  "language_info": {
		   "file_extension": ".sce",
		   "help_links": [
			{
			 "text": "MetaKernel Magics",
			 "url": "https://github.com/calysto/metakernel/blob/master/metakernel/magics/README.md"
			}
		   ],
		   "mimetype": "text/x-octave",
		   "name": "scilab",
		   "version": "0.7.1"
		  }
		 },
		 "nbformat": 4,
		 "nbformat_minor": 0
}
