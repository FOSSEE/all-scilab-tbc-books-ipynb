{
"cells": [
 {
		   "cell_type": "markdown",
	   "metadata": {},
	   "source": [
       "# Chapter 5: Eigenvalues and Eigenvectors"
	   ]
	},
{
		   "cell_type": "markdown",
		   "metadata": {},
		   "source": [
			"## Example 5.1_1: Eigenvalues_and_eigenvectors.sci"
		   ]
		  },
  {
"cell_type": "code",
	   "execution_count": null,
	   "metadata": {
	    "collapsed": true
	   },
	   "outputs": [],
"source": [
"//page 238\n",
"clear;\n",
"close;\n",
"clc;\n",
"A=[3 0;0 2];\n",
"eig=spec(A);\n",
"[V,Val]=spec(A);\n",
"disp(eig,'Eigen values:')\n",
"x1=V(:,1);\n",
"x2=V(:,2);\n",
"disp(x1,x2,'Eigen vectors:');\n",
"//end"
   ]
   }
,
{
		   "cell_type": "markdown",
		   "metadata": {},
		   "source": [
			"## Example 5.1_2: Eigenvalues_and_eigenvectors.sci"
		   ]
		  },
  {
"cell_type": "code",
	   "execution_count": null,
	   "metadata": {
	    "collapsed": true
	   },
	   "outputs": [],
"source": [
"//page 238\n",
"clear;\n",
"close;\n",
"clc;\n",
"disp('The eigen values of a projection matrix are 1 or 0.')\n",
"P=[1/2 1/2;1/2 1/2];\n",
"eig=spec(P);\n",
"[V,Val]=spec(P);\n",
"disp(eig,'Eigen values:')\n",
"x1=V(:,1);\n",
"x2=V(:,2);\n",
"disp(x1,x2,'Eigen vectors:');\n",
"//end"
   ]
   }
,
{
		   "cell_type": "markdown",
		   "metadata": {},
		   "source": [
			"## Example 5.2_1: Diagonalization.sci"
		   ]
		  },
  {
"cell_type": "code",
	   "execution_count": null,
	   "metadata": {
	    "collapsed": true
	   },
	   "outputs": [],
"source": [
"//page 238\n",
"clear;\n",
"close;\n",
"clc;\n",
"A=[1/2 1/2;1/2 1/2];\n",
"[V,Val]=spec(A);\n",
"disp(Val,'Eigenvalue matrix:');\n",
"disp(V,'S=');\n",
"disp(A*V,'AS=S*eigenvaluematrix')\n",
"disp('Therefore inv(S)*A*S=eigenvalue matrix')\n",
"//end"
   ]
   }
,
{
		   "cell_type": "markdown",
		   "metadata": {},
		   "source": [
			"## Example 5.2_2: Diagonalization.sci"
		   ]
		  },
  {
"cell_type": "code",
	   "execution_count": null,
	   "metadata": {
	    "collapsed": true
	   },
	   "outputs": [],
"source": [
"//page 238\n",
"clear;\n",
"close;\n",
"clc;\n",
"disp('The eigenvalues themselves are not so clear for a rotation.')\n",
"disp('90 degree rotation')\n",
"K=[0 -1;1 0];\n",
"disp(K,'K=')\n",
"eig=spec(K);\n",
"[V,Val]=spec(K);\n",
"disp(eig,'Eigen values:')\n",
"x1=V(:,1);\n",
"x2=V(:,2);\n",
"disp(x1,x2,'Eigen vectors:');\n",
"//end"
   ]
   }
,
{
		   "cell_type": "markdown",
		   "metadata": {},
		   "source": [
			"## Example 5.2_3: Powers_and_Products.sci"
		   ]
		  },
  {
"cell_type": "code",
	   "execution_count": null,
	   "metadata": {
	    "collapsed": true
	   },
	   "outputs": [],
"source": [
"//page 249\n",
"clear;\n",
"close;\n",
"clc;\n",
"disp('K is rotation through 90 degree,then K^2 is rotation through 180 degree and inv(k is rotation through -90 degree)')\n",
"K=[0 -1;1 0];\n",
"disp(K,'K=')\n",
"disp(K*K,'K^2=')\n",
"disp(K*K*K,'K^3=')\n",
"disp(K^4,'K^4=')\n",
"[V,D]=spec(K);\n",
"disp('K^4 is a complete rotation through 360 degree.')\n",
"disp(D,'Eigen value matrix,D of K:');\n",
"disp(D^4,'and also D^4=')\n",
"//end"
   ]
   }
,
{
		   "cell_type": "markdown",
		   "metadata": {},
		   "source": [
			"## Example 5.3_1: Difference_equations.sci"
		   ]
		  },
  {
"cell_type": "code",
	   "execution_count": null,
	   "metadata": {
	    "collapsed": true
	   },
	   "outputs": [],
"source": [
"//page 249\n",
"clear;\n",
"close;\n",
"clc;\n",
"A=[0 4;0 1/2];\n",
"disp(A,'A=');\n",
"eig=spec(A);\n",
"disp(eig,'Eigen values:')\n",
"[v,D]=spec(A);\n",
"u0=[v(:,1)];//Taking u0 as the 1st eigen Vector.\n",
"for k=0:5\n",
"    disp(k,'k=');\n",
"    u=A*u0;\n",
"    disp(u,'U(k+1)(K from 0 to 5)')\n",
"    u0=u;\n",
"end\n",
"u0=[v(:,2)];//Taking u0 as the 2nd eigen vector.\n",
"for k=0:5\n",
"    disp(k,'k=');\n",
"    u=A*u0;\n",
"    disp(u,'U(k+1)=')\n",
"    u0=u;\n",
"end"
   ]
   }
,
{
		   "cell_type": "markdown",
		   "metadata": {},
		   "source": [
			"## Example 5.5_1: Complex_matrices.sci"
		   ]
		  },
  {
"cell_type": "code",
	   "execution_count": null,
	   "metadata": {
	    "collapsed": true
	   },
	   "outputs": [],
"source": [
"//page282\n",
"clear;\n",
"close;\n",
"clc;\n",
"i=sqrt(-1);\n",
"x=3+4*i;\n",
"disp(x,'x=');\n",
"x_=conj(x);\n",
"disp(x*x_,'xx_=');\n",
"r=sqrt(x*x_);\n",
"disp(r,'r=')\n",
"//end"
   ]
   }
,
{
		   "cell_type": "markdown",
		   "metadata": {},
		   "source": [
			"## Example 5.5_2: Inner_product_of_a_complex_matrix.sci"
		   ]
		  },
  {
"cell_type": "code",
	   "execution_count": null,
	   "metadata": {
	    "collapsed": true
	   },
	   "outputs": [],
"source": [
"//282\n",
"clear;\n",
"close;\n",
"clc;\n",
"i=sqrt(-1);\n",
"x=[1 i]';\n",
"y=[2+1*i 2-4*i]';\n",
"disp(x'*x,'Length of x squared:');\n",
"disp(y'*y,'Length of y squared:');\n",
"//end"
   ]
   }
],
"metadata": {
		  "kernelspec": {
		   "display_name": "Scilab",
		   "language": "scilab",
		   "name": "scilab"
		  },
		  "language_info": {
		   "file_extension": ".sce",
		   "help_links": [
			{
			 "text": "MetaKernel Magics",
			 "url": "https://github.com/calysto/metakernel/blob/master/metakernel/magics/README.md"
			}
		   ],
		   "mimetype": "text/x-octave",
		   "name": "scilab",
		   "version": "0.7.1"
		  }
		 },
		 "nbformat": 4,
		 "nbformat_minor": 0
}
