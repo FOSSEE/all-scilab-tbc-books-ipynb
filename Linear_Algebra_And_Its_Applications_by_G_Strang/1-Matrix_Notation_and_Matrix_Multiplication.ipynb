{
"cells": [
 {
		   "cell_type": "markdown",
	   "metadata": {},
	   "source": [
       "# Chapter 1: Matrix Notation and Matrix Multiplication"
	   ]
	},
{
		   "cell_type": "markdown",
		   "metadata": {},
		   "source": [
			"## Example 1.3_1: Breakdown_of_elimination.sci"
		   ]
		  },
  {
"cell_type": "code",
	   "execution_count": null,
	   "metadata": {
	    "collapsed": true
	   },
	   "outputs": [],
"source": [
"clear;\n",
"close;\n",
"clc;\n",
"a =[1 1 1;2 2 5;4 6 8]\n",
"disp('x=[u;v;w]')\n",
"disp('R2=R2-R1,R3=R3-4*R1')\n",
"a(2,:)=a(2,:)-2*a(1,:);\n",
"a(3,:)=a(3,:)-4*a(1,:);\n",
"disp(a);\n",
"disp('R2<->R3')\n",
"b=a(2,:);\n",
"a(2,:)=a(3,:);\n",
"a(3,:)=b;\n",
"disp(a);\n",
"disp('The system is now triangular and the equations can be solved by Back substitution');\n",
"//end"
   ]
   }
,
{
		   "cell_type": "markdown",
		   "metadata": {},
		   "source": [
			"## Example 1.3_2: Breakdown_of_elimination.sci"
		   ]
		  },
  {
"cell_type": "code",
	   "execution_count": null,
	   "metadata": {
	    "collapsed": true
	   },
	   "outputs": [],
"source": [
"clear ;\n",
"close ;\n",
"clc ;\n",
"a =[1 1 1;2 2 5;4 4 8];\n",
"disp(a,'a=');\n",
"disp('x=[u;v;w]');\n",
"disp('R2=R2-2*R1,R3=R3-4*R1');\n",
"a(2,:)=a(2,:)-2*a(1,:);\n",
"a(3,:)=a(3,:)-4*a(1,:);\n",
"disp(a);\n",
"disp('No exchange of equations can avoid zero in the second pivot positon ,therefore the equations are unsolvable');\n",
"//end"
   ]
   }
,
{
		   "cell_type": "markdown",
		   "metadata": {},
		   "source": [
			"## Example 1.4_1: Multiplication_of_Two_Matrices.sci"
		   ]
		  },
  {
"cell_type": "code",
	   "execution_count": null,
	   "metadata": {
	    "collapsed": true
	   },
	   "outputs": [],
"source": [
"clear ;\n",
"close ;\n",
"clc ;\n",
"A=[2 3;4 0];\n",
"disp(A,'A=');\n",
"B=[1 2 0;5 -1 0];\n",
"disp(B,'B');\n",
"disp(A*B,'AB=')\n",
"//end"
   ]
   }
,
{
		   "cell_type": "markdown",
		   "metadata": {},
		   "source": [
			"## Example 1.4_2: Multiplication_with_Row_exchange_matrix.sci"
		   ]
		  },
  {
"cell_type": "code",
	   "execution_count": null,
	   "metadata": {
	    "collapsed": true
	   },
	   "outputs": [],
"source": [
"clear;\n",
"close;\n",
"clc;\n",
"A=[2 3;7 8];\n",
"disp(A,'A=');\n",
"P=[0 1;1 0];\n",
"disp(P,'P(Row exchange matrix)=')\n",
"disp(P*A,'PA=')\n",
"//end"
   ]
   }
,
{
		   "cell_type": "markdown",
		   "metadata": {},
		   "source": [
			"## Example 1.4_3: Multiplication_with_Identity_Matrix.sci"
		   ]
		  },
  {
"cell_type": "code",
	   "execution_count": null,
	   "metadata": {
	    "collapsed": true
	   },
	   "outputs": [],
"source": [
"//page 24\n",
"clear;\n",
"close;\n",
"clc;\n",
"A=[1 2;3 4];\n",
"disp(A,'A=');\n",
"I=eye(2,2);\n",
"disp(I,'I=');\n",
"disp(I*A,'IA=')\n",
"//end"
   ]
   }
,
{
		   "cell_type": "markdown",
		   "metadata": {},
		   "source": [
			"## Example 1.4_4: Marix_multiplication_not_commutative.sci"
		   ]
		  },
  {
"cell_type": "code",
	   "execution_count": null,
	   "metadata": {
	    "collapsed": true
	   },
	   "outputs": [],
"source": [
"//page 25\n",
"clear;\n",
"close;\n",
"clc;\n",
"E=eye(3,3);\n",
"E(2,:)=E(2,:)-2*E(1,:);\n",
"disp(E,'E=');\n",
"F=eye(3,3);\n",
"F(3,:)=F(3,:)+F(1,:);\n",
"disp(F,'F=');\n",
"disp(E*F,'EF=')\n",
"disp(F*E,'FE=')\n",
"disp('Here,EF=FE,so this shows that these two matrices commute')\n",
"//end"
   ]
   }
,
{
		   "cell_type": "markdown",
		   "metadata": {},
		   "source": [
			"## Example 1.4_5: Order_of_Elimination.sci"
		   ]
		  },
  {
"cell_type": "code",
	   "execution_count": null,
	   "metadata": {
	    "collapsed": true
	   },
	   "outputs": [],
"source": [
"//page 25\n",
"clear;\n",
"close;\n",
"clc;\n",
"E=eye(3,3);\n",
"E(2,:)=E(2,:)-2*E(1,:);\n",
"disp(E,'E')\n",
"F=eye(3,3);\n",
"F(3,:)=F(3,:)+F(1,:);\n",
"disp(F,'F=');\n",
"G=eye(3,3);\n",
"G(3,:)=G(3,:)+G(2,:);\n",
"disp(G,'G')\n",
"disp(G*E,'GE=')\n",
"disp(E*G,'EG=')\n",
"disp('Here EG is not equal to GE,Therefore these two matrices do not commute and shows that most matrices do not commute.')\n",
"disp(G*F*E,'GFE=')\n",
"disp(E*F*G,'EFG=')\n",
"disp('The product GFE is the true order of elimation.It is the matrix that takes the original A to the upper triangular U.')\n",
"//end"
   ]
   }
,
{
		   "cell_type": "markdown",
		   "metadata": {},
		   "source": [
			"## Example 1.5_1: Triangular_factorization.sci"
		   ]
		  },
  {
"cell_type": "code",
	   "execution_count": null,
	   "metadata": {
	    "collapsed": true
	   },
	   "outputs": [],
"source": [
"//page 34\n",
"clear;\n",
"close;\n",
"clc;\n",
"A=[1 2;3 8];\n",
"disp(A,'A=')\n",
"[L,U]=lu(A);\n",
"disp(L,'L=');\n",
"disp(U,'U=')\n",
"disp('LU=')\n",
"disp(L*U)\n",
"disp('This shows that LU=A')\n",
"//end"
   ]
   }
,
{
		   "cell_type": "markdown",
		   "metadata": {},
		   "source": [
			"## Example 1.5_2: To_check_LU_equals_to_A.sci"
		   ]
		  },
  {
"cell_type": "code",
	   "execution_count": null,
	   "metadata": {
	    "collapsed": true
	   },
	   "outputs": [],
"source": [
"//page 34\n",
"clear;\n",
"close;\n",
"clc;\n",
"A=[0 2;3 4];\n",
"disp(A,'A=')\n",
"disp('Here this cannot be factored into A=LU,(Needs a row exchange)');\n",
"//end"
   ]
   }
,
{
		   "cell_type": "markdown",
		   "metadata": {},
		   "source": [
			"## Example 1.5_3: To_check_LU_equals_to_A.sci"
		   ]
		  },
  {
"cell_type": "code",
	   "execution_count": null,
	   "metadata": {
	    "collapsed": true
	   },
	   "outputs": [],
"source": [
"//page 34\n",
"clear;\n",
"close;\n",
"clc;\n",
"disp('Given Matrix:')\n",
"A=[1 1 1;1 2 2;1 2 3];\n",
"disp(A,'A=');\n",
"[L,U]=lu(A);\n",
"disp(L,'L=');\n",
"disp(U,'U=');\n",
"disp(L*U,'LU=');\n",
"disp('Here LU=A,from A to U there are subtraction of rows.Frow U to A there are additions of rows');\n",
"//end"
   ]
   }
,
{
		   "cell_type": "markdown",
		   "metadata": {},
		   "source": [
			"## Example 1.5_4: If_U_equals_to_I_then_L_equals_to_A.sci"
		   ]
		  },
  {
"cell_type": "code",
	   "execution_count": null,
	   "metadata": {
	    "collapsed": true
	   },
	   "outputs": [],
"source": [
"//page 34\n",
"clear;\n",
"close;\n",
"clc;\n",
"a=rand(1);\n",
"b=rand(1);\n",
"c=rand(1);\n",
"L=[1 0 0;a 1 0;b c 1];\n",
"disp(L,'L=');\n",
"U=eye(3,3);\n",
"disp(U,'U=');\n",
"E=[1 0 0;-a 1 0;0 0 1];\n",
"disp(E,'E=');\n",
"F=[1 0 0;0 1 0;-b 0 1];\n",
"disp(F,'F=');\n",
"G=[1 0 0;0 1 0;0 -c 1];\n",
"disp(G,'G=');\n",
"disp('A=inv(E)*inv(F)*inv(G)*U')\n",
"A=inv(E)*inv(F)*inv(G)*U;\n",
"disp(A,'A=');\n",
"disp('When U is identity matrix then L is same as A');\n",
"//end"
   ]
   }
,
{
		   "cell_type": "markdown",
		   "metadata": {},
		   "source": [
			"## Example 1.5_5: Spilting_A_to_L_and_U.sci"
		   ]
		  },
  {
"cell_type": "code",
	   "execution_count": null,
	   "metadata": {
	    "collapsed": true
	   },
	   "outputs": [],
"source": [
"//page 39\n",
"clear;\n",
"close;\n",
"clc;\n",
"A=[1 -1 0 0 ;-1 2 -1 0;0 -1 2 -1;0 0 -1 2];\n",
"disp(A,'A=');\n",
"[L,U]=lu(A);\n",
"disp(U,'U=');\n",
"disp(L,'L=');\n",
"disp('This shows how a matrix A with 3 diagnols has factors L and U with two diagnols.')\n",
"//end"
   ]
   }
,
{
		   "cell_type": "markdown",
		   "metadata": {},
		   "source": [
			"## Example 1.5_6: Solving_for_X_using_L_and_U.sci"
		   ]
		  },
  {
"cell_type": "code",
	   "execution_count": null,
	   "metadata": {
	    "collapsed": true
	   },
	   "outputs": [],
"source": [
"//page 36\n",
"clear;\n",
"close;\n",
"clc;\n",
"a=[1 -1 0 0;-1 2 -1 0;0 -1 2 -1;0 0 -1 2]; \n",
"disp(a,'a=')\n",
"b=[1;1;1;1]\n",
"disp(b,'b=')\n",
"disp('Given Equation ,ax=b')\n",
"[L,U]=lu(a);\n",
"disp(U,'U=');\n",
"disp(L,'L=');\n",
"disp('Augmented Matrix of L and b=');\n",
"A=[L b];\n",
"disp(A) \n",
"c=zeros(4,1);\n",
"n=4;\n",
"//Algorithm Finding the value of c\n",
"c(1)=A(1,n+1)/A(1,1);\n",
"for i=2:n;\n",
"    sumk=0;\n",
"    for k=1:n-1\n",
"        sumk=sumk+A(i,k)*c(k);\n",
"    end\n",
"    c(i)=(A(i,n+1)-sumk)/A(i,i)\n",
"end\n",
"disp(c,'c=')\n",
"x=zeros(4,1);\n",
"disp('Augmented matrix of U and c=')\n",
"B=[U c];\n",
"disp(B) \n",
"//Algorithm for finding value of x\n",
"x(n)=B(n,n+1)/B(n,n);\n",
"for i=n-1:-1:1;\n",
"    sumk=0;\n",
"    for k=i+1:n\n",
"        sumk=sumk+B(i,k)*x(k);\n",
"    end\n",
"    x(i)=(B(i,n+1)-sumk)/B(i,i);\n",
"end\n",
"disp(x,'x=') \n",
"//end"
   ]
   }
,
{
		   "cell_type": "markdown",
		   "metadata": {},
		   "source": [
			"## Example 1.5_7: Elimination_in_a_nutshell.sci"
		   ]
		  },
  {
"cell_type": "code",
	   "execution_count": null,
	   "metadata": {
	    "collapsed": true
	   },
	   "outputs": [],
"source": [
"//page 39\n",
"clear;\n",
"close;\n",
"clc;\n",
"A=[1 1 1;1 1 3;2 5 8];\n",
"disp(A,'A=');\n",
"[L,U,P]=lu(A);\n",
"disp(L,'L=');\n",
"disp(U,'U=');\n",
"disp(P,'P=');\n",
"disp(P*A,'PA=')\n",
"disp(L*U,'LU=')\n",
"disp('This shows that PA is the same as LU')\n",
"//end"
   ]
   }
,
{
		   "cell_type": "markdown",
		   "metadata": {},
		   "source": [
			"## Example 1.6_1: Gauss_Jordon_method.sci"
		   ]
		  },
  {
"cell_type": "code",
	   "execution_count": null,
	   "metadata": {
	    "collapsed": true
	   },
	   "outputs": [],
"source": [
"//page 47\n",
"clear;\n",
"close;\n",
"clc;\n",
"disp('Given matrix:')\n",
"A=[2 1 1;4 -6 0;-2 7 2];\n",
"disp(A);\n",
"[n,m]=size(A);\n",
"disp('Augmented matrix :')\n",
"a=[A eye(n,m)];\n",
"disp(a)\n",
"disp('R2=R2-2*R1,R3=R3-(-2)*R1');\n",
"a(2,:)=a(2,:)-2*a(1,:);\n",
"a(3,:)=a(3,:)-(-1)*a(1,:);\n",
"disp(a)\n",
"disp('R3=R3-(-1)*R2');\n",
"a(3,:)=a(3,:)-(-1)*a(2,:);\n",
"disp(a,'a=')\n",
"disp(a,'[U inv(L)] :')\n",
"disp('R2=R2-(-2)*R3,R1=R1-R3')\n",
"a(2,:)=a(2,:)-(-2)*a(3,:);\n",
"a(1,:)=a(1,:)-a(3,:);\n",
"disp(a)\n",
"disp('R1=R1-(-1/8)*R2)')\n",
"a(1,:)=a(1,:)-(-1/8)*a(2,:);\n",
"disp(a)\n",
"a(1,:)=a(1,:)/a(1,1);\n",
"a(2,:)=a(2,:)/a(2,2);\n",
"disp('[I inv(A)]:')\n",
"a(3,:)=a(3,:)/a(3,3);\n",
"disp(a);\n",
"disp('inv(A):')\n",
"a(:,4:6);\n",
"disp(a(:,4:6))"
   ]
   }
,
{
		   "cell_type": "markdown",
		   "metadata": {},
		   "source": [
			"## Example 1.6_2: Symmetric_products.sci"
		   ]
		  },
  {
"cell_type": "code",
	   "execution_count": null,
	   "metadata": {
	    "collapsed": true
	   },
	   "outputs": [],
"source": [
"//Caption :Symmetric Products \n",
"//Example:1.6.2-To Find the product of transpose(R)and R.\n",
"//page 51\n",
"clear;\n",
"close;\n",
"clc;\n",
"R=[1 2];\n",
"disp(R,'R=');\n",
"Rt=R';\n",
"disp(Rt,'Transpose of the given matrix is :')\n",
"disp(R*Rt,'The product of R & transpose(R)is :')\n",
"disp(Rt*R,'The product of transpose(R)& R is :' )\n",
"disp('Rt*R and R*Rt are not likely to be equal even if m==n.')\n",
"//end"
   ]
   }
],
"metadata": {
		  "kernelspec": {
		   "display_name": "Scilab",
		   "language": "scilab",
		   "name": "scilab"
		  },
		  "language_info": {
		   "file_extension": ".sce",
		   "help_links": [
			{
			 "text": "MetaKernel Magics",
			 "url": "https://github.com/calysto/metakernel/blob/master/metakernel/magics/README.md"
			}
		   ],
		   "mimetype": "text/x-octave",
		   "name": "scilab",
		   "version": "0.7.1"
		  }
		 },
		 "nbformat": 4,
		 "nbformat_minor": 0
}
