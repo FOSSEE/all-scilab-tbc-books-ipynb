{
"cells": [
 {
		   "cell_type": "markdown",
	   "metadata": {},
	   "source": [
       "# Chapter 4: Determinants"
	   ]
	},
{
		   "cell_type": "markdown",
		   "metadata": {},
		   "source": [
			"## Example 4.3_1: Determinant_of_a_matrix_is_the_product_of_its_pivots.sci"
		   ]
		  },
  {
"cell_type": "code",
	   "execution_count": null,
	   "metadata": {
	    "collapsed": true
	   },
	   "outputs": [],
"source": [
"clear;\n",
"close;\n",
"clc;\n",
"n=input('Enter the value of n:');\n",
"for i=1\n",
"    for j=i;\n",
"        a(i,j)=2;\n",
"        a(i,j+1)=-1;\n",
"    end\n",
"end\n",
"for i=2:n-1\n",
"    for j=i\n",
"        a(i,j-1)=-1;\n",
"        a(i,j)=2;\n",
"        a(i,j+1)=-1;\n",
"    end\n",
"end\n",
"for i=n\n",
"    for j=i\n",
"        a(i,j-1)=-1;\n",
"        a(i,j)=2;\n",
"    end\n",
"end\n",
"disp(a,'a='); \n",
"[L,D,U]=lu(a)\n",
"determinant=1;\n",
"for i=1:n\n",
"        determinant=determinant*D(i,i);\n",
"end\n",
"disp(determinant,'Determinant=')\n",
"//end"
   ]
   }
,
{
		   "cell_type": "markdown",
		   "metadata": {},
		   "source": [
			"## Example 4.3_2: Calculation_of_determinant_of_a_matrix_by_using_cofactors.sci"
		   ]
		  },
  {
"cell_type": "code",
	   "execution_count": null,
	   "metadata": {
	    "collapsed": true
	   },
	   "outputs": [],
"source": [
"clear;\n",
"close;\n",
"clc;\n",
"disp('For a 3*3 matrix:')\n",
"disp('det A=a11(a22a33-a23a32)+a12(a23a31-a21a33)+a13(a21a32-a22a31)')\n",
"//end"
   ]
   }
,
{
		   "cell_type": "markdown",
		   "metadata": {},
		   "source": [
			"## Example 4.3_3: Calculation_of_determinant_of_a_matrix_by_using_cofactors.sci"
		   ]
		  },
  {
"cell_type": "code",
	   "execution_count": null,
	   "metadata": {
	    "collapsed": true
	   },
	   "outputs": [],
"source": [
"//page 214\n",
"clear;\n",
"close;\n",
"clc;\n",
"A=[2 -1 0 0;-1 2 -1 0;0 -1 2 -1;0 0 -1 2];\n",
"disp(A,'A=');\n",
"[m,n]=size(A)\n",
"a=A(1,:);\n",
"c=[];\n",
"for l=1:4\n",
"    B=A([1:0,2:4],[1:l-1,l+1:4]);\n",
"    c1l=(-1)^(1+l)*det(B);\n",
"    c=[c;c1l];\n",
"end\n",
"d=a*c;\n",
"disp(d)"
   ]
   }
,
{
		   "cell_type": "markdown",
		   "metadata": {},
		   "source": [
			"## Example 4.4_1: Inverse_of_a_sum_matrix_is_a_difference_matrix.sci"
		   ]
		  },
  {
"cell_type": "code",
	   "execution_count": null,
	   "metadata": {
	    "collapsed": true
	   },
	   "outputs": [],
"source": [
"//282\n",
"clear;\n",
"close;\n",
"clc;\n",
"A=[1 1 1;0 1 1;0 0 1];\n",
"disp(A,'A=')\n",
"n=size(A,1); d=1:n-1;\n",
"B=zeros(n); AA=[A,A;A,A]';\n",
"for j=1:n\n",
"   for k=1:n\n",
"       B(j,k)=det(AA(j+d,k+d));\n",
"   end\n",
"end\n",
"disp(B,'Adjoint of A:');\n",
"disp(B/det(A),'inv(A):');\n",
"//end"
   ]
   }
,
{
		   "cell_type": "markdown",
		   "metadata": {},
		   "source": [
			"## Example 4.4_2: Cramers_rule.sci"
		   ]
		  },
  {
"cell_type": "code",
	   "execution_count": null,
	   "metadata": {
	    "collapsed": true
	   },
	   "outputs": [],
"source": [
"//page 222\n",
"clear;\n",
"close;\n",
"clc;\n",
"//x1+3x2=0\n",
"//2x1+4x2=6\n",
"A=[1 3;2 4];\n",
"b=[0;6];\n",
"X1=[0 3;6 4];\n",
"X2=[1 0;2 6];\n",
"disp(det(X1)/det(A),'x1=');\n",
"disp(det(X2)/det(A),'x2=');\n",
"//end"
   ]
   }
],
"metadata": {
		  "kernelspec": {
		   "display_name": "Scilab",
		   "language": "scilab",
		   "name": "scilab"
		  },
		  "language_info": {
		   "file_extension": ".sce",
		   "help_links": [
			{
			 "text": "MetaKernel Magics",
			 "url": "https://github.com/calysto/metakernel/blob/master/metakernel/magics/README.md"
			}
		   ],
		   "mimetype": "text/x-octave",
		   "name": "scilab",
		   "version": "0.7.1"
		  }
		 },
		 "nbformat": 4,
		 "nbformat_minor": 0
}
