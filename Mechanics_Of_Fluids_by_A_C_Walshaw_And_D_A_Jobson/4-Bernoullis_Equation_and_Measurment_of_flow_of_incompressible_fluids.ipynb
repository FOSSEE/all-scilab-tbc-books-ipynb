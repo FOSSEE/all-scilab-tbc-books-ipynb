{
"cells": [
 {
		   "cell_type": "markdown",
	   "metadata": {},
	   "source": [
       "# Chapter 4: Bernoullis Equation and Measurment of flow of incompressible fluids"
	   ]
	},
{
		   "cell_type": "markdown",
		   "metadata": {},
		   "source": [
			"## Example 4.1_1: chapter_4_example_1_1.sce"
		   ]
		  },
  {
"cell_type": "code",
	   "execution_count": null,
	   "metadata": {
	    "collapsed": true
	   },
	   "outputs": [],
"source": [
"clc\n",
"//initialisation of variables\n",
"H= 33 //ft lbf/lbf\n",
"Q= 100 //ft^3/min\n",
"w= 62.4 //lbf/ft^3\n",
"s= 0.8\n",
"//CALCULATIONS\n",
"P= s*w*Q*H/33000\n",
"//RESULTS\n",
"printf (' power required= %.2f h.p',P)"
   ]
   }
,
{
		   "cell_type": "markdown",
		   "metadata": {},
		   "source": [
			"## Example 4.2_2: Chapter_4_example_2_2.sce"
		   ]
		  },
  {
"cell_type": "code",
	   "execution_count": null,
	   "metadata": {
	    "collapsed": true
	   },
	   "outputs": [],
"source": [
"clc\n",
"//initialisation of variables\n",
"g= 32.2 //ft/sec^2\n",
"h= 1 //in\n",
"ww= 62.4 //lbf/ft^3\n",
"w= 0.0764 //lbf/ft^3\n",
"//CALCULATIONS\n",
"u= sqrt(2*g*h*(1/12)*(ww/w))\n",
"//RESULTS\n",
"printf (' speed of air through the tunnel= %.1f ft/sec',u)"
   ]
   }
,
{
		   "cell_type": "markdown",
		   "metadata": {},
		   "source": [
			"## Example 4.3_1: chapter_4_example_3_1.sce"
		   ]
		  },
  {
"cell_type": "code",
	   "execution_count": null,
	   "metadata": {
	    "collapsed": true
	   },
	   "outputs": [],
"source": [
"clc\n",
"//initialisation of variables\n",
"za= 0 //ft\n",
"zb= 12 //ft\n",
"w= 62.3 //lbf/ft^2\n",
"pa= 750 //lbf/in^2\n",
"p= 700 //lbf/in^2\n",
"ua= 3 //ft/sec\n",
"g= 32.2 //ft/sec^2\n",
"d= 2 //in^2\n",
"//CALCULATIONS\n",
"ub= 4*ua\n",
"Hl= (za-zb)+((pa-p)*144/w)+(ua^2-ub^2)/(2*g)\n",
"P= (w*ua*(%pi/4)*Hl*d^2)/(144*550)\n",
"//RESULTS\n",
"printf (' horse-power expended in over coming losses= %.2f h.p',P)"
   ]
   }
,
{
		   "cell_type": "markdown",
		   "metadata": {},
		   "source": [
			"## Example 4.4_1: chapter_4_example_4_1.sce"
		   ]
		  },
  {
"cell_type": "code",
	   "execution_count": null,
	   "metadata": {
	    "collapsed": true
	   },
	   "outputs": [],
"source": [
"clc\n",
"//initialisation of variables\n",
"d= 1 //in\n",
"d1= 3 //in\n",
"h= 9 //in\n",
"p= 3 //percent\n",
"g= 32.2 //ft/sec^2\n",
"s= 13.6 //gm/cm^3\n",
"a= 0.97\n",
"//CALCULATIONS\n",
"Ka= 1/(1-(d/d1)^2)\n",
"C= Ka*%pi*(d/2)^2*sqrt(2*g*(s-1))/144\n",
"C1= a*C\n",
"Q= C1*h/12\n",
"//RESULTs\n",
"printf (' flow rate = %.3f ft^3/sec ',Q)"
   ]
   }
,
{
		   "cell_type": "markdown",
		   "metadata": {},
		   "source": [
			"## Example 4.4_2: chapter_4_example_4_2.sce"
		   ]
		  },
  {
"cell_type": "code",
	   "execution_count": null,
	   "metadata": {
	    "collapsed": true
	   },
	   "outputs": [],
"source": [
"clc\n",
"//initialisation of variables\n",
"Q= 1.4 //ft^3/sec\n",
"d= 6 //in\n",
"d1= 3 //in\n",
"h= 9 //in\n",
"s= 13.6/0.78\n",
"C= 0.96\n",
"g= 32.2 //ft/sec^2\n",
"w= 62.3 //lb/ft^3\n",
"//CALCULATIONS\n",
"h1= (Q*4*12^2/(C*%pi*d1^2))^2*(1-(d1/(2*d))^2)/(2*g*(s-1))\n",
"dpbyw= (h/12)+((s)-1)*h1\n",
"dp= dpbyw*h1*w/144\n",
"//RESULTS\n",
"printf (' pressure difference = %.2f lbf/in^2 ',dp)"
   ]
   }
,
{
		   "cell_type": "markdown",
		   "metadata": {},
		   "source": [
			"## Example 4.5_1: chapter_4_example_5_1.sce"
		   ]
		  },
  {
"cell_type": "code",
	   "execution_count": null,
	   "metadata": {
	    "collapsed": true
	   },
	   "outputs": [],
"source": [
"clc\n",
"//initialisation of variables\n",
"C= 0.6\n",
"s= 0.0767 //lbf/ft^3\n",
"g= 32.2 //ft/sec^2\n",
"w= 62.4 //lbf/ft^3\n",
"Hw= 0.7 //in\n",
"//CALCULATIONS\n",
"Ha= Hw*w/(s*12)\n",
"Q= C*%pi*sqrt(2*g*Ha)/144\n",
"//RESULTS\n",
"printf (' volumetric flow rate = %.3f ft^3/sec ',Q)"
   ]
   }
,
{
		   "cell_type": "markdown",
		   "metadata": {},
		   "source": [
			"## Example 4.5_3: chapter_4_example_5_3.sce"
		   ]
		  },
  {
"cell_type": "code",
	   "execution_count": null,
	   "metadata": {
	    "collapsed": true
	   },
	   "outputs": [],
"source": [
"clc\n",
"//initialisation of variables\n",
"g= 32.2 //ft/sec^2\n",
"h= 5 //ft\n",
"Q= 0.6 //ft^3/sec\n",
"Cd= 0.6\n",
"d= 2//in\n",
"Q1= 0.315 //ft^3/sec\n",
"h1= 8 //ft\n",
"h2= 2 //ft\n",
"A= 9 //ft^2\n",
"//CALCULATIONS\n",
"H= Q1^2/((Cd*%pi*(d/24)^2)^2*2*g)\n",
"T= A*2*(sqrt(h1)-sqrt(h2))/(Cd*sqrt(2*g)*60*(d/24)^2)\n",
"dhbyt= (Q-Cd*%pi*(d/24)^2*sqrt(2*g*h))*60*12/(%pi*A)\n",
"//RESULTS\n",
"printf (' depth of the water = %.f ft ',H)\n",
"printf (' \n time taken = %.1f min ',T)\n",
"printf (' \n rate of rise in water = %.1f in/min ',dhbyt)"
   ]
   }
,
{
		   "cell_type": "markdown",
		   "metadata": {},
		   "source": [
			"## Example 4.6_1: chapter_4_example_6_1.sce"
		   ]
		  },
  {
"cell_type": "code",
	   "execution_count": null,
	   "metadata": {
	    "collapsed": true
	   },
	   "outputs": [],
"source": [
"clc\n",
"//initialisation of variables\n",
"d= 8 //in\n",
"d1= 1.5 //in\n",
"Cd= 0.65\n",
"w= 62.3 //lbf.ft^3\n",
"W= 25 //tonf\n",
"u= 5 //miles/hour\n",
"u1= 20 //miles/hour\n",
"//CALCULATIONS\n",
"ds= W*2240*d1^4*Cd^2*log(u1/u)/(w*d^4*%pi*(d/24)^2)\n",
"T= W*2240*d1^4*Cd^2*((5/(u*7.33))-(20/(u1*29.35)))/(w*d^4*%pi*(d/24)^2)\n",
"//RESULTS\n",
"printf (' Distance that piston moves= %.2f ft ',ds)\n",
"printf (' \n time taken = %.4f sec ',T)"
   ]
   }
,
{
		   "cell_type": "markdown",
		   "metadata": {},
		   "source": [
			"## Example 4.7_1: chapter_4_example_7_1.sce"
		   ]
		  },
  {
"cell_type": "code",
	   "execution_count": null,
	   "metadata": {
	    "collapsed": true
	   },
	   "outputs": [],
"source": [
"clc\n",
"//initialisation of variables\n",
"c= 0.002378 //slug/ft^3\n",
"u= 420 //mile/hour.\n",
"//CALCULATIONS\n",
"P= 0.5*c*u*616^2/420\n",
"//RESULTS\n",
"printf (' Dynamic pressure= %.f lbf/ft^2 ',P)"
   ]
   }
,
{
		   "cell_type": "markdown",
		   "metadata": {},
		   "source": [
			"## Example 4.8_2: chapter_4_example_8_2.sce"
		   ]
		  },
  {
"cell_type": "code",
	   "execution_count": null,
	   "metadata": {
	    "collapsed": true
	   },
	   "outputs": [],
"source": [
"clc\n",
"//initialisation of variables\n",
"g= 32.2 //ft/sec^2\n",
"A= 13 //in^2\n",
"l= 10 //in^1.5\n",
"//CALCULATIONS\n",
"Q= 2*%pi*1.05*sqrt(2*g*12)*A*l/1728\n",
"//RESULTS\n",
"printf (' Rate of flow= %.1f ft^3/sec ',Q)"
   ]
   }
],
"metadata": {
		  "kernelspec": {
		   "display_name": "Scilab",
		   "language": "scilab",
		   "name": "scilab"
		  },
		  "language_info": {
		   "file_extension": ".sce",
		   "help_links": [
			{
			 "text": "MetaKernel Magics",
			 "url": "https://github.com/calysto/metakernel/blob/master/metakernel/magics/README.md"
			}
		   ],
		   "mimetype": "text/x-octave",
		   "name": "scilab",
		   "version": "0.7.1"
		  }
		 },
		 "nbformat": 4,
		 "nbformat_minor": 0
}
