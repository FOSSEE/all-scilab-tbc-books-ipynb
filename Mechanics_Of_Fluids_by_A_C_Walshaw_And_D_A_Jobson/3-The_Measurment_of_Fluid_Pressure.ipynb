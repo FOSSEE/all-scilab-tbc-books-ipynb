{
"cells": [
 {
		   "cell_type": "markdown",
	   "metadata": {},
	   "source": [
       "# Chapter 3: The Measurment of Fluid Pressure"
	   ]
	},
{
		   "cell_type": "markdown",
		   "metadata": {},
		   "source": [
			"## Example 3.1_1: chapter_3_example_1_1.sce"
		   ]
		  },
  {
"cell_type": "code",
	   "execution_count": null,
	   "metadata": {
	    "collapsed": true
	   },
	   "outputs": [],
"source": [
"clc\n",
"//initialisation of variables\n",
"p= 14.7 //lbf/in^2\n",
"p1= 5 //lbf/in^2\n",
"w= 62.3 //lbf/ft^3\n",
"h= 30 //ft\n",
"//CALCULATIONS\n",
"hmax= (p-p1)*144/w\n",
"hmin= h-hmax\n",
"//RESULTS\n",
"printf (' Minimum depth of the water= %.1f ft',hmin)"
   ]
   }
,
{
		   "cell_type": "markdown",
		   "metadata": {},
		   "source": [
			"## Example 3.2_1: chapter_3_example_2_1.sce"
		   ]
		  },
  {
"cell_type": "code",
	   "execution_count": null,
	   "metadata": {
	    "collapsed": true
	   },
	   "outputs": [],
"source": [
"clc\n",
"//initialisation of variables\n",
"T= 20 //C\n",
"h= 1 //cm\n",
"dw= 1 //gf/cm^3\n",
"dm= 13.6 //gf/cm^3\n",
"g= 981 //dyne\n",
"Tw= 74 //dyne/cm\n",
"Tm= 465 //dyne/cm\n",
"//CALCULATIONS\n",
"hw= (4*Tw)/(dw*g*(h/10))\n",
"hm= (4*Tm*cosd(130))/(dm*g*(h/10))\n",
"//RESULTS\n",
"printf (' capillary rise of water= %.1f cm',hw)\n",
"printf (' \n capillary rise of mercury= %.2f cm',hm)"
   ]
   }
,
{
		   "cell_type": "markdown",
		   "metadata": {},
		   "source": [
			"## Example 3.4_1: chapter_3_example_4_1.sce"
		   ]
		  },
  {
"cell_type": "code",
	   "execution_count": null,
	   "metadata": {
	    "collapsed": true
	   },
	   "outputs": [],
"source": [
"clc\n",
"//initialisation of variables\n",
"w1= 0.81\n",
"w2= 0.80\n",
"r= 40\n",
"//CALCULATIONS\n",
"r1= (2*w1)/(w1-w2+(1/r)*(w1+w2))\n",
"//RESULTS\n",
"printf (' limiting ratio= %.1f ',r1)"
   ]
   }
,
{
		   "cell_type": "markdown",
		   "metadata": {},
		   "source": [
			"## Example 3.4_2: chapter_3_example_4_2.sce"
		   ]
		  },
  {
"cell_type": "code",
	   "execution_count": null,
	   "metadata": {
	    "collapsed": true
	   },
	   "outputs": [],
"source": [
"clc\n",
"//initialisation of variables\n",
"dh= 1 //in\n",
"r= 1/40\n",
"s= 0.9\n",
"w= 62.3 //lb/ft^3\n",
"//CALCULATIONS\n",
"dpbyw= dh*((1+r)-s*(1-r))\n",
"dp= w*dpbyw/1728\n",
"//RESULTS\n",
"printf (' pressure difference = %.2e lbf/in^2 ',dp)\n",
"\n",
"\n",
"//Answer in the textbook is wrong"
   ]
   }
,
{
		   "cell_type": "markdown",
		   "metadata": {},
		   "source": [
			"## Example 3.5_1: chapter_3_example_5_1.sce"
		   ]
		  },
  {
"cell_type": "code",
	   "execution_count": null,
	   "metadata": {
	    "collapsed": true
	   },
	   "outputs": [],
"source": [
"clc\n",
"//initialisation of variables\n",
"x= 1 //in\n",
"y= 10 //in\n",
"r= 40\n",
"//CALCULATIONS\n",
"dbyh= 1/((x/y)+(1/r))\n",
"///RESULTS\n",
"printf (' magnification factor= %.f ',dbyh)"
   ]
   }
,
{
		   "cell_type": "markdown",
		   "metadata": {},
		   "source": [
			"## Example 3.5_2: chapter_3_example_5_2.sce"
		   ]
		  },
  {
"cell_type": "code",
	   "execution_count": null,
	   "metadata": {
	    "collapsed": true
	   },
	   "outputs": [],
"source": [
"clc\n",
"//initialisation of variables\n",
"p= 0.005 //lbf/in^2\n",
"w= 62.4 //lbf/ft^3\n",
"h= 1 //in\n",
"//CALCULATIONS\n",
"p= w*h/1728\n",
"//RESULTS\n",
"printf (' pressure difference = %.4f lbf/in^2 ',p)"
   ]
   }
],
"metadata": {
		  "kernelspec": {
		   "display_name": "Scilab",
		   "language": "scilab",
		   "name": "scilab"
		  },
		  "language_info": {
		   "file_extension": ".sce",
		   "help_links": [
			{
			 "text": "MetaKernel Magics",
			 "url": "https://github.com/calysto/metakernel/blob/master/metakernel/magics/README.md"
			}
		   ],
		   "mimetype": "text/x-octave",
		   "name": "scilab",
		   "version": "0.7.1"
		  }
		 },
		 "nbformat": 4,
		 "nbformat_minor": 0
}
