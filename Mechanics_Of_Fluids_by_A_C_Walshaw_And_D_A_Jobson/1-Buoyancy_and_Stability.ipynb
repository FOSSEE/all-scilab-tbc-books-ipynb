{
"cells": [
 {
		   "cell_type": "markdown",
	   "metadata": {},
	   "source": [
       "# Chapter 1: Buoyancy and Stability"
	   ]
	},
{
		   "cell_type": "markdown",
		   "metadata": {},
		   "source": [
			"## Example 1.4_1: chapter_1_example_4_1.sce"
		   ]
		  },
  {
"cell_type": "code",
	   "execution_count": null,
	   "metadata": {
	    "collapsed": true
	   },
	   "outputs": [],
"source": [
"clc\n",
"//initialisation of variables\n",
"ws= 64 //lbf/ft^3\n",
"wi= 57 //lbf/ft^3\n",
"//CALCULATIONS\n",
"vabyvb= (ws/wi)-1\n",
"vtbyva= (1/vabyvb)+1\n",
"vabyvt= (1/vtbyva)*100\n",
"//RESULTS\n",
"printf ('percentage of total volume extended above the surface= %.1f per cent',vabyvt)"
   ]
   }
,
{
		   "cell_type": "markdown",
		   "metadata": {},
		   "source": [
			"## Example 1.4_2: chapter_1_example_4_2.sce"
		   ]
		  },
  {
"cell_type": "code",
	   "execution_count": null,
	   "metadata": {
	    "collapsed": true
	   },
	   "outputs": [],
"source": [
"clc\n",
"//initialisation of variables\n",
"p= 20 //lbf/in^2\n",
"d1= 4 //in\n",
"d2= 18 //in\n",
"d3= 0.5 //in\n",
"sw= 62.3 //lbf/ft^3\n",
"//CALCULATIONS\n",
"Fa= p*(%pi/4)*d3^2\n",
"Fb= (4/d2)*3.92\n",
"V= 1.5*(Fb/sw)*1728\n",
"r= (0.75*(V/%pi))^(1/3)*2\n",
"//RESULTS\n",
"printf ('diameter of the float= %.2f in',r)"
   ]
   }
,
{
		   "cell_type": "markdown",
		   "metadata": {},
		   "source": [
			"## Example 1.6_1: chapter_1_example_6_1.sce"
		   ]
		  },
  {
"cell_type": "code",
	   "execution_count": null,
	   "metadata": {
	    "collapsed": true
	   },
	   "outputs": [],
"source": [
"clc\n",
"//initialisation of variables\n",
"W= 4 //tonf\n",
"d= 30 //ft\n",
"W1= 2000 //tonf\n",
"O1=(0.015)\n",
"O2= -0.015\n",
"//CALCULATIONS\n",
"O= O1-O2\n",
"GM= (W*d)/(W1*O)\n",
"//RESULTS\n",
"printf ('metacentric height= %.f ft',GM)"
   ]
   }
,
{
		   "cell_type": "markdown",
		   "metadata": {},
		   "source": [
			"## Example 1.6_2: chapter_1_example_6_2.sce"
		   ]
		  },
  {
"cell_type": "code",
	   "execution_count": null,
	   "metadata": {
	    "collapsed": true
	   },
	   "outputs": [],
"source": [
"clc\n",
"//initialisation of variables\n",
"ws= 1/35 //tonf/ft^3\n",
"A= 10500 //ft^2\n",
"wf= 1/36 //tonf/ft^3\n",
"Wo= 7000 //tonf\n",
"Wf= 6950//tonf\n",
"li= 300 //ft\n",
"lh= 400 //ft\n",
"l= 7200 //ft\n",
"l1=50 //ft\n",
"l2= 10 //ft\n",
"l3= 250 //ft\n",
"l4= 40 //ft\n",
"//CALCULATIONS\n",
"Dod= (1/A)*((Wo/wf)-(Wf/ws))\n",
"Ac= ws*A*0.835\n",
"x= (l1*l2+l3*l4)/(l+l3-l1*l2)\n",
"do= (x/lh)*li\n",
"//RESULTS\n",
"printf ('change of draught= %.3f ft',Dod)\n",
"printf (' \n Additional cargo=%.f tonf',Ac)\n",
"printf (' \n change of trim=%.1f ft',do) "
   ]
   }
,
{
		   "cell_type": "markdown",
		   "metadata": {},
		   "source": [
			"## Example 1.6_3: chapter_1_example_6_3.sce"
		   ]
		  },
  {
"cell_type": "code",
	   "execution_count": null,
	   "metadata": {
	    "collapsed": true
	   },
	   "outputs": [],
"source": [
"clc\n",
"//initialisation of variables\n",
"M= 500 //tonf ft/in\n",
"D= 32 //tonf/in\n",
"l= 200 //ft\n",
"L= 380 //ft\n",
"//CALCULATIONS\n",
"x= l+(M/D)*(L/l)\n",
"//RESULTS\n",
"printf ('length= %.1f ft aft',x)"
   ]
   }
,
{
		   "cell_type": "markdown",
		   "metadata": {},
		   "source": [
			"## Example 1.7_2: chapter_1_example_7_2.sce"
		   ]
		  },
  {
"cell_type": "code",
	   "execution_count": null,
	   "metadata": {
	    "collapsed": true
	   },
	   "outputs": [],
"source": [
"clc\n",
"//initialisation of variables\n",
"a= 6\n",
"b= -6\n",
"c= 1\n",
"//CALCULATIONS\n",
"s1= (-b+sqrt(b^2-4*a*c))/(2*a)\n",
"s2= (-b-sqrt(b^2-4*a*c))/(2*a)\n",
"//RESULTS\n",
"printf ('upper limit for specific gravity s= %.3f ',s1)\n",
"printf (' \n lower limit for specific gravity s=%.3f tonf',s2)"
   ]
   }
,
{
		   "cell_type": "markdown",
		   "metadata": {},
		   "source": [
			"## Example 1.7_3: chapter_1_example_7_3.sce"
		   ]
		  },
  {
"cell_type": "code",
	   "execution_count": null,
	   "metadata": {
	    "collapsed": true
	   },
	   "outputs": [],
"source": [
"clc\n",
"//initialisation of variables\n",
"b= 350 //ft\n",
"d= 12 //ft\n",
"L= 46 //ft\n",
"Ac1= 500*80*12 //ft^3\n",
"Ac2= 350*12*9 //ft^3\n",
"//CALCULATIONS\n",
"Ic= (b*d^3)/12\n",
"A= b*d\n",
"Io= Ic+A*L^2\n",
"I= 2*Io\n",
"V= Ac1+2*Ac2\n",
"BM= I/V\n",
"//RESULTS\n",
"printf ('displacement of body= %.1f ft',BM)"
   ]
   }
,
{
		   "cell_type": "markdown",
		   "metadata": {},
		   "source": [
			"## Example 1.8_1: chapter_1_example_8_1.sce"
		   ]
		  },
  {
"cell_type": "code",
	   "execution_count": null,
	   "metadata": {
	    "collapsed": true
	   },
	   "outputs": [],
"source": [
"clc\n",
"//initialisation of variables\n",
"W= 4500 //tonf\n",
"b= 6 //ft\n",
"d= 2.5 //ft\n",
"s= 0.83\n",
"//CALCULATIONS\n",
"I= b*d^3/12\n",
"r= 3*s*I*1000/(W)\n",
"//RESULTS\n",
"printf ('Reduction caused by three compartments= %.3f mmE',r)"
   ]
   }
,
{
		   "cell_type": "markdown",
		   "metadata": {},
		   "source": [
			"## Example 1.9_1: chapter_1_example_9_1.sce"
		   ]
		  },
  {
"cell_type": "code",
	   "execution_count": null,
	   "metadata": {
	    "collapsed": true
	   },
	   "outputs": [],
"source": [
"clc\n",
"//initialisation of variables\n",
"Kg= 12 //ft\n",
"g= 32.2 //ft/s^2\n",
"GM= 2 //ft\n",
"//CALCULATIONS\n",
"T= 2*%pi*sqrt(Kg^2/(g*GM))\n",
"//RESULTS\n",
"printf ('periodic time of rolling of the ship= %.1f sec',T)"
   ]
   }
],
"metadata": {
		  "kernelspec": {
		   "display_name": "Scilab",
		   "language": "scilab",
		   "name": "scilab"
		  },
		  "language_info": {
		   "file_extension": ".sce",
		   "help_links": [
			{
			 "text": "MetaKernel Magics",
			 "url": "https://github.com/calysto/metakernel/blob/master/metakernel/magics/README.md"
			}
		   ],
		   "mimetype": "text/x-octave",
		   "name": "scilab",
		   "version": "0.7.1"
		  }
		 },
		 "nbformat": 4,
		 "nbformat_minor": 0
}
