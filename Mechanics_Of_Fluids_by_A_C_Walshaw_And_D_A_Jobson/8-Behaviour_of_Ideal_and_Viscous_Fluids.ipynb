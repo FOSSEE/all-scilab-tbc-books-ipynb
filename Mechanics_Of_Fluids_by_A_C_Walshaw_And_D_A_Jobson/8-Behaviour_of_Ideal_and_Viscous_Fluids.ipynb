{
"cells": [
 {
		   "cell_type": "markdown",
	   "metadata": {},
	   "source": [
       "# Chapter 8: Behaviour of Ideal and Viscous Fluids"
	   ]
	},
{
		   "cell_type": "markdown",
		   "metadata": {},
		   "source": [
			"## Example 8.2_1: chapter_8_2_1.sce"
		   ]
		  },
  {
"cell_type": "code",
	   "execution_count": null,
	   "metadata": {
	    "collapsed": true
	   },
	   "outputs": [],
"source": [
"clc\n",
"//initialisation of variables\n",
"v= 5*10^-6 //gmsec/m^2\n",
"g= 32.2 //ft/sec^2\n",
"g1= 981 //gm/cm^2\n",
"//CALCULATIONS\n",
"v1= v*2.2*30.5^2/1000\n",
"v2= v1*g\n",
"v3= v*g1*100\n",
"//RESULTS\n",
"printf (' viscosity in lbf sec/ft^2= %.2e lbf sec/ft^2 ',v1)\n",
"printf (' \n viscosity in lb/ft sec = %.2e lb/ft sec ',v2)\n",
"printf (' \n viscosity in centi-poise = %.3f centi-poise ',v3)"
   ]
   }
,
{
		   "cell_type": "markdown",
		   "metadata": {},
		   "source": [
			"## Example 8.3_1: chapter_8_3_1.sce"
		   ]
		  },
  {
"cell_type": "code",
	   "execution_count": null,
	   "metadata": {
	    "collapsed": true
	   },
	   "outputs": [],
"source": [
"clc\n",
"//initialisation of variables\n",
"v= 3.732*10^-7 //slug/ft sec\n",
"y= 0\n",
"//CALCULATIONS\n",
"vbyy= 40000*(1-50*y)\n",
"q= v*vbyy\n",
"//RESULTS\n",
"printf (' viscous shear stress= %.4f lbf/ft^2 ',q)"
   ]
   }
,
{
		   "cell_type": "markdown",
		   "metadata": {},
		   "source": [
			"## Example 8.3_2: chapter_8_3_2.sce"
		   ]
		  },
  {
"cell_type": "code",
	   "execution_count": null,
	   "metadata": {
	    "collapsed": true
	   },
	   "outputs": [],
"source": [
"clc\n",
"//initialisation of variables\n",
"T= 2.95 //lbf ft\n",
"y= 0.025 //in\n",
"d= 3 //in\n",
"d1= 3.05 //in\n",
"h= 8 //in\n",
"w= 450 //r.p.m\n",
"g= 32.2 //ft/sec^2\n",
"//CALCULATIONS\n",
"v= T*y*12*4*60*144*g/(%pi*d*h*d^2*w*2*%pi)\n",
"//RESULTS\n",
"printf (' coefficient of viscocity of oil= %.3f lb/ft sec ',v)"
   ]
   }
,
{
		   "cell_type": "markdown",
		   "metadata": {},
		   "source": [
			"## Example 8.3_3: chapter_8_3_3.sce"
		   ]
		  },
  {
"cell_type": "code",
	   "execution_count": null,
	   "metadata": {
	    "collapsed": true
	   },
	   "outputs": [],
"source": [
"clc\n",
"//initialisation of variables\n",
"v= 0.02 //lb/ft sec\n",
"L= 5 //in\n",
"D= 2.5 //in\n",
"M= 26 //lbf in\n",
"w= 1200 //rev/min\n",
"g= 32.2 //ft/sec^2\n",
"//CALCULATIONS\n",
"C= %pi*v*w*2*%pi*D^3*L/(2*M*g*60*144)\n",
"//RESULTS\n",
"printf (' coefficient= %.4f in ',C)"
   ]
   }
,
{
		   "cell_type": "markdown",
		   "metadata": {},
		   "source": [
			"## Example 8.3_4: chapter_8_3_4.sce"
		   ]
		  },
  {
"cell_type": "code",
	   "execution_count": null,
	   "metadata": {
	    "collapsed": true
	   },
	   "outputs": [],
"source": [
"clc\n",
"//initialisation of variables\n",
"g= 32.2 //ft/sec^2\n",
"l= 2.54 //cm\n",
"g= 32.2 //ft/sec^2\n",
"v= 3.22 //centi-poise\n",
"f= 0.01\n",
"p= 1.74 //lbf/in^2\n",
"w= 100 //rev\n",
"//CALCULATIONS\n",
"V= v*l/(453.6*g*12)\n",
"R= f*p*60/(%pi*2*%pi*w*V)\n",
"//RESULTS\n",
"printf (' relevant ratio of diameter to clearance= %.1f ',R)"
   ]
   }
,
{
		   "cell_type": "markdown",
		   "metadata": {},
		   "source": [
			"## Example 8.4_1: chapter_8_4_1.sce"
		   ]
		  },
  {
"cell_type": "code",
	   "execution_count": null,
	   "metadata": {
	    "collapsed": true
	   },
	   "outputs": [],
"source": [
"clc\n",
"//initialisation of variables\n",
"g= 981 //cm/sec^2\n",
"d= 0.1 //mm\n",
"v= 35 //centi-stokes\n",
"d1= 10 //mm\n",
"d2= 1 //mm\n",
"//CALCULATIONS\n",
"u= g*d^2*100/(18*v*d1^2)\n",
"ub= (d2/d)^2*u\n",
"//RESULTS\n",
"printf (' rate for diameter 0.1 mm= %.4f cm/sec',u) \n",
"printf (' \n rate for diameter 1 mm= %.2f cm/sec',ub) "
   ]
   }
,
{
		   "cell_type": "markdown",
		   "metadata": {},
		   "source": [
			"## Example 8.5_1: chapter_8_5_1.sce"
		   ]
		  },
  {
"cell_type": "code",
	   "execution_count": null,
	   "metadata": {
	    "collapsed": true
	   },
	   "outputs": [],
"source": [
"clc\n",
"//initialisation of variables\n",
"a= 0.25 //ft\n",
"v= 1.2 //oises\n",
"u= 10 //ft/sec\n",
"g= 32.2 //ft/sec^2\n",
"s= 0.9\n",
"d= 6 //in\n",
"//CALCULATIONS\n",
"q= -2*u*v*30.5/(a*454*g)\n",
"Q= %pi*u*(d/24)^2/2\n",
"R= u*s*30.5^2/(4*v)\n",
"//RESULTS\n",
"printf (' quantity flow = %.2f ft^3/sec',q) \n",
"printf (' \n shear stress in the oil = %.2f lbf/ft^2',Q) \n",
"printf (' \n Reynolds number = %.f ',R)"
   ]
   }
,
{
		   "cell_type": "markdown",
		   "metadata": {},
		   "source": [
			"## Example 8.5_2: chapter_8_5_2.sce"
		   ]
		  },
  {
"cell_type": "code",
	   "execution_count": null,
	   "metadata": {
	    "collapsed": true
	   },
	   "outputs": [],
"source": [
"clc\n",
"//initialisation of variables\n",
"s= 0.9\n",
"v= 5 //ft/sec\n",
"l= 10 //ft\n",
"di= 0.5 //in\n",
"n= 100\n",
"u= 0.002 //lbfsec/ft^2\n",
"w= 62.3 //lbf/ft^3\n",
"g= 32.2 //ft/sec^2\n",
"//CALCULATIONS\n",
"dp= 8*u*v*l/(di/2)^2\n",
"hf= dp*144/(s*w)\n",
"hk= v^2/(2*g)\n",
"ht=hf+hk\n",
"P= s*w*n*v*%pi*ht*di^2/(144*4*550)\n",
"//RESULTS\n",
"printf (' horse-power required = %.1f h.p',P)"
   ]
   }
,
{
		   "cell_type": "markdown",
		   "metadata": {},
		   "source": [
			"## Example 8.6_2: chapter_8_6_2.sce"
		   ]
		  },
  {
"cell_type": "code",
	   "execution_count": null,
	   "metadata": {
	    "collapsed": true
	   },
	   "outputs": [],
"source": [
"clc\n",
"//initialisation of variables\n",
"W= 50 //tonf\n",
"v= 0.1 //lb/ft sec\n",
"d= 8//in\n",
"g= 32.2 //ft/sec^2\n",
"r= 0.01\n",
"//CALCULATIONS\n",
"Q= 4*W*2240*g*12*(r/d)^3/(3*%pi*v*(d/12))\n",
"//RESULTS\n",
"printf (' rate = %.3f in/sec',Q)"
   ]
   }
],
"metadata": {
		  "kernelspec": {
		   "display_name": "Scilab",
		   "language": "scilab",
		   "name": "scilab"
		  },
		  "language_info": {
		   "file_extension": ".sce",
		   "help_links": [
			{
			 "text": "MetaKernel Magics",
			 "url": "https://github.com/calysto/metakernel/blob/master/metakernel/magics/README.md"
			}
		   ],
		   "mimetype": "text/x-octave",
		   "name": "scilab",
		   "version": "0.7.1"
		  }
		 },
		 "nbformat": 4,
		 "nbformat_minor": 0
}
