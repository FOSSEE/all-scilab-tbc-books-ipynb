{
"cells": [
 {
		   "cell_type": "markdown",
	   "metadata": {},
	   "source": [
       "# Chapter 13: Varying Flow in Open Channels"
	   ]
	},
{
		   "cell_type": "markdown",
		   "metadata": {},
		   "source": [
			"## Example 13.1_1: chapter_13_example_1_1.sce"
		   ]
		  },
  {
"cell_type": "code",
	   "execution_count": null,
	   "metadata": {
	    "collapsed": true
	   },
	   "outputs": [],
"source": [
"clc\n",
"//initialisation of variables\n",
"b= 15 //in\n",
"h= 1.25 //in\n",
"h1= 2.75 //in\n",
"g= 32.2 //ft/sec^2\n",
"//CACULAIONS\n",
"Q= 3.09*(b/12)*(h/12)^1.5\n",
"u1= Q*144/(b*h1)\n",
"H= (u1^2/(2*g))*12\n",
"h2= H+h\n",
"Q1= 3.09*(b/12)*(h2/12)^1.5\n",
"//RESULTS\n",
"printf (' Rate of flow= %.4f ft^3/sec',Q1)"
   ]
   }
,
{
		   "cell_type": "markdown",
		   "metadata": {},
		   "source": [
			"## Example 13.3_1: chapter_13_example_3_1.sce"
		   ]
		  },
  {
"cell_type": "code",
	   "execution_count": null,
	   "metadata": {
	    "collapsed": true
	   },
	   "outputs": [],
"source": [
"clc\n",
"//initialisation of variables\n",
"C= 100 //ft^0.5/sec\n",
"m= 2 //ft\n",
"i= 0.0003\n",
"y1= 2.6 //ft\n",
"y2= 2.5 //ft\n",
"//CALCULATIONS\n",
"u= C*sqrt(m*i)\n",
"f= u^2/(2*32.2)\n",
"x= i/(1-f)\n",
"x1= (y1-y2)/x\n",
"//RESULTS\n",
"printf (' Distance= %.f ft',x1)"
   ]
   }
,
{
		   "cell_type": "markdown",
		   "metadata": {},
		   "source": [
			"## Example 13.4_1: chapter_13_example_4_1.sce"
		   ]
		  },
  {
"cell_type": "code",
	   "execution_count": null,
	   "metadata": {
	    "collapsed": true
	   },
	   "outputs": [],
"source": [
"clc\n",
"//initialisation of variables\n",
"u1= 0.5 //ft^3/sec\n",
"b= 5 //ft\n",
"w= 4 //ft\n",
"g= 32.2//ft/sec^2\n",
"//CALCULATIONS\n",
"u= u1*12*12/(b*w)\n",
"s= sqrt(g*w/12)\n",
"F= u/s\n",
"r= 0.5*(sqrt(1+8*F^2)-1)\n",
"y= r*w\n",
"yc= (((w*y*(y+w)))/2)^(1/3)\n",
"//CALCULATIONS\n",
"printf (' critical depth= %.2f in',yc)"
   ]
   }
,
{
		   "cell_type": "markdown",
		   "metadata": {},
		   "source": [
			"## Example 13.4_2: chapter_13_example_4_2.sce"
		   ]
		  },
  {
"cell_type": "code",
	   "execution_count": null,
	   "metadata": {
	    "collapsed": true
	   },
	   "outputs": [],
"source": [
"clc\n",
"//initialisation of variables\n",
"w= 2 //ft\n",
"F= 3\n",
"d= 2 //ft\n",
"g= 32.2 //ft/sec^2\n",
"w1= 62.3 //lbf/ft^3\n",
"//CALCULATIONS\n",
"r= 0.5*(sqrt(1+8*F^2)-1)\n",
"y1= w/r\n",
"dy= w-y1\n",
"h1= dy^3/(4*w*y1)\n",
"u1= F*sqrt(g*y1)\n",
"W= w1*y1*u1*d*h1/550\n",
"//RESULTS\n",
"printf (' Horse-power dissipated = %.2f h.p',W)\n",
""
   ]
   }
,
{
		   "cell_type": "markdown",
		   "metadata": {},
		   "source": [
			"## Example 13.5_1: chapter_13_example_5_1.sce"
		   ]
		  },
  {
"cell_type": "code",
	   "execution_count": null,
	   "metadata": {
	    "collapsed": true
	   },
	   "outputs": [],
"source": [
"clc\n",
"//initialisation of variables\n",
"Q= 20 //ft/sec\n",
"h= 12 //in\n",
"g= 32.2 //ft/sec^2\n",
"//CALCULATIONS\n",
"F= Q/sqrt(g*h/12)\n",
"r= 0.5*(sqrt(1+8*F^2)-1)\n",
"y= h*r/12\n",
"s=(y-(h/12))^3*12/(4*h*y)\n",
"Q1= s*62.3*Q/550\n",
"//RESULTS\n",
"printf (' Rate of flow= %.2f in',Q1)"
   ]
   }
,
{
		   "cell_type": "markdown",
		   "metadata": {},
		   "source": [
			"## Example 13.6_1: chapter_13_example_6_1.sce"
		   ]
		  },
  {
"cell_type": "code",
	   "execution_count": null,
	   "metadata": {
	    "collapsed": true
	   },
	   "outputs": [],
"source": [
"clc\n",
"//initialisation of variables\n",
"d= 0.94\n",
"b= 20 //ft\n",
"h= 5 //ft\n",
"w= 40 //ft\n",
"g= 32.2 //ft/sec^2\n",
"//CALCULATIONS\n",
"Q= 0.309*d*b*h^1.5\n",
"u=Q/(h*w)\n",
"h1= h+(u^2/(2*g))\n",
"Q1= 0.309*d*b*h1^1.5\n",
"//RESULTS\n",
"printf (' Rate of flow= %.f ft^3/sec',Q1)"
   ]
   }
],
"metadata": {
		  "kernelspec": {
		   "display_name": "Scilab",
		   "language": "scilab",
		   "name": "scilab"
		  },
		  "language_info": {
		   "file_extension": ".sce",
		   "help_links": [
			{
			 "text": "MetaKernel Magics",
			 "url": "https://github.com/calysto/metakernel/blob/master/metakernel/magics/README.md"
			}
		   ],
		   "mimetype": "text/x-octave",
		   "name": "scilab",
		   "version": "0.7.1"
		  }
		 },
		 "nbformat": 4,
		 "nbformat_minor": 0
}
