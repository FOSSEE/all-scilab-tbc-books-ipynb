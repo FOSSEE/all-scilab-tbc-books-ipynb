{
"cells": [
 {
		   "cell_type": "markdown",
	   "metadata": {},
	   "source": [
       "# Chapter 5: Elements of Similarity Notches and Wires"
	   ]
	},
{
		   "cell_type": "markdown",
		   "metadata": {},
		   "source": [
			"## Example 5.1_1: chapter_5_example_1_1.sce"
		   ]
		  },
  {
"cell_type": "code",
	   "execution_count": null,
	   "metadata": {
	    "collapsed": true
	   },
	   "outputs": [],
"source": [
"clc\n",
"//initialisation of variables\n",
"w= 1100 //rev/min\n",
"Q= 1 //ft^3/min\n",
"r= 2 //in\n",
"//CALCULATIONS\n",
"Q1= r^2*Q\n",
"N= w/r\n",
"//RESULTS\n",
"printf ('allowable speed = %.f rev/min',N)"
   ]
   }
,
{
		   "cell_type": "markdown",
		   "metadata": {},
		   "source": [
			"## Example 5.2_2: chapter_5_example_2_2.sce"
		   ]
		  },
  {
"cell_type": "code",
	   "execution_count": null,
	   "metadata": {
	    "collapsed": true
	   },
	   "outputs": [],
"source": [
"clc\n",
"//initialisation of variables\n",
"n= 15 //knots\n",
"//CALCULATIONS\n",
"Um= n/sqrt(36)\n",
"//RESULTS\n",
"printf (' speed = %.1f knots',Um)"
   ]
   }
,
{
		   "cell_type": "markdown",
		   "metadata": {},
		   "source": [
			"## Example 5.3_1: chapter_5_example_3_1.sce"
		   ]
		  },
  {
"cell_type": "code",
	   "execution_count": null,
	   "metadata": {
	    "collapsed": true
	   },
	   "outputs": [],
"source": [
"clc\n",
"//initialisation of variables\n",
"r= 1/64\n",
"t= 75 //sec\n",
"//CALCULATIONS\n",
"R= sqrt((1/r))\n",
"tfs= R*t/60\n",
"//RESULTS\n",
"printf ('time = %.f min',tfs)"
   ]
   }
,
{
		   "cell_type": "markdown",
		   "metadata": {},
		   "source": [
			"## Example 5.5_2: chapter_5_example_5_2.sce"
		   ]
		  },
  {
"cell_type": "code",
	   "execution_count": null,
	   "metadata": {
	    "collapsed": true
	   },
	   "outputs": [],
"source": [
"clc\n",
"//initialisation of variables\n",
"g= 32.2 //ft/sec^2\n",
"//CALCULATIONS\n",
"C= 15*0.305*144*sqrt(12)/(8*8.05*60)\n",
"//RESULTS\n",
"printf ('numerical value of proportional constant = %.2f ',C)"
   ]
   }
,
{
		   "cell_type": "markdown",
		   "metadata": {},
		   "source": [
			"## Example 5.6_2: chapter_5_example_6_2.sce"
		   ]
		  },
  {
"cell_type": "code",
	   "execution_count": null,
	   "metadata": {
	    "collapsed": true
	   },
	   "outputs": [],
"source": [
"clc\n",
"//initialisation of variables\n",
"A= 9 //ft^2\n",
"A1= 50000 //yd^2\n",
"l= 12 //ft\n",
"H1= 2 //ft\n",
"H2= 3 //in\n",
"g= 32.2 //ft^2/sec\n",
"//CALCULATIONS\n",
"t= (A*A1*2/(0.4*sqrt(2*g)*l))*((H2/12)^-0.5-(H1)^-0.5)\n",
"//RESULTS\n",
"printf (' time required = %.f sec ',t)"
   ]
   }
,
{
		   "cell_type": "markdown",
		   "metadata": {},
		   "source": [
			"## Example 5.8_1: chapter_5_example_8_1.sce"
		   ]
		  },
  {
"cell_type": "code",
	   "execution_count": null,
	   "metadata": {
	    "collapsed": true
	   },
	   "outputs": [],
"source": [
"clc\n",
"//initialisation of variables\n",
"A= 5 //ft^2\n",
"c= 0.6\n",
"g= 32.2 //ft/sec^2\n",
"H= 6 //in\n",
"//CALCULATIONS\n",
"Q= 0.6*(8/15)*60*sqrt(2*g)*(H/12)^2.5\n",
"u= 0.455/A\n",
"h= u^2/(2*g)\n",
"//RESULTS\n",
"printf (' Discharge= %.1f ft^3/sec',Q)\n",
"printf (' \n mean approach velocity = %.3f ft/sec',u)\n",
"printf (' \n kinetic head = %.6f ft',h)"
   ]
   }
],
"metadata": {
		  "kernelspec": {
		   "display_name": "Scilab",
		   "language": "scilab",
		   "name": "scilab"
		  },
		  "language_info": {
		   "file_extension": ".sce",
		   "help_links": [
			{
			 "text": "MetaKernel Magics",
			 "url": "https://github.com/calysto/metakernel/blob/master/metakernel/magics/README.md"
			}
		   ],
		   "mimetype": "text/x-octave",
		   "name": "scilab",
		   "version": "0.7.1"
		  }
		 },
		 "nbformat": 4,
		 "nbformat_minor": 0
}
