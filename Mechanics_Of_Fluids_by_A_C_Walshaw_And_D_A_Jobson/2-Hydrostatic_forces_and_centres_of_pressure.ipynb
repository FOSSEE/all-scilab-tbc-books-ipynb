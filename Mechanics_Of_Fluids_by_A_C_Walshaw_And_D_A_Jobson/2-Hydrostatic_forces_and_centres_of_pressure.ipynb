{
"cells": [
 {
		   "cell_type": "markdown",
	   "metadata": {},
	   "source": [
       "# Chapter 2: Hydrostatic forces and centres of pressure"
	   ]
	},
{
		   "cell_type": "markdown",
		   "metadata": {},
		   "source": [
			"## Example 2.3_1: chapter_2_example_3_1.sce"
		   ]
		  },
  {
"cell_type": "code",
	   "execution_count": null,
	   "metadata": {
	    "collapsed": true
	   },
	   "outputs": [],
"source": [
"clc\n",
"//initialisation of variables\n",
"sw= 62.3 //lbf/ft^3\n",
"d= 288 //ft\n",
"p= 1 //lbf/in^2\n",
"//CALCULATIONS\n",
"P= sw*d/144\n",
"D= p*144/sw\n",
"//RESULTS\n",
"printf (' pressure at a depth of 288 ft= %.1f lbf/in^2',P)\n",
"printf (' \n depth= %.2f ft',D)"
   ]
   }
,
{
		   "cell_type": "markdown",
		   "metadata": {},
		   "source": [
			"## Example 2.3_2: chapter_2_example_3_2.sce"
		   ]
		  },
  {
"cell_type": "code",
	   "execution_count": null,
	   "metadata": {
	    "collapsed": true
	   },
	   "outputs": [],
"source": [
"clc\n",
"//initialisation of variables\n",
"w= 62.3 //lbf/ft^3\n",
"d= 11.5 //ft\n",
"//CALCULATIONS\n",
"p= w*d/144\n",
"//RESULTS\n",
"printf (' pressure required to bubble air slowly through the tank= %.f lbf/in^2',p)"
   ]
   }
,
{
		   "cell_type": "markdown",
		   "metadata": {},
		   "source": [
			"## Example 2.3_3: chapter_2_example_3_3.sce"
		   ]
		  },
  {
"cell_type": "code",
	   "execution_count": null,
	   "metadata": {
	    "collapsed": true
	   },
	   "outputs": [],
"source": [
"clc\n",
"//initialisation of variables\n",
"w= 62.3 //lbf/ft^3\n",
"d= 23.1 //ft\n",
"//CALCULATIONS\n",
"dp=  w*d/144\n",
"//RESULTS\n",
"printf (' pressure guage= %.f lbf/in^2',dp)"
   ]
   }
,
{
		   "cell_type": "markdown",
		   "metadata": {},
		   "source": [
			"## Example 2.3_4: chapter_2_example_3_4.sce"
		   ]
		  },
  {
"cell_type": "code",
	   "execution_count": null,
	   "metadata": {
	    "collapsed": true
	   },
	   "outputs": [],
"source": [
"clc\n",
"//initialisation of variables\n",
"d= 1 //ft\n",
"s= 0.8\n",
"h= 2 //ft\n",
"w= 62.3 //lbf/ft^3\n",
"d1= 5 //ft\n",
"//CALCULATIONS\n",
"F= (%pi/4)*d^2*s*w*(d/2)\n",
"F1= (%pi/4)*d^2*s*w*(d1/2)\n",
"//RESULTS\n",
"printf (' Force= %.2f 2lbf',F)\n",
"printf (' \n Force= %.f lbf',F1)"
   ]
   }
,
{
		   "cell_type": "markdown",
		   "metadata": {},
		   "source": [
			"## Example 2.3_5: chapter_2_example_3_5.sce"
		   ]
		  },
  {
"cell_type": "code",
	   "execution_count": null,
	   "metadata": {
	    "collapsed": true
	   },
	   "outputs": [],
"source": [
"clc\n",
"//initialisation of variables\n",
"F= 100 //tonf\n",
"p= 2000 //lbf/in^2\n",
"x= 12 //in\n",
"x1= 48 //in\n",
"p1= 40 //lbf/in^2\n",
"//CALCULATIONS\n",
"A3= (F/p)*2240\n",
"A2= A3*x/x1\n",
"A1= A2*p/p1\n",
"//RESULTS\n",
"printf (' Piston area= %.f in^2',A2)\n",
"printf (' \n ram area= %.f in^2',A1)"
   ]
   }
,
{
		   "cell_type": "markdown",
		   "metadata": {},
		   "source": [
			"## Example 2.4_1: chapter_2_example_4_1.sce"
		   ]
		  },
  {
"cell_type": "code",
	   "execution_count": null,
	   "metadata": {
	    "collapsed": true
	   },
	   "outputs": [],
"source": [
"clc\n",
"//initialisation of variables\n",
"Va= 100 //ft^3\n",
"h= 10 //ft\n",
"V1= 60 //ft^3\n",
"Pabyv= 34 //ft\n",
"h1= 4 //ft\n",
"//CALCULATIONS\n",
"H= Pabyv*((Va/V1)-1)-(h-h1)\n",
"h2= H+h\n",
"Va1= (1+(h2/Pabyv))*Va\n",
"V= Va1-Va\n",
"//RESULTS\n",
"printf (' depth of the river= %.1f ft',h2)\n",
"printf (' \n volume to be pumped= %.f ft^3',V)"
   ]
   }
,
{
		   "cell_type": "markdown",
		   "metadata": {},
		   "source": [
			"## Example 2.6_2: chapter_2_example_6_2.sce"
		   ]
		  },
  {
"cell_type": "code",
	   "execution_count": null,
	   "metadata": {
	    "collapsed": true
	   },
	   "outputs": [],
"source": [
"clc\n",
"//initialisation of variables\n",
"w= 62.3 //lbf/ft^3\n",
"dg= 4 //ft\n",
"d= 1 //ft\n",
"h= 2 //ft\n",
"HP= 1.0156 //ft\n",
"//CALCULATIONS\n",
"F= w*dg*d^2*(%pi/4)\n",
"F1= F*HP/h\n",
"//RESULTS\n",
"printf (' Minimum force= %.1f lbf',F1)"
   ]
   }
,
{
		   "cell_type": "markdown",
		   "metadata": {},
		   "source": [
			"## Example 2.6_3: chapter_2_example_6_3.sce"
		   ]
		  },
  {
"cell_type": "code",
	   "execution_count": null,
	   "metadata": {
	    "collapsed": true
	   },
	   "outputs": [],
"source": [
"clc\n",
"//initialisation of variables\n",
"s= 1.03\n",
"w= 64.3 //lbf/ft^3\n",
"dg= 14 //ft\n",
"A= 40 //ft^2\n",
"b= 5 //ft\n",
"d= 8 //ft\n",
"b1= 2.5 //ft\n",
"y= 10 //ft\n",
"x= 3 //ft\n",
"z= 4 //ft\n",
"//CALCULATIONS\n",
"F= w*dg*A*16.05/36000\n",
"r= ((b*d^3/12)/(A*dg))\n",
"F3= F*b1/b\n",
"F1= (F*(x-r)-(F/2)*x)/(y-z)\n",
"F2= F-(F1+F3)\n",
"//RESULTS\n",
"printf (' force= %.3f tonf',F3)\n",
"printf (' \n force= %.3f tonf',F2)"
   ]
   }
,
{
		   "cell_type": "markdown",
		   "metadata": {},
		   "source": [
			"## Example 2.6_5: chapter_2_example_6_5.sce"
		   ]
		  },
  {
"cell_type": "code",
	   "execution_count": null,
	   "metadata": {
	    "collapsed": true
	   },
	   "outputs": [],
"source": [
"clc\n",
"//initialisation of variables\n",
"w= 62.4 //lb/ft^3\n",
"H1= 15 //ft\n",
"B= 10 //ft\n",
"H2= 5 //ft\n",
"r= sqrt(19)/10\n",
"l= 16 //ft\n",
"//CALCULATIONS\n",
"F= 0.5*w*(H1^2-H2^2)*B/2240\n",
"N= F*0.5/r\n",
"h= H2*(1-(H2/H1)^3)/(1-(H2/H1)^2)\n",
"R1= N*h/l\n",
"R2= N-R1\n",
"//RESULTS\n",
"printf (' reaction between the gates= %.1f tonf',F)\n",
"printf (' \n reaction forces on the finges= %.1f tonf',R2)"
   ]
   }
,
{
		   "cell_type": "markdown",
		   "metadata": {},
		   "source": [
			"## Example 2.7_1: chapter_2_example_7_1.sce"
		   ]
		  },
  {
"cell_type": "code",
	   "execution_count": null,
	   "metadata": {
	    "collapsed": true
	   },
	   "outputs": [],
"source": [
"clc\n",
"//initialisation of variables\n",
"w= 62.3 //lb/ft^3\n",
"b= 1 //ft\n",
"s= 42 //ft\n",
"d= 170 //ft\n",
"l= 15.75\n",
"a= 170/3\n",
"//CALCULATIONS\n",
"W= 2*w*b*s*d/3\n",
"F= w*b*d^2/2\n",
"L= l+a*(F/W)\n",
"//RESULTS\n",
"printf (' distance= %.f ft from O',L)"
   ]
   }
,
{
		   "cell_type": "markdown",
		   "metadata": {},
		   "source": [
			"## Example 2.7_2: chapter_2_example_7_2.sce"
		   ]
		  },
  {
"cell_type": "code",
	   "execution_count": null,
	   "metadata": {
	    "collapsed": true
	   },
	   "outputs": [],
"source": [
"clc\n",
"//initialisation of variables\n",
"d= 2 //ft\n",
"a= 30 //degrees\n",
"p= 200 //ft\n",
"w= 62.3 //lbf/ft^3\n",
"//CALCULATIONS\n",
"T= (%pi/4)*(d^2/2240)*w*p*sqrt(2*(1-cosd(a)))\n",
"//RESULTS\n",
"printf (' Resultant static thrust= %.2f tonf',T)"
   ]
   }
],
"metadata": {
		  "kernelspec": {
		   "display_name": "Scilab",
		   "language": "scilab",
		   "name": "scilab"
		  },
		  "language_info": {
		   "file_extension": ".sce",
		   "help_links": [
			{
			 "text": "MetaKernel Magics",
			 "url": "https://github.com/calysto/metakernel/blob/master/metakernel/magics/README.md"
			}
		   ],
		   "mimetype": "text/x-octave",
		   "name": "scilab",
		   "version": "0.7.1"
		  }
		 },
		 "nbformat": 4,
		 "nbformat_minor": 0
}
