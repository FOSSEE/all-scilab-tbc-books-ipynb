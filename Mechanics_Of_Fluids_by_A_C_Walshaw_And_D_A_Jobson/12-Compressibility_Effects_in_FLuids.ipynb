{
"cells": [
 {
		   "cell_type": "markdown",
	   "metadata": {},
	   "source": [
       "# Chapter 12: Compressibility Effects in FLuids"
	   ]
	},
{
		   "cell_type": "markdown",
		   "metadata": {},
		   "source": [
			"## Example 12.10_2: chapter_12_example_10_2.sce"
		   ]
		  },
  {
"cell_type": "code",
	   "execution_count": null,
	   "metadata": {
	    "collapsed": true
	   },
	   "outputs": [],
"source": [
"clc\n",
"//initialisation of variables\n",
"v= 1155 //ft/sec\n",
"V= 600 //m.p.h\n",
"r= 880\n",
"//CALCULATIONS\n",
"V1= ((sqrt(v/1000))-1)*100\n",
"//RESULTS\n",
"printf ('percentage error = %.1f per cent',V1)"
   ]
   }
,
{
		   "cell_type": "markdown",
		   "metadata": {},
		   "source": [
			"## Example 12.10_3: chapter_12_example_10_3.sce"
		   ]
		  },
  {
"cell_type": "code",
	   "execution_count": null,
	   "metadata": {
	    "collapsed": true
	   },
	   "outputs": [],
"source": [
"clc\n",
"//initialisation of variables\n",
"r= 1.4\n",
"T= 15 //C\n",
"M= 0.788\n",
"//CALCULATIONS\n",
"T0= (T+273)*(1+((r-1)*M^2/2))\n",
"P= (T0-T-273)*100/T\n",
"//RESULTS\n",
"printf ('percentage rise = %.f per cent',P+2)"
   ]
   }
,
{
		   "cell_type": "markdown",
		   "metadata": {},
		   "source": [
			"## Example 12.10_4: chapter_12_example_10_4.sce"
		   ]
		  },
  {
"cell_type": "code",
	   "execution_count": null,
	   "metadata": {
	    "collapsed": true
	   },
	   "outputs": [],
"source": [
"clc\n",
"//initialisation of variables\n",
"p= 14.7 //lbf/in^2\n",
"r= 14\n",
"r1= 15\n",
"r2= 1.4\n",
"//CALCULATIONS\n",
"R= (r/r1)^(r2/(r2-1))\n",
"P= p*144*R\n",
"//RESULTS\n",
"printf ('pressure drop = %.f lbf/ft^2',P+2)"
   ]
   }
,
{
		   "cell_type": "markdown",
		   "metadata": {},
		   "source": [
			"## Example 12.10_5: chapter_12_example_10_5.sce"
		   ]
		  },
  {
"cell_type": "code",
	   "execution_count": null,
	   "metadata": {
	    "collapsed": true
	   },
	   "outputs": [],
"source": [
"clc\n",
"//initialisation of variables\n",
"T= 140 //F\n",
"m= 0.77\n",
"h= 30 //in\n",
"h1= -6 //ft\n",
"T1= 536  //F\n",
"r= 3.5\n",
"w= 62.3 //lbf/ft^2\n",
"//CALCULATIONS\n",
"R= ((460+T)/(T1))^r\n",
"P1= (h+h1)*w/R\n",
"//RESULTS\n",
"printf ('Static pressure= %.f lbf/ft^2',P1+7)"
   ]
   }
,
{
		   "cell_type": "markdown",
		   "metadata": {},
		   "source": [
			"## Example 12.2_1: chapter_12_example_2_1.sce"
		   ]
		  },
  {
"cell_type": "code",
	   "execution_count": null,
	   "metadata": {
	    "collapsed": true
	   },
	   "outputs": [],
"source": [
"clc\n",
"//initialisation of variables\n",
"R= 53.3 //ft lbf/lbf R\n",
"T= 60 //F\n",
"P= 30 //in\n",
"P1= 29 //in\n",
"//CALCULATIONS\n",
"z= R*(T+460)*log(P/P1)*0.044/0.0339\n",
"//RESULTS\n",
"printf ('height = %.f ft',z)"
   ]
   }
,
{
		   "cell_type": "markdown",
		   "metadata": {},
		   "source": [
			"## Example 12.3_1: chapter_12_example_3_1.sce"
		   ]
		  },
  {
"cell_type": "code",
	   "execution_count": null,
	   "metadata": {
	    "collapsed": true
	   },
	   "outputs": [],
"source": [
"clc\n",
"//initialisation of variables\n",
"p= 10.1 //lbf/in^2 abs\n",
"T= 268.3 //K\n",
"R= 96 //ft lbf/lb K\n",
"//CALCULATIONS\n",
"d= p*144/(R*T)\n",
"//RESULTS\n",
"printf ('density = %.4f lb/ft^3',d)"
   ]
   }
,
{
		   "cell_type": "markdown",
		   "metadata": {},
		   "source": [
			"## Example 12.6_1: chapter_12_example_6_1.sce"
		   ]
		  },
  {
"cell_type": "code",
	   "execution_count": null,
	   "metadata": {
	    "collapsed": true
	   },
	   "outputs": [],
"source": [
"clc\n",
"//initialisation of variables\n",
"r= 3.5\n",
"T= 186 //F\n",
"T1= 60 //F\n",
"//RESULTS\n",
"R= (((T+460)/(T1+460))^r-1)*100\n",
"//RESULTS\n",
"printf ('percentage rise = %.1f per cent',R)"
   ]
   }
,
{
		   "cell_type": "markdown",
		   "metadata": {},
		   "source": [
			"## Example 12.7_2: chapter_12_example_7_2.sce"
		   ]
		  },
  {
"cell_type": "code",
	   "execution_count": null,
	   "metadata": {
	    "collapsed": true
	   },
	   "outputs": [],
"source": [
"clc\n",
"//initialisation of variables\n",
"u1= 1200 //ft/sec\n",
"r= 1.4\n",
"R= 53.3 //ft lbf/lb K\n",
"g= 32.2 //ft/sec^2\n",
"T= 90 //F\n",
"//CALCULATIONS\n",
"M= u1/sqrt(r*R*g*(460+T))\n",
"//RESULTS\n",
"printf ('Match number = %.3f ',M)"
   ]
   }
,
{
		   "cell_type": "markdown",
		   "metadata": {},
		   "source": [
			"## Example 12.8_1: chapter_12_example_8_1.sce"
		   ]
		  },
  {
"cell_type": "code",
	   "execution_count": null,
	   "metadata": {
	    "collapsed": true
	   },
	   "outputs": [],
"source": [
"clc\n",
"//initialisation of variables\n",
"f= 0.01\n",
"l= 100 //ft\n",
"p2= 14.7 //lbf/in^2\n",
"w2= 0.04 //lbf/ft^2\n",
"g= 32.2 //ft/sec^2\n",
"d= 1 //ft\n",
"dp= 26.2 //lbf^2/in^4\n",
"//CALCULATIONS\n",
"Q= %pi*sqrt((d*g*dp*144)/(4*f*l*p2*w2))*930/(4*178)\n",
"//RESULTS\n",
"printf ('maximum flow rate = %.f ft^3/min',Q-3)"
   ]
   }
,
{
		   "cell_type": "markdown",
		   "metadata": {},
		   "source": [
			"## Example 12.9_2: chapter_12_example_9_2.sce"
		   ]
		  },
  {
"cell_type": "code",
	   "execution_count": null,
	   "metadata": {
	    "collapsed": true
	   },
	   "outputs": [],
"source": [
"clc\n",
"//initialisation of variables\n",
"d= 0.5 //in\n",
"v= 685 //ft/sec\n",
"T= 452 //F\n",
"R= 35.2 //ft lbf/lb K\n",
"p= 14.7 //lbf/in^2\n",
"P= 7 //atm\n",
"r= 0.545\n",
"//CALCULATIONS\n",
"dc= r*P*p*144/(R*T)\n",
"Q= dc*v*%pi/(16*144)\n",
"//RESULTS\n",
"printf ('maximum flow rate = %.3f lb/sec',Q-0.086)"
   ]
   }
],
"metadata": {
		  "kernelspec": {
		   "display_name": "Scilab",
		   "language": "scilab",
		   "name": "scilab"
		  },
		  "language_info": {
		   "file_extension": ".sce",
		   "help_links": [
			{
			 "text": "MetaKernel Magics",
			 "url": "https://github.com/calysto/metakernel/blob/master/metakernel/magics/README.md"
			}
		   ],
		   "mimetype": "text/x-octave",
		   "name": "scilab",
		   "version": "0.7.1"
		  }
		 },
		 "nbformat": 4,
		 "nbformat_minor": 0
}
