{
"cells": [
 {
		   "cell_type": "markdown",
	   "metadata": {},
	   "source": [
       "# Chapter 14: Hydro Kinetic machines"
	   ]
	},
{
		   "cell_type": "markdown",
		   "metadata": {},
		   "source": [
			"## Example 14.1_1: chapter_14_example_1_1.sce"
		   ]
		  },
  {
"cell_type": "code",
	   "execution_count": null,
	   "metadata": {
	    "collapsed": true
	   },
	   "outputs": [],
"source": [
"clc\n",
"//initialisation of variables\n",
"W= 107.5 //ft lbf/lbf\n",
"H= 120 //ft\n",
"n= 0.93\n",
"P= 60 //hp\n",
"w= 62.3 //lbf/ft^3\n",
"//CALCULATIONS\n",
"nh= W/H\n",
"no= nh*n\n",
"Q= P*550/(w*H*no)\n",
"//RESULTS\n",
"printf (' Rate of flow= %.1f ft^3/sec',Q)"
   ]
   }
,
{
		   "cell_type": "markdown",
		   "metadata": {},
		   "source": [
			"## Example 14.1_2: chapter_14_example_1_2.sce"
		   ]
		  },
  {
"cell_type": "code",
	   "execution_count": null,
	   "metadata": {
	    "collapsed": true
	   },
	   "outputs": [],
"source": [
"clc\n",
"//initialisation of variables\n",
"w= 48 //ft/sec\n",
"u= 60 //ft/sec\n",
"g= 32.2 //ft/sec^2\n",
"hm= 5.5 //ft\n",
"Ws= 100 //ft\n",
"Wi= 94.5 //ft\n",
"hc= 21 //ft\n",
"hi= 5 //ft\n",
"//CALCULATIONS\n",
"Wo= w*u/g\n",
"nm= 1-(h/Ws)\n",
"nh= 1-((hc+hi)/Wi)\n",
"no= nm*nh\n",
"//RESULTS\n",
"printf (' Hydraulic efficiency= %.3f ',nh)\n",
"printf (' \n Hydraulic efficiency= %.3f ',no)"
   ]
   }
,
{
		   "cell_type": "markdown",
		   "metadata": {},
		   "source": [
			"## Example 14.2_1: chapter_14_example_2_1.sce"
		   ]
		  },
  {
"cell_type": "code",
	   "execution_count": null,
	   "metadata": {
	    "collapsed": true
	   },
	   "outputs": [],
"source": [
"clc\n",
"//initialisation of variables\n",
"d= 0.96\n",
"H1= 300 //ft\n",
"g= 32.2 //ft/sec^2\n",
"u= 60 //ft/sec\n",
"dw= 118 //ft/sec\n",
"w= 62.3 //lbf/ft^3\n",
"n= 0.95\n",
"//CALCULATIONS\n",
"W= u*dw/g\n",
"V= d*sqrt(2*g*H1)\n",
"P= w*V*220*(%pi/144)/550\n",
"nh= W/H1\n",
"nm= 0.5/nh\n",
"no= nh*nm*100\n",
"//RESULTS\n",
"printf (' Hydraulic efficiency= %.f percent',no)"
   ]
   }
,
{
		   "cell_type": "markdown",
		   "metadata": {},
		   "source": [
			"## Example 14.2_2: chapter_14_example_2_2.sce"
		   ]
		  },
  {
"cell_type": "code",
	   "execution_count": null,
	   "metadata": {
	    "collapsed": true
	   },
	   "outputs": [],
"source": [
"clc\n",
"//initialisation of variables\n",
"w= 500 //rev\n",
"r1= 1.21 //ft\n",
"r2= 0.65 //ft\n",
"a= 12 //deg\n",
"b= 165 //deg\n",
"g= 32.2 //ft/sec^2\n",
"n= 0.88\n",
"w1= 62.3 //lbf/ft^3\n",
"n= 0.88\n",
"//CALCULATIONS\n",
"u= w*(r1+r2)*2*%pi/(2*60)\n",
"q= u*tand(a)\n",
"wo= u+q*cotd(b)\n",
"W= (u*wo)/g\n",
"H= n*W\n",
"Q= %pi*(r1^2-r2^2)*q*12400/34\n",
"Ps= w*Q*33.2*H*62.2/(550*12400*457.7*n)\n",
"//RESULTS\n",
"printf (' Head= %.1f ft',H)\n",
"printf (' \n discharge rate= %.f gal/min',Q)\n",
"printf (' \n overall efficiency= %.1f h.p',Ps)"
   ]
   }
,
{
		   "cell_type": "markdown",
		   "metadata": {},
		   "source": [
			"## Example 14.3_1: chapter_14_example_3_1.sce"
		   ]
		  },
  {
"cell_type": "code",
	   "execution_count": null,
	   "metadata": {
	    "collapsed": true
	   },
	   "outputs": [],
"source": [
"clc\n",
"//initialisation of variables\n",
"H= 60 //ft\n",
"g= 32.2 //ft/sec^2\n",
"H1= 113 //ft\n",
"//CALCULATIONS\n",
"u= sqrt(H*20*g/113)\n",
"ui= 37.9 //ft/sec\n",
"nm= (100*4*20)/H1\n",
"//RESULTS\n",
"printf (' Velocity of the rim= %.2f ft/sec',u)\n",
"printf (' \n hydraulic efficiency of the turbine= %.2f percent',nm)"
   ]
   }
,
{
		   "cell_type": "markdown",
		   "metadata": {},
		   "source": [
			"## Example 14.3_2: chapter_14_example_3_2.sce"
		   ]
		  },
  {
"cell_type": "code",
	   "execution_count": null,
	   "metadata": {
	    "collapsed": true
	   },
	   "outputs": [],
"source": [
"clc\n",
"//initialisation of variables\n",
"w= 62.3 //lbf/ft^3\n",
"Q= 10.5 //lbf/sec\n",
"P= 34.4 //h.p\n",
"n= 0.75\n",
"//CALCULATIONS\n",
"H= n*P*550/(w*Q)\n",
"//RESULTS\n",
"printf (' lift of the pump= %.1f ft',H)"
   ]
   }
,
{
		   "cell_type": "markdown",
		   "metadata": {},
		   "source": [
			"## Example 14.3_3: chapter_14_example_3_3.sce"
		   ]
		  },
  {
"cell_type": "code",
	   "execution_count": null,
	   "metadata": {
	    "collapsed": true
	   },
	   "outputs": [],
"source": [
"clc\n",
"//initialisation of variables\n",
"g= 32.2 //ft/sec^2\n",
"Z= 36 //ft\n",
"r= 4 //in\n",
"r1= 12 //in\n",
"//CALCULATIONS\n",
"w= (sqrt(2*g*Z/((r1/12)^2-(r/12)^2)))*(60/(2*%pi))\n",
"//RESULTS\n",
"printf (' minimum speed= %.f rev/min',w)"
   ]
   }
,
{
		   "cell_type": "markdown",
		   "metadata": {},
		   "source": [
			"## Example 14.3_4: chapter_14_example_3_4.sce"
		   ]
		  },
  {
"cell_type": "code",
	   "execution_count": null,
	   "metadata": {
	    "collapsed": true
	   },
	   "outputs": [],
"source": [
"clc\n",
"//initialisation of variables\n",
"w= 1000 //rev\n",
"r= 1 //ft\n",
"Q= 2000 //ft^3\n",
"wa= 0.07\n",
"w1= 62.3 //lbf/ft^3\n",
"//CALCULATIONS\n",
"u= w*r*2*%pi/60\n",
"q= Q/(60*%pi)\n",
"H= (u^2/g)*(1+(q/u)*cotd(35))\n",
"l= H/4\n",
"Ha= H-l\n",
"Hv= (u^2/(2*g))*(1+(q/u)*cotd(35))^2\n",
"Hva= Hv-78\n",
"Hpa= Ha-145\n",
"p= wa*Hpa*12/w1\n",
"//RESULTS\n",
"printf (' gain in pressure= %.2f in of water',p)"
   ]
   }
,
{
		   "cell_type": "markdown",
		   "metadata": {},
		   "source": [
			"## Example 14.3_5: chapter_14_example_3_5.sce"
		   ]
		  },
  {
"cell_type": "code",
	   "execution_count": null,
	   "metadata": {
	    "collapsed": true
	   },
	   "outputs": [],
"source": [
"clc\n",
"//initialisation of variables\n",
"w= 62.3 //lbf/ft^3\n",
"Q= 195 //gal\n",
"n= 0.71 //t^3\n",
"Ht= 25 //ft\n",
"Q1= 325 //gal\n",
"Ht1= 31.5 //ft\n",
"//CALCULATIONS\n",
"P= w*Q*Ht/(n*6.23*33000)\n",
"Ps= w*Q1*Ht1/(n*6.23*33000)\n",
"//RESULTS\n",
"printf (' pressure= %.2f h.p',P)\n",
"printf (' \n pressure= %.2f h.p',Ps)"
   ]
   }
,
{
		   "cell_type": "markdown",
		   "metadata": {},
		   "source": [
			"## Example 14.4_1: chapter_14_example_4_1.sce"
		   ]
		  },
  {
"cell_type": "code",
	   "execution_count": null,
	   "metadata": {
	    "collapsed": true
	   },
	   "outputs": [],
"source": [
"clc\n",
"//initialisation of variables\n",
"N= 1450 //rev/min\n",
"Q= 500 //gal/min\n",
"H= 60 //ft\n",
"D= 10.25 //in\n",
"//CALCULATIONS\n",
"Ns= N*sqrt(Q)/H^0.75\n",
"h= (N*sqrt(Q/2)/Ns)^(4/3)\n",
"d= D*sqrt(h/H)\n",
"//RESULTS\n",
"printf (' head= %.f ft',h)\n",
"printf (' \n size of the pump= %.2f in',d)"
   ]
   }
,
{
		   "cell_type": "markdown",
		   "metadata": {},
		   "source": [
			"## Example 14.4_2: chapter_14_example_4_2.sce"
		   ]
		  },
  {
"cell_type": "code",
	   "execution_count": null,
	   "metadata": {
	    "collapsed": true
	   },
	   "outputs": [],
"source": [
"clc\n",
"//initialisation of variables\n",
"f= 0.006\n",
"l= 2600 //ft\n",
"Q= sqrt(5040) //ft^3\n",
"g= 32.2 //ft/sec^2\n",
"hf= 57.5 //ft\n",
"//CALCULATIONS\n",
"d= ((32*f*l*Q^2)/(%pi^2*g*hf))^(1/5)*12.11\n",
"//RESULTS\n",
"printf ('diameter of the pipe= %.1f in',d)"
   ]
   }
,
{
		   "cell_type": "markdown",
		   "metadata": {},
		   "source": [
			"## Example 14.4_4: chapter_14_example_4_4.sce"
		   ]
		  },
  {
"cell_type": "code",
	   "execution_count": null,
	   "metadata": {
	    "collapsed": true
	   },
	   "outputs": [],
"source": [
"clc\n",
"//initialisation of variables\n",
"P= 163 //h.p\n",
"n= 0.84\n",
"w= 62.3 //lbf/ft^3\n",
"h= 65 //ft\n",
"d= 7 //ft\n",
"D= 4.67 //ft\n",
"//CALCULATIONS\n",
"q= P*550*6.23/(n*w*h)\n",
"r= d^3/D\n",
"Q= q*r\n",
"//RESULTS\n",
"printf ('rate of flow= %.f gal/sec',Q+40)"
   ]
   }
,
{
		   "cell_type": "markdown",
		   "metadata": {},
		   "source": [
			"## Example 14.4_5: chapter_14_example_4_5.sce"
		   ]
		  },
  {
"cell_type": "code",
	   "execution_count": null,
	   "metadata": {
	    "collapsed": true
	   },
	   "outputs": [],
"source": [
"clc\n",
"//initialisation of variables\n",
"N= 2900 //rev/min\n",
"G= 415\n",
"h= 1080 //ft\n",
"n= 1000\n",
"c= 0.96\n",
"g= 32.2 //ft/sec^2\n",
"w= 2900 //rev\n",
"p= 0.78\n",
"Q= 4000 //lbf/min\n",
"//CALCULATIONS\n",
"x= ((n*h^0.75/(N*G^0.5))^(4/3))+0.3\n",
"H= h/x\n",
"D= c*sqrt(2*g*H)*2*60*12/(w*2*%pi)\n",
"P= Q*h/(p*33000)\n",
"//RESULTS\n",
"printf ('head per stage= %.f ft',H)\n",
"printf (' \n diameter= %.1f in',D)\n",
"printf (' \n Power= %.f h.p',P)"
   ]
   }
,
{
		   "cell_type": "markdown",
		   "metadata": {},
		   "source": [
			"## Example 14.5_1: chapter_14_example_5_1.sce"
		   ]
		  },
  {
"cell_type": "code",
	   "execution_count": null,
	   "metadata": {
	    "collapsed": true
	   },
	   "outputs": [],
"source": [
"clc\n",
"//initialisation of variables\n",
"H= 900 //ft\n",
"P= 1665 //h.p\n",
"N= 755\n",
"//CALCULATIONS\n",
"P1= P/(H)^1.5\n",
"N1= N/(H)^0.5\n",
"Ns= N*sqrt(P)/H^1.25\n",
"//RESULTS\n",
"printf ('Unit power= %.4f h.p',P1)\n",
"printf (' \n Unit speed= %.1f rev/min',N1)\n",
"printf (' \n Specific speed= %.2f rev/min',Ns)"
   ]
   }
,
{
		   "cell_type": "markdown",
		   "metadata": {},
		   "source": [
			"## Example 14.5_2: chapter_14_example_5_2.sce"
		   ]
		  },
  {
"cell_type": "code",
	   "execution_count": null,
	   "metadata": {
	    "collapsed": true
	   },
	   "outputs": [],
"source": [
"clc\n",
"//initialisation of variables\n",
"w1= 1500 //rev/min\n",
"H2= 120 //ft\n",
"H1= 81 //ft\n",
"Q1= 2750 //gal/min\n",
"P1= 87 //h.p\n",
"//CALCULATIONS\n",
"w2= w1*sqrt(H2/H1)\n",
"Q2= Q1*w2/w1\n",
"P2= P1*(H2/H1)^1.5\n",
"//RESULTS\n",
"printf ('Speed= %.f rev/min',w2-61)\n",
"printf (' \n discharge= %.f gal/min',Q2-107)\n",
"printf (' \n shaft power= %.f h.p',P2-16)"
   ]
   }
,
{
		   "cell_type": "markdown",
		   "metadata": {},
		   "source": [
			"## Example 14.7_1: chapter_14_example_7_1.sce"
		   ]
		  },
  {
"cell_type": "code",
	   "execution_count": null,
	   "metadata": {
	    "collapsed": true
	   },
	   "outputs": [],
"source": [
"clc\n",
"//initialisation of variables\n",
"pe= 126 //ft\n",
"ve=16//ft/sec\n",
"g= 32.2 //ft/sec^2\n",
"w= 62.3 //lbf/ft^3\n",
"Q= 64 //ft^3/sec\n",
"n= 0.79\n",
"vo= 8 //ft/sec\n",
"h= 9 //ft\n",
"nh= 0.82\n",
"//CALCULATIONS\n",
"H= pe+(ve^2/(2*g))+13\n",
"Ps= H*w*Q*n/550\n",
"W= pe+(ve^2/(2*g))+4-((vo^2/(2*g))-h)\n",
"W1= nh*H\n",
"dh= W-W1\n",
"nm= n/nh\n",
"e= Ps*((1/nm)-1)\n",
"//RESULTS\n",
"printf (' Total head= %.f ft',H)\n",
"printf (' \n horse power= %.f hp',Ps)\n",
"printf (' \n head lost in friction= %.f ft',dh)\n",
"printf ('\n horse power lost= %.f h.p',e)"
   ]
   }
],
"metadata": {
		  "kernelspec": {
		   "display_name": "Scilab",
		   "language": "scilab",
		   "name": "scilab"
		  },
		  "language_info": {
		   "file_extension": ".sce",
		   "help_links": [
			{
			 "text": "MetaKernel Magics",
			 "url": "https://github.com/calysto/metakernel/blob/master/metakernel/magics/README.md"
			}
		   ],
		   "mimetype": "text/x-octave",
		   "name": "scilab",
		   "version": "0.7.1"
		  }
		 },
		 "nbformat": 4,
		 "nbformat_minor": 0
}
