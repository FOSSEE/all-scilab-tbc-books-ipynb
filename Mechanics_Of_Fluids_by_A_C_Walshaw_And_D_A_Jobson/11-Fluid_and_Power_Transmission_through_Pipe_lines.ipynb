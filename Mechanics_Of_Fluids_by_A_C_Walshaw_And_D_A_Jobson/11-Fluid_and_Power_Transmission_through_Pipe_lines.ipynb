{
"cells": [
 {
		   "cell_type": "markdown",
	   "metadata": {},
	   "source": [
       "# Chapter 11: Fluid and Power Transmission through Pipe lines"
	   ]
	},
{
		   "cell_type": "markdown",
		   "metadata": {},
		   "source": [
			"## Example 11.10_2: chapter_11_example_10_2.sce"
		   ]
		  },
  {
"cell_type": "code",
	   "execution_count": null,
	   "metadata": {
	    "collapsed": true
	   },
	   "outputs": [],
"source": [
"clc\n",
"//initialisation of variables\n",
"g= 32.2 //ft/sec^2\n",
"H= 100//ft\n",
"L= 1000 //ft\n",
"h1= 0.03\n",
"h= 0.05\n",
"h2= 0.4\n",
"d= 6//in\n",
"le= 1021 //ft\n",
"//CALCULATIONS\n",
"u1= sqrt((2*g*H)/(1+h+h2+(h1*L/0.5)))\n",
"Q= %pi*(d/12)^2*u1/4\n",
"u2= sqrt((H*2*g)/(1+h+(1/16)*(1+h+h2+(h1*L/0.5))))\n",
"Q1= %pi*(d/24)^2*u2/4\n",
"r= sqrt((d/12)/(2*h1*le))\n",
"//RESULTS\n",
"printf (' rate of discharge without a nozzle= %.2f ft^3/sec',Q)\n",
"printf (' \n rate of discharge= %.2f ft^3/sec',Q1)\n",
"printf (' \n diameter of nozzle= %.2f in',r)"
   ]
   }
,
{
		   "cell_type": "markdown",
		   "metadata": {},
		   "source": [
			"## Example 11.10_3: chapter_11_example_10_3.sce"
		   ]
		  },
  {
"cell_type": "code",
	   "execution_count": null,
	   "metadata": {
	    "collapsed": true
	   },
	   "outputs": [],
"source": [
"clc\n",
"//initialisation of variables\n",
"L= 1730 //ft\n",
"l= 104 //ft\n",
"hl= 234 //ft\n",
"u= 2.3 //ft/sec\n",
"g= 32.2 //ft/sec^2\n",
"//CALCULATIONS\n",
"H2= L-l\n",
"R= u^2/(2*g)\n",
"H1= H2+R+hl\n",
"P= H2*100/H1\n",
"//RESULTS\n",
"printf (' efficiency of tramsmission = %.1f per cent',P)"
   ]
   }
,
{
		   "cell_type": "markdown",
		   "metadata": {},
		   "source": [
			"## Example 11.11_1: chapter_11_example_11_1.sce"
		   ]
		  },
  {
"cell_type": "code",
	   "execution_count": null,
	   "metadata": {
	    "collapsed": true
	   },
	   "outputs": [],
"source": [
"clc\n",
"//initialisation of variables\n",
"g= 32.2 //ft/sec^2\n",
"w= 62.3 //lbf/ft^3\n",
"p= 40 //lbf/in^2\n",
"k= 0.44\n",
"d= 2 //in\n",
"//CALCULATIONS\n",
"Q= (%pi*(d/2)^2/144)*sqrt(2*g*p*144/(w*0.981))\n",
"P= w*Q^3*(144/%pi)^2/(2*g*550)\n",
"//RESULTS\n",
"printf ('discharge rate = %.2f ft^3/min',Q)\n",
"printf ('\n Power of jet = %.2f h.p',P)"
   ]
   }
,
{
		   "cell_type": "markdown",
		   "metadata": {},
		   "source": [
			"## Example 11.11_2: chapter_11_example_11_2.sce"
		   ]
		  },
  {
"cell_type": "code",
	   "execution_count": null,
	   "metadata": {
	    "collapsed": true
	   },
	   "outputs": [],
"source": [
"clc\n",
"//initialisation of variables\n",
"u= 80//ft/sec\n",
"d= 1.5 //in\n",
"Cu= 0.97\n",
"f= 0.007\n",
"l= 150//ft\n",
"g= 32.2 //ft/sec^2\n",
"n= 70 //percent\n",
"Ho= -10//ft\n",
"w= 62.3 //lb/ft^3\n",
"//CALCULATIONS\n",
"Q=%pi*d^2*u/(4*144)\n",
"ut= u/Cu\n",
"H2= ut^2/(2*g)\n",
"H1= 5*H2/4\n",
"hf= H1/5\n",
"D= ((4/%pi)^2*4*f*l*Q^2*0.00237/(hf*2*g))^(1/5)*12*(3.95/1.18)\n",
"Ps= w*2*Q*(H1-Ho)*100/(n*550)\n",
"//RESULTS\n",
"printf (' Diameter = %.2f in',D)\n",
"printf (' \n shaft power of the pump = %.1f h.p',Ps)"
   ]
   }
,
{
		   "cell_type": "markdown",
		   "metadata": {},
		   "source": [
			"## Example 11.13_1: chapter_11_example_13_1.sce"
		   ]
		  },
  {
"cell_type": "code",
	   "execution_count": null,
	   "metadata": {
	    "collapsed": true
	   },
	   "outputs": [],
"source": [
"clc\n",
"//initialisation of variables\n",
"v= 10 //ft/sec\n",
"g= 32 //ft/sec^2\n",
"w= 62.3 //lbf/ft^3\n",
"l= 200 //ft\n",
"t= 0.5 //sec\n",
"//CALCULATIONS\n",
"dp= w*l*v/(g*t*144)\n",
"//RESULTS\n",
"printf (' Rise in pressure = %.1f lbf/in^2',dp)"
   ]
   }
,
{
		   "cell_type": "markdown",
		   "metadata": {},
		   "source": [
			"## Example 11.14_1: chapter_11_example_14_1.sce"
		   ]
		  },
  {
"cell_type": "code",
	   "execution_count": null,
	   "metadata": {
	    "collapsed": true
	   },
	   "outputs": [],
"source": [
"clc\n",
"//initialisation of variables\n",
"w= 62.3 //lb/ft^3\n",
"g= 32.2//ft/se^2\n",
"k= 3*10^5 //lbf/in^2\n",
"u= 10//ft/sec\n",
"//CALCULATIONS\n",
"P= u*sqrt(w*k/g)/12\n",
"//RESULTS\n",
"printf (' Rise in pressure = %.f lbf/in^2',P)"
   ]
   }
,
{
		   "cell_type": "markdown",
		   "metadata": {},
		   "source": [
			"## Example 11.14_2: chapter_11_example_14_2.sce"
		   ]
		  },
  {
"cell_type": "code",
	   "execution_count": null,
	   "metadata": {
	    "collapsed": true
	   },
	   "outputs": [],
"source": [
"clc\n",
"//initialisation of variables\n",
"g= 32.2 //ft/sec^2\n",
"w= 62.3 //lb/ft^3\n",
"k= 3*10^5 //lbf/in^2\n",
"//CALCULATIONS\n",
"v= sqrt(k*g*144/w)\n",
"//RESULTS\n",
"printf (' velocity of sound in the fluid = %.f ft/sec',v)"
   ]
   }
,
{
		   "cell_type": "markdown",
		   "metadata": {},
		   "source": [
			"## Example 11.14_4: chapter_11_example_14_4.sce"
		   ]
		  },
  {
"cell_type": "code",
	   "execution_count": null,
	   "metadata": {
	    "collapsed": true
	   },
	   "outputs": [],
"source": [
"clc\n",
"//initialisation of variables\n",
"w= 62.3 //lb/ft^3\n",
"d= 6 //in\n",
"t= 5/8 //in\n",
"k= 3*10^5 //lbf/in^2\n",
"E= 18*10^6 //lbf/in^2\n",
"M= 3 //tonf\n",
"//CALCULATIONS\n",
"u= sqrt(((M*2240)^2/w)*(t*2/d)*32.2*114*((t*2/(d*k))+(2/E)))\n",
"Q= (%pi*(d/2)^2/144)*u\n",
"//RESULTS\n",
"printf (' maximum permissible flow = %.2f ft^3/sec',Q)"
   ]
   }
,
{
		   "cell_type": "markdown",
		   "metadata": {},
		   "source": [
			"## Example 11.2_1: chapter_11_example_2_1.sce"
		   ]
		  },
  {
"cell_type": "code",
	   "execution_count": null,
	   "metadata": {
	    "collapsed": true
	   },
	   "outputs": [],
"source": [
"clc\n",
"//initialisation of variables\n",
"Q= 0.5 //ft^3/sec\n",
"d= 3 //in\n",
"d1= 4 //in\n",
"d2= 2 //in\n",
"h= 12.7 //in\n",
"g= 32.2 //ft/sec^2\n",
"s= 13.6 //kg/m^3\n",
"//CALCULATIONS\n",
"k= (s-1)*(h/2)*2*g*(%pi/(Q*d^2*4))^2+((d1/d)^4-1)\n",
"C= (d1/d2)^2/(sqrt(k)+1)\n",
"//CALCULATIONS\n",
"printf (' cntraction coefficient= %.3f ',C)\n",
"\n",
"\n",
"//ANSWER GIVEN IN THE TEXTBOOK IS WRONG"
   ]
   }
,
{
		   "cell_type": "markdown",
		   "metadata": {},
		   "source": [
			"## Example 11.3_1: chapter_11_example_3_1.sce"
		   ]
		  },
  {
"cell_type": "code",
	   "execution_count": null,
	   "metadata": {
	    "collapsed": true
	   },
	   "outputs": [],
"source": [
"clc\n",
"//initialisation of variables\n",
"Q= 400 //gallons\n",
"d= 4 //in\n",
"d1=6 //in\n",
"C= 0.66\n",
"g= 32.2 //ft/sec^2\n",
"w=62.4//lbf/ft^3\n",
"//CALCULATIONS\n",
"u1= (Q/60)*d1^2/(%pi*6.23)\n",
"u2= (d/d1)^2*u1\n",
"h= (u1-u2)^2/(2*g)\n",
"w=62.4//lbf/ft^3\n",
"p= (((u1^2-u2^2)/(2*g))-h)*w\n",
"h1= ((1/C)-1)^2*(u1^2/(2*g))\n",
"p1= (((u1^2-u2^2)/(2*g))+h1)*w\n",
"p2= (u1^2-u2^2)\n",
"//RESULTS\n",
"printf (' Loss of head due to the sudden enlargement= %.3f ft',h)\n",
"printf (' \n difference in pressure = %.1f lbf/ft^2',p)\n",
"printf (' \n difference in pressure = %.f lbf/ft^2',p1)\n",
"printf (' \n difference in pressure = %.1f lbf/ft^2',p2)"
   ]
   }
,
{
		   "cell_type": "markdown",
		   "metadata": {},
		   "source": [
			"## Example 11.4_1: chapter_11_example_4_1.sce"
		   ]
		  },
  {
"cell_type": "code",
	   "execution_count": null,
	   "metadata": {
	    "collapsed": true
	   },
	   "outputs": [],
"source": [
"clc\n",
"//initialisation of variables\n",
"w= 62.3 //lb/ft^3\n",
"g= 32.2//ft/se^2\n",
"k= 3*10^5 //lbf/in^2\n",
"u= 10//ft/sec\n",
"//CALCULATIONS\n",
"P= u*sqrt(w*k/g)/12\n",
"//RESULTS\n",
"printf (' Rise in pressure = %.f lbf/in^2',P)"
   ]
   }
,
{
		   "cell_type": "markdown",
		   "metadata": {},
		   "source": [
			"## Example 11.8_2: chapter_11_example_8_2.sce"
		   ]
		  },
  {
"cell_type": "code",
	   "execution_count": null,
	   "metadata": {
	    "collapsed": true
	   },
	   "outputs": [],
"source": [
"clc\n",
"//initialisation of variables\n",
"l= 9 //ft\n",
"g= 32.2 //ft/sec^2\n",
"Q= 160\n",
"A= 21*%pi\n",
"//CALCULATIONS\n",
"d= 6/(l*2*g*(A/Q)^2-1.5)\n",
"//RESULTS\n",
"printf ('diameter = %.2f ft',d)\n",
"\n",
"//ANSWER GIVEN IN THE TEXTBOOKIS WRONG"
   ]
   }
,
{
		   "cell_type": "markdown",
		   "metadata": {},
		   "source": [
			"## Example 11.8_3: chapter_11_example_8_3.sce"
		   ]
		  },
  {
"cell_type": "code",
	   "execution_count": null,
	   "metadata": {
	    "collapsed": true
	   },
	   "outputs": [],
"source": [
"clc\n",
"//initialisation of variables\n",
"a= 2.493\n",
"b= 6.8\n",
"c= -393/(4*2.493)\n",
"d= 0.75 //ft\n",
"//CALCULATIONS\n",
"u2= (-b+sqrt(b^2-4*a*c))/(2*a)\n",
"Q= %pi*d^2*u2/4\n",
"//RESULTS\n",
"printf (' Rate of flow = %.2f ft^3/sec',Q)"
   ]
   }
],
"metadata": {
		  "kernelspec": {
		   "display_name": "Scilab",
		   "language": "scilab",
		   "name": "scilab"
		  },
		  "language_info": {
		   "file_extension": ".sce",
		   "help_links": [
			{
			 "text": "MetaKernel Magics",
			 "url": "https://github.com/calysto/metakernel/blob/master/metakernel/magics/README.md"
			}
		   ],
		   "mimetype": "text/x-octave",
		   "name": "scilab",
		   "version": "0.7.1"
		  }
		 },
		 "nbformat": 4,
		 "nbformat_minor": 0
}
