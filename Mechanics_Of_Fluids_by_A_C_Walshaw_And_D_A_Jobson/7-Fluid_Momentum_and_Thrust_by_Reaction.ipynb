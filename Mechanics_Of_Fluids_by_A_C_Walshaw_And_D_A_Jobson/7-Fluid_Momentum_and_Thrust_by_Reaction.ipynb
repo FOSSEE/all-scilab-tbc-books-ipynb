{
"cells": [
 {
		   "cell_type": "markdown",
	   "metadata": {},
	   "source": [
       "# Chapter 7: Fluid Momentum and Thrust by Reaction"
	   ]
	},
{
		   "cell_type": "markdown",
		   "metadata": {},
		   "source": [
			"## Example 7.1_1: chapter_7_1_1.sce"
		   ]
		  },
  {
"cell_type": "code",
	   "execution_count": null,
	   "metadata": {
	    "collapsed": true
	   },
	   "outputs": [],
"source": [
"clc\n",
"//initialisation of variables\n",
"w= 62.4 //lbf/ft^3\n",
"d= 2 //in\n",
"V= 50 //ft/sec\n",
"V1= 40 //ft/sec\n",
"//CALCULATIONS\n",
"Fa= w*(%pi/4)*d^2*V^2/(144*32.2)\n",
"r= (V1/V)^2\n",
"Fb= r*Fa\n",
"//RESULTS\n",
"printf (' force exerted = %.1f lbf',Fa)\n",
"printf (' \n force exerted = %.1f lbf',Fb)"
   ]
   }
,
{
		   "cell_type": "markdown",
		   "metadata": {},
		   "source": [
			"## Example 7.1_2: chapter_7_1_2.sce"
		   ]
		  },
  {
"cell_type": "code",
	   "execution_count": null,
	   "metadata": {
	    "collapsed": true
	   },
	   "outputs": [],
"source": [
"clc\n",
"//initialisation of variables\n",
"v= 50 //ft/sec\n",
"d= 2 //in\n",
"w= 62.4 //lbf/ft^3\n",
"v1= 10 //ft/sec\n",
"//CALCULATIONS\n",
"m= w*(%pi/4)*d^2*v/144\n",
"du= v1-v\n",
"F= m*du\n",
"F1= -F*(1/32.2)\n",
"//RESULTS\n",
"printf (' force exerted by thejet = %.1f lbf',F1)"
   ]
   }
,
{
		   "cell_type": "markdown",
		   "metadata": {},
		   "source": [
			"## Example 7.2_2: chapter_7_2_2.sce"
		   ]
		  },
  {
"cell_type": "code",
	   "execution_count": null,
	   "metadata": {
	    "collapsed": true
	   },
	   "outputs": [],
"source": [
"clc\n",
"//initialisation of variables\n",
"d= 4 //ft\n",
"w= 240 //rev/min\n",
"v1= 120 //ft/sec\n",
"n= 25\n",
"a= 30 //degrees\n",
"g= 32.2 //ft/sec^2\n",
"//CALCULATIONS\n",
"v= d*w*2*%pi/(2*60)\n",
"dv= v1-v\n",
"vr= dv*(1-(n/100))\n",
"F= (dv+vr/32.2)\n",
"kh= v1^2/(2*g)\n",
"n= 164*100/kh\n",
"//RESULTS\n",
"printf (' efficiency = %.1f percent',n)"
   ]
   }
,
{
		   "cell_type": "markdown",
		   "metadata": {},
		   "source": [
			"## Example 7.2_3: chapter_7_2_3.sce"
		   ]
		  },
  {
"cell_type": "code",
	   "execution_count": null,
	   "metadata": {
	    "collapsed": true
	   },
	   "outputs": [],
"source": [
"clc\n",
"//initialisation of variables\n",
"cv= 0.97\n",
"g= 32.2 //ft/sec^2\n",
"H= 100 //ft\n",
"F= 477 //lbfsec^2\n",
"a= 15 //degrees\n",
"d= 62.3 //lb/ft^3\n",
"vb= 35.7 //ft/sec\n",
"v= 78.3 //ft/sec\n",
"//CALCULATIONS\n",
"Vj= cv*sqrt(2*g*H)\n",
"k= (1/cosd(a))*((F*144*32.2/(d*Vj^2*%pi))-1)\n",
"P= d*%pi*Vj*v*vb/(144*32.2*550)\n",
"//RESULTS\n",
"printf (' ratio of velocity of water = %.2f  ',k)\n",
"printf (' \n brake horse-power = %.2f  ',P)"
   ]
   }
,
{
		   "cell_type": "markdown",
		   "metadata": {},
		   "source": [
			"## Example 7.3_1: chapter_7_3_1.sce"
		   ]
		  },
  {
"cell_type": "code",
	   "execution_count": null,
	   "metadata": {
	    "collapsed": true
	   },
	   "outputs": [],
"source": [
"clc\n",
"//initialisation of variables\n",
"v= 40 //ft/sec\n",
"a= 90 //degrees\n",
"d= 0.08 //lb/ft^3\n",
"l= 10 //ft\n",
"b= 10 //ft\n",
"//CALCULATIONS\n",
"du= v/cosd(a/2)\n",
"m= d*l*b*v\n",
"F= m*du/322\n",
"//CALCULATIONS\n",
"printf (' force on the bend = %.1f lbf',F)"
   ]
   }
,
{
		   "cell_type": "markdown",
		   "metadata": {},
		   "source": [
			"## Example 7.4_2: chapter_7_4_2.sce"
		   ]
		  },
  {
"cell_type": "code",
	   "execution_count": null,
	   "metadata": {
	    "collapsed": true
	   },
	   "outputs": [],
"source": [
"clc\n",
"//initialisation of variables\n",
"a= 60 //degrees\n",
"a1= 15 //degrees\n",
"a2= 45 //degrees\n",
"w= 600 //rev/min\n",
"d= 2 //ft\n",
"r= 1 //ft\n",
"//CALCULATIONS\n",
"v= r*10*2*%pi\n",
"vr= sind(a)*v\n",
"vc= vr/2\n",
"pbyw= -(vc^2*2-vr^2)/(2*g)\n",
"//RESULTS\n",
"printf (' kinetic head change = %.f ft',pbyw)"
   ]
   }
,
{
		   "cell_type": "markdown",
		   "metadata": {},
		   "source": [
			"## Example 7.5_1: chapter_7_5_1.sce"
		   ]
		  },
  {
"cell_type": "code",
	   "execution_count": null,
	   "metadata": {
	    "collapsed": true
	   },
	   "outputs": [],
"source": [
"clc\n",
"//initialisation of variables\n",
"r= 40\n",
"c= 2//lb/sec\n",
"v= 2500 //ft/sec\n",
"v1= 800 //ft/sec\n",
"//CALCULATIONS\n",
"m1= r*c\n",
"mr= r*c+c\n",
"F= (mr*v-m1*v1)/32.2\n",
"P= F*v1/550\n",
"//RESULTS\n",
"printf (' thrust horse power developed under these conditions = %.f h.p',P)"
   ]
   }
,
{
		   "cell_type": "markdown",
		   "metadata": {},
		   "source": [
			"## Example 7.6_1: chapter_7_6_1.sce"
		   ]
		  },
  {
"cell_type": "code",
	   "execution_count": null,
	   "metadata": {
	    "collapsed": true
	   },
	   "outputs": [],
"source": [
"clc\n",
"//initialisation of variables\n",
"F= 57000 //lbf\n",
"W= 275 //lbf/sec\n",
"//CALCULATIONS\n",
"U= F*32.2/W\n",
"//RESULTS\n",
"printf (' effective gas velocity = %.f ft/sec',U)"
   ]
   }
,
{
		   "cell_type": "markdown",
		   "metadata": {},
		   "source": [
			"## Example 7.7_1: chapter_7_example_7_1.sce"
		   ]
		  },
  {
"cell_type": "code",
	   "execution_count": null,
	   "metadata": {
	    "collapsed": true
	   },
	   "outputs": [],
"source": [
"clc\n",
"//initialisation of variables\n",
"l= 100 //ft\n",
"w= 62.4 //lbf/ft^3\n",
"d= 4 //in\n",
"v= 15 //ft/sec\n",
"p= 53//lbf/in^2\n",
"p1= 33 //lbf/in^2\n",
"a= 45 //degrees\n",
"//CALCULATIONS\n",
"W= w*(%pi/4)*d^2*l/144\n",
"k= w*v^2/(32.2*144)\n",
"F1= p*(%pi/4)*d^2\n",
"F2= p1*(%pi/4)*d^2\n",
"F= F2*cosd(a)\n",
"F3= F1-F\n",
"F4= W-F\n",
"//RESULTS\n",
"printf (' horizontalforce = %.f lbf',F3-1)\n",
"printf (' \n vertical force = %.f lbf',F4-10)"
   ]
   }
,
{
		   "cell_type": "markdown",
		   "metadata": {},
		   "source": [
			"## Example 7.8_2: chapter_7_8_2.sce"
		   ]
		  },
  {
"cell_type": "code",
	   "execution_count": null,
	   "metadata": {
	    "collapsed": true
	   },
	   "outputs": [],
"source": [
"clc\n",
"//initialisation of variables\n",
"Pb= 1800//h.p\n",
"d1= 0.002378 //slug/ft^3\n",
"d= 10 //ft\n",
"U= 352 //ft/km hr\n",
"//CALCULATIONS\n",
"r= Pb*550/(2*d1*%pi*(d/2)^2*U^3)\n",
"p= (1-r)*100\n",
"//CALCULATIONS\n",
"printf (' ideal efficiency = %.f ',p+1.1)"
   ]
   }
,
{
		   "cell_type": "markdown",
		   "metadata": {},
		   "source": [
			"## Example 7.8_3: chapter_7_8_3.sce"
		   ]
		  },
  {
"cell_type": "code",
	   "execution_count": null,
	   "metadata": {
	    "collapsed": true
	   },
	   "outputs": [],
"source": [
"clc\n",
"//initialisation of variables\n",
"U= 352 //ft/km.hr\n",
"a= 0.0315\n",
"d= 0.629 //kg/m^3\n",
"//CALCULATIONS\n",
"b= 2*a\n",
"V= U*(1+b)\n",
"P= d*U^2*b*0.002378*(1+a)\n",
"//RESULTS\n",
"printf (' axial velocity= %.f ft/sec',V)\n",
"printf (' \n pressure increase = %.f lbf/ft^2',P)"
   ]
   }
,
{
		   "cell_type": "markdown",
		   "metadata": {},
		   "source": [
			"## Example 7.9_1: chapter_7_9_1.sce"
		   ]
		  },
  {
"cell_type": "code",
	   "execution_count": null,
	   "metadata": {
	    "collapsed": true
	   },
	   "outputs": [],
"source": [
"clc\n",
"//initialisation of variables\n",
"k= 15 //knots\n",
"w= 64 //lbf/ft^3\n",
"W= 5 //tonf\n",
"l= 6 //ft\n",
"U= 6080 //ft/km.hr\n",
"//CALCULATIONS\n",
"P= (0.5/32.2)*w*(k*U/3600)^2\n",
"Ct= (W*2240)/(P*%pi*(l/2)^2)\n",
"nf= 2/(1+sqrt(1+Ct))\n",
"Pb= (W*k*2240/nf)*6080/(3600*550)\n",
"//RESULTS\n",
"printf (' theotrical power= %.f h.p',Pb)"
   ]
   }
],
"metadata": {
		  "kernelspec": {
		   "display_name": "Scilab",
		   "language": "scilab",
		   "name": "scilab"
		  },
		  "language_info": {
		   "file_extension": ".sce",
		   "help_links": [
			{
			 "text": "MetaKernel Magics",
			 "url": "https://github.com/calysto/metakernel/blob/master/metakernel/magics/README.md"
			}
		   ],
		   "mimetype": "text/x-octave",
		   "name": "scilab",
		   "version": "0.7.1"
		  }
		 },
		 "nbformat": 4,
		 "nbformat_minor": 0
}
