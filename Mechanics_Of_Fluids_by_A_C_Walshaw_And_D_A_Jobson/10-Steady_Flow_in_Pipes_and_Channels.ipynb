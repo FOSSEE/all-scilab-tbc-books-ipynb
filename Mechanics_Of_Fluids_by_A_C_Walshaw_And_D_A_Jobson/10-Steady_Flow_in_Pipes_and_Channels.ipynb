{
"cells": [
 {
		   "cell_type": "markdown",
	   "metadata": {},
	   "source": [
       "# Chapter 10: Steady Flow in Pipes and Channels"
	   ]
	},
{
		   "cell_type": "markdown",
		   "metadata": {},
		   "source": [
			"## Example 10.1_1: chapter_10_example_1_1.sce"
		   ]
		  },
  {
"cell_type": "code",
	   "execution_count": null,
	   "metadata": {
	    "collapsed": true
	   },
	   "outputs": [],
"source": [
"clc\n",
"//initialisation of variables\n",
"Q= 450 //ft^3/sec\n",
"k= 0.5\n",
"i= 1/2000\n",
"C= 105 //ft^1/2/sec\n",
"//CALCULATIONS\n",
"d= (((Q*sqrt(2/i))/(2*sqrt(1+k^2-k)*C))^(2/5))*(5.41/7.55)\n",
"b= d/2\n",
"s= d*sqrt(1+k^2)\n",
"//RESULTS\n",
"printf (' vertical= %.2f ft',d)\n",
"printf (' \n horizontal= %.2f ft',s)"
   ]
   }
,
{
		   "cell_type": "markdown",
		   "metadata": {},
		   "source": [
			"## Example 10.2_2: chapter_10_2_2.sce"
		   ]
		  },
  {
"cell_type": "code",
	   "execution_count": null,
	   "metadata": {
	    "collapsed": true
	   },
	   "outputs": [],
"source": [
"clc\n",
"//initialisation of variables\n",
"d= 6 //ft\n",
"C= 95 //ft^0.5/sec\n",
"i= 1/800\n",
"m= 1.705 //ft\n",
"O= 211\n",
"a= 15.16\n",
"g= 32.2 //ft^2/sec\n",
"//CALCULATIONS\n",
"A= ((d/2)^2/2)*(((O*%pi)/180)+sind(2*a))\n",
"u= C*sqrt(m*i)\n",
"Q= A*u\n",
"f= (2*g)/C^2\n",
"//RESULTS\n",
"printf (' rate of volumetric flow= %.1f ft^3/sec',Q)\n",
"printf (' \n resistance factor= %.5f ',f)"
   ]
   }
,
{
		   "cell_type": "markdown",
		   "metadata": {},
		   "source": [
			"## Example 10.3_1: chapter_10_example_3_1.sce"
		   ]
		  },
  {
"cell_type": "code",
	   "execution_count": null,
	   "metadata": {
	    "collapsed": true
	   },
	   "outputs": [],
"source": [
"clc\n",
"//initialisation of variables\n",
"m= 6 //lb/sec\n",
"w= 62.3//lb/ft^3\n",
"s= 0.9\n",
"l= 2500 //ft\n",
"u= 0.115\n",
"r= 8 //ft\n",
"g= 32.2 //ft/sec^2\n",
"//CALCULATIONS\n",
"dp= 8*u*l*r^4*m/(%pi*s*w*g)\n",
"P= m*dp/(s*w*550)\n",
"//RESULTS\n",
"printf (' Power required= %.2f h.p',P)"
   ]
   }
,
{
		   "cell_type": "markdown",
		   "metadata": {},
		   "source": [
			"## Example 10.4_1: chapter_10_example_4_1.sce"
		   ]
		  },
  {
"cell_type": "code",
	   "execution_count": null,
	   "metadata": {
	    "collapsed": true
	   },
	   "outputs": [],
"source": [
"clc\n",
"//initialisation of variables\n",
"p= 0.0024 //slug/ft^3\n",
"u= 10 //ft/sec\n",
"v= 3.75*10^-7 //slug\n",
"d= 0.25//in\n",
"u1= 100 //ft/sec\n",
"//CALCULATIONS\n",
"R= u*d*p/(12*v)\n",
"f= 16/R\n",
"F1= f*p*u^2*%pi*d/(2*12)\n",
"R1= R*10\n",
"f1= 0.0791/R1^0.25\n",
"F2= f1*p*u1^2*%pi*d/(2*12*10)\n",
"C= F2/F1\n",
"//RESULTS\n",
"printf (' Drag force per foot length = %.2e lbf/ft',F1)\n",
"printf (' \n resistance coefficient = %.2f ',C)"
   ]
   }
,
{
		   "cell_type": "markdown",
		   "metadata": {},
		   "source": [
			"## Example 10.4_2: chapter_10_example_4_2.sce"
		   ]
		  },
  {
"cell_type": "code",
	   "execution_count": null,
	   "metadata": {
	    "collapsed": true
	   },
	   "outputs": [],
"source": [
"clc\n",
"//initialisation of variables\n",
"Q= 0.7//ft^3/sec\n",
"a= 16\n",
"n= 0.65\n",
"P= 5 //h.p\n",
"l= 3000 //ft\n",
"g= 32.2 //ft^2/sec \n",
"d= 0.85 //gm/cc\n",
"d1= 0.5 //ft\n",
"//CALCULATIONS\n",
"u= Q*a/%pi\n",
"u1= n*P*550*g/(8*%pi*u^2*l)\n",
"v= u1/d\n",
"R= u*d1*30.5^2/1.05\n",
"//RESULTS\n",
"printf (' Reynolds number= %.f ',R)"
   ]
   }
,
{
		   "cell_type": "markdown",
		   "metadata": {},
		   "source": [
			"## Example 10.4_3: chapter_10_example_4_3.sce"
		   ]
		  },
  {
"cell_type": "code",
	   "execution_count": null,
	   "metadata": {
	    "collapsed": true
	   },
	   "outputs": [],
"source": [
"clc\n",
"//initialisation of variables\n",
"u1= 80 //ft/sec\n",
"c= 62\n",
"s= 0.25\n",
"l= 11 //ft\n",
"w= 62.3 //lb/ft^3\n",
"u1= 80 //ft/sec\n",
"d= 2 //lbf/in^2\n",
"//CALCULATIONS\n",
"u= u1*c/(l*w*s)\n",
"P= ((u1/u)^2)*s*d*144/(l*w)\n",
"//RESULTS\n",
"printf (' water velocity = %.3f ft/sec',u)\n",
"printf (' w\n pressure drop = %.3f lbf/ft^2 per ft length',P)"
   ]
   }
],
"metadata": {
		  "kernelspec": {
		   "display_name": "Scilab",
		   "language": "scilab",
		   "name": "scilab"
		  },
		  "language_info": {
		   "file_extension": ".sce",
		   "help_links": [
			{
			 "text": "MetaKernel Magics",
			 "url": "https://github.com/calysto/metakernel/blob/master/metakernel/magics/README.md"
			}
		   ],
		   "mimetype": "text/x-octave",
		   "name": "scilab",
		   "version": "0.7.1"
		  }
		 },
		 "nbformat": 4,
		 "nbformat_minor": 0
}
