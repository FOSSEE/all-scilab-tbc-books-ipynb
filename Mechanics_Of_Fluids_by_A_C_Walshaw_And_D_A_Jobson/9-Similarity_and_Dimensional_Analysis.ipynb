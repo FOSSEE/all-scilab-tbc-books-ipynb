{
"cells": [
 {
		   "cell_type": "markdown",
	   "metadata": {},
	   "source": [
       "# Chapter 9: Similarity and Dimensional Analysis"
	   ]
	},
{
		   "cell_type": "markdown",
		   "metadata": {},
		   "source": [
			"## Example 9.1_1: chapter_9_1_1.sce"
		   ]
		  },
  {
"cell_type": "code",
	   "execution_count": null,
	   "metadata": {
	    "collapsed": true
	   },
	   "outputs": [],
"source": [
"clc\n",
"//initialisation of variables\n",
"d= 1.6 //lb/ft^3\n",
"vk= 6.2*10^-6 //ft^2/sec\n",
"R= 1.8 //lbf\n",
"v= 100 //ft/sec\n",
"d1= 64 //lb/ft^3\n",
"vk1= 1.7*10^-5 //ft62/sec\n",
"l= 10 //ft\n",
"//CALCULATIONS\n",
"u= v*vk1/(vk*l)\n",
"u1= v*vk1/(vk*l*1.98)\n",
"r= d1*l^2*(u/100)^2/d\n",
"F= r*R\n",
"//RESULTS\n",
"printf (' resistance= %.f lbf ',F)"
   ]
   }
,
{
		   "cell_type": "markdown",
		   "metadata": {},
		   "source": [
			"## Example 9.2_1: chapter_9_2_1.sce"
		   ]
		  },
  {
"cell_type": "code",
	   "execution_count": null,
	   "metadata": {
	    "collapsed": true
	   },
	   "outputs": [],
"source": [
"clc\n",
"//initialisation of variables\n",
"S= 5 //ft\n",
"F= 70 //lbf\n",
"a= 4 //degrees\n",
"l= 1 //ft\n",
"d= 0.002378 //slug/ft^3\n",
"u= 120 //ft/sec\n",
"//CALCULATIONS\n",
"L= F*cosd(a)\n",
"D=F*sind(a)\n",
"S1= S*l\n",
"p= 0.5*d*u^2\n",
"Cl= L/(p*S1)\n",
"Cd= D/(p*S1)\n",
"//RESULTS\n",
"printf (' coefficient of lift= %.2f',Cl)\n",
"printf (' \n coefficient of drag= %.4f',Cd)"
   ]
   }
,
{
		   "cell_type": "markdown",
		   "metadata": {},
		   "source": [
			"## Example 9.2_2: chapter_9_2_2.sce"
		   ]
		  },
  {
"cell_type": "code",
	   "execution_count": null,
	   "metadata": {
	    "collapsed": true
	   },
	   "outputs": [],
"source": [
"clc\n",
"//initialisation of variables\n",
"A= 600 //ft^2\n",
"W= 40 //lbf/ft^2\n",
"n= 75 //percent\n",
"r= 10\n",
"v= 300 //miles/hour\n",
"//CALCULATIONS\n",
"L= W*A\n",
"D= L/r\n",
"P= D*v*5280/(60*33000)\n",
"hp= P*100/n\n",
"//RESULTS\n",
"printf (' brake horse-power of the engines= %.f h.p',hp)"
   ]
   }
,
{
		   "cell_type": "markdown",
		   "metadata": {},
		   "source": [
			"## Example 9.3_1: chapter_9_3_1.sce"
		   ]
		  },
  {
"cell_type": "code",
	   "execution_count": null,
	   "metadata": {
	    "collapsed": true
	   },
	   "outputs": [],
"source": [
"clc\n",
"//initialisation of variables\n",
"va= 0.2\n",
"r= 1/1.25\n",
"r1= 1/50\n",
"P= 20 //atm\n",
"v= 400 //m.p.h\n",
"//CALCULATIONS\n",
"Um= v*va/(P*r*r1)\n",
"//RESULTS\n",
"printf (' Speed of air= %.f m.p.h',Um)"
   ]
   }
,
{
		   "cell_type": "markdown",
		   "metadata": {},
		   "source": [
			"## Example 9.4_1: chapter_9_4_1.sce"
		   ]
		  },
  {
"cell_type": "code",
	   "execution_count": null,
	   "metadata": {
	    "collapsed": true
	   },
	   "outputs": [],
"source": [
"clc\n",
"//initialisation of variables\n",
"U= 30 //ft/sec\n",
"g= 32.2 //ft/sec^2\n",
"l= 500//ft\n",
"r= 1/25\n",
"//CALCULATIONS\n",
"F=(U^2/(l*g))\n",
"R= sqrt(r)\n",
"Um= U*R\n",
"//RESULTS\n",
"printf (' Froude number= %.4f ',F)\n",
"printf (' \n speed= %.f ft/sec',Um)"
   ]
   }
,
{
		   "cell_type": "markdown",
		   "metadata": {},
		   "source": [
			"## Example 9.4_2: chapter_9_4_2.sce"
		   ]
		  },
  {
"cell_type": "code",
	   "execution_count": null,
	   "metadata": {
	    "collapsed": true
	   },
	   "outputs": [],
"source": [
"clc\n",
"//initialisation of variables\n",
"R1= 9.5 //lbf\n",
"f1= 0.01\n",
"S1= 22 //ft^2\n",
"U1= 5.3\n",
"n= 1.825\n",
"l= 540//ft\n",
"l1= 15 //ft\n",
"C= 0.0087//lbf/ft^2\n",
"//CALCULATIONS\n",
"Rr1= R1-f1*S1*U1^n\n",
"U= U1*sqrt(l/l1)\n",
"r= (l/l1)^3\n",
"Rr= r*Rr1\n",
"Rf= C*(l/l1)^2*S1*U^n\n",
"R= Rr+Rf\n",
"P= R*U*1.69/550\n",
"//RESULTS\n",
"printf (' propulsive power= %.f h.p',P)"
   ]
   }
,
{
		   "cell_type": "markdown",
		   "metadata": {},
		   "source": [
			"## Example 9.5_1: chapter_9_5_1.sce"
		   ]
		  },
  {
"cell_type": "code",
	   "execution_count": null,
	   "metadata": {
	    "collapsed": true
	   },
	   "outputs": [],
"source": [
"clc\n",
"//initialisation of variables\n",
"s= 20 //ft\n",
"u= 10 //ft/sec\n",
"t= 1 //sec\n",
"//CALCULATIONS\n",
"r= s/u\n",
"a= r*u/t\n",
"//RESULTS\n",
"printf (' constant accelaration= %.f ft/sec^2',a)"
   ]
   }
,
{
		   "cell_type": "markdown",
		   "metadata": {},
		   "source": [
			"## Example 9.5_2: chapter_9_5_2.sce"
		   ]
		  },
  {
"cell_type": "code",
	   "execution_count": null,
	   "metadata": {
	    "collapsed": true
	   },
	   "outputs": [],
"source": [
"clc\n",
"//initialisation of variables\n",
"a= 20 //ft/sec^2\n",
"s= 20//ft\n",
"u= 10 //ft/sec\n",
"//CALCULATIONS\n",
"P= a*s/u^2\n",
"t= s*2/(u*P)\n",
"//RESULTS\n",
"printf (' time taken= %.f sec',t)"
   ]
   }
,
{
		   "cell_type": "markdown",
		   "metadata": {},
		   "source": [
			"## Example 9.6_1: chapter_9_6_1.sce"
		   ]
		  },
  {
"cell_type": "code",
	   "execution_count": null,
	   "metadata": {
	    "collapsed": true
	   },
	   "outputs": [],
"source": [
"clc\n",
"//initialisation of variables\n",
"s= 0.8\n",
"l= 1//ft\n",
"r= 8\n",
"//CALCULATIONS\n",
"Hw= (s/r)^(2/3)*l\n",
"Qw= 1.5*Hw^(2.5)\n",
"R= (1/Hw)^2.5\n",
"Q= Qw*R\n",
"//RESULTS\n",
"printf (' depth of water= %.3f ft',Hw)\n",
"printf (' \n rate of flow of fluid= %.1f ft^3/sec',Q)"
   ]
   }
,
{
		   "cell_type": "markdown",
		   "metadata": {},
		   "source": [
			"## Example 9.6_3: chapter_9_6_3.sce"
		   ]
		  },
  {
"cell_type": "code",
	   "execution_count": null,
	   "metadata": {
	    "collapsed": true
	   },
	   "outputs": [],
"source": [
"clc\n",
"//initialisation of variables\n",
"Q1= 140 //gallons\n",
"h= 3 //in\n",
"r= 16\n",
"//CALCULATIONS\n",
"H= h*r/12\n",
"Q2= Q1*H^5\n",
"//RESULTS\n",
"printf (' corresponding head over the full-scale wier= %.f ft',H)\n",
"printf (' \n discharge over the latter= %.f gal/min',Q2)"
   ]
   }
,
{
		   "cell_type": "markdown",
		   "metadata": {},
		   "source": [
			"## Example 9.7_1: chapter_9_7_1.sce"
		   ]
		  },
  {
"cell_type": "code",
	   "execution_count": null,
	   "metadata": {
	    "collapsed": true
	   },
	   "outputs": [],
"source": [
"clc\n",
"//initialisation of variables\n",
"r= 0.448\n",
"R= 0.868\n",
"r1= 0.152\n",
"R1= 0.807\n",
"//CALCULATIONS\n",
"P= R^3/r^2\n",
"U= R/r\n",
"P1= R1^3/r1^2\n",
"U1= R1/r1\n",
"//RESULTS\n",
"printf (' power ratio in case 1= %.2f ',P)\n",
"printf (' \n velocity ratio in case 1= %.2f ',U)\n",
"printf (' \n power ratio in case 2= %.2f ',P1)\n",
"printf (' \n velocity ratio in case 2= %.1f ',U1)"
   ]
   }
,
{
		   "cell_type": "markdown",
		   "metadata": {},
		   "source": [
			"## Example 9.7_2: chapter_9_7_2.sce"
		   ]
		  },
  {
"cell_type": "code",
	   "execution_count": null,
	   "metadata": {
	    "collapsed": true
	   },
	   "outputs": [],
"source": [
"clc\n",
"//initialisation of variables\n",
"w= 1 //gf/cm^3\n",
"Ss= 7.8\n",
"Sl= 0.9\n",
"D= 1 //cm\n",
"D1= 0.1 //cm\n",
"g= 981 //cm/sec^2\n",
"//CALCULATIONS\n",
"F= w*(Ss-Sl)*4*%pi*D^3/(3*8000)\n",
"v= F*g/(3*%pi*D1*2)\n",
"//RESULTS\n",
"printf (' coefficient of viscosity= %.2f poise',v)"
   ]
   }
,
{
		   "cell_type": "markdown",
		   "metadata": {},
		   "source": [
			"## Example 9.7_4: chapter_9_7_4.sce"
		   ]
		  },
  {
"cell_type": "code",
	   "execution_count": null,
	   "metadata": {
	    "collapsed": true
	   },
	   "outputs": [],
"source": [
"clc\n",
"//initialisation of variables\n",
"T= 15 //C\n",
"T1= -44 //C\n",
"P= 24//atm\n",
"s= 0.374\n",
"m= 6 //tonf\n",
"//CALCULATIONS\n",
"r= ((T+273)/(T1+273))^0.75\n",
"R= P/s\n",
"R1= r^2/R\n",
"F= R1*m*2240\n",
"//RESULTS\n",
"printf (' lift force= %.1f lbf',F)"
   ]
   }
,
{
		   "cell_type": "markdown",
		   "metadata": {},
		   "source": [
			"## Example 9.7_5: chapter_9_7_5.sce"
		   ]
		  },
  {
"cell_type": "code",
	   "execution_count": null,
	   "metadata": {
	    "collapsed": true
	   },
	   "outputs": [],
"source": [
"clc\n",
"//initialisation of variables\n",
"u= 80 //ft/sec\n",
"n= 62\n",
"r= 1/4\n",
"v= 11 //ft^3\n",
"w= 62.3//lbf/ft^3\n",
"p= 2 //lbf/in^2\n",
"//CALCULATIONS\n",
"uw= u*n/(r*v*w)\n",
"R= v*w*(uw/u)^2\n",
"P= r^2*p/R\n",
"//RESULTS\n",
"printf (' water velocity= %.f ft/sec',uw)\n",
"printf (' \n pressure drop= %.5f lbf/in^2 per ft',P)"
   ]
   }
,
{
		   "cell_type": "markdown",
		   "metadata": {},
		   "source": [
			"## Example 9.8_3: chapter_9_8_3.sce"
		   ]
		  },
  {
"cell_type": "code",
	   "execution_count": null,
	   "metadata": {
	    "collapsed": true
	   },
	   "outputs": [],
"source": [
"clc\n",
"//initialisation of variables\n",
"N= 1800 //rev/min\n",
"Vm= 60 //mile/hour\n",
"V= 300 //mile/hour\n",
"r= 10\n",
"//CALCULATIONS\n",
"Nm= N*Vm*r/V\n",
"//RESULTS\n",
"printf (' rotary speed= %.f rev/min',Nm)"
   ]
   }
],
"metadata": {
		  "kernelspec": {
		   "display_name": "Scilab",
		   "language": "scilab",
		   "name": "scilab"
		  },
		  "language_info": {
		   "file_extension": ".sce",
		   "help_links": [
			{
			 "text": "MetaKernel Magics",
			 "url": "https://github.com/calysto/metakernel/blob/master/metakernel/magics/README.md"
			}
		   ],
		   "mimetype": "text/x-octave",
		   "name": "scilab",
		   "version": "0.7.1"
		  }
		 },
		 "nbformat": 4,
		 "nbformat_minor": 0
}
