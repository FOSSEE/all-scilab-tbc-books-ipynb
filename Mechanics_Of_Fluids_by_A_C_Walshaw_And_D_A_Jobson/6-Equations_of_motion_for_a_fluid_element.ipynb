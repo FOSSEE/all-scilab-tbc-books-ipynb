{
"cells": [
 {
		   "cell_type": "markdown",
	   "metadata": {},
	   "source": [
       "# Chapter 6: Equations of motion for a fluid element"
	   ]
	},
{
		   "cell_type": "markdown",
		   "metadata": {},
		   "source": [
			"## Example 6.1_1: chapter_6_example_1_1.sce"
		   ]
		  },
  {
"cell_type": "code",
	   "execution_count": null,
	   "metadata": {
	    "collapsed": true
	   },
	   "outputs": [],
"source": [
"clc\n",
"//initialisation of variables\n",
"F= 100 //lbf\n",
"a= 20 //ft/sec^2\n",
"//CALCULATIONS\n",
"m= F*32.2/a\n",
"//RESULTS\n",
"printf (' mass of the body = %.f lb',m)"
   ]
   }
,
{
		   "cell_type": "markdown",
		   "metadata": {},
		   "source": [
			"## Example 6.1_2: chapter_6_example_1_2.sce"
		   ]
		  },
  {
"cell_type": "code",
	   "execution_count": null,
	   "metadata": {
	    "collapsed": true
	   },
	   "outputs": [],
"source": [
"clc\n",
"//initialisation of variables\n",
"m= 5 //lb\n",
"a= 200 //cm/sec^2\n",
"//CALCULATIONS\n",
"F= m*a/(32.2*30.5)\n",
"//RESULTS\n",
"printf (' Force on the body = %.2f lbf',F)"
   ]
   }
,
{
		   "cell_type": "markdown",
		   "metadata": {},
		   "source": [
			"## Example 6.1_3: chapter_6_example_1_3.sce"
		   ]
		  },
  {
"cell_type": "code",
	   "execution_count": null,
	   "metadata": {
	    "collapsed": true
	   },
	   "outputs": [],
"source": [
"clc\n",
"//initialisation of variables\n",
"m= 1 //gm\n",
"g= 327 //cm/sec^2\n",
"//CALCULATIONS\n",
"F=m*g/981\n",
"//RESULTS\n",
"printf (' Force on the body = %.2f gf',F)"
   ]
   }
,
{
		   "cell_type": "markdown",
		   "metadata": {},
		   "source": [
			"## Example 6.2_1: chapter_6_example_2_1.sce"
		   ]
		  },
  {
"cell_type": "code",
	   "execution_count": null,
	   "metadata": {
	    "collapsed": true
	   },
	   "outputs": [],
"source": [
"clc\n",
"//initialisation of variables\n",
"w= 0.0764 //lbf/ft^3\n",
"u= 88 //ft/sec\n",
"g= 32.2 //ft/sec^2\n",
"//CALCULATIONS\n",
"q= w*u^2/(2*g)\n",
"//RESULTS\n",
"printf (' dynamic pressure of air = %.2f lbf/ft^2',q)"
   ]
   }
,
{
		   "cell_type": "markdown",
		   "metadata": {},
		   "source": [
			"## Example 6.3_1: chapter_6_example_3_1.sce"
		   ]
		  },
  {
"cell_type": "code",
	   "execution_count": null,
	   "metadata": {
	    "collapsed": true
	   },
	   "outputs": [],
"source": [
"clc\n",
"//initialisation of variables\n",
"p= 60 //lbf/in^2\n",
"w= 62.4 //lbf/ft^3\n",
"l= 1 //ft\n",
"g= 32.2 //ft/sec^2\n",
"//CALCULATIONS\n",
"i= p*144/(w*l)\n",
"a= i*g\n",
"//RESULTS\n",
"printf ('accelaration of fluid = %.f ft/sec^2',a)"
   ]
   }
,
{
		   "cell_type": "markdown",
		   "metadata": {},
		   "source": [
			"## Example 6.3_2: chapter_6_example_3_2.sce"
		   ]
		  },
  {
"cell_type": "code",
	   "execution_count": null,
	   "metadata": {
	    "collapsed": true
	   },
	   "outputs": [],
"source": [
"clc\n",
"//initialisation of variables\n",
"w= 60 //re/min\n",
"d= 1 //ft\n",
"g= 32.2 //ft/sec^2\n",
"//CALCULATIONS\n",
"a= w^2*d*4*%pi^2/(2*60^2)\n",
"i= a/g\n",
"o= atand(i)\n",
"//RESULTS\n",
"printf ('slope ofthe free surface = %.1f degrees',o)"
   ]
   }
,
{
		   "cell_type": "markdown",
		   "metadata": {},
		   "source": [
			"## Example 6.3_3: chapter_6_example_3_3.sce"
		   ]
		  },
  {
"cell_type": "code",
	   "execution_count": null,
	   "metadata": {
	    "collapsed": true
	   },
	   "outputs": [],
"source": [
"clc\n",
"//initialisation of variables\n",
"H= 50 //ft\n",
"l= 200 //ft\n",
"g= 32.2 //ft/sec^2\n",
"//CALCU;ATIONS\n",
"i= H/l\n",
"a= i*g\n",
"//RESULTS\n",
"printf ('accelaration = %.2f ft/sec^2',a)"
   ]
   }
,
{
		   "cell_type": "markdown",
		   "metadata": {},
		   "source": [
			"## Example 6.7_2: chapter_6_example_7_2.sce"
		   ]
		  },
  {
"cell_type": "code",
	   "execution_count": null,
	   "metadata": {
	    "collapsed": true
	   },
	   "outputs": [],
"source": [
"clc\n",
"//initialisation of variables\n",
"g= 32.2 //ft/sec^2\n",
"h= 12 //in\n",
"r= 10 //in\n",
"//CALCULATIONS\n",
"w= sqrt(2*g*(r/12)*(12/r)^2)*(60/(2*%pi))\n",
"P= h+(r/4)\n",
"//RESULTS\n",
"printf ('speed of rotation = %.f rev/min',w)\n",
"printf ('\n maximum pressure head = %.1f in of water',P)"
   ]
   }
,
{
		   "cell_type": "markdown",
		   "metadata": {},
		   "source": [
			"## Example 6.8_1: chapter_6_example_8_1.sce"
		   ]
		  },
  {
"cell_type": "code",
	   "execution_count": null,
	   "metadata": {
	    "collapsed": true
	   },
	   "outputs": [],
"source": [
"clc\n",
"//initialisation of variables\n",
"l= 6 //ft\n",
"g= 32.2 //ft/sec^2\n",
"//CALCULATIONS\n",
"T= 2*%pi*sqrt(l/g)\n",
"//RESULTS\n",
"printf ('natural period ofthe system = %.2f sec',T)"
   ]
   }
,
{
		   "cell_type": "markdown",
		   "metadata": {},
		   "source": [
			"## Example 6.8_2: chapter_6_example_8_2.sce"
		   ]
		  },
  {
"cell_type": "code",
	   "execution_count": null,
	   "metadata": {
	    "collapsed": true
	   },
	   "outputs": [],
"source": [
"clc\n",
"//initialisation of variables\n",
"l= 6 //ft\n",
"g= 32.2 //ft/sec^2\n",
"l1= 6 //ft\n",
"l2= 6 //ft\n",
"l3= 34//ft\n",
"//CALCULATIONS\n",
"a= -((l1+l2-l3)/l)*g\n",
"w= sqrt(a/4.5)*(60/(2*%pi))\n",
"//RESULTS\n",
"printf ('maximum spees = %.1f cycles/min',w)"
   ]
   }
],
"metadata": {
		  "kernelspec": {
		   "display_name": "Scilab",
		   "language": "scilab",
		   "name": "scilab"
		  },
		  "language_info": {
		   "file_extension": ".sce",
		   "help_links": [
			{
			 "text": "MetaKernel Magics",
			 "url": "https://github.com/calysto/metakernel/blob/master/metakernel/magics/README.md"
			}
		   ],
		   "mimetype": "text/x-octave",
		   "name": "scilab",
		   "version": "0.7.1"
		  }
		 },
		 "nbformat": 4,
		 "nbformat_minor": 0
}
