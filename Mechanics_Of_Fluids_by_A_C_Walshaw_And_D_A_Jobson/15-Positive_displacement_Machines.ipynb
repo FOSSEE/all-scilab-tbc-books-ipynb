{
"cells": [
 {
		   "cell_type": "markdown",
	   "metadata": {},
	   "source": [
       "# Chapter 15: Positive displacement Machines"
	   ]
	},
{
		   "cell_type": "markdown",
		   "metadata": {},
		   "source": [
			"## Example 15.2_1: chapter_15_example_2_1.sce"
		   ]
		  },
  {
"cell_type": "code",
	   "execution_count": null,
	   "metadata": {
	    "collapsed": true
	   },
	   "outputs": [],
"source": [
"clc\n",
"//initialisation of variables\n",
"B= 34 //ft\n",
"z= 6 //ft\n",
"g= 32.2 //ft/sec^2\n",
"d= 6 //in\n",
"do= 2 //in\n",
"l= 6 //ft\n",
"l1= 0.04\n",
"//CALCULATIONS\n",
"s= sqrt((g*do^2*(B-6-z))/(l*d^2*(d/12)))\n",
"s1= s*60/(2*%pi)\n",
"hf= l1*(l/(2*g*(do/12)))*(d^2*s*d/(12*do^2))^2\n",
"//RESULTS\n",
"printf (' maximum friction head= %.2f ft',hf)"
   ]
   }
,
{
		   "cell_type": "markdown",
		   "metadata": {},
		   "source": [
			"## Example 15.3_1: chapter_15_example_3_1.sce"
		   ]
		  },
  {
"cell_type": "code",
	   "execution_count": null,
	   "metadata": {
	    "collapsed": true
	   },
	   "outputs": [],
"source": [
"clc\n",
"//initialisation of variables\n",
"f= 0.01\n",
"l= 160 //ft\n",
"g= 32.2 //ft/sec^2\n",
"d1= 10 //in\n",
"d2= 4.5 //in\n",
"w= 62.3 //lbf/ft^3\n",
"v= 60 //rev/min\n",
"//CALCULATIONS\n",
"hf= (4*f*l/(2*g*(d2/12)))*(d1^2*3*2*%pi/(4*d2^2))^2\n",
"h1= (2*hf/3)\n",
"r= (d1^2*3/(d2^2*2))\n",
"h= (4*f*l*r^2/(2*g*(d2/12)))\n",
"W= (%pi*d1^2*1.5*w*10*v/(4*1444))\n",
"hp= W*(h1-h)/33000\n",
"//RESULTS\n",
"printf (' Horse power saved= %.1f h.p',hp)"
   ]
   }
,
{
		   "cell_type": "markdown",
		   "metadata": {},
		   "source": [
			"## Example 15.4_1: chapter_15_example_4_1.sce"
		   ]
		  },
  {
"cell_type": "code",
	   "execution_count": null,
	   "metadata": {
	    "collapsed": true
	   },
	   "outputs": [],
"source": [
"clc\n",
"//initialisation of variables\n",
"d= 12 //in\n",
"n= 3\n",
"l= 24 //in\n",
"w= 1100 //gallons\n",
"l1= 380//ft\n",
"l2= 4 //ft\n",
"l3=56 //ft\n",
"//CALCULATIONS\n",
"r= 0.98*n*%pi*(d/12)^2*(l/12)\n",
"Q= w/6.23\n",
"C= Q/r\n",
"p= w*10*(l1+l2+l3)/(0.9*33000)\n",
"//RESULTS\n",
"printf (' Horse power required to drive= %.f h.p',p)"
   ]
   }
],
"metadata": {
		  "kernelspec": {
		   "display_name": "Scilab",
		   "language": "scilab",
		   "name": "scilab"
		  },
		  "language_info": {
		   "file_extension": ".sce",
		   "help_links": [
			{
			 "text": "MetaKernel Magics",
			 "url": "https://github.com/calysto/metakernel/blob/master/metakernel/magics/README.md"
			}
		   ],
		   "mimetype": "text/x-octave",
		   "name": "scilab",
		   "version": "0.7.1"
		  }
		 },
		 "nbformat": 4,
		 "nbformat_minor": 0
}
