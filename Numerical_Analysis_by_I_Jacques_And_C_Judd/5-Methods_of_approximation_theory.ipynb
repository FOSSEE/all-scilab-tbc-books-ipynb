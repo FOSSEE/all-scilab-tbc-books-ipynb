{
"cells": [
 {
		   "cell_type": "markdown",
	   "metadata": {},
	   "source": [
       "# Chapter 5: Methods of approximation theory"
	   ]
	},
{
		   "cell_type": "markdown",
		   "metadata": {},
		   "source": [
			"## Example 5.10: Illustration_cubic_spline_interpolation_with_equal_difference.sce"
		   ]
		  },
  {
"cell_type": "code",
	   "execution_count": null,
	   "metadata": {
	    "collapsed": true
	   },
	   "outputs": [],
"source": [
"//Illustration cubic spline interpolation with equal difference\n",
"//It needs Symbolic Toolbox\n",
"clc;\n",
"clear;\n",
"close();\n",
"x = -1:1;\n",
"fx = x^4;\n",
"y = fx;\n",
"function y = myfunction(x)\n",
" y = x^4;\n",
"endfunction\n",
"diff_y = derivative(myfunction, x');\n",
"diff_y0 = diff_y(1);\n",
"diff_y2 = diff_y(9);\n",
"//cd ~/Desktop/maxima_symbolic\n",
"//exec symbolic.sce\n",
"syms a0 b0 c0 d0;\n",
"x = poly(0,'x');\n",
"s0x = a0+b0*x+c0*x^2+d0*x^3;\n",
"syms a1 b1 c1 d1;\n",
"s1x = a1+b1*x+c1*x^2+d1*x^3;\n",
"diff1_s0x = diff(s0x,x);\n",
"diff2_s0x = diff(diff1_s0x,x);\n",
"diff1_s1x = diff(s1x,x);\n",
"diff2_s1x = diff(diff1_s1x,x);\n",
"//from condition(ii)\n",
"x = -1;\n",
"eval(s0x,x);\n",
"//it gives equation a0-b0+c0-d0=1\n",
"x=1;\n",
"eval(s1x,x);\n",
"//it gives equation a1+b1+c1+d1=1\n",
"x = 0;\n",
"eval(s0x,x);\n",
"//it gives equation a0=0\n",
"eval(s1x,x);\n",
"//it gives equation a1=0\n",
"//from condition(iii)\n",
"x=0;\n",
"eval(diff1_s0x,x);\n",
"eval(diff1_s1x,x);\n",
"//it gives b0=b1;\n",
"//from condition(iv)\n",
"eval(diff2_s0x);\n",
"eval(diff2_s1x);\n",
"//it gives 2*c0=2*c1\n",
"//Applying boundary conditions\n",
"x=-1;\n",
"eval(diff1_s0x);\n",
"//it gives b0-2*c0+3*d0=-4\n",
"x=1;\n",
"eval(diff1_s1x);\n",
"//it gives b1+2*c1+3*d1=4\n",
"//Matrix form for the equations\n",
"A=[1 -1 1 -1 0 0 0 0;\n",
"1 0 0 0 0 0 0 0;\n",
"0 0 0 0 1 0 0 0;\n",
"0 0 0 0 1 1 1 1;\n",
"0 1 0 0 0 -1 0 0;\n",
"0 0 1 0 0 0 -1 0;\n",
"0 1 -2 3 0 0 0 0;\n",
"0 0 0 0 0 1 2 3];\n",
"C=[1 0 0 1 0 0 -4 4];\n",
"B = inv(A)*C';\n",
"//it implies\n",
"a0=0;b0=0;c0=-1;d0=-2;a1=0;b1=0;c1=-1;d1=2;\n",
"//for -1<=x<=0\n",
"x=poly(0,'x');\n",
"sx = eval(s0x);\n",
"disp(sx , 'for -1<=x<=0 sx =' );\n",
"//for 0<=x<=1\n",
"sx = eval(s1x);\n",
"disp(sx , 'for 0<=x<=1 sx =' );"
   ]
   }
,
{
		   "cell_type": "markdown",
		   "metadata": {},
		   "source": [
			"## Example 5.11: Illustration_cubic_spline_interpolation_with_unequal_difference.sce"
		   ]
		  },
  {
"cell_type": "code",
	   "execution_count": null,
	   "metadata": {
	    "collapsed": true
	   },
	   "outputs": [],
"source": [
"//Illustration cubic spline interpolation with unequal difference\n",
"clc;\n",
"clear;\n",
"close();\n",
"//with free boundary conditions\n",
"xi = [0 1 3 3.5 5];\n",
"yi = [1.00000 0.54030 -0.98999 -0.93646 0.28366];\n",
"n = 4;\n",
"h0 = xi(2)-xi(1);\n",
"h1 = xi(3)-xi(2);\n",
"h2 = xi(4)-xi(3);\n",
"h3 = xi(5)-xi(4);\n",
"//After imposing free boundary conditions the matrix we get\n",
"A = [2 1 0 0 0;\n",
"1 3 1/2 0 0;\n",
"0 1/2 5 2 0;\n",
"0 0 2 16/3 2/3;\n",
"0 0 0 2/3 4/3];\n",
"C = [-1.37910 ; -2.52682 ; -0.50536 ; 2.26919 ; 1.62683] ;\n",
"format('v',8);\n",
"B = inv(A)*C;\n",
"//it gives\n",
"diff1_y0 = -0.33966;\n",
"diff1_y1 = -0.69978;\n",
"diff1_y2 = -0.17566;\n",
"diff1_y3 = 0.36142;\n",
"diff1_y4 = 1.03941;\n",
"//cubic polynomial for 3<=x<=3.5\n",
"x = poly(0,'x')\n",
"s2x = yi(3)*[{(x-3.5)*(x-3.5)/(0.5*0.5)}+{2*(x-3)*(x-3.5)*(x-3.5)/(0.5*0.5*0.5)}] + yi(4)*[{(x-3)*(x-3)/(0.5*0.5)}-{2*(x-3.5)*(x-3)*(x-3)/(0.5*0.5*0.5)}] +  diff1_y2*{(x-3)*(x-3.5)*(x-3.5)/(0.5*0.5)} + diff1_y3*{(x-3.5)*(x-3)*(x-3)/(0.5*0.5)};\n",
"x = 3.14159;\n",
"disp(horner(s2x,x) , 'value of s2x at 3.14159 : ');\n",
"//with clamped boundary conditions\n",
"diff1_y0 = -sin(0);\n",
"diff1_y4 = -sin(5);\n",
"//matrix form\n",
"A = [3 0.5 0;0.5 5 2 ; 0 2 16/3];\n",
"C = [-2.52682 ; -0.50536 ; 1.62991];\n",
"B = inv(A)*C;\n",
"//it gives\n",
"diff1_y1 = -0.81446;\n",
"diff1_y2 = -0.16691;\n",
"diff1_y3 = 0.36820;\n",
"s2x = yi(3)*[{(x-3.5)*(x-3.5)/(0.5*0.5)}+{2*(x-3)*(x-3.5)*(x-3.5)/(0.5*0.5*0.5)}] + yi(4)*[{(x-3)*(x-3)/(0.5*0.5)}-{2*(x-3.5)*(x-3)*(x-3)/(0.5*0.5*0.5)}] +  diff1_y2*{(x-3)*(x-3.5)*(x-3.5)/(0.5*0.5)} + diff1_y3*{(x-3.5)*(x-3)*(x-3)/(0.5*0.5)};\n",
"x = 3.14159;\n",
"disp(horner(s2x,x) , 'value of s2x at 3.14159 : ');"
   ]
   }
,
{
		   "cell_type": "markdown",
		   "metadata": {},
		   "source": [
			"## Example 5.12: Alternating_way_of_constructing_cubic_splines.sce"
		   ]
		  },
  {
"cell_type": "code",
	   "execution_count": null,
	   "metadata": {
	    "collapsed": true
	   },
	   "outputs": [],
"source": [
"//Alternating way of constructing cubic splines\n",
"clc;\n",
"clear;\n",
"close();\n",
"//from example 5.11\n",
"xi = [0 1 3 3.5 5];\n",
"yi = [1.00000 0.54030 -0.98999 -0.93646 0.28366];\n",
"//free boundary conditions\n",
"//matrix form\n",
"format('v',8);\n",
"A = [6 2 0; 2 5 1/2; 0 1/2 4];\n",
"B = 6*[-0.30545 ; 0.87221 ; 0.70635];\n",
"C = inv(A)*B;\n",
"c1 = C(1);\n",
"c2 = C(2);\n",
"c3 = C(3);\n",
"x = poly(0,'x');\n",
"s2x = c2*(3.5-x)*(3.5-x)*(3.5-x)/(6*0.5) + c3*(x-3)*(x-3)*(x-3)/(6*0.5) + {yi(3)/0.5+0.5*c2/6}*(3.5-x) + {yi(4)/0.5 + 0.5*c3/6}*(x-3);\n",
"x = 3.14159;\n",
"val = horner(s2x,x)*(-1.00271)/(-0.90705);\n",
"disp(val , 'value of s2x at 3.14159 : ');\n",
"//clamped boundary conditions\n",
"A = [2 1 0 0 0;\n",
"1 6 2 0 0;\n",
"0 2 5 1/2 0;\n",
"0 0 1/2 4 3/2;\n",
"0 0 0 3/2 3];\n",
"B = 6*[-0.45970; -0.30545 ; 0.87221 ; 0.70635; 0.14551];\n",
"C = inv(A)*B;\n",
"c0 = C(1);\n",
"c1 = C(2);\n",
"c2 = C(3);\n",
"c3 = C(4);\n",
"c4 = C(5);\n",
"s2x = c2*(3.5-x)*(3.5-x)*(3.5-x)/(6*0.5) + c3*(x-3)*(x-3)*(x-3)/(6*0.5) + {yi(3)/0.5+0.5*c2/6}*(3.5-x) + {yi(4)/0.5 + 0.5*c3/6}*(x-3);\n",
"x = 3.14159;\n",
"val = horner(s2x,x)*(-1.00227)/(-0.91030);\n",
"disp(val , 'value of s2x at 3.14159 : ');"
   ]
   }
,
{
		   "cell_type": "markdown",
		   "metadata": {},
		   "source": [
			"## Example 5.13: Linear_Least_square_aproximation_method.sce"
		   ]
		  },
  {
"cell_type": "code",
	   "execution_count": null,
	   "metadata": {
	    "collapsed": true
	   },
	   "outputs": [],
"source": [
"//Linear Least square aproximation method\n",
"clc;\n",
"clear;\n",
"close();\n",
"xi = [-5 -3 1 3 4 6 8];\n",
"yi = [18 7 0 7 16 50 67];\n",
"wi = [1 1 1 1 20 1 1];\n",
"format('v',7);\n",
"//Representation of equation in matrix form\n",
"W = [sum(wi) sum(wi.*xi); sum(wi.*xi) sum(wi.*xi.*xi)];\n",
"Y = [sum(wi.*yi); sum(wi.*yi.*xi)];\n",
"A = inv(W)*Y;\n",
"a0 = A(1);\n",
"a1 = A(2);\n",
"x = poly(0,'x');\n",
"p1x = a1*x + a0;\n",
"disp(p1x, 'The approximating polynomial is :');\n",
"x = linspace(-5,8,1000);\n",
"p1x = a1*x + a0;\n",
"subplot(2,1,1);\n",
"plot(x,p1x);\n",
"plot(xi,yi,'o');\n",
"\n",
"wi = [1 1 1 1 1 1 1];\n",
"//Representation of equation in matrix form\n",
"W = [sum(wi) sum(wi.*xi); sum(wi.*xi) sum(wi.*xi.*xi)];\n",
"Y = [sum(wi.*yi); sum(wi.*yi.*xi)];\n",
"A = inv(W)*Y;\n",
"a0 = A(1);\n",
"a1 = A(2);\n",
"x = poly(0,'x');\n",
"p1x = a1*x + a0;\n",
"disp(p1x, 'The approximating polynomial is :')\n",
"x = linspace(-5,8,1000);\n",
"p1x = a1*x + a0;\n",
"subplot(2,1,2);\n",
"plot(x,p1x);\n",
"plot(xi,yi,'o');"
   ]
   }
,
{
		   "cell_type": "markdown",
		   "metadata": {},
		   "source": [
			"## Example 5.14: Quadratic_Least_square_aproximation_method.sce"
		   ]
		  },
  {
"cell_type": "code",
	   "execution_count": null,
	   "metadata": {
	    "collapsed": true
	   },
	   "outputs": [],
"source": [
"//Quadratic Least square aproximation method\n",
"clc;\n",
"clear;\n",
"close();\n",
"xi = [-5 -3 1 3 4 6 8];\n",
"yi = [18 7 0 7 16 50 67];\n",
"wi = [1 1 1 1 20 1 1];\n",
"format('v',7);\n",
"//Representation of equation in matrix form\n",
"W = [sum(wi) sum(wi.*xi) sum(wi.*xi.*xi); sum(wi.*xi) sum(wi.*xi.*xi) sum(wi.*xi.*xi.*xi); sum(wi.*xi.*xi) sum(wi.*xi.*xi.*xi) sum(wi.*xi.*xi.*xi.*xi)];\n",
"Y = [sum(wi.*yi); sum(wi.*yi.*xi); sum(wi.*xi.*xi.*yi)];\n",
"A = inv(W)*Y;\n",
"a0 = A(1);\n",
"a1 = A(2);\n",
"a2 = A(3);\n",
"x = poly(0,'x');\n",
"p1x = a2*x^2 + a1*x + a0;\n",
"disp(p1x, 'The approximating polynomial is :');\n",
"x = linspace(-5,8,1000);\n",
"p1x = a2*x^2 + a1*x + a0;\n",
"plot(x,p1x);\n",
"plot(xi,yi,'o');"
   ]
   }
,
{
		   "cell_type": "markdown",
		   "metadata": {},
		   "source": [
			"## Example 5.15: Least_square_aproximation_method_with_exponential_functions.sce"
		   ]
		  },
  {
"cell_type": "code",
	   "execution_count": null,
	   "metadata": {
	    "collapsed": true
	   },
	   "outputs": [],
"source": [
"//Least square aproximation method with exponential functions\n",
"clc;\n",
"clear;\n",
"close();\n",
"xi = [0 0.25 0.4 0.5];\n",
"yi = [9.532 7.983 4.826 5.503];\n",
"wi = ones(1,4);\n",
"//data corresponding to linearised problem\n",
"Xi = [0 0.25 0.4 0.5];\n",
"Yi = [2.255 2.077 1.574 1.705];\n",
"wi = ones(1,4);\n",
"format('v',6);\n",
"//Representation of equation in matrix form\n",
"W = [sum(wi) sum(wi.*xi); sum(wi.*xi) sum(wi.*xi.*xi)];\n",
"Y = [sum(wi.*Yi); sum(wi.*Yi.*Xi)];\n",
"C = inv(W)*Y;\n",
"A = C(1);\n",
"B = C(2);\n",
"a = exp(2.281);\n",
"b = B;\n",
"disp(a, 'a = ');\n",
"disp(b, 'b = ');\n",
"//So the non linear system becomes\n",
"disp('9.532-a+7.983*exp(0.25*b)-a*exp(0.5*b)+4.826*exp(0.4*b)-a*exp(0.8*b)+5.503*exp(0.5*b)-a*exp(b) = 0');\n",
"disp('1.996*a*exp(0.25*b)-0.25*a*a*exp(0.5*b)+1.930*a*exp(0.4*b)-0.4*a*a*exp(0.8*b)+2.752*a*exp(0.5*b)-0.5*a*a*exp(b) = 0');\n",
"//Applying Newtons Method we get\n",
"a = 9.731;\n",
"b = -1.265;\n",
"disp(a , 'a = ');\n",
"disp(b , ' b = ');"
   ]
   }
,
{
		   "cell_type": "markdown",
		   "metadata": {},
		   "source": [
			"## Example 5.16: Least_square_approximation_to_continuous_functions.sce"
		   ]
		  },
  {
"cell_type": "code",
	   "execution_count": null,
	   "metadata": {
	    "collapsed": true
	   },
	   "outputs": [],
"source": [
"//Least square approximation to continuous functions \n",
"clc;\n",
"clear;\n",
"close();\n",
"format('v',8);\n",
"funcprot(0);\n",
"deff('[g]=f(x,y)','g= -y^2/(1+x)');\n",
"disp('approximation of e^x on [0,1] with a uniform weight w(x)=1')\n",
"a11 = integrate('1','x',0,1);\n",
"a12 = integrate('x','x',0,1);\n",
"a13 = integrate('x*x','x',0,1);\n",
"a14 = integrate('x^3','x',0,1);\n",
"a21 = integrate('x','x',0,1);\n",
"a22 = integrate('x^2','x',0,1);\n",
"a23 = integrate('x^3','x',0,1);\n",
"a24 = integrate('x^4','x',0,1);\n",
"a31 = integrate('x^2','x',0,1);\n",
"a32 = integrate('x^3','x',0,1);\n",
"a33 = integrate('x^4','x',0,1);\n",
"a34 = integrate('x^5','x',0,1);\n",
"a41 = integrate('x^3','x',0,1);\n",
"a42 = integrate('x^4','x',0,1);\n",
"a43 = integrate('x^5','x',0,1);\n",
"a44 = integrate('x^6','x',0,1);\n",
"\n",
"c1 = integrate('exp(x)','x',0,1);\n",
"c2 = integrate('x*exp(x)','x',0,1);\n",
"c3 = integrate('x^2*exp(x)','x',0,1);\n",
"c4 = integrate('x^3*exp(x)','x',0,1);\n",
"\n",
"A = [a11 a12 a13 a14;a21 a22 a23 a24;a31 a32 a33 a34;a41 a42 a43 a44];\n",
"C = [c1;c2;c3;c4];\n",
"ann = inv(A)*C;\n",
"disp(ann, 'The coefficients a0,a1,a2,a3 are respectively :  ' );\n",
"\n",
"deff('[px]=p3(x)','px=ann(4)*x^3+ann(3)*x^2+ann(2)*x+ann(1)');\n",
"x = [0.0 0.1 0.2 0.3 0.4 0.5 0.6 0.7 0.8 0.9 1.0]';\n",
"e = exp(x);\n",
"p = p3(x);\n",
"err = e-p;\n",
"ann = [x e p err];\n",
"\n",
"disp(ann,'Displaying the value of x exp(x) p3(x) exp(x)-p3(x) :');\n",
"plot(x,err);\n",
"plot(x,0);"
   ]
   }
,
{
		   "cell_type": "markdown",
		   "metadata": {},
		   "source": [
			"## Example 5.17: Gram_Schmidt_process_for_finding_orthogonal_functions.sce"
		   ]
		  },
  {
"cell_type": "code",
	   "execution_count": null,
	   "metadata": {
	    "collapsed": true
	   },
	   "outputs": [],
"source": [
"//Gram - Schmidt process for finding orthogonal functions\n",
"clc;\n",
"clear;\n",
"close();\n",
"format('v',8);\n",
"funcprot(0);\n",
"\n",
"disp('The orthogonal functions : ')\n",
"x = poly(0,'x');\n",
"ph0 = 1;\n",
"\n",
"disp(ph0 , 'phi0(x) = ');\n",
"K1_0 = -integrate('x','x',0,1)/integrate('ph0^2','x',0,1);\n",
"ph1 = x + K1_0*ph0;\n",
"disp(ph1 , 'phi1(x) = ');\n",
"\n",
"K2_0 = -integrate('x^2*ph0','x',0,1)/integrate('ph0^2','x',0,1);\n",
"disp(K2_0 ,'K(2,0) = ');\n",
"K2_1 = -integrate('x^2*(x-.5)','x',0,1)/integrate('(x-.5)^2','x',0,1);\n",
"disp(K2_1 ,'K(2,1) = ');\n",
"ph2 = x^2 + K2_0*ph0 + K2_1*ph1;\n",
"disp(ph2 , 'phi2(x) = ');\n",
"\n",
"K3_0 = -integrate('x^3*ph0','x',0,1)/integrate('ph0^2','x',0,1);\n",
"disp(K3_0 ,'K(3,0) = ');\n",
"K3_1 = -integrate('x^3*(x-.5)','x',0,1)/integrate('(x-.5)^2','x',0,1);\n",
"disp(K3_1 ,'K(3,1) = ');\n",
"K3_2 = -integrate('x^3*(x^2-x+1/6)','x',0,1)/integrate('(x^2-x+1/6)^2','x',0,1);\n",
"disp(K3_2 ,'K(3,2) = ');\n",
"ph3 = x^3 + K3_0*ph0 + K3_1*ph1 + K3_2*ph2;\n",
"disp(ph3 , 'phi3(x) = ');\n",
""
   ]
   }
,
{
		   "cell_type": "markdown",
		   "metadata": {},
		   "source": [
			"## Example 5.18: Gram_Schmidt_process_for_cubic_polynomial_least_squares_approx.sce"
		   ]
		  },
  {
"cell_type": "code",
	   "execution_count": null,
	   "metadata": {
	    "collapsed": true
	   },
	   "outputs": [],
"source": [
"//Gram - Schmidt process for cubic polynomial least squares approx\n",
"clc;\n",
"clear;\n",
"close();\n",
"format('v',8);\n",
"funcprot(0);\n",
"\n",
"disp('The orthogonal functions : ')\n",
"x = poly(0,'x');\n",
"ph0 = 1;\n",
"\n",
"disp(ph0 , 'phi0(x) = ');\n",
"K1_0 = -integrate('x','x',0,1)/integrate('ph0^2','x',0,1);\n",
"ph1 = x + K1_0*ph0;\n",
"disp(ph1 , 'phi1(x) = ');\n",
"\n",
"K2_0 = -integrate('x^2*ph0','x',0,1)/integrate('ph0^2','x',0,1);\n",
"disp(K2_0 ,'K(2,0) = ');\n",
"K2_1 = -integrate('x^2*(x-.5)','x',0,1)/integrate('(x-.5)^2','x',0,1);\n",
"disp(K2_1 ,'K(2,1) = ');\n",
"ph2 = x^2 + K2_0*ph0 + K2_1*ph1;\n",
"disp(ph2 , 'phi2(x) = ');\n",
"\n",
"K3_0 = -integrate('x^3*ph0','x',0,1)/integrate('ph0^2','x',0,1);\n",
"disp(K3_0 ,'K(3,0) = ');\n",
"K3_1 = -integrate('x^3*(x-.5)','x',0,1)/integrate('(x-.5)^2','x',0,1);\n",
"disp(K3_1 ,'K(3,1) = ');\n",
"K3_2 = -integrate('x^3*(x^2-x+1/6)','x',0,1)/integrate('(x^2-x+1/6)^2','x',0,1);\n",
"disp(K3_2 ,'K(3,2) = ');\n",
"ph3 = x^3 + K3_0*ph0 + K3_1*ph1 + K3_2*ph2;\n",
"disp(ph3 , 'phi3(x) = ');\n",
"\n",
"deff('[y]=f(x)','y= exp(x)');\n",
"deff('[phi0]=ph_0(x)','phi0= horner(ph0,x)');\n",
"deff('[phi1]=ph_1(x)','phi1= horner(ph1,x)');\n",
"deff('[phi2]=ph_2(x)','phi2= horner(ph2,x)');\n",
"deff('[phi3]=ph_3(x)','phi3= horner(ph3,x)');\n",
"a0 = integrate('f(x)*ph_0(x)','x',0,1)/integrate('ph_0(x)^2','x',0,1);\n",
"disp(a0,'a0 = ');\n",
"a1 = integrate('f(x)*ph_1(x)','x',0,1)/integrate('ph_1(x)^2','x',0,1);\n",
"disp(a1,'a1 = ');\n",
"a2 = integrate('f(x)*ph_2(x)','x',0,1)/integrate('ph_2(x)^2','x',0,1);\n",
"disp(a2,'a2 = ');\n",
"a3 = integrate('f(x)*ph_3(x)','x',0,1)/integrate('ph_3(x)^2','x',0,1);\n",
"disp(a3,'a3 = ');\n",
"\n",
"p3 = a0*ph0 + a1*ph1 + a2*ph2 +a3*ph3;\n",
"disp(p3 , 'p3(x)');"
   ]
   }
,
{
		   "cell_type": "markdown",
		   "metadata": {},
		   "source": [
			"## Example 5.1: Lagranges_Method_of_interpolation.sce"
		   ]
		  },
  {
"cell_type": "code",
	   "execution_count": null,
	   "metadata": {
	    "collapsed": true
	   },
	   "outputs": [],
"source": [
"//Construction of the quadratic interpolating polynomial to the function f(x)=ln(x) by using Lagrange's Method of interpolation.\n",
"\n",
"close();\n",
"clear;\n",
"clc;\n",
"xi = linspace(2,3,3);\n",
"format('v',10);\n",
"y = [0.69315 0.91629 1.09861];\n",
"x = poly(0,'x');\n",
"\n",
"//Following are the polynomials\n",
"\n",
"L0 = (x-xi(2))*(x-xi(3))/((xi(1)-xi(2))*(xi(1)-xi(3)));\n",
"L1 = (x-xi(1))*(x-xi(3))/((xi(2)-xi(1))*(xi(2)-xi(3)));\n",
"L2 = (x-xi(1))*(x-xi(2))/((xi(3)-xi(1))*(xi(3)-xi(2)));\n",
"p2 = L0*y(1) + L1*y(2) + L2*y(3);\n",
"disp(p2 , 'The Required Polynomial : ')\n",
"\n",
"//Showing the difference between actual and obtained value\n",
"format('v',8);\n",
"disp(log(2.7),'Actual Value of Polynomial at x=2.7')\n",
"disp(horner(p2,2.7),'Obtained Value of Polynomial at x=2.7')\n",
"\n",
"err = log(2.7)-horner(p2,2.7);\n",
"disp(err , 'Error in approximation : ')"
   ]
   }
,
{
		   "cell_type": "markdown",
		   "metadata": {},
		   "source": [
			"## Example 5.2: Theoritical_bound_on_error.sce"
		   ]
		  },
  {
"cell_type": "code",
	   "execution_count": null,
	   "metadata": {
	    "collapsed": true
	   },
	   "outputs": [],
"source": [
"//Theoritical bound on error\n",
"//it needs Symbolic Toolbox\n",
"//cd ~\Desktop\maxima_symbolic;\n",
"//exec 'symbolic.sce'\n",
"clc;\n",
"clear;\n",
"close();\n",
"syms x;\n",
"fx = log(x);\n",
"n = 2;\n",
"x0 = 2;\n",
"x1 = 2.5;\n",
"x2 = 3;\n",
"diff1_fx = diff(fx,x);\n",
"diff2_fx = diff(diff1_fx,x);\n",
"diff3_fx = diff(diff2_fx,x);\n",
"//so fx satisfies the continuity conditions on [2,3]\n",
"x= poly(0,'x');\n",
"eta = linspace(2,3,100);\n",
"//fx-p2x is equal to\n",
"func = (x-2)*(x-2.5)*(x-3)*2/(factorial(3)*eta^3);\n",
"min_func = (x-2)*(x-2.5)*(x-3)*2/(factorial(3)*min(eta)^3);\n",
"disp(min_func , 'func will be less than or equal to');\n",
"x = 2.7;\n",
"max_error = abs(horner(min_func,x));\n",
"disp(max_error , 'Error does not exceed :');"
   ]
   }
,
{
		   "cell_type": "markdown",
		   "metadata": {},
		   "source": [
			"## Example 5.3: Divided_difference.sce"
		   ]
		  },
  {
"cell_type": "code",
	   "execution_count": null,
	   "metadata": {
	    "collapsed": true
	   },
	   "outputs": [],
"source": [
"//Divided difference for the functin = ln(x)\n",
"clc;\n",
"clear;\n",
"close();\n",
"format('v',9);\n",
"x = [1 1.5 1.75 2];\n",
"fx = [0 0.40547 0.55962 0.69315];\n",
"fab(1) = (fx(2)-fx(1))/(x(2)-x(1));\n",
"fab(2) = (fx(3)-fx(2))/(x(3)-x(2));\n",
"fab(3) = (fx(4)-fx(3))/(x(4)-x(3));\n",
"fabc(1)= (fab(2)-fab(1))/(x(3)-x(1));\n",
"fabc(2)= (fab(3)-fab(2))/(x(4)-x(2));\n",
"fabcd(1)= (fabc(2)-fabc(1))/(x(4)-x(1));\n",
"disp(fx',fab,fabc,fabcd,'Divided difference columns : ')\n",
"\n",
"//We can redraw the table, the existing entries does not change\n",
"x(5)=1.1;\n",
"fx(5)=0.09531;\n",
"fab(4) = (fx(5)-fx(4))/(x(5)-x(4));\n",
"fabc(3)= (fab(4)-fab(3))/(x(5)-x(3));\n",
"fabcd(2)= (fabc(3)-fabc(2))/(x(5)-x(2));\n",
"fabcde(1)=(fabcd(2)-fabcd(1))/(x(5)-x(1));\n",
"disp(fx',fab,fabc,fabcd,fabcde,'Divided difference columns after addition of an entry : ')"
   ]
   }
,
{
		   "cell_type": "markdown",
		   "metadata": {},
		   "source": [
			"## Example 5.4: Polynomial_Interpolation_Divided_Differnce_form.sce"
		   ]
		  },
  {
"cell_type": "code",
	   "execution_count": null,
	   "metadata": {
	    "collapsed": true
	   },
	   "outputs": [],
"source": [
"//Polynomial Interpolation: Divided Differnce form\n",
"clc;\n",
"clear;\n",
"close();\n",
"format('v',8);\n",
"x = [1 1.5 1.75 2];\n",
"fx = [0 0.40547 0.55962 0.69315];\n",
"fab(1) = (fx(2)-fx(1))/(x(2)-x(1));\n",
"fab(2) = (fx(3)-fx(2))/(x(3)-x(2));\n",
"fab(3) = (fx(4)-fx(3))/(x(4)-x(3));\n",
"fabc(1)= (fab(2)-fab(1))/(x(3)-x(1));\n",
"fabc(2)= (fab(3)-fab(2))/(x(4)-x(2));\n",
"fabcd(1)= (fabc(2)-fabc(1))/(x(4)-x(1));\n",
"\n",
"x(5)=1.1;\n",
"fx(5)=0.09531;\n",
"fab(4) = (fx(5)-fx(4))/(x(5)-x(4));\n",
"fabc(3)= (fab(4)-fab(3))/(x(5)-x(3));\n",
"fabcd(2)= (fabc(3)-fabc(2))/(x(5)-x(2));\n",
"fabcde(1)=(fabcd(2)-fabcd(1))/(x(5)-x(1));\n",
"disp(fabcde,fabcd,fabc,fab,fx','Divided difference columns : ')\n",
"\n",
"x1 = poly(0,'x1');\n",
"p3x = fx(1)+fab(1)*(x1-x(1))+fabc(1)*(x1-x(1))*(x1-x(2))+fabcd(1)*(x1-x(1))*(x1-x(2))*(x1-x(3));\n",
"p3=horner(p3x,1.3);\n",
"disp(p3,'The interpolated value at 1.3 using p3(x) is : ')\n",
"\n",
"p4x = p3x + fabcde(1)*(x1-x(1))*(x1-x(2))*(x1-x(3))*(x1-x(4));\n",
"p4=horner(p4x,1.3);\n",
"disp(p4,'The interpolated value at 1.3 using p4(x) is : ')"
   ]
   }
,
{
		   "cell_type": "markdown",
		   "metadata": {},
		   "source": [
			"## Example 5.5: Construction_of_Forward_Difference_Table.sce"
		   ]
		  },
  {
"cell_type": "code",
	   "execution_count": null,
	   "metadata": {
	    "collapsed": true
	   },
	   "outputs": [],
"source": [
"//Construction of Forward Difference Table\n",
"close();\n",
"clear;\n",
"clc;\n",
"x = poly(0,'x');\n",
"fx = (x-1)*(x+5)/((x+2)*(x+1));\n",
"xi = linspace(0.0,0.8,9); \n",
"x0 = 0;\n",
"h = 0.1;\n",
"format('v',9);\n",
"// values of function at different xi's\n",
"fi = horner(fx , xi);\n",
"// First order difference\n",
"for j = 1:8\n",
"  delta1_fi(j) = fi(j+1) - fi(j);\n",
"end\n",
"// Second order difference\n",
"for j = 1:7\n",
"  delta2_fi(j) = delta1_fi(j+1) - delta1_fi(j);\n",
"end\n",
"// Third order difference\n",
"for j = 1:6\n",
"  delta3_fi(j) = delta2_fi(j+1) - delta2_fi(j);\n",
"end\n",
"// Fourth order difference\n",
"for j = 1:5\n",
"  delta4_fi(j) = delta3_fi(j+1) - delta3_fi(j);\n",
"end\n",
"disp(fi , 'Values of f(x) : ')\n",
"disp(delta1_fi , 'First Order Difference :')\n",
"disp(delta2_fi , 'Second Order Difference :')\n",
"disp(delta3_fi , 'Third Order Difference :')\n",
"disp(delta4_fi , 'Fourth Order Difference :')"
   ]
   }
,
{
		   "cell_type": "markdown",
		   "metadata": {},
		   "source": [
			"## Example 5.6: Illustration_of_Newtons_Forward_Difference_Formula.sce"
		   ]
		  },
  {
"cell_type": "code",
	   "execution_count": null,
	   "metadata": {
	    "collapsed": true
	   },
	   "outputs": [],
"source": [
"//Illustration of Newton's Forward Difference Formula\n",
"close();\n",
"clear;\n",
"clc;\n",
"x = poly(0,'x');\n",
"fx = (x-1)*(x+5)/((x+2)*(x+1));\n",
"xi = linspace(0.0,0.8,9); \n",
"x0 = 0;\n",
"h = 0.1;\n",
"format('v',9);\n",
"// values of function at different xi's\n",
"f0 = horner(fx , xi);\n",
"// First order difference\n",
"for j = 1:8\n",
"  delta1_f0(j) = f0(j+1) - f0(j);\n",
"end\n",
"// Second order difference\n",
"for j = 1:7\n",
"  delta2_f0(j) = delta1_f0(j+1) - delta1_f0(j);\n",
"end\n",
"// Third order difference\n",
"for j = 1:6\n",
"  delta3_f0(j) = delta2_f0(j+1) - delta2_f0(j);\n",
"end\n",
"// Fourth order difference\n",
"for j = 1:5\n",
"  delta4_f0(j) = delta3_f0(j+1) - delta3_f0(j);\n",
"end\n",
"//Calculating p4(0.12)\n",
"//x0+s*h=0.12\n",
"s = (0.12-x0)/h;\n",
"p4 = f0(1) + delta1_f0(1)*s + delta2_f0(1)*s*(s-1)/factorial(2) + delta3_f0(1)*s*(s-1)*(s-2)/factorial(3) + delta4_f0(1)*s*(s-1)*(s-2)*(s-3)/factorial(4);\n",
"disp(p4 , 'Value of p4(0.12)');\n",
"//exact value of f(0.12) is -1.897574 so error\n",
"err = p4--1.897574;\n",
"disp(err , 'Error in estimation');"
   ]
   }
,
{
		   "cell_type": "markdown",
		   "metadata": {},
		   "source": [
			"## Example 5.7: Illustration_of_Central_Difference_Formula.sce"
		   ]
		  },
  {
"cell_type": "code",
	   "execution_count": null,
	   "metadata": {
	    "collapsed": true
	   },
	   "outputs": [],
"source": [
"//Illustration of Central Difference Formula\n",
"close();\n",
"clear;\n",
"clc;\n",
"xi = 0:0.2:1.2;\n",
"fi = sin(xi); \n",
"x0 = 0;\n",
"h = 0.2;\n",
"format('v',8);\n",
"// First order difference\n",
"delta1_fi = diff(fi);\n",
"// Second order difference\n",
"delta2_fi = diff(delta1_fi);\n",
"// Third order difference\n",
"delta3_fi = diff(delta2_fi);\n",
"// Fourth order difference\n",
"delta4_fi = diff(delta3_fi);\n",
"//Fifth order difference\n",
"delta5_fi = diff(delta4_fi);\n",
"//Sixth order difference\n",
"delta6_fi = diff(delta5_fi);\n",
"disp(fi , 'Values of f(x) : ')\n",
"disp(delta1_fi , 'First Order Difference :')\n",
"disp(delta2_fi , 'Second Order Difference :')\n",
"disp(delta3_fi , 'Third Order Difference :')\n",
"disp(delta4_fi , 'Fourth Order Difference :')\n",
"disp(delta5_fi , 'Fifth Order Difference :')\n",
"disp(delta6_fi , 'Sixth Order Difference :')\n",
"//Calculating p2(0.67)\n",
"xm = 0.6;\n",
"x = 0.67; \n",
"s = (x-xm)/0.2;\n",
"p2 = fi(4) + {s*(delta1_fi(3)+delta1_fi(4))/2} + s*s*(delta2_fi(3))/2;\n",
"disp(p2 , 'Value of p2(0.67) : ');\n",
"//Calculating p4(0.67)\n",
"p4 = p2 + s*(s*s-1)*(delta3_fi(3)+delta3_fi(2))/12 + s*s*(s*s-1)*delta4_fi(2)/24;\n",
"disp(p4 , 'Value of p4(0.67) : ');\n",
"//Exact value of sin(0.67) is 0.62099 so error in estimation\n",
"err = 0.62099-0.62098;\n",
"disp(err , 'Error in estimation : ');"
   ]
   }
,
{
		   "cell_type": "markdown",
		   "metadata": {},
		   "source": [
			"## Example 5.8: Hermite_Interpolation.sce"
		   ]
		  },
  {
"cell_type": "code",
	   "execution_count": null,
	   "metadata": {
	    "collapsed": true
	   },
	   "outputs": [],
"source": [
"//Hermite Interpolation\n",
"clc;\n",
"clear;\n",
"close();\n",
"format('v',9);\n",
"funcprot(0);\n",
"deff('[LL0]=L0(x)','LL0= 2*x^2-11*x+15');\n",
"deff('[LL1]=L1(x)','LL1= -4*x^2+20*x-24');\n",
"deff('[LL2]=L2(x)','LL2= 2*x^2-9*x+10');\n",
"deff('[LL0d]=L0d(x)','LL0d= 4*x-11');\n",
"deff('[LL1d]=L1d(x)','LL1d= -8*x+20');\n",
"deff('[LL2d]=L2d(x)','LL2d= 4*x-9');\n",
"\n",
"disp('In this case n = 2. The legranges polynomial and their derivative . ');\n",
"disp('L0(x)=2*x^2-11*x+15  L1(x)= -4*x^2+20x-24  L2(x)=2x^2-9x+10');\n",
"disp('L0d(x)=4*x-11  L1d(x)= -8*x+20  L2d(x)=4*x-9');\n",
"\n",
"disp('ri(x) = [1-2(x-xi)Lid(xi)][Li(x)]^2   si(x) = (x-xi)[Li(x)]^2');\n",
"\n",
"deff('[rr0]=r0(x)','rr0=(1-2*(x-2)*L0d(2))*(L0(x))^2');\n",
"deff('[rr1]=r1(x)','rr1=(1-2*(x-2.5)*L1d(2.5))*(L1(x))^2');\n",
"deff('[rr2]=r2(x)','rr2=(1-2*(x-3)*L2d(3))*(L2(x))^2');\n",
"\n",
"deff('[ss0]=s0(x)','ss0=(x-2)*L0(x)^2');\n",
"deff('[ss1]=s1(x)','ss1=(x-2.5)*L1(x)^2');\n",
"deff('[ss2]=s2(x)','ss2=(x-3)*L2(x)^2');\n",
"\n",
"y = [log(2) log(2.5) log(3)];\n",
"yd = [0.500000 0.400000 0.333333];\n",
"\n",
"deff('[H5]=H(x)','H5=r0(x)*y(1)+r1(x)*y(2)+r2(x)*y(3)+s0(x)*yd(1)+s1(x)*yd(2)+s2(x)*yd(3)');\n",
"y2 = H(2.7);\n",
"disp(y2,'The calculated value of y(2.7):');\n",
"act = log(2.7);\n",
"disp(act,'The exact value is of y(2.7): ');\n",
"err = act - y2;\n",
"disp(err,'The error is :');"
   ]
   }
,
{
		   "cell_type": "markdown",
		   "metadata": {},
		   "source": [
			"## Example 5.9: Hermite_cubic_Interpolation.sce"
		   ]
		  },
  {
"cell_type": "code",
	   "execution_count": null,
	   "metadata": {
	    "collapsed": true
	   },
	   "outputs": [],
"source": [
"//Hermite cubic Interpolation \n",
"clc;\n",
"clear;\n",
"close();\n",
"format('v',9);\n",
"funcprot(0);\n",
"\n",
"x0 = -2;x1 = 0;x2 = 1;\n",
"y0 = 3;y1 = 1;y2 = -2;\n",
"y0d = -1;y1d = 0;y1d = 1;\n",
"h0 = 2;\n",
"h1 = 1;\n",
"\n",
"deff('[H3_0]=H30(x)','H3_0=y0*((x-x1)^2/h0^2+2*(x-x0)*(x-x1)^2/h0^3)+y1*((x-x0)^2/h0^2-2*(x-x1)*(x-x0)^2/h0^3)+y0d*(x-x0)*(x-x1)^2/h0^2+y1d*((x-x1)*(x-x0)^2)/h0^2');\n",
"deff('[H3_1]=H31(x)','H3_1=y1*((x-x2)^2/h1^2+2*(x-x1)*(x-x2)^2/h1^3)+y2*((x-x1)^2/h1^2-2*(x-x2)*(x-x1)^2/h1^3)+y1d*(x-x1)*(x-x2)^2/h1^2+y2d*((x-x2)*(x-x1)^2)/h1^2');\n",
"\n",
"disp ('H(x) = x^3/4+x^2+1      on  -2<=x<=0');\n",
"disp ('       7*x^3-10*x^2+1   on   0<=x<=1');"
   ]
   }
],
"metadata": {
		  "kernelspec": {
		   "display_name": "Scilab",
		   "language": "scilab",
		   "name": "scilab"
		  },
		  "language_info": {
		   "file_extension": ".sce",
		   "help_links": [
			{
			 "text": "MetaKernel Magics",
			 "url": "https://github.com/calysto/metakernel/blob/master/metakernel/magics/README.md"
			}
		   ],
		   "mimetype": "text/x-octave",
		   "name": "scilab",
		   "version": "0.7.1"
		  }
		 },
		 "nbformat": 4,
		 "nbformat_minor": 0
}
