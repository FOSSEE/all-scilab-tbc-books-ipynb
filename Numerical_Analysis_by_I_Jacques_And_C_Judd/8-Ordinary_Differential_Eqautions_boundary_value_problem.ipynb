{
"cells": [
 {
		   "cell_type": "markdown",
	   "metadata": {},
	   "source": [
       "# Chapter 8: Ordinary Differential Eqautions boundary value problem"
	   ]
	},
{
		   "cell_type": "markdown",
		   "metadata": {},
		   "source": [
			"## Example 8.1: The_finite_difference_method.sce"
		   ]
		  },
  {
"cell_type": "code",
	   "execution_count": null,
	   "metadata": {
	    "collapsed": true
	   },
	   "outputs": [],
"source": [
"//The finite difference method \n",
"clc;\n",
"clear;\n",
"close();\n",
"format('v',7);\n",
"funcprot(0);\n",
"disp('Integral 0 to 2 exp(x)dx');\n",
"deff('[pp]=p(x)','pp=x');\n",
"deff('[qq]=q(x)','qq=-3');\n",
"deff('[rr]=r(x)','rr=exp(x)');\n",
"y0 = 1;\n",
"yn = 2;\n",
"x = [.2 .4 .6 .8 1];\n",
"h = 0.2;\n",
"A = [-2-h^2*q(x(1)) 1-h*p(x(1))/2 0 0;1+h*p(x(2))/2 -2-h^2*q(x(2)) 1-h*p(x(2))/2 0;0 1+h*p(x(3))/2 -2-h^2*q(x(3)) 1-h*p(x(3))/2;0 0 1+h*p(x(4))/2 -2-h^2*q(x(4))];\n",
"disp(A,'A');\n",
"c = [h^2*r(x(1))-(1+h*p(x(1))/2)*y0;h^2*r(x(2));h^2*r(x(3));h^2*r(x(4))-(1-h*p(x(4))/2)*yn];\n",
"Y = inv(A)*c;\n",
"disp(Y','The respective values of y1,y2,y3,y4 : ');"
   ]
   }
],
"metadata": {
		  "kernelspec": {
		   "display_name": "Scilab",
		   "language": "scilab",
		   "name": "scilab"
		  },
		  "language_info": {
		   "file_extension": ".sce",
		   "help_links": [
			{
			 "text": "MetaKernel Magics",
			 "url": "https://github.com/calysto/metakernel/blob/master/metakernel/magics/README.md"
			}
		   ],
		   "mimetype": "text/x-octave",
		   "name": "scilab",
		   "version": "0.7.1"
		  }
		 },
		 "nbformat": 4,
		 "nbformat_minor": 0
}
