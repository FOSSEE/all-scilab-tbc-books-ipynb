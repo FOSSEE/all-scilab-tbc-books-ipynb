{
"cells": [
 {
		   "cell_type": "markdown",
	   "metadata": {},
	   "source": [
       "# Chapter 3: Non linear algebric equations"
	   ]
	},
{
		   "cell_type": "markdown",
		   "metadata": {},
		   "source": [
			"## Example 3.1: Bisection_Method.sce"
		   ]
		  },
  {
"cell_type": "code",
	   "execution_count": null,
	   "metadata": {
	    "collapsed": true
	   },
	   "outputs": [],
"source": [
"//Bisection Method\n",
"clc;\n",
"clear;\n",
"close();\n",
"format('v',9);\n",
"b(1)=1;a(1)=0;k=5;\n",
"deff('[fx]=bisec(x)','fx =(x+1).^2.*exp(x.^2-2)-1');\n",
"x = linspace(0,1);\n",
"plot(x,((x+1).^2).*(exp(x.^2-2))-1);\n",
"//in interval [0,1]changes its sign thus has a root\n",
"//k = no of decimal place of accuracy\n",
"//a = lower limit of interval\n",
"//b = upper limit of interval\n",
"//n = no of iterations required\n",
"n = log2((10^k)*(b-a));\n",
"n = ceil(n);\n",
"disp(n,'Number of iterations : ')\n",
"for i = 1:n-1\n",
"    N(i) = i;\n",
"    c(i) = (a(i)+b(i))/2;\n",
"    bs(i) = bisec(c(i));\n",
"    if (bisec(b(i))*bisec(c(i))<0)\n",
"        a(i+1)=c(i);\n",
"        b(i+1)=b(i);\n",
"    else\n",
"        b(i+1)=c(i);\n",
"        a(i+1)=a(i);\n",
"    end\n",
"end\n",
"N(i+1)=i+1;\n",
"c(i+1) = (a(i+1)+b(i+1))/2;\n",
"bs(i+1) = bisec(c(i));\n",
"ann = [N a b c bs];\n",
"disp(ann , 'The Table : ');\n",
"disp(c(i),'The root of the function is : ')"
   ]
   }
,
{
		   "cell_type": "markdown",
		   "metadata": {},
		   "source": [
			"## Example 3.2: False_positioning_method.sce"
		   ]
		  },
  {
"cell_type": "code",
	   "execution_count": null,
	   "metadata": {
	    "collapsed": true
	   },
	   "outputs": [],
"source": [
"//The solution using false position method\n",
"clc;\n",
"clear;\n",
"close();\n",
"b(1)=1;a(1)=0;k=5;i=1;\n",
"format('v',9);\n",
"deff('[fx]=bisec(x)','fx =(x+1)^2*exp(x^2-2)-1');\n",
"x = linspace(0,1);\n",
"plot(x,((x+1).^2).*(exp(x.^2-2))-1);\n",
"//in interval [0,1]changes its sign thus has a root\n",
"//k = no of decimal place of accuracy\n",
"//a = lower limit of interval\n",
"//b = upper limit of interval\n",
"c(i) = (a(i)*bisec(b(i))-b(i)*bisec(a(i)))/(bisec(b(i))-bisec(a(i)));\n",
"bs(1)=bisec(c(1));\n",
"N(1) = 1;\n",
"a(i+1)=c(i);\n",
"b(i+1)=b(i);\n",
"while abs(bisec(c(i)))>(0.5*(10^-k))\n",
"    i = i+1;\n",
"    N(i)=i;\n",
"    c(i) = (a(i)*bisec(b(i))-b(i)*bisec(a(i)))/(bisec(b(i))-bisec(a(i)));\n",
"    bs(i) = bisec(c(i));\n",
"    if (bisec(b(i))*bisec(c(i))<0)\n",
"        a(i+1)=c(i);\n",
"        b(i+1)=b(i);\n",
"    else\n",
"        b(i+1)=c(i);\n",
"        a(i+1)=a(i);\n",
"    end\n",
"end\n",
"a(10)=[];b(10)=[];\n",
"ann = [N a b c bs];\n",
"disp(ann , 'The Table : ');\n",
"disp('The root of the function is bracketed by [0.647116 1] ');"
   ]
   }
,
{
		   "cell_type": "markdown",
		   "metadata": {},
		   "source": [
			"## Example 3.3: fixed_point_iteration_method.sce"
		   ]
		  },
  {
"cell_type": "code",
	   "execution_count": null,
	   "metadata": {
	    "collapsed": true
	   },
	   "outputs": [],
"source": [
"//We have quadratic equation x^2-2*x-8=0 with roots -2 and 4\n",
"//for solving it we use fixed point iteration method for that we rearrange it in 3 ways.\n",
"//first way x=(2*x+8)^(1/2)\n",
"//here x0 is chosen arbitrarily\n",
"\n",
"clear;\n",
"clc;\n",
"close();\n",
"format('v',5)\n",
"funcprot(0);\n",
"deff('[fixed_point]=fx(x)','fixed_point=(2*x+8)^0.5')\n",
"x0=5;\n",
"while abs(x0-fx(x0))>0.5*10^(-2)\n",
"  x0=fx(x0);\n",
"end\n",
"disp(x0,'root is :')\n",
"\n",
"//second way x=(2*x+8)/x\n",
"\n",
"format('v',5)\n",
"funcprot(0);\n",
"deff('[fixed_point]=fx(x)','fixed_point=(2*x+8)/x')\n",
"x0=5;\n",
"while abs(x0-fx(x0))>0.5*10^(-2)\n",
"  x0=fx(x0);\n",
"end\n",
"disp(x0,'root is :')\n",
"\n",
"//third way x=(x^2-8)/2\n",
"\n",
"format('v',10)\n",
"funcprot(0);\n",
"deff('[fixed_point]=fx(x)','fixed_point=(x^2-8)/2')\n",
"x0=5;\n",
"for i=1:5\n",
"  x0=fx(x0);\n",
"  disp(x0,'value is :')\n",
"end\n",
"disp(x0,'As you can see that the root is not converging.So this method is not applicable.')\n",
""
   ]
   }
,
{
		   "cell_type": "markdown",
		   "metadata": {},
		   "source": [
			"## Example 3.4: Type_of_convergence.sce"
		   ]
		  },
  {
"cell_type": "code",
	   "execution_count": null,
	   "metadata": {
	    "collapsed": true
	   },
	   "outputs": [],
"source": [
"//checking for the convergence and divergence of different functions we are getting after rearrangement of the given quadratic equation x^2-2*x-8=0.\n",
"//after first type of arrangement we get a function gx=(2*x+8)^(1/2).for this we have..\n",
"\n",
"clear;\n",
"clc;\n",
"close();\n",
"alpha=4;\n",
"I=alpha-1:alpha+1;//required interval\n",
"deff('[f1]=gx(x)','f1=(2*x+8)^(1/2)');\n",
"deff('[f2]=diffgx(x)','f2=(2*x+8)^(-0.5)');\n",
"x=linspace(3,5);\n",
"subplot(2,1,1);\n",
"plot(x,(2*x+8)^(1/2))\n",
"plot(x,x)\n",
"x0=5;\n",
"if diffgx(I)>0\n",
"  disp('Errors in two consecutive iterates are of same sign so convergence is monotonic')\n",
"end\n",
"if abs(diffgx(x0))<1\n",
"  disp('So this method converges')\n",
"end\n",
"\n",
"//after second type of arrangement we get a function gx=(2*x+8)/x.for this we have..\n",
"\n",
"deff('[f1]=gx(x)','f1=(2*x+8)/x');\n",
"deff('[f2]=diffgx(x)','f2=(-8)/(x^2)');\n",
"x=linspace(1,5);\n",
"for i=1:100\n",
"  y(1,i)=2+8/x(1,i);\n",
"end\n",
"subplot(2,1,2);\n",
"plot(x,y)\n",
"plot(x,x)\n",
"x0=5;\n",
"if diffgx(I)<0\n",
"  disp('Errors in two consecutive iterates are of opposite sign so convergence is oscillatory')\n",
"end\n",
"if abs(diffgx(x0))<1\n",
"  disp('So this method converges')\n",
"end"
   ]
   }
,
{
		   "cell_type": "markdown",
		   "metadata": {},
		   "source": [
			"## Example 3.5: Newton_Method.sce"
		   ]
		  },
  {
"cell_type": "code",
	   "execution_count": null,
	   "metadata": {
	    "collapsed": true
	   },
	   "outputs": [],
"source": [
"//Newton's Method\n",
"//the first few iteration converges quikcly in negative root as compared to positive root\n",
"clc;\n",
"clear;\n",
"close();\n",
"funcprot(0);\n",
"format('v',9);\n",
"deff('[Newton]=fx(x)','Newton=exp(x)-x-2');\n",
"deff('[diff]=gx(x)','diff=exp(x)-1');\n",
"x = linspace(-2.5,1.5);\n",
"plot(x,exp(x)-x-2)\n",
"//from the graph the function has 2 roots\n",
"//considering the initial negative root -10\n",
"x1 = -10;\n",
"x2 = x1-fx(x1)/gx(x1);\n",
"i=0;\n",
"while abs(x1-x2)>(0.5*10^-7)\n",
"    x1=x2;\n",
"    x2 = x1-fx(x1)/gx(x1);    \n",
"    i=i+1;\n",
"end\n",
"disp(i,'Number of iterations : ')\n",
"disp(x2,'The negative root of the function is : ')\n",
"\n",
"\n",
"//considering the initial positive root 10\n",
"x1 = 10;\n",
"x2 = x1-fx(x1)/gx(x1);\n",
"i=0;\n",
"while abs(x1-x2)>(0.5*10^-7)\n",
"    x1=x2;\n",
"    x2 = x1-fx(x1)/gx(x1);    \n",
"    i=i+1;\n",
"end\n",
"disp(i,'Number of iteration : ')\n",
"disp(x2,'The positive root of the function is : ')\n",
"//number of iterations showing fast and slow convergent"
   ]
   }
,
{
		   "cell_type": "markdown",
		   "metadata": {},
		   "source": [
			"## Example 3.6: Secant_Method.sce"
		   ]
		  },
  {
"cell_type": "code",
	   "execution_count": null,
	   "metadata": {
	    "collapsed": true
	   },
	   "outputs": [],
"source": [
"//Secant Method\n",
"//the first few iteration converges quikcly in negative root as compared to positive root\n",
"clc;\n",
"clear;\n",
"close();\n",
"funcprot(0);\n",
"format('v',9);\n",
"deff('[Secant]=f(x)','Secant=exp(x)-x-2');\n",
"x = linspace(0,1.5);\n",
"subplot(2,1,1);\n",
"plot(x,exp(x)-x-2);\n",
"plot(x,0);\n",
"//from the graph the function has 2 roots\n",
"//considering the initial negative root -10\n",
"x0 = -10\n",
"x1 = -9;\n",
"x2 = (x0*f(x1)-x1*f(x0))/(f(x1)-f(x0));\n",
"i=0;\n",
"while abs(x1-x2)>(0.5*10^-7)\n",
"    x0=x1;\n",
"    x1=x2;\n",
"    x2 = (x0*f(x1)-x1*f(x0))/(f(x1)-f(x0));    \n",
"    i=i+1;\n",
"end\n",
"disp(i,'Number of iterations : ')\n",
"disp(x2,'The negative root of the function is : ')\n",
"\n",
"\n",
"//considering the initial positive root 10\n",
"subplot(2,1,2);\n",
"x = linspace(-2.5,0);\n",
"plot(x,exp(x)-x-2);\n",
"plot(x,0);\n",
"x0 = 10\n",
"x1 = 9;\n",
"x2 = (x0*f(x1)-x1*f(x0))/(f(x1)-f(x0));\n",
"i=0;\n",
"while abs(x1-x2)>(0.5*10^-7)\n",
"    x0=x1;\n",
"    x1=x2;\n",
"    x2 = (x0*f(x1)-x1*f(x0))/(f(x1)-f(x0));\n",
"    i=i+1;\n",
"end\n",
"disp(i,'Number of iteration : ')\n",
"disp(x2,'The positive root of the function is : ')\n",
"//number of iterations showing fast and slow convergent\n",
"\n",
"format('v',6)\n",
"//Order of secant method (p)\n",
" p = log(31.52439)/log(8.54952);\n",
" disp(p,'Order of Secant Method : ')"
   ]
   }
,
{
		   "cell_type": "markdown",
		   "metadata": {},
		   "source": [
			"## Example 3.7: System_of_Non_Linear_Equations.sce"
		   ]
		  },
  {
"cell_type": "code",
	   "execution_count": null,
	   "metadata": {
	    "collapsed": true
	   },
	   "outputs": [],
"source": [
"//Non-Linear Equation\n",
"clc;\n",
"clear;\n",
"close();\n",
"funcprot(0);\n",
"format('v',9);\n",
"i = 1;\n",
"deff('[func1]=f(x,y)','func1=x^2+y^2-4');\n",
"deff('[func2]=g(x,y)','func2=2*x-y^2');\n",
"deff('[difffx]=fx(x)','difffx=2*x');\n",
"deff('[difffy]=fy(y)','difffy=2*y');\n",
"deff('[diffgx]=gx(x)','diffgx=2');\n",
"deff('[diffgy]=gy(y)','diffgy=-2*y');\n",
"x1(i)=1;y1(i)=1;\n",
"J = [fx(x1(i)),fy(y1(i));gx(x1(i)),gy(y1(i))];\n",
"n=[x1(i);y1(i)]-inv(J)*[f(x1(i),y1(i));g(x1(i),y1(i))];\n",
"x2(i)=n(1,1);y2(i)=n(2,1);\n",
"N(1)=i-1;\n",
"while (abs(x2(i)-x1(i))>0.5*10^-7) | (abs(y2(i)-y1(i))>0.5*10^-7)\n",
"    i=i+1;\n",
"    N(i)=i-1;\n",
"    x1(i)=x2(i-1);\n",
"    y1(i)=y2(i-1);\n",
"    J = [fx(x1(i)),fy(y1(i));gx(x1(i)),gy(y1(i))];\n",
"    n=[x1(i);y1(i)]-inv(J)*[f(x1(i),y1(i));g(x1(i),y1(i))];\n",
"    x2(i)=n(1,1);y2(i)=n(2,1);\n",
"end\n",
"N(i+1)=i;\n",
"x1(i+1) = x2(i);\n",
"y1(i+1) = y2(i);\n",
"n = [N x1 y1];\n",
"disp(n,'The value of n x and y :')"
   ]
   }
,
{
		   "cell_type": "markdown",
		   "metadata": {},
		   "source": [
			"## Example 3.8: System_of_Non_Linear_Equations.sce"
		   ]
		  },
  {
"cell_type": "code",
	   "execution_count": null,
	   "metadata": {
	    "collapsed": true
	   },
	   "outputs": [],
"source": [
"//Non-Linear Equation\n",
"clc;\n",
"clear;\n",
"close();\n",
"funcprot(0);\n",
"format('v',9);\n",
"deff('[func1]=f(x1,x2)','func1=-2.0625*x1+2*x2-0.0625*x1^3+0.5');\n",
"deff('[func2]=g(x1,x2,x3)','func2=x3-2*x2+x1-0.0625*x2^3+0.125*x2*(x3-x1)');\n",
"deff('[func3]=h(x2,x3,x4)','func3=x4-2*x3+x2-0.0625*x3^3+0.125*x3*(x4-x2)');\n",
"deff('[func4]=k(x3,x4)','func4=-1.9375*x4+x3-0.0625*x4^3-0.125*x3*x4+0.5');\n",
"//define the corresponding partial differenciation of the function = 16\n",
"deff('[difffx1]=fx1(x1)','difffx1=-2.0625-3*0.0625*x1^2');\n",
"deff('[difffx2]=fx2(x2)','difffx2=2');\n",
"\n",
"deff('[diffgx1]=gx1(x2)','diffgx1=1-0.125*x2');\n",
"deff('[diffgx2]=gx2(x1,x2,x3)','diffgx2=-2-3*0.0625*x2^2+0.125*(x3-x1)');\n",
"deff('[diffgx3]=gx3(x2)','diffgx3=1+0.125*x2');\n",
"\n",
"deff('[diffhx2]=hx2(x3)','diffhx2=1-0.125*x3');\n",
"deff('[diffhx3]=hx3(x3,x4)','diffhx3=-2-0.0625*3*x3^2+0.125*x4');\n",
"deff('[diffhx4]=hx4(x3)','diffhx4 = 1+0.125*x3');\n",
"\n",
"deff('[diffkx3]=kx3(x4)','diffkx3=1-0.125*x4');\n",
"deff('[diffkx4]=kx4(x3,x4)','diffkx4=-1.9375-3*0.0625*x4^2-0.125*x3');\n",
"\n",
"x = [1.5 1.25 1.0 0.75]';\n",
"for i=1:6\n",
"    N(i)=i-1;\n",
"    x1(i) = x(1);x2(i)=x(2);x3(i) = x(3);x4(i)=x(4);\n",
"    J = [fx1(x(1)),fx2(x(2)),0,0;gx1(x(2)),gx2(x(1),x(2),x(3)),gx3(x(2)),0;0,hx2(x(3)),hx3(x(3),x(4)),hx4(x(3));0,0,kx3(x(4)),kx4(x(3),x(4))];\n",
"    x = x - inv(J)*[f(x(1),x(2));g(x(1),x(2),x(3));h(x(2),x(3),x(4));k(x(3),x(4))];\n",
"end\n",
"n = [N x1 x2 x3 x4];\n",
"disp(n,'The values of N x1 x2 x3 x4 respectively : ');"
   ]
   }
],
"metadata": {
		  "kernelspec": {
		   "display_name": "Scilab",
		   "language": "scilab",
		   "name": "scilab"
		  },
		  "language_info": {
		   "file_extension": ".sce",
		   "help_links": [
			{
			 "text": "MetaKernel Magics",
			 "url": "https://github.com/calysto/metakernel/blob/master/metakernel/magics/README.md"
			}
		   ],
		   "mimetype": "text/x-octave",
		   "name": "scilab",
		   "version": "0.7.1"
		  }
		 },
		 "nbformat": 4,
		 "nbformat_minor": 0
}
