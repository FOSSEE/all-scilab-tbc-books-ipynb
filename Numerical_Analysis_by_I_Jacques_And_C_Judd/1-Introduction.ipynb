{
"cells": [
 {
		   "cell_type": "markdown",
	   "metadata": {},
	   "source": [
       "# Chapter 1: Introduction"
	   ]
	},
{
		   "cell_type": "markdown",
		   "metadata": {},
		   "source": [
			"## Example 1.1: Illustrating_big_errors_caused_by_small_errors.sce"
		   ]
		  },
  {
"cell_type": "code",
	   "execution_count": null,
	   "metadata": {
	    "collapsed": true
	   },
	   "outputs": [],
"source": [
"//Illustrating that a small error in data provided can result in big errors.\n",
"//with original equations\n",
"//X+Y=2 & X+1.01Y=2.01\n",
"clear;\n",
"clc;\n",
"close();\n",
"A=[1 1;1 1.01];\n",
"B=[2 2.01]';\n",
"x=A\B;\n",
"disp(x,'Solutions are :')\n",
"x=linspace(-0.5,1.5);\n",
"y1=2-x;\n",
"y2=(2.01-x)/1.01;\n",
"subplot(2,1,1);\n",
"plot(x,y1)\n",
"plot(x,y2,'r')\n",
"xtitle('plot of correct equations','x axis','y axis')\n",
"//with the equations having some error in data\n",
"//X+Y=2 & X+1.01Y=2.02\n",
"A=[1 1;1 1.01];\n",
"B=[2 2.02]';\n",
"x=A\B;\n",
"disp(x,'Solutions are :')\n",
"subplot(2,1,2);\n",
"x=linspace(-1,1);\n",
"y1=2-x;\n",
"y2=(2.02-x)/1.01;\n",
"plot(x,y1)\n",
"plot(x,y2,'r')\n",
"xtitle('plot of error having equations','x axis','y axis')"
   ]
   }
,
{
		   "cell_type": "markdown",
		   "metadata": {},
		   "source": [
			"## Example 1.4: Calculating_Induced_instability_through_deflation_method.sce"
		   ]
		  },
  {
"cell_type": "code",
	   "execution_count": null,
	   "metadata": {
	    "collapsed": true
	   },
	   "outputs": [],
"source": [
"//illustrating the induced instability through the deflation method of polynomial factorisation.\n",
"clear;\n",
"clc;\n",
"close();\n",
"x=poly(0,'x');\n",
"p3=x^3-13*x^2+32*x-20;//Given Polynomial\n",
"roots(p3)\n",
"//suppose that an estimate of its largest zero is taken as 10.1.Now devide p3 by (x-10.1)\n",
"p2=x^2-2.9*x+2.71;//the quotient\n",
"roots(p2)\n",
"disp('induced a large error in roots')"
   ]
   }
],
"metadata": {
		  "kernelspec": {
		   "display_name": "Scilab",
		   "language": "scilab",
		   "name": "scilab"
		  },
		  "language_info": {
		   "file_extension": ".sce",
		   "help_links": [
			{
			 "text": "MetaKernel Magics",
			 "url": "https://github.com/calysto/metakernel/blob/master/metakernel/magics/README.md"
			}
		   ],
		   "mimetype": "text/x-octave",
		   "name": "scilab",
		   "version": "0.7.1"
		  }
		 },
		 "nbformat": 4,
		 "nbformat_minor": 0
}
