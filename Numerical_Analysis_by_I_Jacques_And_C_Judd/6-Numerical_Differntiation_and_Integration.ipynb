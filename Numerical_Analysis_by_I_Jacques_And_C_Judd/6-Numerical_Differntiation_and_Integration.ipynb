{
"cells": [
 {
		   "cell_type": "markdown",
	   "metadata": {},
	   "source": [
       "# Chapter 6: Numerical Differntiation and Integration"
	   ]
	},
{
		   "cell_type": "markdown",
		   "metadata": {},
		   "source": [
			"## Example 6.10: Simpsons_Adaptive_Quatrature.sce"
		   ]
		  },
  {
"cell_type": "code",
	   "execution_count": null,
	   "metadata": {
	    "collapsed": true
	   },
	   "outputs": [],
"source": [
"//Simpson's Adaptive Quatrature\n",
"clc;\n",
"clear;\n",
"close();\n",
"format('v',7);\n",
"funcprot(0);\n",
"deff('[y]=f(x)','y=exp(-3*x)*sin(3*x)');\n",
"e = 0.0005;\n",
"a = 0;\n",
"b = %pi;\n",
"h = (b-a)/2;\n",
"\n",
"S1 = h*(f(a)+4*f((a+b)/2)+f(b))/3;\n",
"disp(S1,'S1 : ');\n",
"S2 = h*(f(a)+4*f((3*a+b)/4)+2*f((a+b)/2)+4*f((a+3*b)/4)+f(b))/6;\n",
"disp(S2,'S2 : ');\n",
"\n",
"err = abs(S2-S1)/15;\n",
"disp(err,'|S2-S1|>15e so [0.%pi] must be subdivided ' );\n",
"\n",
"a = (a+b)/2;\n",
"h = (b-a)/2;\n",
"S1 = h*(f(a)+4*f((a+b)/2)+f(b))/3;\n",
"disp(S1,'S1 : ');\n",
"S2 = h*(f(a)+4*f((3*a+b)/4)+2*f((a+b)/2)+4*f((a+3*b)/4)+f(b))/6;\n",
"disp(S2,'S2 : ');\n",
"s = S2;\n",
"disp (abs(S2-S1),'|S2-S1|<15e/2 ');\n",
"\n",
"b = a;\n",
"a = 0;\n",
"h = (b-a)/2;\n",
"\n",
"S1 = h*(f(a)+4*f((a+b)/2)+f(b))/3;\n",
"disp(S1,'S1 : ');\n",
"S2 = h*(f(a)+4*f((3*a+b)/4)+2*f((a+b)/2)+4*f((a+3*b)/4)+f(b))/6;\n",
"disp(S2,'S2 : ');\n",
"\n",
"err = abs(S2-S1)/15;\n",
"disp(err,'|S2-S1|>15e so interval must be subdivided ' );\n",
"\n",
"a = (a+b)/2;\n",
"h = (b-a)/2;\n",
"S1 = h*(f(a)+4*f((a+b)/2)+f(b))/3;\n",
"disp(S1,'S1 : ');\n",
"S2 = h*(f(a)+4*f((3*a+b)/4)+2*f((a+b)/2)+4*f((a+3*b)/4)+f(b))/6;\n",
"disp(S2,'S2 : ');\n",
"s = s+S2;\n",
"disp (abs(S2-S1),'|S2-S1|<15e/4 ');\n",
"\n",
"b = a;\n",
"a = 0;\n",
"h = (b-a)/2;\n",
"\n",
"S1 = h*(f(a)+4*f((a+b)/2)+f(b))/3;\n",
"disp(S1,'S1 : ');\n",
"S2 = h*(f(a)+4*f((3*a+b)/4)+2*f((a+b)/2)+4*f((a+3*b)/4)+f(b))/6;\n",
"disp(S2,'S2 : ');\n",
"\n",
"err = abs(S2-S1)/15;\n",
"disp(err,'|S2-S1|>15e so interval must be subdivided ' );\n",
"\n",
"a = (a+b)/2;\n",
"h = (b-a)/2;\n",
"S1 = h*(f(a)+4*f((a+b)/2)+f(b))/3;\n",
"disp(S1,'S1 : ');\n",
"S2 = h*(f(a)+4*f((3*a+b)/4)+2*f((a+b)/2)+4*f((a+3*b)/4)+f(b))/6;\n",
"disp(S2,'S2 : ');\n",
"s = s+S2;\n",
"disp (abs(S2-S1),'|S2-S1|<15e/8 ');\n",
"\n",
"b = a;\n",
"a = 0;\n",
"h = (b-a)/2;\n",
"\n",
"S1 = h*(f(a)+4*f((a+b)/2)+f(b))/3;\n",
"disp(S1,'S1 : ');\n",
"S2 = h*(f(a)+4*f((3*a+b)/4)+2*f((a+b)/2)+4*f((a+3*b)/4)+f(b))/6;\n",
"disp(S2,'S2 : ');\n",
"disp (abs(S2-S1),'|S2-S1|<15e/8 ');\n",
"s = s+S2;\n",
"disp(s);"
   ]
   }
,
{
		   "cell_type": "markdown",
		   "metadata": {},
		   "source": [
			"## Example 6.11: Gaussian_Quadrature_Rule.sce"
		   ]
		  },
  {
"cell_type": "code",
	   "execution_count": null,
	   "metadata": {
	    "collapsed": true
	   },
	   "outputs": [],
"source": [
"//Gaussian Quadrature Rule\n",
"clc;\n",
"clear;\n",
"close();\n",
"format('v',10);\n",
"funcprot(0);\n",
"disp('Integral 0 to 1 f(x)dx');\n",
"b = 1;\n",
"a = 0;\n",
"x = poly(0,'x');\n",
"p = x^2-x+1/6;\n",
"x1 = roots(p);\n",
"A = [1 1;x1'];\n",
"//X = [c0;c1];\n",
"B = [(b-a);(b^2-a^2)/2];\n",
"X = inv(A)*B;\n",
" disp (X,'Are the c1,c2 constants : ');\n",
" disp (x1,'Are the corresponding roots (x1,x2) : ');\n",
" disp ('c0*f(x0)+c1*f(x1)');"
   ]
   }
,
{
		   "cell_type": "markdown",
		   "metadata": {},
		   "source": [
			"## Example 6.12: Gaussian_Quadrature_Rule.sce"
		   ]
		  },
  {
"cell_type": "code",
	   "execution_count": null,
	   "metadata": {
	    "collapsed": true
	   },
	   "outputs": [],
"source": [
"//Gaussian Quadrature Rule\n",
"clc;\n",
"clear;\n",
"close();\n",
"format('v',10);\n",
"funcprot(0);\n",
"disp('Integral 0 to 2 exp(x)dx');\n",
"deff('[y]=f(t)','y=exp(t+1)');\n",
"b = 1;\n",
"a = -1;\n",
"x = poly(0,'x');\n",
"p = x^4 - 6*x^2/7+3/35;\n",
"x1 = roots(p);\n",
"A = [1 1 1 1;x1';(x1.^2)';(x1.^3)'];\n",
"B = [(b-a);(b^2-a^2)/2;(b^3-a^3)/3;(b^4-a^4)/4];\n",
"C = inv(A)*B;\n",
"I = C(1)*f(x1(1))+C(2)*f(x1(2))+C(3)*f(x1(3))+C(4)*f(x1(4));\n",
"disp(I,'Calculated integration : ');\n",
"exact = integrate('exp(x)','x',0,2);\n",
"disp(exact,'The exact value of intergation is :');\n",
"err = exact - I ;\n",
"disp(err,'Error : ' );"
   ]
   }
,
{
		   "cell_type": "markdown",
		   "metadata": {},
		   "source": [
			"## Example 6.1: Numerical_Differentiation.sce"
		   ]
		  },
  {
"cell_type": "code",
	   "execution_count": null,
	   "metadata": {
	    "collapsed": true
	   },
	   "outputs": [],
"source": [
"//Numerical Differentiation\n",
"clc;\n",
"clear;\n",
"close();\n",
"format('v',9);\n",
"deff('[y]=f(x)','y=exp(-x)');\n",
"\n",
"x0 = ones(:,8);\n",
"h = [1 .2 .1 .02 .01 .002 .001 .0002];\n",
"x1 = 1+h;\n",
"f0 = f(x0);\n",
"f1 = f(x1);\n",
"dif = (f1-f0)./h;\n",
"max_trun_err = exp(-1).*h/2;\n",
"act_err = abs(- exp(-1)-dif);\n",
"answer = [h' f0' f1' dif' max_trun_err' act_err'];\n",
"disp(answer,'    h        f0            f1        f1-f0/h     he^-1      |Actual Error|');\n",
"x = (0:.0002:3);\n",
"plot(x,f(x));"
   ]
   }
,
{
		   "cell_type": "markdown",
		   "metadata": {},
		   "source": [
			"## Example 6.2: Numerical_Differentiation.sce"
		   ]
		  },
  {
"cell_type": "code",
	   "execution_count": null,
	   "metadata": {
	    "collapsed": true
	   },
	   "outputs": [],
"source": [
"//Numerical Differentiation\n",
"clc;\n",
"clear;\n",
"close();\n",
"format('v',9);\n",
"deff('[y]=f(x)','y=exp(-x)');\n",
"h = [1 .2 .1 .02 .01 .002 .001 .0002];\n",
"x0 = 1 - h;\n",
"x1 = ones(:,8);\n",
"x2 = 1+h;\n",
"f0 = f(x0);\n",
"f1 = f(x1);\n",
"f2 = f(x2);\n",
"dif = (f2-f0)./(2*h);\n",
"max_trun_err = exp(h-1).*h^2/6;\n",
"act_err = abs(- exp(-1)-dif);\n",
"answer = [h' f0' f2' dif' max_trun_err' act_err'];\n",
"disp(answer,'    h        f0            f2       f2-f0/2h  h^2*exp(h-1)/6 |Actual Error|');\n",
"disp('truncation error does not exceed h^2*exp(h-1)/6')\n",
"x = (0:.0002:3);\n",
"plot(x,f(x));"
   ]
   }
,
{
		   "cell_type": "markdown",
		   "metadata": {},
		   "source": [
			"## Example 6.3: Numerical_Integration.sce"
		   ]
		  },
  {
"cell_type": "code",
	   "execution_count": null,
	   "metadata": {
	    "collapsed": true
	   },
	   "outputs": [],
"source": [
"//Numerical Integration\n",
"clc;\n",
"clear;\n",
"close();\n",
"format('v',9);\n",
"funcprot(0);\n",
"deff('[y]=f(x)','y=x*cos(x)');\n",
"\n",
"rec = %pi * f(0)/4;\n",
"disp(rec,'Retangular Rule : ');\n",
"\n",
"trap = %pi*(f(0)+f(%pi/4))/8;\n",
"disp(trap,'Trapezoidal Rule : ');\n",
"\n",
"sip = %pi*(f(0)+4*f(%pi/8)+f(%pi/4))/(3*8);\n",
"disp(sip,'Simpson''s Rule : ');\n",
"\n",
"sip38 = %pi*3*(f(0)+3*f(%pi/12)+3*f(%pi/6)+f(%pi/4))/(12*8);\n",
"disp(sip38,'Simpson''s 3/8 Rule : ');\n",
"\n",
"exact = integrate('x*cos(x)','x',0,%pi/4);\n",
"disp(exact,'The exact value of intergation is :');\n",
"err = exact - rec;\n",
"err(2) = exact - trap;\n",
"err(3) = exact - sip;\n",
"err(4) = exact - sip38;\n",
"disp(err,'thus corresponding errors are : ');"
   ]
   }
,
{
		   "cell_type": "markdown",
		   "metadata": {},
		   "source": [
			"## Example 6.4: Numerical_Integration.sce"
		   ]
		  },
  {
"cell_type": "code",
	   "execution_count": null,
	   "metadata": {
	    "collapsed": true
	   },
	   "outputs": [],
"source": [
"//Newton Cotes formula\n",
"clc;\n",
"clear;\n",
"close();\n",
"format('v',9);\n",
"funcprot(0);\n",
"disp('Integral 0 to PI/4 x*cos dx');\n",
"disp('based on open Newton-Cotes formulas ');\n",
"\n",
"deff('[y]=f(x)','y=x*cos(x)');\n",
"\n",
"k = [0 1 2 3]\n",
"\n",
"a = 0;\n",
"b = %pi/4;\n",
"h = (ones(:,4)*(b-a))./(k+2);\n",
"x0 = a+h;\n",
"xk = b-h;\n",
"\n",
"k(1) = 2*h(1)*f(h(1));\n",
"disp(k(1),'k=0');\n",
"\n",
"k(2) = 3*h(2)*(f(h(2))+f(2*h(2)))/2;\n",
"disp(k(2),'k=1');\n",
"\n",
"k(3) = 4*h(3)*(2*f(h(3))-f(2*h(3))+2*f(3*h(3)))/3;\n",
"disp(k(3),'k=2');\n",
"\n",
"k(4) = 5*h(4)*(11*f(h(4))+f(2*h(4))+f(3*h(4))+11*f(4*h(4)))/24;\n",
"disp(k(4),'k=3');\n",
"\n",
"exact = integrate('x*cos(x)','x',0,%pi/4);\n",
"disp(exact,'The exact value of intergation is :');\n",
"exact = ones(:,4)*exact;\n",
"err = exact-k;\n",
"disp(err','thus corresponding errors are : ');"
   ]
   }
,
{
		   "cell_type": "markdown",
		   "metadata": {},
		   "source": [
			"## Example 6.5: Trapezoidal_Rule.sce"
		   ]
		  },
  {
"cell_type": "code",
	   "execution_count": null,
	   "metadata": {
	    "collapsed": true
	   },
	   "outputs": [],
"source": [
"//Trapezoidal Rule\n",
"clc;\n",
"clear;\n",
"close();\n",
"format('v',10);\n",
"funcprot(0);\n",
"disp('Integral 0 to 2 e^x dx');\n",
"disp('based on trapezoidal rule ');\n",
"\n",
"deff('[y]=f(x)','y=exp(x)');\n",
"\n",
"n = [1 2 4 8];\n",
"\n",
"a = 0;\n",
"b = 2;\n",
"h = (ones(:,4)*(b-a))./n;\n",
"\n",
"t(1) = h(1)*(f(a)+f(b))/2;\n",
"disp(t(1),'n=1');\n",
"\n",
"t(2) = h(2)*(f(a)+f(b)+2*f(h(2)))/2;\n",
"disp(t(2),'n=2');\n",
"\n",
"t(3) = h(3)*(f(a)+f(b)+2*(f(h(3))+f(2*h(3))+f(3*h(3))))/2;\n",
"disp(t(3),'n=4');\n",
"\n",
"t(4) = h(4)*(f(a)+f(b)+2*(f(h(4))+f(2*h(4))+f(3*h(4))+f(4*h(4))+f(5*h(4))+f(6*h(4))+f(7*h(4))))/2;\n",
"disp(t(4),'n=8');\n",
"\n",
"exact = integrate('exp(x)','x',0,2);\n",
"disp(exact,'The exact value of intergation is :');\n",
"exact = ones(4)*exact;\n",
"err = exact-t;\n",
"disp(err,'thus corresponding errors are : ');"
   ]
   }
,
{
		   "cell_type": "markdown",
		   "metadata": {},
		   "source": [
			"## Example 6.6: Simpson_Rule.sce"
		   ]
		  },
  {
"cell_type": "code",
	   "execution_count": null,
	   "metadata": {
	    "collapsed": true
	   },
	   "outputs": [],
"source": [
"//Simpson Rule \n",
"clc;\n",
"clear;\n",
"close();\n",
"format('v',10);\n",
"funcprot(0);\n",
"\n",
"deff('[y]=f(x)','y=exp(x)');\n",
"\n",
"n = [1 2 4];\n",
"\n",
"a = 0;\n",
"b = 2;\n",
"h = (ones(:,3)*(b-a))./(2*n);\n",
"\n",
"s(1) = h(1)*(f(a)+f(b)+4*f(h(1)))/3;\n",
"disp(s(1),'n=1');\n",
"\n",
"s(2) = h(2)*(f(a)+f(b)+2*f(2*h(2))+4*(f(h(2))+f(3*h(2))))/3;\n",
"disp(s(2),'n=2');\n",
"\n",
"s(3) = h(3)*(f(a)+f(b)+2*(f(2*h(3))+f(4*h(3))+f(6*h(3)))+4*(f(h(3))+f(3*h(3))+f(5*h(3))+f(7*h(3))))/3;\n",
"disp(s(3),'n=4');\n",
"\n",
"exact = integrate('exp(x)','x',0,2);\n",
"disp(exact,'The exact value of intergation is :');\n",
"exact = ones(3)*exact;\n",
"err = exact-s;\n",
"disp(err,'thus corresponding errors are : ');"
   ]
   }
,
{
		   "cell_type": "markdown",
		   "metadata": {},
		   "source": [
			"## Example 6.7: Rombergs_Interpolation.sce"
		   ]
		  },
  {
"cell_type": "code",
	   "execution_count": null,
	   "metadata": {
	    "collapsed": true
	   },
	   "outputs": [],
"source": [
"//Romberg's Interpolation\n",
"clc;\n",
"clear;\n",
"close();\n",
"exec('C:\Users\Pragya\Desktop\scilab\trap.sci', -1);\n",
"format('v',10);\n",
"funcprot(0);\n",
"deff('[y]=f(x)','y=exp(x)');\n",
"a = 0;\n",
"b = 2;\n",
"\n",
"t(1,1)=trap(f,a,b,0,0);\n",
"disp(t(1,1),'T(0,0) : ');\n",
"\n",
"t(2,1)=trap(f,a,b,1,0);\n",
"disp(t(2,1),'T(1,0) : ');\n",
"\n",
"t(3,1)=trap(f,a,b,2,0);\n",
"disp(t(3,1),'T(2,0) : ');\n",
"\n",
"t(4,1)=trap(f,a,b,3,0);\n",
"disp(t(4,1),'T(3,0) : ');\n",
"\n",
"t(2,2)=trap(f,a,b,1,1);\n",
"disp(t(2,2),'T(1,1) : ');\n",
"\n",
"t(3,2)=trap(f,a,b,2,1);\n",
"disp(t(3,2),'T(2,1) : ');\n",
"\n",
"t(4,2)=trap(f,a,b,3,1);\n",
"disp(t(4,2),'T(3,1) : ');\n",
"\n",
"t(3,3)=trap(f,a,b,2,2);\n",
"disp(t(3,3),'T(2,2) : ');\n",
"\n",
"t(4,3)=trap(f,a,b,3,2);\n",
"disp(t(4,3),'T(3,2) : ');\n",
"\n",
"t(4,4)=trap(f,a,b,3,3);\n",
"disp(t(4,4),'T(3,3) : ');\n",
"\n",
"disp(t,'The corresponding Romberg Table is : ');"
   ]
   }
,
{
		   "cell_type": "markdown",
		   "metadata": {},
		   "source": [
			"## Example 6.8: Rombergs_Method.sce"
		   ]
		  },
  {
"cell_type": "code",
	   "execution_count": null,
	   "metadata": {
	    "collapsed": true
	   },
	   "outputs": [],
"source": [
"//Romberg's Method\n",
"clc;\n",
"clear;\n",
"close();\n",
"exec('C:\Users\Pragya\Desktop\scilab\trap.sci', -1);\n",
"format('v',10);\n",
"funcprot(0);\n",
"deff('[y]=f(x)','y=exp(x)');\n",
"a = 0;\n",
"b = 2;\n",
"\n",
"t(1,1)=trap(f,a,b,0,0);\n",
"disp(t(1,1),'T(0,0) : ');\n",
"\n",
"t(2,1)=(t(1,1)+2*1*f(1))/2;\n",
"disp(t(2,1),'T(1,0) : ');\n",
"\n",
"t(3,1)=(t(2,1)+f(1/2)+f(3/2))/2;\n",
"disp(t(3,1),'T(2,0) : ');\n",
"\n",
"t(4,1)=(t(3,1)+.5*(f(1/4)+f(3/4)+f(5/4)+f(7/4)))/2;\n",
"disp(t(4,1),'T(3,0) : ');"
   ]
   }
,
{
		   "cell_type": "markdown",
		   "metadata": {},
		   "source": [
			"## Example 6.9: Simpsons_Adaptive_Quatrature.sce"
		   ]
		  },
  {
"cell_type": "code",
	   "execution_count": null,
	   "metadata": {
	    "collapsed": true
	   },
	   "outputs": [],
"source": [
"//Simpson's Adaptive Quatrature\n",
"clc;\n",
"clear;\n",
"close();\n",
"format('v',10);\n",
"funcprot(0);\n",
"deff('[y]=f(x)','y=exp(x)');\n",
"a = 0.5;\n",
"b = 1;\n",
"h = (b-a)/2;\n",
"S1 = h*(f(a)+4*f((a+b)/2)+f(b))/3;\n",
"disp(S1,'S1 : ');\n",
"\n",
"S2 = h*(f(a)+4*f((3*a+b)/4)+2*f((a+b)/2)+4*f((a+3*b)/4)+f(b))/6;\n",
"disp(S2,'S2 : ');\n",
"\n",
"err = abs(S2-S1)/15;\n",
"disp(err,'An estimate of the error in S2 is : ' );\n",
"\n",
"act = integrate('exp(x)','x',.5,1)\n",
"act_err = abs(act-S2);\n",
"disp(act_err,'The Actual error in S2 is : ');"
   ]
   }
],
"metadata": {
		  "kernelspec": {
		   "display_name": "Scilab",
		   "language": "scilab",
		   "name": "scilab"
		  },
		  "language_info": {
		   "file_extension": ".sce",
		   "help_links": [
			{
			 "text": "MetaKernel Magics",
			 "url": "https://github.com/calysto/metakernel/blob/master/metakernel/magics/README.md"
			}
		   ],
		   "mimetype": "text/x-octave",
		   "name": "scilab",
		   "version": "0.7.1"
		  }
		 },
		 "nbformat": 4,
		 "nbformat_minor": 0
}
