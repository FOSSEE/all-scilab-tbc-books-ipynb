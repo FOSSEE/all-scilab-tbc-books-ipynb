{
"cells": [
 {
		   "cell_type": "markdown",
	   "metadata": {},
	   "source": [
       "# Chapter 4: Eigenvalues and eigenvectors"
	   ]
	},
{
		   "cell_type": "markdown",
		   "metadata": {},
		   "source": [
			"## Example 4.10: Householder_Matrix.sce"
		   ]
		  },
  {
"cell_type": "code",
	   "execution_count": null,
	   "metadata": {
	    "collapsed": true
	   },
	   "outputs": [],
"source": [
"//Householder Matrix\n",
"clc;\n",
"clear;\n",
"close();\n",
"format('v',7);\n",
"e = [1;0;0];\n",
"x = [-1;1;4];\n",
"disp(e , 'e = ');\n",
"disp(x , 'x = ');\n",
"//considering the positive k according to sign convention \n",
"k = sqrt(x'*x);\n",
"disp(k,'k = ');\n",
"u = x - k*e;\n",
"disp(u,'u = ');\n",
"Q = eye(3,3) - 2*u*u'/(u'*u);\n",
"disp(Q,'Householder Matrix : ')"
   ]
   }
,
{
		   "cell_type": "markdown",
		   "metadata": {},
		   "source": [
			"## Example 4.11: Householder_methods.sce"
		   ]
		  },
  {
"cell_type": "code",
	   "execution_count": null,
	   "metadata": {
	    "collapsed": true
	   },
	   "outputs": [],
"source": [
"//Householder methods\n",
"clc;\n",
"clear;\n",
"close();\n",
"format('v',7);\n",
"A = [2 -1 1 4;-1 3 1 2;1 1 5 -3;4 2 -3 6];\n",
"disp(A, 'A = ');\n",
"n=4;\n",
"for r=1:n-2\n",
"    x = A(r+1:n,r);\n",
"    f = eye(n-r,n-r);\n",
"    e = f(:,1)\n",
"    I = eye(r,r);\n",
"    O(1:n-r,r) = 0;\n",
"    //calculating Q\n",
"    k = sqrt(x'*x);\n",
"    u = x - k*e;\n",
"    Q = eye(n-r,n-r) - 2*u*u'/(u'*u);\n",
"    //substituting in P \n",
"    P(1:r,1:r)= I;\n",
"    P(r+1:n,1:r)=0;\n",
"    P(1:r,r+1:n)=0;\n",
"    P(r+1:n,r+1:n)=Q;\n",
"    A = P*A*P;\n",
"    disp(A,Q,P,'The P Q and A matrix are ; ')\n",
"end\n",
"C = A;\n",
"disp(C,'The tridiagonal matrix by householder method is : ')"
   ]
   }
,
{
		   "cell_type": "markdown",
		   "metadata": {},
		   "source": [
			"## Example 4.12: stable_LR_method.sce"
		   ]
		  },
  {
"cell_type": "code",
	   "execution_count": null,
	   "metadata": {
	    "collapsed": true
	   },
	   "outputs": [],
"source": [
"//stable LR method\n",
"clc;\n",
"clear;\n",
"close();\n",
"format('v',7);\n",
"A = [2 1 3 1;-1 2 2 1;1 0 1 0;-1 -1 -1 1];\n",
"disp(A, 'A = ');\n",
"for i = 1:6\n",
"   [L,R,P]= lu(A);\n",
"   A = R*P*L; \n",
"   disp(A,R,L,'The L R and A matrix are : ');\n",
"end\n",
"disp(A,'The (1,1) and (4,4) elements have converged to real eigenvalues')\n",
"X = [A(2,2) A(2,3);A(3,2) A(3,3)];\n",
"E = spec(X);\n",
"disp(E,'Although submatrix themselves are not converging their eigen values converges.')"
   ]
   }
,
{
		   "cell_type": "markdown",
		   "metadata": {},
		   "source": [
			"## Example 4.13: Orthogonal_decomposition_QR_method.sce"
		   ]
		  },
  {
"cell_type": "code",
	   "execution_count": null,
	   "metadata": {
	    "collapsed": true
	   },
	   "outputs": [],
"source": [
"//Orthogonal decomposition - QR method\n",
"//reduce A to tridiagonal form\n",
"clc;\n",
"clear;\n",
"close();\n",
"format('v',7);\n",
"A1 = [1 4 2;-1 2 0;1 3 -1];\n",
"disp(A1, 'A = ');\n",
"// zero is created in lower triangle\n",
"//by taking the rotation matrix X1=[c s 0;-s c 0;0 0 1]; where c=cos and s=sin\n",
"//O is theta\n",
"\n",
"Q = eye(3,3);\n",
"for i=2:3\n",
"    for j=1:i-1\n",
"        p=i;q=j;\n",
"        O = -atan(A1(p,q)/(A1(q,q)));\n",
"        c = cos(O);\n",
"        s = sin(O);\n",
"        X = eye(3,3);\n",
"        X(p,p)=c;\n",
"        X(q,q)=c;\n",
"        X(p,q)=-s;\n",
"        X(q,p)=s;\n",
"        A1 = X'*A1;  \n",
"        Q = Q*X;\n",
"        disp(A1,X,'The X and A matrix : ');\n",
"    end\n",
"end\n",
"R = A1;\n",
"disp(R,Q,'Hence the original matrix can be decomposed as : ')"
   ]
   }
,
{
		   "cell_type": "markdown",
		   "metadata": {},
		   "source": [
			"## Example 4.14: Reduction_to_upper_Hessenberg_form.sce"
		   ]
		  },
  {
"cell_type": "code",
	   "execution_count": null,
	   "metadata": {
	    "collapsed": true
	   },
	   "outputs": [],
"source": [
"//Redduction to upper Hessenberg form\n",
"clc;\n",
"clear;\n",
"close();\n",
"format('v',7);\n",
"A1 = [4 2 1 -3;2 4 1 -3;3 2 2 -3;1 2 1 0];\n",
"disp(A1, 'A = ' );\n",
"//the element with largest modulus below diagonal in first column need to be at the top and then similarly for column 2\n",
"A1=gsort(A1,'lr');\n",
"temp = A1(:,3);\n",
"A1(:,3) = A1(:,2);\n",
"A1(:,2) = temp;\n",
"M1 = eye(4,4);\n",
"M1(3,2) = A1(3,1)/A1(2,1);\n",
"M1(4,2) = A1(4,1)/A1(2,1);\n",
"A2 = inv(M1)*A1*M1;\n",
"disp(A2,M1, 'M1 and A2 : ')\n",
"A2=gsort(A2,'lr');\n",
"temp = A2(:,3);\n",
"A2(:,3) = A2(:,4);\n",
"A2(:,4) = temp;\n",
"M2 = eye(4,4);\n",
"M2(4,3) = A2(4,2)/A2(3,2);\n",
"A3 = inv(M2)*A2*M2;\n",
"disp(M2,'M2 = ');\n",
"disp(A3,'Upper Hessenberg Matrix :')\n",
"\n",
"\n",
"//for i=2:n\n",
"//    M =eye(4,4);\n",
"//    for j=i+1:n\n",
"//        M(j,i) = A(j,)\n",
"//    end\n",
"//end"
   ]
   }
,
{
		   "cell_type": "markdown",
		   "metadata": {},
		   "source": [
			"## Example 4.15: Redduction_to_upper_Hessenberg_form_and_calculating_eigen_values.sce"
		   ]
		  },
  {
"cell_type": "code",
	   "execution_count": null,
	   "metadata": {
	    "collapsed": true
	   },
	   "outputs": [],
"source": [
"//Redduction to upper Hessenberg form and calculating eigen values\n",
"clc;\n",
"clear;\n",
"close();\n",
"format('v',7);\n",
"A1 = [4 2 1 -3;2 4 1 -3;3 2 2 -3;1 2 1 0];\n",
"//the element with largest modulus below diagonal in first column need to be at the top and then similarly for column 2\n",
"A1=gsort(A1,'lr');\n",
"temp = A1(:,3);\n",
"A1(:,3) = A1(:,2);\n",
"A1(:,2) = temp;\n",
"M1 = eye(4,4);\n",
"M1(3,2) = A1(3,1)/A1(2,1);\n",
"M1(4,2) = A1(4,1)/A1(2,1);\n",
"A2 = inv(M1)*A1*M1;\n",
"\n",
"A2=gsort(A2,'lr');\n",
"temp = A2(:,3);\n",
"A2(:,3) = A2(:,4);\n",
"A2(:,4) = temp;\n",
"M2 = eye(4,4);\n",
"M2(4,3) = A2(4,2)/A2(3,2);\n",
"A3 = inv(M2)*A2*M2;\n",
"H = A3;\n",
"disp(H,'Upper Hessenberg Matrix :')\n",
"l =0;\n",
"for i=4:-1:1\n",
"    K =H(1:i,1:i);\n",
"    while abs(K(i,i)-l)>0.005\n",
"        l=K(i,i);\n",
"        [Q,R]=qr(K-K(i,i)*eye(i,i));\n",
"        K = R*Q + K(i,i)*eye(i,i);\n",
"    end\n",
"    l = 0;\n",
"    EV(i) = K(i,i);\n",
"end\n",
"disp(EV,'Eigen Values : ')"
   ]
   }
,
{
		   "cell_type": "markdown",
		   "metadata": {},
		   "source": [
			"## Example 4.1: Power_Method_of_finding_largest_Eigen_value.sce"
		   ]
		  },
  {
"cell_type": "code",
	   "execution_count": null,
	   "metadata": {
	    "collapsed": true
	   },
	   "outputs": [],
"source": [
"//The Power Method of finding largest Eigen value of given matrix\n",
"clear;\n",
"clc;\n",
"close();\n",
"A=[3 0 1;2 2 2;4 2 5];   //Given Matrix\n",
"u0=[1 1 1]';    //Intial vector\n",
"v=A*u0;\n",
"a=max(u0);\n",
"while abs(max(v)-a)>0.05    //for accuracy\n",
"  a=max(v);\n",
"  u0=v/max(v);\n",
"  v=A*u0;\n",
"end\n",
"format('v',4);\n",
"disp(max(v),'Eigen value :')\n",
"format('v',5);\n",
"disp(u0,'Eigen vector :')"
   ]
   }
,
{
		   "cell_type": "markdown",
		   "metadata": {},
		   "source": [
			"## Example 4.2: Power_Method_of_finding_largest_Eigen_value.sce"
		   ]
		  },
  {
"cell_type": "code",
	   "execution_count": null,
	   "metadata": {
	    "collapsed": true
	   },
	   "outputs": [],
"source": [
"//The Power Method of finding largest Eigen value of given matrix\n",
"clear;\n",
"clc;\n",
"close();\n",
"A=[3 0 1;2 2 2;4 2 5];\n",
"new_A=A-7*eye(3,3);   //Given Matrix\n",
"u0=[1 1 1]';    //Intial vector\n",
"v=new_A*u0;\n",
"a=max(abs(u0));\n",
"while abs(max(abs(v))-a)>0.005    //for accuracy\n",
"  a=max(abs(v));\n",
"  u0=v/max(abs(v));\n",
"  v=new_A*u0;\n",
"end\n",
"format('v',5);\n",
"disp(max(v),'Eigen value :')\n",
"format('v',5);\n",
"disp(u0,'Eigen vector :')"
   ]
   }
,
{
		   "cell_type": "markdown",
		   "metadata": {},
		   "source": [
			"## Example 4.3: Convergence_of_Inverse_Iteration.sce"
		   ]
		  },
  {
"cell_type": "code",
	   "execution_count": null,
	   "metadata": {
	    "collapsed": true
	   },
	   "outputs": [],
"source": [
"//Convergence of Inverse Iteration\n",
"clc;\n",
"clear;\n",
"close();\n",
"format('v',4);\n",
"A = [3 0 1;2 2 2; 4 2 5];\n",
"e1 = 7.00;\n",
"e2 = 1.02;\n",
"p = sum(diag(A))-e1-e2;\n",
"disp(A, 'A = ');\n",
"A = A - p*eye(3,3);\n",
"disp(A,'A-1.98I = ');\n",
"L = [1 0 0; 0.50 1 0; 0.26 0.52 1];\n",
"U = [4 2 3.02; 0 -.98 0.49; 0 0 -.03];\n",
"disp(L,U,'The decomposition of A - 1.98I (L,U): ');\n",
"u = [1,1,1]';\n",
"I = inv(U)*inv(L);\n",
"for i = 1:3\n",
"    v = inv(U)*inv(L)*u;\n",
"    disp(max(v),v,u,i-1,'The values of s u(s) v(s+1) and max(v(s+1)) : ');\n",
"    u = v./max(v);\n",
"end\n",
"disp(u,'The Eigen Vector : ');\n",
"ev = p+1/max(v);\n",
"disp(ev,'The approx eigen value  :');"
   ]
   }
,
{
		   "cell_type": "markdown",
		   "metadata": {},
		   "source": [
			"## Example 4.4: Deflatio.sce"
		   ]
		  },
  {
"cell_type": "code",
	   "execution_count": null,
	   "metadata": {
	    "collapsed": true
	   },
	   "outputs": [],
"source": [
"//Deflation\n",
"clc;\n",
"clear;\n",
"close();\n",
"A = [10 -6 -4; -6 11 2; -4 2 6];\n",
"P = [1 0 0;-1 1 0;-0.5 0 1];\n",
"disp(P,A,'The A and the P(transformation matrix) are : ');\n",
"B = inv(P)*A*P;\n",
"disp(B,'Hence B = ')\n",
"C = B;\n",
"C(1,:) = [];\n",
"C(:,1) = [];\n",
"disp(C,'The deflated matrix : ');\n",
"Y = spec(C);\n",
"disp(Y,'The matrix A therefore has  eigen values : ');\n",
"e1 = [1/3,1,-1/2]';\n",
"e2 = [2/3,1,1]';\n",
"disp(e1,e2,'The eigen values of B are : ');\n",
"x1 = P*e1;\n",
"x2 = P*e2;\n",
"disp(3/2.*x1,3/2.*x2,'The eigen vextors of the orginal matrix A : ')"
   ]
   }
,
{
		   "cell_type": "markdown",
		   "metadata": {},
		   "source": [
			"## Example 4.5: Threshold_serial_Jacobi_Method.sce"
		   ]
		  },
  {
"cell_type": "code",
	   "execution_count": null,
	   "metadata": {
	    "collapsed": true
	   },
	   "outputs": [],
"source": [
"//Threshold serial Jacobi Method\n",
"//taking threshold values 0.5 and 0.05\n",
"clc;\n",
"clear;\n",
"close();\n",
"format('v',9);\n",
"A = [3 0.4 5;0.4 4 0.1;5 0.1 -2];\n",
"//for first cycle |0.4|<0.5 trasnformation is omitted\n",
"//|5|>0.5 a zero is created at (1,3)\n",
"//by taking the rotation matrix P1=[c 0 s; 0 1 0;-s 0 c]; where c=cos and s=sin\n",
"//O is theta\n",
"p=1;q=3;\n",
"O = 0.5*atan(2*A(p,q)/(A(q,q)-A(p,p)));\n",
"P1 = [cos(O) 0 sin(O);0 1 0;-sin(O) 0 cos(O)];\n",
"A1 = A;\n",
"A2 = inv(P1)*A*P1;\n",
"//as all the off-diagonals < 0.5 the first cycle is complete\n",
"disp(diag(A2),'The eigen values for case 1 : ')\n",
"\n",
"//second cycle for 0.05\n",
"count =0;\n",
"EV = P1;\n",
"for i=1:3\n",
"    for j=i+1:3\n",
"        if A2(i,j)>0.05 then\n",
"            p=i;q=j;\n",
"            O = 0.5*atan(2*A2(p,q)/(A2(q,q)-A2(p,p)));\n",
"            c = cos(O);\n",
"            s = sin(O);\n",
"            P = eye(3,3);\n",
"            P(p,p)=c;\n",
"            P(q,q)=c;\n",
"            P(p,q)=s;\n",
"            P(q,p)=-s;\n",
"            A = inv(P)*A2*P;\n",
"            disp(EV,'value of P*')\n",
"            EV = EV * P;\n",
"            count = count+1;\n",
"        end\n",
"    end\n",
"end\n",
"//eigen values are the diagonal elements of A and the column of P gives eigen vectors\n",
"disp(diag(A),'Eigen values : ')\n",
"disp(EV,'Correspoding eigen vectors : ')"
   ]
   }
,
{
		   "cell_type": "markdown",
		   "metadata": {},
		   "source": [
			"## Example 4.6: The_Gerchgorin_circle.sce"
		   ]
		  },
  {
"cell_type": "code",
	   "execution_count": null,
	   "metadata": {
	    "collapsed": true
	   },
	   "outputs": [],
"source": [
"//The Gerchgorin circle\n",
"clc;\n",
"clear;\n",
"close();\n",
"format('v',9);\n",
"x = [0:.1:14];\n",
"plot2d(0,0,-1,'031',' ',[0,-5,14,5]);\n",
"plot(x,0);\n",
"A = [5 1 0;-1 3 1;-2 1 10];\n",
"disp(A,'A = ');\n",
"for i=1:3\n",
"   disp(A(i,i),'Centers are : ');\n",
"    radius = 0;\n",
"    for j=1:3\n",
"        if j~=i then\n",
"            radius = radius + abs(A(i,j));\n",
"        end\n",
"    end\n",
"    disp(radius,'Radius : ');\n",
"    xarc(A(i,i)-radius,radius,2*radius,2*radius,0,360*64);\n",
"end\n",
"disp('The figure indicates that 2 of the eigenvalues of A lie inside the intersected region of 2 circles, and the remaining eigen value in the other circle.');"
   ]
   }
,
{
		   "cell_type": "markdown",
		   "metadata": {},
		   "source": [
			"## Example 4.7: Sturm_sequence_property.sce"
		   ]
		  },
  {
"cell_type": "code",
	   "execution_count": null,
	   "metadata": {
	    "collapsed": true
	   },
	   "outputs": [],
"source": [
"//Sturm sequence property\n",
"clc;\n",
"clear;\n",
"close();\n",
"C=[2,4,0,0;4,10,3,0;0,3,9,-1;0,0,-1,5];\n",
"//find the eigen vClues lying (0,5)\n",
"p=0;\n",
"\n",
"f(1)=1;\n",
"f(2)=C(1,1)-p;\n",
"count = 0;\n",
"if f(1)*f(2)>=0 then\n",
"    count = 1;\n",
"end\n",
"for r=3:5\n",
"    br=C(r-2,r-1);\n",
"    f(r)=-br^2*f(r-2)+(C(r-1,r-1)-p)*f(r-1);\n",
"    if f(r)*f(r-1)>=0 then\n",
"        count = count+1;\n",
"    end\n",
"end\n",
"disp(f,'Sturm sequences')\n",
"disp(count,'Number of eigen values strickly greater than 0 : ')\n",
"\n",
"p=5;\n",
"f(1)=1;\n",
"f(2)=C(1,1)-p;\n",
"count1 = 0;\n",
"if f(1)*f(2)>=0 then\n",
"    count1 = 1;\n",
"end\n",
"for r=3:5\n",
"    br=C(r-2,r-1);\n",
"    f(r)=-br^2*f(r-2)+(C(r-1,r-1)-p)*f(r-1);\n",
"    if f(r)*f(r-1)>=0 then\n",
"        count1 = count1+1;\n",
"    end\n",
"end\n",
"disp(f,'Sturm sequences')\n",
"disp(count1,'Number of eigen values strickly greater than 5 : ')\n",
"disp(count-count1,'Number of eigen values between 0 and 5 : ')"
   ]
   }
,
{
		   "cell_type": "markdown",
		   "metadata": {},
		   "source": [
			"## Example 4.8: Gerschgorins_first_theorem.sce"
		   ]
		  },
  {
"cell_type": "code",
	   "execution_count": null,
	   "metadata": {
	    "collapsed": true
	   },
	   "outputs": [],
"source": [
"//Gerschgorin's first theorem\n",
"clc;\n",
"clear;\n",
"close();\n",
"//find the eigen values lying [0,4] with an error of 0.25\n",
"//taking p at mid point of the interval\n",
"C=[2,-1,0;-1,2,-1;0,-1,1];\n",
"p=2;\n",
"\n",
"f(1)=1;\n",
"f(2)=C(1,1)-p;\n",
"count = 0;\n",
"if f(1)*f(2)>0 then\n",
"    count = 1;\n",
"end\n",
"for r=3:4\n",
"    br=C(r-2,r-1);\n",
"    f(r)=-br^2*f(r-2)+(C(r-1,r-1)-p)*f(r-1);\n",
"    if f(r)*f(r-1)>0 then\n",
"        count = count+1;\n",
"//    elseif f(r-1)==0 && f(r-1)*        ?????? check for sign when f(r)=zero\n",
"    end\n",
"end\n",
"disp(f,'Sturm sequences')\n",
"disp(count,'Number of eigen values strickly greater than 2 : ')\n",
"\n",
"p=1;\n",
"f(1)=1;\n",
"f(2)=C(1,1)-p;\n",
"count1 = 0;\n",
"if f(1)*f(2)>0 then\n",
"    count1 = 1;\n",
"end\n",
"for r=3:4\n",
"    br=C(r-2,r-1);\n",
"    f(r)=-br^2*f(r-2)+(C(r-1,r-1)-p)*f(r-1);\n",
"    if f(r)*f(r-1)>0 then\n",
"        count1 = count1+1;\n",
"    end\n",
"end\n",
"disp(f,'Sturm sequences')\n",
"disp(count1,'Number of eigen values strickly greater than 1 : ')\n",
"\n",
"p=1.5;\n",
"f(1)=1;\n",
"f(2)=C(1,1)-p;\n",
"count2 = 0;\n",
"if f(1)*f(2)>0 then\n",
"    count2 = 1;\n",
"end\n",
"for r=3:4\n",
"    br=C(r-2,r-1);\n",
"    f(r)=-br^2*f(r-2)+(C(r-1,r-1)-p)*f(r-1);\n",
"    if f(r)*f(r-1)>0 then\n",
"        count2 = count2+1;\n",
"    end\n",
"end\n",
"disp(f,'Sturm sequences')\n",
"disp(count2,'Number of eigen values strickly greater than 1.5 : ')\n",
"disp(p+0.25,'Eigen value lying between [1.5,2] ie with an error of 0.25 is : ')"
   ]
   }
,
{
		   "cell_type": "markdown",
		   "metadata": {},
		   "source": [
			"## Example 4.9: Givens_Method.sce"
		   ]
		  },
  {
"cell_type": "code",
	   "execution_count": null,
	   "metadata": {
	    "collapsed": true
	   },
	   "outputs": [],
"source": [
"//Given's Method\n",
"//reduce A1 to tridiagonal form\n",
"clc;\n",
"clear;\n",
"close();\n",
"format('v',7);\n",
"A1 = [2 -1 1 4;-1 3 1 2;1 1 5 -3;4 2 -3 6];\n",
"disp(A1,'A = ')\n",
"// zero is created at (1,3)\n",
"//by taking the rotation matrix X1=[c 0 s; 0 1 0;-s 0 c]; where c=cos and s=sin\n",
"//O is theta\n",
"\n",
"count =0;\n",
"for i=1:(4-2)\n",
"    for j=i+2:4\n",
"        if abs(A1(i,j))>0 then\n",
"            p=i+1;q=j;\n",
"            O = -atan(A1(p-1,q)/(A1(p-1,p)));\n",
"            c = cos(O);\n",
"            s = sin(O);\n",
"            X = eye(4,4);\n",
"            X(p,p)=c;\n",
"            X(q,q)=c;\n",
"            X(p,q)=s;\n",
"            X(q,p)=-s;\n",
"            \n",
"            A1 = X'*A1*X;  \n",
"            disp(A1, 'Ai = ');\n",
"            disp(X ,'X = ');\n",
"            disp(O, 'Theta = ');\n",
"            count = count+1;\n",
"        end\n",
"    end\n",
"end\n",
"disp(A1,'Reduced A1 to trigonal matrix is : ')"
   ]
   }
],
"metadata": {
		  "kernelspec": {
		   "display_name": "Scilab",
		   "language": "scilab",
		   "name": "scilab"
		  },
		  "language_info": {
		   "file_extension": ".sce",
		   "help_links": [
			{
			 "text": "MetaKernel Magics",
			 "url": "https://github.com/calysto/metakernel/blob/master/metakernel/magics/README.md"
			}
		   ],
		   "mimetype": "text/x-octave",
		   "name": "scilab",
		   "version": "0.7.1"
		  }
		 },
		 "nbformat": 4,
		 "nbformat_minor": 0
}
