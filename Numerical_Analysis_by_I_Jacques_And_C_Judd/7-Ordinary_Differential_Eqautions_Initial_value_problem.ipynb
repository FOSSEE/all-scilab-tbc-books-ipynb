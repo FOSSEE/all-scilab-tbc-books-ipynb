{
"cells": [
 {
		   "cell_type": "markdown",
	   "metadata": {},
	   "source": [
       "# Chapter 7: Ordinary Differential Eqautions Initial value problem"
	   ]
	},
{
		   "cell_type": "markdown",
		   "metadata": {},
		   "source": [
			"## Example 7.10: Runge_Kutta_Methods.sce"
		   ]
		  },
  {
"cell_type": "code",
	   "execution_count": null,
	   "metadata": {
	    "collapsed": true
	   },
	   "outputs": [],
"source": [
"// Runge- Kutta Methods\n",
"clc;\n",
"clear;\n",
"close();\n",
"format('v',8);\n",
"funcprot(0);\n",
"disp('Integral 0 to 2 exp(x)dx');\n",
"deff('[t]=f(x,y)','t=-y^2/(1+x)');\n",
"yn = 1;\n",
"xn = 0;\n",
"h = 0.05;\n",
"for i = 1:4\n",
"    k1 = f(xn,yn);\n",
"    k2 = f(xn+0.5*h,yn+.5*h*k1);\n",
"    k3 = f(xn+0.5*h,yn+.5*h*k2);\n",
"    k4 = f(xn+h,yn+h*k3);\n",
"    yn_1 = yn + h*(k1+2*k2+2*k3+k4)/6;\n",
"    n = i-1;\n",
"    ann(:,i) = [n k1 k2 k3 k4 yn_1]';\n",
"    yn = yn_1;\n",
"    xn = xn+h;\n",
"end\n",
"\n",
"disp(ann,'Calculated integration : ');"
   ]
   }
,
{
		   "cell_type": "markdown",
		   "metadata": {},
		   "source": [
			"## Example 7.11: Eulers_Methods.sce"
		   ]
		  },
  {
"cell_type": "code",
	   "execution_count": null,
	   "metadata": {
	    "collapsed": true
	   },
	   "outputs": [],
"source": [
"// Euler's Methods\n",
"clc;\n",
"clear;\n",
"close();\n",
"format('v',8);\n",
"funcprot(0);\n",
"disp('Integral 0 to 2 exp(x)dx');\n",
"deff('[ud]=f(u,v)','ud=u^2-2*u*v');\n",
"deff('[vd]=g(x,u,v)','vd=u*x+u^2*sin(v)');\n",
"un = 1;\n",
"vn = -1;\n",
"xn = 0;\n",
"h = 0.05;\n",
"for i = 1:2\n",
"    un_1 = un + h*(f(un,vn));\n",
"    disp(un_1);\n",
"    vn_1 = vn + h*(g(xn,un,vn));\n",
"    disp(vn_1);\n",
"    vn = vn_1;\n",
"    un = un_1;\n",
"    xn = xn + h; \n",
"end\n",
"ann = [un vn];\n",
"disp(ann,'Calculated U2 n V2 values : ');"
   ]
   }
,
{
		   "cell_type": "markdown",
		   "metadata": {},
		   "source": [
			"## Example 7.12: Eulers_trapezoidal_predictor_corrector_pair.sce"
		   ]
		  },
  {
"cell_type": "code",
	   "execution_count": null,
	   "metadata": {
	    "collapsed": true
	   },
	   "outputs": [],
"source": [
"// Euler's trapezoidal predictor-corrector pair\n",
"clc;\n",
"clear;\n",
"close();\n",
"format('v',8);\n",
"funcprot(0);\n",
"disp('Integral 0 to 2 exp(x)dx');\n",
"deff('[ud]=f(u,v)','ud=u^2-2*u*v');\n",
"deff('[vd]=g(x,u,v)','vd=u*x+u^2*sin(v)');\n",
"un = 1;\n",
"vn = -1;\n",
"xn = 0;\n",
"h = 0.05;\n",
"for i = 1:2\n",
"    un_1p = un + h*(f(un,vn));\n",
"    disp(un_1p);\n",
"    vn_1p = vn + h*(g(xn,un,vn));\n",
"    disp(vn_1p);\n",
"    un_1c = un + h*(f(un,vn)+f(un_1p,vn_1p))/2;\n",
"    disp(un_1c);\n",
"    vn_1c = vn + h*(g(xn,un,vn)+g(xn+h,un_1p,vn_1p))/2;\n",
"    disp(vn_1c);\n",
"    un_1cc = un + h*(f(un,vn)+f(un_1c,vn_1c))/2;\n",
"    disp(un_1cc);\n",
"    vn_1cc = vn + h*(g(xn,un,vn)+g(xn+h,un_1c,vn_1c))/2;\n",
"    disp(vn_1cc);\n",
"    vn = vn_1cc;\n",
"    un = un_1cc;\n",
"    xn = xn + h; \n",
"end\n",
"ann = [un vn];\n",
"disp(ann,'Calculated U2 n V2 values : ');"
   ]
   }
,
{
		   "cell_type": "markdown",
		   "metadata": {},
		   "source": [
			"## Example 7.13: 4_Stage_Runge_Kutta_method.sce"
		   ]
		  },
  {
"cell_type": "code",
	   "execution_count": null,
	   "metadata": {
	    "collapsed": true
	   },
	   "outputs": [],
"source": [
"// 4-Stage Runge-Kutta method \n",
"clc;\n",
"clear;\n",
"close();\n",
"format('v',8);\n",
"funcprot(0);\n",
"disp('Integral 0 to 2 exp(x)dx');\n",
"deff('[ud]=f(u,v)','ud=u^2-2*u*v');\n",
"deff('[vd]=g(x,u,v)','vd=u*x+u^2*sin(v)');\n",
"un = 1;\n",
"vn = -1;\n",
"xn = 0;\n",
"h = 0.05;\n",
"for i = 1:2\n",
"    k1 = f(un,vn);\n",
"    disp(k1);\n",
"    l1 = g(xn,un,vn);\n",
"    disp(l1);\n",
"    k2 = f(un+.5*h*k1,vn+.5*h*l1) ;\n",
"    disp(k2);\n",
"    l2 = g(xn+.5*h,un+.5*h*k1,vn+.5*h*l1) ;\n",
"    disp(l2);\n",
"    k3 = f(un+.5*h*k2,vn+.5*h*l2) ;\n",
"    disp(k3);\n",
"    l3 = g(xn+.5*h,un+.5*h*k2,vn+.5*h*l2) ;\n",
"    disp(l3);\n",
"    k4 = f(un+h*k3,vn+h*l3);\n",
"    disp(k4);\n",
"    l4 = g(xn+h,un+h*k3,vn+h*l3);\n",
"    disp(l4);\n",
"    un_1 = un + h*(k1+2*k2+2*k3+k4)/6;\n",
"    disp(un_1,'u(n+1) : ');\n",
"    vn_1 = vn + h*(l1+2*l2+2*l3+l4)/6;\n",
"    disp(vn_1,'v(n+1) : ');\n",
"    un = un_1;\n",
"    vn = vn_1;\n",
"    xn = xn +h;\n",
"end\n",
"ann = [un vn];\n",
"disp(ann,'Calculated U2 n V2 values : ');"
   ]
   }
,
{
		   "cell_type": "markdown",
		   "metadata": {},
		   "source": [
			"## Example 7.1: Eulers_Method.sce"
		   ]
		  },
  {
"cell_type": "code",
	   "execution_count": null,
	   "metadata": {
	    "collapsed": true
	   },
	   "outputs": [],
"source": [
"//Euler's Method\n",
"clc;\n",
"clear;\n",
"close();\n",
"format('v',8);\n",
"funcprot(0);\n",
"deff('[g]=f(x,y)','g= -y^2/(1+x)');\n",
"y = 1;\n",
"x = 0;\n",
"h = 0.05;\n",
"while x<0.2\n",
"    y = y - 0.05*y^2/(1+x);\n",
"    x = x + h;\n",
"    disp(y,x,'Value of y at x :');\n",
"end\n",
"disp(y,'The calculated value of y(0.2):');\n",
"x = 0.2;\n",
"act = 1/(1+log(1+x));\n",
"disp(act,'The exact value is of y(0.2): ');\n",
"err = act - y;\n",
"disp(err,'The error is :');"
   ]
   }
,
{
		   "cell_type": "markdown",
		   "metadata": {},
		   "source": [
			"## Example 7.2: Eulers_trapezoidal_predictor_corrector_pair.sce"
		   ]
		  },
  {
"cell_type": "code",
	   "execution_count": null,
	   "metadata": {
	    "collapsed": true
	   },
	   "outputs": [],
"source": [
"//Euler's trapezoidal predictor-corrector pair\n",
"clc;\n",
"clear;\n",
"close();\n",
"format('v',8);\n",
"funcprot(0);\n",
"deff('[g]=f(x,y)','g= -y^2/(1+x)');\n",
"y = 1;\n",
"x = 0;\n",
"h = 0.05;\n",
"i=0;\n",
"while x<0.2\n",
"    y0 = y - 0.05*y^2/(1+x);\n",
"    disp(y0,'The Y0 :')\n",
"    y1 = y - h*(y^2/(1+x)+y0^2/(1+x+h))/2;\n",
"    disp(y1,'The Y1 :')\n",
"    y2 = y - h*(y^2/(1+x)+y1^2/(1+x+h))/2;\n",
"    disp(y2,'The Y2 :')\n",
"    y = y2;\n",
"    x = x + h;\n",
"end\n",
"disp(y2,'The calculated value of y(0.2):');\n",
"x = 0.2;\n",
"act = 1/(1+log(1+x));\n",
"disp(act,'The exact value is of y(0.2): ');\n",
"err = act - y2;\n",
"disp(err,'The error is :');"
   ]
   }
,
{
		   "cell_type": "markdown",
		   "metadata": {},
		   "source": [
			"## Example 7.3: Mid_point_formula.sce"
		   ]
		  },
  {
"cell_type": "code",
	   "execution_count": null,
	   "metadata": {
	    "collapsed": true
	   },
	   "outputs": [],
"source": [
"//Mid-point formula\n",
"clc;\n",
"clear;\n",
"close();\n",
"format('v',8);\n",
"funcprot(0);\n",
"deff('[g]=f(x,y)','g= -y^2/(1+x)');\n",
"y0 = 1;\n",
"y1 = 0.95335;\n",
"x = 0.05;\n",
"h = 0.05;\n",
"i=0;\n",
"while x<0.2\n",
"    y2 = y0 - 0.1*y1^2/(1+x);\n",
"    disp(y2,'The Y :')\n",
"    y0 = y1;\n",
"    y1 = y2;\n",
"    x = x + h;\n",
"end\n",
"disp(y2,'The calculated value of y(0.2):');\n",
"x = 0.2;\n",
"act = 1/(1+log(1+x));\n",
"disp(act,'The exact value is of y(0.2): ');\n",
"err = act - y2;\n",
"disp(err,'The error is :');"
   ]
   }
,
{
		   "cell_type": "markdown",
		   "metadata": {},
		   "source": [
			"## Example 7.4: Illustraion_of_Taylor_Series_for_approximation.sce"
		   ]
		  },
  {
"cell_type": "code",
	   "execution_count": null,
	   "metadata": {
	    "collapsed": true
	   },
	   "outputs": [],
"source": [
"//Illustraion of Taylor Series for approximation\n",
"//It needs symbolic toolbox\n",
"clc;\n",
"clear;\n",
"close();\n",
"cd ~/Desktop/maxima_symbolic;\n",
"exec symbolic.sce\n",
"y0 = 1;\n",
"x0 = 0;\n",
"y1_0 = -y0^2/(1+x0);\n",
"y2_0 = (2*y0^3+y0^2)/((1+x0)^2);\n",
"y3_0 = -(6*y0^4 + 6*y0^3 + 2*y0^2)/((1+x0)^3);\n",
"//similarly\n",
"y4_0 = 88;\n",
"y5_0 = -694;\n",
"y6_0 = 6578;\n",
"y7_0 = -72792;\n",
"syms r h;\n",
"format('v',10);\n",
"yxr = 1 - r*h + (y2_0*(r*h)^2)/factorial(2) - (y3_0*(r*h)^3)/factorial(3) + (y4_0*(r*h)^4)/factorial(4) - (y5_0*(r*h)^5)/factorial(5) +(y6_0*(r*h)^6)/factorial(6) - (y7_0*(r*h)^7)/factorial(7);\n",
"yxr_5d = 1 - r*h + (y2_0*(r*h)^2)/factorial(2) + (y3_0*(r*h)^3)/factorial(3) + (y4_0*(r*h)^4)/factorial(4);\n",
"h = 0.05;\n",
"r = 1;\n",
"yx1 = eval(yxr_5d);\n",
"format('v',8);\n",
"disp(dbl(yx1), 'Value when r = 1 :');\n",
"\n",
"syms r h;\n",
"format('v',10);\n",
"yxr = 1 - r*h + (y2_0*(r*h)^2)/factorial(2) - (y3_0*(r*h)^3)/factorial(3) + (y4_0*(r*h)^4)/factorial(4) - (y5_0*(r*h)^5)/factorial(5) +(y6_0*(r*h)^6)/factorial(6) - (y7_0*(r*h)^7)/factorial(7);\n",
"yxr_5d = 1 - r*h + (y2_0*(r*h)^2)/factorial(2) + (y3_0*(r*h)^3)/factorial(3) + (y4_0*(r*h)^4)/factorial(4) + (y5_0*(r*h)^5)/factorial(5) ;\n",
"h = 0.05;\n",
"r = 2;\n",
"yx1 = eval(yxr_5d);\n",
"format('v',8);\n",
"disp(dbl(yx1), 'Value when r = 2 :')"
   ]
   }
,
{
		   "cell_type": "markdown",
		   "metadata": {},
		   "source": [
			"## Example 7.5: 3_Step_Adams_Bashforth_and_2_step_Adam_Moulton_formula.sce"
		   ]
		  },
  {
"cell_type": "code",
	   "execution_count": null,
	   "metadata": {
	    "collapsed": true
	   },
	   "outputs": [],
"source": [
"// 3-Step Adams - Bashforth and 2- step Adam-Moulton formula\n",
"clc;\n",
"clear;\n",
"close();\n",
"format('v',8);\n",
"funcprot(0);\n",
"disp('Integral 0 to 2 exp(x)dx');\n",
"deff('[yd]=f(x,y)','yd = -y^2/(1+x)');\n",
"\n",
"y0 = 1;\n",
"x0 = 0;\n",
"h = 0.05;\n",
"x1 = x0+h;\n",
"x2 = x1+h;\n",
"y2 = 0.91298;\n",
"y1 = 0.95348;\n",
"for i = 1:2\n",
"    yn = y2 + h*(23*f(x2,y2)-16*f(x1,y1)+5*f(x0,y0))/12;\n",
"    disp(yn,'yn(0) = ');\n",
"    yn_i = yn;\n",
"    yn_i = y2 + h*(5*f(x2+h,yn_i)+8*f(x2,y2)-f(x1,y1))/12;\n",
"    disp(yn_i , 'yn(i)');\n",
"    yn_i = y2 + h*(5*f(x2+h,yn_i)+8*f(x2,y2)-f(x1,y1))/12;\n",
"    disp(yn_i , 'yn(i)');\n",
"    y0 = y1;y1 = y2;y2 = yn_i;\n",
"    x0 = x1;x1 = x2;x2 = x2+h;\n",
"end\n",
"x = 0.2 ;\n",
"act = 1/(1+log(1+x));\n",
"disp(act,'The exact value is of y(0.2): ');\n",
"err = act - y2;\n",
"disp(err,'The error is :');"
   ]
   }
],
"metadata": {
		  "kernelspec": {
		   "display_name": "Scilab",
		   "language": "scilab",
		   "name": "scilab"
		  },
		  "language_info": {
		   "file_extension": ".sce",
		   "help_links": [
			{
			 "text": "MetaKernel Magics",
			 "url": "https://github.com/calysto/metakernel/blob/master/metakernel/magics/README.md"
			}
		   ],
		   "mimetype": "text/x-octave",
		   "name": "scilab",
		   "version": "0.7.1"
		  }
		 },
		 "nbformat": 4,
		 "nbformat_minor": 0
}
