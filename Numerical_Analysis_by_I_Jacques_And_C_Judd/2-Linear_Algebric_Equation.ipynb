{
"cells": [
 {
		   "cell_type": "markdown",
	   "metadata": {},
	   "source": [
       "# Chapter 2: Linear Algebric Equation"
	   ]
	},
{
		   "cell_type": "markdown",
		   "metadata": {},
		   "source": [
			"## Example 2.1: Illutrates_the_effect_of_the_partial_pivoting.sce"
		   ]
		  },
  {
"cell_type": "code",
	   "execution_count": null,
	   "metadata": {
	    "collapsed": true
	   },
	   "outputs": [],
"source": [
"//Illutrates the effect of the partial pivoting using 3 significant //figure arithmetic with rounding\n",
"//first done without pivoting and then with partial pivoting \n",
"clear;\n",
"close();\n",
"clc;\n",
"A=[0.610,1.23,1.72;1.02,2.15,-5.51;-4.34,11.2,-4.25];\n",
"B=[0.792;12.0;16.3];\n",
"C=[A,B];\n",
"format('v',10);\n",
"n=3;\n",
"for k=1:n-1\n",
"  for i=k+1:n\n",
"    c=C(i,k)/C(k,k);\n",
"    for j=k:n+1\n",
"      C(i,j)=C(i,j)-c*C(k,j);\n",
"    end\n",
"  end\n",
"end\n",
"x3=C(3,4)/C(3,3);\n",
"x2=(C(2,4)-C(2,3)*x3)/C(2,2);\n",
"x1=(C(1,4)-C(1,3)*x3-C(1,2)*x2)/C(1,1);\n",
"disp([x1,x2,x3],'Answers without partial pivoting : ')\n",
"\n",
"\n",
"C=[A,B];\n",
"format('v',5);\n",
"n=3;\n",
"for k=1:n-1\n",
"  m = max(abs(A(:,k)));\n",
"  for l=k:n\n",
"    if C(l,k)==m\n",
"      temp = C(l,:);\n",
"      C(l,:)= C(k,:);\n",
"      C(k,:)=temp;\n",
"      break;\n",
"    end\n",
"  end\n",
"  for i=k+1:n\n",
"    c=C(i,k)/C(k,k);\n",
"    for j=k:n+1\n",
"      C(i,j)=C(i,j)-c*C(k,j);\n",
"    end\n",
"  end\n",
"end\n",
"x3=C(3,4)/C(3,3);\n",
"x2=(C(2,4)-C(2,3)*x3)/C(2,2);\n",
"x1=(C(1,4)-C(1,3)*x3-C(1,2)*x2)/C(1,1);\n",
"disp([x1,x2,x3],'Answers using partial pivoting : ')"
   ]
   }
,
{
		   "cell_type": "markdown",
		   "metadata": {},
		   "source": [
			"## Example 2.2: Decomposition_in_LU_form.sce"
		   ]
		  },
  {
"cell_type": "code",
	   "execution_count": null,
	   "metadata": {
	    "collapsed": true
	   },
	   "outputs": [],
"source": [
"//Illustrates the decomposition of every matrix into product of lower //and upper triangular matrix if diagonal elements of any one is '1' //then L and U could uniquely be determined. \n",
"clear;\n",
"close();\n",
"clc;\n",
"format('v',5);\n",
"A = {4,-2,2;4,-3,-2;2,3,-1];\n",
"L(1,1)=1;L(2,2)=1;L(3,3)=1;\n",
"for i=1:3\n",
"  for j=1:3\n",
"    s=0;\n",
"    if j>=i\n",
"      for k=1:i-1\n",
"        s=s+L(i,k)*U(k,j);\n",
"      end\n",
"      U(i,j)=A(i,j)-s;\n",
"    else\n",
"      for k=1:j-1\n",
"        s=s+L(i,k)*U(k,j);\n",
"      end\n",
"      L(i,j)=(A(i,j)-s)/U(j,j);\n",
"    end\n",
"  end\n",
"end\n",
"disp(L,'L =')\n",
"disp(U,'U =')"
   ]
   }
,
{
		   "cell_type": "markdown",
		   "metadata": {},
		   "source": [
			"## Example 2.3: LU_factorization_method_for_solving_the_system_of_equation.sce"
		   ]
		  },
  {
"cell_type": "code",
	   "execution_count": null,
	   "metadata": {
	    "collapsed": true
	   },
	   "outputs": [],
"source": [
"//Applying LU factorization method for solving the system of equation\n",
"\n",
"clear;\n",
"close();\n",
"clc;\n",
"format('v',5);\n",
"A = {4,-2,2;4,-3,-2;2,3,-1];\n",
"for l=1:3\n",
"  L(l,l)=1;\n",
"end\n",
"for i=1:3\n",
"  for j=1:3\n",
"    s=0;\n",
"    if j>=i\n",
"      for k=1:i-1\n",
"        s=s+L(i,k)*U(k,j);\n",
"      end\n",
"      //disp(s,'sum :');\n",
"      U(i,j)=A(i,j)-s;\n",
"    else\n",
"      //s=0;\n",
"      for k=1:j-1\n",
"        s=s+L(i,k)*U(k,j);\n",
"      end\n",
"      L(i,j)=(A(i,j)-s)/U(j,j);\n",
"    end\n",
"  end\n",
"end\n",
"b=[6;-8;5];\n",
"c=L\b;\n",
"x=U\c;\n",
"disp(x,'Solution of equations :')"
   ]
   }
,
{
		   "cell_type": "markdown",
		   "metadata": {},
		   "source": [
			"## Example 2.4: LU_factorisation_method_for_solving_the_system_of_equation.sce"
		   ]
		  },
  {
"cell_type": "code",
	   "execution_count": null,
	   "metadata": {
	    "collapsed": true
	   },
	   "outputs": [],
"source": [
"//Application of LU factorisation method for solving the system of equation\n",
"//In this case A(1,1)=0 so to avoid the division by 0 we will have to interchange the rows.\n",
"\n",
"clear;\n",
"close();\n",
"clc;\n",
"format('v',5);\n",
"A = {2,2,-2,4;0,1,5,3;1,5,7,-10;-1,1,6,-5];\n",
"for l=1:4\n",
"  L(l,l)=1;\n",
"end\n",
"for i=1:4\n",
"  for j=1:4\n",
"    s=0;\n",
"    if j>=i\n",
"      for k=1:i-1\n",
"        s=s+L(i,k)*U(k,j);\n",
"      end\n",
"      //disp(s,'sum :');\n",
"      U(i,j)=A(i,j)-s;\n",
"    else\n",
"      //s=0;\n",
"      for k=1:j-1\n",
"        s=s+L(i,k)*U(k,j);\n",
"      end\n",
"      L(i,j)=(A(i,j)-s)/U(j,j);\n",
"    end\n",
"  end\n",
"end\n",
"b=[4;-6;14;0];\n",
"c=L\b;\n",
"x=U\c;\n",
"disp(x,'Solution of equations :')"
   ]
   }
,
{
		   "cell_type": "markdown",
		   "metadata": {},
		   "source": [
			"## Example 2.5: Choleski_decompositio.sce"
		   ]
		  },
  {
"cell_type": "code",
	   "execution_count": null,
	   "metadata": {
	    "collapsed": true
	   },
	   "outputs": [],
"source": [
"//Solving the problem using Choleski decomposition \n",
"//Decomposition of a matrix 'A' to L and L'\n",
"\n",
"clear;\n",
"close();\n",
"clc;\n",
"format('v',7)\n",
"A = [4,2,-2;2,10,2;-2,2,3];\n",
"n = 3;\n",
"for i = 1:n\n",
"    for j = 1:i\n",
"        s=0;\n",
"        if i==j\n",
"            for k = 1:j-1\n",
"                s=s+L(j,k)*L(j,k);\n",
"            end\n",
"            L(j,j)= sqrt(A(j,j)-s);\n",
"        else\n",
"            for k = 1:j-1\n",
"                s=s+L(i,k)*L(j,k);\n",
"            end\n",
"            L(i,j)= (A(i,j)-s)/L(j,j);\n",
"        end       \n",
"    end\n",
"end\n",
"U = L';\n",
"disp(L,'Lower triangular matrix is :')\n",
"disp(U,'Upper triangular matrix is :')"
   ]
   }
,
{
		   "cell_type": "markdown",
		   "metadata": {},
		   "source": [
			"## Example 2.6: Jacobi_method.sce"
		   ]
		  },
  {
"cell_type": "code",
	   "execution_count": null,
	   "metadata": {
	    "collapsed": true
	   },
	   "outputs": [],
"source": [
"//Solving the problem using Jacobi method\n",
"//the first case in converging and the 2nd is diverging ..... drawback\n",
"//of jacobi method\n",
"//the ans is correct to 2D place\n",
"\n",
"clear;\n",
"close();\n",
"clc;\n",
"format('v',7);\n",
"x1=[0,0];\n",
"x2=[0,0];\n",
"x3=[0,0];\n",
"x1(1,2)=0.2*(6-2*x2(1,1)+x3(1,1));\n",
"x2(1,2)=0.16667*(4-x1(1,1)+3*x3(1,1));\n",
"x3(1,2)=0.25*(7-2*x1(1,1)-x2(1,1));\n",
"i=1;\n",
"while (abs(x1(1,1)-x1(1,2))>0.5*10^-2 | abs(x2(1,1)-x2(1,2))>0.5*10^-2 | abs(x3(1,1)-x3(1,2))>0.5*10^-2 )\n",
"    x1(1,1)=x1(1,2);\n",
"    x2(1,1)=x2(1,2);\n",
"    x3(1,1)=x3(1,2);\n",
"    x1(1,2)=0.2*(6-2*x2(1,1)+x3(1,1));\n",
"    x2(1,2)=0.16667*(4-x1(1,1)+3*x3(1,1));\n",
"    x3(1,2)=0.25*(7-2*x1(1,1)-x2(1,1));\n",
"    i=i+1;\n",
"end\n",
"disp([x1; x2; x3],'Answers are :')\n",
"disp(i,'Number of Iterations :')\n",
"\n",
"\n",
"x1=[0,0];\n",
"x2=[0,0];\n",
"x3=[0,0];\n",
"x1(1,2)=4-6*x2(1,1)+3*x3(1,1);\n",
"x2(1,2)=0.5*(6-5*x1(1,1)+x3(1,1));\n",
"x3(1,2)=0.25*(7-2*x1(1,1)-x2(1,1));\n",
"i=1;\n",
"while (abs(x1(1,1)-x1(1,2))>0.5*10^-2 | abs(x2(1,1)-x2(1,2))>0.5*10^-2 | abs(x3(1,1)-x3(1,2))>0.5*10^-2 )\n",
"    x1(1,1)=x1(1,2);\n",
"    x2(1,1)=x2(1,2);\n",
"    x3(1,1)=x3(1,2);\n",
"    x1(1,2)=(4-6*x2(1,1)+3*x3(1,1));\n",
"    x2(1,2)=0.5*(6-5*x1(1,1)+x3(1,1));\n",
"    x3(1,2)=0.25*(7-2*x1(1,1)-x2(1,1));\n",
"    i=i+1;\n",
"end\n",
"disp([x1; x2; x3],'Answers are :')\n",
"disp(i,'Number of Iterations :')"
   ]
   }
,
{
		   "cell_type": "markdown",
		   "metadata": {},
		   "source": [
			"## Example 2.7: Gauss_Seidel_method.sce"
		   ]
		  },
  {
"cell_type": "code",
	   "execution_count": null,
	   "metadata": {
	    "collapsed": true
	   },
	   "outputs": [],
"source": [
"//the problem is solved using Gauss-Seidel method\n",
"//it is fast convergent as compared to jacobi method\n",
"\n",
"clear;\n",
"close();\n",
"clc;\n",
"format('v',7);\n",
"x1=[0,0];\n",
"x2=[0,0];\n",
"x3=[0,0];\n",
"x1(1,2)=0.2*(6-2*x2(1,1)+x3(1,1));\n",
"x2(1,2)=0.16667*(4-x1(1,2)+3*x3(1,1));\n",
"x3(1,2)=0.25*(7-2*x1(1,2)-x2(1,2));\n",
"i=1;\n",
"while (abs(x1(1,1)-x1(1,2))>0.5*10^-2 | abs(x2(1,1)-x2(1,2))>0.5*10^-2 | abs(x3(1,1)-x3(1,2))>0.5*10^-2 )\n",
"    x1(1,1)=x1(1,2);\n",
"    x2(1,1)=x2(1,2);\n",
"    x3(1,1)=x3(1,2);\n",
"    x1(1,2)=0.2*(6-2*x2(1,1)+x3(1,1));\n",
"    x2(1,2)=0.16667*(4-x1(1,2)+3*x3(1,1));\n",
"    x3(1,2)=0.25*(7-2*x1(1,2)-x2(1,2));\n",
"    i=i+1;\n",
"end\n",
"disp([x1; x2; x3],'Answers are :')\n",
"disp(i,'Number of Iterations :')"
   ]
   }
,
{
		   "cell_type": "markdown",
		   "metadata": {},
		   "source": [
			"## Example 2.8: Successive_over_relaxation_method.sce"
		   ]
		  },
  {
"cell_type": "code",
	   "execution_count": null,
	   "metadata": {
	    "collapsed": true
	   },
	   "outputs": [],
"source": [
"//The method used to solve is SOR(Successive over-relaxation) method\n",
"//only marginal improvement is possible for this pasticular system since\n",
"//Gauss-Seidel iteration itself converges quite rapidly \n",
"\n",
"clear;\n",
"close();\n",
"clc;\n",
"format('v',7);\n",
"x1=[0,0];\n",
"x2=[0,0];\n",
"x3=[0,0];\n",
"w =0.9;\n",
"x1(1,2)=x1(1,1)+0.2*w*(6-5*x1(1,1)-2*x2(1,1)+x3(1,1));\n",
"x2(1,2)=x2(1,1)+0.16667*w*(4-x1(1,2)-6*x2(1,1)+3*x3(1,1));\n",
"x3(1,2)=x3(1,1)+0.25*w*(7-2*x1(1,2)-x2(1,2)-4*x3(1,1));\n",
"i=1;\n",
"while (abs(x1(1,1)-x1(1,2))>0.5*10^-2 | abs(x2(1,1)-x2(1,2))>0.5*10^-2 | abs(x3(1,1)-x3(1,2))>0.5*10^-2 )\n",
"    x1(1,1)=x1(1,2);\n",
"    x2(1,1)=x2(1,2);\n",
"    x3(1,1)=x3(1,2);\n",
"    x1(1,2)=x1(1,1)+0.2*w*(6-5*x1(1,1)-2*x2(1,1)+x3(1,1));\n",
"    x2(1,2)=x2(1,1)+0.16667*w*(4-x1(1,2)-6*x2(1,1)+3*x3(1,1));\n",
"    x3(1,2)=x3(1,1)+0.25*w*(7-2*x1(1,2)-x2(1,2)-4*x3(1,1));\n",
"    i=i+1;\n",
"end\n",
"disp([x1; x2; x3],'Answers are:')\n",
"disp(i,'Number of Iterations :')"
   ]
   }
,
{
		   "cell_type": "markdown",
		   "metadata": {},
		   "source": [
			"## Example 2.9: Gauss_Seidel_and_SOR_method.sce"
		   ]
		  },
  {
"cell_type": "code",
	   "execution_count": null,
	   "metadata": {
	    "collapsed": true
	   },
	   "outputs": [],
"source": [
"//Solving four linear system of equations with Gauss-Seidel and SOR method \n",
"//the convergence is much faster in SOR method\n",
"\n",
"clear;\n",
"close();\n",
"clc;\n",
"format('v',7);\n",
"x1=[0,0];\n",
"x2=[0,0];\n",
"x3=[0,0];\n",
"x4=[0,0];\n",
"x1(1,2)=-0.33333*(1-x2(1,1)-3*x4(1,1));\n",
"x2(1,2)=0.16667*(1-x1(1,2)-x3(1,1));\n",
"x3(1,2)=0.16667*(1-x2(1,2)-x4(1,1));\n",
"x4(1,2)=-0.33333*(1-3*x1(1,2)-x3(1,2));\n",
"i=1;\n",
"while (abs(x1(1,1)-x1(1,2))>0.5*10^-2 | abs(x2(1,1)-x2(1,2))>0.5*10^-2 | abs(x3(1,1)-x3(1,2))>0.5*10^-2 | abs(x4(1,1)-x4(1,2))>0.5*10^-2)\n",
"    x1(1,1)=x1(1,2);\n",
"    x2(1,1)=x2(1,2);\n",
"    x3(1,1)=x3(1,2);\n",
"    x4(1,1)=x4(1,2);\n",
"    x1(1,2)=-0.33333*(1-x2(1,1)-3*x4(1,1));\n",
"    x2(1,2)=0.16667*(1-x1(1,2)-x3(1,1));\n",
"    x3(1,2)=0.16667*(1-x2(1,2)-x4(1,1));\n",
"    x4(1,2)=-0.33333*(1-3*x1(1,2)-x3(1,2));\n",
"    i=i+1;\n",
"end\n",
"disp([x1; x2; x3; x4],'Answers are:')\n",
"disp(i,'Number of Iterations :')\n",
"\n",
"\n",
"w=1.6;\n",
"x1=[0,0];\n",
"x2=[0,0];\n",
"x3=[0,0];\n",
"x4=[0,0];\n",
"x1(1,2)=x1(1,1)-0.33333*w*(1+3*x1(1,1)-x2(1,1)-3*x4(1,1));\n",
"x2(1,2)=x2(1,1)+0.16667*w*(1-x1(1,2)-6*x2(1,2)-x3(1,1));\n",
"x3(1,2)=x3(1,1)+0.16667*w*(1-x2(1,2)-6*x3(1,2)-x4(1,1));\n",
"x4(1,2)=x4(1,1)-0.33333*w*(1-3*x1(1,2)-x3(1,2)+3*x4(1,1));\n",
"i=1;\n",
"while (abs(x1(1,1)-x1(1,2))>0.5*10^-2 | abs(x2(1,1)-x2(1,2))>0.5*10^-2 | abs(x3(1,1)-x3(1,2))>0.5*10^-2 | abs(x4(1,1)-x4(1,2))>0.5*10^-2)\n",
"    x1(1,1)=x1(1,2);\n",
"    x2(1,1)=x2(1,2);\n",
"    x3(1,1)=x3(1,2);\n",
"    x4(1,1)=x4(1,2);\n",
"    x1(1,2)=x1(1,1)-0.33333*w*(1+3*x1(1,1)-x2(1,1)-3*x4(1,1));\n",
"    x2(1,2)=x2(1,1)+0.16667*w*(1-x1(1,2)-6*x2(1,2)-x3(1,1));\n",
"    x3(1,2)=x3(1,1)+0.16667*w*(1-x2(1,2)-6*x3(1,2)-x4(1,1));\n",
"    x4(1,2)=x4(1,1)-0.33333*w*(1-3*x1(1,2)-x3(1,2)+3*x4(1,1));\n",
"    i=i+1;\n",
"end\n",
"disp([x1; x2; x3; x4],'Answers are :')\n",
"disp(i,'Number of Iterations :')"
   ]
   }
],
"metadata": {
		  "kernelspec": {
		   "display_name": "Scilab",
		   "language": "scilab",
		   "name": "scilab"
		  },
		  "language_info": {
		   "file_extension": ".sce",
		   "help_links": [
			{
			 "text": "MetaKernel Magics",
			 "url": "https://github.com/calysto/metakernel/blob/master/metakernel/magics/README.md"
			}
		   ],
		   "mimetype": "text/x-octave",
		   "name": "scilab",
		   "version": "0.7.1"
		  }
		 },
		 "nbformat": 4,
		 "nbformat_minor": 0
}
