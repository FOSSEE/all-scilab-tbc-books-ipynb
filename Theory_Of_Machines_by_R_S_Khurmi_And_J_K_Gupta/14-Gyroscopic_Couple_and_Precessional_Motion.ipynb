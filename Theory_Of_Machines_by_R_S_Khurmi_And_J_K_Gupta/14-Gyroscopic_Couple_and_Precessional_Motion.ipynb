{
"cells": [
 {
		   "cell_type": "markdown",
	   "metadata": {},
	   "source": [
       "# Chapter 14: Gyroscopic Couple and Precessional Motion"
	   ]
	},
{
		   "cell_type": "markdown",
		   "metadata": {},
		   "source": [
			"## Example 14.10: To_find_centrifugal_and_gyroscopic_effects.sce"
		   ]
		  },
  {
"cell_type": "code",
	   "execution_count": null,
	   "metadata": {
	    "collapsed": true
	   },
	   "outputs": [],
"source": [
"//To find centrifugal and gyroscopic effects\n",
"clc\n",
"//Given:\n",
"m=2500 //kg\n",
"x=1.5, R=30, dW=0.75, rW=dW/2, h=0.9 //m\n",
"v=24*1000/3600 //m/s\n",
"G=5\n",
"IW=18, IE=12 //kg-m^2\n",
"//Solution:\n",
"//Calculating the road reaction on each wheel\n",
"r=m*9.81/4 //Road reaction on each wheel, N\n",
"//Calculating the angular velocity o the wheels\n",
"omegaW=v/rW //rad/s\n",
"//Calculating the angular velocity of precession\n",
"omegaP=v/R //rad/s\n",
"//Calculating the gyroscopic couple due to one pair of wheels and axle\n",
"CW=round(2*IW*omegaW*omegaP) //N-m\n",
"//Calculating the gyroscopic couple due to the rotating parts of the motor and gears\n",
"CE=round(2*IE*G*omegaW*omegaP) //N-m\n",
"//Calculating the net gyroscopic couple\n",
"C=CW-CE //N-m\n",
"//Calculating the reaction due to gyroscopic couple at each of the outer or inner wheels\n",
"P=2*(-C)/(2*x) //N\n",
"//Calculating the centrifugal force\n",
"FC=m*v^2/R //N\n",
"//Calculating the overturning couple\n",
"CO=FC*h //N-m\n",
"//Calculating the reaction due to overturning couple at each of the outer and inner wheels\n",
"Q=2*CO/(2*x) //N\n",
"//Calculating the vertical force exerted on each outer wheel\n",
"PO=m*9.81/4-P/2+Q/2 //N\n",
"//Calculating the vertical force exerted on each inner wheel\n",
"PI=m*9.81/4+P/2-Q/2 //N\n",
"//Results:\n",
"printf('\n\n Vertical force exerted on each outer wheel, PO = %.2f N.\n\n',PO)\n",
"printf(' Vertical force exerted on each inner wheel, PI = %.2f N.\n\n',PI)"
   ]
   }
,
{
		   "cell_type": "markdown",
		   "metadata": {},
		   "source": [
			"## Example 14.12: To_find_load_on_each_wheel.sce"
		   ]
		  },
  {
"cell_type": "code",
	   "execution_count": null,
	   "metadata": {
	    "collapsed": true
	   },
	   "outputs": [],
"source": [
"//To find load on each wheel\n",
"clc\n",
"//Given:\n",
"m=2000, mE=75 //kg\n",
"b=2.5, x=1.5, h=500/1000, L=1, dW=0.8, rW=dW/2, kE=100/1000, R=60 //m\n",
"IW=0.8 //kg-m^2\n",
"G=4\n",
"v=60*1000/3600 //m/s\n",
"//Solution:\n",
"//Refer Fig. 14.12\n",
"//Calculating the weight on the rear wheels\n",
"W2=(m*9.81*1)/b //N\n",
"//Calculating the weight on the front wheels\n",
"W1=m*9.81-W2 //N\n",
"//Calculating the weight on each of the front wheels\n",
"Wf=W1/2 //Weight on each of the front wheels, N\n",
"//Calculating the weight on each of the rear wheels\n",
"Wr=W2/2 //Weight on each of the rear wheels, N\n",
"//Calculating the angular velocity of wheels\n",
"omegaW=v/rW //rad/s\n",
"//Calculating the angular velocity of precession\n",
"omegaP=v/R //rad/s\n",
"//Calculating the gyroscopic couple due to four wheels\n",
"CW=4*IW*omegaW*omegaP //N-m\n",
"//Calculating the magnitude of reaction due to gyroscopic couple due to four wheels at each of the inner or outer wheel\n",
"P=2*(CW/(2*x)) //N\n",
"//Calculating the mass moment of inertia of rotating parts of the engine\n",
"IE=mE*(kE)^2 //kg-m^2\n",
"//Calculating the gyroscopic couple due to rotating parts of the engine\n",
"CE=IE*(kE)^2*G*omegaW*omegaP //N-m\n",
"//Calculating the magnitude of reaction due to gyroscopic couple due to rotating parts of the engine at each of the inner or outer wheel\n",
"F=2*(CE/(2*b)) //N\n",
"//Calculating the centrifugal force\n",
"FC=m*v^2/R //N\n",
"//Calculating the centrifugal couple tending to overturn the car\n",
"CO=FC*h //N-m\n",
"//Calculating the magnitude of reaction due to overturning couple at each of the inner or outer wheel\n",
"Q=2*(CO/(2*x)) //N\n",
"//Calculating the load on front wheel 1\n",
"Fw1=W1/2-P/2-F/2-Q/2 //Load on front wheel 1, N\n",
"//Calculating the load on front wheel 2\n",
"Fw2=W1/2+P/2-F/2+Q/2 //Load on front wheel 2, N\n",
"//Calculating the load on rear wheel 3\n",
"Rw3=W2/2-P/2+F/2-Q/2 //Load on rear wheel 3, N\n",
"//Calculating the load on rear wheel 4\n",
"Rw4=W2/2+P/2+F/2+Q/2 //Load on rear wheel 4, N\n",
"//Results:\n",
"printf('\n\n Load on front wheel 1 = %.2f N.\n\n',Fw1)\n",
"printf(' Load on front wheel 2 = %.2f N.\n\n',Fw2)\n",
"printf(' Load on rear wheel 3 = %.2f N.\n\n',Rw3)\n",
"printf(' Load on rear wheel 4 = %.2f N.\n\n',Rw4)"
   ]
   }
,
{
		   "cell_type": "markdown",
		   "metadata": {},
		   "source": [
			"## Example 14.13: To_find_pressure_on_each_rail.sce"
		   ]
		  },
  {
"cell_type": "code",
	   "execution_count": null,
	   "metadata": {
	    "collapsed": true
	   },
	   "outputs": [],
"source": [
"//To find pressure on each rail\n",
"clc\n",
"//Given:\n",
"m=2000, mI=200 //kg\n",
"x=1.6, R=30, dW=0.7, rW=dW/2, k=0.3, h=1 //m\n",
"v=54*1000/3600 //m/s\n",
"theta=8 //degrees\n",
"//Solution:\n",
"//Refer Fig. 14.13\n",
"//Calculating the reactions at the wheels:\n",
"//Taking moments about B\n",
"RA=(m*9.81*cosd(theta)+m*v^2/R*sind(theta))*1/2+(m*9.81*sind(theta)-m*v^2/R*cosd(theta))*h/x //N\n",
"//Resolving the forces perpendicular to the track\n",
"RB=(m*9.81*cosd(theta)+m*v^2/R*sind(theta))-RA //N\n",
"//Calculating the angular velocity of wheels\n",
"omegaW=v/rW //rad/s\n",
"//Calculating the angular velocity of precession\n",
"omegaP=v/R //rad/s\n",
"//Calculating the gyroscopic couple\n",
"C=mI*k^2*omegaW*cosd(theta)*omegaP //N-m\n",
"//Calculating the force at each pair of wheels due to the gyroscopic couple\n",
"P=C/x //N\n",
"//Calculating the pressure on the inner rail\n",
"PI=RA-P //N\n",
"//Calculating the pressure o the outer rail\n",
"PO=RB+P //N\n",
"//Results:\n",
"printf('\n\n Pressure on the inner rail, PI = %.2f N.\n\n',PI)\n",
"printf(' Pressure on the outer rail, PO = %.2f N.\n\n',PO)"
   ]
   }
,
{
		   "cell_type": "markdown",
		   "metadata": {},
		   "source": [
			"## Example 14.14: To_find_gyroscopic_couple_and_reaction.sce"
		   ]
		  },
  {
"cell_type": "code",
	   "execution_count": null,
	   "metadata": {
	    "collapsed": true
	   },
	   "outputs": [],
"source": [
"//To find gyroscopic couple and reaction\n",
"clc\n",
"//Given:\n",
"I=180 //kg-m^2\n",
"D=1.8, R=D/2, x=1.5 //m\n",
"v=95*1000/3600 //m/s\n",
"t=0.1 //s\n",
"//Solution:\n",
"//Gyroscopic couple set up:\n",
"//Calculating the angular velocity of the locomotive\n",
"omega=v/R //rad/s\n",
"//Calculating the amplitude\n",
"A=1/2*6 //mm\n",
"//Calculating the maximum velocity while falling\n",
"vmax=2*%pi/t*A/1000 //m/s\n",
"//Calculating the maximum angular velocity of tilt of the axle or angular velocity of precession\n",
"omegaPmax=vmax/x //rad/s\n",
"//Calculating the gyroscopic couple set up\n",
"C=I*omega*omegaPmax //N-m\n",
"//Calculating the reaction between the wheel and rail due to the gyroscopic couple\n",
"P==C/x //N\n",
"//Results:\n",
"printf('\n\n Gyroscopic couple set up, C = %.1f N-m.\n\n',C)\n",
"printf(' Reaction between the wheel and rail due to the gyroscopic couple, P = %d N.\n\n',P)"
   ]
   }
,
{
		   "cell_type": "markdown",
		   "metadata": {},
		   "source": [
			"## Example 14.15: To_find_angle_of_inclination.sce"
		   ]
		  },
  {
"cell_type": "code",
	   "execution_count": null,
	   "metadata": {
	    "collapsed": true
	   },
	   "outputs": [],
"source": [
"//To find angle of inclination\n",
"clc\n",
"//Given:\n",
"m=250 //kg\n",
"IE=0.3, IW=1 //kg-m^2\n",
"G=5\n",
"h=0.6, rW=300/1000, R=50 //m\n",
"v=90*1000/3600 //m/s\n",
"//Solution:\n",
"//Calculating the angle of inclination with respect to the vertical of a two wheeler\n",
"//Equating total overturning couple to balancing couple,\n",
"theta=atand((1/(m*9.81*h))*((v^2/(R*rW)*(2*IW+G*IE))+(m*v^2/R*h))) //degrees\n",
"//Results:\n",
"printf('\n\n Angle of inclination with respect to the vertical of a two wheeler, theta = %.2f degrees.\n\n',theta)"
   ]
   }
,
{
		   "cell_type": "markdown",
		   "metadata": {},
		   "source": [
			"## Example 14.16: To_find_inclination_of_gyrowheel.sce"
		   ]
		  },
  {
"cell_type": "code",
	   "execution_count": null,
	   "metadata": {
	    "collapsed": true
	   },
	   "outputs": [],
"source": [
"//To find inclination of gyrowheel\n",
"clc\n",
"//Given:\n",
"m1=0.5, m2=0.3 //kg\n",
"k=20/1000, OG=10/1000, h=OG, R=50 //m\n",
"N=3000 //rpm\n",
"v=15 //m/s\n",
"//Solution:\n",
"//Refer Fig. 14.15 and Fig. 14.16\n",
"//Calculating the angular speed of the wheel\n",
"omega=2*%pi*N/60 //rad/s\n",
"//Calculating the mass moment of inertia of the gyrowheel\n",
"I=m1*k^2 //kg-m^2\n",
"//Calculating the angular velocity of precession\n",
"omegaP=v/R //rad/s\n",
"//When the vehicle moves in the direction of arrow X taking a left turn along the curve:\n",
"//Calculating the angle of inclination of the gyrowheel from the vertical\n",
"//Equating the overturning couple to the balancing couple for equilibrium condition,\n",
"theta1=atand((1/(m2*9.81*h))*(I*omega*omegaP-m2*v^2/R*h)) //degrees\n",
"//When the vehicle reverses at the same speed in the direction of arrow Y along the same path:\n",
"//Calculating the angle of inclination of the gyrowheel from the vertical\n",
"//Equating the overturning couple to the balancing couple for equilibrium condition,\n",
"theta2=atand((1/(m2*9.81*h))*(I*omega*omegaP+m2*v^2/R*h)) //degrees\n",
"//Results:\n",
"printf('\n\n Angle of inclination of the gyrowheel from the vertical when the vehicle moves in the direction of arrow X taking a left turn along the curve, theta = %.2f degrees.\n\n',theta1)\n",
"printf(' Angle of inclination of the gyrowheel from the vertical when the vehicle reverses at the same speed in the direction of arrow Y along the same path, theta = %.2f degrees.\n\n',theta2)"
   ]
   }
,
{
		   "cell_type": "markdown",
		   "metadata": {},
		   "source": [
			"## Example 14.17: To_find_the_gyroscopic_couple.sce"
		   ]
		  },
  {
"cell_type": "code",
	   "execution_count": null,
	   "metadata": {
	    "collapsed": true
	   },
	   "outputs": [],
"source": [
"//To find the gyroscopic couple\n",
"clc\n",
"//Given:\n",
"d=0.6, r=d/2 //m\n",
"m=30 //kg\n",
"theta=1 //degree\n",
"N=1200 //rpm\n",
"//Solution:\n",
"//Calculating the angular speed of the shaft\n",
"omega=2*%pi*N/60 //rad/s\n",
"//Calculating the gyroscopic couple acting on the bearings\n",
"C=round(m/8*omega^2*r^2*sind(2*theta)) //N-m\n",
"//Results:\n",
"printf('\n\n Gyroscopic couple acting on the bearings, C = %d N-m.\n\n',C)"
   ]
   }
,
{
		   "cell_type": "markdown",
		   "metadata": {},
		   "source": [
			"## Example 14.1: To_find_speed_of_precession.sce"
		   ]
		  },
  {
"cell_type": "code",
	   "execution_count": null,
	   "metadata": {
	    "collapsed": true
	   },
	   "outputs": [],
"source": [
"//To find speed of precession\n",
"clc\n",
"//Given:\n",
"d=300/1000, r=d/2, l=600/1000 //m\n",
"m=5 //kg\n",
"N=300 //rpm\n",
"//Solution:\n",
"//Calculating the angular speed of the disc\n",
"omega=2*%pi*N/60 //rad/s\n",
"//Calculating the mass moment of inertia of the disc, about an axis through its centre of gravity and perpendicular to the plane of the disc\n",
"I=m*r^2/2 //kg-m^2\n",
"//Calculating the couple due to mass of disc\n",
"C=m*9.81*l //N-m\n",
"//Calculating the speed of precession\n",
"omegaP=C/(I*omega) //rad/s\n",
"//Results:\n",
"printf('\n\n Speed of precession, omegaP = %.1f rad/s.\n\n',omegaP)"
   ]
   }
,
{
		   "cell_type": "markdown",
		   "metadata": {},
		   "source": [
			"## Example 14.2: To_find_the_resultant_reaction.sce"
		   ]
		  },
  {
"cell_type": "code",
	   "execution_count": null,
	   "metadata": {
	    "collapsed": true
	   },
	   "outputs": [],
"source": [
"//To find the resultant reaction\n",
"clc\n",
"//Given:\n",
"d=150/1000, r=d/2, x=100/1000 //m\n",
"m=5 //kg\n",
"N=1000, NP=60 //rpm\n",
"//Solution:\n",
"//Calculating the angular speed of the disc\n",
"omega=2*%pi*N/60 //rad/s\n",
"//Calculating the speed of precession of the axle\n",
"omegaP=2*%pi*NP/60 //rad/s\n",
"//Calculating the mass moment of inertia of the disc, about an axis through its centre of gravity and perpendicular to the plane of disc\n",
"I=m*r^2/2 //kg-m^2\n",
"//Calculating the gyroscopic couple acting on the disc\n",
"C=I*omega*omegaP //N-m\n",
"//Calculating the force at each bearing due to the gyroscopic couple\n",
"F=C/x //N\n",
"//Calculating the reactions at the bearings A and B\n",
"RA=m/2*9.81 //N\n",
"RB=RA //N\n",
"//Resultant reaction at each bearing:\n",
"//Calculating the resultant reaction at the bearing A\n",
"RA1=F+RA //N\n",
"//Calculating the resultant reaction at the bearing B\n",
"RB1=F-RB //N\n",
"//Results:\n",
"printf('\n\n Resultant reaction at the bearing A, RA1 = %.1f N, upwards.\n\n',RA1)\n",
"printf(' Resultant reaction at the bearing B, RB1 = %.1f N, downwards.\n\n', RB1)"
   ]
   }
,
{
		   "cell_type": "markdown",
		   "metadata": {},
		   "source": [
			"## Example 14.3: To_find_gyroscopic_couple.sce"
		   ]
		  },
  {
"cell_type": "code",
	   "execution_count": null,
	   "metadata": {
	    "collapsed": true
	   },
	   "outputs": [],
"source": [
"//To find gyroscopic couple\n",
"clc\n",
"//Given:\n",
"R=50, k=0.3 //m\n",
"v=200*1000/3600 //m/s\n",
"m=400 //kg\n",
"N=2400 //rpm\n",
"//Solution:\n",
"//Calculating the angular speed of the engine\n",
"omega=2*%pi*N/60 //rad/s\n",
"//Calculating the mass moment of inertia of the engine and the propeller\n",
"I=m*k^2 //kg-m^2\n",
"//Calculating the angular velocity of precession\n",
"omegaP=v/R //rad/s\n",
"//Calculating the gyroscopic couple acting on the aircraft\n",
"C=I*omega*omegaP/1000 //kN-m\n",
"//Results:\n",
"printf('\n\n Gyroscopic couple acting on the aircraft, C = %.3f kN-m.\n\n',C)\n",
"printf(' The effect of the gyroscopic couple is to lift the nose upwards and tail downwards.\n\n')"
   ]
   }
,
{
		   "cell_type": "markdown",
		   "metadata": {},
		   "source": [
			"## Example 14.4: To_find_gyroscopic_couple.sce"
		   ]
		  },
  {
"cell_type": "code",
	   "execution_count": null,
	   "metadata": {
	    "collapsed": true
	   },
	   "outputs": [],
"source": [
"//To find gyroscopic couple\n",
"clc\n",
"//Given:\n",
"m=8*1000 //kg\n",
"k=0.6, R=75 //m\n",
"N=1800 //rpm\n",
"v=100*1000/3600 //m/s\n",
"//Solution:\n",
"//Calculating the angular speed of the rotor\n",
"omega=2*%pi*N/60 //rad/s\n",
"//Calculating the mass moment of inertia of the rotor\n",
"I=m*k^2 //kg-m^2\n",
"//Calculating the angular velocity of precession\n",
"omegaP=v/R //rad/s\n",
"//Calculating the gyroscopic couple\n",
"C=I*omega*omegaP/1000 //kN-m\n",
"//Results:\n",
"printf('\n\n Gyroscopic couple, C = %.3f kN-m.\n\n',C)"
   ]
   }
,
{
		   "cell_type": "markdown",
		   "metadata": {},
		   "source": [
			"## Example 14.5: To_find_gyroscopic_couple_and_direction.sce"
		   ]
		  },
  {
"cell_type": "code",
	   "execution_count": null,
	   "metadata": {
	    "collapsed": true
	   },
	   "outputs": [],
"source": [
"//To find gyroscopic couple and direction\n",
"clc\n",
"//Given:\n",
"N=1500 //rpm\n",
"m=750 //kg\n",
"omegaP=1 //rad/s\n",
"k=250/1000 //m\n",
"//Solution:\n",
"//Calculating the angular speed of the rotor\n",
"omega=2*%pi*N/60 //rad/s\n",
"//Calculating the mass moment of inertia of the rotor\n",
"I=m*k^2 //kg-m^2\n",
"//Calculating the gyroscopic couple transmitted to the hull\n",
"C=I*omega*omegaP/1000 //kN-m\n",
"//Results:\n",
"printf('\n\n Gyroscopic couple transmitted to the hull, C = %.3f kN-m.\n\n',C)\n",
"printf(' When the pitching is upward, the relative gyroscopic couple acts in the clockwise direction.\n\n')"
   ]
   }
,
{
		   "cell_type": "markdown",
		   "metadata": {},
		   "source": [
			"## Example 14.6: To_find_gyroscopic_couple_and_effect.sce"
		   ]
		  },
  {
"cell_type": "code",
	   "execution_count": null,
	   "metadata": {
	    "collapsed": true
	   },
	   "outputs": [],
"source": [
"//To find gyroscopic couple and effect\n",
"clc\n",
"//Given:\n",
"m=3500 //kg\n",
"k=0.45 //m\n",
"N=3000 //rpm\n",
"//Solution:\n",
"//Calculating the angular speed of the rotor\n",
"omega=2*%pi*N/60 //rad/s\n",
"//When the ship is steering to the left:\n",
"R=100 //m\n",
"v=36*1000/3600 //m/s\n",
"//Calculating the mass moment of inertia of the rotor\n",
"I=m*k^2 //kg-m^2\n",
"//Calculating the angular velocity of precession\n",
"omegaP=v/R //rad/s\n",
"//Calculating the gyroscopic couple\n",
"C=I*omega*omegaP/1000 //kN-m\n",
"//Results:\n",
"printf('\n\n Gyroscopic couple when the ship is steering to the left, C = %.2f kN-m.\n\n',C)\n",
"printf(' When the rotor rotates clockwise and the ship takes a left turn, the effect of the reactive gyroscopic couple is to raise the bow and lower the stern.\n\n')\n",
"//When the ship is pitching with the bow falling:\n",
"tp=40 //s\n",
"//Calculating the amplitude of swing\n",
"phi=12/2*%pi/180 //rad\n",
"//Calculating the angular velocity of the simple harmonic motion\n",
"omega1=2*%pi/tp //rad/s\n",
"//Calculating the maximum angular velocity of precession\n",
"omegaP=phi*omega1 //rad/s\n",
"//Calculating the gyroscopic couple\n",
"C=I*omega*omegaP/1000 //kN-m\n",
"//Results:\n",
"printf(' Gyroscopic couple when the ship is pitching with the bow falling, C = %.3f kN-m.\n\n',C)\n",
"printf(' When the bow is falling, the effect of the reactive gyroscopic couple is to move the ship towards port side.\n\n')"
   ]
   }
,
{
		   "cell_type": "markdown",
		   "metadata": {},
		   "source": [
			"## Example 14.7: To_find_gyroscopic_couple_and_acceleration.sce"
		   ]
		  },
  {
"cell_type": "code",
	   "execution_count": null,
	   "metadata": {
	    "collapsed": true
	   },
	   "outputs": [],
"source": [
"//To find gyroscopic couple and acceleration\n",
"clc\n",
"//Given:\n",
"m=20*1000 //kg\n",
"k=0.6 //m\n",
"N=2000 //rpm\n",
"phi=6*%pi/180 //rad\n",
"tp=30 //s\n",
"//Solution:\n",
"//Calculating the angular speed of the rotor\n",
"omega=2*%pi*N/60 //rad/s\n",
"//Maximum gyroscopic couple:\n",
"//Calculating the mass moment of inertia of the rotor\n",
"I=m*k^2 //kg-m^2\n",
"//Calculating the angular velocity of the simple harmonic motion\n",
"omega1=2*%pi/tp //rad/s\n",
"//Calculating the maximum angular velocity of precession\n",
"omegaPmax=phi*omega1 //rad/s\n",
"//Calculating the maximum gyroscopic couple\n",
"Cmax=I*omega*omegaPmax/1000 //kN-m\n",
"//Calculating the maximum angular acceleration during pitching\n",
"alphamax=phi*omega1^2 //Maximum angular acceleration during pitching, rad/s^2\n",
"//Results:\n",
"printf('\n\n Maximum gyroscopic couple, Cmax = %.3f kN-m.\n\n',Cmax)\n",
"printf(' Maximum angular acceleration during pitching = %.4f rad/s^2.\n\n',alphamax)\n",
"printf(' When the rotation of the rotor is clockwise when looking from the left and when the bow is rising, then the reactive gyroscopic couple acts in the direction which tends to turn the bow towrds right.\n\n')"
   ]
   }
,
{
		   "cell_type": "markdown",
		   "metadata": {},
		   "source": [
			"## Example 14.8: To_find_the_gyroscopic_effects.sce"
		   ]
		  },
  {
"cell_type": "code",
	   "execution_count": null,
	   "metadata": {
	    "collapsed": true
	   },
	   "outputs": [],
"source": [
"//To find the gyroscopic effects\n",
"clc\n",
"//Given:\n",
"m=5*1000 //kg\n",
"N=1000 //rpm\n",
"k=0.5 //m\n",
"//Solution:\n",
"//Calculating the angular speed of the rotor\n",
"omega=2*%pi*N/60 //rad/s\n",
"//When the ship steers to the left:\n",
"v=30*1000/3600 //m/s\n",
"R=60 //m\n",
"//Calculating the angular velocity of precession\n",
"omegaP=v/R //rad/s\n",
"//Calculating the mass moment of inertia of the rotor\n",
"I=m*k^2 //kg-m^2\n",
"//Calculating the gyroscopic couple\n",
"C=I*omega*omegaP/1000 //kN-m\n",
"//Results:\n",
"printf('\n\n When the rotor rotates in a clockwise direction when viewed from from the stern and the ship steers to the left, the effect of reactive gyroscopic couple is to raise the bow and lower the stern.\n\n')\n",
"//When the ship pitches with the bow descending:\n",
"phi=6*%pi/180 //rad\n",
"tp=20 //s\n",
"//Calculating the angular velocity of simple harmonic motion\n",
"omega1=2*%pi/tp //rad/s\n",
"//Calculating the maximum velocity of precession\n",
"omegaPmax=phi*omega1 //rad/s\n",
"//Calculating the maximum gyroscopic couple\n",
"Cmax=I*omega*omegaPmax //N-m\n",
"//Results:\n",
"printf(' Since the ship is pitching with the low bow descending, therefore the effect of this maximum gyroscopic couple is to turn the ship towards port side.\n\n')\n",
"//When the ship rolls:\n",
"omegaP=0.03 //rad/s\n",
"//Calculating the gyroscopic couple\n",
"C=I*omega*omegaP //N-m\n",
"//Results:\n",
"printf(' In case of rolling of a ship, the axis of precession is always parallel to the axis of spin for all positions, therefore there is no effect of gyroscopic couple.\n\n')\n",
"//Calculating the maximum angular acceleration during pitching\n",
"alphamax=phi*omega1^2 //rad/s^2\n",
"//Results:\n",
"printf(' Maximum angular acceleration during pitching, alphamax = %.2f rad/s^2.\n\n',alphamax)"
   ]
   }
,
{
		   "cell_type": "markdown",
		   "metadata": {},
		   "source": [
			"## Example 14.9: To_find_maximum_acceleration_during_pitching.sce"
		   ]
		  },
  {
"cell_type": "code",
	   "execution_count": null,
	   "metadata": {
	    "collapsed": true
	   },
	   "outputs": [],
"source": [
"//To find maximum acceleration during pitching\n",
"clc\n",
"//Given:\n",
"m=2000 //kg\n",
"N=3000 //rpm\n",
"k=0.5, R=100 //m\n",
"v=16.1*1855/3600 //m/s\n",
"//Solution:\n",
"//Calculating the angular speed of the rotor\n",
"omega=2*%pi*N/60 //rad/s\n",
"//Gyroscopic couple:\n",
"//Calculating the mass moment of inertia of the rotor\n",
"I=m*k^2 //kg-m^2\n",
"//Calculating the angular velocity of precession\n",
"omegaP=v/R //rad/s\n",
"//Calculating the gyroscopic couple\n",
"C=I*omega*omegaP/1000 //kN-m\n",
"//Torque during pitching:\n",
"tp=50 //s\n",
"phi=12/2*%pi/180 //rad\n",
"//Calculating the angular velocity of simple harmonic motion\n",
"omega1=2*%pi/tp //rad/s\n",
"//Calculating the maximum angular velocity of precession\n",
"omegaPmax=phi*omega1 //rad/s\n",
"//Calculating the maximum gyroscopic couple during pitching\n",
"Cmax=I*omega*omegaPmax //N-m\n",
"//Calculating the maximum acceleration during pitching\n",
"alphamax=phi*omega1^2 //rad/s^2\n",
"//Results:\n",
"printf('\n\n When the rotor rotates clockwise when looking from a stern the ship steers to the right, the effect of the reactive gyroscopic couple is to raise the stern and lower the bow.\n\n')\n",
"printf(' Torque during pitching, Cmax = %d N-m.\n\n',Cmax)\n",
"printf(' Maximum acceleration during pitching, alphamax = %.5f rad/s^2.\n\n',alphamax)"
   ]
   }
],
"metadata": {
		  "kernelspec": {
		   "display_name": "Scilab",
		   "language": "scilab",
		   "name": "scilab"
		  },
		  "language_info": {
		   "file_extension": ".sce",
		   "help_links": [
			{
			 "text": "MetaKernel Magics",
			 "url": "https://github.com/calysto/metakernel/blob/master/metakernel/magics/README.md"
			}
		   ],
		   "mimetype": "text/x-octave",
		   "name": "scilab",
		   "version": "0.7.1"
		  }
		 },
		 "nbformat": 4,
		 "nbformat_minor": 0
}
