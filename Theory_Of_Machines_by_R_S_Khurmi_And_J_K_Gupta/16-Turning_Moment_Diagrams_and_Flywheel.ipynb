{
"cells": [
 {
		   "cell_type": "markdown",
	   "metadata": {},
	   "source": [
       "# Chapter 16: Turning Moment Diagrams and Flywheel"
	   ]
	},
{
		   "cell_type": "markdown",
		   "metadata": {},
		   "source": [
			"## Example 16.10: To_find_mass_of_the_rim.sce"
		   ]
		  },
  {
"cell_type": "code",
	   "execution_count": null,
	   "metadata": {
	    "collapsed": true
	   },
	   "outputs": [],
"source": [
"//To find mass of the rim\n",
"clc\n",
"//Given:\n",
"a1=0.45*10^-3, a2=1.7*10^-3, a3=6.8*10^-3, a4=0.65*10^-3 //m^2\n",
"N1=202, N2=198 //rpm\n",
"R=1.2 //m\n",
"//Solution:\n",
"//Refer Fig. 16.12\n",
"//Calculating the net area\n",
"a=a3-(a1+a2+a4) //Net area, m^2\n",
"//Calculating the energy scale constant\n",
"c=3*10^6 //Energy scale constant, N-m\n",
"//Calculating the net work done per cycle\n",
"WD=a*c //Net work done per cycle, N-m\n",
"//Calculating the mean torque\n",
"Tmean=WD/(4*%pi) //N-m\n",
"//Calculating the value of FG\n",
"FG=Tmean //N-m\n",
"//Calculating the work done during expansion stroke\n",
"WDe=a3*c //Work done during expansion stroke, N-m\n",
"//Calculating the value of AG\n",
"AG=WDe/(1/2*%pi) //N-m\n",
"//Calculating the excess torque\n",
"Texcess=AG-FG //N-m\n",
"//Calculating the value of AF\n",
"AF=Texcess //N-m\n",
"//Calculating the value of DE\n",
"DE=AF/AG*%pi //rad\n",
"//Calculating the maximum fluctuation of energy\n",
"deltaE=1/2*DE*AF //N-m\n",
"//Mass of the rim of a flywheel:\n",
"//Calculating the mean speed of the flywheel\n",
"N=(N1+N2)/2 //rpm\n",
"//Calculating the mass of the rim of a flywheel\n",
"m=deltaE/(%pi^2/900*R^2*N*(N1-N2)) //kg\n",
"//Results:\n",
"printf('\n\n Mass of the rim of the flywheel, m = %d kg.\n\n',m)"
   ]
   }
,
{
		   "cell_type": "markdown",
		   "metadata": {},
		   "source": [
			"## Example 16.12: To_find_fluctuation_of_energy_and_speed.sce"
		   ]
		  },
  {
"cell_type": "code",
	   "execution_count": null,
	   "metadata": {
	    "collapsed": true
	   },
	   "outputs": [],
"source": [
"//To find fluctuation of energy and speed\n",
"clc\n",
"//Given:\n",
"m=500 //kg\n",
"k=0.4 //m\n",
"N=150 //rpm\n",
"//Solution:\n",
"//Refer Fig. 16.14\n",
"//Calculating the angular speed of the crank\n",
"omega=2*%pi*N/60 //rad/s\n",
"//Fluctuation of energy:\n",
"//Equating the change in torque to zero and calculating the value of theta\n",
"thetaA=asind(0), thetaC=asind(0)+180, thetaE=asind(0)+360 //degrees\n",
"thetaB=acosd(1/(2*(600/500))), thetaD=360-acosd(1/(2*(600/500))) //degrees\n",
"//Calculating the maximum fluctuation of energy\n",
"deltaE=round(integrate('(5000+600*sin(2*theta))-(5000+500*sin(theta))','theta',thetaC*%pi/180,thetaD*%pi/180)) //N-m\n",
"//Calculating the total percentage fluctuation of speed\n",
"CS=deltaE/(m*k^2*omega^2)*100 //%\n",
"//Maximum and minimum angular acceleration of the flywheel and the corresponding shaft positions:\n",
"//Calculating the maximum or minimum values of theta\n",
"//Differentiating (600*sin(2*theta))-500*sin(theta) = 0 with respect to theta and equating to zero, we get 12*2*(cosd(theta))^2-5*cosd(theta)-12 = 0\n",
"a=12*2, b=-5, c=-12\n",
"cosdtheta1=(-b+sqrt(b^2-4*a*c))/(2*a)\n",
"cosdtheta2=(-b-sqrt(b^2-4*a*c))/(2*a)\n",
"theta1=round(acosd(cosdtheta1)), theta2=acosd(cosdtheta2) //degrees\n",
"//Calculating the maximum torque\n",
"Tmax=600*sind(2*theta1)-500*sind(theta1) //N-m\n",
"//Calculating the minimum torque\n",
"Tmin=600*sind(2*theta2)-500*sind(theta2) //N-m\n",
"//Calculating the maximum acceleration\n",
"alphamax=Tmax/(m*k^2) //rad/s^2\n",
"//Calculating the minimum acceleration\n",
"alphamin=abs(Tmin)/(m*k^2) //rad/s^2\n",
"//Results:\n",
"printf('\n\n Fluctuation of energy, deltaE = %d N-m.\n\n',deltaE)\n",
"printf(' Total percentage fluctuation of speed, CS = %.1f %c.\n\n',CS,'%')\n",
"printf(' Shaft position corresponding to maximum and minimum accelerations, theta = %d degrees and %.1f degrees.\n\n',theta1,theta2)\n",
"printf(' Maximum acceleration, alphamax = %.2f rad/s^2.\n\n',alphamax)\n",
"printf(' Minimum acceleration, alphamin = %.1f rad/s^2.\n\n',alphamin)"
   ]
   }
,
{
		   "cell_type": "markdown",
		   "metadata": {},
		   "source": [
			"## Example 16.13: To_find_power_fluctuation_and_torque.sce"
		   ]
		  },
  {
"cell_type": "code",
	   "execution_count": null,
	   "metadata": {
	    "collapsed": true
	   },
	   "outputs": [],
"source": [
"//To find power, fluctuation and torque\n",
"clc\n",
"//Given:\n",
"I=1000 //kg-m^2\n",
"N=300 //rpm\n",
"//Solution:\n",
"//Refer Fig. 16.15 and Fig. 16.16\n",
"//Calculating the angular speed of the crank\n",
"omega=2*%pi*N/60 //rad/s\n",
"//Power of the engine:\n",
"//Calculating the work done per revolution\n",
"WD=integrate('5000+1500*sin(3*theta)','theta',0,2*%pi) //Work done per cycle, N-m\n",
"//Calculating the mean resisting torque\n",
"Tmean=WD/(2*%pi) //N-m\n",
"//Calculating the power of the engine\n",
"P=Tmean*omega/1000 //kW\n",
"//Maximum fluctuation of the speed of the flywheel when resisting torque is constant:\n",
"//Calculating the value of theta\n",
"sind3theta=(5000-5000)/1500\n",
"theta=1/3*(asind(sind3theta)+180) //degrees\n",
"//Calculating the maximum fluctuation of energy\n",
"deltaE=integrate('5000+1500*sin(3*theta)-5000','theta',0,60*%pi/180) //N-m\n",
"//Calculating the maximum fluctuation of speed of the flywheel\n",
"CS1=deltaE/(I*omega^2)*100 //%\n",
"//Maximum fluctuation of speed of the flywheel when resisting torque (5000+600*sin(theta)) N-m:\n",
"//Calculating the values of theta, thetaB and thetaC\n",
"thetaB=asind(sqrt((1/4*(3-600/1500)))) //degrees\n",
"thetaC=180-thetaB //degrees\n",
"//Calculating the maximum fluctuation of energy\n",
"deltaE=round(integrate('(5000+1500*sin(3*theta))-(5000+600*sin(theta))','theta',thetaB*%pi/180,thetaC*%pi/180)) //N-m\n",
"//Calculating the maximum fluctuation of speed of the flywheel\n",
"CS2=abs(deltaE)/(I*omega^2)*100 //%\n",
"//Results:\n",
"printf('\n\n Power of the engine, P = %.1f kW.\n\n',P)\n",
"printf(' Maximum fluctuation of the speed of the flywheel when resisting torque is constant, CS = %.1f %c.\n\n',CS1,'%')\n",
"printf(' Maximum fluctuation of speed of the flywheel when resisting torque (5000+600*sin(theta)) N-m, CS = %.3f %c.\n\n',CS2,'%')"
   ]
   }
,
{
		   "cell_type": "markdown",
		   "metadata": {},
		   "source": [
			"## Example 16.14: To_find_diameter_and_cross_section.sce"
		   ]
		  },
  {
"cell_type": "code",
	   "execution_count": null,
	   "metadata": {
	    "collapsed": true
	   },
	   "outputs": [],
"source": [
"//To find diameter and cross section\n",
"clc\n",
"//Given:\n",
"N=800 //rpm\n",
"stroke=300 //mm\n",
"sigma=7*10^6 //N/m^2\n",
"rho=7200 //kg/m^3\n",
"//Solution:\n",
"//Refer Fig. 16.18\n",
"//Calculating the angular speed of the engine\n",
"omega=2*%pi*N/60 //rad/s\n",
"//Calculating the coefficient of fluctuation of speed\n",
"CS=4/100\n",
"//Diameter of the flywheel rim:\n",
"//Calculating the peripheral velocity of the flywheel rim\n",
"v=sqrt(sigma/rho) //m/s\n",
"//Calculating the diameter of the flywheel rim\n",
"D=v*60/(%pi*N) //m\n",
"//Cross-section of the flywheel rim:\n",
"//Calculating the value of 1 mm^2 on the turning moment diagram\n",
"c=500*%pi/30 //Value of 1 mm^2 on the turning moment diagram, N-m\n",
"//Calculating the maximum fluctuation of energy\n",
"deltaE=round((420-(-30))*c) //N-m\n",
"//Calculating the mass of the flywheel rim\n",
"m=deltaE/(v^2*CS) //kg\n",
"//Calculating the thickness of the flywheel rim\n",
"t=sqrt(m/(%pi*D*5*rho))*1000 //mm\n",
"//Calculating the width of the flywheel rim\n",
"b=5*t //mm\n",
"//Results:\n",
"printf('\n\n Diameter of the flywheel rim, D = %.3f m.\n\n',D)\n",
"printf(' Thickness of the flywheel rim, t = %d mm.\n\n',t)\n",
"printf(' Width of the flywheel rim, b = %d mm.\n\n',b)"
   ]
   }
,
{
		   "cell_type": "markdown",
		   "metadata": {},
		   "source": [
			"## Example 16.15: To_find_mass_and_cross_section.sce"
		   ]
		  },
  {
"cell_type": "code",
	   "execution_count": null,
	   "metadata": {
	    "collapsed": true
	   },
	   "outputs": [],
"source": [
"//To find mass and cross section\n",
"clc\n",
"//Given:\n",
"P=150*1000 //W\n",
"N=80 //rpm\n",
"CE=0.1\n",
"D=2, R=D/2 //m\n",
"rho=7200 //kg/m^3\n",
"//Solution:\n",
"//Calculating the angular speed of the engine\n",
"omega=2*%pi*N/60 //rad/s\n",
"//Calculating the coefficient of fluctuation of speed\n",
"CS=4/100\n",
"//Mass of the flywheel rim:\n",
"//Calculating the work done per cycle\n",
"WD=P*60/N //Work done per cycle, N-m\n",
"//Calculating the maximum fluctuation of energy\n",
"deltaE=WD*CE //N-m\n",
"//Calculating the mass moment of inertia of the flywheel\n",
"I=deltaE/(omega^2*CS) //kg-m^2\n",
"//Calculating the mass moment of inertia of the flywheel rim\n",
"Irim=0.95*I //kg-m^2\n",
"//Calculating the mass of the flywheel rim\n",
"k=R //Radius of gyration, m\n",
"m=Irim/k^2 //kg\n",
"//Calculating the cross-sectional area of the flywheel rim\n",
"A=m/(2*%pi*R*rho) //m^2\n",
"//Resilts:\n",
"printf('\n\n Mass of the flywheel rim, m = %d kg.\n\n',m)\n",
"printf(' Cross-sectional area of the flywheel rim, A = %.3f m^2.\n\n',A)"
   ]
   }
,
{
		   "cell_type": "markdown",
		   "metadata": {},
		   "source": [
			"## Example 16.16: To_find_MI_and_dimensions.sce"
		   ]
		  },
  {
"cell_type": "code",
	   "execution_count": null,
	   "metadata": {
	    "collapsed": true
	   },
	   "outputs": [],
"source": [
"//To find MI and dimensions\n",
"clc\n",
"//Given:\n",
"N=600 //rpm\n",
"rho=7250 //kg/m^3\n",
"sigma=6*10^6 //N/m^2\n",
"//Solution:\n",
"//Refer Fig. 16.19\n",
"//Calculating the angular speed of the engine\n",
"omega=2*%pi*N/60 //rad/s\n",
"//Calculating the total fluctuation of speed\n",
"CS=2/100\n",
"//Moment of inertia of the flywheel:\n",
"//Calculating the value of 1 mm^2 of turning moment diagram\n",
"c=250*%pi/60 //Value of 1 mm^2 of turning moment diagram, N-m\n",
"//Calculating the maximum fluctuation of energy\n",
"deltaE=round((162-(-35))*c) //N-m\n",
"//Calculating the moment of inertia of the flywheel\n",
"I=deltaE/(omega^2*CS) //kg-m^2\n",
"//Dimensions of the flywheel rim:\n",
"//Calculating the peripheral velocity of the flywheel\n",
"v=sqrt(sigma/rho) //m/s\n",
"//Calculating the mean diameter of the flywheel\n",
"D=v*60/(%pi*N) //m\n",
"//Calculating the maximum fluctuation of energy of the flywheel rim\n",
"deltaErim=0.92*deltaE //N-m\n",
"//Calculating the mass of the flywheel rim\n",
"m=deltaErim/(v^2*CS) //kg\n",
"//Calculating the thickness of the flywheel rim\n",
"t=sqrt(m/(%pi*D*2*rho))*1000 //mm\n",
"//Calculating the breadth of the flywheel rim\n",
"b=2*t //mm\n",
"//Results:\n",
"printf('\n\n Moment of inertia of the flywheel, I = %.1f kg-m^2.\n\n',I)\n",
"printf(' Thickness of the flywheel rim, t = %.1f mm.\n\n',t)\n",
"printf(' Breadth of the flywheel rim, b = %.1f mm.\n\n',b)"
   ]
   }
,
{
		   "cell_type": "markdown",
		   "metadata": {},
		   "source": [
			"## Example 16.17: To_find_MI_and_size.sce"
		   ]
		  },
  {
"cell_type": "code",
	   "execution_count": null,
	   "metadata": {
	    "collapsed": true
	   },
	   "outputs": [],
"source": [
"//To find MI and size\n",
"clc\n",
"//Given:\n",
"a1=5*10^-5, a2=21*10^-5, a3=85*10^-5, a4=8*10^-5 //m^2\n",
"N2=98, N1=102 //rpm\n",
"rho=8150 //kg/m^3\n",
"sigma=7.5*10^6 //N/m^2\n",
"//Solution:\n",
"//Refer Fig. 16.20\n",
"//Calculating the net area\n",
"a=a3-(a1+a2+a4) //Net area, m^2\n",
"//Calculating the value of 1 m^2 on the turning moment diagram in terms of work\n",
"c=14*10^6 //Value of 1 m^2 on the turning moment diagram, N-m\n",
"//Calculating the net work done per cycle\n",
"WD=a*c //Net work done per cycle, N-m\n",
"//Calculating the mean torque on the flywheel\n",
"Tmean=WD/(4*%pi) //N-m\n",
"FG=Tmean //N-m\n",
"//Calculating the work done during expansion stroke\n",
"WDe=a3*c //Work done during expansion stroke, N-m\n",
"//Calculating the value of AG\n",
"AG=WDe/(1/2*%pi) //N-m\n",
"//Calculating the excess torque\n",
"Texcess=AG-FG //Excess torque, N-m\n",
"AF=Texcess //N-m\n",
"//Calculating the value of DE\n",
"DE=AF/AG*%pi //rad\n",
"//Calculating the maximum fluctuation of energy\n",
"deltaE=1/2*DE*AF //N-m\n",
"//Moment of inertia of the flywheel:\n",
"//Calculating the mean speed during the cycle\n",
"N=(N1+N2)/2 //rpm\n",
"//Calculating the corresponding angular mean speed\n",
"omega=2*%pi*N/60 //rad/s\n",
"//Calculating the coefficient of fluctuation of speed\n",
"CS=(N1-N2)/N\n",
"//Calculating the moment of inertia of the flywheel\n",
"I=deltaE/(omega^2*CS) //kg-m^2\n",
"//Size of flywheel:\n",
"//Calculating the peripheral velocity of the flywheel\n",
"v=sqrt(sigma/rho) //m/s\n",
"//Calculating the mean diameter of the flywheel\n",
"D=v*60/(%pi*N) //m\n",
"//Calculating the mass of the flywheel rim\n",
"m=deltaE/(v^2*CS) //kg\n",
"//Calculating the thickness of the flywheel rim\n",
"t=sqrt(m/(%pi*D*4*rho))*1000 //mm\n",
"//Calculating the width of the flywheel rim\n",
"b=4*t //mm\n",
"//Results:\n",
"printf('\n\n Moment of inertia of the flywheel, I = %d kg-m^2.\n\n',I)\n",
"printf(' Thickness of the flywheel rim, t = %.1f mm.\n\n',t)\n",
"printf(' Width of the flywheel rim, b = %.1f mm.\n\n',b)"
   ]
   }
,
{
		   "cell_type": "markdown",
		   "metadata": {},
		   "source": [
			"## Example 16.18: To_find_diameter_and_cross_section.sce"
		   ]
		  },
  {
"cell_type": "code",
	   "execution_count": null,
	   "metadata": {
	    "collapsed": true
	   },
	   "outputs": [],
"source": [
"//To find diameter and cross section\n",
"clc\n",
"//Given:\n",
"P=50*1000 //W\n",
"N=150 //rpm\n",
"n=75\n",
"sigma=4*10^6 //N/m^2\n",
"rho=7200 //kg/m^3\n",
"//Solution:\n",
"//Refer Fig. 16.21\n",
"//Calculating the angular speed of the engine\n",
"omega=2*%pi*N/60 //rad/s\n",
"//Calculating the mean torque transmitted by the flywheel\n",
"Tmean=P/omega //N-m\n",
"FG=Tmean //N-m\n",
"//Calculating the work done per cycle\n",
"WD=Tmean*4*%pi //Work done per cycle, N-m\n",
"//Calculating the work done during power stroke\n",
"WDp=1.4*WD //Work done during power stroke, N-m\n",
"//Calculating the maximum torque transmitted by the flywheel\n",
"Tmax=WDp/(1/2*%pi) //N-m\n",
"BF=Tmax //N-m\n",
"//Calculating the excess torque\n",
"Texcess=Tmax-Tmean //N-m\n",
"BG=Texcess //N-m\n",
"//Calculating the value of DE\n",
"DE=BG/BF*%pi //N-m\n",
"//Calculating the maximum fluctuation of energy\n",
"deltaE=1/2*DE*BG //N-m\n",
"//Mean diameter of the flywheel:\n",
"//Calculating the peripheral velocity of the flywheel\n",
"v=sqrt(sigma/rho) //m/s\n",
"//Calculating the mean diameter of the flywheel\n",
"D=v*60/(%pi*N) //m\n",
"//Cross-sectional dimensions of the rim:\n",
"//Calculating the coefficient of fluctuation of speed\n",
"CS=1/100\n",
"//Calculating the total energy of the flywheel\n",
"E=deltaE/(2*CS) //N-m\n",
"//Calculating the energy of the rim\n",
"Erim=15/16*E //N-m\n",
"//Calculating the mass of the flywheel rim\n",
"m=Erim/(1/2*v^2) //kg\n",
"//Calculating the thickness of the rim\n",
"t=round(sqrt(m/(%pi*D*4*rho))*1000) //mm\n",
"//Calculating the width of the rim\n",
"b=4*t //mm\n",
"//Results:\n",
"printf('\n\n Mean diameter of the flywheel, D = %d m.\n\n',D)\n",
"printf(' Thickness of the flywheel rim, t = %d mm.\n\n',t)\n",
"printf(' Width of the flywheel rim, b = %d mm.\n\n',b)"
   ]
   }
,
{
		   "cell_type": "markdown",
		   "metadata": {},
		   "source": [
			"## Example 16.19: To_find_power_and_mass.sce"
		   ]
		  },
  {
"cell_type": "code",
	   "execution_count": null,
	   "metadata": {
	    "collapsed": true
	   },
	   "outputs": [],
"source": [
"//To find power and mass\n",
"clc\n",
"//Given:\n",
"N1=225, N2=200 //rpm\n",
"k=0.5 //m\n",
"E1=15*1000 //N-m\n",
"HolePunched=720 //per hour\n",
"//Solution:\n",
"//Power of the motor:\n",
"//Calculating the total energy required per second\n",
"E=E1*HolePunched/3600 //N-m/s\n",
"//Calculating the power of the motor\n",
"P=E/1000 //kW\n",
"//Minimum mass of the flywheel:\n",
"//Calculating the energy supplied by the motor in 2 seconds\n",
"E2=E*2 //N-m\n",
"//Calculating the energy supplied by the flywheel during punching\n",
"deltaE=E1-E2 //N-m\n",
"//Calculating the mean speed of the flywheel\n",
"N=(N1+N2)/2 //rpm\n",
"//Calculating the minimum mass of the flywheel\n",
"m=round(deltaE*900/(%pi^2*k^2*N*(N1-N2))) //kg\n",
"//Results:\n",
"printf('\n\n Power of the motor, P = %d kW.\n\n',P)\n",
"printf(' Minimum mass of the flywheel, m = %d kg.\n\n',m)"
   ]
   }
,
{
		   "cell_type": "markdown",
		   "metadata": {},
		   "source": [
			"## Example 16.1: To_find_maximum_and_minimum_speeds.sce"
		   ]
		  },
  {
"cell_type": "code",
	   "execution_count": null,
	   "metadata": {
	    "collapsed": true
	   },
	   "outputs": [],
"source": [
"//To find maximum and minimum speeds\n",
"clc\n",
"//Given:\n",
"m=6.5*1000 //kg\n",
"k=1.8 //m\n",
"deltaE=56*1000 //N-m\n",
"N=120 //rpm\n",
"//Solution:\n",
"//Calculating the maximum and minimum speeds\n",
"//We know that fluctuation of energy, deltaE = %pi^2/900*m*k^2*N*(N1-N2), or N1-N2 = (deltaE/(%pi^2/900*m*k^2*N))    .....(i)\n",
"//Also mean speed, N = (N1+N2)/2, or N1+N2 = 2*N                                                                     .....(ii)\n",
"A=[1 -1; 1 1]\n",
"B=[deltaE/(%pi^2/900*m*k^2*N); 2*N]\n",
"V=A \ B\n",
"N1=round(V(1)) //rpm\n",
"N2=round(V(2)) //rpm\n",
"//Results:\n",
"printf('\n\n Maximum speed, N1 = %d rpm.\n\n',N1)\n",
"printf(' Minimum speed, N2 = %d rpm.\n\n',N2)"
   ]
   }
,
{
		   "cell_type": "markdown",
		   "metadata": {},
		   "source": [
			"## Example 16.20: To_find_power_and_mass.sce"
		   ]
		  },
  {
"cell_type": "code",
	   "execution_count": null,
	   "metadata": {
	    "collapsed": true
	   },
	   "outputs": [],
"source": [
"//To find power and mass\n",
"clc\n",
"//Given:\n",
"d=38, t=32, s=100 //mm\n",
"E1=7 //N-m/mm^2 of sheared area\n",
"v=25 //m/s\n",
"//Solution:\n",
"//Power of the motor required:\n",
"//Calculating the sheared area\n",
"A=round(%pi*d*t) //mm^2\n",
"//Calculating the total energy required per hole\n",
"E1=E1*A //N-m\n",
"//Calculating the energy required for punching work per second\n",
"E=E1/10 //Energy required for punching work per second, N-m/s\n",
"//Calculating the power of the motor required\n",
"P=E/1000 //Power of the motor required, kW\n",
"//Mass of the flywheel required:\n",
"//Calculating the time required to punch a hole in a 32 mm thick plate\n",
"t32=10/(2*s)*t //Time required to punch a hole in 32 mm thick plate, seconds\n",
"//Calculating the energy supplied by the motor in t32 seconds\n",
"E2=E*t32 //N-m\n",
"//Calculating the energy to be supplied by the flywheel during punching\n",
"deltaE=E1-E2 //N-m\n",
"//Calculating the coefficient of fluctuation of speed\n",
"CS=3/100\n",
"//Calculating the mass of the flywheel required\n",
"m=round(deltaE/(v^2*CS)) //kg\n",
"//Results:\n",
"printf('\n\n Power of the motor required, P = %.3f kW.\n\n',P)\n",
"printf(' Mass of the flywheel required, m = %d kg.\n\n',m)"
   ]
   }
,
{
		   "cell_type": "markdown",
		   "metadata": {},
		   "source": [
			"## Example 16.21: To_find_speed_and_number_of_rivets.sce"
		   ]
		  },
  {
"cell_type": "code",
	   "execution_count": null,
	   "metadata": {
	    "collapsed": true
	   },
	   "outputs": [],
"source": [
"//To find speed and number of rivets\n",
"clc\n",
"//Given:\n",
"P=3 //kW\n",
"m=150 //kg\n",
"k=0.6 //m\n",
"N1=300 //rpm\n",
"//Solution:\n",
"//Calculating the angular speed of the flywheel before riveting\n",
"omega1=2*%pi*N1/60 //rad/s\n",
"//Speed of the flywheel immediately after riveting:\n",
"//Calculating the energy supplied by the motor\n",
"E2=P*1000 //N-m/s\n",
"//Calculating the energy absorbed during one riveting operation which takes 1 second\n",
"E1=10000 //N-m\n",
"//Calculating the energy to be supplied by the flywheel for each riveting operation per second\n",
"deltaE=E1-E2 //N-m\n",
"//Calculating the angular speed of the flywheel immediately after riveting\n",
"omega2=sqrt(omega1^2-(2*deltaE/(m*k^2))) //rad/s\n",
"//Calculating the corresponding speed in rpm\n",
"N2=omega2*60/(2*%pi) //rpm\n",
"//Calculating the number of rivets that can be closed per minute\n",
"n=E2/E1*60 //Number of rivets that can be closed per minute\n",
"//Results:\n",
"printf('\n\n Speed of the flywheel immediately after riveting, N2 = %.1f rpm.\n\n',N2)\n",
"printf(' Number of rivets that can be closed per minute = %d rivets.\n\n',n)"
   ]
   }
,
{
		   "cell_type": "markdown",
		   "metadata": {},
		   "source": [
			"## Example 16.22: To_find_mass_of_the_flywheel.sce"
		   ]
		  },
  {
"cell_type": "code",
	   "execution_count": null,
	   "metadata": {
	    "collapsed": true
	   },
	   "outputs": [],
"source": [
"//To find mass of the flywheel\n",
"clc\n",
"//Given:\n",
"d=40, t=15 //mm\n",
"NoofHoles=30 //per minute\n",
"EnergyRequired=6 //N-m/mm^2\n",
"Time=1/10 //seconds\n",
"N1=160, N2=140 //rpm\n",
"k=1 //m\n",
"//Solution:\n",
"//Calculating the sheared area per hole\n",
"A=round(%pi*d*t) //Sheared area per hole, mm^2\n",
"//Calculating the energy required to punch a hole\n",
"E1=EnergyRequired*A //N-m\n",
"//Calculating the energy required for punching work per second\n",
"E=E1*NoofHoles/60 //Energy required for punching work per second, N-m/s\n",
"//Calculating the energy supplied by the motor during the time of punching\n",
"E2=E*Time //N-m\n",
"//Calculating the energy to be supplied by the flywheel during punching a hole\n",
"deltaE=E1-E2 //N-m\n",
"//Calculating the mean speed of the flywheel\n",
"N=(N1+N2)/2 //rpm\n",
"//Calculating the mass of the flywheel required\n",
"m=round(deltaE*900/(%pi^2*k^2*N*(N1-N2))) //kg\n",
"//Results:\n",
"printf('\n\n Mass of the flywheel required, m = %d kg.\n\n',m)"
   ]
   }
,
{
		   "cell_type": "markdown",
		   "metadata": {},
		   "source": [
			"## Example 16.23: To_find_power_and_cross_section.sce"
		   ]
		  },
  {
"cell_type": "code",
	   "execution_count": null,
	   "metadata": {
	    "collapsed": true
	   },
	   "outputs": [],
"source": [
"//To find power and cross section\n",
"clc\n",
"//Given:\n",
"n=25\n",
"d1=25/1000, t1=18/1000, D=1.4, R=D/2 //m\n",
"touu=300*10^6 //N/m^2\n",
"etam=95/100, CS=0.1\n",
"sigma=6*10^6 //N/m^2\n",
"rho=7250 //kg/m^3\n",
"//Solution:\n",
"//Power needed for the driving motor:\n",
"//Calculating the area of the plate sheared\n",
"AS=%pi*d1*t1 //m^2\n",
"//Calculating the maximum shearing force required for punching\n",
"FS=AS*touu //N\n",
"//Calculating the energy required per stroke\n",
"E=1/2*FS*t1 //Energy required per stroke, N-m\n",
"//Calculating the energy required per minute\n",
"E1=E*n //Energy required per minute, N-m\n",
"//Calculating the power required for the driving motor\n",
"P=E1/(60*etam)/1000 //Energy required for the driving motor, kW\n",
"//Dimensions for the rim cross-section:\n",
"//Calculating the maximum fluctuation of energy\n",
"deltaE=9/10*E //N-m\n",
"//Calculating the maximum fluctuation of energy provided by the rim\n",
"deltaErim=0.95*deltaE //N-m\n",
"//Calculating the mean speed of the flywheel\n",
"N=9*25 //rpm\n",
"//Calculating the mean angular speed\n",
"omega=2*%pi*N/60 //rad/s\n",
"//Calculating the mass of the flywheel\n",
"m=round(deltaErim/(R^2*omega^2*CS)) //kg\n",
"//Calculating the thickness of rim\n",
"t=sqrt(m/(%pi*D*2*rho))*1000 //mm\n",
"//Calculating the width of rim\n",
"b=2*t //mm\n",
"//Results:\n",
"printf('\n\n Power needed for the driving motor = %.3f kW.\n\n',P)\n",
"printf(' Thickness of the flywheel rim, t = %d mm.\n\n',t)\n",
"printf(' Width of the flywheel rim, b = %d mm.\n\n',b)"
   ]
   }
,
{
		   "cell_type": "markdown",
		   "metadata": {},
		   "source": [
			"## Example 16.2: To_find_angular_acceleration_and_KE.sce"
		   ]
		  },
  {
"cell_type": "code",
	   "execution_count": null,
	   "metadata": {
	    "collapsed": true
	   },
	   "outputs": [],
"source": [
"//To find angular acceleration and KE\n",
"clc\n",
"//Given:\n",
"k=1 //m\n",
"m=2500 //kg\n",
"T=1500 //N-m\n",
"//Solution:\n",
"//Angular acceleration of the flywheel:\n",
"//Calculating the mass moment of inertia of the flywheel\n",
"I=m*k^2 //kg-m^2\n",
"//Calculating the angular acceleration of the flywheel\n",
"alpha=T/I //rad/s^2\n",
"//Kinetic energy of the flywheel:\n",
"omega1=0 //Angular speed at rest\n",
"//Calculating the angular speed after 10 seconds\n",
"omega2=omega1+alpha*10 //rad/s\n",
"//Calculating the kinetic energy of the flywheel\n",
"KE=1/2*I*(omega2)^2/1000 //Kinetic energy of the flywheel, kN-m\n",
"//Results:\n",
"printf('\n\n Angular acceleration of the flywheel, alpha = %.1f rad/s^2.\n\n',alpha)\n",
"printf(' Kinetic energy of the flywheel = %d kN-m.\n\n',KE)"
   ]
   }
,
{
		   "cell_type": "markdown",
		   "metadata": {},
		   "source": [
			"## Example 16.3: To_find_weight_of_flywheel.sce"
		   ]
		  },
  {
"cell_type": "code",
	   "execution_count": null,
	   "metadata": {
	    "collapsed": true
	   },
	   "outputs": [],
"source": [
"//To find weight of flywheel\n",
"clc\n",
"//Given:\n",
"P=300*1000 //W\n",
"N=90 //rpm\n",
"CE=0.1\n",
"k=2 //m\n",
"//Solution:\n",
"//Calculating the mean angular speed\n",
"omega=2*%pi*N/60 //rad/s\n",
"//Calculating the coefficient of fluctuation of speed\n",
"CS=1/100\n",
"//Calculating the work done per cycle\n",
"WD=P*60/N //Work done per cycle, N-m\n",
"//Calculating the maximum fluctuation of energy\n",
"deltaE=WD*CE //N-m\n",
"//Calculating the mass of the flywheel\n",
"m=deltaE/(k^2*omega^2*CS) //kg\n",
"//Results:\n",
"printf('\n\n Mass of the flywheel, m = %d kg.\n\n',m)"
   ]
   }
,
{
		   "cell_type": "markdown",
		   "metadata": {},
		   "source": [
			"## Example 16.4: To_find_coefficient_of_fluctuation_of_speed.sce"
		   ]
		  },
  {
"cell_type": "code",
	   "execution_count": null,
	   "metadata": {
	    "collapsed": true
	   },
	   "outputs": [],
"source": [
"//To find coefficient of fluctuation of speed\n",
"clc\n",
"//Given:\n",
"m=36 //kg\n",
"k=150/1000 //m\n",
"N=1800 //rpm\n",
"//Solution:\n",
"//Refer Fig. 16.6\n",
"//Calculating the angular speed of the crank\n",
"omega=2*%pi*N/60 //rad/s\n",
"//Calculating the value of 1 mm^2 on the turning moment diagram\n",
"c=5*%pi/180 //Value of 1 mm^2 on turning miment diagram, N-m\n",
"//Calculating the maximum fluctuation of energy\n",
"//From the turning moment diagram, maximum energy = E+295, and minimum energy = E-690\n",
"deltaE=(285-(-690))*c //N-m\n",
"//Calculating the coefficient of fluctuation of energy\n",
"CS=deltaE/(m*k^2*omega^2)*100 //%\n",
"//Results:\n",
"printf('\n\n Coefficient of fluctuation of speed, CS = %.1f %c.\n\n',CS,'%')"
   ]
   }
,
{
		   "cell_type": "markdown",
		   "metadata": {},
		   "source": [
			"## Example 16.5: To_find_mass_of_the_flywheel.sce"
		   ]
		  },
  {
"cell_type": "code",
	   "execution_count": null,
	   "metadata": {
	    "collapsed": true
	   },
	   "outputs": [],
"source": [
"//To find mass of the flywheel\n",
"clc\n",
"//Given:\n",
"N=600 //rpm\n",
"R=0.5 //m\n",
"//Solution:\n",
"//Refer Fig. 16.7\n",
"//Calculating the angular speed of the crank\n",
"omega=2*%pi*N/60 //rad/s\n",
"//Calculating the coefficient of fluctuation of speed\n",
"CS=3/100\n",
"//Calculating the value of 1 mm^2 on turning moment diagram\n",
"c=600*%pi/60 //Value of 1 mm^2 on turning moment diagram, N-m\n",
"//Calculating the maximum fluctuation of energy\n",
"//From the turning moment diagram, maximum fluctuation = E+52, and minimum fluctuation = E-120\n",
"deltaE=(52-(-120))*c //N-m\n",
"//Calculating the mass of the flywheel\n",
"m=deltaE/(R^2*omega^2*CS) //kg\n",
"//Results:\n",
"printf('\n\n Mass of the flywheel, m = %d kg.\n\n',m)"
   ]
   }
,
{
		   "cell_type": "markdown",
		   "metadata": {},
		   "source": [
			"## Example 16.6: To_find_power_and_speed_fluctuation.sce"
		   ]
		  },
  {
"cell_type": "code",
	   "execution_count": null,
	   "metadata": {
	    "collapsed": true
	   },
	   "outputs": [],
"source": [
"//To find power and speed fluctuation\n",
"clc\n",
"//Given:\n",
"N=250 //rpm\n",
"m=500 //kg\n",
"k=600/1000 //m\n",
"//Solution:\n",
"//Refer Fig. 16.8\n",
"//Calculating the angular speed of the crank\n",
"omega=2*%pi*N/60 //rad/s\n",
"//Calculating the torque required for one complete cycle\n",
"T=(6*%pi*750)+(1/2*%pi*(3000-750))+(2*%pi*(3000-750))+(1/2*%pi*(3000-750)) //N-m\n",
"//Calculating the mean torque\n",
"Tmean=T/(6*%pi) //N-m\n",
"//Calculating the power required to drive the machine\n",
"P=Tmean*omega/1000 //kW\n",
"//Coefficient of fluctuation of speed:\n",
"//Calculating the value of LM\n",
"LM=%pi*((3000-1875)/(3000-750))\n",
"//Calculating the value of NP\n",
"NP=%pi*((3000-1875)/(3000-750))\n",
"//Calculating the value of BM\n",
"BM=3000-1875 //N-m\n",
"CN=BM\n",
"//Calculating the value of MN\n",
"MN=2*%pi\n",
"//Calculating the maximum fluctuation of energy\n",
"deltaE=(1/2*LM*BM)+(MN*BM)+(1/2*NP*CN) //N-m\n",
"//Calculating the coefficient of fluctuation of speed\n",
"CS=deltaE/(m*k^2*omega^2)\n",
"//Results:\n",
"printf('\n\n Power required to drive the machine, P = %.3f kW.\n\n',P)\n",
"printf(' Coefficient of speed, CS = %.3f.\n\n',CS)"
   ]
   }
,
{
		   "cell_type": "markdown",
		   "metadata": {},
		   "source": [
			"## Example 16.7: To_find_coefficient_of_fluctuation.sce"
		   ]
		  },
  {
"cell_type": "code",
	   "execution_count": null,
	   "metadata": {
	    "collapsed": true
	   },
	   "outputs": [],
"source": [
"//To find coefficient of fluctuation\n",
"clc\n",
"//Given:\n",
"N=100 //rpm\n",
"k=1.75 //m\n",
"//Solution:\n",
"//Refer Fig. 16.9\n",
"//Calculating the angular speed of the crank\n",
"omega=2*%pi*N/60 //rad/s\n",
"//Calculating the coefficient of fluctuation of speed\n",
"CS=1.5/100\n",
"//Coefficient of fluctuation of energy:\n",
"AB=2000, LM=1500 //N-m\n",
"//Calculating the work done per cycle\n",
"WD=(1/2*%pi*AB)+(1/2*%pi*LM) //Work done per cycle, N-m\n",
"//Calculating the mean resisting torque\n",
"Tmean=WD/(2*%pi) //N-m\n",
"//Calculating the value of CD\n",
"CD=%pi/2000*(2000-875) //rad\n",
"//Calculating the maximum fluctuation of energy\n",
"deltaE=1/2*CD*(2000-875) //N-m\n",
"//Calculating the coefficient of fluctuation of energy\n",
"Ce=deltaE/WD*100 //%\n",
"//Calculating the mass of the flywheel\n",
"m=deltaE/(k^2*omega^2*CS) //kg\n",
"//Crank angles for minimum and maximum speeds:\n",
"//Calculating the value of CE\n",
"CE=(2000-875)/2000*(4*%pi/9) //rad\n",
"//Calculating the crank angle for minimum speed\n",
"thetaC=((4*%pi/9)-CE)*180/%pi //degrees\n",
"//Calculating the value of ED\n",
"ED=(2000-875)/2000*(%pi-(4*%pi/9)) //rad\n",
"//Calculating the crank angle for maximum speed\n",
"thetaD=((4*%pi/9)+ED)*180/%pi //degrees\n",
"//Results:\n",
"printf('\n\n Coefficient of fluctuation of energy, CE = %d %c.\n\n',Ce,'%')\n",
"printf(' Mass of the flywheel, m = %.1f kg.\n\n',m)\n",
"printf(' Crank angle from IDC for the minimum speed, thetaC = %d degrees.\n\n',thetaC)\n",
"printf(' Crank angle from IDC for the maximum speed, thetaD = %d degrees.\n\n',thetaD)"
   ]
   }
,
{
		   "cell_type": "markdown",
		   "metadata": {},
		   "source": [
			"## Example 16.8: To_find_power_and_coefficients.sce"
		   ]
		  },
  {
"cell_type": "code",
	   "execution_count": null,
	   "metadata": {
	    "collapsed": true
	   },
	   "outputs": [],
"source": [
"//To find power and coefficients\n",
"clc\n",
"//Given:\n",
"N=600 //rpm\n",
"Tmax=90 //N-m\n",
"m=12 //kg\n",
"k=80/1000 //m\n",
"//Solution:\n",
"//Refer Fig. 16.10\n",
"//Calculating the angular speed of the crank\n",
"omega=2*%pi*N/60 //rad/s\n",
"//Power developed:\n",
"//Calculating the work done per cycle\n",
"WD=3*1/2*%pi*90 //Work done per cycle, N-m\n",
"//Calculating the mean torque\n",
"Tmean=WD/(2*%pi) //N-m\\n",
"//Calculating the power developed\n",
"P=Tmean*omega/1000 //Power developed, kW\n",
"//Coefficient of fluctuation of speed:\n",
"//Calculating the maximum fluctuation of energy\n",
"//From the torque-crank angle diagram, maximum energy=E+5.89, and minimum energy=E-5.89\n",
"deltaE=5.89-(-5.89) //N-m\n",
"//Calculating the coefficient of fluctuation of speed\n",
"CS=round(deltaE/(m*k^2*omega^2)*100) //%\n",
"//Calculating the coefficient of fluctuation of energy\n",
"CE=deltaE/WD*100 //%\n",
"//Calculating the maximum angular acceleration of the flywheel\n",
"alpha=(Tmax-Tmean)/(m*k^2) //rad/s^2\n",
"//Results:\n",
"printf('\n\n Power developed = %.2f kW.\n\n',P)\n",
"printf(' Coefficient of fluctuation of speed, CS = %d %c.\n\n',CS,'%')\n",
"printf(' Coefficient of fluctuation of energy, CE = %.2f %c.\n\n',CE,'%')\n",
"printf(' Maximum angular acceleration of the flywheel, alpha = %d rad/s^2.\n\n',alpha)"
   ]
   }
,
{
		   "cell_type": "markdown",
		   "metadata": {},
		   "source": [
			"## Example 16.9: To_find_moment_of_inertia.sce"
		   ]
		  },
  {
"cell_type": "code",
	   "execution_count": null,
	   "metadata": {
	    "collapsed": true
	   },
	   "outputs": [],
"source": [
"//To find moment of inertia\n",
"clc\n",
"//Given:\n",
"P=20*1000 //W\n",
"N=300 //rpm\n",
"//Solution:\n",
"//Refer Fig. 16.11\n",
"//Calculating the angular speed of the crank\n",
"omega=2*%pi*N/60 //ra/s\n",
"//Calculating the coefficient of fluctuation of speed\n",
"CS=4/100\n",
"//Calculating the number of working strokes per cycle for a four stroke engine\n",
"n=N/2\n",
"//Calculating the work done per cycle\n",
"WD=P*60/n //Work done per cycle, N-m\n",
"//Calculating the work done during expansion cycle\n",
"WE=WD*3/2 //N-m\n",
"//Calculating the maximum turning moment\n",
"Tmax=WE*2/%pi //N-m\n",
"//Calculating the mean turning moment\n",
"Tmean=WD/(4*%pi) //N-m\n",
"//Calculating the excess turning moment\n",
"Texcess=Tmax-Tmean //N-m\n",
"//Calculating the value of DE\n",
"DE=Texcess/Tmax*%pi //rad\n",
"//Calculating the maximum fluctuation of energy\n",
"deltaE=(1/2*DE*Texcess) //N-m\n",
"//Calculating the moment of inertia of the flywheel\n",
"I=deltaE/(omega^2*CS) //kg-m^2\n",
"//Results:\n",
"printf('\n\n Moment of inertia of the flywheel, I = %.1f kg-m^2.\n\n',I)"
   ]
   }
],
"metadata": {
		  "kernelspec": {
		   "display_name": "Scilab",
		   "language": "scilab",
		   "name": "scilab"
		  },
		  "language_info": {
		   "file_extension": ".sce",
		   "help_links": [
			{
			 "text": "MetaKernel Magics",
			 "url": "https://github.com/calysto/metakernel/blob/master/metakernel/magics/README.md"
			}
		   ],
		   "mimetype": "text/x-octave",
		   "name": "scilab",
		   "version": "0.7.1"
		  }
		 },
		 "nbformat": 4,
		 "nbformat_minor": 0
}
