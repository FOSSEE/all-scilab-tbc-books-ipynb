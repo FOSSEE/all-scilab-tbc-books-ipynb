{
"cells": [
 {
		   "cell_type": "markdown",
	   "metadata": {},
	   "source": [
       "# Chapter 15: Inertia Forces in Reciprocating Parts"
	   ]
	},
{
		   "cell_type": "markdown",
		   "metadata": {},
		   "source": [
			"## Example 15.10: To_find_reaction_thrust_and_turning_moment.sce"
		   ]
		  },
  {
"cell_type": "code",
	   "execution_count": null,
	   "metadata": {
	    "collapsed": true
	   },
	   "outputs": [],
"source": [
"//To find reaction, thrust and turning moment\n",
"clc\n",
"//Given:\n",
"aP=36 //m/s^2\n",
"theta=30 //degrees\n",
"p=0.5 //N/mm^2\n",
"RF=600 //N\n",
"D=300/1000, r=300/1000 //m\n",
"mR=180 //kg\n",
"n=4.5\n",
"//Solution:\n",
"//Reaction on the guide bars:\n",
"//Calculating the load on the piston\n",
"FL=round(p*%pi/4*(D*1000)^2) //N\n",
"//Calculating the inertia force due to reciprocating parts\n",
"FI=mR*aP //N\n",
"//Calculating the piston effort\n",
"FP=(FL-FI-RF)/1000 //kN\n",
"//Calculating the angle of inclination of the connecting rod to the line of stroke\n",
"phi=asind(sind(theta)/n) //degrees\n",
"//Calculating the reaction on the guide bars\n",
"FN=FP*tand(phi) //kN\n",
"//Calculating the thrust on the crank shaft bearing\n",
"FB=(FP*cosd(phi+theta))/cosd(phi) //kN\n",
"//Calculating the turning moment on the crank shaft\n",
"T=(FP*sind(theta+phi))/cosd(phi)*r //kN-m\n",
"//Results:\n",
"printf('\n\n Reaction on the guide bars, FN = %.2f kN.\n\n',FN)\n",
"printf(' Thrust on the crank shaft bearing, FB = %.1f kN.\n\n',FB)\n",
"printf(' Turning moment on the crank shaft, T = %.2f kN-m.\n\n',T)"
   ]
   }
,
{
		   "cell_type": "markdown",
		   "metadata": {},
		   "source": [
			"## Example 15.11: To_find_force_load_thrust_and_speed.sce"
		   ]
		  },
  {
"cell_type": "code",
	   "execution_count": null,
	   "metadata": {
	    "collapsed": true
	   },
	   "outputs": [],
"source": [
"//To find force, load, thrust and speed\n",
"clc\n",
"//Given:\n",
"D=100/1000, L=120/1000, r=L/2, l=250/1000 //m\n",
"mR=1.1 //kg\n",
"N=2000 //rpm\n",
"theta=20 //degrees\n",
"p=700 //kN/m^2\n",
"//Solution:\n",
"//Calculating the angular speed of the crank\n",
"omega=2*%pi*N/60 //rad/s\n",
"//Net force on the piston:\n",
"//Calculating the force due to gas pressure\n",
"FL=p*%pi/4*D^2 //kN\n",
"//Calculating the ratio of lengths of the connecting rod and crank\n",
"n=l/r\n",
"//Calculating the inertia force on the piston\n",
"FI=round(mR*omega^2*r*(cosd(theta)+cosd(2*theta)/n)) //N\n",
"//Calculating the net force on the piston\n",
"FP=(FL*1000)-FI+mR*9.81 //N\n",
"//Resultant force on the gudgeon pin:\n",
"//Calculating the angle of inclination of the connecting rod to the line of stroke\n",
"phi=asind(sind(theta)/n) //degrees\n",
"//Calculating the resultant load on the gudgeon pin\n",
"FQ=round(FP/cosd(phi)) //N\n",
"//Calculating the thrust on the cylinder walls\n",
"FN=FP*tand(phi) //N\n",
"//Speed, above which, the gudgeon pin load would be reversed in direction:\n",
"//Calculating the minimum speed for FP to be negative\n",
"omega1=sqrt((FL*1000+mR*9.81)/(mR*r*(cosd(theta)+cosd(2*theta)/n))) //rad/s\n",
"//Calculating the corresponding speed in rpm\n",
"N1=omega1*60/(2*%pi) //rpm\n",
"//Results:\n",
"printf('\n\n Net force on the piston, FP = %.1f N.\n\n',FP)\n",
"printf(' Resultant load on the gudgeon pin, FQ = %d N.\n\n',FQ)\n",
"printf(' Thrust on the cylinder walls, FN = %.1f N.\n\n',FN)\n",
"printf(' Speed, above which, the gudgeon pin load would be reversed in direction, N1 > %d rpm.\n\n',N1)"
   ]
   }
,
{
		   "cell_type": "markdown",
		   "metadata": {},
		   "source": [
			"## Example 15.12: To_find_turning_moment_thrust_and_acceleration.sce"
		   ]
		  },
  {
"cell_type": "code",
	   "execution_count": null,
	   "metadata": {
	    "collapsed": true
	   },
	   "outputs": [],
"source": [
"//To find turning moment, thrust and acceleration\n",
"clc\n",
"//Given:\n",
"N=120 //rpm\n",
"D=250/1000, L=400/1000, r=L/2, l=0.6, d=50/1000 //m\n",
"mR=60 //kg\n",
"theta=45 //degrees\n",
"p1=550*1000, p2=70*1000 //N/m^2\n",
"//Solution:\n",
"//Calculating the angular speed of the crank\n",
"omega=2*%pi*N/60 //rad/s\n",
"//Turning moment on the crankshaft:\n",
"//Calculating the area of the piston on the cover end side\n",
"A1=%pi/4*D^2 //m^2\n",
"//Calculating the area of the piston rod\n",
"a=%pi/4*d^2 //m^2\n",
"//Calculating the net load on the piston\n",
"FL=p1*A1-p2*(A1-a) //N\n",
"//Calculating the ratio of lengths of the connecting rod and crank\n",
"n=l/r\n",
"//Calculating the inertia force on the reciprocating parts\n",
"FI=mR*omega^2*r*(cosd(theta)+cosd(2*theta)/n) //N\n",
"//Calculating the net force on the piston or piston effort\n",
"FP=(FL-FI)/1000 //kN\n",
"//Calculating the angle of inclination of the connecting rod to the line of stroke\n",
"phi=asind(sind(theta)/n) //degrees\n",
"//Calculating the turning moment on the crank shaft\n",
"T=(FP*sind(theta+phi))/cosd(phi)*r*1000 //N-m\n",
"//Calculating the thrust on the bearings\n",
"FB=(FP*cosd(theta+phi))/cosd(phi) //kN\n",
"//Acceleration of the flywheel:\n",
"P=20*1000 //W\n",
"m=60 //kg\n",
"k=0.6 //m\n",
"//Calculating the mass moment of inertia of the flywheel\n",
"I=m*k^2 //kg-m^2\n",
"//Calculating the resisting torque\n",
"TR=P*60/(2*%pi*N) //N-m\n",
"//Calculating the acceleration of the flywheel\n",
"alpha=(T-TR)/I //rad/s^2\n",
"//Results:\n",
"printf('\n\n Turning moment on the crank shaft, T = %d N-m.\n\n',T)\n",
"printf(' Thrust on the bearings, FB = %.2f kN.\n\n',FB)\n",
"printf(' Acceleration of the flywheel, alpha = %.1f rad/s^2.\n\n',alpha)"
   ]
   }
,
{
		   "cell_type": "markdown",
		   "metadata": {},
		   "source": [
			"## Example 15.13: To_find_effort_thrust_and_turning_moment.sce"
		   ]
		  },
  {
"cell_type": "code",
	   "execution_count": null,
	   "metadata": {
	    "collapsed": true
	   },
	   "outputs": [],
"source": [
"//To find effort, thrust and turning moment\n",
"clc\n",
"//Given:\n",
"D=300/1000, L=500/1000, r=L/2 //m\n",
"n=4.5\n",
"N=180 //rpm\n",
"mR=280 //kg\n",
"theta=45 //degrees\n",
"p1=0.1 //N/mm^2\n",
"CR=14 //Compression ration, V1/V2\n",
"//Solution:\n",
"//Refer Fig. 15.12\n",
"//Calculating the angular speed of the crank\n",
"omega=2*%pi*N/60 //rad/s\n",
"//Calculating the pressure corresponding to point 2\n",
"p2=p1*(CR)^1.35 //N/mm^2\n",
"//Calculating the swept volume\n",
"VS=%pi/4*D^2*L //m^3\n",
"//Calculating the clearance volume\n",
"VC=VS/(CR-1) //m^3\n",
"//Calculating the volume corresponding to point 3\n",
"V3=VC+(1/10*VS) //m^3\n",
"//Calculating the displacement of the piston corresponding to crank displacement of 45 degrees\n",
"x=r*((1-cosd(theta))+(sind(theta))^2/(2*n)) //m\n",
"//Calculating the volume corresponding to point 4'\n",
"V4dash=VC+(%pi/4*D^2*x) //m^2\n",
"//Calculating the pressure corresponding to point 4'\n",
"p3=p2\n",
"p4dash=p3*(V3/V4dash)^1.35 //N/mm^2\n",
"//Calculating the difference of pressures on two sides of the piston\n",
"p=(p4dash-p1)*10^6 //N/m^2\n",
"//Calculating the net load on the piston\n",
"FL=p*%pi/4*D^2 //N\n",
"//Calculating the inertia force on the reciprocating parts\n",
"FI=mR*omega^2*r*(cosd(theta)+cosd(2*theta)/n) //N\n",
"//Calculating the net force on the piston or piston effort\n",
"FP=FL-FI+mR*9.81 //N\n",
"//Crank-pin effort:\n",
"//Calculating the angle of inclination of the connecting rod to the line of stroke\n",
"phi=asind(sind(theta)/n) //degrees\n",
"//Calculating the crank-pin effort\n",
"FT=(FP*sind(theta+phi))/(cosd(phi)*1000) //kN\n",
"//Calculating the thrust on the bearings\n",
"FB=(FP*cosd(theta+phi))/(cosd(phi)*1000) //kN\n",
"//Calculating the turning moment on the crankshaft\n",
"T=FT*r //kN-m\n",
"//Results:\n",
"printf('\n\n Crank-pin effort, FT = %.3f kN.\n\n',FT)\n",
"printf(' Thrust on the bearings, FB = %.3f kN.\n\n',FB)\n",
"printf(' Turning moment on the crankshaft, T = %.2f kN-m.\n\n',T)"
   ]
   }
,
{
		   "cell_type": "markdown",
		   "metadata": {},
		   "source": [
			"## Example 15.14: To_find_turning_moment.sce"
		   ]
		  },
  {
"cell_type": "code",
	   "execution_count": null,
	   "metadata": {
	    "collapsed": true
	   },
	   "outputs": [],
"source": [
"//To find turning moment\n",
"clc\n",
"//Given:\n",
"D=240/1000, L=360/1000, r=L/2, l=0.6 //m\n",
"N=300 //rpm\n",
"mR=160 //kg\n",
"pA=(8+1.03)*10^5, pE=(-0.75+1.03)*10^5 //N/m^2\n",
"FR=500 //N\n",
"theta=75 //degrees\n",
"//Solution:\n",
"//Refer Fig. 15.13\n",
"//Calculating the angular speed of the crank\n",
"omega=2*%pi*N/60 //rad/s\n",
"//Calculating the stroke volume\n",
"VS=%pi/4*D^2*L //m^3\n",
"//Calculating the volume of steam at cut-off\n",
"VB=VS/3 //m^3\n",
"//Calculating the ratio of lengths of the connecting rod and crank\n",
"n=l/r\n",
"//Calculating the displacement of the piston when the crank position is 75 degrees from the top dead centre\n",
"x=r*((1-cosd(theta))+(sind(theta))^2/(2*n)) //m^3\n",
"//Calculating the volume corresponding to point C'\n",
"VCdash=VS*x/L //m^3\n",
"//Calculating the pressure corresponding to point C'\n",
"pB=pA\n",
"pCdash=round((pB*VB)/VCdash) //N/m^2\n",
"//Calculating the difference of pressures on the two sides of the piston\n",
"p=round(pCdash-pE) //N/m^2\n",
"//Calculating the net load on the piston\n",
"FL=round(%pi/4*D^2*p) //N\n",
"//Calculating the inertia force on the reciprocating parts\n",
"FI=round(mR*omega^2*r*(cosd(theta)+(cosd(2*theta)/n))) //N\n",
"//Calculating the piston effort\n",
"FP=FL-FI+mR*9.81-FR //N\n",
"//Turning moment on the crankshaft:\n",
"//Calculating the angle of inclination of the connecting rod to the line of stroke\n",
"phi=asind(sind(theta)/n) //degrees\n",
"//Calculating the turning moment on the crankshaft\n",
"T=(FP*sind(theta+phi))/cosd(phi)*r //N-m\n",
"//Results:\n",
"printf('\n\n Turning moment on the crankshaft, T = %d N-m.\n\n',T)"
   ]
   }
,
{
		   "cell_type": "markdown",
		   "metadata": {},
		   "source": [
			"## Example 15.15: To_find_equivalent_system.sce"
		   ]
		  },
  {
"cell_type": "code",
	   "execution_count": null,
	   "metadata": {
	    "collapsed": true
	   },
	   "outputs": [],
"source": [
"//To find equivalent system\n",
"clc\n",
"//Given:\n",
"l=300, l1=200 //mm\n",
"m=15 //kg\n",
"I=7000 //kg-mm^2\n",
"//Solution:\n",
"//Refer Fig. 15.16 and Fig. 15.17\n",
"//Calculating the radius of gyration of the connecting rod about an axis passing through its centre of gravity\n",
"kG=sqrt(I/m) //mm\n",
"//Calculating the distance of other mass from the centre of gravity\n",
"l2=(kG)^2/l1 //mm\n",
"//Calculating the magnitude of mass placed at the small end centre\n",
"m1=(l2*m)/(l1+l2) //kg\n",
"//Calculating the magnitude of the mass placed at a distance l2 from the centre of gravity\n",
"m2=(l1*m)/(l1+l2) //kg\n",
"//Results:\n",
"printf('\n\n Mass placed at the small end centre, m1 = %.2f kg.\n\n',m1)\n",
"printf(' Mass placed at a distance %.2f mm from the centre of gravity, m2 = %.2f kg.\n\n',l2,m2)"
   ]
   }
,
{
		   "cell_type": "markdown",
		   "metadata": {},
		   "source": [
			"## Example 15.16: To_find_equivalent_system.sce"
		   ]
		  },
  {
"cell_type": "code",
	   "execution_count": null,
	   "metadata": {
	    "collapsed": true
	   },
	   "outputs": [],
"source": [
"//To find equivalent system\n",
"clc\n",
"//Given:\n",
"h=650/1000, l1=(650-25)/1000 //m\n",
"m=37.5 //kg\n",
"tp=1.87 //seconds\n",
"//Solution:\n",
"//Refer Fig. 15.18 and Fig. 15.19\n",
"//Calculating the radius of gyration of the connecting rod about an axis passing through its centre of gravity\n",
"kG=sqrt((tp/(2*%pi))^2*(9.81*h)-h^2) //m\n",
"//Calculating the distance of mass m2 from the centre of gravity\n",
"l2=(kG)^2/l1 //m\n",
"//Calculating the magnitude of mass placed at the small end centre\n",
"m1=(l2*m)/(l1+l2) //kg\n",
"//Calculating the magnitude of mass placed at a distance l2 from centre of gravity\n",
"m2=(l1*m)/(l1+l2) //kg\n",
"//Results:\n",
"printf('\n\n Mass placed at the small end centre A, m1 = %d kg.\n\n',m1)\n",
"printf(' Mass placed at a distance %.3f m from G, m2 = %.1f kg.\n\n',l2,m2)"
   ]
   }
,
{
		   "cell_type": "markdown",
		   "metadata": {},
		   "source": [
			"## Example 15.17: To_find_radius_and_MI.sce"
		   ]
		  },
  {
"cell_type": "code",
	   "execution_count": null,
	   "metadata": {
	    "collapsed": true
	   },
	   "outputs": [],
"source": [
"//To find radius and MI\n",
"clc\n",
"//Given:\n",
"m=55 //kg\n",
"l=850/1000, d1=75/1000, d2=100/1000 //m\n",
"tp1=1.83, tp2=1.68 //seconds\n",
"//Solution:\n",
"//Refer Fig. 15.20\n",
"//Calculating the length of equivalent simple pendulum when suspended from the top of small end bearing\n",
"L1=9.81*(tp1/(2*%pi))^2 //m\n",
"//Calculating the length of equivalent simple pendulum when suspended from the top of big end bearing\n",
"L2=9.81*(tp2/(2*%pi))^2 //m\n",
"//Radius of gyration of the rod about an axis passing through the centre of gravity and perpendicular to the plane of oscillation:\n",
"//Calculating the distances of centre of gravity from the top of small end and big end bearings\n",
"//We have, h1*(L1-h1) = h2*(L2-h2), or h1^2-h2^2+h2*L2-h1*L1 = 0                                                                    .....(i)\n",
"//Also, h1+h2 = d1/2+l+d2/2, or h1+h2-d1/2-l-d2/2 = 0                                                                               .....(ii)\n",
"function y=f(x)\n",
"    h1=x(1)\n",
"    h2=x(2)\n",
"    y(1)=h1^2-h2^2+h2*L2-h1*L1\n",
"    y(2)=h1+h2-d1/2-l-d2/2\n",
"endfunction\n",
"z=fsolve([1,1],f)\n",
"h1=z(1), h2=z(2) //m\n",
"//Calculating the required radius of gyration of the rod\n",
"kG=sqrt(h1*(L1-h1)) //m\n",
"//Calculating the moment of inertia of the rod\n",
"I=m*(kG)^2 //kg-m^2\n",
"//Dynamically equivalent system for the rod:\n",
"//Calculating the distance of the mass situated at the centre of small end bearing from the centre of gravity\n",
"l1=h1-d1/2 //m\n",
"//Calculating the distance of the second mass from the centre of gravity towards big end bearing\n",
"l2=(kG)^2/l1 //m\n",
"//Calculating the magnitude of the mass situated at the centre of small end bearing\n",
"m1=(l2*m)/(l1+l2) //kg\n",
"//Calculating the magnitude of the second mass\n",
"m2=(l1*m)/(l1+l2) //kg\n",
"//Results:\n",
"printf('\n\n Radius of gyration of the rod about an axis passing through the centre of gravity and perpendicular to the plane of oscillation, kG = %.3f m.\n\n',kG)\n",
"printf(' Moment of inertia of the rod, I = %.2f kg-m^2.\n\n',I)\n",
"printf(' Magnitude of the mass situated at the centre of small end bearing, m1 = %.2f kg.\n\n',m1)\n",
"printf(' Magnitude of the second mass, m2 = %.2f kg.\n\n',m2)"
   ]
   }
,
{
		   "cell_type": "markdown",
		   "metadata": {},
		   "source": [
			"## Example 15.18: To_find_correcting_couple.sce"
		   ]
		  },
  {
"cell_type": "code",
	   "execution_count": null,
	   "metadata": {
	    "collapsed": true
	   },
	   "outputs": [],
"source": [
"//To find correcting couple\n",
"clc\n",
"//Given:\n",
"m=2 //kg\n",
"l=250/1000, l1=100/1000, kG=110/1000 //m\n",
"alpha=23000 //rad/s^2\n",
"//Solution:\n",
"//Equivalent dynamical system:\n",
"//Calculating the distance of the second mass from the centre of gravity\n",
"l2=(kG)^2/l1 //m\n",
"//Calculating the magnitude of the mass placed at the gudgeon pin\n",
"m1=(l2*m)/(l1+l2) //kg\n",
"//Calculating the magnitude of the mass placed at a distance l2 from centre of gravity\n",
"m2=(l1*m)/(l1+l2) //kg\n",
"//Correction couple:\n",
"//Calculating the magnitude of l3\n",
"l3=l-l1 //m\n",
"//Calculating the new radius of gyration\n",
"k1=sqrt(l1*l3) //m^2\n",
"//Calculating the correction couple\n",
"Tdash=m*(k1^2-kG^2)*alpha //N-m\n",
"//Results:\n",
"printf('\n\n Mass placed at the gudgeon pin, m1 = %.1f kg.\n\n',m1)\n",
"printf(' Mass placed at a distance %.3f m from the centre of gravity, m2 = %.1f kg.\n\n',l2,m2)\n",
"printf(' Correction couple, Tdash = %.1f N-m.\n\n',Tdash)"
   ]
   }
,
{
		   "cell_type": "markdown",
		   "metadata": {},
		   "source": [
			"## Example 15.19: To_find_acceleration_and_inertia_force.sce"
		   ]
		  },
  {
"cell_type": "code",
	   "execution_count": null,
	   "metadata": {
	    "collapsed": true
	   },
	   "outputs": [],
"source": [
"//To find acceleration and inertia force\n",
"clc\n",
"//Given:\n",
"r=125, OC=r, l=500, PC=l, PG=275, kG=150 //mm\n",
"mC=60 //kg\n",
"N=600 //rpm\n",
"theta=45 //degrees\n",
"//Solution:\n",
"//Refer Fig. 15.24\n",
"//Calculating the angular speed of the crank\n",
"omega=2*%pi*N/60 //rad/s\n",
"//Acceleration of the piston:\n",
"//By measurement,\n",
"NO=90/1000 //m\n",
"//Calculating the acceleration of the piston\n",
"aP=omega^2*NO //m/s^2\n",
"//The magnitude, position and direction of inertia force due to the mass of the connecting rod:\n",
"//By measurement,\n",
"gO=103/1000 //m\n",
"//Calculating the magnitude of the inertia force of the connecting rod\n",
"FC=mC*omega^2*gO/1000 //kN\n",
"//Results:\n",
"printf('\n\n Acceleration of the piston, aP = %.1f m/s^2.\n\n',aP)\n",
"printf(' The magnitude of inertia force due to the mass of the connecting rod, FC = %.1f kN.\n\n',FC)"
   ]
   }
,
{
		   "cell_type": "markdown",
		   "metadata": {},
		   "source": [
			"## Example 15.1: To_find_linear_and_angular_velocity_and_acceleration.sce"
		   ]
		  },
  {
"cell_type": "code",
	   "execution_count": null,
	   "metadata": {
	    "collapsed": true
	   },
	   "outputs": [],
"source": [
"//To find linear and angular velocity and acceleration\n",
"clc\n",
"//Given:\n",
"OC=200/1000, PC=700/1000 //m\n",
"omega=120 //rad/s\n",
"//Solution:\n",
"//Refer Fig. 15.5\n",
"OM=127/1000, CM=173/1000, QN=93/1000, NO=200/1000 //m\n",
"//Velocity and acceleration of the piston:\n",
"//Calculating the velocity of the piston P\n",
"vP=omega*OM //m/s\n",
"//Calculating the acceleration of the piston P\n",
"aP=omega^2*NO //m/s^2\n",
"//Velocity and acceleration of the mid-point of the connecting rod:\n",
"//By measurement,\n",
"OD1=140/1000, OD2=193/1000 //m\n",
"//Calculating the velocity of D\n",
"vD=omega*OD1 //m/s\n",
"//Calculating the acceleration of D\n",
"aD=omega^2*OD2 //m/s^2\n",
"//Angular velocity and angular acceleration of the connecting rod:\n",
"//Calculating the velocity of the connecting rod PC\n",
"vPC=omega*CM //m/s\n",
"//Calculating the angular velocity of the connecting rod PC\n",
"omegaPC=vPC/PC //rad/s\n",
"//Calculating the tangential component of the acceleration of P with respect to C\n",
"atPC=omega^2*QN //m/s^2\n",
"//Calculating the angular acceleration of the connecting rod PC\n",
"alphaPC=atPC/PC //ra/s^2\n",
"//Results:\n",
"printf('\n\n Velocity of the piston P, vP = %.2f m/s.\n\n',vP)\n",
"printf(' Acceleration of the piston P, aP = %d m/s^2.\n\n', aP)\n",
"printf(' Velocity of D, vD = %.1f m/s.\n\n',vD)\n",
"printf(' Acceleration of D, aD = %.1f m/s^2.\n\n',aD)\n",
"printf(' Angular velocity of the connecting rod PC, omegaPC = %.2f rad/s.\n\n',omegaPC)\n",
"printf(' Angular acceleration of the connecting rod PC, alphaPC = %.2f rad/s^2.\n\n',alphaPC)"
   ]
   }
,
{
		   "cell_type": "markdown",
		   "metadata": {},
		   "source": [
			"## Example 15.20: To_find_torque_exerted.sce"
		   ]
		  },
  {
"cell_type": "code",
	   "execution_count": null,
	   "metadata": {
	    "collapsed": true
	   },
	   "outputs": [],
"source": [
"//To find torque exerted\n",
"clc\n",
"//Given:\n",
"D=240/1000, L=600/1000, r=L/2, l=1.5, GC=500/1000, kG=650/1000 //m\n",
"mR=300, mC=250 //kg\n",
"N=125 //rpm\n",
"theta=30 //degrees\n",
"//Solution:\n",
"//Refer Fig. 15.25\n",
"//Calculating the angular speed of the crank\n",
"omega=2*%pi*N/60 //rad/s\n",
"//Analytical method:\n",
"//Calculating the distance of centre of gravity of the connecting rod from P\n",
"l1=l-GC //m\n",
"//Calculating the ratio of lengths of the connecting rod and crank\n",
"n=l/r\n",
"//Calculating the inertia force due to total mass of the reciprocating parts at P\n",
"FI=(mR+(l-l1)/l*mC)*omega^2*r*(cosd(theta)+cosd(2*theta)/n) //N\n",
"//Calculating the corresponding torque due to FI\n",
"TI=FI*r*(sind(theta)+sind(2*theta)/(2*sqrt(n^2-(sind(theta))^2))) //N-m\n",
"//Calculating the equivalent length of a simple pendulum when swung about an axis through P\n",
"L=((kG)^2+(l1)^2)/l1 //m\n",
"//Calculating the correcting torque\n",
"TC=mC*l1*(l-L) //N-m\n",
"//Calculating the torque due to the weight of the connecting rod at C\n",
"TW=mC*9.81*(l1/n)*cosd(theta) //N-m\n",
"//Calculating the total torque exerted on the crankshaft\n",
"Tt=TI+TC+TW //Total torque exerted on the crankshaft, N-m\n",
"//Results:\n",
"printf('\n\n Total torque exerted on the crankshaft = %.1f N-m.\n\n',Tt)"
   ]
   }
,
{
		   "cell_type": "markdown",
		   "metadata": {},
		   "source": [
			"## Example 15.21: To_find_acceleration_and_inertia_torque.sce"
		   ]
		  },
  {
"cell_type": "code",
	   "execution_count": null,
	   "metadata": {
	    "collapsed": true
	   },
	   "outputs": [],
"source": [
"//To find acceleration and inertia torque\n",
"clc\n",
"//Given:\n",
"N=1200 //rpm\n",
"L=110/1000, r=L/2, l=250/1000, PC=l, CG=75/1000 //m\n",
"mC=1.25 //kg\n",
"theta=40 //degrees\n",
"//Solution:\n",
"//Refer Fig. 15.26\n",
"//Calculating the angular speed of the crank\n",
"omega=2*%pi*N/60 //rad/s\n",
"//Radius of gyration of the connecting rod about an axis through its mass centre:\n",
"//Calculating the distance of the centre of gravity from the point of suspension\n",
"l1=l-CG //m\n",
"PG=l1\n",
"//Calculating the frequency of oscillation\n",
"n=21/20 //Hz\n",
"//Calculating the radius of gyration of the connecting rod about an axis through its mass centre\n",
"kG=round(sqrt((9.81*l1/(2*%pi*n)^2)-l1^2)*1000) //mm\n",
"//Acceleration of the piston:\n",
"//Calculating the ratio of lengths of the connecting rod and crank\n",
"n=l/r\n",
"//Calculating the acceleration of the piston\n",
"aP=omega^2*r*(cosd(theta)+cosd(2*theta)/n) //m/s^2\n",
"//Calculating the angular acceleration of the connecting rod\n",
"alphaPC=(-omega^2*sind(theta))/n //rad/s^2\n",
"//Inertia torque exerted on the crankshaft:\n",
"//Calculating the mass of the connecting rod at P\n",
"m1=(l-l1)/l*mC //kg\n",
"//Calculating the vertical inertia force\n",
"FI=round(m1*aP) //N\n",
"//By measurement,\n",
"OM=0.0425, NC=0.035 //m\n",
"//Calculating the corresponding torque due to FI\n",
"TI=FI*OM //N-m\n",
"//Calculating the equivalent length of a simple pendulum when swung about an axis passing through P\n",
"L=((kG/1000)^2+(l1)^2)/l1 //m\n",
"//Calculating the correction couple\n",
"Tdash=mC*l1*(l-L)*alphaPC //N-m\n",
"//Calculating the corresponding torque on the crankshaft\n",
"TC=-Tdash*cosd(theta)/n //N-m\n",
"//Calculating the torque due to mass at P\n",
"TP=m1*9.81*OM //N-m\n",
"//Calculating the equivalent mass of the connecting rod at C\n",
"m2=mC*(l1/l) //kg\n",
"//Calculating the torque due to mass at C\n",
"TW=m2*9.81*NC //N-m\n",
"//Calculating the inertia force exerted on the crankshaft\n",
"Ti=TI+TC-TP-TW //Inertia torque exerted on the crankshaft, N-m\n",
"//Results:\n",
"printf('\n\n Radius of gyration of the connecting rod about an axis through its mass centre, kG = %d mm.\n\n',kG)\n",
"printf(' Acceleration of the piston, aP = %.1f m/s^2.\n\n',aP)\n",
"printf(' Angular acceleration of the connecting rod, alphaPC = %.1f rad/s^2.\n\n',alphaPC)\n",
"printf(' Inertia torque exerted on the crankshaft = %.3f N-m.\n\n',Ti)"
   ]
   }
,
{
		   "cell_type": "markdown",
		   "metadata": {},
		   "source": [
			"## Example 15.22: To_find_resultant_force.sce"
		   ]
		  },
  {
"cell_type": "code",
	   "execution_count": null,
	   "metadata": {
	    "collapsed": true
	   },
	   "outputs": [],
"source": [
"//To find resultant force\n",
"clc\n",
"//Given:\n",
"l=225/1000, PC=l, L=150/1000, r=L/2, D=112.5/1000, PG=150/1000, kG=87.5/1000 //m\n",
"mC=1.6, mR=2.4 //kg\n",
"theta=40 //degrees\n",
"p=1.8*10^6 //N/m^2\n",
"N=2000 //rpm\n",
"//Solution:\n",
"//Refer Fig. 15.27\n",
"//Calculating the angular speed of the crank\n",
"omega=2*%pi*N/60 //rad/s\n",
"//By measurement,\n",
"NO=0.0625, gO=0.0685, IC=0.29, IP=0.24, IY=0.148, IX=0.08 //m\n",
"//Calculating the force due to gas pressure\n",
"FL=%pi/4*D^2*p //N\n",
"//Calculating the inertia force due to mass of the reciprocating parts\n",
"FI=mR*omega^2*NO //N\n",
"//Calculating the net force on the piston\n",
"FP=FL-FI //N\n",
"//Calculating the inertia force due to mass of the connecting rod\n",
"FC=mC*omega^2*gO //N\n",
"//Calculating the force acting perpendicular to the crank OC\n",
"FT=((FP*IP)-((mC*9.81*IY)+(FC*IX)))/IC //N\n",
"//By measurement,\n",
"FN=3550, FR=7550, FQ=13750 //N\n",
"//Results:\n",
"printf('\n\n Resultant force on the crank pin, FQ = %d N.\n\n',FQ)"
   ]
   }
,
{
		   "cell_type": "markdown",
		   "metadata": {},
		   "source": [
			"## Example 15.2: To_find_linear_and_angular_velocity_and_acceleration.sce"
		   ]
		  },
  {
"cell_type": "code",
	   "execution_count": null,
	   "metadata": {
	    "collapsed": true
	   },
	   "outputs": [],
"source": [
"//To find  linear and angular velocity and acceleration\n",
"clc\n",
"//Given:\n",
"OC=150/1000, PC=600/1000, CD=150/1000 //m\n",
"N=450 //rpm\n",
"//Solution:\n",
"//Refer Fig. 15.6\n",
"//Calculating the angular speed of the crank\n",
"omega=2*%pi*N/60 //rad/s\n",
"//By measurement,\n",
"OM=145/1000, CM=78/1000, QN=130/1000, NO=56/1000 //m\n",
"//Velocity and acceleration of alider:\n",
"//Calculating the velocity of the slider P\n",
"vP=omega*OM //m/s\n",
"//Calculating the acceleration of the slider P\n",
"aP=omega^2*NO //m/s^2\n",
"//Velocity and acceleration of point D on the connecting rod:\n",
"//Calculating the length od CD1\n",
"CD1=CD/PC*CM //m\n",
"//By measurement,\n",
"OD1=145/1000, OD2=120/1000 //m\n",
"//Calculating the velocity of point D\n",
"vD=omega*OD1 //m/s\n",
"//Calculating the acceleration of point D\n",
"aD=omega^2*OD2 //m/s^2\n",
"//Angular velocity and angular acceleration of the connecting rod:\n",
"//Calculating the velocity of the connecting rod PC\n",
"vPC=omega*CM //m/s\n",
"//Calculating the angular velocity of the connecting rod\n",
"omegaPC=vPC/PC //rad/s\n",
"//Calculating the tangential component of the acceleration of P with respect to C\n",
"atPC=omega^2*QN //m/s^2\n",
"//Calculating the angular acceleration of the connecting rod PC\n",
"alphaPC=atPC/PC //rad/s^2\n",
"//Results:\n",
"printf('\n\n Velocity of the slider P, vP = %.3f m/s.\n\n',vP)\n",
"printf(' Acceleration of the slider P, aP = %.1f m/s^2.\n\n',aP)\n",
"printf(' Velocity of point D, vD = %.3f m/s.\n\n',vD)\n",
"printf(' Acceleration of point D, aD = %.2f m/s^2.\n\n',aD)\n",
"printf(' Angular velocity of the connecting rod, omegaPC = %.3f rad/s.\n\n',omegaPC)\n",
"printf(' Angular acceleration of the connecting rod PC, alphaPC = %.2f rad/s^2.\n\n',alphaPC)"
   ]
   }
,
{
		   "cell_type": "markdown",
		   "metadata": {},
		   "source": [
			"## Example 15.3: To_find_crank_angle_and_velocity.sce"
		   ]
		  },
  {
"cell_type": "code",
	   "execution_count": null,
	   "metadata": {
	    "collapsed": true
	   },
	   "outputs": [],
"source": [
"//To find crank angle and velocity\n",
"clc\n",
"//Given:\n",
"r=300/1000, l=1 //m\n",
"N=200 //rpm\n",
"//Solution:\n",
"//Calculating the angular speed of the crank\n",
"omega=2*%pi*N/60 //rad/s\n",
"//Crank angle at which the maximum velocity occurs:\n",
"//Calculating the ratio of length of connecting rod to crank radius\n",
"n=l/r\n",
"//Velocity of the piston, vP = omega*r*(sind(theta)+sind(2*theta)/(2*n))    .....(i)\n",
"//For maximum velocity, d(vP)/d(theta) = 0                                  .....(ii)\n",
"//Substituting (i) in (ii), we get, 2(cosd(theta))^2+n*cosd(theta)-1 = 0\n",
"a=2, b=n, c=-1\n",
"costheta=(-b+sqrt(b^2-4*a*c))/(2*a)\n",
"//Calculating the crank angle from the inner dead centre at which the maximum velocity occurs\n",
"theta=round(acosd(costheta)) //degrees\n",
"//Calculating the maximum velocity of the piston:\n",
"vPmax=omega*r*(sind(theta)+sind(2*theta)/(2*n)) //m/s\n",
"//Results:\n",
"printf('\n\n Crank angle from the inner dead centre at which the maximum velocity occurs, theta = %d degrees.\n\n',theta)\n",
"printf(' Maximum velocity of the piston, vP(max) = %.2f m/s.\n\n',vPmax)"
   ]
   }
,
{
		   "cell_type": "markdown",
		   "metadata": {},
		   "source": [
			"## Example 15.4: To_find_velocity_and_acceleration.sce"
		   ]
		  },
  {
"cell_type": "code",
	   "execution_count": null,
	   "metadata": {
	    "collapsed": true
	   },
	   "outputs": [],
"source": [
"//To find velocity and acceleration\n",
"clc\n",
"//Given:\n",
"r=0.3, l=1.5 //m\n",
"N=180 //rpm\n",
"theta=40 //degrees\n",
"//Solution:\n",
"//Calculating the angular speed of the piston\n",
"omega=2*%pi*N/60 //rad/s\n",
"//Velocity of the piston:\n",
"//Calculating the ratio of lengths of the connecting rod and crank\n",
"n=l/r\n",
"//Calculating the velocity of the piston\n",
"vP=omega*r*(sind(theta)+sind(2*theta)/(2*n)) //m/s\n",
"//Calculating the acceleration of the piston\n",
"aP=omega^2*r*(cosd(theta)+cosd(2*theta)/n) //m/s^2\n",
"//Position of the crank for zero acceleration of the piston:\n",
"ap1=0\n",
"//Calculating the position of the crank from the inner dead centre for zero acceleration of the piston\n",
"//We have, ap1 = omega^2*r*(cosd(theta1)+cosd(2*theta1)/n), or 2*(cosd(theta1))^2+n*cosd(theta1)-1 = 0\n",
"a=2, b=n, c=-1\n",
"costheta1=(-b+sqrt(b^2-4*a*c))/(2*a)\n",
"//Calculating the crank angle from the inner dead centre for zero acceleration of the piston\n",
"theta1=acosd(costheta1) //degrees\n",
"//Results:\n",
"printf('\n\n Velocity of the piston, vP = %.2f m/s.\n\n', vP)\n",
"printf(' Acceleration of the piston, aP = %.2f m/s^2.\n\n',aP)\n",
"printf(' Position of the crank for zero acceleration of the piston, theta1 = %.2f degrees or %.2f degrees.\n\n',theta1,360-theta1)"
   ]
   }
,
{
		   "cell_type": "markdown",
		   "metadata": {},
		   "source": [
			"## Example 15.5: To_find_linear_and_angualr_velocity_and_acceleration.sce"
		   ]
		  },
  {
"cell_type": "code",
	   "execution_count": null,
	   "metadata": {
	    "collapsed": true
	   },
	   "outputs": [],
"source": [
"//To find linear and angualr velocity and acceleration\n",
"clc\n",
"//Given:\n",
"r=150/1000, l=600/1000 //m\n",
"theta=60 //degrees\n",
"N=450 //rpm\n",
"//Solution:\n",
"//Calculating the angular speed of the crank\n",
"omega=2*%pi*N/60 //rad/s\n",
"//Velocity and acceleration of the slider:\n",
"//Calculating the ratio of length of connecting rod and crank\n",
"n=l/r\n",
"//Calculating the velocity of the slider\n",
"vP=omega*r*(sind(theta)+sind(2*theta)/(2*n)) //m/s\n",
"//Calculating the acceleration of the slider\n",
"aP=omega^2*r*(cosd(theta)+cosd(2*theta)/n) //m/s^2\n",
"//Angular velocity and angular acceleration of the connecting rod:\n",
"//Calculating the angular velocity of the connecting rod\n",
"omegaPC=omega*cosd(theta)/n //rad/s\n",
"//Calculating the angular acceleration of the connecting rod\n",
"alphaPC=round(omega^2*sind(theta)/n) //rad/s^2\n",
"//Results:\n",
"printf('\n\n Velocity of the slider, vP = %.1f m/s.\n\n',vP)\n",
"printf(' Acceleration of the slider, aP = %.2f m/s^2.\n\n',aP)\n",
"printf(' Angular velocity of the connecting rod, omegaPC = %.1f rad/s.\n\n',omegaPC)\n",
"printf(' Angular acceleration of the connecting rod, alphaPC = %d rad/s^2.\n\n',alphaPC)"
   ]
   }
,
{
		   "cell_type": "markdown",
		   "metadata": {},
		   "source": [
			"## Example 15.6: To_find_inertia_force.sce"
		   ]
		  },
  {
"cell_type": "code",
	   "execution_count": null,
	   "metadata": {
	    "collapsed": true
	   },
	   "outputs": [],
"source": [
"//To find inertia force\n",
"clc\n",
"//Given:\n",
"D=175/1000, L=200/1000, r=L/2, l=400/1000 //m\n",
"N=500 //rpm\n",
"mR=180 //kg\n",
"//Solution:\n",
"//Calculating the angular speed of the crank\n",
"omega=2*%pi*N/60 //rad/s\n",
"//Analytical method:\n",
"//Calculating the ratio of lengths of connecting rod and crank\n",
"n=l/r\n",
"//Calculating the inertia force\n",
"FI=mR*omega^2*r*(cosd(theta)+cosd(2*theta)/n)/1000 //kN\n",
"//Results:\n",
"printf('\n\n Inertia force, FI = %.2f kN.\n\n',FI)"
   ]
   }
,
{
		   "cell_type": "markdown",
		   "metadata": {},
		   "source": [
			"## Example 15.7: To_find_pressure_thrust_force_and_moment.sce"
		   ]
		  },
  {
"cell_type": "code",
	   "execution_count": null,
	   "metadata": {
	    "collapsed": true
	   },
	   "outputs": [],
"source": [
"//To find pressure, thrust, force and moment\n",
"clc\n",
"//Given:\n",
"r=300/1000, l=1.2, D=0.5 //m\n",
"mR=250 //kg\n",
"theta=60 //degrees\n",
"dp=0.35 //p1-p2, N/mm^2\n",
"N=250 //rpm\n",
"//Solution:\n",
"//Calculating the angular speed of the crank\n",
"omega=2*%pi*N/60 //rad/s\n",
"//Calculating the net load on the piston\n",
"FL=(dp)*%pi/4*(D*1000)^2 //N\n",
"//Calculating the ratio of length of connecting rod and crank\n",
"n=l/r\n",
"//Calculating the accelerating or inertia force on reciprocating parts\n",
"FI=mR*omega^2*r*(cosd(theta)+cosd(2*theta)/n) //N\n",
"//Calculating the piston effort\n",
"FP=(FL-FI)/1000 //kN\n",
"//Pressure on slide bars:\n",
"//Calculating the angle of inclination of the connecting rod to the line of stroke\n",
"phi=asind(sind(theta)/n) //degrees\n",
"//Calculating the pressure on the slide bars\n",
"FN=FP*tand(phi) //kN\n",
"//Calculating the thrust in the connecting rod\n",
"FQ=FP/cosd(phi) //kN\n",
"//Calculating the tangential force on the crank pin\n",
"FT=FQ*sind(theta+phi) //kN\n",
"//Calculating the turning moment on the crank shaft\n",
"T=FT*r //kN-m\n",
"//Results:\n",
"printf('\n\n Pressure on the slide bars, FN = %.2f kN.\n\n',FN)\n",
"printf(' Thrust in the connecting rod, FQ = %.2f kN.\n\n',FQ)\n",
"printf(' Tangential force on the crank-pin, FT = %.2f kN.\n\n',FT)\n",
"printf(' Turning moment on the crank shaft, T = %.3f kN-m.\n\n',T)"
   ]
   }
,
{
		   "cell_type": "markdown",
		   "metadata": {},
		   "source": [
			"## Example 15.8: To_find_turning_moment.sce"
		   ]
		  },
  {
"cell_type": "code",
	   "execution_count": null,
	   "metadata": {
	    "collapsed": true
	   },
	   "outputs": [],
"source": [
"//To find turning moment\n",
"clc\n",
"//Given:\n",
"D=300/1000, L=450/1000, r=L/2, d=50/1000, l=1.2 //m\n",
"N=200 //rpm\n",
"mR=225 //kg\n",
"theta=125 //degrees\n",
"p1=30*1000, p2=1.5*1000 //N/m^2\n",
"//Solution:\n",
"//Calculating the angular speed of the crank\n",
"omega=2*%pi*N/60 //rad/s\n",
"//Calculating the area of the piston\n",
"A1=%pi/4*D^2 //m^2\n",
"//Calculating the area of the piston rod\n",
"a=%pi/4*d^2 //m^2\n",
"//Calculating the force on the piston due to steam pressure\n",
"FL=round(p1*A1-p2*(A1-a)) //N\n",
"//Calculating the ratio of lengths of connecting rod and crank\n",
"n=l/r\n",
"//Calculating the inertia force on the reciprocating parts\n",
"FI=mR*omega^2*r*(cosd(theta)+cosd(2*theta)/n) //N\n",
"//Calculating the net force on the piston or piston effort\n",
"FP=FL-FI+mR*9.81 //N\n",
"//Calculating the angle of inclination of the connecting rod to the line of stroke\n",
"phi=asind(sind(theta)/n) //degrees\n",
"//Calculating the effective turning moment on the crank shaft\n",
"T=FP*sind(theta+phi)/cosd(phi)*r //N-m\n",
"//Results:\n",
"printf('\n\n Effective turning moment of the crank shaft, T = %.1f N-m.\n\n',T)"
   ]
   }
,
{
		   "cell_type": "markdown",
		   "metadata": {},
		   "source": [
			"## Example 15.9: To_find_load_thrust_reaction_and_speed.sce"
		   ]
		  },
  {
"cell_type": "code",
	   "execution_count": null,
	   "metadata": {
	    "collapsed": true
	   },
	   "outputs": [],
"source": [
"//To find load, thrust, reaction and speed\n",
"clc\n",
"//Given:\n",
"N=1800 //rpm\n",
"r=50/1000, l=200/1000, D=80/1000, x=10/1000 //m\n",
"mR=1 //kg\n",
"p=0.7 //N/mm^2\n",
"//Solution:\n",
"//Calculating the angular speed of the crank\n",
"omega=2*%pi*N/60 //rad/s\n",
"//Net load on the gudgeon pin:\n",
"//Calculating the load on the piston\n",
"FL=round(%pi/4*(D*1000)^2*p) //N\n",
"//Refer Fig. 15.10\n",
"//By measurement,\n",
"theta=33 //degrees\n",
"//Calculating the ratio of lengths of connecting rod and crank\n",
"n=l/r\n",
"//Calculating the inertia force on the reciprocating parts\n",
"FI=mR*omega^2*r*(cosd(theta)+cosd(2*theta)/n) //N\n",
"//Calculating the net load on the gudgeon pin\n",
"FP=FL-FI //N\n",
"//Thrust in the connecting rod:\n",
"//Calculating the angle of inclination of the connecting rod to the line of stroke\n",
"phi=asind(sind(theta)/n) //degrees\n",
"//Calculating the thrust in the connecting rod\n",
"FQ=FP/cosd(phi) //N\n",
"//Calculating the reaction between the piston and cylinder\n",
"FN=FP*tand(phi) //N\n",
"//Engine speed at which the abov values will become zero:\n",
"//Calculating the speed at which FI=FL\n",
"omega1=sqrt((%pi/4*(D*1000)^2*p)/(mR*r*(cosd(theta)+cosd(2*theta)/n))) //rad/s\n",
"//Calculating the corresponding speed in rpm\n",
"N1=omega1*60/(2*%pi) //rpm\n",
"//Results:\n",
"printf('\n\n Net load on the gudgeon pin, FP = %d N.\n\n',FP)\n",
"printf(' Thrust in the connecting rod, FQ = %.1f N.\n\n',FQ)\n",
"printf(' Reaction between the piston and cylinder, FN = %d N.\n\n',FN)\n",
"printf(' Engine speed at which the above values will become zero, N1 = %d rpm.\n\n',N1)"
   ]
   }
],
"metadata": {
		  "kernelspec": {
		   "display_name": "Scilab",
		   "language": "scilab",
		   "name": "scilab"
		  },
		  "language_info": {
		   "file_extension": ".sce",
		   "help_links": [
			{
			 "text": "MetaKernel Magics",
			 "url": "https://github.com/calysto/metakernel/blob/master/metakernel/magics/README.md"
			}
		   ],
		   "mimetype": "text/x-octave",
		   "name": "scilab",
		   "version": "0.7.1"
		  }
		 },
		 "nbformat": 4,
		 "nbformat_minor": 0
}
