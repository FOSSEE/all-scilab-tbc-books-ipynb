{
"cells": [
 {
		   "cell_type": "markdown",
	   "metadata": {},
	   "source": [
       "# Chapter 7: Velocity in Mechanisms Relative Velocity Method"
	   ]
	},
{
		   "cell_type": "markdown",
		   "metadata": {},
		   "source": [
			"## Example 7.10: To_find_velocity_and_resisting_torque.sce"
		   ]
		  },
  {
"cell_type": "code",
	   "execution_count": null,
	   "metadata": {
	    "collapsed": true
	   },
	   "outputs": [],
"source": [
"//To find velocity and resisting torque\n",
"clc\n",
"//Given:\n",
"NAD=100 //rpm\n",
"TA=50 //N-m\n",
"DA=300/1000,CB=360/1000,AB=CB,DC=600/1000 //m\n",
"eta=70/100 //%\n",
"//Solution:\n",
"//Refer Fig. 7.25\n",
"//Calculating the angular velocity of the crank AD\n",
"omegaAD=2*%pi*NAD/60 //rad/s\n",
"//Calculating the velocity of A with respect to D\n",
"vAD=omegaAD*DA //m/s\n",
"vA=vAD\n",
"//By measurement from the velocity diagram, Fig. 7.25(b),\n",
"vBC=2.25 //m/s\n",
"vB=vBC\n",
"//Calculating the angular velocity of the driven link CB\n",
"omegaBC=vBC/CB //rad/s\n",
"//Calculating the actual mechanical advantage\n",
"omegaA=omegaAD,omegaB=omegaBC\n",
"MAactual=eta*omegaA/omegaB\n",
"//Calculating the resisting torque\n",
"TB=eta*TA*omegaA/omegaB //N-m\n",
"//Results:\n",
"printf('\n\n The velocity of the point B, vB = %.2f m/s.\n',vB)\n",
"printf(' The angular velocity of the driven link CB, omegaBC = %.2f rad/s.\n',omegaBC)\n",
"printf(' The actual mechanical advantage, M.A.(actual) = %.2f.\n',MAactual)\n",
"printf(' The resisting torque, TB = %.1f N-m.\n\n',TB)"
   ]
   }
,
{
		   "cell_type": "markdown",
		   "metadata": {},
		   "source": [
			"## Example 7.11: To_find_velocity_ratio.sce"
		   ]
		  },
  {
"cell_type": "code",
	   "execution_count": null,
	   "metadata": {
	    "collapsed": true
	   },
	   "outputs": [],
"source": [
"//To find velocity ratio\n",
"clc\n",
"//Given:\n",
"WC=2.5*1000,WD=4*1000 //N\n",
"OA=175/1000,AB=180/1000,AD=500/1000,BC=325/1000 //m\n",
"//Solution:\n",
"//Refer Fig. 7.26\n",
"//Assuming the speed of crank OA to be 'N'\n",
"//Calculating the angular velocity of crank OA\n",
"omegaAO=mulf('2*%pi/60','N')\n",
"//Calculating the velocity of A with respect to O\n",
"vAO=mulf('omegaAO','OA')\n",
"vA=vAO\n",
"//Assume the vector oa (i.e. velocity of A) as 20 m/s\n",
"N=20/(2*%pi/60*OA) //mm\n",
"//By measurement from the velocity diagram, Fig. 7.27(b),\n",
"vC=35,vD=21 //mm\n",
"//Calculating the velocity ratio between C and the ram D\n",
"r=vC/vD //The velocity ratio between C and the ram D\n",
"//Calculating the efficiency of the machine\n",
"eta=(WD*vD)/(WC*vC)*100 //%\n",
"//Results:\n",
"printf('\n\n The velocity ratio between C and the ram D is %.2f.\n',r)\n",
"printf(' The efficiency of the machine, eta = %d %s.\n\n',eta,'%')"
   ]
   }
,
{
		   "cell_type": "markdown",
		   "metadata": {},
		   "source": [
			"## Example 7.12: To_find_velocity_angular_velocity_and_torque.sce"
		   ]
		  },
  {
"cell_type": "code",
	   "execution_count": null,
	   "metadata": {
	    "collapsed": true
	   },
	   "outputs": [],
"source": [
"//To find velocity, angular velocity and torque\n",
"clc\n",
"//Given:\n",
"NAO=180 //rpm\n",
"OA=180/1000,CB=240/1000,AB=360/1000,BD=540/1000 //m\n",
"FD=2*1000 //N\n",
"DA=30/1000,DD=DA,rA=DA/2,rD=DD/2 //m\n",
"//Solution:\n",
"//Refer Fig. 7.28\n",
"//Calculating the angular velocity of the crank OA\n",
"omegaAO=2*%pi*NAO/60 //rad/s\n",
"//Calculating the velocity of A with respect to O\n",
"vAO=omegaAO*OA\n",
"vA=vAO\n",
"//By measurement fro the velocity diagram, Fig. 7.29(b)\n",
"vD=2.05,vBA=0.9,vBC=2.8,vDB=2.4 //m/s\n",
"//Calculating the angular velocity of the link AB\n",
"omegaAB=vBA/AB //rad/s\n",
"//Calculating the angular velocity of the link CB\n",
"omegaCB=vBC/CB //rad/s\n",
"//Calculating the angular velocity of the link BD\n",
"omegaBD=vDB/BD //rad/s\n",
"//Calculating the relative angular velocity at A\n",
"rvA=omegaCB-omegaAB+omegaBD //The relative angular velocity at A, rad/s\n",
"//Calculating the relative angular velocity at D\n",
"rvD=omegaBD //The relative angular velocity at D, rad/s\n",
"//Calculating the velocity of rubbing on the pin A\n",
"vrA=rvA*rA*1000 //The velocity of rubbing on the pin A, mm/s\n",
"//Calculating the velocity of rubbing on the pin D\n",
"vrD=rvD*rD*1000 //The velocity of rubbing on the pin D, mm/s\n",
"//Calculating the torque applied to crank OA\n",
"TA=FD*vD/omegaAO //N-m\n",
"//Results:\n",
"printf('\n\n The velocity of slider D, vD = %.2f m/s.\n',vD)\n",
"printf(' The angular velocity of the link AB, omegaAB = %.1f rad/s, anticlockwise about A.\n',omegaAB)\n",
"printf(' The angular velocity of the link CB, omegaCB = %.2f rad/s, anticlockwise about C.\n',omegaCB)\n",
"printf(' The angular velocity of the link BD, omegaBD = %.2f rad/s, clockwise about B.\n',omegaBD)\n",
"printf(' The velocity of rubbing on the pin A is %d mm/s.\n',vrA)\n",
"printf(' The velocity of rubbing on the pin D is %d mm/s.\n',vrD)\n",
"printf(' The torque applied to the crank OA, TA = %.1f N-m.\n\n',TA)"
   ]
   }
,
{
		   "cell_type": "markdown",
		   "metadata": {},
		   "source": [
			"## Example 7.13: To_find_the_velocities.sce"
		   ]
		  },
  {
"cell_type": "code",
	   "execution_count": null,
	   "metadata": {
	    "collapsed": true
	   },
	   "outputs": [],
"source": [
"//To find the velocities\n",
"clc\n",
"//Given:\n",
"NBA=180 //rpm\n",
"AB=0.45,BD=1.5,BC=0.9,CE=BC //m\n",
"FD=500,FE=750 //N\n",
"//Solution:\n",
"//Refer Fig. 7.31\n",
"//Calculating the angular velocity of the crank AB\n",
"omegaBA=2*%pi*NBA/60 //rad/s\n",
"//Calculating the velocity of B with respect to A\n",
"vBA=omegaBA*AB //m/s\n",
"vB=vBA\n",
"//By measurement from the velocity diagram, Fig. 7.31(b),\n",
"vD=9.5,vE=1.7 //m/s\n",
"//Calculating the power input\n",
"Pi=FD*vD-FE*vE //N-m/s\n",
"//Calculating the turning moment at A\n",
"TA=Pi/omegaBA //N-m\n",
"//Results:\n",
"printf('\n\n The velocity of slider D, vD = %.1f m/s.\n',vD)\n",
"printf(' The velocity of slider E, vE = %.1f m/s.\n',vE)\n",
"printf(' The turning moment at A, TA = %.1f N-m.\n\n',TA)"
   ]
   }
,
{
		   "cell_type": "markdown",
		   "metadata": {},
		   "source": [
			"## Example 7.1: To_find_the_angular_velocity.sce"
		   ]
		  },
  {
"cell_type": "code",
	   "execution_count": null,
	   "metadata": {
	    "collapsed": true
	   },
	   "outputs": [],
"source": [
"//To find the angular velocity\n",
"clc\n",
"//Given:\n",
"NBA=120 //rpm\n",
"AB=40/1000,CD=80/1000 //m\n",
"//Solution:\n",
"//Refer Fig. 7.7\n",
"//Calculating the angular velocity of the crank AB\n",
"omegaBA=2*%pi*NBA/60 //rad/s\n",
"//Calculating the velocity of B with respect to A\n",
"vBA=omegaBA*AB //m/s\n",
"vB=vBA\n",
"//By measurement from the velocity diagram, Fig. 7.7(b),\n",
"vCD=0.385 //m/s\n",
"vC=vCD\n",
"//Calculating the angular velocity of link CD\n",
"omegaCD=vCD/CD //rad/s\n",
"//Results:\n",
"printf('\n\n The angular velocity of link CD, omegaCD = %.1f rad/s, clockwise about D.\n\n',omegaCD)"
   ]
   }
,
{
		   "cell_type": "markdown",
		   "metadata": {},
		   "source": [
			"## Example 7.2: To_find_velocities_angular_velocities_and_position.sce"
		   ]
		  },
  {
"cell_type": "code",
	   "execution_count": null,
	   "metadata": {
	    "collapsed": true
	   },
	   "outputs": [],
"source": [
"//To find velocities, angular velocities and position\n",
"clc\n",
"//Given:\n",
"NBO=180 //rpm\n",
"OB=0.5,PB=2,dO=50/1000,dB=60/1000,dC=30/1000 //m\n",
"//Solution:\n",
"//Refer Fig. 7.8\n",
"//Calculating the angular velocity of the crank BO\n",
"omegaBO=2*%pi*NBO/60 //rad/s\n",
"//Calculating the linear velocity of B with respect to O\n",
"vBO=omegaBO*OB //m/s\n",
"vB=vBO\n",
"//By measurement from the velocity diagram, Fig. 7.8(b),\n",
"vP=8.15,vPB=6.8,vE=8.5,bg=5,bp=vPB,vG=8 //m/s\n",
"//Calculating the angular velocity of the connecting rod PB\n",
"omegaPB=vPB/PB //rad/s\n",
"//Calculating the velocity of rubbing at the pin of crank-shaft\n",
"vCS=dO/2*omegaBO //Velocity of rubbing at the pin of crank-shaft, m/s\n",
"//Calculating the velocity of rubbing at the pin of crank\n",
"vC=dB/2*(omegaBO+omegaPB) //Velocity of rubbing at the pin of crank, m/s\n",
"//Calculating the velocity of rubbing at the pin of cross-head\n",
"vPCH=dC/2*omegaPB //Velocity of rubbing at the pin of cross-head, m/s\n",
"//Calculating the position of point G on the connecting rod\n",
"BG=bg/bp*PB //m\n",
"//Results:\n",
"printf('\n\n The velocity of piston P, vP = %.2f m/s.\n',vP)\n",
"printf(' The angular velocity of connecting rod, omegaPB = %.1f rad/s, anticlockwise.\n',omegaPB)\n",
"printf(' The velocity of point E on the connecting rod, vE = %.1f m/s.\n',vE)\n",
"printf(' The velocity of rubbing at the pin of crank-shaft is %.2f m/s.\n',vCS)\n",
"printf(' The velocity of rubbing at the pin of crank is %.4f m/s.\n',vC)\n",
"printf(' The velocity of rubbing at the pin of cross-head is %.3f m/s.\n',vPCH)\n",
"printf(' The position of point G on the connecting rod, BG = %.2f m.\n',BG)\n",
"printf(' The linear velocity of point G, vG = %d m/s.\n\n',vG)"
   ]
   }
,
{
		   "cell_type": "markdown",
		   "metadata": {},
		   "source": [
			"## Example 7.3: To_find_the_velocity.sce"
		   ]
		  },
  {
"cell_type": "code",
	   "execution_count": null,
	   "metadata": {
	    "collapsed": true
	   },
	   "outputs": [],
"source": [
"//To find the velocity\n",
"clc\n",
"//Given:\n",
"NAO=600 //rpm\n",
"OA=28/1000,BD=46/1000 //m\n",
"//Solution:\n",
"//Refer Fig. 7.10\n",
"//Calculating the angular velocity of crank AO\n",
"omegaAO=2*%pi*NAO/60 //rad/s\n",
"//Calculating the velocity of A with respect to O\n",
"vAO=omegaAO*OA //m/s\n",
"vA=vAO\n",
"//By measurement from the velocity diagram, Fig. 7.10(b),\n",
"vD=1.6,vDB=1.7 //m/s\n",
"//Calculating the angular velocity of D with respect to B\n",
"omegaBD=vDB/BD //rad/s\n",
"//Results:\n",
"printf('\n\n The velocity of the slider D, vD = %.1f m/s.\n',vD)\n",
"printf(' The angular velocity of the link BD, omegaBD = %.2f rad/s, clockwise sbout B.\n\n',omegaBD)"
   ]
   }
,
{
		   "cell_type": "markdown",
		   "metadata": {},
		   "source": [
			"## Example 7.4: To_find_velocity_angular_velocity_and_rubbing_speed.sce"
		   ]
		  },
  {
"cell_type": "code",
	   "execution_count": null,
	   "metadata": {
	    "collapsed": true
	   },
	   "outputs": [],
"source": [
"//To find velocity, angular velocity and rubbing speed\n",
"clc\n",
"//Given:\n",
"NBA=120 //rpm\n",
"AB=150/1000,DC=450/1000,BC=450/1000,dC=50/1000,rC=dC/2 //m\n",
"//Sloution:\n",
"//Refer Fig. 7.12\n",
"//Calculating the angular velocity of the crank AB\n",
"omegaBA=2*%pi*NBA/60 //rad/s\n",
"//Calculating the linear velocity of B with respect to A\n",
"vBA=omegaBA*AB //m/s\n",
"vB=vBA\n",
"//By measurement from the velocity diagram, Fig. 7.12(b),\n",
"vF=0.7,vCD=2.25,vCB=2.25 //m/s\n",
"//Calculating the angular velocity of DC\n",
"omegaDC=vCD/DC //rad/s\n",
"//Calculating the angular velocity of BC\n",
"omegaCB=vCB/BC //rad/s\n",
"//Calculating the rubbing speed at the pin C\n",
"vr=(omegaCB-omegaDC)*rC //The rubbing speed at the pin C,m/s\n",
"//Results:\n",
"printf('\n\n The velocity of block F, vF = %.1f m/s.\n',vF)\n",
"printf(' The angular velocity of DC, omegaDC = %d rad/s, anticlockwise about D.\n',omegaDC)\n",
"printf(' The rubbing speed at the pin C is %d m/s.\n\n',vr)"
   ]
   }
,
{
		   "cell_type": "markdown",
		   "metadata": {},
		   "source": [
			"## Example 7.5: To_find_velocity_and_angular_velocity.sce"
		   ]
		  },
  {
"cell_type": "code",
	   "execution_count": null,
	   "metadata": {
	    "collapsed": true
	   },
	   "outputs": [],
"source": [
"//To find velocity and angular velocity\n",
"clc\n",
"//Given:\n",
"NAO=120 //rpm\n",
"OA=100/1000,CE=350/1000 //m\n",
"//Solution:\n",
"//Refer Fig. 7.13\n",
"//Calculating the angular speed of the crank OA\n",
"omegaAO=2*%pi*NAO/60 //rad/s\n",
"//Calculating the velocity of A with respect to O\n",
"vAO=omegaAO*OA //m/s\n",
"vA=vAO\n",
"//By measurement from the velocity diagram, Fig. 7.14(b),\n",
"vF=0.53,od=1.08,vCE=0.44 //m/s\n",
"//Calculating the angular velocity of CE\n",
"omegaCE=vCE/CE //rad/s\n",
"//Results:\n",
"printf('\n\n The velocity of F, vF = %.2f m/s.\n',vF)\n",
"printf(' The velocity of sliding of CE in the trunnion is %.2f m/s.\n',od)\n",
"printf(' The angular velocity of CE, omegaCE = %.2f rad/s, clockwise about E.\n\n',omegaCE)"
   ]
   }
,
{
		   "cell_type": "markdown",
		   "metadata": {},
		   "source": [
			"## Example 7.6: To_find_the_absolute_velocity.sce"
		   ]
		  },
  {
"cell_type": "code",
	   "execution_count": null,
	   "metadata": {
	    "collapsed": true
	   },
	   "outputs": [],
"source": [
"//To find the absolute velocity\n",
"clc\n",
"//Given:\n",
"NCO=120 //rpm\n",
"OC=125/1000 //m\n",
"//Solution:\n",
"//Refer Fig. 7.15\n",
"//Calculating the angular velocity of the crank CO\n",
"omegaCO=2*%pi*NCO/60 //rad/s\n",
"//Calculating the linear velocity of C with respect to O\n",
"vCO=omegaCO*OC //m/s\n",
"vC=vCO\n",
"//By measurement from the velocity diagram, Fig. 7.16(b),\n",
"vCO=1.57,vE=0.7 //m/s\n",
"//Results:\n",
"printf('\n\n The absolute velocity of point E of the lever, vE = %.1f m/s.\n\n',vE)"
   ]
   }
,
{
		   "cell_type": "markdown",
		   "metadata": {},
		   "source": [
			"## Example 7.7: To_find_linear_and_angular_velocity.sce"
		   ]
		  },
  {
"cell_type": "code",
	   "execution_count": null,
	   "metadata": {
	    "collapsed": true
	   },
	   "outputs": [],
"source": [
"//To find linear and angular velocity\n",
"clc\n",
"//Given:\n",
"NBO1=40 //rpm\n",
"O1O2=800/1000,O1B=300/1000,O2D=1300/1000,DR=400/1000 //m\n",
"//Solution:\n",
"//Refer Fig. 7.18\n",
"//Calculating the angular speed of the crank BO\n",
"omegaBO1=2*%pi*NBO1/60 //rad/s\n",
"//Calculating the velocity of B with respect to O1\n",
"vBO1=omegaBO1*O1B //m/s\n",
"vB=vBO1\n",
"//By measurement from the velocity diagram, Fig. 7.18(b),\n",
"vR=1.44, vDO2=1.32 //m/s\n",
"vD=vDO2\n",
"//Calculating the angular velocity of the link O2D\n",
"omegaDO2=vDO2/O2D //rad/s\n",
"//Results:\n",
"printf('\n\n The velocity of the ram R, vR = %.2f m/s.\n',vR)\n",
"printf(' The angular velocity of the link O2D, omegaDO2 = %.3f rad/s, anticlockwise about O2.\n\n',omegaDO2)"
   ]
   }
,
{
		   "cell_type": "markdown",
		   "metadata": {},
		   "source": [
			"## Example 7.8: To_find_speed_and_time_ratio.sce"
		   ]
		  },
  {
"cell_type": "code",
	   "execution_count": null,
	   "metadata": {
	    "collapsed": true
	   },
	   "outputs": [],
"source": [
"//To find speed and time ratio\n",
"clc\n",
"//Given:\n",
"NAO1=60 //rpm\n",
"O1A=85,rQ=50 //mm\n",
"//Solution:\n",
"//Refer Fig. 7.20 and Fig. 7.21\n",
"//Calculating the angular velocity of AO1\n",
"omegaAO1=2*%pi*NAO1/60 //rad/s\n",
"//Calculating the velocity of A with respect to O1\n",
"vAO1=omegaAO1*O1A //mm/s\n",
"vA=vAO1\n",
"//By measurement from the velocity diagram, Fig. 7.20(b),\n",
"vDO2=410 //mm/s\n",
"O2D=264 //mm\n",
"angleB1O2B2=60*%pi/180 //rad\n",
"funcprot(0) //To vary the Scilab function 'beta'\n",
"alpha=120,beta=240 //degrees\n",
"//Calculating the angular velocity of the quadant Q\n",
"omegaQ=vDO2/O2D //rad/s\n",
"//Calculating the linear speed of the rack\n",
"vR=omegaQ*rQ //mm/s\n",
"//Calculating the ratio of times of lowering and raising the rack\n",
"r=beta/alpha\n",
"//Calculating the length of stroke of the rack\n",
"L=rQ*angleB1O2B2 //mm\n",
"//Results:\n",
"printf('\n\n The linear speed of the rack, vR = %.1f mm/s.\n',vR)\n",
"printf(' The ratio of times of lowering and raising the rack is %d.\n',r)\n",
"printf(' The length of the stroke of the rack is %.2f mm.\n\n',L)"
   ]
   }
,
{
		   "cell_type": "markdown",
		   "metadata": {},
		   "source": [
			"## Example 7.9: To_find_velocity_and_angular_velocity.sce"
		   ]
		  },
  {
"cell_type": "code",
	   "execution_count": null,
	   "metadata": {
	    "collapsed": true
	   },
	   "outputs": [],
"source": [
"//To find velocity and angular velocity\n",
"clc\n",
"//Given:\n",
"NPO=120 //rpm\n",
"OQ=100/1000,OP=200/1000,RQ=150/1000,RS=500/1000 //m\n",
"//Solution:\n",
"//Refer Fig. 7.22\n",
"//Calculating the angular speed of the crank PO\n",
"omegaPO=2*%pi*NPO/60 //rad/s\n",
"//Calculating the velocity of P with respect to O\n",
"vPO=omegaPO*OP //m/s\n",
"vP=vPO\n",
"//By measurement from the velocity diagram, Fig. 7.23(b),\n",
"vS=0.8,vSR=0.96,vTP=0.85 //m/s\n",
"//Calculating the angular velocity of link RS\n",
"omegaRS=vSR/RS //rad/s\n",
"//Results:\n",
"printf('\n\n The velocity of the slider S (cutting tool), vS = %.1f m/s.\n',vS)\n",
"printf(' The angular velocity of the link RS, omegaRS = %.2f rad/s, clockwise about R.\n',omegaRS)\n",
"printf(' The velocity of the sliding block T on the slotted lever QT, vTP = %.2f m/s.\n\n',vTP)"
   ]
   }
],
"metadata": {
		  "kernelspec": {
		   "display_name": "Scilab",
		   "language": "scilab",
		   "name": "scilab"
		  },
		  "language_info": {
		   "file_extension": ".sce",
		   "help_links": [
			{
			 "text": "MetaKernel Magics",
			 "url": "https://github.com/calysto/metakernel/blob/master/metakernel/magics/README.md"
			}
		   ],
		   "mimetype": "text/x-octave",
		   "name": "scilab",
		   "version": "0.7.1"
		  }
		 },
		 "nbformat": 4,
		 "nbformat_minor": 0
}
