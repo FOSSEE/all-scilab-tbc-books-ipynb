{
"cells": [
 {
		   "cell_type": "markdown",
	   "metadata": {},
	   "source": [
       "# Chapter 6: Velocity in Mechanisms Instantaneous Centre Method"
	   ]
	},
{
		   "cell_type": "markdown",
		   "metadata": {},
		   "source": [
			"## Example 6.1: To_find_the_angular_velocity.sce"
		   ]
		  },
  {
"cell_type": "code",
	   "execution_count": null,
	   "metadata": {
	    "collapsed": true
	   },
	   "outputs": [],
"source": [
"//To find the angular velocity\n",
"clc\n",
"//Given:\n",
"NAB=100 //rpm\n",
"AB=300/1000,BC=360/1000,CD=BC //m\n",
"//Solution:\n",
"//Refer Fig. 6.9\n",
"//Calculating the angular speed of link AB\n",
"omegaAB=2*%pi*NAB/60 //rad/s\n",
"//Calculating the velocity of point B on link AB\n",
"vB=omegaAB*AB //m/s\n",
"//Calculating the angular velocity of link BC\n",
"//By measurement from instantaneous centre diagram, Fig. 6.10,\n",
"I13B=500/1000 //m\n",
"omegaBC=vB/I13B //rad/s\n",
"//Results:\n",
"printf('\n\n The angular velocity of the link BC, omegaBC = %.3f rad/s.\n\n',omegaBC)"
   ]
   }
,
{
		   "cell_type": "markdown",
		   "metadata": {},
		   "source": [
			"## Example 6.2: To_find_velocity_and_angular_velocity.sce"
		   ]
		  },
  {
"cell_type": "code",
	   "execution_count": null,
	   "metadata": {
	    "collapsed": true
	   },
	   "outputs": [],
"source": [
"//To find velocity and angular velocity\n",
"clc\n",
"//Given:\n",
"omegaOB=10 //rad/s\n",
"OB=100/1000 //m\n",
"//Solution:\n",
"//Refer Fig. 6.12\n",
"//Calculating the velocity of the crank OB\n",
"vOB=omegaOB*OB //m/s\n",
"vB=vOB\n",
"//By measurement from the instantaneous cemtre diagram, Fig. 6.13,\n",
"I13A=460/1000,I13B=560/1000 //m\n",
"//Calculating the velocity of slider A\n",
"vA=vB/I13B*I13A\n",
"//Calculating the angular velocity of the connecting rod AB\n",
"omegaAB=vB/I13B //rad/s\n",
"//Results:\n",
"printf('\n\n The velocity of slider A, vA = %.2f m/s.\n',vA)\n",
"printf(' The angular velocity of connecting rod AB, omegaAB = %.2f rad/s.\n\n',omegaAB)"
   ]
   }
,
{
		   "cell_type": "markdown",
		   "metadata": {},
		   "source": [
			"## Example 6.3: To_find_velocity_and_angular_velocity.sce"
		   ]
		  },
  {
"cell_type": "code",
	   "execution_count": null,
	   "metadata": {
	    "collapsed": true
	   },
	   "outputs": [],
"source": [
"//To find velocity and angular velocity\n",
"clc\n",
"//Given:\n",
"NOA=120 //rpm\n",
"OA=200/1000 //m/s\n",
"//Results:\n",
"//Refer Fig. 6.15\n",
"//Calculating the angular velocity of the crank OA\n",
"omegaOA=2*%pi*NOA/60 //rad/s\n",
"//Calculating the velocity of crank OA\n",
"vOA=omegaOA*OA //m/s\n",
"vA=vOA\n",
"//By measurement from the instantaneous cemtre diagram, Fig. 6.16,\n",
"I13A=840/1000,I13B=1070/1000,I14B=400/1000,I14C=200/1000,I15C=740/1000,I15D=500/1000 //m\n",
"//Calculating the velocity of point B\n",
"vB=vA/I13A*I13B //m/s\n",
"//Calculating the velocity of point C\n",
"vC=vB/I14B*I14C //m/s\n",
"//Calculating the velocity of point B\n",
"vD=vC/I15C*I15D //m/s\n",
"//Calculating the angular velocity of the link AB\n",
"omegaAB=vA/I13A //rad/s\n",
"//Calculating the angular velocity of the link BC\n",
"omegaBC=vB/I14B //rad/s\n",
"//Calculating the angular velocity of the link CD\n",
"omegaCD=vC/I15C //rad/s\n",
"//Results:\n",
"printf('\n\n The velocity of point B, vB = %.1f m/s.\n',vB)\n",
"printf(' The velocity of point C, vC = %.1f m/s.\n',vC)\n",
"printf(' The velocity of point D, vD = %.2f m/s.\n',vD)\n",
"printf(' The angular velocity of the link AB, omegaAB = %.2f rad/s.\n',omegaAB)\n",
"printf(' The angular velocity of the link BC, omegaBC = %d rad/s.\n',omegaBC)\n",
"printf(' The angular velocity of the link CD, omegaCD = %.2f rad/s.\n\n',omegaCD)"
   ]
   }
,
{
		   "cell_type": "markdown",
		   "metadata": {},
		   "source": [
			"## Example 6.4: To_find_the_velocity.sce"
		   ]
		  },
  {
"cell_type": "code",
	   "execution_count": null,
	   "metadata": {
	    "collapsed": true
	   },
	   "outputs": [],
"source": [
"//To find the velocity\n",
"clc\n",
"//Given:\n",
"omegaO1A=100 //rad/s\n",
"O1A=100/1000 //m\n",
"//Solution:\n",
"//Refer Fig. 6.18\n",
"//Calculating the linear velocity of crank O1A\n",
"vO1A=omegaO1A*O1A //m/s\n",
"vA=vO1A\n",
"//By measurement from the instantaneous cemtre diagram, Fig. 6.19,\n",
"I13A=910/1000,I13B=820/1000,I15B=130/1000,I15D=50/1000,I16D=200/1000,I16E=400/1000 //m\n",
"//Calculating the velocity of point B\n",
"vB=vA/I13A*I13B //m/s\n",
"//Calculating the velocity of point D\n",
"vD=vB/I15B*I15D //m/s\n",
"//Calculating the velocity of point E\n",
"vE=vD/I16D*I16E //m/s\n",
"//Results:\n",
"printf('\n\n The velocity of point B, vB = %.2f m/s.\n',vB)\n",
"printf(' The velocity of point D, vD = %.2f m/s.\n',vD)\n",
"printf(' The velocity of point E, vE = %.2f m/s.\n',vE)"
   ]
   }
,
{
		   "cell_type": "markdown",
		   "metadata": {},
		   "source": [
			"## Example 6.5: To_find_the_velocity.sce"
		   ]
		  },
  {
"cell_type": "code",
	   "execution_count": null,
	   "metadata": {
	    "collapsed": true
	   },
	   "outputs": [],
"source": [
"//To find the velocity\n",
"clc\n",
"//Given:\n",
"NO1A=400 //rpm\n",
"O1A=16/1000 //m\n",
"//Solution:\n",
"//Refer Fig. 6.21\n",
"//Calculating the angular velocity of the crank O1A\n",
"omegaO1A=2*%pi*NO1A/60 //rad/s\n",
"//Calculating the linear velocity of the crank O1A\n",
"vO1A=omegaO1A*O1A //m/s\n",
"vA=vO1A\n",
"//By measurement from the instantaneous cemtre diagram, Fig. 6.22,\n",
"I13A=41/1000,I13B=50/1000,I14B=23/1000,I14C=28/1000,I15C=65/1000,I15D=62/1000 //m\n",
"//Calculating the velocity of point B\n",
"vB=vA/I13A*I13B //m/s\n",
"//Calculating the velocity of point C\n",
"vC=vB/I14B*I14C //m/s\n",
"//Calculating the velocity of of the needle at D\n",
"vD=vC/I15C*I15D //m/s\n",
"//Results:\n",
"printf('\n\n The velocity of the needle at D, vD = %.2f m/s.\n\n',vD)"
   ]
   }
,
{
		   "cell_type": "markdown",
		   "metadata": {},
		   "source": [
			"## Example 6.6: To_find_the_velocity_of_ram.sce"
		   ]
		  },
  {
"cell_type": "code",
	   "execution_count": null,
	   "metadata": {
	    "collapsed": true
	   },
	   "outputs": [],
"source": [
"//To find velocity of ram\n",
"clc\n",
"//Given:\n",
"NOA=120 //rpm\n",
"//Solution:\n",
"//Refer Fig. 6.24\n",
"//Calculating the angular speed of crank OA\n",
"omegaOA=2*%pi*NOA/60 //rad/s\n",
"//By measurement from the instantaneous cemtre diagram, Fig. 6.25,\n",
"I12I26=65/1000 //m\n",
"//Calculating the velocity of the ram\n",
"vD=omegaOA*I12I26 //m/s\n",
"//Results:\n",
"printf('\n\n The velocity of ram D, vD = %.3f m/s.\n\n',vD)"
   ]
   }
],
"metadata": {
		  "kernelspec": {
		   "display_name": "Scilab",
		   "language": "scilab",
		   "name": "scilab"
		  },
		  "language_info": {
		   "file_extension": ".sce",
		   "help_links": [
			{
			 "text": "MetaKernel Magics",
			 "url": "https://github.com/calysto/metakernel/blob/master/metakernel/magics/README.md"
			}
		   ],
		   "mimetype": "text/x-octave",
		   "name": "scilab",
		   "version": "0.7.1"
		  }
		 },
		 "nbformat": 4,
		 "nbformat_minor": 0
}
