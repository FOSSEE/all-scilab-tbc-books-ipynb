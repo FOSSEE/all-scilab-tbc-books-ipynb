{
"cells": [
 {
		   "cell_type": "markdown",
	   "metadata": {},
	   "source": [
       "# Chapter 3: Kinetics of Motion"
	   ]
	},
{
		   "cell_type": "markdown",
		   "metadata": {},
		   "source": [
			"## Example 3.10: To_find_the_angular_velocities.sce"
		   ]
		  },
  {
"cell_type": "code",
	   "execution_count": null,
	   "metadata": {
	    "collapsed": true
	   },
	   "outputs": [],
"source": [
"//To find the angular velocities\n",
"clc\n",
"//Given:\n",
"m1=0.7,m2=2.4 //kg\n",
"k1=270/1000,k2=185/1000,h1=0.25,DL=0.2,CM=0.275 //m\n",
"//Solution:\n",
"//Calculating the angular velocity of hammer just before impact\n",
"h=h1*(1-cos(20*%pi/180))\n",
"omega=sqrt(m1*9.81*h*2/(m1*k1^2)) //rad/s\n",
"//Calculating the relative linear velocity\n",
"RLV=0.8*omega*CM\n",
"//Calculating the values of angular velocities\n",
"//The two equations we get in terms of omegaA and omegaB are\n",
"//DL*omegaA-CM*omegaB=RLV                                            .....(i)\n",
"//m1*k1^2*(omega-omegaB)=.275/.2*m2*k2^2*omegaA, or\n",
"//2.21*omegaA+omegaB=2.01                                            .....(ii)\n",
"A=[DL -CM; 2.21 1]\n",
"B=[RLV; 2.01]\n",
"V=A \ B\n",
"//Results:\n",
"printf('\n\n The angular velocity of the anvil A, omegaA = %.2f rad/s.\n',V(1))\n",
"printf(' The angular velocity of the hammer B, omegaB = %.2f rad/s, i.e. %.2f rad/s, in the reverse direction.\n\n',V(2),V(2)*-1)"
   ]
   }
,
{
		   "cell_type": "markdown",
		   "metadata": {},
		   "source": [
			"## Example 3.11: To_find_the_velocity_impulse_angle_of_swing_and_average_force.sce"
		   ]
		  },
  {
"cell_type": "code",
	   "execution_count": null,
	   "metadata": {
	    "collapsed": true
	   },
	   "outputs": [],
"source": [
"//To find the velocity, impulse, angle of swing and average force\n",
"clc\n",
"//Given:\n",
"m=30 //kg\n",
"AG=1,GB=150/1000,k1=1.1,k2=350/1000 //m\n",
"theta=60*%pi/180 //rad\n",
"t=0.005 //s\n",
"a=AG,b=GB\n",
"//Solution:\n",
"//Calculating the mass moment of inertia of the pendulum about the point of suspension A\n",
"IA=m*k1^2 //kg-m^2\n",
"//Calculating the mass moment of inertia ofthe pendulum about centre of gravity G\n",
"IG=m*k2^2 //kg-m^2\n",
"//Calculating the angular velocity of the pendulum\n",
"h1=a-a*cos(theta)\n",
"omega=sqrt(2*m*9.81*h1/IA) //rad/s\n",
"//Calculating the striking velocity of the pendulum\n",
"v=omega*(a+b) //m/s\n",
"//Calculating the angular velocity of the pendulum just after the breakage of the specimen\n",
"omega1=sqrt(omega^2-2*54/IA)\n",
"//Calculating the linear velocity of G just before the breakage of specimen\n",
"vG=omega*AG //m/s\n",
"//Calculating the linear velocity of G just after the breakage of specimen\n",
"vGdash=omega1*AG //m/s\n",
"//Calculating the impulses at pivot A and knife edge B\n",
"//F1+F2=m*(vG-vGdash)                                .....(i)\n",
"//b*F2-a*F1=IG*(omega-omega1)                        .....(ii)\n",
"A=[1 1; -a b]\n",
"B=[m*(vG-vGdash); IG*(omega-omega1)]\n",
"V=A \ B\n",
"F1=V(1),F2=V(2)\n",
"//Calculating the angle of swing of the pendulum after impact\n",
"theta1=acos(a-1/2*IA*omega1^2/(m*9.81))/a //radians\n",
"//Calculating the average force exerted at the pivot\n",
"Fp=F1/t //N\n",
"//Calculating the average force exerted at the knife edge\n",
"Fk=F2/t //N\n",
"//Results:\n",
"printf('\n\n The striking velocity of the pendulum, v = %.2f m/s.\n',v)\n",
"printf(' Impulse at the pivot A, F1 = %.1f N.\n',F1)\n",
"printf(' Impulse at the knife edge B, F2 = %.1f N.\n',F2)\n",
"printf(' Angle of swing of the pendulum after impact, theta = %.2f degree.\n',theta1*180/%pi)\n",
"printf(' Average force exerted at the pivot is %d N.\n',Fp)\n",
"printf(' Average force exerted at the knife edge is %d N.\n\n',Fk)"
   ]
   }
,
{
		   "cell_type": "markdown",
		   "metadata": {},
		   "source": [
			"## Example 3.12: To_find_the_speed_time_and_KE_lost.sce"
		   ]
		  },
  {
"cell_type": "code",
	   "execution_count": null,
	   "metadata": {
	    "collapsed": true
	   },
	   "outputs": [],
"source": [
"//To find the speed, time and KE lost\n",
"clc\n",
"//Given:\n",
"T=150 //N-m\n",
"m1=60,m2=20 //kg\n",
"k1=140/1000,k2=80/1000 //m\n",
"N1=750,N2=0 //rpm\n",
"//Sloution:\n",
"//Calculating the angular speeds\n",
"omega1=2*%pi*N1/60,omega2=0 //rad/s\n",
"//Calculating the mass moment of inertia of the rotor on motor\n",
"I1=m1*k1^2 //kg-m^2\n",
"//Calculating the mass moment of inertia of the parts attached to machine\n",
"I2=m2*k2^2 //kg-m^2\n",
"//Calculating the speed after engagement of the clutch and the time taken\n",
"//We know that impulsive torque = change in angular momentum\n",
"//T*t = I1*(omega1-omega), or I1*omega+T*t = I1*omega1                .....(i)\n",
"//T*t = I2*(omega-omega2), or I2*omega-T*t = I2*omega2                .....(ii)\n",
"A=[I1 T; I2 -T]\n",
"B=[I1*omega1; I2*omega2]\n",
"V=A \ B\n",
"omega=V(1) //rad/s\n",
"t=V(2) //s\n",
"//Calculating the kinetic energy lost during the operation\n",
"E=I1*I2*(omega1-omega2)^2/(2*(I1+I2)) //N-m\n",
"//Results:\n",
"printf('\n\n The speed after engagement, omega = %.1f rad/s.\n',omega)\n",
"printf(' The time taken, t = %.2f s.\n',t)\n",
"printf(' The kinetic energy lost during the operation, E = %d N-m.\n\n',E)"
   ]
   }
,
{
		   "cell_type": "markdown",
		   "metadata": {},
		   "source": [
			"## Example 3.13: To_find_the_acceleration.sce"
		   ]
		  },
  {
"cell_type": "code",
	   "execution_count": null,
	   "metadata": {
	    "collapsed": true
	   },
	   "outputs": [],
"source": [
"//To find the acceleration\n",
"clc\n",
"//Given:\n",
"M=75 //kg\n",
"r=0.3 //m\n",
"G=6\n",
"IA=100,IB=5 //kg-m^2\n",
"eta=90/100 //%\n",
"//Solution:\n",
"//Calculating the equivalent mass of the geared system\n",
"me=1/r^2*(IA+G^2*IB) //kg\n",
"//Calculating the total equivalent mass to be accelerated\n",
"Me=me+M //kg\n",
"//Calculating the acceleration when it is allowed to fall freely\n",
"F=M*9.81 //Accelerating force provided by the pull of gravity, N\n",
"a=F/Me //m/s^2\n",
"//Calculating the equivalent mass of the geared system when the efficiency is 90%\n",
"me1=1/r^2*(IA+G^2*IB/eta) //kg\n",
"//Calculating the total equivalent mass to be accelerated\n",
"Me1=me1+M //kg\n",
"//Calculating the acceleration when the efficiency is 90%\n",
"F1=M*9.81 //Accelerating force by the pull of gravity, N\n",
"a1=F1/Me1 //m/s^2\n",
"//Results:\n",
"printf('\n\n The acceleration of the mass M if it is allowed to fall freely, a = %.3f m/s^2.\n',a)\n",
"printf(' The acceleration of the mass M when the efficiency of the gearing system is 0.9, a = %.3f m/s^2.\n\n',a1)"
   ]
   }
,
{
		   "cell_type": "markdown",
		   "metadata": {},
		   "source": [
			"## Example 3.18: To_find_the_torque.sce"
		   ]
		  },
  {
"cell_type": "code",
	   "execution_count": null,
	   "metadata": {
	    "collapsed": true
	   },
	   "outputs": [],
"source": [
"//To find the torque\n",
"clc\n",
"//Given:\n",
"d=1.5,r=d/2,d1=1,kM=90/1000,kI=225/1000,kD=600/1000,kP=450/1000 //m\n",
"NM=900,N1=275,ND=50 //rpm\n",
"mM=200,mI=375,mD=2250,mP=200,m1=1150,m2=650 //kg\n",
"FI=150, FD=1125, FP=150 //N-m\n",
"F1=500,F2=350 //N\n",
"a=0.9 //m/s^2\n",
"//Solution:\n",
"//Calculating the speed of guide pulley\n",
"NP=ND*d/d1 //rpm\n",
"//Calculating the gear ratio for intermediate gear and motor\n",
"G1=N1/NM\n",
"//Calculating the gear ratio for drum and motor\n",
"G2=ND/NM\n",
"//Calculating the gear ratio for the guide pulley and motor\n",
"G3=NP/NM\n",
"//Calculating the mass moment of inertia of the motor\n",
"IM=mM*kM^2 //kg-m^2\n",
"//Calculating the mass moment of inertia of the intermediate gear\n",
"II=mI*kI^2 //kg-m^2\n",
"//Calculating the mass moment of inertia of the drum and shaft\n",
"ID=mD*kD^2 //kg-m^2\n",
"//Calculating the mass moment of inertia of the guide pulley\n",
"IP=mP*kP^2 //kg-m^2\n",
"//Calculating the angular acceleration of the drum\n",
"alphaD=a/r //rad/s^2\n",
"//Calculating the angular acceleration of the motor\n",
"alphaM=alphaD*NM/ND //rad/s^2\n",
"//Calculating the equivalent mass moment of inertia of the system\n",
"I=IM+G1^2*II+G2^2*ID+2*G3^2*IP //kg-m^2\n",
"//Calculating the torque at motor to accelerate the system\n",
"T1=I*alphaM //N-m\n",
"//Calculating the torque at motor to overcome friction at intermediate gear, drum and two guide pulleys\n",
"T2=G1*FI+G2*FD+2*G3*FP //N-m\n",
"//Calculating the tension in the rising rope between the pulley and drum\n",
"Q1=m1*9.81+m1*a+F1 //N\n",
"//Calculating the tension in the falling rope between the pulley and drum\n",
"Q2=m2*9.81-m2*a-F2 //N\n",
"//Calculating the torque at drum\n",
"TD=(Q1-Q2)*r //N-m\n",
"//Calculating the torque at motor to raise and lower cages and ropes and to overcome frictional resistance\n",
"T3=G2*TD //N-m\n",
"//Calculating the total motor torque required\n",
"T=T1+T2+T3 //N-m\n",
"//Results:\n",
"printf('\n\n The total motor torque required, T = %.1f N-m.\n\n',T)"
   ]
   }
,
{
		   "cell_type": "markdown",
		   "metadata": {},
		   "source": [
			"## Example 3.19: To_find_velocities_and_loss_of_KE.sce"
		   ]
		  },
  {
"cell_type": "code",
	   "execution_count": null,
	   "metadata": {
	    "collapsed": true
	   },
	   "outputs": [],
"source": [
"//To find velocities and loss of KE\n",
"clc\n",
"//Given:\n",
"m1=50,m2=25 //kg\n",
"u1=3,u2=1.5 //m/s\n",
"//Solution:\n",
"//When the impact is inelastic\n",
"//Calculating the common velocity after impact\n",
"v=(m1*u1+m2*u2)/(m1+m2) //m/s\n",
"//Calculating the loss of kinetic energy during impact\n",
"EL=m1*m2/(2*(m1+m2))*(u1-u2)^2 //N-m\n",
"//When the impact is elastic\n",
"//Calculating the velocity of the first sphere immediately after impact\n",
"v1=2*v-u1 //m/s\n",
"//Calculating the velocity of the second sphere immediately after impact\n",
"v2=2*v-u2 //m/s\n",
"//Calculating the loss of kinetic energy\n",
"EL1=0\n",
"//When the coefficient of restitution, e=0.6\n",
"e=0.6\n",
"//Calculating the velocity of the first sphere immediately after impact\n",
"v12=(1+e)*v-e*u1 //m/s\n",
"//Calculating the velocity of the second sphere immediately after impact\n",
"v22=(1+e)*v-e*u2 //m/s\n",
"//Calculating the loss of kinetic energy\n",
"EL2=m1*m2/(2*(m1+m2))*(u1-u2)^2*(1-e^2) //N-m\n",
"//Results:\n",
"printf('\n\n The common velocity after impact when the impact is inelastic, v = %.1f m/s.\n',v)\n",
"printf(' The loss of kinetic energy during impact, EL = %.2f N-m.\n',EL)\n",
"printf(' The velocity of the first sphere immediately after impact when the impact is elastic, v1 = %d m/s.\n',v1)\n",
"printf(' The velocity of the second sphere immediately after impact, v2 = %.1f m/s.\n',v2)\n",
"printf(' The loss of kinetic energy, EL = %d.\n',EL1)\n",
"printf(' The velocity of the first sphere immediately after impact When the coefficient of restitution is 0.6, v1 = %.1f m/s.\n',v12)\n",
"printf(' The velocity of the second sphere immediately after impact, v2 = %.1f m/s.\n',v22)\n",
"printf(' The loss of kinetic energy during impactm EL = %d N-m.\n\n',EL2)"
   ]
   }
,
{
		   "cell_type": "markdown",
		   "metadata": {},
		   "source": [
			"## Example 3.1: To_find_the_angular_acceleration_and_KE.sce"
		   ]
		  },
  {
"cell_type": "code",
	   "execution_count": null,
	   "metadata": {
	    "collapsed": true
	   },
	   "outputs": [],
"source": [
"//To find the angular acceleration and KE\n",
"clc\n",
"//Given:\n",
"k=1 //m\n",
"m=2500 //kg\n",
"T=1500 //N-m\n",
"//Solution:\n",
"//Calculating the mass moment of inertia of the flywheel\n",
"I=m*k^2 //kg-m^2\n",
"//Calculating the angular acceleration of the flywheel\n",
"alpha=T/I //rad/s^2\n",
"//The angular speed at start\n",
"omega1=0\n",
"t=10 //seconds\n",
"//Calculating the angular speed of the flywheel after t=10 seconds from start\n",
"omega2=omega1+alpha*t //rad/s\n",
"//Calculating the kinetic energy of the flywheel after 10 seconds from start\n",
"E=1/2*I*omega2^2/1000 //kJ\n",
"//Results:\n",
"printf('\n\n The angular acceleration of the flywheel, alpha = %.1f rad/s^2.\n',alpha)\n",
"printf(' The kinetic energy of the flywheel, E = %d kJ.\n\n',E)"
   ]
   }
,
{
		   "cell_type": "markdown",
		   "metadata": {},
		   "source": [
			"## Example 3.20: To_find_the_speed_and_energy_dissipated.sce"
		   ]
		  },
  {
"cell_type": "code",
	   "execution_count": null,
	   "metadata": {
	    "collapsed": true
	   },
	   "outputs": [],
"source": [
"//To find the speed and energy dissipated\n",
"clc\n",
"//Given:\n",
"m1=15*1000,m2=5*1000 //kg\n",
"u1=20*1000/3600,u2=12*1000/3600 //m/s\n",
"s=1000*10^3 //N/m\n",
"e=0.5\n",
"//Solution:\n",
"//Calculating the common speed\n",
"v=(m1*u1+m2*u2)/(m1+m2) //m/s\n",
"//Calculating the strain energy stored in one spring\n",
"SE=mulf('1/2*s','x^2') //Strain energy, N-m\n",
"//Calculating the strain energy stored in four buffer springs\n",
"SE4=mulf('4*1/2*s','x^2') //Strain energy, N-m\n",
"//Calculating the difference in kinetic energies before impact and during impact\n",
"d=m1*m2/(2*(m1+m2))*(u1-u2)^2 //Difference in kinetic energies, N-m\n",
"//Equating the difference between kinetic energies to the strain energy stored in the springs\n",
"x=sqrt(d*2/(4*s))*1000 //mm\n",
"//Calculating the speed of the loaded wagon immediately after impact ends\n",
"v11=2*v-u1 //m/s\n",
"//Calculating the speed of the empty wagon immediately after impact ends\n",
"v21=2*v-u2 //m/s\n",
"//Calculating the speeds of the wagons taking into account the coefficient of restitution, e=0.5\n",
"v12=(1+e)*v-e*u1 //m/s\n",
"v22=(1+e)*v-e*u2 //m/s\n",
"//Calculating the amount of energy dissipated during impact\n",
"EL=m1*m2/(2*(m1+m2))*(u1-u2)^2*(1-e^2) //N-m\n",
"//Results:\n",
"printf('\n\n The magnitude of common speed, v = %d m/s.\n',v)\n",
"printf(' The maximum deflection of each buffer spring during impact, x = %d mm.\n',x)\n",
"printf(' The speed of the loaded wagon immediately after the impact ends, v1 = %.2f m/s.\n',v11)\n",
"printf(' The speed of the empty wagon immediately after the impact ends, v2 = %.2f m/s.\n',v21)\n",
"printf(' When coefficient of restitution is taken into account, v1 = %.3f m/s.\n',v12)\n",
"printf(' When coefficient of restitution is taken into account, v2 = %.3f m/s.\n',v22)\n",
"printf(' The amount of energy dissipated during impact, EL = %d N-m.\n\n',EL)"
   ]
   }
,
{
		   "cell_type": "markdown",
		   "metadata": {},
		   "source": [
			"## Example 3.21: To_find_strain_energy_twist_and_speed.sce"
		   ]
		  },
  {
"cell_type": "code",
	   "execution_count": null,
	   "metadata": {
	    "collapsed": true
	   },
	   "outputs": [],
"source": [
"//To find strain energy, twist and speed\n",
"clc\n",
"//Given:\n",
"IA=22.5,IB=67.5 //kg-m^2\n",
"q=225 //N-m/rad\n",
"NA=150,NB=0 //rpm\n",
"//Calculating the angular speed of the flywheel\n",
"omegaA=2*%pi*NA/60 //rad/s\n",
"//Calculating the angular speed of both the flywheels at the instant their speeds are equal\n",
"omega=IA*omegaA/(IA+IB) //rad/s\n",
"//Calculating the kinetic energy of the system at that instant\n",
"E2=1/2*(IA+IB)*omega^2 //N-m\n",
"//Calculating the kinetic energy of the flywheel A\n",
"E1=1/2*IA*omegaA^2 //N-m\n",
"//Calculating the strain energy stored in the spring\n",
"E=E1-E2 //Strain energy stored in the spring, N-m\n",
"//Calculating the maximum twist of the spring\n",
"theta=sqrt(E*2/q) //radians\n",
"thetad=theta*180/%pi //Maximum twist, degrees\n",
"//Calculating the speed of each flywheel when the spring regains its initial unstrained condition\n",
"N=60*omega/(2*%pi)\n",
"NA1=2*N-NA //rpm\n",
"NB1=2*N-NB //rpm\n",
"//Results:\n",
"printf('\n\n The strain energy stored in the spring is %d N-m.\n',E)\n",
"printf(' The maximum twist of the spring, theta = %.1f degrees.\n',thetad)\n",
"printf(' The speed of flywheel A when the spring regains its initial unstrained condition, NA1 = %d rpm, i.e. %d rpm in the opposite direction.\n',NA1,-NA1)\n",
"printf(' The speed of flywheel B when the spring regains its initial unstrained condition, NB1 = %d rpm.\n',NB1)"
   ]
   }
,
{
		   "cell_type": "markdown",
		   "metadata": {},
		   "source": [
			"## Example 3.2: To_find_the_time_torque_and_power.sce"
		   ]
		  },
  {
"cell_type": "code",
	   "execution_count": null,
	   "metadata": {
	    "collapsed": true
	   },
	   "outputs": [],
"source": [
"//To find the time, torque and power\n",
"clc\n",
"//Given:\n",
"mC=500,mD=250 //kg\n",
"s=100,r=0.5,k=0.35 //m\n",
"m=3 //kg/m\n",
"//Solution:\n",
"//Velocities of the cage\n",
"u1=0,v1=10,v2=10,u3=10,v3=0 //m/s\n",
"//Accelerations of the cage\n",
"a1=1.5,a3=-6 //m/s^2\n",
"s=100 //m\n",
"//Calculating the time taken by the cage to reach the top\n",
"t1=(v1-u1)/a1 //seconds\n",
"//Calculating the distance moved by the cage during time t1\n",
"s1=(v1+u1)/2*t1 //m\n",
"//Calculating the time taken for the cage from initial velocity u3=10 m/s to final velocity of v3=0\n",
"t3=(v3-u3)/a3 //seconds\n",
"//Calculating the distance moved by the cage during time t3\n",
"s3=(v3+u3)/2*t3 //m\n",
"//Calculating the distance travelled during constant velocity of v2=10 m/s\n",
"s2=s-s1-s3 //m\n",
"//Calculating the time taken for the cage during constant velocity\n",
"t2=s2/v2 //seconds\n",
"//Calculating the time taken for the cage to reach the top\n",
"t=t1+t2+t3 //seconds\n",
"//Calculating the total mass of the rope for 100 metres\n",
"mR=m*s //kg\n",
"//Calculating the force to raise the cage and rope at uniform speed\n",
"F1=(mC+mR)*9.81 //N\n",
"//Calculating the torque to raise the cage and rope at uniform speed\n",
"T1=F1*r //N-m\n",
"//Calculating the force to accelerate the cage and rope\n",
"F2=(mC+mR)*a1 //N\n",
"//Calculating the torque to accelerate the cage and rope\n",
"T2=F2*r //N-m\n",
"//Calculating the mass moment of inertia of the drum\n",
"I=mD*k^2 //kg-m^2\n",
"//Calculating the angular acceleration of the drum\n",
"alpha=a1/r //rad/s^2\n",
"//Calculating the torque to accelerate the drum\n",
"T3=I*alpha //N-m\n",
"//Calculating the total torque which must be applied to the drum at starting\n",
"T=T1+T2+T3 //N-m\n",
"//Calculating the mass of 33.35 m rope\n",
"m1=m*33.35 //kg\n",
"//Calculating the reduction of torque\n",
"T4=(m1*9.81+m1*a1)*r //N-m\n",
"//Calculating the angular velocity of drum\n",
"omega=v2/(2*%pi*r) //rad/s\n",
"//Calculating the power\n",
"P=T4*omega/1000 //Power, kW\n",
"//Results:\n",
"printf('\n\n The time taken for the cage to reach the top, t = %.2f s.\n',t)\n",
"printf(' The total torque which must be applied to the drum during starting, T = %.1f N-m.\n',T)\n",
"printf(' The power required is %.3f kW.\n\n',P)"
   ]
   }
,
{
		   "cell_type": "markdown",
		   "metadata": {},
		   "source": [
			"## Example 3.3: To_find_the_reduction_of_speed.sce"
		   ]
		  },
  {
"cell_type": "code",
	   "execution_count": null,
	   "metadata": {
	    "collapsed": true
	   },
	   "outputs": [],
"source": [
"//To find the reduction of speed\n",
"clc\n",
"//Given:\n",
"P=4*1000 //W\n",
"I=140 //kg-m^2\n",
"N1=240 //rpm\n",
"//Solution:\n",
"//Calculating the angular acceleration at the commencement of operation\n",
"omega1=2*%pi*N1/60 //rad/s\n",
"//Calculating the energy supplied by the motor (E1) and the energy consumed in closing a revet in 1 second\n",
"E1=4000,E2=10000 //N-m\n",
"//Calculating the loss of kinetic energy of the flywheel during the operation\n",
"E=E2-E1 //N-m\n",
"//Calculating the kinetic energy of the flywheel at the commencement of operation\n",
"KEc=1/2*I*omega1^2 //Kinetic energy at the commencement, N-m\n",
"//Calculating the kinetic energy of the flywheel at the end of operation\n",
"KEe=KEc-E //Kinetic energy at the end, N-m\n",
"//Calculating the angular speed of the flywheel immediately after closing a revet\n",
"omega2=sqrt(KEe*2/I) //rad/s\n",
"//Calculating the reduction of speed\n",
"ReductionofSpeed=(omega1-omega2)*60/(2*%pi) //rpm\n",
"//Calculating the maximum rate at which the revets can be closed per minute\n",
"Rate=P*60/E2 //Maximum rate at which the revets can be closed per minute\n",
"//Results:\n",
"printf('\n\n The reduction of speed is %.1f rpm.\n',ReductionofSpeed)\n",
"printf(' The maximum rate at which rivets can be closed per minute is %d.\n\n',Rate)"
   ]
   }
,
{
		   "cell_type": "markdown",
		   "metadata": {},
		   "source": [
			"## Example 3.4: To_find_the_torque_and_power.sce"
		   ]
		  },
  {
"cell_type": "code",
	   "execution_count": null,
	   "metadata": {
	    "collapsed": true
	   },
	   "outputs": [],
"source": [
"//To find the torque and power\n",
"clc\n",
"//Given:\n",
"m=14*1000,m1=1.25*1000,m2=110 //kg\n",
"d=1,r=d/2,k1=450/1000,k2=125/1000 //m\n",
"F=1.2*1000 //N\n",
"eta=0.85\n",
"v=1.8 //m/s\n",
"a=0.1 //m/s^2\n",
"//Solution:\n",
"//Calculating the forces opposing the motion\n",
"P1=m*9.81*1/20+m*a+F //N\n",
"//Calculating the torque on the drum shaft to accelerate the load\n",
"T1=P1*r //N-m\n",
"//Calculating the mass moment of inertia of the drum\n",
"I1=m1*k1^2 //kg-m^2\n",
"//Calculating the angular acceleration of the drum\n",
"alpha1=a/r //rad/s\n",
"//Calculating the torque on the drum to accelerate the drum shaft\n",
"T2=I1*alpha1 //N-m\n",
"//Calculating the torque on the armature to accelerate drum and load\n",
"T3=(T1+T2)/(40*eta) //N-m\n",
"//Calculating the mass moment of inertia of the armature\n",
"I2=m2*k2^2 //kg-m^2\n",
"//Calculating the angular acceleration of the armature\n",
"alpha2=a/r*40 //rad/s^2\n",
"//Calculating the torque on the armature to accelerate armature shaft\n",
"T4=I2*alpha2 //N-m\n",
"//Calculating the torque on the motor shaft\n",
"T=T3+T4 //N-m\n",
"//Calculating the angular speed of the motor\n",
"omega=v/r*40 //rad/s\n",
"//Calculating the power developed by the motor\n",
"P=T*omega/1000 //Power developed by the motor, kW\n",
"//Results:\n",
"printf('\n\n The torque on the motor shaft, T = %.2f N-m.\n',T)\n",
"printf(' The power developed by the motor is %.2f kW.\n\n',P)"
   ]
   }
,
{
		   "cell_type": "markdown",
		   "metadata": {},
		   "source": [
			"## Example 3.5: To_find_the_KE_and_braking_force.sce"
		   ]
		  },
  {
"cell_type": "code",
	   "execution_count": null,
	   "metadata": {
	    "collapsed": true
	   },
	   "outputs": [],
"source": [
"//To find the KE and braking force\n",
"clc\n",
"//Given:\n",
"m=12*1000,m1=2*1000,m2=2.5*1000 //kg\n",
"k1=0.4,d1=1.2,r1=d1/2,k2=0.6,d2=1.5,r2=d2/2,s=6 //m\n",
"v=9*1000/3600 //m/s\n",
"//Solution:\n",
"//Calculating the mass moment of inertia of the front roller\n",
"I1=m1*k1^2 //kg-m^2\n",
"//Calculating the mass moment of inertia of the rear axle together with its wheels\n",
"I2=m2*k2^2 //kg-m^2\n",
"//Calculating the angular speed of the front roller\n",
"omega1=v/r1 //rad/s\n",
"//Calculating the angular speed of rear wheels\n",
"omega2=v/r2 //rad/s\n",
"//Calculating the kinetic energy of rotation of the front roller\n",
"E1=1/2*I1*omega1^2 //N-m\n",
"//Calculating the kinetic energy of rotation of the rear axle with its wheels\n",
"E2=1/2*I2*omega2^2 //N-m\n",
"//Calculating the total kinetic energy of rotation of the wheels\n",
"E=E1+E2 //N-m\n",
"//Calculating the kinetic energy of translation of the road roller\n",
"E3=1/2*m*v^2 //N-m\n",
"//Calculating the total kinetic energy of the road roller\n",
"E4=E3+E //N-m\n",
"//Calculating the braking force to bring the roller to rest\n",
"F=E4/s //N\n",
"//Results:\n",
"printf('\n\n The total kinetic energy of rotation of the wheels, E = %d N-m.\n',E)\n",
"printf(' The total kinetic energy of the road roller, E4 = %d N-m.\n',E4)\n",
"printf(' The braking force required to bring the roller to rest, F = %.1f N.\n\n',F)"
   ]
   }
,
{
		   "cell_type": "markdown",
		   "metadata": {},
		   "source": [
			"## Example 3.7: To_Find_the_Speed_and_Energy_Lost.sce"
		   ]
		  },
  {
"cell_type": "code",
	   "execution_count": null,
	   "metadata": {
	    "collapsed": true
	   },
	   "outputs": [],
"source": [
"//To Find the Speed and Energy Lost\n",
"clc\n",
"//Given:\n",
"r=500/1000,k=450/1000 //m\n",
"m1=500,m2=1250 //kg\n",
"u=0.75 //m/s\n",
"//Solution:\n",
"//Calculating the mass moment of inertia of drum\n",
"I2=m2*k^2 //kg-m^2\n",
"//Calculating the speed of truck\n",
"//Impulse, F=m1*v or, F-m1*v=0                                                          .....(i)\n",
"//Moment of impulse, F*r=I2*(omega2-omega2) or, F*r=I2*(u-v)/r or, F*r+I2*v/r=I2*u/r    .....(ii)\n",
"//Solving (i) and (ii)\n",
"A=[1 -m1; r I2/r]\n",
"B=[0; I2*u/r]\n",
"V=A \ B\n",
"v=V(2)\n",
"//Calculating the energy lost to the system\n",
"E=1/2*I2*(u^2-v^2)/r^2-1/2*m1*v^2 //Energy lost to the system, N-m\n",
"//Results:\n",
"printf('\n\n The speed of the truck when the motion becomes steady, v = %.3f m/s.\n',v)\n",
"printf(' The energy lost to the system is %d N-m.\n\n',E)"
   ]
   }
,
{
		   "cell_type": "markdown",
		   "metadata": {},
		   "source": [
			"## Example 3.8: To_find_the_velocity_KE_and_compression.sce"
		   ]
		  },
  {
"cell_type": "code",
	   "execution_count": null,
	   "metadata": {
	    "collapsed": true
	   },
	   "outputs": [],
"source": [
"//To find the velocity, KE and compression\n",
"clc\n",
"//Given:\n",
"s=0.7*10^6 //N/m\n",
"m1=10*10^3,m2=15*10^3 //kg\n",
"v1=1.8,v2=0.6 //m/s\n",
"//Solution:\n",
"//Calculating the common velocity when moving together during impact\n",
"v=(m1*v1+m2*v2)/(m1+m2)\n",
"//Calculating the kinetic energy lost to the system\n",
"E=(1/2*m1*v1^2+1/2*m2*v2^2)-1/2*(m1+m2)*v^2\n",
"//Calculating the compression of each buffer spring\n",
"x=sqrt(E/(2*s))\n",
"//Calculating the velocity of each truck on separation\n",
"//Final KE after separation=KE at common velocity+Half of energy stored in springs.\n",
"//And initial and final momentum must be equal.\n",
"//Simplifying the two equations, we get,\n",
"//1/2*m1*v3^2+1/2*m2*v4^2=1/2*(m1+m2)*v^2+1/2*E        .....(i)\n",
"//m1*v3+m2*v4=(m1+m2)*v\n",
"function y=f(x)\n",
"    v3=x(1)\n",
"    v4=x(2)\n",
"    y(1)=1/2*m1*v3^2+1/2*m2*v4^2-1/2*(m1+m2)*v^2-1/2*E\n",
"    y(2)=m1*v3+m2*v4-(m1+m2)*v\n",
"endfunction\n",
"z=fsolve([1,1],f)\n",
"v3=z(1)\n",
"v4=z(2)\n",
"//Results:\n",
"printf('\n\n The common velocity when moving together during impact, v = %.2f m/s.\n',v)\n",
"printf(' The kinetic energy lost to the system is %.2f kN-m.\n',E/1000)\n",
"printf(' The compression of each buffer spring, x = %d mm.\n',x*1000)\n",
"printf(' The velocity of separation for 10 tonnes truck, v3 = %.1f m/s.\n',v3)\n",
"printf(' The velocity of separation for 15 tonnes truck, v4 = %.1f m/s.\n',v4)"
   ]
   }
,
{
		   "cell_type": "markdown",
		   "metadata": {},
		   "source": [
			"## Example 3.9: To_find_energy_lost_and_resistance.sce"
		   ]
		  },
  {
"cell_type": "code",
	   "execution_count": null,
	   "metadata": {
	    "collapsed": true
	   },
	   "outputs": [],
"source": [
"//To find energy lost and resistance\n",
"clc\n",
"//Given:\n",
"m1=300,m2=500 //kg\n",
"s=1,x=150/1000 //m\n",
"//Solution:\n",
"//Calculating the velocity with which mass m1 hits the pile\n",
"u=0\n",
"v1=sqrt(2*9.81*s+u^2) //m/s\n",
"//Calculating the common velocity after impact\n",
"v2=0\n",
"v=(m1*v1+m2*v2)/(m1+m2) //m/s\n",
"//Calculating the kinetic energy before impact\n",
"KEb=m1*9.81*s //Kinetic energy before impact, N-m\n",
"//Calculating the kinetic energy after impact\n",
"KEa=1/2*(m1+m2)*v^2 //Kinetic energy after impact, N-m\n",
"//Calculating the energy lost in the blow\n",
"E=KEb-KEa //Energy lost in the blow, N-m\n",
"//Calculating the average resistance against the pile\n",
"R=KEa/x+m1*9.81+m2*9.81\n",
"//Results:\n",
"printf('\n\n The energy lost in the blow is %d N-m.\n',E)\n",
"printf(' The average resistance against the pile, R = %.3f kN.\n\n',R/1000)"
   ]
   }
],
"metadata": {
		  "kernelspec": {
		   "display_name": "Scilab",
		   "language": "scilab",
		   "name": "scilab"
		  },
		  "language_info": {
		   "file_extension": ".sce",
		   "help_links": [
			{
			 "text": "MetaKernel Magics",
			 "url": "https://github.com/calysto/metakernel/blob/master/metakernel/magics/README.md"
			}
		   ],
		   "mimetype": "text/x-octave",
		   "name": "scilab",
		   "version": "0.7.1"
		  }
		 },
		 "nbformat": 4,
		 "nbformat_minor": 0
}
