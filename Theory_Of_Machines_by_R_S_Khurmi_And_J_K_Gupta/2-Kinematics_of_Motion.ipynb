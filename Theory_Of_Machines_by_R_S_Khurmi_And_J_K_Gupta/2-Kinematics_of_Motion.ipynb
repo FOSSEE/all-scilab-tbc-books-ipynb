{
"cells": [
 {
		   "cell_type": "markdown",
	   "metadata": {},
	   "source": [
       "# Chapter 2: Kinematics of Motion"
	   ]
	},
{
		   "cell_type": "markdown",
		   "metadata": {},
		   "source": [
			"## Example 2.1: To_Find_the_Acceleration_and_Distance.sce"
		   ]
		  },
  {
"cell_type": "code",
	   "execution_count": null,
	   "metadata": {
	    "collapsed": true
	   },
	   "outputs": [],
"source": [
"//To Find the Acceleration and Distance\n",
"clc\n",
"//Given:\n",
"u1=0,v1=72*1000/3600 //m/s\n",
"s1=500 //m\n",
"//Solution:\n",
"//Calculating the initial acceleration of the car\n",
"a1=(v1^2-u1^2)/(2*s1) //m/s^2\n",
"//Calculating time taken by the car to attain the speed\n",
"t1=(v1-u1)/a1 //seconds\n",
"//Parameters for the second case\n",
"u2=v1,v2=90*1000/3600 //m/s\n",
"t2=10 //seconds\n",
"//Calculating the acceleration for the second case\n",
"a2=(v2-u2)/t2 //m/s^2\n",
"//Calculating the distance moved by the car in the second case\n",
"s2=(u2*t2)+(a2/2*t2^2)\n",
"//Parameters for the third case\n",
"u3=v2,v3=0 //m/s\n",
"t3=5 //seconds\n",
"//Calculating the distance moved by the car\n",
"s3=(u3+v3)*t3/2 //m\n",
"//Results:\n",
"printf('\n\n The acceleration of the car, a = %.1f m/s^2. \n',a1)\n",
"printf(' The car takes t = %d s to attain the speed.\n',t1)\n",
"printf(' The acceleration of the car in the second case, a = %.1f m/s^2.',a2)\n",
"printf('\n The distance moved by the car, s = %d m.\n',s2)\n",
"printf(' The distance travelled by the car during braking, s = %.1f m.\n\n',s3)"
   ]
   }
,
{
		   "cell_type": "markdown",
		   "metadata": {},
		   "source": [
			"## Example 2.3: To_Find_the_Velocity.sce"
		   ]
		  },
  {
"cell_type": "code",
	   "execution_count": null,
	   "metadata": {
	    "collapsed": true
	   },
	   "outputs": [],
"source": [
"//To Find the Velocity\n",
"clc\n",
"//Given:\n",
"//Initial parameters\n",
"v0=100 //kmph\n",
"t0=0\n",
"//Parameters at the end of 40 seconds\n",
"v1=90/100*v0 //kmph\n",
"t1=40 //seconds\n",
"//Solution:\n",
"//The acceleration is given by, a=(-dv/dt)=k*v\n",
"//Integrating, we get ln(v)=-k*t+C\n",
"//Calculating the constant of integration\n",
"C=integrate('1/v','v',1,100)\n",
"//Calculating the constant of proportionality\n",
"k=(C-2.3*log10(90))/40\n",
"//Time after 120 seconds\n",
"t2=120 //seconds\n",
"//Calculating the velocity after 120 seconds\n",
"v120=10^((-k*t2+C)/2.29)\n",
"//Results:\n",
"printf('\n\n The velocity at the end of 120 seconds, v120 = %.1f kmph.\n\n',v120)"
   ]
   }
,
{
		   "cell_type": "markdown",
		   "metadata": {},
		   "source": [
			"## Example 2.5: To_Find_the_Maximum_Cutting_Speed.sce"
		   ]
		  },
  {
"cell_type": "code",
	   "execution_count": null,
	   "metadata": {
	    "collapsed": true
	   },
	   "outputs": [],
"source": [
"//To Find the Maximum Cutting Speed\n",
"clc\n",
"//Given:\n",
"s=500,s1=125,s2=250,s3=125 //mm\n",
"t=1 //second\n",
"//Solution:\n",
"//Matrices for the velocity vs. time graph\n",
"V=[0,750,750,0] //The velocity matrix\n",
"T=[0,1/3,2/3,1] //The time matrix\n",
"plot2d(T,V)\n",
"//Calculating the time of uniform acceleration\n",
"t1=rdivf('s1','v/2')\n",
"//Calculating the time of constant speed\n",
"t2=rdivf('s2','v')\n",
"//Calculating the time of uniform retardation\n",
"t3=rdivf('s3','v/2')\n",
"//Equating the time taken to complete the stroke to 1 second\n",
"v=(125/(1/2)+250/1+125/(1/2))/1 //mm/s\n",
"//Results:\n",
"printf('\n\n The maximum cutting speed, v = %d mm/s.\n\n',v)"
   ]
   }
,
{
		   "cell_type": "markdown",
		   "metadata": {},
		   "source": [
			"## Example 2.6: To_Find_the_Angular_Acceleration.sce"
		   ]
		  },
  {
"cell_type": "code",
	   "execution_count": null,
	   "metadata": {
	    "collapsed": true
	   },
	   "outputs": [],
"source": [
"//To Find the Angular Acceleration\n",
"clc\n",
"//Given:\n",
"N0=0,N=2000 //rpm\n",
"t=20 //seconds\n",
"//Solution:\n",
"//Calculating the angular velocities\n",
"omega0=0, omega=2*%pi*N/60 //rad/s\n",
"//Calculating the angular acceleration\n",
"alpha=(omega-omega0)/t //rad/s^2\n",
"//Calculating the angular distance moved by the wheel during 2000 rpm\n",
"theta=(omega0+omega)*t/2 //rad\n",
"//Calculating the number of revolutions made by the wheel\n",
"n=theta/(2*%pi)\n",
"//Results:\n",
"printf('\n\n The angular acceleration of the wheel, alpha = %.3f rad/s^2.\n',alpha)\n",
"printf(' The wheel makes n = %.1f revolutions.\n\n',n)"
   ]
   }
,
{
		   "cell_type": "markdown",
		   "metadata": {},
		   "source": [
			"## Example 2.7: To_Find_Velocity_and_Acceleration.sce"
		   ]
		  },
  {
"cell_type": "code",
	   "execution_count": null,
	   "metadata": {
	    "collapsed": true
	   },
	   "outputs": [],
"source": [
"//To Find Velocity and Acceleration\n",
"clc\n",
"//Given:\n",
"r=1.5 //m\n",
"N0=1200,N=1500 //rpm\n",
"t=5 //seconds\n",
"//Solution:\n",
"//Calculating the angular velocities\n",
"omega0=2*%pi*N0/60,omega=2*%pi*N/60 //rad/s\n",
"//Calculating the linear velocity at the beginning\n",
"v0=r*omega0 //m/s\n",
"//Calculating the linear velocity at the end of 5 seconds\n",
"v5=r*omega //m/s\n",
"//Calculating the angular acceleration\n",
"alpha=(omega-omega0)/t //ad/s^2\n",
"//Calculating the tangential acceleration after 5 seconds\n",
"TangentialAcceleration=alpha*(r/2) //m/s^2\n",
"//Calculating the radial acceleration after 5 seconds\n",
"RadialAcceleration=(omega^2)*(r/2) //m/s^2\n",
"//Results:\n",
"printf('\n\n The linear velocity at the beginning, v0 = %.1f m/s.\n',v0)\n",
"printf(' The linear velocity after 5 seconds, v5 = %.1f m/s.\n',v5)\n",
"printf(' The tangential acceleration after 5 seconds is %.1f m/s^2.\n',TangentialAcceleration)\n",
"printf(' The radial acceleration after 5 seconds is %d m/s^2.',RadialAcceleration)"
   ]
   }
],
"metadata": {
		  "kernelspec": {
		   "display_name": "Scilab",
		   "language": "scilab",
		   "name": "scilab"
		  },
		  "language_info": {
		   "file_extension": ".sce",
		   "help_links": [
			{
			 "text": "MetaKernel Magics",
			 "url": "https://github.com/calysto/metakernel/blob/master/metakernel/magics/README.md"
			}
		   ],
		   "mimetype": "text/x-octave",
		   "name": "scilab",
		   "version": "0.7.1"
		  }
		 },
		 "nbformat": 4,
		 "nbformat_minor": 0
}
