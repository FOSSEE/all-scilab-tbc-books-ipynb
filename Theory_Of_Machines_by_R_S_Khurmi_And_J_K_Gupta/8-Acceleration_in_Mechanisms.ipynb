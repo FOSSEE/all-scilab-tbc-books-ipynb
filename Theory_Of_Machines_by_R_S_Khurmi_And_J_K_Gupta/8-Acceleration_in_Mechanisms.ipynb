{
"cells": [
 {
		   "cell_type": "markdown",
	   "metadata": {},
	   "source": [
       "# Chapter 8: Acceleration in Mechanisms"
	   ]
	},
{
		   "cell_type": "markdown",
		   "metadata": {},
		   "source": [
			"## Example 8.10: To_find_velocity_torque_and_acceleration.sce"
		   ]
		  },
  {
"cell_type": "code",
	   "execution_count": null,
	   "metadata": {
	    "collapsed": true
	   },
	   "outputs": [],
"source": [
"//To find velocity, torque and acceleration\n",
"clc\n",
"//Given:\n",
"NAO=100 //rpm\n",
"OA=150/1000,AB=600/1000,BC=350/1000,CD=150/1000,DE=500/1000 //m\n",
"dA=50/1000,dB=dA,rA=dA/2,rB=dB/2 //m\n",
"pF=0.35 //N/mm^2\n",
"DF=250 //mm\n",
"//Solution:\n",
"//Refer Fig. 8.21\n",
"//Calculating the angular speed of the crank AO\n",
"omegaAO=2*%pi*NAO/60 //rad/s\n",
"//Calculating the velocity of A with respect to O\n",
"vAO=omegaAO*OA //m/s\n",
"vA=vAO\n",
"//By measurement from the velocity diagram, Fig. 8.21(b),\n",
"vBA=1.65,vBC=0.93,vB=vBC,vED=0.18,vEO=0.36,vE=vEO,vF=vE //m/s\n",
"//Calculating the velocity of D with respect to C\n",
"vDC=vBC*CD/BC //m/s\n",
"//Calculating the angular velocity of B with respect to A\n",
"omegaBA=vBA/AB //rad/s\n",
"//Calculating the angular velocity of B with respect to C\n",
"omegaBC=vBC/BC //rad/s\n",
"//Calculating the rubbing velocity of pin at A\n",
"vrA=(omegaAO-omegaBA)*rA //The rubbing velocity of pin at A, m/s\n",
"//Calculating the rubbing velocity of pin at B\n",
"vrB=(omegaBA+omegaBC)*rB //The rubbing velocity of pin at B, m/s\n",
"//Calculating the force at the pump piston at F\n",
"FF=pF*%pi/4*DF^2 //N\n",
"//Calculating the force required at the crankshaft A\n",
"FA=FF*vF/vA //N\n",
"//Calculating the torque required at the crankshaft\n",
"TA=FA*OA //N-m\n",
"//Calculating the radial component of the acceleration of A with respect to O\n",
"arAO=vAO^2/OA //m/s^2\n",
"//Calculating the radial component of the acceleration of B with respect to A\n",
"arBA=vBA^2/AB //m/s^2\n",
"//Calculating the radial component of the acceleration of B with respect to C\n",
"arBC=vBC^2/BC //m/s^2\n",
"//Calculating the radial component of the acceleration of E with respect to D\n",
"arED=vED^2/DE //m/s^2\n",
"//By measurement from the acceleration diagram, Fig. 8.21(c),\n",
"aBC=9.2,aB=aBC,aBA=9,aE=3.8 //m/s^2\n",
"//Calculating the acceleration of D\n",
"aD=aBC*CD/BC //m/s^2\n",
"//Results:\n",
"printf('\n\n The velocity of the cross-head E, vE = %.2f m/s.\n',vE)\n",
"printf(' The rubbing velocity of pin at A = %.3f m/s.\n',vrA)\n",
"printf(' The rubbing velocity of pin at B = %.3f m/s.\n',vrB)\n",
"printf(' The torque required at the crankshaft, TA = %d N-m.\n',TA)\n",
"printf(' The acceleration of the crosshead E, aE = %.1f m/s^2.\n\n',aE)"
   ]
   }
,
{
		   "cell_type": "markdown",
		   "metadata": {},
		   "source": [
			"## Example 8.11: To_find_velocity_and_acceleration.sce"
		   ]
		  },
  {
"cell_type": "code",
	   "execution_count": null,
	   "metadata": {
	    "collapsed": true
	   },
	   "outputs": [],
"source": [
"//To find velocity and acceleration\n",
"clc\n",
"//Given:\n",
"NAO=150 //rpm\n",
"OA=150/1000,AB=550/1000,AC=450/1000,DC=500/1000,BE=350/1000 //m\n",
"//Solution:\n",
"//Refer Fig. 8.23\n",
"//Calculating the angular speed of the crank AO\n",
"omegaAO=2*%pi*NAO/60 //rad/s\n",
"//Calculating the linear velocity of A with respect to O\n",
"vAO=omegaAO*OA //m/s\n",
"vA=vAO\n",
"//By measurement from the velocity diagram, Fig. 8.23(b),\n",
"vCA=0.53,vCD=1.7,vC=vCD,vEB=1.93,vE=1.05 //m/s\n",
"//Calculating the radial component of the acceleration of A with respect to O\n",
"arAO=vAO^2/OA //m/s^2\n",
"aA=arAO\n",
"//Calculating the radial component of the acceleration of C with respect to A\n",
"arCA=vCA^2/AC //m/s^2\n",
"//Calculating the radial component of the acceleration of C with respect to D\n",
"arCD=vCD^2/DC //m/s^2\n",
"//Calculating the radial component of the acceleration of E with respect to B\n",
"arEB=vEB^2/BE //m/s^2\n",
"//By measurement from the acceleration diagram, Fig. 8.23(c),\n",
"aE=3.1 //m/s^2\n",
"//Results:\n",
"printf('\n\n Velocity of the ram E, vE = %.2f m/s.\n',vE)\n",
"printf(' Acceleration of the ram E, aE = %.1f m/s^2.\n\n',aE)"
   ]
   }
,
{
		   "cell_type": "markdown",
		   "metadata": {},
		   "source": [
			"## Example 8.12: To_find_the_velocity_and_acceleration.sce"
		   ]
		  },
  {
"cell_type": "code",
	   "execution_count": null,
	   "metadata": {
	    "collapsed": true
	   },
	   "outputs": [],
"source": [
"//To find the velocity and acceleration\n",
"clc\n",
"//Given:\n",
"NDC=1140 //rpm\n",
"AB=80/1000,CD=40/1000,BE=150/1000,DE=BE,EP=200/1000 //m\n",
"//Solution:\n",
"//Refer Fig. 8.25\n",
"//Calculating the angular speed of the link CD\n",
"omegaDC=2*%pi*NDC/60 //rad/s\n",
"//Calculating the velocity of D with respect to C\n",
"vDC=omegaDC*CD //m/s\n",
"vD=vDC\n",
"//Calculating the angular speed of the larger wheel\n",
"omegaBA=omegaDC*CD/AB //rad/s\n",
"//Calculating the velocity of B with respect to A\n",
"vBA=omegaBA*AB //m/s\n",
"vB=vBA\n",
"//By measurement from the velocity diagram, Fig. 8.25(b),\n",
"vEB=8.1,vED=0.15,vPE=4.7,vP=0.35 //m/s\n",
"//Calculating the radial component of the acceleration of B with respect to A\n",
"arBA=vBA^2/AB //m/s^2\n",
"//Calculating the radial component of the acceleration of D with respect to C\n",
"arDC=vDC^2/CD //m/s^2\n",
"//Calculating the radial component of the acceleration of E with respect to B\n",
"arEB=vEB^2/BE //m/s^2\n",
"//Calculating the radial component of the acceleration of E with respect to D\n",
"arED=vED^2/DE //m/s^2\n",
"//Calculating the radial component of the acceleration of P with respect to E\n",
"arPE=vPE^2/EP //m/s^2\n",
"//By measurement from the acceleration diagram, Fig. 8.25(c),\n",
"aP=655 //m/s^2\n",
"//Results:\n",
"printf('\n\n Velocity of P, vP = %.2f m/s.\n',vP)\n",
"printf(' Acceleration of the piston P, aP = %d m/s^2.\n\n',aP)"
   ]
   }
,
{
		   "cell_type": "markdown",
		   "metadata": {},
		   "source": [
			"## Example 8.13: To_find_velocity_and_acceleration.sce"
		   ]
		  },
  {
"cell_type": "code",
	   "execution_count": null,
	   "metadata": {
	    "collapsed": true
	   },
	   "outputs": [],
"source": [
"//To find velocity and acceleration\n",
"clc\n",
"//Given:\n",
"NBA=120 //rpm\n",
"AB=150/1000,OC=700/1000,CD=200/1000 //m\n",
"//Solution:\n",
"//Refer Fig. 8.29\n",
"//Calculating the angular speed of the crank AB\n",
"omegaAB=2*%pi*NBA/AB //rad/s\n",
"//Calculating the velocity of B with respect to A\n",
"vBA=omegaBA*AB //m/s\n",
"//By measurement from the velocity diagram, Fig. 8.29(b),\n",
"vD=2.15,vBBdash=1.05,vDC=0.45,vBdashO=1.55,vCO=2.15 //m/s\n",
"BdashO=0.52 //m\n",
"//Calculating the angular velocity of the link OC or OB'\n",
"omegaCO=vCO/OC //rad/s\n",
"omegaBdashO=omegaCO //rad/s\n",
"//Calculating the radial component of the acceleration of B with respect to A\n",
"arBA=omegaAB^2/AB //m/s^2\n",
"//Calculating the coriolis component of the acceleration of slider B with respect to the coincident point B'\n",
"acBBdash=2*omegaCO*vBBdash //m/s^2\n",
"//Calculating the radial component of the acceleration of D with respect to C\n",
"arDC=vDC^2/CD //m/s^2\n",
"//Calculating the radial component of the acceleration of B' with respect to O\n",
"arBdashO=vBdashO^2/BdashO //m/s^2\n",
"//By measurement fro the acceleration diagram, Fig. 8.29(c),\n",
"aD=8.4,atBdashO=6.4 //m/s^2\n",
"//Calculating the angular acceleration of the slotted lever\n",
"alpha=atBdashO/BdashO //The angular acceleration of the slotted lever, rad/s^2\n",
"//Results:\n",
"printf('\n\n Velocity of the ram D, vD = %.2f m/s.\n',vD)\n",
"printf(' Acceleration of the ram D, aD = %.1f m/s^2.\n',aD)\n",
"printf(' Angular acceleration of the slotted lever = %.1f rad/s^2, anticlockwise.\n\n',alpha)"
   ]
   }
,
{
		   "cell_type": "markdown",
		   "metadata": {},
		   "source": [
			"## Example 8.14: To_find_the_acceleration.sce"
		   ]
		  },
  {
"cell_type": "code",
	   "execution_count": null,
	   "metadata": {
	    "collapsed": true
	   },
	   "outputs": [],
"source": [
"//To find the acceleration\n",
"clc\n",
"//Given:\n",
"NBA=200 //rpm\n",
"AB=75/1000,PQ=375/1000,QR=500/1000 //m\n",
"//Solution:\n",
"//Refer Fig. 8.31\n",
"//Calculating the angular velocity of the crank AB\n",
"omegaBA=2*%pi*NBA/60 //rad/s\n",
"//Calculating the velocity of B with respect to A\n",
"vBA=omegaBA*AB //m/s\n",
"//By measurement from the velocity diagram, Fig. 8.31(b),\n",
"vR=1.6,vBdashB=1.06,vBdashP=1.13,vRQ=0.4,vQP=1.7 //m/s\n",
"PBdash=248/1000 //m\n",
"//Calculating the angular velocity of the link PQ\n",
"omegaPQ=vQP/PQ //rad/s\n",
"//Calculating the radial component of the acceleration of B with respect to A\n",
"arBA=omegaBA^2*AB //m/s^2\n",
"//Calculating the coriolis component of the acceleration of B with respect to coincident point B'\n",
"acBBdash=2*omegaPQ*vBdashB //m/s^2\n",
"//Calculating the radial component of the acceleration of R with respect to Q\n",
"arRQ=vRQ^2/QR //m/s^2\n",
"//Calculating the radial component of the acceleration of B' with respect to P\n",
"arBdashP=vBdashP^2/PBdash //m/s^2\n",
"//By measurement from the acceleration diagram, Fig. 8.31(d),\n",
"aR=22,aBBdash=18 //m/s^2\n",
"//Results:\n",
"printf('\n\n Velocity of the tool-box R, vR = %.1f m/s.\n',vR)\n",
"printf(' Acceleration of the tool-box R, aR = %d m/s^2.\n',aR)\n",
"printf(' The acceleration of sliding of the block B along the slotted lever PQ, aBBdash = %d m/s^2.\n\n',aBBdash)"
   ]
   }
,
{
		   "cell_type": "markdown",
		   "metadata": {},
		   "source": [
			"## Example 8.15: To_find_linear_and_angular_acceleration.sce"
		   ]
		  },
  {
"cell_type": "code",
	   "execution_count": null,
	   "metadata": {
	    "collapsed": true
	   },
	   "outputs": [],
"source": [
"//To find linear and angular acceleration\n",
"clc\n",
"//Given:\n",
"NAO=30 //rpm\n",
"OA=150/1000,OC=100/1000,CD=125/1000,DR=500/1000 //m\n",
"//Solution:\n",
"//Refer Fig. 8.33\n",
"//Calculating the angular speed of the crank OA\n",
"omegaAO=2*%pi*NAO/60 //rad/s\n",
"//Calculating the velocity of A with respect to O\n",
"vAO=omegaAO*OA //m/s\n",
"vA=vAO\n",
"//By measurement from the velocity diagram, Fig. 8.33(b),\n",
"vBC=0.46,vAB=0.15,vRD=0.12 //m/s\n",
"CB=240/1000 //m\n",
"//Calculating the angular velocity of the link BC\n",
"omegaBC=vBC/CB //rad/s\n",
"//Calculating the radial component of the acceleration of A with respect to O\n",
"arAO=vAO^2/OA //m/s^2\n",
"//Calculating the coriolis component of the acceleration of A with respect to coincident point B\n",
"acAB=2*omegaBC*vAB //m/s^2\n",
"//Calculating the radial component of the acceleration of B with respect to C\n",
"arBC=vBC^2/CB //m/s^2\n",
"//Calculating the radial component of the acceleration of R with respect to D\n",
"arRD=vRD^2/DR //m/s^2\n",
"//By measurement from the acceleration diagram, Fig. 8.33(c),\n",
"aR=0.18,atBC=0.14 //m/s^2\n",
"//Calculating the angular acceleration of the slotted lever CA\n",
"alphaCA=atBC/CB //rad/s^2\n",
"alphaBC=alphaCA\n",
"//Results:\n",
"printf('\n\n Acceleration of the sliding block R, aR = %.2f m/s^2.\n',aR)\n",
"printf(' Angular acceleration of the slotted lever CA, alphaCA = %.3f rad/s^2, anticlockwise.\n\n',alphaCA)"
   ]
   }
,
{
		   "cell_type": "markdown",
		   "metadata": {},
		   "source": [
			"## Example 8.16: To_find_linear_and_angular_acceleration.sce"
		   ]
		  },
  {
"cell_type": "code",
	   "execution_count": null,
	   "metadata": {
	    "collapsed": true
	   },
	   "outputs": [],
"source": [
"//To find linear and angular acceleration\n",
"clc\n",
"//Given:\n",
"AB=125/1000 //m\n",
"NCO=300 //rpm\n",
"//Solution:\n",
"//Refer Fig. 8.35\n",
"//By measurement from the space diagram, Fig. 8.35(a),\n",
"OC=85/1000 //m\n",
"//Calculating the angular velocity of the link CO\n",
"omegaCO=2*%pi*NCO/60 //rad/s\n",
"//Calculating the velocity of C with respect to O\n",
"vCO=omegaCO*OC //m/s\n",
"vC=vCO\n",
"//By measurement from the velocity diagram, Fig. 8.35(b),\n",
"vBC=0.85,vBA=2.85,vB=vBA //m/s\n",
"//Calculating the radial component of of the acceleration of C with respect to O\n",
"arCO=vCO^2/OC //m/s^2\n",
"//Calculating the coriolis component of of acceleration of the piston B with respect to the cylinder or the coincident point C\n",
"acBC=2*omegaCO*vBC //m/s^2\n",
"//Calculating the radial component of of the acceleration of B with respect to A\n",
"arBA=vBA^2/AB //m/s^2\n",
"//By measurement from the acceleration diagram, Fig. 8.35(d),\n",
"aBC=73.2,atBA=37.6 //m/s^2\n",
"//Calculating the angular acceleration of the connecting rod AB\n",
"alphaAB=atBA/AB //rad/s^2\n",
"//Results:\n",
"printf('\n\n Acceleration of the piston inside the cylinder, aBC = %.1f m/s^2.\n',aBC)\n",
"printf(' Angular acceleration of the connecting rod AB, alphaAB = %d rad/s^2, clockwise.\n\n',alphaAB)"
   ]
   }
,
{
		   "cell_type": "markdown",
		   "metadata": {},
		   "source": [
			"## Example 8.17: To_find_velocities_and_acceleration.sce"
		   ]
		  },
  {
"cell_type": "code",
	   "execution_count": null,
	   "metadata": {
	    "collapsed": true
	   },
	   "outputs": [],
"source": [
"//To find velocities and acceleration\n",
"clc\n",
"//Given:\n",
"NAO=100 //rpm\n",
"OA=50/1000,AB=350/1000,DE=250/1000,EF=DE,CB=125/1000 //m\n",
"//Solution:\n",
"//Refer Fig. 8.37\n",
"//Calculating the angular velocity of the crank AO\n",
"omegaAO=2*%pi*NAO/60 //rad/s\n",
"//Calculating the velocity of A with respect to O\n",
"vAO=omegaAO*OA //m/s\n",
"vA=vAO\n",
"//By measurement from the velocity diagram, Fig. 8.37(b),\n",
"vBA=0.4,vBC=0.485,vB=vBC,vSD=0.265,vQS=0.4,vED=0.73,vFE=0.6,vF=0.27 //m/s\n",
"DS=85/1000 //m\n",
"//Calculating the angular velocity of the link DE\n",
"omegaDE=vED/DE //rad/s\n",
"//Calculating the velocity of sliding of the link DE in the swivel block\n",
"vS=vQS //m/s\n",
"//Calculating the radial component of the acceleration of A with respect to O\n",
"arAO=vAO^2/OA //m/s^2\n",
"//Calculating the radial component of the acceleration of B with respect to A\n",
"arBA=vBA^2/AB //m/s^2\n",
"//Calculating the radial component of the acceleration of B with respect to C\n",
"arBC=vBC^2/CB //m/s^2\n",
"//Calculating the radial component of the acceleration of S with respect to D\n",
"arSD=vSD^2/DS //m/s^2\n",
"//Calculating the coriolis component of the acceleration of Q with respect to S\n",
"acQS=2*omegaDE*vQS //m/s^2\n",
"//Calculating the radial component of the acceleration of F with respect to E\n",
"arFE=vFE^2/EF //m/s^2\n",
"//By measurement from the acceleration diagram, Fig. 8.37(d),\n",
"arQS=1.55 //m/s^2\n",
"//Results:\n",
"printf('\n\n Velocity of the slider block F, vF = %.2f m/s.\n',vF)\n",
"printf(' Angular velocity of the link DE, omegaDE = %.2f rad/s, anticlockwise.\n',omegaDE)\n",
"printf(' Velocity of sliding of the link DE in the swivel block, vS = %.1f m/s.\n',vS)\n",
"printf(' Acceleration of sliding of the link DE in the trunnion, arQS = %.2f m/s^2.\n\n',arQS)"
   ]
   }
,
{
		   "cell_type": "markdown",
		   "metadata": {},
		   "source": [
			"## Example 8.1: To_find_linear_and_agular_velocity_and_acceleration.sce"
		   ]
		  },
  {
"cell_type": "code",
	   "execution_count": null,
	   "metadata": {
	    "collapsed": true
	   },
	   "outputs": [],
"source": [
"//To find linear and agular velocity and acceleration\n",
"clc\n",
"//Given:\n",
"NBO=300 //rpm\n",
"OB=150/1000,BA=600/1000 //m\n",
"//Solution:\n",
"//Refer Fig. 8.4\n",
"//Calculating the angular velocity of BO\n",
"omegaBO=2*%pi*NBO/60 //rad/s\n",
"//Calculating the linear velocity of B with respect to O\n",
"vBO=omegaBO*OB //m/s\n",
"vB=vBO\n",
"//By measurement from the velocity diagram, Fig. 8.4(b),\n",
"vAB=3.4,vD=4.1 //m/s\n",
"//Calculating the radial component of the acceleration of B with respect of O\n",
"arBO=vBO^2/OB //m/s^2\n",
"aB=arBO\n",
"//Calculating the radisla component of the accaleration of A with respect to B\n",
"arAB=vAB^2/BA //m/s^2\n",
"//By measurement from the acceleration diagram, Fig. 8.4(c),\n",
"aD=117,adashAB=103 //m/s^2\n",
"//Calculating the angular velocity of the connecting rod\n",
"omegaAB=vAB/BA //rad/s^2\n",
"//Calculating the angular acceleration of the connecting rod\n",
"alphaAB=adashAB/BA //rad/s^2\n",
"//Results:\n",
"printf('\n\n The linear velocity of the midpoint of the connecting rod, vD = %.1f m/s.\n',vD)\n",
"printf(' The linear acceleration of the midpoint of the connecting rod, aD = %d m/s^2.\n',aD)\n",
"printf(' The angular velocity of the connecting rod, omegaAB = %.2f rad/s, anticlockwise about B.\n',omegaAB)\n",
"printf(' The angular acceleration of the connecting rod, alphaAB = %.2f rad/s^2, clockwise about B.\n\n',alphaAB)"
   ]
   }
,
{
		   "cell_type": "markdown",
		   "metadata": {},
		   "source": [
			"## Example 8.2: To_find_linear_and_angular_velocity_and_acceleration.sce"
		   ]
		  },
  {
"cell_type": "code",
	   "execution_count": null,
	   "metadata": {
	    "collapsed": true
	   },
	   "outputs": [],
"source": [
"//To find linear and angular velocity and acceleration\n",
"clc\n",
"//Given:\n",
"omegaBC=75 //rad/s\n",
"alphaBC=1200 //rad/s^2\n",
"CB=100/1000,BA=300/1000 //m/\n",
"//Solution:\n",
"//Refer Fig. 8.5\n",
"//Calculating the linear velocity of B with respect to C\n",
"vBC=omegaBC*CB //m/s\n",
"//Calculating the tangential component of the acceleration of B with respect to C\n",
"alphatBC=alphaBC*CB //m/s^2\n",
"//By measurement from the velocity diagram, Fig. 8.6(b),\n",
"vG=6.8,vAB=4 //m/s\n",
"//Calculating the angular velocity of AB\n",
"omegaAB=vAB/BA //rad/s\n",
"//Calculating the radial component of the acceleration of B with respect to C\n",
"arBC=vBC^2/CB //m/s^2\n",
"//Calculating the radial component of the acceleration of A with respect to B\n",
"arAB=vAB^2/BA //m/s^2\n",
"//By measurement from the acceleration diagram, Fig. 8.6(c),\n",
"arBC=120,arAB=53.3,aG=414,atAB=546 //m/s^2\n",
"//Calculating the angular acceleration of AB\n",
"alphaAB=atAB/BA //rad/s^2\n",
"//Results:\n",
"printf('\n\n The velocity of G, vG = %.1f m/s.\n',vG)\n",
"printf(' The angular velocity of AB, omegaAB = %.1f rad/s, clockwise.\n',omegaAB)\n",
"printf(' The acceleration of G, aG = %d m/s^2.\n',aG)\n",
"printf(' The angular accaleration of AB, alphaAB = %d rad/s^2.\n\n',alphaAB)"
   ]
   }
,
{
		   "cell_type": "markdown",
		   "metadata": {},
		   "source": [
			"## Example 8.3: To_find_linear_and_angular_acceleration.sce"
		   ]
		  },
  {
"cell_type": "code",
	   "execution_count": null,
	   "metadata": {
	    "collapsed": true
	   },
	   "outputs": [],
"source": [
"//To find linear and angular acceleration\n",
"clc\n",
"//Given:\n",
"vC=1,vCD=vC //m/s\n",
"aC=2.5 //m/s^2\n",
"AB=3,BC=1.5 //m\n",
"//Solution:\n",
"//Refer Fig. 8.8\n",
"//By measurement from the velocity diagram, Fig. 8.8(b),\n",
"vBA=0.72,vBC=0.72 //m/s\n",
"//Calculating the radial component of acceleration of B with respect to C\n",
"arBC=vBC^2/BC //m/s^2\n",
"//Calculating the radial component of acceleration of B with respect to A\n",
"arBA=vBA^2/AB //m/s^2\n",
"//By measurement from the acceleration diagram, Fig. 8.8(c),\n",
"aCD=2.5,aC=aCD,arBC=0.346,arBA=0.173, atBA=1.41,atBC=1.94,vectorbb=1.13,vectorab=0.9 //m/s^2\n",
"//Calculating the angular accaleration of AB\n",
"alphaAB=atBA/AB //rad/s^2\n",
"//Calculating the angular acceleration of BC\n",
"alphaBC=atBC/BC //rad/s^2\n",
"//Results:\n",
"printf('\n\n The magnitude of vertical component of the acceleration of the point B is %.2f m/s^2.\n',vectorbb)\n",
"printf(' The magnitude of horizontal component of the acceleration of the point B is %.1f m/s^2.\n',vectorab)\n",
"printf(' The angular acceleration of the link AB, alphaAB = %.2f rad/s^2.\n',alphaAB)\n",
"printf(' The angular acceleration of the link BC, alphaBC = %.1f rad/s^2.\n\n',alphaBC)"
   ]
   }
,
{
		   "cell_type": "markdown",
		   "metadata": {},
		   "source": [
			"## Example 8.4: To_find_the_angular_velocity_and_acceleration.sce"
		   ]
		  },
  {
"cell_type": "code",
	   "execution_count": null,
	   "metadata": {
	    "collapsed": true
	   },
	   "outputs": [],
"source": [
"//To find the angular velocity and acceleration\n",
"clc\n",
"//Given:\n",
"omegaQP=10 //rad/s\n",
"PQ=62.5/1000,QR=175/1000,RS=112.5/1000,PS=200/1000 //m\n",
"//Solution:\n",
"//Refer Fig. 8.9\n",
"//Calculating the velocity of Q with respect to P\n",
"vQP=omegaQP*PQ //m/s\n",
"vQ=vQP\n",
"//By measurement from the velocity diagram, Fig. 8.9(b),\n",
"vRQ=0.333,vRS=0.426,vR=vRS //m/s\n",
"//Calculating the angular velocity of link QR\n",
"omegaQR=vRQ/QR //rad/s\n",
"//Calculating the angular velocity of link RS\n",
"omegaRS=vRS/RS //rad/s\n",
"//Calculating the radial component of the acceleration of Q with respect to P\n",
"arQP=vQP^2/PQ //m/s^2\n",
"aQP=arQP,aQ=aQP\n",
"//Calculating the radial component of the acceleration of R with respect to Q\n",
"arRQ=vRQ^2/QR //m/s^2\n",
"//Calculating the radial component of the acceleration of R with respect to S\n",
"arRS=vRS^2/RS //m/s^2\n",
"aRS=arRS,aR=aRS\n",
"//By measurement from the acceleration diagram, Fig. 8.9(c),\n",
"atRQ=4.1,atRS=5.3 //m/s^2\n",
"//Calculating the angular acceleration of link QR\n",
"alphaQR=atRQ/QR //rad/s^2\n",
"//Calculating the angular acceleration of link RS\n",
"alphaRS=atRS/RS //rad/s^2\n",
"//Results:\n",
"printf('\n\n The angular velocity of link QR, omegaQR = %.1f rad/s, anticlockwise.\n',omegaQR)\n",
"printf(' The angular velocity of link RS, omegaRS = %.2f rad/s, clockwise.\n',omegaRS)\n",
"printf(' The angular acceleration of link QR, alphaQR = %.2f rad/s^2, anticlockwise.\n',alphaQR)\n",
"printf(' The angular acceleration of link RS, alphaRS = %.1f rad/s^2, anticlockwise.\n\n',alphaRS)"
   ]
   }
,
{
		   "cell_type": "markdown",
		   "metadata": {},
		   "source": [
			"## Example 8.5: To_find_angular_velocities_and_accelerations.sce"
		   ]
		  },
  {
"cell_type": "code",
	   "execution_count": null,
	   "metadata": {
	    "collapsed": true
	   },
	   "outputs": [],
"source": [
"//To find angular velocities and accelerations\n",
"clc\n",
"//Given:\n",
"omegaAP1=10 //rad/s\n",
"alphaAP1=30 //rad/s^2\n",
"P1A=300/1000,P2B=360/1000,AB=P2B //m\n",
"//Solution:\n",
"//Refer Fig. 8.10\n",
"//Calculating the velocity of A with respect to P1\n",
"vAP1=omegaAP1/P1A //m/s\n",
"vA=vAP1\n",
"//By measurement from the velocity diagram, Fig. 8.11(b),\n",
"vBP2=2.2,vBA=2.05 //m/s\n",
"//Calculating the angular velocity of P2B\n",
"omegaP2B=vBP2/P2B //rad/s\n",
"//Calculating the angular velocity of AB\n",
"omegaAB=vBA/AB //rad/s\n",
"//Calculating the tangential component of the acceleration of A with respect to P1\n",
"atAP1=alphaAP1*P1A //m/s^2\n",
"//Calculating the radial component of the acceleration of A with respect to P1\n",
"arAP1=vAP1^2/P1A //m/s^2\n",
"//Calculating the radial component of the acceleration of B with respect to A\n",
"arBA=vBA^2/AB //m/s^2\n",
"//Calculating the radial component of B with respect to P2\n",
"arBP2=vBP2^2/P2B //m/s^2\n",
"//By measurement from the acceleration diagram, Fig. 8.11(c),\n",
"aBP2=29.6,aB=aBP2,atBA=13.6,atBP2=26.6 //m/s^2\n",
"//Calculating the angular acceleration of P2B\n",
"alphaP2B=atBP2/P2B //rad/s^2\n",
"//Calculating the angular acceleration of AB\n",
"alphaAB=atBA/AB //rad/s^2\n",
"//Results:\n",
"printf('\n\n The velocity of P2B, vBP2 = %.1f m/s.\n',vBP2)\n",
"printf(' The angular velocity of P2B, omegaP2B = %.1f rad/s, clockwise.\n',omegaP2B)\n",
"printf(' The angular velocity of AB, omegaAB = %.1f rad/s, anticlockwise.\n',omegaAB)\n",
"printf(' The acceleration of the joint B, aB = %.1f m/s^2.\n',aB)\n",
"printf(' The angular acceleration of P2B, alphaP2B = %.1f rad/s^2, anticlockwise.\n',alphaP2B)\n",
"printf(' The angular acceleration of AB, alphaAB = %.1f rad/s^2, anticlockwise.\n\n',alphaAB)"
   ]
   }
,
{
		   "cell_type": "markdown",
		   "metadata": {},
		   "source": [
			"## Example 8.6: To_find_velocities_and_accelerations.sce"
		   ]
		  },
  {
"cell_type": "code",
	   "execution_count": null,
	   "metadata": {
	    "collapsed": true
	   },
	   "outputs": [],
"source": [
"//To find velocities and accelerations\n",
"clc\n",
"//Given:\n",
"NAO=20 //rpm\n",
"OA=300/1000,AB=1200/1000,BC=450/1000,CD=BC //m\n",
"//Solution:\n",
"//Refer Fig. 8.13\n",
"//Calculating the angular velocity of crank AO\n",
"omegaAO=2*%pi*NAO/60 //rad/s\n",
"//Calculating the linear velocity of A with respect to O\n",
"vAO=omegaAO*OA //m/s\n",
"vA=vAO\n",
"//By measurement from the velocity diagram, Fig. 8.13(b),\n",
"vB=0.4,vD=0.24,vDC=0.37,vBA=0.54 //m/s\n",
"//Calculating the angular velocity of CD\n",
"omegaCD=vDC/CD //rad/s\n",
"//Calculating the radial component of the acceleration of A with respect to O\n",
"arAO=vAO^2/OA //m/s^2\n",
"//Calculating the radial component of the acceleration of B with respect to A\n",
"arBA=vBA^2/AB //m/s^2\n",
"//Calculating the radial component of the acceleration of D with respect to C\n",
"arDC=vDC^2/CD //m/s^2\n",
"//By measurement from the acceleration diagram, Fig. 8.13(c),\n",
"aD=0.16,atDC=1.28 //m/s^2\n",
"//Calculating the angular acceleration of CD\n",
"alphaCD=atDC/CD //rad/s^2\n",
"//Results:\n",
"printf('\n\n Velocity of sliding at B, vB = %.1f m/s.\n',vB)\n",
"printf(' Velocity of sliding at D, vD = %.2f m/s.\n',vD)\n",
"printf(' Angular velocity of CD, omegaCD = %.2f rad/s.\n',omegaCD)\n",
"printf(' Linear acceleration of D, aD = %.2f m/s^2.\n',aD)\n",
"printf(' Angular acceleration of CD, alphaCD = %.2f rad/s^2, clockwise.\n\n',alphaCD)"
   ]
   }
,
{
		   "cell_type": "markdown",
		   "metadata": {},
		   "source": [
			"## Example 8.7: To_find_linear_and_angular_acceleration.sce"
		   ]
		  },
  {
"cell_type": "code",
	   "execution_count": null,
	   "metadata": {
	    "collapsed": true
	   },
	   "outputs": [],
"source": [
"//To find linear and angular acceleration\n",
"clc\n",
"//Given:\n",
"NAO=180 //rpm\n",
"OA=150/1000,AB=450/1000,PB=240/1000,CD=660/1000 //m\n",
"//solution:\n",
"//Refer Fig. 8.15\n",
"//Calculating the angular speed of crank AO\n",
"omegaAO=2*%pi*NAO/60 //rad/s\n",
"//Calculating the velocity of A with respect to O\n",
"vAO=omegaAO*OA //m/s\n",
"vA=vAO\n",
"//By measurement from the velocity diagram, Fig. 8.15(b),\n",
"vD=2.36,vDC=1.2,vBA=1.8,vBP=1.5 //m/s\n",
"//Calculating the radial component of the acceleration of B with respect to A\n",
"arAO=vBA^2/AB //m/s^2\n",
"//Calculating the radial component of the acceleration of B with respect to A\n",
"arBA=vBA^2/AB //m/s^2\n",
"//Calculating the radial component of the acceleration of B with respect to P\n",
"arBP=vBP^2/PB //m/s^2\n",
"//Calculating the radial component of D with respect to C\n",
"arDC=vDC^2/CD //m/s^2\n",
"//By measurement from the acceleration diagram, Fig. 8.15(c),\n",
"aD=69.6,atDC=17.4 //m/s^2\n",
"//Calculating the angular acceleration of CD\n",
"alphaCD=atDC/CD //rad/s^2\n",
"//Results:\n",
"printf('\n\n Acceleration of slider D, aD = %.1f m/s^2.\n',aD)\n",
"printf(' Angular acceleration of link CD, alphaCD = %.1f rad/s^2.\n\n',alphaCD)"
   ]
   }
,
{
		   "cell_type": "markdown",
		   "metadata": {},
		   "source": [
			"## Example 8.8: To_find_linear_and_angular_velocities_and_accelerations.sce"
		   ]
		  },
  {
"cell_type": "code",
	   "execution_count": null,
	   "metadata": {
	    "collapsed": true
	   },
	   "outputs": [],
"source": [
"//To find linear and angular velocities and accelerations\n",
"clc\n",
"//Given:\n",
"NAO=180 //rpm\n",
"OA=180/1000,CB=240/1000,AB=360/1000,BD=540/1000 //m\n",
"alphaAO=50 //rad/s^2\n",
"//Solution:\n",
"//Refer Fig. 8.17\n",
"//Calculating the angular speed of crank AO\n",
"omegaAO=2*%pi*NAO/60 //rad/s\n",
"//Calculating the velcoity of A with respect to O\n",
"vAO=omegaAO*OA //m/s\n",
"vA=vAO\n",
"//By measurement from the velocity diagram, Fig. 8.17(b),\n",
"vBA=0.9,vBC=2.4,vDB=2.4,vD=2.05 //m/s\n",
"//Calculating the angular velocity of BD\n",
"omegaBD=vDB/BD //rad/s\n",
"//Calculating the tangential component of the acceleration of A with respect to O\n",
"atAO=alphaAO*OA //m/s^2\n",
"//Calculating the radial component of the acceleration of A with respect to O\n",
"arAO=vAO^2/OA //m/s^2\n",
"//Calculating the radial component of the acceleration of B with respect to A\n",
"arBA=vBA^2/AB //m/s^2\n",
"//Calculating the radial component of the acceleration of B with respect to C\n",
"arBC=vBC^2/AB //m/s^2\n",
"//Calculating the radial component of the acceleration of D with respect to B\n",
"arDB=vDB^2/BD //m/s^2\n",
"//By measurement from the acceleration diagram, Fig. 8.17(c),\n",
"aD=13.3,atDB=38.5 //m/s^2\n",
"//Calculating the angular acceleration of BD\n",
"alphaBD=atDB/BD //rad/s^2\n",
"//Results:\n",
"printf('\n\n Velocity of slider D, vD = %.2f m/s.\n',vD)\n",
"printf(' Angular velocity of BD, omegaBD = %.1f rad/s.\n',omegaBD)\n",
"printf(' Acceleration of slider D, aD = %.1f m/s^2.\n',aD)\n",
"printf(' Angular acceleration of BD, alphaBD = %.1f rad/s^2, clockwise.\n\n',alphaBD)"
   ]
   }
,
{
		   "cell_type": "markdown",
		   "metadata": {},
		   "source": [
			"## Example 8.9: To_find_velocity_and_accelerations.sce"
		   ]
		  },
  {
"cell_type": "code",
	   "execution_count": null,
	   "metadata": {
	    "collapsed": true
	   },
	   "outputs": [],
"source": [
"//To find velocity and accelerations\n",
"clc\n",
"//Given:\n",
"omegaAO1=100 //rad/s\n",
"O1A=100/1000,AC=700/1000,BC=200/1000,BD=150/1000,O2D=200/1000,O2E=400/1000,O3C=200/1000 //m\n",
"//Solution:\n",
"//Refer Fig. 8.19\n",
"//Calculating the linear velocity of A with respect to O1\n",
"vAO1=omegaAO1/O1A //m/s\n",
"vA=vAO1\n",
"//By measurement from the velocity diagram, Fig. 8.19(b),\n",
"vCA=7,vCO3=10,vC=vCO3,vDB=10.2,vDO2=2.8,vD=vDO2,vE=5.8,vEO2=vE //m/s\n",
"//Calculating the radial component of the acceleration of A with respect to O1\n",
"arAO1=vAO1^2/O1A //m/s^2\n",
"aAO1=arAO1,aA=aAO1\n",
"//Calculating the radial component of the acceleration of C with respect to A\n",
"arCA=vCA^2/AC //m/s^2\n",
"//Calculating the radial component of the acceleration of C with respect to O3\n",
"arCO3=vCO3^2/O3C //m/s^2\n",
"//Calculating the radial component of the acceleration of D with respect to B\n",
"arDB=vDB^2/BD //m/s^2\n",
"//Calculating the radial component of the acceleration of D with respect to O2\n",
"arDO2=vDO2^2/O2D //m/s^2\n",
"//Calculating the radial component of the acceleration of E with respect to O2\n",
"arEO2=vEO2^2/O2E //m/s^2\n",
"//By measurement from the acceleration diagram, Fig. 8.19(c),\n",
"aE=1200,atDO2=610 //m/s^2\n",
"aEO2=aE\n",
"aB=440 //Acceleration of point B, m/s^2\n",
"//Calculating the angular acceleration of the bell crank lever\n",
"alpha=atDO2/O2D //The angular acceleration of the bell crank lever, rad/s^2\n",
"//Results:\n",
"printf('\n\n Velocity of the point E on the bell crank lever, vE = %.1f m/s.\n',vE)\n",
"printf(' Acceleration of point B = %d m/s^2.\n',aB)\n",
"printf(' Acceleration of point E, aE = %d m/s^2.\n',aE)\n",
"printf(' Angular acceleration of the bell crank lever = %d rad/s^2, anticlockwise.\n\n',alpha)"
   ]
   }
],
"metadata": {
		  "kernelspec": {
		   "display_name": "Scilab",
		   "language": "scilab",
		   "name": "scilab"
		  },
		  "language_info": {
		   "file_extension": ".sce",
		   "help_links": [
			{
			 "text": "MetaKernel Magics",
			 "url": "https://github.com/calysto/metakernel/blob/master/metakernel/magics/README.md"
			}
		   ],
		   "mimetype": "text/x-octave",
		   "name": "scilab",
		   "version": "0.7.1"
		  }
		 },
		 "nbformat": 4,
		 "nbformat_minor": 0
}
