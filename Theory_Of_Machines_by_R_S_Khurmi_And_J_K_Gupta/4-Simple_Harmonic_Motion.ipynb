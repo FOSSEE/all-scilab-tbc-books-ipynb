{
"cells": [
 {
		   "cell_type": "markdown",
	   "metadata": {},
	   "source": [
       "# Chapter 4: Simple Harmonic Motion"
	   ]
	},
{
		   "cell_type": "markdown",
		   "metadata": {},
		   "source": [
			"## Example 4.10: To_Find_the_Radius_of_Gyration.sce"
		   ]
		  },
  {
"cell_type": "code",
	   "execution_count": null,
	   "metadata": {
	    "collapsed": true
	   },
	   "outputs": [],
"source": [
"//To Find the Radius of Gyration\n",
"clc\n",
"//Given:\n",
"l=2.5,r=250*10^-3 //m\n",
"//Solution:\n",
"//Calculating the Frequency of Oscillation\n",
"n=50/170 //Hz\n",
"//Calculating the Radius of Gyration of the Wheel\n",
"kG=r/(2*%pi*n)*sqrt(9.81/l) //m\n",
"//Results:\n",
"printf('\n\n The Radius of Gyration, kG = %d mm.\n\n',kG*10^3)"
   ]
   }
,
{
		   "cell_type": "markdown",
		   "metadata": {},
		   "source": [
			"## Example 4.11: To_Find_the_Mass_Moment_of_Inertia.sce"
		   ]
		  },
  {
"cell_type": "code",
	   "execution_count": null,
	   "metadata": {
	    "collapsed": true
	   },
	   "outputs": [],
"source": [
"//To Find the Mass Moment of Inertia\n",
"clc\n",
"//Given:\n",
"m1=5.5,m2=1.5 //kg\n",
"l=1.25,r=125*10^-3 //m\n",
"//Solution:\n",
"//Calculating the Frequency of Oscillation\n",
"n=10/30 //Hz\n",
"//Calculating the Radius of Gyration About an Axis Through the c.g.\n",
"kG=r/(2*%pi*n)*sqrt(9.81/l) //m\n",
"//Calculating the Mass Moment of Inertia About an Axis Through its c.g.\n",
"m=m1+m2 //Total Mass, kg\n",
"I=m*kG^2 //kg-m^2\n",
"//Results:\n",
"printf('\n\n The Mass Moment of Inertia About an Axis Through its c.g., I = %.3f kg-m^2.\n\n',I)"
   ]
   }
,
{
		   "cell_type": "markdown",
		   "metadata": {},
		   "source": [
			"## Example 4.1: To_Find_the_Velocity_and_Acceleration.sce"
		   ]
		  },
  {
"cell_type": "code",
	   "execution_count": null,
	   "metadata": {
	    "collapsed": true
	   },
	   "outputs": [],
"source": [
"//To Find the Velocity and Acceleration\n",
"clc\n",
"//Given:\n",
"N=120 //rpm\n",
"r=1,x=0.75 //m\n",
"//Solution:\n",
"//Calculating Angular Velocity\n",
"omega=2*%pi*N/60 //rad/s\n",
"//Calculating Velocity of the Piston\n",
"v=omega*sqrt(r^2-x^2) //m/s\n",
"//Calculating Acceleration of the Piston\n",
"a=omega^2*x\n",
"//Results:\n",
"printf('\n\n The Velocity of the Piston, v = %.2f m/s.\n',v)\n",
"printf(' The Acceleration of the Piston, a = %.2f m/s^2.\n\n',a)"
   ]
   }
,
{
		   "cell_type": "markdown",
		   "metadata": {},
		   "source": [
			"## Example 4.2: To_Find_the_Angular_Velocity_Time_and_Acceleration.sce"
		   ]
		  },
  {
"cell_type": "code",
	   "execution_count": null,
	   "metadata": {
	    "collapsed": true
	   },
	   "outputs": [],
"source": [
"//To Find the Angular Velocity, Time and Acceleration\n",
"clc\n",
"//Given:\n",
"x1=.75,x2=2 //m\n",
"v1=11,v2=3 //m/s\n",
"//Solution:\n",
"//We have, 11=omega*sqrt(r^2-.75^2) and 3=omega*sqrt(r^2-2^2).\n",
"//These upon solving yield r^2-(121/omega^2)-0.5625=0 and r^2-(9/omega^2)-4=0.\n",
"//Take r^2=x and (1/omega^2)=y and the equation become x-121y=0.5625 and x-9y=4.\n",
"//Variables Matrix\n",
"A=[1 -121; 1 -9]\n",
"//Constants Matrix\n",
"B=[.5625; 4]\n",
"V=A \ B\n",
"//Calculating Amplitude of the Particle\n",
"r=sqrt(V(1)) //m\n",
"//Calculating Angular Velocity of the Particle\n",
"omega=sqrt(1/V(2)) //rad/s\n",
"//Calculating Periodic Time\n",
"tp=2*%pi/omega //seconds\n",
"//Calculating Maximum Acceleration\n",
"amax=omega^2*r //m/s^2\n",
"//Results:\n",
"printf('\n\n The Angular Velocity, omega = %.1f rad/s.\n',omega)\n",
"printf(' The Periodic Time, tp = %.1f s.\n',tp)\n",
"printf(' The Maximum Acceleration, amax = %.2f m/s^2.\n\n',amax)"
   ]
   }
,
{
		   "cell_type": "markdown",
		   "metadata": {},
		   "source": [
			"## Example 4.3: To_Find_the_Frequency_and_Velocity.sce"
		   ]
		  },
  {
"cell_type": "code",
	   "execution_count": null,
	   "metadata": {
	    "collapsed": true
	   },
	   "outputs": [],
"source": [
"//To Find the Frequency and Velocity\n",
"clc\n",
"//Given:\n",
"m=60 //kg\n",
"r=0.0125,x=0.005 //m\n",
"//Solution:\n",
"//Calculating the Extension of the Spring\n",
"delta=(.25/1.5)*60*10^-3 //m\n",
"//Calculating the Frequency of the System\n",
"n=1/(2*%pi)*sqrt(9.81/delta) //Hz\n",
"//Calculating the Angular Velocity of the Mass\n",
"omega=sqrt(9.81/delta) //rad/s\n",
"//Calculating the Linear Velocity of the Mass\n",
"v=omega*sqrt(r^2-x^2)\n",
"//Results:\n",
"printf('\n\n The Frequency of Natural Vibration, n = %.2f Hz.\n',n)\n",
"printf(' The Velocity of the Mass, v = %.2f m/s.\n\n',v)"
   ]
   }
,
{
		   "cell_type": "markdown",
		   "metadata": {},
		   "source": [
			"## Example 4.4: To_Find_the_Frequency_of_Oscillation.sce"
		   ]
		  },
  {
"cell_type": "code",
	   "execution_count": null,
	   "metadata": {
	    "collapsed": true
	   },
	   "outputs": [],
"source": [
"//To Find the Frequency of Oscillation\n",
"clc\n",
"//Given:\n",
"m=1,m1=2.5 //kg\n",
"s=1.8*10^3 //N/m\n",
"l=(300+300)*10^-3 //m\n",
"//Solution:\n",
"//Calculating the Mass Moment of Inertia of the System\n",
"IA=(m*l^2/3)+(m1*l^2) //kg-m^2\n",
"//Calculating the Ratio of Alpha to Theta\n",
"//delta=0.3*theta\n",
"//Restoring Force=s*delta=540*theta\n",
"//Restoring torque about A=540*theta*0.3=162*theta N-m ...(i)\n",
"//Torque about A= IA*alpha=1.02*alpha N-m              ...(ii)\n",
"//Equating (i) and (ii), 1.02*alpha=162*theta\n",
"alphabytheta=162/1.02\n",
"//Calculating the Frequency of Oscillation\n",
"n=1/(2*%pi)*sqrt(alphabytheta)\n",
"//Results:\n",
"printf('\n\n The Frequency of Oscillation, n = %.2f Hz.\n\n',n)"
   ]
   }
,
{
		   "cell_type": "markdown",
		   "metadata": {},
		   "source": [
			"## Example 4.5: To_Find_the_Moment_of_Inertia.sce"
		   ]
		  },
  {
"cell_type": "code",
	   "execution_count": null,
	   "metadata": {
	    "collapsed": true
	   },
	   "outputs": [],
"source": [
"//To Find the Moment of Inertia\n",
"clc\n",
"//Given:\n",
"m=85 //kg\n",
"h=0.1 //m\n",
"//Solution:\n",
"//Calculating the Frequency of Oscillation\n",
"n=100/145 //Hz\n",
"//Calculating the Equivalent Length of Simple Pendulum\n",
"L=(1/(2*%pi)/.69*sqrt(9.81))^2\n",
"//Calculating the Radius of Gyration\n",
"kG=sqrt((L-h)*h)\n",
"//Calculating the Moment of Inertia of the Flywheel through the Centre of Gravity\n",
"I=m*kG^2 //kg-m^2\n",
"//Results:\n",
"printf('\n\n The Moment of Inertia of the Flywheel Through its c.g., I = %.1f kg-m^2.\n\n',I)"
   ]
   }
,
{
		   "cell_type": "markdown",
		   "metadata": {},
		   "source": [
			"## Example 4.6: To_Find_the_Moment_of_Inertia.sce"
		   ]
		  },
  {
"cell_type": "code",
	   "execution_count": null,
	   "metadata": {
	    "collapsed": true
	   },
	   "outputs": [],
"source": [
"//To Find the Moment of Inertia\n",
"clc\n",
"//Given:\n",
"m=60 //kg\n",
"d1=75,d2=102 //mm\n",
"//Solution:\n",
"//Calculating the Frequencies of Oscillation\n",
"n1=100/190,n2=100/165 //Hz\n",
"//Calculating the Equivalent Lengths of Simple Pendulum\n",
"L1=9.81/(2*%pi*n1)^2 //m\n",
"L2=9.81/(2*%pi*n2)^2 //m\n",
"//Calculating Distance of c.g. from the Small and Big End Centres (h1 and h2), and the Radius of Gyration\n",
"function y=f(x)\n",
"    h1=x(1)\n",
"    h2=x(2)\n",
"    kG=x(3)\n",
"    y(1)=L1*h1-h1^2-kG^2\n",
"    y(2)=L2*h2-h2^2-kG^2\n",
"    y(3)=h1+h2-1\n",
"endfunction\n",
"z=fsolve([1,1,1],f)\n",
"h1=z(1),h2=z(2),kG=z(3)\n",
"//Calculating the Mass Moment of Inertia of the Rod\n",
"I=m*kG^2 //kg-m^2\n",
"//Results:\n",
"printf('\n\n The Moment of Inertia of the Rod, I = %d kg-m^2.\n',I)\n",
"printf(' The C.G is at a Distance of h1 = %.3f m from the Small End Centre.\n\n',h1)"
   ]
   }
,
{
		   "cell_type": "markdown",
		   "metadata": {},
		   "source": [
			"## Example 4.7: To_Find_the_Time_of_Swing.sce"
		   ]
		  },
  {
"cell_type": "code",
	   "execution_count": null,
	   "metadata": {
	    "collapsed": true
	   },
	   "outputs": [],
"source": [
"//To Find the Time of Swing\n",
"clc\n",
"//Given:\n",
"l=1.2 //m\n",
"theta=3*%pi/180 //rad\n",
"//Solution:\n",
"//Calculating the Distance Between the Knife Edge and C.G. of the Rod\n",
"h=1.2/2-.05 //m\n",
"//Calculating the Radius of Gyration of the Rod About C.G.\n",
"kG=l/sqrt(12) //m\n",
"//Calculating the Time of Swing of the Rod\n",
"tp=2*%pi*sqrt((kG^2+h^2)/(9.81*h)) //seconds\n",
"//Calculating the Minimum Time of Swing\n",
"tpmin=2*%pi*sqrt((2*kG)/9.81) //seconds\n",
"//Calculating Angular Velocity\n",
"omega=2*%pi/tp //rad/s\n",
"//Calculating Maximum Angular Velocity\n",
"omegamax=omega*theta //rad/s\n",
"//Calculating Maximum Angular Acceleration\n",
"alphamax=omega^2*theta //rad/s^2\n",
"//Results:\n",
"printf('\n\n The Time of Swing of the Rod, tp = %.2f seconds.\n',tp)\n",
"printf(' The Minimum Time of Swing, tp(min) = %.2f seconds.\n',tpmin)\n",
"printf(' The Maximum Angular Velocity, omega(max) = %.4f rad/s.\n',omegamax)\n",
"printf(' The Maximum Angular Acceleration, alpha(max) = %.3f rad/s^2.\n\n', alphamax)"
   ]
   }
,
{
		   "cell_type": "markdown",
		   "metadata": {},
		   "source": [
			"## Example 4.8: To_Find_Centre_of_Percussion_and_Impulse.sce"
		   ]
		  },
  {
"cell_type": "code",
	   "execution_count": null,
	   "metadata": {
	    "collapsed": true
	   },
	   "outputs": [],
"source": [
"//To Find Centre of Percussion and Impulse\n",
"clc\n",
"//Given:\n",
"m=30 //kg\n",
"OG=1.05,h=OG,AG=0.15 //m\n",
"//Solution:\n",
"//Calculating the Frequency of Oscillation\n",
"n=20/43.5 //Hz\n",
"//Calculating the Equivalent Length of Simple Pendulum\n",
"L=9.81/(2*%pi*n)^2 //m\n",
"//Calculating the Distance of Centre of Percussion (C) from the Centre of Gravity (G)\n",
"CG=L-OG //m\n",
"//Calculating the Distance of Centre of Percussion (C) from the Knife Edge A\n",
"AC=AG-CG //m\n",
"//Calculating the Radius of Gyration of the Pendulum About O\n",
"kO=sqrt(L*h) //m\n",
"h1=h*(1-cos(60*%pi/180)) //m\n",
"//Calculating the Angular Velocity of the Pendulum\n",
"omega=sqrt(2*m*9.81*h1/(m*kO^2)) //rad/s\n",
"OA=OG+AG\n",
"//Calculating the Velocity of Striking\n",
"v=omega*(OA) //Velocity of Striking\n",
"//Calculating the Angular Velocity of the Pendulum Immediately After Impact\n",
"I=m*kO^2\n",
"LKE=55 //Loss of Kinetic Energy, N-m\n",
"omega1=sqrt(omega^2-LKE*2/I)\n",
"//Calculating the Impulses at Knife Edge A and at Pivot O (P and Q)\n",
"CLM=m*h*(omega-omega1) //Change of Linear Momentum\n",
"CAM=m*(kO^2-h^2)*(omega-omega1) //Change of Angular Momentum\n",
"//P+Q=Change of Linear Momentum and, 0.15P-1.05Q=Change of Angular Momentum.\n",
"//i.e., P+Q=CLM and 0.15P-1.05Q=CAM\n",
"//Variables Matrix\n",
"A=[1 1; 0.15 -1.05]\n",
"B=[CLM; CAM]\n",
"V=A \ B\n",
"P=V(1)\n",
"Q=V(2)\n",
"//Calculating the Change in Axis Reaction When the Pendulum is Vertical\n",
"CAR=m*(omega^2-omega1^2)*h //Change in Axis Reaction, N\n",
"//Results:\n",
"printf('\n\n The Distance of Centre of Percussion, AC = %.3f m.\n',AC)\n",
"printf(' The Velocity of Striking = %.2f m/s.\n',v)\n",
"printf(' The Impulse at the Knife Edge, P = %.1f N-s.\n',P)\n",
"printf(' The Impulse at the Pivot, Q = %.2f N-s.\n',Q)\n",
"printf(' The Change in Axis Reaction When the Pendulum is Vertical = %d N.\n\n',CAR)"
   ]
   }
,
{
		   "cell_type": "markdown",
		   "metadata": {},
		   "source": [
			"## Example 4.9: To_Find_the_Radius_of_Gyration.sce"
		   ]
		  },
  {
"cell_type": "code",
	   "execution_count": null,
	   "metadata": {
	    "collapsed": true
	   },
	   "outputs": [],
"source": [
"//To Find the Radius of Gyration\n",
"clc\n",
"//Given:\n",
"m=1.5 //kg\n",
"l=1.25,x=120*10^-3,y=x //m\n",
"//Solution:\n",
"//Calculating the Frequency of Oscillation\n",
"n=20/40 //Hz\n",
"//Calculating the Radius of Gyration of the Connecting Rod\n",
"kG=1/(2*%pi*n)*sqrt(9.81*x*y/l) //m\n",
"//Calculating the Moment of Inertia of the Connecting Rod\n",
"I=m*kG^2 //kg-m^2\n",
"//Results:\n",
"printf('\n\n The Radius of Gyration, kG = %d mm.\n',kG*1000)\n",
"printf(' The Mass Moment of Inertia, I = %.3f kg-m^2.\n\n',I)"
   ]
   }
],
"metadata": {
		  "kernelspec": {
		   "display_name": "Scilab",
		   "language": "scilab",
		   "name": "scilab"
		  },
		  "language_info": {
		   "file_extension": ".sce",
		   "help_links": [
			{
			 "text": "MetaKernel Magics",
			 "url": "https://github.com/calysto/metakernel/blob/master/metakernel/magics/README.md"
			}
		   ],
		   "mimetype": "text/x-octave",
		   "name": "scilab",
		   "version": "0.7.1"
		  }
		 },
		 "nbformat": 4,
		 "nbformat_minor": 0
}
