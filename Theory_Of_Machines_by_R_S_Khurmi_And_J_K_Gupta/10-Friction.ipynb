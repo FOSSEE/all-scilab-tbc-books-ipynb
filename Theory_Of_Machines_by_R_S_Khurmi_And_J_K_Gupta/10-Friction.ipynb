{
"cells": [
 {
		   "cell_type": "markdown",
	   "metadata": {},
	   "source": [
       "# Chapter 10: Friction"
	   ]
	},
{
		   "cell_type": "markdown",
		   "metadata": {},
		   "source": [
			"## Example 10.10: To_find_ratio_of_torques_and_efficiency.sce"
		   ]
		  },
  {
"cell_type": "code",
	   "execution_count": null,
	   "metadata": {
	    "collapsed": true
	   },
	   "outputs": [],
"source": [
"//To find ratio of torques and efficiency\n",
"clc\n",
"//Given:\n",
"d=50,p=12.5 //mm\n",
"mu=0.13\n",
"W=25*1000 //N\n",
"//Solution:\n",
"//Calculating the helix angle\n",
"alpha=atan(p/(%pi*d)) //radians\n",
"//Calculating the force required on the screw to raise the load\n",
"phi=atan(mu) //Limiting angle of friction, radians\n",
"P1=W*(alpha+phi) //N\n",
"//Calculating the torque required on the screw to raise the load\n",
"T1=P1*d/2 //N-mm\n",
"//Calculating the force required on the screw to lower the load\n",
"P2=W*tan(phi-alpha) //N\n",
"//Calculating the torque required to lower the load\n",
"T2=P2*d/2 //N\n",
"//Calculating the ratio of the torques required\n",
"r=T1/T2 //Ratio of the torques required, N-mm\n",
"//Calculating the efficiency of the machine\n",
"eta=tan(alpha)/tan(alpha+phi)*100 //%\n",
"//Results:\n",
"printf('\n\n Torque required on the screw to raise the load, T1 = %d N-mm.\n',T1)\n",
"printf(' Ratio of the torque required to raise the load to the torque required to lower the load = %.1f.\n',r)\n",
"printf(' Efficiency of the machine, eta = %.1f %c.\n\n',eta,'%')"
   ]
   }
,
{
		   "cell_type": "markdown",
		   "metadata": {},
		   "source": [
			"## Example 10.11: To_find_work_done_and_efficiency.sce"
		   ]
		  },
  {
"cell_type": "code",
	   "execution_count": null,
	   "metadata": {
	    "collapsed": true
	   },
	   "outputs": [],
"source": [
"//To find work done and efficiency\n",
"clc\n",
"//Given:\n",
"p=10,d=50,D2=60,R2=D2/2,D1=10,R1=D1/2 //mm\n",
"W=20*1000 //N\n",
"mu=0.08,mu1=mu\n",
"//Solution:\n",
"//Calculating the helix angle\n",
"alpha=atan(p/(%pi*d)) //radians\n",
"//Calculating the force required at the circumference of the screw to lift the load\n",
"phi=atan(mu) //Limiting angle of friction, radians\n",
"P=W*tan(alpha+phi) //N\n",
"//Calculating the torque required to overcome friction at the screw\n",
"T=P*d/(2*1000) //N-m\n",
"//Calculating the number of rotations made by the screw\n",
"N=170/p\n",
"//When the load rotates with the screw:\n",
"//Calculating the work done in lifting the load\n",
"W1=T*2*%pi*N //Work done in lifting the load, N-m\n",
"//Calculating the efficiency of the screw jack\n",
"eta1=tan(alpha)/tan(alpha+phi)*100 //%\n",
"//When the load does not rotate with the screw:\n",
"//Calculating the mean radius of the bearing surface\n",
"R=(R1+R2)/2 //mm\n",
"//Calculating the torque required to overcome friction at the screw and the collar\n",
"T=(P*d/2+mu1*W*R)/1000 //N-m\n",
"//Calculating the work done by the torque in lifting the load\n",
"W2=T*2*%pi*N //Work done by the torque in lifting the load, N-m\n",
"//Calculating the torque required to lift the load, neglecting frition\n",
"T0=(W*tan(alpha)*d/2)/1000 //N-m\n",
"//Calculating the efficiency of the screw jack\n",
"eta2=T0/T*100 //%\n",
"//Results:\n",
"printf('\n\n When the load rotates with the screw, work done in lifting the load = %d N-m.\n',W1)\n",
"printf(' Efficiency of the screw jack, eta = %.1f %c.\n',eta1,'%')\n",
"printf(' When the load does not rotate with the screw, work done in lifting the load = %d N-m.\n',W2)\n",
"printf(' Efficiency of the screw jack, eta = %.1f %c.\n\n',eta2,'%')"
   ]
   }
,
{
		   "cell_type": "markdown",
		   "metadata": {},
		   "source": [
			"## Example 10.12: To_find_length_of_lever.sce"
		   ]
		  },
  {
"cell_type": "code",
	   "execution_count": null,
	   "metadata": {
	    "collapsed": true
	   },
	   "outputs": [],
"source": [
"//To find length of lever\n",
"clc\n",
"//Given:\n",
"W=10*1000,P1=100 //N\n",
"p=12,d=50 //mm\n",
"mu=0.15\n",
"//Solution:\n",
"//Calculating the helix angle\n",
"alpha=atan(p/(%pi*d)) //radians\n",
"//Calculating the effort required at the circumference of the screw to raise the load\n",
"phi=atan(mu) //Limiting angle of friction, radians\n",
"P=W*tan(alpha+phi) //N\n",
"//Calculating the torque required to overcome friction\n",
"T=P*d/2 //N-mm\n",
"//Calculating the length of the lever\n",
"l=T/P1 //mm\n",
"//Calculating the mechanical advantage\n",
"MA=W/P1\n",
"//Calculating the efficiency of the screw jack\n",
"eta=tan(alpha)/tan(alpha+phi)*100 //%\n",
"//Results:\n",
"printf('\n\n The length of the lever to be used, l = %.1f mm.\n',l)\n",
"printf(' Mechanical advantage obtained, M.A. = %d.\n',MA)\n",
"if eta<50 then\n",
"    printf(' The screw is a self locking screw.\n\n');\n",
"else\n",
"    printf(' The screw is not a self locking screw.');\n",
"end"
   ]
   }
,
{
		   "cell_type": "markdown",
		   "metadata": {},
		   "source": [
			"## Example 10.13: To_find_the_torque_required.sce"
		   ]
		  },
  {
"cell_type": "code",
	   "execution_count": null,
	   "metadata": {
	    "collapsed": true
	   },
	   "outputs": [],
"source": [
"//To find the torque required\n",
"clc\n",
"//Given:\n",
"d=22,p=3 //mm\n",
"funcprot(0)\n",
"beta=60/2 //degrees\n",
"W=40*1000 //N\n",
"mu=0.15\n",
"//Solution:\n",
"//Calculating the helix angle\n",
"alpha=atan(p/(%pi*d)) //radians\n",
"//Calculating the virtual coefficient of friction\n",
"mu1=mu/cosd(beta)\n",
"//Calculating the force required at the circumference of the screw\n",
"phi1=atan(mu1) //Virtual limiting angle of friction, radians\n",
"P=W*tan(alpha+phi1)\n",
"//Calculating the torque on one rod\n",
"T=P*d/(2*1000) //N-m\n",
"//Calculating the torque required on the nut\n",
"T1=2*T //N-m\n",
"//Results:\n",
"printf('\n\n The torque required on the nut, T1 = %.2f N-m.\n\n',T1)"
   ]
   }
,
{
		   "cell_type": "markdown",
		   "metadata": {},
		   "source": [
			"## Example 10.14: To_find_the_forcr.sce"
		   ]
		  },
  {
"cell_type": "code",
	   "execution_count": null,
	   "metadata": {
	    "collapsed": true
	   },
	   "outputs": [],
"source": [
"//To find the forcr\n",
"clc\n",
"//Given:\n",
"d=25,p=5,R=25 //mm\n",
"funcprot(0)\n",
"beta=27.5 //degrees\n",
"mu=0.1,mu2=0.16\n",
"l=0.5 //m\n",
"W=10*1000 //N\n",
"//Solution:\n",
"//Calculating the virtual coefficient of friction\n",
"mu1=mu/cosd(beta)\n",
"//Calculating the helix angle\n",
"alpha=atan(p/(%pi*d)) //radians\n",
"//Calculating the force on the screw\n",
"phi1=atan(mu1) //Virtual limiting angle of frcition, radians\n",
"P=W*tan(alpha+phi1) //N\n",
"//Calculating the total torque transmitted\n",
"T=(P*d/2+mu2*W*R)/1000 //N-m\n",
"//Calculating the force required at the end of a spanner\n",
"P1=T/l //N\n",
"//Results:\n",
"printf('\n\n Force required at the end of a spanner, P1 = %.1f N.\n\n',P1)"
   ]
   }
,
{
		   "cell_type": "markdown",
		   "metadata": {},
		   "source": [
			"## Example 10.15: To_find_power_transmitted.sce"
		   ]
		  },
  {
"cell_type": "code",
	   "execution_count": null,
	   "metadata": {
	    "collapsed": true
	   },
	   "outputs": [],
"source": [
"//To find power transmitted\n",
"clc\n",
"//Given:\n",
"d=60,r=d/2 //mm\n",
"W=2000 //N\n",
"mu=0.03\n",
"N=1440 //rpm\n",
"//Solution:\n",
"//Calculating the angular speed of the shaft\n",
"omega=2*%pi*N/60 //rad/s\n",
"//Calculating the torque transmitted\n",
"T=mu*W*(r/1000) //N-m\n",
"//Calculating the power transmitted\n",
"P=T*omega //W\n",
"//Results:\n",
"printf('\n\n The power transmitted, P = %.1f W.\n\n',P)"
   ]
   }
,
{
		   "cell_type": "markdown",
		   "metadata": {},
		   "source": [
			"## Example 10.16: To_estimate_power_lost_in_friction.sce"
		   ]
		  },
  {
"cell_type": "code",
	   "execution_count": null,
	   "metadata": {
	    "collapsed": true
	   },
	   "outputs": [],
"source": [
"//To estimate power lost in friction\n",
"clc\n",
"//Given:\n",
"D=150/1000,R=D/2 //m\n",
"N=100 //rpm\n",
"W=20*1000 //N\n",
"mu=0.05\n",
"//Solution:\n",
"//Calculating the angular speed of the shaft\n",
"omega=2*%pi*N/60 //rad/s\n",
"//Calculating the total frictional torque for uniform pressure distribution\n",
"T=2/3*mu*W*R //N-m\n",
"//Calculating the power lost in friction\n",
"P=T*omega //W\n",
"//Results:\n",
"printf('\n\n Power lost in friction, P = %.1f W.\n\n',P)"
   ]
   }
,
{
		   "cell_type": "markdown",
		   "metadata": {},
		   "source": [
			"## Example 10.17: To_find_power_absorbed_in_friction.sce"
		   ]
		  },
  {
"cell_type": "code",
	   "execution_count": null,
	   "metadata": {
	    "collapsed": true
	   },
	   "outputs": [],
"source": [
"//To find power absorbed in friction\n",
"clc\n",
"//Given:\n",
"W=20*1000 //N\n",
"alpha=120/2 //degrees\n",
"Pn=0.3 //N/mm^2\n",
"N=200 //rpm\n",
"mu=0.1\n",
"//Solution:\n",
"//Calculating the angular speed of the shaft\n",
"omega=2*%pi*N/60 //rad/s\n",
"//Calculating the inner radius of the bearing surface\n",
"r2=sqrt(W/(3*%pi*Pn)) //mm\n",
"//Calculating the outer radius of the bearing surface\n",
"r1=2*r2 //mm\n",
"//Calculating the total frictional torque assuming uniform pressure\n",
"T=2/3*mu*W*(1/sind(alpha))*(r1^3-r2^3)/(r1^2-r2^2)/1000 //N-m\n",
"//Calculating the power absorbed in friction\n",
"P=T*omega/1000 //kW\n",
"//Results:\n",
"printf('\n\n Power absorbed in friction, P = %.3f kW.\n\n',P)"
   ]
   }
,
{
		   "cell_type": "markdown",
		   "metadata": {},
		   "source": [
			"## Example 10.18: To_find_power_lost_in_friction.sce"
		   ]
		  },
  {
"cell_type": "code",
	   "execution_count": null,
	   "metadata": {
	    "collapsed": true
	   },
	   "outputs": [],
"source": [
"//To find power lost in friction\n",
"clc\n",
"//Given:\n",
"D=200/1000,R=D/2 //m\n",
"W=30*1000 //N\n",
"alpha=120/2 //degrees\n",
"mu=0.025\n",
"N=140 //rpm\n",
"//Solution:\n",
"//Calculating the angular speed of the shaft\n",
"omega=2*%pi*N/60 //rad/s\n",
"//Power lost in friction assuming uniform pressure:\n",
"//Calculating the total frictional torque\n",
"T=2/3*mu*W*R*(1/sind(alpha)) //N-m\n",
"//Calculating the power lost in friction\n",
"P1=T*omega //Power lost in friction, W\n",
"//Power lost in friction assuming uniform wear:\n",
"//Calculating the total frictional torque\n",
"T=1/2*mu*W*R*(1/sind(alpha)) //N-m\n",
"//Calculating the power lost in friction\n",
"P2=T*omega //Power lost in friction, W\n",
"//Resluts:\n",
"printf('\n\n Power lost in friction assuming uniform pressure, P = %d W.\n',P1)\n",
"printf(' Power lost in friction assuming uniform wear, P = %.1f W.\n\n',P2)"
   ]
   }
,
{
		   "cell_type": "markdown",
		   "metadata": {},
		   "source": [
			"## Example 10.19: To_find_power_absorbed_in_friction.sce"
		   ]
		  },
  {
"cell_type": "code",
	   "execution_count": null,
	   "metadata": {
	    "collapsed": true
	   },
	   "outputs": [],
"source": [
"//To find power absorbed in friction\n",
"clc\n",
"//Given:\n",
"n=6\n",
"d1=600,r1=d1/2,d2=300,r2=d2/2 //mm\n",
"W=100*1000 //N\n",
"mu=0.12\n",
"N=90 //rpm\n",
"//Solution:\n",
"//Calculating the angular speed of the engine\n",
"omega=2*%pi*N/60 //rad/s\n",
"//Power absorbed in friction assuming uniform pressure:\n",
"//Calculating the total frictional torque transmitted\n",
"T=2/3*mu*W*(r1^3-r2^3)/(r1^2-r2^2)/1000 //N-m\n",
"//Calculating the power absorbed in friction\n",
"P1=T*omega/1000 //Power absorbed in friction assuming uniform pressure, kW\n",
"//Power absorbed in friction assuming uniform wear:\n",
"//Calculating the total frictional torque transmitted\n",
"T=1/2*mu*W*(r1+r2)/1000 //N-m\n",
"//Calculating the power absorbed in friction\n",
"P2=T*omega/1000 //Power absorbed in friction assuming uniform wear, kW\n",
"//Results:\n",
"printf('\n\n Power absorbed in friction assuming uniform pressure, P = %.1f kW.\n',P1)\n",
"printf(' Power absorbed in friction assuming uniform wear, P = %.2f kW.\n\n',P2)"
   ]
   }
,
{
		   "cell_type": "markdown",
		   "metadata": {},
		   "source": [
			"## Example 10.1: To_find_weight_and_coefficient_of_friction.sce"
		   ]
		  },
  {
"cell_type": "code",
	   "execution_count": null,
	   "metadata": {
	    "collapsed": true
	   },
	   "outputs": [],
"source": [
"//To find weight and coefficient of friction\n",
"clc\n",
"//Given:\n",
"theta=30 //degrees\n",
"P1=180 //Pulling force, N\n",
"P2=220 //Pushing force, N\n",
"//Solution:\n",
"//Resolving the forces horizontally for the pull of 180N\n",
"F1=P1*cosd(theta) //N\n",
"//Resolving the forces for the push of 220 N\n",
"F2=P2*cosd(theta) //N\n",
"//Calculating the coefficient of friction\n",
"//For the pull of 180N, F1=mu*W-90*mu, or F1/mu-W=-90        .....(i)\n",
"//For the push of 220N, F2=W*mu+110*mu, or F2/mu-W=110      .....(ii)\n",
"A=[F1 -1; F2 -1]\n",
"B=[-90; 110]\n",
"V=A \ B\n",
"mu=1/V(1)\n",
"W=V(2)\n",
"//Results:\n",
"printf('\n\n The weight of the body, W = %d N.\n',W)\n",
"printf(' The coefficient of friction, mu = %.4f.\n\n',mu)"
   ]
   }
,
{
		   "cell_type": "markdown",
		   "metadata": {},
		   "source": [
			"## Example 10.20: To_find_power_absorbed.sce"
		   ]
		  },
  {
"cell_type": "code",
	   "execution_count": null,
	   "metadata": {
	    "collapsed": true
	   },
	   "outputs": [],
"source": [
"//To find power absorbed\n",
"clc\n",
"//Given:\n",
"d1=400,r1=d1/2,d2=250,r2=d2/2 //mm\n",
"p=0.35 //N/mm^2\n",
"mu=0.05\n",
"N=105 //rpm\n",
"W=150*1000 //N\n",
"//Solution:\n",
"//Calculating the angular speed of the shaft\n",
"omega=2*%pi*N/60 //rad/s\n",
"//Calculating the total frictional torque transmitted for uniform pressure\n",
"T=2/3*mu*W*(r1^3-r2^3)/(r1^2-r2^2)/1000 //N-m\n",
"//Calculating the power absorbed\n",
"P=T*omega/1000 //kW\n",
"//Calculating the number of collars required\n",
"n=W/(p*%pi*(r1^2-r2^2))\n",
"//Results:\n",
"printf('\n\n Power absorbed, P = %.2f kW.\n',P)\n",
"printf(' Number of collars required, n = %d.\n\n',n+1)"
   ]
   }
,
{
		   "cell_type": "markdown",
		   "metadata": {},
		   "source": [
			"## Example 10.21: To_find_diameter_and_number_of_collars.sce"
		   ]
		  },
  {
"cell_type": "code",
	   "execution_count": null,
	   "metadata": {
	    "collapsed": true
	   },
	   "outputs": [],
"source": [
"//To find diameter and number of collars\n",
"clc\n",
"//Given:\n",
"d2=300/1000,r2=d2/2 //m\n",
"W=200*1000 //N\n",
"N=75 //rpm\n",
"mu=0.05\n",
"p=0.3 //N/mm^2\n",
"P=16*1000 //W\n",
"//Solution:\n",
"//Calculating the angular velocity of the shaft\n",
"omega=2*%pi*N/60 //rad/s\n",
"//Calculating the total frictional torque transmitted\n",
"T=P/omega //N-m\n",
"//Calculating the external diameter of the collar\n",
"//We have, T=2/3*mu*W*(r1^3-r2^3)/(r1^2-r2^2), or (2*mu*W)*r1^2-(3*T-2*mu*W*r2)*r1+(2*mu*W*r2^2-3*T*r2)=0\n",
"A=2*mu*W, B=-(3*T-2*mu*W*r2), C=2*mu*W*r2^2-3*T*r2\n",
"r1=(-B+sqrt(B^2-4*A*C))/(2*A)*1000 //mm\n",
"d1=2*r1 //mm\n",
"//Calculating the number of collars\n",
"n=W/(p*%pi*(r1^2-(r2*1000)^2))\n",
"//Results:\n",
"printf('\n\n External diameter of the collar, d1 = %d mm.\n',d1)\n",
"printf(' Number of collars, n = %d.\n\n',n+1)"
   ]
   }
,
{
		   "cell_type": "markdown",
		   "metadata": {},
		   "source": [
			"## Example 10.22: To_find_the_pressure.sce"
		   ]
		  },
  {
"cell_type": "code",
	   "execution_count": null,
	   "metadata": {
	    "collapsed": true
	   },
	   "outputs": [],
"source": [
"//To find the pressure\n",
"clc\n",
"//Given:\n",
"W=4*1000 //N\n",
"r2=50,r1=100 //mm\n",
"//Solution:\n",
"//Calculating the maximum pressure\n",
"pmax=W/(2*%pi*r2*(r1-r2)) //N/mm^2\n",
"//Calculating the minimum pressure\n",
"pmin=W/(2*%pi*r1*(r1-r2)) //N/mm^2\n",
"//Calculating the average pressure\n",
"pav=W/(%pi*(r1^2-r2^2)) //N/mm^2\n",
"//Results:\n",
"printf('\n\n Maximum pressure, pmax = %.4f N/mm^2.\n',pmax)\n",
"printf(' Minimum pressure, pmin = %.4f N/mm^2.\n',pmin)\n",
"printf(' Average pressure, pav = %.2f N/mm^2.\n\n',pav)"
   ]
   }
,
{
		   "cell_type": "markdown",
		   "metadata": {},
		   "source": [
			"## Example 10.23: To_find_power_transmitted.sce"
		   ]
		  },
  {
"cell_type": "code",
	   "execution_count": null,
	   "metadata": {
	    "collapsed": true
	   },
	   "outputs": [],
"source": [
"//To find power transmitted\n",
"clc\n",
"//Given:\n",
"d1=300, r1=d1/2, d2=200, r2=d2/2 //mm\n",
"p=0.1 //N/mm^2\n",
"mu=0.3\n",
"N=2500 //rpm\n",
"n=2\n",
"//Solution:\n",
"//Calculating the radial speed of the clutch\n",
"omega=2*%pi*N/60 //rad/s\n",
"//Calculating the intensity of pressure\n",
"C=p*r2 //N/mm\n",
"//Calculating the axial thrust\n",
"W=2*%pi*C*(r1-r2) //N\n",
"//Calculating the mean radius of the friction surfaces for uniform wear\n",
"R=(r1+r2)/(2*1000) //m\n",
"//Calculating the torque transmitted\n",
"T=n*mu*W*R //N-m\n",
"//Calculating the power transmitted by a clutch\n",
"P=T*omega/1000 //kW\n",
"//Results:\n",
"printf('\n\n Power transmitted by a clutch, P = %.3f kW.\n\n',P)"
   ]
   }
,
{
		   "cell_type": "markdown",
		   "metadata": {},
		   "source": [
			"## Example 10.24: To_find_radii_and_axial_thrust.sce"
		   ]
		  },
  {
"cell_type": "code",
	   "execution_count": null,
	   "metadata": {
	    "collapsed": true
	   },
	   "outputs": [],
"source": [
"//To find radii and axial thrust\n",
"clc\n",
"//Given:\n",
"n=2, mu=0.255\n",
"P=25*1000 //W\n",
"N=3000 //rpm\n",
"r=1.25 //Ratio of radii, r1/r2\n",
"p=0.1 //N/mm^2\n",
"//Solution:\n",
"//Calculating the angular speed of the clutch\n",
"omega = 2*%pi*N/60 //rad/s\n",
"//Calculating the torque transmitted\n",
"T=P/omega*1000 //N-mm\n",
"//Calculating the inner radius\n",
"r2=(T/(n*mu*2*%pi*0.1*(1.25-1)*(1.25+1)/2))^(1/3) //mm\n",
"//Calculating the outer radius\n",
"r1=r*r2 //mm\n",
"//Calculating the axial thrust to be provided by springs\n",
"C=0.1*r2 //Intensity of pressure, N/mm\n",
"W=2*%pi*C*(r1-r2) //N\n",
"//Results:\n",
"printf('\n\n Outer radius of the frictional surface, r1 = %d mm.\n',r1)\n",
"printf(' Inner radius of the frictional surface, r2 = %d mm.\n',r2)\n",
"printf(' Axial thrust to be provided by springs, W = %d N.\n\n',W)"
   ]
   }
,
{
		   "cell_type": "markdown",
		   "metadata": {},
		   "source": [
			"## Example 10.25: To_find_dimensions_of_clutch_plate.sce"
		   ]
		  },
  {
"cell_type": "code",
	   "execution_count": null,
	   "metadata": {
	    "collapsed": true
	   },
	   "outputs": [],
"source": [
"//To find dimensions of clutch plate\n",
"clc\n",
"//Given:\n",
"P=7.5*1000 //W\n",
"N=900 //rpm\n",
"p=0.07 //N/mm^2\n",
"mu=0.25\n",
"n=2\n",
"//Solution:\n",
"//Calculating the angular speed of the clutch\n",
"omega=2*%pi*N/60 //rad/s\n",
"//Calculating the torque transmitted\n",
"T=P/omega*1000 //N-mm\n",
"//Calculating the mean radius of the friction lining\n",
"R=(T/(%pi/2*n*mu*p))^(1/3) //mm\n",
"//Calculating the face width of the friction lining\n",
"w=R/4 //mm\n",
"//Calculating the outer and inner radii of the clutch plate\n",
"//We have, w = r1-r2, or r1-r2 = w                            .....(i)\n",
"//Also, R = (r1+r2)/2, or r1+r2 = 2*R                         .....(ii)\n",
"A=[1 -1; 1 1]\n",
"B=[w; 2*R]\n",
"V=A \ B\n",
"r1=V(1)\n",
"r2=V(2)\n",
"//Results:\n",
"printf('\n\n Mean radius of the friction lining, R = %d mm.\n',R)\n",
"printf(' Face width of the friction lining, w = %.2f mm.\n',w)\n",
"printf(' Outer radius of the clutch plate, r1 = %.3f mm.\n',r1)\n",
"printf(' Inner radius of the clutch plate, r2 = %.3f mm.\n\n',r2)"
   ]
   }
,
{
		   "cell_type": "markdown",
		   "metadata": {},
		   "source": [
			"## Example 10.26: To_find_dimensions_of_clutch_plate.sce"
		   ]
		  },
  {
"cell_type": "code",
	   "execution_count": null,
	   "metadata": {
	    "collapsed": true
	   },
	   "outputs": [],
"source": [
"//To find dimensions of clutch plate\n",
"clc\n",
"//Given:\n",
"P=100 //kW\n",
"N=2400 //rpm\n",
"T=500*1000 //N-mm\n",
"p=0.07 //N/mm^2\n",
"mu=0.3\n",
"Ns=8 //Number of springs\n",
"k=40 //Stiffness, N/mm\n",
"n=2\n",
"//Solution:\n",
"//Calculating the inner radius of the friction plate\n",
"r2=(T/(n*mu*2*%pi*p*(1.25-1)*(1.25+1)/2))^(1/3) //mm\n",
"//Calculating the outer radius of the friction plate\n",
"r1=1.25*r2 //mm\n",
"//Calculating the total stiffness of the springs\n",
"s=k*Ns //N/mm\n",
"//Calculating the intensity of pressure\n",
"C=p*r2 //N/mm\n",
"//Calculating the axial force required to engage the clutch\n",
"W=2*%pi*C*(r1-r2) //N\n",
"//Calculating the initial compression in the springs\n",
"IC=W/s //Initial compression in the springs, mm\n",
"//Results:\n",
"printf('\n\n Outer radius of the friction plate, r1 = %.1f mm.\n',r1)\n",
"printf(' Inner radius of the friction plate, r2 = %d mm.\n',r2)\n",
"printf(' Initial compression in the springs = %.1f mm.\n\n',IC)"
   ]
   }
,
{
		   "cell_type": "markdown",
		   "metadata": {},
		   "source": [
			"## Example 10.27: To_find_speed_time_and_KE_lost.sce"
		   ]
		  },
  {
"cell_type": "code",
	   "execution_count": null,
	   "metadata": {
	    "collapsed": true
	   },
	   "outputs": [],
"source": [
"//To find speed, time and KE lost\n",
"clc\n",
"//Given:\n",
"d1=220, r1=d1/2, d2=160, r2=d2/2 //mm\n",
"W=570 //N\n",
"m1=800, m2=1300 //kg\n",
"k1=200/1000, k2=180/1000 //m\n",
"mu=0.35\n",
"N1=1250 //rpm\n",
"n=2\n",
"//Solution:\n",
"//Calculating the initial angular speed of the motor shaft\n",
"omega1=2*%pi*N1/60 //rad/s\n",
"//Calculating the moment of inertia for the motor armature and shaft\n",
"I1=m1*k1^2 //kg-m^2\n",
"//Calculating the moment of inertia for the rotor\n",
"I2=m2*k2^2 //kg-m^2\n",
"//Calculating the final speed of the motor and rotor\n",
"omega2=0\n",
"omega3=(I1*omega1+I2*omega2)/(I1+I2) //rad/s\n",
"//Calculating the mean radius of the friction plate\n",
"R=(r1+r2)/(2*1000) //m\n",
"//Calculating the frictional torque\n",
"T=n*mu*W*R //N-m\n",
"//Calculating the angular acceleration of the rotor\n",
"alpha2=T/I2 //rad/s^2\n",
"//Calculating the time to reach the speed of omega3\n",
"omegaF=omega3, omegaI=omega2\n",
"t=(omegaF-omegaI)/alpha2 //seconds\n",
"//Calculating the angular kinetic energy before impact\n",
"E1=1/2*I1*omega1^2+1/2*I2*omega2^2 //N-m\n",
"//Calculating the angular kinetic energy after impact\n",
"E2=1/2*(I1+I2)*omega3^2 //N-m\n",
"//Calculating the kinetic energy lost during the period of slipping\n",
"E=E1-E2 //N-m\n",
"//Calculating the torque on armature shaft\n",
"T1=-60-T //N-m\n",
"//Calculating the torque on rotor shaft\n",
"T2=T //N-m\n",
"//Calculating the time of slipping assuming constant resisting torque:\n",
"//Considering armature shaft, omega3 = omega1+alpha1*t1, or omega3-(T1/I1)*t1 = omega1        .....(i)\n",
"//Considering rotor shaft, omega3 = alpha2*t1, or omega3-(T2/I2)*t1 = 0                       .....(ii)\n",
"A=[1 -T1/I1; 1 -T2/I2]\n",
"B=[omega1; 0]\n",
"V=A \ B\n",
"t11=V(2) //Time of slipping assuming constant resisting torque, seconds\n",
"//Calculating the time of slipping assuming constant driving torque:\n",
"//Calculating the torque on armature shaft\n",
"T1=60-T //N-m\n",
"t12=(omega2-omega1)/(T1/I1-T2/I2) //Time of slipping assuming constant driving torque, seconds\n",
"//Results:\n",
"printf('\n\n Final speed of the motor and rotor, omega3 = %.2f rad/s.\n',omega3)\n",
"printf(' Time to reach the speed of %.2f rad/s, t = %.1f s.\n',omega3,t)\n",
"printf(' Kinetic energy lost during the period of slipping = %d N-m.\n',E)\n",
"printf(' Time of slipping assuming constant resisting torque, t1 = %.1f s.\n',t11)\n",
"printf(' Time of slipping assuming constant driving torque, t1 = %d s.\n\n',t12)"
   ]
   }
,
{
		   "cell_type": "markdown",
		   "metadata": {},
		   "source": [
			"## Example 10.28: To_find_the_power_transmitted.sce"
		   ]
		  },
  {
"cell_type": "code",
	   "execution_count": null,
	   "metadata": {
	    "collapsed": true
	   },
	   "outputs": [],
"source": [
"//To find the power transmitted\n",
"clc\n",
"//Given:\n",
"n=4, mu=0.3\n",
"p=0.127 //N/mm^2\n",
"N=500 //rpm\n",
"r1=125, r2=75 //mm\n",
"//Solution:\n",
"//Calculating the angular speed of the clutch\n",
"omega=2*%pi*N/60 //rad/s\n",
"//Calculating the maximum intensity of pressure\n",
"C=p*r2 //N/mm\n",
"//Calculating the axial force required to engage the clutch\n",
"W=2*%pi*C*(r1-r2) //N\n",
"//Calculating the mean radius of the friction surfaces\n",
"R=(r1+r2)/(2*1000) //m\n",
"//Calculating the torque transmitted\n",
"T=n*mu*W*R //N-m\n",
"//Calculating the power transmitted\n",
"P=T*omega/1000 //kW\n",
"//Results:\n",
"printf('\n\n Power transmitted, P = %.1f kW.\n\n',P)"
   ]
   }
,
{
		   "cell_type": "markdown",
		   "metadata": {},
		   "source": [
			"## Example 10.29: To_find_maximum_intensity_of_pressure.sce"
		   ]
		  },
  {
"cell_type": "code",
	   "execution_count": null,
	   "metadata": {
	    "collapsed": true
	   },
	   "outputs": [],
"source": [
"//To find maximum intensity of pressure\n",
"clc\n",
"//Given:\n",
"n1=3, n2=2, mu=0.3\n",
"d1=240, r1=d1/2, d2=120, r2=d2/2 //mm\n",
"P=25*1000 //W\n",
"N=1575 //rpm\n",
"//Solution:\n",
"//Calculating the angular speed of the shaft\n",
"omega=2*%pi*N/60 //rad/s\n",
"//Calculating the torque transmitted\n",
"T=P/omega //N-m\n",
"//Calculating the number of pairs of friction surfaces\n",
"n=n1+n2-1\n",
"//Calculating the mean radius of friction surfaces for uniform wear\n",
"R=(r1+r2)/(2*1000) //m\n",
"//Calculating the axial force on each friction surface\n",
"W=T/(n*mu*R) //N\n",
"//Calculating the maximum axial intensity of pressure\n",
"p=W/(2*%pi*r2*(r1-r2)) //N/mm^2\n",
"//Results:\n",
"printf('\n\n Maximum axial intensity of pressure, p = %.3f N/mm^2.\n\n',p)"
   ]
   }
,
{
		   "cell_type": "markdown",
		   "metadata": {},
		   "source": [
			"## Example 10.2: To_find_weight_and_coefficient_of_friction.sce"
		   ]
		  },
  {
"cell_type": "code",
	   "execution_count": null,
	   "metadata": {
	    "collapsed": true
	   },
	   "outputs": [],
"source": [
"//To find weight and coefficient of friction\n",
"clc\n",
"//Given:\n",
"P1=1500,P2=1720 //N\n",
"alpha1=12,alpha2=15 //degrees\n",
"//Solution:\n",
"//Refer Fig. 10.10\n",
"//Effort applied parallel to the plane, P1=W*(sind(alpha1)+mu*cosd(alpha1)), or P1/W-mu*cosd(alpha1)=sind(alpha1)    .....(i)\n",
"//Effort applied parallel to the plane, P2=W*(sind(alpha2)+mu*cosd(alpha2)), or P2/W-mu*cosd(alpha2)=sind(alpha2)    .....(ii)\n",
"A=[P1 -cosd(alpha1); P2 -cosd(alpha2)]\n",
"B=[sind(alpha1); sind(alpha2)]\n",
"V=A \ B\n",
"W=1/V(1)\n",
"mu=V(2)\n",
"//Results:\n",
"printf('\n\n Coefficient of friction, mu = %.3f.\n',mu)\n",
"printf(' Weight of the body, W = %d N.\n\n',W)"
   ]
   }
,
{
		   "cell_type": "markdown",
		   "metadata": {},
		   "source": [
			"## Example 10.30: To_find_maximum_power_transmitted.sce"
		   ]
		  },
  {
"cell_type": "code",
	   "execution_count": null,
	   "metadata": {
	    "collapsed": true
	   },
	   "outputs": [],
"source": [
"//To find maximum power transmitted\n",
"clc\n",
"//Given:\n",
"n1=3, n2=2, n=4, mu=0.3\n",
"d1=240, r1=d1/2, d2=120, r2=d2/2 //mm\n",
"P=25*1000 //W\n",
"N=1575 //rpm\n",
"//Solution:\n",
"//Calculating the angular speed of the shaft\n",
"omega=2*%pi*N/60 //rad/s\n",
"//Calculating the torque transmitted\n",
"T=P/omega //N-m\n",
"//Calculating the mean radius of the contact surface, for uniform pressure\n",
"R=2/3*(r1^3-r2^3)/(r1^2-r2^2)/1000 //m\n",
"//Calculating the total spring load\n",
"W1=T/(n*mu*R) //N\n",
"//Calculating the maximum power transmitted:\n",
"//Given:\n",
"ns=6 //Number of springs\n",
"c=8 //Contact surfaces of the spring\n",
"w=1.25 //Wear on each contact surface, mm\n",
"k=13*1000 //Stiffness of each spring, N/m\n",
"//Calculating the total wear\n",
"Tw=c*w/1000 //Total wear, m\n",
"//Calculating the reduction in spring force\n",
"Rs=Tw*k*ns //N\n",
"//Calculating the new axial load\n",
"W2=W1-Rs //N\n",
"//Calculating the mean radius of the contact surfaces for uniform wear\n",
"R=(r1+r2)/(2*1000) //m\n",
"//Calculating the torque transmitted\n",
"T=n*mu*W2*R //N-m\n",
"//Calculating the maximum power transmitted\n",
"P=T*omega/1000 //kw\n",
"//Results:\n",
"printf('\n\n Total spring load, W = %d N.\n',W1)\n",
"printf(' Maximum power that can be transmitted, P = %.2f kW.\n\n',P)"
   ]
   }
,
{
		   "cell_type": "markdown",
		   "metadata": {},
		   "source": [
			"## Example 10.31: To_find_dimensions_and_axial_load.sce"
		   ]
		  },
  {
"cell_type": "code",
	   "execution_count": null,
	   "metadata": {
	    "collapsed": true
	   },
	   "outputs": [],
"source": [
"//To find dimensions and axial load\n",
"clc\n",
"//Given:\n",
"P=90*1000 //W\n",
"N=1500 //rpm\n",
"alpha=20 //degrees\n",
"mu=0.2\n",
"D=375, R=D/2 //mm\n",
"pn=0.25 //N/mm^2\n",
"//SOlution:\n",
"//Calculating the angular speed of the clutch\n",
"omega=2*%pi*N/60 //rad/s\n",
"//Calculating the torque transmitted\n",
"T=P/omega*1000 //N-mm\n",
"//Calculating the width of the bearing surface\n",
"b=T/(2*%pi*mu*pn*R^2) //mm\n",
"//Calculating the external and internal radii of the bearing surface\n",
"//We know that, r1+r2 = 2*R, and r1-r2 = b*sind(alpha)\n",
"A=[1 1; 1 -1]\n",
"B=[2*R; b*sind(alpha)]\n",
"V=A \ B\n",
"r1=V(1) //mm\n",
"r2=V(2) //mm\n",
"//Calculating the intensity of pressure\n",
"C=pn*r2 //N/mm\n",
"//Calculating the axial load required\n",
"W=2*%pi*C*(r1-r2) //N\n",
"//Results:\n",
"printf('\n\n Width of the bearing surface, b = %.1f mm.\n',b)\n",
"printf(' External radius of the bearing surface, r1 = %.1f mm.\n',r1)\n",
"printf(' Internal radius of the bearing surface, r2 = %.1f mm.\n',r2)\n",
"printf(' Axial load required, W = %d N.\n\n',W)"
   ]
   }
,
{
		   "cell_type": "markdown",
		   "metadata": {},
		   "source": [
			"## Example 10.32: To_find_axial_force_and_face_width.sce"
		   ]
		  },
  {
"cell_type": "code",
	   "execution_count": null,
	   "metadata": {
	    "collapsed": true
	   },
	   "outputs": [],
"source": [
"//To find axial force and face width\n",
"clc\n",
"//Given:\n",
"P=45*1000 //W\n",
"N=1000 //rpm\n",
"alpha=12.5 //degrees\n",
"D=500/1000, R=D/2 //m\n",
"mu=0.2\n",
"pn=0.1 //N/mm^2\n",
"//Solution:\n",
"//Calculating the angular speed of the shaft\n",
"omega=2*%pi*N/60 //rad/s\n",
"//Calculating the torque developed by the clutch\n",
"T=P/omega //N-m\n",
"//Calculating the normal load acting on the friction surface\n",
"Wn=T/(mu*R) //N\n",
"//Calculating the axial spring force necessary to engage the clutch\n",
"We=Wn*(sind(alpha)+mu*cosd(alpha)) //N\n",
"//Calculating the face width required\n",
"b=Wn/(pn*2*%pi*R*1000) //mm\n",
"//Results:\n",
"printf('\n\n Axial force necessary to engage the clutch, We = %d N.\n',We)\n",
"printf(' Face width required, b = %.1f mm.\n\n',b)"
   ]
   }
,
{
		   "cell_type": "markdown",
		   "metadata": {},
		   "source": [
			"## Example 10.33: To_find_dimensions_of_contact_surfaces.sce"
		   ]
		  },
  {
"cell_type": "code",
	   "execution_count": null,
	   "metadata": {
	    "collapsed": true
	   },
	   "outputs": [],
"source": [
"//To find dimensions of contact surfaces\n",
"clc\n",
"//Given:\n",
"alpha=30/2 //degrees\n",
"pn=0.35 //N/mm^2\n",
"P=22.5*1000 //W\n",
"N=2000 //rpm\n",
"mu=0.15\n",
"//Solution:\n",
"//Calculating the angular speed of the clutch\n",
"omega=2*%pi*N/60 //rad/s\n",
"//Calculating the torque transmitted by the clutch\n",
"T=P/omega*1000 //N-mm\n",
"//Calculating the mean radius of the contact surface\n",
"R=(T/(2*%pi*mu*pn/3))^(1/3) //mm\n",
"//Calculating the face width of the contact surface\n",
"b=R/3\n",
"//Calculating the outer and inner radii of the contact surface\n",
"//Refer Fig. 10.27\n",
"//We have, r1-r2 = b*sind(alpha), and r1+r2 = 2*R\n",
"A=[1 -1; 1 1]\n",
"B=[b*sind(alpha); 2*R]\n",
"V=A \ B\n",
"r1=V(1) //mm\n",
"r2=V(2) //mm\n",
"//Results:\n",
"printf('\n\n Mean radius of the contact surface, R = %d mm.\n',R)\n",
"printf(' Outer radius of the contact surface, r1 = %.2f mm.\n',r1)\n",
"printf(' Inner radius of the contact surface, r2 = %.2f mm.\n\n',r2)"
   ]
   }
,
{
		   "cell_type": "markdown",
		   "metadata": {},
		   "source": [
			"## Example 10.34: To_find_time_required_and_energy_lost.sce"
		   ]
		  },
  {
"cell_type": "code",
	   "execution_count": null,
	   "metadata": {
	    "collapsed": true
	   },
	   "outputs": [],
"source": [
"//To find time required and energy lost\n",
"clc\n",
"//Given:\n",
"D=75/1000, R=D/2 //m\n",
"alpha=15 //degrees\n",
"mu=0.3\n",
"W=180 //N\n",
"NF=1000 //rpm\n",
"m=13.5 //kg\n",
"k=150/1000 //m\n",
"//Solution:\n",
"//Calculating the angular speed of the flywheel\n",
"omegaF=2*%pi*NF/60 //rad/s\n",
"//Calculating the torque required to produce slipping\n",
"T=mu*W*R*(1/sind(alpha)) //N-m\n",
"//Calculating the mass moment of inertia of the flywheel\n",
"IF=m*k^2 //kg-m^2\n",
"//Calculating the angular acceleration of the flywheel\n",
"alphaF=T/IF //rad/s^2\n",
"//Calculating the time required for the flywheel to attain full speed\n",
"tF=omegaF/alphaF //seconds\n",
"//Calculating the angle turned through by the motor and flywheel in time tF\n",
"theta=1/2*omegaF*tF //rad\n",
"//Calculating the energy lost in slipping of the clutch\n",
"E=T*theta //Energy lost in slipping of the clutch, N-m\n",
"//Results:\n",
"printf('\n\n Torque required to produce slipping, T = %.1f N-m.\n',T)\n",
"printf(' Time required for the flywheel to attain full speed, tF = %.1f s.\n',tF)\n",
"printf(' Energy lost in slipping of the clutch = %d N-m.\n\n',E)"
   ]
   }
,
{
		   "cell_type": "markdown",
		   "metadata": {},
		   "source": [
			"## Example 10.35: To_find_mass_and_size_of_shoes.sce"
		   ]
		  },
  {
"cell_type": "code",
	   "execution_count": null,
	   "metadata": {
	    "collapsed": true
	   },
	   "outputs": [],
"source": [
"//To find mass and size of shoes\n",
"clc\n",
"//Given:\n",
"P=15*1000 //W\n",
"N=900 //rpm\n",
"n=4, mu=0.25\n",
"R=150/1000, r=120/1000 //m\n",
"theta=60 //degrees\n",
"p=0.1 //N/mm^2\n",
"//Solution:\n",
"//Calculating the angular speed of the clutch\n",
"omega=2*%pi*N/60 //rad/s\n",
"//Calculating the speed at which the engagement begins\n",
"omega1=3/4*omega //rad/s\n",
"//Calculating the torque transmitted at the running speed\n",
"T=P/omega //N-m\n",
"//Calculating the mass of the shoes\n",
"m=T/(n*mu*(omega^2*r-omega1^2*r)*R) //kg\n",
"//Calculating the contact length of shoes\n",
"l=(theta*%pi/180)*R*1000 //mm\n",
"//Calculating the centrifugal force acting on each shoe\n",
"Pc=m*omega^2*r //N\n",
"//Calculating the inward force on each shoe exerted by the spring\n",
"Ps=m*omega1^2*r //N\n",
"//Calculating the width of the shoes\n",
"b=(Pc-Ps)/(l*p) //mm\n",
"//Results:\n",
"printf('\n\n Mass of the shoes, m = %.2f kg.\n',m)\n",
"printf(' Width of the shoes, b = %.1f mm.\n\n',b)"
   ]
   }
,
{
		   "cell_type": "markdown",
		   "metadata": {},
		   "source": [
			"## Example 10.36: To_fnd_power_transmitted.sce"
		   ]
		  },
  {
"cell_type": "code",
	   "execution_count": null,
	   "metadata": {
	    "collapsed": true
	   },
	   "outputs": [],
"source": [
"//To fnd power transmitted\n",
"clc\n",
"//Given:\n",
"n=4, mu=0.3\n",
"c=5, r=160 //mm\n",
"S=500 //N\n",
"D=400/1000, R=D/2 //m\n",
"m=8 //kg\n",
"s=50 //N/mm\n",
"N=500 //rpm\n",
"//Solution:\n",
"//Calculating the angular speed of the clutch\n",
"omega=2*%pi*N/60 //rad/s\n",
"//Calculating the operating radius\n",
"r1=(r+c)/1000 //m\n",
"//Calculating the centrifugal force on each shoe\n",
"Pc=m*omega^2*r1 //N\n",
"//Calculating the inward force exerted by the spring\n",
"Ps=S+c*s //N\n",
"//Calculating the frictional force acting tangentially on each shoe\n",
"F=mu*(Pc-Ps) //N\n",
"//Calculating the total frictional torque transmitted by the clutch\n",
"T=n*F*R //N-m\n",
"//Calculating the power transmitted\n",
"P=T*omega/1000 //kW\n",
"//Results:\n",
"printf('\n\n Power transmitted, P = %.1f kW.\n\n',P)"
   ]
   }
,
{
		   "cell_type": "markdown",
		   "metadata": {},
		   "source": [
			"## Example 10.3: To_estimate_the_power.sce"
		   ]
		  },
  {
"cell_type": "code",
	   "execution_count": null,
	   "metadata": {
	    "collapsed": true
	   },
	   "outputs": [],
"source": [
"//To estimate the power\n",
"clc\n",
"//Given:\n",
"W=75*1000 //W\n",
"v=300 //mm/min\n",
"p=6,d0=40 //mm\n",
"mu=0.1\n",
"//Solution:\n",
"//Calculating the mean diameter of the screw\n",
"d=(d0-p/2)/1000 //m\n",
"//Calculating the helix angle\n",
"alpha=atan(p/(%pi*d*1000)) //radians\n",
"//Calculating the force required at the circumference of the screw\n",
"phi=atan(mu) //Limiting angle of friction, radians\n",
"P=W*tan(alpha+phi) //N\n",
"//Calculating the torque required to overcome the friction\n",
"T=P*d/2 //N-m\n",
"//Calculating the speed of the screw\n",
"N=v/p //rpm\n",
"//Calculating the angular speed\n",
"omega=2*%pi*N/60 //rad/s\n",
"//Calculating the power of the motor\n",
"Power=T*omega/1000 //Power of the motor, kW\n",
"//Results:\n",
"printf('\n\n Power of the motor required = %.3f kW.\n\n',Power)"
   ]
   }
,
{
		   "cell_type": "markdown",
		   "metadata": {},
		   "source": [
			"## Example 10.4: To_find_work_done.sce"
		   ]
		  },
  {
"cell_type": "code",
	   "execution_count": null,
	   "metadata": {
	    "collapsed": true
	   },
	   "outputs": [],
"source": [
"//To find work done\n",
"clc\n",
"//Given:\n",
"p=12,d=40 //mm\n",
"mu=0.16\n",
"W=2500 //N\n",
"//Solutiom:\n",
"//Work done in drawing the wagons together agianst a steady load of 2500 N:\n",
"//Calculating the helix angle\n",
"alpha=atan(p/(%pi*d)) //radians\n",
"//Calculating the effort required at the circumference of the screw\n",
"phi=atan(mu) //Limiting angle of friction, radians\n",
"P=W*tan(alpha+phi) //N\n",
"//Calculating the torque required to overcome friction between the screw and nut\n",
"T=P*d/(2*1000) //N-m\n",
"//Calculating the number of turns required\n",
"N=240/(2*p)\n",
"//Calculating the work done\n",
"W1=T*2*%pi*N //Work done, N-m\n",
"//Work done in drawing the wagons together when the load increases from 2500 N to 6000 N:\n",
"W2=W1*(6000-2500)/2500 //Work done, N-m\n",
"//Results:\n",
"printf('\n\n Work done in drawing the wagons together agianst a steady load of 2500 N = %.1f N-m.\n',W1)\n",
"printf(' Work done in drawing the wagons together when the load increases from 2500 N to 6000 N = %.1f N-m.\n\n',W2)"
   ]
   }
,
{
		   "cell_type": "markdown",
		   "metadata": {},
		   "source": [
			"## Example 10.5: To_find_the_torque_required.sce"
		   ]
		  },
  {
"cell_type": "code",
	   "execution_count": null,
	   "metadata": {
	    "collapsed": true
	   },
	   "outputs": [],
"source": [
"//To find the torque required\n",
"clc\n",
"//Given:\n",
"D=150/1000 //m\n",
"ps=2*10^6 //N/m^2\n",
"d0=50,p=6 //mm\n",
"mu=0.12\n",
"//Solution:\n",
"//Calculating the load on the valve\n",
"W=ps*%pi/4*D^2 //N\n",
"//Calculating the mean diameter of the screw\n",
"d=(d0-p/2)/1000 //m\n",
"//Calculating the helix angle\n",
"alpha=atan(p/(%pi*d*1000))\n",
"//Calculating the force required to turn the handle\n",
"phi=atan(mu) //Limiting angle of friction, radians\n",
"P=W*tan(alpha+phi) //N\n",
"//Calculating the torque required to turn the handle\n",
"T=P*d/2 //N-m\n",
"//Results:\n",
"printf('\n\n The torque required to turn the handle, T = %.1f N-m.\n\n',T)"
   ]
   }
,
{
		   "cell_type": "markdown",
		   "metadata": {},
		   "source": [
			"## Example 10.6: To_find_force_required.sce"
		   ]
		  },
  {
"cell_type": "code",
	   "execution_count": null,
	   "metadata": {
	    "collapsed": true
	   },
	   "outputs": [],
"source": [
"//To find force required\n",
"clc\n",
"//Given:\n",
"dc=22.5,p=5,D=50,R=D/2,l=500 //mm\n",
"mu=0.1,mu1=0.16\n",
"W=10*1000 //N\n",
"//Solution:\n",
"//Calculating the mean diameter of the screw\n",
"d=dc+p/2 //mm\n",
"//Calculating the helix angle\n",
"alpha=p/(%pi*d) //radians\n",
"//Calculating the force required at the circumference of the screw\n",
"phi=atan(mu) //Limiting angle of friction, radians\n",
"P=W*tan(alpha+phi) //N\n",
"//Calculating the total torque required\n",
"T=P*d/2+mu1*W*R //N-mm\n",
"//Calculating the force required at the end of a spanner\n",
"P1=T/l //N\n",
"//Results:\n",
"printf('\n\n Force required at the end of a spanner, P1 = %.2f N.\n\n',P1)"
   ]
   }
,
{
		   "cell_type": "markdown",
		   "metadata": {},
		   "source": [
			"## Example 10.7: To_find_diameter_of_hand_wheel.sce"
		   ]
		  },
  {
"cell_type": "code",
	   "execution_count": null,
	   "metadata": {
	    "collapsed": true
	   },
	   "outputs": [],
"source": [
"//To find diameter of hand wheel\n",
"clc\n",
"//Given:\n",
"d=50,p=12.5,D=60,R=D/2 //mm\n",
"W=10*1000,P1=100 //N\n",
"mu=0.15,mu1=0.18\n",
"//Solution:\n",
"//Calculating the helix angle\n",
"alpha=atan(p/(%pi*d)) //radians\n",
"//Calculating the tangential force required at the circumference of the screw\n",
"phi=atan(mu) //Limiting angle of friction, radians\n",
"P=W*tan(alpha+phi) //N\n",
"//Calculating the total torque required to turn the hand wheel\n",
"T=P*d/2+mu1*W*R //N-mm\n",
"//Calculating the diameter of the hand wheel\n",
"D1=T/(2*P1*1000)*2 //m\n",
"//Results:\n",
"printf('\n\n Diameter of the hand wheel, D1 = %.3f m.\n\n',D1)"
   ]
   }
,
{
		   "cell_type": "markdown",
		   "metadata": {},
		   "source": [
			"## Example 10.8: To_find_the_power_required.sce"
		   ]
		  },
  {
"cell_type": "code",
	   "execution_count": null,
	   "metadata": {
	    "collapsed": true
	   },
	   "outputs": [],
"source": [
"//To find the power required\n",
"clc\n",
"//Given:\n",
"d0=55,D2=60,R2=D2/2,D1=90,R1=D1/2 //mm\n",
"p=10/1000 //m\n",
"W=400 //N\n",
"mu=0.15\n",
"v=6 //Cutting speed, m/min\n",
"//Solution:\n",
"//Calculating the mean diameter of the screw\n",
"d=d0-p/2 //mm\n",
"//Calculating the helix angle\n",
"alpha=p/(%pi*d) //radians\n",
"//Calculating the force required at the circumference of the screw\n",
"phi=atan(mu) //Limiting angle of friction, radians\n",
"P=W*tan(alpha+phi) //N\n",
"//Calculating the mean radius of the flat surface\n",
"R=(R1+R2)/2 //mm\n",
"//Calculating the torque required\n",
"T=(P*d/2+mu1*W*R)/1000 //N-m\n",
"//Calculating the speed of the screw\n",
"N=v/p //rpm\n",
"//Calculating the angular speed\n",
"omega=2*%pi*N/60 //rad/s\n",
"//Calculating the power required to operate the nut\n",
"Power=T*omega/1000 //Power required to operate the nut, kW\n",
"//Results:\n",
"printf('\n\n Power required to operate the nut = %.3f kW.\n\n',Power)"
   ]
   }
,
{
		   "cell_type": "markdown",
		   "metadata": {},
		   "source": [
			"## Example 10.9: To_find_the_force_applied.sce"
		   ]
		  },
  {
"cell_type": "code",
	   "execution_count": null,
	   "metadata": {
	    "collapsed": true
	   },
	   "outputs": [],
"source": [
"//To find the force applied\n",
"clc\n",
"//Given:\n",
"d=50/1000,l=0.7 //m\n",
"p=10 //mm\n",
"mu=0.15\n",
"W=20*1000 //N\n",
"//Solution:\n",
"//Calculating the helix angle\n",
"alpha=atan(p/(%pi*d*1000)) //radians\n",
"//Force required to raise the load:\n",
"//Calculating the force required at the circumference of the screw\n",
"phi=atan(mu) //Limiting angle of friction, radians\n",
"P1=W*tan(alpha+phi) //N\n",
"//Calculating the force required at the end of the lever\n",
"P11=P1*d/(2*l) //N\n",
"//Calculating the force required at the circumference of the screw\n",
"P2=W*(phi-alpha) //N\n",
"//Foce rewuired to lower the load:\n",
"//Calculating the force required at the end of the lever\n",
"P21=P2*d/(2*l) //N\n",
"//Results:\n",
"printf('\n\n Force required at the end of the lever to raise the load, P1 = %d N.\n',P11)\n",
"printf(' Force required at the end of the lever to lower the load, P1 = %d N.\n\n',P21)"
   ]
   }
],
"metadata": {
		  "kernelspec": {
		   "display_name": "Scilab",
		   "language": "scilab",
		   "name": "scilab"
		  },
		  "language_info": {
		   "file_extension": ".sce",
		   "help_links": [
			{
			 "text": "MetaKernel Magics",
			 "url": "https://github.com/calysto/metakernel/blob/master/metakernel/magics/README.md"
			}
		   ],
		   "mimetype": "text/x-octave",
		   "name": "scilab",
		   "version": "0.7.1"
		  }
		 },
		 "nbformat": 4,
		 "nbformat_minor": 0
}
