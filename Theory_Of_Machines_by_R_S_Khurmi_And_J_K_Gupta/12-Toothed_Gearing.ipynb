{
"cells": [
 {
		   "cell_type": "markdown",
	   "metadata": {},
	   "source": [
       "# Chapter 12: Toothed Gearing"
	   ]
	},
{
		   "cell_type": "markdown",
		   "metadata": {},
		   "source": [
			"## Example 12.10: To_find_number_of_teeth.sce"
		   ]
		  },
  {
"cell_type": "code",
	   "execution_count": null,
	   "metadata": {
	    "collapsed": true
	   },
	   "outputs": [],
"source": [
"//To find number of teeth\n",
"clc\n",
"//Given:\n",
"G=4\n",
"phi=14.5 //degrees\n",
"//Solution:\n",
"//Least number of teeth on each wheel:\n",
"//Calculating the least number of teeth on the pinion\n",
"t=2*%pi/tand(phi)\n",
"//Calculating the least number of teeth on the gear\n",
"T=G*t\n",
"//Results:\n",
"printf('\n\n Least number of teeth on the pinion, t = %d.\n\n',t+1)\n",
"printf(' Least number of teeth on the gear, T = %d.\n\n',T+1)"
   ]
   }
,
{
		   "cell_type": "markdown",
		   "metadata": {},
		   "source": [
			"## Example 12.11: To_find_addenda_and_velocity.sce"
		   ]
		  },
  {
"cell_type": "code",
	   "execution_count": null,
	   "metadata": {
	    "collapsed": true
	   },
	   "outputs": [],
"source": [
"//To find addenda and velocity\n",
"clc\n",
"//Given:\n",
"phi=16 //degrees\n",
"m=6 //mm\n",
"t=16, G=1.75, T=G*t\n",
"N1=240 //rpm\n",
"//Solution:\n",
"//Calculating the angular speed of the pinion\n",
"omega1=2*%pi*N1/60 //rad/s\n",
"//Addenda on pinion and gear wheel:\n",
"//Calculating the addendum on pinion\n",
"addendump=m*t/2*(sqrt(1+T/t*(T/t+2)*(sind(phi))^2)-1) //Addendum on pinion, mm\n",
"//Calculating the addendum on wheel\n",
"addendumg=m*T/2*(sqrt(1+t/T*(t/T+2)*(sind(phi))^2)-1) //Addendum on wheel, mm\n",
"//Length of path of contact:\n",
"//Calculating the pitch circle radius of wheel\n",
"R=m*T/2 //mm\n",
"//Calculating the pitch circle radius of pinion\n",
"r=m*t/2 //mm\n",
"//Calculating the addendum circle radius of wheel\n",
"RA=R+addendump //mm\n",
"//Calculating the addendum circle radius of pinion\n",
"rA=r+addendumg //mm\n",
"//Calculating the length of path of approach\n",
"KP=sqrt(RA^2-R^2*(cosd(phi))^2)-R*sind(phi) //mm\n",
"//Calculating the length of path of recess\n",
"PL=sqrt(rA^2-r^2*(cosd(phi))^2)-r*sind(phi) //mm\n",
"//Calculating the length of path of contact\n",
"KL=KP+PL //mm\n",
"//Maximum velocity of sliding of teeth on either side of pitch point:\n",
"//Calculating the angular speed of gear wheel\n",
"omega2=omega1/G //rad/s\n",
"//Calculating the maximum velocity of sliding of teeth on the left side of pitch point\n",
"vmaxl=(omega1+omega2)*KP //Maximum velocity of sliding of teeth on the left side of pitch point, mm/s\n",
"//Calculating the maximum velocity of sliding of teeth on the right side of pitch point\n",
"vmaxr=(omega1+omega2)*PL //Maximum velocity of sliding of teeth on the right side of pitch point, mm/s\n",
"//Results:\n",
"printf('\n\n Addendum on pinion = %.2f mm.\n\n',addendump)\n",
"printf(' Addendum on wheel = %.2f mm.\n\n',addendumg)\n",
"printf(' Length of path of contact, KL = %.2f mm.\n\n',KL)\n",
"printf(' Maximum velocity of sliding of teeth on the left side of pitch point = %d mm/s.\n\n',vmaxl)\n",
"printf(' Maximum velocity of sliding of teeth on the right side of pitch point = %d mm/s.\n\n',vmaxr)"
   ]
   }
,
{
		   "cell_type": "markdown",
		   "metadata": {},
		   "source": [
			"## Example 12.12: To_find_sliding_velocities_and_contact_ratio.sce"
		   ]
		  },
  {
"cell_type": "code",
	   "execution_count": null,
	   "metadata": {
	    "collapsed": true
	   },
	   "outputs": [],
"source": [
"//To find sliding velocities and contact ratio\n",
"clc\n",
"//Given:\n",
"phi=20 //degrees\n",
"t=30, T=50, m=4\n",
"N1=1000 //rpm\n",
"//Solution:\n",
"//Calculating the angular speed of thr pinion\n",
"omega1=2*%pi*N1/60 //rad/s\n",
"//Sliding velocities at engagement and at disengagement of a pair of teeth:\n",
"//Calculating the addendum of the smaller gear\n",
"addendump=m*t/2*(sqrt(1+T/t*(T/t+2)*(sind(phi))^2)-1) //Addendum of the smaller gear, mm\n",
"//Calculating the addendum of the larger gear\n",
"addendumg=m*T/2*(sqrt(1+t/T*(t/T+2)*(sind(phi))^2)-1) //Addendum of the larger gear, mm\n",
"//Calculating the pitch circle radius of the smaller gear\n",
"r=m*t/2 //mm\n",
"//Calculating the radius of addendum circle of the smaller gear\n",
"rA=r+addendump //mm\n",
"//Calculating the pitch circle radius of the larer gear\n",
"R=m*T/2 //mm\n",
"//Calculating the radius of addendum circle of the larger gear\n",
"RA=R+addendumg //mm\n",
"//Calculating the path of approach\n",
"KP=sqrt(RA^2-R^2*(cosd(phi))^2)-R*sind(phi) //mm\n",
"//Calculating the path of recess\n",
"PL=sqrt(rA^2-r^2*(cosd(phi))^2)-r*sind(phi) //mm\n",
"//Calculating the angular speed of the larger gear\n",
"omega2=omega1*t/T //rad/s\n",
"//Calculating the sliding velocity at engagement of a pair of teeth\n",
"v1=(omega1+omega2)*KP //Sliding velocity at engagement of a pair of teeth, mm/s\n",
"//Calculating the sliding velocity at disengagement of a pair of teeth\n",
"v2=(omega1+omega2)*PL //Sliding velocity at disengagement of a pair of teeth, mm/s\n",
"//Contact ratio:\n",
"//Calculating the length of the arc of contact\n",
"Lac=(KP+PL)/cosd(phi) //mm\n",
"//Calculating the circular pitch\n",
"pc=%pi*m //Circular pitch, mm\n",
"//Calculating the contact ratio\n",
"CR=Lac/pc //Contact ratio\n",
"//Results:\n",
"printf('\n\n Sliding velocity at engagement of a pair of teeth = %.3f m/s.\n\n',v1/1000)\n",
"printf(' Sliding velocity at disengagement of a pair of teeth = %.3f m/s.\n\n',v2/1000)\n",
"printf(' Contact ratio = %d.\n\n',CR+1)"
   ]
   }
,
{
		   "cell_type": "markdown",
		   "metadata": {},
		   "source": [
			"## Example 12.13: To_find_teeth_and_velocity.sce"
		   ]
		  },
  {
"cell_type": "code",
	   "execution_count": null,
	   "metadata": {
	    "collapsed": true
	   },
	   "outputs": [],
"source": [
"//To find teeth and velocity\n",
"clc\n",
"//Given:\n",
"G=3\n",
"m=6, AP=1*m, AW=AP //mm\n",
"phi=20 //degrees\n",
"N1=90 //rpm\n",
"//Solution:\n",
"//Calculating the angular speed of the pinion\n",
"omega1=2*%pi*N1/60 //rad/s\n",
"//Calculating the number of teeth on the pinion to avoid interference on it\n",
"t=2*AP/(sqrt(1+G*(G+2)*(sind(phi))^2)-1)\n",
"//Calculating the corresponding number of teeth on the wheel\n",
"T=G*t\n",
"//Length of path and arc of contact:\n",
"//Calculating the pitch circle radius of pinion\n",
"r=m*t/2 //mm\n",
"//Calculating the radius of addendum circle of pinion\n",
"rA=r+AP //mm\n",
"//Calculating the pitch circle radius of wheel\n",
"R=m*T/2 //mm\n",
"//Calculating the radius of addendum circle of wheel\n",
"RA=R+AW //mm\n",
"//Calculating the path of approach\n",
"KP=sqrt(RA^2-R^2*(cosd(phi))^2)-R*sind(phi) //mm\n",
"//Calculating the path of recess\n",
"PL=sqrt(rA^2-r^2*(cosd(phi))^2)-r*sind(phi) //mm\n",
"//Calculating the length of path of contact\n",
"KL=KP+PL //mm\n",
"//Calculating the length of arc of contact\n",
"Lac=KL/cosd(phi) //Length of arc of contact, mm\n",
"//Number of pairs of teeth in contact:\n",
"//Calculating the circular pitch\n",
"pc=%pi*m //mm\n",
"//Calculating the number of pairs of teeth in contact\n",
"n=Lac/pc //Number of pairs of teeth in contact\n",
"//Maximum velocity of sliding:\n",
"//Calculating the angular speed of wheel\n",
"omega2=omega1*t/T //rad/s\n",
"//Calculating the maximum velocity of sliding\n",
"vs=(omega1+omega2)*KP //mm/s\n",
"//Results:\n",
"printf('\n\n Number of teeth on the pinion to avoid interference, t = %d.\n\n',t+1)\n",
"printf(' Corresponding number of teeth on the wheel, T = %d.\n\n',T+1)\n",
"printf(' Length of path of contact, KL = %.2f mm.\n\n',KL)\n",
"printf(' Length of arc of contact = %.2f mm.\n\n',Lac)\n",
"printf(' Number of pairs of teeth in contact = %d.\n\n',n+1)\n",
"printf(' Maximum velocity of sliding, vs = %.2f mm/s.\n\n',vs)"
   ]
   }
,
{
		   "cell_type": "markdown",
		   "metadata": {},
		   "source": [
			"## Example 12.14: To_find_pressure_angle_and_teeth.sce"
		   ]
		  },
  {
"cell_type": "code",
	   "execution_count": null,
	   "metadata": {
	    "collapsed": true
	   },
	   "outputs": [],
"source": [
"//To find pressure angle and teeth\n",
"clc\n",
"//Given:\n",
"T=20\n",
"d=125, r=d/2, OP=r, LH=6.25 //mm\n",
"//Calculating the least pressure angle to avoid interference\n",
"phi=asin(sqrt(LH/r))*180/%pi //degrees\n",
"//Length of arc of contact:\n",
"//Calculating the length of path of contact\n",
"KL=sqrt((OP+LH)^2-(OP*cosd(phi))^2) //mm\n",
"//Calculating the length of arc of contact\n",
"Lac=KL/cosd(phi) //Length of arc of contact, mm\n",
"//Minimum number of teeth:\n",
"//Calculating the circular pitch\n",
"pc=%pi*d/T //mm\n",
"//Calculating the number of pairs of teeth in contact\n",
"n=Lac/pc //Number of pairs of teeth in contact\n",
"//Calculating the minimum number of teeth in contact\n",
"nmin=n //Mimimum number of teeth in contact\n",
"//Results:\n",
"printf('\n\n Least pressure angle to avoid interference, phi = %.3f degrees.\n\n',phi)\n",
"printf(' Length of arc of contact = %.2f mm.\n\n',Lac)\n",
"printf(' Minimum number of teeth in contact = %d or %d pair.\n\n',nmin+1,(nmin+1)/2)"
   ]
   }
,
{
		   "cell_type": "markdown",
		   "metadata": {},
		   "source": [
			"## Example 12.15: To_find_axial_thrust.sce"
		   ]
		  },
  {
"cell_type": "code",
	   "execution_count": null,
	   "metadata": {
	    "collapsed": true
	   },
	   "outputs": [],
"source": [
"//To find axial thrust\n",
"clc\n",
"//Given:\n",
"L=175/1000, d2=100/1000, r2=d2/2 //m\n",
"theta=70 //degrees\n",
"G=1.5, T2=80\n",
"Tf=75 //Torque on faster wheel, N-m\n",
"funcprot(0)\n",
"//Solution:\n",
"//Spiral angles for each wheel:\n",
"//Calculating the number of teeth on slower wheel\n",
"T1=T2*G\n",
"//Calculating the pitch circle diameter of the slower wheel\n",
"d1=(L*2)-d2 //m\n",
"//Calculating the spiral angles\n",
"//We have, d2/d1 = (T2*cos(alpha1))/(T1*cos(alpha2)), or T2*d1*cos(alpha1)-T1*d2*cos(alpha2) = 0    .....(i)\n",
"//Also, alpha1+alpha2 = theta, or alpha1+alpha2-theta = 0                                           .....(ii)\n",
"function y=f(x)\n",
"    alpha1=x(1)\n",
"    alpha2=x(2)\n",
"    y(1)=T2*d1*cos(alpha1)-T1*d2*cos(alpha2)\n",
"    y(2)=alpha1+alpha2-theta*%pi/180\n",
"endfunction\n",
"z=fsolve([1,1],f)\n",
"alpha1=z(1)*180/%pi //Spiral angle for slower wheel, degrees\n",
"alpha2=z(2)*180/%pi //Spiral angle for faster wheel, degrees\n",
"//Axial thrust on each shaft:\n",
"//Calculating the tangential force at faster wheel\n",
"F2=Tf/r2 //N\n",
"//Calculating the normal reaction at the point of contact\n",
"RN=F2/cosd(alpha2) //N\n",
"//Calculating the axial thrust on the shaft of slower wheel\n",
"Fa1=RN*sind(alpha1) //N\n",
"//Calculating the axial thrust on the shaft of faster wheel\n",
"Fa2=RN*sind(alpha2) //N\n",
"//Results:\n",
"printf('\n\n Spiral angle for slower wheel, alpha1 = %.2f degrees.\n\n',alpha1)\n",
"printf(' Spiral angle for faster wheel, alpha2 = %.2f degrees.\n\n',alpha2)\n",
"printf(' Axial thrust on the shaft of slower wheel, Fa1= %d N.\n\n',Fa1+1)\n",
"printf(' Axial thrust on the shaft of faster wheel, Fa2 = %d N.\n\n',Fa2+1)"
   ]
   }
,
{
		   "cell_type": "markdown",
		   "metadata": {},
		   "source": [
			"## Example 12.16: To_find_teeth_distance_and_efficiency.sce"
		   ]
		  },
  {
"cell_type": "code",
	   "execution_count": null,
	   "metadata": {
	    "collapsed": true
	   },
	   "outputs": [],
"source": [
"//To find teeth, distance and efficiency\n",
"clc\n",
"//Given:\n",
"L=400/1000 //m\n",
"G=3\n",
"theta=50, phi=6 //degrees\n",
"pN=18 //mm\n",
"//Solution:\n",
"//Number of teeth on each wheel:\n",
"//Calculating the spiral angles of the driving and driven wheels\n",
"alpha1=theta/2 //degrees\n",
"alpha2=alpha1 //degrees\n",
"//Calculating the number of teeth on driver wheel\n",
"T1=L*1000*2*%pi/(pN*(1/cosd(alpha1)+G/cosd(alpha2)))\n",
"//Calculating the number of teeth on driven wheel\n",
"T2=G*T1\n",
"//Calculating the exact centre distance\n",
"L1=pN*T1/(2*%pi)*(1/cosd(alpha1)+G/cosd(alpha2)) //mm\n",
"//Calculating the efficiency of the drive\n",
"eta=(cosd(alpha2+phi)*cosd(alpha1))/(cosd(alpha1-phi)*cosd(alpha2))*100 //%\n",
"//Results:\n",
"printf('\n\n Number of teeth on driver wheel, T1 = %d.\n\n',T1+1)\n",
"printf(' Number of teeth on driven wheel, T2 = %d.\n\n', T2+1)\n",
"printf(' Exact centre distance, L1 = %.1f mm.\n\n',L1)\n",
"printf(' Efficiency of the drive, eta = %.1f %c.\n\n',eta,'%')"
   ]
   }
,
{
		   "cell_type": "markdown",
		   "metadata": {},
		   "source": [
			"## Example 12.17: To_find_angle_teeth_and_efficiency.sce"
		   ]
		  },
  {
"cell_type": "code",
	   "execution_count": null,
	   "metadata": {
	    "collapsed": true
	   },
	   "outputs": [],
"source": [
"//To find angle, teeth and efficiency\n",
"clc\n",
"//Given:\n",
"pN=12.5, L=134 //mm\n",
"theta=80, phi=6 //degrees\n",
"G=1.25\n",
"//Solution:\n",
"funcprot(0)\n",
"//Spiral angle of each wheel:\n",
"//Calculating the spiral angles of wheels 1 and 2\n",
"//We have, d2/d1 = (T2*cos(alpha1))/(T1*cos(alpha2)), or cos(alpha1)-G*cos(alpha2) = 0          .....(i)\n",
"//Also, alpha1+alpha2 = theta, or alpha1+alpha2-theta = 0                                           .....(ii)\n",
"function y=f(x)\n",
"    alpha1=x(1)\n",
"    alpha2=x(2)\n",
"    y(1)=cos(alpha1)-G*cos(alpha2)\n",
"    y(2)=alpha1+alpha2-theta*%pi/180\n",
"endfunction\n",
"z=fsolve([1,1],f)\n",
"alpha1=z(1)*180/%pi //Spiral angle for slower wheel, degrees\n",
"alpha2=z(2)*180/%pi //Spiral angle for faster wheel, degrees\n",
"//Number of teeth on each wheel:\n",
"//Calculating the diameters of the wheels\n",
"d1=L, d2 = d1 //mm\n",
"//Calculating the number of teeth on wheel 1\n",
"T1=d1*%pi*cosd(alpha1)/pN\n",
"//Calculating the number of teeth on wheel 2\n",
"T2=T1/G\n",
"//Calculating the efficiency of the drive\n",
"eta=(cosd(alpha2+phi)*cosd(alpha1))/(cosd(alpha1-phi)*cosd(alpha2))*100 //%\n",
"//Calculating the maximum efficiency\n",
"etamax=(cosd(theta+phi)+1)/(cosd(theta-phi)+1)*100 //%\n",
"//Results:\n",
"printf('\n\n Spiral angle for slower wheel, alpha1 = %.2f degrees.\n\n',alpha1)\n",
"printf(' Spiral angle for faster wheel, alpha2 = %.2f degrees.\n\n',alpha2)\n",
"printf(' Number of teeth on wheel 1, T1 = %d.\n\n',T1+1)\n",
"printf(' Number of teeth on wheel 2, T2 = %d.\n\n',T2+1)\n",
"printf(' Efficiency of the drive, eta = %d %c.\n\n',eta+1,'%')\n",
"printf(' Maximum efficiency, etamax = %.1f %c.\n\n',etamax,'%')"
   ]
   }
,
{
		   "cell_type": "markdown",
		   "metadata": {},
		   "source": [
			"## Example 12.1: To_find_total_load.sce"
		   ]
		  },
  {
"cell_type": "code",
	   "execution_count": null,
	   "metadata": {
	    "collapsed": true
	   },
	   "outputs": [],
"source": [
"//To find total load\n",
"clc\n",
"//Given:\n",
"P=120*1000 //W\n",
"d=250/1000, r=d/2 //m\n",
"N=650 //rpm\n",
"phi=20 //degrees\n",
"//Solution:\n",
"//Calculating the angular speed of the gear\n",
"omega=2*%pi*N/60 //rad/s\n",
"//Calculating the torque transmitted\n",
"T=P/omega //N-m\n",
"//Calculating the tangential load on the pinion\n",
"FT=T/r //N\n",
"//Calculating the total load due to power transmitted\n",
"F=FT/(cosd(phi)*1000) //kN\n",
"//Results:\n",
"printf('\n\n Total load due to power transmitted, F = %.3f kN.\n\n',F)"
   ]
   }
,
{
		   "cell_type": "markdown",
		   "metadata": {},
		   "source": [
			"## Example 12.2: To_find_addendum.sce"
		   ]
		  },
  {
"cell_type": "code",
	   "execution_count": null,
	   "metadata": {
	    "collapsed": true
	   },
	   "outputs": [],
"source": [
"//To find addendum\n",
"clc\n",
"//Given:\n",
"T=40, t=T\n",
"phi=20 //degrees\n",
"m=6 //mm\n",
"//Solution:\n",
"//Calculating the circular pitch\n",
"pc=%pi*m //mm\n",
"//Calculating the length of arc of contact\n",
"Lac=1.75*pc //Length of arc of contact, mm\n",
"//Calculating the length of path of contact\n",
"Lpc=Lac*cosd(phi) //Length of path of contact, mm\n",
"//Calculating the pitch circle radii of each wheel\n",
"R=m*T/2 //mm\n",
"r=R //mm\n",
"//Calculating the radius of the addendum circle of each wheel\n",
"RA=sqrt(R^2*(cosd(phi))^2+(Lpc/2+R*sind(phi))^2) //mm\n",
"//Calculating the addendum of the wheel\n",
"Ad=RA-R //Addendum of the wheel, mm\n",
"//Results:\n",
"printf('\n\n Addendum of the wheel = %.2f mm.\n\n',Ad)"
   ]
   }
,
{
		   "cell_type": "markdown",
		   "metadata": {},
		   "source": [
			"## Example 12.3: To_find_length_of_path_of_contact.sce"
		   ]
		  },
  {
"cell_type": "code",
	   "execution_count": null,
	   "metadata": {
	    "collapsed": true
	   },
	   "outputs": [],
"source": [
"//To find length of path of contact\n",
"clc\n",
"//Given:\n",
"t=30, T=80\n",
"phi=20 //degrees\n",
"m=12 //mm\n",
"Addendum=10 //mm\n",
"//Solution:\n",
"//Length of path of contact:\n",
"//Calculating the pitch circle radius of pinion\n",
"r=m*t/2 //mm\n",
"//Calculating the pitch circle radius of gear\n",
"R=m*T/2 //mm\n",
"//Calculating the radius of addendum circle of pinion\n",
"rA=r+Addendum //mm\n",
"//Calculating the radius of addendum circle of gear\n",
"RA=R+Addendum //mm\n",
"//Calculating the length of path of approach\n",
"//Refer Fig. 12.11\n",
"KP=sqrt(RA^2-R^2*(cosd(phi))^2)-R*sind(phi) //mm\n",
"//Calculating the length of path of recess\n",
"PL=sqrt(rA^2-r^2*(cosd(phi))^2)-r*sind(phi) //mm\n",
"//Calculating the length of path of contact\n",
"KL=KP+PL //mm\n",
"//Calculating the length of arc of contact\n",
"Lac=KL/cosd(phi) //Length of arc of contact, mm\n",
"//Contact ratio:\n",
"//Calculating the circular pitch\n",
"Pc=%pi*m //mm\n",
"//Calculating the contact ratio\n",
"CR=Lac/pc //Contact ratio\n",
"//Results:\n",
"printf('\n\n Length of path of contact, KL = %.1f mm.\n\n',KL)\n",
"printf(' Length of arc of contact = %.2f mm.\n\n',Lac)\n",
"printf(' Contact ratio = %d.\n\n',CR)"
   ]
   }
,
{
		   "cell_type": "markdown",
		   "metadata": {},
		   "source": [
			"## Example 12.4: To_find_angle_and_maximum_velocity.sce"
		   ]
		  },
  {
"cell_type": "code",
	   "execution_count": null,
	   "metadata": {
	    "collapsed": true
	   },
	   "outputs": [],
"source": [
"//To find angle and maximum velocity\n",
"clc\n",
"//Given:\n",
"phi=20 //degrees\n",
"t=20, G=2\n",
"m=5 //mm\n",
"v=1.2 //m/s\n",
"addendum=1*m //mm\n",
"//Solution:\n",
"//Angle turned through by pinion when one pair of teeth is in mesh:\n",
"//Calculating the pitch circle radius of pinion\n",
"r=m*t/2 //mm\n",
"//Calculating the pitch circle radius of wheel\n",
"R=m*G*t/2 //mm\n",
"//Calculating the radius of addendum circle of pinion\n",
"rA=r+addendum //mm\n",
"//Calculating the radius of addendum circle of wheel\n",
"RA=R+addendum //mm\n",
"//Calculating the length of path of approach\n",
"KP=sqrt(RA^2-R^2*(cosd(phi))^2)-R*sind(phi) //mm\n",
"//Calculating the length of path of recess\n",
"PL=sqrt(rA^2-r^2*(cosd(phi))^2)-r*sind(phi) //mm\n",
"//Calculating the length of path of contact\n",
"KL=KP+PL //mm\n",
"//Calculating the length of arc of contact\n",
"Lac=KL/cosd(phi) //mm\n",
"//Calculating the angle turned by the pinion\n",
"angle=Lac*360/(2*%pi*r) //Angle turned by the pinion, degrees\n",
"//Maximum velocity of sliding:\n",
"//Calculating the angular speed of pinion\n",
"omega1=v*1000/r //rad/s\n",
"//Calculating the angular speed of wheel\n",
"omega2=v*1000/R //rad/s\n",
"//Calculating the maximum velocity of sliding\n",
"vS=(omega1+omega2)*KP //mm/s\n",
"//Results:\n",
"printf('\n\n Angle turned through by pinion when one pair of teeth is in mesh = %.2f degrees.\n\n',angle)\n",
"printf(' Maximum velocity of sliding, vS = %.1f mm/s.\n\n',vS)"
   ]
   }
,
{
		   "cell_type": "markdown",
		   "metadata": {},
		   "source": [
			"## Example 12.5: To_find_velocity_and_angle_turned.sce"
		   ]
		  },
  {
"cell_type": "code",
	   "execution_count": null,
	   "metadata": {
	    "collapsed": true
	   },
	   "outputs": [],
"source": [
"//To find velocity and angle turned\n",
"clc\n",
"//Given:\n",
"T=40, t=20\n",
"N1=2000 //rpm\n",
"phi=20 //degrees\n",
"addendum=5, m=5 //mm\n",
"//Solution:\n",
"//Calculating the angular velocity of the smaller gear\n",
"omega1=2*%pi*N1/60 //rad/s\n",
"//Calculating the angular velocity of the larger gear\n",
"omega2=omega1*t/T //rad/s\n",
"//Calculating the pitch circle radius of the smaller gear\n",
"r=m*t/2 //mm\n",
"//Calculating the pitch circle radius of the larger gear\n",
"R=m*T/2 //mm\n",
"//Calculating the radius of aaddendum circle of smaller gear\n",
"rA=r+addendum //mm\n",
"//Calculating the radius of addendum circle of larger gear\n",
"RA=R+addendum //mm\n",
"//Calculating the length of path of approach\n",
"KP=sqrt(RA^2-R^2*(cosd(phi))^2)-R*sind(phi) //mm\n",
"//Calculating the length of path of recess\n",
"PL=sqrt(rA^2-r^2*(cosd(phi))^2)-r*sind(phi) //mm\n",
"//Calculating the velocity of sliding at the point of engagement\n",
"vSK=(omega1+omega2)*KP //mm/s\n",
"//Calculating the velocity of sliding at the point of disengagement\n",
"vSL=(omega1+omega2)*PL //mm/s\n",
"//Angle through which the pinion turns:\n",
"//Calculating the length of path of contact\n",
"KL=KP+PL //mm\n",
"//Calculating the length of arc of contact\n",
"Lac=KL/cosd(phi) //Length of arc of contact, mm\n",
"//Calculating the circumference of pinion\n",
"C=2*%pi*r //Circumference of pinion, mm\n",
"//Calculating the angle through which the pinion turns\n",
"angle=Lac*360/C //Angle through which the pinion turns, degrees\n",
"//Results:\n",
"printf('\n\n Velocity of sliding at the point of engagement, vSK = %d mm/s.\n\n',vSK)\n",
"printf(' Since the velocity of sliding is proportional to the distance of the contact point from the pitch point, therefore the velocity of sliding at the pitch point is zero.\n\n')\n",
"printf(' Velocity of sliding at the point of disengagement, vsL = %d mm/s.\n\n',vSL)\n",
"printf(' Angle through which the pinion turns = %.2f degrees.\n\n',angle)"
   ]
   }
,
{
		   "cell_type": "markdown",
		   "metadata": {},
		   "source": [
			"## Example 12.6: To_find_teeth_angle_and_ratio.sce"
		   ]
		  },
  {
"cell_type": "code",
	   "execution_count": null,
	   "metadata": {
	    "collapsed": true
	   },
	   "outputs": [],
"source": [
"//To find teeth, angle and ratio\n",
"clc\n",
"//Given:\n",
"phi=20 //degrees\n",
"m=6, addendum=1*m //mm\n",
"t=17, T=49\n",
"//Solution:\n",
"//Number of pairs of teeth in contact:\n",
"//Calculating the pitch circle radius of pinion\n",
"r=m*t/2 //mm\n",
"//Calculating the pitch circle radius of gear\n",
"R=m*T/2 //mm\n",
"//Calculating the radius of addendum circle of pinion\n",
"rA=r+addendum //mm\n",
"//Calculating the radius of addendum circle of gear\n",
"RA=R+addendum //mm\n",
"//Calculating the length of path of approach\n",
"//Refer Fig. 12.11\n",
"KP=sqrt(RA^2-R^2*(cosd(phi))^2)-R*sind(phi) //mm\n",
"//Calculating the length of path of recess\n",
"PL=sqrt(rA^2-r^2*(cosd(phi))^2)-r*sind(phi) //mm\n",
"//Calculating the length of path of contact\n",
"KL=KP+PL //mm\n",
"//Calculating the length of arc of contact\n",
"Lac=KL/cosd(phi) //Length of arc of contact, mm\n",
"//Calculating the circular pitch\n",
"pc=%pi*m //mm\n",
"//Calculating the number of pairs of teeth in contact\n",
"n=Lac/pc //Number of pairs of teeth in contact\n",
"//Angle turned by the pinion and gear wheel when one pair of teeth is in contact:\n",
"//Calculating the angle turned through by the pinion\n",
"anglep=Lac*360/(2*%pi*r) //Angle turned through by the pinion, degrees\n",
"//Calculating the angle turned through by the wheel\n",
"angleg=Lac*360/(2*%pi*R) //Angle turned through by the gear wheel, degrees\n",
"//Ratio of sliding to rolling motion:\n",
"//At the instant when the tip of a tooth on the larger wheel is just making contact with its mating teeth\n",
"r1=((1+t/T)*KP)/r //Ratio of sliding velocity to rolling velocity\n",
"//At the instant when the tip of a tooth on a larger wheel is just leaving contact with its mating teeth\n",
"r2=((1+t/T)*PL)/r //Ratio of sliding velocity to rolling velocity\n",
"//Results:\n",
"printf('\n\n Number of pairs of teeth in contact = %d.\n\n',n+1)\n",
"printf(' Angle turned through by the pinion = %.1f degrees.\n\n',anglep)\n",
"printf(' Angle turned through by the gear wheel = %d degrees.\n\n',angleg)\n",
"printf(' At the instant when the tip of a tooth on the larger wheel is just making contact with its mating teeth, ratio of sliding velocity to rolling velocity = %.2f.\n\n',r1)\n",
"printf(' At the instant when the tip of a tooth on a larger wheel is just leaving contact with its mating teeth, ratio of sliding velocity to rolling velocity = %.3f.\n\n',r2)\n",
"printf(' Since at the pitch point, the sliding velocity is zero,, therefore the ratio of sliding velocity to rolling velocity is zero.\n\n')"
   ]
   }
,
{
		   "cell_type": "markdown",
		   "metadata": {},
		   "source": [
			"## Example 12.7: To_find_length_of_path_of_contact.sce"
		   ]
		  },
  {
"cell_type": "code",
	   "execution_count": null,
	   "metadata": {
	    "collapsed": true
	   },
	   "outputs": [],
"source": [
"//To find length of path of contact\n",
"clc\n",
"//Given:\n",
"t=18, T=72\n",
"phi=20 //degrees\n",
"m=4 //mm\n",
"addendump=8.5 //Addendum on pinion, mm\n",
"addendumg=3.5 //Addendum on gear, mm\n",
"//SOlution:\n",
"//Refer Fig. 12.12\n",
"//Calculating the pitch circle radius of the pinion\n",
"r=m*t/2 //mm\n",
"//Calculating the pitch circle radius of the gear\n",
"R=m*T/2 //mm\n",
"//Calculating the radius of addendum circle of the pinion\n",
"rA=r+addendump //mm\n",
"//Calculating the radius of addendum circle of the gear\n",
"RA=R-addendumg //mm\n",
"//Calculating the radius of the base circle of the pinion\n",
"O1M=r*cosd(phi) //mm\n",
"//Calculating the radius of the base circle of the gear\n",
"O2N=R*cosd(phi) //mm\n",
"//Calculating the length of path of approach\n",
"KP=R*sind(phi)-sqrt(RA^2-O2N^2) //mm\n",
"//Calculating the length of path of recess\n",
"PL=sqrt(rA^2-O1M^2)-r*sind(phi) //mm\n",
"//Calculating the length of the path of contact\n",
"KL=KP+PL //mm\n",
"//Results:\n",
"printf('\n\n Length of the path of contact, KL = %.2f mm.\n\n',KL)"
   ]
   }
,
{
		   "cell_type": "markdown",
		   "metadata": {},
		   "source": [
			"## Example 12.8: To_find_path_and_arc_of_contact.sce"
		   ]
		  },
  {
"cell_type": "code",
	   "execution_count": null,
	   "metadata": {
	    "collapsed": true
	   },
	   "outputs": [],
"source": [
"//To find path and arc of contact\n",
"clc\n",
"//Given:\n",
"t=20, T=40\n",
"m=10 //mm\n",
"phi=20 //degrees\n",
"//Solution:\n",
"//Addendum height for each gear wheel:\n",
"//Calculating the pitch circle radius of the smaller gear wheel\n",
"r=m*t/2 //mm\n",
"//Calculating the pitch circle radius of the larger wheel\n",
"R=m*T/2 //mm\n",
"//Calculating the radius of addendum circle for the larger gear wheel\n",
"RA=sqrt((r*sind(phi)/2+R*sind(phi))^2+R^2*(cosd(phi))^2) //mm\n",
"//Calculating the addendum height for larger gear wheel\n",
"addendumg=RA-R //mm\n",
"//Calculating the radius of addendum circle for the smaller gear wheel\n",
"rA=sqrt((R*sind(phi)/2+r*sind(phi))^2+r^2*(cosd(phi))^2) //mm\n",
"//Calculating the addendum height for smaller gear wheel\n",
"addendump=rA-r //mm\n",
"//Calculating the length of the path of contact\n",
"Lpc=(r+R)*sind(phi)/2 //Length of the path of contact, mm\n",
"//Calculating the length of the arc of contact\n",
"Lac=Lpc/cosd(phi) //Length of the arc of contact, mm\n",
"//Contact ratio:\n",
"//Calculating the circular pitch\n",
"pc=%pi*m //mm\n",
"//Calculating the contact ratio\n",
"CR=Lpc/pc //Contact ratio\n",
"//Results:\n",
"printf('\n\n Addendum height for larger gear wheel = %.1f mm.\n\n',addendumg)\n",
"printf(' Addendum height for smaller gear wheel = %.1f mm.\n\n',addendump)\n",
"printf(' Length of the path of contact = %.1f mm.\n\n',Lpc)\n",
"printf(' Length of the arc of contact = %.1f mm.\n\n',Lac)\n",
"printf(' Contact ratio = %d.\n\n',CR+1)"
   ]
   }
,
{
		   "cell_type": "markdown",
		   "metadata": {},
		   "source": [
			"## Example 12.9: To_find_number_of_teeth.sce"
		   ]
		  },
  {
"cell_type": "code",
	   "execution_count": null,
	   "metadata": {
	    "collapsed": true
	   },
	   "outputs": [],
"source": [
"//To find number of teeth\n",
"clc\n",
"//Given:\n",
"G=3\n",
"phi=20 //degrees\n",
"Aw=1 //module\n",
"//Solution:\n",
"//Calculating the minimum number of teeth for a gear ratio of 3:1\n",
"t1=(2*Aw)/(G*(sqrt(1+1/G*(1/G+2)*(sind(phi))^2)-1))\n",
"//Calculating the minimum number of teeth for equal wheel\n",
"t2=(2*Aw)/(sqrt(1+3*(sind(phi))^2)-1)\n",
"//Results:\n",
"printf('\n\n Minimum number of teeth for a gear ratio of 3:1, t = %d.\n\n',t1+1)\n",
"printf(' Minimum number of teeth for equal wheel, t = %d.\n\n',t2+1)"
   ]
   }
],
"metadata": {
		  "kernelspec": {
		   "display_name": "Scilab",
		   "language": "scilab",
		   "name": "scilab"
		  },
		  "language_info": {
		   "file_extension": ".sce",
		   "help_links": [
			{
			 "text": "MetaKernel Magics",
			 "url": "https://github.com/calysto/metakernel/blob/master/metakernel/magics/README.md"
			}
		   ],
		   "mimetype": "text/x-octave",
		   "name": "scilab",
		   "version": "0.7.1"
		  }
		 },
		 "nbformat": 4,
		 "nbformat_minor": 0
}
