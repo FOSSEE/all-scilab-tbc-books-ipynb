{
"cells": [
 {
		   "cell_type": "markdown",
	   "metadata": {},
	   "source": [
       "# Chapter 11: Belt Rope and Chain Drives"
	   ]
	},
{
		   "cell_type": "markdown",
		   "metadata": {},
		   "source": [
			"## Example 11.10: To_find_greatest_power_transmitted.sce"
		   ]
		  },
  {
"cell_type": "code",
	   "execution_count": null,
	   "metadata": {
	    "collapsed": true
	   },
	   "outputs": [],
"source": [
"//To find greatest power transmitted\n",
"clc\n",
"//Given:\n",
"theta=120*%pi/180 //radians\n",
"b=100/1000, t=6/1000 //m\n",
"rho=1000 //kg/m^3\n",
"mu=0.3\n",
"sigma=2*10^6 //N/m^2\n",
"//Solution:\n",
"//Speed of the belt for greatest power:\n",
"//Calculating the maximum tension in the belt\n",
"T=sigma*b*t //N\n",
"//Calculating the mass of the belt per metre length\n",
"l=1 //m\n",
"m=b*t*l*rho //kg/m\n",
"//Calculating the speed of the belt for greatest power\n",
"v=sqrt(T/(3*m)) //m/s\n",
"//Greatest power which the belt can transmit\n",
"//Calculating the centrifugal tension for maximum power to be transmitted\n",
"TC=T/3 //N\n",
"//Calculating the tension in the tight side of the belt\n",
"T1=T-TC //N\n",
"//Calculating the tension in the slack side of the belt\n",
"T2=T1/exp(mu*theta) //N\n",
"//Calculating the greatest power which the belt can transmit\n",
"P=(T1-T2)*v/1000 //kW\n",
"//Results:\n",
"printf('\n\n Speed of the belt for greatest power, v = %.2f m/s.\n\n',v)\n",
"printf(' Greatest power which the belt can transmit, P = %.2f kW.\n\n',P)"
   ]
   }
,
{
		   "cell_type": "markdown",
		   "metadata": {},
		   "source": [
			"## Example 11.11: To_find_torque_power_and_efficiency.sce"
		   ]
		  },
  {
"cell_type": "code",
	   "execution_count": null,
	   "metadata": {
	    "collapsed": true
	   },
	   "outputs": [],
"source": [
"//To find torque, power and efficiency\n",
"clc\n",
"//Given:\n",
"d1=1.2, r1=d1/2, d2=0.5, r2=d2/2, x=4 //m\n",
"m=0.9 //kg/m\n",
"T=2000 //N\n",
"mu=0.3\n",
"N1=200, N2=450 //rpm\n",
"//Solution:\n",
"//Calculating the velocity of the belt\n",
"v=%pi*d1*N1/60 //m/s\n",
"//Calculating the centrifugal tension\n",
"TC=m*v^2 //N\n",
"//Calculating the tension in the tight side of the belt\n",
"T1=T-TC //N\n",
"//Calculating the angle alpha for an open belt drive\n",
"alpha=asin((r1-r2)/x)*180/%pi //degrees\n",
"//Calculating the angle of lap on the smaller pulley\n",
"theta=(180-2*alpha)*%pi/180 //radians\n",
"//Calculating the tension in the slack side of the belt\n",
"T2=T1/exp(mu*theta) //N\n",
"//Calculating the torque on the shaft of larger pulley\n",
"TL=(T1-T2)*r1 //N-m\n",
"//Calculating the torque on the shaft of smaller pulley\n",
"TS=(T1-T2)*r2 //N-m\n",
"//Calculating the power transmitted\n",
"P=(T1-T2)*v/1000 //kW\n",
"//Power lost in friction:\n",
"//Calculating the input power\n",
"P1=TL*2*%pi*N1/(60*1000) //kW\n",
"//Calculating the output power\n",
"P2=TS*2*%pi*N2/(60*1000) //kW\n",
"//Calculating the power lost in friction\n",
"Pf=P1-P2 //Power lost in friction, kW\n",
"//Calculating the efficiency of the drive\n",
"eta=P2/P1*100 //%\n",
"//Results:\n",
"printf('\n\n Torque on the shaft of larger pulley, TL = %.1f N-m.\n\n',TL)\n",
"printf(' Torque on the shaft of smaller pulley, TS = %d N-m.\n\n',TS)\n",
"printf(' Power transmitted, P = %.2f kW.\n\n',P)\n",
"printf(' Power lost in friction = %.2f kW.\n\n',Pf)\n",
"printf(' Efficiency of the drive, eta = %.1f %c.\n\n',eta,'%')"
   ]
   }
,
{
		   "cell_type": "markdown",
		   "metadata": {},
		   "source": [
			"## Example 11.12: To_find_power_transmitted.sce"
		   ]
		  },
  {
"cell_type": "code",
	   "execution_count": null,
	   "metadata": {
	    "collapsed": true
	   },
	   "outputs": [],
"source": [
"//To find power transmitted\n",
"clc\n",
"//Given:\n",
"T0=2000 //N\n",
"mu0=0.3\n",
"theta=150*%pi/180 //radians\n",
"r2=200/1000, d2=2*r2 //m\n",
"N2=500//rpm\n",
"//Solution:\n",
"//Calculating the velocity of the belt\n",
"v=%pi*d2*N2/60 //m/s\n",
"//Calculating the tensions in the belt\n",
"//Initial tension, T0 = (T1+T2)/2, or T1+T2 = 2*T0\n",
"//Ratio of the tensions in the belt, log(T1/T2) = mu*theta, or T1-T2*exp(mu*theta) = 0\n",
"A=[1 1; 1 -exp(mu*theta)]\n",
"B=[2*T0; 0]\n",
"V=A \ B\n",
"T1=V(1) //N\n",
"T2=V(2) //N\n",
"//Calculating the power transmitted\n",
"P=(T1-T2)*v/1000 //kW\n",
"//Results:\n",
"printf('\n\n Power transmitted, P = %.1f kW.\n\n',P)"
   ]
   }
,
{
		   "cell_type": "markdown",
		   "metadata": {},
		   "source": [
			"## Example 11.13: To_find_power_trnasmitted.sce"
		   ]
		  },
  {
"cell_type": "code",
	   "execution_count": null,
	   "metadata": {
	    "collapsed": true
	   },
	   "outputs": [],
"source": [
"//To find power trnasmitted\n",
"clc\n",
"//Given:\n",
"x=4.8, d1=1.5, d2=1 //m\n",
"T0=3*1000 //N\n",
"m=1.5 //kg/m\n",
"mu=0.3\n",
"N2=400 //rpm\n",
"//Solution:\n",
"//Calculating the velocity of the belt\n",
"v=%pi*d2*N2/60 //m/s\n",
"//Calculating the centrifugal tension\n",
"TC=m*v^2 //N\n",
"//Calculating the angle alpha\n",
"alpha=asin((d1-d2)/(2*x))*180/%pi //degrees\n",
"//Calculating the angle of lap for the smaller pulley\n",
"theta=(180-2*alpha)*%pi/180 //radians\n",
"//Calculating the tensions in the belt\n",
"//Initial tension, T0 = (T1+T2+2*TC)/2, or T1+T2 = 2*(T0-TC)\n",
"//Ratio of tensions in the belt, log(T1/T2) = mu*theta, or T1-T2*exp(mu*theta) = 0\n",
"A=[1 1; 1 -exp(mu*theta)]\n",
"B=[2*(T0-TC); 0]\n",
"V=A \ B\n",
"T1=V(1) //N\n",
"T2=V(2) //N\n",
"//Calculating the power transmitted\n",
"P=(T1-T2)*v/1000 //kW\n",
"//Results:\n",
"printf('\n\n Power transmitted, P = %.1f kW.\n\n',P)"
   ]
   }
,
{
		   "cell_type": "markdown",
		   "metadata": {},
		   "source": [
			"## Example 11.14: To_find_diameter_power_and_tension.sce"
		   ]
		  },
  {
"cell_type": "code",
	   "execution_count": null,
	   "metadata": {
	    "collapsed": true
	   },
	   "outputs": [],
"source": [
"//To find diameter, power and tension\n",
"clc\n",
"//Given:\n",
"x=1.2, d2=400/1000, t=5/1000, b=80/1000 //m\n",
"N1=350, N2=140 //rpm\n",
"mu=0.3\n",
"sigma=1.4*10^6 //N/m^2\n",
"//Solution:\n",
"//Calculating the diameter of the driving pulley\n",
"d1=d2*(N2/N1) //m\n",
"//Maximum power transmitted by the belting:\n",
"//Refer Fig. 11.18\n",
"//Calculating the angle alpha\n",
"alpha=asin((d2-d1)/(2*x))*180/%pi //degrees\n",
"//Calculating the angle of contact of the belt on the driving pulley\n",
"theta=(180-2*alpha)*%pi/180 //radians\n",
"//Calculating the maximum tension to which the belt can be subjected\n",
"T1=sigma*b*t //N\n",
"//Calculating the tension in the slack side of the belt\n",
"T2=T1/exp(mu*theta) //N\n",
"//Calculating the velocity of the belt\n",
"v=%pi*d1*N1/60 //m/s\n",
"//Calculating the power transmitted\n",
"P=(T1-T2)*v/1000 //kW\n",
"//Calculating the required initial belt tension\n",
"T0=(T1+T2)/2 //N\n",
"//Results:\n",
"printf('\n\n Diameter of the driving pulley, d1 = %.2f m.\n\n',d1)\n",
"printf(' Maximum power transmitted by the belting, P = %.3f kW.\n\n',P)\n",
"printf(' Required initial belt tension, T0 = %.1f N.\n\n',T0)"
   ]
   }
,
{
		   "cell_type": "markdown",
		   "metadata": {},
		   "source": [
			"## Example 11.15: To_find_width_tension_and_length.sce"
		   ]
		  },
  {
"cell_type": "code",
	   "execution_count": null,
	   "metadata": {
	    "collapsed": true
	   },
	   "outputs": [],
"source": [
"//To find width, tension and length\n",
"clc\n",
"//Given:\n",
"d2=240/1000, d1=600/1000, x=3 //m\n",
"P=4*1000 //W\n",
"N2=300 //rpm\n",
"mu=0.3\n",
"T1s=10 //Safe working tension, N/mm width\n",
"//Solution:\n",
"//Minimum width of the belt:\n",
"//Calculating the velocity of the belt\n",
"v=%pi*d2*N2/60 //m/s\n",
"//Calculating the angle alpha for an open belt drive\n",
"alpha=asin((d1-d2)/(2*x))*180/%pi //degrees\n",
"//Calculating the angle of lap on the smaller pulley\n",
"theta=(180-2*alpha)*%pi/180 //radians\n",
"//Calculating the tensions in the belt\n",
"//Power transmitted, P = (T1-T2)*v, or T1-T2 = P/v\n",
"//Ratio of tensions, log(T1/T2) = mu*theta, or T1-T2*exp(mu*theta) = 0\n",
"A=[1 -1; 1 -exp(mu*theta)]\n",
"B=[P/v; 0]\n",
"V=A \ B\n",
"T1=V(1) //N\n",
"T2=V(2) //N\n",
"//Calculating the minimum width of the belt\n",
"b=T1/T1s //mm\n",
"//Calculating the initial belt tension\n",
"T0=(T1+T2)/2 //N\n",
"//Calculating the length of the belt required\n",
"L=%pi/2*(d1+d2)+2*x+(d1-d2)^2/(4*x) //m\n",
"//Results:\n",
"printf('\n\n Minimum width of the belt, b = %.1f mm.\n\n',b)\n",
"printf(' Initial belt tension, T0 = %.1f N.\n\n',T0)\n",
"printf(' Length of the belt required, L = %.2f m.\n\n',L)"
   ]
   }
,
{
		   "cell_type": "markdown",
		   "metadata": {},
		   "source": [
			"## Example 11.16: To_find_power_transmitted.sce"
		   ]
		  },
  {
"cell_type": "code",
	   "execution_count": null,
	   "metadata": {
	    "collapsed": true
	   },
	   "outputs": [],
"source": [
"//To find power transmitted\n",
"clc\n",
"//Given:\n",
"d1=400/1000 ,d2=250/1000, x=2, mu=0.4 //m\n",
"T=1200 //N\n",
"v=10 //m/s\n",
"//Solution:\n",
"//Power transmitted:\n",
"//Calculating the angle alpha for an open belt drive\n",
"alpha=asin((d1-d2)/(2*x))*180/%pi //degrees\n",
"//Calculating the angle of contact\n",
"theta=(180-2*alpha)*%pi/180 //radians\n",
"//Calculating the tension in the tight side of the belt\n",
"T1=T //Neglecting centrifugal tension, N\n",
"//Calculating the tension in the slack side of the belt\n",
"T2=T1/exp(mu*theta) //N\n",
"//Calculating the power transmitted\n",
"P=(T1-T2)*v/1000 //kW\n",
"//Results:\n",
"printf('\n\n Power transmitted, P = %.2f kW.\n\n',P)\n",
"//Power transmitted when initial tension is increased by 10%:\n",
"//Calculating the initial tension\n",
"T0=(T1+T2)/2 //N\n",
"//Calculating the increased initial tension\n",
"T0dash=T0+10/100*T0 //N\n",
"//Calculating the corresponding tensions in the belt\n",
"//We have, T0dash = (T1+T2)/2, or T1+T2 = 2*T0dash\n",
"//Ratio of the tensions, log(T1/T2) = mu*theta, or T1-T2*exp(mu*theta) = 0\n",
"A=[1 1; 1 -exp(mu*theta)]\n",
"B=[2*T0dash; 0]\n",
"V=A \ B\n",
"T1=V(1) //N\n",
"T2=V(2) //N\n",
"//Calculating the power transmitted\n",
"P1=(T1-T2)*v/1000 //kW\n",
"//Power transmitted when coefficient of friction is increased by 10%:\n",
"//Calculating the increased coefficient of friction\n",
"mudash=mu+10/100*mu\n",
"//Calculating the corresponding tensions in the belt\n",
"//Ratio of the tensions, log(T1/T2) = mudash*theta, or T1-T2*exp(mudash*theta) = 0\n",
"//Initial tension, T0 = (T1+T2)/2, or T1+T2 = 2*T0\n",
"A=[1 -exp(mudash*theta); 1 1]\n",
"B=[0; 2*T0]\n",
"V=A \ B\n",
"T1=V(1) //N\n",
"T2=V(2) //N\n",
"//Calculating the power transmitted\n",
"P2=(T1-T2)*v/1000 //kW\n",
"//Results:\n",
"if P1>P2 then\n",
"    printf(' Since the power transmitted by increasing the initial tension is more, therefore in order to increase the power transmitted we shall adopt the method of increasing the initial tension.\n\n')\n",
"else\n",
"    printf(' Since the power transmitted by increasing the coefficient of friction is more, therefore in order to increase the power transmitted we shall adopt the method of increasing the coefficient of friction.\n\n')\n",
"end\n",
"//Percentage increase in power:\\n",
"//Calculating the percentage increase in power when the initial tension is increased\n",
"I1=(P1-P)/P*100 //Percentage increase in power when the initial tension is increased, %\n",
"//Calculating the percentage increase in power when coefficient of friction is increased\n",
"I2=(P2-P)/P*100 //Percentage increase in power when coefficient of friction is increased, %\n",
"//Results:\n",
"printf(' Percentage increase in power when the initial tension is increased = %.2f %c.\n\n',I1,'%')\n",
"printf(' Percentage increase in power when coefficient of friction is increased = %.1f %c.\n\n',I2,'%')"
   ]
   }
,
{
		   "cell_type": "markdown",
		   "metadata": {},
		   "source": [
			"## Example 11.17: To_find_power_and_shaft_speed.sce"
		   ]
		  },
  {
"cell_type": "code",
	   "execution_count": null,
	   "metadata": {
	    "collapsed": true
	   },
	   "outputs": [],
"source": [
"//To find power and shaft speed\n",
"clc\n",
"//Given:\n",
"funcprot(0)\n",
"beta=30/2 //degrees\n",
"alpha=750*10^-6 //mm^2\n",
"mu=0.12\n",
"rho=1.2*1000 //kg/m^3\n",
"sigma=7*10^6 //N/m^2\n",
"d=300/1000 //m\n",
"N=1500 //rpm\n",
"//Solution:\n",
"//Power transmitted:\n",
"//Calculating the velocity of the belt\n",
"v=%pi*d*N/60 //m/s\n",
"//Calculating the mass of the belt per metre length\n",
"l=1 //m\n",
"m=alpha*l*rho //kg/m\n",
"//Calculating the centrifugal tension\n",
"TC=m*v^2 //N\n",
"//Calculating the maximum tension in the belt\n",
"T=sigma*alpha //N\n",
"//Calculating the tension in the tight side of the belt\n",
"T1=T-TC //N\n",
"//Calculating the tension in the slack side of the belt\n",
"theta=%pi //Angle of contact, radians\n",
"T2=T1/exp(mu*theta*(1/sind(beta))) //N\n",
"//Calculating the power transmitted\n",
"P=(T1-T2)*v*2/1000 //kW\n",
"//Shaft speed:\n",
"//Calculating the belt speed for maximum power transmitted\n",
"v1=sqrt(T/(3*m)) //m/s\n",
"//Calculating the shaft speed for maximum power transmitted\n",
"N1=v1*60/(%pi*d) //rpm\n",
"//Results:\n",
"printf('\n\n Power transmitted, P = %.3f kW.\n\n',P)\n",
"printf(' Shaft speed at which the power transmitted would be maximum, N1 = %d rpm.\n\n',N1)"
   ]
   }
,
{
		   "cell_type": "markdown",
		   "metadata": {},
		   "source": [
			"## Example 11.18: To_find_maximum_power_transmitted.sce"
		   ]
		  },
  {
"cell_type": "code",
	   "execution_count": null,
	   "metadata": {
	    "collapsed": true
	   },
	   "outputs": [],
"source": [
"//To find maximum power transmitted\n",
"clc\n",
"//Given:\n",
"funcprot(0)\n",
"beta=30/2 //degrees\n",
"t=20/1000, b=20/1000 //m\n",
"m=0.35 //kg/m\n",
"sigma=1.4*10^6 //N/m^2\n",
"theta=140*%pi/180 //radians\n",
"mu=0.15\n",
"//Solution:\n",
"//Calculating the maximum tension in the belt\n",
"T=sigma*b*t //N\n",
"//Calculating the velocity of the belt for maximum power to be transmitted\n",
"v=sqrt(T/(3*m)) //m/s\n",
"//Calculating the centrifugal tension\n",
"TC=T/3 //N\n",
"//Calculating the tension in the tight side of the belt\n",
"T1=T-TC //N\n",
"//Calculating the tension in the slack side of the belt\n",
"T2=T1/exp(mu*theta*(1/sind(beta))) //N\n",
"//Calculating the maximum power transmitted\n",
"P=(T1-T2)*v/1000 //kW\n",
"//Results:\n",
"printf('\n\n Maximum power transmitted, P = %.2f kW.\n\n',P)"
   ]
   }
,
{
		   "cell_type": "markdown",
		   "metadata": {},
		   "source": [
			"## Example 11.19: To_find_number_of_V_belts.sce"
		   ]
		  },
  {
"cell_type": "code",
	   "execution_count": null,
	   "metadata": {
	    "collapsed": true
	   },
	   "outputs": [],
"source": [
"//To find number of V-belts\n",
"clc\n",
"//Given:\n",
"P=90 //kW\n",
"N2=250, N1=750 //rpm\n",
"d2=1, x=1.75 //m\n",
"v=1600/60 //m/s\n",
"a=375*10^-6 //m^2\n",
"rho=1000 //kg/m^3\n",
"sigma=2.5*10^6 //N/m^2\n",
"beta=35/2 //degrees\n",
"mu=0.25\n",
"//Solution:\n",
"//Calculating the diameter of the pulley on the motor shaft\n",
"d1=d2*(N2/N1) //m\n",
"//Calculating the mass of the belt per metre length\n",
"l=1 //m\n",
"m=a*l*rho //kg/m\n",
"//Calculating the centrifugal tension\n",
"TC=m*v^2 //N\n",
"//Calculating the maximum tension in the belt\n",
"T=sigma*a //N\n",
"//Calculating the tension in the tight side of the belt\n",
"T1=T-TC //N\n",
"//Refer Fig. 11.21\n",
"//Calculating the angle alpha\n",
"alpha=asin((d2-d1)/(2*x))*180/%pi //degrees\n",
"//Calculating the angle of lap on smaller pulley\n",
"theta=(180-2*alpha)*%pi/180 //radians\n",
"//Calculating the tension in the slack side of the belt\n",
"T2=T1/exp(mu*theta*(1/sind(beta))) //N\n",
"//Number of V-belts:\n",
"//Calculating the power transmitted per belt\n",
"P1=(T1-T2)*v/1000 //Power transmitted per belt, kW\n",
"//Calculating the number of V-belts\n",
"n=P/P1 //Number of V-belts\n",
"//Calculating the length each of belt for an open belt drive\n",
"L=%pi/2*(d2+d1)+2*x+(d2-d1)^2/(4*x) //m\n",
"//Results:\n",
"printf('\n\n Number of V-belts = %d.\n\n',n+1)\n",
"printf(' Length of each belt, L = %.3f m.\n\n',L)"
   ]
   }
,
{
		   "cell_type": "markdown",
		   "metadata": {},
		   "source": [
			"## Example 11.1: To_find_speed_of_shaft.sce"
		   ]
		  },
  {
"cell_type": "code",
	   "execution_count": null,
	   "metadata": {
	    "collapsed": true
	   },
	   "outputs": [],
"source": [
"//To find speed of shaft\n",
"clc\n",
"//Given:\n",
"N1=150 //rpm\n",
"d1=750, d2=450, d3=900, d4=150 //mm\n",
"//Solution:\n",
"//Calculating the speed of the dynamo shaft when there is no slip\n",
"N41=N1*(d1*d3)/(d2*d4) //rpm\n",
"//Calculating the speed of the dynamo shaft whne there is a slip of 2% at each drive\n",
"s1=2, s2=2 //%\n",
"N42=N1*(d1*d3)/(d2*d4)*(1-s1/100)*(1-s2/100) //rpm\n",
"//Results:\n",
"printf('\n\n Speed of the dynamo shaft when there is no slip, N4 = %d rpm.\n\n',N41)\n",
"printf(' Speed of the dynamo shaft when there is a slip of 2%c at each drive, N4 = %d rpm.\n\n','%',N42)"
   ]
   }
,
{
		   "cell_type": "markdown",
		   "metadata": {},
		   "source": [
			"## Example 11.20: To_find_number_of_ropes_required.sce"
		   ]
		  },
  {
"cell_type": "code",
	   "execution_count": null,
	   "metadata": {
	    "collapsed": true
	   },
	   "outputs": [],
"source": [
"//To find number of ropes required\n",
"clc\n",
"//Given:\n",
"P=600 //kW\n",
"d=4 //m\n",
"N=90 //rpm\n",
"theta=160*%pi/180 //radians\n",
"funcprot(0)\n",
"beta=45/2 //degrees\n",
"mu=0.28\n",
"m=1.5 //kg/m\n",
"T=2400 //N\n",
"//Solution:\n",
"//Calculating the velocity of the rope\n",
"v=%pi*d*N/60 //m/s\n",
"//Calculating the centrifugal tension\n",
"TC=m*v^2 //N\n",
"//Calculating the tension in the tight side of the rope\n",
"T1=T-TC //N\n",
"//Calculating the tension in the slack side of the belt\n",
"T2=T1/exp(mu*theta*(1/sind(beta))) //N\n",
"//Calculating the power transmitted per rope\n",
"P1=(T1-T2)*v/1000 //Power transmitted per rope, kW\n",
"//Calculating the number of ropes\n",
"n=P/P1 //Number of ropes\n",
"//Results:\n",
"printf('\n\n Number of ropes required = %d.\n\n',n+1)"
   ]
   }
,
{
		   "cell_type": "markdown",
		   "metadata": {},
		   "source": [
			"## Example 11.21: To_find_speed_of_pulley.sce"
		   ]
		  },
  {
"cell_type": "code",
	   "execution_count": null,
	   "metadata": {
	    "collapsed": true
	   },
	   "outputs": [],
"source": [
"//To find speed of pulley\n",
"clc\n",
"//Given:\n",
"d=3.6 //m\n",
"n=15 //Number of grooves\n",
"funcprot(0)\n",
"beta=45/2 //degrees\n",
"theta=170*%pi/180 //radians\n",
"mu=0.28\n",
"T=960 //N\n",
"m=1.5 //kg/m\n",
"//Solution:\n",
"//Speed of the pulley:\n",
"//Calculating the velocity of the rope\n",
"v=sqrt(T/(3*m)) //m/s\n",
"//Calculating the speed of the pulley\n",
"N=v*60/(%pi*d) //rpm\n",
"//Power transmitted\n",
"//Calculating the centrifugal tension for maximum power\n",
"TC=T/3 //N\n",
"//Calculating the tension in the tight side of the rope\n",
"T1=T-TC //N\n",
"//Calculating the tension in the slack side of the rope\n",
"T2=T1/exp(mu*theta*(1/sind(beta))) //N\n",
"//Calculating the power transmitted per rope\n",
"P1=(T1-T2)*v/1000 //Power transmitted per rope, kW\n",
"//Calculating the total power transmitted\n",
"P=P1*n //Total power transmitted, kW\n",
"//Results:\n",
"printf('\n\n Speed of the pulley for maximum power, N = %.1f rpm.\n\n',N)\n",
"printf(' Power transmitted = %.2f kW.\n\n',P)"
   ]
   }
,
{
		   "cell_type": "markdown",
		   "metadata": {},
		   "source": [
			"## Example 11.22: To_find_initial_tension_and_diameter.sce"
		   ]
		  },
  {
"cell_type": "code",
	   "execution_count": null,
	   "metadata": {
	    "collapsed": true
	   },
	   "outputs": [],
"source": [
"//To find initial tension and diameter\n",
"clc\n",
"//Given:\n",
"PT=24 //kW\n",
"d=400/1000 //m\n",
"N=110 //rpm\n",
"funcprot(0)\n",
"beta=45/2 //degrees\n",
"theta=160*%pi/180 //radians\n",
"mu=0.28\n",
"n=10\n",
"//Solution:\n",
"//Initial tension:\n",
"//Calculating the power transmitted per rope\n",
"P=PT/n*1000 //W\n",
"//Calculating the velocity of the rope\n",
"v=%pi*d*N/60 //m/s\n",
"//Calculating the tensions in the rope\n",
"//Power transmitted, P = (T1-T2)*v, or T1-T2 = P/v\n",
"//Ratio of tensions, log(T1/T2) = mu*theta*(1/sind(beta)), or T1-T2*exp(mu*theta*(1/sind(beta))) = 0\n",
"A=[1 -1; 1 -exp(mu*theta*(1/sind(beta)))]\n",
"B=[P/v; 0]\n",
"V=A \ B\n",
"T1=V(1) //N\n",
"T2=V(2) //N\n",
"//Calculating the initial tension in each rope\n",
"T0=(T1+T2)/2 //N\n",
"//Diameter of each rope:\n",
"//Calculating the girth of rope\n",
"C=sqrt(T1/(122*10^3-53*v^2))*1000 //mm\n",
"//Calculating the diameter of each rope\n",
"d1=C/%pi //mm\n",
"//Results:\n",
"printf('\n\n Initial tension, T0 = %.2f N.\n\n',T0)\n",
"printf(' Diameter of each rope, d1 = %.2f mm.\n\n',d1)"
   ]
   }
,
{
		   "cell_type": "markdown",
		   "metadata": {},
		   "source": [
			"## Example 11.23: To_find_pitch_and_length_of_chain.sce"
		   ]
		  },
  {
"cell_type": "code",
	   "execution_count": null,
	   "metadata": {
	    "collapsed": true
	   },
	   "outputs": [],
"source": [
"//To find pitch and length of chain\n",
"clc\n",
"//Given:\n",
"N1=240, N2=120 //rpm\n",
"T1=20\n",
"d2=600/1000, r2=d2/2, x=800/1000 //m\n",
"//SOlution:\n",
"//Calculating the number of teeth on the drive sprocket\n",
"T2=T1*(N1/N2)\n",
"//Calculating the pitch of the chain\n",
"p=r2*2*sind(180/T2)*1000 //mm\n",
"//Length of the chain:\n",
"m=x*1000/p\n",
"//Calculating the multiplying factor\n",
"K=(T1+T2)/2+2*m+(1/sind(180/T1)-1/sind(180/T2))^2/(4*m)\n",
"//Calculating the length of the chain\n",
"L=p*K/1000 //m\n",
"//Results:\n",
"printf('\n\n Number of teeth on the driven sprocket, T2 = %d.\n\n',T2)\n",
"printf(' Pitch of the chain, p = %.1f mm.\n\n',p)\n",
"printf(' Length of the chain, L = %.4f m.\n\n',L)"
   ]
   }
,
{
		   "cell_type": "markdown",
		   "metadata": {},
		   "source": [
			"## Example 11.2: To_find_speed_lost.sce"
		   ]
		  },
  {
"cell_type": "code",
	   "execution_count": null,
	   "metadata": {
	    "collapsed": true
	   },
	   "outputs": [],
"source": [
"//To find speed lost\n",
"clc\n",
"//Given:\n",
"d1=1, d2=2.25 //m\n",
"N1=200 //rpm\n",
"sigma1=1.4*10^6, sigma2=0.5*10^6, E=100*10^6 //N/m^2\n",
"//Solution:\n",
"//Calculating the speed of the driven pulley\n",
"N21=N1*(d1/d2) //rpm\n",
"//Calculating the speed of the shaft considering creep\n",
"N22=N1*(d1/d2)*(E+sqrt(sigma2))/(E+sqrt(sigma1)) //rpm\n",
"//Calculating the speed lost by the driven pulley due to creep\n",
"Nl=N21-N22 //Speed lost by the driven pulley due to creep, rpm\n",
"//Results:\n",
"printf('\n\n Speed lost by the driven pulley due to creep = %.4f rpm.\n\n',Nl)"
   ]
   }
,
{
		   "cell_type": "markdown",
		   "metadata": {},
		   "source": [
			"## Example 11.3: To_find_radii_of_stepped_pulleys.sce"
		   ]
		  },
  {
"cell_type": "code",
	   "execution_count": null,
	   "metadata": {
	    "collapsed": true
	   },
	   "outputs": [],
"source": [
"//To find radii of stepped pulleys\n",
"clc\n",
"//Given:\n",
"N1=160, N3=N1, N5=N3, N2=60, N4=80, N6=100 //rpm\n",
"x=720, r1=40 //mm\n",
"//Solution:\n",
"//For a crossed belt:\n",
"//Calcluating the radii of pulleys 2, 3, 4, 5, and 6\n",
"r2=r1*(N1/N2) //mm\n",
"//For pulleys 3 and 4, r4 = r3*(N3/N4), or r3*(N3/N4)-r4 = 0\n",
"//For a crossed belt drive, r3+r4 = r1+r2\n",
"A=[N3/N4 -1; 1 1]\n",
"B=[0; r1+r2]\n",
"V=A \ B\n",
"r3=V(1) //mm\n",
"r4=V(2) //mm\n",
"//For pulleys 5 and 6, r6 = r5*(N5/N6), or r5*(N5/N6)-r6 = 0\n",
"//For a crossed belt drive, r5+r6 = r1+r2\n",
"A=[N5/N6 -1; 1 1]\n",
"B=[0; r1+r2]\n",
"V=A \ B\n",
"r5=V(1) //mm\n",
"r6=V(2) //mm\n",
"//Results:\n",
"printf('\n\n For a crossed belt,\n r2 = %.1fmm;\n',r2)\n",
"printf(' r3 = %.1f mm;\n',r3)\n",
"printf(' r4 = %.1f mm;\n',r4)\n",
"printf(' r5 = %.1f mm;\n',r5)\n",
"printf(' r6 = %.1f mm.\n\n',r6)\n",
"//For an open belt:\n",
"//Calcluating the radii of pulleys 2, 3, 4, 5, and 6\n",
"r2=r1*(N1/N2) //mm\n",
"//Calculating the length of belt for an open belt drive\n",
"L=%pi*(r1+r2)+(r2-r1)^2/x+2*x //mm\n",
"//For pulleys 3 and 4, r4 = r3*(N3/N4), or r3*(N3/N4)-r4 = 0\n",
"//Since L is constant, for pulleys 3 and 4, %pi*(r3+r4)+(r4-r3)^2/x+2*x-L = 0\n",
"funcprot(0)\n",
"function y=f(a)\n",
"    r3=a(1)\n",
"    r4=a(2)\n",
"    y(1)=r3*(N3/N4)-r4\n",
"    y(2)=%pi*(r3+r4)+(r4-r3)^2/x+2*x-L\n",
"endfunction\n",
"z=fsolve([1,1],f)\n",
"r3=z(1) //mm\n",
"r4=z(2) //mm\n",
"//For pulleys 5 and 6, r6 = r5*(N5/N6), or r5*(N5/N6)-r6 = 0\n",
"//Since L is constant, for pulleys 5 and 6, %pi*(r5+r6)+(r6-r5)^2/x+2*x-L = 0\n",
"function y=f(a)\n",
"    r5=a(1)\n",
"    r6=a(2)\n",
"    y(1)=r5*(N5/N6)-r6\n",
"    y(2)=%pi*(r5+r6)+(r6-r5)^2/x+2*x-L\n",
"endfunction\n",
"z=fsolve([1,1],f)\n",
"r5=z(1) //mm\n",
"r6=z(2) //mm\n",
"//Results:\n",
"printf(' For an open belt,\n r2 = %.1fmm,\n',r2)\n",
"printf(' r3 = %.1f mm;\n',r3)\n",
"printf(' r4 = %.1f mm;\n',r4)\n",
"printf(' r5 = %d mm;\n',r5)\n",
"printf(' r6 = %d mm.\n\n',r6)"
   ]
   }
,
{
		   "cell_type": "markdown",
		   "metadata": {},
		   "source": [
			"## Example 11.4: To_find_the_power_transmitted.sce"
		   ]
		  },
  {
"cell_type": "code",
	   "execution_count": null,
	   "metadata": {
	    "collapsed": true
	   },
	   "outputs": [],
"source": [
"//To find the power transmitted\n",
"clc\n",
"//Given:\n",
"d=600/1000 //m\n",
"N=200 //rpm\n",
"mu=0.25\n",
"theta=160*%pi/180 //radians\n",
"T1=2500 //N\n",
"//Solution:\n",
"//Calcluating the velocity of the belt\n",
"v=%pi*d*N/60 //m/s\n",
"//Calcluating the tension in the slack side of the belt\n",
"T2=T1/exp(mu*theta) //N\n",
"//Calcluating the power transmitted by the belt\n",
"P=(T1-T2)*v/1000 //kW\n",
"//Results:\n",
"printf('\n\n Power transmitted by the belt, P = %.2f kW.\n\n',P)"
   ]
   }
,
{
		   "cell_type": "markdown",
		   "metadata": {},
		   "source": [
			"## Example 11.5: To_find_force_and_power.sce"
		   ]
		  },
  {
"cell_type": "code",
	   "execution_count": null,
	   "metadata": {
	    "collapsed": true
	   },
	   "outputs": [],
"source": [
"//To find force and power\n",
"clc\n",
"//Given:\n",
"W=9*1000, T1=W //N\n",
"d=300/1000 //m\n",
"N=20 //rpm\n",
"mu=0.25\n",
"//Solution:\n",
"//Force required by the man:\n",
"//Calculating the angle of contact\n",
"theta=2.5*2*%pi //rad\n",
"//Calculating the force required by the man\n",
"T2=T1/exp(mu*theta) //N\n",
"//Power to raise the casting:\n",
"//Calculating the velocity of the rope\n",
"v=%pi*d*N/60 //m/s\n",
"//Calculating the power to raise the casting\n",
"P=(T1-T2)*v/1000 //kW\n",
"//Results:\n",
"printf('\n\n Force required by the man, T2 = %.2f N.\n\n',T2)\n",
"printf(' Power to raise the casting, P = %.3f kW.\n\n',P)"
   ]
   }
,
{
		   "cell_type": "markdown",
		   "metadata": {},
		   "source": [
			"## Example 11.6: To_find_length_and_power_transmitted.sce"
		   ]
		  },
  {
"cell_type": "code",
	   "execution_count": null,
	   "metadata": {
	    "collapsed": true
	   },
	   "outputs": [],
"source": [
"//To find length and power transmitted\n",
"clc\n",
"//Given:\n",
"d1=450/1000, r1=d1/2, d2=200/1000, r2=d2/2, x=1.95 //m\n",
"N1=200 //rpm\n",
"T1=1*1000 //N\n",
"mu=0.25\n",
"//Solution:\n",
"//Calculating the speed of the belt\n",
"v=%pi*d1*N1/60 //m/s\n",
"//Length of the belt:\n",
"//Calculating the length of the crossed belt\n",
"L=%pi*(r1+r2)+2*x+(r1+r2)^2/x //m\n",
"//Angle of contact between the belt and each pulley:\n",
"//Calculating the angle alpha\n",
"alpha=asin((r1+r2)/x)*180/%pi //degrees\n",
"//Calculating the angle of contact between the belt and each pulley\n",
"theta=(180+2*alpha)*%pi/180 //radians\n",
"//Power transmitted:\n",
"//Calculating the tension in the slack side of the belt\n",
"T2=T1/exp(mu*theta) //N\n",
"//Calculating the power transmitted\n",
"P=(T1-T2)*v/1000 //kW\n",
"//Results:\n",
"printf('\n\n Length of the belt, L = %.3f m.\n\n',L)\n",
"printf(' Angle of contact between the belt and each pulley, theta = %.3f rad.\n\n',theta)\n",
"printf(' Power transmitted, P = %.2f kW.\n\n',P)"
   ]
   }
,
{
		   "cell_type": "markdown",
		   "metadata": {},
		   "source": [
			"## Example 11.7: To_find_stress_in_the_belt.sce"
		   ]
		  },
  {
"cell_type": "code",
	   "execution_count": null,
	   "metadata": {
	    "collapsed": true
	   },
	   "outputs": [],
"source": [
"//To find stress in the belt\n",
"clc\n",
"//Given:\n",
"N1=200, N2=300 //rpm\n",
"P=6*1000 //W\n",
"b=100, t=10 //mm\n",
"x=4, d2=0.5 //m\n",
"mu=0.3\n",
"//Solution:\n",
"//Stress in the belt for an open belt drive:\n",
"//Calculating the diameter of the larger pulley\n",
"d1=d2*(N2/N1) //m\n",
"//Calculating the velocity of the belt\n",
"v=%pi*d2*N2/60 //m/s\n",
"//Calculating the angle alpha for an open belt drive\n",
"alphao=asin((r1-r2)/x)*180/%pi //degrees\n",
"//Calculating the angle of contact on the smaller pulley\n",
"thetao=(180-2*alphao)*%pi/180 //radians\n",
"//Calculating the tensions in the belt\n",
"//Ratio of the tensions in the belt, T1/T2 = exp(mu*thetao), or T1-T2*exp(mu*thetao) = 0\n",
"//Power transmitted, P = (T1-T2)*v, or T1-T2 = P/v\n",
"A=[1 -exp(mu*thetao); 1 -1]\n",
"B=[0; P/v]\n",
"V=A \ B\n",
"T1o=V(1) //N\n",
"T2o=V(2) //N\n",
"//Calculating the stress in the belt\n",
"sigmao=T1o/(b*t) //MPa\n",
"//Stress in the belt for a cross belt drive:\n",
"//Calculating the angle alpha for a cross belt drive\n",
"alphac=asin((d1+d2)/(2*x))*180/%pi //degrees\n",
"//Calculating the angle of contact\n",
"thetac=(180+2*alphac)*%pi/180 //radians\n",
"//Calculating the tensions in the belt\n",
"//Ratio of the tensions in the belt, T1/T2 = exp(mu*thetac), or T1-T2*exp(mu*thetac) = 0\n",
"//Power transmitted, P = (T1-T2)*v, or T1-T2 = P/v\n",
"A=[1 -exp(mu*thetac); 1 -1]\n",
"B=[0; P/v]\n",
"V=A \ B\n",
"T1c=V(1) //N\n",
"T2c=V(2) //N\n",
"//Calculating the stress in the belt\n",
"sigmac=T1c/(b*t) //MPa\n",
"//Results:\n",
"printf('\n\n Stress in the belt for an open belt drive, sigma = %.3f MPa.\n\n',sigmao)\n",
"printf(' Stress in the belt for a cross belt drive, sigma = %.3f MPa.\n\n',sigmac)"
   ]
   }
,
{
		   "cell_type": "markdown",
		   "metadata": {},
		   "source": [
			"## Example 11.8: To_find_width_of_the_belt.sce"
		   ]
		  },
  {
"cell_type": "code",
	   "execution_count": null,
	   "metadata": {
	    "collapsed": true
	   },
	   "outputs": [],
"source": [
"//To find width of the belt\n",
"clc\n",
"//Given:\n",
"P=7.5*1000 //W\n",
"d=1.2, t=10/1000 //m\n",
"N=250 //rpm\n",
"theta=165*%pi/180 //radians\n",
"mu=0.3\n",
"sigma=1.5*10^6 //N/m^2\n",
"rho=1*10^3 //kg/m^3\n",
"//Solution:\n",
"//Calculating the velocity of the belt\n",
"v=%pi*d*N/60 //m/s\n",
"//Calculating the tensions in the belt\n",
"//Power transmitted, P = (T1-T2)*v, or T1-T2 = P/v\n",
"//Ratio of tensions in the belt, log(T1/T2) = mu*theta, or T1-T2*exp(mu*theta) = 0\n",
"A=[1 -1; 1 -exp(mu*theta)]\n",
"B=[P/v; 0]\n",
"V=A \ B\n",
"T1=V(1) //N\n",
"T2=V(2) //N\n",
"//Calculating the width of the belt\n",
"b=T1/(sigma*t-t*1*rho*v^2)*1000 //mm\n",
"//Results:\n",
"printf('\n\n Width of the belt, b = %.1f mm.\n\n',b)"
   ]
   }
,
{
		   "cell_type": "markdown",
		   "metadata": {},
		   "source": [
			"## Example 11.9: To_find_width_of_the_belt.sce"
		   ]
		  },
  {
"cell_type": "code",
	   "execution_count": null,
	   "metadata": {
	    "collapsed": true
	   },
	   "outputs": [],
"source": [
"//To find width of the belt\n",
"clc\n",
"//Given:\n",
"t=9.75/1000, d1=300/1000, x=3 //m\n",
"P=15*1000 //W\n",
"N1=900, N2=300 //rpm\n",
"rho=1000 //kg/m^3\n",
"sigma=2.5*10^6 //N/m^2\n",
"mu=0.3\n",
"//Solution:\n",
"//Calculating the diameter of the driven pulley\n",
"d2=d1*(N1/N2) //m\n",
"//Calculating the velocity of the belt\n",
"v=%pi*d1*N1/60 //m/s\n",
"//Calculating the angle alpha for an open belt drive\n",
"alpha=asin((d2-d1)/(2*x))*180/%pi //degrees\n",
"//Calculating the angle of lap\n",
"theta=(180-2*alpha)*%pi/180 //radians\n",
"//Calculating the tensions in the belt\n",
"//Ratio of tensions, log(T1/T2) = mu*theta, or T1-T2*exp(mu*theta) = 0\n",
"//Power transmitted, P = (T1-T2)*v, or T1-T2 = P/v\n",
"A=[1 -exp(mu*theta); 1 -1]\n",
"B=[0; P/v]\n",
"V=A \ B\n",
"T1=V(1) //N\n",
"T2=V(2) //N\n",
"//Calculating the width of the belt\n",
"b=T1/(sigma*t-t*1*rho*v^2)*1000 //mm\n",
"//Results:\n",
"printf('\n\n Width of the belt, b = %d mm.\n\n',b)"
   ]
   }
],
"metadata": {
		  "kernelspec": {
		   "display_name": "Scilab",
		   "language": "scilab",
		   "name": "scilab"
		  },
		  "language_info": {
		   "file_extension": ".sce",
		   "help_links": [
			{
			 "text": "MetaKernel Magics",
			 "url": "https://github.com/calysto/metakernel/blob/master/metakernel/magics/README.md"
			}
		   ],
		   "mimetype": "text/x-octave",
		   "name": "scilab",
		   "version": "0.7.1"
		  }
		 },
		 "nbformat": 4,
		 "nbformat_minor": 0
}
