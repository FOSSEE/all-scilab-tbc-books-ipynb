{
"cells": [
 {
		   "cell_type": "markdown",
	   "metadata": {},
	   "source": [
       "# Chapter 5: Simple Mechanisms"
	   ]
	},
{
		   "cell_type": "markdown",
		   "metadata": {},
		   "source": [
			"## Example 5.1: To_find_the_time_ratio.sce"
		   ]
		  },
  {
"cell_type": "code",
	   "execution_count": null,
	   "metadata": {
	    "collapsed": true
	   },
	   "outputs": [],
"source": [
"//To find the time ratio\n",
"clc\n",
"//Given:\n",
"AC=300,CB1=120 //mm\n",
"//Solution:\n",
"//Refer Fig. 5.28\n",
"//Calculating the sine of inclination of the slotted bar with the vertical\n",
"sineCAB1=CB1/AC\n",
"//Calculating the inclination of the slotted bar with the vertical\n",
"angleCAB1=asin(sineCAB1)*180/%pi //degrees\n",
"//Calculating the angle alpha\n",
"alpha=2*(90-angleCAB1) //degrees\n",
"//Calculating the ratio of time of cutting stroke to time of return stroke\n",
"r=(360-alpha)/alpha //Ratio of time of cutting stroke to time of return stroke\n",
"//Results:\n",
"printf('\n\n The ratio of the time of cutting stroke to the time of return stroke is %.2f.\n\n',r)"
   ]
   }
,
{
		   "cell_type": "markdown",
		   "metadata": {},
		   "source": [
			"## Example 5.2: To_find_the_time_ratio.sce"
		   ]
		  },
  {
"cell_type": "code",
	   "execution_count": null,
	   "metadata": {
	    "collapsed": true
	   },
	   "outputs": [],
"source": [
"//To find the time ratio\n",
"clc\n",
"//Given:\n",
"AC=240,CB1=120,AP1=450 //mm\n",
"//Solution:\n",
"//Refer Fig. 5.29\n",
"//Calculating the sine of inclination of the slotted bar with the vertical\n",
"sineCAB1=CB1/AC\n",
"//Calculating the inclination of the slotted bar with the vertical\n",
"angleCAB1=asin(sineCAB1)*180/%pi //degrees\n",
"//Calculating the angle alpha\n",
"alpha=2*(90-angleCAB1) //degrees\n",
"//Calculating the time ratio of cutting stroke to the return stroke\n",
"r=(360-alpha)/alpha //Time ratio of cutting stroke to the return stroke\n",
"//Calculating the length of the stroke\n",
"R1R2=2*AP1*sin(%pi/2-alpha/2*%pi/180) //mm\n",
"//Results:\n",
"printf('\n\n The time ratio of cutting stroke to the return stroke is %d.\n',r)\n",
"printf(' The length of the stroke, R1R2 = P1P2 = %d mm.\n\n',R1R2)"
   ]
   }
,
{
		   "cell_type": "markdown",
		   "metadata": {},
		   "source": [
			"## Example 5.3: To_find_the_dimensions_of_AC_and_AP.sce"
		   ]
		  },
  {
"cell_type": "code",
	   "execution_count": null,
	   "metadata": {
	    "collapsed": true
	   },
	   "outputs": [],
"source": [
"//To find the dimensions of AC and AP\n",
"clc\n",
"//Given:\n",
"//Refer Fig. 5.30 and Fig. 5.31\n",
"BC=30,R1R2=120 //mm\n",
"r=1.7 //Time ratio of working stroke to the return stroke\n",
"//Solution:\n",
"//Calculating the angle alpha\n",
"alpha=360/(1.7+1) //degrees\n",
"//Calculating the length of the link AC\n",
"B1C=BC\n",
"AC=B1C/cosd(alpha/2) //mm\n",
"//Calculating the length of the link AP\n",
"AP1=R1R2/(2*cosd(alpha/2)) //mm\n",
"AP=AP1\n",
"//Results:\n",
"printf('\n\n The length of AC = %.1f mm.\n',AC)\n",
"printf(' The length of AP = %.1f mm.\n\n',AP)"
   ]
   }
,
{
		   "cell_type": "markdown",
		   "metadata": {},
		   "source": [
			"## Example 5.4: To_find_the_time_ratio.sce"
		   ]
		  },
  {
"cell_type": "code",
	   "execution_count": null,
	   "metadata": {
	    "collapsed": true
	   },
	   "outputs": [],
"source": [
"//To find the time ratio\n",
"clc\n",
"//Given:\n",
"CD=50,CA=75,PA=150,PR=135 //mm\n",
"//Solution:\n",
"//Refer Fig. 5.32 and Fig. 5.33\n",
"//Calculating the cosine of angle beta\n",
"CA2=CA\n",
"cosbeta=CD/CA2\n",
"//Calculating the angle beta\n",
"beta=2*acos(cosbeta)*180/%pi //degrees\n",
"//Calculating the ratio of time of cutting stroke to time of return stroke\n",
"r=(360-beta)/beta //Ratio of time of cutting stroke to time of return stroke\n",
"//Calculating the length of effective stroke\n",
"R1R2=87.5 //mm\n",
"//Results:\n",
"printf('\n\n The ratio of time of cutting stroke to time of return stroke is %.3f.\n',r)\n",
"printf(' The length of effective stroke, R1R2 = %.1f mm.\n\n',R1R2)"
   ]
   }
],
"metadata": {
		  "kernelspec": {
		   "display_name": "Scilab",
		   "language": "scilab",
		   "name": "scilab"
		  },
		  "language_info": {
		   "file_extension": ".sce",
		   "help_links": [
			{
			 "text": "MetaKernel Magics",
			 "url": "https://github.com/calysto/metakernel/blob/master/metakernel/magics/README.md"
			}
		   ],
		   "mimetype": "text/x-octave",
		   "name": "scilab",
		   "version": "0.7.1"
		  }
		 },
		 "nbformat": 4,
		 "nbformat_minor": 0
}
