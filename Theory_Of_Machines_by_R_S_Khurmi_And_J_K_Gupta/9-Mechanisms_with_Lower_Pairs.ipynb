{
"cells": [
 {
		   "cell_type": "markdown",
	   "metadata": {},
	   "source": [
       "# Chapter 9: Mechanisms with Lower Pairs"
	   ]
	},
{
		   "cell_type": "markdown",
		   "metadata": {},
		   "source": [
			"## Example 9.1: To_find_inclination_of_track_arm.sce"
		   ]
		  },
  {
"cell_type": "code",
	   "execution_count": null,
	   "metadata": {
	    "collapsed": true
	   },
	   "outputs": [],
"source": [
"//To find inclination of track arm\n",
"clc\n",
"//Given:\n",
"c=1.2,b=2.7 //m\n",
"//Solution:\n",
"//Calculating the inclination of the track arm to the longitudinal axis\n",
"alpha=atan(c/(2*b))*180/%pi //degrees\n",
"//Results:\n",
"printf('\n\n Inclination of the track arm to the longitudinal axis, alpha = %.1f degrees.\n\n',alpha)"
   ]
   }
,
{
		   "cell_type": "markdown",
		   "metadata": {},
		   "source": [
			"## Example 9.3: To_find_the_angle_turned.sce"
		   ]
		  },
  {
"cell_type": "code",
	   "execution_count": null,
	   "metadata": {
	    "collapsed": true
	   },
	   "outputs": [],
"source": [
"//To find the angle turned\n",
"clc\n",
"//Given:\n",
"alpha=18*%pi/180 //radians\n",
"//Solution:\n",
"//Maximum velocity is possible when\n",
"theta1=0,theta2=180 //degrees\n",
"//Calculating the angle turned by the driving shaft when the velocity ratio is unity\n",
"theta3=acos(sqrt((1-cos(alpha))/(sin(alpha)^2)))*180/%pi //degrees\n",
"theta4=180-theta3 //degrees\n",
"//Results:\n",
"printf('\n\n Angle turned by the driving shaft when the velocity ratio is maximum, theta = %d degrees or %d degrees.\n',theta1,theta2)\n",
"printf(' Angle turned by the driving shaft when the velocity ratio is unity, theta = %.1f degrees or %.1f degrees.\n\n',theta3,theta4)"
   ]
   }
,
{
		   "cell_type": "markdown",
		   "metadata": {},
		   "source": [
			"## Example 9.4: To_find_the_greatest_permissible_angle.sce"
		   ]
		  },
  {
"cell_type": "code",
	   "execution_count": null,
	   "metadata": {
	    "collapsed": true
	   },
	   "outputs": [],
"source": [
"//To find the greatest permissible angle\n",
"clc\n",
"//Given:\n",
"N=500 //rpm\n",
"//Solution:\n",
"//Calculating the angular velocity of the driving shaft\n",
"omega=2*%pi*N/60 //rad/s\n",
"//Calculating the total fluctuation of speed of the driven shaft\n",
"q=12/100*omega //rad/s\n",
"//Calculating the greatest permissible angle between the centre lines of the shafts\n",
"alpha=acos((-(q/omega)+sqrt(0.12^2+4))/2)*180/%pi //degrees\n",
"//Results:\n",
"printf('\n\n Greatest permissible angle between the centre lines of the shafts, alpha = %.2f degrees.\n\n',alpha)"
   ]
   }
,
{
		   "cell_type": "markdown",
		   "metadata": {},
		   "source": [
			"## Example 9.5: To_find_speeds_and_permissible_angle.sce"
		   ]
		  },
  {
"cell_type": "code",
	   "execution_count": null,
	   "metadata": {
	    "collapsed": true
	   },
	   "outputs": [],
"source": [
"//To find speeds and permissible angle\n",
"clc\n",
"//Given:\n",
"N=1200,q=100 //rpm\n",
"//Solution:\n",
"//Calculating the greatest permissible angle between the centre lines of the shafts\n",
"alpha=acos((-(100/1200)+sqrt(0.083^2+4))/2)*180/%pi //degrees\n",
"//Calculating the maximum speed of the driven shaft\n",
"N1max=N/cosd(alpha) //rpm\n",
"//Calculating the minimum speed of the driven shaft\n",
"N1min=N*cosd(alpha) //rpm\n",
"//Results:\n",
"printf('\n\n Greatest permissible angle between the centre lines of the shafts, alpha = %.1f degrees.\n',alpha)\n",
"printf(' Maximum speed of the driven shaft, N1(max) = %d rpm.\n',N1max)\n",
"printf(' Minimum speed of the driven shaft, N1(min) = %d rpm.\n\n',N1min)"
   ]
   }
,
{
		   "cell_type": "markdown",
		   "metadata": {},
		   "source": [
			"## Example 9.7: To_find_speeds_of_shafts.sce"
		   ]
		  },
  {
"cell_type": "code",
	   "execution_count": null,
	   "metadata": {
	    "collapsed": true
	   },
	   "outputs": [],
"source": [
"//To find speeds of shafts\n",
"clc\n",
"//Given:\n",
"alpha=20 //degrees\n",
"NA=500 //rpm\n",
"//Solution:\n",
"//Calculating the maximum speed of the intermediate shaft\n",
"NBmax=NA/cosd(alpha) //rpm\n",
"//Calculating the minimum speed of the intermediate shaft\n",
"NBmin=NA*cosd(alpha) //rpm\n",
"//Calculating the maximum speed of the driven shaft\n",
"NCmax=NBmax/cosd(alpha) //rpm\n",
"//Calculating the minimum speed of the driven shaft\n",
"NCmin=NBmin*cosd(alpha) //rpm\n",
"//Results:\n",
"printf('\n\n Maximum speed of the intermediate shaft, NB(max) = %.1f rad/s.\n',NBmax)\n",
"printf(' Minimum speed of the intermediate shaft, NB(min) = %.2f rad/s.\n',NBmin)\n",
"printf(' Maximum speed of the driven shaft, NC(max) = %.2f rad/s.\n',NCmax)\n",
"printf(' Minimum speed of the driven shaft, NC(min) = %.1f rad/s.\n',NCmin)"
   ]
   }
],
"metadata": {
		  "kernelspec": {
		   "display_name": "Scilab",
		   "language": "scilab",
		   "name": "scilab"
		  },
		  "language_info": {
		   "file_extension": ".sce",
		   "help_links": [
			{
			 "text": "MetaKernel Magics",
			 "url": "https://github.com/calysto/metakernel/blob/master/metakernel/magics/README.md"
			}
		   ],
		   "mimetype": "text/x-octave",
		   "name": "scilab",
		   "version": "0.7.1"
		  }
		 },
		 "nbformat": 4,
		 "nbformat_minor": 0
}
