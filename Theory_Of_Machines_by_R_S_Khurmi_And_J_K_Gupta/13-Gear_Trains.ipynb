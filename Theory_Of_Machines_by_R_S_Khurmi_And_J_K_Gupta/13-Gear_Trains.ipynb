{
"cells": [
 {
		   "cell_type": "markdown",
	   "metadata": {},
	   "source": [
       "# Chapter 13: Gear Trains"
	   ]
	},
{
		   "cell_type": "markdown",
		   "metadata": {},
		   "source": [
			"## Example 13.10: To_find_angular_velocities.sce"
		   ]
		  },
  {
"cell_type": "code",
	   "execution_count": null,
	   "metadata": {
	    "collapsed": true
	   },
	   "outputs": [],
"source": [
"//To find angular velocities\n",
"clc\n",
"//Given:\n",
"TC=50, TD=20, TE=35\n",
"NA=110 //rpm\n",
"//Solution:\n",
"//Calculating the number of teeth on internal gear G\n",
"TG=TC+TD+TE\n",
"//Speed of shaft B:\n",
"//Calculating the values of x and y\n",
"//From the fourth row of Table 13.9, y-x*(TC/TD)*(TE/TG) = 0        .....(i)\n",
"//Also, x+y = 110, or y+x = 110                                     .....(ii)\n",
"A=[1 -(TC/TD)*(TE/TG); 1 1]\n",
"B=[0; 110]\n",
"V=A \ B\n",
"x=V(2)\n",
"y=V(1)\n",
"//Calculating the speed of shaft B\n",
"NB=round(+y) //Speed of shaft B, rpm\n",
"//Results:\n",
"printf('\n\n Number of teeth on internal gear G, TG = %d.\n\n',TG)\n",
"printf(' Speed of shaft B = %d rpm, anticlockwise.\n\n',NB)"
   ]
   }
,
{
		   "cell_type": "markdown",
		   "metadata": {},
		   "source": [
			"## Example 13.11: To_find_angular_velocities.sce"
		   ]
		  },
  {
"cell_type": "code",
	   "execution_count": null,
	   "metadata": {
	    "collapsed": true
	   },
	   "outputs": [],
"source": [
"//To find angular velocities\n",
"clc\n",
"//Given:\n",
"TA=12, TB=30, TC=14\n",
"NA=1, ND=5 //rps\n",
"//Solution:\n",
"//Number of teeth on wheels D and E:\n",
"//Calculating the number of teeth on wheel E\n",
"TE=TA+2*TB\n",
"//Calculating the number of teeth on wheel E\n",
"TD=TE-(TB-TC)\n",
"//Magnitude and direction of angular velocities of arm OP and wheel E:\n",
"//Calculating the values of x and y\n",
"//From the fourth row of Table 13.10, -x-y = -1, or x+y = 1            .....(i)\n",
"//Also, x*(TA/TB)*(TC/TD)-y = 5                                        .....(ii)\n",
"A=[1 1; (TA/TB)*(TC/TD) -1]\n",
"B=[1; 5]\n",
"V=A \ B\n",
"x=V(1)\n",
"y=V(2)\n",
"//Calculating the angular velocity of arm OP\n",
"omegaOP=-y*2*%pi //Angular velocity of arm OP, rad/s\n",
"//Calculating the angular velocity of wheel E\n",
"omegaE=(x*TA/TE-y)*2*%pi //Angular velocity of wheel E, rad/s\n",
"//Results:\n",
"printf('\n\n Number of teeth on wheel E, TE = %d.\n\n',TE)\n",
"printf(' Number of teeth on wheel D, TD = %d.\n\n',TD)\n",
"printf(' Angular velocity of arm OP = %.3f rad/s, counter clockwise.\n\n',omegaOP)\n",
"printf(' Angular velocity of wheel E = %.2f rad/s, counter clockwise.\n\n',omegaE)"
   ]
   }
,
{
		   "cell_type": "markdown",
		   "metadata": {},
		   "source": [
			"## Example 13.12: To_find_speed_of_shaft.sce"
		   ]
		  },
  {
"cell_type": "code",
	   "execution_count": null,
	   "metadata": {
	    "collapsed": true
	   },
	   "outputs": [],
"source": [
"//To find speed of shaft\n",
"clc\n",
"//Given:\n",
"TB=80, TC=82, TD=28\n",
"NA=500 //rpm\n",
"//Solution:\n",
"//Calculating the number of teeth on wheel E\n",
"TE=TB+TD-TC\n",
"//Calculating the values of x and y\n",
"y=800\n",
"x=-y*(TE/TB)*(TC/TD)\n",
"//Calculating the speed of shaft F\n",
"NF=x+y //Speed of shaft F, rpm\n",
"//Results:\n",
"printf('\n\n Speed of shaft F = %d rpm, anticlockwise.\n\n',NF)"
   ]
   }
,
{
		   "cell_type": "markdown",
		   "metadata": {},
		   "source": [
			"## Example 13.14: To_find_number_of_teeth_and_speed.sce"
		   ]
		  },
  {
"cell_type": "code",
	   "execution_count": null,
	   "metadata": {
	    "collapsed": true
	   },
	   "outputs": [],
"source": [
"//To find number of teeth and speed\n",
"clc\n",
"//Given:\n",
"NA=300 //rpm\n",
"TD=40, TE=30, TF=50, TG=80, TH=40, TK=20, TL=30\n",
"//Solution:\n",
"//Refer Fig. 13.18 and Table 13.13\n",
"//Calculating the speed of wheel E\n",
"NE=NA*(TD/TE) //rpm\n",
"//Calculating the number of teeth on wheel C\n",
"TC=TH+TK+TL\n",
"//Speed and direction of rotation of shaft B:\n",
"//Calculating the values of x and y\n",
"//We have, -x-y = -400, or x+y = 400                    .....(i)\n",
"//Also, x*(TH/TK)*(TL/TC)-y = 0                         .....(ii)\n",
"A=[1 1; (TH/TK)*(TL/TC) -1]\n",
"B=[400; 0]\n",
"V=A \ B\n",
"x=V(1)\n",
"y=V(2)\n",
"//Calculating the speed of wheel F\n",
"NF=-y //rpm\n",
"//Calculating the speed of shaft B\n",
"NB=-NF*(TF/TG) //Speed of shaft B, rpm\n",
"//Results:\n",
"printf('\n\n Number of teeth on wheel C, TC = %d.\n\n',TC)\n",
"printf(' Speed of shaft B = %d rpm, anticlockwise.\n\n',NB)"
   ]
   }
,
{
		   "cell_type": "markdown",
		   "metadata": {},
		   "source": [
			"## Example 13.15: To_find_velocity_ratio.sce"
		   ]
		  },
  {
"cell_type": "code",
	   "execution_count": null,
	   "metadata": {
	    "collapsed": true
	   },
	   "outputs": [],
"source": [
"//To find velocity ratio\n",
"clc\n",
"//Given:\n",
"T1=80, T8=160, T4=100, T3=120, T6=20, T7=66\n",
"//Solution:\n",
"//Refer Fig. 13.19 and Table 13.14\n",
"//Calculating the number of teeth on wheel 2\n",
"T2=(T3-T1)/2\n",
"//Calculating the values of x and y\n",
"//Assuming that wheel 1 makes 1 rps anticlockwise, x+y = 1            .....(i)\n",
"//Also, y-x*(T1/T3) = 0, or x*(T1/T3)-y = 0                           .....(ii)\n",
"A=[1 1; 1 T1/T3]\n",
"B=[1; 0]\n",
"V=A \ B\n",
"x=V(1)\n",
"y=V(2)\n",
"//Calculating the speed of casing C\n",
"NC=y //Speed of casing C, rps\n",
"//Calculating the speed of wheel 2\n",
"N2=y-x*(T1/T2) //Speed of wheel 2, rps\n",
"//Calculating the number of teeth on wheel 5\n",
"T5=(T4-T6)/2\n",
"//Calculating the values of x1 and y1\n",
"y1=-2\n",
"x1=(y1-0.4)*(T4/T6)\n",
"//Calculating the speed of wheel 6\n",
"N6=x1+y1 //Speed of wheel 6, rps\n",
"//Calculating the values of x2 and y2\n",
"y2=0.4\n",
"x2=-(14+y2)*(T7/T8)\n",
"//Calculating the speed of wheel 8\n",
"N8=x2+y2 //Speed of wheel 8, rps\n",
"//Calculating the velocity ratio of the output shaft B to the input shaft A\n",
"vr=N8/1 //Velocity ratio\n",
"//Results:\n",
"printf('\n\n Velocity ratio of the output shaft B to the input shaft A = %.2f.\n\n',vr)"
   ]
   }
,
{
		   "cell_type": "markdown",
		   "metadata": {},
		   "source": [
			"## Example 13.16: To_find_speed_of_shaft.sce"
		   ]
		  },
  {
"cell_type": "code",
	   "execution_count": null,
	   "metadata": {
	    "collapsed": true
	   },
	   "outputs": [],
"source": [
"//To find speed of shaft\n",
"clc\n",
"//Given:\n",
"TA=40, TB=30, TC=50\n",
"NX=100, NA=NX //rpm\n",
"Narm=100 //Speed of arm, rpm\n",
"//Solution:\n",
"//Refer Fig. 13.22 and Table 13.18\n",
"//Calculating the values of x and y\n",
"y=+100\n",
"x=-100-y\n",
"//Calculating the speed of the driven shaft\n",
"NY=y-x*(TA/TB) //rpm\n",
"//Results:\n",
"printf('\n\n Speed of the driven shaft, NY = %.1f rpm, anticlockwise.\n\n',NY)"
   ]
   }
,
{
		   "cell_type": "markdown",
		   "metadata": {},
		   "source": [
			"## Example 13.17: To_find_speed_of_output_shaft.sce"
		   ]
		  },
  {
"cell_type": "code",
	   "execution_count": null,
	   "metadata": {
	    "collapsed": true
	   },
	   "outputs": [],
"source": [
"//To find speed of output shaft\n",
"clc\n",
"//Given:\n",
"TB=20, TC=80, TD=80, TE=30, TF=32\n",
"NB=1000 //rpm\n",
"//Solution:\n",
"//Refer Fig. 13.23 and Table 13.19\n",
"//Speed of the output shaft when gear C is fixed:\n",
"//Calculating the values of x and y\n",
"//From the fourth row of the table, y-x*(TB/TC) = 0                .....(i)\n",
"//Also, x+y = +1000, or y+x = 1000                                 .....(ii)\n",
"A=[1 -TB/TC; 1 1]\n",
"B=[0; 1000]\n",
"V=A \ B\n",
"x=V(2)\n",
"y=V(1)\n",
"//Calculating the speed of output shaft\n",
"NF1=y-x*(TB/TD)*(TE/TF) //Speed of the output shaft when gear C is fixed, rpm\n",
"//Speed of the output shaft when gear C is rotated at 10 rpm counter clockwise:\n",
"//Calculating the values of x and y\n",
"//From the fourth row of te table, y-x*(TB/TC) = +10                .....(iii)\n",
"//Also, x+y = +1000, or y+x = 1000                                 .....(iv)\n",
"A=[1 -TB/TC; 1 1]\n",
"B=[10; 1000]\n",
"V=A \ B\n",
"x=V(2)\n",
"y=V(1)\n",
"//Calculating the speed of output shaft\n",
"NF2=y-x*(TB/TD)*(TE/TF) //Speed of the output shaft when gear C is rotated at 10 rpm counter clockwise, rpm\n",
"//Results:\n",
"printf('\n\n Speed of the output shaft when gear C is fixed = %.1f rpm, counter clockwise.\n\n',NF1)\n",
"printf(' Speed of the output shaft when gear C is rotated at 10 rpm counter clockwise = %.1f rpm, counter clockwise.\n\n',NF2)"
   ]
   }
,
{
		   "cell_type": "markdown",
		   "metadata": {},
		   "source": [
			"## Example 13.18: To_find_speed_of_road_wheel.sce"
		   ]
		  },
  {
"cell_type": "code",
	   "execution_count": null,
	   "metadata": {
	    "collapsed": true
	   },
	   "outputs": [],
"source": [
"//To find speed of road wheel\n",
"clc\n",
"//Given:\n",
"TA=10, TB=60\n",
"NA=1000, NQ=210, ND=NQ //rpm\n",
"//Solution:\n",
"//Refer Fig. 13.24 and Table 13.20\n",
"//Calculating the speed of crown gear B\n",
"NB=NA*(TA/TB) //rpm\n",
"//Calculating the values of x and y\n",
"y=200\n",
"x=y-210\n",
"//Calculating the speed of road wheel attached to axle P\n",
"NC=x+y //Speed of road wheel attached to axle P, rpm\n",
"//Results:\n",
"printf('\n\n Speed of road wheel attached to axle P = %d rpm.\n\n',NC)"
   ]
   }
,
{
		   "cell_type": "markdown",
		   "metadata": {},
		   "source": [
			"## Example 13.19: To_find_torque_exerted.sce"
		   ]
		  },
  {
"cell_type": "code",
	   "execution_count": null,
	   "metadata": {
	    "collapsed": true
	   },
	   "outputs": [],
"source": [
"//To find torque exerted\n",
"clc\n",
"//Given:\n",
"TA=15, TB=20, TC=15\n",
"NA=1000 //rpm\n",
"Tm=100 //Torque developed by motor, N-m\n",
"//Solution:\n",
"//Refer Fig. 13.26 and Table 13.21\n",
"//Calculating the number of teeth on gears E and D\n",
"TE=TA+2*TB\n",
"TD=TE-(TB-TC)\n",
"//Speed of the machine shaft:\n",
"//From the fourth row of the table, x+y = 1000, or y+x = 1000        .....(i)\n",
"//Also, y-x*(TA/TE) = 0                                              .....(ii)\n",
"A=[1 1; 1 -TA/TE]\n",
"B=[1000; 0]\n",
"V=A \ B\n",
"y=V(1)\n",
"x=V(2)\n",
"//Calculating the speed of machine shaft\n",
"ND=y-x*(TA/TB)*(TC/TD) //rpm\n",
"//Calculating the torque exerted on the machine shaft\n",
"Ts=Tm*NA/ND //Torque exerted on the machine shaft, N-m\n",
"//Results:\n",
"printf('\n\n Speed of machine shaft, ND = %.2f rpm, anticlockwise.\n\n',ND)\n",
"printf(' Torque exerted on the machine shaft = %d N-m.\n\n',Ts)"
   ]
   }
,
{
		   "cell_type": "markdown",
		   "metadata": {},
		   "source": [
			"## Example 13.1: To_find_speed_of_gear_F.sce"
		   ]
		  },
  {
"cell_type": "code",
	   "execution_count": null,
	   "metadata": {
	    "collapsed": true
	   },
	   "outputs": [],
"source": [
"//To find speed of gear F\n",
"clc\n",
"//Given:\n",
"NA=975 //rpm\n",
"TA=20, TB=50, TC=25, TD=75, TE=26, TF=65\n",
"//Solution:\n",
"//Calculating the speed of gear F\n",
"NF=NA*(TA*TC*TE)/(TB*TD*TF) //rpm\n",
"//Results:\n",
"printf('\n\n Speed of gear F, NF = %d rpm.\n\n',NF)"
   ]
   }
,
{
		   "cell_type": "markdown",
		   "metadata": {},
		   "source": [
			"## Example 13.20: To_find_teeth_and_torque.sce"
		   ]
		  },
  {
"cell_type": "code",
	   "execution_count": null,
	   "metadata": {
	    "collapsed": true
	   },
	   "outputs": [],
"source": [
"//To find teeth and torque\n",
"clc\n",
"//Given:\n",
"Ts=100 //Torque on the sun wheel, N-m\n",
"r=5 //Ratio of speeds of gear S to C, NS/NC\n",
"//Refer Fig. 13.27 and Table 13.22\n",
"//Number of teeth on different wheels:\n",
"//Calculating the values of x and y\n",
"y=1\n",
"x=5-y\n",
"//Calculating the number of teeth on wheel E\n",
"TS=16\n",
"TE=4*TS\n",
"//Calculating the number of teeth on wheel P\n",
"TP=(TE-TS)/2\n",
"//Torque necessary to keep the internal gear stationary:\n",
"Tc=Ts*r //Torque on CN-m\n",
"//Caluclating the torque necessary to keep the internal gear stationary\n",
"Ti=Tc-Ts //Torque necessary to keep the internal gear stationary, N-m\n",
"//Results:\n",
"printf('\n\n Number of teeth on different wheels, TE = %d.\n\n',TE)\n",
"printf(' Torque necessary to keep the internal gear stationary = %d N-m.\n\n',Ti)"
   ]
   }
,
{
		   "cell_type": "markdown",
		   "metadata": {},
		   "source": [
			"## Example 13.21: To_find_speed_direction_and_torque.sce"
		   ]
		  },
  {
"cell_type": "code",
	   "execution_count": null,
	   "metadata": {
	    "collapsed": true
	   },
	   "outputs": [],
"source": [
"//To find speed, direction and torque\n",
"clc\n",
"//Given:\n",
"TA=14, TC=100\n",
"r=98/41 //TE/TD\n",
"PA=1.85*1000 //W\n",
"NA=1200 //rpm\n",
"//Solution:\n",
"//Refer Fig. 13.28 and Table 13.23\n",
"//Calculating the number of teeth on wheel B\n",
"TB=(TC-TA)/2\n",
"//Calculating the values of x and y\n",
"//From the fourth row of the table, -y+x*(TA/TC) = 0, or x*(TA/TC)-y = 0    .....(i)\n",
"//Also, -x-y = 1200, or x+y = -1200                                         .....(ii)\n",
"A=[TA/TC -1; 1 1]\n",
"B=[0; -1200]\n",
"V=A \ B\n",
"x=V(1)\n",
"y=V(2)\n",
"//Calculating the speed of gear E\n",
"NE=round(-y+x*(TA/TB)*(1/r)) //rpm\n",
"//Fixing torque required at C:\n",
"//Calculating the torque on A\n",
"Ta=PA*60/(2*%pi*NA) //Torque on A, N-m\n",
"//Calculating the torque on E\n",
"Te=PA*60/(2*%pi*NE) //Torque on E\n",
"//Calculating the fixing torque required at C\n",
"Tc=Te-Ta //Fixing torque at C, N-m\n",
"//Results:\n",
"printf('\n\n Speed and direction of rotation of gear E, NE = %d rpm, anticlockwise.\n\n',NE)\n",
"printf(' Fixing torque required at C = %.1f N-m.\n\n',Tc)"
   ]
   }
,
{
		   "cell_type": "markdown",
		   "metadata": {},
		   "source": [
			"## Example 13.22: To_find_holding_torque.sce"
		   ]
		  },
  {
"cell_type": "code",
	   "execution_count": null,
	   "metadata": {
	    "collapsed": true
	   },
	   "outputs": [],
"source": [
"//To find holding torque\n",
"clc\n",
"//Given:\n",
"TB=15, TA=60, TC=20\n",
"omegaY=740, omegaA=omegaY //rad/s\n",
"P=130*1000 //W\n",
"//Solution:\n",
"//Refer Fig. 13.29 and Table 13.24\n",
"//Calculating the number of teeth on wheel D\n",
"TD=TA-(TC+TB)\n",
"//Calculating the values of x and y\n",
"//From the fourth row of the table, y-x*(TD/TC)*(TB/TA) = 740            .....(i)\n",
"//Also, x+y = 0, or y+x = 0                                              .....(ii)\n",
"A=[1 -(TD/TC)*(TB/TA); 1 1]\n",
"B=[740; 0]\n",
"V=A \ B\n",
"x=V(2)\n",
"y=V(1)\n",
"//Calculating the speed of shaft X\n",
"omegaX=y //rad/s\n",
"//Holding torque on wheel D:\n",
"//Calculating the torque on A\n",
"Ta=P/omegaA //Torque on A, N-m\n",
"//Calculating the torque on X\n",
"Tx=P/omegaX //Torque on X, N-m\n",
"//Calculating the holding torque on wheel D\n",
"Td=Tx-Ta //Holding torque on wheel D, N-m\n",
"//Results:\n",
"printf('\n\n Speed of shaft X, omegaX = %.1f rad/s.\n\n',omegaX)\n",
"printf(' Holding torque on wheel D = %.1f N-m.\n\n',Td)"
   ]
   }
,
{
		   "cell_type": "markdown",
		   "metadata": {},
		   "source": [
			"## Example 13.23: To_find_speed_direction_and_torque.sce"
		   ]
		  },
  {
"cell_type": "code",
	   "execution_count": null,
	   "metadata": {
	    "collapsed": true
	   },
	   "outputs": [],
"source": [
"//To find speed, direction and torque\n",
"clc\n",
"//Given:\n",
"TP=144, TQ=120, TR=120, TX=36, TY=24, TZ=30\n",
"NI=1500 //rpm\n",
"P=7.5*1000 //W\n",
"eta=0.8\n",
"//Solution:\n",
"//Refer Fig. 13.30 and Table 13.25\n",
"//Calculating the values of x and y\n",
"//From the fourth row of the table, x+y = -1500        .....(i)\n",
"//Also, y-x*(TZ/TR) = 0, or -x*(TZ/TR)+y = 0           .....(ii)\n",
"A=[1 1; -TZ/TR 1]\n",
"B=[-1500; 0]\n",
"V=A \ B\n",
"x=V(1)\n",
"y=V(2)\n",
"//Calculating the values of x1 and y1\n",
"//We have, y1-x1*(TY/TQ) = y                           .....(iii)\n",
"//Also, x1+y1 = x+y, or y1+x1 = x+y                    .....(iv)\n",
"A=[1 -TY/TQ; 1 1]\n",
"B=[y; x+y]\n",
"V=A \ B\n",
"x1=V(2)\n",
"y1=V(1)\n",
"//Speed and direction of the driven shaft O and the wheel P:\n",
"//Calculating the speed of shaft O\n",
"NO=y1 //rpm\n",
"//Calculating the speed of wheel P\n",
"NP=y1+x1*(TY/TQ)*(TX/TP) //rpm\n",
"//Torque tending to rotate the fixed wheel R:\n",
"//Calculating the torque on shaft I\n",
"T1=P*60/(2*%pi*NI) //N-m\n",
"//Calculating the torque on shaft O\n",
"T2=eta*P*60/(2*%pi*(-NO)) //N-m\n",
"//Calculating the torque tending to rotate the fixed wheel R\n",
"T=T2-T1 //Torque tending to rotate the fixed wheel R, N-m\n",
"//Results:\n",
"printf('\n\n Speed of the driven shaft O, NO = %d rpm, clockwise.\n\n',-NO)\n",
"printf(' Speed of the wheel P, NP = %d rpm, clockwise.\n\n',-NP)\n",
"printf(' Torque tending to rotate the fixed wheel R = %.2f N-m.\n\n',T)"
   ]
   }
,
{
		   "cell_type": "markdown",
		   "metadata": {},
		   "source": [
			"## Example 13.24: To_find_torque_and_forces.sce"
		   ]
		  },
  {
"cell_type": "code",
	   "execution_count": null,
	   "metadata": {
	    "collapsed": true
	   },
	   "outputs": [],
"source": [
"//To find torque and forces\n",
"clc\n",
"//Given:\n",
"TA=34, TB=120, TC=150, TD=38, TE=50\n",
"PX=7.5*1000 //W\n",
"NX=500 //rpm\n",
"m=3.5 //mm\n",
"//Solution:\n",
"//Refer Fig. 13.31 and Table 13.27\n",
"//Output torque of shaft Y:\n",
"//Calculating the values of x and y\n",
"//From the fourth row of the table, x+y = 500, or y+x = 500        .....(i)\n",
"//Also, y-x*(TA/TC) = 0                                            .....(ii)\n",
"A=[1 1; 1 -TA/TC]\n",
"B=[500; 0]\n",
"V=A \ B\n",
"y=V(1) //rpm\n",
"x=V(2) //rpm\n",
"//Calculating the speed of output shaft Y\n",
"NY=y-x*(TA/TB)*(TD/TE) //rpm\n",
"//Calculating the speed of wheel E\n",
"NE=NY //rpm\n",
"//Calculating the input power assuming 100 per cent efficiency\n",
"PY=PX //W\n",
"//Calculating the output torque of shaft Y\n",
"Ty=PY*60/(2*%pi*NY*1000) //Output torque on shaft Y, kN-m\n",
"//Tangential force between wheels D and E:\n",
"//Calculating the pitch circle radius of wheel E\n",
"rE=m*TE/(2*1000) //m\n",
"//Calculating the tangential force between wheels D and E\n",
"FtDE=Ty/rE //Tangential force between wheels D and E, kN\n",
"//Tangential force between wheels B and C:\n",
"//Calculating the input torque on shaft X\n",
"Tx=PX*60/(2*%pi*NX) //Input torque on shaft X, N-m\n",
"//Calculating the fixing torque on the fixed wheel C\n",
"Tf=Ty-Tx/1000 //Fixing torque on the fixed wheel C, kN-m\n",
"//Calculating the pitch circle radius of wheel C\n",
"rC=m*TC/(2*1000) //m\n",
"//Calculating the tangential forces between wheels B and C\n",
"FtBC=Tf/rC //kN\n",
"//Results:\n",
"printf('\n\n Output torque of shaft Y = %.3f kN-m.\n\n',Ty)\n",
"printf(' Tangential force between wheels D and E = %.1f kN.\n\n',FtDE)\n",
"printf(' Tangential force between wheels B and C = %d kN.\n\n',FtBC)"
   ]
   }
,
{
		   "cell_type": "markdown",
		   "metadata": {},
		   "source": [
			"## Example 13.2: To_design_the_gears.sce"
		   ]
		  },
  {
"cell_type": "code",
	   "execution_count": null,
	   "metadata": {
	    "collapsed": true
	   },
	   "outputs": [],
"source": [
"//To design the gears\n",
"clc\n",
"//Given:\n",
"x=600, pc=25 //mm\n",
"N1=360, N2=120 //rpm\n",
"//Solution:\n",
"//Calculating the pitch circle diameters of each gear\n",
"//Speed ratio, N1/N2 = d2/d1, or N1*d1-N2*d2 = 0                                .....(i)\n",
"//Centre distance between the shafts, x = 1/2*(d1+d2), or d1+d2 = 600*2         .....(ii)\n",
"A=[N1 -N2; 1 1]\n",
"B=[0; 600*2]\n",
"V=A \ B\n",
"d1=V(1) //mm\n",
"d2=V(2) //mm\n",
"//Calculating the number of teeth on the first gear\n",
"T1=round(%pi*d1/pc)\n",
"//Calculating the number of teeth on the second gear\n",
"T2=int(%pi*d2/pc+1)\n",
"//Calculating the pitch circle diameter of the first gear\n",
"d1dash=T1*pc/%pi //mm\n",
"//Calculating the pitch circle diameter of the second gear\n",
"d2dash=T2*pc/%pi //mm\n",
"//Calculating the exact distance between the two shafts\n",
"xdash=(d1dash+d2dash)/2 //mm\n",
"//Results:\n",
"printf('\n\n The number of teeth on the first and second gear must be %d and %d and their pitch circle diameters must be %.2f mm and %.1f mm respectively.\n\n',T1,T2,d1dash,d2dash)\n",
"printf(' The exact distance between the two shafts must be %.2f mm.\n\n',xdash)"
   ]
   }
,
{
		   "cell_type": "markdown",
		   "metadata": {},
		   "source": [
			"## Example 13.3: To_find_the_number_of_teeth.sce"
		   ]
		  },
  {
"cell_type": "code",
	   "execution_count": null,
	   "metadata": {
	    "collapsed": true
	   },
	   "outputs": [],
"source": [
"//To find the number of teeth\n",
"clc\n",
"//Given:\n",
"rAD=12 //Speed ratio, NA/ND\n",
"mA=3.125, mB=mA, mC=2.5, mD=mC, x=200 //mm\n",
"//Solution:\n",
"//Calculating the speed ratio between the gears A and B, and C and D\n",
"rAB=sqrt(rAD) //Speed ratio between the gears A and B\n",
"rCD=sqrt(rAB) //Speed ratio between the gears C and D\n",
"//Calculating the ratio of teeth on gear B to gear A\n",
"rtBA=rAB //Ratio of teeth on gear B to gear A\n",
"//Calculating the ratio of teeth on gear D to gear C\n",
"rtDC=rCD //Ratio of teeth on gear D to gear C\n",
"//Calculating the number of teeth on the gears A and B\n",
"//Distance between the shafts, x = mA*TA/2+mB*TB/2, or (mA/2)*TA+(mB/2)*TB = x        .....(i)\n",
"//Ratio of teeth on gear B to gear A, TB/TA = sqrt(12), or sqrt(12)*TA-TB = 0         .....(ii)\n",
"A=[mA/2 mB/2; sqrt(12) -1]\n",
"B=[x; 0]\n",
"V=A \ B\n",
"TA=int(V(1))\n",
"TB=round(V(2))\n",
"//Calculating the number of teeth on the gears C and D\n",
"//Distance between the shafts, x = mC*TC/2+mD*TD/2, or (mC/2)*TC+(mD/2)*TD = x        .....(iii)\n",
"//Ratio of teeth on gear D to gear C, TD/TC = sqrt(12), or sqrt(12)*TC-TD = 0         .....(iv)\n",
"A=[mC/2 mD/2; sqrt(12) -1]\n",
"B=[x; 0]\n",
"V=A \ B\n",
"TC=round(V(1))\n",
"TD=int(V(2))\n",
"//Results:\n",
"printf('\n\n Number of teeth on gear A, TA = %d.\n\n',TA)\n",
"printf(' Number of teeth on gear B, TB = %d.\n\n',TB)\n",
"printf(' Number of teeth on gear C, TC = %d.\n\n',TC)\n",
"printf(' Number of teeth on gear D, TD = %d.\n\n',TD)"
   ]
   }
,
{
		   "cell_type": "markdown",
		   "metadata": {},
		   "source": [
			"## Example 13.4: To_find_speed_of_gear_B.sce"
		   ]
		  },
  {
"cell_type": "code",
	   "execution_count": null,
	   "metadata": {
	    "collapsed": true
	   },
	   "outputs": [],
"source": [
"//To find speed of gear B\n",
"clc\n",
"//Given:\n",
"TA=36, TB=45\n",
"NC=150 //rpm, anticlockwise\n",
"//Solution:\n",
"//Refer Fig. 13.7\n",
"//Algebraic method:\n",
"//Calculating the speed of gear B when gear A is fixed\n",
"NA=0, NC=150 //rpm\n",
"NB1=(-TA/TB)*(NA-NC)+NC //rpm\n",
"//Calculating the speed of gear B when gear A makes 300 rpm clockwise\n",
"NA=-300 //rpm\n",
"NB2=(-TA/TB)*(NA-NC)+NC //rpm\n",
"//Results:\n",
"printf('\n\n Speed of gear B when gear A is fixed, NB = %d rpm.\n\n',NB1)\n",
"printf(' Speed of gear B when gear A makes 300 rpm clockwise, NB = %d rpm.\n\n',NB2)"
   ]
   }
,
{
		   "cell_type": "markdown",
		   "metadata": {},
		   "source": [
			"## Example 13.5: To_find_speed_of_gear_C.sce"
		   ]
		  },
  {
"cell_type": "code",
	   "execution_count": null,
	   "metadata": {
	    "collapsed": true
	   },
	   "outputs": [],
"source": [
"//To find speed of gear C\n",
"clc\n",
"//Given:\n",
"TB=75, TC=30, TD=90\n",
"NA=100 //rpm, clockwise\n",
"//Solution:\n",
"//Refer Table 13.3\n",
"//Calculating the number of teeth on gear E\n",
"TE=TC+TD-TB\n",
"//Calculating the speed of gear C\n",
"y=-100\n",
"x=y*(TB/TE)\n",
"NC=y-x*(TD/TC) //rpm\n",
"//Results:\n",
"printf('\n\n Speed of gear C, NC = %d rpm, anticlockwise.\n\n',NC)"
   ]
   }
,
{
		   "cell_type": "markdown",
		   "metadata": {},
		   "source": [
			"## Example 13.6: To_find_speed_of_gears_B_and_C.sce"
		   ]
		  },
  {
"cell_type": "code",
	   "execution_count": null,
	   "metadata": {
	    "collapsed": true
	   },
	   "outputs": [],
"source": [
"//To find speed of gears B and C\n",
"clc\n",
"//Given:\n",
"TA=72, TC=32\n",
"NEF=18 //Speed of arm EF, rpm\n",
"//Solution:\n",
"//Refer Table 13.5\n",
"//Speed of gear C:\n",
"y=18 //rpm\n",
"x=y*(TA/TC)\n",
"NC=x+y //Speed of gear C, rpm\n",
"//Speed of gear B:\n",
"//Calculating the number of teeth on gear B\n",
"TB=(TA-TC)/2\n",
"//Calculating the speed of gear B\n",
"NB=y-x*(TC/TB) //Speed of gear B, rpm\n",
"//Solution:\n",
"printf('\n\n Speed of gear C = %.1f rpm.\n\n',NC)\n",
"printf(' Speed of gear B = %.1f rpm in the opposite direction of arm.\n\n',-NB)"
   ]
   }
,
{
		   "cell_type": "markdown",
		   "metadata": {},
		   "source": [
			"## Example 13.7: To_find_revolutions_of_arm.sce"
		   ]
		  },
  {
"cell_type": "code",
	   "execution_count": null,
	   "metadata": {
	    "collapsed": true
	   },
	   "outputs": [],
"source": [
"//To find revolutions of arm\n",
"clc\n",
"//Given:\n",
"TA=40, TD=90\n",
"//Solution:\n",
"//Calculating the number of teeth on gears B and C\n",
"//From geometry of the Fig. 13.11, dA+2*dB=dD.\n",
"//Since the number of teeth are proportional to their pitch circle diameters,\n",
"TB=(TD-TA)/2\n",
"TC=TB\n",
"//Refer Table 13.6\n",
"//Speed of arm when A makes 1 revolution clockwise and D makes half revolution anticlockwise:\n",
"//Calculating the values of x and y\n",
"//From the fourth row of the table, -x-y = -1, or x+y = 1                            .....(i)\n",
"//The gear D makes half revolution anticlockwise, i.e., x*(TA/TD)-y = 1/2            .....(ii)\n",
"A=[1 1; TA/TD -1]\n",
"B=[1; 1/2]\n",
"V=A \ B\n",
"x=V(1)\n",
"y=V(2)\n",
"//Calculating the speed of arm\n",
"varm=-y //Speed of arm, revolutions\n",
"//Results:\n",
"printf('\n\n Speed of arm when A makes 1 revolution clockwise and D makes half revolution anticlockwise = %.2f revolution anticlockwise.\n\n',varm)\n",
"//Speed of arm when A makes 1 revolution clockwise and D is stationary:\n",
"//Calculating the values of x and y\n",
"//From the fourth row of the table, -x-y = -1, or x+y = 1                            .....(iii)\n",
"//The gear D is stationary, i.e., x*(TA/TD)-y = 0                                    .....(iv)\n",
"A=[1 1; TA/TD -1]\n",
"B=[1; 0]\n",
"V=A \ B\n",
"x=V(1)\n",
"y=V(2)\n",
"//Calculating the speed of arm\n",
"varm=-y //Speed of arm, revolutions\n",
"//Results:\n",
"printf(' Speed of arm when A makes 1 revolution clockwise and D is stationary = %.3f revolution clockwise.\n\n',-varm)"
   ]
   }
,
{
		   "cell_type": "markdown",
		   "metadata": {},
		   "source": [
			"## Example 13.8: To_find_teeth_and_speed.sce"
		   ]
		  },
  {
"cell_type": "code",
	   "execution_count": null,
	   "metadata": {
	    "collapsed": true
	   },
	   "outputs": [],
"source": [
"//To find teeth and speed\n",
"clc\n",
"//Given:\n",
"TC=28, TD=26, TE=18, TF=TE\n",
"//Solution:\n",
"//The sketch is as in Fig. 13.12\n",
"//Number of teeth on  wheels A and B:\n",
"//From geometry, dA = dC+2*dE, and dB = dD+2*dF\n",
"//Since the number of teeth are proportional to their pitch circle diameters,\n",
"TA=TC+2*TE\n",
"TB=TD+2*TF\n",
"//Speed of wheel B when arm G makes 100 rpm clockwise and wheel A is fixed:\n",
"//Since the arm G makes 100 rpm clockwise, therefore from the fourth row of Table 13.7,\n",
"y=-100\n",
"x=-y\n",
"//Calculating the speed of wheel B\n",
"NB1=y+x*(TA/TC)*(TD/TB) //Speed of wheel B when arm G makes 100 rpm clockwise and wheel A is fixed, rpm\n",
"//Speed of wheel B when arm G makes 100 rpm clockwise and wheel A makes 10 rpm counter clockwise:\n",
"//Since the arm G makes 100 rpm clockwise, therefore from the fourth row of Table 13.7,\n",
"y=-100\n",
"x=10-y\n",
"//Calculating the speed of wheel B\n",
"NB2=y+x*(TA/TC)*(TD/TB) //Speed of wheel B when arm G makes 100 rpm clockwise and wheel A makes 10 rpm counter clockwise, rpm\n",
"//Solution:\n",
"printf('\n\n Number of teeth on  wheel A, TA = %d.\n\n',TA)\n",
"printf(' Number of teeth on  wheel B, TB = %d.\n\n',TB)\n",
"printf(' Speed of wheel B when arm G makes 100 rpm clockwise and wheel A is fixed = %.1f rpm, clockwise.\n\n',-NB1)\n",
"printf(' Speed of wheel B when arm G makes 100 rpm clockwise and wheel A makes 10 rpm counter clockwise = %.1f rpm, counter clockwise.\n\n',NB2)"
   ]
   }
,
{
		   "cell_type": "markdown",
		   "metadata": {},
		   "source": [
			"## Example 13.9: To_find_number_of_teeth.sce"
		   ]
		  },
  {
"cell_type": "code",
	   "execution_count": null,
	   "metadata": {
	    "collapsed": true
	   },
	   "outputs": [],
"source": [
"//To find number of teeth\n",
"clc\n",
"//Given:\n",
"dD=224, m=4 //mm\n",
"//Solution:\n",
"//Refer Table 13.8\n",
"//Calculating the values of x and y\n",
"y=+1\n",
"x=+5-y\n",
"//Calculating the number of teeth on gear D\n",
"TD=dD/m\n",
"//Calculating the number of teeth on gear B\n",
"TB=y/x*TD\n",
"//Calculating the number of teeth on gear C\n",
"TC=(TD-TB)/2\n",
"//Results:\n",
"printf('\n\n Number of teeth on gear D, TD = %d.\n\n',TD)\n",
"printf(' Number of teeth on gear B, TB = %d.\n\n',TB)\n",
"printf(' Number of teeth on gear C, TC = %d.\n\n',TC)"
   ]
   }
],
"metadata": {
		  "kernelspec": {
		   "display_name": "Scilab",
		   "language": "scilab",
		   "name": "scilab"
		  },
		  "language_info": {
		   "file_extension": ".sce",
		   "help_links": [
			{
			 "text": "MetaKernel Magics",
			 "url": "https://github.com/calysto/metakernel/blob/master/metakernel/magics/README.md"
			}
		   ],
		   "mimetype": "text/x-octave",
		   "name": "scilab",
		   "version": "0.7.1"
		  }
		 },
		 "nbformat": 4,
		 "nbformat_minor": 0
}
