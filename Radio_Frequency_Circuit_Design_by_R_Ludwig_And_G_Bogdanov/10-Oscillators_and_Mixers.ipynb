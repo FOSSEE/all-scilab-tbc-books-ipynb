{
"cells": [
 {
		   "cell_type": "markdown",
	   "metadata": {},
	   "source": [
       "# Chapter 10: Oscillators and Mixers"
	   ]
	},
{
		   "cell_type": "markdown",
		   "metadata": {},
		   "source": [
			"## Example 10.1: Design_of_a_Colpitt_oscillator.sce"
		   ]
		  },
  {
"cell_type": "code",
	   "execution_count": null,
	   "metadata": {
	    "collapsed": true
	   },
	   "outputs": [],
"source": [
"fo=200*10^6;\n",
"Vce=3;\n",
"Ic=3*10^-3;\n",
"\n",
"Cbc=0.1*10^-15;\n",
"rBE=2*10^3;\n",
"rCE=10*10^3;\n",
"Cbe=100*10^-15;\n",
"L3=50*10^-9;\n",
"L=50*10^-9;\n",
"gm=0.11666;\n",
"\n",
"disp('DC values of Hparameters are');\n",
"h11=rBE;\n",
"h12=0;\n",
"h21=rBE*gm;\n",
"h22=1/rCE;\n",
"\n",
"disp('Mho',h22,'h22',h21,'h21',h12,'h12','Ohms',h11,'h11');\n",
"k=h21/(h11*h22-h21*h12);\n",
"A=(1+k)/L;\n",
"B=A^2;\n",
"C=16*k*(%pi)^2*fo^2*(h22/h11);\n",
"D=8*k*(%pi)^2*fo^2;\n",
"C2=(A+sqrt(B+C))/D;\n",
"C1=k*C2;\n",
"\n",
"disp('H parameters at resonance frequency');\n",
"w=2*%pi*fo;\n",
"E=1+%i*w*(Cbe+Cbc)*rBE;\n",
"\n",
"hie=rBE/E;\n",
"hre=(%i*w*Cbc*rBE)/E;\n",
"hfe=(rBE*(gm-%i*w*Cbc))/E;\n",
"hoe=h22+(%i*w*Cbc*(1+gm*rBE+%i*w*Cbe*rBE))/E;\n",
"disp('Mho',hoe,'hoe',hfe,'hfe',hre,'hre','Ohms',hie,'hie');"
   ]
   }
,
{
		   "cell_type": "markdown",
		   "metadata": {},
		   "source": [
			"## Example 10.2: Prediction_of_resonance_frequencies_of_quartz_crystal.sce"
		   ]
		  },
  {
"cell_type": "code",
	   "execution_count": null,
	   "metadata": {
	    "collapsed": true
	   },
	   "outputs": [],
"source": [
"stacksize('max');\n",
"//define crystal parameters\n",
"Lq=0.1;\n",
"Rq=25;\n",
"Cq=0.3*10^-12;\n",
"C0=1*10^-12;\n",
"\n",
"//find series resonance frequency\n",
"ws0=1/sqrt(Lq*Cq);\n",
"disp(ws0);\n",
"ws=ws0*(1+Rq^2/2*C0/Lq);\n",
"fs=ws/2/%pi \n",
"\n",
"//find parallel resonance frequency\n",
"wp0=sqrt((Cq+C0)/(Lq*Cq*C0));\n",
"wp=wp0*(1-Rq^2/2*C0/Lq);\n",
"fp=wp/2/%pi\n",
"\n",
"//define frequency range for this plot\n",
"f=(0.9:0.00001:1.1)*1e6;\n",
"w=2*%pi*f;\n",
"\n",
"//find abmittance of the resonator\n",
"Y=%i.*w*C0+1./(Rq+%i*(w*Lq-1./(w*Cq)));\n",
"\n",
"plot(f/1e6,abs(imag(Y)));\n",
"mtlb_axis([0.9 1.1 1e-10 1e-1]);\n",
"title('Admittance of the quartz crystal resonator');\n",
"xlabel('Frequency {\itf}, MHz');\n",
"ylabel('Susceptance |B|, \Omega');"
   ]
   }
,
{
		   "cell_type": "markdown",
		   "metadata": {},
		   "source": [
			"## Example 10.3: Adding_a_positive_feedback_element_to_initiate_oscillations.sce"
		   ]
		  },
  {
"cell_type": "code",
	   "execution_count": null,
	   "metadata": {
	    "collapsed": true
	   },
	   "outputs": [],
"source": [
"Z0=50;\n",
"//oscillation frequency\n",
"f=2*10^9;\n",
"w=2*%pi*f;\n",
"//transistor S-parameters at oscillation frequency\n",
"\n",
"s_tr=[0.94*exp(%i*174/180*%pi),0.013*exp(-%i*98/180*%pi);1.9*exp(-%i*28/180*%pi),1.01*exp(-%i*17/180*%pi)];\n",
"s11=ss2tf(1,1);\n",
"s12=ss2tf(1,2);\n",
"s21=ss2tf(2,1);\n",
"s22=ss2tf(2,2);\n",
"\n",
"//find the Z-parameters of the transistor\n",
"z_tr=ss2tf(s_tr,Z0);\n",
"\n",
"//attempt to add inductor to base in order to increase instability\n",
"L=(0:0.01:2)*1e-9;\n",
"\n",
"Z_L=%i*w*L;\n",
"z_L=[1,1;1,1];\n",
"\n",
"N=length(L);\n",
"\n",
"//create variables for the S_parameters of the transistor with the inductor\n",
"s11=zeros([1 N]);\n",
"s12=zeros([1 N]);\n",
"s21=zeros([1 N]);\n",
"s22=zeros([1 N]);\n",
"\n",
"//Rollett stability factor\n",
"K=zeros([1 N]);\n",
"\n",
"for n=1:N\n",
"   z_total=z_tr+z_L*Z_L(n);\n",
"   s_total=ss2tf(z_total,Z0);\n",
"   s11(n)=s_total(1,1);\n",
"   s12(n)=s_total(1,2);\n",
"   s21(n)=s_total(2,1);\n",
"   s22(n)=s_total(2,2);\n",
"   K(n)=(1-abs(s11(n))^2-abs(s22(n))^2+abs(det(s_total))^2)/2/abs(s12(n)*s21(n));\n",
"end;\n",
"\n",
"plot(L/1e-9,K);\n",
"title('Stability factor of the transistor in common-base mode vs. base inductance');\n",
"xlabel('Base inductance L, nH');\n",
"ylabel('Rollett stability factor \itk')"
   ]
   }
,
{
		   "cell_type": "markdown",
		   "metadata": {},
		   "source": [
			"## Example 10.6: Dielectric_resonator_oscillator_design.sce"
		   ]
		  },
  {
"cell_type": "code",
	   "execution_count": null,
	   "metadata": {
	    "collapsed": true
	   },
	   "outputs": [],
"source": [
"//define the S-paramters of the transistor at resonance frequency\n",
"s11=1.1*exp(%i*(170)/180*%pi);\n",
"s12=0.4*exp(%i*(-98)/180*%pi);\n",
"s21=1.5*exp(%i*(-163)/180*%pi);\n",
"s22=0.9*exp(%i*(-170)/180*%pi);\n",
"\n",
"s=[s11,s12;s21,s22];\n",
"\n",
"//define oscillation frequency\n",
"f0=8e9;\n",
"w0=2*%pi*f0;\n",
"\n",
"//define parameters of the dielectric resonator\n",
"Z0=50;\n",
"beta=7;\n",
"R=beta*2*Z0;\n",
"Qu=5e3;\n",
"\n",
"//compute equivalent L and C\n",
"L=R/(Qu*w0);\n",
"C=1/(L*w0^2);\n",
"\n",
"//find output reflection coefficient of the DR\n",
"Gout_abs=beta/(1+beta);\n",
"Gout_angle=-atan(imag(s11),real(s11))/%pi*180;\n",
"\n",
"//compute electrical length of the transmission line for the DR\n",
"theta0=-1/2*Gout_angle\n",
"Gout=Gout_abs*exp(%i*Gout_angle*%pi/180);\n",
"\n",
"//find the output impedance of the DR\n",
"Zout=Z0*(1+Gout)/(1-Gout)\n",
"\n",
"\n",
"// find the equivalent capacitance (it will be necessary for the computation of the oscillator without DR)\n",
"CC=-1/(w0*imag(Zout))\n",
"\n",
"Rs=50;\n",
"\n",
"//define the frequency for the plot\n",
"delta_f=0.05e9; //frequency range\n",
"f=f0-delta_f/2 : delta_f/100 : f0+delta_f/2;\n",
"w=2*%pi*f;\n",
"\n",
"if theta0<0\n",
"   theta0=360+theta0;\n",
"end;\n",
"\n",
"theta=theta0*f/f0/180*%pi;\n",
"\n",
"//repeat the same computations as above, but for specified frequency range\n",
"Gs=(Rs-Z0)/(Rs+Z0);\n",
"G1=Gs*exp(-%i*2*theta);\n",
"R1=Z0*(1+G1)./(1-G1);\n",
"Zd=1./(1/R+1./(%i*w*L+%i*w*C));\n",
"R1d=R1+Zd;\n",
"G1d=(R1d-Z0)./(R1d+Z0);\n",
"G2=G1d.*exp(-%i*2*theta);\n",
"\n",
"//compute the output reflection coefficient (we have oscillations if |Gout|>1)\n",
"Gout=s22+s12*s21*G2./(1-s11*G2);\n",
"\n",
"figure;\n",
"plot(f/1e9,abs(Gout),'b','linewidth',2);\n",
"title('Output reflection coefficient of the oscillator with DR');\n",
"xlabel('Frequency f, GHz');\n",
"ylabel('Output reflection coefficient |\Gamma_{out}|');\n",
"mtlb_axis([7.975 8.025 0 14]);\n",
"\n",
"\n",
"//Redefine the frequency range (we have to increase it in order to be able to observe any variations in the response\n",
"delta_f=5e9;\n",
"f=f0-delta_f/2 : delta_f/100 : f0+delta_f/2;\n",
"w=2*%pi*f;\n",
"\n",
"//Compute the output reflection coefficient of the oscillator but with DR replaced by a series combination of resistance and capacitance\n",
"ZZ2=real(Zout)+1./(%i*w*CC);\n",
"GG2=(ZZ2-Z0)./(ZZ2+Z0);\n",
"GG=s22+s12*s21*GG2./(1-s11*GG2);\n",
"\n",
"figure;\n",
"plot(f/1e9,abs(GG),'r','linewidth',2);\n",
"title('Output reflection coefficient of the oscillator without DR');\n",
"xlabel('Frequency f, GHz');\n",
"ylabel('Output reflection coefficient |\Gamma_{out}|');"
   ]
   }
,
{
		   "cell_type": "markdown",
		   "metadata": {},
		   "source": [
			"## Example 10.8: Local_oscillator_frequency_selection.sce"
		   ]
		  },
  {
"cell_type": "code",
	   "execution_count": null,
	   "metadata": {
	    "collapsed": true
	   },
	   "outputs": [],
"source": [
"fRF=1.89*10^9; //RF frequency\n",
"BW=20*10^6; //Bandwidth\n",
"fIF=200*10^6; //Intermediate Frequency\n",
"flo=fRF+fIF; //Local oscillator frequency\n",
"Q=fIF/BW; //Quality factotr\n",
"disp(Q,'Quality Factor');"
   ]
   }
],
"metadata": {
		  "kernelspec": {
		   "display_name": "Scilab",
		   "language": "scilab",
		   "name": "scilab"
		  },
		  "language_info": {
		   "file_extension": ".sce",
		   "help_links": [
			{
			 "text": "MetaKernel Magics",
			 "url": "https://github.com/calysto/metakernel/blob/master/metakernel/magics/README.md"
			}
		   ],
		   "mimetype": "text/x-octave",
		   "name": "scilab",
		   "version": "0.7.1"
		  }
		 },
		 "nbformat": 4,
		 "nbformat_minor": 0
}
