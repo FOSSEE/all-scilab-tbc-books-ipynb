{
"cells": [
 {
		   "cell_type": "markdown",
	   "metadata": {},
	   "source": [
       "# Chapter 1: Introduction"
	   ]
	},
{
		   "cell_type": "markdown",
		   "metadata": {},
		   "source": [
			"## Example 1.1: Intrinsic_wave_impedance.sce"
		   ]
		  },
  {
"cell_type": "code",
	   "execution_count": null,
	   "metadata": {
	    "collapsed": true
	   },
	   "outputs": [],
"source": [
"mu0=4*%pi*10^-7;// defining permeability of free space\n",
"epsilon0=8.85*10^-12;// defining permittivity of free space\n",
"z0=sqrt(mu0/epsilon0);// calculating intrinsic impedance\n",
"epsilonr=4.6;// defining relative permittivity\n",
"vp=1/sqrt(mu0*epsilon0*epsilonr);// calculating phase velocity\n",
"f1=30*10^6;\n",
"f2=3*10^9;\n",
"lambda1=vp/(f1);\n",
"lambda2=vp/(f2);\n",
"disp('metre',lambda1,'Wavelength corresponding to f1');//displaying wavelengths\n",
"disp('metre',lambda2,'Wavelength corresponding to f2');//displaying wavelengths"
   ]
   }
,
{
		   "cell_type": "markdown",
		   "metadata": {},
		   "source": [
			"## Example 1.2: Comparing_Inductances_at_different_frequencies.sce"
		   ]
		  },
  {
"cell_type": "code",
	   "execution_count": null,
	   "metadata": {
	    "collapsed": true
	   },
	   "outputs": [],
"source": [
"mu0=4*%pi*10^-7;\n",
"a=8*2.54*10^-5; //radius of copper wire\n",
"sigmac=64.5*10^6; //conductivity of copper\n",
"l=2*10^-2; //length of wire\n",
"rdc=l/(%pi*a*a*sigmac);\n",
"f1=100*10^6;\n",
"f2=2*10^9;\n",
"f3=5*10^9;\n",
"skindepth1=1/sqrt(%pi*mu0*f1*sigmac);\n",
"skindepth2=1/sqrt(%pi*mu0*f2*sigmac);\n",
"skindepth3=1/sqrt(%pi*mu0*f3*sigmac);\n",
"Lin1=(a*rdc)/(2*skindepth1*2*%pi*f1); //internal inductance\n",
"Lin2=(a*rdc)/(2*skindepth2*2*%pi*f2); //internal inductance\n",
"Lin3=(a*rdc)/(2*skindepth3*2*%pi*f3); //internal inductance\n",
"temp=log(2*l/a)/log(%e);\n",
"Lex=mu0*l*(temp-1)/(2*%pi); //external inductance\n",
"disp('metre',skindepth1,'Skin depth at f1');\n",
"disp('metre',skindepth2,'Skin depth at f2');\n",
"disp('metre',skindepth3,'Skin depth at f3');\n",
"disp('Henry',Lin1,'Internal inductance at f1');\n",
"disp('Henry',Lin2,'Internal inductance at f2');\n",
"disp('Henry',Lin3,'Internal inductance at f3');\n",
"disp('Henry',Lex,'External inductance');"
   ]
   }
,
{
		   "cell_type": "markdown",
		   "metadata": {},
		   "source": [
			"## Example 1.3: Frequency_response_of_high_frequency_resistor.sce"
		   ]
		  },
  {
"cell_type": "code",
	   "execution_count": null,
	   "metadata": {
	    "collapsed": true
	   },
	   "outputs": [],
"source": [
"f=10^4:10^5:10^10;\n",
"w=2*%pi.*f;\n",
"mu0=4*%pi*10^-7;\n",
"l=2*2.5*10^-2;\n",
"a=2.032*10^-4;\n",
"temp=log(2*l/a)/log(%e);\n",
"lex=mu0*l*(temp-1)/(2*%pi); //external inductance\n",
"r=2*10^3;                   // resistance\n",
"c=5*10^-12;                 //capacitance\n",
"z=w*lex*%i+1 ./(w*c*%i+1/r); //impedance\n",
"plot2d('gll',f,abs(z));\n",
"title('High frequency impedance behaviour of a 2k ohm metal film resistor ');\n",
"xlabel('Frequency  (f) in Hz');\n",
"ylabel('Absolute Impedance (|Z|) in ohms');"
   ]
   }
,
{
		   "cell_type": "markdown",
		   "metadata": {},
		   "source": [
			"## Example 1.4: Frequency_response_of_high_frequency_capacitor.sce"
		   ]
		  },
  {
"cell_type": "code",
	   "execution_count": null,
	   "metadata": {
	    "collapsed": true
	   },
	   "outputs": [],
"source": [
"f=10^6:10^7:10^10;\n",
"rs=(4.8*10^-6).*sqrt(f);\n",
"re=(33.9*10^12) ./f;\n",
"c=47*10^-12;\n",
"w=2*%pi.*f;\n",
"l=2*1.25*10^-2;\n",
"a=2.032*10^-4;\n",
"temp=log(2*l/a)/log(%e);\n",
"lex=mu0*l*(temp-1)/(2*%pi);          //external inductance\n",
"z=1 ./(1 ./re +w*c*%i)+rs+w.*lex*%i; // impedance of frequency dependent capacitor\n",
"zideal=1 ./(w*c*%i);    //impedance of an ideal capacitor\n",
"plot2d('gll',f,abs(z));\n",
"plot2d(f,abs(zideal));\n",
"title('Frequency responce of a high frequency capacitor');\n",
"xlabel('Frequency  (f) in  Hz');\n",
"ylabel('Absolute impedance  (|Z|) in ohms');"
   ]
   }
,
{
		   "cell_type": "markdown",
		   "metadata": {},
		   "source": [
			"## Example 1.5: frequency_response_of_high_frequency_inductor.sce"
		   ]
		  },
  {
"cell_type": "code",
	   "execution_count": null,
	   "metadata": {
	    "collapsed": true
	   },
	   "outputs": [],
"source": [
"f=10^7:10^8:10^10;\n",
"w=2*%pi.*f;\n",
"N=3.5;       //number of turns\n",
"rad=0.05*0.0254;\n",
"len=0.05*0.0254;      //length of wire\n",
"a=(5*0.0254*10^-3)/2;\n",
"u0=4*%pi*10^-7;\n",
"sig_cu=64.516*10^6;\n",
"e0=8.854*10^-12;\n",
"l=(%pi*rad^2*u0*(N^2))/len;\n",
"c=(e0*4*%pi*rad*(N^2)*a)/len;\n",
"r=(2*rad*N)/(sig_cu*(a^2));\n",
"z=1 ./((1 ./(r+w*%i*l))+w*%i*c); //impedance\n",
"zideal=w*%i.*l;                  //impedance of an ideal inductor\n",
"plot2d('gll',f,abs(z));\n",
"plot2d(f,abs(zideal));\n",
"title('Frequency response of the impedance of an RFC');\n",
"xlabel('Frequency (f) in Hz');\n",
"ylabel('Absolute Impedance (|Z|)  in  ohms');"
   ]
   }
],
"metadata": {
		  "kernelspec": {
		   "display_name": "Scilab",
		   "language": "scilab",
		   "name": "scilab"
		  },
		  "language_info": {
		   "file_extension": ".sce",
		   "help_links": [
			{
			 "text": "MetaKernel Magics",
			 "url": "https://github.com/calysto/metakernel/blob/master/metakernel/magics/README.md"
			}
		   ],
		   "mimetype": "text/x-octave",
		   "name": "scilab",
		   "version": "0.7.1"
		  }
		 },
		 "nbformat": 4,
		 "nbformat_minor": 0
}
