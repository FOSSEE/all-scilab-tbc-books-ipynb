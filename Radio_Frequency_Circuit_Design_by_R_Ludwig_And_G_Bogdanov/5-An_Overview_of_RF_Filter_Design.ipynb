{
"cells": [
 {
		   "cell_type": "markdown",
	   "metadata": {},
	   "source": [
       "# Chapter 5: An Overview of RF Filter Design"
	   ]
	},
{
		   "cell_type": "markdown",
		   "metadata": {},
		   "source": [
			"## Example 5.1: Resonance_frequency_of_a_Bandpass_filter.sce"
		   ]
		  },
  {
"cell_type": "code",
	   "execution_count": null,
	   "metadata": {
	    "collapsed": true
	   },
	   "outputs": [],
"source": [
"stacksize('max');\n",
"C=2*10^-12;\n",
"L=5*10^-9;\n",
"R=20;\n",
"Z0=50;\n",
"//f=[10^7:10^8:10^11];\n",
"//define frequency range\n",
"f_min=10e6;  //lower frequency limit\n",
"f_max=100e9; // upper frequency limit\n",
"N=100;      // number of points in the graph\n",
"f=f_min*((f_max/f_min).^((0:N)/N)); // compute frequency points on log scale\n",
"w=2*%pi.*f;  \n",
"A=(w.*w*L*C-1)/(w*C);\n",
"S21=2*Z0./(2*Z0+R+%i*A);\n",
"f0=1./(2*%pi*sqrt(L*C));\n",
"disp('Hertz',f0,'Resonance frequency');"
   ]
   }
,
{
		   "cell_type": "markdown",
		   "metadata": {},
		   "source": [
			"## Example 5.2: Quality_factors_of_a_filter.sce"
		   ]
		  },
  {
"cell_type": "code",
	   "execution_count": null,
	   "metadata": {
	    "collapsed": true
	   },
	   "outputs": [],
"source": [
"//define problem parameters\n",
"\n",
"Z0=50; //characteristic line impedance\n",
"ZG=50; //source impedance\n",
"ZL=50; //load impedance\n",
"\n",
"//series RLC filter parameters\n",
"R=10;\n",
"L=50e-9;\n",
"C=0.47e-12;\n",
"\n",
"VG=5; //generator voltage\n",
"\n",
"//compute series resonance frequency\n",
"w0=1/sqrt(L*C);\n",
"f0=w0/(2*%pi);\n",
"\n",
"//define a frequency range\n",
"delta=0.2;\n",
"w=((1-delta):2*delta/1000:(1+delta))*w0;\n",
"\n",
"//compute quality factors\n",
"Q_LD=w0*L/(R+2*ZL) //loaded quality factor\n",
"Q_F=w0*L/R //filter quality factor\n",
"Q_E=w0*L/(2*ZL) //external quality factor\n",
"\n",
"// compute Bandwidth\n",
"BW=f0/Q_LD\n",
"\n",
"//compute input and load power\n",
"P_in=VG^2/(8*Z0)\n",
"P_L=P_in*Q_LD^2/Q_E^2\n",
"\n",
"//compute insertion loss and load factor\n",
"epsilon=w/w0-w0./w;\n",
"LF=(1+epsilon.^2*Q_LD^2)/(1-Q_LD/Q_F)^2; \n",
"IL=10*log10(LF);\n",
"\n",
"disp(Q_LD,'Loaded Quality Factor');\n",
"disp(Q_F,'Filter Quality Factor');\n",
"disp(Q_E,'External Quality Factor');\n",
"disp('Watts',P_in,'Input Power');\n",
"disp('Watts',P_L,'Power delivered to the load');\n",
"disp('Hertz',f0,'resonance frequency of the filter');\n",
"disp('Hertz',BW,'Bandwidth of the filter');\n",
"plot(w/2/%pi/1e9,IL);\n",
"title('Insertion loss versus frequency');\n",
"xlabel('Frequency, GHz');\n",
"ylabel('Insertion loss, dB');"
   ]
   }
],
"metadata": {
		  "kernelspec": {
		   "display_name": "Scilab",
		   "language": "scilab",
		   "name": "scilab"
		  },
		  "language_info": {
		   "file_extension": ".sce",
		   "help_links": [
			{
			 "text": "MetaKernel Magics",
			 "url": "https://github.com/calysto/metakernel/blob/master/metakernel/magics/README.md"
			}
		   ],
		   "mimetype": "text/x-octave",
		   "name": "scilab",
		   "version": "0.7.1"
		  }
		 },
		 "nbformat": 4,
		 "nbformat_minor": 0
}
