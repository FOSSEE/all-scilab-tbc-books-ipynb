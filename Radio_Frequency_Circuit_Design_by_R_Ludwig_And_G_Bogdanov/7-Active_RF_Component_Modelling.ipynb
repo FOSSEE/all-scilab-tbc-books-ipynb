{
"cells": [
 {
		   "cell_type": "markdown",
	   "metadata": {},
	   "source": [
       "# Chapter 7: Active RF Component Modelling"
	   ]
	},
{
		   "cell_type": "markdown",
		   "metadata": {},
		   "source": [
			"## Example 7.1: Small_signal_pn_diode_model.sce"
		   ]
		  },
  {
"cell_type": "code",
	   "execution_count": null,
	   "metadata": {
	    "collapsed": true
	   },
	   "outputs": [],
"source": [
"//define problem parameters\n",
"TT=500e-12; // transit time\n",
"T0=300;     //temperature\n",
"Is0=5e-15;  // reverse saturation current at 300K\n",
"Rs=1.5;     // series resistance\n",
"nn=1.16;    //emission coefficient\n",
"\n",
"// parameters needed to describe temperature behavior of \n",
"// the band-gap energy in Si\n",
"alpha=7.02e-4; \n",
"beta=1108;\n",
"Wg0=1.16;\n",
"pt=3;\n",
"\n",
"// quiescent current\n",
"Iq=50e-3;\n",
"\n",
"// frequency range 10MHz to 1GHz\n",
"f_min=10e6;  // lower limit\n",
"f_max=1e9;   //upper limit\n",
"N=300;       // number of points in the graph\n",
"f=f_min*((f_max/f_min).^((0:N)/N)); // compute frequency points on log scale\n",
"\n",
"// temperatures for which analysis will be performed\n",
"T_points=[250 300 350 400];\n",
"\n",
"// define physical constants\n",
"q=1.60218e-19; // electron charge\n",
"k=1.38066e-23; // Boltzmann's constant\n",
"\n",
"for n=1:length(T_points) \n",
"   T=T_points(n);\n",
"   s=sprintf('T=%.f\n',T);\n",
"   Vt=k*T/q;\n",
"   \n",
"   Wg=Wg0-alpha*T^2/(beta+T);\n",
"   s=sprintf('%s   Wg(T)=%f\n',s,Wg);\n",
"   \n",
"   Is=Is0*(T/T0)^(pt/nn)*exp(-Wg/Vt*(1-T/T0));\n",
"   s=sprintf('%s   Is(T)=%e\n',s,Is);\n",
"   \n",
"   Vq=nn*Vt*log(1+Iq/Is);\n",
"   s=sprintf('%s   Vq(T)=%f\n',s,Vq);\n",
"   \n",
"   Rd=nn*Vt/Iq;\n",
"   s=sprintf('%s   Rd(T)=%f\n',s,Rd);\n",
"   \n",
"   Cd=Is*TT/nn/Vt*exp(Vq/nn/Vt);\n",
"   s=sprintf('%s   Cd(T)=%fpF\n',s,Cd/1e-12)\n",
"   \n",
"   Zc=1./(%i*2*%pi*f*Cd);\n",
"   \n",
"   Zin=Rs+Rd*Zc./(Rd+Zc);\n",
"   \n",
"   plot(f/1e6,abs(Zin));\n",
"   set(gca(),'auto_clear','off');\n",
"end;   \n",
"\n",
"title('Frequency behavior of small-signal diode model');\n",
"xlabel('Frequency {\itf}, MHz');\n",
"ylabel('Impedance |Z|, \Omega');"
   ]
   }
,
{
		   "cell_type": "markdown",
		   "metadata": {},
		   "source": [
			"## Example 7.4: Parameters_of_BJT.sce"
		   ]
		  },
  {
"cell_type": "code",
	   "execution_count": null,
	   "metadata": {
	    "collapsed": true
	   },
	   "outputs": [],
"source": [
"//first we define all parameters for the transistor and the circuit\n",
"Z0=50; //characteristic imedance of the system\n",
"\n",
"Vcc=3.6; //power supply voltage\n",
"Vce=2; //collector voltage \n",
"Ic=10e-3; //collector current\n",
"\n",
"T=300; //ambient temperature (300K)\n",
"\n",
"//transistor parameters (they are very similar to BFG403W)\n",
"beta=145;    // current gain\n",
"Is=5.5e-18;  // saturation current\n",
"VAN= 30;     // forward Early voltage\n",
"tau_f=4e-12; // forward transition time\n",
"rb=125;      // base resistance\n",
"rc=15;       // collector resistance\n",
"re=1.5;      // emitter resistance\n",
"Lb=1.1e-9;   // base inductance\n",
"Lc=1.1e-9;   // collector inductance\n",
"Le=0.5e-9;   // emitter inductance\n",
"Cjc=16e-15;  // collector junction capacitance at zero applied voltage\n",
"mc=0.2;      // collector junction grading coefficient\n",
"Cje=37e-15;  // emitter junction capacitance at zero applied voltage\n",
"me=0.35;     // emitter junction grading coefficient\n",
"phi_be=0.9;  // base-emitter diffusion potential\n",
"phi_bc=0.6;  // base-collector diffusion potential\n",
"Vbe=phi_be;  // base-emitter voltage\n",
"\n",
"// some physical constants\n",
"k=1.38e-23;   // Boltzmann's constant\n",
"q=1.6e-19;    // elementary charge\n",
"VT=k*T/q;     // thermal potential\n",
"\n",
"disp('DC biasing parameters');\n",
"\n",
"Ib=Ic/beta;\n",
"disp('Amperes',Ib,'Base current');\n",
"\n",
"Rc=(Vcc-Vce)/Ic;\n",
"disp('Ohms',Rc,'Collector resistance');\n",
"\n",
"Rb=(Vcc-Vbe)/Ib;\n",
"disp('Ohms',Rb,'Base resistance');\n",
"\n",
"\n",
"r_pi=VT/Ib;\n",
"disp('Ohms',r_pi,'Rpi');\n",
"\n",
"r0=VAN/Ic;\n",
"disp('Ohms',r0,'R0');\n",
"\n",
"gm=beta/r_pi;\n",
"disp('Mho',gm,'Gm');\n",
"\n",
"Vbc=Vbe-Vce;\n",
"Cmu=Cjc*(1-Vbc/phi_bc)^(-mc);\n",
"disp('Farads',Cmu,'base collector capacitance');\n",
"\n",
"if(Vbe<0.5*phi_be)\n",
"   Cpi_junct=Cje*(1-Vbe/phi_be)^(-me);\n",
"else\n",
"   C_middle=Cje*0.5^(-me);\n",
"   k_middle=1-0.5*me;\n",
"   Cpi_junct=C_middle*(k_middle+me*Vbe/phi_be);\n",
"end;\n",
"\n",
"disp('Farads',Cpi_junct,'Junction Capacitance');\n",
"\n",
"Cpi_diff=Is*tau_f/VT*exp(Vbe/VT);\n",
"disp('Farads',Cpi_diff,'Differential capacitance');\n",
"\n",
"Cpi=Cpi_junct+Cpi_diff;\n",
"disp('Farads',Cpi,'Total Capacitance');\n",
"\n",
"C_miller=Cmu*(1+gm*r_pi/(r_pi+rb)*Z0*r0/(r0+rc+Z0));\n",
"disp('Farads',C_miller,'Miller Capacitance');\n",
"\n",
"C_input=Cpi+C_miller;\n",
"disp('Farads',C_input,'Total input capacitance');"
   ]
   }
,
{
		   "cell_type": "markdown",
		   "metadata": {},
		   "source": [
			"## Example 7.5: Cutoff_frequency_of_GaAs_MESFET.sce"
		   ]
		  },
  {
"cell_type": "code",
	   "execution_count": null,
	   "metadata": {
	    "collapsed": true
	   },
	   "outputs": [],
"source": [
"l=1*10^-6; //length\n",
"w=200*10^-6; //width\n",
"d=0.5*10^-6; //depth\n",
"E0=8.854*10^-12; \n",
"Er=13.1;\n",
"q=1.6*10^-19; //electron charge\n",
"Nd=1*10^16; //doping concentration\n",
"mun=8500;\n",
"Vp=(q*Nd*d^2)/(2*Er*E0);\n",
"G0=(q*mun*Nd*w)/l;\n",
"gm=0.0358;\n",
"Cap=(E0*Er*w*l)/d;\n",
"fT=gm/(2*%pi*Cap);\n",
"disp('Hertz',fT,'Cut off frequency');"
   ]
   }
,
{
		   "cell_type": "markdown",
		   "metadata": {},
		   "source": [
			"## Example 7.6: Small_signal_Hybrid_pi_parameters_without_Miller_Effect.sce"
		   ]
		  },
  {
"cell_type": "code",
	   "execution_count": null,
	   "metadata": {
	    "collapsed": true
	   },
	   "outputs": [],
"source": [
"Icq=6*10^-3;\n",
"Ibq=40*10^-6;\n",
"Van=30; //Early voltage\n",
"q=1.6*10^-19;\n",
"k=1.38*10^-23;\n",
"T=300;\n",
"fT=37*10^9; //Transition frequency\n",
"gm=(Icq*q)/(k*T);\n",
"beta0=Icq/Ibq;\n",
"r0=Van/Icq;\n",
"rpi=beta0/gm;\n",
"Cpi=(beta0)/(2*%pi*fT*rpi);\n",
"disp('Hybrid pi parametrs without Miller effect');\n",
"disp('Mho',gm,'gm');\n",
"disp('Ohms',rpi,'Rpi');\n",
"disp('Farads',Cpi,'Cpi');\n",
"disp('Ohms',r0,'R0');\n",
"disp(beta0,'Beta0');"
   ]
   }
],
"metadata": {
		  "kernelspec": {
		   "display_name": "Scilab",
		   "language": "scilab",
		   "name": "scilab"
		  },
		  "language_info": {
		   "file_extension": ".sce",
		   "help_links": [
			{
			 "text": "MetaKernel Magics",
			 "url": "https://github.com/calysto/metakernel/blob/master/metakernel/magics/README.md"
			}
		   ],
		   "mimetype": "text/x-octave",
		   "name": "scilab",
		   "version": "0.7.1"
		  }
		 },
		 "nbformat": 4,
		 "nbformat_minor": 0
}
