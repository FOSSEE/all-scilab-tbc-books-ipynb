{
"cells": [
 {
		   "cell_type": "markdown",
	   "metadata": {},
	   "source": [
       "# Chapter 2: Transmission line analysis"
	   ]
	},
{
		   "cell_type": "markdown",
		   "metadata": {},
		   "source": [
			"## Example 2.10: Return_Loss_of_Transmission_line_section.sce"
		   ]
		  },
  {
"cell_type": "code",
	   "execution_count": null,
	   "metadata": {
	    "collapsed": true
	   },
	   "outputs": [],
"source": [
"RL=20; //load resistance\n",
"Zo=50; //intrinsic impedance\n",
"Rin=50; //input resistance\n",
"Tin=10^(-RL/20); //reflection coefficient at input\n",
"Rg1=Rin*(1+Tin)/(1-Tin);\n",
"Rg2=Rin*(1-Tin)/(1+Tin);\n",
"disp('Ohms',Rg1,'Source resistance for positive Tin=');\n",
"disp('Ohms',Rg2,'Source resistance for negative Tin=');"
   ]
   }
,
{
		   "cell_type": "markdown",
		   "metadata": {},
		   "source": [
			"## Example 2.1: Magnetic_field_inside_and_outside_infinitely_long_current_carrying_wire.sce"
		   ]
		  },
  {
"cell_type": "code",
	   "execution_count": null,
	   "metadata": {
	    "collapsed": true
	   },
	   "outputs": [],
"source": [
"I=5; //current in infinitely long wire\n",
"a=0.005; //radius of infinitely long wire\n",
"r_max=10*a; \n",
"N=100;\n",
"r=(0:N)/N*r_max;\n",
"for k=1:N+1\n",
"if(r(k)<=a)\n",
"H(k)=I*r(k)/(2*%pi*a*a); \n",
"else\n",
"H(k)=I/(2*%pi*r(k));\n",
"end;\n",
"end;\n",
"plot(r*1000,H);\n",
"plot([a a]*1000,[0 160],'r:');\n",
"title('Magnetic field distribution vs. distance from the center');\n",
"xlabel('Distance from the center of the wire,mm');\n",
"ylabel('Magnetic field,A/m');"
   ]
   }
,
{
		   "cell_type": "markdown",
		   "metadata": {},
		   "source": [
			"## Example 2.3: Transmission_line_parameters_of_a_parallel_copper_plate_transmission_line.sce"
		   ]
		  },
  {
"cell_type": "code",
	   "execution_count": null,
	   "metadata": {
	    "collapsed": true
	   },
	   "outputs": [],
"source": [
"f=1*10^9;\n",
"w=6*10^-3; //width\n",
"d=1*10^-3; //seperation\n",
"epsilonr=2.25;\n",
"epsilon0=8.85*10^-12;\n",
"sigma_diel=0.125;\n",
"sigma_cond=64.5*10^6;\n",
"mu0=4*%pi*10^-7;\n",
"skindepth=1/sqrt(%pi*sigma_cond*mu0*f);\n",
"r=2/(w*sigma_cond*skindepth);\n",
"L=2/(w*sigma_cond*2*%pi*f*skindepth);\n",
"c=epsilon0*epsilonr*w/d;\n",
"G=sigma_diel*w/d;\n",
"disp('R,L,G,C parameters of a parallel copper plate transmission line ')\n",
"disp(r,'Resistance in ohm/m');\n",
"disp(L,'Inductance in Henry/m');\n",
"disp(c,'Capacitance in Farad/m');\n",
"disp(G,'Conductance in mS/m');"
   ]
   }
,
{
		   "cell_type": "markdown",
		   "metadata": {},
		   "source": [
			"## Example 2.5: Phase_velocity_and_Wavelength_of_PCB_material.sce"
		   ]
		  },
  {
"cell_type": "code",
	   "execution_count": null,
	   "metadata": {
	    "collapsed": true
	   },
	   "outputs": [],
"source": [
"epsilonr=4.6;\n",
"f=2*10^9;\n",
"z0=50; //line impedance\n",
"mu0=4*%pi*10^-7;\n",
"epsilon0=8.85*10^-12;\n",
"zf=sqrt(mu0/epsilon0); //free space impedance\n",
"temp=((epsilonr-1)/(epsilonr+1))*(0.23+(0.11/epsilonr));\n",
"temp1=2*%pi*(z0/zf)*sqrt((epsilonr+1)/2);\n",
"A=temp+temp1;\n",
"wtoh=(8*%e^A)/((%e^2*A)-2);\n",
"Eff=(epsilonr+1)/2+(epsilonr-1)/2*1/(sqrt(1+12*(1/(wtoh))));\n",
"vp=3*10^8/sqrt(Eff);\n",
"lambda=vp/f;\n",
"disp('metre/second',vp,'Phase velocity');\n",
"disp('metre',lambda,'Wavelength');"
   ]
   }
,
{
		   "cell_type": "markdown",
		   "metadata": {},
		   "source": [
			"## Example 2.6: Input_Impedance_for_a_short_circuited_transmission_line.sce"
		   ]
		  },
  {
"cell_type": "code",
	   "execution_count": null,
	   "metadata": {
	    "collapsed": true
	   },
	   "outputs": [],
"source": [
"L=209.4*10^-9; //line inductance in H/m\n",
"C=119.5*10^-12; //line capacitance in F/m\n",
"vp=1/sqrt(L*C); // phase velocity\n",
"Z0=sqrt(L/C); // characteristic line impedance\n",
"d=0.1; // line length\n",
"N=500; // number of sampling points\n",
"f=1*10^9+3*10^9*(0:N)/N; // set frequency range\n",
"Z=tan(2*%pi*f*d/vp); // short circuit impedance\n",
"plot(f/1*10^9,abs(Z0*Z));\n",
"title('Input impedance of a short-circuited transmission line');\n",
"xlabel('Frequency,GHz');\n",
"ylabel('Input impedance,|Z');"
   ]
   }
,
{
		   "cell_type": "markdown",
		   "metadata": {},
		   "source": [
			"## Example 2.7: Input_impedance_of_open_circuited_transmission_line.sce"
		   ]
		  },
  {
"cell_type": "code",
	   "execution_count": null,
	   "metadata": {
	    "collapsed": true
	   },
	   "outputs": [],
"source": [
"L=209.4*10^-9; //line inductance in H/m\n",
"C=119.5*10^-12; //line capacitance in F/m\n",
"vp=1/sqrt(L*C); // phase velocity\n",
"Z0=sqrt(L/C); // characteristic line impedance\n",
"d=0.1; // line length\n",
"N=500; // number of sampling points\n",
"f=1e9+4e9*(0:N)/N; // set frequency range\n",
"Z=cotg(2*%pi*f*d/vp); // short circuit impedance\n",
"plot(f/1e9,abs(Z0*Z));\n",
"title('Input impedance of an open-circuited line');\n",
"xlabel('Frequency , GHz');\n",
"ylabel('Input impedance |Z|, {\Omega}');"
   ]
   }
,
{
		   "cell_type": "markdown",
		   "metadata": {},
		   "source": [
			"## Example 2.8: Quarter_wave_parallel_plate_line_transformer.sce"
		   ]
		  },
  {
"cell_type": "code",
	   "execution_count": null,
	   "metadata": {
	    "collapsed": true
	   },
	   "outputs": [],
"source": [
"ZL=25; //input impedance\n",
"Z0=50; //characteristic impedance\n",
"epsilonr=4;\n",
"dp=0.001;\n",
"f0=500e6;\n",
"mu0=4*%pi*1e-7;\n",
"epsilon0=8.85e-12;\n",
"Zline=sqrt(Z0*ZL); //line impedance\n",
"w=dp/Zline*sqrt(mu0/epsilon0/epsilonr);\n",
"L=mu0*dp/w;  //inductance\n",
"C=epsilon0*epsilonr*w/dp;  //capacitance\n",
"vp=1/sqrt(L*C);   //phase velocity\n",
"Z0=sqrt(L/C);\n",
"d=1/(4*f0*sqrt(L*C));\n",
"N=100;\n",
"f=2e9*(0:N)/N;\n",
"betta=2*%pi*f/vp;\n",
"Z=Zline*((ZL+%i*Zline*tan(betta*d))./(Zline+%i*ZL*tan(betta*d)));\n",
"plot(f/1e9,real(Z));\n",
"title('Input impedance of the quarter-wave transformer');\n",
"xlabel('Frequency {\itf}, GHz');\n",
"ylabel('Input impedance |Z_{in}|, {\Omega}');"
   ]
   }
,
{
		   "cell_type": "markdown",
		   "metadata": {},
		   "source": [
			"## Example 2.9: Power_considerations_of_a_transmission_line.sce"
		   ]
		  },
  {
"cell_type": "code",
	   "execution_count": null,
	   "metadata": {
	    "collapsed": true
	   },
	   "outputs": [],
"source": [
"Zg=50; //generator impedance\n",
"Zo=75; //intrinsic impedance\n",
"Zl=40; //line impedance\n",
"Vg=5; //generator voltage\n",
"Ts=(Zg-Zo)/(Zg+Zo); //reflection coefficient at source\n",
"To=(Zl-Zo)/(Zl+Zo); //reflection coefficient at load\n",
"temp=1-(To^2);\n",
"temp1=(1-Ts)^2;\n",
"temp2=(1-Ts*To)^2;\n",
"Pin=((Vg)^2*temp1*temp2)/(8*Zo*temp); //input power\n",
"Pl=Pin; //power delivered to the load\n",
"disp('Watts',Pl,'The Power delivered to the load is same as that at the input-->');"
   ]
   }
],
"metadata": {
		  "kernelspec": {
		   "display_name": "Scilab",
		   "language": "scilab",
		   "name": "scilab"
		  },
		  "language_info": {
		   "file_extension": ".sce",
		   "help_links": [
			{
			 "text": "MetaKernel Magics",
			 "url": "https://github.com/calysto/metakernel/blob/master/metakernel/magics/README.md"
			}
		   ],
		   "mimetype": "text/x-octave",
		   "name": "scilab",
		   "version": "0.7.1"
		  }
		 },
		 "nbformat": 4,
		 "nbformat_minor": 0
}
