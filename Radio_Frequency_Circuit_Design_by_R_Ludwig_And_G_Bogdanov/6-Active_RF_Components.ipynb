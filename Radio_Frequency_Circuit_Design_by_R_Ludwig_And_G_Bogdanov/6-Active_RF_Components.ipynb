{
"cells": [
 {
		   "cell_type": "markdown",
	   "metadata": {},
	   "source": [
       "# Chapter 6: Active RF Components"
	   ]
	},
{
		   "cell_type": "markdown",
		   "metadata": {},
		   "source": [
			"## Example 6.10: Current_Voltage_characterisitcs_of_a_MESFET.sce"
		   ]
		  },
  {
"cell_type": "code",
	   "execution_count": null,
	   "metadata": {
	    "collapsed": true
	   },
	   "outputs": [],
"source": [
"//define problem parameters\n",
"Nd=1e16*1e6;\n",
"d=0.75e-6;\n",
"W=10e-6;\n",
"L=2e-6;\n",
"eps_r=12;\n",
"Vd=0.8;\n",
"mu_n=8500*1e-4;\n",
"lambda=0.03;\n",
"\n",
"//define physical constants\n",
"q=1.60218e-19; //electron charge\n",
"eps0=8.85e-12; //permittivity of free space\n",
"\n",
"eps=eps_r*eps0;\n",
"\n",
"// pinch-off voltage\n",
"Vp=q*Nd*d^2/(2*eps)\n",
"\n",
"//threshold voltage\n",
"Vt0=Vd-Vp\n",
"\n",
"//conductivity of the channel\n",
"sigma=q*mu_n*Nd\n",
"\n",
"//channel conductance\n",
"G0=q*sigma*Nd*W*d/L\n",
"\n",
"//define the range for gate source voltage\n",
"Vgs_min=-2.5;\n",
"Vgs_max=-1;\n",
"Vgs=Vgs_max:-0.5:Vgs_min;\n",
"\n",
"//drain source voltage\n",
"Vds=0:0.01:5;\n",
"\n",
"//compute drain saturation voltage\n",
"Vds_sat=Vgs-Vt0;\n",
"\n",
"//first the drain current is taken into account the channel length modulation\n",
"for n=1:length(Vgs)\n",
"   if Vgs(n)>Vt0\n",
"      Id_sat=G0*(Vp/3-(Vd-Vgs(n))+2/(3*sqrt(Vp))*(Vd-Vgs(n))^(3/2));\n",
"   else\n",
"      Id_sat=0;\n",
"   end;\n",
"   \n",
"   Id_linear=G0*(Vds-2/(3*sqrt(Vp)).*((Vds+Vd-Vgs(n)).^(3/2)-(Vd-Vgs(n))^(3/2))).*(1+lambda*Vds);\n",
"   Id_saturation=Id_sat*(1+lambda*Vds);\n",
"   Id=Id_linear.*(Vds<=Vds_sat(n))+Id_saturation.*(Vds>Vds_sat(n));   \n",
"   plot(Vds,Id);\n",
"set(gca(),'auto_clear','off');\n",
"end;\n",
"\n",
"//next the channel length modulation is not taken into account\n",
"for n=1:length(Vgs)\n",
"   if Vgs(n)>Vt0\n",
"      Id_sat=G0*(Vp/3-(Vd-Vgs(n))+2/(3*sqrt(Vp))*(Vd-Vgs(n))^(3/2));\n",
"   else\n",
"      Id_sat=0;\n",
"   end;\n",
"   \n",
"   Id_linear=G0*(Vds-2/(3*sqrt(Vp)).*((Vds+Vd-Vgs(n)).^(3/2)-(Vd-Vgs(n))^(3/2)));\n",
"   Id_saturation=Id_sat;\n",
"   Id=Id_linear.*(Vds<=Vds_sat(n))+Id_saturation.*(Vds>Vds_sat(n));   \n",
"   plot(Vds, Id);\n",
"end;\n",
"\n",
"//computation of drain saturation current\n",
"\n",
"Vgs=0:-0.01:-4;\n",
"Vds_sat=Vgs-Vt0;\n",
"\n",
"Id_sat=G0*(Vp/3-(Vd-Vgs)+2/(3*sqrt(Vp))*(Vd-Vgs).^(3/2)).*(1+lambda*Vds_sat).*(1-(Vgs<Vt0));\n",
"\n",
"plot(Vds_sat, Id_sat);\n",
"\n",
"mtlb_axis([0 5 0 4]);\n",
"title('Drain current vs. V_{DS} plotted for different V_{GS}');\n",
"xlabel('Drain-source voltage V_{DS}, V');\n",
"ylabel('Drain current I_{D}, A');"
   ]
   }
,
{
		   "cell_type": "markdown",
		   "metadata": {},
		   "source": [
			"## Example 6.11: Computation_of_HEMT_related_electric_characteristics.sce"
		   ]
		  },
  {
"cell_type": "code",
	   "execution_count": null,
	   "metadata": {
	    "collapsed": true
	   },
	   "outputs": [],
"source": [
"//define problem parameters\n",
"Nd=1e18*1e6;\n",
"Vb=0.81;\n",
"eps_r=12.5;\n",
"d=50e-9;\n",
"dWc=3.5e-20;\n",
"W=10e-6;\n",
"L=0.5e-6;\n",
"mu_n=8500*1e-4;\n",
"\n",
"//define physical constants\n",
"q=1.60218e-19;//electron charge\n",
"eps0=8.85e-12;//permittivity of free space\n",
"\n",
"eps=eps_r*eps0;\n",
"\n",
"//pinch-off voltage\n",
"Vp=q*Nd*d^2/(2*eps)\n",
"\n",
"//threshold voltage\n",
"Vth=Vb-dWc/q-Vp\n",
"\n",
"//drain-source applied voltage range\n",
"Vds=0:0.01:5;\n",
"\n",
"//gate-source voltages\n",
"Vgs_r=-1:0.25:0;\n",
"\n",
"\n",
"\n",
"\n",
"for n=1:length(Vgs_r)\n",
"   Vgs=Vgs_r(n);\n",
"   Id=mu_n*W*eps/(L*d)*((Vds*(Vgs-Vth)-Vds.*Vds/2).*(1-(Vds>(Vgs-Vth)))+1/2*(Vgs-Vth)^2*(1-(Vds<=(Vgs-Vth))));\n",
"   plot(Vds,Id/1e-3);\n",
"   set(gca(),'auto_clear','off');\n",
"end;\n",
"   \n",
"\n",
"title('Drain current vs. V_{DS} plotted for different V_{GS}');\n",
"xlabel('Drain-source voltage V_{DS}, V');\n",
"ylabel('Drain current I_{D}, mA');"
   ]
   }
,
{
		   "cell_type": "markdown",
		   "metadata": {},
		   "source": [
			"## Example 6.1: Conductivity_of_Si_and_Ge_and_GaAs.sce"
		   ]
		  },
  {
"cell_type": "code",
	   "execution_count": null,
	   "metadata": {
	    "collapsed": true
	   },
	   "outputs": [],
"source": [
"//define physical constants\n",
"q=1.60218e-19;\n",
"k=1.38066e-23;\n",
"\n",
"// define material properties\n",
"Nc_300=[1.04e19 2.8e19  4.7e17];\n",
"Nv_300=[6e18    1.04e19 7e18];\n",
"mu_n=  [3900    1500    8500];\n",
"mu_p=  [1900    450     400];\n",
"Wg=    [0.66    1.12    1.424];\n",
"\n",
"T0=273;\n",
"T=-50:250; // temperature range in centigrade\n",
"\n",
"sigma=zeros([3 length(T)]);\n",
"\n",
"for s=1:3 //loop through all semi conductor materials\n",
"   Nc=Nc_300(s)*((T+T0)/300).^(3/2);\n",
"   Nv=Nv_300(s)*((T+T0)/300).^(3/2);\n",
"sigma=[q*sqrt(Nc.*Nv).*(exp(-Wg(s)./(2*k*(T+T0)/q)))*(mu_n(s)+mu_p(s))];\n",
"end;\n",
"\n",
"plot(T,sigma(1),T,sigma(2),T,sigma(3));\n",
"legend('Ge','Si','GaAs',2);\n",
"title('Conductivity of semiconductor at different temperatures');\n",
"xlabel('Temperature, {\circ}C');\n",
"ylabel('Conductivity \sigma, \Omega^{-1}cm^{-1}');"
   ]
   }
,
{
		   "cell_type": "markdown",
		   "metadata": {},
		   "source": [
			"## Example 6.2: Barrier_Voltage_of_a_pn_Junction.sce"
		   ]
		  },
  {
"cell_type": "code",
	   "execution_count": null,
	   "metadata": {
	    "collapsed": true
	   },
	   "outputs": [],
"source": [
"// doping concentrations\n",
"Na=1*10^18;\n",
"Nd=5*10^15;\n",
"//intrinsic concentrations\n",
"ni=1.5*10^10;\n",
"T=300;\n",
"term=(Na*Nd)/(ni*ni);\n",
"k=1.38*10^-23;\n",
"q=1.6*10^-19;\n",
"Vdiff=(k*T)*log(term)/q;\n",
"disp('Volts',Vdiff,'Barrier voltage');"
   ]
   }
,
{
		   "cell_type": "markdown",
		   "metadata": {},
		   "source": [
			"## Example 6.3: Depletion_Layer_Capacitance_of_a_pn_Junction.sce"
		   ]
		  },
  {
"cell_type": "code",
	   "execution_count": null,
	   "metadata": {
	    "collapsed": true
	   },
	   "outputs": [],
"source": [
"//define problem parameters\n",
"\n",
"ni=1.5e10*1e6; //intrinsic carrier concentration in Si [m^(-3)]\n",
"Na=1e15*1e6; //acceptor doping concentration [m^(-3)]\n",
"Nd=5e15*1e6; //donor concentration [m^(-3)]\n",
"A=1e-4*1e-4; //cross sectional area [m^2]\n",
"eps_r=11.9;  //cross sectional area [m^2]\n",
"\n",
"//define physical constants (SI units)\n",
"q=1.60218e-19; //electron charge\n",
"k=1.38066e-23; //Boltzmann's constant\n",
"eps0=8.85e-12; //permittivity of free space\n",
"\n",
"eps=eps_r*eps0;\n",
"\n",
"T=300; //temperatuure\n",
"\n",
"//compute diffusion barrier voltage\n",
"Vdiff=k*T/q*log(Na*Nd/ni^2)\n",
"\n",
"//junction capacitance at zero applied voltage\n",
"C0=A*sqrt(q*eps/(1/Na+1/Nd)/2/Vdiff)\n",
"\n",
"//extents of the space charge region\n",
"dn=sqrt(2*eps*Vdiff/q*Na/Nd/(Na+Nd));\n",
"dp=sqrt(2*eps*Vdiff/q*Nd/Na/(Na+Nd));\n",
"\n",
"//define range for applied voltage\n",
"VA=-5:0.1:Vdiff;\n",
"\n",
"//compute junction capacitance\n",
"C=C0*(1-VA/Vdiff).^(-1/2);\n",
"\n",
"plot(VA,C/1e-12);\n",
"title('Junction capacitance of abrupt Si pn-contact');\n",
"xlabel('Applied junction voltage V_A, Volts');\n",
"ylabel('Junction capacitance C, pF');"
   ]
   }
,
{
		   "cell_type": "markdown",
		   "metadata": {},
		   "source": [
			"## Example 6.4: Parameters_of_a_Schottky_diode.sce"
		   ]
		  },
  {
"cell_type": "code",
	   "execution_count": null,
	   "metadata": {
	    "collapsed": true
	   },
	   "outputs": [],
"source": [
"//doping concentrations\n",
"Nc=2.8*10^19;\n",
"Nd=1*10^16;\n",
"term=Nc/Nd;\n",
"k=1.38*10^-23; //Boltzman's constant\n",
"q=1.6*10^-19; //charge\n",
"Vc=(k*T)*log(term)/q;\n",
"Vm=5.1; //workfunction\n",
"X=4.05; //affinity\n",
"Vd=(Vm-X)-Vc; //Barrier Voltage\n",
"Epsilon=11.9*8.854*10^-12;\n",
"ds=sqrt((2*Epsilon*Vd)/(q*Nd));\n",
"A=1*10^-4; //cross-sectional area\n",
"Cj=(A*Epsilon)/(ds); //junction capacitance\n",
"disp('Volts',Vc,'Conduction Band potential');\n",
"disp('Volts',Vd,'Built in Barrier Voltage');\n",
"disp('metre',ds,'Space Charge Width');\n",
"disp('Farads',Cj,'Junction Capacitance');"
   ]
   }
,
{
		   "cell_type": "markdown",
		   "metadata": {},
		   "source": [
			"## Example 6.7: Maximum_forward_current_gain_of_bipolar_junction_transistor.sce"
		   ]
		  },
  {
"cell_type": "code",
	   "execution_count": null,
	   "metadata": {
	    "collapsed": true
	   },
	   "outputs": [],
"source": [
"Ndemitter=1*10^19; // donor concentration in emitter\n",
"Nabase=1*10^17; //acceptor concentration in base\n",
"de=0.8*10^-6; //spatial extent of the emitter\n",
"db=1.2*10^-6; //spatial extent of the base\n",
"alpha=2.8125;\n",
"beta=(alpha*Ndemitter*de)/(Nabase*db);\n",
"disp(beta,'Maximum forward current gain');"
   ]
   }
,
{
		   "cell_type": "markdown",
		   "metadata": {},
		   "source": [
			"## Example 6.8: Thermal_analysis_involving_a_BJT_mounted_on_a_heat_sink.sce"
		   ]
		  },
  {
"cell_type": "code",
	   "execution_count": null,
	   "metadata": {
	    "collapsed": true
	   },
	   "outputs": [],
"source": [
"Tj=150;\n",
"Ts=25;\n",
"Pw=15;\n",
"Rthjs=(Tj-Ts)/Pw; //Junction-to-solder point resistance\n",
"Rthca=2;\n",
"Rthhs=10;\n",
"Ta=60;\n",
"Rthtot=Rthjs+Rthca+Rthhs; //total thermal resistance\n",
"Pth=(Tj-Ta)/(Rthtot); //dissipated power\n",
"disp('Watts',Pth,'Maximum dissipated power');"
   ]
   }
,
{
		   "cell_type": "markdown",
		   "metadata": {},
		   "source": [
			"## Example 6.9: Drain_saturation_current_in_a_MESFET.sce"
		   ]
		  },
  {
"cell_type": "code",
	   "execution_count": null,
	   "metadata": {
	    "collapsed": true
	   },
	   "outputs": [],
"source": [
"//define problem parameters\n",
"Nd=1e16*1e6;\n",
"d=0.75e-6;\n",
"W=10e-6;\n",
"L=2e-6;\n",
"eps_r=12;\n",
"Vd=0.8;\n",
"mu_n=8500e-4;\n",
"Vgs=0:-0.01:-4;\n",
"\n",
"//define physical constants\n",
"q=1.60218e-19;// electron charge\n",
"eps0=8.85e-12;// permittivity of free space\n",
"\n",
"eps=eps_r*eps0;\n",
"\n",
"//pinch-off voltage\n",
"Vp=q*Nd*d^2/(2*eps)\n",
"\n",
"//threshold voltage\n",
"Vt0=Vd-Vp\n",
"\n",
"//conductivity of the channel\n",
"sigma=q*mu_n*Nd\n",
"\n",
"//Channel conductance\n",
"G0=q*sigma*Nd*W*d/L\n",
"\n",
"//saturation current using the exact formula\n",
"Id_sat=G0*(Vp/3-(Vd-Vgs)+2/(3*sqrt(Vp))*(Vd-Vgs).^(3/2)).*(1-(Vgs<Vt0));\n",
"Idss=Id_sat(1)\n",
"\n",
"//saturation current using the quadratic law approximation\n",
"Id_sat_square=Idss*(1-Vgs/Vt0)^2;\n",
"\n",
"plot(Vgs,Id_sat,Vgs,Id_sat_square);\n",
"legend('exact formula', 'quadratic approximation',2);\n",
"title('FET saturation current as a function of the gate-source voltage');\n",
"xlabel('Gate-source voltage V_{GS}, V');\n",
"ylabel('Drain saturation current I_{DSat}, A');"
   ]
   }
],
"metadata": {
		  "kernelspec": {
		   "display_name": "Scilab",
		   "language": "scilab",
		   "name": "scilab"
		  },
		  "language_info": {
		   "file_extension": ".sce",
		   "help_links": [
			{
			 "text": "MetaKernel Magics",
			 "url": "https://github.com/calysto/metakernel/blob/master/metakernel/magics/README.md"
			}
		   ],
		   "mimetype": "text/x-octave",
		   "name": "scilab",
		   "version": "0.7.1"
		  }
		 },
		 "nbformat": 4,
		 "nbformat_minor": 0
}
