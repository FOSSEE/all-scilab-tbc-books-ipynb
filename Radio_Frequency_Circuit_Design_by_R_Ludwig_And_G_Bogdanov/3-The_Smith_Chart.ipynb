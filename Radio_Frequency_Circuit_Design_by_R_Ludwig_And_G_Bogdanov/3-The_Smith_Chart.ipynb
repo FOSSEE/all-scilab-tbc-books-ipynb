{
"cells": [
 {
		   "cell_type": "markdown",
	   "metadata": {},
	   "source": [
       "# Chapter 3: The Smith Chart"
	   ]
	},
{
		   "cell_type": "markdown",
		   "metadata": {},
		   "source": [
			"## Example 3.2: Input_Impedance.sce"
		   ]
		  },
  {
"cell_type": "code",
	   "execution_count": null,
	   "metadata": {
	    "collapsed": true
	   },
	   "outputs": [],
"source": [
"Zl=30+%i*60; //load impedance\n",
"Z0=50; // intrinsic impedance\n",
"d=2*10^-2; //length of wire\n",
"f=2*10^9;\n",
"c=3*10^8;\n",
"T0=((Zl-Z0)/(Zl+Z0)); //load reflection coefficient\n",
"beta=((2*%pi*f)/(0.5*c));\n",
"T=-0.32-%i*0.55;\n",
"Zin=Z0*((1+T)/(1-T)); //input impedance\n",
"disp('Ohms',Zin,'Input impedance-->');"
   ]
   }
,
{
		   "cell_type": "markdown",
		   "metadata": {},
		   "source": [
			"## Example 3.4: SWR_circles.sce"
		   ]
		  },
  {
"cell_type": "code",
	   "execution_count": null,
	   "metadata": {
	    "collapsed": true
	   },
	   "outputs": [],
"source": [
"Z0=50; //define 50 Ohm characteristic impedance\n",
"Z=[50 48.5 75+%i*25 10-%i*5]; //define impedances for this example\n",
"Gamma=(Z-Z0)./(Z+Z0) //compute corresponding reflection coefficients\n",
"SWR=(1+abs(Gamma))./(1-abs(Gamma)); //find the SWRs\n",
"a=0:0.01:2*%pi;\n",
"for n=1:length(Z)\n",
"\n",
"plot(abs(Gamma(n))*cos(a),abs(Gamma(n))*sin(a),'b','linewidth',2);\n",
"plot(real(Gamma(n)), imag(Gamma(n)),'ro');\n",
"end;\n",
"\n",
"for n=1:length(Z)\n",
"   if n~=1\n",
"   end;\n",
"end;"
   ]
   }
],
"metadata": {
		  "kernelspec": {
		   "display_name": "Scilab",
		   "language": "scilab",
		   "name": "scilab"
		  },
		  "language_info": {
		   "file_extension": ".sce",
		   "help_links": [
			{
			 "text": "MetaKernel Magics",
			 "url": "https://github.com/calysto/metakernel/blob/master/metakernel/magics/README.md"
			}
		   ],
		   "mimetype": "text/x-octave",
		   "name": "scilab",
		   "version": "0.7.1"
		  }
		 },
		 "nbformat": 4,
		 "nbformat_minor": 0
}
