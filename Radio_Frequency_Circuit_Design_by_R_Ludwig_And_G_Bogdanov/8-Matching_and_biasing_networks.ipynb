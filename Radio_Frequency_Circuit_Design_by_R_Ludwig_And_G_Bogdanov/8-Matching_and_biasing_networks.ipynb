{
"cells": [
 {
		   "cell_type": "markdown",
	   "metadata": {},
	   "source": [
       "# Chapter 8: Matching and biasing networks"
	   ]
	},
{
		   "cell_type": "markdown",
		   "metadata": {},
		   "source": [
			"## Example 8.11: Efficiency_of_different_types_of_amplifiers.sce"
		   ]
		  },
  {
"cell_type": "code",
	   "execution_count": null,
	   "metadata": {
	    "collapsed": true
	   },
	   "outputs": [],
"source": [
"theta=(1:1:360)/180*%pi; //define conduction angle\n",
"\n",
"//compute efficiency\n",
"nu=-1/2*(theta-sin(theta))./(theta.*cos(theta/2)-2*sin(theta/2)); \n",
"\n",
"plot(theta/%pi*180,nu*100,'r','linewidth',2);\n",
"set(gca(),'auto_clear','off');\n",
"plot([0 180],[%pi/4*100 %pi/4*100],'b:');\n",
"plot([180 180],[0 %pi/4*100],'b:');\n",
"plot(180,%pi/4*100,'bo');\n",
"plot(360,50,'bo');\n",
"mtlb_axis([0 360 50 100]);\n",
"title('Maximum theoretical efficiency of the amplifier');\n",
"xlabel('Conduction angle \Theta_0, deg.');\n",
"ylabel('Efficiency \eta, %');"
   ]
   }
,
{
		   "cell_type": "markdown",
		   "metadata": {},
		   "source": [
			"## Example 8.12: Design_of_passive_biasing_networks_for_a_BJT_in_CE_config.sce"
		   ]
		  },
  {
"cell_type": "code",
	   "execution_count": null,
	   "metadata": {
	    "collapsed": true
	   },
	   "outputs": [],
"source": [
"Ic=10*10^-3; //Collector current\n",
"Vce=3;\n",
"Vcc=5;\n",
"beta=100; //current gain\n",
"Vbe=0.8;\n",
"I1=Ic+Ic/beta;\n",
"R1=(Vcc-Vce)/I1;\n",
"R2=(Vce-Vbe)/(Ic/beta);\n",
"Vx=1.5;\n",
"R3=(Vx-Vbe)/(Ic/beta);\n",
"Ix=10*(Ic/beta);\n",
"R11=(Vx/Ix);\n",
"R22=(Vcc-Vx)/(Ix+(Ic/beta));\n",
"R4=(Vcc-Vce)/Ic;\n",
"disp('Amperes',I1,'I1','Ohms',R1,'R1','Ohms',R2,'R2','Ohms',R3,'R3','Ohms',R11,'R11','Ohms',R22,'R22','Ohms',R4,'R4');"
   ]
   }
],
"metadata": {
		  "kernelspec": {
		   "display_name": "Scilab",
		   "language": "scilab",
		   "name": "scilab"
		  },
		  "language_info": {
		   "file_extension": ".sce",
		   "help_links": [
			{
			 "text": "MetaKernel Magics",
			 "url": "https://github.com/calysto/metakernel/blob/master/metakernel/magics/README.md"
			}
		   ],
		   "mimetype": "text/x-octave",
		   "name": "scilab",
		   "version": "0.7.1"
		  }
		 },
		 "nbformat": 4,
		 "nbformat_minor": 0
}
