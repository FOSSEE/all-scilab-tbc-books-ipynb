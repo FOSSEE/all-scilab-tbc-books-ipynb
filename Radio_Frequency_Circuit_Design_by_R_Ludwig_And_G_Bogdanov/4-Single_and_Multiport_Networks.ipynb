{
"cells": [
 {
		   "cell_type": "markdown",
	   "metadata": {},
	   "source": [
       "# Chapter 4: Single and Multiport Networks"
	   ]
	},
{
		   "cell_type": "markdown",
		   "metadata": {},
		   "source": [
			"## Example 4.3: Internal_resistances_and_current_gain_of_BJT.sce"
		   ]
		  },
  {
"cell_type": "code",
	   "execution_count": null,
	   "metadata": {
	    "collapsed": true
	   },
	   "outputs": [],
"source": [
"hie=5*10^3; //input impedance\n",
"hre=2*10^-4; //voltage feedback ratio\n",
"hfe=250; // small signal current gain\n",
"hoe=20*10^-6; //output admittance\n",
"rbc=hie/hre; // calculating base-collector resistance\n",
"rbe=hie/(1-hre); //calculating base-emitter resistance\n",
"beta=(hre+hfe)/(1-hre); //c calculating urrent gain\n",
"rce=hie/(hoe*hie-hre*hfe-hre); //collector-emitter resistance\n",
"disp('Ohms',rbc,'base collector resistance');\n",
"disp('Ohms',rbe,'base emitter resistance');\n",
"disp('Ohms',rce,'collector emitter resistance');\n",
"disp(beta,'current gain');"
   ]
   }
,
{
		   "cell_type": "markdown",
		   "metadata": {},
		   "source": [
			"## Example 4.7: S_parameters_and_resistive_elements_of_T_network.sce"
		   ]
		  },
  {
"cell_type": "code",
	   "execution_count": null,
	   "metadata": {
	    "collapsed": true
	   },
	   "outputs": [],
"source": [
"Zin=50; //input impedance\n",
"Z0=50;\n",
"// defining scattering parameters\n",
"S11=0;\n",
"S22=0;\n",
"S21=1/sqrt(2);\n",
"S12=1/sqrt(2);\n",
"R1=((sqrt(2)-1)/(sqrt(2)+1))*Z0;\n",
"R2=R1;\n",
"R3=2*sqrt(2)*Z0;\n",
"disp(S21,S12,S22,S11,'Scattering parameters');\n",
"disp('Ohms',R3,'Ohms',R2,'Ohms',R1,'Resistance values R1,R2,R3:');"
   ]
   }
],
"metadata": {
		  "kernelspec": {
		   "display_name": "Scilab",
		   "language": "scilab",
		   "name": "scilab"
		  },
		  "language_info": {
		   "file_extension": ".sce",
		   "help_links": [
			{
			 "text": "MetaKernel Magics",
			 "url": "https://github.com/calysto/metakernel/blob/master/metakernel/magics/README.md"
			}
		   ],
		   "mimetype": "text/x-octave",
		   "name": "scilab",
		   "version": "0.7.1"
		  }
		 },
		 "nbformat": 4,
		 "nbformat_minor": 0
}
