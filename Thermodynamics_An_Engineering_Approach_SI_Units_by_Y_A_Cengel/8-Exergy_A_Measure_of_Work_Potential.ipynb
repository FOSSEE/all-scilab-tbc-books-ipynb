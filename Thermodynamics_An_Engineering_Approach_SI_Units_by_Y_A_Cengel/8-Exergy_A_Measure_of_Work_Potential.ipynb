{
"cells": [
 {
		   "cell_type": "markdown",
	   "metadata": {},
	   "source": [
       "# Chapter 8: Exergy A Measure of Work Potential"
	   ]
	},
{
		   "cell_type": "markdown",
		   "metadata": {},
		   "source": [
			"## Example 8.10: Exergy_destruction_during_heat_conduction.sce"
		   ]
		  },
  {
"cell_type": "code",
	   "execution_count": null,
	   "metadata": {
	    "collapsed": true
	   },
	   "outputs": [],
"source": [
"//example 10\n",
"//exergy destruction during heat conduction\n",
"clear\n",
"clc\n",
"To=273 //temperature of outdoor in K\n",
"Tin=293 //temperature of inner surface of brick wall in K\n",
"Tout=278 //temperature of outer surface of brick wall in K\n",
"Q=1035 //rate of heat transfer through wall in W\n",
"Xdestroyed=Q*(1-To/Tin)-Q*(1-To/Tout) //exergy destruction in wall in W\n",
"Th=300 //temperature of house in K\n",
"Xdestroyedtotal=Q*(1-To/Th)-Q*(1-To/To) //the rate of total exergy destruction during this heat transfer process\n",
"printf('\n Hence, the rate of exergy destruction in the wall is = %.1f W. \n',Xdestroyed);\n",
"printf('\n Hence, rate of total exergy destruction associated with this heat transfer process is=%.1f W. \n',Xdestroyedtotal);"
   ]
   }
,
{
		   "cell_type": "markdown",
		   "metadata": {},
		   "source": [
			"## Example 8.11: Exergy_destruction_during_expansion_of_steam.sce"
		   ]
		  },
  {
"cell_type": "code",
	   "execution_count": null,
	   "metadata": {
	    "collapsed": true
	   },
	   "outputs": [],
"source": [
"//example 11\n",
"//exergy destruction during expansion of steam\n",
"clear\n",
"clc\n",
"P1=1 //in MPa\n",
"T1=300 //in celsius \n",
"u1=2793.7 //kJ/kg\n",
"v1=0.25799 //m3/kg\n",
"s1=7.1246 //kJ/kg-K\n",
"P2=200 //in kPa\n",
"T2=150 //in �C\n",
"u2=2577.1 //in kJ/kg\n",
"v2=0.95986 //in m3/kg\n",
"s2=7.2810 //in kJ/kg-K\n",
"P0=100 //in kPa\n",
"T0=298//in K\n",
"u0=104.83 //in kJ/kg\n",
"v0=0.00103 //in m3/kg\n",
"s0=0.3672 //in kJ/kg-K\n",
"m=0.05 //in kg\n",
"X1=m*((u1-u0)-T0*(s1-s0)+P0*(v1-v0)) //initial exergy of the system in kJ\n",
"X2=m*((u2-u0)-T0*(s2-s0)+P0*(v2-v0))//final exergy of the system in kJ\n",
"dX=X2-X1 //exergy change for the process in kJ\n",
"Qout=2 //Heat losses from the system to the surroundings in kJ\n",
"Wbout=-Qout-m*(u2-u1) //total boundary work done by the system,including the work done against the atmosphere to push the atmospheric air out of the way during the expansion process in kJ\n",
"Wu=Wbout-P0*m*(v2-v1) //useful work in kJ\n",
"Xdestroyed=X1-X2-Wu //exergy destroyed in kJ\n",
"n=Wu/(X1-X2) //second law efficiency for this process\n",
"printf('\n Hence, the exergy of the steam at the initial state is = %.1f kJ. \n',X1);\n",
"printf('\n Hence, the exergy of the steam at the final state is = %.1f kJ. \n',X2);\n",
"printf('\n Hence, the exergy change of the steam is = %.1f kJ. \n',dX);\n",
"printf('\n Hence, the exergy destroyed is = %.1f kJ. \n',Xdestroyed);\n",
"printf('\n Hence, the exergy destroyed is = %.1f percent. \n',n*100);"
   ]
   }
,
{
		   "cell_type": "markdown",
		   "metadata": {},
		   "source": [
			"## Example 8.12: exergy_destroyed_during_stirring_of_gas.sce"
		   ]
		  },
  {
"cell_type": "code",
	   "execution_count": null,
	   "metadata": {
	    "collapsed": true
	   },
	   "outputs": [],
"source": [
"//example 12\n",
"//exergy destroyed during stirring of gas\n",
"clear\n",
"clc\n",
"T0=530 //temperature of surrounding air in R\n",
"m=2 //mass of air in insulated rigid tank in lbm\n",
"cv=0.172 //in Btu/lbm-R\n",
"T2=590 //initial temperature of air in R\n",
"T1=530 //final temperature of air in R\n",
"Xdestroyed=T0*m*cv*log(T2/T1) //exergy destroyed in Btu\n",
"Wrevin=m*cv*(T2-T1)-Xdestroyed //minimum work input in Btu\n",
"printf('\n Hence, the exergy destroyed is = %.1f Btu. \n',Xdestroyed);\n",
"printf('\n Hence, the reversible work for this process  is = %.1f Btu. \n',Wrevin);"
   ]
   }
,
{
		   "cell_type": "markdown",
		   "metadata": {},
		   "source": [
			"## Example 8.13: Dropping_of_hot_iron_block_in_water.sce"
		   ]
		  },
  {
"cell_type": "code",
	   "execution_count": null,
	   "metadata": {
	    "collapsed": true
	   },
	   "outputs": [],
"source": [
"//example 13\n",
"//dropping of hot iron block in water\n",
"clear\n",
"clc\n",
"miron=5 //mass of iron block in kg\n",
"mwater=100 //mass of water in kg\n",
"ciron=0.45 //specific heat capacity of iron in kJ/kg-C\n",
"cwater=4.18 //specific heat capacity of water in kJ/kg-C\n",
"Tiiron=350 //initial temperature of iron in Celsius\n",
"Tiwater=30 //initial temperature of water in Celsius\n",
"Tf=(miron*ciron*Tiiron+mwater*cwater*Tiwater)/(miron*ciron+mwater*cwater) //final equilbrium temperature in Celsius\n",
"T0=293 //temperature of surroundings in K\n",
"X1iron=miron*ciron*((Tiiron+273)-T0-T0*log((Tiiron+273)/T0)) //initial exergy of iron\n",
"X1water=mwater*cwater*((Tiwater+273)-T0-T0*log((Tiwater+273)/T0)) //initial exergy of water\n",
"X1total=X1iron+X1water //total initial exergy\n",
"X2iron=miron*ciron*((Tf+273)-T0-T0*log((Tf+273)/T0)) //finall exergy of iron\n",
"X2water=mwater*cwater*((Tf+273)-T0-T0*log((Tf+273)/T0)) //final exergy of water\n",
"X2total=X2iron+X2water //total exergy in kJ\n",
"Xdestroyed=X1total-X2total //exergy destroyed in kJ\n",
"printf('\n Hence, the final equilbrium temperature is = %.1f celsius. \n',Tf);\n",
"printf('\n The exergy of the combined system at the initial state is = %.0f kJ. \n',X1total);\n",
"printf('\n The exergy of the combined system at the final state is = %.1f kJ. \n',X2total);\n",
"printf('\n The wasted work potential during this process is = %.1f kJ. \n',Xdestroyed);"
   ]
   }
,
{
		   "cell_type": "markdown",
		   "metadata": {},
		   "source": [
			"## Example 8.14: Exergy_destruction_during_heat_transfer_to_a_gas.sce"
		   ]
		  },
  {
"cell_type": "code",
	   "execution_count": null,
	   "metadata": {
	    "collapsed": true
	   },
	   "outputs": [],
"source": [
"//example 14\n",
"//exergy destruction during heat transfer to a gas\n",
"clear\n",
"clc\n",
"P1=350 //in kPa\n",
"V1=0.01 //in m^3\n",
"V2=0.02 //in m^3\n",
"Wb=P1*V1*log(V2/V1) //quasi equilbrium boundary work in kJ\n",
"P0=100 //atmospheric pressure in kPa\n",
"Wsurr=P0*(V2-V1) //work done against the atmospheric pressure in kJ\n",
"Wu=Wb-Wsurr //useful work in kJ\n",
"Tsys=400 //temperature of system in K\n",
"Tr=1200 //temperature temperature of the boundary in K\n",
"Q=Wb //heat transfer from furnace to system \n",
"Sgen=Q/Tsys-Q/Tr //in kJ/K\n",
"T0=300 //temperature of atmospheric air in K\n",
"Xdestroyed=T0*Sgen //exergy destroyed in kJ\n",
"Wrevout=T0*Q/Tsys-Wsurr+(1-T0/Tr)*Q //reversible work in kJ\n",
"printf('\n The useful work output is = %.2f kJ. \n',Wu);\n",
"printf('\n The exergy destroyed is = %.2f kJ/K. \n',Xdestroyed);\n",
"printf('\n The reversible work for this process is = %.2f kJ. \n',Wrevout);"
   ]
   }
,
{
		   "cell_type": "markdown",
		   "metadata": {},
		   "source": [
			"## Example 8.15: second_law_analysis_of_steam_turbine.sce"
		   ]
		  },
  {
"cell_type": "code",
	   "execution_count": null,
	   "metadata": {
	    "collapsed": true
	   },
	   "outputs": [],
"source": [
"//example 15\n",
"//second law analysis of steam turbine \n",
"clear\n",
"clc\n",
"P1=3 //in MPa\n",
"T1=450 //in �C\n",
"h1=3344.9 //in kJ/kg\n",
"s1=7.0856 //in kJ/kg-K\n",
"P2=0.2 //in MPa\n",
"T2=150 //in �C\n",
"h2=2769.1 //in kJ/kg\n",
"s2=7.2810 //in kJ/kg-K\n",
"P0=100 //in kPa\n",
"T0=25//in �C\n",
"h0=104.83 //in kJ/kg\n",
"s0=0.3672 //in kJ/kg-K\n",
"m=8 //mass flow rate of turbine in kg/s\n",
"Qout=300 //heat loss to surrounding air in kW\n",
"Wout=m*(h1-h2)-Qout //actual power output of turbine in kW\n",
"Wrevout=m*((h1-h2)-(T0+273)*(s1-s2)) //reversible power in kW\n",
"n=Wout/Wrevout //second law efficiency\n",
"Xdestroyed=Wrevout-Wout //exergy destroyed in kW\n",
"w1=h1-h0-(T0+273)*(s1-s0) //maximum work potential in kJ/kg\n",
"printf('\n Hence,The actual power output is = %.0f kW. \n',Wout);\n",
"printf('\n The maximum possible power output is = %.0f kW. \n',Wrevout);\n",
"printf('\n The second law efficiency is = %.1f percent. \n',n*100);\n",
"printf('\n The exergy destroyed is = %.0f kW. \n',Xdestroyed);\n",
"printf('\n The exergy of the steam at the inlet conditions is =%.0f kJ/kg. \n',w1);"
   ]
   }
,
{
		   "cell_type": "markdown",
		   "metadata": {},
		   "source": [
			"## Example 8.16: exergy_destroyed_during_mixing_of_fluid_streams.sce"
		   ]
		  },
  {
"cell_type": "code",
	   "execution_count": null,
	   "metadata": {
	    "collapsed": true
	   },
	   "outputs": [],
"source": [
"//example 16\n",
"//exergy destroyed during mixing of fluid streams\n",
"clear\n",
"clc\n",
"m1=300 //in lbm/min\n",
"h1=18.07 //in Btu/lbm\n",
"T0=530 //temperature of atmospheric air in R\n",
"s1=0.03609 //Btu/lbm-R\n",
"m2=22.7 //in lbm/min\n",
"h2=1162.3 //in Btu/lbm\n",
"s2=1.7406 //in Btu/lbm-R\n",
"m3=322.7 //in lbm/min\n",
"h3=97.99 //in Btu/lbm\n",
"s3=0.18174 //in Btu/lbm-R\n",
"Wrevout=m1*(h1-T0*s1)+m2*(h2-T0*s2)-m3*(h3-T0*s3) //reversible power in Btu/min\n",
"Xdestroyed=Wrevout //in Btu/min\n",
"printf('\n The reversible work for the process is = %.0f Btu/min. \n',Wrevout);\n",
"printf('\n The rate of exergy destruction is = %.0f Btu/min. \n',Xdestroyed);"
   ]
   }
,
{
		   "cell_type": "markdown",
		   "metadata": {},
		   "source": [
			"## Example 8.17: Charging_of_compressed_air_storage_system.sce"
		   ]
		  },
  {
"cell_type": "code",
	   "execution_count": null,
	   "metadata": {
	    "collapsed": true
	   },
	   "outputs": [],
"source": [
"//example 17\n",
"//charging of compressed air storage system\n",
"clear\n",
"clc\n",
"P2=1000 //in kPa\n",
"V=200 //volume of rigid tank in m^3\n",
"R=0.287 //kPa-m^3/kg-K\n",
"T2=300 //in K\n",
"m2=P2*V/(R*T2) //final mass of the air  in kg\n",
"P0=100 //atmospheric presssure in kPa\n",
"T0=300 //atmospheric temperature in K\n",
"o2=R*T0*(log(P2/P0)+P0/P2-1) //exergy of the pressurised air in the tank in kJ/kg\n",
"Wrev=m2*o2 //reversible work in kJ\n",
"printf('\n The minimum work requirement for the process is = %.0f MJ. \n',Wrev/1000);"
   ]
   }
,
{
		   "cell_type": "markdown",
		   "metadata": {},
		   "source": [
			"## Example 8.1: Maximum_power_generation_by_wind_turbine.sce"
		   ]
		  },
  {
"cell_type": "code",
	   "execution_count": null,
	   "metadata": {
	    "collapsed": true
	   },
	   "outputs": [],
"source": [
"//example 1\n",
"//maximum power generation by wind turbine\n",
"clear\n",
"clc\n",
"V=10 //Average velocity of wind in m/s\n",
"ke=(V^2/2)/1000 //exegy of the blowing air in kJ/kg\n",
"D=12 //diameter of wind turbine in m\n",
"d=1.18 //density of air in kg/m^3\n",
"M=d*%pi*D^2*V/4 //mass flow rate in kg/s\n",
"p=M*ke //maximum power generated by wind turbine in kW\n",
"printf('\n Hence, the maximum power generated by wind turbine is = %.1f kW. \n',p);"
   ]
   }
,
{
		   "cell_type": "markdown",
		   "metadata": {},
		   "source": [
			"## Example 8.2: Exergy_transfer_from_a_furnace.sce"
		   ]
		  },
  {
"cell_type": "code",
	   "execution_count": null,
	   "metadata": {
	    "collapsed": true
	   },
	   "outputs": [],
"source": [
"//example 2\n",
"//exergy transfer from a furnace\n",
"clear\n",
"clc\n",
"T0=537 //environmental temperature in R\n",
"Th=2000 //furnace temperature in R\n",
"nthrev=1-T0/Th //thermal efficiency of reversible heat engine\n",
"Qin=3000 //heat transfer rate from furnace in Btu/s\n",
"Wrev=nthrev*Qin //exergy of the furnace in Btu/s\n",
"printf('\n Hence, the rate of exergy flow associated with this heat transfer is = %.0f Btu/s. \n',Wrev);"
   ]
   }
,
{
		   "cell_type": "markdown",
		   "metadata": {},
		   "source": [
			"## Example 8.3: The_rate_of_irreversibility_of_a_heat_engine.sce"
		   ]
		  },
  {
"cell_type": "code",
	   "execution_count": null,
	   "metadata": {
	    "collapsed": true
	   },
	   "outputs": [],
"source": [
"//example 3\n",
"//the rate of irreversibility of a heat engine\n",
"clear\n",
"clc\n",
"Tsink=300 //Temp. of sink in K\n",
"Tsource=1200 //Temp. of source in K\n",
"nthrev=1-Tsink/Tsource //efficiency of carnot engine  \n",
"Qin=500 //rate at which heat is received from the source in kW\n",
"Wrev=nthrev*Qin //maximum power produced by a heat engine in kW\n",
"Wout=180 //actual power output in kW\n",
"I=Wrev-Wout //irreversibility rate of the process in kW\n",
"printf('\n Hence, the reversible power for this process is = %.0f kW. \n',Wrev);\n",
"printf('\n The irreversibility rate is = %.0f kW. \n',I);"
   ]
   }
,
{
		   "cell_type": "markdown",
		   "metadata": {},
		   "source": [
			"## Example 8.4: Irreversibility_during_cooling_of_an_iron_block.sce"
		   ]
		  },
  {
"cell_type": "code",
	   "execution_count": null,
	   "metadata": {
	    "collapsed": true
	   },
	   "outputs": [],
"source": [
"//example 4\n",
"//irreversibility during cooling of an iron block\n",
"clear\n",
"clc\n",
"m=500 //mass of iron block in kg\n",
"cavg=0.45 //kJ/kg-K\n",
"T1=473 //Initial Temp. in K\n",
"T2=300 //Final Temp. in K\n",
"Wrev=m*cavg*((T1-T2)-T2*log(T1/T2)) //reversible work in kJ\n",
"Wu=0\n",
"I=Wrev-Wu //irreversibility of the process in kJ\n",
"printf('\n Hence, the reversible owrk for the pressure ois = %.0f kJ. \n',Wrev);\n",
"printf('\n and irreversibility of the process is = %.0f kJ. \n',I);"
   ]
   }
,
{
		   "cell_type": "markdown",
		   "metadata": {},
		   "source": [
			"## Example 8.5: Heating_potential_of_a_hot_iron_block.sce"
		   ]
		  },
  {
"cell_type": "code",
	   "execution_count": null,
	   "metadata": {
	    "collapsed": true
	   },
	   "outputs": [],
"source": [
"//example 5\n",
"//heating potential of a hot iron block\n",
"clear\n",
"clc\n",
"Tl=278 //Outdoor temp. in K\n",
"Th=300 //Room temp. in K\n",
"COPhp=1/(1-Tl/Th) //coefficient of performance of heat engine if its assumed to be reversible\n",
"E=38925-8191+13.6*8191 //potential energy of hot iron block in kJ\n",
"printf('\n Hence, the maxuimum amount of heat that can be supplied to the house is = %.0f MJ. \n',E/1000);"
   ]
   }
,
{
		   "cell_type": "markdown",
		   "metadata": {},
		   "source": [
			"## Example 8.6: Second_law_efficiency_of_resistance_heaters.sce"
		   ]
		  },
  {
"cell_type": "code",
	   "execution_count": null,
	   "metadata": {
	    "collapsed": true
	   },
	   "outputs": [],
"source": [
"//example 6\n",
"//second law efficiency of resistance heaters\n",
"clear\n",
"clc\n",
"Tl=283 //Outdoor Temp. in K\n",
"Th=294 //Indoor Temp. in K\n",
"COPhp=1/(1-Tl/Th) //coefficient of performance of reversible heat engine\n",
"COP=1 //first law efficiency\n",
"n=COP/COPhp //second law efficiency of resistance heater\n",
"printf('\n Hence, the second law efficiency of the heater is = %.1f percent. \n',n*100);"
   ]
   }
,
{
		   "cell_type": "markdown",
		   "metadata": {},
		   "source": [
			"## Example 8.7: Work_Potential_of_compressed_air_in_tank.sce"
		   ]
		  },
  {
"cell_type": "code",
	   "execution_count": null,
	   "metadata": {
	    "collapsed": true
	   },
	   "outputs": [],
"source": [
"//example 7\n",
"//work potential of compressed air in tank\n",
"clear\n",
"clc\n",
"To=300 //in K\n",
"T1=To\n",
"R=0.287 //kPa-m^3/kg-K\n",
"V=200 //in m^3\n",
"P1=1000 //kPa\n",
"m1=P1*V/(R*T1) //in kg\n",
"Po=100 //in kPa\n",
"o1=R*To*(log(P1/Po)+Po/P1-1) //kJ/kg\n",
"X1=m1*o1 //exergy content of compressed air in kJ\n",
"printf('\n Hence, the exergy content of compressed air is = %.0f MJ. \n',X1/1000);"
   ]
   }
,
{
		   "cell_type": "markdown",
		   "metadata": {},
		   "source": [
			"## Example 8.8: Exergy_change_during_a_compression_process.sce"
		   ]
		  },
  {
"cell_type": "code",
	   "execution_count": null,
	   "metadata": {
	    "collapsed": true
	   },
	   "outputs": [],
"source": [
"//example8\n",
"//exergy change during a compression process\n",
"clear\n",
"clc\n",
"P1=0.14 //MPa\n",
"T1=-10 //in celsius\n",
"h1=246.36 //kJ/kg\n",
"s1=0.9724 //kJ/kg-K\n",
"P2=0.8 //MPa\n",
"T2=50 //�C\n",
"h2=286.69 //kJ/kg\n",
"s2=0.9802 //kJ/kg-K\n",
"To=293 //in K\n",
"dw=h2-h1-To*(s2-s1) //exergy change of the refrigerant in kJ/kg\n",
"winmin=dw //the minimum work input that needs to be supplied to the compressor per unit mass of the refrigerant in kJ/kg\n",
"printf('\n Hence, the minimum work input that needs to be supplied to the compressor per unit mass of the refrigerant is = %.1f kJ/kg. \n',winmin);"
   ]
   }
],
"metadata": {
		  "kernelspec": {
		   "display_name": "Scilab",
		   "language": "scilab",
		   "name": "scilab"
		  },
		  "language_info": {
		   "file_extension": ".sce",
		   "help_links": [
			{
			 "text": "MetaKernel Magics",
			 "url": "https://github.com/calysto/metakernel/blob/master/metakernel/magics/README.md"
			}
		   ],
		   "mimetype": "text/x-octave",
		   "name": "scilab",
		   "version": "0.7.1"
		  }
		 },
		 "nbformat": 4,
		 "nbformat_minor": 0
}
