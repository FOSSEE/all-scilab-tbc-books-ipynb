{
"cells": [
 {
		   "cell_type": "markdown",
	   "metadata": {},
	   "source": [
       "# Chapter 16: Chemical and Phase Equilibrium"
	   ]
	},
{
		   "cell_type": "markdown",
		   "metadata": {},
		   "source": [
			"## Example 16.10: Diffusion_of_Hydrogen_Gas_into_a_Nickel_Plate.sce"
		   ]
		  },
  {
"cell_type": "code",
	   "execution_count": null,
	   "metadata": {
	    "collapsed": true
	   },
	   "outputs": [],
"source": [
"//example 10\n",
"//Diffusion of Hydrogen Gas into a Nickel Plate\n",
"clear\n",
"clc\n",
"s=0.00901 //solubility of hydrogen in nickel in kmol/m3-bar\n",
"PH2gas=3//Pressure of hydrogen in tank in bar\n",
"PH2solid=s*PH2gas //molar density of hydrogen in nickel plate in kmol/m^3\n",
"MH2=2 //molar mass of hydrogen kg/kmol\n",
"dH2solid=PH2solid*MH2 //mass density of hydrogen\n",
"printf('\n Hence, the molar density of hydrogen in Nickel plate when phase equilbrium is established is = %.3f kmol/m^3. \n',PH2solid);\n",
"printf('\n and mass density is = %.3f kg/m^3. \n',dH2solid);"
   ]
   }
,
{
		   "cell_type": "markdown",
		   "metadata": {},
		   "source": [
			"## Example 16.11: Composition_of_Different_Phases_of_a_Mixture.sce"
		   ]
		  },
  {
"cell_type": "code",
	   "execution_count": null,
	   "metadata": {
	    "collapsed": true
	   },
	   "outputs": [],
"source": [
"//example 11\n",
"//Composition of Different Phases of a Mixture\n",
"clear\n",
"clc\n",
"yH2Ol=0.3\n",
"yNH3l=0.7\n",
"PH2Osat=7.3851 //kPa\n",
"PNH3sat=1554.33 //kPa\n",
"PH2Og=yH2Ol*PH2Osat //vapour pressure of h2o\n",
"PNH3g=yNH3l*PNH3sat // vapour pressure of nh3\n",
"Ptotal=PH2Og+PNH3g\n",
"yH2Og=PH2Og/Ptotal //mole fraction of h2o in gas phase\n",
"yNH3=PNH3g/Ptotal //mole fraction of nh3 in gas phase\n",
"printf('\n The mole fraction of H2O in the mixture is = %.4f . \n',yH2Og);\n",
"printf('\n The mole fraction of NH3 in the mixture is = %.4f . \n',yNH3);"
   ]
   }
,
{
		   "cell_type": "markdown",
		   "metadata": {},
		   "source": [
			"## Example 16.1: Equilibrium_Constant_of_a_Dissociation_Process.sce"
		   ]
		  },
  {
"cell_type": "code",
	   "execution_count": null,
	   "metadata": {
	    "collapsed": true
	   },
	   "outputs": [],
"source": [
"//example 1\n",
"//Equilibrium Constant of a Dissociation Process\n",
"clear\n",
"clc\n",
"T=298.15 //Temp. in K\n",
"vn=2 //No. of moles of N in products \n",
"vn2=1 //No. of moles of N2 in reactants\n",
"gN2=0 //Molar gibbs function for N2\n",
"gN=455510 //Molar gibbs function for N in kJ/kmol\n",
"dG=vn*gN-vn2*gN2 //Change in Gibbs function of the mixture \n",
"Ru=8.314 //Universal Gas Constant in kJ/kmol-K\n",
"Kp=%e^(-dG/Ru*T) //Equilbrium Constant \n",
"printf('\n Hence, Equilbrium Constant is = %.0f . \n',Kp);"
   ]
   }
,
{
		   "cell_type": "markdown",
		   "metadata": {},
		   "source": [
			"## Example 16.2: Dissociation_Temperature_of_Hydrogen.sce"
		   ]
		  },
  {
"cell_type": "code",
	   "execution_count": null,
	   "metadata": {
	    "collapsed": true
	   },
	   "outputs": [],
"source": [
"//example 2\n",
"//Dissociation Temperature of Hydrogen\n",
"clear\n",
"clc\n",
"P=10 //given pressure in atm\n",
"Nh=0.2 //No.of kmol of atomic hydrogen produced in the reaction\n",
"Nh2=0.9 //No. of kmol of molecular hydrogen left as reactant\n",
"Ntotal=Nh+Nh2 //Total no. of kmol of reactant and products\n",
"vh=2 //From the stoichometry of the reaction\n",
"vh2=1 //From the stoichometry of the reaction\n",
"Kp=(Nh^vh/Nh2^vh2)*(P/Ntotal)^(vh-vh2) //Equilbrium constant\n",
"T=3535 //Temp. corresponding to evaluated value of Kp\n",
"printf('\n Hence,temperature at which 10 percent of diatomic hydrogen (H2) dissociates into monatomic hydrogen (H) is = %.0f K. \n',T);"
   ]
   }
,
{
		   "cell_type": "markdown",
		   "metadata": {},
		   "source": [
			"## Example 16.6: Enthalpy_of_Reaction_of_a_Combustion_Process.sce"
		   ]
		  },
  {
"cell_type": "code",
	   "execution_count": null,
	   "metadata": {
	    "collapsed": true
	   },
	   "outputs": [],
"source": [
"//example 6\n",
"//Enthalpy of Reaction of a Combustion Process \n",
"clear\n",
"clc\n",
"NH2O=1 //No. of kmol of water\n",
"NH2=1 //No. of kmol of Hydrogen\n",
"NO2=0.5 //No. of kmol of Oxygen\n",
"hfH2O=-241820 //standard heat of formation of liquid water from elemental reactants in  kJ/kkmol\n",
"hH2O=82593 // in kJ/kmol\n",
"hoH2O=9904 //in kJ/kmol\n",
"hfH2=0 //standard heat of formation of H2\n",
"hH2=61400 //in kJ/kmol\n",
"hoH2=8468 //in kJ/kmol\n",
"hfO2=0 //standard heat of formation of O2\n",
"hO2=67881 //in kJ/kmol\n",
"hoO2=8682//in kJ/kmol\n",
"hr1=NH2O*(hfH2O+hH2O-hoH2O)-NH2*(hfH2+hH2-hoH2)-NO2*(hfO2+hO2-hoO2) //Enthalpy of reaction in kJ/kmol using enthalpy data\n",
"Ru=8.314 //Universal Gas Constant in kJ/kmol-K\n",
"T1=1800 //suitable temp. lower than and closest to 2000K in K\n",
"T2=2200 //suitable temp. higher than and closest to 2000K in K\n",
"Kp1=18509 //Equilbrium constant at T1\n",
"Kp2=869.6 //Equilbrium constant at T2\n",
"hr2=Ru*log(Kp2/Kp1)/((1/T1)-(1/T2)) //Enthalpy of reaction in kJ/kmol using Kp data\n",
"printf('\n Hence, Equilbrium Constant using Enthalpy data is = %.0f kJ/kmol. \n',hr1);\n",
"printf('\n Hence, Equilbrium Constant using Kp data is = %.0f kJ/kmol. \n',hr2);"
   ]
   }
,
{
		   "cell_type": "markdown",
		   "metadata": {},
		   "source": [
			"## Example 16.7: Phase_Equilibrium_for_a_Saturated_Mixture.sce"
		   ]
		  },
  {
"cell_type": "code",
	   "execution_count": null,
	   "metadata": {
	    "collapsed": true
	   },
	   "outputs": [],
"source": [
"//example 7\n",
"//Phase Equilibrium for a Saturated Mixture\n",
"clear\n",
"clc\n",
"hf=503.81 // in kJ/kg,\n",
"sf=1.5279 // in kJ/kg-K\n",
"hg=2706.0 //in kJ/kg\n",
"sg=7.1292 //in kJ/kg-K\n",
"T=393.15 //Given temp. in K\n",
"gf=hf-T*sf //in kJ/kg\n",
"gg=hg-T*sg //in kJ/kg\n",
"disp('Since, two results are in close agreement, Therefore mixture of saturated liquid water and saturated water vapor at 120�C satisfies the criterion for phase equilibrium')"
   ]
   }
,
{
		   "cell_type": "markdown",
		   "metadata": {},
		   "source": [
			"## Example 16.8: Mole_Fraction_of_Water_Vapor_Just_over_a_Lake.sce"
		   ]
		  },
  {
"cell_type": "code",
	   "execution_count": null,
	   "metadata": {
	    "collapsed": true
	   },
	   "outputs": [],
"source": [
"//example 8\n",
"//Mole Fraction of Water Vapor Just over a Lake\n",
"clear\n",
"clc\n",
"Pv=1.7057 //the partial pressure of water vapor in the air at the lake surface in kPa\n",
"P=92 //atmospheric pressure at lake level in kPa\n",
"yv=Pv/P //The mole fraction of water vapor in the air at the surface of the lake\n",
"printf('\n Hence, The mole fraction of water vapor in the air at the surface of the lake is = %.2f percent. \n',yv*100);\n",
"disp('Water contains some dissolved air, but the amount is negligible. Therefore,we can assume the entire lake to be liquid water. So, mole fraction of water in lake is almost 1')"
   ]
   }
,
{
		   "cell_type": "markdown",
		   "metadata": {},
		   "source": [
			"## Example 16.9: The_Amount_of_Dissolved_Air_in_Water.sce"
		   ]
		  },
  {
"cell_type": "code",
	   "execution_count": null,
	   "metadata": {
	    "collapsed": true
	   },
	   "outputs": [],
"source": [
"//example 9\n",
"//The Amount of Dissolved Air in Water\n",
"clear\n",
"clc\n",
"Pv=1.96 //kPa\n",
"P=92 //atmospheric pressure at lakelevel\n",
"Pdryair=(P-Pv)/100 //pressure of dry air in bar\n",
"H=62000//Henry�s constant for air dissolved in waterin bar\n",
"ydryair=Pdryair/H //mole fraction of air in the water\n",
"printf('\n Hence, the mole fraction of air at the surface of lake is = %.7f . \n',ydryair);"
   ]
   }
],
"metadata": {
		  "kernelspec": {
		   "display_name": "Scilab",
		   "language": "scilab",
		   "name": "scilab"
		  },
		  "language_info": {
		   "file_extension": ".sce",
		   "help_links": [
			{
			 "text": "MetaKernel Magics",
			 "url": "https://github.com/calysto/metakernel/blob/master/metakernel/magics/README.md"
			}
		   ],
		   "mimetype": "text/x-octave",
		   "name": "scilab",
		   "version": "0.7.1"
		  }
		 },
		 "nbformat": 4,
		 "nbformat_minor": 0
}
