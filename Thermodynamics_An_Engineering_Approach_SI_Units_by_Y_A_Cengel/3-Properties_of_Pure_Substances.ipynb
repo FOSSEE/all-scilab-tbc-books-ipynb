{
"cells": [
 {
		   "cell_type": "markdown",
	   "metadata": {},
	   "source": [
       "# Chapter 3: Properties of Pure Substances"
	   ]
	},
{
		   "cell_type": "markdown",
		   "metadata": {},
		   "source": [
			"## Example 3.10: Mass_of_Air_in_a_Room.sce"
		   ]
		  },
  {
"cell_type": "code",
	   "execution_count": null,
	   "metadata": {
	    "collapsed": true
	   },
	   "outputs": [],
"source": [
"//ques10\n",
"//Mass of Air in a Room\n",
"clc\n",
"l=4;//length in metres\n",
"b=5;//breadth in metres\n",
"h=6;//height in metres\n",
"V=l*b*h;//volume in m^3\n",
"P=100;//Pressure in kPa\n",
"R=0.287;//Gas constant for a given gas in kPa.m^3/Kg.k\n",
"T=298;//Temp in K\n",
"m=P*V/(R*T);//mass in Kg\n",
"printf('Mass =P*V/(R*T)= %.1f kg',m);\n",
""
   ]
   }
,
{
		   "cell_type": "markdown",
		   "metadata": {},
		   "source": [
			"## Example 3.11: The_Use_of_Generalized_Charts.sce"
		   ]
		  },
  {
"cell_type": "code",
	   "execution_count": null,
	   "metadata": {
	    "collapsed": true
	   },
	   "outputs": [],
"source": [
"//ques11\n",
"//The Use of Generalized Charts\n",
"clear\n",
"clc\n",
"//(a)specific volume using ideal gas equation of state\n",
"R=0.0815;//gas constant for given substance in kPa.m^3/Kg.K\n",
"Pcr=4.059;//Critical Pressure in MPa\n",
"Tcr=374.2;//Critical Temp in K\n",
"T=323;//Temp in K\n",
"P=1000;//Pressure in kPa\n",
"v=R*T/P;//Specific Volume in m^3/Kg\n",
"printf('\n(a) Specific Volume = %.6f m^3/kg ',v);\n",
"er=(v-0.021796)/0.021796;//error\n",
"printf('\n Error = %.3f',er);\n",
"//(b) specific volume using chart\n",
"Pr=P/Pcr;//reduced pressure\n",
"Tr=T/Tcr;//reduced Temperature\n",
"Z=0.84;//from compressibility chart \n",
"Videal=Z*v;//Ideal Volume in m^3/kg\n",
"printf('\n(b) Ideal volume = %.6f m^3/kg ',Videal);\n",
"er=(Videal-0.021796)/0.021796;//error \n",
"printf('\n Error = %.3f',er);"
   ]
   }
,
{
		   "cell_type": "markdown",
		   "metadata": {},
		   "source": [
			"## Example 3.12: Using_Generalized_Charts_to_Determine_Pressure.sce"
		   ]
		  },
  {
"cell_type": "code",
	   "execution_count": null,
	   "metadata": {
	    "collapsed": true
	   },
	   "outputs": [],
"source": [
"//ques12\n",
"//Using Generalized Charts to Determine Pressure\n",
"clc\n",
"//(a)\n",
"R=0.5956;//Gas constant for a given substance in psia.ft^3/lbm.R\n",
"Pcr=3200;//Critical Pressure in psia\n",
"Tcr=1164.8;//Critical Temp in R\n",
"v=0.51431;//specific volume in ft^3/lbm\n",
"T=600;//Temperature in F\n",
"//so\n",
"P=1000;//Pressure in psia from Table A-6E\n",
"printf('\n(a) Pressure at a specified state = %.0f psia',P);\n",
"//(b)\n",
"T=1060;//Temperature in F\n",
"P=R*T/v;//Pressure in psia\n",
"printf('\n(b)Pressure of the steam under specified condition = %.0f psia',P);\n",
"//(c)using generalised compressibility chart\n",
"Vr=v*Pcr/(R*Tcr/Pcr);//reduced volume\n",
"Tr=T/Tcr;//reduced temperature\n",
"//so\n",
"Pr=0.33;//from compressibility chart\n",
"P=Pr*Pcr;//final Pressure in psia\n",
"printf('\n(c) Pressure(using generalised compressibility chart) = %.0f psia ',P);"
   ]
   }
,
{
		   "cell_type": "markdown",
		   "metadata": {},
		   "source": [
			"## Example 3.13: Different_Methods_of_Evaluating_Gas_Pressure.sce"
		   ]
		  },
  {
"cell_type": "code",
	   "execution_count": null,
	   "metadata": {
	    "collapsed": true
	   },
	   "outputs": [],
"source": [
"//ex13\n",
"//Different Methods of Evaluating Gas Pressure\n",
"clear\n",
"clc\n",
"T=175//temp in K\n",
"v=0.00375//specific volume in m^3/kg\n",
"//(a)ideal gas equation of state\n",
"// data from table A-1\n",
"R=0.2968//gas constant for a given gas in kPa.m^3/kg.K \n",
"P=R*T/v;//Pressure in kPa\n",
"printf('\n(a) Pressure from Ideal gas equation = %.0f kPa \n',P);\n",
"//(b)van der waals equation\n",
"//a and b are van der waals constant\n",
"a=0.175;//m^6.kPa/Kg^2\n",
"b=0.00138;//m^3/Kg\n",
"P=R*T/(v-b)-a/v^2;//pressure in kPa\n",
"printf('(b) Pressure from van der waals equation = %.0f kPa \n',P);\n",
"//(c)Beattie-Bridgeman equation\n",
"A=102.29//constant \n",
"B=0.05378//constant\n",
"c=4.2*10^4;//constant\n",
"Ru=8.314;//universal gas constant value \n",
"MM=28.013//molecular Mass of substance\n",
"v=0.00375//specific volume in Kg/m^3\n",
"V=MM*v//Volume in m^3\n",
"\n",
"P=Ru*T/V^2*(1-c/(V*T^3))*(V+B)-A/V^2;//pressure in KPa\n",
"printf('(c) Pressure from Beattie-Bridgeman equation = %.0f kPa \n',P);\n",
""
   ]
   }
,
{
		   "cell_type": "markdown",
		   "metadata": {},
		   "source": [
			"## Example 3.14: Temperature_Drop_of_a_Lake_Due_to_Evaporatio.sce"
		   ]
		  },
  {
"cell_type": "code",
	   "execution_count": null,
	   "metadata": {
	    "collapsed": true
	   },
	   "outputs": [],
"source": [
"//ques14\n",
"//Temperature Drop of a Lake Due to Evaporation\n",
"clear\n",
"clc\n",
"Psat=3.17//saturated pressure in kPa @ 25 C\n",
"Pv1=0.1*Psat//pressure for 10% humidity in kPa\n",
"Pv2=0.8*Psat//pressure for 80% humidity in kPa \n",
"Pv3=1*Psat//pressure for 100% humidity in kPa\n",
"T1=-8.0;//Temp in K\n",
"T2=21.2;//Temp in K\n",
"T3=25;//Temp in K\n",
"printf( 'Corresponding Temperatures(in C) are(From table A-5) \n T1 = %.1f K \n T2 = %.1f K \n T3 = %.1f K ',T1,T2,T3 );"
   ]
   }
,
{
		   "cell_type": "markdown",
		   "metadata": {},
		   "source": [
			"## Example 3.1: Pressure_of_Saturated_Liquid_in_a_Tank.sce"
		   ]
		  },
  {
"cell_type": "code",
	   "execution_count": null,
	   "metadata": {
	    "collapsed": true
	   },
	   "outputs": [],
"source": [
"//ex1\n",
"//Pressure of Saturated Liquid in a Tank\n",
"clc\n",
"Psat=70.183;//saturated pressure @90C using steam table A-4 in kPa\n",
"printf('From steam table Psat @ 90 C = %.3f kPa',Psat);\n",
"vsat=0.001036;//saturated specific volume @90C in m^3/Kg\n",
"m=50;//mass in kg\n",
"V=m*vsat;//Volume of tank in m^3\n",
"printf('\n Total Volume of Tank = %.4f m^3',V);"
   ]
   }
,
{
		   "cell_type": "markdown",
		   "metadata": {},
		   "source": [
			"## Example 3.2: Temperature_of_Saturated_Vapor_in_a_Cylinder.sce"
		   ]
		  },
  {
"cell_type": "code",
	   "execution_count": null,
	   "metadata": {
	    "collapsed": true
	   },
	   "outputs": [],
"source": [
"//ques2\n",
"//Temperature of Saturated Vapor in a Cylinder\n",
"clc\n",
"Tsat=280.99;//Saturated temperature in F @ 50psia from table A-5E\n",
"printf('Saturated Temperature = %.2f F \n',Tsat);\n",
"v=8.5175;//vg saturated volume of vapor in ft^3/lbm table A-5E\n",
"V=2;//Total Volume in ft^3\n",
"m=V/v;//mass in lbm\n",
"printf('Mass of the sample is = %.3f lbm ',m);"
   ]
   }
,
{
		   "cell_type": "markdown",
		   "metadata": {},
		   "source": [
			"## Example 3.3: Volume_and_Energy_Change_during_Evaporation.sce"
		   ]
		  },
  {
"cell_type": "code",
	   "execution_count": null,
	   "metadata": {
	    "collapsed": true
	   },
	   "outputs": [],
"source": [
"//ques3\n",
"//Volume and Energy Change during Evaporation\n",
"clc\n",
"vg=1.6941; //saturated vapor specific volume from table A-5 @ 100kPa in m^3/Kg\n",
"vf=0.001043;//saturated liquid specific volume from table A-5 @ 100kPa in m^3/Kg\n",
"vfg=vg-vf;//in m^3/Kg\n",
"m=0.2;//in kg\n",
"//(a) Volume change \n",
"dV=m*vfg;//Volume in m^3\n",
"printf('(a) Volume change = %.4f m^3 \n',dV);\n",
"//(b) Amount of energy Transfer to water\n",
"hfg=2257.5;//change in enthalpy from table A-5 @ 100kPa in kJ/Kg\n",
"E=m*hfg;//In kJ\n",
"printf('(b) Energy Transferred = %.1f kJ',E);"
   ]
   }
,
{
		   "cell_type": "markdown",
		   "metadata": {},
		   "source": [
			"## Example 3.4: Pressure_and_Volume_of_a_Saturated_Mixture.sce"
		   ]
		  },
  {
"cell_type": "code",
	   "execution_count": null,
	   "metadata": {
	    "collapsed": true
	   },
	   "outputs": [],
"source": [
"//ques4\n",
"//Pressure and Volume of a Saturated Mixture\n",
"clc\n",
"//(a) Pressure in the tank\n",
"P=70.183;//Psat @ 90 C table A-4 in kPa\n",
"printf('(a) Pressure in the tank = %.3f kPa ',P);\n",
"//(b)volume of tank\n",
"disp('(b)V = Vf+Vg = mf*vf+mg*vg');\n",
"mf=8;//mass of liquid water in kg\n",
"mg=2//mass of vapor water in kg\n",
"vf=0.001036;//saturated specific volume of liquid water from table A-4 in m^3/Kg\n",
"vg=2.3593;//saturated specific volume of vapor water from Table A-5 in m^3/Kg\n",
"V=mf*vf+mg*vg;//Total Volume in m^3\n",
"printf('Volume of tank  = %.2f m^3',V);\n",
"\n",
""
   ]
   }
,
{
		   "cell_type": "markdown",
		   "metadata": {},
		   "source": [
			"## Example 3.5: Properties_of_Saturated_Liquid_Vapour_Mixture.sce"
		   ]
		  },
  {
"cell_type": "code",
	   "execution_count": null,
	   "metadata": {
	    "collapsed": true
	   },
	   "outputs": [],
"source": [
"//ques5\n",
"//Properties of Saturated Liquid Vapour Mixture\n",
"clc\n",
"V=0.080;//volume in m^3 given\n",
"m=4;//in kg given\n",
"v=V/m;//in m^3/kg\n",
"vf=0.0007437;//@160kPa from table A-4 in m^3/kg\n",
"vg=0.12348;//@160kPa from table A-4 in m^3/kg\n",
"//(a)Temperature\n",
"Tsat=-15.60;//in C from table A-4\n",
"printf('\n(a) Since vf<v<vg so saturated region, so temperature at saturated state = %.2f C \n',Tsat);\n",
"//(b)Quality Factor\n",
"x=(v-vf)/(vg-vf);\n",
"printf('(b) Quality factor =%.3f \n',x);\n",
"//(c) Enthalpy of refrigerant\n",
"hf=31.21//from table A-12 @ 160kpa in kJ/kg\n",
"hfg=209.90//from table A-12 @ 160kpa in kJ/kg\n",
"h=hf+x*hfg;// n kJ/kg\n",
"printf('(c) Enthalpy of refrigerant = %.1f kJ/kg \n',h);\n",
"//(d) Volume occupied by phase\n",
"mg=x*m//mass of vapour n kg\n",
"Vg=mg*vg;//volume of vapour in m^3\n",
"printf('(d) Volume of vapour =%.4f m^3 \n',Vg);"
   ]
   }
,
{
		   "cell_type": "markdown",
		   "metadata": {},
		   "source": [
			"## Example 3.7: Internal_Energy_of_Superheated_Vapor_using_linear_interpolation.sce"
		   ]
		  },
  {
"cell_type": "code",
	   "execution_count": null,
	   "metadata": {
	    "collapsed": true
	   },
	   "outputs": [],
"source": [
"//ex6\n",
"//Internal Energy of Superheated Vapor using linear interpolation\n",
"clc\n",
"disp('h1=2855.8 @ T1=200 C and h2=2961.0 @ T2=250 C and h=2890 lies in between these two so using linear interpolation we can get Temperature ');\n",
"h1=2855.8;//Enthalpy at T1 in kJ/Kg\n",
"T1=200;//temp in C\n",
"h2=2961.0;//Enthalpy at T2 in kJ/Kg\n",
"T2=250;//Temp T2 in C\n",
"h=2890;//Enthalpy in kJ/kg at which temp is to be determined\n",
"T=(T2-T1)/(h2-h1)*(h-h1)+T1;//Temp for given value of enthalpy in C\n",
"printf('Temperature = %.1f C',T);"
   ]
   }
,
{
		   "cell_type": "markdown",
		   "metadata": {},
		   "source": [
			"## Example 3.8: Approximating_Compressed_Liquid_as_Saturated_Liquid.sce"
		   ]
		  },
  {
"cell_type": "code",
	   "execution_count": null,
	   "metadata": {
	    "collapsed": true
	   },
	   "outputs": [],
"source": [
"//ques8\n",
"//Approximating Compressed Liquid as Saturated Liquid\n",
"clc\n",
"u1=333.82;//(a) internal energy in KJ/Kg @ P=5MPa and T=80 C from table A-7\n",
"printf('\n(a) Data as from compress liquid table, u= %.2f kJ/kg\n',u1);\n",
"u2=334.97;//(b)internal energy in KJ/Kg @80 C from table A-4\n",
"printf('(b) Data as from saturated liquid table, u = %.2f kJ/kg',u2);\n",
"er=(u2-u1)/u1*100;//(c) %age error\n",
"printf('\n(c)Error involved = %.2f percent',er);"
   ]
   }
],
"metadata": {
		  "kernelspec": {
		   "display_name": "Scilab",
		   "language": "scilab",
		   "name": "scilab"
		  },
		  "language_info": {
		   "file_extension": ".sce",
		   "help_links": [
			{
			 "text": "MetaKernel Magics",
			 "url": "https://github.com/calysto/metakernel/blob/master/metakernel/magics/README.md"
			}
		   ],
		   "mimetype": "text/x-octave",
		   "name": "scilab",
		   "version": "0.7.1"
		  }
		 },
		 "nbformat": 4,
		 "nbformat_minor": 0
}
