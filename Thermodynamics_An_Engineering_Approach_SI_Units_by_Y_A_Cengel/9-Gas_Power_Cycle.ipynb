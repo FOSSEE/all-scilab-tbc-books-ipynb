{
"cells": [
 {
		   "cell_type": "markdown",
	   "metadata": {},
	   "source": [
       "# Chapter 9: Gas Power Cycle"
	   ]
	},
{
		   "cell_type": "markdown",
		   "metadata": {},
		   "source": [
			"## Example 9.10: Second_Law_Analysis_of_an_Otto_Cycle.sce"
		   ]
		  },
  {
"cell_type": "code",
	   "execution_count": null,
	   "metadata": {
	    "collapsed": true
	   },
	   "outputs": [],
"source": [
"//ex10\n",
"//Second-Law Analysis of an Otto Cycle\n",
"clear\n",
"clc\n",
"//In Example 9�2, various quantities of interest were given\n",
"r=8;//constant ratio \n",
"T0=290;//temp in K\n",
"T1=290;//temp at state 1 in K\n",
"T2=652.4;//temp at state 2 in K\n",
"T3=1575.1;//temp at state 3 in K\n",
"P2=179.97;//pressure at state 2 in kPa\n",
"P3=434.5;//pressure at state 3 in kPa\n",
"Qin=800;//heat input in kJ/kg\n",
"Qout=381.83;//heat output in kJ/kg\n",
"Wnet=418.17;//net work done in kJ/kg\n",
"s3o=3.5045;//entropy at state 3\n",
"s2o=2.4975;//entropy at state 2\n",
"R=0.287;//gas constant at kJ/kg/mol/K\n",
"\n",
"s23=s3o-s2o-R*log(P3/P2);//entropy change for state 2 -3 kJ/kg.K\n",
"Qin=800;//heat input in kJ/kg\n",
"Tsource=1700;//source temperature in K\n",
"xdest23=T0*(s23-Qin/Tsource);//irreversibilty for state 2 3\n",
"//For process 4-1,\n",
"s14=-s23;//entropy change at state 1 4 \n",
"Qout=381.83;//heat output in kJ/kg\n",
"Tsink=290;//temp of sink in K\n",
"xdest41=T0*(s14+Qout/Tsink);//irreversibility for state 4 1\n",
"xdest12=0;//irreversibilty for state 1 2 \n",
"xdest34=0;//irreversibility at state 3 4\n",
"xdestcycle=xdest12+xdest23+xdest34+xdest41;//net irreversibility \n",
"printf('Irreversibility of cycle = %.1f kJ/kg \n',xdestcycle);\n",
"s40=-s14;//entropy change for state 4 0 in kJ/k/kg\n",
"u40=Qout;//internal energy at state 4 0 in kJ/kg\n",
"v40=0;//specific volume at state 40 in m^3/kg\n",
"v41=0;//specific volume at state 41 in m^3/kg\n",
"P0=10;//initial pressure in kPa(junk value as P0 is multiplied by zero in next statement)\n",
"Q=u40-T0*s40+P0*v40;//heat in kJ/kg \n",
"printf(' Exergy distruction = %.1f kJ/kg \n',Q);"
   ]
   }
,
{
		   "cell_type": "markdown",
		   "metadata": {},
		   "source": [
			"## Example 9.2: The_Ideal_Otto_Cycle.sce"
		   ]
		  },
  {
"cell_type": "code",
	   "execution_count": null,
	   "metadata": {
	    "collapsed": true
	   },
	   "outputs": [],
"source": [
"//ques2\n",
"//The Ideal Otto Cycle\n",
"clear\n",
"clc\n",
"//the temperature and pressure of air at the end of the isentropic compression process (state 2), using data from Table A�17\n",
"T1=290;//initial temp in K\n",
"u1=206.9;//initial internal energy in kJ/kg\n",
"vr1=676.1;//initial reduced volume\n",
"//Process 1-2 (isentropic compression of an ideal gas)\n",
"//vr2/vr1=v2/v1=1/r\n",
"r=8;//ratio\n",
"vr2=vr1/r;//reduced volume at state 2 \n",
"//using table corresponding to vr2\n",
"T2=652.4;//final temp in K\n",
"u2=475.11;//final internal energy in kJ/kg\n",
"P1=100;//initial pressure in kPa\n",
"P2=P1*T2/T1*r;//final pressure in kPa\n",
"//Process 2-3 (constant-volume heat addition)\n",
"Qin=800;//heat input in kJ/kg\n",
"u2=1275.11;// intenal energy at state 2 in kJ/kg\n",
"u3=Qin+u2;//internal energy at state 3 in kJ/kg\n",
"//using tables corresponding to u3\n",
"T3=1575.1;//temperature at state 3 in K\n",
"vr3=6.108;//reduced volume at state 3\n",
"printf('(a) T3,Temperature at state 3 = %.1f K \n',T3);\n",
"vr3=6.108;//reduced volume at state 3\n",
"P3=P2*(T3/T2)*1;//1 for v2/v3\n",
"printf('     Pressure P3 = %.3f MPa \n',P3/1000);\n",
"\n",
"//(b)\n",
"vr3=r*vr3;\n",
"//now from table \n",
"T4=795.6;//temp at state 4 in K\n",
"u4=588.74;//internal energy at state 4 in kJ/kg\n",
"//Process 4-1 (constant-volume heat rejection)\n",
"Qout=u4-u1;//heat output in kJ/kg\n",
"w=Qin-Qout;//work done in kJ/kg\n",
"printf(' (b) Net work done = %.2f kJ/kg \n',w);\n",
"\n",
"//(c)\n",
"nth=w/Qin;//efficiency of heat engine\n",
"k=1.4;//constant\n",
"no=1-r^(1-k);//thermal efficiency\n",
"printf(' (c) The thermal efficiency of the cycle is determined from its definition = %.3f \n',nth);\n",
"printf('     Under the cold-air-standard assumptions thermal efficiency would be = %.3f \n',no);\n",
"\n",
"//(d)\n",
"//The mean effective pressure is determined from its definition\n",
"R=0.287//gas constant for water\n",
"v1=R*T1/P1//specific volume at state 1\n",
"MEP=w/(v1*(1-1/r));//mean effective pressure in kPa\n",
"printf(' (d) Mean effective pressure = %.0f kPa \n',MEP);"
   ]
   }
,
{
		   "cell_type": "markdown",
		   "metadata": {},
		   "source": [
			"## Example 9.3: The_Ideal_Diesel_Cycle.sce"
		   ]
		  },
  {
"cell_type": "code",
	   "execution_count": null,
	   "metadata": {
	    "collapsed": true
	   },
	   "outputs": [],
"source": [
"//ques3\n",
"//The Ideal Diesel Cycle\n",
"clear\n",
"clc\n",
"disp('(a)');\n",
"//(a) the temperature and pressure of air at the end of each process\n",
"v1=117;//volume at state 1 in in^3\n",
"r=18;//volume ratio for 1 2 process\n",
"v2=v1/r;//volume at state 2 in in^3\n",
"rc=2;//volume ratio for 2-3 process\n",
"v3=rc*v2;//volume at state 3 in in^3\n",
"v4=v1;//volume state 4 in in^3\n",
"//Process 1-2 (isentropic compression of an ideal gas, constant specific heats)\n",
"T1=540;//temperature at state 1 in R\n",
"k=1.4;//constant\n",
"T2=T1*(v1/v2)^(k-1)//temperature in state 2 in R r=v1/v2\n",
"P1=14.7;//pressure at state 1 in psia\n",
"P2=P1*(v1/v2)^k//pressure at state 2 in psia\n",
"//Process 2-3 (constant-pressure heat addition to an ideal gas)\n",
"P3=P2//pressure at state 3 in psia\n",
"T3=T2*(v3/v2)//temp at state 3 in R rc=v3/v2\n",
"//Process 3-4 (isentropic expansion of an ideal gas, constant specific heats)\n",
"T4=T3*(v3/v4)^(k-1)//temp at state 4 in R\n",
"P4=P3*(v3/v4)^k//pressure at state 4 in psia\n",
"\n",
"//(b)\n",
"R=0.3704//gas constant for given substance in btu/R.lbm\n",
"m=P1*v1/(R*T1)/1728;//mass in lbm\n",
"//Process 2-3 is a constant-pressure heat-addition process, for which the boundary work and du terms can be combined to dh\n",
"Cp=0.240//specific heat at constant pressure in Btu/lbm.R\n",
"\n",
"Qin=m*Cp*(T3-T2);//heat input in Btu\n",
"\n",
"//Process 4-1 is a constant-volume heat-rejection process\n",
"Cv=0.171;//specific heat capacity at constant volume in Btu/lbm.R\n",
"Qout=m*Cv*(T4-T1);//heat output in Btu\n",
"\n",
"w=Qin-Qout;//work done in Btu\n",
"printf(' (b) Net work done = %.3f Btu \n',w);\n",
"nth=w/Qin;//efficiency of heat engine\n",
"printf('     The thermal efficiency = %.3f \n',nth);\n",
"\n",
"//(c)The mean effective pressure\n",
"MEP=w/(v1-v2)*778*12;//mean effective pressure (multiplied by constants for unit conversion to psia) \n",
"printf(' (c) Mean effectve pressure = %.0f psia \n ',MEP);"
   ]
   }
,
{
		   "cell_type": "markdown",
		   "metadata": {},
		   "source": [
			"## Example 9.5: The_Simple_Ideal_Brayton_Cycle.sce"
		   ]
		  },
  {
"cell_type": "code",
	   "execution_count": null,
	   "metadata": {
	    "collapsed": true
	   },
	   "outputs": [],
"source": [
"//ques5\n",
"//The Simple Ideal Brayton Cycle\n",
"clear\n",
"clc\n",
"//Process 1-2 (isentropic compression of an ideal gas)\n",
"T1=300;//initial temp in K\n",
"//from table\n",
"h1=300.19;//enthalpy of heat at state 1 in kJ/kg\n",
"Pr1=1.386;//reduced pressure at state 1 \n",
"r=8;//constant ratio\n",
"Pr2=r*Pr1;//reduced pressure at state 2, r=P2/P1\n",
"//using table corresponding to Pr2\n",
"T2=540;//temperature at state 2 in K\n",
"printf('(a) Temperature at compressor exit T2 = %.0f K \n',T2);\n",
"h2=544.35;//enthalpy of heat at state 2 \n",
"//Process 3-4 (isentropic expansion of an ideal gas)\n",
"T3=1300;//temperature at state 3 in K\n",
"h3=1395.97;//enthalpy of heat at state 3 in kJ/kg\n",
"Pr3=330.9;//reduced pressure at state 3 \n",
"Pr4=Pr3/r;//reduced pressure at state 4, 1/r=P4/P3\n",
"//from table\n",
"T4=770;//temperature at state 4 in K\n",
"printf('    Temperature at turbine = %.0f K \n',T4);\n",
"h4=789.37;//enthalpy of heat  at state 4 in kJ/kg\n",
"//To find the back work ratio\n",
"Win=h2-h1//work input in kJ/kg\n",
"Wout=h3-h4//work output in kJ/kg\n",
"Rbw=Win/Wout;//back work ratio\n",
"printf(' (b) Back work ratio = %.3f \n',Rbw);\n",
"Qin=h3-h2;//heat input in kJ/kg\n",
"Wnet=Wout-Win;//net work\n",
"nth=Wnet/Qin;//thermal efficiency\n",
"printf(' (c) Thermal efficiency = %.3f ',nth);"
   ]
   }
,
{
		   "cell_type": "markdown",
		   "metadata": {},
		   "source": [
			"## Example 9.6: An_Actual_Gas_Turbine_Cycle.sce"
		   ]
		  },
  {
"cell_type": "code",
	   "execution_count": null,
	   "metadata": {
	    "collapsed": true
	   },
	   "outputs": [],
"source": [
"//ques6\n",
"//An Actual Gas-Turbine Cycle\n",
"clear\n",
"clc\n",
"ws=244.16;//kJ/kg\n",
"nc=0.80;//compressor efficiency\n",
"Win=ws/nc;//work input in kJ/kg\n",
"nt=0.85;//Turbine efficiency\n",
"ws2=606.60;\n",
"Wout=nt*ws2;//work output in kJ/kg\n",
"Rbw=Win/Wout;//back work ratio\n",
"printf('(a) Back work ratio = %.3f \n',Rbw);\n",
"//(b) now air leaves the compressor at a higher temperature and enthalpy\n",
"h1=300.19;//enthalpy of heat state 1 in kJ/kg\n",
"h2a=h1+Win;//enthalpy of heat(a) in kJ/kg\n",
"h3=1395.97;//enthalpy of heat at state 3 in kJ/kg\n",
"Qin=h3-h2a;//heat input in kJ/kg\n",
"Wnet=Wout-Win;//net work done in kJ/kg\n",
"nth=Wnet/Qin;//thermal efficiency\n",
"printf(' (b) Thermal Efficiency = %.3f \n',nth);\n",
"//The air temperature at the turbine exit is determined from an energy balance on the turbine\n",
"h4a=h3-Wout;//enthalpy of heat(a) at state 4 in kJ/kg\n",
"//Now from table 17\n",
"T4a=853;//temperature(a) at state 4 in K\n",
"printf(' (c) Temperature T4a = %.0f K',T4a);"
   ]
   }
,
{
		   "cell_type": "markdown",
		   "metadata": {},
		   "source": [
			"## Example 9.7: Actual_Gas_Turbine_Cycle_with_Regeneration.sce"
		   ]
		  },
  {
"cell_type": "code",
	   "execution_count": null,
	   "metadata": {
	    "collapsed": true
	   },
	   "outputs": [],
"source": [
"//ques7\n",
"//Actual Gas-Turbine Cycle with Regeneration\n",
"clear\n",
"clc\n",
"//The T-s diagram of the cycle is shown in Fig. 9�41 in book\n",
"h2a=605.39;//enthalpy of heat(a) at state 2 in  kJ/kg\n",
"h4a=880.36;//enthalpy of heat(a) at state 4 in kJ/kg\n",
"e=0.80;//effectiveness\n",
"h5=e*(h4a-h2a)+h2a;//enthalpy of heat at state 5 in kJ/kg\n",
"h3=1395.6;//enthalpy of heat at state 3 in kJ/kg\n",
"Qin=h3-h5;//heat input in kJ/kg\n",
"//This represents a savings of 220.0 kJ/kg from the heat input requirements. The addition of a regenerator (assumed to be frictionless) does not affect the net work output\n",
"w=210.41;//work dodne in kJ/kg\n",
"nth=w/Qin;//efficiency \n",
"printf(' Thermal efficiency = %.3f ',nth);\n",
""
   ]
   }
,
{
		   "cell_type": "markdown",
		   "metadata": {},
		   "source": [
			"## Example 9.8: A_Gas_Turbine_with_Reheating_and_Intercooling.sce"
		   ]
		  },
  {
"cell_type": "code",
	   "execution_count": null,
	   "metadata": {
	    "collapsed": true
	   },
	   "outputs": [],
"source": [
"//ques8\n",
"//A Gas Turbine with Reheating and Intercooling\n",
"clear\n",
"clc\n",
"//For two-stage compression and expansion, the work input is minimized and the work output is maximized when both stages of the compressor and the turbine have the same pressure ratio\n",
"\n",
"//P2/P1=P4/P3=P6/P7=P8/P9=sqrt(8)=r \n",
"//At inlets: T1=T3 h1=h3 T6=T8 h6=h8\n",
"//At outlet T2=T4 h2=h4  T7=T9 h7=h9\n",
"\n",
"//In the absence of any regeneration, the back work ratio and the thermal efficiency are determined by using data from Table A�17\n",
"T1=300;//temperature at state 1 in K\n",
"h1=300.19;//enthalpy at state 1 in kJ/kg\n",
"T3=T1;//temperature at state 3 in K\n",
"h3=h1;//enthalpy at state 3 \n",
"Pr1=1.386;//reduced pressure at state 1\n",
"r=sqrt(8);//constant ratio\n",
"Pr2=Pr1*r;//here r is for P2/P1\n",
"//from table\n",
"T2=403.3;//temp at state 2 in K\n",
"T4=T2;//temp at state 4 in K\n",
"h2=404.31;//enthalpy at state 2 in kJ/kg \n",
"h4=h2;//enthalpy at state 4 \n",
"\n",
"T6=1300;//temperature at state 6 in K\n",
"T8=T6;//temp at state 8 \n",
"h6=1395.97;//enthalpy at state 6\n",
"h8=h6;//enthalpy at state 8\n",
"Pr6=330.9;//reduced pressure at state 6\n",
"Pr7=1/r*Pr6;//reduced pressure at state 7\n",
"T7=1006.4;//temperature at state 7 in K\n",
"T9=T7;//temperature at state 9 in K\n",
"h7=1053.33;//enthalpy at state 7 in kJ/kg\n",
"h5=h7;//enthalpy at state 5\n",
"h9=h7;//enthalpy at state 9\n",
"Wcompin=2*(h2-h1);//input work in compression in kJ/kg\n",
"Wturbout=2*(h6-h7);//output turbine work in kJ/kg\n",
"Wnet=Wturbout-Wcompin;//net work done in kJ/kg\n",
"Qin=(h6-h4)+(h8-h7);//input heat in kJ/kg\n",
"Rbw=Wcompin/Wturbout;//back work ratio\n",
"printf('(a) Back work ratio = %.3f \n',Rbw);\n",
"nth=Wnet/Qin;//thermal efficiency\n",
"printf(' (b) Thermal Efficiency = %.3f \n',nth);\n",
"\n",
"//(b)\n",
"qin=(h6-h5)+(h8-h7);//input specific heat in kJ/kg\n",
"nth=Wnet/qin;//thermal efficiency \n",
"printf(' (c) Thermal efficiency in this case = %.3f \n',nth);"
   ]
   }
,
{
		   "cell_type": "markdown",
		   "metadata": {},
		   "source": [
			"## Example 9.9: The_Ideal_Jet_Propulsion_Cycle.sce"
		   ]
		  },
  {
"cell_type": "code",
	   "execution_count": null,
	   "metadata": {
	    "collapsed": true
	   },
	   "outputs": [],
"source": [
"//ex9\n",
"//The Ideal Jet-Propulsion Cycle\n",
"clear\n",
"clc\n",
"//Process 1-2 (isentropic compression of an ideal gas in a diffuser)\n",
"T1=420;//temp at state 1 in R\n",
"v1=850;//velocity at state 1 in ft/s\n",
"Cp=0.240;//Btu/lbm.R\n",
"T2=T1+v1^2/(2*Cp)/25037;//temp at state 2  (divided by 25037 to convert it into R)\n",
"P1=5;//pressure at state 1 in psia\n",
"k=1.4;//constant ratio\n",
"P2=P1*(T2/T1)^(k/(k-1));//pressure at state 2 in psia\n",
"//Process 2-3 (isentropic compression of an ideal gas in a compressor)\n",
"rp=10;//constant ratio\n",
"P3=rp*P2;//pressure at state 3 in psia\n",
"P4=P3;//pressure at state 4\n",
"T3=T2*(P3/P2)^(1-1/k);//temp at state 3 in R\n",
"//Process 4-5 (isentropic expansion of an ideal gas in a turbine)\n",
"//Wcompin=Wturbout from this we get T5=T4-T3+T2\n",
"T4=2460;//temp at state 4 in R\n",
"T5=T4-T3+T2;//temp at state 5 in R\n",
"P5=P4*(T5/T4)^(k/(k-1));//pressure at state 5 in psia\n",
"printf('(a) T5 = %.0f R \n',T5);\n",
"printf('     P5 = %.1f psia \n',P5 );\n",
"//Process 5-6 (isentropic expansion of an ideal gas in a nozzle)\n",
"P6=5;//pressure at state 6 in psia\n",
"T6=T5*(P6/P5)^(1-1/k);//temp at state 6 in R\n",
"v6=sqrt(-1*2*Cp*(T6-T5)*25037);//velocity at state 6 in ft/s\n",
"printf(' (b) Velocity v6 = %.0f ft/s \n',v6);\n",
"//The propulsive efficiency of a turbojet engine is the ratio of the propulsive power developed Wp to the total heat transfer rate to the working fluid\n",
"ms=100;//mass flow rate in lbm/s\n",
"Vexit=3288;//exit volume in ft^3\n",
"Vinlet=850;//inlet volume in ft^3\n",
"Vaircraft=850;//aircraft volume in ft^3\n",
"\n",
"Wp=ms*(Vexit-Vinlet)*Vaircraft/25037;//power in Btu/s\n",
"Qin=ms*Cp*(T4-T3);//input heat in kJ/kg\n",
"np=Wp/Qin;//efficiency\n",
"printf(' (c) Efficiency = %.3f \n',np);"
   ]
   }
],
"metadata": {
		  "kernelspec": {
		   "display_name": "Scilab",
		   "language": "scilab",
		   "name": "scilab"
		  },
		  "language_info": {
		   "file_extension": ".sce",
		   "help_links": [
			{
			 "text": "MetaKernel Magics",
			 "url": "https://github.com/calysto/metakernel/blob/master/metakernel/magics/README.md"
			}
		   ],
		   "mimetype": "text/x-octave",
		   "name": "scilab",
		   "version": "0.7.1"
		  }
		 },
		 "nbformat": 4,
		 "nbformat_minor": 0
}
