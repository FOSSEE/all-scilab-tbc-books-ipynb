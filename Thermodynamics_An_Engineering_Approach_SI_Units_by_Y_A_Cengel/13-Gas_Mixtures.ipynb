{
"cells": [
 {
		   "cell_type": "markdown",
	   "metadata": {},
	   "source": [
       "# Chapter 13: Gas Mixtures"
	   ]
	},
{
		   "cell_type": "markdown",
		   "metadata": {},
		   "source": [
			"## Example 13.1: Mass_and_Mole_Fractions_of_a_Gas_Mixture.sce"
		   ]
		  },
  {
"cell_type": "code",
	   "execution_count": null,
	   "metadata": {
	    "collapsed": true
	   },
	   "outputs": [],
"source": [
"//example 1\n",
"//Mass and Mole Fractions of a Gas Mixture\n",
"clear\n",
"clc\n",
"m=20 //total mass of the mixture in kg\n",
"mfO2=3/m //mass fraction of oxygen\n",
"mfN2=5/m //mass fraction of nitrogen\n",
"mfCH4=12/m //mass fraction of methane\n",
"NO2=3/32 //no.of kilo moles of oxygen\n",
"NN2=5/28 // no.of kilo moles of nitrogen\n",
"NCH4=12/16 //no.of kilo moles of methane\n",
"N=NO2+NN2+NCH4//total no. of moles\n",
"yO2=NO2/N //mole fraction of O2\n",
"yN2=NN2/N //mole fraction of N2\n",
"yCH4=NCH4/N // mole fraction of CH4\n",
"Mm=m/N //average molar mass of gas in kg/kmol\n",
"printf('\n Mass fraction of oxygen is = %.2f. \n',mfO2);\n",
"printf('\n Mass fraction of Nitrogen is = %.2f. \n',mfN2);\n",
"printf('\n Mass fraction of Methane is = %.2f. \n',mfCH4);\n",
"printf('\n Mole fraction of Nitrogen is = %.3f. \n',yN2);\n",
"printf('\n Mole fraction of Oxygen is = %.3f. \n',yO2);\n",
"printf('\n Mole fraction of Methane is = %.3f. \n',yCH4);\n",
"printf('\n Average Molar mass of gas is = %.1f kg/mol. \n',Mm);"
   ]
   }
,
{
		   "cell_type": "markdown",
		   "metadata": {},
		   "source": [
			"## Example 13.2: PVT_Behavior_of_Nonideal_Gas_Mixtures.sce"
		   ]
		  },
  {
"cell_type": "code",
	   "execution_count": null,
	   "metadata": {
	    "collapsed": true
	   },
	   "outputs": [],
"source": [
"//example 2\n",
"//P-v-T Behavior of Nonideal Gas Mixtures\n",
"clear\n",
"clc\n",
"NN2=2 //No.of kmol of N2\n",
"NCO2=6 //No. of kmol of CO2\n",
"Nm=8 // total no. of kmol of mixture\n",
"Ru=8.314 //Universal gas constant in kPa-m^3/kmol-K\n",
"Tm=300//Temp. of mixture in K\n",
"Pm=15000 //Pressure of mixture in kPa\n",
"Vm=Nm*Ru*Tm/Pm //volume of tank on the basis of ideal gas equation in m^3\n",
"printf('\n Hence, the volume of the mixture on the basis of ideal gas equation of state is = %.3f m^3. \n',Vm);\n",
"disp('Now,estimating volume of tank on the basis of Kays rule')\n",
"yN2=NN2/Nm//mole fraction of nitrogen\n",
"yCO2=NCO2/Nm //mole fraction of CO2\n",
"TcrN2=126.2 // critical temop. of N2 in Kelvins\n",
"TcrCO2=304.2 //critical temp. of CO2 in kelvins\n",
"Tcrm=yN2*TcrN2+yCO2*TcrCO2 //pseudo critical temp. of mixture in Kelvins\n",
"PcrN2=3.39 //critical pressure of N2 in MPa\n",
"PcrCO2=7.39 //critical pressure in MPa\n",
"Pcrm=yN2*PcrN2+yCO2*PcrCO2 //pseodo critical pressure of mixture in MPa\n",
"Tm=300 //actual critical temp. of mixture in kelvins\n",
"Pm=15 //actual critical pressure of mixture in MPa\n",
"Tr=Tm/Tcrm //Reduced Temp. of mixture\n",
"Pr=Pm/Pcrm //Reduced pressure of mixture\n",
"Zm1=Tr/Pr //compressibility of the mixture\n",
"Vm1=Zm1*Vm//volume of tank on the basis of Kays rule in m^3\n",
"printf('\n Hence, the volume of the mixture on the basis of Kays rule is = %.3f m^3. \n',Vm1);\n",
"disp('Now, estimating volume of tank on the basis of compressibility factors and Amagats law')\n",
"TrN2=Tm/TcrN2 //Reduced Temp. of N2\n",
"PrN2=Pm/PcrN2 //Reduced Pressure of N2\n",
"ZN2=1.02 //compressibility factor of N2\n",
"TrCO2=Tm/TcrCO2 //Reduced Temperature of CO2\n",
"PrCO2=Pm/PcrCO2 //Reduced pressure of CO2\n",
"ZCO2=0.30 //compressibility factor of CO2\n",
"Zm2=ZN2*yN2+ZCO2*yCO2 //compressibility factor of the mixture\n",
"Vm2=Zm2*Vm //volume of the mixture in m^3\n",
"printf('\n Hence, the volume of the mixture on the basis of compressibility factors and Amagats law is = %.3f m^3. \n',Vm2);\n",
"disp('Now, estimating volume of tank on the basis of compressibility factors and daltons law')\n",
"VrN2=(Vm/NN2)/(Ru*TcrN2/(PcrN2*1000))\n",
"VrCO2=(Vm/NCO2)/(Ru*TcrCO2/(PcrCO2*1000))\n",
"ZN2=0.99 //compressibility factor of N2\n",
"ZCO2=0.56 //compressibility factor of CO2\n",
"Zm3=yN2*ZN2+yCO2*ZCO2 //compressibility factor of the mixture\n",
"Vm3=Zm3*Vm //volume of the mixture in m^3\n",
"disp('This is 33 percent lower than the assumed value. Therefore, we should repeat the calculations, using the new value of Vm. When the calculations are repeated we obtain 0.738 m^3 after the second iteration, 0.678 m^3 after the third iteration, and 0.648 m^3 after the fourth iteration. This value does not change with more iterations. Therefore')\n",
"Vm=0.648 //volume of the mixture in m^3\n",
"printf('\n Hence, the volume of the mixture on the basis of compressibility factors and Daltons law is = %.3f m^3. \n',Vm);"
   ]
   }
,
{
		   "cell_type": "markdown",
		   "metadata": {},
		   "source": [
			"## Example 13.3: Mixing_Two_Ideal_Gases_in_a_Tank.sce"
		   ]
		  },
  {
"cell_type": "code",
	   "execution_count": null,
	   "metadata": {
	    "collapsed": true
	   },
	   "outputs": [],
"source": [
"//example 3\n",
"//Mixing Two Ideal Gases in a Tank\n",
"clear\n",
"clc\n",
"disp('We assume both gases to be ideal gases, and their mixtureto be an ideal-gas mixture. This assumption is reasonable since both the oxygen and nitrogen are well above their critical temperatures and well below their critical pressures.')\n",
"CvN2=0.743 //Constant-Volume Specific heat of N2 in kJ/kg-K\n",
"CvO2=0.658 //Constant-Volume Specific heat of O2 in kJ/kg-K \n",
"disp('This is a closed system since no mass crosses the boundary during the process. We note that the volume of a rigid tank is constant and thus,there is no boundary work done. ')\n",
"T1N2=20 // Temperature of N2 in celsius\n",
"T1O2=40 // Temperature of O2 in celsius\n",
"mN2=4 //mass of N2 in kg\n",
"mO2=7 //mass of O2 in kg\n",
"Tm=(mN2*CvN2*T1N2+mO2*CvO2*T1O2)/(mN2*CvN2+mO2*CvO2) //Temp. of mixture in Celsius\n",
"printf('\n Hence, the temp. of the mixture is = %.1f C. \n',Tm)\n",
"NO2=mO2/32 //No. of kmol of O2\n",
"NN2=mN2/28 //No. of kmol of N2\n",
"Nm=NO2+NN2 //Total No. of kmol of mixture\n",
"Ru=8.314 //Universal Gas Constant in kPa-m^3/kmol-K\n",
"P1O2=100 //Initial Pressure of O2 in kPa\n",
"P1N2=150 //Initial Pressure of N2 in kPa\n",
"VO2=NO2*Ru*(T1O2+273)/P1O2//Initial volume of O2 in m^3\n",
"VN2=NN2*Ru*(273+T1N2)/P1N2 //Initial volume of N2 in m^3\n",
"Vm=VO2+VN2 //total volume of mixture in m^3\n",
"Pm=Nm*Ru*(Tm+273)/Vm //Mixture Pressure after equilbrium in kPa\n",
"printf('\n Hence, the mixture pressure after equilbrium is = %.1f kPa. \n',Pm)"
   ]
   }
,
{
		   "cell_type": "markdown",
		   "metadata": {},
		   "source": [
			"## Example 13.4: Exergy_Destruction_during_Mixing_of_Ideal_Gases.sce"
		   ]
		  },
  {
"cell_type": "code",
	   "execution_count": null,
	   "metadata": {
	    "collapsed": true
	   },
	   "outputs": [],
"source": [
"//example 4\n",
"//Exergy Destruction during Mixing of Ideal Gases\n",
"clear\n",
"clc\n",
"disp('We take the entire contents of the tank as the system. This is a closed system since no mass crosses the boundary during the process. We note that the volume of a rigid tank is constant, and there is no energy transfer as heat or work.')\n",
"NO2=3 //No.of kmol of O2\n",
"NCO2=5 //No. of kmol of CO2\n",
"Nm=NO2+NCO2 //total moles of the mixture\n",
"yO2=NO2/Nm //mole fraction of O2\n",
"yCO2=NCO2/Nm //mole fraction of CO2\n",
"Ru=8.314 //Universal Gas Constant in kJ/kmol-K\n",
"dSm=-Ru*(NO2*log(yO2)+NCO2*log(yCO2)) //Entropy change in kJ/K\n",
"To=298 //Temp. of surroundings in kelvins\n",
"X=To*dSm //energy destuction in the process in kJ\n",
"printf('\n Hence, the exergy destruction in the process is = %.1f MJ. \n',X/10^3);"
   ]
   }
,
{
		   "cell_type": "markdown",
		   "metadata": {},
		   "source": [
			"## Example 13.5: cooling_of_non_ideal_gas_mixture.sce"
		   ]
		  },
  {
"cell_type": "code",
	   "execution_count": null,
	   "metadata": {
	    "collapsed": true
	   },
	   "outputs": [],
"source": [
"//example 5\n",
"//cooling of non ideal gas mixture\n",
"clear\n",
"clc\n",
"disp('We take the cooling section as the system. This is a control volume since mass crosses the system boundary during the process.The critical properties ')\n",
"TcrN2= 126.2 //Critical Pressure of N2in K \n",
"PcrN2=3.39 //Critical Pressure of N2 in MPa \n",
"TcrO2=154.8 //Critical Temp. of O2 in K \n",
"PcrO2=5.08 //Critical Pressure of O2 in MPa \n",
"yN2=0.79 //mole fraction of nitrogen\n",
"yO2=0.21 //mole fraction of O2\n",
"T1=220 //Initial Temp. of air in kelvins\n",
"T2=160//Final Temp. of air in kelvins\n",
"Pm=10 //PRessure in MPa\n",
"Ru=8.314 //Universal Gas constant in kJ/kmol-K\n",
"disp('calculating heat transfer per kmol of air using ideal gas approximation')\n",
"h1N2=6391 //Enthalpy of N2 at T1 in kJ/kmol\n",
"h1O2=6404 //Enthalpy of O2 at T1 in kJ/kmol\n",
"h2O2=4657 //Enthalpy of O2 at T2 in kJ/kmol\n",
"h2N2=4648 //Enthalpy of N2 at T2 in kJ/kmol\n",
"qout=yN2*(h1N2-h2N2)+yO2*(h1O2-h2O2) //Heat Transfer in kJ/kmol\n",
"printf('\n Hence, the heat transfer during the process using the ideal gas approximation is = %.0f kJ/kmol. \n',qout);\n",
"disp('calculating heat transfer per kmol of air using Kays law')\n",
"Tcrm2=yN2*TcrN2+yO2*TcrO2 //critical temp. of pseudopure substance\n",
"Pcrm2=yN2*PcrN2+yO2*PcrO2 //critical pressure of pseudopure substance\n",
"Tr1=T1/Tcrm2 //Reduced Temp. at T1\n",
"Tr2=T2/Tcrm2 //Reduced Temp. at T2\n",
"Zh1m=1.0 //Compresibility factor at T1\n",
"Zh2m=2.6 //Compressibility Factor at T2\n",
"Pr=Pm/Pcrm2 //Reduced Pressure \n",
"h1m=yN2*h1N2+yO2*h1O2 //Enthalpy of the mixture at T1 in kJ/kmol\n",
"h2m=yN2*h2N2+yO2*h2O2 //Enthalpy of the mixture at T2 in kJ/kmol\n",
"qout=(h1m-h2m)-Ru*Tcrm2*(Zh1m-Zh2m)//Heat transfer during the process in kJ/kmol\n",
"printf('\n Hence, the heat transfer during the process using Kays law is = %.0f kJ/kmol. \n',qout);\n",
"disp('calculating heat transfer per kmol of air using Amagats law')\n",
"Zh1N2=0.9 //Compressibility factor of N2 at T1\n",
"Zh2N2=2.4 //Compressibility factor of N2 at T2\n",
"Zh1O2=1.3 //Compressibility factor of O2 at T1\n",
"Zh2O2=4.0 //Compressibility factor of O2 at T2\n",
"dhN2=(h1N2-h2N2)-Ru*TcrN2*(Zh1N2-Zh2N2) //Enthalpy change for N2 in kJ/kmol\n",
"dhO2=(h1O2-h2O2)-Ru*TcrO2*(Zh1O2-Zh2O2) //Enthaloy change for O2 in kJ/kmol\n",
"qout=yN2*dhN2+yO2*dhO2 //kJ/mol //heat transfer during the process in kJ/kmol\n",
"printf('\n Hence, the heat transfer during the process using Amagats law is = %.0f kJ/kmol. \n',qout);"
   ]
   }
,
{
		   "cell_type": "markdown",
		   "metadata": {},
		   "source": [
			"## Example 13.6: obtaining_fresh_water_from_sea_water.sce"
		   ]
		  },
  {
"cell_type": "code",
	   "execution_count": null,
	   "metadata": {
	    "collapsed": true
	   },
	   "outputs": [],
"source": [
"//example 6\n",
"//obtaining fresh water from sea water\n",
"clear\n",
"clc\n",
"Mw=18.0 //molar mass of water kg/kmol\n",
"Ms=58.44 //molar mass of salt kg/kmol\n",
"Rw=0.4615 //gas constant of pure water kJ/kg-K\n",
"mfs=0.0348 //mass fraction of salt\n",
"mfw=1-mfs //mass fraction of water\n",
"Mm=1/((mfs/Ms)+(mfw/Mw)) //molar mass of mixture kg/kmol\n",
"yw=mfw*Mm/Mw //mole fraction of water\n",
"ys=1-yw //mole fraction of salt\n",
"To=288.15 //Temp. of Seawater in kelvins\n",
"Ru=8.314 //Universal Gas constant in kJ/kmol-K\n",
"dm=1028 //density of seawater in kg/m^3\n",
"wminin=-Ru*To*(yw*log(yw)+ys*log(ys)) //minimum work input required to separate 1 kg of seawater completely into pure water and pure salts kJ/kmol\n",
"Wminin=wminin/Mm //minimum work input in kJ/kg seawater\n",
"wminin2=Rw*To*log(1/yw) //minimum work input required to produce 1 kg of fresh water from seawater in kJ/kg fresh water\n",
"Pm=dm*Rw*To*log(1/yw) //the minimum gauge pressure that the seawater must be raised if fresh water is to be obtained by reverse osmosis using semipermeable membranes in kPa\n",
"printf('\n Hence, the mole fraction of water in the seawater is = %.4f. \n',yw);\n",
"printf('\n Hence, the mole fraction of salt in the seawater is = %.2f percentage. \n',ys*100);\n",
"printf('\n Hence, the minimum work input required to separate 1 kg of seawater completely into pure water and pure salts is = %.2f kJ/kg sea water. \n',Wminin);\n",
"printf('\n Hence, the minimum work input required to produce 1 kg of fresh water from seawater kJ/kg fresh water is = %.2f kJ/kg fresh water. \n',wminin2);\n",
"printf('\n Hence, the the minimum gauge pressure that the seawater must be raised if fresh water is to be obtained by reverse osmosis using semipermeable membranes is = %.0f kPa. \n',Pm);"
   ]
   }
],
"metadata": {
		  "kernelspec": {
		   "display_name": "Scilab",
		   "language": "scilab",
		   "name": "scilab"
		  },
		  "language_info": {
		   "file_extension": ".sce",
		   "help_links": [
			{
			 "text": "MetaKernel Magics",
			 "url": "https://github.com/calysto/metakernel/blob/master/metakernel/magics/README.md"
			}
		   ],
		   "mimetype": "text/x-octave",
		   "name": "scilab",
		   "version": "0.7.1"
		  }
		 },
		 "nbformat": 4,
		 "nbformat_minor": 0
}
