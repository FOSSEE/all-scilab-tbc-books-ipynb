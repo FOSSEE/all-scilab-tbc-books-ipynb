{
"cells": [
 {
		   "cell_type": "markdown",
	   "metadata": {},
	   "source": [
       "# Chapter 2: Energy Transfer and General Energy Analysis"
	   ]
	},
{
		   "cell_type": "markdown",
		   "metadata": {},
		   "source": [
			"## Example 2.10: Cooling_of_hot_fluid_in_tank.sce"
		   ]
		  },
  {
"cell_type": "code",
	   "execution_count": null,
	   "metadata": {
	    "collapsed": true
	   },
	   "outputs": [],
"source": [
"//example 10\n",
"// cooling of hot fluid in tank\n",
"clear\n",
"clc\n",
"disp('suppose that there is no change in kinetic and potential energy ')\n",
"u1=800 //initial internal energy in 800kJ\n",
"win=100 //work done by paddle on system in kJ\n",
"qout=500 //loss of energy from fluid\n",
"disp('applying first law of thermodynamics ')\n",
"u2=u1-qout+win //final internal energy in kJ\n",
"printf('\n Hence,final internal energy of the fluid is = %.1f kJ. \n',u2);"
   ]
   }
,
{
		   "cell_type": "markdown",
		   "metadata": {},
		   "source": [
			"## Example 2.11: Acceleration_of_air_by_fan.sce"
		   ]
		  },
  {
"cell_type": "code",
	   "execution_count": null,
	   "metadata": {
	    "collapsed": true
	   },
	   "outputs": [],
"source": [
"//example 11\n",
"// acceleration of air by fan\n",
"clear\n",
"clc\n",
"v=8 //discharge rate of air in m/s\n",
"m=0.25 //mass flow rate in kg/s\n",
"p=m*v^2/2 //actual power consumed in W\n",
"P=20 //claimed power in W\n",
"disp('since,two  powers are not equal,this claim is not reasonable ')"
   ]
   }
,
{
		   "cell_type": "markdown",
		   "metadata": {},
		   "source": [
			"## Example 2.12: Heating_effect_of_a_fan.sce"
		   ]
		  },
  {
"cell_type": "code",
	   "execution_count": null,
	   "metadata": {
	    "collapsed": true
	   },
	   "outputs": [],
"source": [
"//example 12\n",
"//heating effect of a fan\n",
"clear\n",
"clc\n",
"t1=25 //initial temperature of room in C\n",
"p=200 //power consumption of fan in watts\n",
"a=30 //exposed surface area in m^2\n",
"u=6 //in w/m^2\n",
"t2=p/(u*a)+t1 //final temp. of room in C\n",
"printf('\n Hence, the indoor air temperature when steady operating conditions are established is = %.1f C. \n',t2);"
   ]
   }
,
{
		   "cell_type": "markdown",
		   "metadata": {},
		   "source": [
			"## Example 2.13: Annual_lighting_cost_of_a_classroom.sce"
		   ]
		  },
  {
"cell_type": "code",
	   "execution_count": null,
	   "metadata": {
	    "collapsed": true
	   },
	   "outputs": [],
"source": [
"//example 13\n",
"// annual lighting cost of a classroom\n",
"clear\n",
"clc\n",
"p=80 //power consumed by fluoroscent lamp in watt\n",
"n=30 //no. of lamps used\n",
"P=p*n/1000 //lighting power in kW\n",
"t=250*12 //operating hours in a year\n",
"E=P*t //lighting energy/year\n",
"c=E*0.07 //cost of lighting  a classroom for a year in dollars\n",
"printf('\n Hence,annual energy cost of lighting for the classroom is = %.0f $/year. \n',c);"
   ]
   }
,
{
		   "cell_type": "markdown",
		   "metadata": {},
		   "source": [
			"## Example 2.15: Cost_of_cooking_with_electric_and_gas_charges.sce"
		   ]
		  },
  {
"cell_type": "code",
	   "execution_count": null,
	   "metadata": {
	    "collapsed": true
	   },
	   "outputs": [],
"source": [
"//example 15\n",
"//cost of cooking with electric and gas charges\n",
"clear\n",
"clc\n",
"e1=73 //efficiency of open burner for electric units\n",
"e2=38 //efficiency of open burner for gas units\n",
"E1=2 //Electrical energy input in 2kW\n",
"q1=E1*e1/100 //actually utilised electrical energy in kWh\n",
"c=0.09/0.73 //cost of utilised energy per kWh\n",
"q2=q1/(e2/100) //energy input to a gas burner in kW\n",
"c=(0.55/29.3)/(e2/100) //cost of utilised energy of gas burner\n",
"printf('\n Hence,rate of energy consumption by the burner is = %.2f kW. \n',q2);\n",
"printf('\n The cost of utilised energy is = $ %.3f /kWh. \n',c);"
   ]
   }
,
{
		   "cell_type": "markdown",
		   "metadata": {},
		   "source": [
			"## Example 2.16: Performance_of_hydraulic_turbine_generator.sce"
		   ]
		  },
  {
"cell_type": "code",
	   "execution_count": null,
	   "metadata": {
	    "collapsed": true
	   },
	   "outputs": [],
"source": [
"// example 16\n",
"// performance of hydraulic turbine generator\n",
"clear\n",
"clc\n",
"h=50 //depth of lake in metres\n",
"m=5000 // mass flow rate of water in kg/s\n",
"g=9.81 //acc. due to gravity in m/s^2\n",
"disp('change in mechanical energy= ')\n",
"e=g*h/1000 //change in mech. energy in kJ/kg\n",
"E1=e*m //Rate at which mechanical energy is supplied to the turbine in kW\n",
"E2=1862 //electric power generated in kW\n",
"n1=E2/E1 //overall efficiency\n",
"n2=0.95 //efficiency of generator\n",
"n3=n1/n2 //efficiency of turbine\n",
"W=n3*E1 //shaft power output in kW\n",
"printf('\n Hence,overall efficiency of turbine generator is = %.2f. \n',n1);\n",
"printf('\n The mechanical efficiency of the turbine is = %.2f. \n',n3);\n",
"printf('\n The shaft power supplied by the turbine to the generator is =%.0f kW.\n',W)"
   ]
   }
,
{
		   "cell_type": "markdown",
		   "metadata": {},
		   "source": [
			"## Example 2.17: Cost_Savings_Associated_with_High_Efficiency_motors.sce"
		   ]
		  },
  {
"cell_type": "code",
	   "execution_count": null,
	   "metadata": {
	    "collapsed": true
	   },
	   "outputs": [],
"source": [
"//example 17\n",
"//Cost Savings Associated with High-Efficiency motors\n",
"clear\n",
"clc\n",
"n1=89 //efficiency of first motor\n",
"n2=93.2 //efficiency of second motor\n",
"c=0.08 //cost of electricity in $/kWh\n",
"p=60*0.7457 //rated power in kW\n",
"h=3500 //operating hours per year\n",
"e=p*h*(1/(n1/100)-1/(n2/100)) //energy savings\n",
"s=e*c //cost savings\n",
"t=640/s //simple payback period in year\n",
"printf('\n Hence,the amount of energy saved is = %.0f kWh/year. \n',e);\n",
"printf('\n The money saved is =%.0f $/year. \n',s);\n",
"printf('\n The payback period is=%.2f years.\n',t);"
   ]
   }
,
{
		   "cell_type": "markdown",
		   "metadata": {},
		   "source": [
			"## Example 2.18: Reducing_air_pollution_by_geothermal_heating.sce"
		   ]
		  },
  {
"cell_type": "code",
	   "execution_count": null,
	   "metadata": {
	    "collapsed": true
	   },
	   "outputs": [],
"source": [
"//example 18\n",
"//reducing air pollution by geothermal heating\n",
"clear\n",
"clc\n",
"s=18*10^6 //quantity of natural gas that will be saved per year in therms\n",
"nn=0.0047 //quantity of NOx in kg/therm\n",
"nc=6.4 //quantity of CO2 in kg/therm\n",
"sn=nn*s //NOx savings per year in kg/year\n",
"sc=nc*s //CO2 savings per year in kg/year\n",
"printf('\n Hence,geothermal system will save  %.1f *10^4 kg NOx/year. \n',sn/10^4);\n",
"printf('\n and = %.1f *10^8 kg CO2/year. \n',sc/10^8);"
   ]
   }
,
{
		   "cell_type": "markdown",
		   "metadata": {},
		   "source": [
			"## Example 2.19: Heat_transfer_from_a_person.sce"
		   ]
		  },
  {
"cell_type": "code",
	   "execution_count": null,
	   "metadata": {
	    "collapsed": true
	   },
	   "outputs": [],
"source": [
"// example 19\n",
"// heat transfer from a person\n",
"clear\n",
"clc\n",
"T1=20 //room temperature in celsius\n",
"T2=29 //body temperature of person in celsius\n",
"a=1.6 //exposed surface area in m^2\n",
"h=6 //convection heat transfer coefficient in W/m^2*C\n",
"Qc=h*a*(T2-T1) //heat loss due convection in W\n",
"Qr=0.95*5.67*10^-8*a*((T2+273)^4-(T1+273)^4) //heat loss due to radiation in W\n",
"Q=Qc+Qr //net heat loss from the person in W\n",
"printf('\n Hence,the total rate of heat transfer is =%.1f W. \n',Q) "
   ]
   }
,
{
		   "cell_type": "markdown",
		   "metadata": {},
		   "source": [
			"## Example 2.1: General_energy_analysis.sce"
		   ]
		  },
  {
"cell_type": "code",
	   "execution_count": null,
	   "metadata": {
	    "collapsed": true
	   },
	   "outputs": [],
"source": [
"// example 1\n",
"// general energy analysis\n",
"clear\n",
"clc\n",
"d=0.75 //density of gasoline in kg/l\n",
"v=5 //average consumption of gasoline by the car in litres/day\n",
"h=44000 //heating value of gasoline in kJ/kg\n",
"disp('daily consumption of fuel = c = d*v ')\n",
"c=d*v //average consumption of gasoline in kg/day\n",
"e=c*h //daily energy requirement of car in kJ/day\n",
"E=0.1*6.73*10^10 //energy released by complete fussion of 0.1 kg of uranium in kJ\n",
"x=E/e //no. of days for which E amount of energy can meet the energy requirements of car\n",
"printf('\n Hence, the car will require refilling after = %.0f years. \n',x/365);"
   ]
   }
,
{
		   "cell_type": "markdown",
		   "metadata": {},
		   "source": [
			"## Example 2.2: Analysis_of_wind_energy.sce"
		   ]
		  },
  {
"cell_type": "code",
	   "execution_count": null,
	   "metadata": {
	    "collapsed": true
	   },
	   "outputs": [],
"source": [
"//example 2\n",
"//analysis of wind energy\n",
"clear\n",
"clc\n",
"v=8.5 //velocity of wind in m/s\n",
"e=v^2/2 //wind energy per unit mass of air in j/kg\n",
"m=10 //mass of wind to be considered in kg\n",
"E=m*e //energy in joules of wind of mass m \n",
"mf=1154 //mass flow rate in kg/s\n",
"Ef=mf*e //wind energy in W for a mass flow rate of mf\n",
"printf('\n Hence,wind energy per unit mass is = %.1f J/kg. \n',e);\n",
"printf('\n The wind energy for a mass of 10 kg is = %.0f J. \n',E);\n",
"printf('\n The wind energy for flow rate of 1154 kg/s is = %.1f kW. \n',Ef/1000);"
   ]
   }
,
{
		   "cell_type": "markdown",
		   "metadata": {},
		   "source": [
			"## Example 2.7: Power_Transmission_by_the_Shaft_of_a_Car.sce"
		   ]
		  },
  {
"cell_type": "code",
	   "execution_count": null,
	   "metadata": {
	    "collapsed": true
	   },
	   "outputs": [],
"source": [
"// example 7\n",
"// Power Transmission by the Shaft of a Car\n",
"clear\n",
"clc\n",
"t=200 //torque applied in N.m\n",
"rpm=4000 //revolutions per minute of shaft\n",
"n=rpm/60 //revolutions per second of shaft \n",
"w=2*%pi*n*t // shaft power in watts\n",
"printf('\n Hence,power transmitted by the shaft of car is = %.1f kW. \n',w/1000);"
   ]
   }
,
{
		   "cell_type": "markdown",
		   "metadata": {},
		   "source": [
			"## Example 2.8: Power_Needs_of_a_Car_to_Climb_a_Hill.sce"
		   ]
		  },
  {
"cell_type": "code",
	   "execution_count": null,
	   "metadata": {
	    "collapsed": true
	   },
	   "outputs": [],
"source": [
"// example 8\n",
"// Power Needs of a Car to Climb a Hill\n",
"clear\n",
"clc\n",
"m=1200 //mass of car in kg\n",
"v1=90 //velocity of car in km/h\n",
"v2=90*5/18 //velocity of car in m/s\n",
"x=30 //slope of hill in degrees\n",
"g=9.8 //acc. due to gravity in m/s^2\n",
"w=m*g*v2*sin(%pi*30/180) //additional power to be delivered by engine in watts\n",
"printf('\n Hence,additional power to be delivered by engine is = %.0f kW. \n',w/1000);"
   ]
   }
,
{
		   "cell_type": "markdown",
		   "metadata": {},
		   "source": [
			"## Example 2.9: Power_needs_of_a_car_to_accelerate.sce"
		   ]
		  },
  {
"cell_type": "code",
	   "execution_count": null,
	   "metadata": {
	    "collapsed": true
	   },
	   "outputs": [],
"source": [
"// example 9\n",
"// power needs of a car to accelerate \n",
"clear\n",
"clc\n",
"m=900 //mass ofcar in kg\n",
"v1=0 //initial velocity of car\n",
"v2=80*5/18 //final velocity of car in m/s\n",
"t=20 //time in which the car has to reach its desired speed in seconds\n",
"w=m*(v2^2-v1^2)/2 //work required to accomplish this task in joules\n",
"p=w/t // power required in watts\n",
"printf('\n Hence,power required to accelerate is = %.1f kW. \n',p/1000);"
   ]
   }
],
"metadata": {
		  "kernelspec": {
		   "display_name": "Scilab",
		   "language": "scilab",
		   "name": "scilab"
		  },
		  "language_info": {
		   "file_extension": ".sce",
		   "help_links": [
			{
			 "text": "MetaKernel Magics",
			 "url": "https://github.com/calysto/metakernel/blob/master/metakernel/magics/README.md"
			}
		   ],
		   "mimetype": "text/x-octave",
		   "name": "scilab",
		   "version": "0.7.1"
		  }
		 },
		 "nbformat": 4,
		 "nbformat_minor": 0
}
