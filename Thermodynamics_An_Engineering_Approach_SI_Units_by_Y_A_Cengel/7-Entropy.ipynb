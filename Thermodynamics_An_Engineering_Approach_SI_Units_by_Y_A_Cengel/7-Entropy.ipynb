{
"cells": [
 {
		   "cell_type": "markdown",
	   "metadata": {},
	   "source": [
       "# Chapter 7: Entropy"
	   ]
	},
{
		   "cell_type": "markdown",
		   "metadata": {},
		   "source": [
			"## Example 7.10: Isentropic_Compression_of_Air_in_a_Car_Engine.sce"
		   ]
		  },
  {
"cell_type": "code",
	   "execution_count": null,
	   "metadata": {
	    "collapsed": true
	   },
	   "outputs": [],
"source": [
"//ques10\n",
"//Isentropic Compression of Air in a Car Engine\n",
"clear\n",
"clc\n",
"\n",
"//Using equation (T2/T1)=(v1/v2)^(k-1)\n",
"T1=295//initial temp in K\n",
"t=8//v1/v2 ratio\n",
"k=1.391//isentropic ratio\n",
"T2=T1*(t)^(k-1);//final temp in K\n",
"printf('Final temperature = %.1f K \n',T2);\n",
"printf(' Increase in temperature = %.1f K ',T2-T1);\n",
"\n",
""
   ]
   }
,
{
		   "cell_type": "markdown",
		   "metadata": {},
		   "source": [
			"## Example 7.11: Isentropic_Compression_of_an_Ideal_Gas.sce"
		   ]
		  },
  {
"cell_type": "code",
	   "execution_count": null,
	   "metadata": {
	    "collapsed": true
	   },
	   "outputs": [],
"source": [
"//ques11\n",
"//Isentropic Compression of an Ideal Gas\n",
"clear\n",
"clc\n",
"//using the equation P2=P1*(T2/T1)^(k/(k-1)) \n",
"P1=14;//initial pressure in psia\n",
"T2=780;//final temp in R\n",
"T1=510;//initial temp in R\n",
"k=1.667;//isentropic ratio \n",
"P2=P1*(T2/T1)^(k/(k-1));\n",
"printf('Final pressure = %.1f psia',P2);"
   ]
   }
,
{
		   "cell_type": "markdown",
		   "metadata": {},
		   "source": [
			"## Example 7.12: Compressing_a_Substance_in_the_Liquid_versus_Gas_Phases.sce"
		   ]
		  },
  {
"cell_type": "code",
	   "execution_count": null,
	   "metadata": {
	    "collapsed": true
	   },
	   "outputs": [],
"source": [
"//ques12\n",
"//Compressing a Substance in the Liquid versus Gas Phases\n",
"clear\n",
"clc\n",
"// (a)steam as a saturated liquid\n",
"v1=0.001043;//=vf(specific volume of fluids)  @ 100kPa in m^3/kg\n",
"P2=1000;//final pressure in kPa\n",
"P1=100;//initial pressure in kPa\n",
"w=integrate('v1*P^0','P',P1,P2);//work done in kJ/kg\n",
"printf('(a) Work done is = %.2f kJ/kg \n',w);\n",
"\n",
"//(b)saturated vapor at the inlet state\n",
"//state 1\n",
"P1=100;//pressure at state 1 in kPa\n",
"//table A-6\n",
"h1=2675.0;//enthalpy of heat in kJ/kg\n",
"s1=7.3589;//entropy at in kJ/kg.k\n",
"//state 2\n",
"P2=1;//pressure in MPa\n",
"s2=7.3589;//s2=s1 entropy remains same\n",
"h2=3194.5;//table A-6 enthalpy of heat in kJ/kg\n",
"\n",
"w=h2-h1;//work done in kJ/kg\n",
"printf(' (b) Work done = %.2f kJ/kg ',w);"
   ]
   }
,
{
		   "cell_type": "markdown",
		   "metadata": {},
		   "source": [
			"## Example 7.13: Work_Input_for_Various_Compression_Processes.sce"
		   ]
		  },
  {
"cell_type": "code",
	   "execution_count": null,
	   "metadata": {
	    "collapsed": true
	   },
	   "outputs": [],
"source": [
"//ques13\n",
"//Work Input for Various Compression Processes\n",
"clear\n",
"clc\n",
"//(a) Isentropic compression with k=1.4\n",
"k=1.4;//isentropic ratio\n",
"R=0.287;//gas constant for water in kJ/K/mol/kg\n",
"T1=300;//initial temp in K\n",
"P2=900;//final pressure in kPa\n",
"P1=100;//initial pressure in kPa\n",
"w=k*R*T1/(k-1)*((P2/P1)^((k-1)/k)-1);//work done in compression in kJ/kg\n",
"printf('(a) Work done in compression = %.1f kJ/kg \n',w);\n",
"\n",
"//(b)Polytropic compression with k=1.3\n",
"w=k*R*T1/(k-1)*((P2/P1)^((k-1)/k)-1);\n",
"printf(' (b) Work done in compression = %.1f kJ/kg \n',w);\n",
"\n",
"//(c) Isothermal compression\n",
"w=R*T1*log(P2/P1);\n",
"printf(' (c) Work done = %.1f kJ/kg \n',w);\n",
"\n",
"//(d) Ideal two stage compression with intercooling with a polytropic exponent of 1.3\n",
"Px=(P1*P2)^(1/2);//pressure in kPa\n",
"//the total compressor work is twice the compression work for a single stage\n",
"w=2*k*R*T1/(k-1)*((Px/P1)^((k-1)/k)-1);\n",
"printf(' (d) Work done = %.2f kJ/kg \n',w);"
   ]
   }
,
{
		   "cell_type": "markdown",
		   "metadata": {},
		   "source": [
			"## Example 7.14: Isentropic_Efficiency_of_a_Steam_Turbine.sce"
		   ]
		  },
  {
"cell_type": "code",
	   "execution_count": null,
	   "metadata": {
	    "collapsed": true
	   },
	   "outputs": [],
"source": [
"//ques14\n",
"//Isentropic Efficiency of a Steam Turbine\n",
"clear\n",
"clc\n",
"//state 1\n",
"P1=3;//pressure in MPa\n",
"T1=400;//temperature in C\n",
"//from table\n",
"h1=3231.7;//enthalpy of heat in kJ/kg\n",
"s1=6.9235;//enropy in kJ/kg.k\n",
"\n",
"//state 2a\n",
"P2a=50;//pressure in kPa\n",
"T2a=100;//temp in C\n",
"h2a=2682.4;//enthalpy of heat in kJ/kg\n",
"\n",
"//state 2s\n",
"P2s=50;//pressure in kPa\n",
"s2s=6.9235;//s2s=s1 entropy remains same\n",
"//from table\n",
"sf=1.0912;//entropy of fluid state in kJ/kg.k\n",
"sg=7.5931;//entropy of vapor in kJ.kg.k\n",
"//at end,steam exists as a saturated mixture since sf<s2s<sg\n",
"hf=340.54;//enthalpy of heat of fluid state in kJ/kg\n",
"hfg=2304.7;//enthalpy difference of vapor and liquid state in kJ/kg\n",
"x2s=(s2s-sf)/(sg-sf);//x factor\n",
"h2s=hf+x2s*(hfg);//enthalpy of heat in kJ/kg\n",
"//using the equation 7-61 in book we get\n",
"n=(h1-h2a)/(h1-h2s);\n",
"printf('(a) Isentropic efficiency = %.1f percent  \n',n*100);\n",
"\n",
"Wout=2000//output power in kJ/s\n",
"ms=Wout/(h1-h2a);//mass flow rate in kg/s\n",
"printf(' (b) The mass flow rate of steam = %.2f kg/s ',ms);//through this turbine from the energy balance for steady-flow systems"
   ]
   }
,
{
		   "cell_type": "markdown",
		   "metadata": {},
		   "source": [
			"## Example 7.15: Effect_of_Efficiency_on_Compressor_Power_Input.sce"
		   ]
		  },
  {
"cell_type": "code",
	   "execution_count": null,
	   "metadata": {
	    "collapsed": true
	   },
	   "outputs": [],
"source": [
"//ques15\n",
"//Effect of Efficiency on Compressor Power Input\n",
"clear\n",
"clc\n",
"T1=285;//initial temperature in K\n",
"h1=285.14;//table A-17 initial heat of enthalpy in kJ/kg\n",
"Pr1=1.1584;//reduced pressure\n",
"P2=800;//final pressure in kPa\n",
"P1=100;//initial pressure in kPa\n",
"Pr2=Pr1*(P2/P1);\n",
"//from table corresponding to Pr2\n",
"h2s=517.05;//enthalpy of heat in kJ/kg\n",
"n=0.80;//efficiency\n",
"//using the formula for efficiency')\n",
"h2a=(h2s-h1)/n+h1;//enthalpy of heat in kJ/kg\n",
"T2a=569.5; //final temp in K from table\n",
"printf('(a) Temperature T2a = %.1f K \n',T2a);\n",
"ms=0.2;//mass flow rate in kg/s\n",
"w=ms*(h2a-h1);//work done in kJ/kg \n",
"printf(' (b) Required power input to compressor as determined from the energy balance equation is = %.2f kJ/kg \n',w);"
   ]
   }
,
{
		   "cell_type": "markdown",
		   "metadata": {},
		   "source": [
			"## Example 7.16: Effect_of_Efficiency_on_Nozzle_Exit_Velocity.sce"
		   ]
		  },
  {
"cell_type": "code",
	   "execution_count": null,
	   "metadata": {
	    "collapsed": true
	   },
	   "outputs": [],
"source": [
"//ques16\n",
"//Effect of Efficiency on Nozzle Exit Velocity\n",
"clear\n",
"clc\n",
"//The exit velocity of the air will be a maximum when the process in the nozzle involves no irreversibilities\n",
"T1=950;//initial temp in K\n",
"P2s=80;//pressure in kPa\n",
"P1=200;//initial pressure in kPa\n",
"k=1.354;//isentropic ratio\n",
"T2s=T1*(P2s/P1)^(1-1/k);//temp in K\n",
"//using Ein = Eout we can get V2s\n",
"Cpavg=1.099;//avg specific heat at constant pressure in kJ/kg.k\n",
"V2s=sqrt(2000*Cpavg*(T1-T2s));//velocity in m/s\n",
"printf('(a) The maximum possible exit velocity = %.2f m/s \n',V2s);\n",
"\n",
"//(b) The actual exit temperature of the air is higher than the isentropic exit temperature evaluated above\n",
"n=0.92;//efficiency\n",
"T2a=T1-n*(T1-T2s);//temp in K\n",
"printf(' (b) The exit temperature = %.0f K \n',T2a);\n",
"\n",
"//(c) The actual exit velocity of air can be determined from the definition of isentropic efficiency of a nozzle\n",
"V2a=sqrt(n*V2s^2);//velocity in m/s\n",
"printf(' (c) Exit velocity of air = %.0f m/s ',V2a);\n",
"\n",
" "
   ]
   }
,
{
		   "cell_type": "markdown",
		   "metadata": {},
		   "source": [
			"## Example 7.17: Entropy_Generation_in_a_Wall.sce"
		   ]
		  },
  {
"cell_type": "code",
	   "execution_count": null,
	   "metadata": {
	    "collapsed": true
	   },
	   "outputs": [],
"source": [
"//ques17\n",
"//Entropy Generation in a Wall\n",
"clear\n",
"clc\n",
"//Entropy change of wall is 0 during process since the state and thus the entropy of the wall do not change anywhere\n",
"Qout=1035;//W\n",
"Qin=1035;//W\n",
"Tout=278;//K\n",
"Tin=293;//K\n",
"Sgen=Qout/Tout-Qin/Tin;//in W/K\n",
"printf('Entropy of generation = %.3f W/K',Sgen);\n",
"//To determine rate of total entropy generation, we extend the system to include the regions on both sides of the wall that experience a temperature change. Then one side of the system boundary becomes room temperature while the other side becomes the temperature of the outdoors\n",
"Tout=273;//K\n",
"Tin=300;//K\n",
"Sgen=Qout/Tout-Qin/Tin;//in W/K\n",
"printf('\n Entropy of generation = %.3f W/K',Sgen);"
   ]
   }
,
{
		   "cell_type": "markdown",
		   "metadata": {},
		   "source": [
			"## Example 7.18: Entropy_Generation_during_a_Throttling_Process.sce"
		   ]
		  },
  {
"cell_type": "code",
	   "execution_count": null,
	   "metadata": {
	    "collapsed": true
	   },
	   "outputs": [],
"source": [
"//ques18\n",
"//Entropy Generation during a Throttling Process\n",
"clear\n",
"clc\n",
"//state 1\n",
"P1=7;//MPa\n",
"T1=450;//C\n",
"//from table\n",
"h1=3288.3;//kJ/kg\n",
"s1=6.6353;//kJ/kg.K\n",
"\n",
"//state 2\n",
"P2=3;//MPa\n",
"h2=3288.3;//h2=h1\n",
"s2=7.0046;//kJ/kg.K\n",
"sgen=(s2-s1);\n",
"printf('Entropy of generation per unit mass = %.4f kJ/kg.K',sgen);"
   ]
   }
,
{
		   "cell_type": "markdown",
		   "metadata": {},
		   "source": [
			"## Example 7.19: Entropy_Generated_when_a_Hot_Block_Is_Dropped_in_a_Lake.sce"
		   ]
		  },
  {
"cell_type": "code",
	   "execution_count": null,
	   "metadata": {
	    "collapsed": true
	   },
	   "outputs": [],
"source": [
"//ques19\n",
"//Entropy Generated when a Hot Block Is Dropped in a Lake\n",
"clear\n",
"clc\n",
"//(a) The entropy change of the iron block\n",
"m=50;//mass in kg\n",
"Cavg=0.45;//average specific heat in kJ/kg\n",
"T2=285;//final temp in K\n",
"T1=500;//initial temp in K\n",
"Siron=m*Cavg*log(T2/T1);\n",
"printf('(a) Entropy change of iron block = %.2f kJ/K \n',Siron);\n",
"\n",
"//(b)\n",
"//The temperature of the lake water remains constant during this process at 285 K\n",
"Qout=m*Cavg*(T1-T2);//heat transfer from iron to lake in kJ\n",
"S=Qout/T2;//Entropy change of lake in kJ/K\n",
"printf(' (b) Entropy change of the lake = %.2f kJ/K \n',S);\n",
"\n",
"//(c)\n",
"//The entropy generated during this process is determined by applying an entropy balance on the system\n",
"Tb=285;//temp of block in K\n",
"Sgen=Qout/Tb+Siron;//Entropy generation in kJ/K\n",
"printf(' (c) Entropy generated = %.2f kJ/K \n',Sgen);"
   ]
   }
,
{
		   "cell_type": "markdown",
		   "metadata": {},
		   "source": [
			"## Example 7.1: Entropy_Change_during_an_Isothermal_Process.sce"
		   ]
		  },
  {
"cell_type": "code",
	   "execution_count": null,
	   "metadata": {
	    "collapsed": true
	   },
	   "outputs": [],
"source": [
"//ques1\n",
"//Entropy Change during an Isothermal Process\n",
"clear\n",
"clc\n",
"//The system undergoes an internally reversible, isothermal process, and thus its entropy change can be determined directly from Eqns\n",
"Q=750//heat in kJ\n",
"Tsys=300//temperature of system in K\n",
"dS=Q/Tsys;//entropy change of process in kJ/K\n",
"printf('Change in entropy = %.2f kJ/K',dS);"
   ]
   }
,
{
		   "cell_type": "markdown",
		   "metadata": {},
		   "source": [
			"## Example 7.21: Entropy_Generation_Associated_with_Heat_Transfer.sce"
		   ]
		  },
  {
"cell_type": "code",
	   "execution_count": null,
	   "metadata": {
	    "collapsed": true
	   },
	   "outputs": [],
"source": [
"//ques21\n",
"//Entropy Generation Associated with Heat Transfer\n",
"clear\n",
"clc\n",
"//(a) Water undergoes an internally reversible isothermal process\n",
"Q=-600;//kJ\n",
"Tsys=100+273;//K\n",
"Ssys=Q/Tsys;//kJ/K\n",
"printf('(a) Entropy of system = %.2f kJ/K \n',Ssys);\n",
"\n",
"//(b) The entropy generation is entirely due to irreversible heat transfer through a finite temperature difference\n",
"Qout=600;//heat output in kJ\n",
"Tb=25+273//Temperature in K\n",
"Sgen=Ssys+Qout/Tb;//Entropy generation in kJ/K\n",
"printf(' (b) Entropy of generation = %.2f kJ/K',Sgen);"
   ]
   }
,
{
		   "cell_type": "markdown",
		   "metadata": {},
		   "source": [
			"## Example 7.22: Energy_and_Cost_Savings_by_Fixing_Air_Leaks.sce"
		   ]
		  },
  {
"cell_type": "code",
	   "execution_count": null,
	   "metadata": {
	    "collapsed": true
	   },
	   "outputs": [],
"source": [
"//ques22\n",
"//Energy and Cost Savings by Fixing Air Leaks\n",
"clear\n",
"clc\n",
"//The work needed to compress a unit mass of air at 20�C from the atmospheric pressure of 101 kPa to 700+101=801 kPa is\n",
"R=0.287;//gas constant for water\n",
"P2=801;//final pressure in kPa\n",
"P1=101;//initial pressure in kPa\n",
"n=1.4;\n",
"nc=0.8;\n",
"T1=293;//initial temperature in K\n",
"w=n*R*T1/(nc*(n-1))*((P2/P1)^(1-1/n)-1);//work done in kJ/kg\n",
"D=3*10^-3;//diameter in metre\n",
"A=%pi*D^2/4;//area in m^2\n",
"//Line conditions are 297 K and 801 kPa, the mass flow rate of the air leaking through the hole is determined as\n",
"Cdis=0.65;\n",
"k=1.4;//k=n\n",
"R=0.287;//gas constant for water\n",
"Tline= 297;//temperature of line in K\n",
"Pline=801;//pressure of line=P2\n",
"ms=Cdis*(2/(k+1))^(1/(k-1))*Pline/(R*Tline)*A*sqrt(1000*k*R*Tline*2/(k+1));//mass flow in kg/s\n",
"pw=ms*w//power wasted in kW\n",
"Esaving=pw*4200/0.92//in kWh/yr Energy saving=Power saved*operating hr/efficiency of motor \n",
"printf('Energy saving = %.0f kWh/yr \n',Esaving);\n",
"Csaving=Esaving *0.078;//Cost saving in $/yr = Energy saving * unit cost \n",
"printf(' Cost saving = $ %.0f/yr \n',Csaving);"
   ]
   }
,
{
		   "cell_type": "markdown",
		   "metadata": {},
		   "source": [
			"## Example 7.23: Reducing_the_Pressure_Setting_to_Reduce_Cost.sce"
		   ]
		  },
  {
"cell_type": "code",
	   "execution_count": null,
	   "metadata": {
	    "collapsed": true
	   },
	   "outputs": [],
"source": [
"//ques23\n",
"//Reducing the Pressure Setting to Reduce Cost\n",
"clear\n",
"clc\n",
"Preduced=885.6;//reduced pressure\n",
"P1=85.6;//initial pressure in kPa\n",
"P2=985.6;//final pressure in kPa\n",
"n=1.4;\n",
"f=1-((Preduced/P1)^((n-1)/n)-1)/((P2/P1)^(1-1/n)-1);//The fraction of energy saved as a result of reducing the pressure setting\n",
"Cc=12000;//current cost in $/yr\n",
"Csaving=Cc*f;\n",
"printf('Cost saving = $%.0f/yr \n',Csaving);\n",
" "
   ]
   }
,
{
		   "cell_type": "markdown",
		   "metadata": {},
		   "source": [
			"## Example 7.2: Entropy_Generation_during_Heat_Transfer_Processes.sce"
		   ]
		  },
  {
"cell_type": "code",
	   "execution_count": null,
	   "metadata": {
	    "collapsed": true
	   },
	   "outputs": [],
"source": [
"//ques2\n",
"//Entropy Generation during Heat Transfer Processes\n",
"clear\n",
"clc\n",
"//(a)Sink at 500K\n",
"Qsource=-2000//heat of source in kJ\n",
"Qsink=2000//heat of sink in kJ\n",
"Tsource=800//temperature of source in K\n",
"Tsink=500//temperature of sink in K\n",
"Ssource=Qsource/Tsource//entropy of source in kJ/K\n",
"Ssink=Qsink/Tsink//entropy of surce in kJ/K\n",
"Sgen=Ssource+Ssink;//entropy of generation of the process in kJ/K\n",
"printf(' (a) Enthalpy of generation = %.1f kJ/K \n', Sgen);\n",
"\n",
"//(b) for sink of T=750 K\n",
"Qsource=-2000//heat of source in kJ\n",
"Qsink=2000//heat of sink in kJ\n",
"Tsource=800//temperature of source in K\n",
"Tsink=750//temperature of sink in K\n",
"Ssource=Qsource/Tsource//entropy of source in kJ/K\n",
"Ssink=Qsink/Tsink//temperature of sink in kJ/K\n",
"Sgen=Ssource+Ssink;//entropy of generation of system in kJ/K\n",
"printf('  (b) Enthalpy of generation = %.1f kJ/K',Sgen);"
   ]
   }
,
{
		   "cell_type": "markdown",
		   "metadata": {},
		   "source": [
			"## Example 7.3: Entropy_Change_of_a_Substance_in_a_Tank.sce"
		   ]
		  },
  {
"cell_type": "code",
	   "execution_count": null,
	   "metadata": {
	    "collapsed": true
	   },
	   "outputs": [],
"source": [
"//ques3\n",
"//Entropy Change of a Substance in a Tank\n",
"clear\n",
"clc\n",
"//specific volume remains constant during this process\n",
"\n",
"//state 1\n",
"P1=140//initial pressure in kPa\n",
"T1=20 //initial temperature in C\n",
"s1=1.0624//entropy in kJ/Kg.K from table\n",
"v1=0.16544//specific volume in m^3/Kg\n",
"\n",
"//state 2\n",
"P2=100//pressure in kPa\n",
"v2=0.16544//specific volume remains same ie v2=v1\n",
"\n",
"//from table\n",
"vf=0.0007259//specific volume of saturated water in m^3/kg\n",
"vg=0.19254//specific volume of saturated vapor in m^3/kg\n",
"\n",
"//Final state-saturated liquid�vapor mixture\n",
"x2=(v2-vf)/(vg-vf);//x-factor\n",
"sf=0.07188//entropy of saturated water in kJ/Kg.K\n",
"sfg=0.87995//entropy change in kJ/kg.K\n",
"s2=sf+x2*sfg;//entropy at state 2 in kJ/kg.K\n",
"m=5//mass in Kg\n",
"S=m*(s2-s1);//entropy change in process in kJ\n",
"printf('Entropy change = %.3f kJ',S);\n",
"\n",
" "
   ]
   }
,
{
		   "cell_type": "markdown",
		   "metadata": {},
		   "source": [
			"## Example 7.4: Entropy_Change_during_a_Constant_Pressure_Process.sce"
		   ]
		  },
  {
"cell_type": "code",
	   "execution_count": null,
	   "metadata": {
	    "collapsed": true
	   },
	   "outputs": [],
"source": [
"//ques4\n",
"//Entropy Change during a Constant-Pressure Process\n",
"clear\n",
"clc\n",
"//approximating the compressed liquid as a saturated liquid\n",
"\n",
"//state 1\n",
"P1=20//pressure in psia\n",
"T1=70//temperature in F\n",
"s1=0.07459//entropy ie sf @ 70F in Btu/lbm.R\n",
"h1=38.08//heat of system in Btu/lbm hf@ 70 F\n",
"\n",
"//state 2\n",
"P2=20//pressure in psia\n",
"//using Qin=m*(h2-h1)\n",
"Qin=3450//input heat in Btu\n",
"m=3//mass in lbm\n",
"h2=Qin/m+h1//heat of system in Btu/lbm\n",
"s2=1.7761//entropy in Btu/lbm/R from table A-6E\n",
"\n",
"S=m*(s2-s1);//change in entropy of system \n",
"printf('Entropy change of water during the process = %.3f Btu/R',S);"
   ]
   }
,
{
		   "cell_type": "markdown",
		   "metadata": {},
		   "source": [
			"## Example 7.5: Isentropic_Expansion_of_Steam_in_a_Turbine.sce"
		   ]
		  },
  {
"cell_type": "code",
	   "execution_count": null,
	   "metadata": {
	    "collapsed": true
	   },
	   "outputs": [],
"source": [
"//ques5\n",
"//Isentropic Expansion of Steam in a Turbine\n",
"clear\n",
"clc\n",
"//state 1\n",
"P1=5//pressure in MPa\n",
"T1=450//temperature in C\n",
"h1=3317.2//heat of system in kJ/kg from table\n",
"s1=6.8210//entropy of system in kJ/kg.K from table\n",
"\n",
"//state 2\n",
"P2=1.4//pressure in MPa\n",
"s2=6.8210//entropy of  system remains same ie s2=s1\n",
"h2=2967.4//heat of system in kJ/Kg from table\n",
"\n",
"w=h1-h2;//work output of turbine in kJ/kg\n",
"\n",
"printf('The work output of the turbine per unit mass is = %.1f kJ/kg',w);"
   ]
   }
,
{
		   "cell_type": "markdown",
		   "metadata": {},
		   "source": [
			"## Example 7.7: Effect_of_Density_of_a_Liquid_on_Entropy.sce"
		   ]
		  },
  {
"cell_type": "code",
	   "execution_count": null,
	   "metadata": {
	    "collapsed": true
	   },
	   "outputs": [],
"source": [
"//ques7\n",
"//Effect of Density of a Liquid on Entropy\n",
"clear\n",
"clc\n",
"\n",
"//state 1\n",
"P1=1//pressure in MPa\n",
"T1=110//temperature in K\n",
"s1=4.875//entropy in kJ/Kg.K from table\n",
"Cp1=3.471//specific heat at constant pressure in kJ/Kg.K from table\n",
"\n",
"//state 2\n",
"P2=5//pressure in MPa\n",
"T2=120//temperature in K\n",
"s2=5.145//entropy in kJ/Kg.K\n",
"Cp2=3.486//specific heat at constant pressure in kJ/Kg.K\n",
"\n",
"s=s2-s1;//entropy change in kJ/kg.K\n",
"printf('(a) Change in entropy per unit mass = %.3f kJ/kg.K \n',s);\n",
"\n",
"//(b) Approximating liquid methane as an incompressible substance\n",
"c=(Cp1+Cp2)/2;//average specific heat \n",
"s=c*log(T2/T1);//entropy change in kJ/Kg\n",
"printf(' (b) Entropy change per unit mass = %.3f kJ/kg.K',s);"
   ]
   }
,
{
		   "cell_type": "markdown",
		   "metadata": {},
		   "source": [
			"## Example 7.8: Economics_of_Replacing_a_Valve_by_a_Turbine.sce"
		   ]
		  },
  {
"cell_type": "code",
	   "execution_count": null,
	   "metadata": {
	    "collapsed": true
	   },
	   "outputs": [],
"source": [
"//ques8\n",
"//Economics of Replacing a Valve by a Turbine\n",
"clear\n",
"clc\n",
"\n",
"//state 1\n",
"P1=5//pressure in MPa\n",
"T1=115//temperature in K\n",
"//from table\n",
"h1=232.3//heat in kJ/kg\n",
"s1=4.9945//entropy in kJ/kg.K\n",
"d1=422.15//density\n",
"\n",
"//state 2\n",
"P2=1//pressure in MPa\n",
"s2=4.9945//entropy s2=s1\n",
"h2=222.8//heat in kJ/kg from table\n",
"Vs=0.280//volume flow rate in m^3\n",
"ms=d1*Vs//mass per second in Kg/sec\n",
"// Ein=Eout so Wsout=ms*(h1-h2)\n",
"Ws=ms*(h1-h2);//power output of turbine in kJ/sec\n",
"printf('The power output of the turbine = %.0f kW \n',Ws);\n",
"APP=Ws*8760//kWh/yr annual power production\n",
"APS=APP*0.075//$/kWh Annual power savings\n",
"printf(' Annual power savings = $ %.0f/yr ',APS);\n",
""
   ]
   }
,
{
		   "cell_type": "markdown",
		   "metadata": {},
		   "source": [
			"## Example 7.9: Entropy_Change_of_an_Ideal_Gas.sce"
		   ]
		  },
  {
"cell_type": "code",
	   "execution_count": null,
	   "metadata": {
	    "collapsed": true
	   },
	   "outputs": [],
"source": [
"//ques9\n",
"//Entropy Change of an Ideal Gas\n",
"clear\n",
"clc\n",
"//(a) From table (Table A�17)\n",
"s2=1.79783;//entropy of substance a state 2 in kJ/Kg.K  \n",
"s1=1.66802;//entropy of state 2 in kJ/kg.k\n",
"R=0.287;//gas constant for water\n",
"P2=600//final pressure in kPa\n",
"P1=100//initial pressure in kPa\n",
"dS=s2-s1-R*log(P2/P1);//change in entropy in kJ/kg.k\n",
"printf('(a) s2-s1 = %.4f kJ/Kg.K \n',dS);\n",
"\n",
"//(b) by using a c value at the average temperature 37 C \n",
"Cpavg=1.006//avg specific heat at const pressure in kJ/kg.K\n",
"T2=330//final temp in K\n",
"T1=290//inial temp in K\n",
"dS=Cpavg*log(T2/T1)-R*log(P2/P1);//kJ/kg.k\n",
"printf(' (b) Entropy change = %.4f kJ/kg.K',dS);\n",
""
   ]
   }
],
"metadata": {
		  "kernelspec": {
		   "display_name": "Scilab",
		   "language": "scilab",
		   "name": "scilab"
		  },
		  "language_info": {
		   "file_extension": ".sce",
		   "help_links": [
			{
			 "text": "MetaKernel Magics",
			 "url": "https://github.com/calysto/metakernel/blob/master/metakernel/magics/README.md"
			}
		   ],
		   "mimetype": "text/x-octave",
		   "name": "scilab",
		   "version": "0.7.1"
		  }
		 },
		 "nbformat": 4,
		 "nbformat_minor": 0
}
