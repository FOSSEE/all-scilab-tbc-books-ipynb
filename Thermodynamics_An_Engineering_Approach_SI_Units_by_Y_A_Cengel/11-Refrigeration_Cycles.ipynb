{
"cells": [
 {
		   "cell_type": "markdown",
	   "metadata": {},
	   "source": [
       "# Chapter 11: Refrigeration Cycles"
	   ]
	},
{
		   "cell_type": "markdown",
		   "metadata": {},
		   "source": [
			"## Example 11.2: The_Actual_Vapor_Compression_Refrigeration_Cycle.sce"
		   ]
		  },
  {
"cell_type": "code",
	   "execution_count": null,
	   "metadata": {
	    "collapsed": true
	   },
	   "outputs": [],
"source": [
"//ques2\n",
"//The Actual Vapor-Compression Refrigeration Cycle\n",
"clear\n",
"clc\n",
"//state 1 \n",
"P1=0.14;//Pressure in MPa\n",
"T1=-10;//Temperature in C\n",
"h1=246.36;//enthalpy of heat in kJ/kg\n",
"//state 2\n",
"P2=0.8;//Pressure in MPa\n",
"T2=50;//Temperature in C\n",
"h2=286.69;//Enthalpy of heat in kJ/kg\n",
"//state 3\n",
"P3=0.72;//Pressure in MPa\n",
"T3=26;//Temperature in C\n",
"h3=87.83;//Enthalpy in kJ/kg\n",
"\n",
"h4=h3;//throttling\n",
"ms=0.05;//mass flow rate in kg/s\n",
"Qls=ms*(h1-h4);//heat removal in kW \n",
"Wins=ms*(h2-h1);//Power in kW\n",
"printf('(a) Rate of heat removal = %.2f kW \n',Qls);\n",
"printf('     Power = %.2f kW \n',Wins);\n",
"\n",
"//(b)The isentropic efficiency of the compressor is determined as\n",
"h2s=284.21;\n",
"nc=(h2s-h1)/(h2-h1);\n",
"printf(' (b) Isentropic efficiency = %.3f \n',nc);\n",
"COPr=Qls/Wins;\n",
"printf(' (c) Coefficient of performance of the refrigerator = %.1f \n',COPr);"
   ]
   }
,
{
		   "cell_type": "markdown",
		   "metadata": {},
		   "source": [
			"## Example 11.4: A_Two_Stage_Refrigeration_Cycle_with_a_Flash_Chamber.sce"
		   ]
		  },
  {
"cell_type": "code",
	   "execution_count": null,
	   "metadata": {
	    "collapsed": true
	   },
	   "outputs": [],
"source": [
"//ques4\n",
"//A Two-Stage Refrigeration Cycle with a Flash Chamber\n",
"clear\n",
"clc\n",
"h6=95.47;//Enthalpy at state 6 in kJ/kg\n",
"hf=55.16;//Enthalpy of lquid water in kJ/kg\n",
"hfg=196.71;//difference in enthalpy of water and vapor in kJ/kg\n",
"x6=(h6-hf)/hfg;\n",
"printf('(a) Fraction of the refrigerant that evaporates = %.4f \n',x6);\n",
"h1=239.16;//enthalpy at state 1 in kJ/kg\n",
"h8=55.16;//Enthalpy at state 8 in kJ/kg\n",
"Ql=(1-x6)*(h1-h8);//heat removal in kJ/kg\n",
"printf(' (b) Amount of heat removed from refrigerant = %.1f kJ/kg \n',Ql);\n",
"//The enthalpy at state 9 is determined from an energy balance on mixing chamber\n",
"//Ein=Eout ie h9=x6*h3+(1-x6)*h2\n",
"h3=251.88;//Enthalpy at state 3 n kJ/kg\n",
"h2=255.93;//Enthalpy at state 2 n kJ/kg\n",
"h9=x6*h3+(1-x6)*h2;//Enthalpy at state 9 n kJ/kg\n",
"h4=274.48;//enthalpy at state 4 in kJ/kg\n",
"Win=(1-x6)*(h2-h1)+1*(h4-h9);//work input in kJ/kg\n",
"printf('      Work input = %.2f kJ/kg \n',Win);\n",
"COPr=Ql/Win;\n",
"printf(' (c) Coefficient of performance = %.2f ',COPr);"
   ]
   }
,
{
		   "cell_type": "markdown",
		   "metadata": {},
		   "source": [
			"## Example 11.5: The_Simple_Ideal_Gas_Refrigeration_Cycle.sce"
		   ]
		  },
  {
"cell_type": "code",
	   "execution_count": null,
	   "metadata": {
	    "collapsed": true
	   },
	   "outputs": [],
"source": [
"//ques5\n",
"//The Simple Ideal Gas Refrigeration Cycle\n",
"clear\n",
"clc\n",
"//(a) The maximum and minimum temperatures in the cycle are determined from the isentropic relations of ideal gases for the compression and expansion processes. From Table A�17E\n",
"//state 1\n",
"T1=460;//R\n",
"h1=109.90;//Btu/lbm\n",
"Pr1=0.7913;//reduced pressure\n",
"r=4;\n",
"//state 2\n",
"Pr2=r*Pr1;//r=P2/P1=4\n",
"//from table\n",
"h2=163.5;//Btu/lbm\n",
"T2=683;//R\n",
"printf('(a) Temperature T2 = %.0f R \n',T2);\n",
"//state 3\n",
"T3=540;//R\n",
"h3=129.06;//Btu/lbm from table\n",
"Pr3=1.3860;//reduced pressure\n",
"//state 4\n",
"Pr4=1/r*Pr3;//1/r = P4/P3\n",
"//from table\n",
"h4=86.7;//Btu/lbm\n",
"T4=363;//R\n",
"printf('     Temperature T4 = %.0f R \n',T4);\n",
"Ql=h1-h4;//Btu/lbm\n",
"Wturbout=h3-h4;//work output by turbine in kJ/kg\n",
"Wcompin=h2-h1;//work input by compressor in kJ/kg\n",
"Wnetin=Wcompin-Wturbout;//net work in kJ/kg\n",
"COPr=Ql/Wnetin;\n",
"printf(' (b) Coefficient of Performance = %.2f \n',COPr);\n",
"ms=0.1;//mass flow in lbm/s\n",
"Qrefs=ms*Ql;\n",
"printf(' (c) Rate of refrigeration = %.2f Bu/sec \n',Qrefs);"
   ]
   }
,
{
		   "cell_type": "markdown",
		   "metadata": {},
		   "source": [
			"## Example 11.6: Cooling_of_a_Canned_Drink_by_a_Thermoelectric_Refrigerator.sce"
		   ]
		  },
  {
"cell_type": "code",
	   "execution_count": null,
	   "metadata": {
	    "collapsed": true
	   },
	   "outputs": [],
"source": [
"//ex6\n",
"//Cooling of a Canned Drink by a Thermoelectric Refrigerator\n",
"clear\n",
"clc\n",
"d=1;//density in kg/L\n",
"V=0.350;//volume in L\n",
"m=d*V;//mass in Kg\n",
"c=4.18;//specific heat in kJ/kg.C\n",
"T2=20;//Temperature in C\n",
"T1=4;//Temperature in C\n",
"Qcooling=m*c*(T2-T1);//heat of cooling in kJ\n",
"\n",
"t=30*60;//sec\n",
"Qcoolings=Qcooling/t;//rate of cooling in kW\n",
"COPr=0.10;\n",
"Wins=Qcoolings/COPr;\n",
"printf('Power = %.0f W',Wins*1000);\n",
""
   ]
   }
,
{
		   "cell_type": "markdown",
		   "metadata": {},
		   "source": [
			"## Example 17.10: Estimation_of_the_Mach_Number_from_Mach_Lines.sce"
		   ]
		  },
  {
"cell_type": "code",
	   "execution_count": null,
	   "metadata": {
	    "collapsed": true
	   },
	   "outputs": [],
"source": [
"//ques10\n",
"//Estimation of the Mach Number from Mach Lines\n",
"clear\n",
"clc\n",
"u=19;//angle of mach lines in degree\n",
"Ma1=1/sin(u/180*%pi);\n",
"printf('Mach number = %.2f ',Ma1);"
   ]
   }
],
"metadata": {
		  "kernelspec": {
		   "display_name": "Scilab",
		   "language": "scilab",
		   "name": "scilab"
		  },
		  "language_info": {
		   "file_extension": ".sce",
		   "help_links": [
			{
			 "text": "MetaKernel Magics",
			 "url": "https://github.com/calysto/metakernel/blob/master/metakernel/magics/README.md"
			}
		   ],
		   "mimetype": "text/x-octave",
		   "name": "scilab",
		   "version": "0.7.1"
		  }
		 },
		 "nbformat": 4,
		 "nbformat_minor": 0
}
