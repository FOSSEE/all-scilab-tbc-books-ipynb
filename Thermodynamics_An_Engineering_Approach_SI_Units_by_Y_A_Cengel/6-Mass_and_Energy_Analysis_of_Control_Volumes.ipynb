{
"cells": [
 {
		   "cell_type": "markdown",
	   "metadata": {},
	   "source": [
       "# Chapter 6: Mass and Energy Analysis of Control Volumes"
	   ]
	},
{
		   "cell_type": "markdown",
		   "metadata": {},
		   "source": [
			"## Example 6.1: Net_Power_Production_of_a_Heat_Engine.sce"
		   ]
		  },
  {
"cell_type": "code",
	   "execution_count": null,
	   "metadata": {
	    "collapsed": true
	   },
	   "outputs": [],
"source": [
"//ques1\n",
"//Net Power Production of a Heat Engine\n",
"clear\n",
"clc\n",
"Qh=80;//heat of source in MW\n",
"Ql=50;//heat of sink in MW\n",
"W=Qh-Ql;//Output power in MW\n",
"printf('The net power output of this heat engine is = %.0f MW \n',W);\n",
"n=W/Qh;//thermal efficiency =net work/heat of source\n",
"printf(' Thermal Efficiency = %.3f \n',n);"
   ]
   }
,
{
		   "cell_type": "markdown",
		   "metadata": {},
		   "source": [
			"## Example 6.2: Fuel_Consumption_Rate_of_a_Car.sce"
		   ]
		  },
  {
"cell_type": "code",
	   "execution_count": null,
	   "metadata": {
	    "collapsed": true
	   },
	   "outputs": [],
"source": [
"//ques2\n",
"//Fuel Consumption Rate of a Car\n",
"clear\n",
"clc\n",
"W=65;//power of car engine in hp\n",
"n=0.24;//efficiency of car engine\n",
"Qh=W/n*2545;//heat of reservoir in Btu/h\n",
"r=19000;//output power required in Btu/lbm\n",
"m=Qh/r;//rate of burning of fuel required , in lbm/hour\n",
"printf('To supply energy at this rate, the engine must burn fuel at a rate of = %.1f lbm/h',m);"
   ]
   }
,
{
		   "cell_type": "markdown",
		   "metadata": {},
		   "source": [
			"## Example 6.3: Heat_Rejection_by_a_Refrigerator.sce"
		   ]
		  },
  {
"cell_type": "code",
	   "execution_count": null,
	   "metadata": {
	    "collapsed": true
	   },
	   "outputs": [],
"source": [
"//ques3\n",
"//Heat Rejection by a Refrigerator\n",
"clear\n",
"clc\n",
"//(a)\n",
"Ql=6;//heat of sink in kJ/s\n",
"W=2;//work done on refrigerator in kW\n",
"COPr=Ql/W;//coefficient of performance of refrigerator\n",
"printf(' (a) The coefficient of performance of the refrigerator is = %.0f \n',COPr);\n",
"\n",
"//(b)\n",
"Qh=Ql+W;//heat of reservoir in kJ/s\n",
"printf('  (b)The rate at which heat is rejected to the room that houses the refrigerator = %.0f kJ/s \n',Qh);"
   ]
   }
,
{
		   "cell_type": "markdown",
		   "metadata": {},
		   "source": [
			"## Example 6.4: Heating_a_House_by_a_Heat_Pump.sce"
		   ]
		  },
  {
"cell_type": "code",
	   "execution_count": null,
	   "metadata": {
	    "collapsed": true
	   },
	   "outputs": [],
"source": [
"//ques4\n",
"//Heating a House by a Heat Pump\n",
"clear\n",
"clc\n",
"//(a)\n",
"Qh=80000;//heat of reservoir in kJ/h\n",
"COPh=2.5;//coefficient of performance of heat engine\n",
"W=Qh/COPh;//work done by heat pump in kJ/h\n",
"printf(' (a) The power consumed by this heat pump = %.0f kJ/h \n',W);\n",
"//(b)\n",
"Ql=Qh-W;//heat of sink/outdoor in kJ/hour\n",
"printf('  (b) The rate of heat transfer from the outdoor = %.0f kJ/h \n',Ql);"
   ]
   }
,
{
		   "cell_type": "markdown",
		   "metadata": {},
		   "source": [
			"## Example 6.5: Analysis_of_a_Carnot_Heat_Engine.sce"
		   ]
		  },
  {
"cell_type": "code",
	   "execution_count": null,
	   "metadata": {
	    "collapsed": true
	   },
	   "outputs": [],
"source": [
"//ques5\n",
"//Analysis of a Carnot Heat Engine\n",
"clear\n",
"clc\n",
"//(a) The Carnot heat engine is a reversible heat engine, and so its efficiency can be determined as\n",
"Tl=303;//K temp of sink\n",
"Th=650+273;//K temp of source\n",
"n=1-Tl/Th;//efficiency of heat engine\n",
"printf(' (a) Efficiency = %.3f \n',n);\n",
"\n",
"//(b)\n",
"\n",
"Qh=500;//heat of reservoir in kJ\n",
"Ql=Tl/Th*Qh;//heat of sink in kJ\n",
"printf('  (b) The amount of heat rejected,Ql by this reversible heat engine = %.0f kJ \n',Ql);"
   ]
   }
,
{
		   "cell_type": "markdown",
		   "metadata": {},
		   "source": [
			"## Example 6.6: A_Questionable_Claim_for_a_Refrigerator.sce"
		   ]
		  },
  {
"cell_type": "code",
	   "execution_count": null,
	   "metadata": {
	    "collapsed": true
	   },
	   "outputs": [],
"source": [
"//ques6\n",
"//A Questionable Claim for a Refrigerator\n",
"clear\n",
"clc\n",
"Th=75+460;//temperature of reservior in R\n",
"Tl=35+460;//temperature of sink in R\n",
"COPr=1/((Th/Tl-1));//coefficient of performance of refrigerator \n",
"printf('Coefficient of performance of refrigerator = %.1f ',COPr);"
   ]
   }
,
{
		   "cell_type": "markdown",
		   "metadata": {},
		   "source": [
			"## Example 6.7: Heating_a_House_by_a_Carnot_Heat_Pump.sce"
		   ]
		  },
  {
"cell_type": "code",
	   "execution_count": null,
	   "metadata": {
	    "collapsed": true
	   },
	   "outputs": [],
"source": [
"//ques7\n",
"//Heating a House by a Carnot Heat Pump\n",
"clear\n",
"clc\n",
"Tl=-5+273;//temp of sink K\n",
"Th=21+273;//temperature of reservior in K\n",
"COPh=1/(1-Tl/Th);//coefficient of performance of heat engine\n",
"Qh=37.5;//heat of reservoir in kW\n",
"W=Qh/COPh;//work output of heat engine in kW\n",
"printf('The required power input is = %.2f kW',W);\n",
""
   ]
   }
,
{
		   "cell_type": "markdown",
		   "metadata": {},
		   "source": [
			"## Example 6.8: Malfunction_of_a_Refrigerator_Light_Switch.sce"
		   ]
		  },
  {
"cell_type": "code",
	   "execution_count": null,
	   "metadata": {
	    "collapsed": true
	   },
	   "outputs": [],
"source": [
"//ques8\n",
"//Malfunction of a Refrigerator Light Switch\n",
"clear\n",
"clc\n",
"COPr=1.3;//coefficient of performance of refrigerator\n",
"Qref=40;//heat load of refrigerator in  W\n",
"Wref=Qref/COPr;//power consumed in  W\n",
"Wlight=Qref;//power consumed by light in W\n",
"Wtotal=Wlight+Wref;//total additional power consumed in W\n",
"nh=20*30*365/3600;//normal operating hour per yr (h/yr)\n",
"//Then the additional hours the light remains on as a result of the malfunction becomes\n",
"annualh=8760;// total number of annual hour in a year h/yr\n",
"at=annualh-nh;//additional hr in h/yr\n",
"aP=Wtotal*at/1000;//additional power consumption in kWh/yr\n",
"printf('Additional power consumption = %.0f kWh/yr \n',aP);\n",
"uc=0.08;//unit cost 0.08 $/kWh\n",
"APC=aP*uc;//additional power cost in $/yr\n",
"printf(' Additional power cost = $ %.1f/yr ',APC);"
   ]
   }
],
"metadata": {
		  "kernelspec": {
		   "display_name": "Scilab",
		   "language": "scilab",
		   "name": "scilab"
		  },
		  "language_info": {
		   "file_extension": ".sce",
		   "help_links": [
			{
			 "text": "MetaKernel Magics",
			 "url": "https://github.com/calysto/metakernel/blob/master/metakernel/magics/README.md"
			}
		   ],
		   "mimetype": "text/x-octave",
		   "name": "scilab",
		   "version": "0.7.1"
		  }
		 },
		 "nbformat": 4,
		 "nbformat_minor": 0
}
