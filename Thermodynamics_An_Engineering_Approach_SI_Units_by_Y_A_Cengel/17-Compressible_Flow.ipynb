{
"cells": [
 {
		   "cell_type": "markdown",
	   "metadata": {},
	   "source": [
       "# Chapter 17: Compressible Flow"
	   ]
	},
{
		   "cell_type": "markdown",
		   "metadata": {},
		   "source": [
			"## Example 17.16: Steam_Flow_through_a_Converging_Diverging_Nozzle.sce"
		   ]
		  },
  {
"cell_type": "code",
	   "execution_count": null,
	   "metadata": {
	    "collapsed": true
	   },
	   "outputs": [],
"source": [
"//ques16\n",
"//Steam Flow through a Converging�Diverging Nozzle\n",
"clear\n",
"clc\n",
"P01=2;//inlet stagnation pressure in MPa\n",
"Pt=0.546*P01;//throat pressure in MPa\n",
"//at inlet\n",
"P1=2;//inlet pressure in MPa\n",
"T1=400;//Inlet Temp in C\n",
"T01=T1;//stagnation temp in K\n",
"//from tables\n",
"h1=3248.4;//enthalpy in kJ/kg\n",
"h01=h1;//stagnation enthalpy in kJ/kg\n",
"s1=7.1292;//entropy in kJ/kg.K\n",
"st=s1;//stagnation in kJ/kg.K\n",
"s2s=s1;//entropy at state 2s n kJ/kg.K\n",
"//Also, at the throat\n",
"Pt=1.09;//pressure in MPa\n",
"st=7.1292;//entropy in kJ/kg.K\n",
"//from tables\n",
"ht=3076.8;//enthalpy in kJ/kg\n",
"vt=0.24196;//m^3/kg\n",
"//now throat velocity is determined as\n",
"Vt=sqrt(2*(h01-ht)*1000);//throat velocity\n",
"//The flow area at the throat is determined from the mass flow rate relation\n",
"ms=2.5;//mass flow rate in kg/s\n",
"At=ms*vt/Vt;//area in m^2\n",
"printf('(a) Flow area at throat = %.2f cm^2 \n',At*10000);\n",
"//At state 2s,\n",
"P2s=300;//presure in kPa\n",
"P2=P2s;//kPa\n",
"//from table \n",
"h2s=2783.6;//enthalpy at state 2s in kJ/kg\n",
"//from the enthalpy of the steam at the actual exit state is (see Chap. 7) formulae\n",
"n=0.93;\n",
"h2=h01-n*(h01-h2s);//enthalpy at state 2 in kJ/kg\n",
"//now from table\n",
"v2=0.67723;//m^3/kg\n",
"s2=7.2019;//entropy in kJ/kg.K\n",
"// the exit velocity and the exit area\n",
"V2=sqrt(2*(h01-h2)*1000);//Exit velocity in m^2\n",
"A2=(ms*v2)/V2;\n",
"printf('     Exit area = %.2f cm^2 \n',A2*10000);\n",
"//(b)\n",
"//c=(dP/d(1/v))^(1/2)\n",
"//The velocity of sound at the throat is determined by evaluating the specific volume at St = 7.1292 kJ/kg � K and at pressures of 1.115 and 1.065 MPa\n",
"Pa=1115;//kPa\n",
"Pb=1065;//kPa\n",
"va=0.23776;//m^3/kg\n",
"vb=0.24633;//m^3/kg\n",
"c=sqrt((Pa-Pb)/(1/va-1/vb)*1000);//velocity of sound at throat\n",
"V=585.8;//velocity in m/s\n",
"Ma=V/c;\n",
"printf(' (b) Mach number at the throat = %.3f \n',Ma);\n",
"//The velocity of sound and the Mach number at the nozzle exit are determined by evaluating the specific volume at St= 7.2019 kJ/kg � K and at pressures of 325 and 275 kPa\n",
"Pa=325;//kPa\n",
"Pb=275;//kPa\n",
"va=0.63596;//m^3/kg\n",
"vb=0.72245;//m^3/kg\n",
"c=sqrt((Pa-Pb)/(1/va-1/vb)*1000);\n",
"V=929.8;//Velocity\n",
"Ma=V/c;\n",
"printf('     Mach number at nozel exit = %.3f ',Ma);"
   ]
   }
,
{
		   "cell_type": "markdown",
		   "metadata": {},
		   "source": [
			"## Example 17.1: Compression_of_High_Speed_Air_in_an_Aircraft.sce"
		   ]
		  },
  {
"cell_type": "code",
	   "execution_count": null,
	   "metadata": {
	    "collapsed": true
	   },
	   "outputs": [],
"source": [
"//ques1\n",
"//Compression of High-Speed Air in an Aircraft\n",
"clear\n",
"clc\n",
"//(a) the stagnation pressure at the compressor inlet (diffuser exit) can be determined from Eq. 17�5 in book\n",
"//state 1\n",
"T1=255.7;//Temperature in K\n",
"V1=250;//velocity in m/s\n",
"Cp=1.005;//specifc heat at const pressure in kJ/kg/K\n",
"T01=T1+V1^2/(2*Cp)/1000;//divide 1000 to convert it into K\n",
"//now from eqn 17-5\n",
"P1=54.05;//pressure in kPa\n",
"\n",
"k=1.4;\n",
"P01=P1*(T01/T1)^(k/(k-1));\n",
"printf('(a) Pressure P01 = %.2f kPa \n',P01);\n",
"\n",
"//(b) To determine the compressor work\n",
"r=8//P02/P01\n",
"T02=T01*r^(1-1/k);//Temperature in K\n",
"//Disregarding potential energy changes and heat transfer, the compressor work per unit mass of air is determined from Eq. 17�8\n",
"Win=Cp*(T02-T01);//Work input in kJ/kg\n",
"printf(' (b) Work input = %.1f kJ/kg \n',Win);"
   ]
   }
,
{
		   "cell_type": "markdown",
		   "metadata": {},
		   "source": [
			"## Example 17.2: Mach_Number_of_Air_Entering_a_Diffuser.sce"
		   ]
		  },
  {
"cell_type": "code",
	   "execution_count": null,
	   "metadata": {
	    "collapsed": true
	   },
	   "outputs": [],
"source": [
"//ques2\n",
"//Mach Number of Air Entering a Diffuser\n",
"clear\n",
"clc\n",
"//(a) The speed of sound in air at 30�C is determined as\n",
"k=1.4;\n",
"R=0.287;//gas constant\n",
"T=303;//air temperature in K\n",
"c=sqrt(k*R*T*1000);//speed of light in m/s\n",
"printf('(a) speed = %.0f m/s \n',c);\n",
"//(b) Mach Mumber\n",
"V=200;//speed in m/s\n",
"Ma=V/c;\n",
"printf(' (b) Mach number = %.3f ',Ma);"
   ]
   }
,
{
		   "cell_type": "markdown",
		   "metadata": {},
		   "source": [
			"## Example 17.3: Gas_Flow_through_a_Converging_Diverging_Duct.sce"
		   ]
		  },
  {
"cell_type": "code",
	   "execution_count": null,
	   "metadata": {
	    "collapsed": true
	   },
	   "outputs": [],
"source": [
"//ques3\n",
"//Gas Flow through a Converging�Diverging Duct\n",
"clear\n",
"clc\n",
"Cp=0.846;//specific heat at constant pressure in kJ/kg/K\n",
"R=0.1889;//gas constant for substance\n",
"T0=473;//temp at state 0 in K\n",
"T1=T0;//temp at state 1 in K\n",
"P0=1400;//pressure at state 0 in kPa\n",
"P1=P0;//pressure at state 1 in kPa\n",
"//from Eqn 17-5\n",
"P=1200;//pressure in kPa\n",
"k=1.289;\n",
"T=T0*(P/P0)^(1-1/k);//Temp in K\n",
"//from Eqn 17-4\n",
"T=457;//K\n",
"V=sqrt(2*Cp*(T0-T)*1000);//velocity in m/s\n",
"printf('Velocity = %.1f m/s \n',V);\n",
"//From the ideal-gas relation,\n",
"d=P/(R*T);\n",
"printf(' Density = %.1f kg/m^3 \n',d);\n",
"//From the mass flow rate relation,\n",
"ms=3;//mass flow in kg/s\n",
"A=ms/(d*V);//area in m^2\n",
"printf(' Area = %.1f cm^2 \n',A*10000);\n",
"//speed\n",
"k=1.289;\n",
"c=sqrt(k*R*T*1000);//speed in m/s\n",
"Ma=V/c;\n",
"printf(' Mach number  = %.3f ',Ma);"
   ]
   }
,
{
		   "cell_type": "markdown",
		   "metadata": {},
		   "source": [
			"## Example 17.4: Critical_Temperature_and_Pressure_in_Gas_Flow.sce"
		   ]
		  },
  {
"cell_type": "code",
	   "execution_count": null,
	   "metadata": {
	    "collapsed": true
	   },
	   "outputs": [],
"source": [
"//ques4\n",
"//Critical Temperature and Pressure in Gas Flow\n",
"clear\n",
"clc\n",
"k=1.289;\n",
"T0=473;//Temp at in K\n",
"Tx=T0*2/(k+1);//Temp in K\n",
"P0=1400//pressure in kPa\n",
"Px=P0*(2/(k+1))^(k/(k-1));//Pressure in kPa\n",
"printf('T* = %.0f K \n',Tx);\n",
"printf(' P* = %.0f kPa \n',Px);\n",
""
   ]
   }
,
{
		   "cell_type": "markdown",
		   "metadata": {},
		   "source": [
			"## Example 17.5: Effect_of_Back_Pressure_on_Mass_Flow_Rate.sce"
		   ]
		  },
  {
"cell_type": "code",
	   "execution_count": null,
	   "metadata": {
	    "collapsed": true
	   },
	   "outputs": [],
"source": [
"//ques5\n",
"//Effect of Back Pressure on Mass Flow Rate\n",
"clear\n",
"clc\n",
"T=873;//Temperature in K\n",
"V=150;//velocity in m/s\n",
"Cp=1.005;//specific heat at constant pressure in kJ/kg.K\n",
"T0=T+V^2/(2*Cp)/1000;//Temperaure in K\n",
"P=1;//pressure in MPa\n",
"k=1.4;\n",
"P0=P*(T0/T)^(k/(k-1));//pressure in MPa\n",
"//The critical-pressure ratio is determined from Table 17�2 (or Eq. 17�22) to be P*/P=0.5283\n",
"Pb=0.7;//back pressure in MPa\n",
"Rbw=Pb/P0;//back pressure ratio\n",
"//which is greater than the critical-pressure ratio, 0.5283. Thus the exit plane pressure (or throat pressure P) is equal to the back pressure in this case\n",
"//From Table A�32 Pt/P0=0.670 and Tt/T0=0.892 \n",
"T0=884;//Temperature in K\n",
"Tt=0.892*T0;//Temp in K\n",
"Pt=700;//kPa\n",
"R=0.287;\n",
"dt=Pt/(R*Tt);//density in kg/m^3\n",
"Ma=0.778;//Mach no\n",
"k=1.4;\n",
"Vt=Ma*sqrt(k*R*Tt*1000);//Velocity in m/s\n",
"At=50*10^-4;;//area in m^2\n",
"ms=dt*At*Vt;\n",
"printf('(a) Mass flow rate = %.2f kg/s \n',ms);\n",
"//(b)\n",
"Pb=400;//kPa\n",
"P0=1045;//kPa\n",
"Rbp=Pb/P0;//The back pressure ratio\n",
"ms=At*P0*sqrt(k/(R*T0)*1000)*((2/(k+1))^((k+1)/(2*(k-1))));//multiply by 1000 to convert it into kg/s\n",
"printf(' (b) Mass flow rate = %.2f kg/s \n',ms);"
   ]
   }
,
{
		   "cell_type": "markdown",
		   "metadata": {},
		   "source": [
			"## Example 17.7: Airflow_through_a_Converging_Diverging_Nozzle.sce"
		   ]
		  },
  {
"cell_type": "code",
	   "execution_count": null,
	   "metadata": {
	    "collapsed": true
	   },
	   "outputs": [],
"source": [
"//ques7\n",
"//Airflow through a Converging Diverging Nozzle\n",
"clc\n",
"P0=1000;//pressure in kPa\n",
"R=0.287;\n",
"T0=800;//Temperature in K\n",
"d0=P0/(R*T0);//density in kg/m^3\n",
"//(a) At the throat of the nozzle Ma = 1, and from Table A�32\n",
"//throat conditions\n",
"Px=P0*0.5283;//pressure in kPa\n",
"Tx=T0*0.8333;//temperature in K\n",
"dx=d0*0.6339;//density in kg/m^3\n",
"printf('(a) P* = %.4f kPa \n',Px);\n",
"printf('     T* = %.1f K \n',Tx);\n",
"printf('     d* = %.3f kg/m^3 \n',dx);\n",
"k=1.4;\n",
"Vx=sqrt(k*R*Tx*1000);\n",
"printf('     V* = %.1f m/s \n',Vx);\n",
"//Since the flow is isentropic, the properties at the exit plane can also be calculated by using data from Table A�32. For Ma = 2\n",
"Pe=0.1278*P0;//MPa\n",
"Te=0.5556*T0;//K\n",
"de=0.23*d0;//density in kg/m^3\n",
"Ax=20;//cm^2\n",
"Ae=1.6875*Ax;//cm^2\n",
"Mae=2;\n",
"Maex=1.633;\n",
"Ve=Maex*Vx;//m/s\n",
"printf(' (b) Pe = %.4f kPa \n',Pe);\n",
"printf('     Te = %.1f K \n',Te);\n",
"printf('     de = %.3f kg/m^3 \n',de);\n",
"printf('     Ae = %.2f cm^2 \n',Ae);\n",
"printf('     Ve = %.1f m/s \n',Ve);\n",
"\n",
"//(c)\n",
"ms=dx*Ax*Vx*10^-4;\n",
"printf(' (c) Mass flow rate = %.2f kg/s \n',ms);"
   ]
   }
,
{
		   "cell_type": "markdown",
		   "metadata": {},
		   "source": [
			"## Example 17.9: Shock_Wave_in_a_Converging_Diverging_Nozzle.sce"
		   ]
		  },
  {
"cell_type": "code",
	   "execution_count": null,
	   "metadata": {
	    "collapsed": true
	   },
	   "outputs": [],
"source": [
"//ex9\n",
"//Shock Wave in a Converging�Diverging Nozzle\n",
"clear\n",
"clc\n",
"//fluid property at exi nozzle\n",
"P01=1;//pressure in MPa\n",
"P1=0.1278;//pressure in MPa\n",
"T1=444.5;//temperature in K\n",
"d1=1.002;//density in Kg/m^3\n",
"//The fluid properties after the shock (denoted by subscript 2) are related to those before the shock through the functions listed in Table A�33\n",
"Ma1=2;\n",
"Ma2=0.5774;\n",
"P02=0.7209*P01;//stagnation pressure in MPa\n",
"P2=4.5*P1;//Static Pressure in MPa\n",
"T2=1.6875*T1;//Static Pressure in K\n",
"d2=2.6667*d1;//Static Pressure n kg/m^3\n",
"\n",
"printf('(a) Stagnation pressure = %.0f MPa \n',P02);\n",
"printf('     Static PRessure = %.4f MPa \n',P2);\n",
"printf('     Static Temperature = %.1f K \n',T2);\n",
"printf('     static density = %.2f kg/m^3 \n',d2);\n",
"//(b)\n",
"R=0.287;\n",
"Cp=1.005;//specific heat at constant pressure in kJ/kg.K\n",
"S=Cp*log(T2/T1)-R*log(P2/P1);//entropy change in kJ/kg.K\n",
"printf(' (b) The entropy change across the shock = %.4f kJ/kg.K \n',S);\n",
"//(c)\n",
"k=1.4;\n",
"V2=Ma2*sqrt(k*R*T2*1000);\n",
"printf(' (c) Air velocity,V2 = %.0f m/s \n',V2);\n",
"ms=2.86;//same as previous example \n",
"printf(' (d) Mass Flow rate  = %.2f kg/sec \n',ms);\n",
""
   ]
   }
],
"metadata": {
		  "kernelspec": {
		   "display_name": "Scilab",
		   "language": "scilab",
		   "name": "scilab"
		  },
		  "language_info": {
		   "file_extension": ".sce",
		   "help_links": [
			{
			 "text": "MetaKernel Magics",
			 "url": "https://github.com/calysto/metakernel/blob/master/metakernel/magics/README.md"
			}
		   ],
		   "mimetype": "text/x-octave",
		   "name": "scilab",
		   "version": "0.7.1"
		  }
		 },
		 "nbformat": 4,
		 "nbformat_minor": 0
}
