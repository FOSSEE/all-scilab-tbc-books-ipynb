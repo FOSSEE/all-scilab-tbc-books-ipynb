{
"cells": [
 {
		   "cell_type": "markdown",
	   "metadata": {},
	   "source": [
       "# Chapter 10: Vapor and Combined Power Cycles"
	   ]
	},
{
		   "cell_type": "markdown",
		   "metadata": {},
		   "source": [
			"## Example 10.2: An_Actual_Steam_Power_Cycle.sce"
		   ]
		  },
  {
"cell_type": "code",
	   "execution_count": null,
	   "metadata": {
	    "collapsed": true
	   },
	   "outputs": [],
"source": [
"//example 2\n",
"//An Actual Steam Power Cycle\n",
"clear\n",
"clc\n",
"V1=0.001009 //specific volume of steam in m3/kg\n",
"P1=9 // pressure in state 1 in kPa\n",
"P2=16000 //pressure in state 2 final pressure in kPa\n",
"np=0.85 //isentropic efficiency of pump\n",
"nt=0.87 //isentropic efficiency of turbine\n",
"wpumpin=V1*(P2-P1)/np //pump work input in kJ/kg\n",
"h4=3647.6 //specific enthalpy in state 4 in kJ/kg   \n",
"h3=160.12 //specific enthalpy in state 3 in kJ/kg\n",
"qin=h4-h3 //boiler heat input in kJ/kg\n",
"h5=3583.1 //specific enthalpy in state 3 in kJ/kg\n",
"h6=2115.32 //specific enthalpy in state 3 in kJ/kg\n",
"wturbout=nt*(h5-h6) //work output of turbine in kJ/kg\n",
"wnet=wturbout-wpumpin //net work done in kJ/kg\n",
"n=wnet/qin//themal efficiency of the cycle\n",
"m=15 //mass flow rate in kg/s\n",
"Wnet=m*wnet //power produced by the power plant in kW\n",
"printf('\n Hence, the thermal efficiency of the cycle is = %.3f . \n',n);\n",
"printf('\n Hence, net power output of the plant is = %.1f MW. \n',Wnet/1000);"
   ]
   }
,
{
		   "cell_type": "markdown",
		   "metadata": {},
		   "source": [
			"## Example 10.3: Effect_of_Boiler_Pressure_and_Temperature_on_Efficiency.sce"
		   ]
		  },
  {
"cell_type": "code",
	   "execution_count": null,
	   "metadata": {
	    "collapsed": true
	   },
	   "outputs": [],
"source": [
"//example 3\n",
"//Effect of Boiler Pressure and Temperature on Efficiency\n",
"clear\n",
"clc\n",
"P1=10 //pressure of steam in state 1 in kPa\n",
"P2=3000 //pressure of steam in state 2 in kPa\n",
"P3=3000 //pressure of steam in state 3 in kPa\n",
"P4=10 //pressure of steam in state 4 in kPa\n",
"T3=350 //temp. of state in state 3 in celsius\n",
"h3=3116.1 //specific heat enthalpy in state 3 in kJ/kg\n",
"s3=6.7450 //specific entropy in state 3 in kJ/kg-K\n",
"h1=191.81 //specific heat enthalpy in state 1 in kJ>kg\n",
"v1=0.00101 //specific volume in state 1 in m3>kg\n",
"wpumpin=3.02 //work done by the pump in kJ/kg\n",
"h2=h1+wpumpin //specific heat enthalpy in state 2 in kJ/kg\n",
"s3=6.7450 //specific entropy in state 3 in kJ/kg-K\n",
"s4=s3 //specific entropy in state 4\n",
"sf=0.6492 //in kJ/kg-K\n",
"sfg=7.4996 //in kJ/kg-K\n",
"x4=(s4-sf)/sfg //quality of steam in state 4\n",
"hf=191.81 // kJ/kg\n",
"hfg=2392.1 //kJ/kg\n",
"h4=hf+x4*hfg //specific heat enthalpy in state 4 in kJ/kg\n",
"qin=h3-h2 //heat coming in in kJ/kg\n",
"qout=h4-h1 //heat going out in kJ/kg\n",
"n1=1-qout/qin //thermal efficiency of power plant\n",
"disp('the thermal efficiency if steam is superheated to 600�C instead of 350�C')\n",
"h32=3682.8 //Specific enthalpy in state 3 in kJ/kg\n",
"h42=2380.3 //Specific enthalpy in state 3 in kJ/kg\n",
"qin2=h32-h2 //heat coming in in kJ/kg\n",
"qout2=h42-h1//heat going out in kJ/kg\n",
"n2=1-qout2/qin2 //thermal efficiency under given conditions\n",
"disp('the thermal efficiency if the boiler pressure is raised to 15 MPa while the turbine inlet temperature is maintained at 600�C')\n",
"h23=206.95 //Specific enthalpy in state 2 in kJ/kg\n",
"h43=2115.3 //Specific enthalpy in state 4 in kJ/kg\n",
"h33=3583.1 //Specific enthalpy in state 3 in kJ/kg\n",
"qin3=h33-h23 //heat coming in in kJ/kg\n",
"qout3=h43-h1 //heat going out in kJ/kg\n",
"n3=1-(qout3/qin3) //thermal efficiency under given conditions\n",
"printf('\n Hence, the thermal efficiency of this power plant if the steam is uperheated to 600 C is = %.3f. \n',n1);\n",
"printf('\n Hence, the thermal efficiency of this power plant if the steam is uperheated to 350 C is = %.3f. \n',n2);\n",
"printf('\n Hence, the thermal efficiency if the boiler pressure is raised to 15 MPa while the turbine inlet temperature is maintained at 600�C. is = %.3f. \n',n3);"
   ]
   }
,
{
		   "cell_type": "markdown",
		   "metadata": {},
		   "source": [
			"## Example 10.4: The_Ideal_Reheat_Rankine_Cycle.sce"
		   ]
		  },
  {
"cell_type": "code",
	   "execution_count": null,
	   "metadata": {
	    "collapsed": true
	   },
	   "outputs": [],
"source": [
"//example 4\n",
"//The Ideal Reheat Rankine Cycle\n",
"clear\n",
"clc\n",
"disp('the pump and the turbines are isentropic,there are no pressure drops in the boiler and condenser, and steam leaves the condenser and enters the pump as saturated liquid at the condenser pressure.')\n",
"P6=10 //pressure at state 6 in kPa\n",
"x6=0.896 //quality of steam in state 6\n",
"sf=0.6492 // in kJ/kg-K\n",
"sfg=7.4996 //in kJ/kg-K\n",
"hf=191.81 //in kJ/kg\n",
"hfg=2392.1 //in kJ/kg\n",
"h6=hf+x6*hfg //specific heat enthalpy in state 6 in kJ/kg\n",
"s6=sf+x6*sfg //specific entropy at state 6 in kJ/kg-K\n",
"T5=600 // temperature in state 5 in Celsius\n",
"s5=s6 //specific entropy in state 5\n",
"disp(' At state 5, T5=600C,s5=s6.Hence,')\n",
"P5=4.0 //pressure at state 5 in MPa\n",
"h5=3674.9 //spacific heat enthalpy at state 5 in kJ/kg\n",
"P1=10 //pressure at state 1 in kPa\n",
"h1=191.81 //specific heat enthalpy at state 1 in kJ/kg\n",
"v1=0.00101 //specific volume at state 1 in m3/kg\n",
"P2=15000 //pressure at state 2 in kPa\n",
"wpumpin=v1*(P2-P1) //work done by pump in kJ/kg\n",
"h2=h1+wpumpin //enthalpy in state 2 in kJ/kg\n",
"P3=15000 //pressure in state 3 in kPa\n",
"T3=600//temperature in state 3 in �C\n",
"h3=3583.1 //specific heat enthalpy in state 3 in kJ/kg\n",
"s3=6.6796 //specific entropy in state 3 in kJ/kg-K\n",
"P4=4000 //pressure in state 4 in kPa\n",
"s4=s3 //specific entropy in state 4\n",
"h4=3155.0 //specific heat enthalpy in state 4 in kJ/kg\n",
"T4=375.5 //temperature in state 4 in �C\n",
"qin=(h3-h2)+(h5-h4) //heat coming in in kJ/kg\n",
"qout=h6-h1 //heat going out in kJ/kg\n",
"n=1-qout/qin //thermal efficiency of the cycle\n",
"printf('\n Hence, the pressure at which the steam should be reheated is = %.1f MPa. \n',P5);\n",
"printf('\n Hence, the the thermal efficiency of the cycle is = %.1f. \n',n*100);"
   ]
   }
,
{
		   "cell_type": "markdown",
		   "metadata": {},
		   "source": [
			"## Example 10.5: The_Ideal_Regenerative_Rankine_Cycle.sce"
		   ]
		  },
  {
"cell_type": "code",
	   "execution_count": null,
	   "metadata": {
	    "collapsed": true
	   },
	   "outputs": [],
"source": [
"//example5\n",
"//The Ideal Regenerative Rankine Cycle\n",
"clear\n",
"clc\n",
"P1=10 //Pressure in state 1 in kPa\n",
"h1=191.81 //Specific enthelpy in state 1 in kJ/kg\n",
"v1=0.00101 //Specific volume in state 1 in m3/kg\n",
"P2=1200 //Pressure in state 2 in kPa\n",
"wpumpin=v1*(P2-P1) //work done by the pump 1 in kJ/kg\n",
"h2=h1+wpumpin //Specific Enthalpy in state 2 in kJ/kg\n",
"v3=0.001138 //Specific volume in state 3 in m3/kg\n",
"h3=798.33 //Specific enthalpy in kJ/kg\n",
"P3=1200 //Pressure in state 3 in kPa\n",
"P4=15000 //Pressure in state 4 in kPa\n",
"wpumpin2=v3*(P4-P3) //work done by pump 2 in kJ/kg\n",
"h4=h3+wpumpin2 //Specific ehnthalpy in state 4 in kJ/kg\n",
"P5=15 //Pressure in state 5 in MPa\n",
"T5=600 //Temp. in state 5 in �C\n",
"P6=1200 //Pressure in state 6 in kPa\n",
"h5=3583.1 //Specific enthalpy in state 5 in kJ/kg\n",
"s5=6.6796 //Specific entropy in state 5 in kJ/kg-K\n",
"h6=2860.2 //Specific enthalpy in state 6 in kJ/kg\n",
"T6=218.4//Temp. in state 6 in �C\n",
"sf=0.6492 //in kJ/kg-K\n",
"sfg=7.4996 //in kJ/kg-K\n",
"s5=6.6796 //Specific entropy in state 5 in kJ/kg-K\n",
"s6=s5 //Specific entropy in state 6\n",
"s7=s5 //Specific entropy in state 7\n",
"x7=(s7-sf)/sfg //quality of steam in state 7\n",
"hf=191.81 //in kJ/kg\n",
"hfg=2392.1 //in kJ/kg\n",
"h7=hf+x7*hfg //Specific enthalpy in state 7 in kJ/kg\n",
"y=(h3-h2)/(h6-h2) //fraction of steam extracted from the turbine\n",
"qin=h5-h4 //heat coming in in kJ/kg\n",
"qout=(h7-h1)*(1-y) //heat going out in kJ/kg\n",
"n=1-qout/qin //Thermal efficiency of the cycle\n",
"printf('\n Hence, the fraction of steam extracted from the turbine  is = %.4f. \n',y);\n",
"printf('\n and thermal efficiency of the cycle is = %.3f. \n',n);"
   ]
   }
,
{
		   "cell_type": "markdown",
		   "metadata": {},
		   "source": [
			"## Example 10.6: The_Ideal_Reheat_Regenerative_Rankine_Cycle.sce"
		   ]
		  },
  {
"cell_type": "code",
	   "execution_count": null,
	   "metadata": {
	    "collapsed": true
	   },
	   "outputs": [],
"source": [
"//example 6\n",
"//The Ideal Reheat�Regenerative Rankine Cycle\n",
"clear\n",
"clc\n",
"h1=191.81 //specific heat enthalpy for state 1 in kJ/kg\n",
"h2=192.30 //specific heat enthalpy for state 2 in kJ/kg\n",
"h3=640.09 //specific heat enthalpy for state 3 in kJ/kg\n",
"h4=643.92 //specific heat enthalpy for state 4 in kJ/kg\n",
"h5=1087.4 //specific heat enthalpy for state 5 in kJ/kg\n",
"h6=1087.4 //specific heat enthalpy for state 6 in kJ/kg\n",
"h7=1101.2 //specific heat enthalpy for state 7 in kJ/kg\n",
"h8=1089.8 //specific heat enthalpy for state 8 in kJ/kg\n",
"h9=3583.1//specific heat enthalpy for state 9 in kJ/kg\n",
"h10=3155.0 //specific heat enthalpy for state 10 in kJ/kg\n",
"h11=3674.9 //specific heat enthalpy for state 11 in kJ/kg\n",
"h12=3014.8 //specific heat enthalpy for state 12 in kJ/kg\n",
"h13=2335.7 //specific heat enthalpy for state 13 in kJ/kg\n",
"wpumpin1=0.49 //work done by pump 1 in kJ/kg\n",
"wpumpin2=3.83 //work done by pump 2 in kJ/kg\n",
"wpumpin3=13.77 //work done by pump 3 in kJ/kg\n",
"y=(h5-h4)/(h5-h4+h10-h6) //fraction of steam extracted\n",
"z=(1-y)*(h3-h2)/(h12-h2)\n",
"h8=(1-y)*h5+y*h7 //specific heat enthalpy for state 8 in kJ/kg\n",
"qin=(h9-h8)+(1-y)*(h11-h10) //heat coming in in kJ/kg\n",
"qout=(1-y-z)*(h13-h1) //heat going out in kJ/kg\n",
"n=1-qout/qin //thermal efficiency of cycle\n",
"printf('\n Hence, the fraction of steam extracted from the turbine  is = %.4f. \n',y);\n",
"printf('\n and thermal efficiency of the cycle is = %.3f. \n',n);"
   ]
   }
,
{
		   "cell_type": "markdown",
		   "metadata": {},
		   "source": [
			"## Example 10.7: Second_Law_Analysis_of_an_Ideal_Rankine_Cycle.sce"
		   ]
		  },
  {
"cell_type": "code",
	   "execution_count": null,
	   "metadata": {
	    "collapsed": true
	   },
	   "outputs": [],
"source": [
"//example 7\n",
"//Second-Law Analysis of an Ideal Rankine Cycle\n",
"clear\n",
"clc\n",
"xdest12=0 //irreversibility during the process 1 to 2 in kJ/kg \n",
"xdest34=0 //irreversibility during the process 3 to 4 in kJ/kg \n",
"s2=1.2132 //specific entropy for state 2 in kJ/kg-K\n",
"s4=6.7450 //specific entropy for state 4 in kJ/kg-K\n",
"s1=s2 //specific entropy for state 1 in kJ/kg-K\n",
"s3=s4 //specific entropy for state 3 in kJ/kg-K\n",
"qin23=2728.6 //heat input for the process 2 to 3 in kJ/kg\n",
"Tsource=1600 //temperature of furnaace in K\n",
"To=290 //temp. of cooling medium in K\n",
"xdest23=To*(s3-s2-qin23/Tsource) //irreversibility during the process 2 to 3 in kJ/kg\n",
"Tsink=To //temperature of sink\n",
"qout41=2018.6 //in kJ/kg\n",
"xdest41=To*(s1-s4+qout41/Tsink) //irreversibility during the process 4 to 1 in kJ/kg\n",
"xdestcycle=xdest12+xdest23+xdest34+xdest41 //irreversibility of cycle\n",
"ho=71.355 //in kJ/kg\n",
"so=0.2533 //in kJ/kg-K\n",
"h4=2403.0 //in kJ/kg\n",
"e4=(h4-ho)-To*(s4-so)//exergy of steam leaving the turbine in kJ/kg\n",
"printf('\n Hence, the exergy destruction associated with the rankine cycle is = %.0f kJ/kg. \n',xdestcycle);\n",
"printf('\n and exergy of steam leaving the turbine is = %.0f. \n',e4);"
   ]
   }
,
{
		   "cell_type": "markdown",
		   "metadata": {},
		   "source": [
			"## Example 10.8: An_Ideal_Cogeneration_Plant.sce"
		   ]
		  },
  {
"cell_type": "code",
	   "execution_count": null,
	   "metadata": {
	    "collapsed": true
	   },
	   "outputs": [],
"source": [
"//example 8\n",
"//An Ideal Cogeneration Plant\n",
"clear\n",
"clc\n",
"v8=0.001005 //specific volume for state 3 in m3/kg\n",
"P9=7000 //pressure at state9  in kPa\n",
"P8=5//pressure at state 8 in kPa\n",
"wpumpin1=v8*(P9-P8) //work done by pump 1 in kJ/kg\n",
"v7=0.001093 //specific volume for state 7 in m3>kg\n",
"P10=7000 //pressure for state 10 in kPa\n",
"P7=500//pressure for state 7 in kPa\n",
"wpumpin2=v7*(P10-P7) //work done by pump 2 in kJ/kg\n",
"h4=3411.4 //specific enthalpy for state 4 in kJ/kg\n",
"h3=h4 //specific enthalpy for state 3 \n",
"h2=h4 //specific enthalpy for state 2\n",
"h1=h4 //specific enthalpy for state 1\n",
"h5=2739.3 //specific enthalpy for state 5 in kJ/kg\n",
"h6=2073.0 //specific enthalpy for state 6 in kJ/kg\n",
"h7=640.09 //specific enthalpy for state 7 in kJ/kg\n",
"h8=137.75 //specific enthalpy for state 8 in kJ/kg\n",
"h9=h8+wpumpin1 //specific enthalpy for state 9 in kJ/kg\n",
"h10=h7+wpumpin2 //specific enthalpy for state 10 in kJ/kg\n",
"disp('Since all the steam the boiler is throttled and sent to the process heater and none is sent to the turbine, therefore')\n",
"M1=15//mass flow rate for steam in kg/s\n",
"M4=15// in kg/s\n",
"M7=15//in kg/s\n",
"M=M1\n",
"M3=0\n",
"M5=0\n",
"M6=0\n",
"Qpmax=M1*(h4-h7) //Maximum rate at which process heat can be supplied in kW\n",
"Wturbout=M*(h3-h6) //Work done by turbine in kW\n",
"Wpumpin=M*wpumpin2 //Work done by pump in kW\n",
"Wnetout=Wturbout-Wpumpin //power produced in kW\n",
"h11=144.78 //Specific enthalpy for state 11 when no heat is supplied \n",
"Qin=M1*(h1-h11)\n",
"Qp=0 //rate of supply of process heat in kW\n",
"e=(Qp+Wnetout)/Qin //utilization factor\n",
"disp('Now, calculating the rate of process heat supply when 10 percent of the steam is extracted before it enters the turbine and 70 percent of the steam is extracted from the turbine at 500 kPa for process heating')\n",
"M4=0.1*15 //in kg/s\n",
"M5=0.7*15 // in kg/s\n",
"M7=M4+M5 //in kg/s\n",
"Qpout=M4*h4+M5*h5-M7*h7 //rate of process heat supply in kW\n",
"printf('\n Hence, the maximum rate at which process heat can be supplied is = %.0f kW. \n',Qpmax);\n",
"printf('\n The power produced when no heat is supplied is = %.1f MW. \n',Wnetout/1000);\n",
"printf('\n and utilization factor is = %.3f . \n',e);\n",
"printf('\n the rate of process heat supply when 10 percent of the steam is extracted before it enters the turbine and 70 percent of the steam is extracted from the turbine at 500 kPa for process heating = %.1f MW. \n',Qpout/1000);"
   ]
   }
,
{
		   "cell_type": "markdown",
		   "metadata": {},
		   "source": [
			"## Example 10.9: A_Combined_Gas_Steam_Power_Cycle.sce"
		   ]
		  },
  {
"cell_type": "code",
	   "execution_count": null,
	   "metadata": {
	    "collapsed": true
	   },
	   "outputs": [],
"source": [
"//example 9\n",
"//A Combined Gas�Steam Power Cycle\n",
"clear\n",
"clc\n",
"h4=880.36 //specific enthalpy for state 4 in kJ/kg\n",
"T4=853 //temperature for state 4 in K\n",
"qin=790.58 //in kJ/kg\n",
"wnet=210.41 //in kJ/kg\n",
"h5=451.80 //specific enthalpy for state 5 in kJ/kg\n",
"h2=144.78 //specific enthalpy for state 2 in kJ/kg\n",
"h3=3411.4 //specific enthalpy for state 3 in kJ/kg\n",
"wnetgas=210.41 //in kJ/kg\n",
"wnetsteam=1331.4 //in kJ/kg\n",
"y=(h4-h5)/(h3-h2) //ratio of mass folw rates of the steam and combustion gases \n",
"wnet=wnetgas+y*wnetsteam //net work output of the cycle in kJ/kg\n",
"n=wnet/qin //thermal efficiency of the combined cycle \n",
"printf('\n Hence, the ratio of mass folw rates of the steam and combustion gases  is = %.3f . \n',y);\n",
"printf('\n Hence, the thermal efficiency of the cobined cycle is = %.3f . \n',n);"
   ]
   }
],
"metadata": {
		  "kernelspec": {
		   "display_name": "Scilab",
		   "language": "scilab",
		   "name": "scilab"
		  },
		  "language_info": {
		   "file_extension": ".sce",
		   "help_links": [
			{
			 "text": "MetaKernel Magics",
			 "url": "https://github.com/calysto/metakernel/blob/master/metakernel/magics/README.md"
			}
		   ],
		   "mimetype": "text/x-octave",
		   "name": "scilab",
		   "version": "0.7.1"
		  }
		 },
		 "nbformat": 4,
		 "nbformat_minor": 0
}
