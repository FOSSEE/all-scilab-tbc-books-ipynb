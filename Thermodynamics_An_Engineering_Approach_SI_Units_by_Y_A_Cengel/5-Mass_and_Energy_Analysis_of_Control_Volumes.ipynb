{
"cells": [
 {
		   "cell_type": "markdown",
	   "metadata": {},
	   "source": [
       "# Chapter 5: Mass and Energy Analysis of Control Volumes"
	   ]
	},
{
		   "cell_type": "markdown",
		   "metadata": {},
		   "source": [
			"## Example 5.10: Cooling_of_refrigant_134a_by_water.sce"
		   ]
		  },
  {
"cell_type": "code",
	   "execution_count": null,
	   "metadata": {
	    "collapsed": true
	   },
	   "outputs": [],
"source": [
"//example 10\n",
"//cooling of refrigant 134-a by water\n",
"clear\n",
"clc\n",
"disp('We take the entire heat exchanger as the system. This is a control volume since mass crosses the system boundary during the process.')\n",
"disp('For each fluid stream since there is no mixing. Thus, m1=m2=mh and m3=m4=mr')\n",
"mr=6 //mass flow rate of R-134a in kg/min\n",
"h1=62.982 //specific enthalpy of water in kJ/kg\n",
"h2=104.83 //specific enthalpy of water in kJ/kg\n",
"P3=1 //pressure of R-134a at inlet in MPa\n",
"T3=70 //temperature of R-134a at inlet in Celsius\n",
"h3=303.85 //specific enthalpy corresponding to P3,T3 in kJ/kg\n",
"P4=1 //pressure of R-134a at exit in MPa\n",
"T4=35 // temp. of R-134a at exit in Celsius\n",
"h4=100.87 // corresponding to P4,T4 in kJ/kg\n",
"mw=mr*(h4-h3)/(h1-h2) //mass flow rate of the cooling water in kg/min\n",
"qin=mw*(h2-h1) //the heat transfer rate from the refrigerant to water in kJ/min\n",
"printf('\n Hence,mass flow rate of the cooling water required is = %.1f kg/min. \n',mw);\n",
"printf('\n Heat transfer rate from refrigerant to water is = %.0f kJ/min. \n',qin);"
   ]
   }
,
{
		   "cell_type": "markdown",
		   "metadata": {},
		   "source": [
			"## Example 5.11: Electric_heating_of_air_in_house.sce"
		   ]
		  },
  {
"cell_type": "code",
	   "execution_count": null,
	   "metadata": {
	    "collapsed": true
	   },
	   "outputs": [],
"source": [
"//example 11\n",
"// electric heating of air in house\n",
"clear\n",
"clc\n",
"T1=290 //Initial temp. of air in K\n",
"P1=100 //Initial pressure of air in kPa\n",
"R=0.287 //Gas constant in KPa*m^3/kg-K\n",
"V1=R*T1/P1 //Initial specific volume of air in m^3/kg\n",
"v1=150 //volume flow rate in m^3/min\n",
"m=v1/(V1*60) //mass flow rate in kg/s\n",
"win=15 //Power of Electric heating system in kJ/s\n",
"qout=0.2 //heat lost from air to surroundings in kJ/s\n",
"cp=1.005 //heat capacity in kJ/kg-C\n",
"T2=(win-qout)/(m*cp)+(T1-273) //Exit temp. of air in C\n",
"printf('\n Hence,the exit temp. of air is = %.1f C. \n',T2);"
   ]
   }
,
{
		   "cell_type": "markdown",
		   "metadata": {},
		   "source": [
			"## Example 5.12: Charging_of_rigid_tank_by_system.sce"
		   ]
		  },
  {
"cell_type": "code",
	   "execution_count": null,
	   "metadata": {
	    "collapsed": true
	   },
	   "outputs": [],
"source": [
"//example 12\n",
"//charging of rigid tank by system\n",
"clear\n",
"clc\n",
"disp('This process can be analyzed as a uniform-flow process since the properties of the steam entering the control volume remain constant during the entire process.')\n",
"disp('We take the tank as the system. This is a control volume since mass crosses the system boundary during the process.We observe that this is an unsteady-flow process since changes occur within the control volume')\n",
"m1=0 //since system is initially evacuated\n",
"disp('The properties of the steam at the inlet state are')\n",
"P1=1 //pressure in MPa\n",
"T1=300 //temp. in Celsius\n",
"h1=3051.6 //especific enthalpy in kJ/kg\n",
"P2=1 // pressure at final state in MPa\n",
"u2=h1 //final internal energy of the steam in kJ/kg\n",
"disp('From steam table,the temp. corresponding to final properties are')\n",
"T2=456.1//final temp. in Celsius\n",
"printf('\n The final temp. of the steam in the tank is = %.1f C. \n',T2);"
   ]
   }
,
{
		   "cell_type": "markdown",
		   "metadata": {},
		   "source": [
			"## Example 5.13: Cooking_with_a_pressure_cooker.sce"
		   ]
		  },
  {
"cell_type": "code",
	   "execution_count": null,
	   "metadata": {
	    "collapsed": true
	   },
	   "outputs": [],
"source": [
"//example 13\n",
"//cooking with a pressure cooker\n",
"clear\n",
"clc\n",
"disp('This process can be analyzed as a uniform-flow process since the properties of the steam leaving the control volume remain constant during the entire cooking process')\n",
"disp('We take the pressure cooker as the system. This is a control volume since mass crosses the system boundary during the process.We observe that this is an unsteady-flow process since changes occur within the control volume. Also, there is one exit and no inlets for mass flow.')\n",
"Pgage=75 //gage pressure inside cooker in kPa\n",
"Patm=100 //atmospheric pressure in kPa\n",
"Pabs=Pgage+Patm //absolute pressure inside pressure cooker in kPa\n",
"disp('Since saturation conditions exist in the cooker at all times , the cooking temperature must be the saturation temperature corresponding to this pressure.From steam table, it is')\n",
"Tsat=116.04 // Saturation Temp. at 175 kPa in Celsius\n",
"T=Tsat //Temp. at which cooking takes place\n",
"Qin=0.5 //Heat supplied to the pressure cooker in kJ/s\n",
"t=30*60 //time for which het is supplied to pressure cooker in seconds\n",
"qin=Qin*t //total heat supplied to pressure cooker in kJ\n",
"m1=1 //initial mass of water in kg\n",
"V=0.006 //volume of pressure cooker in m^3\n",
"V1=V/m1 // initial specific volume in kg/m^3\n",
"Vf=0.001 //in kg/m^3\n",
"Vfg=1.004-0.001 //in kg/m^3\n",
"x1=(V1-Vf)/Vfg //quality\n",
"uf=486.82 //in kJ/kg\n",
"ufg=2037.7 //in kJ/kg\n",
"u1=uf+x1*ufg //specific internal energy in kJ/kg\n",
"U1=m1*u1 //total internal energy\n",
"disp('V2=Vf+x2*Vfg  and u2=uf+x2*ufg.upon substituting various values,we get ')\n",
"x2=0.009 //quality of steam in final state\n",
"V2=Vf+x2*Vfg //final specific volume in m^3/kg\n",
"m2=V/V2 //amount of water left in the pressure cooker in kg\n",
"printf('\n Hence,the temperature at whih cooking takes place is = %.2f C. \n',T);\n",
"printf('\n The amount of water left in the pressure cooker at the end of the process = %.1f kg. \n',m2);"
   ]
   }
,
{
		   "cell_type": "markdown",
		   "metadata": {},
		   "source": [
			"## Example 5.1: water_flow_through_garden_hose_nozzle.sce"
		   ]
		  },
  {
"cell_type": "code",
	   "execution_count": null,
	   "metadata": {
	    "collapsed": true
	   },
	   "outputs": [],
"source": [
"//example 1\n",
"// water flow through garden hose nozzle\n",
"clear\n",
"clc\n",
"t=50 //time taken to fill the bucket in seconds\n",
"v=10 //volume of bucket in gallon\n",
"V=v*3.7854/t //volume flow rate in litres/second\n",
"d=1 //density of water in kg/l\n",
"M=V*d //mass flow rate in kg/s\n",
"A=%pi*(0.4)^2*10^-4 //area of exit in m^2\n",
"v1=V/(A*1000) //average velocity of water at exit in m/s\n",
"printf('\n Hence, the volume flow rate of water through the hose is = %.3f L/s. \n',V);\n",
"printf('\n The mass flow rate through the hose is = %.3f kg/s. \n',M);\n",
"printf('\n The average velocity of water at the nozzle exit is = %.1f m/s. \n',v1);"
   ]
   }
,
{
		   "cell_type": "markdown",
		   "metadata": {},
		   "source": [
			"## Example 5.2: Discharge_of_water_from_a_tank.sce"
		   ]
		  },
  {
"cell_type": "code",
	   "execution_count": null,
	   "metadata": {
	    "collapsed": true
	   },
	   "outputs": [],
"source": [
"//example 2\n",
"//discharge of water from a tank\n",
"clear\n",
"clc\n",
"h0=4 //height of cylindrical water tank in ft\n",
"h2=2 //final water level in tank in ft\n",
"g=32.2 //acc. due to gravity in ft/s^2\n",
"Dt=3*12 //diameter of tank in inches\n",
"Djet=0.5 //diameter of water jet in inches\n",
"t=(h0^0.5-h2^0.5)*(Dt)^2/((Djet)^2*(g/2)^0.5) //time taken for water level to fall to half of its initial value in seconds\n",
"printf('\n Hence, the time taken for water level to fall to half of its initial value is = %.1f min. \n',t/60);"
   ]
   }
,
{
		   "cell_type": "markdown",
		   "metadata": {},
		   "source": [
			"## Example 5.3: Energy_transport_by_mass.sce"
		   ]
		  },
  {
"cell_type": "code",
	   "execution_count": null,
	   "metadata": {
	    "collapsed": true
	   },
	   "outputs": [],
"source": [
"//example 3\n",
"//energy transport by mass\n",
"clear\n",
"clc\n",
"vf=0.001053 //specific volume of saturated liquid water  in m3/kg\n",
"vg=1.1594  //specific volume of water vapour in m3/kg\n",
"ug=2519.2  //specific internal energy of water vapour kJ/kg\n",
"hg=2693.1  //specific enthalpy of water vapour kJ/kg\n",
"disp('Saturation conditions exist in a pressure cooker at all times after the steady operating conditions are established')\n",
"disp(' Therefore, the liquid has the properties of saturated liquid and the exiting steam has the properties of saturated vapor at the operating pressure.')\n",
"m=0.6/(vf*1000) //reduction in mass of liquid in pressure cooker in kg\n",
"M=m/(40*60) //mass flow rate of steam in kg/s\n",
"A=8*10^-6 //exit area in m^2\n",
"V=M*vg/A //exit velocity in m/s\n",
"e=hg-ug //flow energy of steam in kJ/kg\n",
"TE=hg //total nergy of steam in kJ/kg\n",
"E=M*hg //energy flow rate of steam leaving cooker in kW\n",
"printf('\n Hence,The mass flow rate of the steam is = %.6f kg/s. \n',M); \n",
"printf('\n The exit velocity is = %.1f m/s. \n',V);\n",
"printf('\n The total energy of the steam is = %.1f kJ/kf. \n',TE);\n",
"printf('\n The flow energy of the steam is = %.1f kJ/kg. \n',e);\n",
"printf('\n The rate at which energy leaves the cooker by steam is = %.3f kW. \n',E);"
   ]
   }
,
{
		   "cell_type": "markdown",
		   "metadata": {},
		   "source": [
			"## Example 5.4: Deceleration_of_air_in_diffuser.sce"
		   ]
		  },
  {
"cell_type": "code",
	   "execution_count": null,
	   "metadata": {
	    "collapsed": true
	   },
	   "outputs": [],
"source": [
"//example 4\n",
"//deceleration of air in diffuser\n",
"clear\n",
"clc\n",
"disp('we assume that Air is an ideal gas since it is at a high temperature and low pressure relative to its critical-point values ')\n",
"T1=283 //Initial temp. of air in kelvins  \n",
"P1=80 //initial pressure of air in kPa\n",
"R=0.287 //gas constant in kPa-m3/kg-K\n",
"A1=0.4 //inlet area in m^2\n",
"v1=200 //inintial velocity of air in m/s\n",
"V1=R*T1/P1 //specific volume of air in m^3/kg\n",
"m=v1*A1/V1 //mass flow rate in kg/s\n",
"h1=283.14 // specific enthalpy of air in kJ/kg\n",
"v2=0 //exit velocity is very small compared to initial velocity\n",
"h2=h1-(v2^2-v1^2)/2000 //final specific enthalpy of air in kJ/kg\n",
"disp('from steam table , the temperature corresponding to this value of enthalpy is')\n",
"T2=303 //Temp. of air leaving the diffuser in K\n",
"printf('\n Hence,The mass flow rate of the air is = %.1f kg/s. \n',m);\n",
"printf('\n The temp. of air leaving the diffuser is = %.0f K. \n',T2);"
   ]
   }
,
{
		   "cell_type": "markdown",
		   "metadata": {},
		   "source": [
			"## Example 5.5: Acceleration_of_steam_in_nozzle.sce"
		   ]
		  },
  {
"cell_type": "code",
	   "execution_count": null,
	   "metadata": {
	    "collapsed": true
	   },
	   "outputs": [],
"source": [
"//example 5\n",
"//acceleration of steam in nozzle\n",
"clear\n",
"clc\n",
"P1=250  //initial pressure of steam in psia\n",
"T1=700 //initial temperature of steam in �F \n",
"disp('The specific volume and enthalpy of steam at the nozzle inlet are ')\n",
"v1=2.6883  //specific volume of steam at the nozzle inlet in ft3/lbm\n",
"h1=1371.4 // specific enthalpy of steam at the nozzle inletin Btu/lbm\n",
"A1=0.2 //inlet area in ft^2\n",
"M=10 // mass flow rate of steam through nozzle in lbm/s\n",
"V1=M*v1/A1 // inlet velocity in ft/s\n",
"qout=1.2 // heat loss in Btu/lbm\n",
"v2=900 //exit velocity in ft/s\n",
"h2=h1-qout-(v2^2-v1^2)/(2*25037) // enthalpy after exit \n",
"disp('from steam table, the temp. corresponding to this pressure and specifi enthalpy is ')\n",
"T2=662.0 ///in �F\n",
"printf('\n Hence,the inlet velocity is = %.1f ft/s. \n',V1);\n",
"printf('\n The exit temp. of the seam  is = %.0f F. \n',T2);"
   ]
   }
,
{
		   "cell_type": "markdown",
		   "metadata": {},
		   "source": [
			"## Example 5.6: Compressing_air_by_compressor.sce"
		   ]
		  },
  {
"cell_type": "code",
	   "execution_count": null,
	   "metadata": {
	    "collapsed": true
	   },
	   "outputs": [],
"source": [
"//example 6\n",
"//compressing air by compressor\n",
"clear\n",
"clc\n",
"m=0.02 //mass flow rate of the air in kg/s\n",
"qout=16 //heat loss during the process in kJ/kg\n",
"h1=280.13 //specific enthalpy of air at 280K in kJ/kg\n",
"h2=400.98 //specific enthalpy of air at 400K in kJ/kg\n",
"win=m*qout + m*(h2-h1) //power input to compressor in kW\n",
"printf('\n Hence,the power input to the compressor is = %.2f kW. \n',win);"
   ]
   }
,
{
		   "cell_type": "markdown",
		   "metadata": {},
		   "source": [
			"## Example 5.7: Power_generation_by_steam_turbine.sce"
		   ]
		  },
  {
"cell_type": "code",
	   "execution_count": null,
	   "metadata": {
	    "collapsed": true
	   },
	   "outputs": [],
"source": [
"//example 7\n",
"// power generation by steam turbine\n",
"clear\n",
"clc\n",
"P1= 2 //initial pressure of steam in  MPa\n",
"T1= 400 //initial temp. of steam in �C\n",
"V1= 50 //initial velocity of steam in m/s\n",
"z1= 10 //height of inlet in metres\n",
"h1=3248.4 //initial specific enthalpy of air in kJ/kg\n",
"P2= 15 //final pressure of air in kPa\n",
"V2= 180 //final velocity of air in m/s\n",
"z2= 6 //exit height in m\n",
"x2=0.9 //quality of steam after exit \n",
"disp('At turbine exit,we obviously have liquid vapour mixture at 15 kPa.')\n",
"hf=225.94 //in kJ/kg \n",
"hfg=2372.3 //in  kJ/kg\n",
"h2=hf+x2*hfg //final specific enthalpy of mixture in kJ/kg\n",
"dh=h2-h1 // change in enthalpy of steam in kJ/kg\n",
"dke=(V2^2-V1^2)/2000 //change in kinetic energy of steam in kJ/kg\n",
"g=9.8 //acc. due to gravity in m/s^2\n",
"dpe=g*(z2-z1)/1000//change in potential energy of steam in kJ/kg\n",
"wout=-((h2-h1)+(V2^2-V1^2)/2000+g*(z2-z1)/1000) //work done per unit mass of the steam flowing through the turbine in kJ/kg\n",
"m=5000/wout //mass flow rate of steam in kg/s\n",
"printf('\n The value of dh is = %.2f kJ/kg. \n',dh);\n",
"printf('\n The value of dke is = %.2f kJ/kg. \n',dke);\n",
"printf('\n The value of dpe is = %.2f kJ/kg. \n',dpe);\n",
"printf('\n The work done per unit mass of the steam flowing through the turbine is = %.2f kJ/kg. \n',wout);\n",
"printf('\n The mass flow rate of the steam is = %.2f kg/s. \n',m);"
   ]
   }
,
{
		   "cell_type": "markdown",
		   "metadata": {},
		   "source": [
			"## Example 5.8: Expansion_of_refrigant_134a_in_refrigerator.sce"
		   ]
		  },
  {
"cell_type": "code",
	   "execution_count": null,
	   "metadata": {
	    "collapsed": true
	   },
	   "outputs": [],
"source": [
"//example 8\n",
"// expansion of refrigant 134-a in refrigerator\n",
"clear\n",
"clc\n",
"disp('Refrigerant-134a that enters a capillary tube as saturated liquid.Therefore,from table of refrigerant-134a ')\n",
"P1=0.8  // initial pressure in MPa\n",
"T1=31.31 //initial temp. in Celsius\n",
"h1=95.47 //initial specific enthalpy in kJ/kg\n",
"disp('Flow through a capillary tube is a throttling process. Thus, the enthalpy of the refrigerant remains constant')\n",
"h2=h1 //final specific enthalpy \n",
"P2=0.12 //final pressure in MPa\n",
"T2=-22.32 //final temp. in Celsius\n",
"hf=22.49 // in kJ/kg\n",
"hg=236.97 // in kJ/kg\n",
"hfg=hg-hf //in kJ/kg\n",
"disp('Obviously hf<h2<hg  thus, the refrigerant exists as a saturated mixture at the exit state')\n",
"disp('Thus quality at this state is')\n",
"x=(h2-hf)/hfg\n",
"dT=T2-T1 //in Celsius\n",
"printf('\n The quality of the refrigerant at the final state is = %.3f. \n',x);\n",
"printf('\n The temp. drop during this process is = %.2f C. \n',dT);"
   ]
   }
,
{
		   "cell_type": "markdown",
		   "metadata": {},
		   "source": [
			"## Example 5.9: Mixing_of_Hot_and_Cold_Waters_in_a_Shower.sce"
		   ]
		  },
  {
"cell_type": "code",
	   "execution_count": null,
	   "metadata": {
	    "collapsed": true
	   },
	   "outputs": [],
"source": [
"//example 9\n",
"//Mixing of Hot and Cold Waters in a Shower\n",
"clear\n",
"clc\n",
"disp('We take the chamber as system.Then,there are two inlets and one exit ')\n",
"h3=78.02 //enthalpy at 110 F in Btu/lbm\n",
"h2=18.07 //enthalpy at 50 F in Btu/lbm\n",
"h1=107.99 //enthalpy at 140F in Btu/lbm\n",
"y=(h3-h2)/(h1-h3) //mass ratio of hot to cold water \n",
"printf('\n The mass ratio of hot to cold water is = %.1f . \n',y);"
   ]
   }
],
"metadata": {
		  "kernelspec": {
		   "display_name": "Scilab",
		   "language": "scilab",
		   "name": "scilab"
		  },
		  "language_info": {
		   "file_extension": ".sce",
		   "help_links": [
			{
			 "text": "MetaKernel Magics",
			 "url": "https://github.com/calysto/metakernel/blob/master/metakernel/magics/README.md"
			}
		   ],
		   "mimetype": "text/x-octave",
		   "name": "scilab",
		   "version": "0.7.1"
		  }
		 },
		 "nbformat": 4,
		 "nbformat_minor": 0
}
