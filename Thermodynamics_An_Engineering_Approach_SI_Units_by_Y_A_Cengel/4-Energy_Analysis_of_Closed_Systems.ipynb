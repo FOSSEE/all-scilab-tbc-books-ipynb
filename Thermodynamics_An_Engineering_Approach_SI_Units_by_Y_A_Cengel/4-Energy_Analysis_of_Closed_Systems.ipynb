{
"cells": [
 {
		   "cell_type": "markdown",
	   "metadata": {},
	   "source": [
       "# Chapter 4: Energy Analysis of Closed Systems"
	   ]
	},
{
		   "cell_type": "markdown",
		   "metadata": {},
		   "source": [
			"## Example 4.10: Heating_of_a_Gas_at_Constant_Pressure.sce"
		   ]
		  },
  {
"cell_type": "code",
	   "execution_count": null,
	   "metadata": {
	    "collapsed": true
	   },
	   "outputs": [],
"source": [
"//ques10\n",
"//Heating of a Gas at Constant Pressure\n",
"clear\n",
"clc\n",
"//(a) The final temperature can be determined by using the ideal-gas relation b/w state 1 and 3\n",
"P1=150//pressure at state 1 in kPa\n",
"P3=350//pressure at state 2 in kPa\n",
"T1=300//temperature at state 1 in K\n",
"//V3=2*V1\n",
"//T3=P3*V3/(P1*V1)*T1;\n",
"T3=P3*2/P1*T1;//temperature at state 2 in K\n",
"printf('(a) Final Temperature = %.0f K \n',T3);\n",
"\n",
"//(b) The work done is area under the process curve on P-V diagram\n",
"V2=0.8//Volume at state 2 in m^3\n",
"V1=0.4//volume at state 1 in  m^3\n",
"P2=350//pressure at state 2 in kPa\n",
"W13=(V2-V1)*P2;//workdone for process 1-3 in kJ\n",
"printf(' (b) Work Done = %.0f kJ  \n',W13'); \n",
"\n",
"//(c) Mass of the system can be determined by ideal gas equation\n",
"R=0.287//gas constant for a given substance water in kJ/mol.K\n",
"m=P1*V1/(R*T1)//mass in kg\n",
"//from Table A-7\n",
"u1=214.07//internal energy at state 1 in kJ/kg @300K\n",
"u2=1113.52//internal energy at state 2 in kJ/kg @1400K\n",
"//from energy equation\n",
"Qout=140//heat output in kJ\n",
"Qin=Qout+m*(u2-u1);//heat input in kJ\n",
"printf(' (c) Heat input = %.0f kJ',Qin);\n",
""
   ]
   }
,
{
		   "cell_type": "markdown",
		   "metadata": {},
		   "source": [
			"## Example 4.11: Enthalpy_of_Compressed_Liquid.sce"
		   ]
		  },
  {
"cell_type": "code",
	   "execution_count": null,
	   "metadata": {
	    "collapsed": true
	   },
	   "outputs": [],
"source": [
"//ques11\n",
"//Enthalpy of Compressed Liquid\n",
"clear\n",
"clc\n",
"//the water exists as a compressed liquid at the specified state\n",
"//(a) using compressed liquid table\n",
"P=15000;//pressure in kPa\n",
"T=100;//temperature in C\n",
"h=430.39;//heat of water in kJ/kg from Table A-7\n",
"printf('(a) Heat of water using compressed liquid table = %.2f kJ/kg \n',h);\n",
"\n",
"//(b) Approximating the compressed liquid as a saturated liquid at 100�C\n",
"h=419.17;//heat of water at liquid state in kJ/Kg ie hf @ 100C\n",
"printf(' (b) Heat of Water by approximating compressed liquid as saturated = %.2f kJ/kg \n',h);\n",
"\n",
"//(c) Using correction method\n",
"vf=0.001//specific volume of water in saturated liquid state @100C\n",
"Psat=101.42//saturated pressure in kPa from Table \n",
"h=h+vf*(P-Psat)//corrected value of heat of water at given state in kJ/kg\n",
"printf(' (c) Heat of water using correction method = %.2f kJ/kg ',h);"
   ]
   }
,
{
		   "cell_type": "markdown",
		   "metadata": {},
		   "source": [
			"## Example 4.12: Cooling_of_an_Iron_Block_by_Water.sce"
		   ]
		  },
  {
"cell_type": "code",
	   "execution_count": null,
	   "metadata": {
	    "collapsed": true
	   },
	   "outputs": [],
"source": [
"//ques12\n",
"//Cooling of an Iron Block by Water\n",
"clear\n",
"clc\n",
"V=0.5//volume in m^3\n",
"v=0.001//specific volume of water in m^3/Kg\n",
"m=V/v//mass in kg\n",
"//dUiron+dUwater=0 ie change in internal energy of system = 0\n",
"//mi*Ci*(T2-T1i)+mw*Cw*(T2-T1w)=0\n",
"mi=50//mass of ice in Kg\n",
"mw=500//mass of water in Kg\n",
"Ci=0.45//specific heat of ice in kJ/mol\n",
"Cw=4.18//specific heat of water in kJ/mol\n",
"T1i=80//initial temperature of ice in C\n",
"T1w=25//initial temperature of water in C\n",
"T2=(mi*Ci*T1i+mw*Cw*T1w)/(mi*Ci+mw*Cw);//final temperature of mixture in C\n",
"printf(' Final temperature = %.1f C ',T2);"
   ]
   }
,
{
		   "cell_type": "markdown",
		   "metadata": {},
		   "source": [
			"## Example 4.2: Boundary_Work_for_a_Constant_Pressure_Process.sce"
		   ]
		  },
  {
"cell_type": "code",
	   "execution_count": null,
	   "metadata": {
	    "collapsed": true
	   },
	   "outputs": [],
"source": [
"//ques2\n",
"//Boundary Work for a Constant Pressure Process\n",
"clear\n",
"clc\n",
"m=10//mass in lbm\n",
"P=60//pressure in psia\n",
"//from table A-6 E\n",
"v2=8.3548//specific volume at state 1 in Kg/m^3\n",
"v1=7.4863//specific volume at state 2 in Kg/m^3\n",
"w=integrate('m*P','v',v1,v2)/5.404; //divided by 5.404 to convert it into Btu\n",
"printf('Work done by steam = %.2f Btu',w);"
   ]
   }
,
{
		   "cell_type": "markdown",
		   "metadata": {},
		   "source": [
			"## Example 4.3: Isothermal_Compression_of_an_Ideal_Gas.sce"
		   ]
		  },
  {
"cell_type": "code",
	   "execution_count": null,
	   "metadata": {
	    "collapsed": true
	   },
	   "outputs": [],
"source": [
"//ques3\n",
"//Isothermal Compression of an Ideal Gas\n",
"clc\n",
"P1=100//Initial Pressure in kPa\n",
"V1=0.4;//Initial Volume in m^3\n",
"V2=0.1;//final Volume in m^3\n",
"w=P1*V1*log(V2/V1);//work done for Isothermal process in kJ \n",
"printf('Work done = %.1f kJ',w);"
   ]
   }
,
{
		   "cell_type": "markdown",
		   "metadata": {},
		   "source": [
			"## Example 4.4: Expansion_of_a_Gas_against_a_spring.sce"
		   ]
		  },
  {
"cell_type": "code",
	   "execution_count": null,
	   "metadata": {
	    "collapsed": true
	   },
	   "outputs": [],
"source": [
"//ques4\n",
"//Expansion of a Gas against a spring\n",
"clear\n",
"clc\n",
"V1=0.05//initial volume in m^3\n",
"V2=2*V1//final volume in m^3\n",
"A=0.25//area of cross section in m^2\n",
"k=150//spring constant in kN/m\n",
"//(a)\n",
"x=(V2-V1)/A//displacement of piston in m\n",
"F=k*x//Spring force  in kN\n",
"P1=F/A//pressure in kPa due to piston\n",
"Po=200//initial pressure in kPa\n",
"P=P1+Po;//final pressure in kPa\n",
"printf('\n(a) Final pressure = %.0f kPa\n',P);\n",
"//(b)\n",
"w=(Po+P)/2*(V2-V1);//in kJ\n",
"printf('(b) Work done = %.0f kJ\n',w);\n",
"//(c)\n",
"wspring=(P-Po)/2*V1;\n",
"printf('(c) Fraction of work done by spring = %.0f kJ\n',wspring);"
   ]
   }
,
{
		   "cell_type": "markdown",
		   "metadata": {},
		   "source": [
			"## Example 4.5: Electric_Heating_of_a_Gas_at_Constant_Pressure.sce"
		   ]
		  },
  {
"cell_type": "code",
	   "execution_count": null,
	   "metadata": {
	    "collapsed": true
	   },
	   "outputs": [],
"source": [
"//ques5\n",
"//Electric Heating of a Gas at Constant Pressure\n",
"clear\n",
"clc\n",
"V=120//voltage in V\n",
"I=0.2//current in Ampere\n",
"t=300//time in sec\n",
"We=V*I*t/1000//work done in kJ\n",
"//1-initial condition\n",
"P1=400//kPa initial Pressure \n",
"V1=0.5//Volume in m^3\n",
"R=0.297//gas constant for water\n",
"T1=300//Temp in K\n",
"m=0.025;//mass in kg\n",
"//(a) From Energy equation We-Qout=dH=m(h2-h1)\n",
"//    i.e. h2=(We-Qout)/(m)+h1\n",
"//(b) Final Temperature\n",
"Qout=3.7//heat out in kJ\n",
"h1=2724.9//Initial Enthalpy in kJ/kg\n",
"h2=(We-Qout)/(m)+h1;//final Enthalpy in kJ/kg\n",
"//So from steam table A-6\n",
"T2=200;//Temp in C for P2=300kPa and h2\n",
"printf('Final Temperature T2 = %.0f C',T2);"
   ]
   }
,
{
		   "cell_type": "markdown",
		   "metadata": {},
		   "source": [
			"## Example 4.7: Evaluation_of_the_du_of_an_Ideal_Gas.sce"
		   ]
		  },
  {
"cell_type": "code",
	   "execution_count": null,
	   "metadata": {
	    "collapsed": true
	   },
	   "outputs": [],
"source": [
"//ques7\n",
"//Evaluation of the du of an Ideal Gas\n",
"clear\n",
"clc\n",
"//(a) One way of determining the change in internal energy of air is to read the values at T1 and T2 from Table A�17 and take the difference\n",
"u1=214.07;//internal energy in kJ @ 300K\n",
"u2=434.78;//Internal energy in kJ @ 600K\n",
"du=u2-u1;//Change in in internal energy in kJ\n",
"printf('(a) Change in Internal Energy(from air data table ) = %.2f kJ \n',du);\n",
"  \n",
"//(b) the functional form of the specific heat (Table A�2c)\n",
"//constant\n",
"a=28.11;\n",
"b=0.1967*10^-2;\n",
"c=0.4802*10^-5;\n",
"d=-1.966*10^-9;\n",
"Ru=8.314;//Universal gas constant\n",
"//Cp=a+b*T+c*T^2+d*T^3;\n",
"//Cv=Cp-Ru\n",
"T1=300;//Initial Temp in K\n",
"T2=600;//Final  temp in K\n",
"U=integrate('a-Ru+b*T+c*T^2+d*T^3','T',T1,T2);\n",
"M=28.97;//molicular mass\n",
"u=U/M;//specific internal energy in KJ/Kg\n",
"printf(' (b) Change in Internal Energy using functional form of the specific heat =  %.2f kJ\n',u);\n",
"\n",
"//(c)the average specific heat value (Table A�2b)\n",
"Tavg=(T1+T2)/2;//avg temp in K\n",
"Cv=0.733;//heat capacity at constant volume in kJ/K @Tavg from Table-2A\n",
"u=Cv*(T2-T1);//average change in internal energy in kJ/kg\n",
"printf(' (c) Change in Internal Energy using avg specific heat value = %.2f kJ/kg ',u);"
   ]
   }
,
{
		   "cell_type": "markdown",
		   "metadata": {},
		   "source": [
			"## Example 4.8: Heating_of_a_Gas_in_a_Tank_by_Stirring.sce"
		   ]
		  },
  {
"cell_type": "code",
	   "execution_count": null,
	   "metadata": {
	    "collapsed": true
	   },
	   "outputs": [],
"source": [
"//ques8\n",
"//Heating of a Gas in a Tank by Stirring\n",
"clear\n",
"clc\n",
"//(a)Final Temp\n",
"w=0.02//power in hp\n",
"t=0.5//time in hour\n",
"W=w*t*2545//paddle wheel work in  Btu\n",
"//As W=m*Cavg*(T2-T1) ie T2=W/(m*Cavg)+T1\n",
"m=1.5//mass in lbm\n",
"T1=80//temperature in F\n",
"Cavg=0.753//average specific heat at constt volume in Btu/F\n",
"T2=W/(m*Cavg)+T1;//Temp in F\n",
"printf('(a) Temperature = %.1f F\n',T2);\n",
"\n",
"//(b)The final pressure is determined from the ideal-gas relation\n",
"//P1V1/T1=P2V2/T2 temperature in rankine or kelvin\n",
"T1=T1+460//converted to R\n",
"T2=T2+460//converted to R\n",
"P1=50//preesure at 1st state in psia\n",
"P2=P1*T2/T1;//final Pressure in psia\n",
"printf(' (b) Final Pressure = %.1f psia',P2);"
   ]
   }
],
"metadata": {
		  "kernelspec": {
		   "display_name": "Scilab",
		   "language": "scilab",
		   "name": "scilab"
		  },
		  "language_info": {
		   "file_extension": ".sce",
		   "help_links": [
			{
			 "text": "MetaKernel Magics",
			 "url": "https://github.com/calysto/metakernel/blob/master/metakernel/magics/README.md"
			}
		   ],
		   "mimetype": "text/x-octave",
		   "name": "scilab",
		   "version": "0.7.1"
		  }
		 },
		 "nbformat": 4,
		 "nbformat_minor": 0
}
