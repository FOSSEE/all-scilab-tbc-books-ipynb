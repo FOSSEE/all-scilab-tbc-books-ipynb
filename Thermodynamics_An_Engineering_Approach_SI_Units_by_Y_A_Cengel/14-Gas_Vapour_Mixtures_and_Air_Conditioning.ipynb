{
"cells": [
 {
		   "cell_type": "markdown",
	   "metadata": {},
	   "source": [
       "# Chapter 14: Gas Vapour Mixtures and Air Conditioning"
	   ]
	},
{
		   "cell_type": "markdown",
		   "metadata": {},
		   "source": [
			"## Example 14.1: The_amonut_of_water_vapour_in_room_air.sce"
		   ]
		  },
  {
"cell_type": "code",
	   "execution_count": null,
	   "metadata": {
	    "collapsed": true
	   },
	   "outputs": [],
"source": [
"//example 1\n",
"// the amonut of water vapour in room air\n",
"clear\n",
"clc\n",
"disp('The constant-pressure specific heat of air at room temperature is')\n",
"cp=1.005 //Constant Pressure Specific Heat of air at room temperature in kJ/kg � K \n",
"T=25 //room temp. in Celsius\n",
"disp('For water at 25�C, we have ')\n",
"Pg=3.1698 //Saturation pressure in kPa\n",
"hg=2546.5 //Specific enthalpy  in kJ/kg\n",
"x=0.75 //humidity\n",
"Pv=x*Pg //Vapour pressure in kPa\n",
"P=100 // Pressure of air in room in kPa\n",
"Pa=P-Pv //partial pressure of dry air\n",
"w=(0.622*Pv)/(P-Pv) //specific humidity of air\n",
"h=cp*T+w*hg //enthalpy of dry air per unit mass\n",
"Ra=0.287 //gas constant for dry air in kPa-m^3/kg-K\n",
"Rv=0.4615 //gas constant for water vapour in kPa-m^3/kg-K\n",
"V=5*5*3 //volume of room in m^3\n",
"ma=(Pa*V)/(Ra*(T+273)) //mass of dry air \n",
"mv=(Pv*V)/(Rv*(T+273)) //mass of water vapour\n",
"printf('\n Hence, the partial pressure of dry air is = %.2f kPa. \n',Pa);\n",
"printf('\n The specific humidity is = %.4f . \n',w);\n",
"printf('\n The enthalpy per unit mass of dry air is = %.1f kJ/kg dry air. \n',h);\n",
"printf('\n The mass of dry air is = %.2f kg. \n',ma);\n",
"printf('\n The mass of water vapour is = %.2f kg. \n',mv);"
   ]
   }
,
{
		   "cell_type": "markdown",
		   "metadata": {},
		   "source": [
			"## Example 14.2: Fogging_of_the_windows_in_house.sce"
		   ]
		  },
  {
"cell_type": "code",
	   "execution_count": null,
	   "metadata": {
	    "collapsed": true
	   },
	   "outputs": [],
"source": [
"//example 2\n",
"// fogging of the windows in house \n",
"clear\n",
"clc\n",
"x=0.75 //relative humidity\n",
"P=2.3392 //saturation pressure of water at 20�C in kPa\n",
"Pv=x*P //Vapour pressure in kPa\n",
"disp('Saturation temp. of water at Pv=15.4 C.Therefore, ')\n",
"Tdp=15.4 //window temperature in Celsius\n",
"printf('\n Hence, window temperature at which moisture in the air start condensing on the inner surfaces of the windows is = %.1f C. \n',Tdp);"
   ]
   }
,
{
		   "cell_type": "markdown",
		   "metadata": {},
		   "source": [
			"## Example 14.3: The_Specific_and_Relative_Humidity_of_Air.sce"
		   ]
		  },
  {
"cell_type": "code",
	   "execution_count": null,
	   "metadata": {
	    "collapsed": true
	   },
	   "outputs": [],
"source": [
"//example 3\n",
"// The Specific and Relative Humidity of Air\n",
"clear\n",
"clc\n",
"disp('The saturation pressure of water is 1.7057 kPa at 15C, and 3.1698 kPa at 25 C')\n",
"T1=25 //dry bulb temperature in Celsius\n",
"T2=15 //wet bulb temperature in Celsius\n",
"hg1=2546.5 //in kJ/kg\n",
"hf2=62.9822 //in kJ/kg\n",
"cp=1.005 //Constant pressure specific heatof air at room temp. in  kJ/kg-K\n",
"hfg2=2465.4 //in kJ/kg\n",
"P2=101.325 // Atmospheric pressure in kPa\n",
"Pg2=1.7057 //Saturation pressure of water at 15C in kPa\n",
"w2=0.622*Pg2/(P2-Pg2) //kg water/kg dry air\n",
"w1=(cp*(T2-T1)+w2*hfg2)/(hg1-hf2) //specific humidity\n",
"Pg1=3.1698 //Saturation pressure of water at 25C in kPa\n",
"o1=w1*P2/((0.622+w1)*Pg1) //relative huumidity\n",
"h1=cp*T1+w1*hg1 //enthalpy of air per unit mass of dry air\n",
"printf('\n Hence, the specific humidity is = %.5f kg H2o/kg dry air. \n',w1);\n",
"printf('\n The relative humidity = %.3f . \n',o1);\n",
"printf('\n The Enthalpy of air per unit mass of dry air is = %.1f kJ/kg dry air. \n',h1);"
   ]
   }
,
{
		   "cell_type": "markdown",
		   "metadata": {},
		   "source": [
			"## Example 14.4: The_Use_of_the_Psychrometric_Chart.sce"
		   ]
		  },
  {
"cell_type": "code",
	   "execution_count": null,
	   "metadata": {
	    "collapsed": true
	   },
	   "outputs": [],
"source": [
"//example 4\n",
"// The Use of the Psychrometric Chart\n",
"clear\n",
"clc\n",
"disp('At a given total pressure, the state of atmospheric air is completely specifiedby two independent properties such as the dry-bulb temperature and the relative humidity. Other properties are determined by directly reading their values at the specified state.')\n",
"disp('The specific humidity is determined by drawing a horizontal line from the specified state to the right until it intersects with the v axis')\n",
"v=0.0142 // in kg water/kg dry air\n",
"disp('The enthalpy of air per unit mass of dry air is determined by drawing a line parallel to the h=constant lines from the specific state until it intersects the enthalpy scale, giving')\n",
"h=71.5 // in kJ/kg dry air\n",
"disp('The wet-bulb temperature is determined by drawing a line parallel to the Twb=constant lines from the specified state until it intersects the saturation line, giving')\n",
"Twb=24 // in Celsius\n",
"disp('The dew-point temperature is determined by drawing a horizontal line from the specified state to the left until it intersects the saturation line, giving')\n",
"Tdp=19.4// in Celsius\n",
"disp('The specific volume per unit mass of dry air is determined by noting the distances between the specified state and the v=constant lines on both sides of the point. The specific volume is determined by visual interpolation to be')\n",
"v=0.893 // in m3/kg dry air"
   ]
   }
,
{
		   "cell_type": "markdown",
		   "metadata": {},
		   "source": [
			"## Example 14.5: Heating_and_Humidification_of_Air.sce"
		   ]
		  },
  {
"cell_type": "code",
	   "execution_count": null,
	   "metadata": {
	    "collapsed": true
	   },
	   "outputs": [],
"source": [
"//example 5\n",
"//Heating and Humidification of Air\n",
"clear\n",
"clc\n",
"disp('This is a steady-flow process and thus the mass flow rate of dry air remains constant during the entire process.We take the system to be the heating or the humidifying section,as appropriate.')\n",
"o1=0.3 //relative humidity\n",
"Psat=1.2281 //Saturation pressure of water in kPa at 10C\n",
"P1=100 //Pressure at which entire process takes in kPa\n",
"Pv1=0.3682 //Vapour pressure of water in kPa\n",
"Ra=0.287 // Gas constant for air in kPa-m3/kg-K\n",
"T1=10 // Temp. of outdoor air in K\n",
"Pa=P1-Pv1 // Pressure of dry air in kPa\n",
"V1=Ra*(T1+273)/Pa // specific volume of dry air in m^3/kg\n",
"v1=45 //steady intake of outdoor air in m^3/min\n",
"ma=v1/V1 //mass flow rate of dry air in kg/min\n",
"w1=0.622*Pv1/(P1-Pv1)//kg water/kg dry air\n",
"cp=1.005 //constant pressure specific heat in kJ/kg-�C\n",
"hg1=2519.2 //in kJ/kg\n",
"T2=22 //temp. in celsius (given) \n",
"w2=w1\n",
"hg2=2541 //specific enthalpy of saturated water vaporin at 22 C in kJ/kg\n",
"h1=cp*T1+w1*hg1 //kJ/kg dry air \n",
"h2=cp*T2+w2*hg2 //kJ/kg dry air\n",
"qin=ma*(h2-h1) //rate of heat transfer to air in the heating section\n",
"x3=0.60 //relative humidity\n",
"Pg3=3.1698 //saturation pressure of water at 25C in kPa\n",
"P3=100 //pressure of entire process in kPa\n",
"w3=0.622*x3*Pg3/(P3-x3*Pg3)//kg water/kg dry air\n",
"mw=ma*(w3-w2) //required mass flow rate of the steam in the humidifying section in kg/min\n",
"printf('\n Hence, the rate of heat supply in the heating section is=%.0f kJ/min. \n',qin);\n",
"printf('\n The mass flow rate of the steam required in the humidifying section is=%.3f kg/min\n',mw);\n",
""
   ]
   }
,
{
		   "cell_type": "markdown",
		   "metadata": {},
		   "source": [
			"## Example 14.6: Cooling_and_Dehumidification_of_Air.sce"
		   ]
		  },
  {
"cell_type": "code",
	   "execution_count": null,
	   "metadata": {
	    "collapsed": true
	   },
	   "outputs": [],
"source": [
"//example 6\n",
"//Cooling and Dehumidification of Air\n",
"clear\n",
"clc\n",
"disp('This is a steady-flow process and thus the mass flow rate of dry air remains constant during the entire process')\n",
"h1=85.4 //Specific enthalpy for state 1 in kJ/kg dry air \n",
"w1=0.0216 //kg water/kg dry air \n",
"v1=0.889 //Specific volume for state 1 in m3/kg dry air\n",
"h2=39.3 // Specific enthalpy for state 2 in kJ/kg dry air\n",
"w2=0.0100 //kg water/kg dry air\n",
"V1=10 //volume flow rate of air in m^3/min\n",
"hw=58.8 //enthalpy of saturated liquid water at 14�C in kJ/kg\n",
"ma=V1/v1 //mass flow rate of dry air in kg/min\n",
"mw=ma*(w1-w2) //rate of moisture removal in m^3/min\n",
"qout=ma*(h1-h2)-mw*hw //rate of heat removal from air in kJ/min\n",
"printf('\n Hence, the rate of moisture removal from dry air is = %.3f kg/min. \n',mw);\n",
"printf('\n and rate of heat removal is = %.0f kJ/min. \n',qout);"
   ]
   }
,
{
		   "cell_type": "markdown",
		   "metadata": {},
		   "source": [
			"## Example 14.8: Mixing_of_Conditioned_Air_with_Outdoor_Air.sce"
		   ]
		  },
  {
"cell_type": "code",
	   "execution_count": null,
	   "metadata": {
	    "collapsed": true
	   },
	   "outputs": [],
"source": [
"//example 8\n",
"//Mixing of Conditioned Air with Outdoor Air\n",
"clear\n",
"clc\n",
"disp('The properties of each inlet stream are determined from the psychrometric chart to be')\n",
"v2=0.889 //Specific volume of outside air in m3/kg dry air\n",
"w2=0.0182  //properties of stream 2 in kg water/kg dry air\n",
"h2=79.0 //Specific enthalpy of outside air in kJ/kg dry air\n",
"v1=0.826 //Specific volume of saturated air in m3/kg dry air\n",
"w1=0.010 //in kg water/kg dry air\n",
"h1=39.4 //Specific enthalpy for stream 1 in in kJ/kg dry air\n",
"V1=50 //flow rate of saturated air in m^3/min\n",
"V2=20 //flow rate for stream 2 in  m^3/min\n",
"ma1=V1/v1 //mass flow rate for stream 1 in kg/min\n",
"ma2=V2/v2 //mass flow rate for stream 2 in kg/min\n",
"ma3=ma1+ma2 //mass balance of air in kg/min\n",
"disp('using the expression ma1/ma2=(w2-w3)/(w3-w1)=(h2-h3)/(h3-h1)')\n",
"w3=0.0122 //kg water/kg dry air\n",
"h3=50.1 //kJ/kg dry air\n",
"disp('These two properties fix the state of the mixture. Other properties of the mixture are determined from the psychrometric chart:')\n",
"T3=19.0 //dry bulb temp. in �C\n",
"x3=0.89//relative humidity of mixture \n",
"v3=0.844 //Specific volume of mixture in m3/kg\n",
"V3=ma3*v3 //volume flow rate of the mixture in m^3/min\n",
"printf('\n Hence, the specific humidity of the mixture is = %.4f kg H2o/kg dry air. \n',w3);\n",
"printf('\n The dry bulb temp.  is = %.1f C. \n',T3);\n",
"printf('\n The volume flow rate of the mixture is = %.1f kg H2o/kg dry air. \n',V3);"
   ]
   }
,
{
		   "cell_type": "markdown",
		   "metadata": {},
		   "source": [
			"## Example 14.9: Cooling_of_a_Power_Plant_by_a_Cooling_Tower.sce"
		   ]
		  },
  {
"cell_type": "code",
	   "execution_count": null,
	   "metadata": {
	    "collapsed": true
	   },
	   "outputs": [],
"source": [
"//example 9\n",
"//Cooling of a Power Plant by a Cooling Tower\n",
"clear\n",
"clc\n",
"h1=42.2 // Specific enthalpy of dry air in kJ/kg \n",
"w1=0.0087 //kg water/kg dry air\n",
"v1=0.842 //specific volume of dry air in m3/kg\n",
"h2=100.0 //Specific enthalpy of leaving air in kJ/kg \n",
"w2=0.0273 //kg water/kg dry air\n",
"h3=146.64 //Specific enthalpy of warm water in kJ/kg\n",
"h4=92.28 //Specific enthalpy of cool water in kJ/kg\n",
"M3=100 //mass flow rate of warm water in kg/s\n",
"Ma=M3*(h3-h4)/((h2-h1)-(w2-w1)*h4) //in m^3/s\n",
"V1=Ma*v1//volume flow rate of air into the cooling tower in m^3/s\n",
"Mmakeup=Ma*(w2-w1) //mass flow rate of required makeup water in kg/s\n",
"printf('\n Hence, the mass flow rate of required makeup water= %.2f kg /s. \n',V1);\n",
"printf('\n the volume flow rate of air into the cooling tower = %.2f m^3/s. \n',Mmakeup);"
   ]
   }
],
"metadata": {
		  "kernelspec": {
		   "display_name": "Scilab",
		   "language": "scilab",
		   "name": "scilab"
		  },
		  "language_info": {
		   "file_extension": ".sce",
		   "help_links": [
			{
			 "text": "MetaKernel Magics",
			 "url": "https://github.com/calysto/metakernel/blob/master/metakernel/magics/README.md"
			}
		   ],
		   "mimetype": "text/x-octave",
		   "name": "scilab",
		   "version": "0.7.1"
		  }
		 },
		 "nbformat": 4,
		 "nbformat_minor": 0
}
