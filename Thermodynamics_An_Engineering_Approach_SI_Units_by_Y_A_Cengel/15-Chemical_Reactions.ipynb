{
"cells": [
 {
		   "cell_type": "markdown",
	   "metadata": {},
	   "source": [
       "# Chapter 15: Chemical Reactions"
	   ]
	},
{
		   "cell_type": "markdown",
		   "metadata": {},
		   "source": [
			"## Example 15.11: Second_law_analysis_of_isothermal_combustion.sce"
		   ]
		  },
  {
"cell_type": "code",
	   "execution_count": null,
	   "metadata": {
	    "collapsed": true
	   },
	   "outputs": [],
"source": [
"//example 11\n",
"//second law analysis of isothermal combustion\n",
"clear\n",
"clc\n",
"Pv=3.1698 //Partial pressure of water vapour in kPa\n",
"Ptotal=101.325 //Total pressure of products in kPa\n",
"x=Pv/Ptotal \n",
"Nv=x*13.28/(1-x) //amount of water vapour in kmol\n",
"Qout=1*(-74850)-1*(-393520)-0.43*(-241820)-1.57*(-285830) //Heat transfer per kmol of CH4\n",
"Sprod=2845.35 //Total entropy of products in kJ/kmol-K\n",
"Sreact=3023.69 //Total entropy of reactants in kJ/kmol-K\n",
"Tsurr=298 //Temperature of surroundings in K\n",
"Sgen=Sprod-Sreact+Qout/Tsurr //Entropy generation during the process in kJ/kmol-K CH4\n",
"To=298 //K\n",
"Xdestroyed=To*Sgen //exergy destruction in kJ/kmol CH4\n",
"Wrev=Xdestroyed //reversible work associated with the process \n",
"printf('\n The heat transfer per kmol of CH4 is = %.0f kJ/kmol CH4. \n',Qout);\n",
"printf('\n The Entropy generation is = %.0f kJ/kmol-K CH4. \n',Sgen);\n",
"printf('\n The Exergy destruction is = %.0f MJ/kmol CH4. \n',Xdestroyed/1000);\n",
"printf('\n The reversible work is = %.0f MJ/kmol CH4. \n',Wrev/1000);"
   ]
   }
,
{
		   "cell_type": "markdown",
		   "metadata": {},
		   "source": [
			"## Example 15.1: Balancing_the_Combustion_Equation.sce"
		   ]
		  },
  {
"cell_type": "code",
	   "execution_count": null,
	   "metadata": {
	    "collapsed": true
	   },
	   "outputs": [],
"source": [
"//example 1\n",
"//Balancing the Combustion Equation\n",
"clear\n",
"clc\n",
"Mair=28.97 //Molar mass of air in kg/kmol\n",
"x=8 //no. of moles of CO2 in products\n",
"y=9 //no. of moles of H2O in products\n",
"z=7.5 //no. of moles of O2 in products\n",
"w=75.2 // no. of moles of N2 in products\n",
"NMair=20*4.76*29 //mass of air in kg\n",
"NMc=8*12 //mass of carbon in fuel in kg\n",
"NMh2=2*9 //mass of hydrogen in fuel in kg\n",
"AF=NMair/(NMc+NMh2) //air fuel ratio in kg air/kg fuel\n",
"printf('\n Hence, the air fuel ratio for this combustion process is = %.1f kg air/kg fuel. \n',AF);"
   ]
   }
,
{
		   "cell_type": "markdown",
		   "metadata": {},
		   "source": [
			"## Example 15.2: Dew_Point_Temperature_of_Combustion_Products.sce"
		   ]
		  },
  {
"cell_type": "code",
	   "execution_count": null,
	   "metadata": {
	    "collapsed": true
	   },
	   "outputs": [],
"source": [
"//example 2\n",
"//Dew-Point Temperature of Combustion Products\n",
"clear\n",
"clc\n",
"mair=4.2*4.76*29 //mass of air in kg\n",
"mfuel=2*12+3*2 //mass of fuel in kg\n",
"AF=mair/mfuel //air-fuel ratio\n",
"Nv=3 //no. of kmol of water vapour\n",
"Nprod=21.49 //No. of kmol of products \n",
"Pprod=100 //No. of kmol of products in kPa\n",
"Pv=Nv*Pprod/Nprod //Partial pressure of water vapour in kPa\n",
"disp('therefore,Dew point temp. of products =Saturation temp. at Pv')\n",
"Tdp=52.3//Dew point temp. of products in �C\n",
"printf('\n Hence, the Air fuel ratio is = %.1f kg air/kg fuel. \n',AF);\n",
"printf('\n and dew point temp. of products is = %.1f C. \n',Tdp);"
   ]
   }
,
{
		   "cell_type": "markdown",
		   "metadata": {},
		   "source": [
			"## Example 15.3: Combustion_of_a_Gaseous_Fuel_with_Moist_Air.sce"
		   ]
		  },
  {
"cell_type": "code",
	   "execution_count": null,
	   "metadata": {
	    "collapsed": true
	   },
	   "outputs": [],
"source": [
"//example 3\n",
"//Combustion of a Gaseous Fuel with Moist Air\n",
"clear\n",
"clc\n",
"x=0.75 //no. of moles of CO2 in the product\n",
"y=1.53 //no. of moles of H2O in the product\n",
"z=5.648 //no. of moles of N2 in the product\n",
"o=0.8 //relative humidity\n",
"Psat=2.3392 //Saturation pressure of water at 20C in kPa\n",
"Pvair=o*Psat //partial pressure of moisture in air\n",
"Ptotal=101.325 //Total pressure in kPa\n",
"Ndryair=6.97 //no.of kmol of dry air\n",
"Nvair=Pvair*Ndryair/(Ptotal*(1-Pvair/Ptotal)) //no. of moles of moisture in air\n",
"Ntotal=Nvair+Ndryair //total no.of kmol \n",
"Pprod=101.325 //Pressure of products in kPa\n",
"Nvprod=y+0.131 //no. of kmol of H2O in products\n",
"Nprod=x+z+Nvprod //no. of kmol of products\n",
"Pvprod=Nvprod*Pprod/Nprod //partial pressure of water vapour in the combustion gases\n",
"disp('The dew-point temperature of the products is equal the saturation temp. of water at P=Pvprod. Therefore,')\n",
"Tdp=60.9 //in C\n",
"printf('\n Hence, the dew point temp. of products is = %.1f C. \n',Tdp);"
   ]
   }
,
{
		   "cell_type": "markdown",
		   "metadata": {},
		   "source": [
			"## Example 15.4: Reverse_Combustion_Analysis.sce"
		   ]
		  },
  {
"cell_type": "code",
	   "execution_count": null,
	   "metadata": {
	    "collapsed": true
	   },
	   "outputs": [],
"source": [
"///example 4\n",
"//Reverse Combustion Analysis\n",
"clear\n",
"clc\n",
"a=22.20 //No. of kmol of dry air\n",
"x=1.36 //No. of kmol of octane \n",
"b=12.24 //No. of kmol of H2O\n",
"mair=16.32*4.76*29 //mass of air in kg\n",
"mfuel=8*12+9*2 //mass of fuel in kg\n",
"AF=mair/mfuel //air  fuel ratio kg air/kg fuel\n",
"mairact=4.76*16.32 //actual amount of air in kmol\n",
"mairth=12.50*4.76 //Theoretical amount of air mol\n",
"p=mairact/mairth //percentage of theoretical air\n",
"Pv=3.198 //Partial pressure of water vapour in kPa\n",
"Pprod=100 //Pressure of products in kPa\n",
"Nw=(900-82.53*Pv)/(Pprod-Pv) //no. of kmol of water vapour\n",
"printf('\n Hence, the Air fuel ratio is = %.2f kg air/kg fuel. \n',AF);\n",
"printf('\n The precentage of theoretical air used is = %.0f . \n',p*100);\n",
"printf('\n The amount of H2O that is condensed as products are cooled is=%.2f kmol. \n',Nw);"
   ]
   }
,
{
		   "cell_type": "markdown",
		   "metadata": {},
		   "source": [
			"## Example 15.5: Evaluation_of_the_Enthalpy_of_Combustion.sce"
		   ]
		  },
  {
"cell_type": "code",
	   "execution_count": null,
	   "metadata": {
	    "collapsed": true
	   },
	   "outputs": [],
"source": [
"//example 5\n",
"//Evaluation of the Enthalpy of Combustion\n",
"clear\n",
"clc\n",
"hfCO2=-393520 //enthalpy of formation of CO2 in kJ/kmol\n",
"hfH2O=-285830 //enthalpy of formation of H2O in kJ/kmol\n",
"hfC8H18=-249950 //enthalpy of formation of octane in kJ/kmol \n",
"NCO2=8 //No. of kmol of CO2 \n",
"NH2O=9 //No. of kmol of H2O\n",
"NC8H18=1 //No. of kmol of C8H18\n",
"hc=NCO2*hfCO2+NH2O*hfH2O-NC8H18*hfC8H18 //Enthalpy of combustion of octane in kJ/kmol\n",
"hc=hc/114 //enthalpy of combustion in kJ/kg\n",
"printf('\n Hence, the enthalpy of combustion of liquid octane is = %.0f kg air/kg C8H18. \n',hc);"
   ]
   }
,
{
		   "cell_type": "markdown",
		   "metadata": {},
		   "source": [
			"## Example 15.6: First_Law_Analysis_of_Steady_Flow_Combustion.sce"
		   ]
		  },
  {
"cell_type": "code",
	   "execution_count": null,
	   "metadata": {
	    "collapsed": true
	   },
	   "outputs": [],
"source": [
"//example 6\n",
"//First-Law Analysis of Steady-Flow Combustion\n",
"clear\n",
"clc\n",
"mair=7.5*4.76*29 //mass of air in kg\n",
"mfuel=3*12+4*2 //mass of fuel in kg\n",
"AF=mair/mfuel //air fuel ratio\n",
"Mfuel=0.05 //Mass flow rate of fuel in kg/min\n",
"Mair=AF*Mfuel //mass flow rate of air in kg/min\n",
"qout=1*(-118910)+7.5*(8150-8682)+28.2*(0+8141-8669)-2.7*(-393520+71078 -9364)-0.3*(-110530+47517-8669)-4*(-241820+57999-9904)-2.65*(0+49292-8682)-28.2*(0+47073-8669) //in kJ/kmol C3H8\n",
"disp('This heat is transferred from the combustion chamber for each kmol (44kg) of propane.therefore qout = qout/44 kJ/kg')\n",
"qout=qout/44 //in kJ/kg propane\n",
"M=0.05 //mass flow rate of liquid propane in kg/min\n",
"Qout=M*qout //rate of heat transfer in kJ/min\n",
"Qout=Qout/60 //rate of heat reansfer in kW\n",
"printf('\n Hence, the mass flow rate of air is = %.2f kg/min. \n',Mair);\n",
"printf('\n and the rate of heat transfer from combustion chamber is = %.2f kW. \n',Qout);"
   ]
   }
,
{
		   "cell_type": "markdown",
		   "metadata": {},
		   "source": [
			"## Example 15.7: First_law_anlysis_of_combustion_in_bomb.sce"
		   ]
		  },
  {
"cell_type": "code",
	   "execution_count": null,
	   "metadata": {
	    "collapsed": true
	   },
	   "outputs": [],
"source": [
"//example 7\n",
"//first law anlysis of combustion in bomb\n",
"clear\n",
"clc\n",
"Preact=1 //initial pressure in atm\n",
"Nreact=4 //Mo. of lbmol of reactants\n",
"Treact=537 //Temp. of reactants in R\n",
"Nprod=4 //No. of lbmol of products\n",
"Tprod=1800 //Temp. of products in R\n",
"Pprod=Preact*Nprod*Tprod/(Nreact*Treact) //final pressure of products in atm\n",
"Qout=1*(-32210-(1.986*537))+3*(0-1.986*537)-1*(-169300+18391.5-4027.5-(1.986*1800))-2*(-104040+15433.0-4258.0-(1.986*1800))-1*(0+13485.8-3725.1-(1.986*1800)) //Heat transfer during the process in Btu/lbmol CH4\n",
"printf('\n Hence, the final pressure in the tank is = %.2f atm. \n',Pprod);\n",
"printf('\n The heat transfer during the process is = %.0f Btu/lbmol CH4. \n',Qout);"
   ]
   }
,
{
		   "cell_type": "markdown",
		   "metadata": {},
		   "source": [
			"## Example 15.8: Adiabatic_Flame_Temperature_in_Steady_Combustion.sce"
		   ]
		  },
  {
"cell_type": "code",
	   "execution_count": null,
	   "metadata": {
	    "collapsed": true
	   },
	   "outputs": [],
"source": [
"//example 8\n",
"//Adiabatic Flame Temperature in Steady Combustion\n",
"clear\n",
"clc\n",
"hfC8H18=-249950 //in kJ/kmol\n",
"hfO2=0 //in kJ/kmol\n",
"hO2=8682 //in kJ/kmol\n",
"hfN2=0 //in kJ/kmol\n",
"hN2=8669 //in kJ/kmol\n",
"hfH2O=-241820 //in kJ/kmol\n",
"hH2O=9904 //in kJ/kmol\n",
"hfCO2=-393520 //in kJ/kmol\n",
"hCO2=9364 //in kJ/kmol\n",
"Hprod=8*hfCO2+9*hfH2O+47*hfN2 //in kJ\n",
"Hmol=Hprod/(8+9+47) //enthalpy per mole\n",
"disp('This enthalpy value corresponds to about 2650 K for N2, 2100 K for H2O, and 1800 K for CO2. But since, the majority of the moles are N2, we see that Tprod should be close to 2650 K, but somewhat under it.')\n",
"disp('For 2400 K, the value is higher than actual Hprod and for 2350 K, it is lower than that value.By interpolation, it comes out to be Tprod=2395 K')\n",
"Tprod=2395 //in K\n",
"printf('\n Hence,The adiabatic flame temperature for complete combustion with 100 percent theoretical air is=%.0f K. \n',Tprod);\n",
"disp('Similarily, the adiabatic flame temperature for complete combustion with 400 percent theoretical air is 962 K and with 90% theoretical air is 2236 K.')"
   ]
   }
,
{
		   "cell_type": "markdown",
		   "metadata": {},
		   "source": [
			"## Example 15.9: Reversible_work_associated_with_combustion_process.sce"
		   ]
		  },
  {
"cell_type": "code",
	   "execution_count": null,
	   "metadata": {
	    "collapsed": true
	   },
	   "outputs": [],
"source": [
"//example 9\n",
"//reversible work associated with combustion process\n",
"clear\n",
"clc\n",
"NCO2=1 //mass of CO2 in lbmol\n",
"gfCO2=-169680 //Enthalpy of formation for CO2 in Btu/lbmol\n",
"Wrev=-NCO2*gfCO2 //Reversible work for the given prcess in Btu\n",
"printf('\n Hence, the reversible work for this process is = %.0f Btu. \n',Wrev);"
   ]
   }
],
"metadata": {
		  "kernelspec": {
		   "display_name": "Scilab",
		   "language": "scilab",
		   "name": "scilab"
		  },
		  "language_info": {
		   "file_extension": ".sce",
		   "help_links": [
			{
			 "text": "MetaKernel Magics",
			 "url": "https://github.com/calysto/metakernel/blob/master/metakernel/magics/README.md"
			}
		   ],
		   "mimetype": "text/x-octave",
		   "name": "scilab",
		   "version": "0.7.1"
		  }
		 },
		 "nbformat": 4,
		 "nbformat_minor": 0
}
