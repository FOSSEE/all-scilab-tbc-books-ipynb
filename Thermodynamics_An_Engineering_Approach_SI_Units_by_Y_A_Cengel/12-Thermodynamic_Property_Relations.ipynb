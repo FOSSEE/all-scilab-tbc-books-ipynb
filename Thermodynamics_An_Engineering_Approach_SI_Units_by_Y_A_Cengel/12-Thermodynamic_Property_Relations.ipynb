{
"cells": [
 {
		   "cell_type": "markdown",
	   "metadata": {},
	   "source": [
       "# Chapter 12: Thermodynamic Property Relations"
	   ]
	},
{
		   "cell_type": "markdown",
		   "metadata": {},
		   "source": [
			"## Example 12.11: dh_and_ds_of_oxygen_at_high_pressure.sce"
		   ]
		  },
  {
"cell_type": "code",
	   "execution_count": null,
	   "metadata": {
	    "collapsed": true
	   },
	   "outputs": [],
"source": [
"//example 11\n",
"//dh and ds of Oxygen at High Pressures\n",
"clear\n",
"clc\n",
"T1=220 //Initial Temp. in K\n",
"P1=5 //Initial Pressure in MPa \n",
"T2=300 //Final Temp.in K \n",
"P2=10// Final Pressure in MPa\n",
"h2ideal=8736//in kJ/mol\n",
"h1ideal=6404 //in kJ/mol\n",
"Ru=8.314 //Universal Gas constant in kJ/kmol-K\n",
"s2o=205.213 //in kJ/kmol-K\n",
"s1o=196.1712 //in kJ/kmol-K\n",
"Tcr=154.8 //Critical Temp. in K\n",
"Pcr=5.08 //Critical Pressure in MPa\n",
"Tr1=T1/Tcr //Reduced initial temp. \n",
"Pr1=P1/Pcr //Reduced initial pressure \n",
"Tr2=T2/Tcr//Reduced final Temp.\n",
"Pr2=P2/Pcr //Reduced Final Pressure\n",
"Zh1=0.53\n",
"Zs1=0.25\n",
"Zh2=0.48\n",
"Zs2=0.20\n",
"dhi=h2ideal-h1ideal// Enthalpy change by assuming ideal gas behaviour\n",
"dhn=dhi-Ru*Tcr*(Zh2-Zh1) //Enthalpy change by accounting for deviation from ideal gas behaviour\n",
"dsi=s2o-s1o-Ru*log(P2/P1)// Entropy change by assuming ideal gas behaviour\n",
"dsn=dsi-Ru*(Zs2-Zs1)//Entropy change by accounting for deviation from ideal gas behaviour\n",
"printf(' Hence, by assuming ideal gas behaviour, enthalpy change is = %.0f kJ/kmol ',dhi);\n",
"printf('and entropy change is = %.2f kJ/kmol-K. ',dsi);\n",
"printf('\n By accounting for deviation from ideal gas behaviour, enthalpy change is=%.0f kJ/kmol ',dhn);\n",
"printf('and entropy change is = %.2f kJ/kmol-K. \n',dsn);"
   ]
   }
,
{
		   "cell_type": "markdown",
		   "metadata": {},
		   "source": [
			"## Example 12.1: Approximating_Differential_Quantities_by_Differences.sce"
		   ]
		  },
  {
"cell_type": "code",
	   "execution_count": null,
	   "metadata": {
	    "collapsed": true
	   },
	   "outputs": [],
"source": [
"//example 1\n",
"//Approximating Differential Quantities by Differences\n",
"clear\n",
"clc\n",
"h305=305.22 //Specific Enthalpy at 305 K in kJ/kg\n",
"h295=295.17 //Specific Enthalpy at 205 K in kJ/kg\n",
"dh=h305-h295 //Chnage in Specific Enthalpy\n",
"dT=305-295 //Change in Temp. in kelvins\n",
"cp=dh/dT //Specific heat of air at 300K in kJ/kg-K\n",
"printf('\n Hence, the specific heat of air at 300 K is = %.3f kJ/kg-K. \n',cp);"
   ]
   }
,
{
		   "cell_type": "markdown",
		   "metadata": {},
		   "source": [
			"## Example 12.2: Total_Differential_versus_Partial_Differential.sce"
		   ]
		  },
  {
"cell_type": "code",
	   "execution_count": null,
	   "metadata": {
	    "collapsed": true
	   },
	   "outputs": [],
"source": [
"//example 2\n",
"//Total Differential versus Partial Differential\n",
"clear\n",
"clc\n",
"R=0.287 //Universal gas constant kPa-m3/kg-K\n",
"v=(0.86+0.87)/2 //average value m^3/kg\n",
"T=(300+302)/2 //average temp. in kelvins\n",
"dT=302-300 //change in tep. in K\n",
"dv=0.87-0.86 //change in volume in m^3/kg\n",
"dP=R*dT/v-R*T*dv/v^2 //Change in the pressure in kPa\n",
"printf('\n Hence, the change in the pressure of air is = %.3f kPa. \n',dP);"
   ]
   }
,
{
		   "cell_type": "markdown",
		   "metadata": {},
		   "source": [
			"## Example 12.5: Evaluating_the_hfg_of_a_Substance_from_the_PVT_Data.sce"
		   ]
		  },
  {
"cell_type": "code",
	   "execution_count": null,
	   "metadata": {
	    "collapsed": true
	   },
	   "outputs": [],
"source": [
"//example 5\n",
"//Evaluating the hfg of a Substance from the P-v-T Data\n",
"clear\n",
"clc\n",
"vg=0.035969 //in m^3/kg\n",
"vf=0.0008161 //in m^3/kg\n",
"vfg=vg-vf //in m^3/kg at  20�C \n",
"dT=24-16 //change in Temp. in C\n",
"Psat1=646.18 //saturation presssure at 24 C in kPa\n",
"Psat2=504.58 //saturation pressure at 16C in kPa\n",
"dP=Psat1-Psat2 //Difference between saturation pressures in kPa\n",
"T=293.15 //Difference between temp. in K\n",
"hfg=T*vfg*dP/dT //Enthalpy of vaporization in kJ/kg\n",
"printf('\n Hence, the enthalpy of vaporization of refrigerant 134-a is = %.2f kJ/kg. \n',hfg);"
   ]
   }
,
{
		   "cell_type": "markdown",
		   "metadata": {},
		   "source": [
			"## Example 12.6: Extrapolating_Tabular_Data_with_the_Clapeyron_Equation.sce"
		   ]
		  },
  {
"cell_type": "code",
	   "execution_count": null,
	   "metadata": {
	    "collapsed": true
	   },
	   "outputs": [],
"source": [
"// example 6\n",
"//Extrapolating Tabular Data with the Clapeyron Equation\n",
"clear\n",
"clc\n",
"hfg=97.100 //in Btu/lbm\n",
"R=0.01946 //universal Gas constant in Btu/lbm-R\n",
"T1=420 //in R\n",
"T2=410 //in R\n",
"P1=7.432 //in psia\n",
"P2=%e^((hfg/R)*(1/T1-1/T2)+log(P1)) //Saturation pressure at -50R in psia\n",
"printf('\n Hence, the Saturation Pressure of Refrigerant 134-a at -50 R  is = %.2f psia. \n',P2);"
   ]
   }
],
"metadata": {
		  "kernelspec": {
		   "display_name": "Scilab",
		   "language": "scilab",
		   "name": "scilab"
		  },
		  "language_info": {
		   "file_extension": ".sce",
		   "help_links": [
			{
			 "text": "MetaKernel Magics",
			 "url": "https://github.com/calysto/metakernel/blob/master/metakernel/magics/README.md"
			}
		   ],
		   "mimetype": "text/x-octave",
		   "name": "scilab",
		   "version": "0.7.1"
		  }
		 },
		 "nbformat": 4,
		 "nbformat_minor": 0
}
