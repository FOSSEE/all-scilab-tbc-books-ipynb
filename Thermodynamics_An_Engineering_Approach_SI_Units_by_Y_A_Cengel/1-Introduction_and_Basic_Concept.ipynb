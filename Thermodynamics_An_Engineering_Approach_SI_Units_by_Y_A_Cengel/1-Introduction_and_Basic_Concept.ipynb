{
"cells": [
 {
		   "cell_type": "markdown",
	   "metadata": {},
	   "source": [
       "# Chapter 1: Introduction and Basic Concept"
	   ]
	},
{
		   "cell_type": "markdown",
		   "metadata": {},
		   "source": [
			"## Example 1.10: Hydrostatic_Pressure_in_a_Solar_Pond_with_Variable_Density.sce"
		   ]
		  },
  {
"cell_type": "code",
	   "execution_count": null,
	   "metadata": {
	    "collapsed": true
	   },
	   "outputs": [],
"source": [
"//ques10\n",
"//Hydrostatic Pressure in a Solar Pond with Variable Density\n",
"clear\n",
"clc\n",
"d=1040;//density of pond in Kg/m^3\n",
"g=9.81;//acc due to gravity in m/s^2\n",
"h1=0.8;//height of liquid in metre\n",
"H=4;//height of liquid of variable density\n",
"P1=d*g*h1/1000;//divided by 1000 to convert it into kPa\n",
"P=P1+integrate('d*g*sqrt(1+tan(%pi/4*z/H)^2)','z',0,4)/1000;\n",
"printf('Pressure at the bottom of the gradient zone = %.1f kPa',P);"
   ]
   }
,
{
		   "cell_type": "markdown",
		   "metadata": {},
		   "source": [
			"## Example 1.12: Analyzing_a_Multifluid_Manometer_with_EES.sce"
		   ]
		  },
  {
"cell_type": "code",
	   "execution_count": null,
	   "metadata": {
	    "collapsed": true
	   },
	   "outputs": [],
"source": [
"//ques12\n",
"//Analyzing a Multifluid Manometer with EES\n",
"clc\n",
"g=9.81;//acc due to gravity in m/s^2\n",
"Patm=85600;//Atmospheric pressure in Pa\n",
"h1=0.1;//height of water in metre\n",
"h2=0.2;//height of oil in metre\n",
"h3=0.35;//height of mercury in metre\n",
"dwater=1000;//density of water in Kg/m^3\n",
"doil=850;//density of oil in Kg/m^3\n",
"dmercury=13600;//density of mercury in Kg/m^3\n",
"P1=Patm-(dwater*g*h1+doil*g*h2-dmercury*g*h3);//in Pa\n",
"printf('Pressure at point 1 = %.0f Pa',P1);\n",
"//Now to find h3 if mercury is replaced by another oil\n",
"dmercury=1030;//Density of new mercury in Kg/m^3\n",
"h3=(P1-Patm+dwater*g*h1+doil*g*h2)/(g*dmercury);//in metre\n",
"printf('\n New height h3 = %.2f metres',h3);\n",
"\n",
""
   ]
   }
,
{
		   "cell_type": "markdown",
		   "metadata": {},
		   "source": [
			"## Example 1.1: obtaining_formulas_for_from_unit_considerations.sce"
		   ]
		  },
  {
"cell_type": "code",
	   "execution_count": null,
	   "metadata": {
	    "collapsed": true
	   },
	   "outputs": [],
"source": [
"//ques1\n",
"//obtaining formulas for from unit considerations\n",
"clear\n",
"clc\n",
"d=850;//density m^3/kg\n",
"V=2;//volume m^3\n",
"m=d*V;//mass Kg\n",
"printf('Mass of the sample m =%.0f Kg',m);"
   ]
   }
,
{
		   "cell_type": "markdown",
		   "metadata": {},
		   "source": [
			"## Example 1.5: Absolute_Pressure_of_a_Vacuum_Chamber.sce"
		   ]
		  },
  {
"cell_type": "code",
	   "execution_count": null,
	   "metadata": {
	    "collapsed": true
	   },
	   "outputs": [],
"source": [
"//ques5 \n",
"//Absolute Pressure of a Vacuum Chamber\n",
"clc\n",
"Patm=14.5;//Atmospheric Pressure in psi\n",
"Pvac=5.8;//vaccum Pressure in psi\n",
"Pabs=Patm-Pvac;//Absolute Pressure in psi\n",
"printf('Absolute Pressure=Atmospheric Pressure - Vaccum Pressure=%0.1f psi',Pabs);\n",
""
   ]
   }
,
{
		   "cell_type": "markdown",
		   "metadata": {},
		   "source": [
			"## Example 1.6: Measuring_Pressure_with_nanometer.sce"
		   ]
		  },
  {
"cell_type": "code",
	   "execution_count": null,
	   "metadata": {
	    "collapsed": true
	   },
	   "outputs": [],
"source": [
"//ques6\n",
"//Measuring Pressure with nanometer\n",
"clc\n",
"Patm=96;//Atmospheric Pressure in kPa\n",
"d=850;//density in Kg/m^3\n",
"g=9.81;//gravitational accelaration\n",
"h=0.55;//hieght in metre\n",
"P=Patm+d*g*h/1000; //Pressure in kPa\n",
"printf('Presure=Patm+ d*g*h=%.1f kPa',P);\n",
""
   ]
   }
,
{
		   "cell_type": "markdown",
		   "metadata": {},
		   "source": [
			"## Example 1.7: Measuring_pressure_with_multifluid_manomete.sce"
		   ]
		  },
  {
"cell_type": "code",
	   "execution_count": null,
	   "metadata": {
	    "collapsed": true
	   },
	   "outputs": [],
"source": [
"//ques7\n",
"//Measuring pressure with multifluid manometer\n",
"clear\n",
"clc\n",
"Patm=85.6; //in kPa\n",
"dwater=1000;//density of water in Kg/m^3 \n",
"dmercury=13600;//density of mercury in Kg/m^3\n",
"doil=850;//density of oil in Kg/m^3\n",
"g=9.81;//acc due to gravity in m/s^2\n",
"h1=0.1;//height of water in metre\n",
"h2=0.2;//height of oil in metre\n",
"h3=0.35;//hieght of mercury in metre\n",
"P1=Patm+g*(dmercury*h3-dwater*h1-doil*h2)/1000;\n",
"printf('Pressure P1 = %.0f kPa',P1);\n",
"\n",
""
   ]
   }
,
{
		   "cell_type": "markdown",
		   "metadata": {},
		   "source": [
			"## Example 1.8: Measuring_Atmospheric_Pressure_with_barometer.sce"
		   ]
		  },
  {
"cell_type": "code",
	   "execution_count": null,
	   "metadata": {
	    "collapsed": true
	   },
	   "outputs": [],
"source": [
"//ques8\n",
"//Measuring Atmospheric Pressure with barometer\n",
"clear\n",
"clc\n",
"g=9.81;//acc due to gravity in m/s^2\n",
"h=0.74;//height in metre\n",
"d=13570;//density in Kg/m^3\n",
"Patm=d*g*h/1000;//Atmospheric pressure in kPa \n",
"printf('Atmospheric pressure from barometer is = %.1f kPa',Patm);"
   ]
   }
,
{
		   "cell_type": "markdown",
		   "metadata": {},
		   "source": [
			"## Example 1.9: Effect_of_piston_weight_on_Pressure_of_Cylinder.sce"
		   ]
		  },
  {
"cell_type": "code",
	   "execution_count": null,
	   "metadata": {
	    "collapsed": true
	   },
	   "outputs": [],
"source": [
"//ques9\n",
"//Effect of piston weight on Pressure of Cylinder\n",
"clear\n",
"clc\n",
"Patm=0.97;//Atmospheric pressure in bar\n",
"m=60;//mass in kg\n",
"g=9.81;//acc due to gravity in m/s^2\n",
"A=0.04;//area in m^2\n",
"P=Patm+m*g/A/10^5;//net pressure after considering the effect in Bar\n",
"//divided by 10^5 to convert it into bars\n",
"printf('Pressure = %.2f Bar',P);"
   ]
   }
],
"metadata": {
		  "kernelspec": {
		   "display_name": "Scilab",
		   "language": "scilab",
		   "name": "scilab"
		  },
		  "language_info": {
		   "file_extension": ".sce",
		   "help_links": [
			{
			 "text": "MetaKernel Magics",
			 "url": "https://github.com/calysto/metakernel/blob/master/metakernel/magics/README.md"
			}
		   ],
		   "mimetype": "text/x-octave",
		   "name": "scilab",
		   "version": "0.7.1"
		  }
		 },
		 "nbformat": 4,
		 "nbformat_minor": 0
}
