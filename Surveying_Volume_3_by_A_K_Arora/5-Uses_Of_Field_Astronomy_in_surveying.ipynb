{
"cells": [
 {
		   "cell_type": "markdown",
	   "metadata": {},
	   "source": [
       "# Chapter 5: Uses Of Field Astronomy in surveying"
	   ]
	},
{
		   "cell_type": "markdown",
		   "metadata": {},
		   "source": [
			"## Example 5.10: 61.sce"
		   ]
		  },
  {
"cell_type": "code",
	   "execution_count": null,
	   "metadata": {
	    "collapsed": true
	   },
	   "outputs": [],
"source": [
"\n",
"funcprot(0);\n",
"// Initialization of Variable\n",
"function[dms]=degtodms(deg)\n",
"    d = int(deg)\n",
"    md = abs(deg - d) * 60\n",
"    m = int(md)\n",
"    sd = (md - m) * 60\n",
"    sd=(round(sd*100)/100)\n",
"      dms=[d m sd]\n",
"endfunction\n",
"Long=75.0//longitude in degrees\n",
"GST=11+40.0/60+32.4/3600;//GST in degrees\n",
"RA=12+25.0/60+18.35/3600;//RA in degrees\n",
"GMT=15+45.0/60+25.3/3600;//GMT in degrees\n",
"delta=22+6.0/60+32.5/3600;//angle in degrees\n",
"//calculation\n",
"e1=Long/15*9.8565/3600;\n",
"LSTofLMM=GST-e1;\n",
"LMT=GMT+Long/15;\n",
"SIT=LMT+LMT*9.8565/3600//sidereal time interval\n",
"LHA=SIT+LSTofLMM;\n",
"H=RA+24-LHA;\n",
"H=H*15;\n",
"B=atan(tan(delta*%pi/180)*tan(H*%pi/180));\n",
"B=B*180/%pi;\n",
"A=atan(tan(H*%pi/180)*cos(B*%pi/180)/sin((B-32-15.0/60)*%pi/180))\n",
"A=A*180/%pi;\n",
"TB=360+A-135-15.0/60-20.0/3600;\n",
"TB=degtodms(TB);\n",
"disp(TB,'true bearing TB in degree,minites,seconds respectively');\n",
"disp('there is slight difference in the answers due to rounding off error in the book');\n",
"clear()"
   ]
   }
,
{
		   "cell_type": "markdown",
		   "metadata": {},
		   "source": [
			"## Example 5.11: 62.sce"
		   ]
		  },
  {
"cell_type": "code",
	   "execution_count": null,
	   "metadata": {
	    "collapsed": true
	   },
	   "outputs": [],
"source": [
"\n",
"funcprot(0);\n",
"// Initialization of Variable\n",
"function[dms]=degtodms(deg)\n",
"    d = int(deg)\n",
"    md = abs(deg - d) * 60\n",
"    m = int(md)\n",
"    sd = (md - m) * 60\n",
"    sd=(round(sd*100)/100)\n",
"      dms=[d m sd]\n",
"endfunction\n",
"z=51+47.0/60+18.0/3600//zenith distance\n",
"p=88+57.0/60+57.0/3600//polar distance\n",
"c=61+27.0/60+55.0/3600//co-latitude\n",
"//calculation\n",
"s=(z+p+c)/2;\n",
"A=2*atan(sqrt(sin((s-z)*%pi/180)/sin(s*%pi/180)*sin((s-c)*%pi/180)/sin((s-p)*%pi/180)));\n",
"A=A*180/%pi;\n",
"TB=360-A-165-18.0/60-20.0/3600;\n",
"TB=degtodms(TB);\n",
"disp(TB,'true bearing TB in degree,minites,seconds respectively');\n",
"disp('answer varies slightly due to round off error')\n",
"clear()"
   ]
   }
,
{
		   "cell_type": "markdown",
		   "metadata": {},
		   "source": [
			"## Example 5.12: 63.sce"
		   ]
		  },
  {
"cell_type": "code",
	   "execution_count": null,
	   "metadata": {
	    "collapsed": true
	   },
	   "outputs": [],
"source": [
"\n",
"funcprot(0);\n",
"// Initialization of Variable\n",
"function[dms]=degtodms(deg)\n",
"    d = int(deg)\n",
"    md = abs(deg - d) * 60\n",
"    m = int(md)\n",
"    sd = (md - m) * 60\n",
"    sd=(round(sd*100)/100)\n",
"      dms=[d m sd]\n",
"endfunction\n",
"z2=90-40-13.0/60-15.0/3600;//zenith angle in degrees\n",
"del2=12+15.0/60+30.0/3600//declination of star in degrees\n",
"//calculation\n",
"theta=z2+del2;\n",
"theta=degtodms(theta);\n",
"disp(theta,'altitude in degree,minites,seconds respectively');\n",
"clear()"
   ]
   }
,
{
		   "cell_type": "markdown",
		   "metadata": {},
		   "source": [
			"## Example 5.13: 64.sce"
		   ]
		  },
  {
"cell_type": "code",
	   "execution_count": null,
	   "metadata": {
	    "collapsed": true
	   },
	   "outputs": [],
"source": [
"\n",
"funcprot(0);\n",
"// Initialization of Variable\n",
"function[dms]=degtodms(deg)\n",
"    d = int(deg)\n",
"    md = abs(deg - d) * 60\n",
"    m = int(md)\n",
"    sd = (md - m) * 60\n",
"    sd=round(sd*100)/100;\n",
"    if sd==60.0 then\n",
"        sd=0;\n",
"        m=m+1;\n",
"    end\n",
"    dms=[d m sd]\n",
"endfunction\n",
"alpha1=30+45.0/60+25.0/3600;//angle in degrees\n",
"alpha2=40+48.0/60+30.0/3600;//angle in degrees\n",
"//calculation\n",
"e1=-58/3600/tan(alpha1*%pi/180)// error 1\n",
"e2=-58/3600/tan(alpha2*%pi/180)// error 2\n",
"theta=(alpha1+alpha2+e1+e2)/2;\n",
"theta=degtodms(theta)\n",
"disp(theta,'latitude in degree,minites,seconds respectively');\n",
"clear()"
   ]
   }
,
{
		   "cell_type": "markdown",
		   "metadata": {},
		   "source": [
			"## Example 5.14: 65.sce"
		   ]
		  },
  {
"cell_type": "code",
	   "execution_count": null,
	   "metadata": {
	    "collapsed": true
	   },
	   "outputs": [],
"source": [
"\n",
"funcprot(0);\n",
"// Initialization of Variable\n",
"function[dms]=degtodms(deg)\n",
"    d = int(deg)\n",
"    md = abs(deg - d) * 60\n",
"    m = int(md)\n",
"    sd = (md - m) * 60\n",
"    sd=(round(sd*100)/100)\n",
"      dms=[d m sd]\n",
"endfunction\n",
"ZP=37+29.0/60+40.0/3600//colatitde in degrees\n",
"ZM=56+24.0/60+50.0/3600//coaltitude in degrees\n",
"PM=67+54.0/60+24.0/3600//codeclination in degrees\n",
"//calculation\n",
"A1=acos((cos(PM*%pi/180)-cos(ZP*%pi/180)*cos(ZM*%pi/180))/(sin(ZP*%pi/180)*sin(ZM*%pi/180)));\n",
"A1=A1*180/%pi;\n",
"A=360-A1;\n",
"A=degtodms(A);\n",
"disp(A,'azimuth of sun in degree,minites,seconds respectively');\n",
"clear()"
   ]
   }
,
{
		   "cell_type": "markdown",
		   "metadata": {},
		   "source": [
			"## Example 5.1: 52.sce"
		   ]
		  },
  {
"cell_type": "code",
	   "execution_count": null,
	   "metadata": {
	    "collapsed": true
	   },
	   "outputs": [],
"source": [
"\n",
"funcprot(0);\n",
"// Initialization of Variable\n",
"function[dms]=degtodms(deg)\n",
"    d = int(deg)\n",
"    md = abs(deg - d) * 60\n",
"    m = int(md)\n",
"    sd = (md - m) * 60\n",
"    sd=round(sd*100)/100\n",
"    dms=[d m sd]\n",
"endfunction\n",
"l1=11.5;//position\n",
"l2=13.5;//position\n",
"r1=8.5;//position\n",
"r2=6.5;//position\n",
"alpha=3+15.0/60+28.0/3600;//angle in hr\n",
"OB=121+45.0/60+18.0/3600;//angle in hr\n",
"OA=43+25.0/60+20.51/3600;//angle in hr\n",
"//calculation\n",
"gamma=(l1+l2)/4-(r1+r2)/4;\n",
"e=gamma*tan(alpha*%pi/180)/3600//correction\n",
"CH=OB-OA-e;\n",
"CH=degtodms(CH);\n",
"disp(CH, 'corrected horizontal angle in deg,min,sec respectively');\n",
"clear()\n",
"disp('answer varies slightly due to round off error')"
   ]
   }
,
{
		   "cell_type": "markdown",
		   "metadata": {},
		   "source": [
			"## Example 5.15: 66.sce"
		   ]
		  },
  {
"cell_type": "code",
	   "execution_count": null,
	   "metadata": {
	    "collapsed": true
	   },
	   "outputs": [],
"source": [
"\n",
"funcprot(0);\n",
"// Initialization of Variable\n",
"function[dms]=degtodms(deg)\n",
"    d = int(deg)\n",
"    md = abs(deg - d) * 60\n",
"    m = int(md)\n",
"    sd = (md - m) * 60\n",
"    sd=(round(sd*100)/100)\n",
"      dms=[d m sd]\n",
"endfunction\n",
"theta=54+30.0/60//latitude in degrees\n",
"delta=62+12.0/60+21.0/3600//declination in degrees\n",
"//calculation\n",
"alpha=asin(sin(theta*%pi/180)/sin(delta*%pi/180));\n",
"A1=acos(tan(theta*%pi/180)/tan(alpha));\n",
"A1=A1*180/%pi;\n",
"TB=360-A1-65-18.0/60-42.0/3600;\n",
"TB=degtodms(TB);\n",
"alpha=degtodms(alpha*180/%pi);\n",
"H=acos(tan(theta*%pi/180)/tan(delta*%pi/180));\n",
"H=degtodms(H*180/%pi);\n",
"disp(TB,'true bearing in degree,minites,seconds respectively');\n",
"disp(alpha,'altitude in degree,minites,seconds respectively');\n",
"disp(H,'hour angle in degree,minites,seconds respectively');\n",
"disp('the answer for hour angle in the textbook is wrong');\n",
"clear()"
   ]
   }
,
{
		   "cell_type": "markdown",
		   "metadata": {},
		   "source": [
			"## Example 5.16: 67.sce"
		   ]
		  },
  {
"cell_type": "code",
	   "execution_count": null,
	   "metadata": {
	    "collapsed": true
	   },
	   "outputs": [],
"source": [
"\n",
"funcprot(0);\n",
"// Initialization of Variable\n",
"function[dms]=degtodms(deg)\n",
"    d = int(deg)\n",
"    md = abs(deg - d) * 60\n",
"    m = int(md)\n",
"    sd = (md - m) * 60\n",
"    sd=round(sd*100)/100;\n",
"    if sd==60.0 then\n",
"        sd=0;\n",
"        m=m+1;\n",
"    end\n",
"    dms=[d m sd]\n",
"endfunction\n",
"alpha=44+12.0/60+30.0/3600;//angle in degrees\n",
"d=15.0/60+45.86/3600//diameter correction\n",
"Long=7+20.0/60+15.0/3600//longitude in degrees\n",
"//calculation\n",
"alpha=alpha+d-58/3600/tan(alpha)+8.8/3600*cos(alpha);\n",
"GAT=Long/15;\n",
"e2=6.82/3600*GAT;\n",
"delta=22+18.0/60+12.8/3600+e2;\n",
"theta=delta+90-alpha;\n",
"theta=degtodms(theta);\n",
"disp(theta,'altitude in degree,minites,seconds respectively');\n",
"disp('answer varies slightly due to round off error');\n",
"clear()"
   ]
   }
,
{
		   "cell_type": "markdown",
		   "metadata": {},
		   "source": [
			"## Example 5.17: 68.sce"
		   ]
		  },
  {
"cell_type": "code",
	   "execution_count": null,
	   "metadata": {
	    "collapsed": true
	   },
	   "outputs": [],
"source": [
"\n",
"funcprot(0);\n",
"// Initialization of Variable\n",
"function[dms]=degtodms(deg)\n",
"    d = int(deg)\n",
"    md = abs(deg - d) * 60\n",
"    m = int(md)\n",
"    sd = (md - m) * 60\n",
"    sd=(round(sd*100)/100)\n",
"      dms=[d m sd]\n",
"endfunction\n",
"GMT=16+22.0/60+55.0/3600;\n",
"ET=3.0/60+43.0/3600;\n",
"c=90-42-20.0/60;\n",
"p=90-18-45.0/60-50.0/60;\n",
"z=90-43-38.0/60;\n",
"//calculation\n",
"H=acos(cos(z*%pi/180)/sin(c*%pi/180)/sin(p*%pi/180)-1/tan(c*%pi/180)*1/tan(p*%pi/180));\n",
"H=H*180/%pi;\n",
"LAT=12-H/15;\n",
"LMT=LAT-ET;\n",
"Long=GMT-LMT;\n",
"Long=Long*15;\n",
"Long=degtodms(Long);\n",
"disp(Long,'Longitude in degree,minites,seconds respectively in west');\n",
"disp('the answer varies slightly due to round off error');\n",
"clear()"
   ]
   }
,
{
		   "cell_type": "markdown",
		   "metadata": {},
		   "source": [
			"## Example 5.18: 69.sce"
		   ]
		  },
  {
"cell_type": "code",
	   "execution_count": null,
	   "metadata": {
	    "collapsed": true
	   },
	   "outputs": [],
"source": [
"\n",
"funcprot(0);\n",
"// Initialization of Variable\n",
"function[dms]=degtodms(deg)\n",
"    d = int(deg)\n",
"    md = abs(deg - d) * 60\n",
"    m = int(md)\n",
"    sd = (md - m) * 60\n",
"    sd=(round(sd*100)/100)\n",
"      dms=[d m sd]\n",
"endfunction\n",
"alpha=21+35.0/60+30.0/3600//mean observed altitude\n",
"C=(4.5+5.5-3.5-2.5)/4*15.0/3600;\n",
"c=44+30.0/60//colatitude in degrees\n",
"z=68+26.0/60+34.0/3600//coaltitude in degrees\n",
"p=94+4.0/60+15.0/3600//codeclination in degrees\n",
"s=(c+p+z)/2;\n",
"//calculation\n",
"cr=-58/3600/tan(alpha)//correction refraction\n",
"cp=8.8/3600*cos(alpha)//correction parallax\n",
"alpha=alpha+C+cr+cp// corrected altitude\n",
"A=2*atan(sqrt(sin((s-z)*%pi/180)/sin(s*%pi/180)*sin((s-c)*%pi/180)/sin((s-p)*%pi/180)));\n",
"A=A*180/%pi;\n",
"Mh=(121+45.0/60+20.0/3600+122+47.0/60)/2//mean horizontal angle\n",
"AZ=360-Mh-A;\n",
"AZ=degtodms(AZ);\n",
"disp(AZ,'Azimuth from north(clockwise) in degree,minites,seconds respectively');\n",
"disp('the answer varies slightly due to round off error')\n",
"clear()"
   ]
   }
,
{
		   "cell_type": "markdown",
		   "metadata": {},
		   "source": [
			"## Example 5.2: 53.sce"
		   ]
		  },
  {
"cell_type": "code",
	   "execution_count": null,
	   "metadata": {
	    "collapsed": true
	   },
	   "outputs": [],
"source": [
"\n",
"funcprot(0);\n",
"// Initialization of Variable\n",
"function[dms]=degtodms(deg)\n",
"    d = int(deg)\n",
"    md = abs(deg - d) * 60\n",
"    m = int(md)\n",
"    sd = (md - m) * 60\n",
"    sd=round(sd*100)/100\n",
"    dms=[d m sd]\n",
"endfunction\n",
"alpha=30+32.0/60+18.0/3600//latitude in hr\n",
"d=16.0/60+2.85/3600//semi-diameter of sun in hr\n",
"//calculation\n",
"C1=-58.0/3600/tan(alpha*%pi/180); \n",
"C2=8.8/3600*cos(alpha*%pi/180);   \n",
"C3=d;      \n",
"CL=alpha+C1+C2+C3;\n",
"CL=degtodms(CL);\n",
"disp(CL,'corrected latutude in deg,min,sec respectively');\n",
"clear()"
   ]
   }
,
{
		   "cell_type": "markdown",
		   "metadata": {},
		   "source": [
			"## Example 5.3: 54.sce"
		   ]
		  },
  {
"cell_type": "code",
	   "execution_count": null,
	   "metadata": {
	    "collapsed": true
	   },
	   "outputs": [],
"source": [
"\n",
"funcprot(0);\n",
"// Initialization of Variable\n",
"function[dms]=degtodms(deg)\n",
"    d = int(deg)\n",
"    md = abs(deg - d) * 60\n",
"    m = int(md)\n",
"    sd = (md - m) * 60\n",
"    sd=round(sd*100)/100\n",
"    dms=[d m sd]\n",
"endfunction\n",
"alpha=40+52.0/60+10.0/3600//latitude in hr\n",
"//calculation\n",
"C1=-58.0/3600/tan(alpha*%pi/180);\n",
"CL=alpha+C1;\n",
"CL=degtodms(CL);\n",
"disp(CL,'corrected latutude in deg,min,sec respectively');\n",
"clear()"
   ]
   }
,
{
		   "cell_type": "markdown",
		   "metadata": {},
		   "source": [
			"## Example 5.4: 55.sce"
		   ]
		  },
  {
"cell_type": "code",
	   "execution_count": null,
	   "metadata": {
	    "collapsed": true
	   },
	   "outputs": [],
"source": [
"\n",
"funcprot(0);\n",
"// Initialization of Variable\n",
"function[dms]=degtodms(deg)\n",
"    d = int(deg)\n",
"    md = abs(deg - d) * 60\n",
"    m = int(md)\n",
"    sd = (md - m) * 60\n",
"    sd=round(sd*100)/100\n",
"    dms=[d m sd]\n",
"endfunction\n",
"LMT=21+23.0/60+05.0/3600//local chronometer time\n",
"Long=65.0+19.0/60//longitude in hr\n",
"GST=13+15.0/60+20.0/3600;//GST in hr\n",
"RA=9+32.0/60+15.0/3600;//RA in hr\n",
"Long2=82.0+30.0/60//longitude of India\n",
"//calculation\n",
"e1=Long/15*9.8565/3600//error\n",
"SIT=RA+24-GST+e1//sidereal time interval after LMM\n",
"e2=SIT*9.8296/3600//error\n",
"MI=SIT-e2//mean interval after LMM\n",
"LMT=LMT-(Long2-Long)/15.0;\n",
"CE=MI-LMT;\n",
"CE=degtodms(CE);\n",
"disp(CE,'chronometer error in hours,min,sec respectively (fast)');\n",
"clear()"
   ]
   }
,
{
		   "cell_type": "markdown",
		   "metadata": {},
		   "source": [
			"## Example 5.5: 56.sce"
		   ]
		  },
  {
"cell_type": "code",
	   "execution_count": null,
	   "metadata": {
	    "collapsed": true
	   },
	   "outputs": [],
"source": [
"\n",
"funcprot(0);\n",
"// Initialization of Variable\n",
"function[dms]=degtodms(deg)\n",
"    d = int(deg)\n",
"    md = abs(deg - d) * 60\n",
"    m = int(md)\n",
"    sd = (md - m) * 60\n",
"    sd=round(sd*100)/100\n",
"    dms=[d m sd]\n",
"endfunction\n",
"MST=12+32.0/60+15.0/3600//mean sidereal time in hr\n",
"RA=15+45.0/60+10.0/3600;//RA in hr\n",
"theta=55+14.0/60+20.0/3600//latitude\n",
"delta=15+24.0/60+30.0/3600//declination\n",
"alpha=35+44.0/60+10.0/3600//zenith distance\n",
"//calculation\n",
"c=90-theta;\n",
"p=90-delta;\n",
"z=90-alpha;\n",
"H=acos(cos(z*%pi/180)/sin(c*%pi/180)/sin(p*%pi/180)-1/(tan(p*%pi/180)*tan(c*%pi/180)))\n",
"H=H/15*180/%pi;\n",
"LST=RA-H;\n",
"CE=MST-LST;\n",
"CE=degtodms(CE);\n",
"disp(CE,'chronometer error in hours,min,sec respectively (fast)');\n",
"clear()"
   ]
   }
,
{
		   "cell_type": "markdown",
		   "metadata": {},
		   "source": [
			"## Example 5.6: 57.sce"
		   ]
		  },
  {
"cell_type": "code",
	   "execution_count": null,
	   "metadata": {
	    "collapsed": true
	   },
	   "outputs": [],
"source": [
"\n",
"funcprot(0);\n",
"// Initialization of Variable\n",
"function[dms]=degtodms(deg)\n",
"    d = int(deg)\n",
"    md = abs(deg - d) * 60\n",
"    m = int(md)\n",
"    sd = (md - m) * 60\n",
"    sd=round(sd*100)/100\n",
"    dms=[d m sd]\n",
"endfunction\n",
"LMTe=6+34.0/60+18.0/3600//  LMT east\n",
"LMTw=8+58.0/60+2.0/3600// LMT west\n",
"RA=16+11.0/60+25.0/3600;//RA in hr\n",
"Long=125+33.0/60;//Longitude\n",
"GST=8+25.0/60+14.0/3600;//GST in hr\n",
"//calculation\n",
"e1=Long/15*9.8565/3600//error\n",
"SIT=RA-GST+e1//sidereal time interval after LMM\n",
"e2=SIT*9.8296/3600;\n",
"MI=SIT-e2//mean time interval after LMM\n",
"LMTav=(LMTe+LMTw)/2//mean LMT\n",
"CE=LMTav-MI;\n",
"CE=degtodms(CE);\n",
"disp(CE,'chronometer error in slower side in hours,min,sec respectively (slow)');\n",
"clear()"
   ]
   }
,
{
		   "cell_type": "markdown",
		   "metadata": {},
		   "source": [
			"## Example 5.7: 58.sce"
		   ]
		  },
  {
"cell_type": "code",
	   "execution_count": null,
	   "metadata": {
	    "collapsed": true
	   },
	   "outputs": [],
"source": [
"\n",
"funcprot(0);\n",
"// Initialization of Variable\n",
"function[dms]=degtodms(deg)\n",
"    d = int(deg)\n",
"    md = abs(deg - d) * 60\n",
"    m = int(md)\n",
"    sd = (md - m) * 60\n",
"    sd=(round(sd*100)/100)\n",
"      dms=[d m sd]\n",
"endfunction\n",
"LMM=15+9.0/60+5.21/3600// mean LMT\n",
"GMT=10+9.0/60+3.76/3600;//GMT in hr\n",
"Long=75.0//longitude\n",
"alpha=42+30.0/60+42.0/3600;//angle in degrees\n",
"theta=34+48.0/60+12.0/3600;//angle in degrees\n",
"delta=15+36.0/60+48.0/3600;//angle in degrees\n",
"//calculation\n",
"H=acos(sin(alpha*%pi/180)/cos(theta*%pi/180)/cos(delta*%pi/180)-(tan(delta*%pi/180)*tan(theta*%pi/180)))\n",
"H=H/15*180/%pi;\n",
"GAT=12+H-Long/15;\n",
"LMT=GAT+Long/15-5.0/60-40.0/3600;\n",
"CE=LMM-LMT;\n",
"CE=degtodms(CE);\n",
"disp(CE,'chronometer error in slower side in hours,min,sec respectively (fast)');\n",
"clear()"
   ]
   }
,
{
		   "cell_type": "markdown",
		   "metadata": {},
		   "source": [
			"## Example 5.8: 59.sce"
		   ]
		  },
  {
"cell_type": "code",
	   "execution_count": null,
	   "metadata": {
	    "collapsed": true
	   },
	   "outputs": [],
"source": [
"\n",
"funcprot(0);\n",
"// Initialization of Variable\n",
"function[dms]=degtodms(deg)\n",
"    d = int(deg)\n",
"    md = abs(deg - d) * 60\n",
"    m = int(md)\n",
"    sd = (md - m) * 60\n",
"    sd=(round(sd*100)/100)\n",
"      dms=[d m sd]\n",
"endfunction\n",
"del1=75+14.0/60+20.0/3600;//declination in degrees\n",
"del2=70+12.0/60+30.0/3600;//declination in degrees\n",
"d=del1-del2;//difference in degrees\n",
"//calculation\n",
"k=cos(del1*%pi/180)/cos(del2*%pi/180);\n",
"A2=%pi/2-atan((cos(d*%pi/180)-k)/sin(d*%pi/180));\n",
"A2=A2*180/%pi;\n",
"A2=120+15.0/60+10.0/3600-A2;\n",
"CR=360-A2;\n",
"A2=degtodms(A2);\n",
"CR=degtodms(CR);\n",
"disp(A2,'azimuth of angle R in degree,minites,seconds respectively');\n",
"disp(CR,'true bearing of CR in degree,minites,seconds respectively');\n",
"clear()"
   ]
   }
,
{
		   "cell_type": "markdown",
		   "metadata": {},
		   "source": [
			"## Example 5.9: 60.sce"
		   ]
		  },
  {
"cell_type": "code",
	   "execution_count": null,
	   "metadata": {
	    "collapsed": true
	   },
	   "outputs": [],
"source": [
"\n",
"funcprot(0);\n",
"// Initialization of Variable\n",
"function[dms]=degtodms(deg)\n",
"    d = int(deg)\n",
"    md = abs(deg - d) * 60\n",
"    m = int(md)\n",
"    sd = (md - m) * 60\n",
"    sd=(round(sd*100)/100)\n",
"      dms=[d m sd]\n",
"endfunction\n",
"a=26.0/60+51.0/3600;//angle in degrees\n",
"p=56.0/60+5.1/3600//polar distance\n",
"//calculation\n",
"H=acos(a/p);\n",
"A=p*sin(H)/cos(30.75694*%pi/180);\n",
"CR=25+35.0/60+40.0/3600-A;\n",
"CR=degtodms(CR);\n",
"disp(CR,'azimuth of angle CR in degree,minites,seconds respectively');\n",
"disp('answer varies slightly due to round off error')\n",
"clear()"
   ]
   }
],
"metadata": {
		  "kernelspec": {
		   "display_name": "Scilab",
		   "language": "scilab",
		   "name": "scilab"
		  },
		  "language_info": {
		   "file_extension": ".sce",
		   "help_links": [
			{
			 "text": "MetaKernel Magics",
			 "url": "https://github.com/calysto/metakernel/blob/master/metakernel/magics/README.md"
			}
		   ],
		   "mimetype": "text/x-octave",
		   "name": "scilab",
		   "version": "0.7.1"
		  }
		 },
		 "nbformat": 4,
		 "nbformat_minor": 0
}
