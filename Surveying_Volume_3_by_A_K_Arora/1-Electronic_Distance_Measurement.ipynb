{
"cells": [
 {
		   "cell_type": "markdown",
	   "metadata": {},
	   "source": [
       "# Chapter 1: Electronic Distance Measurement"
	   ]
	},
{
		   "cell_type": "markdown",
		   "metadata": {},
		   "source": [
			"## Example 1.1: 1.sce"
		   ]
		  },
  {
"cell_type": "code",
	   "execution_count": null,
	   "metadata": {
	    "collapsed": true
	   },
	   "outputs": [],
"source": [
"\n",
"clc; funcprot(0);\n",
"// Initialization of Variable\n",
"T=273+25.0;//temperature in K\n",
"p=752.0;//pressure mm Hg\n",
"No=294.0e-6;\n",
"ns=1.000284;\n",
"D1=1438.254;//recorded distance in m\n",
"h=263.42-243.25;//height difference in m\n",
"R=6370e3;//radius of earth in m\n",
"//calculation\n",
"n=1+No*(273/T)*(p/760);\n",
"D=D1*ns/n;\n",
"cg=-h**2/2/D;\n",
"Hm=263.42/2+243.25/2;\n",
"D=D+cg;\n",
"ch=-D*Hm/R\n",
"EL=D+ch;\n",
"disp(EL,'equivalent length in m')\n",
"clear()"
   ]
   }
,
{
		   "cell_type": "markdown",
		   "metadata": {},
		   "source": [
			"## Example 1.2: 2.sce"
		   ]
		  },
  {
"cell_type": "code",
	   "execution_count": null,
	   "metadata": {
	    "collapsed": true
	   },
	   "outputs": [],
"source": [
"\n",
"clc; funcprot(0);\n",
"// Initialization of Variable\n",
"T=273+18.8;//temperature in K\n",
"p=713;//pressure mm of Hg\n",
"e=3;//vapour pressure mm of Hg\n",
"c=299792.5e3;//speed of light in km/s\n",
"f=11e6;//frequency in Hz\n",
"//calculation\n",
"n=1+(103.49/T*(p-e)+86.26/T*(1+5748.0/T)*e)/1e6;\n",
"V=c/n;\n",
"l=V/f;\n",
"disp(l,'wavelenght of light in m')\n",
"clear()"
   ]
   }
,
{
		   "cell_type": "markdown",
		   "metadata": {},
		   "source": [
			"## Example 1.3: 3.sce"
		   ]
		  },
  {
"cell_type": "code",
	   "execution_count": null,
	   "metadata": {
	    "collapsed": true
	   },
	   "outputs": [],
"source": [
"\n",
"clc; funcprot(0);\n",
"// Initialization of Variable\n",
"T=273.0+30.0;//temperature in K\n",
"l=0.85;//wavelength in m\n",
"p=752.4;//pressure mm of Hg\n",
"c=299792.5e3;//speed of light in km/s\n",
"f=24e6;//frequency in Hz\n",
"//calculation\n",
"no=1+(287.604+4.8864/l**2+0.068/l**4)/1e6;\n",
"ns=1+(no-1)*273/T*p/760;\n",
"V=c/ns;\n",
"l=V/f;\n",
"disp(l,'wavelength of light in m')\n",
"clear()"
   ]
   }
],
"metadata": {
		  "kernelspec": {
		   "display_name": "Scilab",
		   "language": "scilab",
		   "name": "scilab"
		  },
		  "language_info": {
		   "file_extension": ".sce",
		   "help_links": [
			{
			 "text": "MetaKernel Magics",
			 "url": "https://github.com/calysto/metakernel/blob/master/metakernel/magics/README.md"
			}
		   ],
		   "mimetype": "text/x-octave",
		   "name": "scilab",
		   "version": "0.7.1"
		  }
		 },
		 "nbformat": 4,
		 "nbformat_minor": 0
}
