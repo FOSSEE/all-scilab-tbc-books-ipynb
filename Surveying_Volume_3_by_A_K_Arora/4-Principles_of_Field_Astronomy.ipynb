{
"cells": [
 {
		   "cell_type": "markdown",
	   "metadata": {},
	   "source": [
       "# Chapter 4: Principles of Field Astronomy"
	   ]
	},
{
		   "cell_type": "markdown",
		   "metadata": {},
		   "source": [
			"## Example 4.10: 17.sce"
		   ]
		  },
  {
"cell_type": "code",
	   "execution_count": null,
	   "metadata": {
	    "collapsed": true
	   },
	   "outputs": [],
"source": [
"\n",
"clc();\n",
"funcprot(0);\n",
"// Initialization of Variable\n",
"function[dms]=degtodms(deg)\n",
"    d = int(deg)\n",
"    md = abs(deg - d) * 60\n",
"    m = int(md)\n",
"    sd = (md - m) * 60\n",
"    sd=round(sd*100)/100;\n",
"    if sd==60.0 then\n",
"        sd=0;\n",
"        m=m+1;\n",
"    end\n",
"    dms=[d m sd]\n",
"endfunction\n",
"//part1\n",
"delta=38+15.0/60;//declination of star M1 in degrees in North\n",
"theta=25+10.0/60;//latitude in degrees in North\n",
"//calculation\n",
"z=delta-theta;\n",
"alpha=90-z;\n",
"z=degtodms(z);\n",
"alpha=degtodms(alpha);\n",
"disp(z,'zenith distance in deg min sec');\n",
"disp(alpha,'altitude in deg min sec');\n",
"//part2\n",
"function[dms]=degtodms(deg)\n",
"    d = int(deg)\n",
"    md = abs(deg - d) * 60\n",
"    m = int(md)\n",
"    sd = (md - m) * 60\n",
"    sd=round(sd*100)/100;\n",
"    if sd==60.0 then\n",
"        sd=0;\n",
"        m=m+1;\n",
"    end\n",
"    dms=[d m sd]\n",
"endfunction\n",
"delta=22+40.0/60;//declination of star M2 in degrees in North\n",
"theta=25+10.0/60;//latitude in degrees in North\n",
"//calculation\n",
"z=-delta+theta;\n",
"alpha=90-z;\n",
"z=degtodms(z);\n",
"alpha=degtodms(alpha);\n",
"disp(z,'zenith distance in deg min sec');\n",
"disp(alpha,'altitude in deg min sec');\n",
"//part3\n",
"function[dms]=degtodms(deg)\n",
"    d = int(deg)\n",
"    md = abs(deg - d) * 60\n",
"    m = int(md)\n",
"    sd = (md - m) * 60\n",
"    sd=round(sd*100)/100\n",
"    if sd==60.0 then\n",
"        sd=0;\n",
"        m=m+1;\n",
"    end\n",
"    dms=[d m sd]\n",
"endfunction\n",
"delta=70+20.0/60;//declination of star M3 in degrees in North\n",
"theta=25+10.0/60;//latitude in degrees in North\n",
"//calculation\n",
"z=delta-theta;\n",
"z=degtodms(z);\n",
"disp(z,'zenith distance in deg min sec');\n",
"clear()"
   ]
   }
,
{
		   "cell_type": "markdown",
		   "metadata": {},
		   "source": [
			"## Example 4.11: 18.sce"
		   ]
		  },
  {
"cell_type": "code",
	   "execution_count": null,
	   "metadata": {
	    "collapsed": true
	   },
	   "outputs": [],
"source": [
"\n",
"funcprot(0);\n",
"// Initialization of Variable\n",
"function[dms]=degtodms(deg)\n",
"    d = int(deg)\n",
"    md = abs(deg - d) * 60\n",
"    m = int(md)\n",
"    sd = (md - m) * 60\n",
"    sd=round(sd*100)/100\n",
"    if sd==60 then\n",
"        m=m+1\n",
"        sd=0\n",
"        end\n",
"    dms=[d m sd]\n",
"endfunction\n",
"theta=42+50.0/60;//latitudde in degrees\n",
"delta=83+40.0/60;//declination in degrees\n",
"//calculation\n",
"z=180-delta-theta;\n",
"alpha=90-z;\n",
"z=degtodms(z);\n",
"alpha=degtodms(alpha);\n",
"disp(z,'zenith distance in deg min sec');\n",
"disp(alpha,'altitude in deg min sec');\n",
"clear()"
   ]
   }
,
{
		   "cell_type": "markdown",
		   "metadata": {},
		   "source": [
			"## Example 4.12: 19.sce"
		   ]
		  },
  {
"cell_type": "code",
	   "execution_count": null,
	   "metadata": {
	    "collapsed": true
	   },
	   "outputs": [],
"source": [
"\n",
"funcprot(0);\n",
"// Initialization of Variable\n",
"function[dms]=degtodms(deg)\n",
"    d = int(deg)\n",
"    md = abs(deg - d) * 60\n",
"    m = int(md)\n",
"    sd = (md - m) * 60\n",
"    sd=round(sd*100)/100\n",
"    dms=[d m sd]\n",
"endfunction\n",
"//part1\n",
"M=82+30/60;//standard meridian in degrees\n",
"L1=110;//longitutde in degrees east\n",
"ST=18+35.0/60+10.0/3600//standard time in hr\n",
"//calculation\n",
"LMT=ST+(L1-M)/15.0;\n",
"LMT=degtodms(LMT);\n",
"disp(LMT,'LMT in hr min sec');\n",
"//part2\n",
"L2=30;//longitutde in degrees west\n",
"ST=18+35.0/60+10.0/3600//standard time in hr\n",
"//calculation\n",
"LMT=ST-(M+L2)/15.0;\n",
"LMT=degtodms(LMT);\n",
"disp(LMT,'LMT in hr min sec');\n",
"//part3\n",
"L3=30;//longitutde in degrees east\n",
"ST=18+35.0/60+10.0/3600//standard time in hr\n",
"//calculation\n",
"LMT=ST-(M-L3)/15.0;\n",
"LMT=degtodms(LMT);\n",
"disp(LMT,'LMT in hr min sec');\n",
"clear()"
   ]
   }
,
{
		   "cell_type": "markdown",
		   "metadata": {},
		   "source": [
			"## Example 4.13: 20.sce"
		   ]
		  },
  {
"cell_type": "code",
	   "execution_count": null,
	   "metadata": {
	    "collapsed": true
	   },
	   "outputs": [],
"source": [
"\n",
"funcprot(0);\n",
"// Initialization of Variable\n",
"function[dms]=degtodms(deg)\n",
"    d = int(deg)\n",
"    md = abs(deg - d) * 60\n",
"    m = int(md)\n",
"    sd = (md - m) * 60\n",
"    sd=round(sd*100)/100\n",
"    dms=[d m sd]\n",
"endfunction\n",
"//part1\n",
"LMT=8+30.0/60+15.0/3600;//in hr\n",
"Long=45+30.0/60;//longitude in degrees\n",
"//calculation\n",
"GMT=LMT+Long/15.0;\n",
"GMT=degtodms(GMT);\n",
"disp(GMT,'GMT in hr min sec (AM)');\n",
"//part2\n",
"LMT=6+40.0/60+10.0/3600;//in hr\n",
"Long=55+30.0/60;//longitude in degrees\n",
"//calculation\n",
"GMT=LMT-Long/15.0;\n",
"GMT=degtodms(GMT);\n",
"disp(GMT,'GMT in hr min sec (PM)');\n",
"clear()"
   ]
   }
,
{
		   "cell_type": "markdown",
		   "metadata": {},
		   "source": [
			"## Example 4.14: 21.sce"
		   ]
		  },
  {
"cell_type": "code",
	   "execution_count": null,
	   "metadata": {
	    "collapsed": true
	   },
	   "outputs": [],
"source": [
"\n",
"funcprot(0);\n",
"// Initialization of Variable\n",
"function[dms]=degtodms(deg)\n",
"    d = int(deg)\n",
"    md = abs(deg - d) * 60\n",
"    m = int(md)\n",
"    sd = (md - m) * 60\n",
"    sd=round(sd*100)/100\n",
"    dms=[d m sd]\n",
"endfunction\n",
"//part1\n",
"GMT=20+30.0/60+15.0/3600;//GMT in hrs\n",
"Long=82+30.0/60;//longitude in degrees east\n",
"//calculation\n",
"LMT=GMT+Long/15.0-24;\n",
"LMT=degtodms(LMT);\n",
"disp(LMT,'LMT in hr min sec (next day)');\n",
"//part2\n",
"GMT=20+30.0/60+15.0/3600;//GMT in hrs\n",
"Long=120.0;//longitude in degrees west\n",
"//calculation\n",
"LMT=GMT-Long/15.0;\n",
"LMT=degtodms(LMT);\n",
"disp(LMT,'LMT in hr min sec (same day)');\n",
"clear()"
   ]
   }
,
{
		   "cell_type": "markdown",
		   "metadata": {},
		   "source": [
			"## Example 4.15: 22.sce"
		   ]
		  },
  {
"cell_type": "code",
	   "execution_count": null,
	   "metadata": {
	    "collapsed": true
	   },
	   "outputs": [],
"source": [
"\n",
"funcprot(0);\n",
"// Initialization of Variable\n",
"function[dms]=degtodms(deg)\n",
"    d = int(deg)\n",
"    md = abs(deg - d) * 60\n",
"    m = int(md)\n",
"    sd = (md - m) * 60\n",
"    sd=round(sd*100)/100\n",
"    dms=[d m sd]\n",
"endfunction\n",
"//part1\n",
"RA=6+15.0/60+20.0/3600;//RA in hr\n",
"HA=8+10.0/60+30.0/3600;//hour angle in hr\n",
"//calculation\n",
"LST=RA+HA;\n",
"LST=degtodms(LST);\n",
"disp(LST,'LST in hr min sec');\n",
"//part2\n",
"RA=8+40.0/60+15.0/3600;//RA in hr\n",
"HA=3+50.0/60+20.0/3600;//hour angle in hr\n",
"//calculation\n",
"LST=RA-HA;\n",
"LST=degtodms(LST);\n",
"disp(LST,'LST in hr min sec');\n",
"clear()"
   ]
   }
,
{
		   "cell_type": "markdown",
		   "metadata": {},
		   "source": [
			"## Example 4.16: 23.sce"
		   ]
		  },
  {
"cell_type": "code",
	   "execution_count": null,
	   "metadata": {
	    "collapsed": true
	   },
	   "outputs": [],
"source": [
"\n",
"funcprot(0);\n",
"// Initialization of Variable\n",
"function[dms]=degtodms(deg)\n",
"    d = int(deg)\n",
"    md = abs(deg - d) * 60\n",
"    m = int(md)\n",
"    sd = (md - m) * 60\n",
"    sd=round(sd*100)/100\n",
"    dms=[d m sd]\n",
"endfunction\n",
"//part1\n",
"LHA=6+30.0/60+10.0/3600;//local hour angle in hr\n",
"//calculation\n",
"LAT=LHA+12;\n",
"LAT=degtodms(LAT);\n",
"disp(LAT,'LAT in hr min sec');\n",
"//part2\n",
"LHA=18+40.0/60+20.0/3600;//local hour angle in hr\n",
"//calculation\n",
"LAT=LHA+12-24;\n",
"LAT=degtodms(LAT);\n",
"disp(LAT,'LAT in hr min sec');\n",
"clear()"
   ]
   }
,
{
		   "cell_type": "markdown",
		   "metadata": {},
		   "source": [
			"## Example 4.17: 24.sce"
		   ]
		  },
  {
"cell_type": "code",
	   "execution_count": null,
	   "metadata": {
	    "collapsed": true
	   },
	   "outputs": [],
"source": [
"\n",
"funcprot(0);\n",
"// Initialization of Variable\n",
"function[dms]=degtodms(deg)\n",
"    d = int(deg)\n",
"    md = abs(deg - d) * 60\n",
"    m = int(md)\n",
"    sd = (md - m) * 60\n",
"    sd=round(sd*100)/100\n",
"    dms=[d m sd]\n",
"endfunction\n",
"Long=60.0;//longitude in derees east\n",
"LHA=5+30.0/60+20.0/3600;//local hour angle in hr\n",
"//calculation\n",
"LMT=LHA+12;\n",
"GMT=LMT-Long/15;\n",
"GMT=degtodms(GMT);\n",
"LMT=degtodms(LMT);\n",
"disp(LMT,'LMT in hr min sec');\n",
"disp(GMT,'GMT in hr min sec');\n",
"clear()"
   ]
   }
,
{
		   "cell_type": "markdown",
		   "metadata": {},
		   "source": [
			"## Example 4.18: 25.sce"
		   ]
		  },
  {
"cell_type": "code",
	   "execution_count": null,
	   "metadata": {
	    "collapsed": true
	   },
	   "outputs": [],
"source": [
"\n",
"funcprot(0);\n",
"// Initialization of Variable\n",
"function[dms]=degtodms(deg)\n",
"    d = int(deg)\n",
"    md = abs(deg - d) * 60\n",
"    m = int(md)\n",
"    sd = (md - m) * 60\n",
"    sd=round(sd*100)/100\n",
"    dms=[d m sd]\n",
"endfunction\n",
"//parta\n",
"GMT=0;//GMT in hr\n",
"ET=10.0/60+1.8/3600;//ET in hrs\n",
"//calculaion\n",
"GAT=GMT+ET;\n",
"GAT=degtodms(GAT);\n",
"disp(GAT,'GAT in hr min sec');\n",
"//partb\n",
"GMT=0;//GMT in hr\n",
"ET=-13.0/60-28.5/3600;//ET in hrs\n",
"//calculaion\n",
"GAT=GMT+ET+24;\n",
"GAT=degtodms(GAT);\n",
"disp(GAT,'GAT in hr min sec');\n",
"clear()"
   ]
   }
,
{
		   "cell_type": "markdown",
		   "metadata": {},
		   "source": [
			"## Example 4.1: 8.sce"
		   ]
		  },
  {
"cell_type": "code",
	   "execution_count": null,
	   "metadata": {
	    "collapsed": true
	   },
	   "outputs": [],
"source": [
"\n",
"clc; funcprot(0);\n",
"// Initialization of Variable\n",
"theta=25+14.0/60;//latitude in degrees in North\n",
"L1=29+15/60;//longitude in degrees in West\n",
"L2=45+25/60;//longitude in degrees in West\n",
"R=6370.0;//radius in km\n",
"//calculation\n",
"AB=cos(theta*%pi/180)*(L2-L1);//arc length in km\n",
"dis=2*%pi*R*AB/360.0;//distance in km\n",
"disp(dis,'distance of AB in m')\n",
"clear()"
   ]
   }
,
{
		   "cell_type": "markdown",
		   "metadata": {},
		   "source": [
			"## Example 4.19: 26.sce"
		   ]
		  },
  {
"cell_type": "code",
	   "execution_count": null,
	   "metadata": {
	    "collapsed": true
	   },
	   "outputs": [],
"source": [
"\n",
"funcprot(0);\n",
"// Initialization of Variable\n",
"function[dms]=degtodms(deg)\n",
"    d = int(deg)\n",
"    md = abs(deg - d) * 60\n",
"    m = int(md)\n",
"    sd = (md - m) * 60\n",
"    sd=round(sd*100)/100\n",
"    dms=[d m sd]\n",
"endfunction\n",
"ET1=-3.0/60-51.4/3600//ET at april 2 in hr\n",
"ET2=-3.0/60-33.5/3600//ET at april 3 in hr\n",
"//calculation\n",
"dET=(ET2-ET1)*18.0/24//change in ET\n",
"ET=ET1+dET;\n",
"ET=degtodms(ET);\n",
"disp(ET,'ET (-ve) in hr min s');\n",
"clear()"
   ]
   }
,
{
		   "cell_type": "markdown",
		   "metadata": {},
		   "source": [
			"## Example 4.20: 27.sce"
		   ]
		  },
  {
"cell_type": "code",
	   "execution_count": null,
	   "metadata": {
	    "collapsed": true
	   },
	   "outputs": [],
"source": [
"\n",
"funcprot(0);\n",
"// Initialization of Variable\n",
"function[dms]=degtodms(deg)\n",
"    d = int(deg)\n",
"    md = abs(deg - d) * 60\n",
"    m = int(md)\n",
"    sd = (md - m) * 60\n",
"    sd=round(sd*100)/100\n",
"    dms=[d m sd]\n",
"endfunction\n",
"LAT=15+12.0/60+40.0/3600;//latitude in degrees\n",
"Long=20+3.0/60;//longitude in degrees\n",
"GMN=5.0/60+10.65/3600;//GMN in hr\n",
"//calculation\n",
"GAT=LAT+Long/15.0;\n",
"e1=(GAT-12)*0.22/3600+GMN;\n",
"LAT=GAT+e1-Long/15.0;\n",
"LAT=degtodms(LAT);\n",
"disp(LAT,'LAT in hr min sec');\n",
"clear()"
   ]
   }
,
{
		   "cell_type": "markdown",
		   "metadata": {},
		   "source": [
			"## Example 4.21: 28.sce"
		   ]
		  },
  {
"cell_type": "code",
	   "execution_count": null,
	   "metadata": {
	    "collapsed": true
	   },
	   "outputs": [],
"source": [
"\n",
"funcprot(0);\n",
"// Initialization of Variable\n",
"function[dms]=degtodms(deg)\n",
"    d = int(deg)\n",
"    md = abs(deg - d) * 60\n",
"    m = int(md)\n",
"    sd = (md - m) * 60\n",
"    sd=round(sd*100)/100\n",
"    dms=[d m sd]\n",
"endfunction\n",
"Long=56+35.0/60;//Longitude in degrees\n",
"LMT=7+15.0/60+25.0/3600;//LMT in hr\n",
"GMN=3.0/60+54.0/3600;//GMT in hr\n",
"//calculation\n",
"GMT=LMT-Long/15.0;\n",
"e1=GMN+(12-GMN)*0.25/3600;\n",
"LAT=GMT+Long/15.0+e1;\n",
"LAT=degtodms(LAT);\n",
"disp(LAT,'LAT in hr min sec');\n",
"clear()"
   ]
   }
,
{
		   "cell_type": "markdown",
		   "metadata": {},
		   "source": [
			"## Example 4.22: 29.sce"
		   ]
		  },
  {
"cell_type": "code",
	   "execution_count": null,
	   "metadata": {
	    "collapsed": true
	   },
	   "outputs": [],
"source": [
"\n",
"funcprot(0);\n",
"// Initialization of Variable\n",
"function[dms]=degtodms(deg)\n",
"    d = int(deg)\n",
"    md = abs(deg - d) * 60\n",
"    m = int(md)\n",
"    sd = (md - m) * 60\n",
"    sd=round(sd*100)/100\n",
"    dms=[d m sd]\n",
"endfunction\n",
"ST=7+15.0/60+30.0/3600;//sideral time in hr\n",
"R=9.8296;//retardation in s\n",
"//calculation\n",
"tr=R/3600*ST;\n",
"ST=ST-tr;\n",
"ST=degtodms(ST);\n",
"disp(ST,'solar mean time in hr min sec');\n",
"clear()"
   ]
   }
,
{
		   "cell_type": "markdown",
		   "metadata": {},
		   "source": [
			"## Example 4.23: 30.sce"
		   ]
		  },
  {
"cell_type": "code",
	   "execution_count": null,
	   "metadata": {
	    "collapsed": true
	   },
	   "outputs": [],
"source": [
"\n",
"funcprot(0);\n",
"// Initialization of Variable\n",
"function[dms]=degtodms(deg)\n",
"    d = int(deg)\n",
"    md = abs(deg - d) * 60\n",
"    m = int(md)\n",
"    sd = (md - m) * 60\n",
"    sd=round(sd*100)/100\n",
"    dms=[d m sd]\n",
"endfunction\n",
"ST=7+45.0/60+50.0/3600;//solar time in hr\n",
"R=9.8565;//retardation in s\n",
"//calculation\n",
"tr=R/3600*ST;\n",
"ST=ST+tr;\n",
"ST=degtodms(ST);\n",
"disp(ST,'solar mean time in hr min sec');\n",
"clear()"
   ]
   }
,
{
		   "cell_type": "markdown",
		   "metadata": {},
		   "source": [
			"## Example 4.24: 31.sce"
		   ]
		  },
  {
"cell_type": "code",
	   "execution_count": null,
	   "metadata": {
	    "collapsed": true
	   },
	   "outputs": [],
"source": [
"\n",
"funcprot(0);\n",
"// Initialization of Variable\n",
"function[dms]=degtodms(deg)\n",
"    d = int(deg)\n",
"    md = abs(deg - d) * 60\n",
"    m = int(md)\n",
"    sd = (md - m) * 60\n",
"    sd=round(sd*100)/100\n",
"    dms=[d m sd]\n",
"endfunction\n",
"//part1\n",
"Long=140+35.0/60+20.0/3600;//longitude in degrees in West\n",
"GST=13+15.0/60+30.0/3600;//GST in hr\n",
"//calculation\n",
"LST=GST+9.8565/3600*Long/15.0;\n",
"LST=degtodms(LST);\n",
"disp(LST,'LST in hr min sec');\n",
"//part2\n",
"Long=160+45.0/60+30.0/3600;//longitude in degrees in East\n",
"GST=13+15.0/60+30.0/3600;//GST in hr\n",
"//calculation\n",
"LST=GST-9.8565/3600*Long/15.0;\n",
"LST=degtodms(LST);\n",
"disp(LST,'LST in hr min sec');\n",
"clear()"
   ]
   }
,
{
		   "cell_type": "markdown",
		   "metadata": {},
		   "source": [
			"## Example 4.25: 32.sce"
		   ]
		  },
  {
"cell_type": "code",
	   "execution_count": null,
	   "metadata": {
	    "collapsed": true
	   },
	   "outputs": [],
"source": [
"\n",
"funcprot(0);\n",
"// Initialization of Variable\n",
"function[dms]=degtodms(deg)\n",
"    d = int(deg)\n",
"    md = abs(deg - d) * 60\n",
"    m = int(md)\n",
"    sd = (md - m) * 60\n",
"    sd=round(sd*100)/100\n",
"    dms=[d m sd]\n",
"endfunction\n",
"Long=75.0;//longitude in degrees in West\n",
"GST=15+55.0/60+13.0/3600;//GST in hr\n",
"LMT=11.0;//LMT in hr\n",
"//calculation\n",
"LST=GST+Long/15.0*9.8565/3600+LMT+9.8565/3600*LMT;\n",
"LST=LST-24;\n",
"LST=degtodms(LST);\n",
"disp(LST,'LST of next day in deg min sec');\n",
"disp('there is slight change in the answer due to round off error in the question');\n",
"clear()"
   ]
   }
,
{
		   "cell_type": "markdown",
		   "metadata": {},
		   "source": [
			"## Example 4.26: 33.sce"
		   ]
		  },
  {
"cell_type": "code",
	   "execution_count": null,
	   "metadata": {
	    "collapsed": true
	   },
	   "outputs": [],
"source": [
"\n",
"funcprot(0);\n",
"// Initialization of Variable\n",
"function[dms]=degtodms(deg)\n",
"    d = int(deg)\n",
"    md = abs(deg - d) * 60\n",
"    m = int(md)\n",
"    sd = (md - m) * 60\n",
"    sd=round(sd*100)/100\n",
"    dms=[d m sd]\n",
"endfunction\n",
"Long=75.0;//longitude in degrees\n",
"GST=5+25.0/60+15.0/3600;//GST in hr\n",
"LMT=5.0+40.0/60;//LMT in hr\n",
"//calculation\n",
"LST=GST-Long/15.0*9.8565/3600+LMT+9.8565/3600*(LMT);\n",
"LST=degtodms(LST);\n",
"disp(LST,'LST of next day in deg min sec');\n",
"clear()"
   ]
   }
,
{
		   "cell_type": "markdown",
		   "metadata": {},
		   "source": [
			"## Example 4.27: 34.sce"
		   ]
		  },
  {
"cell_type": "code",
	   "execution_count": null,
	   "metadata": {
	    "collapsed": true
	   },
	   "outputs": [],
"source": [
"\n",
"funcprot(0);\n",
"// Initialization of Variable\n",
"function[dms]=degtodms(deg)\n",
"    d = int(deg)\n",
"    md = abs(deg - d) * 60\n",
"    m = int(md)\n",
"    sd = (md - m) * 60\n",
"    sd=round(sd*100)/100\n",
"    dms=[d m sd]\n",
"endfunction\n",
"Long=75.0;//longitude in degrees\n",
"GST=11+45.0/60+10.0/3600;//GSt in hr\n",
"LST=26+35.0/60+42.0/3600;//LST in hr\n",
"//calculation\n",
"LMM=GST+Long/15*9.8565/3600;\n",
"LMT=LST-LMM-(LST-LMM)*9.8296/3600;\n",
"LMT=degtodms(LMT-12)\n",
"disp(LMT,'LMT in hr min sec (PM)');\n",
"clear()"
   ]
   }
,
{
		   "cell_type": "markdown",
		   "metadata": {},
		   "source": [
			"## Example 4.28: 35.sce"
		   ]
		  },
  {
"cell_type": "code",
	   "execution_count": null,
	   "metadata": {
	    "collapsed": true
	   },
	   "outputs": [],
"source": [
"\n",
"funcprot(0);\n",
"// Initialization of Variable\n",
"function[dms]=degtodms(deg)\n",
"    d = int(deg)\n",
"    md = abs(deg - d) * 60\n",
"    m = int(md)\n",
"    sd = (md - m) * 60\n",
"    sd=round(sd*100)/100\n",
"    dms=[d m sd]\n",
"endfunction\n",
"Long=90.0;//longitude in degrees\n",
"GST=9+15.0/60+14.0/3600;//GST in hr\n",
"LST=31+35.0/60+12.0/3600;//LST in hr\n",
"//calculation\n",
"LMM=GST-Long/15*9.8565/3600;\n",
"LMT=LST-LMM-(LST-LMM)*9.8296/3600;\n",
"LMT=degtodms(LMT-12)\n",
"disp(LMT,'LMT in hr min sec (PM)');\n",
"clear()"
   ]
   }
,
{
		   "cell_type": "markdown",
		   "metadata": {},
		   "source": [
			"## Example 4.29: 36.sce"
		   ]
		  },
  {
"cell_type": "code",
	   "execution_count": null,
	   "metadata": {
	    "collapsed": true
	   },
	   "outputs": [],
"source": [
"\n",
"funcprot(0);\n",
"// Initialization of Variable\n",
"function[dms]=degtodms(deg)\n",
"    d = int(deg)\n",
"    md = abs(deg - d) * 60\n",
"    m = int(md)\n",
"    sd = (md - m) * 60\n",
"    sd=round(sd*100)/100\n",
"    dms=[d m sd]\n",
"endfunction\n",
"//part1\n",
"Long=150.0;//longitude in degrees\n",
"GST=12+25.0/60+15.0/3600;//GST in hr\n",
"LST=30+15.0/60+10.0/3600;//LST in hr\n",
"LMN=18+15.0/60+10.0/3600;//LMN in hr\n",
"//calculation\n",
"LMM=GST+Long/15*9.8565/3600;\n",
"LMT=LMN-LMM-(LMN-LMM)*9.8296/3600;\n",
"LMT=degtodms(LMT)\n",
"disp(LMT,'LMT in hr min sec (PM)');\n",
"//part2\n",
"LMM=GST+Long/15*9.8565/3600;\n",
"LMT=LST-LMM-(LST-LMM)*9.8296/3600;\n",
"LMT=degtodms(LMT-12)\n",
"disp(LMT,'LMT in hr min sec (AM)');\n",
"clear()"
   ]
   }
,
{
		   "cell_type": "markdown",
		   "metadata": {},
		   "source": [
			"## Example 4.2: 9.sce"
		   ]
		  },
  {
"cell_type": "code",
	   "execution_count": null,
	   "metadata": {
	    "collapsed": true
	   },
	   "outputs": [],
"source": [
"\n",
"clc; funcprot(0);\n",
"// Initialization of Variable\n",
"function[dms]=degtodms(deg)\n",
"    d = int(deg)\n",
"    md = abs(deg - d) * 60\n",
"    m = int(md)\n",
"    sd = (md - m) * 60\n",
"    sd=round(sd*100)/100\n",
"    dms=[d m sd]\n",
"endfunction\n",
"LongA=52+24.0/60;//longtitude in degrees\n",
"LongB=55+30.0/60;//longtitude in degrees\n",
"latA=18+10.0/60;//latitude in degrees\n",
"latB=15.0;//latitude in degrees\n",
"R=6370.0;//radius of earth\n",
"pi=3.14;\n",
"//calculation\n",
"P=LongB-LongA;\n",
"PA=90-latA;\n",
"PB=90-latB;\n",
"AB=acos(cos(PB*%pi/180)*cos(PA*%pi/180)+sin(PB*%pi/180)*sin(PA*%pi/180)*cos(P*%pi/180));\n",
"dis=AB*R;\n",
"//solving for A\n",
"a=[0.5,0.5;0.5,-0.5];\n",
"b=[atan(cos((PB/2-PA/2)*%pi/180)/tan(P*%pi/180)/cos((PB/2+PA/2)*%pi/180))*180/%pi;atan(sin((PB/2-PA/2)*%pi/180)/tan(P*%pi/180)/sin((PB/2+PA/2)*%pi/180))*180/%pi];\n",
"x=linsolve(a,-b);\n",
"x=degtodms(x(1));\n",
"disp(round(dis*100)/100,'distance of AB in Km');\n",
"disp(x,'direction of B to A in deg min sec towards east is:');\n",
"clear()"
   ]
   }
,
{
		   "cell_type": "markdown",
		   "metadata": {},
		   "source": [
			"## Example 4.30: 37.sce"
		   ]
		  },
  {
"cell_type": "code",
	   "execution_count": null,
	   "metadata": {
	    "collapsed": true
	   },
	   "outputs": [],
"source": [
"\n",
"funcprot(0);\n",
"// Initialization of Variable\n",
"function[dms]=degtodms(deg)\n",
"    d = int(deg)\n",
"    md = abs(deg - d) * 60\n",
"    m = int(md)\n",
"    sd = (md - m) * 60\n",
"    sd=round(sd*100)/100\n",
"    dms=[d m sd]\n",
"endfunction\n",
"theta=35+15.0/60+20.0/3600;//theta in degrees\n",
"delta=88+15.0/60+45.0/3600;//delta in degrees\n",
"RA=1+45.0/60+15.0/3600;//R.A. in degrees \n",
"//calculation\n",
"H=acos(tan(theta*%pi/180)/tan(delta*%pi/180));\n",
"H=H*180/%pi/15;\n",
"LST=RA+H;\n",
"LST=degtodms(LST);\n",
"disp(LST,'LST in hr min sec');\n",
"clear()"
   ]
   }
,
{
		   "cell_type": "markdown",
		   "metadata": {},
		   "source": [
			"## Example 4.3: 10.sce"
		   ]
		  },
  {
"cell_type": "code",
	   "execution_count": null,
	   "metadata": {
	    "collapsed": true
	   },
	   "outputs": [],
"source": [
"\n",
"clc; funcprot(0);\n",
"// Initialization of Variable\n",
"function[dms]=degtodms(deg)\n",
"    d = int(deg)\n",
"    md = abs(deg - d) * 60\n",
"    m = int(md)\n",
"    sd = (md - m) * 60\n",
"    sd=round(sd*100)/100\n",
"    dms=[d m sd]\n",
"endfunction\n",
"b=40.0;//distance in degrees\n",
"p=6.0;//disatnce in degrees\n",
"//calculation\n",
"a=%pi/2-asin(cos(b*%pi/180)*cos(p*%pi/180));\n",
"Bc=a*180/%pi-b;\n",
"BC=Bc*1.853*60;\n",
"B=asin(sin(b*%pi/180)/sin(a))\n",
"B=degtodms(B*180/%pi);\n",
"disp(round(BC*100)/100,'distance BC in km');\n",
"disp(B,'angle of B deg min sec');\n",
"clear()"
   ]
   }
,
{
		   "cell_type": "markdown",
		   "metadata": {},
		   "source": [
			"## Example 4.31: 38.sce"
		   ]
		  },
  {
"cell_type": "code",
	   "execution_count": null,
	   "metadata": {
	    "collapsed": true
	   },
	   "outputs": [],
"source": [
"\n",
"funcprot(0);\n",
"// Initialization of Variable\n",
"function[dms]=degtodms(deg)\n",
"    d = int(deg)\n",
"    md = abs(deg - d) * 60\n",
"    m = int(md)\n",
"    sd = (md - m) * 60\n",
"    sd=round(sd*100)/100\n",
"    dms=[d m sd]\n",
"endfunction\n",
"RA=22+25.0/60+10.0/3600;//R.A. in hr\n",
"ST=14+45.0/60//sidereal time in hr\n",
"Long=90.0;//longitude in degrees\n",
"GMT=27+15.0/60;//GMT in hr\n",
"LMN=15+21.0/60+15.0/3600;//LST of LMN in hr\n",
"//calculation\n",
"MT=12+24-GMT+Long/15//mean time interval\n",
"acc=9.8565/3600*MT;\n",
"HA=LMN-acc-MT;\n",
"LST=HA+24-RA;\n",
"LST=degtodms(LST);\n",
"disp(LST,'LST in hr min sec');\n",
"clear()"
   ]
   }
,
{
		   "cell_type": "markdown",
		   "metadata": {},
		   "source": [
			"## Example 4.32: 39.sce"
		   ]
		  },
  {
"cell_type": "code",
	   "execution_count": null,
	   "metadata": {
	    "collapsed": true
	   },
	   "outputs": [],
"source": [
"\n",
"funcprot(0);\n",
"// Initialization of Variable\n",
"function[dms]=degtodms(deg)\n",
"    d = int(deg)\n",
"    md = abs(deg - d) * 60\n",
"    m = int(md)\n",
"    sd = (md - m) * 60\n",
"    sd=round(sd*100)/100\n",
"    dms=[d m sd]\n",
"endfunction\n",
"//part1\n",
"Long=60;//longitude in degrees\n",
"GMT=11+15.0/60+20.0/3600;//GMT in hr\n",
"//calculation\n",
"LMT=GMT-Long/15*9.8296/3600;\n",
"LMT=degtodms(LMT);\n",
"disp(LMT,'LMT in hr min sec ');\n",
"//part2\n",
"Long=45;//Longitude in degrees\n",
"GMT=11+15.0/60+20.0/3600;//GMT in hr\n",
"//calculation\n",
"LMT=GMT+Long/15*9.8296/3600;\n",
"LMT=degtodms(LMT);\n",
"disp(LMT,'LMT in hr min sec');\n",
"clear()"
   ]
   }
,
{
		   "cell_type": "markdown",
		   "metadata": {},
		   "source": [
			"## Example 4.33: 40.sce"
		   ]
		  },
  {
"cell_type": "code",
	   "execution_count": null,
	   "metadata": {
	    "collapsed": true
	   },
	   "outputs": [],
"source": [
"\n",
"funcprot(0);\n",
"// Initialization of Variable\n",
"function[dms]=degtodms(deg)\n",
"    d = int(deg)\n",
"    md = abs(deg - d) * 60\n",
"    m = int(md)\n",
"    sd = (md - m) * 60\n",
"    sd=round(sd*100)/100\n",
"    dms=[d m sd]\n",
"endfunction\n",
"Long=75;//Longitude in degrees\n",
"GMT=6+18.0/60+20.0/3600;//GMT in hr\n",
"LST=10+25.0/60+15.0/3600;//LST in hr\n",
"//calculation\n",
"LMT=GMT+Long/15*9.8296/3600;\n",
"LST=LST-9.8296/3600*LST;\n",
"LMT=LMT+LST;\n",
"LMT=degtodms(LMT);\n",
"disp(LMT,'LMT in hr min sec ');\n",
"clear()"
   ]
   }
,
{
		   "cell_type": "markdown",
		   "metadata": {},
		   "source": [
			"## Example 4.34: 41.sce"
		   ]
		  },
  {
"cell_type": "code",
	   "execution_count": null,
	   "metadata": {
	    "collapsed": true
	   },
	   "outputs": [],
"source": [
"\n",
"funcprot(0);\n",
"// Initialization of Variable\n",
"//Part A\n",
"function[dms]=degtodms(deg)\n",
"    d = int(deg)\n",
"    md = abs(deg - d) * 60\n",
"    m = int(md)\n",
"    sd = (md - m) * 60\n",
"    sd=round(sd*100)/100\n",
"    dms=[d m sd]\n",
"endfunction\n",
"GST=7+35.0/60+40.0/3600;//GSt in hr\n",
"//calculation\n",
"GMT=24-GST-(24-GST)*9.8296/3600;\n",
"GMT=degtodms(GMT);\n",
"disp(GMT,'GMT in hr min sec');\n",
"//Part B\n",
"function[dms]=degtodms(deg)\n",
"    d = int(deg)\n",
"    md = abs(deg - d) * 60\n",
"    m = int(md)\n",
"    sd = (md - m) * 60\n",
"    sd=round(sd*100)/100\n",
"    dms=[d m sd]\n",
"endfunction\n",
"//part1\n",
"Long=120.0;//longitude in degrees\n",
"GMT=12+3.0/60+24.6/3600;//GMT in hr\n",
"//calculation\n",
"LMT=GMT-17.8/24*Long/15.0/3600;\n",
"LMT=degtodms(LMT);\n",
"disp(LMT,'LMT of LAN in hr min sec');\n",
"//part2\n",
"Long=45;//Longitude in degrees\n",
"GMT=12+3.0/60+24.6/3600;//GMT in hr\n",
"//calculation\n",
"LMT=GMT+17.8/24*Long/15.0/3600;\n",
"LMT=degtodms(LMT);\n",
"disp(LMT,'LMT of LAN in hr min sec');\n",
"clear()"
   ]
   }
,
{
		   "cell_type": "markdown",
		   "metadata": {},
		   "source": [
			"## Example 4.35: 42.sce"
		   ]
		  },
  {
"cell_type": "code",
	   "execution_count": null,
	   "metadata": {
	    "collapsed": true
	   },
	   "outputs": [],
"source": [
"\n",
"funcprot(0);\n",
"// Initialization of Variable\n",
"function[dms]=degtodms(deg)\n",
"    d = int(deg)\n",
"    md = abs(deg - d) * 60\n",
"    m = int(md)\n",
"    sd = (md - m) * 60\n",
"    sd=round(sd*100)/100\n",
"    dms=[d m sd]\n",
"endfunction\n",
"//one of the 2 solution\n",
"f0=5+1.9/60;//declination in degrees\n",
"n=0.25;//constant\n",
"del0=0;//del''0\n",
"del1=-0.1;//del''1\n",
"d2=23.0//del1/2\n",
"//calculation\n",
"fn=f0+n*d2/60+n*(n-1)/2*(del1+del0)/60;\n",
"fn=degtodms(fn)\n",
"disp(fn,'sun declination in deg min sec');\n",
"clear()"
   ]
   }
,
{
		   "cell_type": "markdown",
		   "metadata": {},
		   "source": [
			"## Example 4.36: 43.sce"
		   ]
		  },
  {
"cell_type": "code",
	   "execution_count": null,
	   "metadata": {
	    "collapsed": true
	   },
	   "outputs": [],
"source": [
"\n",
"funcprot(0);\n",
"// Initialization of Variable\n",
"function[dms]=degtodms(deg)\n",
"    d = int(deg)\n",
"    md = abs(deg - d) * 60\n",
"    m = int(md)\n",
"    sd = (md - m) * 60\n",
"    sd=round(sd*100)/100\n",
"    dms=[d m sd]\n",
"endfunction\n",
"alt=23+40.0/60;//altitude of star in degrees\n",
"azi=145.0;//azimuth of star in degrees\n",
"lat=50.0;//latitude in degrees\n",
"//calculation\n",
"delta=%pi/2-acos(cos(%pi/2-lat*%pi/180)*cos(%pi/2-alt*%pi/180)+sin(%pi/2-lat*%pi/180)*sin(%pi/2-alt*%pi/180)*cos(azi*%pi/180));\n",
"H=acos((cos(%pi/2-alt*%pi/180)-cos(%pi/2-lat*%pi/180)*cos(%pi/2-delta))/sin(%pi/2-lat*%pi/180)*sin(%pi/2-delta))\n",
"H=degtodms(360-H*180/%pi);\n",
"delta=degtodms(delta*180/%pi);\n",
"disp('there is a calculation mistake in calculating H in the book');\n",
"disp(delta,'declination in deg min sec');\n",
"disp(H,'hour angle in deg min sec');\n",
"clear()"
   ]
   }
,
{
		   "cell_type": "markdown",
		   "metadata": {},
		   "source": [
			"## Example 4.37: 44.sce"
		   ]
		  },
  {
"cell_type": "code",
	   "execution_count": null,
	   "metadata": {
	    "collapsed": true
	   },
	   "outputs": [],
"source": [
"\n",
"funcprot(0);\n",
"// Initialization of Variable\n",
"function[dms]=degtodms(deg)\n",
"    d = int(deg)\n",
"    md = abs(deg - d) * 60\n",
"    m = int(md)\n",
"    sd = (md - m) * 60\n",
"    sd=round(sd*100)/100\n",
"    dms=[d m sd]\n",
"endfunction\n",
"alt=25+30.0/60;//altitude in degrees\n",
"azi=45.0;//azimuth in degrees\n",
"lat=42.0;//latitude in degrees\n",
"//calculation\n",
"delta=%pi/2-acos(cos(%pi/2-lat*%pi/180)*cos(%pi/2-alt*%pi/180)+sin(%pi/2-lat*%pi/180)*sin(%pi/2-alt*%pi/180)*cos(azi*%pi/180));\n",
"H=acos((cos(%pi/2-alt*%pi/180)-cos(%pi/2-lat*%pi/180)*cos(%pi/2-delta))/sin(%pi/2-lat*%pi/180)*sin(%pi/2-delta))\n",
"H=degtodms(H*180/%pi);\n",
"delta=degtodms(delta*180/%pi);\n",
"disp(delta,'declination in deg min sec');\n",
"disp(H,'hour angle in deg min sec');\n",
"clear()"
   ]
   }
,
{
		   "cell_type": "markdown",
		   "metadata": {},
		   "source": [
			"## Example 4.38: 45.sce"
		   ]
		  },
  {
"cell_type": "code",
	   "execution_count": null,
	   "metadata": {
	    "collapsed": true
	   },
	   "outputs": [],
"source": [
"\n",
"funcprot(0);\n",
"// Initialization of Variable\n",
"function[dms]=degtodms(deg)\n",
"    d = int(deg)\n",
"    md = abs(deg - d) * 60\n",
"    m = int(md)\n",
"    sd = (md - m) * 60\n",
"    sd=round(sd*100)/100\n",
"    dms=[d m sd]\n",
"endfunction\n",
"delta=21.0*%pi/180+25.0/60*%pi/180;//delta in degrees\n",
"lat=25+40.0/60;//latitude in degrees\n",
"//calculation\n",
"H=acos((0-cos(%pi/2-lat*%pi/180)*cos(%pi/2-delta))/sin(%pi/2-lat*%pi/180)*sin(%pi/2-delta));\n",
"A=acos(cos(%pi/2-delta)/sin(%pi/2-lat*%pi/180));\n",
"H=degtodms(360-H*180/%pi);\n",
"A=degtodms(A*180/%pi);\n",
"disp(H,'hour angle in deg min sec');\n",
"disp(A,'azimuth in deg min sec');\n",
"disp('the answer differs slightly due to round off error');\n",
"clear()"
   ]
   }
,
{
		   "cell_type": "markdown",
		   "metadata": {},
		   "source": [
			"## Example 4.39: 46.sce"
		   ]
		  },
  {
"cell_type": "code",
	   "execution_count": null,
	   "metadata": {
	    "collapsed": true
	   },
	   "outputs": [],
"source": [
"\n",
"clc; funcprot(0);\n",
"// Initialization of Variable\n",
"function[dms]=degtodms(deg)\n",
"    d = int(deg)\n",
"    md = abs(deg - d) * 60\n",
"    m = int(md)\n",
"    sd = (md - m) * 60\n",
"    sd=round(sd*100)/100\n",
"    dms=[d m sd]\n",
"endfunction\n",
"//calculation\n",
"A=[1,1;1,-1];//matrix\n",
"b=[90;0];//matrix\n",
"x=linsolve(A,-b);\n",
"disp(x(1),'latitude in degrees')\n",
"clear()"
   ]
   }
,
{
		   "cell_type": "markdown",
		   "metadata": {},
		   "source": [
			"## Example 4.40: 47.sce"
		   ]
		  },
  {
"cell_type": "code",
	   "execution_count": null,
	   "metadata": {
	    "collapsed": true
	   },
	   "outputs": [],
"source": [
"\n",
"funcprot(0);\n",
"// Initialization of Variable\n",
"function[dms]=degtodms(deg)\n",
"    d = int(deg)\n",
"    md = abs(deg - d) * 60\n",
"    m = int(md)\n",
"    sd = (md - m) * 60\n",
"    sd=round(sd*100)/100\n",
"    dms=[d m sd]\n",
"endfunction\n",
"theta=53+20.0/60;//theta in degrees\n",
"delta=53+20.0/60;//delta in degrees\n",
"//calculation\n",
"alpha=theta+delta-90;\n",
"alpha=degtodms(alpha);\n",
"disp(alpha,'altitude in deg min sec');\n",
"clear()"
   ]
   }
,
{
		   "cell_type": "markdown",
		   "metadata": {},
		   "source": [
			"## Example 4.4: 11.sce"
		   ]
		  },
  {
"cell_type": "code",
	   "execution_count": null,
	   "metadata": {
	    "collapsed": true
	   },
	   "outputs": [],
"source": [
"\n",
"funcprot(0);\n",
"// Initialization of Variable\n",
"function[dms]=degtodms(deg)\n",
"    d = int(deg)\n",
"    md = abs(deg - d) * 60\n",
"    m = int(md)\n",
"    sd = (md - m) * 60\n",
"    sd=round(sd*100)/100\n",
"    dms=[d m sd]\n",
"endfunction\n",
"coal=90.0-28.0-24.0/60;//coaltitude in degrees\n",
"cola=90.0-48.0-30.0/60;//colatitude in degrees\n",
"//calculation\n",
"delta=%pi/2-acos((cos(coal*%pi/180)*cos(cola*%pi/180)+sin(coal*%pi/180)*sin(cola*%pi/180)*cos(50*%pi/180)));\n",
"H=acos(cos(coal*%pi/180)/(sin(cola*%pi/180)*cos(delta))-tan(delta)/tan(cola*%pi/180));\n",
"Ho=degtodms(H*180/%pi);\n",
"delta=degtodms(delta*180/%pi)\n",
"disp(Ho,'H in deg min sec');\n",
"disp(delta,'declination in deg mi sec');\n",
"clear()"
   ]
   }
,
{
		   "cell_type": "markdown",
		   "metadata": {},
		   "source": [
			"## Example 4.41: 48.sce"
		   ]
		  },
  {
"cell_type": "code",
	   "execution_count": null,
	   "metadata": {
	    "collapsed": true
	   },
	   "outputs": [],
"source": [
"\n",
"funcprot(0);\n",
"// Initialization of Variable\n",
"function[dms]=degtodms(deg)\n",
"    d = int(deg)\n",
"    md = abs(deg - d) * 60\n",
"    m = int(md)\n",
"    sd = (md - m) * 60\n",
"    sd=round(sd*100)/100\n",
"    dms=[d m sd]\n",
"endfunction\n",
"GMT=18+30.0/60;//GMT in hr\n",
"ET=1.0/60+25.4/3600-0.67*6.5/3600;//ET in hr\n",
"//calculation\n",
"GAT=GMT+ET;\n",
"GAT=degtodms(GAT)\n",
"disp(GAT,'GAT in hr min sec');\n",
"clear()"
   ]
   }
,
{
		   "cell_type": "markdown",
		   "metadata": {},
		   "source": [
			"## Example 4.42: 49.sce"
		   ]
		  },
  {
"cell_type": "code",
	   "execution_count": null,
	   "metadata": {
	    "collapsed": true
	   },
	   "outputs": [],
"source": [
"\n",
"funcprot(0);\n",
"// Initialization of Variable\n",
"function[dms]=degtodms(deg)\n",
"    d = int(deg)\n",
"    md = abs(deg - d) * 60\n",
"    m = int(md)\n",
"    sd = (md - m) * 60\n",
"    sd=round(sd*100)/100\n",
"    dms=[d m sd]\n",
"endfunction\n",
"Long=30.0;//longitude in degrees\n",
"GAT=13+15.0/60+10.0/3600;//GAT in hr\n",
"ET=6.0/60+15.35/3600+0.3/3600*1.25278;//ET in hr\n",
"//calculation\n",
"LMT=GAT+ET-Long/15.0;\n",
"LMT=degtodms(LMT);\n",
"disp(LMT,'LMT in hr min sec');\n",
"clear()"
   ]
   }
,
{
		   "cell_type": "markdown",
		   "metadata": {},
		   "source": [
			"## Example 4.43: 50.sce"
		   ]
		  },
  {
"cell_type": "code",
	   "execution_count": null,
	   "metadata": {
	    "collapsed": true
	   },
	   "outputs": [],
"source": [
"\n",
"funcprot(0);\n",
"// Initialization of Variable\n",
"function[dms]=degtodms(deg)\n",
"    d = int(deg)\n",
"    md = abs(deg - d) * 60\n",
"    m = int(md)\n",
"    sd = (md - m) * 60\n",
"    sd=round(sd*100)/100\n",
"    dms=[d m sd]\n",
"endfunction\n",
"Long=45.0;//longitude in degrees\n",
"E=11+55.0/60+5.0/3600-1.5/6*17.0/3/3600;//E in hr\n",
"//calculation\n",
"GMT=14+40.0/60+Long/15.0;\n",
"GHA=GMT+E;\n",
"LHA=GHA-24-Long/15;\n",
"LHA=degtodms(LHA);\n",
"disp(LHA,'LHA of the sun in hr min sec');\n",
"clear()"
   ]
   }
,
{
		   "cell_type": "markdown",
		   "metadata": {},
		   "source": [
			"## Example 4.44: 51.sce"
		   ]
		  },
  {
"cell_type": "code",
	   "execution_count": null,
	   "metadata": {
	    "collapsed": true
	   },
	   "outputs": [],
"source": [
"\n",
"funcprot(0);\n",
"// Initialization of Variable\n",
"function[dms]=degtodms(deg)\n",
"    d = int(deg)\n",
"    md = abs(deg - d) * 60\n",
"    m = int(md)\n",
"    sd = (md - m) * 60\n",
"    sd=round(sd*100)/100\n",
"    dms=[d m sd]\n",
"endfunction\n",
"E=11+55.0/60+24.0/3600+0.5/3600*(2+40.0/60+21.2/3600);//E in hr\n",
"GHA=8+35.0/60+45.2/3600;//GHA in hr\n",
"//calculation\n",
"GMT=GHA+24-E;\n",
"GMT=degtodms(GMT);\n",
"disp(GMT,'GMT in hr min sec');\n",
"clear()"
   ]
   }
,
{
		   "cell_type": "markdown",
		   "metadata": {},
		   "source": [
			"## Example 4.5: 12.sce"
		   ]
		  },
  {
"cell_type": "code",
	   "execution_count": null,
	   "metadata": {
	    "collapsed": true
	   },
	   "outputs": [],
"source": [
"\n",
"funcprot(0);\n",
"// Initialization of Variable\n",
"function[dms]=degtodms(deg)\n",
"    d = int(deg)\n",
"    md = abs(deg - d) * 60\n",
"    m = int(md)\n",
"    sd = (md - m) * 60\n",
"    sd=round(sd*100)/100\n",
"    dms=[d m sd]\n",
"endfunction\n",
"delta=22+45.0/60;//declination in degrees\n",
"theta=55.0;//latitude in degrees\n",
"H=45+15.0/60;//hour angle in degrees\n",
"//calculation\n",
"alpha=asin((cos(H*%pi/180)+tan(theta*%pi/180)*tan(delta*%pi/180))*cos(theta*%pi/180)*cos(delta*%pi/180));\n",
"alpha=alpha*180/%pi;\n",
"A=acos(sin(delta*%pi/180)/(cos(theta*%pi/180)*cos(alpha*%pi/180))-tan(alpha*%pi/180)*tan(theta*%pi/180));\n",
"A=degtodms(360-A*180/%pi);\n",
"disp(A,'azimuth in deg mi sec');\n",
"clear()"
   ]
   }
,
{
		   "cell_type": "markdown",
		   "metadata": {},
		   "source": [
			"## Example 4.6: 13.sce"
		   ]
		  },
  {
"cell_type": "code",
	   "execution_count": null,
	   "metadata": {
	    "collapsed": true
	   },
	   "outputs": [],
"source": [
"\n",
"funcprot(0);\n",
"// Initialization of Variable\n",
"function[dms]=degtodms(deg)\n",
"    d = int(deg)\n",
"    md = abs(deg - d) * 60\n",
"    m = int(md)\n",
"    sd = (md - m) * 60\n",
"    sd=round(sd*100)/100\n",
"    dms=[d m sd]\n",
"endfunction\n",
"coal=42.0;//coalatitude in degrees\n",
"code=100+40.0/60//co-declination in degrees\n",
"//calculation\n",
"alpha=%pi/2-acos((cos(coal*%pi/180)*cos(code*%pi/180)+sin(coal*%pi/180)*sin(code*%pi/180)*cos(35*%pi/180)));\n",
"A=acos((cos(code*%pi/180)-cos(coal*%pi/180)*cos(%pi/2-alpha))/(sin(coal*%pi/180)*sin(%pi/2-alpha)));\n",
"A=degtodms(A*180/%pi);\n",
"alpha=degtodms(alpha*180/%pi);\n",
"disp(A,'azimuth in deg min sec towards east is:');\n",
"disp(alpha,'alpha in deg min sec');\n",
"clear()"
   ]
   }
,
{
		   "cell_type": "markdown",
		   "metadata": {},
		   "source": [
			"## Example 4.7: 14.sce"
		   ]
		  },
  {
"cell_type": "code",
	   "execution_count": null,
	   "metadata": {
	    "collapsed": true
	   },
	   "outputs": [],
"source": [
"\n",
"funcprot(0);\n",
"// Initialization of Variable\n",
"function[dms]=degtodms(deg)\n",
"    d = int(deg)\n",
"    md = abs(deg - d) * 60\n",
"    m = int(md)\n",
"    sd = (md - m) * 60\n",
"    sd=round(sd*100)/100\n",
"    dms=[d m sd]\n",
"endfunction\n",
"theta=33.0+42.0/60.0+34.0/3600.0;//latitude in degrees\n",
"delta=81.0+55.0/60.0+14.0/3600.0;//declination in degrees\n",
"//calculation\n",
"H1=acos(tan(theta*%pi/180)/tan(delta*%pi/180));\n",
"H1=degtodms(360-H1*180/%pi);\n",
"alpha=asin(sin(theta*%pi/180)/sin(delta*%pi/180));\n",
"alpha=degtodms(alpha*180/%pi);\n",
"A=asin(cos(delta*%pi/180)/cos(theta*%pi/180));\n",
"A=degtodms(A*180/%pi);\n",
"disp(A,'azimuth in deg min sec');\n",
"disp(alpha,'alpha in deg min sec');\n",
"disp(H1,'hour angle in deg min sec');\n",
"disp('the answer of azimuth differs slightly due to roundoff error and slight mistake in the book')\n",
"clear()"
   ]
   }
,
{
		   "cell_type": "markdown",
		   "metadata": {},
		   "source": [
			"## Example 4.8: 15.sce"
		   ]
		  },
  {
"cell_type": "code",
	   "execution_count": null,
	   "metadata": {
	    "collapsed": true
	   },
	   "outputs": [],
"source": [
"\n",
"clc; funcprot(0);\n",
"// Initialization of Variable\n",
"alpha=0.0;//degrees\n",
"theta=25+45.0/60;//latitude in degrees\n",
"//calculation\n",
"delta=asin(sin(alpha)/sin(theta*%pi/180));\n",
"disp(delta,'declination in degrees')\n",
"clear()"
   ]
   }
,
{
		   "cell_type": "markdown",
		   "metadata": {},
		   "source": [
			"## Example 4.9: 16.sce"
		   ]
		  },
  {
"cell_type": "code",
	   "execution_count": null,
	   "metadata": {
	    "collapsed": true
	   },
	   "outputs": [],
"source": [
"\n",
"funcprot(0);\n",
"// Initialization of Variable\n",
"function[dms]=degtodms(deg)\n",
"    d = int(deg)\n",
"    md = abs(deg - d) * 60\n",
"    m = int(md)\n",
"    sd = (md - m) * 60\n",
"    sd=round(sd*100)/100\n",
"    dms=[d m sd]\n",
"endfunction\n",
"cola=90.0-49.0//colatitude in degrees\n",
"code=90.0+19.0//codeclination in degrees\n",
"//calculation\n",
"A1=acos((cos(code*%pi/180)-cos(cola*%pi/180)*cos(%pi/2))/sin(cola*%pi/180)/sin(%pi/2));\n",
"A1=degtodms(360-A1*180/%pi);\n",
"H=acos((0-cos(cola*%pi/180)*cos(code*%pi/180))/sin(cola*%pi/180)*sin(code*%pi/180));\n",
"H=degtodms(H*180/%pi);\n",
"disp(A1,'azimuth in deg min sec');\n",
"disp(H,'hour angle in deg min sec');\n",
"disp('the hour angle differs slightly due to round off error')\n",
"clear()"
   ]
   }
],
"metadata": {
		  "kernelspec": {
		   "display_name": "Scilab",
		   "language": "scilab",
		   "name": "scilab"
		  },
		  "language_info": {
		   "file_extension": ".sce",
		   "help_links": [
			{
			 "text": "MetaKernel Magics",
			 "url": "https://github.com/calysto/metakernel/blob/master/metakernel/magics/README.md"
			}
		   ],
		   "mimetype": "text/x-octave",
		   "name": "scilab",
		   "version": "0.7.1"
		  }
		 },
		 "nbformat": 4,
		 "nbformat_minor": 0
}
