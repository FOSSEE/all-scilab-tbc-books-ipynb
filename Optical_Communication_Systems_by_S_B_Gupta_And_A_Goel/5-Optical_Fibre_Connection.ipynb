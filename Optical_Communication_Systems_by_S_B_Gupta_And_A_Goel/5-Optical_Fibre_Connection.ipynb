{
"cells": [
 {
		   "cell_type": "markdown",
	   "metadata": {},
	   "source": [
       "# Chapter 5: Optical Fibre Connection"
	   ]
	},
{
		   "cell_type": "markdown",
		   "metadata": {},
		   "source": [
			"## Example 5.1: Fraction_of_Reflected_and_Transmitted_Power.sce"
		   ]
		  },
  {
"cell_type": "code",
	   "execution_count": null,
	   "metadata": {
	    "collapsed": true
	   },
	   "outputs": [],
"source": [
"//Exa 5.1 \n",
"clc;\n",
"clear;\n",
"close;\n",
"//Given data :\n",
"format('v',6)\n",
"n=1.5;//refractive index\n",
"R=[(1-n)/(1+n)]^2;//unitless\n",
"disp(R*100,'Reflected light in % ');\n",
"disp(100-R*100,'The remainder transmitted light in % ');\n",
"loss=-10*log10(1-R);//in dB\n",
"disp(loss,'Transmission loss in dB : ');"
   ]
   }
,
{
		   "cell_type": "markdown",
		   "metadata": {},
		   "source": [
			"## Example 5.2: Loss_in_dB_due_to_Fresnels_reflection.sce"
		   ]
		  },
  {
"cell_type": "code",
	   "execution_count": null,
	   "metadata": {
	    "collapsed": true
	   },
	   "outputs": [],
"source": [
"//Exa 5.2\n",
"clc;\n",
"clear;\n",
"close;\n",
"//Given data :\n",
"format('v',5);\n",
"n1=3.6;//refractive index\n",
"n2=1.48;//refractive index\n",
"R=[(n1-n2)/(n1+n2)]^2;//unitless\n",
"loss=-10*log10(1-R);//in dB\n",
"disp(loss,'Transmission loss in dB : ');"
   ]
   }
],
"metadata": {
		  "kernelspec": {
		   "display_name": "Scilab",
		   "language": "scilab",
		   "name": "scilab"
		  },
		  "language_info": {
		   "file_extension": ".sce",
		   "help_links": [
			{
			 "text": "MetaKernel Magics",
			 "url": "https://github.com/calysto/metakernel/blob/master/metakernel/magics/README.md"
			}
		   ],
		   "mimetype": "text/x-octave",
		   "name": "scilab",
		   "version": "0.7.1"
		  }
		 },
		 "nbformat": 4,
		 "nbformat_minor": 0
}
