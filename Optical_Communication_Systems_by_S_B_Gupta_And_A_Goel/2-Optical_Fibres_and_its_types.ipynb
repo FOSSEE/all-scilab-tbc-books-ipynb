{
"cells": [
 {
		   "cell_type": "markdown",
	   "metadata": {},
	   "source": [
       "# Chapter 2: Optical Fibres and its types"
	   ]
	},
{
		   "cell_type": "markdown",
		   "metadata": {},
		   "source": [
			"## Example 2.10: Numeriacal_aperture_and_Critical_Aangle.sce"
		   ]
		  },
  {
"cell_type": "code",
	   "execution_count": null,
	   "metadata": {
	    "collapsed": true
	   },
	   "outputs": [],
"source": [
"//Exa 2.10\n",
"clc;\n",
"clear;\n",
"close;\n",
"//Given data :\n",
"fi_o=22;//in Degree\n",
"delta=3;//relative refractive index difference in %\n",
"//Part (a) :\n",
"//Formula : NA=sin(fi_o).....(max)\n",
"NA=sind(fi_o);//Numerical Aperture(Unitless)\n",
"disp(NA,'Numerical Aperture : ');\n",
"//Part (b) :\n",
"//Formula : n2/n1=1-delta\n",
"//Let say, n2/n1=n2byn1\n",
"n2byn1=(1-delta/100);//refractive index(unitless)\n",
"//Formula : sin(fi_C)=n2/n1;\n",
"fi_c=asind(n2byn1);//in degree\n",
"disp(fi_c,'Critical Angle at core cladding interface in Degree : ');"
   ]
   }
,
{
		   "cell_type": "markdown",
		   "metadata": {},
		   "source": [
			"## Example 2.11: Speed_of_light_in_Fibre_Core.sce"
		   ]
		  },
  {
"cell_type": "code",
	   "execution_count": null,
	   "metadata": {
	    "collapsed": true
	   },
	   "outputs": [],
"source": [
"//Exa 2.11\n",
"clc;\n",
"clear;\n",
"close;\n",
"//Given data :\n",
"format('v',9)\n",
"delta=0.45;//relative refractive index difference in %\n",
"fi_o=0.115;//in Radian\n",
"c=3*10^8;//speed of light in m/s\n",
"//Formula : NA=sin(fi_o).....(max)\n",
"NA=sin(fi_o);//Numerical Aperture(Unitless)\n",
"//Formula : NA=n1*sqrt(2*delta)\n",
"n1=NA/sqrt(2*delta/100);//unitless\n",
"//Formula : n1=c/v;\n",
"v=c/n1;//in m/s\n",
"disp('Speed of light in fibre core is '+string(v)+' m/s');"
   ]
   }
,
{
		   "cell_type": "markdown",
		   "metadata": {},
		   "source": [
			"## Example 2.12: Diameter_of_the_Fibre_Core.sce"
		   ]
		  },
  {
"cell_type": "code",
	   "execution_count": null,
	   "metadata": {
	    "collapsed": true
	   },
	   "outputs": [],
"source": [
"//Exa 2.12\n",
"clc;\n",
"clear;\n",
"close;\n",
"//Given data :\n",
"n1=1.5;//Unitless\n",
"delta=1;//relative refractive index difference in %\n",
"lambda=1.3;//in um\n",
"N=1100;//No. of modes\n",
"//Formula : v=2*%pi*a*n1*NA/lambda;\n",
"//NA=sqrt(2*delta)\n",
"//v=sqrt(2*N)\n",
"a=(sqrt(2*N)*lambda)/(2*%pi*n1*sqrt(2*delta/100));//Normalized frequency\n",
"disp(2*a,'Diameter of the fiber core in micro meter is : ');"
   ]
   }
,
{
		   "cell_type": "markdown",
		   "metadata": {},
		   "source": [
			"## Example 2.13: Relative_Refractive_Index_Difference.sce"
		   ]
		  },
  {
"cell_type": "code",
	   "execution_count": null,
	   "metadata": {
	    "collapsed": true
	   },
	   "outputs": [],
"source": [
"//Exa 2.13\n",
"clc;\n",
"clear;\n",
"close;\n",
"//Given data :\n",
"format('v',5)\n",
"n1=1.52;//unitless\n",
"fi_o=8;//in Degree\n",
"//Formula : sin(fi_o)=n1*sqrt(2*delta)\n",
"delta=(sind(fi_o)/n1)^2/2;//Relative refractive index\n",
"disp('The value of relative refractive index difference is '+string(delta*100)+'%');"
   ]
   }
,
{
		   "cell_type": "markdown",
		   "metadata": {},
		   "source": [
			"## Example 2.14: Wavelength_of_the_Light.sce"
		   ]
		  },
  {
"cell_type": "code",
	   "execution_count": null,
	   "metadata": {
	    "collapsed": true
	   },
	   "outputs": [],
"source": [
"//Exa 2.14\n",
"clc;\n",
"clear;\n",
"close;\n",
"//Given data :\n",
"N=700;//No. of modes\n",
"d=30;//in um\n",
"a=d/2;//in um\n",
"NA=0.62;//Numerical Aperture\n",
"//Formula : v=2*sqrt(N) and v=2*%pi*a*NA/lambda\n",
"lambda=2*%pi*a*NA/(2*sqrt(N));//in um\n",
"disp(lambda,'Wavelength of light propagating in fibre in micro meter : ');"
   ]
   }
,
{
		   "cell_type": "markdown",
		   "metadata": {},
		   "source": [
			"## Example 2.15: Normalized_Frequency_and_No_of_modes.sce"
		   ]
		  },
  {
"cell_type": "code",
	   "execution_count": null,
	   "metadata": {
	    "collapsed": true
	   },
	   "outputs": [],
"source": [
"//Exa 2.15\n",
"clc;\n",
"clear;\n",
"close;\n",
"//Given data :\n",
"n1=1.5;//unitless\n",
"alfa=2;//characteristic index profile\n",
"d=40;//in um\n",
"a=d/2;//in um\n",
"//Part (a) :\n",
"lambda=1.3;//in um\n",
"delta=1;\n",
"//Formula : v=2*%pi*a*NA/lambda=2*%pi*a*(n1*sqrt(2*delta))/lambda\n",
"v=2*%pi*a*(n1*sqrt(2*delta/100))/lambda;//Unitless\n",
"disp(v,'Normalized Frequency for single mode transmission : ');\n",
"//Part (b) :\n",
"//Formula : N=(alfa/alfa+2)*(v^2/2)\n",
"N=(alfa/(alfa+2))*(v^2/2);//No. of guided modes\n",
"disp(N,'No. of guided modes propagating in the fibre : ');"
   ]
   }
,
{
		   "cell_type": "markdown",
		   "metadata": {},
		   "source": [
			"## Example 2.16: No_of_Guided_Modes.sce"
		   ]
		  },
  {
"cell_type": "code",
	   "execution_count": null,
	   "metadata": {
	    "collapsed": true
	   },
	   "outputs": [],
"source": [
"//Exa 2.16\n",
"clc;\n",
"clear;\n",
"close;\n",
"//Given data :\n",
"d=60;//in um\n",
"a=d/2;//in um\n",
"NA=0.25;//Unitless\n",
"lambda=1.1;//in um\n",
"v=2*%pi*a*NA/lambda;//unitless\n",
"N=v^2/4;//No. of modes\n",
"disp(N,'Number of supported guided modes :');"
   ]
   }
,
{
		   "cell_type": "markdown",
		   "metadata": {},
		   "source": [
			"## Example 2.17: Refractive_Index_Difference_and_acceptance_angle.sce"
		   ]
		  },
  {
"cell_type": "code",
	   "execution_count": null,
	   "metadata": {
	    "collapsed": true
	   },
	   "outputs": [],
"source": [
"//Exa 2.17\n",
"clc;\n",
"clear;\n",
"close;\n",
"//Given data :\n",
"format('v',8)\n",
"d=10;//in um\n",
"a=d/2;//in um\n",
"lambda_c=1.3;//in um\n",
"n1=1.55;//unitless\n",
"//Part (a)\n",
"//for single mode transmission cut-off wavelength is lambda_c=2*%pi*a*n1*sqrt(2*delta)/2.405\n",
"delta=(lambda_c*2.405/(2*%pi*a*n1))^2/2;//unitless\n",
"disp(delta,'Normalized refractive index difference in % : ');\n",
"//Part (b) \n",
"//Formula : n2/n1=delta\n",
"n2=n1*(1-delta);\n",
"disp(n2,'Refractive index of cladding glass : ');\n",
"//Part (c) :\n",
"fi_o=asind(n1*sqrt(2*delta));//in degree\n",
"disp(fi_o,'Acceptance angle in degree : ');"
   ]
   }
,
{
		   "cell_type": "markdown",
		   "metadata": {},
		   "source": [
			"## Example 2.18: Shortest_Wavelength_and_Relative_refractive_index.sce"
		   ]
		  },
  {
"cell_type": "code",
	   "execution_count": null,
	   "metadata": {
	    "collapsed": true
	   },
	   "outputs": [],
"source": [
"//Exa 2.18\n",
"clc;\n",
"clear;\n",
"close;\n",
"//Given data :\n",
"format('v',5);\n",
"d=7;//in um\n",
"a=d/2;//in um\n",
"n1=1.49;//unitless\n",
"delta=1;//relative refractive index difference in %\n",
"//Part (a)\n",
"//Formula : lambda_c=2*%pi*a*n1*sqrt(2*delta)/2.405;\n",
"lambda_c=2*%pi*a*n1*sqrt(2*delta/100)/2.405;//in um\n",
"disp(lambda_c,'Shortest wavelength of the light in micre meter :');\n",
"//Part (b) \n",
"//Formula : delta=(1/2)*{2.405*lambda_c/(2*%pi*a*n1)}^2\n",
"d=10;//in um\n",
"a=d/2;//in um\n",
"delta=(1/2)*{2.405*lambda_c/(2*%pi*a*n1)}^2;//unitless\n",
"disp(delta*100,'Maximum possible relative refractive index difference in % :');"
   ]
   }
,
{
		   "cell_type": "markdown",
		   "metadata": {},
		   "source": [
			"## Example 2.19: Fibre_Core_diameter.sce"
		   ]
		  },
  {
"cell_type": "code",
	   "execution_count": null,
	   "metadata": {
	    "collapsed": true
	   },
	   "outputs": [],
"source": [
"//Exa 2.19\n",
"clc;\n",
"clear;\n",
"close;\n",
"//Given data :\n",
"format('v',5);\n",
"n1=1.49;//unitless\n",
"n2=1.48;//unitless\n",
"lambda_c=1.5;//in um\n",
"//Formula : a=2.405*lambda_c/(2*%pi*sqrt(n1^2-n2^2))\n",
"a=2.405*lambda_c/(2*%pi*sqrt(n1^2-n2^2));//in um\n",
"disp(2*a,'Fibre core diameter in micro meter : ');"
   ]
   }
,
{
		   "cell_type": "markdown",
		   "metadata": {},
		   "source": [
			"## Example 2.1: Refractive_Index_of_cladding.sce"
		   ]
		  },
  {
"cell_type": "code",
	   "execution_count": null,
	   "metadata": {
	    "collapsed": true
	   },
	   "outputs": [],
"source": [
"//Exa 2.1 \n",
"clc;\n",
"clear;\n",
"close;\n",
"//Given data :\n",
"n1=1.40;//refractive index\n",
"delta=1;//relative refractive index difference in %\n",
"//Formula : n2/n1=1-delta\n",
"n2=n1*(1-delta/100);//refractive index(unitless)\n",
"disp(n2,'Refractive index of cladding : ');"
   ]
   }
,
{
		   "cell_type": "markdown",
		   "metadata": {},
		   "source": [
			"## Example 2.20: Wavelength_of_the_Light_and_fibre_diameter.sce"
		   ]
		  },
  {
"cell_type": "code",
	   "execution_count": null,
	   "metadata": {
	    "collapsed": true
	   },
	   "outputs": [],
"source": [
"//Exa 2.20\n",
"clc;\n",
"clear;\n",
"close;\n",
"//Given data :\n",
"N=742;//No. of guided modes(unitless)\n",
"n1=1.5;//unitlessnm\n",
"alfa=2;//characteristic index profile\n",
"NA=0.3;//unitless\n",
"d=70;//in um\n",
"a=d/2;//in um\n",
"alfa=2;//Graded index profile for parabolic\n",
"//Formula : N=(alfa/(alfa+2))/(v^2/2)\n",
"v=sqrt(N*((alfa+2)/alfa)*2);//Unitless\n",
"//Formula : v=2*%pi*a*NA/lambda\n",
"lambda=2*%pi*a*NA/v;//in um\n",
"disp(lambda,'Wavelength of light propagating in fibre in micro meter :');\n",
"//Formula : lambvda_c=lambda=2*%pi*a*NA/(2.405*(sqrt((alfa+2)/alfa)))\n",
"a=lambda*(2.405*(sqrt((alfa+2)/alfa)))/(2*%pi*NA);//in um\n",
"disp(2*a,'Diameter of fibre in micro meter : ');\n",
"//Note : Answer in the book is not accurate."
   ]
   }
,
{
		   "cell_type": "markdown",
		   "metadata": {},
		   "source": [
			"## Example 2.21: Single_Mode_Transmission.sce"
		   ]
		  },
  {
"cell_type": "code",
	   "execution_count": null,
	   "metadata": {
	    "collapsed": true
	   },
	   "outputs": [],
"source": [
"//Exa 2.21\n",
"clc;\n",
"clear;\n",
"close;\n",
"//Given data :\n",
"format('v',5);\n",
"n1=1.447;//unitless\n",
"n2=1.442;//unitless\n",
"lambda=1.3;//in um\n",
"d=7.2;//in um\n",
"a=d/2;//in um\n",
"//Formula : v=2*%pi*a*sqrt(n1^2-n2^2)/lambda\n",
"v=2*%pi*a*sqrt(n1^2-n2^2)/lambda;//unitless\n",
"disp(v,'Value of v : ');\n",
"disp('To achieve single mode transmission in an idealised step index fibre, Value of v must be less than 2.405. Hence, the fibre given will permit single mode          transmission.')"
   ]
   }
,
{
		   "cell_type": "markdown",
		   "metadata": {},
		   "source": [
			"## Example 2.23: Cut_off_normalized_frequency.sce"
		   ]
		  },
  {
"cell_type": "code",
	   "execution_count": null,
	   "metadata": {
	    "collapsed": true
	   },
	   "outputs": [],
"source": [
"//Exa 2.23\n",
"clc;\n",
"clear;\n",
"close;\n",
"//Given data :\n",
"format('v',5);\n",
"alfa=1.9;\n",
"//characteristic index profile\n",
"//Formula : v=2.405*sqrt[(alfa+2)/alfa]\n",
"v=2.405*sqrt((alfa+2)/alfa);//unitless\n",
"disp(v,'Value of v : ');\n",
"//Note : Answer in the book is not accurate."
   ]
   }
,
{
		   "cell_type": "markdown",
		   "metadata": {},
		   "source": [
			"## Example 2.24: Maximum_Diameter_of_fibre.sce"
		   ]
		  },
  {
"cell_type": "code",
	   "execution_count": null,
	   "metadata": {
	    "collapsed": true
	   },
	   "outputs": [],
"source": [
"//Exa 2.24\n",
"clc;\n",
"clear;\n",
"close;\n",
"//Given data :\n",
"delta=1;//relative refractive index difference in %\n",
"n1=1.47;//unitless\n",
"lambda=1.5;//in um\n",
"disp('v=2*%pi*a*n1*sqrt(2*delta)/lambda');\n",
"disp('For single mode transmission in graded index fibre, v=2.405*sqrt((alfa+2)/alfa)');\n",
"disp('Hence we have :');\n",
"alfa=2;//unitless\n",
"a=2.405*sqrt((alfa+2)/alfa)*lambda/(2*%pi*n1*sqrt(2*delta/100));\n",
"disp(2*a,'Hence the diameter in micro meter : ');"
   ]
   }
,
{
		   "cell_type": "markdown",
		   "metadata": {},
		   "source": [
			"## Example 2.25: Maximum_Diameter_for_step_index_fibre.sce"
		   ]
		  },
  {
"cell_type": "code",
	   "execution_count": null,
	   "metadata": {
	    "collapsed": true
	   },
	   "outputs": [],
"source": [
"//Exa 2.24\n",
"clc;\n",
"clear;\n",
"close;\n",
"//Given data :\n",
"delta=1;//relative refractive index difference in %\n",
"n1=1.47;//unitless\n",
"lambda=1.5;//in um\n",
"alfa=2;//unitless\n",
"//Formula : v=2*%pi*a*n1*sqrt(2*delta)/lambda\n",
"a=2.405*lambda/(2*%pi*n1*sqrt(2*delta/100));\n",
"disp(2*a,'Hence the diameter in micro meter : ');"
   ]
   }
,
{
		   "cell_type": "markdown",
		   "metadata": {},
		   "source": [
			"## Example 2.2: Critical_Angle_at_core_cladding_interface.sce"
		   ]
		  },
  {
"cell_type": "code",
	   "execution_count": null,
	   "metadata": {
	    "collapsed": true
	   },
	   "outputs": [],
"source": [
"//Exa 2.2\n",
"clc;\n",
"clear;\n",
"close;\n",
"//Given data :\n",
"format('v',5);\n",
"n1=1.50;//refractive index\n",
"n2=1.47;//refractive index\n",
"//Formula : sin(theta_C)=n2/n1;\n",
"theta_c=asind((n2/n1));//in degree\n",
"disp(theta_c,'Critical Angle at core cladding interface in Degree : ');"
   ]
   }
,
{
		   "cell_type": "markdown",
		   "metadata": {},
		   "source": [
			"## Example 2.3: Numeriacal_aperture_of_the_fibre.sce"
		   ]
		  },
  {
"cell_type": "code",
	   "execution_count": null,
	   "metadata": {
	    "collapsed": true
	   },
	   "outputs": [],
"source": [
"//Exa 2.3\n",
"clc;\n",
"clear;\n",
"close;\n",
"//Given data :\n",
"format('v',5);\n",
"delta=1;//relative refractive index difference in %\n",
"n1=1.50;//refractive index\n",
"//Formula : NA=n1*sqrt(2*delta);\n",
"NA=n1*sqrt(2*delta/100);\n",
"disp(NA,'Numerical Aperture of the fibre : ');"
   ]
   }
,
{
		   "cell_type": "markdown",
		   "metadata": {},
		   "source": [
			"## Example 2.4: Numeriacal_aperture_and_Acceptance_angle.sce"
		   ]
		  },
  {
"cell_type": "code",
	   "execution_count": null,
	   "metadata": {
	    "collapsed": true
	   },
	   "outputs": [],
"source": [
"//Exa 2.4\n",
"clc;\n",
"clear;\n",
"close;\n",
"//Given data :\n",
"format('v',5);\n",
"delta=1;//relative refractive index difference in %\n",
"n1=1.55;//refractive index\n",
"n2=1.51;//refractive index\n",
"//Formula : NA=sqrt(n1^2-n2^2);\n",
"NA=sqrt(n1^2-n2^2)\n",
"disp(NA,'Numerical Aperture of the fibre : ');\n",
"//Formula : NA=sin(fi_o).....(max)\n",
"fi_o_max=asind(NA);//in Degree\n",
"disp(fi_o_max,'Acceptance angle in degree : ');"
   ]
   }
,
{
		   "cell_type": "markdown",
		   "metadata": {},
		   "source": [
			"## Example 2.5: Acceptance_and_critical_Angle.sce"
		   ]
		  },
  {
"cell_type": "code",
	   "execution_count": null,
	   "metadata": {
	    "collapsed": true
	   },
	   "outputs": [],
"source": [
"//Exa 2.5\n",
"clc;\n",
"clear;\n",
"close;\n",
"//Given data :\n",
"format('v',5);\n",
"NA=0.40;//Unitless\n",
"n1=1.50;//refractive index\n",
"delta=1;//relative refractive index difference in %\n",
"//Part (a) :\n",
"//Formula : NA=sin(fi_o).....(max)\n",
"fi_o_max=asind(NA);//in Degree\n",
"disp(fi_o_max,'Acceptance angle in degree : ');\n",
"//Part (b) :\n",
"//Formula : n2/n1=1-delta\n",
"n2=n1*(1-delta/100);//refractive index(unitless)\n",
"//Formula : sin(theta_C)=n2/n1;\n",
"theta_c=asind((n2/n1));//in degree\n",
"disp(theta_c,'Critical Angle at core cladding interface in Degree : ');"
   ]
   }
,
{
		   "cell_type": "markdown",
		   "metadata": {},
		   "source": [
			"## Example 2.6: Refractive_Index_and_Numeriacal_aperture.sce"
		   ]
		  },
  {
"cell_type": "code",
	   "execution_count": null,
	   "metadata": {
	    "collapsed": true
	   },
	   "outputs": [],
"source": [
"//Exa 2.6\n",
"clc;\n",
"clear;\n",
"close;\n",
"//Given data :\n",
"v=2*10^8;//in m/s\n",
"fi_c=60;//in degree\n",
"//Part (a)\n",
"//Formula : v=c/n;\n",
"c=3*10^8;//in m/s\n",
"n1=c/v;//unitless\n",
"disp(n1,'Refractive index of core : ');\n",
"//Formula : sin(fi_c)=n2/n1;\n",
"n2=n1*sin(fi_c*%pi/180);//unitless\n",
"disp(n2,'Refractive index of cladding :');\n",
"//Part (b)\n",
"NA=sqrt(n1^2-n2^2);//Unitless\n",
"disp(NA,'Numerical Aperture : ');"
   ]
   }
,
{
		   "cell_type": "markdown",
		   "metadata": {},
		   "source": [
			"## Example 2.7: V_number_of_Fibre.sce"
		   ]
		  },
  {
"cell_type": "code",
	   "execution_count": null,
	   "metadata": {
	    "collapsed": true
	   },
	   "outputs": [],
"source": [
"//Exa 2.7\n",
"clc;\n",
"clear;\n",
"close;\n",
"//Given data :\n",
"d=30;//in um\n",
"a=d/2;//in um\n",
"lambda=0.80;//in um\n",
"NA=0.74;//Unitless\n",
"V=2*%pi*a*NA/lambda;//V number\n",
"disp(V,'V number is : ');"
   ]
   }
,
{
		   "cell_type": "markdown",
		   "metadata": {},
		   "source": [
			"## Example 2.8: Normalized_Frequency_and_No_of_modes.sce"
		   ]
		  },
  {
"cell_type": "code",
	   "execution_count": null,
	   "metadata": {
	    "collapsed": true
	   },
	   "outputs": [],
"source": [
"//Exa 2.8\n",
"clc;\n",
"clear;\n",
"close;\n",
"//Given data :\n",
"d=60;//in um\n",
"a=d/2;//in um\n",
"delta=1;//relative refractive index difference in %\n",
"lambda=0.80;//in um\n",
"n1=1.5;//Unitless\n",
"//Part (a)\n",
"//Formula : v=2*%pi*a*n1*NA/lambda;\n",
"//NA=sqrt(2*delta)\n",
"v=2*%pi*a*n1*sqrt(2*delta/100)/lambda;//Normalized frequency\n",
"disp(v,'Normalized frequency for the fiber : ');\n",
"//Part (b)\n",
"disp('Only the modes with cut-off v numbers below this value will propagate.');\n",
"N=v^2/2;//No. of modes supported\n",
"disp(round(N),'Number of modes supported : ');\n",
"//Note : Answer in the book is wrong."
   ]
   }
,
{
		   "cell_type": "markdown",
		   "metadata": {},
		   "source": [
			"## Example 2.9: Normalized_Frequency.sce"
		   ]
		  },
  {
"cell_type": "code",
	   "execution_count": null,
	   "metadata": {
	    "collapsed": true
	   },
	   "outputs": [],
"source": [
"//Exa 2.9\n",
"clc;\n",
"clear;\n",
"close;\n",
"//Given data :\n",
"NA=0.16;//Unitless\n",
"d=30;//in um\n",
"a=d/2;//in um\n",
"n1=1.50;//Unitless\n",
"lambda=0.9;//in um\n",
"v=2*%pi*a*NA/lambda;//V number\n",
"N=v^2/2;//No. of modes propagate\n",
"disp(ceil(N),'Number of guided modes in the fibre : ');"
   ]
   }
],
"metadata": {
		  "kernelspec": {
		   "display_name": "Scilab",
		   "language": "scilab",
		   "name": "scilab"
		  },
		  "language_info": {
		   "file_extension": ".sce",
		   "help_links": [
			{
			 "text": "MetaKernel Magics",
			 "url": "https://github.com/calysto/metakernel/blob/master/metakernel/magics/README.md"
			}
		   ],
		   "mimetype": "text/x-octave",
		   "name": "scilab",
		   "version": "0.7.1"
		  }
		 },
		 "nbformat": 4,
		 "nbformat_minor": 0
}
