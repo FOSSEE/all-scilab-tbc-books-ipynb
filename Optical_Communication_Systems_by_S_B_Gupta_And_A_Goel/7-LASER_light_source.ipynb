{
"cells": [
 {
		   "cell_type": "markdown",
	   "metadata": {},
	   "source": [
       "# Chapter 7: LASER light source"
	   ]
	},
{
		   "cell_type": "markdown",
		   "metadata": {},
		   "source": [
			"## Example 7.1: Ratio_of_stimulated_to_spontaneous_emission_Rate.sce"
		   ]
		  },
  {
"cell_type": "code",
	   "execution_count": null,
	   "metadata": {
	    "collapsed": true
	   },
	   "outputs": [],
"source": [
"//Exa 7.1\n",
"clc;\n",
"clear;\n",
"close;\n",
"//Given data :\n",
"format('v',10);\n",
"lambda=1.5;//in um\n",
"T=900;//in kelvin\n",
"h=6.63*10^-34;//Planks contant\n",
"c=3*10^8;//speed of light in m/s\n",
"K=1.38*10^-23;//Boltzman Constant\n",
"//Formula : StiEmissionRate/SponEmissionRate=1/(exp(h*F/(K*T))-1)=1/(exp(h*c/(K*T*lambda))-1)\n",
"StiEmRateBySponEmRate=1/(exp(h*c/(K*T*lambda*10^-6))-1);\n",
"disp(StiEmRateBySponEmRate,'Stimulated Emission Rate/Spontanious Emission Rate is : ');"
   ]
   }
,
{
		   "cell_type": "markdown",
		   "metadata": {},
		   "source": [
			"## Example 7.2: Length_of_Optical_Cavity_and_no_of_modes.sce"
		   ]
		  },
  {
"cell_type": "code",
	   "execution_count": null,
	   "metadata": {
	    "collapsed": true
	   },
	   "outputs": [],
"source": [
"//Exa 7.2\n",
"clc;\n",
"clear;\n",
"close;\n",
"//Given data :\n",
"lambda=0.8;//in um\n",
"lambda=lambda*10^-6;//in meter\n",
"deltaNEU=300;//in GHz\n",
"deltaNEU=deltaNEU*10^9;//in Hz\n",
"c=3*10^8;//speed of light in m/s\n",
"n=3.6;//Refractive index(unitless)\n",
"//Part (a) :\n",
"//Formula : deltaNEU=c/(2*n*L)\n",
"L=c/(2*n*deltaNEU);//in meter\n",
"disp(L*10^6,'Length of optical cavity in micro meter :')\n",
"//Part(b) : \n",
"K=2*n*L/lambda;//No. of longitudinal modes\n",
"disp(K,'No. of longitudinal modes : ');"
   ]
   }
,
{
		   "cell_type": "markdown",
		   "metadata": {},
		   "source": [
			"## Example 7.3: Length_of_crystal_and_Frequency_separation.sce"
		   ]
		  },
  {
"cell_type": "code",
	   "execution_count": null,
	   "metadata": {
	    "collapsed": true
	   },
	   "outputs": [],
"source": [
"//Exa 7.3\n",
"clc;\n",
"clear;\n",
"close;\n",
"//Given data :\n",
"lambda=0.55;//in um\n",
"lambda=lambda*10^-6;//in meter\n",
"c=3*10^8;//speed of light in m/s\n",
"n=1.78;//Refractive index(unitless)\n",
"K=260000;//No. of longitudinal modes\n",
"//Part (a) :\n",
"L=K*lambda/(2*n);//in meter\n",
"disp(L,'Length of the crystal in  meter : ');\n",
"//Part (b) :\n",
"deltaNEU=c/(2*n*L);//in Hz\n",
"disp(deltaNEU*10^-9,'Frequency separation of longitudinal modes in GHz : ');"
   ]
   }
,
{
		   "cell_type": "markdown",
		   "metadata": {},
		   "source": [
			"## Example 7.4: wavelength_and_Linewidth.sce"
		   ]
		  },
  {
"cell_type": "code",
	   "execution_count": null,
	   "metadata": {
	    "collapsed": true
	   },
	   "outputs": [],
"source": [
"//Exa 7.4\n",
"clc;\n",
"clear;\n",
"close;\n",
"//Given data :\n",
"Eg=1.43;//in eV\n",
"deltaLambda=0.1;//in nm\n",
"deltaLambda=deltaLambda*10^-9//in meter\n",
"c=3*10^8;//speed of light in m/s\n",
"h=6.63*10^-34;//Planks contant\n",
"//Part (a) :\n",
"//Fomula : Eg=h*c/lambda\n",
"lambda=h*c/(Eg*1.6*10^-19);//in meter\n",
"disp(lambda*10^6,'Wavelength of optical emission in micro meter : ');\n",
"//Part (b) :\n",
"//Formula : deltaNEU=c*deltaLambda/lambda^2;//in Hz\n",
"deltaNEU=c*deltaLambda/lambda^2;//in Hz\n",
"disp(deltaNEU*10^-9,'Frequency separation of longitudinal modes in GHz : ');"
   ]
   }
,
{
		   "cell_type": "markdown",
		   "metadata": {},
		   "source": [
			"## Example 7.5: Ratio_of_threshold_current_densities.sce"
		   ]
		  },
  {
"cell_type": "code",
	   "execution_count": null,
	   "metadata": {
	    "collapsed": true
	   },
	   "outputs": [],
"source": [
"//Exa 7.5\n",
"clc;\n",
"clear;\n",
"close;\n",
"//Given data :\n",
"format('v',4)\n",
"To=150;//in kelvin\n",
"T1=20;//in degree C\n",
"T1=T1+273;//in kelvin\n",
"T2=70;//in degree C\n",
"T2=T2+273;//in kelvin\n",
"//Formula ; Jth=exp(T/To)\n",
"Jth20=exp(T1/To);\n",
"Jth70=exp(T2/To)\n",
"ratio=Jth70/Jth20;//unitless\n",
"disp(ratio,'Ratio of current densities for AlGaAs injection laser : ');"
   ]
   }
,
{
		   "cell_type": "markdown",
		   "metadata": {},
		   "source": [
			"## Example 7.6: Grating_Period.sce"
		   ]
		  },
  {
"cell_type": "code",
	   "execution_count": null,
	   "metadata": {
	    "collapsed": true
	   },
	   "outputs": [],
"source": [
"//Exa 7.6\n",
"clc;\n",
"clear;\n",
"close;\n",
"//Given data :\n",
"lambda=1.55;//in um\n",
"m=1;//for first order\n",
"n=3.5;//Refractive Index(unitless)\n",
"//Formula : GratingPeriod=m*lambda/(2*n)\n",
"GratingPeriod=m*lambda/(2*n);//in um\n",
"disp(GratingPeriod,'grating Period for an InGaAsP DFB Laser diode : ');"
   ]
   }
,
{
		   "cell_type": "markdown",
		   "metadata": {},
		   "source": [
			"## Example 7.7: Frequency_spread_and_wavelength_spread.sce"
		   ]
		  },
  {
"cell_type": "code",
	   "execution_count": null,
	   "metadata": {
	    "collapsed": true
	   },
	   "outputs": [],
"source": [
"//Exa 7.8\n",
"clc;\n",
"clear;\n",
"close;\n",
"//Given data :\n",
"format('v',5)\n",
"L=0.3;//in mm\n",
"L=L*10^-3;//in meter\n",
"n=3.6;//Refractive Index(unitless)\n",
"c=3*10^8;//speed of light in m/s\n",
"lambda=0.82;//in um\n",
"lambda=lambda*10^-6;//in meter\n",
"deltaNEU=c/(2*n*L);//in Hz\n",
"disp(deltaNEU*10^-9,'Frequency spread between longitudinal modes in GHz');\n",
"deltaLambda=lambda^2/(c/deltaNEU)//in meter\n",
"disp(deltaLambda*10^9,'Wavelength spread between longitudinal modes in nano meter : ');"
   ]
   }
],
"metadata": {
		  "kernelspec": {
		   "display_name": "Scilab",
		   "language": "scilab",
		   "name": "scilab"
		  },
		  "language_info": {
		   "file_extension": ".sce",
		   "help_links": [
			{
			 "text": "MetaKernel Magics",
			 "url": "https://github.com/calysto/metakernel/blob/master/metakernel/magics/README.md"
			}
		   ],
		   "mimetype": "text/x-octave",
		   "name": "scilab",
		   "version": "0.7.1"
		  }
		 },
		 "nbformat": 4,
		 "nbformat_minor": 0
}
