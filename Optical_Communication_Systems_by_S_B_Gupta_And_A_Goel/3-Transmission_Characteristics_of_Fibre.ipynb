{
"cells": [
 {
		   "cell_type": "markdown",
	   "metadata": {},
	   "source": [
       "# Chapter 3: Transmission Characteristics of Fibre"
	   ]
	},
{
		   "cell_type": "markdown",
		   "metadata": {},
		   "source": [
			"## Example 3.10: Pulse_and_Material_Dispersion.sce"
		   ]
		  },
  {
"cell_type": "code",
	   "execution_count": null,
	   "metadata": {
	    "collapsed": true
	   },
	   "outputs": [],
"source": [
"//Exa 3.10\n",
"clc;\n",
"clear;\n",
"close;\n",
"//Given data :\n",
"Dmat=0.15;//in ns/nm-km\n",
"lambda=0.9;//in um\n",
"deltaTau_s=1.5;//in nm\n",
"//part (a) \n",
"//formula : deltaTmat/L=deltaTau_s*Dmat\n",
"deltaTmatBYL=deltaTau_s*Dmat;//in ns/Km\n",
"disp('Pulse dispersion per unit length of fibre is '+string(deltaTmatBYL)+' ns/Km');\n",
"//part (b)\n",
"L=15;//in Km \n",
"//formula : deltaTmat=deltaTau_s*Dmat*L\n",
"deltaTmat=deltaTau_s*Dmat*L;//in ns\n",
"disp('Material dispersion per in a 15 Km length of fibre is '+string(deltaTmat)+' ns');"
   ]
   }
,
{
		   "cell_type": "markdown",
		   "metadata": {},
		   "source": [
			"## Example 3.11: Material_Dispersion_coefficient_and_rms_pulse_broadning.sce"
		   ]
		  },
  {
"cell_type": "code",
	   "execution_count": null,
	   "metadata": {
	    "collapsed": true
	   },
	   "outputs": [],
"source": [
"//Exa 3.11\n",
"clc;\n",
"clear;\n",
"close;\n",
"//Given data :\n",
"//Let Material Dispersion, lambda^2*(d^2n/dlambda^2)=a\n",
"a=0.03;//in ns\n",
"deltaTau_s=15;//in nm\n",
"lambda=1.3;//in um\n",
"lambda=1.3*10^3;//in nm\n",
"c=3*10^8;//speed of light in m/s\n",
"c=3*10^5;//speed of light in Km/s\n",
"//Part (a)\n",
"Dmat=a/(lambda*c);//sec/nm-Km\n",
"Dmat=Dmat*10^12;//ps/nm-Km\n",
"disp('Material dispersion coefficient at a wavelength of 1.3 micro meter is '+string(Dmat)+' ps/nm-Km');\n",
"//Part (b)\n",
"deltaTmat_perKm=deltaTau_s*Dmat;//in ps/km\n",
"disp('Rms pulse broadning per Km due to material dispersion is '+string(deltaTmat_perKm)+' ps/km or '+string(deltaTmat_perKm*10^-3)+' ns/km');\n",
"//Note : Ans is  not accurate in the book."
   ]
   }
,
{
		   "cell_type": "markdown",
		   "metadata": {},
		   "source": [
			"## Example 3.12: delay_Difference_and_max_Bit_Rate.sce"
		   ]
		  },
  {
"cell_type": "code",
	   "execution_count": null,
	   "metadata": {
	    "collapsed": true
	   },
	   "outputs": [],
"source": [
"//Exa 3.12\n",
"clc;\n",
"clear;\n",
"close;\n",
"//Given data :\n",
"l=6;//in Km\n",
"n1=1.5;//unitless\n",
"delta=1//in %\n",
"c=3*10^8;//speed of light in m/s\n",
"//Part (a)\n",
"deltaT=l*10^3*n1*(delta/100)/c;//in sec\n",
"deltaT=deltaT*10^9;//in ns\n",
"disp(deltaT,'Delay difference between the slowest and fastest modes at output in ns : ');\n",
"//Part (b)\n",
"B=1/(2*deltaT*10^-9);//in bps\n",
"B=B*10^-6;//in Mbps\n",
"disp(B,'Assuming no intersymbol interference, maximum bit rate in Mbps : ');"
   ]
   }
,
{
		   "cell_type": "markdown",
		   "metadata": {},
		   "source": [
			"## Example 3.13: Critical_Radius_of_Curvature.sce"
		   ]
		  },
  {
"cell_type": "code",
	   "execution_count": null,
	   "metadata": {
	    "collapsed": true
	   },
	   "outputs": [],
"source": [
"//Exa 3.13\n",
"clc;\n",
"clear;\n",
"close;\n",
"//Given data :\n",
"lambda=1.3;//in um\n",
"lambda=1.3*10^-6;//in m\n",
"n1=1.5;//unitless\n",
"delta=3//in %\n",
"c=3*10^8;//speed of light in m/s\n",
"n2=n1*(1-delta/100);//unitless\n",
"Rcm=3*n1^2*lambda/(4*%pi*(n1^2-n2^2)^(3/2));//in meter\n",
"Rcm=Rcm*10^6;//in um\n",
"disp(Rcm,' Critical radius of curvature in micro meter : ');"
   ]
   }
,
{
		   "cell_type": "markdown",
		   "metadata": {},
		   "source": [
			"## Example 3.14: Critical_Radius_of_Curvature.sce"
		   ]
		  },
  {
"cell_type": "code",
	   "execution_count": null,
	   "metadata": {
	    "collapsed": true
	   },
	   "outputs": [],
"source": [
"//Exa 3.14\n",
"clc;\n",
"clear;\n",
"close;\n",
"//Given data :\n",
"d=8;//in um\n",
"a=d/2;//in um\n",
"a=a*10^-6;//in meter\n",
"n1=1.5;//unitless\n",
"n2=1.46;//unitless\n",
"lambda=1.55;//in um\n",
"lambda=1.55*10^-6;//in meter\n",
"c=3*10^8;//speed of light in m/s\n",
"lambda_c=(2*%pi*a*sqrt(n1^2-n2^2))/2.405;//in meter\n",
"Rcs=(20*lambda/(n1-n2)^(3/2))*[(2.748*lambda_c-0.996*lambda)/lambda_c]^-3;//in meter\n",
"Rcs=Rcs*10^3;//in mm\n",
"disp(Rcs,' Critical radius of curvature in milli meter : ');\n",
"//Note : Answer in the book is wrong."
   ]
   }
,
{
		   "cell_type": "markdown",
		   "metadata": {},
		   "source": [
			"## Example 3.15: Refractive_Index_of_cladding_refractive_index_difference.sce"
		   ]
		  },
  {
"cell_type": "code",
	   "execution_count": null,
	   "metadata": {
	    "collapsed": true
	   },
	   "outputs": [],
"source": [
"//Exa 3.15\n",
"clc;\n",
"clear;\n",
"close;\n",
"//Given data :\n",
"format('v',6);\n",
"n1=1.49;//unitless\n",
"Rcs=10.4;//in mm\n",
"Rcs=Rcs*10^-3;//in meter\n",
"lambda=1.3;//in um\n",
"lambda=1.3*10^-6;//in meter\n",
"c=3*10^8;//speed of light in m/s\n",
"lambda_c=1.15;//in um\n",
"lambda_c=lambda_c*10^-6;//in meter\n",
"//part (a) :\n",
"//formula : (n1-n2)^(3/2)=(20*lambda/Rcs)*[(2.748*lambda_c-0.996*lambda)/lambda_c]^-3\n",
"n2=n1-(20*lambda/Rcs)^(2/3)*[(2.748*lambda_c-0.996*lambda)/lambda_c]^(-3*2/3);//unitless\n",
"disp(n2,'Refractive index of cladding : ');\n",
"//Part (b) :\n",
"delta=(n1-n2)/n1;//unitless\n",
"disp(delta*100,'Relative refractive index diference in % : ');"
   ]
   }
,
{
		   "cell_type": "markdown",
		   "metadata": {},
		   "source": [
			"## Example 3.16: Wavelength_of_the_transmitted_Light.sce"
		   ]
		  },
  {
"cell_type": "code",
	   "execution_count": null,
	   "metadata": {
	    "collapsed": true
	   },
	   "outputs": [],
"source": [
"//Exa 3.16\n",
"clc;\n",
"clear;\n",
"close;\n",
"//Given data :\n",
"n1=1.46;//unitless\n",
"n2=1.45;//unitless\n",
"Rcm=84;//in um\n",
"Rcm=Rcm*10^-6;//in meter\n",
"lambda=Rcm*4*%pi*(n1^2-n2^2)^(3/2)/(3*n1^2);//in meter\n",
"disp(lambda*10^6,'Wavelength of transmitted light in micro meter : ');"
   ]
   }
,
{
		   "cell_type": "markdown",
		   "metadata": {},
		   "source": [
			"## Example 3.1: Maximum_Allowed_Bit_Rate.sce"
		   ]
		  },
  {
"cell_type": "code",
	   "execution_count": null,
	   "metadata": {
	    "collapsed": true
	   },
	   "outputs": [],
"source": [
"//Exa 3.1 \n",
"clc;\n",
"clear;\n",
"close;\n",
"//Given data :\n",
"lambda=1.5;//im um\n",
"deltaTwg=0.5;//in ns\n",
"deltaTmat=2.8;//in ns\n",
"Tt=2.5;//in ns\n",
"//For single mode fibre, deltaTmod=0;//in ns\n",
"deltaTmod=0;//in ns\n",
"deltaTtotal=sqrt(deltaTmod^2+deltaTmat^2+deltaTwg^2);//in ns\n",
"Tr=sqrt(Tt^2+deltaTtotal^2);//in ns\n",
"B=1/(2*Tr*10^-9);//in bits/sec\n",
"disp(B*10^-6,'Maximum allowed bit rate for the fibre in Mbits/sec : ');\n",
"//Note : Answer in the book s not accurate."
   ]
   }
,
{
		   "cell_type": "markdown",
		   "metadata": {},
		   "source": [
			"## Example 3.2: Intermodal_Dispersion.sce"
		   ]
		  },
  {
"cell_type": "code",
	   "execution_count": null,
	   "metadata": {
	    "collapsed": true
	   },
	   "outputs": [],
"source": [
"//Exa 3.2\n",
"clc;\n",
"clear;\n",
"close;\n",
"//Given data :\n",
"n1=1.55;//unitless\n",
"n2=1.50;//unitless\n",
"l=15;//in Km\n",
"delta=(n1-n2)/n1;//unitless\n",
"c=3*10^8;//in m/s\n",
"deltaT=n1*delta/c;//in ns/m\n",
"deltaT=n1*delta*1000/c;//in ns/Km\n",
"disp(deltaT,'Intermodal dispersion per Km of length in ns/Km : ');\n",
"deltaTtotal=deltaT*l*1000;//in ns\n",
"disp(deltaTtotal*1000,'Total intermodal dispersion in micro second : ');\n",
"//Note : Answer in the book is not accurate."
   ]
   }
,
{
		   "cell_type": "markdown",
		   "metadata": {},
		   "source": [
			"## Example 3.3: Pulse_Broadning_per_Km.sce"
		   ]
		  },
  {
"cell_type": "code",
	   "execution_count": null,
	   "metadata": {
	    "collapsed": true
	   },
	   "outputs": [],
"source": [
"//Exa 3.3\n",
"clc;\n",
"clear;\n",
"close;\n",
"//Given data :\n",
"//Formula Pulse Broadning per Km : deltaTmat(per Km)=(deltaTAUs*1000/c)*(lambda*d2n/dlambda^2)\n",
"deltaTAUs=45;//in nm\n",
"deltaTAUs=45*10^-9;//in m\n",
"lambda=0.9;//in um\n",
"lambda=0.9*10^-6;//in m\n",
"//let say, d^2n/dlambda^2=a\n",
"a=4*10^-2;//in um^-2\n",
"a=a*(10^-6)^-2;//in m^-2\n",
"c=3*10^8;//in m/s\n",
"deltaTmat_Km=(deltaTAUs*1000/c)*(lambda*a);//in sec/Km\n",
"disp(deltaTmat_Km*10^9,'Pulse broadning per Km in nano second per Km : ');"
   ]
   }
,
{
		   "cell_type": "markdown",
		   "metadata": {},
		   "source": [
			"## Example 3.4: Intermodal_Dispersion.sce"
		   ]
		  },
  {
"cell_type": "code",
	   "execution_count": null,
	   "metadata": {
	    "collapsed": true
	   },
	   "outputs": [],
"source": [
"//Exa 3.4\n",
"clc;\n",
"clear;\n",
"close;\n",
"//Given data :\n",
"n1=1.55;//unitless\n",
"n2=1.50;//unitless\n",
"l=15;//in Km\n",
"delta=(n1-n2)/n1;//unitless\n",
"c=3*10^8;//in m/s\n",
"//Formula Intermodal_dispersion/m : deltaT_perKm=n1*delta^2/(8*c)\n",
"//Formula Intermodal_dispersion/Km : deltaT_perKm=n1*delta^2*1000/(8*c)\n",
"deltaT_perKm=n1*delta^2*1000/(8*c);//in sec/km\n",
"deltaT_perKm=deltaT_perKm*10^9//in nanosec/km\n",
"disp(deltaT_perKm,'Total intermodal dispersion per Km in nano second per Km : ');\n",
"disp('Which is very much less than the step index fibre. the total intermodal dispersion for length of 15 Km :');\n",
"deltaTtotal=deltaT_perKm*l;//in ns\n",
"disp(deltaTtotal,'Total intermodal dispersion for 15 Km length in nano second : ');\n",
"//Note : Answer in the book is not accurate."
   ]
   }
,
{
		   "cell_type": "markdown",
		   "metadata": {},
		   "source": [
			"## Example 3.5: Bandwidth_Distance_Product_and_dispersion_limited_length.sce"
		   ]
		  },
  {
"cell_type": "code",
	   "execution_count": null,
	   "metadata": {
	    "collapsed": true
	   },
	   "outputs": [],
"source": [
"//Exa 3.5\n",
"clc;\n",
"clear;\n",
"close;\n",
"//Given data :\n",
"Tr=6;//in ns/Km\n",
"BitRate=10;//in Mbps\n",
"//part (a)\n",
"BDP=1/(2*Tr*10^-9);//in bps-Km\n",
"BDP=BDP/10^6;//in Mbps-Km\n",
"disp(BDP,'Bandwidth Distance Product for the fibre in Mbps-Km : ');\n",
"//Part (b)\n",
"lmax=BDP/BitRate;//in Km\n",
"disp(lmax,'Dispersion limited length of the fibre in Km : ');"
   ]
   }
,
{
		   "cell_type": "markdown",
		   "metadata": {},
		   "source": [
			"## Example 3.6: Max_Bandwidth_pulse_dispersion.sce"
		   ]
		  },
  {
"cell_type": "code",
	   "execution_count": null,
	   "metadata": {
	    "collapsed": true
	   },
	   "outputs": [],
"source": [
"//Exa 3.6\n",
"clc;\n",
"clear;\n",
"close;\n",
"//Given data :\n",
"Tr=0.2;//in us\n",
"l=20;//in Km\n",
"//part (a)\n",
"B=1/(2*Tr*10^-6);//in Hz\n",
"B=B/10^6;//in MHz\n",
"disp(B,'Maximum possible assuming no intersymbol interference in MHz : ');\n",
"//Part (b)\n",
"Dispersion=Tr*10^-6/l;//in sec/Km\n",
"disp(Dispersion*10^9,'Dispersion in ns/Km : ');\n",
"//part (c)\n",
"BDP=B*l;//in MHz-Km\n",
"disp(BDP,'Band =width Distance product for the fibre in MHz-Km : ');"
   ]
   }
,
{
		   "cell_type": "markdown",
		   "metadata": {},
		   "source": [
			"## Example 3.8: Pulse_Broadning_due_to_material_dispersion.sce"
		   ]
		  },
  {
"cell_type": "code",
	   "execution_count": null,
	   "metadata": {
	    "collapsed": true
	   },
	   "outputs": [],
"source": [
"//Exa 3.8\n",
"clc;\n",
"clear;\n",
"close;\n",
"//Given data :\n",
"deltaTau_s=2;//in nm\n",
"L=30;//in Km\n",
"Dmat=20;//in ps/nm-km\n",
"//formula : deltaT_mat=deltaTau_s*L*[(lambda/c)*(d^2*n/d*lambda^2)]\n",
"//formula : deltaT_mat=deltaTau_s*L*Dmat\n",
"deltaT_mat=deltaTau_s*L*Dmat;//in ps\n",
"deltaT_mat=deltaT_mat*10^-3;//in ns\n",
"disp(deltaT_mat,'Pulse broadning due to material dispersion in ns : ');"
   ]
   }
,
{
		   "cell_type": "markdown",
		   "metadata": {},
		   "source": [
			"## Example 3.9: Appropriate_Repeater_Spcing.sce"
		   ]
		  },
  {
"cell_type": "code",
	   "execution_count": null,
	   "metadata": {
	    "collapsed": true
	   },
	   "outputs": [],
"source": [
"//Exa 3.9\n",
"clc;\n",
"clear;\n",
"close;\n",
"//Given data :\n",
"FibreLoss=20;//in dB\n",
"//Pat (a)\n",
"lambda_a=1.3;///in um\n",
"loss_a=1.5;//in dB/Km\n",
"//Repeater spacing \n",
"la=FibreLoss/loss_a;//in Km\n",
"disp(la,'At wavelength of 1.3 micro meter, repeter spacing in Km : ');\n",
"//Pat (b)\n",
"lambda_b=1.5;///in um\n",
"loss_b=0.5;//in dB/Km\n",
"//Repeater spacing \n",
"lb=FibreLoss/loss_b;//in Km\n",
"disp(lb,'At wavelength of 1.5 micro meter, repeter spacing in Km : ');"
   ]
   }
],
"metadata": {
		  "kernelspec": {
		   "display_name": "Scilab",
		   "language": "scilab",
		   "name": "scilab"
		  },
		  "language_info": {
		   "file_extension": ".sce",
		   "help_links": [
			{
			 "text": "MetaKernel Magics",
			 "url": "https://github.com/calysto/metakernel/blob/master/metakernel/magics/README.md"
			}
		   ],
		   "mimetype": "text/x-octave",
		   "name": "scilab",
		   "version": "0.7.1"
		  }
		 },
		 "nbformat": 4,
		 "nbformat_minor": 0
}
