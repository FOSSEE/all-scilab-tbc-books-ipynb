{
"cells": [
 {
		   "cell_type": "markdown",
	   "metadata": {},
	   "source": [
       "# Chapter 1: Introduction to optical Communication Systems"
	   ]
	},
{
		   "cell_type": "markdown",
		   "metadata": {},
		   "source": [
			"## Example 1.1: Velocity_of_light_in_a_medium.sce"
		   ]
		  },
  {
"cell_type": "code",
	   "execution_count": null,
	   "metadata": {
	    "collapsed": true
	   },
	   "outputs": [],
"source": [
"//Exa 1.1 \n",
"clc;\n",
"clear;\n",
"close;\n",
"//Given data :\n",
"//epsilon=2*epsilon_o;\n",
"//mu=2*mu_o;\n",
"disp('v=1/sqrt(mu*epsilon)');\n",
"disp('Putting value of mu and epsilon');\n",
"disp('v=1/sqrt(2*mu_o*2*epsilon_o)');\n",
"disp('v=1/(2*sqrt(mu_o*epsilon_o))');\n",
"disp('v=c/2');\n",
"c=3*10^8;//speed of light in m/s\n",
"v=c/2;//in m/s\n",
"disp(v,'Velocity of light in medium in m/s : ');"
   ]
   }
,
{
		   "cell_type": "markdown",
		   "metadata": {},
		   "source": [
			"## Example 1.2: Value_of_Critical_Angle.sce"
		   ]
		  },
  {
"cell_type": "code",
	   "execution_count": null,
	   "metadata": {
	    "collapsed": true
	   },
	   "outputs": [],
"source": [
"//Exa 1.2 \n",
"clc;\n",
"clear;\n",
"close;\n",
"//Given data :\n",
"format('v',5);\n",
"n1=1.5;//refractive index\n",
"n2=1.47;//refractive index\n",
"//Formula : sin(theta_c)=n2/n1;\n",
"theta_c=asind(n2/n1);//in Degree\n",
"disp(theta_c,'Critical Angle in Degree : ');\n",
"//Note : Answer in the book is wrong."
   ]
   }
,
{
		   "cell_type": "markdown",
		   "metadata": {},
		   "source": [
			"## Example 1.3: Refractive_Index_of_a_medium.sce"
		   ]
		  },
  {
"cell_type": "code",
	   "execution_count": null,
	   "metadata": {
	    "collapsed": true
	   },
	   "outputs": [],
"source": [
"//Exa 1.3\n",
"clc;\n",
"clear;\n",
"close;\n",
"//Given data :\n",
"format('v',5);\n",
"n1=1.52;//refractive index\n",
"//Formula : sin(theta_c)=n2/n1;\n",
"theta_c=73.2;//in Degree\n",
"n2=n1*sind(theta_c);\n",
"disp(n2,'Refractive Index of another medium  : ');"
   ]
   }
,
{
		   "cell_type": "markdown",
		   "metadata": {},
		   "source": [
			"## Example 1.4: Velocity_of_light_in_a_medium.sce"
		   ]
		  },
  {
"cell_type": "code",
	   "execution_count": null,
	   "metadata": {
	    "collapsed": true
	   },
	   "outputs": [],
"source": [
"//Exa 1.4\n",
"clc;\n",
"clear;\n",
"close;\n",
"//Given data :\n",
"format('v',9);\n",
"n=1.33;//refractive index\n",
"//Formula : velocity_of_light_in_medium=velocity_of_light_in_free_space/Refractive_Index;\n",
"c=3*10^8;//in m/s\n",
"v=c/n;//in m/s\n",
"disp(v,'velocity of light in medium in m/s : ');"
   ]
   }
,
{
		   "cell_type": "markdown",
		   "metadata": {},
		   "source": [
			"## Example 1.5: Refractive_Index_of_a_medium.sce"
		   ]
		  },
  {
"cell_type": "code",
	   "execution_count": null,
	   "metadata": {
	    "collapsed": true
	   },
	   "outputs": [],
"source": [
"//Exa 1.5\n",
"clc;\n",
"clear;\n",
"close;\n",
"//Given data :\n",
"format('v',5);\n",
"c=3*10^8;//in m/s\n",
"v=1.1*10^8;//in m/s\n",
"//Formula : velocity_of_light_in_medium=velocity_of_light_in_free_space/Refractive_Index;\n",
"n=c/v;//in m/s\n",
"disp(n,'Refractive Index of medium : ');"
   ]
   }
],
"metadata": {
		  "kernelspec": {
		   "display_name": "Scilab",
		   "language": "scilab",
		   "name": "scilab"
		  },
		  "language_info": {
		   "file_extension": ".sce",
		   "help_links": [
			{
			 "text": "MetaKernel Magics",
			 "url": "https://github.com/calysto/metakernel/blob/master/metakernel/magics/README.md"
			}
		   ],
		   "mimetype": "text/x-octave",
		   "name": "scilab",
		   "version": "0.7.1"
		  }
		 },
		 "nbformat": 4,
		 "nbformat_minor": 0
}
