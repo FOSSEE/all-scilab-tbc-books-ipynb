{
"cells": [
 {
		   "cell_type": "markdown",
	   "metadata": {},
	   "source": [
       "# Chapter 8: Photodetectors"
	   ]
	},
{
		   "cell_type": "markdown",
		   "metadata": {},
		   "source": [
			"## Example 8.10: NEP_for_Si_pin_photodiode.sce"
		   ]
		  },
  {
"cell_type": "code",
	   "execution_count": null,
	   "metadata": {
	    "collapsed": true
	   },
	   "outputs": [],
"source": [
"//Exa 8.10\n",
"clc;\n",
"clear;\n",
"close;\n",
"//Given data :\n",
"format('v',10);\n",
"lambda=1.3;//in um\n",
"lambda=lambda*10^-6;//in meter\n",
"Id=8;//in nA\n",
"ETA=55;//in %\n",
"h=6.63*10^-34;//Planks constant\n",
"c=3*10^8;//in m/s\n",
"q=1.6*10^-19;//in coulamb\n",
"NEP=(h*c)*sqrt(2*q*Id*10^-9)/((ETA/100)*q*lambda);//in Ohm\n",
"disp(NEP,'NEP for Si p-i-n photodiode in Ohm : ');"
   ]
   }
,
{
		   "cell_type": "markdown",
		   "metadata": {},
		   "source": [
			"## Example 8.11: Smallest_Detactable_signal_power.sce"
		   ]
		  },
  {
"cell_type": "code",
	   "execution_count": null,
	   "metadata": {
	    "collapsed": true
	   },
	   "outputs": [],
"source": [
"//Exa 8.11\n",
"clc;\n",
"clear;\n",
"close;\n",
"//Given data :\n",
"A=2.5;//in mm^2\n",
"A=A*10^-6;//in m^2\n",
"B=1;//in KHz\n",
"B=B*10^3;//in Hz\n",
"Dstar=10^11;//mHz^1/2W^-1\n",
"NEP=sqrt(A*B)/Dstar;//in Watts\n",
"disp(NEP*10^12,'Smallest detectable signal power in pW : ');"
   ]
   }
,
{
		   "cell_type": "markdown",
		   "metadata": {},
		   "source": [
			"## Example 8.12: NEP_and_detectivity_of_Ge_pin_photodiode.sce"
		   ]
		  },
  {
"cell_type": "code",
	   "execution_count": null,
	   "metadata": {
	    "collapsed": true
	   },
	   "outputs": [],
"source": [
"//Exa 8.12\n",
"clc;\n",
"clear;\n",
"close;\n",
"//Given data :\n",
"A=200*25;//in um^2\n",
"A=A*10^-12;//in m^2\n",
"ETA=55;//Quantum Efficiency in %\n",
"lambda=1.3;//in um\n",
"lambda=lambda*10^-6;//in meter\n",
"Id=8;//in nA\n",
"Id=Id*10^-9;//i Ampere\n",
"h=6.63*10^-34;//Planks constant\n",
"q=1.6*10^-19;//in coulamb\n",
"c=3*10^8;//in m/s\n",
"NEP=h*c*sqrt(2*q*Id)/((ETA/100)*q*lambda);//in Watts\n",
"disp(NEP,'Noise equivalent power in Watts : ');\n",
"Dstar=sqrt(A)/NEP;//in m-Hz^2/W^-1\n",
"disp(Dstar,'Specific detectivity of Ge p-i-n photodiode in m-Hz^2/W : ');\n",
"//Note : Answer in the bok is not accurate."
   ]
   }
,
{
		   "cell_type": "markdown",
		   "metadata": {},
		   "source": [
			"## Example 8.13: Maximum_Load_Resistance.sce"
		   ]
		  },
  {
"cell_type": "code",
	   "execution_count": null,
	   "metadata": {
	    "collapsed": true
	   },
	   "outputs": [],
"source": [
"//Exa 8.13\n",
"clc;\n",
"clear;\n",
"close;\n",
"//Given data :\n",
"C=6;//in pF\n",
"C=C*10^-12;//in F\n",
"FH=8;//in MHz\n",
"FH=FH*10^6;//in Hz\n",
"//Formula : FH=1/(2*%pi*R*C)\n",
"R=1/(2*%pi*FH*C);//in Ohm\n",
"disp(R*10^-3,'Maximum load resistance in Kohm');"
   ]
   }
,
{
		   "cell_type": "markdown",
		   "metadata": {},
		   "source": [
			"## Example 8.14: Generated_shot_noise_in_Ge_pin_photodiode.sce"
		   ]
		  },
  {
"cell_type": "code",
	   "execution_count": null,
	   "metadata": {
	    "collapsed": true
	   },
	   "outputs": [],
"source": [
"//Exa 8.14\n",
"clc;\n",
"clear;\n",
"close;\n",
"//Given data :\n",
"format('v',5);\n",
"lambda=0.9;//in um\n",
"lambda=lambda*10^-6;//in meter\n",
"ETA=60;//Quantum Efficiency in %\n",
"Id=3;//in nA\n",
"Id=Id*10^-9;//in Ampere\n",
"B=5;//in MHz\n",
"P=200;//in nW\n",
"P=P*10^-9;//in Watts \n",
"h=6.63*10^-34;//Planks constant\n",
"q=1.6*10^-19;//in coulamb\n",
"c=3*10^8;//in m/s\n",
"Ip=P*(ETA/100)*q*lambda/(h*c);//in Ampere\n",
"//Formula : Is^2=2*q*(Ip+Id)*B\n",
"Is=sqrt(2*q*(Ip+Id)*B*10^6);//in Ampere\n",
"disp(Is*10^9,'Total shot noise current in nA : ');"
   ]
   }
,
{
		   "cell_type": "markdown",
		   "metadata": {},
		   "source": [
			"## Example 8.15: Multiplication_Factor_for_an_APD.sce"
		   ]
		  },
  {
"cell_type": "code",
	   "execution_count": null,
	   "metadata": {
	    "collapsed": true
	   },
	   "outputs": [],
"source": [
"//Exa 8.15\n",
"clc;\n",
"clear;\n",
"close;\n",
"//Given data :\n",
"lambda=1.35;//in um\n",
"lambda=lambda*10^-6;//in meter\n",
"ETA=40;//Quantum Efficiency in %\n",
"Im=4.9;//in uA\n",
"Im=Im*10^-6;//in Ampere\n",
"P=0.2;///in uW\n",
"P=P*10^-6;//in watts\n",
"h=6.63*10^-34;//Planks constant\n",
"q=1.6*10^-19;//in coulamb\n",
"c=3*10^8;//in m/s\n",
"M=Im*h*c/((ETA/100)*q*P*lambda);//unitless\n",
"disp(floor(M),'Multiplication factor : ');"
   ]
   }
,
{
		   "cell_type": "markdown",
		   "metadata": {},
		   "source": [
			"## Example 8.16: Wavelength_and_output_photocurrent.sce"
		   ]
		  },
  {
"cell_type": "code",
	   "execution_count": null,
	   "metadata": {
	    "collapsed": true
	   },
	   "outputs": [],
"source": [
"//Exa 8.16\n",
"clc;\n",
"clear;\n",
"close;\n",
"//Given data :\n",
"format('v',5);\n",
"photons=10^13;//incident photons/sec\n",
"E=1.28*10^-19;//in Joule\n",
"h=6.63*10^-34;//Planks constant\n",
"q=1.6*10^-19;//in coulamb\n",
"c=3*10^8;//in m/s\n",
"//Part (a) : \n",
"lambda=h*c/(E);//in meter\n",
"disp(lambda*10^6,'Wavelength of incident radiation in micro meter : ');\n",
"//Part (b) :\n",
"Ip=q*photons;//in Ampere\n",
"disp(Ip*10^6,'Output photocurrent in micro Ampere : ');\n",
"//Part (c) :\n",
"M=18;//unitless\n",
"Im=M*Ip;//in Ampere\n",
"disp(Im*10^6,'If device is an APD, Output photocurrent in micro Ampere : ');"
   ]
   }
,
{
		   "cell_type": "markdown",
		   "metadata": {},
		   "source": [
			"## Example 8.17: Quantum_Efficieny_and_output_photocurrent.sce"
		   ]
		  },
  {
"cell_type": "code",
	   "execution_count": null,
	   "metadata": {
	    "collapsed": true
	   },
	   "outputs": [],
"source": [
"//Exa 8.17\n",
"clc;\n",
"clear;\n",
"close;\n",
"//Given data :\n",
"M=20;//unitless\n",
"lambda=1.5;//in um\n",
"lambda=lambda*10^-6;//in meter\n",
"R=0.6;//in A/W\n",
"h=6.63*10^-34;//Planks constant\n",
"q=1.6*10^-19;//in coulamb\n",
"c=3*10^8;//in m/s\n",
"photons=10^10;//incident photons/sec\n",
"Im=M*R*photons*h*c/lambda;//in Ampere\n",
"disp(Im*10^9,'Output Photo current in nA : ');\n",
"ETA=R*h*c/(q*lambda);//unitless\n",
"disp(round(ETA*100),'Quantum Efficiency in % : ');"
   ]
   }
,
{
		   "cell_type": "markdown",
		   "metadata": {},
		   "source": [
			"## Example 8.18: Maximum_SNR.sce"
		   ]
		  },
  {
"cell_type": "code",
	   "execution_count": null,
	   "metadata": {
	    "collapsed": true
	   },
	   "outputs": [],
"source": [
"//Exa 8.18\n",
"clc;\n",
"clear;\n",
"close;\n",
"//Given data :\n",
"format('v',5);\n",
"RL=630;//in Ohm\n",
"B=50;//in MHz\n",
"B=B*10^6;//in Hz\n",
"Ip=10^-7;//in Ampere\n",
"T=18;//in degree C\n",
"T=T+273;//in kelvin\n",
"q=1.6*10^-19;//in coulamb\n",
"K=1.38*10^-23;//Boltzman Constant\n",
"SbyN=Ip^2/(2*q*B*Ip+4*K*T*B/RL);//unitless\n",
"SbyNdB=10*log10(SbyN);//in dB\n",
"disp(round(SbyNdB),'Maximum SNR in dB : ');"
   ]
   }
,
{
		   "cell_type": "markdown",
		   "metadata": {},
		   "source": [
			"## Example 8.19: Mean_square_value_of_noise_current.sce"
		   ]
		  },
  {
"cell_type": "code",
	   "execution_count": null,
	   "metadata": {
	    "collapsed": true
	   },
	   "outputs": [],
"source": [
"//Exa 8.19\n",
"clc;\n",
"clear;\n",
"close;\n",
"//Given data :\n",
"lambda=1.3;//in um\n",
"lambda=lambda*10^-6;//in meter\n",
"Id=16;//in nA\n",
"Id=Id*10^-9;//in Ampere\n",
"ETA=90;//Quantum Efficiency in %\n",
"RL=1000;//in Ohm\n",
"P=1.2;//in uW\n",
"P=P*10^-6;//in Watts\n",
"B=80;//in Mhz\n",
"B=B*10^6;//in Hz\n",
"T=20;//in degree C\n",
"T=T+273;//in kelvin\n",
"q=1.6*10^-19;//in c\n",
"K=1.38*10^-23;//Boltzman Constant\n",
"h=6.63*10^-34;//Planks constant\n",
"c=3*10^8;//in m/s\n",
"Ip=(ETA/100)*q*lambda*P/(h*c);//in Ampere\n",
"Iq=sqrt(2*q*Ip*B);//in Ampere\n",
"disp(Iq*10^9,'Mean square quantum nooise in nA : ');\n",
"I_dark=sqrt(2*q*Id*B);//in Ampere\n",
"disp(I_dark*10^9,'Mean square dark current noise in nA :');\n",
"It=sqrt(4*K*T*B/RL);//in Ampere\n",
"disp(round(It*10^9),'Mean square thermal current noise in nA :');"
   ]
   }
,
{
		   "cell_type": "markdown",
		   "metadata": {},
		   "source": [
			"## Example 8.1: Longest_Wavelength_cut_off.sce"
		   ]
		  },
  {
"cell_type": "code",
	   "execution_count": null,
	   "metadata": {
	    "collapsed": true
	   },
	   "outputs": [],
"source": [
"//Exa 8.1 \n",
"clc;\n",
"clear;\n",
"close;\n",
"//Given data :\n",
"Eg=1.43;//in eV\n",
"T=300;//in kelvin\n",
"h=6.63*10^-34;//Planks constant\n",
"c=3*10^8;//speed of light in m/s\n",
"lambda_c=h*c/(Eg*1.6*10^-19);//in meter\n",
"disp(lambda_c*10^9,'Longest Wavelength cut-off in nm : ')"
   ]
   }
,
{
		   "cell_type": "markdown",
		   "metadata": {},
		   "source": [
			"## Example 8.20: Determine_the_SNR.sce"
		   ]
		  },
  {
"cell_type": "code",
	   "execution_count": null,
	   "metadata": {
	    "collapsed": true
	   },
	   "outputs": [],
"source": [
"//Exa 8.20\n",
"clc;\n",
"clear;\n",
"close;\n",
"//Given data :\n",
"F=3;//in dB\n",
"F=10^(F/10);//unitless\n",
"M=1;//unitless\n",
"lambda=1.3;//in um\n",
"lambda=lambda*10^-6;//in meter\n",
"Id=16;//in nA\n",
"Id=Id*10^-9;//in Ampere\n",
"ETA=90;//Quantum Efficiency in %\n",
"RL=1000;//in Ohm\n",
"P=1.2;//in uW\n",
"P=P*10^-6;//in Watts\n",
"B=80;//in Mhz\n",
"B=B*10^6;//in Hz\n",
"T=20;//in degree C\n",
"T=T+273;//in kelvin\n",
"q=1.6*10^-19;//in c\n",
"K=1.38*10^-23;//Boltzman Constant\n",
"h=6.63*10^-34;//Planks constant\n",
"c=3*10^8;//in m/s\n",
"Ip=(ETA/100)*q*lambda*P/(h*c);//in Ampere\n",
"SbyN=Ip^2*M^2/(2*q*B*(Ip+Id)*M^2+(4*K*T*B*F/RL));\n",
"disp(SbyN,'SNR at the output : ');"
   ]
   }
,
{
		   "cell_type": "markdown",
		   "metadata": {},
		   "source": [
			"## Example 8.2: Quantum_Efficieny_of_photodiode.sce"
		   ]
		  },
  {
"cell_type": "code",
	   "execution_count": null,
	   "metadata": {
	    "collapsed": true
	   },
	   "outputs": [],
"source": [
"//Exa 8.2\n",
"clc;\n",
"clear;\n",
"close;\n",
"//Given data :\n",
"photons=6*10^12;//no. of incident photons\n",
"lambda=1330;//in nm\n",
"pairs=4.8*10^12;//no. of electron hole pairs generated\n",
"ETA=pairs/photons;//Quantum efficiency (unitless)\n",
"ETA=ETA*100;//Quantum efficiency in %\n",
"disp(ETA,'Quantum efficiency in % : ');"
   ]
   }
,
{
		   "cell_type": "markdown",
		   "metadata": {},
		   "source": [
			"## Example 8.3: Responsivity_of_InGaAs_photodiode.sce"
		   ]
		  },
  {
"cell_type": "code",
	   "execution_count": null,
	   "metadata": {
	    "collapsed": true
	   },
	   "outputs": [],
"source": [
"//Exa 8.3\n",
"clc;\n",
"clear;\n",
"close;\n",
"//Given data :\n",
"lambda=1300;//in nm\n",
"lambda=lambda*10^-9;//in meter\n",
"ETA=90;//quantum efficiency in % \n",
"h=6.63*10^-34;//Planks constant\n",
"q=1.6*10^-19;//in coulamb\n",
"c=3*10^8;//in m/s\n",
"R=(ETA/100)*q*lambda/(h*c);//in A/W\n",
"disp(R,'Responsivity of InGaAs in A/W : ');"
   ]
   }
,
{
		   "cell_type": "markdown",
		   "metadata": {},
		   "source": [
			"## Example 8.4: value_of_generated_photocurrent.sce"
		   ]
		  },
  {
"cell_type": "code",
	   "execution_count": null,
	   "metadata": {
	    "collapsed": true
	   },
	   "outputs": [],
"source": [
"//Exa 8.4\n",
"clc;\n",
"clear;\n",
"close;\n",
"//Given data :\n",
"E=4.5*10^-21;//in Joule\n",
"R=0.9;//in A/W\n",
"P=20;//in uWatt\n",
"Ip=R*P;//in uA\n",
"disp(Ip,'Photocurrent generated in micro Ampere : ');"
   ]
   }
,
{
		   "cell_type": "markdown",
		   "metadata": {},
		   "source": [
			"## Example 8.5: Multiplication_Factor.sce"
		   ]
		  },
  {
"cell_type": "code",
	   "execution_count": null,
	   "metadata": {
	    "collapsed": true
	   },
	   "outputs": [],
"source": [
"//Exa 8.5\n",
"clc;\n",
"clear;\n",
"close;\n",
"//Given data :\n",
"ETA=65;//Quantum efficiency in %\n",
"lambda=900;//in nm\n",
"lambda=lambda*10^-9;//in meter\n",
"q=1.6*10^-19;//in coulamb\n",
"h=6.63*10^-34;//Planks constant\n",
"c=3*10^8;//in m/s\n",
"P=0.5;//in uWatt\n",
"Im=20;//in uA\n",
"Ip=(ETA/100)*q*P*lambda/(h*c);//in micro Ampere\n",
"M=Im/Ip;//unitless\n",
"disp(M,'Multiplication Factor : ');\n",
"//Note : Ans in the book is not accurate."
   ]
   }
,
{
		   "cell_type": "markdown",
		   "metadata": {},
		   "source": [
			"## Example 8.6: Circuit_Bandwidth_of_pin_phoodiode.sce"
		   ]
		  },
  {
"cell_type": "code",
	   "execution_count": null,
	   "metadata": {
	    "collapsed": true
	   },
	   "outputs": [],
"source": [
"//Exa 8.6\n",
"clc;\n",
"clear;\n",
"close;\n",
"//Given data :\n",
"C_A=2;//in pF\n",
"C_D=5;//in pF\n",
"RL=50;//in Ohm\n",
"RA=1;//in KOhm\n",
"RA=1*10^3;//in Ohm\n",
"C=C_A+C_D;//in pF\n",
"R=RA*RL/(RA+RL);//in Ohm\n",
"B=1/(2*%pi*R*C*10^-12);//in Hz\n",
"disp(B*10^-6,'Circuit Bandwidth of p-i-n photodiode in MHz : ');\n",
"//Note : Ans in the book is not accurate."
   ]
   }
,
{
		   "cell_type": "markdown",
		   "metadata": {},
		   "source": [
			"## Example 8.7: Wavelength_and_incident_optical_power.sce"
		   ]
		  },
  {
"cell_type": "code",
	   "execution_count": null,
	   "metadata": {
	    "collapsed": true
	   },
	   "outputs": [],
"source": [
"//Exa 8.7\n",
"clc;\n",
"clear;\n",
"close;\n",
"//Given data :\n",
"ETA=40;//quantum efficiency in % \n",
"E=1.5;//in eV\n",
"Ip=3;//in uA\n",
"h=6.63*10^-34;//Planks constant\n",
"c=3*10^8;//in m/s\n",
"q=1.6*10^-19;//in coulamb\n",
"lambda=h*c/(E*1.6*10^-19);//in meter\n",
"disp(lambda*10^9,'Wavelength of photodiode in nm : ');\n",
"P=Ip*10^-6*(E*1.6*10^-19)/(ETA*q/100);\n",
"disp(P*10^6,'Power required in micro Watts ; ');\n",
"//Note : Ans in the book is not accurate."
   ]
   }
,
{
		   "cell_type": "markdown",
		   "metadata": {},
		   "source": [
			"## Example 8.8: Responsivity_of_the_device.sce"
		   ]
		  },
  {
"cell_type": "code",
	   "execution_count": null,
	   "metadata": {
	    "collapsed": true
	   },
	   "outputs": [],
"source": [
"//Exa 8.8\n",
"clc;\n",
"clear;\n",
"close;\n",
"//Given data :\n",
"format('v',5);\n",
"photons=1600;//incident photons/sec\n",
"lambda=1.3;//in um\n",
"electrons=1100;//generated/sec\n",
"ETA=electrons/photons;//unitless\n",
"q=1.6*10^-19;//in coulamb\n",
"h=6.63*10^-34;//Planks constant\n",
"c=3*10^8;//in m/s\n",
"R=ETA*q*lambda*10^-6/(h*c);//in A/W\n",
"disp(R,'Responsivity in A/W : ');"
   ]
   }
,
{
		   "cell_type": "markdown",
		   "metadata": {},
		   "source": [
			"## Example 8.9: Maximum_Load_Resistance.sce"
		   ]
		  },
  {
"cell_type": "code",
	   "execution_count": null,
	   "metadata": {
	    "collapsed": true
	   },
	   "outputs": [],
"source": [
"//Exa 8.9\n",
"clc;\n",
"clear;\n",
"close;\n",
"//Given data :\n",
"C=1;//in pF\n",
"//Part (a) :\n",
"FH=1;//in MHz\n",
"R=1/((2*%pi*FH*10^6*C)*10^-12);//in ohm\n",
"disp(R*10^-3,'For 1 MHz, Maximum Load Resistnce in Kohm : ');\n",
"\n",
"//Part (b) :\n",
"FH=1;//in GHz\n",
"R=1/((2*%pi*FH*10^9*C)*10^-12);//in ohm\n",
"disp(R,'For 1 GHz, Maximum Load Resistnce in Ohm : ');"
   ]
   }
],
"metadata": {
		  "kernelspec": {
		   "display_name": "Scilab",
		   "language": "scilab",
		   "name": "scilab"
		  },
		  "language_info": {
		   "file_extension": ".sce",
		   "help_links": [
			{
			 "text": "MetaKernel Magics",
			 "url": "https://github.com/calysto/metakernel/blob/master/metakernel/magics/README.md"
			}
		   ],
		   "mimetype": "text/x-octave",
		   "name": "scilab",
		   "version": "0.7.1"
		  }
		 },
		 "nbformat": 4,
		 "nbformat_minor": 0
}
