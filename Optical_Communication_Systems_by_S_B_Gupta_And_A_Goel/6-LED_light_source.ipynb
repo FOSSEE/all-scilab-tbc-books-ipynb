{
"cells": [
 {
		   "cell_type": "markdown",
	   "metadata": {},
	   "source": [
       "# Chapter 6: LED light source"
	   ]
	},
{
		   "cell_type": "markdown",
		   "metadata": {},
		   "source": [
			"## Example 6.10: optical_emitted_Power_and_External_efficiency.sce"
		   ]
		  },
  {
"cell_type": "code",
	   "execution_count": null,
	   "metadata": {
	    "collapsed": true
	   },
	   "outputs": [],
"source": [
"//Exa 6.10\n",
"clc;\n",
"clear;\n",
"close;\n",
"//given data :\n",
"format('v',6);\n",
"nm=3.5;//refractive index of InP;unitless\n",
"n=1;//refractive index of air ;unitless\n",
"F=0.6;//Transmission factor at crystal-air interface\n",
"//Part (a)\n",
"disp('Pe=Pint*F*n^2/(4*nm^2)');\n",
"//Let F*n^2/(4*nm^2)=x\n",
"x=F*n^2/(4*nm^2);\n",
"disp(string(x)+'Pint');\n",
"disp('Hence the power emitted into air is only 1.2% of the internal optical power.');\n",
"//Part (b)\n",
"disp('ETAext=(Pe/P)*100');\n",
"disp('ETAext=(0.012*Pint/P)*100')\n",
"//Given : Pint=0.5P\n",
"disp('ETAext=(0.012*0.5*P/P)*100')\n",
"disp('ETAext : '+string((0.012*0.5)*100)+'%');"
   ]
   }
,
{
		   "cell_type": "markdown",
		   "metadata": {},
		   "source": [
			"## Example 6.11: External_Power_Eficiency.sce"
		   ]
		  },
  {
"cell_type": "code",
	   "execution_count": null,
	   "metadata": {
	    "collapsed": true
	   },
	   "outputs": [],
"source": [
"//Exa 6.11\n",
"clc;\n",
"clear;\n",
"close;\n",
"//given data :\n",
"format('v',5);\n",
"//Given : Pint=0.3*P\n",
"nm=3.6;//refractive index of InP;unitless\n",
"n=1;//refractive index of air ;unitless\n",
"F=0.68;//Transmission factor at crystal-air interface\n",
"disp('ETAext=Pint*100*F*n^2/(4*P*nm^2)');\n",
"//Let F*n^2/(4*nm^2)=x\n",
"//Pint/P=0.3\n",
"//ETAext=0.3*x\n",
"x=100*F*n^2/(4*nm^2);\n",
"ETAext=0.3*x;\n",
"disp(ETAext,'External Power Efficiency in % : ');"
   ]
   }
,
{
		   "cell_type": "markdown",
		   "metadata": {},
		   "source": [
			"## Example 6.12: External_Power_Eficiency.sce"
		   ]
		  },
  {
"cell_type": "code",
	   "execution_count": null,
	   "metadata": {
	    "collapsed": true
	   },
	   "outputs": [],
"source": [
"//Exa 6.12\n",
"clc;\n",
"clear;\n",
"close;\n",
"//given data :\n",
"format('v',5);\n",
"ETAext=1.5;//in %\n",
"I=25;//in mA\n",
"V=4;//in Volt\n",
"F=0.8;//Transmission factor at crystal-air interface\n",
"nm=3.6;//refractive index of GaAs;unitless\n",
"n=1;//refractive index of air ;unitless\n",
"disp('ETAext=Pint*100*F*n^2/(4*P*nm^2)');\n",
"//P=V*I\n",
"Pint=(ETAext*4*V*I*10^-3*nm^2)/(F*100);//in watts\n",
"disp(Pint*1000,'Optical power generated in the device in mWatts : ');"
   ]
   }
,
{
		   "cell_type": "markdown",
		   "metadata": {},
		   "source": [
			"## Example 6.1: Bulk_recombination_life_time_and_efficiency.sce"
		   ]
		  },
  {
"cell_type": "code",
	   "execution_count": null,
	   "metadata": {
	    "collapsed": true
	   },
	   "outputs": [],
"source": [
"//Exa 6.1\n",
"clc;\n",
"clear;\n",
"close;\n",
"//given data :\n",
"format('v',5);\n",
"Tr=40;//in ns\n",
"Tnr=90;//in ns\n",
"T=Tr*Tnr/(Tr+Tnr);//in ns\n",
"disp(T,'Bulk recombination life-time in nano second : ');\n",
"ETAint=(T/Tr)*100;//in %\n",
"disp(ETAint,'Internal Quantum Efficiency in % : ') ;"
   ]
   }
,
{
		   "cell_type": "markdown",
		   "metadata": {},
		   "source": [
			"## Example 6.2: Internally_Generated_Optical_Power.sce"
		   ]
		  },
  {
"cell_type": "code",
	   "execution_count": null,
	   "metadata": {
	    "collapsed": true
	   },
	   "outputs": [],
"source": [
"//Exa 6.2\n",
"clc;\n",
"clear;\n",
"close;\n",
"//given data :\n",
"format('v',5);\n",
"lambda=1310;//in nm\n",
"lambda=lambda*10^-9;//in meter\n",
"ETAint=70;//in %\n",
"I=50;//in mA\n",
"I=I*10^-3;//in A\n",
"h=6.63*10^-34;//constant\n",
"c=3*10^8;//speed of light in m/s\n",
"q=1.6*10^-19;//in coulamb\n",
"Pint=(ETAint/100)*I*h*c/(q*lambda);//in Watts\n",
"disp(Pint*10^3,'Internally generated optical power in mWatt : ');"
   ]
   }
,
{
		   "cell_type": "markdown",
		   "metadata": {},
		   "source": [
			"## Example 6.3: Peak_Emission_wavelength.sce"
		   ]
		  },
  {
"cell_type": "code",
	   "execution_count": null,
	   "metadata": {
	    "collapsed": true
	   },
	   "outputs": [],
"source": [
"//Exa 6.3\n",
"clc;\n",
"clear;\n",
"close;\n",
"//given data :\n",
"format('v',6);\n",
"Pint=28.4;//in mw\n",
"Pint=Pint*10^-3;//in Watts\n",
"I=60;//in mA\n",
"I=I*10^-3;//in A\n",
"h=6.63*10^-34;//constant\n",
"c=3*10^8;//speed of light in m/s\n",
"q=1.6*10^-19;//in coulamb\n",
"//Tr=Tnr\n",
"//Formula : Pint=(Tnr/(Tr+Tnr))*(I*h*c/(q*lambda))\n",
"//as Tr=Tnr : (Tnr/(Tr+Tnr))=1/2\n",
"lambda=(1/2)*(I*h*c/(q*Pint));//in m\n",
"disp(lambda*10^6,'Peak emission waelength from the device in micro meter : ');"
   ]
   }
,
{
		   "cell_type": "markdown",
		   "metadata": {},
		   "source": [
			"## Example 6.4: Diffusion_Coefficient_of_LED.sce"
		   ]
		  },
  {
"cell_type": "code",
	   "execution_count": null,
	   "metadata": {
	    "collapsed": true
	   },
	   "outputs": [],
"source": [
"//Exa 6.4\n",
"clc;\n",
"clear;\n",
"close;\n",
"//given data :\n",
"format('v',7);\n",
"L=20;//in um\n",
"L=L*10^-6;//in meter\n",
"Tr=80;//in ns\n",
"Tnr=80;//in ns\n",
"tau=Tr*Tnr/(Tr+Tnr);//in ns\n",
"//Formula : L=(D*tau)^(1/2)\n",
"D=(L^2)/(tau*10^-9);//in m^2-s^-1\n",
"disp(D,'Diffusion Coefficient of LED in m^2-s^-1 : ');"
   ]
   }
,
{
		   "cell_type": "markdown",
		   "metadata": {},
		   "source": [
			"## Example 6.5: 3_dB_optical_Bandwidth.sce"
		   ]
		  },
  {
"cell_type": "code",
	   "execution_count": null,
	   "metadata": {
	    "collapsed": true
	   },
	   "outputs": [],
"source": [
"//Exa 6.5\n",
"clc;\n",
"clear;\n",
"close;\n",
"//given data :\n",
"format('v',5);\n",
"EBW=50;//MHz in 3dB\n",
"//Formula : EBW(3dB)=OpticalBW(3dB)/sqrt(2)\n",
"OpticalBW=sqrt(2)*EBW;//in 3dB\n",
"disp(OpticalBW,'3dB Optical Bandwidth in MHz : ');"
   ]
   }
,
{
		   "cell_type": "markdown",
		   "metadata": {},
		   "source": [
			"## Example 6.6: Optical_Modulation_Bandwidth.sce"
		   ]
		  },
  {
"cell_type": "code",
	   "execution_count": null,
	   "metadata": {
	    "collapsed": true
	   },
	   "outputs": [],
"source": [
"//Exa 6.6\n",
"clc;\n",
"clear;\n",
"close;\n",
"//given data :\n",
"format('v',4);\n",
"tau=5;//in ns\n",
"disp('For determining the optical 3-dB bandwidth we consider high frequency 3-dB point which occur when : P(w)/P(o)=1/2');\n",
"disp('It gives : 1/((1+omega*tau)^2)^(1/2) = 1/2');\n",
"//Formula :omega=2*%pi*F;\n",
"F=sqrt(3)/(2*%pi*tau*10^-9);//in Hz\n",
"disp(F*10^-6,'Optical Modulation Bandwidth in MHz : ') ;"
   ]
   }
,
{
		   "cell_type": "markdown",
		   "metadata": {},
		   "source": [
			"## Example 6.7: Electrical_Modulation_Bandwidth.sce"
		   ]
		  },
  {
"cell_type": "code",
	   "execution_count": null,
	   "metadata": {
	    "collapsed": true
	   },
	   "outputs": [],
"source": [
"//Exa 6.7\n",
"clc;\n",
"clear;\n",
"close;\n",
"//given data :\n",
"format('v',6);\n",
"tau=10;//in ns\n",
"disp('To find out electrical modulation bandwidth, first we will find out optical modulation bandwidth, which is determined by putting : P(w)/P(o)=1/2');\n",
"disp('It gives : 1/((1+omega*tau)^2)^(1/2) = 1/2');\n",
"//Formula :omega=2*%pi*F;\n",
"F=sqrt(3)/(2*%pi*tau*10^-9);//in Hz\n",
"F=F*10^-6;//in MHz\n",
"EMB=F/sqrt(2);//in MHz\n",
"disp(EMB,'Electrical Modulation Bandwidth in MHz : ') ;"
   ]
   }
,
{
		   "cell_type": "markdown",
		   "metadata": {},
		   "source": [
			"## Example 6.8: Optical_Output_power.sce"
		   ]
		  },
  {
"cell_type": "code",
	   "execution_count": null,
	   "metadata": {
	    "collapsed": true
	   },
	   "outputs": [],
"source": [
"//Exa 6.8\n",
"clc;\n",
"clear;\n",
"close;\n",
"//given data :\n",
"format('v',7);\n",
"Po=200;//in uwatts\n",
"tau=10;//in ns\n",
"F=10;//in MHz\n",
"disp('We have : P(w)/P(o)=Po/((1+2*%pi*F*tau)^2)^(1/2)');\n",
"Pw=(Po*10^-6)/(1+(2*%pi*F*10^6*tau*10^-9)^2)^(1/2);//in Watts\n",
"disp(Pw*10^6,'Optical output power in micro watts : ') ;"
   ]
   }
,
{
		   "cell_type": "markdown",
		   "metadata": {},
		   "source": [
			"## Example 6.9: Optical_Output_power.sce"
		   ]
		  },
  {
"cell_type": "code",
	   "execution_count": null,
	   "metadata": {
	    "collapsed": true
	   },
	   "outputs": [],
"source": [
"//Exa 6.9\n",
"clc;\n",
"clear;\n",
"close;\n",
"//given data :\n",
"format('v',5);\n",
"Po=200;//in uwatts\n",
"tau=10;//in ns\n",
"F=50;//in MHz\n",
"disp('We have : P(w)/P(o)=Po/((1+2*%pi*F*tau)^2)^(1/2)');\n",
"Pw=(Po*10^-6)/(1+(2*%pi*F*10^6*tau*10^-9)^2)^(1/2);//in Watts\n",
"disp(Pw*10^6,'Optical output power in micro watts : ') ;"
   ]
   }
],
"metadata": {
		  "kernelspec": {
		   "display_name": "Scilab",
		   "language": "scilab",
		   "name": "scilab"
		  },
		  "language_info": {
		   "file_extension": ".sce",
		   "help_links": [
			{
			 "text": "MetaKernel Magics",
			 "url": "https://github.com/calysto/metakernel/blob/master/metakernel/magics/README.md"
			}
		   ],
		   "mimetype": "text/x-octave",
		   "name": "scilab",
		   "version": "0.7.1"
		  }
		 },
		 "nbformat": 4,
		 "nbformat_minor": 0
}
