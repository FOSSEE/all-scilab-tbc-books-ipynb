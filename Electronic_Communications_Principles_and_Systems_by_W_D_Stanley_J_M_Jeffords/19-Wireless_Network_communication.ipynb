{
"cells": [
 {
		   "cell_type": "markdown",
	   "metadata": {},
	   "source": [
       "# Chapter 19: Wireless Network communication"
	   ]
	},
{
		   "cell_type": "markdown",
		   "metadata": {},
		   "source": [
			"## Example 19.2: First_10_channel_in_hop_sequence.sce"
		   ]
		  },
  {
"cell_type": "code",
	   "execution_count": null,
	   "metadata": {
	    "collapsed": true
	   },
	   "outputs": [],
"source": [
"clc;\n",
"close();\n",
"clear();\n",
"//page no 605\n",
"//prob no. 19.2\n",
"b=[0 23 62 8 43 16 71 47 19 61]\n",
"for i=1:10\n",
"    f9(i)=[b(i)+9]+2\n",
"    if f9(i)>79 then\n",
"        f9(i)=f9(i)-79\n",
"    end\n",
"    mprintf('\nFor i=%i ,b(i)=%i. Therefore.f9(%i)=[%i+9]mod(79)+2=%i',i,b(i),i,b(i),f9(i))\n",
"end"
   ]
   }
,
{
		   "cell_type": "markdown",
		   "metadata": {},
		   "source": [
			"## Example 19.4: Part_of_FHSS_frame.sce"
		   ]
		  },
  {
"cell_type": "code",
	   "execution_count": null,
	   "metadata": {
	    "collapsed": true
	   },
	   "outputs": [],
"source": [
"clc;\n",
"close();\n",
"clear();\n",
"//page no 607\n",
"//prob no. 19.4\n",
"fd=.160;    //in MHz\n",
"Fc=2411;\n",
"    mprintf('(a)fd=%.2f MHz. a 0 is represented by %.2f MHz\n',fd,Fc-fd)\n",
"    mprintf('(b)A 1 is represented by %.2f MHz\n',Fc+fd)\n",
"    "
   ]
   }
,
{
		   "cell_type": "markdown",
		   "metadata": {},
		   "source": [
			"## Example 19.5: FHSS_frame.sce"
		   ]
		  },
  {
"cell_type": "code",
	   "execution_count": null,
	   "metadata": {
	    "collapsed": true
	   },
	   "outputs": [],
"source": [
"clc;\n",
"close();\n",
"clear();\n",
"//page no 607\n",
"//prob no. 19.5\n",
"fd1=.216;    //in MHz\n",
"fd2=.072;    //in MHz\n",
"Fc=2400+25 ;   //MHz\n",
"    mprintf('(a)fd1=%.2f MHz. a 00 is represented by %.3f MHz\n',fd1,Fc-fd1)\n",
"    mprintf('(b)A 01 is represented by %.3f MHz\n',Fc-fd2)\n",
"    mprintf('(c)A 10 is represented by %.3f MHz\n',Fc+fd1)\n",
"    mprintf('(b)A 11 is represented by %.3f MHz\n',Fc+fd2)    \n",
"//answer in part a is misprinted in the text"
   ]
   }
,
{
		   "cell_type": "markdown",
		   "metadata": {},
		   "source": [
			"## Example 19.6: Waveform_of_DBPSK.sce"
		   ]
		  },
  {
"cell_type": "code",
	   "execution_count": null,
	   "metadata": {
	    "collapsed": true
	   },
	   "outputs": [],
"source": [
"clc;\n",
"close();\n",
"clear();\n",
"//page no 608\n",
"//prob no. 19.6\n",
"code=[0 1 0 1 1 0];\n",
"t=[0:.01:2]   //for x-axis\n",
"a=[sin(2*%pi.*t)]    //for y-axis\n",
"y=[]\n",
"x=[]\n",
"for i=1:length(code)\n",
"        \n",
"    if code(i)==1 then\n",
"        a=-a;\n",
"    end\n",
"    y=[y a]\n",
"    x=[x 2*%pi.*(t+2*(i-1))]\n",
"end\n",
"\n",
"clf\n",
"plot(x,y)\n",
"a=gca(); // Handle on axes entity\n",
"a.x_location = 'origin'; \n",
"a.y_location = 'origin';\n",
"xtitle('DPSK used to encode 010110','Time','amplitude')\n",
"xgrid"
   ]
   }
,
{
		   "cell_type": "markdown",
		   "metadata": {},
		   "source": [
			"## Example 19.7: Waveform_of_DQPSK.sce"
		   ]
		  },
  {
"cell_type": "code",
	   "execution_count": null,
	   "metadata": {
	    "collapsed": true
	   },
	   "outputs": [],
"source": [
"clc;\n",
"close();\n",
"clear();\n",
"//page no 609\n",
"//prob no. 19.7\n",
"code=[0 0 1 1 1 0 0 0 0 0 0 1];\n",
"t=[0:.01:2]   //for x-axis\n",
"y=[]\n",
"x=[]\n",
"p=0   //phase shift\n",
"for i=1:2:length(code)\n",
"    if code(i)==0 then\n",
"        if code(i+1)==0 then\n",
"            p=p+0\n",
"        else\n",
"            p=p+%pi/2\n",
"        end\n",
"    else\n",
"        if code(i+1)==1 then\n",
"            p=p+%pi\n",
"        else\n",
"            p=p+3*%pi/2\n",
"        end\n",
"    end\n",
"    y=[y sin(2*%pi.*t+p)];\n",
"    x=[x 2*%pi.*(t+(i-1))];\n",
"end\n",
"   \n",
"clf()\n",
"plot(x,y);\n",
"a=gca(); // Handle on axes entity\n",
"a.x_location = 'origin'; \n",
"a.y_location = 'origin';\n",
"xtitle('DQPSK used to encode 001110000001','Time','amplitude');\n",
"xgrid"
   ]
   }
],
"metadata": {
		  "kernelspec": {
		   "display_name": "Scilab",
		   "language": "scilab",
		   "name": "scilab"
		  },
		  "language_info": {
		   "file_extension": ".sce",
		   "help_links": [
			{
			 "text": "MetaKernel Magics",
			 "url": "https://github.com/calysto/metakernel/blob/master/metakernel/magics/README.md"
			}
		   ],
		   "mimetype": "text/x-octave",
		   "name": "scilab",
		   "version": "0.7.1"
		  }
		 },
		 "nbformat": 4,
		 "nbformat_minor": 0
}
