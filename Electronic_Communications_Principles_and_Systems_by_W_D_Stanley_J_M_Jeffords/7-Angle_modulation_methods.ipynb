{
"cells": [
 {
		   "cell_type": "markdown",
	   "metadata": {},
	   "source": [
       "# Chapter 7: Angle modulation methods"
	   ]
	},
{
		   "cell_type": "markdown",
		   "metadata": {},
		   "source": [
			"## Example 7.10: Approximate_transmission_bandwidth.sce"
		   ]
		  },
  {
"cell_type": "code",
	   "execution_count": null,
	   "metadata": {
	    "collapsed": true
	   },
	   "outputs": [],
"source": [
"clc;\n",
"close();\n",
"//page no 238\n",
"//prob no. 7.10\n",
"delta_f=6;   //kHz\n",
"W=2;   //kHz\n",
"D=delta_f/W;   //deviation ratio\n",
"disp(D,'The deviation ratio is');\n",
"Bt=2*(delta_f+W);   //carsom's rule is applicable\n",
"mprintf('The transmission bandwidth Bt= %i kHz ',Bt)"
   ]
   }
,
{
		   "cell_type": "markdown",
		   "metadata": {},
		   "source": [
			"## Example 7.11: Transmission_bandwidth.sce"
		   ]
		  },
  {
"cell_type": "code",
	   "execution_count": null,
	   "metadata": {
	    "collapsed": true
	   },
	   "outputs": [],
"source": [
"clc;\n",
"clear all;\n",
"close();\n",
"//page no 239\n",
"//prob no. 7.11\n",
"W=2;   //kHz  (as in ex 7.10)\n",
"delta_theta=3;\n",
"Bt=2*(1+delta_theta)*W;   //applying carsom's rule\n",
"mprintf('The transmission bandwidth Bt= %i kHz ',Bt)"
   ]
   }
,
{
		   "cell_type": "markdown",
		   "metadata": {},
		   "source": [
			"## Example 7.12: Determine_transmission_bandwidth.sce"
		   ]
		  },
  {
"cell_type": "code",
	   "execution_count": null,
	   "metadata": {
	    "collapsed": true
	   },
	   "outputs": [],
"source": [
"clc;\n",
"close();\n",
"//page no 239\n",
"//prob no. 7.12\n",
"delta_f=75;   //kHz\n",
"fm=[.025 .075 .75 1.5 5 10 15]   //in kHz\n",
"function B=Beta(fm,delta_f)\n",
"B=delta_f *(1 ./fm);\n",
"endfunction\n",
"function Bt=Bandwidth(fm,delta_f)\n",
"Bt(1:3) = 2 *delta_f;\n",
"for i=4:7\n",
"   Bt(i) = 2 *(delta_f + fm(i)); \n",
"end\n",
"endfunction\n",
"B=Beta(fm,delta_f);\n",
"Bt=Bandwidth(fm,delta_f);   //applying carsom's rule\n",
"disp('Table - 7.2');\n",
"disp('fm(kHz)     Beta       Bt(kHz)');\n",
"for i=1:7\n",
"mprintf('%4.3f         ',fm(i));\n",
"mprintf('%4.1f        ',B(i));\n",
"mprintf('%i\n',Bt(i));\n",
"end\n",
"plot(fm,Bt);\n",
"xtitle('Bandwidth of FM','fm,kHz','Bt,kHz')"
   ]
   }
,
{
		   "cell_type": "markdown",
		   "metadata": {},
		   "source": [
			"## Example 7.13: Determine_bandwidth.sce"
		   ]
		  },
  {
"cell_type": "code",
	   "execution_count": null,
	   "metadata": {
	    "collapsed": true
	   },
	   "outputs": [],
"source": [
"clc;\n",
"close();\n",
"//page no 240\n",
"//prob no. 7.13\n",
"delta_f=75;   //kHz\n",
"fm=[.025 .075 .75 1.5 5 10 15]   //in kHz (From prob-7.12)\n",
"delta_theta=delta_f/fm(7);\n",
"Bt=12*fm;   //applying carsom's rule\n",
"disp(delta_theta,'Delta theta=');\n",
"plot(fm,Bt);\n",
"xtitle('Bandwidth of PM','fm,kHz','Bt,kHz')"
   ]
   }
,
{
		   "cell_type": "markdown",
		   "metadata": {},
		   "source": [
			"## Example 7.14: Frequency_tripler.sce"
		   ]
		  },
  {
"cell_type": "code",
	   "execution_count": null,
	   "metadata": {
	    "collapsed": true
	   },
	   "outputs": [],
"source": [
"clc;\n",
"close();\n",
"//page no 242\n",
"//prob no. 7.14\n",
"delta_f1=2;   //kHz\n",
"fc1=100;      //kHz\n",
"W=5;          //kHz\n",
"fc2=3*fc1;\n",
"disp(fc2,'(a)  The output center frequency =');\n",
"delta_f2=3*delta_f1;\n",
"disp(delta_f2,'(b)  The output frequency deviation=');\n",
"D1=delta_f1/W;\n",
"D2=3*D1;\n",
"disp(D2,'(c)  The output deviation ratio =');"
   ]
   }
,
{
		   "cell_type": "markdown",
		   "metadata": {},
		   "source": [
			"## Example 7.16: Instantaneous_frequency.sce"
		   ]
		  },
  {
"cell_type": "code",
	   "execution_count": null,
	   "metadata": {
	    "collapsed": true
	   },
	   "outputs": [],
"source": [
"clc;\n",
"close();\n",
"//page no 248\n",
"//prob no. 7.16\n",
"Kf=4;    //kHz/V\n",
"f0=100;  //kHz\n",
"//  Part a\n",
"vm=2;   //Volts\n",
"delta_f=Kf*vm; //kHz\n",
"f=f0+delta_f;      //kHz\n",
"disp(f,'Corresponding frequwncy to this input is',delta_f,'(a)  The change in frequency is');\n",
"//Part b\n",
"vm=-3;   //Volts\n",
"delta_f=Kf*vm; //kHz\n",
"f=f0+delta_f;      //kHz\n",
"disp(f,'Corresponding frequwncy to this input is',delta_f,'(b)  In this case,the change in frequency is');"
   ]
   }
,
{
		   "cell_type": "markdown",
		   "metadata": {},
		   "source": [
			"## Example 7.17: Transmitter_design.sce"
		   ]
		  },
  {
"cell_type": "code",
	   "execution_count": null,
	   "metadata": {
	    "collapsed": true
	   },
	   "outputs": [],
"source": [
"clc;\n",
"close();\n",
"clear();\n",
"//page no 248\n",
"//prob no. 7.17\n",
"//All frequencies in kHz\n",
"fci=100;    //basic center frequency\n",
"fco=100000;  //output center frequency\n",
"delta_f=(3000/3072)*0.025;   //maximum frequency deviation at modulator\n",
"W=15;\n",
"D=delta_f/W;\n",
"Bt=2*W;  \n",
"table_row1=[fci delta_f D Bt];  //At point A\n",
"function [table]=table(table_row,multiplier)\n",
"   table= [table_row(1:3)*multiplier ,table_row(4)]\n",
"    \n",
"endfunction\n",
"table_row2=[table(table_row1,4)];   //at point B\n",
"table_row3=[table(table_row2,4)];   //at point C\n",
"table_row4=[table(table_row3,4)];   //at point D\n",
"\n",
"function [table1]=table1(table_row,multiplier)\n",
"   table1(1:3)= [table_row(1:3)*multiplier];\n",
"    Bt=2*(table1(2)+W);  //Applying carsons rule Bt=2*(delta_f+W)\n",
"   table1(4)= [Bt];\n",
"    \n",
"endfunction\n",
"table_row5=[table1(table_row4,3)];   //at point E    ,carsons rule applied from here\n",
"table_row6=[(fco/16) table_row5(2:4)];   //at point F  ,center frequency after mixer\n",
"table_row7=[table1(table_row6,4)];   //at point G\n",
"table_row8=[table1(table_row7,4)];   //at point H\n",
"table_row9=table_row8;               //at point I\n",
"disp('Point    fc      delta_f     D           Bt');\n",
"function display(Point,t_row)\n",
"    mprintf(' %c    %8.0i',Point,t_row(1));\n",
"    for i=2:4\n",
"   mprintf('    %3.4f',t_row(i));\n",
"end    \n",
"mprintf('\n')\n",
"endfunction\n",
"display('A',table_row1());\n",
"display('B',table_row2());\n",
"display('C',table_row3());\n",
"display('D',table_row4());\n",
"display('E',table_row5());\n",
"display('F',table_row6());\n",
"display('G',table_row7());\n",
"display('H',table_row8());\n",
"display('I',table_row9());"
   ]
   }
,
{
		   "cell_type": "markdown",
		   "metadata": {},
		   "source": [
			"## Example 7.18: Determine_output_frequency.sce"
		   ]
		  },
  {
"cell_type": "code",
	   "execution_count": null,
	   "metadata": {
	    "collapsed": true
	   },
	   "outputs": [],
"source": [
"clc;\n",
"close();\n",
"clear();\n",
"//page no 258\n",
"//prob no. 7.18\n",
"//All frequencies in kHz\n",
"Kd=2;    //V/kHz\n",
"fc=100;\n",
"// part a\n",
"f=102.5;\n",
"delta_f=f-fc;\n",
"vd=Kd*delta_f;    //V\n",
"disp(vd,'(a)  The first case result is');\n",
"// part b\n",
"f=98.5;\n",
"delta_f=f-fc;\n",
"vd=Kd*delta_f;   //V\n",
"disp(vd,'(a)  The second case result is');"
   ]
   }
,
{
		   "cell_type": "markdown",
		   "metadata": {},
		   "source": [
			"## Example 7.19: Frequency_division_modulation.sce"
		   ]
		  },
  {
"cell_type": "code",
	   "execution_count": null,
	   "metadata": {
	    "collapsed": true
	   },
	   "outputs": [],
"source": [
"clc;\n",
"close();\n",
"clear();\n",
"//page no 261\n",
"//prob no. 7.19\n",
"//All frequencies in Hz\n",
"D=5;     //deviation ratio\n",
"fc=[400 560 730 960];    //Center frequency\n",
"delta_f=0.075 .*fc;     //frequency deviation\n",
"W=delta_f ./D ;         //modulating frequency\n",
"Bt=2 .*(delta_f + W);  //Bandwidth\n",
"fl=fc - Bt/2;          //Lower frequency\n",
"fh=fc + Bt/2;          //Higher frequency\n",
"figure\n",
"x=[301:1100];\n",
"y=[1.5];\n",
"y=[y zeros(302:fl(1))]\n",
"for i=1:3\n",
"y=[y ones(fl(i):fh(i))];\n",
"y=[y zeros(fh(i)+1:fl(i+1))];\n",
"end\n",
"y=[y ones(fl(4):fh(4))];\n",
"y=[y zeros(fh(4):1100)];\n",
"plot(x,y);\n",
"xtitle('Composite baseband spectrum','f,Hz');\n",
"delta_frt=D*1046;\n",
"Brt=2*(delta_frt+1046);\n",
"disp('Hz',Brt,'(b)  The RF transmission bandwidth is ');"
   ]
   }
,
{
		   "cell_type": "markdown",
		   "metadata": {},
		   "source": [
			"## Example 7.1: single_tone_angle_modulation.sce"
		   ]
		  },
  {
"cell_type": "code",
	   "execution_count": null,
	   "metadata": {
	    "collapsed": true
	   },
	   "outputs": [],
"source": [
"clc;\n",
"close();\n",
"//page no 227\n",
"//prob no. 7.1\n",
"t=linspace(0,20);\n",
"function {theta]=theta(t)     //function for instantanious phase\n",
"    theta=3*%pi*t^2;\n",
"endfunction\n",
"function {fs]=frequency(t)     //function for instantanious phase\n",
"    Ws=6*%pi*t;\n",
"    fs=Ws/(2*%pi);\n",
"endfunction\n",
"subplot(2,1,1)\n",
"plot(t,theta,1);\n",
"xtitle('Plot1:Instantanious signal phase','t','theta',1);\n",
"fs=frequency(t);\n",
"subplot(2,1,2)\n",
"plot(t,fs,2);\n",
"xtitle('Plot2:Frequency','t','fs',1);"
   ]
   }
,
{
		   "cell_type": "markdown",
		   "metadata": {},
		   "source": [
			"## Example 7.2: Spectrum_of_tone_modulated_FM_signal.sce"
		   ]
		  },
  {
"cell_type": "code",
	   "execution_count": null,
	   "metadata": {
	    "collapsed": true
	   },
	   "outputs": [],
"source": [
"clc;\n",
"close();\n",
"//page no 230\n",
"//prob no. 7.2\n",
"//v(t)=80*cos[(2*%pi*10^8*t)+20*sin(2*%pi*10^3*t)]     --eq\n",
"//v(t)=A*cos[Wc*t+Bsin(Wm*t)]    --eq7-27\n",
"//comparing the above 2 equations we get \n",
"A=80;     //volts\n",
"fc=10^8;  //Hz\n",
"fm=10^3;  //Hz\n",
"B=20;\n",
"disp('Hz',fc,'(a) The carrier cyclic frequency is ');\n",
"disp('Hz',fm,'(b) The modulating frequency is ');\n",
"disp(B,'(c) The modulation index is ');\n",
"delta_f=B*fm;\n",
"disp('Hz',delta_f,'(d) The frequency deviation is ');\n",
"R=50;  //ohm\n",
"P=A^2/(2*R);\n",
"disp('W',P,'(e) The average power is ');"
   ]
   }
,
{
		   "cell_type": "markdown",
		   "metadata": {},
		   "source": [
			"## Example 7.3: Maximum_phase_deviatio.sce"
		   ]
		  },
  {
"cell_type": "code",
	   "execution_count": null,
	   "metadata": {
	    "collapsed": true
	   },
	   "outputs": [],
"source": [
"clc;\n",
"close();\n",
"//page no 230\n",
"//prob no. 7.3\n",
"//from ex 7.2\n",
"//v(t)=80*cos[(2*%pi*10^8*t)+20*sin(2*%pi*10^3*t)]     --eq\n",
"B=20;\n",
"delta_theta=B;   //for PM\n",
"disp(delta_theta,'The maximum phase deviation for PM is ');"
   ]
   }
,
{
		   "cell_type": "markdown",
		   "metadata": {},
		   "source": [
			"## Example 7.4: Equation_for_FM_signal.sce"
		   ]
		  },
  {
"cell_type": "code",
	   "execution_count": null,
	   "metadata": {
	    "collapsed": true
	   },
	   "outputs": [],
"source": [
"clc;\n",
"close();\n",
"//page no 231\n",
"//prob no. 7.4\n",
"disp('The equation becomes');\n",
"disp('v(t)=80*cos[(2*%pi*10^8*t)+10*sin(4*%pi*10^3*t)]');"
   ]
   }
,
{
		   "cell_type": "markdown",
		   "metadata": {},
		   "source": [
			"## Example 7.5: Equation_for_signal.sce"
		   ]
		  },
  {
"cell_type": "code",
	   "execution_count": null,
	   "metadata": {
	    "collapsed": true
	   },
	   "outputs": [],
"source": [
"clc;\n",
"close();\n",
"//page no 231\n",
"//prob no. 7.5\n",
"disp('The equation becomes');\n",
"disp('v(t)=80*cos[(2*%pi*10^8*t)+20*sin(4*%pi*10^3*t)]');"
   ]
   }
,
{
		   "cell_type": "markdown",
		   "metadata": {},
		   "source": [
			"## Example 7.6: Expression_for_composite_FM.sce"
		   ]
		  },
  {
"cell_type": "code",
	   "execution_count": null,
	   "metadata": {
	    "collapsed": true
	   },
	   "outputs": [],
"source": [
"clc;\n",
"close();\n",
"//page no 231\n",
"//prob no. 7.6\n",
"delta_f=12;   //kHz\n",
"fm=4;   //kHz\n",
"B=delta_f/fm;  //modulating index for FM\n",
"disp('The expression is');\n",
"mprintf('v(t)=A*cos[(2*pi*10^8*t)+%i*sin(%i*2*pi*10^3*t)]',B,fm);"
   ]
   }
,
{
		   "cell_type": "markdown",
		   "metadata": {},
		   "source": [
			"## Example 7.7: Expression_for_PM_signal.sce"
		   ]
		  },
  {
"cell_type": "code",
	   "execution_count": null,
	   "metadata": {
	    "collapsed": true
	   },
	   "outputs": [],
"source": [
"clc;\n",
"close();\n",
"//page no 231\n",
"//prob no. 7.7\n",
"delta_theta=6;   //kHz\n",
"fm=5;   //kHz\n",
"disp('The expression is');\n",
"mprintf('v(t)=A*cos[(2*pi*10^8*t)+%i*sin(%i*2*pi*10^3*t)]',delta_theta,fm);"
   ]
   }
,
{
		   "cell_type": "markdown",
		   "metadata": {},
		   "source": [
			"## Example 7.8: Transmission_bandwidth.sce"
		   ]
		  },
  {
"cell_type": "code",
	   "execution_count": null,
	   "metadata": {
	    "collapsed": true
	   },
	   "outputs": [],
"source": [
"clc;\n",
"close();\n",
"//page no 235\n",
"//prob no. 7.8\n",
"delta_f=400;   //Hz\n",
"fm=2000;   //Hz\n",
"B=delta_f/fm;   //\n",
"disp(B,'The modulation index is');\n",
"disp('(For B<=2.5 , the signal is NBFM)');\n",
"Bt=2*fm;  \n",
"mprintf('The transmission bandwidth Bt= %i Hz ',Bt)"
   ]
   }
,
{
		   "cell_type": "markdown",
		   "metadata": {},
		   "source": [
			"## Example 7.9: Transmission_bandwidth.sce"
		   ]
		  },
  {
"cell_type": "code",
	   "execution_count": null,
	   "metadata": {
	    "collapsed": true
	   },
	   "outputs": [],
"source": [
"clc;\n",
"close();\n",
"//page no 235\n",
"//prob no. 7.9\n",
"delta_f=8000;   //Hz\n",
"fm=100;   //Hz\n",
"B=delta_f/fm;   //\n",
"disp(B,'The modulation index is');\n",
"disp('(For B>=50 , the signal is VWBFM)');\n",
"Bt=2*delta_f;  \n",
"mprintf('The transmission bandwidth Bt= %i Hz ',Bt)"
   ]
   }
],
"metadata": {
		  "kernelspec": {
		   "display_name": "Scilab",
		   "language": "scilab",
		   "name": "scilab"
		  },
		  "language_info": {
		   "file_extension": ".sce",
		   "help_links": [
			{
			 "text": "MetaKernel Magics",
			 "url": "https://github.com/calysto/metakernel/blob/master/metakernel/magics/README.md"
			}
		   ],
		   "mimetype": "text/x-octave",
		   "name": "scilab",
		   "version": "0.7.1"
		  }
		 },
		 "nbformat": 4,
		 "nbformat_minor": 0
}
