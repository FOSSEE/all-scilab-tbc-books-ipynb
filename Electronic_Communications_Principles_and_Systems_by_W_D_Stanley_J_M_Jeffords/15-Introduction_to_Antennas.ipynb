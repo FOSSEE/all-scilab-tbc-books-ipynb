{
"cells": [
 {
		   "cell_type": "markdown",
	   "metadata": {},
	   "source": [
       "# Chapter 15: Introduction to Antennas"
	   ]
	},
{
		   "cell_type": "markdown",
		   "metadata": {},
		   "source": [
			"## Example 15.11: Parabolic_reflector.sce"
		   ]
		  },
  {
"cell_type": "code",
	   "execution_count": null,
	   "metadata": {
	    "collapsed": true
	   },
	   "outputs": [],
"source": [
"clc;\n",
"close();\n",
"clear();\n",
"//page no 511\n",
"//prob no. 15.1\n",
"//misprinted example number\n",
"c=3*10^8;  //speed of light\n",
"f=10*10^9;   //frequency\n",
"lembda=c/f;   //wavelength\n",
"mprintf('The wavelength of 2GHz is, = %.2f m\n',lembda);\n",
"D=12;  //m\n",
"Ap=%pi*D^2/4;\n",
"mprintf(' (a)The physical area is ,Ap= %.2f m^2  \n',Ap);\n",
"n1=.7;   //efficiency\n",
"Ae=n1*Ap;\n",
"mprintf('  The effective capture area is ,Ae= %.2f m^2',Ae);\n",
"G=4*%pi*Ae/lembda^2;\n",
"mprintf('\n (b) The gain is ,G= %i',G);\n",
"GdB=10*log10(G);\n",
"mprintf('\n The gain(dB) is ,GdB= %.1f dB',GdB);\n",
"theta_3dB=70*lembda/D;\n",
"mprintf('\n (c) The 3 dB beamwidth = %.3f degrees',theta_3dB);"
   ]
   }
,
{
		   "cell_type": "markdown",
		   "metadata": {},
		   "source": [
			"## Example 15.12: Effective_area.sce"
		   ]
		  },
  {
"cell_type": "code",
	   "execution_count": null,
	   "metadata": {
	    "collapsed": true
	   },
	   "outputs": [],
"source": [
"clc;\n",
"close();\n",
"clear();\n",
"//page no 507\n",
"//prob no. 15.12\n",
"//misprinted example number\n",
"c=3*10^8;  //speed of light\n",
"f=100*10^6;   //frequency\n",
"lembda=c/f;   //wavelength\n",
"mprintf('The wavelength of 2GHz is, = %i m\n',lembda);\n",
"Ac=0.13*lembda^2;\n",
"mprintf('The capture area is ,Ac= %.2f m^2',Ac);"
   ]
   }
,
{
		   "cell_type": "markdown",
		   "metadata": {},
		   "source": [
			"## Example 15.2: Distance_of_boundary.sce"
		   ]
		  },
  {
"cell_type": "code",
	   "execution_count": null,
	   "metadata": {
	    "collapsed": true
	   },
	   "outputs": [],
"source": [
"clc;\n",
"close();\n",
"clear();\n",
"//page no 500\n",
"//prob no. 15.2\n",
"c=3*10^8;  //speed of light\n",
"f=2*10^9;   //frequency\n",
"lembda=c/f;   //wavelength\n",
"mprintf('The wavelength of 2GHz is, = %.2f m\n',lembda);\n",
"D=15;  //m\n",
"Rff=2*D^2/lembda;\n",
"mprintf(' The distance to the far field is, Rff = %i m\n',Rff);"
   ]
   }
,
{
		   "cell_type": "markdown",
		   "metadata": {},
		   "source": [
			"## Example 15.3: max_dB_gai.sce"
		   ]
		  },
  {
"cell_type": "code",
	   "execution_count": null,
	   "metadata": {
	    "collapsed": true
	   },
	   "outputs": [],
"source": [
"clc;\n",
"close();\n",
"clear();\n",
"//page no 502\n",
"//prob no. 15.3\n",
"Gmax=10^5;\n",
"Gmax_dB=10*log10(Gmax);\n",
"mprintf('Gmax,dB= %i dB',Gmax_dB);"
   ]
   }
,
{
		   "cell_type": "markdown",
		   "metadata": {},
		   "source": [
			"## Example 15.4: Power_gai.sce"
		   ]
		  },
  {
"cell_type": "code",
	   "execution_count": null,
	   "metadata": {
	    "collapsed": true
	   },
	   "outputs": [],
"source": [
"clc;\n",
"close();\n",
"clear();\n",
"//page no 504\n",
"//prob no. 15.4\n",
"d=10^5;  //m\n",
"Pt=100;  //W\n",
"Pd=Pt/(4*%pi*d^2);\n",
"mprintf('The power density is ,Pd= %.1f pW/m^2',Pd*10^12);"
   ]
   }
,
{
		   "cell_type": "markdown",
		   "metadata": {},
		   "source": [
			"## Example 15.5: Power_density.sce"
		   ]
		  },
  {
"cell_type": "code",
	   "execution_count": null,
	   "metadata": {
	    "collapsed": true
	   },
	   "outputs": [],
"source": [
"clc;\n",
"close();\n",
"clear();\n",
"//page no 504\n",
"//prob no. 15.5\n",
"d=10^5;  //m\n",
"Pt=100;  //W\n",
"Gt=50;\n",
"Pd=Gt*Pt/(4*%pi*d^2);\n",
"mprintf('The power density is ,Pd= %.2f nW/m^2',Pd*10^9);"
   ]
   }
,
{
		   "cell_type": "markdown",
		   "metadata": {},
		   "source": [
			"## Example 15.6: satellite_system.sce"
		   ]
		  },
  {
"cell_type": "code",
	   "execution_count": null,
	   "metadata": {
	    "collapsed": true
	   },
	   "outputs": [],
"source": [
"clc;\n",
"close();\n",
"clear();\n",
"//page no 504\n",
"//prob no. 15.6\n",
"c=3*10^8;  //speed of light\n",
"f=15*10^9;   //frequency\n",
"lembda=c/f;   //wavelength\n",
"mprintf('The wavelength of 15 GHz is, = %.2f m\n',lembda);\n",
"\n",
"d=41*10^6;  //m\n",
"Pt=50;  //W\n",
"Gt=10^4;\n",
"Gr=10^5\n",
"Pr=lembda^2*Gr*Gt*Pt/((4*%pi)^2*d^2);\n",
"mprintf('The power density is ,Pr= %.1f pW',Pr*10^12);"
   ]
   }
,
{
		   "cell_type": "markdown",
		   "metadata": {},
		   "source": [
			"## Example 15.7: Radiation_resistance.sce"
		   ]
		  },
  {
"cell_type": "code",
	   "execution_count": null,
	   "metadata": {
	    "collapsed": true
	   },
	   "outputs": [],
"source": [
"clc;\n",
"close();\n",
"clear();\n",
"//page no 506\n",
"//prob no. 15.7\n",
"\n",
"Pt=2000;  //W\n",
"Irms=5;\n",
"Rrad=Pt/Irms^2;\n",
"mprintf('The radiation resistance is ,Rrad= %i ohm',Rrad);"
   ]
   }
],
"metadata": {
		  "kernelspec": {
		   "display_name": "Scilab",
		   "language": "scilab",
		   "name": "scilab"
		  },
		  "language_info": {
		   "file_extension": ".sce",
		   "help_links": [
			{
			 "text": "MetaKernel Magics",
			 "url": "https://github.com/calysto/metakernel/blob/master/metakernel/magics/README.md"
			}
		   ],
		   "mimetype": "text/x-octave",
		   "name": "scilab",
		   "version": "0.7.1"
		  }
		 },
		 "nbformat": 4,
		 "nbformat_minor": 0
}
