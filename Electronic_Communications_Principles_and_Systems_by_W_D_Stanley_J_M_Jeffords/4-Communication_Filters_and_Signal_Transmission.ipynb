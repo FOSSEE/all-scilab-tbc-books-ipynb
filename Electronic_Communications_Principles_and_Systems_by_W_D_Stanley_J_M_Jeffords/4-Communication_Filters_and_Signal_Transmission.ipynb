{
"cells": [
 {
		   "cell_type": "markdown",
	   "metadata": {},
	   "source": [
       "# Chapter 4: Communication Filters and Signal Transmission"
	   ]
	},
{
		   "cell_type": "markdown",
		   "metadata": {},
		   "source": [
			"## Example 4.5: Amplitude_response.sce"
		   ]
		  },
  {
"cell_type": "code",
	   "execution_count": null,
	   "metadata": {
	    "collapsed": true
	   },
	   "outputs": [],
"source": [
"clc;\n",
"clear all;\n",
"//chapter 4\n",
"//page no 120\n",
"//example 4.5\n",
"f=[500 2000 10000];    //frequency in Hz\n",
"Af=1 ./sqrt(1+(f./1000)^8);   //Linear amplitude response\n",
"AdBf=20*log10(Af);\n",
"mprintf('   f,Hz     A(f)        AdB(f)\n')\n",
"for i=1:3\n",
"    mprintf(' %5i Hz   %.5f     %.3f dB\n',f(i),Af(i),AdBf(i))\n",
"end"
   ]
   }
,
{
		   "cell_type": "markdown",
		   "metadata": {},
		   "source": [
			"## Example 4.6: Parrale_resonant_circuit.sce"
		   ]
		  },
  {
"cell_type": "code",
	   "execution_count": null,
	   "metadata": {
	    "collapsed": true
	   },
	   "outputs": [],
"source": [
"clc;\n",
"clear all;\n",
"//chapter 4\n",
"//page no 123\n",
"//example 4.6\n",
"L=4*10^-6;   //Henry\n",
"C=9*10^-12;  //Farad\n",
"R=20*10^3;    //ohm\n",
"\n",
"f0=1/(2*%pi*sqrt(L*C));    //frequency in Hz\n",
"mprintf('(a) The resonant frequency is f0=%.2f  MHz\n',f0*10^-6)\n",
"Q=R*sqrt(C/L)\n",
"mprintf(' (b) The Q is %i\n',Q);\n",
"B=f0/Q;\n",
"mprintf(' (c) The 3-dB bandwidth is B=%i KHz\n',B*10^-3);"
   ]
   }
,
{
		   "cell_type": "markdown",
		   "metadata": {},
		   "source": [
			"## Example 4.7: Determine_Bandwidth.sce"
		   ]
		  },
  {
"cell_type": "code",
	   "execution_count": null,
	   "metadata": {
	    "collapsed": true
	   },
	   "outputs": [],
"source": [
"clc;\n",
"clear all;\n",
"//chapter 4\n",
"//page no 125\n",
"//example 4.7\n",
"//misprinted example number\n",
"pulse_width=2*10^-6;    //second\n",
"rise_time=10*10^-9;      //second\n",
"B=.5/pulse_width;       //in Hz\n",
"mprintf('(a) The aproximate bandwidth for coarse reproduction is B=%i  KHz\n',B*10^-3)\n",
"B=.5/rise_time;\n",
"mprintf(' (b) The aproximate bandwidth for fine reproduction is B=%i  MHz\n',B*10^-6)"
   ]
   }
],
"metadata": {
		  "kernelspec": {
		   "display_name": "Scilab",
		   "language": "scilab",
		   "name": "scilab"
		  },
		  "language_info": {
		   "file_extension": ".sce",
		   "help_links": [
			{
			 "text": "MetaKernel Magics",
			 "url": "https://github.com/calysto/metakernel/blob/master/metakernel/magics/README.md"
			}
		   ],
		   "mimetype": "text/x-octave",
		   "name": "scilab",
		   "version": "0.7.1"
		  }
		 },
		 "nbformat": 4,
		 "nbformat_minor": 0
}
