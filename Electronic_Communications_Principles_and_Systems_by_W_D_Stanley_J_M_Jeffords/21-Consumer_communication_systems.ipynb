{
"cells": [
 {
		   "cell_type": "markdown",
	   "metadata": {},
	   "source": [
       "# Chapter 21: Consumer communication systems"
	   ]
	},
{
		   "cell_type": "markdown",
		   "metadata": {},
		   "source": [
			"## Example 21.1: difference_between_stereo_FM_and_monaural_FM.sce"
		   ]
		  },
  {
"cell_type": "code",
	   "execution_count": null,
	   "metadata": {
	    "collapsed": true
	   },
	   "outputs": [],
"source": [
"clc;\n",
"close();\n",
"clear();\n",
"//page no 637\n",
"//prob no. 21.1\n",
"D1=5;\n",
"GR1=3*D1^2*(1+D1);\n",
"mprintf('The reciever processing gain is GR1= %.0f \n',GR1);\n",
"Bt=200*10^3;     //bandwisth in Hz\n",
"W=53*10^3;        //highest modulating frequency in Hz\n",
"D2=Bt/(2*W)-1;    //deviation ratio\n",
"mprintf('D2=%.3f\n',D2);\n",
"GR2=3*D2^2*(1+D2);\n",
"mprintf('The reciever processing gain for sterio FM is GR2= %.3f \n',GR2);\n",
"mprintf('The ratio of the two gains is GR2/GR1= %.4f  dB\n',GR2/GR1);\n",
"dBdiffrence=10*log10(GR2/GR1)\n",
"mprintf('dB diffrence= %.0f dB\n',dBdiffrence);"
   ]
   }
,
{
		   "cell_type": "markdown",
		   "metadata": {},
		   "source": [
			"## Example 21.2: Monochrome_TV.sce"
		   ]
		  },
  {
"cell_type": "code",
	   "execution_count": null,
	   "metadata": {
	    "collapsed": true
	   },
	   "outputs": [],
"source": [
"clc;\n",
"close();\n",
"clear();\n",
"//page no 644\n",
"//prob no. 21.2\n",
"mprintf('The percentage is %.0f ',483/525*100)"
   ]
   }
,
{
		   "cell_type": "markdown",
		   "metadata": {},
		   "source": [
			"## Example 21.3: Deviation_ratio_in_TV_channel.sce"
		   ]
		  },
  {
"cell_type": "code",
	   "execution_count": null,
	   "metadata": {
	    "collapsed": true
	   },
	   "outputs": [],
"source": [
"clc;\n",
"close();\n",
"clear();\n",
"//page no 644\n",
"//prob no. 21.3\n",
"D=25/15;\n",
"mprintf('The deviation ratio is D=%.3f ',D)"
   ]
   }
,
{
		   "cell_type": "markdown",
		   "metadata": {},
		   "source": [
			"## Example 21.4: Transmission_bandwidth_of_monaural_television_FM.sce"
		   ]
		  },
  {
"cell_type": "code",
	   "execution_count": null,
	   "metadata": {
	    "collapsed": true
	   },
	   "outputs": [],
"source": [
"clc;\n",
"close();\n",
"clear();\n",
"//page no 644\n",
"//prob no. 21.4\n",
"delta_f=25  //KHz\n",
"W=15;      //KHz\n",
"Bt=2*(delta_f+W)     //bandwidth\n",
"mprintf('The bandwidth is Bt=%i KHz',Bt)"
   ]
   }
],
"metadata": {
		  "kernelspec": {
		   "display_name": "Scilab",
		   "language": "scilab",
		   "name": "scilab"
		  },
		  "language_info": {
		   "file_extension": ".sce",
		   "help_links": [
			{
			 "text": "MetaKernel Magics",
			 "url": "https://github.com/calysto/metakernel/blob/master/metakernel/magics/README.md"
			}
		   ],
		   "mimetype": "text/x-octave",
		   "name": "scilab",
		   "version": "0.7.1"
		  }
		 },
		 "nbformat": 4,
		 "nbformat_minor": 0
}
