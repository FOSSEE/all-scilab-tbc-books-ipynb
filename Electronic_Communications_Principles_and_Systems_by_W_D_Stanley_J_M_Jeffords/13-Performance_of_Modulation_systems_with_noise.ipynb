{
"cells": [
 {
		   "cell_type": "markdown",
	   "metadata": {},
	   "source": [
       "# Chapter 13: Performance of Modulation systems with noise"
	   ]
	},
{
		   "cell_type": "markdown",
		   "metadata": {},
		   "source": [
			"## Example 13.1: AC_system_compariso.sce"
		   ]
		  },
  {
"cell_type": "code",
	   "execution_count": null,
	   "metadata": {
	    "collapsed": true
	   },
	   "outputs": [],
"source": [
"clc;\n",
"close();\n",
"clear();\n",
"//page no 442\n",
"//prob no. 13.1\n",
"Gb=1;\n",
"mprintf('(a) SSB:  Gb=%i  \n',Gb);\n",
"mprintf('   GbdB=%i  dB\n',10*log10(Gb));\n",
"mprintf('(b) DSB:  Gb=%i  \n',Gb);\n",
"mprintf('   GbdB=%i  dB\n',10*log10(Gb));\n",
"m=0.5;\n",
"Gb=m^2/(2+m^2);\n",
"mprintf('(c) AM(m=.5):  Gb=%.3f  \n',Gb);\n",
"mprintf('   GbdB=%.3f  dB\n',10*log10(Gb));\n",
"m=1;\n",
"Gb=m^2/(2+m^2);\n",
"mprintf('(d) AM(m=1):  Gb=%.3f  \n',Gb);\n",
"mprintf('   GbdB=%.3f  dB\n',10*log10(Gb));\n",
"delta_phi=5;\n",
"Gb=delta_phi^2/2;\n",
"mprintf('(e) FM(delta phi=5)):  Gb=%.1f  \n',Gb);\n",
"mprintf('   GbdB=%.3f  dB\n',10*log10(Gb));\n",
"D=5;\n",
"Gb=3*D^2/2;\n",
"mprintf('(f) FM(D=5):  Gb=%.1f  \n',Gb);\n",
"mprintf('   GbdB=%.3f  dB\n',10*log10(Gb));\n",
"Wf1=7.07;\n",
"Gb=3/2*D^2*%pi/6*Wf1;\n",
"mprintf('(g) FM(D=5, W/f1=7.07):  Gb=%.1f  \n',Gb);\n",
"mprintf('   GbdB=%.2f  dB\n',10*log10(Gb));\n",
""
   ]
   }
,
{
		   "cell_type": "markdown",
		   "metadata": {},
		   "source": [
			"## Example 13.2: Receiver_processing_gain.sce"
		   ]
		  },
  {
"cell_type": "code",
	   "execution_count": null,
	   "metadata": {
	    "collapsed": true
	   },
	   "outputs": [],
"source": [
"clc;\n",
"close();\n",
"clear();\n",
"//page no 443\n",
"//prob no. 13.2\n",
"GR=1;\n",
"mprintf('(a) SSB:  GR=%i  \n',GR);\n",
"mprintf('   GRdB=%i  dB\n',10*log10(GR));\n",
"GR=2;\n",
"mprintf('(b) DSB:  GR=%i  \n',GR);\n",
"mprintf('   GRdB=%.2f  dB\n',10*log10(GR));\n",
"m=0.5;\n",
"GR=2*m^2/(2+m^2);\n",
"mprintf('(c) AM(m=.5):  GR=%.4f  \n',GR);\n",
"mprintf('   GRdB=%.3f  dB\n',10*log10(GR));\n",
"m=1;\n",
"GR=2*m^2/(2+m^2);\n",
"mprintf('(d) AM(m=1):  GR=%.3f  \n',GR);\n",
"mprintf('   GRdB=%.2f  dB\n',10*log10(GR));\n",
"delta_phi=5;\n",
"GR=(1+delta_phi)*delta_phi^2;\n",
"mprintf('(e) FM(delta phi=5)):  GR=%.1f  \n',GR);\n",
"mprintf('   GRdB=%.3f  dB\n',10*log10(GR));\n",
"D=5;\n",
"GR=3*D^2*(1+D);\n",
"mprintf('(f) FM(D=5):  GR=%.1f  \n',GR);\n",
"mprintf('   GRdB=%.3f  dB\n',10*log10(GR));\n",
"Wf1=7.07;\n",
"GR=3*(1+D)*D^2*%pi/6*Wf1;\n",
"mprintf('(g) FM(D=5, W/f1=7.07):  GR=%.1f  \n',GR);\n",
"mprintf('   GRdB=%.2f  dB\n',10*log10(GR));\n",
""
   ]
   }
,
{
		   "cell_type": "markdown",
		   "metadata": {},
		   "source": [
			"## Example 13.3: signal_to_noise_ratio.sce"
		   ]
		  },
  {
"cell_type": "code",
	   "execution_count": null,
	   "metadata": {
	    "collapsed": true
	   },
	   "outputs": [],
"source": [
"clc;\n",
"close();\n",
"clear();\n",
"//page no 447\n",
"//prob no. 13.3\n",
"k=1.38*10^-23;   //Boltzmann's const\n",
"//Temperatures in K\n",
"Ti=150;\n",
"Te=325;\n",
"Tsys=Ti+Te;\n",
"mprintf(' Tsys=%i K \n',Tsys);\n",
"D=5;\n",
"W=15;   //kHz\n",
"B=2*(1+D)*W;\n",
"mprintf('  B=%i  kHz\n',B);\n",
"Nsys=k*Tsys*B*10^3;   //W\n",
"mprintf('  Nsys=%.3f fW\n',Nsys*10^15);\n",
"PR=50*10^-12;   //W\n",
"SNsys=PR/Nsys; \n",
"mprintf('  (S/N)sys=%i  \n',SNsys);\n",
"GR=3*(1+D)*D^2\n",
"mprintf('  GR=%.0f  \n',GR);\n",
"SNoutput=GR*SNsys;\n",
"mprintf('  (S/N)output=%.0f  \n',SNoutput);\n",
"mprintf('  (S/N)out,dB=%.2f  dB\n',10*log10(SNoutput));\n",
"mprintf('  (S/N)sys,dB=%.2f  dB\n',10*log10(SNsys));\n",
"GRdb=10*log10(GR);\n",
"mprintf('  GR,dB=%.2f dB \n',GRdb);\n",
"mprintf('  (S/N)output,dB=%.2f  dB\n',10*log10(SNoutput));\n",
"\n",
""
   ]
   }
,
{
		   "cell_type": "markdown",
		   "metadata": {},
		   "source": [
			"## Example 13.4: signal_to_noise_ratio.sce"
		   ]
		  },
  {
"cell_type": "code",
	   "execution_count": null,
	   "metadata": {
	    "collapsed": true
	   },
	   "outputs": [],
"source": [
"clc;\n",
"close();\n",
"clear();\n",
"//page no 450\n",
"//prob no. 13.4\n",
"N=16;  //bit\n",
"SNoutdB=1.76+6.02*N;\n",
"mprintf(' (S/N)output,dB=%.2f dB \n',SNoutdB);"
   ]
   }
,
{
		   "cell_type": "markdown",
		   "metadata": {},
		   "source": [
			"## Example 13.5: Minimum_number_of_bits.sce"
		   ]
		  },
  {
"cell_type": "code",
	   "execution_count": null,
	   "metadata": {
	    "collapsed": true
	   },
	   "outputs": [],
"source": [
"clc;\n",
"close();\n",
"clear();\n",
"//page no 450\n",
"//prob no. 13.5\n",
"SNoutdB=53;\n",
"N=(SNoutdB-1.76)/6.02;\n",
"mprintf(' N=%.2f bits \n',N);\n",
"N=9;   //roundup\n",
"mprintf(' N=%i bits \n',N);\n",
""
   ]
   }
,
{
		   "cell_type": "markdown",
		   "metadata": {},
		   "source": [
			"## Example 13.6: Binary_digital_communication_system.sce"
		   ]
		  },
  {
"cell_type": "code",
	   "execution_count": null,
	   "metadata": {
	    "collapsed": true
	   },
	   "outputs": [],
"source": [
"clc;\n",
"close();\n",
"clear();\n",
"//page no 453\n",
"//prob no. 13.6\n",
"N=6;   //bits per word\n",
"M=2^N;\n",
"mprintf(' M=%i  \n',M);\n",
"Pr=200*10^-15;   //W\n",
"R=2*10^6;   //bits/s\n",
"Eb=Pr/R;\n",
"mprintf(' Bit energy ,Eb=%.0f*10^-21  \n',Eb*10^21);\n",
"k=1.38*10^-23;   //Boltzmann cons\n",
"Ti=300;  //K\n",
"Te=425;  //K\n",
"Tsys=Ti+Te;\n",
"nsys=k*Tsys;                 \n",
"mprintf('  Noise power spectral density ,nsys=%.0f*10^-20 W/Hz \n',nsys*10^20);\n",
"rho=Eb/nsys;\n",
"mprintf(' Bit energy , rho=%.0f  \n',rho);\n",
"rhodB=10*log10(rho);\n",
"mprintf(' Bit energy in db, rho,dB=%.0f dB \n',rhodB);\n",
"//part a\n",
"Pe=4*10^-6;\n",
"SNout=1.5*M^2/(1+4*M^2*Pe);\n",
"mprintf(' \n(a) (S/N)output=%.0f (or %0.2f  dB) \n',SNout,10*log10(SNout));\n",
"//part b\n",
"Pe=2.3*10^-5;\n",
"SNout=1.5*M^2/(1+4*M^2*Pe);\n",
"mprintf(' \n(b) (S/N)output=%.0f (or %0.2f  dB) \n',SNout,10*log10(SNout));\n",
"//part c\n",
"Pe=8*10^-4;\n",
"SNout=1.5*M^2/(1+4*M^2*Pe);\n",
"mprintf(' \n(c) (S/N)output=%.1f (or %0.2f  dB) \n',SNout,10*log10(SNout));\n",
"//part d\n",
"Pe=3.5*10^-3;\n",
"SNout=1.5*M^2/(1+4*M^2*Pe);\n",
"mprintf(' \n(d) (S/N)output=%.1f (or %0.2f  dB) \n',SNout,10*log10(SNout));\n",
""
   ]
   }
,
{
		   "cell_type": "markdown",
		   "metadata": {},
		   "source": [
			"## Example 13.7: PSK_signal_to_noise_ratio.sce"
		   ]
		  },
  {
"cell_type": "code",
	   "execution_count": null,
	   "metadata": {
	    "collapsed": true
	   },
	   "outputs": [],
"source": [
"clc;\n",
"close();\n",
"clear();\n",
"//page no 455\n",
"//prob no. 13.7\n",
"//data from ex 13.6\n",
"M=2^6;\n",
"Pr=200*10^-15;   //W\n",
"R=8*10^6;   //bits/s    (changed)\n",
"Eb=Pr/R;\n",
"\n",
"k=1.38*10^-23;   //Boltzmann cons\n",
"Ti=300;  //K\n",
"Te=425;  //K\n",
"Tsys=Ti+Te;\n",
"nsys=k*Tsys;                 \n",
"//mprintf('  Noise power spectral density ,nsys=%.0f*10^-20 W/Hz \n',nsys*10^20);\n",
"rho=Eb/nsys;\n",
"mprintf(' Bit energy , rho=%.1f  \n',rho);\n",
"rhodB=10*log10(rho);\n",
"mprintf(' Bit energy in db, rho,dB=%.2f dB \n',rhodB);\n",
"\n",
"Pe=1.3*10^-2;\n",
"SNout=1.5*M^2/(1+4*M^2*Pe);\n",
"mprintf(' \n (S/N)output=%.2f (or %0.2f  dB) \n',SNout,10*log10(SNout));"
   ]
   }
,
{
		   "cell_type": "markdown",
		   "metadata": {},
		   "source": [
			"## Example 13.8: input_average_carrier_power.sce"
		   ]
		  },
  {
"cell_type": "code",
	   "execution_count": null,
	   "metadata": {
	    "collapsed": true
	   },
	   "outputs": [],
"source": [
"clc;\n",
"close();\n",
"clear();\n",
"//page no 455\n",
"//prob no. 13.8\n",
"Pe=10^-5;\n",
"R=1*10^6;  //bits/s\n",
"k=1.38*10^-23;   //Boltzmann cons\n",
"Ti=475;  //K\n",
"Te=250;  //K\n",
"Tsys=Ti+Te;\n",
"nsys=k*Tsys;  //W/Hz  \n",
"function Eb=E(rhodb)    //function for Eb\n",
"    rho=10^(rhodb/10);\n",
"    Eb=nsys*rho;\n",
"endfunction\n",
"function Pr=P(E)      //function for Pr\n",
"    Pr=R*Eb;\n",
"endfunction\n",
"function display(rhodb,pt)\n",
"    Eb=E(rhodb);\n",
"    Pr=P(E);\n",
"mprintf('\n(%c)Bit energy , Eb=%.2f*10^-21 J \n',pt,Eb*10^21);\n",
"mprintf(' Required reciver carrier power , Pr=%.2f fW \n',Pr*10^15);\n",
"\n",
"endfunction\n",
"//Part a\n",
"rhodb=9.6;\n",
"display(rhodb,'a');\n",
"\n",
"//Part b\n",
"rhodb=10.3;\n",
"display(rhodb,'b');\n",
"\n",
"//Part c\n",
"rhodb=12.6;\n",
"display(rhodb,'c');\n",
"\n",
"//Part d\n",
"rhodb=13.4;\n",
"display(rhodb,'d');"
   ]
   }
,
{
		   "cell_type": "markdown",
		   "metadata": {},
		   "source": [
			"## Example 13.9: PSK_required_reciever_power.sce"
		   ]
		  },
  {
"cell_type": "code",
	   "execution_count": null,
	   "metadata": {
	    "collapsed": true
	   },
	   "outputs": [],
"source": [
"clc;\n",
"close();\n",
"clear();\n",
"//page no 456\n",
"//prob no. 13.9\n",
"\n",
"//Data form ex13.8\n",
"Pe=10^-5;\n",
"R=2*10^6;  //bits/s  (changed)\n",
"k=1.38*10^-23;   //Boltzmann cons\n",
"Ti=475;  //K\n",
"Te=250;  //K\n",
"Tsys=Ti+Te;\n",
"nsys=k*Tsys;  //W/Hz  \n",
"function Eb=E(rhodb)    //function for Eb\n",
"    rho=10^(rhodb/10);\n",
"    Eb=nsys*rho;\n",
"endfunction\n",
"function Pr=P(E)      //function for Pr\n",
"    Pr=R*Eb;\n",
"endfunction\n",
"\n",
"rhodb=9.6;\n",
" Eb=E(rhodb);\n",
" Pr=P(E);\n",
"mprintf('\nBit energy , Eb=%.2f*10^-21 J \n',Eb*10^21);\n",
"mprintf(' Required reciver carrier power , Pr=%.2f fW \n',Pr*10^15);"
   ]
   }
],
"metadata": {
		  "kernelspec": {
		   "display_name": "Scilab",
		   "language": "scilab",
		   "name": "scilab"
		  },
		  "language_info": {
		   "file_extension": ".sce",
		   "help_links": [
			{
			 "text": "MetaKernel Magics",
			 "url": "https://github.com/calysto/metakernel/blob/master/metakernel/magics/README.md"
			}
		   ],
		   "mimetype": "text/x-octave",
		   "name": "scilab",
		   "version": "0.7.1"
		  }
		 },
		 "nbformat": 4,
		 "nbformat_minor": 0
}
