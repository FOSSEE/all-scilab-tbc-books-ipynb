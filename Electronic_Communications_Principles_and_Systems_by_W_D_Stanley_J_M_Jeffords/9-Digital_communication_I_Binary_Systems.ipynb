{
"cells": [
 {
		   "cell_type": "markdown",
	   "metadata": {},
	   "source": [
       "# Chapter 9: Digital communication I Binary Systems"
	   ]
	},
{
		   "cell_type": "markdown",
		   "metadata": {},
		   "source": [
			"## Example 9.10: NRZ_L_PCM_bandwidth.sce"
		   ]
		  },
  {
"cell_type": "code",
	   "execution_count": null,
	   "metadata": {
	    "collapsed": true
	   },
	   "outputs": [],
"source": [
"clc;\n",
"close();\n",
"clear();\n",
"//page no 329\n",
"//prob no. 9.10\n",
"//all frequencies in kHz\n",
"R=200;  //kbits/s\n",
"Bt=R;   //kHz\n",
"mprintf(' Bt=%ikHz',Bt);"
   ]
   }
,
{
		   "cell_type": "markdown",
		   "metadata": {},
		   "source": [
			"## Example 9.1: possible_PCM_words.sce"
		   ]
		  },
  {
"cell_type": "code",
	   "execution_count": null,
	   "metadata": {
	    "collapsed": true
	   },
	   "outputs": [],
"source": [
"clc;\n",
"close();\n",
"clear();\n",
"//page no 304\n",
"//prob no. 9.1\n",
"bits=4;\n",
"printf('(a) M=%i values\n',2^bits);\n",
"bits=8;\n",
"printf('(b) M=%i values\n',2^bits);\n",
"bits=16;\n",
"printf('(c) M=%i values\n',2^bits);"
   ]
   }
,
{
		   "cell_type": "markdown",
		   "metadata": {},
		   "source": [
			"## Example 9.2: Minimum_number_of_bits.sce"
		   ]
		  },
  {
"cell_type": "code",
	   "execution_count": null,
	   "metadata": {
	    "collapsed": true
	   },
	   "outputs": [],
"source": [
"clc;\n",
"close();\n",
"clear();\n",
"//page no 304\n",
"//prob no. 9.2\n",
"N=log2(100);\n",
"printf('(a) N=%.2f bits\n',N);"
   ]
   }
,
{
		   "cell_type": "markdown",
		   "metadata": {},
		   "source": [
			"## Example 9.3: Quantization.sce"
		   ]
		  },
  {
"cell_type": "code",
	   "execution_count": null,
	   "metadata": {
	    "collapsed": true
	   },
	   "outputs": [],
"source": [
"clc;\n",
"close();\n",
"clear();\n",
"//page no 309\n",
"//prob no. 9.3\n",
"//input graph\n",
"t=[0:.1:15-.1];\n",
"y=[(1/9)*(0:.1:1)^2 (1/8)*(1.1:.1:1.9)^2.1];\n",
"y=[y (7/8)*sin(2*%pi*t(21:150)/18.5)];\n",
"plot(t,y);\n",
"y=8*y;   \n",
"//quantized form\n",
"y1=[];\n",
"for i=1:10:150\n",
"    for m=-7:7\n",
"        if y(i) < m+0.5 then\n",
"            break();\n",
"        end\n",
"     end\n",
"     \n",
"    y1=[y1 m*ones(1:10)]\n",
"end\n",
"y1=y1./8;\n",
"plot2d(t,y1,[5]);\n",
"a=gca(); // Handle on axes entity\n",
"a.x_location = 'origin'; \n",
"a.y_location = 'origin'; \n",
"// Some operations on entities created by plot2d ...\n",
"a=gca();\n",
"a.isoview='off'; \n",
"a.children // list the children of the axes\n",
"xtitle('Analog and quantized signals','t,ms','Normalised signal level')\n",
"xgrid()"
   ]
   }
,
{
		   "cell_type": "markdown",
		   "metadata": {},
		   "source": [
			"## Example 9.4: Quantization_error.sce"
		   ]
		  },
  {
"cell_type": "code",
	   "execution_count": null,
	   "metadata": {
	    "collapsed": true
	   },
	   "outputs": [],
"source": [
"clc;\n",
"close();\n",
"clear();\n",
"//page no 310\n",
"//prob no. 9.4\n",
"N=8;\n",
"Vfs=20;  //Volts\n",
"delta_Xu=2^-N;\n",
"mprintf('(a)  The normalised unipolar step size is %f\n ',delta_Xu);\n",
"delta_vu=delta_Xu*Vfs;\n",
"mprintf('(b)  The actual step size is %.2f mV\n ',delta_vu*10^3);\n",
"Xumax=1-delta_Xu;\n",
"mprintf('(c)  The normalized maximum quantized level is %f\n ',Xumax);\n",
"vumax=Xumax*Vfs;\n",
"mprintf('(d)  The actual maximum quantized level is %f V\n ',vumax);\n",
"Eu=delta_Xu/2;\n",
"mprintf('(e)  The normalized peak error is %f\n ',Eu);\n",
"eu=Eu*Vfs;\n",
"mprintf('(f)  The actual peak error is %.2f mV ',eu*10^3);"
   ]
   }
,
{
		   "cell_type": "markdown",
		   "metadata": {},
		   "source": [
			"## Example 9.5: A_to_D_converter.sce"
		   ]
		  },
  {
"cell_type": "code",
	   "execution_count": null,
	   "metadata": {
	    "collapsed": true
	   },
	   "outputs": [],
"source": [
"clc;\n",
"close();\n",
"clear();\n",
"//page no 311\n",
"//prob no. 9.5\n",
"Vfs=10;  //Volts\n",
"N=8;\n",
"delta_Xb=2^(-N+1);\n",
"mprintf('(a)  The normalised bipolar step size is %f\n ',delta_Xb);\n",
"delta_vb=delta_Xb*Vfs;\n",
"mprintf('(b)  The actual step size is %.2f mV\n ',delta_vb*10^3);\n",
"Xbmax=1-delta_Xb;\n",
"mprintf('(c)  The normalized maximum quantized level is %f\n ',Xbmax);\n",
"vbmax=Xbmax*Vfs;\n",
"mprintf('(d)  The actual maximum quantized level is %f V\n ',vbmax);\n",
"Eb=delta_Xb/2;\n",
"mprintf('(e)  The normalized peak error is %f\n ',Eb);\n",
"eb=Eb*Vfs;\n",
"mprintf('(f)  The actual peak error is %.2f mV ',eb*10^3);"
   ]
   }
,
{
		   "cell_type": "markdown",
		   "metadata": {},
		   "source": [
			"## Example 9.6: Micro_compression_law_encoder.sce"
		   ]
		  },
  {
"cell_type": "code",
	   "execution_count": null,
	   "metadata": {
	    "collapsed": true
	   },
	   "outputs": [],
"source": [
"clc;\n",
"close();\n",
"clear();\n",
"//page no 313\n",
"//prob no. 9.6\n",
"Vimax=16;  //Volts\n",
"Vomax=2;  //Volts\n",
"m=255;     //meu\n",
"vi=[2 4 8 16];\n",
"vo=Vomax*log(1+m*vi/Vimax)/log(1+m);\n",
"table=[vi' vo'];\n",
"mprintf(' vi(V)    vo(V)');\n",
"disp(table);"
   ]
   }
,
{
		   "cell_type": "markdown",
		   "metadata": {},
		   "source": [
			"## Example 9.7: PCM_TDM_system.sce"
		   ]
		  },
  {
"cell_type": "code",
	   "execution_count": null,
	   "metadata": {
	    "collapsed": true
	   },
	   "outputs": [],
"source": [
"clc;\n",
"close();\n",
"clear();\n",
"//page no 319\n",
"//prob no. 9.7\n",
"//all time in ms\n",
"//all frequencies in kHz\n",
"W=5;\n",
"N=8;  //bits\n",
"k=19+1;  //word\n",
"fs=2*W;\n",
"mprintf('fs=%i kHz\n',fs);\n",
"Tf=1/fs;\n",
"mprintf(' Tf=%.1f ms\n',Tf);\n",
"Tw=Tf/k;\n",
"mprintf(' Tw=%i micro second\n',Tw*10^3);\n",
"tau=Tw/N;\n",
"mprintf(' tau=%.3f micro second\n',tau*10^3);\n",
"Bt=0.5/tau;\n",
"mprintf(' Bt=%ikHz',Bt);"
   ]
   }
,
{
		   "cell_type": "markdown",
		   "metadata": {},
		   "source": [
			"## Example 9.8: NRZ_L_PCM.sce"
		   ]
		  },
  {
"cell_type": "code",
	   "execution_count": null,
	   "metadata": {
	    "collapsed": true
	   },
	   "outputs": [],
"source": [
"clc;\n",
"close();\n",
"clear();\n",
"//page no 323\n",
"//prob no. 9.8\n",
"//all frequencies in kHz\n",
"R=200;  //kbits/s\n",
"Bt=R;   //kHz\n",
"mprintf(' Bt=%ikHz',Bt);"
   ]
   }
,
{
		   "cell_type": "markdown",
		   "metadata": {},
		   "source": [
			"## Example 9.9: NRZ_L_PCM.sce"
		   ]
		  },
  {
"cell_type": "code",
	   "execution_count": null,
	   "metadata": {
	    "collapsed": true
	   },
	   "outputs": [],
"source": [
"clc;\n",
"close();\n",
"clear();\n",
"//page no 326\n",
"//prob no. 9.9\n",
"//all frequencies in kHz\n",
"R=200;  //kbits/s\n",
"delta_f=150;  //f1-f0\n",
"Bt=delta_f+R;   //kHz\n",
"mprintf(' Bt=%ikHz',Bt);"
   ]
   }
],
"metadata": {
		  "kernelspec": {
		   "display_name": "Scilab",
		   "language": "scilab",
		   "name": "scilab"
		  },
		  "language_info": {
		   "file_extension": ".sce",
		   "help_links": [
			{
			 "text": "MetaKernel Magics",
			 "url": "https://github.com/calysto/metakernel/blob/master/metakernel/magics/README.md"
			}
		   ],
		   "mimetype": "text/x-octave",
		   "name": "scilab",
		   "version": "0.7.1"
		  }
		 },
		 "nbformat": 4,
		 "nbformat_minor": 0
}
