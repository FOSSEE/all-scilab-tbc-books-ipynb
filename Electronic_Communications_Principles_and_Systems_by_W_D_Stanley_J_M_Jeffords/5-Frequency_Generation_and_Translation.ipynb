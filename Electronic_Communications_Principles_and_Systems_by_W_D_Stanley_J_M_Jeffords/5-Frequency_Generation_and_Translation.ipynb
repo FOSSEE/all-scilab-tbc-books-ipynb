{
"cells": [
 {
		   "cell_type": "markdown",
	   "metadata": {},
	   "source": [
       "# Chapter 5: Frequency Generation and Translation"
	   ]
	},
{
		   "cell_type": "markdown",
		   "metadata": {},
		   "source": [
			"## Example 5.10: Reciever.sce"
		   ]
		  },
  {
"cell_type": "code",
	   "execution_count": null,
	   "metadata": {
	    "collapsed": true
	   },
	   "outputs": [],
"source": [
"clc;\n",
"//page no 167\n",
"//prob no. 5.10\n",
"//All frequencies in MHz\n",
"fc=40;\n",
"fIF=5\n",
"fLO=fc+fIF;\n",
"disp(fLO,'(a)  The LO frequency is ');\n",
"fImage=fLO+fIF;\n",
"disp(fImage,'(b)  The image frequency is ');"
   ]
   }
,
{
		   "cell_type": "markdown",
		   "metadata": {},
		   "source": [
			"## Example 5.11: Reciever.sce"
		   ]
		  },
  {
"cell_type": "code",
	   "execution_count": null,
	   "metadata": {
	    "collapsed": true
	   },
	   "outputs": [],
"source": [
"clc;\n",
"//page no 167\n",
"//prob no. 5.11\n",
"//All frequencies in MHz\n",
"fc=40;\n",
"fIF=5\n",
"fLO=fc-fIF;\n",
"disp(fLO,'(a)  The LO frequency is ');\n",
"fImage=fLO-fIF;\n",
"disp(fImage,'(b)  The image frequency is ');"
   ]
   }
,
{
		   "cell_type": "markdown",
		   "metadata": {},
		   "source": [
			"## Example 5.12: Commercial_FM_reciever.sce"
		   ]
		  },
  {
"cell_type": "code",
	   "execution_count": null,
	   "metadata": {
	    "collapsed": true
	   },
	   "outputs": [],
"source": [
"clc;\n",
"//page no 167\n",
"//prob no. 5.12\n",
"//All frequencies in Hz\n",
"B=200*10^3; //The bandwidth allocated by FCC (in Hz)\n",
"fl=88*10^6;fh=108*10^6;  //FM broadcast band low and high end freq\n",
"Q=fl/B;\n",
"disp(Q,'(a)  At the low end of FM band ,Q required is');\n",
"Q=fh/B;\n",
"disp(Q,'    At the high end of FM band ,Q required is');\n",
"fIF=10.7*10^6;// IF frequwncy (in Hz)\n",
"Q=fIF/B;\n",
"disp(Q,'(b)  At the IF frequency ,Q required is ');\n",
"disp('(c)   Signal freq = 88 to 108 MHz')\n",
"disp('     LO freq = 98.7 to 118.7 MHz')\n",
"disp('     Image freq = 109.4 to 129.4MHz')\n",
"disp('(d)   Signal freq = 88 to 108 MHz')\n",
"disp('     LO freq = 77.3 to 97.3 MHz')\n",
"disp('     Image freq = 66.6 to 86.6MHz')"
   ]
   }
,
{
		   "cell_type": "markdown",
		   "metadata": {},
		   "source": [
			"## Example 5.1: Oscillator_circuits.sce"
		   ]
		  },
  {
"cell_type": "code",
	   "execution_count": null,
	   "metadata": {
	    "collapsed": true
	   },
	   "outputs": [],
"source": [
"clc;\n",
"//page no 147\n",
"//prob no. 5.1\n",
"// refer fig 5.7\n",
"//The capacitance in pF\n",
"C1=200;\n",
"C2=2400;\n",
"C3=8;\n",
"t=1/C1+1/C2+1/C3; //temperary variable\n",
"Ceq=1/t;//pF\n",
"Ceq=Ceq*10^-12;//In Farad\n",
"L=2*10^-6;//In H\n",
"f0=1/(2*%pi*sqrt(L*Ceq))*10^-6; // IN MHz\n",
"disp('MHz',f0,'(a)  The oscillation frequency is');\n",
"f0=1/(2*%pi*sqrt(L*C3*10^-12))*10^-6; // IN MHz\n",
"disp('MHz',f0,'(b)  Assuming Ceq~C3 , the oscillation frequency is');\n",
"B=-C1/C2;  //based on eq 5.3\n",
"disp(B,'(c) The feedback fraction is ');\n",
"A=1/B;\n",
"disp(A,'The gain is');"
   ]
   }
,
{
		   "cell_type": "markdown",
		   "metadata": {},
		   "source": [
			"## Example 5.2: Crystal_controlled_portable_transmitter.sce"
		   ]
		  },
  {
"cell_type": "code",
	   "execution_count": null,
	   "metadata": {
	    "collapsed": true
	   },
	   "outputs": [],
"source": [
"clc;\n",
"//page no 148\n",
"//prob no. 5.2\n",
"function [f]=frequency(f0,k,T,T0)\n",
"    f=f0+k*f0*(T-T0);\n",
"endfunction;\n",
"k=40*10^-6;\n",
"f=148;\n",
"fmax=frequency(f,k,32,20);\n",
"fmin=frequency(f,k,-8,20);\n",
"disp('Mhz',fmax,'The maximum possible frequency , fmax= ');\n",
"disp('Mhz',fmin,'The maximum possible frequency , fmin= ');"
   ]
   }
,
{
		   "cell_type": "markdown",
		   "metadata": {},
		   "source": [
			"## Example 5.3: PLL_loop.sce"
		   ]
		  },
  {
"cell_type": "code",
	   "execution_count": null,
	   "metadata": {
	    "collapsed": true
	   },
	   "outputs": [],
"source": [
"clc;\n",
"//page no 150\n",
"//prob no. 5.3\n",
"//Refer figure 5-10\n",
"N=5;\n",
"M=8;\n",
"fi=4;// in MHz\n",
"f0=M/N*fi;\n",
"disp('MHz',f0,'(a)  The output frequency is f0=');\n",
"f1=fi/N;\n",
"disp('MHz',f1,'(b)  The frequency f1 is');\n",
"f2=f0/M;\n",
"disp('MHz',f2,' The frequency f2 is ');\n",
"//The two frequencies are same as required"
   ]
   }
,
{
		   "cell_type": "markdown",
		   "metadata": {},
		   "source": [
			"## Example 5.5: mixer.sce"
		   ]
		  },
  {
"cell_type": "code",
	   "execution_count": null,
	   "metadata": {
	    "collapsed": true
	   },
	   "outputs": [],
"source": [
"clc;\n",
"clear all;\n",
"//page no 152\n",
"//prob no. 5.5\n",
"\n",
"//for input spectrum\n",
"f=[-20:.001:20];   //x axis\n",
"V=[1 zeros(-20+.001:.001:20-.001) 1];      //y axis\n",
"clf;\n",
"subplot(211);\n",
"plot2d(f,V,[5],rect=[-130,0,130,2])\n",
"a=gca(); // Handle on axes entity\n",
"a.x_location = 'origin'; \n",
"a.y_location = 'origin';\n",
"xtitle('Input Spectrum','f,kHz','');\n",
"xgrid\n",
"\n",
"//for output spectrum\n",
"f=[-120:.01:120];      //x axis\n",
"V=[1 zeros(-120+.01:.01:-80-.01) 1 zeros(-80+.01:0.01:80-0.01) 1 zeros(80+.01:.01:120-.01) 1]\n",
"subplot(212);\n",
"plot2d(f,V,[5],rect=[-130,0,130,2])\n",
"a=gca(); // Handle on axes entity\n",
"a.x_location = 'origin'; \n",
"a.y_location = 'origin';\n",
"xtitle('Output Spectrum','f,kHz','');\n",
"xgrid"
   ]
   }
,
{
		   "cell_type": "markdown",
		   "metadata": {},
		   "source": [
			"## Example 5.6: Frequency_conversion.sce"
		   ]
		  },
  {
"cell_type": "code",
	   "execution_count": null,
	   "metadata": {
	    "collapsed": true
	   },
	   "outputs": [],
"source": [
"clc;\n",
"clear all;\n",
"//page no 157\n",
"//prob no. 5.6\n",
"\n",
"fLO=110;    //MHz\n",
"//for V2(f)\n",
"f=[0:.01:231+.01];   //x axis\n",
"function V=pulse()\n",
"    V=[]\n",
"    for i=1:.005:1.5\n",
"        V=[V i]\n",
"    end\n",
"endfunction\n",
"V2=[zeros(0:.01:120-fLO-.01) pulse() zeros(121-fLO+.01:.01:120+fLO-.01) pulse() 0];      //y axis\n",
"clf;\n",
"subplot(211);\n",
"plot2d(f,V2,[5],rect=[0,0,240,2])\n",
"xtitle('Spectral diagram','f,MHz','V2(f)');\n",
"\n",
"//for V3(f)\n",
"f=[0:.01:11+.01];   //x axis\n",
"V3=[zeros(0:.01:120-fLO-.01) pulse() 0];      //y axis\n",
"subplot(212);\n",
"plot2d(f,V3,[5],rect=[0,0,20,2])\n",
"xtitle('Spectral Diagram','f,MHz','V3(f)');"
   ]
   }
,
{
		   "cell_type": "markdown",
		   "metadata": {},
		   "source": [
			"## Example 5.7: Frequency_conversion.sce"
		   ]
		  },
  {
"cell_type": "code",
	   "execution_count": null,
	   "metadata": {
	    "collapsed": true
	   },
	   "outputs": [],
"source": [
"clc;\n",
"clear all;\n",
"//page no 158\n",
"//prob no. 5.7\n",
"\n",
"fLO=40;    //MHz\n",
"//function for ascending pulse\n",
"function V=pulse_a()\n",
"    V=[]\n",
"    for i=1:.005:2\n",
"        V=[V i]\n",
"    end\n",
"endfunction\n",
"//function for descending pulse\n",
"function V=pulse_d()\n",
"    V=[]\n",
"    for i=2:-.005:1\n",
"        V=[V i]\n",
"    end\n",
"endfunction\n",
"\n",
"//for V2(f)\n",
"f=[0:.01:48+.01];   //x axis\n",
"\n",
"V2=[zeros(0:.01:-8+fLO-.01) pulse_d() zeros(-6+fLO+.01:.01:6+fLO-.01) pulse_a() 0];      //y axis\n",
"clf;\n",
"subplot(211);\n",
"plot2d(f,V2,[5],rect=[0,0,50,2])\n",
"xtitle('Spectral diagram','f,MHz','V2(f)');\n",
"\n",
"//for V3(f)\n",
"f=[0:.01:48+.01];   //x axis\n",
"\n",
"V3=[zeros(0:.01:6+fLO-.01) pulse_a() 0];      //y axis\n",
"subplot(212);\n",
"plot2d(f,V3,[5],rect=[0,0,50,2])\n",
"xtitle('Spectral Diagram','f,MHz','V3(f)');"
   ]
   }
,
{
		   "cell_type": "markdown",
		   "metadata": {},
		   "source": [
			"## Example 5.8: Frequency_conversion.sce"
		   ]
		  },
  {
"cell_type": "code",
	   "execution_count": null,
	   "metadata": {
	    "collapsed": true
	   },
	   "outputs": [],
"source": [
"clc;\n",
"clear all;\n",
"//page no 159\n",
"//prob no. 5.8\n",
"\n",
"//function for ascending pulse\n",
"function V=pulse_a()\n",
"    V=[]\n",
"    for i=1:.005:1.5\n",
"        V=[V i]\n",
"    end\n",
"endfunction\n",
"//function for descending pulse\n",
"function V=pulse_d()\n",
"    V=[]\n",
"    for i=1.5:-.005:1\n",
"        V=[V i]\n",
"    end\n",
"endfunction\n",
"fLO=200-10;\n",
"\n",
"//for fLO=190 MHz\n",
"f=[0:.01:10.5+.01];   //x axis\n",
"\n",
"V=[zeros(0:.01:199.5-fLO-.01) pulse_a() 0];      //y axis\n",
"clf;\n",
"subplot(211);\n",
"plot2d(f,V,[5],rect=[0,0,12,2])\n",
"xtitle('Spectral diagram:for fLO=190','f,MHz','V(f)');\n",
"\n",
"//for fLO=210\n",
"fLO=200+10;    //MHz\n",
"f=[0:.01:10.5+.01];   //x axis\n",
"\n",
"V=[zeros(0:.01:-200.5+fLO-.01) pulse_d() 0];      //y axis\n",
"subplot(212);\n",
"plot2d(f,V,[5],rect=[0,0,12,2])\n",
"xtitle('Spectral Diagram:for fLO=210','f,MHz','V(f)');"
   ]
   }
,
{
		   "cell_type": "markdown",
		   "metadata": {},
		   "source": [
			"## Example 5.9: Double_conversion_system.sce"
		   ]
		  },
  {
"cell_type": "code",
	   "execution_count": null,
	   "metadata": {
	    "collapsed": true
	   },
	   "outputs": [],
"source": [
"clc;\n",
"clear all;\n",
"//page no 160\n",
"//prob no. 5.9\n",
"\n",
"//function for ascending pulse \n",
"function V=pulse_a()\n",
"    V=[]\n",
"    for i=1:.005:1.5\n",
"        V=[V i]\n",
"    end\n",
"endfunction\n",
"//function for descending pulse\n",
"function V=pulse_d()\n",
"    V=[]\n",
"    for i=1.5:-.005:1\n",
"        V=[V i]\n",
"    end\n",
"endfunction\n",
"//plots of page 161\n",
"//spectrum at point 1\n",
"f1=[17.5-.01:.01:20.5+.01];   //x axis\n",
"\n",
"V1=[0 pulse_d() zeros(18.5+.01:.01:19.5-.01) pulse_a() 0];      //y axis\n",
"clf;\n",
"subplot(221);\n",
"plot2d(f1,V1,[5],rect=[17,0,21,2])\n",
"xtitle('Spectrum at Point 1','f,MHz','');\n",
"\n",
"//spectrum at point 2\n",
"f2=[17.5-.01:.01:20.5+.01];   //x axis\n",
"\n",
"V2=[0 zeros(17.5:.01:19.5-.01) pulse_a() 0];      //y axis\n",
"subplot(222);\n",
"plot2d(f2,V2,[5],rect=[17,0,21,2])\n",
"xtitle('Spectrum at Point 2','f,MHz','');\n",
"\n",
"//spectrum at point 3\n",
"f3=[359.5-.01:.01:400.5+.01];   //x axis\n",
"\n",
"V3=[0 pulse_d() zeros(360.5+.01:.01:399.5-.01) pulse_a() 0];      //y axis\n",
"subplot(223);\n",
"plot2d(f3,V3,[5],rect=[359,0,401,2])\n",
"xtitle('Spectrum at Point 3','f,MHz','');\n",
"\n",
"//spectrum at point 4\n",
"f4=[359.5-.01:.01:400.5+.01];   //x axis\n",
"\n",
"V4=[0 zeros(359.5:.01:399.5-.01) pulse_a() 0];      //y axis\n",
"subplot(224);\n",
"plot2d(f4,V4,[5],rect=[359,0,401,2])\n",
"xtitle('Spectrum at Point 4','f,MHz','');"
   ]
   }
],
"metadata": {
		  "kernelspec": {
		   "display_name": "Scilab",
		   "language": "scilab",
		   "name": "scilab"
		  },
		  "language_info": {
		   "file_extension": ".sce",
		   "help_links": [
			{
			 "text": "MetaKernel Magics",
			 "url": "https://github.com/calysto/metakernel/blob/master/metakernel/magics/README.md"
			}
		   ],
		   "mimetype": "text/x-octave",
		   "name": "scilab",
		   "version": "0.7.1"
		  }
		 },
		 "nbformat": 4,
		 "nbformat_minor": 0
}
