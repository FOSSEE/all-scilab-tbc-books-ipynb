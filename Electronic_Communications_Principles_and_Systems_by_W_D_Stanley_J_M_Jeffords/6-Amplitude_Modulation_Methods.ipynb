{
"cells": [
 {
		   "cell_type": "markdown",
	   "metadata": {},
	   "source": [
       "# Chapter 6: Amplitude Modulation Methods"
	   ]
	},
{
		   "cell_type": "markdown",
		   "metadata": {},
		   "source": [
			"## Example 6.10: Modulation_Factor.sce"
		   ]
		  },
  {
"cell_type": "code",
	   "execution_count": null,
	   "metadata": {
	    "collapsed": true
	   },
	   "outputs": [],
"source": [
"clc;\n",
"close();\n",
"//page no 201\n",
"//prob no. 6.10\n",
"//All voltage in V\n",
"Ratio=.5/2;  //  Ratio=Vmin/Vmax\n",
"m=(1-Ratio)/(1+Ratio);   //modulation factor\n",
"disp(m,'The modulation factor is ');\n",
"disp(m*100,'The %age modulation is ');"
   ]
   }
,
{
		   "cell_type": "markdown",
		   "metadata": {},
		   "source": [
			"## Example 6.11: Determine_Amplitude_of_sidebands.sce"
		   ]
		  },
  {
"cell_type": "code",
	   "execution_count": null,
	   "metadata": {
	    "collapsed": true
	   },
	   "outputs": [],
"source": [
"clc;\n",
"close();\n",
"//page no 201\n",
"//prob no. 6.11\n",
"//All voltage in V\n",
"function {As]=sideband_amplitude(m,A)\n",
"    As=m*A/2;  //As:sideband amplitude\n",
"               //m:modulation factor\n",
"               //A:carrier amplitude\n",
"endfunction\n",
"A=10;\n",
"m=0;\n",
"disp(sideband_amplitude(m,A),'(a) For m=0, sideband amplitude is ');\n",
"m=0.5;\n",
"disp(sideband_amplitude(m,A),'(b) For m=0.5, sideband amplitude is ');\n",
"m=1;\n",
"disp(sideband_amplitude(m,A),'(c) For m=1, sideband amplitude is ');"
   ]
   }
,
{
		   "cell_type": "markdown",
		   "metadata": {},
		   "source": [
			"## Example 6.12: Envelop_detector.sce"
		   ]
		  },
  {
"cell_type": "code",
	   "execution_count": null,
	   "metadata": {
	    "collapsed": true
	   },
	   "outputs": [],
"source": [
"clc;\n",
"close();\n",
"//page no 203\n",
"//prob no. 6.12\n",
"fc=455;  //in kHz\n",
"Tc=(1/fc)*10^3;  //in micro sec\n",
"disp('micro s',Tc,'(a)  The carrier period is');\n",
"tau=10*Tc;  //in micro sec\n",
"disp('micro s',tau,'The time constant is selected 10Tc:');\n",
"C=0.01*10^-6;  //in F\n",
"R=(tau*10^-6)/C;  //ohm\n",
"disp('ohm',R,'R is determined');\n",
"W=5;  //in kHz\n",
"Tm=1/W*10^3;  //micro sec\n",
"disp('micro sec',Tm,'The shortest modulation period Tm=');"
   ]
   }
,
{
		   "cell_type": "markdown",
		   "metadata": {},
		   "source": [
			"## Example 6.14: Determine_power.sce"
		   ]
		  },
  {
"cell_type": "code",
	   "execution_count": null,
	   "metadata": {
	    "collapsed": true
	   },
	   "outputs": [],
"source": [
"clc;\n",
"close();\n",
"//page no 208\n",
"//prob no. 6.14\n",
"A=200;  // in Volts\n",
"R=50;   //in ohm\n",
"P=A^2/(4*R);  //in W\n",
"disp('W',P,'(a)   The sverage power is ');\n",
"Pp=A^2/(2*R);  //in W\n",
"disp('W',Pp,'(b)   The peak envelop power is ');"
   ]
   }
,
{
		   "cell_type": "markdown",
		   "metadata": {},
		   "source": [
			"## Example 6.15: Antenna_rms_voltage_and_current.sce"
		   ]
		  },
  {
"cell_type": "code",
	   "execution_count": null,
	   "metadata": {
	    "collapsed": true
	   },
	   "outputs": [],
"source": [
"clc;\n",
"close();\n",
"//page no 208\n",
"//prob no. 6.15\n",
"P=1000;  //in watts\n",
"R=50;  //in ohm\n",
"Vrms=sqrt(R*P);  //in V\n",
"Irms=sqrt(P/R);  //in A\n",
"disp('V',Vrms,'The unmodulated rms carrier voltage is ');\n",
"disp('A',Irms,'The unmodulated rms carrier current is ');"
   ]
   }
,
{
		   "cell_type": "markdown",
		   "metadata": {},
		   "source": [
			"## Example 6.16: Determine_power.sce"
		   ]
		  },
  {
"cell_type": "code",
	   "execution_count": null,
	   "metadata": {
	    "collapsed": true
	   },
	   "outputs": [],
"source": [
"clc;\n",
"close();\n",
"//page no 209\n",
"//prob no. 6.16\n",
"//All power in Watts\n",
"global('Pc')\n",
"Pc=1000;\n",
"funcprot(0)   //to avoid function warnings\n",
"function [P]=avg_P(m)           //function for total average power\n",
"    P=(1+(m^2/2))*Pc;\n",
"endfunction\n",
"function [Pp]=peak_P(m)          //function for peak power\n",
"    Pp=(1+m)^2*Pc;\n",
"endfunction\n",
"function [Psb]=SB_P(m)          //function for SB power\n",
"    Psb=avg_P(m)-Pc;\n",
"endfunction\n",
"function display(m)          //function for displaying table\n",
"    table=[m*100 avg_P(m) peak_P(m) SB_P(m)];\n",
"    disp(table);\n",
"endfunction\n",
"\n",
"disp('Summary for the result is displayed in the table ');\n",
"disp('Mod^n_%  Avg_Pwr  Peak_Pwr SB_Pwe');\n",
"m=0;   //for m=0\n",
"display(m);\n",
"m=0.5;   //for m=0.5\n",
"display(m);\n",
"m=1;      //for m=1\n",
"display(m);"
   ]
   }
,
{
		   "cell_type": "markdown",
		   "metadata": {},
		   "source": [
			"## Example 6.17: rms_voltage_and_current.sce"
		   ]
		  },
  {
"cell_type": "code",
	   "execution_count": null,
	   "metadata": {
	    "collapsed": true
	   },
	   "outputs": [],
"source": [
"clc;\n",
"close();\n",
"//page no 210\n",
"//prob no. 6.17\n",
"//All power in Watts\n",
"//All voltage in volts\n",
"//All current in ampere\n",
"R=50;   \n",
"m=0.5;\n",
"P=1125;  //for m=0.5\n",
"Vrms=sqrt(R*P);\n",
"Irms=sqrt(P/R);\n",
"disp('A',Irms,'V',Vrms,'(a)  For m=0.5, Vrms and Irms are:');\n",
"m=1;\n",
"P=1500;  //For m=1\n",
"Vrms=sqrt(R*P);\n",
"Irms=sqrt(P/R);\n",
"disp('A',Irms,'V',Vrms,'(b)  For m=1, Vrms and Irms are:');"
   ]
   }
,
{
		   "cell_type": "markdown",
		   "metadata": {},
		   "source": [
			"## Example 6.1: Transmission_Bandwidth.sce"
		   ]
		  },
  {
"cell_type": "code",
	   "execution_count": null,
	   "metadata": {
	    "collapsed": true
	   },
	   "outputs": [],
"source": [
"clc;\n",
"//page no 186\n",
"//prob no. 6.1\n",
"//All frequencies in kHz\n",
"fc=1*10^3; //in kHz\n",
"W=15;  \n",
"DSBl=fc-W;  //lowest freq of DSB signal\n",
"DSBh=fc+W;  //highest freq of DSB signal\n",
"disp(DSBh,'to',DSBl,'(a)  The range of freq is from ');\n",
"BT=2*W;\n",
"disp(BT,'(b)  Transmission bandwidth is ');"
   ]
   }
,
{
		   "cell_type": "markdown",
		   "metadata": {},
		   "source": [
			"## Example 6.2: Transmission_Bandwidth.sce"
		   ]
		  },
  {
"cell_type": "code",
	   "execution_count": null,
	   "metadata": {
	    "collapsed": true
	   },
	   "outputs": [],
"source": [
"clc;\n",
"close();\n",
"clear();\n",
"//page no 186\n",
"//prob no. 6.2\n",
"//All frequencies in kHz\n",
"fi=250;  //input freq\n",
"LSB=[fi-1;fi-3;fi-5];\n",
"USB=[fi+1;fi+3;fi+5];\n",
"disp(LSB,'and LSB:',USB,'(a)  The upper sideband and lower sideband ,USB:' );\n",
"BT=2*5;\n",
"disp(BT,'The net transmission bandwidth is ');\n",
""
   ]
   }
,
{
		   "cell_type": "markdown",
		   "metadata": {},
		   "source": [
			"## Example 6.3: SSB.sce"
		   ]
		  },
  {
"cell_type": "code",
	   "execution_count": null,
	   "metadata": {
	    "collapsed": true
	   },
	   "outputs": [],
"source": [
"clc;\n",
"//page no 190\n",
"//prob no. 6.3\n",
"//All frequencies in kHz\n",
"fc=1*10^3; //in kHz\n",
"W=15;  \n",
"LSBl=fc-W;  //lowest freq of LSB\n",
"USBh=fc+W;  //highest freq of USB\n",
"disp(fc,'to',LSBl,'(a)  The range of freq(in kHz) for LSB is from ');\n",
"disp(USBh,'to',fc,'(b)  The range of freq(in kHz) for USB is from ');\n",
"BT=W;\n",
"disp(BT,'(b)  Transmission bandwidth is ');"
   ]
   }
,
{
		   "cell_type": "markdown",
		   "metadata": {},
		   "source": [
			"## Example 6.4: SSB.sce"
		   ]
		  },
  {
"cell_type": "code",
	   "execution_count": null,
	   "metadata": {
	    "collapsed": true
	   },
	   "outputs": [],
"source": [
"clc;\n",
"//page no 190\n",
"//prob no. 6.4\n",
"//All frequencies in kHz\n",
"fi=250;  //input freq\n",
"LSB=[fi-1 fi-3 fi-5];\n",
"USB=[fi+1 fi+3 fi+5];\n",
"disp(LSB,'(a)  For LSB transmission freq are' );\n",
"disp(USB,'(b)  For USB transmission freq are' );\n",
"W=5;\n",
"BT=W;\n",
"disp(BT,'(c)  The transmission bandwidth is ');\n",
""
   ]
   }
,
{
		   "cell_type": "markdown",
		   "metadata": {},
		   "source": [
			"## Example 6.5: Product_Detectio_of_DSB_and_SSB.sce"
		   ]
		  },
  {
"cell_type": "code",
	   "execution_count": null,
	   "metadata": {
	    "collapsed": true
	   },
	   "outputs": [],
"source": [
"clc;\n",
"//page no 195\n",
"//prob no. 6.5\n",
"//All frequencies in kHz\n",
"//refer Ex 6.4\n",
"fi=250;  //input freq\n",
"LSB=[fi-1 fi-3 fi-5];  //from Ex 6.4\n",
"//\n",
"fc=250;  //carrier freq\n",
"f0sum=fc+LSB;\n",
"f0diff=fc-LSB;\n",
"disp(f0sum,f0diff,'(a)  The output frequencies (in kHz) are ');\n",
"disp(f0diff,'(b)  At low pass filter,the actual frequencies (in kHz) are ');"
   ]
   }
,
{
		   "cell_type": "markdown",
		   "metadata": {},
		   "source": [
			"## Example 6.6: Product_Detectio.sce"
		   ]
		  },
  {
"cell_type": "code",
	   "execution_count": null,
	   "metadata": {
	    "collapsed": true
	   },
	   "outputs": [],
"source": [
"clc;\n",
"//page no 195\n",
"//prob no. 6.6\n",
"//All frequencies in kHz\n",
"fi=250;  //input freq\n",
"USB=[fi+1 fi+3 fi+5]; //from Ex 6.4\n",
"//\n",
"fc=250;  //carrier freq\n",
"f0sum=fc+USB;\n",
"f0diff=USB-fc;\n",
"disp(f0sum,f0diff,'(a)  The output frequencies (in kHz) are ');\n",
"disp(f0diff,'(b)  At low pass filter,the actual frequencies (in kHz) are ');\n",
""
   ]
   }
,
{
		   "cell_type": "markdown",
		   "metadata": {},
		   "source": [
			"## Example 6.7: Product_detection_of_DSB_and_SSB.sce"
		   ]
		  },
  {
"cell_type": "code",
	   "execution_count": null,
	   "metadata": {
	    "collapsed": true
	   },
	   "outputs": [],
"source": [
"clc;\n",
"//page no 195\n",
"//prob no. 6.7\n",
"//All frequencies in kHz\n",
"//refer Ex 6.4\n",
"fi=250;  //input freq\n",
"LSB=[fi-1 fi-3 fi-5];  //from Ex 6.7\n",
"//\n",
"fc=250.1;  //carrier freq\n",
"f0sum=fc+LSB;\n",
"f0diff=fc-LSB;\n",
"disp(f0sum,f0diff,'(a)  The output frequencies (in kHz) are ');\n",
"disp(f0diff,'(b)  At low pass filter,the frequencies (in kHz) are ');"
   ]
   }
,
{
		   "cell_type": "markdown",
		   "metadata": {},
		   "source": [
			"## Example 6.8: Envelop_Detection_of_conventional_FM.sce"
		   ]
		  },
  {
"cell_type": "code",
	   "execution_count": null,
	   "metadata": {
	    "collapsed": true
	   },
	   "outputs": [],
"source": [
"clc;\n",
"close();\n",
"//page no 200\n",
"//prob no. 6.8\n",
"//All frequencies in kHz\n",
"fc=250;  //carrier freq\n",
"LSB=[fc-1 fc-3 fc-5];\n",
"USB=[fc+1 fc+3 fc+5];\n",
"disp(fc,'carrier:',USB,'USB:',LSB,'(a)  The spectrum contains following freq.LSB:' );\n",
"W=5;\n",
"BT=2*W;\n",
"disp(BT,'The transmission bandwidth is ');"
   ]
   }
,
{
		   "cell_type": "markdown",
		   "metadata": {},
		   "source": [
			"## Example 6.9: Envelop_detection_of_conventionall_FM.sce"
		   ]
		  },
  {
"cell_type": "code",
	   "execution_count": null,
	   "metadata": {
	    "collapsed": true
	   },
	   "outputs": [],
"source": [
"clc;\n",
"close();\n",
"//page no 200\n",
"//prob no. 6.9\n",
"//All voltage in V\n",
"m=0.6;   //modulation factor\n",
"A=100;   //peak carrier level (in V)\n",
"Vmax=A*(1+m);\n",
"Vmin=A*(1-m);\n",
"disp(Vmin,'Vmin:',Vmax,'Vmax:','The maximum and minimum values of positive envelope is')"
   ]
   }
],
"metadata": {
		  "kernelspec": {
		   "display_name": "Scilab",
		   "language": "scilab",
		   "name": "scilab"
		  },
		  "language_info": {
		   "file_extension": ".sce",
		   "help_links": [
			{
			 "text": "MetaKernel Magics",
			 "url": "https://github.com/calysto/metakernel/blob/master/metakernel/magics/README.md"
			}
		   ],
		   "mimetype": "text/x-octave",
		   "name": "scilab",
		   "version": "0.7.1"
		  }
		 },
		 "nbformat": 4,
		 "nbformat_minor": 0
}
