{
"cells": [
 {
		   "cell_type": "markdown",
	   "metadata": {},
	   "source": [
       "# Chapter 17: Satellite communication"
	   ]
	},
{
		   "cell_type": "markdown",
		   "metadata": {},
		   "source": [
			"## Example 17.1: Satellite.sce"
		   ]
		  },
  {
"cell_type": "code",
	   "execution_count": null,
	   "metadata": {
	    "collapsed": true
	   },
	   "outputs": [],
"source": [
"clc;\n",
"close();\n",
"clear();\n",
"//page no 547\n",
"//prob no. 17.1\n",
"H=10^6;    //meter\n",
"v=20*10^6/sqrt(H+6.4*10^6);   //m/s\n",
"mprintf('(a)velocity , v=%i m/s\n',v);\n",
"R=6.4*10^6;    //data rate in bits per second\n",
"C=2*%pi*(H+R);    //circumference in m\n",
"mprintf(' (b)circumference , C=%i m\n',C);    //raunded value of C shown in book solution\n",
"T=C/v;\n",
"mprintf(' (c)The period is , T=%.2f seconds or %.2f minutes',T,T/60);"
   ]
   }
,
{
		   "cell_type": "markdown",
		   "metadata": {},
		   "source": [
			"## Example 17.2: Declination_offset_angle.sce"
		   ]
		  },
  {
"cell_type": "code",
	   "execution_count": null,
	   "metadata": {
	    "collapsed": true
	   },
	   "outputs": [],
"source": [
"clc;\n",
"close();\n",
"clear();\n",
"//page no 548\n",
"//prob no. 17.2\n",
"L=37;   //latitude in degree\n",
"R=6400;  H=36000;  //from the text\n",
"del=atan(R*sin(L*%pi/180)/(H+R*(1-cos(L*%pi/180))))   //Declination angle\n",
"mprintf('The ange is %.2f degree\n',del*180/%pi);"
   ]
   }
,
{
		   "cell_type": "markdown",
		   "metadata": {},
		   "source": [
			"## Example 17.3: Satellite_transmitter.sce"
		   ]
		  },
  {
"cell_type": "code",
	   "execution_count": null,
	   "metadata": {
	    "collapsed": true
	   },
	   "outputs": [],
"source": [
"clc;\n",
"close();\n",
"clear();\n",
"//page no 552\n",
"//prob no. 17.3\n",
"c=3*10^8;   //speed of light in m/s\n",
"f=3.7*10^9;   //Hz\n",
"lembda=c/f;   //m\n",
"mprintf('The wave length is %.4f cm \n',lembda*100)\n",
"theta_3dB=8;    //degree\n",
"D=70*lembda/theta_3dB     //m\n",
"mprintf('The diameter is, D= %.4f m \n',D);\n",
"eta_1=.6;     //illumination efficiency \n",
"G=eta_1*(%pi*D/lembda)^2;    //gain calculation\n",
"mprintf('The Gain is G= %.2f \n',G)\n",
"G_dB=10*log10(G);   //dB gain\n",
"mprintf('The Gain in dB is G(dB)= %.3f dB \n',G_dB)"
   ]
   }
,
{
		   "cell_type": "markdown",
		   "metadata": {},
		   "source": [
			"## Example 17.4: Gain_required.sce"
		   ]
		  },
  {
"cell_type": "code",
	   "execution_count": null,
	   "metadata": {
	    "collapsed": true
	   },
	   "outputs": [],
"source": [
"clc;\n",
"close();\n",
"clear();\n",
"//page no 553\n",
"//prob no. 17.4\n",
"theta_3dB=1.6;    // beamwidth in degree\n",
"eta_1=.6;     //illumination efficiency \n",
"G=eta_1*48000/(theta_3dB)^2;    //gain calculation\n",
"mprintf('The Gain is G= %.0f \n',G)\n",
"G_dB=10*log10(G);   //dB gain\n",
"mprintf('The Gain in dB is G(dB)= %.1f dB \n',G_dB)"
   ]
   }
,
{
		   "cell_type": "markdown",
		   "metadata": {},
		   "source": [
			"## Example 17.5: Gain_required.sce"
		   ]
		  },
  {
"cell_type": "code",
	   "execution_count": null,
	   "metadata": {
	    "collapsed": true
	   },
	   "outputs": [],
"source": [
"clc;\n",
"close();\n",
"clear();\n",
"//page no 554\n",
"//prob no. 17.5\n",
"theta_3dB=.3;    // minimum practical beamwidth in degree\n",
"eta_1=.6;     //illumination efficiency \n",
"G=eta_1*48000/(theta_3dB)^2;    //gain calculation\n",
"mprintf('The Gain is G= %.0f \n',G)\n",
"G_dB=10*log10(G);   //dB gain\n",
"mprintf('The Gain in dB is G(dB)= %.1f dB \n',G_dB)"
   ]
   }
,
{
		   "cell_type": "markdown",
		   "metadata": {},
		   "source": [
			"## Example 17.6: Diameter_of_ground_station_uplink_antenna.sce"
		   ]
		  },
  {
"cell_type": "code",
	   "execution_count": null,
	   "metadata": {
	    "collapsed": true
	   },
	   "outputs": [],
"source": [
"clc;\n",
"close();\n",
"clear();\n",
"//page no 554\n",
"//prob no. 17.6\n",
"c=3*10^8;   //speed of light in m/s\n",
"f=5.925*10^9;   //Hz\n",
"lembda=c/f;   //m\n",
"mprintf('The wave length is %.3f cm \n',lembda*100)\n",
"theta_3dB=1.6;    // beamwidth degree\n",
"D=70*lembda/theta_3dB     //m\n",
"mprintf('The diameter is, D= %.3f m \n',D);"
   ]
   }
,
{
		   "cell_type": "markdown",
		   "metadata": {},
		   "source": [
			"## Example 17.7: Distance_from_earth_station.sce"
		   ]
		  },
  {
"cell_type": "code",
	   "execution_count": null,
	   "metadata": {
	    "collapsed": true
	   },
	   "outputs": [],
"source": [
"clc;\n",
"close();\n",
"clear();\n",
"//page no 556\n",
"//prob no. 17.7\n",
"l=127-70.2;     //Difference in longitude\n",
"L=40.5    //Latitude of New York\n",
"d_km=35.786*10^3*sqrt(1+0.42*(1-cos(L*%pi/180)*cos(l*%pi/180)));\n",
"mprintf('The distance is %.0f km \n',d_km)"
   ]
   }
,
{
		   "cell_type": "markdown",
		   "metadata": {},
		   "source": [
			"## Example 17.8: Determine_C_to_N_ratio.sce"
		   ]
		  },
  {
"cell_type": "code",
	   "execution_count": null,
	   "metadata": {
	    "collapsed": true
	   },
	   "outputs": [],
"source": [
"clc;\n",
"close();\n",
"clear();\n",
"//page no 556\n",
"//prob no. 17.8\n",
"PtdBW=20\n",
"GtdB=55\n",
"EIRP_dBW=PtdBW+GtdB;\n",
"mprintf('The EIRP for uplink earth station is %.0f dBW \n',EIRP_dBW)\n",
"l=91-70.2;     //Difference in longitude\n",
"L=40.5    //Latitude of New York\n",
"d_km=35.786*10^3*sqrt(1+0.42*(1-cos(L*%pi/180)*cos(l*%pi/180)));\n",
"mprintf('The distance is %.0f km \n',d_km)\n",
"\n",
"f=6.125      //Uplink frequency in GHz\n",
"alfa1_dB=20*log10(f)+20*log10(d_km)+92.44;    //Path loss\n",
"mprintf('The path loss is %.2f dB \n',alfa1_dB)\n",
"\n",
"FdB=3;    //noise figure in dB\n",
"F=10^(FdB/10)   //absolute noise figure   (exact value)\n",
"Te=(F-1)*290;   //Noise temperature\n",
"mprintf('The Noise temperature of satellite reciever is %.0f K \n',Te)\n",
"Ti=300;    //input noise temperature in K\n",
"Tsys=Ti+Te\n",
"mprintf('The system temperature of satellite reciever is %.0f K \n',Tsys)\n",
"G_dB=27      //satellite reciever antwnna gain\n",
"GT=G_dB-10*log10(Tsys);     //G/T ratio in dB\n",
"mprintf('The G/T ratio for satellite reciever is %.2f dB/K \n',GT)\n",
"B=36*10^6  ;//   Bandwidth  in Hz\n",
"L_misc=1.6      //atmospheric loss\n",
"CN=EIRP_dBW-alfa1_dB+GT+228.6-10*log10(B)-L_misc;    //C/N in dB\n",
"mprintf('The carrier power to noise ratio at the satellite reciever is %.2f dB \n',CN)\n",
"//  Value of F is rouded to 2 in the text"
   ]
   }
,
{
		   "cell_type": "markdown",
		   "metadata": {},
		   "source": [
			"## Example 17.9: Determine_C_to_N_ratio.sce"
		   ]
		  },
  {
"cell_type": "code",
	   "execution_count": null,
	   "metadata": {
	    "collapsed": true
	   },
	   "outputs": [],
"source": [
"clc;\n",
"close();\n",
"clear();\n",
"//page no 557\n",
"//prob no. 17.9\n",
"\n",
"EIRP_dBW=47.8;   //dBW\n",
"l=91-90;     //Difference in longitude\n",
"L=32    //Latitude of New York\n",
"d_km=35.786*10^3*sqrt(1+0.42*(1-cos(L*%pi/180)*cos(l*%pi/180)));\n",
"mprintf('The distance is %.0f km \n',d_km)\n",
"\n",
"f=3.9      //downlink frequency in GHz\n",
"alfa1_dB=20*log10(f)+20*log10(d_km)+92.44;    //Path loss\n",
"mprintf('The path loss is %.2f dB \n',alfa1_dB)\n",
"\n",
"F=1.778   //absolute noise figure \n",
"Te=(F-1)*290;   //Noise temperature\n",
"mprintf('The Noise temperature of satellite reciever is %.2f K \n',Te)\n",
"Ti=150;    //input noise temperature in K\n",
"Tsys=Ti+Te\n",
"mprintf('The system temperature of satellite reciever is %.2f K \n',Tsys)\n",
"G_dB=42      //satellite reciever antwnna gain\n",
"GT=G_dB-10*log10(Tsys);     //G/T ratio in dB\n",
"mprintf('The G/T ratio for satellite reciever is %.2f dB/K \n',GT)\n",
"B=36*10^6  ;//   Bandwidth  in Hz\n",
"L_misc=1      //atmospheric loss\n",
"CN=EIRP_dBW-alfa1_dB+GT+228.6-10*log10(B)-L_misc;    //C/N in dB\n",
"mprintf('The carrier power to noise ratio at the satellite reciever is %.1f dB \n',CN)"
   ]
   }
],
"metadata": {
		  "kernelspec": {
		   "display_name": "Scilab",
		   "language": "scilab",
		   "name": "scilab"
		  },
		  "language_info": {
		   "file_extension": ".sce",
		   "help_links": [
			{
			 "text": "MetaKernel Magics",
			 "url": "https://github.com/calysto/metakernel/blob/master/metakernel/magics/README.md"
			}
		   ],
		   "mimetype": "text/x-octave",
		   "name": "scilab",
		   "version": "0.7.1"
		  }
		 },
		 "nbformat": 4,
		 "nbformat_minor": 0
}
