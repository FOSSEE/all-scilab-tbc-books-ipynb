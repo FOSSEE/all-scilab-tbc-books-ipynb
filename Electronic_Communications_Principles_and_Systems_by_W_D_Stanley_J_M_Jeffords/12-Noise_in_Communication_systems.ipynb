{
"cells": [
 {
		   "cell_type": "markdown",
	   "metadata": {},
	   "source": [
       "# Chapter 12: Noise in Communication systems"
	   ]
	},
{
		   "cell_type": "markdown",
		   "metadata": {},
		   "source": [
			"## Example 12.10: low_noise_amplifier.sce"
		   ]
		  },
  {
"cell_type": "code",
	   "execution_count": null,
	   "metadata": {
	    "collapsed": true
	   },
	   "outputs": [],
"source": [
"clc;\n",
"close();\n",
"clear();\n",
"//page no 412\n",
"//prob no. 12.10\n",
"Te=50;   //K\n",
"T0=290;   //K\n",
"F=1+Te/T0;\n",
"mprintf('(a) Noise figure, F=%.3f\n',F);\n",
"Fdb=10*log10(F);\n",
"mprintf(' (b) Decibel value , Fdb=%.3f dB ',Fdb);"
   ]
   }
,
{
		   "cell_type": "markdown",
		   "metadata": {},
		   "source": [
			"## Example 12.11: effective_noise_temperature.sce"
		   ]
		  },
  {
"cell_type": "code",
	   "execution_count": null,
	   "metadata": {
	    "collapsed": true
	   },
	   "outputs": [],
"source": [
"clc;\n",
"close();\n",
"clear();\n",
"//page no 412\n",
"//prob no. 12.11\n",
"Fdb=5;\n",
"T0=290;  //K\n",
"F=10^(Fdb/10);\n",
"mprintf('Noise figure, F=%.3f\n',F);\n",
"Te=(F-1)*T0;\n",
"mprintf(' Noise Temperature , Te=%i K ',Te);"
   ]
   }
,
{
		   "cell_type": "markdown",
		   "metadata": {},
		   "source": [
			"## Example 12.12: RF_amplifier.sce"
		   ]
		  },
  {
"cell_type": "code",
	   "execution_count": null,
	   "metadata": {
	    "collapsed": true
	   },
	   "outputs": [],
"source": [
"clc;\n",
"close();\n",
"clear();\n",
"//page no 413\n",
"//prob no. 12.12\n",
"T0=290;  //K\n",
"Fdb=9;\n",
"F=10^(Fdb/10);\n",
"mprintf('Absolute Noise figure, F=%.3f=8(Approx)\n',F);\n",
"F=8;   //Approximate\n",
"Te=(F-1)*T0;\n",
"mprintf(' Noise Temperature , Te=%i K \n',Te);\n",
"Ti=T0;\n",
"k=1.38*10^-23;   //Boltzmann's Constant\n",
"B=2*10^6;  //Hz\n",
"Ni=k*Ti*B;  //W\n",
"mprintf(' (a) Input source Noise ratio , Ni=%i fW\n ',Ni*10^15);\n",
"Pi=8*10^-12;   //W\n",
"SNinput=Pi/Ni;\n",
"mprintf('(b) Input source signal to noise ratio S:Ninput=%.0f\n',SNinput);\n",
"mprintf('  Corresponding dB value S;Ninput(db)=%.0f dB\n',10*log10(SNinput));\n",
"Gdb=50;\n",
"G=10^(Gdb/10);\n",
"Po=G*Pi;  //W\n",
"mprintf('(c) The output signal power, Po=%i nW\n',Po*10^9);\n",
"Tsys=Ti+Te;\n",
"No=G*k*Tsys*B;  //W\n",
"mprintf('(d) output noise power No=%.2f nw\n',No*10^9);\n",
"SNoutput=Po/No;\n",
"mprintf('(e) Output signal to noise ratio S:Noutput=%.0f\n',SNoutput);\n",
"mprintf('  Corresponding dB value S;Noutput(db)=%.0f dB\n',10*log10(SNoutput));"
   ]
   }
,
{
		   "cell_type": "markdown",
		   "metadata": {},
		   "source": [
			"## Example 12.13: output_S_to_ratio.sce"
		   ]
		  },
  {
"cell_type": "code",
	   "execution_count": null,
	   "metadata": {
	    "collapsed": true
	   },
	   "outputs": [],
"source": [
"clc;\n",
"close();\n",
"clear();\n",
"//page no 414\n",
"//prob no. 12.13\n",
"//Data from ex-12\n",
"T0=290;  //K\n",
"Fdb=9;\n",
"F=10^(Fdb/10);\n",
"F=8;   //Approximate\n",
"Te=(F-1)*T0;\n",
"Ti=T0;\n",
"k=1.38*10^-23;   //Boltzmann's Constant\n",
"B=2*10^6;  //Hz\n",
"Ni=k*Ti*B;  //W\n",
"Pi=8*10^-12;   //W\n",
"SNinput=Pi/Ni;\n",
"SNinputdb=10*log10(SNinput);\n",
"//Ex13 calculation\n",
"SNoutputdB=SNinputdb-Fdb;\n",
"mprintf('  S:Noutput(db)=%.0f dB\n',SNoutputdB);"
   ]
   }
,
{
		   "cell_type": "markdown",
		   "metadata": {},
		   "source": [
			"## Example 12.14: Equivalent_noise_temperature.sce"
		   ]
		  },
  {
"cell_type": "code",
	   "execution_count": null,
	   "metadata": {
	    "collapsed": true
	   },
	   "outputs": [],
"source": [
"clc;\n",
"close();\n",
"clear();\n",
"//page no 418\n",
"//prob no. 12.14\n",
"//Absolute gains\n",
"G1=20;\n",
"G2=15;\n",
"G3=12;\n",
"//Temp in K\n",
"Te1=100;\n",
"Te2=200;\n",
"Te3=300;\n",
"Te=Te1+Te2/G1+Te3/G1/G2\n",
"\n",
"mprintf('Noise Temperature ,Te=%.0f K\n',Te);"
   ]
   }
,
{
		   "cell_type": "markdown",
		   "metadata": {},
		   "source": [
			"## Example 12.15: Net_noise_figure.sce"
		   ]
		  },
  {
"cell_type": "code",
	   "execution_count": null,
	   "metadata": {
	    "collapsed": true
	   },
	   "outputs": [],
"source": [
"clc;\n",
"close();\n",
"clear();\n",
"//page no 418\n",
"//prob no. 12.15\n",
"//Absolute gains\n",
"G1=20;\n",
"G2=15;\n",
"G3=12;\n",
"//Temp in K\n",
"Te1=100;\n",
"Te2=200;\n",
"Te3=300;\n",
"//Noise figures\n",
"F1=1+Te1/290;\n",
"F2=1+Te2/290;\n",
"F3=1+Te3/290;\n",
"F=F1+(F2-1)/G1+(F3-1)/G1/G2;\n",
"mprintf('Noise figure ,F=%.4f\n',F);\n",
"Te=(F-1)*290;\n",
"\n",
"mprintf('Noise Temperature ,Te=%.0f K\n',Te);"
   ]
   }
,
{
		   "cell_type": "markdown",
		   "metadata": {},
		   "source": [
			"## Example 12.16: Cascaded_system.sce"
		   ]
		  },
  {
"cell_type": "code",
	   "execution_count": null,
	   "metadata": {
	    "collapsed": true
	   },
	   "outputs": [],
"source": [
"clc;\n",
"close();\n",
"clear();\n",
"//page no 419\n",
"//prob no. 12.16\n",
"Ldb=6.02;  //db\n",
"L=10^(Ldb/10);\n",
"mprintf('Absloute loss ,L=%.0f\n',L);\n",
"Tp=290;  //K\n",
"//Noise temp  (K)\n",
"TeL=(L-1)*Tp;\n",
"Tepre=50;\n",
"Terec=200;\n",
"Gpre=10^(20/10);\n",
"Te=TeL+L*Tepre+L*Terec/Gpre;\n",
"mprintf('Noise Temperature ,Te=%.0f K\n',Te);\n",
"\n",
"//Noise figures\n",
"F=1+Te/290;\n",
"mprintf('Noise figure ,F=%.4f\n',F);\n",
"mprintf('Noise figure ,F(dB)=%.3f  dB\n',10*log10(F));\n",
""
   ]
   }
,
{
		   "cell_type": "markdown",
		   "metadata": {},
		   "source": [
			"## Example 12.17: Noise_temperature_and_noise_figure.sce"
		   ]
		  },
  {
"cell_type": "code",
	   "execution_count": null,
	   "metadata": {
	    "collapsed": true
	   },
	   "outputs": [],
"source": [
"clc;\n",
"close();\n",
"clear();\n",
"//page no 419\n",
"//prob no. 12.17\n",
"Ldb=6.02;  //db\n",
"L=10^(Ldb/10);\n",
"mprintf('Absloute loss ,L=%.0f\n',L);\n",
"Tp=290;  //K\n",
"//Noise temp  (K)\n",
"TeL=(L-1)*Tp;\n",
"Tepre=50;\n",
"Terec=200;\n",
"Gpre=10^(20/10);\n",
"Te=Tepre+TeL/Gpre+L*Terec/Gpre;\n",
"mprintf(' (a) Noise Temperature ,Te=%.1f K\n',Te);\n",
"\n",
"//Noise figures\n",
"F=1+Te/290;\n",
"mprintf(' (b) Noise figure ,F=%.2f\n',F);\n",
"mprintf('Noise figure ,F(dB)=%.3f  dB\n',10*log10(F));\n",
""
   ]
   }
,
{
		   "cell_type": "markdown",
		   "metadata": {},
		   "source": [
			"## Example 12.1: Mean_square_and_rms_values.sce"
		   ]
		  },
  {
"cell_type": "code",
	   "execution_count": null,
	   "metadata": {
	    "collapsed": true
	   },
	   "outputs": [],
"source": [
"clc;\n",
"close();\n",
"clear();\n",
"//page no 400\n",
"//prob no. 12.1\n",
"B=10^6;  //Hz\n",
"R=[1 100 10000] .*10^3  //ohm\n",
"Vrms=(16*10^-21*B .*R)^0.5;  //volts\n",
"mprintf(' R (K-ohm)   Vrms (micro-V)');\n",
"out=[R'.*10^-3 Vrms'.*10^6];\n",
"disp(out);"
   ]
   }
,
{
		   "cell_type": "markdown",
		   "metadata": {},
		   "source": [
			"## Example 12.2: rms_voltage.sce"
		   ]
		  },
  {
"cell_type": "code",
	   "execution_count": null,
	   "metadata": {
	    "collapsed": true
	   },
	   "outputs": [],
"source": [
"clc;\n",
"close();\n",
"clear();\n",
"//page no 401\n",
"//prob no. 12.2\n",
"B=10^6;  //Hz\n",
"R=10^7 ; //ohm\n",
"Vrms=(16*10^-21*B*R)^0.5;  //volts\n",
"G=5000;  //gain\n",
"vorms=Vrms*G;\n",
"mprintf('vorms=%.1f V',vorms);"
   ]
   }
,
{
		   "cell_type": "markdown",
		   "metadata": {},
		   "source": [
			"## Example 12.3: net_rms_voltage.sce"
		   ]
		  },
  {
"cell_type": "code",
	   "execution_count": null,
	   "metadata": {
	    "collapsed": true
	   },
	   "outputs": [],
"source": [
"clc;\n",
"close();\n",
"clear();\n",
"//page no 403\n",
"//prob no. 12.3\n",
"B=2*10^6;  //Hz\n",
"Req=6*10^6 ; //ohm\n",
"Vrms=(16*10^-21*B*Req)^0.5;  //volts\n",
"mprintf('vrms=%.1f micro-V',Vrms*10^6);"
   ]
   }
,
{
		   "cell_type": "markdown",
		   "metadata": {},
		   "source": [
			"## Example 12.4: Noise_power.sce"
		   ]
		  },
  {
"cell_type": "code",
	   "execution_count": null,
	   "metadata": {
	    "collapsed": true
	   },
	   "outputs": [],
"source": [
"clc;\n",
"close();\n",
"clear();\n",
"//page no 405\n",
"//prob no. 12.4\n",
"B=2*10^6;  //Hz\n",
"R=50 ; //ohm\n",
"kT0=4*10^-21;\n",
"\n",
"Nav=kT0*B;\n",
"mprintf('Noise power=%.0f fW',Nav*10^15);"
   ]
   }
,
{
		   "cell_type": "markdown",
		   "metadata": {},
		   "source": [
			"## Example 12.5: output_noise_power.sce"
		   ]
		  },
  {
"cell_type": "code",
	   "execution_count": null,
	   "metadata": {
	    "collapsed": true
	   },
	   "outputs": [],
"source": [
"clc;\n",
"close();\n",
"clear();\n",
"//page no 406\n",
"//prob no. 12.5\n",
"B=2*10^6;  //Hz\n",
"R=50 ; //ohm\n",
"G=10^6;  //gain\n",
"kT0=4*10^-21;\n",
"\n",
"Nav=kT0*B;\n",
"No=G*Nav;\n",
"mprintf('output Noise power=%.0f nW',No*10^9);"
   ]
   }
,
{
		   "cell_type": "markdown",
		   "metadata": {},
		   "source": [
			"## Example 12.6: rms_noise_voltage.sce"
		   ]
		  },
  {
"cell_type": "code",
	   "execution_count": null,
	   "metadata": {
	    "collapsed": true
	   },
	   "outputs": [],
"source": [
"clc;\n",
"close();\n",
"clear();\n",
"//page no 406\n",
"//prob no. 12.6\n",
"//data from ex 12.5\n",
"B=2*10^6;  //Hz\n",
"R=50 ; //ohm\n",
"G=10^6;  //gain\n",
"kT0=4*10^-21;\n",
"\n",
"Nav=kT0*B;\n",
"No=G*Nav;\n",
"//ex12.6\n",
"Vrms=(No*50)^0.5;\n",
"mprintf('Vrms=%.1f micro-V',Vrms*10^6);"
   ]
   }
,
{
		   "cell_type": "markdown",
		   "metadata": {},
		   "source": [
			"## Example 12.7: Power_spectral_density.sce"
		   ]
		  },
  {
"cell_type": "code",
	   "execution_count": null,
	   "metadata": {
	    "collapsed": true
	   },
	   "outputs": [],
"source": [
"clc;\n",
"close();\n",
"clear();\n",
"//page no 408\n",
"//prob no. 12.7\n",
"R=50 ; //ohm\n",
"G=10^8;  //gain\n",
"kT0=4*10^-21;\n",
"So=G*kT0;\n",
"mprintf('Output spectral density So(f)=%.0f fW/Hz',So*10^15);"
   ]
   }
,
{
		   "cell_type": "markdown",
		   "metadata": {},
		   "source": [
			"## Example 12.8: white_noise.sce"
		   ]
		  },
  {
"cell_type": "code",
	   "execution_count": null,
	   "metadata": {
	    "collapsed": true
	   },
	   "outputs": [],
"source": [
"clc;\n",
"close();\n",
"clear();\n",
"//page no 409\n",
"//prob no. 12.8\n",
"ns=6*10^-18;   //W/Hz\n",
"k=1.38*10^-23;\n",
"Ts=ns/k;\n",
"mprintf('(a) Equilant source temperature is Ts=%.0f K\n',Ts);\n",
"Gdb=43;  //gain in dB\n",
"G=10^(Gdb/10);\n",
"mprintf(' (b) Absolute gain G=%.3f\n',G);\n",
"G=20*10^3;   //Approximate\n",
"Si=ns;\n",
"So=G*Si;\n",
"mprintf('Output spectral density So(f)=%.0f fW/Hz\n',So*10^15);\n",
"B=12*10^6;   //Hz\n",
"no=So;\n",
"No=no*B;\n",
"mprintf(' (c)Total Output Noise power ,No=%.3f micro-W',No*10^6);"
   ]
   }
,
{
		   "cell_type": "markdown",
		   "metadata": {},
		   "source": [
			"## Example 12.9: output_noise_power.sce"
		   ]
		  },
  {
"cell_type": "code",
	   "execution_count": null,
	   "metadata": {
	    "collapsed": true
	   },
	   "outputs": [],
"source": [
"clc;\n",
"close();\n",
"clear();\n",
"//page no 409\n",
"//prob no. 12.9\n",
"Gdb1=10;\n",
"Gdb2=15; \n",
"Gdb3=25;\n",
"Gdb=Gdb1+Gdb2+Gdb3;  // net gain in dB\n",
"G=10^(Gdb/10);\n",
"mprintf('Absolute gain G=%i\n',G);\n",
"B=10^4;   //Hz\n",
"ni=10^-12;  //pW/Hz\n",
"No=ni*G*B;\n",
"mprintf(' Output Noise power ,No=%i mW',No*10^3);"
   ]
   }
],
"metadata": {
		  "kernelspec": {
		   "display_name": "Scilab",
		   "language": "scilab",
		   "name": "scilab"
		  },
		  "language_info": {
		   "file_extension": ".sce",
		   "help_links": [
			{
			 "text": "MetaKernel Magics",
			 "url": "https://github.com/calysto/metakernel/blob/master/metakernel/magics/README.md"
			}
		   ],
		   "mimetype": "text/x-octave",
		   "name": "scilab",
		   "version": "0.7.1"
		  }
		 },
		 "nbformat": 4,
		 "nbformat_minor": 0
}
