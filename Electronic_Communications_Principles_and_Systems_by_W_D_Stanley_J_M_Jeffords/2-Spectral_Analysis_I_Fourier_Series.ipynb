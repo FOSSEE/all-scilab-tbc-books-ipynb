{
"cells": [
 {
		   "cell_type": "markdown",
	   "metadata": {},
	   "source": [
       "# Chapter 2: Spectral Analysis I Fourier Series"
	   ]
	},
{
		   "cell_type": "markdown",
		   "metadata": {},
		   "source": [
			"## Example 2.1: Signal_terminology.sce"
		   ]
		  },
  {
"cell_type": "code",
	   "execution_count": null,
	   "metadata": {
	    "collapsed": true
	   },
	   "outputs": [],
"source": [
"clc;\n",
"\n",
"//page no 31\n",
"//problem 2.1\n",
"//v(t)=12coos(2pi*2000t)\n",
"A=12;   //in volts\n",
"disp('V',A,'(a)  The amplitude is idetified as');\n",
"w=2*%pi*2000;\n",
"disp('rad/s',w,'(b)  The radian frequincy is');\n",
"f=w/(2*%pi);\n",
"disp('Hz',f,'(c)  The cyclic frequency is');\n",
"T=1/f;\n",
"disp('s',T,'(d)  The period is');"
   ]
   }
,
{
		   "cell_type": "markdown",
		   "metadata": {},
		   "source": [
			"## Example 2.2: Express_function.sce"
		   ]
		  },
  {
"cell_type": "code",
	   "execution_count": null,
	   "metadata": {
	    "collapsed": true
	   },
	   "outputs": [],
"source": [
"clc;\n",
"\n",
"//page no 32\n",
"//problem 2.2\n",
"//i(t)=4cos50t + 3sin50t\n",
"A=4;\n",
"B=3;\n",
"C=sqrt(A^2+B^2);  //right triangle\n",
"theta=-1*atan(3/4);  //in rad\n",
"disp('rad',theta,'(a)  The current is expressed as 5cos(50t + theta),where theta is');\n",
"phi=acot(3/4);  //from figure 2.5 in radian\n",
"disp('rad',phi,'(b)  The current is expressed as 5sin(50t+phi), where phi is');\n",
"phi=phi*180/%pi;\n",
"disp('degree',phi,'or');"
   ]
   }
,
{
		   "cell_type": "markdown",
		   "metadata": {},
		   "source": [
			"## Example 2.3: Spectral_process.sce"
		   ]
		  },
  {
"cell_type": "code",
	   "execution_count": null,
	   "metadata": {
	    "collapsed": true
	   },
	   "outputs": [],
"source": [
"clc;\n",
"\n",
"//page no 37\n",
"//problem 2.3\n",
"T=12.5*10^-6; //in sec\n",
"f0=0;   //dc\n",
"f1=1/T*10^-3;   //in kHz\n",
"f2=f0+2*f1;\n",
"f3=f0+3*f1;\n",
"f4=f0+4*f1;\n",
"disp('kHz',f4,f3,f2,f1,f0,'The lowest five frequencies are (in kH)');"
   ]
   }
,
{
		   "cell_type": "markdown",
		   "metadata": {},
		   "source": [
			"## Example 2.4: Fourier_series.sce"
		   ]
		  },
  {
"cell_type": "code",
	   "execution_count": null,
	   "metadata": {
	    "collapsed": true
	   },
	   "outputs": [],
"source": [
"clc;\n",
"\n",
"//page no 40\n",
"//problem 2.4\n",
"//all frequencies are in Hz\n",
"f=0;\n",
"f1=500;  //fundamental freq.\n",
"f2=1000;  f3=1500;  //harmonics\n",
"disp(f3,f2,f1,f,'(a)  The frequencies in signal are');\n",
"//for plot\n",
"fHz=[0:1600];\n",
"Cn=[5 zeros(1:f1-1) 8 zeros(f1+1:f2-1) 6 zeros(f2+1:f3-1) 3 zeros(f3+1:1600)]\n",
"clf\n",
"plot2d(fHz,Cn,[3],rect=[-0.5,0,1550,10])\n",
"xtitle('Linear amplitude spectrum','f,Hz','Cn(V)')\n",
"xgrid\n",
"disp('(c)  The required bandwidth is 1500 Hz');"
   ]
   }
,
{
		   "cell_type": "markdown",
		   "metadata": {},
		   "source": [
			"## Example 2.5: Power_in_a_Fourier_series.sce"
		   ]
		  },
  {
"cell_type": "code",
	   "execution_count": null,
	   "metadata": {
	    "collapsed": true
	   },
	   "outputs": [],
"source": [
"clc;\n",
"\n",
"//page no 43\n",
"//problem 2.5\n",
"//All voltages are in V\n",
"//All power in watts\n",
"R=5;  //ohm\n",
"C0=5;  //dc value\n",
"C1=8;\n",
"C2=6;\n",
"C3=3;   //volts\n",
"Vrms=sqrt(C0^2+0.5*(C1^2+C2^2+C3^2));  //rms voltage\n",
"disp(Vrms,'(a)  The rms value of voltage is');\n",
"P=Vrms^2/R;   //watts\n",
"disp('W',P,'(b)  The average power dissipated in resistor is')\n",
"P0=C0^2/R;\n",
"disp(P0,'(c)  The dc power is ');\n",
"P1=C1^2/(2*R);\n",
"disp(P1,'The power in fundamental is');\n",
"P2=C2^2/(2*R);\n",
"P3=C3^2/(2*R);\n",
"disp(P3,P2,'The second and third harmonics are');\n",
"//for plot\n",
"fHz=[0:1600];\n",
"f1=500;  //fundamental freq.\n",
"f2=1000;  f3=1500; \n",
"Pn=[P0 zeros(1:f1-1) P1 zeros(f1+1:f2-1) P2 zeros(f2+1:f3-1) P3 zeros(f3+1:1600)]\n",
"clf\n",
"plot2d(fHz,Pn,[3],rect=[0,0,1600,8])\n",
"xtitle('Power spectrum','f,Hz','Pn(W)')\n",
"xgrid"
   ]
   }
,
{
		   "cell_type": "markdown",
		   "metadata": {},
		   "source": [
			"## Example 2.6: Spectral_Rollof.sce"
		   ]
		  },
  {
"cell_type": "code",
	   "execution_count": null,
	   "metadata": {
	    "collapsed": true
	   },
	   "outputs": [],
"source": [
"clc;\n",
"\n",
"//page no 48\n",
"//problem 2.6\n",
"//All frequencies in Hz\n",
"//There is no dc component\n",
"T=4*10^-3;\n",
"f1=1/T;\n",
"disp(f1,'The fundmental frequency is');\n",
"//The function have only odd numbered components\n",
"disp(9*f1,7*f1,5*f1,3*f1,f1,'The five lowest frequencies are ');\n",
"disp('(b)  The rolloff rate is -6dB/octave');"
   ]
   }
,
{
		   "cell_type": "markdown",
		   "metadata": {},
		   "source": [
			"## Example 2.7: Table_of_fourier_series.sce"
		   ]
		  },
  {
"cell_type": "code",
	   "execution_count": null,
	   "metadata": {
	    "collapsed": true
	   },
	   "outputs": [],
"source": [
"clc;\n",
"\n",
"//page no 51\n",
"//problem 2.7\n",
"//All frequencies in kHz\n",
"//The time is in ms\n",
"//Power in WATTS\n",
"//All voltage in volts\n",
"T=0.2;  //ms\n",
"f1=1/T;\n",
"disp(f1,'The fundamental frequency is');\n",
"//There are only odd numbered harmonics\n",
"Ap2p=40; // peak to peak\n",
"R=50;  //ohm\n",
"A=Ap2p/2;\n",
"C1=4*A/%pi;\n",
"C3=4*A/(3*%pi);\n",
"C5=4*A/(5*%pi);\n",
"disp('respectively',C5,C3,C1,'The magnitude of fundamental , third and fifth harmonics are ');\n",
"function [Pn]=Power(Cn,R)\n",
"    Pn=Cn^2/(2*R);\n",
"endfunction\n",
"P1=Power(C1,R);\n",
"P3=Power(C3,R);\n",
"P5=Power(C5,R);\n",
"//power is calculated using the function Power defined above\n",
"disp('Frequency  Amplitude   Power')\n",
"table={f1,C1,P1;3*f1,C3,P3;5*f1,C5,P5};\n",
"disp(table);"
   ]
   }
,
{
		   "cell_type": "markdown",
		   "metadata": {},
		   "source": [
			"## Example 2.8: Spectral_component.sce"
		   ]
		  },
  {
"cell_type": "code",
	   "execution_count": null,
	   "metadata": {
	    "collapsed": true
	   },
	   "outputs": [],
"source": [
"clc;\n",
"\n",
"//page no 52\n",
"//problem 2.8\n",
"//All frequencies in kHz\n",
"//The time is in ms\n",
"//Power in WATTS\n",
"//All voltage in volts\n",
"//following values are copied from Ex2-7\n",
"T=0.2;  //ms\n",
"f1=1/T;\n",
"//There are only odd numbered harmonics\n",
"Ap2p=40; // peak to peak\n",
"R=50;  //ohm\n",
"A=Ap2p/2;\n",
"C1=4*A/%pi;\n",
"C3=4*A/(3*%pi);\n",
"C5=4*A/(5*%pi);\n",
"function [Pn]=Power(Cn,R)\n",
"    Pn=Cn^2/(2*R);\n",
"endfunction\n",
"P1=Power(C1,R);\n",
"P3=Power(C3,R);\n",
"P5=Power(C5,R);\n",
"\n",
"\n",
"//Ex2-8\n",
"Vrms=A;\n",
"P=Vrms^2/R;\n",
"disp('W',P,'Total power is');\n",
"P135=P1+P3+P5\n",
"disp(P135,'Power of fundamental , third and fifth harmonics is');\n",
"prcnt=P135/P*100;\n",
"disp(prcnt,'The percent of power is ');\n",
""
   ]
   }
,
{
		   "cell_type": "markdown",
		   "metadata": {},
		   "source": [
			"## Example 2.9: Two_sided_spectrum.sce"
		   ]
		  },
  {
"cell_type": "code",
	   "execution_count": null,
	   "metadata": {
	    "collapsed": true
	   },
	   "outputs": [],
"source": [
"clc;\n",
"clear all;\n",
"//page no 54\n",
"//problem 2.9\n",
"f0=0;\n",
"f1=500;  //fundamental freq.\n",
"f2=1000;  f3=1500;  //harmonics\n",
"\n",
"//Values from ex 2.4\n",
"C=[5 8 6 3]//  Values in Volts\n",
"//Values from ex 2.5\n",
"P=[5 6.4 3.6 .9];   //poweer in watts\n",
"clf;\n",
"// plot two sided linear amplitude spectrum\n",
"fHz=-1510:10^-2:1510;    //x-axis matrix\n",
"//Y-axis matrix\n",
"Cn=[C(1)]\n",
"for i=2:4\n",
"    Cn=[zeros(-500+10^-2:10^-2:0-10^-2) Cn zeros(0+10^-2:10^-2:500-10^-2)]\n",
"    Cn=[C(i)/2 Cn C(i)/2];\n",
"end\n",
"Cn=[zeros(-10+10^-2:10^-2:0) Cn zeros(0:10^-2:10-10^-2)]\n",
"subplot(211)\n",
"plot2d(fHz,Cn,[2],rect=[-2000,0,2000,6])\n",
"xtitle('Two-sided Linear amplitude spectrum','f,Hz','Vn(V)')\n",
"xgrid\n",
"\n",
"// plot two power spectrum\n",
"fHz=-1510:10^-2:1510;    //x-axis matrix\n",
"//Y-axis matrix\n",
"Pn=[P(1)]\n",
"for i=2:4\n",
"    Pn=[zeros(-500+10^-2:10^-2:0-10^-2) Pn zeros(0+10^-2:10^-2:500-10^-2)]\n",
"    Pn=[P(i)/2 Pn P(i)/2];\n",
"end\n",
"Pn=[zeros(-10+10^-2:10^-2:0) Pn zeros(0:10^-2:10-10^-2)]\n",
"subplot(212)\n",
"plot2d(fHz,Pn,[6],rect=[-2000,0,2000,6])\n",
"xtitle('Two-sided power] spectrum','f,Hz','Pn(W)')\n",
"xgrid"
   ]
   }
],
"metadata": {
		  "kernelspec": {
		   "display_name": "Scilab",
		   "language": "scilab",
		   "name": "scilab"
		  },
		  "language_info": {
		   "file_extension": ".sce",
		   "help_links": [
			{
			 "text": "MetaKernel Magics",
			 "url": "https://github.com/calysto/metakernel/blob/master/metakernel/magics/README.md"
			}
		   ],
		   "mimetype": "text/x-octave",
		   "name": "scilab",
		   "version": "0.7.1"
		  }
		 },
		 "nbformat": 4,
		 "nbformat_minor": 0
}
