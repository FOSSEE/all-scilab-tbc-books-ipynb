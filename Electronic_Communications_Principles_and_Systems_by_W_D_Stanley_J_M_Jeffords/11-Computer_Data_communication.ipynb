{
"cells": [
 {
		   "cell_type": "markdown",
	   "metadata": {},
	   "source": [
       "# Chapter 11: Computer Data communication"
	   ]
	},
{
		   "cell_type": "markdown",
		   "metadata": {},
		   "source": [
			"## Example 11.7: Processor_bandwidth.sce"
		   ]
		  },
  {
"cell_type": "code",
	   "execution_count": null,
	   "metadata": {
	    "collapsed": true
	   },
	   "outputs": [],
"source": [
"clc;\n",
"close();\n",
"clear();\n",
"//page no 379\n",
"//prob no. 11.7\n",
"\n",
"B=800*64;   //Mb/s\n",
"mprintf('Bandwidth= %i Mb/s  or  %i MB/s',B,B/8);"
   ]
   }
,
{
		   "cell_type": "markdown",
		   "metadata": {},
		   "source": [
			"## Example 11.8: DDR_SDRAM_bandwidth.sce"
		   ]
		  },
  {
"cell_type": "code",
	   "execution_count": null,
	   "metadata": {
	    "collapsed": true
	   },
	   "outputs": [],
"source": [
"clc;\n",
"close();\n",
"clear();\n",
"//page no 379\n",
"//prob no. 11.8\n",
"\n",
"B=400*64;   //Mb/s\n",
"mprintf('Memory bus bandwidth = %i Mb/s  or  %i MB/s',B,B/8);"
   ]
   }
,
{
		   "cell_type": "markdown",
		   "metadata": {},
		   "source": [
			"## Example 11.9: Memory_bandwidth.sce"
		   ]
		  },
  {
"cell_type": "code",
	   "execution_count": null,
	   "metadata": {
	    "collapsed": true
	   },
	   "outputs": [],
"source": [
"clc;\n",
"close();\n",
"clear();\n",
"//page no 379\n",
"//prob no. 11.9\n",
"\n",
"B=128*400;   //Mb/s\n",
"mprintf('Memory bus bandwidth = %i Mb/s  or  %i MB/s',B,B/8);"
   ]
   }
],
"metadata": {
		  "kernelspec": {
		   "display_name": "Scilab",
		   "language": "scilab",
		   "name": "scilab"
		  },
		  "language_info": {
		   "file_extension": ".sce",
		   "help_links": [
			{
			 "text": "MetaKernel Magics",
			 "url": "https://github.com/calysto/metakernel/blob/master/metakernel/magics/README.md"
			}
		   ],
		   "mimetype": "text/x-octave",
		   "name": "scilab",
		   "version": "0.7.1"
		  }
		 },
		 "nbformat": 4,
		 "nbformat_minor": 0
}
