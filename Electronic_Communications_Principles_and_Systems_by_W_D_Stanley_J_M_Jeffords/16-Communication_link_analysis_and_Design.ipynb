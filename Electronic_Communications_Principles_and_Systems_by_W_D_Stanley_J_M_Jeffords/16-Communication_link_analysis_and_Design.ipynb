{
"cells": [
 {
		   "cell_type": "markdown",
	   "metadata": {},
	   "source": [
       "# Chapter 16: Communication link analysis and Design"
	   ]
	},
{
		   "cell_type": "markdown",
		   "metadata": {},
		   "source": [
			"## Example 16.10: Pulse_radar_system.sce"
		   ]
		  },
  {
"cell_type": "code",
	   "execution_count": null,
	   "metadata": {
	    "collapsed": true
	   },
	   "outputs": [],
"source": [
"clc;\n",
"close();\n",
"clear();\n",
"//page no 530\n",
"//prob no. 16.10\n",
"c=3*10^8;    //speed of light in m/s\n",
"fp=2*10^3;   //Hz\n",
"T=1/fp     //s\n",
"dmax=c*T/2       //in m\n",
"mprintf('(a) d max=%.0f Km \n',dmax*10^-3);\n",
"tau=6*10^-6;   //s\n",
"dmin=c*tau/2   //m\n",
"mprintf('(b) d min=%.0f m ',dmin);"
   ]
   }
,
{
		   "cell_type": "markdown",
		   "metadata": {},
		   "source": [
			"## Example 16.11: Doppler_shift.sce"
		   ]
		  },
  {
"cell_type": "code",
	   "execution_count": null,
	   "metadata": {
	    "collapsed": true
	   },
	   "outputs": [],
"source": [
"clc;\n",
"close();\n",
"clear();\n",
"//page no 532\n",
"//prob no. 16.11\n",
"c=3*10^8;    //speed of light in m/s\n",
"fc=15*10^9;   //Hz\n",
"v=25     // speed in m/s\n",
"fD=2*v/c*fc;    //Hz\n",
"mprintf('Doppler shift , fD=%.0f Hz \n',fD);"
   ]
   }
,
{
		   "cell_type": "markdown",
		   "metadata": {},
		   "source": [
			"## Example 16.12: Speed_of_automobile.sce"
		   ]
		  },
  {
"cell_type": "code",
	   "execution_count": null,
	   "metadata": {
	    "collapsed": true
	   },
	   "outputs": [],
"source": [
"clc;\n",
"close();\n",
"clear();\n",
"//page no 532\n",
"//prob no. 16.12\n",
"c=186000;    //speed of light in mi/s\n",
"fc=10*10^9;   //Hz\n",
"fD=2*10^3;    //frequency shift in Hz\n",
"v=c*fD/(2*fc);  //speed in mi/s\n",
"mprintf('Speed of automobile , v=%.2f*10^-3 mi/s \n',v*10^3);\n",
"v=3600*v;\n",
"mprintf(' v=%.1f mi/hr \n',v);"
   ]
   }
,
{
		   "cell_type": "markdown",
		   "metadata": {},
		   "source": [
			"## Example 16.13: Angle_of_refraction.sce"
		   ]
		  },
  {
"cell_type": "code",
	   "execution_count": null,
	   "metadata": {
	    "collapsed": true
	   },
	   "outputs": [],
"source": [
"clc;\n",
"close();\n",
"clear();\n",
"//page no 535\n",
"//prob no. 16.13\n",
"n1=1;    //refraction index of air\n",
"E2=4     //material dielectric constant\n",
"theta_i=50   //angle of incidence in degree  (misprinted in the solution)\n",
"n2=sqrt(E2);\n",
"theta_r=asin(n1/n2*sin(theta_i*%pi/180));\n",
"mprintf(' The angle of refraction is %.2f \n (using angle of incidence =50)\n',theta_r*180/%pi);\n",
"//misprinted angle "
   ]
   }
,
{
		   "cell_type": "markdown",
		   "metadata": {},
		   "source": [
			"## Example 16.1: Recieived_power.sce"
		   ]
		  },
  {
"cell_type": "code",
	   "execution_count": null,
	   "metadata": {
	    "collapsed": true
	   },
	   "outputs": [],
"source": [
"clc;\n",
"close();\n",
"clear();\n",
"//page no 518\n",
"//prob no. 16.1\n",
"c=3*10^8;  //speed of light\n",
"Pt=5    //W\n",
"GtdB=13;  //dB\n",
"GrdB=17;  //dB\n",
"d=80*10^3;  //metre\n",
"f=3*10^9;   //frequency\n",
"lembda=c/f;   //wavelength\n",
"mprintf('The wavelength is, = %.1f m\n',lembda);\n",
"\n",
"Gt=10^(GtdB/10);\n",
"Gr=10^(GrdB/10);\n",
"mprintf(' Gt=%.2f  \n',Gt);\n",
"mprintf(' Gr=%.2f  \n',Gr);\n",
"Pr=lembda^2*Gt*Gr*Pt/((4*%pi)^2*d^2);\n",
"mprintf(' Pr=%.1f pW \n',Pr*10^12);"
   ]
   }
,
{
		   "cell_type": "markdown",
		   "metadata": {},
		   "source": [
			"## Example 16.2: dB_approach.sce"
		   ]
		  },
  {
"cell_type": "code",
	   "execution_count": null,
	   "metadata": {
	    "collapsed": true
	   },
	   "outputs": [],
"source": [
"clc;\n",
"close();\n",
"clear();\n",
"//page no 520\n",
"//prob no. 16.2\n",
"c=3*10^8;  //speed of light\n",
"Pt=5    //W\n",
"GtdB=13;  //dB\n",
"GrdB=17;  //dB\n",
"d=80;  //in km\n",
"f=3;   //frequency in GHz\n",
"\n",
"PtdBW=10*log10(Pt);\n",
"alfa1_dB=20*log10(f)+20*log10(d)+92.44;  //dB\n",
"mprintf('The path loss is,  alfa_1(dB) = %.2f dB\n',alfa1_dB);\n",
"\n",
"PrdBW=PtdBW+GtdB+GrdB-alfa1_dB;   //calculation of recieved power in dB\n",
"mprintf(' Pr(dBW)=%.2f  dBW\n',PrdBW)\n",
" \n",
"Pr=10^(PrdBW/10);   //recieved power in Watts\n",
"mprintf(' Pr=%.1f pW ',Pr*10^12);"
   ]
   }
,
{
		   "cell_type": "markdown",
		   "metadata": {},
		   "source": [
			"## Example 16.3: Path_loss.sce"
		   ]
		  },
  {
"cell_type": "code",
	   "execution_count": null,
	   "metadata": {
	    "collapsed": true
	   },
	   "outputs": [],
"source": [
"clc;\n",
"close();\n",
"clear();\n",
"//page no 521\n",
"//prob no. 16.3\n",
"d=240000*1.609;  //in km\n",
"//part a\n",
"f=100;   //frequency in MHz\n",
"alfa1_dB=20*log10(f)+20*log10(d)+32.44;  //dB\n",
"mprintf('(a) The path loss is %.2f dB\n',alfa1_dB);\n",
"//part b\n",
"f=1;   //frequency in GHz\n",
"alfa1_dB=20*log10(f)+20*log10(d)+92.44;  //dB\n",
"mprintf(' (b) The path loss is %.2f dB\n',alfa1_dB);\n",
"//part c\n",
"f=10;   //frequency in GHz\n",
"alfa1_dB=20*log10(f)+20*log10(d)+92.44;  //dB\n",
"mprintf(' (c) The path loss is %.2f dB\n',alfa1_dB);"
   ]
   }
,
{
		   "cell_type": "markdown",
		   "metadata": {},
		   "source": [
			"## Example 16.4: path_loss.sce"
		   ]
		  },
  {
"cell_type": "code",
	   "execution_count": null,
	   "metadata": {
	    "collapsed": true
	   },
	   "outputs": [],
"source": [
"clc;\n",
"close();\n",
"clear();\n",
"//page no 522\n",
"//prob no. 16.4\n",
"f=1;  //in GHz\n",
"//part a\n",
"d=1;   //in Km\n",
"alfa1_dB=20*log10(f)+20*log10(d)+92.44;  //dB\n",
"mprintf('(a) The path loss is %.2f dB\n',alfa1_dB);\n",
"//part b\n",
"d=10;   //in km\n",
"alfa1_dB=20*log10(f)+20*log10(d)+92.44;  //dB\n",
"mprintf(' (b) The path loss is %.2f dB\n',alfa1_dB);\n",
"//part c\n",
"d=100;   //in km\n",
"alfa1_dB=20*log10(f)+20*log10(d)+92.44;  //dB\n",
"mprintf(' (c) The path loss is %.2f dB\n',alfa1_dB);"
   ]
   }
,
{
		   "cell_type": "markdown",
		   "metadata": {},
		   "source": [
			"## Example 16.5: Minimum_transmitted_power_required.sce"
		   ]
		  },
  {
"cell_type": "code",
	   "execution_count": null,
	   "metadata": {
	    "collapsed": true
	   },
	   "outputs": [],
"source": [
"clc;\n",
"close();\n",
"clear();\n",
"//page no 522\n",
"//prob no. 16.5\n",
"Pr=50*10^-12;  //in Watts\n",
"GtdB=3;  //dB\n",
"GrdB=4;  //dB\n",
"d=80;  //kilo-metre\n",
"f=500;   //frequency in MHz\n",
"PrdBW=10*log10(Pr);   //in dB conversion\n",
"mprintf('Pr(dBW)=%.2f  dBW\n',PrdBW)\n",
"alfa1_dB=20*log10(f)+20*log10(d)+32.44;  //path loss in dB\n",
"mprintf(' The path loss is, %.2f dB\n',alfa1_dB);\n",
"PtdBW=PrdBW+alfa1_dB-GtdB-GrdB;   //calculation of transmitted  power in dB\n",
"mprintf(' Pt(dBW)=%.2f  dBW\n',PtdBW)\n",
"Pt=10^(PtdBW/10);   //transmitted power in Watts\n",
"mprintf(' Pt=%.1f W ',Pt);"
   ]
   }
,
{
		   "cell_type": "markdown",
		   "metadata": {},
		   "source": [
			"## Example 16.6: Required_transmitted_power.sce"
		   ]
		  },
  {
"cell_type": "code",
	   "execution_count": null,
	   "metadata": {
	    "collapsed": true
	   },
	   "outputs": [],
"source": [
"clc;\n",
"close();\n",
"clear();\n",
"//page no 523\n",
"//prob no. 16.6\n",
"Pr=200;  //in f-Watts\n",
"GtdB=30;  //dB\n",
"GrdB=20;  //dB\n",
"d=40000;  //kilo-metre\n",
"f=4;   //frequency in GHz\n",
"PrdBf=10*log10(Pr);   //in dBf conversion\n",
"mprintf('Pr(dBf)=%.2f  dBf\n',PrdBf)\n",
"alfa1_dB=20*log10(f)+20*log10(d)+92.44;  //path loss in dB\n",
"mprintf(' The path loss is, %.2f dB\n',alfa1_dB);\n",
"PtdBf=PrdBf+alfa1_dB-GtdB-GrdB;   //calculation of transmitted  power in dBf\n",
"PtdBW=PtdBf-150;   //calculation of transmitted  power in dBW\n",
"mprintf(' Pt(dBf)=%.2f  dBf OR %.2f dBW\n',PtdBf,PtdBW)\n",
"Pt=10^(PtdBW/10);   //transmitted power in Watts\n",
"mprintf(' Pt=%.2f W ',Pt);"
   ]
   }
,
{
		   "cell_type": "markdown",
		   "metadata": {},
		   "source": [
			"## Example 16.7: range_of_transmission.sce"
		   ]
		  },
  {
"cell_type": "code",
	   "execution_count": null,
	   "metadata": {
	    "collapsed": true
	   },
	   "outputs": [],
"source": [
"clc;\n",
"close();\n",
"clear();\n",
"//page no 525\n",
"//prob no. 16.7\n",
"hT=50;  //m\n",
"hR=5;   //m\n",
"d_km=sqrt(17*hT)+sqrt(17*hR);   //in km\n",
"mprintf(' d(km)=%.2f Km ',d_km);"
   ]
   }
,
{
		   "cell_type": "markdown",
		   "metadata": {},
		   "source": [
			"## Example 16.8: Received_power.sce"
		   ]
		  },
  {
"cell_type": "code",
	   "execution_count": null,
	   "metadata": {
	    "collapsed": true
	   },
	   "outputs": [],
"source": [
"clc;\n",
"close();\n",
"clear();\n",
"//page no 528\n",
"//prob no. 16.8\n",
"Pt=10000;  //Watts\n",
"Gt=25;     //dB\n",
"f=3;        //GHz\n",
"d=50;     //km\n",
"sigma=20   //radar cross section in m^2\n",
"alfa2_dB=20*log10(f)+40*log10(d)+163.43-10*log10(sigma);   //alfa2(dB) calculation\n",
"mprintf(' The two way path loss is,alfa2(dB)= %.2f dB\n',alfa2_dB);\n",
"PtdBW=10*log10(Pt);   //transmitted  power in dB\n",
"mprintf(' Pt(dBW)=%i  dBW\n',PtdBW)\n",
"PrdBW=PtdBW+2*Gt-alfa2_dB   //dBW\n",
"mprintf(' Pr(dBW)=%.2f dBW \n',PrdBW);\n",
"Pr=10^(PrdBW/10);\n",
"mprintf(' Pr=%.2f fW',Pr*10^15);"
   ]
   }
,
{
		   "cell_type": "markdown",
		   "metadata": {},
		   "source": [
			"## Example 16.9: Distance_to_the_target.sce"
		   ]
		  },
  {
"cell_type": "code",
	   "execution_count": null,
	   "metadata": {
	    "collapsed": true
	   },
	   "outputs": [],
"source": [
"clc;\n",
"close();\n",
"clear();\n",
"//page no 530\n",
"//prob no. 16.9\n",
"c=3*10^8;    //speed of light in m/s\n",
"Td=400*10^-6     //s\n",
"d=c*Td/2       //in m\n",
"mprintf(' d=%.0f Km ',d*10^-3);"
   ]
   }
],
"metadata": {
		  "kernelspec": {
		   "display_name": "Scilab",
		   "language": "scilab",
		   "name": "scilab"
		  },
		  "language_info": {
		   "file_extension": ".sce",
		   "help_links": [
			{
			 "text": "MetaKernel Magics",
			 "url": "https://github.com/calysto/metakernel/blob/master/metakernel/magics/README.md"
			}
		   ],
		   "mimetype": "text/x-octave",
		   "name": "scilab",
		   "version": "0.7.1"
		  }
		 },
		 "nbformat": 4,
		 "nbformat_minor": 0
}
