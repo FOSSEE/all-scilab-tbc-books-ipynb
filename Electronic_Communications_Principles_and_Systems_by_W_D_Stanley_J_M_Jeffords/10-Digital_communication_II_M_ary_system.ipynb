{
"cells": [
 {
		   "cell_type": "markdown",
	   "metadata": {},
	   "source": [
       "# Chapter 10: Digital communication II M ary system"
	   ]
	},
{
		   "cell_type": "markdown",
		   "metadata": {},
		   "source": [
			"## Example 10.1: Channel_capcity.sce"
		   ]
		  },
  {
"cell_type": "code",
	   "execution_count": null,
	   "metadata": {
	    "collapsed": true
	   },
	   "outputs": [],
"source": [
"clc;\n",
"close();\n",
"clear();\n",
"//page no 350\n",
"//prob no. 10.1\n",
"B=4;   //kHz\n",
"C=2*B;\n",
"mprintf('(a) C=%ikbits/s\n',C);\n",
"C=2*B*log2(4);\n",
"mprintf(' (b) for 4-level encoding ,C=%ikbits/s\n',C);\n",
"C=2*B*log2(128);\n",
"mprintf(' (c) for 128-level encoding ,C=%ikbits/s',C);"
   ]
   }
,
{
		   "cell_type": "markdown",
		   "metadata": {},
		   "source": [
			"## Example 10.2: Maximum_channel_capacity.sce"
		   ]
		  },
  {
"cell_type": "code",
	   "execution_count": null,
	   "metadata": {
	    "collapsed": true
	   },
	   "outputs": [],
"source": [
"clc;\n",
"close();\n",
"clear();\n",
"//page no 351\n",
"//prob no. 10.2\n",
"B=4;   //kHz\n",
"SNdb=[20 30 40];   //S/N in db\n",
"SN=10 .^(SNdb./10);  //absolute S/N\n",
"\n",
"C=B .*log2(1+SN);\n",
"mprintf(' S/N(db)  C(kbits/s)\n');\n",
"out=[SNdb' C'];\n",
"disp(out);"
   ]
   }
,
{
		   "cell_type": "markdown",
		   "metadata": {},
		   "source": [
			"## Example 10.5: Shannon_limit.sce"
		   ]
		  },
  {
"cell_type": "code",
	   "execution_count": null,
	   "metadata": {
	    "collapsed": true
	   },
	   "outputs": [],
"source": [
"clc;\n",
"close();\n",
"clear();\n",
"//page no 352\n",
"//prob no. 10.5\n",
"B=20;   //kHz\n",
"C=160;  //kb/s\n",
"M=2^(C/B/2);\n",
"mprintf('(a) Number of encoding levels ,M= %i\n',M);\n",
"SN=2^(C/B)-1;\n",
"SNdb=10*log10(SN)   //S/N in db\n",
"\n",
"mprintf(' (b) S/N= %i  S/N(db)=%.2f dB',SN,SNdb);"
   ]
   }
,
{
		   "cell_type": "markdown",
		   "metadata": {},
		   "source": [
			"## Example 10.6: QPSK.sce"
		   ]
		  },
  {
"cell_type": "code",
	   "execution_count": null,
	   "metadata": {
	    "collapsed": true
	   },
	   "outputs": [],
"source": [
"clc;\n",
"close();\n",
"clear();\n",
"//page no 356\n",
"//prob no. 10.6\n",
"R=1;  //Mb/s\n",
"Bt=R/2;   //MHz\n",
"mprintf('Bt= %i kHz',Bt*10^3);"
   ]
   }
],
"metadata": {
		  "kernelspec": {
		   "display_name": "Scilab",
		   "language": "scilab",
		   "name": "scilab"
		  },
		  "language_info": {
		   "file_extension": ".sce",
		   "help_links": [
			{
			 "text": "MetaKernel Magics",
			 "url": "https://github.com/calysto/metakernel/blob/master/metakernel/magics/README.md"
			}
		   ],
		   "mimetype": "text/x-octave",
		   "name": "scilab",
		   "version": "0.7.1"
		  }
		 },
		 "nbformat": 4,
		 "nbformat_minor": 0
}
