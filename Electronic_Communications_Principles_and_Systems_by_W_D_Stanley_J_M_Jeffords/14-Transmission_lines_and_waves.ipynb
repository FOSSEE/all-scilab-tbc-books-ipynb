{
"cells": [
 {
		   "cell_type": "markdown",
	   "metadata": {},
	   "source": [
       "# Chapter 14: Transmission lines and waves"
	   ]
	},
{
		   "cell_type": "markdown",
		   "metadata": {},
		   "source": [
			"## Example 14.10: Loss_less_transmission_line.sce"
		   ]
		  },
  {
"cell_type": "code",
	   "execution_count": null,
	   "metadata": {
	    "collapsed": true
	   },
	   "outputs": [],
"source": [
"clc;\n",
"close();\n",
"clear();\n",
"//page no 484\n",
"//prob no. 14.10\n",
"ZL=100;   //ohm\n",
"RL=ZL;\n",
"R0=300;    //ohm\n",
"TauL=(RL-R0)/(RL+R0);\n",
"\n",
"mprintf('(a)The reflection coefficient at load is=  %0.2f,',TauL);\n",
"\n",
"S=R0/RL;\n",
"mprintf('\n (b) The standing wave ratio is, S = %.0f \n',S);"
   ]
   }
,
{
		   "cell_type": "markdown",
		   "metadata": {},
		   "source": [
			"## Example 14.11: Lossless_transmission_line.sce"
		   ]
		  },
  {
"cell_type": "code",
	   "execution_count": null,
	   "metadata": {
	    "collapsed": true
	   },
	   "outputs": [],
"source": [
"clc;\n",
"close();\n",
"clear();\n",
"//page no 485\n",
"//prob no. 14.11\n",
"ZL=100;   //ohm\n",
"RL=ZL;\n",
"R0=300;    //ohm\n",
"TauL=(RL-R0)/(RL+R0);\n",
"mismatch_loss_dB=-10*log10(1-TauL^2);\n",
"mprintf(' The mismatch loss (dB), S = %.2f dB\n',mismatch_loss_dB);"
   ]
   }
,
{
		   "cell_type": "markdown",
		   "metadata": {},
		   "source": [
			"## Example 14.12: Plane_wave_propagation.sce"
		   ]
		  },
  {
"cell_type": "code",
	   "execution_count": null,
	   "metadata": {
	    "collapsed": true
	   },
	   "outputs": [],
"source": [
"clc;\n",
"close();\n",
"clear();\n",
"//page no 487\n",
"//prob no. 14.12\n",
"Ex=3 //V/m\n",
"n0=377;\n",
"Hy=Ex/n0;\n",
"mprintf('(a) The vaulue of Hy is, Hy = %.3f * 10^-3 A/m\n',Hy*10^3);\n",
"\n",
"Px=Ex^2/n0;\n",
"mprintf(' (b) The power density Px is, Px = %.3f * 10^-3 W/m^2\n',Px*10^3);\n",
"A=10*30;\n",
"P=Px*A;\n",
"mprintf(' (c) The net power transmitted is, P = %.3f W \n',P);"
   ]
   }
,
{
		   "cell_type": "markdown",
		   "metadata": {},
		   "source": [
			"## Example 14.1: Length_of_line.sce"
		   ]
		  },
  {
"cell_type": "code",
	   "execution_count": null,
	   "metadata": {
	    "collapsed": true
	   },
	   "outputs": [],
"source": [
"clc;\n",
"close();\n",
"clear();\n",
"//page no 471\n",
"//prob no. 14.1\n",
"f=1*10^6;  //Hz\n",
"lembda=3*10^8/f;   //m\n",
"mprintf('The free space wavelength is = %i m \n',lembda);\n",
"l=.1*lembda;\n",
"mprintf(' Length ,l= %i m',l);"
   ]
   }
,
{
		   "cell_type": "markdown",
		   "metadata": {},
		   "source": [
			"## Example 14.2: Length_of_line.sce"
		   ]
		  },
  {
"cell_type": "code",
	   "execution_count": null,
	   "metadata": {
	    "collapsed": true
	   },
	   "outputs": [],
"source": [
"clc;\n",
"close();\n",
"clear();\n",
"//page no 471\n",
"//prob no. 14.2\n",
"f=1*10^8;  //Hz\n",
"lembda=3*10^8/f;   //m\n",
"mprintf('The free space wavelength is = %i m \n',lembda);\n",
"l=.1*lembda;\n",
"mprintf(' Length ,l= %.1f m',l);"
   ]
   }
,
{
		   "cell_type": "markdown",
		   "metadata": {},
		   "source": [
			"## Example 14.3: Length_of_line.sce"
		   ]
		  },
  {
"cell_type": "code",
	   "execution_count": null,
	   "metadata": {
	    "collapsed": true
	   },
	   "outputs": [],
"source": [
"clc;\n",
"close();\n",
"clear();\n",
"//page no 472\n",
"//prob no. 14.3\n",
"f=1*10^9;  //Hz\n",
"lembda=3*10^8/f;   //m\n",
"mprintf('The free space wavelength is = %i cm \n',lembda*100);\n",
"l=.1*lembda;\n",
"mprintf(' Length ,l= %i cm',l*100);"
   ]
   }
,
{
		   "cell_type": "markdown",
		   "metadata": {},
		   "source": [
			"## Example 14.4: Characteristic_impedance.sce"
		   ]
		  },
  {
"cell_type": "code",
	   "execution_count": null,
	   "metadata": {
	    "collapsed": true
	   },
	   "outputs": [],
"source": [
"clc;\n",
"close();\n",
"clear();\n",
"//page no 474\n",
"//prob no. 14.4\n",
"L=320*10^-9;   //H/m\n",
"C=90*10^-12;   //F/m\n",
"R0=sqrt(L/C);\n",
"mprintf('The characteristc impedance, R0 = %.2f ohm \n',R0);"
   ]
   }
,
{
		   "cell_type": "markdown",
		   "metadata": {},
		   "source": [
			"## Example 14.5: Velocity_of_propagatio.sce"
		   ]
		  },
  {
"cell_type": "code",
	   "execution_count": null,
	   "metadata": {
	    "collapsed": true
	   },
	   "outputs": [],
"source": [
"clc;\n",
"close();\n",
"clear();\n",
"//page no 476\n",
"//prob no. 14.5\n",
"L=320*10^-9;   //H/m\n",
"C=90*10^-12;   //F/m\n",
"v=1/sqrt(L*C);\n",
"mprintf('The velocity of propagation is, v = %.3f 10^8 m/s \n',v*10^-8);"
   ]
   }
,
{
		   "cell_type": "markdown",
		   "metadata": {},
		   "source": [
			"## Example 14.6_1: Coaxial_cable.sce"
		   ]
		  },
  {
"cell_type": "code",
	   "execution_count": null,
	   "metadata": {
	    "collapsed": true
	   },
	   "outputs": [],
"source": [
"clc;\n",
"close();\n",
"clear();\n",
"//page no 479\n",
"//prob no. 14.6;   //misprinted example no\n",
"d=.3;  //cm\n",
"D=1.02;  //cm\n",
"Er=2.25;  \n",
"x=log(D/d);   //variable\n",
"L=2*10^-7*x;\n",
"mprintf('(a)The inductance per unit length is, L = %.1f nH/m \n',L*10^9);\n",
"C=55.56*10^-12*Er/x;\n",
"mprintf(' (b)The capacitance per unit length is, C = %.2f nH/m \n',C*10^12);\n",
"R0=60/sqrt(Er)*x;\n",
"mprintf(' (c)The characteristic impedance is, R0 = %.3f ohm \n',R0);\n",
"c=3*10^8;\n",
"v=c/sqrt(Er);\n",
"mprintf(' (d)The velocity of propagation is, v = %i*10^8 m/s \n',v*10^-8);"
   ]
   }
,
{
		   "cell_type": "markdown",
		   "metadata": {},
		   "source": [
			"## Example 14.6: Dielectric_costant.sce"
		   ]
		  },
  {
"cell_type": "code",
	   "execution_count": null,
	   "metadata": {
	    "collapsed": true
	   },
	   "outputs": [],
"source": [
"clc;\n",
"close();\n",
"clear();\n",
"//page no 476\n",
"//prob no. 14.6\n",
"L=320*10^-9;   //H/m\n",
"C=90*10^-12;   //F/m\n",
"v=1/sqrt(L*C);   //from Ex14.5\n",
"Er=(3*10^8/v)^2;\n",
"mprintf('The dielectic constant is, Er = %.2f  \n',Er);"
   ]
   }
,
{
		   "cell_type": "markdown",
		   "metadata": {},
		   "source": [
			"## Example 14.7: mismached_load_impedance.sce"
		   ]
		  },
  {
"cell_type": "code",
	   "execution_count": null,
	   "metadata": {
	    "collapsed": true
	   },
	   "outputs": [],
"source": [
"clc;\n",
"close();\n",
"clear();\n",
"//page no 480\n",
"//prob no. 14.7;\n",
"Rin=50   //ohm\n",
"Rout=50;   //ohm\n",
"Vrms=400;  //V\n",
"Zin=Rin;\n",
"mprintf('(a)The input impedance is, Zin = %i ohm\n',Zin);\n",
"Irms=Vrms/(Rin+Rout);  //A\n",
"mprintf(' (b)The rms current , Irms = %i A \n',Irms);\n",
"Pin=Irms^2*Rin;\n",
"mprintf(' (c)The input power is, Pin = %i W \n',Pin);\n",
"Pl=Pin;\n",
"mprintf(' (d)The load power is, Pl = %i W \n',Pl);"
   ]
   }
,
{
		   "cell_type": "markdown",
		   "metadata": {},
		   "source": [
			"## Example 14.8: Load_power.sce"
		   ]
		  },
  {
"cell_type": "code",
	   "execution_count": null,
	   "metadata": {
	    "collapsed": true
	   },
	   "outputs": [],
"source": [
"clc;\n",
"close();\n",
"clear();\n",
"//page no 481\n",
"//prob no. 14.8\n",
"Rin=50   //ohm\n",
"Rout=50;   //ohm\n",
"Vrms=400;  //V\n",
"\n",
"l=50;      //m\n",
"Ldb=.01*l;   //dB\n",
"L=10^(Ldb/10);\n",
"mprintf('The abslute loss is, L = %f \n',L);\n",
"Irms=Vrms/(Rin+Rout);  //A\n",
"Pin=Irms^2*Rin;\n",
"\n",
"PL=Pin/L;\n",
"mprintf(' The actual Power reaching the load is, PL = %.1f W \n',PL);"
   ]
   }
,
{
		   "cell_type": "markdown",
		   "metadata": {},
		   "source": [
			"## Example 14.9: Lossless_transmission_line.sce"
		   ]
		  },
  {
"cell_type": "code",
	   "execution_count": null,
	   "metadata": {
	    "collapsed": true
	   },
	   "outputs": [],
"source": [
"clc;\n",
"close();\n",
"clear();\n",
"//page no 484\n",
"//prob no. 14.9\n",
"ZL=complex(50,100);\n",
"R0=50;\n",
"TauL=(ZL-R0)/(ZL+R0);\n",
"\n",
"mprintf('(a)The reflection coefficient at load is,');\n",
"disp(TauL);\n",
"[R,theta]=polar(TauL);\n",
"mprintf('OR , %.4f angle %i',R,theta*(180/%pi));\n",
"\n",
"S=(1+R)/(1-R);\n",
"mprintf('\n (b) The standing wave ratio is, S = %.3f \n',S);"
   ]
   }
],
"metadata": {
		  "kernelspec": {
		   "display_name": "Scilab",
		   "language": "scilab",
		   "name": "scilab"
		  },
		  "language_info": {
		   "file_extension": ".sce",
		   "help_links": [
			{
			 "text": "MetaKernel Magics",
			 "url": "https://github.com/calysto/metakernel/blob/master/metakernel/magics/README.md"
			}
		   ],
		   "mimetype": "text/x-octave",
		   "name": "scilab",
		   "version": "0.7.1"
		  }
		 },
		 "nbformat": 4,
		 "nbformat_minor": 0
}
