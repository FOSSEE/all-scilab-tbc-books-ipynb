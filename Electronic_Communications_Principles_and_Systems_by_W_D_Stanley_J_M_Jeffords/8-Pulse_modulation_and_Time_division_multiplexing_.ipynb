{
"cells": [
 {
		   "cell_type": "markdown",
	   "metadata": {},
	   "source": [
       "# Chapter 8: Pulse modulation and Time division multiplexing "
	   ]
	},
{
		   "cell_type": "markdown",
		   "metadata": {},
		   "source": [
			"## Example 8.1: sampling_rate.sce"
		   ]
		  },
  {
"cell_type": "code",
	   "execution_count": null,
	   "metadata": {
	    "collapsed": true
	   },
	   "outputs": [],
"source": [
"clc;\n",
"close();\n",
"clear();\n",
"//page no 277\n",
"//prob no. 8.1\n",
"W=5000;    //Hz\n",
"fs=2*W;\n",
"mprintf('(a)  The minimum sampling rate is %i samples per second.\n',fs);\n",
"T=1/fs;    //second\n",
"mprintf(' (b)  Maximum interval between samples is %f seconds',T);"
   ]
   }
,
{
		   "cell_type": "markdown",
		   "metadata": {},
		   "source": [
			"## Example 8.2: Sampling_rate.sce"
		   ]
		  },
  {
"cell_type": "code",
	   "execution_count": null,
	   "metadata": {
	    "collapsed": true
	   },
	   "outputs": [],
"source": [
"clc;\n",
"close();\n",
"clear();\n",
"//page no 277\n",
"//prob no. 8.2\n",
"W=5000;    //Hz\n",
"fs=1.25*2*W;\n",
"mprintf('(a)  The sampling rate is %i Hz.\n',fs);\n",
"T=1/fs;    //second\n",
"mprintf('(b)  Maximum interval between samples is %f seconds',T);"
   ]
   }
,
{
		   "cell_type": "markdown",
		   "metadata": {},
		   "source": [
			"## Example 8.3: Determine_total_number_of_samples.sce"
		   ]
		  },
  {
"cell_type": "code",
	   "execution_count": null,
	   "metadata": {
	    "collapsed": true
	   },
	   "outputs": [],
"source": [
"clc;\n",
"close();\n",
"clear();\n",
"//page no 277\n",
"//prob no. 8.3\n",
"W=5000;    //Hz\n",
"fs=1.25*2*W;\n",
"tp=30*60;   //seconds\n",
"N=fs*tp;    //samples\n",
"mprintf('Total number of samples is %i ',N);"
   ]
   }
,
{
		   "cell_type": "markdown",
		   "metadata": {},
		   "source": [
			"## Example 8.5: List_frequencies.sce"
		   ]
		  },
  {
"cell_type": "code",
	   "execution_count": null,
	   "metadata": {
	    "collapsed": true
	   },
	   "outputs": [],
"source": [
"clc;\n",
"close();\n",
"clear();\n",
"//page no 281\n",
"//prob no. 8.5\n",
"//All frequencies in kHz\n",
"f=1;\n",
"T=0.1;   //ms\n",
"fs=1/T;\n",
"mprintf('The positive frequencies below 45 kHz are \n %i\n ',f);\n",
"for i=1:1:100\n",
"    x=fs*i;   //x is a variable\n",
"    if((x+f) < 45)\n",
"        mprintf('%i  ,%i\n',x-f,x+f);\n",
"    else\n",
"        break();\n",
"        end\n",
"end"
   ]
   }
,
{
		   "cell_type": "markdown",
		   "metadata": {},
		   "source": [
			"## Example 8.6: Pulse_amplitude_modulation.sce"
		   ]
		  },
  {
"cell_type": "code",
	   "execution_count": null,
	   "metadata": {
	    "collapsed": true
	   },
	   "outputs": [],
"source": [
"clc;\n",
"close();\n",
"clear();\n",
"//page no 284\n",
"//prob no. 8.6\n",
"//All time in milli second\n",
"//All frequencies in kHz\n",
"fs=5;\n",
"tau=0.04;   //ms\n",
"T=1/fs;      //ms\n",
"d=tau/T;\n",
"// for plot\n",
"f=[-2:.1:28-.1];\n",
"Pn1=[ones(1,50)];\n",
"Pn=[Pn1];\n",
"for i=1:5\n",
"    Pn=[Pn Pn1*(1-d*i)];\n",
"end\n",
"ps1=[ones(1,20)];\n",
"for i=1:10\n",
"    ps1=[1-i*0.1 ps1 1-i*0.1];\n",
"end\n",
"ps1=[ps1 zeros(1:10)];\n",
"ps=[ps1];\n",
"for i=1:5\n",
"    ps=[ps ps1];\n",
"end\n",
"Vs=ps.*Pn;\n",
"clf;\n",
"plot2d(f,Vs,[5]);\n",
"xtitle('(a) Spectrum of signal after sampling','$f,kHz$','$Vs(f)$');\n",
"K1=0.5;\n",
"Bt=K1/tau;\n",
"mprintf('(b) Bandwidth required for K1=%i is %0.1f kHz\n',K1,Bt);\n",
"K1=1;\n",
"Bt=K1/tau;\n",
"mprintf('Bandwidth required for K1=%i is %i kHz',K1,Bt);"
   ]
   }
,
{
		   "cell_type": "markdown",
		   "metadata": {},
		   "source": [
			"## Example 8.7: Minimum_bandwidth_for_PAM.sce"
		   ]
		  },
  {
"cell_type": "code",
	   "execution_count": null,
	   "metadata": {
	    "collapsed": true
	   },
	   "outputs": [],
"source": [
"clc;\n",
"close();\n",
"clear();\n",
"//page no 288\n",
"//prob no. 8.7\n",
"//All frequencies in kHz\n",
"k=7;\n",
"W=1;\n",
"Bt=k*W;\n",
"printf('Minimum Bandwidth is %i kHz',Bt);"
   ]
   }
,
{
		   "cell_type": "markdown",
		   "metadata": {},
		   "source": [
			"## Example 8.8: Nyquist_rate_based.sce"
		   ]
		  },
  {
"cell_type": "code",
	   "execution_count": null,
	   "metadata": {
	    "collapsed": true
	   },
	   "outputs": [],
"source": [
"clc;\n",
"close();\n",
"clear();\n",
"//page no 288\n",
"//prob no. 8.8\n",
"//All frequencies in kHz\n",
"W=1;\n",
"fs=1.25*2*W;\n",
"Tf=1/fs;\n",
"mprintf('(a) The sampling rate is %.1f kHz\n',fs);\n",
"mprintf('The frame time is %.1f ms\n',Tf);\n",
"tau=Tf/16;  //ms\n",
"Bt=0.5/tau;\n",
"mprintf('The pulse width is %i micro second\n',tau*10^3);\n",
"mprintf('The composite baseband bandwidth is %i kHz\n',Bt);\n",
"Bt=2*Bt;\n",
"mprintf('(b) The RF bandwidth is %i kHz\n',Bt);"
   ]
   }
,
{
		   "cell_type": "markdown",
		   "metadata": {},
		   "source": [
			"## Example 8.9: PWM_minimum_nyquist_rate.sce"
		   ]
		  },
  {
"cell_type": "code",
	   "execution_count": null,
	   "metadata": {
	    "collapsed": true
	   },
	   "outputs": [],
"source": [
"clc;\n",
"close();\n",
"clear();\n",
"//page no 290\n",
"//prob no. 8.9\n",
"//All frequencies in kHz\n",
"W=10;\n",
"fs=2*W;\n",
"Tf=1/fs;\n",
"mprintf('(a) The minimum sampling rate is %i kHz\n',fs);\n",
"mprintf('The frame time is %i micro second\n',Tf*10^3);\n",
"tr=0.01*Tf  //ms\n",
"Bt=0.5/tr;\n",
"mprintf('The maximum rise time is %.1f micro second\n',tr*10^3);\n",
"mprintf('The approximate transmission bandwidth is %i kHz\n',Bt);"
   ]
   }
],
"metadata": {
		  "kernelspec": {
		   "display_name": "Scilab",
		   "language": "scilab",
		   "name": "scilab"
		  },
		  "language_info": {
		   "file_extension": ".sce",
		   "help_links": [
			{
			 "text": "MetaKernel Magics",
			 "url": "https://github.com/calysto/metakernel/blob/master/metakernel/magics/README.md"
			}
		   ],
		   "mimetype": "text/x-octave",
		   "name": "scilab",
		   "version": "0.7.1"
		  }
		 },
		 "nbformat": 4,
		 "nbformat_minor": 0
}
