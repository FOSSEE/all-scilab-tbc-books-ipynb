{
"cells": [
 {
		   "cell_type": "markdown",
	   "metadata": {},
	   "source": [
       "# Chapter 1: Introduction"
	   ]
	},
{
		   "cell_type": "markdown",
		   "metadata": {},
		   "source": [
			"## Example 1.10: Signal_level_and_gain.sce"
		   ]
		  },
  {
"cell_type": "code",
	   "execution_count": null,
	   "metadata": {
	    "collapsed": true
	   },
	   "outputs": [],
"source": [
"clc;\n",
"\n",
"//page 14\n",
"//ex-1.10\n",
"function [V]=voltage(PdBm)\n",
"    P=1*10^(-3)*(10^(PdBm/10));\n",
"    V=(75*P)^0.5;\n",
"endfunction\n",
"S=10;  //dBm\n",
"G1=13;  //dB\n",
"L1=26;  //dB\n",
"G2=20;  //dB\n",
"L2=29;  //dB\n",
"disp('(a)  The output levels are');\n",
"PdBm=S;\n",
"V=voltage(PdBm);\n",
"disp(V,'in Volts:',PdBm,'1. Signal source in dBm:');\n",
"PdBm=S+G1;\n",
"V=voltage(PdBm);\n",
"disp(V,'in Volts:',PdBm,'2. Line Amplifier in dBm:');\n",
"PdBm=S+G1-L1;\n",
"V=voltage(PdBm);\n",
"disp(V,'in Volts:',PdBm,'3. Cable section A in dBm:');\n",
"PdBm=S+G1-L1+G2;\n",
"V=voltage(PdBm);\n",
"disp(V,'in Volts:',PdBm,'4. Booster amplifier in dBm:');\n",
"PdBm=S+G1-L1+G2-L2;\n",
"V=voltage(PdBm);\n",
"disp(V,'in Volts:',PdBm,'5. Cable section B in dBm:');\n",
"disp('(b).  The output power to get a voltage of 6V');\n",
"V=6;   //volts\n",
"R=75;  //ohm\n",
"Po=(V^2)/R;\n",
"disp('W',Po,);\n",
"PodBm=10*log10(Po*1000/1);\n",
"disp('dBm',PodBm,'power in dBm');\n",
"GrdB=PodBm-PdBm;\n",
"disp('dB',GrdB,'The required gain is');"
   ]
   }
,
{
		   "cell_type": "markdown",
		   "metadata": {},
		   "source": [
			"## Example 1.11: S_N_ratio.sce"
		   ]
		  },
  {
"cell_type": "code",
	   "execution_count": null,
	   "metadata": {
	    "collapsed": true
	   },
	   "outputs": [],
"source": [
"clc;\n",
"//page 17\n",
"//ex-1.11\n",
"\n",
"P=5;   //In mW\n",
"N=100*10^-6;  //in mW\n",
"S2N=P/N;\n",
"disp(S2N,'(a)    Absolute signal to noise ratio :');\n",
"S2NdB=10*log10(S2N);\n",
"disp('dB',S2NdB,'(b)   dB signal to noise ratio is:')\n",
"PdBm=10*log10(P/1);\n",
"disp('dBm',PdBm,'(c)    Signal Power is');\n",
"NdBm=10*log10(N/1);\n",
"disp('dBm',NdBm,'Noise power is');\n",
"S2NdB=PdBm-NdBm;\n",
"disp('dB',S2NdB,'Decinel S/N ratio is');"
   ]
   }
,
{
		   "cell_type": "markdown",
		   "metadata": {},
		   "source": [
			"## Example 1.1: Determine_Wavelength.sce"
		   ]
		  },
  {
"cell_type": "code",
	   "execution_count": null,
	   "metadata": {
	    "collapsed": true
	   },
	   "outputs": [],
"source": [
"clc;\n",
"//page 4\n",
"//ex-1.1\n",
"c=3*10^8;     //in m/s\n",
"f=1*10^6;     //in Hz\n",
"lembda=c/f;\n",
"disp(lembda,'Wavelength (in m):');"
   ]
   }
,
{
		   "cell_type": "markdown",
		   "metadata": {},
		   "source": [
			"## Example 1.2: Determine_Wavelength.sce"
		   ]
		  },
  {
"cell_type": "code",
	   "execution_count": null,
	   "metadata": {
	    "collapsed": true
	   },
	   "outputs": [],
"source": [
"clc;\n",
"\n",
"//page 4\n",
"//ex-1.2\n",
"c=3*10^8;     //in m/s\n",
"f=100*10^6;     //in Hz\n",
"lembda=c/f;\n",
"disp(lembda,'Wavelength (in m):');"
   ]
   }
,
{
		   "cell_type": "markdown",
		   "metadata": {},
		   "source": [
			"## Example 1.3: dB_Power_gai.sce"
		   ]
		  },
  {
"cell_type": "code",
	   "execution_count": null,
	   "metadata": {
	    "collapsed": true
	   },
	   "outputs": [],
"source": [
"clc;\n",
"\n",
"//page 9\n",
"//ex-1.3\n",
"G=175;     //absolute gain\n",
"Gdb=10*log10(175);   //decibell gain\n",
"disp('dB',Gdb,+'The decibell power gain is:');"
   ]
   }
,
{
		   "cell_type": "markdown",
		   "metadata": {},
		   "source": [
			"## Example 1.4: Absolute_Power_gai.sce"
		   ]
		  },
  {
"cell_type": "code",
	   "execution_count": null,
	   "metadata": {
	    "collapsed": true
	   },
	   "outputs": [],
"source": [
"clc;\n",
"//page 9\n",
"//ex-1.4\n",
"Gdb=28;   //decibell gain\n",
"G=10^(Gdb/10);  //Absolute power gain\n",
"disp(G,'The absolute power gain is:');"
   ]
   }
,
{
		   "cell_type": "markdown",
		   "metadata": {},
		   "source": [
			"## Example 1.5: Voltage_gai.sce"
		   ]
		  },
  {
"cell_type": "code",
	   "execution_count": null,
	   "metadata": {
	    "collapsed": true
	   },
	   "outputs": [],
"source": [
"clc;\n",
"//page 10\n",
"//ex-1.5\n",
"\n",
"Gdb=28;   //decibell gain\n",
"G=10^(Gdb/10);  //Absolute power gain\n",
"Av=G^0.5;  //Voltage gain\n",
"disp(Av,'The voltage gain is:');"
   ]
   }
,
{
		   "cell_type": "markdown",
		   "metadata": {},
		   "source": [
			"## Example 1.6: dB_gain_and_loss.sce"
		   ]
		  },
  {
"cell_type": "code",
	   "execution_count": null,
	   "metadata": {
	    "collapsed": true
	   },
	   "outputs": [],
"source": [
"clc;\n",
"//page 10\n",
"//ex-1.6\n",
"\n",
"G=0.28; //Absolute gain\n",
"Gdb=10*log10(G);\n",
"disp('dB',Gdb,+'Decibell gain is');\n",
"P1=1;  \n",
"P2=.28;  //28 % of input power\n",
"Ldb=10*log10(P1/P2); //dB loss\n",
"disp('dB',Ldb,+'Decibell loss is:');"
   ]
   }
,
{
		   "cell_type": "markdown",
		   "metadata": {},
		   "source": [
			"## Example 1.7: Signal_Level.sce"
		   ]
		  },
  {
"cell_type": "code",
	   "execution_count": null,
	   "metadata": {
	    "collapsed": true
	   },
	   "outputs": [],
"source": [
"clc;\n",
"//page 11\n",
"//ex-1.7\n",
"\n",
"PmW=100; //power in mW\n",
"PdBm=10*log10(PmW/1);  //P in dBm level\n",
"disp('dBm',PdBm,+'(a).   Power in dBm level is:');\n",
"PdBW=PdBm-30;  //P in dBW level\n",
"disp('dBW',PdBW,+'(b).   Power in dBW level is:');\n",
"PdBf=PdBm+120;  //Pin dBf level\n",
"disp('dBf',PdBf,+'(c)   Power in dBf level is:');"
   ]
   }
,
{
		   "cell_type": "markdown",
		   "metadata": {},
		   "source": [
			"## Example 1.8: Calculate_gains.sce"
		   ]
		  },
  {
"cell_type": "code",
	   "execution_count": null,
	   "metadata": {
	    "collapsed": true
	   },
	   "outputs": [],
"source": [
"clc;\n",
"\n",
"//page 13\n",
"//ex-1.8\n",
"\n",
"G1=5000;\n",
"L=2000;\n",
"G2=400;\n",
"G=G1*(1/L)*G2;   //Absolute gain\n",
"disp(G,'(a)  Net absolute gain is:');\n",
"GdB=10*log10(G);  //System decibell gain\n",
"disp('dB',GdB,+'(b)  System Decibel gain is:');\n",
"G1dB=10*log10(G1);\n",
"LdB=10*log10(L);\n",
"G2dB=10*log10(G2);\n",
"disp('(c)   Individual stage gains are:');\n",
"disp(G1dB,'G1dB=');\n",
"disp(LdB,'LdB=');\n",
"disp(G2dB,'G2dB=');\n",
"GdB=G1dB-LdB+G2dB;\n",
"disp('dB',GdB,+'The net dB gain is:');"
   ]
   }
,
{
		   "cell_type": "markdown",
		   "metadata": {},
		   "source": [
			"## Example 1.9: Power_level.sce"
		   ]
		  },
  {
"cell_type": "code",
	   "execution_count": null,
	   "metadata": {
	    "collapsed": true
	   },
	   "outputs": [],
"source": [
"clc;\n",
"//page 13\n",
"//ex-1.9\n",
"\n",
"G1=5000;\n",
"L=2000;\n",
"G2=400;\n",
"Ps=0.1;  //in mW\n",
"P1=G1*Ps;  //in mW\n",
"disp('mW',P1,'(a)  Power level P1 is:');\n",
"P2=P1/L;  //in mW\n",
"disp('mW',P2,'Line output power P2:');\n",
"Po=G2*P2;  //in mW\n",
"disp('mW',Po,'System output power Po:');\n",
"PsdBm=10*log10(Ps/1);\n",
"G1dB=10*log10(G1);\n",
"LdB=10*log10(L);\n",
"G2dB=10*log10(G2);\n",
"disp('(b)  Output power power levels in dBm are');\n",
"P1dBm=PsdBm+G1dB;\n",
"disp('dBm',P1dBm,'P1(dBm)=');\n",
"P2dBm=P1dBm-LdB;\n",
"disp('dBm',P2dBm,'P2(dBm)=');\n",
"PodBm=P2dBm+G2dB;\n",
"disp('dBm',PodBm,'Po(dBm)=');\n",
""
   ]
   }
],
"metadata": {
		  "kernelspec": {
		   "display_name": "Scilab",
		   "language": "scilab",
		   "name": "scilab"
		  },
		  "language_info": {
		   "file_extension": ".sce",
		   "help_links": [
			{
			 "text": "MetaKernel Magics",
			 "url": "https://github.com/calysto/metakernel/blob/master/metakernel/magics/README.md"
			}
		   ],
		   "mimetype": "text/x-octave",
		   "name": "scilab",
		   "version": "0.7.1"
		  }
		 },
		 "nbformat": 4,
		 "nbformat_minor": 0
}
