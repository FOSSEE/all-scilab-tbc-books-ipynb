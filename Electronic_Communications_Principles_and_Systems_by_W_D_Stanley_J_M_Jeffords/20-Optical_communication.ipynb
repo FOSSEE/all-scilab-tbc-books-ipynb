{
"cells": [
 {
		   "cell_type": "markdown",
	   "metadata": {},
	   "source": [
       "# Chapter 20: Optical communication"
	   ]
	},
{
		   "cell_type": "markdown",
		   "metadata": {},
		   "source": [
			"## Example 20.1: Frequency_of_the_laser.sce"
		   ]
		  },
  {
"cell_type": "code",
	   "execution_count": null,
	   "metadata": {
	    "collapsed": true
	   },
	   "outputs": [],
"source": [
"clc;\n",
"close();\n",
"clear();\n",
"//page no 616\n",
"//prob no. 20.1\n",
"lembda=1300*10^-9;   //wavwlength in m\n",
"c=3*10^8;            //speed of light in m/s\n",
"f=c/lembda           //in Hz\n",
"mprintf('frequency of laser is ,f=%.0f  THz',f*10^-12);"
   ]
   }
,
{
		   "cell_type": "markdown",
		   "metadata": {},
		   "source": [
			"## Example 20.2: Angle_of_refraction.sce"
		   ]
		  },
  {
"cell_type": "code",
	   "execution_count": null,
	   "metadata": {
	    "collapsed": true
	   },
	   "outputs": [],
"source": [
"clc;\n",
"close();\n",
"clear();\n",
"//page no 619\n",
"//prob no. 20.2\n",
"theta_i=30;    //degree\n",
"ni=1.00;       //incident refraction index\n",
"nr=1.52;       //refeacted ray refraction index\n",
"theta_r=asin(ni/nr*sin(theta_i*%pi/180));    //in radians\n",
"mprintf('angle of refraction is %.2f  degree',theta_r*180/%pi);"
   ]
   }
,
{
		   "cell_type": "markdown",
		   "metadata": {},
		   "source": [
			"## Example 20.3: Critical_angle.sce"
		   ]
		  },
  {
"cell_type": "code",
	   "execution_count": null,
	   "metadata": {
	    "collapsed": true
	   },
	   "outputs": [],
"source": [
"clc;\n",
"close();\n",
"clear();\n",
"//page no 620\n",
"//prob no. 20.3\n",
"theta_r=90;    //degree\n",
"ni=1.52;       //refraction index for crown glass\n",
"nr=1.00;       //refraction index for air\n",
"theta_i=asin(nr/ni*sin(theta_r*%pi/180));    //in radians\n",
"mprintf('critical angle is %.2f  degree',theta_i*180/%pi);\n",
"//misprinted theta_r in the text\n",
"//values are raunded up in the text"
   ]
   }
,
{
		   "cell_type": "markdown",
		   "metadata": {},
		   "source": [
			"## Example 20.4: Responsivity_of_photodiode.sce"
		   ]
		  },
  {
"cell_type": "code",
	   "execution_count": null,
	   "metadata": {
	    "collapsed": true
	   },
	   "outputs": [],
"source": [
"clc;\n",
"close();\n",
"clear();\n",
"//page no 624\n",
"//prob no. 20.4\n",
"eta=.8;    //efficiency \n",
"lembda=850;  //nm\n",
"R=eta*lembda/1234;    //  A/W\n",
"mprintf('The responsivity of diode is R= %.2f  A/W',R);"
   ]
   }
,
{
		   "cell_type": "markdown",
		   "metadata": {},
		   "source": [
			"## Example 20.5: Responsivity_of_photodiode.sce"
		   ]
		  },
  {
"cell_type": "code",
	   "execution_count": null,
	   "metadata": {
	    "collapsed": true
	   },
	   "outputs": [],
"source": [
"clc;\n",
"close();\n",
"clear();\n",
"//page no 624\n",
"//prob no. 20.5\n",
"eta=.6;    //efficiency \n",
"lembda=1310;  //nm\n",
"R=eta*lembda/1234;    //  A/W\n",
"mprintf('The responsivity of diode is R= %.2f  A/W',R);"
   ]
   }
,
{
		   "cell_type": "markdown",
		   "metadata": {},
		   "source": [
			"## Example 20.6: Loss_in_cable.sce"
		   ]
		  },
  {
"cell_type": "code",
	   "execution_count": null,
	   "metadata": {
	    "collapsed": true
	   },
	   "outputs": [],
"source": [
"clc;\n",
"close();\n",
"clear();\n",
"//page no 627\n",
"//prob no. 20.6\n",
"L=.4*.8;    //loss in dB\n",
"mprintf('The loss usong this cable is L= %.2f  dB',L);"
   ]
   }
,
{
		   "cell_type": "markdown",
		   "metadata": {},
		   "source": [
			"## Example 20.7: Loss_of_multimode_cable.sce"
		   ]
		  },
  {
"cell_type": "code",
	   "execution_count": null,
	   "metadata": {
	    "collapsed": true
	   },
	   "outputs": [],
"source": [
"clc;\n",
"close();\n",
"clear();\n",
"//page no 627\n",
"//prob no. 20.7\n",
"L=2.7*.8;    //loss in dB\n",
"mprintf('The loss usong multimode cable is L= %.2f  dB',L);"
   ]
   }
],
"metadata": {
		  "kernelspec": {
		   "display_name": "Scilab",
		   "language": "scilab",
		   "name": "scilab"
		  },
		  "language_info": {
		   "file_extension": ".sce",
		   "help_links": [
			{
			 "text": "MetaKernel Magics",
			 "url": "https://github.com/calysto/metakernel/blob/master/metakernel/magics/README.md"
			}
		   ],
		   "mimetype": "text/x-octave",
		   "name": "scilab",
		   "version": "0.7.1"
		  }
		 },
		 "nbformat": 4,
		 "nbformat_minor": 0
}
