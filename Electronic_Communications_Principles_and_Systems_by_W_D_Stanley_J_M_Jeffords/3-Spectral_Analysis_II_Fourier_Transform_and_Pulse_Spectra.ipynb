{
"cells": [
 {
		   "cell_type": "markdown",
	   "metadata": {},
	   "source": [
       "# Chapter 3: Spectral Analysis II Fourier Transform and Pulse Spectra"
	   ]
	},
{
		   "cell_type": "markdown",
		   "metadata": {},
		   "source": [
			"## Example 3.1: Fourier_Transform.sce"
		   ]
		  },
  {
"cell_type": "code",
	   "execution_count": null,
	   "metadata": {
	    "collapsed": true
	   },
	   "outputs": [],
"source": [
"clc;\n",
"clear all;\n",
"//chapter 3\n",
"//page no 75\n",
"//example 3.1\n",
"A=1    //arbitrary value provided\n",
"T=10    //T represents tau (arbitrary value provided)\n",
"//plot for non periodic pulse\n",
"t=-2*T:.001:2*T;\n",
"vt=[zeros(-2*T:.001:-T/2) A*ones(-T/2+.001:.001:T/2-.001) zeros(T/2:.001:2*T)]\n",
"clf\n",
"subplot(211)\n",
"plot2d(t,vt,[2],rect=[-2*T,0,2*T,A+1])\n",
"xtitle('(a) Non periodic pulse','t','v(t)')\n",
"\n",
"//plot for amplitude spectum\n",
"f=-4/T:.001:4/T;\n",
"Vf=[]\n",
"for i=1:length(f)\n",
"    if f(i)==0 then\n",
"        Vf=[Vf A*T];    //according to L'Hopitals rule sin(x)/x=1 at lim x->0\n",
"        else\n",
"            Vf=[Vf A*T*sin(%pi*f(i)*T)/(%pi*f(i)*T)]\n",
"end\n",
"end\n",
"subplot(212)\n",
"plot2d(f,Vf,[5])\n",
"xtitle('(b) Amplitude spectrum','f','V(f)')\n",
"xgrid"
   ]
   }
,
{
		   "cell_type": "markdown",
		   "metadata": {},
		   "source": [
			"## Example 3.2: Fourier_Transform.sce"
		   ]
		  },
  {
"cell_type": "code",
	   "execution_count": null,
	   "metadata": {
	    "collapsed": true
	   },
	   "outputs": [],
"source": [
"clc;\n",
"clear all;\n",
"//chapter 3\n",
"//page no 76\n",
"//example 3.2\n",
"//plot for impulse function\n",
"t=-2:.001:2;\n",
"vt=[zeros(-2:.001:0-.001) 1 zeros(0+.001:.001:2)]     //impulse function matrix\n",
"clf\n",
"subplot(211)\n",
"plot2d(t,vt,[2],rect=[-2,0,2,2])\n",
"a=gca(); // Handle on axes entity\n",
"a.x_location = 'origin'; \n",
"a.y_location = 'origin';\n",
"\n",
"xtitle('(a) Unit Impulse function','t','v(t)')\n",
"\n",
"//plot for amplitude spectum\n",
"f=-2:.001:2;\n",
"Vf=[ones(-2:.001:2)]\n",
"subplot(212)\n",
"plot2d(f,Vf,[5])\n",
"a=gca(); // Handle on axes entity\n",
"a.x_location = 'origin'; \n",
"a.y_location = 'origin';\n",
"\n",
"xtitle('(b) Amplitude spectrum','f','V(f)')\n",
"xgrid"
   ]
   }
,
{
		   "cell_type": "markdown",
		   "metadata": {},
		   "source": [
			"## Example 3.3: Amplitude_spectrum.sce"
		   ]
		  },
  {
"cell_type": "code",
	   "execution_count": null,
	   "metadata": {
	    "collapsed": true
	   },
	   "outputs": [],
"source": [
"clc;\n",
"clear all;\n",
"//chapter 3\n",
"//page no 82\n",
"//example 3.3\n",
"A=20;    //Volts\n",
"T=1*10^-3;    //second\n",
"function Vf=Fourier_transform(f,T,A)\n",
"    if f==0 then\n",
"        Vf=A*T;\n",
"    else\n",
"        Vf=A*T*sin(%pi*f*T)/(%pi*f*T);\n",
"        \n",
"    end\n",
"endfunction\n",
"mprintf('(a)Equation for fourier transform is \n V(f)=%.2f*sin(%.3f*pi*f)/(%.3f*pi*f)',A*T,T,T);\n",
"//Part b Calculation\n",
"f=[0 500 1000 1500];\n",
"for i=1:4\n",
"    Vf(i)=Fourier_transform(f(i),T,A)\n",
"end\n",
"//Part c calculation\n",
"RdB=20*log10(Vf ./ .02)\n",
"//Result Table\n",
"mprintf('\nf(Hz)     V(f)in V     RdB\n')\n",
"for i=1:4\n",
"    mprintf('%5i   %f    %f \n',f(i),Vf(i),RdB(i))\n",
"end\n",
"//All values are precise"
   ]
   }
,
{
		   "cell_type": "markdown",
		   "metadata": {},
		   "source": [
			"## Example 3.4: Baseband_pulse_function.sce"
		   ]
		  },
  {
"cell_type": "code",
	   "execution_count": null,
	   "metadata": {
	    "collapsed": true
	   },
	   "outputs": [],
"source": [
"clc;\n",
"clear all;\n",
"//chapter 3\n",
"//page no 85\n",
"//example 3.4\n",
"A=20;    //Volts\n",
"T=1*10^-3;    //seconds\n",
"f=[-3/T:3/T];    //in kHz\n",
"Vf=[]\n",
"for i=1:length(f)\n",
"    if f(i)==0 then\n",
"        Vf=[Vf A*T];\n",
"    else\n",
"        Vf=[Vf A*T*sin(%pi*f(i)*T)/(%pi*f(i)*T)];\n",
"    \n",
"end\n",
"end\n",
"clf;\n",
"plot2d(f,Vf,[5])\n",
"a=gca(); // Handle on axes entity\n",
"a.x_location = 'origin'; \n",
"a.y_location = 'origin';\n",
"\n",
"xtitle('Amplitude Spectrum','f,Hz','V(f)');\n",
"xgrid"
   ]
   }
,
{
		   "cell_type": "markdown",
		   "metadata": {},
		   "source": [
			"## Example 3.5: Sketch_spectrum.sce"
		   ]
		  },
  {
"cell_type": "code",
	   "execution_count": null,
	   "metadata": {
	    "collapsed": true
	   },
	   "outputs": [],
"source": [
"clc;\n",
"clear all;\n",
"//chapter 3\n",
"//page no 86\n",
"//example 3.5\n",
"A=20;    //Volts\n",
"T=5*10^-3;    //period in seconds\n",
"tau=1*10^-3;   //pulse width in second\n",
"d=tau/T;        //duty cycle\n",
"f1=1/T;        //Fundamental frequency in Hz\n",
"\n",
"//for plot\n",
"n=[-14:15];    //in Hz\n",
"Vf=[]\n",
"for i=1:length(n)\n",
"    if n(i)==0 then\n",
"        Vf(i*200)=A*d;\n",
"    else\n",
"       Vf(i*200)=A*d*sin(%pi*d*n(i))/(%pi*d*n(i)) \n",
"    end\n",
"    //to get the magnitudes of components\n",
"    if Vf(i*200)<0 then\n",
"        Vf(i*200)=-Vf(i*200)\n",
"    end\n",
"  \n",
"end\n",
"f=-3000:3000-1\n",
"clf;\n",
"plot2d(f,Vf,[5],rect=[-3000,0,3000,5])\n",
"a=gca(); // Handle on axes entity\n",
"a.x_location = 'origin'; \n",
"a.y_location = 'origin';\n",
"\n",
"xtitle('Amplitude Spectrum','f,Hz','Vn');\n",
"xgrid"
   ]
   }
,
{
		   "cell_type": "markdown",
		   "metadata": {},
		   "source": [
			"## Example 3.6: RF_pulse_functions.sce"
		   ]
		  },
  {
"cell_type": "code",
	   "execution_count": null,
	   "metadata": {
	    "collapsed": true
	   },
	   "outputs": [],
"source": [
"clc;\n",
"clear all;\n",
"//chapter 3\n",
"//page no 89\n",
"//example 3.6\n",
"A=1    //arbitrary value provided\n",
"Tau=10^-3    //in seconds\n",
"fc=30*10^6;  //centre frequency in Hz\n",
"//plot for amplitude spectum\n",
"f=-3/Tau:3/Tau;\n",
"Vf=[]\n",
"for i=1:length(f)\n",
"    if f(i)==0 then\n",
"        Vf=[Vf A*Tau];    //according to L'Hopitals rule sin(x)/x=1 at lim x->0\n",
"        else\n",
"            Vf=[Vf A*Tau*sin(%pi*f(i)*Tau)/(%pi*f(i)*Tau)]\n",
"end\n",
"end\n",
"f=f+fc   //shifting\n",
"f=f.*10^-6   //MHz\n",
"clf\n",
"plot2d(f,Vf,[5])\n",
"\n",
"xtitle('Amplitude spectrum','f,MHz','Vrf(f)')\n",
"xgrid"
   ]
   }
,
{
		   "cell_type": "markdown",
		   "metadata": {},
		   "source": [
			"## Example 3.7: RFpulse_amplitude_spectrum.sce"
		   ]
		  },
  {
"cell_type": "code",
	   "execution_count": null,
	   "metadata": {
	    "collapsed": true
	   },
	   "outputs": [],
"source": [
"clc;\n",
"clear all;\n",
"//chapter 3\n",
"//page no 89\n",
"//example 3.7\n",
"A=1;    //arbitrary vaule\n",
"T=(1+4)*10^-3;    //period in seconds\n",
"tau=1*10^-3;   //pulse width in second\n",
"fc=30*10^6;    //centre frequency in Hz\n",
"d=tau/T;        //duty cycle\n",
"f1=1/T;        //Fundamental frequency in Hz\n",
"\n",
"//for plot\n",
"n=[-14:15];    //in Hz\n",
"Vf=[]\n",
"for i=1:length(n)\n",
"    if n(i)==0 then\n",
"        Vf(i*200)=A*d;\n",
"    else\n",
"       Vf(i*200)=A*d*sin(%pi*d*n(i))/(%pi*d*n(i)) \n",
"    end\n",
"      \n",
"end\n",
"f=-3000:3000-1\n",
"f=f+fc;    //Shifting by fc\n",
"f=f*10^-6;   //in MHz\n",
"clf;\n",
"plot2d(f,Vf,[5])\n",
"xtitle('Amplitude Spectrum','f,MHz','Vn');\n",
"xgrid"
   ]
   }
,
{
		   "cell_type": "markdown",
		   "metadata": {},
		   "source": [
			"## Example 3.8: Spectrum_analyser.sce"
		   ]
		  },
  {
"cell_type": "code",
	   "execution_count": null,
	   "metadata": {
	    "collapsed": true
	   },
	   "outputs": [],
"source": [
"clc;\n",
"clear all;\n",
"//chapter 3\n",
"//page no 90\n",
"//example 3.8\n",
"mprintf('(a) The RF burst frequency is 500 MHz\n');\n",
"mprintf(' (b) The pulse repetition rate is 1 MHz\n');\n",
"f0=10*10^6;    //Zero crossing frequency in Hz\n",
"tau=1/f0;     //in second\n",
"mprintf(' (c) The pulse width is %.1f micro second\n',tau*10^6);"
   ]
   }
],
"metadata": {
		  "kernelspec": {
		   "display_name": "Scilab",
		   "language": "scilab",
		   "name": "scilab"
		  },
		  "language_info": {
		   "file_extension": ".sce",
		   "help_links": [
			{
			 "text": "MetaKernel Magics",
			 "url": "https://github.com/calysto/metakernel/blob/master/metakernel/magics/README.md"
			}
		   ],
		   "mimetype": "text/x-octave",
		   "name": "scilab",
		   "version": "0.7.1"
		  }
		 },
		 "nbformat": 4,
		 "nbformat_minor": 0
}
