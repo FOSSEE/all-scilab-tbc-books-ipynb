{
"cells": [
 {
		   "cell_type": "markdown",
	   "metadata": {},
	   "source": [
       "# Chapter 8: Appendix B"
	   ]
	},
{
		   "cell_type": "markdown",
		   "metadata": {},
		   "source": [
			"## Example 8.1: To_plot_the_function_of_sin_x.sce"
		   ]
		  },
  {
"cell_type": "code",
	   "execution_count": null,
	   "metadata": {
	    "collapsed": true
	   },
	   "outputs": [],
"source": [
"//Example 8.1\n",
"//To plot the function of sin(x)\n",
"clear,clc;\n",
"\n",
"x = linspace(-0,2*%pi,50);\n",
"y = sin(x) ;\n",
"\n",
"//For grid, uncomment below line\n",
"//set(gca(),'grid',[5 5]);\n",
"\n",
"printf('NOTE:\nTo enable the grid , check the code')\n",
"plot(x,y,'r');\n",
"xlabel('$0\le x\le 2*pi$','fontsize',4,'color','red');\n",
"ylabel('$y(x)=sin(x)$','fontsize',4,'color','red');\n",
"title('Example 8.1','color','blue','fontsize',9);\n",
"legend('sin(x)');"
   ]
   }
],
"metadata": {
		  "kernelspec": {
		   "display_name": "Scilab",
		   "language": "scilab",
		   "name": "scilab"
		  },
		  "language_info": {
		   "file_extension": ".sce",
		   "help_links": [
			{
			 "text": "MetaKernel Magics",
			 "url": "https://github.com/calysto/metakernel/blob/master/metakernel/magics/README.md"
			}
		   ],
		   "mimetype": "text/x-octave",
		   "name": "scilab",
		   "version": "0.7.1"
		  }
		 },
		 "nbformat": 4,
		 "nbformat_minor": 0
}
