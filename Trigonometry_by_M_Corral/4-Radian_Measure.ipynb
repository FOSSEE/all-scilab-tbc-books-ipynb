{
"cells": [
 {
		   "cell_type": "markdown",
	   "metadata": {},
	   "source": [
       "# Chapter 4: Radian Measure"
	   ]
	},
{
		   "cell_type": "markdown",
		   "metadata": {},
		   "source": [
			"## Example 4.10: To_determine_area_of_sector_of_circle.sce"
		   ]
		  },
  {
"cell_type": "code",
	   "execution_count": null,
	   "metadata": {
	    "collapsed": true
	   },
	   "outputs": [],
"source": [
"clc,clear\n",
"//Example 4.10\n",
"//To determine area of sector of circle \n",
"\n",
"s=6 //arc length in cm\n",
"r=9 //radius in cm\n",
"A=r*s/2 //Area of sector\n",
"printf('Area of sector = %.0f cm^2\n\n',A)\n",
"printf('Note: Angle subtended by arc = %f rad',s/r)"
   ]
   }
,
{
		   "cell_type": "markdown",
		   "metadata": {},
		   "source": [
			"## Example 4.11: To_determine_area_insude_belt_pulley_system.sce"
		   ]
		  },
  {
"cell_type": "code",
	   "execution_count": null,
	   "metadata": {
	    "collapsed": true
	   },
	   "outputs": [],
"source": [
"clc,clear\n",
"//Example 4.11\n",
"//To determine area insude belt pulley system\n",
"\n",
"AE= 5 //radius of first pulley\n",
"BF= 8 //radius of second pulley\n",
"AB=15 //distance between centre of pulleys\n",
"\n",
"//from the figure\n",
"CF=AE \n",
"BC= BF- CF\n",
"AC = sqrt(AB^2 - BC^2)\n",
"//from the figure\n",
"angle_EAC = %pi/2\n",
"angle_BAC = asin(BC/AB)\n",
"angle_DAE = %pi -  angle_EAC - angle_BAC\n",
"angle_ABC = angle_DAE //AE and BF are parallel\n",
"angle_GBF= %pi - angle_ABC\n",
"\n",
"area_DAE = AE^2*angle_DAE/2 //area of sector DAE\n",
"area_GBF = BF^2*angle_GBF/2 //area of sector GBF\n",
"area_AEFC = AE*AC //area of rectangle AEFC\n",
"area_ABC = AC*BC/2 //area of triangle ABC\n",
"\n",
"area_K=2*(area_DAE + area_AEFC + area_ABC + + area_GBF )\n",
"printf('Area enclosed by belt pulley system = %.2f cm^2',area_K)\n",
"printf('\n\nNote: answer differs from book due to approximations by them')"
   ]
   }
,
{
		   "cell_type": "markdown",
		   "metadata": {},
		   "source": [
			"## Example 4.12: To_determine_area_of_segment_formed_by_a_chord_in_circle.sce"
		   ]
		  },
  {
"cell_type": "code",
	   "execution_count": null,
	   "metadata": {
	    "collapsed": true
	   },
	   "outputs": [],
"source": [
"clc,clear\n",
"//Example 4.12\n",
"//To determine area of segment formed by a chord in circle\n",
"\n",
"radius = 2\n",
"chord = 3\n",
"//Use law of cosines\n",
"cos_theta = (radius^2+radius^2-chord^2)/(2*radius*radius)\n",
"theta=acos(cos_theta) //subtended central angle in radians\n",
"\n",
"area_K=radius^2* (theta-sin(theta))/2\n",
"printf('Required area of segment = %.3f square units',area_K)"
   ]
   }
,
{
		   "cell_type": "markdown",
		   "metadata": {},
		   "source": [
			"## Example 4.13: To_determine_area_of_intersection_of_2_circles.sce"
		   ]
		  },
  {
"cell_type": "code",
	   "execution_count": null,
	   "metadata": {
	    "collapsed": true
	   },
	   "outputs": [],
"source": [
"clc,clear\n",
"//Example 4.13\n",
"//To determine area of intersection of 2 circles\n",
"\n",
"d=7 //distance between centres in cm\n",
"r1= 5 //radius of first circle in cm\n",
"r2= 4 //radius of second circle in cm\n",
"\n",
"//use  law of cosines\n",
"cos_alpha=(d^2+ r1^2 - r2^2 ) /(2*d*r1)\n",
"cos_beeta=(d^2+ r2^2 - r1^2 ) /(2*d*r2)\n",
"\n",
"//from the geometry of the figure \n",
"//all the angles below are in radians\n",
"alpha= acos(cos_alpha)\n",
"beeta= acos(cos_beeta)\n",
"angle_BAC = alpha\n",
"angle_ABC = beeta\n",
"angle_CAD =2* angle_BAC\n",
"angle_CBD =2* angle_ABC\n",
"\n",
"//required area = area at segment CD in circle at A and at B\n",
"area_K = r1^2*(angle_CAD-sin(angle_CAD))/2   + r2^2*(angle_CBD-sin(angle_CBD))/2   \n",
"printf('Area of intersection of 2 circles = %.2f cm^2',area_K)"
   ]
   }
,
{
		   "cell_type": "markdown",
		   "metadata": {},
		   "source": [
			"## Example 4.14: To_find_linear_and_angular_speed_of_a_moving_object.sce"
		   ]
		  },
  {
"cell_type": "code",
	   "execution_count": null,
	   "metadata": {
	    "collapsed": true
	   },
	   "outputs": [],
"source": [
"clc,clear\n",
"//Example 4.14\n",
"//To find linear and angular speed of a moving object\n",
"\n",
"t=0.5 //time in second\n",
"r= 3 //radius in m of the circle\n",
"theta = %pi/3 // central angle in radian\n",
"w = theta/t //angular speed in rad /sec\n",
"v=w*r//linear speed in m/sec\n",
"\n",
"printf('Angular speed= %f radian/sec\n',w)\n",
"printf('Linear speed = %f m/sec',v)\n",
"\n",
"printf('\n\n(or)\n\nAngular speed= %f*pi radian/sec\n',w/%pi)\n",
"printf('Linear speed = %f*pi m/sec',v/%pi)"
   ]
   }
,
{
		   "cell_type": "markdown",
		   "metadata": {},
		   "source": [
			"## Example 4.15: To_find_linear_and_angular_speed_of_a_moving_object.sce"
		   ]
		  },
  {
"cell_type": "code",
	   "execution_count": null,
	   "metadata": {
	    "collapsed": true
	   },
	   "outputs": [],
"source": [
"clc,clear\n",
"//Example 4.15\n",
"//To find linear and angular speed of a moving object\n",
"\n",
"t=2.7 //time in second\n",
"r= 2 //radius in ft of the circle\n",
"s=35 //distance in feet\n",
"\n",
"v=s/t //linear speed in ft/sec\n",
"w=v/r //angular speed in rad /sec\n",
"\n",
"printf('Linear speed = %.2f ft/sec\n',v)\n",
"printf('Angular speed= %.2f radian/sec\n',w)"
   ]
   }
,
{
		   "cell_type": "markdown",
		   "metadata": {},
		   "source": [
			"## Example 4.16: To_find_the_central_angle_swept_by_a_moving_object.sce"
		   ]
		  },
  {
"cell_type": "code",
	   "execution_count": null,
	   "metadata": {
	    "collapsed": true
	   },
	   "outputs": [],
"source": [
"clc,clear\n",
"//Example 4.16\n",
"//To find the central angle swept by a moving object\n",
"\n",
"t=3.1 //time in second\n",
"v= 10 //linear speed in m/sec\n",
"r= 4 //radius in m of the circle\n",
"s=v*t //distance in m\n",
"\n",
"theta = s/r //central angle swept\n",
"printf('central angle swept = %.2f radian',theta)"
   ]
   }
,
{
		   "cell_type": "markdown",
		   "metadata": {},
		   "source": [
			"## Example 4.17: To_find_the_angular_speed_of_larger_gear_interlocked_with_smaller_gear.sce"
		   ]
		  },
  {
"cell_type": "code",
	   "execution_count": null,
	   "metadata": {
	    "collapsed": true
	   },
	   "outputs": [],
"source": [
"clc,clear\n",
"//Example 4.17\n",
"//To find the angular speed of larger gear interlocked with smaller gear\n",
"\n",
"r1=5 //radius of larger gear\n",
"r2=4 //radius smaller gear\n",
"w2=25 //angular speed of smaller gear\n",
"\n",
"// Imagine a particle on outer radii of each gear\n",
"//At any time, for every rotation, circular displacement of each particle is same\n",
"// (or) s1=s2   implies  v1*t=v2*t\n",
"//v1= v2 implies w1*r1=w2*r2\n",
"\n",
"w1=(w2*r2)/r1  //angular speed of larger gear\n",
"printf('Angular speed of larger gear= %.0f rpm ',w1)"
   ]
   }
,
{
		   "cell_type": "markdown",
		   "metadata": {},
		   "source": [
			"## Example 4.1: To_convert_a_degree_measure_to_radians.sce"
		   ]
		  },
  {
"cell_type": "code",
	   "execution_count": null,
	   "metadata": {
	    "collapsed": true
	   },
	   "outputs": [],
"source": [
"clc,clear\n",
"//Example 4.1\n",
"//To convert a degree measure to radians\n",
"\n",
"deg=18  //degree measure\n",
"radian=deg*(%pi/180) //radian measure\n",
"printf('Radian measure is %f rad\n(or)\n',radian)\n",
"printf('Radian measure is (pi/%.0f)rad',1/(radian/%pi))\n",
""
   ]
   }
,
{
		   "cell_type": "markdown",
		   "metadata": {},
		   "source": [
			"## Example 4.2: To_convert_a_radian_measure_to_degree.sce"
		   ]
		  },
  {
"cell_type": "code",
	   "execution_count": null,
	   "metadata": {
	    "collapsed": true
	   },
	   "outputs": [],
"source": [
"clc,clear\n",
"//Example 4.2\n",
"//To convert a radian meeasure to degree\n",
"\n",
"radian=%pi/9  //radian measure\n",
"deg=radian/(%pi/180) //degree measure\n",
"printf('Degree measure is %.0f degree',deg)"
   ]
   }
,
{
		   "cell_type": "markdown",
		   "metadata": {},
		   "source": [
			"## Example 4.3: To_determine_length_of_the_intercepted_arc.sce"
		   ]
		  },
  {
"cell_type": "code",
	   "execution_count": null,
	   "metadata": {
	    "collapsed": true
	   },
	   "outputs": [],
"source": [
"clc,clear\n",
"//Example 4.3\n",
"//To determine length of the intercepted arc\n",
"\n",
"r=2 //radius of circle\n",
"theta=1.2 //central angle in radian\n",
"\n",
"s=r*theta //length of arc\n",
"printf('Length of arc intercepted = %.1f cm',s)"
   ]
   }
,
{
		   "cell_type": "markdown",
		   "metadata": {},
		   "source": [
			"## Example 4.4: To_determine_length_of_the_arc_intercepted.sce"
		   ]
		  },
  {
"cell_type": "code",
	   "execution_count": null,
	   "metadata": {
	    "collapsed": true
	   },
	   "outputs": [],
"source": [
"clc,clear\n",
"//Example 4.4\n",
"//To determine length of the arc intercepted\n",
"\n",
"r=10 //radius of circle\n",
"theta=41*(%pi/180) //central angle in radian\n",
"\n",
"s=r*theta //length of arc\n",
"printf('Length of arc intercepted = %.2f ft',s)"
   ]
   }
,
{
		   "cell_type": "markdown",
		   "metadata": {},
		   "source": [
			"## Example 4.5: To_determine_angle_in_radians_and_degrees.sce"
		   ]
		  },
  {
"cell_type": "code",
	   "execution_count": null,
	   "metadata": {
	    "collapsed": true
	   },
	   "outputs": [],
"source": [
"clc,clear\n",
"//Example 4.5\n",
"//To determine angle in radians and degrees\n",
"\n",
"r=5 //radius of circle\n",
"s=2 //length of arc\n",
"theta = s/r //central angle in radian\n",
"printf('Measure of central angle = %.2f rad\n',theta)\n",
"printf('Measure of central angle = %.2f degree',theta*(180/%pi))"
   ]
   }
,
{
		   "cell_type": "markdown",
		   "metadata": {},
		   "source": [
			"## Example 4.6: To_determine_the_length_of_the_rope.sce"
		   ]
		  },
  {
"cell_type": "code",
	   "execution_count": null,
	   "metadata": {
	    "collapsed": true
	   },
	   "outputs": [],
"source": [
"clc,clear\n",
"//Example 4.6\n",
"//To determine the length of the rope\n",
"\n",
"d=8 //distance between places in feet\n",
"r=2 //radius of cylinder in feet\n",
"//from the figure\n",
"DA=d/2,BE=r\n",
"DE=3 //distance from centre of container to wall\n",
"\n",
"AE=sqrt(DE^2 + DA^2) //pythagoras theorem\n",
"AB=sqrt(AE^2 - BE^2) //pythagoras theorem\n",
"\n",
"//all angles below are in radians\n",
"angle_AED = atan((d/2)/DE)\n",
"angle_AEB = acos(BE/AE)\n",
"angle_BEC = %pi - (angle_AED + angle_AEB)\n",
"arc_BC = BE*angle_BEC //length of arc BC\n",
"L = 2*(AB + arc_BC) //length of rope\n",
"printf('Length of the rope = %.1f ft',L)"
   ]
   }
,
{
		   "cell_type": "markdown",
		   "metadata": {},
		   "source": [
			"## Example 4.7: To_determine_the_length_of_the_belt_around_the_pulleys.sce"
		   ]
		  },
  {
"cell_type": "code",
	   "execution_count": null,
	   "metadata": {
	    "collapsed": true
	   },
	   "outputs": [],
"source": [
"clc,clear\n",
"//Example 4.7\n",
"//To determine the length of the belt around the pulleys\n",
"\n",
"AE= 5 //radius of first pulley in cm\n",
"BF= 8 //radius of second pulley in cm\n",
"AB=15 //distance between centre of pulleys in cm\n",
"\n",
"//from the figure\n",
"CF=AE //parallel side of rectangle ACFE\n",
"BC= BF- CF\n",
"AC = sqrt(AB^2 - BC^2) //by pythagoras theorem\n",
"EF=AC//parallel side of rectangle ACFE\n",
"\n",
"angle_EAC = %pi/2\n",
"angle_BAC = asin(BC/AB)\n",
"angle_DAE = %pi -  angle_EAC - angle_BAC\n",
"angle_ABC = angle_DAE //AE and BF are parallel\n",
"angle_GBF= %pi - angle_ABC\n",
"\n",
"arc_DE=AE*angle_ABC //length of arc DE\n",
"arc_FG=BF*angle_GBF //length of arc FG\n",
"L=2*(arc_DE + EF + arc_FG) //length of belt\n",
"printf('Length of belt around pulley = %f cm',L)"
   ]
   }
,
{
		   "cell_type": "markdown",
		   "metadata": {},
		   "source": [
			"## Example 4.8: To_find_the_area_of_sector_of_circle.sce"
		   ]
		  },
  {
"cell_type": "code",
	   "execution_count": null,
	   "metadata": {
	    "collapsed": true
	   },
	   "outputs": [],
"source": [
"clc,clear\n",
"//Example 4.8\n",
"//To find the area of sector of circle \n",
"\n",
"theta= %pi/5 //angle in radian\n",
"r=4 //radius in cm\n",
"A=r*r*theta/2 //Area of sector\n",
"printf('Area of sector = %.1f*pi cm^2\n(or)\n',A/%pi)\n",
"printf('Area of sector = %f cm^2',A)"
   ]
   }
,
{
		   "cell_type": "markdown",
		   "metadata": {},
		   "source": [
			"## Example 4.9: To_determine_area_of_sector_of_a_circle.sce"
		   ]
		  },
  {
"cell_type": "code",
	   "execution_count": null,
	   "metadata": {
	    "collapsed": true
	   },
	   "outputs": [],
"source": [
"clc,clear\n",
"//Example 4.9\n",
"//To determine area of sector of a circle \n",
"\n",
"theta= 117*(%pi/180) //angle in radian\n",
"r=3.5 //radius in m\n",
"A=r*r*theta/2 //Area of sector\n",
"printf('Area of sector = %.2f m^2',A)"
   ]
   }
],
"metadata": {
		  "kernelspec": {
		   "display_name": "Scilab",
		   "language": "scilab",
		   "name": "scilab"
		  },
		  "language_info": {
		   "file_extension": ".sce",
		   "help_links": [
			{
			 "text": "MetaKernel Magics",
			 "url": "https://github.com/calysto/metakernel/blob/master/metakernel/magics/README.md"
			}
		   ],
		   "mimetype": "text/x-octave",
		   "name": "scilab",
		   "version": "0.7.1"
		  }
		 },
		 "nbformat": 4,
		 "nbformat_minor": 0
}
