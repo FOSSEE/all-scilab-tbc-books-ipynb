{
"cells": [
 {
		   "cell_type": "markdown",
	   "metadata": {},
	   "source": [
       "# Chapter 6: Additional Topics"
	   ]
	},
{
		   "cell_type": "markdown",
		   "metadata": {},
		   "source": [
			"## Example 6.10: To_represent_given_complex_number_in_trigonometric_form.sce"
		   ]
		  },
  {
"cell_type": "code",
	   "execution_count": null,
	   "metadata": {
	    "collapsed": true
	   },
	   "outputs": [],
"source": [
"clc,clear\n",
"//Example 6.10\n",
"//To represent given complex number in trigonometric form\n",
"\n",
"z=-2 + -1*%i ;//given number\n",
"x=real(z) ;//real part \n",
"y=imag(z) ;//imaginary part\n",
"\n",
"//theta is in third quadrant as x and y are -ve\n",
"theta=180 + atand(y/x);\n",
"r=sqrt(x^2+y^2) ;//modulus of z\n",
"printf('z= %f + i* %f  can be written as: \n',real(z),imag(z))\n",
"printf('z = sqrt(%.0f)*(cos(%.1f)+i*sin(%.1f))',r^2,theta,theta)\n",
""
   ]
   }
,
{
		   "cell_type": "markdown",
		   "metadata": {},
		   "source": [
			"## Example 6.11: To_determine_product_and_ratio_of_complex_numbers_using_formula.sce"
		   ]
		  },
  {
"cell_type": "code",
	   "execution_count": null,
	   "metadata": {
	    "collapsed": true
	   },
	   "outputs": [],
"source": [
"clc,clear\n",
"//Example 6.11\n",
"//To determine product and ratio of complex numbers using formula\n",
"\n",
"//given values \n",
"z1 = 6*(cosd(70)+ %i*sind(70));\n",
"z2 = 2*(cosd(31)+ %i*sind(31));\n",
"\n",
"//arguements of complex numbers\n",
"theta1=phasemag(z1);\n",
"theta2=phasemag(z2);\n",
"//modulus of complex numbers\n",
"r1=abs(z1);\n",
"r2=abs(z2);\n",
"theta_1p2 =theta1 + theta2  ;//theta1 + theta 2\n",
"theta_1m2 =theta1 - theta2  ;//theta1 - theta 2\n",
"//according to the formula used in book\n",
"product = r1*r2*(cosd(theta_1p2)+%i*sind(theta_1p2));\n",
"ratio = (r1/r2)*(cosd(theta_1m2)+%i*sind(theta_1m2));\n",
"\n",
"printf('z1*z2 = %.0f*(cos(%.0f)+i*sin(%.0f))\n',r1*r2,phasemag(product),phasemag(product))\n",
"printf('z1/z2 = %.0f*(cos(%.0f)+i*sin(%.0f))\n',r1/r2,phasemag(ratio),phasemag(ratio))"
   ]
   }
,
{
		   "cell_type": "markdown",
		   "metadata": {},
		   "source": [
			"## Example 6.12: To_find_higher_powers_of_complex_number_using_demoivre_theorem.sce"
		   ]
		  },
  {
"cell_type": "code",
	   "execution_count": null,
	   "metadata": {
	    "collapsed": true
	   },
	   "outputs": [],
"source": [
"clc,clear\n",
"//Example 6.12\n",
"//To find higher powers of complex number using demoivre theorem\n",
"\n",
"z= complex(1,1);\n",
"r= abs(z);//modulus of z\n",
"theta=phasemag(z) ;//arguement of z\n",
"power=10;\n",
"//using demoivre formula\n",
"answer= (r^power)*(cosd(theta*power)+%i*sind(theta*power));\n",
"//printf('(1+i)^10 = (%.0f)*(cos(%.0f)+ i*sin(%.0f))',r^power,theta*power,theta*power);\n",
"printf('\n %.0f + %.0f*i',real(answer),imag(answer));\n",
"printf('\n(OR)\n %.0f*i',imag(answer));"
   ]
   }
,
{
		   "cell_type": "markdown",
		   "metadata": {},
		   "source": [
			"## Example 6.13: To_determine_the_cube_roots_of_i.sce"
		   ]
		  },
  {
"cell_type": "code",
	   "execution_count": null,
	   "metadata": {
	    "collapsed": true
	   },
	   "outputs": [],
"source": [
"clc,clear\n",
"//Example 6.13\n",
"//To determine the cube roots of i\n",
"\n",
"z=%i //given complex number\n",
"//modulii for cuberoots\n",
"r1=abs(z)^(1/3)\n",
"r2=abs(z)^(1/3)\n",
"r3=abs(z)^(1/3)\n",
"\n",
"//arguements for cuberoots\n",
"theta1= (phasemag(z)+360*0)/3\n",
"theta2= (phasemag(z)+360*1)/3\n",
"theta3= (phasemag(z)+360*2)/3\n",
"\n",
"cube_root_1 = r1 *(cosd(theta1)+ %i*sind(theta1))\n",
"cube_root_2 = r2 *(cosd(theta2)+ %i*sind(theta2))\n",
"cube_root_3 = r3 *(cosd(theta3)+ %i*sind(theta3))\n",
"\n",
"printf('cuberoot 1: %f + %f*i\n',real(cube_root_1),imag(cube_root_1))\n",
"printf('cuberoot 2: %f + %f*i\n',real(cube_root_2),imag(cube_root_2))\n",
"printf('cuberoot 3: %f + %f*i\n',real(cube_root_3),imag(cube_root_3))"
   ]
   }
,
{
		   "cell_type": "markdown",
		   "metadata": {},
		   "source": [
			"## Example 6.15: To_convert_from_polar_to_cartesian_coordinates.sce"
		   ]
		  },
  {
"cell_type": "code",
	   "execution_count": null,
	   "metadata": {
	    "collapsed": true
	   },
	   "outputs": [],
"source": [
"clc,clear\n",
"//Example 6.15\n",
"//To convert from polar to cartesian coordinates\n",
"\n",
"//part(a)\n",
"r=2 ;\n",
"theta=30 ;\n",
"x=r*cosd(theta) ;\n",
"y=r*sind(theta) ;\n",
"printf('(a)(x,y)= (%f,%f)\n',x,y) ;\n",
"\n",
"//part(b)\n",
"r=3 ;\n",
"theta=3*%pi/4 ;\n",
"x=r*cos(theta) ;\n",
"y=r*sin(theta) ;\n",
"printf('(b)(x,y)= (%f,%f)\n',x,y) ;\n",
"\n",
"//part(c)\n",
"r=-1 ;\n",
"theta=5*%pi/3 ;\n",
"x=r*cos(theta) ;\n",
"y=r*sin(theta) ;\n",
"printf('(c)(x,y)= (%f,%f)',x,y) ;"
   ]
   }
,
{
		   "cell_type": "markdown",
		   "metadata": {},
		   "source": [
			"## Example 6.16: To_convert_from_cartesian_to_polar_coordinates.sce"
		   ]
		  },
  {
"cell_type": "code",
	   "execution_count": null,
	   "metadata": {
	    "collapsed": true
	   },
	   "outputs": [],
"source": [
"clc,clear\n",
"//Example 6.16\n",
"//To convert from cartesian to polar coordinates\n",
"\n",
"//part(a)\n",
"x=3 ;\n",
"y=4 ;\n",
"\n",
"//53.13 is in same quadrant as(3,4)\n",
"r=sqrt(x^2+y^2) ;\n",
"theta=atand(y/x) ;\n",
"printf('PART A\n(r,theta)= %f,%f',r,theta) ;\n",
"printf('\nOR\n') ;\n",
"r=-sqrt(x^2+y^2) ;\n",
"//tan theta is +ve in 3rd quadrant\n",
"//so 180 + 53.33 is also a permissible value \n",
"theta=180 + atand(y/x) ;\n",
"printf('(r,theta)= %f,%f',r,theta) ;\n",
"\n",
"//part(b)\n",
"x=-5 ;\n",
"y=-5 ;\n",
"\n",
"//225 is in same quadrant as(-5,-5)\n",
"//tan theta is +ve in 3rd quadrant\n",
"r=sqrt(x^2+y^2) ;\n",
"theta=180+ atand(y/x) ;\n",
"printf('\n\nPART B\n(r,theta)= %f,%f',r,theta) ;\n",
"printf('\nOR\n') ;\n",
"r=-sqrt(x^2+y^2) ;\n",
"theta= atand(y/x) ;\n",
"printf('(r,theta)= %f,%f',r,theta) ;"
   ]
   }
,
{
		   "cell_type": "markdown",
		   "metadata": {},
		   "source": [
			"## Example 6.17: To_express_an_equation_in_polar_coordinates.sce"
		   ]
		  },
  {
"cell_type": "code",
	   "execution_count": null,
	   "metadata": {
	    "collapsed": true
	   },
	   "outputs": [],
"source": [
"clc,clear\n",
"//Example 6.17\n",
"//to express an equation in polar coordinates\n",
"\n",
"RHS=9 ;\n",
"//Note that LHS is basically an equation of circle\n",
"//But at any instant , it is numberically same as 9\n",
"LHS_numerically=RHS  ;\n",
"r=sqrt(LHS_numerically) ;\n",
"\n",
"printf('The equation in terms of polar coordinates is : r =%.0f',r)"
   ]
   }
,
{
		   "cell_type": "markdown",
		   "metadata": {},
		   "source": [
			"## Example 6.19: To_express_an_equation_in_polar_coordinates.sce"
		   ]
		  },
  {
"cell_type": "code",
	   "execution_count": null,
	   "metadata": {
	    "collapsed": true
	   },
	   "outputs": [],
"source": [
"clc,clear\n",
"//Example 6.19\n",
"//to express an equation in polar coordinates\n",
"\n",
"//Given equation is : y=x\n",
"y_by_x =1; //ratio of y and x\n",
"tan_theta = y_by_x;\n",
"theta=atand(tan_theta); //azimuth angle\n",
"\n",
"printf('The given equation in polar coordinates is :  theta = %.0f degree\n',theta)\n",
"printf('\nNote: Polar form is same regardless of value of r ')"
   ]
   }
,
{
		   "cell_type": "markdown",
		   "metadata": {},
		   "source": [
			"## Example 6.3: To_solve_the_given_equation.sce"
		   ]
		  },
  {
"cell_type": "code",
	   "execution_count": null,
	   "metadata": {
	    "collapsed": true
	   },
	   "outputs": [],
"source": [
"clc,clear\n",
"//Example 6.3\n",
"//To solve the given equation\n",
"\n",
"sec_theta = 1/2\n",
"cos_theta = 1 / sec_theta\n",
"printf('cos(theta) = %f as calculated\n',cos_theta)\n",
"printf('But value of cos function can never exceed unity\n')\n",
"printf('Thus, NO SOLUTION exists')"
   ]
   }
,
{
		   "cell_type": "markdown",
		   "metadata": {},
		   "source": [
			"## Example 6.4: To_solve_the_given_equation.sce"
		   ]
		  },
  {
"cell_type": "code",
	   "execution_count": null,
	   "metadata": {
	    "collapsed": true
	   },
	   "outputs": [],
"source": [
"clc,clear\n",
"//Example 6.4\n",
"//To solve the given equation\n",
"\n",
"//Given equation is cos_theta = tan_theta\n",
"//simplyfying given equation, we get\n",
"//(sin_theta)^2 + sin_theta - 1 = 0\n",
"//Solve for sin_theta as follows\n",
"p=[1 1 -1]\n",
"sin_theta= roots(p)\n",
"printf('Values of sin(theta) after simplifying and solving = %f and %f\n',sin_theta(1),sin_theta(2))\n",
"printf('Eliminate %f as sin_theta cant be below -1',sin_theta(1))\n",
"\n",
"//Since sin_theta is +ve, 2 solutions exist. in 1st and 2nd quadrant\n",
"theta_1=asin(sin_theta(2));  //in 1st quadrant\n",
"theta_2=%pi-asin(sin_theta(2));//the reflection in 2nd quadrant\n",
"\n",
"printf('\n\nSOLUTIONS:\n')\n",
"printf('%f radians\n%f radians',theta_1,theta_2)\n",
"\n",
"printf('\n\nGENERAL SOLUTIONS:\n')\n",
"printf('%f + integer multiples of 2pi \n',theta_1)\n",
"printf('%f + integer multiples of 2pi \n',theta_2)"
   ]
   }
,
{
		   "cell_type": "markdown",
		   "metadata": {},
		   "source": [
			"## Example 6.9: To_find_the_result_of_basic_operations_on_2_given_complex_numbers.sce"
		   ]
		  },
  {
"cell_type": "code",
	   "execution_count": null,
	   "metadata": {
	    "collapsed": true
	   },
	   "outputs": [],
"source": [
"clc,clear\n",
"//Example 6.9\n",
"//To find the result of basic operations on 2 given complex numbers\n",
"\n",
"z1 = complex(-2,3)\n",
"z2 = complex(3,4)\n",
"\n",
"summ = z1+z2\n",
"difference = z1-z2\n",
"product = z1*z2\n",
"ratio = z1/z2\n",
"mag_z1= abs(z1) //modulus of z1\n",
"mag_z2= abs(z2)//modulus of z2\n",
"//printf('Note: Please go through complex nos scilab syntaxes to comprehend this example code\n\n')\n",
"printf('z1 + z2 = %.0f + %.0f*i\n',real(summ),imag(summ))\n",
"printf('z1 - z2 = %.0f + %.0f*i\n',real(difference),imag(difference))\n",
"printf('z1 * z2 = %.0f + %.0f*i\n',real(product),imag(product))\n",
"printf('z1 / z2 = %f + %f*i\n',real(ratio),imag(ratio))\n",
"printf('|z1|= sqrt(%.0f)= %f \n',mag_z1^2,mag_z1)\n",
"printf('|z2| = %.0f',mag_z2)"
   ]
   }
],
"metadata": {
		  "kernelspec": {
		   "display_name": "Scilab",
		   "language": "scilab",
		   "name": "scilab"
		  },
		  "language_info": {
		   "file_extension": ".sce",
		   "help_links": [
			{
			 "text": "MetaKernel Magics",
			 "url": "https://github.com/calysto/metakernel/blob/master/metakernel/magics/README.md"
			}
		   ],
		   "mimetype": "text/x-octave",
		   "name": "scilab",
		   "version": "0.7.1"
		  }
		 },
		 "nbformat": 4,
		 "nbformat_minor": 0
}
