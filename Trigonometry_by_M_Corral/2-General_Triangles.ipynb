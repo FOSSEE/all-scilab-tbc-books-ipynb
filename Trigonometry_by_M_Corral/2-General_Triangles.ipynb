{
"cells": [
 {
		   "cell_type": "markdown",
	   "metadata": {},
	   "source": [
       "# Chapter 2: General Triangles"
	   ]
	},
{
		   "cell_type": "markdown",
		   "metadata": {},
		   "source": [
			"## Example 2.10: To_solve_the_triangle_when_2_sides_and_included_angle_is_given.sce"
		   ]
		  },
  {
"cell_type": "code",
	   "execution_count": null,
	   "metadata": {
	    "collapsed": true
	   },
	   "outputs": [],
"source": [
"//Example 2.10\n",
"//To solve the triangle when 2 sides and included angle is given\n",
"clc,clear\n",
"\n",
"a=5 //side oposite to vertex a\n",
"b=3 //side opposite to vertex b\n",
"C=96 //angle at vertex C\n",
"\n",
"ApB=180-C //A + B\n",
"//using law of tangents\n",
" AmB =2* atand(  tand(ApB/2)*(a-b)/(a+b) )  //A-B\n",
"\n",
"//solving for A and B using AmB and ApB\n",
"A= (AmB + ApB)/2\n",
"B=  ApB - A\n",
"\n",
"c=a*sind(C)/sind(A) //law of sines\n",
"printf('Angle A= %.1f degree\nAngle B=%.1f degree\nlength of c=%.2f units',A,B,c)"
   ]
   }
,
{
		   "cell_type": "markdown",
		   "metadata": {},
		   "source": [
			"## Example 2.11: To_check_the_solution_of_triangle_using_Mollweide_equation.sce"
		   ]
		  },
  {
"cell_type": "code",
	   "execution_count": null,
	   "metadata": {
	    "collapsed": true
	   },
	   "outputs": [],
"source": [
"//Example 2.11\n",
"//To check the solution of triangle using Mollweide equation\n",
"clc,clear\n",
"\n",
"c=6.09 //side oposite to vertex C\n",
"a=5 //side opposite to vertex A\n",
"b=3 //side opposite to vertex B\n",
"\n",
"A=54.7 //angle at vertex A\n",
"B=29.3 //angle at vertex B\n",
"C=96 //angle at vertex C\n",
"\n",
"LHS = (a-b)/c\n",
"RHS = sind((A-B)/2)/cosd(C/2)\n",
"printf(' LHS =  (a-b)/c               = %.4f\n',LHS)\n",
"printf('  RHS =  sin((A-B)/2)/cos(C/2) = %.4f\n\n',RHS)\n",
"\n",
"printf('Small difference in LHS and RHS is due to rounding off.\ni.e.Mollweides equation is holding true.\n')\n",
"printf('THE SOLUTION OF TRIANGLE IS CORRECT')"
   ]
   }
,
{
		   "cell_type": "markdown",
		   "metadata": {},
		   "source": [
			"## Example 2.12: To_determine_if_a_triangle_can_be_formed_with_given_dimension.sce"
		   ]
		  },
  {
"cell_type": "code",
	   "execution_count": null,
	   "metadata": {
	    "collapsed": true
	   },
	   "outputs": [],
"source": [
"//Example 2.12\n",
"//To determine if a triangle can be formed with given dimension\n",
"clc,clear\n",
"\n",
"c=9 //side oposite to vertex C\n",
"a=6 //side opposite to vertex A\n",
"b=7 //side opposite to vertex B\n",
"\n",
"A=55 //angle at vertex A\n",
"B=60 //angle at vertex B\n",
"C=65 //angle at vertex C\n",
"printf('Sum of angles=180\n')\n",
"printf('Smallest and largest sides are opposite to smallest and largest angle respectively\n\n')\n",
"\n",
"LHS = (a+b)/c\n",
"RHS = cosd((A-B)/2)/sind(C/2)\n",
"printf(' LHS =  (a+b)/c               = %.2f\n',LHS)\n",
"printf(' RHS =  cos((A-B)/2)/sin(C/2) = %.2f\n\n',RHS)\n",
"\n",
"printf('As we can see, LHS is not equal to RHS.\ni.e.Mollweides equation is not holding true.\n')\n",
"printf('THE TRIANGLE IS NOT POSSIBLE WITH GIVEN DIMENSIONS')"
   ]
   }
,
{
		   "cell_type": "markdown",
		   "metadata": {},
		   "source": [
			"## Example 2.13: To_determine_area_of_triangle_when_2_sides_and_an_angle_is_given.sce"
		   ]
		  },
  {
"cell_type": "code",
	   "execution_count": null,
	   "metadata": {
	    "collapsed": true
	   },
	   "outputs": [],
"source": [
"//Example 2.13\n",
"//To determine area of triangle when 2 sides and an angle is given\n",
"clc,clear\n",
"\n",
"c=7 //side oposite to vertex C\n",
"A=33 //angle at vertex A\n",
"b=5 //side opposite to vertex B\n",
"\n",
"area_K = b*c*sind(A)/2\n",
"printf('Area of triangle ABC = %.2f square units',area_K)"
   ]
   }
,
{
		   "cell_type": "markdown",
		   "metadata": {},
		   "source": [
			"## Example 2.14: To_determine_area_of_triangle_when_3_angles_and_a_side_is_given.sce"
		   ]
		  },
  {
"cell_type": "code",
	   "execution_count": null,
	   "metadata": {
	    "collapsed": true
	   },
	   "outputs": [],
"source": [
"//Example 2.14\n",
"//To determine area of triangle when 3 angles and a side is given\n",
"clc,clear\n",
"\n",
"A=115 //angle at vertex A\n",
"a=12 //side opposite to vertex A\n",
"B=25 //angle at vertex B\n",
"C=40 //angle at vertex C\n",
"\n",
"area_K = a^2*sind(B)*sind(C)/(2*sind(A))\n",
"printf('Area of triangle ABC = %.2f square units',area_K)"
   ]
   }
,
{
		   "cell_type": "markdown",
		   "metadata": {},
		   "source": [
			"## Example 2.15: To_determine_area_of_triangle_when_3_sides_are_given.sce"
		   ]
		  },
  {
"cell_type": "code",
	   "execution_count": null,
	   "metadata": {
	    "collapsed": true
	   },
	   "outputs": [],
"source": [
"//Example 2.15\n",
"//To determine area of triangle when 3 sides are given\n",
"clc,clear\n",
"\n",
"c=7 //side oposite to vertex C\n",
"a=5 //side opposite to vertex A\n",
"b=4 //side opposite to vertex B\n",
"\n",
"s= (a+b+c)/2  //semi perimeter\n",
"area_K = sqrt(s*(s-a)*(s-b)*(s-c)) //using herons formula\n",
"printf('Area of triangle ABC = %.2f square units',area_K)"
   ]
   }
,
{
		   "cell_type": "markdown",
		   "metadata": {},
		   "source": [
			"## Example 2.16: To_determine_area_of_triangle_when_3_sides_are_given.sce"
		   ]
		  },
  {
"cell_type": "code",
	   "execution_count": null,
	   "metadata": {
	    "collapsed": true
	   },
	   "outputs": [],
"source": [
"//Example 2.16\n",
"//To determine area of triangle when 3 sides are given\n",
"clc,clear\n",
"\n",
"c=0.0000029 //side oposite to vertex C\n",
"a=1000000 //side opposite to vertex A\n",
"b=999999.9999979 //side opposite to vertex B\n",
"\n",
"s= (a+b+c)/2  //semi perimeter\n",
"area_K = sqrt(s*(s-a)*(s-b)*(s-c)) //using herons formula\n",
"printf('Area of triangle ABC = %.3f square units\n\n',area_K)\n",
"\n",
"printf('Note:\n')\n",
"printf('In calculators like TI-83 plus, due to rounding off etc s will be 1000000\n')\n",
"printf('Therefore (s-a) is zero. And area will be zero according to herons formula\n')\n",
"printf('Due to large number of digits in scilab,(s-a) is not zero. Thus, area is non-zero above.')"
   ]
   }
,
{
		   "cell_type": "markdown",
		   "metadata": {},
		   "source": [
			"## Example 2.17: To_find_radius_of_circumscribed_circle_for_triangle_ABC.sce"
		   ]
		  },
  {
"cell_type": "code",
	   "execution_count": null,
	   "metadata": {
	    "collapsed": true
	   },
	   "outputs": [],
"source": [
"//Example 2.17\n",
"//To find radius of circumscribed circle for triangle ABC\n",
"clc,clear\n",
"\n",
"c=5//side oposite to vertex C\n",
"a=3//side opposite to vertex A\n",
"b=4//side opposite to vertex B\n",
"\n",
"cos_A = (c^2+b^2-a^2)/(2*c*b) //from law of cosines\n",
"A= acosd(cos_A)\n",
"diameter=(a/sind(A))\n",
"radius = diameter/2\n",
"printf('Radius of circumscribed circle = %.1f units \n',radius)\n",
"printf('\nNote :\n Diameter is same as AB i.e. c... So centre of circle is mipoint of AB')"
   ]
   }
,
{
		   "cell_type": "markdown",
		   "metadata": {},
		   "source": [
			"## Example 2.18: To_find_the_radius_of_circumscribed_circle_for_triangle_ABC.sce"
		   ]
		  },
  {
"cell_type": "code",
	   "execution_count": null,
	   "metadata": {
	    "collapsed": true
	   },
	   "outputs": [],
"source": [
"//Example 2.18\n",
"//To find the radius of circumscribed circle for triangle ABC\n",
"clc,clear\n",
"\n",
"c=4 //side oposite to vertex C\n",
"a=2 //side opposite to vertex A\n",
"b=3 //side opposite to vertex B\n",
"\n",
"cos_A = (c^2+b^2-a^2)/(2*c*b) //from law of cosines\n",
"A= acosd(cos_A)\n",
"diameter=(a/sind(A))\n",
"radius = diameter/2\n",
"printf('Radius of circumscribed circle = %.2f units \n\n',radius)\n",
"\n",
"//To draw the triangle\n",
"printf('NOTE:\nPROCEDURE TO DRAW THE TRIANGLE ABC\n')\n",
"printf('Use a ruler to draw the longest side AB of length c = 4.\n')\n",
"printf('Use a compass to draw arcs of radius 3 and 2 centered at A and B respectively.\n')\n",
"printf('The intersection of the arcs is the vertex C.\n\n')\n",
"\n",
"//To draw the circumscribed circle\n",
"printf('PROCEDURE TO DRAW CIRCUMSCRIBED CIRCLE\n')\n",
"printf('Draw the perpendicular bisectors of AB and AC.\n')\n",
"printf('Their intersection is the center O of the circle.\n')\n",
"printf('Use a compass to draw the circle centered at O which passes through A.')\n",
""
   ]
   }
,
{
		   "cell_type": "markdown",
		   "metadata": {},
		   "source": [
			"## Example 2.19: To_determine_radius_of_inscribed_circle_ABC.sce"
		   ]
		  },
  {
"cell_type": "code",
	   "execution_count": null,
	   "metadata": {
	    "collapsed": true
	   },
	   "outputs": [],
"source": [
"//Example 2.19\n",
"//To determine radius of inscribed circle ABC\n",
"clc,clear\n",
"\n",
"c=4 //side oposite to vertex C\n",
"a=2 //side opposite to vertex A\n",
"b=3 //side opposite to vertex B\n",
"\n",
"s= (a+b+c)/2  //semi perimeter\n",
"radius_r = sqrt((s-a)*(s-b)*(s-c)/s) \n",
"printf('Radius of inscribed circle is %.3f units= sqrt(5/12)units ',radius_r)\n",
"printf('\n\nNote:To obtain inscribed circle:\n(1)Intersect perpendicular bisectors of A and B\n')\n",
"printf('(2)Point of intersection is the centre of circle\n')\n",
"printf('(3)The radius is 0.645 as caculated above\n')\n",
"printf('(4)Using a compass draw a circle with this centre\n')"
   ]
   }
,
{
		   "cell_type": "markdown",
		   "metadata": {},
		   "source": [
			"## Example 2.1: To_solve_the_triangle_when_one_side_and_2_angles_are_given.sce"
		   ]
		  },
  {
"cell_type": "code",
	   "execution_count": null,
	   "metadata": {
	    "collapsed": true
	   },
	   "outputs": [],
"source": [
"//Example 2.1\n",
"//To solve the triangle when one side and 2 angles are given\n",
"clc,clear\n",
"\n",
"a=10 //side opposite to vertex A\n",
"A=41 //angle at vertex A\n",
"C=75 //angle at vertex C\n",
"\n",
"B=180- (A+C)\n",
"b=a*sind(B)/sind(A) //law of sines\n",
"c=a*sind(C)/sind(A) //law of sines\n",
"printf('Angle B is %.0f degrees\n length of side b is %.1f units\n length of side c is %.1f units',B,b,c)"
   ]
   }
,
{
		   "cell_type": "markdown",
		   "metadata": {},
		   "source": [
			"## Example 2.2: To_solve_the_triangle_when_2_sides_and_one_opposite_angle_is_given.sce"
		   ]
		  },
  {
"cell_type": "code",
	   "execution_count": null,
	   "metadata": {
	    "collapsed": true
	   },
	   "outputs": [],
"source": [
"//Example 2.2\n",
"//To solve the triangle when 2 sides and one opposite angle is given\n",
"clc,clear\n",
"\n",
"a=18 //side oposite to vertex A\n",
"A=25 //angle at vertex A\n",
"b=30 //side opposite to vertex B\n",
"\n",
"sin_B=(b/a)*sind(A) //law of sines\n",
"\n",
"//case 1\n",
"B=asind(sin_B)   //law of sines\n",
"C=180-(A+B)\n",
"c=a*sind(C)/sind(A) //law of sines\n",
"printf('1st possible solution set\nAngle at B =%.1f degree\nAngle at C=%.1f degree\nlength of side c=%.0f units\n',B,C,c)\n",
"\n",
"//case 2\n",
"B=180 - asind(sin_B)  //law of sines\n",
"C=180-(A+B)\n",
"c=a*sind(C)/sind(A)  //law of sines\n",
"printf('\n\n2nd possible solution set\nAngle at B =%.1f degree\nAngle at C=%.1f degree\nlength of side c=%.1f units\n',B,C,c)"
   ]
   }
,
{
		   "cell_type": "markdown",
		   "metadata": {},
		   "source": [
			"## Example 2.3: To_solve_the_triangle_when_2_sides_and_opposite_angle_is_given.sce"
		   ]
		  },
  {
"cell_type": "code",
	   "execution_count": null,
	   "metadata": {
	    "collapsed": true
	   },
	   "outputs": [],
"source": [
"//Example 2.3\n",
"//To solve the triangle when 2 sides and opposite angle is given\n",
"clc,clear\n",
"\n",
"a=5 //side oposite to vertex A\n",
"A=30 //angle at vertex A\n",
"b=12 //side opposite to vertex B\n",
"\n",
"sin_B=(b/a)*sind(A) //law of sines\n",
"printf('sin(B)=%f.  But magnitude of sin(B) should be less than 1\nHence,there is no solution',sin_B)"
   ]
   }
,
{
		   "cell_type": "markdown",
		   "metadata": {},
		   "source": [
			"## Example 2.4: To_solve_the_triangle_when_2_sides_and_angle_between_them_is_given.sce"
		   ]
		  },
  {
"cell_type": "code",
	   "execution_count": null,
	   "metadata": {
	    "collapsed": true
	   },
	   "outputs": [],
"source": [
"//Example 2.4\n",
"//To solve the triangle when 2 sides and angle between them is given\n",
"clc,clear\n",
"\n",
"c=5 //side oposite to vertex C\n",
"A=30 //angle at vertex A\n",
"b=4 //side opposite to vertex B\n",
"\n",
"printf('By law of sines:\n')\n",
"printf('a/sin(30) = 4/sin(B) = 5 / sin(C)\n')\n",
"printf('\nEach of the equations has 2 unknowns.')\n",
"printf('\nFor eg: To obtain a , we can use 4/sin(B)=5/sin(C). Next we obtain B interms of C and put back.\n')\n",
"printf('Now we have a in terms of C which is unknown\n')\n",
"printf('Hence it is IMPOSSIBLE to solve this by law of sines')"
   ]
   }
,
{
		   "cell_type": "markdown",
		   "metadata": {},
		   "source": [
			"## Example 2.5: To_solve_the_triangle_when_2_sides_and_angle_between_them_is_given.sce"
		   ]
		  },
  {
"cell_type": "code",
	   "execution_count": null,
	   "metadata": {
	    "collapsed": true
	   },
	   "outputs": [],
"source": [
"//Example 2.5\n",
"//To solve the triangle when 2 sides and angle between them is given\n",
"clc,clear\n",
"\n",
"c=5 //side oposite to vertex C\n",
"A=30 //angle at vertex A\n",
"b=4 //side opposite to vertex B\n",
"\n",
"a = sqrt( b^2 + c^2 -2*b*c*cosd(A) ) //from law of cosines\n",
"printf('Length of a= %.2f units\n',a)\n",
"cos_B = (c^2+a^2-b^2)/(2*c*a) //from law of cosines\n",
"B=acosd(cos_B)\n",
"printf('Angle B=%.1f degrees\n',B)\n",
"C=180-(A+B)\n",
"printf('Angle C=%.1f degrees\n',C)"
   ]
   }
,
{
		   "cell_type": "markdown",
		   "metadata": {},
		   "source": [
			"## Example 2.6: To_solve_the_triangle_when_3_sides_are_given.sce"
		   ]
		  },
  {
"cell_type": "code",
	   "execution_count": null,
	   "metadata": {
	    "collapsed": true
	   },
	   "outputs": [],
"source": [
"//Example 2.6\n",
"//To solve the triangle when 3 sides are given\n",
"clc,clear\n",
"\n",
"c=4 //side oposite to vertex C\n",
"a=2 //side opposite to vertex A\n",
"b=3 //side opposite to vertex B\n",
"\n",
"cos_B = (c^2+a^2-b^2)/(2*c*a) //from law of cosines\n",
"B=acosd(cos_B)\n",
"printf('Angle B=%.1f degrees\n',B)\n",
"cos_C = (b^2+a^2-c^2)/(2*b*a) //from law of cosines\n",
"C=acosd(cos_C)\n",
"printf('Angle C=%.1f degrees\n',C)\n",
"\n",
"A=180-(C+B)\n",
"printf('Angle A=%f degrees',A)"
   ]
   }
,
{
		   "cell_type": "markdown",
		   "metadata": {},
		   "source": [
			"## Example 2.7: To_determine_solution_of_a_triangle_when_3_sides_are_given.sce"
		   ]
		  },
  {
"cell_type": "code",
	   "execution_count": null,
	   "metadata": {
	    "collapsed": true
	   },
	   "outputs": [],
"source": [
"//Example 2.7\n",
"//To determine solution of a triangle when 3 sides are given\n",
"clc,clear\n",
"\n",
"c=6 //side oposite to vertex C\n",
"a=2 //side opposite to vertex A\n",
"b=3 //side opposite to vertex B\n",
"\n",
"cos_A = (b^2+c^2-a^2)/(2*c*b) //from law of cosines\n",
"printf('cos(A)=%.3f as calculated\n',cos_A)\n",
"printf('But magnitude of cos(A) should always be less than 1. Hence NO SOLUTION exists\n\n')\n",
"\n",
"printf('Note: We observe that a+b < c. But sum of any 2 sides should always exceed third side.')\n",
"printf('\nHence this triangle is impossible.')"
   ]
   }
,
{
		   "cell_type": "markdown",
		   "metadata": {},
		   "source": [
			"## Example 2.8: To_solve_the_triangle_when_2_sides_and_opposite_angle_is_given.sce"
		   ]
		  },
  {
"cell_type": "code",
	   "execution_count": null,
	   "metadata": {
	    "collapsed": true
	   },
	   "outputs": [],
"source": [
"//Example 2.8\n",
"//To solve the triangle when 2 sides and opposite angle is given\n",
"clc,clear\n",
"\n",
"a=18 //side oposite to vertex A\n",
"A=25 //angle at vertex A\n",
"b=30 //side opposite to vertex B\n",
"\n",
"//using law of cosines solving for c\n",
"c_polynomial=[1 -54.38 576]\n",
"root_c=roots(c_polynomial)\n",
"\n",
"//case 1\n",
"c=root_c(1)\n",
"cos_B = (c^2+a^2-b^2)/(2*c*a) //from law of cosines\n",
"B= (180/%pi)*acos (cos_B)\n",
"C=180-(A+B)\n",
"printf('1st possible answer set\nAngle B=%.1f degree\nAngle C=%.1f degree\nlength of c=%.0f units\n\n',B,C,c)\n",
"\n",
"//case 2\n",
"c=root_c(2)\n",
"cos_B = (c^2+a^2-b^2)/(2*c*a) //from law of cosines\n",
"B=(180/%pi)*acos(cos_B)\n",
"C=180-(A+B)\n",
"printf('2nd possible answer set(which is not solved in book)\nAngle B=%.1f degree\nAngle C=%.1f degree\nlength of c=%.0f units\n',B,C,c)"
   ]
   }
],
"metadata": {
		  "kernelspec": {
		   "display_name": "Scilab",
		   "language": "scilab",
		   "name": "scilab"
		  },
		  "language_info": {
		   "file_extension": ".sce",
		   "help_links": [
			{
			 "text": "MetaKernel Magics",
			 "url": "https://github.com/calysto/metakernel/blob/master/metakernel/magics/README.md"
			}
		   ],
		   "mimetype": "text/x-octave",
		   "name": "scilab",
		   "version": "0.7.1"
		  }
		 },
		 "nbformat": 4,
		 "nbformat_minor": 0
}
