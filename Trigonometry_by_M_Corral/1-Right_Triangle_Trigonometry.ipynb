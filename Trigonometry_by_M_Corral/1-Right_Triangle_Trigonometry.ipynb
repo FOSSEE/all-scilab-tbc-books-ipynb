{
"cells": [
 {
		   "cell_type": "markdown",
	   "metadata": {},
	   "source": [
       "# Chapter 1: Right Triangle Trigonometry"
	   ]
	},
{
		   "cell_type": "markdown",
		   "metadata": {},
		   "source": [
			"## Example 1.10: To_find_sine_cosine_and_tangent_functions_for_75_degree.sce"
		   ]
		  },
  {
"cell_type": "code",
	   "execution_count": null,
	   "metadata": {
	    "collapsed": true
	   },
	   "outputs": [],
"source": [
"clc,clear\n",
"//example 1.10\n",
"//To find sine,cosine and tangent functions for 75 degree\n",
"\n",
"//triangle_ADB, angle_BAD = 30\n",
"AB=sqrt(3);BD=1;\n",
"AD=sqrt(AB^2+BD^2); //pythagoras theorem\n",
"\n",
"//angle_DAB + angle_CAB = 75\n",
"//triangle_ABC, angle_BAC = 45\n",
"//pythagoras theorem and 45 degrees\n",
"AC=AB/sqrt(2);BC=AC; \n",
"\n",
"angle_BAC = 45 ; angle_DAB = 30 ;\n",
"angle_DAE = angle_BAC + angle_DAB ;//required angle\n",
"angle_ADE = 90 - angle_DAE ;//complement of DAE\n",
"angle_ADB = 90 - angle_DAB ;//complement of DAB\n",
"\n",
"//Draw BF perpendicular to DE\n",
"angle_BDF = angle_ADB - angle_ADE;\n",
"angle_DBF = 90 - angle_BDF; //complement of BDF\n",
"//By pythagoras theorem and 45 degree\n",
"DF=sqrt(BD/2);FB=DF; \n",
"\n",
"EC=FB;//parallel sides of rectangle\n",
"FE= BC; //parallel sides of rectangle\n",
"DE=DF+FE;//from the figure\n",
"AE=AC-EC;//from the figure\n",
"\n",
"sin_DAE = DE/AD;\n",
"cos_DAE = AE/AD;\n",
"tan_DAE = DE/AE;\n",
"csc_DAE = AD/DE;\n",
"sec_DAE = AD/AE;\n",
"cot_DAE = AE/DE;\n",
"\n",
"printf('sin(%d)=%f\n',angle_DAE,sin_DAE);\n",
"printf('cos(%d)=%f\n',angle_DAE,cos_DAE);\n",
"printf('tan(%d)=%f\n',angle_DAE,tan_DAE);\n",
"printf('csc(%d)=%f\n',angle_DAE,csc_DAE);\n",
"printf('sec(%d)=%f\n',angle_DAE,sec_DAE);\n",
"printf('cot(%d)=%f\n',angle_DAE,cot_DAE);"
   ]
   }
,
{
		   "cell_type": "markdown",
		   "metadata": {},
		   "source": [
			"## Example 1.11: To_find_the_height_of_the_flagpole.sce"
		   ]
		  },
  {
"cell_type": "code",
	   "execution_count": null,
	   "metadata": {
	    "collapsed": true
	   },
	   "outputs": [],
"source": [
"clc,clear\n",
"//example 1.11\n",
"//To find the height of the flagpole\n",
"\n",
"//conside the attached figure\n",
"d=150 //distance of person from flagpole in feet\n",
"angle_ele = 32 //angle of elevation in degree\n",
"height_eyes =6 //height of man's eyes\n",
"h= d*tand(angle_ele)\n",
"height_flagpole = height_eyes + h\n",
"printf('Required height of flagpole = %.0f ft',height_flagpole)"
   ]
   }
,
{
		   "cell_type": "markdown",
		   "metadata": {},
		   "source": [
			"## Example 1.12: To_find_the_height_of_mountain.sce"
		   ]
		  },
  {
"cell_type": "code",
	   "execution_count": null,
	   "metadata": {
	    "collapsed": true
	   },
	   "outputs": [],
"source": [
"clc,clear\n",
"//Example 1.12\n",
"//To find the height of mountain\n",
"\n",
"//from the figure\n",
"//h is height of mountain in degree\n",
"//x is distance from base of mountain to the point under top of mountain\n",
"\n",
"d1=400 //initial ditance from base of mountain in feet\n",
"d2=500 //final ditance from base of mountain in feet\n",
"theta1=25 //initial angle of elevation in degrees\n",
"theta2=20 //final angle of elevation in degrees\n",
"\n",
"//from the figure\n",
"//h= (x+d1) * tand(theta1)\n",
"//h= (x+d2) * tand(theta2)\n",
"//eliminating h and solving for x\n",
"x=((d1+d2)*tand(theta2) - d1*tand(theta1))/(tand(theta1)-tand(theta2))\n",
"//substituting x in expression for h\n",
"h= (x+d1) *tand(theta1)\n",
"printf('Height of mountain = %.0f feet',h)"
   ]
   }
,
{
		   "cell_type": "markdown",
		   "metadata": {},
		   "source": [
			"## Example 1.13: To_find_the_horizontal_distance_from_blimp_to_house.sce"
		   ]
		  },
  {
"cell_type": "code",
	   "execution_count": null,
	   "metadata": {
	    "collapsed": true
	   },
	   "outputs": [],
"source": [
"clc,clear\n",
"//Example 1.13\n",
"//To find the horizontal distance from blimp to house\n",
"\n",
"//consider the figure attached\n",
"angle_dep = 24 //angle of depression in degrees\n",
"theta = angle_dep  //angle of elevation\n",
"height_blimp = 4280 //height of blimp from ground in feet\n",
"x = height_blimp  / tand(theta) //required distance in feet\n",
"\n",
"printf('The house is %.0f ft far from blimp along the ground',x)"
   ]
   }
,
{
		   "cell_type": "markdown",
		   "metadata": {},
		   "source": [
			"## Example 1.14: To_estimate_radius_of_earth_when_angle_of_depression_is_known.sce"
		   ]
		  },
  {
"cell_type": "code",
	   "execution_count": null,
	   "metadata": {
	    "collapsed": true
	   },
	   "outputs": [],
"source": [
"clc,clear\n",
"//Example 1.14\n",
"//To estimate radius of earth when angle of depression is known\n",
"\n",
"angle_dep = 2.23 //angle of depression in degrees\n",
"//In the figure,\n",
"//r is the radius of earth\n",
"//A represent the top of the mountain\n",
"//H be the ocean horizon in the line of sight from A\n",
"//O be the center of the earth\n",
"//B is a point on the horizontal line of sight from A\n",
"\n",
"angle_OAH = 90 - angle_dep ;\n",
"theta = 180 - 90 - angle_OAH ;\n",
"height=3 //height of mountain\n",
"//r is radius of earth to be determined\n",
"\n",
"//distance from top of mountain from centre = r + height\n",
"// cosd(theta)= r/r+height...solving further\n",
"r = height*cosd(theta)/(1-cosd(theta)) ;\n",
"printf('Radius of earth as calculated = %.1f miles\n',r)"
   ]
   }
,
{
		   "cell_type": "markdown",
		   "metadata": {},
		   "source": [
			"## Example 1.15: To_find_the_distance_from_centre_of_earth_to_sun.sce"
		   ]
		  },
  {
"cell_type": "code",
	   "execution_count": null,
	   "metadata": {
	    "collapsed": true
	   },
	   "outputs": [],
"source": [
"clc,clear\n",
"//Example 1.15\n",
"// To find the distance from centre of earth to sun\n",
"\n",
"alpha = 0.00244; // equitorial paralalx in degree\n",
"OA = 3956.6; //radius of earth\n",
"angle_OAB = 90;\n",
"\n",
"OB = OA / sind(alpha) ;\n",
"printf('Distance is obtained as %.0f miles = %.0f million miles',OB,OB/10^6)"
   ]
   }
,
{
		   "cell_type": "markdown",
		   "metadata": {},
		   "source": [
			"## Example 1.16: To_determine_the_radius_of_sun.sce"
		   ]
		  },
  {
"cell_type": "code",
	   "execution_count": null,
	   "metadata": {
	    "collapsed": true
	   },
	   "outputs": [],
"source": [
"clc,clear\n",
"//Example 1.16\n",
"// To determine the radius of sun\n",
"\n",
"angle_AEB =0 +(32/60)+ (4/60)/60//converting to degrees\n",
"\n",
"//Triangle BES and AES are similar\n",
"//BS=AS as they are radius\n",
"//ES is common to both triangles\n",
"//angle_EBS=angle_ABS =90 as tangents are perpendicualar to radius\n",
"// angle_AES = angle_BES\n",
"angle_AES= angle_AEB /2;\n",
"angle_BES= angle_AEB /2;\n",
"\n",
"//to find ditance from sun to centre of earth\n",
"//obtained from previous example\n",
"alpha = 0.00244; // equitorial paralalx in degree\n",
"OA = 3956.6 ;//radius of earth\n",
"angle_OAB = 90 ;//radius perpendicular to tangent\n",
"OB = OA / sind(alpha) ; \n",
"\n",
"//ES is from earth surface to sun centre\n",
"//centre of earth to sun is  OB\n",
"//we initially treated sun as point\n",
"//that ditance is distance between their centres\n",
"radius_earth=3956.6 ;//in miles\n",
"ES = OB - radius_earth ;//in miles\n",
"AS=ES * sind(angle_AES) ;//in miles\n",
"printf('Required radius of sun = %.0f miles \n',AS)\n",
"printf('Answer might vary due to approximations in book and scilab precision')"
   ]
   }
,
{
		   "cell_type": "markdown",
		   "metadata": {},
		   "source": [
			"## Example 1.17: To_determine_the_diameter_of_larger_roller.sce"
		   ]
		  },
  {
"cell_type": "code",
	   "execution_count": null,
	   "metadata": {
	    "collapsed": true
	   },
	   "outputs": [],
"source": [
"clc,clear\n",
"//Example 1.17\n",
"//To find the diameter of larger roller\n",
"\n",
"//since radius perpendicular to tangent\n",
"angle_ODA=90;\n",
"angle_PEC=90\n",
"angle_OAD=37 ;//by symmetry\n",
"ED=1.38 ;//given\n",
"//since DOA is right triangle, DOA and OAD are complementary angles\n",
"angle_DOA=90 - angle_OAD ;\n",
"\n",
"//since radius perpendicular to tangent\n",
"angle_OBC=90;\n",
"angle_PBC=90;\n",
"\n",
"//since ODA and ODC are right triangle,\n",
"//OD = OB as radius and BC=DC by pythagoras\n",
"//OBC and ODC are now congruent\n",
"//angle_BOC = angle_DOC\n",
"//angle_BOC + angle_DOC =(90-angle_OAD)\n",
"angle_BOC= (90-angle_OAD)/2;\n",
"angle_DOC= (90-angle_OAD)/2;\n",
"\n",
"//BP=EP as radius\n",
"//since radius perpendicular to tangent\n",
"angle_PBC=90;\n",
"angle_PEC=90;\n",
"//Thus,BPC and EPC are congruent triangles\n",
"//Therefore,BC=DC and BC+DC = ED\n",
"BC = ED /2;\n",
"DC = ED /2;\n",
"OB = BC / tand(angle_BOC); //radius of large roller\n",
"diameter= 2* OB ;\n",
"printf('Diameter of larger roller = %.3f units',diameter)"
   ]
   }
,
{
		   "cell_type": "markdown",
		   "metadata": {},
		   "source": [
			"## Example 1.19: To_solve_the_right_triangle_with_given_information.sce"
		   ]
		  },
  {
"cell_type": "code",
	   "execution_count": null,
	   "metadata": {
	    "collapsed": true
	   },
	   "outputs": [],
"source": [
"clc,clear\n",
"//Example 1.19\n",
"//To solve the right triangle with given information\n",
"\n",
"//part(a)\n",
"c=10 ;//side opposite to vertex C\n",
"A=22 ;//Angle at vertex A\n",
"a=c*sind(A);\n",
"b=c*cosd(A) ;\n",
"B=90 - A ;//since C is 90, A and B are complimentary\n",
"printf('(a)a= %.2f units ; b= %.2f  units; B = %.0f degree\n',a,b,B)\n",
"\n",
"//part(b)\n",
"b=8 ;//side opposite to vertex B\n",
"A=40 ;//Angle at vertex A\n",
"a=b*tand(A);\n",
"c=b/cosd(A) ;\n",
"B=90 - A ;//since C is 90, A and B are complimentary\n",
"printf(' (b)a= %.2f units ; c= %.2f units; B = %.0f degree\n',a,c,B)\n",
"\n",
"//part(c)\n",
"a=3 ;//side opposite to vertex A\n",
"b=4 ;//side opposite to vertex B\n",
"c=sqrt(a^2+b^2) ;//by pythagoras theorem\n",
"A = atand(a/b) ;//angle at vertex A\n",
"B=90 - A ;//since C is 90, A and B are complimentary\n",
"printf(' (c)c=%.0f units     ; A= %f degree;  B = %f degree',c,A,B)"
   ]
   }
,
{
		   "cell_type": "markdown",
		   "metadata": {},
		   "source": [
			"## Example 1.1: To_determine_unknown_angle_in_3_given_triangles.sce"
		   ]
		  },
  {
"cell_type": "code",
	   "execution_count": null,
	   "metadata": {
	    "collapsed": true
	   },
	   "outputs": [],
"source": [
"clc,clear\n",
"//example 1.1\n",
"//To determine unknown angle in 3 given triangles\n",
"\n",
"//Triangle ABC\n",
"A = 35//angle at vertex A in degrees \n",
"C = 20//angle at vertex C in degrees\n",
"B=180- (A+C) //unknown angle\n",
"printf('Triangle ABC: B = %.0f degree\n',B)\n",
"\n",
"//Triangle DEF\n",
"E = 53//angle at vertex E in degree\n",
"//F = 90, DEF is right triangle\n",
"//So angles E and D are complimentary\n",
"D = 90- E //unknown angle\n",
"printf(' Triangle DEF: D = %.0f degree\n',D)\n",
"\n",
"//Triangle XYZ\n",
"sum_multiple= 1+3+1 //for solvong for alpha\n",
"alpha = 180/ sum_multiple\n",
"X= alpha //unknown angle\n",
"Y= 3* alpha //unknown angle\n",
"Z= alpha //unknown angle\n",
"printf(' Triangle XYZ: X=%.0f degree Y=%.0f degree Z=%.0f degree',X,Y,Z)"
   ]
   }
,
{
		   "cell_type": "markdown",
		   "metadata": {},
		   "source": [
			"## Example 1.20: To_find_values_of_all_trigonometric_values_of_given_angle_of_120.sce"
		   ]
		  },
  {
"cell_type": "code",
	   "execution_count": null,
	   "metadata": {
	    "collapsed": true
	   },
	   "outputs": [],
"source": [
"clc,clear\n",
"//Example 1.20\n",
"//To find values of all trigonometric values of given angle of 120\n",
"\n",
"theta=120; //given angle in degree\n",
"//Consider a point (-1,sqrt(3)) in 2nd quadrant\n",
"//This point can be used on terminal side of 120\n",
"//Thus for a basic right angled triangle formed in second quadrant\n",
"adjacent = 1;\n",
"opposite = sqrt(3);\n",
"//by pythagoras theorem\n",
"hypotenuse = sqrt(adjacent^2 + opposite^2);\n",
"\n",
"//since its third quadrant\n",
"x=-adjacent;\n",
"y= opposite;\n",
"r=hypotenuse;\n",
"\n",
"sin_120 =y/r ;\n",
"cos_120 =x/r ;\n",
"tan_120 =y/x ;\n",
"csc_120 =r/y ;\n",
"sec_120 =r/x ;\n",
"cot_120 =x/y ;\n",
"\n",
"printf('\nsin(%d)= %f ; cos(%d)= %f ; tan(%d)= %f ;',theta,sin_120,theta,cos_120,theta,tan_120)\n",
"printf('\ncsc(%d)= %f ; sec(%d)= %f ; cot(%d)= %f ;',theta,csc_120,theta,sec_120,theta,cot_120)"
   ]
   }
,
{
		   "cell_type": "markdown",
		   "metadata": {},
		   "source": [
			"## Example 1.21: To_find_values_of_all_trigonometric_values_of_given_angle_of_225.sce"
		   ]
		  },
  {
"cell_type": "code",
	   "execution_count": null,
	   "metadata": {
	    "collapsed": true
	   },
	   "outputs": [],
"source": [
"clc,clear\n",
"//Example 1.21\n",
"//To find values of all trigonometric values of given angle of 225\n",
"\n",
"theta=225 ;//given angle in degree\n",
"//Consider a point (-1,-1) in 3rd quadrant\n",
"//This point can be used on terminal side of 225\n",
"//Thus for a basic right angled triangle formed in 3rd quadrant\n",
"adjacent = 1 ;\n",
"opposite = 1 ;\n",
"//by pythagoras theorem\n",
"hypotenuse = sqrt(adjacent^2 + opposite^2) ;\n",
"\n",
"//since its third quadrant\n",
"x=-adjacent ;\n",
"y=-opposite ;\n",
"r=hypotenuse ;\n",
"\n",
"sin_225 =y/r ;\n",
"cos_225 =x/r ;\n",
"tan_225 =y/x ;\n",
"csc_225 =r/y ;\n",
"sec_225 =r/x ;\n",
"cot_225 =x/y ;\n",
"\n",
"printf('\nsin(%d)= %f ; cos(%d)= %f ; tan(%d)= %f ;',theta,sin_225,theta,cos_225,theta,tan_225)\n",
"printf('\ncsc(%d)= %f ; sec(%d)= %f ; cot(%d)= %f ;',theta,csc_225,theta,sec_225,theta,cot_225)"
   ]
   }
,
{
		   "cell_type": "markdown",
		   "metadata": {},
		   "source": [
			"## Example 1.22: To_find_values_of_all_trigonometric_values_of_given_angle_of_330.sce"
		   ]
		  },
  {
"cell_type": "code",
	   "execution_count": null,
	   "metadata": {
	    "collapsed": true
	   },
	   "outputs": [],
"source": [
"clc,clear\n",
"//Example 1.22\n",
"//To find values of all trigonometric values of given angle of 330\n",
"\n",
"theta=330 ; //given angle in degree\n",
"//Consider a point (sqrt(3),-1) in 4th quadrant\n",
"//This point can be used on terminal side of 330\n",
"//Thus for a basic right angled triangle formed in 4th quadrant\n",
"adjacent = sqrt(3);\n",
"opposite = 1 ;\n",
"hypotenuse = sqrt(adjacent^2 + opposite^2);\n",
"//by pythagoras theorem\n",
"\n",
"//since its 4th quadrant\n",
"x=adjacent ;\n",
"y=-opposite ;\n",
"r=hypotenuse ;\n",
"\n",
"sin_330 =y/r ;\n",
"cos_330 =x/r ;\n",
"tan_330 =y/x ;\n",
"csc_330 =r/y ;\n",
"sec_330 =r/x ;\n",
"cot_330 =x/y ;\n",
"\n",
"printf('\nsin(%d)= %f ; cos(%d)= %f ; tan(%d)= %f ;',theta,sin_330,theta,cos_330,theta,tan_330)\n",
"printf('\ncsc(%d)= %f ; sec(%d)= %f ; cot(%d)= %f ;',theta,csc_330,theta,sec_330,theta,cot_330)"
   ]
   }
,
{
		   "cell_type": "markdown",
		   "metadata": {},
		   "source": [
			"## Example 1.23: To_find_trigonometric_ratios_of_0_90_180_and_270_degrees.sce"
		   ]
		  },
  {
"cell_type": "code",
	   "execution_count": null,
	   "metadata": {
	    "collapsed": true
	   },
	   "outputs": [],
"source": [
"clc,clear\n",
"//Example 1.23\n",
"//To find trigonometric functions of various angles\n",
"//Note: Undefined ratios are commented to avoid divide by zero error\n",
"\n",
"//zero degrees\n",
"//consider a point (1,0)\n",
"//Line segment joining (0,0) and (1,0) can be treated as triangle\n",
"\n",
"x=1//base\n",
"y=0//height\n",
"r=1 //hypotenuse\n",
"sin_0 = y/r;\n",
"cos_0 = x/r;\n",
"tan_0 = y/x;\n",
"//csc_0 =r/y;\n",
"sec_0 = r/x;\n",
"//cot_0=x/y;\n",
"printf('\nZERO DEGREES:\n')\n",
"printf('sin(0)= %f;\n',sin_0)\n",
"printf('cos(0)= %f;\n',cos_0)\n",
"printf('tan(0)= %f;\n',tan_0)\n",
"printf('csc(0)= undefined = (1/0);\n')\n",
"printf('sec(0)= %f;\n',sec_0)\n",
"printf('cot(0)= undefined = (1/0);\n')\n",
"\n",
"//90 degrees\n",
"//consider a point (0,1)\n",
"//Line segment joining (0,0) and (0,1) can be treated as triangle\n",
"\n",
"x=0//base\n",
"y=1//height\n",
"r=1 //hypotenuse\n",
"sin_90 = y/r;\n",
"cos_90 = x/r;\n",
"//tan_90 = y/x;\n",
"csc_90 =r/y;\n",
"//sec_90 = r/x;\n",
"cot_90=x/y;\n",
"printf('\n90 DEGREES:\n')\n",
"printf('sin(90)= %f;\n',sin_90)\n",
"printf('cos(90)= %f;\n',cos_90)\n",
"printf('tan(90)= undefined = (1/0);\n')\n",
"printf('csc(90)= %f;\n',csc_90)\n",
"printf('sec(90)= undefined = (1/0);\n')\n",
"printf('cot(90)= %f;\n',cot_90)\n",
"\n",
"//180 degrees\n",
"//consider a point (-1,0)\n",
"//Line segment joining (0,0) and (-1,0) can be treated as triangle\n",
"\n",
"x=-1//base\n",
"y=0//height\n",
"r=1 //hypotenuse\n",
"sin_180 = y/r;\n",
"cos_180 = x/r;\n",
"tan_180 = y/x;\n",
"//csc_180 =r/y;\n",
"sec_180 = r/x;\n",
"//cot_180=x/y;\n",
"printf('\n180 DEGREES:\n')\n",
"printf('sin(180)= %f;\n',sin_180)\n",
"printf('cos(180)= %f;\n',cos_180)\n",
"printf('tan(180)= %f;\n',tan_180)\n",
"printf('csc(180)= undefined = (1/0);\n')\n",
"printf('sec(180)= %f;\n',sec_180)\n",
"printf('cot(180)= undefined = (-1/0);\n')\n",
"\n",
"\n",
"//270 degrees\n",
"//consider a point (0,-1)\n",
"//Line segment joining (0,0) and (0,-1) can be treated as triangle\n",
"\n",
"x=0//base\n",
"y=-1//height\n",
"r=1 //hypotenuse\n",
"sin_270 = y/r;\n",
"cos_270 = x/r\n",
"//tan_90 = y/x;\n",
"csc_270 =r/y;\n",
"//sec_90 = r/x;\n",
"cot_270=x/y;\n",
"printf('\n270 DEGREES:\n')\n",
"printf('sin(270)= %f;\n',sin_270)\n",
"printf('cos(270)= %f;\n',cos_270)\n",
"printf('tan(270)= undefined = (-1/0);\n')\n",
"printf('csc(270)= %f;\n',csc_270)\n",
"printf('sec(270)= undefined = (1/0);\n')\n",
"printf('cot(270)= %f;\n',cot_270)"
   ]
   }
,
{
		   "cell_type": "markdown",
		   "metadata": {},
		   "source": [
			"## Example 1.24: EX1_24.sce"
		   ]
		  },
  {
"cell_type": "code",
	   "execution_count": null,
	   "metadata": {
	    "collapsed": true
	   },
	   "outputs": [],
"source": [
"clc,clear\n",
"//Example 1.24\n",
"//To determine reference angle and angle ( 0 to 360 )with same terminal side as given angle\n",
"\n",
"theta = 928 ;//given angle in degrees\n",
"\n",
"//The while loop works for ALL VALUES OF theta\n",
"//It keeps subtracting 360 till a value in (0 to 360) is obtained\n",
" result = theta ; \n",
"while 1==1,\n",
"    if result<360 then\n",
"        printf('(a)Required angel between 0 and 360 is %.0f degree',result);\n",
"        break \n",
"    end\n",
"    result = result - 360 ;\n",
"end\n",
"\n",
"//928 and 208 has same terminal side in 3rd quadrant\n",
"//so their reference angle is same\n",
"ref_angle_928 = result - 180 ; //required reference angle\n",
"printf('\n(b)Reference angel for %.0f is %.0f degree',theta,ref_angle_928)"
   ]
   }
,
{
		   "cell_type": "markdown",
		   "metadata": {},
		   "source": [
			"## Example 1.25: To_find_sin_theta_and_tan_theta_when_cos_theta_is_given.sce"
		   ]
		  },
  {
"cell_type": "code",
	   "execution_count": null,
	   "metadata": {
	    "collapsed": true
	   },
	   "outputs": [],
"source": [
"clc,clear\n",
"//Example 1.25\n",
"//To find sin_theta and tan_theta when cos_theta is given\n",
"\n",
"cos_theta = -4/5;\n",
"adjacent =4 ; hypotenuse =5 ;\n",
"opposite = sqrt(hypotenuse ^2 - adjacent ^2) //by pythagoras theorem \n",
"\n",
"//minus sign of cos_theta implies 2nd or 3rd quadrant\n",
"//Possibility 1 : 2nd quadrant\n",
"x= -adjacent ;\n",
"y=  opposite ;\n",
"r=  hypotenuse ;\n",
"sin_theta = y/r ;\n",
"tan_theta = y/x ;\n",
"printf('POSSIBILITY 1:Theta in 2nd quadrant\n')\n",
"printf('sin(theta)= %.2f ; tan(theta) = %.2f;  \n\n',sin_theta,tan_theta)\n",
"\n",
"//Possibility 2 : 3rd quadrant\n",
"x=-adjacent ;\n",
"y=-opposite ;\n",
"r=hypotenuse ;\n",
"sin_theta = y/r ;\n",
"tan_theta = y/x ;\n",
"printf('POSSIBILITY 2:Theta in 3rd quadrant\n')\n",
"printf('sin(theta)= %.2f ; tan(theta) = %.2f;  ',sin_theta,tan_theta)"
   ]
   }
,
{
		   "cell_type": "markdown",
		   "metadata": {},
		   "source": [
			"## Example 1.27: To_find_all_the_angles_with_a_given_sine_function_value.sce"
		   ]
		  },
  {
"cell_type": "code",
	   "execution_count": null,
	   "metadata": {
	    "collapsed": true
	   },
	   "outputs": [],
"source": [
"clc,clear\n",
"//Example 1.27\n",
"//To find all the angles with a given sine function value\n",
"\n",
"sin_theta = -0.682;\n",
"theta=asind(sin_theta);\n",
"//This results -43 degree which isnt in 0 to 360 range\n",
"//And theta exists in 4th quadrant\n",
"//Angles in 1st and 2nd quadrant have +ve sine values\n",
"\n",
"theta1 = 180 - theta ;//reflection of theta in 3rd quadrant\n",
"theta2 = 360 + theta ;//both theta n theta 2 have same trigonometric values\n",
"printf('Required angles are %.0f and %.0f degrees',theta1,theta2)"
   ]
   }
,
{
		   "cell_type": "markdown",
		   "metadata": {},
		   "source": [
			"## Example 1.3: To_determine_length_of_unknown_side_in_3_given_right_triangles.sce"
		   ]
		  },
  {
"cell_type": "code",
	   "execution_count": null,
	   "metadata": {
	    "collapsed": true
	   },
	   "outputs": [],
"source": [
"clc,clear\n",
"//example 1.3\n",
"//To determine length of unknown side in 3 given right triangles\n",
"\n",
"//Triangle ABC\n",
"AB=5 //given\n",
"AC=4 //given\n",
"a=sqrt(AB^2- AC^2) //by pythagoras theorem\n",
"printf('Triangle ABC: a=%f units \n',a)\n",
"\n",
"//Triangle DEF\n",
"DE=2 //given\n",
"EF=1 //given\n",
"e=sqrt(DE^2- EF^2) //by pythagoras theorem\n",
"printf(' Triangle DEF: e=%f units = sqrt(%f) units\n',e,e^2)\n",
"\n",
"//Triangle XYZ\n",
"XZ=1 //given\n",
"YZ=1 //given\n",
"z=sqrt(XZ^2+YZ^2)//by pythagoras theorem\n",
"printf(' Triangle XYZ: z=%f units = sqrt(%f) units\n',z,z^2)"
   ]
   }
,
{
		   "cell_type": "markdown",
		   "metadata": {},
		   "source": [
			"## Example 1.4: To_determine_height_of_the_top_of_ladder_touching_the_wall.sce"
		   ]
		  },
  {
"cell_type": "code",
	   "execution_count": null,
	   "metadata": {
	    "collapsed": true
	   },
	   "outputs": [],
"source": [
"clc,clear\n",
"//example 1.4\n",
"//To determine height of the top of ladder touching the wall\n",
"\n",
"ladder = 17 //length of ladder or hypotenuse in feet\n",
"base = 8 //distance between lower tip of ladder and wall in feet\n",
"//Using pythagoras theorem\n",
"h=sqrt(ladder^2 - base^2) //required height\n",
"printf('Required height of top of ladder in contact with wall  = %.0f ft',h)"
   ]
   }
,
{
		   "cell_type": "markdown",
		   "metadata": {},
		   "source": [
			"## Example 1.5: To_find_values_of_all_trigonometric_functions_for_angles_A_and_B.sce"
		   ]
		  },
  {
"cell_type": "code",
	   "execution_count": null,
	   "metadata": {
	    "collapsed": true
	   },
	   "outputs": [],
"source": [
"clc,clear\n",
"//example 1.5\n",
"//To find values of all trigonometric functions for angles A and B\n",
"\n",
"//Angle at vertex A\n",
"opposite = 3;\n",
"adjacent = 4;\n",
"hypotenuse=5;\n",
"\n",
"sin_A = opposite / hypotenuse;\n",
"cos_A = adjacent / hypotenuse;\n",
"tan_A = opposite / adjacent;\n",
"csc_A = hypotenuse/opposite;\n",
"sec_A = hypotenuse/adjacent;\n",
"cot_A = adjacent / opposite;\n",
"printf('ANGLE A')\n",
"printf('\nsin(A)=  %.1f   ; cos(A)= %.2f;   tan(A)= %.2f;\n',sin_A,cos_A,tan_A)\n",
"printf('csc(A)=  %.3f ; sec(A)= %.2f;   cot(A)= %.2f;',csc_A,sec_A,cot_A)\n",
"\n",
"//Angle at vertex B\n",
"opposite = 4;\n",
"adjacent = 3;\n",
"hypotenuse=5;\n",
"\n",
"sin_B = opposite / hypotenuse;\n",
"cos_B = adjacent / hypotenuse;\n",
"tan_B = opposite / adjacent;\n",
"csc_B = hypotenuse/opposite;\n",
"sec_B = hypotenuse/adjacent;\n",
"cot_B = adjacent / opposite;\n",
"printf('\n\nANGLE B')\n",
"printf('\nsin(B)=  %.1f   ; cos(B)= %.2f;   tan(B)= %.2f;\n',sin_B,cos_B,tan_B)\n",
"printf('csc(B)=  %.2f  ; sec(B)= %.2f;   cot(B)= %.2f;',csc_B,sec_B,cot_B)"
   ]
   }
,
{
		   "cell_type": "markdown",
		   "metadata": {},
		   "source": [
			"## Example 1.6: To_find_values_of_all_trigonometric_functions_for_45_degree.sce"
		   ]
		  },
  {
"cell_type": "code",
	   "execution_count": null,
	   "metadata": {
	    "collapsed": true
	   },
	   "outputs": [],
"source": [
"clc,clear\n",
"//example 1.6\n",
"//To find values of all trigonometric functions for 45 degree\n",
"\n",
"//Consider a square of side 1 and divide it half diagonally\n",
"//ABC is now an isosceles triangle \n",
"//angle A and B are now equal and = 45 degree\n",
"\n",
"AC=1;\n",
"BC=1;\n",
"AB=sqrt(AC^2+BC^2) //by pythagoras theorem\n",
"c=AB //we denote AB by c as its opposite to C\n",
"\n",
"//conside angle BAC=45 degree\n",
"opposite = BC;\n",
"adjacent = AC;\n",
"hypotenuse = c;\n",
"sin_45 = opposite / hypotenuse;\n",
"cos_45 = adjacent / hypotenuse;\n",
"tan_45 = opposite / adjacent;\n",
"csc_45 = hypotenuse/opposite;\n",
"sec_45 = hypotenuse/adjacent;\n",
"cot_45 = adjacent / opposite;\n",
"\n",
"printf('ANGLE = 45 degree')\n",
"printf('\nsin(45)=  %.4f ; cos(45)= %.4f;  tan(45)= %.2f;\n',sin_45,cos_45,tan_45)\n",
"printf('csc(45)=  %.4f ; sec(45)= %.4f;  cot(45)= %.2f;',csc_45,sec_45,cot_45)"
   ]
   }
,
{
		   "cell_type": "markdown",
		   "metadata": {},
		   "source": [
			"## Example 1.7: To_find_values_of_all_trigonometric_functions_for_60_degree.sce"
		   ]
		  },
  {
"cell_type": "code",
	   "execution_count": null,
	   "metadata": {
	    "collapsed": true
	   },
	   "outputs": [],
"source": [
"clc,clear\n",
"//example 1.7\n",
"//To find values of all trigonometric functions for 60 degree\n",
"\n",
"//take an equilateral triangle of side 2 and divide it by half\n",
"//all 3 angles of equilateral triangle are same as 60 degree\n",
"//the bisector of angle is also the perepndicual bisector of oppsoite side\n",
"// Thus, A=60 B=30 C=90 in new triangle as shown in figure\n",
"\n",
"AB = 2; c=AB;\n",
"AC = AB/2; b=AC;\n",
"a=sqrt(c^2-b^2)//pythagoras theorem\n",
"\n",
"//For angle A=60 degree\n",
"opposite = a;\n",
"adjacent = b;\n",
"hypotenuse = c;\n",
"sin_60 = opposite / hypotenuse;\n",
"cos_60 = adjacent / hypotenuse;\n",
"tan_60 = opposite / adjacent;\n",
"csc_60 = hypotenuse/opposite;\n",
"sec_60 = hypotenuse/adjacent;\n",
"cot_60 = adjacent / opposite;\n",
"printf('ANGLE = 60 degree')\n",
"printf('\nsin(60)=  %.4f ; cos(60)= %.4f;   tan(60)= %.4f;\n',sin_60,cos_60,tan_60)\n",
"printf('csc(60)=  %.4f ; sec(60)= %.4f;   cot(60)= %.4f;',csc_60,sec_60,cot_60)\n",
"\n",
"//For angle ABC=30 degree\n",
"opposite = b;\n",
"adjacent = a;\n",
"hypotenuse = c;\n",
"sin_30 = opposite / hypotenuse;\n",
"cos_30 = adjacent / hypotenuse;\n",
"tan_30 = opposite / adjacent;\n",
"csc_30 = hypotenuse/opposite;\n",
"sec_30 = hypotenuse/adjacent;\n",
"cot_30 = adjacent / opposite;\n",
"printf('\n\nANGLE = 30 degree')\n",
"printf('\nsin(30)=  %.4f ; cos(30)= %.4f;   tan(30)= %.4f;\n',sin_30,cos_30,tan_30)\n",
"printf('csc(30)=  %.4f ; sec(30)= %.4f;   cot(30)= %.4f;',csc_30,sec_30,cot_30)"
   ]
   }
,
{
		   "cell_type": "markdown",
		   "metadata": {},
		   "source": [
			"## Example 1.8: To_find_all_trigonometric_functions_when_sine_functions_is_given.sce"
		   ]
		  },
  {
"cell_type": "code",
	   "execution_count": null,
	   "metadata": {
	    "collapsed": true
	   },
	   "outputs": [],
"source": [
"clc,clear\n",
"//example 1.8\n",
"//To find all trigonometric functions when sine functions is given\n",
"\n",
"sin_A=2/3 //given\n",
"//since sine function  is opposite/hypotenuse and \n",
"//T-ratios are defined interms of ratio of sided of right triangle\n",
"opposite=2;\n",
"hypotenuse=3;\n",
"BC = opposite;\n",
"AB = hypotenuse;\n",
"b  = sqrt(hypotenuse^2- opposite^2) //by pythagoras theorem\n",
"adjacent = b;\n",
"\n",
"cos_A = adjacent / hypotenuse;\n",
"tan_A = opposite / adjacent;\n",
"csc_A = hypotenuse/opposite;\n",
"sec_A = hypotenuse/adjacent;\n",
"cot_A = adjacent / opposite;\n",
"\n",
"printf('for ANGLE A')\n",
"printf('\nsin(A)=  %.4f ; cos(A)= %.4f;   tan(A)= %.4f;\n',sin_A,cos_A,tan_A)\n",
"printf('csc(A)=  %.4f ; sec(A)= %.4f;   cot(A)= %.4f;',csc_A,sec_A,cot_A)"
   ]
   }
,
{
		   "cell_type": "markdown",
		   "metadata": {},
		   "source": [
			"## Example 1.9: To_convert_given_function_into_function_of_angle_less_than_45.sce"
		   ]
		  },
  {
"cell_type": "code",
	   "execution_count": null,
	   "metadata": {
	    "collapsed": true
	   },
	   "outputs": [],
"source": [
"clc,clear\n",
"//example 1.9\n",
"//To convert given function into function of angle less than 45\n",
"\n",
"//(a)sin 65\n",
"angle = 65 ;\n",
"complement_angle = 90- 65 ;\n",
"//cofuction of sine is cosine\n",
"printf('(a)sin(%f)= cos (%f)\n',angle,complement_angle)\n",
"\n",
"//(b)cos 78\n",
"angle = 78;\n",
"complement_angle = 90- 78 ;\n",
"//cofuction of cosine is sine\n",
"printf('(b)cos(%f)= sin (%f)\n',angle,complement_angle)\n",
"\n",
"//(c)tan 59\n",
"angle = 59 ;\n",
"complement_angle = 90- 59 ;\n",
"//cofuction of tan is cot\n",
"printf('(c)tan(%f)= cot (%f)\n',angle,complement_angle)"
   ]
   }
],
"metadata": {
		  "kernelspec": {
		   "display_name": "Scilab",
		   "language": "scilab",
		   "name": "scilab"
		  },
		  "language_info": {
		   "file_extension": ".sce",
		   "help_links": [
			{
			 "text": "MetaKernel Magics",
			 "url": "https://github.com/calysto/metakernel/blob/master/metakernel/magics/README.md"
			}
		   ],
		   "mimetype": "text/x-octave",
		   "name": "scilab",
		   "version": "0.7.1"
		  }
		 },
		 "nbformat": 4,
		 "nbformat_minor": 0
}
