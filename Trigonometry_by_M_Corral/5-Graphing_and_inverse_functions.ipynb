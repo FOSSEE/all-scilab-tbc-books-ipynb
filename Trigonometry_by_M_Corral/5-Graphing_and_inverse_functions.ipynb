{
"cells": [
 {
		   "cell_type": "markdown",
	   "metadata": {},
	   "source": [
       "# Chapter 5: Graphing and inverse functions"
	   ]
	},
{
		   "cell_type": "markdown",
		   "metadata": {},
		   "source": [
			"## Example 5.10: To_find_the_period_of_given_function.sce"
		   ]
		  },
  {
"cell_type": "code",
	   "execution_count": null,
	   "metadata": {
	    "collapsed": true
	   },
	   "outputs": [],
"source": [
"//Example 5.10\n",
"//To find the period of given function\n",
"clear,clc;\n",
"\n",
"x = linspace(-0,2*%pi,200);\n",
"y1=cos(6*x); //1st part of given function\n",
"multiple1=6;//multiplicity of angle\n",
"period_cosx=2*%pi ;//period of cos(x) is 2 pi\n",
"period1= period_cosx/ multiple1;\n",
"printf('Note: Period of cos(%d*x)= %f radians\n',multiple1,period1);\n",
"y2= sin(4*x); //second part of given function\n",
"multiple2=4; //multiplicity of angle\n",
"period_sinx=2*%pi ;//period of sin(x) is 2 pi\n",
"period2= period_sinx/multiple2;\n",
"printf('Period of sin(%d*x)= %f radians\n',multiple2,period2);\n",
"\n",
"locm = %pi ;//LCM of period1 and period 2\n",
"period = locm ;//final period\n",
"printf('\nRequired period is %f radians',period);\n",
"x = linspace(0,2*%pi,200);\n",
"y = cos(6*x)+ sin(4*x);//given function\n",
"set(gca(),'grid',[5 5]);\n",
"plot(x,y,'r');\n",
"xlabel('$0\le x\le 2*pi$','fontsize',4,'color','red');\n",
"ylabel('$y(x)= sin(4*x) +cos(6*x)$','fontsize',4,'color','red');\n",
"title('Example 5.10','color','red','fontsize',9);"
   ]
   }
,
{
		   "cell_type": "markdown",
		   "metadata": {},
		   "source": [
			"## Example 5.11: To_find_the_amplitude_phase_shift_and_period_of_given_function.sce"
		   ]
		  },
  {
"cell_type": "code",
	   "execution_count": null,
	   "metadata": {
	    "collapsed": true
	   },
	   "outputs": [],
"source": [
"//Example 5.11\n",
"//To find the amplitude phase shift and period of given function\n",
"clear,clc;\n",
"\n",
"x = linspace(-0,2*%pi,200);\n",
"deviation = %pi; //deviation from multiples of x\n",
"y = 3*cos(2*x- deviation) ;//given function\n",
"amplitude = y/ cos(2*x- %pi) ;\n",
"printf('Amplitude = %f\n',amplitude);\n",
"multiple = 2; //multiplicity of angle \n",
"period_cosx = 2*%pi; //period of sin(x) in radians\n",
"required_period = period_cosx / multiple;\n",
"printf('Required period = %f radians\n',required_period);\n",
"phase_shift = deviation / multiple;\n",
"printf('Phase shift = %f radians',phase_shift);\n",
"\n",
"x = linspace(-0,2*%pi,200);\n",
"y = 3*cos(2*x- %pi) ;\n",
"set(gca(),'grid',[5 5]);\n",
"plot(x,y);\n",
"xlabel('$0\le x\le 2*pi$','fontsize',4,'color','red');\n",
"ylabel('$y(x)=3*cos(2*x- pi)$','fontsize',4,'color','red');\n",
"title('Example 5.11','color','blue','fontsize',9);"
   ]
   }
,
{
		   "cell_type": "markdown",
		   "metadata": {},
		   "source": [
			"## Example 5.12: To_find_the_amplitude_phase_shift_and_period_of_given_function.sce"
		   ]
		  },
  {
"cell_type": "code",
	   "execution_count": null,
	   "metadata": {
	    "collapsed": true
	   },
	   "outputs": [],
"source": [
"//Example 5.12\n",
"//To find the amplitude phase shift and period of given function\n",
"clear,clc;\n",
"\n",
"x = linspace(-%pi/6,4*%pi/3,200);\n",
"deviation = -%pi/2;//deviation from multiples of x\n",
"y = -2*sin(3*x- deviation) ;// given function\n",
"amplitude = abs(y/(sin(3*x- deviation)) );\n",
"printf('Amplitude = %f\n',amplitude);\n",
"multiple = 3; //multiplicity of angle \n",
"period_sinx = 2*%pi ;//period of sin(x) in radians\n",
"required_period = period_sinx / multiple;\n",
"printf('Required period = %f radians\n',required_period);\n",
"phase_shift = deviation / multiple;\n",
"printf('Phase shift = %f radians',phase_shift);\n",
"\n",
"x = linspace(-%pi/6,4*%pi/3,200);\n",
"y =-2*sin(3*x+ %pi/2) ;\n",
"set(gca(),'grid',[5 5]);\n",
"plot(x,y);\n",
"ylabel('$y =-2*sin(3*x+ %pi/2)$','fontsize',4,'color','red');\n",
"title('Example 5.12','color','blue','fontsize',9);"
   ]
   }
,
{
		   "cell_type": "markdown",
		   "metadata": {},
		   "source": [
			"## Example 5.13: To_determine_inverse_sine_function_of_a_given_value.sce"
		   ]
		  },
  {
"cell_type": "code",
	   "execution_count": null,
	   "metadata": {
	    "collapsed": true
	   },
	   "outputs": [],
"source": [
"clc,clear;\n",
"//Example 5.13\n",
"//To determine inverse sine function of a given value\n",
"\n",
"given =  sin(%pi/4); //given value\n",
"answer= asin(given); //final answer\n",
"\n",
"printf('Required answer is %f radians',answer);\n",
"printf('\n\nOR \n\n(pi/4)*%f radians',answer*(4/%pi));"
   ]
   }
,
{
		   "cell_type": "markdown",
		   "metadata": {},
		   "source": [
			"## Example 5.14: To_determine_inverse_sine_function_of_a_given_value.sce"
		   ]
		  },
  {
"cell_type": "code",
	   "execution_count": null,
	   "metadata": {
	    "collapsed": true
	   },
	   "outputs": [],
"source": [
"clc,clear;\n",
"//Example 5.14\n",
"//To determine inverse sine function of a given value\n",
"\n",
"given =  sin(5*%pi/4); //given value\n",
"answer= asin(given); //final answer\n",
"\n",
"printf('Required answer is %f radians',answer);\n",
"printf('\n\nOR \n\n(pi/4)*%f radians',answer*(4/%pi));"
   ]
   }
,
{
		   "cell_type": "markdown",
		   "metadata": {},
		   "source": [
			"## Example 5.15: To_determine_inverse_cosine_function_of_a_given_value.sce"
		   ]
		  },
  {
"cell_type": "code",
	   "execution_count": null,
	   "metadata": {
	    "collapsed": true
	   },
	   "outputs": [],
"source": [
"clc,clear;\n",
"//Example 5.15\n",
"//To determine inverse cosine function of a given value\n",
"\n",
"given =  cos(%pi/3); //given value\n",
"answer= acos(given); //final answer\n",
"\n",
"printf('Required answer is %f radians',answer);\n",
"printf('\n\nOR \n\n(pi/3)*%f radians',answer*(3/%pi));"
   ]
   }
,
{
		   "cell_type": "markdown",
		   "metadata": {},
		   "source": [
			"## Example 5.16: To_determine_inverse_cosine_function_of_a_given_value.sce"
		   ]
		  },
  {
"cell_type": "code",
	   "execution_count": null,
	   "metadata": {
	    "collapsed": true
	   },
	   "outputs": [],
"source": [
"clc,clear;\n",
"//Example 5.16\n",
"//To determine inverse cosine function of a given value\n",
"\n",
"given =  cos(4*%pi/3); //given value\n",
"answer= acos(given); //final answer\n",
"\n",
"printf('Required answer is %f radians',answer);\n",
"printf('\n\nOR \n\n(pi/3)*%f radians',answer*(3/%pi));"
   ]
   }
,
{
		   "cell_type": "markdown",
		   "metadata": {},
		   "source": [
			"## Example 5.17: To_determine_inverse_tan_function_of_a_given_value.sce"
		   ]
		  },
  {
"cell_type": "code",
	   "execution_count": null,
	   "metadata": {
	    "collapsed": true
	   },
	   "outputs": [],
"source": [
"clc,clear;\n",
"//Example 5.17\n",
"//To determine inverse tan function of a given value\n",
"\n",
"given =  tan(%pi/4); //given value\n",
"answer= atan(given); //final answer\n",
"\n",
"printf('Required answer is %f radians',answer);\n",
"printf('\n\nOR \n\n(pi/4)*%f radians',answer*(4/%pi));"
   ]
   }
,
{
		   "cell_type": "markdown",
		   "metadata": {},
		   "source": [
			"## Example 5.18: To_determine_inverse_tan_function_of_a_given_value.sce"
		   ]
		  },
  {
"cell_type": "code",
	   "execution_count": null,
	   "metadata": {
	    "collapsed": true
	   },
	   "outputs": [],
"source": [
"clc,clear;\n",
"//Example 5.18\n",
"//To determine inverse tan function of a given value\n",
"\n",
"given =  tan(%pi); //given value\n",
"answer= atan(given);//final answer\n",
"\n",
"printf('Required answer is %f radians',answer);"
   ]
   }
,
{
		   "cell_type": "markdown",
		   "metadata": {},
		   "source": [
			"## Example 5.19: EX5_19.sce"
		   ]
		  },
  {
"cell_type": "code",
	   "execution_count": null,
	   "metadata": {
	    "collapsed": true
	   },
	   "outputs": [],
"source": [
"clc,clear;\n",
"//Example 5.19\n",
"//To determine exact value of given expression involving inverse trigonometric functions\n",
"\n",
"expression=  cos(asin(-1/4)); //given expresion\n",
"\n",
"printf('Value of given expression is %f radians',expression);"
   ]
   }
,
{
		   "cell_type": "markdown",
		   "metadata": {},
		   "source": [
			"## Example 5.1: To_sketch_the_graph_of_minus_sinx_in_a_given_interval.sce"
		   ]
		  },
  {
"cell_type": "code",
	   "execution_count": null,
	   "metadata": {
	    "collapsed": true
	   },
	   "outputs": [],
"source": [
"//Example 5.1\n",
"//To sketch the graph of minus sinx in a given interval\n",
"clear,clc;\n",
"\n",
"x = linspace(-0,2*%pi,50);\n",
"y = -sin(x) ;\n",
"set(gca(),'grid',[5 5]);\n",
"plot(x,y);\n",
"xlabel('$0\le x\le 2*pi$','fontsize',4,'color','red');\n",
"ylabel('$y(x)=-sin(x)$','fontsize',4,'color','red');\n",
"title('Example 5.1','color','blue','fontsize',9);"
   ]
   }
,
{
		   "cell_type": "markdown",
		   "metadata": {},
		   "source": [
			"## Example 5.2: To_sketch_the_graph_of_given_function_of_in_given_interval.sce"
		   ]
		  },
  {
"cell_type": "code",
	   "execution_count": null,
	   "metadata": {
	    "collapsed": true
	   },
	   "outputs": [],
"source": [
"//Example 5.2\n",
"//To sketch the graph of function of 1+cos(x) in given interval\n",
"clear,clc;\n",
"\n",
"x = linspace(-0,2*%pi,50);\n",
"y = 1+cos(x) ;\n",
"set(gca(),'grid',[5 5]);\n",
"plot(x,y);\n",
"xlabel('$0\le x\le 2*pi$','fontsize',4,'color','red');\n",
"ylabel('$y(x)=1+cos(x)$','fontsize',4,'color','red');\n",
"title('Example 5.2','color','blue','fontsize',9);"
   ]
   }
,
{
		   "cell_type": "markdown",
		   "metadata": {},
		   "source": [
			"## Example 5.4: To_determine_the_period_of_given_sinusoidal_function.sce"
		   ]
		  },
  {
"cell_type": "code",
	   "execution_count": null,
	   "metadata": {
	    "collapsed": true
	   },
	   "outputs": [],
"source": [
"//Example 5.4\n",
"//To determine the period of given sinusoidal function \n",
"clear,clc;\n",
"\n",
"multiple = 2; //multiplicity of angle \n",
"period_sinx = 2*%pi ;//period of sin(x) in radians\n",
"required_period = period_sinx / multiple;\n",
"printf('Required period is %f radians',required_period);\n",
"\n",
"//Note that sin 2x “goes twice as fast” as sin x.\n",
"//While sin x takes a full 2*pi radians to go through an entire cycle\n",
"//sin 2x goes through an entire cycle in just pi radians\n",
"\n",
"x = linspace(-0,2*%pi,100);\n",
"y = sin(2*x) ;\n",
"z = sin(x) ;\n",
"set(gca(),'grid',[4 4]);\n",
"plot(x,y,'r-');\n",
"plot(x,z,'b-');\n",
"xlabel('$0\le x\le 2*pi$','fontsize',4,'color','red');\n",
"ylabel('$y(x)=sin(2x)$','fontsize',4,'color','red');\n",
"title('Example 5.4','color','blue','fontsize',9);\n",
"legend(['sin(2x)';'sin(x)']);"
   ]
   }
,
{
		   "cell_type": "markdown",
		   "metadata": {},
		   "source": [
			"## Example 5.5: To_determine_the_period_of_2_given_cosine_functions.sce"
		   ]
		  },
  {
"cell_type": "code",
	   "execution_count": null,
	   "metadata": {
	    "collapsed": true
	   },
	   "outputs": [],
"source": [
"//Example 5.5\n",
"//To determine the period of 2 given cosine functions \n",
"clear,clc;\n",
"\n",
"//y=cos(3*x)\n",
"multiple = 3; //multiplicity of angle \n",
"period_cosx = 2*%pi; //period of sin(x) in radians\n",
"required_period = period_cosx / multiple;\n",
"printf('Period of cos(3*x)is %f radians\n',required_period);\n",
"\n",
"//y=cos(0.5*x)\n",
"multiple = 1/2; //multiplicity of angle \n",
"period_cosx = 2*%pi; //period of sin(x) in radians\n",
"required_period = period_cosx / multiple;\n",
"printf('Period of cos(x/2)is %f radians',required_period);\n",
"\n",
"x = linspace(-0,4*%pi,200);\n",
"y = cos(3*x) ;\n",
"z = cos(x/2) ;\n",
"set(gca(),'grid',[4 4]);\n",
"plot(x,y,'r-');\n",
"plot(x,z,'b-');\n",
"xlabel('$0\le x\le 4*pi$','fontsize',4,'color','red');\n",
"title('Example 5.5','color','blue','fontsize',9);\n",
"legend(['y = cos(3x)';'y = cos(x/2)']);"
   ]
   }
,
{
		   "cell_type": "markdown",
		   "metadata": {},
		   "source": [
			"## Example 5.6: To_determine_the_amplitude_and_period_of_given_function.sce"
		   ]
		  },
  {
"cell_type": "code",
	   "execution_count": null,
	   "metadata": {
	    "collapsed": true
	   },
	   "outputs": [],
"source": [
"//Example 5.6\n",
"//To determine the amplitude and period of given function\n",
"clear,clc;\n",
"\n",
"x = linspace(-0,4*%pi,200);\n",
"y = 3*cos(2*x) ; //given function\n",
"amplitude = y/cos(2*x);\n",
"printf('Amplitude = %f',amplitude);\n",
"\n",
"multiple = 2; //multiplicity of angle\n",
"period_cosx=2*%pi; //period od cos(x)\n",
"period_required = period_cosx / multiple;\n",
"printf('\nPeriod = %f radians',period_required);\n",
"\n",
"x = linspace(-0,2*%pi,50);\n",
"y = 3*cos(2*x) ;\n",
"set(gca(),'grid',[5 5]);\n",
"plot(x,y);\n",
"xlabel('$0\le x\le 2*pi$','fontsize',4,'color','red');\n",
"ylabel('$y(x)=3*cos(2*x)$','fontsize',4,'color','red');\n",
"title('Example 5.6','color','blue','fontsize',9);"
   ]
   }
,
{
		   "cell_type": "markdown",
		   "metadata": {},
		   "source": [
			"## Example 5.7: To_find_amplitude_and_period_of_given_composite_function.sce"
		   ]
		  },
  {
"cell_type": "code",
	   "execution_count": null,
	   "metadata": {
	    "collapsed": true
	   },
	   "outputs": [],
"source": [
"//Example 5.7\n",
"//To find amplitude and period of given composite function \n",
"clear,clc;\n",
"\n",
"x = linspace(0,3,200);\n",
"y1=2 ;//1st part of given function\n",
"amplitude1=y1 ;//amplitude numerically same for constant function\n",
"y2= -3*sin((2*%pi/3)*x); //second part of given function\n",
"amplitude2 = abs(y2/sin((2*%pi/3)*x)) ;//amplitude of part 2\n",
"//Note: adding 2 doesnt change ampitude\n",
"//It just causes the upward shift of graph\n",
"maax =amplitude1 + amplitude2; //altered maximum due to adding of 2\n",
"minn =amplitude1 - amplitude2;//altered minimum due to adding of 2\n",
"amplitude = (maax-minn)/2;//required amplitude\n",
"printf('Amplitude = %f',amplitude);\n",
" \n",
"multiple=2*%pi/3 ;//multiplicity of angle\n",
"period_sinx=2*%pi;//period of sin_x\n",
"period_required = period_sinx/ multiple;\n",
"printf('\nRequired period is %f radians',period_required);\n",
"\n",
"x = linspace(0,3,200);\n",
"y = 2 -3*sin((2*%pi/3)*x)\n",
"set(gca(),'grid',[5 5]);\n",
"plot(x,y);\n",
"xlabel('$0\le x\le 3$','fontsize',4,'color','red');\n",
"ylabel('$y(x)= 2 -3*sin((2*%pi/3)*x)$','fontsize',4,'color','red');\n",
"title('Example 5.7','color','blue','fontsize',9);"
   ]
   }
,
{
		   "cell_type": "markdown",
		   "metadata": {},
		   "source": [
			"## Example 5.8: To_find_the_amplitude_and_period_of_given_function.sce"
		   ]
		  },
  {
"cell_type": "code",
	   "execution_count": null,
	   "metadata": {
	    "collapsed": true
	   },
	   "outputs": [],
"source": [
"//Example 5.8\n",
"//To find the amplitude and period of given function\n",
"clear,clc;\n",
"\n",
"//Period\n",
"printf('PERIOD:\n')\n",
"printf('This isnt a periodic function as x^2 is linearly related to x \n')\n",
"printf('and hence period doesnt exist\n')\n",
"\n",
"//Amplitude\n",
"x = linspace(0,2*%pi,200);\n",
"y = 2*sin(x^2);\n",
"amplitude= y/sin(x^2);\n",
"printf('AMPLITUDE:\n')\n",
"printf('Amplitude exists unlike period\n')\n",
"printf('Because sine component of the given function never exceeds 1\n')\n",
"printf('Function value is always ;ess than constant factor adjacent to sine\n')\n",
"printf('Hence amplitude is the constant factor multiplied with sine component\n\n')\n",
"printf('Amplitude = %f as calculated\n',amplitude)\n",
"\n",
"\n",
"x = linspace(0,2*%pi,200);\n",
"y = 2*sin(x^2) ;\n",
"set(gca(),'grid',[5 5]);\n",
"plot(x,y,'b');\n",
"xlabel('$0\le x\le 2*pi$','fontsize',4,'color','red');\n",
"ylabel('$y(x)= 2*sin(x^2)$','fontsize',4,'color','red');\n",
"title('Example 5.8','color','red','fontsize',9);"
   ]
   }
,
{
		   "cell_type": "markdown",
		   "metadata": {},
		   "source": [
			"## Example 5.9: To_find_the_amplitude_and_period_of_given_function.sce"
		   ]
		  },
  {
"cell_type": "code",
	   "execution_count": null,
	   "metadata": {
	    "collapsed": true
	   },
	   "outputs": [],
"source": [
"//Example 5.9\n",
"//To find the amplitude and period of given function\n",
"clear,clc;\n",
"\n",
"//amplitude\n",
"x = linspace(-0,4*%pi,200);\n",
"y1=3*sin(x); //1st part of given function\n",
"amplitude1=y1/sin(x); //amplitude of part 1\n",
"y2= 4*cos(x); //second part of given function\n",
"amplitude2 =y2/(cos(x)); //amplitude of part 2\n",
"\n",
"//given function is a composition of 2 functions\n",
"//Using trigonometric identities, merge them into 1\n",
"//the amplitude of resultant is the required amplitude\n",
"//In this case the merged function can be sine or cos\n",
"//merging sine and cos into sine,\n",
"amplitude = sqrt(amplitude1^2 + amplitude2^2);\n",
"printf('Amplitude = %f',amplitude);\n",
"\n",
"//period\n",
"period_cosx=2*%pi ;//period of cos(x) is 2 pi\n",
"period_sinx=2*%pi ;//period of sin(x) is 2 pi\n",
"locm = 2*%pi; //lcm of period_sinx and period_cosx\n",
"printf('\nRequired period is %f radians',locm);\n",
"x = linspace(0,4*%pi,200);\n",
"y = 3*sin(x) +4*cos(x);\n",
"set(gca(),'grid',[5 5]);\n",
"plot(x,y,'r');\n",
"xlabel('$0\le x\le 4*pi$','fontsize',4,'color','red');\n",
"ylabel('$y(x)= 3*sin(x) +4*cos(x)$','fontsize',4,'color','red');\n",
"title('Example 5.9','color','red','fontsize',9);"
   ]
   }
],
"metadata": {
		  "kernelspec": {
		   "display_name": "Scilab",
		   "language": "scilab",
		   "name": "scilab"
		  },
		  "language_info": {
		   "file_extension": ".sce",
		   "help_links": [
			{
			 "text": "MetaKernel Magics",
			 "url": "https://github.com/calysto/metakernel/blob/master/metakernel/magics/README.md"
			}
		   ],
		   "mimetype": "text/x-octave",
		   "name": "scilab",
		   "version": "0.7.1"
		  }
		 },
		 "nbformat": 4,
		 "nbformat_minor": 0
}
