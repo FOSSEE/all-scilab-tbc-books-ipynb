{
"cells": [
 {
		   "cell_type": "markdown",
	   "metadata": {},
	   "source": [
       "# Chapter 3: Identities"
	   ]
	},
{
		   "cell_type": "markdown",
		   "metadata": {},
		   "source": [
			"## Example 3.8: EX3_8.sce"
		   ]
		  },
  {
"cell_type": "code",
	   "execution_count": null,
	   "metadata": {
	    "collapsed": true
	   },
	   "outputs": [],
"source": [
"clc,clear\n",
"//Example 3.8\n",
"//To determine values of functions of sum of 2 angles when functions of 2 angles are given\n",
"\n",
"sin_A = 4/5 ;\n",
"cos_A = 3/5 ;\n",
"\n",
"sin_B = 12/13 ;\n",
"cos_B =  5/13 ;\n",
"\n",
"//Apb refers to A plus B\n",
"sin_ApB = sin_A*cos_B +  cos_A*sin_B ;\n",
"cos_ApB = cos_A*cos_B -  sin_A*sin_B ;\n",
"tan_ApB = sin_ApB / cos_ApB ;\n",
"\n",
"printf('sin(A+B) = %f\n',sin_ApB) ;\n",
"printf('cos(A+B) = %f\n',cos_ApB) ;\n",
"printf('tan(A+B) = %f\n',tan_ApB) ;"
   ]
   }
],
"metadata": {
		  "kernelspec": {
		   "display_name": "Scilab",
		   "language": "scilab",
		   "name": "scilab"
		  },
		  "language_info": {
		   "file_extension": ".sce",
		   "help_links": [
			{
			 "text": "MetaKernel Magics",
			 "url": "https://github.com/calysto/metakernel/blob/master/metakernel/magics/README.md"
			}
		   ],
		   "mimetype": "text/x-octave",
		   "name": "scilab",
		   "version": "0.7.1"
		  }
		 },
		 "nbformat": 4,
		 "nbformat_minor": 0
}
