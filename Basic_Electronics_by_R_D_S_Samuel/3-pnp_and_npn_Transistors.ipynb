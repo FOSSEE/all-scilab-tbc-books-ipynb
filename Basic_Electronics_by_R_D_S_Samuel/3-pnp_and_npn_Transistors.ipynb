{
"cells": [
 {
		   "cell_type": "markdown",
	   "metadata": {},
	   "source": [
       "# Chapter 3: pnp and npn Transistors"
	   ]
	},
{
		   "cell_type": "markdown",
		   "metadata": {},
		   "source": [
			"## Example 3.3_14: calculate_the_value_of_Ic_Ie_beta_for_a_transistor.sce"
		   ]
		  },
  {
"cell_type": "code",
	   "execution_count": null,
	   "metadata": {
	    "collapsed": true
	   },
	   "outputs": [],
"source": [
"clc\n",
"disp('Example 3.14')\n",
"printf('\n')\n",
"disp('calculate the value of Ic,Ie,beta for a transistor')\n",
"printf('Given\n')\n",
"alpha=0.98\n",
"//base current\n",
"Ib=120*10^-6\n",
"//Value of Ic\n",
"Ic=alpha*Ib/(1-alpha)\n",
"//Value of Ie\n",
"Ie=Ic+Ib\n",
"//value of beta\n",
"beta=alpha/(1-alpha)\n",
"printf('base current \n%f ampere\n',Ib)\n",
"printf('collector current \n%f ampere\n',Ic)\n",
"printf('Emitter current \n%f ampere\n',Ie)\n",
"printf('beta \n%f\n',beta)"
   ]
   }
,
{
		   "cell_type": "markdown",
		   "metadata": {},
		   "source": [
			"## Example 3.3_15: Find_the_value_of_alpha_and_beta_of_transistor_and_Ib_for_desired_Ic.sce"
		   ]
		  },
  {
"cell_type": "code",
	   "execution_count": null,
	   "metadata": {
	    "collapsed": true
	   },
	   "outputs": [],
"source": [
"clc\n",
"disp('Example 3.15')\n",
"printf('\n')\n",
"disp('Find the value of alpha & beta of transistor and Ib for desired Ic')\n",
"printf('Given\n')\n",
"Ic=1.2*10^-3\n",
"Ib=20*10^-6\n",
"//the value of beta\n",
"beta=Ic/Ib\n",
"//the value of alpha\n",
"alpha=beta/(1+beta)\n",
"//the value of Ib for desired value of Ic=5mA\n",
"Ic1=5*10^-3\n",
"Ib1=Ic1/beta\n",
"printf('beta \n%f\n',beta)\n",
"printf('alpha \n%f\n',alpha)\n",
"printf('base current when collector current is 5mA is \n%f ampere\n',Ib1)"
   ]
   }
,
{
		   "cell_type": "markdown",
		   "metadata": {},
		   "source": [
			"## Example 3.3_16: calculate_the_value_of_alpha_beta_and_Ib_for_a_transistor.sce"
		   ]
		  },
  {
"cell_type": "code",
	   "execution_count": null,
	   "metadata": {
	    "collapsed": true
	   },
	   "outputs": [],
"source": [
"clc\n",
"disp('Example 3.16')\n",
"printf('\n')\n",
"disp('calculate the value of alpha,Ib,beta for a transistor')\n",
"printf('Given\n')\n",
"//collector current\n",
"Ic=2.5*10^-3\n",
"//emitter current\n",
"Ie=2.55*10^-3\n",
"//Value of alpha\n",
"alpha=Ic/Ie\n",
"//Value of Ib\n",
"Ib=Ie-Ic\n",
"//value of beta\n",
"beta=Ic/Ib\n",
"printf('collector current \n%f ampere\n',Ic)\n",
"printf('Emitter current \n%f ampere\n',Ie)\n",
"printf('alpha \n%f\n',alpha)\n",
"printf('base current \n%f ampere\n',Ib)\n",
"printf('beta \n%f\n',beta)"
   ]
   }
,
{
		   "cell_type": "markdown",
		   "metadata": {},
		   "source": [
			"## Example 3.3_17: EX3_3_17.sce"
		   ]
		  },
  {
"cell_type": "code",
	   "execution_count": null,
	   "metadata": {
	    "collapsed": true
	   },
	   "outputs": [],
"source": [
"clc\n",
"disp('Example 3.17')\n",
"printf('\n')\n",
"disp('calculate the value of beta for transistor. find new collector current when beta of new transistor is 70')\n",
"printf('Given\n')\n",
"//old transistor\n",
"Ic=3*10^-3\n",
"Ie=3.03*10^-3\n",
"//find Ib\n",
"Ib=Ie-Ic\n",
"//value of beta\n",
"beta=Ic/Ib\n",
"//for new transistor beta=70\n",
"beta1=70\n",
"//the value of Ic\n",
"Ic=beta1*Ib\n",
"printf('base current \n%f ampere\n',Ib)\n",
"printf('beta \n%f\n',beta)\n",
"printf('new value of collector current for beta 70 is \n%f ampere\n',Ic)"
   ]
   }
,
{
		   "cell_type": "markdown",
		   "metadata": {},
		   "source": [
			"## Example 3.3_18: calculate_the_value_of_Ic_Ie_for_a_transistor_and_Find_beta_for_transistor.sce"
		   ]
		  },
  {
"cell_type": "code",
	   "execution_count": null,
	   "metadata": {
	    "collapsed": true
	   },
	   "outputs": [],
"source": [
"clc\n",
"disp('Example 3.18')\n",
"printf('\n')\n",
"disp('calculate the value of Ic,Ie for a transistor.Find beta for transistor')\n",
"printf('Given\n')\n",
"//For old transistor\n",
"alpha=0.97\n",
"Ib=50*10^-6\n",
"//value of collector current\n",
"Ic=alpha*Ib/(1-alpha)\n",
"//value of emitter current\n",
"Ie=Ic/alpha\n",
"//value of beta\n",
"beta=Ic/Ib\n",
"printf('collector current \n%f ampere\n',Ic)\n",
"printf('Emitter current \n%f ampere\n',Ie)\n",
"printf('beta \n%f\n',beta)"
   ]
   }
,
{
		   "cell_type": "markdown",
		   "metadata": {},
		   "source": [
			"## Example 3.3_19: EX3_3_19.sce"
		   ]
		  },
  {
"cell_type": "code",
	   "execution_count": null,
	   "metadata": {
	    "collapsed": true
	   },
	   "outputs": [],
"source": [
"clc\n",
"disp('Example 3.19')\n",
"printf('\n')\n",
"disp('calculate the value of Ie,alpha,beta for a transistor and find Ib for new value of Ic')\n",
"printf('Given\n')\n",
"//for old transistor\n",
"Ic=5.25*10^-3\n",
"Ib=100*10^-6\n",
"//value of Ie\n",
"Ie=Ic+Ib\n",
"//value of alpha\n",
"alpha=Ic/Ie\n",
"//value of beta\n",
"beta=Ic/Ib\n",
"//for new value of Ib the Ic value is\n",
"Ic1=15*10^-3\n",
"Ib=Ic1/beta\n",
"printf('emitter current \n%f ampere\n',Ie)\n",
"printf('alpha \n%f\n',alpha)\n",
"printf('beta \n%f\n',beta)\n",
"printf('new base current \n%f ampere\n',Ib)"
   ]
   }
,
{
		   "cell_type": "markdown",
		   "metadata": {},
		   "source": [
			"## Example 3.3_20: calculate_the_value_of_Ic_and_Ie_for_a_transistor.sce"
		   ]
		  },
  {
"cell_type": "code",
	   "execution_count": null,
	   "metadata": {
	    "collapsed": true
	   },
	   "outputs": [],
"source": [
"clc\n",
"disp('Example 3.20')\n",
"printf('\n')\n",
"disp('calculate the value of Ic,Ie for a transistor')\n",
"printf('Given\n')\n",
"alpha=0.99\n",
"//base current\n",
"Ib=20*10^-6\n",
"//value of collector current\n",
"Ic=alpha*Ib/(1-alpha)\n",
"//value of emitter current\n",
"Ie=Ic+Ib\n",
"printf('base current \n%f ampere\n',Ib)\n",
"printf('collector current \n%f ampere\n',Ic)\n",
"printf('Emitter current \n%f ampere\n',Ie)\n",
""
   ]
   }
,
{
		   "cell_type": "markdown",
		   "metadata": {},
		   "source": [
			"## Example 3.3_21: calculate_the_value_of_Ic_alpha_beta_for_a_transistor_and_Ic_when_Ib_is_150uA.sce"
		   ]
		  },
  {
"cell_type": "code",
	   "execution_count": null,
	   "metadata": {
	    "collapsed": true
	   },
	   "outputs": [],
"source": [
"clc\n",
"disp('Example 3.21')\n",
"printf('\n')\n",
"disp('calculate the value of Ic,alpha,beta for a transistor and Ic when Ib=150uA')\n",
"printf('Given\n')\n",
"Ic=12.42*10^-3\n",
"Ib=200*10^-6\n",
"//value of Ie\n",
"Ie=Ic+Ib\n",
"//value of alpha\n",
"alpha=Ic/Ie\n",
"//value of beta\n",
"beta=Ic/Ib\n",
"//value of Ic when Ib=150uA\n",
"Ib1=150*10^-6\n",
"Ic=beta*Ib1\n",
"printf('Emitter current \n%f ampere\n',Ie)\n",
"printf('alpha \n%f\n',alpha)\n",
"printf('beta \n%f\n',beta)\n",
"printf('collector current \n%f ampere\n',Ic)"
   ]
   }
,
{
		   "cell_type": "markdown",
		   "metadata": {},
		   "source": [
			"## Example 3.3_22: calculate_the_value_of_Ib_beta_for_a_transistor_and_Ic_Ie_for_new_value_of_beta.sce"
		   ]
		  },
  {
"cell_type": "code",
	   "execution_count": null,
	   "metadata": {
	    "collapsed": true
	   },
	   "outputs": [],
"source": [
"clc\n",
"disp('Example 3.22')\n",
"printf('\n')\n",
"disp('calculate the value of Ib,beta for a transistor and Ic, Ie for new value of beta')\n",
"printf('Given\n')\n",
"Ic=16*10^-3\n",
"Ie=16.04*10^-3\n",
"//base current\n",
"Ib=Ie-Ic\n",
"//beta value\n",
"beta=Ic/Ib\n",
"//for beta=25\n",
"beta1=25\n",
"Ic1=beta1*Ib\n",
"Ie1=Ic1+Ib\n",
"printf('base current \n%f ampere\n',Ib)\n",
"printf('beta \n%f\n',beta)\n",
"printf('emitter current \n%f ampere\n',Ie1)"
   ]
   }
,
{
		   "cell_type": "markdown",
		   "metadata": {},
		   "source": [
			"## Example 3.3_25: Find_the_DC_collector_voltage_and_voltage_gain_of_ckt_for_Vi_is_50mV.sce"
		   ]
		  },
  {
"cell_type": "code",
	   "execution_count": null,
	   "metadata": {
	    "collapsed": true
	   },
	   "outputs": [],
"source": [
"clc\n",
"disp('Example 3.25')\n",
"printf('\n')\n",
"disp('Find the DC collector voltage & voltage gain of circuit for Vi=50mV')\n",
"printf('Given\n')\n",
"//base current for Vbe=0.7\n",
"Ib=30*10^-6\n",
"Vbe=0.7\n",
"beta=80\n",
"//collector current\n",
"Ic=beta*Ib\n",
"//given from ckt\n",
"Vcc=20\n",
"Rc=5.8*10^3\n",
"//writing KVL for Common Emitter circuit\n",
"Vc=Vcc-(Ic*Rc)\n",
"//for input characteristics delVi=delVb=50mV\n",
"Vi=50*10^-3\n",
"delIb=5*10^-6\n",
"Ic1=beta*delIb\n",
"//output voltage\n",
"Vo=Ic1*Rc\n",
"//voltage gain\n",
"Av=Vo/Vi\n",
"printf('Dc collector voltage \n%f volt\n',Vc)\n",
"printf('voltage gain \n%f\n',Av)"
   ]
   }
,
{
		   "cell_type": "markdown",
		   "metadata": {},
		   "source": [
			"## Example 3.3_26: FInd_the_DC_current_gain_for_circuit_fig_15_and_ac_voltage_gain.sce"
		   ]
		  },
  {
"cell_type": "code",
	   "execution_count": null,
	   "metadata": {
	    "collapsed": true
	   },
	   "outputs": [],
"source": [
"clc\n",
"disp('Example 3.26')\n",
"printf('\n')\n",
"disp('FInd the DC current gain for circuit fig 3.15 and ac voltage gain')\n",
"printf('Given\n')\n",
"//to find dc current gain\n",
"//given\n",
"Vcc=15\n",
"Vc=7\n",
"Rc=5.6*10^3\n",
"Ib=20*10^-6\n",
"//to find Vrc\n",
"Vrc=Vcc-Vc\n",
"//collector current\n",
"Ic=Vrc/Rc\n",
"//dc current gain\n",
"betadc=Ic/Ib\n",
"//to find ac voltage gain\n",
"//given\n",
"Vi=50*10^-3\n",
"delIb=10*10^-6\n",
"delIc=betadc*delIb\n",
"//output voltage\n",
"Vo=delIc*Rc\n",
"//voltage gain\n",
"Av=Vo/Vi\n",
"printf('DC current gain \n%f\n',betadc)\n",
"printf('voltage gain \n%f\n',Av)"
   ]
   }
,
{
		   "cell_type": "markdown",
		   "metadata": {},
		   "source": [
			"## Example 3.3_27: Find_the_parameters_of_the_ckt_of_question_27.sce"
		   ]
		  },
  {
"cell_type": "code",
	   "execution_count": null,
	   "metadata": {
	    "collapsed": true
	   },
	   "outputs": [],
"source": [
"clc\n",
"disp('Example 3.27')\n",
"printf('\n')\n",
"disp('Find the following terms as given in question 3.27')\n",
"printf('Given\n')\n",
"//to find collector voltage\n",
"//given\n",
"Vbe=0.7\n",
"Ib=30*10^-6\n",
"beta=50\n",
"Rc=12*10^3\n",
"Vcc=25\n",
"//collector current\n",
"Ic=beta*Ib\n",
"//collector voltage\n",
"Vc=Vcc-(Ic*Rc)\n",
"//to find voltage gain\n",
"//given\n",
"Vi=50*10^-3\n",
"Ib1=15*10^-6\n",
"Ic1=beta*Ib1\n",
"Vo=Ic1*Rc\n",
"//voltage gain\n",
"Av=Vo/Vi\n",
"//to find Vce\n",
"//given\n",
"Vbe=0.73\n",
"Ib2=40*10^-6\n",
"Ic2=beta*Ib2\n",
"Vce=Vcc-(Ic2*Rc)\n",
"//to find voltage gain when Rc changed to 6.8k\n",
"Rc1=6.8*10^3\n",
"Vo1=Ic1*Rc1\n",
"Av1=Vo1/Vi\n",
"//to find current gain of replaced transistor\n",
"//given\n",
"Vc1=9\n",
"Vrc=Vcc-Vc1\n",
"Ic3=Vrc/Rc\n",
"beta1=Ic3/Ib\n",
"printf('collector voltage \n%f volt \n',Vc)\n",
"printf('Voltage gain for vi=50mv \n%f\n',Av)\n",
"printf('Vce if Vbe=0.73 is \n%f volt\n',Vce)\n",
"printf('Voltage gain when Rc=6.8k \n%f Volt\n',Av1)\n",
"printf('current gain of replaced transistor \n%f\n',beta1)"
   ]
   }
,
{
		   "cell_type": "markdown",
		   "metadata": {},
		   "source": [
			"## Example 3.3_34: Obtain_the_CB_current_gain_and_output_characteristics.sce"
		   ]
		  },
  {
"cell_type": "code",
	   "execution_count": null,
	   "metadata": {
	    "collapsed": true
	   },
	   "outputs": [],
"source": [
"clc\n",
"disp('Example 3.34')\n",
"printf('\n')\n",
"disp('Obtain the Common base current gain & output characteristics')\n",
"printf('Given\n')\n",
"Vcb=[ 4 4 4 4 4 4 ]\n",
"Ic=[ 0 2 4 6 8 10]\n",
"subplot(221)\n",
"plot2d(Vcb,Ic)\n",
"xlabel('Vcb in volt')\n",
"ylabel('Ic in Ampere')\n",
"xtitle('output characteristics')\n",
"Ic1=[0 2 10 ]\n",
"Ie=[0 2 10 ]\n",
"subplot(222)\n",
"plot2d(Ie,Ic1)\n",
"xarrows(Ie,Ic1,2,2)\n",
"xarrows(Ie,Ic1,10,10)\n",
"xlabel('Vcb in volt')\n",
"ylabel('Ic in Ampere')\n",
"xtitle('current gain characteristics')"
   ]
   }
,
{
		   "cell_type": "markdown",
		   "metadata": {},
		   "source": [
			"## Example 3.3_46: For_the_circuit_given_draw_a_DC_load_line.sce"
		   ]
		  },
  {
"cell_type": "code",
	   "execution_count": null,
	   "metadata": {
	    "collapsed": true
	   },
	   "outputs": [],
"source": [
"clc\n",
"disp('Example 3.46')\n",
"printf('\n')\n",
"disp('For the circuit shown in example 3.46 draw a DC load line')\n",
"printf('Given\n')\n",
"//to find Vce value when Ic=0\n",
"Ic1=0\n",
"//given\n",
"Rc=12*10^3\n",
"Vcc=20\n",
"//from circuit\n",
"Vce=Vcc-(Ic1*Rc)\n",
"//to find Ic when Vce=0\n",
"Vce1=0\n",
"Ic=Vcc/Rc\n",
"//To draw DC load line\n",
"Vceg=[Vce, Vce1]\n",
"Icg=[Ic1,Ic]\n",
"plot2d(Vceg,Icg)\n",
"xlabel('Vce in volt')\n",
"ylabel('Ic in ampere')\n",
"xtitle('DC Load line for Rc=12Kohm')"
   ]
   }
,
{
		   "cell_type": "markdown",
		   "metadata": {},
		   "source": [
			"## Example 3.3_50: Draw_a_DC_load_line_for_the_base_bias_circuit.sce"
		   ]
		  },
  {
"cell_type": "code",
	   "execution_count": null,
	   "metadata": {
	    "collapsed": true
	   },
	   "outputs": [],
"source": [
"clc\n",
"disp('Example 3.50')\n",
"printf('\n')\n",
"disp('Draw a DC load line for the base bias circuit')\n",
"printf('Given\n')\n",
"//given\n",
"Rc=2.2*10^3\n",
"Rb=470*10^3\n",
"Vcc=18\n",
"Vbe=0.7\n",
"hFE=100\n",
"//find the Ib\n",
"Ib=(Vcc-Vbe)/Rb  // from ciruit\n",
"//find the Ic\n",
"Icq=hFE*Ib\n",
"//find the Vceq\n",
"Vceq=Vcc-(Icq*Rc)\n",
"//to draw Dc load line \n",
"Ic1=Vcc/Rc\n",
"Vce1=Vcc\n",
"Vce=[Vcc Vceq 0]\n",
"Ic=[0 Icq Ic1]\n",
"printf('Q(%f,%f)\n',Vceq,Icq)\n",
"plot2d(Vce, Ic)\n",
"xlabel('Vce in volt')\n",
"ylabel('Ic in Ampere')\n",
"xtitle('DC load line for base bias circuit')"
   ]
   }
,
{
		   "cell_type": "markdown",
		   "metadata": {},
		   "source": [
			"## Example 3.3_51: Draw_a_DC_load_line_for_the_base_bias_circuit_for_different_hFE.sce"
		   ]
		  },
  {
"cell_type": "code",
	   "execution_count": null,
	   "metadata": {
	    "collapsed": true
	   },
	   "outputs": [],
"source": [
"clc\n",
"disp('Example 3.51')\n",
"printf('\n')\n",
"disp('Draw a DC load line for the base bias circuit for different hFE')\n",
"printf('Given\n')\n",
"//given\n",
"Rc=2.2*10^3\n",
"Rb=470*10^3\n",
"Vcc=18\n",
"Vbe=0.7\n",
"hFE1=50\n",
"hFE2=200\n",
"//find the Ib\n",
"Ib=(Vcc-Vbe)/Rb  // from ciruit\n",
"//find the Ic for hFE1\n",
"Icq1=hFE1*Ib\n",
"//find the Vceq1\n",
"Vceq1=Vcc-(Icq1*Rc)\n",
"//find the Ic for hFE2\n",
"Icq2=hFE2*Ib\n",
"//find the Vceq2\n",
"Vceq2=Vcc-(Icq2*Rc)\n",
"//to draw Dc load line \n",
"Ic1=Vcc/Rc\n",
"Vce1=Vcc\n",
"Vce=[Vcc Vceq1 Vceq2 0]\n",
"Ic=[0 Icq1 Icq2 Ic1]\n",
"printf('Q1(%f volt,%f ampere)\n',Vceq1,Icq1)\n",
"printf('Q2(%f volt,%f ampere)\n',Vceq2,Icq2)\n",
"plot2d(Vce, Ic)\n",
"xlabel('Vce in volt')\n",
"ylabel('Ic in ampere')\n",
"xtitle('DC load line for base bias circuit')"
   ]
   }
,
{
		   "cell_type": "markdown",
		   "metadata": {},
		   "source": [
			"## Example 3.3_52: Find_Ic_and_Vce_and_Draw_a_DC_load_line_for_the_base_bias_circuit.sce"
		   ]
		  },
  {
"cell_type": "code",
	   "execution_count": null,
	   "metadata": {
	    "collapsed": true
	   },
	   "outputs": [],
"source": [
"clc\n",
"disp('Example 3.52')\n",
"printf('\n')\n",
"disp(' Find Ic & Vce. Draw a DC load line for the base bias circuit')\n",
"printf('Given\n')\n",
"//given\n",
"betadc=100\n",
"Vbe=0.7\n",
"Rc=10^3\n",
"Rb=10^5\n",
"Vb=5\n",
"Vc=10\n",
"//to find Ib\n",
"Ib=(Vb-Vbe)/Rb  //from ciruit\n",
"//Ic value\n",
"Icq=betadc*Ib\n",
"//Vce value\n",
"Vceq=Vc-(Icq*Rc)\n",
"//to draw DC load line\n",
"Ic1=Vc/Rc\n",
"Vce1=Vc\n",
"Vce=[Vc Vceq 0]\n",
"Ic=[0 Icq Ic1]\n",
"printf('Q(%f volt,%f ampere)\n',Vceq,Icq)\n",
"plot2d(Vce, Ic)\n",
"xlabel('Vce in volt')\n",
"ylabel('Ic in ampere')\n",
"xtitle('DC load line for base bias circuit')"
   ]
   }
,
{
		   "cell_type": "markdown",
		   "metadata": {},
		   "source": [
			"## Example 3.3_53: Find_Ic_and_Vce_and_Draw_a_DC_load_line_for_the_base_bias_circuit.sce"
		   ]
		  },
  {
"cell_type": "code",
	   "execution_count": null,
	   "metadata": {
	    "collapsed": true
	   },
	   "outputs": [],
"source": [
"clc\n",
"disp('Example 3.53')\n",
"printf('\n')\n",
"disp(' Find Ic & Vce. Draw a DC load line for the base bias circuit')\n",
"printf('Given\n')\n",
"//given\n",
"betadc=50\n",
"Vbe=0.7\n",
"Rc=2.2*10^3\n",
"Rb=240*10^3\n",
"Vc=12\n",
"//to find Ib\n",
"Ib=(Vc-Vbe)/Rb  //from ciruit\n",
"//Ic value\n",
"Icq=betadc*Ib\n",
"//Vce value\n",
"Vceq=Vc-(Icq*Rc)\n",
"//to draw DC load line\n",
"Ic1=Vc/Rc\n",
"Vce1=Vc\n",
"Vce=[Vc Vceq 0]\n",
"Ic=[0 Icq Ic1]\n",
"printf('Q(%f volt,%f ampere)\n',Vceq,Icq)\n",
"plot2d(Vce, Ic)\n",
"xlabel('Vce in volt')\n",
"ylabel('Ic in ampere')\n",
"xtitle('DC load line for base bias circuit')"
   ]
   }
,
{
		   "cell_type": "markdown",
		   "metadata": {},
		   "source": [
			"## Example 3.3_54: Draw_a_DC_load_line_for_the_base_bias_circuit_neglecting_Vbe.sce"
		   ]
		  },
  {
"cell_type": "code",
	   "execution_count": null,
	   "metadata": {
	    "collapsed": true
	   },
	   "outputs": [],
"source": [
"clc\n",
"disp('Example 3.54')\n",
"printf('\n')\n",
"disp(' Draw a DC load line for the base bias circuit neglecting Vbe')\n",
"printf('Given\n')\n",
"//given\n",
"betadc=100\n",
"Rc=5*10^3\n",
"Rb=1.5*10^6\n",
"Vc=30\n",
"//to find Ib\n",
"Ib=Vc/Rb  //from ciruit\n",
"//Ic value\n",
"Icq=betadc*Ib\n",
"//Vce value\n",
"Vceq=Vc-(Icq*Rc)\n",
"//to draw DC load line\n",
"Ic1=Vc/Rc\n",
"Vce1=Vc\n",
"Vce=[Vc Vceq 0]\n",
"Ic=[0 Icq Ic1]\n",
"printf('Q(%f volt,%f ampere)\n',Vceq,Icq)\n",
"plot2d(Vce, Ic)\n",
"xlabel('Vce in volt')\n",
"ylabel('Ic in ampere')\n",
"xtitle('DC load line for base bias circuit')"
   ]
   }
,
{
		   "cell_type": "markdown",
		   "metadata": {},
		   "source": [
			"## Example 3.3_55: Calculate_transistor_hFE_and_new_Vce_level_for_hFE_is_100_of_base_bias_ciruit.sce"
		   ]
		  },
  {
"cell_type": "code",
	   "execution_count": null,
	   "metadata": {
	    "collapsed": true
	   },
	   "outputs": [],
"source": [
"clc\n",
"disp('Example 3.55')\n",
"printf('\n')\n",
"disp('Calculate transistor hFE & new Vce level for hFE=100 of base bias ciruit')\n",
"printf('Given\n')\n",
"//given\n",
"Vcc=24\n",
"Rb=390*10^3\n",
"Rc=3.3*10^3\n",
"Vce=10\n",
"//Find Ic\n",
"Ic=(Vcc-Vce)/Rc  //from circuit\n",
"//find Ib\n",
"Ib=(Vcc-Vbe)/Rb  //from ciruit\n",
"//the value of hFE\n",
"hFE=Ic/Ib\n",
"//to find Vce when hFE=100\n",
"hFE1=100\n",
"Ic1=hFE1*Ib\n",
"Vce1=Vcc-(Ic1*Rc)\n",
"printf('Value of hFE is \n%f\n',hFE)\n",
"printf('New value of Vce is \n%f volt\n',Vce1)"
   ]
   }
,
{
		   "cell_type": "markdown",
		   "metadata": {},
		   "source": [
			"## Example 3.3_57: Design_a_Base_bias_circuit.sce"
		   ]
		  },
  {
"cell_type": "code",
	   "execution_count": null,
	   "metadata": {
	    "collapsed": true
	   },
	   "outputs": [],
"source": [
"clc\n",
"disp('Example 3.57')\n",
"printf('\n')\n",
"disp('Design a Base bias circuit')\n",
"printf('Given\n')\n",
"//given\n",
"Vce=5\n",
"Ic=5*10^-3\n",
"Vcc=15\n",
"hFE=100\n",
"//Value of Rc\n",
"Rc=(Vcc-Vce)/Ic\n",
"Ib=Ic/hFE\n",
"//value of Rb\n",
"Vbe=0.7\n",
"Rb=(Vcc-Vbe)/Ib\n",
"printf('The value of Rc=%f ohm\nRb=%f ohm\n',Rc,Rb)\n",
""
   ]
   }
,
{
		   "cell_type": "markdown",
		   "metadata": {},
		   "source": [
			"## Example 3.3_58: Draw_the_DC_load_line_and_determine_Rc_for_base_bias_circuit.sce"
		   ]
		  },
  {
"cell_type": "code",
	   "execution_count": null,
	   "metadata": {
	    "collapsed": true
	   },
	   "outputs": [],
"source": [
"clc\n",
"disp('Example 3.58')\n",
"printf('\n')\n",
"disp('Draw the DC load line & determine Rc for base bias circuit')\n",
"printf('Given\n')\n",
"//given\n",
"Vcc=18\n",
"Vbe=0.7\n",
"Vceq=9\n",
"Icq=2*10^-3\n",
"//to find Rc\n",
"Rc=(Vcc-Vceq)/Icq //from circuit\n",
"//to draw DC load line\n",
"Ic1=Vcc/Rc\n",
"Vce=[Vcc Vceq 0]\n",
"Ic=[0 Icq Ic1]\n",
"printf('Q(%f volt,%f ampere)\n',Vceq,Icq)\n",
"plot2d(Vce, Ic)\n",
"xlabel('Vce in volt')\n",
"ylabel('Ic in ampere')\n",
"xtitle('DC load line for base bias circuit')"
   ]
   }
,
{
		   "cell_type": "markdown",
		   "metadata": {},
		   "source": [
			"## Example 3.3_59: Calculate_Base_resistance_for_base_bias_circuit.sce"
		   ]
		  },
  {
"cell_type": "code",
	   "execution_count": null,
	   "metadata": {
	    "collapsed": true
	   },
	   "outputs": [],
"source": [
"clc\n",
"disp('Example 3.59')\n",
"printf('\n')\n",
"disp('Calculate Base resistance for base bias circuit')\n",
"printf('Given\n')\n",
"//given\n",
"Vcc=20\n",
"Vce=5\n",
"Rc=6.8*10^3\n",
"hFE=120\n",
"Vbe=0.7\n",
"//collector current\n",
"Ic=(Vcc-Vce)/Rc\n",
"//base current\n",
"Ib=Ic/hFE\n",
"//the required base resistance\n",
"Rb=(Vcc-Vbe)/Ib\n",
"printf('The base resistance \n%f ohm\n',Rb)"
   ]
   }
,
{
		   "cell_type": "markdown",
		   "metadata": {},
		   "source": [
			"## Example 3.3_61: Determine_the_Ic_and_Vce_levels_and_draw_DC_load_line_for_Collector_to_base_bias.sce"
		   ]
		  },
  {
"cell_type": "code",
	   "execution_count": null,
	   "metadata": {
	    "collapsed": true
	   },
	   "outputs": [],
"source": [
"clc\n",
"disp('Example 3.61')\n",
"printf('\n')\n",
"disp('Determine the Ic & Vce levels & draw DC load line for Collector to base bias')\n",
"printf('Given\n')\n",
"//given\n",
"Vcc=15\n",
"Vbe=0.7\n",
"hFE=50\n",
"Rc=1.8*10^3\n",
"Rb=39*10^3\n",
"//base current\n",
"Ib=(Vcc-Vbe)/(Rb+(1+hFE)*Rc)\n",
"//collector current\n",
"Icq=hFE*Ib\n",
"//value of Vce\n",
"Vceq=(Ib*Rb)+Vbe\n",
"//to draw DC load line\n",
"Ic1=Vcc/Rc\n",
"Vce=[Vcc Vceq 0]\n",
"Ic=[0 Icq Ic1]\n",
"printf('Q(%f volt,%f ampere)\n',Vceq,Icq)\n",
"plot2d(Vce, Ic)\n",
"xlabel('Vce in volt')\n",
"ylabel('Ic in ampere')\n",
"xtitle('DC load line for base bias circuit')\n",
""
   ]
   }
,
{
		   "cell_type": "markdown",
		   "metadata": {},
		   "source": [
			"## Example 3.3_62: Determine_the_hFE_and_new_Vce_for_hFE_is_50_for_Collector_to_base_bias.sce"
		   ]
		  },
  {
"cell_type": "code",
	   "execution_count": null,
	   "metadata": {
	    "collapsed": true
	   },
	   "outputs": [],
"source": [
"clc\n",
"disp('Example 3.62')\n",
"printf('\n')\n",
"disp('Determine the hFE and new Vce for hFE=50 for Collector to base bias')\n",
"printf('Given\n')\n",
"//given\n",
"Vcc=15\n",
"Vce=5\n",
"Vbe=0.7\n",
"Rb=82*10^3\n",
"Rc=5.6*10^3\n",
"//base current\n",
"Ib=(Vce-Vbe)/Rb\n",
"//hFE value\n",
"hFE=((Vcc-Vbe)/(Ib*Rc))-(Rb/Rc)-1\n",
"//to find Vce for hFE=50\n",
"hFE1=50\n",
"Ib1=(Vcc-Vbe)/(Rb+(1+hFE1)*Rc)\n",
"Vce1=(Ib1*Rb)+Vbe\n",
"printf('The hFE is \n%f\n',hFE)\n",
"printf('new Vce is \n%fvolt \n',Vce1)"
   ]
   }
,
{
		   "cell_type": "markdown",
		   "metadata": {},
		   "source": [
			"## Example 3.3_63: Draw_a_DC_load_line_for_Collector_to_base_bias.sce"
		   ]
		  },
  {
"cell_type": "code",
	   "execution_count": null,
	   "metadata": {
	    "collapsed": true
	   },
	   "outputs": [],
"source": [
"clc\n",
"disp('Example 3.63')\n",
"printf('\n')\n",
"disp('Draw a DC load line for Collector to base bias')\n",
"printf('Given\n')\n",
"//given\n",
"Vcc=20\n",
"Vbe=0.7\n",
"hFE=50\n",
"Rc=1.8*10^3\n",
"Rb=39*10^3\n",
"//base current\n",
"Ib=(Vcc-Vbe)/(Rb+(1+hFE)*Rc)\n",
"//collector current\n",
"Icq=hFE*Ib\n",
"//to find Vce\n",
"Vceq=(Ib*Rb)+Vbe\n",
"//to draw DC load line\n",
"Ic1=Vcc/Rc\n",
"Vce=[Vcc Vceq 0]\n",
"Ic=[0 Icq Ic1]\n",
"printf('Q(%f,%f)\n',Vceq,Icq)\n",
"plot2d(Vce, Ic)\n",
"xlabel('Vce')\n",
"ylabel('Ic')\n",
"xtitle('DC load line for base bias circuit')"
   ]
   }
,
{
		   "cell_type": "markdown",
		   "metadata": {},
		   "source": [
			"## Example 3.3_64: Draw_a_DC_load_line_for_Collector_to_base_bias_for_different_hFE.sce"
		   ]
		  },
  {
"cell_type": "code",
	   "execution_count": null,
	   "metadata": {
	    "collapsed": true
	   },
	   "outputs": [],
"source": [
"clc\n",
"disp('Example 3.64')\n",
"printf('\n')\n",
"disp('Draw a DC load line for Collector to base bias for different hFE')\n",
"printf('Given\n')\n",
"//given\n",
"Vcc=18\n",
"Vbe=0.7\n",
"hFE1=50\n",
"hFE2=200\n",
"Rc=2.2*10^3\n",
"Rb=270*10^3\n",
"//for hFE=50\n",
"//base current\n",
"Ib1=(Vcc-Vbe)/(Rb+(1+hFE1)*Rc)\n",
"//collector current\n",
"Icq1=hFE1*Ib1\n",
"//to find Vce\n",
"Vceq1=(Ib1*Rb)+Vbe\n",
"//for hFE=200\n",
"//base current\n",
"Ib2=(Vcc-Vbe)/(Rb+(1+hFE2)*Rc)\n",
"//collector current\n",
"Icq2=hFE2*Ib2\n",
"//to find Vce\n",
"Vceq2=(Ib2*Rb)+Vbe\n",
"//to draw DC load line\n",
"Ic1=Vcc/Rc\n",
"Vce=[Vcc Vceq1 Vceq2 0]\n",
"Ic=[0 Icq1 Icq2 Ic1]\n",
"printf('Q1(%f volt,%f ampere)\n',Vceq1,Icq1)\n",
"printf('Q2(%f volt,%f ampere)\n',Vceq2,Icq2)\n",
"plot2d(Vce, Ic)\n",
"xlabel('Vce in volt')\n",
"ylabel('Ic in ampere')\n",
"xtitle('DC load line for base bias circuit')"
   ]
   }
,
{
		   "cell_type": "markdown",
		   "metadata": {},
		   "source": [
			"## Example 3.3_66: Design_a_Collector_to_base_bias_circuit.sce"
		   ]
		  },
  {
"cell_type": "code",
	   "execution_count": null,
	   "metadata": {
	    "collapsed": true
	   },
	   "outputs": [],
"source": [
"clc\n",
"disp('Example 3.66')\n",
"printf('\n')\n",
"disp('Design a Collector to base bias circuit')\n",
"printf('Given\n')\n",
"//Given\n",
"Vce=5\n",
"Ic=5*10^-3\n",
"Vbe=0.7\n",
"Vcc=15\n",
"hFE=100\n",
"//base current\n",
"Ib=Ic/hFE\n",
"//collector resistance\n",
"Rc=(Vcc-Vce)/(Ic+Ib)\n",
"//base resistance\n",
"Rb=(Vce-Vbe)/Ib\n",
"printf('base current %f ampere \n',Ib)\n",
"printf('Collector resistance %f ohm \n',Rc)\n",
"printf('base resistance %f ohm \n',Rb)"
   ]
   }
,
{
		   "cell_type": "markdown",
		   "metadata": {},
		   "source": [
			"## Example 3.3_67: Design_a_Collector_to_base_bias_circuit.sce"
		   ]
		  },
  {
"cell_type": "code",
	   "execution_count": null,
	   "metadata": {
	    "collapsed": true
	   },
	   "outputs": [],
"source": [
"clc\n",
"disp('Example 3.67')\n",
"printf('\n')\n",
"disp('Design a Collector to base bias circuit')\n",
"printf('Given\n')\n",
"//Given\n",
"Vce=10\n",
"Ic=3*10^-3\n",
"Vbe=0.7\n",
"Vcc=25\n",
"hFE=80\n",
"//base current\n",
"Ib=Ic/hFE\n",
"//collector resistance\n",
"Rc=(Vcc-Vce)/(Ic+Ib)\n",
"//base current\n",
"Rb=(Vce-Vbe)/Ib\n",
"printf('base current %f ampere \n',Ib)\n",
"printf('Collector resistance %f ohm \n',Rc)\n",
"printf('base resistance %f ohm \n',Rb)"
   ]
   }
,
{
		   "cell_type": "markdown",
		   "metadata": {},
		   "source": [
			"## Example 3.3_68: Calculate_required_base_resistance_for_Collector_to_base_bias_circuit.sce"
		   ]
		  },
  {
"cell_type": "code",
	   "execution_count": null,
	   "metadata": {
	    "collapsed": true
	   },
	   "outputs": [],
"source": [
"clc\n",
"disp('Example 3.68')\n",
"printf('\n')\n",
"disp('Calculate required base resistance for Collector to base bias circuit')\n",
"printf('Given\n')\n",
"//given\n",
"Vcc=30\n",
"Vce=7\n",
"Vbe=0.7\n",
"Rc=8.2*10^3\n",
"hFE=100\n",
"//base current\n",
"Ib=(Vcc-Vce)/(Rc*(1+hFE))\n",
"//base resistance\n",
"Rb=(Vce-Vbe)/Ib\n",
"printf('base resistance is \n%f ohm\n',Rb)"
   ]
   }
,
{
		   "cell_type": "markdown",
		   "metadata": {},
		   "source": [
			"## Example 3.3_72: Draw_a_DC_load_line_for_Voltage_divider_circuit.sce"
		   ]
		  },
  {
"cell_type": "code",
	   "execution_count": null,
	   "metadata": {
	    "collapsed": true
	   },
	   "outputs": [],
"source": [
"clc\n",
"disp('Example 3.72')\n",
"printf('\n')\n",
"disp('Draw a DC load line for Voltage divider circuit')\n",
"printf('Given\n')\n",
"//given\n",
"Vcc=15\n",
"Rc=2.7*10^3\n",
"Re=2.2*10^3\n",
"R1=22*10^3\n",
"R2=12*10^3\n",
"Vbe=0.7\n",
"//base voltage\n",
"Vb=(Vcc*R2)/(R1+R2)\n",
"//emitter voltage\n",
"Ve=Vb-Vbe\n",
"//emitter current\n",
"Ie=Ve/Re\n",
"//collector current\n",
"Icq=Ie\n",
"//collector to emitter voltage\n",
"Vceq=Vcc-(Icq*(Rc+Re))\n",
"//collector voltage\n",
"Vc=Vce+Ve\n",
"//to draw DC load line\n",
"Ic1=Vcc/(Rc+Re)\n",
"Vce=[Vcc Vceq 0]\n",
"Ic=[0 Icq Ic1]\n",
"printf('Q(%f volt,%f ampere)\n',Vceq,Icq)\n",
"plot2d(Vce, Ic)\n",
"xlabel('Vce in volt')\n",
"ylabel('Ic in ampere')\n",
"xtitle('DC load line for base bias circuit')"
   ]
   }
,
{
		   "cell_type": "markdown",
		   "metadata": {},
		   "source": [
			"## Example 3.3_73: Find_the_Ve_Ic_Vce_and_Vc_and_Draw_a_DC_load_line_for_Voltage_divider_circuit.sce"
		   ]
		  },
  {
"cell_type": "code",
	   "execution_count": null,
	   "metadata": {
	    "collapsed": true
	   },
	   "outputs": [],
"source": [
"clc\n",
"disp('Example 3.73')\n",
"printf('\n')\n",
"disp('Find the Ve, Ic,Vce & Vc. Draw a DC load line for Voltage divider circuit')\n",
"printf('Given\n')\n",
"//given\n",
"Vcc=18\n",
"Vbe=0.7\n",
"hFE=50\n",
"R1=33*10^3\n",
"R2=12*10^3\n",
"Rc=1.2*10^3\n",
"Re=10^3\n",
"//thevenin voltage\n",
"Vt=(Vcc*R2)/(R1+R2)\n",
"//thevenin resistance\n",
"Rt=(R1*R2)/(R1+R2)\n",
"//base current\n",
"Ib=(Vt-Vbe)/(Rt+(1+hFE)*Re)\n",
"//collector current\n",
"Icq=hFE*Ib\n",
"//emitter current\n",
"Ie=Ib+Icq\n",
"//emitter voltage\n",
"Ve=Ie*Re\n",
"//collector to emitter voltage\n",
"Vceq=Vcc-(Icq*Rc)-(Ie*Re)\n",
"//collector voltage\n",
"Vc=Vce+Ve\n",
"//to draw DC load line\n",
"Ic1=Vcc/(Rc+Re)\n",
"Vce=[Vcc Vceq 0]\n",
"Ic=[0 Icq Ic1]\n",
"printf('Q(%f volt,%f ampere)\n',Vceq,Icq)\n",
"plot2d(Vce, Ic)\n",
"xlabel('Vce in volt')\n",
"ylabel('Ic in ampere')\n",
"xtitle('DC load line for base bias circuit')"
   ]
   }
,
{
		   "cell_type": "markdown",
		   "metadata": {},
		   "source": [
			"## Example 3.3_74: Find_the_Ve_Ic_Vce_and_Vc_and_Draw_a_DC_load_line_for_Voltage_divider_circuit.sce"
		   ]
		  },
  {
"cell_type": "code",
	   "execution_count": null,
	   "metadata": {
	    "collapsed": true
	   },
	   "outputs": [],
"source": [
"clc\n",
"disp('Example 3.74')\n",
"printf('\n')\n",
"disp('Find the Ve, Ic,Vce & Vc. Draw a DC load line for Voltage divider circuit')\n",
"printf('Given\n')\n",
"//given\n",
"Vcc=15\n",
"Vbe=0.7\n",
"hFE=50\n",
"R1=6.8*10^3\n",
"R2=3.3*10^3\n",
"Rc=0.9*10^3\n",
"Re=0.9*10^3\n",
"//thevenin voltage\n",
"Vt=(Vcc*R2)/(R1+R2)\n",
"//thevenin resistance\n",
"Rt=(R1*R2)/(R1+R2)\n",
"//base current\n",
"Ib=(Vt-Vbe)/(Rt+(1+hFE)*Re)\n",
"//collector current\n",
"Icq=hFE*Ib\n",
"//emitter current\n",
"Ie=Ib+Icq\n",
"//emitter voltage\n",
"Ve=Ie*Re\n",
"//collector to emitter voltage\n",
"Vceq=Vcc-(Icq*Rc)-(Ie*Re)\n",
"//collector voltage\n",
"Vc=Vce+Ve\n",
"//to draw DC load line\n",
"Ic1=Vcc/(Rc+Re)\n",
"Vce=[Vcc Vceq 0]\n",
"Ic=[0 Icq Ic1]\n",
"printf('Q(%f,%f)\n',Vceq,Icq)\n",
"plot2d(Vce, Ic)\n",
"xlabel('Vce')\n",
"ylabel('Ic')\n",
"xtitle('DC load line for base bias circuit')"
   ]
   }
,
{
		   "cell_type": "markdown",
		   "metadata": {},
		   "source": [
			"## Example 3.3_76: Design_a_Voltage_divider_bias_circuit.sce"
		   ]
		  },
  {
"cell_type": "code",
	   "execution_count": null,
	   "metadata": {
	    "collapsed": true
	   },
	   "outputs": [],
"source": [
"clc\n",
"disp('Example 3.76')\n",
"printf('\n')\n",
"disp('Design a Voltage divider bias circuit')\n",
"printf('Given\n')\n",
"//given\n",
"Vce=5\n",
"Ve=Vce\n",
"Ic=5*10^-3\n",
"Vcc=15\n",
"hFE=100\n",
"Vbe=0.7\n",
"//emitter resistance\n",
"Re=Ve/Ic\n",
"//collector resistance\n",
"Rc=(Vcc-Vce-Ve)/Ic\n",
"//current through resistor R2\n",
"I2=Ic/10\n",
"//base voltage\n",
"Vb=Vbe+Ve\n",
"//resistance 1\n",
"R1=(Vcc-Vb)/I2\n",
"//resistance 2\n",
"R2=Vb/I2\n",
"printf('Collector resistance %f ohm \n',Rc)\n",
"printf('emitter resistance %f ohm \n',Re)\n",
"printf('base voltage %f volt \n',Vb)\n",
"printf('voltage divider resistance R1 & R2 %f ohm\n %f ohm\n',R1,R2)"
   ]
   }
,
{
		   "cell_type": "markdown",
		   "metadata": {},
		   "source": [
			"## Example 3.3_77: Design_a_Voltage_divider_bias_circuit.sce"
		   ]
		  },
  {
"cell_type": "code",
	   "execution_count": null,
	   "metadata": {
	    "collapsed": true
	   },
	   "outputs": [],
"source": [
"clc\n",
"disp('Example 3.77')\n",
"printf('\n')\n",
"disp('Design a Voltage divider bias circuit')\n",
"printf('Given\n')\n",
"//given\n",
"Vce=3\n",
"Ve=5\n",
"Ic=10^-3\n",
"Vcc=12\n",
"Vbe=0.7\n",
"//emitter resistance\n",
"Re=Ve/Ic\n",
"//collector resistance\n",
"Rc=(Vcc-Vce-Ve)/Ic\n",
"//current through resistor R2\n",
"I2=Ic/10\n",
"//base voltage\n",
"Vb=Vbe+Ve\n",
"//resistance 1\n",
"R1=(Vcc-Vb)/I2\n",
"//resistance 2\n",
"R2=Vb/I2\n",
"printf('Collector resistance %f ohm \n',Rc)\n",
"printf('emitter resistance %f ohm \n',Re)\n",
"printf('base voltage %f volt \n',Vb)\n",
"printf('voltage divider resistance R1 & R2 %f ohm\n %f ohm\n',R1,R2)\n",
""
   ]
   }
,
{
		   "cell_type": "markdown",
		   "metadata": {},
		   "source": [
			"## Example 3.3_79: Calculate_the_suitable_resistor_values_for_Voltage_divider_bias_circuit.sce"
		   ]
		  },
  {
"cell_type": "code",
	   "execution_count": null,
	   "metadata": {
	    "collapsed": true
	   },
	   "outputs": [],
"source": [
"clc\n",
"disp('Example 3.79')\n",
"printf('\n')\n",
"disp('Calculate the suitable resistor values for Voltage divider bias circuit')\n",
"printf('Given\n')\n",
"printf('1 Resistance are in ohms \n2 Current are in ampere \n3 voltage sources are in volt')\n",
"//given\n",
"Vcc=20\n",
"Vce=8\n",
"hFE=80\n",
"Vbe=0.7\n",
"Rc=6*10^3\n",
"//select Ve\n",
"Ve=5\n",
"//find collector resistor\n",
"Ic=(Vcc-Vce-Ve)/Rc\n",
"//find I2\n",
"I2=Ic/10\n",
"//emitter resistance\n",
"Re=Ve/Ic\n",
"//base voltage\n",
"Vb=Vbe+Ve\n",
"//resistance R1\n",
"R1=(Vcc-Vb)/I2\n",
"//resistance R2\n",
"R2=Vb/I2\n",
"printf('Collector resistance %f ohm \n',Rc)\n",
"printf('emitter resistance %f ohm \n',Re)\n",
"printf('base voltage %f volt \n',Vb)\n",
"printf('voltage divider resistance R1 & R2 %f ohm\n %f ohm\n',R1,R2)\n",
"\n",
""
   ]
   }
,
{
		   "cell_type": "markdown",
		   "metadata": {},
		   "source": [
			"## Example 3.3_85: EX3_3_85.sce"
		   ]
		  },
  {
"cell_type": "code",
	   "execution_count": null,
	   "metadata": {
	    "collapsed": true
	   },
	   "outputs": [],
"source": [
"clc\n",
"disp('Example 3.85')\n",
"printf('\n')\n",
"disp('Find the stability factor & change in Ic for increase in temperature of base bias circuit')\n",
"printf('Given\n')\n",
"//given\n",
"hFE=100\n",
"Rc=2.2*10^3\n",
"Rb=470*10^3\n",
"Icbo1=15*10^-9\n",
"T1=25\n",
"T2=105\n",
"//stability factor\n",
"S=1+hFE\n",
"//Change in collector to base reverse saturation current(delIcbo)\n",
"n=(T2-T1)/10\n",
"Icbo2=Icbo1*2^8\n",
"delIcbo=Icbo2-Icbo1\n",
"//Change in Ic for increase in temperature\n",
"delIc=S*delIcbo\n",
"printf('Stability factor is \n%f\n',S)\n",
"printf('the change in collector current is \n%f ampere\n',delIc)"
   ]
   }
,
{
		   "cell_type": "markdown",
		   "metadata": {},
		   "source": [
			"## Example 3.3_86: EX3_3_86.sce"
		   ]
		  },
  {
"cell_type": "code",
	   "execution_count": null,
	   "metadata": {
	    "collapsed": true
	   },
	   "outputs": [],
"source": [
"clc\n",
"disp('Example 3.86')\n",
"printf('\n')\n",
"disp('Find the stability factor & change in Ic for increase in temperature of collector to base bias circuit')\n",
"printf('Given\n')\n",
"//given\n",
"hFE=100\n",
"Rc=2.2*10^3\n",
"Rb=270*10^3\n",
"Icbo1=15*10^-9\n",
"T1=25\n",
"T2=105\n",
"//stability factor\n",
"S=(1+hFE)/(1+((hFE*Rc)/(Rc+Rb)))\n",
"//Change in collector to base reverse saturation current(delIcbo)\n",
"n=(T2-T1)/10\n",
"Icbo2=Icbo1*2^8\n",
"delIcbo=Icbo2-Icbo1\n",
"//Change in Ic for increase in temperature\n",
"delIc=S*delIcbo\n",
"printf('stability factor %f \n',S)\n",
"printf('change in Ic %f ampere\n',delIc)"
   ]
   }
,
{
		   "cell_type": "markdown",
		   "metadata": {},
		   "source": [
			"## Example 3.3_87: EX3_3_87.sce"
		   ]
		  },
  {
"cell_type": "code",
	   "execution_count": null,
	   "metadata": {
	    "collapsed": true
	   },
	   "outputs": [],
"source": [
"clc\n",
"disp('Example 3.87')\n",
"printf('\n')\n",
"disp('Find the stability factor & change in Ic for increase in temperature of Voltage divider bias circuit')\n",
"printf('Given\n')\n",
"//given\n",
"hFE=100\n",
"Rc=1.2*10^3\n",
"R1=33*10^3\n",
"R2=12*10^3\n",
"Re=10^3\n",
"Icbo1=15*10^-9\n",
"T1=25\n",
"T2=105\n",
"//thevenin resistance\n",
"Rt=(R1*R2)/(R1+R2)\n",
"//stability factor\n",
"S=(1+hFE)/(1+((hFE*Re)/(Re+Rt)))\n",
"//Change in collector to base reverse saturation current(delIcbo)\n",
"n=(T2-T1)/10\n",
"Icbo2=Icbo1*2^8\n",
"delIcbo=Icbo2-Icbo1\n",
"//Change in Ic for increase in temperature\n",
"delIc=S*delIcbo\n",
"printf('stability factor %f \n',S)\n",
"printf('change in Ic %f ampere\n',delIc)"
   ]
   }
,
{
		   "cell_type": "markdown",
		   "metadata": {},
		   "source": [
			"## Example 3.3_89: EX3_3_89.sce"
		   ]
		  },
  {
"cell_type": "code",
	   "execution_count": null,
	   "metadata": {
	    "collapsed": true
	   },
	   "outputs": [],
"source": [
"clc\n",
"disp('Example 3.89')\n",
"printf('\n')\n",
"disp('Calculate the change in Ic produced by effect of Vbe changes over temperature of Voltage divider bias circuit')\n",
"printf('Given\n')\n",
"//given\n",
"Re=4.7*10^3\n",
"T1=25\n",
"T2=125\n",
"//change in temperature\n",
"delT=T2-T1\n",
"//change in Vbe\n",
"delVbe=delT*(-1.8*10^-3)  //change in Vbe for 1C raise in temperature=-1.8mV/C\n",
"//change in Ic\n",
"delIc=-delVbe/Re\n",
"printf('change in Ic %f ampere\n',delIc)"
   ]
   }
,
{
		   "cell_type": "markdown",
		   "metadata": {},
		   "source": [
			"## Example 3.3_90: EX3_3_90.sce"
		   ]
		  },
  {
"cell_type": "code",
	   "execution_count": null,
	   "metadata": {
	    "collapsed": true
	   },
	   "outputs": [],
"source": [
"clc\n",
"disp('Example 3.90')\n",
"printf('\n')\n",
"disp('Calculate the change in Ic produced by effect of Vbe changes over temperature of Voltage divider bias circuit')\n",
"printf('Given\n')\n",
"//given\n",
"Re=4.7*10^3\n",
"T1=-35\n",
"T2=100\n",
"//change in temperature\n",
"delT=T2-T1\n",
"//change in Vbe\n",
"delVbe=delT*(-1.8*10^-3)  //change in Vbe for 1C raise in temperature=-1.8mV/C\n",
"//change in Ic\n",
"delIc=-delVbe/Re\n",
"printf('The change in IC is \n%f ampere\n',delIc)"
   ]
   }
],
"metadata": {
		  "kernelspec": {
		   "display_name": "Scilab",
		   "language": "scilab",
		   "name": "scilab"
		  },
		  "language_info": {
		   "file_extension": ".sce",
		   "help_links": [
			{
			 "text": "MetaKernel Magics",
			 "url": "https://github.com/calysto/metakernel/blob/master/metakernel/magics/README.md"
			}
		   ],
		   "mimetype": "text/x-octave",
		   "name": "scilab",
		   "version": "0.7.1"
		  }
		 },
		 "nbformat": 4,
		 "nbformat_minor": 0
}
