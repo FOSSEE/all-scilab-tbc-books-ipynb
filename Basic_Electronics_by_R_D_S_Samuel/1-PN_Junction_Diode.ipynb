{
"cells": [
 {
		   "cell_type": "markdown",
	   "metadata": {},
	   "source": [
       "# Chapter 1: PN Junction Diode"
	   ]
	},
{
		   "cell_type": "markdown",
		   "metadata": {},
		   "source": [
			"## Example 1.1_11: Find_the_forward_and_reverse_resistance_and_cut_in_voltage_for_diode.sce"
		   ]
		  },
  {
"cell_type": "code",
	   "execution_count": null,
	   "metadata": {
	    "collapsed": true
	   },
	   "outputs": [],
"source": [
"clc\n",
"disp('Example 1.11')\n",
"printf('\n')\n",
"disp('findout resistance and cut in voltage')\n",
"printf('Given\n')\n",
"disp('forward current=100mA,Vr=25V,cut in voltage=0.7v,reverse current=100nA')\n",
"//all the values are from fig 1.10\n",
"Vf=0.35\n",
"If=80*10^-3 //forward current\n",
"Vr=40       \n",
"Ir=10^-6  //reverse current\n",
"Rf=Vf/If      \n",
"Rr=Vr/Ir\n",
"printf('static forward resistance=\n%f ohm\n',Rf)\n",
"printf('static reverse resistance=\n%f ohm\n',Rr)\n",
"//from the characteristic curve we can find cut in voltage\n",
"printf('cut in voltage= 0.3V')"
   ]
   }
,
{
		   "cell_type": "markdown",
		   "metadata": {},
		   "source": [
			"## Example 1.1_20: Find_the_dynamic_resistance.sce"
		   ]
		  },
  {
"cell_type": "code",
	   "execution_count": null,
	   "metadata": {
	    "collapsed": true
	   },
	   "outputs": [],
"source": [
"clc\n",
"disp('Example 1.20')\n",
"printf('\n')\n",
"disp('calculate dynamic and substrate resistance')\n",
"printf('Given\n')\n",
"disp('forward current=20mA,cut in voltage=0.33v')\n",
"If=20*10^-3\n",
"Vf=0.33\n",
"Rf=Vf/If\n",
"If1=If-(10^-2)  //min forward current \n",
"If2=If+(10^-2)  //max forward current\n",
"Vf1=0.31\n",
"Vf2=0.35\n",
"rd=(Vf2-Vf1)/(If2-If1)\n",
"rd1=0.026/If\n",
"rsub=rd-rd1\n",
"printf('static forward resistance=\n%f ohm\n',Rf)\n",
"printf('Dynamic resistance=\n%f ohm\n',rd)\n",
"printf('Dynamic resistance using forward current=\n%f ohm\n',rd1)\n",
"printf('substrate resistance=\n%f ohm\n',rsub)"
   ]
   }
,
{
		   "cell_type": "markdown",
		   "metadata": {},
		   "source": [
			"## Example 1.1_24: calculate_current_in_circuit_in_fig_18.sce"
		   ]
		  },
  {
"cell_type": "code",
	   "execution_count": null,
	   "metadata": {
	    "collapsed": true
	   },
	   "outputs": [],
"source": [
"clc\n",
"disp('Example 1.24')\n",
"printf('\n')\n",
"disp('calculate the current in the circuit in fig 1.18')\n",
"//given\n",
"V=12\n",
"R1=10^3\n",
"R2=2*10^3\n",
"//current\n",
"I=V/(R1+R2)\n",
"printf('current in the circuit=%f Ampere',I)"
   ]
   }
,
{
		   "cell_type": "markdown",
		   "metadata": {},
		   "source": [
			"## Example 1.1_25: calculate_diode_current.sce"
		   ]
		  },
  {
"cell_type": "code",
	   "execution_count": null,
	   "metadata": {
	    "collapsed": true
	   },
	   "outputs": [],
"source": [
"clc\n",
"disp('Example 1.25')\n",
"printf('\n')\n",
"disp('calculate the diode current')\n",
"//given\n",
"V=12\n",
"R=10^3\n",
"Vd=0.7\n",
"//diode current\n",
"I=(V-Vd)/R\n",
"printf('Diode current=%f Ampere',I)"
   ]
   }
,
{
		   "cell_type": "markdown",
		   "metadata": {},
		   "source": [
			"## Example 1.1_26: calculate_diode_current_across_2_diodes.sce"
		   ]
		  },
  {
"cell_type": "code",
	   "execution_count": null,
	   "metadata": {
	    "collapsed": true
	   },
	   "outputs": [],
"source": [
"clc\n",
"disp('Example 1.26')\n",
"printf('\n')\n",
"disp('calculate the diode current across 2 diodes')\n",
"//given\n",
"V=12\n",
"Vd1=0.7\n",
"Vd2=0.7\n",
"R=10^3\n",
"//current\n",
"I=(V-(Vd1+Vd2))/R\n",
"printf('Diode current =%f Ampere',I)"
   ]
   }
,
{
		   "cell_type": "markdown",
		   "metadata": {},
		   "source": [
			"## Example 1.1_27: find_the_forward_current_in_circuit_of_fig_22.sce"
		   ]
		  },
  {
"cell_type": "code",
	   "execution_count": null,
	   "metadata": {
	    "collapsed": true
	   },
	   "outputs": [],
"source": [
"clc\n",
"disp('Example 1.27')\n",
"printf('\n')\n",
"disp('find the forward current in circuit of fig 1.22')\n",
"//given\n",
"V=9\n",
"Vd=0.3\n",
"R=3.3*10^3\n",
"//current\n",
"I=(V-Vd)/R\n",
"printf('forward current=%f Ampere',I)"
   ]
   }
,
{
		   "cell_type": "markdown",
		   "metadata": {},
		   "source": [
			"## Example 1.1_28: find_out_battery_voltage.sce"
		   ]
		  },
  {
"cell_type": "code",
	   "execution_count": null,
	   "metadata": {
	    "collapsed": true
	   },
	   "outputs": [],
"source": [
"clc\n",
"disp('Example 1.28')\n",
"printf('\n')\n",
"disp('find out battery voltage')\n",
"//given\n",
"R=2.7*10^3\n",
"Vd=0.7\n",
"I=1.96*10^-3\n",
"//battery voltage\n",
"V=(I*R)+Vd\n",
"printf('battery voltage=%f volt',V)"
   ]
   }
,
{
		   "cell_type": "markdown",
		   "metadata": {},
		   "source": [
			"## Example 1.1_29: find_out_series_resistance.sce"
		   ]
		  },
  {
"cell_type": "code",
	   "execution_count": null,
	   "metadata": {
	    "collapsed": true
	   },
	   "outputs": [],
"source": [
"clc\n",
"disp('Example 1.29')\n",
"printf('\n')\n",
"disp('find out series resistance')\n",
"//given\n",
"V=4.5\n",
"Vd=0.3\n",
"I=1.25*10^-3\n",
"//series resistance\n",
"R=(V-Vd)/I\n",
"printf('series resistance=%f ohm',R)"
   ]
   }
,
{
		   "cell_type": "markdown",
		   "metadata": {},
		   "source": [
			"## Example 1.1_31: Plot_the_piecewise_linear_characterisic_of_si_diode.sce"
		   ]
		  },
  {
"cell_type": "code",
	   "execution_count": null,
	   "metadata": {
	    "collapsed": true
	   },
	   "outputs": [],
"source": [
"clc\n",
"disp('Example 1.31')\n",
"printf('\n')\n",
"disp('Plot the piecewise-linear characteristic of silicon diode')\n",
"printf('Given\n')\n",
"//given\n",
"Vf=[0 0.7 0.74]\n",
"If=[0 0 0.2]\n",
"plot2d(Vf, If)\n",
"xlabel('Vf')\n",
"ylabel('If')\n",
"xtitle('Piecewise-linear characteristic of diode')"
   ]
   }
,
{
		   "cell_type": "markdown",
		   "metadata": {},
		   "source": [
			"## Example 1.1_32: Plot_the_piecewiselinear_characterisic_of_Germanium_diode.sce"
		   ]
		  },
  {
"cell_type": "code",
	   "execution_count": null,
	   "metadata": {
	    "collapsed": true
	   },
	   "outputs": [],
"source": [
"clc\n",
"disp('Example 1.32')\n",
"printf('\n')\n",
"disp('Plot the piecewise-linear characterisic of Germanium diode')\n",
"printf('Given\n')\n",
"//given\n",
"Vf=[0 0.3 0.35]\n",
"If=[0 0 0.1]\n",
"plot2d(Vf, If)\n",
"xlabel('Vf')\n",
"ylabel('If')\n",
"xtitle('Piecewise-linear characteristic of diode')"
   ]
   }
,
{
		   "cell_type": "markdown",
		   "metadata": {},
		   "source": [
			"## Example 1.1_34: find_out_diode_current.sce"
		   ]
		  },
  {
"cell_type": "code",
	   "execution_count": null,
	   "metadata": {
	    "collapsed": true
	   },
	   "outputs": [],
"source": [
"clc\n",
"disp('Example 1.34')\n",
"printf('\n')\n",
"disp('find out diode current')\n",
"//given\n",
"V=2\n",
"Vr=0.6\n",
"rd1=0\n",
"rd2=0.2\n",
"R=14\n",
"//when rd=0\n",
"//diode current\n",
"I1=(V-Vr)/R\n",
"printf('Diode current when rd=0 is \n%f ampere\n',I1)\n",
"//when rd=0.2\n",
"//diode current\n",
"I2=(V-Vr)/(R+rd2)\n",
"printf('Diode current when rd=0.2 is \n%f ampere\n',I2)"
   ]
   }
,
{
		   "cell_type": "markdown",
		   "metadata": {},
		   "source": [
			"## Example 1.1_35: find_out_series_resistance_in_circuit_fig_32.sce"
		   ]
		  },
  {
"cell_type": "code",
	   "execution_count": null,
	   "metadata": {
	    "collapsed": true
	   },
	   "outputs": [],
"source": [
"clc\n",
"disp('Example 1.35')\n",
"printf('\n')\n",
"disp('find out series resistance in circuit fig 1.32')\n",
"V=3\n",
"rd=0.5\n",
"Vr=0.3\n",
"IF=174*10^-3\n",
"//resistance\n",
"R=(V-Vr-(IF*rd))/IF\n",
"printf('The value of resistance is \n%f ohm\n',R)"
   ]
   }
,
{
		   "cell_type": "markdown",
		   "metadata": {},
		   "source": [
			"## Example 1.1_48: Find_the_maximum_forward_current_at_25c.sce"
		   ]
		  },
  {
"cell_type": "code",
	   "execution_count": null,
	   "metadata": {
	    "collapsed": true
	   },
	   "outputs": [],
"source": [
"clc\n",
"disp('Example 1.48')\n",
"printf('\n')\n",
"disp('Find the maximum forward current')\n",
"T1=25          //to find maximum forward current at this temperature\n",
"T2=65          //to find maximum forward current at this temperature\n",
"PT1=600*10^-3  //maximum power dissipation at 25c\n",
"D=5*10^-3      //derating factor\n",
"VT1=0.6        //forward voltage drop(constant at all temperature)\n",
"VT2=VT1\n",
"IT1=PT1/VT1    //maximum forward current at T1\n",
"PT2=PT1-((T2-T1)*D)\n",
"IT2=PT2/VT2    //maximum forward current at T2\n",
"printf('Forward current at temperature T1=\n%f Ampere\n',IT1)\n",
"printf('Forward current at temperature T2=\n%f Ampere\n',IT2)"
   ]
   }
,
{
		   "cell_type": "markdown",
		   "metadata": {},
		   "source": [
			"## Example 1.1_49: Find_the_maximum_forward_current_at_25c_and_80c_and_plot_power_temperature_curve.sce"
		   ]
		  },
  {
"cell_type": "code",
	   "execution_count": null,
	   "metadata": {
	    "collapsed": true
	   },
	   "outputs": [],
"source": [
"clc\n",
"disp('Example 1.49')\n",
"printf('\n')\n",
"disp('find the maximum forward current at 25c and 80c')\n",
"printf('Given\n')\n",
"T1=25            //to find maximum forward current at this temperature\n",
"T2=80            //to find maximum forward current at this temperature\n",
"VT1=0.65         //forward voltage drop(constant at all temperature)\n",
"VT2=VT1\n",
"PT1=80*10^-3     //maximum power dissipation at 80c\n",
"PT2=30*10^-3     //maximum power dissipation at 30c\n",
"IT1=PT1/VT1\n",
"IT2=PT2/VT2\n",
"T=[0 25 80 114]\n",
"P=[80 80 30 0]\n",
"plot2d(T,P)\n",
"xlabel('Temperature in c')\n",
"ylabel('Power in mW')\n",
"xtitle('Power-Temperature curve')\n",
"printf('Forward current at T1=\n%f Ampere\n',IT1)\n",
"printf('Forward current at T2=\n%f Ampere\n',IT2)"
   ]
   }
,
{
		   "cell_type": "markdown",
		   "metadata": {},
		   "source": [
			"## Example 1.1_50: Find_maximum_forward_current_at_80c.sce"
		   ]
		  },
  {
"cell_type": "code",
	   "execution_count": null,
	   "metadata": {
	    "collapsed": true
	   },
	   "outputs": [],
"source": [
"clc\n",
"disp('Example 1.50')\n",
"printf('\n')\n",
"disp('Find the maximum power at 80c')\n",
"T1=25\n",
"PT1=1000*10^-3    //maximum power dissipation at 25c\n",
"T2=80        \n",
"D=4*10^-3         //derating factor\n",
"PT2=PT1-((T2-T1)*D)   //maximum power dissipation at 80c\n",
"printf('Maximum Power dissipated at 80c=\n%f watt\n',PT2)"
   ]
   }
,
{
		   "cell_type": "markdown",
		   "metadata": {},
		   "source": [
			"## Example 1.1_51: Find_maximum_forward_current_at_75c_and_draw_power_temperature_curve.sce"
		   ]
		  },
  {
"cell_type": "code",
	   "execution_count": null,
	   "metadata": {
	    "collapsed": true
	   },
	   "outputs": [],
"source": [
"clc\n",
"disp('Example 1.51')\n",
"printf('\n')\n",
"disp('Find the maximum forward current and Draw power spectrum curve')\n",
"printf('Given\n')\n",
"T1=25\n",
"PT1=1000*10^-3    //maximum power dissipation at 25c\n",
"//Average current\n",
"IT1=500*10^-3      \n",
"IT2=IT1\n",
"VT2=0.8          //forward voltage drop\n",
"D=10^-2\n",
"PT2=VT2*IT2      \n",
"T2=((PT1-PT2)/D)+T1\n",
"//to caculate maximum forward current at 75c\n",
"T2!=75\n",
"PT2!=PT1-((T2!-T1)*D)\n",
"IT2=PT2!/VT2\n",
"//for(T>25), to draw graph\n",
"  vd=10^-2\n",
"  PT=(1000-(75*10))*10^-3  //maximum power dissipation at 100c\n",
"Temp=[0 25 100 125]        \n",
"p=[1000 1000 PT*10^3 0]\n",
"plot2d(Temp ,p)\n",
"xlabel('Temperature in c')\n",
"ylabel('Power in mW')\n",
"xtitle('Power-Temperature Curve')\n",
"printf('Maximum forward current at 75c=\n%f Ampere\n',IT2)"
   ]
   }
,
{
		   "cell_type": "markdown",
		   "metadata": {},
		   "source": [
			"## Example 1.1_54: Find_the_forward_voltage_drop_at_100c_and_dynamic_resistance_at_25c_and_100c.sce"
		   ]
		  },
  {
"cell_type": "code",
	   "execution_count": null,
	   "metadata": {
	    "collapsed": true
	   },
	   "outputs": [],
"source": [
"clc\n",
"disp('Example 1.54')\n",
"printf('\n')\n",
"disp('Find the forward voltage drop at 100c and dynamic resistance')\n",
"T1=25\n",
"T2=100\n",
"Vft1=0.6    //forward voltage drop at 25c\n",
"IT1=26*10^-3  //forward current(constant)\n",
"IT2=IT1\n",
"//for silicon diode we know that \n",
"v=(-1.8*10^-3)\n",
"Vft2=Vft1+((T2-T1)*v)  \n",
"IF=26*10^-3\n",
"rd1=(26*10^-3/IF)*((T1+273)/298)\n",
"rd2=(26*10^-3/IF)*((T2+273)/298)\n",
"printf('Forward voltage drop at 100c=\n%f volt\n',Vft2)\n",
"printf('Dynamic resistance at 25c and 100c=\n%f ohm\n%f ohm\n',rd1,rd2)"
   ]
   }
,
{
		   "cell_type": "markdown",
		   "metadata": {},
		   "source": [
			"## Example 1.1_55: Find_the_maximum_and_mini_forward_voltage_drop_and_dynamic_resistance.sce"
		   ]
		  },
  {
"cell_type": "code",
	   "execution_count": null,
	   "metadata": {
	    "collapsed": true
	   },
	   "outputs": [],
"source": [
"clc\n",
"disp('Example 1.55')\n",
"printf('\n')\n",
"disp('Calculate maximum & minimum forward voltage drop and Junction dynamic resistance')\n",
"T1=80\n",
"T2=10\n",
"T=25\n",
"//for germanium diode\n",
"v=(-2.2*10^-3)\n",
"Vft1=0.3\n",
"Vft2maximum=Vft1+((T2-T)*v)    //voltage drop at 10c\n",
"Vft2minimum=Vft1+((T1-T)*v)    //voltage drop at 80c\n",
"IF=20*10^-3\n",
"rd1=(26*10^-3/IF)*((T2+273)/298)\n",
"rd2=(26*10^-3/IF)*((T1+273)/298)\n",
"printf('Maximum and Minimum Forward voltage drop at 25c and 10c=\n%f volt\n%f volt\n',Vft2maximum,Vft2minimum)\n",
"printf('Dynamic resistance at 10c and 80c=\n%f ohm\n%f ohm\n',rd1,rd2)"
   ]
   }
,
{
		   "cell_type": "markdown",
		   "metadata": {},
		   "source": [
			"## Example 1.1_56: Find_the_max_forward_current_and_voltage_and_dynamic_resistance.sce"
		   ]
		  },
  {
"cell_type": "code",
	   "execution_count": null,
	   "metadata": {
	    "collapsed": true
	   },
	   "outputs": [],
"source": [
"clc\n",
"disp('Example 1.56')\n",
"printf('\n')\n",
"disp('To find maximum forward current at 25c & 75c and Forward voltage drop and Dynamic resistance')\n",
"PT1=1.5\n",
"VT1=0.9\n",
"D=7.5*10^-3\n",
"//for silicon diodes \n",
"v=(-1.8*10^-3)\n",
"IF=20*10^-3\n",
"T1=25\n",
"T2=75\n",
"IT1=PT1/VT1\n",
"PT2=PT1-((T2-T1)*D)\n",
"IT2=PT2/VT1   //assume voltage drop remains constant at all temperature\n",
"VF2=VT1+((T2-T1)*v)\n",
"rd1=(26*10^-3/IF)*((T1+273)/298)\n",
"rd2=(26*10^-3/IF)*((T2+273)/298)\n",
"printf('Maximum forward current at 25c & 75c =\n%f Ampere\n%f Ampere\n',IT1,IT2)\n",
"printf('Forward voltage drop at 75c=\n%f volt\n',VF2)\n",
"printf('Dynamic resistance at 25c and 75c=\n%f ohm\n%f ohm\n',rd1,rd2)"
   ]
   }
,
{
		   "cell_type": "markdown",
		   "metadata": {},
		   "source": [
			"## Example 1.1_57: Find_the_diode_currents_at_25c_and_100c.sce"
		   ]
		  },
  {
"cell_type": "code",
	   "execution_count": null,
	   "metadata": {
	    "collapsed": true
	   },
	   "outputs": [],
"source": [
"clc\n",
"disp('Example 1.57')\n",
"printf('\n')\n",
"disp('To find diode current at 25c and 75c')\n",
"RL=150\n",
"//both diode voltage drop as given in fig 1.47\n",
"Vr1=0.7   //for silicon\n",
"Vr2=0.3   //for Germanium\n",
"Vdc=5\n",
"//apply KVL to given circuit\n",
"IF1=(Vdc-(Vr1+Vr2))/RL\n",
"//for silicon diode \n",
"v=(-1.8*10^-3)\n",
"T1=25\n",
"T2=75\n",
"VFT2=Vr1+((T2-T1)*v)\n",
"//for Germanium Diode\n",
"v=(-2.2*10^-3)\n",
"VFT2!=Vr2+((T2-T1)*v)\n",
"IF2=(Vdc-(VFT2!+VFT2))/RL\n",
"printf('Diode current at 25c and 75c =\n%f ampere\n%f ampere\n',IF1,IF2)\n",
"\n",
""
   ]
   }
,
{
		   "cell_type": "markdown",
		   "metadata": {},
		   "source": [
			"## Example 1.1_65: Find_the_minimal_fall_time.sce"
		   ]
		  },
  {
"cell_type": "code",
	   "execution_count": null,
	   "metadata": {
	    "collapsed": true
	   },
	   "outputs": [],
"source": [
"clc\n",
"disp('Example 1.65')\n",
"printf('\n')\n",
"disp('Find the minimal fall-time')\n",
"//reverse-recovery time is\n",
"trr=4*10^-9\n",
"tfmin=10*trr\n",
"printf('The minimal fall-time for voltage pulses applied=\n%3.2e sec\n',tfmin)"
   ]
   }
,
{
		   "cell_type": "markdown",
		   "metadata": {},
		   "source": [
			"## Example 1.1_66: Estimate_the_maximum_reverse_recovery_time.sce"
		   ]
		  },
  {
"cell_type": "code",
	   "execution_count": null,
	   "metadata": {
	    "collapsed": true
	   },
	   "outputs": [],
"source": [
"clc\n",
"disp('Example 1.66')\n",
"printf('\n')\n",
"disp('Find the maximum recovery time')\n",
"//fall-time is\n",
"tf=0.5*10^-6\n",
"trrmax=tf/10\n",
"printf('The minimal fall-time for voltage pulses applied=\n%3.2e sec\n',trrmax)"
   ]
   }
,
{
		   "cell_type": "markdown",
		   "metadata": {},
		   "source": [
			"## Example 1.1_72: Find_the_maximum_current_flow_through_zener.sce"
		   ]
		  },
  {
"cell_type": "code",
	   "execution_count": null,
	   "metadata": {
	    "collapsed": true
	   },
	   "outputs": [],
"source": [
"clc\n",
"disp('Example 1.72')\n",
"printf('\n')\n",
"disp('Find the maximum current flow through Zener diode')\n",
"Vz=7.5    //zener voltage\n",
"Pd1=400*10^-3 //maximum power dissipation at 50c\n",
"T1=50\n",
"T2=100\n",
"D=3.2*10^-3\n",
"//current at 50c\n",
"Izm1=Pd1/Vz\n",
"//current at 100\n",
"Pd2=Pd1-((T2-T1)*D)\n",
"Izm2=Pd2/Vz\n",
"printf('maximum current flow through Zener diode at 50c & 100c=\n%f Ampere\n%f Ampere\n',Izm1,Izm2)"
   ]
   }
,
{
		   "cell_type": "markdown",
		   "metadata": {},
		   "source": [
			"## Example 1.1_75: Find_the_current_through_zener_at_50c_and_80c.sce"
		   ]
		  },
  {
"cell_type": "code",
	   "execution_count": null,
	   "metadata": {
	    "collapsed": true
	   },
	   "outputs": [],
"source": [
"clc\n",
"disp('Example 1.75')\n",
"printf('\n')\n",
"disp('Find the current through diode at 50c & 80c')\n",
"T1=50\n",
"T2=80\n",
"D=3.2*10^-3\n",
"Pd1=400*10^-3\n",
"Vz=6.2\n",
"//at 50c\n",
"Izm1=Pd1/Vz\n",
"//at 80c\n",
"Pd2=Pd1-((T2-T1)*D)\n",
"Izm2=Pd2/Vz\n",
"printf('the current through diode at 50c & 80c=\n%f ampere\n%f ampere\n',Izm1,Izm2)"
   ]
   }
,
{
		   "cell_type": "markdown",
		   "metadata": {},
		   "source": [
			"## Example 1.1_76: Find_the_diode_current_and_power_dissipation.sce"
		   ]
		  },
  {
"cell_type": "code",
	   "execution_count": null,
	   "metadata": {
	    "collapsed": true
	   },
	   "outputs": [],
"source": [
"clc\n",
"disp('Example 1.76')\n",
"printf('\n')\n",
"disp('Find the diode current and power dissipation')\n",
"Vdc=12\n",
"Vz=4.3  //zener voltage\n",
"R=820\n",
"Iz=(Vdc-Vz)/R\n",
"Pd=Vz*Iz\n",
"printf('the diode current=\n%f ampere\n',Iz)\n",
"printf('the power dissipation=\n%f watt\n',Pd)"
   ]
   }
,
{
		   "cell_type": "markdown",
		   "metadata": {},
		   "source": [
			"## Example 1.1_8: Find_the_forward_and_reverse_resistance_for_diode.sce"
		   ]
		  },
  {
"cell_type": "code",
	   "execution_count": null,
	   "metadata": {
	    "collapsed": true
	   },
	   "outputs": [],
"source": [
"clc\n",
"disp('Example 1.8')\n",
"printf('\n')\n",
"disp('find out resistance')\n",
"printf('Given\n')\n",
"disp('forward current=100mA,Vr=25V,cut in voltage=0.7v,reverse current=100nA')\n",
"//all the values are from fig 1.8\n",
"Vf=0.7\n",
"If=100*10^-3 //forward current\n",
"Vr=25        \n",
"Ir=100*10^-9  //reverse current\n",
"Rf=Vf/If      \n",
"Rr=Vr/Ir\n",
"printf('static forward resistance=\n%f ohm\n',Rf)\n",
"printf('static reverse resistance=\n%f ohm\n',Rr)"
   ]
   }
,
{
		   "cell_type": "markdown",
		   "metadata": {},
		   "source": [
			"## Example 1.1_9: Find_the_forward_and_reverse_resistance_for_diode.sce"
		   ]
		  },
  {
"cell_type": "code",
	   "execution_count": null,
	   "metadata": {
	    "collapsed": true
	   },
	   "outputs": [],
"source": [
"clc\n",
"disp('Example 1.9')\n",
"printf('\n')\n",
"disp('find out resistance')\n",
"printf('Given\n')\n",
"disp('forward current=200mA,Vr=75V,cut in voltage=0.75v,reverse current=50nA')\n",
"//all values are from fig 1.9\n",
"Vf=0.75\n",
"If=200*10^-3 //forward current\n",
"Vr=75        \n",
"Ir=50*10^-9  //reverse current\n",
"Rf=Vf/If      \n",
"Rr=Vr/Ir\n",
"printf('static forward resistance=\n%f ohm\n',Rf)\n",
"printf('static reverse resistance=\n%f ohm\n',Rr)"
   ]
   }
],
"metadata": {
		  "kernelspec": {
		   "display_name": "Scilab",
		   "language": "scilab",
		   "name": "scilab"
		  },
		  "language_info": {
		   "file_extension": ".sce",
		   "help_links": [
			{
			 "text": "MetaKernel Magics",
			 "url": "https://github.com/calysto/metakernel/blob/master/metakernel/magics/README.md"
			}
		   ],
		   "mimetype": "text/x-octave",
		   "name": "scilab",
		   "version": "0.7.1"
		  }
		 },
		 "nbformat": 4,
		 "nbformat_minor": 0
}
