{
"cells": [
 {
		   "cell_type": "markdown",
	   "metadata": {},
	   "source": [
       "# Chapter 2: Semiconductor Diode Applications"
	   ]
	},
{
		   "cell_type": "markdown",
		   "metadata": {},
		   "source": [
			"## Example 2.2_11: EX2_2_11.sce"
		   ]
		  },
  {
"cell_type": "code",
	   "execution_count": null,
	   "metadata": {
	    "collapsed": true
	   },
	   "outputs": [],
"source": [
"clc\n",
"disp('Example 2.11')\n",
"printf('\n')\n",
"disp('Calculate Peak,ac,dc load current,dc diode voltage,total input power,percentage regulation of HW Rectifier')\n",
"printf('Given\n')\n",
"Rf=20\n",
"RL=1000\n",
"N1=1\n",
"N2=N1\n",
"V1=110\n",
"V2=V1                  //since (V1/V2)=(N1/N2)\n",
"Vm=sqrt(2)*V2\n",
"Im=Vm/(Rf+RL)          //peak load current\n",
"Idc=Im/%pi             //DC load current\n",
"Irms=Im/2              //AC load current\n",
"V!dc=-Idc*RL           //DC diode Voltage\n",
"Pi=(Irms)^2*(Rf+RL)    //Total power input to circuit\n",
"%reg=(Rf/RL)*100        //percentage regulation\n",
"printf('Peak,DC,AC load current are =\n%f ampere\n%f ampere\n%f ampere\n',Im,Idc,Irms)\n",
"printf('DC Diode voltage =\n%f volt\n',V!dc)\n",
"printf('Total power input to circuit =\n%f watt\n',Pi)\n",
"printf('percentage regulation =\n%f\n',%reg)"
   ]
   }
,
{
		   "cell_type": "markdown",
		   "metadata": {},
		   "source": [
			"## Example 2.2_12: EX2_2_12.sce"
		   ]
		  },
  {
"cell_type": "code",
	   "execution_count": null,
	   "metadata": {
	    "collapsed": true
	   },
	   "outputs": [],
"source": [
"clc\n",
"disp('Example 2.12')\n",
"printf('\n')\n",
"disp('Calculate DC,RMS load voltage,PIV across diode,Rectification efficiency,DC power delivered to load,Frequency of output waveform ')\n",
"printf('Given\n')\n",
"Rf=50\n",
"RL=500\n",
"N1=10\n",
"N2=1\n",
"V1=230\n",
"Vm=(N2/N1)*V1\n",
"w=314\n",
"f=w/(2*%pi)\n",
"Vdc=(Vm/%pi)/(1+(Rf/RL))    //DC load voltage\n",
"Vrms=(Vm/2)/(1+(Rf/RL))     //RMS load voltage\n",
"PIV=Vm\n",
"%n=40.6/(1+(Rf/RL))         //Rectification efficiency\n",
"Pdc=(Vdc^2)/RL\n",
"printf('DC,RMS load voltage=\n%f volt\n%f volt\n',Vdc,Vrms)\n",
"printf('PIV across the diode =\n%f volt\n',PIV)\n",
"printf('Rectification efficiency=\n%f\n',%n)\n",
"printf('DC power delivered to a load=\n%f watt\n',Pdc)"
   ]
   }
,
{
		   "cell_type": "markdown",
		   "metadata": {},
		   "source": [
			"## Example 2.2_20: EX2_2_20.sce"
		   ]
		  },
  {
"cell_type": "code",
	   "execution_count": null,
	   "metadata": {
	    "collapsed": true
	   },
	   "outputs": [],
"source": [
"clc\n",
"disp('Example 2.20')\n",
"printf('\n')\n",
"disp('Calculate peak,RMS,DC load current, DC in each diode,DC output voltage,% regulation,PIV,RMS current,DC load voltage')\n",
"printf('Given\n')\n",
"Rf=500\n",
"RL=2000\n",
"V2=280\n",
"//Secondary voltage is\n",
"Vm=sqrt(2)*V2 \n",
"//Peak load current\n",
"Im=Vm/(Rf+RL)\n",
"//DC load current\n",
"Idc=2*Im/(%pi)\n",
"//Since each diode acts as a half-wave rectifier,the dc current through each diode is\n",
"Idc1=Im/(%pi)\n",
"//dc output power\n",
"Pdc=[Idc]^2*RL\n",
"%reg=(Rf/RL)*100\n",
"//PIV across each diode\n",
"PIV=2*Vm\n",
"//RMS load current\n",
"Irms=Im/(sqrt(2))\n",
"//RMS through each diode is\n",
"Irms1=(Im/2)\n",
"//Dc load voltage\n",
"Vdc=Idc*RL\n",
"printf('peak load, DC load current is \n%f ampere\n%f ampere\n',Im,Idc)\n",
"printf('direct current in each diode is \n%f ampere\n',Idc1)\n",
"printf('dc output power is \n%f watt\n',Pdc)\n",
"printf('percentage regulation is \n%f\n',%reg)\n",
"printf('PIV across each diode is \n%f volt\n',PIV)\n",
"printf('rms load current and rms current through each diode is\n%f ampere\n%f ampere \n',Irms, Irms1)\n",
"printf('DC load voltage is \n%f volt\n',Vdc)"
   ]
   }
,
{
		   "cell_type": "markdown",
		   "metadata": {},
		   "source": [
			"## Example 2.2_21: Find_the_load_current_and_rms_value_of_input_current_of_FW_rectifier.sce"
		   ]
		  },
  {
"cell_type": "code",
	   "execution_count": null,
	   "metadata": {
	    "collapsed": true
	   },
	   "outputs": [],
"source": [
"clc\n",
"disp('Example 2.21')\n",
"printf('\n')\n",
"disp('Find the load current and rms value of input current')\n",
"printf('Given\n')\n",
"V2=100\n",
"Rf=50\n",
"RL=950\n",
"//secondary voltage\n",
"Vm=sqrt(2)*V2\n",
"//DC load current\n",
"Idc=(2*Vm)/(%pi*(Rf+RL))\n",
"//RMS input current is same as RMS load current\n",
"Im=(Idc*%pi)/2\n",
"Irms=Im/sqrt(2)\n",
"printf('The load current=\t%f ampere\n',Idc)\n",
"printf('RMS load current=\t%f ampere\n',Irms)"
   ]
   }
,
{
		   "cell_type": "markdown",
		   "metadata": {},
		   "source": [
			"## Example 2.2_22: Calculate_Average_load_current_and_voltage_and_Ripple_voltage_of_FW_rectifier.sce"
		   ]
		  },
  {
"cell_type": "code",
	   "execution_count": null,
	   "metadata": {
	    "collapsed": true
	   },
	   "outputs": [],
"source": [
"clc\n",
"disp('Example 2.22')\n",
"printf('\n')\n",
"disp('Calculate Average load current & voltage,Ripple voltage')\n",
"printf('Given\n')\n",
"RL=2000\n",
"//diodes are ideal\n",
"Rf=0\n",
"C=500*10^-6\n",
"f=50\n",
"V2=200\n",
"Vm=sqrt(2)*V2\n",
"//average load current\n",
"Idc=(2*Vm)/(%pi*(Rf+RL))\n",
"//Average load voltage\n",
"Vdc=Idc*RL\n",
"//ripple factor\n",
"V=0.483\n",
"Vac=V*Vdc\n",
"//with capacitor connected across RL\n",
"V1=1/(4*sqrt(3)*RL*C*f)\n",
"//with capacitor filter we have Vdc=Vm\n",
"Vdc1=282.84\n",
"Vac1=V1*Vdc1\n",
"printf('Average load current=\t%f ampere\n',Idc)\n",
"printf('Average load voltage=\t%f ampere\n',Vdc)\n",
"printf('Ripple voltage=\t%f volt\n',Vac)\n",
"printf('Ripple voltage when capacitor connected=\t%f volt\n',Vac1)"
   ]
   }
,
{
		   "cell_type": "markdown",
		   "metadata": {},
		   "source": [
			"## Example 2.2_23: EX2_2_23.sce"
		   ]
		  },
  {
"cell_type": "code",
	   "execution_count": null,
	   "metadata": {
	    "collapsed": true
	   },
	   "outputs": [],
"source": [
"clc\n",
"disp('Example 2.23')\n",
"printf('\n')\n",
"disp('Calculate Average voltage, rectification efficiency & percentage regulation')\n",
"printf('Given\n')\n",
"V2=30\n",
"RL=100\n",
"Rf=10\n",
"Vm=sqrt(2)*V2\n",
"//Average output voltage\n",
"Vdc=(((2*Vm)/(%pi))/(1+(Rf/RL)))\n",
"//Rectification effeiciency\n",
"nr=0.812/(1+(Rf/RL))\n",
"//percentage regulation\n",
"PR=(Rf/RL)*100\n",
"printf('Average output voltage=\t%f volt\n',Vdc)\n",
"printf('Rectification efficiency=\t%f\n',nr)\n",
"printf('Percentage regulation=\t%f\n',PR)"
   ]
   }
,
{
		   "cell_type": "markdown",
		   "metadata": {},
		   "source": [
			"## Example 2.2_24: EX2_2_24.sce"
		   ]
		  },
  {
"cell_type": "code",
	   "execution_count": null,
	   "metadata": {
	    "collapsed": true
	   },
	   "outputs": [],
"source": [
"clc\n",
"disp('Example 2.24')\n",
"printf('\n')\n",
"disp('Calculate Average load voltage,RMS load current,PIV,DC o/p power,Frequency of output waveform')\n",
"printf('Given\n')\n",
"V1=220\n",
"N1=10\n",
"N2=1\n",
"V2=V1*(N2/N1)\n",
"Vm=V2\n",
"Rf=20\n",
"RL=1000\n",
"w=314\n",
"f=w/(2*%pi)\n",
"//Average load voltage\n",
"Vdc=(((2*Vm)/(%pi))/(1+(Rf/RL)))\n",
"//RMS load current\n",
"Irms=Vm/(sqrt(2)*(Rf+RL))\n",
"//PIV across each diode\n",
"PIV=2*Vm\n",
"//dc output power\n",
"Pdc=Vdc^2/RL\n",
"//Frequency of output waveform\n",
"Fout=2*f\n",
"printf('average load voltage is \n%f volt\n',Vdc)\n",
"printf('RMS load current is \n%f ampere\n',Irms)\n",
"printf('PIV across each diode is \n %f volt\n',PIV)\n",
"printf('DC ouput power \n%f watt\n',Pdc)\n",
"printf('frequency of output waveform is \n%f hz\n',Fout)"
   ]
   }
,
{
		   "cell_type": "markdown",
		   "metadata": {},
		   "source": [
			"## Example 2.2_28: Calculate_all_characteristics_of_FW_bridge_rectifier.sce"
		   ]
		  },
  {
"cell_type": "code",
	   "execution_count": null,
	   "metadata": {
	    "collapsed": true
	   },
	   "outputs": [],
"source": [
"clc\n",
"disp('Example 2.28')\n",
"printf('\n')\n",
"disp('Calculate DC output voltage,Ripple factor,Effeciency,PIV,%regulation,Peak diode current, Dc load current, dc current,RMS current')\n",
"printf('Given\n')\n",
"Vm=100\n",
"Rf=25\n",
"RL=950\n",
"//dc output voltage\n",
"Vdc=(((2*Vm)/(%pi))/(1+(2*Rf/RL)))\n",
"//Ripple factor\n",
"Vrms=(Vm/sqrt(2))/(1+(2*Rf/RL))\n",
"r=sqrt((Vrms/Vdc)^2-1)\n",
"//Efficiency of rectification\n",
"Rr=0.812/(1+(2*Rf/RL))\n",
"//PIV across the non-conducting diode\n",
"PIV=Vm\n",
"//Percentage regulation\n",
"%reg=(2*Rf/RL)*100\n",
"//Peak load current\n",
"Im=Vm/(2*Rf+RL)\n",
"//DC load current\n",
"Idc=2*Im/%pi\n",
"//Dc current through each diode\n",
"Idc1=Idc/2\n",
"//RMS current through each diode\n",
"Irms1=Im/2\n",
"printf('dc output voltage \n%f volt\n',Vdc)\n",
"printf('Ripple factor \n%f\n',r)\n",
"printf('Efficiency of rectification \n%f\n',Rr)\n",
"printf('PIV across non-conducting diode \n%f volt \n',PIV)\n",
"printf('percentage regulation \n%f\n',%reg)\n",
"printf('Peak diode current \n%f ampere\n',Im)\n",
"printf('dc load current \n%f ampere\n',Idc)\n",
"printf('dc current through each diode \n %f ampere\n',Idc1)\n",
"printf('RMS current through each diode \n %f ampere\n',Irms1)"
   ]
   }
,
{
		   "cell_type": "markdown",
		   "metadata": {},
		   "source": [
			"## Example 2.2_29: EX2_2_29.sce"
		   ]
		  },
  {
"cell_type": "code",
	   "execution_count": null,
	   "metadata": {
	    "collapsed": true
	   },
	   "outputs": [],
"source": [
"clc\n",
"disp('Example 2.29')\n",
"printf('\n')\n",
"disp('Calculate Average output voltage,avg load current,frequency of output waveform,dc power output')\n",
"printf('Given\n')\n",
"Vm=141.42\n",
"Rf=0    //Ideal diodes\n",
"RL=100\n",
"f=50\n",
"//Average output voltage\n",
"Vdc=(((2*Vm)/(%pi))/(1+(2*Rf/RL)))\n",
"//Average load current\n",
"Idc=Vdc/RL\n",
"//frequency of output waveform\n",
"Fout=2*f\n",
"//dc power output\n",
"Pdc=Idc^2*RL\n",
"printf('average output voltage \n%f volt\n',Vdc)\n",
"printf('average load current \n%f ampere\n',Idc)\n",
"printf('frequency of output waveform \n%f hz\n',Fout)\n",
"printf('dc output power \n %f watt\n',Pdc)"
   ]
   }
,
{
		   "cell_type": "markdown",
		   "metadata": {},
		   "source": [
			"## Example 2.2_34: EX2_2_34.sce"
		   ]
		  },
  {
"cell_type": "code",
	   "execution_count": null,
	   "metadata": {
	    "collapsed": true
	   },
	   "outputs": [],
"source": [
"clc\n",
"disp('Example 2.34')\n",
"printf('\n')\n",
"disp('Calculate Ripple factor,DC output voltage,DC load current,PIV,RMS output ripple voltage')\n",
"printf('Given\n')\n",
"Vm=311.13\n",
"f=50\n",
"c=200*10^-6\n",
"RL=1000\n",
"//Ripple factor\n",
"r=1/(2*sqrt(3)*RL*f*c)\n",
"//dc output voltage\n",
"Vdc=Vm/(1+(1/(2*f*c*RL)))\n",
"//DC load current\n",
"Idc=Vdc/RL\n",
"//peak inverse voltage\n",
"PIV=Vm\n",
"//RMS ripple voltage on capacitor\n",
"Vac=r*Vdc\n",
"printf('ripple factor \n%f\n',r)\n",
"printf('dc output voltage \n%f volt\n',Vdc)\n",
"printf(' DC load current \n%f ampere\n',Idc)\n",
"printf('PIV across the diode \n%f volt\n',PIV)\n",
"printf('RMS ripple voltage on capacitor \n%f volt \n',Vac)"
   ]
   }
,
{
		   "cell_type": "markdown",
		   "metadata": {},
		   "source": [
			"## Example 2.2_35: Calculate_the_capacitance_of_HWR.sce"
		   ]
		  },
  {
"cell_type": "code",
	   "execution_count": null,
	   "metadata": {
	    "collapsed": true
	   },
	   "outputs": [],
"source": [
"clc\n",
"disp('Example 2.35')\n",
"printf('\n')\n",
"disp('Calculate the capacitance')\n",
"f=50\n",
"RL=500\n",
"r=0.1\n",
"C=1/(2*sqrt(3)*f*RL*0.1)\n",
"printf('Capacitance value=\t%f Farad\n',C)"
   ]
   }
,
{
		   "cell_type": "markdown",
		   "metadata": {},
		   "source": [
			"## Example 2.2_40: EX2_2_40.sce"
		   ]
		  },
  {
"cell_type": "code",
	   "execution_count": null,
	   "metadata": {
	    "collapsed": true
	   },
	   "outputs": [],
"source": [
"clc\n",
"disp('Example 2.40')\n",
"printf('\n')\n",
"disp('Estimate the value of capacitor required to keep ripple factor less than 1%')\n",
"Vm=325.27\n",
"f=50\n",
"Idc=10*10^-3\n",
"r=0.01\n",
"RL=Vm/Idc\n",
"C=(1/r)/(4*sqrt(3)*f*RL)\n",
"printf('capacitor required >\t%e Farad\n',C)"
   ]
   }
,
{
		   "cell_type": "markdown",
		   "metadata": {},
		   "source": [
			"## Example 2.2_41: EX2_2_41.sce"
		   ]
		  },
  {
"cell_type": "code",
	   "execution_count": null,
	   "metadata": {
	    "collapsed": true
	   },
	   "outputs": [],
"source": [
"clc\n",
"disp('Example 2.41')\n",
"printf('\n')\n",
"disp('Calculate minimum value of capacitance used in the filter to keep ripple voltage below 2%')\n",
"Vm=282.84\n",
"f=50\n",
"Idc=12*10^-3\n",
"r=0.02\n",
"RL=Vm/Idc\n",
"C=(1/r)/(4*sqrt(3)*f*RL)\n",
"printf('capacitor required >\t%e Farad\n',C)"
   ]
   }
,
{
		   "cell_type": "markdown",
		   "metadata": {},
		   "source": [
			"## Example 2.2_42: Find_Ripple_factor_Dc_output_voltage_Ripple_voltage_DC_load_current_of_FWR.sce"
		   ]
		  },
  {
"cell_type": "code",
	   "execution_count": null,
	   "metadata": {
	    "collapsed": true
	   },
	   "outputs": [],
"source": [
"clc\n",
"disp('Example 2.42')\n",
"printf('\n')\n",
"disp('Find Ripple factor,Dc output voltage,Ripple voltage,DC load current')\n",
"printf('Given\n')\n",
"Vm=282.84\n",
"f=50\n",
"C=500*10^-6\n",
"RL=2*10^3\n",
"//Ripple factor\n",
"r=1/(4*sqrt(3)*RL*f*C)\n",
"//Dc output voltage\n",
"Vdc=Vm/(1+(1/(4*f*C*RL)))\n",
"//Ripple voltage on capacitor\n",
"Vac=r*Vdc\n",
"//DC load current\n",
"Idc=Vdc/RL\n",
"printf('Ripple factor \n%f\n',r)\n",
"printf('dc ouput voltage \n%f volt\n',Vdc)\n",
"printf('Ripple voltage on capacitor \n%f volt\n',Vac)\n",
"printf('DC load current \n %f ampere\n',Idc)"
   ]
   }
,
{
		   "cell_type": "markdown",
		   "metadata": {},
		   "source": [
			"## Example 2.2_43: EX2_2_43.sce"
		   ]
		  },
  {
"cell_type": "code",
	   "execution_count": null,
	   "metadata": {
	    "collapsed": true
	   },
	   "outputs": [],
"source": [
"clc\n",
"disp('Example 2.43')\n",
"printf('\n')\n",
"disp('Find the ripple factor & output voltage if a capacitor of 160uf is connected in parallel with load')\n",
"RL=250\n",
"C=160*10^-6\n",
"f=50\n",
"Vm=49.497\n",
"//ripple factor\n",
"r=1/(4*sqrt(3)*f*RL*C)\n",
"//Dc output voltage\n",
"Vdc=Vm/(1+(1/(4*f*C*RL)))\n",
"printf('ripple factor \n %f\n',r)\n",
"printf('DC output voltage \n%f volt\n',Vdc)"
   ]
   }
,
{
		   "cell_type": "markdown",
		   "metadata": {},
		   "source": [
			"## Example 2.2_44: Find_the_ripple_factor_and_DC_load_current_of_FWBR.sce"
		   ]
		  },
  {
"cell_type": "code",
	   "execution_count": null,
	   "metadata": {
	    "collapsed": true
	   },
	   "outputs": [],
"source": [
"clc\n",
"disp('Example 2.44')\n",
"printf('\n')\n",
"disp('Find the ripple factor & DC load current')\n",
"printf('Given\n')\n",
"Vm=230\n",
"f=(314/(2*%pi))\n",
"RL=400\n",
"C=500*10^-6\n",
"//ripple factor\n",
"r=1/(4*sqrt(3)*f*RL*C)\n",
"//DC load current\n",
"Vdc=Vm/(1+(1/(4*f*C*RL)))\n",
"Idc=Vdc/RL\n",
"printf('ripple factor \n %f\n',r)\n",
"printf('DC laod current \n%f ampere\n',Idc)"
   ]
   }
,
{
		   "cell_type": "markdown",
		   "metadata": {},
		   "source": [
			"## Example 2.2_45: Find_the_capacitor_value_for_half_wave_rectifier.sce"
		   ]
		  },
  {
"cell_type": "code",
	   "execution_count": null,
	   "metadata": {
	    "collapsed": true
	   },
	   "outputs": [],
"source": [
"clc\n",
"disp('Example 2.45')\n",
"printf('\n')\n",
"disp('Find the capacitor value for half wave rectifier')\n",
"Vdc=20\n",
"f=60\n",
"RL=500\n",
"r=0.1/(2*sqrt(3))\n",
"c=1/(2*sqrt(3)*r*f*RL)\n",
"printf('Capacitor value =\t%e farad\n',c)"
   ]
   }
,
{
		   "cell_type": "markdown",
		   "metadata": {},
		   "source": [
			"## Example 2.2_46: Find_the_capacitor_value_for_full_wave_rectifier.sce"
		   ]
		  },
  {
"cell_type": "code",
	   "execution_count": null,
	   "metadata": {
	    "collapsed": true
	   },
	   "outputs": [],
"source": [
"clc\n",
"disp('Example 2.46')\n",
"printf('\n')\n",
"disp('Find the capacitor value for full wave rectifier')\n",
"printf('Given\n')\n",
"Vdc=20\n",
"f=60\n",
"RL=500\n",
"r=0.1/(2*sqrt(3))\n",
"c=1/(4*sqrt(3)*r*f*RL)\n",
"printf('Capacitor value =\t%e farad\n',c)"
   ]
   }
,
{
		   "cell_type": "markdown",
		   "metadata": {},
		   "source": [
			"## Example 2.2_50: calculate_load_and_source_effects_and_load_and_line_regulation.sce"
		   ]
		  },
  {
"cell_type": "code",
	   "execution_count": null,
	   "metadata": {
	    "collapsed": true
	   },
	   "outputs": [],
"source": [
"clc\n",
"disp('Example 2.50')\n",
"printf('\n')\n",
"disp('calculate load & source effects & the load & line regulation')\n",
"printf('Given\n')\n",
"Vo1=20\n",
"Vo2=19.7\n",
"//load effect=delVo for delIL(max)\n",
"LE=Vo1-Vo2\n",
"//Load regulation\n",
"LR=(LE*100)/Vo1\n",
"//source effect=delVo for 10% change in Vs\n",
"V=20.2\n",
"SE=V-Vo1\n",
"//Line regulation\n",
"LiR=(SE/Vo1)*100\n",
"printf('load effect \n %f volt\n',LE)\n",
"printf('load regulation \n%f \n',LR)\n",
"printf('source effect \n %f volt\n',SE)\n",
"printf('line regulation \n%f\n',LiR)"
   ]
   }
,
{
		   "cell_type": "markdown",
		   "metadata": {},
		   "source": [
			"## Example 2.2_51: calculate_load_and_source_effects_and_load_and_line_regulation.sce"
		   ]
		  },
  {
"cell_type": "code",
	   "execution_count": null,
	   "metadata": {
	    "collapsed": true
	   },
	   "outputs": [],
"source": [
"clc\n",
"disp('Example 2.51')\n",
"printf('\n')\n",
"disp('calculate load & source effects & load & line regulation')\n",
"printf('Given\n')\n",
"Vo1=15\n",
"Vo2=14.9\n",
"//load effect=delVo for delIL(max)\n",
"LE=Vo1-Vo2\n",
"//Load regulation\n",
"LR=LE*100/Vo1\n",
"//source effect=delVo for 10% change in Vs\n",
"V=14.95\n",
"SE=Vo1-V\n",
"//Line regulation\n",
"LiR=(SE/Vo1)*100\n",
"printf('load effect \n %f volt\n',LE)\n",
"printf('load regulation \n%f \n',LR)\n",
"printf('source effect \n %f volt\n',SE)\n",
"printf('line regulation \n%f\n',LiR)"
   ]
   }
,
{
		   "cell_type": "markdown",
		   "metadata": {},
		   "source": [
			"## Example 2.2_54: Design_the_Zener_Diode_Voltage_regulator_for_given_specification.sce"
		   ]
		  },
  {
"cell_type": "code",
	   "execution_count": null,
	   "metadata": {
	    "collapsed": true
	   },
	   "outputs": [],
"source": [
"clc\n",
"disp('Example 2.54')\n",
"printf('\n')\n",
"disp('Design the Zener Diode Voltage regulator for given specification')\n",
"printf('Given\n')\n",
"printf('1 Resistance are in ohms \n 2 Current are in ampere \n 3 voltage sources are in volt\n')\n",
"//unregulated dc input voltage\n",
"Vimin=8\n",
"Vimax=12\n",
"//regulated dc output voltage\n",
"Vo=5\n",
"//minimum zener current\n",
"Izmin=5*10^-3\n",
"//maximum zener current\n",
"Izmax=80*10^-3\n",
"//load current\n",
"ILmin=0\n",
"ILmax=20*10^-3\n",
"//load resistance\n",
"RL=Vo/ILmax\n",
"//maximum Resistance\n",
"Rmax=(Vimin-Vo)/(Izmin+ILmax)\n",
"//minimum resistance\n",
"Rmin=(Vimax-Vo)/(Izmax+ILmin)\n",
"//Required resistance\n",
"R=(Rmax+Rmin)/2\n",
"printf('minimum resistance %d ohm \n',Rmin)\n",
"printf('maximum resistance %d ohm \n',Rmax)\n",
"printf('required resistance %d ohm \n',R)\n",
""
   ]
   }
,
{
		   "cell_type": "markdown",
		   "metadata": {},
		   "source": [
			"## Example 2.2_55: Design_a_zener_diode_voltage_regulator_to_meet_following_specification.sce"
		   ]
		  },
  {
"cell_type": "code",
	   "execution_count": null,
	   "metadata": {
	    "collapsed": true
	   },
	   "outputs": [],
"source": [
"clc\n",
"disp('Example 2.55')\n",
"printf('\n')\n",
"disp('Design a zener diode voltage regulator to meet following specification')\n",
"printf('Given\n')\n",
"printf('1 Resistance are in ohms \n 2 Current are in ampere \n 3 voltage sources are in volt\n')\n",
"//unregulated dc input voltage\n",
"Vimin=13\n",
"Vimax=17\n",
"//Load current\n",
"ILmin-0\n",
"ILmax=10*10^-3\n",
"//regulated output voltage\n",
"Vo=10\n",
"//minimum zener current\n",
"Izmin=5*10^-3\n",
"//Maximum power dissipation\n",
"Pzmax=500*10^-3\n",
"//maximum zener current\n",
"Izmax=Pzmax/Vo\n",
"//maximum Resistance\n",
"Rmax=(Vimin-Vo)/(Izmin+ILmax)\n",
"//minimum resistance\n",
"Rmin=(Vimax-Vo)/(Izmax+ILmin)\n",
"//Required resistance\n",
"R=(Rmax+Rmin)/2\n",
"//load resistance\n",
"RLmin=Vo/ILmax\n",
"printf('minimum resistance %d ohm \n',Rmin)\n",
"printf('maximum resistance %d ohm \n',Rmax)\n",
"printf('required resistance %d ohm \n',R)\n",
"printf('load resistance %d ohm \n',RLmin)"
   ]
   }
,
{
		   "cell_type": "markdown",
		   "metadata": {},
		   "source": [
			"## Example 2.2_56: Design_a_zener_diode_voltage_regulator_to_meet_following_specification.sce"
		   ]
		  },
  {
"cell_type": "code",
	   "execution_count": null,
	   "metadata": {
	    "collapsed": true
	   },
	   "outputs": [],
"source": [
"clc\n",
"disp('Example 2.56')\n",
"printf('\n')\n",
"disp('Design a zener diode voltage regulator to meet following specification')\n",
"printf('Given\n')\n",
"printf('1 Resistance are in ohms \n 2 Current are in ampere \n 3 voltage sources are in volt\n')\n",
"//dc input voltage\n",
"Vimin=20\n",
"Vimax=Vimin\n",
"//dc output voltage\n",
"Vo=10\n",
"//load current\n",
"ILmin=0\n",
"ILmax=20*10^-3\n",
"//minimum zener current\n",
"Izmin=10*10^-3\n",
"//maximum zener current\n",
"Izmax=100*10^-3\n",
"//load resistance\n",
"RLmin=Vo/ILmax\n",
"//maximum Resistance\n",
"Rmax=(Vimin-Vo)/(Izmin+ILmax)\n",
"//minimum resistance\n",
"Rmin=(Vimax-Vo)/(Izmax+ILmin)\n",
"//Required resistance\n",
"R=(Rmax+Rmin)/2\n",
"printf('minimum resistance %d ohm \n',Rmin)\n",
"printf('maximum resistance %d ohm \n',Rmax)\n",
"printf('required resistance %d ohm \n',R)\n",
"printf('load resistance %d ohm \n',RLmin)\n",
""
   ]
   }
,
{
		   "cell_type": "markdown",
		   "metadata": {},
		   "source": [
			"## Example 2.2_57: EX2_2_57.sce"
		   ]
		  },
  {
"cell_type": "code",
	   "execution_count": null,
	   "metadata": {
	    "collapsed": true
	   },
	   "outputs": [],
"source": [
"clc\n",
"disp('Example 2.57')\n",
"printf('\n')\n",
"disp('Calculate the value of series resistance & Zener diode current when load is 1200ohm')\n",
"printf('Given\n')\n",
"printf('1 Resistance are in ohms \n 2 Current are in ampere \n 3 voltage sources are in volt\n')\n",
"//Input voltage\n",
"Vi=32\n",
"//Zener diode voltage\n",
"Vz=24\n",
"//maximum power\n",
"Pzmax=600*10^-3\n",
"//output voltage\n",
"Vo=24 \n",
"//since Vi has no variation\n",
"Vimax=32\n",
"Vimin=Vimax\n",
"//Zener current\n",
"Izmax=Pzmax/Vz\n",
"//series resistance\n",
"ILmin=0\n",
"R=(Vimax-Vo)/(Izmax+ILmin)\n",
"//Diode current\n",
"RL=1200\n",
"IL=Vo/RL      //load current\n",
"I=(Vi-Vo)/R    //total current\n",
"IZ=I-IL\n",
"printf('The diode current=\t%f ampere\n',IZ)"
   ]
   }
,
{
		   "cell_type": "markdown",
		   "metadata": {},
		   "source": [
			"## Example 2.2_58: Design_a_voltage_regulator_using_zener_diode_to_meet_following_specification.sce"
		   ]
		  },
  {
"cell_type": "code",
	   "execution_count": null,
	   "metadata": {
	    "collapsed": true
	   },
	   "outputs": [],
"source": [
"clc\n",
"disp('Example 2.58')\n",
"printf('\n')\n",
"disp('Design a voltage regulator using zener diode to meet following specification')\n",
"printf('Given\n')\n",
"printf('1 Resistance are in ohms \n 2 Current are in ampere \n 3 voltage sources are in volt\n')\n",
"//unregulated dc input voltage\n",
"Vimin=20\n",
"Vimax=30\n",
"//regulated dc output voltage\n",
"Vo=10\n",
"//minimum zener current\n",
"Izmin=2*10^-3\n",
"//maximum zener current\n",
"Izmax=100*10^-3\n",
"//load current\n",
"ILmin=0\n",
"ILmax=25*10^-3\n",
"//load resistance\n",
"RL=Vo/ILmax\n",
"//maximum Resistance\n",
"Rmax=(Vimin-Vo)/(Izmin+ILmax)\n",
"//minimum resistance\n",
"Rmin=(Vimax-Vo)/(Izmax+ILmin)\n",
"//Required resistance\n",
"R=(Rmax+Rmin)/2\n",
"printf('minimum resistance %d ohm \n',Rmin)\n",
"printf('maximum resistance %d ohm \n',Rmax)\n",
"printf('required resistance %d ohm \n',R)\n",
"printf('load resistance %d ohm \n',RLmin)\n",
""
   ]
   }
,
{
		   "cell_type": "markdown",
		   "metadata": {},
		   "source": [
			"## Example 2.2_59: Design_a_zener_voltage_regulator_to_meet_following_specification.sce"
		   ]
		  },
  {
"cell_type": "code",
	   "execution_count": null,
	   "metadata": {
	    "collapsed": true
	   },
	   "outputs": [],
"source": [
"clc\n",
"disp('Example 2.59')\n",
"printf('\n')\n",
"disp('Design a zener voltage regulator to meet following specification')\n",
"printf('Given\n')\n",
"printf('1 Resistance are in ohms \n 2 Current are in ampere \n 3 voltage sources are in volt\n')\n",
"//DC input voltage\n",
"Vimin=10-2\n",
"Vimax=10+2\n",
"//DC output voltage\n",
"Vo=5\n",
"//Load current\n",
"ILmax=10*10^-3\n",
"ILmin=0\n",
"//zener wattage\n",
"Pzmax=400*10^-3\n",
"Vz=Vo\n",
"//maximum zener current\n",
"Izmax=Pzmax/Vz\n",
"//since Izmin is not given so let us take IZmin=5mA\n",
"Izmin=5*10^-3\n",
"//maximum Resistance\n",
"Rmax=(Vimin-Vo)/(Izmin+ILmax)\n",
"//minimum resistance\n",
"Rmin=(Vimax-Vo)/(Izmax+ILmin)\n",
"//Required resistance\n",
"R=(Rmax+Rmin)/2\n",
"//load resistance\n",
"RL=Vo/ILmax\n",
"printf('minimum resistance %d ohm \n',Rmin)\n",
"printf('maximum resistance %d ohm \n',Rmax)\n",
"printf('required resistance %d ohm \n',R)\n",
"printf('load resistance %d ohm \n',RL)"
   ]
   }
,
{
		   "cell_type": "markdown",
		   "metadata": {},
		   "source": [
			"## Example 2.2_60: Design_a_zener_voltage_regulator_to_meet_following_specification.sce"
		   ]
		  },
  {
"cell_type": "code",
	   "execution_count": null,
	   "metadata": {
	    "collapsed": true
	   },
	   "outputs": [],
"source": [
"clc\n",
"disp('Example 2.60')\n",
"printf('\n')\n",
"disp('Design a zener voltage regulator to meet following specification')\n",
"printf('Given\n')\n",
"printf('1 Resistance are in ohms \n 2 Current are in ampere \n 3 voltage sources are in volt\n')\n",
"//DC input voltage(10V[+-]20%)\n",
"Vimin=10-2\n",
"Vimax=10+2\n",
"//DC output voltage\n",
"Vo=5\n",
"//Load current\n",
"ILmax=20*10^-3\n",
"ILmin=0\n",
"//zener current\n",
"Izmax=80*10^-3\n",
"Izmin=5*10^-3\n",
"//maximum Resistance\n",
"Rmax=(Vimin-Vo)/(Izmin+ILmax)\n",
"//minimum resistance\n",
"Rmin=(Vimax-Vo)/(Izmax+ILmin)\n",
"//Required resistance\n",
"R=(Rmax+Rmin)/2\n",
"//load resistance\n",
"RL=Vo/ILmax\n",
"printf('minimum resistance %d ohm \n',Rmin)\n",
"printf('maximum resistance %d ohm \n',Rmax)\n",
"printf('required resistance %d ohm \n',R)\n",
"printf('load resistance %d ohm \n',RL)"
   ]
   }
,
{
		   "cell_type": "markdown",
		   "metadata": {},
		   "source": [
			"## Example 2.2_61: Design_a_zener_voltage_regulator_to_meet_following_specification.sce"
		   ]
		  },
  {
"cell_type": "code",
	   "execution_count": null,
	   "metadata": {
	    "collapsed": true
	   },
	   "outputs": [],
"source": [
"clc\n",
"disp('Example 2.61')\n",
"printf('\n')\n",
"disp('Design a zener voltage regulator to meet following specification')\n",
"printf('Given\n')\n",
"printf('1 Resistance are in ohms \n 2 Current are in ampere \n 3 voltage sources are in volt\n')\n",
"//DC input voltage\n",
"Vimin=12-3\n",
"Vimax=12+3\n",
"//DC output voltage\n",
"Vo=5\n",
"//Load current\n",
"ILmax=20*10^-3\n",
"ILmin=0\n",
"//zener wattage\n",
"Pzmax=500*10^-3\n",
"Vz=Vo\n",
"//maximum zener current\n",
"Izmax=Pzmax/Vz\n",
"//since Izmin is not given so let us take IZmin=5mA\n",
"Izmin=5*10^-3\n",
"//maximum Resistance\n",
"Rmax=(Vimin-Vo)/(Izmin+ILmax)\n",
"//mini resistance\n",
"Rmin=(Vimax-Vo)/(Izmax+ILmin)\n",
"//Required resistance\n",
"R=(Rmax+Rmin)/2\n",
"//load resistance\n",
"RL=Vo/ILmax\n",
"printf('minimum resistance %d ohm \n',Rmin)\n",
"printf('maximum resistance %d ohm \n',Rmax)\n",
"printf('required resistance %d ohm \n',R)\n",
"printf('load resistance %d ohm \n',RL)"
   ]
   }
,
{
		   "cell_type": "markdown",
		   "metadata": {},
		   "source": [
			"## Example 2.2_63: Design_a_6V_dc_reference_source_to_operate_from_a_16v_supply.sce"
		   ]
		  },
  {
"cell_type": "code",
	   "execution_count": null,
	   "metadata": {
	    "collapsed": true
	   },
	   "outputs": [],
"source": [
"clc\n",
"disp('Example 2.63')\n",
"printf('\n')\n",
"disp('Design a 6V dc reference source to operate from a 16v supply')\n",
"printf('Given\n')\n",
"printf('1 Resistance are in ohms \n 2 Current are in ampere \n 3 voltage sources are in volt\n')\n",
"//output voltage\n",
"Vo=6\n",
"//input voltage\n",
"Vi=16\n",
"//zener power\n",
"Pzmax=400*10^-3\n",
"//zener current maximum\n",
"Izmax=Pzmax/Vo\n",
"//I=Iz+IL & ILmin=0, we have Izmax=I\n",
"//take Izmin=5*10^-3\n",
"Izmin=5*10^-3\n",
"//maximum load current\n",
"ILmax=Izmax-Izmin\n",
"//load resistance\n",
"RLmin=Vo/ILmax\n",
"//series resistance\n",
"R=(Vi-Vo)/Izmax\n",
"printf('maximum load current %d ampere\n',ILmax)\n",
"printf('Load resistance %d ohm\n',RLmin)\n",
"printf('sereies resistance %d ohm\n',R)"
   ]
   }
,
{
		   "cell_type": "markdown",
		   "metadata": {},
		   "source": [
			"## Example 2.2_64: EX2_2_64.sce"
		   ]
		  },
  {
"cell_type": "code",
	   "execution_count": null,
	   "metadata": {
	    "collapsed": true
	   },
	   "outputs": [],
"source": [
"clc\n",
"disp('Example 2.64')\n",
"printf('\n')\n",
"disp('Design a 8V dc reference source to operate from a 20v supply and find maximum load current')\n",
"printf('Given\n')\n",
"printf('1 Resistance are in ohms \n 2 Current are in ampere \n 3 voltage sources are in volt\n')\n",
"//output voltage\n",
"Vo=8\n",
"//input voltage\n",
"Vi=20\n",
"//zener power\n",
"Pzmax=400*10^-3\n",
"//zener current maximum\n",
"Izmax=Pzmax/Vo\n",
"//I=Iz+IL & ILmin=0, we have Izmax=I\n",
"//take Izmin=5*10^-3\n",
"Izmin=5*10^-3\n",
"//maximum load current\n",
"ILmax=Izmax-Izmin\n",
"//load resistance\n",
"RLmin=Vo/ILmax\n",
"//series resistance\n",
"R=(Vi-Vo)/Izmax\n",
"printf('maximum load current %d ampere\n',ILmax)\n",
"printf('Load resistance %d ohm\n',RLmin)\n",
"printf('sereies resistance %d ohm\n',R)\n",
""
   ]
   }
,
{
		   "cell_type": "markdown",
		   "metadata": {},
		   "source": [
			"## Example 2.2_65: EX2_2_65.sce"
		   ]
		  },
  {
"cell_type": "code",
	   "execution_count": null,
	   "metadata": {
	    "collapsed": true
	   },
	   "outputs": [],
"source": [
"clc\n",
"disp('Example 2.65')\n",
"printf('\n')\n",
"disp('Calculate circuit current when supply voltage drops to 27V, select suitable components')\n",
"printf('Given\n')\n",
"printf('1 Resistance are in ohms \n 2 Current are in ampere \n 3 voltage sources are in volt\n')\n",
"//input voltage\n",
"Vi=30\n",
"//output voltage\n",
"Vo=9\n",
"//test current(lies b/w Izmin & Izmax)\n",
"Izt=20*10^-3\n",
"//load current(assume zero, no load operation)\n",
"IL=0\n",
"//circuit current\n",
"I=Izt\n",
"//series resistance\n",
"R=(Vi-Vo)/I\n",
"//zener current when Vi drops to 27V\n",
"Vi1=27\n",
"Iz=(Vi1-Vo)/R\n",
"printf('Zener current is %f ampere\n',Iz)"
   ]
   }
,
{
		   "cell_type": "markdown",
		   "metadata": {},
		   "source": [
			"## Example 2.2_66: Calculate_the_effect_of_a_10per_variation_supply_voltage_on_diode_current.sce"
		   ]
		  },
  {
"cell_type": "code",
	   "execution_count": null,
	   "metadata": {
	    "collapsed": true
	   },
	   "outputs": [],
"source": [
"clc\n",
"disp('Example 2.66')\n",
"printf('\n')\n",
"disp('Calculate the effect of a 10% variation supply voltage on diode current')\n",
"printf('Given\n')\n",
"//input voltage\n",
"Vi=25\n",
"//output voltage\n",
"Vo=10\n",
"//test current(lies b/w Izmin & Izmax)\n",
"Izt=20*10^-3\n",
"//load current(assume zero, no load operation)\n",
"IL=10^-3\n",
"//select R such that\n",
"Iz=Izt\n",
"//series resistance\n",
"R=(Vi-Vo)/(Iz+IL)\n",
"//maximum input voltage \n",
"Vimax=25+2.5\n",
"//minimum input voltage\n",
"Vimin=25-2.5\n",
"//ciruit current\n",
"I1=(Vimax-Vo)/R\n",
"//zener current when Vimax\n",
"Izmax=I1-IL\n",
"//cicuit current when Vimin\n",
"I2=(Vimin-Vo)/R\n",
"//zener current when Vimin\n",
"Izmin=I2-IL\n",
"printf('circuit current when Vimax is %f ampere\n',I1)\n",
"printf('zener current when Vimax is %f ampere\n',Izmax)\n",
"printf('circuit current when Vimin is %f ampere\n',I2)\n",
"printf('zener current when Viin is %f ampere\n',Izmin)"
   ]
   }
,
{
		   "cell_type": "markdown",
		   "metadata": {},
		   "source": [
			"## Example 2.2_68: EX2_2_68.sce"
		   ]
		  },
  {
"cell_type": "code",
	   "execution_count": null,
	   "metadata": {
	    "collapsed": true
	   },
	   "outputs": [],
"source": [
"clc\n",
"disp('Example 2.68')\n",
"printf('\n')\n",
"disp('Calculate the line regulation, output resistance, load regulation & ripple rejection ratio')\n",
"printf('Given\n')\n",
"printf('1 Resistance are in ohms \n 2 Current are in ampere \n 3 voltage sources are in volt\n')\n",
"//input voltage\n",
"Vi=16\n",
"//output voltage\n",
"Vo=6\n",
"//load current\n",
"ILmax=60*10^-3\n",
"//dynamic impedence\n",
"Zz=7\n",
"//series resistance\n",
"R=150\n",
"//Source effect\n",
"delVi=(10*16)/100\n",
"RL=Vo/ILmax\n",
"//Zz||RL\n",
"Rp=(Zz*RL)/(Zz+RL)\n",
"delVo=(delVi*Rp)/(R+Rp)\n",
"//Line regulation\n",
"LR=(delVo*100)/Vo\n",
"//load effect\n",
"delIL=ILmax\n",
"Ro=(Zz*R)/(Zz+R)\n",
"delVo1=delIL*Ro\n",
"//output resistance\n",
"Rout=Ro\n",
"//Ripple rejection ratio\n",
"VrobyVri=Rp/(R+Rp)\n",
"printf('line regulation is %f \n',LR)\n",
"printf('output resistance is %d ohm\n',Rout)\n",
"printf('Ripple rejection ratio %f \n',VrobyVri)"
   ]
   }
],
"metadata": {
		  "kernelspec": {
		   "display_name": "Scilab",
		   "language": "scilab",
		   "name": "scilab"
		  },
		  "language_info": {
		   "file_extension": ".sce",
		   "help_links": [
			{
			 "text": "MetaKernel Magics",
			 "url": "https://github.com/calysto/metakernel/blob/master/metakernel/magics/README.md"
			}
		   ],
		   "mimetype": "text/x-octave",
		   "name": "scilab",
		   "version": "0.7.1"
		  }
		 },
		 "nbformat": 4,
		 "nbformat_minor": 0
}
