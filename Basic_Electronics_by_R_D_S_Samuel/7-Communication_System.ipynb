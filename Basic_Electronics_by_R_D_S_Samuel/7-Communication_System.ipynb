{
"cells": [
 {
		   "cell_type": "markdown",
	   "metadata": {},
	   "source": [
       "# Chapter 7: Communication System"
	   ]
	},
{
		   "cell_type": "markdown",
		   "metadata": {},
		   "source": [
			"## Example 7.7_25: Determine_sideband_frequencies_and_Bandwidth.sce"
		   ]
		  },
  {
"cell_type": "code",
	   "execution_count": null,
	   "metadata": {
	    "collapsed": true
	   },
	   "outputs": [],
"source": [
"clc \n",
"disp('Example 7.25')\n",
"printf('\n')\n",
"disp('calculate side band frequencies & bandwidth \n')\n",
"printf('Given')\n",
"disp('Fc=600khz,Fm=1khz')\n",
"Fc=6*10^5\n",
"Fm=10^3\n",
"Flsb=Fc-Fm\n",
"Fusb=Fc+Fm\n",
"BW=2*Fm\n",
"printf('Side band frequencies are= %d hz,\t%d hz\n',Flsb,Fusb)\n",
"printf('Bandwidth is=%d hz',BW)"
   ]
   }
,
{
		   "cell_type": "markdown",
		   "metadata": {},
		   "source": [
			"## Example 7.7_27: Calculate_total_power_in_modulated_wave.sce"
		   ]
		  },
  {
"cell_type": "code",
	   "execution_count": null,
	   "metadata": {
	    "collapsed": true
	   },
	   "outputs": [],
"source": [
"clc\n",
"disp('Example 7.27')\n",
"printf('\n')\n",
"disp('Calculate the total power in the modulated wave')\n",
"printf('Given')\n",
"disp('carrier power=400W,modulation index=75%')\n",
"Pc=400\n",
"Ma=0.75\n",
"Pt=Pc*(1+(Ma^2/2))\n",
"printf('The total power in modulated wave =\n%f watt',Pt)"
   ]
   }
,
{
		   "cell_type": "markdown",
		   "metadata": {},
		   "source": [
			"## Example 7.7_28: Determine_radiated_power.sce"
		   ]
		  },
  {
"cell_type": "code",
	   "execution_count": null,
	   "metadata": {
	    "collapsed": true
	   },
	   "outputs": [],
"source": [
"clc\n",
"disp('Example 7.28')\n",
"printf('\n')\n",
"disp('Determine the radiated power at a modulation index of 0.6')\n",
"printf('Given')\n",
"disp('carrier power=50Khz, modulation index=0.6')\n",
"Pc=5*10^4\n",
"Ma=0.6\n",
"Pt=Pc*(1+(Ma^2/2))\n",
"printf('The total power in modulated wave =\n%f watt',Pt)"
   ]
   }
,
{
		   "cell_type": "markdown",
		   "metadata": {},
		   "source": [
			"## Example 7.7_34: Calculate_carrier_power.sce"
		   ]
		  },
  {
"cell_type": "code",
	   "execution_count": null,
	   "metadata": {
	    "collapsed": true
	   },
	   "outputs": [],
"source": [
"clc\n",
"disp('Example 7.34')\n",
"printf('\n')\n",
"disp('calculate carrier power')\n",
"printf('Given\n')\n",
"disp('total power=10KW,modulation index=0.6')\n",
"Pt=10^4\n",
"Ma=0.6\n",
"Pc=Pt/(1+(Ma^2/2))\n",
"printf('The carrier power is=%f watt\n',Pc)"
   ]
   }
,
{
		   "cell_type": "markdown",
		   "metadata": {},
		   "source": [
			"## Example 7.7_35: Determine_power_content_of_carrier_and_sidebands.sce"
		   ]
		  },
  {
"cell_type": "code",
	   "execution_count": null,
	   "metadata": {
	    "collapsed": true
	   },
	   "outputs": [],
"source": [
"clc\n",
"disp('Example 7.35')\n",
"printf('\n')\n",
"disp('Determine power content of carrier & each sideband')\n",
"printf('Given\n')\n",
"disp('Total power=2.64KW,modulation index=80%')\n",
"Pt=2.64*10^3\n",
"Ma=0.8\n",
"Pc=Pt/(1+(Ma^2/2))\n",
"Plsb=Ma^2*Pc/4\n",
"Pusb=Plsb\n",
"printf('The total power is=%f watt\n',Pc)\n",
"printf('The sideband power is=\n%f watt,\t%f watt',Plsb,Pusb)"
   ]
   }
,
{
		   "cell_type": "markdown",
		   "metadata": {},
		   "source": [
			"## Example 7.7_36: Calculate_sideband_frequencies_and_bandwidth_and_total_power.sce"
		   ]
		  },
  {
"cell_type": "code",
	   "execution_count": null,
	   "metadata": {
	    "collapsed": true
	   },
	   "outputs": [],
"source": [
"clc\n",
"disp('Example 7.36')\n",
"printf('\n')\n",
"disp('Calculate sideband frequencies,bandwidth,power in sidebands,Total power')\n",
"printf('Given')\n",
"disp('carrier power=1KW,carrier frequency=2MHz,Modulation frequency=2KHz,Modulation index=0.6')\n",
"Pc=10^3\n",
"Fc=2*10^6\n",
"Fm=2*10^3\n",
"Ma=0.6\n",
"Flsb=Fc-Fm\n",
"Fusb=Fc+Fm\n",
"BW=2*Fm\n",
"Plsb=Ma^2*Pc/4\n",
"Pusb=Plsb\n",
"Pt=Pc*(1+(Ma^2/2))\n",
"printf('Sideband frequencies are=\n%d hz,\t%d hz\n',Flsb,Fusb)\n",
"printf('Bandwidth=%d hz\n',BW)\n",
"printf('Power in sidebands=\n%f watt,\t%f watt\n',Plsb,Pusb)\n",
"printf('Total power=\n%f watt',Pt)"
   ]
   }
,
{
		   "cell_type": "markdown",
		   "metadata": {},
		   "source": [
			"## Example 7.7_37: Calculate_modulation_index.sce"
		   ]
		  },
  {
"cell_type": "code",
	   "execution_count": null,
	   "metadata": {
	    "collapsed": true
	   },
	   "outputs": [],
"source": [
"clc\n",
"disp('Example 7.37')\n",
"printf('\n')\n",
"disp('Calculate the modulation index')\n",
"printf('Given\n')\n",
"disp('carrier voltage=100V,Total modulated voltage in rms=110V')\n",
"Vt=110\n",
"Vcar=100\n",
"//assume R value as 1\n",
"R=1\n",
"Pt=Vt^2/R\n",
"Pc=Vcar^2/R\n",
"Ma=sqrt(2*((Pt/Pc)-1))\n",
"printf('Modulation index =%f',Ma)"
   ]
   }
,
{
		   "cell_type": "markdown",
		   "metadata": {},
		   "source": [
			"## Example 7.7_38: Determine_antenna_current.sce"
		   ]
		  },
  {
"cell_type": "code",
	   "execution_count": null,
	   "metadata": {
	    "collapsed": true
	   },
	   "outputs": [],
"source": [
"clc\n",
"disp('Example 7.38')\n",
"printf('\n')\n",
"disp('Determine modulation index & Antenna current when MOdulation index changes to 0.8')\n",
"printf('given\n')\n",
"disp('carrier current=8A,Modulated carrier current=8.93A')\n",
"Icar=8\n",
"It=8.93\n",
"//assume R=1\n",
"R=1\n",
"Pc=Icar^2*R\n",
"Pt=It^2*R\n",
"Ma=sqrt(2*((Pt/Pc)-1))\n",
"//Modulated carrier current when Ma changes to 8\n",
"Ma1=0.8\n",
"It1=Icar*sqrt(1+(Ma1^2/2))\n",
"printf('Modulation index =%f\n',Ma)\n",
"printf('Modulated carrier current when Ma changes to 8 is =%f ampere',It1)"
   ]
   }
,
{
		   "cell_type": "markdown",
		   "metadata": {},
		   "source": [
			"## Example 7.7_39: Calculate_tranmission_power_efficiency_and_average_power_in_carrier_component.sce"
		   ]
		  },
  {
"cell_type": "code",
	   "execution_count": null,
	   "metadata": {
	    "collapsed": true
	   },
	   "outputs": [],
"source": [
"clc\n",
"disp('Example 7.39')\n",
"printf('\n')\n",
"disp('Calculate transmission power efficiency and average power in carrier component')\n",
"printf('Given \n')\n",
"disp('Total power=20KW,Modulation index=0.7')\n",
"Pt=2*10^4\n",
"Ma=0.7\n",
"Pc=Pt/(1+(Ma^2/2))\n",
"%n=(Ma^2/(2+Ma^2))*100\n",
"printf('The carrier Power  =%f watt\n',Pc)\n",
"printf('The transmission power efficiency  =%f',%n)"
   ]
   }
,
{
		   "cell_type": "markdown",
		   "metadata": {},
		   "source": [
			"## Example 7.7_40: Calculate_modulation_index.sce"
		   ]
		  },
  {
"cell_type": "code",
	   "execution_count": null,
	   "metadata": {
	    "collapsed": true
	   },
	   "outputs": [],
"source": [
"clc\n",
"disp('Example 7.40')\n",
"printf('\n')\n",
"disp('Calculate modulation index')\n",
"printf('Given\n')\n",
"disp('maximum & minimum amplitudes are 600mv,200mv')\n",
"Vmax=600*10^-3\n",
"Vmin=200*10^-3\n",
"Ma=(Vmax-Vmin)/(Vmax+Vmin)\n",
"printf('Modulation Index is =\n%f',Ma)"
   ]
   }
,
{
		   "cell_type": "markdown",
		   "metadata": {},
		   "source": [
			"## Example 7.7_41: Sketch_the_frequency_spectrum.sce"
		   ]
		  },
  {
"cell_type": "code",
	   "execution_count": null,
	   "metadata": {
	    "collapsed": true
	   },
	   "outputs": [],
"source": [
"clc\n",
"disp('Example 7.41')\n",
"printf('\n')\n",
"disp('sketch the frequency spectrum')\n",
"printf('Given\n')\n",
"disp('carrier amplitude=10V,carrier frequency=10MHz,Modulating frequency=1Khz,MI=0.5')\n",
"Vc=10\n",
"fc=10^7\n",
"fm=10^3\n",
"ma=0.5\n",
"wc=2*%pi*fc\n",
"wm=2*%pi*fm\n",
"t=10^-7\n",
"v=Vc*(1+(ma*sin(wm*t)))*cos(wc*t)\n",
"Vs=(ma*Vc)/2\n",
"flsb=fc-fm\n",
"fusb=fc+fm\n",
"// take below values just for plotting graph with intial values\n",
"f1=9.9989*10^6\n",
"v1=0\n",
"f=[f1 flsb fc fusb]\n",
"a=[v1 Vs Vc Vs]\n",
"plot2d3(f,a)\n",
"xtitle('Frequency Spectrum')\n",
"xlabel('Frequency')\n",
"ylabel('Amplitude')"
   ]
   }
,
{
		   "cell_type": "markdown",
		   "metadata": {},
		   "source": [
			"## Example 7.7_42: Find_the_saving_power_in_LSB_alone.sce"
		   ]
		  },
  {
"cell_type": "code",
	   "execution_count": null,
	   "metadata": {
	    "collapsed": true
	   },
	   "outputs": [],
"source": [
"clc\n",
"disp('Example 7.42')\n",
"printf('\n')\n",
"disp('Find the saving power if power contained in the LSB alone is used')\n",
"printf('Given\n')\n",
"disp('Total power=20KW,Modulation Index=0.8')\n",
"Pt=20*10^3\n",
"Ma=0.8\n",
"Pc=Pt/(1+(Ma^2/2))\n",
"Plsb=(Pt-Pc)/2\n",
"%Ps=((Pt-Plsb)/Pt)*100\n",
"printf('power in sideband=%f watt\n',Plsb)\n",
"printf('Saving in power=\n%f\n',%Ps)"
   ]
   }
,
{
		   "cell_type": "markdown",
		   "metadata": {},
		   "source": [
			"## Example 7.7_55: Find_maximum_frequency_deviation_and_modulation_index.sce"
		   ]
		  },
  {
"cell_type": "code",
	   "execution_count": null,
	   "metadata": {
	    "collapsed": true
	   },
	   "outputs": [],
"source": [
"clc\n",
"disp('Example 7.55')\n",
"printf('\n')\n",
"disp('Find the maximum frequency deviation & modulation index')\n",
"printf('Given\n')\n",
"disp('Kf=1KHz/v,Modulating voltage=15v,frequency=3KHz')\n",
"K=10^3\n",
"Vm=15\n",
"Fm=3*10^3\n",
"del=K*Vm\n",
"Mf=del/Fm\n",
"printf('Maximum frequency Deviation is =\n%d hz\n',del)\n",
"printf('Modulation Index=\n%f\n',Mf)"
   ]
   }
,
{
		   "cell_type": "markdown",
		   "metadata": {},
		   "source": [
			"## Example 7.7_56: Calculate_frequency_deviation_and_modulation_index.sce"
		   ]
		  },
  {
"cell_type": "code",
	   "execution_count": null,
	   "metadata": {
	    "collapsed": true
	   },
	   "outputs": [],
"source": [
"clc\n",
"disp('Example 7.56')\n",
"printf('\n')\n",
"disp('find the frequency deviation & modulation index')\n",
"printf('Given\n')\n",
"del=5*10^3\n",
"Vm=2.5\n",
"Kf=del/Vm\n",
"//when Vm=7.5\n",
"Vm=7.5\n",
"del1=Kf*Vm\n",
"//when Vm=10v\n",
"Vm=10\n",
"del2=Kf*Vm\n",
"Fm1=500\n",
"Mf1=del/Fm1\n",
"Mf2=del1/Fm1\n",
"Fm2=250\n",
"Mf3=del2/Fm2\n",
"printf('Frequency deviation at different modulating Voltage =\n%d hz\n%d hz\n',del1,del2)\n",
"printf('Modulation index at different frequency deviation & modulating frequency =\n%d\n%d\n%d\n',Mf1,Mf2,Mf3)"
   ]
   }
,
{
		   "cell_type": "markdown",
		   "metadata": {},
		   "source": [
			"## Example 7.7_92: Find_the_peak_value_of_unknown_voltage.sce"
		   ]
		  },
  {
"cell_type": "code",
	   "execution_count": null,
	   "metadata": {
	    "collapsed": true
	   },
	   "outputs": [],
"source": [
"clc\n",
"disp('Example 7.92')\n",
"printf('\n')\n",
"disp('Find the Peak Value')\n",
"printf('Given\n')\n",
"disp('Vpp=100v,deflection=5cm')\n",
"Vpp=100\n",
"D=5\n",
"DS=Vpp/D\n",
"//another sinusoidal produces a deflection of 8cm\n",
"D1=8\n",
"Vpp1=DS*D1\n",
"printf('The peak value of unknown voltage=\n%d volt\n',Vpp1)"
   ]
   }
],
"metadata": {
		  "kernelspec": {
		   "display_name": "Scilab",
		   "language": "scilab",
		   "name": "scilab"
		  },
		  "language_info": {
		   "file_extension": ".sce",
		   "help_links": [
			{
			 "text": "MetaKernel Magics",
			 "url": "https://github.com/calysto/metakernel/blob/master/metakernel/magics/README.md"
			}
		   ],
		   "mimetype": "text/x-octave",
		   "name": "scilab",
		   "version": "0.7.1"
		  }
		 },
		 "nbformat": 4,
		 "nbformat_minor": 0
}
