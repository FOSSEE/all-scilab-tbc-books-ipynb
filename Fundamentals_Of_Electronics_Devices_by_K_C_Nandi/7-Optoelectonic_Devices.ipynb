{
"cells": [
 {
		   "cell_type": "markdown",
	   "metadata": {},
	   "source": [
       "# Chapter 7: Optoelectonic Devices"
	   ]
	},
{
		   "cell_type": "markdown",
		   "metadata": {},
		   "source": [
			"## Example 7.23_1: Open_circuit_voltage.sce"
		   ]
		  },
  {
"cell_type": "code",
	   "execution_count": null,
	   "metadata": {
	    "collapsed": true
	   },
	   "outputs": [],
"source": [
"// Exa 7.23.1\n",
"clc;\n",
"clear;\n",
"close;\n",
"// Given data\n",
"N_A = 7.5*10^24;// in atoms/m^3\n",
"N_D = 1.5*10^22;// in atoms/m^3\n",
"I_lembda = 12.5*10^-3;// in A/cm^2\n",
"D_e = 25*10^-4;// in m^2/s\n",
"D_h = 1*10^-3;// in m^2/s\n",
"Torque_eo = 500;// in ns\n",
"Torque_ho = 100;// in ns\n",
"n_i = 1.5*10^16;// in /m^3\n",
"e = 1.6*10^-19;\n",
"P_C = 12.5;// in mA/cm^2\n",
"L_e = sqrt(D_e*Torque_ho*10^-9);// in m\n",
"L_e = L_e * 10^6;// in µm\n",
"L_h = sqrt(D_h*Torque_ho*10^-9);// in m\n",
"L_h = L_h * 10^6;// in µm\n",
"J_s = e*((n_i)^2)*( (D_e/(L_e*10^-6*N_A)) + (D_h/(L_h*10^-6*N_D)) );// in A/m^2\n",
"J_s = J_s * 10^-4;// in A/cm^2\n",
"V_T = 26;// in mV\n",
"V_OC = V_T*log( 1+(I_lembda/J_s) );// in mV\n",
"V_OC = V_OC * 10^-3;// in V\n",
"disp(V_OC,'Open circuit voltage in V is');"
   ]
   }
,
{
		   "cell_type": "markdown",
		   "metadata": {},
		   "source": [
			"## Example 7.23_2: Photocurrent_density.sce"
		   ]
		  },
  {
"cell_type": "code",
	   "execution_count": null,
	   "metadata": {
	    "collapsed": true
	   },
	   "outputs": [],
"source": [
"// Exa 7.23.2\n",
"clc;\n",
"clear;\n",
"close;\n",
"// Given data\n",
"Phi_o = 1*10^21;// in m^-2s^-1\n",
"Alpha = 1*10^5;// in m^-1\n",
"W = 25;// in µm\n",
"W =W * 10^-6;// in m\n",
"e = 1.6*10^-19;// in C\n",
"G_L1 = Alpha*Phi_o;// in m^-3s^-1\n",
"G_L2 = Alpha*Phi_o*%e^( (-Alpha*W) );// in m^-3s^-1\n",
"J_L = e*Phi_o*(1-%e^(-Alpha*W));// in A/m^2\n",
"J_L = J_L * 10^-1;// in mA/cm^2\n",
"disp(J_L,'Photo current density in mA/cm^2 is');"
   ]
   }
,
{
		   "cell_type": "markdown",
		   "metadata": {},
		   "source": [
			"## Example 7.6_1: Component_value.sce"
		   ]
		  },
  {
"cell_type": "code",
	   "execution_count": null,
	   "metadata": {
	    "collapsed": true
	   },
	   "outputs": [],
"source": [
"// Exa 7.6.1\n",
"clc;\n",
"clear;\n",
"close;\n",
"// Given data\n",
"O_V = 5;// output voltage in V\n",
"V_D = 1.5;//voltage drop in V\n",
"R = (O_V - V_D)/O_V;\n",
"R = R * 10^3;// in ohm\n",
"disp(R,'The resistance value in Ω is');\n",
"disp('As this is not standard value, use R=680 Ω which is a standard value')"
   ]
   }
],
"metadata": {
		  "kernelspec": {
		   "display_name": "Scilab",
		   "language": "scilab",
		   "name": "scilab"
		  },
		  "language_info": {
		   "file_extension": ".sce",
		   "help_links": [
			{
			 "text": "MetaKernel Magics",
			 "url": "https://github.com/calysto/metakernel/blob/master/metakernel/magics/README.md"
			}
		   ],
		   "mimetype": "text/x-octave",
		   "name": "scilab",
		   "version": "0.7.1"
		  }
		 },
		 "nbformat": 4,
		 "nbformat_minor": 0
}
