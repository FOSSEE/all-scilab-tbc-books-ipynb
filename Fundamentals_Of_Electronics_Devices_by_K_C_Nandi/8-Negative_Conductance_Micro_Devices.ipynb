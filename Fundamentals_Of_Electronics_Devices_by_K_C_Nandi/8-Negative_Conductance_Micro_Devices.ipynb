{
"cells": [
 {
		   "cell_type": "markdown",
	   "metadata": {},
	   "source": [
       "# Chapter 8: Negative Conductance Micro Devices"
	   ]
	},
{
		   "cell_type": "markdown",
		   "metadata": {},
		   "source": [
			"## Example 8.13_1: The_anode_current.sce"
		   ]
		  },
  {
"cell_type": "code",
	   "execution_count": null,
	   "metadata": {
	    "collapsed": true
	   },
	   "outputs": [],
"source": [
"// Exa 8.13.1\n",
"clc;\n",
"clear;\n",
"close;\n",
"// Given data\n",
"R= 10;// in kΩ\n",
"R= R*10^3;// in Ω\n",
"// Part (i)\n",
"V=300;// in V\n",
"I_A= V/R;// in A\n",
"disp('Part (i) : For 300 V voltage : ')\n",
"disp(I_A*10^3,'The anode current in mA is : ');\n",
"// Part (ii)\n",
"V=100;// in V\n",
"I_A= V/R;// in A\n",
"disp('Part (ii) : For 100 V voltage : ')\n",
"disp(I_A*10^3,'The anode current in mA is : ');"
   ]
   }
,
{
		   "cell_type": "markdown",
		   "metadata": {},
		   "source": [
			"## Example 8.14_1: Peak_reverse_recovery_current.sce"
		   ]
		  },
  {
"cell_type": "code",
	   "execution_count": null,
	   "metadata": {
	    "collapsed": true
	   },
	   "outputs": [],
"source": [
"// Exa 8.14.1\n",
"clc;\n",
"clear;\n",
"close;\n",
"// Given data\n",
"t_rr = 10;// in µs\n",
"Q_rr = 150;// in µc\n",
"I_rr = (2*Q_rr)/t_rr;// in A\n",
"disp(I_rr,'The peak reverse recovery current in A is');"
   ]
   }
],
"metadata": {
		  "kernelspec": {
		   "display_name": "Scilab",
		   "language": "scilab",
		   "name": "scilab"
		  },
		  "language_info": {
		   "file_extension": ".sce",
		   "help_links": [
			{
			 "text": "MetaKernel Magics",
			 "url": "https://github.com/calysto/metakernel/blob/master/metakernel/magics/README.md"
			}
		   ],
		   "mimetype": "text/x-octave",
		   "name": "scilab",
		   "version": "0.7.1"
		  }
		 },
		 "nbformat": 4,
		 "nbformat_minor": 0
}
