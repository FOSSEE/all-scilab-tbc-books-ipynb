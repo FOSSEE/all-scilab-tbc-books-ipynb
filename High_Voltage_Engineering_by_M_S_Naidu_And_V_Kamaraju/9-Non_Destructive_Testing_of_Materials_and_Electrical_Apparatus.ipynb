{
"cells": [
 {
		   "cell_type": "markdown",
	   "metadata": {},
	   "source": [
       "# Chapter 9: Non Destructive Testing of Materials and Electrical Apparatus"
	   ]
	},
{
		   "cell_type": "markdown",
		   "metadata": {},
		   "source": [
			"## Example 9.1: calculation_of_the_volume_resistivity.sce"
		   ]
		  },
  {
"cell_type": "code",
	   "execution_count": null,
	   "metadata": {
	    "collapsed": true
	   },
	   "outputs": [],
"source": [
"//developed in windows XP operating system\n",
"//platform Scilab 5.4.1\n",
"clc;clear all;\n",
"//example 9.1\n",
"//calculation of the volume resistivity\n",
"\n",
"//given data\n",
"V=1000//applied voltage(in V)\n",
"Rs=10^7//standard resistance(in ohm)\n",
"n=3000//universal shunt ratio\n",
"Ds=33.3//deflection(in cm) for Rs\n",
"D=3.2//deflection(in cm)\n",
"d=10//diameter(in cm) of the electrodes\n",
"t=2*10^-1//thickness(in cm) of the specimen\n",
"\n",
"//calculation\n",
"G=V/(Rs*n*Ds)//galvanometer sensitivity\n",
"R=V/(D*G)//resistance of the specimen\n",
"r=d/2//radius of the electrodes\n",
"rho=(%pi*r^2*R)/t//volume resistivity\n",
"\n",
"printf('The volume resistivity is %3.3e ohmcm',rho)"
   ]
   }
,
{
		   "cell_type": "markdown",
		   "metadata": {},
		   "source": [
			"## Example 9.2: calculation_of_resistivity_of_the_specimen.sce"
		   ]
		  },
  {
"cell_type": "code",
	   "execution_count": null,
	   "metadata": {
	    "collapsed": true
	   },
	   "outputs": [],
"source": [
"//developed in windows XP operating system\n",
"//platform Scilab 5.4.1\n",
"clc;clear all;\n",
"//example 9.2\n",
"//calculation of resistivity of the specimen\n",
"\n",
"//given data\n",
"tm=30//time (in minute)\n",
"ts=20//time(in second)\n",
"Vn=1000//voltage(in V) to which the condenser was charged\n",
"V=500//voltage(in V) fall to\n",
"C=0.1*10^-6//capacitance(in Farad)\n",
"d=10//diameter(in cm) of the electrodes\n",
"th=2*10^-1//thickness(in cm) of the specimen\n",
"\n",
"//calculation\n",
"t=(tm*60)+ts\n",
"R=t/(C*log(Vn/V))//resistance\n",
"r=d/2//radius of the electrodes\n",
"rho=(%pi*r^2*R)/th//volume resistivity\n",
"\n",
"printf('The resistivity of the specimen is %3.3e ohmcm',rho)"
   ]
   }
,
{
		   "cell_type": "markdown",
		   "metadata": {},
		   "source": [
			"## Example 9.3: calculation_of_dielectric_constant_and_complex_permittivity_of_bakelite.sce"
		   ]
		  },
  {
"cell_type": "code",
	   "execution_count": null,
	   "metadata": {
	    "collapsed": true
	   },
	   "outputs": [],
"source": [
"//developed in windows XP operating system\n",
"//platform Scilab 5.4.1\n",
"clc;clear all;\n",
"//example 9.3\n",
"//calculation of dielectric constant and complex permittivity of bakelite\n",
"\n",
"//given data\n",
"C=147*10^-12//capacitance(in Farad)\n",
"Ca=35*10^-12//air capacitance(in Farad)\n",
"tandelta=0.0012\n",
"epsilon0=(36*%pi*10^9)^-1//electrical permittivity(in F/m) of free space\n",
"\n",
"\n",
"//calculation\n",
"epsilonr=C/Ca//dielectric constant\n",
"Kdash=epsilonr\n",
"Kdashdash=tandelta*Kdash\n",
"Kim=complex(Kdash,-Kdashdash)\n",
"epsilonast=epsilon0*Kim\n",
"\n",
"printf('The dielectric constant is %3.1f ',epsilonr)\n",
"disp(epsilonast,'The complex permittivity(in F/m)is ')"
   ]
   }
,
{
		   "cell_type": "markdown",
		   "metadata": {},
		   "source": [
			"## Example 9.4: calculation_of_capacitance_and_tandelta_of_bushing.sce"
		   ]
		  },
  {
"cell_type": "code",
	   "execution_count": null,
	   "metadata": {
	    "collapsed": true
	   },
	   "outputs": [],
"source": [
"//developed in windows XP operating system\n",
"//platform Scilab 5.4.1\n",
"clc;clear all;\n",
"//example 9.4\n",
"//calculation of capacitance and tandelta of bushing\n",
"\n",
"//given data\n",
"R3=3180//resistance(in ohm)\n",
"R4=636//resistance(in ohm)\n",
"Cs=100//standard condenser(in pF)\n",
"f=50//frequency(in Hz)\n",
"C3=0.00125*10^-6//capacitance(in farad)\n",
"\n",
"//calculation\n",
"omega=2*%pi*f\n",
"Cx=R3*Cs/R4//unknown capacitance\n",
"tandelta=omega*C3*R3\n",
"\n",
"printf('The capacitance is %d pF',Cx)\n",
"printf('\nThe value of tandelta of bushing is %3.5f',tandelta)"
   ]
   }
,
{
		   "cell_type": "markdown",
		   "metadata": {},
		   "source": [
			"## Example 9.5: calculation_of_dielectric_constant_and_tandelta_of_the_transformer_oil.sce"
		   ]
		  },
  {
"cell_type": "code",
	   "execution_count": null,
	   "metadata": {
	    "collapsed": true
	   },
	   "outputs": [],
"source": [
"//developed in windows XP operating system\n",
"//platform Scilab 5.4.1\n",
"clc;clear all;\n",
"//example 9.5\n",
"//calculation of dielectric constant and tandelta of the transformer oil\n",
"\n",
"//given data\n",
"f=1*10^3//frequency(in Hz)\n",
"C1=504//capacitance(in pF) for standard condenser and leads\n",
"D1=0.0003//dissipation factor for standard condenser and leads\n",
"C2=525//capacitance(in pF) for standard condenser in parallel with the empty test cell\n",
"D2=0.00031//dissipation factor for standard condenser in parallel with the empty test cell\n",
"C3=550//capacitance(in pF) for standard condenser in parallel with the test cell and oil\n",
"D3=0.00075//dissipation factor for standard condenser in parallel with the test cell and oil\n",
"\n",
"//calculation\n",
"Ctc=C2-C1//capacitance of the test cell\n",
"Ctcoil=C3-C1//capacitance of the test cell + oil\n",
"epsilonr=Ctcoil/Ctc//dielectric constant of oil\n",
"deltaDoil=D3-D2//deltaD of oil\n",
"\n",
"printf('The dielectric constant is %3.2f',epsilonr)\n",
"printf('\nThe value of tandelta of the transformer oil is %3.5f',deltaDoil)"
   ]
   }
,
{
		   "cell_type": "markdown",
		   "metadata": {},
		   "source": [
			"## Example 9.6: calculation_of_magnitude_of_the_charge_transferred_from_the_cavity.sce"
		   ]
		  },
  {
"cell_type": "code",
	   "execution_count": null,
	   "metadata": {
	    "collapsed": true
	   },
	   "outputs": [],
"source": [
"//developed in windows XP operating system\n",
"//platform Scilab 5.4.1\n",
"clc;clear all;\n",
"//example 9.6\n",
"//calculation of magnitude of the charge transferred from the cavity\n",
"\n",
"//given data\n",
"Vd=0.2//discharge voltage(in V)\n",
"s=1//sensitivity(in pC/V)\n",
"epsilonr=2.5//relative permittivity\n",
"epsilon0=(36*%pi*10^9)^-1//electrical permittivity(in F/m) of free space\n",
"d1=1*10^-2//diameter(in m) of the cylindrical disc\n",
"t1=1*10^-2//thickness(in m) of the cylindrical disc\n",
"d2=1*10^-3//diameter(in m) of the cylindrical cavity\n",
"t2=1*10^-3//thickness(in m) of the cylindrical cavity\n",
"\n",
"\n",
"//calculation\n",
"Dm=Vd*s//discharge magnitude\n",
"Ca=epsilon0*(%pi*(d2/2)^2)/t2//capacitance of the cavity\n",
"Cb=epsilon0*epsilonr*(%pi*(d2/2)^2)/(t1-t2)//capacitance\n",
"qc=((Ca+Cb)/Cb)*Dm\n",
"\n",
"printf('The charge transferred from the cavity is %3.2f pC',qc)"
   ]
   }
,
{
		   "cell_type": "markdown",
		   "metadata": {},
		   "source": [
			"## Example 9.7: calculation_of_dielectric_constant_and_loss_factor_tandelta.sce"
		   ]
		  },
  {
"cell_type": "code",
	   "execution_count": null,
	   "metadata": {
	    "collapsed": true
	   },
	   "outputs": [],
"source": [
"//developed in windows XP operating system\n",
"//platform Scilab 5.4.1\n",
"clc;clear all;\n",
"//example 9.7\n",
"//calculation of dielectric constant and loss factor tandelta\n",
"\n",
"//given data\n",
"R3=1000/%pi//resistance(in ohm) in CD branch\n",
"R4=62//variable resistance(in ohm)\n",
"Cs=100*10^-12//standard capacitance(in F)\n",
"epsilon0=8.854*10^-12//electrical permittivity(in F/m) of free space\n",
"f=50//frequency(in Hz)\n",
"C3=50*10^-9//variable capacitor(in F)\n",
"d=1*10^-3//thickness(in m) of sheet\n",
"a=100*10^-4//electrode effective area(in m^2)\n",
"\n",
"//calculation\n",
"Cx=R3*Cs/R4\n",
"epsilonr=Cx*d/(epsilon0*a)\n",
"omega=2*%pi*f\n",
"tandelta=omega*C3*R3*d\n",
"\n",
"printf('The dielectric constant is %3.2f',epsilonr)\n",
"printf('\nThe loss factor tandelta is %3.7f',tandelta)\n",
"//In equation of tandelta d is multiplied"
   ]
   }
,
{
		   "cell_type": "markdown",
		   "metadata": {},
		   "source": [
			"## Example 9.8: calculation_of_voltage_at_balance.sce"
		   ]
		  },
  {
"cell_type": "code",
	   "execution_count": null,
	   "metadata": {
	    "collapsed": true
	   },
	   "outputs": [],
"source": [
"//developed in windows XP operating system\n",
"//platform Scilab 5.4.1\n",
"clc;clear all;\n",
"//example 9.8\n",
"//calculation of voltage at balance\n",
"\n",
"//given data\n",
"V=10000//applied voltage(in V)\n",
"R3=1000/%pi//resistance(in ohm) in CD branch\n",
"R4=62//variable resistance(in ohm)\n",
"Cs=100*10^-12//standard capacitance(in F)\n",
"f=50//frequency(in Hz)\n",
"C3=50*10^-9//variable capacitor(in F)\n",
"\n",
"//calculation\n",
"Rx=C3*R4/Cs\n",
"Cx=R3*Cs/R4\n",
"omega=2*%pi*f\n",
"zx=complex(Rx,-1/(omega*Cx))\n",
"VR4=R4*V/(R4+zx)\n",
"MVR4=sqrt((real(VR4))^2+(imag(VR4))^2)//magnitude\n",
"\n",
"printf('The voltage across AD branch at balance is %3.1f V',MVR4)"
   ]
   }
,
{
		   "cell_type": "markdown",
		   "metadata": {},
		   "source": [
			"## Example 9.9: calculation_of_maximum_and_minimum_value_of_capacitance_and_tandelta.sce"
		   ]
		  },
  {
"cell_type": "code",
	   "execution_count": null,
	   "metadata": {
	    "collapsed": true
	   },
	   "outputs": [],
"source": [
"//developed in windows XP operating system\n",
"//platform Scilab 5.4.1\n",
"clc;clear all;\n",
"//example 9.9\n",
"//calculation of maximum and minimum value of capacitance and tandelta\n",
"\n",
"//given data\n",
"R3min=100//minimum value of R3 resistance(in ohm)\n",
"R3max=11100//maximum value of R3 resistance(in ohm)\n",
"R4min=100//minimum value of R4 resistance(in ohm)\n",
"R4max=1000//maximum value of R4 resistance(in ohm)\n",
"Cs=100*10^-12//standard capacitance(in farad)\n",
"C3min=1*10^-9//minimum value of C3 capacitance(in farad)\n",
"C3max=1.11*10^-6//maximum value of C3 capacitance(in farad)\n",
"f=50//frequency(in Hz)\n",
"\n",
"//calculation\n",
"Cxmax=R3max*Cs/R4min\n",
"Cxmin=R3min*Cs/R4max\n",
"omega=2*%pi*f\n",
"tandeltamax=omega*R3max*C3max\n",
"tandeltamin=omega*R3min*C3min\n",
"\n",
"printf('The maximum value of capacitance is %3.1f nF',Cxmax*10^9)\n",
"printf('\nThe minimum value of capacitance is %d pF',Cxmin*10^12)\n",
"printf('\nThe maximum value of tandelta is %3.2f',tandeltamax)\n",
"printf('\nThe minimum value of tandelta is %3.2e',tandeltamin)"
   ]
   }
],
"metadata": {
		  "kernelspec": {
		   "display_name": "Scilab",
		   "language": "scilab",
		   "name": "scilab"
		  },
		  "language_info": {
		   "file_extension": ".sce",
		   "help_links": [
			{
			 "text": "MetaKernel Magics",
			 "url": "https://github.com/calysto/metakernel/blob/master/metakernel/magics/README.md"
			}
		   ],
		   "mimetype": "text/x-octave",
		   "name": "scilab",
		   "version": "0.7.1"
		  }
		 },
		 "nbformat": 4,
		 "nbformat_minor": 0
}
