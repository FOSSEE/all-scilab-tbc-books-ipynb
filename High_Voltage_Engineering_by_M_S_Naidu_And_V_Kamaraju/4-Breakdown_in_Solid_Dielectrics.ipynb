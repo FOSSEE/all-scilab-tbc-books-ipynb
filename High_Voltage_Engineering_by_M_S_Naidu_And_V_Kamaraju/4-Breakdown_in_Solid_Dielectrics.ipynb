{
"cells": [
 {
		   "cell_type": "markdown",
	   "metadata": {},
	   "source": [
       "# Chapter 4: Breakdown in Solid Dielectrics"
	   ]
	},
{
		   "cell_type": "markdown",
		   "metadata": {},
		   "source": [
			"## Example 4.1: calculation_of_heat_generated_in_specimen_due_to_dielectric_loss.sce"
		   ]
		  },
  {
"cell_type": "code",
	   "execution_count": null,
	   "metadata": {
	    "collapsed": true
	   },
	   "outputs": [],
"source": [
"//developed in windows XP operating system\n",
"//platform Scilab 5.4.1\n",
"clc;clear;\n",
"//example 4.1\n",
"//calculation of heat generated in specimen due to dielectric loss\n",
"\n",
"//given data\n",
"epsilonr=4.2//value of the dielectric constant\n",
"tandelta=0.001//value of tandelta\n",
"f=50//value of frequency(in Hz)\n",
"E=50*10^3//value of electric field(in V/cm)\n",
"\n",
"//calculation\n",
"//from equation of dielectric heat loss......H=(E*E*f*epsilonr*tandelta)/(1.8*10^12)\n",
"H=(E*E*f*epsilonr*tandelta)/(1.8*10^12)\n",
"\n",
"printf('The heat generated in specimen due to dielectric loss is %3.3f mW/cm^3.',H*10^3)"
   ]
   }
,
{
		   "cell_type": "markdown",
		   "metadata": {},
		   "source": [
			"## Example 4.2: calculation_of_voltage_at_which_an_internal_discharge_can_occur.sce"
		   ]
		  },
  {
"cell_type": "code",
	   "execution_count": null,
	   "metadata": {
	    "collapsed": true
	   },
	   "outputs": [],
"source": [
"//developed in windows XP operating system\n",
"//platform Scilab 5.4.1\n",
"clc;clear;\n",
"//example 4.2\n",
"//calculation of voltage at which an internal discharge can occur\n",
"\n",
"//given data\n",
"d1=1//thickness(in mm) of the internal void\n",
"dt=10//thickness(in mm) of the specimen\n",
"epsilon0=8.89*10^-12//electrical permittivity(in F/m) of free space\n",
"epsilonr=4//relative permittivity of the dielectric\n",
"Vb=3//breakdown strength(in kV/mm) of air\n",
"\n",
"//calculation\n",
"d2=dt-d1\n",
"epsilon1=epsilon0*epsilonr//electrical permittivity(in F/m) of the dielectric\n",
"V1=Vb*d1//voltage at which air void of d1 thickness breaks\n",
"V=(V1*(d1+(epsilon0*d2/epsilon1))/d1)\n",
"\n",
"printf('the voltage at which an internal discharge can occur is %3.2f kV.',V)\n",
"//correction : we have to find applied voltage V\n",
" "
   ]
   }
,
{
		   "cell_type": "markdown",
		   "metadata": {},
		   "source": [
			"## Example 4.3: calculation_of_the_dimensions_of_electrodes_in_coaxial_cylindrical_capacitor.sce"
		   ]
		  },
  {
"cell_type": "code",
	   "execution_count": null,
	   "metadata": {
	    "collapsed": true
	   },
	   "outputs": [],
"source": [
"//developed in windows XP operating system\n",
"//platform Scilab 5.4.1\n",
"clc;clear;\n",
"//example 4.3\n",
"//calculation of the dimensions of electrodes in coaxial cylindrical capacitor\n",
"\n",
"//given data\n",
"epsilon0=(36*%pi*10^9)^-1//electrical permittivity(in F/m) of free space\n",
"//consider high density polyethylene as the dielectric material\n",
"epsilonr=2.3//relative permittivity of high density polyethylene\n",
"l=0.2//effective length(in m)\n",
"C=1000*10^-12//capacitance(in F) of the capacitor\n",
"V=15//operating voltage(in kV)\n",
"Emax=50//maximum stress(in kV/cm) for breakdown stress 200 kV/cm and factor of safety of 4\n",
"\n",
"//calculation\n",
"//from equation of capacitance of coaxial cylindrical capacitor\n",
"//C=(2*%pi*epsilon0*epsilonr*l)/(lod(d2/d1)).............(1)\n",
"//from equation of Emax occuring near electrodes\n",
"//Emax=V/(r1*(log(r2/r1)))...............................(2)\n",
"//from equation (1) and equation (2),we get\n",
"logr2byr1=(2*%pi*epsilon0*epsilonr*l)/C//logd2/d1 = logr2/r1\n",
"r1=V/(Emax*logr2byr1)//from equation (1)\n",
"r2=r1*exp(logr2byr1)\n",
"\n",
"printf('the value of inner diameter of electrodes in coaxial cylindrical capacitor is %3.2f cm',r1)\n",
"printf('\nthe value of outer diameter of electrodes in coaxial cylindrical capacitor is %3.2f cm',r2)\n",
"printf('\nthe thickness of the insulation is %3.2f cm',(r2-r1))\n",
""
   ]
   }
],
"metadata": {
		  "kernelspec": {
		   "display_name": "Scilab",
		   "language": "scilab",
		   "name": "scilab"
		  },
		  "language_info": {
		   "file_extension": ".sce",
		   "help_links": [
			{
			 "text": "MetaKernel Magics",
			 "url": "https://github.com/calysto/metakernel/blob/master/metakernel/magics/README.md"
			}
		   ],
		   "mimetype": "text/x-octave",
		   "name": "scilab",
		   "version": "0.7.1"
		  }
		 },
		 "nbformat": 4,
		 "nbformat_minor": 0
}
