{
"cells": [
 {
		   "cell_type": "markdown",
	   "metadata": {},
	   "source": [
       "# Chapter 2: Conduction and Breakdown in Gases"
	   ]
	},
{
		   "cell_type": "markdown",
		   "metadata": {},
		   "source": [
			"## Example 2.1: calculation_of_breakdown_strength_of_air.sce"
		   ]
		  },
  {
"cell_type": "code",
	   "execution_count": null,
	   "metadata": {
	    "collapsed": true
	   },
	   "outputs": [],
"source": [
"//developed in windows XP operating system\n",
"//platform Scilab 5.4.1\n",
"clc;clear;\n",
"//example 2.1\n",
"//calculation of breakdown strength of air\n",
"\n",
"//given data\n",
"d1=0.1//length(in cm) of the gap\n",
"d2=20//length(in cm) of the gap\n",
"\n",
"//calculation\n",
"//from equation of breakdown strength\n",
"E1=24.22+(6.08/(d1^(1/2)))//for gap d1\n",
"E2=24.22+(6.08/(d2^(1/2)))//for gap d2\n",
"\n",
"printf('the breakdown strength of air for 0.1mm air gap is %3.2f kV/cm.',E1)\n",
"printf('\nthe breakdown strength of air for 20 cm air gap is %3.2f kV/cm.',E2)"
   ]
   }
,
{
		   "cell_type": "markdown",
		   "metadata": {},
		   "source": [
			"## Example 2.2: calculation_of_Townsend_primary_ionization_coefficient.sce"
		   ]
		  },
  {
"cell_type": "code",
	   "execution_count": null,
	   "metadata": {
	    "collapsed": true
	   },
	   "outputs": [],
"source": [
"//developed in windows XP operating system\n",
"//platform Scilab 5.4.1\n",
"clc;clear;\n",
"//example 2.2\n",
"//calculation of Townsend primary ionization coefficient\n",
"\n",
"//given data\n",
"d1=0.4//gap distance(in cm)\n",
"d2=0.1//gap distance(in cm)\n",
"I1=5.5*10^-8//value of current(in A)\n",
"I2=5.5*10^-9//value of current(in A)\n",
"\n",
"//calculation\n",
"//from equation of current at anode I=I0*exp(alpha*d)\n",
"alpha=(log(I1/I2))*(1/(d1-d2))\n",
"\n",
"printf('Townsend primary ioniztion coefficient is %3.3f /cm torr',alpha)"
   ]
   }
,
{
		   "cell_type": "markdown",
		   "metadata": {},
		   "source": [
			"## Example 2.3: calculation_of_Townsend_secondary_ionization_coefficient.sce"
		   ]
		  },
  {
"cell_type": "code",
	   "execution_count": null,
	   "metadata": {
	    "collapsed": true
	   },
	   "outputs": [],
"source": [
"//developed in windows XP operating system\n",
"//platform Scilab 5.4.1\n",
"clc;clear;\n",
"//example 2.3\n",
"//calculation of Townsend secondary ionization coefficient\n",
"\n",
"//given data\n",
"d=0.9//gap distance(in cm)\n",
"alpha=7.676//value of alpha\n",
"\n",
"//calculation\n",
"//from condition of breakdown.....gama*exp(alpha*d)=1\n",
"gama=1/(exp(d*alpha))\n",
"\n",
"printf('the value of Townsend secondary ioniztion coefficient is %3.3e',gama)"
   ]
   }
,
{
		   "cell_type": "markdown",
		   "metadata": {},
		   "source": [
			"## Example 2.4: calculation_of_breakdown_voltage_of_a_spark_gap.sce"
		   ]
		  },
  {
"cell_type": "code",
	   "execution_count": null,
	   "metadata": {
	    "collapsed": true
	   },
	   "outputs": [],
"source": [
"//developed in windows XP operating system\n",
"//platform Scilab 5.4.1\n",
"clc;clear;\n",
"//example 2.4\n",
"//calculation of breakdown voltage of a spark gap\n",
"\n",
"//given data\n",
"A=15//value of A(in per cm)\n",
"B=360//value of B(in per cm)\n",
"d=0.1//spark gap(in cm)\n",
"gama=1.5*10^-4//value of gama\n",
"p=760//value of pressure of gas(in torr)\n",
"\n",
"//calculation\n",
"//from equation of breakdown voltage\n",
"V=(B*p*d)/(log((A*p*d)/(log(1+(1/gama)))))\n",
"\n",
"printf('the value of breakdown voltage of the spark gap is %d V',V)\n",
"//correct answer is 5625 V"
   ]
   }
,
{
		   "cell_type": "markdown",
		   "metadata": {},
		   "source": [
			"## Example 2.5: calculation_of_minimum_spark_over_voltage.sce"
		   ]
		  },
  {
"cell_type": "code",
	   "execution_count": null,
	   "metadata": {
	    "collapsed": true
	   },
	   "outputs": [],
"source": [
"//developed in windows XP operating system\n",
"//platform Scilab 5.4.1\n",
"clc;clear;\n",
"//example 2.5\n",
"//calculation of minimum spark over voltage\n",
"\n",
"//given data\n",
"A=15//value of A(in per cm)\n",
"B=360//value of B(in per cm)\n",
"gama=10^-4//value of gama\n",
"e=2.178//value of constant\n",
"\n",
"//calculation\n",
"Vbmin=(B*e/A)*(log(1+(1/gama)))\n",
"\n",
"printf('the value of minimum spark over voltage is %d V.',Vbmin)\n",
"//correct answer is 481 V"
   ]
   }
],
"metadata": {
		  "kernelspec": {
		   "display_name": "Scilab",
		   "language": "scilab",
		   "name": "scilab"
		  },
		  "language_info": {
		   "file_extension": ".sce",
		   "help_links": [
			{
			 "text": "MetaKernel Magics",
			 "url": "https://github.com/calysto/metakernel/blob/master/metakernel/magics/README.md"
			}
		   ],
		   "mimetype": "text/x-octave",
		   "name": "scilab",
		   "version": "0.7.1"
		  }
		 },
		 "nbformat": 4,
		 "nbformat_minor": 0
}
