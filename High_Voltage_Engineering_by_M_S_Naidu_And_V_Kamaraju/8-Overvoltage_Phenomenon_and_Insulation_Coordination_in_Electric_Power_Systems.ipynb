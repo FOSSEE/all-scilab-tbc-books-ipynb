{
"cells": [
 {
		   "cell_type": "markdown",
	   "metadata": {},
	   "source": [
       "# Chapter 8: Overvoltage Phenomenon and Insulation Coordination in Electric Power Systems"
	   ]
	},
{
		   "cell_type": "markdown",
		   "metadata": {},
		   "source": [
			"## Example 8.1: EX8_1.sce"
		   ]
		  },
  {
"cell_type": "code",
	   "execution_count": null,
	   "metadata": {
	    "collapsed": true
	   },
	   "outputs": [],
"source": [
"//developed in windows XP operating system\n",
"//platform Scilab 5.4.1\n",
"clc;clear all;\n",
"//example 8.1\n",
"//calculation of surge impedance,velocity and time taken by the surge to travel to the other end\n",
"\n",
"//given data\n",
"L=1.26*10^-3//inductance(in H/km)\n",
"C=0.009*10^-6//capacitance(in F/km)\n",
"l=400//length(in km) of the transmission line\n",
"\n",
"//calculation\n",
"v=1/sqrt(L*C)\n",
"Xs=sqrt(L/C)\n",
"t=l/v\n",
"\n",
"printf('The value of surge impedance is %3.1f ohm',Xs)\n",
"printf('\nThe value of velocity is %3.0e km/s',v)\n",
"printf('\nThe time taken by the surge to travel to the other end is %3.2f ms',t*10^3)"
   ]
   }
,
{
		   "cell_type": "markdown",
		   "metadata": {},
		   "source": [
			"## Example 8.2: calculation_of_the_voltage_build_up_at_the_junction.sce"
		   ]
		  },
  {
"cell_type": "code",
	   "execution_count": null,
	   "metadata": {
	    "collapsed": true
	   },
	   "outputs": [],
"source": [
"//developed in windows XP operating system\n",
"//platform Scilab 5.4.1\n",
"clc;clear all;\n",
"//example 8.2\n",
"//calculation of the voltage build up at the junction\n",
"\n",
"//given data\n",
"Z1=500//surge impedance(in ohm) of transmission line\n",
"Z2=60//surge impedance(in ohm) of cable\n",
"e=500//value of surge(in kV)\n",
"\n",
"//calculation\n",
"tau=(Z1-Z2)/(Z2+Z1)//coefficient of reflection\n",
"Vj=(1+tau)*e\n",
"\n",
"printf('The value of the voltage build up at the junction is %d kV',round(Vj))"
   ]
   }
,
{
		   "cell_type": "markdown",
		   "metadata": {},
		   "source": [
			"## Example 8.5: calculation_of_the_transmitted_reflected_voltage_and_current_waves.sce"
		   ]
		  },
  {
"cell_type": "code",
	   "execution_count": null,
	   "metadata": {
	    "collapsed": true
	   },
	   "outputs": [],
"source": [
"//developed in windows XP operating system\n",
"//platform Scilab 5.4.1\n",
"clc;clear all;\n",
"//example 8.5\n",
"//calculation of the transmitted,reflected voltage and current waves\n",
"\n",
"//given data\n",
"L1=0.189*10^-3//inductance(in H/km) of the cable\n",
"C1=0.3*10^-6//capacitance(in Farad/km) of the cable\n",
"L2=1.26*10^-3//inductance(in H/km) of the overhead line\n",
"C2=0.009*10^-6//capacitance(in Farad/km) of the overhead line\n",
"e=200*10^3//surge volatge(in kV)\n",
"\n",
"//calculation\n",
"Z1=sqrt(L1/C1)//surge impedance of the cable\n",
"Z2=sqrt(L2/C2)//surge impedance of the line\n",
"tau=(Z2-Z1)/(Z2+Z1)//when wave travels along the cable\n",
"edash=tau*e//reflected wave\n",
"edashdash=(1+tau)*e//transmitted wave\n",
"Idash=edash/Z1//reflected current wave\n",
"Idashdash=edashdash/Z2//transmitted current wave\n",
"Z2n=Z1\n",
"Z1n=Z2\n",
"taun=(Z2n-Z1n)/(Z2n+Z1n)//when wave travels along the line\n",
"edashn=taun*e//reflected wave\n",
"edashdashn=(1+taun)*e//transmitted wave\n",
"Idashdashn=edashdashn/Z2n//transmitted current wave\n",
"Idashn=edashn/Z1n//reflected current wave\n",
"\n",
"printf('When wave travels along the cable,the transmitted voltage is %3.2f kV',edashdash*10^-3)\n",
"printf('\nWhen wave travels along the cable,the reflected voltage is %3.2f kV',edash*10^-3)\n",
"printf('\nWhen wave travels along the cable,the transmitted current is %3.3f kA',Idashdash*10^-3)\n",
"printf('\nWhen wave travels along the cable,the reflected current is %3.2f kA',Idash*10^-3) \n",
"printf('\nWhen wave travels along the line,the transmitted voltage is %3.2f kV',edashdashn*10^-3)\n",
"printf('\nWhen wave travels along the line,the reflected voltage is %3.2f kV',edashn*10^-3)\n",
"printf('\nWhen wave travels along the line,the transmitted current is %3.3f kA',Idashdashn*10^-3)\n",
"printf('\nWhen wave travels along the line,the reflected current is %3.3f kA or %d A',abs(Idashn*10^-3),abs(Idashn)) "
   ]
   }
,
{
		   "cell_type": "markdown",
		   "metadata": {},
		   "source": [
			"## Example 8.6: calculation_of_value_of_voltage_at_the_receiving_end_in_Bewley_lattice_diagram.sce"
		   ]
		  },
  {
"cell_type": "code",
	   "execution_count": null,
	   "metadata": {
	    "collapsed": true
	   },
	   "outputs": [],
"source": [
"//developed in windows XP operating system\n",
"//platform Scilab 5.4.1\n",
"clc;clear all;\n",
"//example 8.6\n",
"//calculation of value of voltage at the receiving end in Bewley lattice diagram\n",
"\n",
"//given data\n",
"alpha=0.8\n",
"\n",
"//calculation\n",
"Vut=2*alpha/(1+alpha^2)\n",
"\n",
"printf('The value of voltage at the receiving end in Bewley lattice diagram is %3.4fu(t) V',Vut)"
   ]
   }
,
{
		   "cell_type": "markdown",
		   "metadata": {},
		   "source": [
			"## Example 8.7: calculation_of_sparkover_voltage_and_the_arrester_current.sce"
		   ]
		  },
  {
"cell_type": "code",
	   "execution_count": null,
	   "metadata": {
	    "collapsed": true
	   },
	   "outputs": [],
"source": [
"//developed in windows XP operating system\n",
"//platform Scilab 5.4.1\n",
"clc;clear all;\n",
"//example 8.7\n",
"//calculation of sparkover voltage and the arrester current\n",
"\n",
"//given data\n",
"Xs=400//surge impedance(in ohm)\n",
"Xv=1000//surge voltage(in kV)\n",
"\n",
"//calculation\n",
"//for line terminated\n",
"Iam=2*Xv/Xs//maximum arrester current\n",
"//as Iam = 5 kA   from graph Vd = 330 kV\n",
"Vd=330//sparkover voltage(in kV)\n",
"Vso=Vd+(Vd*5/100)\n",
"//for continuous line\n",
"Iamn=Xv/Xs//maximum arrester current\n",
"//as Iamn = 2.5 kA   from graph   Vdn = 280 kV\n",
"Vdn=280//sparkover voltage(in kV)\n",
"Vson=Vdn+(Vdn*5/100)\n",
"\n",
"printf('The sparkover voltage for terminated line is %d kV',Vso)\n",
"printf('\nThe arrester current for terminated line is %d kA',Iam)\n",
"printf('\nThe sparkover voltage for continuous line is %d kV',Vson)\n",
"printf('\nThe arrester current for continuous line is %3.1f kA',Iamn)\n",
"//values of sparover voltages are\n",
"//for terminated line = 346 kV\n",
"//for continuous line = 294 kV"
   ]
   }
,
{
		   "cell_type": "markdown",
		   "metadata": {},
		   "source": [
			"## Example 8.8: calculation_of_rise_in_voltage_at_the_other_end.sce"
		   ]
		  },
  {
"cell_type": "code",
	   "execution_count": null,
	   "metadata": {
	    "collapsed": true
	   },
	   "outputs": [],
"source": [
"//developed in windows XP operating system\n",
"//platform Scilab 5.4.1\n",
"clc;clear all;\n",
"//example 8.8\n",
"//calculation of rise in voltage at the other end\n",
"\n",
"//given data\n",
"R=0.1//resistance(in ohm/km)\n",
"L=1.26*10^-3//inductance(in H/km)\n",
"C=0.009*10^-6//capacitance(in F/km)\n",
"l=400//length(in km) of the line\n",
"V1=230//line voltage(in kV)\n",
"f=50//frequency(in Hz)\n",
"G=0\n",
"\n",
"//calculation\n",
"//Neglecting resistance of line\n",
"V1p=V1/sqrt(3)\n",
"omega=2*%pi*f\n",
"Xl=complex(0,omega*L*l)\n",
"Xc=complex(0,-1/(omega*C*l))\n",
"V2=V1p*((1-(Xl/(2*Xc)))-1)\n",
"\n",
"//Considering all the parameters\n",
"omegaL=complex(0,omega*L)\n",
"omegaC=complex(0,omega*C)\n",
"i=l*sqrt((R+omegaL)*(G+omegaC))\n",
"betal=imag(i)*l\n",
"V2n=V1p/cos(betal)\n",
"\n",
"printf('Neglecting resistance of line,the rise in voltage at the other end is %3.1f kV',V2)\n",
"printf('\nConsidering all the parameters,the rise in voltage at the other end is %3.2f kV',V2n-V1p)\n",
"\n",
"//By considering all the parameters the rise in voltage at the other end is 94.50 kV"
   ]
   }
,
{
		   "cell_type": "markdown",
		   "metadata": {},
		   "source": [
			"## Example 8.9: working_out_of_insulation_coordination.sce"
		   ]
		  },
  {
"cell_type": "code",
	   "execution_count": null,
	   "metadata": {
	    "collapsed": true
	   },
	   "outputs": [],
"source": [
"//developed in windows XP operating system\n",
"//platform Scilab 5.4.1\n",
"clc;clear all;\n",
"//example 8.9\n",
"//working out of insulation coordination\n",
"\n",
"//given data\n",
"V=220//voltage(in kV) of substation\n",
"BIL=1050//value of BIL(in kV)\n",
"BtoS=1.24//ratio of BIL to SIL\n",
"\n",
"//calculation\n",
"Vh=245//highest voltage(in kV)\n",
"Vg=Vh*sqrt(2)/sqrt(3)//highest system voltage\n",
"Vs=3*Vg//expected switching voltage(in kV)\n",
"Vfw=760//impulse sparkover voltage(in kV)\n",
"Vd1=690//discharge voltage(in kV) for 5 kA\n",
"Vd2=615//discharge voltage(in kV) for 2 kA\n",
"//SIL = BIL/BtoS = 846 ~ 850 kV\n",
"SIL=850//value of SIL(in kV)\n",
"Pmlig=(BIL-Vd1)/BIL//protective margin for lightning impulses\n",
"Pmswi=(SIL-Vd2)/SIL//protective margin for switching gears\n",
"Pmspr=(BIL-Vfw)/BIL//margin when lightning arrester just sparks\n",
"\n",
"printf('The protective margin for lightning impulses is %3.1f percentage',Pmlig*100)\n",
"printf('\nThe protective margin for switching gears is %3.1f percentage',Pmswi*100)\n",
"printf('\nThe margin when lightning arrester just sparks is %3.1f percentage',Pmspr*100)"
   ]
   }
],
"metadata": {
		  "kernelspec": {
		   "display_name": "Scilab",
		   "language": "scilab",
		   "name": "scilab"
		  },
		  "language_info": {
		   "file_extension": ".sce",
		   "help_links": [
			{
			 "text": "MetaKernel Magics",
			 "url": "https://github.com/calysto/metakernel/blob/master/metakernel/magics/README.md"
			}
		   ],
		   "mimetype": "text/x-octave",
		   "name": "scilab",
		   "version": "0.7.1"
		  }
		 },
		 "nbformat": 4,
		 "nbformat_minor": 0
}
