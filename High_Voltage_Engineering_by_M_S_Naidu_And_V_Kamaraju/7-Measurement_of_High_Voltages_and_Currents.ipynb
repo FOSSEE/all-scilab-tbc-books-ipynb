{
"cells": [
 {
		   "cell_type": "markdown",
	   "metadata": {},
	   "source": [
       "# Chapter 7: Measurement of High Voltages and Currents"
	   ]
	},
{
		   "cell_type": "markdown",
		   "metadata": {},
		   "source": [
			"## Example 7.1: calculation_of_capacitance_of_generating_voltmeter.sce"
		   ]
		  },
  {
"cell_type": "code",
	   "execution_count": null,
	   "metadata": {
	    "collapsed": true
	   },
	   "outputs": [],
"source": [
"//developed in windows XP operating system\n",
"//platform Scilab 5.4.1\n",
"clc;clear all;\n",
"//example 7.1\n",
"//calculation of capacitance of generating voltmeter\n",
"\n",
"//given data\n",
"Irms=2*10^-6//current(in A)\n",
"V1=20*10^3//applied voltage(in V)\n",
"V2=200*10^3//applied voltage(in V)\n",
"rpm=1500//assume synchronous speed(in rpm) of motor\n",
"\n",
"//calculation\n",
"Cm=Irms*sqrt(2)/(V1*(rpm/60)*2*%pi)\n",
"Irmsn=V2*Cm*2*%pi*(rpm/60)/sqrt(2)\n",
"\n",
"printf('The capacitance of the generating voltmeter is %3.1f pF',Cm*10^12)"
   ]
   }
,
{
		   "cell_type": "markdown",
		   "metadata": {},
		   "source": [
			"## Example 7.2: Design_of_a_peak_reading_voltmeter.sce"
		   ]
		  },
  {
"cell_type": "code",
	   "execution_count": null,
	   "metadata": {
	    "collapsed": true
	   },
	   "outputs": [],
"source": [
"//developed in windows XP operating system\n",
"//platform Scilab 5.4.1\n",
"clc;clear all;\n",
"//example 7.2\n",
"//Design of a peak reading voltmeter\n",
"\n",
"//given data\n",
"r=1000//ratio is 1000:1\n",
"V=100*10^3//read voltage(in V)\n",
"R=10^7//value of resistance(in ohm)\n",
"\n",
"//calculation\n",
"//take range as 0-10 microampere\n",
"Vc2=V/r//voltage  at C2 arm\n",
"//Cs * R = 1 to 10 s\n",
"Cs=10/R\n",
"\n",
"printf('The value of Cs is %d microfarad',Cs*10^6)\n",
"printf('\nThe value of R is %3.1e ohm',R)"
   ]
   }
,
{
		   "cell_type": "markdown",
		   "metadata": {},
		   "source": [
			"## Example 7.3: calculation_of_correction_factors_for_atmospheric_conditions.sce"
		   ]
		  },
  {
"cell_type": "code",
	   "execution_count": null,
	   "metadata": {
	    "collapsed": true
	   },
	   "outputs": [],
"source": [
"//developed in windows XP operating system\n",
"//platform Scilab 5.4.1\n",
"clc;clear all;\n",
"//example 7.3\n",
"//calculation of correction factors for atmospheric conditions\n",
"\n",
"//given data\n",
"t=37//temperature(in degree celsius)\n",
"p=750//atmospheric pressure(in mmHg)\n",
"\n",
"//calculation\n",
"d=p*293/(760*(273+t))\n",
"\n",
"printf('The air density factor is %3.4f',d)\n",
"\n",
""
   ]
   }
,
{
		   "cell_type": "markdown",
		   "metadata": {},
		   "source": [
			"## Example 7.4: calculation_of_divider_ratio.sce"
		   ]
		  },
  {
"cell_type": "code",
	   "execution_count": null,
	   "metadata": {
	    "collapsed": true
	   },
	   "outputs": [],
"source": [
"//developed in windows XP operating system\n",
"//platform Scilab 5.4.1\n",
"clc;clear all;\n",
"//example 7.4\n",
"//calculation of divider ratio\n",
"\n",
"//given data\n",
"R1=16*10^3//high voltage arm resistance(in ohm)\n",
"n=16//number of members\n",
"R=250//resistance(in ohm) of each member in low voltage arm\n",
"R2dash=75//terminating resistance(in ohm)\n",
"\n",
"//calculation\n",
"R2=R/n\n",
"a=1+(R1/R2)+(R1/R2dash)\n",
"\n",
"printf('The divider ratio is %3.1f',a)"
   ]
   }
,
{
		   "cell_type": "markdown",
		   "metadata": {},
		   "source": [
			"## Example 7.5: calculation_of_capacitance_needed_for_correct_compensation.sce"
		   ]
		  },
  {
"cell_type": "code",
	   "execution_count": null,
	   "metadata": {
	    "collapsed": true
	   },
	   "outputs": [],
"source": [
"//developed in windows XP operating system\n",
"//platform Scilab 5.4.1\n",
"clc;clear all;\n",
"//example 7.5\n",
"//calculation of capacitance needed for correct compensation\n",
"\n",
"//given data\n",
"Cgdash=20*10^-12//ground capacitance(in farad)\n",
"n=15//number of capacitors\n",
"r=120//resistance(in ohm)\n",
"R2=5//resistance(in ohm) of LV arm\n",
"\n",
"//calculation\n",
"Ce=(2/3)*n*Cgdash\n",
"R1=n*r/2\n",
"T=R1*Ce/2\n",
"C2=T/R2\n",
"\n",
"printf('The value of capacitance needed for correct compensation is %3.1e F or %d nf',C2,round(C2*10^9))"
   ]
   }
,
{
		   "cell_type": "markdown",
		   "metadata": {},
		   "source": [
			"## Example 7.6: calculation_of_ohmic_value_of_shunt_an_its_dimensions.sce"
		   ]
		  },
  {
"cell_type": "code",
	   "execution_count": null,
	   "metadata": {
	    "collapsed": true
	   },
	   "outputs": [],
"source": [
"//developed in windows XP operating system\n",
"//platform Scilab 5.4.1\n",
"clc;clear all;\n",
"//example 7.6\n",
"//calculation of ohmic value of shunt an its dimensions\n",
"\n",
"//given data\n",
"I=50*10^3//impulse current (in A)\n",
"Vm=50//voltage(in V) drop across shunt\n",
"B=10*10^6//bandwidth(in Hz) of the shunt\n",
"mu0=4*%pi*10^-7//magnetic permeability(in H/m) of free space\n",
"\n",
"//calculation\n",
"R=Vm/I//resistance of shunt\n",
"L0=1.46*R/B\n",
"mu=mu0//in this case ...mu = mu0 * mur ~mu0\n",
"rho=30*10^-8//resistivity(in ohm m) of the tube material\n",
"d=sqrt((1.46*rho)/(mu*B))//thickness of the tube(in m)\n",
"l=10^-1//length(in m) (assume)\n",
"r=(rho*l)/(2*%pi*R*d)\n",
"\n",
"printf('The value of resistance is %d milliohm',round(R*10^3))\n",
"printf('\nThe length of shunt is %d cm',l*100)\n",
"printf('\nThe radius of shunt is %3.1f mm',r*10^3)\n",
"printf('\nThe thickness of shunt is %3.3f mm',d*10^3)"
   ]
   }
,
{
		   "cell_type": "markdown",
		   "metadata": {},
		   "source": [
			"## Example 7.7: Estimation_of_values_of_mutual_inductance_resistance_and_capacitance.sce"
		   ]
		  },
  {
"cell_type": "code",
	   "execution_count": null,
	   "metadata": {
	    "collapsed": true
	   },
	   "outputs": [],
"source": [
"//developed in windows XP operating system\n",
"//platform Scilab 5.4.1\n",
"clc;clear all;\n",
"//example 7.7\n",
"//Estimation of values of mutual inductance,resistance and capacitance\n",
"\n",
"//given data\n",
"It=10*10^3//impulse current(in A)\n",
"Vmt=10//meter reading(in V) for full scale deflection\n",
"dibydt=10^11//rate of change of current(in A/s)\n",
"\n",
"//calculation\n",
"MbyCR=Vmt/It\n",
"t=It/dibydt\n",
"f=1/(4*t)\n",
"omega=2*%pi*f\n",
"CR=10*%pi/omega\n",
"M=10^-3*CR\n",
"R=2*10^3//assume resistance(in ohm)\n",
"C=CR/R\n",
"\n",
"printf('The value of mutual inductance is %d nH',M*10^9)\n",
"printf('\nThe value of resistance is %3.0e ohm',R)\n",
"printf('\nThe value of capacitance is %d pF',round(C*10^12))"
   ]
   }
,
{
		   "cell_type": "markdown",
		   "metadata": {},
		   "source": [
			"## Example 7.8: calculation_of_resistance_and_capacitance.sce"
		   ]
		  },
  {
"cell_type": "code",
	   "execution_count": null,
	   "metadata": {
	    "collapsed": true
	   },
	   "outputs": [],
"source": [
"//developed in windows XP operating system\n",
"//platform Scilab 5.4.1\n",
"clc;clear all;\n",
"//example 7.8\n",
"//calculation of resistance and capacitance\n",
"\n",
"//given data\n",
"t1=8*10^-6//fronttime(in s)\n",
"t2=20*10^-6//tailtime(in s)\n",
"\n",
"\n",
"//calculation\n",
"f2=1/t2//frequency corresponding to tail time\n",
"fl=f2/5\n",
"omega=2*%pi*fl\n",
"CR=10*%pi/omega\n",
"M=10^-3*(1/CR)\n",
"R=2*10^3//assume resistance(in ohm)\n",
"C=CR/R\n",
"\n",
"printf('The value of resistance is %3.0e ohm',R)\n",
"printf('\nThe value of capacitance is %3.2f microfarad',C*10^6)"
   ]
   }
],
"metadata": {
		  "kernelspec": {
		   "display_name": "Scilab",
		   "language": "scilab",
		   "name": "scilab"
		  },
		  "language_info": {
		   "file_extension": ".sce",
		   "help_links": [
			{
			 "text": "MetaKernel Magics",
			 "url": "https://github.com/calysto/metakernel/blob/master/metakernel/magics/README.md"
			}
		   ],
		   "mimetype": "text/x-octave",
		   "name": "scilab",
		   "version": "0.7.1"
		  }
		 },
		 "nbformat": 4,
		 "nbformat_minor": 0
}
