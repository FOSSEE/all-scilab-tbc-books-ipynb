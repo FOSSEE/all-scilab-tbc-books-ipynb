{
"cells": [
 {
		   "cell_type": "markdown",
	   "metadata": {},
	   "source": [
       "# Chapter 3: Conduction and Breakdown in Liquid Dielectrics"
	   ]
	},
{
		   "cell_type": "markdown",
		   "metadata": {},
		   "source": [
			"## Example 3.1: EX3_1.sce"
		   ]
		  },
  {
"cell_type": "code",
	   "execution_count": null,
	   "metadata": {
	    "collapsed": true
	   },
	   "outputs": [],
"source": [
"//developed in windows XP operating system\n",
"//platform Scilab 5.4.1\n",
"clc;clear;\n",
"//example 3.1\n",
"//determination of power law dependence between the gap spacing  and the applied voltage of the oil\n",
"\n",
"//given data\n",
"d1=4//gap spacing(in mm)\n",
"d2=6//gap spacing(in mm)\n",
"d3=10//gap spacing(in mm)\n",
"d4=12//gap spacing(in mm)\n",
"V1=90//voltage(in kV) at breakdown\n",
"V2=140//voltage(in kV) at breakdown\n",
"V3=210//voltage(in kV) at breakdown\n",
"V4=255//voltage(in kV) at breakdown\n",
"\n",
"//calculation\n",
"//from the relationship between breakdown voltage and the gap spacing.....V = K*d^n\n",
"//we get n = (log(V)-log(K))/log(d) = slope of line from given data\n",
"n=(log(V4)-log(V1))/(log(d4)-log(d1))\n",
"K=exp(log(V1)-n*log(d1))//Y intercept on the power law dependence graph\n",
"//plotting of graph\n",
"dn=[1:20]\n",
"Vn=K*dn^n\n",
"plot(dn,Vn)\n",
"xlabel('Gas spacing (mm)')\n",
"ylabel('Breakdown voltage (kV)')\n",
"\n",
"printf('The power law dependence between the gap spacing  and the applied voltage of the oil is %3.2f*d^%3.3f',K,n)"
   ]
   }
],
"metadata": {
		  "kernelspec": {
		   "display_name": "Scilab",
		   "language": "scilab",
		   "name": "scilab"
		  },
		  "language_info": {
		   "file_extension": ".sce",
		   "help_links": [
			{
			 "text": "MetaKernel Magics",
			 "url": "https://github.com/calysto/metakernel/blob/master/metakernel/magics/README.md"
			}
		   ],
		   "mimetype": "text/x-octave",
		   "name": "scilab",
		   "version": "0.7.1"
		  }
		 },
		 "nbformat": 4,
		 "nbformat_minor": 0
}
