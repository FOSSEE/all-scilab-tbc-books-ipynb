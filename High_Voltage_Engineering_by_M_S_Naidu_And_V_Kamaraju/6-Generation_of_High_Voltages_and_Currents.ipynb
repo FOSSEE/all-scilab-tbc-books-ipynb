{
"cells": [
 {
		   "cell_type": "markdown",
	   "metadata": {},
	   "source": [
       "# Chapter 6: Generation of High Voltages and Currents"
	   ]
	},
{
		   "cell_type": "markdown",
		   "metadata": {},
		   "source": [
			"## Example 6.10: calculation_of_resistance_and_inductance.sce"
		   ]
		  },
  {
"cell_type": "code",
	   "execution_count": null,
	   "metadata": {
	    "collapsed": true
	   },
	   "outputs": [],
"source": [
"//developed in windows XP operating system\n",
"//platform Scilab 5.4.1\n",
"clc;clear all;\n",
"//example 6.10\n",
"//calculation of resistance and inductance\n",
"\n",
"//given data\n",
"CR=70.6//value from table\n",
"LC=11.6//value from table\n",
"C=1//capacitance(in microfarad)\n",
"pern=98.8//percentage voltage efficiency\n",
"V=10//rating(in kV)\n",
"LC2=65//value from table\n",
"alpha=0.0535//value from table\n",
"\n",
"//calculation\n",
"R=CR/C\n",
"L=LC/C\n",
"Vo=pern*V/100\n",
"L2=LC2/C\n",
"R2=2*L2*alpha\n",
"Ip=V*C/14\n",
"\n",
"printf('The value of resistance for 1/50 microsecond voltage is %3.1f ohm',R)\n",
"printf('\nThe value of inductance for 1/50 microsecond voltage is %3.1f microhenry',L)\n",
"printf('\nThe value of output voltage is %3.2f kV',Vo)\n",
"printf('\nThe value of inductance for 8/20 microsecond voltage is %d microhenry',L2)\n",
"printf('\nThe value of resistance for 8/20 microsecond voltage is %3.3f ohm',R2)\n",
"printf('\nThe peak value of current is %d A',Ip*10^3)"
   ]
   }
,
{
		   "cell_type": "markdown",
		   "metadata": {},
		   "source": [
			"## Example 6.1: EX6_1.sce"
		   ]
		  },
  {
"cell_type": "code",
	   "execution_count": null,
	   "metadata": {
	    "collapsed": true
	   },
	   "outputs": [],
"source": [
"//developed in windows XP operating system\n",
"//platform Scilab 5.4.1\n",
"clc;clear;\n",
"//example 6.1\n",
"//calculation of percentage ripple,the regulation and the optimum number of stages for minimum regulation in Cockcroft-Walton type voltage multiplier\n",
"\n",
"//given data\n",
"C=0.05*10^-6//value of capacitance(in F)\n",
"Vmax=125*10^3//value of supply transformer secondary voltage(in V)\n",
"f=150//frequency(in Hz)\n",
"I=5*10^-3//load current(in A)\n",
"nst=8//number of stages\n",
"\n",
"//calculation\n",
"n=nst*2//number of capacitors\n",
"//from equation of ripple voltage\n",
"deltaV=(I/(f*C))*(n*(n+1)/2)\n",
"perripple=(deltaV*100)/(16*Vmax)\n",
"deltaVn=(I/(f*C))*(((2*nst^3)/3)+(nst*nst/2)-(nst/6))//voltage drop...here n = nst = number of stages\n",
"reg=deltaVn/(2*nst*Vmax)//regulation\n",
"nopt=round(sqrt(Vmax*f*C/I))//optimum number of stages\n",
"\n",
"printf('the value of percentage ripple is %3.2f percentage.',perripple)\n",
"printf('\nthe value of the regulation is %3.1f percentage.',reg*100)\n",
"printf('\nthe optimum number of stages for minimum regulation is %d.',nopt)\n",
""
   ]
   }
,
{
		   "cell_type": "markdown",
		   "metadata": {},
		   "source": [
			"## Example 6.2: calculation_of_series_inductance_and_input_voltage_to_transformer.sce"
		   ]
		  },
  {
"cell_type": "code",
	   "execution_count": null,
	   "metadata": {
	    "collapsed": true
	   },
	   "outputs": [],
"source": [
"//developed in windows XP operating system\n",
"//platform Scilab 5.4.1\n",
"clc;clear;\n",
"//example 6.2\n",
"//calculation of series inductance and input voltage to transformer\n",
"\n",
"//given data\n",
"kva=100*10^3//value of volt-ampere of transformer(in VA)\n",
"V=250*10^3//value of transformer secondary voltage(in V)\n",
"Vi=400//value of transformer primary voltage(in V)\n",
"Vc=500*10^3//voltage(in V)\n",
"Ic=0.4//charging current(in A)\n",
"perX=8//percentage leakage reactance\n",
"f=50//value of frequency(in Hz)\n",
"perR1=2//percentage resistance\n",
"perR2=2//percentage resistance of inductor\n",
"\n",
"\n",
"//calculation\n",
"I=kva/V//maximum value of current that can be supplied\n",
"Xc=Vc/Ic//reactance of cable\n",
"Xl=(perX*V)/(100*I)//leakage reactance\n",
"adrec=Xc-Xl//additional reactance\n",
"Xadrec=adrec/(2*%pi*f)\n",
"perR=perR1+perR2//total resistance\n",
"R=(perR*V)/(100*I)\n",
"VE2=I*R//excitation at secondary\n",
"VE1=VE2*Vi/V//primary voltage\n",
"IkW=(VE1/Vi)*100//input kW\n",
"\n",
"printf('The value of series inductance is %d H.',round(Xadrec))\n",
"printf('\nThe value of input voltage to the transformer is %d V.',VE1)"
   ]
   }
,
{
		   "cell_type": "markdown",
		   "metadata": {},
		   "source": [
			"## Example 6.3: EX6_3.sce"
		   ]
		  },
  {
"cell_type": "code",
	   "execution_count": null,
	   "metadata": {
	    "collapsed": true
	   },
	   "outputs": [],
"source": [
"//developed in windows XP operating system\n",
"//platform Scilab 5.4.1\n",
"clc;clear;\n",
"//example 6.3\n",
"//calculation of series resistance ,damping resistance and maximum output voltage of the generator\n",
"\n",
"//given data\n",
"n=8//number of stages\n",
"C=0.16*10^-6//value of condenser(in farad)\n",
"Cl=1000*10^-12//value of load capacitor (in farad)\n",
"t1=1.2*10^-6//time to front(in second)\n",
"t2=50*10^-6//time to tail(in second)\n",
"Vc=120*10^3//charging voltage(in V)\n",
"\n",
"//calculation\n",
"C1=C/n//generator capacitance\n",
"C2=Cl//load capacitance\n",
"R1=(t1*(C1+C2))/(3*C1*C2)\n",
"R2=(t2/(0.7*(C1+C2)))-R1\n",
"V=n*Vc//dc charging voltage for n stages\n",
"alpha=1/(R1*C2)\n",
"betaa=1/(R2*C1)\n",
"Vmax=(V*(exp(-alpha*t1)-exp(-betaa*t1)))/(R1*C2*(alpha-betaa))\n",
"\n",
"printf('The value of series resistance is %d ohm',round(R1))\n",
"printf('\nThe value of damping resistance is %d ohm',round(R2))\n",
"printf('\nThe value of maximum output voltage of the generator is %3.2f kV',-Vmax*10^-3)\n",
"\n",
"//Vmax value from the equation is 892.02 kV"
   ]
   }
,
{
		   "cell_type": "markdown",
		   "metadata": {},
		   "source": [
			"## Example 6.4: calculation_of_circuit_inductance_and_dynamic_resistance.sce"
		   ]
		  },
  {
"cell_type": "code",
	   "execution_count": null,
	   "metadata": {
	    "collapsed": true
	   },
	   "outputs": [],
"source": [
"//developed in windows XP operating system\n",
"//platform Scilab 5.4.1\n",
"clc;clear;\n",
"//example 6.4\n",
"//calculation of circuit inductance and dynamic resistance\n",
"\n",
"//given data\n",
"alpha=0.0535*10^6//from table\n",
"LC=65//value of product\n",
"C=8//value of capacitor (in microfarad)\n",
"Ip=10//output peak current(in kA)\n",
"t1=8//time to front(in microsecond)\n",
"\n",
"//calculation\n",
"L=LC/C//inductance(in microhenry)\n",
"Rd=2*(LC*10^-6)*alpha/t1//dynamic resistance\n",
"V=Ip*14/C//charging voltage\n",
"\n",
"printf('The value of circuit inductance is %3.3f microhenry',L)\n",
"printf('\nThe value of dynamic resistance is %3.4f ohm',Rd)\n",
"printf('\nThe value of charging voltage is %3.1f kV',V)\n",
"//the correct value of charging voltage is 17.5 kV"
   ]
   }
,
{
		   "cell_type": "markdown",
		   "metadata": {},
		   "source": [
			"## Example 6.5: calculation_circuit_inductance_and_dynamic_resistance.sce"
		   ]
		  },
  {
"cell_type": "code",
	   "execution_count": null,
	   "metadata": {
	    "collapsed": true
	   },
	   "outputs": [],
"source": [
"//developed in windows XP operating system\n",
"//platform Scilab 5.4.1\n",
"clc;clear all;\n",
"//example 6.5\n",
"//calculation circuit inductance and dynamic resistance\n",
"\n",
"//given data\n",
"C=8*10^-6//value of capacitor (in farad)\n",
"Ip=10//output peak current(in kA)\n",
"t1=8*10^-6//time to front(in second)\n",
"t2=20*10^-6//time to first half cycle(in second)\n",
"V=25*10^3//charging voltage\n",
"im=10*10^3//output currennt(in A)\n",
"\n",
"//calculation\n",
"omega=%pi/t2\n",
"omegat1=omega*t1\n",
"alpha=omega*(1/atan(omegat1))\n",
"LC=1/((t1^2)+(alpha^2))\n",
"L=LC/C\n",
"R=2*L*alpha \n",
"V=omega*L*10*exp(-alpha*t1)\n",
"\n",
"printf('The value of circuit inductance is %3.2f microhenry',L*10^6)\n",
"printf('\nThe value of dynamic resistance is %3.4f ohm',R)\n",
"printf('\nThe value of charging voltage is %3.2f kV',V)\n",
"\n",
"//correct answers is\n",
"//The value of charging voltage is 1.59 kV"
   ]
   }
,
{
		   "cell_type": "markdown",
		   "metadata": {},
		   "source": [
			"## Example 6.6: calculation_of_front_and_tail_time.sce"
		   ]
		  },
  {
"cell_type": "code",
	   "execution_count": null,
	   "metadata": {
	    "collapsed": true
	   },
	   "outputs": [],
"source": [
"//developed in windows XP operating system\n",
"//platform Scilab 5.4.1\n",
"clc;clear;\n",
"//example 6.6\n",
"//calculation of front and tail time\n",
"\n",
"//given data\n",
"n=12//number of stages\n",
"C=0.126*10^-6//capacitance(in Farad)\n",
"R1=800//wavefront resistance(in ohm)\n",
"R2=5000//xavetail resistance(in ohm)\n",
"C2=1000*10^-12//load capacitance(in Farad)\n",
"\n",
"\n",
"//calculation\n",
"C1=C/n\n",
"t1=3*R1*(C1*C2)/(C1+C2)\n",
"t2=0.7*(R1+R2)*(C1+C2)\n",
"\n",
"printf('The time to front is %3.2f microsecond',t1*10^6)\n",
"printf('\nThe time to tail is %3.1f microsecond',t2*10^6)"
   ]
   }
,
{
		   "cell_type": "markdown",
		   "metadata": {},
		   "source": [
			"## Example 6.7: EX6_7.sce"
		   ]
		  },
  {
"cell_type": "code",
	   "execution_count": null,
	   "metadata": {
	    "collapsed": true
	   },
	   "outputs": [],
"source": [
"//developed in windows XP operating system\n",
"//platform Scilab 5.4.1\n",
"clc;clear all;\n",
"//example 6.7\n",
"//calculation of peak value of output voltage and highest resonant frequency produced\n",
"\n",
"//given data\n",
"V=10*10^3//voltage(in V) at primary winding\n",
"L1=10*10^-3//inductance(in H)\n",
"L2=200*10^-3//inductance(in H)\n",
"K=0.6//coefficient of coupling\n",
"C1=2*10^-6//capacitance(in Farad) on primary side\n",
"C2=1*10^-9//capacitance(in Farad) on secondary side\n",
"\n",
"//calculation\n",
"M=K*sqrt(L1*L2)\n",
"omega1=1/sqrt(L1*C1)\n",
"sigma=sqrt(1-(K^2))\n",
"omega2=1/sqrt(L2*C2)\n",
"gama2=sqrt(((omega1^2+omega2^2)/2)+sqrt(((omega1^2+omega2^2)/2)-(sigma^2*omega1^2*omega2^2)))\n",
"gama1=sqrt(((omega1^2+omega2^2)/2)-sqrt(((omega1^2+omega2^2)/2)-(sigma^2*omega1^2*omega2^2)))\n",
"fh=gama2/(2*%pi)//highest frequency\n",
"V2p=(V*M)/(sigma*L1*L2*C2*(gama2^2-gama1^2))\n",
"\n",
"printf('The value of highest resonant frequency produced is %3.2f kHz',fh*10^-3)\n",
"printf('\nThe peak value of output voltage is %3.2f kV',V2p*10^-3)\n",
"\n",
"//gama1 and gama2 are imaginary numbers....Moreover their magnitudes will also be same....so peak value of output voltage from equation is zero"
   ]
   }
,
{
		   "cell_type": "markdown",
		   "metadata": {},
		   "source": [
			"## Example 6.8: calculation_of_output_voltage.sce"
		   ]
		  },
  {
"cell_type": "code",
	   "execution_count": null,
	   "metadata": {
	    "collapsed": true
	   },
	   "outputs": [],
"source": [
"//developed in windows XP operating system\n",
"//platform Scilab 5.4.1\n",
"clc;clear all;\n",
"//example 6.8\n",
"//calculation of output voltage\n",
"\n",
"//given data\n",
"V1=10//voltage(in kV) at primary winding \n",
"C1=2*10^-6//capacitance(in Farad) on primary side\n",
"C2=1*10^-9//capacitance(in Farad) on secondary side\n",
"pern=5//energy efficiency(in percentage)\n",
"\n",
"//calculation\n",
"n=pern/100\n",
"V2=V1*sqrt(n*C1/C2)\n",
"\n",
"printf('The value of output voltage is %3.1f kV',V2)\n",
"//correct answer is 100 kV"
   ]
   }
,
{
		   "cell_type": "markdown",
		   "metadata": {},
		   "source": [
			"## Example 6.9: calculation_of_self_capacitance_and_leakage_reactance.sce"
		   ]
		  },
  {
"cell_type": "code",
	   "execution_count": null,
	   "metadata": {
	    "collapsed": true
	   },
	   "outputs": [],
"source": [
"//developed in windows XP operating system\n",
"//platform Scilab 5.4.1\n",
"clc;clear all;\n",
"//example 6.9\n",
"//calculation of self capacitance and leakage reactance\n",
"\n",
"//given data\n",
"Vi=350*10^3//rating(in VA)\n",
"V=350*10^3//secondary voltage(in V)\n",
"V1=6.6*10^3//primary voltage(in V)\n",
"perV=8//percentage ratedd voltage\n",
"perR=1//percentage rise\n",
"f=50//frequency(in Hz)\n",
"\n",
"//calculation\n",
"I=Vi/V\n",
"Xl=(perV*V)/(100*I)\n",
"I0=perR*V/(100*Xl)\n",
"Xc=((1+(perR/100))*V)/I0\n",
"C=1/(Xc*2*%pi*f)\n",
"\n",
"printf('The value of self capacitance is %3.3f nF',C*10^9)\n",
"printf('\nThe value of leakage reactance is %d kohm',Xl*10^-3)"
   ]
   }
],
"metadata": {
		  "kernelspec": {
		   "display_name": "Scilab",
		   "language": "scilab",
		   "name": "scilab"
		  },
		  "language_info": {
		   "file_extension": ".sce",
		   "help_links": [
			{
			 "text": "MetaKernel Magics",
			 "url": "https://github.com/calysto/metakernel/blob/master/metakernel/magics/README.md"
			}
		   ],
		   "mimetype": "text/x-octave",
		   "name": "scilab",
		   "version": "0.7.1"
		  }
		 },
		 "nbformat": 4,
		 "nbformat_minor": 0
}
