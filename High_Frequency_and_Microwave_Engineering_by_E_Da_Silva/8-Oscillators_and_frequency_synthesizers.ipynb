{
"cells": [
 {
		   "cell_type": "markdown",
	   "metadata": {},
	   "source": [
       "# Chapter 8: Oscillators and frequency synthesizers"
	   ]
	},
{
		   "cell_type": "markdown",
		   "metadata": {},
		   "source": [
			"## Example 8.1: Example_1.sce"
		   ]
		  },
  {
"cell_type": "code",
	   "execution_count": null,
	   "metadata": {
	    "collapsed": true
	   },
	   "outputs": [],
"source": [
"//Chapter 8, Problem 1\n",
"clc\n",
"L=630e-9                            //inductance in henry\n",
"C=400e-12                           //capacitance in farad\n",
"\n",
"//calculating the resonating frequency\n",
"fos=1/(2*%pi*sqrt(L*C))\n",
"\n",
"printf('Resonant frequency = %.3f MHz',fos/10^6)"
   ]
   }
,
{
		   "cell_type": "markdown",
		   "metadata": {},
		   "source": [
			"## Example 8.2: Example_2.sce"
		   ]
		  },
  {
"cell_type": "code",
	   "execution_count": null,
	   "metadata": {
	    "collapsed": true
	   },
	   "outputs": [],
"source": [
"//Chapter 8, Problem 2\n",
"clc\n",
"r1=100e3                            //resistance in ohm\n",
"r2=10e3                             //resistance in ohm\n",
"c1=10e-9                            //capacitance in farad\n",
"c2=100e-9                            //capacitance in farad\n",
"\n",
"//calculation\n",
"w=sqrt(1/(c1*c2*r1*r2))\n",
"f=w/(2*%pi)\n",
"g=1+(r1/r2)+(c2/c1)\n",
"\n",
"printf('(a) Frequency of oscillation = %.2f Hz\n\n',f)\n",
"printf('(b) Minimum gain of the amplifier = %d ',g)"
   ]
   }
,
{
		   "cell_type": "markdown",
		   "metadata": {},
		   "source": [
			"## Example 8.3: Example_3.sce"
		   ]
		  },
  {
"cell_type": "code",
	   "execution_count": null,
	   "metadata": {
	    "collapsed": true
	   },
	   "outputs": [],
"source": [
"//Chapter 8, Problem 3\n",
"clc\n",
"c1=10e-12                            //capacitance in farad\n",
"c2=100e-12                            //capacitance in farad\n",
"f=100e6                                 //frequency in hertz\n",
"\n",
"//calculation\n",
"w=2*%pi*f\n",
"L=(1/w^2)*((1/c1)+(1/c2))\n",
"g=1+(c2/c1)\n",
"\n",
"printf('(a) Value of inductor = %.2f nH\n\n',L*10^9)\n",
"printf('(b) Minimum voltage gain = %d ',g)"
   ]
   }
,
{
		   "cell_type": "markdown",
		   "metadata": {},
		   "source": [
			"## Example 8.4: Example_4.sce"
		   ]
		  },
  {
"cell_type": "code",
	   "execution_count": null,
	   "metadata": {
	    "collapsed": true
	   },
	   "outputs": [],
"source": [
"//Chapter 8, Problem 4\n",
"clc\n",
"ct=15e-12                            //capacitance in farad\n",
"c1=47e-12                            //capacitance in farad\n",
"c2=100e-12                            //capacitance in farad\n",
"L=300e-9                            //inductance in henry\n",
"\n",
"//calculation\n",
"w1=(1/(L*ct))*(1+(ct/c1)+(ct/c2))\n",
"w=sqrt(w1)\n",
"fos=w/(2*%pi)\n",
"\n",
"printf('Approximate frequency = %.2f MHz',fos/10^6)"
   ]
   }
,
{
		   "cell_type": "markdown",
		   "metadata": {},
		   "source": [
			"## Example 8.5: Example_5.sce"
		   ]
		  },
  {
"cell_type": "code",
	   "execution_count": null,
	   "metadata": {
	    "collapsed": true
	   },
	   "outputs": [],
"source": [
"//Chapter 8, Problem 5, figure 8.28\n",
"clc\n",
"Rf=9e3                              //resistance in ohm\n",
"R1=1e3                              //resistance in ohm\n",
"Kphi=0.12                           //transfer gain in volt/radian\n",
"Ko=-40e3                            //transfer gain in hertz/volt\n",
"fi=100e3                            //input frequency in hertz\n",
"fo=120e3                            //oitput frequency in hertz from VCO\n",
"\n",
"//calculation\n",
"Ka=(Rf/R1)+1\n",
"Kl=Kphi*Ka*Ko*2*%pi\n",
"Kl_dB=real(20*log10(Kl))\n",
"fd=fi-fo\n",
"Vo=fd/Ko\n",
"Vd=Vo/Ka\n",
"theta=Vd/Kphi\n",
"fd1=-Kl/(2*%pi)\n",
"Vd1=Kphi*%pi/2\n",
"\n",
"printf('(a) Voltage gain (ka) for the op-amp = %d\n\n',Ka)\n",
"printf('(b) Loop gain (kL) = %.1f s^-1\n\t\t= %.1f dB\n\n',Kl,Kl_dB)\n",
"printf('(c) With S1 open as shown, there is no phase lock and the beat frequency = %d kHz\n\n',fd/1000)\n",
"printf('(d)(i) fo = %d kHz\n',fi/1000)\n",
"printf('  (ii) Static phase error = %.3f rad\n',theta)\n",
"printf('  (iii) Vo = %.1f V\n\n',Vo)\n",
"printf('(e) Hold-in range Df = %.2f kHz\n\n',fd1/1000)\n",
"printf('(f) Maximum value of vd = %.3f V d.c',Vd1)"
   ]
   }
,
{
		   "cell_type": "markdown",
		   "metadata": {},
		   "source": [
			"## Example 8.6: Example_6.sce"
		   ]
		  },
  {
"cell_type": "code",
	   "execution_count": null,
	   "metadata": {
	    "collapsed": true
	   },
	   "outputs": [],
"source": [
"//Chapter 8, Problem 6\n",
"clc\n",
"f1=70e6                 //section 1, frequency in hertz\n",
"f2=5e6                 //section 2, frequency in hertz\n",
"f3=400e3                 //section 3, frequency in hertz\n",
"f4=80e3                 //section 4, frequency in hertz\n",
"\n",
"//calculation\n",
"F3h=f3+f4\n",
"F3l=f3-f4\n",
"\n",
"F2h=f2+F3h\n",
"F2l=f2-F3h\n",
"\n",
"F1h=f1+F2h\n",
"F1l=f1-F2h\n",
"\n",
"printf('Mixer 3 : %d Khz and %d Khz\n',F3h/1000,F3l/1000)\n",
"printf('After filter 3 : %d Khz\n\n',F3h/1000)\n",
"printf('Mixer 2 : %.2f Mhz and %.2f Mhz\n',F2h/10^6,F2l/10^6)\n",
"printf('After filter 2 : %.2f Mhz\n\n',F2h/10^6)\n",
"printf('Mixer 1 : %.2f Mhz and %.2f Mhz\n',F1h/10^6,F1l/10^6)\n",
"printf('After filter 1 : %.2f Mhz\n\n',F1h/10^6)"
   ]
   }
,
{
		   "cell_type": "markdown",
		   "metadata": {},
		   "source": [
			"## Example 8.7: Example_7.sce"
		   ]
		  },
  {
"cell_type": "code",
	   "execution_count": null,
	   "metadata": {
	    "collapsed": true
	   },
	   "outputs": [],
"source": [
"//Chapter 8, Problem 7\n",
"clc\n",
"fl=511e6                  //lowest frequency at the divider\n",
"res=1e6                   //resolution\n",
"fh=887e6                  //highest frequency at the divider\n",
"\n",
"//calculation of division factor\n",
"N=fl/res\n",
"N2=fh/res\n",
"\n",
"printf('Lowest value of division factor, N = %d \n\n',N)\n",
"printf('Highest value of division factor, N = %d ',N2)"
   ]
   }
,
{
		   "cell_type": "markdown",
		   "metadata": {},
		   "source": [
			"## Example 8.8: Example_8.sce"
		   ]
		  },
  {
"cell_type": "code",
	   "execution_count": null,
	   "metadata": {
	    "collapsed": true
	   },
	   "outputs": [],
"source": [
"//Chapter 8, Problem 8\n",
"clc\n",
"fl=18.7e6                   //lowest frequency at the divider\n",
"fo=50e3                     //divider output\n",
"fl2=38.7e6                  //highest frequency at the divider\n",
"\n",
"//calculation of division factor\n",
"N=fl/fo\n",
"N2=fl2/fo\n",
"\n",
"printf('Lowest value of division factor, N = %d \n\n',N)\n",
"printf('Highest value of division factor, N = %d ',N2)"
   ]
   }
],
"metadata": {
		  "kernelspec": {
		   "display_name": "Scilab",
		   "language": "scilab",
		   "name": "scilab"
		  },
		  "language_info": {
		   "file_extension": ".sce",
		   "help_links": [
			{
			 "text": "MetaKernel Magics",
			 "url": "https://github.com/calysto/metakernel/blob/master/metakernel/magics/README.md"
			}
		   ],
		   "mimetype": "text/x-octave",
		   "name": "scilab",
		   "version": "0.7.1"
		  }
		 },
		 "nbformat": 4,
		 "nbformat_minor": 0
}
