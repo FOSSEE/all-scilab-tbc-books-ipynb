{
"cells": [
 {
		   "cell_type": "markdown",
	   "metadata": {},
	   "source": [
       "# Chapter 5: Amplifier basics"
	   ]
	},
{
		   "cell_type": "markdown",
		   "metadata": {},
		   "source": [
			"## Example 5.10: Example_10.sce"
		   ]
		  },
  {
"cell_type": "code",
	   "execution_count": null,
	   "metadata": {
	    "collapsed": true
	   },
	   "outputs": [],
"source": [
"//Chapter 5, Problem 10\n",
"clc\n",
"z0=50                           //characteristic impedance\n",
"fb=525e6\n",
"fa=475e6\n",
"fp=fb-fa                     //passband limit frequency\n",
"\n",
"f0=sqrt(fb*fa)\n",
"\n",
"//Butterworth normalised values\n",
"g1=1/0.618\n",
"g2=1/1.618\n",
"g3=1/2\n",
"g4=1/1.618\n",
"g5=1/0.618\n",
"w=2*%pi*fp\n",
"\n",
"//calculation of component values\n",
"l1=g1*z0/(w)\n",
"c2=g2/(w*z0)\n",
"l3=g3*z0/w\n",
"c4=g4/(w*z0)\n",
"l5=g5*z0/(w)\n",
"\n",
"printf('Component values are\n\tL1 = %f nH',l1*10^9)\n",
"printf('\n\tC2 = %f pF\n\tL3 = %f nH\n\tC4 = %f pF\n\tL5 = %f nH',c2*10^12,l3*10^9,c4*10^12,l5*10^9)"
   ]
   }
,
{
		   "cell_type": "markdown",
		   "metadata": {},
		   "source": [
			"## Example 5.11: Example_11.sce"
		   ]
		  },
  {
"cell_type": "code",
	   "execution_count": null,
	   "metadata": {
	    "collapsed": true
	   },
	   "outputs": [],
"source": [
"//Chapter 5, Problem 11\n",
"clc\n",
"z0=50                           //characteristic impedance\n",
"fp=50*10^6                     //passband limit frequency\n",
"//from Figure 5.39, it is seen that about five arms will be required\n",
"n=5\n",
"\n",
"\n",
"//Butterworth normalised values\n",
"g1=1.1468\n",
"g2=1.3721\n",
"g3=1.9760\n",
"g4=1.3712\n",
"g5=1.1468\n",
"w=2*%pi*fp\n",
"\n",
"//calculation of component values\n",
"c1=g1/(w*z0)\n",
"l2=g2*z0/w\n",
"c3=g3/(w*z0)\n",
"l4=g4*z0/w\n",
"c5=g5/(w*z0)\n",
"printf('(a) Number of arms of low pass filter = %.2f \n',n)\n",
"printf('Component values are\n\tC1 = %.2f pF',c1*10^12)\n",
"printf('\n\tL2 = %.2f nH\n\tC3 = %.2f pF\n\tL4 = %.2f nH\n\tC5 = %.2f pF',l2*10^9,c3*10^12,l4*10^9,c5*10^12)"
   ]
   }
,
{
		   "cell_type": "markdown",
		   "metadata": {},
		   "source": [
			"## Example 5.12: Example_12.sce"
		   ]
		  },
  {
"cell_type": "code",
	   "execution_count": null,
	   "metadata": {
	    "collapsed": true
	   },
	   "outputs": [],
"source": [
"//Chapter 5, Problem 12\n",
"clc\n",
"z0=75                           //characteristic impedance\n",
"fp=500*10^6                     //passband limit frequency\n",
"f1=260*10^6                     //frequency in hertz\n",
"//from Figure 5.39, it is seen that about five arms will be required\n",
"n=5\n",
"\n",
"//Butterworth normalised values\n",
"g1=1/1.382\n",
"g2=1/1.326\n",
"g3=1/2.209\n",
"g4=1/1.326\n",
"g5=1/1.382\n",
"w=2*%pi*fp\n",
"\n",
"//calculation of component values\n",
"l1=g1*z0/(w)\n",
"c2=g2/(w*z0)\n",
"l3=g3*z0/w\n",
"c4=g4/(w*z0)\n",
"l5=g5*z0/(w)\n",
"printf('(a) Number of arms of low pass filter = %.2f \n',n)\n",
"printf('(b) Component values are\n\tL1 = %f nH',l1*10^9)\n",
"printf('\n\tC2 = %f pF\n\tL3 = %f nH\n\tC4 = %f pF\n\tL5 = %f nH',c2*10^12,l3*10^9,c4*10^12,l5*10^9)"
   ]
   }
,
{
		   "cell_type": "markdown",
		   "metadata": {},
		   "source": [
			"## Example 5.13: Example_13.sce"
		   ]
		  },
  {
"cell_type": "code",
	   "execution_count": null,
	   "metadata": {
	    "collapsed": true
	   },
	   "outputs": [],
"source": [
"//Chapter 5, Problem 13\n",
"clc\n",
"n1=16                           //no of turns on primary\n",
"n2=8                           //no of turns on secondary\n",
"zs=16                           //terminating resistance\n",
"\n",
"//calculation of effective resistance\n",
"zp=zs*(n1/n2)^2\n",
"printf('Effective resistance at the primary = %d ohm',zp)"
   ]
   }
,
{
		   "cell_type": "markdown",
		   "metadata": {},
		   "source": [
			"## Example 5.14: Example_14.sce"
		   ]
		  },
  {
"cell_type": "code",
	   "execution_count": null,
	   "metadata": {
	    "collapsed": true
	   },
	   "outputs": [],
"source": [
"//Chapter 5, Problem 14\n",
"clc\n",
"n1=160                              //no of turn\n",
"n2=40                               //no of turns\n",
"n3=8                                //no of turns\n",
"n4=150                              //no of turns\n",
"n5=50                               //no of turns\n",
"rl=2000                             //load resistance in ohms\n",
"\n",
"//calculation\n",
"rl1=((n1+n2)/n3)^2*rl\n",
"req=(n2/(n1+n2))^2*rl1\n",
"rl2=((n4+n5)/n3)^2*rl\n",
"req2=(n5/(n4+n5))^2*rl2\n",
"printf('(a)Transistor load impedance at resonance = %d Kohm\n\n',req/1000)\n",
"printf('(b)New transistor load impedance at resonance = %.2f Kohm\n\n',req2/1000)"
   ]
   }
,
{
		   "cell_type": "markdown",
		   "metadata": {},
		   "source": [
			"## Example 5.15: Example_15.sce"
		   ]
		  },
  {
"cell_type": "code",
	   "execution_count": null,
	   "metadata": {
	    "collapsed": true
	   },
	   "outputs": [],
"source": [
"//Chapter 5, Problem 15\n",
"clc\n",
"n1=160                              //no of turn\n",
"n2=40                               //no of turns\n",
"n3=8                                //no of turns\n",
"n4=150                              //no of turns\n",
"n5=50                               //no of turns\n",
"rl=2000                             //load resistance in ohms\n",
"rt=100e3                            //output impedance of transistor\n",
"Q=100                               //Q factor\n",
"Ct=180*10^-12                          //capacitance in farad\n",
"f=465e3                                 //resonant frequency\n",
"\n",
"rl1=((n1+n2)/n3)^2*rl\n",
"rtr=((n1+n2)/n2)^2*rt\n",
"rckt=Q/(2*%pi*Ct*f)\n",
"req=rl1*rckt/(rl1+rckt)\n",
"rl2=((n2/(n1+n2))^2)*req\n",
"\n",
"printf('Transistor load impedance at resonance = %.2f Kohm\n\n',rl2/1000)\n",
""
   ]
   }
,
{
		   "cell_type": "markdown",
		   "metadata": {},
		   "source": [
			"## Example 5.16: Example_16.sce"
		   ]
		  },
  {
"cell_type": "code",
	   "execution_count": null,
	   "metadata": {
	    "collapsed": true
	   },
	   "outputs": [],
"source": [
"//Chapter 5, Problem 16\n",
"clc\n",
"req=125e3                       //effective resistance in ohm\n",
"f=465e3                         //resonant frequency in hertz\n",
"L=650e-6                        //tuning inductance in inductance\n",
"\n",
"//calculation\n",
"Q=req/(2*%pi*f*L)\n",
"B=f/Q\n",
"printf('Q = %.1f \n\n Bandwidth = %d Hz',Q,B)"
   ]
   }
,
{
		   "cell_type": "markdown",
		   "metadata": {},
		   "source": [
			"## Example 5.17: Example_17.sce"
		   ]
		  },
  {
"cell_type": "code",
	   "execution_count": null,
	   "metadata": {
	    "collapsed": true
	   },
	   "outputs": [],
"source": [
"//Chapter 5, Problem 17\n",
"clc\n",
"z1=22e3                   //reactance in ohm\n",
"c1=10                     //capacitance in picofarad\n",
"c2=100                   //capacitance in picofarad\n",
"\n",
"//calculation\n",
"z2=z1*(c1/(c1+c2))\n",
"printf('tranformed value of reactance = %d Kohm',z2/1000)"
   ]
   }
,
{
		   "cell_type": "markdown",
		   "metadata": {},
		   "source": [
			"## Example 5.18: Example_18.sce"
		   ]
		  },
  {
"cell_type": "code",
	   "execution_count": null,
	   "metadata": {
	    "collapsed": true
	   },
	   "outputs": [],
"source": [
"//Chapter 5, Problem 18\n",
"clc\n",
"f=100e6                         //frequency in hertz\n",
"cp=100e-12                      //capacitance in farad\n",
"rp=15e3                         //resistance in ohm\n",
"\n",
"//calculation\n",
"qp=2*%pi*f*cp*rp\n",
"printf('Quality factor Qp = %.2f',qp)"
   ]
   }
,
{
		   "cell_type": "markdown",
		   "metadata": {},
		   "source": [
			"## Example 5.19: Example_19.sce"
		   ]
		  },
  {
"cell_type": "code",
	   "execution_count": null,
	   "metadata": {
	    "collapsed": true
	   },
	   "outputs": [],
"source": [
"//Chapter 5, Problem 19\n",
"clc\n",
"f=800e3                         //frequency in hertz\n",
"Ls=365e-6                      //capacitance in farad\n",
"Rs=8                         //resistance in ohm\n",
"\n",
"//calculation\n",
"Qs=(2*%pi*f*Ls)/Rs\n",
"printf('Quality factor Qs = %d',Qs)"
   ]
   }
,
{
		   "cell_type": "markdown",
		   "metadata": {},
		   "source": [
			"## Example 5.1: Example_1.sce"
		   ]
		  },
  {
"cell_type": "code",
	   "execution_count": null,
	   "metadata": {
	    "collapsed": true
	   },
	   "outputs": [],
"source": [
"//Chapter 5, Problem 1\n",
"clc\n",
"R=3                         //resistance in ohm\n",
"L=20*10^-9                  //inductance in henry\n",
"f0=500e6                    //frequency in hertz\n",
"\n",
"//calculation\n",
"Z=R\n",
"C=(1/(2*%pi*f0*sqrt(L)))^2\n",
"Q=2*%pi*f0*L/R\n",
"B=f0/Q\n",
"\n",
"printf('(a) Impedance at resonance = %d ohm\n\n',Z)\n",
"printf('(b) Value of series capacitor = %.3f pF\n\n',C*10^12)\n",
"printf('(c) Q of the circuit at resonance = %.3f\n\n',Q)\n",
"printf('(d) 3 dB bandwidth of the circuit = %.3f Mhz\n\n',B/10^6)"
   ]
   }
,
{
		   "cell_type": "markdown",
		   "metadata": {},
		   "source": [
			"## Example 5.20: Example_20.sce"
		   ]
		  },
  {
"cell_type": "code",
	   "execution_count": null,
	   "metadata": {
	    "collapsed": true
	   },
	   "outputs": [],
"source": [
"//Chapter 5, Problem 20\n",
"clc\n",
"f=10e6                         //frequency in hertz\n",
"Ls=15e-6                      //capacitance in farad\n",
"Rs=2                         //resistance in ohm\n",
"\n",
"//calculation\n",
"Qs=(2*%pi*f*Ls)/Rs\n",
"Rp=Rs*(1+(Qs^2))\n",
"Lp=((1+Qs^2)/Qs^2)*Ls\n",
"\n",
"printf('Resistance Rp = %d Kohm\n\n Inductance Lp = %d uH\n\n Quality factor Qp = %d',Rp/1000,Lp*10^6,Qs)"
   ]
   }
,
{
		   "cell_type": "markdown",
		   "metadata": {},
		   "source": [
			"## Example 5.21: Example_21.sce"
		   ]
		  },
  {
"cell_type": "code",
	   "execution_count": null,
	   "metadata": {
	    "collapsed": true
	   },
	   "outputs": [],
"source": [
"//Chapter 5, Problem 21, figure 5.55\n",
"clc\n",
"Rp=500                      //equals to load resistance\n",
"Rs=50                       //equals to generator resistance\n",
"f=100e6                     //frequency in hertz\n",
"\n",
"w=2*%pi*f\n",
"Qs=sqrt((Rp/Rs)-1)\n",
"Ls=(Rs*Qs)/w\n",
"Xs=w*Ls\n",
"Ca=1/(w*Xs)\n",
"Lp=((1+Qs^2)/Qs^2)*Ls\n",
"printf('Capacitor Ca = %.2f pF\n\nInductor Lp = %.2f nH',Ca/10^-12,Lp/10^-9)"
   ]
   }
,
{
		   "cell_type": "markdown",
		   "metadata": {},
		   "source": [
			"## Example 5.22: Example_22.sce"
		   ]
		  },
  {
"cell_type": "code",
	   "execution_count": null,
	   "metadata": {
	    "collapsed": true
	   },
	   "outputs": [],
"source": [
"//Chapter 5, Problem 22, figure 5.58\n",
"clc\n",
"f=100e6                             //supply frequency in hertz\n",
"Rs=50                               //resistance in ohms\n",
"Csh=42e-12                          //shunt capacitance in ohm\n",
"Rl=500                              //load resistance in ohm\n",
"Rp=Rl\n",
"\n",
"//calculation\n",
"w=2*%pi*f\n",
"Qs=sqrt((Rp/Rs)-1)\n",
"Ls=(Rs*Qs)/w\n",
"Xs=w*Ls\n",
"Ca=1/(w*Xs)\n",
"Lp=((1+Qs^2)/Qs^2)*Ls\n",
"\n",
"L=1/(w^2*Csh)\n",
"Lcom=(Lp*L)/(Lp+L)\n",
"\n",
"printf('Matching network component value are,\n Ca = %.1f pF \n L (combined) = %d nH\n\n',Ca*10^12,Lcom*10^9)\n",
"disp('For the final network, shown in figure 5.61')"
   ]
   }
,
{
		   "cell_type": "markdown",
		   "metadata": {},
		   "source": [
			"## Example 5.23: Example_23.sce"
		   ]
		  },
  {
"cell_type": "code",
	   "execution_count": null,
	   "metadata": {
	    "collapsed": true
	   },
	   "outputs": [],
"source": [
"//Chapter 5, Problem 23, figure 5.65\n",
"clc\n",
"Rs=100                      //resistance in ohm\n",
"Rl=1000                      //resistance in ohm\n",
"Q=15                         //Q factor\n",
"\n",
"//calculation\n",
"Rv=Rl/(Q^2+1)\n",
"Xp2=Rl/Q\n",
"Xs2=Q*Rv\n",
"Q1=sqrt((Rs/Rv)-1)\n",
"Xp1=Rs/Q1\n",
"Xs1=Q1*Rv\n",
"\n",
"printf('Zs = %d ohm\nXp1 = %.3f ohm \nXs1 = %.3f ohm\n',Rs,Xp1,Xs1)\n",
"printf('Xs2 = %.3f ohm\n Xp2 = %.3f ohm\n Zl = %d ohm\n\n',Xs2,Xp2,Rl)\n",
"disp('Four types of matching network is shown in figure 5.66, 5.67, 5.68, 5.69.')"
   ]
   }
,
{
		   "cell_type": "markdown",
		   "metadata": {},
		   "source": [
			"## Example 5.24: Example_24.sce"
		   ]
		  },
  {
"cell_type": "code",
	   "execution_count": null,
	   "metadata": {
	    "collapsed": true
	   },
	   "outputs": [],
"source": [
"//Chapter 5, Problem 24, figure 5.72\n",
"clc\n",
"Rs=10                      //resistance in ohm\n",
"Rl=50                      //resistance in ohm\n",
"Q=10                         //Q factor\n",
"\n",
"//calculation\n",
"Rv=Rs*(Q^2+1)\n",
"Xs1=Q*Rs\n",
"Xp1=Rv/Q\n",
"Q2=sqrt((Rv/Rl)-1)\n",
"Xp2=Rv/Q2\n",
"Xs2=Q2*Rl\n",
"\n",
"printf('Zs = %d ohm\nXp1 = %.3f ohm \nXs1 = %.3f ohm\n',Rs,Xp1,Xs1)\n",
"printf('Xs2 = %.3f ohm\n Xp2 = %.3f ohm\n Zl = %d ohm\n\n',Xs2,Xp2,Rl)\n",
"disp('Four types of matching network is shown in figure 5.66, 5.67, 5.68, 5.69.')"
   ]
   }
,
{
		   "cell_type": "markdown",
		   "metadata": {},
		   "source": [
			"## Example 5.3: Example_3.sce"
		   ]
		  },
  {
"cell_type": "code",
	   "execution_count": null,
	   "metadata": {
	    "collapsed": true
	   },
	   "outputs": [],
"source": [
"//Chapter 5, Problem 3\n",
"clc\n",
"f1=260*10^6                             //frequency in hertz\n",
"f2=100*10^6                             //frequency in hertz\n",
"A=40                                    //minimum attenuation in dB\n",
"\n",
"//calculation \n",
"fr=f1/f2\n",
"n=A/(20*log10(fr))\n",
"\n",
"printf('Number of arms = %f\n i.e 5 arms',n)"
   ]
   }
,
{
		   "cell_type": "markdown",
		   "metadata": {},
		   "source": [
			"## Example 5.4: Example_4.sce"
		   ]
		  },
  {
"cell_type": "code",
	   "execution_count": null,
	   "metadata": {
	    "collapsed": true
	   },
	   "outputs": [],
"source": [
"//Chapter 5, Problem 4\n",
"clc\n",
"z0=50                           //characteristic impedance in ohm\n",
"fp=500*10^6                     //passband limit frequency in hertz\n",
"\n",
"//Butterworth normalised values\n",
"g1=0.618\n",
"g2=1.618\n",
"g3=2\n",
"g4=1.618\n",
"g5=0.618\n",
"w=2*%pi*fp\n",
"\n",
"//calculation of component values\n",
"c1=g1/(w*z0)\n",
"l2=g2*z0/w\n",
"c3=g3/(w*z0)\n",
"l4=g4*z0/w\n",
"c5=g5/(w*z0)\n",
"\n",
"printf('Component values are\n\tC1 = %.2f pF',c1*10^12)\n",
"printf('\n\tL2 = %.2f nH\n\tC3 = %.2f pF\n\tL4 = %.2f nH\n\tC5 = %.2f pF',l2*10^9,c3*10^12,l4*10^9,c5*10^12)"
   ]
   }
,
{
		   "cell_type": "markdown",
		   "metadata": {},
		   "source": [
			"## Example 5.6: Example_6.sce"
		   ]
		  },
  {
"cell_type": "code",
	   "execution_count": null,
	   "metadata": {
	    "collapsed": true
	   },
	   "outputs": [],
"source": [
"//Chapter 5, Problem 6\n",
"clc\n",
"z0=50                           //characteristic impedance in ohm\n",
"fp=500*10^6                     //passband limit frequency in hertz\n",
"\n",
"//Butterworth normalised values\n",
"g1=1/0.618\n",
"g2=1/1.618\n",
"g3=1/2\n",
"g4=1/1.618\n",
"g5=1/0.618\n",
"w=2*%pi*fp\n",
"\n",
"//calculation of component values\n",
"l1=g1*z0/(w)\n",
"c2=g2/(w*z0)\n",
"l3=g3*z0/w\n",
"c4=g4/(w*z0)\n",
"l5=g5*z0/(w)\n",
"\n",
"printf('Component values are\n\tL1 = %.2f nH',l1*10^9)\n",
"printf('\n\tC2 = %.2f pF\n\tL3 = %.2f nH\n\tC4 = %.2f pF\n\tL5 = %.2f nH',c2*10^12,l3*10^9,c4*10^12,l5*10^9)"
   ]
   }
,
{
		   "cell_type": "markdown",
		   "metadata": {},
		   "source": [
			"## Example 5.8: Example_8.sce"
		   ]
		  },
  {
"cell_type": "code",
	   "execution_count": null,
	   "metadata": {
	    "collapsed": true
	   },
	   "outputs": [],
"source": [
"//Chapter 5, Problem 8\n",
"clc\n",
"z0=50                           //characteristic impedance in ohm\n",
"fb=525e6\n",
"fa=475e6\n",
"fp=fb-fa                     //passband limit frequency in hertz\n",
"\n",
"f0=sqrt(fb*fa)\n",
"\n",
"//Butterworth normalised values\n",
"g1=0.618\n",
"g2=1.618\n",
"g3=2\n",
"g4=1.618\n",
"g5=0.618\n",
"w=2*%pi*fp\n",
"\n",
"//calculation of component values\n",
"c1=g1/(w*z0)\n",
"l2=g2*z0/w\n",
"c3=g3/(w*z0)\n",
"l4=g4*z0/w\n",
"c5=g5/(w*z0)\n",
"\n",
"printf('Component values are\n\tC1 = %.2f pF',c1*10^12)\n",
"printf('\n\tL2 = %.2f nH\n\tC3 = %.2f pF\n\tL4 = %.2f nH\n\tC5 = %.2f pF',l2*10^9,c3*10^12,l4*10^9,c5*10^12)"
   ]
   }
],
"metadata": {
		  "kernelspec": {
		   "display_name": "Scilab",
		   "language": "scilab",
		   "name": "scilab"
		  },
		  "language_info": {
		   "file_extension": ".sce",
		   "help_links": [
			{
			 "text": "MetaKernel Magics",
			 "url": "https://github.com/calysto/metakernel/blob/master/metakernel/magics/README.md"
			}
		   ],
		   "mimetype": "text/x-octave",
		   "name": "scilab",
		   "version": "0.7.1"
		  }
		 },
		 "nbformat": 4,
		 "nbformat_minor": 0
}
