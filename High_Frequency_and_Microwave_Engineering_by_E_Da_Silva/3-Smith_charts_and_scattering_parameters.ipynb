{
"cells": [
 {
		   "cell_type": "markdown",
	   "metadata": {},
	   "source": [
       "# Chapter 3: Smith charts and scattering parameters"
	   ]
	},
{
		   "cell_type": "markdown",
		   "metadata": {},
		   "source": [
			"## Example 3.10: Example_10.sce"
		   ]
		  },
  {
"cell_type": "code",
	   "execution_count": null,
	   "metadata": {
	    "collapsed": true
	   },
	   "outputs": [],
"source": [
"//Chapter 3, Problem 10\n",
"clc\n",
"Zlo=0.2                             //ratio of Zl/Zo impedance in ohm\n",
"Zo=50                               //output impedance in ohm\n",
"\n",
"//calculation of characteristic impedance\n",
"Z0t=Zo*sqrt(Zlo)\n",
"\n",
"printf('Characteristic impedance, Z0t = %d ohm',Z0t)"
   ]
   }
,
{
		   "cell_type": "markdown",
		   "metadata": {},
		   "source": [
			"## Example 3.11: Example_11.sce"
		   ]
		  },
  {
"cell_type": "code",
	   "execution_count": null,
	   "metadata": {
	    "collapsed": true
	   },
	   "outputs": [],
"source": [
"//Chapter 3, Problem 11, Figure 3.16(a), 3.18\n",
"clc\n",
"Zs=50+%i*0                      //impedance in ohm\n",
"Zl=100+%i*0                     //impedance in ohm\n",
"\n",
"//using one quarter wave transformer in the circuit of figure 3.16(a)\n",
"Z0=sqrt(Zs*Zl)\n",
"\n",
"//Use two quarter-wave transformers as in Figure 3.18\n",
"Z0t=sqrt(Zl/Zs)\n",
"Z0t2=60\n",
"Z0t1=Z0t2*Z0t\n",
"\n",
"//using table 3.3\n",
"x=[0.6,0.8,1.0,1.2,1.4]\n",
"y=[-13.83,-19.28,-60,-19.28,-13.83]\n",
"clf; \n",
"x1=[0.6,0.8,1.0,1.2,1.4]\n",
"y1=[-18.81,-32.09,-38.69,-32.09,-18.81]\n",
"plot(x,y,'.r')\n",
"plot(x1,y1,'.b')\n",
"legend('one h/4','Two h/4')\n",
"\n",
"xtitle('reflection coefficient vs frequency','frequency (GHz)','Reflection coefficient (dB)');\n",
"printf('(a) Matching network using one λ/4 transformer,\n\t Z0 = %.2f ohm\n\n',Z0)\n",
"printf('(b) Matching network using two λ/4 transformers,\n Ratio of Z0t1 and Z0t2 = %.3f\n',Z0t)\n",
"printf('If I choose a value of 60 ohm for Z0t2, then Z0t1 = %.2f ohm\n\n',Z0t1)\n",
""
   ]
   }
,
{
		   "cell_type": "markdown",
		   "metadata": {},
		   "source": [
			"## Example 3.13: Example_13.sce"
		   ]
		  },
  {
"cell_type": "code",
	   "execution_count": null,
	   "metadata": {
	    "collapsed": true
	   },
	   "outputs": [],
"source": [
"//Chapter 3, Problem 13\n",
"clc\n",
"\n",
"//https://atoms.scilab.org/toolboxes/microwave\n",
"//Download and install the Microwave toolbox from above link and load it from scilab menubar > Toolboxes > microwave\n",
"\n",
"funcprot(0)\n",
"// [R1, Theta1] = z2p(A1) - Display polar form of complex matrix.\n",
"function [R1, Theta1] = z2p(A1)\n",
"     Theta1 = atan(imag(A1),real(A1))*180/%pi;\n",
"     R1=sqrt(real(A1)^2+imag(A1)^2)\n",
"endfunction\n",
"\n",
"zin=100                         //input resistance in ohm\n",
"zo=50                           //amplifier input resistance in ohm\n",
"cl=5e-12                        //capacitance in farad\n",
"f=10^9                           //frequency in hertz\n",
"d=1+(%i*2.3)                        //point C\n",
"h=0-(%i*2.3)                        //point E\n",
"\n",
"//Calculation\n",
"Yo=1/zo\n",
"Yl=(1/zin)+(%i*2*%pi*f*cl)\n",
"Y=Yl/Yo\n",
"\n",
"//Plot the smith chart \n",
"uW_display_smith([.2 .5 1 2 5],12);\n",
"Y1=50*Y;\n",
"R=(Y1-50)/(Y1+50);\n",
"R2=0\n",
"[Rm,Ra]=z2p(R)\n",
"plot2d(real(R),imag(R),-8);\n",
"plot2d(real(R2),imag(R2),-1);\n",
"y=[d h]\n",
"for n=1:length(y)\n",
"    y1=50*y(n)\n",
"    R1=(y1-50)/(y1+50);\n",
"plot2d(real(R1), imag(R1),-8);\n",
"end;\n",
"\n",
"//Plot a VSWR circle of radius 0.667\n",
"x=linspace(0,2*%pi,200);\n",
"plot2d(Rm*cos(x),Rm*sin(x))\n",
"xtitle('Smith chart')\n",
"\n",
"printf('Yl/Yo = %.1f + j %.2f\n\n',real(Y),imag(Y))"
   ]
   }
,
{
		   "cell_type": "markdown",
		   "metadata": {},
		   "source": [
			"## Example 3.15: Example_15.sce"
		   ]
		  },
  {
"cell_type": "code",
	   "execution_count": null,
	   "metadata": {
	    "collapsed": true
	   },
	   "outputs": [],
"source": [
"//Chapter 3, Prblem 15, figure 3.30\n",
"clc\n",
"//from figure 3.30\n",
"zo=50                       //in ohm\n",
"zl=50                       //in ohm\n",
"\n",
"//calculating the S parameter\n",
"z1=zo+zl\n",
"s11=(z1-zo)/(z1+zo)\n",
"z2=zo+zl\n",
"s22=(z2-zo)/(z2+zo)\n",
"s21=(2*zl)/(50+zo+zl)\n",
"s12=(2*zl)/(50+zo+zl)\n",
"\n",
"s=[s11 s12;s21 s22]\n",
"\n",
"printf('s11 (magnitude) = %.3f \n\t(angle) = 0 degree\n\n',s11)\n",
"printf('s12 (magnitude) = %.3f \n\t(angle) = 0 degree\n\n',s12)\n",
"printf('s21 (magnitude) = %.3f \n\t(angle) = 0 degree\n\n',s21)\n",
"printf('s22 (magnitude) = %.3f \n\t(angle) = 0 degree\n\n',s22)\n",
"disp(s,'S = ')"
   ]
   }
,
{
		   "cell_type": "markdown",
		   "metadata": {},
		   "source": [
			"## Example 3.16: Example_16.sce"
		   ]
		  },
  {
"cell_type": "code",
	   "execution_count": null,
	   "metadata": {
	    "collapsed": true
	   },
	   "outputs": [],
"source": [
"//Chapter 3, Prblem 16, figure 3.32\n",
"clc\n",
"//from figure 3.32\n",
"zo=50                       //in ohm\n",
"zl=50                       //in ohm\n",
"\n",
"//calculating the S parameter\n",
"z1=(zo*zl)/(zo+zl)\n",
"s11=(z1-zo)/(z1+zo)\n",
"z2=(zo*zl)/(zo+zl)\n",
"s22=(z2-zo)/(z2+zo)\n",
"s21=(2*z1)/(50+z1)\n",
"s12=(2*z2)/(50+z2)\n",
"\n",
"s=[s11 s12;s21 s22]\n",
"\n",
"printf('s11 (magnitude) = %.3f \n\t(angle) = 180 degree\n\n',-s11)\n",
"printf('s12 (magnitude) = %.3f \n\t(angle) = 0 degree\n\n',s12)\n",
"printf('s21 (magnitude) = %.3f \n\t(angle) = 0 degree\n\n',s21)\n",
"printf('s22 (magnitude) = %.3f \n\t(angle) = 180 degree\n\n',-s22)\n",
"disp(s,'S (magnitude) = ')"
   ]
   }
,
{
		   "cell_type": "markdown",
		   "metadata": {},
		   "source": [
			"## Example 3.17: Example_17.sce"
		   ]
		  },
  {
"cell_type": "code",
	   "execution_count": null,
	   "metadata": {
	    "collapsed": true
	   },
	   "outputs": [],
"source": [
"//Chapter 3, Prblem 17, figure 3.34\n",
"clc\n",
"funcprot(0)\n",
"// [R1, Theta1] = z2p(A1) - Display polar form of complex matrix.\n",
"function [R1, Theta1] = z2p(A1)\n",
"     Theta1 = atan(imag(A1),real(A1))*180/%pi;\n",
"     R1=sqrt(real(A1)^2+imag(A1)^2)\n",
"endfunction\n",
"\n",
"\n",
"//from figure 3.34\n",
"zo=50                       //in ohm\n",
"zl=50                       //in ohm\n",
"r1=30\n",
"zai=%i*20\n",
"za=(r1*zo)/(r1+zo)\n",
"z1=za+zai\n",
"s11=(z1-zo)/(z1+zo)\n",
"z2=(zo+zai)*r1/(zo+zai+r1)\n",
"s22=(z2-zo)/(z2+zo)\n",
"s21=za*2/(za+(zo+zai))\n",
"s12=zo*0.75/(za+zo+zai)\n",
"\n",
"\n",
"[s11m,s11a]=z2p(s11)\n",
"[s22m,s22a]=z2p(s22)\n",
"[s21m,s21a]=z2p(s21)\n",
"[s12m,s12a]=z2p(s12)\n",
"\n",
"ret_loss=-20*log10(s11m)\n",
"ins_loss=-20*log10(s21m)\n",
"\n",
"printf('(a) S parameters is , \n')\n",
"printf('s11 (magnitude) = %.3f \n\t(angle) = %.2f degree\n\n',s11m,s11a)\n",
"printf('s12 (magnitude) = %.3f \n\t(angle) = %.2f degree\n\n',s12m,s12a)\n",
"printf('s21 (magnitude) = %.3f \n\t(angle) = %.2f degree\n\n',s21m,s21a)\n",
"printf('s22 (magnitude) = %.3f \n\t(angle) = %.2f degree\n\n',s22m,s22a)\n",
"printf('(b) Return loss = %.3f dB\n\n',ret_loss)\n",
"printf('(c) Insertion loss = %.3f dB\n\n',ins_loss)"
   ]
   }
,
{
		   "cell_type": "markdown",
		   "metadata": {},
		   "source": [
			"## Example 3.18: Example_18.sce"
		   ]
		  },
  {
"cell_type": "code",
	   "execution_count": null,
	   "metadata": {
	    "collapsed": true
	   },
	   "outputs": [],
"source": [
"//Chapter 3, Prblem 18,\n",
"clc\n",
"funcprot(0)\n",
"// A = p2z(R,Theta) - Convert from polar to rectangular form.\n",
"//    R is a matrix containing the magnitudes\n",
"//    Theta is a matrix containing the phase angles (in degrees).\n",
"function [A] = p2z(R,Theta)\n",
" A = R*exp(%i*%pi*Theta/180);\n",
"endfunction\n",
"\n",
"// [R1, Theta1] = z2p(A1) - Display polar form of complex matrix.\n",
"function [R1, Theta1] = z2p(A1)\n",
"     Theta1 = atan(imag(A1),real(A1))*180/%pi;\n",
"     R1=sqrt(real(A1)^2+imag(A1)^2)\n",
"endfunction\n",
"\n",
"\n",
"//transistor S-parameter\n",
"s11=p2z(0.12,-10)\n",
"s12=p2z(0.002,-78)\n",
"s21=p2z(9.8,160)\n",
"s22=p2z(0.01,-15)\n",
"\n",
"[s11m,s11a]=z2p(s11)\n",
"[s22m,s22a]=z2p(s22)\n",
"[s21m,s21a]=z2p(s21)\n",
"[s12m,s12a]=z2p(s12)\n",
"\n",
"vswr=(1+s11m)/(1-s11m)\n",
"ret_loss=-20*log10(s11m)\n",
"Fig=20*log10(s21m)\n",
"Rig=20*log10(s12m)\n",
"\n",
"printf('(a) Input VSWR = %.2f\n\n',vswr)\n",
"printf('(b) Return loss (dB) = %.2f dB\n\n',ret_loss)\n",
"printf('(c) Forward insertion gain = %.2f dB\n\n',Fig)\n",
"printf('(d) Reverse insertion gain = %.2f dB\n\n',Rig)"
   ]
   }
,
{
		   "cell_type": "markdown",
		   "metadata": {},
		   "source": [
			"## Example 3.1: Example_1.sce"
		   ]
		  },
  {
"cell_type": "code",
	   "execution_count": null,
	   "metadata": {
	    "collapsed": true
	   },
	   "outputs": [],
"source": [
"//Chapter 3, Problem 1, Figure 3.4\n",
"clc\n",
"//https://atoms.scilab.org/toolboxes/microwave\n",
"//Download and install the Microwave toolbox from above link and load it from scilab menubar > Toolboxes > microwave\n",
"\n",
"\n",
"//Plot the smith chart \n",
"uW_display_smith([.2 .5 1 2 5],12);\n",
"Z=[0.7-%i*0.2 0.7+%i*0.3 0.3-%i*0.5 0.3+%i*0.3]                 //impedances in matrix form\n",
"\n",
"R2=0\n",
"plot2d(real(R2),imag(R2),-1);\n",
"\n",
"for n=1:length(Z)\n",
"    Z1=50*Z(n)\n",
"    G=(Z1-50)/(Z1+50);\n",
"plot2d(real(G), imag(G),-8);\n",
"xtitle('Smith Chart');\n",
"end;\n",
""
   ]
   }
,
{
		   "cell_type": "markdown",
		   "metadata": {},
		   "source": [
			"## Example 3.2: Example_2.sce"
		   ]
		  },
  {
"cell_type": "code",
	   "execution_count": null,
	   "metadata": {
	    "collapsed": true
	   },
	   "outputs": [],
"source": [
"//Chapter 3, Problem 2\n",
"clc\n",
"//https://atoms.scilab.org/toolboxes/microwave\n",
"//Download and install the Microwave toolbox from above link and load it from scilab menubar > Toolboxes > microwave\n",
"\n",
"funcprot(0)\n",
"\n",
"// A = p2z(R,Theta) - Convert from polar to rectangular form.\n",
"//    R is a matrix containing the magnitudes\n",
"//    Theta is a matrix containing the phase angles (in degrees).\n",
"function [A] = p2z(R,Theta)\n",
" A = R*exp(%i*%pi*Theta/180);\n",
"endfunction\n",
"\n",
"// [R1, Theta1] = z2p(A1) - Display polar form of complex matrix.\n",
"function [R1, Theta1] = z2p(A1)\n",
"     Theta1 = atan(imag(A1),real(A1))*180/%pi;\n",
"     R1=sqrt(real(A1)^2+imag(A1)^2)\n",
"endfunction\n",
"\n",
"//Plot the smith chart \n",
"uW_display_smith([.2 .5 1 2 5],12);\n",
"Z=0.8-%i*1.6;                               //impedance\n",
"Z1=50*Z;                                    //50 = characteristic impedance\n",
"[Zm,Za]=z2p(Z);\n",
"G=(Z1-50)/(Z1+50);                          //reflection coefficient\n",
"Ym=1/Zm                                     //admittance (magnitude)\n",
"Ya=Za*(-1)                                  //admittance (angle)\n",
"Y=p2z(Ym,Ya)\n",
"Y1=50*Y;\n",
"R=(Y1-50)/(Y1+50);\n",
"R2=0\n",
"plot2d(real(R2),imag(R2),-1);\n",
"\n",
"plot2d(real(G),imag(G),-8);\n",
"plot2d(real(R),imag(R),-8);\n",
"xtitle('Smith Chart');\n",
"printf('Admittance value, Y = %.2f + j%.1f',real(Y),imag(Y));"
   ]
   }
,
{
		   "cell_type": "markdown",
		   "metadata": {},
		   "source": [
			"## Example 3.3: Example_3.sce"
		   ]
		  },
  {
"cell_type": "code",
	   "execution_count": null,
	   "metadata": {
	    "collapsed": true
	   },
	   "outputs": [],
"source": [
"//Chapter 3, Problem 3\n",
"clc\n",
"//https://atoms.scilab.org/toolboxes/microwave\n",
"//Download and install the Microwave toolbox from above link and load it from scilab menubar > Toolboxes > microwave\n",
"\n",
"//Plot the smith chart \n",
"uW_display_smith([.2 .5 1 2 5],12);\n",
"r=0.667                                         //radius of VSWR circle\n",
"Z=0.25-%i*0.5;                               //impedance\n",
"Z1=50*Z;                                    //50 = characteristic impedance\n",
"G=(Z1-50)/(Z1+50);                          //reflection coefficient\n",
"R2=0\n",
"plot2d(real(R2),imag(R2),-1);\n",
"plot2d(real(G),imag(G),-8);\n",
"\n",
"//Plot a VSWR circle of radius 0.667\n",
"x=linspace(0,2*%pi,200);\n",
"plot2d(r*cos(x),r*sin(x))\n",
"xtitle('Smith Chart');\n",
"\n",
"\n",
"printf('From smith chart, The answer is %.3f (magnitude) and -124 degree (angle)',r)\n",
"disp('This is shown as point C in Figure 3.11.')"
   ]
   }
,
{
		   "cell_type": "markdown",
		   "metadata": {},
		   "source": [
			"## Example 3.4: Example_4.sce"
		   ]
		  },
  {
"cell_type": "code",
	   "execution_count": null,
	   "metadata": {
	    "collapsed": true
	   },
	   "outputs": [],
"source": [
"//Chapter 3, Problem 4\n",
"clc\n",
"//https://atoms.scilab.org/toolboxes/microwave\n",
"//Download and install the Microwave toolbox from above link and load it from scilab menubar > Toolboxes > microwave\n",
"\n",
"//Plot the smith chart \n",
"uW_display_smith([.2 .5 1 2 5],12);\n",
"r=0.667                                         //radius of VSWR circle\n",
"Z=0.21+%i*0.21;                              //impedance\n",
"Z1=50*Z;                                   //50 = characteristic impedance\n",
"G=(Z1-50)/(Z1+50);                         //reflection coefficient\n",
"R2=0\n",
"plot2d(real(R2),imag(R2),-1);\n",
"plot2d(real(G),imag(G),-8);\n",
"\n",
"//Plot a VSWR circle of radius 0.667\n",
"x=linspace(0,2*%pi,200);\n",
"plot2d(r*cos(x),r*sin(x))\n",
"xtitle('Smith Chart');\n",
"\n",
"\n",
"printf('From smith chart, The answer is %.2f + j%.2f',real(Z),imag(Z))\n",
"disp('This is shown as point E in Figure 3.11.')"
   ]
   }
,
{
		   "cell_type": "markdown",
		   "metadata": {},
		   "source": [
			"## Example 3.6: Example_6.sce"
		   ]
		  },
  {
"cell_type": "code",
	   "execution_count": null,
	   "metadata": {
	    "collapsed": true
	   },
	   "outputs": [],
"source": [
"//Chapter 3, Problem 6\n",
"clc\n",
"//https://atoms.scilab.org/toolboxes/microwave\n",
"//Download and install the Microwave toolbox from above link and load it from scilab menubar > Toolboxes > microwave\n",
"\n",
"funcprot(0)\n",
"\n",
"// [R1, Theta1] = z2p(A1) - Display polar form of complex matrix.\n",
"function [R1, Theta1] = z2p(A1)\n",
"     Theta1 = atan(imag(A1),real(A1))*180/%pi;\n",
"     R1=sqrt(real(A1)^2+imag(A1)^2)\n",
"endfunction\n",
"\n",
"function Zin = zin(d)\n",
"    B=2*%pi*d\n",
"    Zin=Zo*((Zl+(%i*Zo*tan(B)))/(Zo+(%i*Zl*tan(B))))\n",
"endfunction\n",
"\n",
"Zo=50                               //characteristic impedance\n",
"Zl=40-%i*80                         //load impedance\n",
"//line\n",
"d1=0.096\n",
"d2=0.173\n",
"d3=0.206\n",
"\n",
"refl=(Zl-Zo)/(Zl+Zo)                        //reflection coefficient\n",
"[reflm,refla]=z2p(refl)\n",
"SWR=(1+reflm)/(1-reflm)                     //standing wave ratio\n",
"Zin1=zin(d1)\n",
"Zin2=zin(d2)\n",
"Zin3=zin(d3)\n",
"////load impedance is expressed in normalised form\n",
"a=Zl/Zo\n",
"d=0.25-%i*0.5\n",
"f=0.2+%i*0\n",
"h=0.2+%i*0.2\n",
"j=0.25-%i*0.5\n",
"\n",
"\n",
"//Plot the smith chart \n",
"uW_display_smith([.2 .5 1 2 5],12);\n",
"Z=[a d f h j]\n",
"for n=1:length(Z)\n",
"    Z1=50*Z(n)\n",
"    G=(Z1-50)/(Z1+50);\n",
"plot2d(real(G), imag(G),-8);\n",
"end;\n",
"R2=0\n",
"plot2d(real(R2),imag(R2),-1);\n",
"\n",
"//Plot a VSWR circle of radius 0.667\n",
"x=linspace(0,2*%pi,200);\n",
"plot2d(0.66*cos(x),0.66*sin(x))\n",
"xtitle('Smith Chart');\n",
"\n",
"printf('The input impedance Zin of the terminated line \n\n')\n",
"printf('(a) 0.096h = %.2f %.2fj\n\n',real(Zin1),imag(Zin1))\n",
"printf('(a) 0.173h = %.2f + %.2fj\n\n',real(Zin2),imag(Zin2))\n",
"printf('(a) 0.206h = %.2f + %.2fj\n\n',real(Zin3),imag(Zin3))"
   ]
   }
,
{
		   "cell_type": "markdown",
		   "metadata": {},
		   "source": [
			"## Example 3.8: Example_8.sce"
		   ]
		  },
  {
"cell_type": "code",
	   "execution_count": null,
	   "metadata": {
	    "collapsed": true
	   },
	   "outputs": [],
"source": [
"//Chapter 3, Problem 8\n",
"clc\n",
"\n",
"j=0.25+(%i*0.5)                       //Normalised impedance from smith chart\n",
"Zo=50                               //Characteristic impedance\n",
"\n",
"//calculating line impedance at point J in Figure 3.15\n",
"Zl=j*Zo\n",
"\n",
"printf('Line impedance = %.1f + j%d',real(Zl),imag(Zl))"
   ]
   }
,
{
		   "cell_type": "markdown",
		   "metadata": {},
		   "source": [
			"## Example 3.9: Example_9.sce"
		   ]
		  },
  {
"cell_type": "code",
	   "execution_count": null,
	   "metadata": {
	    "collapsed": true
	   },
	   "outputs": [],
"source": [
"//Chapter 3, Problem 9\n",
"clc\n",
"Z0=50                           //characteristic impedance in ohm\n",
"Zl0=5                         //ratio of Z/Z0 \n",
"\n",
"//calculation\n",
"Z0t=sqrt(Zl0)\n",
"Z0t1=Z0*Z0t\n",
"printf('Impedance = %.2f ohm',Z0t1)"
   ]
   }
],
"metadata": {
		  "kernelspec": {
		   "display_name": "Scilab",
		   "language": "scilab",
		   "name": "scilab"
		  },
		  "language_info": {
		   "file_extension": ".sce",
		   "help_links": [
			{
			 "text": "MetaKernel Magics",
			 "url": "https://github.com/calysto/metakernel/blob/master/metakernel/magics/README.md"
			}
		   ],
		   "mimetype": "text/x-octave",
		   "name": "scilab",
		   "version": "0.7.1"
		  }
		 },
		 "nbformat": 4,
		 "nbformat_minor": 0
}
