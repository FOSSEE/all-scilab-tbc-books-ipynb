{
"cells": [
 {
		   "cell_type": "markdown",
	   "metadata": {},
	   "source": [
       "# Chapter 6: High frequency transistor amplifiers"
	   ]
	},
{
		   "cell_type": "markdown",
		   "metadata": {},
		   "source": [
			"## Example 6.10: Example_10.sce"
		   ]
		  },
  {
"cell_type": "code",
	   "execution_count": null,
	   "metadata": {
	    "collapsed": true
	   },
	   "outputs": [],
"source": [
"//Chapter 6, Problem 10\n",
"clc\n",
"id=-2e-3                             //drain current in ampere\n",
"vds=-8                              //drain to source voltage\n",
"vcc=-14                               //supply voltage\n",
"vs=2.1                                  //source voltage\n",
"vp=5                                    //pinch-off voltage\n",
"idss=-6e-3                           //drain–source current when the gate and source are shorted\n",
"\n",
"//calculating the biasing resistors\n",
"vgs=vp*(1-sqrt(id/idss))\n",
"rs=-vgs/id\n",
"vd=-vds+vs\n",
"rd=((vcc+vd)/id)\n",
"\n",
"disp('Since IG = 0, RG = 1 Mohm (approx)')\n",
"printf('\nRs = %d ohm\nRd = %.2f ohm\n\n',rs,rd)"
   ]
   }
,
{
		   "cell_type": "markdown",
		   "metadata": {},
		   "source": [
			"## Example 6.11: Example_11.sce"
		   ]
		  },
  {
"cell_type": "code",
	   "execution_count": null,
	   "metadata": {
	    "collapsed": true
	   },
	   "outputs": [],
"source": [
"//Chapter 6, Problem 11\n",
"clc\n",
"id=5e-3                             //drain current in ampere\n",
"vds=10                              //drain to source voltage\n",
"vcc=18                               //supply voltage\n",
"vs=0.1*vcc                            //source voltage\n",
"vgs=3.2                               //gate to source voltage\n",
"r2=220e3                             //resistance in ohm based upon d.c. input resistance needs\n",
"\n",
"//calculating the biasing resistors\n",
"rs=vs/id\n",
"vg=vgs+vs\n",
"r1=(r2*(vcc-vg)/vg)\n",
"vd=vds+vs\n",
"rd=((vcc-vd)/id)\n",
"\n",
"printf('\nRs = %d ohm\nRd = %.2f ohm\n\n',rs,rd)\n",
"printf('\nR1 = %d Kohm\nR2 = %.2f Kohm\n\n',r1/1000,r2/1000)"
   ]
   }
,
{
		   "cell_type": "markdown",
		   "metadata": {},
		   "source": [
			"## Example 6.12: Example_12.sce"
		   ]
		  },
  {
"cell_type": "code",
	   "execution_count": null,
	   "metadata": {
	    "collapsed": true
	   },
	   "outputs": [],
"source": [
"//Chapter 6, Problem 12\n",
"clc\n",
"id=2e-3                             //drain current in ampere\n",
"vds=6                              //drain to source voltage\n",
"vcc=12                               //supply voltage\n",
"vs=0.1*vcc                            //source voltage\n",
"vgs=1.8                               //gate to source voltage\n",
"r2=220e3                             //resistance in ohm based upon d.c. input resistance needs\n",
"\n",
"//calculating the biasing resistors\n",
"rs=vs/id\n",
"vg=vgs+vs\n",
"r1=(r2*(vcc-vg)/vg)\n",
"vd=vds+vs\n",
"rd=((vcc-vd)/id)\n",
"\n",
"printf('\nRs = %d ohm\nRd = %.2f ohm\n\n',rs,rd)\n",
"printf('\nR1 = %d Kohm\nR2 = %.2f Kohm\n\n',r1/1000,r2/1000)"
   ]
   }
,
{
		   "cell_type": "markdown",
		   "metadata": {},
		   "source": [
			"## Example 6.13: Example_13.sce"
		   ]
		  },
  {
"cell_type": "code",
	   "execution_count": null,
	   "metadata": {
	    "collapsed": true
	   },
	   "outputs": [],
"source": [
"//Chapter 6, Problem 13\n",
"clc\n",
"funcprot(0)\n",
"//using Y-parameters given in the case study\n",
"Yin=(18.33+%i*11.59)*10^-3              //in complex form\n",
"y21=(1.09-%i*17.51)*10^-3               //in complex form\n",
"y22=(0.3+%i*1.57)*10^-3                 //in complex form\n",
"Yl=3.33e-3\n",
"\n",
"//defining a funcion \n",
"deff('[b]=imp1(d)','b={(real(d)^2)+(imag(d)^2)}^0.5');\n",
"deff('[c]=imp2(e)','c=atan(imag(e)/real(e))*180/%pi');\n",
"\n",
"a=y21*Yl\n",
"b=Yin*(y22+Yl)\n",
"\n",
"//calling a function\n",
"[a1]=imp1(a)\n",
"[a2]=imp2(a)\n",
"[b1]=imp1(b)\n",
"[b2]=imp2(b)\n",
"\n",
"Ai1=a1/b1\n",
"Ai2=a2-b2\n",
"\n",
"printf('Ai (magnitude) = %.2f amp\n\n',Ai1)\n",
"printf('Ai (angle) = %.2f degree',Ai2)"
   ]
   }
,
{
		   "cell_type": "markdown",
		   "metadata": {},
		   "source": [
			"## Example 6.14: Example_14.sce"
		   ]
		  },
  {
"cell_type": "code",
	   "execution_count": null,
	   "metadata": {
	    "collapsed": true
	   },
	   "outputs": [],
"source": [
"//Chapter 6, Problem 14\n",
"clc\n",
"//transistor parameter\n",
"yi=(16+%i*11.78)*10^-3              //in complex form\n",
"y0=(1.55+%i*5.97)*10^-3             //in complex form\n",
"gi=16e-3                            //input conductance\n",
"go=0.19e-3                          //output conductance\n",
"yr_mag=1.55e-3                      //magnitude of yr parameter\n",
"yr_ang=258                          //angle of yr parameter\n",
"yf_mag=45e-3                        //magnitude of yf parameter\n",
"yf_ang=285                           //angle of yf parameter\n",
"\n",
"//calculation of stabilty factor\n",
"a=yr_mag*yf_mag\n",
"b=(2*gi*go)+(yr_mag*yf_mag)\n",
"C=a/b\n",
"\n",
"printf('Linvill stability factor C = %.2f ',C)"
   ]
   }
,
{
		   "cell_type": "markdown",
		   "metadata": {},
		   "source": [
			"## Example 6.15: Example_15.sce"
		   ]
		  },
  {
"cell_type": "code",
	   "execution_count": null,
	   "metadata": {
	    "collapsed": true
	   },
	   "outputs": [],
"source": [
"//Chapter 6, Problem 15\n",
"clc\n",
"funcprot(0)\n",
"// A = p2z(R,Theta) - Convert from polar to rectangular form.\n",
"//    R is a matrix containing the magnitudes\n",
"//    Theta is a matrix containing the phase angles (in degrees).\n",
"function [A] = p2z(R,Theta)\n",
" A = R*exp(%i*%pi*Theta/180);\n",
"endfunction\n",
"\n",
"// [R, Theta] = z2p(A) - Display polar form of complex matrix.\n",
"function [R, Theta] = z2p(A)\n",
"     Theta = atan(imag(A),real(A))*180/%pi;\n",
"     R=sqrt(real(A)^2+imag(A)^2)\n",
"endfunction\n",
"\n",
"//transistor parameter\n",
"yi=(4.8+%i*4.52)*10^-3              //in complex form\n",
"y0=(0.05+%i*2.26)*10^-3             //in complex form\n",
"gi=4.8e-3                            //input conductance\n",
"go=0.05e-3                          //output conductance\n",
"yr=p2z(0.90e-3,265)                    //in polar form to complex form\n",
"yf=p2z(61e-3,325)                     //in polar form to complex form\n",
"\n",
"[yrm,yra]=z2p(yr)                       //in complex form to polar form\n",
"[yfm,yfa]=z2p(yf)                       //in complex form to polar form\n",
"\n",
"Zs=50+%i*0\n",
"Zl=1000+%i*0\n",
"Ys=1/Zs\n",
"Yl=1/Zl\n",
"a=2*(gi+Ys)*(go+Yl)\n",
"b=(yfm*yrm)+real(yr*yf)\n",
"K=a/b\n",
"printf('Stern stability factor, K = %.2f ',K)"
   ]
   }
,
{
		   "cell_type": "markdown",
		   "metadata": {},
		   "source": [
			"## Example 6.16: Example_16.sce"
		   ]
		  },
  {
"cell_type": "code",
	   "execution_count": null,
	   "metadata": {
	    "collapsed": true
	   },
	   "outputs": [],
"source": [
"//Chapter 6, Problem 16\n",
"clc\n",
"//transistor Y parameter\n",
"yi=(16+%i*11.78)*10^-3                  //in complex form\n",
"yf_mag=45e-3\n",
"yf_ang=285\n",
"yr_mag=1.55e-3\n",
"yr_ang=258\n",
"yo=0.19+%i*5.97                      //in complex form\n",
"gi=16e-3                            //input conductance in  siemens\n",
"go=0.19e-3                          //output conductance in  siemens\n",
"\n",
"//calculating maximum available gain\n",
"MAG=yf_mag^2/(4*gi*go)\n",
"MAG_db=10*log10(MAG)\n",
"printf('Maximum available gain = %.2f \n\n',MAG)\n",
"printf('Maximum available gain in dB = %.2f dB',MAG_db)"
   ]
   }
,
{
		   "cell_type": "markdown",
		   "metadata": {},
		   "source": [
			"## Example 6.17: Example_17.sce"
		   ]
		  },
  {
"cell_type": "code",
	   "execution_count": null,
	   "metadata": {
	    "collapsed": true
	   },
	   "outputs": [],
"source": [
"//Chapter 6, Problem 17\n",
"clc\n",
"// A = p2z(R,Theta) - Convert from polar to rectangular form.\n",
"//    R is a matrix containing the magnitudes\n",
"//    Theta is a matrix containing the phase angles (in degrees).\n",
"function [A] = p2z(R,Theta)\n",
" A = R*exp(%i*%pi*Theta/180);\n",
"endfunction\n",
"\n",
"//transistor Y parameter\n",
"yi=(17.37+%i*11.28)*10^-3                  //in complex form\n",
"yr_mag=1.17e-3\n",
"yf_mag=130.50e-3\n",
"yr=p2z(1.17e-3,-91)\n",
"yf=p2z(130.50e-3,-69)\n",
"yo=(0.95+%i*3.11)*10^-3                   //in complex form\n",
"f=300e6                                   //frequency in hertz\n",
"Vce=5                                     //base to emitter voltage\n",
"Ic=2e-3                                   //collector current\n",
"gi=17.37e-3                              //input conductance\n",
"go=0.95e-3                               //output conductance\n",
"\n",
"//to calculate linvill stability factor\n",
"a=yf_mag*yr_mag\n",
"b=(2*gi*go)-real(yf*yr)\n",
"c=a/b\n",
"\n",
"//to calculate maximum available gain\n",
"MAG=yf_mag^2/(4*gi*go)\n",
"MAG_db=10*log10(MAG)\n",
"\n",
"//to calculate conjugate input admittance\n",
"m=sqrt(((2*gi*go)-real(yf*yr))^2-(yf_mag*yr_mag)^2)\n",
"n=2*go\n",
"Gs=m/n\n",
"Bs=-imag(yi)+(imag(yf*yr)/(2*go))\n",
"Gsi=Gs+%i*Bs\n",
"\n",
"//to calculate conjugate output admittance\n",
"Gl=Gs*go/gi\n",
"Bl=-imag(yo)+(imag(yf*yr)/(2*gi))\n",
"Gsl=Gl+%i*Bl\n",
"\n",
"//to calculate Stern stability factor\n",
"u=2*(gi+Gs)*(go+Gl)\n",
"v=(yf_mag*yr_mag)+real(yf*yr)\n",
"K=u/v\n",
"\n",
"printf('(1) Linvill stability factor C = %.2f\n\n',c)\n",
"printf('(2) Maximum available gain (MAG) = %.2f dB\n\n',MAG_db)\n",
"printf('(3) Conjugate input admittance \n\treal = %.2f mS \n\timaginary = %.2f mS\n\n',real(Gsi)*1000,imag(Gsi)*1000)\n",
"printf('(4) Conjugate output admittance \n\treal = %.2f mS \n\timaginary = %.2f mS\n\n',real(Gsl)*1000,imag(Gsl)*1000)\n",
"printf('(5) Stern stability factor K = %.2f',K)\n",
"\n",
"\n",
"\n",
"\n",
""
   ]
   }
,
{
		   "cell_type": "markdown",
		   "metadata": {},
		   "source": [
			"## Example 6.18: Example_18.sce"
		   ]
		  },
  {
"cell_type": "code",
	   "execution_count": null,
	   "metadata": {
	    "collapsed": true
	   },
	   "outputs": [],
"source": [
"//Chapter 6, Problem 18\n",
"clc\n",
"funcprot(0)\n",
"// A = p2z(R,Theta) - Convert from polar to rectangular form.\n",
"//    R is a matrix containing the magnitudes\n",
"//    Theta is a matrix containing the phase angles (in degrees).\n",
"function [A] = p2z(R,Theta)\n",
" A = R*exp(%i*%pi*Theta/180);\n",
"endfunction\n",
"\n",
"// [R1, Theta1] = z2p(A1) - Display polar form of complex matrix.\n",
"function [R1, Theta1] = z2p(A1)\n",
"     Theta1 = atan(imag(A1),real(A1))*180/%pi;\n",
"     R1=sqrt(real(A1)^2+imag(A1)^2)\n",
"endfunction\n",
"\n",
"\n",
"//transistor Y parameter\n",
"yi=(17.37+%i*11.28)*10^-3                  //in complex form\n",
"yr_mag=1.17e-3\n",
"yf_mag=130.50e-3\n",
"yr=p2z(1.17e-3,-91)\n",
"yf=p2z(130.50e-3,-69)\n",
"yo=(0.95+%i*3.11)*10^-3                   //in complex form\n",
"f=300e6                                   //frequency in hertz\n",
"Vce=5                                     //base to emitter voltage\n",
"Ic=2e-3                                   //collector current\n",
"gi=17.37e-3                              //input conductance\n",
"go=0.95e-3                               //output conductance\n",
"\n",
"//to calculate conjugate input admittance\n",
"m=sqrt(((2*gi*go)-real(yf*yr))^2-(yf_mag*yr_mag)^2)\n",
"n=2*go\n",
"Gs=m/n\n",
"Bs=-imag(yi)+(imag(yf*yr)/(2*go))\n",
"Gsi=Gs+%i*Bs\n",
"\n",
"//to calculate conjugate output admittance\n",
"Gl=Gs*go/gi\n",
"Bl=-imag(yo)+(imag(yf*yr)/(2*gi))\n",
"Gsl=Gl+%i*Bl\n",
"\n",
"\n",
"num=4*Gs*Gl*(yf_mag)^2\n",
"den=((yi+Gsi)*(yo+Gsl))-(yf*yr)\n",
"[denm,dena]=z2p(den)\n",
"Gt=num/denm^2\n",
"Gt_db=10*log10(Gt)\n",
"printf('Transducer gain = %.2f dB',Gt_db)"
   ]
   }
,
{
		   "cell_type": "markdown",
		   "metadata": {},
		   "source": [
			"## Example 6.19: Example_19.sce"
		   ]
		  },
  {
"cell_type": "code",
	   "execution_count": null,
	   "metadata": {
	    "collapsed": true
	   },
	   "outputs": [],
"source": [
"//Chapter 6, Problem 18\n",
"clc\n",
"// A = p2z(R,Theta) - Convert from polar to rectangular form.\n",
"//    R is a matrix containing the magnitudes\n",
"//    Theta is a matrix containing the phase angles (in degrees).\n",
"function [A] = p2z(R,Theta)\n",
" A = R*exp(%i*%pi*Theta/180);\n",
"endfunction\n",
"\n",
"//transistor parameter\n",
"yi=(2.25+%i*7.2)*10^-3\n",
"yr=p2z(0.70e-3,-85.9)\n",
"yf=p2z(44.72e-3,-26.6)\n",
"yo=(0.4+%i*1.9)*10^-3\n",
"yr_mag=0.70e-3\n",
"yf_mag=44.72e-3\n",
"Rs=250\n",
"Gs=1/Rs\n",
"K=3                                     //stern stability factor\n",
"gi=2.25e-3                            //input conductance\n",
"go=0.4e-3                            //output conductance\n",
"a=K*((yr_mag*yf_mag)+real(yf*yr))\n",
"b=2*(gi+Gs)\n",
"Gl=(a/b)-go\n",
"\n",
"Bl=-imag(yo)\n",
"Yl=Gl+%i*Bl\n",
"\n",
"yin=yi-((yr*yf)/(yo+Yl))\n",
"\n",
"Bs=-imag(yin)\n",
"Ys=Gs+%i*Bs\n",
"\n",
"num=4*Gs*Gl*(yf_mag)^2\n",
"den=real(((yi+Ys)*(yo+Yl))-(yf*yr))^2\n",
"Gt=num/den\n",
"Gt_db=10*log10(Gt)\n",
"\n",
"printf('(a) Load admittance Yl \n\treal = %.2f mS \n\timaginary = %.2f mS\n\n',real(Yl)*1000,imag(Yl)*1000)\n",
"printf('(b) Source admittance Ys \n\treal = %.2f mS \n\timaginary = %.2f mS\n\n',real(Ys)*1000,imag(Ys)*1000)\n",
"printf('(c) Transducer gain = %.2f dB',Gt_db)"
   ]
   }
,
{
		   "cell_type": "markdown",
		   "metadata": {},
		   "source": [
			"## Example 6.1: Example_1.sce"
		   ]
		  },
  {
"cell_type": "code",
	   "execution_count": null,
	   "metadata": {
	    "collapsed": true
	   },
	   "outputs": [],
"source": [
"//Chapter 6, Problem 1\n",
"clc\n",
"hfe=200                             //dc current gain\n",
"vcc=10                              //supply voltage\n",
"vbe=0.7                             //base to emitter voltage\n",
"ic=1e-3                             //collector current\n",
"vc=5                                //collector voltage\n",
"\n",
"//calculation of operating point\n",
"ib=ic/hfe\n",
"rf=(vc-vbe)/ib\n",
"rc=(vcc-vc)/(ic+ib)\n",
"printf('Operating point Rc = %.3f Kohm',rc/1000)"
   ]
   }
,
{
		   "cell_type": "markdown",
		   "metadata": {},
		   "source": [
			"## Example 6.2: Example_2.sce"
		   ]
		  },
  {
"cell_type": "code",
	   "execution_count": null,
	   "metadata": {
	    "collapsed": true
	   },
	   "outputs": [],
"source": [
"//Chapter 6, Problem 2\n",
"clc\n",
"hfe=250                             //dc current gain\n",
"vcc=24                              //supply voltage\n",
"vbe=0.7                             //base to emitter voltage\n",
"ic=2e-3                             //collector current\n",
"vc=12                                //collector voltage\n",
"\n",
"//calculation of operating point\n",
"ib=ic/hfe\n",
"rf=(vc-vbe)/ib\n",
"rc=(vcc-vc)/(ic+ib)\n",
"printf('Operating point Rc = %.3f Kohm',rc/1000)"
   ]
   }
,
{
		   "cell_type": "markdown",
		   "metadata": {},
		   "source": [
			"## Example 6.3: Example_3.sce"
		   ]
		  },
  {
"cell_type": "code",
	   "execution_count": null,
	   "metadata": {
	    "collapsed": true
	   },
	   "outputs": [],
"source": [
"//Chapter 6, Problem 3\n",
"clc\n",
"vbe=0.7                             //base to emitter voltage\n",
"vcc=20                              //supply voltage\n",
"vc=10                                //collector voltage\n",
"ic=5e-3                             //collector current\n",
"hfe=150                             //dc current gain\n",
"vbb=2\n",
"ibb=1e-3\n",
"\n",
"//calculating the biasing resistors\n",
"ib=ic/hfe\n",
"rb=(vbb-vbe)/ib\n",
"r1=vbb/ibb\n",
"rf=((vc-vbb)/(ibb+ib))\n",
"rc=((vcc-vc)/(ic+ib+ibb))\n",
"\n",
"disp('Biasing resistors is given by')\n",
"printf('R1 = %d Kohm\nRb = %.2f Kohm\nRc = %.2f Kohm\nRf = %.2f Kohm',r1/1000,rb/1000,rc/1000,rf/1000)"
   ]
   }
,
{
		   "cell_type": "markdown",
		   "metadata": {},
		   "source": [
			"## Example 6.4: Example_4.sce"
		   ]
		  },
  {
"cell_type": "code",
	   "execution_count": null,
	   "metadata": {
	    "collapsed": true
	   },
	   "outputs": [],
"source": [
"//Chapter 6, Problem 4\n",
"clc\n",
"vbe=0.7                             //base to emitter voltage\n",
"ic=1e-3                            //collector current\n",
"vc=6                               //collector voltage\n",
"hf1=100                             //dc current gain\n",
"hf2=250                             //dc current gain\n",
"vcc=12                              //supply voltage\n",
"vbb=1.5\n",
"ibb=0.5e-3\n",
"\n",
"//calculating the biasing resistors\n",
"hfe=sqrt(hf1*hf2)\n",
"ib=ic/hfe\n",
"rb=((vbb-vbe)/ib)\n",
"r1=vbb/ibb\n",
"rf=((vc-vbb)/(ibb+ib))\n",
"rc=((vcc-vc)/(ic+ib+ibb))\n",
"\n",
"disp('Biasing resistor is given by\n')\n",
"printf('R1 = %d Kohm\nRb = %.2f Kohm\nRc = %.2f Kohm\nRf = %.2f Kohm',r1/1000,rb/1000,rc/1000,rf/1000)\n",
""
   ]
   }
,
{
		   "cell_type": "markdown",
		   "metadata": {},
		   "source": [
			"## Example 6.5: Example_5.sce"
		   ]
		  },
  {
"cell_type": "code",
	   "execution_count": null,
	   "metadata": {
	    "collapsed": true
	   },
	   "outputs": [],
"source": [
"//Chapter 6, Problem 5\n",
"clc\n",
"vbe=0.7                             //base to emitter voltage\n",
"ic=10e-3                            //collector current\n",
"vc=10                               //collector voltage\n",
"vcc=20                              //supply voltage\n",
"hfe=50                             //dc current gain\n",
"\n",
"\n",
"//calculating the biasing resistors\n",
"ie=ic                               //assuming for high gain transistor\n",
"ve=(10/100)*vcc\n",
"re=ve/ie\n",
"rc=((vcc-vc)/ic)\n",
"ib=ic/hfe\n",
"vbb=ve+vbe\n",
"ibb=10*ib\n",
"r2=vbb/ibb\n",
"r1=((vcc-vbb)/(ibb+ib))\n",
"\n",
"disp('Biasing resistor is given by\n')\n",
"printf('R1 = %d ohm\nR2 = %.2f ohm\nRc = %.2f ohm\nRe = %.2f ohm',r1,r2,rc,re)"
   ]
   }
,
{
		   "cell_type": "markdown",
		   "metadata": {},
		   "source": [
			"## Example 6.6: Example_6.sce"
		   ]
		  },
  {
"cell_type": "code",
	   "execution_count": null,
	   "metadata": {
	    "collapsed": true
	   },
	   "outputs": [],
"source": [
"//Chapter 6, Problem 6\n",
"clc\n",
"vbe=0.7                             //base to emitter voltage\n",
"ic=1e-3                            //collector current\n",
"vc=6                               //collector voltage\n",
"vcc=12                              //supply voltage\n",
"hf1=100                             //dc current gain\n",
"hf2=250                             //dc current gain\n",
"ibb=0.5e-3\n",
"\n",
"//calculating the biasing resistors\n",
"ie=ic\n",
"hfe=sqrt(hf1*hf2)\n",
"ve=(10/100)*vcc\n",
"re=ve/ie\n",
"rc=((vcc-vc)/ic)\n",
"ib=ic/hfe\n",
"vbb=ve+vbe\n",
"r2=vbb/ibb\n",
"r1=((vcc-vbb)/(ibb+ib))\n",
"\n",
"disp('Biasing resistor is given by\n')\n",
"printf('R1 = %.2f Kohm\nR2 = %.2f Kohm\nRc = %.2f Kohm\nRe = %.2f Kohm',r1/1000,r2/1000,rc/1000,re/1000)"
   ]
   }
,
{
		   "cell_type": "markdown",
		   "metadata": {},
		   "source": [
			"## Example 6.7: Example_7.sce"
		   ]
		  },
  {
"cell_type": "code",
	   "execution_count": null,
	   "metadata": {
	    "collapsed": true
	   },
	   "outputs": [],
"source": [
"//Chapter 6, Problem 7, figure 6.13\n",
"clc\n",
"vcc=24                                  //supply voltage\n",
"vds=10                                  //drain to source voltage\n",
"id=5e-3                                 //drain current\n",
"vgs=2.3                                 //gate to source voltage\n",
"vs=2.3                                  //source voltage\n",
"vp=-8                                   //pinch-off voltage\n",
"idss=10e-3                              //drain–source current when the gate and source are shorted\n",
"\n",
"//calculating the biasing resistors\n",
"rs=vgs/id\n",
"vd=vds+vs\n",
"rd=(vcc-vd)/id\n",
"vgs=vp*(1-sqrt(id/idss))\n",
"\n",
"disp('Since IG = 0, RG = 1 Mohm (approx)')\n",
"printf('Rs = %.2f ohm\nRd = %.2f ohm\n\n',rs,rd)\n",
""
   ]
   }
,
{
		   "cell_type": "markdown",
		   "metadata": {},
		   "source": [
			"## Example 6.8: Example_8.sce"
		   ]
		  },
  {
"cell_type": "code",
	   "execution_count": null,
	   "metadata": {
	    "collapsed": true
	   },
	   "outputs": [],
"source": [
"//Chapter 6, Problem 8\n",
"clc\n",
"id=2e-3                             //drain current in ampere\n",
"vds=12                              //drain to source voltage\n",
"vcc=24                              //supply voltage\n",
"idss=8e-3                           //drain–source current when the gate and source are shorted\n",
"vp=-6                               //pinch-off voltage\n",
"\n",
"//calculating the biasing resistors\n",
"vgs=vp*(1-sqrt(id/idss))\n",
"rs=-vgs/id\n",
"vs=-vgs\n",
"vd=vds+vs\n",
"rd=((vcc-vd)/id)\n",
"\n",
"disp('Since IG = 0, RG = 1 Mohm (approx)')\n",
"printf('Rs = %d ohm\nRd = %.2f ohm\n\n',rs,rd)\n",
""
   ]
   }
,
{
		   "cell_type": "markdown",
		   "metadata": {},
		   "source": [
			"## Example 6.9: Example_9.sce"
		   ]
		  },
  {
"cell_type": "code",
	   "execution_count": null,
	   "metadata": {
	    "collapsed": true
	   },
	   "outputs": [],
"source": [
"//Chapter 6, Problem 9\n",
"clc\n",
"id=-5e-3                             //drain current in ampere\n",
"vds=-10                              //drain to source voltage\n",
"vcc=-24                              //supply voltage\n",
"idss=8e-3                           //drain–source current when the gate and source are shorted\n",
"vp=-6                               //pinch-off voltage\n",
"vgs=2.3                             //gate to source voltage\n",
"\n",
"//calculating the biasing resistors\n",
"rs=-vgs/id\n",
"vs=-vgs\n",
"vd=vds+vs\n",
"rd=((vcc-vd)/id)\n",
"\n",
"disp('Since IG = 0, RG = 1 Mohm (approx)')\n",
"printf('\nRs = %.2f ohm\nRd = %.2f ohm\n\n',rs,rd)"
   ]
   }
],
"metadata": {
		  "kernelspec": {
		   "display_name": "Scilab",
		   "language": "scilab",
		   "name": "scilab"
		  },
		  "language_info": {
		   "file_extension": ".sce",
		   "help_links": [
			{
			 "text": "MetaKernel Magics",
			 "url": "https://github.com/calysto/metakernel/blob/master/metakernel/magics/README.md"
			}
		   ],
		   "mimetype": "text/x-octave",
		   "name": "scilab",
		   "version": "0.7.1"
		  }
		 },
		 "nbformat": 4,
		 "nbformat_minor": 0
}
