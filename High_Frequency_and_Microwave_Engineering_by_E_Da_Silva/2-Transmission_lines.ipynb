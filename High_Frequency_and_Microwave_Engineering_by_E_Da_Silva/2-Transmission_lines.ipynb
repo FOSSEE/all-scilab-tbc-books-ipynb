{
"cells": [
 {
		   "cell_type": "markdown",
	   "metadata": {},
	   "source": [
       "# Chapter 2: Transmission lines"
	   ]
	},
{
		   "cell_type": "markdown",
		   "metadata": {},
		   "source": [
			"## Example 2.10: Example_10.sce"
		   ]
		  },
  {
"cell_type": "code",
	   "execution_count": null,
	   "metadata": {
	    "collapsed": true
	   },
	   "outputs": [],
"source": [
"//Chapter 2, Problem 10\n",
"clc\n",
"ref=0.1                          //reflection coefficient\n",
"\n",
"//calculation of voltage standing wave ratio\n",
"Vswr=(1+ref)/(1-ref)\n",
"\n",
"printf('VSWR = %.2f',Vswr)"
   ]
   }
,
{
		   "cell_type": "markdown",
		   "metadata": {},
		   "source": [
			"## Example 2.11: Example_11.sce"
		   ]
		  },
  {
"cell_type": "code",
	   "execution_count": null,
	   "metadata": {
	    "collapsed": true
	   },
	   "outputs": [],
"source": [
"//Chapter 2, Problem 11\n",
"clc\n",
"Vswr=1.07                   //voltage standing wave ratio\n",
"Z0=50                       //characteristic impedance in ohm\n",
"\n",
"//calculation of power reflected in percent\n",
"ref=(Vswr-1)/(Vswr+1)\n",
"Pref=(ref^2*100)\n",
"\n",
"printf('Reflected power = %.1f percentage of power incident',Pref)"
   ]
   }
,
{
		   "cell_type": "markdown",
		   "metadata": {},
		   "source": [
			"## Example 2.12: Example_12.sce"
		   ]
		  },
  {
"cell_type": "code",
	   "execution_count": null,
	   "metadata": {
	    "collapsed": true
	   },
	   "outputs": [],
"source": [
"//Chapter 2, Problem 12\n",
"clc\n",
"funcprot(0)\n",
"R=23                                //resistance in ohm\n",
"G=4*10^-3                           //conductance in siemens\n",
"L=125*10^-6                         //inductance in henry\n",
"C=48*10^-9                          //capacitance in farad\n",
"\n",
"//list of frequencies in hertz\n",
"f1=100\n",
"f2=500\n",
"f3=15000\n",
"f4=5*10^6\n",
"f5=10*10^6\n",
"\n",
"//calculation of characteristic impedance by declaring the function\n",
"function [c,d,e,f]=myfct(u,v,x,y,z)\n",
"  a=u+%i*2*%pi*z*v\n",
"  b=x+%i*2*%pi*z*y\n",
"  m=sqrt(a*b)\n",
"  n=sqrt(a/b)\n",
"  c=sqrt(real(m)^2+imag(m)^2)\n",
"  d=atan(imag(m),real(m))\n",
"  e=sqrt(real(n)^2+imag(n)^2)\n",
"  f=atan(imag(n),real(n))\n",
"endfunction\n",
"\n",
"[y1,z1,x1,v1]=myfct(R,L,G,C,f1)\n",
"[y2,z2,x2,v2]=myfct(R,L,G,C,f2)\n",
"[y3,z3,x3,v3]=myfct(R,L,G,C,f3)\n",
"[y4,z4,x4,v4]=myfct(R,L,G,C,f4)\n",
"[y5,z5,x5,v5]=myfct(R,L,G,C,f5)\n",
"\n",
"printf('(a)for 100 Hz \n\tPropagation constant is \n\t\t= %f (magnitude)\n\t\t= %f (angle)\n\n\tCharacteristic impedance Z0 is \n\t\t= %f ohm(magnitude)\n\t\t= %f (angle)\n\n',y1,z1,x1,v1)\n",
"printf('(b)for 500 Hz \n\tPropagation constant is \n\t\t= %f (magnitude)\n\t\t= %f (angle)\n\n\tCharacteristic impedance Z0 is \n\t\t= %f ohm(magnitude)\n\t\t= %f (angle)\n\n',y2,z2,x2,v2)\n",
"printf('(c)for 15 KHz \n\tPropagation constant is \n\t\t= %f (magnitude)\n\t\t= %f (angle)\n\n\tCharacteristic impedance Z0 is \n\t\t= %f ohm(magnitude)\n\t\t= %f (angle)\n\n',y3,z3,x3,v3)\n",
"printf('(d)for 5 MHz \n\tPropagation constant is \n\t\t= %f (magnitude)\n\t\t= %f (angle)\n\n\tCharacteristic impedance Z0 is \n\t\t= %f ohm(magnitude)\n\t\t= %f (angle)\n\n',y4,z4,x4,v4)\n",
"printf('(e)for 10 MHz \n\tPropagation constant is \n\t\t= %f (magnitude)\n\t\t= %f (angle)\n\n\tCharacteristic impedance Z0 is \n\t\t= %f ohm(magnitude)\n\t\t= %f (angle)\n\n',y5,z5,x5,v5)"
   ]
   }
,
{
		   "cell_type": "markdown",
		   "metadata": {},
		   "source": [
			"## Example 2.13: Example_13.sce"
		   ]
		  },
  {
"cell_type": "code",
	   "execution_count": null,
	   "metadata": {
	    "collapsed": true
	   },
	   "outputs": [],
"source": [
"//Chapter 2, Problem 13\n",
"clc\n",
"Z0=377                                  //characteristic impedance in ohm\n",
"l=1/7                                   //electrical length\n",
"\n",
"//calculation of input impedance\n",
"Zin=%i*Z0*tan(2*%pi*l)\n",
"\n",
"printf('Input impedance = j%.1f  ohm',imag(Zin))"
   ]
   }
,
{
		   "cell_type": "markdown",
		   "metadata": {},
		   "source": [
			"## Example 2.14: Example_14.sce"
		   ]
		  },
  {
"cell_type": "code",
	   "execution_count": null,
	   "metadata": {
	    "collapsed": true
	   },
	   "outputs": [],
"source": [
"//Chapter 2, Problem 14\n",
"clc\n",
"Z0=75                                  //characteristic impedance in ohm\n",
"l=1/5                                   //electrical length\n",
"\n",
"//calculation of input impedance\n",
"Zin=-%i*Z0*cotg(2*%pi*l)\n",
"\n",
"printf('Input impedance = %.1fj ohm',imag(Zin))"
   ]
   }
,
{
		   "cell_type": "markdown",
		   "metadata": {},
		   "source": [
			"## Example 2.15: Example_15.sce"
		   ]
		  },
  {
"cell_type": "code",
	   "execution_count": null,
	   "metadata": {
	    "collapsed": true
	   },
	   "outputs": [],
"source": [
"//Chapter 2, Problem 15\n",
"clc\n",
"Zl=20                           //load impedance in ohm\n",
"Z0=90                           //characteristic impedance in ohm\n",
"l=1/4                           //electrical length\n",
"\n",
"//calculation of input impedance\n",
"Zin=(Z0)^2/Zl \n",
"printf('Input impedance = %d ohm ',Zin);"
   ]
   }
,
{
		   "cell_type": "markdown",
		   "metadata": {},
		   "source": [
			"## Example 2.2: Example_2.sce"
		   ]
		  },
  {
"cell_type": "code",
	   "execution_count": null,
	   "metadata": {
	    "collapsed": true
	   },
	   "outputs": [],
"source": [
"//Chapter 2, Problem 2\n",
"clc\n",
"D=300e-3                    //distance in meter between the two wire \n",
"d=4e-3                      //diameter in meter of a conductor \n",
"e=1                         //relative dielectric \n",
"\n",
"//calculating the characteristic impedance of the type of parallel transmission line\n",
"z0=(276/sqrt(e))*log10(2*D/d)\n",
"printf('Characteristic impedance, Z0 = %d ohm',z0)"
   ]
   }
,
{
		   "cell_type": "markdown",
		   "metadata": {},
		   "source": [
			"## Example 2.4: Example_4.sce"
		   ]
		  },
  {
"cell_type": "code",
	   "execution_count": null,
	   "metadata": {
	    "collapsed": true
	   },
	   "outputs": [],
"source": [
"//Chapter 2, Problem 4\n",
"clc\n",
"funcprot(0)\n",
"R=23                            //resistance in ohm\n",
"G=4*10^-3                       //conductance in siemens\n",
"L=125*10^-6                     //inductance in henry\n",
"C=48*10^-9                      //capacitance in farad\n",
"\n",
"//list of frequencies in hertz\n",
"f1=100\n",
"f2=500\n",
"f3=15e3\n",
"f4=5e6\n",
"f5=10e6\n",
"\n",
"deff('[a]=imp(R,G,L,C,f)','a=sqrt((R+(%i*2*%pi*f*L))/(G+(%i*2*%pi*f*C)))');\n",
"deff('[b]=imp1(d)','b={(real(d)^2)+(imag(d)^2)}^0.5');\n",
"deff('[c]=imp2(e)','c=atan(imag(e),real(e))');\n",
"[Z01]=imp(R,G,L,C,f1)\n",
"[Z_mag1]=imp1(Z01)\n",
"[Z_ang1]=imp2(Z01)\n",
"[Z02]=imp(R,G,L,C,f2)\n",
"[Z_mag2]=imp1(Z02)\n",
"[Z_ang2]=imp2(Z02)\n",
"[Z03]=imp(R,G,L,C,f3)\n",
"[Z_mag3]=imp1(Z03)\n",
"[Z_ang3]=imp2(Z03)\n",
"[Z04]=imp(R,G,L,C,f4)\n",
"[Z_mag4]=imp1(Z04)\n",
"[Z_ang4]=imp2(Z04)\n",
"[Z05]=imp(R,G,L,C,f5)\n",
"[Z_mag5]=imp1(Z05)\n",
"[Z_ang5]=imp2(Z05)\n",
"\n",
"printf('Characteristic impedance Z0 for a given frequency is,\n\n')\n",
"printf('(a) for 100 Hz, \nZ0(magnitude) = %.2f ohm\n Z0(angle) = %f rad\n\n',Z_mag1,Z_ang1)\n",
"printf('(b) for 500 Hz, \n Z0(magnitude) = %.2f ohm\n Z0(angle) = %f rad\n\n',Z_mag2,Z_ang2)\n",
"printf('(c) for 15 KHz, \n Z0(magnitude) = %.2f ohm\n Z0(angle) = %f rad\n\n',Z_mag3,Z_ang3)\n",
"printf('(d) for 5 MHz, \nZ0(magnitude) = %.2f ohm\n Z0(angle) = %f rad\n\n',Z_mag4,Z_ang4)\n",
"printf('(e) for 10 MHz, \n Z0(magnitude) = %.2f ohm\n Z0(angle) = %f rad\n\n',Z_mag5,Z_ang5)"
   ]
   }
,
{
		   "cell_type": "markdown",
		   "metadata": {},
		   "source": [
			"## Example 2.5: Example_5.sce"
		   ]
		  },
  {
"cell_type": "code",
	   "execution_count": null,
	   "metadata": {
	    "collapsed": true
	   },
	   "outputs": [],
"source": [
"//Chapter 2, Problem 5\n",
"clc\n",
"f=1.6*10^6                          //frequency in hertz\n",
"Zoc_mag=900                         //magnitude in ohm of open circuit impedance \n",
"Zoc_ang=-30                         //angle in degree of open circuit impedance\n",
"Zsc_mag=400                         //magnitude in ohm of short circuit impedance\n",
"Zsc_ang=-10                         //angle in degree of short circuit impedance\n",
"\n",
"//calculation of charactersitics impedance\n",
"Z0_mag=sqrt(Zoc_mag*Zsc_mag)\n",
"Z0_ang=Zoc_ang-Zsc_ang\n",
"\n",
"printf('Z0 (magnitude) = %d ohm\n Z0(angle) = %d degree',Z0_mag,Z0_ang)"
   ]
   }
,
{
		   "cell_type": "markdown",
		   "metadata": {},
		   "source": [
			"## Example 2.6: Example_6.sce"
		   ]
		  },
  {
"cell_type": "code",
	   "execution_count": null,
	   "metadata": {
	    "collapsed": true
	   },
	   "outputs": [],
"source": [
"//Chapter 2, Problem 6\n",
"clc\n",
"a=2                                 //attenuation constant\n",
"l=10                                //length in Km\n",
"\n",
"//calculation of loss in dB\n",
"a10=a*l\n",
"loss=8.686*a10\n",
"\n",
"printf('Loss in dB = %.2f dB',loss)"
   ]
   }
,
{
		   "cell_type": "markdown",
		   "metadata": {},
		   "source": [
			"## Example 2.7: Example_7.sce"
		   ]
		  },
  {
"cell_type": "code",
	   "execution_count": null,
	   "metadata": {
	    "collapsed": true
	   },
	   "outputs": [],
"source": [
"//Chapter 2, Problem 7\n",
"clc\n",
"Zl=80-%i*10                     //load impedance in complex form\n",
"Z0=50                           //characteristic impedance in ohm\n",
"\n",
"//calculation of reflection coefficient\n",
"ref=(Zl-Z0)/(Zl+Z0)\n",
"ref_mag={(real(ref)^2)+(imag(ref)^2)}^0.5\n",
"ref_ang=atan(imag(ref)/real(ref))\n",
"\n",
"printf('Reflection coefficient is given by \n magnitude = %.2f \n angle = %.2f degree',ref_mag,ref_ang*180/%pi)"
   ]
   }
,
{
		   "cell_type": "markdown",
		   "metadata": {},
		   "source": [
			"## Example 2.8: Example_8.sce"
		   ]
		  },
  {
"cell_type": "code",
	   "execution_count": null,
	   "metadata": {
	    "collapsed": true
	   },
	   "outputs": [],
"source": [
"//Chapter 2, Problem 8\n",
"clc\n",
"Z0=50                                   //characteristic impedance in ohm\n",
"//load impedance in ohm\n",
"Zl1=50\n",
"Zl2=0\n",
"Zl3=75\n",
"\n",
"//calculation of reflection coefficient\n",
"ref1=(Zl1-Z0)/(Zl1+Z0)\n",
"ref2=1\n",
"ref3=(Zl2-Z0)/(Zl2+Z0)\n",
"ref4=(Zl3-Z0)/(Zl3+Z0)\n",
"printf('(a) with Zl = 50, reflection coefficient is \n magnitude = %f \n angle = %d degree\n\n',ref1,ref1)\n",
"printf('(b) with Zl = open circuit , reflection coefficient is \n magnitude = %f \n angle = %d degree\n\n',ref2,angle=0)\n",
"printf('(c) with Zl = short circuit, reflection coefficient is \n magnitude = %f \n angle = %d degree\n\n',ref3,angle2=0)\n",
"printf('(d) with Zl = 75, reflection coefficient is \n magnitude = %f \n angle = %d degree\n\n',ref4,angle3=0)"
   ]
   }
,
{
		   "cell_type": "markdown",
		   "metadata": {},
		   "source": [
			"## Example 2.9: Example_9.sce"
		   ]
		  },
  {
"cell_type": "code",
	   "execution_count": null,
	   "metadata": {
	    "collapsed": true
	   },
	   "outputs": [],
"source": [
"//Chapter 2, Problem 9\n",
"clc\n",
"Vin=100                         //incident voltage\n",
"Vref=10                         //reflected voltage\n",
"\n",
"//calculation of voltage standing wave ratio\n",
"Vswr=(Vin+Vref)/(Vin-Vref)\n",
"\n",
"printf('VSWR = %.2f',Vswr)"
   ]
   }
],
"metadata": {
		  "kernelspec": {
		   "display_name": "Scilab",
		   "language": "scilab",
		   "name": "scilab"
		  },
		  "language_info": {
		   "file_extension": ".sce",
		   "help_links": [
			{
			 "text": "MetaKernel Magics",
			 "url": "https://github.com/calysto/metakernel/blob/master/metakernel/magics/README.md"
			}
		   ],
		   "mimetype": "text/x-octave",
		   "name": "scilab",
		   "version": "0.7.1"
		  }
		 },
		 "nbformat": 4,
		 "nbformat_minor": 0
}
