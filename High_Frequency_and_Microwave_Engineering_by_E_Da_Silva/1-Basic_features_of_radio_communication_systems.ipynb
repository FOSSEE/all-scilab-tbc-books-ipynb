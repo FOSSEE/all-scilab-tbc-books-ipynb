{
"cells": [
 {
		   "cell_type": "markdown",
	   "metadata": {},
	   "source": [
       "# Chapter 1: Basic features of radio communication systems"
	   ]
	},
{
		   "cell_type": "markdown",
		   "metadata": {},
		   "source": [
			"## Example 1.1: Example_1.sce"
		   ]
		  },
  {
"cell_type": "code",
	   "execution_count": null,
	   "metadata": {
	    "collapsed": true
	   },
	   "outputs": [],
"source": [
"//Chapter 1, Example 1.1\n",
"clc\n",
"E=10e-6                             //electric field strength in volts/metre\n",
"Z=377                               //wave impedance in ohm\n",
"A=5                                 //area in metre square\n",
"\n",
"//calculating magnetic field strength\n",
"H=E/Z\n",
"//calculating incident power\n",
"P=E*H*A\n",
"\n",
"printf('(a) Magnetic field strength = %.3f nA/m\n\n',H*10^9)\n",
"printf('(b) Incident power on a recieving aerial = %.3f pW\n\n',P*10^12)"
   ]
   }
,
{
		   "cell_type": "markdown",
		   "metadata": {},
		   "source": [
			"## Example 1.2: Example_2.sce"
		   ]
		  },
  {
"cell_type": "code",
	   "execution_count": null,
	   "metadata": {
	    "collapsed": true
	   },
	   "outputs": [],
"source": [
"//Chapter 1, Example 1.2\n",
"clc\n",
"E=10e-6                           //electric field strength in volts/metre\n",
"Z=377                             //wave impedance in ohm\n",
"P=2.65*10^-13                     //power incident on a surface area 1m2\n",
"\n",
"D1=10                             //distance in kilometre\n",
"D2=100                            //distance in kilometre\n",
"P1=(D1/D2)^2                      //power density factor\n",
"PD=P1*P                           //power dentity in W/m2\n",
"\n",
"Erms=sqrt(PD*Z)                   //Erms at 100Km\n",
"Hrms=Erms/Z                       //Hrms at 100Km\n",
"printf('(a) Erms at 100km = %.3f microV/m\n\n',Erms*10^6)\n",
"printf('(b) Hrms at 100km = %.3f nA/m\n\n',Hrms*10^9)"
   ]
   }
,
{
		   "cell_type": "markdown",
		   "metadata": {},
		   "source": [
			"## Example 1.3: Example_3.sce"
		   ]
		  },
  {
"cell_type": "code",
	   "execution_count": null,
	   "metadata": {
	    "collapsed": true
	   },
	   "outputs": [],
"source": [
"//Chapter 1, Example 1.3\n",
"clc\n",
"Vo=100                      //transmitter output in volts\n",
"Zo=72                       //transmitter output impedance in ohm\n",
"Zin=72                      //antenna input impedance in ohm\n",
"R=72                        //radiation resistance in ohn\n",
"eff=100                     //antenna efficiency\n",
"\n",
"Vrms=Vo/2\n",
"Pr=(Vrms)^2/R\n",
"\n",
"printf('Power radiated = %.2f W',Pr)"
   ]
   }
,
{
		   "cell_type": "markdown",
		   "metadata": {},
		   "source": [
			"## Example 1.4: Example_4.sce"
		   ]
		  },
  {
"cell_type": "code",
	   "execution_count": null,
	   "metadata": {
	    "collapsed": true
	   },
	   "outputs": [],
"source": [
"//Chapter 1, Example 1.4\n",
"clc\n",
"n=105                           //no of coil turns\n",
"a=8*10^-5                       //cross sectional area in metre square\n",
"ur=230                          //relative permeability\n",
"uo=4*%pi*10^-7                  //permeability of air\n",
"Erms=10*10^-6                   //electric field strength\n",
"f=10^6                          //frequency in hertz\n",
"\n",
"//calculation\n",
"erms=n*2*%pi*f*ur*uo*Erms*a*cos(0)\n",
"\n",
"printf('r.m.s open circuit voltage = %.2f microVolt',erms*10^6)"
   ]
   }
,
{
		   "cell_type": "markdown",
		   "metadata": {},
		   "source": [
			"## Example 1.5: Example_5.sce"
		   ]
		  },
  {
"cell_type": "code",
	   "execution_count": null,
	   "metadata": {
	    "collapsed": true
	   },
	   "outputs": [],
"source": [
"//Chapter 1, Example 1.5\n",
"clc\n",
"n=100                           //no of coil turns\n",
"a=8*10^-5                       //effective cross-sectional area in metre\n",
"ur=200                          //relative permeability\n",
"uo=4*%pi*10^-7                  //permeability, of air\n",
"ao=60*%pi/180                   //angle of incidence of magnetic field\n",
"f=10^6                          //frequency in hertz\n",
"E=100*10^-6                     //electric field strength in V/m\n",
"z=377                           //wave impedance in ohm\n",
"\n",
"//calculation\n",
"w=2*%pi*f\n",
"erms=n*w*ur*uo*a*(E/z)*cos(ao)\n",
"\n",
"printf('r.m.s open circuit voltage induced = %.3f uV',erms*10^6)"
   ]
   }
,
{
		   "cell_type": "markdown",
		   "metadata": {},
		   "source": [
			"## Example 1.6: Example_6.sce"
		   ]
		  },
  {
"cell_type": "code",
	   "execution_count": null,
	   "metadata": {
	    "collapsed": true
	   },
	   "outputs": [],
"source": [
"//Chapter 1, Example 1.6\n",
"clc\n",
"n=2                         //no of recievers\n",
"Zo=75                       //input impedance of each receiver\n",
"\n",
"//calculating the value of resistor\n",
"R=((n-1)/(n+1))*Zo\n",
"\n",
"printf('Value of the matching resistor = %d ohm',R)"
   ]
   }
,
{
		   "cell_type": "markdown",
		   "metadata": {},
		   "source": [
			"## Example 1.7: Example_7.sce"
		   ]
		  },
  {
"cell_type": "code",
	   "execution_count": null,
	   "metadata": {
	    "collapsed": true
	   },
	   "outputs": [],
"source": [
"//Chapter 1, Example 1.7, figure 1.23\n",
"clc\n",
"n=4                         //no of recievers\n",
"Zo=50                       //input impedance of each receiver\n",
"\n",
"//calculating the value of resistor\n",
"R=((n-1)/(n+1))*Zo\n",
"\n",
"printf('Value of the matching resistor = %d ohm',R)"
   ]
   }
,
{
		   "cell_type": "markdown",
		   "metadata": {},
		   "source": [
			"## Example 1.8: Example_8.sce"
		   ]
		  },
  {
"cell_type": "code",
	   "execution_count": null,
	   "metadata": {
	    "collapsed": true
	   },
	   "outputs": [],
"source": [
"//Chapter 1, Example 1.8, figure 1.23\n",
"clc\n",
"n=3                         //no of recievers\n",
"Zo=50                       //input impedance of each receiver\n",
"Van=100*10^-6               //open-circuit voltage in aerial\n",
"\n",
"//calculation \n",
"R=((n-1)/(n+1))*Zo\n",
"V=1/(2*n)*Van\n",
"\n",
"printf('(a) Value of the matching resistor = %d ohm\n\n\n',R)\n",
"printf('(b) Voltage at receiver input terminal = %.3f uV',V*10^6)"
   ]
   }
,
{
		   "cell_type": "markdown",
		   "metadata": {},
		   "source": [
			"## Example 1.9: Example_9.sce"
		   ]
		  },
  {
"cell_type": "code",
	   "execution_count": null,
	   "metadata": {
	    "collapsed": true
	   },
	   "outputs": [],
"source": [
"//Chapter 1, Example 1.9, Figure 1.25\n",
"clc\n",
"r1=75                           //network splitter and termination impedance\n",
"r2=43                           //matching network\n",
"\n",
"//calculation\n",
"Voc=(r1/(r2+r1))*(((r1+r2)/2)/(((43+75)/2)+r1))\n",
"Zin=((r1+r2)/2)\n",
"Zsr=r2+(((r1+r2)*r1)/((r2+r1)+r1))\n",
"\n",
"printf('(a) Ratio Vout/Voc = %.2f \n\n',Voc)\n",
"printf('(b) Input impedance to the network = %d ohm\n\n',Zin)\n",
"printf('(c) Reciever source impedance = %.2f ohm\n\n',Zsr)"
   ]
   }
],
"metadata": {
		  "kernelspec": {
		   "display_name": "Scilab",
		   "language": "scilab",
		   "name": "scilab"
		  },
		  "language_info": {
		   "file_extension": ".sce",
		   "help_links": [
			{
			 "text": "MetaKernel Magics",
			 "url": "https://github.com/calysto/metakernel/blob/master/metakernel/magics/README.md"
			}
		   ],
		   "mimetype": "text/x-octave",
		   "name": "scilab",
		   "version": "0.7.1"
		  }
		 },
		 "nbformat": 4,
		 "nbformat_minor": 0
}
