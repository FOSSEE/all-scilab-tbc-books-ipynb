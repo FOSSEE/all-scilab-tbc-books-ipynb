{
"cells": [
 {
		   "cell_type": "markdown",
	   "metadata": {},
	   "source": [
       "# Chapter 2: Basic Thermodynamics and Fluid Mechanics"
	   ]
	},
{
		   "cell_type": "markdown",
		   "metadata": {},
		   "source": [
			"## Example 2.1: Ex_1.sce"
		   ]
		  },
  {
"cell_type": "code",
	   "execution_count": null,
	   "metadata": {
	    "collapsed": true
	   },
	   "outputs": [],
"source": [
"clear all;\n",
"clc;\n",
"funcprot(0);\n",
"\n",
"//given data\n",
"gamma = 1.4;\n",
"pi = 8;//pressure ratio\n",
"T01 = 300;//inlet temperature in K\n",
"T02 = 586.4;//outlet temperature in K\n",
"\n",
"//Calculations\n",
"//Calculation of Overall Total to Total efficiency\n",
"Tot_eff = ((pi^((gamma-1)/gamma))-1)/((T02/T01)-1);\n",
"\n",
"//Calculation of polytropic efficiency\n",
"Poly_eff = ((gamma-1)/gamma)*((log(pi))/log(T02/T01));\n",
"\n",
"//Results\n",
"printf('The Overall total-to-total efficiency is %.2f.\n',Tot_eff);\n",
"printf('The polytropic efficiency is %.4f.',Poly_eff);"
   ]
   }
,
{
		   "cell_type": "markdown",
		   "metadata": {},
		   "source": [
			"## Example 2.2: Ex_2.sce"
		   ]
		  },
  {
"cell_type": "code",
	   "execution_count": null,
	   "metadata": {
	    "collapsed": true
	   },
	   "outputs": [],
"source": [
"clear all;\n",
"clc;\n",
"funcprot(0);\n",
"\n",
"//given data\n",
"T01 = 1200;//Stagnation temperature at which gas enters in K\n",
"p01 = 4;//Stagnation pressure at which gas enters in bar\n",
"c2 = 572;//exit velocity in m/s\n",
"p2 = 2.36;//exit pressure in bar\n",
"Cp = 1.160*1000;//in J/kgK\n",
"gamma = 1.33\n",
"\n",
"//calculations\n",
"T2 = T01 - 0.5*(c2^2)/Cp;//Calculation of exit temperature in K\n",
"Noz_eff = ((1-(T2/T01))/(1-(p2/p01)^((gamma-1)/gamma)));//Nozzle efficiency\n",
"\n",
"//Results\n",
"printf('Nozzle efficiency is %.4f.',Noz_eff);"
   ]
   }
,
{
		   "cell_type": "markdown",
		   "metadata": {},
		   "source": [
			"## Example 2.3: Ex_3.sce"
		   ]
		  },
  {
"cell_type": "code",
	   "execution_count": null,
	   "metadata": {
	    "collapsed": true
	   },
	   "outputs": [],
"source": [
"clear all;\n",
"clc;\n",
"funcprot(0);\n",
"\n",
"//given data\n",
"cp = 0.6;//coefficient of pressure\n",
"AR = 2.13;//Area ratio\n",
"N_R1 = 4.66;\n",
"\n",
"//calculations\n",
"cpi = 1 - (1/(AR^2));\n",
"Diff_eff = cp/cpi;//diffuser efficiency\n",
"theta = 2*(180/%pi)*atan((AR^0.5 - 1)/(N_R1));//included cone angle\n",
"\n",
"//Results\n",
"printf('cpi = %.2f.\n',cpi);\n",
"printf('The included cone angle can be found = %.2f deg.',theta);\n",
"\n",
""
   ]
   }
,
{
		   "cell_type": "markdown",
		   "metadata": {},
		   "source": [
			"## Example 2.4: Ex_4.sce"
		   ]
		  },
  {
"cell_type": "code",
	   "execution_count": null,
	   "metadata": {
	    "collapsed": true
	   },
	   "outputs": [],
"source": [
"clear all;\n",
"clc;\n",
"funcprot(0);\n",
"\n",
"//given data\n",
"AR = 1.8;//Area ratio\n",
"cp = 0.6;//coefficient of pressure\n",
"N_R1 = 7.85;\n",
"\n",
"//calculations\n",
"Theta = 2*(180/%pi)*atan((AR^0.5 - 1)/(N_R1));//included cone angle\n",
"cpi = 1-(1/(AR^2));\n",
"Diff_eff = cp/cpi;//diffuser efficeincy\n",
"\n",
"//Results\n",
"printf('The included cone angle can be found = %.1f deg.\n',Theta);\n",
"printf('cpi = %.2f.\n',cpi);\n",
"printf('Diffuser efficiency = %.2f.',Diff_eff);"
   ]
   }
,
{
		   "cell_type": "markdown",
		   "metadata": {},
		   "source": [
			"## Example 2.5: Ex_5.sce"
		   ]
		  },
  {
"cell_type": "code",
	   "execution_count": null,
	   "metadata": {
	    "collapsed": true
	   },
	   "outputs": [],
"source": [
"clear all;\n",
"clc;\n",
"funcprot(0);\n",
"\n",
"//given data\n",
"AR = 2.0;//Area ratio\n",
"alpha1 = 1.059;\n",
"B1 = 0.109;\n",
"alpha2 = 1.543;\n",
"B2 = 0.364;\n",
"cp = 0.577;//coefficient of pressure\n",
"\n",
"//calculations\n",
"cp = (alpha1 - (alpha2/(AR^2))) - 0.09;\n",
"Diff_eff = cp/(1-(1/(AR^2)));//Diffuser efficiency\n",
"\n",
"//Results\n",
"printf('The diffuser efficiency = %.4f.',Diff_eff);"
   ]
   }
],
"metadata": {
		  "kernelspec": {
		   "display_name": "Scilab",
		   "language": "scilab",
		   "name": "scilab"
		  },
		  "language_info": {
		   "file_extension": ".sce",
		   "help_links": [
			{
			 "text": "MetaKernel Magics",
			 "url": "https://github.com/calysto/metakernel/blob/master/metakernel/magics/README.md"
			}
		   ],
		   "mimetype": "text/x-octave",
		   "name": "scilab",
		   "version": "0.7.1"
		  }
		 },
		 "nbformat": 4,
		 "nbformat_minor": 0
}
