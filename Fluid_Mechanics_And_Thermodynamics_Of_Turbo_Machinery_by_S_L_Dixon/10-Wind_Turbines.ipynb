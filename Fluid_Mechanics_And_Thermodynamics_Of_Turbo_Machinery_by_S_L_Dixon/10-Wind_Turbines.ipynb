{
"cells": [
 {
		   "cell_type": "markdown",
	   "metadata": {},
	   "source": [
       "# Chapter 10: Wind Turbines"
	   ]
	},
{
		   "cell_type": "markdown",
		   "metadata": {},
		   "source": [
			"## Example 10.10: Ex_10.sce"
		   ]
		  },
  {
"cell_type": "code",
	   "execution_count": null,
	   "metadata": {
	    "collapsed": true
	   },
	   "outputs": [],
"source": [
"clear;\n",
"clc;\n",
"funcprot(0);\n",
"\n",
"//function to calculate values of blade chord and radius (optimum conditions)\n",
"function [j,lamda,r,l] = fun(phi)\n",
"    lamda = 1-cos(phi*%pi/180);\n",
"    j = sin(phi*%pi/180)*(2*cos(phi*%pi/180)-1)/(1+2*cos(phi*%pi/180))/(lamda);\n",
"    r = 3*j;\n",
"    l = 8*%pi*j*lamda;\n",
"endfunction\n",
"\n",
"//given data\n",
"D = 30;//tip diameter in m\n",
"J = 5.0;//tip-speed ratio\n",
"Z = 3;//in m\n",
"CL = 1.0;\n",
"\n",
"//Calculations\n",
"phi1 = 30;//in deg\n",
"phi2 = 20;//in deg\n",
"phi3 = 15;//in deg\n",
"phi4 = 10;//in deg\n",
"phi5 = 7.556;//in deg\n",
"//Values of blade chord and radius (optimum conditions)\n",
"[j1,lamda1,r1,l1] = fun(phi1);\n",
"[j2,lamda2,r2,l2] = fun(phi2);\n",
"[j3,lamda3,r3,l3] = fun(phi3);\n",
"[j4,lamda4,r4,l4] = fun(phi4);\n",
"[j5,lamda5,r5,l5] = fun(phi5);\n",
"\n",
"printf('Values of blade chord and radius(optimum conditions):');\n",
"printf('\n -----------------------------------------------------------------');\n",
"printf('\n phi(deg)      j           4flamda            r(m)           l(m)');\n",
"printf('\n -----------------------------------------------------------------');\n",
"printf('\n %d        %.2f             %.3f         %.1f              %.3f',phi1,j1,4*j1*lamda1,r1,l1);\n",
"printf('\n %d        %.2f             %.3f         %.2f             %.3f',phi2,j2,4*j2*lamda2,r2,l2);\n",
"printf('\n %d        %.2f             %.3f         %.2f             %.3f',phi3,j3,4*j3*lamda3,r3,l3);\n",
"printf('\n %d        %.3f            %.4f        %.1f             %.3f',phi4,j4,4*j4*lamda4,r4,l4);\n",
"printf('\n %.3f       %d              %.4f         %d              %.3f',phi5,ceil(j5),4*j5*lamda5,ceil(r5),l5);\n",
"printf('\n -----------------------------------------------------------------');\n",
"\n",
"l_R = [l1,l2,l3,l4,l5]/(0.5*D);\n",
"r_R = [r1,r2,r3,r4,r5]/(0.5*D);    \n",
"plot(r_R,l_R);\n",
"xlabel('r/R','fontsize',3);\n",
"ylabel('l/R','fontsize',3);\n",
"title('Optimal variation of chord length with radius','fontsize',3);\n",
"\n",
"//there are very small errors in the ansers given in textbook"
   ]
   }
,
{
		   "cell_type": "markdown",
		   "metadata": {},
		   "source": [
			"## Example 10.2: Ex_2.sce"
		   ]
		  },
  {
"cell_type": "code",
	   "execution_count": null,
	   "metadata": {
	    "collapsed": true
	   },
	   "outputs": [],
"source": [
"clear;\n",
"clc;\n",
"funcprot(0);\n",
"\n",
"//given data\n",
"a_ = 1/3;\n",
"\n",
"//Calculations\n",
"R2_R1 = 1/(1-a_)^0.5;\n",
"R3_R1 = 1/(1-2*a_)^0.5;\n",
"R3_R2 = ((1-a_)/(1-2*a_))^0.5;\n",
"\n",
"//Results\n",
"printf('R2/R1 = %.3f\n R3/R1 = %.3f\n R3/R2 = %.3f',R2_R1,R3_R1,R3_R2);"
   ]
   }
,
{
		   "cell_type": "markdown",
		   "metadata": {},
		   "source": [
			"## Example 10.3: Ex_3.sce"
		   ]
		  },
  {
"cell_type": "code",
	   "execution_count": null,
	   "metadata": {
	    "collapsed": true
	   },
	   "outputs": [],
"source": [
"clear;\n",
"clc;\n",
"funcprot(0);\n",
"//given data\n",
"d = 30;//tip diameter in m\n",
"cx1 = 7.5;//in m/s\n",
"cx2 = 10;//in m/s\n",
"rho = 1.2;//in kg/m^3\n",
"a_ = 1/3;\n",
"//Calculations\n",
"P1 = 2*a_*rho*(%pi*0.25*d^2)*(cx1^3)*(1-a_)^2;\n",
"P2 = 2*a_*rho*(%pi*0.25*d^2)*(cx2^3)*(1-a_)^2;\n",
"//Results\n",
"printf('(i)With cx1 = %.1f m/s, P = %d kW.',cx1,P1/1000);\n",
"printf('\n(ii)With cx1 = %d m/s, P = %.1f kW.',cx2,P2/1000);"
   ]
   }
,
{
		   "cell_type": "markdown",
		   "metadata": {},
		   "source": [
			"## Example 10.4: Ex_4.sce"
		   ]
		  },
  {
"cell_type": "code",
	   "execution_count": null,
	   "metadata": {
	    "collapsed": true
	   },
	   "outputs": [],
"source": [
"clear;\n",
"clc;\n",
"funcprot(0);\n",
"\n",
"//given data\n",
"P = 20;//power required in kW\n",
"cx1 = 7.5;//steady wind speed in m/s\n",
"rho = 1.2;//density in kg/m^3\n",
"Cp = 0.35;\n",
"eta_g = 0.75;//output electrical power\n",
"eff_d = 0.85;//electrical generation efficiency\n",
"\n",
"//Calculations\n",
"A2 = 2*P*1000/(rho*Cp*eta_g*eff_d*cx1^3);\n",
"D2 = sqrt(4*A2/%pi);\n",
"\n",
"//Results\n",
"printf('The diameter = %.1f m.',D2);"
   ]
   }
,
{
		   "cell_type": "markdown",
		   "metadata": {},
		   "source": [
			"## Example 10.5: Ex_5.sce"
		   ]
		  },
  {
"cell_type": "code",
	   "execution_count": null,
	   "metadata": {
	    "collapsed": true
	   },
	   "outputs": [],
"source": [
"clear;\n",
"clc;\n",
"funcprot(0);\n",
"//given data\n",
"Z = 3;//number of blades\n",
"D = 30;//rotor diameter in m\n",
"J = 5.0;//tip-speed ratio\n",
"l = 1.0;//blade chord in m\n",
"r_R = 0.9;//ratio\n",
"beta = 2;//pitch angle in deg\n",
"//Calculations\n",
"//iterating to get values of induction factors\n",
"a = 0.0001;//inital guess\n",
"a_ = 0.0001;//inital guess\n",
"a_new = 0.0002;//inital guess\n",
"i = 0;\n",
"while (a_~=a_new)\n",
"   phi = (180/%pi)*atan((1/(r_R*J))*((1-a)/(1-a_)));\n",
"   alpha = phi-beta;\n",
"   CL = 0.1*alpha;\n",
"   lamda = (Z*l*CL)/(8*%pi*0.5*r_R*D);\n",
"   a = 1/(1+(1/lamda)*sin(phi*%pi/180)*tan(phi*%pi/180));\n",
"   a_new = 1/((1/lamda)*cos(phi*%pi/180) -1);\n",
"   if a_ < a_new\n",
"       a_ = a_ + 0.0001;\n",
"   elseif a_ > a_new\n",
"       a_ = a_ - 0.0001;\n",
"   end    \n",
"   if (abs((a_-a_new)/a_new) < 0.1) then\n",
"       break;\n",
"   end             \n",
"   i = i+1;\n",
"end\n",
"//Results\n",
"printf('Axial induction factor, a = %.4f',a);\n",
"printf('\n Tangential induction factor = %.5f',a_new);\n",
"printf('\n phi = %.3f deg.',phi);\n",
"printf('\n Lift coefficient = %.3f.',CL);\n",
"//The answers given in textbook are wrong"
   ]
   }
,
{
		   "cell_type": "markdown",
		   "metadata": {},
		   "source": [
			"## Example 10.6: Ex_6.sce"
		   ]
		  },
  {
"cell_type": "code",
	   "execution_count": null,
	   "metadata": {
	    "collapsed": true
	   },
	   "outputs": [],
"source": [
"clear;\n",
"clc;\n",
"funcprot(0);\n",
"\n",
"//given data\n",
"D = 30;//tip diameter in m\n",
"CL = 0.8;//lift coefficient\n",
"J = 5.0;\n",
"l = 1.0;//chord length in m\n",
"Z = 3;//number of blades\n",
"r_R = [0.2 0.3 0.4 0.6 0.8 0.9 0.95 1.0];\n",
"n = 8;\n",
"//Calculations\n",
"//iterating to get values of induction factors\n",
"a = 0.1;//inital guess\n",
"anew = 0;\n",
"a_ = 0.006;//inital guess\n",
"a_new = 0.0;//inital guess\n",
"for i = 1:n\n",
"    while (a_~=a_new)\n",
"        lamda = (Z*l*CL)/(8*%pi*0.5*r_R(i)*D);\n",
"        phi = (180/%pi)*atan((1/(r_R(i)*J))*((1-a)/(1-a_)));\n",
"        a = 1/(1+(1/lamda)*sin(phi*%pi/180)*tan(phi*%pi/180));\n",
"        a_new = 1/((1/lamda)*cos(phi*%pi/180) -1);\n",
"        alpha = CL/0.1;\n",
"        beta = phi-alpha;\n",
"        if a_ < a_new\n",
"            a_ = a_ + 0.0001;\n",
"        elseif a_ > a_new\n",
"            a_ = a_ - 0.0001;      \n",
"        end    \n",
"        if (abs((a_-a_new)/a_new) < 0.01) then\n",
"            break;\n",
"        end             \n",
"    end\n",
"    p(i) = phi;b(i) = beta;a1(i) = a;a2(i) = a_new;\n",
"end\n",
"\n",
"//Results\n",
"printf('Summary of results of iterations (N.B. CL = 0.8 along the span)');\n",
"printf('\n -----------------------------------------------------------------------------------');\n",
"printf('\n r/R      %.1f      %.1f       %.1f       %.1f      %.1f      %.1f      %.2f        %.1f  ',r_R(1),r_R(2),r_R(3),r_R(4),r_R(5),r_R(6),r_R(7),r_R(8));\n",
"printf('\n -----------------------------------------------------------------------------------');\n",
"printf('\n phi    %.2f     %.2f     %.2f     %.2f    %.2f    %.2f     %.2f       %.3f',p(1),p(2),p(3),p(4),p(5),p(6),p(7),p(8));\n",
"printf('\n beta   %.2f     %.2f     %.2f     %.2f     %.2f     %.2f      %.2f       %.2f',b(1),b(2),b(3),b(4),b(5),b(6),b(7),b(8));\n",
"printf('\n a      %.4f   %.5f   %.5f   %.4f   %.4f   %.4f     %.4f     %.4f',a1(1),a1(2),a1(3),a1(4),a1(5),a1(6),a1(7),a1(8));\n",
"printf('\n a`     %.5f   %.5f   %.5f   %.5f   %.5f   %.5f   %.5f   %.5f',a2(1),a2(2),a2(3),a2(4),a2(5),a2(6),a2(7),a2(8));\n",
"printf('\n -----------------------------------------------------------------------------------');\n",
"\n",
"//there are some errors in the answers given in textbook"
   ]
   }
,
{
		   "cell_type": "markdown",
		   "metadata": {},
		   "source": [
			"## Example 10.7: Ex_7.sce"
		   ]
		  },
  {
"cell_type": "code",
	   "execution_count": null,
	   "metadata": {
	    "collapsed": true
	   },
	   "outputs": [],
"source": [
"clear;\n",
"clc;\n",
"funcprot(0);\n",
"\n",
"//given data\n",
"//data from Exampla 10.5\n",
"Z = 3;//number of blades\n",
"D = 30;//rotor diameter in m\n",
"J = 5.0;//tip-speed ratio\n",
"l = 1.0;//blade chord in m\n",
"beta = 2;//pitch angle in deg\n",
"omega = 2.5;//in rad/s\n",
"\n",
"rho = 1.2;//density in kg/m^3\n",
"cx1 = 7.5;//in m/s\n",
"sum_var1 = 6.9682;//from Table 10.3\n",
"sum_var2 = 47.509*10^-3;//from Table 10.4\n",
"\n",
"//Calculations\n",
"X = sum_var1*0.5*rho*Z*l*0.5*D*cx1^2;\n",
"tau = sum_var2*0.5*rho*Z*l*(omega^2)*(0.5*D)^4;\n",
"P = tau*omega;\n",
"A2 = 0.25*%pi*D^2;\n",
"P0 = 0.5*rho*A2*cx1^3;\n",
"Cp = P/P0;\n",
"zeta = (27/16)*Cp;\n",
"\n",
"//Results\n",
"printf('The total axial force = %d N.',X);\n",
"printf('\n The torque = %.3f *10^3 Nm.',tau/1000);\n",
"printf('\n The power developed = %.3f kW.',P/1000);\n",
"printf('\n The power coefficient = %.3f',Cp);\n",
"printf('\n The relative power coefficient = %.3f',zeta);"
   ]
   }
,
{
		   "cell_type": "markdown",
		   "metadata": {},
		   "source": [
			"## Example 10.8: Ex_8.sce"
		   ]
		  },
  {
"cell_type": "code",
	   "execution_count": null,
	   "metadata": {
	    "collapsed": true
	   },
	   "outputs": [],
"source": [
"clear;\n",
"clc;\n",
"funcprot(0);\n",
"\n",
"//given data\n",
"X = 10583;//in N\n",
"D = 30;//rotor diameter in m\n",
"Cx = X/23856;\n",
"rho = 1.2;//density in kg/m^3\n",
"cx1 = 7.5;//in m/s\n",
"\n",
"//sloving quadratic eqaution\n",
"a = 0;//inital guess\n",
"res = 1;\n",
"i = 0;\n",
"while (res~=0)\n",
"    res = a*(1-a) - Cx/4;\n",
"    if (res>0) then\n",
"        a = a-0.001;\n",
"    elseif (res<0)\n",
"        a = a+0.001;\n",
"    end\n",
"    if abs(res)<0.0001\n",
"        break;\n",
"    end    \n",
"end\n",
"A2 = 0.25*%pi*D^2\n",
"P = 2*rho*A2*(cx1^3)*a*(1-a)^2;\n",
"\n",
"//Results\n",
"printf('P = %.3f kW.',P/1000);\n",
"\n",
"//there is small error in the answer given in textbook"
   ]
   }
,
{
		   "cell_type": "markdown",
		   "metadata": {},
		   "source": [
			"## Example 10.9: Ex_9.sce"
		   ]
		  },
  {
"cell_type": "code",
	   "execution_count": null,
	   "metadata": {
	    "collapsed": true
	   },
	   "outputs": [],
"source": [
"clear;\n",
"clc;\n",
"funcprot(0);\n",
"\n",
"//given data\n",
"//data from Exampla 10.5\n",
"Z = 3;//number of blades\n",
"D = 30;//rotor diameter in m\n",
"J = 5.0;//tip-speed ratio\n",
"l = 1.0;//blade chord in m\n",
"beta = 1.59;//pitch angle in deg\n",
"omega = 2.5;//in rad/s\n",
"rho = 1.2;//density in kg/m^3\n",
"cx1 = 7.5;//in m/s\n",
"c1 = 1518.8;//from Ex 10.6\n",
"c2 = 0.5695*10^6;\n",
"P0 = 178.96;//Power developed in kW from Ex 10.7\n",
"X1 = 10582;//Total axial force in N from Ex 10.7\n",
"Cp1 = 0.378;//Power coefficient from Ex 10.7\n",
"zeta1 = 0.638;//rekative power coefficient from Ex 10.7\n",
"\n",
"//Calculations\n",
"r_R = 0.25:0.1:0.95;\n",
"b = [28.4;19.49;13.80;9.90;7.017;4.900;3.00;1.59];\n",
"//b = [27.2985;17.8137;11.8231;7.8176;4.9972;3.0511;1.6476;1.59];\n",
"for j = 1:8\n",
"    i = 1;\n",
"    atemp = 0; a_temp = 0;\n",
"    while i>0,        i = i+1;\n",
"        f = (2/%pi)*acos(exp(-0.5*Z*(1-r_R(j))*(1+J^2)^0.5));\n",
"        phi = (180/%pi)*atan((1/(J*r_R(j)))*((1-atemp)/(1+a_temp)));\n",
"        CL = (phi-b(j))/10;\n",
"        lamda = f/(63.32/CL);\n",
"        anew = (lamda*cos(phi*%pi/180)/(lamda*cos(phi*%pi/180)+f*(sin(phi*%pi/180))^2));\n",
"        if atemp<anew then\n",
"            atemp = atemp+0.0001;\n",
"        elseif atemp>anew\n",
"            atemp = atemp-0.0001;\n",
"        end\n",
"        if (abs((atemp-anew)/anew) < 0.001) then\n",
"            break;\n",
"        end \n",
"    end\n",
"    F(j) = f;\n",
"    ph(j) = phi;\n",
"    cl(j) = CL;\n",
"    a(j) = anew; \n",
"    Var1(j) = ((1-anew)/sin(phi*%pi/180))^2 *cos(phi*%pi/180)*CL*0.1;\n",
"//    a_(j) = lamda/(F*cos(phi*%pi/180)-lamda); \n",
"//printf('r_R = %.2f, F = %.4f, a = %.4f, phi = %.4f\n',r_R(j),F(j),a(j),ph(j));\n",
"end\n",
"\n",
"for k = 1:8\n",
"    lam(k) = F(k)*cl(k)/63.32;\n",
"    a_new(k) = lam(k)/(F(k)*cos(ph(k)*%pi/180)-lam(k)); \n",
"    Var2(k) = ((1+a_new(k))/cos(phi*%pi/180))^2 *(r_R(k))^3 *cl(k)*sin(ph(k)*%pi/180)*0.1;\n",
"end\n",
"X = c1*sum(Var1(1:8));\n",
"sum_Var2 = 40.707*10^-3;\n",
"tau = c2*sum(Var2(1:8));\n",
"P = tau*omega;\n",
"Cp = P/(P0*1000);\n",
"zeta = (26/17)*Cp;\n",
"\n",
"//Results\n",
"printf('               Summary of Results:');\n",
"printf('\n ---------------------------------------------------------------------------------------------------');\n",
"printf('\n                             Axial force, kN        Power, kW             Cp               zeta');\n",
"printf('\n ---------------------------------------------------------------------------------------------------');\n",
"printf('\n Without tip correction           %.3f              %.2f              %.3f             %.3f',X1/1000,P0*Cp1,Cp1,zeta1);\n",
"printf('\n With tip correction              %.3f               %.2f              %.3f             %.3f',X/1000,P/1000,Cp,zeta);\n",
"printf('\n ---------------------------------------------------------------------------------------------------');\n",
"\n",
"//There are errors in the answers given in textbook"
   ]
   }
],
"metadata": {
		  "kernelspec": {
		   "display_name": "Scilab",
		   "language": "scilab",
		   "name": "scilab"
		  },
		  "language_info": {
		   "file_extension": ".sce",
		   "help_links": [
			{
			 "text": "MetaKernel Magics",
			 "url": "https://github.com/calysto/metakernel/blob/master/metakernel/magics/README.md"
			}
		   ],
		   "mimetype": "text/x-octave",
		   "name": "scilab",
		   "version": "0.7.1"
		  }
		 },
		 "nbformat": 4,
		 "nbformat_minor": 0
}
