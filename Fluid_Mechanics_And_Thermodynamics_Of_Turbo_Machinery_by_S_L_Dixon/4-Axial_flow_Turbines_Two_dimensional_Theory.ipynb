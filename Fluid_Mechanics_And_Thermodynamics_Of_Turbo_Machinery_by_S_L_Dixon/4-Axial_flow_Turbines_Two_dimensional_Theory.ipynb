{
"cells": [
 {
		   "cell_type": "markdown",
	   "metadata": {},
	   "source": [
       "# Chapter 4: Axial flow Turbines Two dimensional Theory"
	   ]
	},
{
		   "cell_type": "markdown",
		   "metadata": {},
		   "source": [
			"## Example 4.1: Ex_1.sce"
		   ]
		  },
  {
"cell_type": "code",
	   "execution_count": null,
	   "metadata": {
	    "collapsed": true
	   },
	   "outputs": [],
"source": [
"clear all;\n",
"clc;\n",
"funcprot(0);\n",
"\n",
"//given data\n",
"phi = 0.4;\n",
"epsilon = 28.6;//in deg\n",
"\n",
"//calculations\n",
"alpha2 = (180/%pi)*atan(1/phi);//in deg\n",
"zeta = 0.04*(1+ 1.5*(alpha2/100)^2);\n",
"eta = 1 + (phi^2)*(zeta*((1/cos(%pi*alpha2/180))^2) +0.5);\n",
"\n",
"//results\n",
"printf('The efficiency = %.3f.\n',1/eta);\n",
"printf('This value appears to be the same as the peak value of efficiency curve.\n');\n",
"\n",
""
   ]
   }
,
{
		   "cell_type": "markdown",
		   "metadata": {},
		   "source": [
			"## Example 4.2: Ex_2.sce"
		   ]
		  },
  {
"cell_type": "code",
	   "execution_count": null,
	   "metadata": {
	    "collapsed": true
	   },
	   "outputs": [],
"source": [
"clear all;\n",
"clc;\n",
"funcprot(0);\n",
"\n",
"//given data\n",
"alpha2 = 70;//in deg\n",
"p01 = 311;//in kPa\n",
"T01 = 850;//in degC\n",
"p3 = 100;//in kPa\n",
"eff_tot_stat = 0.87;\n",
"U = 500;//in m/s\n",
"Cp = 1.148;//in kJ/(kgC)\n",
"gamma = 1.33;\n",
"\n",
"//Calculations\n",
"delW = eff_tot_stat*Cp*(T01+273.15)*(1-(p3/p01)^((gamma-1)/gamma));//specific work\n",
"cy2 = delW*1000/U;//in m/s\n",
"c2 = cy2/sin(%pi*alpha2/180);//in m/s\n",
"T2 = (T01+273.15) - 0.5*(c2^2)/(Cp*1000);//Nozzle exit temperature in K\n",
"M2 = c2/sqrt(gamma*287*T2);//Nozzle exit mach number\n",
"cx = c2*cos(%pi*alpha2/180);//axial velocity in m/s\n",
"eff_tot_tot = 1/((1/eff_tot_stat)-((cx^2)/(2*1000*delW)));//Total to total efficiency\n",
"R = 1 - 0.5*(cx/U)*tan(%pi*alpha2/180);//stage reaction\n",
"\n",
"//results\n",
"printf('(i) The specific work done = %d kJ/kg.\n',delW);\n",
"printf('(ii) The Mach number leaving the nozzle = %.2f.\n',M2);\n",
"printf('(iii) The axial velocity = %d m/s.\n',cx);\n",
"printf('(iv) The total-to-total efficiency = %.2f.\n',eff_tot_tot);\n",
"printf('(v) The stage reaction = %.3f.\n',R);\n",
"\n",
"\n",
"//there are small errors in the answers given in the book"
   ]
   }
,
{
		   "cell_type": "markdown",
		   "metadata": {},
		   "source": [
			"## Example 4.3: Ex_3.sce"
		   ]
		  },
  {
"cell_type": "code",
	   "execution_count": null,
	   "metadata": {
	    "collapsed": true
	   },
	   "outputs": [],
"source": [
"clear all;\n",
"clc;\n",
"funcprot(0);\n",
"\n",
"//given data\n",
"H_b = 5.0;//average bladeaspect ratio for the stage\n",
"t_c = 0.2;//max. blade thickness to chord ratio\n",
"Re = 1*10^5;//average Reynolds number\n",
"cx = 200;//in m/s\n",
"cy2 = 552;//in m/s\n",
"U = 500;//in m/s\n",
"c2 = 588;//in m/s\n",
"delW = 276;//in kJ\n",
"c3 = 200;//in m/s\n",
"Cp = 1.148;//in kJ/(kgC)\n",
"T2 = 973;//in K\n",
"T01 = 1123;//in K\n",
"alpha1 = 0;//in deg\n",
"alpha2 = 70;//in deg\n",
"\n",
"//calculations\n",
"eps = alpha1 + alpha2;//in deg\n",
"zetaN = 0.04*(1 + 1.5*(eps/100)^2);\n",
"zetaN1 = (1+zetaN)*(0.993 + 0.021/H_b) - 1;\n",
"beta2 = (180/%pi)*atan((cy2-U)/cx);\n",
"beta3 = (180/%pi)*atan(U/cx);\n",
"epsR = beta2 + beta3;\n",
"zetaR = 0.04*(1 + 1.5*(epsR/100)^2);\n",
"zetaR1 = (1+zetaR)*(0.975 + 0.075/H_b) - 1;\n",
"w3_U = sqrt(1+(cx/U)^2);\n",
"eff_ts = 1/(1 + (zetaR1*w3_U + zetaN1*((c2/U)^2) + (cx/U)^2)/(2*cy2/U));\n",
"T3 = T01 - (delW*1000 + 0.5*c3^2)/(Cp*1000);\n",
"eff_ts1 = 1/(1 + (zetaR1*(w3_U)^2 + (T3/T2)*zetaN1*((c2/U)^2) + (cx/U)^2)/(2*cy2/U));\n",
"\n",
"//Results\n",
"printf('The total-to static efficiency = %.3f.',eff_ts);\n",
"printf('\n The result is very close to the value assumed in first example.')\n",
"printf('\n The total-to-static efficiency after including the temperature ratio in the equation = %.3f.',eff_ts1);\n",
"\n",
"//there are small errors in the answers given in the book"
   ]
   }
,
{
		   "cell_type": "markdown",
		   "metadata": {},
		   "source": [
			"## Example 4.4: Ex_4.sce"
		   ]
		  },
  {
"cell_type": "code",
	   "execution_count": null,
	   "metadata": {
	    "collapsed": true
	   },
	   "outputs": [],
"source": [
"clear;\n",
"clc;\n",
"funcprot(0);\n",
"\n",
"//given data\n",
"T02 = 1200;//in K\n",
"p01 = 4.0;//in bar\n",
"dt = 0.75;//tip diameter in m\n",
"hb = 0.12;//blade height in m\n",
"v = 10500;//shaft speed in rev/min\n",
"R = 0.5;//degree of reaction at mean radius\n",
"phi = 0.7;//flow coefficient\n",
"psi = 2.5;//stage loading coefficient\n",
"eff_noz = 0.96;//Nozzle efficiency\n",
"Cp = 1160;//in kJ/(kgC)\n",
"gamma = 1.33;\n",
"Rg = 287.8;//specific gas constant\n",
"A2 = 0.2375;//in m^2\n",
"K = 2/3;//stress taper factor\n",
"rho = 8000;//in kg/m^3\n",
"\n",
"//calculations\n",
"beta3 = (180/%pi)*atan((0.5*psi + R)/phi);\n",
"beta2 = (180/%pi)*atan((0.5*psi - R)/phi);\n",
"alpha2 = beta3;\n",
"alpha3 = beta2;\n",
"rm = (dt-hb)/2;\n",
"Um = (v/30)*%pi*rm;\n",
"cx = phi*Um;\n",
"c2 = cx/(cos(alpha2*%pi/180));\n",
"T2 = T02 - 0.5*(c2^2)/Cp;\n",
"p2 = p01*((1-((1-(T2/T02))/eff_noz))^(gamma/(gamma-1)));\n",
"mdot = ((p2*10^5)/(Rg*T2))*A2*cx;\n",
"Ut = (v/30)*%pi*0.5*dt; \n",
"sig_rho = K*0.5*(Ut^2)*(1-((dt-2*hb)/dt)^2);\n",
"sig = rho*sig_rho;\n",
"Tb = T2 + 0.85*((cx/cos(beta2*%pi/180))^2)/(2*Cp);\n",
"\n",
"//Results\n",
"printf('(i)The relative and absolute angles for the flow: \n beta3 = %.1f deg, and beta2 = %.2f deg.',beta3,beta2);\n",
"printf('\n alpha2 = %.1f deg, and alpha3 = %.2f deg.',alpha2,alpha3);\n",
"printf('\n (ii) The velocity at nozzle exit = %.2f m/s',c2);\n",
"printf('\n (iii)The static temperature and pressure at nozzle exit assuming a nozzle efficiency of %.2f: \n T2 = %.1f K\n p2 = %.3f bar',eff_noz,T2,p2);\n",
"printf('\n and mass flow = %.1f kg/s',mdot);\n",
"printf('\n (iv)The rotor blade root stress assuming the blade is tapered with a stress taper factor K of 2/3 and \n the blade material density is %d kg/m2 = %.1f MPa',rho,sig/(10^6));\n",
"printf('\n (v) The approximate average mean blade temperature is Tb = %.1f K',Tb);\n",
"printf('\n (vi)Inspection of the data for Inconel 713 cast alloy suggests that it might be a better choice \n of blade material as the temperature–stress point of the above calculation is to the \n left of the line marked creep strain of 0.2 percentage in 1000 hr.')\n",
"\n",
"\n",
"//there are very small errors in the answers given in textbook"
   ]
   }
],
"metadata": {
		  "kernelspec": {
		   "display_name": "Scilab",
		   "language": "scilab",
		   "name": "scilab"
		  },
		  "language_info": {
		   "file_extension": ".sce",
		   "help_links": [
			{
			 "text": "MetaKernel Magics",
			 "url": "https://github.com/calysto/metakernel/blob/master/metakernel/magics/README.md"
			}
		   ],
		   "mimetype": "text/x-octave",
		   "name": "scilab",
		   "version": "0.7.1"
		  }
		 },
		 "nbformat": 4,
		 "nbformat_minor": 0
}
