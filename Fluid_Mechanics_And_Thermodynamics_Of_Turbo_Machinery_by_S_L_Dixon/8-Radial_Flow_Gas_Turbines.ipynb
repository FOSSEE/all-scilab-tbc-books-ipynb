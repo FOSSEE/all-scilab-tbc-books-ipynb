{
"cells": [
 {
		   "cell_type": "markdown",
	   "metadata": {},
	   "source": [
       "# Chapter 8: Radial Flow Gas Turbines"
	   ]
	},
{
		   "cell_type": "markdown",
		   "metadata": {},
		   "source": [
			"## Example 8.1: Ex_1.sce"
		   ]
		  },
  {
"cell_type": "code",
	   "execution_count": null,
	   "metadata": {
	    "collapsed": true
	   },
	   "outputs": [],
"source": [
"clear;\n",
"clc;\n",
"funcprot(0);\n",
"\n",
"//given data\n",
"D2 = 23.76;//diameter of rotor in cm\n",
"N = 38140;//rotational speed in rev/min\n",
"alpha2 = 72;//absolute flow angle in deg\n",
"d = 0.5*D2;//rotor mean exit diameter\n",
"\n",
"//Calcultaions\n",
"U2 = %pi*N*D2/(100*60);\n",
"w2 = U2/tan(alpha2*%pi/180);\n",
"c2 = U2*sin(alpha2*%pi/180);\n",
"w3 = 2*w2;\n",
"U3 = 0.5*U2;\n",
"c3 = sqrt(w3^2 - U3^2);\n",
"delW = 0.5*((U2^2 - U3^2)+(w3^2 - w2^2)+(c2^2 - c3^2));\n",
"inp_U2 =  0.5*(U2^2 - U3^2)/delW;\n",
"inp_w2 = 0.5*(w3^2 - w2^2)/delW;\n",
"inp_c2 = 0.5*(c2^2 - c3^2)/delW;\n",
"\n",
"//Results\n",
"printf('The fractional inputs from the three terms are, for the U^2 terms, %.3f; \n for the w^2 terms, %.3f; for the c^2 terms, %.3f.',inp_U2,inp_w2,inp_c2);\n",
"\n",
"//there are errors in the answers given in textbook"
   ]
   }
,
{
		   "cell_type": "markdown",
		   "metadata": {},
		   "source": [
			"## Example 8.2: Ex_2.sce"
		   ]
		  },
  {
"cell_type": "code",
	   "execution_count": null,
	   "metadata": {
	    "collapsed": true
	   },
	   "outputs": [],
"source": [
"clear;\n",
"clc;\n",
"funcprot(0);\n",
"\n",
"//given data\n",
"r = 1.5;//operating pressure ratio\n",
"K1 = 1.44*10^-5;\n",
"K2 = 2410;\n",
"K3 = 4.59*10^-6;\n",
"T01 = 400;//in K\n",
"D2 = 72.5;//rotor inlet diamete in mm\n",
"D3_av = 34.4;//rotor meaan outlet diameter in mm\n",
"b = 20.1;//rotor outlet annulus width in mm\n",
"zetaN = 0.065;//enthalpy loss coefficient\n",
"alpha2 = 71;//in deg\n",
"beta3_av = 53;//in deg\n",
"Cp = 1005;//inJ/(kg.K)\n",
"gamma = 1.4;\n",
"\n",
"//Calculations\n",
"N = K2*sqrt(T01);\n",
"U2 = %pi*N*D2/(60*1000)\n",
"delW = U2^2;\n",
"delh = Cp*T01*(1-(1/r)^((gamma-1)/gamma));\n",
"eff_ts = delW/(delh);\n",
"delW_act = K3*K2*%pi*T01/(30*K1);\n",
"eff_ov = delW_act/delh;\n",
"zetaR = (2*((1/eff_ts)-1) - (zetaN/sin(alpha2*%pi/180)))*((D2/D3_av)^2)*(sin(beta3_av*%pi/180))^2 - (cos(beta3_av*%pi/180))^2;\n",
"r3 = 0.5*(D3_av-b)*10^-3;\n",
"w3_w2av_min = (D3_av/D2)*tan(alpha2*%pi/180)*((2*r3/D3_av)^2 + (1/tan(beta3_av*%pi/180))^2)^0.5;\n",
"w3_w2av = (D3_av/D2)*tan(alpha2*%pi/180)*(1+((1/tan(beta3_av*%pi/180))^2))^0.5;\n",
"\n",
"//Results\n",
"printf('The total-to-static efficiency = %.2f percentage.',eff_ts*100);\n",
"printf('\n The overall efficiency = %.2f percentage.',eff_ov*100);\n",
"printf('\n The rotor enthalpy loss coefficient = %.3f',zetaR);\n",
"printf('\n The rotor relative velocity ratio = %.2f',w3_w2av);\n",
"\n",
"\n",
"//there are small errors in the answers given in textbook"
   ]
   }
,
{
		   "cell_type": "markdown",
		   "metadata": {},
		   "source": [
			"## Example 8.3: Ex_3.sce"
		   ]
		  },
  {
"cell_type": "code",
	   "execution_count": null,
	   "metadata": {
	    "collapsed": true
	   },
	   "outputs": [],
"source": [
"clear;\n",
"clc;\n",
"funcprot(0);\n",
"\n",
"//given data\n",
"Z = 12;//number of vanes\n",
"delW = 230;//in kW\n",
"T01 = 1050;//stagnation temperature in K\n",
"mdot = 1;//flow rate in kg/s\n",
"eff_ts = 0.81;//total-to-static efficiency\n",
"Cp = 1.1502;//in kJ/(kg.K)\n",
"gamma = 1.333;\n",
"R = 287;//gas constant\n",
"\n",
"//Calculations\n",
"S = delW/(Cp*T01);\n",
"alpha2 = (180/%pi)*acos(sqrt(1/Z));\n",
"beta2 = 2*(90-alpha2);\n",
"p3_p01 = (1-(S/eff_ts))^(gamma/(1-gamma));\n",
"M02 = sqrt((S/(gamma-1))*((2*cos(beta2*%pi/180))/(1+cos(beta2*%pi/180))));\n",
"M2 = sqrt((M02^2)/(1-0.5*(gamma-1)*(M02^2)));\n",
"U2 = sqrt((gamma*R*T01)*(1/cos(beta2*%pi/180))*(S/(gamma-1)));\n",
"\n",
"//Results\n",
"printf('(i) The absolut and relative flow angles:\n alpha2 = %.2f deg\n beta2 = %.2f deg',alpha2,beta2);\n",
"printf('\n (ii) The overall pressure ratio = %.3f',p3_p01);\n",
"printf('\n (iii) The rotor rip speed = %.1f m/s\n The inlet absolute Mach number = %.3f',U2,M2);\n",
"\n",
"\n",
"//there are small errors in the answers given in textbook"
   ]
   }
,
{
		   "cell_type": "markdown",
		   "metadata": {},
		   "source": [
			"## Example 8.4: Ex_4.sce"
		   ]
		  },
  {
"cell_type": "code",
	   "execution_count": null,
	   "metadata": {
	    "collapsed": true
	   },
	   "outputs": [],
"source": [
"clear;\n",
"clc;\n",
"funcprot(0);\n",
"\n",
"//given data\n",
"cm3_U2 = 0.25;\n",
"nu = 0.4;\n",
"r3s_r2 = 0.7;\n",
"w3av_w2 = 2.0;\n",
"\n",
"//Calculations\n",
"r3av_r3s = 0.5*(1+nu);\n",
"r3av_r2 = r3av_r3s*r3s_r2;\n",
"beta3_av = (180/%pi)*atan(r3av_r2/cm3_U2);\n",
"beta3s = (180/%pi)*atan(r3s_r2/cm3_U2);\n",
"w3s_w2 = 2*cos(beta3_av*%pi/180)/cos(beta3s*%pi/180);\n",
"\n",
"//Results\n",
"printf('The relative velocity ratio = %.3f.',w3s_w2);"
   ]
   }
,
{
		   "cell_type": "markdown",
		   "metadata": {},
		   "source": [
			"## Example 8.5: Ex_5.sce"
		   ]
		  },
  {
"cell_type": "code",
	   "execution_count": null,
	   "metadata": {
	    "collapsed": true
	   },
	   "outputs": [],
"source": [
"clear;\n",
"clc;\n",
"funcprot(0);\n",
"\n",
"//given data\n",
"Z = 12;//number of vanes\n",
"delW = 230;//in kW\n",
"T01 = 1050;//stagnation temperature in K\n",
"mdot = 1;//flow rate in kg/s\n",
"eff_ts = 0.81;//total-to-static efficiency\n",
"Cp = 1.1502;//in kJ/(kg.K)\n",
"gamma = 1.333;\n",
"R = 287;//gas constant\n",
"cm3_U2 = 0.25;\n",
"nu = 0.4;\n",
"r3s_r2 = 0.7;\n",
"w3av_w2 = 2.0;\n",
"p3 = 100;//static pressure at rotor exit in kPa\n",
"zetaN = 0.06;//nozzle enthalpy loss coefficient\n",
"U2 = 538.1;//in m/s\n",
"p01 = 3.109*10^5;//in Pa\n",
"\n",
"//Calculations\n",
"S = delW/(Cp*T01);\n",
"T03 = T01*(1-S);\n",
"T3 = T03 - (cm3_U2^2)*(U2^2)/(2*Cp*1000);\n",
"r2 = sqrt(mdot/((p3*1000/(R*T3))*(cm3_U2)*U2*%pi*(r3s_r2^2)*(1-nu^2)));\n",
"D2 = 2*r2;\n",
"omega = U2/r2;\n",
"N = omega*30/%pi;\n",
"ctheta2 = S*Cp*1000*T01/U2;\n",
"alpha2 = (180/%pi)*acos(sqrt(1/Z));\n",
"cm2 = ctheta2/tan(alpha2*%pi/180);\n",
"c2 = ctheta2/sin(alpha2*%pi/180);\n",
"T2 = T01 - (c2^2)/(2*Cp*1000);\n",
"p2 = p01*(1-(((c2^2)*(1+zetaN))/(2*Cp*1000*T01)))^(gamma/(gamma-1));\n",
"b2_D2 = (0.25/%pi)*(R*T2/p2)*(mdot/(cm2*r2^2));\n",
"\n",
"//Results\n",
"printf('(i) The diamaeter of the rotor = %.4f m\n its speed of rotation = %.1f rad/s (N = %d rev/min)',D2,omega,N);\n",
"printf('\n(ii) The vane width to diameter ratio at rotor inlet = %.4f',b2_D2);\n",
"\n",
"//there are some errors in the answers given in textbook"
   ]
   }
,
{
		   "cell_type": "markdown",
		   "metadata": {},
		   "source": [
			"## Example 8.6: Ex_6.sce"
		   ]
		  },
  {
"cell_type": "code",
	   "execution_count": null,
	   "metadata": {
	    "collapsed": true
	   },
	   "outputs": [],
"source": [
"clear;\n",
"clc;\n",
"funcprot(0);\n",
"\n",
"//given data\n",
"Z = 12;//number of vanes\n",
"delW = 230;//in kW\n",
"T01 = 1050;//stagnation temperature in K\n",
"mdot = 1;//flow rate in kg/s\n",
"eff_ts = 0.81;//total-to-static efficiency\n",
"Cp = 1.1502;//in kJ/(kg.K)\n",
"gamma = 1.333;\n",
"R = 287;//gas constant\n",
"cm3_U2 = 0.25;\n",
"nu = 0.4;\n",
"r3s_r2 = 0.7;\n",
"w3av_w2 = 2.0;\n",
"p3 = 100;//static pressure at rotor exit in kPa\n",
"zetaN = 0.06;//nozzle enthalpy loss coefficient\n",
"U2 = 538.1;//in m/s\n",
"p01 = 3.109*10^5;//in Pa\n",
"\n",
"//results of Example 8.4 and Example 8.5\n",
"r3av_r3s = 0.5*(1+nu);\n",
"r3av_r2 = r3av_r3s*r3s_r2;\n",
"alpha2 = (180/%pi)*acos(sqrt(1/Z));\n",
"beta2 = 2*(90-alpha2);\n",
"beta3_av = (180/%pi)*atan(r3av_r2/cm3_U2);\n",
"beta3s = (180/%pi)*atan(r3s_r2/cm3_U2);\n",
"w3s_w2 = 2*cos(beta3_av*%pi/180)/cos(beta3s*%pi/180);\n",
"S = delW/(Cp*T01);\n",
"T03 = T01*(1-S);\n",
"T3 = T03 - (cm3_U2^2)*(U2^2)/(2*Cp*1000);\n",
"r2 = sqrt(mdot/((p3*1000/(R*T3))*(cm3_U2)*U2*%pi*(r3s_r2^2)*(1-nu^2)));\n",
"D2 = 2*r2;\n",
"omega = U2/r2;\n",
"N = omega*30/%pi;\n",
"ctheta2 = S*Cp*1000*T01/U2;\n",
"alpha2 = (180/%pi)*acos(sqrt(1/Z));\n",
"cm2 = ctheta2/tan(alpha2*%pi/180);\n",
"c2 = ctheta2/sin(alpha2*%pi/180);\n",
"T2 = T01 - (c2^2)/(2*Cp*1000);\n",
"p2 = p01*(1-(((c2^2)*(1+zetaN))/(2*Cp*1000*T01)))^(gamma/(gamma-1));\n",
"b2_D2 = (0.25/%pi)*(R*T2/p2)*(mdot/(cm2*r2^2));\n",
"\n",
"//Calculations\n",
"c3 = cm3_U2*U2;\n",
"cm3 = c3;\n",
"w3_av = 2*cm3/(cos(beta2*%pi/180));\n",
"w2 = w3_av/2;\n",
"c0 = sqrt(2*delW*1000/eff_ts);\n",
"zetaR = (c0^2 *(1-eff_ts)- (c3^2)- zetaN*(c2^2))/(w3_av^2); \n",
"i = beta2;\n",
"n = 1.75;\n",
"eff_ts_new = 1-((c3^2)+zetaN*(c2^2)+zetaR*(w3_av^2)+(1-(cos(i*%pi/180))^n)*(w2^2))/(c0^2);\n",
"\n",
"//Results\n",
"printf('(a)The rotor enthalpy loss coefficient = %.4f',zetaR);\n",
"printf('\n(b) The total-to-static efficiency of the turbine = %.3f',eff_ts_new);\n",
"\n",
"\n",
"//there are some errors in the answers given in textbook"
   ]
   }
],
"metadata": {
		  "kernelspec": {
		   "display_name": "Scilab",
		   "language": "scilab",
		   "name": "scilab"
		  },
		  "language_info": {
		   "file_extension": ".sce",
		   "help_links": [
			{
			 "text": "MetaKernel Magics",
			 "url": "https://github.com/calysto/metakernel/blob/master/metakernel/magics/README.md"
			}
		   ],
		   "mimetype": "text/x-octave",
		   "name": "scilab",
		   "version": "0.7.1"
		  }
		 },
		 "nbformat": 4,
		 "nbformat_minor": 0
}
