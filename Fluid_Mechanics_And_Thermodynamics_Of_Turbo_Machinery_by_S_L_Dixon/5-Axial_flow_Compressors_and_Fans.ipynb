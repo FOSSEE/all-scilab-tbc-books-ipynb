{
"cells": [
 {
		   "cell_type": "markdown",
	   "metadata": {},
	   "source": [
       "# Chapter 5: Axial flow Compressors and Fans"
	   ]
	},
{
		   "cell_type": "markdown",
		   "metadata": {},
		   "source": [
			"## Example 5.1: Ex_1.sce"
		   ]
		  },
  {
"cell_type": "code",
	   "execution_count": null,
	   "metadata": {
	    "collapsed": true
	   },
	   "outputs": [],
"source": [
"clear;\n",
"clc;\n",
"funcprot(0);\n",
"\n",
"//given data\n",
"T01 = 293;//in K\n",
"pi = 5;//pressure ratio\n",
"R = 0.5;//stage reaction\n",
"Um = 275;//in m/s\n",
"phi = 0.5;//flow coefficient\n",
"psi = 0.3;//stage loading factor\n",
"eff_stage = 0.888;//stage efficiency\n",
"Cp = 1005;//J/(kgC)\n",
"gamma = 1.4;\n",
"\n",
"//Calculations\n",
"beta1 = (180/%pi)*atan((R + 0.5*psi)/phi);\n",
"beta2 = (180/%pi)*atan((R - 0.5*psi)/phi);\n",
"alpha2 = beta1;\n",
"alpha1 = beta2;\n",
"delT0 = psi*(Um^2)/Cp;\n",
"N = (T01/delT0)*((pi^((gamma-1)/(eff_stage*gamma))) - 1);\n",
"N = ceil(N);\n",
"eff_ov = ((pi^((gamma-1)/gamma)) - 1)/((pi^((gamma-1)/(eff_stage*gamma))) - 1);\n",
"printf('The flow angles are: beta1 = alpha2 = %.2f deg and beta2 = alpha1 = %d deg.',beta1,ceil(beta2));\n",
"printf('\n The number of stages required = %d',N);\n",
"printf('\n The overall efficiency = %.1f percentage',eff_ov*100);\n",
"\n",
"//there is a small error in the answer given in textbook"
   ]
   }
,
{
		   "cell_type": "markdown",
		   "metadata": {},
		   "source": [
			"## Example 5.2: Ex_2.sce"
		   ]
		  },
  {
"cell_type": "code",
	   "execution_count": null,
	   "metadata": {
	    "collapsed": true
	   },
	   "outputs": [],
"source": [
"clear;\n",
"clc;\n",
"funcprot(0);\n",
"\n",
"//given data\n",
"R = 0.5;//stage reaction\n",
"s_c = 0.9;//space-chord ratio\n",
"beta1_ = 44.5;//in deg\n",
"beta2_ = -0.5;//in deg\n",
"h_c = 2.0;//height-chord ratio\n",
"lamda = 0.86;//work done factor\n",
"i = 0.4;//mean radius relative incidence\n",
"rho = 3.5;//density in kg/m^3\n",
"Um = 242;//in m/s\n",
"eps_max = 37.5;//in deg\n",
"eps = 37.5;//in deg\n",
"delp0 = 0.032;//the profile total pressure loss coefficient\n",
"//Calculations\n",
"theta = beta1_ - beta2_;\n",
"deltaN = (0.229*theta*(s_c^0.5))/(1 - (theta*(s_c^0.5)/500));\n",
"beta2N = deltaN + beta2_;\n",
"eps_ = 0.8*eps_max;\n",
"i_ = beta2N + eps_ - beta1_;\n",
"i = 0.4*eps_ + i_;\n",
"beta1 = beta1_ + i;\n",
"beta2 = beta1 - eps;\n",
"alpha2 = beta1;\n",
"alpha1 = beta2;\n",
"phi = 1/(tan(alpha1*%pi/180) + tan(beta1*%pi/180));\n",
"psi = lamda*phi*(tan(alpha2*%pi/180) - tan(alpha1*%pi/180));\n",
"betam = (180/%pi)*atan(0.5*(tan(beta1*%pi/180) + tan(beta2*%pi/180)));\n",
"CL = 2*s_c*cos(betam*%pi/180)*(tan(beta1*%pi/180) - tan(beta2*%pi/180));\n",
"CDp = s_c*(delp0)*((cos(betam*%pi/180))^3)/((cos(beta1*%pi/180))^2);\n",
"CDa = 0.02*s_c/h_c;\n",
"CDx = 0.018*CL^2;\n",
"CD = CDp + CDa + CDx;\n",
"eff_tt = 1 - (CD*phi^2)/(psi*s_c*((cos(betam*%pi/180))^3));\n",
"delp = eff_tt*psi*rho*Um^2;\n",
"\n",
"//Results\n",
"printf('(i)The nominal deflection= %.1f deg.\n the nominal incidence = %.1f deg.',eps_,i_);\n",
"printf('\n (ii)The inlet flow angle, beta1 = alpha2 = %.1f deg\n outlet flow angle beta2 = alpha1 = %.1f deg.',beta1,beta2);\n",
"printf('\n (iii)The flow coefficient = %.3f\n The stage loading factor = %.3f',phi,psi);\n",
"printf('\n (iv) The rotor lift coefficient = %.2f.',CL);\n",
"printf('\n (v) The overall drag coefficient of each row = %.3f.',CD);\n",
"printf('\n (vi) The total-to-total stage efficiency = %.3f.\n The pressure rise across the stage = %d kPa',eff_tt,delp/1000);\n",
"\n",
"\n",
"//there are small errors in the answers given in textbook"
   ]
   }
],
"metadata": {
		  "kernelspec": {
		   "display_name": "Scilab",
		   "language": "scilab",
		   "name": "scilab"
		  },
		  "language_info": {
		   "file_extension": ".sce",
		   "help_links": [
			{
			 "text": "MetaKernel Magics",
			 "url": "https://github.com/calysto/metakernel/blob/master/metakernel/magics/README.md"
			}
		   ],
		   "mimetype": "text/x-octave",
		   "name": "scilab",
		   "version": "0.7.1"
		  }
		 },
		 "nbformat": 4,
		 "nbformat_minor": 0
}
