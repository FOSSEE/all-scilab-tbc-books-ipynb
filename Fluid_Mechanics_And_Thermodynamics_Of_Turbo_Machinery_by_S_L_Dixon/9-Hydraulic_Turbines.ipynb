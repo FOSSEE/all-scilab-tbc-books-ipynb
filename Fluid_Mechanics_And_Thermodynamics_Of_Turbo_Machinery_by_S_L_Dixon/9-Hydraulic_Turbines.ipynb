{
"cells": [
 {
		   "cell_type": "markdown",
	   "metadata": {},
	   "source": [
       "# Chapter 9: Hydraulic Turbines"
	   ]
	},
{
		   "cell_type": "markdown",
		   "metadata": {},
		   "source": [
			"## Example 9.1: Ex_1.sce"
		   ]
		  },
  {
"cell_type": "code",
	   "execution_count": null,
	   "metadata": {
	    "collapsed": true
	   },
	   "outputs": [],
"source": [
"clear;\n",
"clc;\n",
"funcprot(0);\n",
"//given data\n",
"Q = 2.272;//water volume flow rate in m^3/s\n",
"l = 300;//length in m\n",
"Hf = 20;//head loss in m\n",
"f = 0.01;//friction factor\n",
"g = 9.81;//acceleration due to gravity in m/s^2\n",
"//Calculations\n",
"d = (32*f*l*((Q/%pi)^2)/(g*Hf))^(1/5);\n",
"//Results\n",
"printf('The diameter of the pipe = %.4f m',d);"
   ]
   }
,
{
		   "cell_type": "markdown",
		   "metadata": {},
		   "source": [
			"## Example 9.2: Ex_2.sce"
		   ]
		  },
  {
"cell_type": "code",
	   "execution_count": null,
	   "metadata": {
	    "collapsed": true
	   },
	   "outputs": [],
"source": [
"clear;\n",
"clc;\n",
"funcprot(0);\n",
"//given data\n",
"P = 4.0;//in MW\n",
"N = 375;//in rev/min\n",
"H_eps = 200;//in m\n",
"KN = 0.98;//nozzle velocity coefficient\n",
"d = 1.5;//in m\n",
"k = 0.15;//decrease in relative flow velocity across the buckets\n",
"alpha = 165;//in deg\n",
"g = 9.81;//in m/s^2\n",
"rho = 1000;//in kg/m^3\n",
"//Calculations\n",
"U = N*%pi*d*0.5/30;\n",
"c1 = KN*sqrt(2*g*H_eps);\n",
"nu = U/c1;\n",
"eff = 2*nu*(1-nu)*(1-(1-k)*cos(alpha*%pi/180));\n",
"Q = (P*10^6 /eff)/(rho*g*H_eps);\n",
"Aj = Q/(2*c1);\n",
"dj = sqrt(4*Aj/%pi);\n",
"omega_sp = (N*%pi/30)*sqrt((P*10^6)/rho)/((g*H_eps)^(5/4));\n",
"//Results\n",
"printf('(i)The runner efficiency = %.4f',eff);\n",
"printf('\n (ii)The diameter of each jet = %.4f m',dj);\n",
"printf('\n (iii)The power specific speed = %.3f rad',omega_sp);"
   ]
   }
,
{
		   "cell_type": "markdown",
		   "metadata": {},
		   "source": [
			"## Example 9.3: Ex_3.sce"
		   ]
		  },
  {
"cell_type": "code",
	   "execution_count": null,
	   "metadata": {
	    "collapsed": true
	   },
	   "outputs": [],
"source": [
"clear;\n",
"clc;\n",
"funcprot(0);\n",
"\n",
"//given data\n",
"H_eps = 150;//in m\n",
"z = 2;//in m\n",
"U2 = 35;//runner tip speed in m/s\n",
"c3 = 10.5;//meridonal velocity of water in m/s\n",
"c4 = 3.5;//velocity at exit in m/s\n",
"delHN = 6.0;//in m\n",
"delHR = 10.0;//in m\n",
"delHDT = 1.0;//in m\n",
"g = 9.81;//in m/s^2\n",
"Q = 20;//in m^3/s\n",
"omega_sp = 0.8;//specific speed of turbine in rad\n",
"c2 = 38.73;//in m/s\n",
"\n",
"//Calculations\n",
"H3 = ((c4^2 - c3^2)/(2*g)) + delHDT - z;\n",
"H2 = H_eps-delHN-(c2^2)/(2*g);\n",
"delW = g*(H_eps-delHN-delHR-z)-0.5*c3^2 -g*H3;\n",
"ctheta2 = delW/U2;\n",
"alpha2 = (180/%pi)*atan(ctheta2/c3);\n",
"beta2 = (180/%pi)*atan((ctheta2-U2)/c3);\n",
"eff_H = delW/(g*H_eps);\n",
"omega = (omega_sp*(g*H_eps)^(5/4))/sqrt(Q*delW);\n",
"N = omega*30/%pi;\n",
"D2 = 2*U2/omega;\n",
"\n",
"//Results\n",
"printf('(i)The pressure head H3 relative to the trailrace = %.1f m\n The pressure head H2 at exit from the runner = %.2f m',H3,H2);\n",
"printf('\n(ii)The flow angles at runner inlet and at guide vane exit:\n alpha2 = %.1f deg\n beta2 = %.2f deg',alpha2,beta2);\n",
"printf('\n(iii)The hydraulic efficiency of the turbine = %.4f',eff_H);\n",
"printf('\n The speed of rotation, N = %d rev/min',N);\n",
"printf('\n The runner diameter is, D2 = %.3f m',D2);\n",
"\n",
"\n",
"//there are small errors in the answers given in textbook"
   ]
   }
,
{
		   "cell_type": "markdown",
		   "metadata": {},
		   "source": [
			"## Example 9.4: Ex_4.sce"
		   ]
		  },
  {
"cell_type": "code",
	   "execution_count": null,
	   "metadata": {
	    "collapsed": true
	   },
	   "outputs": [],
"source": [
"clear;\n",
"clc;\n",
"funcprot(0);\n",
"\n",
"//function to calculate flow angles\n",
"function [alpha2,beta2,beta3] =fun(r,N,cx2,ctheta2)\n",
"    alpha2 = (180/%pi)*atan(ctheta2/cx2);\n",
"    beta2 = (180/%pi)*atan((U2)*(r)/cx2 - tan(alpha2*%pi/180));\n",
"    beta3 = (180/%pi)*atan((U2)*r/cx2) ;\n",
"endfunction\n",
"    \n",
"//given data\n",
"P = 8;//output power in MW\n",
"HE = 13.4;//available head at entry in m\n",
"N = 200;//in rev/min\n",
"L = 1.6;//length of inlet guide vanes\n",
"d1 = 3.1;//diameter of trailing edge in m\n",
"D2t = 2.9;//runner diameter in m\n",
"nu = 0.4;//hub-tip ratio\n",
"eff = 0.92;//hydraulic efficiency\n",
"rho = 1000;//density in kg/m^3\n",
"g = 9.81;//acceleration due to gravity in m/s^2 \n",
"\n",
"//Calculations\n",
"Q = P*10^6 /(eff*rho*g*HE);\n",
"cr1 = Q/(2*%pi*0.5*d1*L);\n",
"cx2 = 4*Q/(%pi*D2t^2 *(1-nu^2));\n",
"U2 = N*(%pi/30)*D2t/2;\n",
"ctheta2 = eff*g*HE/U2;\n",
"ctheta1 = ctheta2*(D2t/d1);\n",
"alpha1 = (180/%pi)*atan(ctheta1/cr1);\n",
"\n",
"//calculating flow angle for diffrent radii\n",
"[alpha21,beta21,beta31] = fun(1.0,U2,cx2,ctheta2);\n",
"[alpha22,beta22,beta32] = fun(0.7,U2,cx2,ctheta2/0.7);\n",
"[alpha23,beta23,beta33] = fun(0.4,U2,cx2,ctheta2/0.4);\n",
"\n",
"//Results\n",
"printf('Calculated values of flow angles:\n Parameter                              Ratio of r/ri                 ');\n",
"printf('\n ------------------------------------------------------------');\n",
"printf('\n                        0.4            0.7               1.0');\n",
"printf('\n                       --------------------------------------');\n",
"printf('\n ctheta2(in m/s)       %.3f          %.3f             %.3f',ctheta2/0.4,ctheta2/0.7,ctheta2/1.0);\n",
"printf('\n tan(alpha2)           %.3f          %.4f            %.3f',tan(alpha23*%pi/180),tan(alpha22*%pi/180),tan(alpha21*%pi/180));\n",
"printf('\n alpha2(deg)           %.2f          %.2f             %.2f',alpha23,alpha22,alpha21);\n",
"printf('\n U/cx2                 %.3f          %.4f            %.3f',(U2/cx2)*0.4,(U2/cx2)*0.7,(U2/cx2)*1.0);\n",
"printf('\n beta2(deg)            %.2f          %.2f             %.2f',beta23,beta22,beta21);\n",
"printf('\n beta3(deg)            %.2f          %.2f             %.2f',beta33,beta32,beta31);\n",
"printf('\n ------------------------------------------------------------');"
   ]
   }
,
{
		   "cell_type": "markdown",
		   "metadata": {},
		   "source": [
			"## Example 9.5: Ex_5.sce"
		   ]
		  },
  {
"cell_type": "code",
	   "execution_count": null,
	   "metadata": {
	    "collapsed": true
	   },
	   "outputs": [],
"source": [
"clear;\n",
"clc;\n",
"funcprot(0);\n",
"\n",
"//given data\n",
"k = 1/5;//scale ratio\n",
"Pm = 3;//in kW\n",
"Hm = 1.8;//in m\n",
"Nm = 360;//in rev/min\n",
"Qm = 0.215;//in m^3/s\n",
"Hp = 60;//in m\n",
"n = 0.25;\n",
"rho = 1000;//in kg/m^3\n",
"g = 9.81;//in m/s^2\n",
"\n",
"//Calculations\n",
"Np = Nm*k*(Hp/Hm)^0.5;\n",
"Qp = Qm*(Nm/Np)*(1/k)^3;\n",
"Pp = Pm*((Np/Nm)^3)*(1/k)^5;\n",
"eff_m = Pm*1000/(rho*Qm*g*Hm);\n",
"eff_p = 1 - (1-eff_m)*0.2^n;\n",
"Pp_corrected = Pp*eff_p/eff_m;\n",
"\n",
"//Results\n",
"printf('The speed = %.1f rev/min.',Np);\n",
"printf('\n The flow rate = %.2f m^3/s.',Qp);\n",
"printf('\n Power of the full-scale = %.2f MW.',Pp/1000);\n",
"printf('\n The efficiency of the model turbine = %.2f.',eff_m);\n",
"printf('\n The efficiency of the prototype = %.4f.',eff_p);\n",
"printf('\n The power of the full-size turbine = %.1f MW.',Pp_corrected/1000);"
   ]
   }
,
{
		   "cell_type": "markdown",
		   "metadata": {},
		   "source": [
			"## Example 9.6: Ex_6.sce"
		   ]
		  },
  {
"cell_type": "code",
	   "execution_count": null,
	   "metadata": {
	    "collapsed": true
	   },
	   "outputs": [],
"source": [
"clear;\n",
"clc;\n",
"funcprot(0);\n",
"\n",
"//given data\n",
"//data from EXAMPLE 9.3\n",
"H_eps = 150;//in m\n",
"z = 2;//in m\n",
"U2 = 35;//runner tip speed in m/s\n",
"c3 = 10.5;//meridonal velocity of water in m/s\n",
"c4 = 3.5;//velocity at exit in m/s\n",
"delHN = 6.0;//in m\n",
"delHR = 10.0;//in m\n",
"delHDT = 1.0;//in m\n",
"g = 9.81;//in m/s^2\n",
"Q = 20;//in m^3/s\n",
"omega_sp = 0.8;//specific speed of turbine in rad\n",
"c2 = 38.73;//in m/s\n",
"\n",
"//data from this example\n",
"Pa = 1.013;//atmospheric pressure in bar\n",
"Tw = 25;//temperature of water in degC\n",
"Pv = 0.03166;//vapor pressure of water at Tw\n",
"rho = 1000;//density of wate in kg/m^3\n",
"g = 9.81;//acceleration due to gravity in m/s^2\n",
"\n",
"H3 = ((c4^2 - c3^2)/(2*g)) + delHDT - z;\n",
"H2 = H_eps-delHN-(c2^2)/(2*g);\n",
"delW = g*(H_eps-delHN-delHR-z)-0.5*c3^2 -g*H3;\n",
"ctheta2 = delW/U2;\n",
"alpha2 = (180/%pi)*atan(ctheta2/c3);\n",
"beta2 = (180/%pi)*atan((ctheta2-U2)/c3);\n",
"eff_H = delW/(g*H_eps);\n",
"omega = (omega_sp*(g*H_eps)^(5/4))/sqrt(Q*delW);\n",
"\n",
"Hs = (Pa-Pv)*(10^5)/(rho*g) - z;\n",
"sigma = Hs/H_eps;\n",
"omega_ss = omega*(Q^0.5)/(g*Hs)^(3/4);\n",
"\n",
"//Results\n",
"printf('The NSPH for the turbine = %.3f m.',Hs);\n",
"if omega_ss>4.0 then\n",
"    printf('\n Since the suction specific speed (= %.4f.)is greater than 4.0(rad), the cavitation is likely to occur.',omega_ss);\n",
"end\n",
"\n",
"//there is small error in the answer given in textbook"
   ]
   }
],
"metadata": {
		  "kernelspec": {
		   "display_name": "Scilab",
		   "language": "scilab",
		   "name": "scilab"
		  },
		  "language_info": {
		   "file_extension": ".sce",
		   "help_links": [
			{
			 "text": "MetaKernel Magics",
			 "url": "https://github.com/calysto/metakernel/blob/master/metakernel/magics/README.md"
			}
		   ],
		   "mimetype": "text/x-octave",
		   "name": "scilab",
		   "version": "0.7.1"
		  }
		 },
		 "nbformat": 4,
		 "nbformat_minor": 0
}
