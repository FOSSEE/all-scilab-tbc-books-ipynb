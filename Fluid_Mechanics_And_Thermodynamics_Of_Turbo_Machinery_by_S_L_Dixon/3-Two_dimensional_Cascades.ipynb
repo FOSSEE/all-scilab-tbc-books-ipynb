{
"cells": [
 {
		   "cell_type": "markdown",
	   "metadata": {},
	   "source": [
       "# Chapter 3: Two dimensional Cascades"
	   ]
	},
{
		   "cell_type": "markdown",
		   "metadata": {},
		   "source": [
			"## Example 3.1: Ex_1.sce"
		   ]
		  },
  {
"cell_type": "code",
	   "execution_count": null,
	   "metadata": {
	    "collapsed": true
	   },
	   "outputs": [],
"source": [
"clear all;\n",
"clc;\n",
"funcprot(0);\n",
"\n",
"//function to calculate m and delta\n",
"function [m,delta] = func(a_l,alpha2,theta)\n",
"    m = 0.23*(2*a_l)^2 + alpha2/500;\n",
"    delta = m*theta;\n",
"endfunction\n",
"\n",
"//given data\n",
"alpha1_ = 50;// in deg\n",
"alpha2_ = 20;// in deg\n",
"a_l = 0.5;//percentage\n",
"s_l = 1.0;\n",
"eps = 21;//in deg\n",
"\n",
"//Calculations\n",
"theta = alpha1_ - alpha2_;\n",
"alpha21 = 20;//in deg\n",
"[m1,delta1] = func(a_l,alpha21,theta);\n",
"alpha22 = 28.1;//in deg\n",
"[m2,delta2] = func(a_l,alpha22,theta);\n",
"alpha23 = 28.6;//in deg\n",
"[m3,delta3] = func(a_l,alpha23,theta);\n",
"alpha1 = eps + alpha23;\n",
"i = alpha1 - alpha1_;\n",
"alpham = (180/%pi)*atan(0.5*(tan(alpha1*%pi/180) + tan(alpha23*%pi/180)));\n",
"CL = 2*(s_l)*cos(alpham*%pi/180)*(tan(alpha1*%pi/180) - tan(alpha23*%pi/180));\n",
"\n",
"//Results\n",
"printf('The fluid deflection = %d deg.',eps);\n",
"printf('\n The fluid deviation = %.1f deg.',i);\n",
"printf('\n The ideal lift coefficient at the design point = %.2f',CL);"
   ]
   }
,
{
		   "cell_type": "markdown",
		   "metadata": {},
		   "source": [
			"## Example 3.2: Ex_2.sce"
		   ]
		  },
  {
"cell_type": "code",
	   "execution_count": null,
	   "metadata": {
	    "collapsed": true
	   },
	   "outputs": [],
"source": [
"clear;\n",
"clc;\n",
"funcprot(0);\n",
"\n",
"//given data\n",
"s_l = 1.0;\n",
"alpha1_ = 50;//in deg\n",
"alpha2_ = 20;//in deg\n",
"eps_ = 21;//in deg\n",
"i_ = -0.4;//in deg\n",
"i = 3.8;//in deg\n",
"CD = 0.017;\n",
"eps = 1.15*eps_;\n",
"\n",
"//Calculations\n",
"alpha1 = alpha1_+i;\n",
"alpha2 = alpha1-eps;\n",
"alpham = (180/%pi)*atan(0.5*(tan(alpha1*%pi/180) + tan(alpha2*%pi/180)));\n",
"zeta = CD/((s_l)*(cos(alpham*%pi/180))^3);\n",
"Cf = 2*(tan(alpha1*%pi/180) - tan(alpha2*%pi/180));\n",
"eff_D = 1 - zeta/(Cf*tan(alpham*%pi/180));\n",
"\n",
"//Results\n",
"printf('The tangential lift force coefficient = %.3f',Cf);\n",
"printf('\n The diffuser efficiency = %d percentage.',eff_D*100);"
   ]
   }
,
{
		   "cell_type": "markdown",
		   "metadata": {},
		   "source": [
			"## Example 3.3: Ex_3.sce"
		   ]
		  },
  {
"cell_type": "code",
	   "execution_count": null,
	   "metadata": {
	    "collapsed": true
	   },
	   "outputs": [],
"source": [
"clear;\n",
"clc;\n",
"funcprot(0);\n",
"//given data\n",
"alpha1 = 58;//in deg\n",
"alpha2 = 44;//in deg\n",
"AVR = 1.0;\n",
"//Calculations\n",
"alpham = (180/%pi)*atan(0.5*(tan(alpha1*%pi/180) + tan(alpha2*%pi/180)));\n",
"zetam = (180/%pi)*atan(tan(alpham*%pi/180) - 0.213);\n",
"Cpi = 1-(cos(alpha1*%pi/180)/cos(alpha2*%pi/180))^2;\n",
"s_l = 9*(0.567-Cpi);\n",
"theta = ((zetam-alpha2+1.1*(s_l)^(1/3))/(0.5-0.31*(s_l)^(1/3)));\n",
"delta = alpha2-zetam-0.5*theta;\n",
"//Results\n",
"printf('The suitable space–chord ratio = %.4f',s_l);\n",
"printf('\n The suitable blade camber = %.2f deg.',theta);"
   ]
   }
],
"metadata": {
		  "kernelspec": {
		   "display_name": "Scilab",
		   "language": "scilab",
		   "name": "scilab"
		  },
		  "language_info": {
		   "file_extension": ".sce",
		   "help_links": [
			{
			 "text": "MetaKernel Magics",
			 "url": "https://github.com/calysto/metakernel/blob/master/metakernel/magics/README.md"
			}
		   ],
		   "mimetype": "text/x-octave",
		   "name": "scilab",
		   "version": "0.7.1"
		  }
		 },
		 "nbformat": 4,
		 "nbformat_minor": 0
}
