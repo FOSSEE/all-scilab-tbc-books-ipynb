{
"cells": [
 {
		   "cell_type": "markdown",
	   "metadata": {},
	   "source": [
       "# Chapter 6: Three dimensional Flows in Axial Turbomachines"
	   ]
	},
{
		   "cell_type": "markdown",
		   "metadata": {},
		   "source": [
			"## Example 6.1: Ex_1.sce"
		   ]
		  },
  {
"cell_type": "code",
	   "execution_count": null,
	   "metadata": {
	    "collapsed": true
	   },
	   "outputs": [],
"source": [
"clear;\n",
"clc;\n",
"funcprot(0);\n",
"\n",
"//given data\n",
"dt = 1.0;//tip diameter in m\n",
"dh = 0.9;//hub diameter in m\n",
"alpha1 = 30;//in deg\n",
"beta1 = 60;//in deg\n",
"alpha2 = 60;//in deg\n",
"beta2 = 30;//in deg\n",
"N = 6000;//rotational speed in rev/min\n",
"rhog = 1.5;//gas density in kg/m^3\n",
"Rt = 0.5;//degree of reaction at the tip\n",
"\n",
"//Calculations\n",
"omega = 2*%pi*N/60;\n",
"Ut = omega*0.5*dt;\n",
"Uh = omega*0.5*dh;\n",
"cx = Ut/(tan(alpha1*%pi/180) + tan(beta1*%pi/180));\n",
"mdot = %pi*((0.5*dt)^2 - (0.5*dh)^2)*rhog*cx;\n",
"Wcdot = mdot*Ut*cx*(tan(alpha2*%pi/180)- tan(alpha1*%pi/180));\n",
"ctheta1t = cx*tan(alpha1*%pi/180);\n",
"ctheta1h = ctheta1t*(dt/dh);\n",
"ctheta2t = cx*tan(alpha2*%pi/180);\n",
"ctheta2h = ctheta2t*(dt/dh);\n",
"alpha1_ = (180/%pi)*atan(ctheta1h/cx);\n",
"beta1_ = (180/%pi)*atan((Uh/cx) - tan(alpha1_*%pi/180));\n",
"alpha2_ = (180/%pi)*atan(ctheta2h/cx);\n",
"beta2_ = (180/%pi)*atan((Uh/cx) - tan(alpha2_*%pi/180));\n",
"k = Rt*(0.5*dt)^2;\n",
"Rh = 1 - (k/(0.5*dh)^2);\n",
"\n",
"//Results\n",
"printf('(i)The axial velocity, cx = %d m/s',cx);\n",
"printf('\n (ii)The mass flow rate = %.1f kg/s',mdot);\n",
"printf('\n (iii)The power absorbed by the stage = %.1f MW',Wcdot/(10^6));\n",
"printf('\n (iv)The flow angles at the hub are:\n alpha1 = %.2f deg,\n beta1 = %.2f deg,\n alpha2 = %.1f deg, and\n beta2 = %.2f deg.',alpha1_,beta1_,alpha2_,beta2_);\n",
"printf('\n (v)The reaction ratio of the stage at the hub, R = %.3f.',Rh);\n",
"\n",
"\n",
"//there are small errors in the answers given in textbook"
   ]
   }
,
{
		   "cell_type": "markdown",
		   "metadata": {},
		   "source": [
			"## Example 6.2: Ex_2.sce"
		   ]
		  },
  {
"cell_type": "code",
	   "execution_count": null,
	   "metadata": {
	    "collapsed": true
	   },
	   "outputs": [],
"source": [
"clear;\n",
"clc;\n",
"funcprot(0);\n",
"\n",
"//given data\n",
"\n",
"R = 0.5;//degree of reaction\n",
"Cp = 1005;//kJ/(kgC)\n",
"cx1_Ut_rt = 0.4;\n",
"delT0 = 16.1;//temperature rise\n",
"Ut = 300;//in m/s\n",
"\n",
"//calculations\n",
"A1 = cx1_Ut_rt^2 +(0.5-0.18*log(1));\n",
"c1 = 2*(1-R);\n",
"c2 = Cp*delT0/(2*Ut^2 *(1-R));\n",
"A2 = 0.56;\n",
"k = 0.4:0.01:1.0;\n",
"n = (1.0-0.4)/0.01 + 1;\n",
"i = 1;\n",
"for i = 1:n\n",
"    cx1_Ut(i) = sqrt(A1 - (c1^2)*(0.5*k(i)^2 - c2*log(k(i))));\n",
"    cx2_Ut(i) = sqrt(A2 - (c1^2)*(0.5*k(i)^2 + c2*log(k(i))));\n",
"    R_(i) = 0.778+log(k(i));\n",
"    Rn(i) = 0.5;\n",
"end\n",
"\n",
"//Results\n",
"plot(k,cx1_Ut,'bo-');\n",
"plot(k,cx2_Ut,'<>r-');\n",
"title('Solution of exit axial-velocity profile for a first power stage','fontsize',3) ;//title of the plot\n",
"xlabel('Radius ratio, r/rt','fontsize',3) ;//x label\n",
"ylabel('cx/Ut','fontsize',3) ;//y label \n",
"legend(['(cx2/Ut)';'(cx1/Ut)'] , opt=2); //legend box\n",
"a=gca(); \n",
"b = newaxes(); \n",
"b.y_location = 'right'; \n",
"b.filled = 'off'; \n",
"b.axes_visible = ['off','on','on']; \n",
"b.axes_bounds = a.axes_bounds; \n",
"b.font_size = a.font_size; \n",
"plot(k,R_,'g');\n",
"plot(k,Rn,);\n",
"ylabel('Reaction','fontsize',3) ;//y label \n",
"legend(['True Reaction';'Nominal Reaction'] , opt=1); //legend box\n",
""
   ]
   }
],
"metadata": {
		  "kernelspec": {
		   "display_name": "Scilab",
		   "language": "scilab",
		   "name": "scilab"
		  },
		  "language_info": {
		   "file_extension": ".sce",
		   "help_links": [
			{
			 "text": "MetaKernel Magics",
			 "url": "https://github.com/calysto/metakernel/blob/master/metakernel/magics/README.md"
			}
		   ],
		   "mimetype": "text/x-octave",
		   "name": "scilab",
		   "version": "0.7.1"
		  }
		 },
		 "nbformat": 4,
		 "nbformat_minor": 0
}
