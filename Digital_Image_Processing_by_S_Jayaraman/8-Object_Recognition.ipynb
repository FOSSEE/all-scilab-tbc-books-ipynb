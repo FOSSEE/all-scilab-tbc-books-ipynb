{
"cells": [
 {
		   "cell_type": "markdown",
	   "metadata": {},
	   "source": [
       "# Chapter 8: Object Recognition"
	   ]
	},
{
		   "cell_type": "markdown",
		   "metadata": {},
		   "source": [
			"## Example 8.4: To_verify_the_given_matrix_is_a_covaraince_matrix.sce"
		   ]
		  },
  {
"cell_type": "code",
	   "execution_count": null,
	   "metadata": {
	    "collapsed": true
	   },
	   "outputs": [],
"source": [
"//Caption: To verify the given matrix is a covaraince matrix\n",
"//Problem 4\n",
"//page438\n",
"close;\n",
"clear;\n",
"clc;\n",
"K = [37,-15;-15,37];\n",
"evals = spec(K);\n",
"evals = gsort(evals);\n",
"disp(evals,'Eigen Values are =')\n",
"if (evals==abs(evals)) then\n",
"    disp('Both the eigen values are non-negative and the given matrix is a covariance matrix');\n",
"else\n",
"    disp('non-covariance matrix')\n",
"end"
   ]
   }
,
{
		   "cell_type": "markdown",
		   "metadata": {},
		   "source": [
			"## Example 8.5: To_compute_the_covariance_of_the_given_2D_data.sce"
		   ]
		  },
  {
"cell_type": "code",
	   "execution_count": null,
	   "metadata": {
	    "collapsed": true
	   },
	   "outputs": [],
"source": [
"//Caption: To compute the covariance of the given 2D data\n",
"//Problem 5\n",
"//page439\n",
"close;\n",
"clear;\n",
"clc;\n",
"X1 = [2,1]';\n",
"X2 = [3,2]';\n",
"X3 = [2,3]';\n",
"X4 = [1,2]';\n",
"X = [X1,X2,X3,X4];\n",
"disp(X,'X=');\n",
"[M,N] = size(X); //M=rows, N = columns\n",
"for i =1:N\n",
"  m(i) = mean(X(:,i));\n",
"  A(:,i) = X(:,i)-m(i);\n",
"end\n",
"m = m';\n",
"disp(m,'mean =');\n",
"K = A'*A;\n",
"K = K/(M-1);\n",
"disp(K,'The Covaraince matix is K =')\n",
"//Result\n",
"//X=   \n",
"//    2.    3.    2.    1.  \n",
"//    1.    2.    3.    2.  \n",
"//mean =   \n",
"//    1.5    2.5    2.5    1.5  \n",
"// \n",
"//The Covaraince matix is K =   \n",
"//    0.5    0.5  - 0.5  - 0.5  \n",
"//    0.5    0.5  - 0.5  - 0.5  \n",
"//  - 0.5  - 0.5    0.5    0.5  \n",
"//  - 0.5  - 0.5    0.5    0.5 "
   ]
   }
,
{
		   "cell_type": "markdown",
		   "metadata": {},
		   "source": [
			"## Example 8.9: Develop_a_perceptron_AND_function_with_bipolar_inputs_and_targets.sce"
		   ]
		  },
  {
"cell_type": "code",
	   "execution_count": null,
	   "metadata": {
	    "collapsed": true
	   },
	   "outputs": [],
"source": [
"//Caption: Develop a perceptron AND function with bipolar inputs and targets\n",
"//Problem 9\n",
"//page441\n",
"close;\n",
"clear;\n",
"clc;\n",
"X1 = [1,-1,1,-1]; //X1 and X2 are input vectors to AND function\n",
"X2 = [1,1,-1,-1];\n",
"//b = [1,1,1,1];    //Biasing vector\n",
"T = [1,-1,-1,-1]; //Target vector for AND function\n",
"W1 = 0; //Weights are initialized \n",
"W2 = 0;\n",
"b = 0;  //bias initialized \n",
"alpha = 1; //learning rate\n",
"for i = 1:length(X1)\n",
"    Yin(i) = b+X1(i)*W1+X2(i)*W2;\n",
"    if (Yin(i)>=1) \n",
"        Y(i)=1;\n",
"    elseif((Yin(i)<1)&(Yin(i)>=-1))\n",
"        Y(i)=0;\n",
"    elseif(Yin(i)<-1)\n",
"        Y(i)=-1;\n",
"    end\n",
"    disp(Yin(i),'Yin=')\n",
"    disp(Y(i),'Y=')\n",
"    if(Y(i)~=T(i))\n",
"        b = b+alpha*T(i);\n",
"        W1 = W1+alpha*T(i)*X1(i);\n",
"        W2 = W2+alpha*T(i)*X2(i);\n",
"        disp(b,'b=')\n",
"        disp(W1,'W1=')\n",
"        disp(W2,'W2=')\n",
"    end   \n",
"end\n",
"disp('Final Weights after one iteration are')\n",
"disp(b,'Bias Weigth b=')\n",
"disp(W1,'W1=')\n",
"disp(W2,'W2=')"
   ]
   }
],
"metadata": {
		  "kernelspec": {
		   "display_name": "Scilab",
		   "language": "scilab",
		   "name": "scilab"
		  },
		  "language_info": {
		   "file_extension": ".sce",
		   "help_links": [
			{
			 "text": "MetaKernel Magics",
			 "url": "https://github.com/calysto/metakernel/blob/master/metakernel/magics/README.md"
			}
		   ],
		   "mimetype": "text/x-octave",
		   "name": "scilab",
		   "version": "0.7.1"
		  }
		 },
		 "nbformat": 4,
		 "nbformat_minor": 0
}
