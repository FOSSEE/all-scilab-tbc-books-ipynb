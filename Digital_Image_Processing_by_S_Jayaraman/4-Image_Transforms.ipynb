{
"cells": [
 {
		   "cell_type": "markdown",
	   "metadata": {},
	   "source": [
       "# Chapter 4: Image Transforms"
	   ]
	},
{
		   "cell_type": "markdown",
		   "metadata": {},
		   "source": [
			"## Example 4.10: Program_to_compute_discrete_cosine_transform.sce"
		   ]
		  },
  {
"cell_type": "code",
	   "execution_count": null,
	   "metadata": {
	    "collapsed": true
	   },
	   "outputs": [],
"source": [
"//Caption: Program to compute discrete cosine tranform\n",
"//Example4.10\n",
"//page 198\n",
"clc;\n",
"N =4; //DCT matrix of order four\n",
"X = dct_mtx(N);\n",
"disp(X,'DCT matrix of order four')\n",
"//Result\n",
"//DCT matrix of order four   \n",
"// \n",
"//    0.5          0.5          0.5          0.5        \n",
"//    0.6532815    0.2705981  - 0.2705981  - 0.6532815  \n",
"//    0.5        - 0.5        - 0.5          0.5        \n",
"//    0.2705981  - 0.6532815    0.6532815  - 0.2705981  "
   ]
   }
,
{
		   "cell_type": "markdown",
		   "metadata": {},
		   "source": [
			"## Example 4.12: Program_to_perform_KL_tranform_for_the_given_2D_matrix.sce"
		   ]
		  },
  {
"cell_type": "code",
	   "execution_count": null,
	   "metadata": {
	    "collapsed": true
	   },
	   "outputs": [],
"source": [
"//Caption: Program to perform KL transform for the given 2D matrix\n",
"//Example4.12\n",
"//page 208\n",
"clear;\n",
"clc;\n",
"X = [4,3,5,6;4,2,7,7;5,5,6,7];\n",
"[m,n]= size(X);\n",
"A = [];\n",
"E = [];\n",
"for i =1:n\n",
"    A = A+X(:,i);\n",
"    E = E+X(:,i)*X(:,i)';\n",
"end\n",
"mx = A/n;   //mean matrix\n",
"E = E/n;        \n",
"C = E - mx*mx';//covariance matrix C = E[xx']-mx*mx'\n",
"[V,D] = spec(C); //eigen values and eigen vectors\n",
"d = diag(D); //diagonal elements od eigen values\n",
"[d,i] = gsort(d); //sorting the elements of D in descending order\n",
"for j = 1:length(d)\n",
"    T(:,j)= V(:,i(j));\n",
"end\n",
"T =T'\n",
"disp(d,'Eigen Values are U = ')\n",
"disp(T,'The eigen vector matrix T =')\n",
"disp(T,'The KL tranform basis is =')\n",
"//KL transform\n",
"for i = 1:n\n",
"    Y(:,i)= T*X(:,i);\n",
"end\n",
"disp(Y,'KL transformation of the input matrix Y =')\n",
"//Reconstruction\n",
"for i = 1:n\n",
"    x(:,i)= T'*Y(:,i);\n",
"end\n",
"disp(x,'Reconstruct matrix of the given sample matrix X =')\n",
"//Result\n",
"// Eigen Values are U =    \n",
"//    6.1963372  \n",
"//    0.2147417  \n",
"//    0.0264211  \n",
"// The eigen vector matrix T =   \n",
"//    0.4384533    0.8471005    0.3002988  \n",
"//    0.4460381  - 0.4951684    0.7455591  \n",
"//  - 0.7802620    0.1929481    0.5949473  \n",
"// The KL tranform basis is =   \n",
"//    0.4384533    0.8471005    0.3002988  \n",
"//    0.4460381  - 0.4951684    0.7455591  \n",
"//  - 0.7802620    0.1929481    0.5949473  \n",
"// KL transformation of the input matrix Y =   \n",
"//    6.6437095    4.5110551    9.9237632    10.662515  \n",
"//    3.5312743    4.0755729    3.2373664    4.4289635  \n",
"//    0.6254808    1.0198466    1.0190104    0.8336957  \n",
"// Reconstruct matrix of the given sample matrix x =   \n",
"//    4.    3.    5.    6.  \n",
"//    4.    2.    7.    7.  \n",
"//    5.    5.    6.    7.  "
   ]
   }
,
{
		   "cell_type": "markdown",
		   "metadata": {},
		   "source": [
			"## Example 4.13: Program_to_find_the_singular_value_decomposition_of_given_matrix.sce"
		   ]
		  },
  {
"cell_type": "code",
	   "execution_count": null,
	   "metadata": {
	    "collapsed": true
	   },
	   "outputs": [],
"source": [
"//Caption: Program to find the singular value decomposition of given matrix\n",
"//Example4.13\n",
"//page 210\n",
"clear;\n",
"clc;\n",
"A = [1,-2,3;3,2,-1];\n",
"[U,S,V]= svd(A);\n",
"A_recon = U*S*V';\n",
"disp(U,'U =')\n",
"disp(S,'S =')\n",
"disp(V,'V =')\n",
"disp(A_recon,'A matrix from svd =')\n",
"//Result\n",
"// U =   \n",
"// \n",
"//  - 0.7071068    0.7071068  \n",
"//    0.7071068    0.7071068  \n",
"// \n",
"// S =   \n",
"// \n",
"//    4.2426407    0.           0.  \n",
"//    0.           3.1622777    0.  \n",
"// \n",
"// V =   \n",
"// \n",
"//    0.3333333    0.8944272  - 0.2981424  \n",
"//    0.6666667  - 2.776D-16    0.7453560  \n",
"//  - 0.6666667    0.4472136    0.5962848  \n",
"// \n",
"// A matrix from svd =   \n",
"// \n",
"//    1.  - 2.    3.  \n",
"//    3.    2.  - 1. "
   ]
   }
,
{
		   "cell_type": "markdown",
		   "metadata": {},
		   "source": [
			"## Example 4.4: DFT_of_4x4_grayscale_image.sce"
		   ]
		  },
  {
"cell_type": "code",
	   "execution_count": null,
	   "metadata": {
	    "collapsed": true
	   },
	   "outputs": [],
"source": [
"//Caption: 2D DFT of 4x4 grayscale image\n",
"//Example4.4\n",
"//page 170\n",
"clc;\n",
"f = [1,1,1,1;1,1,1,1;1,1,1,1;1,1,1,1];\n",
"N =4; //4-point DFT\n",
"kernel = dft_mtx(N);\n",
"F = kernel*(f*kernel');\n",
"disp(F,'2D DFT of given 2D image =')\n",
"//Result\n",
"//2D DFT of given 2D image =   \n",
"// \n",
"//    16.    0    0    0  \n",
"//    0      0    0    0  \n",
"//    0      0    0    0  \n",
"//    0      0    0    0  "
   ]
   }
,
{
		   "cell_type": "markdown",
		   "metadata": {},
		   "source": [
			"## Example 4.5: 2D_DFT_of_4X4_grayscale_image.sce"
		   ]
		  },
  {
"cell_type": "code",
	   "execution_count": null,
	   "metadata": {
	    "collapsed": true
	   },
	   "outputs": [],
"source": [
"//Caption: 2D DFT of 4x4 grayscale image\n",
"//Example4.5\n",
"//page 171\n",
"clc;\n",
"F = [16,0,0,0;0,0,0,0;0,0,0,0;0,0,0,0];\n",
"N =4; //4-point DFT\n",
"kernel = dft_mtx(N);\n",
"f = (kernel*(F*kernel'))/(N^2);\n",
"f = real(f);\n",
"disp(f,'Inverse 2D DFT of the transformed image f =')\n",
"//Result\n",
"//Inverse 2D DFT of the transformed image f =   \n",
"// \n",
"//    1.    1.    1.    1.  \n",
"//    1.    1.    1.    1.  \n",
"//    1.    1.    1.    1.  \n",
"//    1.    1.    1.    1.  "
   ]
   }
,
{
		   "cell_type": "markdown",
		   "metadata": {},
		   "source": [
			"## Example 4.6: Scilab_code_to_intergchange_phase_information_between_two_images.sce"
		   ]
		  },
  {
"cell_type": "code",
	   "execution_count": null,
	   "metadata": {
	    "collapsed": true
	   },
	   "outputs": [],
"source": [
"//Caption:Scilab code  to intergchange phase information between two images\n",
"//Example4.6\n",
"//page 174-175\n",
"clc;\n",
"close;\n",
"a = imread('E:\DIP_JAYARAMAN\Chapter4\lena.png');  //SIVP toolbox\n",
"b = imread('E:\DIP_JAYARAMAN\Chapter4\baboon.png');\n",
"a = rgb2gray(a);\n",
"b = rgb2gray(b);\n",
"a = imresize(a,0.5);\n",
"b = imresize(b,0.5);\n",
"figure(1)\n",
"ShowImage(a,'Original lena Image');    //IPD toolbox\n",
"title('Original lena Image'); \n",
"figure(2)\n",
"ShowImage(b,'Original baboon Image');\n",
"title('Original baboon Image')\n",
"ffta = fft2d(double(a));\n",
"fftb = fft2d(double(b));\n",
"mag_a = abs(ffta);\n",
"mag_b = abs(fftb);\n",
"ph_a = atan(imag(ffta),real(ffta));\n",
"ph_b = atan(imag(fftb),real(fftb));\n",
"newfft_a = mag_a.*(exp(%i*ph_b));\n",
"newfft_b = mag_b.*(exp(%i*ph_a));\n",
"rec_a = ifft2d(newfft_a);\n",
"rec_b = ifft2d(newfft_b);\n",
"figure(3)\n",
"ShowImage(uint8(rec_a),'lena Image after phase reversal');\n",
"title('lena Image after phase reversal')\n",
"figure(4)\n",
"ShowImage(uint8(rec_b),'baboon Image after phase reversal');\n",
"title('baboon Image after phase reversal')"
   ]
   }
],
"metadata": {
		  "kernelspec": {
		   "display_name": "Scilab",
		   "language": "scilab",
		   "name": "scilab"
		  },
		  "language_info": {
		   "file_extension": ".sce",
		   "help_links": [
			{
			 "text": "MetaKernel Magics",
			 "url": "https://github.com/calysto/metakernel/blob/master/metakernel/magics/README.md"
			}
		   ],
		   "mimetype": "text/x-octave",
		   "name": "scilab",
		   "version": "0.7.1"
		  }
		 },
		 "nbformat": 4,
		 "nbformat_minor": 0
}
