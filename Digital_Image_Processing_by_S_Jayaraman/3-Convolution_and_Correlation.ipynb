{
"cells": [
 {
		   "cell_type": "markdown",
	   "metadata": {},
	   "source": [
       "# Chapter 3: Convolution and Correlation"
	   ]
	},
{
		   "cell_type": "markdown",
		   "metadata": {},
		   "source": [
			"## Example 3.11: EX3_11.sce"
		   ]
		  },
  {
"cell_type": "code",
	   "execution_count": null,
	   "metadata": {
	    "collapsed": true
	   },
	   "outputs": [],
"source": [
"//Caption: Linear COnvolution of any signal with an impulse signal gives\n",
"//rise to the same signal\n",
"//Example3.11\n",
"//page 121\n",
"clc; \n",
"x =[1,2;3,4];\n",
"h = 1;\n",
"y = conv2d2(x,h);\n",
"disp(y,'Linear 2D convolution result y =')\n",
"//Result\n",
"//Linear 2D convolution result y =   \n",
"//// Linear 2D convolution result y =   \n",
"// \n",
"//    1.    2.  \n",
"//    3.    4. "
   ]
   }
,
{
		   "cell_type": "markdown",
		   "metadata": {},
		   "source": [
			"## Example 3.12: Circular_Convolution_between_two_2D_matrices.sce"
		   ]
		  },
  {
"cell_type": "code",
	   "execution_count": null,
	   "metadata": {
	    "collapsed": true
	   },
	   "outputs": [],
"source": [
"//Caption: Circular Convolution between two 2D matrices\n",
"//Example3.12\n",
"//page 122\n",
"clc;\n",
"x = [1,2;3,4];\n",
"h = [5,6;7,8];\n",
"X = fft2d(x); //2D FFT of x matrix\n",
"H = fft2d(h); //2D FFT of h matrix\n",
"Y = X.*H;  //Element by Element multiplication\n",
"y = ifft2d(Y); \n",
"disp(y,'Circular Convolution Result y =')\n",
"//Result\n",
"//Circular Convolution Result y =   \n",
"// \n",
"//    70.    68.  \n",
"//    62.    60."
   ]
   }
,
{
		   "cell_type": "markdown",
		   "metadata": {},
		   "source": [
			"## Example 3.1: 2D_Linear_Convlolution.sce"
		   ]
		  },
  {
"cell_type": "code",
	   "execution_count": null,
	   "metadata": {
	    "collapsed": true
	   },
	   "outputs": [],
"source": [
"//Caption: 2-D Linear Convolution\n",
"//Example3.1 & Example3.4\n",
"//page 85 & page 107\n",
"clc;\n",
"x =[4,5,6;7,8,9];\n",
"h = [1;1;1];\n",
"disp(x,'x=')\n",
"disp(h,'h=')\n",
"[y,X,H] = conv2d2(x,h);\n",
"disp(y,'Linear 2D convolution result y =')\n",
"//Result\n",
"//Linear 2D convolution result y =   \n",
"// \n",
"//    4.     5.     6.   \n",
"//    11.    13.    15.  \n",
"//    11.    13.    15.  \n",
"//    7.     8.     9. "
   ]
   }
,
{
		   "cell_type": "markdown",
		   "metadata": {},
		   "source": [
			"## Example 3.13: Circular_Convolution_exspressed_as_linear_convolution_plus_alias.sce"
		   ]
		  },
  {
"cell_type": "code",
	   "execution_count": null,
	   "metadata": {
	    "collapsed": true
	   },
	   "outputs": [],
"source": [
"//Caption: Circular Convolution expressed as linear convolution plus alias\n",
"//Example3.13\n",
"//page 123\n",
"clc;\n",
"x = [1,2;3,4];\n",
"h = [5,6;7,8];\n",
"y = conv2d(x,h);\n",
"y1 = [y(:,1)+y(:,$),y(:,2)];\n",
"y2 = [y1(1,:)+y1($,:);y1(2,:)]\n",
"disp(y,'Linear Convolution result y=')\n",
"disp(y2,'circular convolution expessed as linear convolution plus alias =')\n",
"//Result\n",
"// Linear Convolution result y=   \n",
"// \n",
"//    5.     16.    12.  \n",
"//    22.    60.    40.  \n",
"//    21.    52.    32.  \n",
"// \n",
"// circular convolution expessed as linear convolution plus alias =   \n",
"// \n",
"//    70.    68.  \n",
"//    62.    60.  \n",
"// "
   ]
   }
,
{
		   "cell_type": "markdown",
		   "metadata": {},
		   "source": [
			"## Example 3.14: Linear_Cross_correlation_of_a_2D_matrix.sce"
		   ]
		  },
  {
"cell_type": "code",
	   "execution_count": null,
	   "metadata": {
	    "collapsed": true
	   },
	   "outputs": [],
"source": [
"//Caption: linear cross correlation of a 2D matrix\n",
"//Example3.14\n",
"//page 129\n",
"clc;\n",
"x = [3,1;2,4];\n",
"h1 = [1,5;2,3];\n",
"h2 = h1(:,$:-1:1);\n",
"h = h2($:-1:1,:);\n",
"y = conv2d(x,h)\n",
"disp(y,'Linear cross Correlation result y=')\n",
"//Result\n",
"//Linear cross Correlation result y=   \n",
"// \n",
"//    9.     9.     2.  \n",
"//    21.    24.    9.  \n",
"//    10.    22.    4. "
   ]
   }
,
{
		   "cell_type": "markdown",
		   "metadata": {},
		   "source": [
			"## Example 3.15: Circular_correlation_between_two_signals.sce"
		   ]
		  },
  {
"cell_type": "code",
	   "execution_count": null,
	   "metadata": {
	    "collapsed": true
	   },
	   "outputs": [],
"source": [
"//Caption: Circular correlation between two signals\n",
"//Example3.15\n",
"//page 131\n",
"clc;\n",
"x = [1,5;2,4];\n",
"h = [3,2;4,1];\n",
"h = h(:,$:-1:1);\n",
"h = h($:-1:1,:);\n",
"X = fft2d(x);\n",
"H = fft2d(h);\n",
"Y = X.*H;\n",
"y = ifft2d(Y);\n",
"disp(y,'Circular Correlation result y=')\n",
"//Result\n",
"//Circular Correlation result y=   \n",
"// \n",
"//    37.    23.  \n",
"//    35.    25."
   ]
   }
,
{
		   "cell_type": "markdown",
		   "metadata": {},
		   "source": [
			"## Example 3.16: Circular_correlation_between_two_signals.sce"
		   ]
		  },
  {
"cell_type": "code",
	   "execution_count": null,
	   "metadata": {
	    "collapsed": true
	   },
	   "outputs": [],
"source": [
"//Caption: Circular correlation between two signals\n",
"//Example3.16\n",
"//page 134\n",
"clc;\n",
"x = [5,10;15,20];\n",
"h = [3,6;9,12];\n",
"h = h(:,$:-1:1);\n",
"h = h($:-1:1,:);\n",
"X = fft2d(x);\n",
"H = fft2d(h);\n",
"Y = X.*H;\n",
"y = ifft2d(Y);\n",
"disp(y,'Circular Correlation result y=')\n",
"//Result\n",
"// Circular Correlation result y=   \n",
"// \n",
"//    300.    330.  \n",
"//    420.    450."
   ]
   }
,
{
		   "cell_type": "markdown",
		   "metadata": {},
		   "source": [
			"## Example 3.17: Linear_auto_correlation_of_a_2D_matrix.sce"
		   ]
		  },
  {
"cell_type": "code",
	   "execution_count": null,
	   "metadata": {
	    "collapsed": true
	   },
	   "outputs": [],
"source": [
"//Caption: linear auto correlation of a 2D matrix\n",
"//Example3.17\n",
"//page 136\n",
"clc;\n",
"x1 = [1,1;1,1];\n",
"x2 = x1(:,$:-1:1);\n",
"x2 = x2($:-1:1,:);\n",
"x = conv2d(x1,x2)\n",
"disp(x,'Linear auto Correlation result x=')\n",
"//Result\n",
"//Linear auto Correlation result x=   \n",
"// \n",
"//    1.    2.    1.  \n",
"//    2.    4.    2.  \n",
"//    1.    2.    1. "
   ]
   }
,
{
		   "cell_type": "markdown",
		   "metadata": {},
		   "source": [
			"## Example 3.18: Linear_Cross_correlation_of_a_2D_matrix.sce"
		   ]
		  },
  {
"cell_type": "code",
	   "execution_count": null,
	   "metadata": {
	    "collapsed": true
	   },
	   "outputs": [],
"source": [
"//Caption: linear cross correlation of a 2D matrix\n",
"//Example3.18\n",
"//page 141\n",
"clc;\n",
"x = [1,1;1,1];\n",
"h1 = [1,2;3,4];\n",
"h2 = h1(:,$:-1:1);\n",
"h = h2($:-1:1,:);\n",
"y = conv2d(x,h)\n",
"disp(y,'Linear cross Correlation result y=')\n",
"//Result\n",
"//Linear cross Correlation result y=   \n",
"// \n",
"//    4.    7.    3.  \n",
"//    6.   10.    4.  \n",
"//    2.    3.    1.  "
   ]
   }
,
{
		   "cell_type": "markdown",
		   "metadata": {},
		   "source": [
			"## Example 3.2: 2D_Linear_Convolution.sce"
		   ]
		  },
  {
"cell_type": "code",
	   "execution_count": null,
	   "metadata": {
	    "collapsed": true
	   },
	   "outputs": [],
"source": [
"//Caption: 2-D Linear Convolution\n",
"//Example3.2 & Example3.5 & Example3.9\n",
"//page 91 & page 108 & page 116\n",
"clc;\n",
"x =[1,2,3;4,5,6;7,8,9];\n",
"h = [1,1;1,1;1,1];\n",
"y = conv2d2(x,h);\n",
"disp(y,'Linear 2D convolution result y =')\n",
"//Result\n",
"// Linear 2D convolution result y =   \n",
"// \n",
"//    1.     3.     5.     3.   \n",
"//    5.     12.    16.    9.   \n",
"//    12.    27.    33.    18.  \n",
"//    11.    24.    28.    15.  \n",
"//    7.     15.    17.    9.   \n",
"// "
   ]
   }
,
{
		   "cell_type": "markdown",
		   "metadata": {},
		   "source": [
			"## Example 3.3: 2D_Linear_Convolution.sce"
		   ]
		  },
  {
"cell_type": "code",
	   "execution_count": null,
	   "metadata": {
	    "collapsed": true
	   },
	   "outputs": [],
"source": [
"//Caption: 2-D Linear Convolution\n",
"//Example3.3 & Example3.6 & Example3.10\n",
"//page 100 & page 109 & page 119\n",
"clc;\n",
"x =[1,2,3;4,5,6;7,8,9];\n",
"h = [3,4,5];\n",
"y = conv2d2(x,h);\n",
"disp(y,'Linear 2D convolution result y =')\n",
"//Result\n",
"//Linear 2D convolution result y =   \n",
"// \n",
"//    3.     10.    22.    22.    15.  \n",
"//    12.    31.    58.    49.    30.  \n",
"//    21.    52.    94.    76.    45."
   ]
   }
,
{
		   "cell_type": "markdown",
		   "metadata": {},
		   "source": [
			"## Example 3.7: 2D_Linear_Convolution.sce"
		   ]
		  },
  {
"cell_type": "code",
	   "execution_count": null,
	   "metadata": {
	    "collapsed": true
	   },
	   "outputs": [],
"source": [
"//Caption: 2-D Linear Convolution\n",
"//Example3.7\n",
"//page 111\n",
"clc;\n",
"x =[1,2;3,4];\n",
"h = [5,6;7,8];\n",
"y = conv2d2(x,h);\n",
"disp(y,'Linear 2D convolution result y =')\n",
"//Result\n",
"// Linear 2D convolution result y =   \n",
"//Linear 2D convolution result y =   \n",
"// \n",
"//    5.     16.    12.  \n",
"//    22.    60.    40.  \n",
"//    21.    52.    32"
   ]
   }
,
{
		   "cell_type": "markdown",
		   "metadata": {},
		   "source": [
			"## Example 3.8: 2D_Linear_Convolution.sce"
		   ]
		  },
  {
"cell_type": "code",
	   "execution_count": null,
	   "metadata": {
	    "collapsed": true
	   },
	   "outputs": [],
"source": [
"//Caption: 2-D Linear Convolution\n",
"//Example3.8\n",
"//page 113\n",
"clc;\n",
"x =[1,2,3;4,5,6;7,8,9];\n",
"h = [1;1;1];\n",
"y = conv2d2(x,h);\n",
"disp(y,'Linear 2D convolution result y =')\n",
"//Result\n",
"// Linear 2D convolution result y =   \n",
"//// 1.     2.     3.   \n",
"//    5.     7.     9.   \n",
"//    12.    15.    18.  \n",
"//    11.    13.    15.  \n",
"//    7.     8.     9. "
   ]
   }
],
"metadata": {
		  "kernelspec": {
		   "display_name": "Scilab",
		   "language": "scilab",
		   "name": "scilab"
		  },
		  "language_info": {
		   "file_extension": ".sce",
		   "help_links": [
			{
			 "text": "MetaKernel Magics",
			 "url": "https://github.com/calysto/metakernel/blob/master/metakernel/magics/README.md"
			}
		   ],
		   "mimetype": "text/x-octave",
		   "name": "scilab",
		   "version": "0.7.1"
		  }
		 },
		 "nbformat": 4,
		 "nbformat_minor": 0
}
