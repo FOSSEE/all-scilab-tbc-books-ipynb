{
"cells": [
 {
		   "cell_type": "markdown",
	   "metadata": {},
	   "source": [
       "# Chapter 12: Wavelet based Image Processing"
	   ]
	},
{
		   "cell_type": "markdown",
		   "metadata": {},
		   "source": [
			"## Example 12.42: Scilab_code_to_generate_different_levels_of_a_Gaussian_pyramid.sce"
		   ]
		  },
  {
"cell_type": "code",
	   "execution_count": null,
	   "metadata": {
	    "collapsed": true
	   },
	   "outputs": [],
"source": [
"//Caption: Scilab code to generate different levels of a Gaussian pyramid\n",
"//Fig12.42\n",
"//Page651\n",
"clc;\n",
"close;\n",
"a = imread('E:\DIP_JAYARAMAN\Chapter12\apple3.bmp');\n",
"a = rgb2gray(a);\n",
"b = a;\n",
"kernelsize = input('Enter the size of the kernel:');\n",
"sd = input('Enter the standard deviation of hte Gaussian window:');\n",
"rf = input('Enter the Reduction Factor:');\n",
"//Routine to generate Gaussian kernel\n",
"k = zeros(kernelsize, kernelsize);\n",
"[m n] = size(b);\n",
"t = 0;\n",
"for i = 1:kernelsize\n",
"    for j=1:kernelsize\n",
"        k(i,j) = exp(-((i-kernelsize/2).^2+(j-kernelsize/2).^2)/(2*sd.^2))/(2*%pi*sd.^2);\n",
"        t = t+k(i,j);\n",
"    end\n",
"end\n",
"for i = 1:kernelsize\n",
"    for j = 1:kernelsize\n",
"        k(i,j) = k(i,j)/t;\n",
"    end\n",
"end\n",
"for t = 1:1:rf\n",
"    //convolve it with the picture\n",
"    FilteredImg = b;\n",
"    if t==1\n",
"        FilteredImg = filter2(k,b)/255;\n",
"    else\n",
"        FilteredImg = filter2(k,b);\n",
"    end;\n",
"    //compute the size of the reduced image\n",
"    m = m/2;\n",
"    n = n/2;\n",
"    //create the reduced image through sampling\n",
"    b = zeros(m,n);\n",
"    for i = 1:m\n",
"        for j = 1:n\n",
"            b(i,j) = FilteredImg(i*2,j*2);\n",
"        end;\n",
"    end;\n",
" end; \n",
"figure\n",
"ShowImage(a,'Original Image')\n",
"figure\n",
"ShowImage(b,'Different Levels of Gausain Pyramid')\n",
"title('Different Levels of Gausain Pyramid Level 2')"
   ]
   }
,
{
		   "cell_type": "markdown",
		   "metadata": {},
		   "source": [
			"## Example 12.57: Scilab_code_to_implement_watermarking_in_spatial_domain.sce"
		   ]
		  },
  {
"cell_type": "code",
	   "execution_count": null,
	   "metadata": {
	    "collapsed": true
	   },
	   "outputs": [],
"source": [
"//Caption: Scilab code to implement watermarking in spatial domain\n",
"//Fig12.57\n",
"//Page662\n",
"clc\n",
"close \n",
"a = imread('E:\DIP_JAYARAMAN\Chapter12\cameraman.jpg');\n",
"figure\n",
"imshow(a)\n",
"title('Base Image');\n",
"b = imread('E:\DIP_JAYARAMAN\Chapter12\keyimage.jpg');\n",
"b = rgb2gray(b);\n",
"b = imresize(b,[32 32],'bicubic');\n",
"[m1 n1]=size(b);\n",
"figure\n",
"imshow(b)\n",
"title('Mark Image');\n",
"[m n]=size(a);\n",
"i1 = 1;\n",
"j1 = 1;\n",
"p = 1;\n",
"c = a;\n",
"iii = 1;\n",
"jjj = 1;\n",
"a = uint8(a);\n",
"b = uint8(b);\n",
"for ff = 1:8\n",
"    for i = 1:32\n",
"        jjj = 1;\n",
"        for j = j1:j1+n1-1\n",
"            a(i,j) = bitand(a(i,j),uint8(254)); // LSB of base image is set to zero.\n",
"            temp = bitand(b(i,jjj),uint8((2^ff)-1)); //MSB of the mark is extracted.\n",
"            temp = temp/((2^ff)-1);\n",
"            c(i,j) = bitor(a(i,j),uint8(temp));//MSB of mark is inerted into the %LSB of the base\n",
"            jjj = jjj+1;\n",
"        end\n",
"    end\n",
"    j1 = j1+32;\n",
"end\n",
"imshow(c)\n",
"title('Marked Image');\n",
"imwrite(c,'E:\DIP_JAYARAMAN\Chapter12\markimg.jpg');"
   ]
   }
,
{
		   "cell_type": "markdown",
		   "metadata": {},
		   "source": [
			"## Example 12.63: Scilab_code_to_implement_wavelet_based_watermarking.sce"
		   ]
		  },
  {
"cell_type": "code",
	   "execution_count": null,
	   "metadata": {
	    "collapsed": true
	   },
	   "outputs": [],
"source": [
"//Caption: Scilab code to implement wavelet-based watermarking\n",
"//Fig12.63\n",
"//Page666\n",
"clc;\n",
"close;\n",
"//Original Image\n",
"img = imread('E:\DIP_JAYARAMAN\Chapter12\cameraman.jpg');\n",
"figure\n",
"imshow(img)\n",
"title('Original Image');\n",
"[p q] = size(img);\n",
"//Generate the key\n",
"//key = imread('E:\DIP_JAYARAMAN\Chapter12\keyimg1.png');\n",
"//key = imresize(key,[p q]); \n",
"key = imread('E:\DIP_JAYARAMAN\Chapter12\keyimage.jpg');\n",
"key = rgb2gray(key);\n",
"c = 0.001; //Initialise the weight of Watermarking\n",
"figure\n",
"imshow(key)\n",
"title('Key');\n",
"//Wavelet transform of original image (base image)\n",
"img = double(img);\n",
"key = double(key);\n",
"[ca,ch,cv,cd] = dwt2(img,'db1');//Compute 2D wavelet transform\n",
"//Perform the watermarking\n",
"y = [ca ch;cv cd];\n",
"Y = y + c*key; \n",
"p=p/2;\n",
"q=q/2;\n",
"for i=1:p\n",
"    for j=1:q\n",
"        nca(i,j) = Y(i,j);\n",
"        ncv(i,j) = Y(i+p,j);\n",
"        nch(i,j) = Y(i,j+q);\n",
"        ncd(i,j) =  Y (i+p,j+q);\n",
"    end\n",
"end\n",
"//Display the Watermarked image\n",
"wimg = idwt2(nca,nch,ncv,ncd,'db1');\n",
"wimg1 = uint8(wimg);\n",
"figure\n",
"imshow(wimg1)\n",
"title('Watermarked Image')\n",
"//Extraction of key from Watermarked image\n",
"[rca,rch,rcv,rcd] = dwt2(wimg,'db1'); //Compute 2D wavelet transform\n",
"n1=[rca,rch;rcv,rcd];\n",
"N1=n1-y;\n",
"N1 = N1*4;\n",
"N1 = im2int8(N1);\n",
"figure\n",
"imshow(N1)\n",
"title('Extract the key from watermarked image')"
   ]
   }
,
{
		   "cell_type": "markdown",
		   "metadata": {},
		   "source": [
			"## Example 12.9: Scilab_code_to_perform_wavelet_decompositio.sce"
		   ]
		  },
  {
"cell_type": "code",
	   "execution_count": null,
	   "metadata": {
	    "collapsed": true
	   },
	   "outputs": [],
"source": [
"//Caption: Scilab code to perform wavelet decomposition\n",
"//Fig12.10\n",
"//Page624\n",
"clc;\n",
"close;\n",
"x = ReadImage('E:\DIP_JAYARAMAN\Chapter12\lenna.jpg');\n",
"//The image in unsigned integer or double has to be converted into normalized\n",
"//double format\n",
"x = im2double(x);\n",
"//First Level decomposition\n",
"[CA,CH,CV,CD]=dwt2(x,'db1');\n",
"//Second level decomposition\n",
"[CA1,CH1,CV1,CD1]=dwt2(CA,'db1');\n",
"CA = im2int8(CA);\n",
"CH = im2int8(CH);\n",
"CV = im2int8(CV);\n",
"CD = im2int8(CD);\n",
"CA1 = im2int8(CA1);\n",
"CH1 = im2int8(CH1);\n",
"CV1 = im2int8(CV1);\n",
"CD1 = im2int8(CD1);\n",
"A = [CA,CH;CV,CD];\n",
"B = [CA1,CH1;CV1,CD1];\n",
"imshow(B)\n",
"title('Result of Second Level Decomposition')"
   ]
   }
],
"metadata": {
		  "kernelspec": {
		   "display_name": "Scilab",
		   "language": "scilab",
		   "name": "scilab"
		  },
		  "language_info": {
		   "file_extension": ".sce",
		   "help_links": [
			{
			 "text": "MetaKernel Magics",
			 "url": "https://github.com/calysto/metakernel/blob/master/metakernel/magics/README.md"
			}
		   ],
		   "mimetype": "text/x-octave",
		   "name": "scilab",
		   "version": "0.7.1"
		  }
		 },
		 "nbformat": 4,
		 "nbformat_minor": 0
}
