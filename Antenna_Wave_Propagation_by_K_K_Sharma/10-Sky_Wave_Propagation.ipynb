{
"cells": [
 {
		   "cell_type": "markdown",
	   "metadata": {},
	   "source": [
       "# Chapter 10: Sky Wave Propagation"
	   ]
	},
{
		   "cell_type": "markdown",
		   "metadata": {},
		   "source": [
			"## Example 10.10: Find_frequency_for_propagation_in_E_region.sce"
		   ]
		  },
  {
"cell_type": "code",
	   "execution_count": null,
	   "metadata": {
	    "collapsed": true
	   },
	   "outputs": [],
"source": [
"//Exa 10.10\n",
"clc;\n",
"clear;\n",
"close;\n",
"//given data :\n",
"n=0.6;//refractive index\n",
"N=4.23*10^4;//in m^-3\n",
"//Formula : n=sqrt(1-81*N/f^2)\n",
"f=sqrt(81*N/(1-n^2));//in Hz\n",
"disp(f/1000,'Frequency of wave propagation in KHz : ');"
   ]
   }
,
{
		   "cell_type": "markdown",
		   "metadata": {},
		   "source": [
			"## Example 10.11: Find_frequency_for_propagation_in_D_region.sce"
		   ]
		  },
  {
"cell_type": "code",
	   "execution_count": null,
	   "metadata": {
	    "collapsed": true
	   },
	   "outputs": [],
"source": [
"//Exa 10.11\n",
"clc;\n",
"clear;\n",
"close;\n",
"//given data :\n",
"n=0.8;//refractive index\n",
"N=500;//in cm^-3\n",
"//Formula : n=sqrt(1-81*N/f^2)\n",
"f=sqrt(81*N/(1-n^2));//in KHz\n",
"disp(f,'Frequency of wave propagation in KHz : ');"
   ]
   }
,
{
		   "cell_type": "markdown",
		   "metadata": {},
		   "source": [
			"## Example 10.1: Determine_the_range.sce"
		   ]
		  },
  {
"cell_type": "code",
	   "execution_count": null,
	   "metadata": {
	    "collapsed": true
	   },
	   "outputs": [],
"source": [
"//Exa 10.1\n",
"clc;\n",
"clear;\n",
"close;\n",
"//given data :\n",
"H=500;//in km\n",
"n=0.8;//in m\n",
"f_muf=10;//in MHz\n",
"f_muf=f_muf*10^6;//in Hz\n",
"f=10;//in MHz\n",
"f=f*10^6;//in Hz\n",
"// Formula : n=sqrt(1-81*N/f^2)\n",
"Nmax=(1-n^2)*f^2/81;//in Hz;\n",
"fc=9*sqrt(Nmax);//in Hz\n",
"Dskip=2*H*sqrt((f_muf/fc)^2-1);//in Km\n",
"disp(Dskip,'Assuming the earth is flat the range in Km : ');\n",
"//Note : Answer in the book is wrong."
   ]
   }
,
{
		   "cell_type": "markdown",
		   "metadata": {},
		   "source": [
			"## Example 10.2: Determine_the_ground_range.sce"
		   ]
		  },
  {
"cell_type": "code",
	   "execution_count": null,
	   "metadata": {
	    "collapsed": true
	   },
	   "outputs": [],
"source": [
"//Exa 10.2\n",
"clc;\n",
"clear;\n",
"close;\n",
"//given data :\n",
"n=0.8;//in m\n",
"H=500;//in km\n",
"a=6370;//in km\n",
"D=1349.07;//in Km\n",
"f_muf=10;//in MHz\n",
"f_muf=f_muf*10^6;//in Hz\n",
"f=10;//in MHz\n",
"f=f*10^6;//in Hz\n",
"// Formula : n=sqrt(1-81*N/f^2)\n",
"Nmax=(1-n^2)*f^2/81;//in Hz;\n",
"fc=9*sqrt(Nmax);//in Hz\n",
"// Formula : f_muf/fc=sqrt(D^2/(4*(H+D^2/(8*a))))+1\n",
"D1=2*[H+D^2/(8*a)]*sqrt((f_muf/fc)^2-1);//in Km\n",
"Dskip=2*H*sqrt((f_muf/fc)^2-1);//in Km\n",
"disp(D1,'Assuming the earth is curved the ground range in Km : '); "
   ]
   }
,
{
		   "cell_type": "markdown",
		   "metadata": {},
		   "source": [
			"## Example 10.3: Find_critical_frequency_for_reflection.sce"
		   ]
		  },
  {
"cell_type": "code",
	   "execution_count": null,
	   "metadata": {
	    "collapsed": true
	   },
	   "outputs": [],
"source": [
"//Exa 10.3\n",
"clc;\n",
"clear;\n",
"close;\n",
"//given data :\n",
"Nmax=2.48*10^6;//in cm^-3\n",
"Nmax=2.48*10^6*10^-6;//in m^-3\n",
"fc=9*sqrt(Nmax);//in MHz\n",
"disp(fc,'Critical frequency in MHz : ');"
   ]
   }
,
{
		   "cell_type": "markdown",
		   "metadata": {},
		   "source": [
			"## Example 10.4: Calculate_MUF_for_given_path.sce"
		   ]
		  },
  {
"cell_type": "code",
	   "execution_count": null,
	   "metadata": {
	    "collapsed": true
	   },
	   "outputs": [],
"source": [
"//Exa 10.4\n",
"clc;\n",
"clear;\n",
"close;\n",
"//given data :\n",
"H=200;//in Km\n",
"D=4000;//in Km\n",
"fc=5;//in MHz\n",
"f_muf=fc*sqrt(1+(D/(2*H))^2);//in MHz\n",
"disp(f_muf,'MUF for the given path in MHz : ');\n",
"//Note : Answer in the book is wrong."
   ]
   }
,
{
		   "cell_type": "markdown",
		   "metadata": {},
		   "source": [
			"## Example 10.5: Calculate_critical_frequencies_for_F1_F2_and_E.sce"
		   ]
		  },
  {
"cell_type": "code",
	   "execution_count": null,
	   "metadata": {
	    "collapsed": true
	   },
	   "outputs": [],
"source": [
"//Exa 10.5\n",
"clc;\n",
"clear;\n",
"close;\n",
"//given data :\n",
"//For F1 layer :\n",
"disp('For F1 layer :');\n",
"Nmax=2.3*10^6;//in cm^3\n",
"Nmax=2.3*10^6*10^-6;//in m^3\n",
"fc=9*sqrt(Nmax);//in MHz\n",
"disp(fc,'Critical frequency in MHz : ');\n",
"\n",
"//For F2 layer :\n",
"disp('For F2 layer :');\n",
"Nmax=3.5*10^6;//in cm^3\n",
"Nmax=3.5*10^6*10^-6;//in m^3\n",
"fc=9*sqrt(Nmax);//in MHz\n",
"disp(fc,'Critical frequency in MHz : ');\n",
"\n",
"//For F3 layer :\n",
"disp('For F3 layer :');\n",
"Nmax=1.7*10^6;//in cm^3\n",
"Nmax=1.7*10^6*10^-6;//in m^3\n",
"fc=9*sqrt(Nmax);//in MHz\n",
"disp(fc,'Critical frequency in MHz : ');\n",
"//Note : Answer in the book is wrong."
   ]
   }
,
{
		   "cell_type": "markdown",
		   "metadata": {},
		   "source": [
			"## Example 10.6: Find_frequency_for_propagation_in_D_region.sce"
		   ]
		  },
  {
"cell_type": "code",
	   "execution_count": null,
	   "metadata": {
	    "collapsed": true
	   },
	   "outputs": [],
"source": [
"//Exa 10.6\n",
"clc;\n",
"clear;\n",
"close;\n",
"//given data :\n",
"n=0.7;//refractive index\n",
"N=400;//in cm^-3\n",
"//Formula : n=sqrt(1-81*N/f^2)\n",
"f=sqrt(81*N/(1-n^2));//in KHz\n",
"disp(f,'Frequency of wave propagation in KHz : ');\n",
"//Note : Unit of Answer in the book is MHz. It is written by mistake. It is accurately calculated by scilab in KHz. "
   ]
   }
,
{
		   "cell_type": "markdown",
		   "metadata": {},
		   "source": [
			"## Example 10.7: Find_maximum_distance_and_Radio_Horizon.sce"
		   ]
		  },
  {
"cell_type": "code",
	   "execution_count": null,
	   "metadata": {
	    "collapsed": true
	   },
	   "outputs": [],
"source": [
"//Exa 10.7\n",
"clc;\n",
"clear;\n",
"close;\n",
"//given data :\n",
"HT=169;//in meter\n",
"HR=20;//in meter\n",
"d=4.12*(sqrt(HT)+sqrt(HR));//in Km\n",
"disp(d,'Maximum distance in Km : ');\n",
"r_dash=(4/3)*6370/1000;//in Km\n",
"RadioHorizon=sqrt(2*r_dash*HT);//in Km\n",
"disp(RadioHorizon,'Radio Horizon in Km : ');"
   ]
   }
,
{
		   "cell_type": "markdown",
		   "metadata": {},
		   "source": [
			"## Example 10.8: Calculate_transmission_path_distance.sce"
		   ]
		  },
  {
"cell_type": "code",
	   "execution_count": null,
	   "metadata": {
	    "collapsed": true
	   },
	   "outputs": [],
"source": [
"//Exa 10.8\n",
"clc;\n",
"clear;\n",
"close;\n",
"//given data :\n",
"H=200;//in Km\n",
"Beta=20;//in Degree\n",
"a=6370;//in Km\n",
"D_flat=2*H/tan(Beta*%pi/180);//in Km\n",
"disp(D_flat,'If earth assumed to be flat transmission path distance in Km : ');\n",
"D_curved=2*a*[(90*%pi/180-Beta*%pi/180)-asin(a*cos(Beta*%pi/180)/(a+H))]\n",
"disp(D_curved,'If earth assumed to be curved transmission path distance in Km : ');"
   ]
   }
,
{
		   "cell_type": "markdown",
		   "metadata": {},
		   "source": [
			"## Example 10.9: Calculate_maximum_range_obtainable_in_single_hop_transmission.sce"
		   ]
		  },
  {
"cell_type": "code",
	   "execution_count": null,
	   "metadata": {
	    "collapsed": true
	   },
	   "outputs": [],
"source": [
"//Exa 10.9\n",
"clc;\n",
"clear;\n",
"close;\n",
"//given data :\n",
"R=6370;//in Km\n",
"hm=400;//in Km\n",
"//Formula : d=2*R*Q=2*R*acos(R/(R+hm))\n",
"d=2*R*acos(R/(R+hm));//in Km\n",
"disp(d,'Maximum Range in a single range transmission in Km : ');"
   ]
   }
],
"metadata": {
		  "kernelspec": {
		   "display_name": "Scilab",
		   "language": "scilab",
		   "name": "scilab"
		  },
		  "language_info": {
		   "file_extension": ".sce",
		   "help_links": [
			{
			 "text": "MetaKernel Magics",
			 "url": "https://github.com/calysto/metakernel/blob/master/metakernel/magics/README.md"
			}
		   ],
		   "mimetype": "text/x-octave",
		   "name": "scilab",
		   "version": "0.7.1"
		  }
		 },
		 "nbformat": 4,
		 "nbformat_minor": 0
}
