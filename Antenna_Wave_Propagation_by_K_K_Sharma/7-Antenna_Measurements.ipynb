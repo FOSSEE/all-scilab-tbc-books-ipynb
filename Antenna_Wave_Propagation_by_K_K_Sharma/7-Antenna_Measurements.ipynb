{
"cells": [
 {
		   "cell_type": "markdown",
	   "metadata": {},
	   "source": [
       "# Chapter 7: Antenna Measurements"
	   ]
	},
{
		   "cell_type": "markdown",
		   "metadata": {},
		   "source": [
			"## Example 7.1: Find_minimum_distance_between_primary_and_secondary_antenna.sce"
		   ]
		  },
  {
"cell_type": "code",
	   "execution_count": null,
	   "metadata": {
	    "collapsed": true
	   },
	   "outputs": [],
"source": [
"//Exa 7.1\n",
"clc;\n",
"clear;\n",
"close;\n",
"//given data :\n",
"f=6;//in GHz\n",
"f=f*10^9;//in Hz\n",
"d=10;//in feet\n",
"d=3.048;//in meter\n",
"c=3*10^8;//in m/s\n",
"lambda=c/f;//in meters\n",
"rmin=2*d^2/lambda;//in meters\n",
"disp(rmin,'Minimumseparation distance in meters : ');"
   ]
   }
,
{
		   "cell_type": "markdown",
		   "metadata": {},
		   "source": [
			"## Example 7.2: Determine_gain_of_large_Antenna.sce"
		   ]
		  },
  {
"cell_type": "code",
	   "execution_count": null,
	   "metadata": {
	    "collapsed": true
	   },
	   "outputs": [],
"source": [
"//Exa 7.2\n",
"clc;\n",
"clear;\n",
"close;\n",
"//given data :\n",
"GP=12.5;//unitless\n",
"P_dB=23;//in dB\n",
"P=10^(P_dB/10);//unitless\n",
"G=GP*P;//unitless\n",
"GdB=GP+P_dB;//in dB\n",
"disp(GdB,'Gain of large antenna : ');\n",
"//Note : Answer in the book is wrong."
   ]
   }
,
{
		   "cell_type": "markdown",
		   "metadata": {},
		   "source": [
			"## Example 7.3: Find_out_Power_gain_in_dB.sce"
		   ]
		  },
  {
"cell_type": "code",
	   "execution_count": null,
	   "metadata": {
	    "collapsed": true
	   },
	   "outputs": [],
"source": [
"//Exa 7.3\n",
"clc;\n",
"clear;\n",
"close;\n",
"//given data :\n",
"disp('Open mouth aperture, D = 10*lambda');\n",
"disp('Power gain : GP = 6*(D/labda)^2');\n",
"GP=6*10^2;//unitless\n",
"GPdB=10*log10(GP)\n",
"disp(GPdB,'Power gain in dB : ');"
   ]
   }
,
{
		   "cell_type": "markdown",
		   "metadata": {},
		   "source": [
			"## Example 7.4: Find_minimum_distance_between_primary_and_secondary_antenna.sce"
		   ]
		  },
  {
"cell_type": "code",
	   "execution_count": null,
	   "metadata": {
	    "collapsed": true
	   },
	   "outputs": [],
"source": [
"//Exa 7.4\n",
"clc;\n",
"clear;\n",
"close;\n",
"//given data :\n",
"f=3000;//in MHz\n",
"f=f*10^6;//in Hz\n",
"d=20;//in feet\n",
"d=20*0.3048;//in meter\n",
"c=3*10^8;//in m/s\n",
"lambda=c/f;//in meters\n",
"r=2*d^2/lambda;//in meters\n",
"disp(r,'Minimum distance between primary and secondary in meters : ');"
   ]
   }
,
{
		   "cell_type": "markdown",
		   "metadata": {},
		   "source": [
			"## Example 7.5: Estimate_diameter_of_paraboloidal_reflector.sce"
		   ]
		  },
  {
"cell_type": "code",
	   "execution_count": null,
	   "metadata": {
	    "collapsed": true
	   },
	   "outputs": [],
"source": [
"//Exa 7.5\n",
"clc;\n",
"clear;\n",
"close;\n",
"//given data :\n",
"f=1.2;//in GHz\n",
"f=f*10^9;//in Hz\n",
"BWFN=5;//in degree\n",
"c=3*10^8;//in m/s\n",
"lambda=c/f;//in meters\n",
"D=140*lambda/BWFN;//in meters\n",
"disp(D,'Diameter of a paraboloidal reflector in meters : ');"
   ]
   }
,
{
		   "cell_type": "markdown",
		   "metadata": {},
		   "source": [
			"## Example 7.6: calculate_gain_og_horn.sce"
		   ]
		  },
  {
"cell_type": "code",
	   "execution_count": null,
	   "metadata": {
	    "collapsed": true
	   },
	   "outputs": [],
"source": [
"//Exa 7.6\n",
"clc;\n",
"clear;\n",
"close;\n",
"//given data :\n",
"f=9;//in GHz\n",
"f=f*10^9;//in Hz\n",
"c=3*10^8;//in m/s\n",
"lambda=c/f;//in meters\n",
"r=35;//in cm\n",
"r=r*10^-2;//in meters\n",
"Attenuation=9.8;//in dB\n",
"//Formula : 10*log10(WT/Wr) = 9.8dB\n",
"WTbyWr=10^(Attenuation/10);//unitless\n",
"D=(4*%pi*r/lambda)*(sqrt(1/WTbyWr));//unitless\n",
"D_dB=10*log10(D);\n",
"disp(D_dB,'Gain of the horn in dB : ');"
   ]
   }
],
"metadata": {
		  "kernelspec": {
		   "display_name": "Scilab",
		   "language": "scilab",
		   "name": "scilab"
		  },
		  "language_info": {
		   "file_extension": ".sce",
		   "help_links": [
			{
			 "text": "MetaKernel Magics",
			 "url": "https://github.com/calysto/metakernel/blob/master/metakernel/magics/README.md"
			}
		   ],
		   "mimetype": "text/x-octave",
		   "name": "scilab",
		   "version": "0.7.1"
		  }
		 },
		 "nbformat": 4,
		 "nbformat_minor": 0
}
