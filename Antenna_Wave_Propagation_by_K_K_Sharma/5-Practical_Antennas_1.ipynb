{
"cells": [
 {
		   "cell_type": "markdown",
	   "metadata": {},
	   "source": [
       "# Chapter 5: Practical Antennas 1"
	   ]
	},
{
		   "cell_type": "markdown",
		   "metadata": {},
		   "source": [
			"## Example 5.1: Estima_radiation_resistance_for_single_and_8_turn.sce"
		   ]
		  },
  {
"cell_type": "code",
	   "execution_count": null,
	   "metadata": {
	    "collapsed": true
	   },
	   "outputs": [],
"source": [
"//Exa 5.1\n",
"clc;\n",
"clear;\n",
"close;\n",
"//For Single Turn:\n",
"disp('A=%pi*a^2');\n",
"disp('Putting a=lambda/25 we get : A=%pi*lambda^2/625');\n",
"disp('Radiation Resistance Rr=31171.2*[A/lambda^2]^2');\n",
"disp('Putting A=%pi*lambda^2/625 ');\n",
"Rr_1=31171.2*[%pi/625]^2;//in Ohm\n",
"disp(Rr_1,'radiation Resistance(in Ohm) for single turn : ');\n",
"\n",
"//For Eight Turn:\n",
"N=8;//no. of turns\n",
"Rr=Rr_1*N^2;//in Ohm\n",
"disp(Rr,'radiation Resistance(in Ohm) for Eight turn : ');"
   ]
   }
,
{
		   "cell_type": "markdown",
		   "metadata": {},
		   "source": [
			"## Example 5.2: Determine_Peak_Value_of_Magnetic_Field_Intensity.sce"
		   ]
		  },
  {
"cell_type": "code",
	   "execution_count": null,
	   "metadata": {
	    "collapsed": true
	   },
	   "outputs": [],
"source": [
"//Exa 5.2\n",
"clc;\n",
"clear;\n",
"close;\n",
"//Given data :\n",
"f=20;//in MHz\n",
"N=15;//No. of turns\n",
"A=2;//in m^2\n",
"Vrms=200;//in uV\n",
"theta=acos(1);;//in radian\n",
"mu_o=4*%pi*10^-7;//in H/m\n",
"//Formula : Vm=2*%pi*f*mu_o*H*A*N\n",
"Vm=Vrms*sqrt(2);//in uV\n",
"H=(Vm*10^-6)/(2*%pi*f*10^6*mu_o*A*N);//in A/m\n",
"disp(H*1000,'Peak Value of magnetic feld intensity in mA/m : ');\n",
"//Note : Answer in the book is wrong."
   ]
   }
,
{
		   "cell_type": "markdown",
		   "metadata": {},
		   "source": [
			"## Example 5.3: calculate_maximum_emf_in_the_loop.sce"
		   ]
		  },
  {
"cell_type": "code",
	   "execution_count": null,
	   "metadata": {
	    "collapsed": true
	   },
	   "outputs": [],
"source": [
"//Exa 5.3\n",
"clc;\n",
"clear;\n",
"close;\n",
"//Given data :\n",
"f=20;//in MHz\n",
"f=f*10^6;//in Hz\n",
"Wmax=25;//in mW/m^2\n",
"A=10;//in m^2\n",
"c=3*10^8;//speed of light in m/s\n",
"lambda=c/f;//in meter\n",
"Rr=31171.2*[A/lambda^2]^2;//iin Ohm\n",
"//Formula : Wmax=V^2/(4*Rr)\n",
"V=sqrt(Wmax*10^-3*4*Rr);//in Volts\n",
"disp(V,'Maximum emf in the loop in Volts : ');\n",
"//Note : Answer in the book is wrong."
   ]
   }
,
{
		   "cell_type": "markdown",
		   "metadata": {},
		   "source": [
			"## Example 5.4: Calculate_Voltage_across_the_capacitor.sce"
		   ]
		  },
  {
"cell_type": "code",
	   "execution_count": null,
	   "metadata": {
	    "collapsed": true
	   },
	   "outputs": [],
"source": [
"//Exa 5.4\n",
"clc;\n",
"clear;\n",
"close;\n",
"//Given data :\n",
"N=20;//turns\n",
"D=1;//in meter\n",
"r=D/2;//in meter\n",
"E=200*10^-6;//in V/m\n",
"L=50*10^-6;//in H\n",
"R=2;//in Ohm\n",
"f=1.5;//in MHz\n",
"f=f*10^6;//in Hz\n",
"c=3*10^8;//speed of light in m/s\n",
"lambda=c/f;//in meter\n",
"A=%pi*r^2;//in m^2\n",
"Vrms=2*%pi*E*A*N/lambda;//in Volts\n",
"Q=2*%pi*f*L/R;//unitless\n",
"Vc_rms=Vrms*Q;//in Volts\n",
"disp(Vc_rms*1000,'Voltage across the capacitor in mV :');\n",
"//Note : Answer in the book is wrong."
   ]
   }
,
{
		   "cell_type": "markdown",
		   "metadata": {},
		   "source": [
			"## Example 5.5: Calculate_input_voltage_to_the_receiver.sce"
		   ]
		  },
  {
"cell_type": "code",
	   "execution_count": null,
	   "metadata": {
	    "collapsed": true
	   },
	   "outputs": [],
"source": [
"//Exa 5.5\n",
"clc;\n",
"clear;\n",
"close;\n",
"//Given data :\n",
"N=100;//No. of turns\n",
"A=2;//in m^2\n",
"f=10;//in MHz\n",
"f=f*10^6;//in Hz\n",
"Q=150;//Quality factor\n",
"c=3*10^8;//speed of light in m/s\n",
"lambda=c/f;//in meter\n",
"Erms=10*10^-6;//in V/m\n",
"theta=60;//in degree\n",
"Vrms=2*%pi*Erms*A*N*cos(theta*%pi/180)/lambda;\n",
"Vin=Vrms*Q;//in Volts\n",
"disp(Vin*1000,'Voltage to the receiver in mV : ');\n",
"//Note : Answer in the book is wrong."
   ]
   }
,
{
		   "cell_type": "markdown",
		   "metadata": {},
		   "source": [
			"## Example 5.6: Derive_input_impedence_of_folded_dipole_antenna.sce"
		   ]
		  },
  {
"cell_type": "code",
	   "execution_count": null,
	   "metadata": {
	    "collapsed": true
	   },
	   "outputs": [],
"source": [
"//Exa 5.1\n",
"clc;\n",
"clear;\n",
"close;\n",
"disp('The emf applied to the end terminals is V. This is being divided in two equal half in each dipole. Hence voltage in each dipole is V/2.');\n",
"disp('By nodal analysis : ');\n",
"disp('V/2=I1*Z11+I2*Z12       eq(1)');\n",
"disp('Where I1,I2 are currents flowing at terminals of dipole1 and dipole 2');\n",
"disp('Z11 and Z12 ares self impedences of dipole1 and mutual impedence between dipole1 and dipole2 respectively.');\n",
"disp('I1=I2');\n",
"disp('V/2=I*(Z11+Z12)       eq(2)');\n",
"disp('Both the dipoles are kept lambda/100 apart (i.e., they are very close to each other.)')\n",
"disp('So, Z11=Z12');\n",
"disp('From eq(1) and eq(2) : ');\n",
"disp('V/2=I1*(2*Z11)');\n",
"disp('Z=V/I1=4*Z11');\n",
"Z11=73 ;//Resistance for a dipole in Ohm \n",
"disp('Z=4*73 ohm');\n",
"disp('Z=292 ohm');"
   ]
   }
],
"metadata": {
		  "kernelspec": {
		   "display_name": "Scilab",
		   "language": "scilab",
		   "name": "scilab"
		  },
		  "language_info": {
		   "file_extension": ".sce",
		   "help_links": [
			{
			 "text": "MetaKernel Magics",
			 "url": "https://github.com/calysto/metakernel/blob/master/metakernel/magics/README.md"
			}
		   ],
		   "mimetype": "text/x-octave",
		   "name": "scilab",
		   "version": "0.7.1"
		  }
		 },
		 "nbformat": 4,
		 "nbformat_minor": 0
}
