{
"cells": [
 {
		   "cell_type": "markdown",
	   "metadata": {},
	   "source": [
       "# Chapter 1: Antenna Principles"
	   ]
	},
{
		   "cell_type": "markdown",
		   "metadata": {},
		   "source": [
			"## Example 1.10: Find_Field_Strength_at_10_Km_away_and_radiated_power.sce"
		   ]
		  },
  {
"cell_type": "code",
	   "execution_count": null,
	   "metadata": {
	    "collapsed": true
	   },
	   "outputs": [],
"source": [
"//Exa 1.10\n",
"clc;\n",
"clear;\n",
"close;\n",
"//given data :\n",
"le=200;//in m\n",
"Irms=200;//in A\n",
"f=300;//in KHz\n",
"r=10;//in Km\n",
"c=3*10^8;//speed of light i m/s\n",
"lambda=c/(f*1000);//in m\n",
"Erms=120*%pi*le*Irms/(lambda*r*10^3);//in V/m\n",
"disp(Erms,'Field strength at 10Km distace in V/m: ');\n",
"Rr=(160*(%pi)^2)*(le/lambda)^2;//in Ohm\n",
"W=Irms^2*Rr;//in Watts\n",
"disp(W/10^6,'Radiated Power in MWatts : ');\n",
"//Note : Answer is wrong in the book. Unit of answer in the book is written mW instead of MW by mistake."
   ]
   }
,
{
		   "cell_type": "markdown",
		   "metadata": {},
		   "source": [
			"## Example 1.11: Find_Radiation_Resistance.sce"
		   ]
		  },
  {
"cell_type": "code",
	   "execution_count": null,
	   "metadata": {
	    "collapsed": true
	   },
	   "outputs": [],
"source": [
"//Exa 1.11\n",
"clc;\n",
"clear;\n",
"close;\n",
"//given data :\n",
"//Formula : Rr=80*%pi^2*(l/lambda)^2\n",
"//Given l=lambda/60\n",
"//l/lambda=1/60\n",
"Rr=80*%pi^2*(1/60)^2;//in Ohm\n",
"disp(Rr,'Radiation resistance in Ohm: ');"
   ]
   }
,
{
		   "cell_type": "markdown",
		   "metadata": {},
		   "source": [
			"## Example 1.12: Value_of_Electric_field_at_20_Km_away.sce"
		   ]
		  },
  {
"cell_type": "code",
	   "execution_count": null,
	   "metadata": {
	    "collapsed": true
	   },
	   "outputs": [],
"source": [
"//Exa 1.12\n",
"clc;\n",
"clear;\n",
"close;\n",
"//given data :\n",
"r=10;//in Km\n",
"Erms=10;//in mV/m\n",
"r1=20;//in Km\n",
"//Formula : Erms=sqrt(90*W)/r;//in V/m\n",
"//Let swrt(90*W)=a\n",
"a=Erms*r;\n",
"Erms1=a/r1;//in mV/m\n",
"disp(Erms1,'Field strength at 20Km distace in mV/m: ');"
   ]
   }
,
{
		   "cell_type": "markdown",
		   "metadata": {},
		   "source": [
			"## Example 1.13: Determine_field_strength.sce"
		   ]
		  },
  {
"cell_type": "code",
	   "execution_count": null,
	   "metadata": {
	    "collapsed": true
	   },
	   "outputs": [],
"source": [
"//Exa 1.13\n",
"clc;\n",
"clear;\n",
"close;\n",
"//given data :\n",
"r=1;//in Km\n",
"r=1*10^3;//in m\n",
"l=1;//in m\n",
"Irms=10;//in A\n",
"f=5;//in MHz\n",
"c=3*10^8;//speed of light i m/s\n",
"lambda=c/(f*10^6);//in m\n",
"le=2*l/%pi;//in m\n",
"Erms=120*%pi*le*Irms/(lambda*r);//in V/m\n",
"disp(Erms,'Field strength at 10Km distace in V/m: ');\n",
"//Note : Answer in the book is wrong. Mistake during value putting."
   ]
   }
,
{
		   "cell_type": "markdown",
		   "metadata": {},
		   "source": [
			"## Example 1.14: calculate_Effective_height_of_Antenna.sce"
		   ]
		  },
  {
"cell_type": "code",
	   "execution_count": null,
	   "metadata": {
	    "collapsed": true
	   },
	   "outputs": [],
"source": [
"//Exa 1.14\n",
"clc;\n",
"clear;\n",
"close;\n",
"//given data :\n",
"Irms=30;//in A\n",
"f=1;//in MHz\n",
"Erms=10;//in mV/m\n",
"Erms=Erms*10^-3;//in V/m\n",
"r=50;//in Km\n",
"r=r*10^3;//in m\n",
"c=3*10^8;//speed of light i m/s\n",
"lambda=c/(f*10^6);//in m\n",
"le=Erms*lambda*r/(120*%pi*Irms);//in m\n",
"disp(le,'Effetive height of Antenna in meter : ');"
   ]
   }
,
{
		   "cell_type": "markdown",
		   "metadata": {},
		   "source": [
			"## Example 1.15: Calculate_radiation_resistance.sce"
		   ]
		  },
  {
"cell_type": "code",
	   "execution_count": null,
	   "metadata": {
	    "collapsed": true
	   },
	   "outputs": [],
"source": [
"//Exa 1.15\n",
"clc;\n",
"clear;\n",
"close;\n",
"//given data :\n",
"disp('Erms^2 = 30*Wt/r^2');\n",
"disp('Wt = Erms^2*r^2/30');\n",
"disp('Given : E = 10*I/r');\n",
"disp('Wt = (10*I/r)^2*r^2/30')\n",
"disp('Wt = 100*I^2/30')\n",
"disp('Rr = Wt/I^2 = 100/30');\n",
"disp(100/30,'Radiation resistance in Ohm : ');"
   ]
   }
,
{
		   "cell_type": "markdown",
		   "metadata": {},
		   "source": [
			"## Example 1.16: Find_distance_from_50_cycle_circuit.sce"
		   ]
		  },
  {
"cell_type": "code",
	   "execution_count": null,
	   "metadata": {
	    "collapsed": true
	   },
	   "outputs": [],
"source": [
"//Exa 1.16\n",
"clc;\n",
"clear;\n",
"close;\n",
"//given data :\n",
"format('v',8);\n",
"lambda=300/(50*10^-6);//in m\n",
"r=round(lambda)/(2*%pi);//in m\n",
"disp(r,'Distance in meter : ');\n",
"//Note : Answer in the book is wrong."
   ]
   }
,
{
		   "cell_type": "markdown",
		   "metadata": {},
		   "source": [
			"## Example 1.17: Find_Field_Strength_at_2_Km_away.sce"
		   ]
		  },
  {
"cell_type": "code",
	   "execution_count": null,
	   "metadata": {
	    "collapsed": true
	   },
	   "outputs": [],
"source": [
"//Exa 1.17\n",
"clc;\n",
"clear;\n",
"close;\n",
"//given data :\n",
"r=2;//in Km\n",
"r=r*10^3;//in m\n",
"Wt=1;//in KW\n",
"Wt=Wt*10^3;//in Watt\n",
"Erms=sqrt(30*Wt)/r;//in V/m\n",
"disp(Erms*10^3,'Field strength at 2Km distace in mV/m: ');"
   ]
   }
,
{
		   "cell_type": "markdown",
		   "metadata": {},
		   "source": [
			"## Example 1.18: Calculate_radiation_resistance.sce"
		   ]
		  },
  {
"cell_type": "code",
	   "execution_count": null,
	   "metadata": {
	    "collapsed": true
	   },
	   "outputs": [],
"source": [
"//Exa 1.18\n",
"clc;\n",
"clear;\n",
"close;\n",
"//given data :\n",
"f=20;//in MHz\n",
"f=f*10^6;//in Hz\n",
"le=100;//in m\n",
"c=3*10^8;//speed of light in m/s\n",
"lambda=c/f;//in m\n",
"Rr=160*(%pi*le/lambda)^2;//in ohm\n",
"disp(Rr/1000,'Radiation Resistance in KOhm : ');"
   ]
   }
,
{
		   "cell_type": "markdown",
		   "metadata": {},
		   "source": [
			"## Example 1.19: Velocity_impedence_wavelength_and_Erms.sce"
		   ]
		  },
  {
"cell_type": "code",
	   "execution_count": null,
	   "metadata": {
	    "collapsed": true
	   },
	   "outputs": [],
"source": [
"//Exa 1.19\n",
"clc;\n",
"clear;\n",
"close;\n",
"//given data :\n",
"P=10;//in W/m^2\n",
"f=40;//in MHz\n",
"f=f*10^6;//in Hz\n",
"mu_r=4;//constant\n",
"epsilon_r=5;//constant\n",
"//Velocity of propagation\n",
"//formula : v=(1/sqrt(mu_o*epsilon_o))*(1/sqrt(mu_r*epsilon_r));//in m/s\n",
"//1/sqrt(mu_o*epsilon_o)=c=speed of light=3*10^8 m/s\n",
"c=3*10^8;//speed of light in m/s\n",
"v=c*(1/sqrt(mu_r*epsilon_r));//in m/s\n",
"disp(v,'Velocity of propagation in m/s : ');\n",
"//Wavelength\n",
"lambda=v/f;//in meter\n",
"disp(lambda,'Wavelength in Meter : ');\n",
"//rms electric field\n",
"//Formula : E=P*sqrt(mu_o/epsilon_o)*sqrt(mu_r/epsilon_r);//in V/m\n",
"E=sqrt(1200*%pi*sqrt(4/5));//in V/m\n",
"Erms=sqrt(E^2/sqrt(2));//in V/m\n",
"disp(Erms,'rms Electric Field in V/m: ');\n",
"//Impedence of medium\n",
"Eta=(sqrt(2)*Erms)^2/P;//in Ohm\n",
"disp(Eta,'Impedence of medium in ohm : ');"
   ]
   }
,
{
		   "cell_type": "markdown",
		   "metadata": {},
		   "source": [
			"## Example 1.1: Calculate_strength_of_magnetic_field.sce"
		   ]
		  },
  {
"cell_type": "code",
	   "execution_count": null,
	   "metadata": {
	    "collapsed": true
	   },
	   "outputs": [],
"source": [
"//Exa 1.1\n",
"clc;\n",
"clear;\n",
"close;\n",
"//given data :\n",
"E=4;//in V/m\n",
"Eta=120*%pi;//constant\n",
"//Formula : E/H=Eta\n",
"H=E/Eta;//in A/m\n",
"disp(H,'Strength of magnetic field in free space in A/m : ');"
   ]
   }
,
{
		   "cell_type": "markdown",
		   "metadata": {},
		   "source": [
			"## Example 1.20: Find_Distance.sce"
		   ]
		  },
  {
"cell_type": "code",
	   "execution_count": null,
	   "metadata": {
	    "collapsed": true
	   },
	   "outputs": [],
"source": [
"//Exa 1.20\n",
"clc;\n",
"clear;\n",
"close;\n",
"//given data :\n",
"disp('Hfi = (Im*dlsin(theta)/(4*%pi))*[cos(omega*t1)/r-omega*sin(omega*t1)/(c*r)]');\n",
"disp('200(Im*dlsin(theta)/(4*%pi))*(sin(omega*t1)/r^2)=(Im*dlsin(theta)/(4*%pi))*(-omega*sin(omega*t1)/(c*r))');\n",
"disp('200*cos(omega*t1)/r^2 = -omega*sin(omega*t1)/(c*r)');\n",
"disp('r=200*lambda/(2*%pi);//in Meter')\n",
"disp('r = '+string(200/(2*%pi))+'lambda');"
   ]
   }
,
{
		   "cell_type": "markdown",
		   "metadata": {},
		   "source": [
			"## Example 1.2: Calculate_strength_of_Electric_field.sce"
		   ]
		  },
  {
"cell_type": "code",
	   "execution_count": null,
	   "metadata": {
	    "collapsed": true
	   },
	   "outputs": [],
"source": [
"//Exa 1.2\n",
"clc;\n",
"clear;\n",
"close;\n",
"//given data :\n",
"H=5.2;//in mA/m\n",
"Eta=120*%pi;//constant\n",
"//Formula : E/H=Eta\n",
"E=H*10^-3*Eta;//in V/m\n",
"disp(round(E),'Strength of Electric field in free space in V/m : ');"
   ]
   }
,
{
		   "cell_type": "markdown",
		   "metadata": {},
		   "source": [
			"## Example 1.3: Find_Power_radiated_by_Antenna.sce"
		   ]
		  },
  {
"cell_type": "code",
	   "execution_count": null,
	   "metadata": {
	    "collapsed": true
	   },
	   "outputs": [],
"source": [
"//Exa 1.3\n",
"clc;\n",
"clear;\n",
"close;\n",
"//given data :\n",
"I=20;//in A\n",
"Rr=100;//in Ohm\n",
"//Formula : Wr=I^2*R\n",
"Wr=I^2*Rr;//in W\n",
"disp(Wr/1000,'Radiated power in KW : ');"
   ]
   }
,
{
		   "cell_type": "markdown",
		   "metadata": {},
		   "source": [
			"## Example 1.4: Find_Field_Strength_at_30_Km_away.sce"
		   ]
		  },
  {
"cell_type": "code",
	   "execution_count": null,
	   "metadata": {
	    "collapsed": true
	   },
	   "outputs": [],
"source": [
"//Exa 1.4\n",
"clc;\n",
"clear;\n",
"close;\n",
"//given data :\n",
"W=625;//in KW\n",
"r=30;//in Km\n",
"Erms=sqrt(90*W*1000)/(r*1000);//in V/m\n",
"disp(Erms*1000,'Strength of Electric field at 30Km away in mV/m : ');"
   ]
   }
,
{
		   "cell_type": "markdown",
		   "metadata": {},
		   "source": [
			"## Example 1.5: Find_out_Efficiency_of_Antenna.sce"
		   ]
		  },
  {
"cell_type": "code",
	   "execution_count": null,
	   "metadata": {
	    "collapsed": true
	   },
	   "outputs": [],
"source": [
"//Exa 1.5\n",
"clc;\n",
"clear;\n",
"close;\n",
"//given data :\n",
"le=10;//in m\n",
"Irms=450;//in A\n",
"f=50;//in KHz\n",
"R=1.5;//in Ohm\n",
"lambda=300/(f/1000);//in m\n",
"Rr=160*(%pi)^2*(le/lambda)^2;//in Ohm\n",
"Wr=Irms^2*Rr;//in W\n",
"disp(Wr,'Radiated power in Watts : ');\n",
"Eta=(Rr/(Rr+R))*100;//efficiency in %\n",
"disp(Eta,'Efficiency of antenna in % : ');"
   ]
   }
,
{
		   "cell_type": "markdown",
		   "metadata": {},
		   "source": [
			"## Example 1.6: Determine_Radiation_Resistance.sce"
		   ]
		  },
  {
"cell_type": "code",
	   "execution_count": null,
	   "metadata": {
	    "collapsed": true
	   },
	   "outputs": [],
"source": [
"//Exa 1.6\n",
"clc;\n",
"clear;\n",
"close;\n",
"//given data :\n",
"le=50;//in m\n",
"f=100;//in MHz\n",
"lambda=300/(f);//in m\n",
"Rr=(160*(%pi)^2)*(le/lambda)^2;//in Ohm\n",
"disp(Rr/10^6,'Radiation Resistance in Mohm: ');\n",
"//Note : Answer in the book is wrong"
   ]
   }
,
{
		   "cell_type": "markdown",
		   "metadata": {},
		   "source": [
			"## Example 1.7: Determine_field_strength_at_a_distance_10_Km.sce"
		   ]
		  },
  {
"cell_type": "code",
	   "execution_count": null,
	   "metadata": {
	    "collapsed": true
	   },
	   "outputs": [],
"source": [
"//Exa 1.7\n",
"clc;\n",
"clear;\n",
"close;\n",
"//given data :\n",
"l=30;//in m\n",
"Irms=20;//in A\n",
"f=1;//in MHz\n",
"r=10;//in Km\n",
"r=r*1000;//in m\n",
"le=2*l/%pi;//in m\n",
"lambda=300/(f);//in m\n",
"Erms=120*%pi*le*Irms/(lambda*r);//in V/m\n",
"disp(Erms,'Field strength at 10Km distace in V/m: ');\n",
"//Note : Answer in the book is wrong"
   ]
   }
,
{
		   "cell_type": "markdown",
		   "metadata": {},
		   "source": [
			"## Example 1.8: Calculate_radiation_resistance_and_efficiency_of_antenna.sce"
		   ]
		  },
  {
"cell_type": "code",
	   "execution_count": null,
	   "metadata": {
	    "collapsed": true
	   },
	   "outputs": [],
"source": [
"//Exa 1.8\n",
"clc;\n",
"clear;\n",
"close;\n",
"//given data :\n",
"Rl=1;//in ohm\n",
"//Formula : Rr=80*%pi^2*(l/lambda)^2\n",
"//Given l=lambda/10\n",
"//l/lambda=1/10\n",
"Rr=80*%pi^2*(1/10)^2;//in Ohm\n",
"disp(Rr,'Radiation resistance in Ohm: ');\n",
"Eta=Rr/(Rr+Rl);//Unitless\n",
"disp(Eta*100,'Antenna Efficiency in % : ');"
   ]
   }
,
{
		   "cell_type": "markdown",
		   "metadata": {},
		   "source": [
			"## Example 1.9: Calculate_strength_of_electric_field_at_a_distance_100_Km.sce"
		   ]
		  },
  {
"cell_type": "code",
	   "execution_count": null,
	   "metadata": {
	    "collapsed": true
	   },
	   "outputs": [],
"source": [
"//Exa 1.9\n",
"clc;\n",
"clear;\n",
"close;\n",
"//given data :\n",
"r=100;//in Km\n",
"W=100;//in KW\n",
"Erms=sqrt(90*W*1000)/(r*1000);//in V/m\n",
"disp(Erms,'Strength of Electric Field in V/m : ');"
   ]
   }
],
"metadata": {
		  "kernelspec": {
		   "display_name": "Scilab",
		   "language": "scilab",
		   "name": "scilab"
		  },
		  "language_info": {
		   "file_extension": ".sce",
		   "help_links": [
			{
			 "text": "MetaKernel Magics",
			 "url": "https://github.com/calysto/metakernel/blob/master/metakernel/magics/README.md"
			}
		   ],
		   "mimetype": "text/x-octave",
		   "name": "scilab",
		   "version": "0.7.1"
		  }
		 },
		 "nbformat": 4,
		 "nbformat_minor": 0
}
