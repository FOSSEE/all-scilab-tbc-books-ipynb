{
"cells": [
 {
		   "cell_type": "markdown",
	   "metadata": {},
	   "source": [
       "# Chapter 9: Ground wave Propagation"
	   ]
	},
{
		   "cell_type": "markdown",
		   "metadata": {},
		   "source": [
			"## Example 5.5: Find_maximum_possible_distance_along_earth_surface.sce"
		   ]
		  },
  {
"cell_type": "code",
	   "execution_count": null,
	   "metadata": {
	    "collapsed": true
	   },
	   "outputs": [],
"source": [
"//Exa 9.5\n",
"clc;\n",
"clear;\n",
"close;\n",
"//given data :\n",
"HT=3000;//in meter\n",
"HR=6000;//in meter\n",
"d=4.12*(sqrt(HT)+sqrt(HR));//in Km\n",
"disp(d,'Maximum possible distance in Km : ');"
   ]
   }
,
{
		   "cell_type": "markdown",
		   "metadata": {},
		   "source": [
			"## Example 9.1: Calculate_Maximum_line_of_sight_and_field_strength.sce"
		   ]
		  },
  {
"cell_type": "code",
	   "execution_count": null,
	   "metadata": {
	    "collapsed": true
	   },
	   "outputs": [],
"source": [
"//Exa 9.1\n",
"clc;\n",
"clear;\n",
"close;\n",
"//given data :\n",
"HT=50;//in meter\n",
"HR=10;//in meter\n",
"f=60;//in MHz\n",
"P=10;//in KW\n",
"D=10;//in Km\n",
"D=D*10^3;//in m\n",
"c=3*10^8;//speed of light in m/s\n",
"lambda=c/(f*10^6);//in meter\n",
"//Part (i) \n",
"d=3.55*(sqrt(HT)+sqrt(HR));//in Km\n",
"disp(d,'Maximum line of sight range in Km : ');\n",
"//Part (ii)\n",
"Et=88*sqrt(P*1000)*HT*HR/(lambda*D^2)\n",
"disp(Et,'The field strength at 10 Km in V/m: ');\n",
"//Part (iii)\n",
"//Formula : Et=88*sqrt(p)*HT*HR/(lambda*D^2)\n",
"Et=1;//in mV/m\n",
"D=sqrt(88*sqrt(P*1000)*HT*HR/(lambda*Et*10^-3));//in m\n",
"disp(D/1000,'Distance in Km : ');"
   ]
   }
,
{
		   "cell_type": "markdown",
		   "metadata": {},
		   "source": [
			"## Example 9.2: Find_Field_Strength_at_20_Km_away.sce"
		   ]
		  },
  {
"cell_type": "code",
	   "execution_count": null,
	   "metadata": {
	    "collapsed": true
	   },
	   "outputs": [],
"source": [
"//Exa 9.2\n",
"clc;\n",
"clear;\n",
"close;\n",
"//given data :\n",
"P=200;//in KW\n",
"D=20;//in Km\n",
"D=D*10^3;//in m\n",
"E=300*sqrt(P)/D;//in V/m\n",
"disp(E*10^3,'Field Strength at 20 Km in mV/m:')"
   ]
   }
,
{
		   "cell_type": "markdown",
		   "metadata": {},
		   "source": [
			"## Example 9.3: Calculate_field_strength_at_receiver_antenna.sce"
		   ]
		  },
  {
"cell_type": "code",
	   "execution_count": null,
	   "metadata": {
	    "collapsed": true
	   },
	   "outputs": [],
"source": [
"//Exa 9.3\n",
"clc;\n",
"clear;\n",
"close;\n",
"//given data :\n",
"HT=10;//in meter\n",
"HR=3;//in meter\n",
"P=200;//in W\n",
"D=50;//in Km\n",
"D=D*10^3;//in Km\n",
"f=150;//in MHz\n",
"c=3*10^8;//speed of light in m/s\n",
"lambda=c/(f*10^6);//in meter\n",
"E=88*sqrt(P)*HT*HR/(lambda*D^2);//in m\n",
"disp(E*10^6,'Field Strength at 20 Km in microV/m:')"
   ]
   }
,
{
		   "cell_type": "markdown",
		   "metadata": {},
		   "source": [
			"## Example 9.4: Find_height_of_receiving_antenna.sce"
		   ]
		  },
  {
"cell_type": "code",
	   "execution_count": null,
	   "metadata": {
	    "collapsed": true
	   },
	   "outputs": [],
"source": [
"//Exa 9.4\n",
"clc;\n",
"clear;\n",
"close;\n",
"//given data :\n",
"HT=100;//in meter\n",
"d=60;//in Km\n",
"//Formula :  d=4.12*(sqrt(HT)+sqrt(HR));//in Km\n",
"HR=(d/4.12-sqrt(HT))^2;//in meter\n",
"disp(HR,'Height of receiving antenna in meter : ');"
   ]
   }
,
{
		   "cell_type": "markdown",
		   "metadata": {},
		   "source": [
			"## Example 9.6: Find_Basic_Path_Loss.sce"
		   ]
		  },
  {
"cell_type": "code",
	   "execution_count": null,
	   "metadata": {
	    "collapsed": true
	   },
	   "outputs": [],
"source": [
"//Exa 9.6\n",
"clc;\n",
"clear;\n",
"close;\n",
"//given data :\n",
"f_MHz=3000;//in MHz\n",
"d_Km=384000;//in Km\n",
"PathLoss=32.45+20*log10(f_MHz)+20*log10(d_Km);//in dB\n",
"disp(PathLoss,'Path loss in dB : ');"
   ]
   }
,
{
		   "cell_type": "markdown",
		   "metadata": {},
		   "source": [
			"## Example 9.7: Calculate_Basic_transmission_Loss.sce"
		   ]
		  },
  {
"cell_type": "code",
	   "execution_count": null,
	   "metadata": {
	    "collapsed": true
	   },
	   "outputs": [],
"source": [
"//Exa 9.7\n",
"clc;\n",
"clear;\n",
"close;\n",
"//given data :\n",
"//Part (i)\n",
"D=10;//in Km\n",
"lambda=10000;//in meter\n",
"LP=(4*%pi*D*1000/lambda)^2;//in dB\n",
"disp(LP,'Path loss in dB : ');\n",
"//Part (ii)\n",
"D=10^6;//in Km\n",
"lambda=0.3;//in cm\n",
"LP=(4*%pi*D*1000/(lambda*10^-2))^2;//in dB\n",
"disp(LP,'Path loss in dB : ');\n",
"//Note : Answer in the book is wrong as value putted in the solution is differ from given in question."
   ]
   }
,
{
		   "cell_type": "markdown",
		   "metadata": {},
		   "source": [
			"## Example 9.8: Find_Range_of_LOS_system.sce"
		   ]
		  },
  {
"cell_type": "code",
	   "execution_count": null,
	   "metadata": {
	    "collapsed": true
	   },
	   "outputs": [],
"source": [
"//Exa 9.8\n",
"clc;\n",
"clear;\n",
"close;\n",
"//given data :\n",
"HT=50;//in meter\n",
"HR=5;//in meter\n",
"d=4.12*(sqrt(HT)+sqrt(HR));//in Km\n",
"disp(d,'Range of LOS system in Km : ');"
   ]
   }
,
{
		   "cell_type": "markdown",
		   "metadata": {},
		   "source": [
			"## Example 9.9: Find_maximum_power_received_by_receiver.sce"
		   ]
		  },
  {
"cell_type": "code",
	   "execution_count": null,
	   "metadata": {
	    "collapsed": true
	   },
	   "outputs": [],
"source": [
"//Exa 9.9\n",
"clc;\n",
"clear;\n",
"close;\n",
"//given data :\n",
"PT=5;//in KW\n",
"PT=PT*1000;//in W\n",
"D=100;//in Km\n",
"D=D*10^3;//in m\n",
"f=300;//in MHz\n",
"GT=1.64;//Directivity of transmitter\n",
"GR=1.64;//Directivity of receiver\n",
"c=3*10^8;//speed of light in m/s\n",
"lambda=c/(f*10^6);//in meter\n",
"Pr=PT*GT*GR*[lambda/(4*%pi*D)]^2\n",
"disp(Pr,'Maximum power received in Watt:');"
   ]
   }
],
"metadata": {
		  "kernelspec": {
		   "display_name": "Scilab",
		   "language": "scilab",
		   "name": "scilab"
		  },
		  "language_info": {
		   "file_extension": ".sce",
		   "help_links": [
			{
			 "text": "MetaKernel Magics",
			 "url": "https://github.com/calysto/metakernel/blob/master/metakernel/magics/README.md"
			}
		   ],
		   "mimetype": "text/x-octave",
		   "name": "scilab",
		   "version": "0.7.1"
		  }
		 },
		 "nbformat": 4,
		 "nbformat_minor": 0
}
