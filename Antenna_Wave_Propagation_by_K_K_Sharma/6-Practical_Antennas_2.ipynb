{
"cells": [
 {
		   "cell_type": "markdown",
	   "metadata": {},
	   "source": [
       "# Chapter 6: Practical Antennas 2"
	   ]
	},
{
		   "cell_type": "markdown",
		   "metadata": {},
		   "source": [
			"## Example 6.10: Determine_cut_off_frequencies_and_bandpass.sce"
		   ]
		  },
  {
"cell_type": "code",
	   "execution_count": null,
	   "metadata": {
	    "collapsed": true
	   },
	   "outputs": [],
"source": [
"//Exa 6.10\n",
"clc;\n",
"clear;\n",
"close;\n",
"//Given Data:\n",
"Tau=0.7;//Design Factor\n",
"L1=0.3*2;//in meter\n",
"c=3*10^8;//speednof light in m/s\n",
"f1=(c/(2*L1))/10^6;//in MHz\n",
"//Design factor : L1/L2=L2/L3=L3/L4=.......=0.7\n",
"L2=0.7/L1;//in meter\n",
"f2=f1*0.7;//in MHz\n",
"f3=f2*0.7;//in MHz\n",
"f4=f3*0.7;//in MHz\n",
"f5=f4*0.7;//in MHz\n",
"f6=f5*0.7;//in MHz\n",
"f7=f6*0.7;//in MHz\n",
"f8=f7*0.7;//in MHz\n",
"f9=f8*0.7;//in MHz\n",
"f10=f9*0.7;//in MHz\n",
"disp('Cutoff frequencies in MHz :')\n",
"disp(f1,'f1 in MHz :');\n",
"disp(f2,'f2 in MHz :');\n",
"disp(f3,'f3 in MHz :');\n",
"disp(f4,'f4 in MHz :');\n",
"disp(f5,'f5 in MHz :');\n",
"disp(f6,'f6 in MHz :');\n",
"disp(f7,'f7 in MHz :');\n",
"disp(f8,'f8 in MHz :');\n",
"disp(f9,'f9 in MHz :');\n",
"disp(f10,'f10 in MHz :');\n",
"disp(f1-f10,'Passband=');"
   ]
   }
,
{
		   "cell_type": "markdown",
		   "metadata": {},
		   "source": [
			"## Example 6.11: Determine_Length_Width_Flare_Angle_Theta_and_Fi.sce"
		   ]
		  },
  {
"cell_type": "code",
	   "execution_count": null,
	   "metadata": {
	    "collapsed": true
	   },
	   "outputs": [],
"source": [
"//Exa 6.11\n",
"clc;\n",
"clear;\n",
"close;\n",
"//Given Data:\n",
"disp('Assuming typical values for f as 0.2lamda in E-plane and 0.375lambda in H-plane');\n",
"//b=10*lambda ;mouth height\n",
"//delta=0.8*lambda\n",
"disp('Length :')\n",
"disp('L=b^2/(8*lambda)');\n",
"disp('L='+string(10^2/(8*0.2))+'lambda');\n",
"disp('Flare Angle (Theta):')\n",
"disp('Theta=atan(b/(2*L))');\n",
"disp('Theta='+string(10/(2*(10^2/(8*0.2))))+' radian');\n",
"Theta=(10/(2*(10^2/(8*0.2))))*180/%pi;//in Degree\n",
"disp(Theta,'Flare Angle Theta in degree : ');\n",
"disp('Flare Angle (fi):')\n",
"disp('fi=acos(L/(L+delta))=acos((10^2/(8*0.2))/((10^2/(8*0.2))+0.375))');\n",
"disp('fi='+string(acos((10^2/(8*0.2))/((10^2/(8*0.2))+0.375)))+' radian');\n",
"fi=(acos((10^2/(8*0.2))/((10^2/(8*0.2))+0.375)))*180/%pi;//in Degree\n",
"disp(fi,'Flare angle fi in degree : ');\n",
"disp('Width :');\n",
"disp('Width, a=2*L*tan(fi)');\n",
"disp('a='+string(2*62.5*tan((acos((10^2/(8*0.2))/((10^2/(8*0.2))+0.375)))))+'lambda');"
   ]
   }
,
{
		   "cell_type": "markdown",
		   "metadata": {},
		   "source": [
			"## Example 6.1: Find_HPBW_Axial_Ratio_and_Gain.sce"
		   ]
		  },
  {
"cell_type": "code",
	   "execution_count": null,
	   "metadata": {
	    "collapsed": true
	   },
	   "outputs": [],
"source": [
"//Exa 6.1\n",
"clc;\n",
"clear;\n",
"close;\n",
"n=20;//no. of turns\n",
"//Clambda=lambda\n",
"//Slambda=lambda/4\n",
"//HPBW : \n",
"disp('HPBW=52/(Clambda*sqrt(n*Slambda))');\n",
"//Putting values below :\n",
"Clambda=1;//in Meter\n",
"Slambda=1/4;//in Meter\n",
"HPBW=52/(Clambda*sqrt(n*Slambda));//in degree\n",
"disp(HPBW,'HPBW in degree : ');\n",
"//Axial Ratio\n",
"Aratio=(2*n+1)/2;//unitless\n",
"disp(Aratio,'Axial Ratio : ');\n",
"//Gain\n",
"D=12*Clambda^2*n*Slambda;//unitless\n",
"disp(D,'Gain : ');"
   ]
   }
,
{
		   "cell_type": "markdown",
		   "metadata": {},
		   "source": [
			"## Example 6.2: Calculate_Best_spacing_and_diectivity.sce"
		   ]
		  },
  {
"cell_type": "code",
	   "execution_count": null,
	   "metadata": {
	    "collapsed": true
	   },
	   "outputs": [],
"source": [
"//Exa 6.2\n",
"clc;\n",
"clear;\n",
"close;\n",
"//Part (a): Given data :\n",
"disp('Part (a) : At the center frequency with a circumference of lambda, the directivity of an axial mode helix is, : D=12*n*Slambda');\n",
"n=20;//no. of turns\n",
"Slambda=0.472;//in meter\n",
"D=12*n*Slambda;//in meter\n",
"disp('Ae=(lambda^2/(4*%pi))*D');\n",
"disp('Ae='+string(1/(4*%pi*D))+'lambda^2');\n",
"disp('Let this be the area of a square. The space between the elements is :')\n",
"disp('d=sqrt(Ae)');\n",
"disp('d='+string(sqrt(1/(4*%pi*D)))+'lambda');\n",
"disp('Part (b) : With a space of 3*lambda the total effective area : ');\n",
"disp('Ae=9.02*lambda^2*4');\n",
"disp('Ae='+string(9.02*4)+'lambda^2');\n",
"disp('D=4*%pi*Ae/lambda^2');\n",
"disp('D='+string(4*%pi*36.08));//unitless"
   ]
   }
,
{
		   "cell_type": "markdown",
		   "metadata": {},
		   "source": [
			"## Example 6.3: Determine_apex_angle_scale_constant_and_no_of_elements.sce"
		   ]
		  },
  {
"cell_type": "code",
	   "execution_count": null,
	   "metadata": {
	    "collapsed": true
	   },
	   "outputs": [],
"source": [
"//Exa 6.3\n",
"clc;\n",
"clear;\n",
"close;\n",
"//from 7dBi gain graph the data obtained is given below :\n",
"K=1.2;//Scale constant\n",
"alfa=1.5;//Apex angle in degree\n",
"Slambda=0.15;\n",
"disp('K^n=F or n=logF/logK');\n",
"F=4;\n",
"n=log10(F)/log10(K);\n",
"n=ceil(n);\n",
"nplus1=n+1;\n",
"disp(alfa,'Apex Angle in degree : ');\n",
"disp(K,'Sale constant :');\n",
"disp(n,'No. of elements : ');"
   ]
   }
,
{
		   "cell_type": "markdown",
		   "metadata": {},
		   "source": [
			"## Example 6.4: Estimate_Power_gai.sce"
		   ]
		  },
  {
"cell_type": "code",
	   "execution_count": null,
	   "metadata": {
	    "collapsed": true
	   },
	   "outputs": [],
"source": [
"//Exa 6.4\n",
"clc;\n",
"clear;\n",
"close;\n",
"//Given data :\n",
"//d=10*lambda\n",
"disp('d=10*lambda');\n",
"disp('Power Gain : G=6*(d/lambda)^2');\n",
"disp('Putting value of d, we get G=6*10^2')\n",
"G=6*10^2;//unitless\n",
"disp(G,'Power gain : ');\n",
"G_dB=10*log10(G);//in dB\n",
"disp(G_dB,'Power Gain in dB : ');"
   ]
   }
,
{
		   "cell_type": "markdown",
		   "metadata": {},
		   "source": [
			"## Example 6.5: Calculate_3_dB_beamwidth_and_power_gain.sce"
		   ]
		  },
  {
"cell_type": "code",
	   "execution_count": null,
	   "metadata": {
	    "collapsed": true
	   },
	   "outputs": [],
"source": [
"//Exa 6.5\n",
"clc;\n",
"clear;\n",
"close;\n",
"//Given Data:\n",
"f=10;//in GHz\n",
"f=f*10^9;//in Hz\n",
"BWFN=10;//in degree\n",
"c=3*10^8;//Speed of light in m/s\n",
"lambda=c/f;//in meter\n",
"//Part (a):\n",
"d=140*lambda/BWFN;//in meter\n",
"disp(d,'Diameter of a parabolic Antenna in meter : ');\n",
"//Part (b):\n",
"HPBW=58*lambda/d;//in degree\n",
"disp(HPBW,'3-dB Beamwidth in degree :');\n",
"//Part (c):\n",
"Gp=6*(d/lambda)^2;//gain \n",
"Gp_dB=10*log10(Gp);//in dB\n",
"disp(Gp_dB,'Power Gain in dB : ');"
   ]
   }
,
{
		   "cell_type": "markdown",
		   "metadata": {},
		   "source": [
			"## Example 6.6: Calculate_HPBW_BWFN_and_Gain.sce"
		   ]
		  },
  {
"cell_type": "code",
	   "execution_count": null,
	   "metadata": {
	    "collapsed": true
	   },
	   "outputs": [],
"source": [
"//Exa 6.6\n",
"clc;\n",
"clear;\n",
"close;\n",
"//Given Data:\n",
"f=1430;//in MHz\n",
"f=f*10^6;//in Hz\n",
"d=64;//in meter\n",
"c=3*10^8;//Speed of light in m/s\n",
"lambda=c/f;//in meter\n",
"//Part (a):\n",
"HPBW=70*lambda/d;//in degree\n",
"disp(HPBW,'HPBW in degree :');\n",
"//Part (b):\n",
"BWFN=140*lambda/d;//in degree\n",
"disp(BWFN,'BWFN in degree :');\n",
"//Part (c):\n",
"Gp=6*(d/lambda)^2;//gain \n",
"Gp_dB=10*log10(Gp);//in dB\n",
"disp(Gp_dB,'Power Gain in dB : ');"
   ]
   }
,
{
		   "cell_type": "markdown",
		   "metadata": {},
		   "source": [
			"## Example 6.7: Specify_diameter_of_parabolic_reflector.sce"
		   ]
		  },
  {
"cell_type": "code",
	   "execution_count": null,
	   "metadata": {
	    "collapsed": true
	   },
	   "outputs": [],
"source": [
"//Exa 6.7\n",
"clc;\n",
"clear;\n",
"close;\n",
"//Given Data:\n",
"f=15;//in GHz\n",
"f=f*10^9;//in Hz\n",
"Gp_dB=75;//in dB\n",
"c=3*10^8;//Speed of light in m/s\n",
"lambda=c/f;//in meter\n",
"//Formula : Gp=9.87*(d/lambda)^2\n",
"//Formula : Gp_dB=10log10(Gp)\n",
"d=sqrt((10^(Gp_dB/10))*lambda^2/9.87);//in meter\n",
"disp(d,'Diameter of a parabolic reflector in meter :');"
   ]
   }
,
{
		   "cell_type": "markdown",
		   "metadata": {},
		   "source": [
			"## Example 6.8: Find_minimum_distance_between_primary_and_secondary_antenna.sce"
		   ]
		  },
  {
"cell_type": "code",
	   "execution_count": null,
	   "metadata": {
	    "collapsed": true
	   },
	   "outputs": [],
"source": [
"//Exa 6.8\n",
"clc;\n",
"clear;\n",
"close;\n",
"//Given Data:\n",
"f=5000;//in MHz\n",
"f=f*10^6;//in Hz\n",
"d=10;//in feet\n",
"d=d*0.3048;//in meter\n",
"c=3*10^8;//Speed of light in m/s\n",
"lambda=c/f;//in meter\n",
"r=2*d^2/lambda;//in meter\n",
"disp(r,'Minimum distance between primary and secondary antenna in meter :');"
   ]
   }
,
{
		   "cell_type": "markdown",
		   "metadata": {},
		   "source": [
			"## Example 6.9: Calculate_HPBW_BWFN_and_diameter.sce"
		   ]
		  },
  {
"cell_type": "code",
	   "execution_count": null,
	   "metadata": {
	    "collapsed": true
	   },
	   "outputs": [],
"source": [
"//Exa 6.9\n",
"clc;\n",
"clear;\n",
"close;\n",
"//Given Data:\n",
"K=55;//Aperture Efficiency in %\n",
"K=K/100;//Aperture Efficiency\n",
"f=15;//in GHz\n",
"f=f*10^9;//in Hz\n",
"c=3*10^8;//Speed of light in m/s\n",
"lambda=c/f;//in meter\n",
"G_dB=30;//in dB\n",
"G=10^(G_dB/10);//Gain unitless\n",
"//Formula : G=4*%pi*K*A/lambda^2\n",
"A=(G*lambda^2)/(4*%pi*K);//in m^2\n",
"disp(A,'Diameter of parabolic reflector in m^2 :');\n",
"//Part (b)\n",
"d=sqrt(4*A/%pi);//in meter\n",
"HPBW=70*lambda/d;//in degree\n",
"disp(HPBW,'HPBW in degree : ');\n",
"//Part (c)\n",
"BWFN=140*lambda/d;//in Degree\n",
"disp(BWFN,'BWFN in degree : ');\n",
"//Note : Answer in the book is not accurate."
   ]
   }
],
"metadata": {
		  "kernelspec": {
		   "display_name": "Scilab",
		   "language": "scilab",
		   "name": "scilab"
		  },
		  "language_info": {
		   "file_extension": ".sce",
		   "help_links": [
			{
			 "text": "MetaKernel Magics",
			 "url": "https://github.com/calysto/metakernel/blob/master/metakernel/magics/README.md"
			}
		   ],
		   "mimetype": "text/x-octave",
		   "name": "scilab",
		   "version": "0.7.1"
		  }
		 },
		 "nbformat": 4,
		 "nbformat_minor": 0
}
