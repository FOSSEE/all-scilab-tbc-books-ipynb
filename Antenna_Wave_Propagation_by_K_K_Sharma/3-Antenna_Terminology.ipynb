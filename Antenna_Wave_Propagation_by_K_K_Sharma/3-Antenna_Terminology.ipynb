{
"cells": [
 {
		   "cell_type": "markdown",
	   "metadata": {},
	   "source": [
       "# Chapter 3: Antenna Terminology"
	   ]
	},
{
		   "cell_type": "markdown",
		   "metadata": {},
		   "source": [
			"## Example 3.10: Calculate_front_to_back_ratio.sce"
		   ]
		  },
  {
"cell_type": "code",
	   "execution_count": null,
	   "metadata": {
	    "collapsed": true
	   },
	   "outputs": [],
"source": [
"//Exa 3.10\n",
"clc;\n",
"clear;\n",
"close;\n",
"//given data :\n",
"P1=30;//in KW\n",
"P1=P1*1000;//in W\n",
"P2=5000;//in W\n",
"Gdb=10*log10(P1/P2);//unitless\n",
"disp(Gdb,'Front to back ratio = Gdb = ');"
   ]
   }
,
{
		   "cell_type": "markdown",
		   "metadata": {},
		   "source": [
			"## Example 3.11: Determine_Gain_for_received_power.sce"
		   ]
		  },
  {
"cell_type": "code",
	   "execution_count": null,
	   "metadata": {
	    "collapsed": true
	   },
	   "outputs": [],
"source": [
"//Exa 3.11\n",
"clc;\n",
"clear;\n",
"close;\n",
"//given data :\n",
"f=10;//in GHz\n",
"f=f*10^9;//in Hz\n",
"Gt=40;//in dB\n",
"Gr=40;//in dB\n",
"disp(Gt,'Gain = Gt = Gr : ');"
   ]
   }
,
{
		   "cell_type": "markdown",
		   "metadata": {},
		   "source": [
			"## Example 3.12: Find_out_Efficiency_of_Antenna_and_power_gain.sce"
		   ]
		  },
  {
"cell_type": "code",
	   "execution_count": null,
	   "metadata": {
	    "collapsed": true
	   },
	   "outputs": [],
"source": [
"//Exa 3.12\n",
"clc;\n",
"clear;\n",
"close;\n",
"//given data :\n",
"L=10;//in m\n",
"f=1.5;//in MHz\n",
"f=f*10^6;//in Hz\n",
"X=350;//in Ohm\n",
"Q=100;//Coil parameter\n",
"c=3*10^8;//speed of light in m/s\n",
"lambda=c/f;//in Meter\n",
"l_eff=2*L/2;//in m\n",
"Re=2*X/Q;//in Ohm\n",
"Rr=40*%pi^2*(l_eff/lambda)^2;//in hm\n",
"Gd=(3/2)*(lambda^2/(4*%pi));//unitless\n",
"ETA=Rr/(Rr+Re);//Efficiency unitless\n",
"Gp=Gd*ETA;////unitless\n",
"disp(ETA*100,'Antenna Efficiency in % : ');\n",
"disp(Gp,'Power gain : ');\n",
"//Note : Answer of Gp is wrong in the book."
   ]
   }
,
{
		   "cell_type": "markdown",
		   "metadata": {},
		   "source": [
			"## Example 3.13: Determine_Quality_factor.sce"
		   ]
		  },
  {
"cell_type": "code",
	   "execution_count": null,
	   "metadata": {
	    "collapsed": true
	   },
	   "outputs": [],
"source": [
"//Exa 3.13\n",
"clc;\n",
"clear;\n",
"close;\n",
"//given data :\n",
"delf=600;//in KHz\n",
"fr=50;//in MHz\n",
"Q=(fr*10^6)/(delf*10^3);//unitless\n",
"disp(Q,'Quality Factor : ');"
   ]
   }
,
{
		   "cell_type": "markdown",
		   "metadata": {},
		   "source": [
			"## Example 3.14: Calculate_Directivity_of_Isotropic_Antenna.sce"
		   ]
		  },
  {
"cell_type": "code",
	   "execution_count": null,
	   "metadata": {
	    "collapsed": true
	   },
	   "outputs": [],
"source": [
"//Exa 3.14\n",
"clc;\n",
"clear;\n",
"close;\n",
"//given data :\n",
"OmegaA=4*%pi;//For isotropic Antenna\n",
"D=4*%pi/OmegaA;//Directivity : Unitless\n",
"disp(D,'Directivity of Isotropic Antenna : ');"
   ]
   }
,
{
		   "cell_type": "markdown",
		   "metadata": {},
		   "source": [
			"## Example 3.15: Calculate_Maximum_effective_aperture.sce"
		   ]
		  },
  {
"cell_type": "code",
	   "execution_count": null,
	   "metadata": {
	    "collapsed": true
	   },
	   "outputs": [],
"source": [
"//Exa 3.15\n",
"clc;\n",
"clear;\n",
"close;\n",
"//given data :\n",
"D=500;//Directivity : Unitless\n",
"format('v',6)\n",
"disp('D = (4*%pi/lambda^2)*Aem');\n",
"disp('Aem = D*lambda^2/(4*%pi)');\n",
"disp('Aem ='+string(D/(4*%pi))+'lambda^2');"
   ]
   }
,
{
		   "cell_type": "markdown",
		   "metadata": {},
		   "source": [
			"## Example 3.16: Find_Effective_Noise_Temperature.sce"
		   ]
		  },
  {
"cell_type": "code",
	   "execution_count": null,
	   "metadata": {
	    "collapsed": true
	   },
	   "outputs": [],
"source": [
"//Exa 3.16\n",
"clc;\n",
"clear;\n",
"close;\n",
"//given data\n",
"Fn_dB=1.1;//in dB\n",
"Fn=10^(Fn_dB/10);//unitless\n",
"To=290;//in Kelvin\n",
"Te=To*(Fn-1);//in Kelvin\n",
"disp(Te,'Effective Noise Temperature in Kelvin : ');"
   ]
   }
,
{
		   "cell_type": "markdown",
		   "metadata": {},
		   "source": [
			"## Example 3.19: Find_Gain_Beamwidth_and_Capture_area.sce"
		   ]
		  },
  {
"cell_type": "code",
	   "execution_count": null,
	   "metadata": {
	    "collapsed": true
	   },
	   "outputs": [],
"source": [
"//Exa 3.19\n",
"clc;\n",
"clear;\n",
"close;\n",
"//given data\n",
"format('v',9);\n",
"D=6;//in meter\n",
"f=10;//in GHz\n",
"f=f*10^9;//in Hz\n",
"Aactual=%pi*D^2/4;//in m^2\n",
"Ae=0.6*Aactual;//in m^2\n",
"c=3*10^8;//speed of light in m/s\n",
"lambda=c/f;//in Meter\n",
"G=4*%pi*Ae/lambda^2;//Unitless\n",
"Gdb=10*log10(G);//gain in dB\n",
"BWFN=140*lambda/D;//in degree\n",
"disp(G,'Gain : ');\n",
"disp(Gdb,'Gain in dB : ');\n",
"disp(BWFN,'Beamwidth in degree : ');\n",
"disp(Ae,'Capture Area in m^2 : ');\n",
"//Note : Answer in the book is not accurate."
   ]
   }
,
{
		   "cell_type": "markdown",
		   "metadata": {},
		   "source": [
			"## Example 3.1: Calculate_strength_of_magnetic_field.sce"
		   ]
		  },
  {
"cell_type": "code",
	   "execution_count": null,
	   "metadata": {
	    "collapsed": true
	   },
	   "outputs": [],
"source": [
"//Exa 3.1\n",
"clc;\n",
"clear;\n",
"close;\n",
"//given data :\n",
"E=10;//in V/m\n",
"ETA_o=120*%pi;//Constant\n",
"H=E/ETA_o;//in A/m\n",
"disp(H,'The Magnetic Field Strength in A/m : ');\n",
"//Note : Answer is wrong in the book."
   ]
   }
,
{
		   "cell_type": "markdown",
		   "metadata": {},
		   "source": [
			"## Example 3.20: Find_Beamwidth.sce"
		   ]
		  },
  {
"cell_type": "code",
	   "execution_count": null,
	   "metadata": {
	    "collapsed": true
	   },
	   "outputs": [],
"source": [
"//Exa 3.20\n",
"clc;\n",
"clear;\n",
"close;\n",
"//given data\n",
"Gdb=44;//gain in dB\n",
"G=10^(Gdb/10);//gain unitless\n",
"OmegaB=4*%pi/G;//n steradian\n",
"THETA3db=sqrt(4*OmegaB/%pi);//in Radian\n",
"disp(THETA3db,'Beamwidth THETA3db in degree : ');\n",
"//Note : Answer in the book is not accurate."
   ]
   }
,
{
		   "cell_type": "markdown",
		   "metadata": {},
		   "source": [
			"## Example 3.2: Calculate_field_strength_at_receiver.sce"
		   ]
		  },
  {
"cell_type": "code",
	   "execution_count": null,
	   "metadata": {
	    "collapsed": true
	   },
	   "outputs": [],
"source": [
"//Exa 3.2\n",
"clc;\n",
"clear;\n",
"close;\n",
"//given data :\n",
"W=25;//in KW\n",
"W=W*10^3;//in W\n",
"r=3;//in Km\n",
"r=r*10^3;//in m\n",
"Erms=sqrt(90*W)/r;//in V/m\n",
"disp(Erms,'Field strength at reciever in V/m :');"
   ]
   }
,
{
		   "cell_type": "markdown",
		   "metadata": {},
		   "source": [
			"## Example 3.3: Calculate_radiation_resistance_power_radiated_and_antenna_efficiency.sce"
		   ]
		  },
  {
"cell_type": "code",
	   "execution_count": null,
	   "metadata": {
	    "collapsed": true
	   },
	   "outputs": [],
"source": [
"//Exa 3.3\n",
"clc;\n",
"clear;\n",
"close;\n",
"//given data :\n",
"le=125;//in m\n",
"Irms=5;//in A\n",
"lambda=1.25;//in Km\n",
"lambda=lambda*10^3;//in m\n",
"Rl=10;//in Ohm\n",
"//radiation Resistance\n",
"Rr=(80*%pi^2)*(le/lambda)^2;//in Ohm\n",
"Rr=round(Rr);//in Ohm : approx\n",
"disp(Rr,'Radiation resistance in Ohm : ');\n",
"//Power radiated\n",
"W=(Irms^2)*Rr;//in \n",
"disp(W,'Power radiated in W : ')\n",
"//Antenna efficiency \n",
"ETA=Rr/(Rr+Rl)\n",
"disp(ETA*100,'Antenna efficiency in % : ');"
   ]
   }
,
{
		   "cell_type": "markdown",
		   "metadata": {},
		   "source": [
			"## Example 3.4: Determine_E_and_H_field.sce"
		   ]
		  },
  {
"cell_type": "code",
	   "execution_count": null,
	   "metadata": {
	    "collapsed": true
	   },
	   "outputs": [],
"source": [
"//Exa 3.4\n",
"clc;\n",
"clear;\n",
"close;\n",
"//given data :\n",
"r=1;//in Km\n",
"r=r*10^3;//in m\n",
"I=0.5;//in A\n",
"//For theta = 45 degree\n",
"theta=45 ;//in degree\n",
"E=(60*I/r)*((cos(%pi*cos(theta*%pi/180)/2))/sin(theta*%pi/180));\n",
"disp(E*10^3,'E-Field for 45 degree angle in mV/m :');\n",
"ETA_o=120*%pi;//constant\n",
"H=E/ETA_o;//in A/m\n",
"disp(H*10^3,'H-Field for 45 degree angle in mV/m :');\n",
"\n",
"//For theta = 90 degree\n",
"theta=90 ;//in degree\n",
"E=(60*I/r)*((cos(%pi*cos(theta*%pi/180)/2))/sin(theta*%pi/180));\n",
"disp(E*10^3,'E-Field for 90 degree angle in mV/m :');\n",
"ETA_o=120*%pi;//constant\n",
"H=E/ETA_o;//in A/m\n",
"disp(H*10^3,'H-Field for 90 degree angle in mV/m :');"
   ]
   }
,
{
		   "cell_type": "markdown",
		   "metadata": {},
		   "source": [
			"## Example 3.5: Find_Radiation_Resistance.sce"
		   ]
		  },
  {
"cell_type": "code",
	   "execution_count": null,
	   "metadata": {
	    "collapsed": true
	   },
	   "outputs": [],
"source": [
"//Exa 3.5\n",
"clc;\n",
"clear;\n",
"close;\n",
"//given data :\n",
"//l=lambda/10 meter\n",
"//Assume %pi^2 = 10\n",
"Rl=2;//in Ohm\n",
"disp('Rr=80*%pi^2*(dl/lambda)^2');\n",
"disp('dl/lambda = 1/10 : as l=lambda/10 ');\n",
"Rr=80*10*(1/10)^2;//in Ohm\n",
"disp(Rr,'Radiation Resistance in Ohm :  ');\n",
"ETA=Rr/(Rr+Rl);//in Ohm\n",
"disp(ETA*100,' Efficiency inn % : ');"
   ]
   }
,
{
		   "cell_type": "markdown",
		   "metadata": {},
		   "source": [
			"## Example 3.6: Directivity_gain_effective_aperture_beam_solid_angle.sce"
		   ]
		  },
  {
"cell_type": "code",
	   "execution_count": null,
	   "metadata": {
	    "collapsed": true
	   },
	   "outputs": [],
"source": [
"//Exa 3.6\n",
"clc;\n",
"clear;\n",
"close;\n",
"//given data :\n",
"//l=lambda/15 meter\n",
"//Assume %pi^2 = 10\n",
"Rl=2;//in Ohm\n",
"//Gain : \n",
"Gain=5.33/4;//Unitless\n",
"//Directivity\n",
"Rr=80*10*(1/15)^2;//in Ohm\n",
"ETA=Rr/(Rr+Rl);//Unitless\n",
"Directivity=Gain/ETA;//unitless\n",
"//Beam solid angle \n",
"BSA=4*%pi/Directivity;//in steradian\n",
"disp(Directivity,'Directivity : ');\n",
"disp(Gain,'Gain = Pt/Pr = ');\n",
"//Effective aperture\n",
"disp('Effective aperture = G*lambda^2/(4*%pi) ');\n",
"disp(string(Gain/(4*%pi))+'lambda^2');\n",
"disp(BSA,'Beam Solid Angle in steradian : ');\n",
"disp('Radiation Resistance :')\n",
"disp('Rr=80*%pi^2*(dl/lambda)^2 in Ohm');\n",
"disp('dl/lambda = 1/15 : as l=lambda/10 ');\n",
"Rr=80*10*(1/15)^2;//in Ohm\n",
"disp(Rr,'Radiation Resistance in Ohm :  ');\n",
"disp('Pt = Area of sphere * (E^2/(120*%pi))');\n",
"disp('Pt = ((4*%pi^2)/(120*%pi))*((60*%pi*I/r)*(dl/lambda)^2)');\n",
"disp('Pt=120*%pi^2*(lambda*15/lambda)*I^2');\n",
"disp('Pt = '+string(120*10/225)+'I^2');\n",
"disp('Pr = I^2*Rr = 4*I^2');"
   ]
   }
,
{
		   "cell_type": "markdown",
		   "metadata": {},
		   "source": [
			"## Example 3.7: calculate_Gain_and_Bandwidth.sce"
		   ]
		  },
  {
"cell_type": "code",
	   "execution_count": null,
	   "metadata": {
	    "collapsed": true
	   },
	   "outputs": [],
"source": [
"//Exa 3.7\n",
"clc;\n",
"clear;\n",
"close;\n",
"//given data :\n",
"D=30;//in m\n",
"k=0.55;//illumination efficiency\n",
"f=4;//in GHz\n",
"f=f*10^9;//in Hz\n",
"c=3*10^8;//speed of light in m/s\n",
"lambda=c/f;//in Meter\n",
"r=D/2;//in m\n",
"A=%pi*(r^2);//in m^2\n",
"G=(4*%pi/lambda^2)*k*A;//Unitless\n",
"disp(G,'Gain : ');\n",
"HPBW=70*lambda/D;//in Degree\n",
"disp(HPBW,'HPBW in Degree : ');\n",
"BWFN=2*70*lambda/D;//in Degree\n",
"disp(BWFN,'BWFN in Degree : ');"
   ]
   }
,
{
		   "cell_type": "markdown",
		   "metadata": {},
		   "source": [
			"## Example 3.8: Calculate_Directivity.sce"
		   ]
		  },
  {
"cell_type": "code",
	   "execution_count": null,
	   "metadata": {
	    "collapsed": true
	   },
	   "outputs": [],
"source": [
"//Exa 3.8\n",
"clc;\n",
"clear;\n",
"close;\n",
"//given data :\n",
"Rl=20;//in Ohm\n",
"Rr=100;//in Ohm\n",
"Gp=25;//power gain \n",
"ETA=Rr/(Rr+Rl);//Unitless\n",
"D=Gp/ETA;//unitless\n",
"disp(D,'Directivity : ')"
   ]
   }
,
{
		   "cell_type": "markdown",
		   "metadata": {},
		   "source": [
			"## Example 3.9: Calculate_Maximum_effective_aperture.sce"
		   ]
		  },
  {
"cell_type": "code",
	   "execution_count": null,
	   "metadata": {
	    "collapsed": true
	   },
	   "outputs": [],
"source": [
"//Exa 3.9\n",
"clc;\n",
"clear;\n",
"close;\n",
"//given data :\n",
"lambda=10;//in m\n",
"D=80;//unitless\n",
"Aem=D*lambda^2/(4*%pi);//in m^2\n",
"disp(Aem,'Maximum effective aperture in m^2 : ');"
   ]
   }
],
"metadata": {
		  "kernelspec": {
		   "display_name": "Scilab",
		   "language": "scilab",
		   "name": "scilab"
		  },
		  "language_info": {
		   "file_extension": ".sce",
		   "help_links": [
			{
			 "text": "MetaKernel Magics",
			 "url": "https://github.com/calysto/metakernel/blob/master/metakernel/magics/README.md"
			}
		   ],
		   "mimetype": "text/x-octave",
		   "name": "scilab",
		   "version": "0.7.1"
		  }
		 },
		 "nbformat": 4,
		 "nbformat_minor": 0
}
