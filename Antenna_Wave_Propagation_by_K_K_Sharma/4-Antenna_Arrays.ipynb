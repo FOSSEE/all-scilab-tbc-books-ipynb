{
"cells": [
 {
		   "cell_type": "markdown",
	   "metadata": {},
	   "source": [
       "# Chapter 4: Antenna Arrays"
	   ]
	},
{
		   "cell_type": "markdown",
		   "metadata": {},
		   "source": [
			"## Example 4.13: calculate_the_distance.sce"
		   ]
		  },
  {
"cell_type": "code",
	   "execution_count": null,
	   "metadata": {
	    "collapsed": true
	   },
	   "outputs": [],
"source": [
"//Exa 4.13\n",
"clc;\n",
"clear;\n",
"close;\n",
"//given data :\n",
"n=8;//no. of elements\n",
"BWFN=45;//in degree\n",
"theta=45;//in degree\n",
"f=40;//in MHz\n",
"f=f*10^6;//in Hz\n",
"//Formula : theta=2*asin(2*%pi/(n*dr))\n",
"dr=(2*%pi/n)/sin((theta/2)*(%pi/180));//\n",
"c=3*10^8;//speed of light in m/s\n",
"lambda=c/f;//in m\n",
"d=dr*lambda/(2*%pi);//in m\n",
"disp(d,'Distane in meter :');"
   ]
   }
,
{
		   "cell_type": "markdown",
		   "metadata": {},
		   "source": [
			"## Example 4.14: Find_Directivity_of_broad_side_array.sce"
		   ]
		  },
  {
"cell_type": "code",
	   "execution_count": null,
	   "metadata": {
	    "collapsed": true
	   },
	   "outputs": [],
"source": [
"//Exa 4.14\n",
"clc;\n",
"clear;\n",
"close;\n",
"//given data :\n",
"n=10;//no. of elements\n",
"//given : d=lambda/4;//in m\n",
"disp('Llambda=n*d/lambda');\n",
"disp('Putting d=;ambda/4 we get Llambda=n/4');\n",
"Llambda=n/4;//unitless\n",
"D=2*Llambda;//in unitless \n",
"disp(D,'Directivity of broadside uniform array : ');"
   ]
   }
,
{
		   "cell_type": "markdown",
		   "metadata": {},
		   "source": [
			"## Example 4.15: Obtain_Field_pattern_Maxima_and_Minima.sce"
		   ]
		  },
  {
"cell_type": "code",
	   "execution_count": null,
	   "metadata": {
	    "collapsed": true
	   },
	   "outputs": [],
"source": [
"//Exa 4.15\n",
"clc;\n",
"clear;\n",
"close;\n",
"//given data :\n",
"n=2;//no. of elements\n",
"//given : d=lambda/3 in m\n",
"delta=%pi/3;//in phase difference\n",
"disp('dr=2*%pi*d/lambda');\n",
"disp('Putting d=lambda/3 we get dr=2*%pi/3');\n",
"dr=2*%pi/3;// \n",
"disp('psi=dr*cos(theta)+delta');\n",
"disp('psi=(2*%pi/3)*cos(theta)+%pi/3');\n",
"//Maxima :\n",
"disp('Maxima : cos((%pi/3)*cos(theta)+%pi/6)=1 .....Magnitude');\n",
"disp('(%pi/3)*cos(theta)+%pi/6=K*%pi');\n",
"disp('theta=acos(-1/2+3*k)');\n",
"disp('theta=+120,-120 degree');\n",
"\n",
"//Minima :\n",
"disp('Minima : cos((%pi/3)*cos(theta)+%pi/6)=0');\n",
"disp('(%pi/3)*cos(theta)+%pi/6=(2*k+1)*%pi/2');\n",
"disp('theta=acos(-1/2+(3/2)*(2*k+1))');\n",
"disp('theta=0 degree');"
   ]
   }
,
{
		   "cell_type": "markdown",
		   "metadata": {},
		   "source": [
			"## Example 4.17: design_array_to_achieve_optimum_pattern.sce"
		   ]
		  },
  {
"cell_type": "code",
	   "execution_count": null,
	   "metadata": {
	    "collapsed": true
	   },
	   "outputs": [],
"source": [
"//Exa 4.17\n",
"clc;\n",
"clear;\n",
"close;\n",
"//given data :\n",
"MainBeamwidth=45;//in degree\n",
"thetaN=MainBeamwidth/2;//in degree\n",
"thetaN=thetaN*%pi/180;//in radian\n",
"m=5;//no. of elements\n",
"//given : d=lambda/2 in meter\n",
"x=cos(%pi/(2*(m-1)));\n",
"xo=x/cos((%pi/2)*sin(thetaN));//unitless\n",
"disp('E5=ao*z+a1*(2*z^2-1)+a2*(8*z^4-8*z^2+1)');\n",
"disp('We Know that : z=x/xo, E5=T4*xo');\n",
"disp('ao=a1*(2*(x/xo)^2-1)+a2*[8*(x/xo)^4-8*(x/xo)^2+1]=8*x^4-8*x^2+1');\n",
"disp('By comparing the term we have : ');\n",
"disp('a2=xo^4  a1=4*a2-4*xo^2  ao=1+a1-a2 ')\n",
"a2=xo^4;\n",
"a1=4*a2-4*xo^2;\n",
"ao=1+a1-a2;\n",
"disp('And therefore the 5 elements array is given by : ');\n",
"disp(string(a2)+'  '+string(a1)+'  '+string(2*ao)+'  '+string(a1)+'  '+string(a2));"
   ]
   }
,
{
		   "cell_type": "markdown",
		   "metadata": {},
		   "source": [
			"## Example 4.18: Design_array_5_elements_to_achieve_optimum_pattern.sce"
		   ]
		  },
  {
"cell_type": "code",
	   "execution_count": null,
	   "metadata": {
	    "collapsed": true
	   },
	   "outputs": [],
"source": [
"//Exa 4.18\n",
"clc;\n",
"clear;\n",
"close;\n",
"//given data :\n",
"//Side lobe level below main lobe\n",
"disp('Side lobe level below main lobe : ')\n",
"SideLobe=20;//in dB\n",
"r=10^(SideLobe/20);//\n",
"disp(r,'r=') ;\n",
"//No. of elements are 5, n=5\n",
"disp('No. of elements are 5, n=5 :');\n",
"disp('Tchebyscheff polynomials of degree (n-1) is');\n",
"disp('5-1=4');\n",
"disp('T4(xo)=r');\n",
"disp('8*xo^4-8*xo^2+1=10');\n",
"disp('By using alternate formula, we get');\n",
"m=4;\n",
"r=10;\n",
"xo=(1/2)*[{r+sqrt(r^2-1)}^(1/m)+{r-sqrt(r^2-1)}^(1/m)]\n",
"disp(xo,'xo=');\n",
"disp('E5=T4(xo)')\n",
"disp('E5=ao*z+a1*(2*z^2-1)+a2*(8*z^4-8*z^2+1)');\n",
"disp('We Know that : z=x/xo, E5=T4*xo');\n",
"disp('ao=a1*(2*(x/xo)^2-1)+a2*[8*(x/xo)^4-8*(x/xo)^2+1]=8*x^4-8*x^2+1');\n",
"disp('By comparing the term we have : ');\n",
"disp('a2=xo^4  a1=4*a2-4*xo^2  ao=1+a1-a2 ')\n",
"a2=xo^4;\n",
"a1=4*a2-4*xo^2;\n",
"ao=1+a1-a2;\n",
"disp('And therefore the 5 elements array is given by : ');\n",
"disp(string(a2)+'  '+string(a1)+'  '+string(2*ao)+'  '+string(a1)+'  '+string(a2));"
   ]
   }
,
{
		   "cell_type": "markdown",
		   "metadata": {},
		   "source": [
			"## Example 4.3: Calculate_HPBW_of_major_lobes.sce"
		   ]
		  },
  {
"cell_type": "code",
	   "execution_count": null,
	   "metadata": {
	    "collapsed": true
	   },
	   "outputs": [],
"source": [
"//Exa 4.3\n",
"clc;\n",
"clear;\n",
"close;\n",
"//given data :\n",
"disp('For a two elements arrayy the total field is given by : ');\n",
"disp('E=2*Eo*cos(psi/2)');\n",
"disp('(i) It is a case of braod side array : so, delta = 0');\n",
"disp('psi = Beta*d*cos(theta)+delta')\n",
"disp('d=3*lambda/2');\n",
"disp('Beta*d = (2*%pi/lambda)*(3*lambda/2) = 3*%pi')\n",
"disp('psi = 3*%pi*cos(theta)');\n",
"disp('psi/2 = (3*%pi/2)*cos(theta)');\n",
"disp('The maxima for broad side array occurs when theta = %pi/2');\n",
"disp('Ep = 2*Eo*cos(3*(%pi/2)*cos(%pi/2))');\n",
"disp('Ep = 2*Eo as cos(%pi/2) = 0 and cos(0)=1');\n",
"disp('At half power beamwidth the field becomes Ep/sqrt(2)');\n",
"disp('So, cos(3*(%pi/2)*cos(theta)) = 1/sqrt(2)');\n",
"disp('3*(%pi/2)*cos(theta)=%pi/4');\n",
"disp('cos(theta) = 1/6');\n",
"disp('theta = 80.5 degree')\n",
"theta = 80.5;//in degree\n",
"HPBW=2*(90-theta);//in degree\n",
"disp(HPBW,'HPBW in degree : ');\n",
"disp('(ii) Equal amplitude and different phase(540 degree) : (end fire array) ');\n",
"disp('In case of end fire array :  ');\n",
"disp('delta = -Beta*d');\n",
"disp('Beta*d = 540 degree = 3*%pi');\n",
"disp('psi = 3*%pi*cos(theta)-3*%pi = 3*%pi*(cos(theta)-1)');\n",
"disp('E_HPBW = 3*%pi*(cos(theta)-1) = %pi/4 = 1/sqrt(2)');\n",
"disp('3*%pi*(cos(theta)-1) = %pi/4');\n",
"disp('cos(theta) = 1+1/12 = 13/12');\n",
"disp('theta = 33.6 degree');\n",
"theta=33.6;//in degree\n",
"HPBW=2*theta;//in degree\n",
"disp(HPBW,'HPBW in degree : ');"
   ]
   }
,
{
		   "cell_type": "markdown",
		   "metadata": {},
		   "source": [
			"## Example 4.4: Calculate_Directivity_and_gain.sce"
		   ]
		  },
  {
"cell_type": "code",
	   "execution_count": null,
	   "metadata": {
	    "collapsed": true
	   },
	   "outputs": [],
"source": [
"//Exa 4.4\n",
"clc;\n",
"clear;\n",
"close;\n",
"//given data :\n",
"n=10;//no. of elements\n",
"//d=lambda/4 separation in meter\n",
"disp('For broad side array : ')\n",
"disp('D=2*n/(lambda/d)');\n",
"disp('Putting d=lambda/4 we get D=2*n/4')\n",
"D=2*n/4;//directivity : unitless\n",
"Ddb=10*log10(D);//in db\n",
"disp(Ddb,'For broad side array D in db = ');\n",
"disp('For end fire array : ')\n",
"disp('D=4*n/(lambda/d)');\n",
"disp('Putting d=lambda/4 we get D=4*n/4')\n",
"D=4*n/4;//directivity : unitless\n",
"Ddb=10*log10(D);//in db\n",
"disp(Ddb,'For end fire array D in db = ');"
   ]
   }
,
{
		   "cell_type": "markdown",
		   "metadata": {},
		   "source": [
			"## Example 4.5: HPBW_Directivity_Effective_aperture_and_Beam_solid_angle.sce"
		   ]
		  },
  {
"cell_type": "code",
	   "execution_count": null,
	   "metadata": {
	    "collapsed": true
	   },
	   "outputs": [],
"source": [
"//Exa 4.1\n",
"clc;\n",
"clear;\n",
"close;\n",
"//given data :\n",
"delta=-90;//in degree\n",
"//Formula : HPBW=57.3/(sqrt(L/(2*lambda))) in Degree\n",
"n=20;//no. of point sources\n",
"//d=lambda/4;//in meter\n",
"//L=(n-1)*d\n",
"//L=(n-1)*lambda/4\n",
"LBYlambda=(n-1)/4;//in meter\n",
"HPBW=57.3/(sqrt(LBYlambda/2));// in Degree\n",
"disp(HPBW,'HPBW in Degree : ');\n",
"D=4*LBYlambda;//Directivity\n",
"disp(D,'Directivity : ');\n",
"disp('Effective aperture : Ae='+string(D/(4*%pi))+'*lambda^2');\n",
"Omega=4*%pi/D;//in steradian\n",
"disp('Beam Solid Angle : Omega = '+string(Omega));\n",
"//Note : Answer of Ae and omega in the book is wrong."
   ]
   }
,
{
		   "cell_type": "markdown",
		   "metadata": {},
		   "source": [
			"## Example 4.6: Determine_Power_radiated_and_HPBW.sce"
		   ]
		  },
  {
"cell_type": "code",
	   "execution_count": null,
	   "metadata": {
	    "collapsed": true
	   },
	   "outputs": [],
"source": [
"//Exa 4.6\n",
"clc;\n",
"clear;\n",
"close;\n",
"//given data :\n",
"n=8;//no. of half wave dipoles\n",
"lambda=100;//in cm\n",
"lambda=lambda*10^-2;//in m\n",
"d=50;//in cm\n",
"d=d*10^-2;//in m\n",
"I=0.5;//in A\n",
"Rr=73;//in Ohm\n",
"Pr=n*I^2*Rr;//in Watts\n",
"disp(Pr,'Pr in Watts : ');\n",
"BWFN=2*lambda/(n*d);//in radian\n",
"HPBW=BWFN/2;//in radian\n",
"disp(HPBW,'HPBW in radian : ');\n",
"disp(HPBW*180/%pi,'HPBW in degree : ')"
   ]
   }
,
{
		   "cell_type": "markdown",
		   "metadata": {},
		   "source": [
			"## Example 4.7: Find_Directivity_of_end_fire_array.sce"
		   ]
		  },
  {
"cell_type": "code",
	   "execution_count": null,
	   "metadata": {
	    "collapsed": true
	   },
	   "outputs": [],
"source": [
"//Exa 4.7\n",
"clc;\n",
"clear;\n",
"close;\n",
"//given data :\n",
"n=10;//no. of elements\n",
"//d=lambda/4 separation in meter\n",
"disp('Do=1.789*4*n*d/lambda');\n",
"disp('Putting d=lambda/4 we get D=1.789*n')\n",
"Do=1.789*n;//directivity : unitless\n",
"Dodb=10*log10(Do);//in db\n",
"disp(Dodb,'Do in db = ');"
   ]
   }
],
"metadata": {
		  "kernelspec": {
		   "display_name": "Scilab",
		   "language": "scilab",
		   "name": "scilab"
		  },
		  "language_info": {
		   "file_extension": ".sce",
		   "help_links": [
			{
			 "text": "MetaKernel Magics",
			 "url": "https://github.com/calysto/metakernel/blob/master/metakernel/magics/README.md"
			}
		   ],
		   "mimetype": "text/x-octave",
		   "name": "scilab",
		   "version": "0.7.1"
		  }
		 },
		 "nbformat": 4,
		 "nbformat_minor": 0
}
