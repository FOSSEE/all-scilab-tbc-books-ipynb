{
"cells": [
 {
		   "cell_type": "markdown",
	   "metadata": {},
	   "source": [
       "# Chapter 11: Solution Thermodynamics Theroy"
	   ]
	},
{
		   "cell_type": "markdown",
		   "metadata": {},
		   "source": [
			"## Example 11.10: Find_the_Excess_Properties_for_a_mixture.sce"
		   ]
		  },
  {
"cell_type": "code",
	   "execution_count": null,
	   "metadata": {
	    "collapsed": true
	   },
	   "outputs": [],
"source": [
"clear;\n",
"clc;\n",
"\n",
"//To find Approx Value\n",
"function[A]=approx(V,n)\n",
"  A=round(V*10^n)/10^n;//V-Value  n-To what place\n",
"  funcprot(0)\n",
"endfunction  \n",
"\n",
"//Example 11.10\n",
"//Caption : Program to Find the Excess Properties for a mixture \n",
"\n",
"T0=298.15;//[K]\n",
"T=323.15;//[K]\n",
"Cp_E=-2.86;//[J/mol/K]\n",
"Ho_E=897.9;//[J/mol]\n",
"Go_E=384.5;//[J/mol]\n",
"\n",
"//(a)  Derivations\n",
"\n",
"//G_E=-a*(T ln T - T)+ bT + c\n",
"//S_E=a ln T - b\n",
"//H_E=aT + c\n",
"\n",
"//Where\n",
"\n",
"//a=Cp_E\n",
"//c=Ho_E-aT0\n",
"//b=((Go_E+a(T ln T0 - T0)-c)/T0)\n",
"\n",
"//(b)\n",
"a=Cp_E;\n",
"c=approx(Ho_E-(a*T0),1);\n",
"b=approx((Go_E+(a*((T0*log(T0))-T0)-c))/T0,4);\n",
"G_E=approx((-a*(T*log(T)-T))+(b*T)+c,1);\n",
"S_E=approx((a*log(T))-b,3);\n",
"H_E=approx((a*T)+c,1);\n",
"\n",
"disp('J/mol',G_E,'G_E = ')\n",
"disp('J/mol/K',S_E,'S_E = ')\n",
"disp('J/mol',H_E,'H_E = ')\n",
"\n",
"//End"
   ]
   }
,
{
		   "cell_type": "markdown",
		   "metadata": {},
		   "source": [
			"## Example 11.4: Find_the_Expression_For_Enthalpies.sce"
		   ]
		  },
  {
"cell_type": "code",
	   "execution_count": null,
	   "metadata": {
	    "collapsed": true
	   },
	   "outputs": [],
"source": [
"clear;\n",
"clc;\n",
"\n",
"//To find Approx Value\n",
"function[A]=approx(V,n)\n",
"  A=round(V*10^n)/10^n;//V-Value  n-To what place\n",
"  funcprot(0)\n",
"endfunction  \n",
"\n",
"//Example 11.4\n",
"//Caption : Program To Find the Expression For Enthalpies\n",
"\n",
"//H=400x1 + 600x2 + x1x2(40x1 + 20x2)  Given\n",
"\n",
"//Substituting x2=1-x1\n",
"\n",
"H=poly([600 -180 0 -20],'x1','c')     //(A)\n",
"\n",
"//K=dH/dx1\n",
"\n",
"K=poly([-180 0 -60],'x1','c')\n",
"\n",
"//Using Eqn 11.15  H1=H+x2*K\n",
"\n",
"//substituting x2=1-x1\n",
"\n",
"H1=poly([420 0 -60 40],'x1','c')     //(B)\n",
"\n",
"//Similarly for H2\n",
"\n",
"H2=poly([600 0 0 40],'x1','c')       //(C)\n",
"\n",
"//Now to calculate H1_inf and H2_inf \n",
"\n",
"//x1=0 in (B)\n",
"H1_inf=420;//[J/mol]\n",
"\n",
"//x2=0 in (C) i.e. x1=1\n",
"H2_inf=640;//[J/mol]\n",
"\n",
"disp(H1,'H1 = ');\n",
"disp(H2,'H2 = ');\n",
"disp('J/mol',H1_inf,'H1_inf = ')\n",
"disp('J/mol',H2_inf,'H2_inf = ')\n",
"\n",
"//End"
   ]
   }
,
{
		   "cell_type": "markdown",
		   "metadata": {},
		   "source": [
			"## Example 11.5: Plot_the_Fugacity_and_Fugacity_Coefficient_Vs_P.sce"
		   ]
		  },
  {
"cell_type": "code",
	   "execution_count": null,
	   "metadata": {
	    "collapsed": true
	   },
	   "outputs": [],
"source": [
"clear;\n",
"clc;\n",
"\n",
"//To find Approx Value\n",
"function[A]=approx(V,n)\n",
"  A=round(V*10^n)/10^n;//V-Value  n-To what place\n",
"  funcprot(0)\n",
"endfunction  \n",
"\n",
"//Example 11.5\n",
"//Caption : Program to Plot the Fugacity and Fugacity Coefficient Vs P\n",
"\n",
"//Using Eqn 11.30\n",
"\n",
"//G=t(T)+RT ln f\n",
"//G`=t(T)+rt ln f`\n",
"\n",
"//Hence ln(f/f`) = (1/RT)*(G-G`)\n",
"\n",
"//G=H-TS\n",
"//G`=H-TS`\n",
"\n",
"//ln (f/f`)=(n/R)*(((H-H`)/T)-(S-S`))   (A)\n",
"\n",
"R=8.314;\n",
"n=18.015;\n",
"f_=1;//[kPa]\n",
"P_=f_;\n",
"H_=3076.8;//[J/g]\n",
"S_=10.3450;//[J/g/K]\n",
"T=573.15;//[K]\n",
"P=[10 50 100 200 500 1000 1500 2000 2500 3000 3500 4000 4500 5000 5500 6000 6500 7000 7600 8000 8400];\n",
"H=[3076.6 3075.7 3074.2 3072.1 3064.8 3052.1 3038.9 3025 3010.4 2995.1 2979 2962 2944.2 2925.5 2905.8 2885 2862.9 2839.4 2808.8 2786.8 2763.1]; \n",
"S=[9.282 8.5380 8.2166 7.8937 7.4614 7.1251 6.9207 6.7696 6.6470 6.5422 6.4491 6.3642 6.2852 6.2105 6.1388 6.0692 6.0008 5.9327 5.8503 5.7942 5.7366];\n",
"\n",
"K=approx(exp((n/R).*(((H-H_)/T)-(S-S_))),0);\n",
"\n",
"f=K*f_;\n",
"P(22)=8592.7;//[kPa]\n",
"P_sat=P(22)\n",
"f(22)=6738.9;\n",
"f_sat=f(22)\n",
"\n",
"si=approx(f./P,4);\n",
"si_sat=si(22)\n",
"\n",
"Vl=approx(1.403*n,2)//[cm^3/mol]\n",
"//Using Eqn 11.41\n",
"P_new=linspace(8592.7,10000,10);\n",
"f_new=approx(f_sat.*exp(Vl.*(P_new-P_sat)/(R*1000*T)),1);\n",
"si_new=f_new./P_new;\n",
"subplot(1,2,1)\n",
"plot(P/1000,f/1000,'b')\n",
"plot(P_new/1000,f_new/1000,'g')\n",
"dotsx=[0 P_sat/1000];\n",
"dotsy=[f_sat/1000 f_sat/1000];\n",
"plot(dotsx,dotsy,'b--')\n",
"dotsx=[0 f_sat/1000];\n",
"dotsy=[P_sat/1000 P_sat/1000];\n",
"plot(dotsy,dotsx,'g--')\n",
"dotsx=[11,8];\n",
"dotsx=[6,6];\n",
"plot(dotsx,dotsy,'w')\n",
"legend('f vs P(till P_sat)','f vs P(Beyond P_sat)','f_sat','P_sat')\n",
"xtitle('f vs P','P X 10^-3 /kPa','f X 10^-3 /kPa')\n",
"subplot(1,2,2)\n",
"plot(P/1000,si,'r')\n",
"plot(P_new/1000,si_new,'g')\n",
"dotsx=[0 P_sat/1000];\n",
"dotsy=[si_sat si_sat];\n",
"plot(dotsx,dotsy,'g--')\n",
"dotsx=[0.55 si_sat];\n",
"dotsy=[P_sat/1000 P_sat/1000];\n",
"plot(dotsy,dotsx,'r--')\n",
"\n",
"legend('si vs P(till P_sat)','si vs P(Beyond P_sat)','si_sat','P_sat')\n",
"xtitle('si vs P','P X 10^-3 /kPa','si')\n",
"\n",
"//End"
   ]
   }
,
{
		   "cell_type": "markdown",
		   "metadata": {},
		   "source": [
			"## Example 11.7: Find_the_Fugacity_Coefficient_for_the_mixture.sce"
		   ]
		  },
  {
"cell_type": "code",
	   "execution_count": null,
	   "metadata": {
	    "collapsed": true
	   },
	   "outputs": [],
"source": [
"clear;\n",
"clc;\n",
"\n",
"//To find Approx Value\n",
"function[A]=approx(V,n)\n",
"  A=round(V*10^n)/10^n;//V-Value  n-To what place\n",
"  funcprot(0)\n",
"endfunction  \n",
"\n",
"//Example 11.7\n",
"//Caption : Program to Find the Fugacity Coefficient for the mixture\n",
"\n",
"T=200;//[K]\n",
"P=30;//[bar]\n",
"R=83.14;\n",
"x1=0.4;//[N2]\n",
"x2=1-x1;//[CH4]\n",
"\n",
"B11=-35.2;//[cm^3/mol]\n",
"B22=-105;//[cm^3/mol]\n",
"B12=-59.8;//[cm^3/mol]\n",
"\n",
"delta_12=approx((2*B12)-B11-B22,1);\n",
"si_1=approx(exp((P/(R*T))*(B11+(x2^2*delta_12))),4);\n",
"si_2=approx(exp((P/(R*T))*(B22+(x1^2*delta_12))),4);\n",
"\n",
"B=approx((x1^2*B11)+(2*x1*x2*B12)+(x2^2*B22),2);\n",
"Z=approx(1+((B*P)/(R*T)),2);\n",
"\n",
"disp(si_1,si_2,'Fugacity Coefficients are ')\n",
"disp(B,'Second Viral coefficient is ')\n",
"disp(Z,'Compressibility Factor is ')\n",
"\n",
"//End"
   ]
   }
,
{
		   "cell_type": "markdown",
		   "metadata": {},
		   "source": [
			"## Example 11.8: Find_the_Fugacity_of_1_butene_vapor.sce"
		   ]
		  },
  {
"cell_type": "code",
	   "execution_count": null,
	   "metadata": {
	    "collapsed": true
	   },
	   "outputs": [],
"source": [
"clear;\n",
"clc;\n",
"\n",
"//To find Approx Value\n",
"function[A]=approx(V,n)\n",
"  A=round(V*10^n)/10^n;//V-Value  n-To what place\n",
"  funcprot(0)\n",
"endfunction  \n",
"\n",
"//Example 11.8\n",
"//Caption : Program to Find the Fugacity of 1-butene vapor\n",
"\n",
"T=473.15;//[K]\n",
"P=70;//[bar]\n",
"Tc=420;//[K]\n",
"Pc=40.43;//[bar]\n",
"omega=0.191;\n",
"\n",
"//By interpolation in Tables E.15 and E.16\n",
"si_0=0.627;\n",
"si_1=1.096;\n",
"//Using Eqn(11.64)\n",
"si=approx(si_0*(si_1^omega),3);\n",
"f=approx(si*P,1);\n",
"disp(si,'Fugacity coefficient is ')\n",
"disp('bar',f,'fugacity is ')\n",
"\n",
"//End"
   ]
   }
,
{
		   "cell_type": "markdown",
		   "metadata": {},
		   "source": [
			"## Example 11.9: Find_the_Fugacity_Coefficients_for_mixture.sce"
		   ]
		  },
  {
"cell_type": "code",
	   "execution_count": null,
	   "metadata": {
	    "collapsed": true
	   },
	   "outputs": [],
"source": [
"clear;\n",
"clc;\n",
"\n",
"//To find Approx Value\n",
"function[A]=approx(V,n)\n",
"  A=round(V*10^n)/10^n;//V-Value  n-To what place\n",
"  funcprot(0)\n",
"endfunction  \n",
"\n",
"//Example 11.9\n",
"//Caption : Program to Find the Fugacity Coefficients for mixture\n",
"\n",
"P=25;//[KPa]\n",
"T=323.15;//[K]\n",
"R=83.14;\n",
"x1=0.5;\n",
"x2=1-x1;\n",
"\n",
"ij=[11,22,12];\n",
"Tc_ij=[535.5,591.8,563.0];\n",
"Pc_ij=[41.5,41.1,41.3];\n",
"Vc_ij=[267,316,291];\n",
"Zc_ij=approx((Pc_ij.*Vc_ij)./(R*Tc_ij),3);\n",
"omega_ij=[0.323,0.262,0.293];\n",
"\n",
"Tr_ij=approx(T./Tc_ij,3);\n",
"B0=approx(0.083-(0.422./(Tr_ij.^1.6)),3)\n",
"B1=approx(0.139-(0.172./(Tr_ij.^4.2)),3)\n",
"B_ij=round((R*Tc_ij./Pc_ij).*(B0+(omega_ij.*B1)));\n",
"\n",
"delta_12=(2*B_ij(3))-B_ij(1)-B_ij(2);\n",
"R=8314;\n",
"si_1=approx(exp((P/(R*T))*(B_ij(1)+(x2^2*delta_12))),3);\n",
"si_2=approx(exp((P/(R*T))*(B_ij(3)+(x1^2*delta_12))),3);\n",
"\n",
"Ans=[ij',Tc_ij',Pc_ij',Vc_ij',Zc_ij',omega_ij',Tr_ij',B0',B1',B_ij'];\n",
"disp(Ans,'   ij     Tcij     Pcij   Vcij     Zcij      Wij     Trij      B0       B1       Bij')\n",
"\n",
"disp(si_1,si_2,'Fugacity Coefficients are ')\n",
"\n",
"//End"
   ]
   }
],
"metadata": {
		  "kernelspec": {
		   "display_name": "Scilab",
		   "language": "scilab",
		   "name": "scilab"
		  },
		  "language_info": {
		   "file_extension": ".sce",
		   "help_links": [
			{
			 "text": "MetaKernel Magics",
			 "url": "https://github.com/calysto/metakernel/blob/master/metakernel/magics/README.md"
			}
		   ],
		   "mimetype": "text/x-octave",
		   "name": "scilab",
		   "version": "0.7.1"
		  }
		 },
		 "nbformat": 4,
		 "nbformat_minor": 0
}
