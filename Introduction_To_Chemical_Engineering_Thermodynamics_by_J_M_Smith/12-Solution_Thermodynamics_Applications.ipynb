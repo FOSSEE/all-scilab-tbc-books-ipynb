{
"cells": [
 {
		   "cell_type": "markdown",
	   "metadata": {},
	   "source": [
       "# Chapter 12: Solution Thermodynamics Applications"
	   ]
	},
{
		   "cell_type": "markdown",
		   "metadata": {},
		   "source": [
			"## Example 12.1: Reduce_the_set_of_VLE_Data_and_Plot_the_Graphs.sce"
		   ]
		  },
  {
"cell_type": "code",
	   "execution_count": null,
	   "metadata": {
	    "collapsed": true
	   },
	   "outputs": [],
"source": [
"clear;\n",
"clc;\n",
"\n",
"//To find Approx Value\n",
"function[A]=approx(V,n)\n",
"  A=round(V*10^n)/10^n;//V-Value  n-To what place\n",
"  funcprot(0)\n",
"endfunction  \n",
"\n",
"//Example 12.1\n",
"//Caption : Program to Reduce the set of VLE Data and Plot the Graphs\n",
"\n",
"P=[90.15,91.78,88.01,81.67,78.89,76.82,73.39,66.45,62.95,57.70,50.16,45.70,29.00];\n",
"x1=[0.000,0.063,0.248,0.372,0.443,0.508,0.561,0.640,0.702,0.763,0.834,0.874,1.000];\n",
"y1=[0.000,0.049,0.131,0.182,0.215,0.248,0.268,0.316,0.368,0.412,0.490,0.570,1.000];\n",
"x2=1-x1;\n",
"y2=1-y1;\n",
"P1_sat=P(13);\n",
"P2_sat=P(1);\n",
"K=zeros(1,13);\n",
"for(i=1:13)\n",
"  if(i ~= 1)\n",
"    ln_V1(i)=approx(log(y1(i)*P(i)/(x1(i)*P1_sat)),3);\n",
"  end  \n",
"  if(i ~= 13)\n",
"    ln_V2(i)=approx(log(y2(i)*P(i)/(x2(i)*P2_sat)),3);\n",
"  end\n",
"end\n",
"ln_V1(1)=%nan;\n",
"ln_V2(13)=%nan;\n",
"for(i=2:12)\n",
"  K(i)=approx(((x1(i)*ln_V1(i))+(x2(i)*ln_V2(i)))/(x1(i)*x2(i)),3);  //K=G_E/(x1*x2*R*T)\n",
"  k(i)=approx(((x1(i)*ln_V1(i))+(x2(i)*ln_V2(i))),3);  //K=G_E/(R*T)\n",
"  \n",
"end\n",
"K(1)=%nan;\n",
"k(1)=%nan;\n",
"K(13)=%nan;\n",
"k(13)=%nan;\n",
"A21=0.70;\n",
"A12=1.35;\n",
"K_new=approx((A21.*x1)+(A12.*x2),3);\n",
"//Using Eqn (12.10(a) and 12.10(b))\n",
"ln_V1_new=approx((x2.*x2).*(A12+(2*(A21-A12).*x1)),3);\n",
"V1_new=approx(exp(ln_V1_new),3);\n",
"ln_V2_new=approx((x1.*x1).*(A21+(2*(A12-A21).*x2)),3);\n",
"V2_new=approx(exp(ln_V2_new),3);\n",
"//Using Eqn (12.11)\n",
"P_new=(x1.*V1_new*P1_sat)+(x2.*V2_new*P2_sat);\n",
"\n",
"A21_new=0.596;\n",
"A12_new=1.153;\n",
"\n",
"K_new1=approx((A21_new.*x1)+(A12_new.*x2),3);\n",
"//Using Eqn (12.10(a) and 12.10(b))\n",
"ln_V1_new1=approx((x2.*x2).*(A12_new+(2*(A21_new-A12_new).*x1)),3);\n",
"V1_new1=approx(exp(ln_V1_new1),3);\n",
"ln_V2_new1=approx((x1.*x1).*(A21_new+(2*(A12_new-A21_new).*x2)),3);\n",
"V2_new1=approx(exp(ln_V2_new1),3);\n",
"//Using Eqn (12.11)\n",
"P_new1=(x1.*V1_new1*P1_sat)+(x2.*V2_new1*P2_sat);\n",
"\n",
"subplot(1,2,1)\n",
"plot(x1,P,'bo')\n",
"plot(y1,P,'gs')\n",
"\n",
"plot(x1,P_new,'b-')\n",
"plot(y1,P_new,'g-')\n",
"\n",
"plot(x1,P_new1,'b--')\n",
"plot(y1,P_new1,'g--')\n",
"\n",
"legend('Actual(P vs x1)','Actual(P vs y1)','By Gibbs Duhem(P vs x1)','By Gibbs Duhem(P vs y1)','By Barkers Method(Accurate)')\n",
"\n",
"xtitle('(a)','x1,y1','P/kPa')\n",
"\n",
"subplot(1,2,2)\n",
"plot(x1,ln_V1,'bs')\n",
"plot(x1,ln_V2,'gv')   \n",
"\n",
"plot(x1,K,'ro')   \n",
"\n",
"plot(x1,K_new,'r-')\n",
"plot(x1,ln_V1_new,'b-')\n",
"plot(x1,ln_V2_new,'g-')\n",
"\n",
"plot(x1,K_new1,'r--')\n",
"plot(x1,ln_V1_new1,'b--')\n",
"plot(x1,ln_V2_new1,'g--')\n",
"\n",
"legend('Actual(ln V1 vs x1)','Actual(ln V2 vs x1)','G_E/x1x2RT vs x1','By Gibbs Duhem(G_E/x1x2RT vs x1)','By Gibbs Duhem(ln V1 vs x1)','By Gibbs Duhem(ln V2 vs x1)','By Barkers Method(Accurate)')\n",
"xtitle('(b)','x1')\n",
"\n",
"//End"
   ]
   }
,
{
		   "cell_type": "markdown",
		   "metadata": {},
		   "source": [
			"## Example 12.2: Find_the_Excess_Enthalpy_as_function_of_x1.sce"
		   ]
		  },
  {
"cell_type": "code",
	   "execution_count": null,
	   "metadata": {
	    "collapsed": true
	   },
	   "outputs": [],
"source": [
"clear;\n",
"clc;\n",
"\n",
"//To find Approx Value\n",
"function[A]=approx(V,n)\n",
"  A=round(V*10^n)/10^n;//V-Value  n-To what place\n",
"  funcprot(0)\n",
"endfunction  \n",
"\n",
"//Example 12.2\n",
"//Caption : Program to Find the Excess Enthalpy as function of x1\n",
"\n",
"//H_E=x1x2(40x1+20x2)   (A)\n",
"//Find H1_E and H2_E\n",
"\n",
"//H1_E=H_E+((1-x1)*(dH_E/dx1))  let d=dH_E/dx1\n",
"\n",
"//H2_E=H_E-(x1*(dH_E/dx1))  let d=dH_E/dx1\n",
"\n",
"//Replacing x2=1-x1 in (A)\n",
"\n",
"H_E=poly([0 20 0 -20],'x1','c');\n",
"d=poly([20 0 -60],'x1','c');\n",
"H1_E=poly([20 0 -60 40],'x1','c');\n",
"H2_E=poly([0 0 0 40],'x1','c');\n",
"\n",
"disp(H1_E,'Expression For H1_E(x1) is ')\n",
"disp(H2_E,'Expression For H2_E(x1) is ')\n",
"\n",
"\n",
"//End"
   ]
   }
,
{
		   "cell_type": "markdown",
		   "metadata": {},
		   "source": [
			"## Example 12.4: Find_the_Heat_of_Formation_of_LiCl.sce"
		   ]
		  },
  {
"cell_type": "code",
	   "execution_count": null,
	   "metadata": {
	    "collapsed": true
	   },
	   "outputs": [],
"source": [
"clear;\n",
"clc;\n",
"\n",
"//To find Approx Value\n",
"function[A]=approx(V,n)\n",
"  A=round(V*10^n)/10^n;//V-Value  n-To what place\n",
"  funcprot(0)\n",
"endfunction  \n",
"\n",
"//Example 12.4\n",
"//Caption : Program to Find the Heat of Formation of LiCl\n",
"\n",
"//          Li + 0.5Cl2 --> LiCL(s)       (A)\n",
"\n",
"//   LiCl(s) + 12H2O(l) --> LiCl(12H2O)   (B)\n",
"\n",
"//Net Reaction\n",
"//Li + 0.5Cl2 +12H2O(l) --> LiCl(12H2O)   (Net)\n",
"\n",
"//From Table C.4\n",
"Hf_A=-408610;//[J]\n",
"Hf_B=-33614;//[J]\n",
"Hf_Net=Hf_A+Hf_B;//[J]\n",
"\n",
"disp('J',Hf_Net,'Heat of formation of LiCl in 12mol H2O at 298.15K is')\n",
"\n",
"//End"
   ]
   }
,
{
		   "cell_type": "markdown",
		   "metadata": {},
		   "source": [
			"## Example 12.5: Calculate_the_Heat_transfer_rate_in_th_evaporator.sce"
		   ]
		  },
  {
"cell_type": "code",
	   "execution_count": null,
	   "metadata": {
	    "collapsed": true
	   },
	   "outputs": [],
"source": [
"clear;\n",
"clc;\n",
"\n",
"//To find Approx Value\n",
"function[A]=approx(V,n)\n",
"  A=round(V*10^n)/10^n;//V-Value  n-To what place\n",
"  funcprot(0)\n",
"endfunction  \n",
"\n",
"//Example 12.5\n",
"//Caption : Program to Calculate the Heat transfer rate in th evaporator\n",
"\n",
"M_LiCl=42.39;\n",
"M_H2O=18.015;\n",
"T1=298.15;//[K]\n",
"T2=405.15;//[K]\n",
"//Step a\n",
"m_LiCl=0.15*2;\n",
"m_H2O=2-m_LiCl;\n",
"n_LiCl=(m_LiCl*1000)/M_LiCl\n",
"n_H2O=(m_H2O*1000)/M_H2O;\n",
"dH_LiCl=-33800;\n",
"dH_a=-n_LiCl*dH_LiCl//[J/s]\n",
"\n",
"//Step b\n",
"m_LiCl=0.15*2;\n",
"m_H2O=0.45;\n",
"n_LiCl=(m_LiCl*1000)/M_LiCl;\n",
"n_H2O=(m_H2O*1000)/M_H2O;\n",
"dH_LiCl=-23260;\n",
"dH_b=n_LiCl*dH_LiCl//[J/s]\n",
"\n",
"//Step c\n",
"m_LiCl=0.75;\n",
"Cp=2.72;\n",
"dT=T2-T1;\n",
"dH_c=m_LiCl*Cp*dT*1000//[J/s]\n",
"\n",
"//step d\n",
"m_H2O=2-m_LiCl;\n",
"dH_T2=2740.3;//[KJ/s/mol] form Steam Tables\n",
"dH_T1=104.8;//[KJ/s/mol]  from Steam Tables\n",
"dH_d=m_H2O*(dH_T2-dH_T1)*1000//[J/s]\n",
"\n",
"dH=approx((dH_a+dH_b+dH_c+dH_d)/1000,1);\n",
"\n",
"disp('kW or KJ/s',dH,'The required Heat Transfer rate is ')\n",
"\n",
"//End"
   ]
   }
,
{
		   "cell_type": "markdown",
		   "metadata": {},
		   "source": [
			"## Example 12.6: Calculate_Heat_Transfer_Rate_in_a_evaporator.sce"
		   ]
		  },
  {
"cell_type": "code",
	   "execution_count": null,
	   "metadata": {
	    "collapsed": true
	   },
	   "outputs": [],
"source": [
"clear;\n",
"clc;\n",
"\n",
"//To find Approx Value\n",
"function[A]=approx(V,n)\n",
"  A=round(V*10^n)/10^n;//V-Value  n-To what place\n",
"  funcprot(0)\n",
"endfunction  \n",
"\n",
"//Example 12.6\n",
"//Caption : Program to Calculate Heat Transfer Rate in Single effect Evaporator\n",
"\n",
"T0=298.15;//[K]\n",
"T=361.5;//[K]\n",
"mT=1.25;//[Kg/s]  10% NaOH\n",
"m_steam=1;//[Kg/s] at P=76 torr and 361.5K\n",
"m_50NaOH=mT-m_steam;//[Kg/s]  at 361.5K\n",
"\n",
"//From Steam tables\n",
"//at 76 torr and 361.15K\n",
"H_steam=2666;//[KJ/kg]\n",
"//for 10% NaOH soln at 294.15K\n",
"H_10NaOH=79;//[KJ/Kg]\n",
"//for 50% NaOH soln at 361.15K\n",
"H_50NaOH=500;//[KJ/Kg]\n",
"\n",
"dH=(m_steam*H_steam)+(m_50NaOH*H_50NaOH)-(mT*H_10NaOH);\n",
"Q=dH;\n",
"disp('kW or kJ/s',Q,'Heat Transfer rate')\n",
"\n",
"//End"
   ]
   }
,
{
		   "cell_type": "markdown",
		   "metadata": {},
		   "source": [
			"## Example 12.9: Calculate_the_Heat_Transformed_per_Kg_of_Solution.sce"
		   ]
		  },
  {
"cell_type": "code",
	   "execution_count": null,
	   "metadata": {
	    "collapsed": true
	   },
	   "outputs": [],
"source": [
"clear;\n",
"clc;\n",
"\n",
"//To find Approx Value\n",
"function[A]=approx(V,n)\n",
"  A=round(V*10^n)/10^n;//V-Value  n-To what place\n",
"  funcprot(0)\n",
"endfunction  \n",
"\n",
"//Example 12.9\n",
"//Caption : Program to Calculate the Heat Transformed per Kg of Solution formed \n",
"\n",
"T=294.15;//[K]\n",
"m_NaOH_soln=1;//[kg]\n",
"m_NaOH_solid=0.45*m_NaOH_soln;//[Kg]\n",
"m_H2O=0.55*m_NaOH_soln;//[Kg]\n",
"\n",
"//From Steam Tables\n",
"H_NaOH_soln=216;//[kJ/Kg]\n",
"H_NaOH_solid=1113;//[kJ/Kg]\n",
"H_H2O=88;//[kJ/Kg]\n",
"\n",
"dH=m_NaOH_soln*H_NaOH_soln-(m_NaOH_solid*H_NaOH_solid)-(m_H2O*H_H2O);\n",
"Q=dH;\n",
"\n",
"disp('kW or kJ/kg',Q,'Heat Transferred per Kg of NaOH Soln')\n",
"\n",
"//End"
   ]
   }
],
"metadata": {
		  "kernelspec": {
		   "display_name": "Scilab",
		   "language": "scilab",
		   "name": "scilab"
		  },
		  "language_info": {
		   "file_extension": ".sce",
		   "help_links": [
			{
			 "text": "MetaKernel Magics",
			 "url": "https://github.com/calysto/metakernel/blob/master/metakernel/magics/README.md"
			}
		   ],
		   "mimetype": "text/x-octave",
		   "name": "scilab",
		   "version": "0.7.1"
		  }
		 },
		 "nbformat": 4,
		 "nbformat_minor": 0
}
