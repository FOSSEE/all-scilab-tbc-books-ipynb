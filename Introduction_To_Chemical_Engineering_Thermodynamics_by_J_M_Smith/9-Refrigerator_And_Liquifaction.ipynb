{
"cells": [
 {
		   "cell_type": "markdown",
	   "metadata": {},
	   "source": [
       "# Chapter 9: Refrigerator And Liquifaction"
	   ]
	},
{
		   "cell_type": "markdown",
		   "metadata": {},
		   "source": [
			"## Example 9.1: Find_the_COP_of_a_Refrigerator.sce"
		   ]
		  },
  {
"cell_type": "code",
	   "execution_count": null,
	   "metadata": {
	    "collapsed": true
	   },
	   "outputs": [],
"source": [
"clear;\n",
"clc;\n",
"\n",
"//To find Approx Value\n",
"function[A]=approx(V,n)\n",
"  A=round(V*10^n)/10^n;//V-Value  n-To what place\n",
"  funcprot(0)\n",
"endfunction  \n",
"\n",
"//Example 9.1\n",
"//Caption : Program to Find the COP of a Refrigerator\n",
"\n",
"//Given Values\n",
"T1=261.15;//[K] Temgeratureof refrigerated space\n",
"T2=294.15;//[K] Temperature of cooling water\n",
"dT=5.6;//[K]    Temperature Difference\n",
"Qc=35.2;//[kW]  Refrigerant Capacity\n",
"eta=0.8;//Efficeincy(b)\n",
"\n",
"//(a) Carnot Refrigerator\n",
"Tc=T1-dT;\n",
"Th=T2+dT;\n",
"//Using Eqn(9.3)\n",
"w=approx(Tc/(Th-Tc),2);\n",
"disp(w,'(a)Coefficient of Performance for Carnot Refrigerator')\n",
"\n",
"//(b)  Vapor Compression Cycle\n",
"\n",
"//From Table(9.1)\n",
"//@ Tc=255.55K\n",
"H2=388.13;//[KJ/Kg]\n",
"S2=1.7396;//[KJ/Kg/K]\n",
"\n",
"//@ Th=299.75K\n",
"H4=236.76;//[KJ/Kg]\n",
"\n",
"S3=S2;//Isentropic\n",
"//Hence\n",
"H3=420.27;//[KJ/Kg]\n",
"//Step 2 --> 3\n",
"del_Hs=H3-H2;\n",
"//But Compressor Efficiency = 0.80\n",
"del_Hs=del_Hs/eta\n",
"//Step 1 --> 4\n",
"H1=H4;//isenthalpic\n",
"w=approx((H2-H4)/del_Hs,2);\n",
"disp(w,'(b)Coefficient of Performance for Vapor Compression Cycle')\n",
"rm=approx(Qc/(H2-H4),4);//[Kg/s]\n",
"disp('kg/s',rm,'Circulation rate');\n",
"\n",
"//End"
   ]
   }
,
{
		   "cell_type": "markdown",
		   "metadata": {},
		   "source": [
			"## Example 9.2: Find_Power_Requirement_For_Various_seasons.sce"
		   ]
		  },
  {
"cell_type": "code",
	   "execution_count": null,
	   "metadata": {
	    "collapsed": true
	   },
	   "outputs": [],
"source": [
"clear;\n",
"clc;\n",
"\n",
"//To find Approx Value\n",
"function[A]=approx(V,n)\n",
"  A=round(V*10^n)/10^n;//V-Value  n-To what place\n",
"  funcprot(0)\n",
"endfunction  \n",
"\n",
"//Example 9.2\n",
"//Caption : Program to Find Power Requirement For Various seasons\n",
"\n",
"//Given Values\n",
"Qh_Winter=30;//[KW]\n",
"Qc_Summer=60;//[KW]\n",
"Tc_Winter=283.15;//[K]\n",
"Th_Winter=303.15;//[K]\n",
"Tc_Summer=278.15;//[K]\n",
"Th_Summer=298.15;//[K]\n",
"\n",
"//For WINTER's\n",
"//Using Eqn(5.7)\n",
"Qc_Winter=Qh_Winter*(Tc_Winter/Th_Winter);\n",
"//Using Eqn(9.1)\n",
"W_Winter=approx((Qh_Winter-Qc_Winter),2);//[KW]\n",
"disp('KW',W_Winter,'Power Requirement for WINTER''s')\n",
"\n",
"//For SUMMER's\n",
"//Combining Eqn(9.2) And Eqn(9.3)\n",
"W_Summer=approx((Qc_Summer*((Th_Summer-Tc_Summer)/Tc_Summer)),2);\n",
"disp('KW',W_Summer,'Power Requirement for SUMMER''s')\n",
"\n",
"//End"
   ]
   }
,
{
		   "cell_type": "markdown",
		   "metadata": {},
		   "source": [
			"## Example 9.3: Find_the_Temperature_of_the_High_Pressure_steam.sce"
		   ]
		  },
  {
"cell_type": "code",
	   "execution_count": null,
	   "metadata": {
	    "collapsed": true
	   },
	   "outputs": [],
"source": [
"clear;\n",
"clc;\n",
"\n",
"//To find Approx Value\n",
"function[A]=approx(V,n)\n",
"  A=round(V*10^n)/10^n;//V-Value  n-To what place\n",
"  funcprot(0)\n",
"endfunction  \n",
"\n",
"//Example 9.3\n",
"//Caption : Program to Find the Temperature of the High Pressure steam \n",
"\n",
"//Given Values\n",
"\n",
"x=0.25;\n",
"//For Superheated Methane\n",
"//By Perry and Green  by linear interpolation\n",
"H4=1140;//[KJ/Kg]  @ 300K and 60 Bar\n",
"H15=1188.9;//[KJ/Kg]  @ 295K and 1 Bar\n",
"//By interpolation based on lnP\n",
"T_sat=111.5;//[K]\n",
"H9=285.4;//[KJ/Kg]  Saturated Liquid\n",
"H12=769.9;//[KJ/Kg] Saturated Vapor\n",
"S12=9.521;//[KJ/Kg/K] Saturated vapor\n",
"\n",
"T5=253.6;//[K]\n",
"H5=1009.8;//[KJ/Kg]  @ 60 Bar\n",
"\n",
"//From Eqn(9.7)\n",
"z=((x*(H12-H5))+H4-H15)/(H9-H15);\n",
"\n",
"H14=((H5-H4)/(1-z))+H15;//[KJ/Kg]\n",
"//Whence\n",
"T14=227.2;//[K]  @ 1Bar\n",
"\n",
"H7=H5-((1-z)/(1-x)*(H14-H12));//[KJ/Kg]\n",
"T7=197.6;//[K]  @ 60Bar\n",
"\n",
"//From Eqn(9.8)\n",
"z=approx((H4-H15)/(H9-H15),4);\n",
"\n",
"H7=H4-((1-z)*(H15-H12));\n",
"T7=206.6;//[K]\n",
"\n",
"disp('%',z*100,'Fraction of methane liquefied')\n",
"disp('K',T7,'Temperature of High Pressure steam entering the throttle valve')\n",
"\n",
"//End"
   ]
   }
],
"metadata": {
		  "kernelspec": {
		   "display_name": "Scilab",
		   "language": "scilab",
		   "name": "scilab"
		  },
		  "language_info": {
		   "file_extension": ".sce",
		   "help_links": [
			{
			 "text": "MetaKernel Magics",
			 "url": "https://github.com/calysto/metakernel/blob/master/metakernel/magics/README.md"
			}
		   ],
		   "mimetype": "text/x-octave",
		   "name": "scilab",
		   "version": "0.7.1"
		  }
		 },
		 "nbformat": 4,
		 "nbformat_minor": 0
}
