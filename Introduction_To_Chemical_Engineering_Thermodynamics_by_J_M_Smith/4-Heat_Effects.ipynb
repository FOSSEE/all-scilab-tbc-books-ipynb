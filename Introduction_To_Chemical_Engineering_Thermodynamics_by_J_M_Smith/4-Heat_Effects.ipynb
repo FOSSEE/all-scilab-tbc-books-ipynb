{
"cells": [
 {
		   "cell_type": "markdown",
	   "metadata": {},
	   "source": [
       "# Chapter 4: Heat Effects"
	   ]
	},
{
		   "cell_type": "markdown",
		   "metadata": {},
		   "source": [
			"## Example 4.2: Find_Heat_Required_to_Heat_Methane_gas.sce"
		   ]
		  },
  {
"cell_type": "code",
	   "execution_count": null,
	   "metadata": {
	    "collapsed": true
	   },
	   "outputs": [],
"source": [
"clear;\n",
"clc;\n",
"\n",
"//To find Approx Value\n",
"function[A]=approx(V,n)\n",
"  A=round(V*10^n)/10^n;//V-Value  n-To what place\n",
"  funcprot(0)\n",
"endfunction  \n",
"\n",
"function[Q]=ICPH(T0,T,A,B,C,D)\n",
"  t=T/T0;\n",
"  Q=(A+((B/2)*T0*(t+1))+((C/3)*T0*T0*((t^2)+t+1))+(D/(t*T0*T0)))*(T-T0)\n",
"  funcprot(0);\n",
"endfunction\n",
"    \n",
"\n",
"//Example 4.2\n",
"//Caption : Program to find Heat Required to Heat Methane gas\n",
"\n",
"//Given values for methane\n",
"R=8.314;\n",
"T0=533.15;\n",
"T=873.15;\n",
"A=1.702;\n",
"B=9.081*(10^-3);\n",
"C=-2.164*(10^-6);\n",
"D=0;\n",
"\n",
"\n",
"//Solution\n",
"Q=approx(R*ICPH(T0,T,A,B,C,D),0);\n",
"disp('J',Q,'Heat Required')\n",
"\n",
"//End"
   ]
   }
,
{
		   "cell_type": "markdown",
		   "metadata": {},
		   "source": [
			"## Example 4.3: Find_the_Final_Temperature_with_Heat_Given.sce"
		   ]
		  },
  {
"cell_type": "code",
	   "execution_count": null,
	   "metadata": {
	    "collapsed": true
	   },
	   "outputs": [],
"source": [
"clear;\n",
"clc;\n",
"\n",
"//Example 4.3\n",
"//Caption : Program To Find the Final Temperature with Heat Given\n",
"\n",
"function[Q]=MCPH(T0,T,A,B,C,D)\n",
"  t=T/T0;\n",
"  Q=(A+((B/2)*T0*(t+1))+((C/3)*T0*T0*((t^2)+t+1))+(D/(t*T0*T0)))\n",
"  funcprot(0);\n",
"endfunction\n",
"    \n",
"\n",
"//Given values for Ammonia\n",
"R=8.314;\n",
"T0=533.15;\n",
"A=3.578;\n",
"B=3.020*(10^-3);\n",
"C=0;\n",
"D=-0.186*(10^5);\n",
"Q=422*(10^3);\n",
"n=11.3;\n",
"del_H=Q/n;\n",
"\n",
"//Solution\n",
"i=-1;\n",
"a=round(T0);//Initial\n",
"while (i==-1)\n",
"  b=R*MCPH(T0,a,A,B,C,D);\n",
"  c=b*(a-T0);\n",
"  flag=del_H-c;\n",
"  if(flag<=100) then\n",
"    T=a-1;\n",
"    i=1;\n",
"  else\n",
"    a=a+1; \n",
"    i=-1;\n",
"  end  \n",
"end\n",
"\n",
"\n",
"disp('K',T,'Temperature Required(Approx)')\n",
"\n",
"//End"
   ]
   }
,
{
		   "cell_type": "markdown",
		   "metadata": {},
		   "source": [
			"## Example 4.4: Find_the_Latent_Heat.sce"
		   ]
		  },
  {
"cell_type": "code",
	   "execution_count": null,
	   "metadata": {
	    "collapsed": true
	   },
	   "outputs": [],
"source": [
"clear;\n",
"clc;\n",
"\n",
"//To find Approx Value\n",
"function[A]=approx(V,n)\n",
"  A=round(V*10^n)/10^n;//V-Value  n-To what place\n",
"  funcprot(0)\n",
"endfunction  \n",
"\n",
"//Example 4.4\n",
"//Caption : Program to find the Latent Heat\n",
"\n",
"del_H1=2257;//latent Heat of Vapourisation of water at 373.15K(100`C)[KJ/Kg]\n",
"Tr1=373.15/647.1;\n",
"Tr2=573.15/647.1;\n",
"\n",
"del_H2=approx(del_H1*((1-Tr2)/(1-Tr1))^0.38,0);//KJ/Kg\n",
"disp('KJ/Kg',del_H2,'latent Heat at 573.15K')\n",
"\n",
"disp('Note: The Value as given in steam tables at 573.15K is 1406 KJ/Kg')\n",
"\n",
"//End"
   ]
   }
,
{
		   "cell_type": "markdown",
		   "metadata": {},
		   "source": [
			"## Example 4.5: Find_the_Standard_Heat_at_298K.sce"
		   ]
		  },
  {
"cell_type": "code",
	   "execution_count": null,
	   "metadata": {
	    "collapsed": true
	   },
	   "outputs": [],
"source": [
"clc;\n",
"clear;\n",
"\n",
"//Example 4.5\n",
"//Caption : Program to Find the Standard Heat at 298.15K\n",
"\n",
"//4HCL + O2 --> 2H2O + 2Cl2\n",
"del_H_HCL=-92.307;//KJ Heat Of Formation\n",
"del_H_H2O=-241.818;//KJ\n",
"\n",
"//4HCL --> 2H2 + 2Cl2\n",
"del_H_298_HCL=4*(-1)*del_H_HCL;\n",
"//2H2 + O2 --> 2H2O\n",
"del_H_298_H2O=2*del_H_H2O;\n",
"//Final\n",
"del_H_298=del_H_298_HCL+del_H_298_H2O;\n",
"\n",
"disp('KJ',del_H_298,'Standard Heat')\n",
"\n",
"//End"
   ]
   }
,
{
		   "cell_type": "markdown",
		   "metadata": {},
		   "source": [
			"## Example 4.6: Find_the_Standard_Heat_of_Methanol_Synthesis.sce"
		   ]
		  },
  {
"cell_type": "code",
	   "execution_count": null,
	   "metadata": {
	    "collapsed": true
	   },
	   "outputs": [],
"source": [
"clear;\n",
"clc;\n",
"\n",
"//Example 4.6\n",
"//Caption : Program to Find the Standard Heat of Methanol Synthesis\n",
"\n",
"//To find Approx Value\n",
"function[A]=approx(V,n)\n",
"  A=round(V*10^n)/10^n;//V-Value  n-To what place\n",
"  funcprot(0)\n",
"endfunction  \n",
"\n",
"function[Q]=IDCPH(T0,T,dA,dB,dC,dD)\n",
"  t=T/T0;\n",
"  Q=(dA+((dB/2)*T0*(t+1))+((dC/3)*T0*T0*((t^2)+t+1))+(dD/(t*T0*T0)))*(T-T0)\n",
"  funcprot(0);\n",
"endfunction\n",
"    \n",
"\n",
"//Methanol Synthesis @ 1073.15K(800`C)\n",
"//CO + 2H2 --> CH3OH\n",
"del_H_CO=-110.525//@298K from Table C.4\n",
"del_H_CH3OH_g=-200.660;//@298K from Table C.4\n",
"del_H_298=((1)*del_H_CH3OH_g)-((1)*del_H_CO);//KJ/mol\n",
"T0=298.15;\n",
"T=1073.15;\n",
"R=8.314;\n",
"//Moles (CH3OH,CO,H2)\n",
"n=[1;-1;-2];\n",
"//A..from Table C.1 \n",
"A=[2.211;3.376;3.249];\n",
"//B..from Table C.1\n",
"B=(10^-3)*[12.216;0.557;0.422];\n",
"//C..from Table C.1\n",
"C=(10^-6)*[-3.450;0;0];\n",
"//D..From table C.1\n",
"D=(10^5)*[0;-0.031;0.083];\n",
"\n",
"del_A=0;\n",
"del_B=0;\n",
"del_C=0;\n",
"del_D=0;\n",
"for(i=1:3)\n",
"  del_A=del_A+n(i,1)*A(i,1);\n",
"  del_B=del_B+n(i,1)*B(i,1);\n",
"  del_C=del_C+n(i,1)*C(i,1);\n",
"  del_D=del_D+n(i,1)*D(i,1);\n",
"end\n",
"\n",
"I=IDCPH(T0,T,del_A,del_B,del_C,del_D);\n",
"del_H=approx(del_H_298+(R*I/10^3),3);\n",
"\n",
"disp('KJ',del_H,'Standard Heat Of Enthalpy');\n",
"\n",
"//End"
   ]
   }
,
{
		   "cell_type": "markdown",
		   "metadata": {},
		   "source": [
			"## Example 4.7: Find_Max_Temperature_reached_in_Combustion_of_CH4.sce"
		   ]
		  },
  {
"cell_type": "code",
	   "execution_count": null,
	   "metadata": {
	    "collapsed": true
	   },
	   "outputs": [],
"source": [
"clear;\n",
"clc;\n",
"\n",
"//Example 4.7\n",
"//Caption : Program To Find Max Temperature reached in Combustion of Methane\n",
"\n",
"function[Q]=MCPH(T0,T,A,B,C,D)\n",
"  t=T/T0;\n",
"  Q=(A+((B/2)*T0*(t+1))+((C/3)*T0*T0*((t^2)+t+1))+(D/(t*T0*T0)))\n",
"  funcprot(0);\n",
"endfunction\n",
"    \n",
"\n",
"//Combustion Of methane\n",
"//CH4 + 2O2 --> CO2 + 2H2O\n",
"R=8.314;\n",
"del_H_CO2=-393509;//from table C.4\n",
"del_H_O2=-241818;//from table C.4\n",
"del_H_CH4=-74520;//from table C.4\n",
"del_H_298=del_H_CO2+(2*del_H_O2)-del_H_CH4;\n",
"del_Hp=-del_H_298;\n",
"//moles of reactants\n",
"n_CH4=1;\n",
"n_O2=2+(0.2*2);//20% Excess\n",
"n_N2=n_O2*(79/21);\n",
"//Moles Of Products..(CO2,H2O,O2,N2)\n",
"np=[1;2;0.4;9.03];\n",
"//A..from Table C.1 \n",
"A=[5.457;3.470;3.639;3.280];\n",
"//B..from Table C.1\n",
"B=(10^-3)*[1.045;1.450;0.506;0.593];\n",
"//C..from Table C.1\n",
"C=(10^-6)*[0;0;0;0];\n",
"//D..From table C.1\n",
"D=(10^5)*[-1.157;0.121;-0.227;0.040];\n",
"\n",
"E_A=0;\n",
"E_B=0;\n",
"E_C=0;\n",
"E_D=0;\n",
"for(i=1:4)\n",
"  E_A=E_A+np(i,1)*A(i,1);\n",
"  E_B=E_B+np(i,1)*B(i,1);\n",
"  E_C=E_C+np(i,1)*C(i,1);\n",
"  E_D=E_D+np(i,1)*D(i,1);\n",
"end\n",
"\n",
"T0=298.15;\n",
"a=round(T0);//Initial\n",
"i=-1\n",
"while (i==-1)\n",
"  b=R*MCPH(T0,a,E_A,E_B,E_C,E_D);\n",
"  c=b*(a-T0);\n",
"  flag=del_Hp-c;\n",
"  if(flag<=100) then\n",
"    T=a-1;\n",
"    i=1;\n",
"  else\n",
"    a=a+1; \n",
"    i=-1;\n",
"  end  \n",
"end\n",
"disp('K',T,'Temperature Required(Approx)')\n",
"//End"
   ]
   }
,
{
		   "cell_type": "markdown",
		   "metadata": {},
		   "source": [
			"## Example 4.8: Find_the_Heat_Requirement_for_the_Reactor.sce"
		   ]
		  },
  {
"cell_type": "code",
	   "execution_count": null,
	   "metadata": {
	    "collapsed": true
	   },
	   "outputs": [],
"source": [
"clc;\n",
"clear;\n",
"\n",
"//Example 4.8\n",
"//Caption : Program to Find the Heat Requirement for the Reactor \n",
"\n",
"//To find Approx Value\n",
"function[A]=approx(V,n)\n",
"  A=round(V*10^n)/10^n;//V-Value  n-To what place\n",
"  funcprot(0)\n",
"endfunction  \n",
"\n",
"function[Q]=MCPH(T0,T,A,B,C,D)\n",
"  t=T/T0;\n",
"  Q=(A+((B/2)*T0*(t+1))+((C/3)*T0*T0*((t^2)+t+1))+(D/(t*T0*T0)))\n",
"  funcprot(0);\n",
"endfunction\n",
"    \n",
"\n",
"//CH4 + H2O --> CO + 3H2 (A)\n",
"//CH4 + 2H2O --> CO2 + 4H2  (B)\n",
"del_H_A=205813;//J\n",
"del_H_B=164647;//J\n",
"//0.87 mol of CH4 for (A) (1-0.87)mol of CH4 for (B)\n",
"del_H_298=(0.87*del_H_A)+(0.13*del_H_B);\n",
"R=8.314;\n",
"T0=298.15;\n",
"T_A=600;//Cooled\n",
"T_B=1300;//Heated\n",
"//Moles of reactants (CH4,H2O)\n",
"nr=[1;2];\n",
"//Moles of Products (CO,H2,CO2,H2O)\n",
"np=[0.87;3.13;0.13;0.87];\n",
"//For Reactants\n",
"//for CH4\n",
"I1=MCPH(T0,T_A,1.702,9.081*(10^-3),-2.164*(10^-6),0);\n",
"//For H2O\n",
"I2=MCPH(T0,T_A,3.470,1.450*(10^-3),0,0.121*(10^5));\n",
"del_Hr=R*((nr(1,1)*I1)+(nr(2,1)*I2))*(T0-T_A);//J\n",
"//For Products\n",
"//for CO\n",
"I1=MCPH(T0,T_B,3.376,0.557*(10^-3),0,-0.031*(10^5));\n",
"//For H2\n",
"I2=MCPH(T0,T_B,3.249,0.422*(10^-3),0,0.083*(10^5));\n",
"//for CO2\n",
"I3=MCPH(T0,T_B,5.457,1.045*(10^-3),0,-1.157*(10^5));\n",
"//For H2O\n",
"I4=MCPH(T0,T_B,3.470,1.450*(10^-3),0,0.121*(10^5));\n",
"del_Hp=R*((np(1,1)*I1)+(np(2,1)*I2)+(np(3,1)*I3)+(np(4,1)*I4))*(T_B-T0);//J\n",
"//del_H\n",
"del_H=del_H_298+del_Hr+del_Hp;\n",
"Q=approx(del_H,-1);\n",
"disp('J',Q,'Heat Required');\n",
"\n",
"//End"
   ]
   }
],
"metadata": {
		  "kernelspec": {
		   "display_name": "Scilab",
		   "language": "scilab",
		   "name": "scilab"
		  },
		  "language_info": {
		   "file_extension": ".sce",
		   "help_links": [
			{
			 "text": "MetaKernel Magics",
			 "url": "https://github.com/calysto/metakernel/blob/master/metakernel/magics/README.md"
			}
		   ],
		   "mimetype": "text/x-octave",
		   "name": "scilab",
		   "version": "0.7.1"
		  }
		 },
		 "nbformat": 4,
		 "nbformat_minor": 0
}
