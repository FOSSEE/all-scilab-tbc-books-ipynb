{
"cells": [
 {
		   "cell_type": "markdown",
	   "metadata": {},
	   "source": [
       "# Chapter 2: The First Law And Other Basic Concepts"
	   ]
	},
{
		   "cell_type": "markdown",
		   "metadata": {},
		   "source": [
			"## Example 2.10: Find_change_in_Internal_Energy_and_Enthalpy.sce"
		   ]
		  },
  {
"cell_type": "code",
	   "execution_count": null,
	   "metadata": {
	    "collapsed": true
	   },
	   "outputs": [],
"source": [
"clear;\n",
"clc;\n",
"\n",
"//To find Approx Value\n",
"function[A]=approx(V,n)\n",
"  A=round(V*10^n)/10^n;//V-Value  n-To what place\n",
"  funcprot(0)\n",
"endfunction  \n",
"\n",
"//Example 2.10\n",
"//Caption : Program to Find change in Internal Energy and Enthalpy\n",
"\n",
"//Given values\n",
"\n",
"//Initial values\n",
"T1=277;//Temp=277K\n",
"P1=10;//Pressure=10bar\n",
"V1=2.28;//molar Volume=2.28m^3/Kmol\n",
"\n",
"//Final value\n",
"T2=333;//Temp=333K\n",
"P2=1;//Pressure=1atm\n",
"\n",
"Cv=21;//KJ/Kmol/K\n",
"Cp=29.3;//KJ/Kmol/K\n",
"\n",
"//Solution\n",
"//(a)-Cooled at const Vol to the final pressure\n",
"//(b)-Heated at const Pressure to final temperature\n",
"T_=T1*(1/10);//Intermediate temperature\n",
"del_Ta=T_-T1;\n",
"del_Tb=T2-T_;\n",
"del_Ua=Cv*del_Ta;//KJ/Kmol\n",
"del_Ha=del_Ua+(V1*(P2-P1)*(10^5)/(10^3));//KJ/Kmol\n",
"V2=(V1*P1*T2)/(P2*T1);//m^3/kmol\n",
"del_Hb=Cp*del_Tb;\n",
"del_Ub=del_Hb-(P2*(V2-V1)*(10^5)/(10^3));//KJ/Kmol\n",
"\n",
"del_U=approx(del_Ua+del_Ub,0);\n",
"del_H=approx(del_Ha+del_Hb,0);\n",
"disp('KJ/Kmol',del_U,'Change In Internal Energy')\n",
"disp('KJ/Kmol',del_H,'Change In Enthalpy')\n",
"\n",
"//End"
   ]
   }
,
{
		   "cell_type": "markdown",
		   "metadata": {},
		   "source": [
			"## Example 2.13: Find_the_time_for_a_certain_Temperature_Drop.sce"
		   ]
		  },
  {
"cell_type": "code",
	   "execution_count": null,
	   "metadata": {
	    "collapsed": true
	   },
	   "outputs": [],
"source": [
"clear;\n",
"clc;\n",
"\n",
"//To find Approx Value\n",
"function[A]=approx(V,n)\n",
"  A=round(V*10^n)/10^n;//V-Value  n-To what place\n",
"  funcprot(0)\n",
"endfunction  \n",
"\n",
"//Example 2.13\n",
"//Caption : Program to Find the time for a certain Temperature Drop\n",
"\n",
"//Given values\n",
"M=190;//Mass=190Kg\n",
"T0=333.15;//Temperature=333.15K(60`C)\n",
"m=0.2;//Steady rate of mass(Kg/s)\n",
"T=308.15;//Temperature=308.15K(35`C)\n",
"T1=283.15;//Temperature=283.15K(10`C)\n",
"\n",
"//Solution\n",
"//Using the Eqn (2.29)\n",
"t=approx(-(M/m)*log((T-T1)/(T0-T1)),1);//s\n",
"disp('s',t,'Time Taken for temperature of water to drop from 333.15K to 308.15K')\n",
"t=round(t/60);//min\n",
"disp('min',t,'Time Taken for temperature of water to drop from 333.15K to 308.15K')\n",
"\n",
"//End"
   ]
   }
,
{
		   "cell_type": "markdown",
		   "metadata": {},
		   "source": [
			"## Example 2.14: Find_the_Enthalpy_of_Steam.sce"
		   ]
		  },
  {
"cell_type": "code",
	   "execution_count": null,
	   "metadata": {
	    "collapsed": true
	   },
	   "outputs": [],
"source": [
"clear;\n",
"clc;\n",
"\n",
"//Example 2.14\n",
"//Caption : Program to find the Enthalpy of Steam\n",
"\n",
"//Given values\n",
"\n",
"rQ=4.15;//[g/s]  flow rate\n",
"rQ2=12740;//Rate of Heat addition from resistance heater\n",
"\n",
"//Solution\n",
"//del_z and del_u*2 are negligible  if Ws and H1=0..then H2=Q\n",
"H2=round(rQ2/rQ);//[J/g]\n",
"disp('J/g',H2,'Enthalpy of Steam')\n",
"\n",
"//End"
   ]
   }
,
{
		   "cell_type": "markdown",
		   "metadata": {},
		   "source": [
			"## Example 2.15: Find_the_Heat_to_be_Removed_during_Compression.sce"
		   ]
		  },
  {
"cell_type": "code",
	   "execution_count": null,
	   "metadata": {
	    "collapsed": true
	   },
	   "outputs": [],
"source": [
"clear;\n",
"clc;\n",
"\n",
"//Example 2.15\n",
"//Caption : Program To find the Heat to be Removed during Compression \n",
"\n",
"//Given values\n",
"\n",
"V=600;//[m/s]\n",
"W_compression=240;//[KJ/Kg]\n",
"\n",
"//Solution\n",
"//Using Eqn(2.32a)\n",
"Q=(1/2*(V*V)/1000)-W_compression;\n",
"\n",
"disp('KJ/kg',-Q,'Thus Heat Removed from each KG of air compressed is')\n",
"\n",
"//End"
   ]
   }
,
{
		   "cell_type": "markdown",
		   "metadata": {},
		   "source": [
			"## Example 2.16: Find_the_Heat_to_be_Removed_during_Compression.sce"
		   ]
		  },
  {
"cell_type": "code",
	   "execution_count": null,
	   "metadata": {
	    "collapsed": true
	   },
	   "outputs": [],
"source": [
"clear;\n",
"clc;\n",
"\n",
"//To find Approx Value\n",
"function[A]=approx(V,n)\n",
"  A=round(V*10^n)/10^n;//V-Value  n-To what place\n",
"  funcprot(0)\n",
"endfunction  \n",
"\n",
"//Example 2.15\n",
"//Caption : Program to Find the Temperature in the second Tank\n",
"\n",
"//Given values\n",
"\n",
"R=3.15*10^-3;//[m^3/s]  Rate of pumping\n",
"rH=-700;//[KW]  Rate of Heat lost  \n",
"h=15;//[m]  Height\n",
"rW=1.5;//[KW]\n",
"rho=958;//[Kg/m^3]  at 366.65K\n",
"g=9.805;\n",
"gc=1000;\n",
"del_z=h;\n",
"\n",
"//Solution\n",
"\n",
"rm=approx(R*rho,3);//[Kg/s]  Mass flow rate\n",
"Q=approx(rH/rm,1);//[KJ/Kg]\n",
"W=approx(rW/rm,3);//[KJ/Kg]  Shaft Work\n",
"K=approx(g/gc*del_z,3);\n",
"\n",
"//using Eqn(2.32b)\n",
"del_H=Q+W-K;\n",
"\n",
"//From Steam tables for water at 366.65K\n",
"H1=391.6;//[KJ/Kg]\n",
"H2=del_H+H1;\n",
"disp('KJ/Kg',H2,'Enthalpy')\n",
"//From Steam Tables temp at this enthalpy is\n",
"T=311.35;//[K]\n",
"disp('K',T,'Temperature in the Second tank')\n",
"\n",
"//End"
   ]
   }
,
{
		   "cell_type": "markdown",
		   "metadata": {},
		   "source": [
			"## Example 2.1: Find_Energy_in_a_Waterfall.sce"
		   ]
		  },
  {
"cell_type": "code",
	   "execution_count": null,
	   "metadata": {
	    "collapsed": true
	   },
	   "outputs": [],
"source": [
"clear;\n",
"clc;\n",
"\n",
"//Example 2.1\n",
"//Caption : Program to find Energy in a Waterfall\n",
"\n",
"\n",
"//Given values\n",
"H=100;//height=100m\n",
"M=1;//Mass of water=1Kg\n",
"g=9.8066;//Acceleration due to gravity(m/s^2)\n",
"\n",
"//Solution\n",
"\n",
"//Del(Energy of the system)=0\n",
"//hence,del(U)+del(KE)+del(PE)=0\n",
"\n",
"//(a)\n",
"PE1=M*H*g;//(J)\n",
"disp('J',PE1,'(a)Potential energy of Water at the Top');\n",
"\n",
"//(b)\n",
"del_U=0;\n",
"KE1=0;\n",
"PE2=0;\n",
"KE2=PE1;//(J)\n",
"disp('J',KE2,'(b)Kinetic energy of Water');\n",
"\n",
"//(c)\n",
"del_U=KE2;\n",
"disp('J',del_U,'(c)Change in Internal energy when 1kg Water added');\n",
"\n",
"//End"
   ]
   }
,
{
		   "cell_type": "markdown",
		   "metadata": {},
		   "source": [
			"## Example 2.3: Find_the_energy_change_in_a_System.sce"
		   ]
		  },
  {
"cell_type": "code",
	   "execution_count": null,
	   "metadata": {
	    "collapsed": true
	   },
	   "outputs": [],
"source": [
"clear;\n",
"clc;\n",
"\n",
"//Example 2.3\n",
"//Caption : Program to find the energy change in a System\n",
"\n",
"//Given values\n",
"\n",
"P_atm=101.3;//Atm Pressure=101.3KPa\n",
"V1=0.1;//Volume1=0.1m^3\n",
"V2=0.2;//Volume2=0.2m^3\n",
"\n",
"//Solution\n",
"\n",
"del_V=V2-V1;\n",
"W_by=P_atm*del_V;\n",
"W_on=-W_by;\n",
"Q=0;\n",
"del_Energy=Q+W_on;//KJ\n",
"disp('KJ',del_Energy,'Energy Change')\n",
"\n",
"//End"
   ]
   }
,
{
		   "cell_type": "markdown",
		   "metadata": {},
		   "source": [
			"## Example 2.4: Find_the_Heat_flow_in_the_Path.sce"
		   ]
		  },
  {
"cell_type": "code",
	   "execution_count": null,
	   "metadata": {
	    "collapsed": true
	   },
	   "outputs": [],
"source": [
"clear;\n",
"clc;\n",
"\n",
"//Example 2.4\n",
"//Caption : Program to find the Heat flow in the Path\n",
"\n",
"//Given values\n",
"W_acb=40;//J\n",
"Q_acb=100;//J\n",
"W_aeb=20;//J\n",
"W_bda=30;//J\n",
"\n",
"//Solution\n",
"\n",
"del_U_ab=Q_acb-W_acb;\n",
"\n",
"//(a)\n",
"Q_aeb=del_U_ab-W_aeb;//J\n",
"disp('J',Q_aeb,'(a)Heat Flow in acb')\n",
"\n",
"//(b)\n",
"del_U_ba=-del_U_ab;//J\n",
"Q_bda=del_U_ba-W_bda;\n",
"disp('J',Q_bda,'(b)Heat Flow in bda')\n",
"\n",
"//End"
   ]
   }
,
{
		   "cell_type": "markdown",
		   "metadata": {},
		   "source": [
			"## Example 2.5: Find_The_degree_of_freedom_for_the_various_systems.sce"
		   ]
		  },
  {
"cell_type": "code",
	   "execution_count": null,
	   "metadata": {
	    "collapsed": true
	   },
	   "outputs": [],
"source": [
"clear;\n",
"clc;\n",
"\n",
"//Example 2.5\n",
"//Caption : Program To Find The degree of freedom for the various systems\n",
"\n",
"//Formula To be Used  F=2-#+N (Where,#(pi)-no of phases,N-number of chemical species)\n",
"\n",
"//(a)-Liquid Water in equllibrium with its vapour.\n",
"N=1;\n",
"pi=2;\n",
"F=2-pi+N;\n",
"disp(F,'(a)Degree Of freedom is');\n",
"\n",
"//(b)-Liquid Water in equllibrium with a mixture of vapour and nitrogen.\n",
"N=2;\n",
"pi=2;\n",
"F=2-pi+N;\n",
"disp(F,'(b)Degree Of freedom is');\n",
"\n",
"//(c)-A liquid Soln of alcohol in water in equillibrium with its vapour\n",
"N=2;\n",
"pi=2;\n",
"F=2-pi+N;\n",
"disp(F,'(c)Degree Of freedom is');\n",
"\n",
"//End"
   ]
   }
,
{
		   "cell_type": "markdown",
		   "metadata": {},
		   "source": [
			"## Example 2.6: Find_the_work_done_by_gas.sce"
		   ]
		  },
  {
"cell_type": "code",
	   "execution_count": null,
	   "metadata": {
	    "collapsed": true
	   },
	   "outputs": [],
"source": [
"clear;\n",
"clc;\n",
"\n",
"//To find Approx Value\n",
"function[A]=approx(V,n)\n",
"  A=round(V*10^n)/10^n;//V-Value  n-To what place\n",
"  funcprot(0)\n",
"endfunction\n",
"\n",
"//Example 2.6\n",
"//Caption : Program to find the work done by gas\n",
"\n",
"//Given values\n",
"P=14;//Pressure=14bar\n",
"V1=0.03;//Initial volume=0.03m^3\n",
"V2=0.06;//Final Volume\n",
"//Process is isothermal\n",
"//(a)-To find the work done by gas in moving the External force\n",
"//(b)-To find the work done by gas if external force is suddenly reduced to half its initial value\n",
"\n",
"//Solution\n",
"//(a)\n",
"K=P*V1*(10^5);//J\n",
"W1=approx(-K*integrate('1/V','V',0.03,0.06),0);//J\n",
"P2=K/V2;//Final Pressure(Pa)\n",
"P2=P2/(10^5);//bar\n",
"disp('J',W1,'(a)The work done by gas in moving the External Force is')\n",
"\n",
"//(b)\n",
"W2=-P2*(10^5)*integrate('1','V',0.03,0.06)\n",
"n=approx((W2/W1)*100,1);//Efficiency\n",
"disp('J',W2,'(b)The work done by gas if external force is reduced to half is')\n",
"disp('%',n,'Hence the efficiency is')\n",
"\n",
"//End"
   ]
   }
,
{
		   "cell_type": "markdown",
		   "metadata": {},
		   "source": [
			"## Example 2.7: Find_the_Enegy_Changes_in_the_Process.sce"
		   ]
		  },
  {
"cell_type": "code",
	   "execution_count": null,
	   "metadata": {
	    "collapsed": true
	   },
	   "outputs": [],
"source": [
"clear;\n",
"clc;\n",
"\n",
"//Example 2.7\n",
"//Caption : Program to find the Enegy Changes in the Process\n",
"\n",
"//Given values\n",
"P=7;//pressure=7bar\n",
"m=45;//Mass of cube\n",
"mt=23;//mass of piston,piston rod,pan\n",
"x=0.5;//Distance moved=0.5m\n",
"g=9.8;//Acceleration Due to gravity(m/s^2)\n",
"\n",
"//Solution \n",
"\n",
"//Acc to Eqn del_U_sys+del_U_surr+del_PE_surr=0\n",
"del_PE_surr=(m+mt)*g*x;\n",
"//ans=del_U_sys+del_U_surr\n",
"disp('J',-del_PE_surr,'Energy Changes in the Process')\n",
"\n",
"//End"
   ]
   }
,
{
		   "cell_type": "markdown",
		   "metadata": {},
		   "source": [
			"## Example 2.8: Find_Change_in_Enthalpy_and_Internal_Energy.sce"
		   ]
		  },
  {
"cell_type": "code",
	   "execution_count": null,
	   "metadata": {
	    "collapsed": true
	   },
	   "outputs": [],
"source": [
"clear;\n",
"clc;\n",
"\n",
"//To find Approx Value\n",
"function[A]=approx(V,n)\n",
"  A=round(V*10^n)/10^n;//V-Value  n-To what place\n",
"  funcprot(0)\n",
"endfunction  \n",
"\n",
"//Example 2.8\n",
"//Caption : Program to find Change in Enthalpy and Internal Energy\n",
"\n",
"//Given values\n",
"m=1;//1kg of water\n",
"T=373.15;//Temp=373.15K(100`C)\n",
"P=101.325;//Pressure=101.325KPa\n",
"V2=1.673;//Final Volume[m^3]\n",
"V1=0.00104;//Initial Volume[m^3]\n",
"Sv_liqiud=0.00104;//Specific Volume of Liqiud\n",
"Sv_vapour=1.673;//Specific Volume of Vapour\n",
"del_H=2256.9;//Heat Added(KJ)\n",
"\n",
"//Solution\n",
"Q=del_H;\n",
"del_V=V2-V1;\n",
"W=P*del_V;//KJ\n",
"del_U=approx(del_H-(P*del_V),1);\n",
"disp('KJ',del_H,'Change in Enthalpy');\n",
"disp('KJ',del_U,'Change in Internal energy');\n",
"//End"
   ]
   }
,
{
		   "cell_type": "markdown",
		   "metadata": {},
		   "source": [
			"## Example 2.9: Find_Work_Heat_del_U_and_del_H.sce"
		   ]
		  },
  {
"cell_type": "code",
	   "execution_count": null,
	   "metadata": {
	    "collapsed": true
	   },
	   "outputs": [],
"source": [
"clear;\n",
"clc;\n",
"\n",
"//Example 2.9\n",
"//Caption : Program To Find Work,Heat,del U and del H\n",
"\n",
"//Given values\n",
"//Initial\n",
"P1=1;//Pressure=1bar\n",
"T1=298.15;//Temp=298.15K(25`C)\n",
"V1=0.02479;//Molar Volume=0.02479m^3/mol\n",
"//Final\n",
"P2=5;//Pressure=5bar\n",
"Cv=20.78;//J/mol/K\n",
"Cp=29.10;//J/mol/K\n",
"\n",
"//to Find del_U,del_H by two processes\n",
"V2=V1*(P1/P2);//m^3(1 mol)\n",
"disp('m^3',V2,'Final Volume')\n",
"\n",
"//Solution\n",
"\n",
"//(a)-Cooling at const pressure followed by heating at const Volume\n",
"T2=T1*(V2/V1);//K\n",
"disp('K',T2,'Final Temperature')\n",
"del_H=round(Cp*(T2-T1));//J\n",
"Q1=del_H;//J\n",
"del_U1=round(del_H-(P1*(10^5)*(V2-V1)));//J\n",
"//Second Step\n",
"del_U2=round(Cv*(T1-T2));//J\n",
"Q2=del_U2;\n",
"Q=Q1+Q2;\n",
"del_U=0;\n",
"W=del_U-Q;//J\n",
"del_H=0;//const Temperature\n",
"\n",
"disp('(a) Cooling at const Pressure Followed by Heating at const Volume')\n",
"disp('J',Q,'Heat Required')\n",
"disp('J',W,'Work Required')\n",
"disp('J',del_H,'Change in enthalpy')\n",
"disp('J',del_U,'Change in Energy')\n",
"//(b)-heating at Const Volume Followed by cooling at const Pressure\n",
"T2=T1*(P2/P1);//K\n",
"del_U1=round(Cv*(T2-T1));//J\n",
"Q1=del_U1;\n",
"del_H=round(Cp*(T1-T2));//J\n",
"Q2=del_H;\n",
"del_U2=round(del_H-(P2*(10^5)*(V2-V1)));//J\n",
"Q=Q1+Q2;\n",
"del_U=0;\n",
"W=del_U-Q;//J\n",
"del_H=0;//const Temperature\n",
"disp('(b) Heating at const Volume Followed by Cooling at const Pressure')\n",
"disp('J',Q,'Heat Required')\n",
"disp('J',W,'Work Required')\n",
"disp('J',del_H,'Change in enthalpy')\n",
"disp('J',del_U,'Change in Energy')\n",
"\n",
"\n",
"//Note\n",
"disp('Note : The Answer varies From That in the book because in Book 4956.44 has been rounded to 4958 which is absurd')\n",
"//End"
   ]
   }
],
"metadata": {
		  "kernelspec": {
		   "display_name": "Scilab",
		   "language": "scilab",
		   "name": "scilab"
		  },
		  "language_info": {
		   "file_extension": ".sce",
		   "help_links": [
			{
			 "text": "MetaKernel Magics",
			 "url": "https://github.com/calysto/metakernel/blob/master/metakernel/magics/README.md"
			}
		   ],
		   "mimetype": "text/x-octave",
		   "name": "scilab",
		   "version": "0.7.1"
		  }
		 },
		 "nbformat": 4,
		 "nbformat_minor": 0
}
