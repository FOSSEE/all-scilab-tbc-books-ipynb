{
"cells": [
 {
		   "cell_type": "markdown",
	   "metadata": {},
	   "source": [
       "# Chapter 8: Production Of Power From Heat"
	   ]
	},
{
		   "cell_type": "markdown",
		   "metadata": {},
		   "source": [
			"## Example 8.1: Find_the_Thermal_efficiency_in_a_Steam_Turbine.sce"
		   ]
		  },
  {
"cell_type": "code",
	   "execution_count": null,
	   "metadata": {
	    "collapsed": true
	   },
	   "outputs": [],
"source": [
"clear;\n",
"clc;\n",
"\n",
"//To find Approx Value\n",
"function[A]=approx(V,n)\n",
"  A=round(V*10^n)/10^n;//V-Value  n-To what place\n",
"  funcprot(0)\n",
"endfunction  \n",
"\n",
"//Example 8.1\n",
"//Caption : Program to Find the Thermal efficiency in a Steam Turbine\n",
"\n",
"//Given Values\n",
"//(a)-As in Example(7.6)\n",
"P1=8600;//[KPa]\n",
"T1=773.15;//[K]\n",
"//values of Enthalpy and Entropy from Steam tables\n",
"H1=3391.6;//[KJ/Kg]\n",
"S1=6.6858;//[KJ/Kg/K]\n",
"\n",
"P2=10;//[KPa]\n",
"S2i=S1;//Isentropic\n",
"\n",
"S2_liquid=0.6493;\n",
"S2_vapor=8.1511;\n",
"H2_liquid=191.8;\n",
"H2_vapor=2584.8;\n",
"\n",
"x2=(S2i-S2_liquid)/(S2_vapor-S2_liquid);\n",
"\n",
"H2i=H2_liquid+(x2*(H2_vapor-H2_liquid));\n",
"del_Hs_1=approx((H2i-H1),1);//[KJ/Kg]\n",
"Ws=del_Hs_1;\n",
"H3i=H2i;\n",
"H4=H2_liquid;\n",
"//Applying Eqn(8.2)\n",
"Q_condenser=approx((H4-H3i),1);//heat Of condenser  [KJ/Kg]\n",
"//From Example(7.10)\n",
"//Properties of saturated liquid water @ 318.15K\n",
"V=1010;//[cm^3/Kg]\n",
"V=1010*10^-6;//[m^3/Kg]\n",
"Beta=425*10^-6;//[K^-1]\n",
"Cp=4.178;//[KJ/Kg/K]\n",
"\n",
"//From Eqn(7.24)\n",
"Ws_2=approx((V*(P1-P2)),1)//[KPa m^3/Kg]\n",
"del_Hs_2=Ws_2;\n",
"H1=H4+del_Hs_2;\n",
"//Enthalpy Of saturated steam at 8600KPa and 773.15K\n",
"H2=3391.6;//[KJ/Kg]\n",
"//Applying Eqn(8.2)\n",
"Q_boiler=H2-H1;\n",
"\n",
"Ws_Rankine=-Q_boiler-Q_condenser;\n",
"eta=approx((abs(Ws_Rankine)/Q_boiler),3);\n",
"disp('(a)Rankine Cycle')\n",
"disp(eta,'Thermal Efficiency')\n",
"\n",
"//(b)\n",
"\n",
"eta_b=0.75;\n",
"\n",
"del_H_1=del_Hs_1*eta_b;\n",
"Ws_turbine=del_H_1;\n",
"H3=H2+del_H_1;\n",
"Q_condenser=H4-H3;\n",
"\n",
"//By Example 7.10 for the pump\n",
"Ws_pump=del_Hs_2/eta_b;\n",
"del_H_2=Ws_pump;\n",
"Ws_net=Ws_turbine+Ws_pump;\n",
"H1=H4+del_H_2;\n",
"\n",
"Q_boiler=H2-H1;\n",
"efficiency=approx(abs(Ws_net)/Q_boiler,4);\n",
"disp('(b)Practical cycle with 0.75 efficiency')\n",
"disp(efficiency,'Thermal Efficiency')\n",
"\n",
"//(c)\n",
"//By rating of Power Cycle\n",
"rWs_net=-80000;//[KJ/s]  Power Rating \n",
"rm=approx(rWs_net/Ws_net,2);\n",
"\n",
"rQ_boiler=approx(rm*Q_boiler/1000,1);//[MW]\n",
"rQ_condenser=approx(rm*Q_condenser/1000,1);//[MW]\n",
"disp('(c)By rating of Power Cycle');\n",
"disp('kg/s',rm,'Steam Rate')\n",
"disp('MW',rQ_boiler,'Heat Transfer rate in boiler')\n",
"disp('MW',rQ_condenser,'Heat Transfer rate in condenser')\n",
"\n",
"//End"
   ]
   }
,
{
		   "cell_type": "markdown",
		   "metadata": {},
		   "source": [
			"## Example 8.4: Find_the_Efficiency_in_a_Gas_Turbine.sce"
		   ]
		  },
  {
"cell_type": "code",
	   "execution_count": null,
	   "metadata": {
	    "collapsed": true
	   },
	   "outputs": [],
"source": [
"clear;\n",
"clc;\n",
"\n",
"//To find Approx Value\n",
"function[A]=approx(V,n)\n",
"  A=round(V*10^n)/10^n;//V-Value  n-To what place\n",
"  funcprot(0)\n",
"endfunction  \n",
"\n",
"//Example 8.4\n",
"//Caption : Program to Find the Efficiency in Various Cycles in a Gas turbine\n",
"\n",
"//Given Values\n",
"K=6;//Pb/Pa\n",
"T1=298.15;//[K]\n",
"Tmax=1033.15;//[K]\n",
"Gamma=1.4;\n",
"\n",
"//(a)  Gamma=1.4\n",
"//From Eqn(8.12)\n",
"eta_a=approx(1-((1/K)^((Gamma-1)/Gamma)),1);\n",
"disp('(a)Efficiency of an ideal air cycle')\n",
"disp(eta_a,'Efficiency')\n",
"\n",
"//(b)  eta_c=0.83  eta_t=0.86\n",
"eta_c=0.83;\n",
"eta_t=0.86;\n",
"K2=Tmax/T1;\n",
"alpha=(K)^((Gamma-1)/Gamma);\n",
"\n",
"//Using Eqn(8.13)\n",
"eta_b=approx(((eta_t*eta_c*K2*(1-(1/alpha)))-(alpha-1))/((eta_c*(K2-1))-(alpha-1)),3);\n",
"disp('(b)Thermal efficiency of an air cycle if the Compressor and Turbine Operate adiabatically')\n",
"disp(eta_b,'Thermal efficiency')\n",
"\n",
"//End"
   ]
   }
],
"metadata": {
		  "kernelspec": {
		   "display_name": "Scilab",
		   "language": "scilab",
		   "name": "scilab"
		  },
		  "language_info": {
		   "file_extension": ".sce",
		   "help_links": [
			{
			 "text": "MetaKernel Magics",
			 "url": "https://github.com/calysto/metakernel/blob/master/metakernel/magics/README.md"
			}
		   ],
		   "mimetype": "text/x-octave",
		   "name": "scilab",
		   "version": "0.7.1"
		  }
		 },
		 "nbformat": 4,
		 "nbformat_minor": 0
}
