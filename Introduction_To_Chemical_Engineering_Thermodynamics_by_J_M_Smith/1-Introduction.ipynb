{
"cells": [
 {
		   "cell_type": "markdown",
	   "metadata": {},
	   "source": [
       "# Chapter 1: Introduction"
	   ]
	},
{
		   "cell_type": "markdown",
		   "metadata": {},
		   "source": [
			"## Example 1.1: Find_the_Astronaut_Mass_and_Weight_on_moon.sce"
		   ]
		  },
  {
"cell_type": "code",
	   "execution_count": null,
	   "metadata": {
	    "collapsed": true
	   },
	   "outputs": [],
"source": [
"clear;\n",
"clc;\n",
"\n",
"//To find Approx Value\n",
"function[A]=approx(V,n)\n",
"  A=round(V*10^n)/10^n;//V-Value  n-To what place\n",
"  funcprot(0)\n",
"endfunction\n",
"\n",
"//Example 1.1\n",
"//Caption : Program To find the Astronaut's Mass and Weight on moon.\n",
"\n",
"//Given values\n",
"\n",
"F=730;//Force(N)\n",
"g_texas=9.792;//Acceleration of gravity in Houston,Texas(m/s^2).\n",
"g_moon=1.67;//Acceleration of gravity at moon(m/s^2).\n",
"\n",
"//Solution\n",
"\n",
"m=approx(F/g_texas,2);//Mass of Astronaut(Kg)\n",
"F_moon=approx(m*g_moon,2);//Force on Moon(N)\n",
"disp('Kg',m,'Mass of Astronaut');\n",
"disp('N',F_moon,'Force on Moon');\n",
"\n",
"//End"
   ]
   }
,
{
		   "cell_type": "markdown",
		   "metadata": {},
		   "source": [
			"## Example 1.2: Find_Gauge_Pressure_and_absolute_Pressure.sce"
		   ]
		  },
  {
"cell_type": "code",
	   "execution_count": null,
	   "metadata": {
	    "collapsed": true
	   },
	   "outputs": [],
"source": [
"clear;\n",
"clc;\n",
"\n",
"//To find Approx Value\n",
"function[A]=approx(V,n)\n",
"  A=round(V*10^n)/10^n;//V-Value  n-To what place\n",
"  funcprot(0)\n",
"endfunction  \n",
"\n",
"//Example 1.2\n",
"//Caption : Program To Find Gauge Pressure and absolute Pressure\n",
"\n",
"//Given values\n",
"\n",
"d=0.01;//Diameter(m)\n",
"m=6.14;//Mass(Kg)\n",
"g=9.82;//Acceleration of gravity\n",
"Pb=748;//Barometric Pressure(Torr)\n",
"\n",
"//Solution\n",
"\n",
"F=approx(m*g,3);//Force(N)\n",
"A=(%pi/4)*d*d;//Area(m^2)\n",
"Pg=approx(F/A,-2);//Gauge Pressure(N/m^2)\n",
"Pa=approx(Pg+(Pb*0.013332*(10^4)),-2);//Absolute Pressure(Pa)\n",
"disp('N',F,'Force ');\n",
"disp('(X 10^4) N/m^2',Pg/10^4,'Gauge Pressure ');\n",
"disp('KPa',Pa/1000,'Absolute Pressure');\n",
"\n",
"//End"
   ]
   }
,
{
		   "cell_type": "markdown",
		   "metadata": {},
		   "source": [
			"## Example 1.3: Find_Pressure_in_a_Manometer.sce"
		   ]
		  },
  {
"cell_type": "code",
	   "execution_count": null,
	   "metadata": {
	    "collapsed": true
	   },
	   "outputs": [],
"source": [
"clear;\n",
"clc;\n",
"\n",
"//To find Approx Value\n",
"function[A]=approx(V,n)\n",
"  A=round(V*10^n)/10^n;//V-Value  n-To what place\n",
"  funcprot(0)\n",
"endfunction  \n",
"\n",
"//Example 1.3\n",
"//Caption : Program To Find Pressure in a Manometer\n",
"\n",
"//Given Values\n",
"\n",
"T=300.15;//Temp=300.15K(27`C)\n",
"h=60.5*(10^-2);//Height=60.5cm\n",
"rho=13530;//Density(Kg/m^3)\n",
"g=9.784;//Acceleration of gravity(m/s^2)\n",
"\n",
"//Solution\n",
"\n",
"P=approx(h*rho*g,0);\n",
"disp('KPa',P/1000,'Pressure in KPa');\n",
"disp('bar',P/100000,'Pressure in bar');\n",
"\n",
"//End"
   ]
   }
,
{
		   "cell_type": "markdown",
		   "metadata": {},
		   "source": [
			"## Example 1.4: Find_the_velocity_and_Energy.sce"
		   ]
		  },
  {
"cell_type": "code",
	   "execution_count": null,
	   "metadata": {
	    "collapsed": true
	   },
	   "outputs": [],
"source": [
"clear;\n",
"clc;\n",
"\n",
"//To find Approx Value\n",
"function[A]=approx(V,n)\n",
"  A=round(V*10^n)/10^n;//V-Value  n-To what place\n",
"  funcprot(0)\n",
"endfunction  \n",
"\n",
"//Example 1.4\n",
"//Caption : Program to find the velocity and Energy \n",
"\n",
"//Given values\n",
"\n",
"M=2500;//Mass=2500Kg\n",
"h1=10;//height1=10m\n",
"h2=100;//height2=100m\n",
"g=9.8;//Acceleration of gravity(m/s^2)\n",
"\n",
"//Solution\n",
"//(a)\n",
"PE1=M*h1*g;//(J)\n",
"disp('J',PE1,'(a)Potential energy of the elevator in its Initial Position')\n",
"\n",
"//(b)\n",
"W=M*g*integrate('1','l',h1,h2);//(J)\n",
"disp('J',W,'(b)Work Done in Raising the Elevator')\n",
"\n",
"//(c)\n",
"PE2=M*g*h2;//(J)\n",
"disp('J',PE2,'(c)Potential energy of the elevator in its Highest Position')\n",
"\n",
"//(d)\n",
"KE2=0;\n",
"PE3=0;\n",
"KE3=PE2;//(J)   //Conservation Of Mechanical Energy\n",
"u=approx((2*KE3/M)^(1/2),2);//(m/s)\n",
"disp('m/s',u,'(d)Velocity of the Elevator')\n",
"disp('J',KE3,'(d)Kinetic Energy of the Elevator')\n",
"\n",
"//(e)\n",
"PE_Spring=KE3;//(J)\n",
"disp('J',PE_Spring,'(e)Potential energy of compressed spring ')\n",
"\n",
"//(f)\n",
"TE=PE1+W;\n",
"disp('J',TE,'(f)Total Energy of the System')\n",
"\n",
"//End"
   ]
   }
],
"metadata": {
		  "kernelspec": {
		   "display_name": "Scilab",
		   "language": "scilab",
		   "name": "scilab"
		  },
		  "language_info": {
		   "file_extension": ".sce",
		   "help_links": [
			{
			 "text": "MetaKernel Magics",
			 "url": "https://github.com/calysto/metakernel/blob/master/metakernel/magics/README.md"
			}
		   ],
		   "mimetype": "text/x-octave",
		   "name": "scilab",
		   "version": "0.7.1"
		  }
		 },
		 "nbformat": 4,
		 "nbformat_minor": 0
}
