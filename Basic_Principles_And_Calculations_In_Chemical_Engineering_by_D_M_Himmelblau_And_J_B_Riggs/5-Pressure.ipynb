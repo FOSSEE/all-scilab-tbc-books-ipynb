{
"cells": [
 {
		   "cell_type": "markdown",
	   "metadata": {},
	   "source": [
       "# Chapter 5: Pressure"
	   ]
	},
{
		   "cell_type": "markdown",
		   "metadata": {},
		   "source": [
			"## Example 5.1: Pressure_Conversion.sce"
		   ]
		  },
  {
"cell_type": "code",
	   "execution_count": null,
	   "metadata": {
	    "collapsed": true
	   },
	   "outputs": [],
"source": [
"clear ;\n",
"clc;\n",
"// Example 5.1\n",
"printf('Example 5.1\n\n');\n",
"//Page no.109\n",
"// Solution\n",
"\n",
"P = 60 ;//[Gpa]\n",
"\n",
"//(a)\n",
"p_atm = (P*(10^6))/101.3 ;//[atm]\n",
"printf('(a) Pressure in atmospheres is %.2e atm\n',p_atm);\n",
"\n",
"//(b)\n",
"p_s = (P*(10^6)*14.696)/101.3 ;//[psia]\n",
"printf(' (b) Pressure in psia is %.2e psia\n',p_s);\n",
"\n",
"// (c)\n",
"p_in = (P*(10^6)*29.92)/101.3 ;//[inches of Hg]\n",
"printf(' (c) Pressure in inches of Hg is %.2e in. Hg\n',p_in);\n",
"\n",
"// (d)\n",
"p_mm = (P*(10^6)*760)/101.3 ;//[mm of Hg]\n",
"printf(' (d) Pressure in mm of Hg is %.2e mm Hg\n',p_mm);"
   ]
   }
,
{
		   "cell_type": "markdown",
		   "metadata": {},
		   "source": [
			"## Example 5.2: Pressure_Conversion.sce"
		   ]
		  },
  {
"cell_type": "code",
	   "execution_count": null,
	   "metadata": {
	    "collapsed": true
	   },
	   "outputs": [],
"source": [
"clear;\n",
"clc;\n",
"// Example 5.2\n",
"printf('Example 5.2\n\n');\n",
"//Page no. 110\n",
"// Solution\n",
"\n",
"b_rd = 28.0 ;//[in. Hg]\n",
"p_rd = 51.0 ;//[psia]\n",
"p_atm = b_rd*14.7/29.92 ;//[psia]\n",
"p_tnk  =  p_atm+p_rd ;//[psia]\n",
"printf(' Pressure in tank in psia is %.1f psia\n',p_tnk);"
   ]
   }
,
{
		   "cell_type": "markdown",
		   "metadata": {},
		   "source": [
			"## Example 5.3: Vacuum_Pressure_Reading.sce"
		   ]
		  },
  {
"cell_type": "code",
	   "execution_count": null,
	   "metadata": {
	    "collapsed": true
	   },
	   "outputs": [],
"source": [
"clear ;\n",
"clc;\n",
"// Example 5.3\n",
"printf('Example 5.3\n\n');\n",
"//Page no. 111\n",
"// Solution\n",
"\n",
"b_rd = 100.0 ;//[kPa]\n",
"gp =  64.5*101.3/76.0 ;//[kPa]\n",
"p_tnk = b_rd-gp ;//[kPa]\n",
"printf(' Absolute Pressure in tank in is %.1f kPa\n',p_tnk);\n",
"printf('  Since absolute pressure in tank(%.1f kPa) is less than 20 kPa , the mice probably will not survive. \n',p_tnk);"
   ]
   }
,
{
		   "cell_type": "markdown",
		   "metadata": {},
		   "source": [
			"## Example 5.4: Calculation_of_Pressure_Difference.sce"
		   ]
		  },
  {
"cell_type": "code",
	   "execution_count": null,
	   "metadata": {
	    "collapsed": true
	   },
	   "outputs": [],
"source": [
"clear ;\n",
"clc;\n",
"// Example 5.4\n",
"printf('Example 5.4\n\n');\n",
"//Page no. 115\n",
"// Solution\n",
"\n",
"df = 1.10*10^3 ;//[kg/m^3]\n",
"d = 1.0*10^3 ;//[kg/m^3]\n",
"g = 9.8 ;//[m/s^2]\n",
"h = 22.0 ;//[mm]\n",
"dP = (df-d)*g*(h*10^(-3)) ;//[Pa]\n",
"printf('Pressure difference across the orifice plate is %.1f Pa.\n',dP);"
   ]
   }
,
{
		   "cell_type": "markdown",
		   "metadata": {},
		   "source": [
			"## Example 5.5: Pressure_Conversion.sce"
		   ]
		  },
  {
"cell_type": "code",
	   "execution_count": null,
	   "metadata": {
	    "collapsed": true
	   },
	   "outputs": [],
"source": [
"clear ;\n",
"clc;\n",
"// Example 5.5\n",
"printf('Example 5.5\n\n');\n",
"//Page no. 117\n",
"// Solution\n",
"\n",
"p_atm=730.0*29.92/760.0 ;//[in. Hg]\n",
"gp= (4.0*29.92)/(2.54*12*33.91) ;//[in. Hg]\n",
"p_air=p_atm-gp ;//[in. Hg]\n",
"printf(' Pressure of the air is %.1f in. Hg.\n',p_air);"
   ]
   }
],
"metadata": {
		  "kernelspec": {
		   "display_name": "Scilab",
		   "language": "scilab",
		   "name": "scilab"
		  },
		  "language_info": {
		   "file_extension": ".sce",
		   "help_links": [
			{
			 "text": "MetaKernel Magics",
			 "url": "https://github.com/calysto/metakernel/blob/master/metakernel/magics/README.md"
			}
		   ],
		   "mimetype": "text/x-octave",
		   "name": "scilab",
		   "version": "0.7.1"
		  }
		 },
		 "nbformat": 4,
		 "nbformat_minor": 0
}
