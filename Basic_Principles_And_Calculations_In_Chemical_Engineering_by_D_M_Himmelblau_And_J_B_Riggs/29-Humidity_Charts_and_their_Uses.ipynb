{
"cells": [
 {
		   "cell_type": "markdown",
	   "metadata": {},
	   "source": [
       "# Chapter 29: Humidity Charts and their Uses"
	   ]
	},
{
		   "cell_type": "markdown",
		   "metadata": {},
		   "source": [
			"## Example 29.1: Determining_Properties_of_Moist_air_from_Humidity_Chart.sce"
		   ]
		  },
  {
"cell_type": "code",
	   "execution_count": null,
	   "metadata": {
	    "collapsed": true
	   },
	   "outputs": [],
"source": [
"clear ;\n",
"clc;\n",
"// Example 29.1\n",
"printf('Example 29.1\n\n');\n",
"//page no. 895\n",
"// Solution fig. E29.1\n",
"// Given \n",
"DBT = 90 ;// Dry bulb temperature - [degree F]\n",
"WBT = 70 ;// Wet bulb temperature - [degree F]\n",
"//Get point A using DBT & WBT. Following information is obtained from humidity chart, fig. E29.1\n",
"printf('(a) The Dew point is located at point B or about 60 degree F, using constant humidity line.\n');\n",
"printf(' (b) By interpolation between 40%% and 30%% RH , you can find point A is at 37%% relative humidity .\n');\n",
"printf(' (c) You can read humidity from the righthand ordinate as 0.0112 lb H2O/lb dry air .\n');\n",
"printf(' (d) By interpolation again between 14.0 cubic feet/lb and 14.5 cubic feet/lb lines , you can find humid volume to be 14.1 cubic feet/lb dry air.\n');\n",
"printf(' (e) The enthalpy value of saturated air with WBT 70 degree F is 34.1 Btu/lb dry air .\n');"
   ]
   }
,
{
		   "cell_type": "markdown",
		   "metadata": {},
		   "source": [
			"## Example 29.2: Heating_at_constant_Humidity.sce"
		   ]
		  },
  {
"cell_type": "code",
	   "execution_count": null,
	   "metadata": {
	    "collapsed": true
	   },
	   "outputs": [],
"source": [
"clear ;\n",
"clc;\n",
"// Example 29.2\n",
"printf('Example 29.2\n\n');\n",
"//page no. 897\n",
"// Solution fig. E29.2\n",
"// Given \n",
"DBT1 = 38 ;// Initial dry bulb temperature - [degree C]\n",
"DBT2 = 86 ;// Final dry bulb temperature - [degree C]\n",
"RH1 = 49 ;// Relative humidity - [%]\n",
"//A is initial and B is final  point , see fig. E29.2 . Dew point is obtained graphically and it is 24.8 degree C,therefore\n",
"printf('The Dew point is unchanged in the process because humidity is unchanged, and it is located at 24.8 degree C.\n');\n",
"// Additional data is obtained from humidity chart , according to book data is as follows\n",
"A_Hsat = 90.0 ;// Enthalpy of saturation at point A- [kJ/kg]\n",
"A_dH = -0.5 ;//Enthalpy deviation-[kJ/kg]\n",
"A_Hact = A_Hsat + A_dH ;// Actual enthalpy at point A -[kJ/kg]\n",
"B_Hsat = 143.3 ;// Enthalpy of saturation at point B- [kJ/kg]\n",
"B_dH = -3.3 ;//Enthalpy deviation -[kJ/kg]\n",
"B_Hact = B_Hsat + B_dH ;// Actual enthalpy at point B -[kJ/kg]\n",
"// Energy balance reduces to Q = del_H \n",
"del_H = B_Hact - A_Hact ;// Total change in enthalpy - [kJ/kg]\n",
"v = 0.91 ;// Specific volume of moist air at point A -[cubic metre / kg]\n",
"Q = del_H/v ;// Heat added per cubic metre of inital moist air -[kJ]\n",
"printf('\n Heat added per cubic metre of inital moist air is %.1f kJ.\n',Q);"
   ]
   }
,
{
		   "cell_type": "markdown",
		   "metadata": {},
		   "source": [
			"## Example 29.3: Cooling_and_Humidification_using_a_Water_Spray.sce"
		   ]
		  },
  {
"cell_type": "code",
	   "execution_count": null,
	   "metadata": {
	    "collapsed": true
	   },
	   "outputs": [],
"source": [
"clear ;\n",
"clc;\n",
"// Example 29.3\n",
"printf('Example 29.3\n\n');\n",
"//page no. 898\n",
"// Solution fig. E29.3b\n",
"// Given \n",
"DBT1 = 40 ;// Initial dry bulb temperature - [degree C]\n",
"DBT2 = 27 ;// Final dry bulb temperature - [degree C]\n",
"// Process is assumed to be adiabatic, therefore  wet bulb temperature is constant\n",
"WBT1 = 22 ;// Initial wet bulb temperature - [degree C]\n",
"WBT2 = WBT1 ;// Final wet bulb temperature - [degree C]\n",
"//A is initial and B is final  point , see fig. E29.3b . Humidity is obtained from humidity chart, according to book the respective humidities are as follows\n",
"H_B = 0.0145 ;// Humidity at point B -[kg H2O/kg dry air]\n",
"H_A = 0.0093 ;// Humidity at point A -[kg H2O/kg dry air]\n",
"Diff = H_B - H_A ;// Moisture added in kg per kilogram of dry air going through humidifier -[kg H2O/kg dry air] \n",
"printf('Moisture added per kilogram of dry air going through humidifier is %.4f kg H2O.\n',Diff);"
   ]
   }
,
{
		   "cell_type": "markdown",
		   "metadata": {},
		   "source": [
			"## Example 29.4: Combined_Material_and_Energy_Balance_for_a_Cooling_Tower.sce"
		   ]
		  },
  {
"cell_type": "code",
	   "execution_count": null,
	   "metadata": {
	    "collapsed": true
	   },
	   "outputs": [],
"source": [
"clear ;\n",
"clc;\n",
"// Example 29.4\n",
"printf('Example 29.4\n\n');\n",
"//page no. 900\n",
"// Solution fig. E29.4\n",
"// Given \n",
"c_bl = 8.30 * 10^6 ;// Capacity of blower - [cubic feet/hr]\n",
"DBT_A = 80 ;// Initial dry bulb temperature of moist air - [degree F]\n",
"DBT_B = 95 ;// Final dry bulb temperature of exit air - [degree F]\n",
"WBT_A = 65 ;// Initial wet bulb temperature of moist air - [degree F]\n",
"WBT_B = 90 ;// Final wet bulb temperature of exit air - [degree F]\n",
"T1_H2O = 120 ;// Initial temperature of water - [degree F]\n",
"T2_H2O = 90 ;// Final temperature of water - [degree F]\n",
"//A is initial and B is final  point , see fig. E29.4 . Humidity is obtained from humidity chart, according to book the respective humidities are as follows\n",
"H_A = 0.0098; // Humidity of air at A - [lb H2O / lb dry air]\n",
"H1_A = 69 ;// Humidity of air at A - [grains H2O / lb dry air]\n",
"delH_A = 30.05 - 0.12; // Enthalpy of entering air -[Btu/lb dry air]\n",
"v_A = 13.82 ;// Specific volume of entering air -[cubic feet/lb dry air]\n",
"H_B = 0.0297;// Humidity of air at B - [lb H2O / lb dry air]\n",
"H1_B = 208 ;// Humidity of air at B - [grains H2O / lb dry air]\n",
"delH_B = 55.93 - 0.10  ;// Enthalpy of exit air -[Btu/lb dry air]\n",
"v_B = 14.65 ;// Specific volume of exit air -[cubic feet/lb dry air]\n",
"Eq_A = c_bl /v_A ;// Entering dry air equivalent of capacity of blower -[lb dry air]\n",
"// Reference temperature for water stream is 32 degree F \n",
"del_H1_H2O = 1*(T1_H2O - 32) ;//Enthalpy of entering water -[Btu/lb H2O]\n",
"del_H2_H2O = 1*(T2_H2O - 32) ;//Enthalpy of exit water -[Btu/lb H2O]\n",
"tr_H2O = H_B - H_A ;// Transfer of water to air -[lb H2O / lb dry air] \n",
"// Energy balance around the entire process yields W -\n",
"W = (delH_B - del_H2_H2O*tr_H2O - delH_A)/(del_H1_H2O - del_H2_H2O) ;// Water entering tower - [lb H2O/lb dry air]\n",
"W1 = W - tr_H2O ;// Water leaving tower -[lb H2O/lb dry air]\n",
"Total_W1 = W1* Eq_A ;// Total water leaving tower -[lb/hr]\n",
"printf('Amount of water cooled per hour is %.2e lb/hr .\n',Total_W1);"
   ]
   }
,
{
		   "cell_type": "markdown",
		   "metadata": {},
		   "source": [
			"## Example 29.5: Drying_of_Chlorella.sce"
		   ]
		  },
  {
"cell_type": "code",
	   "execution_count": null,
	   "metadata": {
	    "collapsed": true
	   },
	   "outputs": [],
"source": [
"clear ;\n",
"clc;\n",
"// Example 29.5\n",
"printf('Example 29.5\n\n');\n",
"//page no. 902\n",
"// Solution fig. E29.5\n",
"// Given \n",
"W = 100 ;// Amount of entering water -[lb/hr]\n",
"H1 = .020 ;// Humidity of entering air -[lb H2O / lb dry air]\n",
"T1 = 155 ;//Temperature of entering air -[degree F]\n",
"DTB = 110 ;// Dry bulb temperature of exit air -[degree F]\n",
"WTB = 100 ;// Wet bulb temperature of exit air -[degree F]\n",
"// Additional data is obtained from humidity chart, it is as follows\n",
"H2 = .0405 ;//Humidity of exit air -[lb H2O / lb dry air]\n",
"del_H = H2 - H1 ;// Change in humidity betwween two states -[lb H2O / lb dry air]\n",
"air_in = (W*1.02)/(del_H * 1)   ;// Amount of wet air entering -[lb]\n",
"mol_air = 29 ;// Molecular wt. of air -[lb]\n",
"Ref_T = 32 + 460 ;// Reference temperature - [ degree R]\n",
"gi_T = 90 + 460; // Given temperature on which calculation is based - [degree R] \n",
"air = (air_in *359*gi_T)/( mol_air*Ref_T) ;// Air consumption of dryer at 90 degree F and 1 atm -[cubic feet]\n",
"printf('Air consumption of dryer at 90 degree F and 1 atm  is %.2e cubic feet .\n',air);"
   ]
   }
],
"metadata": {
		  "kernelspec": {
		   "display_name": "Scilab",
		   "language": "scilab",
		   "name": "scilab"
		  },
		  "language_info": {
		   "file_extension": ".sce",
		   "help_links": [
			{
			 "text": "MetaKernel Magics",
			 "url": "https://github.com/calysto/metakernel/blob/master/metakernel/magics/README.md"
			}
		   ],
		   "mimetype": "text/x-octave",
		   "name": "scilab",
		   "version": "0.7.1"
		  }
		 },
		 "nbformat": 4,
		 "nbformat_minor": 0
}
