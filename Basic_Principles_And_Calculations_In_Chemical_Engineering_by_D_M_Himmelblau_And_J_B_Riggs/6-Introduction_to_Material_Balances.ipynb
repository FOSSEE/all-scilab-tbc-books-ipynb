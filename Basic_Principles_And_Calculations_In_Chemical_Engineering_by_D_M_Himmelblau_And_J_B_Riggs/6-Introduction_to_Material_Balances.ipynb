{
"cells": [
 {
		   "cell_type": "markdown",
	   "metadata": {},
	   "source": [
       "# Chapter 6: Introduction to Material Balances"
	   ]
	},
{
		   "cell_type": "markdown",
		   "metadata": {},
		   "source": [
			"## Example 6.1: A_Material_Balance_for_the_blending_of_Gasoline.sce"
		   ]
		  },
  {
"cell_type": "code",
	   "execution_count": null,
	   "metadata": {
	    "collapsed": true
	   },
	   "outputs": [],
"source": [
"clear ;\n",
"clc;\n",
"// Example 6.1\n",
"printf('Example 6.1\n\n');\n",
"// Page no. 142\n",
"// Solution\n",
"\n",
"// Given\n",
"P_O = 89 ;// Premium octane -[octane/gal]\n",
"S_O = 93 ;// Supereme octane - [octane/gal]\n",
"R_O = 87 ;// Regular octane - [octane/gal]\n",
"CP = 1.269 ;// Cost of premium octane -[$/gal]\n",
"SP = 1.349 ;// Cost of supereme octane -[$/gal]\n",
"RP = 1.149 ;// Cost of regular octane -[$/gal]\n",
"\n",
"// Let x and y fraction of regular octane and supreme octane is blended respectively,therefore: x + y = 1 ...(a)\n",
"// and 89 = 87x + 93y ...(b)\n",
"// Solve equations (a) and (b) simultaneously\n",
"a = [1 1;87 93] ;// Matrix of coefficients of unknown\n",
"b = [1;89] ;// Matrix of constant\n",
"c = a\b ;// Matrix of solutons- x = c(1) , y = c(2)\n",
"cost =  c(1)*RP + c(2)*SP ;// Cost after blending - [$/gal]\n",
"sv = CP - cost ;// Save on blending - [$/gal]\n",
"\n",
"// Check whether there is loss or save\n",
"if (sv<0)\n",
"   then\n",
"    printf('We will not save money by blending.'); \n",
"     \n",
"  else\n",
"      printf('We will save money by blending, and save is %.3f $/gal.',sv); "
   ]
   }
,
{
		   "cell_type": "markdown",
		   "metadata": {},
		   "source": [
			"## Example 6.2: Concentration_of_cells_using_a_Centrifuge.sce"
		   ]
		  },
  {
"cell_type": "code",
	   "execution_count": null,
	   "metadata": {
	    "collapsed": true
	   },
	   "outputs": [],
"source": [
"clear ;\n",
"clc;\n",
"// Example 6.2\n",
"printf('Example 6.2\n\n');\n",
"//Page no. 147\n",
"// Solution\n",
"\n",
"// Basis 1 hour\n",
"fd= 1000.0 ;//feed rate-[L/hr]\n",
"cfd= 500.0;//Weight of cells per litre- [mg/L]\n",
"dn= 1.0 ;//Density of feed-[g/cm^3]\n",
"wp= 50.0 ;// Weight percent of cells in product stream\n",
"Pg=(fd*cfd*dn)/(1000*wp*.01) ;// Mass balance for cells \n",
"printf(' Product flow(P) per hour is %.1f g\n',Pg);\n",
"Dg= (fd*dn*1000) - Pg*(wp*.01) ;// Mass balance for the fluid\n",
"printf('  Discharge flow per hour is %.3e g\n',Dg);"
   ]
   }
,
{
		   "cell_type": "markdown",
		   "metadata": {},
		   "source": [
			"## Example 6.3: Discharge_of_Tank_Residuals_to_the_Environment.sce"
		   ]
		  },
  {
"cell_type": "code",
	   "execution_count": null,
	   "metadata": {
	    "collapsed": true
	   },
	   "outputs": [],
"source": [
"clear ;\n",
"clc;\n",
"// Example 6.3\n",
"printf('Example 6.3\n\n');\n",
"//Page no. 154\n",
"// Solution\n",
"\n",
"//Basis 10000 gal motor oil at an assumed 77 degree fahrenheit\n",
"dn =  0.80 ;//Density of motor oil-[g/cm^3]\n",
"in_ms = (10000*(0.1337)*62.4*dn) ;// Initial mass of motor oil in the tank -[lb]\n",
"printf(' Initial mass of motor oil in the tank is %.1f lb\n',in_ms);\n",
"m_fr = .0015 ;//Mass fractional loss\n",
"printf('  Mass fractional loss is %.4f \n',m_fr);\n",
"Dsg = m_fr*in_ms ;// Mass balance for the fluid\n",
"printf('  Discharge of motor oil on flushing flow for 10000 gal motor oil is %.1f lb\n',Dsg);"
   ]
   }
],
"metadata": {
		  "kernelspec": {
		   "display_name": "Scilab",
		   "language": "scilab",
		   "name": "scilab"
		  },
		  "language_info": {
		   "file_extension": ".sce",
		   "help_links": [
			{
			 "text": "MetaKernel Magics",
			 "url": "https://github.com/calysto/metakernel/blob/master/metakernel/magics/README.md"
			}
		   ],
		   "mimetype": "text/x-octave",
		   "name": "scilab",
		   "version": "0.7.1"
		  }
		 },
		 "nbformat": 4,
		 "nbformat_minor": 0
}
