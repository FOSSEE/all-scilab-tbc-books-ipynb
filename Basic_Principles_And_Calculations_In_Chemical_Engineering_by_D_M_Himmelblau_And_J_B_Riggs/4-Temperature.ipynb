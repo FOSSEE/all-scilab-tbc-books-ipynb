{
"cells": [
 {
		   "cell_type": "markdown",
	   "metadata": {},
	   "source": [
       "# Chapter 4: Temperature"
	   ]
	},
{
		   "cell_type": "markdown",
		   "metadata": {},
		   "source": [
			"## Example 4.1: Temperature_Conversion.sce"
		   ]
		  },
  {
"cell_type": "code",
	   "execution_count": null,
	   "metadata": {
	    "collapsed": true
	   },
	   "outputs": [],
"source": [
"clear ;\n",
"clc;\n",
"\n",
"// Example 4.1\n",
"printf('Example 4.1\n\n');\n",
"//Page no. 92\n",
"// Solution\n",
"\n",
"//(a)\n",
"Temp_c=100 ;//[degree Celsius]\n",
"Temp_k=Temp_c+273 ;//[K]\n",
"printf('(a) Temperature in kelvin is %.2f K\n',Temp_k);\n",
"\n",
"//(b)\n",
"Temp_f=(100*(1.8/1)) +32 ;//[degree Fahrenheit]\n",
"printf(' (b) Temperature in degree Fahrenheit is %.2f \n',Temp_f);\n",
"\n",
"//(c)\n",
"Temp_r= Temp_f + 460 ;//[degree Rankine ]\n",
"printf(' (c) Temperature in degree Rankine is %.2f ',Temp_r);"
   ]
   }
,
{
		   "cell_type": "markdown",
		   "metadata": {},
		   "source": [
			"## Example 4.2: Temperature_Conversion.sce"
		   ]
		  },
  {
"cell_type": "code",
	   "execution_count": null,
	   "metadata": {
	    "collapsed": true
	   },
	   "outputs": [],
"source": [
"clear ;\n",
"clc;\n",
"\n",
"// Example 4.2\n",
"printf('Example 4.2\n\n');\n",
"// Page no. 93\n",
"// Solution\n",
"\n",
"// Given\n",
"// Heat capacity = 139.1 + (1.56*10^-1)Tc J/(g mol* degree C), T is in degree C\n",
"// First convert Tc (Temperature in degree celsius) to TR (in degree R) to get c + dTR, where\n",
"c = 139.1 + (1.56*10^-1)*(-460-32)/1.8 ;\n",
"d = (1.56*10^-1)/1.8;\n",
"\n",
"//Now convert c +dTR to (Btu/lb mol*degree R) to get answer of form a + bTR,where\n",
"a = c*(454/(1055*1.8)) ;\n",
"b = d*(454/(1055*1.8)) ;\n",
"\n",
"printf('The required answer is %.2f + (%.2e)T Btu/(lb mol*degree R) , where T is in degree R .  \n',a,b);"
   ]
   }
],
"metadata": {
		  "kernelspec": {
		   "display_name": "Scilab",
		   "language": "scilab",
		   "name": "scilab"
		  },
		  "language_info": {
		   "file_extension": ".sce",
		   "help_links": [
			{
			 "text": "MetaKernel Magics",
			 "url": "https://github.com/calysto/metakernel/blob/master/metakernel/magics/README.md"
			}
		   ],
		   "mimetype": "text/x-octave",
		   "name": "scilab",
		   "version": "0.7.1"
		  }
		 },
		 "nbformat": 4,
		 "nbformat_minor": 0
}
