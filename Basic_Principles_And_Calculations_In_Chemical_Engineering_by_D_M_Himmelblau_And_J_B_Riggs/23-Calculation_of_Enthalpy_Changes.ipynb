{
"cells": [
 {
		   "cell_type": "markdown",
	   "metadata": {},
	   "source": [
       "# Chapter 23: Calculation of Enthalpy Changes"
	   ]
	},
{
		   "cell_type": "markdown",
		   "metadata": {},
		   "source": [
			"## Example 23.1: Graph_Showing_the_Heat_of_Vaporization_of_Water.sce"
		   ]
		  },
  {
"cell_type": "code",
	   "execution_count": null,
	   "metadata": {
	    "collapsed": true
	   },
	   "outputs": [],
"source": [
"clear ;\n",
"clc;\n",
"// Example 23.1\n",
"printf('Example 23.1\n\n');\n",
"// Page no. 686\n",
"// Solution Fig E23.1\n",
"\n",
"// Given\n",
"x_Tl = [90,92,97,100] ;// Temperature of saturated liquid- [degree C]\n",
"x_Tg = [100,102,107,110] ;// Temperature of saturated vapour- [degree C]\n",
"y_Hl = [376.9,385.3,406.3,418.6] ;// Enthalpy change of saturated liquid -[kJ/kg]\n",
"y_Hg = [2256.44,2251.2,2237.9,2229.86] ;// Enthalpy change of saturated vapour -[kJ/kg]\n",
"plot(x_Tl,y_Hl,x_Tg,y_Hg);\n",
"title('Figure E23.1 Change in enthalpy Vs Temperature ');\n",
"xlabel('T,degree C');\n",
"ylabel('H, kJ/kg');\n",
"xgrid(1);"
   ]
   }
,
{
		   "cell_type": "markdown",
		   "metadata": {},
		   "source": [
			"## Example 23.2: Comparision_of_Various_Sources_to_Estimate_the_Heat_of_Vapourization.sce"
		   ]
		  },
  {
"cell_type": "code",
	   "execution_count": null,
	   "metadata": {
	    "collapsed": true
	   },
	   "outputs": [],
"source": [
"clear ;\n",
"clc;\n",
"// Example 23.2\n",
"printf('Example 23.2\n\n');\n",
"//page no. 687\n",
"// Solution \n",
"// Basis : 1 g mol\n",
"R = 8.314 * 10^-3 ;// Ideal gas constant -[kJ/(g mol * K)]\n",
"Hv = 30.20 ;// Experimental value of heat of vaporization of acetone -[kJ/g]  \n",
"// additional needed data for acetone from Appendix D\n",
"T = 329.2 ;// Normal boiling point of acetone - [K]\n",
"Tc = 508.0 ;// Critical temperature  of acetone - [K]\n",
"Pc = 47.0 ;// Critical presure of acetone -[atm]\n",
"Tbc = T/Tc ;// variable required in etimation equations\n",
"lnPc = log(Pc)  ;//  variable required in etimation equations\n",
"//(a)\n",
"//Using the Clayperon and Antoine's equation(from eqn. 23.2), we get \n",
"// del_Hv=(RBT^2)/(C+T)^2 -- eqn. c:\n",
"//From Appendix G\n",
"B = 2940.46 ;\n",
"C = -35.93 ;\n",
"// using eqn. c\n",
"del_Hv1 = (R*B*T^2)/((C+T)^2) ;//Heat of vapourization -[kJ/g]\n",
"d1 = (abs(Hv - del_Hv1)*100)/Hv ;// differece of experimental and calculated value -[%]\n",
"printf('(a) Heat of vapourization of acetone is %.2f kJ/g mol. And differece of experimental and calculated value is %.1f %% . \n', del_Hv1,d1);\n",
"//(b)\n",
"// Using Chen's equation (from eqn. 23.5)\n",
"del_Hv2 = R*T*((3.978*Tbc - 3.938 +1.555*lnPc)/(1.07 - Tbc)) ;//Heat of vapourization -[kJ/g]\n",
"d2 = (abs(Hv - del_Hv2)*100)/Hv ;// differece of experimental and calculated value -[%]\n",
"printf(' (b) Heat of vapourization of acetone is %.2f kJ/g mol. And differece of experimental and calculated value is %.1f %% . \n', del_Hv2,d2);\n",
"//(c)\n",
"// Using Riedel's Equation , from equation 23.6\n",
"del_Hv3 = 1.093*R*Tc*((Tbc*(lnPc-1))/(0.93-Tbc)) ;//Heat of vapourization -[kJ/g]\n",
"d3 = (abs(Hv - del_Hv3)*100)/Hv ;// differece of experimental and calculated value -[%]\n",
"printf(' (c) Heat of vapourization of acetone is %.2f kJ/g mol. And differece of experimental and calculated value is %.1f %% . \n', del_Hv3,d3);"
   ]
   }
,
{
		   "cell_type": "markdown",
		   "metadata": {},
		   "source": [
			"## Example 23.3: Conversion_of_Units_in_a_Heat_Capacity_Equation.sce"
		   ]
		  },
  {
"cell_type": "code",
	   "execution_count": null,
	   "metadata": {
	    "collapsed": true
	   },
	   "outputs": [],
"source": [
"clear ;\n",
"clc;\n",
"// Example 23.3\n",
"printf('Example 23.3\n\n');\n",
"// Page no. 693\n",
"// Solution\n",
"\n",
"// Given\n",
"// Heat capacity = 2.675*10^4 + (42.27)Tk - 1.425*10^-2Tk^2 J/(kg mol K)\n",
"// First convert heat capacity to Btu/(lb mol*F)  to get c + dT - eT^2, where\n",
"c = (2.675*10^4*.4536)/(1055*1.8) ;\n",
"d = (42.27*.4536)/(1055*1.8) ;\n",
"e = (1.425*10^-2*.4536)/(1055*1.8) ;\n",
"\n",
"//Now convert Tk (Temperature in K) to TF (temperature in F) to get answer of form x + yT - zT^2,where\n",
"x = c + d*460/1.8 - e*((460/1.8)^2) ;\n",
"y = d/1.8;\n",
"z = e/(1.8*1.8) ;\n",
"\n",
"printf('The required answer is %.2e + (%.2e)T - (%.3e) T^2 Btu/(lb mol*F) , where T is in degree F .  \n',x,y,z);\n",
"\n",
"// Note answer in textbook seems wrong by order of 10^-3"
   ]
   }
,
{
		   "cell_type": "markdown",
		   "metadata": {},
		   "source": [
			"## Example 23.4: Fitting_Heat_Capacity_Equation_to_Heat_Capacity_Data.sce"
		   ]
		  },
  {
"cell_type": "code",
	   "execution_count": null,
	   "metadata": {
	    "collapsed": true
	   },
	   "outputs": [],
"source": [
"clear ;\n",
"clc;\n",
"// Example 23.4\n",
"printf('Example 23.4\n\n');\n",
"//page no. 694\n",
"// Solution \n",
"\n",
"\n",
"//Given\n",
"// Cp = a + bT +cT^2\n",
"// we will use the least square procedure defined in Appendix M\n",
"// step 1 : find expression for sum of square of residuals: Sr = sum(Cpi - a - bTi - cTi^2)^2\n",
"\n",
"// step 2 : Now differentiate Sr wrt to each coefficient to get 3 equation in 3 unknown coefficient , the equations are:\n",
"\n",
"     //n*a + sum(Ti)*b +sum(Ti^2)*c = sum(Cpi)                ...Eqn.(a)\n",
"     //sum(Ti)*a + sum(Ti^2)*b +sum(Ti^3)*c = sum(Cpi*Ti)     ...Eqn.(b)\n",
"     //sum(Ti^2)*a + sum(Ti^3)*b +sum(Ti^4)*c = sum(Cpi*Ti^2) ...Eqn.(c)\n",
"     \n",
"// Take all 18 experimenta data in an array Cp\n",
"Cpi = [39.87,39.85,39.90;45.16,45.23,45.17;50.72,51.03,50.90;56.85,56.80,57.02;63.01,63.09,63.14;69.52,69.68,69.63] ;// Array of Cpi(Heat capacity) values\n",
"// Take corresponding temperatures in array T\n",
"Ti = [300,300,300;400,400,400;500,500,500;600,600,600;700,700,700;800,800,800] ;// array of Ti\n",
"Ti_sqr = [300^2,300^2,300^2;400^2,400^2,400^2;500^2,500^2,500^2;600^2,600^2,600^2;700^2,700^2,700^2;800^2,800^2,800^2] ;// array of Ti^2\n",
"Ti_cub = [300^3,300^3,300^3;400^3,400^3,400^3;500^3,500^3,500^3;600^3,600^3,600^3;700^3,700^3,700^3;800^3,800^3,800^3];// array of Ti^3\n",
"Ti_qd = [300^4,300^4,300^4;400^4,400^4,400^4;500^4,500^4,500^4;600^4,600^4,600^4;700^4,700^4,700^4;800^4,800^4,800^4];// array of Ti^4\n",
"Cpi_Ti = [39.87*300,39.85*300,39.90*300;45.16*400,45.23*400,45.17*400;50.72*500,51.03*500,50.90*500;56.85*600,56.80*600,57.02*600;63.01*700,63.09*700,63.14*700;69.52*800,69.68*800,69.63*800] ;// Array of Cpi(Heat capacity)*Ti  values\n",
"Cpi_Ti_sqr = [39.87*300^2,39.85*300^2,39.90*300^2;45.16*400^2,45.23*400^2,45.17*400^2;50.72*500^2,51.03*500^2,50.90*500^2;56.85*600^2,56.80*600^2,57.02*600^2;63.01*700^2,63.09*700^2,63.14*700^2;69.52*800^2,69.68*800^2,69.63*800^2] ;// Array of Cpi(Heat capacity)*Ti^2  values\n",
"\n",
"n = 18 ;// Number of data\n",
"\n",
"// Solve equations (a),(b) & (c) simultaneously using matrix\n",
"a = [n sum(Ti) sum(Ti_sqr);sum(Ti) sum(Ti_sqr) sum(Ti_cub);sum(Ti_sqr) sum(Ti_cub) sum(Ti_qd)] ;// Matrix of coefficients of unknown\n",
"b = [sum(Cpi);sum(Cpi_Ti);sum(Cpi_Ti_sqr)] ;// Matrix of constants\n",
"x = (a)^-1 * b ;// Matrix of solutions a = x(1), b = x(2) , c = x(3) \n",
"\n",
"printf('The solution is Cp = %.2f + %.3e T + %.2e T^2 .\nTherefore coefficients are as follows :',x(1),x(2),x(3));\n",
"printf('\n a = %.2f.\n b = %.3e .\n c = %.2e .',x(1),x(2),x(3));"
   ]
   }
,
{
		   "cell_type": "markdown",
		   "metadata": {},
		   "source": [
			"## Example 23.5: EX23_5.sce"
		   ]
		  },
  {
"cell_type": "code",
	   "execution_count": null,
	   "metadata": {
	    "collapsed": true
	   },
	   "outputs": [],
"source": [
"clear ;\n",
"clc;\n",
"// Example 23.5\n",
"printf('Example 23.5\n\n');\n",
"//page no. 695\n",
"// Solution \n",
"// Basis : 1 g mol of gas\n",
"//Given\n",
"T1 = 550 ;// Initial temperature - [degree F]\n",
"T2 = 200 ;// Final temperature - [degree F]\n",
"CO2 = 9.2/100 ;// Mole fraction \n",
"CO = 1.5/100 ;// Mole fraction \n",
"O2 = 7.3/100 ;// Mole fraction \n",
"N2 = 82.0/100 ;//Mole fraction \n",
"// Additional data needed  :\n",
"// Coefficients in the heat capacity equations  \n",
"a_N2 = 6.895;// constant\n",
"b_N2 = 0.7624*10^-3;// coefficient of T\n",
"c_N2 = -0.7009*10^-7;// coefficient of square T\n",
"a_O2 = 7.104 ;// constant\n",
"b_O2 = (0.7851*10^-3);// coefficient of T\n",
"c_O2 = (-0.5528*10^-7); // coefficient of square T\n",
"a_CO2 = 8.448;// constant\n",
"b_CO2 = 5.757*10^-3;// coefficient of T\n",
"c_CO2 = -21.59*10^-7;// coefficient of square T\n",
"d_CO2 = 3.059*10^-10;// coefficient of cubic T\n",
"a_CO = 6.865 ;// constant\n",
"b_CO = 0.8024*10^-3;// coefficient of T\n",
"c_CO = -0.7367*10^-7; // coefficient of square T\n",
"// New coefficients after multiplying mole fraction of each component\n",
"a1_N2 = 6.895*N2 ;// constant\n",
"b1_N2 = N2*0.7624*10^-3; // coefficient of T\n",
"c1_N2 = (-0.7009*10^-7)*N2; // coefficient of square T \n",
"a1_O2 = 7.104*O2 ;// constant\n",
"b1_O2 = (0.7851*10^-3)*O2;// coefficient of T\n",
"c1_O2 = (-0.5528*10^-7)*O2; // coefficient of square T\n",
"a1_CO2 = 8.448*CO2;// constant\n",
"b1_CO2 = (5.757*10^-3)*CO2;// coefficient of T\n",
"c1_CO2 = (-21.59*10^-7)*CO2; // coefficient of square T\n",
"d1_CO2 = (3.059*10^-10)*CO2; // coefficient of cubic T\n",
"a1_CO = 6.865*CO;// constant\n",
"b1_CO = (0.8024*10^-3)*CO;// coefficient of T\n",
"c1_CO = (-0.7367*10^-7)*CO; // coefficient of square T\n",
"// Get net coefficients of T , square T and cubic T by adding them\n",
"a_net = a1_N2+a1_CO2+a1_CO+a1_O2; //Net constant\n",
"b_net = b1_N2+b1_CO2+b1_CO+b1_O2; //Net coefficient of T\n",
"c_net = c1_N2+c1_CO2+c1_CO+c1_O2 ;//Net coefficient of square T\n",
"d_net = d1_CO2;//Net coefficient of cubic T\n",
"//Cp_net = a_net + b_net*T + c_net*T^2 + d_net*T^3\n",
"// Integrate Cp_net*dT over given temperature range to get change in enthalpy\n",
"del_H = integrate('(a_net )+( b_net*T) + (c_net*(T^2)) + (d_net*(T^3))','T',T1,T2); // Change in enthalpy of gas over given range-[Btu/lb mol gas]\n",
"printf('\n Change in enthalpy of gas over given range is %.0f Btu/lb mol gas .\n ',del_H);"
   ]
   }
,
{
		   "cell_type": "markdown",
		   "metadata": {},
		   "source": [
			"## Example 23.6: Calculation_of_the_Change_in_Enthalpy_for_a_Gas_using_Tabulated_Enthalpy_Values.sce"
		   ]
		  },
  {
"cell_type": "code",
	   "execution_count": null,
	   "metadata": {
	    "collapsed": true
	   },
	   "outputs": [],
"source": [
"clear;\n",
"clc;\n",
"// Example 23.6\n",
"printf('Example 23.6\n\n');\n",
"//page no. 700 \n",
"// Solution \n",
"//Given\n",
"N2 = 1 ;// Moles of N2 - [kg mol]\n",
"P = 100 ;// Pressure of gas - [kPa] \n",
"T1 = 18 ;// Initial temperature - [degree C]\n",
"T2 = 1100  ;// Final temperature - [degree C]\n",
"// In the book it is mentioned to use tables in Appendix D6 to calculate enthalpy change, we get \n",
"H_T1 = 0.524;// Initial enthalpy -[kJ/kg mol]\n",
"H_T2 = 34.715   ;// Final enthalpy - [kJ/kg mol]\n",
"del_H =  H_T2 - H_T1 ;// Change in enthalpy - [kJ/kg]\n",
"printf('\n Change in enthalpy of N2 over given range is %.3f kJ/kg mol N2 .\n ',del_H);"
   ]
   }
,
{
		   "cell_type": "markdown",
		   "metadata": {},
		   "source": [
			"## Example 23.7: Use_of_Steam_Tables_to_Calculate_Change_in_Enthalpy.sce"
		   ]
		  },
  {
"cell_type": "code",
	   "execution_count": null,
	   "metadata": {
	    "collapsed": true
	   },
	   "outputs": [],
"source": [
"clear;\n",
"clc;\n",
"// Example 23.7\n",
"printf('Example 23.7\n\n');\n",
"//page no. 701\n",
"// Solution Fig.E23.7\n",
"//Given\n",
"T1 = 640 ;// Initial temperature -[degree F]\n",
"T2 = 480 ;// Final temperature -[degree F]\n",
"P1 = 92 ;// Initial pressure -[psia]\n",
"P2 = 52 ;// Final pressure - [psia]\n",
"// We need to use steam table to get H value at initial and final condition by interpolation \n",
"//From steam table\n",
"//At 90 psia\n",
"H1_600 = 1328.7 ;//H at 90 psia and 600 F-[Btu/lb]\n",
"H1_700 = 1378.1 ;//H at 90 psia and 700 F-[Btu/lb]\n",
"//At 95 psia\n",
"H2_600 = 1328.4 ;//H at 95 psia and 600 F-[Btu/lb]\n",
"H2_700 = 1377.8 ;//H at 95 psia and 700 F-[Btu/lb]\n",
"//H at 92 psia and 600 F\n",
"H3_600 = H1_600+ ((H2_600-H1_600)/(95-90))*(92-90);//H  at 92 psia and 600 F-[Btu/lb]\n",
"//H  at 92 psia and 700 F\n",
"H3_700 = H1_700+ ((H2_700-H1_700)/(95-90))*(92-90);//H at 92 psia and 700 F-[Btu/lb]\n",
"// Now we need to get V at 92 psia and 640 F\n",
"H3_640 = H3_600+((H3_700-H3_600)/(700-600))*(640-600);//H at 92 psia and 640 F-[Btu/lb]\n",
"//At 50 psia\n",
"H1_450 = 1258.7 ;//H at 50 psia and 450 F-[Btu/lb]\n",
"H1_500 = 1282.6 ;//H at 50 psia and 500 F-[Btu/lb]\n",
"//At 55 psia\n",
"H2_450 = 1258.2 ;//H at 55 psia and 450 F-[Btu/lb]\n",
"H2_500 = 1282.2 ;//H at 55 psia and 500 F-[Btu/lb]\n",
"//V.P at 52 psia and 450 F\n",
"H3_450 = H1_450+ ((H2_450-H1_450)/(55-50))*(52-50) ;//H at 52 psia and 450 F-[Btu/lb]\n",
"//V at 52 psia and 500 F\n",
"H3_500 = H1_500+ ((H2_500-H1_500)/(55-50))*(52-50);//H at 52 psia and 500 F-[Btu/lb]\n",
"// Now we need to get H at 52 psia and 480 F\n",
"H3_480 = H3_450+((H3_500-H3_450)/(500-450))*(480-450);// H at 52 psia and 480 F-[Btu/lb]\n",
"del_H =   H3_480 - H3_640;// Change in enthalpy - [Btu/lb]\n",
"printf('Change in enthalpy is %.1f Btu/lb .\n',del_H);"
   ]
   }
,
{
		   "cell_type": "markdown",
		   "metadata": {},
		   "source": [
			"## Example 23.8: EX23_8.sce"
		   ]
		  },
  {
"cell_type": "code",
	   "execution_count": null,
	   "metadata": {
	    "collapsed": true
	   },
	   "outputs": [],
"source": [
"clear ;\n",
"clc;\n",
"// Example 23.8\n",
"printf('Example 23.8\n\n');\n",
"//page no. 702\n",
"// Solution \n",
"//Given\n",
"W = 4 ;// Mass of water -[kg]\n",
"Ti= 27+273 ;// Initial temperature -[K]\n",
"Pi = 200 ;// Initial pressure -[kPa]\n",
"// Neglect the effect of pressure on vloume of liquid, therefore\n",
"Pf = Pi ;// Final pressure -[kPa]\n",
"// From steam table\n",
"V1 = 0.001004 ;// Specific volume at Ti -[cubic metre/kg]\n",
"V2 = 1000 * V1 ;//Specific volume at final temperature(Tf) from given condition in problem - [cubic metre/kg]\n",
"// We need to do interpolation, look in the steam table to get V so as to bracket 1.004 cubic metre / kg at 200 kPa\n",
"va = 0.9024  ;// Specific volume -[cubic metre/kg]\n",
"Ta = 400 ;// [K]\n",
"vb = 1.025 ;// Specific volume -[cubic metre/kg]\n",
"Tb = 450 ;//[K]\n",
"vf = V2 ;// Final specific volume -[cubic metre/kg]\n",
" \n",
"// Linear interpolation\n",
"m=(Tb - Ta)/(vb - va);// slope \n",
"Tf=Ta + m*(vf - va) ;// Final temperature - [K]\n",
"printf('\n Final temperature is %.0f K.\n',Tf);"
   ]
   }
,
{
		   "cell_type": "markdown",
		   "metadata": {},
		   "source": [
			"## Example 23.9: EX23_9.sce"
		   ]
		  },
  {
"cell_type": "code",
	   "execution_count": null,
	   "metadata": {
	    "collapsed": true
	   },
	   "outputs": [],
"source": [
"clear ;\n",
"clc;\n",
"// Example 23.9\n",
"printf('Example 23.9\n\n');\n",
"//page no. 704\n",
"// Solution \n",
"//Given\n",
"mv = 1 ;// Mass of saturated vapour - [lb]\n",
"P1 = 2 ;// Initial pressure -[atm]\n",
"P2 = 20 ;// Final pressure -[atm]\n",
"// Additional data is obtained from figure 23.6 of the book on page no. 703\n",
"H_2 = 179 ;// Specific enthalpy at 2 atm - [Btu/lb]\n",
"H_20 = 233 ;//  Specific enthalpy at 20 atm - [Btu/lb]\n",
"V_2 = 3.00 ;// Specific volume at 2 atm - [cubic feet/lb]\n",
"V_20 = 0.30 ;//  Specific volume at 20 atm - [cubic feet/lb]\n",
"T_2 = 72 ;// Temperature at 2 atm -[degree F]\n",
"T_20 = 239 ;// Temperature at 20 atm -[degree F]\n",
"del_H = H_20 - H_2 ;// Change in specific enthalpy -[Btu/lb] \n",
"del_V = V_20 - V_2 ;// Change in specific volume -[cubic feet/lb] \n",
"del_T = T_20 - T_2 ;// Change in temperature -[degree F]\n",
"printf('(a) Change in specific enthalpy is %.0f Btu/lb.\n',del_H);\n",
"printf(' (b) Change in specific volume is %.2f cubic feet/lb.\n',del_V);\n",
"printf(' (c) Change in temperature is %.1f degree F.\n',del_T);"
   ]
   }
],
"metadata": {
		  "kernelspec": {
		   "display_name": "Scilab",
		   "language": "scilab",
		   "name": "scilab"
		  },
		  "language_info": {
		   "file_extension": ".sce",
		   "help_links": [
			{
			 "text": "MetaKernel Magics",
			 "url": "https://github.com/calysto/metakernel/blob/master/metakernel/magics/README.md"
			}
		   ],
		   "mimetype": "text/x-octave",
		   "name": "scilab",
		   "version": "0.7.1"
		  }
		 },
		 "nbformat": 4,
		 "nbformat_minor": 0
}
