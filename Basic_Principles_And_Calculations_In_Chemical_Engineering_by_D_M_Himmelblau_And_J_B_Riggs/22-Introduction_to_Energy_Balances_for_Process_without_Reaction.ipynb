{
"cells": [
 {
		   "cell_type": "markdown",
	   "metadata": {},
	   "source": [
       "# Chapter 22: Introduction to Energy Balances for Process without Reaction"
	   ]
	},
{
		   "cell_type": "markdown",
		   "metadata": {},
		   "source": [
			"## Example 22.1: Application_of_the_Energy_Balance_to_a_Closed_System.sce"
		   ]
		  },
  {
"cell_type": "code",
	   "execution_count": null,
	   "metadata": {
	    "collapsed": true
	   },
	   "outputs": [],
"source": [
"clear;\n",
"clc;\n",
"// Example 22.1\n",
"printf('Example 22.1\n\n');\n",
"//page no. 651\n",
"// Solution\n",
"//Assume that properties of water can be used to substitute properties of solution\n",
"// Given\n",
"V = 1.673 ;// Volume of closed vessel-[cubic metre]\n",
"m = 1 ;// mass of saturated liquid vaporized-[kg]\n",
"Pi = 1 ;// Initial pressure -[atm]\n",
"Ti = 10 ;// Initial temperature -[degree C]\n",
"Pf = 1 ;// final pressure -[atm]\n",
"Tf = 100 ;// final temperature -[degree C]\n",
"// Use steam table to obtain additional information at given condition\n",
"Ui = 35 ;// Initial enthalpy-[kJ/kg]\n",
"Uf = 2506.0 ;// Final enthalpy -[kJ/kg]\n",
"// Use eqn. 22.2 after modifiying it using given conditions(W = 0,del_KE = 0 and del_PE = 0 )\n",
"Q = m*(Uf - Ui) ;// Heat transferred to  the vessel - [kJ]\n",
"printf('\nHeat transferred to  the vessel is %.1f kJ .\n ',Q);"
   ]
   }
,
{
		   "cell_type": "markdown",
		   "metadata": {},
		   "source": [
			"## Example 22.2: Calculation_of_delta_U_using_American_Engineering_Units.sce"
		   ]
		  },
  {
"cell_type": "code",
	   "execution_count": null,
	   "metadata": {
	    "collapsed": true
	   },
	   "outputs": [],
"source": [
"clear ;\n",
"clc;\n",
"// Example 22.2\n",
"printf('Example 22.2\n\n');\n",
"//page no. 652\n",
"// Solution\n",
"// Given\n",
"T1 = 80 ;// Initial temperature -[degree F]\n",
"T1 = 40 ;// final temperature -[degree F]\n",
"// Additional data obtained from steam table at given temperatures and corresponding vapour pressures\n",
"p1 = 0.5067 ;// Initial saturation pressure-[psia]\n",
"p2 = 0.1217 ;// Final saturation pressure-[psia]\n",
"V1 = 0.01607 ;// Initial specific volume - [cubic feet/lb]\n",
"V2 = 0.01602 ;// Final specific volume - [cubic feet/lb]\n",
"H1 = 48.02 ;//Initial specific enthalpy -[Btu/lb]\n",
"H2 = 8.05 ;// Final specific  enthalpy -[Btu/lb]\n",
"del_P = p2 - p1 ;// Change in pressure -[psia]\n",
"del_V = V2 - V1 ;// Change in specific volume -[cubic feet/lb]\n",
"del_H = H2 - H1 ;// Change in specific enthalpy -[Btu/lb]\n",
"del_pV = p2*144*V2/778 - p1*144*V1/778 ;// Change in pv-[Btu]\n",
"del_U = del_H - del_pV ;// Change in specific internal energy - [Btu/lb]\n",
"del_E = del_U ;// Change in specific total energy(since KE=0,PE=0 and W=0) -[Btu/lb]\n",
"printf('\nChange in pressure is %.3f psia .\n ',del_P);\n",
"printf('\nChange in specific volume is %.5f cubic feet/lb (negligible value) .\n ',del_V);\n",
"printf('\nChange in specific enthalpy is %.2f Btu/lb .\n ',del_H);\n",
"printf('\nChange in specific internal energy is %.2f Btu/lb .\n ',del_U);\n",
"printf('\nChange in specific total energy is %.2f Btu/lb .\n ',del_E);"
   ]
   }
,
{
		   "cell_type": "markdown",
		   "metadata": {},
		   "source": [
			"## Example 22.3: Energy_Balance_to_analyze_an_Open_Unsteady_State_System.sce"
		   ]
		  },
  {
"cell_type": "code",
	   "execution_count": null,
	   "metadata": {
	    "collapsed": true
	   },
	   "outputs": [],
"source": [
"clear ;\n",
"clc;\n",
"// Example 22.3\n",
"printf('Example 22.3\n\n');\n",
"//page no. 662\n",
"// Solution fig.E22.3a\n",
"//Lets take tank to be system\n",
"// Given\n",
"T = 600 ; // Temperature of steam  -[K]\n",
"P = 1000 ;// Pressure of steam -[kPa]\n",
"// Additional data for steam obtained from CD database at T and P\n",
"U = 2837.73 ;// Specific internal energy-[kJ/kg]\n",
"H = 3109.44 ;// Specific enthalpy -[kJ/kg]\n",
"V = 0.271 ;// Specific volume -[cubic metre/kg]\n",
"// Use eqn. 22.6 to get change in specific internal energy,by simplifing it with following assumption:\n",
"//1. Change in KE and PE of system = 0, therefore change in total energy = change in internal energy\n",
"//2. W = 0,work done by or on the system\n",
"//3. Q = 0 , system is well insulated\n",
"//4. Change in KE and PE of entering steam = 0\n",
"//5. H_out = 0, no stream exits the system\n",
"//6. Ut1 = 0, initially no mass exists in the system\n",
"// By the reduced equation \n",
"Ut2 = H ;// Internal energy at final temperature-[kJ/kg]\n",
"printf('\nThe specific internal energy at final temperature is %.2f kJ/kg. \nNow use two properties of the steam (P = %i kPa and Ut2 = %.2f kJ/kg) to find final temperature (T) from steam table. \nFrom steam table we get T = 764 K.',Ut2,P,Ut2);"
   ]
   }
,
{
		   "cell_type": "markdown",
		   "metadata": {},
		   "source": [
			"## Example 22.4: Application_of_Energy_Balance_to_an_Open_Steady_State_System.sce"
		   ]
		  },
  {
"cell_type": "code",
	   "execution_count": null,
	   "metadata": {
	    "collapsed": true
	   },
	   "outputs": [],
"source": [
"clear;\n",
"clc;\n",
"// Example 22.4\n",
"printf('Example 22.4\n\n');\n",
"//page no. 669\n",
"// Solution \n",
"// Take milk plus water in tank to be system\n",
"// Given\n",
"T1_water = 70  ;// Temperature of entering water  -[degree C]\n",
"T2_water = 35 ;// Temperature of exiting water  -[degree C]\n",
"T1_milk = 15 ;//Temperature of entering milk  -[degree C]\n",
"T2_milk = 25 ;//Temperature of exiting milk  -[degree C]\n",
"// Get additional data from steam table for water and milk,assuming milk to have same properties as that of water.\n",
"H_15 = 62.01 ;//Change in specific internal energy-[kJ/kg]\n",
"H_25 = 103.86  ;//Change in specific internal energy-[kJ/kg]\n",
"H_35 = 146.69  ;//Change in specific internal energy-[kJ/kg]\n",
"H_70 = 293.10  ;//Change in specific internal energy-[kJ/kg]\n",
"// Assumptions to simplify Equation 22.8 are:\n",
"printf('\nAssumptions to simplify Equation 22.8 are:\n');\n",
"printf('1. Change in KE and PE of system = 0.\n');\n",
"printf('2. Q = 0 ,because of way we picked the system,it is is well insulated.\n');\n",
"printf('3. W = 0,work done by or on the system.\n');\n",
"//Basis m_milk = 1 kg/min , to directly get the answer  .\n",
"m_milk = 1 ;// Mass flow rate of milk-[kg/min]\n",
"// By applying above assumtions eqn. 22.8 reduces to del_H = 0 .Using it get m_water-\n",
"m_water = (m_milk*(H_15 - H_25))/(H_35 - H_70) ; // Mass flow rate of water-[kg/min]\n",
"m_ratio = m_water/m_milk ;// Mass flow rate of water per kg/min of milk-[kg/min]\n",
"printf('\nMass flow rate of water per kg/min of milk is %.2f (kg water/min )/(kg milk/min).',m_ratio);"
   ]
   }
,
{
		   "cell_type": "markdown",
		   "metadata": {},
		   "source": [
			"## Example 22.5: Calculation_of_Power_needed_to_Pump_Water.sce"
		   ]
		  },
  {
"cell_type": "code",
	   "execution_count": null,
	   "metadata": {
	    "collapsed": true
	   },
	   "outputs": [],
"source": [
"clear ;\n",
"clc;\n",
"// Example 22.5\n",
"printf('Example 22.5\n\n');\n",
"//page no. 670\n",
"// Solution \n",
"// Take pipe between initial and final level of water\n",
"// Given\n",
"h_in = -20 ;// Depth of water below ground-[ft]\n",
"h_out = 5 ;// Height of water level above ground-[ft]\n",
"h = h_out - h_in ;// Total height to which water is pumped-[ft]\n",
"V = 0.50 ;// Volume flow rate of water - [cubic feet/s]\n",
"ef = 100; // Efficiency of pump - [%] \n",
"g = 32.2; // Acceleration due to gravity -[ft/square second] \n",
"gc = 32.2 ;//[(ft*lbm)/(second square*lbf)]\n",
"M = V * 62.4 ;// mass flow rate - [lbm/s]\n",
"PE_in = 0 ;// Treating initial water level to be reference level\n",
"PE_out = (M*g*h*1.055)/(gc*778.2) ;// PE of discharged water -[lbm*(square feet/square second)]\n",
"// Assumptions to simplify Equation 22.8 are:\n",
"//1. Change in KE = 0.\n",
"//2. Q = 0 -By given assumption\n",
"//3. Let us assume that temperature of water is same in well and when it is discharged, therefore del_H = 0\n",
"// Reduced equation is W = del_PE, using this:\n",
"W = PE_out - PE_in ;//Work done on system = power delivered by pump, (since we are using mass flow rate and pump efficiency is 100 % , so W = Power) -[kW]\n",
"printf('The electric power required by the pump is %.2f kW. \n', W);"
   ]
   }
],
"metadata": {
		  "kernelspec": {
		   "display_name": "Scilab",
		   "language": "scilab",
		   "name": "scilab"
		  },
		  "language_info": {
		   "file_extension": ".sce",
		   "help_links": [
			{
			 "text": "MetaKernel Magics",
			 "url": "https://github.com/calysto/metakernel/blob/master/metakernel/magics/README.md"
			}
		   ],
		   "mimetype": "text/x-octave",
		   "name": "scilab",
		   "version": "0.7.1"
		  }
		 },
		 "nbformat": 4,
		 "nbformat_minor": 0
}
