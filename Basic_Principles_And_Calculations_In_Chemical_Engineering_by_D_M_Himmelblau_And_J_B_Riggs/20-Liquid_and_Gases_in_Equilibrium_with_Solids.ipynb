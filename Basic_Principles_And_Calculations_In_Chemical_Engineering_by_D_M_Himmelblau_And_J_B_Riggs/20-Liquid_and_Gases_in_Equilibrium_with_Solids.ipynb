{
"cells": [
 {
		   "cell_type": "markdown",
	   "metadata": {},
	   "source": [
       "# Chapter 20: Liquid and Gases in Equilibrium with Solids"
	   ]
	},
{
		   "cell_type": "markdown",
		   "metadata": {},
		   "source": [
			"## Example 20.1: Fitting_Adsorption_Isotherms_to_Experimental_Data.sce"
		   ]
		  },
  {
"cell_type": "code",
	   "execution_count": null,
	   "metadata": {
	    "collapsed": true
	   },
	   "outputs": [],
"source": [
"clear ;\n",
"clc;\n",
"// Example 20.1\n",
"printf('Example 20.1\n\n');\n",
"// Page no. 594\n",
"// Solution Fig E20.1\n",
"\n",
"// Given\n",
"p_CO2 = [0,25,50,100,200,400,760] ;// Values of partial pressure of CO2 - [mm Hg]\n",
"y = [0,6.69*10^-2,9.24*10^-2,0.108,0.114,0.127,0.137] ;// adsorption of CO2 -[g adorbed / g seives]\n",
"\n",
"// R square is a perfect fit\n",
"plot(p_CO2,y);\n",
"title('Figure E20.1 The Freundlich and Langmuir iotherms coincide for the adsorption of CO2 on 5A molecular seives');\n",
"xlabel('P- partial pressure of CO2');\n",
"ylabel('y');\n",
"xgrid(1);"
   ]
   }
,
{
		   "cell_type": "markdown",
		   "metadata": {},
		   "source": [
			"## Example 20.2: Seperation_of_Biochemicals_by_Solvent_Extraction.sce"
		   ]
		  },
  {
"cell_type": "code",
	   "execution_count": null,
	   "metadata": {
	    "collapsed": true
	   },
	   "outputs": [],
"source": [
"clear;\n",
"clc;\n",
"// Example 20.2\n",
"printf('Example 20.2\n\n');\n",
"//page no. 596\n",
"// Solution \n",
"//Given\n",
"G = 1000 ;// Volume of solution - [L]\n",
"S_ad = 1.56 ;// amount of Steptomycin adsorbed per gram resin-[g strep./g resin]\n",
"cn_S = 6 ;// Concentration of streptomycin solution-[g/L]\n",
"// Assume equilibrium occurs so that total(max) amount of streptomycin is adsorbed \n",
"max_S = cn_S*G ;// Maximum streptomycin adsorbed-[g]\n",
"//Use streptomycin balance to get amount of resin required \n",
"R = max_S/S_ad ;//Amount of resin required to adsorb required amount of streptomycin\n",
"printf('Amount of resin required to adsorb required amount of streptomycin is %.0f g .\n ',R);"
   ]
   }
,
{
		   "cell_type": "markdown",
		   "metadata": {},
		   "source": [
			"## Example 20.3: Combination_of_an_Adsorption_Isotherm_with_a_Material_Balance.sce"
		   ]
		  },
  {
"cell_type": "code",
	   "execution_count": null,
	   "metadata": {
	    "collapsed": true
	   },
	   "outputs": [],
"source": [
"clear ;\n",
"clc;\n",
"// Example 20.3\n",
"printf('Example 20.3\n\n');\n",
"//page no. 596\n",
"// Solution \n",
"//Given\n",
"G = 1000 ;// Volume of solution - [L]\n",
"x = [19.2,17.2,12.6,8.6,3.4,1.4]  ;// concentration of solute- [g/L] \n",
"ac = [0,0.01,0.04,0.08,0.20,0.40]  ;// Activated charcoal added-[g/1000g sol] \n",
"// Assume all concentration can be treated as g solute/1000 g sol.\n",
"y2 = (x(1)-x(2))/ac(2)  ;// -[ g solute/g carbon]\n",
"y3 = (x(1)-x(3))/ac(3)  ;// -[ g solute/g carbon]\n",
"y4 = (x(1)-x(4))/ac(4)  ;// -[ g solute/g carbon]\n",
"y5 = (x(1)-x(5))/ac(5)  ;// -[ g solute/g carbon]\n",
"y6 = (x(1)-x(6))/ac(6)  ;// -[ g solute/g carbon]\n",
"// Use polymath to get Freundlich isotherm to bo y= 37.919*x^(0.583)\n",
"y = 37.919*x(6)^(0.583) ;//From Freundlich isotherm\n",
"A_by_G = (x(1)-x(6))/y ;//Minimum mss of activated carbon required- [g carbon/1000 g sol.]\n",
"printf('Minimum mass of activated carbon required is %.2f g carbon/1000 g sol. \n ',A_by_G);"
   ]
   }
],
"metadata": {
		  "kernelspec": {
		   "display_name": "Scilab",
		   "language": "scilab",
		   "name": "scilab"
		  },
		  "language_info": {
		   "file_extension": ".sce",
		   "help_links": [
			{
			 "text": "MetaKernel Magics",
			 "url": "https://github.com/calysto/metakernel/blob/master/metakernel/magics/README.md"
			}
		   ],
		   "mimetype": "text/x-octave",
		   "name": "scilab",
		   "version": "0.7.1"
		  }
		 },
		 "nbformat": 4,
		 "nbformat_minor": 0
}
