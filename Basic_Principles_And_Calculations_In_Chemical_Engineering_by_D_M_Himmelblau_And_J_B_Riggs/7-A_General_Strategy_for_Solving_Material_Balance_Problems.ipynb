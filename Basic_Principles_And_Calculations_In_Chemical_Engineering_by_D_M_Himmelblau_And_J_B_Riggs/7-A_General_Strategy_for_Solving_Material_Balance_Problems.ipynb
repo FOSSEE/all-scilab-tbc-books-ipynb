{
"cells": [
 {
		   "cell_type": "markdown",
	   "metadata": {},
	   "source": [
       "# Chapter 7: A General Strategy for Solving Material Balance Problems"
	   ]
	},
{
		   "cell_type": "markdown",
		   "metadata": {},
		   "source": [
			"## Example 7.1: Understanding_the_Problem.sce"
		   ]
		  },
  {
"cell_type": "code",
	   "execution_count": null,
	   "metadata": {
	    "collapsed": true
	   },
	   "outputs": [],
"source": [
"clear ;\n",
"clc;\n",
"// Example 7.1\n",
"printf('Example 7.1\n\n');\n",
"//Page no.169\n",
"// Solution\n",
"\n",
"v_ts = 105.0 ;// velocity of train wrt station-[cm/s]\n",
"v_mt = 30.0 ;// velocity of man wrt train-[cm/s]\n",
"v_hm = 2.0 ;// velocity of hot dough wrt man-[cm/s]\n",
"v_am = 1.0 ;// velocity of ant wrt man- [cm/s]\n",
"// By careful reading of problem you can see that ant is moving away from man's mouth at 1 cm/s , so ant's velocity wrt station is say v_as\n",
"v_as  =  v_ts + v_mt + v_am;\n",
"printf(' The ant is moving towards station at the rate of %.1f cm/s.\n',v_as);"
   ]
   }
,
{
		   "cell_type": "markdown",
		   "metadata": {},
		   "source": [
			"## Example 7.2: Drawing_a_Sketch_of_a_Mixing_Process.sce"
		   ]
		  },
  {
"cell_type": "code",
	   "execution_count": null,
	   "metadata": {
	    "collapsed": true
	   },
	   "outputs": [],
"source": [
"clear ;\n",
"clc;\n",
"// Example 7.2\n",
"printf('Example 7.2\n\n');\n",
"// Page no. 169\n",
"// Solution Fig. E7.2\n",
"\n",
"printf('Drawing as in fig E7.2 is not possible with scilab.')"
   ]
   }
,
{
		   "cell_type": "markdown",
		   "metadata": {},
		   "source": [
			"## Example 7.3: Placing_the_unknown_Information_on_the_Diagram.sce"
		   ]
		  },
  {
"cell_type": "code",
	   "execution_count": null,
	   "metadata": {
	    "collapsed": true
	   },
	   "outputs": [],
"source": [
"clear ;\n",
"clc;\n",
"// Example 7.3\n",
"printf('Example 7.3\n\n');\n",
"// Page no. 171\n",
"// Solution Fig. E7.3\n",
"\n",
"printf('Drawing as in fig E7.3 is not possible with scilab.')"
   ]
   }
,
{
		   "cell_type": "markdown",
		   "metadata": {},
		   "source": [
			"## Example 7.4: Analyisis_of_the_Degrees_of_Freedom.sce"
		   ]
		  },
  {
"cell_type": "code",
	   "execution_count": null,
	   "metadata": {
	    "collapsed": true
	   },
	   "outputs": [],
"source": [
"clear ;\n",
"clc;\n",
"// Example 7.4\n",
"printf('Example 7.4\n\n');\n",
"//Page no. 180\n",
"// Solution\n",
"\n",
"n_un= 7 ;// Number of unknowns in the given problem- 3 values of xi and 4 values Fi\n",
"n_ie = 5 ;// Number of independent equations\n",
"// Summary of independent equations\n",
"// Three material balances:CH4,C2H6 and N2\n",
"// One specified ratio: moles of CH4 to C2H6 equal 1.5 \n",
"// One summation of mole fraction in mixture equals 1\n",
"d_o_f = n_un-n_ie ;// No. of degree of freedom\n",
"\n",
"printf('Number of degree of freedom for the given system is  %i .\n',d_o_f);"
   ]
   }
,
{
		   "cell_type": "markdown",
		   "metadata": {},
		   "source": [
			"## Example 7.5: Analysis_of_Degree_of_Freedom_in_the_Production_of_Biomass.sce"
		   ]
		  },
  {
"cell_type": "code",
	   "execution_count": null,
	   "metadata": {
	    "collapsed": true
	   },
	   "outputs": [],
"source": [
"clear ;\n",
"clc;\n",
"// Example 7.5\n",
"printf('Example 7.5\n\n');\n",
"//Page no. 182\n",
"// Solution\n",
"\n",
"n_un=8 ;// Number of unknowns in the given problem- 8 values of mole fractions\n",
"n_ie =6 ;// Number of independent equations- six elemental balances \n",
"d_o_f= n_un-n_ie ;// Number of degree of freedom\n",
"printf('Number of degree of freedom for the given system is %i .\n',d_o_f);\n",
"//Note: Experiments show that the change in CH1.8O.5N.16S.0045P.0055 and the change in C(alpha)H(beta)O(gamma) prove to be related by amount of biomass present and the maintenance coefficient(the moles of substrate per mole of biomass per second) so the respective quantities cannot be chosen independently.Consequently with this extra constraint,only one degree of freedom remains to be specified, the basis"
   ]
   }
],
"metadata": {
		  "kernelspec": {
		   "display_name": "Scilab",
		   "language": "scilab",
		   "name": "scilab"
		  },
		  "language_info": {
		   "file_extension": ".sce",
		   "help_links": [
			{
			 "text": "MetaKernel Magics",
			 "url": "https://github.com/calysto/metakernel/blob/master/metakernel/magics/README.md"
			}
		   ],
		   "mimetype": "text/x-octave",
		   "name": "scilab",
		   "version": "0.7.1"
		  }
		 },
		 "nbformat": 4,
		 "nbformat_minor": 0
}
