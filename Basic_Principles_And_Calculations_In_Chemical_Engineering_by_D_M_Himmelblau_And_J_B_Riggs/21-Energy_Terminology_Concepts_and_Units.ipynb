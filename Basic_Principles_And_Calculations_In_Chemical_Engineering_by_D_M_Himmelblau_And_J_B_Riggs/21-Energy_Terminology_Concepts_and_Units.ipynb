{
"cells": [
 {
		   "cell_type": "markdown",
	   "metadata": {},
	   "source": [
       "# Chapter 21: Energy Terminology Concepts and Units"
	   ]
	},
{
		   "cell_type": "markdown",
		   "metadata": {},
		   "source": [
			"## Example 21.1: EX21_1.sce"
		   ]
		  },
  {
"cell_type": "code",
	   "execution_count": null,
	   "metadata": {
	    "collapsed": true
	   },
	   "outputs": [],
"source": [
"clear ;\n",
"clc;\n",
"// Example 21.1\n",
"printf('Example 21.1\n\n');\n",
"//page no. 616\n",
"// Solution Fig. E21.1a and E21.1b\n",
"//Given\n",
"V1 = 0.1 ;// Volume of gas initially -[cubic metres]\n",
"V2 = 0.2 ;// Volume of gas finally -[cubic metres]\n",
"T1 = 300 ;// Temperature of gas initially -[K]\n",
"P1 = 200 ;// Pressure of gas finally -[kPa]\n",
"R = 8.314 ;// Universal gas constant \n",
"n = (P1*V1)/(T1*R) ;// Moles of gas taken-[kg mol]\n",
"//You are asked to calculate work by eqn. 21.1 , but you do not know the F(force) exerted by gas , so write F = P.A, multiply divide A and eqn 21.1 reduces to W= integate(P.dv)\n",
"//(a)\n",
"// Isobaric process see fig E21.1b to see the path followed\n",
"W= integrate('-(P1)','V',V1,V2) ;// Work done by gas on piston -[kJ]\n",
"printf('\n (a)Work done by gas on piston for isobaric process is %.0f kJ .\n ',W);\n",
"//(b)\n",
"// Isobaric process see fig E21.1b to see the path followed\n",
"W= integrate('-(T1*R*n/V)','V',V1,V2) ;// Work done by gas on piston -[kJ]\n",
"printf('(b)Work done by gas on piston for isothermal process is %.2f kJ .\n ',W);"
   ]
   }
,
{
		   "cell_type": "markdown",
		   "metadata": {},
		   "source": [
			"## Example 21.2: Calculation_of_the_Specific_Kinetic_Energy_for_a_Flowing_Fluid.sce"
		   ]
		  },
  {
"cell_type": "code",
	   "execution_count": null,
	   "metadata": {
	    "collapsed": true
	   },
	   "outputs": [],
"source": [
"clear ;\n",
"clc;\n",
"// Example 21.2\n",
"printf('Example 21.2\n\n');\n",
"//page no. 624\n",
"// Solution \n",
"//Given\n",
"id = 3 ;// Internal diameter of tube-[cm]\n",
"Vf = 0.001 ;// Volume flow rate of water in tube-[cubic meter/s]\n",
"rho = 1000 ;// Assumed density of water-[kg/cubic meter] \n",
"rad = id/2 ;// Radius of tube -[ cm]\n",
"a = 3.14*rad^2 ;// Area of flow of tube -[squqre centimeter]\n",
"v = Vf*(100)^2/a ;// Velocity of water in tube - [m/s]\n",
"KE = v^2/2 ;// Specific(mass=1kg) kinetic energy of water in tube -[J/kg]\n",
"printf('Specific kinetic energy of water in tube is %.2f J/kg .\n ',KE);"
   ]
   }
,
{
		   "cell_type": "markdown",
		   "metadata": {},
		   "source": [
			"## Example 21.3: Calculation_of_Potential_Energy_Change_in_Water.sce"
		   ]
		  },
  {
"cell_type": "code",
	   "execution_count": null,
	   "metadata": {
	    "collapsed": true
	   },
	   "outputs": [],
"source": [
"clear ;\n",
"clc;\n",
"// Example 21.3\n",
"printf('Example 21.3\n\n');\n",
"//page no. 626\n",
"// Solution \n",
"//Given\n",
"// Let water level in first reservoir be the reference plane\n",
"h = 40 ;// Difference of water-[ft]\n",
"g = 32.2 ;// acceleration due to gravity-[ft/square second]\n",
"PE=g*h/(32.2*778.2) ;//// Specific(mass=1kg) potential energy of water -[Btu/lbm]\n",
"printf('Specific potential energy of water is %.4f Btu/lbm .\n ',PE);"
   ]
   }
,
{
		   "cell_type": "markdown",
		   "metadata": {},
		   "source": [
			"## Example 21.4: Calculation_of_Internal_Energy_Change_using_the_Heat_Capacity.sce"
		   ]
		  },
  {
"cell_type": "code",
	   "execution_count": null,
	   "metadata": {
	    "collapsed": true
	   },
	   "outputs": [],
"source": [
"clear ;\n",
"clc;\n",
"// Example 21.4\n",
"printf('Example 21.4\n\n');\n",
"//page no. 629\n",
"// Solution\n",
"//Given\n",
"//Constant volume process \n",
"mol_air = 10 ;// Moles of air-[kg mol]\n",
"T1 = 60+273 ;// Initial temperature of air-[K]\n",
"T2 = 30+273 ;// final temperature of air-[K]\n",
"// Additional data needed\n",
"Cv = 2.1*10^4 ; // Specific heat capacity of air at constant volume-[J/(kg mol*C)]\n",
"// Use eqn. 21.6 for del_U\n",
"del_U = integrate('mol_air*Cv','T',T1,T2) ;//Change in internal energy-[J]\n",
"printf('\nChange in internal energy is %.1e J .\n ',del_U);"
   ]
   }
,
{
		   "cell_type": "markdown",
		   "metadata": {},
		   "source": [
			"## Example 21.5: Calculation_of_Internal_Energy_Change_using_Different_Paths.sce"
		   ]
		  },
  {
"cell_type": "code",
	   "execution_count": null,
	   "metadata": {
	    "collapsed": true
	   },
	   "outputs": [],
"source": [
"clear ;\n",
"clc;\n",
"// Example 21.5\n",
"printf('Example 21.5\n\n');\n",
"//page no. 629\n",
"// Solution\n",
"printf('\n As we know that internal energy(U) is state variable , therefore change in internal energy(del_U) depends only on initial and final state , independent of the path taken for process.\n Hence, change in internal energy for both paths A and B are same.  ');"
   ]
   }
,
{
		   "cell_type": "markdown",
		   "metadata": {},
		   "source": [
			"## Example 21.6: Calculation_of_the_Change_in_Enthalpy_by_two_Different_Paths.sce"
		   ]
		  },
  {
"cell_type": "code",
	   "execution_count": null,
	   "metadata": {
	    "collapsed": true
	   },
	   "outputs": [],
"source": [
"clear ;\n",
"clc;\n",
"// Example 21.6\n",
"printf('Example 21.6\n\n');\n",
"//page no. 632\n",
"// Solution\n",
"printf('\n As we know that enthalpy(H) is state variable , therefore change in enthalpy(del_H) depends only on initial and final state , independent of the path taken for process.\n Hence, change in enthalpy for both paths A-B-D and A-C-D are same.  ');"
   ]
   }
,
{
		   "cell_type": "markdown",
		   "metadata": {},
		   "source": [
			"## Example 21.7: Calculation_of_an_Enthalpy_Change.sce"
		   ]
		  },
  {
"cell_type": "code",
	   "execution_count": null,
	   "metadata": {
	    "collapsed": true
	   },
	   "outputs": [],
"source": [
"clear;\n",
"clc;\n",
"// Example 21.7\n",
"printf('Example 21.7\n\n');\n",
"//page no. 633\n",
"// Solution\n",
"//Given\n",
"//Constant pressure process \n",
"mol_air = 10 ;// Moles of air-[kg mol]\n",
"T1 = 60+273 ;// Initial temperature of air-[K]\n",
"T2 = 30+273 ;// final temperature of air-[K]\n",
"// Additional data needed\n",
"Cp = 2.9*10^4  ;// Specific heat capacity of air at constant pressure-[J/(kg mol*C)]\n",
"// Use eqn. 21.11 for del_H\n",
"del_H = integrate('mol_air*Cp','T',T1,T2) ;//Change in enthalpy-[J]\n",
"printf('\nChange in enthalpy is %.1e J .\n ',del_H);"
   ]
   }
],
"metadata": {
		  "kernelspec": {
		   "display_name": "Scilab",
		   "language": "scilab",
		   "name": "scilab"
		  },
		  "language_info": {
		   "file_extension": ".sce",
		   "help_links": [
			{
			 "text": "MetaKernel Magics",
			 "url": "https://github.com/calysto/metakernel/blob/master/metakernel/magics/README.md"
			}
		   ],
		   "mimetype": "text/x-octave",
		   "name": "scilab",
		   "version": "0.7.1"
		  }
		 },
		 "nbformat": 4,
		 "nbformat_minor": 0
}
