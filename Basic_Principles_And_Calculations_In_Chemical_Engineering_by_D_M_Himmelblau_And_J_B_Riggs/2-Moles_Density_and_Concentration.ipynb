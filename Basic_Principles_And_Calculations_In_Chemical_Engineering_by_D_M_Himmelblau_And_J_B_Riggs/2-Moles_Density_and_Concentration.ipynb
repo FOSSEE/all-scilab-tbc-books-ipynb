{
"cells": [
 {
		   "cell_type": "markdown",
	   "metadata": {},
	   "source": [
       "# Chapter 2: Moles Density and Concentration"
	   ]
	},
{
		   "cell_type": "markdown",
		   "metadata": {},
		   "source": [
			"## Example 2.10: Evaluation_of_Alternate_Processes_for_the_Production_of_Methyl_Methacrylate.sce"
		   ]
		  },
  {
"cell_type": "code",
	   "execution_count": null,
	   "metadata": {
	    "collapsed": true
	   },
	   "outputs": [],
"source": [
"clear;\n",
"clc;\n",
"\n",
"// Example 2.10\n",
"// Page no. 64\n",
"// Solution\n",
"\n",
"// Given\n",
"// Process a \n",
"// Let us take array of given values for compounds in following order 1- acetone, 2 - Hydrogen cyanide, 3- methanol, 4-Sulphuric acid , 5 - Methyl methacrylate\n",
"Lb1  =  [0.68,0.32,0.37,1.63,1]  ;// Mass of compounds -[lb]\n",
"Value1  =  [0.43, 0.67,0.064,0.04,0.78] ;// Cost of compounds -[$/lb]\n",
"TLV1  =  [750,10,200,2,100] ;// TLV value of compounds -[ppm]\n",
"OITF1  =  [0,1000,10,10000,10] ;// Note : (?) mark values are neglected as they are nearly equal to zero \n",
"\n",
"// Process b\n",
"// Let us take array of given values for compounds in following order 1- Isobutylene, 2 - Methanol, 3- Pentane, 4-Sulphuric acid , 5 - Methyl methacrylate\n",
"Lb2  =  [1.12,0.38,0.03,0.01,1.00]  ;// Mass of compounds -[lb]\n",
"Value2  =  [0.31,0.64,0.112,0.04,0.78] ;// Cost of compounds -[$/lb]\n",
"TLV2  =  [200,200,600,2,100] ;// TLV value of compounds -[ppm]\n",
"OITF2  =  [0,10,0,10000,10] ;// Note : (?) mark values are neglected as they are nearly equal to zero \n",
"\n",
"NetV1  =  Lb1(5)*Value1(5) - Lb1(2)*Value1(2) - Lb1(3)*Value1(3) - Lb1(4)*Value1(4) - Lb1(1)*Value1(1); // Net Value for process (a) -[$]\n",
"NetV2  =  Lb2(5)*Value2(5) - Lb2(2)*Value2(2) - Lb2(3)*Value2(3) - Lb2(4)*Value2(4) - Lb2(1)*Value2(1) ;// Net Value for process (b) -[$]\n",
"\n",
"printf('1.With respect to cost criteria\n');\n",
"printf('  Net value for process (a) is %.2f $ and for process (b) is %.2f $.\n  Hence based on net value both process are equivalent.  \n',NetV1,NetV2);\n",
"\n",
"// With respect to two environmental criteria\n",
"TLV_index1  =  Lb1(1)/TLV1(1) + Lb1(2)/TLV1(2)  + Lb1(3)/TLV1(3) + Lb1(4)/TLV1(4) + Lb1(5)/TLV1(5) ;// TLV index for process a\n",
"OITF_index1  =  OITF1(1)*Lb1(1) +OITF1(2)*Lb1(2) + OITF1(3)*Lb1(3) + OITF1(4)*Lb1(4) + OITF1(5)*Lb1(5) ;// OITF index process a\n",
"\n",
"TLV_index2  =  Lb2(1)/TLV2(1) + Lb2(2)/TLV2(2)  + Lb2(3)/TLV2(3) + Lb2(4)/TLV2(4) + Lb2(5)/TLV2(5) ;// TLV index for process b\n",
"OITF_index2  =  OITF2(1)*Lb2(1) +OITF2(2)*Lb2(2) + OITF2(3)*Lb2(3) + OITF2(4)*Lb2(4) + OITF2(5)*Lb2(5) ;// OITF index process b\n",
"\n",
"printf('\n 2.With respect to  two environmental criteria\n');\n",
"printf('   Process (a)\n   TLV index for process a is %.2f .\n   OITF index process a is %.2f .  \n',TLV_index1,OITF_index1);\n",
"printf('   \n   Process (b)\n   TLV index for process b is %.2f .\n   OITF index process b is %.2f .  \n',TLV_index2,OITF_index2);"
   ]
   }
,
{
		   "cell_type": "markdown",
		   "metadata": {},
		   "source": [
			"## Example 2.1: Calculation_of_Molecular_Weight.sce"
		   ]
		  },
  {
"cell_type": "code",
	   "execution_count": null,
	   "metadata": {
	    "collapsed": true
	   },
	   "outputs": [],
"source": [
"clear ;\n",
"clc;\n",
"\n",
"// Example 2.1\n",
"printf('Example 2.1\n\n');\n",
"//Page no. 45\n",
"// Solution\n",
"\n",
"// Count the number of each element from fig. E2.1.\n",
"// Look for the atomic weights of elements from Appendix B\n",
"// Assume the one cell is a molecule\n",
"n_Ba = 2 ;// Number of atoms of Ba\n",
"n_Cu = 16 ;// Number of atoms of Cu\n",
"n_O = 24 ;// Number of atoms of O\n",
"n_Y = 1 ;// Number of atoms of Y\n",
"m_Ba = 137.34 ;//Atomic wt. -[g]\n",
"m_Cu = 63.546 ;//Atomic wt.-[g]\n",
"m_O = 16.00 ;//Atomic wt.-[g]\n",
"m_Y = 88.905; //Atomic wt.-[g]\n",
"mol_wt =  n_Ba*m_Ba + n_Cu*m_Cu + n_O*m_O + n_Y*m_Y ;//The molecular weight of given material-[g]\n",
"\n",
"printf('The molecular weight of given material is %1.1f g/g mol.\n',mol_wt);"
   ]
   }
,
{
		   "cell_type": "markdown",
		   "metadata": {},
		   "source": [
			"## Example 2.2: Use_of_Molecular_Weight_to_Convert_Mass_to_Moles.sce"
		   ]
		  },
  {
"cell_type": "code",
	   "execution_count": null,
	   "metadata": {
	    "collapsed": true
	   },
	   "outputs": [],
"source": [
"clear ;\n",
"clc;\n",
"\n",
"// Example 2.2\n",
"printf('Example 2.2\n\n');\n",
"// Page no. 46\n",
"// Solution\n",
"\n",
"//(a)\n",
"m_NaOH = 40.0 ;//[lb]\n",
"pnd_mol = 2*1/m_NaOH ;//[lb mol]\n",
"printf('(a) The number of pound moles of NaOH in 2.00 lb NaOH is %.2f lb mol.\n',pnd_mol);\n",
"\n",
"//(b)\n",
"grm_mol = pnd_mol*454 ;//[g mol]\n",
"printf(' (b) The number of gram moles of NaOH in 2.00 lb NaOH is %.2f g mol.\n',grm_mol);"
   ]
   }
,
{
		   "cell_type": "markdown",
		   "metadata": {},
		   "source": [
			"## Example 2.3: Use_of_Molecular_Weight_to_Convert_Moles_to_Mass.sce"
		   ]
		  },
  {
"cell_type": "code",
	   "execution_count": null,
	   "metadata": {
	    "collapsed": true
	   },
	   "outputs": [],
"source": [
"clear;\n",
"clc;\n",
"\n",
"// Example 2.3\n",
"printf('Example 2.3\n\n');\n",
"//Page no. 46\n",
"// Solution\n",
"\n",
"//Basis 7.5 g mol of NaOH\n",
"m_NaOH = 40.0 ;//[lb]\n",
"lb = 454 ;//[g mol]\n",
"n = 7.50*1*m_NaOH/(lb*1);\n",
"printf('Number of pounds of NaOH is %.3f lb.\n',n);"
   ]
   }
,
{
		   "cell_type": "markdown",
		   "metadata": {},
		   "source": [
			"## Example 2.4: Calculation_of_Density.sce"
		   ]
		  },
  {
"cell_type": "code",
	   "execution_count": null,
	   "metadata": {
	    "collapsed": true
	   },
	   "outputs": [],
"source": [
"clear ;\n",
"clc; \n",
"\n",
"// Example 2.4\n",
"printf('Example 2.4\n\n');\n",
"//Page no. 53\n",
"// Solution\n",
"\n",
"// (a)\n",
"d_w1=1000 ;//[kg/cubic metre]\n",
"\n",
"d1=(1.184*d_w1*1000)/(10^6) ;//[g/cubic centimetre]\n",
"printf('(a) Density in g/cubic centimetre is %.4f g/cubic centimetre.\n',d1);\n",
"\n",
"// (b)\n",
"d_w2= 62.4 ;//[lbm/cubic feet]\n",
"\n",
"d2=1.184*d_w2/1 ;//[lbm/cubic feet]\n",
"\n",
"printf(' (b) Density in lbm/cubic feet is %.1f lbm/cubic feet.\n',d2);\n",
"\n",
"// (c)\n",
"d3=1.184*d_w1 ;//[kg/cubic metre]\n",
"\n",
"printf(' (c) Density in kg/cubic metre is %.1f kg/cubic metre.\n',d3);"
   ]
   }
,
{
		   "cell_type": "markdown",
		   "metadata": {},
		   "source": [
			"## Example 2.5: Calculation_of_Mass_and_Moles.sce"
		   ]
		  },
  {
"cell_type": "code",
	   "execution_count": null,
	   "metadata": {
	    "collapsed": true
	   },
	   "outputs": [],
"source": [
"clear ;\n",
"clc;\n",
"\n",
"// Example 2.5\n",
"printf('Example 2.5\n\n');\n",
"//Page no. 54\n",
"// Solution\n",
"\n",
"m_wt=192 ;//[kg]\n",
"d_sol=1.024*1000 ;//[kg/cubic metre]\n",
"// 1000L=1 cubic metre\n",
"c_sol=d_sol/1000 ;//[kg/L]\n",
"c_drug=c_sol*.412 ;//[kg/L]\n",
"printf('Concentration of drug in solution is %.3f kg/L .\n',c_drug);\n",
"\n",
"Q=10.5 ;//[L/min]\n",
"Qmol=10.5*c_drug/m_wt ;//[kg mol/min]\n",
"printf(' Flow rate of drug is %.3f kg mol/min. \n',Qmol); "
   ]
   }
,
{
		   "cell_type": "markdown",
		   "metadata": {},
		   "source": [
			"## Example 2.6: Conversion_between_Mass_Fraction_and_Mole_Fraction.sce"
		   ]
		  },
  {
"cell_type": "code",
	   "execution_count": null,
	   "metadata": {
	    "collapsed": true
	   },
	   "outputs": [],
"source": [
"clear ;\n",
"clc;\n",
"\n",
"// Example 2.6\n",
"printf('Example 2.6\n\n');\n",
"//Page no.57\n",
"// Solution\n",
"\n",
"// Let component 1 be water and component 2 be NaOH\n",
"// Basis 10 kg total solution\n",
"m1 = 5.0 ;//[kg]\n",
"m2 = 5.0; //[kg]\n",
"total = m1  + m2 ;//[kg] \n",
"m_fr1 = m1/total ;//mass fraction of water\n",
"m_fr2 = m2/total ;//mass fraction of NaOH\n",
"mw1 = 18.0 ;//molecular weight of water\n",
"mw2 = 40.0 ;//molecular weight of NaOH\n",
"mol1 = m1/mw1;\n",
"mol2 = m2/mw2;\n",
"mol_fr1 = mol1/(mol1  + mol2) ;//mol fraction of water\n",
"mol_fr2 = mol2/(mol1  + mol2) ;//mol fraction of NaOH\n",
"printf(' Component    kg        Mass fraction    Mol.Wt.    kg mol    Mole fraction\n');\n",
"printf('n Water        %.2f      %.3f            %.1f       %.3f      %.2f\n',m1,m_fr1,mw1,mol1,mol_fr1);\n",
"printf(' NaOH         %.2f      %.3f            %.1f       %.3f      %.2f\n',m2,m_fr2,mw2,mol2,mol_fr2);\n",
"printf(' Total        %.2f     %.3f                       %.3f      %.2f',m1  + m2,m_fr1  + m_fr2,mol1  + mol2,mol_fr1  + mol_fr2);"
   ]
   }
,
{
		   "cell_type": "markdown",
		   "metadata": {},
		   "source": [
			"## Example 2.7: Nitrogen_Requirements_for_the_Growth_of_Cells.sce"
		   ]
		  },
  {
"cell_type": "code",
	   "execution_count": null,
	   "metadata": {
	    "collapsed": true
	   },
	   "outputs": [],
"source": [
"clear ;\n",
"clc;\n",
"\n",
"// Example 2.7\n",
"printf('Example 2.7\n\n');\n",
"//Page no.58\n",
"// Solution\n",
"\n",
"// Basis 500 L solution containing 35g/L\n",
"// (NH4)2SO4 is the only nitrogen source\n",
"cn = 35 ;//[g/L]\n",
"wt = 9  ;//[wt % N]\n",
"m_wt1 = 132 ;//[g]\n",
"m_wt2 = 14 ;//[g]\n",
"amt = (500*(35)*.09*1*1*m_wt1)/(1*m_wt2*1*1);\n",
"printf('Total amount of (NH4)2SO4 consumed  is  %.1f g.',amt);"
   ]
   }
,
{
		   "cell_type": "markdown",
		   "metadata": {},
		   "source": [
			"## Example 2.8: Use_of_ppm.sce"
		   ]
		  },
  {
"cell_type": "code",
	   "execution_count": null,
	   "metadata": {
	    "collapsed": true
	   },
	   "outputs": [],
"source": [
"clear ;\n",
"clc;\n",
"\n",
"// Example 2.8\n",
"printf('Example 2.8\n\n');\n",
"//Page no. 63\n",
"// Solution\n",
"\n",
"// 1 kg of the air/HCN mixture\n",
"// (a)\n",
"m1 = 27.03 ;//[g]\n",
"m2 = 29.0 ;//[g]\n",
"cn = (10*m1*1000*1000)/(10^6*m2) ;//[mgHCN/kg air]\n",
"printf('(a) 10.0 ppm HCN is %.2f mg HCN/kg air.\n',cn);\n",
"\n",
"// (b)\n",
"ld = 300 ;//[mg/kg air]\n",
"fr = cn/ld;\n",
"printf(' (b) Fraction of lethal dose is 10.0 ppm is  %.3f.',fr);"
   ]
   }
,
{
		   "cell_type": "markdown",
		   "metadata": {},
		   "source": [
			"## Example 2.9: Calculation_of_Mole_Fraction_and_ppm_from_a_Concentration.sce"
		   ]
		  },
  {
"cell_type": "code",
	   "execution_count": null,
	   "metadata": {
	    "collapsed": true
	   },
	   "outputs": [],
"source": [
"clear ;\n",
"clc;\n",
"\n",
"// Example 2.9\n",
"printf('Example 2.9\n\n');\n",
"//Page no. 64\n",
"// Solution\n",
"\n",
"// Let component 1 be water and component 2 be HNO3\n",
"// Basis 1L solution\n",
"c = 15 ;//[g/L]\n",
"sg = 1.10 ;\n",
"L = 1000 ;//[cubic centimetre]\n",
"m1 = 18.0 ;//[g]\n",
"m2 = 63.02 ;//[g]\n",
"cn2 = (15*1)/(L*sg) ;//[gHNO3/g soln]\n",
"// Basis 1g soln\n",
"cn1 = 1-cn2 ;// Mass of water in 1 g soln\n",
"mg1 = cn1/m1;\n",
"mg2 = cn2/m2;\n",
"ml_fr1 = mg1/(mg1+mg2);\n",
"ml_fr2 = mg2/(mg1+mg2);\n",
"printf(' (a) Component   g(per 1g soln)           Mol.Wt.     g mol                Mole fraction\n')\n",
"printf('     Water       %.4f                   %.2f       %.3f                %.2f\n',cn1,m1,mg1,ml_fr1);\n",
"printf('     HNO3        %.4f                   %.2f       %e        %e\n',cn2,m2,mg2,ml_fr2);\n",
"// (b)\n",
"cpm = cn2*10^6 ;//[ppm]\n",
"printf('\n (b)Ppm of HNO3 in soln. is %.2f ppm.',cpm);"
   ]
   }
],
"metadata": {
		  "kernelspec": {
		   "display_name": "Scilab",
		   "language": "scilab",
		   "name": "scilab"
		  },
		  "language_info": {
		   "file_extension": ".sce",
		   "help_links": [
			{
			 "text": "MetaKernel Magics",
			 "url": "https://github.com/calysto/metakernel/blob/master/metakernel/magics/README.md"
			}
		   ],
		   "mimetype": "text/x-octave",
		   "name": "scilab",
		   "version": "0.7.1"
		  }
		 },
		 "nbformat": 4,
		 "nbformat_minor": 0
}
