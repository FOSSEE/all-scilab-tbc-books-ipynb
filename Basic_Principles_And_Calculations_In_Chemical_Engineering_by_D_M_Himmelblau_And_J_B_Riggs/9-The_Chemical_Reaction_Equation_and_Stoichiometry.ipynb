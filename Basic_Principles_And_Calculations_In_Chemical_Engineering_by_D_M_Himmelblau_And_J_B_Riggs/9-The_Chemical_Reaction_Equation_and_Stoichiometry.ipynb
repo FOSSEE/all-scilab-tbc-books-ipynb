{
"cells": [
 {
		   "cell_type": "markdown",
	   "metadata": {},
	   "source": [
       "# Chapter 9: The Chemical Reaction Equation and Stoichiometry"
	   ]
	},
{
		   "cell_type": "markdown",
		   "metadata": {},
		   "source": [
			"## Example 9.1: Balancing_a_reaction_for_a_Biological_Reaction.sce"
		   ]
		  },
  {
"cell_type": "code",
	   "execution_count": null,
	   "metadata": {
	    "collapsed": true
	   },
	   "outputs": [],
"source": [
"clear;\n",
"clc;\n",
"// Example 9.1\n",
"printf('Example 9.1\n\n');\n",
"// Page no. 228\n",
"// Solution\n",
"// Given \n",
"//Main eqn. C6H12O6 + aO2 ---> bCO2 + cH2O\n",
"// By carbon balance\n",
"b = 6 ;\n",
"//By hydrogen balance\n",
"c = 6;\n",
"//Balancing oxygen in reaction\n",
"a = (c*1+b*2-6)/2;\n",
"printf('Value of a is  %i\n',a);\n",
"printf('Value of b is  %i\n',b);\n",
"printf('Value of c is  %i\n',c);"
   ]
   }
,
{
		   "cell_type": "markdown",
		   "metadata": {},
		   "source": [
			"## Example 9.2: EX9_2.sce"
		   ]
		  },
  {
"cell_type": "code",
	   "execution_count": null,
	   "metadata": {
	    "collapsed": true
	   },
	   "outputs": [],
"source": [
"clear ;\n",
"clc;\n",
"// Example 9.2\n",
"printf('Example 9.2\n\n');\n",
"// Page no. 229\n",
"// Solution\n",
"m_CO2 = 44.0 ;//molecular wt-[g]\n",
"m_C7H16 = 100.1 ;//molecular wt-[g]\n",
"p_con = 50 ;// percentage conversion of CO2 to dry ice\n",
"amt_di = 500 ;// amount of dry ice to be produce per hour-[kg]\n",
"// By using the given equation \n",
"amt_C7H16 = (amt_di*m_C7H16)/((p_con/100)*m_CO2*7) ;// [kg]\n",
"printf('Amount of heptane required per hour to produce 500kg dry ice per hour is  %.1f kg.\n',amt_C7H16);"
   ]
   }
,
{
		   "cell_type": "markdown",
		   "metadata": {},
		   "source": [
			"## Example 9.3: Application_of_Stoichiometry_when_more_than_one_Reaction_occurs.sce"
		   ]
		  },
  {
"cell_type": "code",
	   "execution_count": null,
	   "metadata": {
	    "collapsed": true
	   },
	   "outputs": [],
"source": [
"clear ;\n",
"clc;\n",
"// Example 9.3\n",
"printf('Example 9.3\n\n');\n",
"// Page no. 230\n",
"// Solution\n",
"m_CaCO3 = 100.1 ;//molecular wt-[g]\n",
"m_MgCO3 = 84.32 ;//molecular wt-[g]\n",
"m_CaO = 56.08 ;//molecular wt-[g]\n",
"m_MgO = 40.32 ;//molecular wt-[g]\n",
"m_CO2 = 44.0 ;//molecular wt-[g]\n",
"// Limestone analysis\n",
"p_CaCO3 = 92.89 ;// percentage of CaCO3\n",
"p_MgCO3 = 5.41 ;//  percentage of MgCO3 \n",
"inrt = 1.7 ;//percentage of inert\n",
"//(a)\n",
"amt_CaO  = (((p_CaCO3/100)*m_CaO)/m_CaCO3)*2000 ;//Pounds of CaO produced from 1 ton(2000lb) of limestone\n",
"printf(' Amount of CaO produced from 1 ton(2000lb) of limestone is  %.0f lb.\n',amt_CaO);\n",
"//(b)\n",
"mol_CaCO3 = (p_CaCO3/100)/m_CaCO3 ;// lb mol of CaCO3\n",
"mol_MgCO3 = (p_MgCO3/100)/m_MgCO3 ;// lb mol of MgCO3\n",
"total_mol = mol_CaCO3+mol_MgCO3;\n",
"amt_CO2 = total_mol*m_CO2 ;// Amount of CO2 recovered per pound of limestone-[lb]\n",
"printf('  Amount of CO2 recovered per pound of limestone is  %.3f lb.\n',amt_CO2);\n",
"//(c)\n",
"amt_CaO = m_CaO*mol_CaCO3 ;// since lb mol of CaO  =  CaCO3\n",
"amt_MgO = m_MgO*mol_MgCO3 ;// since lb mol of MgO  =  MgCO3\n",
"total_lime =  amt_CaO+amt_MgO+(inrt)/100 ;// total amount of lime per pound limestone\n",
"amt_lmst = 2000/total_lime ;// Amount of limestone required to make 1 ton(2000lb) of lime \n",
"printf('  Amount of limestone required to make 1 ton(2000lb) of lime   %.1f lb.\n',amt_lmst);"
   ]
   }
,
{
		   "cell_type": "markdown",
		   "metadata": {},
		   "source": [
			"## Example 9.4: Calculation_of_extent_of_Reaction.sce"
		   ]
		  },
  {
"cell_type": "code",
	   "execution_count": null,
	   "metadata": {
	    "collapsed": true
	   },
	   "outputs": [],
"source": [
"clear ;\n",
"clc;\n",
"// Example 9.4\n",
"printf('Example 9.4\n\n');\n",
"// Page no. 235\n",
"// Solution\n",
"f_NH3 = 5 ;// NH3 in feed-[g]\n",
"f_N2 =  100 ;// N2 in feed-[g]\n",
"f_H2 =  50 ;// H2 in feed-[g]\n",
"p_NH3 = 90 ;// NH3 in product-[g]\n",
"m_NH3  = 17 ;// Molecular wt. of NH3-[g]\n",
"m_N2  = 28 ;// Molecular wt. of N2-[g]\n",
"m_H2  = 2 ;// Molecular wt. of H2-[g]\n",
"// Extent of reaction can be calculated by using eqn. 9.3 \n",
"// For NH3\n",
"ni = p_NH3/m_NH3 ;//[g mol NH3]\n",
"nio = f_NH3/m_NH3 ;//[g mol NH3]\n",
"vi = 2 ;// coefficint of NH3\n",
"ex_r =  (ni-nio)/vi ;// Extent of reaction - moles reacting\n",
"//Determine H2 and N2 in product of reaction by Eqn. 9.4\n",
"// For N2\n",
"nio_N2 = f_N2/m_N2 ;//[g mol N2]\n",
"vi_N2 = -1 ;// coefficint of N2\n",
"ni_N2 = nio_N2 + vi_N2*ex_r ;//N2 in product of reaction-[g moles ]\n",
"m_N2 = ni_N2*m_N2 ;// mass of N2 in product of reaction-[g]\n",
"printf('  N2 in product of reaction is  %.2f g moles  \n',ni_N2);\n",
"printf('   Mass of N2 in product of reaction is  %.2f g   \n',m_N2);\n",
"// For H2\n",
"nio_H2 = f_H2/m_H2 ;//[g mol H2]\n",
"vi_H2 = -3 ;// coefficint of H2\n",
"ni_H2 = nio_H2 + vi_H2*ex_r ;//H2 in product of reaction-[g moles ]\n",
"m_H2 = ni_H2*m_H2 ;// mass of H2 in product of reaction-[g]\n",
"printf(' \n  H2 in product of reaction is  %.2f g moles  \n',ni_H2);\n",
"printf('  Mass of H2 in product of reaction is  %.2f g   \n',m_H2);\n",
"// ARP\n",
"m_SO2 = 64 ;// Molecular wt.of SO2-[g]\n",
"mol_SO2 =  2 ;// moles of SO2\n",
"ARP = (1/m_NH3)/(mol_SO2/m_SO2);\n",
"printf(' \n ARP is  %.2f    \n',ARP);"
   ]
   }
,
{
		   "cell_type": "markdown",
		   "metadata": {},
		   "source": [
			"## Example 9.5: Calculation_of_Limiting_and_Excess_Reactants.sce"
		   ]
		  },
  {
"cell_type": "code",
	   "execution_count": null,
	   "metadata": {
	    "collapsed": true
	   },
	   "outputs": [],
"source": [
"clear ;\n",
"clc;\n",
"// Example 9.5\n",
"printf('Example 9.5\n\n');\n",
"// Page no. 238\n",
"// Solution\n",
"f_N2 = 10 ;// N2 in feed-[g]\n",
"f_H2 = 10 ;// H2 in feed-[g]\n",
"m_NH3 = 17.02;// Molecular wt. of NH3-[g]\n",
"m_N2 = 28 ;// Molecular wt. of N2-[g]\n",
"m_H2 = 2 ;// Molecular wt. of H2-[g]\n",
"// Extent of reaction can be calculated by using eqn. 9.3 \n",
"// Based on N2\n",
"nio_N2 = f_N2/m_N2 ;//[g mol N2]\n",
"vi_N2 = -1 ;// coefficint of N2\n",
"ex_N2 = -(nio_N2)/vi_N2 ;// Max. extent of reaction based on N2\n",
"// Based on H2\n",
"nio_H2 = f_H2/m_H2 ;//[g mol H2]\n",
"vi_H2 = -3 ;// coefficint of H2\n",
"ex_H2 = -(nio_H2)/vi_H2 ;// Max. extent of reaction based on H2\n",
"//(a)\n",
"vi_NH3 = 2 ;// coefficint of NH3\n",
"mx_NH3 = ex_N2*vi_NH3*m_NH3 ;// Max. amount of NH3 that can be produced\n",
"printf(' (a) Max. amount of NH3 that can be produced is %.1f g\n',mx_NH3);\n",
"//(b) and (c)\n",
"if (ex_H2 > ex_N2 )\n",
" printf('  (b) N2 is limiting reactant  \n');\n",
" printf('  (c) H2 is excess reactant  \n');\n",
" ex_r = ex_N2;\n",
"  else\n",
"printf('  (b) H2 is limiting reactant  \n');\n",
" printf('  (c) N2 is excess reactant  \n');\n",
" ex_r = ex_H2 ;\n",
" end"
   ]
   }
,
{
		   "cell_type": "markdown",
		   "metadata": {},
		   "source": [
			"## Example 9.6: Yeilds_in_the_Reaction_of_Glucose_to_produce_Ethanol.sce"
		   ]
		  },
  {
"cell_type": "code",
	   "execution_count": null,
	   "metadata": {
	    "collapsed": true
	   },
	   "outputs": [],
"source": [
"clear;\n",
"clc;\n",
"// Example 9.6\n",
"printf('Example 9.6\n\n');\n",
"// Page no. 242\n",
"// Solution\n",
"//(a)\n",
"mol_bms =  0.59 ;// Biomass produced per g mol of glucose-[g mol biomass/ g mol glucose]\n",
"mw_bms =  23.74 ;// molecular wt. of biomass -[g]\n",
"mw_gls =  180.0 ;// molecular wt. of glucose -[g]\n",
"ms_bms =  (mol_bms*mw_bms)/mw_gls ;// Biomass produced per gram of glucose-[g biomass/ g glucose]\n",
"printf('(a) Biomass produced per gram of glucose is %.4f g biomass/ g glucose.',ms_bms);\n",
"//(b)\n",
"mol_etol = 1.3 ;//Ethanol produced per g mol of glucose-[g mol ethanol/ g mol glucose]\n",
"mw_etol =  46.0 ;// molecular wt. of ethanol -[g]\n",
"ms_etol =  (mol_etol*mw_etol)/mw_gls ;// Ethanol produced per gram of glucose-[g ethanol/ g glucose]\n",
"printf('\n (b) Ethanol produced per gram of glucose is %.3f g ethanol/ g glucose.',ms_etol);"
   ]
   }
,
{
		   "cell_type": "markdown",
		   "metadata": {},
		   "source": [
			"## Example 9.7: Selectivity_in_the_Production_of_Nanotubes.sce"
		   ]
		  },
  {
"cell_type": "code",
	   "execution_count": null,
	   "metadata": {
	    "collapsed": true
	   },
	   "outputs": [],
"source": [
"clear ;\n",
"clc;\n",
"// Example 9.7\n",
"printf('Example 9.7\n\n');\n",
"// Page no. 243\n",
"// Solution\n",
"//Basis: 3 g mol H2 by reaction (a)\n",
"// 0.50 g mol C2H4 by reaction (b)\n",
"// by analysing reaction (a)  0.50 g mol C2H4 corresponds to 0.50 g mol H2 produced in reaction (b)\n",
"// By using reaction (a)\n",
"H2_a = 3-0.50 ;// H2 produced in reaction (a)\n",
"C_a = (2/3)*H2_a ;// Nanotubes(the C) produced by reaction (a)\n",
"sel = C_a/0.50 ;// Selectivity of C reletive to C2H4-[g mol C/ g mol C2H4]\n",
"printf('Selectivity of C reletive to C2H4 is %.2f g mol C/ g mol C2H4.\n',sel)"
   ]
   }
,
{
		   "cell_type": "markdown",
		   "metadata": {},
		   "source": [
			"## Example 9.8: Calculation_of_various_terms_Pertaning_to_Reaction.sce"
		   ]
		  },
  {
"cell_type": "code",
	   "execution_count": null,
	   "metadata": {
	    "collapsed": true
	   },
	   "outputs": [],
"source": [
"clear;\n",
"clc;\n",
"// Example 9.8\n",
"printf('Example 9.8\n\n');\n",
"// Page no. 244\n",
"// Solution\n",
"m_C3H6 = 42.08;// molecular wt. of propene-[g]\n",
"m_C3H5Cl = 76.53 ;// molecular wt. of C3H5Cl-[g]\n",
"m_C3H6Cl2 = 112.99 ;// molecular wt. of C3H6Cl2-[g]\n",
"// Product analysis\n",
"pml_Cl2 = 141.0 ;// [g mol]\n",
"pml_C3H6 = 651.0 ;//[g mol]\n",
"pml_C3H5Cl = 4.6 ;// [g mol]\n",
"pml_C3H6Cl2 = 24.5 ;// [g mol]\n",
"pml_HCL = 4.6 ;//[g mol]\n",
"//(a)\n",
"a_Cl = pml_C3H5Cl; // Chlorine reacted by eqn.(a)\n",
"b_Cl = pml_C3H6Cl2 ;// Chlorine reacted by eqn.(b)\n",
"fed_Cl = pml_Cl2+a_Cl+b_Cl ;// Total chlorine fed to reactor-[g mol]\n",
"//by analysing reaction (a) and (b)\n",
"a_C3H6 = a_Cl+b_Cl ;// C3H6 reacted by reaction (a)\n",
"fed_C3H6 = pml_C3H6+a_C3H6 ;//Total C3H6 fed to reactor-[g mol]\n",
"printf('(a) Total chlorine fed to reactor is %.2f  g mol \n',fed_Cl);\n",
"printf('     Total C3H6 fed to reactor is %.2f  g mol \n',fed_C3H6);\n",
"//(b) and (c)\n",
"// Extent of reaction can be calculated by using eqn. 9.3 \n",
"// Based on C3H6\n",
"nio_C3H6 = fed_C3H6 ;//[g mol C3H6]\n",
"vi_C3H6 = -1 ;// coefficint of C3H6\n",
"ex_C3H6 = -(nio_C3H6)/vi_C3H6 ;// Max. extent of reaction based on C3H6\n",
"// Based on Cl2\n",
"nio_Cl2 =  fed_Cl; //[g mol Cl2]\n",
"vi_Cl2 = -1 ;// coefficint of Cl2\n",
"ex_Cl2 = -(nio_Cl2)/vi_Cl2 ;// Max. extent of reaction based on Cl2\n",
"if (ex_Cl2 > ex_C3H6 )\n",
" printf(' \n (b) C3H6 is limiting reactant  \n');\n",
" printf('    (c)Cl2 is excess reactant  \n');\n",
" ex_r = ex_C3H6;\n",
"  else\n",
"printf(' \n (b) Cl2 is limiting reactant  \n');\n",
" printf(' (c) C3H6 is excess reactant  \n');\n",
" ex_r = ex_Cl2;\n",
" end\n",
"//(d)\n",
"fr_cn = pml_C3H5Cl/fed_C3H6 ;//Fractional conversion of C3H6 to C3H5Cl\n",
"printf(' \n (d) Fractional conversion of C3H6 to C3H5Cl is %.2e  \n',fr_cn);\n",
"//(e)\n",
"sel = pml_C3H5Cl/pml_C3H6Cl2 ;// Selectivity of C3H5Cl relative to C3H6Cl2\n",
"printf(' \n (e) Selectivity of C3H5Cl relative to C3H6Cl2 is %.2f g mol C3H5Cl/g mol C3H6Cl2  \n',sel);\n",
"//(f)\n",
"yld = (m_C3H5Cl*pml_C3H5Cl)/(m_C3H6*fed_C3H6) ;// Yield of C3H5Cl per g C3H6 fed to reactor\n",
"printf(' \n (f) Yield of C3H5Cl per g C3H6 fed to reactor is %.3f g C3H5Cl/g C3H6  \n',yld);\n",
"//(g)\n",
"vi_C3H5Cl = 1  ;// coefficint of C3H5Cl\n",
"vi_C3H6Cl2 = 1  ;// coefficint of C3H6Cl2\n",
"ex_a = (pml_C3H5Cl-0)/vi_C3H5Cl ;// Extent of reaction a as C3H5Cl is produced only in reaction a\n",
"ex_b = (pml_C3H6Cl2-0)/vi_C3H6Cl2 ;// Extent of reaction b as C3H6Cl2 is produced only in reaction b\n",
"printf(' \n (g) Extent of reaction a as C3H5Cl is produced only in reaction a is %.1f   \n',ex_a);\n",
"printf('     Extent of reaction b as C3H6Cl2 is produced only in reaction b %.1f   \n',ex_b);\n",
"//(h)\n",
"in_Cl = fed_Cl*2 ;//Entering Cl -[g mol]\n",
"out_Cl  = pml_HCL ;// Exiting Cl in HCl-[g mol]\n",
"ef_w = out_Cl/in_Cl ;// Mole efficiency of waste\n",
"ef_pr =  1-ef_w ;// Mole efficiency of product\n",
"printf('\n (h) Mole efficiency of product is %.3f \n',ef_pr);"
   ]
   }
],
"metadata": {
		  "kernelspec": {
		   "display_name": "Scilab",
		   "language": "scilab",
		   "name": "scilab"
		  },
		  "language_info": {
		   "file_extension": ".sce",
		   "help_links": [
			{
			 "text": "MetaKernel Magics",
			 "url": "https://github.com/calysto/metakernel/blob/master/metakernel/magics/README.md"
			}
		   ],
		   "mimetype": "text/x-octave",
		   "name": "scilab",
		   "version": "0.7.1"
		  }
		 },
		 "nbformat": 4,
		 "nbformat_minor": 0
}
