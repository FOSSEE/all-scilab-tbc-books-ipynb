{
"cells": [
 {
		   "cell_type": "markdown",
	   "metadata": {},
	   "source": [
       "# Chapter 14: Real Gases Compressiblity"
	   ]
	},
{
		   "cell_type": "markdown",
		   "metadata": {},
		   "source": [
			"## Example 14.1: Use_of_Compressiblity_Factor_to_Calculate_a_Specific_Volume.sce"
		   ]
		  },
  {
"cell_type": "code",
	   "execution_count": null,
	   "metadata": {
	    "collapsed": true
	   },
	   "outputs": [],
"source": [
"clear ;\n",
"clc;\n",
"// Example 14.1\n",
"printf('Example 14.1\n\n');\n",
"//Page No. 442\n",
"// Solution \n",
"T1f = 125 ;// Temperature of NH3 -[degree F] \n",
"T1 =  460 +T1f ;// Temperature NH3 -[degree Rankine] \n",
"Pg =  292 ;// Pressure of NH3 -[psig]\n",
"Pa =  Pg+14.7 ;//Pressure of NH3 -[psia]\n",
"R = 10.73 ;//Universal gas constant-[(psia*cubic feet)/(lb mol*R)]\n",
"mw_NH3 = 17 ;// Molecular wt. 1 lb mol NH3-[lb]\n",
"n = 1/17 ;//[mol]\n",
"V_tank = 120 ;// Volume of tank-[cubic feet]\n",
"// Ideal V\n",
"V_id = (n*R*T1)/Pa ;// Specific volume of NH3 treating it ideal gas-[cubic feet/lb]\n",
"//From appendix D\n",
"Tc = 729.9 ;//[degree R]\n",
"Pc = 1636 ;//[psia]\n",
"Tr =  T1/Tc;\n",
"Pr =  Pa/Pc;\n",
"// Using Tr and Pr we get z = 0.855 from Nelson and Obert chart\n",
"z_real = 0.855;\n",
"z_ideal = 1;\n",
"V_real =  V_id*z_real/z_ideal;// Specific volume of NH3 treating it real gas-[cubic feet/lb]\n",
"NH3 = V_tank/V_real ;// Actual amt. of NH3 in tank-[lb]\n",
"printf('Actual amt. of NH3 in tank is %.0f lb. Therefore , boss is wrong.',NH3);"
   ]
   }
,
{
		   "cell_type": "markdown",
		   "metadata": {},
		   "source": [
			"## Example 14.2: Use_of_Compressiblity_Factor_to_Calculate_Pressure.sce"
		   ]
		  },
  {
"cell_type": "code",
	   "execution_count": null,
	   "metadata": {
	    "collapsed": true
	   },
	   "outputs": [],
"source": [
"clear ;\n",
"clc;\n",
"// Example 14.2\n",
"printf('Example 14.2\n\n');\n",
"//Page No. 444\n",
"// Solution \n",
"//From appendix D\n",
"Tc = 154.4 ;//[K]\n",
"Pc1 = 49.7 ;// [atm]\n",
"Pc = 101.3 * Pc1;//[kPa]\n",
"T_O21 = -25 ;// Temperature-[degree C]\n",
"T_O2 =  273+T_O21;//Temperature -[K]\n",
"R = 8.134 ;// gas constant-[(cubic metre * kPa)/(kg mol * K)]\n",
"V_tank = 0.0284 ;// Volume of tank-[cubic metre]\n",
"mol_O2 = 32 ;// Kmol. wt. of O2-[kg]\n",
"m_O2 =  3.5 ;// Mass of liquid O2-[kg]\n",
"V_sp = V_tank * mol_O2/m_O2 ;// Specific molar volume-[m^3/kg]\n",
"Vc = R * Tc/Pc ;// [cubic metre/kg mol]\n",
"Vr = V_sp/Vc;\n",
"Tr = T_O2/Tc;\n",
"// Now use Vr and Tr to get Pr from Nelson and Obert chart ,Pr = 1.43\n",
"Pr = 1.43 ;// [kPa]\n",
"P_O2 = Pr * Pc ;// The pressure in the tank -[kPa]\n",
"printf('The pressure in the tank is %.2f  kPa.',P_O2);"
   ]
   }
,
{
		   "cell_type": "markdown",
		   "metadata": {},
		   "source": [
			"## Example 14.3: Calculation_of_Properties_of_Real_Gas_Mixture.sce"
		   ]
		  },
  {
"cell_type": "code",
	   "execution_count": null,
	   "metadata": {
	    "collapsed": true
	   },
	   "outputs": [],
"source": [
"clear ;\n",
"clc;\n",
"// Example 14.3\n",
"printf('Example 14.3\n\n');\n",
"//Page No. 448\n",
"// Solution \n",
"// Given\n",
"Tc = 100 ;// Temperature  -[degree C] \n",
"T   =  273 +Tc ;// Temperature -[K] \n",
"P   =  90 ;// Pressure [atm]\n",
"R = 82.06 ;// gas constant-[(cubic centimetre * atm)/(g mol * K)]\n",
"Y_CH4  = 20/100 ;// [mole fraction]\n",
"Y_C2H4 = 30/100 ;// [mole fraction]\n",
"Y_N2   =  50/100 ;//[mole fraction]\n",
"//Additional information from appendix D\n",
"Tc_CH4 = 191 ;//[K]\n",
"Pc_CH4 = 45.8 ;// [atm]\n",
"Tc_C2H4 = 283 ;//[K]\n",
"Pc_C2H4 = 50.5 ;// [atm]\n",
"Tc_N2 = 126 ;//[K]\n",
"Pc_N2 = 33.5 ;// [atm]\n",
"//(a)-Ideal gas law\n",
"V_sp1 = R * T/P ;// Molar volume-[cubic centimetre/g mol]\n",
"printf('(a) The volume per mole of mixture by ideal gas law is %.1f cubic centimetre/g mol.\n',V_sp1);\n",
"//(b)\n",
"Pc_mix = Pc_CH4 * Y_CH4+Pc_C2H4 * Y_C2H4+Pc_N2 * Y_N2;// [atm]\n",
"Tc_mix = Tc_CH4 * Y_CH4+Tc_C2H4 * Y_C2H4+Tc_N2 * Y_N2 ;// [K]\n",
"Pr_mix = P/Pc_mix;\n",
"Tr_mix = T/Tc_mix;\n",
"// With 2 parameters(Pr_mix and Tr_mix) , you can find from figure 14.4b that z * Tr_mix = 1.91\n",
"z = 1.91/Tr_mix;\n",
"V_sp2 = z * R * T/P ;// Molar volume-[cubic centimetre/g mol]\n",
"printf('\n(b) The volume per mole of mixture by treating it to be real gas is %.1f cubic centimetre/g mol.',V_sp2);"
   ]
   }
],
"metadata": {
		  "kernelspec": {
		   "display_name": "Scilab",
		   "language": "scilab",
		   "name": "scilab"
		  },
		  "language_info": {
		   "file_extension": ".sce",
		   "help_links": [
			{
			 "text": "MetaKernel Magics",
			 "url": "https://github.com/calysto/metakernel/blob/master/metakernel/magics/README.md"
			}
		   ],
		   "mimetype": "text/x-octave",
		   "name": "scilab",
		   "version": "0.7.1"
		  }
		 },
		 "nbformat": 4,
		 "nbformat_minor": 0
}
