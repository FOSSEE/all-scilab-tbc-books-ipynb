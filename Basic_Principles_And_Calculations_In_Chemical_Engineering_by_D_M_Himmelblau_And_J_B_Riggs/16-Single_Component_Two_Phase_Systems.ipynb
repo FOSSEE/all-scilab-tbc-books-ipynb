{
"cells": [
 {
		   "cell_type": "markdown",
	   "metadata": {},
	   "source": [
       "# Chapter 16: Single Component Two Phase Systems"
	   ]
	},
{
		   "cell_type": "markdown",
		   "metadata": {},
		   "source": [
			"## Example 16.1: Vaporization_of_Metals_for_Thin_Film_Deposition.sce"
		   ]
		  },
  {
"cell_type": "code",
	   "execution_count": null,
	   "metadata": {
	    "collapsed": true
	   },
	   "outputs": [],
"source": [
"clear ;\n",
"clc;\n",
"// Example 16.1\n",
"printf('Example 16.1\n\n');\n",
"//Page no. 486\n",
"// Solution Fig E16.1\n",
"// Given\n",
"Tc =  972 ;//[degree C]\n",
"T = 273+Tc ;//[K]\n",
"A = 8.799;\n",
"B = 1.615 * 10^4;\n",
"C = 0;\n",
"mw = 26.98;\n",
"// Use Antoine eqn. to get vapour pressure at 972 degree C\n",
"vP = exp(A-(B/(C+T))) ;// vapour pressure at 972 degree C-[mm Hg]\n",
"P = vP * 101.325/760 ;//[kPa]\n",
"// Use rate of vapourization(m) by given formula\n",
"m = 0.437 * (P * (mw^.5)/(T^0.5)) ;// Vapourization rate at 972 degree C-[g/(square centimetre * s)]\n",
"printf('\n Vapourization rate at 972 degree C is %.1e g/(square centimetre)(s).',m);"
   ]
   }
,
{
		   "cell_type": "markdown",
		   "metadata": {},
		   "source": [
			"## Example 16.2: Interpolating_in_Steam_Tables.sce"
		   ]
		  },
  {
"cell_type": "code",
	   "execution_count": null,
	   "metadata": {
	    "collapsed": true
	   },
	   "outputs": [],
"source": [
"clear ;\n",
"clc;\n",
"// Example 16.2\n",
"printf('Example 16.2\n\n');\n",
"//Page no. 491\n",
"// Solution\n",
"\n",
"\n",
"//(a)\n",
"// Given\n",
"// get essential data from steam table \n",
"Ta = [310,315] ;//Temperature data from steam table- [K]\n",
"pa = [6.230,8.143] ;// Pressure data from steam table - [kPa]\n",
"pfa = interpln([Ta;pa],312) ;// Pressure at 312 K - [kPa] \n",
"printf('(a) Saturation pressure of water at 312 K is %.1f kPa.\n',pfa );\n",
"\n",
"//(b)\n",
"\n",
"//For initial condition get specific volume\n",
"  // Double interpolation\n",
"     //first interpolation\n",
"      // at 600 degree F ,data from steam table\n",
"       pb_600 = [90,95] ;// Pressure data - [psia]\n",
"       vb_600= [6.916,6.547] ;// specifc volume data - [(cubic feet/lb)]\n",
"       v_600 = interpln([pb_600;vb_600],92);// specifc volume at 92 psia and 600 degree F  - [(cubic feet/lb)]\n",
"       \n",
"      //at 700 degree F,data from steam table\n",
"       pb_700 = [90,95]  ;// Pressure data - [psia]\n",
"       vb_700 = [7.599,7.195];// specifc volume data - [(cubic feet/lb)]\n",
"       v_700 = interpln([pb_700;vb_700],92) ;// specifc volume at 92 psia and 700 degree F - [(cubic feet/lb)]\n",
"       \n",
"     // second interpolation 92 psia,data from steam table\n",
"       Tb_92 = [600,700];// Temperature data from steam table - [degree F]\n",
"       vb_92 = [v_600,v_700];// specifc volume data - [(cubic feet/lb)]\n",
"       v_640_92 = interpln([ Tb_92;vb_92],640);// specifc volume at 92 psia and 640 degree F - [(cubic feet/lb)]\n",
"       \n",
"        \n",
"        \n",
"//For final condition get specific volume\n",
"  // Double interpolation\n",
"     //first interpolation\n",
"      // at 450 degree F,data from steam table\n",
"           pc_450 = [50,55]  ;// Pressure data - [psia]\n",
"           vc_450 = [10.69,9.703];// specifc volume data - [(cubic feet/lb)]\n",
"           v_450 = interpln([pc_450;vc_450],52);// specifc volume at 52 psia and 450 degree F  - [(cubic feet/lb)]\n",
"           \n",
"      //at 500 degree F,data from steam table\n",
"       pc_500 = [50,55] ; // Pressure data - [psia]\n",
"       vc_500 = [11.30,10.26];// specifc volume data - [(cubic feet/lb)]\n",
"       v_500 = interpln([pc_500;vc_500],52);// specifc volume at 52 psia and 500 degree F  - [(cubic feet/lb)]\n",
"       \n",
"     // second interpolation 52 psia,data from steam table\n",
"       Tc_52 = [450,500];// Temperature data from steam table - [degree F]\n",
"       vc_52 = [v_450,v_500];// specifc volume data - [(cubic feet/lb)]\n",
"       v_480_52 = interpln([ Tc_52;vc_52],480) ;// specifc volume at 52 psia and 480 degree F - [(cubic feet/lb)] \n",
"       \n",
"del_v = v_480_52 - v_640_92 ;// Change in specific volume  - [(cubic feet/lb)] \n",
"printf(' (b) Change in specific volume between initial and final condition is %.2f (cubic feet/lb).\n',del_v );"
   ]
   }
,
{
		   "cell_type": "markdown",
		   "metadata": {},
		   "source": [
			"## Example 16.3: Extrapolation_of_Vapour_Pressure_data.sce"
		   ]
		  },
  {
"cell_type": "code",
	   "execution_count": null,
	   "metadata": {
	    "collapsed": true
	   },
	   "outputs": [],
"source": [
"clear ;\n",
"clc;\n",
"// Example 16.3\n",
"printf('Example 16.3\n\n');\n",
"//Page no. 494\n",
"// Solution\n",
"\n",
"//Given\n",
"T1 = 110 ;// Temperature of chlorobenzene - [degree C] \n",
"T1F = (9*T1)/(5) + 32 ;// Temperature of chlorobenzene - [degree F] \n",
"P1 = 400 ;//Pressure of chlorobenzene - [mm of Hg]\n",
"P1_psia = P1*14.7/760 ;//Pressure of chlorobenzene - [psia]\n",
"T2 = 205 ;// Temperature of chlorobenzene - [degree C] \n",
"T2F = (9*T2)/(5) + 32 ;// Temperature of chlorobenzene - [degree F] \n",
"P2 = 5 ;//Pressure of chlorobenzene - [atm]\n",
"P2_psia = P2*14.7 ;//Pressure of chlorobenzene - [psia]\n",
"\n",
"// Data from steam table\n",
"x1 = [.9487,3.72,11.525,29.8,67,247,680,1543,3094];\n",
"y1 = [100,150,200,250,300,400,500,600,700];\n",
"\n",
"x2 = [P1_psia,P2_psia];\n",
"y2 = [T1F,T2F];\n",
"\n",
"// Cox chart using given and steam table data\n",
"plot2d('ln',x1,y1,5);\n",
"//plot2d('ln',x1,y1)\n",
"xgrid(3);\n",
"//plot2d('ln',x2,y2)\n",
"plot2d('ln',x2,y2,2);\n",
"xgrid(3);\n",
"legend('Water','Chlorobenzene');\n",
"plot2d('ln',x1,y1,-9);\n",
"plot2d('ln',x2,y2,-9);\n",
"title('Figure E16.3 Cox chart for the problem');\n",
"xlabel('Vapour Pressure , psia (log(10) scale)');\n",
"ylabel('Temperature, degree F(special scale)');\n",
"\n",
"// Estiimate vapour pressure of chlorobenzene from cox chart prepared, it is\n",
"vp1 = 150 ;// vapour pressure of chlorobenzene from cox chart prepared at 245 degree C\n",
"vp2 = 700 ;// vapour pressure of chlorobenzene from cox chart prepared at 359 degree C\n",
"\n",
"printf('Temperature             Estimated vapour pressure of chlorobenzene from cox chart\n');\n",
"printf('\n 245 degree C            %i psia\n',vp1);\n",
"printf(' 359 degree C            %i psia',vp2);"
   ]
   }
,
{
		   "cell_type": "markdown",
		   "metadata": {},
		   "source": [
			"## Example 16.4: Solvent_selection_based_on_OSHA_PEL_Limits_and_Potential_Hazard.sce"
		   ]
		  },
  {
"cell_type": "code",
	   "execution_count": null,
	   "metadata": {
	    "collapsed": true
	   },
	   "outputs": [],
"source": [
"clear ;\n",
"clc;\n",
"// Example 16.4\n",
"printf('Example 16.4\n\n');\n",
"//Page no. 495\n",
"// Solution \n",
"// Given \n",
"OP_Et = 400 ;//OSHA PEL of ethyl acetate -[ppm by volume]\n",
"OP_Mek = 200 ;//OSHA PEL of  Methyl ethyl ketone [ppm by volume]\n",
"OP_Nba = 1.3 ;//OSHA PEL of n-butyl acetate [ppm by volume]\n",
"vp_Et =   96.9 ;// Vapour pressure of ethyl acetate obtained from CD-[mm of Hg]\n",
"vp_Mek =   94.8 ;// Vapour pressure of Methyl ethyl ketone obtained from CD-[mm of Hg]\n",
"vp_Nba =   20 ;// Vapour pressure of n-butyl acetate obtained from Perry-[mm of Hg]\n",
"// Combined hazard criterion\n",
"Chz_Et = vp_Et/OP_Et ;//  Combined hazard criterion of ethyl acetate\n",
"Chz_Mek = vp_Mek/OP_Mek ;//  Combined hazard criterion of Methyl ethyl ketone \n",
"Chz_Nba = vp_Nba/OP_Nba ;//  Combined hazard criterion of n-butyl acetate\n",
"printf('\nCombined hazard criterion of solvents in increasing order are :\n');\n",
"printf('\nEthyl acetate :              %.2f',Chz_Et);\n",
"printf('\nMethyl ethyl ketone :        %.2f',Chz_Mek);\n",
"printf('\nn-butyl acetate :            %.2f',Chz_Nba);"
   ]
   }
],
"metadata": {
		  "kernelspec": {
		   "display_name": "Scilab",
		   "language": "scilab",
		   "name": "scilab"
		  },
		  "language_info": {
		   "file_extension": ".sce",
		   "help_links": [
			{
			 "text": "MetaKernel Magics",
			 "url": "https://github.com/calysto/metakernel/blob/master/metakernel/magics/README.md"
			}
		   ],
		   "mimetype": "text/x-octave",
		   "name": "scilab",
		   "version": "0.7.1"
		  }
		 },
		 "nbformat": 4,
		 "nbformat_minor": 0
}
