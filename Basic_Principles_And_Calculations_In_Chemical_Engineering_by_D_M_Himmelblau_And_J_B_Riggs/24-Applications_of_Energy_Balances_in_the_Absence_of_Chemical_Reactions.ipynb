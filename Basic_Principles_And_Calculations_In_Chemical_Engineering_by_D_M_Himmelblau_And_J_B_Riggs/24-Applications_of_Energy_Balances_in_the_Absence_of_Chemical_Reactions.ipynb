{
"cells": [
 {
		   "cell_type": "markdown",
	   "metadata": {},
	   "source": [
       "# Chapter 24: Applications of Energy Balances in the Absence of Chemical Reactions"
	   ]
	},
{
		   "cell_type": "markdown",
		   "metadata": {},
		   "source": [
			"## Example 24.1: Simplification_of_General_Energy_Balance.sce"
		   ]
		  },
  {
"cell_type": "code",
	   "execution_count": null,
	   "metadata": {
	    "collapsed": true
	   },
	   "outputs": [],
"source": [
"clear ;\n",
"clc;\n",
"// Example 24.1\n",
"printf('Example 24.1\n\n');\n",
"//page no. 720\n",
"// Solution Fig. E24.1\n",
"// Assumptions to be made in eqn. 24.1 in following segment \n",
"printf('Assumptions to be made in eqn. 24.1 in following segments are:\n');\n",
"//(a)- 1 to 5\n",
"printf('\n(a)- 1 to 5.\n');\n",
"printf('  1. Change in potential energy(del_PE) = 0(no change in level) .\n');\n",
"printf('  2. Probably change in kinetic energy(del_KE)=0 .\n');\n",
"printf('  3. Change in energy = 0 (process appears to be steady).\n');\n",
"printf('  Result : Q + W = del_H.\n');\n",
"//(b) 4 to 5\n",
"printf('\n\n(b) 4 to 5.\n');\n",
"printf('  1. Q = W = 0 \n');\n",
"printf('  2. Probably change in kinetic energy(del_KE)=0.\n');\n",
"printf('  3. Change in energy = 0 (process appears to be steady).\n');\n",
"printf('  Result : del_H = -del_PE . \n');\n",
"//(c) 3 to 4\n",
"printf('\n\n(c) 3 to 4.\n');\n",
"printf('  1. Q = W = 0 \n');\n",
"printf('  2. Probably change in kinetic energy(del_KE)=0.\n');\n",
"printf('  3. Change in energy = 0 (process appears to be steady).\n');\n",
"printf('  Result : del_H = -del_PE . \n');\n",
"//(d) 3 to 5\n",
"printf('\n\n(d) 3 to 5.\n');\n",
"printf('  1. Q = W = 0 \n');\n",
"printf('  2. Probably change in kinetic energy(del_KE)=0.\n');\n",
"printf('  3. Change in energy = 0 (process appears to be steady).\n');\n",
"printf('  4. Change in potential energy(del_PE) = 0(no change in level) .\n');\n",
"printf('  Result : del_H = 0 . \n');\n",
"//(e)- 1 to 3\n",
"printf('\n(e) 1 to 3.\n');\n",
"printf('  1. Change in potential energy(del_PE) = 0(no change in level) .\n');\n",
"printf('  2. Probably change in kinetic energy(del_KE)=0 .\n');\n",
"printf('  3. Change in energy = 0 (process appears to be steady).\n');\n",
"printf('  Result : Q + W = del_H.\n');"
   ]
   }
,
{
		   "cell_type": "markdown",
		   "metadata": {},
		   "source": [
			"## Example 24.2: Degree_of_Freedom_Analysis_Including_an_Energy_Balance.sce"
		   ]
		  },
  {
"cell_type": "code",
	   "execution_count": null,
	   "metadata": {
	    "collapsed": true
	   },
	   "outputs": [],
"source": [
"clear ;\n",
"clc;\n",
"// Example 24.2\n",
"printf('Example 24.2\n\n');\n",
"//page no. 725\n",
"// Solution \n",
"printf('Table to carry out degree of freedom analysis:\n');\n",
"// Number of variables involved\n",
"printf('\nI. Number of variables involved.\n');\n",
"printf('\n  For materials:\n');\n",
"printf('        Hot gas : 4 component flows, T, and p                     6 \n');\n",
"printf('        Cool gas : 4 component flows, T, and p                    6\n');\n",
"printf('        Water in : 1 component flow, T, and p                     3\n');\n",
"printf('        Water out : 1 component flow, T, and p                    3\n');\n",
"printf('\n  Energy:\n');\n",
"printf('        Q and W                                                   2 \n');\n",
"printf('        H,KE and PE associated with each stream flow             12 \n');\n",
"printf('\_______________________________________________________________________\n');\n",
"printf('  Total                                                          32\n');\n",
"printf('\n\nII. Number of equations and specifications.\n');\n",
"printf('\n  Specified values:\n');\n",
"printf('        Hot gas : 4 component flows, T, and p                     6 \n');\n",
"printf('        Cool gas : T, and p                                       2\n');\n",
"printf('        Water in : T, and p                                       2\n');\n",
"printf('        Water out : T, and p                                      2\n');\n",
"printf('\n  Specified in the energy balance:\n');\n",
"printf('        Q and W                                                   2 \n');\n",
"printf('        KE and PE associated with each of 4 stream flow           8 \n');\n",
"printf('\n  Material balance:             \n');\n",
"printf('        4 species balances plus water                             5 \n');\n",
"printf('\n  Energy balance:                                                 1\n');\n",
"printf('\n  H in each stream is a function of specified T and p             4\n');\n",
"printf('\_______________________________________________________________________\n');\n",
"printf('  Total                                                          32\n');\n",
"printf('\n Therefore, by analysing the above table it is clear that degrees of freedom of system is (32 - 32) = 0 \n');"
   ]
   }
,
{
		   "cell_type": "markdown",
		   "metadata": {},
		   "source": [
			"## Example 24.3: Application_of_Energy_Balance.sce"
		   ]
		  },
  {
"cell_type": "code",
	   "execution_count": null,
	   "metadata": {
	    "collapsed": true
	   },
	   "outputs": [],
"source": [
"clear ;\n",
"clc;\n",
"// Example 24.3\n",
"printf('Example 24.3\n\n');\n",
"//page no. 728\n",
"// Solution Fig. E24.3\n",
"// Given\n",
" m_CO2 = 10 ;// mass of CO2 - [lb]\n",
" Ti_CO2 = 80 ;// Initial temperature of CO2 - [degree F]\n",
" Vi = 4.0 ;// Initial volume of CO2-[cubic feet]\n",
" f_CO2 = 40/100 ;// Fraction of CO2 that convert to liquid finally \n",
" s_Vi = Vi /m_CO2 ;// Initial specific volume of CO2 - [cubic feet/lb]\n",
" s_Vf = s_Vi ;// Constant volume -[cubic feet/lb]\n",
"// Use the CO2 chart in Appendix J  to necessary data, according to book it is \n",
"// CO2 is gas at start of process and reference state for the CO2 chart is -40 degree F , saturated liquid \n",
"// From chart \n",
"Pi = 300 ;// Intial pressure - [psia]\n",
"del_Hi = 160 ;// Intial change in specific enthalpy - [Btu/lb]\n",
"// Now again use chart to get fnal condition fixed by constant volume line and quality 0.6 , according to book it is \n",
"del_Hf = 81 ;// Final change in specific enthalpy - [Btu/lb]\n",
"Pf = 140 ;//Final pressure - [psia]\n",
"// Use conditions given in problem ( W= 0 ,since volume is constant ,therefore  del_PE and del_KE =0 ),simplifing the energy balance equation we get Q = del_H - del_(PV)\n",
"// Analysing the given conditions dof of system = 0 , with 1 eqn. and 1 unknown Q\n",
"Q = ((del_Hf - del_Hi) - (Pf * s_Vf * 144/778.2 - Pi * s_Vi * 144/778.2))*m_CO2 ;// Heat removed from the extinguisher -[Btu]\n",
" printf(' Heat removed from the extinguisher is %i Btu .\n',Q);"
   ]
   }
,
{
		   "cell_type": "markdown",
		   "metadata": {},
		   "source": [
			"## Example 24.4: Applications_of_Energy_Balance_to_Plasma_Etching.sce"
		   ]
		  },
  {
"cell_type": "code",
	   "execution_count": null,
	   "metadata": {
	    "collapsed": true
	   },
	   "outputs": [],
"source": [
"clear ;\n",
"clc;\n",
"// Example 24.4\n",
"printf('Example 24.4\n\n');\n",
"//page no. 730\n",
"// Solution \n",
"// Pick the system as gas plus heater \n",
"// Given\n",
"Pi = 1.5 ;// Intial pressure - [Pa]\n",
"Vi = 2*10^-3 ;// Initial volume of gas - [cubic metre]\n",
"Ti = 300 ;// Initial temperature - [K]\n",
"W = 480 ;// Work done by heater on system\n",
"t = 5 ;// Time for which current is supplied -[ min]\n",
"m_ht = 12 ;// Mass of the heater - [g]\n",
"C_ht = 0.35 ;// Heat capacity of heater - [ J/gK]\n",
"R = 8.314 ;// Ideal gas constant - [(Pa*cubic metre)/(g mol* K)]\n",
"// It is assumed that heat transfer across system boundary for this short time is negligible , therefore Q = 0\n",
"// Using the above assumption the equation reduces to del_U = W, therefore \n",
"del_U = W ;// Change in nternal energy - [J]\n",
"// Gas is assumed to be ideal, therefore get n by using pv = nRT\n",
"n = (Pi*Vi)/(R*Ti) ;// Number of moles of argon gas -[g mol]\n",
"Cp = (5/2)* R ;// Specific heat capacity of argon gas at constant pressure - [ J/gK]\n",
"Cv = Cp - R ;//  Specific heat capacity of argon gas at constant volume - [ J/gK]\n",
"// del_Ug = n*Cv*(Tf - Ti) - change in internal energy of gas\n",
"// del_Uh = m_ht*C_ht*(Tf - Ti) - change in internal energy of gas\n",
"// get total change in internal energy =  del_Ug + del_Uh , and solve it for Tf ( final temperature )\n",
"deff('[y]=f(Tf)','y=m_ht*C_ht*(Tf - Ti) + n*Cv*(Tf - Ti) - del_U');\n",
"Tf=fsolve(400,f) ;// Final temperature -[K] \n",
"funcprot(0);\n",
" printf(' Final temperature of gas is %.0f K .\n',Tf);\n",
" \n",
" Pf = (Tf/Ti)*Pi ;// Final pressure - [Pa]\n",
"  printf(' Final pressure in chamber is %.2f Pa .\n',Pf);"
   ]
   }
,
{
		   "cell_type": "markdown",
		   "metadata": {},
		   "source": [
			"## Example 24.5: Energy_Balance_applied_to_a_Batch_Process.sce"
		   ]
		  },
  {
"cell_type": "code",
	   "execution_count": null,
	   "metadata": {
	    "collapsed": true
	   },
	   "outputs": [],
"source": [
"clear ;\n",
"clc;\n",
"// Example 24.5\n",
"printf('Example 24.5\n\n');\n",
"//page no. 732\n",
"// Solution Fig. E24.5\n",
"// Pick the system as shown in above figure of book\n",
"// Given\n",
"m_water = 10 ;// Mass of water  - [lb]\n",
"T_water = 35 ;// Temperature of water - [degree F]\n",
"m_ice = 4 ;// Mass of ice - [lb]\n",
"T_ice = 32 ;// Temperature of ice - [degree F]\n",
"m_stm = 6 ;// Initial mass of steam -[lb]\n",
"T_stm = 250 ;// Temperature of stm - [degree F]\n",
"p = 20 ;// Pressure of system -[psia]\n",
"m_total = m_water + m_ice + m_stm ;// Mass of H2O in three phases initially -[lb]\n",
"// By following conditions of book, Q = 0, W = 0 , change in PE and change in KE = 0, the energy balance reduces to del_U = 0 \n",
"// According to book additional information is obtained from the steam table and CD at given conditions ,it is as follows \n",
"U_ice = -143.6 ;// Specific internal energy of ice -[Btu/lb]\n",
"U_water = 3.025 ;// Specific internal energy of water -[Btu/lb]\n",
"U_stm = 1092.25 ;// Specific internal energy of steam -[Btu/lb]\n",
"V_water = 0.0162 ;// Specific volume of water -[cubic feet/lb]\n",
"V_stm = 20.80 ;// Specific volume of steam -[cubic feet/lb]\n",
"V_total = m_stm*V_stm ;//Total volume of container ignoring volume of water and ice as they are neglgible\n",
"V_sys = V_total/m_total  ;// Specific volume of system -[cubic feet/lb]\n",
"U_sys =(m_water*U_water + m_ice*U_ice + m_stm*U_stm)/m_total ;// Final specific internal energy of system -[Btu/lb]\n",
"// Trial and error method\n",
"// Assume two temperatures and find volume total so as to bracket value of U_sys, Here e take T1 = 190 and T2 = 200 degree F\n",
"// Obtain necessary data from steam table at corresponding temperatures\n",
"T1 = 190 ;// assumed temperature\n",
"U1 = [157.17 1071.83] ;//specific internal energy of liquid and vapour respetively -[Btu/lb]\n",
"V1 = [0.0165 41.01] ;// Specific volume of liquid and vapour respetively  -[cubic feet/lb]\n",
"x1 = V_sys/V1(2) ;// Quality of vapour\n",
"U1_sys = (1-x1)*U1(1) + x1*U1(2); // Specific internal energy of system at T1-[Btu/lb] \n",
"T2 = 200 ;// assumed temperature\n",
"U2 = [168.11 1073.96];//  specific internal energy of liquid and vapour respetively -[Btu/lb]\n",
"V2 = [0.017 33.601] ;// Specific volume of liquid and vapour respetively  -[cubic feet/lb]\n",
"x2 = V_sys/V2(2) ; // Quality of vapour\n",
"U2_sys = (1-x2)*U2(1) + x2*U2(2) ;// Specific internal energy of system at T2-[Btu/lb] \n",
"// Check whether assumption is right\n",
"if (U_sys > U1_sys  )\n",
"   if ( U_sys <U2_sys)\n",
"        printf('Assumption is right, now find exact temperature by interpolation between 2 assumed temperatures.\n');\n",
"    else\n",
"        printf('Assumption is wrong, assume different T2.\n');\n",
"    end\n",
"  else\n",
" printf('Assumption is wrong,assume different T1.\n');\n",
" end\n",
"// Interpolation, to get final temperature corresponding to U_sys\n",
"T_sys = T1 + ((T2 - T1)*(U_sys - U1_sys))/(U2_sys - U1_sys);\n",
" printf(' The final temperature obtained by interpolation between 2 assumed temperatures is %.2f degree F.\n',T_sys);\n",
" \n",
"// Now obtain specific volume of vapour data at final temperature from steam table and use it to calculate x(quality) , according to book it is\n",
"V_vap = 39.35 ;//specific volume of vapour data at final temperature -[cubic feet/lb]\n",
"x = V_sys /V_vap ;// Quality of gas at final temperature\n",
" \n",
" //Final state\n",
"Vap = m_total*x ;// Mass of vapour at final state - [lb]\n",
"stm_con =  m_stm - Vap ;// Mass of steam condenses - [lb]\n",
"printf('\nTherefore, mass of steam condenses is %.2f lb.\n',stm_con);"
   ]
   }
,
{
		   "cell_type": "markdown",
		   "metadata": {},
		   "source": [
			"## Example 24.6: Applications_of_Energy_Balance_to_Pumping_Water.sce"
		   ]
		  },
  {
"cell_type": "code",
	   "execution_count": null,
	   "metadata": {
	    "collapsed": true
	   },
	   "outputs": [],
"source": [
"clear ;\n",
"clc;\n",
"// Example 24.6\n",
"printf('Example 24.6\n\n');\n",
"//page no. 736\n",
"// Solution Fig. E24.6\n",
"// Pick the system as shown in above figure of book\n",
"// Given\n",
"h1 = -15 ;// Initial level of water from ground level -[ft]\n",
"h2 = 165 ;//Final level of water from ground level -[ft]\n",
"V_rate = 200 ;// Volume flow rate of water - [gal/hr]\n",
"Q1 = 30000 ;// Heat input by heater - [Btu/hr]\n",
"Q2 = 25000 ;// Heat lost by system -[Btu/hr]\n",
"T1 = 35 ;// Initial temperature of water - [degree F]\n",
"g = 32.2 ;// Acceleration due to gravity - [ft/ square second]\n",
"p_pump = 2 ;// Power of pump -[hp]\n",
"f_w = 55/100 ;// Fraction of rated horsepower that i used in pumping water \n",
"Cp = 1 ;// Specific heat capacity of water - [Btu/lb*F]\n",
"// Use following conditions to simplify the energy balance\n",
"// 1. Proces is in steady state , so change in energy = 0\n",
"// 2. m1 = m2 = m\n",
"// 3. change in KE = 0 , because we will assume that v1 = v2 = 0\n",
"// The energy balance reduce to Q + W = del_(H*m + PE*m) \n",
"m = V_rate * 8.33 ;// Total mass of water pumped -[lb]\n",
"del_PE = (m* g *(h2 - h1))/(32.2*778) ;// Change in PE - [Btu/hr]\n",
"Q = Q1 - Q2 ;// Net heat exchange -[Btu/hr]\n",
"W = 2* f_w * 60 * 33000/778 ;// Work on system - [Btu/hr]\n",
"del_H = Q + W - del_PE ;// By using reduced energy balance - [Btu/hr]\n",
"// Also del_H = m* Cp * (T2 - T1), all is known except T2 , solve for T2\n",
"deff('[y] = f(T2)','y = m*Cp*(T2-T1) - del_H');\n",
"T2 = fsolve(40,f) ;// Boiling point temperature \n",
"funcprot(0);\n",
"  printf(' Final temperature of water that enters storage tank is %.1f degree F .\n',T2);"
   ]
   }
,
{
		   "cell_type": "markdown",
		   "metadata": {},
		   "source": [
			"## Example 24.7: Applications_of_Energy_Balance_to_Heating_a_Biomass.sce"
		   ]
		  },
  {
"cell_type": "code",
	   "execution_count": null,
	   "metadata": {
	    "collapsed": true
	   },
	   "outputs": [],
"source": [
"clear ;\n",
"clc;\n",
"// Example 24.7\n",
"printf('Example 24.7\n\n');\n",
"//page no. 738\n",
"// Solution Fig. E24.7\n",
"// Pick the system as shown in above figure of book\n",
"// Given\n",
"T_stm = 250 + 273 ;// Temperature of entering steam - [K ]\n",
"Q_loss = -1.5 ;// Rate of heat loss from system - [kJ/s ]\n",
"T_mi = 20 + 273 ;//Temperature of entering material -[K ]\n",
"T_mf = 100 + 273 ;// Temperature of material after heating - [K]\n",
"m_m = 150 ;// Mass of charged material - [kg]\n",
"Cp_m = 3.26 ;// Average heat capacity of material - [ J/(g*K)]\n",
"// Use following conditions to simplify the energy balance\n",
"// 1. Proces is not in steady state , so change in energy not equals  0.\n",
"// 2. Assume del_KE and del_PE = 0.\n",
"// 3. Assume del_KE and del_PE = 0, for entering and exiting material .\n",
"// 4. W = 0.\n",
"// 5. Assume m1 = m2 = m_stm\n",
"// The energy balance reduce to    del_E = del_U =  Q - del_(H*m) .... eqn. (b)\n",
"del_U = m_m*Cp_m*(T_mf - T_mi) ;// Change in enthalpy of system , because del_(pV) = 0 for liquid and solid charge -[kJ]\n",
"Q_loss_total = Q_loss * 3600; // Total heat loss by system n 1 hour - [kJ]\n",
"// We need the value of specific change in enthalpy value of saturated steam(del_H_steam), according to book we can obtain this value from steam table, it's value is -1701 kJ/kg\n",
"del_H_steam = -1701 ;// Specific change in enthalpy value of saturated steam -[kJ/kg]\n",
"// Get mass of steam per kg charge from reduced energy balance(eqn. (b))\n",
"m_stm_total = (del_U - Q_loss_total)/(-del_H_steam) ;// Total mass of stea used - [kg]\n",
"m_stm = m_stm_total/m_m ;// Mass of steam used per kg of charge - [kg]\n",
" printf(' Mass of steam used per kg of charge is %.3f kg .\n',m_stm);"
   ]
   }
,
{
		   "cell_type": "markdown",
		   "metadata": {},
		   "source": [
			"## Example 24.8: Sterilization_of_a_Fermentation_Medium.sce"
		   ]
		  },
  {
"cell_type": "code",
	   "execution_count": null,
	   "metadata": {
	    "collapsed": true
	   },
	   "outputs": [],
"source": [
"clear ;\n",
"clc;\n",
"// Example 24.8\n",
"printf('Example 24.8\n\n');\n",
"//page no. 741\n",
"// Solution Fig. E24.8\n",
"// Pick the system of whole process as shown in above figure of book\n",
"// Given\n",
"Q = 1.63 ;// Heat loss from the process - [ kW ]\n",
"m_bm = 150 ;// Mass flow rate of biological media into the sterlizer -[kg/min]\n",
"T_bm = 50 +273 ;// Temperature of biological media into the sterlizer - [K]\n",
"T_sm = 75 + 273 ;// Temperature of sterlize media out of the sterlizer - [K]\n",
"P_ss = 300 ;// Pressure of satureted steam entering the steam heater - [kPa]\n",
"P_sc = 300 ;// Pressure of satureted condensate exiting the steam heater - [kPa]\n",
"// Additional data of change in enthalpy is obtained from the steam table, according to book the data are\n",
"H_w1 = 207.5 ;// Change in specific enthalpy of  water at 50 degree C - [kJ/kg]\n",
"H_w2 = 310.3 ;// Change in specific enthalpy of  water at 75 degree C - [kJ/kg]\n",
"H_ss = 2724.9 ;//Change in specific enthalpy of  satureted steam entering the steam heater at 300 kPa - [kJ/kg]\n",
"H_sc = 561.2 ;//Change in specific enthalpy of  satureted condensate exiting the steam heater at 300 kPa - [kJ/kg]\n",
"// Use following conditions to simplify the energy balance\n",
"// 1. Proces is in steady state , so change in energy = 0.\n",
"// 2. Assume del_KE and del_PE = 0.\n",
"// 3. W = 0.\n",
"// 4. Assume m1 = m2 = m_stm\n",
"// The energy balance reduce to   Q = H_out - H_in  , using it\n",
"m_sm = m_bm ;// By material balance -[kg/min]\n",
"m_stm = (Q*60 - m_sm*H_w2 + m_bm * H_w1  )/(H_sc - H_ss ) ;// Mass flow rate of steam entering the steam heater - [kg/min]\n",
" printf(' Mass flow rate of steam entering the steam heater is %.2f kg steam/min .\n',m_stm);"
   ]
   }
,
{
		   "cell_type": "markdown",
		   "metadata": {},
		   "source": [
			"## Example 24.9: Use_of_Combined_Material_and_Energy_Balances_to_Solve_a_Distillation_Problem.sce"
		   ]
		  },
  {
"cell_type": "code",
	   "execution_count": null,
	   "metadata": {
	    "collapsed": true
	   },
	   "outputs": [],
"source": [
"clear ;\n",
"clc;\n",
"// Example 24.9\n",
"printf('Example 24.9\n\n');\n",
"//page no. 742\n",
"// Solution Fig. E24.9a and Fig. E24.9b\n",
"// Given \n",
"// For material balance\n",
"F = 20000 ;// Feed rate of saturated liquid - [kg/h]\n",
"F_Bz = 0.5 ;// Fraction of benzene in feed\n",
"F_Tol = 0.5 ;// Fraction of toluene in feed\n",
"D_Bz = 0.98 ;// Fraction of benzene in distillate\n",
"D_Tol = 0.02 ;// Fraction of toluene in distillate\n",
"B_Bz = 0.04 ;// Fraction of benzene in bottoms\n",
"B_Tol = 0.96 ;// Fraction of toluene in bottoms\n",
"R_by_D = 4.0 ;// Recycle ratio \n",
"// Analysing the condition for material balance , degree of freedom  is 0.\n",
"// Solve equations obtained by material balances , simultaneously to get B and D\n",
"a = [1 1;B_Bz D_Bz] ;// Matrix formed by coefficients of unknown\n",
"b = [ F ; F_Bz*F ] ;// Matrix formed by contants\n",
"x = a\b ;// Matrix of solutions \n",
"B = x(1) ;// Bottoms - [kg/h]\n",
"D = x(2) ;//Distillate - [kg/h]\n",
"R = D * R_by_D ;// Recycle - [kg/h]\n",
"V = R + D ;// Overhead vapour - [kg/h]\n",
"// For energy balance\n",
"// According to book additional data obtained from the fig.E24.9b are\n",
"H_F = 165 ;// Change in enthalpy of F - [kJ/kg]\n",
"H_B = 205 ;// Change in enthalpy of B - [kJ/kg]\n",
"H_D = 100 ;// Change in enthalpy of D - [kJ/kg]\n",
"H_R = 100 ;// Change in enthalpy of R - [kJ/kg]\n",
"H_V = 540 ;// Change in enthalpy of V - [kJ/kg]\n",
"Qc = R*H_R + D*H_D - V*H_V ;// The heat duty in the condenser - [kJ]\n",
"Qr = D*H_D + B*H_B - F*H_F - Qc;// The heat duty to the reboiler - [kJ]\n",
"printf('  Ditillate (D)                                %.2e kg/h.\n',D);\n",
"printf('  Bottoms (B)                                  %.2e kg/h.\n',B);\n",
"printf('  The heat duty in the condenser (Qc)         %.2e kJ/h.\n',Qc);\n",
"printf('  The heat duty to the reboiler (Qr)           %.2e kJ/h.\n',Qr);"
   ]
   }
],
"metadata": {
		  "kernelspec": {
		   "display_name": "Scilab",
		   "language": "scilab",
		   "name": "scilab"
		  },
		  "language_info": {
		   "file_extension": ".sce",
		   "help_links": [
			{
			 "text": "MetaKernel Magics",
			 "url": "https://github.com/calysto/metakernel/blob/master/metakernel/magics/README.md"
			}
		   ],
		   "mimetype": "text/x-octave",
		   "name": "scilab",
		   "version": "0.7.1"
		  }
		 },
		 "nbformat": 4,
		 "nbformat_minor": 0
}
