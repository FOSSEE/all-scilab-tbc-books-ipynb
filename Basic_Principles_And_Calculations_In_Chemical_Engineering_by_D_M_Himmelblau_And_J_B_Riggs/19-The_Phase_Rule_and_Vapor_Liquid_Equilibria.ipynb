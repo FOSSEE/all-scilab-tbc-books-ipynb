{
"cells": [
 {
		   "cell_type": "markdown",
	   "metadata": {},
	   "source": [
       "# Chapter 19: The Phase Rule and Vapor Liquid Equilibria"
	   ]
	},
{
		   "cell_type": "markdown",
		   "metadata": {},
		   "source": [
			"## Example 19.1: Applications_of_Phase_Rule_to_Systems_without_Reaction.sce"
		   ]
		  },
  {
"cell_type": "code",
	   "execution_count": null,
	   "metadata": {
	    "collapsed": true
	   },
	   "outputs": [],
"source": [
"clear ;\n",
"clc;\n",
"// Example 19.1\n",
"printf('Example 19.1\n\n');\n",
"//Page No. 563\n",
"// Solution \n",
" \n",
"// Use phase rule to get degree of freedom(F) =  2-P+C \n",
"// (a)\n",
"N1 = 1;\n",
"P1 = 1 ;// Number of phases present\n",
"C1 = 1 ;//Number of components present\n",
"F1 = 2-P1+C1 ;//Number of degree of freedom\n",
"printf('\n (a) Number of degree of freedom of pure benzene is %i. Therefore %i additional intensive variables must be specified to fix the system.\n ',F1,F1);\n",
"// (b)\n",
"N2 = 1;\n",
"P2 = 2 ;// Number of phases present\n",
"C2 = 1 ;//Number of components present\n",
"F2 = 2-P2+C2 ;//Number of degree of freedom\n",
"printf('(b) Number of degree of freedom of a mixture of ice and water only is %i. Therefore %i additional intensive variables must be specified to fix the system.\n ',F2,F2);\n",
"// (c)\n",
"N3 = 2;\n",
"P3 = 2 ;// Number of phases present\n",
"C3 = 2 ;//Number of components present\n",
"F3 = 2-P3+C3 ;//Number of degree of freedom\n",
"printf('(c) Number of degree of freedom of a mixture of liquid benzene,benzene vapour and helium gas is %i. Therefore %i additional intensive variables must be specified to fix the system.\n ',F3,F3);\n",
"// (d)\n",
"N4 = 2;\n",
"P4 = 2 ;// Number of phases present\n",
"C4 = 2 ;//Number of components present\n",
"F4 = 2-P4+C4 ;//Number of degree of freedom\n",
"printf('(d) Number of degree of freedom of a mixture of salt and water designed to achieve a specific vapour pressure is %i. Therefore %i additional intensive variables must be specified to fix the system.\n ',F4,F4);"
   ]
   }
,
{
		   "cell_type": "markdown",
		   "metadata": {},
		   "source": [
			"## Example 19.2: Application_of_the_Phase_Rule_to_Systems_in_which_Reactions_can_Occur.sce"
		   ]
		  },
  {
"cell_type": "code",
	   "execution_count": null,
	   "metadata": {
	    "collapsed": true
	   },
	   "outputs": [],
"source": [
"clear ;\n",
"clc;\n",
"// Example 19.2\n",
"printf('Example 19.2\n\n');\n",
"//Page No.564\n",
"// Solution \n",
" \n",
"// Use phase rule to get degree of freedom(F) =  2-P+C \n",
"// (a)\n",
"N1 = 5;\n",
"P1 = 1; // Number of phases present,here 1 gas \n",
"C1 = 3 ;//Number of  independent components present,here 3 because 3 elements(C,O and H)\n",
"F1 = 2-P1+C1 ;//Number of degree of freedom\n",
"printf('\n (a) Number of degree of gas composed of CO,CO2,H2,H2O and CH4 is %i. Therefore %i additional intensive variables must be specified to fix the system.\n ',F1,F1);\n",
"// (b)\n",
"N2 = 4;\n",
"P2 = 4 ;// Number of phases present,here 3 different solid phases and 1 gas phase\n",
"C2 = 3 ;//Number of components present, here 3 because 3 elements(Zn,O and C) ,you can also use method explained in Appendix L1\n",
"F2 = 2-P2+C2 ;//Number of degree of freedom\n",
"printf('(b) Number of degree of freedom of a mixture of ZnO(s), C(s) ,CO(g) and Zn(s)  is %i. Therefore %i additional intensive variables must be specified to fix the system.\n ',F2,F2);"
   ]
   }
,
{
		   "cell_type": "markdown",
		   "metadata": {},
		   "source": [
			"## Example 19.3: Bubble_Point_Calculation.sce"
		   ]
		  },
  {
"cell_type": "code",
	   "execution_count": null,
	   "metadata": {
	    "collapsed": true
	   },
	   "outputs": [],
"source": [
"clear;\n",
"clc;\n",
"// Example 19.3\n",
"printf('Example 19.3\n\n');\n",
"//Page No.576\n",
"// Solution \n",
"P_atm =  1 ;//[atm]\n",
"P =  760 ;//[mm of Hg]\n",
"x_1 = 4/100 ;// Mole fraction of hexane in liquid phase\n",
"// Constant A,B and C for Antoine eqn. of n_hexane \n",
"A1 = 15.8366;\n",
"B1 = 2697.55 ;\n",
"C1 = -48.784;\n",
"// Constant A,B and C for Antoine eqn. of n_octane\n",
"A2 = 15.9798;\n",
"B2 = 3127.60 ;\n",
"C2 = -63.633;\n",
"// Solve for bubble point temperature by eqn. obtained by using Antoine equation\n",
"deff('[y] = f(T)','y = exp(A1-(B1/(C1+T)))*x_1 +exp(A2-(B2/(C2+T)))*(1-x_1)  - P');\n",
"T = fsolve(390,f) ;// Bubble point temperature \n",
"funcprot(0);\n",
"printf('Bubble point temperature is %.1f K\n',T);\n",
"// Composition of first vapour\n",
"// Get vapour pressure of hexane and octane from Perry, it is\n",
"vp_1 =  3114 ;//  vapour pressure of hexane-[mm of Hg]\n",
"vp_2 = 661 ;//  vapour pressure of octane-[mm of Hg]\n",
"y_1 = vp_1*x_1/P ;// Mole fraction of hexane in vapour phase\n",
"y_2 =  1- y_1 ;//Mole fraction of octane in vapour phase\n",
"printf('\n Composition of first vapour.\n ');\n",
"printf('Component            Mole fraction.\n ');\n",
"printf('n_hexane             %.3f\n',y_1);\n",
"printf(' n_octane             %.3f\n',y_2);"
   ]
   }
,
{
		   "cell_type": "markdown",
		   "metadata": {},
		   "source": [
			"## Example 19.4: Flash_Calculation_for_a_Binary_Liquid_Mixture.sce"
		   ]
		  },
  {
"cell_type": "code",
	   "execution_count": null,
	   "metadata": {
	    "collapsed": true
	   },
	   "outputs": [],
"source": [
"clear ;\n",
"clc;\n",
"// Example 19.4\n",
"printf('Example 19.4\n\n');\n",
"//Page no. 577\n",
"// Solution \n",
"// Basis : 100 g solution\n",
"F = 100 ;// Amount of solution-[g]\n",
"P_atm = 1 ;//[atm]\n",
"P = 760 ;// Total pressure -[mm of Hg]\n",
"wf_hex = 68.6/100 ;//Weight fraction of hexane in  mixture\n",
"wf_tol = 31.4/100 ;//Weight fraction of toluene in  mixture\n",
"mw_hex = 86.17 ;// Mol.wt. of hexane-[g]\n",
"mw_tol = 92.13 ;// Mol.wt. of toluene-[g]\n",
"mol_hex = wf_hex *F/mw_hex ;// moles of hexane-[g mol]\n",
"mol_tol = wf_tol*F/mw_tol ;// moles of toluene-[g mol]\n",
"mol_total = mol_hex + mol_tol ;// Total moles in mixture-[g mol]\n",
"molf_hex = mol_hex/mol_total ;// Mole fraction of hexane \n",
"molf_tol = mol_tol/mol_total ;// Mole fraction of toluene \n",
"// Get vapour pressure of hexane and toluene at 80 deg. C from Perry, it is\n",
"vp_hex = 1020 ;//  vapour pressure of hexane-[mm of Hg]\n",
"vp_tol = 290  ;//  vapour pressure of toluene-[mm of Hg]\n",
"K_hex = vp_hex/P ;// K-value of hexane\n",
"K_tol = vp_tol/P  ;// K-value of toluene\n",
"rec_K_hex = 1/K_hex ;// Reciprocal of K-value of hexane\n",
"rec_K_tol = 1/K_tol ;// Reciprocal of K-value of toluene\n",
"// Let L/F = x, then use eqn. 19.11 to find x(L/F) \n",
"deff('[y] = g(x)','y = (molf_hex)/(1-x*(1-rec_K_hex)) + (molf_tol)/(1-x*(1-rec_K_tol))-1');\n",
"x = fsolve(1,g) ;// L/F value\n",
"printf('\n Fraction of liquid(L/F) that will remain at equilibrium after vaporization is %.3f.\n ',x);"
   ]
   }
,
{
		   "cell_type": "markdown",
		   "metadata": {},
		   "source": [
			"## Example 19.5: Seperation_of_Virus_from_a_Culture.sce"
		   ]
		  },
  {
"cell_type": "code",
	   "execution_count": null,
	   "metadata": {
	    "collapsed": true
	   },
	   "outputs": [],
"source": [
"clear ;\n",
"clc;\n",
"// Example 19.5\n",
"printf('Example 19.5\n\n');\n",
"//Page no. 578\n",
"// Solution \n",
"Vo = 3.0 ;// Initial volume of the solution containing the culture and virus-[L]\n",
"Vp = 0.1 ;// Volume of the polymer solution added to the vessel -[L]\n",
"Kpc = 100 ;// Partition coefficient for virus(cp/cc) between two phases\n",
"//Use virus particle balance to get cp/co, where co is initial concentration of  virus in solution of culture and virus\n",
"Vc = Vo ;// At equilibrium -[L]\n",
"cp_by_co = Vo/(Vp+(Vo/Kpc)) ;// Ratio of concentration of virus in polymer phase at equilibrium to initial concentration of virus in culture phase\n",
"Fr_rec = cp_by_co*(Vp/Vo) ;// Fraction of the initial virus in the culture phase that is recovered in the polymer phase \n",
"printf('\n Fraction of the initial virus in the culture phase that is recovered in the polymer phase  is %.2f .\n ',Fr_rec);"
   ]
   }
],
"metadata": {
		  "kernelspec": {
		   "display_name": "Scilab",
		   "language": "scilab",
		   "name": "scilab"
		  },
		  "language_info": {
		   "file_extension": ".sce",
		   "help_links": [
			{
			 "text": "MetaKernel Magics",
			 "url": "https://github.com/calysto/metakernel/blob/master/metakernel/magics/README.md"
			}
		   ],
		   "mimetype": "text/x-octave",
		   "name": "scilab",
		   "version": "0.7.1"
		  }
		 },
		 "nbformat": 4,
		 "nbformat_minor": 0
}
