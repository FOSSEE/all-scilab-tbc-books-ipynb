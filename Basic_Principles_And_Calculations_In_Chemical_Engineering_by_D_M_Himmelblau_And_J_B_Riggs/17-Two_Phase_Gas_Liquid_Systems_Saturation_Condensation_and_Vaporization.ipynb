{
"cells": [
 {
		   "cell_type": "markdown",
	   "metadata": {},
	   "source": [
       "# Chapter 17: Two Phase Gas Liquid Systems Saturation Condensation and Vaporization"
	   ]
	},
{
		   "cell_type": "markdown",
		   "metadata": {},
		   "source": [
			"## Example 17.1: Calculation_of_Dew_Point_of_the_Products_of_Combustion.sce"
		   ]
		  },
  {
"cell_type": "code",
	   "execution_count": null,
	   "metadata": {
	    "collapsed": true
	   },
	   "outputs": [],
"source": [
"clear ;\n",
"clc;\n",
"// Example 17.1\n",
"printf('Example 17.1\n');\n",
"// Page no. 511\n",
"// Solution \n",
"// Basis : F =  1 mol\n",
"F = 1 ;//H2C2O4- [mol]\n",
"ex_O2 =  248 ;//Excess air- [%]\n",
"f_C = 65/100 ;// Fraction of Carbon which convert to CO2\n",
"P = 101.3 ;// Atmospheric pressure-[kPa]\n",
"// H2C2O4 + 0.5*O2-->2*CO2  +  H2O\n",
"// H2C2O4 -->2*CO  +  H2O + 0.5*O2\n",
"O2_req = F*0.5 ;// O2 required by the above reaction-[mol]\n",
"O2_in = (1 + ex_O2*F/100)*0.5 ;// Mol. of O2 entering\n",
"// Use Elemental balance moles of species in output \n",
"n_CO2 = f_C*2 ;// [mol]\n",
"n_H2O = (2*F)/2 ;// From 2H balance-[mol]\n",
"n_N2 = ((O2_in*0.79)/(0.21)) ;//  From 2N balance-[mol]\n",
"n_CO = 2-n_CO2 ;// From C balance-[mol]\n",
"n_O2 = ((4 + O2_in*2)-(n_H2O + n_CO + 2*n_CO2))/2 ;// From O2 balance-[mol]\n",
"total_mol = n_CO2 + n_H2O + n_N2 + n_CO + n_O2 ;// Total moles in output stream-[mol]\n",
"y_H2O = n_H2O/total_mol ;// Mole fraction of H2O\n",
"pp_H2O = y_H2O*P ;// Partial pressure of H2O-[kPa]\n",
"printf('\nPartial pressure of H2O %.2f kPa.',pp_H2O);\n",
"printf('\nUse partial pressure of H2O to get dew point temperature T from steam table: T  = 316.5 K');"
   ]
   }
,
{
		   "cell_type": "markdown",
		   "metadata": {},
		   "source": [
			"## Example 17.2: Condensation_of_Benzene_from_a_Vapour_Recovery_Unit.sce"
		   ]
		  },
  {
"cell_type": "code",
	   "execution_count": null,
	   "metadata": {
	    "collapsed": true
	   },
	   "outputs": [],
"source": [
"clear ;\n",
"clc;\n",
"// Example 17.2\n",
"printf('Example 17.2\n');\n",
"//Page no. 517\n",
"// Solution Fig E17.2b\n",
"gas =  1 ;// Entering gas-[g mol]\n",
"T = 26 ;// Temperature (for isothermal process)-[degree C]\n",
"// From fig. its clear that at 26 C saturation pressure is at point A\n",
"// Get vapour pressure of benzene from Perry handbook or CD,it is\n",
"vp =  99.7 ;// vapour pressure of benzene at 26 C-[mm of Hg]\n",
"// Analysis of entering gas \n",
"f_C6H6 = 0.018 ;// Mol fraction of benzene\n",
"f_air  =  0.982 ;// Mol fraction of air\n",
"mol_C6H6 = 0.018*gas ;// Moles  of benzene-[g mol]\n",
"mol_air  =  0.982*gas ;// Moles  of air-[g mol]\n",
"// Analysis of exit gas\n",
"C6H6_rec =  95/100 ;// Fraction of benzene recovered\n",
"C6H6_out  = 1-C6H6_rec ;//Fraction of benzene in exit stream\n",
"C6H6_out = mol_C6H6*C6H6_out ;//Moles of benzene in exit stream-[g mol]\n",
"air_out = mol_air ;//Moles of air in exit stream-[g mol]\n",
"total_mol = C6H6_out+air_out ;// Total moles in exit stream\n",
"y_C6H6_out = C6H6_out/total_mol ;// Mole fraction of benzene in exit\n",
"P = vp/y_C6H6_out ;// Pressure total of exit\n",
"printf('\n Pressure total at exit of compressor %.2e mm of Hg.',P);"
   ]
   }
,
{
		   "cell_type": "markdown",
		   "metadata": {},
		   "source": [
			"## Example 17.3: Smokestack_Emissions_and_Pollution.sce"
		   ]
		  },
  {
"cell_type": "code",
	   "execution_count": null,
	   "metadata": {
	    "collapsed": true
	   },
	   "outputs": [],
"source": [
"clear ;\n",
"clc;\n",
"// Example 17.3\n",
"printf('Example 17.3\n');\n",
"// Page no. 519\n",
"// Solution Fig E17.3b\n",
"\n",
"// Given\n",
"// coal analysis from handbook\n",
"ex_air = .4 ;// Fraction of excess air required\n",
"w_C = 12 ;// Mol. wt. of C-[g]\n",
"mol_C = 71/w_C ;//[kg mol]\n",
"w_H2 = 2.016 ;// Mol. wt. of H2 - [g] \n",
"mol_H2 = 5.6/w_H2;\n",
"air_O2 = 0.21;// Fraction of O2 in air\n",
"air_N2 = 0.79;// Fraction of N2 in air\n",
"\n",
"// Natural Gas\n",
"// Basis = 1 kg mol C \n",
"// CH4 + 2O2 --> CO2 + 2H2O .... Eqn. (a)\n",
"CO2_1 = 1 ;//  By Eqn. (a) CO2 produced -[kg mol]\n",
"H2O_1 = 2 ;// By Eqn. (a) H2O produced -[kg mol]\n",
"Req_O2_1 = 2 ;// By Eqn. (a) -[kg mol]\n",
"ex_O2_1 = Req_O2_1*ex_air  ;// Excess O2 required -[kg mol]\n",
"O2_1 = Req_O2_1 + ex_O2_1 ;// Total O2 required - [kg mol]\n",
"N2_1 = O2_1*(air_N2/air_O2) ;//Total N2 required - [kg mol]\n",
"Total_1 = CO2_1 + H2O_1 + N2_1 + ex_O2_1 ;// Total gas produced- [kg mol]\n",
"\n",
"// Coal \n",
"// C + O2 --> CO2  ..eqn (b)\n",
"// H2 + 1/2(O2) --> H2O.... eqn (c)\n",
"CO2_2 = 1 ;//  By Eqn. (a) CO2 produced -[kg mol]\n",
"H2O_2 = mol_H2/mol_C ;// By Eqn. (a) H2O produced -[kg mol]\n",
"Req_O2_2 = 1 + (mol_H2/mol_C)*(1/2) ;// By Eqn. (b) and (c) -[kg mol]\n",
"ex_O2_2 = Req_O2_2*ex_air  ;// Excess O2 required -[kg mol]\n",
"O2_2 = Req_O2_2 + ex_O2_2; // Total O2 required - [kg mol]\n",
"N2_2 = O2_2*(air_N2/air_O2); //Total N2 required - [kg mol]\n",
"Total_2 = CO2_2 + H2O_2 + N2_2 + ex_O2_2 ;// Total gas produced- [kg mol]\n",
"\n",
"// Let P (total pressure) = 100 kPa\n",
"P = 100 ;// Total pressure -[kPa]\n",
"p1 = P*(H2O_1/Total_1) ;// Partial pressure of water vapour in natural gas - [kPa]\n",
"Eq_T1 = 52.5  ;// Equivalent temperature -[degree C]\n",
"p2 = P*(H2O_2/Total_2) ;// Partial pressure of water vapour in coal - [kPa]\n",
"Eq_T2 = 35  ;// Equivalent temperature -[degree C]\n",
"printf('                                Natural gas                         Coal\n')\n",
"printf('                            ----------------------             --------------------\n')\n",
"printf('Partial pressure:                %.1f kPa                            %.1f kPa\n',p1,p2 ) ;\n",
"printf('Equivalent temperature:          %.1f C                              %.1f C\n',Eq_T1,Eq_T2 );"
   ]
   }
,
{
		   "cell_type": "markdown",
		   "metadata": {},
		   "source": [
			"## Example 17.4: Material_Balance_involving_Condensation.sce"
		   ]
		  },
  {
"cell_type": "code",
	   "execution_count": null,
	   "metadata": {
	    "collapsed": true
	   },
	   "outputs": [],
"source": [
"clear ;\n",
"clc;\n",
"// Example 17.4\n",
"printf('Example 17.4\n\n');\n",
"//Page no. 522\n",
"// Solution Fig E17.4\n",
"F = 30 ;// Volume of initial gas-[m^3]\n",
"P_F =  98.6 ;// Pressure of gas-[kPa]\n",
"T_F =  273+100 ;// Temperature of gas-[K]\n",
"P_p = 109 ;//[kPa]\n",
"T_p = 14+273 ;// Temperature of gas-[K]\n",
"R = 8.314 ;// [(kPa*m^3)/(k mol*K)] \n",
"// Additional condition\n",
"vpW_30 = 4.24 ;//Vapour pressure-[kPa]\n",
"vpW_14 = 1.60 ;//Vapour pressure-[kPa]\n",
"n_F = (P_F*F)/(R*T_F) ;// Number of moles in F\n",
"// Material balance to calculate  P & W\n",
"P = (n_F*((P_F-vpW_30)/P_F))/((P_p-vpW_14)/P_p) ;// P from mat. bal. of air -[kg mol]\n",
"W = (n_F*(vpW_30/P_F))- P*(vpW_14/P_p); // W from mat. bal. of water -[kg mol]\n",
"iW = n_F*(vpW_30/P_F) ;// Initial amount of water -[kg mol]\n",
"fr_con = W/iW ;//Fraction of water condenseed \n",
"printf('\n Fraction of water condenseed %.3f.',fr_con);"
   ]
   }
,
{
		   "cell_type": "markdown",
		   "metadata": {},
		   "source": [
			"## Example 17.5: Vaporization_to_Saturate_Dry_air.sce"
		   ]
		  },
  {
"cell_type": "code",
	   "execution_count": null,
	   "metadata": {
	    "collapsed": true
	   },
	   "outputs": [],
"source": [
"clear;\n",
"clc;\n",
"// Example 17.5\n",
"printf('Example 17.5\n');\n",
"//Page no. 527\n",
"// Solution Fig E17.5\n",
"P =  100 ;// Pressure of air-[kPa]\n",
"T =  20 + 273 ;// Temperature of air-[K]\n",
"R = 8.314 ;// [(kPa*m^3)/(k mol*K)] \n",
"EOH =  6 ;// Amount of ethyl alcohol to evaporate-[kg]\n",
"mw_EOH = 46.07 ;// Mol.wt. of 1 k mol ethyl alcohol-[kg]\n",
"// Additional data needed\n",
"vp_EOH = 5.93 ;// Partial pressure of alcohol at 20 C-[kPa]\n",
"vp_air = P-vp_EOH ;// Partial pressure of air at 20 C-[kPa]\n",
"n_EOH  = EOH/mw_EOH ;//Moles of ethyl alcohol -[kg mol]\n",
"n_air = (n_EOH*vp_air)/vp_EOH ;// Moles of air -[kg mol]\n",
"V_air = n_air*R*T/P ;// Volume of air required\n",
"printf('\n Volume of air required to evaporate 6 kg of ethyl alcohol is %.1f cubic metre . \n',V_air);"
   ]
   }
,
{
		   "cell_type": "markdown",
		   "metadata": {},
		   "source": [
			"## Example 17.6: Vaporization_of_a_Hazardous_Component_of_an_Oil_Slick.sce"
		   ]
		  },
  {
"cell_type": "code",
	   "execution_count": null,
	   "metadata": {
	    "collapsed": true
	   },
	   "outputs": [],
"source": [
"clear ;\n",
"clc;\n",
"// Example 17.6\n",
"printf('Example 17.6\n\n');\n",
"//Page no. 529\n",
"// Solution \n",
"P =  760 ;// Pressure -[ mm of Hg]\n",
"// Get vapour pressure of n-heptane from Perry, 40 mm of Hg\n",
"vp = 40 ;// vapour pressure of n-heptane-[mm of Hg]\n",
"// Use the 2nd relation given in problem to find K\n",
"K = 10^((log10(vp/P)-0.16)/1.25) ;\n",
"// Get t using the 1st relation in the question\n",
"// For t_half\n",
"x = 0.5 ;// mole fraction after  t_half\n",
"x0 = 1 ;// initial mole fraction \n",
"t_half = (log(x/x0))/(-K);// Time required to reduce the concentration to one-half-[min]\n",
"printf('Time required to reduce the concentration to one-half is %.1f min. \n',t_half);"
   ]
   }
],
"metadata": {
		  "kernelspec": {
		   "display_name": "Scilab",
		   "language": "scilab",
		   "name": "scilab"
		  },
		  "language_info": {
		   "file_extension": ".sce",
		   "help_links": [
			{
			 "text": "MetaKernel Magics",
			 "url": "https://github.com/calysto/metakernel/blob/master/metakernel/magics/README.md"
			}
		   ],
		   "mimetype": "text/x-octave",
		   "name": "scilab",
		   "version": "0.7.1"
		  }
		 },
		 "nbformat": 4,
		 "nbformat_minor": 0
}
