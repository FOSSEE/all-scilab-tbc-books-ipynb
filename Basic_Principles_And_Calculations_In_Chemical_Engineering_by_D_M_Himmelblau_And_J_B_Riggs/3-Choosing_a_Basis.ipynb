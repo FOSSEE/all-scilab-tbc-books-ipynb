{
"cells": [
 {
		   "cell_type": "markdown",
	   "metadata": {},
	   "source": [
       "# Chapter 3: Choosing a Basis"
	   ]
	},
{
		   "cell_type": "markdown",
		   "metadata": {},
		   "source": [
			"## Example 3.1: Choosing_a_Basis.sce"
		   ]
		  },
  {
"cell_type": "code",
	   "execution_count": null,
	   "metadata": {
	    "collapsed": true
	   },
	   "outputs": [],
"source": [
"clear ;\n",
"clc;\n",
"\n",
"// Example 3.1\n",
"printf('Example 3.1\n\n');\n",
"//Page no. 79\n",
"// Solution\n",
"\n",
"// Let component 1 be Ce and component 2 be O\n",
"// Basis 2kg mol CeO\n",
"mol1 = 1.0 ;//[kg mol]\n",
"mol2 = 1.0 ;//[kg mol]\n",
"total = mol1+mol2 ;//[kg mol] \n",
"mol_fr1 = mol1/total ;//mole fraction of Ce\n",
"mol_fr2 = mol2/total ;//mole fraction of O\n",
"mw1 = 140.12; //molecular weight of Ce\n",
"mw2 = 16.0  ;//molecular weight of O\n",
"m1 = mw1*mol1;\n",
"m2 = mw2*mol2;\n",
"m_fr1 = m1/(m1+m2) ;//mass fraction of Ce\n",
"m_fr2 = m2/(m1+m2) ;//mass fraction of O\n",
"\n",
"printf('Component     kg mol       Mole fraction    Mol.Wt.     kg.          Mass fraction\n')\n",
"printf('\n Ce            %.2f         %.3f            %.2f      %.3f      %.2f\n',mol1,mol_fr1,mw1,m1,m_fr1);\n",
"printf(' O             %.2f         %.3f            %.2f       %.3f       %.2f\n',mol2,mol_fr2,mw2,m2,m_fr2);\n",
"printf(' Total         %.2f         %.3f            %.2f      %.3f      %.2f',mol1+mol2,mol_fr1+mol_fr2,mw1+mw2,m1+m2,m_fr1+m_fr2);"
   ]
   }
,
{
		   "cell_type": "markdown",
		   "metadata": {},
		   "source": [
			"## Example 3.2: Choosing_a_Basis.sce"
		   ]
		  },
  {
"cell_type": "code",
	   "execution_count": null,
	   "metadata": {
	    "collapsed": true
	   },
	   "outputs": [],
"source": [
"clear ;\n",
"clc;\n",
"\n",
"// Example 3.2\n",
"printf('Example 3.2\n\n');\n",
"//Page no. 80\n",
"// Solution\n",
"\n",
"// Basis 100kg mol gas\n",
"ml1 = 20.0 ;//[kg mol]\n",
"ml2 = 30.0 ;//[kg mol]\n",
"ml3 = 40.0 ;//[kg mol]\n",
"ml4 = 10.0 ;//[kg mol]\n",
"mw1 = 44.0  ;//molecular weight of CO2\n",
"mw2 =  28.0  ;//molecular weight of CO\n",
"mw3 =  16.04 ; //molecular weight of CH4\n",
"mw4 =  2.02  ;//molecular weight of H2\n",
"m1 = mw1*ml1;\n",
"m2 = mw2*ml2;\n",
"m3 = mw3*ml3;\n",
"m4 = mw4*ml4;\n",
"printf(' Component      kg mol        Mol.Wt.    kg.      \n')\n",
"printf(' CO2            %.2f         %.2f      %.0f     \n',ml1,mw1,m1);\n",
"printf(' CO             %.2f         %.2f      %.0f     \n',ml2,mw2,m2);\n",
"printf(' CH4            %.2f         %.2f      %.0f     \n',ml3,mw3,m3);\n",
"printf(' H2             %.2f         %.2f       %.0f     \n',ml4,mw4,m4);\n",
"printf('\n Total          %.2f        %.2f      %.0f       \n',ml1+ml2+ml3+ml4,mw1+mw2+mw3+mw4,m1+m2+m3+m4);\n",
"av_m = (m1+m2+m3+m4)/100 ;//[kg]\n",
"printf('\nAverage molecular mass of gas is %.1f kg.\n',av_m);"
   ]
   }
,
{
		   "cell_type": "markdown",
		   "metadata": {},
		   "source": [
			"## Example 3.3: Choosing_a_Basis_for_Cell_Growth.sce"
		   ]
		  },
  {
"cell_type": "code",
	   "execution_count": null,
	   "metadata": {
	    "collapsed": true
	   },
	   "outputs": [],
"source": [
"clear ;\n",
"clc;\n",
"\n",
"// Example 3.3\n",
"printf('Example 3.3\n\n');\n",
"//Page no. 81\n",
"// Solution\n",
"\n",
"// Basis 1 hour\n",
"rc = 5000 ;//[cpm-counts per minute]\n",
"cg = 10000/24 ;//[cells/hr]\n",
"k = cg/rc ;//[cells/cpm]\n",
"n_rc = 8000 ;//[cpm]\n",
"n_cg = k*n_rc ;//[cells/hr]\n",
"printf('New average cell growth rate is %.0f cells/hr.\n',n_cg);\n",
"in_p = ((n_cg-cg)/cg)*100 ;//[increase percent]\n",
"printf(' Increase percent of cell growth rate is %.1f %% .\n',in_p);"
   ]
   }
,
{
		   "cell_type": "markdown",
		   "metadata": {},
		   "source": [
			"## Example 3.4: Calculation_of_the_Mass_Fraction_of_the_Components_in_Nanoparticles.sce"
		   ]
		  },
  {
"cell_type": "code",
	   "execution_count": null,
	   "metadata": {
	    "collapsed": true
	   },
	   "outputs": [],
"source": [
"clear;\n",
"clc;\n",
"\n",
"// Example 3.4\n",
"printf('Example 3.4\n\n');\n",
"//Page no. 82\n",
"// Solution\n",
"\n",
"// Basis 100 g mol of Nd(4.5)Fe(77)B(18.5)\n",
"//(a)\n",
"n_Fe = 77-0.2;\n",
"printf('(a) Molecular formula after adding Cu is Nd(4.5)Fe(%.1f)B(18.5)Cu(.2).\n',n_Fe);\n",
"\n",
"//(b)\n",
"o_ml1 = 4.5 ;//[kg mol]\n",
"o_ml2 = 77.0 ;//[kg mol]\n",
"o_ml3 = 18.5 ;//[kg mol]\n",
"o_ml4 = 0.0 ;//[kg mol]\n",
"f_ml1 = 4.5 ;//[kg mol]\n",
"f_ml2 = 77.0-0.2 ;//[kg mol]\n",
"f_ml3 = 18.5 ;//[kg mol]\n",
"f_ml4 = 0.2 ;//[kg mol]\n",
"mw1 = 144.24  ;//molecular weight of Nd\n",
"mw2 =  55.85  ;//molecular weight of Fe\n",
"mw3 =  10.81 ; //molecular weight of B\n",
"mw4 =  63.55  ;//molecular weight of Cu\n",
"m1 = mw1*f_ml1;\n",
"m2 = mw2*f_ml2;\n",
"m3 = mw3*f_ml3;\n",
"m4 = mw4*f_ml4;\n",
"f1 = f_ml1/100;\n",
"f2 = f_ml2/100;\n",
"f3 = f_ml3/100;\n",
"f4 = f_ml4/100;\n",
"tf = f1+f2+f3+f4;\n",
"printf('\n (b) Component     Original g mol    Final g mol        Mol.Wt.        g.             Mass fraction\n')\n",
"printf('     Nd            %.2f              %.2f               %.2f         %.2f         %.3f\n',o_ml1,f_ml1,mw1,m1,f1);\n",
"printf('     Fe            %.2f             %.2f              %.2f          %.2f        %.3f\n',o_ml2,f_ml2,mw2,m2,f2);\n",
"printf('     B             %.2f             %.2f              %.2f          %.2f         %.3f\n',o_ml3,f_ml3,mw3,m3,f3);\n",
"printf('     Cu            %.2f              %.2f               %.2f          %.2f          %.3f\n',o_ml4,f_ml4,mw4,m4,f4);\n",
"printf('\n     Total         100.0             100.0                             %.2f        %.3f\n',m1+m2+m3+m4,tf);"
   ]
   }
,
{
		   "cell_type": "markdown",
		   "metadata": {},
		   "source": [
			"## Example 3.5: Changing_Bases.sce"
		   ]
		  },
  {
"cell_type": "code",
	   "execution_count": null,
	   "metadata": {
	    "collapsed": true
	   },
	   "outputs": [],
"source": [
"clear ;\n",
"clc;\n",
"\n",
"// Example 3.5\n",
"printf('Example 3.5\n\n');\n",
"//Page no. 84\n",
"// Solution\n",
"\n",
"// Basis 100 kg coal\n",
"ml_r = 9;\n",
"wt_r = (9*1.008)/(1*12) ;//conversion of mole ratio to wt.ratio\n",
"m1 = 2 ;//[kg] wt.of sulphur\n",
"m2 = 1 ;//[kg] wt. of nitrogen\n",
"m3 = 6 ;//[kg] wt. of oxygen\n",
"m4 = 11 ;//[kg] wt. of ash\n",
"m5 = 3 ;//[kg] wt. of water\n",
"m6 = (1*77)/(wt_r+1) ;//[kg] wt. of carbon\n",
"m7  = wt_r*m6 ;//[kg] wt. of hydrogen\n",
"wc = 100-(m4+m5)  ;//[kg] wt. of coal excluding ash and water\n",
"wf1 = m1/wc;\n",
"wf2 = m2/wc;\n",
"wf3 = m3/wc;\n",
"wf4 = m4/wc;\n",
"wf6 = m6/wc;\n",
"wf7 = m7/wc;\n",
"tf = wf1+wf2+wf3+wf6+wf7;\n",
"printf(' Component        kg.            Mass fraction');\n",
"printf('\n C                %.2f          %.2f\n',m6,wf6);\n",
"printf(' H                %.2f          %.2f\n',m7,wf7);\n",
"printf(' S                %.2f           %.2f\n',m1,wf1);\n",
"printf(' N                %.2f           %.2f\n',m2,wf2);\n",
"printf(' O                %.2f           %.2f\n',m3,wf3);\n",
"printf('\n Total            %.2f          %.2f\n',wc,tf);"
   ]
   }
],
"metadata": {
		  "kernelspec": {
		   "display_name": "Scilab",
		   "language": "scilab",
		   "name": "scilab"
		  },
		  "language_info": {
		   "file_extension": ".sce",
		   "help_links": [
			{
			 "text": "MetaKernel Magics",
			 "url": "https://github.com/calysto/metakernel/blob/master/metakernel/magics/README.md"
			}
		   ],
		   "mimetype": "text/x-octave",
		   "name": "scilab",
		   "version": "0.7.1"
		  }
		 },
		 "nbformat": 4,
		 "nbformat_minor": 0
}
