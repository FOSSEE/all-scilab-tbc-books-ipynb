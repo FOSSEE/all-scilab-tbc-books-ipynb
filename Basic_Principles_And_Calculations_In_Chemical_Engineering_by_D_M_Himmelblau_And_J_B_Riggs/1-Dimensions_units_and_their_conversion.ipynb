{
"cells": [
 {
		   "cell_type": "markdown",
	   "metadata": {},
	   "source": [
       "# Chapter 1: Dimensions units and their conversion"
	   ]
	},
{
		   "cell_type": "markdown",
		   "metadata": {},
		   "source": [
			"## Example 1.1: Dimensions_and_Units.sce"
		   ]
		  },
  {
"cell_type": "code",
	   "execution_count": null,
	   "metadata": {
	    "collapsed": true
	   },
	   "outputs": [],
"source": [
"clear;\n",
"clc;\n",
"\n",
"// Example 1.1\n",
"printf('Example 1.1\n\n');\n",
"//Page no. 13\n",
"// Solution\n",
"\n",
"//(a)\n",
"printf('(a) We cannot add the two terms since both have different dimensions. 1 foot has the dimension of the length, whereas 3 seconds has the dimension of time.\n');\n",
"\n",
"//(b)\n",
"// Converting all terms to same unit\n",
"hp = 746;//[watts]\n",
"total = 1*hp+300;//[watts]\n",
"\n",
"printf(' (b) Answer is  %i watts.',total);"
   ]
   }
,
{
		   "cell_type": "markdown",
		   "metadata": {},
		   "source": [
			"## Example 1.2: Conversion_of_Units.sce"
		   ]
		  },
  {
"cell_type": "code",
	   "execution_count": null,
	   "metadata": {
	    "collapsed": true
	   },
	   "outputs": [],
"source": [
"clear ;\n",
"clc;\n",
"\n",
"// Example 1.2\n",
"printf('Example 1.2\n\n');\n",
"//Page no. 17\n",
"// Solution\n",
"\n",
"// (a)\n",
"// Converting all terms to same unit\n",
"ml = 1.61;//[km]\n",
"km = (2*1)/(ml);//[miles]\n",
"printf('(a) 2 kilometers is equal to %.2f miles.\n',km);\n",
"\n",
"//(b)\n",
"in = 2.54;//[cm]\n",
"dy = 24*60;//[min]\n",
"nw_unit = (400*(in)^3*1)/(1*dy);//[cubic centimetre/min]\n",
"printf(' (b) 400 cubic in./day is equal to %.2f cubic centimetre/min.',nw_unit);"
   ]
   }
,
{
		   "cell_type": "markdown",
		   "metadata": {},
		   "source": [
			"## Example 1.3: Nanotechnology.sce"
		   ]
		  },
  {
"cell_type": "code",
	   "execution_count": null,
	   "metadata": {
	    "collapsed": true
	   },
	   "outputs": [],
"source": [
"clear;\n",
"clc;\n",
"\n",
"// Example 1.3\n",
"printf('Example 1.3\n\n');\n",
"//Page no. 17\n",
"// Solution\n",
"\n",
"//(a)\n",
"// Converting all terms to same unit\n",
"nm = 10^(-9);//[meters]\n",
"m1 = 10;//[decimeters]\n",
"dm = (1.8*nm*m1)/(1*1);//[decimeters]\n",
"printf('(a) 1.8 nanometers is equal to %.2e dm.\n',dm);\n",
"\n",
"//(b)\n",
"m2 = 39.37;//[inches]\n",
"in = (1.8*nm*m2)/(1*1);//[inches]\n",
"printf(' (b) 1.8 nanometers is equal to %.2e in.\n',in);"
   ]
   }
,
{
		   "cell_type": "markdown",
		   "metadata": {},
		   "source": [
			"## Example 1.4: A_conversion_involving_lbm_and_lbf.sce"
		   ]
		  },
  {
"cell_type": "code",
	   "execution_count": null,
	   "metadata": {
	    "collapsed": true
	   },
	   "outputs": [],
"source": [
"clear ;\n",
"clc;\n",
"\n",
"// Example 1.4\n",
"printf('Example 1.4\n\n');\n",
"//Page no. 19\n",
"// Solution\n",
"\n",
"// Potential Energy =  mgh\n",
"// Assume 100 lb means 100 lb mass \n",
"m = 100;//[lb]\n",
"g = 32.2 ;//[ft/second square]\n",
"h = 10 ;//[ft]\n",
"gc = 32.174 ;//[(ft*lbm)/(second square/lbf)]\n",
"pe = (m*(g/gc)*h) ;//[ft*lbf]\n",
"printf('Potential Energy  is equal to %i (ft)(lbf).\n',pe);"
   ]
   }
,
{
		   "cell_type": "markdown",
		   "metadata": {},
		   "source": [
			"## Example 1.5: Conversion_associated_with_Biological_Materials.sce"
		   ]
		  },
  {
"cell_type": "code",
	   "execution_count": null,
	   "metadata": {
	    "collapsed": true
	   },
	   "outputs": [],
"source": [
"clear;\n",
"clc;\n",
"\n",
"// Example 1.5\n",
"printf('Example 1.5\n\n');\n",
"//Page no.20\n",
"// Solution\n",
"\n",
"// Basis 1 min\n",
"// Assume 100lb means 100 lb mass \n",
"g = 10^6 ;//[ug mol]\n",
"lb = 454 ;//[g mol]\n",
"ml = .001 ;//[L]\n",
"L = 3.531*10^(-2);//[ft^3]\n",
"hr = 60 ;//[min]\n",
"dy = 24 ;//[hr]\n",
"pr_rate = (0.6*1*1*1*hr*dy/(g*lb*ml*L)); //[ft*lbf]\n",
"\n",
"printf('Production rate of glucose is %.4f lb mol/(cubic feet*day).\n',pr_rate);"
   ]
   }
,
{
		   "cell_type": "markdown",
		   "metadata": {},
		   "source": [
			"## Example 1.6: Dimensional_Consistency.sce"
		   ]
		  },
  {
"cell_type": "code",
	   "execution_count": null,
	   "metadata": {
	    "collapsed": true
	   },
	   "outputs": [],
"source": [
"clear;\n",
"clc;\n",
"\n",
"// Example 1.6\n",
"printf('Example 1.6\n\n');\n",
"//Page no. 22\n",
"// Solution\n",
"\n",
"// using suitable conversion factors inside front cover of book\n",
"printf('By analysing dimensionally both sides of equation you can say that both values of 16.2 must have the units of microns(10^-6 m).\n');\n",
"printf(' The exponential must be dimensionless so that 0.021 must have the associated units of s^(-1).\n');\n",
"\n",
"m = 39.27 ;//[inches]\n",
"um = 10^(-6) ;//[meters]\n",
"c1 = 16.2*m*um ;//[inches]\n",
"mn = 60 ;//[seconds]\n",
"c2 = 0.021*60;//[min^(-1)]\n",
"printf('\n New modified expression so that we can put t in minutes and get d in inches is as follows,\n d(in) =  %.2e(1-e^(-%.2f*t(min))) \n',c1,c2);"
   ]
   }
,
{
		   "cell_type": "markdown",
		   "metadata": {},
		   "source": [
			"## Example 1.7: Dimensional_Consistency.sce"
		   ]
		  },
  {
"cell_type": "code",
	   "execution_count": null,
	   "metadata": {
	    "collapsed": true
	   },
	   "outputs": [],
"source": [
"clear;\n",
"clc;\n",
"\n",
"// Example 1.7\n",
"printf('Example 1.7\n\n');\n",
"// Page no. 23\n",
"// Solution\n",
"\n",
"printf('By analysing dimensionally , both a and x have same units(from 1+(x^2/a^2)),thus left hand side of equation has units of 1/x(from d/dx),\nAnd right hand side has units of x^2 (from product a.x).\n');\n",
"printf('\nTherefore something is wrong as the equation is not dimensionally consistent.\n');"
   ]
   }
,
{
		   "cell_type": "markdown",
		   "metadata": {},
		   "source": [
			"## Example 1.8: Retention_of_significant_Figures.sce"
		   ]
		  },
  {
"cell_type": "code",
	   "execution_count": null,
	   "metadata": {
	    "collapsed": true
	   },
	   "outputs": [],
"source": [
"clear ;\n",
"clc;\n",
"\n",
"// Example 1.8\n",
"printf('Example 1.8\n\n');\n",
"// Page no. 28\n",
"// Solution\n",
"\n",
"// Using Scientifc notation\n",
"x = 2.24 * 10^4 ; //[kg]\n",
"y = 2.01 * 10^4 ;//[kg]\n",
"D = x - y ;// Difference obtained by using scientific notation //[kg]\n",
"\n",
"printf(' Difference obtained by using scientific notation is %.4e kg.\n  Hence answer is good to 2 decimal places. \n',D);"
   ]
   }
,
{
		   "cell_type": "markdown",
		   "metadata": {},
		   "source": [
			"## Example 1.9: Micro_dissection_of_DNA.sce"
		   ]
		  },
  {
"cell_type": "code",
	   "execution_count": null,
	   "metadata": {
	    "collapsed": true
	   },
	   "outputs": [],
"source": [
"clear;\n",
"clc;\n",
"\n",
"// Example 1.9\n",
"printf('Example 1.9\n\n');\n",
"//Page no. 29\n",
"// Solution\n",
"\n",
"um = 3 ;//[kb]\n",
"kb = 1000 ;//[bp]\n",
"bs_prs = (3*um*kb)/(1*1);\n",
"printf('The number of base pairs are %i bp. \n',bs_prs);"
   ]
   }
],
"metadata": {
		  "kernelspec": {
		   "display_name": "Scilab",
		   "language": "scilab",
		   "name": "scilab"
		  },
		  "language_info": {
		   "file_extension": ".sce",
		   "help_links": [
			{
			 "text": "MetaKernel Magics",
			 "url": "https://github.com/calysto/metakernel/blob/master/metakernel/magics/README.md"
			}
		   ],
		   "mimetype": "text/x-octave",
		   "name": "scilab",
		   "version": "0.7.1"
		  }
		 },
		 "nbformat": 4,
		 "nbformat_minor": 0
}
