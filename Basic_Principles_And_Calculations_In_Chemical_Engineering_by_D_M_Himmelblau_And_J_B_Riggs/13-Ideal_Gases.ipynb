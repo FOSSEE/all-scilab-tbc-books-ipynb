{
"cells": [
 {
		   "cell_type": "markdown",
	   "metadata": {},
	   "source": [
       "# Chapter 13: Ideal Gases"
	   ]
	},
{
		   "cell_type": "markdown",
		   "metadata": {},
		   "source": [
			"## Example 13.1: Use_of_Standard_Conditions_to_Calculate_Volume_from_Mass.sce"
		   ]
		  },
  {
"cell_type": "code",
	   "execution_count": null,
	   "metadata": {
	    "collapsed": true
	   },
	   "outputs": [],
"source": [
"clear;\n",
"clc;\n",
"// Example 13.1\n",
"printf('Example 13.1\n\n');\n",
"//Page No. 404\n",
"// Solution\n",
"m_CO2 = 40 ;// Mass of CO2-[kg]\n",
"mol_wt_CO2 = 44 ;// Molecular mass of 1kmol CO2 -[kg]\n",
"mol_V = 22.42 ;// Molar of ideal gas at standard condition-[cubic metre/kg mol]\n",
"V_CO2 = (m_CO2 * mol_V)/(mol_wt_CO2);// volume of CO2-[cubic metre]\n",
" printf('Volume occupied by 40 kg CO2 at standard condition is  %.1f cubic metre.',V_CO2);"
   ]
   }
,
{
		   "cell_type": "markdown",
		   "metadata": {},
		   "source": [
			"## Example 13.2: Calculation_of_R_using_the_Standard_Conditions.sce"
		   ]
		  },
  {
"cell_type": "code",
	   "execution_count": null,
	   "metadata": {
	    "collapsed": true
	   },
	   "outputs": [],
"source": [
"clear ;\n",
"clc;\n",
"// Example 13.2\n",
"printf('Example 13.2\n\n');\n",
"//Page No. 405\n",
"// Solution\n",
"p =1 ;// Pressure -[atm]\n",
"V = 22415 ;// Molar valume -[cubic centimetre/g mol]\n",
"T = 273.15 ;// Temperature-[K]\n",
"R = (p*V/T);// Universal gas constant-[(cubic centimetre.atm)/(K.g mol)]\n",
" printf('Universal gas constant is  %.2f (cubic centimetre*atm)/(K*g mol). ',R);"
   ]
   }
,
{
		   "cell_type": "markdown",
		   "metadata": {},
		   "source": [
			"## Example 13.3: Application_of_Ideal_Gas_Law_to_Calculate_Volume.sce"
		   ]
		  },
  {
"cell_type": "code",
	   "execution_count": null,
	   "metadata": {
	    "collapsed": true
	   },
	   "outputs": [],
"source": [
"clear ;\n",
"clc;\n",
" //   Example 13.3\n",
" printf('Example 13.3\n\n');\n",
" //   Page No.406\n",
" //   Solution\n",
"m_CO2 = 88 ;//   Mass of CO2-[lb]\n",
"mol_wt_CO2 = 44  ;//   Molecular mass of 1 lb mol CO2 -[lb]\n",
"mol_V = 359 ; //   Molar volume-[cubic feet]\n",
" //  State 1-standard condition\n",
"P1 = 33.91 ; //   Pressure -[ft of water]\n",
"T1 = 273  ;//  Temperature-[K]\n",
" //   State 2\n",
"P2 = 32.2  ;//   Pressure -[ft of water]\n",
"Tc = 15  ;//   Temperature-[degree C]\n",
"T2 = Tc+273  ;//  Temperature-[K]\n",
" //   Use eqn. 13.2 to get final volume\n",
"V1 = (m_CO2 * mol_V) / (mol_wt_CO2);\n",
"V2 = (V1 * T2 * P1) / (T1 * P2);\n",
" printf('The volume occupied 88 lb of CO2 at given condition is  %.0f cubic feet.',V2);"
   ]
   }
,
{
		   "cell_type": "markdown",
		   "metadata": {},
		   "source": [
			"## Example 13.4: Calculation_of_Gas_Density.sce"
		   ]
		  },
  {
"cell_type": "code",
	   "execution_count": null,
	   "metadata": {
	    "collapsed": true
	   },
	   "outputs": [],
"source": [
"clear ;\n",
"clc;\n",
"// Example 13.4\n",
"printf('Example 13.4\n\n');\n",
"//Page No. 408 \n",
"// Solution\n",
"mol_wt_N2 = 28 ;// Molecular mass of 1 kg mol N2 -[kg]\n",
"mol_V = 22.42 ;// Molar of ideal gas at standard condition-[cubic metre/kg mol]\n",
"Tc =  27 ;// Temperature-[degree C]\n",
"T = Tc + 273 ;//Temperature-[K]\n",
"P = 100 ;//Pressure-[kPa]\n",
"//Standard condition\n",
"Ps = 101.3 ;// Pressure -[kPa]\n",
"Ts = 273 ;//Temperature-[K]\n",
"V = (T *  Ps *  mol_V)/(Ts *  P) ;// Volume occupied by N2-[cubic metre]\n",
"D_N2 = mol_wt_N2/V ;// Density of N2 at given condition-[kg/cubic metre]\n",
" printf(' Density of N2 at given condition is  %.3f kg/cubic metre.',D_N2);"
   ]
   }
,
{
		   "cell_type": "markdown",
		   "metadata": {},
		   "source": [
			"## Example 13.5: Calculation_of_Specific_Gravity_of_a_Gas.sce"
		   ]
		  },
  {
"cell_type": "code",
	   "execution_count": null,
	   "metadata": {
	    "collapsed": true
	   },
	   "outputs": [],
"source": [
"clear ;\n",
"clc;\n",
"// Example 13.5\n",
"printf('Example 13.5\n\n');\n",
"//Page No. 409 \n",
"// Solution\n",
"mol_wt_N2 = 28 ;// Molecular mass of 1 lb mol N2 -[lb]\n",
"mol_wt_air = 29 ;// Molecular mass of 1 lb mol air -[lb]\n",
"mol_V = 359 ;// Molar volume of ideal gas-[cubic feet]\n",
"//Given condition\n",
"Tf =  80 ;// Temperature-[degree F]\n",
"T = Tf + 460 ;//Temperature-[degree Rankine]\n",
"P = 745 ;//Pressure-[mm of Hg]\n",
"//Standard condition\n",
"Ps = 760 ;// Pressure -[mm of Hg]\n",
"Ts = 492 ;//Temperature-[degree Rankine]\n",
"D_air = (Ts *  P *  mol_wt_air)/(T *  Ps *  mol_V) ;// Density of air at given condition-[lb/cubic feet]\n",
"D_N2 = (Ts *  P *  mol_wt_N2)/(T *  Ps *  mol_V) ;// Density of N2 at given condition-[lb/cubic feet]\n",
"sg_N2 = D_N2/D_air ;// Specific gravity of N2 compared to air at given condition \n",
" printf(' Specific gravity of N2 compared to air at given condition  is  %.3f .',sg_N2);"
   ]
   }
,
{
		   "cell_type": "markdown",
		   "metadata": {},
		   "source": [
			"## Example 13.6: Calculation_of_the_Partial_Pressures_of_the_Components_in_a_Gas.sce"
		   ]
		  },
  {
"cell_type": "code",
	   "execution_count": null,
	   "metadata": {
	    "collapsed": true
	   },
	   "outputs": [],
"source": [
"clear ;\n",
"clc;\n",
"// Example 13.6\n",
"printf('Example 13.6\n\n');\n",
"//Page No. 414\n",
"// Solution\n",
"F_gas =  1 ;// Flue gas [kg mol]\n",
"mf_CO2 = 14/100 ;// [mol fraction]\n",
"mf_O2 = 6/100 ;// [mol fraction]\n",
"mf_N2 = 80/100 ;// [mol fraction]\n",
"P = 765 ;//Pressure-[mm of Hg]\n",
"T =  400 ;// Temperature-[degree F]\n",
"p_CO2 = P * mf_CO2 ;// Partial pressure of CO2-[mm of Hg]\n",
"p_O2 = P * mf_O2 ;// Partial pressure of O2-[mm of Hg]\n",
"p_N2 = P * mf_N2 ;// Partial pressure of N2-[mm of Hg]\n",
" printf(' Component            pi(Partial pressure-[mm of Hg]) \n');\n",
" printf('  CO2                  %.1f mm of Hg\n ',p_CO2);\n",
" printf(' O2                   %.1f mm of Hg\n ',p_O2);\n",
" printf(' N2                   %.1f mm of Hg\n ',p_N2);"
   ]
   }
,
{
		   "cell_type": "markdown",
		   "metadata": {},
		   "source": [
			"## Example 13.7: Material_Balance_for_a_Process_Involving_Combustion.sce"
		   ]
		  },
  {
"cell_type": "code",
	   "execution_count": null,
	   "metadata": {
	    "collapsed": true
	   },
	   "outputs": [],
"source": [
"clear ;\n",
"clc;\n",
"// Example 13.7\n",
"printf('Example 13.7\n\n');\n",
"//Page no. 416\n",
"// Solution fig E13.7\n",
"G = 100 ;// Basis: Pyrolysis Gas-[lb mol] \n",
"ub_CO = 10/100 ;// fraction of CO left unburnt\n",
"ex_air = 40/100 ;;// fraction of excess air\n",
"m_vol = 359 ;// molar volume of gas at std. cond.-[cubic feet]\n",
"Ts = 492 ;// Standard temperature -[degree Rankine]\n",
"Ps = 29.92 ;//Standard pressure -[in. Hg]\n",
"// Analysis of entering gas of entering gas\n",
"Tf1 =  90 ;// Temperature of gas-[degree F]\n",
"T_gas = Tf1 +  460 ;//Temperature of gas-[degree Rankine]\n",
"P_gas = 35 ;//Pressure-[in. Hg]\n",
"CO2 = 6.4/100 ;// mol fraction of CO2\n",
"O2 = 0.1/100 ;// mol fraction of O2\n",
"CO = 39/100 ;// mol fraction of CO\n",
"H2 = 51.8/100 ;// mol fraction of H2\n",
"CH4 = 0.6/100 ;// mol fraction of CH4\n",
"N2 = 2.1/100 ;// mol fraction of N2\n",
"// Analysis of entering air\n",
"Tf2 = 70 ;// Temperature of air -[degree F]\n",
"T_air = Tf2 +  460 ;//Temperature of air-[degree Rankine]\n",
"P_air = 29.4 ;//Pressure of air [in. Hg]\n",
"f_N2 = 79/100 ;// mol fraction of N2\n",
"f_O2 =  21/100 ;// mol fraction of O2\n",
"// Get O2 required for combustion of CO,H2 & CH4 according to the following  equation\n",
"// CO +  1/2O2-->CO2\n",
"//H2 +  1/2O2-->H20\n",
"//CH4 +  2O2--> CO2 +  2H2O\n",
"O2r_O2 = O2 * G ;//  O2 required by O2-[lb mol]\n",
"O2r_CO = CO * G/2 ;// O2 required by CO-[lb mol]\n",
"O2r_H2 = H2 * G/2 ;// O2 required by H2-[lb mol]\n",
"O2r_CH4 = G * CH4 * 2 ;// O2 required by CH4-[lb mol]\n",
"O2r_total = O2r_O2 +  O2r_CO +  O2r_H2 +  O2r_CH4 ;// Total O2 required-[lb mol]\n",
"ex_O2 = ex_air * O2r_total ;// Excess O2-[lb mol]\n",
"total_O2 = ex_O2 +  O2r_total ;// Total amt of O2 in air-[lb mol]\n",
"total_N2 = total_O2 * (f_N2/f_O2);// Total amt of in air-[lb mol]\n",
"air = total_O2 +  total_N2 ;// Total air entering -[lb mol]\n",
"// Product analysis\n",
"P_CO = ub_CO * CO * G ;//Unburnt CO in P-[lb mol]\n",
"//Element balance of 2N\n",
"P_N2 = N2 * G +   total_N2 ;//  N2 in P-[lb mol]\n",
"//Element balance of C\n",
"P_CO2 =  (CO2 +  CO +  CH4) * G - 1 * P_CO;//CO2 in P-[lb mol]\n",
"// Element balance of 2H\n",
"P_H2O = (H2 +  2 * CH4) * G ;// H2 in P-[lb mol]\n",
"//  Element balance of 2O\n",
"P_O2 = (CO2 +  O2 +  0.5 * CO) * G +  total_O2 -P_CO2-0.5 * (P_H2O +  P_CO);// O2 in P-[lb mol]\n",
"P = P_CO +  P_N2 +  P_CO2 +  P_H2O +  P_O2 ;// Product-[lb mol]\n",
"Tf3 =  400  ;// Temperature of product-[degree F]\n",
"T_prod = Tf3 +  460 ;//Temperature of product-[degree Rankine]\n",
"P_prod =  35 ;// Pressure of product -[in.Hg]\n",
"V_gas = (G * m_vol * T_gas * Ps)/(Ts * P_gas);\n",
"V_air = (air * m_vol * T_air * Ps)/(Ts * P_air);\n",
"V_prod = (P * m_vol * T_prod * Ps)/(Ts * P_prod);\n",
"air_ft3 = V_air/V_gas ;//Air supplied per ft^3 of gas entered-[cubic feet]\n",
"P_ft3 =  V_prod/V_gas ;//Product gas produced per ft^3 of gas entered-[cubic feet]\n",
"printf(' Air supplied per ft^3 of gas entered %.2f cubic feet.\n ',air_ft3);\n",
"printf(' Product gas produced per ft^3 of gas entered %.2f cubic feet.\n',P_ft3);"
   ]
   }
,
{
		   "cell_type": "markdown",
		   "metadata": {},
		   "source": [
			"## Example 13.8: Material_Balance_without_Reaction.sce"
		   ]
		  },
  {
"cell_type": "code",
	   "execution_count": null,
	   "metadata": {
	    "collapsed": true
	   },
	   "outputs": [],
"source": [
"clear ;\n",
"clc;\n",
"//Page No. 419\n",
"// Example 13.8\n",
"printf('Example 13.8\n\n');\n",
"// Solution fig E13.8\n",
"T1c = 15 ;// Temperature of F & P -[degree C] \n",
"T1 =  273  +  T1c ;// Temperature of F & P -[K] \n",
"P1 =  105 ;// Pressure of F & P -[kPa]\n",
"// F analysis\n",
"F_CO2 = 1.2/100 ;// Volume fraction \n",
"F_odr = 98.8/100 ;// Volume fraction \n",
"// P analysis\n",
"P_CO2 = 3.4/100 ;// Volume fraction \n",
"P_odr = 96.6/100 ;// Volume fraction \n",
" \n",
"Tc_CO2 =  7 ;//Temperature CO2 -[degree C] \n",
"T_CO2 =  273 +  Tc_CO2 ;// Temperature CO2 -[K]\n",
"P_CO2 =  131 ;// Pressure of CO2 -[kPa]\n",
"CO2 = 0.0917 ;// Volume flow rate of CO2-[cubic metre/min]\n",
"// Convert given volume flow rate of CO2 at temperature of F & P\n",
"nw_CO2 = (CO2 *  T1 *  P_CO2)/(T_CO2 *  P1) ;// volume flow rate of CO2 at temperature of F & P-[cubic metre]\n",
"// Solve P & F by following eqns. obtained by component balance of CO2 and total balance\n",
"// F(F_odr) = P(P_odr) - others balance\n",
"// F +  nw_CO2 = P - Total balance\n",
"// Solving by matrix method\n",
"a = [F_odr -P_odr;1 -1];// Matrix formed by coefficients of unknown\n",
"b = [0;-nw_CO2] ;// Matrix formed by constants\n",
"x = a\b ;// matrix of solution, x(1) = F;x(2) = P\n",
"F = x(1) ;//Volume flow rate of entering gas-[cubic metre/min]\n",
"P = x(2) ;//Volume flow rate of product [cubic metre/min]\n",
"printf('Volume flow rate of entering gas is %.2f cubic metre/min',F);"
   ]
   }
],
"metadata": {
		  "kernelspec": {
		   "display_name": "Scilab",
		   "language": "scilab",
		   "name": "scilab"
		  },
		  "language_info": {
		   "file_extension": ".sce",
		   "help_links": [
			{
			 "text": "MetaKernel Magics",
			 "url": "https://github.com/calysto/metakernel/blob/master/metakernel/magics/README.md"
			}
		   ],
		   "mimetype": "text/x-octave",
		   "name": "scilab",
		   "version": "0.7.1"
		  }
		 },
		 "nbformat": 4,
		 "nbformat_minor": 0
}
