{
"cells": [
 {
		   "cell_type": "markdown",
	   "metadata": {},
	   "source": [
       "# Chapter 15: Real Gases Equations of State"
	   ]
	},
{
		   "cell_type": "markdown",
		   "metadata": {},
		   "source": [
			"## Example 15.1: Application_of_Van_der_Walls_Equation_to_Calculate_a_Temperature.sce"
		   ]
		  },
  {
"cell_type": "code",
	   "execution_count": null,
	   "metadata": {
	    "collapsed": true
	   },
	   "outputs": [],
"source": [
"clear ;\n",
"clc;\n",
"// Example 15.1\n",
"printf('Example 15.1\n\n');\n",
"//Page No. 464\n",
"// Solution \n",
"// Given\n",
"R = 82.06 ;// gas constant-[(cm^3 *atm)/(g mol *K)]\n",
"a = 9.24 *10^(6) ;//(atm) *(cm^3/g mol)^2\n",
"b = 90.7 ;// (cm^3)/(g mol)\n",
"m_C3H8 = 22.7 ;// Mass of propane-[kg]\n",
"mw_C3H8 =  44 ;// Mol. wt. of  1kmol propane-[kg]\n",
"V = 0.15 *10^(6) ;// Volume of cylinder -[cm^3]\n",
"pg = 4790 ;// Gauge pressure -[kPa]\n",
"P = (pg +101.3)/101.3 ;// Pressure absolute-[atm abs]\n",
"n = (m_C3H8/mw_C3H8) *10^3 ;// Moles of propane\n",
"// Get T using Van der Waal's eqn. \n",
"T = ((P +((n^(2) *a/(V^(2))))) *(V-n *b))/(R *n) ;// Temperature of propane-[K]\n",
"printf('\nTemperature of propane is %.0f K.',T);"
   ]
   }
,
{
		   "cell_type": "markdown",
		   "metadata": {},
		   "source": [
			"## Example 15.2: Solution_of_van_der_Waals_Equation_for_V.sce"
		   ]
		  },
  {
"cell_type": "code",
	   "execution_count": null,
	   "metadata": {
	    "collapsed": true
	   },
	   "outputs": [],
"source": [
"clear ;\n",
"clc;\n",
"// Example 15.2\n",
"printf('Example 15.2\n\n');\n",
"//Page No. 465\n",
"// Solution \n",
"// Given\n",
"R = 10.73 ;// gas constant-[(cubic feet *psia)/(lb mol *R)]\n",
"a = 3.49 * 10^4 ;//(psia) *(cubic feet/lb mol)^2\n",
"b = 1.45 ;// (cubic feet)/(lb mol)\n",
"p = 679.7 ;// Pressure -[ psia]\n",
"n = 1.136 ;// Amount of mole -[lb mol]\n",
"T = 683 ;// Temperature - [degree R]\n",
"// Get V using Van der Waal's eqn. \n",
"deff('[y]=g(V)','y=(V^3) -(((p*n*b) + (n*R*T))/p)*V^2 + ((n^2)*a*V/p) - ((n^3)*a*b)/p');\n",
"V=fsolve(b,g) ;// Volume of final solution (volume of vessel) [cubic feet]\n",
"printf('\nVolume of final solution (volume of vessel) is %.0f cubic feet.',V);"
   ]
   }
],
"metadata": {
		  "kernelspec": {
		   "display_name": "Scilab",
		   "language": "scilab",
		   "name": "scilab"
		  },
		  "language_info": {
		   "file_extension": ".sce",
		   "help_links": [
			{
			 "text": "MetaKernel Magics",
			 "url": "https://github.com/calysto/metakernel/blob/master/metakernel/magics/README.md"
			}
		   ],
		   "mimetype": "text/x-octave",
		   "name": "scilab",
		   "version": "0.7.1"
		  }
		 },
		 "nbformat": 4,
		 "nbformat_minor": 0
}
