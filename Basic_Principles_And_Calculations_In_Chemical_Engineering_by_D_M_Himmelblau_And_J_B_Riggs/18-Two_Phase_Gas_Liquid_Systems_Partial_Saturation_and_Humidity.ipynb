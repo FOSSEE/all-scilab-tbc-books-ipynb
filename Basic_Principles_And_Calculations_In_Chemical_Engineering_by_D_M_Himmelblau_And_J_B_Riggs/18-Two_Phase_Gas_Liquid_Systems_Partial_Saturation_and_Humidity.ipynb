{
"cells": [
 {
		   "cell_type": "markdown",
	   "metadata": {},
	   "source": [
       "# Chapter 18: Two Phase Gas Liquid Systems Partial Saturation and Humidity"
	   ]
	},
{
		   "cell_type": "markdown",
		   "metadata": {},
		   "source": [
			"## Example 18.1: Application_of_Relative_Humidity_to_Calculate_the_Dew_Point.sce"
		   ]
		  },
  {
"cell_type": "code",
	   "execution_count": null,
	   "metadata": {
	    "collapsed": true
	   },
	   "outputs": [],
"source": [
"clear ;\n",
"clc;\n",
"// Example 18.1\n",
"printf('Example 18.1\n\n');\n",
"//Page no.539\n",
"// Solution \n",
"V = 1 ;// Volume of water vapour-[cubic metre]\n",
"rel_h =  43 ;// relative humidity -[%]\n",
"vp_H2O = 1.61 ;// vapour pressure of water at 94 F-[in. of Hg]\n",
"P_H2O = vp_H2O*(rel_h/100) ;// Pressure of water vapour in air-[in. of Hg]\n",
"P =  29.92 ;// [in of Hg]\n",
"T = 94+460 ;// Temperature -[Rankine]\n",
"Ts =  492 ;//Temperature std. -[Rankine]\n",
"mw_H2O = 18 ;// molecular mass of water -[lb]\n",
"H2O = (5280^3*Ts*P_H2O*mw_H2O)/(T*P*359) ;//mass of H2O-[lb]\n",
"// The dew point is temperature at which water vapour in air first condense ,i.e at realative humidity 100 %, therefore\n",
"psat_H2O = P_H2O ;// Saturation pressure of H2O -[in. of Hg]\n",
"printf('\nSaturation pressure of H2O %.3f in. of Hg\n',psat_H2O);\n",
"printf('Use saturation  pressure of H2O to get dew point temperature T from steam table: T is about 68-69 F.');"
   ]
   }
,
{
		   "cell_type": "markdown",
		   "metadata": {},
		   "source": [
			"## Example 18.2: Calculation_involving_Various_Partial_Saturation_Terms.sce"
		   ]
		  },
  {
"cell_type": "code",
	   "execution_count": null,
	   "metadata": {
	    "collapsed": true
	   },
	   "outputs": [],
"source": [
"clear ;\n",
"clc;\n",
"// Example 18.2\n",
"printf('Example 18.2\n\n');\n",
"//Page no. 541\n",
"// Solution \n",
"// Data from steam table\n",
"psat_H2O = 31.8 ;// Saturation pressure -[mm of Hg]\n",
"//(c)\n",
"H =  .0055 ;// Humidity\n",
"mw_H2O =  18 ;// Molecular wt.  of water-[lb]\n",
"mw_air =  29 ;// Molecular wt. of air -[lb]\n",
"P = 750 ;// Pressure total -[mm of Hg]\n",
"p_H2O = ((H*mw_air*P)/mw_H2O)/(1+(H*mw_air/mw_H2O)) ;// Partial pressure of water vapour in air-[mm of Hg]\n",
"//(a)\n",
"rel_H = (p_H2O/psat_H2O)*100  ;// relative humidity -[%]\n",
"//(b)\n",
"mol_H = (p_H2O)/(P-p_H2O) ;// Molal humidity\n",
"printf('\n(a)Relative humidity is %.0f%% .\n',rel_H);\n",
"printf('\n(b)Molal humidity is %.1e \n',mol_H);\n",
"printf('\n(c)Partial pressure of water vapour in air is %.1f  mm of Hg.\n',p_H2O);"
   ]
   }
,
{
		   "cell_type": "markdown",
		   "metadata": {},
		   "source": [
			"## Example 18.3: Dehydration_of_Moist_air.sce"
		   ]
		  },
  {
"cell_type": "code",
	   "execution_count": null,
	   "metadata": {
	    "collapsed": true
	   },
	   "outputs": [],
"source": [
"clear ;\n",
"clc;\n",
"// Example 18.3\n",
"printf('Example 18.3\n\n');\n",
"//Page No. 544\n",
"// Solution fig.E18.3\n",
"V_BDA  = 1000 ;// Volume of bone dry air(BDA) at 20 C & 108.0 kPa\n",
"mol_V =  22.4 ;// Molar volume of gas at standard condition-[m^3]\n",
"T = 20+273 ;// Temperature of BDA-[K]\n",
"P = 108.0 ;//Pressure of BDA-[kPa]\n",
"Ts = 273 ;// Standard temperature-[K]\n",
"Ps = 101.3 ;//Standard pressure-[kPa]\n",
"W = 0.93 ;// [kg]\n",
"mw_W =  18 ;// mol. wt. of 1kmol water -[kg]\n",
"mol_W = W/mw_W ;// amount of water vapour(W)-[kg mol]\n",
"mol_BDA = (V_BDA*Ts*P)/(T*Ps*mol_V) ;//  amount of BDA-[kg mol]\n",
"p_H2O =  (mol_W/(mol_W+mol_BDA))*P ;// Partial pressure of H2O-[kPa]\n",
"// Get vapour pressure for water at 15 C , namely 1.70 kPa\n",
"psat_H2O  =  1.70 ;//vapour pressure for water at 15 C-[kPa]\n",
"rel_H = (p_H2O/psat_H2O) ;//Fractional relative humidity-[]\n",
"printf('\n(a)Fractional relative humidity of original air was %.3f .\n',rel_H);"
   ]
   }
,
{
		   "cell_type": "markdown",
		   "metadata": {},
		   "source": [
			"## Example 18.4: Humidification_of_Air.sce"
		   ]
		  },
  {
"cell_type": "code",
	   "execution_count": null,
	   "metadata": {
	    "collapsed": true
	   },
	   "outputs": [],
"source": [
"clear ;\n",
"clc;\n",
"// Example 18.4\n",
"printf('Example 18.4\n\n');\n",
"//Page no.545\n",
"// Solution fig.E18.4\n",
"F  = 1000 ;// Volume of entering moist air at 22 C & 101.0 kPa\n",
"mol_V =  22.4 ;// Molar volume of gas at standard condition-[m^3]\n",
"T_in = 22+273 ;// Temperature of entering moist air-[K]\n",
"P_in = 101.0 ;//Pressure of entering moist air -[kPa]\n",
"dp_in = 11+273 ;// Dew point of entering air-[K]\n",
"Ts = 273 ;// Standard temperature-[K]\n",
"Ps = 101.3 ;//Standard pressure-[kPa]\n",
"T_out = 58+273 ;// Temperature of exiting moist air-[K]\n",
"P_out = 98 ;//Pressure of exiting moist air -[kPa]\n",
"// Additional vapour pressure data\n",
"psat_in = 1.31 ;//Vapour pressure of entering moist air -[kPa]\n",
"psat_out = 18.14 ;// Vapour pressure of exiting moist air -[kPa]\n",
"pBDA_in = P_in-psat_in ;// Pressure of entering dry air - [kPa]\n",
"pBDA_out  =  P_out - psat_out ;// Pressure of exiting dry air - [kPa]\n",
"mol_F = (F*P_in*Ts)/(Ps*T_in*mol_V) ;// Moles of moist air entering-[kg mol]\n",
"//Material Balances to get  W\n",
"mol_P = (mol_F*(pBDA_in/P_in))/(pBDA_out/P_out); //BDA balance- [kg mol]\n",
"mol_W = mol_P-mol_F ;// Total balance -[kg mol]\n",
"// To calculate kg of wet air entering\n",
"mw_BDA = 29 ;// Mol. wt. of dry air\n",
"mw_H2O = 18 ;// Mol. wt. of water vapour\n",
"m_BDA = (mol_F*pBDA_in/P_in)*mw_BDA ;// Mass of dry air entering-[kg]\n",
"m_H2O = (mol_F*psat_in/P_in)*mw_H2O ;// Mass of water vapour entering-[kg]\n",
"wa_in = m_BDA+m_H2O ;//Total wet air entering -[kg]\n",
"H2O_ad = mol_W*mw_H2O/wa_in ;//Water added to each kg of wet air entering the process-[kg]\n",
"printf('Water added to each kg of wet air entering the process is %.3f kg.\n',H2O_ad);"
   ]
   }
,
{
		   "cell_type": "markdown",
		   "metadata": {},
		   "source": [
			"## Example 18.5: Condensation_of_Water_from_air.sce"
		   ]
		  },
  {
"cell_type": "code",
	   "execution_count": null,
	   "metadata": {
	    "collapsed": true
	   },
	   "outputs": [],
"source": [
"clear ;\n",
"clc;\n",
"// Example 18.5\n",
"printf('Example 18.5\n');\n",
"//Page No.547\n",
"// Solution fig.E18.5\n",
" \n",
"// Given data\n",
"//Basis: F = 29.76 lb mol\n",
"F  = 29.76 ;// amount of entering moist air -[lb mol]\n",
"F_rh = 90/100 ;// Relative humidity\n",
"T_in = 100 + 460 ;// Temperature of entering moist air-[Rankine]\n",
"P_in = 29.76 ;//Pressure of entering moist air -[in. of Hg]\n",
"psat_in =  1.93 ;// Saturation pressure from steam table-[in. of Hg]\n",
"T_out = 120 + 460 ;// Temperature of exiting dry air-[Rankine]\n",
"P_out = 131.7 ;//Pressure of exiting dry air -[in. of Hg]\n",
"psat_out =  3.45 ;// Saturation pressure from steam table-[in. of Hg]\n",
"mol_V =  22.4 ;// Molar volume of gas at standard condition-[m^3]\n",
"mw_H2O  =  18.02 ;// Mol. wt. of water -[lb]\n",
"mw_air  =  29 ;// Mol. wt. of air -[lb]\n",
"p_H2O_in = F_rh*psat_in ;// Partial pressure of water vapour at inlet--[in. of Hg]\n",
"p_air_in = P_in-p_H2O_in ;// Partial pressure of air at inlet--[in. of Hg]\n",
"// Assume condensation takes place , therefore output gas P is saturated,\n",
"P_rh =  1;// Relative humidity of output gas\n",
"p_H2O_out = P_rh*psat_out ;// Partial pressure of water vapour at outlet--[in. of Hg]\n",
"p_air_out = P_out-p_H2O_out ;// Partial pressure of air at outlet--[in. of Hg]\n",
"// Get W and P from  balance of air and water\n",
"P = (p_air_in*F/P_in)/(p_air_out/P_out) ;// From air balance-[ lb mol]\n",
"W = (p_H2O_in*F/P_in)-(P*p_H2O_out/P_out);// From water balance -[lb mol]\n",
"W_ton = (W*mw_H2O*2000)/(p_air_in*mw_air) ;// Moles of water condenses per ton dry air-[lb mol]\n",
"W_m = mw_H2O*W_ton ;// Mass of water condenses per ton dry air-[lb]\n",
"//  Since W is positive our assumption(condensation takes place ) is right .\n",
"printf('\n(a) Yes water condense out during compression ,since W(%.3f  lb mol) is positive our assumption(condensation takes place ) is right .\n',W);\n",
"printf('(b) Amount of water condenses per ton dry air is %.1f lb mol i.e %.0f lb water.\n',W_ton,W_m);"
   ]
   }
],
"metadata": {
		  "kernelspec": {
		   "display_name": "Scilab",
		   "language": "scilab",
		   "name": "scilab"
		  },
		  "language_info": {
		   "file_extension": ".sce",
		   "help_links": [
			{
			 "text": "MetaKernel Magics",
			 "url": "https://github.com/calysto/metakernel/blob/master/metakernel/magics/README.md"
			}
		   ],
		   "mimetype": "text/x-octave",
		   "name": "scilab",
		   "version": "0.7.1"
		  }
		 },
		 "nbformat": 4,
		 "nbformat_minor": 0
}
