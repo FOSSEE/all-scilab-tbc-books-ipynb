{
"cells": [
 {
		   "cell_type": "markdown",
	   "metadata": {},
	   "source": [
       "# Chapter 25: Energy Balances How to Account for Chemical Reaction"
	   ]
	},
{
		   "cell_type": "markdown",
		   "metadata": {},
		   "source": [
			"## Example 25.10: Heating_Value_of_Coal.sce"
		   ]
		  },
  {
"cell_type": "code",
	   "execution_count": null,
	   "metadata": {
	    "collapsed": true
	   },
	   "outputs": [],
"source": [
"clear ;\n",
"clc;\n",
"// Example 25.10\n",
"printf('Example 25.10\n\n');\n",
"//page no. 788\n",
"// Solution \n",
"// Given \n",
"Ex_hv = 29770.0 ;// Experimental heating value of given coal - [kJ/kg]\n",
"// Coal analysis\n",
"C = 71.0/100 ;//Fraction of C in coal \n",
"H2 = 5.6/100 ;// Fraction of H2 in coal \n",
"N2 = 1.6/100 ;// Fraction of N2 in coal \n",
"S = 2.7/100 ;// Fraction of S in coal \n",
"ash = 6.1/100 ;// Fraction of ash in coal \n",
"O2 = 13.0/100 ;//Fraction of O2 in coal \n",
"//Higher heating value (HHV) by Dulong formula \n",
"HHV = 14544*C + 62028*(H2 - O2/8) + 4050*S ;// Higher heating value (HHV) by Dulong formula -[Btu/lb]\n",
"HHV_SI = HHV *1.055/0.454 ;// HHV in SI unt - [kJ/kg]\n",
"printf('The experimental heating value -                       %.0f kJ.\n',Ex_hv) ;\n",
"printf(' Higher heating value (HHV) by Dulong formula -         %.0f kJ.\n',HHV_SI) ;\n",
"printf('\n The two values are quite close.' ) ;"
   ]
   }
,
{
		   "cell_type": "markdown",
		   "metadata": {},
		   "source": [
			"## Example 25.11: Selecting_a_Fuel_to_reduce_SO2_emissions.sce"
		   ]
		  },
  {
"cell_type": "code",
	   "execution_count": null,
	   "metadata": {
	    "collapsed": true
	   },
	   "outputs": [],
"source": [
"clear ;\n",
"clc;\n",
"// Example 25.11\n",
"printf('Example 25.11\n\n');\n",
"//page no. 789\n",
"// Solution \n",
"// Given \n",
"H_req = 10^6 ;;// Heat requirement - [Btu]\n",
"d_N6 = 60.2 ;// Density of fuel no. 6-[lb/ft^3]\n",
"d_N2 = 58.7 ;// Density of fuel no. 2-[lb/ft^3]\n",
"S_N6 = 0.72/100 ;// Sulphur content in fuel no. 6\n",
"S_N2 = 0.62/100; //Sulphur content in fuel no. 2\n",
"lhv_N6 = 155000 ;//Lower heating value of  No.6 -[Btu/gal]\n",
"lhv_N2 = 120000 ;//Lower heating value of  No.2 -[Btu/gal]\n",
"S1 = H_req*d_N6*S_N6/lhv_N6 ;// Sulphur emmited when we use fuel NO. 6-[lb]\n",
"S2 = H_req*d_N2*S_N2/lhv_N2 ;// Sulphur emmited when we use fuel NO. 2-[lb]\n",
"printf('\n Sulphur emmited when we use fuel NO. 6 is %.2f lb.',S1 ) ;\n",
"printf('\n Sulphur emmited when we use fuel NO. 2 is %.2f lb.\n',S2 ) ;\n",
"printf('Clearly fuel no. 6 should be selected because of its low SO2 emmission.') ;"
   ]
   }
,
{
		   "cell_type": "markdown",
		   "metadata": {},
		   "source": [
			"## Example 25.1: Determination_of_a_Heat_of_Formation_from_Heat_Transfer_Measurements.sce"
		   ]
		  },
  {
"cell_type": "code",
	   "execution_count": null,
	   "metadata": {
	    "collapsed": true
	   },
	   "outputs": [],
"source": [
"clear ;\n",
"clc;\n",
"// Example 25.1\n",
"printf('Example 25.1\n\n');\n",
"//page no. 766\n",
"// Solution Fig. E25.1\n",
"// Given \n",
"// C(s) + O2(g) -->  CO2(g)                                  (A)\n",
"// CO(g) + (1/2)(O2)(g) -->  CO2 (g)                    (B)\n",
"Qa = -393.51 ;// Heat of reaction of reaction (a) - [kJ/g mol C] \n",
"Qb = -282.99 ;// Heat of reaction of reaction (b) - [kJ/g mol CO] \n",
"del_Ha = Qa ;// Change in enthalpy of reaction A - [kJ/g mol C]\n",
"del_Hb = Qb ;// Change in enthalpy of reaction B - [kJ/g mol CO]\n",
"// According to Hess's Law , subtract reaction (B) from reaction (A) , subtract corresponding del_H's to get enthalpy of formation of reaction (C)-    C(s) + (1/2)*O2 --> CO(g) , therefore \n",
"del_Hfc = del_Ha - del_Hb ;// Standard heat of formation of CO - [kJ/g mol C]\n",
"printf('Standard heat of formation of CO is %.2f kJ/g mol C.',del_Hfc) ;"
   ]
   }
,
{
		   "cell_type": "markdown",
		   "metadata": {},
		   "source": [
			"## Example 25.2: Retrieval_of_Heats_of_Formation_from_Reference_Data.sce"
		   ]
		  },
  {
"cell_type": "code",
	   "execution_count": null,
	   "metadata": {
	    "collapsed": true
	   },
	   "outputs": [],
"source": [
"clear ;\n",
"clc;\n",
"// Example 25.2\n",
"printf('Example 25.2\n\n');\n",
"//page no. 767\n",
"// Solution \n",
"// Given \n",
"// The main reaction is (1/2)*H2(g) +(1/2)* Cl2(g) --> HCl(g)                                  (A)\n",
"// Look in Appendix F for heat of formation of H2 ,Cl2 and HCl\n",
"H_H2 = 0 ;// Standard heat of formation of H2 -[kJ/ g mol H2]\n",
"H_Cl2 = 0 ;// Standard heat of formation of Cl2 -[kJ/ g mol Cl2]\n",
"H_HCl = -92.311 ;//  Standard heat of formation of HCl -[kJ/ g mol HCl]\n",
"H_f = 1*H_HCl - (1/2)*(H_H2 + H_Cl2) ; // Standard heat of formation of HCl by reaction - [kJ/ g mol HCl]\n",
"printf('Standard heat of formation of HCl(g) is %.3f kJ/g mol HCl.',H_f) ;"
   ]
   }
,
{
		   "cell_type": "markdown",
		   "metadata": {},
		   "source": [
			"## Example 25.3: EX25_3.sce"
		   ]
		  },
  {
"cell_type": "code",
	   "execution_count": null,
	   "metadata": {
	    "collapsed": true
	   },
	   "outputs": [],
"source": [
"clear ;\n",
"clc;\n",
"// Example 25.3\n",
"printf('Example 25.3\n\n');\n",
"//page no. 771\n",
"// Solution \n",
"// Given \n",
"// The main reaction is 4*NH3(g) + 5*O2(g) --> 4*NO(g) + 6*H2O                              (A)\n",
"H_fNH3 = -46.191 ;// Standard heat of formation of NH3 -[kJ/ g mol]\n",
"H_fO2 = 0 ;//Standard heat of formation of O2 -[kJ/ g mol]\n",
"H_fNO = 90.374 ;// Standard heat of formation of NO -[kJ/ g mol]\n",
"H_fH2O = -241.826 ;// Standard heat of formation of H2O -[kJ/ g mol]\n",
"// Heat of above reaction is calculated by eqn. 25.1 \n",
"H_rxn = ((4*H_fNO + 6*H_fH2O) - (4*H_fNH3 + 5*H_fO2))/4 ;// Heat of above reaction-[kJ/ g mol NH3]\n",
"printf('Heat of above reaction is %.3f kJ/g mol NH3.',H_rxn) ;"
   ]
   }
,
{
		   "cell_type": "markdown",
		   "metadata": {},
		   "source": [
			"## Example 25.4: EX25_4.sce"
		   ]
		  },
  {
"cell_type": "code",
	   "execution_count": null,
	   "metadata": {
	    "collapsed": true
	   },
	   "outputs": [],
"source": [
"clear ;\n",
"clc;\n",
"// Example 25.4\n",
"printf('Example 25.4\n\n');\n",
"//page no. 773\n",
"// Solution \n",
"// Given \n",
"P1 = 1 ;// Initial pressure - [atm]\n",
"P2 = 1 ;// Final pressure - [atm]\n",
"T1 = 500 ;// Initial temperature -[degree C]\n",
"T2 = 500 ;// Final temperature -[degree C]\n",
"// The main reaction is CO2(g) + 4H2(g) + --> 2H2O(g) + CH4(g)                              (A)\n",
"// Data obtained from above reaction \n",
"m_CO2 = 1 ;// Moles of CO2 - [ g mol]\n",
"m_H2 = 4 ;// Moles of H2 - [ g mol]\n",
"m_H2O = 2 ;// Moles of H2O - [ g mol]\n",
"m_CH4 = 1 ;// Moles of CH4 - [ g mol]\n",
"// Additional required data are obtained from CD, according to book it is a follows-\n",
"H_fCO2 = -393.250 ;// Heat of formation of CO2 - [kJ/g mol] \n",
"H_fH2 = 0 ;// Heat of formation of H2 - [kJ/g mol] \n",
"H_fH2O = -241.835 ;// Heat of formation of H2O - [kJ/g mol] \n",
"H_fCH4 = -74.848 ;// Heat of formation of CH4 - [kJ/g mol] \n",
"H_CO2 = 21.425 ;// Change in enthalpy during temperature change from 25 to 500 degree C  of CO2 - [kJ/g mol] \n",
"H_H2 = 13.834 ;// Change in enthalpy during temperature change from 25 to 500 degree C of H2 - [kJ/g mol] \n",
"H_H2O = 17.010 ;// Change in enthalpy during temperature change from 25 to 500 degree C of H2O - [kJ/g mol] \n",
"H_CH4 = 23.126 ;// Change in enthalpy during temperature change from 25 to 500 degree C of CH4 - [kJ/g mol] \n",
"H_rxn_25 = (m_CH4*H_fCH4 + m_H2O*H_fH2O) - (m_CO2*H_fCO2 + m_H2*H_fH2) ;// Heat of reaction at 25 C\n",
"sum_H_rct = m_CO2*H_CO2 + m_H2*H_H2 ;// sum of heat of formation of reactant - [kJ]\n",
"sum_H_pdt = m_CH4*H_CH4 + m_H2O*H_H2O ;//sum of heat of formation of product - [kJ]\n",
"// Heat of above reaction is calculated by eqn. 25.4\n",
"H_rxn_500 = sum_H_pdt - sum_H_rct + H_rxn_25  ;// Heat of reaction at 500 C\n",
"printf('Heat of above reaction at 500 degree C and 1 atm is %.1f kJ.',H_rxn_500) ;"
   ]
   }
,
{
		   "cell_type": "markdown",
		   "metadata": {},
		   "source": [
			"## Example 25.5: EX25_5.sce"
		   ]
		  },
  {
"cell_type": "code",
	   "execution_count": null,
	   "metadata": {
	    "collapsed": true
	   },
	   "outputs": [],
"source": [
"clear ;\n",
"clc;\n",
"// Example 25.5\n",
"printf('Example 25.5\n\n');\n",
"//page no. 775\n",
"// Solution \n",
"// Given \n",
"// The main reaction is CO2(g) + 4H2(g) + --> 2H2O(g) + CH4(g)                              (A)\n",
"// Data obtained from above reaction \n",
"m_CO2 = 1 ;// Moles of CO2 - [ g mol]\n",
"m_H2 = 4 ;// Moles of H2 - [ g mol]\n",
"m_H2O = 2 ;// Moles of H2O - [ g mol]\n",
"m_CH4 = 1 ;// Moles of CH4 - [ g mol]\n",
"P1 = 1 ;// Initial pressure  - [atm]\n",
"P2 = 1 ;// Final pressure - [atm] \n",
"T1_CO2 = 800 ;// Initial temperature of entering CO2 -[K]\n",
"T1_H2 = 298 ;// Initial temperature of entering H2 -[K]\n",
"T2 = 1000 ;// Temperature of exiting product - [K]\n",
"// The main reaction is CO2(g) + 4H2(g) + --> 2H2O(g) + CH4(g)                              (A)\n",
"// Data obtained from above reaction \n",
"m1_CO2 = 1 ;// Moles of entering CO2 - [ g mol]\n",
"m1_H2 = 4 ;// Moles of entering H2 - [ g mol]\n",
"f_con = 70/100 ;// Fractional conversion of CO2 \n",
"m2_H2O = 2*f_con ;// Moles of H2O in product - [ g mol]\n",
"m2_CH4 = 1*f_con ;// Moles of CH4 in product - [ g mol]\n",
"m2_CO2 = m1_CO2*(1-f_con) ;//  Moles of CO2 in product - [ g mol]\n",
"m2_H2 = m1_H2*(1-f_con) ;//  Moles of CO2 in product - [ g mol]\n",
"// Additional required data are obtained from CD, according to book it is a follows-\n",
"H_fCO2 = -393.250 ;// Heat of formation of CO2 - [kJ/g mol] \n",
"H_fH2 = 0 ;// Heat of formation of H2 - [kJ/g mol] \n",
"H_fH2O = -241.835 ;// Heat of formation of H2O - [kJ/g mol] \n",
"H_fCH4 = -74.848 ;// Heat of formation of CH4 - [kJ/g mol] \n",
"H1_CO2 = 22.798 ;// Change in enthalpy during temperature change from 298K to 800 K  of CO2 - [kJ/g mol] \n",
"H1_H2 = 0 ;// Change in enthalpy during temperature change from 298K to 298 K  of H2 - [kJ/g mol] \n",
"H2_H2O = 25.986 ;// Change in enthalpy during temperature change from 298K to 1000 K  of H2O - [kJ/g mol] \n",
"H2_CH4 = 38.325 ;// Change in enthalpy during temperature change from 298K to 1000 K  of CH4 - [kJ/g mol] \n",
"H2_CO2 = 33.396; // Change in enthalpy during temperature change from 298K to 1000 K  of CO2 - [kJ/g mol] \n",
"H2_H2 = 20.620; // Change in enthalpy during temperature change from 298K to 1000 K  of H2 - [kJ/g mol] \n",
"H_rxn_25 = (m_CH4*H_fCH4 + m_H2O*H_fH2O) - (m_CO2*H_fCO2 + m_H2*H_fH2) ;// Standard heat of reaction at 25 C-[kJ]\n",
"H_rxn_ac = f_con*H_rxn_25 ;// Heat of reaction actual - [kJ]\n",
"sum_H_rct = m1_CO2*H1_CO2 + m1_H2*H1_H2 ;// sum of heat of formation of reactant - [kJ]\n",
"sum_H_pdt = m2_CH4*H2_CH4 + m2_H2O*H2_H2O + m2_CO2*H2_CO2 + m2_H2*H2_H2 ;//sum of heat of formation of product - [kJ]\n",
"// Heat of above reaction is calculated by eqn. 25.4\n",
"H_rxn = sum_H_pdt - sum_H_rct + H_rxn_ac  ;// Heat of reaction -[kJ/ g mol CO2]\n",
"// By above conditions the energy balance reduces to Q = del_H , therefore \n",
"Q = H_rxn ;// Heat transfer to/from the reactor - [kJ]\n",
"printf('Heat transfer to/from the reactor  is %.3f kJ.\nSince Q is negative , the reactor losses heat.',Q) ;"
   ]
   }
,
{
		   "cell_type": "markdown",
		   "metadata": {},
		   "source": [
			"## Example 25.6: Calculation_of_the_Enthalpy_Change_in_an_Anerobic_Culture.sce"
		   ]
		  },
  {
"cell_type": "code",
	   "execution_count": null,
	   "metadata": {
	    "collapsed": true
	   },
	   "outputs": [],
"source": [
"clear ;\n",
"clc;\n",
"// Example 25.6\n",
"printf('Example 25.6\n\n');\n",
"//page no. 776\n",
"// Solution \n",
"// Given \n",
"H_EtOH =-1330.51  ;// Change in enthalpy of ethanol -[kJ/g mol]\n",
"H_Ac = -887.01 ;// Change in enthalpy of acetate -[kJ/g mol]\n",
"H_Fr = -221.75 ;// Change in enthalpy of formate -[kJ/g mol]\n",
"H_Lc = -1330.51 ;// Change in enthalpy of lactate -[kJ/g mol]\n",
"H_Mn = -2882.78  ;// Change in enthalpy of mannitol -[kJ/g mol]\n",
"mol_EtOH =1.29   ;//ethanol produced / g mol mannitol -[g mol]\n",
"mol_Ac = 0.22    ; //acetate produced / g mol mannitol -[g mol]\n",
"mol_Fr = 1.6    ; //formate produced / g mol mannitol-[g mol]\n",
"mol_Lc = 0.4    ;//lactate produced / g mol mannitol-[g mol]\n",
"mol_Mn = 1.0    ;//mannitol produced / g mol mannitol-[g mol]\n",
"B_growth = 40.5   ;// Biomass growth -[g cells/g mol mannitol]\n",
"// (a)\n",
"del_H1 = H_EtOH*mol_EtOH +H_Ac*mol_Ac + H_Fr*mol_Fr + H_Lc*mol_Lc - H_Mn*mol_Mn ;// Net enthalpy change for several products (metabolites) per g mol mannitol consumed -[kJ]\n",
"printf(' (a) Net enthalpy change for several products (metabolites) per g mol mannitol consumed is %.2f kJ.\n',del_H1) ;\n",
"//(b)\n",
"del_H2 = del_H1 / B_growth ;//Net enthalpy change for several products (metabolites) per g cells produced-[kJ]\n",
"printf('  (b) Net enthalpy change for several products (metabolites) per g cells produced is %.2f kJ.',del_H2) ;"
   ]
   }
,
{
		   "cell_type": "markdown",
		   "metadata": {},
		   "source": [
			"## Example 25.7: Green_Chemistry_Examining_Alternate_Processes.sce"
		   ]
		  },
  {
"cell_type": "code",
	   "execution_count": null,
	   "metadata": {
	    "collapsed": true
	   },
	   "outputs": [],
"source": [
"clear ;\n",
"clc;\n",
"// Example 25.7\n",
"printf('Example 25.7\n\n');\n",
"//page no. 777\n",
"// Solution \n",
"// Given \n",
"//Bhopal Process\n",
"//CH3NH2 + COCl2 + --> C2H3NO +2HCl                (A)\n",
"//C2H3NO + C10H8O --> C12H11O2N                      (B)\n",
"//Alternate process\n",
"//C10H8O + COCl2 --> C11H7O2Cl                            (C)\n",
"//C11H7O2Cl + CH3NH2 --> C12H11O2N + HCl      (D)\n",
"H_Cb = -26 ;//Standard heat of formation of carbaryl(C12H11O2N) -[kJ/ g mol]\n",
"H_HCl = -92.311 ;//Standard heat of formation of HCl -[kJ/ g mol]\n",
"H_Ma = -20.0 ;//Standard heat of formation of methyl amine(CH3NH2) -[kJ/ g mol]\n",
"H_Mi = -9*10^4 ;//Standard heat of formation of methyl isocynate(C2H3NO) -[kJ/ g mol]\n",
"H_Nc = -17.9 ;//Standard heat of formation of 1-Napthalenyl chloroformate(C11H7O2Cl) -[kJ/ g mol]\n",
"H_N = 30.9 ;//Standard heat of formation of napthol(C10H8O) -[kJ/ g mol]\n",
"H_P = -221.85 ;//Standard heat of formation of phosgene(COCl2) -[kJ/ g mol]\n",
"H_rxn_a = (2*H_HCl + 1*H_Mi) - (1*(H_Ma) + 1*H_P )  ;// Heat of reaction (A)-[kJ]\n",
"H_rxn_b = (1*H_Cb ) - (1*(H_Mi) + 1*H_N )  ;// Heat of reaction (B)-[kJ]\n",
"H_rxn_c = (1*H_Nc) - (1*(H_N) + 1*H_P )  ;// Heat of reaction (C)-[kJ]\n",
"H_rxn_d = (1*H_Cb + 1*H_HCl) - (1*(H_Nc) + 1*H_Ma )  ;// Heat of reaction (D)-[kJ]\n",
"//Bhopal Process\n",
"printf(' Bhopal process .\n')  ;\n",
"printf('   (a) Heat of reaction (A) is %.1e kJ.\n',H_rxn_a) ;\n",
"printf('   (b) Heat of reaction (B) is %.1e kJ.\n',H_rxn_b) ;\n",
"//Alternate process\n",
"printf('\n  Alternate process .\n')  ;\n",
"printf('   (c) Heat of reaction (C) is %.2f kJ.\n',H_rxn_c)  ;\n",
"printf('   (d) Heat of reaction (D) is %.2f kJ.\n',H_rxn_d)  ;\n",
"printf(' \nThe above data show that capital cost of Bhopal process could be higher than alternate process.\n')  ;"
   ]
   }
,
{
		   "cell_type": "markdown",
		   "metadata": {},
		   "source": [
			"## Example 25.8: EX25_8.sce"
		   ]
		  },
  {
"cell_type": "code",
	   "execution_count": null,
	   "metadata": {
	    "collapsed": true
	   },
	   "outputs": [],
"source": [
"clear ;\n",
"clc;\n",
"// Example 25.8\n",
"printf('Example 25.8\n\n');\n",
"//page no. 782\n",
"// Solution \n",
"// Given \n",
"P1 = 1 ;// Initial pressure - [atm]\n",
"P2 = 1 ;// Final pressure - [atm]\n",
"T1 = 500 ;// Initial temperature -[degree C]\n",
"T2 = 500 ;// Final temperature -[degree C]\n",
"// The main reaction is CO2(g) + 4H2(g) + --> 2H2O(g) + CH4(g)                              (A)\n",
"// Data obtained from above reaction \n",
"m_CO2 = 1 ;// Moles of CO2 - [ g mol]\n",
"m_H2 = 4 ;// Moles of H2 - [ g mol]\n",
"m_H2O = 2 ;// Moles of H2O - [ g mol]\n",
"m_CH4 = 1 ;// Moles of CH4 - [ g mol]\n",
"// Additional required data are obtained from CD, according to book it is a follows-\n",
"H_fCO2 = -393.250; // Heat of formation of CO2 - [kJ/g mol] \n",
"H_fH2 = 0 ;// Heat of formation of H2 - [kJ/g mol] \n",
"H_fH2O = -241.835 ;// Heat of formation of H2O - [kJ/g mol] \n",
"H_fCH4 = -74.848 ;// Heat of formation of CH4 - [kJ/g mol] \n",
"H_CO2 = 21.425 ;// Change in enthalpy during temperature change from 25 to 500 degree C  of CO2 - [kJ/g mol] \n",
"H_H2 = 13.834 ;// Change in enthalpy during temperature change from 25 to 500 degree C of H2 - [kJ/g mol] \n",
"H_H2O = 17.010 ;// Change in enthalpy during temperature change from 25 to 500 degree C of H2O - [kJ/g mol] \n",
"H_CH4 = 23.126 ;// Change in enthalpy during temperature change from 25 to 500 degree C of CH4 - [kJ/g mol] \n",
"H_in  = (H_fCO2 + H_CO2)*m_CO2 + (H_fH2 + H_H2)*m_H2 ;// Enthalpy change for inputs -[kJ]\n",
"H_out = (H_fH2O + H_H2O)*m_H2O + (H_fCH4 + H_CH4)*m_CH4 ; // Enthalpy change for outputs -[kJ]\n",
"del_H = H_out - H_in ;// Net enthalpy change of process -[kJ]\n",
"printf('Heat of above reaction at 500 degree C and 1 atm is %.1f kJ.',del_H) ;"
   ]
   }
,
{
		   "cell_type": "markdown",
		   "metadata": {},
		   "source": [
			"## Example 25.9: EX25_9.sce"
		   ]
		  },
  {
"cell_type": "code",
	   "execution_count": null,
	   "metadata": {
	    "collapsed": true
	   },
	   "outputs": [],
"source": [
"clear ;\n",
"clc;\n",
"// Example 25.9\n",
"printf('Example 25.9\n\n');\n",
"//page no. 783\n",
"// Solution \n",
"// Given \n",
"// The main reaction is CO(g,1 atm,298 K) + (1/2)O2(g,1 atm,400K)  --> CO2(g,1at,300 K)                              (A)\n",
"// Conditions of input and output gases are shown in above reaction \n",
"m_CO = 1 ;// Moles of CO input- [g mol]\n",
"m1_O2 = 1.5 ;// Moles of O2 input - [g mol]\n",
"m_CO2 = 1 ;// Moles of CO2 output - [g mol]\n",
"m2_O2 = 1 ;// Moles of O2 output - [g mol]\n",
"T_in_CO = 298 ;// Temperature of entering CO -[K]\n",
"T_in_O2 = 400 ;//Temperature of entering O2 -[K]\n",
"T_out_CO2 = 300 ;// Temperature of exiting CO2 -[K]\n",
"T_out_O2 = 300 ;// Temperature of exiting O2 -[K]\n",
"// Additional data are obtained fro Appendix D and E , according to book it is as follows\n",
"H_fCO = -110.520 ;// Heat of formation of CO - [kJ/g mol] \n",
"H_fO2 = 0 ;// Heat of formation of O2 - [kJ/g mol] \n",
"H_fCO2 = -393.250 ;// Heat of formation of CO2 - [kJ/g mol] \n",
"H_CO = 0 ;// Change in enthalpy during temperature change from 298K to 298 K of CO - [kJ/g mol] \n",
"H1_O2 = 11.619 ;// Change in enthalpy during temperature change from 298K to 400 K of input O2 - [kJ/g mol] \n",
"H_CO2 = 11.644 ;// Change in enthalpy during temperature change from 298K to 300 K of CO2 - [kJ/g mol] \n",
"H2_O2 = 8.389 ;// Change in enthalpy during temperature change from 298K to 300 K of output  O2 - [kJ/g mol] \n",
"H_in  = (H_fCO + H_CO)*m_CO + (H_fO2 + H1_O2)*m1_O2 ;// Enthalpy change for inputs -[kJ]\n",
"H_out  = (H_fCO2 + H_CO2)*m_CO2 + (H_fO2 + H2_O2)*m2_O2 ;// Enthalpy change for inputs -[kJ]\n",
"del_H = H_out - H_in ;// Net enthalpy change of process -[kJ]\n",
"printf('Heat of above reaction  is %.1f kJ.',del_H) ;"
   ]
   }
],
"metadata": {
		  "kernelspec": {
		   "display_name": "Scilab",
		   "language": "scilab",
		   "name": "scilab"
		  },
		  "language_info": {
		   "file_extension": ".sce",
		   "help_links": [
			{
			 "text": "MetaKernel Magics",
			 "url": "https://github.com/calysto/metakernel/blob/master/metakernel/magics/README.md"
			}
		   ],
		   "mimetype": "text/x-octave",
		   "name": "scilab",
		   "version": "0.7.1"
		  }
		 },
		 "nbformat": 4,
		 "nbformat_minor": 0
}
