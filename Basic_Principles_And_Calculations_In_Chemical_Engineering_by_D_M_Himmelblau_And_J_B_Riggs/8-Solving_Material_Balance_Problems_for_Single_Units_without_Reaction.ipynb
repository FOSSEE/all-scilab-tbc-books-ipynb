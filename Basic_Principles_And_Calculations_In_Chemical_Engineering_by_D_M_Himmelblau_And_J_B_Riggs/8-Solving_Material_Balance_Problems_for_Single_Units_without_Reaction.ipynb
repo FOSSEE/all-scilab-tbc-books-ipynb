{
"cells": [
 {
		   "cell_type": "markdown",
	   "metadata": {},
	   "source": [
       "# Chapter 8: Solving Material Balance Problems for Single Units without Reaction"
	   ]
	},
{
		   "cell_type": "markdown",
		   "metadata": {},
		   "source": [
			"## Example 8.1: Extraction_of_Streptomycin_from_a_Fermentation_Broth.sce"
		   ]
		  },
  {
"cell_type": "code",
	   "execution_count": null,
	   "metadata": {
	    "collapsed": true
	   },
	   "outputs": [],
"source": [
"clear ;\n",
"clc;\n",
"// Example 8.1\n",
"printf('Example 8.1\n\n');\n",
"//Page no. 197\n",
"// Solution\n",
"\n",
"// Basis : 1 min\n",
"d_w =  1.0 ;// Density of aqueous solution-[g/cubic metre]\n",
"d_sol =  0.6 ;// Density of organic solvent-[g/cubic metre]\n",
"\n",
"n_un = 8 ;// Number of unknowns in the given problem\n",
"n_ie  = 8 ;// Number of independent equations\n",
"d_o_f =  n_un-n_ie ;// Number of degree of freedom\n",
"printf('Number of degree of freedom for the given system is  %i .\n',d_o_f);\n",
"\n",
"// Material balance of Strep.\n",
"x =  (200*10+10*0-200*0.2)/10;//[g]\n",
"printf('Strep per litre of solvent is  %.1f g .\n',x);\n",
"\n",
"cnc = x/(1000*d_sol) ;//[g Strep/g of S]\n",
"printf('Strep per gram of solvent is  %.4f g Strep/g of S .\n',cnc);\n",
"\n",
"m_fr = cnc/(1+cnc) ;//Mass fraction\n",
"printf('Mass fraction of Strep is  %.3f g .\n',m_fr);"
   ]
   }
,
{
		   "cell_type": "markdown",
		   "metadata": {},
		   "source": [
			"## Example 8.2: Separation_of_gases_Using_a_Membrane.sce"
		   ]
		  },
  {
"cell_type": "code",
	   "execution_count": null,
	   "metadata": {
	    "collapsed": true
	   },
	   "outputs": [],
"source": [
"clear ;\n",
"clc;\n",
"// Example 8.2\n",
"printf('Example 8.2\n\n');\n",
"// Page no. 199\n",
"// Solution Fig. E8.2b\n",
"\n",
"F_O2 = 0.21 ;// fraction of O2 in feed(F) \n",
"F_N2 = 0.79 ;// fraction of N2 in feed(F) \n",
"P_O2 = 0.25 ;// fraction of O2 in product(P)\n",
"P_N2 = 0.75 ;// fraction of N2 in  product(P)\n",
"F = 100 ;// Feed - [g mol]\n",
"w = 0.80 ;// Fraction of waste\n",
"W = w*F ;// Waste -[g mol]\n",
"\n",
"// By analysis for degree of freedom , DOF comes to be zero \n",
"P = F - W ;// By overall balance - [g mol]\n",
"W_O2 = (F_O2*F - P*P_O2)/100 ;// Fraction of O2 in waste stream by O2 balance \n",
"W_N2 = (W - W_O2*100)/100 ;//Fraction of N2 in waste stream\n",
" \n",
"printf('Composition of Waste Stream\n' );\n",
"printf('\n  Component             Fraction in waste stream\n' );\n",
"printf('  O2                    %.2f\n',W_O2 );\n",
"printf('  N2                    %.2f\n',W_N2 );"
   ]
   }
,
{
		   "cell_type": "markdown",
		   "metadata": {},
		   "source": [
			"## Example 8.3: Overall_analysis_for_a_continuous_Distillation_Column.sce"
		   ]
		  },
  {
"cell_type": "code",
	   "execution_count": null,
	   "metadata": {
	    "collapsed": true
	   },
	   "outputs": [],
"source": [
"clear;\n",
"clc;\n",
"// Example 8.3\n",
"printf('Example 8.3\n\n');\n",
"// Page no. 202\n",
"// Solution\n",
"\n",
"// Basis : 1 hr so F  = 1000 kg\n",
"F = 1000 ;// feed rate-[kg/hr]\n",
"P = F/10 ;// product mass flow rate -[kg/hr]\n",
"\n",
"n_un = 9 ;// Number of unknowns in the given problem\n",
"n_ie  = 9 ;// Number of independent equations\n",
"d_o_f =  n_un-n_ie ;// Number of degree of freedom\n",
"printf('Number of degree of freedom for the given system is  %i .\n',d_o_f);\n",
"\n",
"//  Overall mass balance: F  =  P+B\n",
"B =  F-P ;// bottom mass flow rate -[kg/hr]\n",
"printf('\n Bottom mass flow rate -              %.1f kg \n',B);\n",
"\n",
"// Composition of bottoms by material balances\n",
"m_EtOH = 0.1*F-0.6*P ;// By EtOH balance-[kg]\n",
"m_H2O = 0.9*F - 0.4*P ;// By H2O balance-[kg]\n",
"total  = m_EtOH+m_H2O ;//[kg]\n",
"f_EtOH = m_EtOH/total ;// Mass fraction of EtOH\n",
"f_H2O = m_H2O/total ;// Mass fraction of H2O\n",
"\n",
"printf(' Mass of EtOH in bottom -             %.1f kg \n',m_EtOH);\n",
"printf(' Mass of H2O in bottom -              %.1f kg \n',m_H2O);\n",
"printf(' Mass fraction of EtOH in bottom -    %.3f \n',f_EtOH);\n",
"printf(' Mass fraction of H2O in bottom -     %.3f \n',f_H2O);"
   ]
   }
,
{
		   "cell_type": "markdown",
		   "metadata": {},
		   "source": [
			"## Example 8.4: Mixing_of_Battery_Acid.sce"
		   ]
		  },
  {
"cell_type": "code",
	   "execution_count": null,
	   "metadata": {
	    "collapsed": true
	   },
	   "outputs": [],
"source": [
"clear ;\n",
"clc;\n",
"// Example 8.4\n",
"printf('Example 8.4\n\n');\n",
"// Page no. 205\n",
"// Solution Fig E8.4\n",
"\n",
"// Given\n",
"A = 200 ;// Mass of added solution [kg] \n",
"P_H2SO4 = .1863 ;//Fraction of H2SO4 in P(Final solution)\n",
"P_H2O = .8137 ;//Fraction of H2O in P(Final solution)\n",
"A_H2SO4 = .777 ;//Fraction of H2SO4 in A(Added solution)\n",
"A_H2O = .223 ;//Fraction of H2O in A(Added solution)\n",
"F_H2SO4 = .1243 ;//Fraction of H2SO4 in F(Original solution)\n",
"F_H2O = .8757 ;//Fraction of H2O in F(Original solution)\n",
"\n",
"// By analysis for degree of freedom , DOF comes to be zero \n",
"// Solve following equations simultaneously for F and P,\n",
"// P*P_H2O - F*F_H2O = A*A_H2O - By H2O balance\n",
"// P - F = A - By overall balance\n",
"a = [P_H2O -F_H2O;1 -1] ;// Matrix of coefficient\n",
"b = [A*A_H2O;A] ;// Matrix of contants\n",
"x = a\b ;// Matrix of solutions- P = x(1) and F = x(2)\n",
"\n",
"printf(' Original solution taken-                                         %.0i kg\n',x(2) );\n",
"printf('  Final solution or kilograms of battery acid formed-              %.0i kg\n',x(1) );"
   ]
   }
,
{
		   "cell_type": "markdown",
		   "metadata": {},
		   "source": [
			"## Example 8.5: Drying.sce"
		   ]
		  },
  {
"cell_type": "code",
	   "execution_count": null,
	   "metadata": {
	    "collapsed": true
	   },
	   "outputs": [],
"source": [
"clear ;\n",
"clc;\n",
"// Example 8.5\n",
"printf('Example 8.5\n\n');\n",
"// Page no. 207\n",
"// Solution Fig E8.5\n",
"\n",
"// Given\n",
"W = 100 ;// Water removed - [kg]\n",
"A_H2O = 0.80 ;// Fraction of water in A(intial fish cake)\n",
"A_BDC = 0.20 ;//  Fraction of BDC(bone dry cake) in B(final dry fish cake)\n",
"B_H2O = 0.40 ;// Fraction of water in A(intial fish cake)\n",
"B_BDC = 0.60 ;//  Fraction of BDC(bone dry cake) in B(final dry fish cake)\n",
"\n",
"// By analysis for degree of freedom , DOF comes to be zero \n",
"// Solve following equations simultaneously for A and B,\n",
"// A*A_H2O = B*B_H2O + W - By H2O balance\n",
"// A = B + W - By overall balance\n",
"a = [A_H2O -B_H2O;1 -1] ;// Matrix of coefficient\n",
"b = [W;W] ;// Matrix of contants\n",
"x = a\b; // Matrix of solutions- A = x(1) and B = x(2)\n",
"\n",
"printf('Weight of the fish cake originally put into dryer -     %.0i kg\n',x(1) );"
   ]
   }
,
{
		   "cell_type": "markdown",
		   "metadata": {},
		   "source": [
			"## Example 8.6: Crystallizato.sce"
		   ]
		  },
  {
"cell_type": "code",
	   "execution_count": null,
	   "metadata": {
	    "collapsed": true
	   },
	   "outputs": [],
"source": [
"clear ;\n",
"clc;\n",
"// Example 8.6\n",
"printf('Example 8.6\n\n');\n",
"// Page no. 209\n",
"// Solution\n",
"// Composition of initial solution at 30 degree C\n",
"s_30 = 38.8 ;//  solublity of Na2CO3 at 30 degree C, by using the table for solublity of Na2CO3-[g Na2CO3/100 g H2O]\n",
"If_Na2CO3 =  s_30/(s_30+100) ;// Initial mass fraction of Na2CO3\n",
"If_H2O = 1-If_Na2CO3 ;// Initial mass fraction of H2O\n",
"// Composition of crystals\n",
"// Basis : 1g mol Na2CO3.10H2O\n",
"n_mol_Na2CO3 = 1 ;// Number of moles of Na2CO3\n",
"n_mol_H2O = 10 ;// Number of moles of H2O\n",
"mwt_Na2CO3 = 106 ;// mol. wt of Na2CO3\n",
"mwt_H2O = 18 ;// mol. wt of H2O\n",
"m_Na2CO3 = mwt_Na2CO3*n_mol_Na2CO3 ;// Mass of Na2CO3\n",
"m_H2O = mwt_H2O*n_mol_H2O ;// Mass of H2O\n",
"Cf_Na2CO3 =  m_Na2CO3/(m_Na2CO3+m_H2O) ;// mass fraction of Na2CO3 \n",
"Cf_H2O = 1-Cf_Na2CO3 ;// mass fraction of H2O\n",
"n_un = 9 ;// Number of unknowns in the given problem\n",
"n_ie  = 9 ;// Number of independent equations\n",
"d_o_f =  n_un-n_ie ;// Number of degree of freedom\n",
"printf('Number of degree of freedom for the given system is  %i .\n',d_o_f);\n",
"// Final composition of tank\n",
"//Basis :I = 10000 kg\n",
"// Material balance reduces to Accumulation  =  final -initial = in-out(but in = 0)\n",
"I = 10000 ;//initial amount of saturated solution-[kg]\n",
"amt_C = 3000 ;// Amount of crystals formed-[kg]\n",
"Fm_Na2CO3 = I*If_Na2CO3-amt_C*Cf_Na2CO3 ;// Mass balance of Na2CO3\n",
"Fm_H2O = I*If_H2O-amt_C*Cf_H2O ;// Mass balance of H2O\n",
"//To find temperature,T\n",
"s_T =  (Fm_Na2CO3/Fm_H2O)*100 ;// Solublity of Na2CO3 at temperature T\n",
"s_20 = 21.5 ;//Solublity of Na2CO3 at temperature 20 degree C ,from given table-[g Na2CO3/100 g H2O]\n",
"// Find T by interpolation\n",
"T =  30-((s_30-s_T)/(s_30-s_20))*(30-20) ;// Temperature -[degree C]\n",
"printf(' Temperature to which solution has to be cooled to get 3000 kg crystals is %.0f degree C .\n',T);"
   ]
   }
,
{
		   "cell_type": "markdown",
		   "metadata": {},
		   "source": [
			"## Example 8.7: Hemodialysis.sce"
		   ]
		  },
  {
"cell_type": "code",
	   "execution_count": null,
	   "metadata": {
	    "collapsed": true
	   },
	   "outputs": [],
"source": [
"clear ;\n",
"clc;\n",
"// Example 8.7\n",
"printf('Example 8.7\n\n');\n",
"// Page no. 213\n",
"// Solution\n",
"// Write given data\n",
"B_in =  1.1 ;// Flow rate in  of blood -[L/min]\n",
"B_out = 1.2;// Flow rate out of blood -[L/min]\n",
"S_in = 1.7;// Flow rate in  of solution -[L/min]\n",
"// Composition of input blood\n",
"B_in_CR = 2.72 ;//[g/L]\n",
"B_in_UR = 1.16 ;//[g/L]\n",
"B_in_U = 18 ;//[g/L]\n",
"B_in_P = 0.77 ;//[g/L]\n",
"B_in_K = 5.77 ;//[g/L]\n",
"B_in_Na = 13.0 ;//[g/L]\n",
"B_in_water = 1100 ;//[mL/min]\n",
"// Composition of output blood\n",
"B_out_CR = 0.120 ;//[g/L]\n",
"B_out_UR = 0.060;//[g/L]\n",
"B_out_U = 1.51 ;//[g/L]\n",
"B_out_P = 0.040 ;//[g/L]\n",
"B_out_K = 0.120 ;//[g/L]\n",
"B_out_Na = 3.21 ;//[g/L]\n",
"B_out_water = 1200 ;//[mL/min]\n",
"n_un = 7 ;// Number of unknowns in the given problem\n",
"n_ie  = 7 ;// Number of independent equations\n",
"d_o_f =  n_un-n_ie ;// Number of degree of freedom\n",
"printf('Number of degree of freedom for the given system is  %i .\n\n',d_o_f);\n",
"// Water balance in grams, assuming 1 ml is equivalent to 1 g\n",
"S_in_water = 1700 ;//[ml/min]\n",
"S_out_water =  B_in_water+ S_in_water - B_out_water;\n",
"S_out = S_out_water/1000 ;//[L/min]\n",
"printf(' Flow rate of water in output solution is  %.2f L/min.\n\n',S_out);\n",
"// The component balance in grams for CR,UR,U,P,K and Na are\n",
"S_out_CR  =  (B_in*B_in_CR - B_out*B_out_CR)/S_out;\n",
"S_out_UR  =  (B_in*B_in_UR - B_out*B_out_UR)/S_out;\n",
"S_out_U  =  (B_in*B_in_U - B_out*B_out_U)/S_out;\n",
"S_out_P  =  (B_in*B_in_P - B_out*B_out_P)/S_out;\n",
"S_out_K  =  (B_in*B_in_K - B_out*B_out_K)/S_out;\n",
"S_out_Na  =  (B_in*B_in_Na - B_out*B_out_Na)/S_out;\n",
"printf(' Component     Concentration(g/L) in output Dialysis solution   \n');\n",
"printf(' UR            %.2f    \n',S_out_UR);\n",
"printf(' CR            %.2f    \n',S_out_CR);\n",
"printf(' U             %.2f    \n',S_out_U);\n",
"printf(' P             %.2f    \n',S_out_P);\n",
"printf(' K             %.2f    \n',S_out_K);\n",
"printf(' Na            %.2f    \n',S_out_Na);"
   ]
   }
],
"metadata": {
		  "kernelspec": {
		   "display_name": "Scilab",
		   "language": "scilab",
		   "name": "scilab"
		  },
		  "language_info": {
		   "file_extension": ".sce",
		   "help_links": [
			{
			 "text": "MetaKernel Magics",
			 "url": "https://github.com/calysto/metakernel/blob/master/metakernel/magics/README.md"
			}
		   ],
		   "mimetype": "text/x-octave",
		   "name": "scilab",
		   "version": "0.7.1"
		  }
		 },
		 "nbformat": 4,
		 "nbformat_minor": 0
}
