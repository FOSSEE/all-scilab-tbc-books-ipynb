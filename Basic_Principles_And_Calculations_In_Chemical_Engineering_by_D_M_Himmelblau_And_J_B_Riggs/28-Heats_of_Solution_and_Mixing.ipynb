{
"cells": [
 {
		   "cell_type": "markdown",
	   "metadata": {},
	   "source": [
       "# Chapter 28: Heats of Solution and Mixing"
	   ]
	},
{
		   "cell_type": "markdown",
		   "metadata": {},
		   "source": [
			"## Example 28.1: Application_of_Heats_of_Solution_data.sce"
		   ]
		  },
  {
"cell_type": "code",
	   "execution_count": null,
	   "metadata": {
	    "collapsed": true
	   },
	   "outputs": [],
"source": [
"clear ;\n",
"clc;\n",
"// Example 28.1\n",
"printf('Example 28.1\n\n');\n",
"//page no. 869\n",
"// Solution \n",
"// Given \n",
"Ref_T = 77 ;//Reference temperature-[degree F]\n",
"//(a)\n",
"mol_NH3 = 1 ;// Moles of NH3 - [lb mol]\n",
"mw_NH3 = 17 ;//Molecular t. of NH3 -[lb]\n",
"mw_H2O = 18  ;//Molecular t. of H2O -[lb]\n",
"f1_NH3 = 3/100 ;// Fraction of NH3 in solution \n",
"m_H2O = (mw_NH3/f1_NH3) - mw_NH3 ;// Mass of water in solution -[lb]\n",
"mol_H2O = m_H2O/mw_H2O  ;// Moles of H2O in solution -[lb mol]\n",
"printf('(a)  Moles of H2O in solution is %.1f  lb mol .\n ',mol_H2O);\n",
"printf('     As we can see that moles of water is 30 lb mol(approx), hence we will see H_soln from table corresponding to 30 lb mol water .\n ');\n",
"H_soln = -14800 ;// From table given in question in book -[Btu/lb mol NH3]\n",
"printf('     The amount of cooling needed is, %.0f Btu heat removed.\n ',abs(H_soln));\n",
"//(b)\n",
"V = 100 ;// Volume of solution produced -[gal]\n",
"f2_NH3 = 32/100 ;// Fraction of NH3 in solution \n",
"// From Lange's Handbook of chemistry additional data is obtained , according to book it is as follows -\n",
"sg_NH3 = .889 ;// Specific gravity of NH3 \n",
"sg_H2O = 1.003 ;// Specific gravity of H2O\n",
"d_soln = sg_NH3*62.4*sg_H2O*100/7.48 ;// Density of solution - [lb / 100 gal]\n",
"NH3 = d_soln*f2_NH3/mw_NH3 ;// Mass of NH3 - [ lb mol/ 100 gal]\n",
"m1_H2O = (mw_NH3/f2_NH3) - mw_NH3 ;// Mass of water in solution -[lb]\n",
"mol1_H2O = m1_H2O/mw_H2O  ;// Moles of H2O in solution -[lb mol]\n",
"printf('\n (b)  Moles of H2O in solution is %.1f  lb mol .\n ',mol1_H2O);\n",
"printf('     As we can see that moles of water is 2 lb mol , hence we will see H_soln from table corresponding to 2 lb mol water .\n ');\n",
"H_soln = -13700 ;// From table given in question in book -[Btu/lb mol NH3]\n",
"total_H = abs(NH3*H_soln) ;// Total heat removed from solution -[Btu]\n",
"printf('     The amount of cooling needed is, %.0f Btu heat removed.\n ',total_H);"
   ]
   }
,
{
		   "cell_type": "markdown",
		   "metadata": {},
		   "source": [
			"## Example 28.2: Application_of_Heat_of_Solution_Data.sce"
		   ]
		  },
  {
"cell_type": "code",
	   "execution_count": null,
	   "metadata": {
	    "collapsed": true
	   },
	   "outputs": [],
"source": [
"clear ;\n",
"clc;\n",
"// Example 28.2\n",
"printf('Example 28.2\n\n');\n",
"//page no. 872\n",
"// Solution \n",
"// Given \n",
"p = 100 ;// Mass of product - [kg]\n",
"f_HCl = 25/100 ;//Fraction of HCl in product \n",
"//Product analysis\n",
"HCl = f_HCl*p ;// Mass of HCl in product - [kg]\n",
"H2O = (1-f_HCl)*p  ;// Mass of H2O in product -[kg]\n",
"mw_HCl = 36.37 ;// Molecular weight of HCl -[kg]\n",
"mw_H2O = 18.02 ;// Molecular weight of H2O -[kg]\n",
"mol_HCl = HCl /mw_HCl ;// Moles of HCl - [kg mol]\n",
"mol_H2O = H2O /mw_H2O; // Moles of H2O - [kg mol]\n",
"total_mol = mol_HCl + mol_H2O ;// Total no. of moles -[kg mol]\n",
"mf_HCl = mol_HCl / total_mol  ;// mole fraction of HCl \n",
"mf_H2O = mol_H2O / total_mol ; // mole fraction of H2O\n",
"mr = mol_H2O/mol_HCl ;// Mole ratio of H2O to HCl \n",
"MW = mf_HCl*mw_HCl + mf_H2O*mw_H2O ;// Molecular t. of solution-[kg]\n",
"Ref_T = 25 ;//Reference temperature-[degree C]\n",
"// Energy balance reduces to Q = del_H \n",
"// Additional data is obtained from Table E.1 , according to book it is a follows -\n",
"mol1_HCl = total_mol ;// Moles of HCl // Moles of HCl output -[g mol]\n",
"Hf1_HCl = -157753 ;// Heat of formation of HCl output-[J/ g mol HCl ]\n",
"Hf_HCl = -92311 ;// Heat of formation of HCl input-[J/ g mol HCl ]\n",
"Hf_H2O = 0 ;// Heat of formation of H2O input-[J/ g mol HCl ]\n",
"H1_HCl =  556 ;// Change in enthalpy during temperature change from 25 C to 35 C of HCl - [J/g mol] \n",
"H_HCl = integrate('(29.13 - 0.134*.01*T)','T',298,393) ;// Change in enthalpy during temperature change from 25 C to 120 C of HCl - [J/g mol] \n",
"H_H2O = 0 ;// Change in enthalpy during temperature change from 25 C to 25 C of H2O - [J/g mol] \n",
"H_in = (Hf_HCl + H_HCl)*mol_HCl  + (Hf_H2O + H_H2O)*mol_H2O ;// Enthalpy change of input -[J]\n",
"H_out = Hf1_HCl*mol_HCl +H1_HCl*mol1_HCl  ;// Enthalpy change of output -[J]\n",
"del_H = H_out - H_in ;// Net enthalpy change n process - [J]\n",
"Q = del_H; // By energy balance - [J]\n",
"printf('The amount of heat removed from the absorber by cooling water is, %.0f J.\n ',Q);"
   ]
   }
,
{
		   "cell_type": "markdown",
		   "metadata": {},
		   "source": [
			"## Example 28.3: Application_of_an_Enthalpy_Concentration_Chart.sce"
		   ]
		  },
  {
"cell_type": "code",
	   "execution_count": null,
	   "metadata": {
	    "collapsed": true
	   },
	   "outputs": [],
"source": [
"clear ;\n",
"clc;\n",
"// Example 28.3\n",
"printf('Example 28.3\n\n');\n",
"//page no. 875\n",
"// Solution fig. 28.3\n",
"// Given \n",
"//Input analysis \n",
"soln1 = 600 ; // Mass flow rate of entering solution 1 -[lb/hr]\n",
"c1_NaOH = 10/100 ;// Fraction of NaOH in entering solution 1\n",
"T1 = 200 ;// Temperature at entry \n",
"soln2 = 400 ;// Mass flow rate of another solution 2 entering -[lb/hr]\n",
"c2_NaOH = 50/100 ;// Fraction of NaOH in another entering solution 2\n",
"// Additional data is obtained from steam table and NaOH-H2O enthalpy-concentration chart in Appendix I at given reference temperature (del_H = 0 , 32 degree F for pure water)\n",
"F = soln1 + soln2; // Mass flow rate of final solution - [lb/hr]\n",
" // Material balance to get composition of final solution \n",
"F_NaOH =  c1_NaOH * soln1 + c2_NaOH * soln2 ;// Mass of NaOH in final solution-[lb]\n",
"F_H2O = F - F_NaOH ;// Mass of H2O in final solution-[lb]\n",
"// Enthalpy data from H-x chart , according to book it is as follows\n",
"H_soln1 = 152 ;// Specific enthalpy change for solution 1-[Btu/lb]\n",
"H_soln2 = 290 ;// Specific enthalpy change for solution 2-[Btu/lb]\n",
"// Energy balance\n",
"H_F = (soln1*H_soln1 + soln2*H_soln2)/F ;// Specific enthalpy change for final solution -[Btu/lb]\n",
"//(a)\n",
"printf(' (a) The final temperature of the exit solution from figure E28.3 using the obtained condition of final solution is 232 degree F \n');\n",
"//(b)\n",
"cF = F_NaOH*100/F; // Concentration of final solution -[wt % NaOH ]\n",
"printf('  (b) The concentration of final solution is %.0f wt.%% NaOH . \n',cF);\n",
"//(c)\n",
"// For fraction of H2O vapour . By interpolation , draw the tie line through the point x = .26 .H = 270 (make it parallel to 220 and 250 degree F line ). The final temperature of the exit solution from figure E28.3 using the obtained condition of final solution is 232 degree ; the enthalpy of the liquid at the bubble point at this temperature is about 175 Btu/lb . The enthalpy of saturated water vapour fro the steam table at 232 degree F is 1158 Btu/lb . Let x be the water vapour evaporated , therefore\n",
"x = (F*H_F - F*175)/(1158 - 175) ;// H2O evaporated per hour -[lb]\n",
"printf('  (c) H2O evaporated per hour is %.1f lb . \n',x);"
   ]
   }
],
"metadata": {
		  "kernelspec": {
		   "display_name": "Scilab",
		   "language": "scilab",
		   "name": "scilab"
		  },
		  "language_info": {
		   "file_extension": ".sce",
		   "help_links": [
			{
			 "text": "MetaKernel Magics",
			 "url": "https://github.com/calysto/metakernel/blob/master/metakernel/magics/README.md"
			}
		   ],
		   "mimetype": "text/x-octave",
		   "name": "scilab",
		   "version": "0.7.1"
		  }
		 },
		 "nbformat": 4,
		 "nbformat_minor": 0
}
