{
"cells": [
 {
		   "cell_type": "markdown",
	   "metadata": {},
	   "source": [
       "# Chapter 12: Recycle Bypass Purge and the Industrial Application of Material Balance"
	   ]
	},
{
		   "cell_type": "markdown",
		   "metadata": {},
		   "source": [
			"## Example 12.1: A_Continuous_Crystallizer_involving_a_Recycle_Stream.sce"
		   ]
		  },
  {
"cell_type": "code",
	   "execution_count": null,
	   "metadata": {
	    "collapsed": true
	   },
	   "outputs": [],
"source": [
"clear;\n",
"clc;\n",
"//Page No.349\n",
"// Example 12.1\n",
"printf('Example 12.1\n\n');\n",
"// Solution \n",
"//(a) fig.E12.1a\n",
"F = 10000 ;//[lb/hr]\n",
"//Given\n",
"NaOH_F = 40/100 ;//[wt. fraction]\n",
"NaOH_P1 = 95/100 ;//[wt. fraction of NaOH filter cake]\n",
"NaOH_P2 = (0.05 *  45)/100 ;//[wt. fraction of NaOH in NaOH soln.]\n",
"H2O_P2 = (0.05 *  55)/100 ;//[wt. fraction of H2O in NaOH soln.]\n",
"NaOH_R = 45/100;//[wt. fraction]\n",
"NaOH_G = 50/100;//[wt. fraction]\n",
"//Get P from overall NaOH balance\n",
"P = (NaOH_F *  F)/[NaOH_P1 + NaOH_P2] ;//[lb/hr]\n",
"// Get W from overall total balance\n",
"W = F-P ;// [lb/hr]\n",
"// Solve following eqn. simultaneously to get G & R\n",
"// NaOH_G *  G = F *  NaOH_F + NaOH_R *  R (NaOH balance on crystallizer)\n",
"//G = R + P (overall balance)\n",
"a = [NaOH_G -NaOH_R;1 -1] ;// matrix formed of coefficients of unknown\n",
"b = [F *  NaOH_F;P];// matrix formed by constant\n",
"x = a\b ;// matrix of solutions . x(1) = G, x(2) = R\n",
"G = x(1) ;// [lb/hr]\n",
"R = x(2) ;// [lb/hr]\n",
"printf('(a)  Flow rate of water removed by evaporator is  %.1f lb/hr\n',W);\n",
"printf('      The recycle rate of the process is %.1f lb/hr\n',R);\n",
"// (b) fig.E12.1b\n",
"//given\n",
"NaOH_H = 45/100 ;//[wt fraction]\n",
"H2O_H = 55/100 ;//[wt fraction]\n",
"// Get H & G by solving following eqn. simultaneously\n",
"//NaOH_G *  G = [NaOH_P1 + NaOH_P2] *  P  + NaOH_H *  H (NaOH balance on crystallizer)\n",
"//H2O_G *  G = H2O_P2 *  P  +  H2O_H *  H (H2O balance on crystallizer)\n",
"a1 = [NaOH_G -NaOH_H;NaOH_G -H2O_H] ;// matrix formed of coefficients of unknown\n",
"b1 = [((NaOH_P1 + NaOH_P2) *  P);(H2O_P2) *  P];// matrix formed by constant\n",
"x1 = ((a1)^-1) *  b1 ;// matrix of solutions nw_G = x1(1);H = x1(2)\n",
"nw_G1 = x1(1) ;// [lb/hr]\n",
"H = x1(2);// [lb/hr]\n",
"// By overall NaOH balance\n",
"nw_F = (NaOH_H *  H + (NaOH_P1 + NaOH_P2) *  P)/NaOH_F ;//[lb/hr]\n",
"printf(' (b)  Total feed rate when filterate is not recycled is %.1f lb/hr\n',nw_F);"
   ]
   }
,
{
		   "cell_type": "markdown",
		   "metadata": {},
		   "source": [
			"## Example 12.2: Recycle_in_a_Process_in_Which_Reaction_Occurs.sce"
		   ]
		  },
  {
"cell_type": "code",
	   "execution_count": null,
	   "metadata": {
	    "collapsed": true
	   },
	   "outputs": [],
"source": [
"clear ;\n",
"clc;\n",
"//Page No.357\n",
"// Example 12.2\n",
"printf('Example 12.2\n\n');\n",
"// Solution fig.E12.2\n",
"\n",
"// Given \n",
"// Main reaction - C6H6 + 3H2 --> C6H12\n",
"F_Bz = 100 ;// Fresh benzene feed / basis - [mol]\n",
"con_Bz = .95 ;// Fraction of conversion of benzene\n",
"sp_con = .20 ;// Fraction of single pass conversion\n",
"ex_H2 = .20 ;// Fraction of exces H2 used in fresh feed\n",
"R_Bz = 22.74 ;// Benzene in Recycle stream - [mol %]\n",
"R_H2 = 78.26 ;// H2 in Recycle stream - [mol %]\n",
"TLV_Bz = 0.5 ;// TLV value of benzene -[ppm]\n",
"TLV_C6H12 = 300 ;// TLV value of cyclohexane -[ppm]\n",
"TLV_H2 = 1000 ;// TLV value of H2 -[ppm]\n",
"\n",
"// Feed composition\n",
"F_H2 = F_Bz*3*(1+ex_H2) ;// H2 in Feed - [mol]\n",
"F = F_Bz + F_H2 ;// Total feed - [mol]  \n",
"\n",
"// Use Eqn. 12.1 to get extent of reaction -(ex_r)\n",
"ex_r = con_Bz*F_Bz/(-(-1)) ;// Extent of reaction\n",
"\n",
"// get composition of P by using overall species balances\n",
"P_Bz = F_Bz -1*(ex_r) ;// Benzene in P ,by benzene balance - [mol]\n",
"P_H2 = F_H2 + -3*(ex_r) ;// H2 in P ,by H2 balance - [mol]\n",
"P_C6H12 = 0 + 1*(ex_r) ;// Cyclohexane in P ,by cyclohexane balance - [mol]\n",
"P = P_Bz + P_H2 + P_C6H12 ;// Total Product - [ mol]\n",
"\n",
"// Use single pass conversion information to get recyle stream(R)\n",
"R = ((-(-ex_r))/(sp_con) - F_Bz)/(R_Bz/100) ;// Recycle stream - [mol]\n",
"R_by_F = R/F ;// Ratio of R to F \n",
"\n",
"printf('Ratio of R to F is %.2f .\n',R_by_F);\n",
"\n",
"TLV = (P_Bz/P)*(1/TLV_Bz) + (P_H2/P)*(1/TLV_H2) + (P_C6H12/P)*(1/TLV_C6H12) ;// TLV (environmental index) \n",
"\n",
"printf('\n TLV (environmental index) is %.3f .\n',TLV);"
   ]
   }
,
{
		   "cell_type": "markdown",
		   "metadata": {},
		   "source": [
			"## Example 12.3: Recycle_in_a_Process_with_a_Reaction_Occurring.sce"
		   ]
		  },
  {
"cell_type": "code",
	   "execution_count": null,
	   "metadata": {
	    "collapsed": true
	   },
	   "outputs": [],
"source": [
"clear;\n",
"clc;\n",
"//Page No.359\n",
"// Example 12.3\n",
"printf('Example 12.3\n\n');\n",
"// Solution fig.E12.3a and fig.E12.3b\n",
"\n",
"// Given \n",
"// Main reaction - C6H12O6(d-glucose) --> C6H12O6(d-fructose)\n",
"\n",
"RR = 8.33 ;// Recycle ratio\n",
"F = 100 ;// Overall feed/basis - [lb]\n",
"F_g = 0.40 ;// Fraction of glucose in overall feed \n",
"F_w = 0.60 ;// Fraction of water in overall feed \n",
"F_dash_f = 0.04 ; // Fraction of fructose in feed to reactor\n",
"P = F ;// By overall balance -[lb]\n",
"R = P/RR ;// Recycle stream - [lb]\n",
"P_w = (F_w * F)/ P ;// Fraction of water in product(P), by overall water balance\n",
"R_w = P_w ;//Fraction of water in recycle (R), since both R and P has same composition\n",
"\n",
"// Mixing point 1\n",
"F_dash = F +R ;// Feed to reactor ,by total balance -[lb]\n",
"R_f = (F_dash*F_dash_f)/R ;// Fraction of fructose in recycle stream \n",
"R_g = 1 - (R_f + R_w) ;// Fraction of glucose in recycle stream\n",
"F_dash_g = (F*F_g + R*R_g)/F_dash ;// Fraction of glucose i feed to reactor\n",
"\n",
"// Make glucose balance in reactor to get fraction of conversion (f_con)\n",
"f_con = ((F_dash*F_dash_g) - (R + P)*R_g)/(F_dash*F_dash_g) ;// Fraction of conversion of glucose in reactor\n",
"\n",
"printf('Fraction of conversion of glucose in reactor is %.2f .\n',f_con);"
   ]
   }
,
{
		   "cell_type": "markdown",
		   "metadata": {},
		   "source": [
			"## Example 12.4: A_Bioreactor_with_Recycle.sce"
		   ]
		  },
  {
"cell_type": "code",
	   "execution_count": null,
	   "metadata": {
	    "collapsed": true
	   },
	   "outputs": [],
"source": [
"clear ;\n",
"clc; \n",
"//Page No.362\n",
"// Example 12.4\n",
"printf('Example 12.4\n\n');\n",
"// Solution fig.E12.4\n",
"\n",
"// Given \n",
"F = 100 ;// Overall feed/basis - [kg]\n",
"F_com = 0.10 ;// Mass fraction of component in fresh feed \n",
"F_w = 0.90 ;// Mass fraction of water in fresh feed \n",
"P_w = 0.10 ;// Mass fraction of water in product\n",
"P_com = 0.90 ;//Mass fraction of component in product\n",
"F_dash_com = 0.03 ;//Mass fraction of component in feed to reactor\n",
"W_w = 1 ;// Mass fraction of water in W(waste)\n",
"C_con = .40 ;// Fraction of conversion of component in reactor\n",
"\n",
"// By analysis DOF is zero\n",
"// Take overall process as system \n",
"P = F_com*F/P_com ;//By component balance- Product - [kg]\n",
"W = F - P ;// By overall balance - waste(W)- [kg]\n",
"\n",
"//Take reactor plus product recovery unit as system\n",
"// Use Eqn. 10.1 for component balance\n",
"Rw = (F*F_com - F*F_com*C_con)/C_con ;// Mass of component in recycle(R) - [kg]\n",
"\n",
"// Take mixer a system\n",
"F_dash = ( F*F_com + Rw  )/F_dash_com ;// By component balance - feed to reactor(F') -[kg]\n",
"R = F_dash - F ;// Recycle(R) - By total balance -[kg]\n",
"w = Rw/R ;// Mass fraction of component in recycle(R) \n",
"\n",
"printf('Recycle(R) stream-  %.0f kg \n',R);\n",
"printf(' Mass fraction of component in recycle(R)-   %.4f .\n',w);"
   ]
   }
,
{
		   "cell_type": "markdown",
		   "metadata": {},
		   "source": [
			"## Example 12.5: Bypass_Calculatio.sce"
		   ]
		  },
  {
"cell_type": "code",
	   "execution_count": null,
	   "metadata": {
	    "collapsed": true
	   },
	   "outputs": [],
"source": [
"clear ;\n",
"clc; \n",
"//Page No.367\n",
"// Example 12.5\n",
"printf('Example 12.5\n\n');\n",
"// Solution fig.E12.5\n",
"\n",
"// Given \n",
"F = 100 ;// Overall feed/basis - [kg]\n",
"F_n_C5H12 = 0.80 ;// Fraction of n_C5H12 in overall feed \n",
"F_i_C5H12 = 0.20 ;// Fraction of i_C5H12in overall feed \n",
"S_i_C5H12 = 1 ;// Fraction of i_C5H12 in isopentane stream\n",
"P_n_C5H12 = .90 ;// Fraction of n_C5H12 in overall product\n",
"P_i_C5H12 = .10 ;// Fraction of i_C5H12 in overall product\n",
"\n",
"// Overall Balances\n",
"P = (F*F_n_C5H12)/P_n_C5H12 ;//Product Material Balance of n_C5H12 -[kg]\n",
"S = F - P ;// Isopentane stream (S) from overall material balance - [kg]\n",
"\n",
"// Balance around isopentane tower \n",
"// Let x be kg of butane free gas going to isopentane tower , y be the n-C5H12 stream leaving the isopentane tower\n",
"// Solve following Equations by Matrix method\n",
"// x = S + y - By Total materal balance\n",
"// x*F_n_C5H12 = y \n",
"a = [1 -1;F_n_C5H12 -1] ;// Matrix of coefficients of unknown \n",
"b = [S;0] ;// Matrix of constants\n",
"x = a\b ;// Matrix of solutions, x(1) = x , x(2) = y\n",
"\n",
"xf = x(1)/F ;// Fraction of butane-free gas going to isopentane tower \n",
"\n",
"printf('Fraction of butane-free gas going to isopentane tower is %.3f .\n',xf);"
   ]
   }
,
{
		   "cell_type": "markdown",
		   "metadata": {},
		   "source": [
			"## Example 12.6: Purge.sce"
		   ]
		  },
  {
"cell_type": "code",
	   "execution_count": null,
	   "metadata": {
	    "collapsed": true
	   },
	   "outputs": [],
"source": [
"clear;\n",
"clc; \n",
"//Page No.369\n",
"// Example 12.6\n",
"printf('Example 12.6\n\n');\n",
"// Solution fig.E12.6\n",
"\n",
"// Given \n",
"F = 100 ;// Overall feed/basis - [mole]\n",
"F_H2 = 0.673 ;// Mole fraction of H2 in overall feed \n",
"F_CO = 0.325 ;// Mole fraction of i_C5H12in overall feed \n",
"F_CH4 = .002 ;// Mole fraction of CH4 in overall feed \n",
"E_CH3OH = 1 ;//  Mole fraction of CH3OH in Exit(E)\n",
"// Let x , y and z be Mole fraction of H2,CO and CH4 respectively in recycle(R) and purge(P)\n",
"z = .032 ;\n",
"CO_con = .18 ;// Fraction of conversion of CO in reactor\n",
"\n",
"// Following eqn. are obtained by Materal balances \n",
"// x + y + z = 1             eqn.(a)\n",
"// F_H2*F + F_CH4*F*2 = E*2 + P*(x + 2z)   - By H2 balance     eqn.(b)\n",
"// F_CO*F + F_CH4*F = E + P*(y + z)   -By C balance    eqn.(c)\n",
"// F_CO*F  = E + P*y    - By O balance  eqn.(d)\n",
"// F_CO*F + Ry - Ry - Py = (F_CO*F + Ry)*CO_con   - By CO balance   eqn.(e)\n",
"\n",
"//By using eqn.(c) and (d)\n",
"P = F_CH4*F/z ;// Purge stream - [mole]\n",
"\n",
"// Using eqn.(a) , (b) and (c)\n",
"x_plus_y = 1 - z ;// x + y \n",
"E = (F_H2*F + F_CO*F + 3*F_CH4*F - P*(x_plus_y + 3*z ))/3 ;// Exit stream - [mole]\n",
"\n",
"// By using eqn. (d)\n",
"y = ( F_CO*F - E )/P ;// Mole fraction of CO \n",
"\n",
"// By using eqn. (a)\n",
"x = 1 - z - y ;// Mole fraction of H2 \n",
"\n",
"// Lastly by using eqn.(e)\n",
"R = ( F_CO*F - P*y - F_CO*F*CO_con )/(y*CO_con) ;// Recycle steam - [mole]\n",
"\n",
"printf('Moles of recycle(R) per mole of feed(F) -                      %.4f \n',R/F);\n",
"printf(' Moles of CH3OH(E) per mole of feed(F)   -                      %.4f \n',E/F);\n",
"printf(' Moles of Purge(P) per mole of feed(F)   -                      %.4f \n',P/F);\n",
"printf('\n Composition of Purge \n');\n",
"printf('  Component                 Mole fraction \n');\n",
"printf('  H2                        %.3f \n',x);\n",
"printf('  CO                        %.3f \n',y);\n",
"printf('  CH4                       %.3f \n',z);"
   ]
   }
],
"metadata": {
		  "kernelspec": {
		   "display_name": "Scilab",
		   "language": "scilab",
		   "name": "scilab"
		  },
		  "language_info": {
		   "file_extension": ".sce",
		   "help_links": [
			{
			 "text": "MetaKernel Magics",
			 "url": "https://github.com/calysto/metakernel/blob/master/metakernel/magics/README.md"
			}
		   ],
		   "mimetype": "text/x-octave",
		   "name": "scilab",
		   "version": "0.7.1"
		  }
		 },
		 "nbformat": 4,
		 "nbformat_minor": 0
}
