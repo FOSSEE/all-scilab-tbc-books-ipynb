{
"cells": [
 {
		   "cell_type": "markdown",
	   "metadata": {},
	   "source": [
       "# Chapter 7: Magnetic Circuits"
	   ]
	},
{
		   "cell_type": "markdown",
		   "metadata": {},
		   "source": [
			"## Example 7.10: Problem10.sce"
		   ]
		  },
  {
"cell_type": "code",
	   "execution_count": null,
	   "metadata": {
	    "collapsed": true
	   },
	   "outputs": [],
"source": [
"Ac=12/10000\n",
"Fmin=160*9.81\n",
"B=sqrt(Fmin*2*uo/Ac)\n",
"\n",
"H=2800\n",
"L=75/100\n",
"F=H*L\n",
"Lg=0.1/1000\n",
"A=24/10000\n",
"Rg=Lg/(uo*A)\n",
"fluxg=B*A\n",
"Fg=fluxg*Rg\n",
"\n",
"Ftotal=F+Fg\n",
"imin=Ftotal/1000\n",
"disp(imin)"
   ]
   }
,
{
		   "cell_type": "markdown",
		   "metadata": {},
		   "source": [
			"## Example 7.11: Problem11.sce"
		   ]
		  },
  {
"cell_type": "code",
	   "execution_count": null,
	   "metadata": {
	    "collapsed": true
	   },
	   "outputs": [],
"source": [
"Wm1=1/2*(1200-750)*0.012\n",
"disp(Wm1)\n",
"\n",
"flux_g=0.012/750*1200\n",
"Wm2=1/2*(flux_g-0.012)*1200\n",
"disp(Wm2)\n",
"\n",
"Ra=1200/0.012\n",
"Rb=1200/flux_g\n",
"Fo=-1/2*(0.012^2)*0.75*10^6\n",
"Fc=-1/2*(flux_g^2)*0.75*10^6\n",
"disp(Fc,Fo)"
   ]
   }
,
{
		   "cell_type": "markdown",
		   "metadata": {},
		   "source": [
			"## Example 7.12: Problem12.sce"
		   ]
		  },
  {
"cell_type": "code",
	   "execution_count": null,
	   "metadata": {
	    "collapsed": true
	   },
	   "outputs": [],
"source": [
"V1=10\n",
"\n",
"//Mesh Method\n",
"A=[1+10*%i,-80*%i;80*%i,-500-800*%i]\n",
"I=inv(A)*[V1;0]\n",
"\n",
"V2=500*I(2)\n",
"\n",
"disp(V1,V2,I)\n",
""
   ]
   }
,
{
		   "cell_type": "markdown",
		   "metadata": {},
		   "source": [
			"## Example 7.14: Problem14.sce"
		   ]
		  },
  {
"cell_type": "code",
	   "execution_count": null,
	   "metadata": {
	    "collapsed": true
	   },
	   "outputs": [],
"source": [
"uo=(4*%pi)*1E-7\n",
"ur=1600\n",
"\n",
"lc=160/100\n",
"lg=0.8/1000\n",
"A=5/10000\n",
"N=1200\n",
"\n",
"Rc=lc/(uo*ur*A)\n",
"Rg=lg/(uo*A)\n",
"R=Rc+Rg\n",
"\n",
"L=N*N/R\n",
"disp(L)"
   ]
   }
,
{
		   "cell_type": "markdown",
		   "metadata": {},
		   "source": [
			"## Example 7.15: Problem15.sce"
		   ]
		  },
  {
"cell_type": "code",
	   "execution_count": null,
	   "metadata": {
	    "collapsed": true
	   },
	   "outputs": [],
"source": [
"N=100\n",
"l1=0.15\n",
"l2=0.3\n",
"l3=0.45\n",
"A=0.001\n",
"\n",
"ur1=1447\n",
"ur2=5969\n",
"ur3=47750\n",
"\n",
"flux=0.6E-3\n",
"\n",
"B=flux/A\n",
"\n",
"H1=B/(uo*ur1)\n",
"H2=B/(uo*ur2)\n",
"H3=B/(uo*ur3)\n",
"disp(H1,H2,H3)\n",
"\n",
"F=H1*l1+H2*l2+H3*l3\n",
"disp(F)\n",
"\n",
"I=F/N\n",
"disp(I)"
   ]
   }
,
{
		   "cell_type": "markdown",
		   "metadata": {},
		   "source": [
			"## Example 7.16: Problem16.sce"
		   ]
		  },
  {
"cell_type": "code",
	   "execution_count": null,
	   "metadata": {
	    "collapsed": true
	   },
	   "outputs": [],
"source": [
"Pl1=1500\n",
"f1=50\n",
"Pl2=3000\n",
"f2=75\n",
"\n",
"Y=[1,f1;1,f2]\n",
"X=inv(Y)*[Pl1/f1;Pl2/f2]\n",
"\n",
"Ph1=X(1)*f1\n",
"Pe1=X(2)*f1*f1\n",
"Ph2=X(1)*f2\n",
"Pe2=X(2)*f2*f2\n",
"\n",
"disp(Ph1,Pe1,Ph2,Pe2)"
   ]
   }
,
{
		   "cell_type": "markdown",
		   "metadata": {},
		   "source": [
			"## Example 7.17: Problem17.sce"
		   ]
		  },
  {
"cell_type": "code",
	   "execution_count": null,
	   "metadata": {
	    "collapsed": true
	   },
	   "outputs": [],
"source": [
"uo=(4*%pi)*1E-7\n",
"F=750*1\n",
"disp(F)\n",
"\n",
"dm=(16+20)/200\n",
"lc=dm*%pi\n",
"Hc=F/lc\n",
"disp(Hc)\n",
"\n",
"flux=1.25/1000\n",
"Ac=(20-16)*2.5/10000\n",
"Bc=flux/Ac\n",
"disp(Bc)\n",
"\n",
"R=F/flux\n",
"disp(R)\n",
"\n",
"u=Bc/Hc\n",
"disp(u)\n",
"\n",
"ur=u/uo\n",
"disp(ur)          //calculation mistake in the book here"
   ]
   }
,
{
		   "cell_type": "markdown",
		   "metadata": {},
		   "source": [
			"## Example 7.18: Problem18.sce"
		   ]
		  },
  {
"cell_type": "code",
	   "execution_count": null,
	   "metadata": {
	    "collapsed": true
	   },
	   "outputs": [],
"source": [
"fluxc=1.5E-3\n",
"Ac=12/10000\n",
"Bc=fluxc/Ac\n",
"Hc=1250\n",
"lc=0.3\n",
"F=Hc*lc\n",
"\n",
"Fa=200*1\n",
"Fb=600*0.75\n",
"\n",
"Fc=F-Fb+Fa\n",
"Nc=Fc/0.5\n",
"disp(Nc)    ////clockwise5"
   ]
   }
,
{
		   "cell_type": "markdown",
		   "metadata": {},
		   "source": [
			"## Example 7.19: Problem19.sce"
		   ]
		  },
  {
"cell_type": "code",
	   "execution_count": null,
	   "metadata": {
	    "collapsed": true
	   },
	   "outputs": [],
"source": [
"uo=(4*%pi)*1E-7\n",
"ur=2000\n",
"V=200\n",
"f=50\n",
"N=1600\n",
"Ac=5/10000\n",
"\n",
"flux_max=V/(4.44*f*N)\n",
"Bmax=flux_max/Ac\n",
"disp(Bmax)\n",
"\n",
"Rc=20/100/(uo*ur*Ac)\n",
"Rg=0.5/1000/(uo*Ac)\n",
"R=Rc+Rg\n",
"\n",
"imax=flux_max*R/N\n",
"disp(imax)\n",
"\n",
"Wfmax=1/2*R*(flux_max^2)\n",
"disp(Wfmax)\n",
"\n",
"percent=Rg/R*100\n",
"disp(percent)"
   ]
   }
,
{
		   "cell_type": "markdown",
		   "metadata": {},
		   "source": [
			"## Example 7.1: Problem1.sce"
		   ]
		  },
  {
"cell_type": "code",
	   "execution_count": null,
	   "metadata": {
	    "collapsed": true
	   },
	   "outputs": [],
"source": [
"uo=(4*%pi)*1E-7\n",
"i1=5\n",
"i2=2.5\n",
"r=0.4\n",
"H=i1/(2*%pi*r)\n",
"F=uo*H*i2        /////////attractive\n",
"ur=8000\n",
"Firon=ur*F\n",
"disp(H,F,Firon)"
   ]
   }
,
{
		   "cell_type": "markdown",
		   "metadata": {},
		   "source": [
			"## Example 7.2: Problem2.sce"
		   ]
		  },
  {
"cell_type": "code",
	   "execution_count": null,
	   "metadata": {
	    "collapsed": true
	   },
	   "outputs": [],
"source": [
"l=0.15\n",
"i1=50\n",
"\n",
"H1=i1/(2*%pi*(0.1+l))\n",
"i2=-H1*(2*%pi*0.1)\n",
"\n",
"\n",
"disp(i2)"
   ]
   }
,
{
		   "cell_type": "markdown",
		   "metadata": {},
		   "source": [
			"## Example 7.3: Problem3.sce"
		   ]
		  },
  {
"cell_type": "code",
	   "execution_count": null,
	   "metadata": {
	    "collapsed": true
	   },
	   "outputs": [],
"source": [
"Ha=4/(2*%pi*0.2)\n",
"Hb=Ha\n",
"H=sqrt(Ha^2+Hb^2)\n",
"theta=(%pi+atan(-Hb/Ha))*180/%pi\n",
"\n",
"disp(H,theta)"
   ]
   }
,
{
		   "cell_type": "markdown",
		   "metadata": {},
		   "source": [
			"## Example 7.4: Problem4.sce"
		   ]
		  },
  {
"cell_type": "code",
	   "execution_count": null,
	   "metadata": {
	    "collapsed": true
	   },
	   "outputs": [],
"source": [
"uo=(4*%pi)*1E-7\n",
"\n",
"Bg=1.2\n",
"N=400\n",
"ur=4000\n",
"\n",
"lc=(2*(20-4+16-4)-0.2)/100\n",
"Ac=4/100*4/100\n",
"Rc=lc/(ur*uo*Ac)\n",
"\n",
"lg=0.2/100\n",
"Rg=lg/(uo*Ac)\n",
"\n",
"R=Rc+Rg\n",
"\n",
"flux=Bg*Ac\n",
"i=flux*R/N\n",
"\n",
"disp(i)"
   ]
   }
,
{
		   "cell_type": "markdown",
		   "metadata": {},
		   "source": [
			"## Example 7.5: Problem5.sce"
		   ]
		  },
  {
"cell_type": "code",
	   "execution_count": null,
	   "metadata": {
	    "collapsed": true
	   },
	   "outputs": [],
"source": [
"function Zeq=parallel(Z1,Z2)\n",
"    Zeq=Z1*Z2/(Z1+Z2)\n",
"endfunction\n",
"\n",
"uo=(4*%pi)*1E-7\n",
"fluxg1=0.8E-3\n",
"\n",
"lg1=0.02/100\n",
"lg2=0.02/100\n",
"lg3=0.025/100\n",
"Ag1=2/100*1/100\n",
"Ag2=1/100*1/100\n",
"Ag3=1/100*1/100\n",
"\n",
"Rg1=lg1/(uo*Ag1)\n",
"Rg2=lg2/(uo*Ag2)\n",
"Rg3=lg3/(uo*Ag3)\n",
"Req=Rg1+parallel(Rg2,Rg3)\n",
"\n",
"MMF=fluxg1*Req\n",
"\n",
"disp(MMF)"
   ]
   }
,
{
		   "cell_type": "markdown",
		   "metadata": {},
		   "source": [
			"## Example 7.6: Problem6.sce"
		   ]
		  },
  {
"cell_type": "code",
	   "execution_count": null,
	   "metadata": {
	    "collapsed": true
	   },
	   "outputs": [],
"source": [
"uo=(4*%pi)*1E-7\n",
"ur=4000\n",
"fluxc=0.01\n",
"N=500\n",
"\n",
"Ll=(2*(20+4)+25+4)/100\n",
"Lc=(25+4)/100\n",
"Lr=Ll-0.02/100\n",
"Lg=0.02/100\n",
"A=4/100*4/100\n",
"\n",
"Rl=Ll/(ur*uo*A)\n",
"Rc=Lc/(ur*uo*A)\n",
"Rr=Lr/(ur*uo*A)\n",
"Rg=Lg/(uo*A)\n",
"\n",
"Fab=fluxc*Rc\n",
"fluxr=Fab/(Rr+Rg)\n",
"fluxl=fluxc+fluxr\n",
"\n",
"F=fluxl*Rl+Fab\n",
"I=F/N\n",
"\n",
"disp(I)"
   ]
   }
,
{
		   "cell_type": "markdown",
		   "metadata": {},
		   "source": [
			"## Example 7.7: Problem7.sce"
		   ]
		  },
  {
"cell_type": "code",
	   "execution_count": null,
	   "metadata": {
	    "collapsed": true
	   },
	   "outputs": [],
"source": [
"uo=(4*%pi)*1E-7\n",
"\n",
"l1=50/100\n",
"l2=20/100\n",
"l3=50/100\n",
"lbc=0.025/100\n",
"\n",
"A1=25E-4\n",
"A2=12.5E-4\n",
"A3=25E-4\n",
"\n",
"fluxg=0.75E-3\n",
"\n",
"B=fluxg/A1\n",
"Fbc=B/uo*lbc\n",
"\n",
"Hcd=200\n",
"Hab=Hcd\n",
"Fabcd=Hab*l1\n",
"Fad=Fbc+Fabcd\n",
"Had=Fab/l2\n",
"Bad=1.04\n",
"fluxad=Bad*A2\n",
"\n",
"fluxdea=fluxad+fluxg\n",
"Bdea=fluxdea/A3\n",
"Hdea=500\n",
"Fdea=Hdea*l3\n",
"\n",
"F=Fdea+Fad\n",
"\n",
"disp(F)"
   ]
   }
,
{
		   "cell_type": "markdown",
		   "metadata": {},
		   "source": [
			"## Example 7.8: Problem8.sce"
		   ]
		  },
  {
"cell_type": "code",
	   "execution_count": null,
	   "metadata": {
	    "collapsed": true
	   },
	   "outputs": [],
"source": [
"uo=(4*%pi)*1E-7\n",
"ur=3000\n",
"Ac=10/100*10/1000\n",
"Bc=1.4\n",
"Hc=Bc/(uo*ur)\n",
"lc=150/100\n",
"Ftotal=Hc*lc\n",
"\n",
"N2=800\n",
"I2=2\n",
"F2=N2*I2\n",
"F1=Ftotal-F2\n",
"\n",
"N1=400\n",
"I1=F1/N1  ////out of terminal a\n",
"disp(I1)\n",
"\n",
"\n",
"Bc=1.4\n",
"fluxc=Bc*Ac\n",
"Rc=lc/(Ac*uo*ur)\n",
"Wf=1/2*Rc*fluxc*fluxc\n",
"disp(Wf)\n",
"\n",
"\n",
"\n",
"L1=N1*N1/Rc\n",
"L2=N2*N2/Rc\n",
"M=sqrt(L1*L2)\n",
"disp(M)"
   ]
   }
,
{
		   "cell_type": "markdown",
		   "metadata": {},
		   "source": [
			"## Example 7.9: Problem9.sce"
		   ]
		  },
  {
"cell_type": "code",
	   "execution_count": null,
	   "metadata": {
	    "collapsed": true
	   },
	   "outputs": [],
"source": [
"uo=(4*%pi)*1E-7\n",
"ur=6000\n",
"A=5/2*2/10000\n",
"Lr=(%pi*(20+25)/2-0.1)/100\n",
"Lg=0.1/100\n",
"Rr=Lr/(uo*ur*A)\n",
"Rg=Lg/(uo*A)\n",
"Rtotal=Rr+Rg\n",
"\n",
"F=2*500\n",
"flux=F/Rtotal\n",
"Bg=flux/A\n",
"disp(Bg)\n",
"\n",
"L=flux*500/2\n",
"disp(L)\n",
"\n",
"Wfr=1/2*Rr*flux*flux\n",
"Wfg=1/2*Rg*flux*flux\n",
"disp(Wfg,Wfr)\n",
"\n",
"imax=2\n",
"flux_max=flux\n",
"E=4.44*314/(2*%pi)*500*flux_max\n",
"flux_max2=100/(sqrt(2)*4.44*314/(2*%pi)*500)\n",
"Fmax2=flux_max2*Rtotal\n",
"imax2=Fmax2/500\n",
"disp(imax2)"
   ]
   }
],
"metadata": {
		  "kernelspec": {
		   "display_name": "Scilab",
		   "language": "scilab",
		   "name": "scilab"
		  },
		  "language_info": {
		   "file_extension": ".sce",
		   "help_links": [
			{
			 "text": "MetaKernel Magics",
			 "url": "https://github.com/calysto/metakernel/blob/master/metakernel/magics/README.md"
			}
		   ],
		   "mimetype": "text/x-octave",
		   "name": "scilab",
		   "version": "0.7.1"
		  }
		 },
		 "nbformat": 4,
		 "nbformat_minor": 0
}
