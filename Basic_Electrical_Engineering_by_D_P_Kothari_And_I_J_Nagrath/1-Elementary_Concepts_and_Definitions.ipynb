{
"cells": [
 {
		   "cell_type": "markdown",
	   "metadata": {},
	   "source": [
       "# Chapter 1: Elementary Concepts and Definitions"
	   ]
	},
{
		   "cell_type": "markdown",
		   "metadata": {},
		   "source": [
			"## Example 1.10: Problem10.sce"
		   ]
		  },
  {
"cell_type": "code",
	   "execution_count": null,
	   "metadata": {
	    "collapsed": true
	   },
	   "outputs": [],
"source": [
"v1=6\n",
"i2=2\n",
"i3=4\n",
"\n",
"v2=2*i2\n",
"v3=2*i3\n",
"\n",
"v4=-v1+4*i2+v3-v2 //KVL\n",
"i4=v4/3\n",
"disp(i4)"
   ]
   }
,
{
		   "cell_type": "markdown",
		   "metadata": {},
		   "source": [
			"## Example 1.11: Problem11.sce"
		   ]
		  },
  {
"cell_type": "code",
	   "execution_count": null,
	   "metadata": {
	    "collapsed": true
	   },
	   "outputs": [],
"source": [
"i1=4-1 // KCL at node 1\n",
"disp(i1,'i1=')\n",
"\n",
"v1=i1*1\n",
"v12=1*1\n",
"v2=v1-v12\n",
"i2=v2/1\n",
"\n",
"i3=1-i2 //KCL at node 2\n",
"\n",
"Vs=v2-1*i3 //KVL\n",
"disp(Vs,'Vs=')"
   ]
   }
,
{
		   "cell_type": "markdown",
		   "metadata": {},
		   "source": [
			"## Example 1.12: Problem12.sce"
		   ]
		  },
  {
"cell_type": "code",
	   "execution_count": null,
	   "metadata": {
	    "collapsed": true
	   },
	   "outputs": [],
"source": [
"i34=10-8 //KCL at node 4\n",
"v34=5*i34\n",
"v23=40-10 //KVL\n",
"vx=v23\n",
"disp(vx,'vx=')\n",
"ix=4-8 //KCL at node 1\n",
"disp(ix,'ix=')\n",
"i23=ix+10 //KCL at node 2\n",
"R2=vx/i23\n",
"disp(R2,'R2=')\n",
"v14=40+6*ix //KVL\n",
"R1=v14/8\n",
"disp(R1,'R1=')"
   ]
   }
,
{
		   "cell_type": "markdown",
		   "metadata": {},
		   "source": [
			"## Example 1.13: Problem13.sce"
		   ]
		  },
  {
"cell_type": "code",
	   "execution_count": null,
	   "metadata": {
	    "collapsed": true
	   },
	   "outputs": [],
"source": [
"vs=0.01 // *cos(1000*t)\n",
"\n",
"vpi=vs \n",
"i0=-vpi/1000\n",
"vo=i0*1000;\n",
"printf('v0 = %f *cos(1000*t)',vo)"
   ]
   }
,
{
		   "cell_type": "markdown",
		   "metadata": {},
		   "source": [
			"## Example 1.15: Problem15.sce"
		   ]
		  },
  {
"cell_type": "code",
	   "execution_count": null,
	   "metadata": {
	    "collapsed": true
	   },
	   "outputs": [],
"source": [
"t=0.1\n",
"R=800\n",
"i=50*exp(-10*t)/1000\n",
"v=50*cos(25*t)\n",
"v_i=10*t^(2.5)\n",
"\n",
"P1=i*i*R\n",
"P2=v*v/R\n",
"P3=v_i\n",
"\n",
"disp(P3,P2,P1)"
   ]
   }
,
{
		   "cell_type": "markdown",
		   "metadata": {},
		   "source": [
			"## Example 1.1: Problem1.sce"
		   ]
		  },
  {
"cell_type": "code",
	   "execution_count": null,
	   "metadata": {
	    "collapsed": true
	   },
	   "outputs": [],
"source": [
"disp('v1=A cos(w t+p)')\n",
"disp('i1=B cos(w1 t+p1)')\n",
"disp('i2=C sin(w2 t+p2)')\n",
"disp('All values in degrees')\n",
"w=input('w=')\n",
"p=input('p=')\n",
"w1=input('w1=')\n",
"p1=input('p1=')\n",
"w2=input('w2=')\n",
"p2=input('p2=')\n",
"\n",
"if(w==w1)\n",
"    lag1=p-p1;\n",
"    disp(lag1, 'i1 lags v1 by ')\n",
"else\n",
"    disp('Lag undefined for i1') \n",
"end\n",
"\n",
"\n",
"if(w==w2)\n",
"    lag2=p-p2+90;\n",
"    disp(lag2, 'i2 lags v1 by ')\n",
"else\n",
"    disp('Lag undefined for i2')\n",
"end"
   ]
   }
,
{
		   "cell_type": "markdown",
		   "metadata": {},
		   "source": [
			"## Example 1.2: Problem2.sce"
		   ]
		  },
  {
"cell_type": "code",
	   "execution_count": null,
	   "metadata": {
	    "collapsed": true
	   },
	   "outputs": [],
"source": [
"// X cos(w t+p)+Y sin(w t+q)\n",
"\n",
"X=50\n",
"Y=-30\n",
"w=120\n",
"p=-45\n",
"p=p/180*%pi;\n",
"q=160\n",
"q=q/180*%pi;\n",
"\n",
"//Part1\n",
"\n",
"A=X*cos(p)+ Y*sin(q);\n",
"B=-X*sin(p)+ Y*cos(q);\n",
"\n",
"disp(B,'B=',A,'A=')"
   ]
   }
,
{
		   "cell_type": "markdown",
		   "metadata": {},
		   "source": [
			"## Example 1.3: Problem3.sce"
		   ]
		  },
  {
"cell_type": "code",
	   "execution_count": null,
	   "metadata": {
	    "collapsed": true
	   },
	   "outputs": [],
"source": [
"G1=input('G1=')\n",
"G2=input('G2=')\n",
"G3=input('G3=')\n",
"Is1=input('Is1=')\n",
"Is2=input('Is2=')\n",
"\n",
"A=[G1+G3,-G3;-G3,G2+G3];\n",
"I=[Is1;Is2];\n",
"V=inv(A)*I;\n",
"\n",
"disp(V)"
   ]
   }
,
{
		   "cell_type": "markdown",
		   "metadata": {},
		   "source": [
			"## Example 1.5: Problem5.sce"
		   ]
		  },
  {
"cell_type": "code",
	   "execution_count": null,
	   "metadata": {
	    "collapsed": true
	   },
	   "outputs": [],
"source": [
"\n",
"\n",
"R1=input('R1=')\n",
"R2=input('R2=')\n",
"R3=input('R3=')\n",
"Vs1=input('Vs1=')\n",
"Vs2=input('Vs2=')\n",
"\n",
"R=[R1+R3,-R3;-R3,R2+R3];\n",
"V=[Vs1;-Vs2];\n",
"I=inv(R)*V;\n",
"\n",
"disp(I)"
   ]
   }
,
{
		   "cell_type": "markdown",
		   "metadata": {},
		   "source": [
			"## Example 1.7: Problem7.sce"
		   ]
		  },
  {
"cell_type": "code",
	   "execution_count": null,
	   "metadata": {
	    "collapsed": true
	   },
	   "outputs": [],
"source": [
"R1=1\n",
"R2=6\n",
"R3=12\n",
"R4=4\n",
"I4=3/4\n",
"V6=6\n",
"\n",
"V4=3/4*4\n",
"I12=3/12\n",
"IR=3/4+I12\n",
"\n",
"R=-12*I12+V6 //KVL\n",
"disp(R,'R(Ohm)=')\n",
"\n",
"I6=V6/6\n",
"I1=I6+IR\n",
"\n",
"Vs=1*I1+V6 //KVL\n",
"disp(Vs, 'Vs(V)=')\n",
"\n",
"disp(Vs*I1,'Power(W)=')\n",
"\n",
""
   ]
   }
,
{
		   "cell_type": "markdown",
		   "metadata": {},
		   "source": [
			"## Example 1.9: Problem9.sce"
		   ]
		  },
  {
"cell_type": "code",
	   "execution_count": null,
	   "metadata": {
	    "collapsed": true
	   },
	   "outputs": [],
"source": [
"i1=4\n",
"v3=3\n",
"v4=8\n",
"\n",
"i3=v3/3\n",
"i4=v4/4\n",
"\n",
"i2=(i1-i3-i4)/2 //KCL\n",
"v2=2*i2\n",
"\n",
"disp(v2,'v2=')"
   ]
   }
,
{
		   "cell_type": "markdown",
		   "metadata": {},
		   "source": [
			"## Example 1.A_1: Additional_Solved_Problem_1.sce"
		   ]
		  },
  {
"cell_type": "code",
	   "execution_count": null,
	   "metadata": {
	    "collapsed": true
	   },
	   "outputs": [],
"source": [
"t=0.1\n",
"R=800\n",
"i=50*exp(-10*t)/1000\n",
"v=50*cos(25*t)\n",
"v_i=10*t^(2.5)\n",
"\n",
"P1=i*i*R\n",
"P2=v*v/R\n",
"P3=v_i\n",
"\n",
"disp(P3,P2,P1)"
   ]
   }
,
{
		   "cell_type": "markdown",
		   "metadata": {},
		   "source": [
			"## Example 1.A_2: Additional_Solved_Problem_2.sce"
		   ]
		  },
  {
"cell_type": "code",
	   "execution_count": null,
	   "metadata": {
	    "collapsed": true
	   },
	   "outputs": [],
"source": [
"v2=5\n",
"i2=v2/1000\n",
"v1=-i2/5\n",
"vs=v1\n",
"\n",
"disp(vs)"
   ]
   }
,
{
		   "cell_type": "markdown",
		   "metadata": {},
		   "source": [
			"## Example 1.A_3: Additional_Solved_Problem_3.sce"
		   ]
		  },
  {
"cell_type": "code",
	   "execution_count": null,
	   "metadata": {
	    "collapsed": true
	   },
	   "outputs": [],
"source": [
"L=20/1000\n",
"/////////////////////////////\n",
"disp('Part1')\n",
"function i = i(t)\n",
"    i = 8*exp(-100*t);\n",
"endfunction\n",
"t=10/1000\n",
"v= L*(derivative(i,t))\n",
"disp(v,'V=')\n",
"/////////////////////////////Part2\n",
"disp('Part2')\n",
"t=0.1\n",
"function v=v(t)\n",
"    v=6*exp(-12*t)\n",
"endfunction\n",
"i0=8\n",
"i2=1/L*intg(0,t,v)+i0\n",
"disp(i2)\n",
"////////////////////////////Part3\n",
"disp('Part3')\n",
"function i3 = i3(t)\n",
"    i3 = 10-10*exp(-50*t);\n",
"endfunction\n",
"t=40/1000\n",
"v3=L*(derivative(i3,t))\n",
"P40=v3*i3(t)\n",
"disp(P40)\n",
"t=50/1000\n",
"P50=1/2*L*(i3(50)^2)\n",
"disp(P50)"
   ]
   }
,
{
		   "cell_type": "markdown",
		   "metadata": {},
		   "source": [
			"## Example 1.A_4: Additional_Solved_Problem_4.sce"
		   ]
		  },
  {
"cell_type": "code",
	   "execution_count": null,
	   "metadata": {
	    "collapsed": true
	   },
	   "outputs": [],
"source": [
"function i = i(t)\n",
"    i = 9*sin(%pi*t)/1000;\n",
"endfunction\n",
"t=200/1000\n",
"CV=intg(0,t,i)\n",
"Wc=300E-6\n",
"C=(CV^2)/(2*Wc)\n",
"disp(C)"
   ]
   }
,
{
		   "cell_type": "markdown",
		   "metadata": {},
		   "source": [
			"## Example 1.A_5: Additional_Solved_Problem_5.sce"
		   ]
		  },
  {
"cell_type": "code",
	   "execution_count": null,
	   "metadata": {
	    "collapsed": true
	   },
	   "outputs": [],
"source": [
"L=25E-3\n",
"\n",
"T=5/1000\n",
"I=1/L*integrate('25*cos(500*t)','t',0,T)\n",
"P=25*cos(500*T)*I\n",
"\n",
"t1=%pi/2/500       /////power absorbed zero\n",
"t2=%pi/500         /////energy stored zero\n",
"\n",
"disp(I,P,t1,t2)"
   ]
   }
,
{
		   "cell_type": "markdown",
		   "metadata": {},
		   "source": [
			"## Example 1.A_6: Additional_Solved_Problem_6.sce"
		   ]
		  },
  {
"cell_type": "code",
	   "execution_count": null,
	   "metadata": {
	    "collapsed": true
	   },
	   "outputs": [],
"source": [
"e0=8.85E-12\n",
"er=1\n",
"A=%pi*(1/200)^2\n",
"d=150/1000000\n",
"C=er*e0*A/d\n",
"\n",
"E=1/1000\n",
"v=sqrt(2*E/C)\n",
"disp(v)\n",
"\n",
"E=2/1000000\n",
"v=100\n",
"er=2*E/(v^2)/C\n",
"disp(er)"
   ]
   }
,
{
		   "cell_type": "markdown",
		   "metadata": {},
		   "source": [
			"## Example 1.A_7: Additional_Solved_Problem_7.sce"
		   ]
		  },
  {
"cell_type": "code",
	   "execution_count": null,
	   "metadata": {
	    "collapsed": true
	   },
	   "outputs": [],
"source": [
"t=10/1000\n",
"v3=8*exp(-50*t)\n",
"p3=v3*(-3.6)\n",
"P=[230/1000*4.8; (-3.2)*1.45;p3]\n",
"\n",
"disp('Power absorbed are respectively')\n",
"disp(P)"
   ]
   }
,
{
		   "cell_type": "markdown",
		   "metadata": {},
		   "source": [
			"## Example 1.A_9: Additional_Solved_Problem_9.sce"
		   ]
		  },
  {
"cell_type": "code",
	   "execution_count": null,
	   "metadata": {
	    "collapsed": true
	   },
	   "outputs": [],
"source": [
"Im=250/1000\n",
"w=100\n",
"r=4\n",
"L=50/1000\n",
"t=25/1000\n",
"\n",
"i=Im*sin(w*t)\n",
"Vr=i*r\n",
"Vl=Im*L*w*cos(w*t)\n",
"\n",
"Pr=i*i*r\n",
"Pl=Vl*i\n",
"wl=1/2*L*i*i\n",
"wl_min=0 //min current =0\n",
"wl_max=1/2*L*Im*Im //Im is the max current\n",
"\n",
"disp('All values in Joules')\n",
"disp(wl_max,wl_min,wl,Pl,Pr)\n",
"\n",
""
   ]
   }
],
"metadata": {
		  "kernelspec": {
		   "display_name": "Scilab",
		   "language": "scilab",
		   "name": "scilab"
		  },
		  "language_info": {
		   "file_extension": ".sce",
		   "help_links": [
			{
			 "text": "MetaKernel Magics",
			 "url": "https://github.com/calysto/metakernel/blob/master/metakernel/magics/README.md"
			}
		   ],
		   "mimetype": "text/x-octave",
		   "name": "scilab",
		   "version": "0.7.1"
		  }
		 },
		 "nbformat": 4,
		 "nbformat_minor": 0
}
