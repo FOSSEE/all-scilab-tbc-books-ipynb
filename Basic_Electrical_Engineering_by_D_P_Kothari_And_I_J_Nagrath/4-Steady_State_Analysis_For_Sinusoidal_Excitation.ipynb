{
"cells": [
 {
		   "cell_type": "markdown",
	   "metadata": {},
	   "source": [
       "# Chapter 4: Steady State Analysis For Sinusoidal Excitation"
	   ]
	},
{
		   "cell_type": "markdown",
		   "metadata": {},
		   "source": [
			"## Example 4.10: Problem10.sce"
		   ]
		  },
  {
"cell_type": "code",
	   "execution_count": null,
	   "metadata": {
	    "collapsed": true
	   },
	   "outputs": [],
"source": [
"function Zeq=parallel(Z1,Z2)\n",
"    Zeq=Z1*Z2/(Z1+Z2)\n",
"endfunction\n",
"\n",
"Zeq=parallel(5,3-imult(6))\n",
"I=complex(10,0)\n",
"V=Zeq*I\n",
"pf=cos(atan(imag(V)/real(V)))\n",
"P=norm(V)*norm(I)*pf\n",
"disp(pf,P)"
   ]
   }
,
{
		   "cell_type": "markdown",
		   "metadata": {},
		   "source": [
			"## Example 4.11: Problem11.sce"
		   ]
		  },
  {
"cell_type": "code",
	   "execution_count": null,
	   "metadata": {
	    "collapsed": true
	   },
	   "outputs": [],
"source": [
"P1=8000\n",
"pf1=0.8\n",
"V1=430\n",
"\n",
"I1=P1/V1/pf1\n",
"Pr1=P1-I1^2*1\n",
"Q1=P1*tan(acos(pf1))\n",
"Qr1=Q1-I1^2*1.2\n",
"Sr1=sqrt(Pr1^2+Qr1^2)\n",
"\n",
"Vl=Sr1/I1\n",
"Pl=15000\n",
"Ql=Pl*tan(acos(0.8))\n",
"Pr2=Pl-Pr1\n",
"Qr2=Ql-Qr1\n",
"Sr2=sqrt(Pr2^2+Qr2^2)\n",
"\n",
"I2=Sr2/Vl\n",
"P2=Pr2+I2^2*0.7\n",
"Q2=Qr2+I2^2*0.9\n",
"\n",
"pf=cos(atan(Q2/P2))\n",
"S2=sqrt(P2^2+Q2^2)\n",
"V2=S2/I2\n",
"\n",
"disp(V2,pf,P2,Q2,Q1,Vl)"
   ]
   }
,
{
		   "cell_type": "markdown",
		   "metadata": {},
		   "source": [
			"## Example 4.12: Problem12.sce"
		   ]
		  },
  {
"cell_type": "code",
	   "execution_count": null,
	   "metadata": {
	    "collapsed": true
	   },
	   "outputs": [],
"source": [
"V=231\n",
"f=50\n",
"w=2*%pi*f\n",
"Sl=10\n",
"pf=0.8\n",
"Pl=Sl*pf\n",
"Ql=Sl*sin(acos(pf))\n",
"Qc=Ql-tan(acos(0.95))*Pl\n",
"\n",
"C=Qc*1000/V^2/w\n",
"\n",
"Is1=10*1000/V\n",
"Il=Is1\n",
"Is2=norm(Pl+%i*(Ql-Qc))*1000/V\n",
"\n",
"disp(Is2,Is1,C,Qc)"
   ]
   }
,
{
		   "cell_type": "markdown",
		   "metadata": {},
		   "source": [
			"## Example 4.13: Problem13.sce"
		   ]
		  },
  {
"cell_type": "code",
	   "execution_count": null,
	   "metadata": {
	    "collapsed": true
	   },
	   "outputs": [],
"source": [
"function [x,y]=polar_to_cart(r,theta)\n",
"    theta=theta/180*%pi\n",
"    x=r*cos(theta)\n",
"    y=r*sin(theta)\n",
"endfunction\n",
"\n",
"//converting v source to curr source\n",
"V=15\n",
"R=5\n",
"I1=V/R\n",
"\n",
"\n",
"[Ix,Iy]=polar_to_cart(2,-30)\n",
"I2=complex(Ix,Iy)\n",
"\n",
"//nodal analysis\n",
"A=[0.7-0.1*%i,-0.5;-0.5,0.5+0.5*%i]\n",
"V=inv(A)*[I1;I2]\n",
"\n",
"[rv1,thetav1]=polar(V(1))\n",
"[rv2,thetav2]=polar(V(2))\n",
"\n",
"disp(real(thetav2*180/%pi),rv2,real(thetav1*180/%pi),rv1)"
   ]
   }
,
{
		   "cell_type": "markdown",
		   "metadata": {},
		   "source": [
			"## Example 4.14: Problem14.sce"
		   ]
		  },
  {
"cell_type": "code",
	   "execution_count": null,
	   "metadata": {
	    "collapsed": true
	   },
	   "outputs": [],
"source": [
"w=600\n",
"R=10\n",
"L=10E-3\n",
"C=0.5E-3\n",
"Xl=w*L*%i\n",
"Xc=1/(w*C*%i) //Xc value in the book is wrong\n",
"V1=40\n",
"V2=complex(0,-30)\n",
"\n",
"//mesh analysis\n",
"A=[R+Xl,-R;-R,R+Xc]\n",
"I=inv(A)*[V1;V2]\n",
"\n",
"Ir=I(1)-I(2)\n",
"Vr=R*Ir\n",
"\n",
"disp(Vr)  //Final answer is different"
   ]
   }
,
{
		   "cell_type": "markdown",
		   "metadata": {},
		   "source": [
			"## Example 4.15: Problem15.sce"
		   ]
		  },
  {
"cell_type": "code",
	   "execution_count": null,
	   "metadata": {
	    "collapsed": true
	   },
	   "outputs": [],
"source": [
"Z1=complex(2,-1)\n",
"Z2=complex(0,-5)\n",
"Z3=complex(2,1)\n",
"I1=1\n",
"I2=complex(0,-2)\n",
"\n",
"//deactivate curr source 2\n",
"V11=I1*(Z2+Z3)/(Z1+Z2+Z3)*Z1\n",
"V21=I1*Z1/(Z1+Z2+Z3)*Z3\n",
"\n",
"//deactivate curr source 1\n",
"V12=I2*Z3*Z1/(Z1+Z2+Z3)\n",
"V22=I2*(Z1+Z2)/(Z1+Z2+Z3)*Z3\n",
"\n",
"V1=V11+V12\n",
"V2=V21+V22\n",
"\n",
"disp(V2,V1)"
   ]
   }
,
{
		   "cell_type": "markdown",
		   "metadata": {},
		   "source": [
			"## Example 4.16: Problem16.sce"
		   ]
		  },
  {
"cell_type": "code",
	   "execution_count": null,
	   "metadata": {
	    "collapsed": true
	   },
	   "outputs": [],
"source": [
"function [Ra,Rb,Rc]=delta_to_star(Rab,Rbc,Rca)\n",
"    X=Rab+Rbc+Rca\n",
"    Ra=Rab*Rca/X\n",
"    Rb=Rab*Rbc/X\n",
"    Rc=Rca*Rbc/X\n",
"endfunction\n",
"\n",
"function Zeq=parallel(Z1,Z2)\n",
"    Zeq=Z1*Z2/(Z1+Z2)\n",
"endfunction\n",
"\n",
"V=20\n",
"w=2\n",
"R=1\n",
"C=1/2\n",
"Xc=1/(w*C*%i)\n",
"Zab=-%i\n",
"Zbc=2\n",
"Zca=2\n",
"\n",
"[Za,Zb,Zc]=delta_to_star(Zab,Zbc,Zca)\n",
"Zth=Za+parallel(R+Zb,Xc+Zc)\n",
"\n",
"Vdc=V*(Zc+Xc)/(R+Zb+Zc+Xc)\n",
"disp(Zth,Vdc)\n",
"\n",
"Isc=Vdc/Zth\n",
"disp(Zth,Isc)"
   ]
   }
,
{
		   "cell_type": "markdown",
		   "metadata": {},
		   "source": [
			"## Example 4.17: Problem17.sce"
		   ]
		  },
  {
"cell_type": "code",
	   "execution_count": null,
	   "metadata": {
	    "collapsed": true
	   },
	   "outputs": [],
"source": [
"function Zeq=parallel(Z1,Z2)\n",
"    Zeq=Z1*Z2/(Z1+Z2)\n",
"endfunction\n",
"\n",
"V=20\n",
"Z1=complex(5,10)\n",
"Z2=complex(3,-4)\n",
"\n",
"Vth=V*Z2/(Z1+Z2)\n",
"Zth=parallel(Z1,Z2)\n",
"\n",
"//by maximum power transfer theorem\n",
"Zl=conj(Zth)\n",
"P=norm(Vth/(Zth+Zl))^2*real(Zl)\n",
"disp(P,Zl)\n",
"\n",
"Rl=sqrt(real(Zth)^2+(4+imag(Zth))^2)\n",
"disp(Rl)"
   ]
   }
,
{
		   "cell_type": "markdown",
		   "metadata": {},
		   "source": [
			"## Example 4.18: Problem18.sce"
		   ]
		  },
  {
"cell_type": "code",
	   "execution_count": null,
	   "metadata": {
	    "collapsed": true
	   },
	   "outputs": [],
"source": [
"function [x,y]=polar_to_cart(r,theta)\n",
"    theta=theta/180*%pi\n",
"    x=r*cos(theta)\n",
"    y=r*sin(theta)\n",
"endfunction\n",
"\n",
"R1=1\n",
"R2=6\n",
"L=2\n",
"C=1/3\n",
"\n",
"[Vx,Vy]=polar_to_cart(4,30)\n",
"[Ix,Iy]=polar_to_cart(0.8,-10)\n",
"\n",
"//deactivate current source\n",
"V=complex(Vx,Vy)\n",
"w=3\n",
"Xl=w*L*%i\n",
"Xc=1/(w*C*%i)\n",
"\n",
"Il1=V/(R1+R2+Xl+Xc)\n",
"Pav1=norm(Il1)^2*R1\n",
"\n",
"//deactivate voltage source\n",
"I=complex(Ix,Iy)\n",
"w=5\n",
"Xl=w*L*%i\n",
"Xc=1/(w*C*%i)\n",
"\n",
"Il2=I*(R2+Xl)/(R2+Xl+R1+Xc)\n",
"Pav2=norm(Il2)^2*R1\n",
"\n",
"Pav=Pav1+Pav2\n",
"disp(Pav)"
   ]
   }
,
{
		   "cell_type": "markdown",
		   "metadata": {},
		   "source": [
			"## Example 4.1: Problem1.sce"
		   ]
		  },
  {
"cell_type": "code",
	   "execution_count": null,
	   "metadata": {
	    "collapsed": true
	   },
	   "outputs": [],
"source": [
"Iav=1/(2*%pi)*integrate('20*sin(wt)','wt',%pi/3,%pi)\n",
"disp(Iav)\n",
"\n",
"Irms=sqrt(1/(2*%pi)*integrate('(20*sin(wt))^2','wt',%pi/3,%pi))\n",
"disp(Irms)"
   ]
   }
,
{
		   "cell_type": "markdown",
		   "metadata": {},
		   "source": [
			"## Example 4.21: Problem21.sce"
		   ]
		  },
  {
"cell_type": "code",
	   "execution_count": null,
	   "metadata": {
	    "collapsed": true
	   },
	   "outputs": [],
"source": [
"I=35\n",
"VR=25\n",
"Vrl=40\n",
"VRrl=50\n",
"Vc=45\n",
"C=50E-6\n",
"Xc=Vc/I\n",
"w=1/(Xc*C)\n",
"\n",
"theta=acos((VR^2+VRrl^2-Vrl^2)/(2*VR*VRrl))\n",
"x=VRrl*cos(theta)-25\n",
"y=VRrl*sin(theta)\n",
"\n",
"r=x/I\n",
"L=y/(I*w)\n",
"Vappl=sqrt((VR+x)^2+y^2)\n",
"R=VR/I\n",
"\n",
"disp(L,r,R)"
   ]
   }
,
{
		   "cell_type": "markdown",
		   "metadata": {},
		   "source": [
			"## Example 4.22: Problem22.sce"
		   ]
		  },
  {
"cell_type": "code",
	   "execution_count": null,
	   "metadata": {
	    "collapsed": true
	   },
	   "outputs": [],
"source": [
"V=12\n",
"w=1000\n",
"R=4\n",
"L=5E-3\n",
"C=400E-6\n",
"Xl=w*L*%i\n",
"Xc=1/(w*C*%i)\n",
"\n",
"//mesh analysis\n",
"A=[R+Xl,-Xl;2-Xl,Xl+Xc]\n",
"I=inv(A)*[12;0]\n",
"\n",
"disp(I(1)) //answer is wrong in the book"
   ]
   }
,
{
		   "cell_type": "markdown",
		   "metadata": {},
		   "source": [
			"## Example 4.23: Problem23.sce"
		   ]
		  },
  {
"cell_type": "code",
	   "execution_count": null,
	   "metadata": {
	    "collapsed": true
	   },
	   "outputs": [],
"source": [
"function [x,y]=polar_to_cart(r,theta)\n",
"    theta=theta/180*%pi\n",
"    x=r*cos(theta)\n",
"    y=r*sin(theta)\n",
"endfunction\n",
"\n",
"[I1x,I1y]=polar_to_cart(2,10)\n",
"[I2x,I2y]=polar_to_cart(3,120)\n",
"\n",
"I1=complex(I1x,I1y)\n",
"I2=complex(I2x,I2y)\n",
"w=4\n",
"R=2\n",
"L=3\n",
"C=1/4\n",
"Xl=w*L*%i\n",
"Xc=1/(w*C*%i)\n",
"\n",
"//deactivate source 2\n",
"i1=(R+Xl)/(R+Xl+Xc)*I1\n",
"i2=1/(R+Xl+Xc)*I2\n",
"i=i1+i2\n",
"disp(i)  //answer is wrong in the book"
   ]
   }
,
{
		   "cell_type": "markdown",
		   "metadata": {},
		   "source": [
			"## Example 4.24: Problem24.sce"
		   ]
		  },
  {
"cell_type": "code",
	   "execution_count": null,
	   "metadata": {
	    "collapsed": true
	   },
	   "outputs": [],
"source": [
"V=230\n",
"w=2*%pi*50\n",
"R=8\n",
"L=0.1\n",
"C=160E-6\n",
"\n",
"Xl=w*L*%i\n",
"disp(Xl)\n",
"\n",
"Xc=1/(w*C*%i)\n",
"disp(Xc)\n",
"\n",
"Z=norm(R+Xl+Xc)\n",
"disp(Z)\n",
"I=V/Z\n",
"disp(I)\n",
"pf=cos(atan(norm(Xl+Xc)/R))\n",
"disp(pf)\n",
"\n",
"Vcoil=I*norm(R+Xl)\n",
"Vc=norm(I*Xc)\n",
"disp(Vc,Vcoil)"
   ]
   }
,
{
		   "cell_type": "markdown",
		   "metadata": {},
		   "source": [
			"## Example 4.25: Problem25.sce"
		   ]
		  },
  {
"cell_type": "code",
	   "execution_count": null,
	   "metadata": {
	    "collapsed": true
	   },
	   "outputs": [],
"source": [
"function Zeq=parallel(Z1,Z2)\n",
"    Zeq=Z1*Z2/(Z1+Z2)\n",
"endfunction\n",
"\n",
"V=100\n",
"Z1=complex(0,-5)\n",
"Z2=complex(5,0)\n",
"Z3=complex(0,5)\n",
"I=[0,0,0]\n",
"\n",
"Z=Z1+parallel(Z2,Z3)\n",
"I(1)=V/Z\n",
"\n",
"I(2)=Z3/(Z2+Z3)*I(1)\n",
"I(3)=Z2/(Z2+Z3)*I(1)\n",
"\n",
"disp(I)"
   ]
   }
,
{
		   "cell_type": "markdown",
		   "metadata": {},
		   "source": [
			"## Example 4.26: Problem26.sce"
		   ]
		  },
  {
"cell_type": "code",
	   "execution_count": null,
	   "metadata": {
	    "collapsed": true
	   },
	   "outputs": [],
"source": [
"function Zeq=parallel(Z1,Z2)\n",
"    Zeq=Z1*Z2/(Z1+Z2)\n",
"endfunction\n",
"\n",
"//converting curr source to v source\n",
"I=0.4\n",
"R1=15\n",
"V=I*R1\n",
"w=400\n",
"\n",
"R2=5\n",
"R3=80\n",
"L=25E-3\n",
"Xl=w*L*%i\n",
"\n",
"Zeq=R1+R2+parallel(R3,Xl)\n",
"I=V/Zeq\n",
"Il=I*R3/(R3+Xl)\n",
"Ix=I*Xl/(R3+Xl)\n",
"\n",
"disp(Il,Ix)"
   ]
   }
,
{
		   "cell_type": "markdown",
		   "metadata": {},
		   "source": [
			"## Example 4.27: Problem27.sce"
		   ]
		  },
  {
"cell_type": "code",
	   "execution_count": null,
	   "metadata": {
	    "collapsed": true
	   },
	   "outputs": [],
"source": [
"V=4\n",
"w=2\n",
"\n",
"R=4\n",
"L=2\n",
"Xl=w*L*%i\n",
"\n",
"Il=V/(Xl+R)\n",
"Xc=-V/imag(Il)\n",
"C=1/(w*Xc)\n",
"disp(C)"
   ]
   }
,
{
		   "cell_type": "markdown",
		   "metadata": {},
		   "source": [
			"## Example 4.28: Problem28.sce"
		   ]
		  },
  {
"cell_type": "code",
	   "execution_count": null,
	   "metadata": {
	    "collapsed": true
	   },
	   "outputs": [],
"source": [
"function [x,y]=polar_to_cart(r,theta)\n",
"    theta=theta/180*%pi\n",
"    x=r*cos(theta)\n",
"    y=r*sin(theta)\n",
"endfunction\n",
"\n",
"I=4\n",
"w=500\n",
"[Ir,Ic]=polar_to_cart(3,40)\n",
"Ix=complex(Ir,Ic)\n",
"C=1E-3\n",
"L=10E-3\n",
"Xl=w*L*%i\n",
"Xc=1/(w*C*%i)\n",
"\n",
"Il=I-Ix\n",
"Ic=Ix\n",
"Vc=Ic*Xc\n",
"Vl=Il*Xl\n",
"Vx=Vl-Vc\n",
"disp(Vx)  //answer wrong in the book"
   ]
   }
,
{
		   "cell_type": "markdown",
		   "metadata": {},
		   "source": [
			"## Example 4.29: Problem29.sce"
		   ]
		  },
  {
"cell_type": "code",
	   "execution_count": null,
	   "metadata": {
	    "collapsed": true
	   },
	   "outputs": [],
"source": [
"w=10\n",
"R=2\n",
"L=0.3\n",
"Ir=10*(cos(%pi/4)+%i*sin(%pi/4))\n",
"Vr=Ir*R\n",
"Vc=20*(cos(%pi/4)-%i*sin(%pi/4))\n",
"V=Vr+Vc\n",
"Ic=Ir\n",
"C=Ic/(w*Vc*%i)\n",
"disp(real(C))      ///////Wrong in book"
   ]
   }
,
{
		   "cell_type": "markdown",
		   "metadata": {},
		   "source": [
			"## Example 4.2: Problem2.sce"
		   ]
		  },
  {
"cell_type": "code",
	   "execution_count": null,
	   "metadata": {
	    "collapsed": true
	   },
	   "outputs": [],
"source": [
"Iav_by_Im=1/%pi*integrate('sin(wt)','wt',0,%pi)\n",
"disp(Iav_by_Im)\n",
"\n",
"//final answer is wrong in the book"
   ]
   }
,
{
		   "cell_type": "markdown",
		   "metadata": {},
		   "source": [
			"## Example 4.30: Problem30.sce"
		   ]
		  },
  {
"cell_type": "code",
	   "execution_count": null,
	   "metadata": {
	    "collapsed": true
	   },
	   "outputs": [],
"source": [
"R=2000\n",
"C=5E-6\n",
"w=1000\n",
"\n",
"Xc=1/(w*C*%i)\n",
"Y=1/R+1/Xc\n",
"Z=1/Y\n",
"Req=real(Z)\n",
"Ceq=-1/(imag(Z)*w)\n",
"\n",
"disp(Ceq*1E6,Req)   //////Answer wrong in the book"
   ]
   }
,
{
		   "cell_type": "markdown",
		   "metadata": {},
		   "source": [
			"## Example 4.31: Problem31.sce"
		   ]
		  },
  {
"cell_type": "code",
	   "execution_count": null,
	   "metadata": {
	    "collapsed": true
	   },
	   "outputs": [],
"source": [
"I=10*(cos(%pi/180*37)-%i*sin(%pi/180*37))\n",
"V=6\n",
"C=250E-6\n",
"w=1000\n",
"Xc=1/(w*C*%i)\n",
"\n",
"Ic=V/Xc\n",
"disp(Ic)\n",
"\n",
"Ix=imag(I-Ic)\n",
"X=abs(V/Ix)\n",
"Ir=real(I-Ic)\n",
"R=V/Ir\n",
"\n",
"disp(R,X)"
   ]
   }
,
{
		   "cell_type": "markdown",
		   "metadata": {},
		   "source": [
			"## Example 4.32: Problem32.sce"
		   ]
		  },
  {
"cell_type": "code",
	   "execution_count": null,
	   "metadata": {
	    "collapsed": true
	   },
	   "outputs": [],
"source": [
"V1=30+10*%i\n",
"V2=30\n",
"w=1000\n",
"L=1\n",
"C1=1E-6\n",
"C2=1E-6\n",
"R1=1000\n",
"R2=1000\n",
"\n",
"Xl=%i*w*L\n",
"Xc1=%i/(w*C1)\n",
"Xc2=%i/(w*C2)\n",
"\n",
"////////mesh equations\n",
"\n",
"A=[1,%i; %i,1-2*%i]\n",
"I=inv(A)*[10*%i;30]\n",
"\n",
"Ic1=I(1)-I(2)\n",
"\n",
"disp(Ic1)\n",
"\n",
"\n",
"\n",
"\n",
"\n",
"\n",
"\n",
"\n",
"\n",
""
   ]
   }
,
{
		   "cell_type": "markdown",
		   "metadata": {},
		   "source": [
			"## Example 4.33: Problem33.sce"
		   ]
		  },
  {
"cell_type": "code",
	   "execution_count": null,
	   "metadata": {
	    "collapsed": true
	   },
	   "outputs": [],
"source": [
"function [x,y]=polar_to_cart(r,theta)\n",
"    theta=theta/180*%pi\n",
"    x=r*cos(theta)\n",
"    y=r*sin(theta)\n",
"endfunction\n",
"\n",
"[Ir,Ic]=polar_to_cart(3,30)\n",
"I=complex(Ir,Ic)\n",
"Zc=-5*%i\n",
"Zrl=10+5*%i\n",
"\n",
"Ic=Zrl/(Zc+Zrl)*I\n",
"Vth=Ic*Zc\n",
"Zth=parallel(Zc,Zrl)\n",
"In=Vth/Zth\n",
"\n",
"disp(Rth,In,Vth)"
   ]
   }
,
{
		   "cell_type": "markdown",
		   "metadata": {},
		   "source": [
			"## Example 4.34: Problem34.sce"
		   ]
		  },
  {
"cell_type": "code",
	   "execution_count": null,
	   "metadata": {
	    "collapsed": true
	   },
	   "outputs": [],
"source": [
"function [x,y]=polar_to_cart(r,theta)\n",
"    theta=theta/180*%pi\n",
"    x=r*cos(theta)\n",
"    y=r*sin(theta)\n",
"endfunction\n",
"\n",
"[Ir,Ic]=polar_to_cart(2,10)\n",
"I1=complex(Ir,Ic)\n",
"[Ir,Ic]=polar_to_cart(3,90+30)\n",
"I2=complex(Ir,Ic)\n",
"\n",
"w=4\n",
"R=2\n",
"L=0.5\n",
"C=1/4\n",
"Xl=w*L*%i\n",
"Xc=1/(w*C*%i)\n",
"\n",
"//deactivate voltage source\n",
"i1=I1*(R+Xl)/(R+Xl+Xc)\n",
"\n",
"//deactivate curr source\n",
"i2=I2/(R+Xl+Xc)\n",
"\n",
"i=i1+i2\n",
"disp(i)"
   ]
   }
,
{
		   "cell_type": "markdown",
		   "metadata": {},
		   "source": [
			"## Example 4.35: Problem35.sce"
		   ]
		  },
  {
"cell_type": "code",
	   "execution_count": null,
	   "metadata": {
	    "collapsed": true
	   },
	   "outputs": [],
"source": [
"function Zeq=parallel(Z1,Z2)\n",
"    Zeq=Z1*Z2/(Z1+Z2)\n",
"endfunction\n",
"\n",
"I=10\n",
"w=2000\n",
"R=200\n",
"L=0.125\n",
"\n",
"Xl=w*L*%i\n",
"\n",
"Zeq=parallel(R,Xl)\n",
"V=I*Zeq\n",
"Il=V/Xl\n",
"Ir=V/R\n",
"\n",
"t=1/1000\n",
"I1=sqrt(2)*real(I*exp(%i*w*t))\n",
"Il1=sqrt(2)*real(Il*exp(%i*w*t))\n",
"Ir1=sqrt(2)*real(Ir*exp(%i*w*t))\n",
"V1=sqrt(2)*real(V*exp(%i*w*t))\n",
"\n",
"Ps=-V1*I1\n",
"Pr=-V1*Ir1\n",
"Pl=-V1*Il1\n",
"\n",
"disp(Pl,Pr,Ps)"
   ]
   }
,
{
		   "cell_type": "markdown",
		   "metadata": {},
		   "source": [
			"## Example 4.36: Problem36.sce"
		   ]
		  },
  {
"cell_type": "code",
	   "execution_count": null,
	   "metadata": {
	    "collapsed": true
	   },
	   "outputs": [],
"source": [
"function [x,y]=polar_to_cart(r,theta)\n",
"    theta=theta/180*%pi\n",
"    x=r*cos(theta)\n",
"    y=r*sin(theta)\n",
"endfunction\n",
"\n",
"[Vr,Vc]=polar_to_cart(120,45)\n",
"V=complex(Vr,Vc)\n",
"\n",
"[Zr,Zc]=polar_to_cart(16.3,24.5)\n",
"Z=complex(Zr,Zc)\n",
"\n",
"w=50\n",
"\n",
"I=V/Z\n",
"P=V*conj(I)\n",
"Pavg=real(P)\n",
"pf=real((V/I)/norm(V/I))\n",
"\n",
"disp(pf,Pavg)"
   ]
   }
,
{
		   "cell_type": "markdown",
		   "metadata": {},
		   "source": [
			"## Example 4.37: Problem37.sce"
		   ]
		  },
  {
"cell_type": "code",
	   "execution_count": null,
	   "metadata": {
	    "collapsed": true
	   },
	   "outputs": [],
"source": [
"function Zeq=parallel(Z1,Z2)\n",
"    Zeq=Z1*Z2/(Z1+Z2)\n",
"endfunction\n",
"\n",
"function [x,y]=polar_to_cart(r,theta)\n",
"    theta=theta/180*%pi\n",
"    x=r*cos(theta)\n",
"    y=r*sin(theta)\n",
"endfunction\n",
"\n",
"[Ir,Ic]=polar_to_cart(20,60)\n",
"I=complex(Ir,Ic)\n",
"\n",
"w=5000\n",
"R=3000\n",
"L=1\n",
"C=0.25E-6\n",
"Xl=w*L*%i\n",
"Xc=1/(w*C*%i)\n",
"\n",
"Z=parallel(R+Xl,Xc)\n",
"V=I*Z\n",
"disp(V)"
   ]
   }
,
{
		   "cell_type": "markdown",
		   "metadata": {},
		   "source": [
			"## Example 4.38: Problem38.sce"
		   ]
		  },
  {
"cell_type": "code",
	   "execution_count": null,
	   "metadata": {
	    "collapsed": true
	   },
	   "outputs": [],
"source": [
"function Zeq=parallel(Z1,Z2)\n",
"    Zeq=Z1*Z2/(Z1+Z2)\n",
"endfunction\n",
"\n",
"V=5\n",
"w=5\n",
"R=2\n",
"L1=0.8\n",
"L2=1\n",
"C=1/5\n",
"Xl1=w*L1*%i\n",
"Xl2=w*L2*%i\n",
"Xc=1/(w*C*%i)\n",
"\n",
"Vth=R/(R+Xl2)*V\n",
"Zth=Xc+parallel(Xl2,R)\n",
"disp(Zth,Vth)\n",
"\n",
"I=Vth/(Zth+Xl1)\n",
"Vl=I*Xl1\n",
"S=Vl*conj(I)/2\n",
"disp(S)"
   ]
   }
,
{
		   "cell_type": "markdown",
		   "metadata": {},
		   "source": [
			"## Example 4.39: Problem39.sce"
		   ]
		  },
  {
"cell_type": "code",
	   "execution_count": null,
	   "metadata": {
	    "collapsed": true
	   },
	   "outputs": [],
"source": [
"Pm=600\n",
"Vm=sqrt(3*Pm)\n",
"f=15.36E6\n",
"w=2*%pi*f\n",
"t=20.3E-3\n",
"theta=%pi/2-modulo(w*t,2*%pi)\n",
"\n",
"disp(theta*180/%pi)"
   ]
   }
,
{
		   "cell_type": "markdown",
		   "metadata": {},
		   "source": [
			"## Example 4.40: Problem40.sce"
		   ]
		  },
  {
"cell_type": "code",
	   "execution_count": null,
	   "metadata": {
	    "collapsed": true
	   },
	   "outputs": [],
"source": [
"V=240\n",
"w=100*%pi\n",
"R=6\n",
"\n",
"Vr=120\n",
"I=Vr/R\n",
"\n",
"t=(205/I)^2       ////t=r^2+Xl^2\n",
"r=((240/I)^2-t-R*R)/2/R         ///this part solved wrong in the book\n",
"Xl=sqrt(t-r*r)\n",
"Z=sqrt(t)\n",
"disp(r)\n",
"disp(Xl)\n",
"disp(Z)\n",
"\n",
"Pl_choke=I*I*r\n",
"disp(Pl_choke)\n",
"pf=Pl_choke/205/20\n",
"disp(pf)"
   ]
   }
,
{
		   "cell_type": "markdown",
		   "metadata": {},
		   "source": [
			"## Example 4.41: Problem41.sce"
		   ]
		  },
  {
"cell_type": "code",
	   "execution_count": null,
	   "metadata": {
	    "collapsed": true
	   },
	   "outputs": [],
"source": [
"w=2\n",
"L=1\n",
"C=0.5\n",
"Xl=w*L*%i\n",
"Xc=1/(w*C*%i)\n",
"V=1\n",
"I=V/(1+%i)\n",
"Y=I/V\n",
"R=1/real(Y)\n",
"disp(R,Y)"
   ]
   }
,
{
		   "cell_type": "markdown",
		   "metadata": {},
		   "source": [
			"## Example 4.42: Problem42.sce"
		   ]
		  },
  {
"cell_type": "code",
	   "execution_count": null,
	   "metadata": {
	    "collapsed": true
	   },
	   "outputs": [],
"source": [
"w=400\n",
"R=5\n",
"L=25E-3\n",
"C=1.25E-3\n",
"Xl=w*L*%i\n",
"Xc=1/(w*C*%i)\n",
"\n",
"Z=R+Xl+Xc\n",
"Y=1/Z\n",
"C=-imag(Y)/w\n",
"Yn=real(Y)\n",
"Rn=1/Y\n",
"\n",
"disp(C)"
   ]
   }
,
{
		   "cell_type": "markdown",
		   "metadata": {},
		   "source": [
			"## Example 4.43: Problem43.sce"
		   ]
		  },
  {
"cell_type": "code",
	   "execution_count": null,
	   "metadata": {
	    "collapsed": true
	   },
	   "outputs": [],
"source": [
"function Zeq=parallel(Z1,Z2)\n",
"    Zeq=Z1*Z2/(Z1+Z2)\n",
"endfunction\n",
"\n",
"w=800\n",
"R1=10\n",
"R2=20\n",
"L=0.05\n",
"C=0.25E-3\n",
"Xl=w*L*%i\n",
"Xc=1/(w*C*%i)\n",
"\n",
"Zeq1=R2+parallel(Xc,R1+Xl)\n",
"Zeq2=parallel(parallel(R1,R2)+Xc,Xl)\n",
"\n",
"disp(Zeq2,Zeq1)"
   ]
   }
,
{
		   "cell_type": "markdown",
		   "metadata": {},
		   "source": [
			"## Example 4.44: Problem44.sce"
		   ]
		  },
  {
"cell_type": "code",
	   "execution_count": null,
	   "metadata": {
	    "collapsed": true
	   },
	   "outputs": [],
"source": [
"pf=0.707\n",
"theta=acos(pf)\n",
"P=200\n",
"Q=tan(theta)*P\n",
"pf2=0.85\n",
"theta_n=acos(pf2)\n",
"Qn=Q*tan(theta_n)\n",
"Qc=Q-Qn\n",
"\n",
"w=314\n",
"V=2000\n",
"C=Qc/(V*V*w)\n",
"\n",
"disp(C)"
   ]
   }
,
{
		   "cell_type": "markdown",
		   "metadata": {},
		   "source": [
			"## Example 4.45: Problem45.sce"
		   ]
		  },
  {
"cell_type": "code",
	   "execution_count": null,
	   "metadata": {
	    "collapsed": true
	   },
	   "outputs": [],
"source": [
"I=20\n",
"w=2000\n",
"R=200\n",
"L=0.25\n",
"Xl=w*L*%i\n",
"\n",
"Ir=I*Xl/(Xl+R)\n",
"Il=I-Ir\n",
"Vl=Xl*Il\n",
"\n",
"t=1E-3\n",
"ir=sqrt(2)*real(Ir*exp(%i*w*t))\n",
"il=sqrt(2)*real(Il*exp(%i*w*t))\n",
"vl=sqrt(2)*real(Vl*exp(%i*w*t))\n",
"is=sqrt(2)*real(I*exp(%i*w*t))\n",
"vs=vl\n",
"\n",
"Pr=ir*ir*R\n",
"Pl=vl*il\n",
"Ps=is*ir*R\n",
"Pr=ir*vl\n",
"\n",
"disp(Ps,Pl,Pr)"
   ]
   }
,
{
		   "cell_type": "markdown",
		   "metadata": {},
		   "source": [
			"## Example 4.46: Problem46.sce"
		   ]
		  },
  {
"cell_type": "code",
	   "execution_count": null,
	   "metadata": {
	    "collapsed": true
	   },
	   "outputs": [],
"source": [
"Vl=1\n",
"w=2\n",
"R=1\n",
"r=1/2\n",
"L=0.5\n",
"C=1\n",
"Xl=w*L*%i\n",
"Xc=1/(w*C*%i)\n",
"\n",
"Il=Vl/Xl\n",
"VR=Il*R\n",
"Vs=Vl+VR\n",
"\n",
"Vr=Vs\n",
"Ir=Vr/r\n",
"Ic=Vs/Xc\n",
"Is=Ir+Ic+Il\n",
"\n",
"PR=-VR*VR/R\n",
"Pr=-Vr*Vr/r\n",
"Ps=Vs*conj(Is)\n",
"\n",
"disp(real(Ps),Pr,PR)"
   ]
   }
,
{
		   "cell_type": "markdown",
		   "metadata": {},
		   "source": [
			"## Example 4.47: Problem47.sce"
		   ]
		  },
  {
"cell_type": "code",
	   "execution_count": null,
	   "metadata": {
	    "collapsed": true
	   },
	   "outputs": [],
"source": [
"V=10*%i\n",
"w=1000\n",
"R=2\n",
"L=2E-3\n",
"C=500E-6\n",
"Xl=w*L*%i\n",
"Xc=1/(w*C*%i)\n",
"\n",
"Zeq=Xl+Xc+parallel(R,Xl)\n",
"disp(Zeq)\n",
"\n",
"I=V/Z\n",
"Ir=I*Xl/(R+Xl)\n",
"Il2=I-Ir\n",
"Vl=I*Xl\n",
"Vc=I*Xc\n",
"\n",
"disp(I,Ir,Il2,Vl,Vc)"
   ]
   }
,
{
		   "cell_type": "markdown",
		   "metadata": {},
		   "source": [
			"## Example 4.48: Problem48.sce"
		   ]
		  },
  {
"cell_type": "code",
	   "execution_count": null,
	   "metadata": {
	    "collapsed": true
	   },
	   "outputs": [],
"source": [
"function [x,y]=polar_to_cart(r,theta)\n",
"    theta=theta/180*%pi\n",
"    x=r*cos(theta)\n",
"    y=r*sin(theta)\n",
"endfunction\n",
"\n",
"[Vr,Vc]=polar_to_cart(100,120)\n",
"V1=complex(Vr,Vc)\n",
"\n",
"I=10\n",
"w=5000\n",
"R=10000\n",
"L=2.4E-3\n",
"C=0.05E-3\n",
"\n",
"\n",
"[Vr,Vc]=polar_to_cart(96,60)\n",
"Vl=complex(Vr,Vc)\n",
"\n",
"Xl=w*L*%i\n",
"Xc=1/(w*C*%i)\n",
"\n",
"Il=Vl/Xl\n",
"Ic=I-Il\n",
"V2=(R+Xc)*Ic+V1\n",
"V3=V2-Vl\n",
"V1=Ic*Xc\n",
"\n",
"disp(V1,V2,V3)"
   ]
   }
,
{
		   "cell_type": "markdown",
		   "metadata": {},
		   "source": [
			"## Example 4.49: Problem49.sce"
		   ]
		  },
  {
"cell_type": "code",
	   "execution_count": null,
	   "metadata": {
	    "collapsed": true
	   },
	   "outputs": [],
"source": [
"function Zeq=parallel(Z1,Z2)\n",
"    Zeq=Z1*Z2/(Z1+Z2)\n",
"endfunction\n",
"\n",
"////////////short AB\n",
"Vab=0\n",
"Isc=50/4\n",
"\n",
"////////////for Zn\n",
"Zn=parallel(4,8*%i)\n",
"\n",
"disp(Isc,Zn)"
   ]
   }
,
{
		   "cell_type": "markdown",
		   "metadata": {},
		   "source": [
			"## Example 4.4: Problem4.sce"
		   ]
		  },
  {
"cell_type": "code",
	   "execution_count": null,
	   "metadata": {
	    "collapsed": true
	   },
	   "outputs": [],
"source": [
"/////////////////////part a\n",
"L=0.05\n",
"R=20\n",
"w=1.2E3\n",
"Xl=w*L\n",
"V=complex(100,200)\n",
"I=complex(5,0)\n",
"\n",
"Xc=-imult(R+imult(Xl)-V/I)\n",
"C=1/w/Xc\n",
"\n",
"disp(C)\n",
"\n",
"/////////////////////part b\n",
"w=200\n",
"V=complex(100,0)\n",
"Xl=w*L\n",
"Xc=-imult(R+imult(Xl)-V/I)\n",
"C=1/w/Xc\n",
"\n",
"disp(C)"
   ]
   }
,
{
		   "cell_type": "markdown",
		   "metadata": {},
		   "source": [
			"## Example 4.50: Problem50.sce"
		   ]
		  },
  {
"cell_type": "code",
	   "execution_count": null,
	   "metadata": {
	    "collapsed": true
	   },
	   "outputs": [],
"source": [
"function Zeq=parallel(Z1,Z2)\n",
"    Zeq=Z1*Z2/(Z1+Z2)\n",
"endfunction\n",
"\n",
"V=12*%i\n",
"\n",
"Vth=4-12*%i/(4-12*%i+6+9*%i)*V\n",
"Zth=parallel(4-12*%i,6+9*%i)\n",
"\n",
"I=Vth/(Zth+6+12*%i)\n",
"S=V*conj(I)\n",
"disp(S)\n",
"\n",
"Zl=conj(Zth)\n",
"I=Vth/(Zth+Zl)\n",
"S=V*conj(I)\n",
"disp(Zth,S)"
   ]
   }
,
{
		   "cell_type": "markdown",
		   "metadata": {},
		   "source": [
			"## Example 4.51: Problem51.sce"
		   ]
		  },
  {
"cell_type": "code",
	   "execution_count": null,
	   "metadata": {
	    "collapsed": true
	   },
	   "outputs": [],
"source": [
"function Zeq=parallel(Z1,Z2)\n",
"    Zeq=Z1*Z2/(Z1+Z2)\n",
"endfunction\n",
"\n",
"I=5\n",
"\n",
"Zth=parallel(40,30*%i)\n",
"Zl=conj(Zth)\n",
"Vth=Zth*I\n",
"Z=Zth+Zl\n",
"Il=Vth/Z\n",
"Pmax=abs(Il*Il*real(Zl))\n",
"\n",
"disp(Zth,Pmax)"
   ]
   }
,
{
		   "cell_type": "markdown",
		   "metadata": {},
		   "source": [
			"## Example 4.52: Problem52.sce"
		   ]
		  },
  {
"cell_type": "code",
	   "execution_count": null,
	   "metadata": {
	    "collapsed": true
	   },
	   "outputs": [],
"source": [
"V=4*sqrt(2)\n",
"w=2\n",
"R=4\n",
"L=2\n",
"Xl=w*L*%i\n",
"\n",
"Il=V/(R+Xl)\n",
"Ic=-imag(Il)*%i\n",
"C=Ic/(V*%i*w)\n",
"\n",
"disp(C)"
   ]
   }
,
{
		   "cell_type": "markdown",
		   "metadata": {},
		   "source": [
			"## Example 4.5: Problem5.sce"
		   ]
		  },
  {
"cell_type": "code",
	   "execution_count": null,
	   "metadata": {
	    "collapsed": true
	   },
	   "outputs": [],
"source": [
"L=0.0255\n",
"R1=6\n",
"V=240\n",
"f=50\n",
"w=2*%pi*f\n",
"Va=sqrt(V^2/10)\n",
"Vb=3*Va\n",
"Xl=w*L\n",
"Theta1=atan(Xl/R1)\n",
"Theta2=%pi/2-Theta1 //Va and Vb are in quadrature\n",
"\n",
"I=Vb/sqrt(R1^2+Xl^2)\n",
"\n",
"R=(Va/I)/sqrt(1+tan(Theta2)^2)\n",
"disp(R)\n",
"\n",
"Xc=R*tan(Theta2)\n",
"C=1/w/Xc\n",
"disp(C)"
   ]
   }
,
{
		   "cell_type": "markdown",
		   "metadata": {},
		   "source": [
			"## Example 4.6: Problem6.sce"
		   ]
		  },
  {
"cell_type": "code",
	   "execution_count": null,
	   "metadata": {
	    "collapsed": true
	   },
	   "outputs": [],
"source": [
"Z1=complex(10,15)\n",
"Z2=complex(6,-8)\n",
"\n",
"I=complex(15,0)\n",
"I1=I*Z2/(Z1+Z2)\n",
"I2=I*Z1/(Z1+Z2)\n",
"phase=[atan(imag(I1)/real(I1));atan(imag(I2)/real(I2))]\n",
"disp(phase*180/%pi)\n",
"\n",
"V=I1*Z1\n",
"disp(180/%pi*atan(imag(V)/real(V)))"
   ]
   }
,
{
		   "cell_type": "markdown",
		   "metadata": {},
		   "source": [
			"## Example 4.7: Problem7.sce"
		   ]
		  },
  {
"cell_type": "code",
	   "execution_count": null,
	   "metadata": {
	    "collapsed": true
	   },
	   "outputs": [],
"source": [
"function [r,theta]=cart_to_polar(z)\n",
"    x=real(z)\n",
"    y=imag(z)\n",
"    r=norm(z)\n",
"    theta=atan(y/x)\n",
"endfunction\n",
"\n",
"function Zeq=parallel(Z1,Z2)\n",
"    Zeq=Z1*Z2/(Z1+Z2)\n",
"endfunction\n",
"\n",
"w=400\n",
"R=10\n",
"L=25E-3\n",
"C=250E-6\n",
"Xl=w*L*%i\n",
"Xc=1/(w*C*%i)\n",
"\n",
"////////////part a\n",
"Zin1=R+Xc\n",
"[r1,theta1]=cart_to_polar(Zin1)\n",
"disp(theta1*180/%pi,r1)\n",
"\n",
"////////////part b\n",
"//Zin2=10+parallel(Xc,Xl)   ///impedence is infinite...thus an error\n",
"//[r2,theta2]=cart_to_polar(Zin2)\n",
"disp(90,'   inf')\n",
"\n",
"\n",
"////////////part c\n",
"Zin3=R+parallel(Xc,Xl+10)\n",
"[r3,theta3]=cart_to_polar(Zin3)\n",
"disp(theta3*180/%pi,r3)"
   ]
   }
,
{
		   "cell_type": "markdown",
		   "metadata": {},
		   "source": [
			"## Example 4.8: Problem8.sce"
		   ]
		  },
  {
"cell_type": "code",
	   "execution_count": null,
	   "metadata": {
	    "collapsed": true
	   },
	   "outputs": [],
"source": [
"function [r,theta]=cart_to_polar(z)\n",
"    x=real(z)\n",
"    y=imag(z)\n",
"    r=norm(z)\n",
"    theta=atan(y/x)\n",
"endfunction\n",
"\n",
"function [x,y]=polar_to_cart(zpolar)\n",
"    r=real(zpolar)\n",
"    theta=imag(zpolar)/180*%pi\n",
"    x=r*cos(theta)\n",
"    y=r*sin(theta)\n",
"endfunction\n",
"\n",
"function Zeq=parallel(Z1,Z2)\n",
"    Zeq=Z1*Z2/(Z1+Z2)\n",
"endfunction\n",
"\n",
"R=200\n",
"L=0.5\n",
"C=50E-6\n",
"w=200\n",
"\n",
"Xl=w*L*%i\n",
"Xc=1/(w*C*%i)\n",
"\n",
"////////////////////////////part a\n",
"Ir=complex(0.02*cos(30*%pi/180),0.02*sin(30*%pi/180))\n",
"V=Ir*R\n",
"Il=V/Xl\n",
"Ic=V/Xc\n",
"I=Ir+Il+Ic\n",
"disp(I)\n",
"\n",
"////////////////////////////part b\n",
"[Ix,Iy]=polar_to_cart(complex(2,-40))\n",
"I=complex(Ix,Iy)\n",
"Zin=parallel(parallel(R,Xc),Xl)\n",
"V=Zin*I\n",
"Ir=V/R\n",
"disp(V,Ir)"
   ]
   }
,
{
		   "cell_type": "markdown",
		   "metadata": {},
		   "source": [
			"## Example 4.9: Problem9.sce"
		   ]
		  },
  {
"cell_type": "code",
	   "execution_count": null,
	   "metadata": {
	    "collapsed": true
	   },
	   "outputs": [],
"source": [
"p=poly([0,2,0,-8],'w','coeff')\n",
"w=roots(p)\n",
"disp(w(1))"
   ]
   }
],
"metadata": {
		  "kernelspec": {
		   "display_name": "Scilab",
		   "language": "scilab",
		   "name": "scilab"
		  },
		  "language_info": {
		   "file_extension": ".sce",
		   "help_links": [
			{
			 "text": "MetaKernel Magics",
			 "url": "https://github.com/calysto/metakernel/blob/master/metakernel/magics/README.md"
			}
		   ],
		   "mimetype": "text/x-octave",
		   "name": "scilab",
		   "version": "0.7.1"
		  }
		 },
		 "nbformat": 4,
		 "nbformat_minor": 0
}
