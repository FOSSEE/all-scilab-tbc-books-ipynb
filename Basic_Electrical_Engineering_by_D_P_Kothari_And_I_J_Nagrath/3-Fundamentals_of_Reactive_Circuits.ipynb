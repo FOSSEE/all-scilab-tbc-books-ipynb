{
"cells": [
 {
		   "cell_type": "markdown",
	   "metadata": {},
	   "source": [
       "# Chapter 3: Fundamentals of Reactive Circuits"
	   ]
	},
{
		   "cell_type": "markdown",
		   "metadata": {},
		   "source": [
			"## Example 3.11: Problem11.sce"
		   ]
		  },
  {
"cell_type": "code",
	   "execution_count": null,
	   "metadata": {
	    "collapsed": true
	   },
	   "outputs": [],
"source": [
"L=2\n",
"\n",
"VL_0minus=0 //steady state\n",
"disp(VL_0minus)\n",
"\n",
"i_0minus=1\n",
"i_0plus=i_0minus\n",
"VL_0plus=12-4*i_0plus\n",
"disp(VL_0plus)\n",
"\n",
"di_by_dt_0plus=VL_0plus/L\n",
"disp(di_by_dt_0plus)"
   ]
   }
,
{
		   "cell_type": "markdown",
		   "metadata": {},
		   "source": [
			"## Example 3.12: Problem12.sce"
		   ]
		  },
  {
"cell_type": "code",
	   "execution_count": null,
	   "metadata": {
	    "collapsed": true
	   },
	   "outputs": [],
"source": [
"Vc_0m=100\n",
"Vc_0p=Vc_0m\n",
"T=(400+100)*2E-6\n",
"i_0p=100/500\n",
"P_0p=i_0p^2*400\n",
"disp(P_0p)"
   ]
   }
,
{
		   "cell_type": "markdown",
		   "metadata": {},
		   "source": [
			"## Example 3.13: Problem13.sce"
		   ]
		  },
  {
"cell_type": "code",
	   "execution_count": null,
	   "metadata": {
	    "collapsed": true
	   },
	   "outputs": [],
"source": [
"Vc_0m=10\n",
"Vc_0p=Vc_0m\n",
"disp(Vc_0p)\n",
"\n",
"//KVL\n",
"i1_0p=(10-Vc_0p)/20\n",
"i2_0p=Vc_0p/20\n",
"\n",
"//KCL\n",
"iC_0p=i1_0p-i2_0p\n",
"disp(iC_0p)\n",
"iC_inf=0 //capacitor is open circuit\n",
"disp(iC_inf)\n",
"VC_inf=10*20/(20+20)\n",
"disp(VC_inf)"
   ]
   }
,
{
		   "cell_type": "markdown",
		   "metadata": {},
		   "source": [
			"## Example 3.16: Problem16.sce"
		   ]
		  },
  {
"cell_type": "code",
	   "execution_count": null,
	   "metadata": {
	    "collapsed": true
	   },
	   "outputs": [],
"source": [
"L=0.25\n",
"R=250\n",
"V=10\n",
"T=L/R\n",
"\n",
"t=0.5E-3\n",
"i=V/R*(1-exp(-t/T))\n",
"disp(i)\n",
"\n",
"t=2E-3\n",
"i=V/R*((exp((1E-3-t)/T)-exp(-t/T)))\n",
"disp(i)"
   ]
   }
,
{
		   "cell_type": "markdown",
		   "metadata": {},
		   "source": [
			"## Example 3.18: Problem18.sce"
		   ]
		  },
  {
"cell_type": "code",
	   "execution_count": null,
	   "metadata": {
	    "collapsed": true
	   },
	   "outputs": [],
"source": [
"R=5000\n",
"C=1.0E-6\n",
"Ie=1/1000\n",
"Vcf=Ie*R\n",
"T=R*C\n",
"\n",
"t=10/1000\n",
"Vc10=Vcf*(1-exp(-t/T))\n",
"disp(Vc10)\n",
"\n",
"t=20/1000\n",
"Vc20=Vcf*(1-exp(-t/T))-Vc10\n",
"disp(Vc20)"
   ]
   }
,
{
		   "cell_type": "markdown",
		   "metadata": {},
		   "source": [
			"## Example 3.1: Problem1.sce"
		   ]
		  },
  {
"cell_type": "code",
	   "execution_count": null,
	   "metadata": {
	    "collapsed": true
	   },
	   "outputs": [],
"source": [
"function C=seriesC(C1,C2)\n",
"    C=C1*C2/(C1+C2)\n",
"endfunction\n",
"\n",
"Ceq1=10+seriesC(10,10)\n",
"Ceq2=Ceq1\n",
"\n",
"Ceq=seriesC(seriesC(Ceq1,Ceq2),10)\n",
"disp(Ceq)"
   ]
   }
,
{
		   "cell_type": "markdown",
		   "metadata": {},
		   "source": [
			"## Example 3.21: Problem21.sce"
		   ]
		  },
  {
"cell_type": "code",
	   "execution_count": null,
	   "metadata": {
	    "collapsed": true
	   },
	   "outputs": [],
"source": [
"//Replace curr source by voltage source\n",
"Ics=1/1000\n",
"R=100*1000\n",
"V=Ics*R\n",
"\n",
"Vc_0m=25/(25+100)*V\n",
"disp(Vc_0m)\n",
"\n",
"Vc_0p=Vc_0m\n",
"disp(Vc_0p)\n",
"\n",
"Vc_inf=(V-10)*25/(100+25)\n",
"disp(Vc_inf)"
   ]
   }
,
{
		   "cell_type": "markdown",
		   "metadata": {},
		   "source": [
			"## Example 3.22: Problem22.sce"
		   ]
		  },
  {
"cell_type": "code",
	   "execution_count": null,
	   "metadata": {
	    "collapsed": true
	   },
	   "outputs": [],
"source": [
"L=20/1000\n",
"VR2_0p=10\n",
"VR2_inf=0\n",
"VR2_1=5\n",
"\n",
"t=1/1000\n",
"T=-t/log((VR2_1-VR2_inf)/(VR2_0p-VR2_inf))\n",
"\n",
"R2=L/T\n",
"R1=1/(2/VR2_0p-1/R2)\n",
"\n",
"disp(R2,R1)"
   ]
   }
,
{
		   "cell_type": "markdown",
		   "metadata": {},
		   "source": [
			"## Example 3.24: Problem24.sce"
		   ]
		  },
  {
"cell_type": "code",
	   "execution_count": null,
	   "metadata": {
	    "collapsed": true
	   },
	   "outputs": [],
"source": [
"C=1/4\n",
"Vc_0m=12/(12+6)*12\n",
"Vc_0p=8\n",
"disp(Vc_0p)\n",
"t=0\n",
"V_0p=6*cos(t)\n",
"//at t=0+\n",
"Vth=12/(12+6)*6\n",
"Rth=6*12/(6+12)\n",
"ic_0p=(Vth-8)/Rth\n",
"disp(ic_0p)\n",
"d_by_dt_Vc_0p=ic_0p/C\n",
"disp(d_by_dt_Vc_0p)"
   ]
   }
,
{
		   "cell_type": "markdown",
		   "metadata": {},
		   "source": [
			"## Example 3.26: Problem26.sce"
		   ]
		  },
  {
"cell_type": "code",
	   "execution_count": null,
	   "metadata": {
	    "collapsed": true
	   },
	   "outputs": [],
"source": [
"//at t=0-\n",
"iL=4\n",
"v=0\n",
"disp(v,iL)\n",
"\n",
"//at t=0+\n",
"iL=4\n",
"v=-4*20\n",
"disp(v,iL)"
   ]
   }
,
{
		   "cell_type": "markdown",
		   "metadata": {},
		   "source": [
			"## Example 3.27: Problem27.sce"
		   ]
		  },
  {
"cell_type": "code",
	   "execution_count": null,
	   "metadata": {
	    "collapsed": true
	   },
	   "outputs": [],
"source": [
"function p=parallel(r1,r2)\n",
"    p=r1*r2/(r1+r2)\n",
"endfunction\n",
"\n",
"L=25/1000\n",
"\n",
"//at t=0-\n",
"R1=parallel(150,75)\n",
"iL_0m=30/2\n",
"disp(iL_0m)\n",
"\n",
"R2=parallel(150,50)\n",
"ix_0m=R2/(R2+75)*30\n",
"disp(ix_0m)\n",
"\n",
"\n",
"//at t=0+\n",
"iL_0p=iL_0m\n",
"\n",
"T=L/(75+50)\n",
"iL_inf=0\n",
"\n",
"//at t=0.2ms\n",
"t=0.2E-3\n",
"\n",
"iL=iL_inf+(iL_0p-iL_inf)*exp(-t/T)\n",
"ix=-iL\n",
"disp(ix,iL)"
   ]
   }
,
{
		   "cell_type": "markdown",
		   "metadata": {},
		   "source": [
			"## Example 3.29: Problem29.sce"
		   ]
		  },
  {
"cell_type": "code",
	   "execution_count": null,
	   "metadata": {
	    "collapsed": true
	   },
	   "outputs": [],
"source": [
"R=250\n",
"C=25E-3\n",
"\n",
"//at t=0-\n",
"v_0m=200*0.2\n",
"\n",
"//at t=0+\n",
"v_0p=v_0m\n",
"\n",
"T=R*C\n",
"v_inf=0\n",
"\n",
"//at t=0.2ms\n",
"t=0.2E-3\n",
"\n",
"t=T*log((v_0p-v_inf)/(20-v_inf))\n",
"disp(t)"
   ]
   }
,
{
		   "cell_type": "markdown",
		   "metadata": {},
		   "source": [
			"## Example 3.2: Problem2.sce"
		   ]
		  },
  {
"cell_type": "code",
	   "execution_count": null,
	   "metadata": {
	    "collapsed": true
	   },
	   "outputs": [],
"source": [
"function p=parallel(r1,r2)\n",
"    p=r1*r2/(r1+r2)\n",
"endfunction\n",
"\n",
"Leq=1+parallel(2,2)+parallel(parallel(3,3),3)\n",
"\n",
"disp(Leq)"
   ]
   }
,
{
		   "cell_type": "markdown",
		   "metadata": {},
		   "source": [
			"## Example 3.32: Problem32.sce"
		   ]
		  },
  {
"cell_type": "code",
	   "execution_count": null,
	   "metadata": {
	    "collapsed": true
	   },
	   "outputs": [],
"source": [
"L=0.2\n",
"R=50+30\n",
"\n",
"iL_0m=100/50\n",
"iL_0p=iL_0m\n",
"iL_inf=0\n",
"T=L/R\n",
"\n",
"t=10/1000\n",
"iL_10=iL_0p*exp(-t/T)\n",
"disp(iL_10)\n",
"\n",
"t1=-T*log(0.5*iL_0p/(iL_0p))\n",
"disp(t1)"
   ]
   }
,
{
		   "cell_type": "markdown",
		   "metadata": {},
		   "source": [
			"## Example 3.33: Problem33.sce"
		   ]
		  },
  {
"cell_type": "code",
	   "execution_count": null,
	   "metadata": {
	    "collapsed": true
	   },
	   "outputs": [],
"source": [
"R=5\n",
"L=2\n",
"V=10\n",
"T=L/R\n",
"\n",
"iL_m=V/R\n",
"disp(iL_m)\n",
"iL_0p=iL_m\n",
"iL_inf=2+V/R\n",
"\n",
"//function I=iL(t)\n",
"//    I=iL_inf+(iL_0p-iL_inf)*exp(-t/T)\n",
"//endfunction\n",
"\n",
"//disp(iL(0.5))\n",
"//disp(iL(1.5))\n",
"\n",
"t=0.5\n",
"I=iL_inf+(iL_0p-iL_inf)*exp(-t/T)\n",
"disp(I)\n",
"\n",
"t=1.5\n",
"I=iL_inf+(iL_0p-iL_inf)*exp(-t/T)\n",
"disp(I)"
   ]
   }
,
{
		   "cell_type": "markdown",
		   "metadata": {},
		   "source": [
			"## Example 3.36: Problem36.sce"
		   ]
		  },
  {
"cell_type": "code",
	   "execution_count": null,
	   "metadata": {
	    "collapsed": true
	   },
	   "outputs": [],
"source": [
"L=4/1000\n",
"R=1000\n",
"V=9\n",
"\n",
"iL_0m=V/(2*R)\n",
"iL_0p=iL_0m\n",
"iL_inf=0\n",
"isw_inf=V/R\n",
"T=L/R\n",
"\n",
"t=5E-6\n",
"\n",
"iL_5=iL_0p*exp(-t/T)\n",
"disp(iL_5)\n",
"\n",
"isw_5=isw_inf*(1-exp(-t/T))\n",
"disp(isw_5)"
   ]
   }
,
{
		   "cell_type": "markdown",
		   "metadata": {},
		   "source": [
			"## Example 3.37_38: Problem37_and_38.sce"
		   ]
		  },
  {
"cell_type": "code",
	   "execution_count": null,
	   "metadata": {
	    "collapsed": true
	   },
	   "outputs": [],
"source": [
"R=20\n",
"L=2\n",
"C=1/25\n",
"\n",
"//at t=0-\n",
"iR=-4\n",
"iL=4\n",
"iC=0\n",
"vR=-R*4\n",
"vC=-vR\n",
"vL=0\n",
"\n",
"disp(iR,iL,iC,vR,vL,vC)\n",
"\n",
"//at t=0+\n",
"iL=iL\n",
"vC=vC\n",
"iR=5-4  //KCL at node 1\n",
"vR=R*iR\n",
"iC=4+iR  //KCL at node 2\n",
"vL=vC+vR  //KVL inner mesh\n",
"\n",
"disp(iR,iL,iC,vR,vL,vC)\n",
"\n",
"\n",
"//at t=0+ derivatives are\n",
"DiL=vL/L\n",
"DvC=iC/C\n",
"DiR=-DiL        //Differentiating KCL at node 1\n",
"DiC=DiR         //Differentiating KCL at node 2\n",
"DvR=R*DiR\n",
"DvL=DvR+DvC        //Differentiating KVL inner mesh\n",
"\n",
"disp(DiR,DiL,DiC,DvR,DvL,DvC)"
   ]
   }
,
{
		   "cell_type": "markdown",
		   "metadata": {},
		   "source": [
			"## Example 3.3: Problem3.sce"
		   ]
		  },
  {
"cell_type": "code",
	   "execution_count": null,
	   "metadata": {
	    "collapsed": true
	   },
	   "outputs": [],
"source": [
"function C=seriesC(C1,C2)\n",
"    C=C1*C2/(C1+C2)\n",
"endfunction\n",
"\n",
"V=100\n",
"\n",
"Cp=1+2\n",
"Ceq=seriesC(Cp,6)\n",
"q=Ceq*V\n",
"\n",
"q1=q*(1/(1+2))\n",
"q2=q-q1\n",
"\n",
"disp(q2,q1,q)\n",
"\n",
"E6=q*q/2/6/1000\n",
"E1=q1*q1/2/1/1000\n",
"E2=q2*q2/2/2/1000\n",
"Enet=E1+E2+E6\n",
"\n",
"disp(Enet,E6,E2,E1)"
   ]
   }
,
{
		   "cell_type": "markdown",
		   "metadata": {},
		   "source": [
			"## Example 3.4: Problem4.sce"
		   ]
		  },
  {
"cell_type": "code",
	   "execution_count": null,
	   "metadata": {
	    "collapsed": true
	   },
	   "outputs": [],
"source": [
"L=poly([3,-4,1],'L','coeff')\n",
"disp(roots(L))"
   ]
   }
,
{
		   "cell_type": "markdown",
		   "metadata": {},
		   "source": [
			"## Example 3.5: Problem5.sce"
		   ]
		  },
  {
"cell_type": "code",
	   "execution_count": null,
	   "metadata": {
	    "collapsed": true
	   },
	   "outputs": [],
"source": [
"function C=seriesC(C1,C2)\n",
"    C=C1*C2/(C1+C2)\n",
"endfunction\n",
"\n",
"Ceq=1+seriesC(6,3)\n",
"\n",
"disp(Ceq)"
   ]
   }
,
{
		   "cell_type": "markdown",
		   "metadata": {},
		   "source": [
			"## Example 3.6: Problem6.sce"
		   ]
		  },
  {
"cell_type": "code",
	   "execution_count": null,
	   "metadata": {
	    "collapsed": true
	   },
	   "outputs": [],
"source": [
"function p=parallel(r1,r2)\n",
"    p=r1*r2/(r1+r2)\n",
"endfunction\n",
"\n",
"Lbc=parallel(1/10,1/20)\n",
"Leq=1/50+Lbc\n",
"disp(Leq)\n",
"\n",
"Vbc=Lbc*150\n",
"disp(Vbc)"
   ]
   }
,
{
		   "cell_type": "markdown",
		   "metadata": {},
		   "source": [
			"## Example 3.7: Problem7.sce"
		   ]
		  },
  {
"cell_type": "code",
	   "execution_count": null,
	   "metadata": {
	    "collapsed": true
	   },
	   "outputs": [],
"source": [
"function C=seriesC(C1,C2)\n",
"    C=C1*C2/(C1+C2)\n",
"endfunction\n",
"\n",
"Ceq=seriesC(seriesC(10,20),40)\n",
"disp(Ceq)\n",
"\n",
"q=Ceq*280\n",
"disp(q)\n",
"\n",
"V1=q/10\n",
"V2=q/20\n",
"V3=q/40\n",
"\n",
"disp(V3,V2,V1)"
   ]
   }
,
{
		   "cell_type": "markdown",
		   "metadata": {},
		   "source": [
			"## Example 3.8: Problem8.sce"
		   ]
		  },
  {
"cell_type": "code",
	   "execution_count": null,
	   "metadata": {
	    "collapsed": true
	   },
	   "outputs": [],
"source": [
"Ceq=10+20+40\n",
"Q=200*[10,20,40]\n",
"\n",
"disp(Q)\n",
"Qnet=Q(1)+Q(2)+Q(3)\n",
"disp(Qnet)"
   ]
   }
,
{
		   "cell_type": "markdown",
		   "metadata": {},
		   "source": [
			"## Example 3.9: Problem9.sce"
		   ]
		  },
  {
"cell_type": "code",
	   "execution_count": null,
	   "metadata": {
	    "collapsed": true
	   },
	   "outputs": [],
"source": [
"//deactivate all independent sources\n",
"\n",
"function p=parallel(r1,r2)\n",
"    p=r1*r2/(r1+r2)\n",
"endfunction\n",
"\n",
"L=2\n",
"Req=parallel(6,12)+4\n",
"T1=L/Req\n",
"disp(T1)\n",
"\n",
"C=1/2\n",
"Req=2+parallel(6,12)+2\n",
"T2=Req*C\n",
"disp(T2)"
   ]
   }
],
"metadata": {
		  "kernelspec": {
		   "display_name": "Scilab",
		   "language": "scilab",
		   "name": "scilab"
		  },
		  "language_info": {
		   "file_extension": ".sce",
		   "help_links": [
			{
			 "text": "MetaKernel Magics",
			 "url": "https://github.com/calysto/metakernel/blob/master/metakernel/magics/README.md"
			}
		   ],
		   "mimetype": "text/x-octave",
		   "name": "scilab",
		   "version": "0.7.1"
		  }
		 },
		 "nbformat": 4,
		 "nbformat_minor": 0
}
