{
"cells": [
 {
		   "cell_type": "markdown",
	   "metadata": {},
	   "source": [
       "# Chapter 9: EMF and Torque in Electric Machines"
	   ]
	},
{
		   "cell_type": "markdown",
		   "metadata": {},
		   "source": [
			"## Example 9.10: Problem10.sce"
		   ]
		  },
  {
"cell_type": "code",
	   "execution_count": null,
	   "metadata": {
	    "collapsed": true
	   },
	   "outputs": [],
"source": [
"f=50\n",
"ns=1000\n",
"P=120*f/ns\n",
"disp(P)\n",
"s=(ns-940)/ns\n",
"disp(s*100)\n",
"nrr=ns-940\n",
"disp(nrr)\n",
"nrs=1000\n",
"disp(nrs)\n",
"s=2*s\n",
"n=1000*(1-s)\n",
"disp(n)"
   ]
   }
,
{
		   "cell_type": "markdown",
		   "metadata": {},
		   "source": [
			"## Example 9.11: Problem11.sce"
		   ]
		  },
  {
"cell_type": "code",
	   "execution_count": null,
	   "metadata": {
	    "collapsed": true
	   },
	   "outputs": [],
"source": [
"ns=1000\n",
"s=(ns-940)/ns\n",
"news=2*s\n",
"n=1000*(1-news)\n",
"disp(n)"
   ]
   }
,
{
		   "cell_type": "markdown",
		   "metadata": {},
		   "source": [
			"## Example 9.12: Problem12.sce"
		   ]
		  },
  {
"cell_type": "code",
	   "execution_count": null,
	   "metadata": {
	    "collapsed": true
	   },
	   "outputs": [],
"source": [
"P=8\n",
"f1=60\n",
"f2=50\n",
"If1=5\n",
"If2=f1/f2*If1\n",
"disp(If2)\n",
"nA2=120*f2/P\n",
"disp(nA2)"
   ]
   }
,
{
		   "cell_type": "markdown",
		   "metadata": {},
		   "source": [
			"## Example 9.13: Problem13.sce"
		   ]
		  },
  {
"cell_type": "code",
	   "execution_count": null,
	   "metadata": {
	    "collapsed": true
	   },
	   "outputs": [],
"source": [
"f1=60\n",
"f2=50\n",
"P1=12\n",
"P2=f2/f1*P1\n",
"disp(P2)\n",
"nset=120*f1/P1\n",
"disp(nset)"
   ]
   }
,
{
		   "cell_type": "markdown",
		   "metadata": {},
		   "source": [
			"## Example 9.14: Problem14.sce"
		   ]
		  },
  {
"cell_type": "code",
	   "execution_count": null,
	   "metadata": {
	    "collapsed": true
	   },
	   "outputs": [],
"source": [
"m=6\n",
"gammaa=%pi/m\n",
"Kb=sin(m*gammaa/2)/m/sin(gammaa/2)\n",
"\n",
"m=4\n",
"Kb=sin(m*gammaa/2)/m/sin(gammaa/2)"
   ]
   }
,
{
		   "cell_type": "markdown",
		   "metadata": {},
		   "source": [
			"## Example 9.15: Problem15.sce"
		   ]
		  },
  {
"cell_type": "code",
	   "execution_count": null,
	   "metadata": {
	    "collapsed": true
	   },
	   "outputs": [],
"source": [
"\n",
"f=50\n",
"n=965\n",
"P=floor(120*f/n)\n",
"disp(P)\n",
"\n",
"s=(1000-965)/1000\n",
"disp(s)\n",
"f2=s*f\n",
"disp(f2)\n",
"\n",
"nsr=1000-965\n",
"disp(nsr)\n",
"nrr=120*f2/P\n",
"nsrf=1000-965-nrr\n",
"disp(nsrf)"
   ]
   }
,
{
		   "cell_type": "markdown",
		   "metadata": {},
		   "source": [
			"## Example 9.16: Problem16.sce"
		   ]
		  },
  {
"cell_type": "code",
	   "execution_count": null,
	   "metadata": {
	    "collapsed": true
	   },
	   "outputs": [],
"source": [
"f=50\n",
"P=4\n",
"a=2\n",
"\n",
"ns=120*f/P\n",
"n=1440\n",
"s=1-n/ns\n",
"disp(s)\n",
"f2=s*f\n",
"disp(f2)\n",
"E1p=400\n",
"E2f=400/a\n",
"E2f2=E2f*f2/f\n",
"E2l=sqrt(3)*E2f2\n",
"disp(E2l)"
   ]
   }
,
{
		   "cell_type": "markdown",
		   "metadata": {},
		   "source": [
			"## Example 9.1: Problem1.sce"
		   ]
		  },
  {
"cell_type": "code",
	   "execution_count": null,
	   "metadata": {
	    "collapsed": true
	   },
	   "outputs": [],
"source": [
"f=50\n",
"flux=0.016\n",
"S=36\n",
"P=6\n",
"N=10\n",
"\n",
"\n",
"m=S/P\n",
"gammaa=%pi/m\n",
"Kb=sin(m*gammaa/2)/m/sin(gammaa/2)\n",
"Nph=S*N*2/2\n",
"Ep=4.44*Kb*f*Nph*flux\n",
"kVA=Ep*N/1000\n",
"disp(kVA)\n",
"\n",
"m=S/2/P\n",
"gammaa=%pi/2/m\n",
"Kb=sin(m*gammaa/2)/m/sin(gammaa/2)\n",
"Nph=S*N*2/2/2\n",
"Ep=4.44*Kb*f*Nph*flux\n",
"Eline=Ep*sqrt(2)\n",
"kVA=Ep*N*2/1000\n",
"disp(kVA)\n",
"\n",
"m=S/3/P\n",
"gammaa=%pi/3/m\n",
"Kb=sin(m*gammaa/2)/m/sin(gammaa/2)\n",
"Nph=S*N*2/2/3\n",
"Ep=4.44*Kb*f*Nph*flux\n",
"Eline=Ep*sqrt(3)\n",
"kVA=Ep*N*3/1000\n",
"disp(kVA)"
   ]
   }
,
{
		   "cell_type": "markdown",
		   "metadata": {},
		   "source": [
			"## Example 9.2: Problem2.sce"
		   ]
		  },
  {
"cell_type": "code",
	   "execution_count": null,
	   "metadata": {
	    "collapsed": true
	   },
	   "outputs": [],
"source": [
"S=54\n",
"P=6\n",
"m=S/3/P\n",
"gammaa=%pi/3/m\n",
"\n",
"Kb1=sin(m*gammaa/2)/m/sin(gammaa/2)\n",
"Kb3=sin(m*gammaa/2*3)/m/sin(gammaa/2*3)\n",
"Kb5=sin(m*gammaa/2*5)/m/sin(gammaa/2*5)\n",
"\n",
"disp(Kb1)\n",
"disp(Kb3)\n",
"disp(Kb5)"
   ]
   }
,
{
		   "cell_type": "markdown",
		   "metadata": {},
		   "source": [
			"## Example 9.3: Problem3.sce"
		   ]
		  },
  {
"cell_type": "code",
	   "execution_count": null,
	   "metadata": {
	    "collapsed": true
	   },
	   "outputs": [],
"source": [
"f=50\n",
"n=500\n",
"m=5\n",
"N=12\n",
"flux=0.025\n",
"\n",
"P=120*f/n\n",
"S=m*3*P\n",
"Nph=S*N*2/2/3\n",
"gammaa=%pi/3/m\n",
"Kb=sin(m*gammaa/2)/m/sin(gammaa/2)\n",
"polepitch=S/N\n",
"coilpitch=13\n",
"spa=(polepitch-coilpitch)*gammaa\n",
"Kp=cos(spa/2)\n",
"\n",
"Ep=4.44*Kb*Kp*f*Nph*flux\n",
"disp(Ep)\n",
"Eline=sqrt(3)*Ep\n",
"disp(Eline)"
   ]
   }
,
{
		   "cell_type": "markdown",
		   "metadata": {},
		   "source": [
			"## Example 9.4: Problem4.sce"
		   ]
		  },
  {
"cell_type": "code",
	   "execution_count": null,
	   "metadata": {
	    "collapsed": true
	   },
	   "outputs": [],
"source": [
"f=50\n",
"P=6\n",
"ns=120*f/P\n",
"disp(ns)\n",
"wm=2*%pi/60*ns\n",
"disp(wm)"
   ]
   }
,
{
		   "cell_type": "markdown",
		   "metadata": {},
		   "source": [
			"## Example 9.5: Problem5.sce"
		   ]
		  },
  {
"cell_type": "code",
	   "execution_count": null,
	   "metadata": {
	    "collapsed": true
	   },
	   "outputs": [],
"source": [
"F2=850\n",
"F1=400\n",
"lambda=123.6/180*%pi\n",
"ppp=1.408/1000\n",
"\n",
"theta=%pi-lambda\n",
"Fr=sqrt(F1*F1+F2*F2-2*F1*F2*cos(theta))\n",
"\n",
"fluxr=2/%pi*ppp*Fr\n",
"disp(fluxr)"
   ]
   }
,
{
		   "cell_type": "markdown",
		   "metadata": {},
		   "source": [
			"## Example 9.6: Problem6.sce"
		   ]
		  },
  {
"cell_type": "code",
	   "execution_count": null,
	   "metadata": {
	    "collapsed": true
	   },
	   "outputs": [],
"source": [
"\n",
"P=6\n",
"N=1000\n",
"\n",
"f=P*N/120\n",
"ns=120*f/4\n",
"s=0.04\n",
"n=(1-s)*ns\n",
"disp(n)"
   ]
   }
,
{
		   "cell_type": "markdown",
		   "metadata": {},
		   "source": [
			"## Example 9.7: Problem7.sce"
		   ]
		  },
  {
"cell_type": "code",
	   "execution_count": null,
	   "metadata": {
	    "collapsed": true
	   },
	   "outputs": [],
"source": [
"\n",
"P=4\n",
"f=50\n",
"\n",
"\n",
"ns=120*f/P\n",
"n1=-1500\n",
"s1=(ns-n1)/ns\n",
"f2=s1*f\n",
"SRV=s1*80\n",
"disp(f2,SRV)\n",
"\n",
"n2=1000\n",
"s2=(ns-n2)/ns\n",
"f2=s2*f\n",
"SRV=s2*80\n",
"disp(f2,SRV)"
   ]
   }
,
{
		   "cell_type": "markdown",
		   "metadata": {},
		   "source": [
			"## Example 9.8: Problem8.sce"
		   ]
		  },
  {
"cell_type": "code",
	   "execution_count": null,
	   "metadata": {
	    "collapsed": true
	   },
	   "outputs": [],
"source": [
"\n",
"betaa=acos(0)*2/5\n",
"coilpitch=%pi-betaa\n",
"disp(coilpitch/%pi*180)\n",
"\n",
"P=6\n",
"S=72\n",
"m=S/P\n",
"gammaa=%pi/m\n",
"cpis=150/180*%pi\n",
"betaa=%pi-cpis\n",
"Kp1=cos(betaa/2)\n",
"Kp3=cos(5*betaa/2)\n",
"Kp13=cos(13*betaa/2)\n",
"disp(Kp1)\n",
"disp(Kp3)\n",
"disp(Kp13)"
   ]
   }
,
{
		   "cell_type": "markdown",
		   "metadata": {},
		   "source": [
			"## Example 9.9: Problem9.sce"
		   ]
		  },
  {
"cell_type": "code",
	   "execution_count": null,
	   "metadata": {
	    "collapsed": true
	   },
	   "outputs": [],
"source": [
"\n",
"P=2\n",
"f=50\n",
"S=42\n",
"m=S/3/P\n",
"gammaa=%pi/3/m\n",
"Kb=sin(m*gammaa/2)/m/sin(gammaa/2)\n",
"coilpitch=17\n",
"polepitch=S/2\n",
"spa=(polepitch-coilpitch)*gammaa\n",
"Kp=cos(spa/2)\n",
"\n",
"N=S*2\n",
"Nc=N/2\n",
"Coilsperphase=Nc/3\n",
"Nph=Coilsperphase/2\n",
"Eline=2300\n",
"flux=Eline/sqrt(3)/4.44/Kb/Kp/f/Nph\n",
"disp(flux)"
   ]
   }
],
"metadata": {
		  "kernelspec": {
		   "display_name": "Scilab",
		   "language": "scilab",
		   "name": "scilab"
		  },
		  "language_info": {
		   "file_extension": ".sce",
		   "help_links": [
			{
			 "text": "MetaKernel Magics",
			 "url": "https://github.com/calysto/metakernel/blob/master/metakernel/magics/README.md"
			}
		   ],
		   "mimetype": "text/x-octave",
		   "name": "scilab",
		   "version": "0.7.1"
		  }
		 },
		 "nbformat": 4,
		 "nbformat_minor": 0
}
