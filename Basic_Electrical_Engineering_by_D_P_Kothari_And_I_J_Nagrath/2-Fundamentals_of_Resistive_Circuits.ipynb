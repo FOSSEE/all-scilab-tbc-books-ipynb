{
"cells": [
 {
		   "cell_type": "markdown",
	   "metadata": {},
	   "source": [
       "# Chapter 2: Fundamentals of Resistive Circuits"
	   ]
	},
{
		   "cell_type": "markdown",
		   "metadata": {},
		   "source": [
			"## Example 2.10: Problem10.sce"
		   ]
		  },
  {
"cell_type": "code",
	   "execution_count": null,
	   "metadata": {
	    "collapsed": true
	   },
	   "outputs": [],
"source": [
"//converting 9v voltage source to current source\n",
"I=9/0.45\n",
"I=I-7\n",
"\n",
"//KCLs\n",
"A=[1/0.45+1/10,-1/10 ; 0.2-1/10,1/10-0.2]\n",
"V=inv(A)*[-18;5]\n",
"\n",
"disp(V(2))"
   ]
   }
,
{
		   "cell_type": "markdown",
		   "metadata": {},
		   "source": [
			"## Example 2.11: Problem11.sce"
		   ]
		  },
  {
"cell_type": "code",
	   "execution_count": null,
	   "metadata": {
	    "collapsed": true
	   },
	   "outputs": [],
"source": [
"//converting voltage source to current source\n",
"\n",
"I=240/3\n",
"\n",
"//KCLs\n",
"\n",
"A=[1/3+1/6,-1/6;-1/6,1/6+1/12+1/30]\n",
"V=inv(A)*[70;5]\n",
"Vx=V(1)\n",
"Vy=V(2)-60\n",
"\n",
"V6=V(2)-V(1)\n",
"P6=V6*V6/6\n",
"\n",
"disp(P6)"
   ]
   }
,
{
		   "cell_type": "markdown",
		   "metadata": {},
		   "source": [
			"## Example 2.13: Problem13.sce"
		   ]
		  },
  {
"cell_type": "code",
	   "execution_count": null,
	   "metadata": {
	    "collapsed": true
	   },
	   "outputs": [],
"source": [
"// KVLs\n",
"\n",
"A=[24,-6,-8;-6,20,-5;-8,-5,25]\n",
"I=inv(A)*[16;0;0]\n",
"I5=I(2)-I(3)\n",
"disp(I5)"
   ]
   }
,
{
		   "cell_type": "markdown",
		   "metadata": {},
		   "source": [
			"## Example 2.14: Problem14.sce"
		   ]
		  },
  {
"cell_type": "code",
	   "execution_count": null,
	   "metadata": {
	    "collapsed": true
	   },
	   "outputs": [],
"source": [
"//convert practical current source to voltage source\n",
"V=10*5\n",
"\n",
"//KVLs\n",
"A=[35,-20;-20,50]\n",
"I=inv(A)*[50;-100]\n",
"\n",
"v=20*(I(1)-I(2))\n",
"disp(v)"
   ]
   }
,
{
		   "cell_type": "markdown",
		   "metadata": {},
		   "source": [
			"## Example 2.15: Problem15.sce"
		   ]
		  },
  {
"cell_type": "code",
	   "execution_count": null,
	   "metadata": {
	    "collapsed": true
	   },
	   "outputs": [],
"source": [
"i1=0.37\n",
"//KVL for loop 2\n",
"i2=(-100+20*i1)/50\n",
"//KVL for loop 1\n",
"R=(50+20*(i2-i1))/i1\n",
"disp(R)"
   ]
   }
,
{
		   "cell_type": "markdown",
		   "metadata": {},
		   "source": [
			"## Example 2.16: Problem16.sce"
		   ]
		  },
  {
"cell_type": "code",
	   "execution_count": null,
	   "metadata": {
	    "collapsed": true
	   },
	   "outputs": [],
"source": [
"//Converting current sources to voltage sources\n",
"// O=[i1;i2;vx]\n",
"\n",
"A=[10,-3,4;-3,7,0;3,-3,-1]\n",
"O=inv(A)*[16;-6;0]\n",
"\n",
"disp(O)"
   ]
   }
,
{
		   "cell_type": "markdown",
		   "metadata": {},
		   "source": [
			"## Example 2.17: Problem17.sce"
		   ]
		  },
  {
"cell_type": "code",
	   "execution_count": null,
	   "metadata": {
	    "collapsed": true
	   },
	   "outputs": [],
"source": [
"//convert current sources to voltage\n",
"\n",
"A=[95,-15;-15,135]\n",
"I=inv(A)*[20;-70]\n",
"\n",
"i3=I(1)-I(2)\n",
"\n",
"I60=0.5-I(1)\n",
"V60=I60*60\n",
"P1= 0.5*V60         //O.5 A source\n",
"\n",
"I80=1+I(2)\n",
"V80=I80*80\n",
"P2=1*V80\n",
"\n",
"disp(P2,P1)"
   ]
   }
,
{
		   "cell_type": "markdown",
		   "metadata": {},
		   "source": [
			"## Example 2.18: Problem18.sce"
		   ]
		  },
  {
"cell_type": "code",
	   "execution_count": null,
	   "metadata": {
	    "collapsed": true
	   },
	   "outputs": [],
"source": [
"//Nodal Equations\n",
"\n",
"A=[0.6,-0.5;2,-1.6]\n",
"V=inv(A)*[4;0]\n",
"V12=V(1)-V(2)\n",
"disp(V12)"
   ]
   }
,
{
		   "cell_type": "markdown",
		   "metadata": {},
		   "source": [
			"## Example 2.19: Problem19.sce"
		   ]
		  },
  {
"cell_type": "code",
	   "execution_count": null,
	   "metadata": {
	    "collapsed": true
	   },
	   "outputs": [],
"source": [
"//convert dependent current source to dependent voltage source\n",
"\n",
"//Mesh Equations\n",
"A=[14,-2,0;-2,18,3;2,-2,-1]\n",
"O=inv(A)*[100;0;0]\n",
"\n",
"disp(O(3))"
   ]
   }
,
{
		   "cell_type": "markdown",
		   "metadata": {},
		   "source": [
			"## Example 2.1: Problem1.sce"
		   ]
		  },
  {
"cell_type": "code",
	   "execution_count": null,
	   "metadata": {
	    "collapsed": true
	   },
	   "outputs": [],
"source": [
"function s=series(r1,r2)\n",
"    s=r1+r2\n",
"endfunction\n",
"\n",
"function p=parallel(r1,r2)\n",
"    p=r1*r2/(r1+r2)\n",
"endfunction\n",
"\n",
"r1=series(12,8)\n",
"r2=parallel(20,r1)\n",
"r3=series(r2,50)\n",
"r4=parallel(30,r3)\n",
"r5=series(10,r4)\n",
"r6=series(r5,20)\n",
"Req_ab=parallel(r5,40)\n",
"disp(Req_ab)\n",
"\n",
"r7=40+20+10  //series\n",
"Req_bc=parallel(r4,r7)\n",
"disp(Req_bc)"
   ]
   }
,
{
		   "cell_type": "markdown",
		   "metadata": {},
		   "source": [
			"## Example 2.20: Problem20.sce"
		   ]
		  },
  {
"cell_type": "code",
	   "execution_count": null,
	   "metadata": {
	    "collapsed": true
	   },
	   "outputs": [],
"source": [
"///////////////////Part 1\n",
"\n",
"//Nodal Method\n",
"v1=(8/5+16/10)/(1/5+1/2+1/10)\n",
"disp(v1)\n",
"i5=(8-v1)/5000\n",
"disp(i5)\n",
"\n",
"\n",
"//////////////////Part2\n",
"\n",
"//Mesh Method\n",
"\n",
"A=[7,-2;-2,12]\n",
"I=inv(A)*[8;-16]/1000\n",
"disp(I)\n",
"\n",
"v1=2*1000*(I(1)-I(2))\n",
"disp(v1)"
   ]
   }
,
{
		   "cell_type": "markdown",
		   "metadata": {},
		   "source": [
			"## Example 2.21: Problem21.sce"
		   ]
		  },
  {
"cell_type": "code",
	   "execution_count": null,
	   "metadata": {
	    "collapsed": true
	   },
	   "outputs": [],
"source": [
"function p=parallel(r1,r2)\n",
"    p=r1*r2/(r1+r2)\n",
"endfunction\n",
"\n",
"//deactivate voltage source\n",
"\n",
"i11=4*6/8\n",
"i21=4*2/8\n",
"v11=i11*2\n",
"v21=1*1\n",
"\n",
"//deactivate current source\n",
"Req=parallel(2,7)\n",
"\n",
"v22=8*Req/(2+Req)\n",
"v12=v22*(2/(2+5))\n",
"\n",
"v1=v11+v12\n",
"v2=v21+v22\n",
"\n",
"disp(v2,v1)"
   ]
   }
,
{
		   "cell_type": "markdown",
		   "metadata": {},
		   "source": [
			"## Example 2.22: Problem22.sce"
		   ]
		  },
  {
"cell_type": "code",
	   "execution_count": null,
	   "metadata": {
	    "collapsed": true
	   },
	   "outputs": [],
"source": [
"function p=parallel(r1,r2)\n",
"    p=r1*r2/(r1+r2)\n",
"endfunction\n",
"\n",
"//Thevenin Equivalent\n",
"I=(32-8)/30\n",
"Voc=32-20*I\n",
"Ro=parallel(20,10)\n",
"disp(Ro,Voc)\n",
"\n",
"//Norton Equivalent\n",
"Isc=32/20+8/10\n",
"disp(Ro,Isc)"
   ]
   }
,
{
		   "cell_type": "markdown",
		   "metadata": {},
		   "source": [
			"## Example 2.23: Problem23.sce"
		   ]
		  },
  {
"cell_type": "code",
	   "execution_count": null,
	   "metadata": {
	    "collapsed": true
	   },
	   "outputs": [],
"source": [
"//convert current source to voltage source\n",
"V=3.5*20\n",
"\n",
"//KVL\n",
"I=100/(10+20+V)\n",
"Voc=100-10*I\n",
"\n",
"//Finding Isc\n",
"I=100/10\n",
"Isc=(1+3.5)*I\n",
"\n",
"Ro=Voc/Isc\n",
"\n",
"disp(Ro,Voc)"
   ]
   }
,
{
		   "cell_type": "markdown",
		   "metadata": {},
		   "source": [
			"## Example 2.24: Problem24.sce"
		   ]
		  },
  {
"cell_type": "code",
	   "execution_count": null,
	   "metadata": {
	    "collapsed": true
	   },
	   "outputs": [],
"source": [
"V=32\n",
"I=1\n",
"R1=20\n",
"R2=8\n",
"R3=2\n",
"Voc1=V/(R1+R2+R3)*(R2+R3)  ///a,b open\n",
"Isc1=V/R1       ///a,b short\n",
"Voc2=I*R2/(R1+R2+R3)*R1\n",
"Isc2=I*R2/(R2+R3)\n",
"////by superposition\n",
"Voc=Voc1+Voc2\n",
"Isc=Isc1+Isc2\n",
"disp(Voc)\n",
"disp(Isc)"
   ]
   }
,
{
		   "cell_type": "markdown",
		   "metadata": {},
		   "source": [
			"## Example 2.25: Problem25.sce"
		   ]
		  },
  {
"cell_type": "code",
	   "execution_count": null,
	   "metadata": {
	    "collapsed": true
	   },
	   "outputs": [],
"source": [
"function [Ra,Rb,Rc]=delta_to_star(Rab,Rbc,Rca)\n",
"    X=Rab+Rbc+Rca\n",
"    Ra=Rab*Rca/X\n",
"    Rb=Rab*Rbc/X\n",
"    Rc=Rca*Rbc/X\n",
"endfunction\n",
"\n",
"function p=parallel(r1,r2)\n",
"    p=r1*r2/(r1+r2)\n",
"endfunction\n",
"\n",
"[R1,R2,R3]=delta_to_star(4,12,8)\n",
"Req=10+4+parallel(R1+15,R2+16)\n",
"\n",
"I=12/Req\n",
"disp(I)"
   ]
   }
,
{
		   "cell_type": "markdown",
		   "metadata": {},
		   "source": [
			"## Example 2.26: Problem26.sce"
		   ]
		  },
  {
"cell_type": "code",
	   "execution_count": null,
	   "metadata": {
	    "collapsed": true
	   },
	   "outputs": [],
"source": [
"//convert current source to voltage source\n",
"\n",
"V1=4*2\n",
"V2=2*2\n",
"\n",
"//Mesh Analysis\n",
"\n",
"A=[7,-3;-15,19]\n",
"I=inv(A)*[6;-14]\n",
"\n",
"Vx=3*(I(1)-I(2))\n",
"disp(Vx)"
   ]
   }
,
{
		   "cell_type": "markdown",
		   "metadata": {},
		   "source": [
			"## Example 2.27: Problem27.sce"
		   ]
		  },
  {
"cell_type": "code",
	   "execution_count": null,
	   "metadata": {
	    "collapsed": true
	   },
	   "outputs": [],
"source": [
"//Short Circuit AB and convert Curr Source to V source\n",
"\n",
"V=9*5\n",
"Isc=(45-9)/6\n",
"\n",
"function p=parallel(r1,r2)\n",
"    p=r1*r2/(r1+r2)\n",
"endfunction\n",
"\n",
"Ro=parallel(5+1,3)\n",
"disp(Ro,Isc)"
   ]
   }
,
{
		   "cell_type": "markdown",
		   "metadata": {},
		   "source": [
			"## Example 2.28: Problem28.sce"
		   ]
		  },
  {
"cell_type": "code",
	   "execution_count": null,
	   "metadata": {
	    "collapsed": true
	   },
	   "outputs": [],
"source": [
"//Mesh Analysis\n",
"\n",
"A=[4,-2;998,24.5]\n",
"I=inv(A)*[1/1000;0]\n",
"\n",
"disp(I)\n",
"\n",
"P1=I(2)^2*2.5*1000\n",
"P2=1/1000*I(1)\n",
"P3=-10^6*I(1)*I(2)\n",
"P=[P1,P2,P3]\n",
"disp(P)"
   ]
   }
,
{
		   "cell_type": "markdown",
		   "metadata": {},
		   "source": [
			"## Example 2.29: Problem29.sce"
		   ]
		  },
  {
"cell_type": "code",
	   "execution_count": null,
	   "metadata": {
	    "collapsed": true
	   },
	   "outputs": [],
"source": [
"function p=parallel(r1,r2)\n",
"    p=r1*r2/(r1+r2)\n",
"endfunction\n",
"\n",
"//as seen from ab\n",
"Vth1=30*60/(30+60)\n",
"Rth1=parallel(30,60)\n",
"\n",
"//as seen from cd\n",
"Vth2=80*40/(40+60)\n",
"Rth2=parallel(40,60)\n",
"\n",
"Vnet=60+Vth1-Vth2\n",
"Rnet=Rth1+Rth2\n",
"\n",
"disp(Rnet,Vnet)"
   ]
   }
,
{
		   "cell_type": "markdown",
		   "metadata": {},
		   "source": [
			"## Example 2.2: Problem2.sce"
		   ]
		  },
  {
"cell_type": "code",
	   "execution_count": null,
	   "metadata": {
	    "collapsed": true
	   },
	   "outputs": [],
"source": [
"I=(14-4)/(8+5+5+7) //KVL\n",
"disp(I)"
   ]
   }
,
{
		   "cell_type": "markdown",
		   "metadata": {},
		   "source": [
			"## Example 2.30: Problem30.sce"
		   ]
		  },
  {
"cell_type": "code",
	   "execution_count": null,
	   "metadata": {
	    "collapsed": true
	   },
	   "outputs": [],
"source": [
"function p=parallel(r1,r2)\n",
"    p=r1*r2/(r1+r2)\n",
"endfunction\n",
"\n",
"R=parallel(60,120)\n",
"\n",
"//Mesh Analysis\n",
"\n",
"A=[6,-4;-4,12]\n",
"I=inv(A)*[2.4;-3.6]\n",
"I3=I(1)-I(2)\n",
"\n",
"I60=I3*120/(120+60)\n",
"disp(I60)"
   ]
   }
,
{
		   "cell_type": "markdown",
		   "metadata": {},
		   "source": [
			"## Example 2.31: Problem31.sce"
		   ]
		  },
  {
"cell_type": "code",
	   "execution_count": null,
	   "metadata": {
	    "collapsed": true
	   },
	   "outputs": [],
"source": [
"//Nodal Equation\n",
"\n",
"Vn=198/10.5\n",
"I60=Vn/60\n",
"disp(I60)"
   ]
   }
,
{
		   "cell_type": "markdown",
		   "metadata": {},
		   "source": [
			"## Example 2.32: Problem32.sce"
		   ]
		  },
  {
"cell_type": "code",
	   "execution_count": null,
	   "metadata": {
	    "collapsed": true
	   },
	   "outputs": [],
"source": [
"V8=2*8\n",
"\n",
"//KVL\n",
"I1=(30-16)/10\n",
"\n",
"//KCL at left node\n",
"I2=2-I1\n",
"\n",
"//KVL middle mesh\n",
"I4=(10*I1-2*I2)/4\n",
"Vx=4*I4\n",
"\n",
"//right node\n",
"Ix=I4-I2\n",
"\n",
"disp(Vx)"
   ]
   }
,
{
		   "cell_type": "markdown",
		   "metadata": {},
		   "source": [
			"## Example 2.33: Problem33.sce"
		   ]
		  },
  {
"cell_type": "code",
	   "execution_count": null,
	   "metadata": {
	    "collapsed": true
	   },
	   "outputs": [],
"source": [
"////////////////////////////////investigate the if then else construct\n",
"\n",
"\n",
"\n",
"I=5\n",
"\n",
"//KVL\n",
"R=(-12.5+15)/I-0.02-0.035\n",
"disp(R)\n",
"\n",
"P=poly([-25,12.5,0.035],'I','coeff')\n",
"Z=roots(P)\n",
"Ib=Z(2)\n",
"disp(Ib)\n",
"\n",
"I=(13-12.5)/0.035\n",
"R=(15-13)/I-0.02\n",
"disp(R)"
   ]
   }
,
{
		   "cell_type": "markdown",
		   "metadata": {},
		   "source": [
			"## Example 2.35: Problem35.sce"
		   ]
		  },
  {
"cell_type": "code",
	   "execution_count": null,
	   "metadata": {
	    "collapsed": true
	   },
	   "outputs": [],
"source": [
"R=12*12/4-25\n",
"disp(R)\n",
"\n",
"I=sqrt(1.6/1000/10000)\n",
"R=12/I-10000-15000\n",
"disp(R)\n",
"\n",
"I=0\n",
"V=12\n",
"disp(V)"
   ]
   }
,
{
		   "cell_type": "markdown",
		   "metadata": {},
		   "source": [
			"## Example 2.36: Problem36.sce"
		   ]
		  },
  {
"cell_type": "code",
	   "execution_count": null,
	   "metadata": {
	    "collapsed": true
	   },
	   "outputs": [],
"source": [
"function p=parallel(r1,r2)\n",
"    p=r1*r2/(r1+r2)\n",
"endfunction\n",
"\n",
"Req=1+parallel(parallel(1,1),1)\n",
"\n",
"disp(Req)"
   ]
   }
,
{
		   "cell_type": "markdown",
		   "metadata": {},
		   "source": [
			"## Example 2.37: Problem37.sce"
		   ]
		  },
  {
"cell_type": "code",
	   "execution_count": null,
	   "metadata": {
	    "collapsed": true
	   },
	   "outputs": [],
"source": [
"function p=parallel(r1,r2)\n",
"    p=r1*r2/(r1+r2)\n",
"endfunction\n",
"\n",
"R1=parallel(parallel(40,60),80+40)\n",
"\n",
"Req=20+parallel(10+R1,30)\n",
"disp(Req)"
   ]
   }
,
{
		   "cell_type": "markdown",
		   "metadata": {},
		   "source": [
			"## Example 2.38: Problem38.sce"
		   ]
		  },
  {
"cell_type": "code",
	   "execution_count": null,
	   "metadata": {
	    "collapsed": true
	   },
	   "outputs": [],
"source": [
"function p=parallel(r1,r2)\n",
"    p=r1*r2/(r1+r2)\n",
"endfunction\n",
"\n",
"R1=parallel(5,40)+15\n",
"Req=parallel(R1,15)+10\n",
"i=6/(1000*Req)\n",
"\n",
"ix=i*R1/(R1+15)\n",
"disp(ix)\n",
"\n",
"P=i*i*10000  //////wrongly done in the book as ix*ix*10000\n",
"disp(P)"
   ]
   }
,
{
		   "cell_type": "markdown",
		   "metadata": {},
		   "source": [
			"## Example 2.39: Problem39.sce"
		   ]
		  },
  {
"cell_type": "code",
	   "execution_count": null,
	   "metadata": {
	    "collapsed": true
	   },
	   "outputs": [],
"source": [
"function p=parallel(r1,r2)\n",
"    p=r1*r2/(r1+r2)\n",
"endfunction\n",
"\n",
"R1=parallel(1,3)\n",
"\n",
"//convert current source to voltage\n",
"V=20/1000*2000\n",
"I=(40-8)/(2+0.75)\n",
"\n",
"Pr=8*I\n",
"disp(Pr)"
   ]
   }
,
{
		   "cell_type": "markdown",
		   "metadata": {},
		   "source": [
			"## Example 2.3: Problem3.sce"
		   ]
		  },
  {
"cell_type": "code",
	   "execution_count": null,
	   "metadata": {
	    "collapsed": true
	   },
	   "outputs": [],
"source": [
"r1=100\n",
"v=3/4\n",
"\n",
"r2=r1*v/(1-v)\n",
"\n",
"\n",
"function p=parallel(r1,r2)\n",
"    p=r1*r2/(r1+r2)\n",
"endfunction\n",
"\n",
"//////Part1\n",
"R2_eq=parallel(r2,10000)\n",
"k=R2_eq/(R2_eq+r1)\n",
"change1=(3/4-k)/(3/4)*100\n",
"disp(change1)\n",
"//////Part2\n",
"\n",
"R2_eq=parallel(r2,1000)\n",
"k=R2_eq/(R2_eq+r1)\n",
"change2=(3/4-k)/(3/4)*100\n",
"disp(change2)"
   ]
   }
,
{
		   "cell_type": "markdown",
		   "metadata": {},
		   "source": [
			"## Example 2.40: Problem40.sce"
		   ]
		  },
  {
"cell_type": "code",
	   "execution_count": null,
	   "metadata": {
	    "collapsed": true
	   },
	   "outputs": [],
"source": [
"function p=parallel(r1,r2)\n",
"    p=r1*r2/(r1+r2)\n",
"endfunction\n",
"\n",
"I1=12/1000\n",
"Ix=I1*30/(30+60)\n",
"disp(Ix)\n",
"\n",
"I2=20/1000\n",
"V2=I2*(10+5)\n",
"R1=10+parallel(30,60)\n",
"I1=V2/R1\n",
"Ix=I1*30/(30+60)\n",
"disp(Ix)  //Wrongly printed in the book as 10\n",
"\n",
"Ix=6/1000\n",
"I1=(30+60)/30*Ix\n",
"V2=I1*R1\n",
"I2=V2/15\n",
"disp(I2)\n",
"\n",
"Is=45\n",
"I1=45*(10+5)/(10+5+R1)\n",
"Ix=I1*30/(30+60)\n",
"disp(Ix)  ///Answer is wrong in the book"
   ]
   }
,
{
		   "cell_type": "markdown",
		   "metadata": {},
		   "source": [
			"## Example 2.4: Problem4.sce"
		   ]
		  },
  {
"cell_type": "code",
	   "execution_count": null,
	   "metadata": {
	    "collapsed": true
	   },
	   "outputs": [],
"source": [
"function p=parallel(r1,r2)\n",
"    p=r1*r2/(r1+r2)\n",
"endfunction\n",
"\n",
"\n",
"v=150\n",
"\n",
"Req=1000*parallel(parallel(10,5),4)\n",
"i1=v/(2000+0.2*1000+Req)\n",
"v1=i1*0.2*1000\n",
"VReq=Req*i1\n",
"i2=VReq/4000\n",
"\n",
"disp(v1)\n",
"disp(i2)"
   ]
   }
,
{
		   "cell_type": "markdown",
		   "metadata": {},
		   "source": [
			"## Example 2.5: Problem5.sce"
		   ]
		  },
  {
"cell_type": "code",
	   "execution_count": null,
	   "metadata": {
	    "collapsed": true
	   },
	   "outputs": [],
"source": [
"function [Rab,Rbc,Rca]=star_to_delta(Ra,Rb,Rc)\n",
"    X=Ra*Rb+Rb*Rc+Rc*Ra\n",
"    Rab=X/Rc\n",
"    Rbc=X/Ra\n",
"    Rca=X/Rb\n",
"endfunction\n",
"\n",
"function p=parallel(r1,r2)\n",
"    p=r1*r2/(r1+r2)\n",
"endfunction\n",
"\n",
"[Rx,Ry,Rz]=star_to_delta(8,4,2)\n",
"\n",
"Req_ad=parallel(parallel(4,Rx)+parallel(12,Rz),parallel(3,Ry))\n",
"disp(Req_ad)"
   ]
   }
,
{
		   "cell_type": "markdown",
		   "metadata": {},
		   "source": [
			"## Example 2.6: Problem6.sce"
		   ]
		  },
  {
"cell_type": "code",
	   "execution_count": null,
	   "metadata": {
	    "collapsed": true
	   },
	   "outputs": [],
"source": [
"//Converting Voltage source with series resistance to current source\n",
"I=1/(1/4)\n",
"\n",
"//KCL at nodes 1,2,3 using conductances\n",
"A=[11,-3,-4;-3,6,-2;-4,-2,11]\n",
"V=inv(A)*[5;-7;6]\n",
"\n",
"disp(V)"
   ]
   }
,
{
		   "cell_type": "markdown",
		   "metadata": {},
		   "source": [
			"## Example 2.7: Problem7.sce"
		   ]
		  },
  {
"cell_type": "code",
	   "execution_count": null,
	   "metadata": {
	    "collapsed": true
	   },
	   "outputs": [],
"source": [
"function p=parallel(r1,r2)\n",
"    p=r1*r2/(r1+r2)\n",
"endfunction\n",
"\n",
"Req=parallel(15,30)\n",
"\n",
"//KCL at nodes 1 and 2\n",
"A=[3,-1;-3,5]\n",
"V=inv(A)*[80;-360]\n",
"\n",
"disp(V(1))\n",
""
   ]
   }
,
{
		   "cell_type": "markdown",
		   "metadata": {},
		   "source": [
			"## Example 2.8: Problem8.sce"
		   ]
		  },
  {
"cell_type": "code",
	   "execution_count": null,
	   "metadata": {
	    "collapsed": true
	   },
	   "outputs": [],
"source": [
"//Converting practical voltage source to current source\n",
"I=12/6\n",
"\n",
"//KCLs\n",
"A=[0.7,-0.5;-0.5,0.767]\n",
"V=inv(A)*[7;2]\n",
"disp(V)\n",
"\n",
"I12=(V(1)-V(2))/2\n",
"disp(I12)"
   ]
   }
,
{
		   "cell_type": "markdown",
		   "metadata": {},
		   "source": [
			"## Example 2.9: Problem9.sce"
		   ]
		  },
  {
"cell_type": "code",
	   "execution_count": null,
	   "metadata": {
	    "collapsed": true
	   },
	   "outputs": [],
"source": [
"//KCLs\n",
"\n",
"A=[2,-1;-4,19]\n",
"V=inv(A)*[10;25]\n",
"\n",
"Pc=1*V(1)\n",
"Iv=(5-V(2))/2 + (5-V(1))/5\n",
"Pv=5*Iv\n",
"\n",
"disp(V)\n",
"disp(Pv,Pc)"
   ]
   }
],
"metadata": {
		  "kernelspec": {
		   "display_name": "Scilab",
		   "language": "scilab",
		   "name": "scilab"
		  },
		  "language_info": {
		   "file_extension": ".sce",
		   "help_links": [
			{
			 "text": "MetaKernel Magics",
			 "url": "https://github.com/calysto/metakernel/blob/master/metakernel/magics/README.md"
			}
		   ],
		   "mimetype": "text/x-octave",
		   "name": "scilab",
		   "version": "0.7.1"
		  }
		 },
		 "nbformat": 4,
		 "nbformat_minor": 0
}
