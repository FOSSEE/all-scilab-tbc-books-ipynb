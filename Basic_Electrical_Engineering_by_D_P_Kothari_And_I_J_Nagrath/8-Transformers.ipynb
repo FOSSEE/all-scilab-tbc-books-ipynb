{
"cells": [
 {
		   "cell_type": "markdown",
	   "metadata": {},
	   "source": [
       "# Chapter 8: Transformers"
	   ]
	},
{
		   "cell_type": "markdown",
		   "metadata": {},
		   "source": [
			"## Example 8.10: Problem10.sce"
		   ]
		  },
  {
"cell_type": "code",
	   "execution_count": null,
	   "metadata": {
	    "collapsed": true
	   },
	   "outputs": [],
"source": [
"P=50E3\n",
"a=2200/110\n",
"\n",
"/////OC Parameters\n",
"Poc=400\n",
"Ioc=10\n",
"Voc=110\n",
"\n",
"Y0=Ioc/Voc\n",
"Gi=Poc/Voc/Voc\n",
"disp(Gi)\n",
"Bm=sqrt(Y0*Y0-Gi*Gi)\n",
"disp(Bm)\n",
"\n",
"///////////Referred to HV side\n",
"GiHV=Gi/a/a\n",
"disp(GiHV)\n",
"BmHV=Bm/a/a\n",
"disp(BmHV)\n",
"\n",
"//////////Per unit\n",
"GiPU=Gi*P/Voc/Voc\n",
"BmPU=Bm*P/Voc/Voc\n",
"disp(GiPU)\n",
"disp(BmPU)"
   ]
   }
,
{
		   "cell_type": "markdown",
		   "metadata": {},
		   "source": [
			"## Example 8.11: Problem11.sce"
		   ]
		  },
  {
"cell_type": "code",
	   "execution_count": null,
	   "metadata": {
	    "collapsed": true
	   },
	   "outputs": [],
"source": [
"P=25000\n",
"V1=2200\n",
"V2=220\n",
"a=V1/V2\n",
"f=50\n",
"r1=2\n",
"r2=0.025\n",
"x1=7\n",
"x2=0.07\n",
"Xm=16000\n",
"\n",
"Im=V2/Xm\n",
"disp('pf=0, 90 degree lag Po=0', Im)\n",
"\n",
"R=r1+a*a*r2\n",
"X=x1+a*a*x2\n",
"Z=sqrt(R*R+X*X)\n",
"Ifl=P/V1\n",
"Vsc=Z*Ifl\n",
"Vsc_percent=Vsc/V1*100\n",
"disp(Vsc,Vsc_percent)\n",
"Im=Vsc/Xm\n",
"Im_percent=Im/Ifl*100\n",
"disp(Im,Im_percent)\n",
"\n",
"Sc_pf=cos(atan(X/R))\n",
"disp(Sc_pf)\n",
"\n",
"////////////Per unit\n",
"ZBpu=1000*2.2*2.2/25\n",
"r1pu=r1/193.6\n",
"r2pu=a*a*r2/193.6\n",
"x1pu=x1/193.6\n",
"x2pu=a*a*x2/193.6\n",
"\n",
"Rpu=r1pu+r2pu\n",
"Xpu=x1pu+x2pu\n",
"\n",
"Xmpu=Xm/193.6\n",
"disp(Rpu,Xpu,Xmpu)"
   ]
   }
,
{
		   "cell_type": "markdown",
		   "metadata": {},
		   "source": [
			"## Example 8.12: Problem12.sce"
		   ]
		  },
  {
"cell_type": "code",
	   "execution_count": null,
	   "metadata": {
	    "collapsed": true
	   },
	   "outputs": [],
"source": [
"P=10000\n",
"v1=2300\n",
"v2=230\n",
"a=v1/v2\n",
"f=50\n",
"r1=3.96\n",
"r2=0.0396\n",
"x1=15.8\n",
"x2=0.158\n",
"\n",
"R=r1+a*a*r2\n",
"X=x1+a*a*x2\n",
"V2=v2*a\n",
"I=P/V2\n",
"theta=acos(0.80)\n",
"V1=V2+I*(R*cos(theta)+X*sin(theta))\n",
"disp(V1)\n",
"VR=(V1-V2)/V2\n",
"disp(VR)\n",
"\n",
"pf=X/sqrt(R*R+X*X)\n",
"theta2=acos(pf)\n",
"Il=I*(cos(theta)-%i*sin(theta))\n",
"Ic=real(Il*tan(theta2))-imag(Il)\n",
"Rating_Cap=V2*Ic\n",
"disp(Rating_Cap)\n",
"V1=V2\n",
"disp(V1)"
   ]
   }
,
{
		   "cell_type": "markdown",
		   "metadata": {},
		   "source": [
			"## Example 8.13: Problem13.sce"
		   ]
		  },
  {
"cell_type": "code",
	   "execution_count": null,
	   "metadata": {
	    "collapsed": true
	   },
	   "outputs": [],
"source": [
"P=100000\n",
"N1=400\n",
"N2=100\n",
"a=N1/N2\n",
"r1=0.3\n",
"r2=0.015\n",
"x1=1.1\n",
"x2=0.055\n",
"V1=2400\n",
"\n",
"R=r1+a*a*r2\n",
"disp(R)\n",
"X=x1+a*a*x2\n",
"disp(X)\n",
"\n",
"I1=P/V1\n",
"pf=0.8\n",
"theta=acos(pf)\n",
"Vd=I1*(R*cos(theta)+X*sin(theta))\n",
"VR=Vd/V1*100\n",
"V2=(V1-Vd)/a\n",
"disp(VR,V2)\n",
"Vd=I1*(R*cos(theta)-X*sin(theta))\n",
"VR=Vd/V1*100\n",
"V2=(V1-Vd)/a\n",
"disp(VR,V2)\n",
"\n",
"pf=cos(atan(R/X))           /////wrong in the book\n",
"disp('leading',pf)"
   ]
   }
,
{
		   "cell_type": "markdown",
		   "metadata": {},
		   "source": [
			"## Example 8.14: Problem14.sce"
		   ]
		  },
  {
"cell_type": "code",
	   "execution_count": null,
	   "metadata": {
	    "collapsed": true
	   },
	   "outputs": [],
"source": [
"P=10000\n",
"v1=2300\n",
"v2=230\n",
"a=v1/v2\n",
"f=50\n",
"r1=3.96\n",
"r2=0.0396\n",
"x1=15.8\n",
"x2=0.158\n",
"\n",
"R=r1+a*a*r2\n",
"X=x1+a*a*x2\n",
"V2=v2*a\n",
"I=P/V2\n",
"pf=0.8\n",
"theta=acos(pf)\n",
"V1=V2+I*(R*cos(theta)+X*sin(theta))\n",
"Pi=75*V1*V1/V2/V2\n",
"Pc=I*I*R\n",
"Pl=Pi+Pc\n",
"P0=P*pf\n",
"effi=P0/(P0+Pl)*100\n",
"disp(effi)\n",
"\n",
"V1=V2\n",
"Pi=75\n",
"pf2=X/sqrt(R*R+X*X)\n",
"I=P0/V1/pf2\n",
"Pc=I*I*R\n",
"Pl=Pi+Pc\n",
"P0=P*pf\n",
"effi=P0/(P0+Pl)*100\n",
"disp(effi)\n",
"\n",
"I=sqrt(Pi/R)\n",
"Load=V2*I\n",
"P0=Load*pf\n",
"Pl=2*Pi\n",
"effi_max=P0/(P0+Pl)*100\n",
"disp(effi_max)"
   ]
   }
,
{
		   "cell_type": "markdown",
		   "metadata": {},
		   "source": [
			"## Example 8.15: Problem15.sce"
		   ]
		  },
  {
"cell_type": "code",
	   "execution_count": null,
	   "metadata": {
	    "collapsed": true
	   },
	   "outputs": [],
"source": [
"P=15E3\n",
"a=3000/250\n",
"\n",
"/////OC Parameters\n",
"Poc=105\n",
"Ioc=0.62\n",
"Voc=250\n",
"\n",
"/////SC Parameters\n",
"Psc=360\n",
"Isc=5.2\n",
"Vsc=157\n",
"\n",
"\n",
"Y0=Ioc/Voc\n",
"Gi=Poc/Voc/Voc\n",
"Bm=sqrt(Y0*Y0-Gi*Gi)\n",
"\n",
"Z=Vsc/Isc\n",
"R=Psc/Isc/Isc\n",
"X=sqrt(Z*Z-R*R)\n",
"\n",
"///////////Referred to HV side\n",
"GiHV=Gi/a/a\n",
"disp(GiHV)\n",
"BmHV=Bm/a/a\n",
"disp(BmHV)\n",
"disp(R)\n",
"disp(X)\n",
"\n",
"//////////Per unit\n",
"ZB=3.12/5.2\n",
"GiPU=Gi*ZB\n",
"BmPU=Y0*ZB\n",
"RPU=R/ZB/1000\n",
"XPU=X/ZB/1000\n",
"disp(GiPU)\n",
"disp(BmPU)\n",
"disp(RPU)\n",
"disp(XPU)\n",
"\n",
"\n",
"pf=0.8\n",
"theta=acos(pf)\n",
"V2=250*a\n",
"I=P/V2\n",
"Vd=I*(R*cos(theta)-X*sin(theta))\n",
"VR=-Vd/V2*100\n",
"disp(VR)\n",
"Pi=105\n",
"Pc=I*I*R\n",
"Pl=Pi+Pc\n",
"P0=P*pf\n",
"effi=P0/(Pl+P0)*100\n",
"\n",
"pf2=cos(atan(R/X))\n",
"disp('leading', pf2)\n",
"\n",
"\n",
"IPU=sqrt(Pi/P/RPU)\n",
"effi_max=IPU\n",
"disp(effi_max)"
   ]
   }
,
{
		   "cell_type": "markdown",
		   "metadata": {},
		   "source": [
			"## Example 8.16: Problem16.sce"
		   ]
		  },
  {
"cell_type": "code",
	   "execution_count": null,
	   "metadata": {
	    "collapsed": true
	   },
	   "outputs": [],
"source": [
"v1=2500\n",
"v2=250\n",
"P=25000\n",
"Pc=130\n",
"Pcfl=320\n",
"pf=0.8\n",
"\n",
"V2=2750\n",
"\n",
"P0=P*pf\n",
"Pl=Pcfl+Pc\n",
"effi=P0/(P0+Pl)*100\n",
"disp(effi)\n",
"\n",
"I2=P/v2\n",
"I1=I2+P/v1\n",
"kVA=I1*v1/1000\n",
"P0=kVA*pf*1000\n",
"effi=P0/(P0+Pl)*100\n",
"disp(effi)"
   ]
   }
,
{
		   "cell_type": "markdown",
		   "metadata": {},
		   "source": [
			"## Example 8.17: Problem17.sce"
		   ]
		  },
  {
"cell_type": "code",
	   "execution_count": null,
	   "metadata": {
	    "collapsed": true
	   },
	   "outputs": [],
"source": [
"a=10\n",
"Load=120000\n",
"V=400\n",
"\n",
"I=Load/V/sqrt(3)\n",
"Vll=a*V/sqrt(3)\n",
"Ill=sqrt(3)*I/a\n",
"all=Vll/V\n",
"disp(Vll,Ill,all)\n",
"\n",
"Vll=a*V*sqrt(3)\n",
"Ill=I/a/sqrt(3)\n",
"all=Vll/V\n",
"disp(Vll,Ill,all)"
   ]
   }
,
{
		   "cell_type": "markdown",
		   "metadata": {},
		   "source": [
			"## Example 8.18: Problem18.sce"
		   ]
		  },
  {
"cell_type": "code",
	   "execution_count": null,
	   "metadata": {
	    "collapsed": true
	   },
	   "outputs": [],
"source": [
"f=50\n",
"N1=500\n",
"\n",
"Pin=60\n",
"Io=0.4\n",
"Vin=220\n",
"r=0.8\n",
"\n",
"Pci=Io*Io*r\n",
"Pi=Pin-Pci\n",
"disp(Pi)\n",
"theta=acos(Pin/Vin/Io)\n",
"Im=Io*sin(theta)\n",
"Xm=Vin/Im\n",
"disp(Xm)\n",
"Iio=Io*cos(theta)\n",
"Ri=Vin/Iio\n",
"disp(Ri)"
   ]
   }
,
{
		   "cell_type": "markdown",
		   "metadata": {},
		   "source": [
			"## Example 8.19: Problem19.sce"
		   ]
		  },
  {
"cell_type": "code",
	   "execution_count": null,
	   "metadata": {
	    "collapsed": true
	   },
	   "outputs": [],
"source": [
"P=15E3\n",
"v1=2200\n",
"v2=220\n",
"a=v1/v2\n",
"\n",
"/////OC Parameters\n",
"Poc=185\n",
"Ioc=2.72\n",
"Voc=220\n",
"\n",
"/////SC Parameters\n",
"Psc=197\n",
"Isc=6.3\n",
"Vsc=112\n",
"\n",
"Pi=Poc\n",
"disp(Pi)\n",
"\n",
"IHVfl=P/v1\n",
"Pcfl=IHVfl*IHVfl/Isc/Isc*Psc\n",
"disp(Pcfl)\n",
"\n",
"pf=0.85\n",
"Po=P*pf\n",
"Pl=Pi+Pcfl\n",
"effi=Po/(Po+Pl)*100\n",
"disp(effi)\n",
"\n",
"Z=Vsc/Isc\n",
"R=Psc/Isc/Isc\n",
"X=sqrt(Z*Z-R*R)\n",
"pf=0.8\n",
"theta=acos(pf)\n",
"Vd1=IHVfl*(R*cos(theta)+X*sin(theta))\n",
"Vd2=IHVfl*(R*cos(theta)-X*sin(theta))\n",
"VR1=Vd1/v1*100\n",
"VR2=Vd2/v1*100\n",
"disp(VR1, VR2)"
   ]
   }
,
{
		   "cell_type": "markdown",
		   "metadata": {},
		   "source": [
			"## Example 8.1: Problem1.sce"
		   ]
		  },
  {
"cell_type": "code",
	   "execution_count": null,
	   "metadata": {
	    "collapsed": true
	   },
	   "outputs": [],
"source": [
"V1=3300\n",
"f=50\n",
"N1=100\n",
"N2=300\n",
"Z=100+35*%i\n",
"flux_max=V1/(sqrt(2)*%pi*f*N1)\n",
"V2=V1*N2/N1\n",
"I2=V2/Z\n",
"I1=N2/N1*I2\n",
"S=V1*conj(I1)\n",
"Z1=Z*(N1/N2)^2\n",
"\n",
"disp(flux_max)\n",
"disp(I1,I2)\n",
"disp(real(S),imag(S))\n",
"disp(Z1)"
   ]
   }
,
{
		   "cell_type": "markdown",
		   "metadata": {},
		   "source": [
			"## Example 8.20: Problem20.sce"
		   ]
		  },
  {
"cell_type": "code",
	   "execution_count": null,
	   "metadata": {
	    "collapsed": true
	   },
	   "outputs": [],
"source": [
"P=50000\n",
"lr=0.9\n",
"\n",
"P0=P*1*0.9\n",
"effi=0.974\n",
"Pl=(1-effi)/effi*P0\n",
"Pi=Pl/2\n",
"Pcfl=Pi/lr/lr\n",
"\n",
"pf=0.8\n",
"P0=P*pf\n",
"Pl=Pi+Pcfl\n",
"effi=P0/(P0+Pl)*100\n",
"disp(effi)\n",
"\n",
"P0=P/2*lr\n",
"Pl=Pi+Pcfl/2/2\n",
"effi=P0/(P0+Pl)*100\n",
"disp(effi)\n",
"\n",
"/////////calculation mistakes in the book"
   ]
   }
,
{
		   "cell_type": "markdown",
		   "metadata": {},
		   "source": [
			"## Example 8.21: Problem21.sce"
		   ]
		  },
  {
"cell_type": "code",
	   "execution_count": null,
	   "metadata": {
	    "collapsed": true
	   },
	   "outputs": [],
"source": [
"P=500E3\n",
"effi=0.95\n",
"\n",
"A=[1,1;1,0.6*0.6]\n",
"Pa=inv(A)*[P*(1-effi)/effi;P*0.6*(1-effi)/effi]\n",
"Pi=Pa(1)\n",
"disp(Pi)\n",
"Pc=Pa(2)\n",
"disp(Pc)\n",
"\n",
"Pl=Pi+0.75*0.75*Pc\n",
"effi=P*0.75/(P*0.75+Pl)\n",
"disp(effi)"
   ]
   }
,
{
		   "cell_type": "markdown",
		   "metadata": {},
		   "source": [
			"## Example 8.22: Problem22.sce"
		   ]
		  },
  {
"cell_type": "code",
	   "execution_count": null,
	   "metadata": {
	    "collapsed": true
	   },
	   "outputs": [],
"source": [
"v1=2200\n",
"v2=220\n",
"f=50\n",
"emfperturn=12\n",
"\n",
"N1=floor(v1/emfperturn)\n",
"N2=floor(v2/emfperturn)\n",
"disp(N1)\n",
"disp(N2)\n",
"\n",
"fluxmax=emfperturn/4.44/f\n",
"Bmax=1.5\n",
"Ac=fluxmax/Bmax\n",
"disp(Ac)"
   ]
   }
,
{
		   "cell_type": "markdown",
		   "metadata": {},
		   "source": [
			"## Example 8.23: Problem23.sce"
		   ]
		  },
  {
"cell_type": "code",
	   "execution_count": null,
	   "metadata": {
	    "collapsed": true
	   },
	   "outputs": [],
"source": [
"v1=3300\n",
"v2=600\n",
"f=50\n",
"Ac=25/10000\n",
"l=1.2\n",
"\n",
"Bmax=1.2\n",
"fluxmax1=Bmax*Ac\n",
"N1=v1/4.44/f/fluxmax1\n",
"N2=v2/4.44/f/fluxmax1\n",
"disp(N1,N2)\n",
"\n",
"I2=20\n",
"pf=0.8\n",
"I1=N2/N1*I2\n",
"I1=I1*(pf-%i*sin(acos(0.8)))\n",
"disp(I1)\n",
"\n",
"Hmax=250\n",
"ATmax=Hmax*l\n",
"immax=ATmax/N1/sqrt(2)\n",
"Ii=0\n",
"I1=-%i*immax+I1\n",
"disp('lagging', real(I1)/norm(I1), norm(I1))"
   ]
   }
,
{
		   "cell_type": "markdown",
		   "metadata": {},
		   "source": [
			"## Example 8.24: Problem24.sce"
		   ]
		  },
  {
"cell_type": "code",
	   "execution_count": null,
	   "metadata": {
	    "collapsed": true
	   },
	   "outputs": [],
"source": [
"P=50000\n",
"v1=2400\n",
"v2=240\n",
"f=50\n",
"a=v1/v2\n",
"Pd=375\n",
"pf=0.4\n",
"\n",
"I0=Pd/v1/pf\n",
"I0_prime=I0*a\n",
"disp(I0_prime,pf)"
   ]
   }
,
{
		   "cell_type": "markdown",
		   "metadata": {},
		   "source": [
			"## Example 8.25: Problem25.sce"
		   ]
		  },
  {
"cell_type": "code",
	   "execution_count": null,
	   "metadata": {
	    "collapsed": true
	   },
	   "outputs": [],
"source": [
"v1=220\n",
"v2=110\n",
"z1=0.32+%i*0.85\n",
"z2=0.11+%i*0.27\n",
"a=v1/v2\n",
"\n",
"z=z1+a*a*z2\n",
"IHV=v1/norm(z)\n",
"ILV=IHV*a\n",
"disp(IHV,ILV)"
   ]
   }
,
{
		   "cell_type": "markdown",
		   "metadata": {},
		   "source": [
			"## Example 8.26: Problem26.sce"
		   ]
		  },
  {
"cell_type": "code",
	   "execution_count": null,
	   "metadata": {
	    "collapsed": true
	   },
	   "outputs": [],
"source": [
"P=1000000\n",
"v1=11000\n",
"v2=230\n",
"f=50\n",
"Vsc=310\n",
"Psc=5210\n",
"\n",
"Isc=P/v1\n",
"Z=Vsc/Isc\n",
"R=Psc/Isc/Isc\n",
"X=sqrt(Z*Z-R*R)\n",
"\n",
"pf=1\n",
"theta=acos(pf)\n",
"Vd=Isc*(R*cos(theta)+X*sin(theta))\n",
"VR=Vd/v1*100\n",
"V1=v1+Vd\n",
"disp(VR,V1)\n",
"\n",
"pf=0.8\n",
"theta=acos(pf)\n",
"Vd=Isc*(R*cos(theta)+X*sin(theta))\n",
"VR=Vd/v1*100\n",
"V1=v1+Vd\n",
"disp(VR,V1)\n",
"\n",
"pf=0.8\n",
"theta=acos(pf)\n",
"Vd=Isc*(R*cos(theta)-X*sin(theta))    //calculation mistake in the book at this point\n",
"VR=Vd/v1*100\n",
"V1=v1+Vd\n",
"disp(VR,V1)"
   ]
   }
,
{
		   "cell_type": "markdown",
		   "metadata": {},
		   "source": [
			"## Example 8.27: Problem27.sce"
		   ]
		  },
  {
"cell_type": "code",
	   "execution_count": null,
	   "metadata": {
	    "collapsed": true
	   },
	   "outputs": [],
"source": [
"P=10000\n",
"v1=2200\n",
"v2=220\n",
"r1=4\n",
"r2=0.04\n",
"x1=5\n",
"x2=0.05\n",
"a=v1/v2\n",
"R=r1+a*a*r2\n",
"X=x1+a*a*x2\n",
"I1=P/v1\n",
"pf=0.8\n",
"V2=v2*a\n",
"theta=acos(pf)\n",
"Vd=I1*(R*cos(theta)+X*sin(theta))\n",
"VR=Vd/v1*100\n",
"V1=v1+Vd\n",
"disp(VR,V1)\n",
"\n",
"pf=cos(atan(X/R))\n",
"disp('leading',pf)\n",
"\n",
"Pr=P*pf\n",
"Q=-P*sin(acos(pf))\n",
"disp(Q,Pr)"
   ]
   }
,
{
		   "cell_type": "markdown",
		   "metadata": {},
		   "source": [
			"## Example 8.28: Problem28.sce"
		   ]
		  },
  {
"cell_type": "code",
	   "execution_count": null,
	   "metadata": {
	    "collapsed": true
	   },
	   "outputs": [],
"source": [
"P=20000\n",
"v1=200\n",
"v2=400\n",
"f=50\n",
"V1=600\n",
"V2=200\n",
"\n",
"a=V1/V2\n",
"disp(a)\n",
"\n",
"I1=P/v2\n",
"VA=V1*I1\n",
"disp(VA)\n",
"\n",
"disp(I1)\n",
"I2=30000/V2\n",
"Is=I2-I1\n",
"disp(I2)\n",
"disp(Is)\n",
"\n",
"VAtrans=v2*I1\n",
"VAcond=30000-VAtrans\n",
"disp(VAtrans)\n",
"disp(VAcond)\n",
""
   ]
   }
,
{
		   "cell_type": "markdown",
		   "metadata": {},
		   "source": [
			"## Example 8.29: Problem29.sce"
		   ]
		  },
  {
"cell_type": "code",
	   "execution_count": null,
	   "metadata": {
	    "collapsed": true
	   },
	   "outputs": [],
"source": [
"P=100000\n",
"v1=11000\n",
"v2=400\n",
"\n",
"Vl=400\n",
"Vp=Vl/sqrt(3)\n",
"\n",
"a=ceil(v1/Vp)\n",
"disp(a)\n",
"\n",
"Il=P/sqrt(3)/Vl\n",
"Ip=Il\n",
"disp(Il,Ip)\n",
"\n",
"Il=P/sqrt(3)/v1\n",
"Ip=Il/sqrt(3)\n",
"disp(Il,Ip)"
   ]
   }
,
{
		   "cell_type": "markdown",
		   "metadata": {},
		   "source": [
			"## Example 8.2: Problem2.sce"
		   ]
		  },
  {
"cell_type": "code",
	   "execution_count": null,
	   "metadata": {
	    "collapsed": true
	   },
	   "outputs": [],
"source": [
"a=2400/240\n",
"\n",
"R=0.2+a*a*2/1000\n",
"X=0.6+a*a*6/1000\n",
"disp(R,X)\n",
"\n",
"Rlv=1/a/a*R\n",
"Xlv=1/a/a*X\n",
"disp(Rlv,Xlv)\n",
"\n",
"I2=150*1000/2400\n",
"Z=R+%i*X\n",
"V=I2*Z\n",
"pcnt=norm(V)/2400*100\n",
"disp(V,pcnt)\n",
"\n",
"Im=2400/1600\n",
"Ii=2400/10000\n",
"Io=Ii-%i*Im\n",
"pf=cos(atan(imag(Io)/real(Io)))\n",
"disp(Io,pf)"
   ]
   }
,
{
		   "cell_type": "markdown",
		   "metadata": {},
		   "source": [
			"## Example 8.3: Problem3.sce"
		   ]
		  },
  {
"cell_type": "code",
	   "execution_count": null,
	   "metadata": {
	    "collapsed": true
	   },
	   "outputs": [],
"source": [
"P=200E3\n",
"V1=11000\n",
"V2=415\n",
"f=50\n",
"N2=80\n",
"N1=V1/V2*N2\n",
"a=N1/N2\n",
"disp(a)\n",
"I2=P/V2\n",
"disp(I2)\n",
"I1=I2/a\n",
"disp(I1)\n",
"Z2=V2*V2/P\n",
"disp(Z2)\n",
"Z21=Z2*a*a\n",
"disp(Z21)"
   ]
   }
,
{
		   "cell_type": "markdown",
		   "metadata": {},
		   "source": [
			"## Example 8.4: Problem4.sce"
		   ]
		  },
  {
"cell_type": "code",
	   "execution_count": null,
	   "metadata": {
	    "collapsed": true
	   },
	   "outputs": [],
"source": [
"V1=200\n",
"f=50\n",
"N1=150\n",
"Ac=10*5/10000\n",
"\n",
"\n",
"Flux_max=V1/(sqrt(2)*%pi*f*N1)\n",
"Bmax=Flux_max/Ac\n",
"Hmax=250\n",
"l=2*(25+10)+2*(20+10)\n",
"l=l/100\n",
"AT_max=Hmax*l\n",
"Im_max=AT_max/150\n",
"Im_rms=Im_max/sqrt(2)\n",
"disp(Im_rms)\n",
"\n",
"Fe_loss=23000\n",
"\n",
"Cv = 2*(25+2*10)*10*5 + 2*20*10*5\n",
"Cv=Cv/1000000\n",
"Cl=Fe_loss*Cv\n",
"disp(Cl)\n",
"\n",
"Ii=150/V1\n",
"disp(Ii)"
   ]
   }
,
{
		   "cell_type": "markdown",
		   "metadata": {},
		   "source": [
			"## Example 8.5: Problem5.sce"
		   ]
		  },
  {
"cell_type": "code",
	   "execution_count": null,
	   "metadata": {
	    "collapsed": true
	   },
	   "outputs": [],
"source": [
"function [x,y]=polar_to_cart(r,theta)\n",
"    theta=theta/180*%pi\n",
"    x=r*cos(theta)\n",
"    y=r*sin(theta)\n",
"endfunction\n",
"\n",
"[Zr,Zc]=polar_to_cart(5,30)\n",
"Z2=complex(Zr,Zc)\n",
"\n",
"V=200\n",
"N2=75\n",
"N1=100\n",
"\n",
"I2=V/Z2\n",
"I1=N2/N1*I2\n",
"\n",
"disp(norm(I1))\n",
"disp(' lagging' , real(I1)/norm(I1))"
   ]
   }
,
{
		   "cell_type": "markdown",
		   "metadata": {},
		   "source": [
			"## Example 8.6: Problem6.sce"
		   ]
		  },
  {
"cell_type": "code",
	   "execution_count": null,
	   "metadata": {
	    "collapsed": true
	   },
	   "outputs": [],
"source": [
"R=60\n",
"V=6\n",
"Rs=2400\n",
"\n",
"a=sqrt(Rs/R)\n",
"disp(a)\n",
"\n",
"Pl_max=1/2*(R*R)/(Rs+Rs)\n",
"I1=V/2/Rs\n",
"\n",
"Il=I1*a\n",
"disp(Il)\n",
"Vl=V/2/a\n",
"disp(Vl)"
   ]
   }
,
{
		   "cell_type": "markdown",
		   "metadata": {},
		   "source": [
			"## Example 8.7: Problem7.sce"
		   ]
		  },
  {
"cell_type": "code",
	   "execution_count": null,
	   "metadata": {
	    "collapsed": true
	   },
	   "outputs": [],
"source": [
"f=50\n",
"a=1100/220\n",
"Rhv=0.125\n",
"Xhv=0.625\n",
"Rlv=0.005\n",
"Xlv=0.025\n",
"\n",
"Zhv=Rhv+%i*Xhv\n",
"Zlv=Rlv+%i*Xlv\n",
"\n",
"Z1=Zhv+a*a*Zlv\n",
"disp(Z1)\n",
"Z2=Z1/a/a\n",
"disp(Z2)\n",
"\n",
"Zpu1=Z1*0.05/1.1/1.1\n",
"disp(Zpu1)\n",
"Zpu2=Z2*0.05/0.22/0.22\n",
"disp(Zpu2)"
   ]
   }
,
{
		   "cell_type": "markdown",
		   "metadata": {},
		   "source": [
			"## Example 8.8: Problem8.sce"
		   ]
		  },
  {
"cell_type": "code",
	   "execution_count": null,
	   "metadata": {
	    "collapsed": true
	   },
	   "outputs": [],
"source": [
"P=600E3\n",
"a=2400/600\n",
"r1=0.05\n",
"r2=0.004\n",
"x1=0.025\n",
"x2=0.016\n",
"R1=1667\n",
"Xm=417\n",
"\n",
"/////As seen from the LV side\n",
"\n",
"Zlv=r2+%i*x2+1/a/a*(r1+%i*x1)\n",
"disp(Zlv)\n",
"\n",
"RiLV=R1/a/a\n",
"disp(RiLV)\n",
"XmLV=Xm/a/a\n",
"disp(XmLV)\n",
"\n",
"\n",
"Zpu=Zlv*0.6/0.6/0.6\n",
"disp(Zpu)\n",
"Ri=RiLV*0.6/0.6/0.6\n",
"disp(Ri)\n",
"Xm=XmLV*0.6/0.6/0.6\n",
"disp(Xm)"
   ]
   }
,
{
		   "cell_type": "markdown",
		   "metadata": {},
		   "source": [
			"## Example 8.9: Problem9.sce"
		   ]
		  },
  {
"cell_type": "code",
	   "execution_count": null,
	   "metadata": {
	    "collapsed": true
	   },
	   "outputs": [],
"source": [
"P=50E3\n",
"a=2200/220\n",
"\n",
"/////OC Parameters\n",
"Poc=405\n",
"Ioc=5\n",
"Voc=220\n",
"\n",
"/////SC Parameters\n",
"Psc=805\n",
"Isc=20.2\n",
"Vsc=95\n",
"\n",
"\n",
"Y0=Ioc/Voc\n",
"Gi=Poc/Voc/Voc\n",
"Bm=sqrt(Y0*Y0-Gi*Gi)\n",
"\n",
"Z=Vsc/Isc\n",
"R=Psc/Isc/Isc\n",
"X=sqrt(Z*Z-R*R)\n",
"\n",
"///////////Referred to HV side\n",
"GiHV=Gi/a/a\n",
"disp(GiHV)\n",
"BmHV=Bm/a/a\n",
"disp(BmHV)\n",
"disp(R)\n",
"disp(X)\n",
"\n",
"////////////Referred to LV side\n",
"disp(Gi)\n",
"disp(Bm)\n",
"RLV=R/a/a\n",
"disp(RLV)\n",
"XLV=X/a/a\n",
"disp(XLV)\n",
"\n",
"\n",
"//////////Per unit\n",
"GiPU=GiHV/0.0103\n",
"BmPU=BmHV/0.0103\n",
"RPU=R/96.8\n",
"XPU=X/96.8\n",
"disp(GiPU)\n",
"disp(BmPU)\n",
"disp(RPU)\n",
"disp(XPU)"
   ]
   }
],
"metadata": {
		  "kernelspec": {
		   "display_name": "Scilab",
		   "language": "scilab",
		   "name": "scilab"
		  },
		  "language_info": {
		   "file_extension": ".sce",
		   "help_links": [
			{
			 "text": "MetaKernel Magics",
			 "url": "https://github.com/calysto/metakernel/blob/master/metakernel/magics/README.md"
			}
		   ],
		   "mimetype": "text/x-octave",
		   "name": "scilab",
		   "version": "0.7.1"
		  }
		 },
		 "nbformat": 4,
		 "nbformat_minor": 0
}
