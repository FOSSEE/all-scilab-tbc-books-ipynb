{
"cells": [
 {
		   "cell_type": "markdown",
	   "metadata": {},
	   "source": [
       "# Chapter 11: Synchronous Machine"
	   ]
	},
{
		   "cell_type": "markdown",
		   "metadata": {},
		   "source": [
			"## Example 11.10: Problem10.sce"
		   ]
		  },
  {
"cell_type": "code",
	   "execution_count": null,
	   "metadata": {
	    "collapsed": true
	   },
	   "outputs": [],
"source": [
"P=10000\n",
"V=400\n",
"pf=0.8\n",
"Xs=16\n",
"theta=acos(pf)\n",
"Ia=P/sqrt(3)/V*exp(-%i*theta)\n",
"Vt=V/sqrt(3)\n",
"Ef=Vt+%i*Xs*Ia\n",
"disp(norm(Ef))\n",
"disp(atan(imag(Ef)/real(Ef))*180/%pi)\n",
"\n",
"Ef2=1.2*norm(Ef)\n",
"Pe=P*pf\n",
"delta=asin(norm(Pe/3*Xs/Ef2/Vt))\n",
"Ef2=Ef2*exp(%i*delta)\n",
"Ia=(Ef2-Vt)/%i/Xs       //calculation mistake in the book at this point\n",
"disp(norm(Ia))\n",
"pf=real(Ia)/norm(Ia)\n",
"disp(pf)\n",
"disp(acos(pf)*180/%pi)\n",
"\n",
"delta=%pi/2\n",
"Pemax=norm(3*Ef*Vt/Xs*sin(delta))\n",
"disp(Pemax)\n",
"Ef=norm(Ef)*%i\n",
"Ia=(Ef-Vt)/%i/Xs\n",
"disp(norm(Ia))\n",
"disp(real(Ia)/norm(Ia))"
   ]
   }
,
{
		   "cell_type": "markdown",
		   "metadata": {},
		   "source": [
			"## Example 11.11: Problem11.sce"
		   ]
		  },
  {
"cell_type": "code",
	   "execution_count": null,
	   "metadata": {
	    "collapsed": true
	   },
	   "outputs": [],
"source": [
"f=50\n",
"MechLoad=(8+0.5)*1000\n",
"Pein=MechLoad\n",
"Vt=231\n",
"Ef=750/sqrt(3)\n",
"Xs=16\n",
"delta=asin(Pein/3*Xs/Ef/Vt)\n",
"Ef=Ef*exp(-%i*delta)\n",
"Ia=(Vt-Ef)/%i/Xs\n",
"ns=120*50/4\n",
"ws=ns/60*2*%pi\n",
"Tdev=Pein/ws\n",
"Tshaft=8000/ws\n",
"disp(norm(Ia))\n",
"disp(real(Ia)/norm(Ia))\n",
"disp(acos(real(Ia)/norm(Ia))*180/%pi)\n",
"disp(Tdev)\n",
"disp(Tshaft)\n",
"\n",
"Ef=600/sqrt(3)\n",
"delta=0\n",
"Ia=(Vt-Ef)/%i/Xs\n",
"kVAR=sqrt(3)*400*norm(Ia)\n",
"disp(norm(Ia))\n",
"disp(real(Ia)/norm(Ia))\n",
"disp(kVAR)\n",
"C=norm(Ia)/Vt/2/%pi/f\n",
"\n",
"Ef=300/sqrt(3)\n",
"Ia=(Vt-Ef)/%i/Xs\n",
"kVAR=sqrt(3)*400*norm(Ia)\n",
"disp(norm(Ia))\n",
"disp(real(Ia)/norm(Ia))\n",
"disp(kVAR)\n",
"L=Vt/norm(Ia)/2/%pi/f\n",
"\n",
"kVAR=6000\n",
"Ia=kVAR/sqrt(3)/400*%i\n",
"Ef=Vt-%i*Xs*Ia\n",
"disp(Ef*sqrt(3))"
   ]
   }
,
{
		   "cell_type": "markdown",
		   "metadata": {},
		   "source": [
			"## Example 11.12: Problem12.sce"
		   ]
		  },
  {
"cell_type": "code",
	   "execution_count": null,
	   "metadata": {
	    "collapsed": true
	   },
	   "outputs": [],
"source": [
"P=1000000\n",
"V=6600\n",
"Xs=25\n",
"pf=0.8\n",
"theta=acos(pf)\n",
"Ia=P/sqrt(3)/V*exp(-%i*theta)\n",
"Vt=V/sqrt(3)\n",
"Ef=Vt+%i*Xs*Ia\n",
"delta=asin(norm(Xs*Ia*cos(theta)/Ef))\n",
"Vt=norm(Ia)*Xs*sin(%pi-asin(pf)-delta)/sin(delta)\n",
"Vl=Vt*sqrt(3)\n",
"disp(Vl)"
   ]
   }
,
{
		   "cell_type": "markdown",
		   "metadata": {},
		   "source": [
			"## Example 11.13: Problem13.sce"
		   ]
		  },
  {
"cell_type": "code",
	   "execution_count": null,
	   "metadata": {
	    "collapsed": true
	   },
	   "outputs": [],
"source": [
"\n",
"\n",
"Xs=8\n",
"Ia=40\n",
"V=600\n",
"Vt=V/sqrt(3)\n",
"Ef=V\n",
"\n",
"delta=acos((1-(Xs*Ia/V)^2+(Vt/V)^2)/2/Vt*V)\n",
"theta=-atan((cos(delta)-Vt/V)/sin(delta))\n",
"pf=cos(theta)\n",
"Pout=sqrt(3)*V*pf*Ia\n",
"disp(Pout)\n",
"\n",
"theta=-theta\n",
"Pin=Pout\n",
"disp(Pout)"
   ]
   }
,
{
		   "cell_type": "markdown",
		   "metadata": {},
		   "source": [
			"## Example 11.14: Problem14.sce"
		   ]
		  },
  {
"cell_type": "code",
	   "execution_count": null,
	   "metadata": {
	    "collapsed": true
	   },
	   "outputs": [],
"source": [
"\n",
"V=400\n",
"Vt=V/sqrt(3)\n",
"Ia=50\n",
"pf=1\n",
"theta=0\n",
"Xs=1.3\n",
"\n",
"Ef=Vt-%i*Xs*Ia\n",
"delta=atan(imag(Ef)/real(Ef))\n",
"disp(delta*180/%pi)\n",
"\n",
"Pelec=sqrt(3)*V*pf*Ia\n",
"Pmech=Pelec\n",
"pf=0.8\n",
"theta=acos(0.8)\n",
"Ia=Pelec/sqrt(3)/V/pf*exp(%i*theta)\n",
"Ef2=Vt-%i*Xs*Ia\n",
"If=0.9*norm(Ef2)/norm(Ef)\n",
"disp(If)"
   ]
   }
,
{
		   "cell_type": "markdown",
		   "metadata": {},
		   "source": [
			"## Example 11.15: Problem15.sce"
		   ]
		  },
  {
"cell_type": "code",
	   "execution_count": null,
	   "metadata": {
	    "collapsed": true
	   },
	   "outputs": [],
"source": [
"Xspu=0.8\n",
"P=1000000\n",
"V=3000\n",
"Xs=Xspu*V*V/P\n",
"\n",
"Vt=V/sqrt(3)\n",
"Pm=750000\n",
"Pe=Pm\n",
"pf=0.85\n",
"theta=acos(pf)\n",
"Ia=Pm/0.8/sqrt(3)/V*exp(-%i*theta)\n",
"\n",
"Ef=Vt-%i*Xs*Ia\n",
"Efline=sqrt(3)*norm(Ef)\n",
"disp(Efline)\n",
"\n",
"delta=%pi/2\n",
"Pmax=3*Vt*norm(Ef)/Xs\n",
"disp(Pmax)\n",
"ns=120*50/12\n",
"ws=ns*2*%pi/60\n",
"Tmax=Pmax/ws        //////calculation mistake in the book at this point\n",
"disp(Tmax)\n",
"\n",
"delta=90\n",
"Efmin=Pm/3*Xs/Vt\n",
"Efmin_line=sqrt(3)*Efmin\n",
"disp(Efmin_line)\n",
"\n",
"Ia=(Vt+%i*Efmin)/%i/Xs\n",
"disp(norm(Ia))\n",
"pf=real(Ia)/norm(Ia)\n",
"disp(pf)"
   ]
   }
,
{
		   "cell_type": "markdown",
		   "metadata": {},
		   "source": [
			"## Example 11.1: Problem1.sce"
		   ]
		  },
  {
"cell_type": "code",
	   "execution_count": null,
	   "metadata": {
	    "collapsed": true
	   },
	   "outputs": [],
"source": [
"P=1000000\n",
"Vrated=6600\n",
"If=60\n",
"Xs_unsat=4700/sqrt(3)/98\n",
"disp(Xs_unsat)\n",
"Xs_adj=Vrated/sqrt(3)/143\n",
"disp(Xs_adj)\n",
"\n",
"Ia=P/sqrt(3)/Vrated\n",
"pf=0.8\n",
"theta=-acos(pf)\n",
"Ia=Ia*(exp(%i*theta))\n",
"Ef=norm(Vrated+%i*Xs_adj*Ia*sqrt(3))\n",
"disp(Ef)\n",
"VR=Ef/Vrated-1\n",
"disp(VR)"
   ]
   }
,
{
		   "cell_type": "markdown",
		   "metadata": {},
		   "source": [
			"## Example 11.2: Problem2.sce"
		   ]
		  },
  {
"cell_type": "code",
	   "execution_count": null,
	   "metadata": {
	    "collapsed": true
	   },
	   "outputs": [],
"source": [
"P=45000\n",
"V=440\n",
"pf=0.8\n",
"Ia=P/sqrt(3)/V*exp(%i*acos(pf))\n",
"Vt=V/sqrt(3)\n",
"Rs=0.2\n",
"Xs=1.8\n",
"Ef=norm(Vt-Ia*(Rs+%i*Xs))\n",
"If=Ef/85\n",
"Pein=pf*P\n",
"Rf=35\n",
"Fl=If*If*Rf\n",
"Pin=Pein+Fl\n",
"Pcu=norm(3*Ia*Ia*Rs)\n",
"Pshaft=Pein-Pcu\n",
"Prl=1500\n",
"Pshaft_net=Pshaft-Prl\n",
"effi=Pshaft_net/Pin\n",
"\n",
"disp(Pshaft_net)\n",
"disp(If)\n",
"disp(effi)"
   ]
   }
,
{
		   "cell_type": "markdown",
		   "metadata": {},
		   "source": [
			"## Example 11.3: Problem3.sce"
		   ]
		  },
  {
"cell_type": "code",
	   "execution_count": null,
	   "metadata": {
	    "collapsed": true
	   },
	   "outputs": [],
"source": [
"V=12500\n",
"Xs=8\n",
"\n",
"Vt=V/sqrt(3)\n",
"Ef=Vt\n",
"\n",
"Ef=Vt*1.2\n",
"Ia=(Ef-Vt)/Xs\n",
"theta=%pi/2\n",
"pf=0\n",
"Pe=0\n",
"Qe=-sqrt(3)*V*Ia\n",
"disp(Ia)\n",
"disp(Pe)\n",
"disp(Qe)\n",
"disp(pf)\n",
"\n",
"Ef=Vt*0.8\n",
"Ia=(Vt-Ef)/Xs\n",
"theta=-%pi/2\n",
"pf=0\n",
"Pe=0\n",
"Qe=sqrt(3)*V*Ia\n",
"disp(Ia)\n",
"disp(Pe)\n",
"disp(Qe)\n",
"disp(pf)"
   ]
   }
,
{
		   "cell_type": "markdown",
		   "metadata": {},
		   "source": [
			"## Example 11.4: Problem4.sce"
		   ]
		  },
  {
"cell_type": "code",
	   "execution_count": null,
	   "metadata": {
	    "collapsed": true
	   },
	   "outputs": [],
"source": [
"Pe=10000000\n",
"V=12500\n",
"Xs=8\n",
"Vt=V/sqrt(3)\n",
"Ef=Vt*1.2\n",
"\n",
"delta=asin(Pe/3/Vt/Ef*Xs)\n",
"Ia=(Ef*exp(%i*delta)-Vt)/%i/Xs\n",
"pf=real(Ia)/norm(Ia)\n",
"Qe=-sqrt(3)*V*imag(Ia)\n",
"\n",
"disp(norm(Ia))\n",
"disp(pf)\n",
"disp(Qe)"
   ]
   }
,
{
		   "cell_type": "markdown",
		   "metadata": {},
		   "source": [
			"## Example 11.5: Problem5.sce"
		   ]
		  },
  {
"cell_type": "code",
	   "execution_count": null,
	   "metadata": {
	    "collapsed": true
	   },
	   "outputs": [],
"source": [
"\n",
"Pein=1000000\n",
"pf=0.9\n",
"Xs=3.24\n",
"theta=acos(pf)\n",
"V=3300\n",
"Ia=Pein/sqrt(3)/pf/V*exp(%i*theta)\n",
"Vt=V/sqrt(3)\n",
"Ef=norm(Vt-%i*Ia*Xs)\n",
"Pemax=3*Vt*Ef/Xs\n",
"Ia=(Vt+Ef*%i)/%i/Xs\n",
"Qe=-sqrt(3)*V*imag(Ia)\n",
"\n",
"disp(Pemax)\n",
"disp(norm(Ia))\n",
"disp(real(Ia)/norm(Ia))\n",
"disp(Qe)"
   ]
   }
,
{
		   "cell_type": "markdown",
		   "metadata": {},
		   "source": [
			"## Example 11.6: Problem6.sce"
		   ]
		  },
  {
"cell_type": "code",
	   "execution_count": null,
	   "metadata": {
	    "collapsed": true
	   },
	   "outputs": [],
"source": [
"Pe=20000\n",
"Pm=20000\n",
"V=400\n",
"pf=0.8\n",
"Xs=4.5\n",
"Ia=Pm/sqrt(3)/V/pf*exp(%i*acos(pf))\n",
"Vt=V/sqrt(3)\n",
"Ef=Vt-%i*Ia*Xs      ///calculation mistake in the book at this step\n",
"Efline=norm(Ef)*sqrt(3)\n",
"disp(Efline)\n",
"disp(atan(imag(Ef)/real(Ef)))\n",
"\n",
"delta=-%pi/2\n",
"Efmin=Pe/3*Xs/Vt*sin(-delta)\n",
"Efminline=Efmin*sqrt(3)\n",
"disp(Efminline)\n",
"disp(delta/%pi*180)\n",
"Ia=(Vt+%i*Efmin)/%i/Xs\n",
"disp(norm(Ia))\n",
"disp(real(Ia)/norm(Ia))"
   ]
   }
,
{
		   "cell_type": "markdown",
		   "metadata": {},
		   "source": [
			"## Example 11.7: Problem7.sce"
		   ]
		  },
  {
"cell_type": "code",
	   "execution_count": null,
	   "metadata": {
	    "collapsed": true
	   },
	   "outputs": [],
"source": [
"f=50\n",
"ns=100\n",
"P=110000\n",
"pf=0.8\n",
"\n",
"p=120*f/ns\n",
"disp(p)\n",
"kVA=P/pf/1000\n",
"disp(kVA)\n",
"kW=P/0.971/1000\n",
"disp(kW)\n",
"Tpm=kW*1000*60/2/%pi/ns\n",
"disp(Tpm)"
   ]
   }
,
{
		   "cell_type": "markdown",
		   "metadata": {},
		   "source": [
			"## Example 11.8: Problem8.sce"
		   ]
		  },
  {
"cell_type": "code",
	   "execution_count": null,
	   "metadata": {
	    "collapsed": true
	   },
	   "outputs": [],
"source": [
"P=12E6\n",
"Q=6E6\n",
"V=22000\n",
"Xs=8\n",
"S=P+%i*Q\n",
"theta=atan(Q/P)\n",
"disp(theta/%pi*180)\n",
"\n",
"Ia=norm(S)/sqrt(3)/V\n",
"Ef=V/sqrt(3)+%i*Xs*Ia*exp(-%i*theta)\n",
"delta=atan(imag(Ef)/real(Ef))\n",
"disp(delta/%pi*180)\n",
"\n",
"emf=norm(Ef)*sqrt(3)\n",
"disp(emf)"
   ]
   }
,
{
		   "cell_type": "markdown",
		   "metadata": {},
		   "source": [
			"## Example 11.9: Problem9.sce"
		   ]
		  },
  {
"cell_type": "code",
	   "execution_count": null,
	   "metadata": {
	    "collapsed": true
	   },
	   "outputs": [],
"source": [
"Isc=60\n",
"If=50\n",
"\n",
"Voc=15300\n",
"Isc=60\n",
"Xs_unsat=Voc/sqrt(3)/Isc\n",
"disp(Xs_unsat)\n",
"\n",
"V=11000\n",
"Isc=67.5\n",
"Xs_sat=V/sqrt(3)/Isc\n",
"disp(Xs_sat)\n",
"\n",
"pf=0.85\n",
"theta=acos(pf)\n",
"Ia=50*exp(-%i*theta)\n",
"Vt=11000\n",
"Vl=Vt/sqrt(3)\n",
"Ef=Vl+%i*Xs_sat*Ia\n",
"Efline=norm(Ef)*sqrt(3)\n",
"disp(Efline)\n",
"\n",
"Voc=Efline\n",
"VR=Voc/Vt-1\n",
"disp(VR)\n",
"If=57.5\n",
"disp(If)\n",
"\n",
"\n",
"\n",
""
   ]
   }
],
"metadata": {
		  "kernelspec": {
		   "display_name": "Scilab",
		   "language": "scilab",
		   "name": "scilab"
		  },
		  "language_info": {
		   "file_extension": ".sce",
		   "help_links": [
			{
			 "text": "MetaKernel Magics",
			 "url": "https://github.com/calysto/metakernel/blob/master/metakernel/magics/README.md"
			}
		   ],
		   "mimetype": "text/x-octave",
		   "name": "scilab",
		   "version": "0.7.1"
		  }
		 },
		 "nbformat": 4,
		 "nbformat_minor": 0
}
