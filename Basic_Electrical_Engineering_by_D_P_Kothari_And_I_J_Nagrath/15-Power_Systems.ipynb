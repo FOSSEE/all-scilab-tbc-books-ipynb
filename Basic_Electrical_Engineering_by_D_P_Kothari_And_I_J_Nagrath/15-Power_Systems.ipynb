{
"cells": [
 {
		   "cell_type": "markdown",
	   "metadata": {},
	   "source": [
       "# Chapter 15: Power Systems"
	   ]
	},
{
		   "cell_type": "markdown",
		   "metadata": {},
		   "source": [
			"## Example 15.1: Problem1.sce"
		   ]
		  },
  {
"cell_type": "code",
	   "execution_count": null,
	   "metadata": {
	    "collapsed": true
	   },
	   "outputs": [],
"source": [
"V1=250\n",
"V2=480\n",
"Vol2_by_Vol1=V1/V2\n",
"\n",
"sav=(1-Vol2_by_Vol1)*100\n",
"disp(sav)"
   ]
   }
,
{
		   "cell_type": "markdown",
		   "metadata": {},
		   "source": [
			"## Example 15.2: Problem2.sce"
		   ]
		  },
  {
"cell_type": "code",
	   "execution_count": null,
	   "metadata": {
	    "collapsed": true
	   },
	   "outputs": [],
"source": [
"P=5E6\n",
"pf=0.85\n",
"V=33000\n",
"l=50000\n",
"rho=3E-8\n",
"Pt=P*pf\n",
"Pl=Pt*0.1\n",
"I=P/V\n",
"A1=2*I*I*rho*l/Pl\n",
"Vol1=2*l*A1\n",
"disp(Vol1)\n",
"\n",
"Il=P/sqrt(3)/V\n",
"A2=3*Il*Il*rho*l/Pl\n",
"Vol2=3*l*A2\n",
"disp(Vol2)"
   ]
   }
,
{
		   "cell_type": "markdown",
		   "metadata": {},
		   "source": [
			"## Example 15.3: Problem3.sce"
		   ]
		  },
  {
"cell_type": "code",
	   "execution_count": null,
	   "metadata": {
	    "collapsed": true
	   },
	   "outputs": [],
"source": [
"f=50\n",
"w=2*%pi*f\n",
"I=0.8\n",
"V=220\n",
"P=75\n",
"phi=acos(P/V/I)\n",
"\n",
"phi_new=acos(0.9)\n",
"Ic=I*cos(phi)*(tan(phi)-tan(phi_new))\n",
"C=Ic/V/w\n",
"disp(C)\n",
"\n",
"phi_new=acos(1)\n",
"Ic=I*cos(phi)*(tan(phi)-tan(phi_new))\n",
"C=Ic/V/w\n",
"disp(C)"
   ]
   }
,
{
		   "cell_type": "markdown",
		   "metadata": {},
		   "source": [
			"## Example 15.4: Problem4.sce"
		   ]
		  },
  {
"cell_type": "code",
	   "execution_count": null,
	   "metadata": {
	    "collapsed": true
	   },
	   "outputs": [],
"source": [
"Cond_cost=100\n",
"charge=60\n",
"phi2=asin(0.1*Cond_cost/charge)\n",
"pf=cos(phi2)\n",
"disp(pf)"
   ]
   }
,
{
		   "cell_type": "markdown",
		   "metadata": {},
		   "source": [
			"## Example 15.5: Problem5.sce"
		   ]
		  },
  {
"cell_type": "code",
	   "execution_count": null,
	   "metadata": {
	    "collapsed": true
	   },
	   "outputs": [],
"source": [
"\n",
"Oc=400000\n",
"pf1=0.8\n",
"phi1=acos(pf1)\n",
"ab=Oc/cos(phi1)*sin(phi1)\n",
"pf2=0.25\n",
"phi3=acos(pf2)\n",
"pf2=0.484\n",
"\n",
"gammaa=(ab-pf2*Oc)/(pf2*cos(phi3)+sin(phi3))\n",
"disp(gammaa)"
   ]
   }
,
{
		   "cell_type": "markdown",
		   "metadata": {},
		   "source": [
			"## Example 15.6: Problem6.sce"
		   ]
		  },
  {
"cell_type": "code",
	   "execution_count": null,
	   "metadata": {
	    "collapsed": true
	   },
	   "outputs": [],
"source": [
"f=50\n",
"w=2*%pi*f\n",
"P=2E6\n",
"V=11000\n",
"pf=0.8\n",
"phi=acos(pf)\n",
"Xl=10\n",
"IR=P/sqrt(3)/V/pf\n",
"Vr=V/sqrt(3)\n",
"Vs=Vr+IR*Xl*sin(phi)\n",
"Vsll=Vs*sqrt(3)\n",
"disp(Vsll)\n",
"VR=Vsll/V-1\n",
"disp(VR)\n",
"\n",
"pf=1\n",
"disp(pf)\n",
"Qc=P*tan(phi)\n",
"C=Qc/V/V/w\n",
"disp(C)"
   ]
   }
,
{
		   "cell_type": "markdown",
		   "metadata": {},
		   "source": [
			"## Example 15.7: Problem7.sce"
		   ]
		  },
  {
"cell_type": "code",
	   "execution_count": null,
	   "metadata": {
	    "collapsed": true
	   },
	   "outputs": [],
"source": [
"f=50\n",
"w=2*%pi*f\n",
"V=33000\n",
"Vr=V/sqrt(3)\n",
"P=24E6/3\n",
"pf=0.8\n",
"phi=acos(pf)\n",
"Ia=P/Vr/pf\n",
"Rl=4\n",
"Xl=20\n",
"Vs=Vr+Ia*(Xl*sin(phi)+Rl*cos(phi))\n",
"Vsll=sqrt(3)*Vs\n",
"VR=Vsll/V-1\n",
"disp(Vsll)\n",
"Ia=Ia*exp(-%i*phi)\n",
"disp(norm(Ia))\n",
"\n",
"phi1=atan(-Rl/Xl)\n",
"pf=cos(phi1)\n",
"Ia1=P/Vr/pf\n",
"Ia1=Ia1*exp(-%i*phi1)       ////calculation mistake in the book at this step\n",
"\n",
"Ic=Ia1-Ia\n",
"C=norm(Ic/w/Vr)\n",
"disp(C)\n",
"\n",
"LL1=norm(Ia*Ia*Rl)\n",
"effi1=P/(P+LL1)\n",
"LL2=norm(Ia1*Ia1*Rl)\n",
"effi2=P/(P+LL2)\n",
"disp(effi1)\n",
"disp(effi2)"
   ]
   }
],
"metadata": {
		  "kernelspec": {
		   "display_name": "Scilab",
		   "language": "scilab",
		   "name": "scilab"
		  },
		  "language_info": {
		   "file_extension": ".sce",
		   "help_links": [
			{
			 "text": "MetaKernel Magics",
			 "url": "https://github.com/calysto/metakernel/blob/master/metakernel/magics/README.md"
			}
		   ],
		   "mimetype": "text/x-octave",
		   "name": "scilab",
		   "version": "0.7.1"
		  }
		 },
		 "nbformat": 4,
		 "nbformat_minor": 0
}
