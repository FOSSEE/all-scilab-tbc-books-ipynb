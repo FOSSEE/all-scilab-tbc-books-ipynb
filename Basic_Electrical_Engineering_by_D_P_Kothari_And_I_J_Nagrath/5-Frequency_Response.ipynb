{
"cells": [
 {
		   "cell_type": "markdown",
	   "metadata": {},
	   "source": [
       "# Chapter 5: Frequency Response"
	   ]
	},
{
		   "cell_type": "markdown",
		   "metadata": {},
		   "source": [
			"## Example 5.10: Problem10.sce"
		   ]
		  },
  {
"cell_type": "code",
	   "execution_count": null,
	   "metadata": {
	    "collapsed": true
	   },
	   "outputs": [],
"source": [
"C=2.5E-6\n",
"R=8\n",
"wb=400\n",
"\n",
"L=R/wb\n",
"w0=1/sqrt(L*C)\n",
"Q0=w0*L/R\n",
"w1=w0-wb/2\n",
"w2=w0+wb/2\n",
"\n",
"disp(w2,w1,Q0,w0,L)"
   ]
   }
,
{
		   "cell_type": "markdown",
		   "metadata": {},
		   "source": [
			"## Example 5.11: Problem11.sce"
		   ]
		  },
  {
"cell_type": "code",
	   "execution_count": null,
	   "metadata": {
	    "collapsed": true
	   },
	   "outputs": [],
"source": [
"w=1E6\n",
"wb=1000\n",
"V=0.05\n",
"I=5E-3\n",
"\n",
"R=V/I\n",
"Q0=w0/wb\n",
"L=R*Q0/w0\n",
"C=1/(w0*w0*L)\n",
"Vl=w0*L*I\n",
"Vc=Vl\n",
"w1=w0-wb/2\n",
"w2=w0+wb/2\n",
"\n",
"disp(w2,w1,Vc,Vl,C,L,Q0,R)"
   ]
   }
,
{
		   "cell_type": "markdown",
		   "metadata": {},
		   "source": [
			"## Example 5.12: Problem12.sce"
		   ]
		  },
  {
"cell_type": "code",
	   "execution_count": null,
	   "metadata": {
	    "collapsed": true
	   },
	   "outputs": [],
"source": [
"R=1E6\n",
"L=1\n",
"C=1E-6\n",
"I=10E-6\n",
"\n",
"w0=1/sqrt(L*C)\n",
"V=I*R\n",
"\n",
"wb=1/(R*C)\n",
"Q0=w0/wb\n",
"w1=w0-wb/2\n",
"w2=w0+wb/2\n",
"\n",
"disp(w2,w1,V,Q0,w0)"
   ]
   }
,
{
		   "cell_type": "markdown",
		   "metadata": {},
		   "source": [
			"## Example 5.13: Problem13.sce"
		   ]
		  },
  {
"cell_type": "code",
	   "execution_count": null,
	   "metadata": {
	    "collapsed": true
	   },
	   "outputs": [],
"source": [
"f0=1E6\n",
"Cmax=500E-12\n",
"C=450E-12\n",
"w0=2*%pi*f\n",
"\n",
"L=1/(w0*w0*Cmax)\n",
"\n",
"w=1/sqrt(L*C)\n",
"f=w/(2*%pi)\n",
"wb=2*2*%pi*(f-f0)\n",
"r=wb*L\n",
"Q0=2*%pi*f*L/r\n",
"\n",
"disp(Q0,L,r)\n",
"\n",
"////////calculation mistakes in book"
   ]
   }
,
{
		   "cell_type": "markdown",
		   "metadata": {},
		   "source": [
			"## Example 5.14: Problem14.sce"
		   ]
		  },
  {
"cell_type": "code",
	   "execution_count": null,
	   "metadata": {
	    "collapsed": true
	   },
	   "outputs": [],
"source": [
"R=10E3\n",
"L=50E-3\n",
"C=100E-6\n",
"\n",
"w0=1/sqrt(L*C)\n",
"Q0=w0*R*C\n",
"alpha=w0/2/Q0\n",
"zeta=alpha/w0\n",
"wd=w0*sqrt(1-zeta^2)\n",
"\n",
"disp(wd,zeta,alpha,Q0,w0)\n",
"\n",
"//////////calculation mistakes in the book"
   ]
   }
,
{
		   "cell_type": "markdown",
		   "metadata": {},
		   "source": [
			"## Example 5.15: Problem15.sce"
		   ]
		  },
  {
"cell_type": "code",
	   "execution_count": null,
	   "metadata": {
	    "collapsed": true
	   },
	   "outputs": [],
"source": [
"w0=1000\n",
"wd=997\n",
"Yin=1.2E-3\n",
"\n",
"zeta=sqrt(1-(wd/w0)^2)\n",
"alpha=zeta*w0\n",
"R=1/Yin\n",
"C=1/(2*alpha*R)\n",
"L=1/(w0*w0*C)\n",
"\n",
"disp(C,L,R)"
   ]
   }
,
{
		   "cell_type": "markdown",
		   "metadata": {},
		   "source": [
			"## Example 5.17: Problem17.sce"
		   ]
		  },
  {
"cell_type": "code",
	   "execution_count": null,
	   "metadata": {
	    "collapsed": true
	   },
	   "outputs": [],
"source": [
"I=1\n",
"w=400\n",
"R=500\n",
"L=1/40\n",
"C=250E-6\n",
"Xl=w*L*%i\n",
"Xc=1/(w*C*%i)\n",
"\n",
"w0=1/sqrt(L*C)\n",
"////////at resonance\n",
"Ir=I\n",
"V=R*I\n",
"Il=V/Xl\n",
"Ic=V/Xc\n",
"Icir=abs(Il)\n",
"Ic+Il=0\n",
"Icl=Ic+Il\n",
"\n",
"disp(Icl,Ic,Il,Ir)"
   ]
   }
,
{
		   "cell_type": "markdown",
		   "metadata": {},
		   "source": [
			"## Example 5.18: Problem18.sce"
		   ]
		  },
  {
"cell_type": "code",
	   "execution_count": null,
	   "metadata": {
	    "collapsed": true
	   },
	   "outputs": [],
"source": [
"V=100\n",
"R=10\n",
"L=2E-3\n",
"C=200E-6\n",
"\n",
"w0=1/sqrt(L*C)\n",
"Xl=w0*L*%i\n",
"Xc=1/(w0*C*%i)\n",
"I=V/R\n",
"\n",
"Vl=I*Xl\n",
"Vc=I*Xc\n",
"Vlc=Vl+Vc\n",
"\n",
"disp(Vlc,Vc,Vl,I,w0)"
   ]
   }
,
{
		   "cell_type": "markdown",
		   "metadata": {},
		   "source": [
			"## Example 5.19: Problem19.sce"
		   ]
		  },
  {
"cell_type": "code",
	   "execution_count": null,
	   "metadata": {
	    "collapsed": true
	   },
	   "outputs": [],
"source": [
"R=1\n",
"L=10E-6\n",
"C=10E-12\n",
"V=10\n",
"\n",
"\n",
"w0=1/sqrt(L*C)\n",
"Xl=w0*L*%i\n",
"Xc=1/(w0*C*%i)\n",
"\n",
"Q0=w0*L/R\n",
"Z=R*Q0*Q0\n",
"Iin=V/Z\n",
"\n",
"Ic=V/Xc\n",
"\n",
"disp(Ic,Iin,Z,Q0,w0)"
   ]
   }
,
{
		   "cell_type": "markdown",
		   "metadata": {},
		   "source": [
			"## Example 5.1: Problem1.sce"
		   ]
		  },
  {
"cell_type": "code",
	   "execution_count": null,
	   "metadata": {
	    "collapsed": true
	   },
	   "outputs": [],
"source": [
"Q0=200\n",
"//a\n",
"R=1\n",
"C=2E-6\n",
"L=C/(Q0/R)^2\n",
"disp(L)\n",
"L=2E-15\n",
"C=1.2E-9\n",
"R=Q0*sqrt(L/C)\n",
"disp(R)\n",
"R=118500\n",
"L=120E-12\n",
"C=L*(Q0/R)^2\n",
"disp(C)"
   ]
   }
,
{
		   "cell_type": "markdown",
		   "metadata": {},
		   "source": [
			"## Example 5.20: Problem20.sce"
		   ]
		  },
  {
"cell_type": "code",
	   "execution_count": null,
	   "metadata": {
	    "collapsed": true
	   },
	   "outputs": [],
"source": [
"V=200\n",
"R=2\n",
"L=0.02\n",
"\n",
"f=25\n",
"w0=2*%pi*f\n",
"C=1/(w0*w0*L)\n",
"I=V/2\n",
"Vc=1/(C*w0)\n",
"disp(I,Vc)\n",
"\n",
"f=50\n",
"w0=2*%pi*f\n",
"C=1/(w0*w0*L)\n",
"I=V/2\n",
"Vc=1/(C*w0)\n",
"disp(I,Vc)\n",
"\n",
"f=100\n",
"w0=2*%pi*f\n",
"C=1/(w0*w0*L)\n",
"I=V/2\n",
"Vc=1/(C*w0)\n",
"disp(I,Vc)"
   ]
   }
,
{
		   "cell_type": "markdown",
		   "metadata": {},
		   "source": [
			"## Example 5.21: Problem21.sce"
		   ]
		  },
  {
"cell_type": "code",
	   "execution_count": null,
	   "metadata": {
	    "collapsed": true
	   },
	   "outputs": [],
"source": [
"R=10\n",
"L=0.1\n",
"C=150E-6\n",
"\n",
"w=sqrt((1+R*R*C/L)/(L*C))\n",
"f=w/(2*%pi)\n",
"\n",
"disp(f)\n",
"Req=R/(1-w*w*L*C+(w*R*C)^2)\n",
"disp(Req)"
   ]
   }
,
{
		   "cell_type": "markdown",
		   "metadata": {},
		   "source": [
			"## Example 5.22: Problem22.sce"
		   ]
		  },
  {
"cell_type": "code",
	   "execution_count": null,
	   "metadata": {
	    "collapsed": true
	   },
	   "outputs": [],
"source": [
"R=35\n",
"Q0=50\n",
"f1=540E3\n",
"f2=1610E3\n",
"w1=2*%pi*f1\n",
"w2=2*%pi*f2\n",
"\n",
"\n",
"L=1/(w1*(Q0/R))\n",
"Cmax=(Q0/R)^2*L\n",
"Cmin=1/(L*w2^2)\n",
"\n",
"disp(Cmin*1000000,Cmax*1000000,L*1000000)"
   ]
   }
,
{
		   "cell_type": "markdown",
		   "metadata": {},
		   "source": [
			"## Example 5.28: Problem28.sce"
		   ]
		  },
  {
"cell_type": "code",
	   "execution_count": null,
	   "metadata": {
	    "collapsed": true
	   },
	   "outputs": [],
"source": [
"function [x,y]=polar_to_cart(r,theta)\n",
"    theta=theta/180*%pi\n",
"    x=r*cos(theta)\n",
"    y=r*sin(theta)\n",
"endfunction\n",
"\n",
"[Vr,Vc]=polar_to_cart(4,30)\n",
"V=complex(Vr,Vc)\n",
"\n",
"[Ir,Ic]=polar_to_cart(0.8,-10)\n",
"I=complex(Ir,Ic)\n",
"\n",
"wv=3\n",
"wi=5\n",
"R1=1\n",
"L=2\n",
"R6=6\n",
"C=1/3\n",
"\n",
"//////////deactivating curr source\n",
"Xl=wv*L*%i\n",
"Xc=1/(wv*C*%i)\n",
"Il1=V/(R1+R6+Xl+Xc)\n",
"Pav1=norm(Il1)^2*R1\n",
"\n",
"//////////deactivating voltage source\n",
"Xl=wi*L*%i\n",
"Xc=1/(wi*C*%i)\n",
"Il2=I*(R6+Xl)/(R6+Xl+R1+Xc)\n",
"Pav2=norm(Il2)^2*R1\n",
"\n",
"Pav=Pav1+Pav2\n",
"\n",
"disp(Pav)"
   ]
   }
,
{
		   "cell_type": "markdown",
		   "metadata": {},
		   "source": [
			"## Example 5.29: Problem29.sce"
		   ]
		  },
  {
"cell_type": "code",
	   "execution_count": null,
	   "metadata": {
	    "collapsed": true
	   },
	   "outputs": [],
"source": [
"L=10E-6\n",
"R=1\n",
"C=10E-9\n",
"V=10\n",
"\n",
"Zmax=L/R/C\n",
"I=V/Zmax\n",
"w0=1/sqrt(L*C)\n",
"w=0.9*w0\n",
"\n",
"Y=R*C/L+%i*(w*C-1/w/L)\n",
"I=norm(Y)*V\n",
"\n",
"disp(I)"
   ]
   }
,
{
		   "cell_type": "markdown",
		   "metadata": {},
		   "source": [
			"## Example 5.2: Problem2.sce"
		   ]
		  },
  {
"cell_type": "code",
	   "execution_count": null,
	   "metadata": {
	    "collapsed": true
	   },
	   "outputs": [],
"source": [
"R=1000\n",
"C=49E-6\n",
"L=13E-3\n",
"\n",
"w0=1/sqrt(L*C)\n",
"Q0=w0*R*C\n",
"\n",
"disp(Q0,w0)"
   ]
   }
,
{
		   "cell_type": "markdown",
		   "metadata": {},
		   "source": [
			"## Example 5.3: Problem3.sce"
		   ]
		  },
  {
"cell_type": "code",
	   "execution_count": null,
	   "metadata": {
	    "collapsed": true
	   },
	   "outputs": [],
"source": [
"R=5\n",
"C=0.08E-6\n",
"L=5E-3\n",
"\n",
"w0=1/sqrt(L*C)\n",
"f0=w0/2/%pi\n",
"Q0=w0*L/R\n",
"bandwidth=w0/Q0\n",
"wb=bandwidth\n",
"w=[w0-1/2*wb,w0+1/2*wb]\n",
"\n",
"disp(w(2),w(1))"
   ]
   }
,
{
		   "cell_type": "markdown",
		   "metadata": {},
		   "source": [
			"## Example 5.4: Problem4.sce"
		   ]
		  },
  {
"cell_type": "code",
	   "execution_count": null,
	   "metadata": {
	    "collapsed": true
	   },
	   "outputs": [],
"source": [
"L=40E-6\n",
"R=4.02\n",
"f0=800E3\n",
"\n",
"w0=2*%pi*f0\n",
"C=1/(w0*w0*L)\n",
"Q0=w0*L/R\n",
"fb=f0/Q0\n",
"\n",
"Xl=w0*L*%i\n",
"Xc=1/(w0*C*%i)\n",
"Zin=R+Xl+Xc\n",
"\n",
"disp(Zin,fb,C)"
   ]
   }
,
{
		   "cell_type": "markdown",
		   "metadata": {},
		   "source": [
			"## Example 5.5: Problem5.sce"
		   ]
		  },
  {
"cell_type": "code",
	   "execution_count": null,
	   "metadata": {
	    "collapsed": true
	   },
	   "outputs": [],
"source": [
"G=5E-6\n",
"L=2E-3\n",
"I=2E-3\n",
"w=5000\n",
"\n",
"C=1/(w*w*L)\n",
"Vmax=I/G\n",
"Il=1\n",
"I=Il*w*L*G\n",
"\n",
"disp(I,Vmax,C)"
   ]
   }
,
{
		   "cell_type": "markdown",
		   "metadata": {},
		   "source": [
			"## Example 5.6: Problem6.sce"
		   ]
		  },
  {
"cell_type": "code",
	   "execution_count": null,
	   "metadata": {
	    "collapsed": true
	   },
	   "outputs": [],
"source": [
"w0=1000\n",
"w2=1050\n",
"wb=2*(w2-w0)\n",
"\n",
"Q0=w0/wb\n",
"disp(Q0)"
   ]
   }
,
{
		   "cell_type": "markdown",
		   "metadata": {},
		   "source": [
			"## Example 5.7: Problem7.sce"
		   ]
		  },
  {
"cell_type": "code",
	   "execution_count": null,
	   "metadata": {
	    "collapsed": true
	   },
	   "outputs": [],
"source": [
"w0=200E3\n",
"wb=5E3\n",
"L=2.5E-3\n",
"Q=65\n",
"\n",
"Q0=w0/wb\n",
"r=w0*L/Q\n",
"\n",
"disp(r)"
   ]
   }
,
{
		   "cell_type": "markdown",
		   "metadata": {},
		   "source": [
			"## Example 5.8: Problem8.sce"
		   ]
		  },
  {
"cell_type": "code",
	   "execution_count": null,
	   "metadata": {
	    "collapsed": true
	   },
	   "outputs": [],
"source": [
"C=12E-9\n",
"L=4E-3\n",
"R=5\n",
"\n",
"w0=1/sqrt(L*C)\n",
"\n",
"Vc=1.5\n",
"I=w0*C*Vc\n",
"Zi=R\n",
"Vi=R*I\n",
"\n",
"disp(Vi,w0)"
   ]
   }
,
{
		   "cell_type": "markdown",
		   "metadata": {},
		   "source": [
			"## Example 5.9: Problem9.sce"
		   ]
		  },
  {
"cell_type": "code",
	   "execution_count": null,
	   "metadata": {
	    "collapsed": true
	   },
	   "outputs": [],
"source": [
"w0=2.5E6\n",
"Zin=60E3\n",
"Q0=80\n",
"\n",
"R=60E3\n",
"C=Q0/(w0*R)\n",
"L=1/(C*w0*w0)\n",
"\n",
"disp(C,L,R)"
   ]
   }
],
"metadata": {
		  "kernelspec": {
		   "display_name": "Scilab",
		   "language": "scilab",
		   "name": "scilab"
		  },
		  "language_info": {
		   "file_extension": ".sce",
		   "help_links": [
			{
			 "text": "MetaKernel Magics",
			 "url": "https://github.com/calysto/metakernel/blob/master/metakernel/magics/README.md"
			}
		   ],
		   "mimetype": "text/x-octave",
		   "name": "scilab",
		   "version": "0.7.1"
		  }
		 },
		 "nbformat": 4,
		 "nbformat_minor": 0
}
