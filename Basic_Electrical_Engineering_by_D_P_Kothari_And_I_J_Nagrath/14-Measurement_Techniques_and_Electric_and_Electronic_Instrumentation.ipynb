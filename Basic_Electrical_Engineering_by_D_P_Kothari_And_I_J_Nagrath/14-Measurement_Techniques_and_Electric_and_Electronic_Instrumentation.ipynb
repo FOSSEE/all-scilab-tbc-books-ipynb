{
"cells": [
 {
		   "cell_type": "markdown",
	   "metadata": {},
	   "source": [
       "# Chapter 14: Measurement Techniques and Electric and Electronic Instrumentation"
	   ]
	},
{
		   "cell_type": "markdown",
		   "metadata": {},
		   "source": [
			"## Example 14.10: Problem10.sce"
		   ]
		  },
  {
"cell_type": "code",
	   "execution_count": null,
	   "metadata": {
	    "collapsed": true
	   },
	   "outputs": [],
"source": [
"f=100E3\n",
"w=2*%pi*f\n",
"C=400E-12\n",
"\n",
"L=1/C/w/w\n",
"disp(L)"
   ]
   }
,
{
		   "cell_type": "markdown",
		   "metadata": {},
		   "source": [
			"## Example 14.11: Problem11.sce"
		   ]
		  },
  {
"cell_type": "code",
	   "execution_count": null,
	   "metadata": {
	    "collapsed": true
	   },
	   "outputs": [],
"source": [
"\n",
"Resolution=1/10^4\n",
"disp(Resolution)\n",
"\n",
"disp('14.760')\n",
"\n",
"R_1V=1*Resolution\n",
"disp('0.5434')  ///since any digits upto 4th decimal can be shown\n",
"\n",
"R_10V=10*Resolution\n",
"disp('00.543')  ///since only three decimal digits can be shown"
   ]
   }
,
{
		   "cell_type": "markdown",
		   "metadata": {},
		   "source": [
			"## Example 14.12: Problem12.sce"
		   ]
		  },
  {
"cell_type": "code",
	   "execution_count": null,
	   "metadata": {
	    "collapsed": true
	   },
	   "outputs": [],
"source": [
"\n",
"Vp=10\n",
"Vref=5\n",
"R=100000\n",
"C=0.22E-6\n",
"T=Vp*R*C/Vref\n",
"disp(T)"
   ]
   }
,
{
		   "cell_type": "markdown",
		   "metadata": {},
		   "source": [
			"## Example 14.13: Problem13.sce"
		   ]
		  },
  {
"cell_type": "code",
	   "execution_count": null,
	   "metadata": {
	    "collapsed": true
	   },
	   "outputs": [],
"source": [
"\n",
"V=3.217\n",
"bits=4\n",
"base=5\n",
"a=0\n",
"\n",
"for i=1:bits\n",
"    a=floor(V/base*(2^i))\n",
"    disp(a);\n",
"    V=V-a*base/(2^i)\n",
"end"
   ]
   }
,
{
		   "cell_type": "markdown",
		   "metadata": {},
		   "source": [
			"## Example 14.14: Problem14.sce"
		   ]
		  },
  {
"cell_type": "code",
	   "execution_count": null,
	   "metadata": {
	    "collapsed": true
	   },
	   "outputs": [],
"source": [
"\n",
"reading=5\n",
"x=0.005/100*reading     //0.005% of reading\n",
"err=x+1E-6     //final digit\n",
"disp('seconds',err)\n",
"\n",
"reading=500\n",
"x=0.005/100*reading     //0.005% of reading\n",
"err=x+1     //final digit\n",
"disp('seconds',err)\n",
""
   ]
   }
,
{
		   "cell_type": "markdown",
		   "metadata": {},
		   "source": [
			"## Example 14.15: Problem15.sce"
		   ]
		  },
  {
"cell_type": "code",
	   "execution_count": null,
	   "metadata": {
	    "collapsed": true
	   },
	   "outputs": [],
"source": [
"V=5.9\n",
"Rx=0\n",
"Rm=2000\n",
"R1=49000\n",
"Ifsd=100E-6\n",
"Vam=Rm*Ifsd\n",
"I=(V-Vam)/R1\n",
"Ish=I-Ifsd\n",
"R2=Vam/Ish\n",
"disp(R2)\n",
"\n",
"I=0.6*I\n",
"Req=V/I\n",
"Rx=Req-R1-Rm*R2/(R2+Rm)\n",
"disp(Rx)"
   ]
   }
,
{
		   "cell_type": "markdown",
		   "metadata": {},
		   "source": [
			"## Example 14.17: Problem17.sce"
		   ]
		  },
  {
"cell_type": "code",
	   "execution_count": null,
	   "metadata": {
	    "collapsed": true
	   },
	   "outputs": [],
"source": [
"f=50\n",
"w=2*%pi*f\n",
"\n",
"Z2=1000\n",
"Z3=16800\n",
"\n",
"C=0.38E-6\n",
"Xc=1/%i/w/C\n",
"Z4=833+Xc\n",
"\n",
"Z1=Z2*Z3/Z4\n",
"Rx=real(Z1)\n",
"Lx=imag(Z1)/w\n",
"\n",
"disp(Rx)\n",
"disp(Lx)"
   ]
   }
,
{
		   "cell_type": "markdown",
		   "metadata": {},
		   "source": [
			"## Example 14.18: Problem18.sce"
		   ]
		  },
  {
"cell_type": "code",
	   "execution_count": null,
	   "metadata": {
	    "collapsed": true
	   },
	   "outputs": [],
"source": [
"f=50\n",
"w=2*%pi*f\n",
"T=1/f\n",
"\n",
"Iav=1/(T/2)*integrate('sin(w*t)','t',0,T/2)\n",
"disp(Iav)"
   ]
   }
,
{
		   "cell_type": "markdown",
		   "metadata": {},
		   "source": [
			"## Example 14.1: Problem1.sce"
		   ]
		  },
  {
"cell_type": "code",
	   "execution_count": null,
	   "metadata": {
	    "collapsed": true
	   },
	   "outputs": [],
"source": [
"Rv1=60/1000*10000\n",
"Rv2=120/1000*10000\n",
"Rx=(Rv2-Rv1)*(1/(27.5/30*2-1)-1)\n",
"I=27.5/1000/600*(Rx+600)/Rx\n",
"Vact=Rx*I\n",
"disp(Vact)"
   ]
   }
,
{
		   "cell_type": "markdown",
		   "metadata": {},
		   "source": [
			"## Example 14.2: Problem2.sce"
		   ]
		  },
  {
"cell_type": "code",
	   "execution_count": null,
	   "metadata": {
	    "collapsed": true
	   },
	   "outputs": [],
"source": [
"\n",
"Ifsd=25/1000\n",
"Ix=4.975\n",
"Rx=Ifsd*5/Ix\n",
"disp(Rx)\n",
"\n",
"Rx=20/Ifsd-5\n",
"disp(Rx)"
   ]
   }
,
{
		   "cell_type": "markdown",
		   "metadata": {},
		   "source": [
			"## Example 14.3: Problem3.sce"
		   ]
		  },
  {
"cell_type": "code",
	   "execution_count": null,
	   "metadata": {
	    "collapsed": true
	   },
	   "outputs": [],
"source": [
"\n",
"R1=40/0.025-5\n",
"R2=60/0.025-5-R1\n",
"disp(R1)\n",
"disp(R2)"
   ]
   }
,
{
		   "cell_type": "markdown",
		   "metadata": {},
		   "source": [
			"## Example 14.4: Problem4.sce"
		   ]
		  },
  {
"cell_type": "code",
	   "execution_count": null,
	   "metadata": {
	    "collapsed": true
	   },
	   "outputs": [],
"source": [
"\n",
"W1=500\n",
"W2=-200\n",
"P=W1+W2\n",
"phi=atan((W1-W2)/(W1+W2))\n",
"pf=cos(phi)\n",
"disp(pf)\n",
"disp(P)"
   ]
   }
,
{
		   "cell_type": "markdown",
		   "metadata": {},
		   "source": [
			"## Example 14.5: Problem5.sce"
		   ]
		  },
  {
"cell_type": "code",
	   "execution_count": null,
	   "metadata": {
	    "collapsed": true
	   },
	   "outputs": [],
"source": [
"\n",
"E=4\n",
"R1=800\n",
"R2=80\n",
"R3=1605\n",
"R4=160\n",
"Rg=80\n",
"s=8\n",
"\n",
"Eth=E*(R2/(R2+R4)-R1/(R1+R3))\n",
"Rth=R1*R3/(R1+R3)+R2*R4/(R2+R4)\n",
"Ig=Eth/(Rth+Rg)\n",
"D=s*Ig*1000000\n",
"disp(D)"
   ]
   }
,
{
		   "cell_type": "markdown",
		   "metadata": {},
		   "source": [
			"## Example 14.6: Problem6.sce"
		   ]
		  },
  {
"cell_type": "code",
	   "execution_count": null,
	   "metadata": {
	    "collapsed": true
	   },
	   "outputs": [],
"source": [
"function Zeq=parallel(Z1,Z2)\n",
"    Zeq=Z1*Z2/(Z1+Z2)\n",
"endfunction\n",
"\n",
"f=1000\n",
"w=2*%pi*f\n",
"\n",
"///AB\n",
"R=2000\n",
"C=0.045E-6\n",
"Xc=1/%i/w/C\n",
"Z1=parallel(R,Xc)\n",
"\n",
"////BC\n",
"R=1000\n",
"C=0.45E-6\n",
"Xc=1/%i/w/C\n",
"Z2=R+Xc\n",
"\n",
"////AD\n",
"C=0.4E-6\n",
"Z3=1/%i/w/C\n",
"\n",
"Z4=Z2*Z3/Z1\n",
"disp(Z4)"
   ]
   }
,
{
		   "cell_type": "markdown",
		   "metadata": {},
		   "source": [
			"## Example 14.7: Problem7.sce"
		   ]
		  },
  {
"cell_type": "code",
	   "execution_count": null,
	   "metadata": {
	    "collapsed": true
	   },
	   "outputs": [],
"source": [
"\n",
"ksine=1.11\n",
"ksqr=1\n",
"\n",
"err=(ksine-ksqr)/ksqr*100\n",
"disp('percent',err)"
   ]
   }
,
{
		   "cell_type": "markdown",
		   "metadata": {},
		   "source": [
			"## Example 14.8: Problem8.sce"
		   ]
		  },
  {
"cell_type": "code",
	   "execution_count": null,
	   "metadata": {
	    "collapsed": true
	   },
	   "outputs": [],
"source": [
"\n",
"f=50E6\n",
"w=2*%pi*f\n",
"theta=5*%pi/180\n",
"\n",
"\n",
"C=1E-12\n",
"R=1/theta/w/C\n",
"disp(R)\n",
"\n",
"C=10E-12\n",
"R=1/theta/w/C\n",
"disp(R)\n",
"\n",
"C=100E-12\n",
"R=1/theta/w/C\n",
"disp(R)"
   ]
   }
,
{
		   "cell_type": "markdown",
		   "metadata": {},
		   "source": [
			"## Example 14.9: Problem9.sce"
		   ]
		  },
  {
"cell_type": "code",
	   "execution_count": null,
	   "metadata": {
	    "collapsed": true
	   },
	   "outputs": [],
"source": [
"\n",
"f=8E6\n",
"w=2*%pi*f\n",
"C=150E-12\n",
"R=5\n",
"\n",
"Q1=1/w/C/R\n",
"\n",
"Rins=0.1\n",
"Q2=1/w/C/(R+Rins)\n",
"err=(Q1-Q2)/Q1*100\n",
"disp(err)"
   ]
   }
],
"metadata": {
		  "kernelspec": {
		   "display_name": "Scilab",
		   "language": "scilab",
		   "name": "scilab"
		  },
		  "language_info": {
		   "file_extension": ".sce",
		   "help_links": [
			{
			 "text": "MetaKernel Magics",
			 "url": "https://github.com/calysto/metakernel/blob/master/metakernel/magics/README.md"
			}
		   ],
		   "mimetype": "text/x-octave",
		   "name": "scilab",
		   "version": "0.7.1"
		  }
		 },
		 "nbformat": 4,
		 "nbformat_minor": 0
}
