{
"cells": [
 {
		   "cell_type": "markdown",
	   "metadata": {},
	   "source": [
       "# Chapter 10: DC Machines"
	   ]
	},
{
		   "cell_type": "markdown",
		   "metadata": {},
		   "source": [
			"## Example 10.10: Problem10.sce"
		   ]
		  },
  {
"cell_type": "code",
	   "execution_count": null,
	   "metadata": {
	    "collapsed": true
	   },
	   "outputs": [],
"source": [
"V=300\n",
"Ea=V\n",
"n1=1200\n",
"n2=1100\n",
"Kaphi=Ea/2/%pi/n1*60\n",
"\n",
"T=350\n",
"Ia=T/Kaphi\n",
"disp(Ia)\n",
"Ea=V*n2/n1\n",
"Pm=Ea*Ia\n",
"disp(Pm)\n",
"\n",
"Ra=(V-Ea)/Ia\n",
"disp(Ra)\n",
"\n",
"disp(T)\n",
"Ea=600-Ia*Ra\n",
"n=Ea*60/Kaphi/2/%pi\n",
"Pm=Ea*Ia\n",
"disp(Pm)\n",
"disp(n)"
   ]
   }
,
{
		   "cell_type": "markdown",
		   "metadata": {},
		   "source": [
			"## Example 10.11: Problem11.sce"
		   ]
		  },
  {
"cell_type": "code",
	   "execution_count": null,
	   "metadata": {
	    "collapsed": true
	   },
	   "outputs": [],
"source": [
"V=300\n",
"Ea=V\n",
"n1=1200\n",
"n2=1100\n",
"Kaphi=Ea/2/%pi/n1*60\n",
"\n",
"T=350\n",
"Ia=T/Kaphi\n",
"Ea=V*n2/n1\n",
"\n",
"Ra=(V-Ea)/Ia\n",
"\n",
"\n",
"Kaphi=Kaphi/2\n",
"n=Ea/Kaphi*60/2/%pi\n",
"Pm=Ea*Ia\n",
"T=Kaphi*Ia\n",
"disp(T)\n",
"disp(Pm)\n",
"disp(n)"
   ]
   }
,
{
		   "cell_type": "markdown",
		   "metadata": {},
		   "source": [
			"## Example 10.12: Problem12.sce"
		   ]
		  },
  {
"cell_type": "code",
	   "execution_count": null,
	   "metadata": {
	    "collapsed": true
	   },
	   "outputs": [],
"source": [
"V=600\n",
"Ia=40\n",
"R=0.5\n",
"Ea=V-Ia*R\n",
"n=500\n",
"Ka=Ea/Ia/2/%pi/n*60\n",
"T=Ka*Ia*Ia\n",
"\n",
"n2=450\n",
"T=T*n2*n2/n/n\n",
"Ia=sqrt(T/Ka)\n",
"Ea=Ka*Ia*2*%pi*n2/60\n",
"Rtotal=(V-Ea)/Ia\n",
"Rext=Rtotal-R\n",
"disp(Rext)"
   ]
   }
,
{
		   "cell_type": "markdown",
		   "metadata": {},
		   "source": [
			"## Example 10.13: Problem13.sce"
		   ]
		  },
  {
"cell_type": "code",
	   "execution_count": null,
	   "metadata": {
	    "collapsed": true
	   },
	   "outputs": [],
"source": [
"V=220\n",
"Ra=1\n",
"Rse=0.4\n",
"Ia1=20\n",
"Ia2=sqrt(Ia1*Ia1*0.7*0.7*0.7)\n",
"Ea1=V-Ia1*(Ra+Rse)\n",
"Ea2=Ia2*0.7*Ea1/Ia1\n",
"Rext=(V-Ea2)/Ia2-Ra-Rse\n",
"disp(Rext)"
   ]
   }
,
{
		   "cell_type": "markdown",
		   "metadata": {},
		   "source": [
			"## Example 10.14: Problem14.sce"
		   ]
		  },
  {
"cell_type": "code",
	   "execution_count": null,
	   "metadata": {
	    "collapsed": true
	   },
	   "outputs": [],
"source": [
"V=250\n",
"Ia=25\n",
"n=1000\n",
"KaNfNse=V/Ia*60/2/%pi/n\n",
"T=KaNfNse*Ia*Ia\n",
"Ia=sqrt(V*2/KaNfNse/sqrt(KaNfNse*2*%pi*n/60*2*%pi*n/60/T/2))\n",
"w=sqrt(KaNfNse*2*%pi*n/60*2*%pi*n/60/T/2)*Ia\n",
"n=w*60/2/%pi\n",
"\n",
"disp(n)\n",
"disp(Ia)"
   ]
   }
,
{
		   "cell_type": "markdown",
		   "metadata": {},
		   "source": [
			"## Example 10.15: Problem15.sce"
		   ]
		  },
  {
"cell_type": "code",
	   "execution_count": null,
	   "metadata": {
	    "collapsed": true
	   },
	   "outputs": [],
"source": [
"V=230\n",
"Rf=120\n",
"Ra=0.15\n",
"If=V/Rf\n",
"Psh=V*V/Rf\n",
"\n",
"I=14.5\n",
"Pin=I*V\n",
"Ia=I-If\n",
"Pk=Pin-Ia*Ia*Ra\n",
"\n",
"I=215\n",
"Ia=I-If\n",
"Pl=Ia*Ia*Ra+Pk\n",
"Pin=V*I\n",
"effi=(Pin-Pl)/Pin\n",
"disp(effi)\n",
"\n",
"Ia=sqrt(Pk/Ra)\n",
"Il=Ia+If\n",
"Pl=2*Pk\n",
"Pin=V*Il\n",
"effi=(Pin-Pl)/Pin\n",
"disp(effi)"
   ]
   }
,
{
		   "cell_type": "markdown",
		   "metadata": {},
		   "source": [
			"## Example 10.16: Problem16.sce"
		   ]
		  },
  {
"cell_type": "code",
	   "execution_count": null,
	   "metadata": {
	    "collapsed": true
	   },
	   "outputs": [],
"source": [
"V=250\n",
"Rf=125\n",
"Ra=0.2\n",
"If=V/Rf\n",
"I=16\n",
"Ia0=I-If\n",
"Pk=V*Ia0-Ia0*Ia0*Ra+V*If\n",
"\n",
"I=152\n",
"Ia=I-If\n",
"Pl=Ia*Ia*Ra+Pk\n",
"Pin=V*I\n",
"effi=(Pin-Pl)/Pin\n",
"disp(effi)\n",
"\n",
"Il=152\n",
"Ia=Il+If\n",
"Pl=Ia*Ia*Ra+Pk\n",
"Pout=V*Il\n",
"effi=Pout/(Pout+Pl)\n",
"disp(effi)"
   ]
   }
,
{
		   "cell_type": "markdown",
		   "metadata": {},
		   "source": [
			"## Example 10.17: Problem17.sce"
		   ]
		  },
  {
"cell_type": "code",
	   "execution_count": null,
	   "metadata": {
	    "collapsed": true
	   },
	   "outputs": [],
"source": [
"V=250\n",
"n=800\n",
"Ra=0.15\n",
"Rse=0.1\n",
"R=Ra+Rse\n",
"\n",
"Ia1=120\n",
"Ea1=V-Ia1*R\n",
"\n",
"Ia2=60\n",
"Ea2=V-Ia2*R\n",
"n2=Ea2/Ea1*n/0.7\n",
"disp(n2)"
   ]
   }
,
{
		   "cell_type": "markdown",
		   "metadata": {},
		   "source": [
			"## Example 10.18: Problem18.sce"
		   ]
		  },
  {
"cell_type": "code",
	   "execution_count": null,
	   "metadata": {
	    "collapsed": true
	   },
	   "outputs": [],
"source": [
"R=1.2\n",
"V=220\n",
"Ea35=V-35*R\n",
"n35=(475+400)/2\n",
"\n",
"V=200\n",
"E0=V-35*(R+2)\n",
"n=n35*E0/Ea35\n",
"disp(n)"
   ]
   }
,
{
		   "cell_type": "markdown",
		   "metadata": {},
		   "source": [
			"## Example 10.19: Problem19.sce"
		   ]
		  },
  {
"cell_type": "code",
	   "execution_count": null,
	   "metadata": {
	    "collapsed": true
	   },
	   "outputs": [],
"source": [
"V=250\n",
"Ia=200\n",
"Ra=0.22\n",
"\n",
"Ea=V-Ia*Ra\n",
"Pm=Ea*Ia\n",
"Prl=600\n",
"Pmout=Pm-Prl\n",
"n=1250\n",
"wm=2*%pi*n/60\n",
"Tl=Pmout/wm\n",
"disp(Tl)\n",
"\n",
"Rf=125\n",
"Psh=V*V/Rf\n",
"Pein=V*Ia+Psh\n",
"effi=Pmout/Pein\n",
"disp(effi)"
   ]
   }
,
{
		   "cell_type": "markdown",
		   "metadata": {},
		   "source": [
			"## Example 10.1: Problem1.sce"
		   ]
		  },
  {
"cell_type": "code",
	   "execution_count": null,
	   "metadata": {
	    "collapsed": true
	   },
	   "outputs": [],
"source": [
"P=6\n",
"S=36\n",
"coilside=2\n",
"N=8\n",
"A=2\n",
"d=0.25\n",
"l=0.18\n",
"Ia=10\n",
"avgflux=0.8\n",
"n=1200\n",
"\n",
"Z=S*coilside*N\n",
"flux=%pi*d/P*l*avgflux\n",
"Ea=flux*n*Z/60*P/A\n",
"Pm=Ea*Ia\n",
"disp(Pm)\n",
"T=Pm/2/%pi/n*60\n",
"disp(T)"
   ]
   }
,
{
		   "cell_type": "markdown",
		   "metadata": {},
		   "source": [
			"## Example 10.20: Problem20.sce"
		   ]
		  },
  {
"cell_type": "code",
	   "execution_count": null,
	   "metadata": {
	    "collapsed": true
	   },
	   "outputs": [],
"source": [
"P=25000\n",
"n=1600\n",
"V=250\n",
"If=1.5\n",
"Rf=V/If\n",
"disp(Rf)\n",
"\n",
"Ra=0.1\n",
"V=220\n",
"Ia=P/V\n",
"Ea=V-Ia*Ra\n",
"If=0.875\n",
"disp(If)\n",
"Rf=V/If\n",
"disp(Rf)\n",
"\n",
"Pdev=Ea*Ia\n",
"disp(Pdev)\n",
"Tdev=Pdev/2/%pi/n*60\n",
"disp(Tdev)"
   ]
   }
,
{
		   "cell_type": "markdown",
		   "metadata": {},
		   "source": [
			"## Example 10.21: Problem21.sce"
		   ]
		  },
  {
"cell_type": "code",
	   "execution_count": null,
	   "metadata": {
	    "collapsed": true
	   },
	   "outputs": [],
"source": [
"\n",
"V=230\n",
"Ea=210\n",
"Ia=40\n",
"Ra=(V-Ea)/Ia\n",
"disp(Ra)\n",
"\n",
"Pdev=Ea*Ia\n",
"n=1200\n",
"wm=2*%pi*n/60\n",
"Tdev=Pdev/wm\n",
"disp(Pdev)\n",
"disp(Tdev)\n",
"\n",
"n=n*V/Ea\n",
"disp(n)"
   ]
   }
,
{
		   "cell_type": "markdown",
		   "metadata": {},
		   "source": [
			"## Example 10.22: Problem22.sce"
		   ]
		  },
  {
"cell_type": "code",
	   "execution_count": null,
	   "metadata": {
	    "collapsed": true
	   },
	   "outputs": [],
"source": [
"V=400\n",
"Ia=50\n",
"n=500\n",
"Ra=0.5\n",
"Ea=V-Ia*Ra\n",
"Tdev=Ea*Ia/2/%pi/n*60\n",
"\n",
"Iastart=75\n",
"Rs=V/Iastart-Ra\n",
"disp(Rs)\n",
"Tstart=Tdev*(Iastart/Ia)^2\n",
"disp(Tstart)\n",
"\n",
"n2=200\n",
"Ea200=Ea*n2/n\n",
"Rs=(V-Ea200)/Iastart-Ra\n",
"disp(Rs)"
   ]
   }
,
{
		   "cell_type": "markdown",
		   "metadata": {},
		   "source": [
			"## Example 10.23: Problem23.sce"
		   ]
		  },
  {
"cell_type": "code",
	   "execution_count": null,
	   "metadata": {
	    "collapsed": true
	   },
	   "outputs": [],
"source": [
"n1=1200\n",
"Rfcrit=260/4\n",
"n2=1600\n",
"Vfactor=n2/n2\n",
"Vnl=395\n",
"disp(Vnl)"
   ]
   }
,
{
		   "cell_type": "markdown",
		   "metadata": {},
		   "source": [
			"## Example 10.24: Problem24.sce"
		   ]
		  },
  {
"cell_type": "code",
	   "execution_count": null,
	   "metadata": {
	    "collapsed": true
	   },
	   "outputs": [],
"source": [
"\n",
"Ia=500\n",
"Ra=0.05\n",
"Vb=2\n",
"Va=Ia*Ra+Vb\n",
"Vt=330\n",
"disp(Vt)"
   ]
   }
,
{
		   "cell_type": "markdown",
		   "metadata": {},
		   "source": [
			"## Example 10.25: Problem25.sce"
		   ]
		  },
  {
"cell_type": "code",
	   "execution_count": null,
	   "metadata": {
	    "collapsed": true
	   },
	   "outputs": [],
"source": [
"V=240\n",
"Ea=V\n",
"n=800\n",
"I=16\n",
"Ke=V/n/I\n",
"K=I/n\n",
"\n",
"n=sqrt(V*2/Ke/K/sqrt(2))\n",
"disp(n)\n",
"Ia=sqrt(2)*K*n\n",
"disp(Ia)"
   ]
   }
,
{
		   "cell_type": "markdown",
		   "metadata": {},
		   "source": [
			"## Example 10.26: Problem26.sce"
		   ]
		  },
  {
"cell_type": "code",
	   "execution_count": null,
	   "metadata": {
	    "collapsed": true
	   },
	   "outputs": [],
"source": [
"V=600\n",
"Pout=60000\n",
"effi=0.85\n",
"Pin=Pout/effi\n",
"Il=Pin/V\n",
"Rf=100\n",
"If=V/Rf\n",
"Ia=Il-If\n",
"Ra=0.16\n",
"Ea=V-Ia*Ra\n",
"\n",
"n=900\n",
"n0=n*V/Ea\n",
"sr=n0/n-1\n",
"disp(n0)\n",
"disp(sr)\n",
"\n",
"TL=Pin-Pout\n",
"Pcu=Ia*Ia*Ra\n",
"Psh=If*If*Rf\n",
"Prl=TL-Pcu-Psh\n",
"disp(Prl)"
   ]
   }
,
{
		   "cell_type": "markdown",
		   "metadata": {},
		   "source": [
			"## Example 10.2: Problem2.sce"
		   ]
		  },
  {
"cell_type": "code",
	   "execution_count": null,
	   "metadata": {
	    "collapsed": true
	   },
	   "outputs": [],
"source": [
"P=4\n",
"A=4\n",
"ra=0.145\n",
"l=0.21\n",
"Z=2*33*11\n",
"K=Z*P/2/%pi/A\n",
"disp(K)\n",
"\n",
"Ap=2*%pi*ra/P*0.7*l\n",
"Barc=0.8\n",
"flux=Ap*Barc\n",
"n=1200\n",
"Ea=K*flux*2*%pi*n/60\n",
"disp(Ea)\n",
"\n",
"Ia=240\n",
"Ic=Ia/A\n",
"disp(Ic)\n",
"\n",
"T=K*flux*Ia\n",
"disp(T)\n",
"Pg=Ea*Ia\n",
"disp(Pg)"
   ]
   }
,
{
		   "cell_type": "markdown",
		   "metadata": {},
		   "source": [
			"## Example 10.3: Problem3.sce"
		   ]
		  },
  {
"cell_type": "code",
	   "execution_count": null,
	   "metadata": {
	    "collapsed": true
	   },
	   "outputs": [],
"source": [
"P=5000\n",
"Vt=215\n",
"n=1000\n",
"Ra=0.4\n",
"Ia=P/Vt\n",
"Eag=Vt+Ra*Ia\n",
"Eam=Vt-Ra*Ia\n",
"newn=Eam/Eag*n/1.1\n",
"disp(newn)"
   ]
   }
,
{
		   "cell_type": "markdown",
		   "metadata": {},
		   "source": [
			"## Example 10.4: Problem4.sce"
		   ]
		  },
  {
"cell_type": "code",
	   "execution_count": null,
	   "metadata": {
	    "collapsed": true
	   },
	   "outputs": [],
"source": [
"P=200000\n",
"V=400\n",
"n=600\n",
"Z=864\n",
"Pl=8000\n",
"\n",
"Ia=P/V\n",
"Ra=Pl/Ia/Ia\n",
"Ea=V-Ia*Ra\n",
"flux=Ea*60/n/Z\n",
"disp(flux)"
   ]
   }
,
{
		   "cell_type": "markdown",
		   "metadata": {},
		   "source": [
			"## Example 10.5: Problem5.sce"
		   ]
		  },
  {
"cell_type": "code",
	   "execution_count": null,
	   "metadata": {
	    "collapsed": true
	   },
	   "outputs": [],
"source": [
"N=1800\n",
"///////from figure\n",
"Voc=250\n",
"If=4.1\n",
"Rf=Voc/If\n",
"disp(If)\n",
"disp(Rf)\n",
"\n",
"Rfcrit=150/2\n",
"disp(Rfcrit)\n",
"\n",
"V3=120\n",
"Ncrit=N*V3/150\n",
"disp(Ncrit)\n",
"\n",
"Rf220=220/3.2\n",
"Rext=Rf220-Rf\n",
"disp(Rext)"
   ]
   }
,
{
		   "cell_type": "markdown",
		   "metadata": {},
		   "source": [
			"## Example 10.6: Problem6.sce"
		   ]
		  },
  {
"cell_type": "code",
	   "execution_count": null,
	   "metadata": {
	    "collapsed": true
	   },
	   "outputs": [],
"source": [
"P=4\n",
"V=230\n",
"Z=888\n",
"Ra=0.8\n",
"flux=5.4E-3\n",
"A=2\n",
"\n",
"Il=2\n",
"If=0.6\n",
"Ia=Il-If\n",
"Ea=V-Ia*Ra\n",
"n0=Ea*60/flux/Z/P*A\n",
"disp(n0)\n",
"\n",
"T=29.6\n",
"Ia=T*2*%pi/flux/Z/P*A\n",
"Il=Ia+If\n",
"disp(Il)\n",
"Ea=V-Ra*Ia\n",
"n=Ea*60/flux/Z/P*A\n",
"disp(n)\n",
"sr=(1-n/n0)*100\n",
"disp(sr)"
   ]
   }
,
{
		   "cell_type": "markdown",
		   "metadata": {},
		   "source": [
			"## Example 10.7: Problem7.sce"
		   ]
		  },
  {
"cell_type": "code",
	   "execution_count": null,
	   "metadata": {
	    "collapsed": true
	   },
	   "outputs": [],
"source": [
"n1=1000\n",
"V=230\n",
"Ia=75\n",
"Ra=0.1\n",
"Ea1=V-Ia*Ra\n",
"Rf=275\n",
"If=V/Rf\n",
"Ke=Ea1/If/n1\n",
"\n",
"n2=1200\n",
"Ia=125\n",
"Ea2=V-Ia*Ra\n",
"If2=Ea2/Ke/n2\n",
"Rf2=V/If2\n",
"Rfext=Rf2-Rf\n",
"disp(Rfext)\n",
"\n",
""
   ]
   }
,
{
		   "cell_type": "markdown",
		   "metadata": {},
		   "source": [
			"## Example 10.8: Problem8.sce"
		   ]
		  },
  {
"cell_type": "code",
	   "execution_count": null,
	   "metadata": {
	    "collapsed": true
	   },
	   "outputs": [],
"source": [
"V=115\n",
"Ia1=25\n",
"Ra=0.3\n",
"\n",
"n1=1450\n",
"Ea1=V-Ia1*Ra\n",
"Ke=Ea1/n1\n",
"\n",
"n2=1200\n",
"Ea2=Ke*n2\n",
"Ia2=3/4*Ia1\n",
"Raext=(V-Ea2)/Ia2-Ra\n",
"disp(Raext)\n",
"effia=Ea2/V*100     ///calculation mistake in the book at this point\n",
"disp(effia)\n",
"V=Ea2+Ia2*Ra\n",
"effia=Ea2/V*100\n",
"disp(effia)"
   ]
   }
,
{
		   "cell_type": "markdown",
		   "metadata": {},
		   "source": [
			"## Example 10.9: Problem9.sce"
		   ]
		  },
  {
"cell_type": "code",
	   "execution_count": null,
	   "metadata": {
	    "collapsed": true
	   },
	   "outputs": [],
"source": [
"/////solving quadratic\n",
"Ra=0.5\n",
"P=8000\n",
"V=230\n",
"Ea=V\n",
"n=1200\n",
"Ke=V/n\n",
"\n",
"p=poly([P*Ra,-V,1],'w','coeff')\n",
"w=roots(p)\n",
"\n",
"Ea=w(1)     ///rejecting small value\n",
"n=Ea/Ke\n",
"disp(n)\n",
"T=P/2/%pi/n*60\n",
"disp(T)\n",
"Ia=(V-Ea)/Ra\n",
"disp(Ia)\n",
"Kt=T/Ia\n",
"\n",
"\n",
"p=poly([-Kt*V/Ra,Kt*Ke/Ra,0.6E-4],'w','coeff')\n",
"w=roots(p)\n",
"n=w(2)\n",
"disp(n)"
   ]
   }
],
"metadata": {
		  "kernelspec": {
		   "display_name": "Scilab",
		   "language": "scilab",
		   "name": "scilab"
		  },
		  "language_info": {
		   "file_extension": ".sce",
		   "help_links": [
			{
			 "text": "MetaKernel Magics",
			 "url": "https://github.com/calysto/metakernel/blob/master/metakernel/magics/README.md"
			}
		   ],
		   "mimetype": "text/x-octave",
		   "name": "scilab",
		   "version": "0.7.1"
		  }
		 },
		 "nbformat": 4,
		 "nbformat_minor": 0
}
