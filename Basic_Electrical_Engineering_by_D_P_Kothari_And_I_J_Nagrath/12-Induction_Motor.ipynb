{
"cells": [
 {
		   "cell_type": "markdown",
	   "metadata": {},
	   "source": [
       "# Chapter 12: Induction Motor"
	   ]
	},
{
		   "cell_type": "markdown",
		   "metadata": {},
		   "source": [
			"## Example 12.10: Problem10.sce"
		   ]
		  },
  {
"cell_type": "code",
	   "execution_count": null,
	   "metadata": {
	    "collapsed": true
	   },
	   "outputs": [],
"source": [
"\n",
"R2=0.5\n",
"X2=5\n",
"Tm_by_Tfl=3.5\n",
"\n",
"Ts_by_Tfl=R2*Tm_by_Tfl*2*X2/(R2^2+X2^2)\n",
"disp(Ts_by_Tfl)\n",
"\n",
"Ts_by_Tfl2=Ts_by_Tfl/3\n",
"disp(Ts_by_Tfl2)\n",
"\n",
"Ts_by_Tfl3=0.7*0.7*Ts_by_Tfl        //calculation mistake in the book at this point\n",
"disp(Ts_by_Tfl3)"
   ]
   }
,
{
		   "cell_type": "markdown",
		   "metadata": {},
		   "source": [
			"## Example 12.11: Problem11.sce"
		   ]
		  },
  {
"cell_type": "code",
	   "execution_count": null,
	   "metadata": {
	    "collapsed": true
	   },
	   "outputs": [],
"source": [
"\n",
"s1=1-960/1000\n",
"s2=1-800/1000\n",
"R2ext=4/3*s2*0.25/s1-0.25\n",
"disp(R2ext)"
   ]
   }
,
{
		   "cell_type": "markdown",
		   "metadata": {},
		   "source": [
			"## Example 12.12: Problem12.sce"
		   ]
		  },
  {
"cell_type": "code",
	   "execution_count": null,
	   "metadata": {
	    "collapsed": true
	   },
	   "outputs": [],
"source": [
"\n",
"smaxT=1-860/1000\n",
"R2=0.25\n",
"X2=R2/smaxT\n",
"Tmax=180\n",
"k=Tmax*X2\n",
"\n",
"s=0.045\n",
"T=2*100.6/((R2/s)^2+X2^2)*R2/s   //some mistake in the book at this point. (What is V1/a)\n",
"T=105\n",
"disp(T)\n",
"\n",
"R2ext=X2-R2\n",
"disp(R2ext)"
   ]
   }
,
{
		   "cell_type": "markdown",
		   "metadata": {},
		   "source": [
			"## Example 12.13: Problem13.sce"
		   ]
		  },
  {
"cell_type": "code",
	   "execution_count": null,
	   "metadata": {
	    "collapsed": true
	   },
	   "outputs": [],
"source": [
"V=400\n",
"Poutmech=5000\n",
"Prl=285\n",
"Pm=Poutmech+Prl\n",
"s=1-1445/1500\n",
"s2=1-900/1500\n",
"\n",
"\n",
"\n",
"p=poly([0,-(1-s)*V*V/Pm/s,1/s/s+1/s2/s2],'R2','coeff')\n",
"r=roots(p)\n",
"R2=r(1)\n",
"X2=R2/s2\n",
"\n",
"ws=2*%pi*1500/60\n",
"Tmax=3/ws*V*V/3*0.5/X2\n",
"disp(Tmax)"
   ]
   }
,
{
		   "cell_type": "markdown",
		   "metadata": {},
		   "source": [
			"## Example 12.14: Problem14.sce"
		   ]
		  },
  {
"cell_type": "code",
	   "execution_count": null,
	   "metadata": {
	    "collapsed": true
	   },
	   "outputs": [],
"source": [
"Pmout=20000\n",
"Pwfl=1500\n",
"Pm=Pmout+Pwfl\n",
"disp(Pm)\n",
"ns=1500\n",
"n=1440\n",
"s=1-n/ns\n",
"Pg=Pm/(1-s)\n",
"disp(Pg)\n",
"Pcu=s*Pg\n",
"disp(Pcu)"
   ]
   }
,
{
		   "cell_type": "markdown",
		   "metadata": {},
		   "source": [
			"## Example 12.15: Problem15.sce"
		   ]
		  },
  {
"cell_type": "code",
	   "execution_count": null,
	   "metadata": {
	    "collapsed": true
	   },
	   "outputs": [],
"source": [
"V1=400\n",
"R1=2.28*3/2\n",
"R1ac=1.1*3.42\n",
"\n",
"Y0=3.5/sqrt(3)/V1\n",
"Gi=(445/3)/V1/V1\n",
"Bm=sqrt(Y0^2-Gi^2)\n",
"Ri=1/Gi\n",
"Xm=1/Bm\n",
"\n",
"V2=200\n",
"Z=V2/16.7*sqrt(3)\n",
"R=2220/16.7/16.7\n",
"X=sqrt(Z*Z-R*R)\n",
"R2=R-R1ac\n",
"\n",
"n=935\n",
"ns=1000\n",
"s=1-n/ns\n",
"Z=R1ac+R2/s+%i*X\n",
"I2=V1/Z\n",
"Ii=V1/Ri-%i*V1/Xm\n",
"I1=I2+Ii\n",
"Iline=norm(I1)*sqrt(3)\n",
"pf=real(I1)/norm(I1)\n",
"ws=2*%pi*ns/60\n",
"T=norm(3*I2*I2*R2/s/ws)\n",
"disp(T)\n",
"disp(Iline)\n",
"\n",
"Pm=norm(3*I2*I2*R2*(1-s)/s)\n",
"Pin=sqrt(3)*V1*Iline*pf\n",
"effi=Pm/Pin\n",
"disp(effi)\n",
"\n",
"V=400\n",
"s=1\n",
"Z=R1ac+R2/s+%i*X\n",
"I2=V/sqrt(3)/Z      ////calculation mistake in the book at this step\n",
"Ts=norm(3*I2*I2*R2/ws)\n",
"disp(Ts)"
   ]
   }
,
{
		   "cell_type": "markdown",
		   "metadata": {},
		   "source": [
			"## Example 12.16: Problem16.sce"
		   ]
		  },
  {
"cell_type": "code",
	   "execution_count": null,
	   "metadata": {
	    "collapsed": true
	   },
	   "outputs": [],
"source": [
"V=400\n",
"Pmout=5000\n",
"Prl=285\n",
"Pm=Pmout+Prl\n",
"\n",
"s=1-1445/1500\n",
"smaxT=1-900/1500\n",
"R2=(1/s-1)*V*V/Pm/(1/s^2+1/smaxT^2)\n",
"X2=R2/smaxT\n",
"ws=2*%pi*1500/60\n",
"Tmax=V*V/ws/2/X2\n",
"disp(Tmax)"
   ]
   }
,
{
		   "cell_type": "markdown",
		   "metadata": {},
		   "source": [
			"## Example 12.17: Problem17.sce"
		   ]
		  },
  {
"cell_type": "code",
	   "execution_count": null,
	   "metadata": {
	    "collapsed": true
	   },
	   "outputs": [],
"source": [
"V=440\n",
"I=25\n",
"pf=0.85\n",
"Pin=sqrt(3)*V*I*pf\n",
"ns=1500\n",
"Pcore=750\n",
"Pcus=950\n",
"Pcur=450\n",
"Pwfl=250\n",
"\n",
"Pg=Pin-Pcore-Pcus\n",
"disp(Pg)\n",
"\n",
"Pm=Pg-Pcur\n",
"disp(Pm)\n",
"\n",
"Pmout=Pm-Pwfl\n",
"disp(Pmout)\n",
"\n",
"effi=Pmout/Pin\n",
"disp(effi)\n",
"\n",
"s=Pcur/Pg\n",
"n=(1-s)*ns\n",
"disp(n)\n",
"\n",
"w=2*%pi*n/60\n",
"Tdev=Pm/w\n",
"disp(Tdev)\n",
"Tnet=Pmout/w\n",
"disp(Tnet)"
   ]
   }
,
{
		   "cell_type": "markdown",
		   "metadata": {},
		   "source": [
			"## Example 12.1: Problem1.sce"
		   ]
		  },
  {
"cell_type": "code",
	   "execution_count": null,
	   "metadata": {
	    "collapsed": true
	   },
	   "outputs": [],
"source": [
"V=400\n",
"I=80\n",
"pf=0.75\n",
"Pin=sqrt(3)*V*I*pf\n",
"Pshaft=Pin*0.85\n",
"disp(Pshaft)\n",
"ns=1000\n",
"s=0.04\n",
"n=(1-s)*ns\n",
"w=2*%pi*n/60\n",
"Tshaft=Pshaft/w\n",
"disp(Tshaft)"
   ]
   }
,
{
		   "cell_type": "markdown",
		   "metadata": {},
		   "source": [
			"## Example 12.2: Problem2.sce"
		   ]
		  },
  {
"cell_type": "code",
	   "execution_count": null,
	   "metadata": {
	    "collapsed": true
	   },
	   "outputs": [],
"source": [
"f=50\n",
"f2=120/60\n",
"s=f2/f\n",
"ns=1500\n",
"n=(1-s)*ns\n",
"w=2*%pi*n/60\n",
"\n",
"T=100\n",
"Pshaft=T*w\n",
"disp(Pshaft)\n",
"Pm=(T+7)*w\n",
"Pcur=Pm*s/(1-s)\n",
"disp(Pcur)\n",
"Pin=Pm+Pcur+700\n",
"disp(Pin)\n",
"effi=Pshaft/Pin\n",
"disp(effi)"
   ]
   }
,
{
		   "cell_type": "markdown",
		   "metadata": {},
		   "source": [
			"## Example 12.3: Problem3.sce"
		   ]
		  },
  {
"cell_type": "code",
	   "execution_count": null,
	   "metadata": {
	    "collapsed": true
	   },
	   "outputs": [],
"source": [
"\n",
"ns=120*50/20\n",
"sfl=1-292.5/ns\n",
"\n",
"R2=0.12\n",
"X2=1.12\n",
"smaxT=R2/X2\n",
"disp(smaxT)\n",
"\n",
"Tmax_by_Tfl=0.5/X2/(R2/sfl/((R2/sfl)^2+X2^2))\n",
"disp(Tmax_by_Tfl)"
   ]
   }
,
{
		   "cell_type": "markdown",
		   "metadata": {},
		   "source": [
			"## Example 12.5: Problem5.sce"
		   ]
		  },
  {
"cell_type": "code",
	   "execution_count": null,
	   "metadata": {
	    "collapsed": true
	   },
	   "outputs": [],
"source": [
"\n",
"ns=750\n",
"R2=0.5\n",
"X2=5\n",
"smaxT=R2/X2\n",
"n=(1-smaxT)*ns\n",
"disp(n)\n",
"\n",
"k=R2/X2\n",
"Tmax_by_Tstart=(1+k*k)/2/k\n",
"disp(Tmax_by_Tstart)\n",
"\n",
"p=poly([1,-4,1],'k','coeff')\n",
"w=roots(p)\n",
"R2=w*5\n",
"R2ext=R2-0.5\n",
"\n",
"R2total=18.66\n",
"smaxT=R2total/X2\n",
"R2ext=R2ext(2)\n",
"disp(R2ext)"
   ]
   }
,
{
		   "cell_type": "markdown",
		   "metadata": {},
		   "source": [
			"## Example 12.6: Problem6.sce"
		   ]
		  },
  {
"cell_type": "code",
	   "execution_count": null,
	   "metadata": {
	    "collapsed": true
	   },
	   "outputs": [],
"source": [
"\n",
"Tmax=200\n",
"Tstart=80\n",
"\n",
"p=poly([1,-2*Tmax/Tstart,1],'smaxT','coeff')\n",
"smaxT=roots(p)\n",
"smaxT=smaxT(2)\n",
"disp(smaxT)\n",
"\n",
"\n",
"p=poly([1,-4,1],'w','coeff')\n",
"w=roots(p)\n",
"sfl=smaxT/w(1)\n",
"disp(sfl)\n",
"\n",
"ratio=sqrt(((smaxT/sfl)^2+1)/(smaxT^2+1))\n",
"disp(ratio)\n",
"\n",
"p=poly([1,-((smaxT/sfl)^2+1)*sfl,smaxT^2],'k','coeff')\n",
"k=roots(p)\n",
"k=k(2)\n",
"disp(k)"
   ]
   }
,
{
		   "cell_type": "markdown",
		   "metadata": {},
		   "source": [
			"## Example 12.7: Problem7.sce"
		   ]
		  },
  {
"cell_type": "code",
	   "execution_count": null,
	   "metadata": {
	    "collapsed": true
	   },
	   "outputs": [],
"source": [
"V=440\n",
"ns=1000\n",
"ws=2*%pi*ns/60\n",
"n=975\n",
"s=1-n/ns\n",
"Z=1.06+0.576/s+%i*(1.68+0.75)\n",
"I2=V/sqrt(3)/Z\n",
"Im=-%i*V/sqrt(3)/44.2\n",
"I1=Im+I2\n",
"pf=real(I1)/norm(I1)\n",
"Pin=sqrt(3)*V*norm(I1)*pf\n",
"Pout=norm(3*I2*I2*0.576*(1/s-1))-415\n",
"effi=Pout/Pin\n",
"Tnet=Pout/ws/(1-s)\n",
"\n",
"disp(Tnet)\n",
"disp(Pin)\n",
"disp(norm(I1))\n",
"disp(pf)\n",
"disp(effi)"
   ]
   }
,
{
		   "cell_type": "markdown",
		   "metadata": {},
		   "source": [
			"## Example 12.8: Problem8.sce"
		   ]
		  },
  {
"cell_type": "code",
	   "execution_count": null,
	   "metadata": {
	    "collapsed": true
	   },
	   "outputs": [],
"source": [
"V=400\n",
"P0=1210\n",
"I0=8.7\n",
"Ri=(V/sqrt(3))^2/P0*3\n",
"disp(Ri)\n",
"pf=P0/sqrt(3)/V/I0\n",
"theta0=acos(pf)\n",
"Xm=Ri/tan(theta0)\n",
"disp(Xm)\n",
"\n",
"P1=6050\n",
"V1=200\n",
"I1=47.8\n",
"R=P1/3/I1/I1\n",
"R1=0.42\n",
"disp(R1)\n",
"R2=R-R1\n",
"disp(R2)\n",
"Z=V1/sqrt(3)/I1\n",
"X=sqrt(Z*Z-R*R)\n",
"disp(X)\n",
"\n",
"ns=750\n",
"n=710\n",
"ws=ns*2*%pi/60\n",
"s=1-n/ns\n",
"Z=R1+R2/s+%i*X\n",
"I2=V/sqrt(3)/Z\n",
"I0=I0*exp(-%i*theta0)\n",
"I1=I0+I2\n",
"disp(norm(I1))\n",
"pf=real(I1)/norm(I1)\n",
"disp(pf)\n",
"T=norm(3*I2*I2*R2/s/ws)\n",
"disp(T)\n",
"Pout=T*ws*(1-s)\n",
"Pin=sqrt(3)*V*norm(I1)*pf\n",
"effi=Pout/Pin\n",
"disp(effi)\n",
"\n",
"s=1\n",
"Z=R+%i*X\n",
"I2=V/sqrt(3)/Z\n",
"I1=I0+I2\n",
"disp(norm(I1))\n",
"Tstart=norm(3*I2*I2*R2/s/ws)\n",
"disp(Tstart)\n",
"\n",
"smaxT=R2/sqrt(R1^2+X^2)\n",
"Z=R1+R2/smaxT+%i*X\n",
"I2=V/sqrt(3)/norm(Z)\n",
"Tmax=3*I2*I2*R2/smaxT/ws\n",
"disp(Tmax)\n",
"disp(smaxT)"
   ]
   }
,
{
		   "cell_type": "markdown",
		   "metadata": {},
		   "source": [
			"## Example 12.9: Problem9.sce"
		   ]
		  },
  {
"cell_type": "code",
	   "execution_count": null,
	   "metadata": {
	    "collapsed": true
	   },
	   "outputs": [],
"source": [
"Is_by_Ifl=5\n",
"sfl=0.04\n",
"Ts_by_Tfl=Is_by_Ifl^2*sfl\n",
"disp('pu',Ts_by_Tfl)"
   ]
   }
],
"metadata": {
		  "kernelspec": {
		   "display_name": "Scilab",
		   "language": "scilab",
		   "name": "scilab"
		  },
		  "language_info": {
		   "file_extension": ".sce",
		   "help_links": [
			{
			 "text": "MetaKernel Magics",
			 "url": "https://github.com/calysto/metakernel/blob/master/metakernel/magics/README.md"
			}
		   ],
		   "mimetype": "text/x-octave",
		   "name": "scilab",
		   "version": "0.7.1"
		  }
		 },
		 "nbformat": 4,
		 "nbformat_minor": 0
}
