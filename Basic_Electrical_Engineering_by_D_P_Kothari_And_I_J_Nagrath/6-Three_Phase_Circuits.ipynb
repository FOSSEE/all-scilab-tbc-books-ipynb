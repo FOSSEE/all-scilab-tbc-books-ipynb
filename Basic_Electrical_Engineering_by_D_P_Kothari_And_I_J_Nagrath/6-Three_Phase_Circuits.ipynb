{
"cells": [
 {
		   "cell_type": "markdown",
	   "metadata": {},
	   "source": [
       "# Chapter 6: Three Phase Circuits"
	   ]
	},
{
		   "cell_type": "markdown",
		   "metadata": {},
		   "source": [
			"## Example 6.10: Problem10.sce"
		   ]
		  },
  {
"cell_type": "code",
	   "execution_count": null,
	   "metadata": {
	    "collapsed": true
	   },
	   "outputs": [],
"source": [
"omega=exp(%i*120/180*%pi)\n",
"\n",
"Zp=17.32+%i*10\n",
"Vab=400\n",
"Iab=Vab/Zp\n",
"Ica=Iab/omega\n",
"IAa=Iab-Ica\n",
"IBb=IAa/omega\n",
"ICc=IAa*omega\n",
"disp(ICc,IBb,IAa)\n",
"\n",
"Pab=(norm(Iab)^2)*real(Zp)\n",
"Ptotal=3*Pab\n",
"disp(Ptotal)\n",
"\n",
"Itotal=IAa+IBb+ICc\n",
"disp(Itotal)"
   ]
   }
,
{
		   "cell_type": "markdown",
		   "metadata": {},
		   "source": [
			"## Example 6.11: Problem11.sce"
		   ]
		  },
  {
"cell_type": "code",
	   "execution_count": null,
	   "metadata": {
	    "collapsed": true
	   },
	   "outputs": [],
"source": [
"omega=exp(%i*120/180*%pi)\n",
"\n",
"function [x,y]=polar_to_cart(r,theta)\n",
"    theta=theta/180*%pi\n",
"    x=r*cos(theta)\n",
"    y=r*sin(theta)\n",
"endfunction\n",
"\n",
"[Zr,Zc]=polar_to_cart(5,60)\n",
"Z=complex(Zr,Zc)\n",
"\n",
"[Vr,Vc]=polar_to_cart(25,30)\n",
"Van=complex(Vr,Vc)\n",
"\n",
"Ian=Van/Z\n",
"Ibn=Ian/omega\n",
"Icn=Ian*omega\n",
"\n",
"Vcn=Van*omega\n",
"Vac=Van-Vcn\n",
"\n",
"disp(Ibn,Icn,Vac)"
   ]
   }
,
{
		   "cell_type": "markdown",
		   "metadata": {},
		   "source": [
			"## Example 6.12: Problem12.sce"
		   ]
		  },
  {
"cell_type": "code",
	   "execution_count": null,
	   "metadata": {
	    "collapsed": true
	   },
	   "outputs": [],
"source": [
"V=400\n",
"w=2*50*%pi\n",
"P=25000\n",
"pf1=0.7\n",
"theta1=acos(pf1)\n",
"Il1=P/(sqrt(3)*V*pf1)*exp(-%i*theta1)\n",
"Ip1=Il1/sqrt(3)\n",
"\n",
"\n",
"pf2=0.85\n",
"theta2=acos(pf2)\n",
"Il2=P/(sqrt(3)*V*pf2)*exp(-%i*theta2)\n",
"Ip2=Il2/sqrt(3)\n",
"\n",
"Ic=Ip2-Ip1                      ////calculation mistake in the book at this step\n",
"C=real(Ic/(V*w*%i))\n",
"disp(C)"
   ]
   }
,
{
		   "cell_type": "markdown",
		   "metadata": {},
		   "source": [
			"## Example 6.13: Problem13.sce"
		   ]
		  },
  {
"cell_type": "code",
	   "execution_count": null,
	   "metadata": {
	    "collapsed": true
	   },
	   "outputs": [],
"source": [
"omega=exp(%i*120/180*%pi)\n",
"Vrn=400/sqrt(3)\n",
"Vyn=Vrn/omega\n",
"Vbn=Vrn*omega\n",
"\n",
"P1=4000\n",
"P2=8000\n",
"P3=12000\n",
"\n",
"Ir=conj(P1/Vrn)\n",
"Iy=conj(P2/Vyn)\n",
"Ib=conj(P3/Vbn)\n",
"\n",
"In=Ir+Iy+Ib\n",
"\n",
"disp(norm(Ir),norm(Iy),norm(Ib),norm(In))"
   ]
   }
,
{
		   "cell_type": "markdown",
		   "metadata": {},
		   "source": [
			"## Example 6.14: Problem14.sce"
		   ]
		  },
  {
"cell_type": "code",
	   "execution_count": null,
	   "metadata": {
	    "collapsed": true
	   },
	   "outputs": [],
"source": [
"function [x,y]=polar_to_cart(r,theta)\n",
"    theta=theta/180*%pi\n",
"    x=r*cos(theta)\n",
"    y=r*sin(theta)\n",
"endfunction\n",
"\n",
"\n",
"Vbc=-400*%i\n",
"Rl=1\n",
"\n",
"[Sr,Sc]=polar_to_cart(10000,acos(0.8))\n",
"S=complex(Sr,Sc)\n",
"\n",
"\n",
"Vl=Vbc\n",
"Il=norm(S/(sqrt(3)*Vl))        ////////calculation mistake in book here\n",
"P=3*Il*Il*Rl\n",
"disp(P)\n",
"\n",
"Van=norm(Vbc/sqrt(3))\n",
"\n",
"Ia=Il*exp(-%i*acos(0.8))\n",
"omega=exp(%i*120/180*%pi)\n",
"Ib=Ia/omega\n",
"\n",
"disp(Van,Ia,Ib)"
   ]
   }
,
{
		   "cell_type": "markdown",
		   "metadata": {},
		   "source": [
			"## Example 6.15: Problem15.sce"
		   ]
		  },
  {
"cell_type": "code",
	   "execution_count": null,
	   "metadata": {
	    "collapsed": true
	   },
	   "outputs": [],
"source": [
"function [x,y]=polar_to_cart(r,theta)\n",
"    theta=theta/180*%pi\n",
"    x=r*cos(theta)\n",
"    y=r*sin(theta)\n",
"endfunction\n",
"\n",
"[Vr,Vc]=polar_to_cart(231,60)\n",
"Van=complex(Vr,Vc)\n",
"\n",
"Sp=(2.5-%i*1.2)*1000\n",
"\n",
"omega=exp(%i*120/180*%pi)\n",
"Vbn=Van/omega\n",
"Vcn=Van*omega\n",
"\n",
"Vbc=Vbn-Vcn\n",
"\n",
"Ibc=conj(Sp/Vbc)\n",
"Ica=Ibc*omega\n",
"Iab=Ibc/omega\n",
"\n",
"IaA=Ica-Iab\n",
"\n",
"disp(IaA)"
   ]
   }
,
{
		   "cell_type": "markdown",
		   "metadata": {},
		   "source": [
			"## Example 6.16: Problem16.sce"
		   ]
		  },
  {
"cell_type": "code",
	   "execution_count": null,
	   "metadata": {
	    "collapsed": true
	   },
	   "outputs": [],
"source": [
"omega=exp(%i*120/180*%pi)\n",
"Vab=400\n",
"Vca=400*omega\n",
"Vbc=400/omega\n",
"\n",
"//Mesh Method\n",
"A=[80+100*%i,100*%i;100*%i,50*%i]\n",
"I=inv(A)*[-Vca;Vbc]\n",
"Ia=I(1)\n",
"Ib=I(2)\n",
"\n",
"Ic=-(Ia+Ib)\n",
"Van=80*Ia\n",
"Vbn=-50*%i*Ib\n",
"Vcn=100*%i*Ic\n",
"\n",
"disp(Ia,Ib,Ic,Van,Vbn,Vcn)"
   ]
   }
,
{
		   "cell_type": "markdown",
		   "metadata": {},
		   "source": [
			"## Example 6.17: Problem17.sce"
		   ]
		  },
  {
"cell_type": "code",
	   "execution_count": null,
	   "metadata": {
	    "collapsed": true
	   },
	   "outputs": [],
"source": [
"omega=exp(%i*120/180*%pi)\n",
"Vab=400\n",
"Vca=400*omega\n",
"Vbc=400/omega\n",
"\n",
"Iab=Vab/(100*%i)\n",
"Ibc=Vbc/(-50*%i)\n",
"Ica=Vca/80\n",
"\n",
"Ia=Iab-Ica       ///calaculation mistake in the book here\n",
"Ib=Ibc-Iab\n",
"Ic=Ica-Ibc\n",
"\n",
"disp(Ia,Ib,Ic)"
   ]
   }
,
{
		   "cell_type": "markdown",
		   "metadata": {},
		   "source": [
			"## Example 6.18: Problem18.sce"
		   ]
		  },
  {
"cell_type": "code",
	   "execution_count": null,
	   "metadata": {
	    "collapsed": true
	   },
	   "outputs": [],
"source": [
"V=400\n",
"P=900\n",
"pf=0.8\n",
"\n",
"Pph=P/3\n",
"Vph=V/sqrt(3)\n",
"Iph=Pph/Vph/pf\n",
"Zph=Vph/Iph\n",
"theta=acos(pf)\n",
"Zph=Zph*exp(-%i*theta)\n",
"disp(Zph)"
   ]
   }
,
{
		   "cell_type": "markdown",
		   "metadata": {},
		   "source": [
			"## Example 6.19: Problem19.sce"
		   ]
		  },
  {
"cell_type": "code",
	   "execution_count": null,
	   "metadata": {
	    "collapsed": true
	   },
	   "outputs": [],
"source": [
"V=400\n",
"Z=complex(40,30)\n",
"\n",
"Iph=V/Z\n",
"Il=sqrt(3)*norm(Iph)\n",
"Ptotal=sqrt(3)*Il*V*cos(atan(imag(Z)/real(Z)))\n",
"\n",
"disp(Iph,Il,Ptotal)"
   ]
   }
,
{
		   "cell_type": "markdown",
		   "metadata": {},
		   "source": [
			"## Example 6.1: Problem1.sce"
		   ]
		  },
  {
"cell_type": "code",
	   "execution_count": null,
	   "metadata": {
	    "collapsed": true
	   },
	   "outputs": [],
"source": [
"function [x,y]=polar_to_cart(r,theta)\n",
"    theta=theta/180*%pi\n",
"    x=r*cos(theta)\n",
"    y=r*sin(theta)\n",
"endfunction\n",
"\n",
"omega=exp(%i*120/180*%pi)\n",
"Va=200\n",
"Vb=200/omega\n",
"Vc=200*omega\n",
"\n",
"[Zr,Zc]=polar_to_cart(100,60)\n",
"Z=complex(Zr,Zc)\n",
"\n",
"Ia=Va/Z\n",
"Ib=Vb/Z\n",
"Ic=Vc/Z\n",
"\n",
"disp(Va,Vb,Vc,Ia,Ib,Ic)"
   ]
   }
,
{
		   "cell_type": "markdown",
		   "metadata": {},
		   "source": [
			"## Example 6.20: Problem20.sce"
		   ]
		  },
  {
"cell_type": "code",
	   "execution_count": null,
	   "metadata": {
	    "collapsed": true
	   },
	   "outputs": [],
"source": [
"Ig1=15000/sqrt(3)/800/0.8\n",
"PG1=15000\n",
"QG1=15000*tan(acos(0.8))\n",
"SG1=PG1+%i*QG1\n",
"\n",
"Pll=3*Ig1*Ig1*1.2\n",
"Qll=3*Ig1*Ig1*1.8\n",
"Sll=Pll+%i*Qll\n",
"SlG1=SG1-Sll\n",
"Vl=SlG1/sqrt(3)/Ig1\n",
"\n",
"\n",
"Pl=30000\n",
"Ql=30000*tan(acos(0.8))\n",
"PlG2=Pl-real(SlG1)\n",
"QlG2=Ql-imag(SlG1)\n",
"SlG2=PlG2+%i*QlG2\n",
"\n",
"IG2=SlG2/sqrt(3)/Vl\n",
"\n",
"Pll2=3*IG2*IG2*0.8\n",
"Qll2=3*IG2*IG2*1.2\n",
"\n",
"PG2=PlG2+Pll2\n",
"QG2=QlG2+Qll2\n",
"SG2=PG2+%i*QG2\n",
"VG2=SG2/sqrt(3)/IG2\n",
"\n",
"disp(norm(SG2),norm(VG2))"
   ]
   }
,
{
		   "cell_type": "markdown",
		   "metadata": {},
		   "source": [
			"## Example 6.21: Problem21.sce"
		   ]
		  },
  {
"cell_type": "code",
	   "execution_count": null,
	   "metadata": {
	    "collapsed": true
	   },
	   "outputs": [],
"source": [
"omega=exp(%i*120/180*%pi)\n",
"w=2*50*%pi\n",
"Vry=415\n",
"Vyb=Vry/omega\n",
"Vbr=Vry*omega\n",
"\n",
"C=40E-6\n",
"Zry=100\n",
"Zyb=complex(20,60)\n",
"Zbr=1/(%i*w*C)\n",
"\n",
"I1=Vry/Zry\n",
"I2=Vyb/Zyb\n",
"I3=Vbr/Zbr\n",
"\n",
"Ir=I1-I3\n",
"Iy=I2-I1\n",
"Ib=I3-I2\n",
"\n",
"disp(norm(Ir),norm(Iy),norm(Ib))"
   ]
   }
,
{
		   "cell_type": "markdown",
		   "metadata": {},
		   "source": [
			"## Example 6.2: Problem2.sce"
		   ]
		  },
  {
"cell_type": "code",
	   "execution_count": null,
	   "metadata": {
	    "collapsed": true
	   },
	   "outputs": [],
"source": [
"Vl=400\n",
"Vph=Vl\n",
"pf=0.8\n",
"\n",
"Pph=1500/3\n",
"Iph=Pph/Vph/pf\n",
"Il=sqrt(3)*Iph\n",
"theta=acos(0.8)\n",
"Iph=Iph*exp(%i*theta)\n",
"Zph=Vph/Iph\n",
"\n",
"disp(Iph,Il,Zph)"
   ]
   }
,
{
		   "cell_type": "markdown",
		   "metadata": {},
		   "source": [
			"## Example 6.3: Problem3.sce"
		   ]
		  },
  {
"cell_type": "code",
	   "execution_count": null,
	   "metadata": {
	    "collapsed": true
	   },
	   "outputs": [],
"source": [
"Vl=400\n",
"pf=0.8\n",
"\n",
"Pph=1200/3\n",
"Vph=Vl/sqrt(3)\n",
"Iph=Pph/Vph/pf\n",
"Il=Iph\n",
"theta=acos(0.8)\n",
"Zph=Vph/Iph*exp(%i*theta)\n",
"\n",
"disp(Il,Iph,Zph)"
   ]
   }
,
{
		   "cell_type": "markdown",
		   "metadata": {},
		   "source": [
			"## Example 6.4: Problem4.sce"
		   ]
		  },
  {
"cell_type": "code",
	   "execution_count": null,
	   "metadata": {
	    "collapsed": true
	   },
	   "outputs": [],
"source": [
"function [x,y]=polar_to_cart(r,theta)\n",
"    theta=theta/180*%pi\n",
"    x=r*cos(theta)\n",
"    y=r*sin(theta)\n",
"endfunction\n",
"\n",
"Vl=400\n",
"Vp=Vl/sqrt(3)\n",
"disp(Vp)\n",
"\n",
"[Ir,Ic]=polar_to_cart(50,-30)\n",
"Il=complex(Ir,Ic)\n",
"Ip=Il\n",
"Zy=Vp/Il\n",
"disp(Zy)\n",
"\n",
"P=sqrt(3)*Vl*Il*cos(30/180*%pi)\n",
"Q=sqrt(3)*Vl*Il*sin(30/180*%pi)\n",
"disp(P,Q)"
   ]
   }
,
{
		   "cell_type": "markdown",
		   "metadata": {},
		   "source": [
			"## Example 6.5: Problem5.sce"
		   ]
		  },
  {
"cell_type": "code",
	   "execution_count": null,
	   "metadata": {
	    "collapsed": true
	   },
	   "outputs": [],
"source": [
"Vl=400\n",
"Z=16+%i*12\n",
"\n",
"Vp=Vl\n",
"Ip=Vp/Z\n",
"pf=cos(atan(imag(Z)/real(Z)))\n",
"Il=Ip*sqrt(3)\n",
"\n",
"P=sqrt(3)*Vl*Il*pf\n",
"Q=sqrt(3)*Vl*Il*sin(acos(pf))\n",
"\n",
"S=P+%i*Q\n",
"\n",
"disp(Ip,Il,pf,P,Q,S)"
   ]
   }
,
{
		   "cell_type": "markdown",
		   "metadata": {},
		   "source": [
			"## Example 6.6: Problem6.sce"
		   ]
		  },
  {
"cell_type": "code",
	   "execution_count": null,
	   "metadata": {
	    "collapsed": true
	   },
	   "outputs": [],
"source": [
"Vl=400\n",
"Zload=60+%i*15\n",
"\n",
"Vs=Vl/sqrt(3)\n",
"Z=0.3+%i*1+Zload\n",
"\n",
"Il=Vs/Z\n",
"Vload=Il*Zload*sqrt(3)\n",
"Pload=3*Il*Il*real(Zload)\n",
"Qload=3*Il*Il*imag(Zload)\n",
"Sload=Pload+%i*Qload\n",
"\n",
"////////////ll=lineloss\n",
"Pll=3*Il*Il*real(Z-Zload)\n",
"Qll=3*Il*Il*imag(Z-Zload)\n",
"Sll=Pll+%i*Qll\n",
"\n",
"Ssource=Sload+Sll\n",
"\n",
"disp(Il,Vload,Sload,Sll,Ssource)"
   ]
   }
,
{
		   "cell_type": "markdown",
		   "metadata": {},
		   "source": [
			"## Example 6.7: Problem7.sce"
		   ]
		  },
  {
"cell_type": "code",
	   "execution_count": null,
	   "metadata": {
	    "collapsed": true
	   },
	   "outputs": [],
"source": [
"Ig1=200000/sqrt(3)/11000/0.75\n",
"PG1=200000\n",
"QG1=200000*tan(acos(0.75))\n",
"SG1=PG1+%i*QG1\n",
"\n",
"Pll=3*Ig1*Ig1*1\n",
"Qll=3*Ig1*Ig1*2.2\n",
"Sll=Pll+%i*Qll\n",
"SlG1=SG1-Sll\n",
"Vl=SlG1/sqrt(3)/Ig1\n",
"\n",
"\n",
"Pl=400000\n",
"Ql=400000*tan(acos(0.8))\n",
"PlG2=Pl-real(SlG1)\n",
"QlG2=Ql-imag(SlG1)\n",
"SlG2=PlG2+%i*QlG2\n",
"\n",
"IG2=SlG2/sqrt(3)/Vl\n",
"\n",
"Pll2=3*IG2*IG2*0.6\n",
"Qll2=3*IG2*IG2*1.2\n",
"\n",
"PG2=PlG2+Pll2\n",
"QG2=QlG2+Qll2\n",
"SG2=PG2+%i*QG2\n",
"VG2=SG2/sqrt(3)/IG2\n",
"\n",
"disp(norm(SG2),norm(VG2))"
   ]
   }
,
{
		   "cell_type": "markdown",
		   "metadata": {},
		   "source": [
			"## Example 6.9: Problem9.sce"
		   ]
		  },
  {
"cell_type": "code",
	   "execution_count": null,
	   "metadata": {
	    "collapsed": true
	   },
	   "outputs": [],
"source": [
"function [x,y]=polar_to_cart(r,theta)\n",
"    theta=theta/180*%pi\n",
"    x=r*cos(theta)\n",
"    y=r*sin(theta)\n",
"endfunction\n",
"\n",
"Vl=400\n",
"[Ir,Ic]=polar_to_cart(20,-30)\n",
"Iab=complex(Ir,Ic)\n",
"\n",
"omega=exp(%i*120/180*%pi)\n",
"Ibc=Iab/omega\n",
"Ica=Iab*omega\n",
"\n",
"IAa=Iab-Ica\n",
"Pab=Vl*norm(Iab)*cos(30/180*%pi)\n",
"Ptotal=3*Pab\n",
"\n",
"Zp=Vl/Iab\n",
"Rp=real(Zp)\n",
"\n",
"disp(IAa)\n",
"disp(Ptotal)\n",
"disp(Rp)"
   ]
   }
],
"metadata": {
		  "kernelspec": {
		   "display_name": "Scilab",
		   "language": "scilab",
		   "name": "scilab"
		  },
		  "language_info": {
		   "file_extension": ".sce",
		   "help_links": [
			{
			 "text": "MetaKernel Magics",
			 "url": "https://github.com/calysto/metakernel/blob/master/metakernel/magics/README.md"
			}
		   ],
		   "mimetype": "text/x-octave",
		   "name": "scilab",
		   "version": "0.7.1"
		  }
		 },
		 "nbformat": 4,
		 "nbformat_minor": 0
}
