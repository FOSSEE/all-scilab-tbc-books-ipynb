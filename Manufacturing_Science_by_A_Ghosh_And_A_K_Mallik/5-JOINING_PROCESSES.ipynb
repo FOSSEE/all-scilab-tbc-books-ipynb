{
"cells": [
 {
		   "cell_type": "markdown",
	   "metadata": {},
	   "source": [
       "# Chapter 5: JOINING PROCESSES"
	   ]
	},
{
		   "cell_type": "markdown",
		   "metadata": {},
		   "source": [
			"## Example 5.1: Calculation_of_maximum_power_of_the_arc.sce"
		   ]
		  },
  {
"cell_type": "code",
	   "execution_count": null,
	   "metadata": {
	    "collapsed": true
	   },
	   "outputs": [],
"source": [
"clc \n",
"// Given that\n",
"A = 20 // Value of A in voltage length characteristic equation\n",
"B = 40 // Value of B in voltage length characteristic equation\n",
"v= 80 // Open circuit voltage in V\n",
"I = 1000 // Short circuit current in amp\n",
"// Sample Problem 1 on page no. 285\n",
"printf('\n # PROBLEM 5.1 # \n')\n",
"l=poly(0,'l')\n",
"i = ((v-A)-(B* l))*(I/v)\n",
"V = (A+B*l)// Given in the question\n",
"P = V*i\n",
"k = derivat(P)\n",
"L=roots(k)\n",
"Pmax=((v-A)-(B* L))*(I/v)*(A+B*L)\n",
"printf('\n Maximum power of the arc = %d kVA',Pmax/1000)"
   ]
   }
,
{
		   "cell_type": "markdown",
		   "metadata": {},
		   "source": [
			"## Example 5.2: Calculation_of_rate_of_heat_generated_per_unit_area.sce"
		   ]
		  },
  {
"cell_type": "code",
	   "execution_count": null,
	   "metadata": {
	    "collapsed": true
	   },
	   "outputs": [],
"source": [
"clc \n",
"// Given that\n",
"N  =25 // No. of bridges per cm^2\n",
"r = 0.1 // Radius of bridge in mm\n",
"rho = 2e-5 // Resistivity of the material in ohm-cm\n",
"v= 5 // Applied voltage in V\n",
"// Sample Problem 2 on page no. 288\n",
"printf('\n # PROBLEM 5.2 # \n')\n",
"Rc = 0.85*rho/(N*%pi*r*0.1)\n",
"Q = (v^2)/Rc\n",
"printf('\n Rate of heat generated per unit area = %e W/cm^2',Q)\n",
"// Answer in the book is given as 1.136e5 W/cm^2"
   ]
   }
,
{
		   "cell_type": "markdown",
		   "metadata": {},
		   "source": [
			"## Example 5.3: Calculation_of_maximum_passible_welding_speed.sce"
		   ]
		  },
  {
"cell_type": "code",
	   "execution_count": null,
	   "metadata": {
	    "collapsed": true
	   },
	   "outputs": [],
"source": [
"clc \n",
"// Given that\n",
"P = 2.5 // Power in kVA\n",
"t = 3 // Thickness of steel plate in mm\n",
"T = 85 // Percentage of total time when arc is on\n",
"alpha = 1.2e-5 // Thermal diffusivity of steel in m^2/sec\n",
"k = 43.6 // Thermal conductivity of steel in W/m-°C\n",
"theta_ = 1530 // Melting point of steel in °C\n",
"theta = 30 // Ambient temperature in °C\n",
"gama = 60 // Angle in degree\n",
"// Sample Problem  on page no. 292\n",
"printf('\n # PROBLEM 5.3 # \n')\n",
"C = T/100\n",
"Q = C*P*10^3\n",
"w = t/sind(gama)\n",
"theta_m = theta_ - theta\n",
"v_max = (4*alpha/(w*(10^-3)))*((Q/(8*k*theta_m*t*(10^-3)))-0.2)\n",
"printf('\n Maximum passible welding speed = %f m/sec',v_max)\n",
"// Answer in the book is given as 0.0146 m/sec"
   ]
   }
,
{
		   "cell_type": "markdown",
		   "metadata": {},
		   "source": [
			"## Example 5.4: Calculation_of_maximum_shear_stress.sce"
		   ]
		  },
  {
"cell_type": "code",
	   "execution_count": null,
	   "metadata": {
	    "collapsed": true
	   },
	   "outputs": [],
"source": [
"clc \n",
"// Given that\n",
"t = 1.2 // Thickness of aluminium sheet in mm\n",
"t_ = 0.25 // Adhesive thickness in mm\n",
"l = 12 // Overlapped length in mm\n",
"E = 703 // Modulus of elastisity in N/mm^2\n",
"G = 11.9 // Shear modulus of adhesive in N/mm^2\n",
"T_S = 0.6 // Ultimate shear stress in N/mm^2\n",
"// Sample Problem 4 on page no. 303\n",
"printf('\n # PROBLEM 5.4 # \n')\n",
"K = (((l^2)*G)/(2*E*t*t_))^(1/2)\n",
"T = T_S/K\n",
"printf('\n The maximum shear stress the lap joint can withstand = %f N/mm^2',T)\n",
"// Answer in the book is given as 0.274 N/mm^2"
   ]
   }
],
"metadata": {
		  "kernelspec": {
		   "display_name": "Scilab",
		   "language": "scilab",
		   "name": "scilab"
		  },
		  "language_info": {
		   "file_extension": ".sce",
		   "help_links": [
			{
			 "text": "MetaKernel Magics",
			 "url": "https://github.com/calysto/metakernel/blob/master/metakernel/magics/README.md"
			}
		   ],
		   "mimetype": "text/x-octave",
		   "name": "scilab",
		   "version": "0.7.1"
		  }
		 },
		 "nbformat": 4,
		 "nbformat_minor": 0
}
