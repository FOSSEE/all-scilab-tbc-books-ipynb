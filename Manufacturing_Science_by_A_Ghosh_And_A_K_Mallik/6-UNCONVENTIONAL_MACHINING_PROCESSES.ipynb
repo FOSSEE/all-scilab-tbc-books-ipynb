{
"cells": [
 {
		   "cell_type": "markdown",
	   "metadata": {},
	   "source": [
       "# Chapter 6: UNCONVENTIONAL MACHINING PROCESSES"
	   ]
	},
{
		   "cell_type": "markdown",
		   "metadata": {},
		   "source": [
			"## Example 6.10: Calculation_of_surface_roughness.sce"
		   ]
		  },
  {
"cell_type": "code",
	   "execution_count": null,
	   "metadata": {
	    "collapsed": true
	   },
	   "outputs": [],
"source": [
"clc\n",
"// Given that\n",
"R = 50 // Resistance in relaxation circuit in ohm\n",
"C = 10 // Capacitance in relaxation circuit in micro F\n",
"V = 200 // Supply voltage in Volt\n",
"V_ = 150 // Minimum required voltage for discharge in Volt\n",
"// Sample Problem 10 on page no. 382\n",
"printf('\n # PROBLEM 6.10 # \n')\n",
"E = (1/2)*C*(10^-6)*(V_^2)\n",
"tc = R*C*(10^-6)*log(V/(V-V_))\n",
"W = (E/tc)*(10^-3)\n",
"Q = 27.4*(W^(1.54))\n",
"Hrms = 1.11*(Q^0.384)\n",
"printf('\n Surface roughness = %f micro meter',Hrms)\n",
"// Answer in the book is given as 5.16 micro meter"
   ]
   }
,
{
		   "cell_type": "markdown",
		   "metadata": {},
		   "source": [
			"## Example 6.11: Calculation_of_speed_of_cutting.sce"
		   ]
		  },
  {
"cell_type": "code",
	   "execution_count": null,
	   "metadata": {
	    "collapsed": true
	   },
	   "outputs": [],
"source": [
"clc\n",
"// Given that\n",
"w = 150 // Width of slot in micro meter\n",
"t = 1 // Thickness of tungsten sheet in mm\n",
"P = 5 // Power of electron beam in KW\n",
"// Sample Problem 11 on page no. 391\n",
"printf('\n # PROBLEM 6.11 # \n')\n",
"C = 12 // Specific power consumption for tugsten in W/(mm^3/min) from the table 6.7 given in the book \n",
"v = (P*(1000)/C)*(1000/(w*t))*(1/600)\n",
"printf('\n Speed of cutting = %f cm/sec',v)"
   ]
   }
,
{
		   "cell_type": "markdown",
		   "metadata": {},
		   "source": [
			"## Example 6.12: Calculation_of_electron_range.sce"
		   ]
		  },
  {
"cell_type": "code",
	   "execution_count": null,
	   "metadata": {
	    "collapsed": true
	   },
	   "outputs": [],
"source": [
"clc\n",
"// Given that\n",
"V = 150e3 // Acceleration voltage in V\n",
"// Sample Problem 12 on page no. 392\n",
"printf('\n # PROBLEM 6.12 # \n')\n",
"D = 76e-7 // Density of steel in kg/mm^3\n",
"Delta = 2.6*(10^-17)*((V^2)/D)\n",
"printf('\n Electron range = %d micro meter',ceil(Delta*(10^3)))"
   ]
   }
,
{
		   "cell_type": "markdown",
		   "metadata": {},
		   "source": [
			"## Example 6.13: Calculation_of_speed_of_cutting.sce"
		   ]
		  },
  {
"cell_type": "code",
	   "execution_count": null,
	   "metadata": {
	    "collapsed": true
	   },
	   "outputs": [],
"source": [
"clc\n",
"// Given that\n",
"w = 0.015 // Width of slot in cm\n",
"t = 1 // Thickness of tungsten sheet in mm\n",
"P = 5e3 // Power of electron beam in W\n",
"// Sample Problem 13 on page no. 395\n",
"printf('\n # PROBLEM 6.13 # \n')\n",
"rho_c = 2.71 // Value of volume specific heat for tugsten in J/cm^3\n",
"k = 2.15 // Thermal conductivity of tungsten in W/cm-°C\n",
"T_m = 3400 // Melting temperture in °C\n",
"Z = t/10 // In cm\n",
"v = (0.1^2)*(P^2)/((T_m^2)*(Z^2)*(k*w*rho_c))\n",
"printf('\n Speed of cutting = %f cm/sec',v)"
   ]
   }
,
{
		   "cell_type": "markdown",
		   "metadata": {},
		   "source": [
			"## Example 6.14: Calculation_of_time.sce"
		   ]
		  },
  {
"cell_type": "code",
	   "execution_count": null,
	   "metadata": {
	    "collapsed": true
	   },
	   "outputs": [],
"source": [
"clc\n",
"// Given that\n",
"I = 1e5 // Power intensity of laser beam in W/mm^2\n",
"T_m = 3400 // Melting temperture of tungsten in °C\n",
"rho_c = 2.71 // Value of volume specific heat for tugsten in J/cm^3\n",
"k = 2.15 // Thermal conductivity of tungsten in W/cm-°C\n",
"p_a = 10 // Percentage of beam absorbed\n",
"// Sample Problem 14 on page no. 399\n",
"printf('\n # PROBLEM 6.14 # \n')\n",
"alpha = k/rho_c\n",
"H = (p_a/100)*(I)*(100)\n",
"tm = (%pi/alpha)*((T_m*k)/(2*H))^(2)\n",
"printf('\n Time required for the surface to reach the melting point = %f sec',tm)"
   ]
   }
,
{
		   "cell_type": "markdown",
		   "metadata": {},
		   "source": [
			"## Example 6.15: Calculation_of_time.sce"
		   ]
		  },
  {
"cell_type": "code",
	   "execution_count": null,
	   "metadata": {
	    "collapsed": true
	   },
	   "outputs": [],
"source": [
"clc\n",
"// Given that\n",
"I = 1e5 // Power intensity of laser beam in W/mm^2\n",
"d = 200 // Focused diameter of incident beam in micro meter\n",
"T_m = 3400 // Melting temperture of tungsten in °C\n",
"rho_c = 2.71 // Value of volume specific heat for tugsten in J/cm^3\n",
"k = 2.15 // Thermal conductivity of tungsten in W/cm-°C\n",
"p_a = 10 // Percentage of beam absorbed\n",
"// Sample Problem 15 on page no. 400\n",
"printf('\n # PROBLEM 6.15 # \n')\n",
"H = (p_a/100)*(I)*(100)\n",
"alpha = k/rho_c\n",
"zeta = 0.5 // Fr0m the standard table\n",
" // By solving the equation T_m = ((2*H)*(sqrt(alpha*tm))/k)*((1/sqrt(%pi))-ierfc(d/(4*sqrt(alpha*tm))))\n",
"tm = 1/((200^2)*(zeta^2)*(alpha))\n",
"printf('\n Time required for the centre of the circular spot to reach the melting point = %f sec',tm)\n",
"// Answer in the book is given as 0.00013 sec"
   ]
   }
,
{
		   "cell_type": "markdown",
		   "metadata": {},
		   "source": [
			"## Example 6.16: Calculation_of_minimum_value_of_beam_power_intensity.sce"
		   ]
		  },
  {
"cell_type": "code",
	   "execution_count": null,
	   "metadata": {
	    "collapsed": true
	   },
	   "outputs": [],
"source": [
"clc\n",
"// Given that\n",
"d = 200 // Diameter of focussed laser beam in micro meter\n",
"T_m = 3400 // Melting temperture of tungsten in °C\n",
"k = 2.15 // Thermal conductivity of tungsten in W/cm-°C\n",
"p_a = 10 // Percentage of beam absorbed\n",
"// Sample Problem 16 on page no. 401\n",
"printf('\n # PROBLEM 6.16 # \n')\n",
"H = 2*k*T_m/(d*10^-4)\n",
"I = H/(p_a/100)\n",
"printf('\n Minimum value of beam power intensity to achieve the melting = %e W/cm^2',I)"
   ]
   }
,
{
		   "cell_type": "markdown",
		   "metadata": {},
		   "source": [
			"## Example 6.17: Calculation_of_time.sce"
		   ]
		  },
  {
"cell_type": "code",
	   "execution_count": null,
	   "metadata": {
	    "collapsed": true
	   },
	   "outputs": [],
"source": [
"clc\n",
"// Given that\n",
"I = 1e5 // Power intensity of laser beam in W/mm^2\n",
"t = 0.5 // Thickness of tungsten sheet in mm\n",
"d = 200 // Drill diameter in micro meter\n",
"P = 3e4 // Energy required per unit volume to vapourize tungsten in J/cm^3\n",
"p_e = 10 // Percentage efficiency\n",
"T_m = 3400 // Melting temperture of tungsten in °C\n",
"k = 2.15 // Thermal conductivity of tungsten in W/cm-°C\n",
"// Sample Problem 17 on page no. 403\n",
"printf('\n # PROBLEM 6.17 # \n')\n",
"H = (p_e/100)*(I)*(100)\n",
"v = H/P\n",
"T = t*(0.1)/(v)\n",
"printf('\n The time required to drill a through hole = %f sec',T)"
   ]
   }
,
{
		   "cell_type": "markdown",
		   "metadata": {},
		   "source": [
			"## Example 6.1: Calculation_of_time.sce"
		   ]
		  },
  {
"cell_type": "code",
	   "execution_count": null,
	   "metadata": {
	    "collapsed": true
	   },
	   "outputs": [],
"source": [
"clc \n",
"// Given that\n",
"a = 5 // Side of the square hole in mm\n",
"t = 4 // Thickness of tungsten plate in mm\n",
"d = 0.01 // Diameter of abraisive grains in mm\n",
"F = 3.5 // Force for feeding in N\n",
"A =25e-3 // Amplitude of tool oscillation in mm\n",
"f = 25e3 // Frequency in Hz\n",
"Hw = 6900 // Fracture hardness of WC in N/mm^2\n",
"// Sample Problem 1 on page no. 332\n",
"printf('\n # PROBLEM 6.1 # \n')\n",
"Z = (1/2)*(4*s^2)/(%pi*d^2)\n",
"lambda = 5\n",
"d1 = (d^2)\n",
"h_w = (sqrt((8*F*A)/(%pi*Z*d1*Hw*(1+lambda))))\n",
"Q = (2/3)*((d1*h_w)^(3/2))*Z*f*%pi\n",
"t = (a^2)*t/(Q*60)\n",
"printf('\n The approximate time required = %f min',t)\n",
"// Answer in the book is given as 13.66 min"
   ]
   }
,
{
		   "cell_type": "markdown",
		   "metadata": {},
		   "source": [
			"## Example 6.2: Calculation_of_percentage_change_in_cutting_time.sce"
		   ]
		  },
  {
"cell_type": "code",
	   "execution_count": null,
	   "metadata": {
	    "collapsed": true
	   },
	   "outputs": [],
"source": [
"clc \n",
"// Given that\n",
"r = 1/3 // Ratio of hardness values of copper and steel\n",
"// Sample Problem 2 on page no. 335\n",
"printf('\n # PROBLEM 6.2 # \n')\n",
"R_Q = (r)^(3/4)\n",
"R_t = 1/R_Q\n",
"P_R = (1-(1/R_t))*100\n",
"printf('\n Percentage change in cutting time when tool is changed from coppper to steel = %d percent(reduction)',P_R)"
   ]
   }
,
{
		   "cell_type": "markdown",
		   "metadata": {},
		   "source": [
			"## Example 6.3: Calculation_of_current_required.sce"
		   ]
		  },
  {
"cell_type": "code",
	   "execution_count": null,
	   "metadata": {
	    "collapsed": true
	   },
	   "outputs": [],
"source": [
"clc \n",
"// Given that\n",
"m = 5 // Romoval rate in cm^3/min\n",
"A = 56 // Atomic gram weight in gm\n",
"Z = 2 // Valence at which dissolation takes place\n",
"D = 7.8 // Density of iron in gm/cm^3\n",
"// Sample Problem 3 on page no. 345\n",
"printf('\n # PROBLEM 6.3 # \n')\n",
"I = (m/60)*(D*Z*96500)/(A)\n",
"printf('\n Current required = %d amp',I)"
   ]
   }
,
{
		   "cell_type": "markdown",
		   "metadata": {},
		   "source": [
			"## Example 6.4: Calculation_of_removal_rate.sce"
		   ]
		  },
  {
"cell_type": "code",
	   "execution_count": null,
	   "metadata": {
	    "collapsed": true
	   },
	   "outputs": [],
"source": [
"clc \n",
"// Given that\n",
"I = 1000 // Current in amp\n",
"p1 = 72.5 // Percentage(by weight) of Ni in Nimonic 75 alloy\n",
"p2 = 19.5 // Percentage(by weight) of Cr in Nimonic 75 alloy\n",
"p3 = 5 // Percentage(by weight) of Fe in Nimonic 75 alloy\n",
"p4 = 0.4 // Percentage(by weight) of Ti in Nimonic 75 alloy\n",
"p5 = 1 // Percentage(by weight) of Si in Nimonic 75 alloy\n",
"p6 = 1 // Percentage(by weight) of Mn in Nimonic 75 alloy\n",
"p7 = 06 // Percentage(by weight) of Cu in Nimonic 75 alloy\n",
"// Sample Problem 4 on page no. 345\n",
"printf('\n # PROBLEM 6.4 # \n')\n",
"// From the table 6.3 given in the book\n",
"D1 = 8.9 // Density of Ni in g/cm^3\n",
"D2 = 7.19 // Density of Cr in g/cm^3\n",
"D3 = 7.86 // Density of Fe in g/cm^3\n",
"D4 = 4.51 // Density of Ti in g/cm^3\n",
"D5 = 2.33 // Density of Si in g/cm^3\n",
"D6 = 7.43 // Density of Mn in g/cm^3\n",
"D7 = 8.96 // Density of Cu in g/cm^3\n",
"A1 = 58.71 // Gram atomic weight of Ni in gm\n",
"A2 = 51.99 // Gram atomic weight of Cr in gm\n",
"A3 = 55.85 // Gram atomic weight of Fe in gm\n",
"A4 = 47.9 // Gram atomic weight of Ti in gm\n",
"A5 = 28.09 // Gram atomic weight of Si in gm\n",
"A6 = 54.94 // Gram atomic weight of Mn in gm\n",
"A7 = 63.57 // Gram atomic weight of Cu in gm\n",
"Z1 = 2 // Valence of dessolation for Ni\n",
"Z2 = 2 // Valence of dessolation for Cr\n",
"Z3 = 2 // Valence of dessolation for Fe\n",
"Z4 = 3 // Valence of dessolation for Ti\n",
"Z5 = 4 // Valence of dessolation for Si\n",
"Z6 = 2 // Valence of dessolation for Mn\n",
"Z7 = 1 // Valence of dessolation for Cu\n",
"// Above values are given in table 6.3 in the book\n",
"D = 100/((p1/D1)+(p2/D2)+(p3/D3)+(p4/D4)+(p5/D5)+(p6/D6)+(p7/D7))\n",
"Q = ((0.1035*(10^-2))/D)*(1/((p1*Z1/A1)+(p2*Z2/A2)+(p3*Z3/A3)+(p4*Z4/A4)+(p5*Z5/A5)+(p6*Z6/A6)+(p7*Z7/A7)))\n",
"R = Q*I*60\n",
"printf('\n Removal rate = %f cm^3/min',R)"
   ]
   }
,
{
		   "cell_type": "markdown",
		   "metadata": {},
		   "source": [
			"## Example 6.5: Calculation_of_equilibrium_gap.sce"
		   ]
		  },
  {
"cell_type": "code",
	   "execution_count": null,
	   "metadata": {
	    "collapsed": true
	   },
	   "outputs": [],
"source": [
"clc \n",
"// Given that\n",
"V = 10 // DC supply voltage in Volt\n",
"k = 0.2 // Conductivity of electrolyte in ohm^-1-cm^-1\n",
"f = 0.1 // Feed rate in m/min\n",
"Vo = 1.5 // Total overvoltage in Volt\n",
"F = 96500 // Faraday constant in coulombs per mole\n",
"// Sample Problem 5 on page no. 352\n",
"printf('\n # PROBLEM 6.5 # \n')\n",
"A = 55.85 // Atomic gram weight of iron in gm\n",
"Z = 2 // Valency of dissolation of iron\n",
"rho = 7.86 // Density of iron in gm/cm^3\n",
"Yc = k*A*(V-Vo)/(rho*Z*F*(f/60))\n",
"printf('\n Equilibrium gap = %f cm',Yc)\n",
"// Answer in the book is given as 0.04 cm"
   ]
   }
,
{
		   "cell_type": "markdown",
		   "metadata": {},
		   "source": [
			"## Example 6.6: Calculation_of_largest_passible_feed_rate.sce"
		   ]
		  },
  {
"cell_type": "code",
	   "execution_count": null,
	   "metadata": {
	    "collapsed": true
	   },
	   "outputs": [],
"source": [
"clc \n",
"// Given that\n",
"S_I1 = 5 // Surface irregulation in micro meter\n",
"S_I2 = 8 // Surface irregulation in micro meter\n",
"V = 12 // DC supply voltage in Volt\n",
"k = 0.2 // Conductivity of electrolyte in ohm^-1-cm^-1\n",
"Vo = 1.5 // Total overvoltage in Volt\n",
"F = 96500 // Faraday constant in coulombs per mole\n",
"// Sample Problem 6 on page no. 353\n",
"printf('\n # PROBLEM 6.6 # \n')\n",
"Y_min = (S_I1+S_I2)*(10^(-4))\n",
"A = 55.85 // Atomic gram weight of iron in gm\n",
"Z = 2 // Valency of dissolation of iron\n",
"D = 7.86 // Density of iron in gm/cm^3\n",
"f_max = (k*A*(V-Vo)/(Z*D*F*Y_min))*60\n",
"printf('\n Largest passible feed rate = %f mm/min',f_max*10)"
   ]
   }
,
{
		   "cell_type": "markdown",
		   "metadata": {},
		   "source": [
			"## Example 6.7: Calculation_of_total_force_actin_on_the_tool.sce"
		   ]
		  },
  {
"cell_type": "code",
	   "execution_count": null,
	   "metadata": {
	    "collapsed": true
	   },
	   "outputs": [],
"source": [
"clc \n",
"// Given that\n",
"f  = 0.2 // Feed rate in cm/min\n",
"l = 2.54 // Length of tool face in cm\n",
"w = 2.54 // Width of tool face in cm\n",
"T_b = 95 // Boiling temperature of electrolyte in °C\n",
"Nita = 0.876e-3 // Viscosity of electrolyte in kg/m-sec\n",
"D_e = 1.088 // Density of electrolyte in g/cm^3\n",
"c = .997 // Specific heat of electrolyte\n",
"V = 10 // DC supply voltage in Volt\n",
"k = 0.2 // Conductivity of electrolyte in ohm^-1-cm^-1\n",
"T = 35 // Ambient temperature in °C\n",
"Vo = 1.5 // Total overvoltage in Volt\n",
"F = 96500 // Faraday constant in coulombs per mole\n",
"// Sample Problem 7 on page no. 355\n",
"printf('\n # PROBLEM 6.7 # \n')\n",
"A = 55.85 // Atomic gram weight of iron in gm\n",
"Z = 2 // Valency of dissolation of iron\n",
"D = 7.86 // Density of iron in gm/cm^3\n",
"Ye = k*A*(V-Vo)*60/(D*Z*F*f)\n",
"J = k*(V-Vo)/(Ye)\n",
"D_T = T_b -T\n",
"v = (J^2)*(l)/(k*D_T*D_e*c)\n",
"Re = ((D_e*v*2*Ye)/Nita)*(0.1)\n",
"p = 0.3164*D_e*(v^2)*l/(4*Ye*(Re^0.25))*(10^-4)\n",
"A = l*w\n",
"F = p*A*(10^-1)*(1/2)\n",
"printf('\n Total force acting on the tool = %d N',F)\n",
"// Answer in the book is given as 79 N"
   ]
   }
,
{
		   "cell_type": "markdown",
		   "metadata": {},
		   "source": [
			"## Example 6.8: Calculation_of_equation_of_required_tool_geometry.sce"
		   ]
		  },
  {
"cell_type": "code",
	   "execution_count": null,
	   "metadata": {
	    "collapsed": true
	   },
	   "outputs": [],
"source": [
"clc\n",
"x = poly(0,'x') \n",
"// Given that\n",
"y = 10+0.3*x-0.05*x^2//Equation of geometry of workpiece surface\n",
"V = 15 // Applied potential in Volt\n",
"f  = 0.75 // Feed velocity in cm/min\n",
"k = 0.2 // Conductivity of electrolyte in ohm^-1-cm^-1\n",
"Vo = 0.67 // Total overvoltage in Volt\n",
"F = 96500 // Faraday constant in coulombs per mole\n",
"// Sample Problem 8 on page no. 361\n",
"printf('\n # PROBLEM 6.8 # \n')\n",
"A = 63.57 // Atomic gram weight of copper in gm\n",
"Z = 1 // Valency of dissolation of copper\n",
"D = 8.96 // Density of copper in gm/cm^3\n",
"lambda = k*A*(V-Vo)/(D*Z*F)\n",
"r = lambda/(f/(10*60))\n",
"Y = 10 + 0.3*(x-(r*((0.3-0.1*x)/(1-0.1*r)))) - 0.05*(x-(r*((0.3-.1*x)/(1-0.1*r))))^2 - r\n",
"printf('\n The equation of required tool geometry is :-\n  y  =')\n",
"disp(Y)"
   ]
   }
,
{
		   "cell_type": "markdown",
		   "metadata": {},
		   "source": [
			"## Example 6.9: Calculation_of_time_required_to_complete_drilling_operation.sce"
		   ]
		  },
  {
"cell_type": "code",
	   "execution_count": null,
	   "metadata": {
	    "collapsed": true
	   },
	   "outputs": [],
"source": [
"clc\n",
"// Given that\n",
"a = 10 // Side length of a square hole in mm\n",
"t = 5 // Thickness of low carbon steel plate in mm\n",
"R = 50 // Resistance in relaxation circuit in ohm\n",
"C = 10 // Capacitance in relaxation circuit in micro F\n",
"V = 200 // Supply voltage in Volt\n",
"V_ = 150 // Minimum required voltage for discharge in Volt\n",
"// Sample Problem 9 on page no. 378\n",
"printf('\n # PROBLEM 6.9 # \n')\n",
"E = (1/2)*C*(10^-6)*(V_^2)\n",
"tc = R*C*(10^-6)*log(V/(V-V_))\n",
"W = (E/tc)*(10^-3)\n",
"v = t*a^2\n",
"Q = 27.4*(W^(1.54))\n",
"T = v/Q\n",
"printf('\n The time required to complete the drilling operation = %d min',T)\n",
"// Answer in the book is given as 306 min"
   ]
   }
],
"metadata": {
		  "kernelspec": {
		   "display_name": "Scilab",
		   "language": "scilab",
		   "name": "scilab"
		  },
		  "language_info": {
		   "file_extension": ".sce",
		   "help_links": [
			{
			 "text": "MetaKernel Magics",
			 "url": "https://github.com/calysto/metakernel/blob/master/metakernel/magics/README.md"
			}
		   ],
		   "mimetype": "text/x-octave",
		   "name": "scilab",
		   "version": "0.7.1"
		  }
		 },
		 "nbformat": 4,
		 "nbformat_minor": 0
}
