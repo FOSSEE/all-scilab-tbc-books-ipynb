{
"cells": [
 {
		   "cell_type": "markdown",
	   "metadata": {},
	   "source": [
       "# Chapter 4: FORMING PROCESSES"
	   ]
	},
{
		   "cell_type": "markdown",
		   "metadata": {},
		   "source": [
			"## Example 4.10: Calculation_of_average_power_consumption_and_specific_power_consumption.sce"
		   ]
		  },
  {
"cell_type": "code",
	   "execution_count": null,
	   "metadata": {
	    "collapsed": true
	   },
	   "outputs": [],
"source": [
"clc \n",
"// Given that\n",
"d= 4 // Depth of cut in mm\n",
"f = 0.25 // Feed in mm/stroke\n",
"alpha = 10 // Rake angle in degree\n",
"shi = 30 // Principal cutting edge angle in Degree\n",
"mu =0.6 // Cofficient of friction between chip and tool\n",
"T_s = 340 // Ultimate shear stress of cast iron in N/mm^2\n",
"N = 60 // Cutting stroke/min\n",
"L = 200 // Length of the job in mm\n",
"H = 180 // Hardness of the workpiece in BHN\n",
"// Sample Problem 10 on page no. 221\n",
"printf('\n # PROBLEM 4.10 # \n')\n",
"lambda = atand(mu)\n",
"phi = 45 +alpha-lambda\n",
"Fc = f*d*T_s*(cosd(lambda-alpha))/((sind(phi))*(cosd(phi+lambda-alpha)))\n",
"Fc_ = Fc*(L/1000)\n",
"Wav  =Fc_*N/60\n",
"t1 = f*cosd(shi)\n",
"U_0 = 0.81 // By using table 4.4 given in the book, In J/mm^3\n",
"Uc = U_0*((t1)^(-.4))\n",
"Q = f*d*L*N/60\n",
"Wav_ = Uc*Q\n",
"printf(' \n Avg power consumption = %d W,\n Specific power consumption when hardness of the workpiece is 180 BHN = %d W.',Wav,Wav_)\n",
"// Answer in the book for Specific power consumption is given as 294 W"
   ]
   }
,
{
		   "cell_type": "markdown",
		   "metadata": {},
		   "source": [
			"## Example 4.11: Calculation_of_normal_rake_angle.sce"
		   ]
		  },
  {
"cell_type": "code",
	   "execution_count": null,
	   "metadata": {
	    "collapsed": true
	   },
	   "outputs": [],
"source": [
"clc \n",
"// Given that\n",
"alpha_b = 6 // Back rake angle in Degree\n",
"alpha_s = 10 // Side rake angle in Degree\n",
"gama = 7 // Front clearance angle in Degree\n",
"gama_ = 7 // Side clearance angle in Degree\n",
"Shi = 10 // End cutting edge angle in Degree\n",
"shi = 30 // Side cutting edge angle in Degree\n",
"r= 0.5 // Nose radius in mm\n",
"// Sample Problem 11 on page no. 224\n",
"printf('\n # PROBLEM 4.11 # \n')\n",
"k = tand(alpha_b) * cosd(shi) - tand(alpha_s) * sind(shi)\n",
"printf('\n The value of k=%f,which is near to 0. Hence the case is close to orthogonal one.\n',k)\n",
"alpha= atand(((tand(alpha_b) * sind(shi) ) + (tand(alpha_s) * (cosd(shi))))/ (sqrt(1+((tand(alpha_b)*cosd(shi)) - (tand(alpha_s)*sind(shi)))^(2))))\n",
"printf(' \n Normal rake angle = %f°.',alpha)"
   ]
   }
,
{
		   "cell_type": "markdown",
		   "metadata": {},
		   "source": [
			"## Example 4.12: Calculation_of_component_of_the_machining_force_and_feed_force_component.sce"
		   ]
		  },
  {
"cell_type": "code",
	   "execution_count": null,
	   "metadata": {
	    "collapsed": true
	   },
	   "outputs": [],
"source": [
"clc \n",
"// Given that\n",
"alpha_b = 6 // Back rake angle in Degree\n",
"alpha_s = 10 // Side rake angle in Degree\n",
"gama = 5 // Front clearance angle in Degree\n",
"gama_ = 7 // Side clearance angle in Degree\n",
"Shi = 10 // End cutting edge angle in Degree\n",
"shi = 30 // Side cutting edge angle in Degree\n",
"r= 0.55 // Nose radius in mm\n",
"d = 2.5 // Depth of cut in mm\n",
"f = 0.125 // Feed in mm/revolution\n",
"N = 300 // Rpm of the job\n",
"T_S = 400 // Ultimate shear stress of the workpiece in N/mm^2\n",
"mu = .6 // Cofficient of the friction between the tool and the chip\n",
"// Sample Problem 12 on page no. 225\n",
"printf('\n # PROBLEM 4.12 # \n')\n",
"lambda = atand(mu)\n",
"alpha= atand(((tand(alpha_b) * sind(shi) ) + (tand(alpha_s) * (cosd(shi))))/ (sqrt(1+((tand(alpha_b)*cosd(shi)) - (tand(alpha_s)*sind(shi)))^(2))))\n",
"phi = 45 + alpha - lambda\n",
"t1 = f*cosd(phi)\n",
"w = d/cosd(phi)\n",
"Fc = w*t1*T_S*(cosd(lambda-alpha))/((sind(phi))*(cosd(phi+lambda-alpha)))\n",
"Ft = Fc*tand(lambda-alpha)\n",
"Ff = Ft*cosd(shi)\n",
"Fr = Ft*sind(shi)\n",
"printf(' \n Component of the machining force are as follows -\n Feed force component = % d N, \n Normal thrust force component = % d N.',ceil(Ff),ceil(Fr))"
   ]
   }
,
{
		   "cell_type": "markdown",
		   "metadata": {},
		   "source": [
			"## Example 4.14: Calculation_of_drilling_torque_and_thrust_force.sce"
		   ]
		  },
  {
"cell_type": "code",
	   "execution_count": null,
	   "metadata": {
	    "collapsed": true
	   },
	   "outputs": [],
"source": [
"clc \n",
"// Given that\n",
"D = 20 // Nominal diameter of the drill in mm\n",
"T_S = 400 // Shear yield stress of work material in N/mm^2\n",
"N = 240 // Rpm\n",
"f = 0.25 // Feed in mm/revolution\n",
"mu = 0.6 // Cofficient of friction\n",
"// Sample Problem 14 on page no. 230\n",
"printf('\n # PROBLEM 4.14 # \n')\n",
"Beta = 118/2 // From the table 4.12 given in the book\n",
"shi = 30 // From the table 4.12 given in the book\n",
"alpha = atand(((2*(D/4)/(D))*tand(shi))/sind(Beta))\n",
"t1 = (f/2)*sind(Beta)\n",
"w = (D/2)/sind(Beta)\n",
"lambda = atand(mu)\n",
"phi = 45+alpha-lambda\n",
"t1 = f/2\n",
"Fc = w*t1*T_S*(cosd(lambda-alpha))/((sind(phi))*(cosd(phi+lambda-alpha)))\n",
"Ft = w*t1*T_S*(sind(lambda-alpha))/((sind(phi))*(cosd(phi+lambda-alpha)))\n",
"M = .6*Fc*D/1000\n",
"F = 5*Ft*sind(Beta)\n",
"printf(' \n The drilling torque = %f N-m, \n Thrust force = %d N.',M,F)\n",
"// Answer in the book for drilling torque is given as 18.2 N-m, and for thrust force is given as 1500 N"
   ]
   }
,
{
		   "cell_type": "markdown",
		   "metadata": {},
		   "source": [
			"## Example 4.15: Calculation_of_power_consumption.sce"
		   ]
		  },
  {
"cell_type": "code",
	   "execution_count": null,
	   "metadata": {
	    "collapsed": true
	   },
	   "outputs": [],
"source": [
"clc \n",
"// Given that\n",
"w = 20 // Width of the mild steel block in mm\n",
"Z = 20 // No of teeth in milling cutter\n",
"D = 50 // Diameter of the milling cutter in mm\n",
"alpha = 10 // Radial rake angle in Degree\n",
"f = 15 // Feed velocity of the table in mm/min\n",
"N =60 // Rpm of the cutter\n",
"t = 1 // Depth of cut in mm\n",
"mu = 0.5 // Cofficient of friction\n",
"T_s = 400 // Shear yield stress in N/mm^2\n",
"t_a = 0.0018 // Avg uncut thickness in mm\n",
"// Sample Problem 15 on page no. 235\n",
"printf('\n # PROBLEM 4.15 # \n')\n",
"Beta = asind(2*(t/D))\n",
"theta = 2*%pi/Z\n",
"t1_max = (2*f/(N*Z))*sqrt(t/D)\n",
"lambda = atand(mu)\n",
"phi = 45+alpha -lambda\n",
"Fc_max = ((w*t1_max*T_s*cosd(lambda-alpha)))/((sind(phi))*(cosd(45)))\n",
"T_max = Fc_max*D/(2*1000)\n",
"M_av = (1/2)*(Beta*T_max)/theta\n",
"omega = 2*%pi*N/60\n",
"U_0 = 1.4 // From the table 4.4 given in the book\n",
"Uc_ms = U_0*((t_a)^(-0.4))\n",
"R = f*t*w/60\n",
"U = Uc_ms * R\n",
"printf(' \n Power consumption = %f W.',U)"
   ]
   }
,
{
		   "cell_type": "markdown",
		   "metadata": {},
		   "source": [
			"## Example 4.16: Calculation_of_power_required.sce"
		   ]
		  },
  {
"cell_type": "code",
	   "execution_count": null,
	   "metadata": {
	    "collapsed": true
	   },
	   "outputs": [],
"source": [
"clc \n",
"// Given that\n",
"w = 20 // Width of the mild steel block in mm\n",
"Z = 10 // No of teeth in milling cutter\n",
"D = 75 // Diameter of the milling cutter in mm\n",
"alpha = 10 // Radial rake angle in Degree\n",
"f = 100 // Feed velocity of the table in mm/min\n",
"N =60 // Rpm of the cutter\n",
"t = 5 // Depth of cut in mm\n",
"mu = 0.5 // Cofficient of friction\n",
"T_s = 400 // Shear yield stress in N/mm^2\n",
"t_a = 0.043 // Avg uncut thickness in mm\n",
"// Sample Problem 16 on page no. 238\n",
"printf('\n # PROBLEM 4.16 # \n')\n",
"Beta = asind(2*(t/D))\n",
"theta = 2*%pi/Z\n",
"t1_max = (2*f/(N*Z))*sqrt(t/D)\n",
"lambda = atand(mu)\n",
"phi = 45+alpha -lambda\n",
"Fc_max = ((w*t1_max*T_s*cosd(lambda-alpha)))/((sind(phi))*(cosd(45)))\n",
"T_max = Fc_max*D/(2*1000)\n",
"M_av = (1/2)*(Beta*T_max)/theta\n",
"omega = 2*%pi*N/60\n",
"U_0 = 1.4 // From the table 4.4 given in the book\n",
"Uc_ms = U_0*((t_a)^(-0.4))\n",
"R = f*t*w/60\n",
"U = Uc_ms * R\n",
"printf(' \n Power required = %d W.',U)\n",
"// Answer in the book for Power required is given as 817 W"
   ]
   }
,
{
		   "cell_type": "markdown",
		   "metadata": {},
		   "source": [
			"## Example 4.17: Calculation_of_power_required.sce"
		   ]
		  },
  {
"cell_type": "code",
	   "execution_count": null,
	   "metadata": {
	    "collapsed": true
	   },
	   "outputs": [],
"source": [
"clc \n",
"// Given that\n",
"B = 20 // Width of the cut in mm\n",
"Z = 10 // No of teeth in milling cutter\n",
"D = 75 // Diameter of the milling cutter in mm\n",
"alpha = 10 // Radial rake angle in Degree\n",
"f = 25 // Feed velocity of the table in mm/min\n",
"N =60 // Rpm of the cutter\n",
"t = 5 // Depth of cut in mm\n",
"mu = 0.5 // Cofficient of friction\n",
"T_s = 400 // Shear yield stress in N/mm^2\n",
"t_a = 0.043 // Avg uncut thickness in mm\n",
"// Sample Problem 17 on page no. 240\n",
"printf('\n # PROBLEM 4.17 # \n')\n",
"t1_max = 0.01\n",
"lambda = 0.28 // From the table 4.13 Given in the book\n",
"nu = 1400 // From the table 4.13 Given in the book\n",
"t1_av = t1_max/2\n",
"P = nu*B*t*f*(10^-4)/(6*((t1_av)^(lambda)))\n",
"printf(' \n Power required = %f W.',P)"
   ]
   }
,
{
		   "cell_type": "markdown",
		   "metadata": {},
		   "source": [
			"## Example 4.18: Calculation_of_power_required.sce"
		   ]
		  },
  {
"cell_type": "code",
	   "execution_count": null,
	   "metadata": {
	    "collapsed": true
	   },
	   "outputs": [],
"source": [
"clc \n",
"// Given that\n",
"w = 20 // Width of the mild steel block in mm\n",
"Z = 10 // No of teeth in milling cutter\n",
"D = 75 // Diameter of the milling cutter in mm\n",
"alpha = 10 // Radial rake angle in Degree\n",
"f = 25 // Feed velocity of the table in mm/min\n",
"N =60 // Rpm of the cutter\n",
"t = 5 // Depth of cut in mm\n",
"mu = 0.5 // Cofficient of friction\n",
"T_s = 400 // Shear yield stress in N/mm^2\n",
"t_a = 0.043 // Avg uncut thickness in mm\n",
"// Sample Problem 18 on page no. 240\n",
"printf('\n # PROBLEM 4.18 # \n')\n",
"R = f*t*w/60\n",
"Uc = 3.3 // Specific energy in J/mm^3 from the table 4.14 Given in the book\n",
"U = Uc * R\n",
"printf(' \n Power required = %d W.',ceil(U))"
   ]
   }
,
{
		   "cell_type": "markdown",
		   "metadata": {},
		   "source": [
			"## Example 4.19: Calculation_of_peak_broaching_load.sce"
		   ]
		  },
  {
"cell_type": "code",
	   "execution_count": null,
	   "metadata": {
	    "collapsed": true
	   },
	   "outputs": [],
"source": [
"clc \n",
"// Given that\n",
"d = 25 // Diameter of circular hole in mm\n",
"t = 20 // Thickness of the steel plate in mm\n",
"D = 27 // Enlarged diameter of hole in mm\n",
"c= 0.08 // Cut per tooth in mm\n",
"alpha = 10 // Radial rake angle in Degree\n",
"mu = 0.5 // Cofficient of friction\n",
"T_s = 400 // Shear yield stress in N/mm^2\n",
"// Sample Problem 19 on page no. 241\n",
"printf('\n # PROBLEM 4.19 # \n')\n",
"lambda=atand(mu)\n",
"phi = 45-lambda+alpha\n",
"w = %pi*(d+D)/2\n",
"Fc = w*c*T_s*(cosd(lambda-alpha))/((sind(phi))*(cosd(45)))\n",
"s = 1.75*sqrt(t)\n",
"F = 3*Fc\n",
"printf(' \n Peak broaching load = %d N.',ceil(F))"
   ]
   }
,
{
		   "cell_type": "markdown",
		   "metadata": {},
		   "source": [
			"## Example 4.1: Calculation_of_shear_plane_angle_and_shear_strain.sce"
		   ]
		  },
  {
"cell_type": "code",
	   "execution_count": null,
	   "metadata": {
	    "collapsed": true
	   },
	   "outputs": [],
"source": [
"clc \n",
"// Given that\n",
"alpha = 10 // Rake angle in Degree\n",
"t = 0.4 // Chip thickness  in mm\n",
"T = 0.15 // Uncut chip thickness in mm\n",
"// Sample Problem 1 on page no. 187\n",
"printf('\n # PROBLEM 4.1 # \n')\n",
"r = T/t\n",
"phi = atand((r*cosd(alpha))/(1-r*sind(alpha)))\n",
"gama = cotd(phi) + tand(phi-alpha)\n",
"printf('\n Shear plane angle = %f°, \n Magnitude of the shear strain = %f',phi,gama)"
   ]
   }
,
{
		   "cell_type": "markdown",
		   "metadata": {},
		   "source": [
			"## Example 4.20: Calculation_of_power_required.sce"
		   ]
		  },
  {
"cell_type": "code",
	   "execution_count": null,
	   "metadata": {
	    "collapsed": true
	   },
	   "outputs": [],
"source": [
"clc \n",
"// Given that\n",
"D = 250 // Diameter of the wheel in mm\n",
"N = 2000 // Rpm of the wheel\n",
"f =5 // Plung feed rate in mm/min\n",
"C = 3 // Surface density of active grain in mm^-2\n",
"A = 20*15 // Area of mild steel prismatic bar in mm^2\n",
"rg = 15 // In mm^-1\n",
"// Sample Problem 20 on page no. 246\n",
"printf('\n # PROBLEM 4.20 # \n')\n",
"t1 = sqrt(f/(%pi*D*N*C*rg))\n",
"U_0 = 1.4 // From the table 4.4 given in the book\n",
"Uc= U_0*((t1)^(-.4))\n",
"R = A*f/60\n",
"P = Uc*R\n",
"Fc_ = 60000*(P)/(%pi*D*A*C*N)\n",
"printf(' \n Power requirement during plunge grinding of the mild steel primatic bar = %d W.',ceil(P))\n",
"// Answer in the book is given as 94 W "
   ]
   }
,
{
		   "cell_type": "markdown",
		   "metadata": {},
		   "source": [
			"## Example 4.21: Calculation_of_grinding_force.sce"
		   ]
		  },
  {
"cell_type": "code",
	   "execution_count": null,
	   "metadata": {
	    "collapsed": true
	   },
	   "outputs": [],
"source": [
"clc \n",
"// Given that\n",
"w = 25 // Width of mild steel block in mm\n",
"d= 0.05 // Depth of cut in mm\n",
"D = 200 // Diameter of the wheel in mm\n",
"N = 3000 // Rpm of the wheel\n",
"f =100 // Feed velocity of table in mm/min\n",
"C = 3 // No of grits in mm^-2\n",
"rg = 15 // In mm^-1\n",
"// Sample Problem 21 on page no. 248\n",
"printf('\n # PROBLEM 4.21 # \n')\n",
"t1_max = sqrt(((6*f)/(%pi*D*N*C*rg))*sqrt(d/D))\n",
"t1_a = t1_max/2\n",
"U_0 = 1.4 // From the table 4.4 given in the book\n",
"Uc= U_0*((t1_a)^(-.4))\n",
"R = w*d*f/60\n",
"P = Uc*R\n",
"Fc = 60000*(P)/(%pi*D*N)\n",
"printf(' \n Grinding force = %d N',Fc)"
   ]
   }
,
{
		   "cell_type": "markdown",
		   "metadata": {},
		   "source": [
			"## Example 4.22: Calculation_of_required_depth_of_cut_and_feed.sce"
		   ]
		  },
  {
"cell_type": "code",
	   "execution_count": null,
	   "metadata": {
	    "collapsed": true
	   },
	   "outputs": [],
"source": [
"clc \n",
"// Given that\n",
"d= 0.05 // Depth of cut in mm\n",
"f =200 // Feed rate in mm/min\n",
"theta = 850 // Surface temperature in °C\n",
"Theta = 700 // Maximum surface temperature of workpiece surface required to maintain in °C\n",
"// Sample Problem 22 on page no. 251\n",
"printf('\n # PROBLEM 4.22 # \n')\n",
"K = theta * (f^0.2)/(d^0.9)\n",
"r = Theta/K\n",
"C = d*f\n",
"Dm = (r*C^0.2)^(1/1.1)\n",
"fm = C/Dm\n",
"printf(' \n Required depth of cut = %f mm,\n Required feed = %d mm/min',Dm,fm)"
   ]
   }
,
{
		   "cell_type": "markdown",
		   "metadata": {},
		   "source": [
			"## Example 4.24: Calculation_of_maximum_height_of_unevenness.sce"
		   ]
		  },
  {
"cell_type": "code",
	   "execution_count": null,
	   "metadata": {
	    "collapsed": true
	   },
	   "outputs": [],
"source": [
"clc \n",
"// Given that \n",
"shi = 30 // Side cutting edge angle in Degree\n",
"lambda = 7 // End cutting edge angle in Degree\n",
"r = 0.7 // Nose radius in mm\n",
"f = 0.125 // Feed in mm\n",
"// Sample Problem 24 on page no. 260\n",
"printf('\n # PROBLEM 4.24 # \n')\n",
"H_max = f/(tand(shi)+cotd(lambda))\n",
"H_max_ = (f^2)/(8*r)\n",
"printf(' \n Maximum height of uneveness in first tool case = %f mm,\n In second tool case = %f mm',H_max,H_max_)"
   ]
   }
,
{
		   "cell_type": "markdown",
		   "metadata": {},
		   "source": [
			"## Example 4.25: Calculation_of_maximum_height_of_unevenness.sce"
		   ]
		  },
  {
"cell_type": "code",
	   "execution_count": null,
	   "metadata": {
	    "collapsed": true
	   },
	   "outputs": [],
"source": [
"clc \n",
"// Given that \n",
"Z = 12 // No of teeth\n",
"d = 100 // Diameter of cutter in mm\n",
"N = 60 // Rpm of cutter\n",
"f = 25 // Table feed in mm/min\n",
"// Sample Problem 25 on page no. 262\n",
"printf('\n # PROBLEM 4.25 # \n')\n",
"H_max = (f^2)/(4*d*(N^2)*(Z^2))\n",
"printf(' \n Maximum height of uneveness = %f mm',H_max)"
   ]
   }
,
{
		   "cell_type": "markdown",
		   "metadata": {},
		   "source": [
			"## Example 4.26: Calculation_of_cutting_speed.sce"
		   ]
		  },
  {
"cell_type": "code",
	   "execution_count": null,
	   "metadata": {
	    "collapsed": true
	   },
	   "outputs": [],
"source": [
"clc \n",
"// Given that \n",
"n = 0.25 // Value of exponent of time in Taylor's tool life equation\n",
"C = 75 // Value of constant in Taylor's tool life equation\n",
"Lc = .15 // Labour cast in $/min\n",
"Tc = 2.50 // Total cast of tool in $\n",
"t = 2 // Change time for tool in min\n",
"// Sample Problem 26 on page no. 268\n",
"printf('\n # PROBLEM 4.26 # \n')\n",
"x = (C)^(1/n) // Where x = k/(f^(1/n))\n",
"v_opt = ((n*x*Lc)/((1-n)*((Lc*t+Tc))))^(n)\n",
"printf(' \n Cutting speed that will be lead to minimum cast = %f m/min',v_opt)"
   ]
   }
,
{
		   "cell_type": "markdown",
		   "metadata": {},
		   "source": [
			"## Example 4.27: Calculation_of_cost.sce"
		   ]
		  },
  {
"cell_type": "code",
	   "execution_count": null,
	   "metadata": {
	    "collapsed": true
	   },
	   "outputs": [],
"source": [
"clc \n",
"// Given that \n",
"L = 300 // Length of the bar in mm\n",
"d=30 // Diameter of the bar in mm\n",
"f_max = 0.25 // Maximum allowable feed in mm/revolution\n",
"Lc = .25 // Labour and overhead cast in $/min\n",
"Tc = 2 // Regrinding cast in $\n",
"t = 1 // Change time for tool in min\n",
"C_X = 2.50 // Cast of tool of material X per piece in $ \n",
"C_Y = 3 // Cast of tool of material Y  per piece in $\n",
"n_x = 0.1 // Value of exponent of time in Taylor's tool life equation for material X\n",
"n_y = 0.16 // Value of exponent of time in Taylor's tool life equation for material Y\n",
"C_x = 30 // Value of constant in Taylor's tool life equation for material X\n",
"C_y = 76 // Value of constant in Taylor's tool life equation For material Y\n",
"// Sample Problem 27 on page no. 269\n",
"printf('\n # PROBLEM 4.27 # \n')\n",
"x_x = (C_x)^(1/n_x) // Where x = k/(f^(1/n))\n",
"v_opt_x = ((n_x*x_x*Lc)/((1-n_x)*((Lc*t+Tc))))^(n_x)\n",
"Rmin_x = C_X+Lc*t+(Lc*%pi*L*d/(1000*f_max*v_opt_x)) + (Lc*t*(%pi*L*d/(1000*x_x)))*(v_opt_x^(1/n_y))*(v_opt_x^-1)*(f_max^-1)+(Tc*((%pi*L*d/(1000*x_x)))*(v_opt_x^(1/n_x))*(v_opt_x^-1)*(f_max^-1))\n",
"x_y = (C_y)^(1/n_y) // Where x = k/(f^(1/n))\n",
"v_opt_y = ((n_y*x_y*Lc)/((1-n_y)*((Lc*t+Tc))))^(n_y)\n",
"Rmin_y = C_Y+Lc*t+(Lc*%pi*L*d/(1000*f_max*v_opt_y)) + (Lc*t*(%pi*L*d/(1000*x_y)))*(v_opt_y^(1/n_y))*(v_opt_y^-1)*(f_max^-1)+(Tc*((%pi*L*d/(1000*x_y)))*(v_opt_y^(1/n_y))*(v_opt_y^-1)*(f_max^-1))\n",
"printf(' \n The minimum cast per piece\n When material X is used = %f $,\n When material Y is used = %f $',Rmin_x,Rmin_y)\n",
"printf('\n So material Y will be suitable for tool as it has low cast')"
   ]
   }
,
{
		   "cell_type": "markdown",
		   "metadata": {},
		   "source": [
			"## Example 4.28: Calculation_of_optimum_cutting_speed.sce"
		   ]
		  },
  {
"cell_type": "code",
	   "execution_count": null,
	   "metadata": {
	    "collapsed": true
	   },
	   "outputs": [],
"source": [
"clc \n",
"// Given that \n",
"n = 0.25 // Value of exponent of time in Taylor's tool life equation\n",
"C = 75 // Value of constant in Taylor's tool life equation\n",
"Lc = .15 // Labour cast in $/min\n",
"Tc = 2.50 // Total cast of tool in $\n",
"t = 2 // Change time for tool in min\n",
"// Sample Problem 28 on page no. 271\n",
"printf('\n # PROBLEM 4.28 # \n')\n",
"x = (C)^(1/n) // Where x = k/(f^(1/n))\n",
"v_opt = ((n*x)/((1-n)*t))^(n)\n",
"printf(' \n  Optimum cutting speed for maximum production rate for the job = %f m/min',v_opt)"
   ]
   }
,
{
		   "cell_type": "markdown",
		   "metadata": {},
		   "source": [
			"## Example 4.2: Calculation_of_coefficient_of_friction_and_ultimate_shear_stress.sce"
		   ]
		  },
  {
"cell_type": "code",
	   "execution_count": null,
	   "metadata": {
	    "collapsed": true
	   },
	   "outputs": [],
"source": [
"clc \n",
"// Given that\n",
"t1 = 0.25 // Undercut thickness in mm\n",
"t2 = 0.75 // Chip thickness in mm\n",
"w = 2.5 // Width in mm\n",
"alpha = 0 // Rake angle in Degree\n",
"Fc = 950 // Cutting force in N\n",
"Ft = 475 // Thrust force in N\n",
"// Sample Problem 2 on page no. 192\n",
"printf('\n # PROBLEM 4.2 # \n')\n",
"r = t1/t2\n",
"mu = ((Fc*sind(alpha)) + (Ft*cosd(alpha)))/((Fc*cosd(alpha))-(Ft*sind(alpha)))\n",
"phi = atand((r*cosd(alpha))/(1-r*sind(alpha)))\n",
"As = t1*w/sind(phi)\n",
"Fs = Fc*cosd(phi) - Ft*sind(phi)\n",
"T_s = Fs/As\n",
"printf('\n Coefficient of the friction between tool and the chip = %f, \n The ultimate shear stress of the material = %f N/mm^2',mu,T_s)"
   ]
   }
,
{
		   "cell_type": "markdown",
		   "metadata": {},
		   "source": [
			"## Example 4.3: Calculation_of_shear_angle_and_cutting_and_trust_force.sce"
		   ]
		  },
  {
"cell_type": "code",
	   "execution_count": null,
	   "metadata": {
	    "collapsed": true
	   },
	   "outputs": [],
"source": [
"clc \n",
"// Given that\n",
"alpha = 10 // Rake angle of tool in Degree\n",
"v = 200 // Cutting speed in m/min\n",
"t1 = 0.2 // Uncut thickness in mm\n",
"w = 2 // Width of cut in mm\n",
"mu = 0.5 // Avg value of the cofficient of tbe friction\n",
"T_S = 400 // Shear stress of the work material in N/mm^2\n",
"// Sample Problem 3 on page no. 193\n",
"printf('\n # PROBLEM 4.3 # \n')\n",
"lambda = atand(mu)\n",
"phi = (90 + alpha - lambda)/2\n",
"Fs = (w*t1*T_S)/(sind(phi))\n",
"R = Fs/(cosd(phi+lambda-alpha))\n",
"Fc = R*(cosd(lambda-alpha))\n",
"Ft = R*(sind(lambda-alpha))\n",
"printf('\n Shear angle = %f°, \n Cutting force = %d N, \n Thrust force = %d N,',phi,Fc,Ft)\n",
"// Answer in the book for cutting force is given as 420 N and for thrust force is given as 125 N"
   ]
   }
,
{
		   "cell_type": "markdown",
		   "metadata": {},
		   "source": [
			"## Example 4.4: Calculation_of_shear_angle_and_cutting_force_and_thrust_force.sce"
		   ]
		  },
  {
"cell_type": "code",
	   "execution_count": null,
	   "metadata": {
	    "collapsed": true
	   },
	   "outputs": [],
"source": [
"clc \n",
"// Given that\n",
"alpha = 10 // Rake angle of tool in Degree\n",
"v = 200 // Cutting speed in m/min\n",
"t1 = 0.2 // Uncut thickness in mm\n",
"w = 2 // Width of cut in mm\n",
"mu = 0.5 // Avg value of the cofficient of tbe friction\n",
"T_S = 400 // Shear stress of the work material in N/mm^2\n",
"Cm = 70 // Machining constant in Degree\n",
"// Sample Problem 4 on page no. 194\n",
"printf('\n # PROBLEM 4.4 # \n')\n",
"lambda = atand(mu)\n",
"phi = (Cm + alpha - lambda)/2\n",
"Fs = (w*t1*T_S)/(sind(phi))\n",
"R = Fs/(cosd(phi+lambda-alpha))\n",
"Fc = R*(cosd(lambda-alpha))\n",
"Ft = R*(sind(lambda-alpha))\n",
"// Using Lee and Shaffer relation \n",
"phi_ = 45-lambda+alpha\n",
"Fs_ = (w*t1*T_S)/(sind(phi_))\n",
"R_ = Fs_/(cosd(phi_+lambda-alpha))\n",
"Fc_ = R_*(cosd(lambda-alpha))\n",
"Ft_ = R_*(sind(lambda-alpha))\n",
"printf('\n Shear angle = %f°, \n Cutting force = %f N, \n Thrust force = %f N \n Using Lee and Shaffer relation- \n Shear angle = %f°, \n Cutting force = %f N, \n Thrust force = %f N,',phi,Fc,Ft,phi_,Fc_,Ft_)\n",
"// Answer in the book for cutting force is given as 486.9 N and for thrust force is given as 144.9 N , When using Lee and Shaffer relation answer in the book for cutting force is given as 481.9 N and for trust force is given as 160.6 N"
   ]
   }
,
{
		   "cell_type": "markdown",
		   "metadata": {},
		   "source": [
			"## Example 4.5: Calculation_of_cutting_force.sce"
		   ]
		  },
  {
"cell_type": "code",
	   "execution_count": null,
	   "metadata": {
	    "collapsed": true
	   },
	   "outputs": [],
"source": [
"clc \n",
"// Given that\n",
"t1 = 0.25 // Uncut thickness in mm\n",
"w = 2.5 // Width of cut in mm\n",
"U_0 = 1.4 // In J/mm^3\n",
"alpha = 0 // Rake angle in degree\n",
"mu = 0.5 // Cofficient of the friction\n",
"T_s = 400 // Shear stress in N/mm^2\n",
"// Sample Problem 5 on page no. 196\n",
"printf('\n # PROBLEM 4.5 # \n')\n",
"lambda = atand(mu)\n",
"Fc = 1000*(t1*w*U_0)*((t1)^(-.4))\n",
"phi = 45 + alpha - atand(mu)\n",
"Fc_ = (w*t1*T_s*cosd(lambda-alpha))/((sind(phi)) *cosd(phi+lambda-alpha))\n",
"printf(' \n The order of magnitude of cutting force = %d N,\n Using Lee and Shaffer relation- \n The order of magnitude of cutting force = %d N.',Fc,Fc_)\n",
"// Answer in the book for cutting force is given as 1517 N"
   ]
   }
,
{
		   "cell_type": "markdown",
		   "metadata": {},
		   "source": [
			"## Example 4.6: Calculation_of_maximum_temperature_along_the_rake_face.sce"
		   ]
		  },
  {
"cell_type": "code",
	   "execution_count": null,
	   "metadata": {
	    "collapsed": true
	   },
	   "outputs": [],
"source": [
"clc \n",
"// Given that\n",
"v = 2 // Cutting speed in m/sec\n",
"D = 7200 // Density of mild steel in kg /m^3\n",
"k = 43.6 // Thermal conductivity in W/m-°c\n",
"c = 502 // Specific heat of the material in J/kg-°c\n",
"t1 = 0.25 // Uncut thickness in mm\n",
"w =2 // Width of cut in mm\n",
"theta_0 = 40 // Initial temp of the workpiece in Degree\n",
"alpha = 0 // Rake angle in degree\n",
"mu = 0.5 // Cofficient of the friction\n",
"T_s = 400e6 // Shear stress in N/m^2\n",
"// Sample Problem 6 on page no. 199\n",
"printf('\n # PROBLEM 4.6 # \n')\n",
"lambda = atand(mu)\n",
"phi = 45 + alpha - lambda\n",
"Fs = (w*t1*T_s)*(10^-6)/(sind(phi))\n",
"R = Fs / (cosd(phi+lambda-alpha))\n",
"Fc = R *(cosd(lambda-alpha))\n",
"r = sind(phi)/(cosd(phi-alpha))\n",
"Ft= Fc *(tand(lambda - alpha))\n",
"F = Fc *(sind(alpha))+Ft*(cosd(alpha))\n",
"Ws = F*r*v\n",
"Wp = Fc*v-F*r*v\n",
"zeta = D*c*v*t1*(10^-3)/k\n",
"zeta_ = zeta*tand(phi)\n",
"nu = 0.15 *(log(27.5/(zeta_)))\n",
"theta_P = (1-nu)*Wp/(D*c*v*t1*w*(10^-6))\n",
"theta_S = 1.13 *(sqrt(1/(D*c*v*t1*(10^-3)*k*(1+tand(phi-alpha)))))*(Ws/w)*(10^3)\n",
"theta = theta_0+theta_S+ theta_P\n",
"printf(' \n Maximum temperature along the rake face of the tool = %d°C.',theta)\n",
"// Answer in the book  is given as 823°C"
   ]
   }
,
{
		   "cell_type": "markdown",
		   "metadata": {},
		   "source": [
			"## Example 4.7: Calculation_of_maximum_speed_at_which_cutting_is_passible.sce"
		   ]
		  },
  {
"cell_type": "code",
	   "execution_count": null,
	   "metadata": {
	    "collapsed": true
	   },
	   "outputs": [],
"source": [
"clc \n",
"// Given that\n",
"theta_ = 40 //Ambient temperature in°C\n",
"v = 2 // Cutting speed in m/sec\n",
"D = 7200 // Density of mild steel in kg /m^3\n",
"k = 43.6 // Thermal conductivity in W/m-°c\n",
"c = 502 // Specific heat of the material in J/kg-°c\n",
"t1 = 0.25 // Uncut thickness in mm\n",
"w =2 // Width of cut in mm\n",
"alpha = 0 // Rake angle in degree\n",
"mu = 0.5 // Cofficient of the friction\n",
"T_s = 400e6 // Shear stress in N/m^2\n",
"H = 350 // Hardness of SAE 1040 steel in HV(Vicker hardness)\n",
"// Sample Problem 7 on page no. 206\n",
"printf('\n # PROBLEM 4.7 # \n')\n",
"lambda = atand(mu)\n",
"phi = 45 + alpha - lambda\n",
"Fs = (w*t1*T_s)*(10^-6)/(sind(phi))\n",
"R = Fs / (cosd(phi+lambda-alpha))\n",
"Fc = R *(cosd(lambda-alpha))\n",
"r = sind(phi)/(cosd(phi-alpha))\n",
"Ft= Fc *(tand(lambda - alpha))\n",
"F = Fc *(sind(alpha))+Ft*(cosd(alpha))\n",
"Ws = F*r*v\n",
"Wp = Fc*v-F*r*v\n",
"zeta = D*c*v*t1*(10^-3)/k\n",
"zeta_ = zeta*tand(phi)\n",
"nu = 0.15 *(log(27.5/(zeta_)))\n",
"Theta_0v = ((1-nu)*Wp + Ws)/ (D*c*v*t1*w*(10^-6))\n",
"H_ = 1.5 *(H)\n",
"theta_lim = 700*((1-(H_/850))^(1/3.1))\n",
"v_lim = (theta_lim/309)^(1/0.5)\n",
"printf(' \n Maximum speed at which cutting is passible = %f m/sec.',v_lim)"
   ]
   }
,
{
		   "cell_type": "markdown",
		   "metadata": {},
		   "source": [
			"## Example 4.8: Calculation_of_percentage_increase_in_tool_life.sce"
		   ]
		  },
  {
"cell_type": "code",
	   "execution_count": null,
	   "metadata": {
	    "collapsed": true
	   },
	   "outputs": [],
"source": [
"clc \n",
"// Given that\n",
"alpha = 0 // Rake angle in degree\n",
"gama = 3 // Clearance angle in Degree\n",
"w = 1 // Maximum length of flank wear allowed in mm\n",
"gama_ = 7 // Increased clearance angle in Degree\n",
"// Sample Problem 8 on page no. 212\n",
"printf('\n # PROBLEM 4.8 # \n')\n",
"I_per = (((tand(gama_))-(tand(gama)))/tand(gama))*100\n",
"printf(' \n Percentage increase in tool life = %d percent.',I_per)"
   ]
   }
,
{
		   "cell_type": "markdown",
		   "metadata": {},
		   "source": [
			"## Example 4.9: Calculation_of_three_components_of_machining_force.sce"
		   ]
		  },
  {
"cell_type": "code",
	   "execution_count": null,
	   "metadata": {
	    "collapsed": true
	   },
	   "outputs": [],
"source": [
"clc \n",
"// Given that\n",
"d= 4 // Depth of cut in mm\n",
"f = 0.25 // Feed in mm/stroke\n",
"alpha = 10 // Rake angle in degree\n",
"shi = 30 // Principal cutting edge angle in Degree\n",
"mu =0.6 // Cofficient of friction between chip and tool\n",
"T_s = 340 // Ultimate shear stress of cast iron in N/mm^2\n",
"// Sample Problem 9 on page no. 220\n",
"printf('\n # PROBLEM 4.9 # \n')\n",
"lambda = atand(mu)\n",
"phi = 45 +alpha-lambda\n",
"Fc = f*d*T_s*(cosd(lambda-alpha))/((sind(phi))*(cosd(phi+lambda-alpha)))\n",
"Ft = Fc*(sind(lambda-alpha))/(cosd(lambda-alpha))\n",
"Ff = Ft*(cosd(shi))\n",
"Fn = Ft*(sind(shi))\n",
"printf(' \n The three components of machinig force are as follows-\n Thrust force = %d N,\n Feed force component = %d N,\n Normal thrust force component = %d N.',Ft,Ff,Fn)"
   ]
   }
],
"metadata": {
		  "kernelspec": {
		   "display_name": "Scilab",
		   "language": "scilab",
		   "name": "scilab"
		  },
		  "language_info": {
		   "file_extension": ".sce",
		   "help_links": [
			{
			 "text": "MetaKernel Magics",
			 "url": "https://github.com/calysto/metakernel/blob/master/metakernel/magics/README.md"
			}
		   ],
		   "mimetype": "text/x-octave",
		   "name": "scilab",
		   "version": "0.7.1"
		  }
		 },
		 "nbformat": 4,
		 "nbformat_minor": 0
}
