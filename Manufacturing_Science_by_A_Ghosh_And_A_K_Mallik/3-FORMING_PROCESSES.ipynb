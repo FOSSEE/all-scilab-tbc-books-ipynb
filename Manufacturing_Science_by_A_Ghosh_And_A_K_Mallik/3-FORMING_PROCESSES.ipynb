{
"cells": [
 {
		   "cell_type": "markdown",
	   "metadata": {},
	   "source": [
       "# Chapter 3: FORMING PROCESSES"
	   ]
	},
{
		   "cell_type": "markdown",
		   "metadata": {},
		   "source": [
			"## Example 3.10: EX3_10.sce"
		   ]
		  },
  {
"cell_type": "code",
	   "execution_count": null,
	   "metadata": {
	    "collapsed": true
	   },
	   "outputs": [],
"source": [
"clc \n",
"// Given that\n",
"L_ = 20 // Length of the mild steel product in mm\n",
"h = 50 // Height of the mild steel product in mm\n",
"L = 50 // Horizontal length of the mild steel product in mm\n",
"t = 5 // Thickness in mm\n",
"l=25 // Length of the bend in mm\n",
"E = 207 // Modulus of elasticity in kN/mm^2\n",
"n = 517 // Strain hardening rate in N/mm^2\n",
"Y = 345 // Yield stress in N/mm^2\n",
"mu = 0.1// Cofficient of friction\n",
"e = 0.2 // Fracture strain\n",
"theta = 20 // Bend angle in degree\n",
"F = 3000 // Maximum available force in N\n",
"// Sample Problem 10 on page no. 136\n",
"printf('\n # PROBLEM 3.10 # \n')\n",
"Rp = ((1 /((exp(e) - 1)))-0.82)*t/1.82\n",
"Y_1 = Y+n*e\n",
"Y_2 = Y + n*(log(1+(1/(2.22*(Rp/t)+1))))\n",
"M = ((0.55*t)^2)*((Y/6)+(Y_1/3)) + ((0.45*t)^2)*((Y/6)+(Y_2/3))\n",
"Fmax = (M/l)*(1+(cosd((atand(mu))+mu*sind(atand(mu)))))\n",
"Fmax_ = L_*Fmax\n",
"lmin  = Fmax_*l/F\n",
"Ls = 2*(((Rp+0.45*t)*%pi/4) + 50-(Rp+t))\n",
"lmax = Ls / 2\n",
"Fmax_min  = Fmax_*l/lmax\n",
"printf('\n Minimum value of die length = %f mm, \n Minimum required capacity of the machine = %d N',lmin,ceil(Fmax_min))\n",
"// Answer in the book is give as 2323 N for Minimum required capacity of the machine\n",
" "
   ]
   }
,
{
		   "cell_type": "markdown",
		   "metadata": {},
		   "source": [
			"## Example 3.11: EX3_11.sce"
		   ]
		  },
  {
"cell_type": "code",
	   "execution_count": null,
	   "metadata": {
	    "collapsed": true
	   },
	   "outputs": [],
"source": [
"clc \n",
"// Given that\n",
"d = 50 // Diameter of the billet in mm\n",
"L =75 // Length of the billet in mm\n",
"D = 10 // Final diameter of billet in mm\n",
"Y = 170 // Avg tensile yield stress for aluminium in N/mm^2\n",
"mu = 0.15 // Cofficient of the friction\n",
"// Sample Problem 11 on page no. 141\n",
"printf('\n # PROBLEM 3.11 # \n')\n",
"l = L - ((d-D)/2)*cotd(45)\n",
"phi = 1+mu\n",
"Y_x = Y*(phi/(phi-1))*(((d/D)^(2*(phi-1)))-1)\n",
"F = (%pi/4)*(d^2)*Y_x + (%pi/sqrt(3))*(d*l*Y)\n",
"Pf = %pi*Y*(d^2)*((phi/(2*mu))*(((d/D)^(2*mu))-1)-log(d/D)) + (%pi/sqrt(3))*Y*d*l\n",
"Loss_f = (Pf/F)*100\n",
"Y_X = Y*4.31*log(d/D)\n",
"F_ = (%pi/4)*(d^2)*Y_X + (%pi/sqrt(3))*(d*l*Y)\n",
"Pf_1 = (%pi/sqrt(3))*Y*(d^2)*(log(d/D))\n",
"Pf_2 = (%pi/sqrt(3))*(d*l*Y)\n",
"Pf_ = Pf_1+Pf_2\n",
"Loss_f_ = (Pf_/F_)*100\n",
"printf('\n Maximum force required for extruding the cylindrical aluminium billet = %d N, \n Percent of the total power input will be lost in friction at the start of the operation = %f percent. ',F,Loss_f_)\n",
"// Answer in the book given as 2436444 N for max force required for extruding the cylindrical aluminium billet\n",
" "
   ]
   }
,
{
		   "cell_type": "markdown",
		   "metadata": {},
		   "source": [
			"## Example 3.12: EX3_12.sce"
		   ]
		  },
  {
"cell_type": "code",
	   "execution_count": null,
	   "metadata": {
	    "collapsed": true
	   },
	   "outputs": [],
"source": [
"clc \n",
"// Given that\n",
"d = 50 // Diameter of the steel sheet in mm\n",
"t = 3 // Thickness of the steel sheet in mm\n",
"e = 1.75 // True fracture strain\n",
"Y = 2.1e3 // True fracture stress for the material in N/mm^2\n",
"// Sample Problem 12 on page no. 149\n",
"printf('\n # PROBLEM 3.12 # \n')\n",
"C_0 = (t/(1.36*exp(e)))*((2*exp(e))-1)/((2.3*exp(e))-1)\n",
"p = t*(1/2.45)*((1.9*exp(e))-1)/((2.56*exp(e))-1)\n",
"F = Y*C_0*%pi*d\n",
"W = (1/2)*(F)*(p)*(10^-3)\n",
"printf('\n The proper clearance between die and punch = %f mm, \n Maximum punching force = %f N, \n Energy required to punch the hole = %f J',C_0,F/1000,W)\n",
"// Answer in the book given as 45.74 J for energy required to punch the hole\n",
" "
   ]
   }
,
{
		   "cell_type": "markdown",
		   "metadata": {},
		   "source": [
			"## Example 3.1: EX3_1.sce"
		   ]
		  },
  {
"cell_type": "code",
	   "execution_count": null,
	   "metadata": {
	    "collapsed": true
	   },
	   "outputs": [],
"source": [
"clc \n",
"// Given that\n",
"A = 150*6 // Cross-section of strips in mm^2\n",
"ti = 6 // Thickness in mm\n",
"pA = 0.20 // Reduction in area\n",
"d = 400 // Diameter of steel rolls in mm\n",
"Ys = 0.35// Shear Yield stress of the material before rolling in KN/mm^2\n",
"Ys_ = 0.4// Shear Yield stress of the material after rolling in KN/mm^2\n",
"mu = 0.1 // Cofficient of friction\n",
"// Sample Problem 1 on page no. 112\n",
"printf('\n # PROBLEM 3.1 # \n')\n",
"tf =0.8*ti\n",
"Ys_a = (Ys + Ys_)/2\n",
"r=d/2\n",
"thetaI = sqrt((ti-tf)/r)\n",
"lambdaI=2*sqrt(r/tf)*atan(thetaI *sqrt(r/tf))\n",
"lambdaN = (1/2)*((1/mu)*(log(tf/ti)) + lambdaI)\n",
"thetaN  =(sqrt(tf/r))*(tan((lambdaN/2)*(sqrt(tf/r))))\n",
"printf('\n The final srip thickness is %f mm, \n The avg shear yield stress during the process is %f KN/mm^2, \n The angle subtended by the deformation zone at the roll centre is %f rad, \n The location of neutral point is %f rad.',tf,Ys_a,thetaI,thetaN)"
   ]
   }
,
{
		   "cell_type": "markdown",
		   "metadata": {},
		   "source": [
			"## Example 3.2: Calculation_of_roll_separating_force_and_power_required_in_the_rolling_process.sce"
		   ]
		  },
  {
"cell_type": "code",
	   "execution_count": null,
	   "metadata": {
	    "collapsed": true
	   },
	   "outputs": [],
"source": [
"clc \n",
"// Given that\n",
"A = 150*6 // Cross-section of strips in mm^2\n",
"w = 150 // Width of the strip in mm\n",
"ti = 6 // Thickness in mm\n",
"pA = 0.20 // Reduction in area\n",
"d = 400 // Diameter of steel rolls in mm\n",
"Ys = 0.35// Shear Yield stress of the material before rolling in KN/mm^2\n",
"Ys_ = 0.4// Shear Yield stress of the material after rolling in KN/mm^2\n",
"mu = 0.1 // Cofficient of friction\n",
"v = 30 // Speed of rolling in m/min\n",
"// Sample Problem 2 on page no. 113\n",
"printf('\n # PROBLEM 3.2 # \n')\n",
"tf =0.8*ti\n",
"Ys_a = (Ys + Ys_)/2\n",
"r=d/2\n",
"thetaI = sqrt((ti-tf)/r)\n",
"lambdaI=2*sqrt(r/tf)*atan(thetaI *sqrt(r/tf))\n",
"lambdaN = (1/2)*((1/mu)*(log(tf/ti)) + lambdaI)\n",
"thetaN  =(sqrt(tf/r))*(tan((lambdaN/2)*(sqrt(tf/r))))\n",
"Dtheta_a = thetaN/4\n",
"Dtheta_b = (thetaI- thetaN)/8\n",
"printf('The values of P_after are\n')\n",
"i = 0\n",
"for i = 0:4\n",
"    theta = i*Dtheta_a\n",
"    y = (1/2)* (tf+r*theta^2)\n",
"    lambda = 2*sqrt(r/tf)*atand(theta*(%pi/180) *sqrt(r/tf))\n",
"    p_a = 2*Ys_a*(2*y/tf)*(exp(mu*lambda))\n",
"    printf('%f \n',p_a)\n",
"end\n",
"I1 = (Dtheta_a/3) *(0.75+.925+4*(.788+.876)+2*.830)// By Simpson's rule\n",
"printf('The values of P_before are\n')\n",
"for i = 0:8\n",
"    theta1 = i*Dtheta_b + thetaN\n",
"    y = (1/2)* (tf+r*theta1^2)\n",
"    lambda = 2*sqrt(r/tf)*atand(theta1*(%pi/180) *sqrt(r/tf))\n",
"    p_b = 2*Ys_a*(2*y/ti)*(exp(mu*(lambdaI-lambda)))\n",
"    printf(' %f \n',p_b)\n",
"end\n",
"I2 = (Dtheta_b/3)*(0.925+.75+4*(.887+.828+.786+.759) + 2*(.855+.804+.772))//By Simpson's rule\n",
"F = r*(I1 + I2)\n",
"F_ = F*w\n",
"T = (r^2)*mu*(I2-I1)\n",
"T_ =T*w\n",
"W = v*(1000/60)/r\n",
"P = 2*T_*W\n",
"printf('\n The roll separating force = %d kN,\n The power required in the rolling process = %f kW',ceil(F_),P/1000)\n",
"// Answer in the book for the power required in the rolling process is given as 75.6 kW\n",
" "
   ]
   }
,
{
		   "cell_type": "markdown",
		   "metadata": {},
		   "source": [
			"## Example 3.3: Calculation_of_mill_power.sce"
		   ]
		  },
  {
"cell_type": "code",
	   "execution_count": null,
	   "metadata": {
	    "collapsed": true
	   },
	   "outputs": [],
"source": [
"clc \n",
"// Given that\n",
"A = 150*6 // Cross-section of strips in mm^2\n",
"w = 150 // Width of the strip in mm\n",
"ti = 6 // Thickness in mm\n",
"pA = 0.20 // Reduction in area\n",
"d = 400 // Diameter of steel rolls in mm\n",
"Ys = 0.35// Shear Yield stress of the material before rolling in KN/mm^2\n",
"Ys_ = 0.4// Shear Yield stress of the material after rolling in KN/mm^2\n",
"mu = 0.1 // Cofficient of friction\n",
"mu_ = 0.005 // Cofficient of friction in bearing \n",
"D = 150 // The diameter of bearing in mm\n",
"v = 30 // Speed of rolling in m/min\n",
"// Sample Problem 3 on page no. 115\n",
"printf('\n # PROBLEM 3.3 # \n')\n",
"tf =0.8*ti\n",
"Ys_a = (Ys + Ys_)/2\n",
"r=d/2\n",
"thetaI = sqrt((ti-tf)/r)\n",
"lambdaI=2*sqrt(r/tf)*atan(thetaI *sqrt(r/tf))\n",
"lambdaN = (1/2)*((1/mu)*(log(tf/ti)) + lambdaI)\n",
"thetaN  =(sqrt(tf/r))*(tan((lambdaN/2)*(sqrt(tf/r))))\n",
"Dtheta_a = thetaN/4\n",
"Dtheta_b = (thetaI- thetaN)/8\n",
"i = 0\n",
"for i = 0:4\n",
"    theta = i*Dtheta_a\n",
"    y = (1/2)* (tf+r*theta^2)\n",
"    lambda = 2*sqrt(r/tf)*atand(theta*(%pi/180) *sqrt(r/tf))\n",
"    p_a = 2*Ys_a*(2*y/tf)*(exp(mu*lambda))\n",
"end\n",
"I1 = (Dtheta_a/3) *(0.75+.925+4*(.788+.876)+2*.830)\n",
"for i = 0:8\n",
"    theta1 = i*Dtheta_b + thetaN\n",
"    y = (1/2)* (tf+r*theta1^2)\n",
"    lambda = 2*sqrt(r/tf)*atand(theta1*(%pi/180) *sqrt(r/tf))\n",
"    p_b = 2*Ys_a*(2*y/ti)*(exp(mu*(lambdaI-lambda)))\n",
"end\n",
"I2 = (Dtheta_b/3)*(0.925+.75+4*(.887+.828+.786+.759) + 2*(.855+.804+.772))\n",
"F = r*(I1 + I2)\n",
"F_ = F*w\n",
"T = (r^2)*mu*(I2-I1)\n",
"T_ =T*w\n",
"W = v*(1000/60)/r\n",
"P_ = 2*T_*W\n",
"Pl = mu_*F_*D*W\n",
"P = Pl+P_\n",
"printf('\n The mill power = %f kW',P/1000)\n",
"// Answer in the book is given as 79.18 kW\n",
" "
   ]
   }
,
{
		   "cell_type": "markdown",
		   "metadata": {},
		   "source": [
			"## Example 3.4: Calculation_of_maximum_forging_force.sce"
		   ]
		  },
  {
"cell_type": "code",
	   "execution_count": null,
	   "metadata": {
	    "collapsed": true
	   },
	   "outputs": [],
"source": [
"clc \n",
"// Given that\n",
"mu = 0.25 // Cofficient of friction between the job and the dies \n",
"Y = 7 // Avg yield stress of the lead in N/mm^2\n",
"h = 6 // Height of die in mm\n",
"L = 150 // Length of the strip in mm\n",
"V1 = 24*24*150 // Volume of the strip in mm^3\n",
"V2 = 6*96*150 // Volume of the die in mm^3\n",
"w= 96 // Weidth of the die in mm\n",
"// Sample Problem 4 on page no. 118\n",
"printf('\n # PROBLEM 3.4 # \n')\n",
"K = Y/sqrt(3)\n",
"x_ = (h/(2*mu))*(log(1/(2*mu)))\n",
"l = w/2\n",
"funcprot(0)\n",
"function p1 = f(x), p1 = (2*K)*exp((2*mu/h)*x),\n",
"endfunction\n",
"funcprot(0)\n",
"I1 = intg(0,x_,f)\n",
"function p2 = f(y), p2=(2*K)*((1/2*mu)*(log(1/(2*mu))) + (y/h)),\n",
"endfunction\n",
"I2 = intg(x_,l,f)\n",
"F = 2*(I1+I2)\n",
"F_ = F*L\n",
"printf('\n The maximum forging force = %e N',F_)\n",
"// Answer in the book is given as 0.54*10^6 N \n",
" "
   ]
   }
,
{
		   "cell_type": "markdown",
		   "metadata": {},
		   "source": [
			"## Example 3.5: Calculation_of_maximum_forging_force.sce"
		   ]
		  },
  {
"cell_type": "code",
	   "execution_count": null,
	   "metadata": {
	    "collapsed": true
	   },
	   "outputs": [],
"source": [
"clc \n",
"// Given that\n",
"mu = 0.08// Cofficient of friction between the job and the dies \n",
"Y = 7 // Avg yield stress of the lead in N/mm^2\n",
"h = 6 // Height of die in mm\n",
"L = 150 // Length of the strip in mm\n",
"V1 = 24*24*150 // Volume of the strip in mm^3\n",
"V2 = 6*96*150 // Volume of the die in mm^3\n",
"w= 96 // Weidth of the die in mm\n",
"// Sample Problem 5 on page no. 119\n",
"printf('\n # PROBLEM 3.5 # \n')\n",
"K = Y/sqrt(3)\n",
"x_ = (h/(2*mu))*(log(1/(2*mu)))\n",
"l = w/2\n",
"funcprot(0)\n",
"function p1 = f(x), p1 = (2*K)*exp((2*mu/h)*x),\n",
"endfunction\n",
"I = intg(0,l,f)\n",
"F = 2*(I)\n",
"F_ = F*L\n",
"printf('\n The maximum forging force = %e N',F_)\n",
" "
   ]
   }
,
{
		   "cell_type": "markdown",
		   "metadata": {},
		   "source": [
			"## Example 3.6: Calculation_of_maximum_forging_force.sce"
		   ]
		  },
  {
"cell_type": "code",
	   "execution_count": null,
	   "metadata": {
	    "collapsed": true
	   },
	   "outputs": [],
"source": [
"clc \n",
"// Given that\n",
"r = 150 // Radius of the circular disc of lead in mm\n",
"Ti = 50 // Initial thickness of the disc in mm\n",
"Tf = 25 // Reduced thickness of the disc in mm\n",
"mu = 0.25// Cofficient of friction between the job and the dies \n",
"K = 4 // Avg shear yield stress of the lead in N/mm^2\n",
"// Sample Problem 6 on page no. 122\n",
"printf('\n # PROBLEM 3.6 # \n')\n",
"R = r*sqrt(2)\n",
"rs = (R - ((Tf/(2*mu)) * log(1/(mu*sqrt(3)))))\n",
"funcprot(0)\n",
"function p1 = f(x), p1 = (((sqrt(3))*K)*exp((2*mu/Tf)*(R-x)))*x,\n",
"endfunction\n",
"I = intg(rs,R,f)\n",
"funcprot(0)\n",
"function p2 = f(y), p2 = ((2*K/Tf)*(R-y) + ((K/mu)*(1+log(mu*sqrt(3)))))*y,\n",
"endfunction\n",
"I_ = intg(0,rs,f)\n",
"F = 2*%pi*(I+I_)\n",
"printf('\n The maximum forging force = %e N',F)\n",
" "
   ]
   }
,
{
		   "cell_type": "markdown",
		   "metadata": {},
		   "source": [
			"## Example 3.7: Calculation_of_drawing_power_and_maximum_passible_reduction_in_die.sce"
		   ]
		  },
  {
"cell_type": "code",
	   "execution_count": null,
	   "metadata": {
	    "collapsed": true
	   },
	   "outputs": [],
"source": [
"clc \n",
"// Given that\n",
"Di = 12.7 // Intial diameter in mm\n",
"Df = 10.2 // Final diameter in mm\n",
"v = 90 // Drawn speed in m/min\n",
"alpha=6 // Half angle of dia in degree\n",
"mu = 0.1// Cofficient of friction between the job and the dies \n",
"Y = 207 // Tensile  yield stress of the steel specimen in N/mm^2\n",
"Y_ = 414 // Tensile yield stress of the similar specimen at strain 0.5 in N/mm^2\n",
"e = 0.5 // Strain\n",
"// Sample Problem 7 on page no. 126\n",
"printf('\n # PROBLEM 3.7 # \n')\n",
"e_ =2* log(Di/Df)\n",
"Y_e = Y + (Y_ - Y)*e_/e\n",
"Y__ = (Y+Y_e)/2\n",
"phi = 1 + (mu/tand(alpha))\n",
"Y_f = Y__ * ((phi/(phi-1)) *(1-((Df/Di)^(2*(phi-1)))))\n",
"p = Y_f * (%pi/4)*(Df^2)*v/60\n",
"Dmax = 1- (1/(phi^(1/(phi-1))))\n",
"printf('\n Drawing power = %f kW, \n The maximum passible reduction with same die = %f mm',p/1000,Dmax)\n",
" "
   ]
   }
,
{
		   "cell_type": "markdown",
		   "metadata": {},
		   "source": [
			"## Example 3.8: EX3_8.sce"
		   ]
		  },
  {
"cell_type": "code",
	   "execution_count": null,
	   "metadata": {
	    "collapsed": true
	   },
	   "outputs": [],
"source": [
"clc \n",
"// Given that\n",
"Ri = 30 // Inside radius of cup in mm\n",
"t = 3 // Thickness in mm\n",
"Rb = 40 // Radius of the blank in mm\n",
"K = 210 // Shear yield stress of the material in N/mm^2\n",
"Y = 600 // Maximum allowable stress in N/mm^2\n",
"Beta = 0.05\n",
"mu = 0.1// Cofficient of friction between the job and the dies \n",
"// Sample Problem 8 on page no. 130\n",
"printf('\n # PROBLEM 3.8 # \n')\n",
"Fh = Beta*%pi*(Rb^2)*K\n",
"Y_r = (mu*Fh/(%pi*Rb*t))+(2*K*log(Rb/Ri))\n",
"Y_z = Y_r*exp(mu*%pi/2)\n",
"F = 2*%pi*Ri*t*Y_z\n",
"Y_r_ = Y/exp(mu*%pi/2)\n",
"Rp = (Rb/exp((Y_r_/(2*K)) - ((mu*Fh)/(2*%pi*K*Rb*t))))-t\n",
"printf('\n Drawing force = %d N, \n Minimum passible radius of the cup which can drawn from the given blank without causing a fracture = %f mm',F,Rp)\n",
"// Answer in the book given as 62680 N"
   ]
   }
,
{
		   "cell_type": "markdown",
		   "metadata": {},
		   "source": [
			"## Example 3.9: Calculation_of_maximum_bending_force_and_required_punch_angle.sce"
		   ]
		  },
  {
"cell_type": "code",
	   "execution_count": null,
	   "metadata": {
	    "collapsed": true
	   },
	   "outputs": [],
"source": [
"clc \n",
"// Given that\n",
"L_ = 20 // Length of the mild steel product in mm\n",
"h = 50 // Height of the mild steel product in mm\n",
"L = 50 // Horizontal length of the mild steel product in mm\n",
"t = 5 // Thickness in mm\n",
"l=25 // Length of the bend in mm\n",
"E = 207 // Modulus of elasticity in kN/mm^2\n",
"n = 517 // Strain hardening rate in N/mm^2\n",
"Y = 345 // Yield stress in N/mm^2\n",
"mu = 0.1// Cofficient of friction\n",
"e = 0.2 // Fracture strain\n",
"theta = 20 // Bend angle in degree\n",
"// Sample Problem 9 on page no. 135\n",
"printf('\n # PROBLEM 3.9 # \n')\n",
"Rp = ((1 /((exp(e) - 1)))-0.82)*t/1.82\n",
"Y_1 = Y+n*e\n",
"Y_2 = Y + n*(log(1+(1/(2.22*(Rp/t)+1))))\n",
"M = ((0.55*t)^2)*((Y/6)+(Y_1/3)) + ((0.45*t)^2)*((Y/6)+(Y_2/3))\n",
"Fmax = (M/l)*(1+(cosd((atand(mu))+mu*sind(atand(mu)))))\n",
"Fmax_ = L_*Fmax\n",
"alpha = 90 /((12*(Rp+0.45*t)*M/(E*(10^3)*(t^3)))+1)\n",
"Ls = 2*(((Rp+0.45*t)*%pi/4) + 50-(Rp+t))\n",
"printf('\n Maximum bending force = %d N, \n The required puch angle = %f°,\n The stock length = %f mm',Fmax_,alpha,Ls)\n",
"// Answer in the book for maximum bending force is given as 4144 N\n",
" "
   ]
   }
],
"metadata": {
		  "kernelspec": {
		   "display_name": "Scilab",
		   "language": "scilab",
		   "name": "scilab"
		  },
		  "language_info": {
		   "file_extension": ".sce",
		   "help_links": [
			{
			 "text": "MetaKernel Magics",
			 "url": "https://github.com/calysto/metakernel/blob/master/metakernel/magics/README.md"
			}
		   ],
		   "mimetype": "text/x-octave",
		   "name": "scilab",
		   "version": "0.7.1"
		  }
		 },
		 "nbformat": 4,
		 "nbformat_minor": 0
}
