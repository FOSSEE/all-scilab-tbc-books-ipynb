{
"cells": [
 {
		   "cell_type": "markdown",
	   "metadata": {},
	   "source": [
       "# Chapter 7: MANUFACTURING IN TWENTY FIRST CENTURY MICROMACHINING GENERATIVE MANUFACTURING AND SELF ASSEMBLY"
	   ]
	},
{
		   "cell_type": "markdown",
		   "metadata": {},
		   "source": [
			"## Example 7.1: Calculation_of_maximum_allowable_wavelength_of_the_exposing_light.sce"
		   ]
		  },
  {
"cell_type": "code",
	   "execution_count": null,
	   "metadata": {
	    "collapsed": true
	   },
	   "outputs": [],
"source": [
"clc \n",
"// Given that\n",
"F = 4e-6 // Maximum feature dimension in meter\n",
"t = 5e-6 // Photorist thickness in meter\n",
"g = 25e-6 // Allowable gap between the mask and the resist meter\n",
"// Sample Problem 1 on page no. 432\n",
"printf('\n # PROBLEM 7.1 # \n')\n",
"lambda = (F^2)/(t+g)\n",
"printf('\n Maximum allowable wavelength of the exposing light = %d nm',lambda*(10^9))"
   ]
   }
,
{
		   "cell_type": "markdown",
		   "metadata": {},
		   "source": [
			"## Example 7.2: Calculation_of_time_required_to_machine_the_hole.sce"
		   ]
		  },
  {
"cell_type": "code",
	   "execution_count": null,
	   "metadata": {
	    "collapsed": true
	   },
	   "outputs": [],
"source": [
"clc \n",
"// Given that\n",
"d = 5 // Diameter of hole in micro meter\n",
"h = 100 // Depth of hole in micro meter\n",
"// Sample Problem 2 on page no. 440\n",
"printf('\n # PROBLEM 7.2 # \n')\n",
"t = 31.58*(d*(exp(h/(60*d))-1))\n",
"printf('\n Time required to machine the hole = %f min',t)"
   ]
   }
,
{
		   "cell_type": "markdown",
		   "metadata": {},
		   "source": [
			"## Example 7.3: Calculation_of_minimum_level_of_exposure_of_the_PMMA_surface.sce"
		   ]
		  },
  {
"cell_type": "code",
	   "execution_count": null,
	   "metadata": {
	    "collapsed": true
	   },
	   "outputs": [],
"source": [
"clc \n",
"// Given that\n",
"J = 2 // The threshold value of dose in kJ/cm^3\n",
"h = 300 // Height in micro meter\n",
"// Sample Problem 3 on page no. 448\n",
"printf('\n # PROBLEM 7.3 # \n')\n",
"J_o = J*(exp(0.1*sqrt(h)))\n",
"printf('\n The minimum level of exposure of the PMMA surface = %f kJ/cm^3',J_o)"
   ]
   }
,
{
		   "cell_type": "markdown",
		   "metadata": {},
		   "source": [
			"## Example 7.4: Calculation_of_time_required_to_develop_the_PMMA_resist.sce"
		   ]
		  },
  {
"cell_type": "code",
	   "execution_count": null,
	   "metadata": {
	    "collapsed": true
	   },
	   "outputs": [],
"source": [
"clc \n",
"// Given that\n",
"J_ = 2 // The threshold value of dose in kJ/cm^3\n",
"J = 15 // The dose of top surface in kJ/cm^3\n",
"x_ = 300 // Depth below the surface in micro meter\n",
"// Sample Problem 4 on page no. 4\n",
"printf('\n # PROBLEM 7.4 # \n')\n",
"function y=f(x),y = 3/((J*(exp(-0.1*sqrt(x))))^(1.6)-3),\n",
"endfunction\n",
"t = intg(0,x_,f)\n",
"printf('\n The time required to develop the PMMA resist = %d min',t)"
   ]
   }
],
"metadata": {
		  "kernelspec": {
		   "display_name": "Scilab",
		   "language": "scilab",
		   "name": "scilab"
		  },
		  "language_info": {
		   "file_extension": ".sce",
		   "help_links": [
			{
			 "text": "MetaKernel Magics",
			 "url": "https://github.com/calysto/metakernel/blob/master/metakernel/magics/README.md"
			}
		   ],
		   "mimetype": "text/x-octave",
		   "name": "scilab",
		   "version": "0.7.1"
		  }
		 },
		 "nbformat": 4,
		 "nbformat_minor": 0
}
