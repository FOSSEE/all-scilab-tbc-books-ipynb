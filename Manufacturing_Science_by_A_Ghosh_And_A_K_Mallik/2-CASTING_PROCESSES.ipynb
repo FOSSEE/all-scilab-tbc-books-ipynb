{
"cells": [
 {
		   "cell_type": "markdown",
	   "metadata": {},
	   "source": [
       "# Chapter 2: CASTING PROCESSES"
	   ]
	},
{
		   "cell_type": "markdown",
		   "metadata": {},
		   "source": [
			"## Example 1.1: Calculation_of_filling_time.sce"
		   ]
		  },
  {
"cell_type": "code",
	   "execution_count": null,
	   "metadata": {
	    "collapsed": true
	   },
	   "outputs": [],
"source": [
"clc \n",
"// Given that\n",
"h=15 // Height of spur in cm\n",
"l= 50 // Length of cast in cm\n",
"w= 25 // weidth of cast in cm\n",
"h1= 15 // Height of cast in cm\n",
"g= 981 // Acceleration due to gravity in cm/sec^2\n",
"Ag= 5 // Cross sectional area of the grate in cm^2\n",
"// Sample Problem 1 on page no. 46\n",
"printf('\n # PROBLEM 2.1 # \n')\n",
"v3= sqrt(2* g * h)\n",
"V = l*w*h1\n",
"tf1= V/(Ag*v3)\n",
"Am = l*w\n",
"tf2 = (Am/Ag)*(1/sqrt(2*g))*2*(sqrt(h) - sqrt(h-h1))\n",
"printf('\n Filling time for first design = %f sec, \n Filling time for second design = %f sec', tf1, tf2)"
   ]
   }
,
{
		   "cell_type": "markdown",
		   "metadata": {},
		   "source": [
			"## Example 2.2: Calculation_of_filling_time.sce"
		   ]
		  },
  {
"cell_type": "code",
	   "execution_count": null,
	   "metadata": {
	    "collapsed": true
	   },
	   "outputs": [],
"source": [
"clc \n",
"// Given that\n",
"h=15 // Height of spur in cm\n",
"l= 50 // Length of cast in cm\n",
"w= 25 // weidth of cast in cm\n",
"h1= 15 // Height of cast in cm\n",
"g= 981 // Acceleration due to gravity in cm/sec^2\n",
"Ag= 5 // Cross sectional area of the grate in cm^2\n",
"Dm = 7800 // Density of molten Fe in Kg/m^3\n",
"Neta = 0.00496 // Kinetic viscosity in Kg/m-sec\n",
"theta = 90 // Angle in degree\n",
"Eq = 25 // (L/D) Equivalent \n",
"// Sample Problem 2 on page no. 53\n",
"printf('\n # PROBLEM 2.2 # \n')\n",
"v3= sqrt(2* g * h)*(10^(-2))\n",
"d= sqrt((Ag*4)/(%pi))*(10^(-2))\n",
"Re = Dm*v3*d/Neta\n",
"f = 0.0791*(Re)^(-1/4)\n",
"L=0.12 // in meter\n",
"Cd= (1+0.45+4*f*((L/d)+Eq))^(-1/2)\n",
"v3_ = Cd*v3\n",
"Re_ = (v3_/v3)*(Re)\n",
"f_ = 0.0791 *(Re_)^(-1/4)\n",
"Cd_ = (1+0.46+4*f_*(L/d + Eq))^(-1/2)\n",
"v3__ = Cd_*v3\n",
"V = l*w*h1\n",
"tf= (V/(Ag*v3__))*(10^-2)\n",
"printf('\n Filling time for first design = %f sec. ', tf)"
   ]
   }
,
{
		   "cell_type": "markdown",
		   "metadata": {},
		   "source": [
			"## Example 2.3: Calculation_of_time_and_discharge_rate.sce"
		   ]
		  },
  {
"cell_type": "code",
	   "execution_count": null,
	   "metadata": {
	    "collapsed": true
	   },
	   "outputs": [],
"source": [
"clc \n",
"// Given that\n",
"Hi=1.2 // Initial height in m\n",
"H= 0.05 // Height in m\n",
"g= 9.81 // Acceleration due to gravity in m/sec^2\n",
"Dm = 2700 // Density of molten metal in Kg/m^3\n",
"Neta = 0.00273 // Kinetic viscosity in Kg/m-sec \n",
"d= 0.075 // Diameter in m\n",
"D = 1 // Internal diameter of ladle in m\n",
"// Sample Problem  on page no. 56\n",
"printf('\n # PROBLEM 2.3 # \n')\n",
"v3= sqrt(2* g * Hi)\n",
"Re = Dm*v3*d/Neta\n",
"ef=0.075\n",
"Cd= (1+ef)^(-1/2)\n",
"ef_=0.82\n",
"Re_ = (2+ef_)^(-1/2)\n",
"v3_ = sqrt(2*g*H)\n",
"Re_ = Dm*v3_*d/Neta\n",
"At = (%pi/4)*D^2\n",
"An = (%pi/4)*d^2\n",
"Cd= 0.96\n",
"tf= (sqrt(2/g))*(At/An)*(1/Cd)*sqrt(Hi)\n",
"m = Dm*An*Cd*sqrt(2*g*Hi)\n",
"m_ = Dm*An*Cd*sqrt(2*g*Hi*0.25)\n",
"printf('\n Time required to empty the ladle = %f sec, \n Discharge rate are - \n Initially = %f Kg/sec \n When the ladle is 75 percent empty = %f Kg/sec. ',tf,m,m_)"
   ]
   }
,
{
		   "cell_type": "markdown",
		   "metadata": {},
		   "source": [
			"## Example 2.5: Calculation_of_solidification_time.sce"
		   ]
		  },
  {
"cell_type": "code",
	   "execution_count": null,
	   "metadata": {
	    "collapsed": true
	   },
	   "outputs": [],
"source": [
"clc \n",
"// Given that\n",
"thetaF= 1540 // Temperature of mould face in degree centigrade\n",
"Theta0 = 28 // Initial temperature of mould in Degree centigrade\n",
"L= 272e3 // Latent heat of liquid metal in J/Kg\n",
"Dm = 7850 // Density of liquid metal in Kg/m^3\n",
"c = 1.17e+3 //Specific heat of sand in J/Kg-K\n",
"k = 0.8655 // Conductivity of sand in W/m-K\n",
"D= 1600 // Density of sand in Kg/m^3\n",
"h = 0.1 // Height in m\n",
"b = 10 // Thickness of slab in cm\n",
"r =h/2// V/A in meter\n",
"// Sample Problem 5 on page no. 66\n",
"printf('\n # PROBLEM 2.5 # \n')\n",
"lambda = (thetaF - Theta0)*(D*c)/(Dm*L)\n",
"Beta1 = 2*lambda/sqrt(%pi)\n",
"Alpha = k /(D*c)\n",
"ts1 = r^2 /((Beta1^2)*Alpha)//In sec\n",
"ts1_=ts1/3600 // In hour\n",
"Beta= poly(0,'Beta');\n",
"p=Beta^2 - lambda*(2/sqrt(%pi))*Beta -lambda/3\n",
"Beta2 = roots(p)\n",
"printf(' The value of Beta2 is %f, ',Beta2)\n",
"printf('\n We only take the positive value of Beta2 , \n Hence Beta2=1.75')\n",
"r1 = r/3\n",
"ts2 = (r1^2)/((1.75^2)*Alpha) // in sec\n",
"ts2_=ts2/3600//in Hour\n",
"printf('\n\n Solidification time for slab-shaped casting = %f hr,\n Solidification time for sphere = %f hr', ts1_,ts2_)"
   ]
   }
,
{
		   "cell_type": "markdown",
		   "metadata": {},
		   "source": [
			"## Example 2.6: Calculation_of_solidification_time_and_surface_temperature.sce"
		   ]
		  },
  {
"cell_type": "code",
	   "execution_count": null,
	   "metadata": {
	    "collapsed": true
	   },
	   "outputs": [],
"source": [
"clc \n",
"// Given that\n",
"thetaF= 1540 // Temperature of mould face in degree centigrate\n",
"ThetaO = 28 // Initial temperature of mould in Degree centigrate\n",
"L= 272e3 // Latent heat of iron in J/Kg\n",
"Dm = 7850 // Density of iron in Kg/m^3\n",
"Cs = 0.67e+3 //Specific heat of iron in J/Kg-K\n",
"C = 0.376e3 //Specific heat of copper in J/Kg-K\n",
"Ks = 83 // Conductivity of iron in W/m-K\n",
"K = 398 // Conductivity of copper in W/m-K\n",
"D= 8960 // Density of copper in Kg/m^3\n",
"h = .1 // Height in m\n",
"// Sample Problem 6 on page no. 73\n",
"printf('\n # PROBLEM 2.6 # \n')\n",
"zeta1=0.98//By solving eqauation- zeta*exp(zeta^2)*erf(zeta)=((thetaF-thetaO)*Cs)/(sqrt(pi)*L), zeta = 0.98\n",
"AlphaS = Ks /(Dm*Cs)\n",
"ts1 = h^2 / (16*(zeta1^2) * AlphaS)//In sec\n",
"ts1_=ts1/3600 // In hour\n",
"Phi = sqrt((Ks*Dm*Cs)/(K*D*C))\n",
"zeta2=0.815//By solving eqauation- zeta*exp(zeta^2)*(erf(zeta)+Phi)=((thetaF-thetaO)*Cs)/(sqrt(pi)*L), zeta = 0.815\n",
"ts2 = h^2 / (16*(zeta2^2) * AlphaS)//In sec\n",
"ts2_=ts2/3600 // In hour\n",
"thetaS= (thetaF-(L*(sqrt(%pi))*zeta2*(exp(zeta2^2))*erf(zeta2))/Cs)\n",
"printf('\n Solidification time for slab-shaped casting when the casting is done in a water cooled copper mould = %f hr,\n Solidification time for slab-shaped casting when the casting is done in a very thick copper mould = %f hr,\n The surface temperature of the mould = %f° C', ts1_,ts2_,thetaS)"
   ]
   }
,
{
		   "cell_type": "markdown",
		   "metadata": {},
		   "source": [
			"## Example 2.7: Calculation_of_solidification_time_and_surface_temperature.sce"
		   ]
		  },
  {
"cell_type": "code",
	   "execution_count": null,
	   "metadata": {
	    "collapsed": true
	   },
	   "outputs": [],
"source": [
"clc \n",
"// Given that\n",
"thetaF= 1540 // Temperature of mould face in degree centigrade\n",
"thetaO = 28 // Initial temperature of mould in Degree centigrade\n",
"L= 272e3 // Latent heat of iron in J/Kg\n",
"Dm = 7850 // Density of iron in Kg/m^3\n",
"Cs = 0.67e+3 //Specific heat of iron in J/Kg-K\n",
"C = 0.376e3 //Specific heat of copper in J/Kg-K\n",
"Ks = 83 // Conductivity of iron in W/m-K\n",
"K = 398 // Conductivity of copper in W/m-K\n",
"D= 8960 // Density of copper in Kg/m^3\n",
"h = .1 // Height in m\n",
"hF = 1420 // Total heat transfer coefficient across the casting-mould interface in W/m^2-°C\n",
"// Sample Problem 7 on page no. 75\n",
"printf('\n # PROBLEM 2.7 # \n')\n",
"AlphaS = K /(D*C)\n",
"thetaS = 982 //In °C as in example 2.6\n",
"h1= (1+(sqrt((Ks*Dm*Cs)/(K*D*C))))*hF\n",
"a = 1/2 + (sqrt((1/4)+Cs*(thetaF-thetaS)/(3*L)))\n",
"delta=h/2\n",
"ts = (delta+((h1*delta^2)/(2*Ks)))/((h1*(thetaF-thetaS))/(Dm*L*a)) // in sec\n",
"ts_ = ts/3600 // in hours\n",
"h2= (1+(sqrt((K*D*C)/(Ks*Dm*Cs))))*hF\n",
"gama= ((h2^2)/(K^2))*AlphaS*ts\n",
"thetaS_ = thetaO + (thetaS-thetaO)*(1-((exp(gama))*(1-(erf(sqrt(gama))))))\n",
"printf('\n Solidification time = %f hr,\n  The surface temperature of the mould = %f ° C', ts_,thetaS_)\n",
"// The value of the surface temperature of the mould in the book is given as 658.1° C, Which is wrong."
   ]
   }
,
{
		   "cell_type": "markdown",
		   "metadata": {},
		   "source": [
			"## Example 2.8: Calculation_of_mould_length_and_cooling_water_requirement.sce"
		   ]
		  },
  {
"cell_type": "code",
	   "execution_count": null,
	   "metadata": {
	    "collapsed": true
	   },
	   "outputs": [],
"source": [
"clc \n",
"// Given that\n",
"A= 60*7.5 // Cross sectional area in cm^2\n",
"v=0.05 // Withdrawal rate in m/sec\n",
"t = 0.0125 // Thickness in m\n",
"thetaF= 1500 // Temperature of mould face in degree centigrate\n",
"thetaP = 1550 // \n",
"thetaO = 20 // Initial temperature of mould in Degree centigrate\n",
"L= 268e3 // Latent heat of molten metal in J/Kg\n",
"Dm = 7680 // Density of molten metal in Kg/m^3\n",
"Cs = 0.67e+3 //Specific heat of molten metal in J/Kg-K\n",
"Cm = 0.755e3 //Specific heat of mould in J/Kg-K\n",
"Ks = 76 // Conductivity of molten metal in W/m-K\n",
"hF = 1420 // Heat transfer coefficient at the casting-mould interface in W/m^2-°C\n",
"Dtheta = 10 // Maximum temperature of cooling water in ° C\n",
"// Sample Problem 8 on page no. 77\n",
"printf('\n # PROBLEM 2.8 # \n')\n",
"L_ = L+Cm*(thetaP-thetaF)\n",
"x=L_ / (Cs*(thetaF-thetaO))\n",
"y= hF*t/Ks\n",
"printf(' L_/(Cs(thetaF-thetaO))=%f,\n hF*t/Ks=%f',x,y)\n",
"z=0.11 // Where z=hF^2 * lm / (v*Ks*Dm*Cs)\n",
"lm= (z*v*Ks*Dm*Cs)/(hF^2)\n",
"Z=0.28 // Where Z=Q/(lm*(thetaF-thetaO)*sqrt(lm*v*Dm*Cs*Ks))\n",
"Q = Z*lm*(thetaF-thetaO)*sqrt(lm*v*Dm*Cs*Ks)\n",
"m = Q / (4.2e3*Dtheta)\n",
"printf('\n The mould length = %f meter,\n  The cooling water requirement = %f Kg/sec', lm,m)\n",
"// Answer for The cooling water requirement in the book is given as 5.05 Kg/sec, Which is wrong."
   ]
   }
,
{
		   "cell_type": "markdown",
		   "metadata": {},
		   "source": [
			"## Example 2.9: Calculation_of_riser_volume.sce"
		   ]
		  },
  {
"cell_type": "code",
	   "execution_count": null,
	   "metadata": {
	    "collapsed": true
	   },
	   "outputs": [],
"source": [
"clc \n",
"// Given that\n",
"a = 15 // Side of the aluminium cube in cm\n",
"Sh = 0.065 // Volume shrinkage of aluminium during solidification\n",
"// Sample Problem 9 on page no. 81\n",
"printf('\n # PROBLEM 2.9 # \n')\n",
"Vc = a^3\n",
"Vr = 3*Sh*Vc\n",
"h = ((4*Vr)/%pi)^(1/3)\n",
"Rr = 6/h // Where Rr= (A/V)r\n",
"Rc = 6/a // Where Rc = (A/V)c\n",
"printf('(A/V)r=%f, (A/V)c=%f\n Hence Rr is greater than Rc',Rr,Rc)\n",
"dmin = 6/Rc\n",
"Vr_ = (%pi/4)*dmin^3\n",
"printf('\n With minimum value of d Vr=%d cm^3 .\n This valume is much more than the minimum Vr necessary. \nLet us now consider the top riser when the optimum cylindrical shape is obtained with h=d/2 \nand again (A/V)r = 6/d. However, with a large top riser,\n the cube loses its top surface for the purpose of heat dissipation.',Vr_)\n",
"Rc_ = 5/a\n",
"dmin_=6/Rc_\n",
"printf('\n d should be greater than or equal to %d cm',dmin_)\n",
"Vr__ = (%pi/4)*dmin_^2 *floor(h)\n",
"printf('\n The riser volume with minimum diameter is %d cm^3',Vr__)"
   ]
   }
],
"metadata": {
		  "kernelspec": {
		   "display_name": "Scilab",
		   "language": "scilab",
		   "name": "scilab"
		  },
		  "language_info": {
		   "file_extension": ".sce",
		   "help_links": [
			{
			 "text": "MetaKernel Magics",
			 "url": "https://github.com/calysto/metakernel/blob/master/metakernel/magics/README.md"
			}
		   ],
		   "mimetype": "text/x-octave",
		   "name": "scilab",
		   "version": "0.7.1"
		  }
		 },
		 "nbformat": 4,
		 "nbformat_minor": 0
}
