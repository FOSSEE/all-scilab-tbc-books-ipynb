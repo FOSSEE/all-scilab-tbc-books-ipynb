{
"cells": [
 {
		   "cell_type": "markdown",
	   "metadata": {},
	   "source": [
       "# Chapter 4: Energy and Potential"
	   ]
	},
{
		   "cell_type": "markdown",
		   "metadata": {},
		   "source": [
			"## Example 4.1: find_the_work_involved.sce"
		   ]
		  },
  {
"cell_type": "code",
	   "execution_count": null,
	   "metadata": {
	    "collapsed": true
	   },
	   "outputs": [],
"source": [
"//clear//\n",
"//Caption: Program to find the work involved 'W' in moving a charge 'Q' along shorter arc of a circle\n",
"//Example4.1\n",
"//page 84\n",
"clc;\n",
"x = sym('x');\n",
"y = sym('y');\n",
"z = sym('z');\n",
"y1 = sym('y1');\n",
"y = sqrt(1-x^2);\n",
"Q = 2; //charge in coulombs\n",
"Edot_dL1 = integ(y,x);\n",
"disp(Edot_dL1,'E.dx*ax =')\n",
"Edot_dL1 = limit(Edot_dL1,x,0.8)-limit(Edot_dL1,x,1);\n",
"disp(Edot_dL1,'Value of E.dx*ax =')\n",
"Edot_dL2 = 0;\n",
"disp(Edot_dL2,'Value of E.dz*az=')\n",
"x = sqrt(1-y1^2);\n",
"Edot_dL3 = integ(x,y1)\n",
"disp(Edot_dL3,'E.dy*ay=')\n",
"Edot_dL3 = limit(Edot_dL3,y1,0.6)-limit(Edot_dL3,y1,0);\n",
"disp(Edot_dL3,'Value of E.dy*ay =')\n",
"W = -Q*(Edot_dL1+Edot_dL2+Edot_dL3);\n",
"disp(W,'Work done in moving a point charge along shorter arc of circle in Joules, W=')\n",
"//Result\n",
"// E.dx*ax =    asin(x)/2+x*sqrt(1-x^2)/2   \n",
"// Value of E.dx*ax =    (25*asin(4/5)+12)/50-%pi/4   \n",
"// Value of E.dz*az =       0.  \n",
"// E.dy*ay =    asin(y1)/2+y1*sqrt(1-y1^2)/2   \n",
"// Value of E.dy*ay =    (25*asin(3/5)+12)/50  \n",
"//Work done in moving a point charge along shorter arc of circle in Joules, W =   \n",
"// -2*((25*asin(4/5)+12)/50+(25*asin(3/5)+12)/50-%pi/4) \n",
"//Which is equivalent to\n",
"// -2*((25*0.9272952+12)/50+(25*0.6435011+12)/50-%pi/4) = -0.96 Joules"
   ]
   }
,
{
		   "cell_type": "markdown",
		   "metadata": {},
		   "source": [
			"## Example 4.2: find_the_work_involved_W_.sce"
		   ]
		  },
  {
"cell_type": "code",
	   "execution_count": null,
	   "metadata": {
	    "collapsed": true
	   },
	   "outputs": [],
"source": [
"//clear//\n",
"//Caption: Program to find the work involved 'W' in moving a charge 'Q' along straight line\n",
"//Example4.2\n",
"//page 84\n",
"clc;\n",
"x = sym('x');\n",
"y = sym('y');\n",
"z = sym('z');\n",
"y1 = sym('y1');\n",
"y = -3*(x-1);\n",
"Q = 2; //charge in coulombs\n",
"Edot_dL1 = integ(y,x);\n",
"disp(Edot_dL1,'E.dx*ax =')\n",
"Edot_dL1 = limit(Edot_dL1,x,0.8)-limit(Edot_dL1,x,1);\n",
"disp(Edot_dL1,'Value of E.dx*ax =')\n",
"Edot_dL2 = 0;\n",
"disp(Edot_dL2,'Value of E.dz*az=')\n",
"x = (1-y1/3);\n",
"Edot_dL3 = integ(x,y1)\n",
"disp(Edot_dL3,'E.dy*ay=')\n",
"Edot_dL3 = limit(Edot_dL3,y1,0.6)-limit(Edot_dL3,y1,0);\n",
"disp(Edot_dL3,'Value of E.dy*ay =')\n",
"W = -Q*(Edot_dL1+Edot_dL2+Edot_dL3);\n",
"disp(W,'Work done in moving a point charge along shorter arc of circle in Joules, W=')\n",
"//Result\n",
"//E.dx*ax = -3*(x^2/2-x)   \n",
"//Value of E.dx*ax = -3/50   \n",
"//Value of E.dz*az =   0.  \n",
"//E.dy*ay =  y1-y1^2/6   \n",
"//Value of E.dy*ay =   27/50   \n",
"//Work done in moving a point charge along shorter arc of circle in Joules, W = -24/25  = -0.96 Joules"
   ]
   }
,
{
		   "cell_type": "markdown",
		   "metadata": {},
		   "source": [
			"## Example 4.3: Program_to_calculate_E.sce"
		   ]
		  },
  {
"cell_type": "code",
	   "execution_count": null,
	   "metadata": {
	    "collapsed": true
	   },
	   "outputs": [],
"source": [
"//clear//\n",
"//Caption: Program to calculate E, D and volume charge density using divergence of D\n",
"//Example4.3\n",
"//page 100\n",
"clc;\n",
"x = -4;\n",
"y = 3;\n",
"z = 6;\n",
"V = 2*(x^2)*y-5*z;\n",
"disp(float(V),'Potential V at point P(-4,3,6)in volts is Vp =')\n",
"x1 = sym('x1');\n",
"y1 = sym('y1');\n",
"z1 = sym('z1');\n",
"ax = sym('ax');\n",
"ay = sym('ay');\n",
"az = sym('az');\n",
"V1 = 2*(x1^2)*y1-5*z1;\n",
"//Electric Field Intensity from gradient of V\n",
"Ex = -diff(V1,x1);\n",
"Ey = - diff(V1,y1);\n",
"Ez = - diff(V1,z1);\n",
"Ex1 = limit(Ex,x1,-4);\n",
"Ex1 = limit(Ex1,y1,3);\n",
"Ex1 = limit(Ex1,z1,6);\n",
"Ey1 = limit(Ey,x1,-4);\n",
"Ey1 = limit(Ey1,y1,3);\n",
"Ey1 = limit(Ey1,z1,6);\n",
"Ez1 = limit(Ez,x1,-4);\n",
"Ez1 = limit(Ez1,y1,3);\n",
"Ez1 = limit(Ez1,z1,6);\n",
"E = Ex1*ax+Ey1*ay+Ez1*az;\n",
"Ep = sqrt(float(Ex1^2+Ey1^2+Ez1^2));\n",
"disp(Ep,'Electric Field Intensity E at point P(-4,3,6) in volts E =')\n",
"aEp = float(E/Ep);\n",
"disp(aEp,'Direction of Electric Field E at point P(-4,3,6) aEp=')\n",
"Dx = float(8.854*Ex);\n",
"Dy = float(8.854*Ey);\n",
"Dz = float(8.854*Ez);\n",
"D = Dx*ax+Dy*ay+Dz*az;\n",
"disp(D,'Electric Flux Density in pico.C/square.metre D =')\n",
"dDx = diff(Dx,x1);\n",
"dDx = limit(dDx,x1,-4);\n",
"dDx = limit(dDx,y1,3);\n",
"dDx = limit(dDx,z1,6);\n",
"dDy = diff(Dy,y1);\n",
"dDy = limit(dDy,x1,-4);\n",
"dDy = limit(dDy,y1,3);\n",
"dDy = limit(dDy,z1,6);\n",
"dDz = diff(Dz,z1);\n",
"dDz = limit(dDz,x1,-4);\n",
"dDz = limit(dDz,y1,3);\n",
"dDz = limit(dDz,z1,6);\n",
"rV = dDx+dDy+dDz;\n",
"disp(rV,'Volume Charge density from divergence of D in pC/cubic.metre is rV=')\n",
"//Result\n",
"//Potential V at point P(-4,3,6)in volts is Vp =  66.  \n",
"//Electric Field Intensity E at point P(-4,3,6) in volts E = 57.9050947672137   \n",
"//Direction of Electric Field E at point P(-4,3,6) aEp= \n",
"//0.01726963756851*(5*az-32*ay+48*ax)\n",
"//equivalent to aEp= 0.0863482*az-0.5526284*ay+0.8289426*ax\n",
"//Electric Flux Density in pico.C/square.metre D =   \n",
"//  -35.416*ax*x1*y1-17.708*ay*x1^2+44.27*az  \n",
"//Volume Charge density from divergence of D in pC/cubic.metre is rV=   \n",
"//  -106.248  "
   ]
   }
],
"metadata": {
		  "kernelspec": {
		   "display_name": "Scilab",
		   "language": "scilab",
		   "name": "scilab"
		  },
		  "language_info": {
		   "file_extension": ".sce",
		   "help_links": [
			{
			 "text": "MetaKernel Magics",
			 "url": "https://github.com/calysto/metakernel/blob/master/metakernel/magics/README.md"
			}
		   ],
		   "mimetype": "text/x-octave",
		   "name": "scilab",
		   "version": "0.7.1"
		  }
		 },
		 "nbformat": 4,
		 "nbformat_minor": 0
}
