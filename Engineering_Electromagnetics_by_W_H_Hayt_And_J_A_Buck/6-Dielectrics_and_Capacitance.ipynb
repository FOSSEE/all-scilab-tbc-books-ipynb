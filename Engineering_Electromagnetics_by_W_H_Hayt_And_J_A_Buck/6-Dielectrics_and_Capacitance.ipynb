{
"cells": [
 {
		   "cell_type": "markdown",
	   "metadata": {},
	   "source": [
       "# Chapter 6: Dielectrics and Capacitance"
	   ]
	},
{
		   "cell_type": "markdown",
		   "metadata": {},
		   "source": [
			"## Example 6.1: calculate_D.sce"
		   ]
		  },
  {
"cell_type": "code",
	   "execution_count": null,
	   "metadata": {
	    "collapsed": true
	   },
	   "outputs": [],
"source": [
"//clear//\n",
"//Caption: Program to calculate D,E and Polarization P for Teflon slab\n",
"//Example6.1\n",
"//page 142\n",
"clc;\n",
"ax = sym('ax');\n",
"e0 = sym('e0');\n",
"E0 = sym('E0');\n",
"Ein = sym('Ein');\n",
"er = 2.1; //relative permittivity of teflon\n",
"chi = er-1; //electric susceptibility \n",
"Eout = E0*ax;\n",
"Dout = float(e0*Eout);\n",
"Din = float(er*e0*Ein);\n",
"Pin = float(chi*e0*Ein);\n",
"disp(Dout,'Dout in c/square.metre = ')\n",
"disp(Din,'Din in c/square.metre = ')\n",
"disp(Pin,'Polarization in coulombs per square metre Pin =')\n",
"//Result\n",
"//Dout in c/square.metre =   ax*e0*E0   \n",
"//Din in c/square.metre =    2.1*e0*Ein   \n",
"//Polarization in coulombs per square metre Pin =  1.1*e0*Ein   "
   ]
   }
,
{
		   "cell_type": "markdown",
		   "metadata": {},
		   "source": [
			"## Example 6.2: Program_to_calculate_E_and_Polarization_P.sce"
		   ]
		  },
  {
"cell_type": "code",
	   "execution_count": null,
	   "metadata": {
	    "collapsed": true
	   },
	   "outputs": [],
"source": [
"//clear//\n",
"//Caption: Program to calculate E and Polarization P for Teflon slab\n",
"//Example6.2\n",
"//page 146\n",
"clc;\n",
"ax = sym('ax');\n",
"e0 = sym('e0');\n",
"E0 = sym('E0');\n",
"er = 2.1; //relative permittivity of teflon\n",
"chi = er-1; //electric susceptibility \n",
"Eout = E0*ax;\n",
"Ein = float(Eout/er);\n",
"Din = float(e0*Eout);\n",
"Pin = float(Din - e0*Ein);\n",
"disp(Ein,'Ein in V/m = ')\n",
"disp(Pin,'Polarization in coulombs per square metre Pin =')\n",
"//Result\n",
"//Ein in V/m =  0.47619047619048*ax*E0   \n",
"//Polarization in coulombs per square metre Pin = 0.52380952380952*ax*e0*E0 "
   ]
   }
,
{
		   "cell_type": "markdown",
		   "metadata": {},
		   "source": [
			"## Example 6.3: Program_to_calculate_the_capacitance.sce"
		   ]
		  },
  {
"cell_type": "code",
	   "execution_count": null,
	   "metadata": {
	    "collapsed": true
	   },
	   "outputs": [],
"source": [
"//clear//\n",
"//Caption: Program to calculate the capacitance of a parallel plate capacitor\n",
"//Example6.3\n",
"//page 151\n",
"clc;\n",
"S = 10;//area in square inch\n",
"S = 10*(0.0254)^2; //area in square metre\n",
"d = 0.01; //distance between the plates in inch\n",
"d = 0.01*0.0254; //distance between the plates in metre\n",
"e0 = 8.854e-12; //free space permittivity in F/m\n",
"er = 6; //relative permittivity of mica\n",
"e = e0*er;\n",
"C =  parallel_capacitor(e,S,d);\n",
"disp(C*1e09,'Capacitance of a parallel plate capacitor in pico farads C =')\n",
"//Result\n",
"//Capacitance of a parallel plate capacitor in pico farads C = 1.3493496  "
   ]
   }
],
"metadata": {
		  "kernelspec": {
		   "display_name": "Scilab",
		   "language": "scilab",
		   "name": "scilab"
		  },
		  "language_info": {
		   "file_extension": ".sce",
		   "help_links": [
			{
			 "text": "MetaKernel Magics",
			 "url": "https://github.com/calysto/metakernel/blob/master/metakernel/magics/README.md"
			}
		   ],
		   "mimetype": "text/x-octave",
		   "name": "scilab",
		   "version": "0.7.1"
		  }
		 },
		 "nbformat": 4,
		 "nbformat_minor": 0
}
