{
"cells": [
 {
		   "cell_type": "markdown",
	   "metadata": {},
	   "source": [
       "# Chapter 11: Transmission Lines"
	   ]
	},
{
		   "cell_type": "markdown",
		   "metadata": {},
		   "source": [
			"## Example 11.10: find_the_input_impedance.sce"
		   ]
		  },
  {
"cell_type": "code",
	   "execution_count": null,
	   "metadata": {
	    "collapsed": true
	   },
	   "outputs": [],
"source": [
"//clear//\n",
"//Caption:Program to find the input impedance for a line terminated with impedance(with inductive reactance)\n",
"//Example11.10\n",
"//page369\n",
"clc;\n",
"close;\n",
"ZL = 25+%i*50; //load impdance in ohms\n",
"Zo  = 50; //characteristic impedance in ohms\n",
"T = reflection_coeff(ZL,Zo);//reflection coefficient in rectandular form\n",
"[R,teta] = polar(T);//reflection coefficient in polar form\n",
"L = 60e-02;//length 60 cm\n",
"Lambda = 2; //wavelength = 2m\n",
"EL = electrical_length(L,Lambda);\n",
"EL = EL/57.3; //electrical length in radians\n",
"Zin =(1+T*exp(-%i*2*EL))/(1-T*exp(-%i*2*EL));\n",
"disp(Zin,'Input impedance in ohms Zin =')\n",
"//Result\n",
"//Input impedance in ohms Zin =   \n",
"//    0.2756473 - 0.4055013i "
   ]
   }
,
{
		   "cell_type": "markdown",
		   "metadata": {},
		   "source": [
			"## Example 11.11: Steady_state_voltage.sce"
		   ]
		  },
  {
"cell_type": "code",
	   "execution_count": null,
	   "metadata": {
	    "collapsed": true
	   },
	   "outputs": [],
"source": [
"//clear//\n",
"//Caption:\n",
"//Example11.11\n",
"//page381\n",
"clc;\n",
"close;\n",
"Rg = 50; //series resistance with battery in ohms\n",
"Zo = Rg; //characteristic impedance\n",
"RL = 25; //load resistance\n",
"Vo = 10; //battery voltage in volts\n",
"V1_S = (Rg/(Zo+Rg))*Vo;\n",
"T = reflection_coeff(RL,Zo);\n",
"V1_R = T*V1_S;\n",
"I1_S = V1_S/Zo;\n",
"I1_R = -V1_R/Zo;\n",
"IB = Vo/(Zo+RL);\n",
"VL = Vo*(RL/(Rg+RL));\n",
"disp(V1_S,'Voltage at source in volts V1plus =')\n",
"disp(V1_R,'Voltage returns to battery in volts V1minus=')\n",
"disp(I1_S,'Current at battery in amps I1plus=')\n",
"disp(I1_R,'Current at battery in amps I1minus=')\n",
"disp(IB,'Steady state current through battery in amps IB=')\n",
"disp(VL,'Steady state load voltage in volts VL=')\n",
"//Result\n",
"//Voltage at source in volts V1plus =   \n",
"//     5.  \n",
"//Voltage returns to battery in volts V1minus=   \n",
"//  - 1.6666667  \n",
"//Current at battery in amps I1plus=   \n",
"//    0.1  \n",
"//Current at battery in amps I1minus=   \n",
"//    0.0333333  \n",
"//Steady state current through battery in amps IB=   \n",
"//    0.1333333  \n",
"//Steady state load voltage in volts VL=   \n",
"//    3.3333333  "
   ]
   }
,
{
		   "cell_type": "markdown",
		   "metadata": {},
		   "source": [
			"## Example 11.12: voltage_and_current_through_a_resistor.sce"
		   ]
		  },
  {
"cell_type": "code",
	   "execution_count": null,
	   "metadata": {
	    "collapsed": true
	   },
	   "outputs": [],
"source": [
"//clear//\n",
"//Caption:Program to plot the voltage and current through a resistor\n",
"//Example11.12\n",
"//page 386\n",
"clear;\n",
"close;\n",
"clc;\n",
"t1 = 0:0.1:2;\n",
"t2 = 2:0.1:4;\n",
"t3 = 4:0.1:6;\n",
"t4 = 6:0.1:8;\n",
"VR=[40*ones(1,length(t1)),-20*ones(1,length(t2)),10*ones(1,length(t3)),-5*ones(1,length(t4))];\n",
"IR =[-1.2*ones(1,length(t1)),0.6*ones(1,length(t2)),-0.3*ones(1,length(t3)),0.15*ones(1,length(t4))];\n",
"subplot(2,1,1)\n",
"a=gca();\n",
"a.x_location = 'origin';\n",
"a.y_location = 'origin';\n",
"a.data_bounds = [0,-100;10,100];\n",
"plot2d([t1,t2,t3,t4],VR,5)\n",
"xlabel('                                                          t')\n",
"ylabel('                      VR')\n",
"title('Resistor Voltage as a function of time')\n",
"subplot(2,1,2)\n",
"a=gca();\n",
"a.x_location = 'origin';\n",
"a.y_location = 'origin';\n",
"a.data_bounds = [0,-1.4;10,1.4];\n",
"plot2d([t1,t2,t3,t4],IR,5)\n",
"xlabel('                                                          t')\n",
"ylabel('                      IR')\n",
"title('Current through Resistor as a function of time')"
   ]
   }
,
{
		   "cell_type": "markdown",
		   "metadata": {},
		   "source": [
			"## Example 11.1: determine_the_total_voltage.sce"
		   ]
		  },
  {
"cell_type": "code",
	   "execution_count": null,
	   "metadata": {
	    "collapsed": true
	   },
	   "outputs": [],
"source": [
"//clear//\n",
"//Caption:Program to determine the total voltage as a function\n",
"//of time and position in a loss less transmisson line\n",
"//Example11.1\n",
"//page342\n",
"//syms z,t,B,w,Vo;\n",
"VST = sym('2*Vo*cos(B*z)');\n",
"V_zt = VST*sym('cos(w*t)');\n",
"disp(V_zt,'V(z,t)=')\n",
"//Result\n",
"//V(z,t)= 2*Vo*cos(t*w)*cos(z*B) "
   ]
   }
,
{
		   "cell_type": "markdown",
		   "metadata": {},
		   "source": [
			"## Example 11.2: characteristic_impedance.sce"
		   ]
		  },
  {
"cell_type": "code",
	   "execution_count": null,
	   "metadata": {
	    "collapsed": true
	   },
	   "outputs": [],
"source": [
"//clear//\n",
"//Caption:Program to find the characteristic impedance, the phase constant an the phase velocity\n",
"//Example11.2\n",
"//page344\n",
"clear;\n",
"clc;\n",
"close;\n",
"L = 0.25e-6; //0.25uH/m\n",
"C = 100e-12; //100pF/m\n",
"f = 600e06; //frequency f = 100MHz\n",
"W = 2*%pi*f; //angular frequency\n",
"Zo = sqrt(L/C); \n",
"B = W*sqrt(L*C);\n",
"Vp = W/B;\n",
"disp(Zo,'Characteristic Impedance in ohms Zo =')\n",
"disp(B,'Phase constant in rad/m B=')\n",
"disp(Vp,'Phase velocity in m/s Vp=')\n",
"//Result\n",
"//Characteristic Impedance in ohms Zo =   \n",
"//     50.  \n",
"//Phase constant in rad/m B=   \n",
"//    18.849556  \n",
"//Phase velocity in m/s Vp=   \n",
"//    2.000D+08    "
   ]
   }
,
{
		   "cell_type": "markdown",
		   "metadata": {},
		   "source": [
			"## Example 11.3: magnitude_and_phase_of_characteristic.sce"
		   ]
		  },
  {
"cell_type": "code",
	   "execution_count": null,
	   "metadata": {
	    "collapsed": true
	   },
	   "outputs": [],
"source": [
"//clear//\n",
"//Caption:Program tofind the magnitude and phase of characteristic\n",
"//impedance Zo\n",
"//Example11.3\n",
"//page347\n",
"Zo = sym('sqrt(L/C)*(1-sqrt(-1)*R/(2*W*L))');\n",
"teta = sym('atan(-R/(2*W*L))');\n",
"disp(Zo,'Characteristic impedance  Zo =')\n",
"disp(teta,'The phase angle teta=')\n",
"//Result\n",
"//Characteristic impedance  Zo =   \n",
"//  sqrt(L/C)*(1-%i*R/(2*L*W))   \n",
"//The phase angle teta=   \n",
"// -atan(R/(2*L*W))  "
   ]
   }
,
{
		   "cell_type": "markdown",
		   "metadata": {},
		   "source": [
			"## Example 11.4: output_power_and_attenuation_coefficient.sce"
		   ]
		  },
  {
"cell_type": "code",
	   "execution_count": null,
	   "metadata": {
	    "collapsed": true
	   },
	   "outputs": [],
"source": [
"//clear//\n",
"//Caption:Program to find the output power and attenuation coefficient\n",
"//Example11.4\n",
"//page349\n",
"clear;\n",
"clc;\n",
"close;\n",
"z = 20; //distance in meters\n",
"Pz_P0_dB = -2; //fraction of power drop in dB\n",
"Pz_P0 = 10^(Pz_P0_dB/10);\n",
"disp(Pz_P0,'Fraction of input power reaches output P(z)/P(0)=')\n",
"P0_mid_dB = -1; //fraction of power drop at midpoint in dB\n",
"P0_mid = 10^(P0_mid_dB/10);\n",
"disp(P0_mid,'Fraction of the input power reaches the midpoint P(10)/P(0)=')\n",
"alpha = -Pz_P0_dB/(8.69*z);\n",
"disp(alpha,'attenuation in Np/m alpha=')\n",
"//Result\n",
"//Fraction of input power reaches output P(z)/P(0)=   \n",
"//     0.6309573  \n",
"//Fraction of the input power reaches the midpoint P(10)/P(0)=   \n",
"//    0.7943282  \n",
"//attenuation in Np/m alpha=   \n",
"//    0.0115075"
   ]
   }
,
{
		   "cell_type": "markdown",
		   "metadata": {},
		   "source": [
			"## Example 11.5: power_dissipated_in_the_lossless.sce"
		   ]
		  },
  {
"cell_type": "code",
	   "execution_count": null,
	   "metadata": {
	    "collapsed": true
	   },
	   "outputs": [],
"source": [
"//clear//\n",
"//Caption:Program to find the power dissipated in the lossless\n",
"//transmission line\n",
"//Example11.5\n",
"//page352\n",
"clc;\n",
"close;\n",
"ZL = 50-%i*75; //load impedance in ohms\n",
"Zo = 50; //characteristic impedance in ohms\n",
"R = reflection_coeff(ZL,Zo);\n",
"Pi = 100e-03; //input power in milliwatts\n",
"Pt = (1-abs(R)^2)*Pi;//power dissipated by the load\n",
"disp(R,'Reflection coefficient R =')\n",
"disp(Pt*1000,'power dissipated by the load in milli watss Pt=')\n",
"//Result\n",
"//Reflection coefficient R =   0.36 - 0.48i  \n",
"//power dissipated by the load in milli watss Pt = 64.  "
   ]
   }
,
{
		   "cell_type": "markdown",
		   "metadata": {},
		   "source": [
			"## Example 11.6: find_the_total_loss.sce"
		   ]
		  },
  {
"cell_type": "code",
	   "execution_count": null,
	   "metadata": {
	    "collapsed": true
	   },
	   "outputs": [],
"source": [
"//clear//\n",
"//Caption:Program to find the total loss in lossy lines\n",
"//Example11.6\n",
"//page352-353\n",
"clc;\n",
"close;\n",
"L1 = 0.2*10;//loss(dB) in first line of length =10 m\n",
"L2 = 0.1*15;//loss(dB) in second line of length =15m\n",
"R = 0.3; //reflection coefficient \n",
"Pi = 100e-03;//input power in milli watts\n",
"Lj = 10*log10(1/(1-abs(R)^2));\n",
"Lt = L1+L2+Lj; \n",
"Pout = Pi*(10^(-Lt/10));\n",
"disp(Lt,'The total loss of the link in dB is Lt=')\n",
"disp(Pout*1000,'The output power will be in milli watss Pout =')\n",
"//Result\n",
"//The total loss of the link in dB is Lt=   \n",
"//     3.9095861  \n",
"//The output power will be in milli watss Pout =   \n",
"//    40.648207 "
   ]
   }
,
{
		   "cell_type": "markdown",
		   "metadata": {},
		   "source": [
			"## Example 11.7: find_the_load_impedance.sce"
		   ]
		  },
  {
"cell_type": "code",
	   "execution_count": null,
	   "metadata": {
	    "collapsed": true
	   },
	   "outputs": [],
"source": [
"//clear//\n",
"//Caption:Program to find the load impedance of a slotted line\n",
"//Example11.7\n",
"//page357\n",
"clear;\n",
"clc;\n",
"close;\n",
"S = 5; //standing wave ratio\n",
"T = (1-S)/(1+S); //reflection coefficient\n",
"Zo = 50; //characteristic impedance\n",
"ZL  = Zo*(1+T)/(1-T);\n",
"disp(ZL,'Load impedance of a slotted line in ohms ZL=')\n",
"//Result\n",
"//Load impedance of a slotted line in ohms ZL = 10.  "
   ]
   }
,
{
		   "cell_type": "markdown",
		   "metadata": {},
		   "source": [
			"## Example 11.8: find_the_input_impedance_and_power_delivered.sce"
		   ]
		  },
  {
"cell_type": "code",
	   "execution_count": null,
	   "metadata": {
	    "collapsed": true
	   },
	   "outputs": [],
"source": [
"//clear//\n",
"//Caption:Program to find the input impedance and power delivered to\n",
"//the load\n",
"//Example11.8\n",
"//page363\n",
"clc;\n",
"close;\n",
"ZR1 = 300; //input impedance of first receiver\n",
"ZR2 = 300; //input impedance of second receiver\n",
"Zo = ZR1; //characteristic impedance = 300 ohm\n",
"Zc = -%i*300;//capacitive impedance\n",
"L = 80e-02;//length = 80 cm\n",
"Lambda = 1; //wavelength = 1m\n",
"Vth = 60; // voltage 300 volts\n",
"Zth = Zo;\n",
"ZL1 = parallel(ZR1,ZR2);\n",
"ZL = parallel(ZL1,Zc); //net load impedane\n",
"T = reflection_coeff(ZL,ZR2);//reflection coefficient\n",
"[R,teta1] = polar(T); //reflection coefficient in polar form\n",
"teta1 = real(teta1)*57.3;//teta value in degrees\n",
"S = VSWR(R); //voltage standing wave ratio\n",
"EL = electrical_length(L,Lambda);\n",
"EL = EL/57.3; //electrical length in degrees\n",
"Zin = Zo*(ZL*cos(EL)+%i*Zo*sin(EL))/(Zo*cos(EL)+%i*ZL*sin(EL));\n",
"disp(Zin,'Input Impedance in ohms Zin =')\n",
"Is = Vth/(Zth+Zin);//source current in amps\n",
"[Is,teta2] = polar(Is);//source current in polar form\n",
"Pin = (1/2)*(Is^2)*real(Zin);\n",
"PL = Pin; //for lossless line\n",
"disp(Pin,'Power delivered to a loss less line in watss PL =')\n",
"//Result\n",
"//Input Impedance in ohms Zin =   755.49551 - 138.46477i  \n",
"// Power delivered to a loss less line in watss PL =  1.2 "
   ]
   }
,
{
		   "cell_type": "markdown",
		   "metadata": {},
		   "source": [
			"## Example 11.9: find_the_input_impedance.sce"
		   ]
		  },
  {
"cell_type": "code",
	   "execution_count": null,
	   "metadata": {
	    "collapsed": true
	   },
	   "outputs": [],
"source": [
"//clear//\n",
"//Caption:Program to find the input impedance for a line terminated with pure capacitive impedance\n",
"//Example11.9\n",
"//page363\n",
"clc;\n",
"close;\n",
"ZL = -%i*300; //load impdance is purely capacitive impedance\n",
"ZR  = 300;\n",
"T = reflection_coeff(ZL,ZR);//reflection coefficient in rectandular form\n",
"[R,teta] = polar(T);//reflection coefficient in polar form\n",
"S = VSWR(R)\n",
"if(S ==%inf)\n",
"  Zo = ZR;\n",
"end\n",
"Zin =Zo*(ZL*cos(EL)+%i*Zo*sin(EL))/(Zo*cos(EL)+%i*ZL*sin(EL));\n",
"disp(T,'Reflection coefficient in rectangular form')\n",
"disp(S,'Voltage Standing Wave Ratio S=')\n",
"disp(Zin,'Input impedance in ohms Zin =')\n",
"//Result\n",
"//Reflection coefficient in rectangular form   \n",
"//   - i    \n",
"//Voltage Standing Wave Ratio S=   \n",
"//    Inf  \n",
"//Input impedance in ohms Zin =   \n",
"//    588.78315i  "
   ]
   }
],
"metadata": {
		  "kernelspec": {
		   "display_name": "Scilab",
		   "language": "scilab",
		   "name": "scilab"
		  },
		  "language_info": {
		   "file_extension": ".sce",
		   "help_links": [
			{
			 "text": "MetaKernel Magics",
			 "url": "https://github.com/calysto/metakernel/blob/master/metakernel/magics/README.md"
			}
		   ],
		   "mimetype": "text/x-octave",
		   "name": "scilab",
		   "version": "0.7.1"
		  }
		 },
		 "nbformat": 4,
		 "nbformat_minor": 0
}
