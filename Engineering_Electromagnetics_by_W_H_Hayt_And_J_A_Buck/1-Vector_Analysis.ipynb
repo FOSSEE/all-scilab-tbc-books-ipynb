{
"cells": [
 {
		   "cell_type": "markdown",
	   "metadata": {},
	   "source": [
       "# Chapter 1: Vector Analysis"
	   ]
	},
{
		   "cell_type": "markdown",
		   "metadata": {},
		   "source": [
			"## Example 1.1: Program_to_find_the_unit_vector.sce"
		   ]
		  },
  {
"cell_type": "code",
	   "execution_count": null,
	   "metadata": {
	    "collapsed": true
	   },
	   "outputs": [],
"source": [
"//clear//\n",
"//Caption:Program to find the unit vector\n",
"//Example1.1\n",
"//page 8\n",
"G = [2,-2,-1]; //position of point G in cartesian coordinate system\n",
"aG = UnitVector(G);\n",
"disp(aG,'Unit Vector aG =')\n",
"//Result\n",
"//Unit Vector aG =   \n",
"//     0.6666667  - 0.6666667  - 0.3333333  "
   ]
   }
,
{
		   "cell_type": "markdown",
		   "metadata": {},
		   "source": [
			"## Example 1.2: find_the_phase_angle_between_two_vectors.sce"
		   ]
		  },
  {
"cell_type": "code",
	   "execution_count": null,
	   "metadata": {
	    "collapsed": true
	   },
	   "outputs": [],
"source": [
"//clear//\n",
"//Caption: Program to find the phase angle between two vectors\n",
"//Example1.2\n",
"//page 11\n",
"clc;\n",
"Q = [4,5,2]; //point Q\n",
"x = Q(1);\n",
"y = Q(2);\n",
"z = Q(3);\n",
"G = [y,-2.5*x,3]; //vector field\n",
"disp(G,'G(rQ) =')\n",
"aN = [2/3,1/3,-2/3]; //unit vector- direction of Q\n",
"G_dot_aN = dot(G,aN); //dot product of G and aN\n",
"disp(G_dot_aN,'G.aN =')\n",
"G_dot_aN_aN = G_dot_aN*aN;\n",
"disp(G_dot_aN_aN,'(G.aN)aN=')\n",
"teta_Ga = Phase_Angle(G,aN) //phase angle between G and unit vector aN\n",
"disp(teta_Ga,'phase angle between G and unit vector aN in degrees =')\n",
"//Result\n",
"// G(rQ) =       5.  - 10.    3.  \n",
"// G.aN =      - 2.  \n",
"// (G.aN)aN =     - 1.3333333  - 0.6666667    1.3333333  \n",
"// phase angle between G and unit vector aN in degrees =   99.956489  "
   ]
   }
,
{
		   "cell_type": "markdown",
		   "metadata": {},
		   "source": [
			"## Example 1.3: Rectangular_coordinates_into_cylindrical.sce"
		   ]
		  },
  {
"cell_type": "code",
	   "execution_count": null,
	   "metadata": {
	    "collapsed": true
	   },
	   "outputs": [],
"source": [
"//clear//\n",
"//Caption:Transform the vector of Rectangular coordinates into cylindrical coordinates\n",
"//Example1.3\n",
"//page 18\n",
"clc;\n",
"y = sym('y');\n",
"x = sym('x');\n",
"z = sym('z');\n",
"ax = sym('ax');\n",
"ay = sym('ay');\n",
"az = sym('az');\n",
"ar = sym('ar');\n",
"aphi = sym('aphi');\n",
"phi = sym('phi');\n",
"B = y*ax-x*ay+z*az;\n",
"disp(B,'Given vector in cartesian co-ordiante system B=')\n",
"Br = B*ar;\n",
"Bphi = B*aphi;\n",
"Bz = B*az;\n",
"disp('Components of cylindrical vector B')\n",
"disp(Br,'Br=')\n",
"disp(Bphi,'Bphi=')\n",
"disp(Bz,'Bz=')\n",
"//Result\n",
"//Given vector in cartesian co-ordiante system B=   \n",
"//  az*z+ax*y-ay*x   \n",
"// Components of cylindrical vector B   \n",
"// Br=   \n",
"//  ar*(az*z+ax*y-ay*x)   \n",
"// Bphi=   \n",
"//  aphi*(az*z+ax*y-ay*x)   \n",
"// Bz=   \n",
"//  az*(az*z+ax*y-ay*x) \n",
"//"
   ]
   }
,
{
		   "cell_type": "markdown",
		   "metadata": {},
		   "source": [
			"## Example 1.4: Rectangular_coordinates_into_spherical.sce"
		   ]
		  },
  {
"cell_type": "code",
	   "execution_count": null,
	   "metadata": {
	    "collapsed": true
	   },
	   "outputs": [],
"source": [
"//clear//\n",
"//Caption:Transform the vector of Rectangular coordinates into spherical coordinates\n",
"//Example1.4\n",
"//page 22\n",
"clc;\n",
"y = sym('y');\n",
"x = sym('x');\n",
"z = sym('z');\n",
"ax = sym('ax');\n",
"ay = sym('ay');\n",
"az = sym('az');\n",
"ar = sym('ar');\n",
"aTh = sym('aTh');\n",
"aphi = sym('aphi');\n",
"G = (x*z/y)*ax;\n",
"disp(G,'Given vector in cartesian co-ordiante system B=')\n",
"r = sym('r');\n",
"teta = sym('teta')\n",
"phi = sym('phi')\n",
"x1 = r*sin(teta)*cos(phi);\n",
"y1 = r*sin(teta)*sin(phi);\n",
"z1 = r*cos(teta);\n",
"G1 = (x1*z1/y1)*ax;\n",
"Gr = G1*ar;\n",
"GTh = G1*aTh;\n",
"Gphi = G1*aphi;\n",
"Gsph = [Gr,GTh,Gphi];\n",
"disp(Gr,'Gr=')\n",
"disp(GTh,'GTh=')\n",
"disp(Gphi,'Gphi=')\n",
"//Result\n",
"//Given vector in cartesian co-ordiante system B =   ax*x*z/y   \n",
"//Gr =    ar*ax*cos(phi)*r*cos(teta)/sin(phi)   \n",
"//GTh =    ax*cos(phi)*r*cos(teta)*aTh/sin(phi)   \n",
"//Gphi =    aphi*ax*cos(phi)*r*cos(teta)/sin(phi) \n",
"//"
   ]
   }
],
"metadata": {
		  "kernelspec": {
		   "display_name": "Scilab",
		   "language": "scilab",
		   "name": "scilab"
		  },
		  "language_info": {
		   "file_extension": ".sce",
		   "help_links": [
			{
			 "text": "MetaKernel Magics",
			 "url": "https://github.com/calysto/metakernel/blob/master/metakernel/magics/README.md"
			}
		   ],
		   "mimetype": "text/x-octave",
		   "name": "scilab",
		   "version": "0.7.1"
		  }
		 },
		 "nbformat": 4,
		 "nbformat_minor": 0
}
