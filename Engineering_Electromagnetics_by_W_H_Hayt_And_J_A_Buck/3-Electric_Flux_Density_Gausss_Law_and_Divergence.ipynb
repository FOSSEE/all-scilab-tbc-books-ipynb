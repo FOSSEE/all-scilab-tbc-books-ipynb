{
"cells": [
 {
		   "cell_type": "markdown",
	   "metadata": {},
	   "source": [
       "# Chapter 3: Electric Flux Density Gausss Law and Divergence"
	   ]
	},
{
		   "cell_type": "markdown",
		   "metadata": {},
		   "source": [
			"## Example 3.1: find_Electric_Flux_density_D.sce"
		   ]
		  },
  {
"cell_type": "code",
	   "execution_count": null,
	   "metadata": {
	    "collapsed": true
	   },
	   "outputs": [],
"source": [
"//clear//\n",
"//Caption: Program to find Electric Flux density 'D' of a uniform line charge\n",
"//Example3.1\n",
"//page 54\n",
"clc;\n",
"e0 = 8.854e-12; //free space permittivity in F/m\n",
"rL = 8e-09; //line charge density c/m\n",
"r = 3; // distance in metre\n",
"E = Electric_Field_Line_Charge(rL,e0,r); //electric field intensity of line charge\n",
"D = e0*E;\n",
"disp(D,'Electric Flux Density in Coulombs per square metre D =')\n",
"//Result\n",
"// Electric Flux Density in Coulombs per square metre D =   \n",
"//     4.244D-10  "
   ]
   }
,
{
		   "cell_type": "markdown",
		   "metadata": {},
		   "source": [
			"## Example 3.2: calculate_surface_charge_density.sce"
		   ]
		  },
  {
"cell_type": "code",
	   "execution_count": null,
	   "metadata": {
	    "collapsed": true
	   },
	   "outputs": [],
"source": [
"//clear//\n",
"//Caption: Program to calculate surface charge density,Flux density, Field Intensity of coaxial cable\n",
"//Example3.2\n",
"//page 64\n",
"clc;\n",
"Q_innercyl = 30e-09; //total charge on the inner conductor in coulombs\n",
"a = 1e-03; // inner radius of coaxial cable in metre\n",
"b = 4e-03; // outer radius of coaxial cable in metre\n",
"L = 50e-02; //length of coaxial cable\n",
"rs_innercyl = Q_innercyl/(2*%pi*a*L);\n",
"rs_outercyl = Q_innercyl/(2*%pi*b*L);\n",
"e0 = 8.854e-12; //free space relative permittivity F/m\n",
"r = sym('r');\n",
"Dr = a*rs_innercyl/r;\n",
"Er = Dr/e0;\n",
"disp(rs_innercyl,'Surface charge density of inner cylinder of coaxial cable in C/square.metre, rs_innercyl=')\n",
"disp(rs_outercyl,'Surface charge density of outer cylinder of coaxial cable in C/square.metre, rs_outercyl=')\n",
"disp(Dr,'Electric Flux Density in C/square.metre Dr=')\n",
"disp(Er,'Electric Field Intensity in V/m Er=')\n",
"//Result\n",
"//Surface charge density of inner cylinder of coaxial cable in C/square.metre, rs_innercyl=   \n",
"//    0.0000095  \n",
"//Surface charge density of outer cylinder of coaxial cable in C/square.metre, rs_outercyl=   \n",
"//    0.0000024  \n",
"//Electric Flux Density in C/square.metre Dr=   \n",
"// 9.5488183337312011E-9/r   \n",
"//Electric Field Intensity in V/m Er=   \n",
"// 1078.47507722286/r  "
   ]
   }
,
{
		   "cell_type": "markdown",
		   "metadata": {},
		   "source": [
			"## Example 3.3: total_charge_enclosed_in_a_volume.sce"
		   ]
		  },
  {
"cell_type": "code",
	   "execution_count": null,
	   "metadata": {
	    "collapsed": true
	   },
	   "outputs": [],
"source": [
"//clear//\n",
"//Caption: Program to calculate the total charge enclosed in a volume at the origin\n",
"//Example3.3\n",
"//page 67\n",
"clc;\n",
"V = 1e-09; //volume in cubic metre\n",
"x = sym('x');\n",
"y = sym('y');\n",
"z = sym('z');\n",
"//Components of Electric Flux Density in cartesian coordinate system\n",
"Dx = exp(-x)*sin(y);\n",
"Dy = -exp(-x)*cos(y);\n",
"Dz = 2*z;\n",
"//Divergence of electric flux density 'D'\n",
"dDx = diff(Dx,x);\n",
"dDy = diff(Dy,y);\n",
"dDz = diff(Dz,z);\n",
"//Total charge enclosed in a given volume\n",
"del_Q = (dDx+dDy+dDz)*V;\n",
"disp(del_Q,'Total charge enclosed in an incremental volume in coulombs, del_Q =')\n",
"//Total Charge enclosed in a given volume at origin (0,0,0)\n",
"del_Q = limit(del_Q,x,0);\n",
"del_Q = limit(del_Q,y,0);\n",
"del_Q = limit(del_Q,z,0);\n",
"disp(del_Q*1e09,'Total charge enclosed in an incremental volume in  nano coulombs at origin, del_Q =')\n",
"//Result\n",
"//Total charge enclosed in an incremental volume in coulombs, del_Q =    2.0000000000000001E-9   \n",
"//Total charge enclosed in an incremental volume in  nano coulombs at origin, del_Q =   \n",
"//  2.0 "
   ]
   }
,
{
		   "cell_type": "markdown",
		   "metadata": {},
		   "source": [
			"## Example 3.4: Find_the_Divergence.sce"
		   ]
		  },
  {
"cell_type": "code",
	   "execution_count": null,
	   "metadata": {
	    "collapsed": true
	   },
	   "outputs": [],
"source": [
"//clear//\n",
"//Caption: Program to Find the Divergence of 'D' at the origin\n",
"//Example3.4\n",
"//page 70\n",
"clc;\n",
"x = sym('x');\n",
"y = sym('y');\n",
"z = sym('z');\n",
"//Components of Electric Flux Density in cartesian coordinate system\n",
"Dx = exp(-x)*sin(y);\n",
"Dy = -exp(-x)*cos(y);\n",
"Dz = 2*z;\n",
"//Divergence of electric flux density 'D'\n",
"dDx = diff(Dx,x);\n",
"dDy = diff(Dy,y);\n",
"dDz = diff(Dz,z);\n",
"divD = dDx+dDy+dDz\n",
"disp(divD,'Divergence of Electric Flux Density D in C/cubic.metre, divD =')\n",
"divD = limit(divD,x,0);\n",
"divD = limit(divD,y,0);\n",
"divD = limit(divD,z,0);\n",
"disp(divD,'Divergence of Electric Flux Density D in C/cubic.metre at origin, divD =')\n",
"//Result\n",
"//Divergence of Electric Flux Density D in C/cubic.metre, divD =   \n",
"// 2   \n",
"//Divergence of Electric Flux Density D in C/cubic.metre at origin, divD =   \n",
"// 2   "
   ]
   }
,
{
		   "cell_type": "markdown",
		   "metadata": {},
		   "source": [
			"## Example 3.5: verify_the_Divergence_theorem.sce"
		   ]
		  },
  {
"cell_type": "code",
	   "execution_count": null,
	   "metadata": {
	    "collapsed": true
	   },
	   "outputs": [],
"source": [
"//clear//\n",
"//Caption: Program to verify the Divergence theorem for the field 'D' \n",
"//Example3.5\n",
"//page 74\n",
"clc;\n",
"x = sym('x');\n",
"y = sym('y');\n",
"z = sym('z');\n",
"//Components of Electric Flux Density in cartesian coordinate system\n",
"Dx = 2*x*y;\n",
"Dy = x^2;\n",
"Dz = 0;\n",
"//Divergence of electric flux density 'D'\n",
"dDx = diff(Dx,x);\n",
"dDy = diff(Dy,y);\n",
"dDz =0;\n",
"divD = dDx+dDy+dDz\n",
"disp(divD,'Divergence of Electric Flux Density D in C/cubic.metre, divD =')\n",
"//Evaluate volume integral on divergence of 'D'\n",
"Vol_int_divD = integ(divD,x);\n",
"Vol_int_divD = limit(Vol_int_divD,x,1)-limit(Vol_int_divD,x,0);\n",
"Vol_int_divD = integ(Vol_int_divD,y);\n",
"Vol_int_divD = limit(Vol_int_divD,y,2)-limit(Vol_int_divD,y,0);\n",
"Vol_int_divD = integ(Vol_int_divD,z);\n",
"Vol_int_divD = limit(Vol_int_divD,z,3)-limit(Vol_int_divD,z,0);\n",
"disp(Vol_int_divD,'Volume Integral of divergence of D, in coulombs vol_int(divD)=')\n",
"//Evaluate surface integral on field D\n",
"Dx = limit(Dx,x,1);\n",
"sur_D = integ(Dx,y);\n",
"sur_D = limit(sur_D,y,2) - limit(sur_D,y,0);\n",
"sur_D = integ(sur_D,z);\n",
"sur_D = limit(sur_D,z,3) - limit(sur_D,z,0);\n",
"disp(sur_D,'Surface Integral of field D, in coulombs sur_int(D.ds)=')\n",
"if(sur_D==Vol_int_divD)\n",
"  disp('Divergence Theorem verified')\n",
"end\n",
"//Result\n",
"// Divergence of Electric Flux Density D in C/cubic.metre, divD =   \n",
"//  2*y   \n",
"//Volume Integral of divergence of D, in coulombs vol_int(divD)=   \n",
"// 12   \n",
"// Surface Integral of field D, in coulombs sur_int(D.ds)=   \n",
"// 12   "
   ]
   }
],
"metadata": {
		  "kernelspec": {
		   "display_name": "Scilab",
		   "language": "scilab",
		   "name": "scilab"
		  },
		  "language_info": {
		   "file_extension": ".sce",
		   "help_links": [
			{
			 "text": "MetaKernel Magics",
			 "url": "https://github.com/calysto/metakernel/blob/master/metakernel/magics/README.md"
			}
		   ],
		   "mimetype": "text/x-octave",
		   "name": "scilab",
		   "version": "0.7.1"
		  }
		 },
		 "nbformat": 4,
		 "nbformat_minor": 0
}
