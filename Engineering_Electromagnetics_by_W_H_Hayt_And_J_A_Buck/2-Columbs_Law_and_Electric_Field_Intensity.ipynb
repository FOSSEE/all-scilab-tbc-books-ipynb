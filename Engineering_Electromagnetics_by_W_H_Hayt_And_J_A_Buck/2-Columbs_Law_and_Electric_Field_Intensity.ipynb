{
"cells": [
 {
		   "cell_type": "markdown",
	   "metadata": {},
	   "source": [
       "# Chapter 2: Columbs Law and Electric Field Intensity"
	   ]
	},
{
		   "cell_type": "markdown",
		   "metadata": {},
		   "source": [
			"## Example 2.1: Caculate_force_exerted_on_Q2_by_Q1.sce"
		   ]
		  },
  {
"cell_type": "code",
	   "execution_count": null,
	   "metadata": {
	    "collapsed": true
	   },
	   "outputs": [],
"source": [
"//clear//\n",
"//Caption:Program to Caculate force exerted on Q2 by Q1\n",
"//Example2.1\n",
"//page 29\n",
"clc;\n",
"r2 = [2,0,5];\n",
"r1 = [1,2,3];\n",
"R12 = norm(r2-r1);\n",
"aR12 = UnitVector(r2-r1);\n",
"disp(R12,'R12=')\n",
"disp(aR12,'aR12=')\n",
"Q1 = 3e-04; //charge 1 in Coulombs\n",
"Q2 = -1e-04; //charge 2 in Coulombs\n",
"Eps = 8.854e-12; //free space permittivity\n",
"F2 = ((Q1*Q2)/(4*%pi*Eps*R12^2))*aR12;\n",
"F1 = -F2;\n",
"disp(F2,'Force exerted on Q2 by Q1 in N/m F2 =')\n",
"disp(F1,'Force exerted on Q1 by Q2 in N/m F1 =')\n",
"//Result\n",
"//R12=   \n",
"//   3.  \n",
"//aR12=   \n",
"//    0.3333333  - 0.6666667    0.6666667  \n",
"//Force exerted on Q2 by Q1 in N/m F2 =   \n",
"//  - 9.9863805    19.972761  - 19.972761   \n",
"//Force exerted on Q1 by Q2 in N/m F1 =   \n",
"//     9.9863805  - 19.972761    19.972761 "
   ]
   }
,
{
		   "cell_type": "markdown",
		   "metadata": {},
		   "source": [
			"## Example 2.2: Caculate_Electric_Field.sce"
		   ]
		  },
  {
"cell_type": "code",
	   "execution_count": null,
	   "metadata": {
	    "collapsed": true
	   },
	   "outputs": [],
"source": [
"//clear//\n",
"//Caption:Program to Caculate Electric Field E at P due to 4 identical charges\n",
"//Example2.2\n",
"//page 33\n",
"clc;\n",
"P = [1,1,1];\n",
"P1 = [1,1,0];\n",
"P2 = [-1,1,0];\n",
"P3 = [-1,-1,0];\n",
"P4 = [1,-1,0];\n",
"R1 = norm(P-P1);\n",
"aR1 = UnitVector(P-P1);\n",
"R2  = norm(P-P2);\n",
"aR2 = UnitVector(P-P2);\n",
"R3  = norm(P-P3);\n",
"aR3 = UnitVector(P-P3);\n",
"R4  = norm(P-P4);\n",
"aR4 = UnitVector(P-P4);\n",
"disp(R1,'R1=')\n",
"disp(aR1,'aR1=')\n",
"disp(R2,'R2=')\n",
"disp(aR2,'aR2=')\n",
"disp(R3,'R3=')\n",
"disp(aR3,'aR3=')\n",
"disp(R4,'R4=')\n",
"disp(aR4,'aR4=')\n",
"Q = 3e-09; //charge  in Coulombs\n",
"Eps = 8.854e-12; //free space permittivity\n",
"E1 = (Q/(4*%pi*Eps*R1^2))*aR1;\n",
"E2 = (Q/(4*%pi*Eps*R2^2))*aR2;\n",
"E3 = (Q/(4*%pi*Eps*R3^2))*aR3;\n",
"E4 = (Q/(4*%pi*Eps*R4^2))*aR4;\n",
"E = E1+E2+E3+E4;\n",
"disp(E,'Electric Field Intesnity at any point P due to four identical Charges in V/m=')\n",
"//Result\n",
"//R1=      1.  \n",
"//aR1=     0.    0.    1.  \n",
"//R2=      2.236068  \n",
"//aR2=     0.8944272    0.    0.4472136  \n",
"//R3=      3.  \n",
"//aR3=     0.6666667    0.6666667    0.3333333  \n",
"//R4=      2.236068  \n",
"//aR4=     0.    0.8944272    0.4472136  \n",
"//Electric Field Intesnity at any point P due to four identical Charges in V/m=   \n",
"//  6.8206048    6.8206048    32.785194  \n",
"// "
   ]
   }
,
{
		   "cell_type": "markdown",
		   "metadata": {},
		   "source": [
			"## Example 2.3: Total_Charge_Enclosed.sce"
		   ]
		  },
  {
"cell_type": "code",
	   "execution_count": null,
	   "metadata": {
	    "collapsed": true
	   },
	   "outputs": [],
"source": [
"//clear//\n",
"//Example2.3\n",
"//page 35\n",
"clc;\n",
"r = sym('r');\n",
"z = sym('z');\n",
"phi = sym('phi');\n",
"rv = -5e-06*exp(-1e05*r*z);\n",
"disp(rv,'Volume Charge density in C/cubic.metre rv=')\n",
"Q1 = integ(rv*r,phi);\n",
"Q1 = limit(Q1,phi,2*%pi);\n",
"Q2 = integ(Q1,z);\n",
"Q2 = limit(Q2,z,0.04)-limit(Q2,z,0.02);\n",
"Q3 = integ(Q2,r);\n",
"Q3 = limit(Q3,r,0.01)-limit(Q3,r,0);\n",
"disp(Q1,'Q1=')\n",
"disp(Q2,'Q2=')\n",
"disp(Q3,'Total Charge Enclosed in a 2cm length  of electron beam in coulombs Q=')\n",
"//Result\n",
"//Volume Charge density in C/cubic.metre rv =  -%e^-(100000*r*z)/200000   \n",
"//Q1=    -103993*r*%e^-(100000*r*z)/3310200000   \n",
"//Q2=    -103993*%e^-(2000*r)/331020000000000   \n",
"//Total Charge Enclosed in a 2cm length  of electron beam in coulombs Q=   \n",
"// 103993/1324080000000000000-103993*%e^-40/1324080000000000000  \n",
"//Q approximately equal to 103993/1324080000000000000 = 7.854D-14 coulombs "
   ]
   }
],
"metadata": {
		  "kernelspec": {
		   "display_name": "Scilab",
		   "language": "scilab",
		   "name": "scilab"
		  },
		  "language_info": {
		   "file_extension": ".sce",
		   "help_links": [
			{
			 "text": "MetaKernel Magics",
			 "url": "https://github.com/calysto/metakernel/blob/master/metakernel/magics/README.md"
			}
		   ],
		   "mimetype": "text/x-octave",
		   "name": "scilab",
		   "version": "0.7.1"
		  }
		 },
		 "nbformat": 4,
		 "nbformat_minor": 0
}
