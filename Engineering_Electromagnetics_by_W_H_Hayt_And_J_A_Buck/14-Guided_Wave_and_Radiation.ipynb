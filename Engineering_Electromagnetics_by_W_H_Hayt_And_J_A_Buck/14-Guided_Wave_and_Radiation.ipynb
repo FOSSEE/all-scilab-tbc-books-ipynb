{
"cells": [
 {
		   "cell_type": "markdown",
	   "metadata": {},
	   "source": [
       "# Chapter 14: Guided Wave and Radiation"
	   ]
	},
{
		   "cell_type": "markdown",
		   "metadata": {},
		   "source": [
			"## Example 14.1: determine_the_cutoff_frequency.sce"
		   ]
		  },
  {
"cell_type": "code",
	   "execution_count": null,
	   "metadata": {
	    "collapsed": true
	   },
	   "outputs": [],
"source": [
"//clear//\n",
"//Caption:Program to determine the cutoff frequency for the first waveguide mode(m=1)\n",
"//Example14.1\n",
"//page 499\n",
"clear;\n",
"clc;\n",
"er1 = 2.1; //dielectric constant of teflon material\n",
"er0 = 1; //dielectric constant of air\n",
"d = 1e-02; //parallel plate waveguide separation in metre\n",
"C = 3e08; //free space velocity in m/sec\n",
"n = sqrt(er1/er0); //refractive index\n",
"fc1 = C/(2*n*d);\n",
"disp(fc1,'cutoff frequency for the first waveguide mode in Hz fc1 =')\n",
"//Result\n",
"//cutoff frequency for the first waveguide mode in Hz fc1 =   \n",
"//     1.035D+10  "
   ]
   }
,
{
		   "cell_type": "markdown",
		   "metadata": {},
		   "source": [
			"## Example 14.2: number_of_modes_propagate_in_waveguide.sce"
		   ]
		  },
  {
"cell_type": "code",
	   "execution_count": null,
	   "metadata": {
	    "collapsed": true
	   },
	   "outputs": [],
"source": [
"//clear//\n",
"//Caption:Program to determine the number of modes propagate in waveguide\n",
"//Example14.2\n",
"//page 499\n",
"clear;\n",
"clc;\n",
"er1 = 2.1; //dielectric constant of teflon material\n",
"er0 = 1; //dielectric constant of air\n",
"n = sqrt(er1/er0); //refractive index\n",
"Lambda_cm = 2e-03; //operating cutoff wavelength in metre\n",
"d = 1e-02; //parallel-plate waveguide separation\n",
"m = (2*n*d)/Lambda_cm;\n",
"disp(floor(m),'Number of waveguides modes propagate m =')\n",
"//Result\n",
"//Number of waveguides modes propagate m =   \n",
"//     14. "
   ]
   }
,
{
		   "cell_type": "markdown",
		   "metadata": {},
		   "source": [
			"## Example 14.3: determine_the_group_delay_and_difference.sce"
		   ]
		  },
  {
"cell_type": "code",
	   "execution_count": null,
	   "metadata": {
	    "collapsed": true
	   },
	   "outputs": [],
"source": [
"//clear//\n",
"//Caption:Program to determine the group delay and difference in propagation times\n",
"//Example14.3\n",
"//page 502\n",
"clc;\n",
"C = 3e08; //free space velocity in m/sec\n",
"er = 2.1; //dielectric constant of teflon material\n",
"fc1 = 10.3e09;//cutoff frequency for mode m =1\n",
"fc2 = 2*fc1; //cutoff frequency for mode m =2\n",
"f = 25e09; //operating frequency in Hz\n",
"Vg1 = group_delay(C,er,fc1,f);//group delay for mode m = 1\n",
"Vg2 = group_delay(C,er,fc2,f);//group delay for mode m = 2\n",
"del_t = group_delay_difference(Vg1,Vg2);\n",
"disp(ceil(del_t*1e10),'group delay difference in ps/cm del_t=')\n",
"//Result\n",
"//group delay difference in ps/cm del_t=   \n",
"//     33.  "
   ]
   }
,
{
		   "cell_type": "markdown",
		   "metadata": {},
		   "source": [
			"## Example 14.4: determine_the_operating_range.sce"
		   ]
		  },
  {
"cell_type": "code",
	   "execution_count": null,
	   "metadata": {
	    "collapsed": true
	   },
	   "outputs": [],
"source": [
"//clear//\n",
"//Caption:Program to determine the operating range of frequency for TE10 mode of air filled rectangular waveguide\n",
"//Example14.4\n",
"//page 509\n",
"clear;\n",
"clc;\n",
" //dimensions of air filled rectangular waveguide\n",
"a = 2e-02;\n",
"b = 1e-02;\n",
"//Free space velocity in m/sec\n",
"C = 3e08;\n",
"//the value of m for TE10 mode\n",
"m = 1;\n",
"n = 1;//refractive index for air filled waveguide\n",
"fc = (m*C)/(2*n*a);\n",
"disp(fc*1e-09,'Operating range of frequency for TE10 mode in GHz fc=')\n",
"//Result\n",
"//Operating range of frequency for TE10 mode in GHz fc=   \n",
"//     7.5 "
   ]
   }
,
{
		   "cell_type": "markdown",
		   "metadata": {},
		   "source": [
			"## Example 14.5: maximum_allowable_refractive_index.sce"
		   ]
		  },
  {
"cell_type": "code",
	   "execution_count": null,
	   "metadata": {
	    "collapsed": true
	   },
	   "outputs": [],
"source": [
"//clear//\n",
"//Caption: Program to determine the maximum allowable refractive index of the slab material\n",
"//Example14.5\n",
"//page 517\n",
"clear;\n",
"clc;\n",
"Lambda = 1.30e-06;//wavelength range over which single-mode operation\n",
"d = 5e-06;//slab thickness in metre\n",
"n2 = 1.45; //refractive index of the slab material\n",
"n1 = sqrt((Lambda/(2*d))^2+n2^2);\n",
"disp(n1,'The maximum allowable refractive index of the slab material n1=')\n",
"//Result\n",
"//The maximum allowable refractive index of the slab material n1=   \n",
"//     1.4558159  "
   ]
   }
,
{
		   "cell_type": "markdown",
		   "metadata": {},
		   "source": [
			"## Example 14.6: find_the_V_number_of_a_step_index_fiber.sce"
		   ]
		  },
  {
"cell_type": "code",
	   "execution_count": null,
	   "metadata": {
	    "collapsed": true
	   },
	   "outputs": [],
"source": [
"//clear//\n",
"//Caption:Program to find the V number of a step index fiber\n",
"//Example14.6\n",
"//page 524\n",
"clear;\n",
"clc;\n",
"Lambda = 1.55e-06; //operating wavelength in metre\n",
"LambdaC = 1.2e-06; //cutoff wavelength in metre\n",
"V = (LambdaC/Lambda)*2.405;\n",
"disp(V,'the V number of a step index fiber V=')\n",
"//Result\n",
"//the V number of a step index fiber V=   \n",
"//      1.8619355  "
   ]
   }
],
"metadata": {
		  "kernelspec": {
		   "display_name": "Scilab",
		   "language": "scilab",
		   "name": "scilab"
		  },
		  "language_info": {
		   "file_extension": ".sce",
		   "help_links": [
			{
			 "text": "MetaKernel Magics",
			 "url": "https://github.com/calysto/metakernel/blob/master/metakernel/magics/README.md"
			}
		   ],
		   "mimetype": "text/x-octave",
		   "name": "scilab",
		   "version": "0.7.1"
		  }
		 },
		 "nbformat": 4,
		 "nbformat_minor": 0
}
