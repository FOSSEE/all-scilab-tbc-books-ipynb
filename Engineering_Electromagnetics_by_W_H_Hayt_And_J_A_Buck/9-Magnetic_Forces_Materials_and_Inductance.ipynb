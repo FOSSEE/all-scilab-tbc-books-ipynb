{
"cells": [
 {
		   "cell_type": "markdown",
	   "metadata": {},
	   "source": [
       "# Chapter 9: Magnetic Forces Materials and Inductance"
	   ]
	},
{
		   "cell_type": "markdown",
		   "metadata": {},
		   "source": [
			"## Example 9.1: find_magnetic_field_and_force_produced.sce"
		   ]
		  },
  {
"cell_type": "code",
	   "execution_count": null,
	   "metadata": {
	    "collapsed": true
	   },
	   "outputs": [],
"source": [
"//clear//\n",
"//Caption: Program to find magnetic field and force produced in a square loop\n",
"//Example9.1\n",
"//page 263\n",
"clc;\n",
"x = sym('x');\n",
"y = sym('y');\n",
"z = sym('z');\n",
"ax = sym('ax');\n",
"ay = sym('ay');\n",
"az = sym('az');\n",
"I = 15; //filament current in amps\n",
"I1 = 2e-03; //current in square loop\n",
"u0 = 4*%pi*1e-07; //free space permeability in H/m\n",
"H = float(I/(2*%pi*x))*az;\n",
"disp(H,'Magnetic Field Intensity in A/m  H =')\n",
"B = float(u0*H);\n",
"disp(B,'Magnetic Flux Density in Tesla B = ')\n",
"Bz = B/az;\n",
"//Bcross_dL  = ay*diff(Bz,x);\n",
"F1 = float(-I1*integ(ay*Bz,x));\n",
"F1 = float(limit(F1,x,3)-limit(F1,x,1));\n",
"F2 = float(-I1*integ(ax*-Bz,y));\n",
"F2 = float(limit(F2,x,3));\n",
"F2 = float(limit(F2,y,2)-limit(F2,y,0));\n",
"F3 = float(-I1*integ(ay*Bz,x));\n",
"F3 = float(limit(F3,x,1)-limit(F3,x,3));\n",
"F4 = float(-I1*integ(ax*-Bz,y));\n",
"F4 = float(limit(F4,x,1));\n",
"F4 = float(limit(F4,y,0)-limit(F4,y,2));\n",
"F =float((F1+F2+F3+F4)*1e09);\n",
"disp(F,'Total Force acting on a square loop in nN F = ')\n",
"//Result\n",
"//Magnetic Field Intensity in A/m H =  2.387324146817574*az/x   \n",
"//Magnetic Flux Density in Tesla B =  3.0000000003340771E-6*az/x   \n",
"//Total Force acting on a square loop in nN F = -8.000000000890873*ax  "
   ]
   }
,
{
		   "cell_type": "markdown",
		   "metadata": {},
		   "source": [
			"## Example 9.2: determine_the_differential_force.sce"
		   ]
		  },
  {
"cell_type": "code",
	   "execution_count": null,
	   "metadata": {
	    "collapsed": true
	   },
	   "outputs": [],
"source": [
"//clear//\n",
"//Caption: Program to determine the differential force between two differential current elements\n",
"//Example9.2\n",
"//page 265\n",
"clc;\n",
"ax = sym('ax');\n",
"ay = sym('ay');\n",
"az = sym('az');\n",
"//position of filament in cartesian coordinate system\n",
"P1 = [5,2,1]; \n",
"P2 = [1,8,5];\n",
"//distance between filament 1 and filament 2\n",
"R12 = norm(P2-P1);\n",
"disp(R12,'R12 =')\n",
"I1dL1 = [0,-3,0]; //current carrying first filament 1\n",
"I2dL2 = [0,0,-4]; //current carrying second filament 2\n",
"u0 = 4*%pi*1e-07; //free space permeability in H/m\n",
"aR12  = UnitVector(P2-P1); //unit vector\n",
"disp(aR12,'aR12 =')\n",
"C1 = cross_product(I1dL1,aR12);\n",
"C2 = cross_product(I2dL2,C1);\n",
"dF2 = (u0/(4*%pi*R12^2))*C2;\n",
"dF2_y = float(dF2(2)*1e09);\n",
"disp(dF2_y*ay,'the differential force between two differential current elements in nN =')\n",
"//Result\n",
"//R12 = 8.2462113  \n",
"//aR12 =  - 0.4850713    0.7276069    0.4850713  \n",
"//the differential force between two differential current elements in nN = 8.560080878105142*ay  "
   ]
   }
,
{
		   "cell_type": "markdown",
		   "metadata": {},
		   "source": [
			"## Example 9.3: calculate_the_total_torque_acting.sce"
		   ]
		  },
  {
"cell_type": "code",
	   "execution_count": null,
	   "metadata": {
	    "collapsed": true
	   },
	   "outputs": [],
"source": [
"//clear//\n",
"//Caption: Program to calculate the total torque acting on a planar rectangular current loop\n",
"//Example9.3\n",
"//page 271\n",
"clc;\n",
"ax = sym('ax');\n",
"ay = sym('ay');\n",
"az = sym('az');\n",
"x = 1;//length in metre\n",
"y = 2; //wide in metre\n",
"S = [0,0,x*y]; //area of current loop in square metre\n",
"I = 4e-03; //current in Amps\n",
"B = [0,-0.6,0.8];\n",
"T = I*cross_product(S,B);\n",
"Tx = float(T(1));\n",
"disp(Tx*ax*1e03,'Total Torque acting on the rectangular current loop in milli N/m=')\n",
"//Result\n",
"//Total Torque acting on the rectangular current loop in milli N/m = 4.8*ax "
   ]
   }
,
{
		   "cell_type": "markdown",
		   "metadata": {},
		   "source": [
			"## Example 9.4: find_the_torque_and_force_acting.sce"
		   ]
		  },
  {
"cell_type": "code",
	   "execution_count": null,
	   "metadata": {
	    "collapsed": true
	   },
	   "outputs": [],
"source": [
"//clear//\n",
"//Caption: Program to find the torque and force acting on each side of planar loop\n",
"//Example9.4\n",
"//page 271\n",
"clc;\n",
"ax = sym('ax');\n",
"ay = sym('ay');\n",
"az = sym('az');\n",
"I = 4e-03; //current in Amps\n",
"B = [0,-0.6,0.8]; //Magentic Field acting on current loop in Tesla\n",
"L1 = [1,0,0];  //length along x-axis\n",
"L2 = [0,2,0]; //length along y-axis\n",
"F1 = I*cross_product(L1,B);\n",
"F3 = -F1;\n",
"F2 = I*cross_product(L2,B);\n",
"F4 = -F2;\n",
"R1 = [0,-1,0];  //distance from center of loop for side1\n",
"R2 = [0.5,0,0]; //distance from center of loop for side2\n",
"R3 = [0,1,0]; //distance from center of loop for side3\n",
"R4 = [-0.5,0,0];//distance from center of loop for side4\n",
"T1 = cross_product(R1,F1);\n",
"T2 = cross_product(R2,F2);\n",
"T3 = cross_product(R3,F3);\n",
"T4 = cross_product(R4,F4);\n",
"T = T1+T2+T3+T4;\n",
"Tx = float(T(1)*1e03);\n",
"disp(F1,'F1 =')\n",
"disp(F2,'F2 =')\n",
"disp(F3,'F3 =')\n",
"disp(F4,'F4 =')\n",
"disp(T1,'T1 =')\n",
"disp(T2,'T2 =')\n",
"disp(T3,'T3 =')\n",
"disp(T4,'T4 =')\n",
"disp(Tx*ax,'Total torque acting on the rectangular planar loop in milli N/m T =')\n",
"//Result\n",
"// F1 =   \n",
"//     0.      \n",
"//  - 0.0032  \n",
"//  - 0.0024  \n",
"// F2 =   \n",
"//    0.0064  \n",
"//    0.      \n",
"//    0.      \n",
"// F3 =   \n",
"//    0.      \n",
"//    0.0032  \n",
"//    0.0024  \n",
"// F4 =   \n",
"//   - 0.0064  \n",
"//    0.      \n",
"//    0.      \n",
"// T1 =   \n",
"//    0.0024  \n",
"//    0.      \n",
"//    0.      \n",
"// T2 =   \n",
"//    0.  \n",
"//    0.  \n",
"//    0.  \n",
"// T3 =   \n",
"//    0.0024  \n",
"//    0.      \n",
"//    0.      \n",
"// T4 =   \n",
"//    0.  \n",
"//    0.  \n",
"//    0.  \n",
"// Total torque acting on the rectangular planar loop in milli N/m T = 4.8*ax   "
   ]
   }
,
{
		   "cell_type": "markdown",
		   "metadata": {},
		   "source": [
			"## Example 9.5: find_Magnetic_Susceptibility.sce"
		   ]
		  },
  {
"cell_type": "code",
	   "execution_count": null,
	   "metadata": {
	    "collapsed": true
	   },
	   "outputs": [],
"source": [
"//clear//\n",
"//Caption: Program to find Magnetic Susceptibility, H,Magentization M\n",
"//Example9.5\n",
"//page 279\n",
"clc;\n",
"ur = 50; //relative permeability of ferrite material\n",
"u0 = 4*%pi*1e-07; //free space permeability in H/m\n",
"chim = ur-1; //magnetic susceptibility\n",
"B = 0.05; //magnetic flux density in tesla\n",
"u = u0*ur;\n",
"H = B/u; //magnetic field intensity in A/m\n",
"M = chim*ceil(H); //magnetization in A/m\n",
"disp(chim,'chim =')\n",
"disp(H,'H =')\n",
"disp(M,'M = ')\n",
"//Reuslt\n",
"//chim = 49.  \n",
"//H =   795.77472  \n",
"//M =   39004.  "
   ]
   }
,
{
		   "cell_type": "markdown",
		   "metadata": {},
		   "source": [
			"## Example 9.6: find_the_boundary_conditions_on_magnetic_field.sce"
		   ]
		  },
  {
"cell_type": "code",
	   "execution_count": null,
	   "metadata": {
	    "collapsed": true
	   },
	   "outputs": [],
"source": [
"//clear//\n",
"//Caption: Program to find the boundary conditions on magnetic field\n",
"//Example9.6\n",
"//page 283\n",
"clc;\n",
"ax = sym('ax');\n",
"ay = sym('ay');\n",
"az = sym('az');\n",
"u1 = 4e-06; // relative permeability in medium1\n",
"u2 = 7e-06; //relative permeability in medium2\n",
"k = [80,0,0]; //in A/m\n",
"B1 = [2e-03,-3e-03,1e-03];//field in region1\n",
"aN12 = [0,0,-1];\n",
"//To find Normal Components of Magnetic Field\n",
"Bz = dot(B1,aN12);\n",
"BN1 = [0,0,-Bz];\n",
"BN1 = float(BN1);\n",
"BN2 = float(BN1);\n",
"//To Find the Tangential Components of Magnetic Field\n",
"Bt1 = float(B1 - BN1);\n",
"Ht1 = float(Bt1/u1);\n",
"v = cross_product(aN12,k);\n",
"Ht2 = float(Ht1-v');\n",
"Bt2 = float(u2*Ht2);\n",
"disp(BN1(1)*ax+BN1(2)*ay+BN1(3)*az,'BN1 =')\n",
"disp(BN2(1)*ax+BN2(2)*ay+BN2(3)*az,'BN2 =')\n",
"disp(Bt1(1)*ax+Bt1(2)*ay+Bt1(3)*az,'Bt1 =');\n",
"disp(Ht1(1)*ax+Ht1(2)*ay+Ht1(3)*az,'Ht1 =');\n",
"disp(Ht2(1)*ax+Ht2(2)*ay+Ht2(3)*az,'Ht2 =');\n",
"disp(Bt2(1)*ax+Bt2(2)*ay+Bt2(3)*az,'Bt2 =');\n",
"//Total Magnetic Field Region2\n",
"B2 = (BN2+Bt2)*1e03;\n",
"B2 = B2(1)*ax+B2(2)*ay+B2(3)*az;\n",
"disp(B2,'Total Magnetic Field Region2 in milli Tesla B2 =')\n",
"//Result\n",
"// BN1 =   \n",
"//  0.001*az   \n",
"//BN2 =   \n",
"// 0.001*az   \n",
"//Bt1 =   \n",
"// 0.002*ax-0.003*ay   \n",
"//Ht1 =   \n",
"// 500.0*ax-750.0*ay   \n",
"//Ht2 =   \n",
"// 500.0*ax-670.0*ay   \n",
"//Bt2 =   \n",
"// 0.0035*ax-0.00469*ay   \n",
"//Total Magnetic Field Region2 in milli Tesla B2 =   \n",
"// 1.0*az-4.69*ay+3.5*ax   "
   ]
   }
,
{
		   "cell_type": "markdown",
		   "metadata": {},
		   "source": [
			"## Example 9.7: magnetomotive_force_Vm_.sce"
		   ]
		  },
  {
"cell_type": "code",
	   "execution_count": null,
	   "metadata": {
	    "collapsed": true
	   },
	   "outputs": [],
"source": [
"//clear//\n",
"//Caption: Program to find find magnetomotive force 'Vm' and reluctance 'R'\n",
"//Example9.7\n",
"//page 288\n",
"clc;\n",
"u0 = 4*%pi*1e-07 ;//free space permeability in H/m\n",
"ur = 1;//relative permeability\n",
"u = u0*ur;\n",
"dair = 2e-03; //air gap in toroid\n",
"dsteel = 0.3*%pi;\n",
"S = 6e-04; //area of cross section in square metre\n",
"B = 1; //flux density 1 tesla\n",
"N = 500; //number of turns\n",
"Rair = dair/(u*S); \n",
"disp(Rair,'Reluctance in A.t/Wb Rair =')\n",
"phi = B*S;\n",
"disp(phi,'Magnetic Flux in weber phi =')\n",
"Vm_air = S*Rair;\n",
"disp(Vm_air,'mmf required for the air gap in A.t Vm_air =')\n",
"Hsteel = 200; //magnetic field intensity of steel in A/m\n",
"Vm_steel = Hsteel*dsteel;\n",
"disp(Vm_steel,'mmf required for the steel in A.t Vm_steel =')\n",
"disp(Vm_steel+Vm_air,'Totla mmf required for toroid in A.t Vm =')\n",
"I = (Vm_steel+Vm_air)/N;\n",
"disp(I,'Total coil current in Amps I =')\n",
"//Result\n",
"//Reluctance in A.t/Wb Rair = 2652582.4  \n",
"//Magnetic Flux in weber phi = 0.0006  \n",
"//mmf required for the air gap in A.t Vm_air = 1591.5494  \n",
"//mmf required for the steel in A.t Vm_steel = 188.49556  \n",
"//Totla mmf required for toroid in A.t Vm =   1780.045  \n",
"//Total coil current in Amps I =   3.56009   "
   ]
   }
,
{
		   "cell_type": "markdown",
		   "metadata": {},
		   "source": [
			"## Example 9.8: total_Magnetic_Flux_Density.sce"
		   ]
		  },
  {
"cell_type": "code",
	   "execution_count": null,
	   "metadata": {
	    "collapsed": true
	   },
	   "outputs": [],
"source": [
"//clear//\n",
"//Caption: Program to find total Magnetic Flux Density in Weber\n",
"//Example9.8\n",
"//page 289\n",
"clc;\n",
"I = 4; //current through toroid in Amps\n",
"r = 1e-03; //air gap radius in metre\n",
"Hphi = I/(2*%pi*r);\n",
"u0 = 4*%pi*1e-07 ;//free space permeability in H/m\n",
"ur = 1;//relative permeability\n",
"u = u0*ur;\n",
"N = 500;//number of turns\n",
"S = 6e-04; //cross section area in square metre\n",
"Rair = 2.65e06; //reluctance in air A.t/Wb\n",
"Rsteel = 0.314e06; //reluctance in steel A.t/Wb\n",
"R = Rair+Rsteel;//total reluctance in A.t/Wb\n",
"Vm = I*500; //total mmf in A.t\n",
"phi = Vm/R;//total flux in webers\n",
"B = phi/S; //flux density in Wb/Square metre\n",
"disp(B,'Magentic Flux Density in tesla B =')\n",
"//Result\n",
"//Magentic Flux Density in tesla B = 1.1246064 "
   ]
   }
,
{
		   "cell_type": "markdown",
		   "metadata": {},
		   "source": [
			"## Example 9.9: self_inductances_and_Mutual_Inductances.sce"
		   ]
		  },
  {
"cell_type": "code",
	   "execution_count": null,
	   "metadata": {
	    "collapsed": true
	   },
	   "outputs": [],
"source": [
"//clear//\n",
"//Caption: Program to calculate self inductances and Mutual Inductances between two coaixal solenoids\n",
"//Example9.9\n",
"//page 297\n",
"clc;\n",
"n1 = sym('n1');\n",
"n2 = sym('n2');\n",
"I1 = sym('I1');\n",
"I2 = sym('I2');\n",
"az = sym('az');\n",
"R1 = sym('R1');\n",
"R2 = sym('R2');\n",
"u0 = sym('u0');\n",
"H1 = n1*I1*az;\n",
"disp(H1,'H1 =');\n",
"H2 = n2*I2*az;\n",
"disp(H2,'H2 =');\n",
"S1 = float(%pi*R1^2);\n",
"S2 = float(%pi*R2^2);\n",
"Hz =  float(H1/az);\n",
"phi12 = float(u0*Hz*S1);\n",
"disp(phi12,'phi12 = ')\n",
"M12 = n2*phi12/I1;\n",
"disp(M12,'M12 =')\n",
"//R1 = 2e-02; \n",
"//R2 = 3e-02;\n",
"//n1 = 50*100; //number of turns/m\n",
"//n2 = 80*100; //number of turns/m\n",
"//u0 = 4*%pi*1e-07;\n",
"M12 = float(limit(M12,R1,2e-02));\n",
"M12 = float(limit(M12,R2,3e-02));\n",
"M12 = float(limit(M12,n1,5000));\n",
"M12 = float(limit(M12,n2,8000));\n",
"M12 = float(limit(M12,u0,4*%pi*1e-07));\n",
"disp(M12*1e03,'Mutual Inductance in mH/m M12=')\n",
"L1 = u0*n1^2*S1;\n",
"L1 = float(limit(L1,u0,4*%pi*1e-07));\n",
"L1 = float(limit(L1,n1,5000));\n",
"L1 = float(limit(L1,R1,2e-02));\n",
"disp(L1*1e3,'Self Inductance of solenoid 1 in mH/m L1 =')\n",
"L2 = u0*n2^2*S2;\n",
"L2 = float(limit(L2,u0,4*%pi*1e-07));\n",
"L2 = float(limit(L2,n2,8000));\n",
"L2 = float(limit(L2,R2,3e-02));\n",
"disp(L2*1e3,'Self Inductance of solenoid 1 in mH/m L2 =')\n",
"//Result\n",
"// H1 =   az*n1*I1   \n",
"// H2 =    az*n2*I2   \n",
"// phi12 =     3.141592653011903*n1*u0*I1*R1^2   \n",
"// M12 =    3.141592653011903*n1*n2*u0*R1^2   \n",
"// Mutual Inductance in mH/m M12=   63.16546815077   \n",
"// Self Inductance of solenoid 1 in mH/m L1 = 39.47841759423   \n",
"// Self Inductance of solenoid 1 in mH/m L2 =   227.39568534276   "
   ]
   }
],
"metadata": {
		  "kernelspec": {
		   "display_name": "Scilab",
		   "language": "scilab",
		   "name": "scilab"
		  },
		  "language_info": {
		   "file_extension": ".sce",
		   "help_links": [
			{
			 "text": "MetaKernel Magics",
			 "url": "https://github.com/calysto/metakernel/blob/master/metakernel/magics/README.md"
			}
		   ],
		   "mimetype": "text/x-octave",
		   "name": "scilab",
		   "version": "0.7.1"
		  }
		 },
		 "nbformat": 4,
		 "nbformat_minor": 0
}
