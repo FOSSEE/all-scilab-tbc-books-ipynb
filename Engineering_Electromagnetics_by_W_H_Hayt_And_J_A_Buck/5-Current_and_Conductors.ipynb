{
"cells": [
 {
		   "cell_type": "markdown",
	   "metadata": {},
	   "source": [
       "# Chapter 5: Current and Conductors"
	   ]
	},
{
		   "cell_type": "markdown",
		   "metadata": {},
		   "source": [
			"## Example 5.1: find_the_resistance.sce"
		   ]
		  },
  {
"cell_type": "code",
	   "execution_count": null,
	   "metadata": {
	    "collapsed": true
	   },
	   "outputs": [],
"source": [
"//clear//\n",
"//Caption: Program to find the resistance, current and current density\n",
"//Example5.1\n",
"//page 123\n",
"clc;\n",
"clear;\n",
"D = 0.0508; //diameter of conductor in inches\n",
"D = 0.0508*0.0254; //diameter in metres\n",
"r = D/2; //radius in metres\n",
"A = %pi*r^2; //area of the conductor in square metre\n",
"L = 1609; //length of the copper wire in metre\n",
"sigma = 5.80e07; //conductivity in siemens/metre\n",
"R = L/(sigma*A); //resistance in ohms\n",
"I = 10; //current in amperes \n",
"J = I/A; //current density in amps/square.metre\n",
"disp(R,'Rresistance in ohms of given copper wire R =')\n",
"disp(J,'Current density in A/square.metre J = ')\n",
"//Result\n",
"//Rresistance in ohms of given copper wire R =   \n",
"//     21.215013  \n",
"//Current density in A/square.metre J =    \n",
"//     7647425.6"
   ]
   }
,
{
		   "cell_type": "markdown",
		   "metadata": {},
		   "source": [
			"## Example 5.2: find_potential_at_point_P.sce"
		   ]
		  },
  {
"cell_type": "code",
	   "execution_count": null,
	   "metadata": {
	    "collapsed": true
	   },
	   "outputs": [],
"source": [
"//clear//\n",
"//Caption: Program to find potential at point P, Electricf Field Intensity E, Flux density D\n",
"//Example5.2\n",
"//page 126\n",
"clc;\n",
"x = sym('x');\n",
"y = sym('y');\n",
"z = sym('z');\n",
"ax = sym('ax');\n",
"ay = sym('ay');\n",
"az = sym('az');\n",
"V = 100*(x^2-y^2);\n",
"disp(V,'Potential in Volts V =')\n",
"Ex = diff(V,x);\n",
"Ey = diff(V,y);\n",
"Ez = diff(V,z);\n",
"E = -(Ex*ax+Ey*ay+Ez*az);\n",
"disp(E,'Electric Field Intensity in V/m E =')\n",
"E = limit(E,x,2);\n",
"E = limit(E,y,-1);\n",
"V = limit(V,x,2);\n",
"V = limit(V,y,-1);\n",
"disp(V,'Potential at point P in Volts Vp =')\n",
"disp(E,'Electric Field Intensity at point P in V/m Ep =')\n",
"D = 8.854e-12*E; \n",
"disp(D*1e09,'Electric FLux Density at point P in nC/square.metre Dp =')\n",
"//Result\n",
"//Potential in Volts V =  100*(x^2-y^2)   \n",
"//Electric Field Intensity in V/m E =  200*ay*y-200*ax*x   \n",
"//Potential at point P in Volts Vp =   300   \n",
"//Electric Field Intensity at point P in V/m Ep = -200*ay-400*ax   \n",
"//Electric FLux Density at point P in nC/square.metre Dp = 0.008854*(-200*ay-400*ax)  \n",
"//which is equivalent to Dp = -3.5416*ax -1.7708*ay   "
   ]
   }
,
{
		   "cell_type": "markdown",
		   "metadata": {},
		   "source": [
			"## Example 5.3: equation_of_the_streamline.sce"
		   ]
		  },
  {
"cell_type": "code",
	   "execution_count": null,
	   "metadata": {
	    "collapsed": true
	   },
	   "outputs": [],
"source": [
"//clear//\n",
"//Caption: Program to determine the equation of the streamline passing through any point P\n",
"//Example5.3\n",
"//page 128\n",
"clc;\n",
"x = sym('x');\n",
"y = sym('y');\n",
"z = sym('z');\n",
"C1 = integ(1/y,y)+integ(1/x,x);\n",
"disp(C1,'C1 = ')\n",
"C2 = exp(C1);\n",
"disp(C2,'The Stream line Equation C2 = ')\n",
"C2 = limit(C2,x,2);\n",
"C2 = limit(C2,y,-1);\n",
"disp(C2,'The value of constant in the streamline equation passing through the point P is C2=')\n",
"//Result\n",
"//C1 = log(y)+log(x)   \n",
"//The Stream line Equation C2 = x*y   \n",
"//The value of constant in the streamline equation passing through the point P is C2 = -2 "
   ]
   }
],
"metadata": {
		  "kernelspec": {
		   "display_name": "Scilab",
		   "language": "scilab",
		   "name": "scilab"
		  },
		  "language_info": {
		   "file_extension": ".sce",
		   "help_links": [
			{
			 "text": "MetaKernel Magics",
			 "url": "https://github.com/calysto/metakernel/blob/master/metakernel/magics/README.md"
			}
		   ],
		   "mimetype": "text/x-octave",
		   "name": "scilab",
		   "version": "0.7.1"
		  }
		 },
		 "nbformat": 4,
		 "nbformat_minor": 0
}
