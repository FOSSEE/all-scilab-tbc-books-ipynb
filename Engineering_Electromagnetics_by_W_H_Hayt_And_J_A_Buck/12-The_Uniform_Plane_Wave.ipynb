{
"cells": [
 {
		   "cell_type": "markdown",
	   "metadata": {},
	   "source": [
       "# Chapter 12: The Uniform Plane Wave"
	   ]
	},
{
		   "cell_type": "markdown",
		   "metadata": {},
		   "source": [
			"## Example 12.1: phasor_of_forward_propagating_field.sce"
		   ]
		  },
  {
"cell_type": "code",
	   "execution_count": null,
	   "metadata": {
	    "collapsed": true
	   },
	   "outputs": [],
"source": [
"//clear//\n",
"//Caption:Program to determine the phasor of forward propagating field\n",
"//Example12.1\n",
"//page400\n",
"clc;\n",
"close;\n",
"Eyzt = sym('100*exp(%i*10^8*t-%i*0.5*z+30)');\n",
"Eysz = sym('100*exp(%i*10^8*t-%i*0.5*z+30)*exp(-%i*10^8*t)');\n",
"disp(Eyzt)\n",
"disp(Eysz,'Forward Propagating Field in phasor form =')\n",
"//Result\n",
"//100*exp(-0.5*%i*z+100000000*%i*t+30)   \n",
"// Forward Propagating Field in phasor form =100*exp(30-0.5*%i*z) "
   ]
   }
,
{
		   "cell_type": "markdown",
		   "metadata": {},
		   "source": [
			"## Example 12.2: determine_the_instanteous_field.sce"
		   ]
		  },
  {
"cell_type": "code",
	   "execution_count": null,
	   "metadata": {
	    "collapsed": true
	   },
	   "outputs": [],
"source": [
"//clear//\n",
"//Caption:Program to determine the instanteous field of a wave\n",
"//Example12.2\n",
"//page400-401\n",
"clc;\n",
"t = sym('t');\n",
"z = sym('z');\n",
"Ezt1 =sym('100*cos(-0.21*z+2*%pi*1e07*t)');\n",
"Ezt2 = sym('20*cos(-0.21*z+30+2*%pi*1e07*t)');\n",
"ax = sym('ax');\n",
"ay = sym('ay');\n",
"Ezt = Ezt1*ax+Ezt2*ay;\n",
"disp(Ezt,'The real instantaneous field Ezt =')\n",
"//Result\n",
"//The real instantaneous field Ezt =   \n",
"//  100*ax*cos(0.21*z-2.0E+7*%pi*t)+20*ay*cos(0.21*z-2.0E+7*%pi*t-30) \n",
"//"
   ]
   }
,
{
		   "cell_type": "markdown",
		   "metadata": {},
		   "source": [
			"## Example 12.3: find_the_Phase_constant.sce"
		   ]
		  },
  {
"cell_type": "code",
	   "execution_count": null,
	   "metadata": {
	    "collapsed": true
	   },
	   "outputs": [],
"source": [
"//clear//\n",
"//Caption:Program to find the Phase constant, Phase velocity, Electric Field Intensity and Intrinsci ratio.\n",
"//Example12.3\n",
"//page408\n",
"clc;\n",
"syms t;\n",
"z = %z;\n",
"[uo,eo] = muo_epsilon();\n",
"ur = 1;\n",
"f = 10^6;\n",
"er1 = 81;\n",
"er2 =0;\n",
"etta0 = 377;\n",
"Ex0 = 0.1;\n",
"beta1 = phase_constant_dielectric(uo,eo,f,er1,er2,ur);\n",
"disp(beta1,'phase constant in rad/m beta=')\n",
"Lambda = 2*%pi/beta1;\n",
"Vp = phase_velocity(f,beta1);\n",
"disp(Vp,'Phase velocity in m/sec')\n",
"etta =  intrinsic_dielectric(etta0,er1,er2)\n",
"disp(etta,'Intrinsic impedancein ohms =')\n",
"Ex = 0.1*cos(2*%pi*f*t-beta1*z)\n",
"disp(Ex,'Electric field in V/m Ex=')\n",
"Hy = Ex/etta;\n",
"disp(Hy,'Magnetic Field in A/m Hy=')\n",
"//Result\n",
"// phase constant in rad/m beta=   0.1886241  \n",
"// Phase velocity in m/sec =     33310626.  \n",
"// Intrinsic impedancein ohms =      41.888889  \n",
"// Electric field in V/m Ex=   cos(58342*z/309303-81681409*t/13)/10 \n",
"//equivalent to Ex = 0.1*cos(0.19*z-6283185.3*t) \n",
"// Magnetic Field in A/m Hy = 9*cos(58342*z/309303-81681409*t/13)/3770  \n",
"//equivalent to Hy = 0.0023873*cos(0.19*z-6283185.3*t)    "
   ]
   }
,
{
		   "cell_type": "markdown",
		   "metadata": {},
		   "source": [
			"## Example 12.4: find_the_penetration_depth_and_intrinsic_impedance.sce"
		   ]
		  },
  {
"cell_type": "code",
	   "execution_count": null,
	   "metadata": {
	    "collapsed": true
	   },
	   "outputs": [],
"source": [
"//clear//\n",
"//Caption:Program to find the penetration depth and intrinsic impedance\n",
"//Example12.4\n",
"//page409\n",
"clc;\n",
"f = 2.5e09;//high microwave frequency = 2.5GHz\n",
"er1 = 78;//relative permittivity\n",
"er2 = 7;\n",
"C = 3e08; //free space velocity in m/sec\n",
"[uo,eo] = muo_epsilon(); //free space permittivity and permeability\n",
"ur = 1; //relative permeability\n",
"etta0 = 377; //free space intrinsic imedance in ohms\n",
"alpha = attenuation_constant_dielectric(uo,eo,f,er1,er2,ur);\n",
"etta = intrinsic_dielectric(etta0,er1,er2);\n",
"disp(alpha,'attenuation constant in Np/m alpha=')\n",
"disp(etta,'Intrinsic constant in ohms etta=')\n",
"//Result\n",
"//attenuation constant in Np/m alpha=     20.727602  \n",
"// Intrinsic constant in ohms etta=       42.558673 + 1.9058543i  "
   ]
   }
,
{
		   "cell_type": "markdown",
		   "metadata": {},
		   "source": [
			"## Example 12.5: find_the_attenuation_constant.sce"
		   ]
		  },
  {
"cell_type": "code",
	   "execution_count": null,
	   "metadata": {
	    "collapsed": true
	   },
	   "outputs": [],
"source": [
"//clear//\n",
"//Caption:Program to find the attenuation constant,propagation constant and intrinsic impedance\n",
"//Example12.5\n",
"//page412\n",
"clc;\n",
"f = 2.5e09;//high microwave frequency = 2.5GHz\n",
"er1 = 78;//relative permittivity\n",
"er2 = 7;\n",
"C = 3e08; //free space velocity in m/sec\n",
"[uo,eo] = muo_epsilon(); //free space permittivity and permeability\n",
"ur = 1; //relative permeability\n",
"etta0 = 377; //free space intrinsic imedance in ohms\n",
"alpha = attenuation_constant_gooddie(uo,eo,f,er1,er2,ur);\n",
"etta = intrinsic_good_dielectric(etta0,er1,er2);\n",
"beta1 = phase_constant_gooddie(uo,eo,f,er1,er2,ur);\n",
"disp(alpha,'attenuation constant per cm alpha=')\n",
"disp(beta1,'phase constant in rad/m beta1 =')\n",
"disp(etta,'Intrinsic constant in ohms etta=')\n",
"//Result\n",
"//attenuation constant per cm alpha=   \n",
"//     20.748417  \n",
"//phase constant in rad/m beta1 =   \n",
"//    462.3933  \n",
"//Intrinsic constant in ohms etta=   \n",
"//    42.558673 + 1.9058543i  "
   ]
   }
,
{
		   "cell_type": "markdown",
		   "metadata": {},
		   "source": [
			"## Example 12.6: find_skin_depth.sce"
		   ]
		  },
  {
"cell_type": "code",
	   "execution_count": null,
	   "metadata": {
	    "collapsed": true
	   },
	   "outputs": [],
"source": [
"//clear//\n",
"//Caption:Program to find skin depth, loss tangent and phase velocity\n",
"//Example12.6\n",
"//page419\n",
"clc;\n",
"f1 = 1e06; //frequency in Hz\n",
"//er1 = 81;\n",
"ur = 1;\n",
"[uo,eo] = muo_epsilon();//free space permittivity and permeability\n",
"sigma = 4;//conductivity of a conductor in s/m\n",
"[del] = SkinDepth(f1,uo,ur,sigma);\n",
"pi = 22/7;\n",
"Lambda = 2*pi*del;\n",
"Vp = 2*pi*f1*del;\n",
"disp(del*100,'skin depth in cm delta =')\n",
"disp(Lambda,'Wavelength in metre Lambda =')\n",
"disp(Vp,'Phase velocity in m/sec Vp =')\n",
"//Result\n",
"//skin depth in cm delta =   \n",
"//     25.17737  \n",
"//Wavelength in metre Lambda =   \n",
"//    1.5825775  \n",
"//Phase velocity in m/sec Vp =   \n",
"//    1582577.5  "
   ]
   }
,
{
		   "cell_type": "markdown",
		   "metadata": {},
		   "source": [
			"## Example 12.7: Electric_field.sce"
		   ]
		  },
  {
"cell_type": "code",
	   "execution_count": null,
	   "metadata": {
	    "collapsed": true
	   },
	   "outputs": [],
"source": [
"//clear//\n",
"//\n",
"clc;\n",
"s = sym('s');\n",
"B = sym('B');\n",
"Eo = sym('Eo');\n",
"z = sym('z');\n",
"ax = sym('ax');\n",
"EsL = Eo*(ax+%i*ay)*exp(%i*s)*exp(-%i*B*z);\n",
"EsR = Eo*(ax-%i*ay)*exp(-%i*B*z);\n",
"Est = Eo*exp(%i*s/2)*(2*cos(s/2)*ax-%i*2*%i*sin(s/2)*ay)*exp(-%i*B*z);\n",
"disp(EsL,'Left circularly polarized field EsL=')\n",
"disp(EsR,'Right circularly polarized field EsR=')\n",
"disp(Est,'Total Elecetric field of a linearly polarized wave EsT =')\n",
"//Result\n",
"//Left circularly polarized field EsL=   \n",
"//  (%i*ay+ax)*Eo*exp(%i*s-%i*z*B)   \n",
"//Right circularly polarized field EsR=   \n",
"//  (ax-%i*ay)*Eo*%e^-(%i*z*B)   \n",
"//Total Elecetric field of a linearly polarized wave EsT =   \n",
"// Eo*(2*ay*sin(s/2)+2*ax*cos(s/2))*exp(%i*s/2-%i*z*B)   "
   ]
   }
],
"metadata": {
		  "kernelspec": {
		   "display_name": "Scilab",
		   "language": "scilab",
		   "name": "scilab"
		  },
		  "language_info": {
		   "file_extension": ".sce",
		   "help_links": [
			{
			 "text": "MetaKernel Magics",
			 "url": "https://github.com/calysto/metakernel/blob/master/metakernel/magics/README.md"
			}
		   ],
		   "mimetype": "text/x-octave",
		   "name": "scilab",
		   "version": "0.7.1"
		  }
		 },
		 "nbformat": 4,
		 "nbformat_minor": 0
}
