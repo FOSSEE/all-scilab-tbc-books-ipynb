{
"cells": [
 {
		   "cell_type": "markdown",
	   "metadata": {},
	   "source": [
       "# Chapter 13: Plane Wave Reflection and Dispersion"
	   ]
	},
{
		   "cell_type": "markdown",
		   "metadata": {},
		   "source": [
			"## Example 13.10: group_velocity_and_phase_velocity.sce"
		   ]
		  },
  {
"cell_type": "code",
	   "execution_count": null,
	   "metadata": {
	    "collapsed": true
	   },
	   "outputs": [],
"source": [
"//clear//\n",
"//Caption:Program to determine group velocity and phase velocity of a wave\n",
"//Example13.10\n",
"//page470\n",
"clc;\n",
"w = sym('w');\n",
"wo = sym('wo');\n",
"no = sym('no');\n",
"c = sym('c');\n",
"beta_w = (no*w^2)/(wo*c);\n",
"disp(beta_w,'Phase constant=')\n",
"d_beta_w = diff(beta_w,w);\n",
"disp(d_beta_w,'Differentiation of phase constant w.r.to w =')\n",
"Vg = 1/d_beta_w;\n",
"Vg = limit(Vg,w,wo);\n",
"Vp = w/beta_w;\n",
"Vp = limit(Vp,w,wo);\n",
"disp(Vg,'Group velocity =')\n",
"disp(Vp,'Phase velocity=')\n",
"//Result\n",
"//Phase constant=   \n",
"//  no*w^2/(c*wo)   \n",
"//Differentiation of phase constant w.r.to w =   \n",
"//  2*no*w/(c*wo)   \n",
"//Group velocity =   \n",
"//  c/(2*no)   \n",
"//Phase velocity=   \n",
"//  c/no   "
   ]
   }
,
{
		   "cell_type": "markdown",
		   "metadata": {},
		   "source": [
			"## Example 13.11: pulse_width_at_the_optical_fiber.sce"
		   ]
		  },
  {
"cell_type": "code",
	   "execution_count": null,
	   "metadata": {
	    "collapsed": true
	   },
	   "outputs": [],
"source": [
"//clear//\n",
"//Caption:Program to determine the pulse width at the optical fiber output\n",
"//Example13.11\n",
"//page474\n",
"clear;\n",
"clc;\n",
"T = 10; //width of light pulse at the optical fiber input in pico secs\n",
"beta2 = 20; //dispersion in pico seconds square pre kilometre\n",
"z = 15; // length of optical fiber in kilometre\n",
"delta_t = beta2*z/T;\n",
"T1 = sqrt(T^2+delta_t^2);\n",
"disp(delta_t,'Pulse spread in pico seconds delta_t =')\n",
"disp(ceil(T1),'Output pulse width in pico seconds T1 =')\n",
"//Result\n",
"//Pulse spread in pico seconds delta_t =   \n",
"//     30.  \n",
"//Output pulse width in pico seconds T1 =   \n",
"//    32.  "
   ]
   }
,
{
		   "cell_type": "markdown",
		   "metadata": {},
		   "source": [
			"## Example 13.1: electric_field_of_incident.sce"
		   ]
		  },
  {
"cell_type": "code",
	   "execution_count": null,
	   "metadata": {
	    "collapsed": true
	   },
	   "outputs": [],
"source": [
"//clear//\n",
"//Caption:Program to finid the electric field of incident, reflected and transmitted waves\n",
"//Example13.1\n",
"//page439\n",
"etta1 = 100;\n",
"etta2 = 300; //intrinsic impedance in ohms\n",
"T = reflection_coefficient(etta1,etta2);\n",
"Ex10_i = 100;//incident electric field in v/m\n",
"Ex10_r = T*Ex10_i;//reflected electric field in v/m\n",
"Hy10_i = Ex10_i/etta1;//incident magnetic field A/m\n",
"Hy10_r = -Ex10_r/etta1; //reflected magnetic field A/m\n",
"Si = (1/2)*Ex10_i*Hy10_i;//average incident power density in W/square metre\n",
"Sr = -(1/2)*Ex10_r*Hy10_r;//average reflected power denstiy in W/square metre\n",
"tuo = 1+T; //transmission coefficient\n",
"Ex20_t = tuo*Ex10_i; //transmitted electric field v/m\n",
"Hy20_t = Ex20_t/etta2; //transmitted magnetic field A/m\n",
"St = (1/2)*Ex20_t*Hy20_t; //average power density transmitted \n",
"disp(T,'reflection coefficient t =');\n",
"disp(Ex10_i,'incident electric field in v/m Ex10_i =')\n",
"disp(Ex10_r,'reflected electric field in v/m Ex10_r =')\n",
"disp(Hy10_i,'incident magnetic field A/m Hy10_i =')\n",
"disp(Hy10_r,'reflected magnetic field A/m Hy10_r=')\n",
"disp(Si,'average incident power density in W/square metre Si=')\n",
"disp(Sr,'average reflected power denstiy in W/square metre Sr=')\n",
"disp(St,'average power density transmitted in W/square metre St=')\n",
"//Result\n",
"//reflection coefficient t =       0.5  \n",
"//incident electric field in v/m Ex10_i =     100.  \n",
"//reflected electric field in v/m Ex10_r =      50.  \n",
"//incident magnetic field A/m Hy10_i =      1.  \n",
"//reflected magnetic field A/m Hy10_r=     - 0.5  \n",
"//average incident power density in W/square metre Si=   50.  \n",
"//average reflected power denstiy in W/square metre Sr=  12.5  \n",
"//average power density transmitted in W/square metre St=     37.5  "
   ]
   }
,
{
		   "cell_type": "markdown",
		   "metadata": {},
		   "source": [
			"## Example 13.2: maxima_and_minma_electric_field.sce"
		   ]
		  },
  {
"cell_type": "code",
	   "execution_count": null,
	   "metadata": {
	    "collapsed": true
	   },
	   "outputs": [],
"source": [
"//clear//\n",
"//Caption:Program to find the maxima and minma electric field\n",
"//Example13.2\n",
"//page443\n",
"clc;\n",
"er1 = 4; \n",
"ur1 = 1;\n",
"er2 = 9;\n",
"ur2 = 1;\n",
"[uo,eo] = muo_epsilon();//free space permittivity and permeability\n",
"u1 = uo*ur1; //permeability of medium 1\n",
"u2 = uo*ur2; //permeability of medium 2\n",
"e1 = eo*er1; //permittivity of medium 1\n",
"e2 = eo*er2; //permittivity of medium 2\n",
"etta1 = sqrt(u1/e1);\n",
"etta2 = sqrt(u2/e2);\n",
"T = reflection_coefficient(etta1,etta2)\n",
"Exs1_i = 100; //incident electric field in v/m\n",
"Exs1_r = -20; //reflected electric field in v/m\n",
"Ex1T_max = (1+abs(T))*Exs1_i;//maximum transmitted electric field in v/m\n",
"Ex1T_min = (1-abs(T))*Exs1_i;//minimum transmitted electric field in v/m\n",
"S = VSWR(T); //voltage standing wave ratio\n",
"disp(Ex1T_max,'maximum transmitted electric field in v/m =')\n",
"disp(Ex1T_min,'minimum transmitted electric field in v/m =')\n",
"disp(S,'voltage standing wave ratio S=')\n",
"//Result\n",
"//maximum transmitted electric field in v/m =   \n",
"//     120.  \n",
"//minimum transmitted electric field in v/m =   \n",
"//    80.  \n",
"//voltage standing wave ratio S=   \n",
"//    1.5  "
   ]
   }
,
{
		   "cell_type": "markdown",
		   "metadata": {},
		   "source": [
			"## Example 13.3: determine_the_intrinsic_impedance.sce"
		   ]
		  },
  {
"cell_type": "code",
	   "execution_count": null,
	   "metadata": {
	    "collapsed": true
	   },
	   "outputs": [],
"source": [
"//clear//\n",
"//Caption:Program to determine the intrinsic impedance of the unkonwn material\n",
"//Eample13.3\n",
"//page441\n",
"clc;\n",
"maxima_spacing = 1.5;//Lambda/2 in metres\n",
"Lambda = 2*maxima_spacing; //wavelength in metres\n",
"C = 3e08;//free space velocity in m/sec\n",
"f = C/Lambda; //frequency in Hz\n",
"S = 5; //voltage standing wave ratio\n",
"T = (1-S)/(1+S); //reflection coefficient\n",
"etta0 = 377;//intrinsic impedance in ohms\n",
"ettau = etta0/S;//intrinsic impedance of unkonwn material in ohms\n",
"disp(T,'reflection coefficient T=')\n",
"disp(ettau,'intrinsic impedance in ohms =')\n",
"//Result\n",
"//reflection coefficient T =   - 0.6666667  \n",
"// intrinsic impedance in ohms =       75.4  "
   ]
   }
,
{
		   "cell_type": "markdown",
		   "metadata": {},
		   "source": [
			"## Example 13.4: determine_the_required_range_of_glass_thickness.sce"
		   ]
		  },
  {
"cell_type": "code",
	   "execution_count": null,
	   "metadata": {
	    "collapsed": true
	   },
	   "outputs": [],
"source": [
"//clear//\n",
"//Caption:Program to determine the required range of glass thickness for Fabry-perot interferometer\n",
"//Example13.4\n",
"//page450\n",
"clear;\n",
"clc;\n",
"Lambda0 = 600e-09; //wavelength of red part of visible spectrum 600nm\n",
"n = 1.45;//refractive index of glass plate\n",
"delta_Lambda = 50e-09; //optical spectrum of full width = 50nm\n",
"l = Lambda0^2/(2*n*delta_Lambda);\n",
"disp(l*1e06,'required range of glass thickness in micro meter l=')\n",
"//Result\n",
"//required range of glass thickness in micro meter l = 2.4827586"
   ]
   }
,
{
		   "cell_type": "markdown",
		   "metadata": {},
		   "source": [
			"## Example 13.5: Index_for_coating.sce"
		   ]
		  },
  {
"cell_type": "code",
	   "execution_count": null,
	   "metadata": {
	    "collapsed": true
	   },
	   "outputs": [],
"source": [
"//clear//\n",
"//Caption:Program to find the required index for the coating and its thickness\n",
"//Example13.5\n",
"//page451\n",
"clear;\n",
"clc;\n",
"etta1 = 377;//intrinsic impedance of free space in ohms\n",
"n3 = 1.45; //refractive index of glass\n",
"etta3 = etta1/n3;//intrinsic impedance in glass\n",
"etta2 = sqrt(etta1*etta3);//intrinsic impedance in ohms for coating\n",
"n2 = etta1/etta2; //refractive index of region2\n",
"Lambda0 = 570e-09;//free space wavelength\n",
"Lambda2 = Lambda0/n2; //wavelength in region2\n",
"l = Lambda2/4; //minimum thickness of the dielectric layer\n",
"disp(l*1e06,'minimum thickness of the dielectric layer in um =')\n",
"//Result\n",
"//minimum thickness of the dielectric layer in um =   \n",
"//     0.1183398   "
   ]
   }
,
{
		   "cell_type": "markdown",
		   "metadata": {},
		   "source": [
			"## Example 13.6: phasor_expressio.sce"
		   ]
		  },
  {
"cell_type": "code",
	   "execution_count": null,
	   "metadata": {
	    "collapsed": true
	   },
	   "outputs": [],
"source": [
"//clear//\n",
"//Caption:Program to find the phasor expression for the electric field\n",
"//Example13.6\n",
"//page456\n",
"clc;\n",
"ax = sym('ax');\n",
"ay = sym('ay');\n",
"az = sym('az');\n",
"x = sym('x');\n",
"y = sym('y');\n",
"z = sym('z');\n",
"teta = 30;  //phase angle in degrees\n",
"teta = 30/57.3; //phase angle in radians\n",
"Eo = 10; //Electric field in v/m\n",
"f = 50e06; //frequency in Hz\n",
"er = 9.0; //relative permittivity\n",
"ur = 1; //relative permeability\n",
"[uo,eo] = muo_epsilon();\n",
"k = propagation_constant(f,uo,ur,eo,er);\n",
"K = k*(cos(teta)*ax+sin(teta)*ay);\n",
"r = x*ax+y*ay;\n",
"Es = Eo*exp(-sqrt(-1)*K*r)*az;\n",
"disp(K,'propagation constant per metre K=')\n",
"disp(r,'distance in metre r=')\n",
"disp(Es,'Phasor expression for the electric field of the uniform plane wave Es=')\n",
"//Result\n",
"//K=5607*(14969*ay/29940+25156*ax/29047)/1784   \n",
"// r=  ay*y+ax*x   \n",
"//Es=10*az*%e^-(5607*%i*(14969*ay/29940+25156*ax/29047)*(ay*y+ax*x)/1784) "
   ]
   }
,
{
		   "cell_type": "markdown",
		   "metadata": {},
		   "source": [
			"## Example 13.7: find_the_fraction_of_incident_power.sce"
		   ]
		  },
  {
"cell_type": "code",
	   "execution_count": null,
	   "metadata": {
	    "collapsed": true
	   },
	   "outputs": [],
"source": [
"//clear//\n",
"//Caption:Program to find the fraction of incident power that is reflected and transmitted\n",
"//Example13.7\n",
"//page460\n",
"clc;\n",
"teta1 = 30; //incident angle in degrees\n",
"n2 = 1.45;//refractive index of glass\n",
"teta2 = snells_law(teta1,n2);\n",
"etta1 = 377*cos(teta1/57.3); // intrinsic impedance in medium 1 in ohms\n",
"etta2 = (377/n2)*cos(teta2); //intrinsic impedance in medium2 in ohms\n",
"Tp = reflection_coefficient(etta1,etta2);//reflection coefficient for p-polarization\n",
"Reflected_Fraction_p = (abs(Tp))^2;\n",
"Transmitted_Fraction_p = 1-(abs(Tp))^2;\n",
"etta1s = 377*sec(teta1/57.3); //intrinsic impedance for s-polarization\n",
"etta2s = (377/n2)*sec(teta2); \n",
"Ts = reflection_coefficient(etta1s,etta2s);//reflection coefficient for s-polarization\n",
"Reflected_Fraction_s = (abs(Ts))^2;\n",
"Transmitted_Fraction_s = 1-(abs(Ts))^2;\n",
"disp(teta2*57.3,'Transmission angle using snells law in degrees teta2 =')\n",
"disp(Tp,'Reflection coefficient for p-polarization Tp=')\n",
"disp(Reflected_Fraction_P,'Fraction of incident power that is reflected for p-polarization =')\n",
"disp(Transmitted_Fraction_p,'Fraction of power transmitted for p-polarization =')\n",
"disp(Ts,'Reflection coefficient for s-polarization Tp=')\n",
"disp(Reflected_Fraction_s,'Fraction of incident power that is reflected for s-polarization =')\n",
"disp(Transmitted_Fraction_s,'Fraction of power transmitted for s-polarization =')\n",
"//Result\n",
"//Transmission angle using snells law in degrees teta2 =   \n",
"//     20.171351  \n",
"//Reflection coefficient for p-polarization Tp=   \n",
"//  - 0.1444972  \n",
"//Fraction of incident power that is reflected for p-polarization =  \n",
"//    0.0337359  \n",
"//Fraction of power transmitted for p-polarization =   \n",
"//   0.9791206  \n",
"//Reflection coefficient for s-polarization Tp=   \n",
"//   - 0.2222748  \n",
"//Fraction of incident power that is reflected for s-polarization =  //    0.0494061  \n",
"//Fraction of power transmitted for s-polarization =   \n",
"//   0.9505939   "
   ]
   }
,
{
		   "cell_type": "markdown",
		   "metadata": {},
		   "source": [
			"## Example 13.8: find_the_refractive_index.sce"
		   ]
		  },
  {
"cell_type": "code",
	   "execution_count": null,
	   "metadata": {
	    "collapsed": true
	   },
	   "outputs": [],
"source": [
"//clear//\n",
"//Caption:Program to find the refractive index of the prism material\n",
"//Example13.8\n",
"//page463\n",
"clear;\n",
"clc;\n",
"n2 =1.00; //refractive index of air\n",
"teta1 = 45; //incident angle in degrees\n",
"teta1 = 45/57.3;//incident angle in radians\n",
"n1 = n2/sin(teta1);\n",
"disp(n1,'refractive index of prism material n1=')\n",
"//Result\n",
"//refractive index of prism material n1=   \n",
"//     1.4142954  "
   ]
   }
,
{
		   "cell_type": "markdown",
		   "metadata": {},
		   "source": [
			"## Example 13.9: determine_incident_and_transmitted_anlges.sce"
		   ]
		  },
  {
"cell_type": "code",
	   "execution_count": null,
	   "metadata": {
	    "collapsed": true
	   },
	   "outputs": [],
"source": [
"//clear//\n",
"//Caption:Program to determine incident and transmitted anlges\n",
"//Example13.9\n",
"//page464\n",
"clear;\n",
"clc;\n",
"n1 =1.00; //refractive index of air\n",
"n2 =1.45; //refractive index of glass\n",
"teta1 = asin(n2/sqrt(n1^2+n2^2));\n",
"teta2 = asin(n1/sqrt(n1^2+n2^2));\n",
"Brewster_Condition = teta1+teta2;\n",
"disp(teta1*57.3,'Incident angle in degrees teta1 =')\n",
"disp(teta2*57.3,'transmitted angle in degrees teta2=')\n",
"disp(Brewster_Condition*57.3,'sum of the incident angle and transmitted angle, Brewster_Condition=')\n",
"//Result\n",
"//Incident angle in degrees teta1 =  55.411793  \n",
"//transmitted angle in degrees teta2 = 34.594837  \n",
"//sum of the incident angle and transmitted angle, Brewster_Condition=   90.00663 "
   ]
   }
],
"metadata": {
		  "kernelspec": {
		   "display_name": "Scilab",
		   "language": "scilab",
		   "name": "scilab"
		  },
		  "language_info": {
		   "file_extension": ".sce",
		   "help_links": [
			{
			 "text": "MetaKernel Magics",
			 "url": "https://github.com/calysto/metakernel/blob/master/metakernel/magics/README.md"
			}
		   ],
		   "mimetype": "text/x-octave",
		   "name": "scilab",
		   "version": "0.7.1"
		  }
		 },
		 "nbformat": 4,
		 "nbformat_minor": 0
}
