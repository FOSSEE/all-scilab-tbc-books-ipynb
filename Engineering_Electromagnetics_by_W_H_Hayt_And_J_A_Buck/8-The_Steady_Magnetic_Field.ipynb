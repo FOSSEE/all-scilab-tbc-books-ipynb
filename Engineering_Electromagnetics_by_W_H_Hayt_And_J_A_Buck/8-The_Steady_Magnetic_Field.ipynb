{
"cells": [
 {
		   "cell_type": "markdown",
	   "metadata": {},
	   "source": [
       "# Chapter 8: The Steady Magnetic Field"
	   ]
	},
{
		   "cell_type": "markdown",
		   "metadata": {},
		   "source": [
			"## Example 8.1: find_the_magnetic_field_intensity.sce"
		   ]
		  },
  {
"cell_type": "code",
	   "execution_count": null,
	   "metadata": {
	    "collapsed": true
	   },
	   "outputs": [],
"source": [
"//clear//\n",
"//Caption: Program to find the magnetic field intensity of a current carrying filament\n",
"//Example8.1\n",
"//page 217\n",
"clc;\n",
"I = 8; //current in amps\n",
"alpha1x = -90/57.3; // phase angle along with x-axis\n",
"x = 0.4;\n",
"y = 0.3;\n",
"z =0;\n",
"alpha2x = atan(x/y);\n",
"aphi = sym('aphi');\n",
"az = sym('az');\n",
"rx = y; // distance in metres in cynlindrical coordiante system\n",
"H2x = float((I/(4*%pi*rx))*(sin(alpha2x)-sin(alpha1x)))*-az;\n",
"disp(H2x,'H2x = ')\n",
"alpha1y = -atan(y/x);\n",
"alpha2y = 90/57.3;\n",
"ry = 0.4;\n",
"H2y = float((I/(4*%pi*ry))*(sin(alpha2y)-sin(alpha1y)))*-az;\n",
"disp(H2y,'H2y =')\n",
"H2 = H2x+H2y;\n",
"disp(H2,'H2 =')\n",
"//Result\n",
"//H2x =  -3.819718617079289*az   \n",
"//H2y =   -2.546479080730701*az   \n",
"//H2 =     -6.36619769780999*az "
   ]
   }
,
{
		   "cell_type": "markdown",
		   "metadata": {},
		   "source": [
			"## Example 8.2: to_find_the_curl_H.sce"
		   ]
		  },
  {
"cell_type": "code",
	   "execution_count": null,
	   "metadata": {
	    "collapsed": true
	   },
	   "outputs": [],
"source": [
"//clear//\n",
"//Caption: Program to find the curlH of a square path of side 'd'\n",
"//Example8.2\n",
"//page 230\n",
"clc;\n",
"ax = sym('ax');\n",
"az = sym('az');\n",
"ay = sym('ay');\n",
"z = sym('z');\n",
"y  = sym('y');\n",
"d = sym('d');\n",
"H = 0.2*z^2*ax;\n",
"Hx = float(H/ax);\n",
"HdL = float(0.4*z*d^2);\n",
"//curlH evaluated from the definition of curl\n",
"curlH = (HdL/(d^2))*ay;\n",
"//curlH evaluated from the determinant\n",
"del_cross_H = -ay*(-diff(Hx,z))+az*(-diff(Hx,y));\n",
"disp(curlH,'curlH = ')\n",
"disp(del_cross_H,'del_cross_H = ')\n",
"//Result\n",
"//curlH =  0.4*ay*z   \n",
"//del_cross_H = 0.4*ay*z "
   ]
   }
,
{
		   "cell_type": "markdown",
		   "metadata": {},
		   "source": [
			"## Example 8.3: verify_Stokes_theorem.sce"
		   ]
		  },
  {
"cell_type": "code",
	   "execution_count": null,
	   "metadata": {
	    "collapsed": true
	   },
	   "outputs": [],
"source": [
"//clear//\n",
"//Caption: Program to verify Stokes theorem\n",
"//Example8.3\n",
"//page 233\n",
"clc;\n",
"teta = sym('teta');\n",
"phi = sym('phi');\n",
"ar = sym('ar');\n",
"aphi = sym('aphi');\n",
"az = sym('az');\n",
"r = sym('r');\n",
"curlH = float(36*cos(teta)*cos(phi)*r^2*sin(teta));\n",
"curlH_S = integ(curlH,teta);\n",
"curlH_S = float(limit(curlH_S,r,4));\n",
"curlH_S = float(limit(curlH_S,teta,0.1*%pi))-float(limit(curlH_S,teta,0));\n",
"curlH_S = integ(curlH_S,phi);\n",
"curlH_S = float(limit(curlH_S,phi,0.3*%pi))-float(limit(curlH_S,phi,0));\n",
"disp(curlH_S,'Surface Integral of curlH in Amps =')\n",
"Hr = 6*r*sin(phi);\n",
"Hphi = 18*r*sin(teta)*cos(phi);\n",
"HdL = float(limit(Hphi*r*sin(teta),r,4));\n",
"HdL = float(limit(HdL,teta,0.1*%pi));\n",
"HdL = float(integ(HdL,phi))\n",
"HdL = float(limit(HdL,phi,0.3*%pi));\n",
"disp(HdL,'Closed Line Integral of H in Amps =')\n",
"//Result\n",
"//Surface Integral of curlH in Amps =   22.24922359441324   \n",
"// Closed Line Integral of H in Amps =  22.24922359441324   "
   ]
   }
],
"metadata": {
		  "kernelspec": {
		   "display_name": "Scilab",
		   "language": "scilab",
		   "name": "scilab"
		  },
		  "language_info": {
		   "file_extension": ".sce",
		   "help_links": [
			{
			 "text": "MetaKernel Magics",
			 "url": "https://github.com/calysto/metakernel/blob/master/metakernel/magics/README.md"
			}
		   ],
		   "mimetype": "text/x-octave",
		   "name": "scilab",
		   "version": "0.7.1"
		  }
		 },
		 "nbformat": 4,
		 "nbformat_minor": 0
}
