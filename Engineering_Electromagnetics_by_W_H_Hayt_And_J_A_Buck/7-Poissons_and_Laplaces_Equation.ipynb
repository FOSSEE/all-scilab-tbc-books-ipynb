{
"cells": [
 {
		   "cell_type": "markdown",
	   "metadata": {},
	   "source": [
       "# Chapter 7: Poissons and Laplaces Equation"
	   ]
	},
{
		   "cell_type": "markdown",
		   "metadata": {},
		   "source": [
			"## Example 7.1: Derivation_of_capacitance.sce"
		   ]
		  },
  {
"cell_type": "code",
	   "execution_count": null,
	   "metadata": {
	    "collapsed": true
	   },
	   "outputs": [],
"source": [
"//clear//\n",
"//Caption: Derivation of capacitance of a parallel plate capacitor\n",
"//Example7.1\n",
"//page 177\n",
"clc;\n",
"x = sym('x');\n",
"d = sym('d');\n",
"Vo = sym('Vo');\n",
"e = sym('e');\n",
"ax = sym('ax');\n",
"A = sym('A');\n",
"B = sym('B');\n",
"S = sym('S');\n",
"V = integ(A,x)+B;\n",
"V = limit(V,A,Vo/d);\n",
"V = limit(V,B,0);\n",
"disp(V,'Potential in Volts V =')\n",
"E = -diff(V,x)*ax;\n",
"disp(E,'Electric Field in V/m E =')\n",
"D = e*E;\n",
"DN = D/ax;\n",
"disp(D,'Electric Flux Density in C/square metre D =')\n",
"Q = -DN*S;\n",
"disp(Q,'Charge in Coulombs Q =')\n",
"C = Q/Vo;\n",
"disp(C,'Capacitance of parallel plate capacitor C =')\n",
"//Result\n",
"//Potential in Volts V =   Vo*x/d   \n",
"//Electric Field in V/m E =   -ax*Vo/d   \n",
"//Electric Flux Density in C/square metre D =  -ax*e*Vo/d   \n",
"//Charge in Coulombs Q =   e*Vo*S/d   \n",
"//Capacitance of parallel plate capacitor C =  e*S/d   "
   ]
   }
,
{
		   "cell_type": "markdown",
		   "metadata": {},
		   "source": [
			"## Example 7.2: Capacitance_of_a_Cylindrical_Capacitor.sce"
		   ]
		  },
  {
"cell_type": "code",
	   "execution_count": null,
	   "metadata": {
	    "collapsed": true
	   },
	   "outputs": [],
"source": [
"//clear//\n",
"//Caption: Capacitance of a Cylindrical Capacitor\n",
"//Example7.2\n",
"//page 179\n",
"clc;\n",
"A = sym('A');\n",
"B = sym('B');\n",
"r = sym('r');\n",
"ar = sym('ar');\n",
"ruo = sym('ruo');\n",
"a = sym('a');\n",
"b = sym('b');\n",
"L = sym('L');\n",
"Vo = sym('Vo');\n",
"V = integ(A/r,r)+B;\n",
"disp(V,'Potential V = ')\n",
"V = limit(V,A,Vo/log(a/b));\n",
"V = limit(V,B,-Vo*log(b)/log(a/b));\n",
"disp(V,'Potential V by substitute the values of constant A & B = ')\n",
"V = Vo*log(b/r)/log(b/a);\n",
"E = -diff(V,r)*ar;\n",
"disp(E,'E = ');\n",
"E = limit(E,r,a);\n",
"disp(E,'E at r =a is =')\n",
"D = e*E;\n",
"DN = D/ar;\n",
"disp(DN,'DN =')\n",
"S = float(2*%pi*a*L); //area of cylinder\n",
"Q = DN*S\n",
"disp(Q,'Q =')\n",
"C = Q/Vo;\n",
"disp(C,'Capacitance of a cylindrical Capacitor C =')\n",
"//Result\n",
"// Potential V =  B+log(r)*A   \n",
"// Potential V by substitute the values of constant A & B =(log(r)-log(b))*Vo/log(a/b)   \n",
"// E = ar*Vo/(log(b/a)*r)   \n",
"// E at r =a is =  ar*Vo/(a*log(b/a))   \n",
"// DN = e*Vo/(a*log(b/a))   \n",
"// Q = 6.283185306023805*e*Vo*L/log(b/a)   \n",
"// Capacitance of a cylindrical Capacitor C = 6.283185306023805*e*L/log(b/a)  "
   ]
   }
,
{
		   "cell_type": "markdown",
		   "metadata": {},
		   "source": [
			"## Example 7.3: Determine_the_electric_field.sce"
		   ]
		  },
  {
"cell_type": "code",
	   "execution_count": null,
	   "metadata": {
	    "collapsed": true
	   },
	   "outputs": [],
"source": [
"//clear//\n",
"//Caption: Program to Determine the electric field of a two infinite radial planes with an interior angle alpha\n",
"//Example 7.3\n",
"//page 180\n",
"clc;\n",
"phi = sym('phi');\n",
"A = sym('A');\n",
"B = sym('B');\n",
"Vo = sym('Vo');\n",
"alpha = sym('alpha');\n",
"aphi = sym('aphi');\n",
"r = sym('r');\n",
"V = integ(A,phi)+B;\n",
"disp(V,'V =');\n",
"V = limit(V,B,0);\n",
"V = limit(V,A,Vo/alpha);\n",
"disp(V,'Potential V after applying boundary conditions =')\n",
"E = -(1/r)*diff(V,phi)*aphi;\n",
"disp(E,'E =')\n",
"//Result\n",
"// V =  B+phi*A   \n",
"// Potential V after applying boundary conditions =  phi*Vo/alpha   \n",
"// E =    -aphi*Vo/(alpha*r)   "
   ]
   }
,
{
		   "cell_type": "markdown",
		   "metadata": {},
		   "source": [
			"## Example 7.4: capacitance_of_a_spherical_capacito.sce"
		   ]
		  },
  {
"cell_type": "code",
	   "execution_count": null,
	   "metadata": {
	    "collapsed": true
	   },
	   "outputs": [],
"source": [
"//clear//\n",
"//Caption: Derivation of capacitance of a spherical capacitor\n",
"//Example7.4\n",
"//page 181\n",
"clc;\n",
"a = sym('a');\n",
"b = sym('b');\n",
"Vo = sym('Vo');\n",
"r = sym('r');\n",
"e = sym('e');\n",
"V = Vo*((1/r)-(1/b))/((1/a)-(1/b));\n",
"disp(V,'V =')\n",
"E = -diff(V,r)*ar;\n",
"disp(E,'E =')\n",
"D = e*E;\n",
"DN = D/ar;\n",
"disp(DN,'DN =')\n",
"S = float(4*%pi*r^2); //area of sphere\n",
"Q = DN*S;\n",
"disp(Q,'Q =')\n",
"C = Q/Vo;\n",
"disp(C,'Capacitance of a spherical capacitor =')\n",
"//Result\n",
"//V =  (1/r-1/b)*Vo/(1/a-1/b)   \n",
"//E =    ar*Vo/((1/a-1/b)*r^2)   \n",
"//DN =   e*Vo/((1/a-1/b)*r^2)   \n",
"//Q =    12.56637060469643*e*Vo/(1/a-1/b)   \n",
"//Capacitance of a spherical capacitor = 12.56637060469643*e/(1/a-1/b)"
   ]
   }
,
{
		   "cell_type": "markdown",
		   "metadata": {},
		   "source": [
			"## Example 7.5: Potential_in_spherical_coordinates.sce"
		   ]
		  },
  {
"cell_type": "code",
	   "execution_count": null,
	   "metadata": {
	    "collapsed": true
	   },
	   "outputs": [],
"source": [
"//clear//\n",
"//Caption: Potential in spherical coordinates as a function of teta V(teta)\n",
"//Example7.5\n",
"//page 182\n",
"clc;\n",
"teta = sym('teta');\n",
"A = sym('A');\n",
"B = sym('B');\n",
"V = integ(A/float(sin(teta)),teta)+B;\n",
"disp(V,'V = ')\n",
"//Result\n",
"//V =  B+(log(cos(teta)-1)/2-log(cos(teta)+1)/2)*A  \n",
"//Equivalent to V = B+log(tan(teta/2))*A"
   ]
   }
],
"metadata": {
		  "kernelspec": {
		   "display_name": "Scilab",
		   "language": "scilab",
		   "name": "scilab"
		  },
		  "language_info": {
		   "file_extension": ".sce",
		   "help_links": [
			{
			 "text": "MetaKernel Magics",
			 "url": "https://github.com/calysto/metakernel/blob/master/metakernel/magics/README.md"
			}
		   ],
		   "mimetype": "text/x-octave",
		   "name": "scilab",
		   "version": "0.7.1"
		  }
		 },
		 "nbformat": 4,
		 "nbformat_minor": 0
}
