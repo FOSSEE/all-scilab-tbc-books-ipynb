{
"cells": [
 {
		   "cell_type": "markdown",
	   "metadata": {},
	   "source": [
       "# Chapter 11: Active filters"
	   ]
	},
{
		   "cell_type": "markdown",
		   "metadata": {},
		   "source": [
			"## Example 11.1: Butterworth_low_pass_filter.sce"
		   ]
		  },
  {
"cell_type": "code",
	   "execution_count": null,
	   "metadata": {
	    "collapsed": true
	   },
	   "outputs": [],
"source": [
"// Chapter 11\n",
"// Design a low pass Butterworth filter\n",
"// Page.No-397\n",
"// Example11_1\n",
"//Figure 11.13 and 11.14\n",
"// Given\n",
"clear;clc;\n",
"L=1.414;            //Alpha\n",
"Ri=1;           //in Ohm\n",
"Rf=2-L;\n",
"printf('\n The value of Rf is = %.3f Ohm\n',Rf); // Result\n",
"Av=1+Rf/Ri;\n",
"printf('\n The pass band gain of  = %.3f \n',Av); // Result\n",
"fc=1000;            //in Hz\n",
"W=2*%pi*fc;\n",
"printf('\n The critical frequency is = %.0f radians per seconds\n',W); // Result\n",
"R=1/W;\n",
"printf('\n The Resistor required is  = %.6f Ohm\n',R); // Result\n",
"C1=2/L;\n",
"printf('\n The capacitor1 required is  = %.3f F\n',C1); // Result\n",
"C2=L/2;\n",
"printf('\n The capacitor2 required is  = %.3f F\n',C2); // Result"
   ]
   }
,
{
		   "cell_type": "markdown",
		   "metadata": {},
		   "source": [
			"## Example 11.2: Design_second_order_bessel_filter.sce"
		   ]
		  },
  {
"cell_type": "code",
	   "execution_count": null,
	   "metadata": {
	    "collapsed": true
	   },
	   "outputs": [],
"source": [
"// Chapter 11\n",
"// Design a second order high  pass Bessel's filter\n",
"// Page.No-404\n",
"// Example11_2\n",
"//Figure 11.25\n",
"// Given\n",
"clear;clc;\n",
"L=1.732;                // Aplha = DAMPING\n",
"Kf=1.274;\n",
"R1=L/2;\n",
"printf('\n The Resistor required is  = %.3f Ohm\n',R1); // Result\n",
"R2=2/L;\n",
"printf('\n The Resistor required is  = %.3f Ohm\n',R2); // Result\n",
"F3db=5000;              //in Hz\n",
"Fc=F3db/Kf;\n",
"printf('\n The critical frequency is = %.0f Hz\n',Fc); // Result\n",
"Wc=2*%pi*Fc;\n",
"printf('\n The Wc is = %.0f radians per seconds\n',Wc); // Result\n",
"R1n=R1/Wc;\n",
"printf('\n The value of scaled Resistor R1 is  = %.7f Ohm\n',R1n); // Result\n",
"R2n=R2/Wc;\n",
"printf('\n The value of scaled Resistor R2 is  = %.7f Ohm\n',R2n); // Result"
   ]
   }
,
{
		   "cell_type": "markdown",
		   "metadata": {},
		   "source": [
			"## Example 11.3: Fifth_order_system.sce"
		   ]
		  },
  {
"cell_type": "code",
	   "execution_count": null,
	   "metadata": {
	    "collapsed": true
	   },
	   "outputs": [],
"source": [
"// Chapter 11\n",
"// Design a filter to remove subsonic tones\n",
"// Page.No-406\n",
"// Example11_2\n",
"//Figure 11.29\n",
"// Given\n",
"clear;clc;\n",
"f3db=20;            //In Hz\n",
"W3db=2*%pi*f3db;\n",
"printf('\n The desired break frequency, W3db is = %.1f radians per second\n',W3db); // Result\n",
"disp('Stage 1');\n",
"kf=1.557;\n",
"Wc=W3db/kf;\n",
"printf('\n The Wc is = %.1f radians per second\n',Wc); // Result\n",
"Rscaled=1/80.7;  //Rscaled value \n",
"R=1000*Rscaled;     //Practical Value\n",
"printf('\n The scaled Resistor required is  = %.3f Ohm\n',R); // Result\n",
"C=1*10^-6;          //Assumed Value\n",
"printf('\n The assumed capacitor  is  = %.6f Farad\n',C); // Result\n",
"disp('Stage 2');\n",
"Alpha=1.775;\n",
"R1=Alpha/2;\n",
"printf('\n The Resistor R1 required is  = %.4f Ohm\n',R1); // Result\n",
"R2=2/Alpha;\n",
"printf('\n The Resistor R2 required is  = %.3f Ohm\n',R2); // Result\n",
"kf1=1.613;\n",
"Wc1=W3db/kf1;\n",
"printf('\n The required critical frequency ,Wc is = %.1f radians per second\n',Wc1); // Result\n",
"//we will scale the resistor\n",
"R1s=R1/Wc1;\n",
"R2s=R2/Wc1;\n",
"printf('\n The scaled resistor R1 is  = %.4f Ohm\n',R1s); // Result\n",
"printf('\n The scaled resistor R2 is  = %.4f Ohm\n',R2s); // Result\n",
"printf('\n The assumed capacitor  is  = %.6f Farad\n',C); // Result\n",
"//for practical values of resistor and capacitor multiplying by 10^6\n",
"R1m=R1s*10^6;\n",
"R2m=R2s*10^6;\n",
"printf('\n The practical value of  resistor R1 is  = %.0f Ohm\n',R1m); // Result\n",
"printf('\n The practical value of  resistor R2 is  = %.0f Ohm\n',R2m); // Result\n",
"printf('\n The assumed capacitor  is  = %.6f Farad\n',C); // Result\n",
"\n",
"disp('Stage 3');\n",
"Alpha=1.091;\n",
"R21=Alpha/2;\n",
"R22=2/Alpha;\n",
"kf2=1.819;\n",
"Wc2=W3db/kf2;\n",
"printf('\n The required critical frequency ,Wc is = %.1f radians per second\n',Wc2); // Result\n",
"//Scale resistor by Wc to achive tuning frequency\n",
"R21s=R21/Wc2;\n",
"R22s=R22/Wc2;\n",
"printf('\n The scaled resistor R1 is  = %.5f Ohm\n',R21s); // Result\n",
"printf('\n The scaled resistor R2 is  = %.4f Ohm\n',R22s); // Result\n",
"//for practical values of resistor and capacitor multiplying by 10^6\n",
"R21m=R21s*10^6;\n",
"R22m=R22s*10^6;\n",
"printf('\n The practical value of  resistor R1 is  = %.0f Ohm\n',R21m); // Result\n",
"printf('\n The practical value of  resistor R2 is  = %.0f Ohm\n',R22m); // Result\n",
"printf('\n The assumed capacitor  is  = %.6f Farad\n',C); // Result\n",
""
   ]
   }
,
{
		   "cell_type": "markdown",
		   "metadata": {},
		   "source": [
			"## Example 11.4: Crossover_network.sce"
		   ]
		  },
  {
"cell_type": "code",
	   "execution_count": null,
	   "metadata": {
	    "collapsed": true
	   },
	   "outputs": [],
"source": [
"// Chapter 11\n",
"// crossover network\n",
"// Page.No-412\n",
"// Example11_4\n",
"//Figure 11.32\n",
"// Given\n",
"clear;clc;\n",
"L=1.414;            //Alpha\n",
"fc=800;         //In Hz\n",
"Rf=2-L;\n",
"printf('\n The value of Rf is = %.3f Ohm\n',Rf); // Result\n",
"Wc=2*%pi*fc;\n",
"printf('\n The critical frequency is = %.0f radians per seconds\n',Wc); // Result\n",
"R=1/Wc;\n",
"printf('\n The value of scaled Resistor R1 is  = %.7f Ohm\n',R); // Result\n",
"\n",
"printf('\n The value of scaled Resistor and capacitor is  = %.0f Ohm and 10nF \n',R*10^8); // Result"
   ]
   }
,
{
		   "cell_type": "markdown",
		   "metadata": {},
		   "source": [
			"## Example 11.5: Band_pass_filter.sce"
		   ]
		  },
  {
"cell_type": "code",
	   "execution_count": null,
	   "metadata": {
	    "collapsed": true
	   },
	   "outputs": [],
"source": [
"// Chapter 11\n",
"// Band pass Filter\n",
"// Page.No-418\n",
"// Example11_5\n",
"// Given\n",
"clear;clc;\n",
"f2=1200;                //in Hz\n",
"f1=800;                 //in Hz\n",
"BW=f2-f1;\n",
"printf('\n The Bandwidth is %.3f Hz\n',BW); // Result\n",
"fo=(f1*f2)^0.5;\n",
"printf('\n  fo is %.0f Hz\n',fo); // Result\n",
"Q=fo/BW;\n",
"printf('\n  Q is %.2f \n',Q); // Result\n",
"Av=-2*Q*Q;\n",
"printf('\n Av is %.0f \n',Av); // Result\n",
"fut=10*Av*fo;\n",
"printf('\n funity is %.0f Hz\n',fut); // Result\n",
"R2=2*Q;\n",
"printf('\n R2 is %.1f Ohm\n',R2); // Result\n",
"R1b=Q/(2*Q*Q-1);\n",
"printf('\n R1b is %.4f Ohm\n',R1b); // Result\n",
"W=2*%pi*fo;\n",
"printf('\n The  frequency is = %.0f radians per seconds\n',W); // Result\n",
"C=1/W;\n",
"printf('\n C is %.7f F\n',C); // Result\n",
"//practical component value\n",
"printf('\n R and C are %.0f Ohm and %.8f F\n',R2*10,C/10); // Result"
   ]
   }
,
{
		   "cell_type": "markdown",
		   "metadata": {},
		   "source": [
			"## Example 11.6: Band_pass_filter_with_center_frequency.sce"
		   ]
		  },
  {
"cell_type": "code",
	   "execution_count": null,
	   "metadata": {
	    "collapsed": true
	   },
	   "outputs": [],
"source": [
"// Chapter 11\n",
"// Band pass Filter\n",
"// Page.No-424\n",
"// Example_11_6\n",
"// Given\n",
"clear;clc;\n",
"Q=25;\n",
"fo=4300;            //in Hz\n",
"Rd=3*Q-1;           //R damping\n",
"printf('\n Rdamping is %.1f Ohm\n',Rd); // Result\n",
"W=2*%pi*fo;\n",
"printf('\n The  frequency is = %.0f radians per seconds\n',W); // Result\n",
"C=1/W;\n",
"printf('\n C is %.7f F\n',C); // Result\n",
"//practical component value\n",
"printf('\n Rdamping and C are %.0f Ohm and %.10f F\n',Rd*5000,C/5000); // Result\n",
"//remaining other Resistor are of 5K Ohm"
   ]
   }
,
{
		   "cell_type": "markdown",
		   "metadata": {},
		   "source": [
			"## Example 11.7: Notch_filter.sce"
		   ]
		  },
  {
"cell_type": "code",
	   "execution_count": null,
	   "metadata": {
	    "collapsed": true
	   },
	   "outputs": [],
"source": [
"// Chapter 11\n",
"// Band pass Filter\n",
"// Page.No-427\n",
"// Example_11_7\n",
"// Given\n",
"clear;clc;\n",
"Q=30;\n",
"fo=60;            //in Hz\n",
"Rd=3*Q-1;           //R damping\n",
"printf('\n Rdamping is %.1f Ohm\n',Rd); // Result\n",
"W=2*%pi*fo;\n",
"printf('\n The  frequency is = %.0f radians per seconds\n',W); // Result\n",
"C=1/W;\n",
"printf('\n C is %.5f F\n',C); // Result"
   ]
   }
],
"metadata": {
		  "kernelspec": {
		   "display_name": "Scilab",
		   "language": "scilab",
		   "name": "scilab"
		  },
		  "language_info": {
		   "file_extension": ".sce",
		   "help_links": [
			{
			 "text": "MetaKernel Magics",
			 "url": "https://github.com/calysto/metakernel/blob/master/metakernel/magics/README.md"
			}
		   ],
		   "mimetype": "text/x-octave",
		   "name": "scilab",
		   "version": "0.7.1"
		  }
		 },
		 "nbformat": 4,
		 "nbformat_minor": 0
}
