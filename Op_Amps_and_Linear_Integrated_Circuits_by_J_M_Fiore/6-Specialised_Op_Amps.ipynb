{
"cells": [
 {
		   "cell_type": "markdown",
	   "metadata": {},
	   "source": [
       "# Chapter 6: Specialised Op Amps"
	   ]
	},
{
		   "cell_type": "markdown",
		   "metadata": {},
		   "source": [
			"## Example 6.1: Output_signal.sce"
		   ]
		  },
  {
"cell_type": "code",
	   "execution_count": null,
	   "metadata": {
	    "collapsed": true
	   },
	   "outputs": [],
"source": [
"//Example6.1:'Output signal''\n",
"//Page 176\n",
"//figure 6.4\n",
"clear;\n",
"clc;\n",
"R1=20000;       //in Ohm\n",
"R2=400;         //in Ohm\n",
"Vinp=0.006;         //in V  (Vinp=Vin+)\n",
"Vinm=-0.006;         //in V   Vinp=Vin_)\n",
"Vh=0.010;         //in V\n",
"Vad=Vinm*(1+R1/R2)-Vinp*R1/R2;          //------1 equation Va=0.606mV approx\n",
"disp('V',Vad,'Va');\n",
"//for common mode\n",
"Vac=Vh*(1+R1/R2)-Vh*R1/R2;\n",
"disp('V',Vac,'Va');\n",
"Rf=50000;       //in Ohm\n",
"Ri=10000;         //in Ohm\n",
"Av=Rf/Ri;\n",
"disp(Av,'Av');\n",
"Va=-0.606;       //V \n",
"Vb=-Va;\n",
"Voutd=Av*(Vb-Va);\n",
"disp('V',Voutd,'Desired differential input signal is Vb-Va=');\n",
"Vout=(Vinp-Vinm)*(Rf/Ri)*(1+2*(R1/R2));\n",
"disp('V',Vout,'By using equation 6.1 given in book Vout =(Vinp-Vinm)*(Rf/Ri)*(1+2*(R1/R2))=');\n",
"CMRR=10^5;\n",
"Av=505;\n",
"Vincm=10*10^-3;\n",
"Voutcm=Vincm*Av/CMRR;\n",
"disp('V',Voutcm,'Vout(cm)')"
   ]
   }
,
{
		   "cell_type": "markdown",
		   "metadata": {},
		   "source": [
			"## Example 6.2: Instrumentation_amplifier.sce"
		   ]
		  },
  {
"cell_type": "code",
	   "execution_count": null,
	   "metadata": {
	    "collapsed": true
	   },
	   "outputs": [],
"source": [
"//Example6.2:'Designing the Circuit''\n",
"//Page 180\n",
"//figure 6.9\n",
"clear;\n",
"clc;\n",
"Av=10;\n",
"Rg=(49.4*10^3)/(Av-1);\n",
"disp('Ohm',Rg,'Rg')"
   ]
   }
,
{
		   "cell_type": "markdown",
		   "metadata": {},
		   "source": [
			"## Example 6.3: Power_bandwidth.sce"
		   ]
		  },
  {
"cell_type": "code",
	   "execution_count": null,
	   "metadata": {
	    "collapsed": true
	   },
	   "outputs": [],
"source": [
"//Example6.3:'Determine the Power Bandwidth''\n",
"//Page 183\n",
"//figure 6.14\n",
"clear;\n",
"clc;\n",
"Vp=10;      //in V\n",
"Vcc=15;         //in V\n",
"Rf=50000;       //in Ohm\n",
"Ri=2000;         //in Ohm\n",
"Rset=3*10^6;           //in Ohm\n",
"Iset=(Vcc-0.5)/Rset;\n",
"disp('A',Iset,'Iset')\n",
"Anoise=1+Rf/Ri;\n",
"disp(Anoise,'Anoise');\n",
"funity=200000;      //in Hz\n",
"f2=funity/Anoise;\n",
"disp('Hz',f2,'f2');\n",
"SR=0.11/10^-6;    //in V/S\n",
"fmax=SR/(2*%pi*Vp);\n",
"disp('Hz',fmax,'fmax');\n",
"//Result//"
   ]
   }
,
{
		   "cell_type": "markdown",
		   "metadata": {},
		   "source": [
			"## Example 6.4: bandwidth_required.sce"
		   ]
		  },
  {
"cell_type": "code",
	   "execution_count": null,
	   "metadata": {
	    "collapsed": true
	   },
	   "outputs": [],
"source": [
"//Example6.4:'Determine the approx Bandwidth''\n",
"//Page 191\n",
"clear;\n",
"clc;\n",
"Refresh=60;\n",
"Height=1024;\n",
"Width=1024;\n",
"Pixelrate=Refresh*Height*Width;\n",
"disp('pixels per second',Pixelrate,'Pixelrate');\n",
"Tr=1/Pixelrate;\n",
"f2=0.35/(0.3*Tr);\n",
"disp('Hz',f2,'f2');\n",
"//Result//"
   ]
   }
,
{
		   "cell_type": "markdown",
		   "metadata": {},
		   "source": [
			"## Example 6.5: Voltage_controlled_amplifier.sce"
		   ]
		  },
  {
"cell_type": "code",
	   "execution_count": null,
	   "metadata": {
	    "collapsed": true
	   },
	   "outputs": [],
"source": [
"//Example6.5:'OTA use'\n",
"//Page 191\n",
"//figure 6.22\n",
"clear;\n",
"clc;\n",
"Vp=5;           //in V\n",
"Vm=-Vp;\n",
"Rcontrol=22000;     //In Ohm\n",
"Vd=0.7;         //in V\n",
"Iabc=(Vp-Vm-Vd)/Rcontrol;\n",
"disp('A',Iabc,'Iabc');\n",
"//Using voltage divider\n",
"Loss=470/(33000+470);\n",
"disp(Loss,'Loss');\n",
"Vpp=0.050;          //in V\n",
"Vinmax=Vpp/Loss;\n",
"disp('V',Vinmax,'Vinmax');\n",
"gm=0.010;           //in S\n",
"Iout=Vpp*gm;\n",
"disp('A',Iout,'Iout');\n",
"//maximum output\n",
"Rf=22000;           //in Ohm\n",
"Vout=Iout*Rf;\n",
"disp('V',Vout,'Vout');\n",
"//result//"
   ]
   }
,
{
		   "cell_type": "markdown",
		   "metadata": {},
		   "source": [
			"## Example 6.6: Design_an_amplifier.sce"
		   ]
		  },
  {
"cell_type": "code",
	   "execution_count": null,
	   "metadata": {
	    "collapsed": true
	   },
	   "outputs": [],
"source": [
"//Example6.6:'design an Amplifier '\n",
"//Page 197\n",
"//figure 6.27\n",
"clear;\n",
"clc;\n",
"Av=-20;\n",
"Ri=50000;       //in Ohm\n",
"fc=100;     //in Hz\n",
"//Av=-Rf/Ri\n",
"Rf=-Av*Ri;\n",
"disp('Ohm',Rf,'Value of Rf');\n",
"Rb=2*Rf;\n",
"disp('Ohm',Rb,'Value of Rb');\n",
"C=1/(2*%pi*Ri*fc);\n",
"disp('F',C,'Value of C');\n",
"//Result//"
   ]
   }
,
{
		   "cell_type": "markdown",
		   "metadata": {},
		   "source": [
			"## Example 6.7: Design_a_non_inverting_amplifier.sce"
		   ]
		  },
  {
"cell_type": "code",
	   "execution_count": null,
	   "metadata": {
	    "collapsed": true
	   },
	   "outputs": [],
"source": [
"//Example6.7:'design a non-inverting amplifer '\n",
"//Page 205\n",
"clear;\n",
"clc;\n",
"Av=20;          //in dB\n",
"Av1=10^(Av/20);            //ordinary gain\n",
"Rf=1500;            //in Ohm (Assumption)\n",
"//Av=1+Rf/R  we know\n",
"R=Rf/(Av1-1);\n",
"disp('Ohm',R,'R');\n",
"//Result//"
   ]
   }
],
"metadata": {
		  "kernelspec": {
		   "display_name": "Scilab",
		   "language": "scilab",
		   "name": "scilab"
		  },
		  "language_info": {
		   "file_extension": ".sce",
		   "help_links": [
			{
			 "text": "MetaKernel Magics",
			 "url": "https://github.com/calysto/metakernel/blob/master/metakernel/magics/README.md"
			}
		   ],
		   "mimetype": "text/x-octave",
		   "name": "scilab",
		   "version": "0.7.1"
		  }
		 },
		 "nbformat": 4,
		 "nbformat_minor": 0
}
