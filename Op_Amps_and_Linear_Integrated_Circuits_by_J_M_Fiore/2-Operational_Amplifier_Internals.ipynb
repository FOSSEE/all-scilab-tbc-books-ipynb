{
"cells": [
 {
		   "cell_type": "markdown",
	   "metadata": {},
	   "source": [
       "# Chapter 2: Operational Amplifier Internals"
	   ]
	},
{
		   "cell_type": "markdown",
		   "metadata": {},
		   "source": [
			"## Example 2.2: Square_up_circuit.sce"
		   ]
		  },
  {
"cell_type": "code",
	   "execution_count": null,
	   "metadata": {
	    "collapsed": true
	   },
	   "outputs": [],
"source": [
"//chapter 2\n",
"//figure 2.13\n",
"//frequency counter\n",
"\n",
"clc;clear;\n",
"t=(0:0.1:100)';\n",
" \n",
"k = input('Enter the reference voltage between 0 to 0.8=');\n",
" \n",
"\n",
"f=0.1;\n",
"x3=1*sin(2*f*t);\n",
"\n",
"x4=squarewave(2*f*t-k,50-10*k*%pi)\n",
"figure;\n",
"\n",
"plot2d1(t,x3);\n",
"plot2d1(t,x4);\n",
"xlabel('time n--->');\n",
"ylabel('amplitude--->');\n",
"title('squre wave at cutt reference voltage');"
   ]
   }
],
"metadata": {
		  "kernelspec": {
		   "display_name": "Scilab",
		   "language": "scilab",
		   "name": "scilab"
		  },
		  "language_info": {
		   "file_extension": ".sce",
		   "help_links": [
			{
			 "text": "MetaKernel Magics",
			 "url": "https://github.com/calysto/metakernel/blob/master/metakernel/magics/README.md"
			}
		   ],
		   "mimetype": "text/x-octave",
		   "name": "scilab",
		   "version": "0.7.1"
		  }
		 },
		 "nbformat": 4,
		 "nbformat_minor": 0
}
