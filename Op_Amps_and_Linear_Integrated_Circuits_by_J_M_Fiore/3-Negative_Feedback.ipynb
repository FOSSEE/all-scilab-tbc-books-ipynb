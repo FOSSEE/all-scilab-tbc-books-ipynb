{
"cells": [
 {
		   "cell_type": "markdown",
	   "metadata": {},
	   "source": [
       "# Chapter 3: Negative Feedback"
	   ]
	},
{
		   "cell_type": "markdown",
		   "metadata": {},
		   "source": [
			"## Example 3.1: Closed_loop_gain_and_break_frequency.sce"
		   ]
		  },
  {
"cell_type": "code",
	   "execution_count": null,
	   "metadata": {
	    "collapsed": true
	   },
	   "outputs": [],
"source": [
"//Chapter 3\n",
"//Closed loop gain \n",
"//page 75\n",
"//Example no 3-1\n",
"//figure 3.4\n",
"clc;\n",
"clear;\n",
"Aol=200;\n",
"f2_ol=10000;     // in Hz\n",
"B=0.04;\n",
"Asp=Aol/(1+B*Aol);\n",
"printf('\n Asp %.2f \n ',Asp);            //Result\n",
"printf('\n Approximately Asp =1/B equal to %.0f \n',1/B);//result\n",
"S=Aol/Asp;\n",
"printf('\n S =%.0f \n',S);\n",
"f2_sp=f2_ol*S;\n",
"printf('\nf2_sp %.0f Hz',f2_sp);       //Result"
   ]
   }
,
{
		   "cell_type": "markdown",
		   "metadata": {},
		   "source": [
			"## Example 3.2: Design_the_amplifier.sce"
		   ]
		  },
  {
"cell_type": "code",
	   "execution_count": null,
	   "metadata": {
	    "collapsed": true
	   },
	   "outputs": [],
"source": [
"//Chapter 3\n",
"//page 76\n",
"//Example no 3-2\n",
"//figure 3.7\n",
"clear;\n",
"clc;\n",
"Asp1=20\n",
"Asp=10^(Asp1/20);\n",
"printf('\n Asp =%.0f\n',Asp);//Result\n",
"//Rf/Ri=Asp-1;\n",
"printf('\n Rf/Ri=%.0f \n',Asp-1);//Result\n",
"printf('Rf must be 9 times larger than Ri. \n There are many possibilities  ');//Result"
   ]
   }
,
{
		   "cell_type": "markdown",
		   "metadata": {},
		   "source": [
			"## Example 3.3: Input_Output_impedance.sce"
		   ]
		  },
  {
"cell_type": "code",
	   "execution_count": null,
	   "metadata": {
	    "collapsed": true
	   },
	   "outputs": [],
"source": [
"//Chapter 3\n",
"//page 82\n",
"//Example no 3-3\n",
"clc;\n",
"clear;\n",
"Zin_ol=300*10^3;       //in Ohms\n",
"Zout=100;       //in Ohms\n",
"Aol=50000;\n",
"Zout_ol=100;\n",
"Asp=100;\n",
"S=Aol/Asp;\n",
"printf('\n S = %.0f',S);//Result\n",
"Zin_sp=S*Zin_ol;\n",
"printf('\n Zin_sp = %.0f Ohm',Zin_sp);//Result\n",
"Zout_sp=Zout_ol/S;\n",
"printf('\n Zout_sp = %.1f Ohm',Zout_sp);//Result\n",
""
   ]
   }
,
{
		   "cell_type": "markdown",
		   "metadata": {},
		   "source": [
			"## Example 3.4: Amplifier_current_gain.sce"
		   ]
		  },
  {
"cell_type": "code",
	   "execution_count": null,
	   "metadata": {
	    "collapsed": true
	   },
	   "outputs": [],
"source": [
"//Chapter 3\n",
"//Output current of circuit\n",
"//page 88\n",
"//Example no 3-4\n",
"clc;\n",
"clear;\n",
"R1=9000;        // in Ohm\n",
"R2=1000;        //in Ohm\n",
"B=R2/(R1+R2);\n",
"printf('\n B is %.2f\n',B);//Result\n",
"//Aps=1/B;\n",
"Aps=(R1+R2)/R2;\n",
"printf('\n Aps = %.0f \n ',Aps);//Result"
   ]
   }
],
"metadata": {
		  "kernelspec": {
		   "display_name": "Scilab",
		   "language": "scilab",
		   "name": "scilab"
		  },
		  "language_info": {
		   "file_extension": ".sce",
		   "help_links": [
			{
			 "text": "MetaKernel Magics",
			 "url": "https://github.com/calysto/metakernel/blob/master/metakernel/magics/README.md"
			}
		   ],
		   "mimetype": "text/x-octave",
		   "name": "scilab",
		   "version": "0.7.1"
		  }
		 },
		 "nbformat": 4,
		 "nbformat_minor": 0
}
