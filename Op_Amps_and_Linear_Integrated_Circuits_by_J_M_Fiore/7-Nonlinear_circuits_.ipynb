{
"cells": [
 {
		   "cell_type": "markdown",
	   "metadata": {},
	   "source": [
       "# Chapter 7: Nonlinear circuits "
	   ]
	},
{
		   "cell_type": "markdown",
		   "metadata": {},
		   "source": [
			"## Example 7.1: Point_at_which_led_flashes.sce"
		   ]
		  },
  {
"cell_type": "code",
	   "execution_count": null,
	   "metadata": {
	    "collapsed": true
	   },
	   "outputs": [],
"source": [
"// Chapter7\n",
"//Example-7.1\n",
"//Figure 7.11\n",
"//page 216\n",
"clear;\n",
"clc;\n",
"R=10*10^6;          //in Ohm\n",
"C=10*10^-9;         //in Farad\n",
"T=R*C;          //discharge Time\n",
"printf('\n T %.1f S\n',T);\n",
"Vled=2.5;       //in V\n",
"Vsat=13;            //in V\n",
"Rl=500;         //in Ohm\n",
"Iled=(Vsat-Vled)/Rl;\n",
"printf('\n Iled %.3f A\n',Iled);\n",
"//result//"
   ]
   }
,
{
		   "cell_type": "markdown",
		   "metadata": {},
		   "source": [
			"## Example 7.2: Capacitor_voltage_and_time_constant.sce"
		   ]
		  },
  {
"cell_type": "code",
	   "execution_count": null,
	   "metadata": {
	    "collapsed": true
	   },
	   "outputs": [],
"source": [
"// Chapter7\n",
"//Example-7.2\n",
"//Figure 7.24\n",
"//page 222\n",
"clear;\n",
"clc;\n",
"R2=1.5*10^3;          //in Ohm\n",
"R1=10*10^3;          //in Ohm\n",
"Vcc=15;         //in V\n",
"Vpm=1;         //in V              (=Vp_)\n",
"C=10*10^-9;         //in Farad\n",
"\n",
"Vofst=Vcc*R2/(R1+R2);\n",
"printf('\n Voffset %0.2f V',Vofst);\n",
"Vc=Vofst+Vpm;\n",
"printf('\n Vc %0.2f V',Vc);\n",
"Rl=10*10^6;          //in Ohm\n",
"T=Rl*C;          //discharge Time\n",
"printf('\n T %0.2f S',T);\n",
"Vinp=1.96;  \n",
"Vinm=5.96;\n",
"Vind=Vinp-Vinm;\n",
"printf('\n Vin_diff =%0.0f V \n ',Vind);\n",
"//Graph \n",
"t=(0:0.01:5)';\n",
"f=1;        //1kHz\n",
"Vin=2*sin(f*%pi*t);\n",
"Vin1=Vin^2-1;\n",
"Vout=Vin1+2.96;\n",
"clf;\n",
"plot(t,Vout,t,Vin1)\n",
"xtitle('Green Input  signal & Blue Output signal','t','Vin');//result\n",
"xgrid;"
   ]
   }
,
{
		   "cell_type": "markdown",
		   "metadata": {},
		   "source": [
			"## Example 7.3: Sketch_Vout.sce"
		   ]
		  },
  {
"cell_type": "code",
	   "execution_count": null,
	   "metadata": {
	    "collapsed": true
	   },
	   "outputs": [],
"source": [
"// Chapter7\n",
"// Page.No-226\n",
"// Example7_3\n",
"//page 226\n",
"// Output waveform of zener limits Diodes\n",
"// Given\n",
"clc;\n",
"clear;\n",
"Rf=20*10^3;          //in Ohm\n",
"Ri=10*10^3;          //in Ohm\n",
"Av=-Rf/Ri;\n",
"Vin=4;          //in V\n",
"Vout=Av*Vin;\n",
"printf('\n Vout = %0.0f V(peak)',Vout);\n",
"Vzener=5.1;          //in V\n",
"\n",
"Vlimit=(Vzener+0.7);\n",
"printf('\n Vlimit +_%.1f V',Vlimit);\n",
"//graph \n",
"\n",
"T0=4;\n",
"t=-5.99:0.01:6;\n",
"t_temp=0.01:0.01:T0/4;\n",
"s=length(t)/length(t_temp);\n",
"dx=[];\n",
"x=[];\n",
"for i=1:s\n",
"    if modulo(i,2)==1  then\n",
"        dx=[dx -ones(1,length(t_temp))];\n",
"        x=[x .1*t_temp($:-1:1)];\n",
"    else\n",
"        dx=[dx ones(1,length(t_temp))];\n",
"        x=[x .1*t_temp]; \n",
"    end\n",
"end\n",
"clf();\n",
"k=-(-80*2*x)-8;   //function for output plot\n",
"x1=[]           //function for clipped output\n",
"for c=1:length(x)\n",
"    if k(c) < -5.8 then\n",
"        x1(c)=-5.8;\n",
"    else \n",
"        if k(c)<5.8 then\n",
"        x1(c)=k(c);\n",
"    else \n",
"        x1(c)=5.8\n",
"        end\n",
"    end\n",
"end\n",
"plot(t-1.5,-80*x+4,t-1.5,k,t-1.5,x1);\n",
"xtitle('Input(Blue)  /  Output  (Green/Red for clipped ) waveform');\n",
"\n",
"xgrid;\n",
"\n",
""
   ]
   }
,
{
		   "cell_type": "markdown",
		   "metadata": {},
		   "source": [
			"## Example 7.4: Sketch_the_transfer_curve.sce"
		   ]
		  },
  {
"cell_type": "code",
	   "execution_count": null,
	   "metadata": {
	    "collapsed": true
	   },
	   "outputs": [],
"source": [
"// Chapter7\n",
"// Page.No-229\n",
"// Example7_4\n",
"// Sketch the Transfer Curve\n",
"// Given\n",
"clc;\n",
"clear;\n",
"Vz=3.9;         //in V\n",
"Rf=20000;           //in Ohm\n",
"Ri=5000;           //in Ohm\n",
"Ra=10000;           //in Ohm\n",
"Vbreak=Vz+0.7;\n",
"printf('\n Vbreak +_ %.2f V',Vbreak);\n",
"\n",
"Av=-Rf/Ri;\n",
"printf('\n Av %.2f ',Av);\n",
"\n",
"Av2=(-Rf*Ra/(Rf+Ra))/Ri;\n",
"printf('\n Av2 %.2f ',Av2);\n",
"//Graph\n",
"t=-4:0.001:4;\n",
"L=length(t);\n",
"for i=1:L\n",
"    if t(i)<-1.15\n",
"        x1(i)=Av2*t(i)+3.0705;\n",
"       \n",
"     \n",
"   elseif  t(i)<1.15\n",
"        x1(i)=Av*t(i) ;\n",
"       \n",
"   \n",
"      elseif t(i)>1.15\n",
"        x1(i)=Av2*t(i)-3.0705 ;\n",
"      end ;\n",
"end;    \n",
"clf;\n",
"plot2d1(t,x1);\n",
"xtitle('Transfer Characteristics','Vin','Vout')\n",
"xgrid;"
   ]
   }
,
{
		   "cell_type": "markdown",
		   "metadata": {},
		   "source": [
			"## Example 7.5: Draw_the_transfer_curve.sce"
		   ]
		  },
  {
"cell_type": "code",
	   "execution_count": null,
	   "metadata": {
	    "collapsed": true
	   },
	   "outputs": [],
"source": [
"// Chapter7\n",
"// Page.No-231\n",
"// Example_7_5\n",
"// Sketch the Transfer Curve\n",
"// Given\n",
"clc;\n",
"clear;\n",
"Vz1=1;         //in V\n",
"Vz2=2.2;         //in V\n",
"Rf=12000;           //in Ohm\n",
"Ri=10000;           //in Ohm\n",
"R2=15000;           //in Ohm\n",
"R1=20000;           //in Ohm\n",
"Vbreak1=Vz1+0.7;\n",
"printf('\n Vbreak1_in +_ %.2f V',Vbreak1);\n",
"Vbreak2=Vz2+0.7;\n",
"printf('\n Vbreak2_in +_ %.2f V',Vbreak2);\n",
"\n",
"Av=-Rf/Ri;\n",
"printf('\n Av %.1f ',Av);\n",
"Av1=-Rf*(Ri+R1)/(R1*Ri);\n",
"printf('\n Av1 %.1f ',Av1);\n",
"\n",
"Av2=-Rf*(Ri*R1+R1*R2+R2*Ri)/(R1*Ri*R2);\n",
"printf('\n Av2 %.1f ',Av2);\n",
"Vbreak1_out=Av*Vbreak1\n",
"Vbreak2_out=Vbreak1_out+Av2*(Vbreak2-Vbreak1);\n",
"printf('\n Vbreak1_out %.2f V ',Vbreak1_out);\n",
"printf('\n Vbreak2_out %.2f V',Vbreak2_out);\n",
"//graph\n",
"t=-5:0.01:5;\n",
"L=length(t);\n",
"for i=1:L\n",
"    //if t(i)<  then\n",
"    //end\n",
"    if t(i)<-2.9 then\n",
"        x1(i)=Av2*t(i)-3;\n",
"     elseif t(i)<-1.15 then \n",
"        x1(i)=Av1*t(i)-0.67;\n",
"    elseif t(i)<1.15 then\n",
"        x1(i)=Av*t(i) ;\n",
"    elseif t(i)<2.9 then\n",
"        x1(i)=Av1*t(i)+0.67 ;\n",
"    elseif t(i)>2.9 then\n",
"        x1(i)=Av2*t(i)+3;   \n",
"    end;\n",
"end;  \n",
"clf;  \n",
"plot2d1(t,x1);\n",
"xtitle('Transfer Characteristics','Vin','Vout')\n",
"\n",
""
   ]
   }
,
{
		   "cell_type": "markdown",
		   "metadata": {},
		   "source": [
			"## Example 7.6: Temperature_tranducer_response_characteristics.sce"
		   ]
		  },
  {
"cell_type": "code",
	   "execution_count": null,
	   "metadata": {
	    "collapsed": true
	   },
	   "outputs": [],
"source": [
"// Chapter7\n",
"// Page.No-232\n",
"// Example_7_6\n",
"// Sketch the Transfer Curve\n",
"// Given\n",
"clc;\n",
"clear;\n",
"Vz1=1;         //in V\n",
"Vz2=2.2;         //in V\n",
"Rf=10000;           //in Ohm\n",
"Ri=10000;           //in Ohm\n",
"\n",
"Vzp=3-0.7;\n",
"printf('\n Vz+in  %.2f V',Vzp);\n",
"Vzm=-(4-0.7);\n",
"printf('\n Vz_in  %.2f V',Vzm);\n",
"//Ra||Rf=8k\n",
"Ra=8000*Rf/(Rf-8000);\n",
"Av2=0.8;\n",
"Av1=1;\n",
"//graph\n",
"t=-50:0.001:50;\n",
"L=length(t);\n",
"for i=1:L\n",
"        if t(i)<-40 then\n",
"        x1(i)=0.8*t(i)-8;\n",
"     elseif t(i)<30+0.01 then \n",
"        x1(i)=1*t(i);\n",
"\n",
"    elseif t(i)>30 then\n",
"        x1(i)=0.8*t(i)+5.5;   \n",
"    end;\n",
"end;  \n",
"clf;  \n",
"plot2d1(t,x1);\n",
"xtitle('Transfer Characteristics','Vin','Vout')\n",
"\n",
""
   ]
   }
,
{
		   "cell_type": "markdown",
		   "metadata": {},
		   "source": [
			"## Example 7.7: Sketch_output_waveform.sce"
		   ]
		  },
  {
"cell_type": "code",
	   "execution_count": null,
	   "metadata": {
	    "collapsed": true
	   },
	   "outputs": [],
"source": [
"// Chapter7\n",
"// Page.No-241\n",
"// Example7_4\n",
"// Sketch the output waveform\n",
"// Given\n",
"clc;\n",
"clear;\n",
"Vi=5;         //in V\n",
"Vsat=13;         //in V\n",
"R2=2000;           //in Ohm\n",
"R1=20000;           //in Ohm\n",
"Vupper=Vsat*R2/R1;\n",
"Vlower=-Vsat*R2/R1;\n",
"printf('\n Vupperthreshold  %.1f V',Vupper);\n",
"printf('\n Vlowerthreshold  %.1f V',Vlower);\n",
"t=(0:0.1:20)';\n",
"f=0.1;\n",
"x3=1*sin(2*f*%pi*t);\n",
"A=asin(Vupper);\n",
"k=atan(imag(A),real(A))\n",
"\n",
"\n",
"x4=squarewave(2*f*%pi*t-2*f*%pi*k,50)\n",
"\n",
"plot(t,x3,t,x4);\n",
"//plot2d1();\n",
"xlabel('time n--->');\n",
"ylabel('Vout--->');\n",
"title('Input(Blue) / Output(Green)');\n",
"xgrid(color('grey'));"
   ]
   }
,
{
		   "cell_type": "markdown",
		   "metadata": {},
		   "source": [
			"## Example 7.8: Determine_the_Output_voltage.sce"
		   ]
		  },
  {
"cell_type": "code",
	   "execution_count": null,
	   "metadata": {
	    "collapsed": true
	   },
	   "outputs": [],
"source": [
"// Chapter7\n",
"// Page.No-250\n",
"// Example7_8\n",
"// Determine  the output voltage\n",
"//Figure 7.56\n",
"// Given\n",
"clc;\n",
"clear;\n",
"Vin=1;         //in V\n",
"T=300;          //in Kelvin\n",
"Ri=50000;           //in Ohm\n",
"Is=30*10^-9;                //in Amp\n",
"//Vout=-0.0259*ln(Vin/RiIs)\n",
"Vout=-0.0259*log1p(Vin/(Ri*Is))\n",
"printf('\n Vout when Vin=1V  %.4f V\n',Vout);\n",
"//for Vin=0.5V\n",
"Vin1=0.5;         //in V\n",
"Vout1=-0.0259*log1p(Vin1/(Ri*Is))\n",
"printf('\n Vout when Vin=0.5V  %.4f V\n',Vout1);\n",
"//for Vin=2V\n",
"Vin2=2;         //in V\n",
"Vout2=-0.0259*log1p(Vin2/(Ri*Is))\n",
"printf('\n Vout when Vin=2V  %.4f V',Vout2);"
   ]
   }
,
{
		   "cell_type": "markdown",
		   "metadata": {},
		   "source": [
			"## Example 7.9: Output_Voltage.sce"
		   ]
		  },
  {
"cell_type": "code",
	   "execution_count": null,
	   "metadata": {
	    "collapsed": true
	   },
	   "outputs": [],
"source": [
"// Chapter7\n",
"// Page.No-253\n",
"// Example_7_9\n",
"// Determine  the output voltage\n",
"//Figure 7.62\n",
"// Given\n",
"clc;\n",
"clear;\n",
"K=0.1;\n",
"t=(0:0.01:0.5)';\n",
"Vin=2*sin(2*60*%pi*t);\n",
"Vout=K*Vin^2;\n",
"\n",
"plot(t,Vout,t,Vin)\n",
"xtitle(' Input(Green)  signal &  Output (Blue)signal','t','V');//result"
   ]
   }
],
"metadata": {
		  "kernelspec": {
		   "display_name": "Scilab",
		   "language": "scilab",
		   "name": "scilab"
		  },
		  "language_info": {
		   "file_extension": ".sce",
		   "help_links": [
			{
			 "text": "MetaKernel Magics",
			 "url": "https://github.com/calysto/metakernel/blob/master/metakernel/magics/README.md"
			}
		   ],
		   "mimetype": "text/x-octave",
		   "name": "scilab",
		   "version": "0.7.1"
		  }
		 },
		 "nbformat": 4,
		 "nbformat_minor": 0
}
