{
"cells": [
 {
		   "cell_type": "markdown",
	   "metadata": {},
	   "source": [
       "# Chapter 4: Basic Op Amp Circuits"
	   ]
	},
{
		   "cell_type": "markdown",
		   "metadata": {},
		   "source": [
			"## Example 4.10: calculate_Ri.sce"
		   ]
		  },
  {
"cell_type": "code",
	   "execution_count": null,
	   "metadata": {
	    "collapsed": true
	   },
	   "outputs": [],
"source": [
"clc;\n",
"clear;\n",
"close;\n",
"//figure 4.15\n",
"//pagec no 107\n",
"//Figure 4.15\n",
"Iload=100*10^-6;        //In Amp\n",
"Vin=10;     //In Volt\n",
"gm=Iload/Vin;\n",
"Ri=1/gm;\n",
"disp('ohm',Ri,'Value of Ri')"
   ]
   }
,
{
		   "cell_type": "markdown",
		   "metadata": {},
		   "source": [
			"## Example 4.11: Load_Current.sce"
		   ]
		  },
  {
"cell_type": "code",
	   "execution_count": null,
	   "metadata": {
	    "collapsed": true
	   },
	   "outputs": [],
"source": [
"clc;\n",
"clear;\n",
"close;\n",
"//pagec no 111\n",
"//Figure 4.17\n",
"Iin=5*10^-6;        //In Ampere\n",
"Ri=33*10^3;     //In Ohm\n",
"Rf=1*10^3;          //In Ohm\n",
"Rload=10*10^3;          //In Ohm\n",
"Ai=1+(Ri/Rf);           //for inverting current amplifier\n",
"Iout=Ai*Iin;\n",
"disp('A',Iout,'I out ');\n",
"Vmax=Iout*Rload+Iin*Ri;\n",
"disp('V',Vmax,'Vmax is');\n",
"disp('(No problem)')"
   ]
   }
,
{
		   "cell_type": "markdown",
		   "metadata": {},
		   "source": [
			"## Example 4.12: Design_the_amplifier.sce"
		   ]
		  },
  {
"cell_type": "code",
	   "execution_count": null,
	   "metadata": {
	    "collapsed": true
	   },
	   "outputs": [],
"source": [
"clc;\n",
"clear;\n",
"close;\n",
"//pagec no 111\n",
"//Figure 4.18\n",
"Ai=50;\n",
"Rl=200*10^3;          //In Ohm\n",
"//Ai=1+(Ri/Rf)\n",
"Rf=1*10^3;          //In Ohm(Assumption)\n",
"Ri=Rf*(Ai-1);\n",
"disp('ohm',Ri,'Ri for Rf 1000ohm');\n",
"Rf=2*10^3;          //In Ohm(Assumption)\n",
"Ri=Rf*(Ai-1);\n",
"disp('ohm',Ri,'Ri for Rf 2000ohm');\n",
"Rf=0.5*10^3;          //In Ohm(Assumption)\n",
"Ri=Rf*(Ai-1);\n",
"disp('ohm',Ri,'Ri for Rf 500ohm');\n",
"Imax=13.5/Rl;\n",
"disp('A',Imax,'Resulting current');\n",
"disp('A',Imax/50,'Maximum allowable input current ');"
   ]
   }
,
{
		   "cell_type": "markdown",
		   "metadata": {},
		   "source": [
			"## Example 4.13: Output_of_summing_amplifier.sce"
		   ]
		  },
  {
"cell_type": "code",
	   "execution_count": null,
	   "metadata": {
	    "collapsed": true
	   },
	   "outputs": [],
"source": [
"clc;\n",
"clear;\n",
"close;\n",
"//pagec no 113\n",
"//Figure 4.20\n",
"//Noninverting Amplifier\n",
"Rf=10*10^3;          //In Ohm(Assumption)\n",
"//Channel 1\n",
"Ri1=4*10^3;          //In Ohm(Assumption)\n",
"Vi1=1;      //In Volt\n",
"Av1=-Rf/Ri1;\n",
"Vo1=Av1*Vi1;\n",
"disp('V',Vo1,'Vout1');\n",
"//Channel 2\n",
"Ri2=2*10^3;          //In Ohm(Assumption)\n",
"Vi2=-2;      //In Volt\n",
"Av2=-Rf/Ri2;\n",
"Vo2=Av2*Vi2;\n",
"disp('V',Vo2,'Vout2');\n",
"//Channel 3\n",
"Ri3=1*10^3;          //In Ohm(Assumption)\n",
"Vi3=0.5;      //In Volt\n",
"Av3=-Rf/Ri3;\n",
"Vo3=Av3*Vi3;\n",
"disp('V',Vo3,'Vout1')\n",
"disp('V',Vo1+Vo2+Vo3,'Total output via summation  is ')"
   ]
   }
,
{
		   "cell_type": "markdown",
		   "metadata": {},
		   "source": [
			"## Example 4.14: Determine_the_output_of_non_inverting_summer.sce"
		   ]
		  },
  {
"cell_type": "code",
	   "execution_count": null,
	   "metadata": {
	    "collapsed": true
	   },
	   "outputs": [],
"source": [
"clc;\n",
"clear;\n",
"close;\n",
"//pagec no 116\n",
"//Figure 4.22\n",
"//Noninverting Amplifier\n",
"V1=1;       //In Volt\n",
"V2=-0.2;        //In Volt\n",
"//to draw graph of V3\n",
"step=0.5;\n",
"t=0:step:10*%pi;\n",
"\n",
"V3=2*sin(100*t);      //In Volt\n",
"R1=20*10^3;    //In ohm\n",
"R2=20*10^3;    //In ohm\n",
"R3=20*10^3;    //In ohm\n",
"Rf=20*10^3;    //In ohm\n",
"Ri=5*10^3;    //In ohm\n",
"//Vout=(1+(Rf/Ri))*(V1+V2+V3)/3;\n",
"Vout=(1+(Rf/Ri))*(V1+V2)/3;     //for DC componet in Vin\n",
"Voutac=(1+(Rf/Ri))*(V3)/3;      //for ac componet in Vin\n",
"disp('Output Voltage is 3.33 V peak sine wave riding on 1.33 V DC');\n",
"plot(Voutac+Vout);\n",
"xtitle('Output','t','V')"
   ]
   }
,
{
		   "cell_type": "markdown",
		   "metadata": {},
		   "source": [
			"## Example 4.15: Design_the_difference_amplifier.sce"
		   ]
		  },
  {
"cell_type": "code",
	   "execution_count": null,
	   "metadata": {
	    "collapsed": true
	   },
	   "outputs": [],
"source": [
"clc;\n",
"clear;\n",
"close;\n",
"//pagec no 118\n",
"//Figure 4.27\n",
"Ri=10*10^3;     //In ohm\n",
"Av=26;      //In dB\n",
"Av1=10*log10(Av);\n",
"Rf1=Av1*Ri;\n",
"//Rf1=20*Ri1;\n",
"//Ri1+20*Ri1=Ri;\n",
"//Ri1=Ri-Rf1;\n",
"Ri1=Ri/21;\n",
"Rf1=20*Ri1;\n",
"disp('ohm',Rf1,'Rf1 is')"
   ]
   }
,
{
		   "cell_type": "markdown",
		   "metadata": {},
		   "source": [
			"## Example 4.1: Input_Impedance_and_gain.sce"
		   ]
		  },
  {
"cell_type": "code",
	   "execution_count": null,
	   "metadata": {
	    "collapsed": true
	   },
	   "outputs": [],
"source": [
"\n",
"clear;\n",
"clc;\n",
"close;\n",
"//page no 98\n",
"//figure 4.2\n",
"Rf=10*10^3;     ///In Ohms\n",
"Ri=1*10^3;     ///In Ohms\n",
"Av=1+(Rf/Ri);\n",
"disp(Av,'Gain of Circuit is')"
   ]
   }
,
{
		   "cell_type": "markdown",
		   "metadata": {},
		   "source": [
			"## Example 4.2: Design_an_amplifier.sce"
		   ]
		  },
  {
"cell_type": "code",
	   "execution_count": null,
	   "metadata": {
	    "collapsed": true
	   },
	   "outputs": [],
"source": [
"clc;\n",
"clear;\n",
"close;\n",
"//page no 98\n",
"//figure 4.3\n",
"Av1=26;//in dB\n",
"Av=20;\n",
"//Zi=47*10^3  //in ohms\n",
"Ri=1*10^3;     ///In Ohms\n",
"//we know Av=1+(Rf/Ri)\n",
"Rf=Ri*(Av-1);\n",
"disp(Rf,'Value of Rf(ohm) when Ri is 1k');\n",
"Ri=2*10^3;     ///In Ohms\n",
"Rf=Ri*(Av-1);\n",
"disp(Rf,'Value of Rf(ohm) when Ri is 1k')\n",
"Ri=5*10^2;     ///In Ohms\n",
"Rf=Ri*(Av-1);\n",
"disp(Rf,'Value of Rf(ohm) when Ri is 1k')\n",
""
   ]
   }
,
{
		   "cell_type": "markdown",
		   "metadata": {},
		   "source": [
			"## Example 4.3: Design_a_voltage_follower.sce"
		   ]
		  },
  {
"cell_type": "code",
	   "execution_count": null,
	   "metadata": {
	    "collapsed": true
	   },
	   "outputs": [],
"source": [
"\n",
"clc;\n",
"clear;\n",
"close;\n",
"//pagec no 99\n",
"//figure 4.4\n",
"Av=1;\n",
"//Av=1+(Rf/Ri)\n",
"//Rf/Ri=Av-1=0\n",
"disp('Rf/Ri=0 ');\n",
"disp('Rf is replaced by short circuiting wire and Ri can have any theoretical value')\n",
"disp('When Ri is infinite it can be deleted from circuit');"
   ]
   }
,
{
		   "cell_type": "markdown",
		   "metadata": {},
		   "source": [
			"## Example 4.4: Input_Impedance_and_Vout.sce"
		   ]
		  },
  {
"cell_type": "code",
	   "execution_count": null,
	   "metadata": {
	    "collapsed": true
	   },
	   "outputs": [],
"source": [
"clc;\n",
"clear;\n",
"close;\n",
"//pagec no 100\n",
"Rf=14*10^3;//in ohm\n",
"Ri=2*10^3;//in ohm\n",
"Av1=1+(Rf/Ri);\n",
"disp(Av1,'Av1 is');\n",
"Av3=20*log10(Av1);\n",
"disp(Av3,'Av1 in dB is');\n",
"\n",
"Rf=18*10^3;//in ohm\n",
"Ri=2*10^3;//in ohm\n",
"Av2=1+(Rf/Ri);\n",
"disp(Av2,'Av2 is');\n",
"Av4=20*log10(Av2);\n",
"disp(Av4,'Av2 dB is ');\n",
"Avt=Av3+Av4;\n",
"disp(Avt,'Total Gain dB Av1+Av2 is');\n",
"vin=-30;//in dB\n",
"vout=Avt+vin;\n",
"disp(vout,'Vout in dB ');"
   ]
   }
,
{
		   "cell_type": "markdown",
		   "metadata": {},
		   "source": [
			"## Example 4.5: Input_Impedance_and_output_voltage.sce"
		   ]
		  },
  {
"cell_type": "code",
	   "execution_count": null,
	   "metadata": {
	    "collapsed": true
	   },
	   "outputs": [],
"source": [
"clc;\n",
"clear;\n",
"close;\n",
"//pagec no 102\n",
"Ri=5*10^3;// in ohm\n",
"Rf=20*10^3;// in ohm\n",
"vin=100*10^-3;//In volt\n",
"Av=-(Rf/Ri);\n",
"vout=vin*Av;\n",
"disp('Volt',vout,'Vout is ');\n",
"disp('(i.e. negative sign means inverted)');"
   ]
   }
,
{
		   "cell_type": "markdown",
		   "metadata": {},
		   "source": [
			"## Example 4.6: Design_an_inverting_amplifier.sce"
		   ]
		  },
  {
"cell_type": "code",
	   "execution_count": null,
	   "metadata": {
	    "collapsed": true
	   },
	   "outputs": [],
"source": [
"clc;\n",
"clear;\n",
"close;\n",
"//pagec no 103\n",
"Ri=15*10^3;\n",
"zin=Ri;\n",
"Av=-10;//inverting amplifier gain\n",
"//Av=-(Rf/Ri)\n",
"Rf=Ri*-Av;\n",
"disp('ohm',Rf,'Value for Rf ');"
   ]
   }
,
{
		   "cell_type": "markdown",
		   "metadata": {},
		   "source": [
			"## Example 4.7: Minimum_and_maximum_gain.sce"
		   ]
		  },
  {
"cell_type": "code",
	   "execution_count": null,
	   "metadata": {
	    "collapsed": true
	   },
	   "outputs": [],
"source": [
"clc;\n",
"clear;\n",
"close;\n",
"//pagec no 103\n",
"//capacitors are used to remove higher frequencies\n",
"Rf=200*10^3;//In Ohm \n",
"Ri=15*10^3; //In Ohm\n",
"Av=-(Rf/Ri);\n",
"Av1=20*log10(-Av);\n",
"disp(Av,'Maximum gain is ');\n",
"disp(Av1,'Maximum gain in dB is ');\n",
"Av2=0;// divider action makes Ri infinite\n",
"disp(Av2,'Minimum gain in dB is ');"
   ]
   }
,
{
		   "cell_type": "markdown",
		   "metadata": {},
		   "source": [
			"## Example 4.8: Design_the_circuit.sce"
		   ]
		  },
  {
"cell_type": "code",
	   "execution_count": null,
	   "metadata": {
	    "collapsed": true
	   },
	   "outputs": [],
"source": [
"clc;\n",
"clear;\n",
"close;\n",
"//pagec no 105\n",
"//Figure 4.6 \n",
"Iin=50*10^-6;       //In Ampere\n",
"Vout=4;     //In Volt\n",
"Rf=Vout/Iin;\n",
"disp('ohm',Rf,'Transresistance of Circuit is');"
   ]
   }
,
{
		   "cell_type": "markdown",
		   "metadata": {},
		   "source": [
			"## Example 4.9: Load_current.sce"
		   ]
		  },
  {
"cell_type": "code",
	   "execution_count": null,
	   "metadata": {
	    "collapsed": true
	   },
	   "outputs": [],
"source": [
"clc;\n",
"clear;\n",
"close;\n",
"//pagec no 107\n",
"//Figure 4.13\n",
"Ri=20*10^3;     //In Ohm\n",
"Vin=0.4;        //In Volt\n",
"Rl=1*103;//In ohm\n",
"gm=1/Ri;        //unit-micro*Siemens\n",
"Iload=gm*Vin;\n",
"disp('A',Iload,'Load current is');\n",
"//maximum current is 20microAmp in Op Amp\n",
"Vout=(Ri+Rl)*Iload;\n",
"disp('V',Vout,'V max ');"
   ]
   }
],
"metadata": {
		  "kernelspec": {
		   "display_name": "Scilab",
		   "language": "scilab",
		   "name": "scilab"
		  },
		  "language_info": {
		   "file_extension": ".sce",
		   "help_links": [
			{
			 "text": "MetaKernel Magics",
			 "url": "https://github.com/calysto/metakernel/blob/master/metakernel/magics/README.md"
			}
		   ],
		   "mimetype": "text/x-octave",
		   "name": "scilab",
		   "version": "0.7.1"
		  }
		 },
		 "nbformat": 4,
		 "nbformat_minor": 0
}
