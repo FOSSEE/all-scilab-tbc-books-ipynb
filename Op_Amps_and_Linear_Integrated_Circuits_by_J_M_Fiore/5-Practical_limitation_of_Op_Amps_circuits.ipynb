{
"cells": [
 {
		   "cell_type": "markdown",
	   "metadata": {},
	   "source": [
       "# Chapter 5: Practical limitation of Op Amps circuits"
	   ]
	},
{
		   "cell_type": "markdown",
		   "metadata": {},
		   "source": [
			"## Example 5.10: Output_voltage_typically.sce"
		   ]
		  },
  {
"cell_type": "code",
	   "execution_count": null,
	   "metadata": {
	    "collapsed": true
	   },
	   "outputs": [],
"source": [
"\n",
"//clear//\n",
"//Example5.10:'Output voltage''\n",
"//Page 158\n",
"//figure 5.24\n",
"clear;\n",
"clc;\n",
"Rf=20000;       // in Ohm\n",
"Ri=5000;        //in ohm\n",
"Av=-Rf/Ri;\n",
"Vin=3*10^-3;        //in Volt \n",
"Vout=Av*Vin;\n",
"disp('V',Vout,'Vout');\n",
"\n",
"//411 typical apecs\n",
"Vos=0.8*10^-3;      //in Volt\n",
"Ios=25*10^-12;       //in Amp\n",
"Ib=50*10^-12;       //in Amp\n",
"Anoise=1+Rf/Ri;\n",
"Roff=0;\n",
"Vout=(Vos*Anoise)+(Ib*Roff*Anoise+Ib*Rf);\n",
"disp('V',Vout,'Vout');\n",
"//Result"
   ]
   }
,
{
		   "cell_type": "markdown",
		   "metadata": {},
		   "source": [
			"## Example 5.11: Output_drift.sce"
		   ]
		  },
  {
"cell_type": "code",
	   "execution_count": null,
	   "metadata": {
	    "collapsed": true
	   },
	   "outputs": [],
"source": [
"\n",
"//clear//\n",
"//Example5.11:'Output Drift''\n",
"//Page 161\n",
"//figure 5.23\n",
"clear;\n",
"clc;\n",
"Roff=909;           //in Ohm\n",
"Rf=10000;           //in Ohm\n",
"Anoise=11;\n",
"DT=55;      //degree Celsius\n",
"DVbyDT=5*10^-6;      //    V/C\n",
"DInoisebyDT=200*10^-12;            //  A/C\n",
"Vdrift=(DVbyDT*DT*Anoise)+(DInoisebyDT*DT*Rf);\n",
"disp('V',Vdrift,'Vdrift');\n",
"Av=Anoise;\n",
"Vdriftin=Vdrift/Av;\n",
"disp('V',Vdriftin,'Vdriftinput');"
   ]
   }
,
{
		   "cell_type": "markdown",
		   "metadata": {},
		   "source": [
			"## Example 5.12: Output_Voltage.sce"
		   ]
		  },
  {
"cell_type": "code",
	   "execution_count": null,
	   "metadata": {
	    "collapsed": true
	   },
	   "outputs": [],
"source": [
"//Example5.12:'Output '\n",
"//Page 163\n",
"clear;\n",
"clc;\n",
"Av=20;          //in dB\n",
"Vin=-60;        //in dBV\n",
"CMRR=-90;       //in dB\n",
"//for differential input\n",
"Vout=Av+Vin;\n",
"disp('dBV',Vout,'Vout for differential mode input');\n",
"//for common mode input\n",
"Vout1=Vout+CMRR;\n",
"disp('dBV',Vout1,'Vout for common mode signal');\n",
"//This signal is so small that it is overshadowed by noise"
   ]
   }
,
{
		   "cell_type": "markdown",
		   "metadata": {},
		   "source": [
			"## Example 5.13: Ripples_in_output.sce"
		   ]
		  },
  {
"cell_type": "code",
	   "execution_count": null,
	   "metadata": {
	    "collapsed": true
	   },
	   "outputs": [],
"source": [
"//Example5.13:'How much Ripples is seen in output'\n",
"//Page 164\n",
"clear;\n",
"clc;\n",
"PSRR=86;        //in dB\n",
"Vripple=0.5;       //in Volt\n",
"Psrr=10^(PSRR/20);\n",
"disp(Psrr,'PSRR ordinary value');\n",
"Vout=Vripple/Psrr;\n",
"disp('Vpp',Vout,'Vout_ripple ')\n",
"//result//"
   ]
   }
,
{
		   "cell_type": "markdown",
		   "metadata": {},
		   "source": [
			"## Example 5.14: Output_noise_voltage.sce"
		   ]
		  },
  {
"cell_type": "code",
	   "execution_count": null,
	   "metadata": {
	    "collapsed": true
	   },
	   "outputs": [],
"source": [
"//Example5.14:'Output noise voltage''\n",
"//Page 167\n",
"//figure 5.29\n",
"clear;\n",
"clc;\n",
"Rf=99000;       // in Ohm\n",
"Ri=1000;        //in ohm\n",
"Rs=100;        //in ohm\n",
"Av=1+Rf/Ri;\n",
"disp(Av,'Av ordinary value');\n",
"disp(20*log10(Av),'Av dB value');\n",
"Anoise=Av;          //for non inverting amplifier\n",
"Rnoise=Rs+Rf*Ri/(Rf+Ri);\n",
"disp('Ohm',Rnoise,'Rnoise');\n",
"\n",
"T=300;      //Given in degree cel.\n",
"K=1.38*10^-23;      //Boltzmann's constant\n",
"Vind=4*10^-9;       //In V/Hz\n",
"Iind=0.6*10^-12;     //in A/Sqrtof Hz\n",
"eth=(4*K*T*Rnoise)^0.5;      //sqared the \n",
"etot=((Vind^2)+(Iind*Rnoise)^2 +eth^2)^0.5;\n",
"disp('V/(Hz)^0.5',etot,'etotal');\n",
"\n",
"funity=10*10^6;     //in Hz\n",
"f2=funity/Anoise;\n",
"disp('Hz',f2,'f2');\n",
"BWnoise=f2*1.57;\n",
"disp('Hz',BWnoise,'BWnoise');\n",
"\n",
"en=etot*(BWnoise)^0.5;\n",
"disp('V',en,'en');\n",
"\n",
"en_out=en*Anoise;\n",
"disp('V',en_out,'en_out');\n",
"\n",
"//for a nominal output signal of 1V RMS signal to noise ratio is \n",
"signal=1;           //in V\n",
"Noise=en_out;\n",
"S_N=signal/Noise;\n",
"\n",
"disp(S_N,'Signal to Noise ratio ');           //answer in book is approxmately \n",
"disp(20*log10(S_N),'S/N in dB');\n",
"//Result"
   ]
   }
,
{
		   "cell_type": "markdown",
		   "metadata": {},
		   "source": [
			"## Example 5.1: Upper_break_frequency.sce"
		   ]
		  },
  {
"cell_type": "code",
	   "execution_count": null,
	   "metadata": {
	    "collapsed": true
	   },
	   "outputs": [],
"source": [
"//Chapter 5\n",
"//page 135\n",
"//Example no 5-1\n",
"clc;\n",
"clear;\n",
"G=20;       //in dB\n",
"A=10^(G/20);        //Ordinary gain\n",
"GBW=1*10^6;         //in Hz (from datasheet)\n",
"f2=GBW/A;\n",
"printf('Uper break frequency %.0f Hz',f2);"
   ]
   }
,
{
		   "cell_type": "markdown",
		   "metadata": {},
		   "source": [
			"## Example 5.2: Frequency_response.sce"
		   ]
		  },
  {
"cell_type": "code",
	   "execution_count": null,
	   "metadata": {
	    "collapsed": true
	   },
	   "outputs": [],
"source": [
"//Chapter 5\n",
"//page 135\n",
"//Example no 5-2\n",
"//Given \n",
"clc;\n",
"clear;\n",
"Rf=10000;       //in Ohm\n",
"Ri=2000;        //in Ohm\n",
"Av=-Rf/Ri;\n",
"printf('\n Av  = %.0f ',Av);//Result\n",
"Av1=20*log10(-Av);\n",
"printf('\n Av in %.0f bB',Av1);//Result\n",
"//for noise gain \n",
"An=1+Rf/Ri;\n",
"printf('\n Anoise =%.0f ',An);  //Result"
   ]
   }
,
{
		   "cell_type": "markdown",
		   "metadata": {},
		   "source": [
			"## Example 5.3: Minimum_acceptable_funity.sce"
		   ]
		  },
  {
"cell_type": "code",
	   "execution_count": null,
	   "metadata": {
	    "collapsed": true
	   },
	   "outputs": [],
"source": [
"//clear//\n",
"//Example5.3:Finimum acceptable frequency\n",
"//Page 138\n",
"//figure 5.5\n",
"clear;\n",
"clc;\n",
"Rf=20000;      //in Ohms\n",
"Ri=500;         //in Ohms\n",
"f2=50*10^3;        //In Hz\n",
"Anoise=1+(Rf/Ri);\n",
"disp(Anoise,'Anoise');\n",
"funity=Anoise*f2;\n",
"disp('Hz',funity,'funity');\n",
"\n",
"disp('For this application 741 would not be fast enough, therefore 411 would be fine');"
   ]
   }
,
{
		   "cell_type": "markdown",
		   "metadata": {},
		   "source": [
			"## Example 5.4: System_gain_and_upper_break_frequency.sce"
		   ]
		  },
  {
"cell_type": "code",
	   "execution_count": null,
	   "metadata": {
	    "collapsed": true
	   },
	   "outputs": [],
"source": [
"//clear//\n",
"//Example5.4:System gain and upper break frequency\n",
"//Page 140\n",
"//figure 5.6\n",
"clear;\n",
"clc;\n",
"//STAGE 1\n",
"disp('Stage 1');\n",
"Rf1=14000;      //in Ohms\n",
"Ri1=2000;         //in Ohms\n",
"Av1=1+(Rf1/Ri1);\n",
"disp(Av1,'Av');\n",
"Anoise1=1+(Rf1/Ri1);\n",
"disp(Anoise1,'Anoise');\n",
"GBW=1*10^6;         //in Hz (from Datasheet)\n",
"f1=GBW/Anoise1;\n",
"disp(f1,'f2');\n",
"\n",
"//STAGE 2\n",
"disp('Stage 2');\n",
"Rf2=20000;      //in Ohms\n",
"Ri2=10000;         //in Ohms\n",
"Av2=-(Rf2/Ri2);\n",
"disp(Av2,'Av');\n",
"Anoise2=1+(Rf2/Ri2);\n",
"disp(Anoise2,'Anoise');\n",
"GBW=1*10^6;         //in Hz (from Datasheet)\n",
"f2=GBW/Anoise2;\n",
"disp(f2,'f2');\n",
"\n",
"//STAGE 3\n",
"disp('Stage 3');\n",
"Rf3=12000;      //in Ohms\n",
"Ri3=4000;         //in Ohms\n",
"Av3=1+(Rf3/Ri3);\n",
"disp(Av3,'Av');\n",
"Anoise3=1+(Rf3/Ri3);\n",
"disp(Anoise3,'Anoise');\n",
"GBW=1*10^6;         //in Hz (from Datasheet)\n",
"f3=GBW/Anoise3;\n",
"disp(f3,'f2');\n",
"\n",
"//SYSTEM\n",
"Av=Av1*Av2*Av3;\n",
"disp(Av,'Av');\n",
"\n",
"disp('Dominant break frequency here is 125kHz');\n",
"GBW=f1*64;\n",
"disp(GBW,'Gain bandwidth product is');"
   ]
   }
,
{
		   "cell_type": "markdown",
		   "metadata": {},
		   "source": [
			"## Example 5.5: System_gain_and_upper_break.sce"
		   ]
		  },
  {
"cell_type": "code",
	   "execution_count": null,
	   "metadata": {
	    "collapsed": true
	   },
	   "outputs": [],
"source": [
"//clear//\n",
"//Example5.5:System gain and upper break frequency\n",
"//Page 142\n",
"clear;\n",
"clc;\n",
"Anoise=10;\n",
"funity=4*10^6;          //in Hz\n",
"f2=funity/Anoise;\n",
"disp(f2,'f2');\n",
"n=3;\n",
"f2_system=f2*(2^(1/n)-1)^0.5;\n",
"disp(f2_system,'f2_system');"
   ]
   }
,
{
		   "cell_type": "markdown",
		   "metadata": {},
		   "source": [
			"## Example 5.6: Upper_break_requency.sce"
		   ]
		  },
  {
"cell_type": "code",
	   "execution_count": null,
	   "metadata": {
	    "collapsed": true
	   },
	   "outputs": [],
"source": [
"//clear//\n",
"//Example5.6:design a circuit with upper break frequency\n",
"//Page 142\n",
"clear;\n",
"clc;\n",
"Av1=26;     //in dB\n",
"Av=20;      //ordinary gain\n",
"f2=500*10^3;    //in Hz\n",
"\n",
"funity=f2*Av;    //(Anoise=Av for non inverting terminal)\n",
"disp('Hz',funity,'funity')\n",
"//411 has funity =4MHZ ,therefore atleast 2 stages would be required\n",
"//Stage 1\n",
"f411=4*10^6;            //in hz\n",
"Av1=f411/f2;\n",
" disp(Av1,'Av');\n",
"//To achive gain of 20 second stage should have gain of atleast Av2=2.5\n",
"Av2=2.5;\n",
"f2=f411/Av2;\n",
"disp('Hz',f2,'f2');"
   ]
   }
,
{
		   "cell_type": "markdown",
		   "metadata": {},
		   "source": [
			"## Example 5.7: Does_slewing_occur.sce"
		   ]
		  },
  {
"cell_type": "code",
	   "execution_count": null,
	   "metadata": {
	    "collapsed": true
	   },
	   "outputs": [],
"source": [
"//clear//\n",
"//Example5.7:'is 741's power bandwith atleast 3kHz''\n",
"//Page 148\n",
"//figure 5.6\n",
"clear;\n",
"clc;\n",
"slewrate=0.5/10^-6;       // in V/S\n",
"Vp=12;      //in Volts\n",
"fmax=slewrate/(2*%pi*Vp);\n",
"disp('Hz',fmax,'Fmax');\n",
"//Result"
   ]
   }
,
{
		   "cell_type": "markdown",
		   "metadata": {},
		   "source": [
			"## Example 5.8: Minimum_acceptable_slew_rate.sce"
		   ]
		  },
  {
"cell_type": "code",
	   "execution_count": null,
	   "metadata": {
	    "collapsed": true
	   },
	   "outputs": [],
"source": [
"//clear//\n",
"//Example5.8:'minimum acceptable rate for 741''\n",
"//Page 149\n",
"//figure 5.6\n",
"clear;\n",
"clc;\n",
"fmax=20000;     //in Hz\n",
"Vp=10;      //in Volts\n",
"slewrate=fmax*(2*%pi*Vp);\n",
"disp('V/S',slewrate,'Slew rate ');\n",
"///Result in V/S"
   ]
   }
,
{
		   "cell_type": "markdown",
		   "metadata": {},
		   "source": [
			"## Example 5.9: Calculate_new_offset.sce"
		   ]
		  },
  {
"cell_type": "code",
	   "execution_count": null,
	   "metadata": {
	    "collapsed": true
	   },
	   "outputs": [],
"source": [
"//clear//\n",
"//Example5.9:'Typical offset voltage''\n",
"//Page 157\n",
"//figure 5.9\n",
"clear;\n",
"clc;\n",
"Rf=10000;       // in Ohm\n",
"Ri=1000;        //in ohm\n",
"Roff=0;         //in ohm\n",
"Anoise=1+Rf/Ri;\n",
"disp(Anoise,'Anoise');\n",
"Vos=0.5*10^-3;      //in Volt\n",
"Ios=10*10^-9;       //in Amp\n",
"Ib=800*10^-9;       //in Amp\n",
"Vout=(Vos*Anoise)+(Ib*Roff*Anoise+Ib*Rf);\n",
"disp('V',Vout,'Vout');\n",
"\n",
"Roff=Ri*Rf/(Rf+Ri);\n",
"Vout=(Vos*Anoise)+(Ios*Rf);\n",
"disp('V',Vout,'Vout_offset');\n",
"//result"
   ]
   }
],
"metadata": {
		  "kernelspec": {
		   "display_name": "Scilab",
		   "language": "scilab",
		   "name": "scilab"
		  },
		  "language_info": {
		   "file_extension": ".sce",
		   "help_links": [
			{
			 "text": "MetaKernel Magics",
			 "url": "https://github.com/calysto/metakernel/blob/master/metakernel/magics/README.md"
			}
		   ],
		   "mimetype": "text/x-octave",
		   "name": "scilab",
		   "version": "0.7.1"
		  }
		 },
		 "nbformat": 4,
		 "nbformat_minor": 0
}
