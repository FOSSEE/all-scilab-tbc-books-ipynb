{
"cells": [
 {
		   "cell_type": "markdown",
	   "metadata": {},
	   "source": [
       "# Chapter 10: Integrators and Differentiators"
	   ]
	},
{
		   "cell_type": "markdown",
		   "metadata": {},
		   "source": [
			"## Example 10.1: vout_and_lower_frequency_range.sce"
		   ]
		  },
  {
"cell_type": "code",
	   "execution_count": null,
	   "metadata": {
	    "collapsed": true
	   },
	   "outputs": [],
"source": [
"//chapter 10\n",
"//Vout and lower frequency\n",
"//page no.  354\n",
"//Example10_1\n",
"//Figure 10.7\n",
"//Given\n",
"clc;\n",
"clear;\n",
"t=0;\n",
"Ri=10000;           //in Ohm\n",
"C=10^-8;           //in farad\n",
"Rf=100000;           //in Ohm\n",
"//Vout(t)=-1/(Ri*C)*int(Vi(t))dt\n",
"Flow=1/(2*%pi*Rf*C);\n",
"printf('\n Flow is %.0f Hz',Flow);"
   ]
   }
,
{
		   "cell_type": "markdown",
		   "metadata": {},
		   "source": [
			"## Example 10.2: Output.sce"
		   ]
		  },
  {
"cell_type": "code",
	   "execution_count": null,
	   "metadata": {
	    "collapsed": true
	   },
	   "outputs": [],
"source": [
"//chapter 10\n",
"//Vout \n",
"//page no.  356\n",
"//Example10_2\n",
"//Figure 10.7\n",
"//Given\n",
"clc;\n",
"clear;\n",
"step=0.1;\n",
"t=0:step:10;\n",
"disp('Answer is coming interm of t so solution is done by graph');\n",
"//x=1;\n",
"//f=5000;\n",
"x0=-1.6;x1=0:0.1:10;\n",
"Vin=sin(t);\n",
"\n",
"xtitle('Sin(x)','t')\n",
"X=integrate('sin(t)','t',x0,x1);\n",
"Ri=10000;           //in Ohm\n",
"C=10^-8;           //in farad\n",
"Rf=100000;           //in Ohm\n",
"Vout=-0.318*X;\n",
"clf;\n",
"plot(t,Vin,t,Vout);\n",
"xtitle('Input(Blue) / Output(Green)','t','V');"
   ]
   }
,
{
		   "cell_type": "markdown",
		   "metadata": {},
		   "source": [
			"## Example 10.3: Output_of_the_circuit.sce"
		   ]
		  },
  {
"cell_type": "code",
	   "execution_count": null,
	   "metadata": {
	    "collapsed": true
	   },
	   "outputs": [],
"source": [
"//Chapter 10\n",
"//Sketch the output Waveform \n",
"//page no.  358\n",
"//Example10_3\n",
"//Figure 10.7\n",
"//Given\n",
"clc;\n",
"clear; \n",
"T0=4;\n",
"t=-5.99:0.01:6;\n",
"t_temp=0.01:0.01:T0/4;\n",
"s=length(t)/length(t_temp);\n",
"dx=[];\n",
"x=[];\n",
"for i=1:s\n",
"    if modulo(i,2)==1  then\n",
"        dx=[dx -ones(1,length(t_temp))];\n",
"        x=[x .1*t_temp($:-1:1)];\n",
"    else\n",
"        dx=[dx ones(1,length(t_temp))];\n",
"        x=[x .1*t_temp]; \n",
"    end\n",
"end\n",
"clf();\n",
"subplot(1,2,2)\n",
"plot(50*t,10*x-0.5,8)\n",
"xtitle('Output Waveform','Microsecond','V');\n",
"t=-30:0.01:30;\n",
"subplot(1,2,1);\n",
"plot('onn',10*t,[2*squarewave(2*t/(%pi),50)])\n",
"xtitle('Input Waveform','Microsecond','V');\n",
"\n",
"\n",
""
   ]
   }
,
{
		   "cell_type": "markdown",
		   "metadata": {},
		   "source": [
			"## Example 10.4: Integrator_connected_to_accelerometer.sce"
		   ]
		  },
  {
"cell_type": "code",
	   "execution_count": null,
	   "metadata": {
	    "collapsed": true
	   },
	   "outputs": [],
"source": [
"//chapter 10\n",
"//Vout \n",
"//page no.  359\n",
"//Figure 10.11a\n",
"//Given\n",
"clc;\n",
"clear;\n",
"Rf=400000;           //in Ohm\n",
"C=20*10^-9;           //in farad\n",
"flow=1/(2*%pi*Rf*C);\n",
"printf('\n Flow = %.1f Hz',flow);\n",
"Ri=15000;           //in Ohm\n",
"//integration\n",
"function Vin=f(t),Vin=.6,endfunction\n",
"exact=-2.5432596188;\n",
"I=intg(0,10^-3,f)\n",
"\n",
"Vout=-1*I/Ri/C;\n",
"printf('\n Vout(t) = %.1f V',Vout);//Result\n",
"\n",
"//Graph\n",
"t=(0:0.001:6);\n",
"V=Vout*ones(1:0.001:4);\n",
"\n",
"for i=0.001:0.001:1-.001\n",
"    V=[Vout*(1-i) V Vout*(1-i)]\n",
"end\n",
"\n",
"V=[V zeros(5.001:0.001:6)]\n",
"V=[2 V 0]\n",
"clf;\n",
"plot(t,V)\n",
"xgrid;\n",
"xtitle('Integrator output','$t$','$Voltage$')"
   ]
   }
,
{
		   "cell_type": "markdown",
		   "metadata": {},
		   "source": [
			"## Example 10.5: Range_for_differentiation.sce"
		   ]
		  },
  {
"cell_type": "code",
	   "execution_count": null,
	   "metadata": {
	    "collapsed": true
	   },
	   "outputs": [],
"source": [
"//Chapter 10\n",
"//range of Differentiation & Sketch the output Waveform \n",
"//page no.  365\n",
"//Example10_5\n",
"//Figure 10.19\n",
"//Given\n",
"clc;\n",
"clear;\n",
"Ri=100;           //in Ohm\n",
"Ci=10^-8;           //in farad\n",
"Rf=5000;           //in Ohm\n",
"Cf=10^-10;           //in farad\n",
"fhf=1/(2*%pi*Rf*Cf);\n",
"fh_in=1/(2*%pi*Ri*Ci);\n",
"printf('\n Fhigh(f dbk)=%.0f Hz',fhf);\n",
"printf('\n Fhigh(in)=%.0f Hz',fh_in);\n",
"//graph is drawn taking function sin(t) \n",
"t=[0:0.01:15];\n",
"Vi=sin(t);\n",
"plot(2*Vi);\n",
"plot(diff(-1.885*100*Vi));\n",
"xtitle('Partial Differentiator of sin(t)','t','V');\n",
"\n",
"xgrid;"
   ]
   }
,
{
		   "cell_type": "markdown",
		   "metadata": {},
		   "source": [
			"## Example 10.6: Output_Waveform.sce"
		   ]
		  },
  {
"cell_type": "code",
	   "execution_count": null,
	   "metadata": {
	    "collapsed": true
	   },
	   "outputs": [],
"source": [
"//Chapter 10\n",
"//Sketch the output Waveform \n",
"//page no.  368\n",
"//Example10_6\n",
"//Figure 10.19\n",
"//Given\n",
"clc;\n",
"clear;\n",
"Rf=5000;           //in Ohm\n",
"C=10^-8;           //in farad\n",
"\n",
"f=4000;            //in KHz\n",
"T=1/f;\n",
"printf('\n T = %.6f second',T);\n",
"S=6/(125*10^-6);\n",
"printf('\n Slope = %.0f V/S',S);\n",
"//graph\n",
"step=1;\n",
"t=0:step:1;\n",
"Vin=S*t;\n",
"dy=diff(S*t/step); //approximate differentiation of sine function\n",
"\n",
"Vout=-Rf*C*dy;\n",
"printf('\n Vou(t) = %.1f V',Vout);\n",
"\n",
"T0=4;\n",
"t=-5.99:0.01:6;\n",
"t_temp=0.01:0.01:T0/2;\n",
"s=length(t)/length(t_temp);\n",
"dx=[];\n",
"x=[];\n",
"for i=1:s\n",
"    if modulo(i,2)==1  then\n",
"        dx=[dx -ones(1,length(t_temp))];\n",
"        x=[x .5*t_temp($:-1:1)];\n",
"    else\n",
"        dx=[dx ones(1,length(t_temp))];\n",
"        x=[x .5*t_temp]; \n",
"    end\n",
"end\n",
"//figure\n",
"\n",
"subplot (1,1,1)\n",
"plot(t,3-6*x,'b',t,2.4*dx,'r')\n",
"xtitle('Input(b) and Output(r)','t','V')"
   ]
   }
,
{
		   "cell_type": "markdown",
		   "metadata": {},
		   "source": [
			"## Example 10.7: Sketch_the_output_wave_form.sce"
		   ]
		  },
  {
"cell_type": "code",
	   "execution_count": null,
	   "metadata": {
	    "collapsed": true
	   },
	   "outputs": [],
"source": [
"//Chapter 10\n",
"//Sketch the output Waveform \n",
"//page no.  370\n",
"//Example10_7\n",
"//Figure 10.23\n",
"//Given\n",
"clc;\n",
"clear;\n",
"f=4;            //in KHz\n",
"T=1/f;\n",
"S=5*10^6;\n",
"step=1;\n",
"t=0:step:1;\n",
"Vin=S*t;\n",
"printf('\n Vin(t) = %.0f*t',S);\n",
"Rf=5000;           //in Ohm\n",
"C=10^-8;           //in farad\n",
"dy=diff(S*t/step); //approximate differentiation of sine function\n",
"Vout=-Rf*C*dy;\n",
"printf('\n Vou(t) = %.0f V',Vout);\n",
"t=(0:0.1:5*%pi)';\n",
"plot(t,3*squarewave(t));\n",
"xtitle('Output Wave form','t','V');\n",
"xtitle('Input(b) and Output(r)','t');"
   ]
   }
,
{
		   "cell_type": "markdown",
		   "metadata": {},
		   "source": [
			"## Example 10.8: LVDT.sce"
		   ]
		  },
  {
"cell_type": "code",
	   "execution_count": null,
	   "metadata": {
	    "collapsed": true
	   },
	   "outputs": [],
"source": [
"//Chapter 10\n",
"//Sketch the output Waveform \n",
"//page no.  370\n",
"//Example10_8\n",
"//Figure 10.24a\n",
"//Given\n",
"clc;\n",
"clear;\n",
"Ri=250;           //in Ohm\n",
"Ci=0.5*10^-6;           //in farad\n",
"Rf=40000;           //in Ohm\n",
"Cf=2*10^-9;           //in farad\n",
"fhf=1/(2*%pi*Rf*Cf);\n",
"fh_in=1/(2*%pi*Ri*Ci);\n",
"printf('\n Fhigh(f dbk)=%.0f Hz',fhf);\n",
"printf('\n Fhigh(in)=%.0f Hz',fh_in);\n",
"//\n",
"\n",
"S=10;           //in V/S\n",
"step=1;\n",
"disp(S,'For slope')\n",
"t=0:step:1;\n",
"Vin=10*t;\n",
"dy=diff(S*t/step); //approximate differentiation of sine function\n",
"Vout=-Rf*Ci*dy;\n",
"printf('\n Vout(t) = %.1f V',Vout);\n",
"//\n",
"Slope=-4/0.2;           //in V/S\n",
"step=1;\n",
"disp(Slope,'For slope')\n",
"t=0:step:1;\n",
"Vin=10*t;\n",
"dy=diff(Slope*t/step); //approximate differentiation of sine function\n",
"Vout2=-Rf*Ci*dy;\n",
"printf('\n Vout(t) = %.1f V',Vout2);\n",
"//graph\n",
"t=(0:0.0001:1.5);\n",
"V=Vout*ones(0:0.0001:.2);\n",
"V=[V zeros(.2+.0001:0.0001:.5-.0001)];\n",
"V=[V Vout2*ones(.5:0.0001:.7)];\n",
"V=[V zeros(.7+.0001:0.0001:1-.0001)];\n",
"V=[V Vout*ones(1:0.0001:1.2)];\n",
"V=[V zeros(1.2+.0001:.0001:1.5)]\n",
"clf;\n",
"plot(t,V)\n",
"\n",
"xtitle('Differentiator output','$t$','$Voltage$')"
   ]
   }
],
"metadata": {
		  "kernelspec": {
		   "display_name": "Scilab",
		   "language": "scilab",
		   "name": "scilab"
		  },
		  "language_info": {
		   "file_extension": ".sce",
		   "help_links": [
			{
			 "text": "MetaKernel Magics",
			 "url": "https://github.com/calysto/metakernel/blob/master/metakernel/magics/README.md"
			}
		   ],
		   "mimetype": "text/x-octave",
		   "name": "scilab",
		   "version": "0.7.1"
		  }
		 },
		 "nbformat": 4,
		 "nbformat_minor": 0
}
