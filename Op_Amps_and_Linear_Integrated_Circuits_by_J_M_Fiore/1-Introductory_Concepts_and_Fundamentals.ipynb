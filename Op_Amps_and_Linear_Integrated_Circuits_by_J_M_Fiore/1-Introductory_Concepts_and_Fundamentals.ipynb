{
"cells": [
 {
		   "cell_type": "markdown",
	   "metadata": {},
	   "source": [
       "# Chapter 1: Introductory Concepts and Fundamentals"
	   ]
	},
{
		   "cell_type": "markdown",
		   "metadata": {},
		   "source": [
			"## Example 1.10: Value_in_dBV.sce"
		   ]
		  },
  {
"cell_type": "code",
	   "execution_count": null,
	   "metadata": {
	    "collapsed": true
	   },
	   "outputs": [],
"source": [
"// Chapter 1\n",
"//Output power \n",
"//page 18\n",
"//Example no 1-10\n",
"//Given\n",
"clc;\n",
"V=2;      // in V\n",
"Ref=1;   // in V\n",
"V1=20*log10(V/Ref);\n",
"printf('\n The value in dBV is %.2f dBV\n',V1);// Result\n",
""
   ]
   }
,
{
		   "cell_type": "markdown",
		   "metadata": {},
		   "source": [
			"## Example 1.11: Output_signal_in_dBV.sce"
		   ]
		  },
  {
"cell_type": "code",
	   "execution_count": null,
	   "metadata": {
	    "collapsed": true
	   },
	   "outputs": [],
"source": [
"// Chapter 1\n",
"//Output signal\n",
"//page 19\n",
"//Example no 1-11\n",
"//Given\n",
"clc;\n",
"clear;\n",
"Vin=-42;  // in dBV \n",
"Av=35;      //in dBV\n",
"Vout=Vin+Av;\n",
"printf('\n The output signal is %.0f dBV \n',Vout);// Result"
   ]
   }
,
{
		   "cell_type": "markdown",
		   "metadata": {},
		   "source": [
			"## Example 1.12: The_gain_of_amplifier_in_dB.sce"
		   ]
		  },
  {
"cell_type": "code",
	   "execution_count": null,
	   "metadata": {
	    "collapsed": true
	   },
	   "outputs": [],
"source": [
"// Chapter 1\n",
"// Gain of the amplifier\n",
"//page 19\n",
"//Example no 1-12\n",
"//Given\n",
"clc;\n",
"Pin1=20;     //in dBm\n",
"Pin=-10;        //in dBW\n",
"Pout=25;        //in dBW\n",
"G=Pout-Pin;\n",
"printf('\n The gain of amplifer is %.0f dB',G);// Result"
   ]
   }
,
{
		   "cell_type": "markdown",
		   "metadata": {},
		   "source": [
			"## Example 1.13: Gain_lost_at_10_Hz.sce"
		   ]
		  },
  {
"cell_type": "code",
	   "execution_count": null,
	   "metadata": {
	    "collapsed": true
	   },
	   "outputs": [],
"source": [
"// Chapter 1\n",
"//Gain lost\n",
"//page 23\n",
"//Example no 1-13\n",
"//Given\n",
"clc;\n",
"clear;\n",
"fc=40;  //in Hz\n",
"f=10;   //in Hz\n",
"Av=-10*log10(1+(fc^2)/(f^2));\n",
"printf('\n Gain lost is %.1f dB',Av);// Result"
   ]
   }
,
{
		   "cell_type": "markdown",
		   "metadata": {},
		   "source": [
			"## Example 1.14: Phase_Response.sce"
		   ]
		  },
  {
"cell_type": "code",
	   "execution_count": null,
	   "metadata": {
	    "collapsed": true
	   },
	   "outputs": [],
"source": [
"// Chapter 1\n",
"//Phase response\n",
"//page 14\n",
"//Example no 1-14\n",
"//Given\n",
"clc;\n",
"fc=120;          // in Hz\n",
"fc1=1200;       // in Hz\n",
"fc2=12;         // in Hz\n",
"w1=atan(fc/fc2);\n",
"printf('\n W1 = %.1f degrees one decade below fc\n ',w1*180/%pi);// Result\n",
"w2=atan(fc/fc1);\n",
"printf('\n W2 = %.2f degrees one decade below fc\n',w2*180/%pi);// Result\n",
"\n",
""
   ]
   }
,
{
		   "cell_type": "markdown",
		   "metadata": {},
		   "source": [
			"## Example 1.15: Gain_and_phase_values_at_1600000_Hz.sce"
		   ]
		  },
  {
"cell_type": "code",
	   "execution_count": null,
	   "metadata": {
	    "collapsed": true
	   },
	   "outputs": [],
"source": [
"// Chapter 1\n",
"//page 15\n",
"//Example no 1-15\n",
"//Given\n",
"clc;\n",
"f=1.6*10^6;        //in Hz\n",
"fc=150*10^3;            //in Hz\n",
"Av=-10*log10(1+(f^2)/(fc^2));\n",
"printf('\n The Gain is %.1f dB \n ',Av);// Result\n",
"w=-(%pi/2)+atan(fc/f);\n",
"printf('\n Phase value is  %.1f degree',w*180/%pi);// Result"
   ]
   }
,
{
		   "cell_type": "markdown",
		   "metadata": {},
		   "source": [
			"## Example 1.16: The_rise_time_for_Lag_network.sce"
		   ]
		  },
  {
"cell_type": "code",
	   "execution_count": null,
	   "metadata": {
	    "collapsed": true
	   },
	   "outputs": [],
"source": [
"// Chapter 1\n",
"//Rise time\n",
"//page 29\n",
"//Example no 1-16\n",
"//Given\n",
"clc;\n",
"//f2=0.35/Tr;\n",
"f2=100*10^3;        //in kHz \n",
"Tr=0.35/f2;\n",
"printf('\n The rise time for 90 degree lag network is %.7f sec',Tr);// Result"
   ]
   }
,
{
		   "cell_type": "markdown",
		   "metadata": {},
		   "source": [
			"## Example 1.17: Bode_gain_plot.sce"
		   ]
		  },
  {
"cell_type": "code",
	   "execution_count": null,
	   "metadata": {
	    "collapsed": true
	   },
	   "outputs": [],
"source": [
"//Chapter 1\n",
"//page 30\n",
"//Example no 1-17\n",
"//figure 1.15\n",
"//Given \n",
"clc;\n",
"clear;\n",
"Avmidband=26;\n",
"f=(100:.5:40000+.5);\n",
"\n",
"Av=[Avmidband*ones(200+.5:.5:10000-.5)];\n",
"for i=0:6/200:6\n",
"Av=[Avmidband-i Av]\n",
"end\n",
"for i=0:12/40000:12\n",
"Av=[Av Avmidband-i]\n",
"end\n",
"for i=0:6/20000:6\n",
"Av=[Av Avmidband-12-i]\n",
"end\n",
"x=ones(Av)\n",
"clf\n",
"gainplot(f,x)\n",
"plot(f,Av)\n",
"title('Gainplot for complete amplifier')\n",
""
   ]
   }
,
{
		   "cell_type": "markdown",
		   "metadata": {},
		   "source": [
			"## Example 1.18: Find_current_in_the_circuit.sce"
		   ]
		  },
  {
"cell_type": "code",
	   "execution_count": null,
	   "metadata": {
	    "collapsed": true
	   },
	   "outputs": [],
"source": [
"// Chapter 1\n",
"//page 34\n",
"//Example no 1-18\n",
"//figure 1.19\n",
"//tail current \n",
"//Given\n",
"clc;\n",
"Vcc=20;     //in Volt\n",
"Rc=3000;        //in Ohm\n",
"Rb=5000;        //in ohm\n",
"Rt=2000;        //in Ohm\n",
"Vee=10;        //in Volt\n",
"It=(Vee-0.7)/Rt;\n",
"printf('\n It =%.5f Amp\n ',It);// Result\n",
"//Ie1=Ie2=It/2\n",
"Ic=It/2;\n",
"Vc=Vcc-Ic*Rc;\n",
"printf('\n Collector voltage is %.3f V\n ',Vc);// Result\n",
"B=100;      //Assumumption\n",
"Ib=Ic/B;\n",
"printf('\n Ib %.8f Amp\n ',Ib);// Result\n",
"Vb=-Ib*Rb;\n",
"printf('\n Base Voltage %.5f V\n ',Vb);// Result\n",
"\n",
""
   ]
   }
,
{
		   "cell_type": "markdown",
		   "metadata": {},
		   "source": [
			"## Example 1.19: Find_input_output_voltage_gains.sce"
		   ]
		  },
  {
"cell_type": "code",
	   "execution_count": null,
	   "metadata": {
	    "collapsed": true
	   },
	   "outputs": [],
"source": [
"//Chapter 1\n",
"//page 40\n",
"//Example no 1-19\n",
"//Determine single ended  output\n",
"//figure 1.20\n",
"//Given\n",
"clc;\n",
"Vcc=15;     //in Volt\n",
"Rc=8000;        //in Ohm\n",
"re=30;        //in ohm\n",
"Rt=10000;        //in Ohm\n",
"Vee=8;        //in Volt\n",
"It=(Vee-0.7)/Rt;\n",
"printf('\n It =%.5f Amp \n',It);// Result\n",
"Ie=It/2;\n",
"re1=(26*10^-3)/Ie;\n",
"printf('\n re1 =%.1f \n',re1);// Result\n",
"//for single ended output gain\n",
"Av=Rc/(2*(re1+re));\n",
"printf('\n Single output gain is %.1f \n',Av);// Result\n",
"printf('\n The diferential output gain is twice Av i.e. %.0f ',2*Av);// Result"
   ]
   }
,
{
		   "cell_type": "markdown",
		   "metadata": {},
		   "source": [
			"## Example 1.1: Decibel_power_gai.sce"
		   ]
		  },
  {
"cell_type": "code",
	   "execution_count": null,
	   "metadata": {
	    "collapsed": true
	   },
	   "outputs": [],
"source": [
"//Chapter 1\n",
"//Decibel Power gain\n",
"//page 14\n",
"//Example no 1-1\n",
"//Given\n",
"clc;\n",
"clear; \n",
"G=800;      \n",
"G1=10*log10(G);\n",
"printf('\n The decibel power gain,G= %.2f dB\n',G1); // Result\n",
""
   ]
   }
,
{
		   "cell_type": "markdown",
		   "metadata": {},
		   "source": [
			"## Example 1.2: Loss_in_dB.sce"
		   ]
		  },
  {
"cell_type": "code",
	   "execution_count": null,
	   "metadata": {
	    "collapsed": true
	   },
	   "outputs": [],
"source": [
"// Chapter 1\n",
"//Loss expressed\n",
"//page 14\n",
"//Example no 1-2\n",
"//Given\n",
"clc;\n",
"G=1/10000;      \n",
"G1=10*log10(G);\n",
"printf('\n The decibel power gain = %.0f dB\n',G1); // Result"
   ]
   }
,
{
		   "cell_type": "markdown",
		   "metadata": {},
		   "source": [
			"## Example 1.3: Ordinary_power_gain.sce"
		   ]
		  },
  {
"cell_type": "code",
	   "execution_count": null,
	   "metadata": {
	    "collapsed": true
	   },
	   "outputs": [],
"source": [
"// Chapter 1\n",
"//Ordinary power gain\n",
"//page 15\n",
"//Example no 1-3\n",
"//Given\n",
"clc;\n",
"G1=23;      //in dB      \n",
"G=10^(G1/10);\n",
"printf('\n The ordinary power gain is %.4f  \n',G);   // Result\n",
"Pin=10^-3;      //in mW\n",
"Pout=Pin*G;\n",
"printf('\n The output power is %.4f mW \n',Pout);   // Result"
   ]
   }
,
{
		   "cell_type": "markdown",
		   "metadata": {},
		   "source": [
			"## Example 1.4: Total_dB_gai.sce"
		   ]
		  },
  {
"cell_type": "code",
	   "execution_count": null,
	   "metadata": {
	    "collapsed": true
	   },
	   "outputs": [],
"source": [
"// Chapter 1\n",
"// Total gain \n",
"//page 15\n",
"//Example no 1-4\n",
"//Given\n",
"clc;\n",
"G1=10;      //in dB      \n",
"G2=16;      //in dB      \n",
"G3=14;      //in dB      \n",
"Gt=G1+G2+G3;  //total gain\n",
"printf('\n The ordinary power gain %.0f \n',Gt);   // Result\n",
""
   ]
   }
,
{
		   "cell_type": "markdown",
		   "metadata": {},
		   "source": [
			"## Example 1.5: Gai.sce"
		   ]
		  },
  {
"cell_type": "code",
	   "execution_count": null,
	   "metadata": {
	    "collapsed": true
	   },
	   "outputs": [],
"source": [
"// Chapter 1\n",
"//Ordinary Gain \n",
"//page 16\n",
"//Example no 1-5\n",
"//Given\n",
"clc;\n",
"Ao=2;       //in Volt\n",
"Ai=50;       // in milliVolt\n",
"Ai1=0.05;       //input in Volt\n",
"Av=Ao/Ai1;\n",
"printf('\n The ordinary power gain %.0f \n ',Av); // Result\n",
"Av1=20*log10(Av);\n",
"printf('\n The power gain is %.2f dB\n',Av1);// Result\n",
"\n",
"\n",
""
   ]
   }
,
{
		   "cell_type": "markdown",
		   "metadata": {},
		   "source": [
			"## Example 1.6: Output_gain.sce"
		   ]
		  },
  {
"cell_type": "code",
	   "execution_count": null,
	   "metadata": {
	    "collapsed": true
	   },
	   "outputs": [],
"source": [
"// Chapter 1\n",
"//Amplifier Gain\n",
"//page 17\n",
"//Example no 1-6\n",
"//Given\n",
"clc;\n",
"G1=26;      //in dB    \n",
"Vin=0.01;  //in volt  \n",
"G=10^(G1/20);\n",
"printf('\n The ordinary power gain %.2f \n',G);  // Result\n",
"Vout=Vin*G;\n",
"printf('\n The output voltage is %.4f  V\n',Vout);    // Result\n",
""
   ]
   }
,
{
		   "cell_type": "markdown",
		   "metadata": {},
		   "source": [
			"## Example 1.7: Power_in_dBW.sce"
		   ]
		  },
  {
"cell_type": "code",
	   "execution_count": null,
	   "metadata": {
	    "collapsed": true
	   },
	   "outputs": [],
"source": [
"// Chapter 1\n",
"//Power vin dBW\n",
"//page 17\n",
"//Example no 1-7\n",
"//Given\n",
"clc;\n",
"P=120;      //in Watt     \n",
"P1=10*log10(P);\n",
"printf('\n The ordinary power gain %.1f dBW \n',P1);            //Result"
   ]
   }
,
{
		   "cell_type": "markdown",
		   "metadata": {},
		   "source": [
			"## Example 1.8: Output_power_in_dBW_and_dBm.sce"
		   ]
		  },
  {
"cell_type": "code",
	   "execution_count": null,
	   "metadata": {
	    "collapsed": true
	   },
	   "outputs": [],
"source": [
"// Chapter 1\n",
"//Output power in dBW \n",
"//page 18\n",
"//Example no 1-8\n",
"//Given\n",
"clc;\n",
"clear;\n",
"P=0.200;      //in Watt     \n",
"P1=10*log10(P/1);\n",
"printf('\n The ordinary power gain %.0f dBW \n',P1);// Result\n",
"P=200;      //in mW\n",
"P1=10*log10(P/1);\n",
"printf('\n The ordinary power gain %.0f dBm \n',P1);// Result\n",
"\n",
""
   ]
   }
,
{
		   "cell_type": "markdown",
		   "metadata": {},
		   "source": [
			"## Example 1.9: Output_power_in_watts.sce"
		   ]
		  },
  {
"cell_type": "code",
	   "execution_count": null,
	   "metadata": {
	    "collapsed": true
	   },
	   "outputs": [],
"source": [
"// Chapter 1\n",
"//Output power in Watt\n",
"//page 18\n",
"//Example no 1-9\n",
"//Given\n",
"clc;\n",
"P1=12;      // in dBw\n",
"Ref=1;   // in mW\n",
"P=10^(P1*Ref/10);\n",
"printf('\n The ordinary power gain %.1f mW \n',P);    // Result\n",
""
   ]
   }
],
"metadata": {
		  "kernelspec": {
		   "display_name": "Scilab",
		   "language": "scilab",
		   "name": "scilab"
		  },
		  "language_info": {
		   "file_extension": ".sce",
		   "help_links": [
			{
			 "text": "MetaKernel Magics",
			 "url": "https://github.com/calysto/metakernel/blob/master/metakernel/magics/README.md"
			}
		   ],
		   "mimetype": "text/x-octave",
		   "name": "scilab",
		   "version": "0.7.1"
		  }
		 },
		 "nbformat": 4,
		 "nbformat_minor": 0
}
