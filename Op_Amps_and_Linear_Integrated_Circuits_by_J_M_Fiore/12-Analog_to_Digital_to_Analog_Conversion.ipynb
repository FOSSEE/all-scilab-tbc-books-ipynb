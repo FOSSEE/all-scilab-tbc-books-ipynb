{
"cells": [
 {
		   "cell_type": "markdown",
	   "metadata": {},
	   "source": [
       "# Chapter 12: Analog to Digital to Analog Conversion"
	   ]
	},
{
		   "cell_type": "markdown",
		   "metadata": {},
		   "source": [
			"## Example 12.1: determine_the_resolution.sce"
		   ]
		  },
  {
"cell_type": "code",
	   "execution_count": null,
	   "metadata": {
	    "collapsed": true
	   },
	   "outputs": [],
"source": [
"// Chapter 12\n",
"// Resolution of System\n",
"// Page.No-445\n",
"// Example12_1\n",
"// Given\n",
"clear;clc;\n",
"V=2;            //in V\n",
"Bits=12;\n",
"levels=2^Bits;       //12 bit words\n",
"step=V/levels;\n",
"printf('\n The system can resolve = %.6f V\n',step); // Result\n",
"Drange=20*log10(levels);\n",
"printf('\n The Dynamic Range is = %.0f dB\n',Drange); // Result\n",
"\n",
"DR=6*Bits;\n",
"printf('\n The Dynamic Range is approx (6dB * no.of bits),i.e. = %.0f dB\n',DR); // Result\n",
""
   ]
   }
,
{
		   "cell_type": "markdown",
		   "metadata": {},
		   "source": [
			"## Example 12.2: Determine_the_step_size.sce"
		   ]
		  },
  {
"cell_type": "code",
	   "execution_count": null,
	   "metadata": {
	    "collapsed": true
	   },
	   "outputs": [],
"source": [
"// Chapter 12\n",
"// Step size\n",
"// Page.No-446\n",
"// Example12_2\n",
"// Given\n",
"clear;clc;\n",
"Bits=16;\n",
"V=0.775;            //in V\n",
"Vp=1.550;            //in Vp_p\n",
"levels=2^Bits;       //12 bit words\n",
"DR=6*Bits;\n",
"printf('\n The Dynamic Range is  = %.0f dB\n',DR); // \n",
"step=Vp/levels;\n",
"printf('\n The system can resolve = %.8f V\n',step); // Result"
   ]
   }
,
{
		   "cell_type": "markdown",
		   "metadata": {},
		   "source": [
			"## Example 12.3: sampling_rates_and_no_of_bits.sce"
		   ]
		  },
  {
"cell_type": "code",
	   "execution_count": null,
	   "metadata": {
	    "collapsed": true
	   },
	   "outputs": [],
"source": [
"// Chapter 12\n",
"// Minimum acceptable frquency range\n",
"// Page.No-448\n",
"// Example_12_3\n",
"// Given\n",
"clear;clc;\n",
"DR=50;              //in dB\n",
"Bits=DR/6;  \n",
"printf('\n The Bits required are = %.1f \n',Bits); // Result\n",
"//we cannot  have fractional bit so,\n",
"printf('\n we cannot  have fractional bit so, Bits required are = %.0f \n',Bits+1); // Result"
   ]
   }
],
"metadata": {
		  "kernelspec": {
		   "display_name": "Scilab",
		   "language": "scilab",
		   "name": "scilab"
		  },
		  "language_info": {
		   "file_extension": ".sce",
		   "help_links": [
			{
			 "text": "MetaKernel Magics",
			 "url": "https://github.com/calysto/metakernel/blob/master/metakernel/magics/README.md"
			}
		   ],
		   "mimetype": "text/x-octave",
		   "name": "scilab",
		   "version": "0.7.1"
		  }
		 },
		 "nbformat": 4,
		 "nbformat_minor": 0
}
