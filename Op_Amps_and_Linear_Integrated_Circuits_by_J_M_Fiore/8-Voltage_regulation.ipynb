{
"cells": [
 {
		   "cell_type": "markdown",
	   "metadata": {},
	   "source": [
       "# Chapter 8: Voltage regulation"
	   ]
	},
{
		   "cell_type": "markdown",
		   "metadata": {},
		   "source": [
			"## Example 8.1: Output.sce"
		   ]
		  },
  {
"cell_type": "code",
	   "execution_count": null,
	   "metadata": {
	    "collapsed": true
	   },
	   "outputs": [],
"source": [
"// Chapter8\n",
"// Page.No-263\n",
"// Example8_1\n",
"// Figure 8.4\n",
"// Output of Voltage and Current\n",
"// Given\n",
"clear;clc;\n",
"R1=5000;           //In Ohm\n",
"R2=20000;           //In Ohm\n",
"R3=10000;           //In Ohm\n",
"Vz=3.9;         //In V\n",
"Vl=Vz*(R2+R3)/R3;\n",
"printf('\n Output Load Voltage Vl is = %.2f V\n',Vl); // Result\n",
"Iz=(Vl-Vz)/R1;\n",
"printf('\n Output Zener Current Iz is = %.5f A \n',Iz); // Result"
   ]
   }
,
{
		   "cell_type": "markdown",
		   "metadata": {},
		   "source": [
			"## Example 8.2: The_power_dissapatio.sce"
		   ]
		  },
  {
"cell_type": "code",
	   "execution_count": null,
	   "metadata": {
	    "collapsed": true
	   },
	   "outputs": [],
"source": [
"// Chapter8\n",
"// Page.No-264\n",
"// Example8_2\n",
"// Figure 8.4\n",
"// Power dissipation for Q1\n",
"// Page.No-264\n",
"// Example_8_2\n",
"// Figure 8.4\n",
"// Given\n",
"clear;clc;\n",
"Vl=11.7;            //in V\n",
"Rl=20;           //in Ohm\n",
"Il=Vl/Rl;\n",
"printf('\n Output Load Current Il is = %.3f A \n',Il); // Result\n",
"Vc=20; Ve=11.7;     //in V\n",
"Vce=Vc-Ve;\n",
"printf('\n Output Load Voltage Vce is = %.2f V\n',Vce); // Result\n",
"Pd=Il*Vce;\n",
"printf('\n Power dissiption Pd is = %.2f W \n',Pd); // Result\n",
"Ib=0.020;                   //in Amp\n",
"B=Il/Ib;\n",
"printf('\n Beta is = %.2f  \n',B); // Result\n",
"Pl=Il*Vl;\n",
"printf('\n Power dissiption across load ,Pl is = %.3f W \n',Pl); // Result\n",
"Vin=20;             //in V\n",
"Pin=Il*Vin;         //Iin=Il\n",
"printf('\n Input Power dissiption ,Pin is = %.2f W \n',Pin); // Result\n",
"n=Pl/Pin;\n",
"printf('\n Efficiency   is = %.3f or %.1f  percent \n',n,n*100); // Result"
   ]
   }
,
{
		   "cell_type": "markdown",
		   "metadata": {},
		   "source": [
			"## Example 8.3: Value_of_R2.sce"
		   ]
		  },
  {
"cell_type": "code",
	   "execution_count": null,
	   "metadata": {
	    "collapsed": true
	   },
	   "outputs": [],
"source": [
"// Chapter8\n",
"// Value of R2 \n",
"// Page.No-272\n",
"// Example8_3\n",
"// Given\n",
"clear;clc;\n",
"Vm=1.25;            //in V\n",
"Vout=15;            //in V\n",
"R1=240;           //in Ohm\n",
"R2=R1*((Vout/Vm)-1);\n",
"printf('\n Value for R2 is = %.2f Ohm\n',R2); // Result\n",
""
   ]
   }
,
{
		   "cell_type": "markdown",
		   "metadata": {},
		   "source": [
			"## Example 8.4: 12_V_Regulator.sce"
		   ]
		  },
  {
"cell_type": "code",
	   "execution_count": null,
	   "metadata": {
	    "collapsed": true
	   },
	   "outputs": [],
"source": [
"// Chapter8\n",
"// 12V Voltage Regulator \n",
"// Page.No-279\n",
"// Example8_4\n",
"//Figure 8.17\n",
"// Given\n",
"clear;clc;\n",
"Vref=7.15;            //in V\n",
"Vout=12;            //in V\n",
"Ilimit=0.050;           //in Amp\n",
"R2=10000;           //in Ohm\n",
"R1=Vout*R2/Vref-R2;\n",
"printf('\n Value of R1 is = %.f Ohm\n',R1); // Result\n",
"Vsense=0.65;            //in V\n",
"Rsc=Vsense/Ilimit;\n",
"printf('\n Value of current sense resistor is = %.f Ohm\n',Rsc); // Result\n",
"R3=R1*R2/(R1+R2);\n",
"printf('\n Value of minimum drift resistor is = %.f Ohm\n',R3); // Result"
   ]
   }
,
{
		   "cell_type": "markdown",
		   "metadata": {},
		   "source": [
			"## Example 8.5: 2V_to_5V_supply.sce"
		   ]
		  },
  {
"cell_type": "code",
	   "execution_count": null,
	   "metadata": {
	    "collapsed": true
	   },
	   "outputs": [],
"source": [
"// Chapter8\n",
"// Design  a contineously adjusted supply b/w 2V to 5 V\n",
"// Page.No-279\n",
"// Example8_5\n",
"//Figure 8.15.1\n",
"// Given\n",
"clear;clc;\n",
"Vref=7.15;            //in V\n",
"Vout=5;            //in V\n",
"//(R1b+R2)/R2=Vref/Vout;\n",
"printf('\n For maximum case (R1b+R2)/R2 is = %.2f \n',Vref/Vout); // Result\n",
"R2=1;              // In Ohm (Assumption)\n",
"R1b=Vref/Vout-1;\n",
"printf('\n For R2=1 Ohm R1b:R2 is = %.2f:%.0f \n',R1b,R2); // Result\n",
"Voutm=2;           // in V\n",
"printf('\n For maximum case (R1a+R1b+R2)/R2 is = %.3f \n',Vref/Voutm); // Result\n",
"R1a=Vref/Voutm-1-0.43;\n",
"printf('\n For R2=1 Ohm R1b:R2 is = %.3f:%.0f \n',R1a,R2); // Result\n",
"R1a=10000;          //in Ohm        (Assumption)\n",
"R2=R1a/2.145;\n",
"printf('\n Value of R2 is = %.f Ohm\n',R2); // Result\n",
"//Similarly\n",
"R1b=R2*0.43;\n",
"printf('\n Value of R1b is = %.f Ohm\n',R1b); // Result\n",
"//Ilimit=Vsense/rsc;\n",
"Vsense=0.65;            //in V\n",
"Ilimit=1;           //in Amp\n",
"Rsc=Vsense/Ilimit;\n",
"printf('\n Value of current sense resistor is = %.f Ohm\n',Rsc); // Result\n",
"R1=6000;                //in Ohm\n",
"R3=R1*R2/(R1+R2);\n",
"printf('\n Value of minimum drift resistor is = %.f Ohm\n',R3); // Result\n",
"Ic=1;               //in Amp\n",
"Ib=0.150;           //in Amp\n",
"B=Ic/Ib;\n",
"printf('\n Value of B minimum  = %.2f \n',B); // Result\n",
""
   ]
   }
,
{
		   "cell_type": "markdown",
		   "metadata": {},
		   "source": [
			"## Example 8.6: Step_down_Voltage_regulator.sce"
		   ]
		  },
  {
"cell_type": "code",
	   "execution_count": null,
	   "metadata": {
	    "collapsed": true
	   },
	   "outputs": [],
"source": [
"// Chapter8\n",
"// Design  a step down regulator\n",
"// Page.No-288\n",
"// Example8_6\n",
"//Figure 8.27\n",
"// Given\n",
"clear;clc;\n",
"Vout=12;            //in V\n",
"R2=10000;          //in Ohm        (Assumption)\n",
"R1=R2*(Vout-1);\n",
"printf('\n Value of R1 is = %.f Ohm\n',R1); // Result\n",
"Isw=0.75;               //in Amp\n",
"R3=0.11/Isw;\n",
"printf('\n Value of R3 is = %.2f Ohm\n',R3); // Result\n",
"Iout=0.200;         //in Amp\n",
"Df=0.2;\n",
"delI =2*Iout*Df;\n",
"printf('\n Value of del I is = %.3f Amp\n',delI); // Result\n",
"F=50000;           //in Hz\n",
"Vin=20;         //in V\n",
"L1=Vout*(Vin-Vout)/(delI*Vin*F);\n",
"printf('\n Value of L1 is = %.4f H\n',L1); // Result\n",
"Vripple=0.040;      //in V\n",
"C2=Vout*(Vin-Vout)/(8*F^2*Vin*Vripple*L1);\n",
"printf('\n Value of C2 is = %.6f F\n',C2); // Result\n",
"//C2 is ste a standard of 33microF or 47microF"
   ]
   }
,
{
		   "cell_type": "markdown",
		   "metadata": {},
		   "source": [
			"## Example 8.7: Heat_sink_rating.sce"
		   ]
		  },
  {
"cell_type": "code",
	   "execution_count": null,
	   "metadata": {
	    "collapsed": true
	   },
	   "outputs": [],
"source": [
"// Chapter8\n",
"// Determine appropiate heat sink rating\n",
"// Page.No-296\n",
"// Example8_7\n",
"//Figure 8.34\n",
"// Given\n",
"clear;clc;\n",
"Tj=150;           // in degree C\n",
"Ta=40;           // in degree C\n",
"Qjc=3.0;          // in  C/W\n",
"Qcs=1.6;          // in  C/W\n",
"PD=6;           //in W\n",
"Qsa=(Tj-Ta)/PD - Qjc-Qcs;\n",
"printf('\n Value of Qsa = %.2f C/W\n',Qsa); // Result"
   ]
   }
],
"metadata": {
		  "kernelspec": {
		   "display_name": "Scilab",
		   "language": "scilab",
		   "name": "scilab"
		  },
		  "language_info": {
		   "file_extension": ".sce",
		   "help_links": [
			{
			 "text": "MetaKernel Magics",
			 "url": "https://github.com/calysto/metakernel/blob/master/metakernel/magics/README.md"
			}
		   ],
		   "mimetype": "text/x-octave",
		   "name": "scilab",
		   "version": "0.7.1"
		  }
		 },
		 "nbformat": 4,
		 "nbformat_minor": 0
}
