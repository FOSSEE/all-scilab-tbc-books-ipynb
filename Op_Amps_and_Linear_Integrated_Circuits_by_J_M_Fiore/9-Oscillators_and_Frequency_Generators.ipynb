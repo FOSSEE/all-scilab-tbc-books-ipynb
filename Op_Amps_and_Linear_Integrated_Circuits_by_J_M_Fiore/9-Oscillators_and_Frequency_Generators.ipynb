{
"cells": [
 {
		   "cell_type": "markdown",
	   "metadata": {},
	   "source": [
       "# Chapter 9: Oscillators and Frequency Generators"
	   ]
	},
{
		   "cell_type": "markdown",
		   "metadata": {},
		   "source": [
			"## Example 9.10: Timing_resistor_and_capacitor.sce"
		   ]
		  },
  {
"cell_type": "code",
	   "execution_count": null,
	   "metadata": {
	    "collapsed": true
	   },
	   "outputs": [],
"source": [
"// Chapter 9\n",
"// determine Output frequency\n",
"// Page.No-336\n",
"// Example9_10\n",
"//Figure 9.40\n",
"// Given\n",
"clear;clc;\n",
"R=10000;            //in Ohm\n",
"printf('\n Value of Assumed resistance is  = %.0f Ohm\n',R); // Result\n",
"\n",
"Tout=100*10^-6;\n",
"C=Tout/(1.1*R);\n",
"printf('\n Value of Capacitance is  = %.11f F\n',C); // Result\n",
"printf('\n The nearst value would be 10nF');"
   ]
   }
,
{
		   "cell_type": "markdown",
		   "metadata": {},
		   "source": [
			"## Example 9.11: Square_wave_generator.sce"
		   ]
		  },
  {
"cell_type": "code",
	   "execution_count": null,
	   "metadata": {
	    "collapsed": true
	   },
	   "outputs": [],
"source": [
"// Chapter 9\n",
"// determine Output frequency\n",
"// Page.No-340\n",
"// Example9_11\n",
"// Given\n",
"clear;clc;\n",
"f=2000;         ///in Hz\n",
"DC=0.8;\n",
"T=1/f;\n",
"Thigh=DC*T;\n",
"printf('\n T high is  = %.6f Sec\n',Thigh); // Result\n",
"Tlow=T-Thigh;\n",
"printf('\n T low is  = %.6f Sec\n',Tlow); // Result\n",
"//assumption\n",
"Rb=10000;            //in Ohm\n",
"//Tlow=0.69RC\n",
"C1=Tlow/(0.69*Rb);\n",
"printf('\n Value of Capacitance C is  = %.10f F\n',C1); // Result\n",
"//Thigh=0.69(Ra+Rb)\n",
"Ra=Thigh/(0.69*C1)-Rb;\n",
"printf('\n Value of resistance Ra is  = %.0f Ohm\n',Ra); // Result"
   ]
   }
,
{
		   "cell_type": "markdown",
		   "metadata": {},
		   "source": [
			"## Example 9.12: range_of_output_frequency.sce"
		   ]
		  },
  {
"cell_type": "code",
	   "execution_count": null,
	   "metadata": {
	    "collapsed": true
	   },
	   "outputs": [],
"source": [
"// Chapter 9\n",
"// determine Output frequency\n",
"// Page.No-344\n",
"// Example_9_12\n",
"//Figure 9.47\n",
"// Given\n",
"clear;clc;\n",
"R=110000;            //in Ohm\n",
"C=0.1*10^-6;            //in Farad\n",
"//\n",
"disp('When C=0.1microF')\n",
"\n",
"fomin=0.15/(R*C);\n",
"printf('\n For low range with lowest   frequency  = %.1f Hz\n',fomin); // Result\n",
"//\n",
"R1=10000;            //in Ohm\n",
"fomax=0.15/(R1*C);\n",
"printf('\n For low range with highest  frequency  = %.1f Hz\n',fomax); // Result\n",
"//\n",
"disp('When C=0.01microF')\n",
"R=110000;            //in Ohm\n",
"C=0.01*10^-6;            //in Farad\n",
"fomin=0.15/(R*C);\n",
"printf('\n For low range with lowest   frequency  = %.1f Hz\n',fomin); // Result\n",
"//\n",
"R1=10000;            //in Ohm\n",
"fomax=0.15/(R1*C);\n",
"printf('\n For low range with highest  frequency  = %.1f Hz\n',fomax); // Result\n",
"//\n",
"disp('When C=0.001microF')\n",
"R=110000;            //in Ohm\n",
"C=0.001*10^-6;            //in Farad\n",
"fomin=0.15/(R*C);\n",
"printf('\n For low range with lowest   frequency  = %.1f Hz\n',fomin); // Result\n",
"//\n",
"R1=10000;            //in Ohm\n",
"fomax=0.15/(R1*C);\n",
"printf('\n For low range with highest  frequency  = %.1f Hz\n',fomax); // Result"
   ]
   }
,
{
		   "cell_type": "markdown",
		   "metadata": {},
		   "source": [
			"## Example 9.1: frequency_of_oscillation.sce"
		   ]
		  },
  {
"cell_type": "code",
	   "execution_count": null,
	   "metadata": {
	    "collapsed": true
	   },
	   "outputs": [],
"source": [
"// Chapter9\n",
"// Frequency  of oscillation \n",
"// Page.No-306\n",
"// Example9_1\n",
"//Figure 9.8\n",
"// Given\n",
"clear;clc;\n",
"R=50000;            //in Ohm\n",
"C=0.01*10^-6;           //in F\n",
"f=1/(2*%pi*R*C);\n",
"printf('\n The frequency of oscillation  = %.0f Hz\n',f); // Result"
   ]
   }
,
{
		   "cell_type": "markdown",
		   "metadata": {},
		   "source": [
			"## Example 9.2: Maximum_and_minimum_frequency_of_oscillation.sce"
		   ]
		  },
  {
"cell_type": "code",
	   "execution_count": null,
	   "metadata": {
	    "collapsed": true
	   },
	   "outputs": [],
"source": [
"// Chapter9\n",
"// Maximum and minimum Frequency  of oscillation \n",
"// Page.No-307\n",
"// Example9_2\n",
"//Figure 9.9\n",
"// Given\n",
"clear;clc;\n",
"// for minimium frequency\n",
"R=11100;            //in Ohm\n",
"C=0.1*10^-6;           //in F\n",
"f=1/(2*%pi*R*C);\n",
"printf('\n The mimimum frequency of oscillation  = %.1f Hz\n',f); // Result\n",
"// for maximum frequency\n",
"R=1100;            //in Ohm\n",
"C=0.1*10^-6;           //in F\n",
"fm=1/(2*%pi*R*C);\n",
"printf('\n The maximum frequency of oscillation  = %.0f Hz\n',fm); // Result\n",
"printf('\n For C=0.001microF, the range is from %.1f Hz to %.0f Hz\n  ', f*10,fm*10);//Result\n",
"printf('\n For C=0.0001microF, the range is from %.1f Hz to %.0f Hz\n  ', f*100,fm*100);//Result\n",
"Rf=10000+2700;          //in ohm\n",
"Ri=5600;                //in Ohm\n",
"Av=1+Rf/Ri;\n",
"printf('\n Gain ,Av is %.2f \n  ', Av);//Result"
   ]
   }
,
{
		   "cell_type": "markdown",
		   "metadata": {},
		   "source": [
			"## Example 9.3: Frequency_of_oscillation.sce"
		   ]
		  },
  {
"cell_type": "code",
	   "execution_count": null,
	   "metadata": {
	    "collapsed": true
	   },
	   "outputs": [],
"source": [
"// Chapter9\n",
"//  Frequency  of oscillation \n",
"// Page.No-310\n",
"// Example_9_3\n",
"//Figure 9.12-9.14\n",
"// Given\n",
"clear;clc;\n",
"R=1000;            //in Ohm\n",
"C=0.1*10^-6;           //in F\n",
"f=1/(2*%pi*1.732*R*C);\n",
"printf('\n The mimimum frequency of oscillation  = %.0f Hz\n',f); // Result\n",
"//Vo=(R+Xc)*I1-R*I2\n",
"W=1/((6^0.5)*C*R);\n",
"printf('\n The frequency = %.0f Hz\n',W); // Result\n",
"//Vo/V3=1+(6*Xc/R)+(5*Xc/R^2)+(Xc/R)^3;\n",
"Vr=1-(5/((W*C*R)^2));           //Vr=Vo/V3\n",
"printf('\n The Vo/V3 is = %.0f \n',Vr); // Result\n",
"printf('\n The gain of ladder network is B= V3/Vo = 1/%.0f \n',Vr); // Result\n",
""
   ]
   }
,
{
		   "cell_type": "markdown",
		   "metadata": {},
		   "source": [
			"## Example 9.4: Value_of_Ri.sce"
		   ]
		  },
  {
"cell_type": "code",
	   "execution_count": null,
	   "metadata": {
	    "collapsed": true
	   },
	   "outputs": [],
"source": [
"// Chapter9\n",
"//  value of Rf\n",
"// Page.No-313\n",
"// Example9_4\n",
"//Figure 9.15\n",
"// Given\n",
"clear;clc;\n",
"C=0.1*10^-6;           //in F\n",
"R=1000;            //in Ohm\n",
"Av=-29;\n",
"Rf=-Av*R;\n",
"printf('\n The value for Rf is = %.0f Ohm\n',Rf); // Result\n",
"f=1/(2*%pi*6^0.5*R*C);\n",
"printf('\n The  frequency ,fo  = %.0f Hz\n',f); // Result\n",
""
   ]
   }
,
{
		   "cell_type": "markdown",
		   "metadata": {},
		   "source": [
			"## Example 9.5: Output_frequency_and_amplitude.sce"
		   ]
		  },
  {
"cell_type": "code",
	   "execution_count": null,
	   "metadata": {
	    "collapsed": true
	   },
	   "outputs": [],
"source": [
"// Chapter9\n",
"//  Output Frequency and Amplitudes\n",
"// Page.No-318\n",
"// Example9_5\n",
"//Figure 9.21\n",
"// Given\n",
"clear;clc;\n",
"Vsat=13;            //in V\n",
"R2=10000;               //in ohm\n",
"R3=20000;               //in ohm\n",
"R=33000;               //in ohm\n",
"C=0.01*10^-6;            //in Farad\n",
"Vup=Vsat*R2/R3;\n",
"printf('\n Value of Vupperthreshold  is = %.1f V\n',Vup); // Result\n",
"//dv/dt=Vsat/RC=k\n",
"k=Vsat/R/C;\n",
"printf('\n dv/dt = %.0f V/S\n',k); // Result\n",
"T=Vsat/k;\n",
"printf('\n T = %.5f S\n',T); // Result\n",
"\n",
"f=1/T/2;\n",
"printf('\nf = %.0f Hz\n',f); // Result"
   ]
   }
,
{
		   "cell_type": "markdown",
		   "metadata": {},
		   "source": [
			"## Example 9.6: Square_wave_generator.sce"
		   ]
		  },
  {
"cell_type": "code",
	   "execution_count": null,
	   "metadata": {
	    "collapsed": true
	   },
	   "outputs": [],
"source": [
"// Chapter 9\n",
"// 2kHZ Square Wave generator\n",
"// Page.No-323\n",
"// Example9_6\n",
"//Figure 9.23\n",
"// Given\n",
"clear;clc;\n",
"R1=10000;               //in Ohm\n",
"R2=R1/0.859;                //in Ohm\n",
"fo=2000;            //in Hz\n",
"\n",
"printf('\n R2 is %.0f Ohm\n',R2); // Result\n",
"C=1/(2*R1*fo);\n",
"printf('\n C is %.9f F\n',C); // Result"
   ]
   }
,
{
		   "cell_type": "markdown",
		   "metadata": {},
		   "source": [
			"## Example 9.7: Output_frequency.sce"
		   ]
		  },
  {
"cell_type": "code",
	   "execution_count": null,
	   "metadata": {
	    "collapsed": true
	   },
	   "outputs": [],
"source": [
"// Chapter 9\n",
"// determine Output frequency\n",
"// Page.No-327\n",
"// Example9_7\n",
"//Figure 9.28\n",
"// Given\n",
"clear;clc;\n",
"Vp=12;          //in V\n",
"R1=4700;            //in Ohm\n",
"R2=2000;            //in Ohm\n",
"R3=20000;            //in Ohm\n",
"C=1.1*10^-9;            //in Farad\n",
"Vc=Vp*(R3/(R2+R3));\n",
"printf('\n The control Voltage is  = %.2f V\n',Vc); // Result\n",
"fo=2*(Vp-Vc)/(Vp*R1*C);\n",
"printf('\n Output frequency  = %.0f Hz\n',fo); // Result"
   ]
   }
,
{
		   "cell_type": "markdown",
		   "metadata": {},
		   "source": [
			"## Example 9.8: Maximum_and_minimum_frequency.sce"
		   ]
		  },
  {
"cell_type": "code",
	   "execution_count": null,
	   "metadata": {
	    "collapsed": true
	   },
	   "outputs": [],
"source": [
"// Chapter 9\n",
"// determine Output frequency\n",
"// Page.No-328\n",
"// Example9_8\n",
"//Figure 9.29\n",
"// Given\n",
"clear;clc;\n",
"Vp=12;          //in V\n",
"R1=4700;            //in Ohm\n",
"R2=2000;            //in Ohm\n",
"R3=20000;            //in Ohm\n",
"C=1.1*10^-9;            //in Farad\n",
"Vc=Vp*(R3/(R2+R3));\n",
"//for minimum Vc\n",
"Vcmin=Vc-0.5;\n",
"printf('\n The control Voltage is  = %.2f V\n',Vcmin); // Result\n",
"fo=2*(Vp-Vcmin)/(Vp*R1*C);\n",
"printf('\n Output frequency  = %.0f Hz\n',fo); // Result\n",
"//for maximum Vc\n",
"disp('For minimum frequency Use maximum Vc');\n",
"Vcmin1=Vc+0.5;\n",
"printf('\n The control Voltage is  = %.2f V\n',Vcmin1); // Result\n",
"fo=2*(Vp-Vcmin1)/(Vp*R1*C);\n",
"printf('\n Output frequency  = %.0f Hz\n',fo); // Result"
   ]
   }
,
{
		   "cell_type": "markdown",
		   "metadata": {},
		   "source": [
			"## Example 9.9: Free_running_frequency.sce"
		   ]
		  },
  {
"cell_type": "code",
	   "execution_count": null,
	   "metadata": {
	    "collapsed": true
	   },
	   "outputs": [],
"source": [
"// Chapter 9\n",
"// determine Output frequency\n",
"// Page.No-333\n",
"// Example9_9\n",
"//Figure 9.37\n",
"// Given\n",
"clear;clc;\n",
"Vp=6;          //in V\n",
"R1=4000;            //in Ohm\n",
"C=330*10^-12;            //in Farad\n",
"C2=270*10^-12;            //in Farad\n",
"fo=0.3/(R1*C);\n",
"printf('\n Free runing  frequency  = %.0f Hz\n',fo); // Result\n",
"fl=8*fo/Vp;\n",
"printf('\n Lock Range  = %.0f Hz\n',fl); // Result\n",
"fc=sqrt(2*%pi*fl/(3600*C2))/(2*%pi);\n",
"printf('\n Capture Range  = %.0f Hz\n',fc); // Result"
   ]
   }
],
"metadata": {
		  "kernelspec": {
		   "display_name": "Scilab",
		   "language": "scilab",
		   "name": "scilab"
		  },
		  "language_info": {
		   "file_extension": ".sce",
		   "help_links": [
			{
			 "text": "MetaKernel Magics",
			 "url": "https://github.com/calysto/metakernel/blob/master/metakernel/magics/README.md"
			}
		   ],
		   "mimetype": "text/x-octave",
		   "name": "scilab",
		   "version": "0.7.1"
		  }
		 },
		 "nbformat": 4,
		 "nbformat_minor": 0
}
