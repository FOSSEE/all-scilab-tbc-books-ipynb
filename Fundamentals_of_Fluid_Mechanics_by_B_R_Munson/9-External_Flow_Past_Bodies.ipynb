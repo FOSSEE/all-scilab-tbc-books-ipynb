{
"cells": [
 {
		   "cell_type": "markdown",
	   "metadata": {},
	   "source": [
       "# Chapter 9: External Flow Past Bodies"
	   ]
	},
{
		   "cell_type": "markdown",
		   "metadata": {},
		   "source": [
			"## Example 9.10: speed_of_grai.sce"
		   ]
		  },
  {
"cell_type": "code",
	   "execution_count": null,
	   "metadata": {
	    "collapsed": true
	   },
	   "outputs": [],
"source": [
"clc;\n",
"clear;\n",
"D=0.1;//mm\n",
"sg=2.3;\n",
"vis=1.12*(10^(-3));//N*s/(m^2)\n",
"//by free body diagram and assuming CD=24/Re\n",
"U=(sg-1)*999*9.81*((D/1000)^2)/(18*vis);\n",
"disp('m/sec',U,'The velocity of the particle through still water =')\n",
"dia=0:0.001:0.1;\n",
"count=1;\n",
"for i=0:0.001:0.1\n",
"    u(count)=(sg-1)*999*9.81*((i/1000)^2)/(18*vis);\n",
"    count=count+1;\n",
"end\n",
"plot2d(dia,u,rect=[0,0,0.1,0.007])\n",
"xtitle('U vs D','D, mm','U, m/s')"
   ]
   }
,
{
		   "cell_type": "markdown",
		   "metadata": {},
		   "source": [
			"## Example 9.11: velocity_of_updraft.sce"
		   ]
		  },
  {
"cell_type": "code",
	   "execution_count": null,
	   "metadata": {
	    "collapsed": true
	   },
	   "outputs": [],
"source": [
"clc;\n",
"clear;\n",
"D=1.5;//in\n",
"//assuming CD=0.5 and verifying this value using value of Re\n",
"CD=0.5;\n",
"dice=1.84;//slugs/(ft^3); density of ice\n",
"dair=2.38*(10^(-3));//slugs/(ft^3)\n",
"U=(4*dice*32.2*(D/12)/(3*dair*CD))^0.5;//ft/sec\n",
"disp('mph',U*3600/5275,'The velocity of the updraft needed=')"
   ]
   }
,
{
		   "cell_type": "markdown",
		   "metadata": {},
		   "source": [
			"## Example 9.12: drag_and_deceleration.sce"
		   ]
		  },
  {
"cell_type": "code",
	   "execution_count": null,
	   "metadata": {
	    "collapsed": true
	   },
	   "outputs": [],
"source": [
"clc;\n",
"clear;\n",
"Dg=1.69;//in.\n",
"Wg=0.0992;//lb\n",
"Ug=200;//ft/sec\n",
"Dt=1.5;//in.\n",
"Wt=0.00551;//lb\n",
"Ut=60;//ft/sec\n",
"kvis=(1.57*(10^(-4)));//(ft^2)/sec\n",
"Reg=Ug*Dg/kvis;\n",
"Ret=Ut*Dt/kvis;\n",
"//the corresponding drag coefficients are calculated as\n",
"CDgs=0.25;//standard golf ball\n",
"CDgsm=0.51;//smooth golf ball\n",
"CDt=0.5;//table tennis ball\n",
"Dgs=0.5*0.00238*(Ug^2)*%pi*((Dg/12)^2)*CDgs/4;//lb\n",
"Dgsm=0.5*0.00238*(Ug^2)*%pi*((Dg/12)^2)*CDgsm/4;//lb\n",
"Dt=0.5*0.00238*(Ut^2)*%pi*((Dt/12)^2)*CDt/4;//lb\n",
"//the  corresponding decelerations are a=D/s=g*D/W\n",
"//deceleration relative to g=D/W\n",
"decgs=Dgs/Wg;\n",
"decgsm=Dgsm/Wg;\n",
"dect=Dt/Wt;\n",
"disp('STANDARD GOLF BALL:')\n",
"disp('lb',Dgs,'The drag coefficient=')\n",
"disp(decgs,'The deceleration relative to g=')\n",
"disp('SMOOTH GOLF BALL:')\n",
"disp('lb',Dgsm,'The drag coefficient=')\n",
"disp(decgsm,'The deceleration relative to g=')\n",
"disp('TABLE TENNIS BALL:')\n",
"disp('lb',Dt,'The drag coefficient=')\n",
"disp(dect,'The deceleration relative to g=')"
   ]
   }
,
{
		   "cell_type": "markdown",
		   "metadata": {},
		   "source": [
			"## Example 9.13: torque_estimatio.sce"
		   ]
		  },
  {
"cell_type": "code",
	   "execution_count": null,
	   "metadata": {
	    "collapsed": true
	   },
	   "outputs": [],
"source": [
"clc;\n",
"clear;\n",
"U=88;//fps\n",
"Ds=40;//ft\n",
"Dc=15;//ft\n",
"b=50;//ft\n",
"Res=U*Ds/(1.57*(10^(-4)));\n",
"Rec=U*Dc/(1.57*(10^(-4)));\n",
"//from these values of Re drag coefficients are found as\n",
"CDs=0.3;\n",
"CDc=0.7;\n",
"//by summing moments about the base of the tower\n",
"Drs=0.5*0.00238*(U^2)*%pi*(Ds^2)*CDs/4;//lb\n",
"Drc=0.5*0.00238*(U^2)*b*Dc*CDc;//lb\n",
"M=(Drs*(b+(Ds/2)))+(Drc*(b/2));//ft*lb\n",
"disp('ft*lb',M,'The moment needed to prevent the tower from tripping=')"
   ]
   }
,
{
		   "cell_type": "markdown",
		   "metadata": {},
		   "source": [
			"## Example 9.15: lift_and_power.sce"
		   ]
		  },
  {
"cell_type": "code",
	   "execution_count": null,
	   "metadata": {
	    "collapsed": true
	   },
	   "outputs": [],
"source": [
"clc;\n",
"clear;\n",
"U=15;//ft/sec\n",
"b=96;//ft\n",
"c=7.5;//ft\n",
"W=210;//lb\n",
"CD=0.046;\n",
"eff=0.8;//power train efficiency\n",
"d=2.38*(10^(-3));//slugs/(ft^3)\n",
"//W=L\n",
"CL=2*W/(d*(U^2)*b*c);\n",
"D=0.5*d*(U^2)*b*c*CD;\n",
"P=D*U/(eff*550);//hp\n",
"disp(CL,'The lift coefficient=')\n",
"disp('hp',P,'The power required by the pilot=')"
   ]
   }
,
{
		   "cell_type": "markdown",
		   "metadata": {},
		   "source": [
			"## Example 9.16: angular_velocity_determination.sce"
		   ]
		  },
  {
"cell_type": "code",
	   "execution_count": null,
	   "metadata": {
	    "collapsed": true
	   },
	   "outputs": [],
"source": [
"clc;\n",
"clear;\n",
"W=2.45*(10^(-2));//N\n",
"D=3.8*(10^(-2));//m\n",
"U=12;//m/s\n",
"\n",
"//W=L\n",
"d=1.23;//kg/(m^3)\n",
"W=0.5*d*(U^2)*(D^2)*%pi*CL/4;\n",
"CL=2*W/(d*(U^2)*%pi*(D^2)/4);\n",
"//using this value of CL, omega*D/(2*U)=x is found as \n",
"x=0.9;\n",
"omega=2*U*x/D;//rad/sec\n",
"angvel=omega*60/(2*%pi);//rpm; where angvel is angular velocity\n",
"disp('rpm',angvel,'The angular velocity=')"
   ]
   }
,
{
		   "cell_type": "markdown",
		   "metadata": {},
		   "source": [
			"## Example 9.1: lift_and_drag.sce"
		   ]
		  },
  {
"cell_type": "code",
	   "execution_count": null,
	   "metadata": {
	    "collapsed": true
	   },
	   "outputs": [],
"source": [
"clc;\n",
"clear;\n",
"U=25;//ft/sec\n",
"p=0;//gage\n",
"b=10;//ft\n",
"t=1.24*(10^-3);//where t=stress*(x^0.5)\n",
"a=0.744;//where a=p/(1-((y^2)/4))\n",
"p1=-0.893;//lb/(ft^2)\n",
"drag1=2*integrate('t*b/(x^0.5)','x',0,4);\n",
"drag2=integrate('(((a*(1-((y^2)/4))))-p1)*b','y',-2,2);\n",
"disp('lb',drag1,'The drag when plate is parallel to the upstream flow=')\n",
"disp('lb',drag2,'The drag when plate is perpendicular to the upstream flow=')\n",
""
   ]
   }
,
{
		   "cell_type": "markdown",
		   "metadata": {},
		   "source": [
			"## Example 9.5: boundary_layer_transition.sce"
		   ]
		  },
  {
"cell_type": "code",
	   "execution_count": null,
	   "metadata": {
	    "collapsed": true
	   },
	   "outputs": [],
"source": [
"clc;\n",
"clear;\n",
"U=10;//ft/sec\n",
"Twater=60;//degree F\n",
"Tglycerin=68;//degree F\n",
"kviswater=1.21*(10^-5);//(ft^2)/sec\n",
"kvisair=1.57*(10^-4);//(ft^2)/sec\n",
"kvisglycerin=1.28*(10^-2);//(ft^2)/sec\n",
"Re=5*(10^5);//assumption\n",
"xcrwater=kviswater*Re/U;//ft\n",
"xcrair=kvisair*Re/U;//ft\n",
"xcrglycerin=kvisglycerin*Re/U;//ft\n",
"btwater=5*(kviswater*xcrwater/U)^0.5;//ft; where bt=thickness of boundary layer\n",
"btair=5*(kvisair*xcrair/U)^0.5;//ft\n",
"btglycerin=5*(kvisglycerin*xcrglycerin/U)^0.5;//ft\n",
"disp('a)WATER')\n",
"disp(,'ft',xcrwater,'location at which boundary layer becomes turbulent=')\n",
"disp('ft',btwater,'Thickness of the boundary layer=')\n",
"disp('b)AIR')\n",
"disp(,'ft',xcrair,'location at which boundary layer becomes turbulent=')\n",
"disp('ft',btair,'Thickness of the boundary layer=')\n",
"disp('c)GLYCERIN')\n",
"disp(,'ft',xcrglycerin,'location at which boundary layer becomes turbulent=')\n",
"disp('ft',btglycerin,'Thickness of the boundary layer=')"
   ]
   }
,
{
		   "cell_type": "markdown",
		   "metadata": {},
		   "source": [
			"## Example 9.7: drag_estimatio.sce"
		   ]
		  },
  {
"cell_type": "code",
	   "execution_count": null,
	   "metadata": {
	    "collapsed": true
	   },
	   "outputs": [],
"source": [
"clc;\n",
"clear;\n",
"T=70;//degree F\n",
"U1=0;//ft/sec\n",
"U2=30;//ft/sec\n",
"l=4;//ft\n",
"b=0.5;//ft\n",
"d=1.94;\n",
"vis=2.04*(10^(-5));\n",
"x=d*l/vis;\n",
"U=1:U2;\n",
"for i=1:U2\n",
"    Re(i)=x*i;\n",
"    CDf(i)=0.455/((log10(Re(i)))^2.58);\n",
"    Df(i)=0.5*d*i*i*l*b*CDf(i);\n",
"    xcr(i)=vis*(5*(10^5))/(d*i);\n",
"end\n",
"plot(U,Df,'x-')\n",
"plot(U,xcr,'o-')\n",
"h1=legend(['Df';'xcr'])"
   ]
   }
],
"metadata": {
		  "kernelspec": {
		   "display_name": "Scilab",
		   "language": "scilab",
		   "name": "scilab"
		  },
		  "language_info": {
		   "file_extension": ".sce",
		   "help_links": [
			{
			 "text": "MetaKernel Magics",
			 "url": "https://github.com/calysto/metakernel/blob/master/metakernel/magics/README.md"
			}
		   ],
		   "mimetype": "text/x-octave",
		   "name": "scilab",
		   "version": "0.7.1"
		  }
		 },
		 "nbformat": 4,
		 "nbformat_minor": 0
}
