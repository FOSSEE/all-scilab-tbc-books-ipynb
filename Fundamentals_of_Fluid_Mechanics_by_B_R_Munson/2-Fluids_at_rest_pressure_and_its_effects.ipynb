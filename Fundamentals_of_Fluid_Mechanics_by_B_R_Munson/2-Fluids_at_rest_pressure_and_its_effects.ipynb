{
"cells": [
 {
		   "cell_type": "markdown",
	   "metadata": {},
	   "source": [
       "# Chapter 2: Fluids at rest pressure and its effects"
	   ]
	},
{
		   "cell_type": "markdown",
		   "metadata": {},
		   "source": [
			"## Example 2.10: tension_in_cable.sce"
		   ]
		  },
  {
"cell_type": "code",
	   "execution_count": null,
	   "metadata": {
	    "collapsed": true
	   },
	   "outputs": [],
"source": [
"clc;\n",
"clear;\n",
"dia=1.5;//m\n",
"wt=8.5;//kN\n",
"//tension in cable T=bouyant force(Fb)-wt\n",
"//fluid is water\n",
"sw=10.1;//kN/m^3\n",
"vol=%pi*dia^3/6;//m^3\n",
"Fb=sw*vol;//kN\n",
"T=Fb-wt;//kN\n",
"disp('kN',T,'The tension in the cable =')"
   ]
   }
,
{
		   "cell_type": "markdown",
		   "metadata": {},
		   "source": [
			"## Example 2.11: maximum_acceleration_calculation.sce"
		   ]
		  },
  {
"cell_type": "code",
	   "execution_count": null,
	   "metadata": {
	    "collapsed": true
	   },
	   "outputs": [],
"source": [
"clc;\n",
"clear;\n",
"sg=0.65;\n",
"l1=0.75;//ft\n",
"l2=0.5;//ft\n",
"//0.5 ft =z1(max)\n",
"//0.5=0.75*(ay(max)/g)\n",
"aymax=(0.5*32.2)/0.75;//ft/s^2\n",
"disp('ft/s^2',aymax,'The max acceleration that can occur before the fuel level drops below the transducer=')"
   ]
   }
,
{
		   "cell_type": "markdown",
		   "metadata": {},
		   "source": [
			"## Example 2.1: pressure_at_interface.sce"
		   ]
		  },
  {
"cell_type": "code",
	   "execution_count": null,
	   "metadata": {
	    "collapsed": true
	   },
	   "outputs": [],
"source": [
"clc;\n",
"clear;\n",
"sg=0.68;//specific gravity of gasoline\n",
"htg=17;//ft (height of gasoline)\n",
"htw=3;//ft (height of water)\n",
"//pressure p= (gamma*h)+atmp;\n",
"//pressure at water- gasoline interface p1 =sg*g*htg+atmp\n",
"p1=sg*62.4*htg; //atmp=0 , p1 is in lb/ft^2\n",
"pr1=p1/144;//lb/in^2\n",
"//pressure head as feet of water H\n",
"H= p1/62.4;//ft\n",
"//similarly pressure p2 at tank bottom\n",
"p2=62.4*htw+p1;//lb/ft^2\n",
"pr2 = p2/144;//lb/in^2\n",
"//pressure head as ft of water H1\n",
"H1=p2/62.4;//ft\n",
"disp('lb/in^2',pr1,'lb/ft^2 =', p1,'pressure at interface=')\n",
"disp('ft',H,'pressure head at interface in feet of water =')\n",
"disp('lb/in^2',pr2,'lb/ft^2 =', p2,'pressure at bottom=')\n",
"disp('ft',H1,'pressure head at bottom in feet of water =')\n",
""
   ]
   }
,
{
		   "cell_type": "markdown",
		   "metadata": {},
		   "source": [
			"## Example 2.2: pressure_depth_variatio.sce"
		   ]
		  },
  {
"cell_type": "code",
	   "execution_count": null,
	   "metadata": {
	    "collapsed": true
	   },
	   "outputs": [],
"source": [
"clc;\n",
"clear;\n",
"h=1250;//ft \n",
"T=59;//degree fareheit\n",
"p=14.7;//psi (abs)\n",
"sw=0.0765;//lb/ft^3, (specific weight of air at p)\n",
"\n",
"//considering air to be compressible\n",
"//p1/p2= exp(-(g*(z1-z2))/(R*T))\n",
"ratp=exp(-(32.2*h)/(1716*(59+460)));\n",
"disp(ratp,'ratio of pressure at the top to that at the base considering air to be compressible=')\n",
"\n",
"//considering air to be incompressible\n",
"//p2=p1-(sw*(z2-z1));\n",
"ratp1=1-((sw*h)/(p*144));\n",
"disp(ratp1,'ratio of pressure at the top to that at the base considering air to be incompressible=')\n",
"count=1;\n",
"zdiff=0:5000;\n",
"\n",
"for i= 0:5000\n",
"    j(count)=1-((sw*i)/(p*144));\n",
"    count=count+1;\n",
"end\n",
"num=1;\n",
"\n",
"for k=0:5000\n",
"    l(num)=exp(-(32.2*k)/(1716*(59+460)));\n",
"    num=num+1;\n",
"    \n",
"end\n",
"plot(zdiff,j,'o')\n",
"plot(zdiff,l,'+')\n",
"xtitle('p2/p1 vs z2-z1','z1-z2','p2/p1')\n",
"\n",
"\n",
"\n",
""
   ]
   }
,
{
		   "cell_type": "markdown",
		   "metadata": {},
		   "source": [
			"## Example 2.3: pressure_at_bottom.sce"
		   ]
		  },
  {
"cell_type": "code",
	   "execution_count": null,
	   "metadata": {
	    "collapsed": true
	   },
	   "outputs": [],
"source": [
"clc;\n",
"clear;\n",
"T=10;//degree C\n",
"dmax=40;//m\n",
"p=598;//mm Hg\n",
"//pressure in lake at any depth h is given by p=gamma*h + local barometric pressure 'pbar'\n",
"//pbar/(gamma Hg)=598 mm= .598 m ; (gamma Hg) = 133kN/m^3\n",
"pbar=0.598*133;//kN/m^2\n",
"//(gamma water)=9.804 kN/m^3 at 10 dergree C\n",
"p=(9.804*40)+pbar;//kN/m^2\n",
"disp('kPa',pbar,'The local barometric pressure=')\n",
"disp('kPa',p,'The absolute pressure at a depth of 40 m in the lake=')\n",
" "
   ]
   }
,
{
		   "cell_type": "markdown",
		   "metadata": {},
		   "source": [
			"## Example 2.4: reading_of_gage.sce"
		   ]
		  },
  {
"cell_type": "code",
	   "execution_count": null,
	   "metadata": {
	    "collapsed": true
	   },
	   "outputs": [],
"source": [
"clc;\n",
"clear;\n",
"sg1=0.90;//specific gravity of oil\n",
"sg2=13.6;//specific gravity of Hg\n",
"h1=36;//inches\n",
"h2=6;//inches\n",
"h3=9;//inches\n",
"//pressure equation: airp+h1*sg1*(gamma water)+h2*sg1*(gamma water)-h3*sg2*(gamma water)=0\n",
"airp=-(sg1*62.4*((h1/12)+(h2/12)))+(sg2*62.4*(h3/12));//lb/ft^2\n",
"//gage pressure = airp\n",
"pgage=airp/144;\n",
"disp('psi',pgage,'Gage pressure=')"
   ]
   }
,
{
		   "cell_type": "markdown",
		   "metadata": {},
		   "source": [
			"## Example 2.5: pressure_drop_calculatio.sce"
		   ]
		  },
  {
"cell_type": "code",
	   "execution_count": null,
	   "metadata": {
	    "collapsed": true
	   },
	   "outputs": [],
"source": [
"clc;\n",
"clear;\n",
"gamma1=9.8;//kN/m^3\n",
"gamma2=15.6;//kN/m^3\n",
"h1=1;//m\n",
"h2=0.5;//m\n",
"//pA-(gamma1)*h1-h2*(gamma2)+(gamma1)*(h1+h2)=pB\n",
"//pA-pB=diffp\n",
"diffp=((gamma1)*h1+h2*(gamma2)-(gamma1)*(h1+h2));\n",
"disp('kPa',diffp,'The difference in pressures at A and B =')"
   ]
   }
,
{
		   "cell_type": "markdown",
		   "metadata": {},
		   "source": [
			"## Example 2.6: force_on_plane.sce"
		   ]
		  },
  {
"cell_type": "code",
	   "execution_count": null,
	   "metadata": {
	    "collapsed": true
	   },
	   "outputs": [],
"source": [
"clc;\n",
"clear;\n",
"dia=4;//m\n",
"sw=9.8;//kN/m^3; specific weight of water\n",
"hc=10;//m\n",
"ang=60;//degrees\n",
"A=%pi*(dia^2)/4;\n",
"fres=sw*hc*A;\n",
"//for the coordinate system shown xc=xres=0\n",
"Ixc=%pi*((dia/2)^4)/4;\n",
"yc=hc/(sin (ang*%pi/180));\n",
"yres= (Ixc/(yc*A))+yc;\n",
"ydist=yres-yc;\n",
"disp('kN',fres,'The resultant force acting on the gate of the reservoir =');\n",
"disp('m below the shaft and is perpendicular to the gate surface.',ydist,'The resultant force acts through a point along the diameter of the gate at a distance of ')\n",
"M=fres*(ydist)*1000;\n",
"disp('N*m',M,'Moment required to open the gate=')\n",
"hc=1:30;\n",
"for i=1:30\n",
"    ydist(i)=((Ixc/(i/(sin (ang*%pi/180))*A)));\n",
"end\n",
"\n",
"plot2d(hc,ydist)\n",
"xtitle('yres-yc m vs hc m','hc m','yres-yc m')"
   ]
   }
,
{
		   "cell_type": "markdown",
		   "metadata": {},
		   "source": [
			"## Example 2.7: hydrostatic_pressure_force.sce"
		   ]
		  },
  {
"cell_type": "code",
	   "execution_count": null,
	   "metadata": {
	    "collapsed": true
	   },
	   "outputs": [],
"source": [
"clc;\n",
"clear;\n",
"sw=64;//lb/ft^3; specific weight of water\n",
"h=10;//ft\n",
"a=3;//ft\n",
"b=3;//ft\n",
"\n",
"//shape is triangular, hence hc=h-(a/3)\n",
"hc=h-(a/3);\n",
"A=(0.5*a*b);//ft^3; area of the right angled triangle\n",
"fres=sw*hc*A;//lb\n",
"Ixc=b*(a^3)/36;\n",
"Ixyc=b*(a^2)*(b)/72;\n",
"//according to the coordinate system taken yc=hc and xc=0\n",
"yres=(Ixc/(hc*A))+hc;\n",
"xres=(Ixyc/(hc*A));\n",
"ydist=yres-hc;\n",
"disp('lb',fres,'The resultant force on the area shown is=')\n",
"disp('ft',yres,'yR=')\n",
"disp('ft',xres,'xR=')\n",
"disp('ft below the centroid of the area.',ydist,'ft to the right of and ',xres,'The centre of pressure is')"
   ]
   }
,
{
		   "cell_type": "markdown",
		   "metadata": {},
		   "source": [
			"## Example 2.8: pressure_prism_concept.sce"
		   ]
		  },
  {
"cell_type": "code",
	   "execution_count": null,
	   "metadata": {
	    "collapsed": true
	   },
	   "outputs": [],
"source": [
"clc;\n",
"clear;\n",
"sg=0.9;// specific gravity of oil\n",
"a=0.6;//m\n",
"pgage=50;//kPa\n",
"h1=2;//m\n",
"h2=2.6;//m\n",
"\n",
"//the force on the trapezoid is the sum of the force on the rectangle f1 and force on triangle f2\n",
"f1=((pgage*1000)+(sg*1000*9.81*h1))*(a^2);//N\n",
"f2=sg*1000*9.81*(h2-h1)*(a^2)/2;//N\n",
"fres=f1+f2;//N\n",
"//to find vertical location of fres; fres*yres=(f1*(a/2))+(f2*(h1-h2))\n",
"yres=((f1*(a/2))+(f2*(a/3)))/fres;//m\n",
"disp('kN',(fres/1000),'The resultant force on the plate is=')\n",
"disp('m above the bottom plate alond the vertical line of symmetry.',yres,'The force acts at a distance of ')"
   ]
   }
,
{
		   "cell_type": "markdown",
		   "metadata": {},
		   "source": [
			"## Example 2.9: force_on_curve.sce"
		   ]
		  },
  {
"cell_type": "code",
	   "execution_count": null,
	   "metadata": {
	    "collapsed": true
	   },
	   "outputs": [],
"source": [
"clc;\n",
"clear;\n",
"dia=6;//ft\n",
"l=1;//ft\n",
"\n",
"//horizontal force f1=sw*hc*A\n",
"hc=dia/4;//ft\n",
"sw=62.4;//lb/ft^3\n",
"A=dia/2*l;//ft^2\n",
"f1=sw*hc*A;//lb\n",
"//this force f1 acts at a height of radius/3 ft above the bottom\n",
"ht=(dia/2)/3;//ft\n",
"//weight w = sw*volume\n",
"w=sw*((dia/2)^2)*%pi/4*l;//lb\n",
"//this force acts through centre of gravity which is 4*radius/(3*%pi) right of the centre of conduit\n",
"dist=(4*dia/2)/(3*%pi);//ft\n",
"//horizontal force that tank exerts on fluid = f1\n",
"//vertical force that tank exerts on fluid = w\n",
"//resultant force fres =((f1)^2+(w)^2)^0.5\n",
"fres =((f1)^2+(w)^2)^0.5;//lb\n",
"disp('lb',fres,'The resultant force exerted by the tank on the fluid=');\n",
"disp('ft',dist,'above the bottom of the conduit and to the right of the axis of the conduit at a distance of','ft',ht,'The force acts at a distance of')\n",
""
   ]
   }
],
"metadata": {
		  "kernelspec": {
		   "display_name": "Scilab",
		   "language": "scilab",
		   "name": "scilab"
		  },
		  "language_info": {
		   "file_extension": ".sce",
		   "help_links": [
			{
			 "text": "MetaKernel Magics",
			 "url": "https://github.com/calysto/metakernel/blob/master/metakernel/magics/README.md"
			}
		   ],
		   "mimetype": "text/x-octave",
		   "name": "scilab",
		   "version": "0.7.1"
		  }
		 },
		 "nbformat": 4,
		 "nbformat_minor": 0
}
