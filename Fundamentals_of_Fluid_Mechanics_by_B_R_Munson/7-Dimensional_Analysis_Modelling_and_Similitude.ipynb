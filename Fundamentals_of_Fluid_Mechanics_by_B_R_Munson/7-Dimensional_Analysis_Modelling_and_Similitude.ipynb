{
"cells": [
 {
		   "cell_type": "markdown",
	   "metadata": {},
	   "source": [
       "# Chapter 7: Dimensional Analysis Modelling and Similitude"
	   ]
	},
{
		   "cell_type": "markdown",
		   "metadata": {},
		   "source": [
			"## Example 7.5: prototype_performance_prediction.sce"
		   ]
		  },
  {
"cell_type": "code",
	   "execution_count": null,
	   "metadata": {
	    "collapsed": true
	   },
	   "outputs": [],
"source": [
"clc;\n",
"clear;\n",
"D=0.1;//m\n",
"H=0.3;//m\n",
"v=50;//km/hr\n",
"Dm=20;//mm\n",
"T=20;//degree C\n",
"fm=49.9;//Hz ; frequency for the model\n",
"//f=func(D,H,V,d,vis)\n",
"//f=T^(-1); D=l; H=L; V=L*(T^(-1)); d=M*(L^(-3)); vis=M*(L^(-1))*(T^(-1))\n",
"//by applying pi theorem,\n",
"//(f*D/V)=funct((D/H),(d*V*D/vis))\n",
"//hence; Dm/Hm = D/H, dm*Vm*Dm/vism = d*V*D/vis, and (f*D/V)=(fm*Dm/Vm)\n",
"Hm=(Dm*H*1000/(D*1000));//mm\n",
"V=v*1000/3600;//m/s\n",
"vism=1/1000;//kg/(m*s)\n",
"vis=1.79/100000;//kg/(m*s)\n",
"d=1.23;//kg/(m^3)\n",
"dm=998;//kg/(m^3)\n",
"Vm=(vism*d*D*V*1000)/(vis*dm*Dm);//m/s\n",
"f=(V/Vm)*(Dm/(D*1000))*fm;//Hz\n",
"disp('mm',Hm,'The model dimension =')\n",
"disp('m/s',Vm,'The velocity at which the test should be performed=')\n",
"disp('Hz',f,'The predicted prototype vortex shredding frequency =')"
   ]
   }
,
{
		   "cell_type": "markdown",
		   "metadata": {},
		   "source": [
			"## Example 7.6: reynolds_number_similarity.sce"
		   ]
		  },
  {
"cell_type": "code",
	   "execution_count": null,
	   "metadata": {
	    "collapsed": true
	   },
	   "outputs": [],
"source": [
"clc;\n",
"clear;\n",
"D=2;//ft\n",
"Q=30;//cfs\n",
"Dm=3;//in\n",
"//Rem=Re; hence (Vm*Dm/kvism)=(V*D/kvis); where kvis is kinematic viscosity\n",
"//kvis=kvism; same fluid is used for model and prototype\n",
"//(Vm/V)=(D/Dm)\n",
"//Q=VA; hence Qm/Q = (Vm*Am)/(V*A)=(Dm/D)\n",
"Qm=(Dm/12)*Q/D;//cfs\n",
"disp('cfs',Qm,'The required flowrate in the model=')\n",
"Drat=0.04:0.01:1;\n",
"count=1;\n",
"for i=0.04:0.01:1\n",
"    Vrat(count)=1/i;\n",
"    count=count+1;\n",
"end\n",
"plot2d(Drat,Vrat,rect=[0,0,1,25])\n",
"xtitle('Vm/V vs Dm/D','Dm/D','Vm/V')"
   ]
   }
,
{
		   "cell_type": "markdown",
		   "metadata": {},
		   "source": [
			"## Example 7.7: predicting_prototype_performance.sce"
		   ]
		  },
  {
"cell_type": "code",
	   "execution_count": null,
	   "metadata": {
	    "collapsed": true
	   },
	   "outputs": [],
"source": [
"clc;\n",
"clear;\n",
"V=240;//mph\n",
"ratio=1/10;\n",
"Vair=240;//mph\n",
"Fm=1;//lb; Fm =drag force on model\n",
"p=14.7;//psia; standard atmospheric pressure\n",
"//Re=Rem\n",
"//(d*V*l/vis)=(dm*Vm*lm/vism)\n",
"//here Vm=V and lm/l=ratio\n",
"//assumption made is that an increase in pressure does not significantly change viscosity\n",
"drat=V/(ratio*Vair);//where drat=dm/d\n",
"//for an ideal gas p=d*R*T\n",
"//T=Tm\n",
"//hence, pm/p=dm/d; pm/p=prat\n",
"pm=p*drat;\n",
"//F/(0.5*d*(V^2)*(l^2))=Fm/(0.5*dm*(Vm^2)*(lm^2))\n",
"F=(1/drat)*((V/Vair)^2)*((1/ratio)^2)*Fm;\n",
"disp('psia',pm,'The required air pressure in the tunnel=')\n",
"disp('lb',F,'The corrosponding drag on the prtotype for a 1 lb drag on the model=')"
   ]
   }
,
{
		   "cell_type": "markdown",
		   "metadata": {},
		   "source": [
			"## Example 7.8: froude_number_similarity.sce"
		   ]
		  },
  {
"cell_type": "code",
	   "execution_count": null,
	   "metadata": {
	    "collapsed": true
	   },
	   "outputs": [],
"source": [
"clc;\n",
"clear;\n",
"w=20;//m\n",
"Q=125;//(m^3)/s\n",
"ratio=1/15;\n",
"t=24;//hours\n",
"wm=ratio*w;//m\n",
"//Vm/(gm*lm)^0.5 = V/(g*l)^0.5\n",
"//gm=g\n",
"//Q=VA and lm/l=1/15\n",
"//hence Qm/Q = ((lm/l)^0.5)*((lm/l)^2) = ratio^2.5\n",
"Qm=(ratio^2.5)*Q;\n",
"//V=l/t\n",
"//tm/t=(V/Vm)*(lm/l)=ratio^0.5\n",
"tm=(ratio^0.5)*t;//hours\n",
"disp('m',wm,'The required model width=') \n",
"disp('(m^3)/s',Qm,'The required model flowrate=')\n",
"disp('hrs',tm,'The operating time for the model=')\n",
"lrat=0.01:0.01:0.5;\n",
"count=1;\n",
"for i=0.01:0.01:0.5\n",
"    tmodel(count)=(i^0.5)*t;\n",
"    count=count+1;\n",
"end\n",
"plot2d(lrat,tmodel,rect=[0,0,0.5,20])\n",
"xtitle('tm vs lm/l','lm/l','tm, hr') "
   ]
   }
],
"metadata": {
		  "kernelspec": {
		   "display_name": "Scilab",
		   "language": "scilab",
		   "name": "scilab"
		  },
		  "language_info": {
		   "file_extension": ".sce",
		   "help_links": [
			{
			 "text": "MetaKernel Magics",
			 "url": "https://github.com/calysto/metakernel/blob/master/metakernel/magics/README.md"
			}
		   ],
		   "mimetype": "text/x-octave",
		   "name": "scilab",
		   "version": "0.7.1"
		  }
		 },
		 "nbformat": 4,
		 "nbformat_minor": 0
}
