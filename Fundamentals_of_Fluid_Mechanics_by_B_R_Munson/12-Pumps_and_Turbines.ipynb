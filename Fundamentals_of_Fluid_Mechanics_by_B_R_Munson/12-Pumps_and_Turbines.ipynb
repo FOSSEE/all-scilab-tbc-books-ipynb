{
"cells": [
 {
		   "cell_type": "markdown",
	   "metadata": {},
	   "source": [
       "# Chapter 12: Pumps and Turbines"
	   ]
	},
{
		   "cell_type": "markdown",
		   "metadata": {},
		   "source": [
			"## Example 12.2: shaft_power_calculatio.sce"
		   ]
		  },
  {
"cell_type": "code",
	   "execution_count": null,
	   "metadata": {
	    "collapsed": true
	   },
	   "outputs": [],
"source": [
"clc;\n",
"clear;\n",
"exec('C:\Program Files\scilab-5.3.0\bin\TCP\12_2data.sci');\n",
"U2=r2*2*%pi*N/(60*12);//ft/sec\n",
"Vr2=(1400/(7.48*60*2*%pi*(r2/12)*(b/12)));//ft/sec\n",
"V2tangential=U2-(Vr2*cotg(beta2*%pi/180));//ft/sec\n",
"hi=U2*V2tangential/32.2;//ft\n",
"disp('ft',hi,'The ideal head rise=')\n",
"d=1.94;//slugs/(ft^3)\n",
"Wshaft=(d*Q*U2*V2tangential/(7.58*60))/550;//hp\n",
"disp('hp',Wshaft,'The power transferred to the fluid=')"
   ]
   }
,
{
		   "cell_type": "markdown",
		   "metadata": {},
		   "source": [
			"## Example 12.2: shaft_power_calculatio.sci"
		   ]
		  },
  {
"cell_type": "code",
	   "execution_count": null,
	   "metadata": {
	    "collapsed": true
	   },
	   "outputs": [],
"source": [
"Q=1400;//gpm\n",
"N=1750;//rpm\n",
"b=2;//in\n",
"r1=1.9;//in\n",
"r2=7.0;//in\n",
"beta2=23;//degrees\n",
"alpha1=90;//degrees"
   ]
   }
,
{
		   "cell_type": "markdown",
		   "metadata": {},
		   "source": [
			"## Example 12.3: NPSH_calculatio.sce"
		   ]
		  },
  {
"cell_type": "code",
	   "execution_count": null,
	   "metadata": {
	    "collapsed": true
	   },
	   "outputs": [],
"source": [
"clc;\n",
"clear;\n",
"exec('C:\Program Files\scilab-5.3.0\bin\TCP\12_3data.sci');\n",
"V=Q/((%pi/4)*(D/12)^2);//ft/sec\n",
"hL=KL*(V^2)/(2*32.2);//ft\n",
"//from value of T\n",
"pv=0.5069;//psi\n",
"sw=62.22;//lb/(ft^3); sw =specific weight\n",
"z1max=(patm*144/sw)-hL-(pv*144/sw)-NPSHr;//ft\n",
"disp('ft',z1max,'The maximum height at which the pump can be located=')"
   ]
   }
,
{
		   "cell_type": "markdown",
		   "metadata": {},
		   "source": [
			"## Example 12.3: NPSH_calculatio.sci"
		   ]
		  },
  {
"cell_type": "code",
	   "execution_count": null,
	   "metadata": {
	    "collapsed": true
	   },
	   "outputs": [],
"source": [
"Q=0.5;//(ft^3)/sec\n",
"NPSHr=15;//ft\n",
"T=80;//degree F\n",
"patm=14.7;//psi\n",
"KL=20;\n",
"D=4;//in"
   ]
   }
,
{
		   "cell_type": "markdown",
		   "metadata": {},
		   "source": [
			"## Example 12.5: pump_scaling_laws.sce"
		   ]
		  },
  {
"cell_type": "code",
	   "execution_count": null,
	   "metadata": {
	    "collapsed": true
	   },
	   "outputs": [],
"source": [
"clc;\n",
"clear;\n",
"exec('C:\Program Files\scilab-5.3.0\bin\TCP\12_5data.sci');\n",
"CQ=0.0625;\n",
"Q1=CQ*(N1/60)*(2*%pi)*(D1/12)^3;//(ft^3)/sec\n",
"disp('gpm',Q1*7.48*60,'or','(ft^3)/sec',Q1,'The discharge=')\n",
"CH=0.19;\n",
"ha=CH*((N1*2*%pi/60)^2)*((D1/12)^2)/32.2;//ft\n",
"disp('ft',ha,'The actual  headrise=')\n",
"CP=0.014;\n",
"Wshaft=(CP*(1.94)*((N1*2*%pi/60)^3)*((D1/12)^5))/550;//hp\n",
"disp('hp',Wshaft,'The shaft horsepower=')"
   ]
   }
,
{
		   "cell_type": "markdown",
		   "metadata": {},
		   "source": [
			"## Example 12.5: pump_scaling_laws.sci"
		   ]
		  },
  {
"cell_type": "code",
	   "execution_count": null,
	   "metadata": {
	    "collapsed": true
	   },
	   "outputs": [],
"source": [
"D1=8;//in\n",
"N1=1200;//rpm\n",
"D2=12;//in\n",
"N2=1000;//rpm\n",
"T=60;//degree F"
   ]
   }
,
{
		   "cell_type": "markdown",
		   "metadata": {},
		   "source": [
			"## Example 12.6: pelton_wheel_turbine.sce"
		   ]
		  },
  {
"cell_type": "code",
	   "execution_count": null,
	   "metadata": {
	    "collapsed": true
	   },
	   "outputs": [],
"source": [
"clc;\n",
"clear;\n",
"exec('C:\Program Files\scilab-5.3.0\bin\TCP\12_6data.sci');\n",
"//energy equation between a point on surface of lake and the nozzle outlet\n",
"//z0=(V1^2)/(2*32.2) + hL\n",
"//from continuity equation, V=(A1*V1/A)=((D1/D)^2)*V1\n",
"//neglecting minor losses, \n",
"//z0=(1+(f*l/D)*((D1/D)^4))*(V1^2)/(2*32.2)\n",
"//Wshaft=d*Q*u*(U-V1)*(1-cos(B))\n",
"//The maximum power occurs at U=V1/2 and dWshaft/dD1=0\n",
"a=(2*32.2*z0)^0.5;//113.5\n",
"b=f*(l/(D/12))*(1/(D/12))^4;//152\n",
"c=a*%pi*1.94*(1-cos(B*%pi/180))/4;//323\n",
"d=(c*a*a/4);//1.04*(10^6)\n",
"//by the above conditions, and applying Q=(%pi*(D1^2)*V1/4)\n",
"D1=(1/(2*b))^(1/4);//ft\n",
"disp('ft',D1,'The nozzle diameter for maximum power output=')\n",
"Wshaft=-((d*D1^2)/(1+(b*D1^4))^(3/2))/550;//hp\n",
"disp('hp',Wshaft,'The maximum power output=')\n",
"V1=a/(1+(b*(D1^4)))^0.5;//ft/sec\n",
"omega=(V1/(2*R))*60/(2*%pi);//rpm\n",
"disp('rpm',omega,'The angular velocity of the rotor=')"
   ]
   }
,
{
		   "cell_type": "markdown",
		   "metadata": {},
		   "source": [
			"## Example 12.6: pelton_wheel_turbine.sci"
		   ]
		  },
  {
"cell_type": "code",
	   "execution_count": null,
	   "metadata": {
	    "collapsed": true
	   },
	   "outputs": [],
"source": [
"z0=200;//ft\n",
"l=1000;//ft\n",
"f=0.02;\n",
"D=8;//in.\n",
"B=150;//degree\n",
"R=1.5;//ft\n",
"z1=0;//ft"
   ]
   }
,
{
		   "cell_type": "markdown",
		   "metadata": {},
		   "source": [
			"## Example 12.8: dental_drill_characteristics.sce"
		   ]
		  },
  {
"cell_type": "code",
	   "execution_count": null,
	   "metadata": {
	    "collapsed": true
	   },
	   "outputs": [],
"source": [
"clc;\n",
"clear;\n",
"exec('C:\Program Files\scilab-5.3.0\bin\TCP\12_8data.sci');\n",
"rm=0.5*(ro+ri)/12;\n",
"U=(N*2*%pi/60)*rm;//ft/sec\n",
"wshaft=(-U)*(2*U)/32.174;//ft*lb/lbm\n",
"disp('Ft*lb/lbm',wshaft,'The shaft energy per unit mass of air=')"
   ]
   }
,
{
		   "cell_type": "markdown",
		   "metadata": {},
		   "source": [
			"## Example 12.8: dental_drill_characteristics.sci"
		   ]
		  },
  {
"cell_type": "code",
	   "execution_count": null,
	   "metadata": {
	    "collapsed": true
	   },
	   "outputs": [],
"source": [
"ri=0.133;//in.\n",
"ro=0.168;//in.\n",
"N=300000;//rpm"
   ]
   }
],
"metadata": {
		  "kernelspec": {
		   "display_name": "Scilab",
		   "language": "scilab",
		   "name": "scilab"
		  },
		  "language_info": {
		   "file_extension": ".sce",
		   "help_links": [
			{
			 "text": "MetaKernel Magics",
			 "url": "https://github.com/calysto/metakernel/blob/master/metakernel/magics/README.md"
			}
		   ],
		   "mimetype": "text/x-octave",
		   "name": "scilab",
		   "version": "0.7.1"
		  }
		 },
		 "nbformat": 4,
		 "nbformat_minor": 0
}
