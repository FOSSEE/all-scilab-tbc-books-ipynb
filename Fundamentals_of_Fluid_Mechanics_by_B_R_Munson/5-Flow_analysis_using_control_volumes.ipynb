{
"cells": [
 {
		   "cell_type": "markdown",
	   "metadata": {},
	   "source": [
       "# Chapter 5: Flow analysis using control volumes"
	   ]
	},
{
		   "cell_type": "markdown",
		   "metadata": {},
		   "source": [
			"## Example 5.11: Anchoring_force_determination.sce"
		   ]
		  },
  {
"cell_type": "code",
	   "execution_count": null,
	   "metadata": {
	    "collapsed": true
	   },
	   "outputs": [],
"source": [
"clc;\n",
"clear;\n",
"dia1=16;//mm\n",
"h=30;//mm\n",
"dia2=5;//mm\n",
"Q=0.6;//litre/sec\n",
"mass=0.1;//kg\n",
"p1=464;//kPa\n",
"d=999;//kg/m^3\n",
"m=d*Q/1000;//kg/s\n",
"A1=%pi*((dia1/1000)^2)/4;//m^2\n",
"w1=Q/(A1*1000);//m/s\n",
"A2=%pi*((dia2/1000)^2)/4;//m^2\n",
"w2=Q/(A2*1000);//m/s\n",
"Wnozzle=mass*9.81;//N\n",
"volwater=((1/12)*(%pi)*(h)*((dia1^2)+(dia2^2)+(dia1*dia2)))/(1000^3);//m^3\n",
"Wwater=d*volwater*9.81;//N\n",
"F=m*(w1-w2)+Wnozzle+(p1*1000*A1)+Wwater;//N\n",
"disp('N',F,'The anchoring force=')"
   ]
   }
,
{
		   "cell_type": "markdown",
		   "metadata": {},
		   "source": [
			"## Example 5.12: Anchoring_force_calculation.sce"
		   ]
		  },
  {
"cell_type": "code",
	   "execution_count": null,
	   "metadata": {
	    "collapsed": true
	   },
	   "outputs": [],
"source": [
"clc;\n",
"clear;\n",
"A=0.1;//ft^2\n",
"v=50;//ft/s\n",
"p1=30;//psia\n",
"p2=24;//psia\n",
"\n",
"d=1.94;//slugs/ft^3\n",
"//v1=v2=v and A1=A2=A\n",
"m=d*v*A;\n",
"Fay=-m*(v+v)-((p1-14.7)*A*144)-((p2-14.7)*A*144);\n",
"disp('lb',0,' and the x component of anchoring force is','lb',Fay,'The y component of anchoring force is ')"
   ]
   }
,
{
		   "cell_type": "markdown",
		   "metadata": {},
		   "source": [
			"## Example 5.13: Frictional_force_determination.sce"
		   ]
		  },
  {
"cell_type": "code",
	   "execution_count": null,
	   "metadata": {
	    "collapsed": true
	   },
	   "outputs": [],
"source": [
"clc;\n",
"clear;\n",
"p1=100;//psia\n",
"p2=18.4;//psia\n",
"T1=540;//degree R\n",
"T2=453;//degree R\n",
"V2=1000;//ft/s\n",
"V1=219;//ft/s\n",
"dia=4;//in\n",
"\n",
"//m=m1=m2\n",
"A2=%pi*((4/12)^2)/4;//ft^2\n",
"//equation of state d*R*T=p\n",
"d2=p2*144/(1716*T2);\n",
"m=A2*d2*V2;//slugs/s\n",
"Rx=A2*144*(p1-p2)-(m*(V2-V1));//lb\n",
"disp('lb',Rx,'Frictional force exerted by pipe wall on air flow=')"
   ]
   }
,
{
		   "cell_type": "markdown",
		   "metadata": {},
		   "source": [
			"## Example 5.15: nominal_thrust_calculation.sce"
		   ]
		  },
  {
"cell_type": "code",
	   "execution_count": null,
	   "metadata": {
	    "collapsed": true
	   },
	   "outputs": [],
"source": [
"clc;\n",
"clear;\n",
"v1=200;//m/s\n",
"v2=500;//m/s\n",
"A1=1;//m^2\n",
"p1=78.5;//kPa(abs)\n",
"T1=268;//K\n",
"p2=101;//kPa(abs)\n",
"\n",
"//F=-p1*A1 + p2*A2 + m*(v2-v1)\n",
"//m=d1*A1*v1\n",
"//d1=(p1)/(R*T1)\n",
"d1=(p1*1000)/(286.9*T1);\n",
"m=d1*v1*A1;\n",
"F=-((p1-p2)*A1*1000) + m*(v2-v1);\n",
"disp('N',F,'The thrust for which the stand is to be designed=')"
   ]
   }
,
{
		   "cell_type": "markdown",
		   "metadata": {},
		   "source": [
			"## Example 5.17: force_determination.sce"
		   ]
		  },
  {
"cell_type": "code",
	   "execution_count": null,
	   "metadata": {
	    "collapsed": true
	   },
	   "outputs": [],
"source": [
"clc;\n",
"clear;\n",
"v1=100;//ft/sec\n",
"v0=20;//ft/sec\n",
"ang=45;//degrees\n",
"A1=0.006;//ft^2\n",
"l=1;//ft\n",
"//m1=m2=m; continuity equation\n",
"//d=density of water= constant\n",
"//w=speed of water relative to the moving control volume=constant=w1=w2\n",
"//w1=v1-v0\n",
"w=v1-v0;\n",
"d=1.94;//slugs/ft^3\n",
"//-Rx=(w1)(-m1)+(w2cos(ang))(m2)\n",
"Rx=d*(w^2)*A1*(1-cos(ang*%pi/180));\n",
"//wwater=(specific wt of water)*A1*l\n",
"wwater=62.4*A1*l;\n",
"Rz=(d*(w^2)*(sin(ang*%pi/180))*A1)+wwater;\n",
"R=((Rx^2)+(Rz^2))^0.5;\n",
"angle=(atan(Rz/Rx))*180/(%pi);\n",
"disp('lb',R,'The force exerted by stream of water on vane surface=')\n",
"disp('degrees',angle,'The force points right and down from the x direction at an angle of=')"
   ]
   }
,
{
		   "cell_type": "markdown",
		   "metadata": {},
		   "source": [
			"## Example 5.18: resisting_torque_calculation.sce"
		   ]
		  },
  {
"cell_type": "code",
	   "execution_count": null,
	   "metadata": {
	    "collapsed": true
	   },
	   "outputs": [],
"source": [
"clc;\n",
"clear;\n",
"Q=1000;//ml/sec\n",
"A=30;//mm^2\n",
"r=200;//mm\n",
"n=500;//rev/min\n",
"//v2 is tangential; v2=vang2\n",
"m=(Q/1000000)*999;//kg/sec\n",
"//m=2*d*(A)*v2=d*Q\n",
"v2=(Q)/(2*A);//m/sec\n",
"//Torque reuired to hold sprinkler stationary\n",
"Tshaft=(-(r/1000)*(v2)*m);//Nm\n",
"//u2=speed of nozzle=r*omega\n",
"//v21=v2-u2\n",
"omega=n*(2*%pi)/60;//rad/sec\n",
"v21=v2-(r*omega/1000);\n",
"//resisting torque when sprinker is rotating at a constant speed of n rev/min\n",
"Tshaft1=(-(r/1000)*(v21)*m);//Nm\n",
"//when no resistintg torque is applied\n",
"//Tshaft=0\n",
"omega1=v2/(r/1000);\n",
"n1=(omega1)*60/(2*%pi);//rpm\n",
"disp('Nm',Tshaft,'Resisting torque required to hold the sprinker stationary=')\n",
"disp('Nm',Tshaft1,'Resisting torque when sprinker is rotating at a constant speed of 500 rev/min=')\n",
"disp('rpm',n1,'Speed of sprikler when no resisting torque is applied=')\n",
"x=0:800;\n",
"\n",
"for i=0:800\n",
"    y(i+1)=(-(r/1000)*(v2-((r/1000)*i*(2*%pi)/60))*m);\n",
"end\n",
"plot2d(x,y,rect=[0,-4,800,0])\n",
"xtitle('Tshaft vs omega','omega,rpm','Tshaft, Nm')"
   ]
   }
,
{
		   "cell_type": "markdown",
		   "metadata": {},
		   "source": [
			"## Example 5.19: estimation_of_power.sce"
		   ]
		  },
  {
"cell_type": "code",
	   "execution_count": null,
	   "metadata": {
	    "collapsed": true
	   },
	   "outputs": [],
"source": [
"clc;\n",
"clear;\n",
"h=1;//in\n",
"Q=230;//ft^3/min\n",
"ang=30;//degrees\n",
"dia1=10;//in\n",
"dia2=12;//in\n",
"n=1725;//rpm\n",
"//m=d*Q\n",
"m=(2.38/1000)*Q/60;\n",
"//u2=rotor blade speed\n",
"u2=(dia2/2)*(n*2*(%pi)/(12*60));\n",
"//m=d*A2*Vr2 and A2=2*%pi*r2*h and r2=dia2/2\n",
"//hence, m=d*2*%pi*r2*h*Vr2\n",
"//Vr2=w2*sin(ang)\n",
"w2=m*12*12/((2.38/1000)*2*(%pi)*(dia2/2)*(h)*sin(ang*(%pi)/180));//ft/sec\n",
"Vang2=u2-(w2*cos(ang*(%pi)/180));//ft/sec\n",
"Wshaft=m*u2*Vang2/(550);//hp\n",
"disp('hp',Wshaft,'The power required to run the fan=')"
   ]
   }
,
{
		   "cell_type": "markdown",
		   "metadata": {},
		   "source": [
			"## Example 5.1: Minimum_Pumping_capacity.sce"
		   ]
		  },
  {
"cell_type": "code",
	   "execution_count": null,
	   "metadata": {
	    "collapsed": true
	   },
	   "outputs": [],
"source": [
"clc;\n",
"clear;\n",
"v2=20;//m/s\n",
"dia2= 40;//mm\n",
"\n",
"//m1=m2\n",
"//d1*Q1=D2*Q2; where d1=d2 is density of seawater\n",
"//hence Q1=Q2\n",
"Q=v2*(%pi*((dia2/1000)^2)/4);//m^3/sec\n",
"disp('m^3/sec',Q,'Flowrate=')"
   ]
   }
,
{
		   "cell_type": "markdown",
		   "metadata": {},
		   "source": [
			"## Example 5.20: Determination_of_power.sce"
		   ]
		  },
  {
"cell_type": "code",
	   "execution_count": null,
	   "metadata": {
	    "collapsed": true
	   },
	   "outputs": [],
"source": [
"clc;\n",
"clear;\n",
"Q=300;//gal/min    \n",
"d1=3.5;//in.\n",
"p1=18;//psi\n",
"d2=1;//in.\n",
"p2=60;//psi\n",
"diffu=3000;//ft*lb/slug\n",
"\n",
"//energy equation\n",
"//m(u2-u1+(p1/d)-(p2/d)+((v2^2)-(v1^2))/2 + g*(z2-z1))=q-Wshaft\n",
"m=Q*1.94/(7.48*60);//slugs/sec\n",
"v1=Q*12*12/(%pi*(d1^2)*60*7.48/4);\n",
"v2=Q*12*12/(%pi*(d2^2)*7.48*60/4);\n",
"Wshaft=m*(diffu + (p2*144/1.94) - (p1*144/1.94) + (((v2^2)-(v1^2))/2))/550;//hp\n",
"disp('hp',Wshaft,'The power required by the pump=')\n",
"disp('hp',m*(diffu/550),'The internal energy change accounts for =')\n",
"disp('hp',m*(((p2*144/1.94) - (p1*144/1.94))/550),'The pressure rise accounts for =')\n",
"disp('hp',m*(((v2^2)-(v1^2))/(550*2)),'The kinetic energy change accounts for =')"
   ]
   }
,
{
		   "cell_type": "markdown",
		   "metadata": {},
		   "source": [
			"## Example 5.21: work_output_calculatio.sce"
		   ]
		  },
  {
"cell_type": "code",
	   "execution_count": null,
	   "metadata": {
	    "collapsed": true
	   },
	   "outputs": [],
"source": [
"clc;\n",
"clear;\n",
"v1=30;//m/s\n",
"h1=3348;//kJ/kg\n",
"v2=60;//m/s\n",
"h2=2550;//kJ/kg\n",
"\n",
"//energy equation   \n",
"//wshaftin=Wshaftin/m= (h2-h1 + ((v2^2)-(v1^2))/2)\n",
"//wshaftout=-wshaftin\n",
"wshaftout=h1-h2 + (((v1^2)-(v2^2))/2000);\n",
"disp('KJ/kg',wshaftout,'The work output involved per unit mass of steam through-flow=')"
   ]
   }
,
{
		   "cell_type": "markdown",
		   "metadata": {},
		   "source": [
			"## Example 5.22: temperature_change_determination.sce"
		   ]
		  },
  {
"cell_type": "code",
	   "execution_count": null,
	   "metadata": {
	    "collapsed": true
	   },
	   "outputs": [],
"source": [
"clc;\n",
"clear;\n",
"z=500;//ft\n",
"//energy equation\n",
"//T2-T1 = (u2 - u1)/c = g*(z2 - z1)/c; c=specific heat of water = 1 Btu/(lbm* degree R)\n",
"diffT = 32.2*z/(778*32.2);//degree R\n",
"disp('degree R',diffT,'The temperature change associated with this flow=')"
   ]
   }
,
{
		   "cell_type": "markdown",
		   "metadata": {},
		   "source": [
			"## Example 5.23: volume_flowrates_compariso.sce"
		   ]
		  },
  {
"cell_type": "code",
	   "execution_count": null,
	   "metadata": {
	    "collapsed": true
	   },
	   "outputs": [],
"source": [
"clc;\n",
"clear;\n",
"dia=120;//mm\n",
"p=1.0;//kPa\n",
"\n",
"//using energy equation\n",
"//Q=A2*v2=A2*((p1-p2)/(d*(1+Kl)/2)); d =density, Kl= loss coefficient\n",
"Kl1=0.05;;\n",
"Kl2=0.5;\n",
"//for rounded entrance cyliindrical vent\n",
"Q1=(%pi*((dia/1000)^2)/4)*(p*1000*2/(1.23*(1+Kl1)))^0.5;\n",
"//for cylindrical vent\n",
"Q2=(%pi*((dia/1000)^2)/4)*(p*1000*2/(1.23*(1+Kl2)))^0.5;\n",
"\n",
"disp('m^3/sec',Q1,'The volume fowrate associated with the rounded entrance cylindrical vent configuration =')\n",
"disp('m^3/sec',Q2,'The volume fowrate associated with the cylindrical vent configuration =')\n",
"KLoss=0:0.01:0.5;\n",
"count=1;\n",
"for i=0:0.01:0.5\n",
"    flow(count)=(%pi*((dia/1000)^2)/4)*(p*1000*2/(1.23*(1+i)))^0.5;\n",
"    count=count+1;\n",
"end\n",
"plot2d(KLoss,flow,rect=[0,0,0.5,0.5])\n",
"xtitle('Q vs KL','KL','Q, (m^3)/sec')"
   ]
   }
,
{
		   "cell_type": "markdown",
		   "metadata": {},
		   "source": [
			"## Example 5.24: useful_work_determination.sce"
		   ]
		  },
  {
"cell_type": "code",
	   "execution_count": null,
	   "metadata": {
	    "collapsed": true
	   },
	   "outputs": [],
"source": [
"clc;\n",
"clear;\n",
"p=0.4;//kW\n",
"dia=0.6;//m\n",
"v2=12;//m/s\n",
"v1=0;//m/s\n",
"//energy equation\n",
"Wuseful=(v2^2)/2;\n",
"//wshaftin= Wshaftin/m\n",
"wshaftin=(p*1000)/(1.23*%pi*(0.6^2)*12/4);\n",
"eff=Wuseful/wshaftin;\n",
"disp('N.m/kg',Wuseful,'The work to air which provides useful effect-=')\n",
"disp(eff,'Fluid mechanical efficiency of this fan=')"
   ]
   }
,
{
		   "cell_type": "markdown",
		   "metadata": {},
		   "source": [
			"## Example 5.25: flowrate_and_powerloss.sce"
		   ]
		  },
  {
"cell_type": "code",
	   "execution_count": null,
	   "metadata": {
	    "collapsed": true
	   },
	   "outputs": [],
"source": [
"clc;\n",
"clear;\n",
"p=10;//hp\n",
"z=30;//ft\n",
"hl=15;//ft\n",
"//energy equation\n",
"//hs=Wshaftin/(sw*Q) = hl+z\n",
"Q=(p*550)/((hl+z)*62.4);\n",
"wloss=62.4*Q*hl/550;\n",
"disp('ft^3/s',Q,'Flowrate =')\n",
"disp('hp',wloss,'Power loss=')\n",
"loss=0:25;\n",
"for i=0:25\n",
"    q(i+1)=(p*550)/((i+z)*62.4);\n",
"end\n",
"plot2d(loss,q,rect=[0,0,25,3.5])\n",
"xtitle('Flowrate vs headloss','hs,ft','Q, ft^3/sec')"
   ]
   }
,
{
		   "cell_type": "markdown",
		   "metadata": {},
		   "source": [
			"## Example 5.26: nonuniform_velocity_profile.sce"
		   ]
		  },
  {
"cell_type": "code",
	   "execution_count": null,
	   "metadata": {
	    "collapsed": true
	   },
	   "outputs": [],
"source": [
"clc;\n",
"clear;\n",
"m=0.1;//kg/min\n",
"dia1=60;//mm\n",
"alpha1=2.0;\n",
"dia2=30;//mm\n",
"alpha2=1.08;\n",
"p=0.1;//kPa\n",
"power=0.14;//W\n",
"\n",
"wshaftin=power*60/m;//Nm/kg\n",
"vavg1=m*1000*1000/(60*1.23*%pi*dia1*dia1/4);\n",
"vavg2=m*1000*1000/(60*1.23*%pi*dia2*dia2/4);\n",
"loss1=wshaftin-(p*1000/1.23)+((vavg1^2)/2)-((vavg2^2)/2);//Nm/kg\n",
"loss2=wshaftin-(p*1000/1.23)+(alpha1*(vavg1^2)/2)-(alpha2*(vavg2^2)/2);//Nm/kg\n",
"disp('Nm/kg',loss1,'Loss for uniform velocity profile=')\n",
"disp('Nm/kg',loss2,'Loss for actual velocity profile=')"
   ]
   }
,
{
		   "cell_type": "markdown",
		   "metadata": {},
		   "source": [
			"## Example 5.29: expanded_air_velocity.sce"
		   ]
		  },
  {
"cell_type": "code",
	   "execution_count": null,
	   "metadata": {
	    "collapsed": true
	   },
	   "outputs": [],
"source": [
"clc;\n",
"clear;\n",
"p1=100;//psia\n",
"T1=520;//degree R\n",
"p2=14.7;//psia\n",
"\n",
"//for incompressible flow\n",
"\n",
"d=p1*144/(1716*T1);//where d=density, calculated by assuminng air to behave like an ideal gas\n",
"//Bernoulli equation\n",
"v2=(2*(p1-p2)*144/d)^0.5;//ft/sec\n",
"disp('ft/sec',v2,'The velocity of expanded air considering incompressible flow =')\n",
"\n",
"//for compressible flow\n",
"\n",
"k=1.4;//for air\n",
"d1=d;\n",
"d2=d1*((p2/p1)^(1/k));//where d2=density of expanded air\n",
"//bernoulli equation\n",
"V2=((2*k/(k-1))*((p1*144/d1)-(p2*144/d2)))^0.5;//ft/s\n",
"disp('ft/s',V2,'The velocity of expanded air considering compressible flow =')"
   ]
   }
,
{
		   "cell_type": "markdown",
		   "metadata": {},
		   "source": [
			"## Example 5.2: average_velocity_calculatio.sce"
		   ]
		  },
  {
"cell_type": "code",
	   "execution_count": null,
	   "metadata": {
	    "collapsed": true
	   },
	   "outputs": [],
"source": [
"clc;\n",
"clear;\n",
"v2=1000;//ft/sec\n",
"p1=100;//psia\n",
"p2=18.4;//psia\n",
"T1=540;//degree R\n",
"T2=453;//degree R\n",
"dia=4;//inches\n",
"//m1=m2\n",
"//d1*A1*v1=d2*A2*v2\n",
"//A1=A2 and d=p/(R*T); since air at pressures and temperatures involved behaves as an ideal gas\n",
"v1=p2*T1*v2/(p1*T2);\n",
"disp('ft/sec',v1,'Velocity at section 1 =')"
   ]
   }
,
{
		   "cell_type": "markdown",
		   "metadata": {},
		   "source": [
			"## Example 5.3: Mass_Flowrate_determination.sce"
		   ]
		  },
  {
"cell_type": "code",
	   "execution_count": null,
	   "metadata": {
	    "collapsed": true
	   },
	   "outputs": [],
"source": [
"clc;\n",
"clear;\n",
"m1=22;//slugs/hr\n",
"m3=0.5;//slugs/hr\n",
"//-m1+m2+m3=0\n",
"m2=m1-m3;\n",
"disp('slugs/hr',m2,'Mass flowrate of the dry air and water vapour leaving the dehumidifier=')"
   ]
   }
,
{
		   "cell_type": "markdown",
		   "metadata": {},
		   "source": [
			"## Example 5.5: change_in_depth.sce"
		   ]
		  },
  {
"cell_type": "code",
	   "execution_count": null,
	   "metadata": {
	    "collapsed": true
	   },
	   "outputs": [],
"source": [
"clc;\n",
"clear;\n",
"Q=9;//gal/min\n",
"l=5;//ft\n",
"b=2;//ft\n",
"H=1.5;//ft\n",
"//continuity equation to water: integral of m= d*((h*b*l)+(H-h)*A); where A is cross-sectional area of faucet\n",
"//m=d*(b*l-A)*dh/dt, where dh/dt= hrate\n",
"//m=d*Q\n",
"//since A<<l*b, it can be neglected\n",
"fn=poly([0 (1.94*l*b)],'h','c');\n",
"x=derivat(fn);//x=m/(dh/dt)\n",
"hrate=Q*12*1.94/(x*7.48);\n",
"disp('in./min',hrate,'Time rate of change of depth of water in tub =')\n",
"d=0:30;\n",
"for i=0:30\n",
"    hrate1(i+1)=(Q*12*12*12)/(((l*b*12*12)-(%pi*(i^2)/4))*7.48);\n",
"end\n",
"plot2d(d,hrate1,rect=[0,0,30,3])\n",
"xtitle('graph','D, in.','dh/dt, in./min')"
   ]
   }
,
{
		   "cell_type": "markdown",
		   "metadata": {},
		   "source": [
			"## Example 5.6: mass_flowrate_estimatio.sce"
		   ]
		  },
  {
"cell_type": "code",
	   "execution_count": null,
	   "metadata": {
	    "collapsed": true
	   },
	   "outputs": [],
"source": [
"clc;\n",
"clear;\n",
"v=971;//km/hr\n",
"v2=1050;//km/hr\n",
"A1=0.80;//m^2\n",
"d1=0.736;//Kg/m^3\n",
"A2=0.558;//m^2\n",
"d2=0.515;//Kg/m^3\n",
"\n",
"//w1=v=intake velocity\n",
"//mass flow rate of fuel intake = d2*A2*w2 - d1*A1*w1\n",
"w2=v2+v;\n",
"m=(d2*A2*w2 - d1*A1*v)*1000;\n",
"disp('kg/hr',m,'The mass flow rate of fuel intake = ')"
   ]
   }
,
{
		   "cell_type": "markdown",
		   "metadata": {},
		   "source": [
			"## Example 5.7: Speed_of_water.sce"
		   ]
		  },
  {
"cell_type": "code",
	   "execution_count": null,
	   "metadata": {
	    "collapsed": true
	   },
	   "outputs": [],
"source": [
"clc;\n",
"clear;\n",
"Q=1000;//ml/s\n",
"A2=30;//mm^2\n",
"rotv=600;//rpm\n",
"\n",
"//mass in = mass out\n",
"w2=(Q*0.001*1000000)/(2*A2*1000);\n",
"disp('m/s',w2,'Average speed of water leaving each nozzle when sprinkle head is stationary and when it rotates with a constant speed of 600rpm  =')"
   ]
   }
,
{
		   "cell_type": "markdown",
		   "metadata": {},
		   "source": [
			"## Example 5.8: Speed_of_plunger.sce"
		   ]
		  },
  {
"cell_type": "code",
	   "execution_count": null,
	   "metadata": {
	    "collapsed": true
	   },
	   "outputs": [],
"source": [
"clc;\n",
"clear;\n",
"Ap=500;//mm^2\n",
"Q2=300;//cm^3/min\n",
"Qleak=0.1*Q2;//cm^3/min\n",
"//A1=Ap\n",
"//mass conservation in control volume\n",
"//-d*A1*V + m2 + d*Qleak =0; m2=d*Q2\n",
"//V=(Q2+Qleak)/Ap\n",
"V=(Q2+Qleak)*1000/Ap;\n",
"disp('mm/min',V,'The speed at which the plunger should be advanced=')"
   ]
   }
,
{
		   "cell_type": "markdown",
		   "metadata": {},
		   "source": [
			"## Example 5.9: change_in_depth.sce"
		   ]
		  },
  {
"cell_type": "code",
	   "execution_count": null,
	   "metadata": {
	    "collapsed": true
	   },
	   "outputs": [],
"source": [
"clc;\n",
"clear;\n",
"Q=9;//gal/min\n",
"l=5;//ft\n",
"b=2;//ft\n",
"H=1.5;//ft\n",
"//deforming control volume\n",
"//hrate=Q/(l*b-A)\n",
"//A<<l*b\n",
"hrate=Q*12/(l*b*7.48);\n",
"disp('in./min',hrate,'Time rate of change of depth of water in tub =')"
   ]
   }
],
"metadata": {
		  "kernelspec": {
		   "display_name": "Scilab",
		   "language": "scilab",
		   "name": "scilab"
		  },
		  "language_info": {
		   "file_extension": ".sce",
		   "help_links": [
			{
			 "text": "MetaKernel Magics",
			 "url": "https://github.com/calysto/metakernel/blob/master/metakernel/magics/README.md"
			}
		   ],
		   "mimetype": "text/x-octave",
		   "name": "scilab",
		   "version": "0.7.1"
		  }
		 },
		 "nbformat": 4,
		 "nbformat_minor": 0
}
