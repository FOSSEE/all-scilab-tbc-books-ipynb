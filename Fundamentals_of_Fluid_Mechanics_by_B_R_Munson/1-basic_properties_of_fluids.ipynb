{
"cells": [
 {
		   "cell_type": "markdown",
	   "metadata": {},
	   "source": [
       "# Chapter 1: basic properties of fluids"
	   ]
	},
{
		   "cell_type": "markdown",
		   "metadata": {},
		   "source": [
			"## Example 1.2: force_by_tank.sce"
		   ]
		  },
  {
"cell_type": "code",
	   "execution_count": null,
	   "metadata": {
	    "collapsed": true
	   },
	   "outputs": [],
"source": [
"clc;\n",
"clear;\n",
"m=36;//kg\n",
"acc=7;//ft/sq sec\n",
"W=m*9.81;\n",
"disp('W=')\n",
"disp(W)\n",
"//F=W+m*acc\n",
"//1 ft= 0.3048 m\n",
"F=W+(m*acc*0.3048);\n",
"disp('N',F,'F=')"
   ]
   }
,
{
		   "cell_type": "markdown",
		   "metadata": {},
		   "source": [
			"## Example 1.3: density_and_weight_of_air.sce"
		   ]
		  },
  {
"cell_type": "code",
	   "execution_count": null,
	   "metadata": {
	    "collapsed": true
	   },
	   "outputs": [],
"source": [
"clc;\n",
"clear;\n",
"V=0.84;//ft^3\n",
"p=50;//psi\n",
"T=70;//degree farenheit\n",
"atmp=14.7;//psi\n",
"//the air density d=P/(RT)\n",
"//1ft^2=144 inches^2\n",
"d=((p+atmp)*144)/((1716)*(T+460));\n",
"disp(d)\n",
"//slugs/ft^3\n",
"//weight of air\n",
"W=d*32.2*V;\n",
"//1lb=1 slug.ft/sq sec\n",
"disp('lb',W,'W=')\n",
"//taking various values of p a graph is plotted between W and p\n",
"x= -20:60;\n",
"for p= -20: 60\n",
"    i=p+21;\n",
"    y(1,i)=((p+atmp)*144/((1716)*(T+460)))*32.2*V;\n",
"    \n",
"end\n",
"plot(x,y)\n",
"xtitle('W vs p','p.psi','W,lb')\n",
"\n",
" \n",
""
   ]
   }
,
{
		   "cell_type": "markdown",
		   "metadata": {},
		   "source": [
			"## Example 1.4: reynolds_number_calculation.sce"
		   ]
		  },
  {
"cell_type": "code",
	   "execution_count": null,
	   "metadata": {
	    "collapsed": true
	   },
	   "outputs": [],
"source": [
"clc;\n",
"clear;\n",
"vis=0.38;//Ns/m^2\n",
"sg=0.91;//specific gravity of Newtonian fluid\n",
"dia=25;//mm\n",
"vel=2.6;//m/s\n",
"\n",
"//calculating in SI units\n",
"//fluid density d=sg*(density of water @ 277K)\n",
"d=sg*1000;//kg/m^3\n",
"//Reynolds number Re=d*vel*dia/vis\n",
"Re=(d*vel*dia)/(vis*1000);//(kgm/sec^2)/N\n",
"disp(156,'Re in SI units=')\n",
"//calculating in BG units\n",
"d1=d*1.94/1000//slugs/ft^3\n",
"vel1=vel*3.281//ft/s\n",
"dia1=(dia/1000)*3.281//ft\n",
"vis1=vis*(2.089/100)//lb*s/ft^2\n",
"Re1=(d1*vel1*dia1)/vis1;//(slugs.ft/sec^2)/lb\n",
"disp(Re1,'Re in Bg units=')"
   ]
   }
,
{
		   "cell_type": "markdown",
		   "metadata": {},
		   "source": [
			"## Example 1.5: shearing_stress_calculation.sce"
		   ]
		  },
  {
"cell_type": "code",
	   "execution_count": null,
	   "metadata": {
	    "collapsed": true
	   },
	   "outputs": [],
"source": [
"clc;\n",
"clear;\n",
"vis=0.04;//lb*sec/ft^2\n",
"vel=2;//ft/sec\n",
"h=0.2;//inches\n",
"\n",
"//given u=(3*vel/2)(1-(y/h)^2)\n",
"//shearing stress t=vis*(du/dy)\n",
"//(du/dy)=-(3*vel*y/h)\n",
"//along the bottom of the wall y=-h\n",
"//(du/dy)=(3*vel/h)\n",
"t=vis*(3*vel/(h/12));//lb/ft^2\n",
"disp('lb/ft^2',t,'shaering stress t on bottom wall=')\n",
"//along the midplane y=0\n",
"//(du/dy)=0\n",
"t1=0;//lb/ft^2\n",
"disp('lb/ft^2',t1,'shearing stress t on midplane=')"
   ]
   }
,
{
		   "cell_type": "markdown",
		   "metadata": {},
		   "source": [
			"## Example 1.6: final_pressure_calculation.sce"
		   ]
		  },
  {
"cell_type": "code",
	   "execution_count": null,
	   "metadata": {
	    "collapsed": true
	   },
	   "outputs": [],
"source": [
"clc;\n",
"clear;\n",
"p1=14.7;//psi(abs)\n",
"V1=1;//ft^3\n",
"V2=0.5;//ft^3\n",
"//for isentropic compression, (p1(d1^k))=(p2/(d2^k))\n",
"//volume*density=constant(mass)\n",
"ratd=V1/V2;\n",
"p2=((ratd)^1.66)*p1;//psi(abs)\n",
"disp('psi(abs)',p2,'final pressure p2=')\n",
"\n",
"i=1;\n",
"ratV=0.01:0.01:1.0;\n",
"\n",
"for j=0.01:0.01:1.0\n",
"    pres(i)=p1/((j)^1.66);\n",
"    i=i+1;\n",
"    \n",
"end\n",
"\n",
"plot2d(ratV,pres,rect=[0,0,1,1000])\n",
"xtitle('p2 vs V2/V1','V2/V1','p2 psi')"
   ]
   }
,
{
		   "cell_type": "markdown",
		   "metadata": {},
		   "source": [
			"## Example 1.7: ratio_of_speeds.sce"
		   ]
		  },
  {
"cell_type": "code",
	   "execution_count": null,
	   "metadata": {
	    "collapsed": true
	   },
	   "outputs": [],
"source": [
"clc;\n",
"clear;\n",
"s=550;//(mph)\n",
"h=35000;//ft\n",
"T=-66;//degrees farenheit\n",
"k=1.40;\n",
"//speed of sound c=(kRT)^0.5\n",
"c=((k*1716*(T+460)))^0.5;//ft/s\n",
"disp('ft/s',c,'speed of sound c=')\n",
"//speed of sound V=(s m/hour)*(5280 ft/m)/(3600 s/hour)\n",
"V=s*5280/3600;//ft/s\n",
"disp('ft/s',V,'air speed =')\n",
"ratio=V/c;//Mach number\n",
"disp(ratio,'ratio of V/c = Mach Number=')"
   ]
   }
,
{
		   "cell_type": "markdown",
		   "metadata": {},
		   "source": [
			"## Example 1.8: diameter_of_tube.sce"
		   ]
		  },
  {
"cell_type": "code",
	   "execution_count": null,
	   "metadata": {
	    "collapsed": true
	   },
	   "outputs": [],
"source": [
"clc;\n",
"clear;\n",
"T=20;//degree celcius\n",
"h=1;//mm\n",
"//h=(2*st*cos(x)/(sw*R))\n",
"//where st= nsurface tension, x= angle of contact, sw= specific weight of liquid, R= tube radius\n",
"st= 0.0728;//N/m\n",
"sw=9.789;//kN/m^3\n",
"x=0;\n",
"R=(2*st*cos(x))/(sw*1000*h/1000);//m\n",
"D=2*R*1000;//mm\n",
"disp('mm',D,'minimum required tube diameter= ')\n",
"h=0.1:0.1:2;\n",
"for i=0.1:0.1:2\n",
"    R=(2*st*cos(x))/(sw*1000*i/1000);\n",
"    dia(i*10)=2*R*1000;\n",
"end\n",
"\n",
"plot2d(h,dia,rect=[0,0,2,100])\n",
"xtitle('D vs h','h, mm', 'D, mm')"
   ]
   }
,
{
		   "cell_type": "markdown",
		   "metadata": {},
		   "source": [
			"## Example 2: force.by_tank.sce"
		   ]
		  },
  {
"cell_type": "code",
	   "execution_count": null,
	   "metadata": {
	    "collapsed": true
	   },
	   "outputs": [],
"source": [
"clc;\n",
"clear;\n",
"exec ('C:\Program Files\scilab-5.3.0\bin\TCP\1.2data.sci');\n",
"W=m*9.81;\n",
"disp('W=')\n",
"disp(W)\n",
"//F=W+m*acc\n",
"//1 ft= 0.3048 m\n",
"F=W+(m*acc*0.3048);\n",
"disp('N',F,'F=')"
   ]
   }
,
{
		   "cell_type": "markdown",
		   "metadata": {},
		   "source": [
			"## Example 2: force.by_tank.sci"
		   ]
		  },
  {
"cell_type": "code",
	   "execution_count": null,
	   "metadata": {
	    "collapsed": true
	   },
	   "outputs": [],
"source": [
"m=36;//kg\n",
"acc=7;//ft/sq sec"
   ]
   }
,
{
		   "cell_type": "markdown",
		   "metadata": {},
		   "source": [
			"## Example 3: density.and_weight_of_air.sce"
		   ]
		  },
  {
"cell_type": "code",
	   "execution_count": null,
	   "metadata": {
	    "collapsed": true
	   },
	   "outputs": [],
"source": [
"clc;\n",
"clear;\n",
"exec ('C:\Program Files\scilab-5.3.0\bin\TCP\1.3data.sci');\n",
"//the air density d=P/(RT)\n",
"//1ft^2=144 inches^2\n",
"d=((p+atmp)*144)/((1716)*(T+460));\n",
"disp(d)\n",
"//slugs/ft^3\n",
"//weight of air\n",
"W=d*32.2*V;\n",
"//1lb=1 slug.ft/sq sec\n",
"disp('lb',W,'W=')\n",
"//taking various values of p a graph is plotted between W and p\n",
"x= -20:60;\n",
"for p= -20: 60\n",
"    i=p+21;\n",
"    y(1,i)=((p+atmp)*144/((1716)*(T+460)))*32.2*V;\n",
"    \n",
"end\n",
"plot(x,y)\n",
"xtitle('W vs p','p.psi','W,lb')\n",
"\n",
" \n",
""
   ]
   }
,
{
		   "cell_type": "markdown",
		   "metadata": {},
		   "source": [
			"## Example 3: density.and_weight_of_air.sci"
		   ]
		  },
  {
"cell_type": "code",
	   "execution_count": null,
	   "metadata": {
	    "collapsed": true
	   },
	   "outputs": [],
"source": [
"V=0.84;//ft^3\n",
"p=50;//psi\n",
"T=70;//degree farenheit\n",
"atmp=14.7;//psi"
   ]
   }
,
{
		   "cell_type": "markdown",
		   "metadata": {},
		   "source": [
			"## Example 4: reynolds.number_calculation.sce"
		   ]
		  },
  {
"cell_type": "code",
	   "execution_count": null,
	   "metadata": {
	    "collapsed": true
	   },
	   "outputs": [],
"source": [
"clc;\n",
"clear;\n",
"exec ('C:\Program Files\scilab-5.3.0\bin\TCP\1.4data.sci');\n",
"//calculating in SI units\n",
"//fluid density d=sg*(density of water @ 277K)\n",
"d=sg*1000;//kg/m^3\n",
"//Reynolds number Re=d*vel*dia/vis\n",
"Re=(d*vel*dia)/(vis*1000);//(kgm/sec^2)/N\n",
"disp(156,'Re in SI units=')\n",
"//calculating in BG units\n",
"d1=d*1.94/1000//slugs/ft^3\n",
"vel1=vel*3.281//ft/s\n",
"dia1=(dia/1000)*3.281//ft\n",
"vis1=vis*(2.089/100)//lb*s/ft^2\n",
"Re1=(d1*vel1*dia1)/vis1;//(slugs.ft/sec^2)/lb\n",
"disp(Re1,'Re in Bg units=')"
   ]
   }
,
{
		   "cell_type": "markdown",
		   "metadata": {},
		   "source": [
			"## Example 4: reynolds.number_calculation.sci"
		   ]
		  },
  {
"cell_type": "code",
	   "execution_count": null,
	   "metadata": {
	    "collapsed": true
	   },
	   "outputs": [],
"source": [
"vis=0.38;//Ns/m^2\n",
"sg=0.91;//specific gravity of Newtonian fluid\n",
"dia=25;//mm\n",
"vel=2.6;//m/s"
   ]
   }
,
{
		   "cell_type": "markdown",
		   "metadata": {},
		   "source": [
			"## Example 5: shearing.stress_calculation.sce"
		   ]
		  },
  {
"cell_type": "code",
	   "execution_count": null,
	   "metadata": {
	    "collapsed": true
	   },
	   "outputs": [],
"source": [
"clc;\n",
"clear;\n",
"exec ('C:\Program Files\scilab-5.3.0\bin\TCP\1.5data.sci');\n",
"//given u=(3*vel/2)(1-(y/h)^2)\n",
"//shearing stress t=vis*(du/dy)\n",
"//(du/dy)=-(3*vel*y/h)\n",
"//along the bottom of the wall y=-h\n",
"//(du/dy)=(3*vel/h)\n",
"t=vis*(3*vel/(h/12));//lb/ft^2\n",
"disp('lb/ft^2',t,'shaering stress t on bottom wall=')\n",
"//along the midplane y=0\n",
"//(du/dy)=0\n",
"t1=0;//lb/ft^2\n",
"disp('lb/ft^2',t1,'shearing stress t on midplane=')"
   ]
   }
,
{
		   "cell_type": "markdown",
		   "metadata": {},
		   "source": [
			"## Example 5: shearing.stress_calculation.sci"
		   ]
		  },
  {
"cell_type": "code",
	   "execution_count": null,
	   "metadata": {
	    "collapsed": true
	   },
	   "outputs": [],
"source": [
"vis=0.04;//lb*sec/ft^2\n",
"vel=2;//ft/sec\n",
"h=0.2;//inches"
   ]
   }
,
{
		   "cell_type": "markdown",
		   "metadata": {},
		   "source": [
			"## Example 6: final.pressure_calculation.sce"
		   ]
		  },
  {
"cell_type": "code",
	   "execution_count": null,
	   "metadata": {
	    "collapsed": true
	   },
	   "outputs": [],
"source": [
"clc;\n",
"clear;\n",
"exec ('C:\Program Files\scilab-5.3.0\bin\TCP\1.6data.sci');\n",
"//for isentropic compression, (p1(d1^k))=(p2/(d2^k))\n",
"//volume*density=constant(mass)\n",
"ratd=V1/V2;\n",
"p2=((ratd)^1.66)*p1;//psi(abs)\n",
"disp('psi(abs)',p2,'final pressure p2=')\n",
"\n",
"i=1;\n",
"ratV=0.01:0.01:1.0;\n",
"\n",
"for j=0.01:0.01:1.0\n",
"    pres(i)=p1/((j)^1.66);\n",
"    i=i+1;\n",
"    \n",
"end\n",
"\n",
"plot2d(ratV,pres,rect=[0,0,1,1000])\n",
"xtitle('p2 vs V2/V1','V2/V1','p2 psi')"
   ]
   }
,
{
		   "cell_type": "markdown",
		   "metadata": {},
		   "source": [
			"## Example 6: final.pressure_calculation.sci"
		   ]
		  },
  {
"cell_type": "code",
	   "execution_count": null,
	   "metadata": {
	    "collapsed": true
	   },
	   "outputs": [],
"source": [
"p1=14.7;//psi(abs)\n",
"V1=1;//ft^3\n",
"V2=0.5;//ft^3"
   ]
   }
,
{
		   "cell_type": "markdown",
		   "metadata": {},
		   "source": [
			"## Example 7: ratio.of_speeds.sce"
		   ]
		  },
  {
"cell_type": "code",
	   "execution_count": null,
	   "metadata": {
	    "collapsed": true
	   },
	   "outputs": [],
"source": [
"clc;\n",
"clear;\n",
"exec ('C:\Program Files\scilab-5.3.0\bin\TCP\1.7data.sci');\n",
"//speed of sound c=(kRT)^0.5\n",
"c=((k*1716*(T+460)))^0.5;//ft/s\n",
"disp('ft/s',c,'speed of sound c=')\n",
"//speed of sound V=(s m/hour)*(5280 ft/m)/(3600 s/hour)\n",
"V=s*5280/3600;//ft/s\n",
"disp('ft/s',V,'air speed =')\n",
"ratio=V/c;//Mach number\n",
"disp(ratio,'ratio of V/c = Mach Number=')"
   ]
   }
,
{
		   "cell_type": "markdown",
		   "metadata": {},
		   "source": [
			"## Example 7: ratio.of_speeds.sci"
		   ]
		  },
  {
"cell_type": "code",
	   "execution_count": null,
	   "metadata": {
	    "collapsed": true
	   },
	   "outputs": [],
"source": [
"s=550;//(mph)\n",
"h=35000;//ft\n",
"T=-66;//degrees farenheit\n",
"k=1.40;"
   ]
   }
,
{
		   "cell_type": "markdown",
		   "metadata": {},
		   "source": [
			"## Example 8: diameter.of_tube.sce"
		   ]
		  },
  {
"cell_type": "code",
	   "execution_count": null,
	   "metadata": {
	    "collapsed": true
	   },
	   "outputs": [],
"source": [
"clc;\n",
"clear;\n",
"exec('C:\Program Files\scilab-5.3.0\bin\TCP\1.8data.sci');\n",
"//h=(2*st*cos(x)/(sw*R))\n",
"//where st= nsurface tension, x= angle of contact, sw= specific weight of liquid, R= tube radius\n",
"st= 0.0728;//N/m\n",
"sw=9.789;//kN/m^3\n",
"x=0;\n",
"R=(2*st*cos(x))/(sw*1000*h/1000);//m\n",
"D=2*R*1000;//mm\n",
"disp('mm',D,'minimum required tube diameter= ')\n",
"h=0.1:0.1:2;\n",
"for i=0.1:0.1:2\n",
"    R=(2*st*cos(x))/(sw*1000*i/1000);\n",
"    dia(i*10)=2*R*1000;\n",
"end\n",
"\n",
"plot2d(h,dia,rect=[0,0,2,100])\n",
"xtitle('D vs h','h, mm', 'D, mm')"
   ]
   }
,
{
		   "cell_type": "markdown",
		   "metadata": {},
		   "source": [
			"## Example 8: diameter.of_tube.sci"
		   ]
		  },
  {
"cell_type": "code",
	   "execution_count": null,
	   "metadata": {
	    "collapsed": true
	   },
	   "outputs": [],
"source": [
"T=20;//degree celcius\n",
"h=1;//mm"
   ]
   }
],
"metadata": {
		  "kernelspec": {
		   "display_name": "Scilab",
		   "language": "scilab",
		   "name": "scilab"
		  },
		  "language_info": {
		   "file_extension": ".sce",
		   "help_links": [
			{
			 "text": "MetaKernel Magics",
			 "url": "https://github.com/calysto/metakernel/blob/master/metakernel/magics/README.md"
			}
		   ],
		   "mimetype": "text/x-octave",
		   "name": "scilab",
		   "version": "0.7.1"
		  }
		 },
		 "nbformat": 4,
		 "nbformat_minor": 0
}
