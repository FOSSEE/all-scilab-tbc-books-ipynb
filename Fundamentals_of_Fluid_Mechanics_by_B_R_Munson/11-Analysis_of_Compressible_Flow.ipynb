{
"cells": [
 {
		   "cell_type": "markdown",
	   "metadata": {},
	   "source": [
       "# Chapter 11: Analysis of Compressible Flow"
	   ]
	},
{
		   "cell_type": "markdown",
		   "metadata": {},
		   "source": [
			"## Example 11.11: fanno_flow.sce"
		   ]
		  },
  {
"cell_type": "code",
	   "execution_count": null,
	   "metadata": {
	    "collapsed": true
	   },
	   "outputs": [],
"source": [
"clc;\n",
"clear;\n",
"k=1.4;   \n",
"T0=518.67;//degree R\n",
"T1=514.55;//degree R\n",
"p1=14.3;//psia\n",
"R=53.3;//(ft*lb)/(lbm* degree R)\n",
"cp=R*k/(k-1);//(ft*lb/(lbm* degree R))\n",
"Tratio=T1/T0;\n",
"Ma=(((1/Tratio)-1)/((k-1)/2))^0.5;\n",
"x=(R*T1*k*32.2)^0.5;//ft/sec; where x=(R*T1*k)^0.5\n",
"y=p1*144/(R*T1)*(Ma*x);//lbm/((ft^2)*sec); where y=d*V\n",
"//for p=7 psia \n",
"p=7;//psia\n",
"fn=poly([(-T0) 1 ((y*y/(2*cp*p*p*144*144/(R^2)))/32.2)],'T','c');\n",
"r=roots(fn);\n",
"T=r(1);//K\n",
"sdif=(cp*log(T/T1))-(R*log(p/p1));//(ft*lb)/(lbm* degree R)\n",
"disp('K',T,'The corrosponding value of temperature for Fanno for downstream pressure of 7psia=')\n",
"disp('(ft*lb)/(lbm* degree R)',sdif,'The corrosponding value of entropy change for Fanno for downstream pressure of 7psia=')\n",
"count=1;\n",
"for i=1.4:0.1:7\n",
"    root=roots(poly([(-T0) 1 ((y*y/(2*cp*i*i*144*144/(R^2)))/32.2)],'T','c'));\n",
"    temp(count)=root(1);\n",
"    s(count)=(cp*log(temp(count)/T1))-(R*log(i/p1));\n",
"    count=count+1;\n",
"end\n",
"plot2d(s,temp)\n",
"xtitle('T vs s-s1','s-s1, ((ft*lb)/(lbm* degree R))','T, Degree R')"
   ]
   }
,
{
		   "cell_type": "markdown",
		   "metadata": {},
		   "source": [
			"## Example 11.12: choked_fanno_flow.sce"
		   ]
		  },
  {
"cell_type": "code",
	   "execution_count": null,
	   "metadata": {
	    "collapsed": true
	   },
	   "outputs": [],
"source": [
"clc;\n",
"clear;\n",
"T0=288;//K\n",
"p0=101;//kPa(abs)\n",
"l=2;//m\n",
"D=0.1;//m\n",
"f=0.02;\n",
"k=1.4;\n",
"x=f*l/D;\n",
"Tratio=2/(k+1);//where Tratio is Tcritical/T0\n",
"Tcritical=Tratio*T0;//K = T2\n",
"Vcritical=(286.9*Tcritical*k)^0.5;//m/sec = V2\n",
"//from value of x, the following are found\n",
"Ma=0.63;\n",
"Trat=1.1;//where Trat=T1/Tcritical\n",
"Vrat=0.66;//where Vrat=V1/Vcritical\n",
"prat=1.7;//where prat=p1/pcritical\n",
"pratio=1.16;//where pratio=p0,1/p0critical\n",
"//from value of Ma, the following are found\n",
"Tfraction=0.93;//whereTfraction=T1/T0\n",
"pfraction=0.76;//where pfraction=p1/p0,1\n",
"dfraction=0.83;//where dfraction=d1/d0,1\n",
"//hence,\n",
"V1=Vrat*Vcritical;//m/sec\n",
"d1=dfraction*(1.23);//kg/(m^3)\n",
"m=d1*%pi*(D^2)*V1/4;//kg/sec\n",
"T1=Tfraction*T0;//K\n",
"p1=pfraction*p0;//kPa(abs)\n",
"T01=T0;//K and T01=T02\n",
"p01=p0;//kPa(abs)\n",
"p2=(1/prat)*(pfraction)*p01;//kpa(abs)\n",
"p02=(1/pratio)*p01;//kPa(abs)\n",
"disp('K',Tcritical,'Critical temperature=')\n",
"disp('m/sec',Vcritical,'Critical velocity=')\n",
"disp('m/sec',V1,'Velocity at inlet=')\n",
"disp('kg/sec',m,'Maximum mass flowrate=')\n",
"disp('K',T1,'Temperature at inlet=')\n",
"disp('kPa(abs)',p1,'Pressure at inlet=')\n",
"disp('K',T01,'stagnation temperature at inlet and exit=')\n",
"disp('kPa(abs)',p01,'The stagnation pressure at inlet=')\n",
"disp('kPa(abs)',p2,'Pressure at exit=')\n",
"disp('kPa(abs)',p02,'The stagnation pressure at exit=')"
   ]
   }
,
{
		   "cell_type": "markdown",
		   "metadata": {},
		   "source": [
			"## Example 11.13: effect_of_duct_length_on_choked_fanno_flow.sce"
		   ]
		  },
  {
"cell_type": "code",
	   "execution_count": null,
	   "metadata": {
	    "collapsed": true
	   },
	   "outputs": [],
"source": [
"clc;\n",
"clear;\n",
"T0=288;//K\n",
"p0=101;//kPa(abs)\n",
"l=2;//m\n",
"D=0.1;//m\n",
"f=0.02;\n",
"pd=45;//kPa(abs)\n",
"f=0.02;\n",
"k=1.4;\n",
"lnew=(50/100)*l;\n",
"x=lnew*f/D;\n",
"//from this value of x, following are found\n",
"Ma=0.7;\n",
"prat=1.5;//where prat=p1/pcritical\n",
"//from this value of Ma, following are found\n",
"pratio=0.72;//where pratio=p1/p0\n",
"dratio=0.79;//where dratio=d1/d0,1\n",
"Vratio=0.73;//where Vratio=V1/Vcritical\n",
"//hence,\n",
"p2=(1/prat)*pratio*p0;//kPa(abs)\n",
"pcritical=p2; \n",
"//we find that pd<pcritical\n",
"d1=dratio*(1.23);//kg/(m^3)\n",
"Vcritical=(286.9*Tcritical*k)^0.5;//m/sec = V2\n",
"V1=Vratio*Vcritical;//m/sec\n",
"m=d1*%pi*(D^2)*V1/4;//kg/sec\n",
"disp('kg/sec',1.65,'is less than the flowrate for the longer tube =','kg/sec,',m,'The flowrate for the smaller tube=')"
   ]
   }
,
{
		   "cell_type": "markdown",
		   "metadata": {},
		   "source": [
			"## Example 11.14: unchoked_fanno_flow.sce"
		   ]
		  },
  {
"cell_type": "code",
	   "execution_count": null,
	   "metadata": {
	    "collapsed": true
	   },
	   "outputs": [],
"source": [
"clc;\n",
"clear;\n",
"T0=288;//K\n",
"p0=101;//kPa(abs)\n",
"l=2;//m\n",
"D=0.1;//m\n",
"f=0.02;\n",
"pd=45;//kPa(abs)\n",
"f=0.02;\n",
"m=1.65;//kg/sec\n",
"lnew=l/2;//m\n",
"\n",
"x=f*l/D;\n",
"//from this value of x, Ma at exit is found as\n",
"Ma=0.7;\n",
"//and p2/pcritical is found as\n",
"pratio=1.5;\n",
"//and, from example 11.12,\n",
"prat=1.7;//where prat=p1/pcritical\n",
"pfraction=0.76;//where pfraction=p1/p0,1\n",
"//Hence,\n",
"p2=pratio*(1/prat)*pfraction*p0;//kPa(abs)\n",
"disp(Ma,'The Mach number at the exit=')\n",
"disp('kPa(abs)',p2,'The back pressure required=')"
   ]
   }
,
{
		   "cell_type": "markdown",
		   "metadata": {},
		   "source": [
			"## Example 11.15: rayleigh_flow.sce"
		   ]
		  },
  {
"cell_type": "code",
	   "execution_count": null,
	   "metadata": {
	    "collapsed": true
	   },
	   "outputs": [],
"source": [
"clc;\n",
"clear;\n",
"k=1.4;   \n",
"T0=518.67;//degree R\n",
"T1=514.55;//degree R\n",
"p1=14.3;//psia\n",
"\n",
"R=53.3;//(ft*lb)/(lbm*degree R)\n",
"cp=R*k/(k-1);//(ft*lb/(lbm* degree R))\n",
"Tratio=T1/T0;\n",
"Ma=(((1/Tratio)-1)/((k-1)/2))^0.5;\n",
"x=(R*T1*k*32.2)^0.5;//ft/sec; where x=(R*T1*k)^0.5\n",
"y=p1*144/(R*T1)*(Ma*x);//lbm/((ft^2)*sec); where y=d*V\n",
"z=R*T1/(p1*144);//(ft^3)/lbm\n",
"c=(p1)+(y*y*z/(32.2*144));//psia; =constant\n",
"//when downstream pressure p=13.5 psia\n",
"p=13.5;//psia \n",
"a=(y^2)*R/(p*144*32.2*144);//(lb/(in^2))/degree R\n",
"fn=poly([(p-c) a],'T','c');\n",
"T=roots(fn);//degree R\n",
"sdif=(cp*log(T/T1))-(R*log(p/p1));//ft*lb/(lbm*degree R)\n",
"disp('degree R',T,'The corrosponding value of temperature for the downstream pressure of 13.5 psia=')\n",
"disp('ft*lb/(lbm*degree R)',sdif,'The corrosponding value of change in entropy for the downstream pressure of 13.5 psia=')\n",
"count=1;\n",
"for i=1:0.1:13.5\n",
"    temp(count)=roots(poly([(i-c) ((y^2)*R/(i*144*32.2*144))],'T','c'));\n",
"    s(count)=(cp*log(temp(count)/T1))-(R*log(i/p1));\n",
"    count=count+1;\n",
"end\n",
"plot2d(s,temp,rect=[100,500,400,3000])\n",
"xtitle('T vs s-s1','s-s1, ((ft*lb)/(lbm* degree R))','T, Degree R')"
   ]
   }
,
{
		   "cell_type": "markdown",
		   "metadata": {},
		   "source": [
			"## Example 11.18: supersonic_flow.sce"
		   ]
		  },
  {
"cell_type": "code",
	   "execution_count": null,
	   "metadata": {
	    "collapsed": true
	   },
	   "outputs": [],
"source": [
"clc;\n",
"clear;\n",
"p=60;//psia\n",
"T=1000;//degree R\n",
"px=12;//psia\n",
"k=1.4;\n",
"R=53.3;//ft*lb/(lbm*degree R)\n",
"pratio=p/px;\n",
"//for this value of pratio, Max is calculated as\n",
"Max=1.9;\n",
"//using this value of Max,  Tx/T0,x is found as\n",
"Tratio=0.59;\n",
"//T=T0,x=T0,y\n",
"Tx=Tratio*T;//degree R\n",
"cx=(R*Tx*k)^0.5;//ft/sec\n",
"Vx=1.87*cx*(32.2^0.5);//ft/sec\n",
"disp(Max,'The Mach number for the flow=')\n",
"disp('ft/sec',Vx,'The velocity of the flow=')"
   ]
   }
,
{
		   "cell_type": "markdown",
		   "metadata": {},
		   "source": [
			"## Example 11.19: converging_diverging_duct.sce"
		   ]
		  },
  {
"cell_type": "code",
	   "execution_count": null,
	   "metadata": {
	    "collapsed": true
	   },
	   "outputs": [],
"source": [
"clc;\n",
"clear;\n",
"x1=0.5;//m\n",
"x2=0.3;//m\n",
"Acritical=0.1;//m^2\n",
"//at x1, Max1 is found as\n",
"Max1=2.8;\n",
"//and px/p0,x is found as\n",
"pratio1=0.04;\n",
"//For this value of Max, py/px is found as\n",
"prat1=9;\n",
"pfraction1=prat1*pratio1;//where pfraction=py/p0,x = pIII/p0,x\n",
"//at x2, Max2 is found as\n",
"Max2=2.14;\n",
"//for this value of Max2, the following are found\n",
"prat2=5.2;\n",
"prat22=0.66;//where prat22=p0,y/p0,x\n",
"May=0.56;\n",
"//for this valur of May, Ay/Acritical is found as\n",
"Aratio=1.24;\n",
"Arat=(Acritical+(x1^2))/(Acritical+(x2^2));//where Aratio=A2/Ay\n",
"Afraction=Aratio*Arat;//where Afraction=A2/Acritical\n",
"A2=Acritical+(x1^2);//m^2\n",
"Acritical1=A2/Afraction;//where Acritical1 critical area for the isentropic flow downstream of the shock\n",
"//with the value of Afraction, the following are found\n",
"Ma2=0.26;\n",
"pfraction=0.95;//where pfraction=p2/p0,y\n",
"//hence,\n",
"pfrac=pfraction*prat22;//where pfrac=p2/p0,x\n",
"disp(pfraction1,'The ratio of back pressure to inlet stagnation pressure that will result in a normal shock at the exit of the duct=')\n",
"disp(pfrac,'The value of back pressure to inlet stagnation pressure required to position the shock at (x=0.3 m)=')"
   ]
   }
,
{
		   "cell_type": "markdown",
		   "metadata": {},
		   "source": [
			"## Example 11.1: Internal_Energy_enthalphy.sce"
		   ]
		  },
  {
"cell_type": "code",
	   "execution_count": null,
	   "metadata": {
	    "collapsed": true
	   },
	   "outputs": [],
"source": [
"clc;\n",
"clear;\n",
"D=4;//in\n",
"T1=540;//degree R\n",
"p1=100;//psia\n",
"T2=453;//degree R\n",
"p2=18.4;//psia\n",
"k=1.4;\n",
"R=1716/32.174;//ft*lb/(lbm*(degree R))\n",
"cv=R/(k-1);//ft*lb/(lbm*(degree R))\n",
"udiff=cv*(T2-T1);//ft*lb/lbm; change in internal energy\n",
"disp('ft*lb/lbm',udiff,'a)The change in internal energy between (1) and (2)=')\n",
"cp=k*cv;//ft*lb/(lbm*(degree R))\n",
"hdiff=cp*(T2-T1);//ft*lb/lbm; change in enthalpy\n",
"disp('ft*lb/lbm',hdiff,'b)The  change in enthalpl energy between (1) and (2)=')\n",
"ddiff=(1/R)*((p2*144/T2)-(p1*144/T1));//lbm/(ft^3); change in density\n",
"disp('lbm/(ft^3)',ddiff,'The change in density betwenn (1) and (2)=')"
   ]
   }
,
{
		   "cell_type": "markdown",
		   "metadata": {},
		   "source": [
			"## Example 11.2: change_in_entropy.sce"
		   ]
		  },
  {
"cell_type": "code",
	   "execution_count": null,
	   "metadata": {
	    "collapsed": true
	   },
	   "outputs": [],
"source": [
"clc;\n",
"clear;\n",
"D=4;//in\n",
"T1=540;//degree R\n",
"p1=100;//psia\n",
"T2=453;//degree R\n",
"p2=18.4;//psia\n",
"\n",
"dratio=(p1/T1)*(T2/p2);\n",
"sdif=(cv*(log(T2/T1)))+(R*(log(dratio)));//ft*lb/lbm*(degree R); change in entropy\n",
"disp('ft*lb/lbm*(degree R)',sdif,'The change in entropy between (1) and (2)=')"
   ]
   }
,
{
		   "cell_type": "markdown",
		   "metadata": {},
		   "source": [
			"## Example 11.3: speed_of_sound.sce"
		   ]
		  },
  {
"cell_type": "code",
	   "execution_count": null,
	   "metadata": {
	    "collapsed": true
	   },
	   "outputs": [],
"source": [
"clc;\n",
"clear;\n",
"T=0;//degree C\n",
"R=286.9;//J/(kg*K)\n",
"k=1.401;\n",
"c=(R*(T+273.15)*k)^0.5;//m/s\n",
"disp('m/sec',c,'The speed of sound for air at 0 degree C =')"
   ]
   }
,
{
		   "cell_type": "markdown",
		   "metadata": {},
		   "source": [
			"## Example 11.4: Mach_cone.sce"
		   ]
		  },
  {
"cell_type": "code",
	   "execution_count": null,
	   "metadata": {
	    "collapsed": true
	   },
	   "outputs": [],
"source": [
"clc;\n",
"clear;\n",
"z=1000;//m\n",
"Ma=1.5;\n",
"T=20;//degree C\n",
"//alpha=atan(z/x), x=V*t,and Ma=(1/sin(alpha)); where alpha is the angle of the Mach cone\n",
"//V=Ma*c\n",
"c=343.3;//m/s found from the value of temperature\n",
"V=Ma*c;//m/sec\n",
"t=z/(Ma*c*tan(asin(1/Ma)));//sec\n",
"disp('sec',t,'The number of seconds to wait after the plane passes over-head before it is heard=')\n",
"Mach=0.01:0.01:4;\n",
"count=1;\n",
"for i=0.01:0.01:4\n",
"    time(count)=z/(i*c*tan(asin(1/i)));\n",
"    count=count+1;\n",
"end\n",
"plot2d(Mach,time,rect=[0,0,4,3])\n",
"xtitle('t vs Ma','Ma','t, sec')"
   ]
   }
,
{
		   "cell_type": "markdown",
		   "metadata": {},
		   "source": [
			"## Example 11.5: mass_flowrate_determination.sce"
		   ]
		  },
  {
"cell_type": "code",
	   "execution_count": null,
	   "metadata": {
	    "collapsed": true
	   },
	   "outputs": [],
"source": [
"clc;\n",
"clear;\n",
"A=1*(10^(-4));//m^2\n",
"p1=80;//kPa(abs)\n",
"p2=40;//kPa(abs)\n",
"p0=101;//kPa(abs)\n",
"pcritical=0.528*p0;//kPa(abs)\n",
"k=1.4;\n",
"//for (a) pth=p1>pcritical\n",
"Math1=((((p0/p1)^((k-1)/k))-1)/((k-1)/2))^0.5;//Math=Mach number at throat\n",
"//dth/d0=p1/p0; dth=density at throat\n",
"dth1=(1.23)*(1/(1+(((k-1)/2)*(Math1^2))))^(1/(k-1));//kg/(m^3); density at throat\n",
"Tth1=(288)*(1/(1+(((k-1)/2)*(Math1^2))));//K; temperature at throat\n",
"Vth1=Math1*(286.9*Tth1*k)^0.5;//m/sec\n",
"m1=dth1*A*Vth1;//kg/sec\n",
"disp('kg/sec',m1,'a) The mass flowrate through the duct=')\n",
"//for (b) pth=p2<pcritical, hence\n",
"Math2=1;\n",
"dth2=1.23*(1/(1+(((k-1)/2)*(Math2^2))))^(1/(k-1));//kg/(m^3); density at throat\n",
"Tth2=(288)*(1/(1+(((k-1)/2)*(Math2^2))));//K; temperature at throat\n",
"Vth2=Math2*(286.9*Tth2*k)^0.5;//m/sec\n",
"m2=dth2*A*Vth2;//kg/sec\n",
"disp('kg/sec',m2,'b) The mass flowrate through the duct=')"
   ]
   }
,
{
		   "cell_type": "markdown",
		   "metadata": {},
		   "source": [
			"## Example 11.6: mass_flowrate_calculatio.sce"
		   ]
		  },
  {
"cell_type": "code",
	   "execution_count": null,
	   "metadata": {
	    "collapsed": true
	   },
	   "outputs": [],
"source": [
"clc;\n",
"clear;\n",
"A=1*(10^(-4));//m^2\n",
"p1=80;//kPa(abs)\n",
"p2=40;//kPa(abs)\n",
"\n",
"p0=101;//kPa(abs)\n",
"k=1.4;\n",
"//for (a)\n",
"pratio1=p1/p0;\n",
"//for this value of p1/p0, \n",
"Math1=0.59;\n",
"Tratio1=0.94;//=Tth/T0\n",
"dratio1=0.85;//=dth/d0\n",
"Tth1=Tratio1*(288);//K\n",
"dth1=dratio1*(1.23);//kg/(m^3)\n",
"Vth1=Math1*(286.9*Tth1*k)^0.5;//m/sec\n",
"m1=(dth1*A*Vth1);//kg/sec\n",
"disp('kg/sec',m1,'a)The mass flowrate=')\n",
"//for (b)\n",
"Math2=1;\n",
"Tratio2=0.83;//=Tth/T0\n",
"dratio2=0.64;//=dth/d0\n",
"Tth2=Tratio2*(288);//K\n",
"dth2=dratio2*(1.23);//kg/(m^3)\n",
"Vth2=Math2*(286.9*Tth2*k)^0.5;//m/sec\n",
"m2=(dth2*A*Vth2);//kg/sec\n",
"disp('kg/sec',m2,'b)The mass flowrate=')"
   ]
   }
,
{
		   "cell_type": "markdown",
		   "metadata": {},
		   "source": [
			"## Example 11.7: flow_velocity_determination.sce"
		   ]
		  },
  {
"cell_type": "code",
	   "execution_count": null,
	   "metadata": {
	    "collapsed": true
	   },
	   "outputs": [],
"source": [
"clc;\n",
"clear;\n",
"pratio=0.82;//ratio of static to stagnation pressure\n",
"T=68;//degree F\n",
"//for (a)\n",
"//for the value of pratio given Ma is calculated as\n",
"Ma1=0.54;\n",
"k1=1.4;\n",
"Tratio1=0.94;//T/T0\n",
"T1=Tratio1*(T+460);// degree R\n",
"V1=(Ma1*(53.3*T1*k1)^0.5)*(32.2^0.5);//ft/sec\n",
"//for (b)\n",
"k2=1.66;\n",
"Ma2=((((1/pratio)^((k2-1)/k2))-1)/((k2-1)/2))^0.5;\n",
"Tratio2=1/(1+(((k2-1)/2)*(Ma2^2)));//T/T0\n",
"T2=Tratio2*(T+460);//degree R\n",
"V2=(Ma2*(386*T2*k2)^0.5)*(32.2^0.5);//ft/sec\n",
"disp('ft/sec',V1,'The flow velocity if fluid is air=')\n",
"disp('ft/sec',V2,'The flow velocity if fluid is helium=')"
   ]
   }
],
"metadata": {
		  "kernelspec": {
		   "display_name": "Scilab",
		   "language": "scilab",
		   "name": "scilab"
		  },
		  "language_info": {
		   "file_extension": ".sce",
		   "help_links": [
			{
			 "text": "MetaKernel Magics",
			 "url": "https://github.com/calysto/metakernel/blob/master/metakernel/magics/README.md"
			}
		   ],
		   "mimetype": "text/x-octave",
		   "name": "scilab",
		   "version": "0.7.1"
		  }
		 },
		 "nbformat": 4,
		 "nbformat_minor": 0
}
