{
"cells": [
 {
		   "cell_type": "markdown",
	   "metadata": {},
	   "source": [
       "# Chapter 3: Fluids in motion Bernoulli equation"
	   ]
	},
{
		   "cell_type": "markdown",
		   "metadata": {},
		   "source": [
			"## Example 3.10: maximum_height_determination.sce"
		   ]
		  },
  {
"cell_type": "code",
	   "execution_count": null,
	   "metadata": {
	    "collapsed": true
	   },
	   "outputs": [],
"source": [
"clc;\n",
"clear;\n",
"T=60;//degree farenheit\n",
"z1=5;//ft\n",
"atmp=14.7;//psia\n",
"//applying bernoulli equation at points 1,2 and 3\n",
"z3=-5;//ft\n",
"v1=0;//large tank\n",
"p1=0;//open tank\n",
"p3=0;//open jet\n",
"//applying continuity equation A2*v2=A3*v3; A2=A3; so v2=v3\n",
"v3=(2*32.2*(z1-z3))^0.5;\n",
"//vapor pressure of water at 60 degree farenheit = p2=0.256 psia\n",
"p2=0.256;\n",
"z2=z1-((((p2-atmp)*144)+(0.5*1.94*v3^2))/62.4);\n",
"disp('ft',z2,'The maximum height over which the water can be siphoned without cavitation occuring=')"
   ]
   }
,
{
		   "cell_type": "markdown",
		   "metadata": {},
		   "source": [
			"## Example 3.11: pressure_difference_range.sce"
		   ]
		  },
  {
"cell_type": "code",
	   "execution_count": null,
	   "metadata": {
	    "collapsed": true
	   },
	   "outputs": [],
"source": [
"clc;\n",
"clear;\n",
"sg=0.85;\n",
"Q1=0.005;//m^3/s\n",
"Q2=0.05;//m^3/s\n",
"dia1=0.1;//m\n",
"dia2=0.06;//m\n",
"\n",
"//A2/A1=dia2/dia1\n",
"d=sg*1000;\n",
"Arat=(dia2/dia1)^2;\n",
"A2=%pi/4*(dia2^2);\n",
"pdiffs=(Q1^2)*d*(1-(Arat^2))/(2*1000*(A2^2));\n",
"pdiffl=(Q2^2)*d*(1-(Arat^2))/(2*1000*(A2^2));\n",
"disp('kPa',pdiffl,'to','kPa',pdiffs,'kPa','The pressure difference ranges from =')"
   ]
   }
,
{
		   "cell_type": "markdown",
		   "metadata": {},
		   "source": [
			"## Example 3.12: flow_through_channel.sce"
		   ]
		  },
  {
"cell_type": "code",
	   "execution_count": null,
	   "metadata": {
	    "collapsed": true
	   },
	   "outputs": [],
"source": [
"clc;\n",
"clear;\n",
"z1=5;//m\n",
"a=0.8;//m\n",
"b=6;//m\n",
"Cc=0.61;//since a/z1=ratio=0.16<0.2; Cc= contracction coefficient\n",
"z2=Cc*a;\n",
"//Q/b=flowrate\n",
"flowrate=z2*((2*9.81*(z1-z2))/(1-((z2/z1)^2)))^0.5;\n",
"//considering z1>>z2 and neglecting kinetic energy of the upstream fluid\n",
"flowrate1=z2*(2*9.81*z1)^0.5;\n",
"disp('m^2/s',flowrate,'The flowrate per unit width=')\n",
"disp('m^2/s',flowrate1,'The flowrate per unit width when we consider z1>>z2=')\n",
"count=1;\n",
"j=5:15;\n",
"for i=5:15\n",
"    fr(count)=z2*((2*9.81*(i-z2))/(1-((z2/i)^2)))^0.5;\n",
"    count=count+1;\n",
"end\n",
"plot2d(j,fr,rect=[0,0,15,9])\n",
"xtitle('Q/b vs z1','z1,m','Q/b, m^2/s')"
   ]
   }
,
{
		   "cell_type": "markdown",
		   "metadata": {},
		   "source": [
			"## Example 3.13: increased_flowrate_determination.sce"
		   ]
		  },
  {
"cell_type": "code",
	   "execution_count": null,
	   "metadata": {
	    "collapsed": true
	   },
	   "outputs": [],
"source": [
"clc;\n",
"clear;\n",
"//Q=A*V=(H^2)*tan(theta/2)*(C2*(2*g*H)^0.5)\n",
"//Q3H0/QH0=(3H0)^2.5/(H0)^2.5=3^2.5\n",
"Qrat=3^2.5;\n",
"disp('The flowrate is proportional to H^2.5')\n",
"disp('times.',Qrat,'When depth is increased from H0 to 3H0 Q increases ')"
   ]
   }
,
{
		   "cell_type": "markdown",
		   "metadata": {},
		   "source": [
			"## Example 3.15: stagnation_pressure_calculation.sce"
		   ]
		  },
  {
"cell_type": "code",
	   "execution_count": null,
	   "metadata": {
	    "collapsed": true
	   },
	   "outputs": [],
"source": [
"clc;\n",
"clear;\n",
"h=10;//Km\n",
"//air is in a standard atmosphere\n",
"p1=26.5;//kPa\n",
"T1=-49.9;//degree celcius\n",
"d=0.414;//Kg/m^3\n",
"k=1.4;\n",
"Ma1=0.82;//Mach\n",
"//for incompressible flow,\n",
"pdiff=(k*Ma1^2)/2*p1;\n",
"//for compressible isentropic flow, \n",
"pdiff1=((1+((k-1)/2)*(Ma1^2))^(k/(k-1))-1)*p1;\n",
"disp('Stagnation pressure on leading edge on the wing of the Boeing:')\n",
"disp('kPa',pdiff,'flow is imcompressible =')\n",
"disp('kPa',pdiff1,'flow is compressible and isentropic =')"
   ]
   }
,
{
		   "cell_type": "markdown",
		   "metadata": {},
		   "source": [
			"## Example 3.17: stagnation_pressure_determination.sce"
		   ]
		  },
  {
"cell_type": "code",
	   "execution_count": null,
	   "metadata": {
	    "collapsed": true
	   },
	   "outputs": [],
"source": [
"clc;\n",
"clear;\n",
"V=5;//m/s\n",
"sg=1.03;\n",
"h=50;//m\n",
"//since static pressure is greater than stagnation pressure, Bernoulli's equation is incorrect\n",
"//p2=(d*(V1^2)/2)+(d*g*h) ; V1=V\n",
"p2=(((sg*1000)*(V^2)/2) + (sg*1000*9.81*h))/1000;//kPa\n",
"disp('kPa',p2,'The pressure at stagnation point 2 =')"
   ]
   }
,
{
		   "cell_type": "markdown",
		   "metadata": {},
		   "source": [
			"## Example 3.6: pitot_static_tube.sce"
		   ]
		  },
  {
"cell_type": "code",
	   "execution_count": null,
	   "metadata": {
	    "collapsed": true
	   },
	   "outputs": [],
"source": [
"clc;\n",
"clear;\n",
"v1=100;//mi/hr\n",
"ht=10000;//ft\n",
"//from standard table for static pressure at an altitude\n",
"p1=1456//lb/ft^2(abs)\n",
"P1=1456*0.006947;//psi\n",
"d=0.001756;//slugs/ft^3\n",
"//1 mi/hr = 1.467 ft/s \n",
"p2=p1+(d*(v1*1.467)^2/2);//lb/ft^3\n",
"//in terms of gage pressure p2g\n",
"p2g=p2-p1;//lb/ft^2\n",
"//1lb/ft^2 = 0.006947 psi\n",
"P2=p2*0.006947;//psi\n",
"P2g=p2g*0.006947;//psi\n",
"//pressure difference indicated by the pitot tube = pdiff\n",
"pdiff=P2-P1;//psi\n",
"disp('psi',P1,'Pressure at point 1 =')\n",
"disp('psi',P2g,'Pressure at point 2 in terms of gage pressure=')\n",
"disp('psi',pdiff,'pressure difference indicated by the pitot static tube=')\n",
"v1=0:1:600;\n",
"for i=0:600\n",
"   prat(i+1)=p1/(p1+(d*(i*1.467)^2/2));\n",
"end\n",
"plot2d(v1,prat,rect=[0,0,600,1]);\n",
"xtitle('v1 vs p1/p2','v1, mph','p1/p2')"
   ]
   }
,
{
		   "cell_type": "markdown",
		   "metadata": {},
		   "source": [
			"## Example 3.7: determination_of_flowrate.sce"
		   ]
		  },
  {
"cell_type": "code",
	   "execution_count": null,
	   "metadata": {
	    "collapsed": true
	   },
	   "outputs": [],
"source": [
"clc;\n",
"clear;\n",
"dia=0.1;//m\n",
"dia1=1.0;//m\n",
"h=2.0;//m\n",
"//bernoulli's equation: p1+(0.5*d*V1^2)+(sw*z1)= p2+(0.5*d*V2^2)+(sw*z2)\n",
"//assuming p1=p2=0, and z1=h and z2=0\n",
"//(0.5*d*V1^2)+(g*h)= (0.5*d*V2^2)\n",
"//assuming steady flow Q1=Q2, Q=A*V. hence, A1*V1=A2*V2\n",
"//V1=((dia/dia1)^2)*V2\n",
"//hence V2=((2*g*h)/(1-(dia/dia1)^4))^0.5\n",
"V2=((2*9.81*h)/(1-(dia/dia1)^4))^0.5;\n",
"Q=(%pi/4*(dia)^2)*V2;\n",
"disp('m^3/sec',Q,'The flow rate needed is=')\n",
"//let Q0 be the flow rate when v1=0, i.e. dia>>dia\n",
"//Q0=(2*g*h)^0.5 and Qrat=Q/Q0\n",
"count=1;\n",
"i=0:0.05:0.8;\n",
"\n",
"for k=0.00:0.05:0.80\n",
"    Qrat(count)=1/((1-(k^4))^0.5);\n",
"    count=count+1;\n",
"end\n",
"\n",
"plot2d(i,Qrat,rect=[0,1,0.8,1.1])\n",
"xtitle('d/D vs Q/Q0','d/D','Q/Q0')"
   ]
   }
,
{
		   "cell_type": "markdown",
		   "metadata": {},
		   "source": [
			"## Example 3.8: flowrate_and_pressure.sce"
		   ]
		  },
  {
"cell_type": "code",
	   "execution_count": null,
	   "metadata": {
	    "collapsed": true
	   },
	   "outputs": [],
"source": [
"clc;\n",
"clear;\n",
"dia=0.03;//m\n",
"dia1=0.01;//m\n",
"p=3;//kPa(gage)\n",
"//density of air d is found using standard temp and pressure conditions\n",
"d=(p+101)*1000/((286.9)*(15+273));\n",
"//applying Bernoulli's equation at points 1,2 and 3; p=p1\n",
"v3=((2*p*1000)/d)^0.5;\n",
"Q=%pi/4*(dia1^2)*v3;\n",
"//by continuity equation, A2*v2=A3*v3\n",
"v2=((dia1/dia)^2)*v3;\n",
"p2=(p*1000)-(0.5*d*(v2^2));\n",
"disp('m^3/s',Q,'Flowrate =')\n",
"disp('N/m^2',p2,'Pressure in the hose=')"
   ]
   }
],
"metadata": {
		  "kernelspec": {
		   "display_name": "Scilab",
		   "language": "scilab",
		   "name": "scilab"
		  },
		  "language_info": {
		   "file_extension": ".sce",
		   "help_links": [
			{
			 "text": "MetaKernel Magics",
			 "url": "https://github.com/calysto/metakernel/blob/master/metakernel/magics/README.md"
			}
		   ],
		   "mimetype": "text/x-octave",
		   "name": "scilab",
		   "version": "0.7.1"
		  }
		 },
		 "nbformat": 4,
		 "nbformat_minor": 0
}
