{
"cells": [
 {
		   "cell_type": "markdown",
	   "metadata": {},
	   "source": [
       "# Chapter 6: Flow Analysis of Using Differential Methods"
	   ]
	},
{
		   "cell_type": "markdown",
		   "metadata": {},
		   "source": [
			"## Example 6.10: flow_in_annulus.sce"
		   ]
		  },
  {
"cell_type": "code",
	   "execution_count": null,
	   "metadata": {
	    "collapsed": true
	   },
	   "outputs": [],
"source": [
"clc;\n",
"clear;\n",
"d=1.18*1000;//kg/m^3\n",
"vis=0.0045;//Ns/m^2, viscosity\n",
"Q=12;//ml/sec\n",
"dia1=4;//mm\n",
"l=1;//m\n",
"dia2=2;//mm\n",
"V=Q/(1000000*%pi*((dia1/1000)^2)/4);//mean velocity, m/sec\n",
"Re=(d*V*dia1/1000)/vis;\n",
"disp(' is well below critical value of 2100 so flow is laminar.',Re,'a) The Reynolds number ')\n",
"pdiff=(8*vis*(l)*(12/1000000)/(%pi*(dia1/2000)^4))/1000;//kPa\n",
"disp('kPa',pdiff,'The pressure drop along a 1 m length of the tube which is far from the tube entrance so that the only component of velocity is parallel to the the tube axis=')\n",
"//for flow in the annulus\n",
"V1=Q/(1000000*%pi*(((dia1/1000)^2)-((dia2/1000)^2))/4);//mean velocity, m/sec\n",
"Re1=d*((dia1-dia2)/1000)*V1/vis;\n",
"disp(' is well below critical value of 2100 so flow is laminar.',Re1,'b) The Reynolds number ')\n",
"r1=dia1/2000;\n",
"r2=dia2/2000;\n",
"pdiff1=((8*vis*(l)*(12/1000000)/(%pi))*((r1^4)-(r2^4)-((((r1^2)-(r2^2))^2)/(log(r1/r2))))^(-1))/1000;//kPa\n",
"disp('kPa',pdiff1,'The pressure drop along a 1 m length of the symmetric annulus =')\n",
"\n",
"rratio=0.001:0.001:0.5;\n",
"count=1;\n",
"for i=0.001:0.001:0.5\n",
"    pratio(count)=1/((i^4)*((1/(i^4))-1-((((1/(i^2))-1)^2)/log(1/i))));\n",
"    count=count+1;\n",
"end\n",
"plot2d(rratio,pratio,rect=[0,0,0.5,8])\n",
"xtitle('ri/ro vs pdiff(annulus)/pdiff(tube)','ri/ro','pdiff(annulus)/pdiff(tube)')"
   ]
   }
,
{
		   "cell_type": "markdown",
		   "metadata": {},
		   "source": [
			"## Example 6.4: inviscid_flow_pressure.sce"
		   ]
		  },
  {
"cell_type": "code",
	   "execution_count": null,
	   "metadata": {
	    "collapsed": true
	   },
	   "outputs": [],
"source": [
"clc;\n",
"clear;\n",
"p1=30;//kPa\n",
"d=1000;//kg/(m^3)\n",
"r1=1;//m\n",
"r2=0.5;//m\n",
"//applying energy equation between points (1) and (2) and using the equation V^2=16*(r^2)\n",
"V1=(16*(r1^2))^0.5;//m/sec\n",
"V2=(16*(r2^2))^0.5;//m/sec\n",
"p2=((p1*1000)+(d*((V1^2)-(V2^2)))/2)/1000;//kPa\n",
"disp('kPa',p2,'The pressure at point (2) =')"
   ]
   }
,
{
		   "cell_type": "markdown",
		   "metadata": {},
		   "source": [
			"## Example 6.5: Volume_rate_calculatio.sce"
		   ]
		  },
  {
"cell_type": "code",
	   "execution_count": null,
	   "metadata": {
	    "collapsed": true
	   },
	   "outputs": [],
"source": [
"clc;\n",
"clear;ang1=0;//radians\n",
"ang2=%pi/6;//radians\n",
"vp='-2*log(r)';\n",
"//vr=d(vp)/d'r\n",
"//vr=(-2)/r;\n",
"//vang=(1/r)*(d(vp)/d(ang))\n",
"vang=0;\n",
"q=(integrate('-2','ang',ang1,ang2));\n",
"disp('ft^2/sec',q,'Volume rate of flow (per unit length) into the opening = ')"
   ]
   }
,
{
		   "cell_type": "markdown",
		   "metadata": {},
		   "source": [
			"## Example 6.7: pressure_at_elevatio.sce"
		   ]
		  },
  {
"cell_type": "code",
	   "execution_count": null,
	   "metadata": {
	    "collapsed": true
	   },
	   "outputs": [],
"source": [
"clc;\n",
"clear;\n",
"h=200;//ft\n",
"U=40;//mi/hr\n",
"d=0.00238;//slugs/ft^3\n",
"//V^2= (U^2)*(1 + (2*b*cos(ang)/r) + ((b^2)/(r^2)))\n",
"//at point 2, ang=%pi/2\n",
"//r=b*(%pi-ang)/sin(ang)=(%pi*b/2)\n",
"V=U*(1+(4/(%pi^2)))^0.5;//mi/hr\n",
"y2=h/2;//ft\n",
"//bernoulli equation\n",
"//p1-p2= d*((V2^2)-(V1^2)) + (sw*(y2-y1))\n",
"V1=U*(5280/3600);\n",
"V2=V*(5280/3600);\n",
"pdiff=((d*((V2^2)-(V1^2))/2) + (d*32.2*(y2)))/144;//psi\n",
"disp('mi/hr',V,'The magnitude of velocity at (2) for a 40 mi/hr approaching wind =')\n",
"disp('psi',pdiff,'The pressure difference between points (1) and (2)=')\n",
"u=0:100;\n",
"\n",
"for i=0:100\n",
"    pd(i+1)= ((d*((((i*(1+(4/(%pi^2)))^0.5)*(5280/3600))^2)-((i*(5280/3600))^2))/2) + (d*32.2*(y2)))/144;\n",
"end\n",
"plot2d(u,pd,rect=[0,0,100,0.14])\n",
"xtitle('(p1-p2) vs U','U,mph','p1-p2 ,psi')"
   ]
   }
],
"metadata": {
		  "kernelspec": {
		   "display_name": "Scilab",
		   "language": "scilab",
		   "name": "scilab"
		  },
		  "language_info": {
		   "file_extension": ".sce",
		   "help_links": [
			{
			 "text": "MetaKernel Magics",
			 "url": "https://github.com/calysto/metakernel/blob/master/metakernel/magics/README.md"
			}
		   ],
		   "mimetype": "text/x-octave",
		   "name": "scilab",
		   "version": "0.7.1"
		  }
		 },
		 "nbformat": 4,
		 "nbformat_minor": 0
}
