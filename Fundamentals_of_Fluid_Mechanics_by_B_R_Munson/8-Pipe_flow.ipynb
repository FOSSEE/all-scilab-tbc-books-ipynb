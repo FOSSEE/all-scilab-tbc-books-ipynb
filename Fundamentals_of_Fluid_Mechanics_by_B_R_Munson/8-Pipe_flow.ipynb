{
"cells": [
 {
		   "cell_type": "markdown",
	   "metadata": {},
	   "source": [
       "# Chapter 8: Pipe flow"
	   ]
	},
{
		   "cell_type": "markdown",
		   "metadata": {},
		   "source": [
			"## Example 8.10: air_flowrate_determination.sce"
		   ]
		  },
  {
"cell_type": "code",
	   "execution_count": null,
	   "metadata": {
	    "collapsed": true
	   },
	   "outputs": [],
"source": [
"clc;\n",
"clear;\n",
"D=4;//in\n",
"l=20;//ft\n",
"n=4;//number of 90 degree elbows\n",
"h=0.2;//in\n",
"T=100;//degree F \n",
"//energy equation between the inside of the dryer and the exit of the vent pipe\n",
"p1=(h/12)*62.4;//lb/(ft^2)\n",
"KLentrance=0.5;\n",
"KLelbow=1.5;\n",
"sw=0.0709;//lb/(ft^3)\n",
"f=0.022;//assumption\n",
"//hence,\n",
"V=((p1/sw)*2*32.2/(1+(f*l/(D/12))+KLentrance+(n*KLelbow)))^0.5;//ft/sec\n",
"Q=V*(%pi*((D/12)^2)/4);//(ft^3)/sec\n",
"disp('(ft^3)/sec',Q,'The flowrate=')\n",
""
   ]
   }
,
{
		   "cell_type": "markdown",
		   "metadata": {},
		   "source": [
			"## Example 8.11: flowrate_through_turbine.sce"
		   ]
		  },
  {
"cell_type": "code",
	   "execution_count": null,
	   "metadata": {
	    "collapsed": true
	   },
	   "outputs": [],
"source": [
"clc;\n",
"clear;\n",
"Pa=50;//hp\n",
"D=1;//ft\n",
"l=300;//ft\n",
"f=0.02;\n",
"z1=90;//ft\n",
"//energy equation between the surface of the lake and the outlet of the pipe\n",
"//p1=V1=p2=z2=0; V2=V\n",
"//hL=f*l*(V^2)/(D *2*g)\n",
"//hT=Pa/(sw*%pi*(D^2)*V/4)\n",
"c1=(Pa*550)/(62.4*%pi*(D^2)/4)//561\n",
"c2=f*l/(D*2*32.2)//0.0932\n",
"fn=poly([c1 (-z1) 0 ((1/(2*32.2))+(c2))],'V','c');\n",
"r=roots(fn);\n",
"V1=r(1);//ft/sec\n",
"V2=r(2);//ft/sec\n",
"Q1=(%pi*(D^2)/4)*V1;//(ft^3)/sec\n",
"Q2=(%pi*(D^2)/4)*V2;//(ft^3)/sec\n",
"disp('(ft^3)/sec',Q2,'and','(ft^3)/sec',Q1,'The possible flowrates are=')"
   ]
   }
,
{
		   "cell_type": "markdown",
		   "metadata": {},
		   "source": [
			"## Example 8.12: minimum_pipe_diameter.sce"
		   ]
		  },
  {
"cell_type": "code",
	   "execution_count": null,
	   "metadata": {
	    "collapsed": true
	   },
	   "outputs": [],
"source": [
"clc;\n",
"clear;\n",
"roughness=0.0005;//ft\n",
"Q=2;//(ft^3)/sec\n",
"pd=0.5;//psi; where pd=pressure drop\n",
"l=100;//ft\n",
"d=0.00238;//slugs/(ft^3)\n",
"vis=3.74*(10^(-7));//lb*sec/(ft^2)\n",
"x=Q/(%pi/4);//where x =V*(D^2)\n",
"//energy equation with z1=z2 and V1=V2\n",
"y=l*d*(x^2)*0.5/(pd*144);//where y=(D^5)/f\n",
"f=0.027;//using reynolds number, roughness and moody's chart\n",
"D=(y*f)^(1/5);//ft\n",
"disp('ft',D,'The diameter of the pipe should be =')\n",
"q=0.01:0.01:3;\n",
"count=1;\n",
"for i=0.01:0.01:3\n",
"    dia(count)=((l*d*((i/(%pi/4))^2)*0.5/(pd*144))*f)^(1/5);\n",
"    count=count+1;\n",
"end\n",
"plot2d(q,dia,rect=[0,0,3,0.25])\n",
"xtitle('D vs Q','Q, (ft^3)/sec','D, ft')"
   ]
   }
,
{
		   "cell_type": "markdown",
		   "metadata": {},
		   "source": [
			"## Example 8.13: pipe_diameter_calculatio.sce"
		   ]
		  },
  {
"cell_type": "code",
	   "execution_count": null,
	   "metadata": {
	    "collapsed": true
	   },
	   "outputs": [],
"source": [
"clc;\n",
"clear;\n",
"T=60;//degree F\n",
"kvis=1.28*(10^(-5));//(ft^2)/sec\n",
"l=1700;//ft\n",
"roughness=0.0005;//ft\n",
"Q=26;//(ft^3)/sec\n",
"n=4;//number of flanged 45 degree elbows\n",
"z1=44;//ft\n",
"x=Q/(%pi/4);//where x=V*(D^2)\n",
"KLentrance=0.5;\n",
"KLelbow=0.2;\n",
"KLexit=1;\n",
"//Finding f from Re, roughness and moody's chart\n",
"f=0.01528;\n",
"sumKL=(n*KLelbow)+KLentrance+KLexit;\n",
"y=f*l;\n",
"//V^2 = (x^2)/(D^4)\n",
"//energy equation with p1=p2pV1=V2=z2=0\n",
"z=(2*32.2*z1)/((x^2)*l);\n",
"k=sumKL/l;\n",
"fn=poly([(-f) (-k) 0 0 0 z],'D','c');\n",
"r=roots(fn);\n",
"disp('ft',r(1),'The diameter=')\n",
"count=1;\n",
"len=400:2000;\n",
"for i=400:2000\n",
"    root=roots(poly([(-f) (-(sumKL/i)) 0 0 0 ((2*32.2*z1)/((x^2)*i))],'a','c'));\n",
"    dia(count)=root(1);\n",
"    count=count+1;\n",
"end\n",
"plot2d(len,dia,rect=[0,0,2000,1.8])\n",
"xtitle('D vs l','l, ft','D, ft')"
   ]
   }
,
{
		   "cell_type": "markdown",
		   "metadata": {},
		   "source": [
			"## Example 8.14: flowrate_in_reservoir.sce"
		   ]
		  },
  {
"cell_type": "code",
	   "execution_count": null,
	   "metadata": {
	    "collapsed": true
	   },
	   "outputs": [],
"source": [
"clc;\n",
"clear;\n",
"D=1;//ft\n",
"f=0.02;\n",
"z1=100;//ft\n",
"z2=20;//ft\n",
"z3=0;//ft\n",
"l1=1000;//ft\n",
"l2=500;//ft\n",
"l3=400;//ft\n",
"//assuming fluid flows into B\n",
"//applying energy equation bwtween (1 and 3) and (1 and 2) and using the relation V1=V2+V3\n",
"c1=z1*32.2*2/(f*l1);\n",
"c2=(z1-z2)*32.2*2/(f*l1);\n",
"x=(c1-c2)/(l3/l1);//160\n",
"y=(l2/l1)/(l3/l1);//1.25\n",
"a=c2-x;//98\n",
"b=(a*2*(y+(l2/l1)));//539\n",
"c=4*x+b;//1179\n",
"d=-((y+(l2/l1))^2)+(4*y);//-2.5625\n",
"e=-(a^2);//-9604\n",
"fn=poly([e 0 c 0 d],'V2','c');\n",
"r=roots(fn);\n",
"V2=r(1);\n",
"V1=(c2-(l2/l1)*V2)^0.5;\n",
"A=(%pi/4*(D^2));\n",
"Q1=V1*A;\n",
"Q2=V2*A;\n",
"Q3=Q1-Q2;\n",
"disp('(ft^3)/sec',Q1,'Q1 (out of A)=')\n",
"disp('(ft^3)/sec',Q2,'Q2 (into B)=')\n",
"disp('(ft^3)/sec',Q3,'Q3 (into C)=')"
   ]
   }
,
{
		   "cell_type": "markdown",
		   "metadata": {},
		   "source": [
			"## Example 8.15: diameter_of_nozzle.sce"
		   ]
		  },
  {
"cell_type": "code",
	   "execution_count": null,
	   "metadata": {
	    "collapsed": true
	   },
	   "outputs": [],
"source": [
"clc;\n",
"clear;\n",
"D=60;//mm\n",
"pdiff=4;//kPa\n",
"Q=0.003;//(m^3)/sec\n",
"d=789;//kg/(m^3)\n",
"vis=1.19*(10^(-3));//N*sec/(m^2)\n",
"Re=d*4*Q/(%pi*D*vis);\n",
"//assuming B=dia/D=0.577, where dia=diameter of nozzle, and obtaining Cn from Re as 0.972\n",
"Cn=0.972;\n",
"B=0.577;\n",
"dia=((4*Q/(Cn*%pi))/((2*pdiff*1000/(d*(1-(B^4))))^0.5))^0.5;\n",
"disp('mm',dia*1000,'Diameter of the nozzle=')"
   ]
   }
,
{
		   "cell_type": "markdown",
		   "metadata": {},
		   "source": [
			"## Example 8.1: calculating_time_required.sce"
		   ]
		  },
  {
"cell_type": "code",
	   "execution_count": null,
	   "metadata": {
	    "collapsed": true
	   },
	   "outputs": [],
"source": [
"clc;\n",
"clear;\n",
"T1=50;//degree farenheit\n",
"D=0.73;//in\n",
"vol=0.0125;//ft^3\n",
"T2=140;//degree farenheit\n",
"\n",
"vis1=2.73/100000;//lb*s/ft^2 at 50 degree farenheit\n",
"vis2=0.974/100000;//lb*s/ft^2 at 140 degree farenheit\n",
"\n",
"//for 50 degree farenheit\n",
"//if flow is laminar, maximum Re=2100; Re=d*V*D/vis\n",
"V1=2100*vis1/(1.94*D/12);\n",
"t1=vol/(%pi*((D/12)^2)/4*V1);\n",
"//if flow is turbulent, minimum Re=4000\n",
"V2=4000*vis1/(1.94*D/12);\n",
"t2=vol/(%pi*((D/12)^2)/4*V2);\n",
"\n",
"//for 140 degree farenheit\n",
"//if flow is laminar, maximum Re=2100; Re=d*V*D/vis\n",
"V3=2100*vis2/(1.94*D/12);\n",
"t3=vol/(%pi*((D/12)^2)/4*V3);\n",
"//if flow is turbulent, minimum Re=4000\n",
"V4=4000*vis2/(1.94*D/12);\n",
"t4=vol/(%pi*((D/12)^2)/4*V4);\n",
"\n",
"disp('For laminar flow')\n",
"disp('seconds',t1,'The time taken to fill the glass at 50 degree F=')\n",
"disp('seconds',t3,'The time taken to fill the glass 100 degree F=')\n",
"disp('For turbulent flow:')\n",
"disp('seconds',t2,'The time taken to fill the glass at 50 degree F=')\n",
"disp('seconds',t4,'The time taken to fill the glass at 140 degree F=')"
   ]
   }
,
{
		   "cell_type": "markdown",
		   "metadata": {},
		   "source": [
			"## Example 8.2: laminar_pipe_flow.sce"
		   ]
		  },
  {
"cell_type": "code",
	   "execution_count": null,
	   "metadata": {
	    "collapsed": true
	   },
	   "outputs": [],
"source": [
"clc;\n",
"clear;\n",
"vis=0.4;//Ns/(m^2)\n",
"d=900;//kg/(m^3)\n",
"D=0.02;//m\n",
"Q=2.0*(10^-5);//(m^3)/s\n",
"x1=0;\n",
"x2=10;//m\n",
"p1=200;//kPa\n",
"x3=5;//m\n",
"V=Q/(%pi*(D^2)/4);//m/s\n",
"Re=d*V*D/vis;\n",
"disp('Hence the flow is laminar.',Re,'a) Reynolds number =')\n",
"pdiff=128*vis*(x2-x1)*Q/(%pi*(D^4)*1000);\n",
"//for part b0 p1=p2; Q=%pi*(pdiff-(sw*l*sin(ang)))*(D^4)/(128*vis*l)\n",
"ang=(asin(-128*vis*Q/(%pi*d*9.81*(D^4))))*180/%pi;\n",
"//since sin(ang) doesn= not depend on pdiff, the the pressure is constant all along the pipe\n",
"//hence for c)\n",
"p3=p1;//kPa\n",
"disp('kPa.',pdiff,'The pressure drop required if the pipe is horizontal=')\n",
"disp('degrees.',ang,'b) The angle of the hill the pipe must be on if the oil is to flow at the same rate as a) but with (p1=p2) =')\n",
"disp('kPa',p3,'c) For conditions of part b), the pressure at x3=5 m = ')"
   ]
   }
,
{
		   "cell_type": "markdown",
		   "metadata": {},
		   "source": [
			"## Example 8.3: net_force_calculation.sce"
		   ]
		  },
  {
"cell_type": "code",
	   "execution_count": null,
	   "metadata": {
	    "collapsed": true
	   },
	   "outputs": [],
"source": [
"clc;\n",
"clear;\n",
"T=[60 80 100 120 140 160];//degree F\n",
"d=[2.07 2.06 2.05 2.04 2.03 2.02];//(slugs/(ft^3))\n",
"vis=[0.04 0.019 0.0038 0.00044 0.000092 0.000023];//lb*sec/(ft^2)\n",
"Q=0.5;//(ft^3)/sec\n",
"T1=100;//degree F\n",
"l=6;//ft\n",
"D=3;//in\n",
"//Q=K*pdiff; where pdiff=p1-p2\n",
"//hence K=%pi*(D^4)/(128*vis*l)\n",
"count=1;\n",
"for i=1:6\n",
"    K(i)=(%pi*((D/12)^4))/(128*vis(i)*l);\n",
"end\n",
"plot2d(T,K,logflag='nl')\n",
"xtitle('K vs T','T, degree F','K, (ft^5)/(lb.sec)')\n",
"pdiff=(128*Q*vis(3)*l)/(%pi*((D/12)^4));//when temperature is 100 degree F\n",
"disp('lb/(ft^2)',pdiff,'The pressure drop for the given Q and T =')\n",
"V=Q/(%pi*((D/12)^2)/4);//ft/sec\n",
"Re=d(3)*V*(D/12)/vis(3);\n",
"disp('hence the flow is laminar',Re,'The reynolds number=')\n",
"stress=pdiff*(D/12)/(4*l);//lb/(ft^2)\n",
"disp('lb/(ft^2)',stress,'The wall stress for the given Q and T =')\n",
"Fp=(%pi/4)*((D/12)^2)*pdiff;//lb\n",
"Fv=(2*%pi)*((D/12)/2)*l*stress;//lb\n",
"disp('lb',Fp,'The net pressure force =')\n",
"disp('lb',Fv,'The net viscous/shear force =')"
   ]
   }
,
{
		   "cell_type": "markdown",
		   "metadata": {},
		   "source": [
			"## Example 8.4: turbulent_pipe_flow.sce"
		   ]
		  },
  {
"cell_type": "code",
	   "execution_count": null,
	   "metadata": {
	    "collapsed": true
	   },
	   "outputs": [],
"source": [
"clc;\n",
"clear;\n",
"T=20;//degree C\n",
"d=998;//kg/(m^3)\n",
"kvis=1.004*(10^-6);//(m^2)/s; where kvis=kinematic viscosity\n",
"D=0.1;//m\n",
"Q=0.04;//(m^3)/sec\n",
"pgrad=2.59;//kPa/m; where pgrad is pressure gradient\n",
"r=0.025;//m\n",
"stress=D*(pgrad*1000)/(4*1);//N/(m^2)\n",
"uf=(stress/d)^0.5;//m/sec; where uf is frictional velocity\n",
"ts=5*kvis*1000/(uf);//mm; where ts is the thickness of the viscous sublayer\n",
"disp('mm',ts,'The thickness of the viscous sublayer=')\n",
"V=Q/(%pi*(D^2)/4);//m/s\n",
"Re=V*D/kvis;\n",
"disp('hence the flow is turbulent.',Re,'The reynolds number=')\n",
"n=8.4;//from turbulent flow velocity profile diagram\n",
"\n",
"//Q=(%pi)*(R^2)*V\n",
"R=1;//assumption\n",
"//let Q/Vc=x\n",
"x=integrate('((1-(r/R))^(1/n))*(2*%pi*r)','r',0,R);\n",
"q=%pi*(R^2)*V;\n",
"Vc=q/x;//m/s\n",
"disp('m/s',Vc,'The approximate centerline velocity=')\n",
"stress1=(2*stress*r)/D;//N/(m^2)\n",
"//d(uavg)/dr=urate=-(Vc/(n*R))*((1-(r/R))^((1-n)/n)); where uavg=average velocity\n",
"urate=-(Vc/(n*(D/2)))*((1-(r/(D/2)))^((1-n)/n));//s^(-1)\n",
"stresslam=-(kvis*d*urate);//N/(m^2)\n",
"stressratio=(stress1-stresslam)/stresslam;\n",
"disp(stressratio,'The ratio of teh turbulent to laminar stress at a point midway between the centreline and the pipe wall =')"
   ]
   }
,
{
		   "cell_type": "markdown",
		   "metadata": {},
		   "source": [
			"## Example 8.5: pressure_drop_calculatio.sce"
		   ]
		  },
  {
"cell_type": "code",
	   "execution_count": null,
	   "metadata": {
	    "collapsed": true
	   },
	   "outputs": [],
"source": [
"clc;\n",
"clear;\n",
"D=4;//mm\n",
"V=50;//m/sec\n",
"l=0.1;//m\n",
"d=1.23;//kg/(m^3)\n",
"vis=1.79/100000;//N*sec/(m^2)\n",
"Re=d*V*(D/1000)/vis;\n",
"//if flow is laminar\n",
"f=64/Re;\n",
"pdiff=f*l*0.5*d*(V^2)/((D/1000)*1000);//kPa\n",
"disp('kPa',pdiff,'The pressure drop if the flow is laminar=')\n",
"//if flow is turbulent\n",
"//roughness=0.0015; hence f=0.028\n",
"f1=0.028;\n",
"pdiff1=f1*l*0.5*d*(V^2)/((D/1000)*1000);//kPa\n",
"disp('kPa',pdiff1,'The pressure drop if flow is turbulent=')\n",
""
   ]
   }
,
{
		   "cell_type": "markdown",
		   "metadata": {},
		   "source": [
			"## Example 8.6: minor_losses_calculation.sce"
		   ]
		  },
  {
"cell_type": "code",
	   "execution_count": null,
	   "metadata": {
	    "collapsed": true
	   },
	   "outputs": [],
"source": [
"clc;\n",
"clear;\n",
"A=[22 28 35 35 4 4 10 18 22];\n",
"V=[36.4 28.6 22.9 22.9 200 200 80 44.4 36.4];\n",
"//minimum area is at location 5, hence max velocity is at 5\n",
"c5=(1.4**1716*(460+59))^0.5;//ft/sec\n",
"Ma5=V(5)/c5;\n",
"//applying energy equation between locations  1 and 9\n",
"//hL=hp=(p1-p9)/sw=pdiff/sw\n",
"//Pa=sw*Q*hp=sw*A(5)*V(5)*hL\n",
"KLcorner=0.2;\n",
"KLdif=0.6;\n",
"KLscr=4;\n",
"hL=((KLcorner*(((V(7))^2)+((V(8))^2)+((V(2))^2)+((V(3))^2))) + (KLdif*(((V(6))^2))) + (KLcorner*((V(5))^2)) + (KLscr*((V(4))^2)))/(2*32.2);//ft\n",
"Pa=0.0765*A(5)*V(5)*hL/550;//hp\n",
"pdiff=0.0765*hL/144;//psi\n",
"disp('psi',pdiff,'The value of (p1-p9)=')\n",
"disp('hp',Pa,'The horsepower supplied to the fluid by the fan=')\n",
"v=50:300;\n",
"count=1;\n",
"for i=50:300\n",
"   power(count)=0.0765*((((KLcorner*((A(5)*i/A(7))^2)+((A(5)*i/(A(8)))^2)+((A(5)*i/A(2))^2)+((A(5)*i/A(3))^2))) + (KLdif*(((A(5)*i/A(6))^2))) + (KLcorner*((i)^2)) + (KLscr*((A(5)*i/A(4))^2)))/(2*32.2))*(A(5))*i/550;\n",
"   count=count+1;\n",
"end\n",
"plot2d(v,power,rect=[0,0,300,250])\n",
"xtitle('Pa vs V5','V5, ft/sec','Pa, hp')"
   ]
   }
,
{
		   "cell_type": "markdown",
		   "metadata": {},
		   "source": [
			"## Example 8.7: duct_size_determination.sce"
		   ]
		  },
  {
"cell_type": "code",
	   "execution_count": null,
	   "metadata": {
	    "collapsed": true
	   },
	   "outputs": [],
"source": [
"clc;\n",
"clear;\n",
"T=120;//degree F\n",
"D=8;//in\n",
"vavg=10;//ft/s\n",
"roughness=0;\n",
"kvis=1.89/10000;//(ft^2)/s\n",
"Re=vavg*(D/12)/kvis;\n",
"//from this value of Re and roughness/D=0, and using Moody's chart\n",
"f=0.022;\n",
"hLperl=f*(vavg^2)/(D*2*32.2/12);\n",
"//Dh=4*A/P=4*(a^2)/(4*a)=a\n",
"\n",
"//Vs=(%pi*((D/12)^2)*vavg)/(4*a^2)\n",
"//a=f*((%pi*((D/12)^2)*vavg)/(4*a^2))/(2*32.2) and Reh=((%pi*((D/12)^2)*vavg)/(4*a^2))*a/kvis\n",
"//by trial and error\n",
"f=0.023;\n",
"x=(%pi*((D/12)^2)*vavg/4)^2;\n",
"y=x*f/(2*32.2);\n",
"a=((y/0.0512)^(1/5))*12;//in\n",
"disp('inches',a,'The duct size(a) for the square duct if the head loss per foot remains the same for the pipe and the duct=') "
   ]
   }
,
{
		   "cell_type": "markdown",
		   "metadata": {},
		   "source": [
			"## Example 8.8: determining_pressure_drop.sce"
		   ]
		  },
  {
"cell_type": "code",
	   "execution_count": null,
	   "metadata": {
	    "collapsed": true
	   },
	   "outputs": [],
"source": [
"clc;\n",
"clear;\n",
"T=60;//degree F\n",
"D=0.0625;//ft\n",
"Q=0.0267;//(ft^3)/sec\n",
"Df=0.5;//in\n",
"l1=15;//ft\n",
"l2=10;//ft\n",
"l3=5;//ft\n",
"l4=10;//ft\n",
"l5=10;//ft\n",
"l6=10;//ft\n",
"V1=Q/(%pi*(D^2)/4);//ft/sec\n",
"V2=Q/(%pi*((Df/12)^2)/4);//ft/sec\n",
"d=1.94;//slugs/ft\n",
"vis=2.34/100000;//lb*sec/(ft^2)\n",
"Re=d*V1*D/vis;\n",
"disp('hence the flow is turbulent',Re,'The reynolds number =')\n",
"//applying energy equation between points 1 and 2\n",
"//when all head losses are excluded\n",
"p1=(d*32.2*(l2+l4))+(0.5*d*((V2^2)-(V1^2)));//lb/(ft^2)\n",
"disp('psi',p1/144,'a)The pressure at point 1 when all head losses are neglected=')\n",
"//if major losses are included\n",
"f=0.0215;\n",
"hLmajor=f*(l1+l2+l3+l4+l5+l6)*(V1^2)/(D*2*32.2);\n",
"p11=p1+(d*32.2*hLmajor);//lb/(ft^2)\n",
"disp('psi',p11/144,'b)The pressure at point 1 when only major head losses are included=')\n",
"//if major and minor losses are included\n",
"KLelbow=1.5;\n",
"KLvalve=10;\n",
"KLfaucet=2;\n",
"hLminor=(KLvalve+(4*KLelbow)+KLfaucet)*(V1^2)/(2*32.2);\n",
"p12=p11+(d*32.2*hLminor);//lb/(ft^2)\n",
"disp('psi',p12/144,'c)The pressure at point 1 when both major and minor head losses are included=')\n",
"H=(p1/(32.2*1.94))+(V1*V1/(2*32.2));//ft\n",
"dist=0:60;\n",
"for i=0:15\n",
"    press(i+1)=p1/144;\n",
"    press1(i+1)=((d*32.2*(l2+l4))+(0.5*d*((V2^2)-(V1^2)))+(d*32.2*(f*(l1+l2+l3+l4+l5+l6-i)*(V1^2)/(D*2*32.2)))+(d*32.2*(KLvalve+(4*KLelbow)+KLfaucet)*(V1^2)/(2*32.2)))/144;\n",
"    head(i+1)=H;\n",
"    head1(i+1)=((press1(i+1))*144/(32.2*1.94))+((V1^2)/(2*32.2));\n",
"end\n",
"for i=16:25\n",
"    press(i+1)=((d*32.2*((l2+l4)-(i-15)))+(0.5*d*((V2^2)-(V1^2))))/144;\n",
"    press1(i+1)=((d*32.2*((l2+l4)-(i-15)))+(0.5*d*((V2^2)-(V1^2)))+(d*32.2*f*(l1+l2+l3+l4+l5+l6-i)*(V1^2)/(D*2*32.2))+(d*32.2*(KLvalve+(3*KLelbow)+KLfaucet)*(V1^2)/(2*32.2)))/144;\n",
"    head(i+1)=H;\n",
"    head1(i+1)=(press1(i+1)*144/(32.2*1.94))+((V1^2)/(2*32.2))+(i-l1);\n",
"end\n",
"for i=26:30\n",
"    press(i+1)=((d*32.2*((l2+l4)-(25-15)))+(0.5*d*((V2^2)-(V1^2))))/144;\n",
"     press1(i+1)=((d*32.2*((l2+l4)-(25-15)))+(0.5*d*((V2^2)-(V1^2)))+(d*32.2*(f*(l1+l2+l3+l4+l5+l6-i)*(V1^2)/(D*2*32.2)))+(d*32.2*(KLvalve+(2*KLelbow)+KLfaucet)*(V1^2)/(2*32.2)))/144;\n",
"     head(i+1)=H;\n",
"    head1(i+1)=(press1(i+1)*144/(32.2*1.94))+((V1^2)/(2*32.2))+l2;\n",
"end\n",
"for i=31:40\n",
"    press(i+1)=((d*32.2*((l2+l4)-(i-l1-l3)))+(0.5*d*((V2^2)-(V1^2))))/144;\n",
"    press1(i+1)=((d*32.2*((l2+l4)-(i-l1-l3)))+(0.5*d*((V2^2)-(V1^2)))+(d*32.2*(f*(l1+l2+l3+l4+l5+l6-i)*(V1^2)/(D*2*32.2)))+(32.2*d*(KLvalve+(KLelbow)+KLfaucet)*(V1^2)/(2*32.2)))/144;\n",
"    head(i+1)=H;\n",
"    head1(i+1)=(press1(i+1)*144/(32.2*1.94))+((V1^2)/(2*32.2))+(i-(l1+l3));\n",
"end\n",
"for i=41:50\n",
"    press(i+1)=((d*32.2*((l2+l4)-(40-l1-l3)))+(0.5*d*((V2^2)-(V1^2))))/144;\n",
"    press1(i+1)=((d*32.2*((l2+l4)-(40-l1-l3)))+(0.5*d*((V2^2)-(V1^2)))+(d*32.2*(f*(l1+l2+l3+l4+l5+l6-i)*(V1^2)/(D*2*32.2)))+(d*32.2*(KLvalve+KLfaucet)*(V1^2)/(2*32.2)))/144;\n",
"     head(i+1)=H;\n",
"    head1(i+1)=(press1(i+1)*144/(32.2*1.94))+((V1^2)/(2*32.2))+(l2+l4);\n",
"end\n",
"for i=51:60\n",
"    press(i+1)=((d*32.2*((l2+l4)-(40-l1-l3)))+(0.5*d*((V2^2)-(V1^2))))/144;\n",
"     press1(i+1)=((d*32.2*((l2+l4)-(40-l1-l3)))+(0.5*d*((V2^2)-(V1^2)))+(d*32.2*(f*(l1+l2+l3+l4+l5+l6-i)*(V1^2)/(D*2*32.2)))+d*32.2*((KLfaucet)*(V1^2)/(2*32.2)))/144;\n",
"     head(i+1)=H;\n",
"    head1(i+1)=(press1(i+1)*144/(32.2*1.94))+((V1^2)/(2*32.2))+(l2+l4);\n",
"end\n",
"plot(dist,press,'o-')\n",
"plot(dist,press1,'x-')\n",
"h1=legend(['without losses';'with losses'])\n",
"xtitle('p vs distance long pipe from (1)','distance along pipe from (1), ft','p, psi')\n",
"xclick(1);\n",
"clf();\n",
"plot(dist,head,'o-')\n",
"plot(dist,head1,'x-')\n",
"h2=legend(['energy line with no losses';'energy line including losses'])\n",
"xtitle('H vs distance long pipe from (1)','distance along pipe from (1), ft','H,elevation to energy line, ft')\n",
"\n",
"end"
   ]
   }
,
{
		   "cell_type": "markdown",
		   "metadata": {},
		   "source": [
			"## Example 8.9: determining_head_loss.sce"
		   ]
		  },
  {
"cell_type": "code",
	   "execution_count": null,
	   "metadata": {
	    "collapsed": true
	   },
	   "outputs": [],
"source": [
"clc;\n",
"clear;\n",
"T=140;//degree F\n",
"sw=53.7;//lb/(ft^3)\n",
"vis=8/100000;//lb*sec/(ft^2)\n",
"l=799;//miles\n",
"D=4;//ft\n",
"Q=117;//(ft^3)/sec\n",
"V=9.31;//ft/sec\n",
"//energy equation=> hp=hL=f*(l/D)*((V^2)/(2*g))\n",
"f=0.0125;\n",
"hp=f*(l*5280/D)*((V^2)/(2*32.2));//ft\n",
"Pa=sw*Q*hp/550;//hp\n",
"disp('hp',Pa,'The horsepower required to drive the system=')\n",
"dia=2:0.01:6;\n",
"count=1;\n",
"for i=2:0.01:6\n",
"    power(count)=sw*Q*(f*(l*5280/i)*(((Q/(%pi*(i^2)/4))^2)/(2*32.2)))/550;\n",
"    count=count+1;\n",
"end\n",
"plot2d(dia,power,rect=[0,0,6,4000000])\n",
"xtitle('Pa vs D','D, ft','Pa, hp')"
   ]
   }
],
"metadata": {
		  "kernelspec": {
		   "display_name": "Scilab",
		   "language": "scilab",
		   "name": "scilab"
		  },
		  "language_info": {
		   "file_extension": ".sce",
		   "help_links": [
			{
			 "text": "MetaKernel Magics",
			 "url": "https://github.com/calysto/metakernel/blob/master/metakernel/magics/README.md"
			}
		   ],
		   "mimetype": "text/x-octave",
		   "name": "scilab",
		   "version": "0.7.1"
		  }
		 },
		 "nbformat": 4,
		 "nbformat_minor": 0
}
