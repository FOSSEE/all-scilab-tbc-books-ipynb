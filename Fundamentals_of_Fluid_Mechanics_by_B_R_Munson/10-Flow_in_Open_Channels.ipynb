{
"cells": [
 {
		   "cell_type": "markdown",
	   "metadata": {},
	   "source": [
       "# Chapter 10: Flow in Open Channels"
	   ]
	},
{
		   "cell_type": "markdown",
		   "metadata": {},
		   "source": [
			"## Example 10.2: elevation_of_surface.sce"
		   ]
		  },
  {
"cell_type": "code",
	   "execution_count": null,
	   "metadata": {
	    "collapsed": true
	   },
	   "outputs": [],
"source": [
"clc;\n",
"clear;\n",
"z2=0.5;//ft\n",
"q=5.75;//(ft^2)/sec\n",
"y1=2.3;//ft\n",
"z1=0;//ft\n",
"V1=2.5;//ft/sec\n",
"//bernoulli equation\n",
"a=y1+((V1^2)/(2*32.2))+z1-z2;//ft; where a=y2+((V^2)/(2*g))\n",
"//countinuity equation\n",
"b=(y1*V1);//(ft^2/sec); where b=(y2*V2)\n",
"c1=2*32.2;\n",
"c2=(-c1)*a;\n",
"c3=b^2;\n",
"fn=poly([c3 0 c2 c1],'y2','c');\n",
"y2=roots(fn);\n",
"sum1=y2(3)+z2;//ft\n",
"sum2=y2(1)+z2;//ft\n",
"E1=y1+(c3/(y1^2));//ft\n",
"Emin=3*((q^2)/(32.2^(1/3)))/2;//ft\n",
"z=E1-Emin;//ft\n",
"//using this value of z, the surface elevation is found to be sum1\n",
"disp('ft',sum1,'The elevation of the water surface downstream of the ramp=')\n",
"count=1;\n",
"y=1:0.1:10;\n",
"for i=1:0.1:10\n",
"    E(count)=i+(c3/(i^2));\n",
"    count=count+1;\n",
"end\n",
"plot2d(E,y,rect=[0,0,10,12])\n",
"xtitle('y vs E','E','y')"
   ]
   }
,
{
		   "cell_type": "markdown",
		   "metadata": {},
		   "source": [
			"## Example 10.3: froude_number_determination.sce"
		   ]
		  },
  {
"cell_type": "code",
	   "execution_count": null,
	   "metadata": {
	    "collapsed": true
	   },
	   "outputs": [],
"source": [
"clc;\n",
"clear;\n",
"y=5;//ft\n",
"angle=40;//degree\n",
"l=12;//ft\n",
"rate=1.4;//ft per 1000 ft of length\n",
"K=1.49;\n",
"A=(l*y)+(y*y/tan(angle*%pi/180));//ft\n",
"P=(l+(2*y/sin(angle*%pi/180)));//ft\n",
"Rh=A/P;\n",
"S0=rate/1000;\n",
"x=K*(A)*(Rh^(2/3))*(S0^0.5);//where Rh=Q*n\n",
"n=0.012;\n",
"Q=x/n;//cfs\n",
"disp('cfs',Q,'The flowrate=')\n",
"V=Q/A;//ft/sec\n",
"Fr=V/(32.2*y)^0.5;\n",
"disp(Fr,'Froude number=')"
   ]
   }
,
{
		   "cell_type": "markdown",
		   "metadata": {},
		   "source": [
			"## Example 10.4: determining_flow_depth.sce"
		   ]
		  },
  {
"cell_type": "code",
	   "execution_count": null,
	   "metadata": {
	    "collapsed": true
	   },
	   "outputs": [],
"source": [
"clc;\n",
"clear;\n",
"y=5;//ft\n",
"angle=40;//degree\n",
"l=12;//ft\n",
"rate=1.4;//ft per 1000 ft of length\n",
"Q=10;//m^3/sec\n",
"//A=(l*y)+(y*y/tan(angle*%pi/180)) ft^2\n",
"bw=l*1/3.281;//m; where bw=bottom width 3.66\n",
"//P=bw(2*y/sin(angle*%pi/180)) m\n",
"//Rh=A/P\n",
"n=0.03;\n",
"c1=1/tan(angle*%pi/180);//1.19\n",
"c2=(Q*n/((rate/1000)^0.5))^3;//515\n",
"c3=2/sin(angle*%pi/180);//3.11\n",
"fn=poly([(-c2*bw*bw) (-c2*2*c3*bw) (-c2*c3*c3) 0 0 (bw^5) (5*c1*bw^4) (10*(c1^2)*(bw^3)) (10*(c1^3)*(bw^2)) (5*(c1^4)*(bw)) (c1^5)],'y','c');\n",
"r=roots(fn);\n",
"disp('m',r(1),'The depth of the flow=')"
   ]
   }
,
{
		   "cell_type": "markdown",
		   "metadata": {},
		   "source": [
			"## Example 10.7: flowrate_estimatio.sce"
		   ]
		  },
  {
"cell_type": "code",
	   "execution_count": null,
	   "metadata": {
	    "collapsed": true
	   },
	   "outputs": [],
"source": [
"clc;\n",
"clear;\n",
"S0=1/500;\n",
"n1=0.02;\n",
"z1=0.6;//ft\n",
"n2=0.015;\n",
"n3=0.03;\n",
"z2=0.8;//ft\n",
"l1=3;//ft\n",
"l2=2;//ft\n",
"l3=3;//ft\n",
"y=z1+z2;//ft\n",
"K=1.49;\n",
"A1=l1*(z1);//ft^2\n",
"A2=l2*(y);//ft^2\n",
"A3=l3*(z1);//ft^2\n",
"P1=l1+z1;//ft\n",
"P2=l2+(2*z2);//ft\n",
"P3=l3+z1;//ft\n",
"Rh1=A1/P1;//ft\n",
"Rh2=A2/P2;//ft\n",
"Rh3=A3/P3;//ft\n",
"Q=K*(S0^0.5)*((A1*(Rh1^(2/3))/n1)+(A3*(Rh3^(2/3))/n3)+(A2*(Rh2^(2/3))/n2));//(ft^3)/sec\n",
"disp('(ft^3)/sec',Q,'The flowrate=')  "
   ]
   }
,
{
		   "cell_type": "markdown",
		   "metadata": {},
		   "source": [
			"## Example 10.8: aspect_ratio_determination.sce"
		   ]
		  },
  {
"cell_type": "code",
	   "execution_count": null,
	   "metadata": {
	    "collapsed": true
	   },
	   "outputs": [],
"source": [
"clc;\n",
"clear;\n",
"//A=b*y\n",
"//p=b+2*y\n",
"//Q=K*A*(Rh^(2/3))*(S0^0.5)/n\n",
"//dA/dy=0\n",
"//from the above, we get\n",
"aspratio=2;//asp ratio=aspect ratio=b/y\n",
"disp(aspratio,'The aspect ratio=')\n",
"asprat=0.5:0.01:5;\n",
"count=1;\n",
"for  i=0.5:0.01:5\n",
"    Qrat(count)=(((2*sqrt(1/2))+(sqrt(2)))/((2*sqrt(1/i))+(sqrt(i))))^(2/3);\n",
"    count=count+1;\n",
"end\n",
"plot2d(asprat,Qrat,rect=[0,0.8,5,1.05])\n",
"xtitle('Q/Qmax vs b/y','b/y','Q/Qmax')\n",
""
   ]
   }
,
{
		   "cell_type": "markdown",
		   "metadata": {},
		   "source": [
			"## Example 10.9: hydraulic_jump.sce"
		   ]
		  },
  {
"cell_type": "code",
	   "execution_count": null,
	   "metadata": {
	    "collapsed": true
	   },
	   "outputs": [],
"source": [
"clc;\n",
"clear;\n",
"w=100;//ft\n",
"y1=0.6;//ft\n",
"V1=18;//ft/sec\n",
"Fr1=V1/(32.2*y1)^0.5;\n",
"disp(Fr1,'The Froude number before the jump=')\n",
"yratio=0.5*(-1+(1+(8*(Fr1^2)))^0.5);//where yratio=y2/y1\n",
"y2=y1*yratio;//ft\n",
"disp('ft',y2,'The depth after the jump=')\n",
"//Q1=Q2, hence\n",
"V2=(y1*V1)/y2;//ft/sec\n",
"Fr2=V2/(32.2*y2)^0.5;\n",
"disp(Fr2,'The froude number after the jump=')\n",
"Q=w*y1*V1;//(ft^3)/sec\n",
"hL=(y1+(V1*V1/(32.2*2)))-(y2+(V2*V2/(2*32.2)));//ft\n",
"Pd=62.4*hL*Q/550;//hp\n",
"disp('hp',Pd,'Power dissipated within the jump=')\n",
"depth1=0.4:0.01:1.53;\n",
"count=1;\n",
"for i=0.4:0.01:1.53\n",
"    power(count)=62.4*(((i+((Q/(i*w))^2)/(32.2*2)))-((i*(0.5*(-1+(1+(8*(((Q/(i*w))/(32.2*i)^0.5)^2)))^0.5)))+((((i*(Q/(i*w)))/(i*(0.5*(-1+(1+(8*(((Q/(i*w))/(32.2*i)^0.5)^2)))^0.5))))^2)/(2*32.2))))*Q/550;\n",
"    count=count+1;\n",
"end\n",
"plot2d(depth1,power,rect=[0,0,1.6,1000])\n",
"xtitle('Pa vs y1','y1, ft','Pa, hp')\n",
"xclick(1);\n",
"clf();\n",
"y=0.5:0.01:4;\n",
"n=1;\n",
"for i=0.5:0.01:4\n",
"    E(n)=(i+(((Q/w)^2)/(2*32.2*i*i)));\n",
"    n=n+1;\n",
"end\n",
"plot2d(E,y,rect=[0,0,6,4])\n",
"xtitle('y vs E','E,ft','y,ft')"
   ]
   }
],
"metadata": {
		  "kernelspec": {
		   "display_name": "Scilab",
		   "language": "scilab",
		   "name": "scilab"
		  },
		  "language_info": {
		   "file_extension": ".sce",
		   "help_links": [
			{
			 "text": "MetaKernel Magics",
			 "url": "https://github.com/calysto/metakernel/blob/master/metakernel/magics/README.md"
			}
		   ],
		   "mimetype": "text/x-octave",
		   "name": "scilab",
		   "version": "0.7.1"
		  }
		 },
		 "nbformat": 4,
		 "nbformat_minor": 0
}
