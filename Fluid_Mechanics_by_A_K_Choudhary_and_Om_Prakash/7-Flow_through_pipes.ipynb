{
"cells": [
 {
		   "cell_type": "markdown",
	   "metadata": {},
	   "source": [
       "# Chapter 7: Flow through pipes"
	   ]
	},
{
		   "cell_type": "markdown",
		   "metadata": {},
		   "source": [
			"## Example 7.10: Diameter_of_pipe.sce"
		   ]
		  },
  {
"cell_type": "code",
	   "execution_count": null,
	   "metadata": {
	    "collapsed": true
	   },
	   "outputs": [],
"source": [
"////Example 7.10\n",
"clc;\n",
"clear;\n",
"close;\n",
"format('v',5);\n",
"//Given data :\n",
"g=9.81;//gravity constanty\n",
"L=3*1000;//meter\n",
"hf=20;//meter\n",
"Q=1;//m^3/sec\n",
"f=0.02;//coeff. of friction\n",
"//v=sqrt(hf*2*g/4/f/L/D);//it is v^2*D\n",
"D2v=Q/(%pi/4);//it is D^2*v\n",
"D=(Q/(%pi/4)/sqrt(hf*2*g/4/f/L))^(2/5);//meter\n",
"D=D*1000;//mm\n",
"disp(D,'Diameter of pipe in mm   : ');"
   ]
   }
,
{
		   "cell_type": "markdown",
		   "metadata": {},
		   "source": [
			"## Example 7.11_a: Discharge_and_velocity.sce"
		   ]
		  },
  {
"cell_type": "code",
	   "execution_count": null,
	   "metadata": {
	    "collapsed": true
	   },
	   "outputs": [],
"source": [
"////Example 7.11 at page 246\n",
"clc;\n",
"clear;\n",
"close;\n",
"format('v',7);\n",
"//Given data :\n",
"g=9.81;//gravity constanty\n",
"D1=400/1000;//meter\n",
"D2=300/1000;//meter\n",
"D3=200/1000;//meter\n",
"v1=3;//m/s\n",
"v2=2;//m/s\n",
"A1=%pi/4*D1^2;//m^2\n",
"A2=%pi/4*D2^2;//m^2\n",
"A3=%pi/4*D3^2;//m^2\n",
"Q1=A1*v1;//cumec\n",
"disp(Q1,'Discharge in pipe 1 in cumec : ');\n",
"Q2=A2*v2;//cumec\n",
"Q3=Q1-Q2;//cumec\n",
"v3=Q3/A3;//m/s\n",
"disp(v3,'Velocity of water in 200mm pipe in m/s : ');"
   ]
   }
,
{
		   "cell_type": "markdown",
		   "metadata": {},
		   "source": [
			"## Example 7.11: Calculate_the_pressure.sce"
		   ]
		  },
  {
"cell_type": "code",
	   "execution_count": null,
	   "metadata": {
	    "collapsed": true
	   },
	   "outputs": [],
"source": [
"////Example 7.11\n",
"clc;\n",
"clear;\n",
"close;\n",
"format('v',7);\n",
"//Given data :\n",
"g=9.81;//gravity constanty\n",
"D1=100/1000;//meter\n",
"D2=200/1000;//meter\n",
"PQ=100;//meter\n",
"QR=100;//meter\n",
"slope=1/100;//upward slope\n",
"Q=0.02;//cumec\n",
"p1=2;//kg/cm^2(Pressure in 100 mm dia pipe)\n",
"f=0.02;//unitless\n",
"Q_P=100/100;//meter(Point Q hight respect to point P)\n",
"Q_R=200/100;//meter(Point Q hight respect to point R)\n",
"v1=Q/(%pi/4*D1^2);//m/sec\n",
"v2=Q/(%pi/4*D2^2);//m/sec\n",
"hf1=4*f*PQ*v1^2/(2*g*D1);//meter\n",
"hf2=4*f*QR*v2^2/(2*g*D2);//meter\n",
"hse=(v1-v2)^2/2/g;//meter(loss due to sudden enlargement)\n",
"//Section PQ\n",
"Z1P=0;//meter(Datum Head)\n",
"H1P=v1^2/2/g;//meter(velocity Head)\n",
"p1BYw=p1*10^4/1000;//meter(Pressure Head at P)\n",
"Z1Q=1;//meter(Datum Head)\n",
"H1Q=v2^2/2/g;//meter(velocity Head)\n",
"//Applying bernaullis theorem\n",
"p2BYw=Z1P+p1BYw+H1P-Z1Q-H1Q-hf1;//meter(Pressure Head at Q)\n",
"disp(p1BYw,'Pressure Head at point P(m)')\n",
"disp(H1P,'Velocity Head at point P(m)')\n",
"disp(p2BYw,'Pressure Head at point Q(m)')\n",
"//Section QR\n",
"//Applying bernaullis theorem\n",
"p2dashBYw=p2BYw+H1P-H1Q-hse;//meter(Pressure Head at Q)\n",
"Z2=1;//meter(Datum Head)\n",
"H1Q=v2^2/2/g;//meter(velocity Head)\n",
"Z3=2;//meter(Datum Head at R)\n",
"H1R=v2^2/2/g;//meter(velocity Head at R)\n",
"//Applying bernaullis theorem\n",
"p3BYw=Z2+p2dashBYw+H1Q-Z3-H1R-hf2;//meter(Pressure Head at R)\n",
"disp(H1Q,'Velocity Head at point Q after enlargemant(m)')\n",
"disp(p2dashBYw,'Pressure Head at point Q after enlargemant(m)')\n",
"disp(p3BYw,'Pressure Head at point R(m)')\n",
"disp(H1R,'Velocity Head at point R(m)')\n",
"//Answer in the book is wrong for some calculations."
   ]
   }
,
{
		   "cell_type": "markdown",
		   "metadata": {},
		   "source": [
			"## Example 7.12: Discharge_through_300mm_pipe.sce"
		   ]
		  },
  {
"cell_type": "code",
	   "execution_count": null,
	   "metadata": {
	    "collapsed": true
	   },
	   "outputs": [],
"source": [
"////Example 7.12\n",
"clc;\n",
"clear;\n",
"close;\n",
"format('v',6);\n",
"//Given data :\n",
"g=9.81;//gravity constanty\n",
"D1=100/1000;//meter\n",
"D2=300/1000;//meter\n",
"Q1=0.01;//m^3/sec\n",
"A1=%pi/4*D1^2;//m^2\n",
"A2=%pi/4*D2^2;//m^2\n",
"//hf1=hf2\n",
"Q2=sqrt(D2/(D1)*(Q1/A1)^2*A2^2);//cumec\n",
"disp(Q2,'Discharge throough 300mm pipe in cumec : ');"
   ]
   }
,
{
		   "cell_type": "markdown",
		   "metadata": {},
		   "source": [
			"## Example 7.13: Discharge_in_pipe_line.sce"
		   ]
		  },
  {
"cell_type": "code",
	   "execution_count": null,
	   "metadata": {
	    "collapsed": true
	   },
	   "outputs": [],
"source": [
"////Example 7.13\n",
"clc;\n",
"clear;\n",
"close;\n",
"format('v',6);\n",
"//Given data :\n",
"g=9.81;//gravity constanty\n",
"f=0.02;//coeff. of friction\n",
"PQ=500;//meter\n",
"QR=1000;//meter\n",
"RS=500;//meter\n",
"hf=10+PQ/62.5+QR/125-RS/100-2;//meter\n",
"l=500+1000+500;///meter\n",
"D=250/1000;//meter\n",
"v=sqrt(hf*2*g*D/4/f/l);//m/s\n",
"Q=%pi/4*D^2*v;//m^3/sec\n",
"Q=Q*1000;//litres/sec\n",
"disp(Q,'Discharge in pipe line in litres/sec : ');"
   ]
   }
,
{
		   "cell_type": "markdown",
		   "metadata": {},
		   "source": [
			"## Example 7.14_a: Diameter_of_pipe_line.sce"
		   ]
		  },
  {
"cell_type": "code",
	   "execution_count": null,
	   "metadata": {
	    "collapsed": true
	   },
	   "outputs": [],
"source": [
"////Example 7.14 at page no. 250\n",
"clc;\n",
"clear;\n",
"close;\n",
"format('v',6);\n",
"//Given data :\n",
"g=9.81;//gravity constant\n",
"l=4;//km\n",
"n=5000;//habitants\n",
"Ch=200;//litres/day(habitant capacity)\n",
"t=10;//hour(daiy supply time)\n",
"hf=20;//meter(Head loss)\n",
"f=0.008;//coeff. of friction\n",
"Qty=n*Ch/2;//litres(Water supplied in 10 hours)\n",
"Q=Qty/(t*60*60);//litres/sec\n",
"Q=Q/1000;//m^3/sec\n",
"d=(f*l*1000*Q^2/3.0257/hf)^(1/5);//meter\n",
"disp(d*1000,'Diameter of pipe(mm) : ');"
   ]
   }
,
{
		   "cell_type": "markdown",
		   "metadata": {},
		   "source": [
			"## Example 7.14: Discharge_in_pipe_line.sce"
		   ]
		  },
  {
"cell_type": "code",
	   "execution_count": null,
	   "metadata": {
	    "collapsed": true
	   },
	   "outputs": [],
"source": [
"////Example 7.14\n",
"clc;\n",
"clear;\n",
"close;\n",
"format('v',6);\n",
"//Given data :\n",
"g=9.81;//gravity constant\n",
"slope=1/125;//slope\n",
"hA=12;//meter(level of water in reservoir A)\n",
"hB=1.5;//meter(level of water in reservoir B)\n",
"L1=500;//meter\n",
"D1=250/1000;//meter\n",
"L2=1000;//meter\n",
"D2=200/1000;//meter\n",
"L3=500;//meter\n",
"D3=150/1000;//meter\n",
"f=0.02;//coeff. of friction\n",
"fall_level=(L1+L2+L3)*slope;//meter\n",
"H=hA+fall_level-hB;//meter(Head available for flow)\n",
"v2BYv1=(D1/D2)^2;\n",
"v3BYv1=(D1/D3)^2;\n",
"//H=hf=hf1+hf2+hf3\n",
"//H=(4*f*L1*v1^2/(2*g*D1)+4*f*L2*v2^2/(2*g*D2)+4*f*L3*v3^2/(2*g*D3))\n",
"v1=sqrt(H/(4*f*L1/(2*g*D1)+4*f*L2*v2BYv1^2/(2*g*D2)+4*f*L3*v3BYv1^2/(2*g*D3)));//m/s\n",
"Q=%pi*D1^2/4*v1;//m^3/sec\n",
"Q=Q*1000;//litres/sec\n",
"disp(Q,'Discharge in pipe line in litres/sec : ');"
   ]
   }
,
{
		   "cell_type": "markdown",
		   "metadata": {},
		   "source": [
			"## Example 7.15_a: Difference_in_water_level.sce"
		   ]
		  },
  {
"cell_type": "code",
	   "execution_count": null,
	   "metadata": {
	    "collapsed": true
	   },
	   "outputs": [],
"source": [
"////Example 7.15 at page no. 252\n",
"clc;\n",
"clear;\n",
"close;\n",
"format('v',6);\n",
"//Given data :\n",
"g=9.81;//gravity constant\n",
"D=30/100;//meter\n",
"l=400;//meter\n",
"Q=300;//litres/sec\n",
"f=0.008;//coeff. of friction\n",
"Q=Q*10^-3;//m^3/sec\n",
"A=%pi*D^2/4;//m^2\n",
"v=Q/A;//m/s(velocity of flow)\n",
"h1=0.5*v^2/2/g;//meter(Head loss at entrance to a pipe)\n",
"h2=4*f*l*v^2/(2*g*D);//meter(Head loss due to friction)\n",
"h3=v^2/2/g;//meter(Head loss at entrance of reservoir)\n",
"H=h1+h2+h3;//meter(Difference of water level)\n",
"disp(H,'Difference of water level between two reservoir(meter)');\n",
"//Answer in the book is not accurate as h2 is calculated wrong."
   ]
   }
,
{
		   "cell_type": "markdown",
		   "metadata": {},
		   "source": [
			"## Example 7.15: Rate_of_flow_and_diameter.sce"
		   ]
		  },
  {
"cell_type": "code",
	   "execution_count": null,
	   "metadata": {
	    "collapsed": true
	   },
	   "outputs": [],
"source": [
"////Example 7.15\n",
"clc;\n",
"clear;\n",
"close;\n",
"format('v',6);\n",
"//Given data :\n",
"g=9.81;//gravity constant\n",
"D1=50/1000;//meter\n",
"D2=100/1000;//meter\n",
"l1=100;l2=100;//meter\n",
"hf1=10;//meter(level difference)\n",
"f=0.008;//coeff. of friction\n",
"Q2BYQ1=sqrt((l1/l2)*(D2/D1)^5);//as hf1=hf2\n",
"Q1=sqrt(hf1/f/l1*(3.0257*D1^5));//m^3/sec\n",
"Q2=Q2BYQ1*Q1;//m^3/sec or cumec\n",
"disp(Q1,'Rate of flow of pipe 1(m^3/sec)');\n",
"disp(Q2,'Rate of flow of pipe 2(m^3/sec)');\n",
"Q=Q1+Q2;//m^3/sec(Total Discharge)\n",
"d=(f*l1*Q^2/3.0257/hf1)^(1/5);//meter\n",
"disp(d*1000,'Diameter of single pipe(mm) : ');\n",
"//Answer in the book is not accurate."
   ]
   }
,
{
		   "cell_type": "markdown",
		   "metadata": {},
		   "source": [
			"## Example 7.16: Discharge_through_pipe.sce"
		   ]
		  },
  {
"cell_type": "code",
	   "execution_count": null,
	   "metadata": {
	    "collapsed": true
	   },
	   "outputs": [],
"source": [
"////Example 7.16\n",
"clc;\n",
"clear;\n",
"close;\n",
"format('v',6);\n",
"//Given data :\n",
"g=9.81;//gravity constant\n",
"D=150/1000;//meter\n",
"l=70;//meter\n",
"H=2.6;//meter(head of water)\n",
"f=0.01;//coeff. of friction\n",
"//Applyong Bernoullis theorem\n",
"v=sqrt(H*(2/g*(1+0.5+4*f*l/D))/4);//m/s\n",
"Q=%pi*D^2/4*v;//m^3/sec\n",
"Q=Q*1000;//litres/sec\n",
"disp(Q,'Discharge through the pipe(litres/sec)');"
   ]
   }
,
{
		   "cell_type": "markdown",
		   "metadata": {},
		   "source": [
			"## Example 7.17: Velocity_discharge_rate_and_energy.sce"
		   ]
		  },
  {
"cell_type": "code",
	   "execution_count": null,
	   "metadata": {
	    "collapsed": true
	   },
	   "outputs": [],
"source": [
"////Example 7.17\n",
"clc;\n",
"clear;\n",
"close;\n",
"format('v',9);\n",
"//Given data :\n",
"g=9.81;//gravity constant\n",
"Cv=0.97;//coeffiecient of velocity\n",
"Cc=0.95;//coeffiecient\n",
"Dn=50/1000;//meter(Nozzle diameter)\n",
"D=100/1000;//meter(Pipe diameter)\n",
"p=6.867;//N/cm^2(Pressure at the base of nozzle)\n",
"Hb=p*10^4/(g*1000)//meter(Head at the base of nozzle)\n",
"v=Cv*sqrt(2*g*Hb);//m/s(velocty of jet)\n",
"disp(v,'Velocity in the jet(m/s)');\n",
"A=%pi/4*Dn^2;//m^2(Cross sction of jet)\n",
"Q=Cc*A*v;//m^3/sec(Discharge)\n",
"Q=Q*1000;//litres/sec\n",
"disp(Q,'Rate of discharge(litres/second)');\n",
"E=g*1000*Q/1000*Hb/1000;//kW(Energy transmitted)\n",
"disp(E,'Energy per second n the jet(kW)');\n",
"//Answer in the book is not accurate."
   ]
   }
,
{
		   "cell_type": "markdown",
		   "metadata": {},
		   "source": [
			"## Example 7.18: Discharge_in_pipe_and_pressure.sce"
		   ]
		  },
  {
"cell_type": "code",
	   "execution_count": null,
	   "metadata": {
	    "collapsed": true
	   },
	   "outputs": [],
"source": [
"////Example 7.18\n",
"clc;\n",
"clear;\n",
"close;\n",
"format('v',9);\n",
"//Given data :\n",
"g=9.81;//gravity constant\n",
"D=100/1000;//meter(Pipe diameter)\n",
"L=700;//meter(Total length)\n",
"Lin=300;//meter(inlet length)\n",
"hf=10;//meter(Available head)\n",
"h=1.4;//meter(height)\n",
"f=0.02;//coefficient of friction\n",
"v=sqrt(hf*2*g*D/4/f/L);//m/s\n",
"Q=%pi*D^2/4*v*1000;//litres/sec\n",
"disp(Q,'Discharge in pipe(litres/second)');\n",
"//Applying Brnaullis theorem\n",
"p1=0;v1=0;Z1=0;//(Neglecting minor losses)\n",
"v2=v;//m/s\n",
"Z2=h;//meter\n",
"hf=4*f*Lin*v^2/(2*g*D);//meter\n",
"p2BYw=-v2^2/2/g-Z2-hf;//meter of water\n",
"hatm=10.3;//meter(Atmospheric pressure head)\n",
"habs=p2BYw+hatm;//meter(Absolute pressure head)\n",
"disp(habs,'Pressure at the summit of siphon(meter)');"
   ]
   }
,
{
		   "cell_type": "markdown",
		   "metadata": {},
		   "source": [
			"## Example 7.19_a: Maximum_Power.sce"
		   ]
		  },
  {
"cell_type": "code",
	   "execution_count": null,
	   "metadata": {
	    "collapsed": true
	   },
	   "outputs": [],
"source": [
"////Example 7.19 at page no. 265\n",
"clc;\n",
"clear;\n",
"close;\n",
"format('v',9);\n",
"//Given data :\n",
"g=9.81;//gravity constant\n",
"l=10000;//meter(length of pipe line)\n",
"D=0.2;//meter(Diameter of pipe)\n",
"p=60*10^5;//N/m^2\n",
"f=0.007;//coefficient of friction\n",
"w=g*1000;//N/m^3\n",
"H=p/w;//meter\n",
"hf=H/3;//meter(friction head loss is 1/3rd)\n",
"v=sqrt(hf*2*g*D/4/f/l);//m/s\n",
"P=w*%pi*D^2/4*v*(H-hf)/1000;//kW\n",
"disp(P,'Maximum power(kW)');"
   ]
   }
,
{
		   "cell_type": "markdown",
		   "metadata": {},
		   "source": [
			"## Example 7.19: Increase_in_pressure_Intensity.sce"
		   ]
		  },
  {
"cell_type": "code",
	   "execution_count": null,
	   "metadata": {
	    "collapsed": true
	   },
	   "outputs": [],
"source": [
"////Example 7.19\n",
"clc;\n",
"clear;\n",
"close;\n",
"format('v',9);\n",
"//Given data :\n",
"g=9.81;//gravity constant\n",
"D=150/1000;//meter(Pipe diameter)\n",
"Q=40;//litres/sec(rate of discharge)\n",
"l=500;//meter(valve distance)\n",
"T=0.5;//second\n",
"v=Q/1000/(%pi/4*D^2);//m/s(velocity of flow)\n",
"pi=1000/g*(l*v/T);//kg/m^2\n",
"disp(pi,'Increase in pressure intensity(kg/m^2)');"
   ]
   }
,
{
		   "cell_type": "markdown",
		   "metadata": {},
		   "source": [
			"## Example 7.1: Relation_between_CGS_and_MKS_unit.sce"
		   ]
		  },
  {
"cell_type": "code",
	   "execution_count": null,
	   "metadata": {
	    "collapsed": true
	   },
	   "outputs": [],
"source": [
"//Example 7.1\n",
"clc;\n",
"clear;\n",
"close;\n",
"format('v',9);\n",
"disp('Part(i)');\n",
"disp('Absolute unit of viscosity(in C.G.S) is Poise.');\n",
"disp('Poise=1 dyne-sec/cm^2');\n",
"disp('Gravitational unit of viscosity is 1 gm-sec/cm^2.');\n",
"disp('On equating we get, 1 gm = 981 dyne');\n",
"//Let x=1kg-sec/m^2\n",
"x=1*10^3/10^4;//g-sec/cm^2\n",
"x=x*981;//dyne-sec/cm^2 or Poise(Putting 1gm=981 dyne)\n",
"disp('1 kg-sec/m^2 = '+string(x)+' Poise');\n",
"one_Poise=1/x;//kg-sec/m^2\n",
"one_Poise=1/x*9.81;//N-sec/m^2 or Pa-sec(as 1Pa=1N/m^2)\n",
"disp('1 Poise = '+string(one_Poise)+' N-sec/m^2 or Pa-sec');\n",
"disp('Part(ii)');\n",
"disp('Kinematic viscosity = viscosity/specific_gravity');\n",
"disp('Kinematic viscosity C.G.S unit is cm^2/sec. 1cm^2/sec=1stoke');\n",
"disp('Kinematic viscosity M.K.S unit is m^2/sec');\n",
"//let x=1;//m^2/sec\n",
"x=1;//m^2/sec\n",
"x=x*10^4;//cm^2/sec or stokes\n",
"disp('1 m^2/sec = '+string(x)+' cm^2/sec or stoke');\n",
"one_stoke=1/x;//m^2/sec\n",
"disp('1 stoke = '+string(one_stoke)+' m^2/sec');\n",
"disp('1 stoke = 100 centi-stokes');"
   ]
   }
,
{
		   "cell_type": "markdown",
		   "metadata": {},
		   "source": [
			"## Example 7.2: Kinematic_viscosity_and_Reynolds_number.sce"
		   ]
		  },
  {
"cell_type": "code",
	   "execution_count": null,
	   "metadata": {
	    "collapsed": true
	   },
	   "outputs": [],
"source": [
"//Example 7.2\n",
"clc;\n",
"clear;\n",
"close;\n",
"format('v',7);\n",
"//Given data :\n",
"mu=0.009;//kg-sec/m^2\n",
"rho=0.89;//sp. gravity\n",
"Q=4*10^-3;//m^3/sec\n",
"d=30/1000;//meter\n",
"v=mu/rho;//m^2/s\n",
"disp(v,'Kinematic viscosity in m^2/sec : ');\n",
"A=%pi*d^2/4;//m^2\n",
"vm=Q/A;//m/s\n",
"Rn=vm*d/v;//Reynolds no.\n",
"disp(Rn,'Reynolds number for flow  : ');\n",
"disp('This is laminar flow because Rn no. is less than 2000.');"
   ]
   }
,
{
		   "cell_type": "markdown",
		   "metadata": {},
		   "source": [
			"## Example 7.3: Calculate_reynolds_number.sce"
		   ]
		  },
  {
"cell_type": "code",
	   "execution_count": null,
	   "metadata": {
	    "collapsed": true
	   },
	   "outputs": [],
"source": [
"//Example 7.3\n",
"clc;\n",
"clear;\n",
"close;\n",
"format('v',7);\n",
"//Given data :\n",
"d=200/1000;//meter\n",
"Q=40*10^-3;//m^3/sec\n",
"A=%pi*d^2/4;//m^2\n",
"vm=Q/A;//m/s\n",
"v=0.25*10^-4;//m^2/s\n",
"Rn=vm*d/v;//Reynolds no.\n",
"disp(Rn,'Reynolds number for flow  : ');\n",
"disp('This is turbulent flow because Rn no. is greater than 4000.');\n",
"disp(Rn/8,'New Reynolds number for flow  : ');\n",
"disp('This is laminar flow because Rn no. is less than 2000.');"
   ]
   }
,
{
		   "cell_type": "markdown",
		   "metadata": {},
		   "source": [
			"## Example 7.4: Head_Lost_due_to_frictio.sce"
		   ]
		  },
  {
"cell_type": "code",
	   "execution_count": null,
	   "metadata": {
	    "collapsed": true
	   },
	   "outputs": [],
"source": [
"//Example 7.4\n",
"clc;\n",
"clear;\n",
"close;\n",
"format('v',7);\n",
"//Given data :\n",
"D=30/100;//meter\n",
"L=100;//meter\n",
"v=0.01*10^-4;//m^2/s\n",
"a=3;//m/s\n",
"g=9.81;//gravity constanty\n",
"Rn=a*D/v;//Reynolds no.\n",
"f=0.079/Rn^(1/4);//using blasius formula \n",
"hf=4*f*L/D*a^2/2/g;//meter\n",
"disp(hf,'Head lost in meter : ');\n",
"//Answer in the book is wrong."
   ]
   }
,
{
		   "cell_type": "markdown",
		   "metadata": {},
		   "source": [
			"## Example 7.5: Difference_in_elevations.sce"
		   ]
		  },
  {
"cell_type": "code",
	   "execution_count": null,
	   "metadata": {
	    "collapsed": true
	   },
	   "outputs": [],
"source": [
"////Example 7.5\n",
"clc;\n",
"clear;\n",
"close;\n",
"format('v',6);\n",
"//Given data :\n",
"D=30/100;//meter\n",
"L=500;//meter\n",
"Q=300*10^-3;//m^2/sec\n",
"f=0.0008;//coeff. of friction\n",
"v=Q/(%pi/4*D^2);//m/s\n",
"g=9.81;//gravity constanty\n",
"hf=4*f*L*v^2/D/2/g;//meter\n",
"disp(hf,'Difference in elevation in meter : ');\n",
"//Answer in the book is wrong."
   ]
   }
,
{
		   "cell_type": "markdown",
		   "metadata": {},
		   "source": [
			"## Example 7.6: Head_Lost_due_to_frictio.sce"
		   ]
		  },
  {
"cell_type": "code",
	   "execution_count": null,
	   "metadata": {
	    "collapsed": true
	   },
	   "outputs": [],
"source": [
"////Example 7.6\n",
"clc;\n",
"clear;\n",
"close;\n",
"format('v',6);\n",
"//Given data :\n",
"D=20/100;//meter\n",
"v=3;//m/s\n",
"v1=0.01*10^-3;//m^2/sec\n",
"Re=D*v/v1;//Reynolds number\n",
"f=0.002+0.09/Re^0.3;//coeff. of friction\n",
"L=5;//meter\n",
"g=9.81;//gravity constanty\n",
"hf=4*f*L*v^2/D/2/g;//meter\n",
"disp(hf,'Head lost due to friction in meter : ');"
   ]
   }
,
{
		   "cell_type": "markdown",
		   "metadata": {},
		   "source": [
			"## Example 7.7: Loss_of_head_due_to_frictio.sce"
		   ]
		  },
  {
"cell_type": "code",
	   "execution_count": null,
	   "metadata": {
	    "collapsed": true
	   },
	   "outputs": [],
"source": [
"////Example 7.7\n",
"clc;\n",
"clear;\n",
"close;\n",
"format('v',6);\n",
"//Given data :\n",
"D=80/1000;//meter\n",
"Q=600*10^-3/60;//m^3/sec\n",
"L=1*10^3;//meter\n",
"f=0.02;//coefficient of friction\n",
"v=Q/(%pi/4*D^2);//m/s\n",
"g=9.81;//gravity constanty\n",
"hf=4*f*L*v^2/D/2/g;//meter\n",
"disp(hf,'Head lost due to friction in meter : ');\n",
"//Answer is wrong in the book."
   ]
   }
,
{
		   "cell_type": "markdown",
		   "metadata": {},
		   "source": [
			"## Example 7.8: Various_losses.sce"
		   ]
		  },
  {
"cell_type": "code",
	   "execution_count": null,
	   "metadata": {
	    "collapsed": true
	   },
	   "outputs": [],
"source": [
"////Example 7.8\n",
"clc;\n",
"clear;\n",
"close;\n",
"format('v',6);\n",
"//Given data :\n",
"g=9.81;//gravity constanty\n",
"f=0.02;//coefficient of friction\n",
"Cc=0.62;//coefficient of contraction\n",
"//Portion AB\n",
"Q1=50*10^-3;//m^3/sec\n",
"D1=150/1000;//meter\n",
"v1=Q1/(%pi/4*D1^2);//m/s\n",
"hr=0.5*v1^2/2/g;//meter\n",
"L1=200;//meter\n",
"hf1=4*f*L1*v1^2/2/g/D1;//meter\n",
"D2=200/1000;//meter\n",
"v2=Q1/(%pi/4*D2^2);//m/s\n",
"hc1=(v1-v2)^2/2/g;//meter\n",
"L2=500;//meter\n",
"hf2=4*f*L2*v2^2/2/g/D2;//meter\n",
"d=75/1000;//meter\n",
"ho=[(%pi/4*D2^2)/Cc/((%pi/4*D2^2)-(%pi/4*d^2))-1]^2*v2^2/2/g;//meter\n",
"D3=120/1000;//meter\n",
"v3=Q1/(%pi/4*D3^2);//m/s\n",
"hc2=v3^2/2/g*(1/Cc-1)^2;//meter\n",
"L3=500;//meter\n",
"hf3=4*f*L3*v3^2/2/g/D3;//meter\n",
"Kb=0.25;//assumed\n",
"hb1=Kb*v3^2/2/g;//meter\n",
"D4=120/1000;//meter\n",
"v4=Q1/(%pi/4*D4^2);//m/s\n",
"L4=500;//meter\n",
"hf4=4*f*L4*v4^2/2/g/D4;//meter\n",
"hb2=Kb*v3^2/2/g;//meter\n",
"L5=500;//meter\n",
"hf5=4*f*L5*v4^2/2/g/D4;//meter\n",
"h_outlet=v3^2/2/g;//meter\n",
"h_total=hr+hf1+hc1+hf2+ho+hc2+hf3+hb1+hf4+hb2+hf5+h_outlet;//meter\n",
"disp(h_total,'Total loss of head in meter : ');"
   ]
   }
,
{
		   "cell_type": "markdown",
		   "metadata": {},
		   "source": [
			"## Example 7.9: Intensity_of_pressure.sce"
		   ]
		  },
  {
"cell_type": "code",
	   "execution_count": null,
	   "metadata": {
	    "collapsed": true
	   },
	   "outputs": [],
"source": [
"////Example 7.9\n",
"clc;\n",
"clear;\n",
"close;\n",
"format('v',7);\n",
"//Given data :\n",
"g=9.81;//gravity constanty\n",
"Cc=0.62;//coefficient of contraction\n",
"D1=150/1000;//meter\n",
"D2=100/1000;//meter\n",
"Q=2.7/60;//m^3/sec\n",
"p1=0.8*10^4;//kg/m^2\n",
"v1=Q/(%pi/4*D1^2);//m/s\n",
"v2=Q/(%pi/4*D2^2);//m/s\n",
"hc=v2^2/2/g*(1/Cc-1)^2;//meter\n",
"w=1000;//kg/m^3\n",
"p2=(v1^2/2/g+p1/w-v2^2/2/g-hc)*w;//kg/m^2(Z1=Z2)\n",
"p2=p2*10^-4;//kg/cm^2\n",
"disp(p2,'Intensity of pressure in kg/cm^2 : ');"
   ]
   }
],
"metadata": {
		  "kernelspec": {
		   "display_name": "Scilab",
		   "language": "scilab",
		   "name": "scilab"
		  },
		  "language_info": {
		   "file_extension": ".sce",
		   "help_links": [
			{
			 "text": "MetaKernel Magics",
			 "url": "https://github.com/calysto/metakernel/blob/master/metakernel/magics/README.md"
			}
		   ],
		   "mimetype": "text/x-octave",
		   "name": "scilab",
		   "version": "0.7.1"
		  }
		 },
		 "nbformat": 4,
		 "nbformat_minor": 0
}
