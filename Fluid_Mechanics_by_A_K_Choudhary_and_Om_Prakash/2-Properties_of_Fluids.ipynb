{
"cells": [
 {
		   "cell_type": "markdown",
	   "metadata": {},
	   "source": [
       "# Chapter 2: Properties of Fluids"
	   ]
	},
{
		   "cell_type": "markdown",
		   "metadata": {},
		   "source": [
			"## Example 2.1: Sp_Weight_Mass_density_Sp_Gravity.sce"
		   ]
		  },
  {
"cell_type": "code",
	   "execution_count": null,
	   "metadata": {
	    "collapsed": true
	   },
	   "outputs": [],
"source": [
"//Example 2.1\n",
"clc;\n",
"clear;\n",
"close;\n",
"\n",
"//Given data :\n",
"V=10;//in m^3\n",
"W=80;//in kN\n",
"g=9.81;//gravity accelerat\n",
"w_water=9.81;//specific weight of water\n",
"format('v',6);\n",
"w=W/V;//specific weight in kN/m^3\n",
"disp(w,'Specific weight of liquid in kN/m^3 : ');\n",
"mass_density=w*1000/g;//kg/m^3\n",
"disp(mass_density,'Mass density of liquid in kg/m^3 : ');\n",
"specific_gravity=w/w_water;//unitless\n",
"disp(specific_gravity,'Specific gravity : ');"
   ]
   }
,
{
		   "cell_type": "markdown",
		   "metadata": {},
		   "source": [
			"## Example 2.2: Bulk_modulus_of_elesticity.sce"
		   ]
		  },
  {
"cell_type": "code",
	   "execution_count": null,
	   "metadata": {
	    "collapsed": true
	   },
	   "outputs": [],
"source": [
"//Example 2.2\n",
"clc;\n",
"clear;\n",
"close;\n",
"\n",
"//Given data :\n",
"p1=750;//N/cm^2\n",
"p2=1400;//N/cm^2\n",
"dvBYV=-0.150;//in %\n",
"format('v',9);\n",
"dp=p2-p1;//in N/cm^2\n",
"dp=dp*10^4;//in N/m^2\n",
"K=-dp/(dvBYV/100);//N/m^2\n",
"disp(K,'Bulk modulus(N/m^2) : ');"
   ]
   }
,
{
		   "cell_type": "markdown",
		   "metadata": {},
		   "source": [
			"## Example 2.3: Increase_of_pressure.sce"
		   ]
		  },
  {
"cell_type": "code",
	   "execution_count": null,
	   "metadata": {
	    "collapsed": true
	   },
	   "outputs": [],
"source": [
"//Example 2.3\n",
"clc;\n",
"clear;\n",
"close;\n",
"\n",
"//Given data :\n",
"Kwater=2.10*10^6;//kN/m^2\n",
"Kair=140;//kN/m^2\n",
"dvBYV=-1;//in %\n",
"format('v',9);\n",
"//For Water : \n",
"dp=-Kwater*dvBYV/100;//kN/m^2\n",
"disp(dp,'Increase of pressure in water in kN/m^2');\n",
"//For Air : \n",
"dp=-Kair*dvBYV/100;//kN/m^2\n",
"disp(dp,'Increase of pressure in air in kN/m^2');"
   ]
   }
,
{
		   "cell_type": "markdown",
		   "metadata": {},
		   "source": [
			"## Example 2.4: Force_and_power_required.sce"
		   ]
		  },
  {
"cell_type": "code",
	   "execution_count": null,
	   "metadata": {
	    "collapsed": true
	   },
	   "outputs": [],
"source": [
"//Example 2.4\n",
"clc;\n",
"clear;\n",
"close;\n",
"\n",
"//Given data :\n",
"A=0.2;//m^2\n",
"dy=0.02/100;//m\n",
"du=20/100;//cm/s\n",
"mu=0.001;//Ns/m^2\n",
"tau=mu*du/dy;//in N/m^2\n",
"F=tau*A;//N\n",
"disp(F,'Force required in N : ');\n",
"Power=F*du;//Watts\n",
"disp(Power,'Power required in W : ');"
   ]
   }
,
{
		   "cell_type": "markdown",
		   "metadata": {},
		   "source": [
			"## Example 2.5: Kinematic_Viscosity.sce"
		   ]
		  },
  {
"cell_type": "code",
	   "execution_count": null,
	   "metadata": {
	    "collapsed": true
	   },
	   "outputs": [],
"source": [
"//Example 2.5\n",
"clc;\n",
"clear;\n",
"close;\n",
"//Given data :\n",
"format('e',10);\n",
"mu=0.1;//Ns/m^2\n",
"Sp_gravity_liquid=2.1;\n",
"mass_density_water=1000;//in kg/m^3\n",
"rho=Sp_gravity_liquid*mass_density_water;//kg/m^3\n",
"v=mu/rho;//m^2/sec\n",
"disp(v,'Kinematic viscosity of liquid in m^2/sec : ');"
   ]
   }
,
{
		   "cell_type": "markdown",
		   "metadata": {},
		   "source": [
			"## Example 2.6: Calculate_capillary_rise.sce"
		   ]
		  },
  {
"cell_type": "code",
	   "execution_count": null,
	   "metadata": {
	    "collapsed": true
	   },
	   "outputs": [],
"source": [
"//Example 2.6\n",
"clc;\n",
"clear;\n",
"close;\n",
"//Given data :\n",
"format('v',6);\n",
"d=2;//in mm\n",
"d=d/1000;//in m\n",
"sigma_water=0.073;//N/m\n",
"sigma_mercury=0.510;//N/m\n",
"//Water-glass contact\n",
"w1=9.81;//kN/m^3(specific weight of water)\n",
"w1=w1*10^3;//N/m^3\n",
"theta=0;//in degree\n",
"h=4*sigma_water*cosd(theta)/w1/d;//in mm\n",
"disp(h*1000,'capillary rise for water glass contact in mm : ');\n",
"//Mercury-glass contact\n",
"w2=13.6*9.81;//kN/m^3(specific weight of mercury)\n",
"w2=w2*10^3;//N/m^3\n",
"theta=130;//in degree\n",
"h=4*sigma_mercury*cosd(theta)/w2/d;//in mm\n",
"disp(h*1000,'capillary rise for mercury glass contact in mm: ');"
   ]
   }
,
{
		   "cell_type": "markdown",
		   "metadata": {},
		   "source": [
			"## Example 2.7: Intensity_of_Pressure.sce"
		   ]
		  },
  {
"cell_type": "code",
	   "execution_count": null,
	   "metadata": {
	    "collapsed": true
	   },
	   "outputs": [],
"source": [
"//Example 2.7\n",
"clc;\n",
"clear;\n",
"close;\n",
"\n",
"//Given data :\n",
"format('v',5);\n",
"d=6;//in mm\n",
"d=d/1000;//in m\n",
"sigma=0.0755;//N/m\n",
"//At equillibrium : p*%pi*r^2=sigma*2*%pi*r\n",
"r=d/2;//in m\n",
"p=2*sigma/r;//N/m^2\n",
"disp(p,'Intensity of pressure in N/m^2 or Pascals : ');"
   ]
   }
],
"metadata": {
		  "kernelspec": {
		   "display_name": "Scilab",
		   "language": "scilab",
		   "name": "scilab"
		  },
		  "language_info": {
		   "file_extension": ".sce",
		   "help_links": [
			{
			 "text": "MetaKernel Magics",
			 "url": "https://github.com/calysto/metakernel/blob/master/metakernel/magics/README.md"
			}
		   ],
		   "mimetype": "text/x-octave",
		   "name": "scilab",
		   "version": "0.7.1"
		  }
		 },
		 "nbformat": 4,
		 "nbformat_minor": 0
}
