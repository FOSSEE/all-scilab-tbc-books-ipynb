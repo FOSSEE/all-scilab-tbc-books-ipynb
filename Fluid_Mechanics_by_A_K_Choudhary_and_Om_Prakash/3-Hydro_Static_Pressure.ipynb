{
"cells": [
 {
		   "cell_type": "markdown",
	   "metadata": {},
	   "source": [
       "# Chapter 3: Hydro Static Pressure"
	   ]
	},
{
		   "cell_type": "markdown",
		   "metadata": {},
		   "source": [
			"## Example 3.10: Total_pressure_and_centre_of_pressure.sce"
		   ]
		  },
  {
"cell_type": "code",
	   "execution_count": null,
	   "metadata": {
	    "collapsed": true
	   },
	   "outputs": [],
"source": [
"//Example 3.10\n",
"clc;\n",
"clear;\n",
"close;\n",
"format('v',9);\n",
"//Given data :\n",
"g=9.81;//gravity\n",
"xbar=8;//meter\n",
"D=4;//meter\n",
"A=%pi*D^2/4;//meter^2\n",
"w=g*1000;//in N/m^3\n",
"p=w*A*xbar/10^3;//in kN\n",
"disp(p,'Total pressure in kN : ');\n",
"IG=%pi*D^4/64;//in m^4\n",
"h_bar=IG/A/xbar+xbar;//in meter\n",
"disp('Depth of centre of pressure is '+string(h_bar)+' meter.');\n",
"//Answer of total pressure is wrong in the book."
   ]
   }
,
{
		   "cell_type": "markdown",
		   "metadata": {},
		   "source": [
			"## Example 3.11: Total_pressure_and_centre_of_pressure.sce"
		   ]
		  },
  {
"cell_type": "code",
	   "execution_count": null,
	   "metadata": {
	    "collapsed": true
	   },
	   "outputs": [],
"source": [
"//Example 3.11\n",
"clc;\n",
"clear;\n",
"close;\n",
"format('v',6);\n",
"//Given data :\n",
"g=9.81;//gravity\n",
"D=4;//meter\n",
"xbar=(10+7)/2;//meter\n",
"A=%pi*D^2/4;//meter^2\n",
"w=g*1000;//in N/m^3\n",
"p=w*A*xbar/10^6;//in MN\n",
"disp(p,'Total pressure in MN : ');\n",
"BC=3;//meter\n",
"AB=4;//mete\n",
"sin_theta=BC/AB;\n",
"IG=%pi*D^4/64;//in m^4\n",
"h_bar=IG/A/xbar*sin_theta^2+xbar;//in meter\n",
"disp('Position of centre of pressure is '+string(h_bar)+' meter.');"
   ]
   }
,
{
		   "cell_type": "markdown",
		   "metadata": {},
		   "source": [
			"## Example 3.12: Determine_total_pressure.sce"
		   ]
		  },
  {
"cell_type": "code",
	   "execution_count": null,
	   "metadata": {
	    "collapsed": true
	   },
	   "outputs": [],
"source": [
"//Example 3.12\n",
"clc;\n",
"clear;\n",
"close;\n",
"format('v',6);\n",
"//Given data :\n",
"a=3;//meter\n",
"b=4;//meter(altitude)\n",
"S=1.2;//specific gravity\n",
"theta=30;//degree\n",
"d=2.5;//meter\n",
"g=9.81;//gravity\n",
"AG=b/3;//meter\n",
"xbar=d+AG*sind(theta);//meter\n",
"A=1/2*a*b;//meter^2\n",
"w=S*g*1000;//in N/m^3\n",
"p=w*A*xbar/10^3;//in kN\n",
"disp(p,'Total pressure in kN : ');\n",
"IG=a*b^3/36;//in m^4\n",
"h_bar=IG/A/xbar*(sind(theta))^2+xbar;//in meter\n",
"disp('Depth of centre of pressure is '+string(h_bar)+' meter.');"
   ]
   }
,
{
		   "cell_type": "markdown",
		   "metadata": {},
		   "source": [
			"## Example 3.13: Total_pressure_and_centre_of_pressure.sce"
		   ]
		  },
  {
"cell_type": "code",
	   "execution_count": null,
	   "metadata": {
	    "collapsed": true
	   },
	   "outputs": [],
"source": [
"//Example 3.13\n",
"clc;\n",
"clear;\n",
"close;\n",
"format('v',6);\n",
"//Given data :\n",
"a=8;//meter\n",
"b=6;//meter\n",
"h=3;//meter\n",
"CD=2;//meter\n",
"theta=30;//degree\n",
"A=(a+b)/2*h;//meter^2\n",
"AB=(a+2*b)/(a+b)*h/3;//meter\n",
"x1bar=AB;//meter\n",
"BC=AB*sind(theta);//meter\n",
"BD=BC+CD;//meter\n",
"xbar=BD;//meter\n",
"g=9.81;//gravity\n",
"w=g*1000;//in N/m^3\n",
"p=w*A*xbar/10^3;//in kN\n",
"disp(p,'Total pressure in kN : ');\n",
"IG=(a^2+b^2+4*a*b)/(a+b)*h^3/36;//in m^4\n",
"h_bar=IG/A/xbar*(sind(theta))^2+xbar;//in meter\n",
"disp('Depth of centre of pressure is '+string(h_bar)+' meter.');"
   ]
   }
,
{
		   "cell_type": "markdown",
		   "metadata": {},
		   "source": [
			"## Example 3.14: Force_and_reaction_at_hinge.sce"
		   ]
		  },
  {
"cell_type": "code",
	   "execution_count": null,
	   "metadata": {
	    "collapsed": true
	   },
	   "outputs": [],
"source": [
"//Example 3.14\n",
"clc;\n",
"clear;\n",
"close;\n",
"format('v',7);\n",
"//Given data :\n",
"l=2;//meter\n",
"b=2;//meter\n",
"p_i=98.1;//kN/m^3(Pressure intensity)\n",
"w=9.81;//kN/m^2\n",
"BC=1;//meter\n",
"AB=2;//meter\n",
"theta=30;//degree\n",
"B=p_i/w;//m\n",
"BD=BC*sind(theta);//m\n",
"xbar=10+0.5;//meter\n",
"A=l*b;//m^2\n",
"p=w*A*xbar;//kN\n",
"IG=(2*l^3)/12;//in m^4\n",
"h_bar=IG/A/xbar*(sind(theta))^2+xbar;//in meter\n",
"DI=h_bar-xbar;//m\n",
"FC=DI/sind(theta);//m\n",
"FB=FC+BC;//meter\n",
"P=p*FB/AB;//kN\n",
"disp(P,'Force in kN : ');\n",
"RB=p-P;//kN\n",
"disp(RB,'Reaction at hinge B in kN : ');\n",
"//Answer in the book is slightly differ due to limited accuracy used in the book as compared to SCILAB."
   ]
   }
,
{
		   "cell_type": "markdown",
		   "metadata": {},
		   "source": [
			"## Example 3.15: Horizontal_force.sce"
		   ]
		  },
  {
"cell_type": "code",
	   "execution_count": null,
	   "metadata": {
	    "collapsed": true
	   },
	   "outputs": [],
"source": [
"//Example 3.15\n",
"clc;\n",
"clear;\n",
"close;\n",
"format('v',7);\n",
"//Given data :\n",
"l=4;//meter\n",
"b=2;//meter\n",
"h=1.8;//meter\n",
"w=9.81;//kN/m^2\n",
"xbar=6-2//meter\n",
"A=l*b;//m^2\n",
"P=w*A*xbar;//kN\n",
"IG=(2*l^3)/12;//in m^4\n",
"h_bar=IG/A/xbar+xbar;//in meter\n",
"// As P acts at h_bar-xbar : \n",
"F=P*((h_bar-xbar)-(b-h))/h;//kN\n",
"disp(F,'Horizontal Force in kN : ');"
   ]
   }
,
{
		   "cell_type": "markdown",
		   "metadata": {},
		   "source": [
			"## Example 3.16: Total_pressure_and_centre_of_pfressure.sce"
		   ]
		  },
  {
"cell_type": "code",
	   "execution_count": null,
	   "metadata": {
	    "collapsed": true
	   },
	   "outputs": [],
"source": [
"//Example 3.16\n",
"clc;\n",
"clear;\n",
"close;\n",
"format('v',7);\n",
"//Given data :\n",
"b=2;//meter\n",
"d=3;//meter\n",
"h=2;//meter\n",
"w=9.81;//kN/m^2\n",
"xbar=2+3/2;//meter\n",
"A=b*d;//m^2\n",
"P=w*A*xbar;//kN\n",
"disp(P,'Total Pressure in kN : ');\n",
"IG=(b*d^3)/12;//in m^4\n",
"h_bar=IG/A/xbar+xbar;//in meter\n",
"disp(h_bar,'Position of centre of pressure in meter : ');"
   ]
   }
,
{
		   "cell_type": "markdown",
		   "metadata": {},
		   "source": [
			"## Example 3.17: Total_pressure_and_centre_of_pressure.sce"
		   ]
		  },
  {
"cell_type": "code",
	   "execution_count": null,
	   "metadata": {
	    "collapsed": true
	   },
	   "outputs": [],
"source": [
"//Example 3.17\n",
"clc;\n",
"clear;\n",
"close;\n",
"format('v',7);\n",
"//Given data :\n",
"b=4;//meter\n",
"d=4;//meter\n",
"h=8;//meter\n",
"w=9.81;//kN/m^2\n",
"xbar=8;//meter\n",
"A=b*d;//m^2\n",
"P=w*A*xbar;//kN\n",
"disp(P,'Total Pressure in kN : ');\n",
"IG=(b*d^3)/12;//in m^4\n",
"h_bar=IG/A/xbar+xbar;//in meter\n",
"disp(h_bar,'Position of centre of pressure in meter : ');"
   ]
   }
,
{
		   "cell_type": "markdown",
		   "metadata": {},
		   "source": [
			"## Example 3.18: Total_Pressure_and_centre_of_pressure.sce"
		   ]
		  },
  {
"cell_type": "code",
	   "execution_count": null,
	   "metadata": {
	    "collapsed": true
	   },
	   "outputs": [],
"source": [
"//Example 3.18\n",
"clc;\n",
"clear;\n",
"close;\n",
"format('v',7);\n",
"//Given data :\n",
"D=1.5;//meter\n",
"BE=2;//meter\n",
"AD=0.75;//meter\n",
"CE=AD;//meter\n",
"BC=BE-AD;//meter\n",
"FG=CE+BC/2;//meter\n",
"xbar=FG;//meter\n",
"w=9.81;//kN/m^2\n",
"A=%pi*D^2/4;//m^2\n",
"AB=D;//meter\n",
"sin_theta=BC/AB;\n",
"P=w*A*xbar;//kN\n",
"disp(P,'Total Pressure in kN : ');\n",
"IG=(%pi/64*D^4);//in m^4\n",
"h_bar=IG/A/xbar*sin_theta^2+xbar;//in meter\n",
"disp(h_bar,'Position of centre of pressure in meter : ');"
   ]
   }
,
{
		   "cell_type": "markdown",
		   "metadata": {},
		   "source": [
			"## Example 3.19: Total_pressure_and_centre_of_pressure.sce"
		   ]
		  },
  {
"cell_type": "code",
	   "execution_count": null,
	   "metadata": {
	    "collapsed": true
	   },
	   "outputs": [],
"source": [
"//Example 3.19\n",
"clc;\n",
"clear;\n",
"close;\n",
"format('v',7);\n",
"//Given data :\n",
"b=3;//meter\n",
"a=3;//meter\n",
"S_oil=0.8;//specific gravity of oil\n",
"w=9.81*S_oil;//kN/m^2\n",
"xbar=1/3*b;//meter\n",
"A=1/2*a*b;//m^2\n",
"P=w*A*xbar;//kN\n",
"disp(P,'Total Pressure in kN : ');\n",
"IG=(a*b^3)/36;//in m^4\n",
"h_bar=IG/A/xbar+xbar;//in meter\n",
"disp(h_bar,'Centre of pressure in meter : ');"
   ]
   }
,
{
		   "cell_type": "markdown",
		   "metadata": {},
		   "source": [
			"## Example 3.1: Intensity_of_pressure.sce"
		   ]
		  },
  {
"cell_type": "code",
	   "execution_count": null,
	   "metadata": {
	    "collapsed": true
	   },
	   "outputs": [],
"source": [
"//Example 3.1\n",
"clc;\n",
"clear;\n",
"close;\n",
"format('v',7);\n",
"//Given data :\n",
"D=30*10^-2;//in m\n",
"F=9810;//in N\n",
"A=%pi*D^2/4;//in m^2\n",
"p=F/A;//in N/m^2 or Pa\n",
"p=p/1000;//kPa\n",
"disp(p,'Intensity of pressure at the bottom of container in kPa : ');"
   ]
   }
,
{
		   "cell_type": "markdown",
		   "metadata": {},
		   "source": [
			"## Example 3.20: Total_hydro_static_pressure_and_centre_of_pressure.sce"
		   ]
		  },
  {
"cell_type": "code",
	   "execution_count": null,
	   "metadata": {
	    "collapsed": true
	   },
	   "outputs": [],
"source": [
"//Example 3.20\n",
"clc;\n",
"clear;\n",
"close;\n",
"format('v',7);\n",
"//Given data :\n",
"a=2;//meter\n",
"b=1;//meter\n",
"d=2;//meter\n",
"w=9.81;//kN/m^2\n",
"xbar=2+a/2;//meter\n",
"A=a*b;//m^2\n",
"P=w*A*xbar;//kN\n",
"disp(P,'Total Pressure in kN : ');\n",
"IG=(b*d^3)/12;//in m^4\n",
"h_bar=IG/A/xbar+xbar;//in meter\n",
"disp(h_bar,'Position of centre of pressure in meter : ');"
   ]
   }
,
{
		   "cell_type": "markdown",
		   "metadata": {},
		   "source": [
			"## Example 3.21: Resultant_pressure_and_direction.sce"
		   ]
		  },
  {
"cell_type": "code",
	   "execution_count": null,
	   "metadata": {
	    "collapsed": true
	   },
	   "outputs": [],
"source": [
"//Example 3.21\n",
"clc;\n",
"clear;\n",
"close;\n",
"format('v',7);\n",
"//Given data :\n",
"r=2;//meter\n",
"l=4;//meter\n",
"A=r*l;//m^2\n",
"xbar=2+r/2;//meter\n",
"w=9.81;//kN/m^2\n",
"PH=w*A*xbar;//kN\n",
"disp(PH,'Horizontal component of resulting Pressure in kN : ');\n",
"PV=2*r*l*w+%pi*r^2/4*l*w;//kN\n",
"disp(PV,'Verticalal component of resulting Pressure in kN : ');\n",
"IG=(l*r^3)/12;//in m^4\n",
"h_bar=IG/A/xbar+xbar;//in meter\n",
"disp(h_bar,'Position of centre of horizontal component of pressure in meter : ');\n",
"x=(2*r+%pi*r^2/4*(4*r/3/%pi))/(2*r+%pi*r^2/4);//meter\n",
"P=sqrt(PH^2+PV^2);//kN\n",
"disp(P,'Resultant pressure in kN : ');\n",
"theta=atand(PV/PH);//degree\n",
"disp(theta,'Direction of resultant pressure in degree : ');"
   ]
   }
,
{
		   "cell_type": "markdown",
		   "metadata": {},
		   "source": [
			"## Example 3.22: Resultant_pressure_and_angle_of_pressure.sce"
		   ]
		  },
  {
"cell_type": "code",
	   "execution_count": null,
	   "metadata": {
	    "collapsed": true
	   },
	   "outputs": [],
"source": [
"//Example 3.22\n",
"clc;\n",
"clear;\n",
"close;\n",
"format('v',7);\n",
"//Given data :\n",
"A=2*1;//m^2\n",
"xbar=2+2/2;//meter\n",
"w=9.81;//kN/m^2\n",
"PH=w*A*xbar;//kN\n",
"disp(PH,'Horizontal component of resultant Pressure in kN : ');\n",
"PV=w*[2*2+2*2-%pi*2^2/4]*1;//kN\n",
"disp(PV,'Verticalal component of resultant Pressure in kN : ');\n",
"P=sqrt(PH^2+PV^2);//kN\n",
"disp(P,'Resultant pressure in kN : ');\n",
"theta=atand(PV/PH);//degree\n",
"disp(theta,'Direction of resultant pressure in degree : ');"
   ]
   }
,
{
		   "cell_type": "markdown",
		   "metadata": {},
		   "source": [
			"## Example 3.23: Gorizontal_and_vertical_components_of_pressure.sce"
		   ]
		  },
  {
"cell_type": "code",
	   "execution_count": null,
	   "metadata": {
	    "collapsed": true
	   },
	   "outputs": [],
"source": [
"//Example 3.23\n",
"clc;\n",
"clear;\n",
"close;\n",
"format('v',7);\n",
"//Given data :\n",
"ABbar=sqrt(2)*4;//meter\n",
"xbar=ABbar/2;//meter\n",
"A=ABbar*1;//m^2\n",
"w=9.81;//kN/m^2\n",
"PH=w*A*xbar;//kN\n",
"disp(PH,'Horizontal component of resultant Pressure in kN : ');\n",
"hbar=2/3*ABbar;//meter\n",
"disp('Position of horizontal component of pressure is '+string(hbar)+' meter below free water surface.');\n",
"PV=w*[%pi*4^2/4-4*4/2]*1;//kN\n",
"disp(PV,'Verticalal component of resultant Pressure in kN : ');"
   ]
   }
,
{
		   "cell_type": "markdown",
		   "metadata": {},
		   "source": [
			"## Example 3.24: Maximum_and_minimum_stress.sce"
		   ]
		  },
  {
"cell_type": "code",
	   "execution_count": null,
	   "metadata": {
	    "collapsed": true
	   },
	   "outputs": [],
"source": [
"//Example 3.24\n",
"clc;\n",
"clear;\n",
"close;\n",
"format('v',9);\n",
"//Given data :\n",
"h=24;//meter\n",
"b=15;//meter\n",
"g=9.81;//gravity constant\n",
"Wm=2000*g;//N/m^3\n",
"W=b*h/2*Wm;//N\n",
"w=9.81;//kN/m^2\n",
"PH=w*20^2/2*1000;//N\n",
"y=PH/W*20/3+5;//meter\n",
"e=y-b/2;//meter\n",
"MaxStress=W/b*(1+6*e/b);//N/m^2\n",
"disp(MaxStress,'Maximum stress in N/m^2 : ');\n",
"MinStress=W/b*(1-6*e/b);//N/m^2\n",
"disp(MinStress,'Minimum stress in N/m^2 : ');\n",
"//Answer in the book is slightly differ due to limited accuracy used in the book as compared to SCILAB."
   ]
   }
,
{
		   "cell_type": "markdown",
		   "metadata": {},
		   "source": [
			"## Example 3.2: Intensity_of_pressure.sce"
		   ]
		  },
  {
"cell_type": "code",
	   "execution_count": null,
	   "metadata": {
	    "collapsed": true
	   },
	   "outputs": [],
"source": [
"//Example 3.2\n",
"clc;\n",
"clear;\n",
"close;\n",
"format('v',7);\n",
"//Given data :\n",
"h=1.5;//in m\n",
"w_w=9.81;//in kN/m^3\n",
"w_g=1.26;//in kN/m^3\n",
"w_m=13.6;//in kN/m^3\n",
"f=h*w_w;//kN/m^2\n",
"disp(f,'Intensity of pressure exerted by water column in kN/m^2 : ');\n",
"f=h*w_w*w_g;//kN/m^2\n",
"disp(f,'Intensity of pressure exerted by glycerine column in kN/m^2 : ');\n",
"f=h*w_w*w_m;//kN/m^2\n",
"disp(f,'Intensity of pressure exerted by mercury column in kN/m^2 : ');"
   ]
   }
,
{
		   "cell_type": "markdown",
		   "metadata": {},
		   "source": [
			"## Example 3.3: Depth_of_alcohol.sce"
		   ]
		  },
  {
"cell_type": "code",
	   "execution_count": null,
	   "metadata": {
	    "collapsed": true
	   },
	   "outputs": [],
"source": [
"//Example 3.3\n",
"clc;\n",
"clear;\n",
"close;\n",
"format('v',6);\n",
"//Given data :\n",
"p=2;//in kN/m^2\n",
"w_w=9.81;//in kN/m^3\n",
"w_alcohol=w_w*0.789;//in kN/m^3\n",
"w_m=13.6;//in kN/m^3\n",
"H=p/w_alcohol;//in m\n",
"disp(H,'Depth of alcohol in meter : ');\n",
"P_head_w=p/w_w;//m\n",
"disp(P_head_w,'Pressure head in terms of water in meter : ');\n",
"P_head_m=p/w_w/w_m;//m\n",
"disp(P_head_m,'Pressure head in terms of mercury in meter : ');"
   ]
   }
,
{
		   "cell_type": "markdown",
		   "metadata": {},
		   "source": [
			"## Example 3.4: Convert_pressure_head.sce"
		   ]
		  },
  {
"cell_type": "code",
	   "execution_count": null,
	   "metadata": {
	    "collapsed": true
	   },
	   "outputs": [],
"source": [
"//Example 3.4\n",
"clc;\n",
"clear;\n",
"close;\n",
"format('v',7);\n",
"//Given data :\n",
"Hwater=6;//m(Pressure head of water)\n",
"S_oil=0.70;//(specific gravity of oil)\n",
"H_oil=Hwater/S_oil;//in m(Pressure head in terms of oil)\n",
"disp(H_oil,'Pressure head of water in terms of oil in meter : ');\n",
"S_oil=0.825;//(specific gravity of oil)\n",
"S_mercury=13.6;//(specific gravity of mercury)\n",
"Hmercury=70/100;//m(Pressure head of mercury)\n",
"H_oil=S_mercury/S_oil*Hmercury;//in m(Pressure head in terms of oil)\n",
"disp(H_oil,'Pressure head of mercury in terms of oil in meter : ');"
   ]
   }
,
{
		   "cell_type": "markdown",
		   "metadata": {},
		   "source": [
			"## Example 3.5: Calculate_total_pressure.sce"
		   ]
		  },
  {
"cell_type": "code",
	   "execution_count": null,
	   "metadata": {
	    "collapsed": true
	   },
	   "outputs": [],
"source": [
"//Example 3.5\n",
"clc;\n",
"clear;\n",
"close;\n",
"format('v',7);\n",
"//Given data :\n",
"w=9.81;//in kN/m^3\n",
"l=3;//in m\n",
"b=2;//in m\n",
"h=1;//in m\n",
"f_bottom=w*h;//in kN/m^2(Pressure intensity at bottom)\n",
"p_bottom=f_bottom*l*b;//kN\n",
"disp(p_bottom,'Total pressure on the bottom in kN : ');\n",
"f_long_vertical=f_bottom/2;//kN\n",
"p_long_vertical=f_long_vertical*l*h;//kN\n",
"disp(p_long_vertical,'Total pressure on long vertical wall in kN : ');\n",
"f_short_vertical=f_bottom/2;//kN\n",
"p_short_vertical=f_short_vertical*b*h;//kN\n",
"disp(p_short_vertical,'Total pressure on short vertical wall in kN : ');"
   ]
   }
,
{
		   "cell_type": "markdown",
		   "metadata": {},
		   "source": [
			"## Example 3.6: Calculate_force_on_vertical_wall.sce"
		   ]
		  },
  {
"cell_type": "code",
	   "execution_count": null,
	   "metadata": {
	    "collapsed": true
	   },
	   "outputs": [],
"source": [
"//Example 3.6\n",
"clc;\n",
"clear;\n",
"close;\n",
"format('v',7);\n",
"//Given data :\n",
"p_water=1000;//in kg/m^3\n",
"p_liquid=800;//in kg/m^3\n",
"g=9.81;//gravity constant\n",
"h1=1.5;//m\n",
"px1=p_liquid*g*h1/1000;//kN/m^2\n",
"disp(px1,'Pressure at a point 1.5 meter below free surface in kN/m^2 : ');\n",
"h2=2;//m\n",
"px2=p_liquid*g*h2/1000;//kN/m^2\n",
"disp(px2,'Pressure at a point 2 meter below free surface in kN/m^2 : ');\n",
"h31=2;//m(for liquid)\n",
"h32=0.5;//m(for water)\n",
"px1=p_liquid*g*h31/1000;//kN/m^2\n",
"px2=p_water*g*h32/1000;//kN/m^2\n",
"px3=(px1+px2);//kN/m^2\n",
"disp(px3,'Pressure at a point 2.5 meter below free surface in kN/m^2 : ');\n",
"h=2;//meter(water level)\n",
"b=8;//meter(width of wall)\n",
"p_bottom=px1+(p_water*g*h)/1000;//kN/m^2\n",
"p_avg1=(px1+0)/2;//kN/m^2(top 2m liquid layer)\n",
"p_avg2=(px1+p_bottom)/2;//kN/m^2(top 2m water layer)\n",
"F_per_meter=p_avg1*h*1+p_avg2*h*1;//kN\n",
"Fwall=F_per_meter*b;//kN\n",
"disp(Fwall,'Force on the wall in kN : ');"
   ]
   }
,
{
		   "cell_type": "markdown",
		   "metadata": {},
		   "source": [
			"## Example 3.7: Find_force_and_depth.sce"
		   ]
		  },
  {
"cell_type": "code",
	   "execution_count": null,
	   "metadata": {
	    "collapsed": true
	   },
	   "outputs": [],
"source": [
"//Example 3.7\n",
"clc;\n",
"clear;\n",
"close;\n",
"format('v',7);\n",
"//Given data :\n",
"b=3;//in meter\n",
"h=3;//in meter\n",
"S_oil=0.8;//(specific gravity of oil)\n",
"A=1/2*h*b;//in m^2\n",
"x_bar=2/3*3;//in meter\n",
"SW_water=9.81*1000;//in N/m^3\n",
"SW_oil=SW_water*S_oil;//in N/m^3\n",
"F_surface=SW_oil*A*x_bar;//in kN\n",
"IG=b*h^3/36;//in m^3\n",
"h_bar=IG/A/x_bar+x_bar;//in meter\n",
"disp(h_bar,'Force shall act at depth of centre of pressure. This depth in meter is : ');"
   ]
   }
,
{
		   "cell_type": "markdown",
		   "metadata": {},
		   "source": [
			"## Example 3.8: Total_pressure_and_centre_of_pressure.sce"
		   ]
		  },
  {
"cell_type": "code",
	   "execution_count": null,
	   "metadata": {
	    "collapsed": true
	   },
	   "outputs": [],
"source": [
"//Example 3.8\n",
"clc;\n",
"clear;\n",
"close;\n",
"format('v',6);\n",
"//Given data :\n",
"l=3;//in meter\n",
"b=2;//in meter\n",
"p=2*10^6;//in Pa\n",
"g=9.81;//gravity constant\n",
"w=g*1000;//in N/m^3\n",
"h=p/w;//in meter\n",
"xbar=h-1.5;//in meter\n",
"A=l*b;//in m^2\n",
"p_gate=w*A*xbar/10^6;//in MN\n",
"disp(p_gate,'Total pressure on the gate in MN : ');\n",
"IG=b*l^3/12;//in m^3\n",
"h_bar=IG/A/xbar+xbar;//in meter\n",
"disp('Position of centre of pressure is '+string(h_bar-xbar)+' meter below the centroid of gate.');"
   ]
   }
,
{
		   "cell_type": "markdown",
		   "metadata": {},
		   "source": [
			"## Example 3.9: Total_pressure_and_centre_of_pressure.sce"
		   ]
		  },
  {
"cell_type": "code",
	   "execution_count": null,
	   "metadata": {
	    "collapsed": true
	   },
	   "outputs": [],
"source": [
"//Example 3.9\n",
"clc;\n",
"clear;\n",
"close;\n",
"format('v',9);\n",
"//Given data :\n",
"g=9.81;//gravity\n",
"GH=4;//meter\n",
"IJ=4;//meter\n",
"IC=2;//meter\n",
"GC=3;//meter\n",
"AG=(10-4)/2;//meter\n",
"BH=(10-4)/2;//meter\n",
"EI=AG*IC/GC;//meter\n",
"JF=AG*IC/GC;//meter\n",
"EF=EI+IJ+JF;//meter\n",
"A=(8+4)/2*2;//in m^2\n",
"a=4;//meter\n",
"b=8;//meter\n",
"d=2;//meter\n",
"xbar=(2*a+b)/(a+b)*d/3;//in meter\n",
"w=g*1000;//in N/m^3\n",
"p_gate=w*A*xbar/10^3;//in kN\n",
"disp(p_gate,'Total pressure in kN : ');\n",
"IG=(a^2+4*a*b+b^2)/(a+b)*d^3/36;//in m^3\n",
"h_bar=IG/A/xbar+xbar;//in meter\n",
"disp('Depth of centre of pressure is '+string(h_bar)+' meter.');"
   ]
   }
],
"metadata": {
		  "kernelspec": {
		   "display_name": "Scilab",
		   "language": "scilab",
		   "name": "scilab"
		  },
		  "language_info": {
		   "file_extension": ".sce",
		   "help_links": [
			{
			 "text": "MetaKernel Magics",
			 "url": "https://github.com/calysto/metakernel/blob/master/metakernel/magics/README.md"
			}
		   ],
		   "mimetype": "text/x-octave",
		   "name": "scilab",
		   "version": "0.7.1"
		  }
		 },
		 "nbformat": 4,
		 "nbformat_minor": 0
}
