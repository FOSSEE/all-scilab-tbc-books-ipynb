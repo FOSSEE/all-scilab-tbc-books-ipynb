{
"cells": [
 {
		   "cell_type": "markdown",
	   "metadata": {},
	   "source": [
       "# Chapter 11: Flow Measurement"
	   ]
	},
{
		   "cell_type": "markdown",
		   "metadata": {},
		   "source": [
			"## Example 11.10: Find_the_discharge.sce"
		   ]
		  },
  {
"cell_type": "code",
	   "execution_count": null,
	   "metadata": {
	    "collapsed": true
	   },
	   "outputs": [],
"source": [
"//Example 11.10\n",
"clc;\n",
"clear;\n",
"close;\n",
"format('v',7);\n",
"//Given data :\n",
"Cd=0.62;//Coeff of discharge\n",
"H=250/1000;//meter\n",
"L=400/1000;//meter\n",
"g=9.81;//gravity acceleration\n",
"Q=2/3*Cd*sqrt(2*g)*L*H^(3/2);//m^3/s or cumec\n",
"disp(Q,'Discharge in cumec : ');\n",
""
   ]
   }
,
{
		   "cell_type": "markdown",
		   "metadata": {},
		   "source": [
			"## Example 11.11: Discharge_over_cipoletti_weir.sce"
		   ]
		  },
  {
"cell_type": "code",
	   "execution_count": null,
	   "metadata": {
	    "collapsed": true
	   },
	   "outputs": [],
"source": [
"//Example 6.11\n",
"clc;\n",
"clear;\n",
"close;\n",
"format('v',8);\n",
"//Given data :\n",
"g=9.81;//constant\n",
"Cd=0.6;//Coefficient of discharge\n",
"B=1.3;//meter\n",
"H1=6-(1.8+1.5);//meter\n",
"H2=6-1.5;//meter\n",
"Q=2/3*Cd*B*sqrt(2*g)*(H2^(3/2)-H1^(3/2));//m^3/sec\n",
"disp(Q,'Discharge through the orifice in m^3/sec : ');"
   ]
   }
,
{
		   "cell_type": "markdown",
		   "metadata": {},
		   "source": [
			"## Example 11.12: Find_the_maximum_discharge.sce"
		   ]
		  },
  {
"cell_type": "code",
	   "execution_count": null,
	   "metadata": {
	    "collapsed": true
	   },
	   "outputs": [],
"source": [
"//Example 11.12\n",
"clc;\n",
"clear;\n",
"close;\n",
"format('v',7);\n",
"//Given data :\n",
"Cd=0.60;//Coeff of discharge\n",
"L=36;//meter\n",
"H=1.1;//meter\n",
"A=50;//m^2\n",
"g=9.81;//gravity acceleration\n",
"Qmax=1.705*Cd*L*H^(3/2);//m^3/s\n",
"disp(Qmax,'Maximum Discharge in m^3/sec : ');\n",
"Va=Qmax/A;//m/s(velocity of approach)\n",
"Q=1.705*Cd*L*[(H+Va^2/2/g)^(3/2)-(Va^2/2/g)^(3/2)];//m^3/s\n",
"disp(Q,'New discharge considering velocity of approach in m^3/sec : ');"
   ]
   }
,
{
		   "cell_type": "markdown",
		   "metadata": {},
		   "source": [
			"## Example 11.13: Number_of_spillway.sce"
		   ]
		  },
  {
"cell_type": "code",
	   "execution_count": null,
	   "metadata": {
	    "collapsed": true
	   },
	   "outputs": [],
"source": [
"//Example 11.13\n",
"clc;\n",
"clear;\n",
"close;\n",
"format('v',7);\n",
"//Given data :\n",
"w=1.5;//m\n",
"d=0.75;//m\n",
"Cd=0.64;//Coeff of discharge\n",
"QT=45;//cumec\n",
"h=8;//meter\n",
"A=w*d;//m^2\n",
"g=9.81;//gravity acceleration\n",
"Q=Cd*A*sqrt(2*g*h);//m^3/sec\n",
"n=QT/Q;//no. of spillways\n",
"disp(round(n),'No. of spillways : ');"
   ]
   }
,
{
		   "cell_type": "markdown",
		   "metadata": {},
		   "source": [
			"## Example 11.14: Calculate_the_discharge.sce"
		   ]
		  },
  {
"cell_type": "code",
	   "execution_count": null,
	   "metadata": {
	    "collapsed": true
	   },
	   "outputs": [],
"source": [
"//Example 11.14\n",
"clc;\n",
"clear;\n",
"close;\n",
"format('v',6);\n",
"//Given data :\n",
"B=1;//meter\n",
"b=0.4;//meter\n",
"H=0.57;//meter\n",
"h=0.5;//meter\n",
"A=B*H;//m^2\n",
"g=9.81;//gravity constant\n",
"a=b*h;//m^2\n",
"Q=A*a/sqrt(A^2-a^2)*sqrt(2*g*(H-h));//m^3/sec\n",
"disp(Q,'Discharge in m^3/sec : ');"
   ]
   }
,
{
		   "cell_type": "markdown",
		   "metadata": {},
		   "source": [
			"## Example 11.1: Velocity_of_flow.sce"
		   ]
		  },
  {
"cell_type": "code",
	   "execution_count": null,
	   "metadata": {
	    "collapsed": true
	   },
	   "outputs": [],
"source": [
"//Example 11.1\n",
"clc;\n",
"clear;\n",
"close;\n",
"format('v',5);\n",
"//Given data :\n",
"staticPHead=5;//meter\n",
"stagnationPHead=6;//meter\n",
"h=stagnationPHead-staticPHead;//meter\n",
"g=9.81;//constant\n",
"Cv=0.98;//Coeff of pilot tube\n",
"V=Cv*sqrt(2*g*h);//m/s\n",
"disp(V,'Velocity of flow in m/sec : ');"
   ]
   }
,
{
		   "cell_type": "markdown",
		   "metadata": {},
		   "source": [
			"## Example 11.2: calculate_Velocity.sce"
		   ]
		  },
  {
"cell_type": "code",
	   "execution_count": null,
	   "metadata": {
	    "collapsed": true
	   },
	   "outputs": [],
"source": [
"//Example 11.2\n",
"clc;\n",
"clear;\n",
"close;\n",
"format('v',5);\n",
"//Given data :\n",
"Cv=0.975;//Coeff of pilot tube\n",
"h=100/1000;//meter\n",
"g=9.81;//constant\n",
"Sm=13.6;//Sp. gravity\n",
"S=0.86;//gravity of turpinre\n",
"V=Cv*sqrt(2*g*h*(Sm/S-1));//m/s\n",
"disp(V,'Velocity in m/sec : ');"
   ]
   }
,
{
		   "cell_type": "markdown",
		   "metadata": {},
		   "source": [
			"## Example 11.3: Rate_of_discharge_of_steam.sce"
		   ]
		  },
  {
"cell_type": "code",
	   "execution_count": null,
	   "metadata": {
	    "collapsed": true
	   },
	   "outputs": [],
"source": [
"//Example 11.3\n",
"clc;\n",
"clear;\n",
"close;\n",
"format('v',9);\n",
"//Given data :\n",
"l=2;//meter\n",
"d0=0;//meter\n",
"d1=0.3;//meter\n",
"d2=1.0;//meter\n",
"d3=1.2;//meter\n",
"d4=1.6;//meter\n",
"d5=2.0;//meter\n",
"d6=1.4;//meter\n",
"d7=1.0;//meter\n",
"d8=0.4;//meter\n",
"d9=0.3;//meter\n",
"d10=0.2;//meter\n",
"V0=0;//meter\n",
"V1=0.5;//meter\n",
"V2=0.7;//meter\n",
"V3=0.8;//meter\n",
"V4=1.0;//meter\n",
"V5=1.2;//meter\n",
"V6=0.9;//meter\n",
"V7=0.8;//meter\n",
"V8=0.6;//meter\n",
"V9=0.5;//meter\n",
"V10=0.3;//meter\n",
"Q=l/3*(d0*V0+4*d1*V1+2*d2*V2+4*d3*V3+2*d4*V4+4*d5*V5+2*d6*V6+4*d7*V7+2*d8*V8+4*d9*V9+2*d10*V10+d0*V0);//cum/sec\n",
"disp(Q,'Rate of discharge in cum/sec : ');"
   ]
   }
,
{
		   "cell_type": "markdown",
		   "metadata": {},
		   "source": [
			"## Example 11.4: Find_the_discharge.sce"
		   ]
		  },
  {
"cell_type": "code",
	   "execution_count": null,
	   "metadata": {
	    "collapsed": true
	   },
	   "outputs": [],
"source": [
"//Example 11.4\n",
"clc;\n",
"clear;\n",
"close;\n",
"format('v',7);\n",
"//Given data :\n",
"Cd=0.62;//constant\n",
"H=0.12;//meter\n",
"L=0.3;//meter\n",
"g=9.81;//constant\n",
"Q=2/3*Cd*sqrt(2*g)*L*H^(3/2);//m^3/s\n",
"disp(Q,'Discharge in m^3/sec : ');"
   ]
   }
,
{
		   "cell_type": "markdown",
		   "metadata": {},
		   "source": [
			"## Example 11.5: Find_the_discharge.sce"
		   ]
		  },
  {
"cell_type": "code",
	   "execution_count": null,
	   "metadata": {
	    "collapsed": true
	   },
	   "outputs": [],
"source": [
"//Example 11.5\n",
"clc;\n",
"clear;\n",
"close;\n",
"format('v',8);\n",
"//Given data :\n",
"Cd=0.66;//constant\n",
"H=0.15;//meter\n",
"L=0.40;//meter\n",
"g=9.81;//constant\n",
"Q=2/3*Cd*sqrt(2*g)*L*H^(3/2);//m^3/s\n",
"disp(Q,'Discharge in m^3/sec : ');\n",
"disp(Q*10^3,'Discharge in litres/sec : ');"
   ]
   }
,
{
		   "cell_type": "markdown",
		   "metadata": {},
		   "source": [
			"## Example 11.6: Discharge_over_the_notch.sce"
		   ]
		  },
  {
"cell_type": "code",
	   "execution_count": null,
	   "metadata": {
	    "collapsed": true
	   },
	   "outputs": [],
"source": [
"//Example 11.6\n",
"clc;\n",
"clear;\n",
"close;\n",
"format('v',6);\n",
"//Given data :\n",
"Cd=0.62;//constant\n",
"H=200/1000;//meter\n",
"theta=90;//degree\n",
"g=9.81;//constant\n",
"Q=8/15*Cd*sqrt(2*g)*tand(theta/2)*H^(5/2);//m^3/s\n",
"Q=Q*1000*60;//litres/minute\n",
"disp(Q,'Discharge in litres/minute : ');"
   ]
   }
,
{
		   "cell_type": "markdown",
		   "metadata": {},
		   "source": [
			"## Example 11.7: Position_of_apex_of_notch.sce"
		   ]
		  },
  {
"cell_type": "code",
	   "execution_count": null,
	   "metadata": {
	    "collapsed": true
	   },
	   "outputs": [],
"source": [
"//Example 11.7\n",
"clc;\n",
"clear;\n",
"close;\n",
"format('v',6);\n",
"//Given data :\n",
"Cd=0.62;//constant\n",
"Q=250;//litres/sec\n",
"Q=Q*10^-3;//m^3/s\n",
"theta=90;//degree\n",
"g=9.81;//constant\n",
"d=1.3;//meter\n",
"H=(Q/8*15/Cd/sqrt(2*g)/tand(theta/2))^(2/5);//m\n",
"h=d-H;//meter\n",
"disp(h,'Position above the bed in meter : ');"
   ]
   }
,
{
		   "cell_type": "markdown",
		   "metadata": {},
		   "source": [
			"## Example 11.8: calculate_time_take.sce"
		   ]
		  },
  {
"cell_type": "code",
	   "execution_count": null,
	   "metadata": {
	    "collapsed": true
	   },
	   "outputs": [],
"source": [
"//Example 11.8\n",
"clc;\n",
"clear;\n",
"close;\n",
"format('v',6);\n",
"//Given data :\n",
"Cd=0.65;//constant\n",
"A=220;//m^2\n",
"g=9.81;//constant\n",
"l=30/100;//meter\n",
"H1=16.8/100;//meter\n",
"H2=6.8/100;//meter\n",
"T=A/[2/3*Cd*l*sqrt(2*g)]*integrate('h^(-3/2)','h',H2,H1);//sec\n",
"disp('Time taken is '+string(floor(T/60))+' minute '+string((T/60-floor(T/60))*60)+' sec.')"
   ]
   }
,
{
		   "cell_type": "markdown",
		   "metadata": {},
		   "source": [
			"## Example 11.9: Discharge_flowing_over_the_weir.sce"
		   ]
		  },
  {
"cell_type": "code",
	   "execution_count": null,
	   "metadata": {
	    "collapsed": true
	   },
	   "outputs": [],
"source": [
"//Example 11.9\n",
"clc;\n",
"clear;\n",
"close;\n",
"format('v',7);\n",
"//Given data :\n",
"H=0.40;//meter\n",
"L=5;//meter\n",
"disp('(i) End contractions are Suppressed : ');\n",
"Q=1.84*L*H^(3/2);//m^3/s\n",
"disp(Q,'Discharge in m^3/sec : ');\n",
"disp(Q*1000,'Discharge in litres/sec : ');\n",
"disp('(ii) End contractions are Considered : ');\n",
"n=2;\n",
"Q=1.84*(L-0.1*n*H)*H^(3/2);//m^3/s\n",
"disp(Q,'Discharge in m^3/sec : ');\n",
"disp(Q*1000,'Discharge in litres/sec : ');"
   ]
   }
],
"metadata": {
		  "kernelspec": {
		   "display_name": "Scilab",
		   "language": "scilab",
		   "name": "scilab"
		  },
		  "language_info": {
		   "file_extension": ".sce",
		   "help_links": [
			{
			 "text": "MetaKernel Magics",
			 "url": "https://github.com/calysto/metakernel/blob/master/metakernel/magics/README.md"
			}
		   ],
		   "mimetype": "text/x-octave",
		   "name": "scilab",
		   "version": "0.7.1"
		  }
		 },
		 "nbformat": 4,
		 "nbformat_minor": 0
}
