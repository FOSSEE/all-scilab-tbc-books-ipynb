{
"cells": [
 {
		   "cell_type": "markdown",
	   "metadata": {},
	   "source": [
       "# Chapter 5: Fundamentals of Flow"
	   ]
	},
{
		   "cell_type": "markdown",
		   "metadata": {},
		   "source": [
			"## Example 5.10: Determine_pressure_intensity.sce"
		   ]
		  },
  {
"cell_type": "code",
	   "execution_count": null,
	   "metadata": {
	    "collapsed": true
	   },
	   "outputs": [],
"source": [
"//Example 5.10\n",
"clc;\n",
"clear;\n",
"close;\n",
"format('v',8);\n",
"//Given data :\n",
"Q=200*10^-3;//m^3/s\n",
"D1=250/1000;//meter\n",
"D2=200/1000;//meter\n",
"A1=%pi*D1^2/4;//m^2\n",
"A2=%pi*D2^2/4;//m^2\n",
"v1=Q/A1;//m/s\n",
"v2=Q/A2;//m/s\n",
"Z1=2;//meter\n",
"Z2=8;//meter\n",
"g=9.81;//constant\n",
"w=1000;//kg/m^3\n",
"p1=w*(Z1-v1^2/2/g);//kg/m^2\n",
"p2=v1^2/2/g*w+p1+Z2*w-v2^2/2/g*w-4*w;//kg/m^2(by Bernolli's theorem)\n",
"p1=p1*g;//N/m^2\n",
"p2=p2*g;//N/m^2\n",
"disp(p1,'Pressure intensity at point P in N/m^2 : ');\n",
"disp(p2,'Pressure intensity at point Q in N/m^2 : ');        \n",
"//Answer in the book is not accurate."
   ]
   }
,
{
		   "cell_type": "markdown",
		   "metadata": {},
		   "source": [
			"## Example 5.11: Intensity_of_pressure_and_discharge.sce"
		   ]
		  },
  {
"cell_type": "code",
	   "execution_count": null,
	   "metadata": {
	    "collapsed": true
	   },
	   "outputs": [],
"source": [
"//Example 5.11\n",
"clc;\n",
"clear;\n",
"close;\n",
"format('v',8);\n",
"//Given data :\n",
"slope=1/10;\n",
"Z1=0;//meter\n",
"Z2=40*slope;//meter\n",
"p1=1.5/10^-4;//kg/cm^2\n",
"v2=4.1;//m/s\n",
"D1=600/1000;//meter\n",
"D2=300/1000;//meter\n",
"A1=%pi*D1^2/4;//m^2\n",
"A2=%pi*D2^2/4;//m^2\n",
"v1=A2*v2/A1;//m/s\n",
"g=9.81;//constant\n",
"w=1000;//kg/m^3\n",
"p2=(p1/w+v1^2/2/g+Z1-v2^2/2/g-Z2)*w;//kg/m^2(by Bernolli's theorem)\n",
"p2=p2*10^-4;//kg/cm^2\n",
"Q1=A1*v1;//m^3/sec\n",
"Q1=Q1*1000;//litre/sec\n",
"disp(p2,'Pressure intensity at point Q in kg/cm^2 : ');        \n",
"disp(Q1,'Discharge of pipe in litres/sec : ');\n",
"//Answer in the book is not accurate. calculation for A1 & A2 is wrong."
   ]
   }
,
{
		   "cell_type": "markdown",
		   "metadata": {},
		   "source": [
			"## Example 5.12: Find_discharge_of_oil.sce"
		   ]
		  },
  {
"cell_type": "code",
	   "execution_count": null,
	   "metadata": {
	    "collapsed": true
	   },
	   "outputs": [],
"source": [
"//Example 5.12\n",
"clc;\n",
"clear;\n",
"close;\n",
"format('v',6);\n",
"//Given data :\n",
"D1=180/1000;//meter\n",
"D2=90/1000;//meter\n",
"g=9.81;//gravity constant\n",
"S=0.8;//sp. gravity of oil\n",
"Sm=13.6;//sp. gravity of mercury\n",
"x=300/1000;//meter\n",
"K=0.97;//coeff. of meter\n",
"A1=%pi*D1^2/4;//m^2\n",
"A2=%pi*D2^2/4;//m^2\n",
"C=A1*A2*sqrt(2*g)/sqrt(A1^2-A2^2)\n",
"h=x*(Sm/S-1);//meter of oil\n",
"Q=K*C*sqrt(h);//m^3/sec\n",
"Q=Q*1000;//litre/sec\n",
"disp(Q,'Discharge of oil in litres/sec : ');"
   ]
   }
,
{
		   "cell_type": "markdown",
		   "metadata": {},
		   "source": [
			"## Example 5.13: Coefficient_of_meter.sce"
		   ]
		  },
  {
"cell_type": "code",
	   "execution_count": null,
	   "metadata": {
	    "collapsed": true
	   },
	   "outputs": [],
"source": [
"//Example 5.13\n",
"clc;\n",
"clear;\n",
"close;\n",
"format('v',8);\n",
"//Given data :\n",
"D1byD2=1/0.7;\n",
"D1=320/1000;//meter\n",
"D2=320*0.7/1000;//meter\n",
"g=9.81;//gravity constant\n",
"Q=30.6/60;//m^3/sec\n",
"A1=%pi*D1^2/4;//m^2\n",
"A2=%pi*D2^2/4;//m^2\n",
"C=A1*sqrt(2*g)/sqrt((D1byD2)^4-1);\n",
"h=1.2;//meter of water\n",
"K=Q/C/sqrt(h);//Coeff. of meter\n",
"disp(K,'Coefficient of meter : ');\n",
"//Answer in the book is wrong."
   ]
   }
,
{
		   "cell_type": "markdown",
		   "metadata": {},
		   "source": [
			"## Example 5.14: Deflection_in_manometer.sce"
		   ]
		  },
  {
"cell_type": "code",
	   "execution_count": null,
	   "metadata": {
	    "collapsed": true
	   },
	   "outputs": [],
"source": [
"//Example 5.14\n",
"clc;\n",
"clear;\n",
"close;\n",
"format('v',5);\n",
"//Given data :\n",
"D1=320/1000;//meter\n",
"D2=224/1000;//meter\n",
"g=9.81;//gravity constant\n",
"Q=25000/1000/60;//m^3/sec\n",
"A1=%pi*D1^2/4;//m^2\n",
"A2=%pi*D2^2/4;//m^2\n",
"C=0.4984;//venturi constant\n",
"K=0.92;//Coeff. of meter\n",
"h=(Q/K/C)^2\n",
"S=1;//sp. gravity\n",
"Sm=13.6;//sp. gravity\n",
"x=h/(Sm/S-1);//meter of water\n",
"disp(x*1000,'Deflection in  manometer(mm) : ');"
   ]
   }
,
{
		   "cell_type": "markdown",
		   "metadata": {},
		   "source": [
			"## Example 5.15: Find_pressure_difference.sce"
		   ]
		  },
  {
"cell_type": "code",
	   "execution_count": null,
	   "metadata": {
	    "collapsed": true
	   },
	   "outputs": [],
"source": [
"//Example 5.15\n",
"clc;\n",
"clear;\n",
"close;\n",
"format('v',6);\n",
"//Given data :\n",
"D1=120/1000;//meter\n",
"D2=120*0.55/1000;//meter\n",
"g=9.81;//gravity constant\n",
"A1=%pi*D1^2/4;//m^2\n",
"A2=%pi*D2^2/4;//m^2\n",
"Q=30/1000;//m^3/sec\n",
"C=A1*sqrt(2*g)/sqrt((D1/D2)^4-1);//venturi constant\n",
"K=0.94;//Coeff. of meter\n",
"h=(Q/K/C)^2;//meter\n",
"Z1=0;//meter\n",
"Z2=0.3;//meter\n",
"S=0.79;//sp. gravity\n",
"w=1000*S;//kg/m^3\n",
"delta_p=(h+Z1-Z2)*w;//kg/m^2\n",
"delta_p=delta_p*g;//N/m^2\n",
"disp(delta_p,'Pressure difference in N/m^2 : ');\n",
"//answer is wrong in the book."
   ]
   }
,
{
		   "cell_type": "markdown",
		   "metadata": {},
		   "source": [
			"## Example 5.16: Deflection_of_oil_mercury_gauge.sce"
		   ]
		  },
  {
"cell_type": "code",
	   "execution_count": null,
	   "metadata": {
	    "collapsed": true
	   },
	   "outputs": [],
"source": [
"//Example 5.16\n",
"clc;\n",
"clear;\n",
"close;\n",
"format('v',6);\n",
"//Given data :\n",
"D1=160/1000;//meter\n",
"D2=60/1000;//meter\n",
"g=9.81;//gravity constant\n",
"S=0.8;//sp. gravity\n",
"Sm=13.6;//sp. gravity of mercury\n",
"Q=0.05;//m^3/sec\n",
"K=0.98;//Coeff. of meter\n",
"A1=%pi*D1^2/4;//m^2\n",
"A2=%pi*D2^2/4;//m^2\n",
"C=A1*sqrt(2*g)/sqrt((A1/A2)^2-1);//venturi constant\n",
"h=(Q/K/C)^2;//meter\n",
"x=h/(Sm/S-1);//meter\n",
"disp(x,'Deflection in meter : ');"
   ]
   }
,
{
		   "cell_type": "markdown",
		   "metadata": {},
		   "source": [
			"## Example 5.17: Rate_of_flow.sce"
		   ]
		  },
  {
"cell_type": "code",
	   "execution_count": null,
	   "metadata": {
	    "collapsed": true
	   },
	   "outputs": [],
"source": [
"//Example 5.17\n",
"clc;\n",
"clear;\n",
"close;\n",
"format('v',4);\n",
"//Given data :\n",
"D1=200/1000;//meter\n",
"D2=100/1000;//meter\n",
"x=220/1000;//meter\n",
"g=9.81;//gravity constant\n",
"K=0.98;//Coeff. of meter\n",
"S=1;//sp. gravity\n",
"Sm=13.6;//sp. gravity of mercury\n",
"A1=%pi*D1^2/4;//m^2\n",
"A2=%pi*D2^2/4;//m^2\n",
"C=A1*sqrt(2*g)/sqrt((A1/A2)^2-1);//venturi constant\n",
"h=x*(Sm/S-1);//meter\n",
"Q=K*C*sqrt(h);//m^3/sec\n",
"Q=Q*1000;//litres/sec\n",
"disp(Q,'Rate of flow in litres/sec : ');"
   ]
   }
,
{
		   "cell_type": "markdown",
		   "metadata": {},
		   "source": [
			"## Example 5.18: Calculate_flow_water.sce"
		   ]
		  },
  {
"cell_type": "code",
	   "execution_count": null,
	   "metadata": {
	    "collapsed": true
	   },
	   "outputs": [],
"source": [
"//Example 5.18\n",
"clc;\n",
"clear;\n",
"close;\n",
"format('v',8);\n",
"//Given data :\n",
"D1=40/100;//meter\n",
"D2=15/100;//meter\n",
"x=25/100;//meter\n",
"g=9.81;//gravity constant\n",
"K=0.98;//Coeff. of meter\n",
"S=1;//sp. gravity\n",
"Sm=13.6;//sp. gravity of mercury\n",
"A1=%pi*D1^2/4;//m^2\n",
"A2=%pi*D2^2/4;//m^2\n",
"C=A1*A2*sqrt(2*g)/sqrt(A1^2-A2^2);//venturi constant\n",
"h=x*(Sm/S-1);//meter\n",
"Q=K*C*sqrt(h);//m^3/sec\n",
"Q=Q*1000*3600;//litres/hour\n",
"disp(Q,'Flow of water in litres/hour : ');\n",
"//Answer in the book is wrong."
   ]
   }
,
{
		   "cell_type": "markdown",
		   "metadata": {},
		   "source": [
			"## Example 5.19: Flow_rate_of_water.sce"
		   ]
		  },
  {
"cell_type": "code",
	   "execution_count": null,
	   "metadata": {
	    "collapsed": true
	   },
	   "outputs": [],
"source": [
"//Example 5.19\n",
"clc;\n",
"clear;\n",
"close;\n",
"format('v',4);\n",
"//Given data :\n",
"D1=15/100;//meter\n",
"D2=7.5/100;//meter\n",
"g=9.81;//gravity constant\n",
"p1=4*g*10^4;//N/m^2\n",
"p2=1.5*g*10^4;//kg/cm^2\n",
"w=9.81;//kg/m^2\n",
"A1=%pi*D1^2/4;//m^2\n",
"A2=%pi*D2^2/4;//m^2\n",
"v1BYv2=A2/A1;\n",
"//v1^2/2/g+p1/w=v2^2/2/g+p2/w\n",
"//v1^2=v2^2-50*g\n",
"v2=sqrt(50*g/(1-v1BYv2^2));//m/s\n",
"Q=A2*v2;//m^3/sec\n",
"Q=Q*1000;//litres/sec\n",
"disp(Q,'Flow of water in litres/sec : ');\n",
"//Answer is wrong in the book."
   ]
   }
,
{
		   "cell_type": "markdown",
		   "metadata": {},
		   "source": [
			"## Example 5.1: Find_Power_required.sce"
		   ]
		  },
  {
"cell_type": "code",
	   "execution_count": null,
	   "metadata": {
	    "collapsed": true
	   },
	   "outputs": [],
"source": [
"//Example 5.1\n",
"clc;\n",
"clear;\n",
"close;\n",
"format('v',9);\n",
"//Given data :\n",
"m=2000;//litre or kg(1litre water =1kg)\n",
"M=m/60;//kg/s\n",
"p=4.5;//bar\n",
"p=p*10^5;//N/m^2\n",
"g=9.81;//constant\n",
"w=g*1000;//N/m^3\n",
"H=p/w;//m\n",
"Power=M*g*H/1000;//kW\n",
"disp(Power,'Power required in kW : ');"
   ]
   }
,
{
		   "cell_type": "markdown",
		   "metadata": {},
		   "source": [
			"## Example 5.20: Velocity_and_flow_rate.sce"
		   ]
		  },
  {
"cell_type": "code",
	   "execution_count": null,
	   "metadata": {
	    "collapsed": true
	   },
	   "outputs": [],
"source": [
"//Example 5.20\n",
"clc;\n",
"clear;\n",
"close;\n",
"format('v',6);\n",
"//Given data :\n",
"D1=20/100;//meter\n",
"D2=15/100;//meter\n",
"A1=%pi/4*D1^2;//m^2\n",
"A2=%pi/4*D2^2;//m^2\n",
"v1=2;//m/s\n",
"v2=A1*v1/A2;//m/s\n",
"disp(v2,'Velocity at another section in m/s : ');\n",
"FlowRate=A1*v1;//m^3/s\n",
"FlowRate=FlowRate*1000;//litres/s\n",
"disp(FlowRate,'Flow Rate in litres/sec : ');\n",
"//Answer of velocity in the book is not accurate."
   ]
   }
,
{
		   "cell_type": "markdown",
		   "metadata": {},
		   "source": [
			"## Example 5.21: Flow_rate_of_oil.sce"
		   ]
		  },
  {
"cell_type": "code",
	   "execution_count": null,
	   "metadata": {
	    "collapsed": true
	   },
	   "outputs": [],
"source": [
"//Example 5.21\n",
"clc;\n",
"clear;\n",
"close;\n",
"format('v',4);\n",
"//Given data :\n",
"rd=0.75;//relative density\n",
"D=12.5/100;//meter\n",
"p=1;//bar\n",
"p=p*1.02;//kg/cm^2\n",
"p=p*9.81*10^4/1000;//kPa\n",
"g=9.81;//gravity constant\n",
"w=g*rd;//N/m^3\n",
"pH=p/w;//meter\n",
"Z=2.5;//meter\n",
"Et=20;//Nm\n",
"v=sqrt((Et-p/w-Z)*2*g);//m/s\n",
"A=%pi/4*D^2;//m^2\n",
"Q=A*v;//m^3/sec\n",
"Q=A*v*1000;//litres/sec\n",
"disp(Q,'Flow Rate of oil in litres/sec : ');"
   ]
   }
,
{
		   "cell_type": "markdown",
		   "metadata": {},
		   "source": [
			"## Example 5.22: Find_Z.sce"
		   ]
		  },
  {
"cell_type": "code",
	   "execution_count": null,
	   "metadata": {
	    "collapsed": true
	   },
	   "outputs": [],
"source": [
"//Example 5.22\n",
"clc;\n",
"clear;\n",
"close;\n",
"format('v',5);\n",
"//Given data :\n",
"rd=0.75;//relative density\n",
"d1=0.3;//meter\n",
"d2=0.1;//meter\n",
"Q=50/1000;//m^3/sec\n",
"A1=%pi/4*d1^2;//m^2\n",
"A2=%pi/4*d2^2;//m^2\n",
"v1=Q/A1;//m/s\n",
"v2=A1*v1/A2;//m/s\n",
"p1=200;//kN/m^2\n",
"p2=100;//kN/m^2\n",
"w=9.81;//kN/m^3\n",
"g=9.81;//gravity constant\n",
"Z1=0;//meter\n",
"Z2=Z1+p1/w+v1^2/2/g-p2/w-v2^2/2/g;//meter\n",
"disp(Z2,'Z in meter : ');"
   ]
   }
,
{
		   "cell_type": "markdown",
		   "metadata": {},
		   "source": [
			"## Example 5.23: Discharge_in_the_pipe.sce"
		   ]
		  },
  {
"cell_type": "code",
	   "execution_count": null,
	   "metadata": {
	    "collapsed": true
	   },
	   "outputs": [],
"source": [
"//Example 5.23\n",
"clc;\n",
"clear;\n",
"close;\n",
"format('v',6);\n",
"//Given data :\n",
"D1=300/1000;//meter\n",
"D2=150/1000;//meter\n",
"Q=50/1000;//m^3/sec\n",
"A1=%pi/4*D1^2;//m^2\n",
"A2=%pi/4*D2^2;//m^2\n",
"delpBYw=3;//p1/w-p2/w=3;//m\n",
"v1BYv2=A2/A1;\n",
"Z1=0;//meter\n",
"Z2=0;//meter\n",
"g=9.81;//gravity constant\n",
"//HeadLoss=1/8*v^2/2/g\n",
"//Z1+p1/w+v1^2/2/g=Z2+p2/w+v2^2/2/g+HeadLoss\n",
"v2=sqrt((Z1-Z2+delpBYw)/(1/2/g-v1BYv2^2/2/g+1/8/2/g));//m/s\n",
"Q=A2*v2;//m^3/s\n",
"Q=Q*1000;//litres/sec\n",
"disp(Q,'Discharge in pipe in litres/sec : ');"
   ]
   }
,
{
		   "cell_type": "markdown",
		   "metadata": {},
		   "source": [
			"## Example 5.2: Discharge_and_velocity_of_flow.sce"
		   ]
		  },
  {
"cell_type": "code",
	   "execution_count": null,
	   "metadata": {
	    "collapsed": true
	   },
	   "outputs": [],
"source": [
"//Example 5.2\n",
"clc;\n",
"clear;\n",
"close;\n",
"format('v',9);\n",
"//Given data :\n",
"v1=400*10^-3;//m/s\n",
"d1=300/1000;//meter\n",
"d2=450/1000;//meter\n",
"A1=%pi*d1^2/4;//m^2\n",
"A2=%pi*d2^2/4;//m^2\n",
"Q1=A1*v1*1000;//litres/sec(1m^3=1000litres)\n",
"disp(Q1,'Discharge of pipe in litres/sec : ');\n",
"v2=(Q1/1000)/A2;//m/s(Q1=Q2)\n",
"disp(v2,'Mean velocity of flow in m/s : ');\n",
"//Answer of discharge is wrong in the book."
   ]
   }
,
{
		   "cell_type": "markdown",
		   "metadata": {},
		   "source": [
			"## Example 5.3: Datum_Velocity_Head_Pressure_head.sce"
		   ]
		  },
  {
"cell_type": "code",
	   "execution_count": null,
	   "metadata": {
	    "collapsed": true
	   },
	   "outputs": [],
"source": [
"//Example 5.3\n",
"clc;\n",
"clear;\n",
"close;\n",
"format('v',7);\n",
"//Given data :\n",
"PotentialHead=2;//meter of fluid\n",
"disp('Potential Head is '+string(PotentialHead)+' meter of fluid.');\n",
"v=5;//m/s\n",
"g=9.81;//constant\n",
"VelocityHead=v^2/2/g;//m\n",
"disp('Velocity Head is '+string(VelocityHead)+' meter of fluid.');\n",
"w=g*1000;//N/m^3\n",
"S=0.8;//sp. gravity of fluid\n",
"p=200;//kPa\n",
"PressureHead=p*10^3/w/S;//meter of fluid\n",
"disp('Pressure Head is '+string(PressureHead)+' meter of fluid.');\n",
"TotalHead=PotentialHead+VelocityHead+PressureHead;//meter of fluid\n",
"disp('Total Head is '+string(TotalHead)+' meter of fluid.');"
   ]
   }
,
{
		   "cell_type": "markdown",
		   "metadata": {},
		   "source": [
			"## Example 5.4: Calculate_total_energy.sce"
		   ]
		  },
  {
"cell_type": "code",
	   "execution_count": null,
	   "metadata": {
	    "collapsed": true
	   },
	   "outputs": [],
"source": [
"//Example 5.4\n",
"clc;\n",
"clear;\n",
"close;\n",
"format('v',8);\n",
"//Given data :\n",
"p=0.8/10^-4;//kg/m^2\n",
"datumH=4;//meter\n",
"v=0.8;//m/s\n",
"g=9.81;//constant\n",
"VelocityH=v^2/2/g;//m\n",
"w=1000;//kg/m^3\n",
"PressureH=p/w;//meter of fluid\n",
"TotalH=datumH+VelocityH+PressureH;//meter of fluid\n",
"disp('Total Energy is '+string(TotalH)+' meter.');"
   ]
   }
,
{
		   "cell_type": "markdown",
		   "metadata": {},
		   "source": [
			"## Example 5.5: Direction_of_flow.sce"
		   ]
		  },
  {
"cell_type": "code",
	   "execution_count": null,
	   "metadata": {
	    "collapsed": true
	   },
	   "outputs": [],
"source": [
"//Example 5.5\n",
"clc;\n",
"clear;\n",
"close;\n",
"format('v',7);\n",
"//Given data :\n",
"D1=800/1000;//m^2\n",
"D2=600/1000;//m^2\n",
"p1=100;//kPa\n",
"p2=40;//kPa\n",
"v1=4000*10^-3;//m/s\n",
"A1=%pi*D1^2/4;//m^2\n",
"A2=%pi*D2^2/4;//m^2\n",
"Z1=4;//meter\n",
"Z2=7;//meter\n",
"rho=1;//sp. gravity\n",
"g=9.81;//constant\n",
"PHeadA=p1/rho/g;//meter of fluid\n",
"PHeadB=p2/rho/g;//meter of fluid\n",
"v2=A1*v1/A2;//m/s\n",
"VHeadA=v1^2/2/g;//meter\n",
"VHeadB=v2^2/2/g;//meter\n",
"E1=Z1+PHeadA+VHeadA;//meter\n",
"E2=Z2+PHeadB+VHeadB;//meter\n",
"if E1>E2 then\n",
"    disp('Total Energy at A('+string(E1)+' meter) is greater than total energy at B('+string(E2)+' meter). Flow of water is from A to B.');\n",
"else\n",
"        disp('Total Energy at B('+string(E2)+' meter) is greater than total energy at A('+string(E1)+' meter). Flow of water is from B to A.');\n",
"end"
   ]
   }
,
{
		   "cell_type": "markdown",
		   "metadata": {},
		   "source": [
			"## Example 5.6: Pressure_at_the_low_end.sce"
		   ]
		  },
  {
"cell_type": "code",
	   "execution_count": null,
	   "metadata": {
	    "collapsed": true
	   },
	   "outputs": [],
"source": [
"//Example 5.6\n",
"clc;\n",
"clear;\n",
"close;\n",
"format('v',8);\n",
"//Given data :\n",
"D1=1.25;//meter\n",
"D2=0.625;//meter\n",
"slope=100;\n",
"L=300;///meter\n",
"g=9.81;//constant\n",
"Z12=L/slope;//meter\n",
"Q=100;//litres/sec\n",
"Q=Q*10^-3;//m^3/sec\n",
"A1=%pi*D1^2/4;//m^2\n",
"A2=%pi*D2^2/4;//m^2\n",
"v1=Q/A1;//m/s\n",
"v2=Q/A2;//m/s\n",
"p1=100;//kN/m^2\n",
"//Higher End : \n",
"w=9.81;//kN/m^3\n",
"Phead=p1/w;//meter\n",
"Vhead=v1^2/2/g;//meter\n",
"//Lower End : \n",
"w=9.81;//kN/m^3\n",
"//Phead=p1/w;//meter\n",
"Vhead=v2^2/2/g;//meter\n",
"p2=(Z12+v1^2/2/g+p1/w-v2^2/2/g)*w;//kN/m^2(By Bernoulli's theorem)\n",
"disp(p2,'Pressure at the lower end in kN per m^2 : ');"
   ]
   }
,
{
		   "cell_type": "markdown",
		   "metadata": {},
		   "source": [
			"## Example 5.7: Loss_of_head_and_direction_of_flow.sce"
		   ]
		  },
  {
"cell_type": "code",
	   "execution_count": null,
	   "metadata": {
	    "collapsed": true
	   },
	   "outputs": [],
"source": [
"//Example 5.7\n",
"clc;\n",
"clear;\n",
"close;\n",
"format('v',8);\n",
"//Given data :\n",
"Z1=0;//meter\n",
"Z2=5;//meter\n",
"Q=300*10^-3;//m/s\n",
"D1=0.3;//meter\n",
"D2=0.6;//meter\n",
"A1=%pi*D1^2/4;//m^2\n",
"A2=%pi*D2^2/4;//m^2\n",
"v1=Q/A1;//m/s\n",
"v2=Q/A2;//m/s\n",
"p1=100;//kN/m^2\n",
"p2=600;//kN/m^2\n",
"g=9.81;//constant\n",
"Vhead11=v1^2/2/g;//meter\n",
"Vhead22=v2^2/2/g;//meter\n",
"Phead11=p1/g;//meter\n",
"Phead22=p2/g;//meter\n",
"E1_11=Z1+Vhead11+Phead11;//meter\n",
"E2_22=Z2+Vhead22+Phead22;//meter\n",
"if E1_11>E2_22 then\n",
"    disp('Energy at section 1-1('+string(E1_11)+' meter) is greater than energy at section 2-2('+string(E2_22)+' meter). Flow of water is from section 1-1 to 2-2.');\n",
"    HeadLoss=E1_11-E2_22;//meter\n",
"    disp(HeadLoss,'Head Loss in meter : ');\n",
"else\n",
"        disp('Energy at section 2-2('+string(E2_22)+' meter) is greater than energy at section 1-1('+string(E1_11)+' meter). Flow of water is from section 2-2 to 1-1.');  \n",
"            HeadLoss=E2_22-E1_11;//meter\n",
"        disp(HeadLoss,'Head Loss in meter : ');\n",
"end\n",
""
   ]
   }
,
{
		   "cell_type": "markdown",
		   "metadata": {},
		   "source": [
			"## Example 5.8: Find_Loss_of_head.sce"
		   ]
		  },
  {
"cell_type": "code",
	   "execution_count": null,
	   "metadata": {
	    "collapsed": true
	   },
	   "outputs": [],
"source": [
"//Example 5.8\n",
"clc;\n",
"clear;\n",
"close;\n",
"format('v',8);\n",
"//Given data :\n",
"D=400/1000;//meter\n",
"v1=20;//m/s\n",
"Z1=28;//meter\n",
"Z2=31;//meter\n",
"p1=4/10^-4;//kg/m^2\n",
"p2=3/10^-4;//kg/m^2\n",
"g=9.81;//constant\n",
"w=1000;//kg/m^3\n",
"Vhead1=v1^2/2/g;//meter\n",
"Phead1=p1/w;//meter\n",
"Vhead2=Vhead1;//meter\n",
"Phead2=p2/w;//meter\n",
"E1=Z1+Vhead1+Phead1;//meter\n",
"E2=Z2+Vhead2+Phead2;//meter\n",
"HL=E1-E2;//meter\n",
"disp(HL,'Loss of head between P & Q in meter : ');\n",
"        "
   ]
   }
,
{
		   "cell_type": "markdown",
		   "metadata": {},
		   "source": [
			"## Example 5.9: Head_Loss_and_direction_of_flow.sce"
		   ]
		  },
  {
"cell_type": "code",
	   "execution_count": null,
	   "metadata": {
	    "collapsed": true
	   },
	   "outputs": [],
"source": [
"//Example 5.9\n",
"clc;\n",
"clear;\n",
"close;\n",
"format('v',8);\n",
"//Given data :\n",
"Z1=0;//meter\n",
"Z2=4;//meter\n",
"rho=0.8;//sp. gravity\n",
"\n",
"Q=250*10^-3;//m/s or cumec\n",
"D1=250/1000;//meter\n",
"D2=500/1000;//meter\n",
"A1=%pi*D1^2/4;//m^2\n",
"A2=%pi*D2^2/4;//m^2\n",
"v1=Q/A1;//m/s\n",
"v2=Q/A2;//m/s\n",
"p1=0.1*10^3;//N/m^2\n",
"p2=0.06*10^3;//N/m^2\n",
"g=9.81;//constant\n",
"Vhead1=v1^2/2/g;//meter\n",
"Phead1=p1/rho/g;//meter\n",
"Vhead2=v2^2/2/g;//meter\n",
"Phead2=p2/rho/g;//meter\n",
"H1=Z1+Vhead1+Phead1;//meter\n",
"H2=Z2+Vhead2+Phead2;//meter\n",
"if H1>H2 then\n",
"    disp('Total head at A('+string(H1)+' meter) is greater than total head at B('+string(H2)+' meter). Flow will take place from A-B.');\n",
"    HeadLoss=H1-H2;//meter\n",
"    disp(HeadLoss,'Head Loss in meter : ');\n",
"else\n",
"    disp('Total head at B('+string(H2)+' meter) is greater than total head at A('+string(H1)+' meter). Flow will take place from B-A.');\n",
"    HeadLoss=H2-H1;//meter\n",
"    disp(HeadLoss,'Head Loss in meter : ');end\n",
"        "
   ]
   }
],
"metadata": {
		  "kernelspec": {
		   "display_name": "Scilab",
		   "language": "scilab",
		   "name": "scilab"
		  },
		  "language_info": {
		   "file_extension": ".sce",
		   "help_links": [
			{
			 "text": "MetaKernel Magics",
			 "url": "https://github.com/calysto/metakernel/blob/master/metakernel/magics/README.md"
			}
		   ],
		   "mimetype": "text/x-octave",
		   "name": "scilab",
		   "version": "0.7.1"
		  }
		 },
		 "nbformat": 4,
		 "nbformat_minor": 0
}
