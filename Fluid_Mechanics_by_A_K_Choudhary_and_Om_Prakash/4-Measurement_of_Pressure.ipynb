{
"cells": [
 {
		   "cell_type": "markdown",
	   "metadata": {},
	   "source": [
       "# Chapter 4: Measurement of Pressure"
	   ]
	},
{
		   "cell_type": "markdown",
		   "metadata": {},
		   "source": [
			"## Example 4.10: Pressure_difference_between_two_vessels.sce"
		   ]
		  },
  {
"cell_type": "code",
	   "execution_count": null,
	   "metadata": {
	    "collapsed": true
	   },
	   "outputs": [],
"source": [
"//Example 4.10\n",
"clc;\n",
"clear;\n",
"close;\n",
"format('v',9);\n",
"//Given data :\n",
"S1=0.81;//sp. gravity\n",
"S2=1.2;//sp. gravity\n",
"S3=13.6;//sp. gravity\n",
"h3=200/1000;//m\n",
"h2=50/1000;//m\n",
"h1=100/1000;//m\n",
"w=1000;//kg/m^3\n",
"pAB=((h1*(S2-S1)+h2*(S3-S1)-h3*S1))*w;//Kg/m^2\n",
"disp(pAB,'Pressure difference between the two vessel in kg/m^2: ');"
   ]
   }
,
{
		   "cell_type": "markdown",
		   "metadata": {},
		   "source": [
			"## Example 4.11: Difference_of_pressure_between_two_vessels.sce"
		   ]
		  },
  {
"cell_type": "code",
	   "execution_count": null,
	   "metadata": {
	    "collapsed": true
	   },
	   "outputs": [],
"source": [
"//Example 4.11\n",
"clc;\n",
"clear;\n",
"close;\n",
"format('v',9);\n",
"//Given data :\n",
"S1=1.9;//sp. gravity\n",
"S2=1.2;//sp. gravity\n",
"S3=0.79;//sp. gravity\n",
"h2=545/1000;//m\n",
"h1=750/1000;//m\n",
"h3=h1-h2;//m\n",
"w=1000*9.81;//N/m^3\n",
"pAB=(h1*S1-h2*S2-h3*S3)*w;//N/m^2\n",
"disp(pAB,'Pressure difference between the two vessel in N/m^2: ');"
   ]
   }
,
{
		   "cell_type": "markdown",
		   "metadata": {},
		   "source": [
			"## Example 4.12: Pressure_difference_between_vessels.sce"
		   ]
		  },
  {
"cell_type": "code",
	   "execution_count": null,
	   "metadata": {
	    "collapsed": true
	   },
	   "outputs": [],
"source": [
"//Example 4.12\n",
"clc;\n",
"clear;\n",
"close;\n",
"format('v',9);\n",
"//Given data :\n",
"S1=0.005;//sp. gravity\n",
"S2=0.79;//sp. gravity\n",
"S3=13.6;//sp. gravity\n",
"h=30/1000;//m\n",
"w=1000*9.81;//N/m^3\n",
"pAB=h*(S3-S2)*w;//N/m^2\n",
"disp(pAB,'Pressure difference between the two vessel in N/m^2: ');"
   ]
   }
,
{
		   "cell_type": "markdown",
		   "metadata": {},
		   "source": [
			"## Example 4.13: Reading_of_manometer.sce"
		   ]
		  },
  {
"cell_type": "code",
	   "execution_count": null,
	   "metadata": {
	    "collapsed": true
	   },
	   "outputs": [],
"source": [
"//Example 4.13\n",
"clc;\n",
"clear;\n",
"close;\n",
"format('v',4);\n",
"//Given data :\n",
"S1=1.25;//sp. gravity\n",
"S2=1.05;//sp. gravity\n",
"S3=0.79;//sp. gravity\n",
"h=30/1000;//m\n",
"w=1000;//kg/m^3\n",
"//pA=pB\n",
"h=(0.15*w*S2-S1*w*0.15)/(S3*w-w*S2);//m\n",
"h=h*1000;//mm\n",
"disp(h,'Reading of manometer in mm : ');"
   ]
   }
,
{
		   "cell_type": "markdown",
		   "metadata": {},
		   "source": [
			"## Example 4.14: Difference_of_pressure.sce"
		   ]
		  },
  {
"cell_type": "code",
	   "execution_count": null,
	   "metadata": {
	    "collapsed": true
	   },
	   "outputs": [],
"source": [
"//Example 4.14\n",
"clc;\n",
"clear;\n",
"close;\n",
"format('v',9);\n",
"//Given data :\n",
"S1=1;//sp. gravity of water\n",
"S2=1;//sp. gravity of water\n",
"S3=0.9;//sp. gravity of oil\n",
"h3=100/1000;//meter\n",
"w=9.81*1000;//N/m^3\n",
"pAB=w*(h3-h3*S3);//N/m^2\n",
"disp(pAB,'Difference of pressure in N/m^2 or Pa : ');"
   ]
   }
,
{
		   "cell_type": "markdown",
		   "metadata": {},
		   "source": [
			"## Example 4.1: Gauge_units_and_absolute_units.sce"
		   ]
		  },
  {
"cell_type": "code",
	   "execution_count": null,
	   "metadata": {
	    "collapsed": true
	   },
	   "outputs": [],
"source": [
"//Example 4.1\n",
"clc;\n",
"clear;\n",
"close;\n",
"format('v',9);\n",
"//Given data :\n",
"p=5;//kg/cm^2\n",
"disp('Gauge units : ');\n",
"disp(p/10^-4,'Pressure Intensity in kg/m^2 : ');\n",
"g=9.81;//gravity constant\n",
"disp(p*g/10^-4,'Pressure Intensity in N/m^2 : ');\n",
"disp(p*g/10^-4,'Pressure Intensity in Pa : ');\n",
"disp(p*g/10^3/10^-4,'Pressure Intensity in kPa : ');\n",
"disp(p*g/10^6/10^-4,'Pressure Intensity in MPa : ');\n",
"disp('In terms of head : ');\n",
"w=1000;//kg/m^3 for water\n",
"h=p*10^4/w;//meter of water\n",
"disp('Pressure is  : '+string(h)+' meter of water.');\n",
"w=13.6*1000;//kg/m^3 for mercury\n",
"h=p*10^4/w;//meter of mercury\n",
"disp('Pressure is  : '+string(h)+' meter of mercury.');\n",
"disp('Absolute units : ');\n",
"Patm=760;//mm of mercury\n",
"Patm=760*13.6/1000;//m of water\n",
"Patm=Patm*1000;//kg/m^2\n",
"Pabs=p+Patm;//kg/m^2\n",
"disp(Pabs,'Absolute pressure in kg/m^2 : ');\n",
"disp(Pabs*10^4,'Absolute pressure in kg/cm^2 : ');\n",
"disp(Pabs*10^4*g,'Absolute pressure in N/m^2 : ');\n",
"disp(Pabs*10^4*g,'Absolute pressure in Pa : ');\n",
"disp(Pabs*10^5/10^3,'Absolute pressure in kPa : ');\n",
"disp(Pabs*10^5/10^6,'Absolute pressure in MPa : ');\n",
"h1=p*10^4/w;//meter of water\n",
"h2=p*10^4/1000;//meter of water\n",
"h=h1+h2;////meter of water\n",
"disp(h,'Absolute pressure head in terms of water in meter : ');\n",
"w=13.6*1000;//kg/m^3 for mercury\n",
"h=p*10^4/w+760/1000;//meter of mercury\n",
"disp(h,'Absolute pressure head in terms of mercury in meter : ');"
   ]
   }
,
{
		   "cell_type": "markdown",
		   "metadata": {},
		   "source": [
			"## Example 4.2: Pressure_intensity_and_tube_reading.sce"
		   ]
		  },
  {
"cell_type": "code",
	   "execution_count": null,
	   "metadata": {
	    "collapsed": true
	   },
	   "outputs": [],
"source": [
"//Example 4.2\n",
"clc;\n",
"clear;\n",
"close;\n",
"format('v',9);\n",
"//Given data :\n",
"w=1000;//kg/m^3\n",
"h=50/1000;//m\n",
"p=w*h;//kg/m^2\n",
"p=p*9.81;//N/m^2 or Pa\n",
"disp(p,'Pressure Intensity in Pa : ');\n",
"alfa=30;//degree\n",
"h=50;//mm\n",
"l=h/sind(alfa);//mm\n",
"disp(l,'Reading in tube in mm : ');"
   ]
   }
,
{
		   "cell_type": "markdown",
		   "metadata": {},
		   "source": [
			"## Example 4.3: Convert_pressure_head.sce"
		   ]
		  },
  {
"cell_type": "code",
	   "execution_count": null,
	   "metadata": {
	    "collapsed": true
	   },
	   "outputs": [],
"source": [
"//Example 4.3\n",
"clc;\n",
"clear;\n",
"close;\n",
"format('v',7);\n",
"//Given data :\n",
"S1=13.6;//sp. gravity of mercury\n",
"S2=1;//sp. gravity of water\n",
"H1=5;//m\n",
"H2=S1*H1/S2;//m\n",
"disp('(i) Pressure is '+string(H2)+' meter of water.');\n",
"S2=0.79;//sp. gravity of kerpsene\n",
"H1=5;//m\n",
"H2=S1*H1/S2;//m\n",
"disp('(ii) Pressure is '+string(H2)+' meter of kerosene.');\n",
"S2=1.7;//sp. gravity of fluid\n",
"H1=5;//m\n",
"H2=S1*H1/S2;//m\n",
"disp('(iii) Pressure is '+string(H2)+' meter of fluid.');"
   ]
   }
,
{
		   "cell_type": "markdown",
		   "metadata": {},
		   "source": [
			"## Example 4.4: Pressure_in_the_tribe.sce"
		   ]
		  },
  {
"cell_type": "code",
	   "execution_count": null,
	   "metadata": {
	    "collapsed": true
	   },
	   "outputs": [],
"source": [
"//Example 4.4\n",
"clc;\n",
"clear;\n",
"close;\n",
"format('v',7);\n",
"//Given data :\n",
"S=0.9;//sp. gravity of liquid\n",
"Sm=13.6;//sp. gravity of mercury\n",
"S1=Sm/S;//sp. gravity\n",
"w=S*9.81;//kN/m^3\n",
"h2=500/1000;//m\n",
"h1=300/1000;//m\n",
"a_BY_A=1/80;//ratio of area\n",
"pa=w*(h2*[(S1-1)*a_BY_A+S1]-h1);//kPa\n",
"disp(pa,'Pressure in the pipe in kPa: ');"
   ]
   }
,
{
		   "cell_type": "markdown",
		   "metadata": {},
		   "source": [
			"## Example 4.5: Pressure_intensity_of_liquid.sce"
		   ]
		  },
  {
"cell_type": "code",
	   "execution_count": null,
	   "metadata": {
	    "collapsed": true
	   },
	   "outputs": [],
"source": [
"//Example 4.5\n",
"clc;\n",
"clear;\n",
"close;\n",
"format('v',8);\n",
"//Given data :\n",
"S1=1.2;//sp. gravity\n",
"S2=13.6;//sp. gravity\n",
"w=1000;//kg/m^3\n",
"h2=50/1000;//m\n",
"h1=200/1000;//m\n",
"pa=w*(S2*h1-S1*h2);//kg/m^2\n",
"disp(pa,'Pressure in the pipe in kg/m^2: ');\n",
"disp(pa*9.81,'Pressure in the pipe in Pa: ');"
   ]
   }
,
{
		   "cell_type": "markdown",
		   "metadata": {},
		   "source": [
			"## Example 4.6: calculate_Pressure_intensity.sce"
		   ]
		  },
  {
"cell_type": "code",
	   "execution_count": null,
	   "metadata": {
	    "collapsed": true
	   },
	   "outputs": [],
"source": [
"//Example 4.6\n",
"clc;\n",
"clear;\n",
"close;\n",
"format('v',8);\n",
"//Given data :\n",
"S=1;//sp. gravity\n",
"w=1000;//kg/m^3\n",
"h2=50/1000;//m\n",
"h1=200/1000;//m\n",
"pa=w*S*(h1-h2);//kg/m^2\n",
"disp(pa,'Pressure in the pipe in kg/m^2: ');\n",
"disp(pa*9.81,'Pressure in the pipe in Pa: ');"
   ]
   }
,
{
		   "cell_type": "markdown",
		   "metadata": {},
		   "source": [
			"## Example 4.7: Calculate_pressure_intensity.sce"
		   ]
		  },
  {
"cell_type": "code",
	   "execution_count": null,
	   "metadata": {
	    "collapsed": true
	   },
	   "outputs": [],
"source": [
"//Example 4.7\n",
"clc;\n",
"clear;\n",
"close;\n",
"format('v',9);\n",
"//Given data :\n",
"S1=0.005;//sp. gravity\n",
"S2=1;//sp. gravity\n",
"Patm=1.014*10^5;//Pa\n",
"h=50/1000;//m\n",
"w=1000;//kg/m^3\n",
"pa=-w*S2*h;//kg/m^2\n",
"Pabs=pa*9.81+Patm;//\n",
"disp(abs(pa*9.81),'Pressure intensity of gas in Pa(Vaccum): ');\n",
"disp(Pabs,'Absolute pressure in the pipe in Pa: ');"
   ]
   }
,
{
		   "cell_type": "markdown",
		   "metadata": {},
		   "source": [
			"## Example 4.8: Difference_of_pressure_head.sce"
		   ]
		  },
  {
"cell_type": "code",
	   "execution_count": null,
	   "metadata": {
	    "collapsed": true
	   },
	   "outputs": [],
"source": [
"//Example 4.8\n",
"clc;\n",
"clear;\n",
"close;\n",
"format('v',9);\n",
"//Given data :\n",
"S1=0.9;//sp. gravity\n",
"S2=13.6;//sp. gravity\n",
"h1=12.5/100;//m\n",
"P_AB=h1*(S2-S1);//meter of water\n",
"disp('Difference in pressure head at the points A & B is '+string(P_AB)+' meter of water');\n",
"w=1000;//kg/m^3\n",
"P_diff=P_AB*w*9.81;//Pa or Nm^2\n",
"disp(P_diff,'In terms A pressure entirely, the difference of pressure in N/m^2 : ');"
   ]
   }
,
{
		   "cell_type": "markdown",
		   "metadata": {},
		   "source": [
			"## Example 4.9: Difference_of_Pressure.sce"
		   ]
		  },
  {
"cell_type": "code",
	   "execution_count": null,
	   "metadata": {
	    "collapsed": true
	   },
	   "outputs": [],
"source": [
"//Example 4.9\n",
"clc;\n",
"clear;\n",
"close;\n",
"format('v',9);\n",
"//Given data :\n",
"S1=1;//sp. gravity\n",
"S2=13.6;//sp. gravity\n",
"h1=120/1000;//m\n",
"P_diff=h1*(S2-S1);//meter of water\n",
"disp('Difference in pressure head is '+string(P_diff)+' meter of water');\n",
"w=1000;//kg/m^3\n",
"P_diff=P_diff*w*9.81;//Pa or Nm^2\n",
"disp(P_diff,'In terms of pressure intensity, the difference of pressure in N/m^2 : ');"
   ]
   }
],
"metadata": {
		  "kernelspec": {
		   "display_name": "Scilab",
		   "language": "scilab",
		   "name": "scilab"
		  },
		  "language_info": {
		   "file_extension": ".sce",
		   "help_links": [
			{
			 "text": "MetaKernel Magics",
			 "url": "https://github.com/calysto/metakernel/blob/master/metakernel/magics/README.md"
			}
		   ],
		   "mimetype": "text/x-octave",
		   "name": "scilab",
		   "version": "0.7.1"
		  }
		 },
		 "nbformat": 4,
		 "nbformat_minor": 0
}
