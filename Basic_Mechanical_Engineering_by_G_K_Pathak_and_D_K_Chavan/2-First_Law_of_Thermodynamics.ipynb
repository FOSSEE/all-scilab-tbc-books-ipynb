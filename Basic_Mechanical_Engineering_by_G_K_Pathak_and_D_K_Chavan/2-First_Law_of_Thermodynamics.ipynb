{
"cells": [
 {
		   "cell_type": "markdown",
	   "metadata": {},
	   "source": [
       "# Chapter 2: First Law of Thermodynamics"
	   ]
	},
{
		   "cell_type": "markdown",
		   "metadata": {},
		   "source": [
			"## Example 2.11: The_power_capacity.sce"
		   ]
		  },
  {
"cell_type": "code",
	   "execution_count": null,
	   "metadata": {
	    "collapsed": true
	   },
	   "outputs": [],
"source": [
"clc\n",
"clear\n",
"//Input data\n",
"E1=4000;//Enthalpy at entrance in kJ/Kg\n",
"E2=4100;//Enthalpy at exit in kJ/kg\n",
"V1=50;//Velocity at entrance in m/s\n",
"V2=20;//Velocity at exit in m/s\n",
"h1=50;//Height at the entrance \n",
"h2=10;//Height at the exit\n",
"m=1;//mass flow rate to the system in kJ/s\n",
"Q=200;//Heat transfer rate to the system in kJ/s\n",
"g=9.8;//Gravitational constant in m/s^2\n",
"\n",
"//Calculations\n",
"P=m*(((V1^2-V2^2)/(2000))+(g*(h2-h1)/1000)+(E1-E2))+Q;//Power capacity of the system in kW\n",
"printf('Power capacity of the system P = %3.4f kW ',P)"
   ]
   }
,
{
		   "cell_type": "markdown",
		   "metadata": {},
		   "source": [
			"## Example 2.12: The_specific_intenal_energy.sce"
		   ]
		  },
  {
"cell_type": "code",
	   "execution_count": null,
	   "metadata": {
	    "collapsed": true
	   },
	   "outputs": [],
"source": [
"clc\n",
"clear\n",
"//Input data\n",
"W=135;//Work done by the system in kJ/kg\n",
"V1=0.37;//Specific volume of fluid at inlet in m^3/kg\n",
"V2=0.62;//Specific volume of fluid at outlet in m^3/kg\n",
"P1=600;//Pressure at the inlet in kPa\n",
"P2=100;//Pressure at the outlet in kPa\n",
"C1=16;//Velocity at the inlet in m/s\n",
"C2=270;//Velocity at the outlet in m/s\n",
"Z1=32;//Inlet height from floor level in m\n",
"Z2=0;//Outlet height from floor level in m\n",
"q=-9;//Heat loss between inlet and discharge in kJ/kg\n",
"g=9.81;//Gravitational constant in m/s^2\n",
"\n",
"//Calculations\n",
"U=((C2^2-C1^2)/2000)+(g*(Z2-Z1))/1000+(P2*V2-P1*V1)+W-q;//Change in specific internal energy of the system in kJ/kg\n",
"\n",
"//Output\n",
"printf('Specific Internal Energy decreases by %3.3f kJ/kg ',U)"
   ]
   }
,
{
		   "cell_type": "markdown",
		   "metadata": {},
		   "source": [
			"## Example 2.13: The_power_capacity.sce"
		   ]
		  },
  {
"cell_type": "code",
	   "execution_count": null,
	   "metadata": {
	    "collapsed": true
	   },
	   "outputs": [],
"source": [
"clc\n",
"clear\n",
"//Input data\n",
"m=5;//Rate of fluid flow in the system in kg/s\n",
"P1=620;//Pressure at the entrance in kPa\n",
"P2=130;//Pressure at the exit in kPa\n",
"C1=300;//Velocity at the entrance in m/s\n",
"C2=150;//Velocity at the exit in m/s\n",
"U1=2100;//Internal energy at the entrance in kJ/kg\n",
"U2=1500;//Internal energy at the exit in kJ/kg\n",
"V1=0.37;//Specific volume at entrance in m^3/kg\n",
"V2=1.2;//Specific volume at exit in m^3/kg\n",
"Q=-30;//Heat loss in the system during flow in kJ/kg\n",
"Z=0;//Change in potential energy is neglected in m\n",
"g=9.81;//Gravitational constant in m/s^2\n",
"\n",
"//Calculations\n",
"W=((C1^2-C2^2)/(2*1000))+(g*Z)+(U1-U2)+(P1*V1-P2*V2)+Q;//Total work done in the system in kJ/kg\n",
"P=W*m;//Power capacity of the system in kW\n",
"\n",
"//Output\n",
"printf('(a)Total work done in the system W = %3.2f kJ/kg \n (b)Power capacity of the system P = %3.2f kW ',W,P)"
   ]
   }
,
{
		   "cell_type": "markdown",
		   "metadata": {},
		   "source": [
			"## Example 2.14: The_power_required.sce"
		   ]
		  },
  {
"cell_type": "code",
	   "execution_count": null,
	   "metadata": {
	    "collapsed": true
	   },
	   "outputs": [],
"source": [
"clc\n",
"clear\n",
"P1=100;//Pressure at Inlet in kPa\n",
"P2=500;//Pressure at Exit in kPa\n",
"V1=0.6;//Specific volume at Inlet in m^3/kg\n",
"V2=0.15;//Specific volume at Exit in m^3/kg\n",
"U1=50;//Specific internal energy at inlet in kJ/kg\n",
"U2=125;//Specific internal energy at Exit in kJ/kg\n",
"C1=8;//Velocity of air at Inlet in m/s\n",
"C2=4;//Velocity of air at Exit in m/s\n",
"m=5;//Mass flow rate of air in kg/s\n",
"Q=-45;//Heat rejected to cooling water in kW\n",
"Z=0;//Change in potential energy is neglected in m\n",
"g=9.81;//Gravitational constant in m/s^2\n",
"\n",
"//Calculations\n",
"P=m*(((C1^2-C2^2)/(2*1000))+(g*Z)+(U1-U2)+(P1*V1-P2*V2))+Q;//Power required to drive the compressor in kW\n",
"P1=-P;//Power required to drive the compressor in kW\n",
"\n",
"//Output\n",
"printf('The power required to drive the compressor P = %3.2f kW ',P1)"
   ]
   }
,
{
		   "cell_type": "markdown",
		   "metadata": {},
		   "source": [
			"## Example 2.15: The_power_developed.sce"
		   ]
		  },
  {
"cell_type": "code",
	   "execution_count": null,
	   "metadata": {
	    "collapsed": true
	   },
	   "outputs": [],
"source": [
"clc\n",
"clear\n",
"//Input data\n",
"m1=5000;//Steam flow rate in kg/hr\n",
"Q1=-250;//Heat loss from the turbine insulation to surroundings in kj/min\n",
"C1=40;//Velocity of steam at entrance in m/s\n",
"h1=2500;//Enthalpy of the steam at entrance in kJ/kg\n",
"C2=90;//Velocity of the steam at the Exit in m/s\n",
"h2=2030;//Enthalpy of the steam at exit in kj/kg\n",
"Z=0;//Change in potential energy is neglected in m\n",
"g=9.81;//Gravitational constant in m/s^2\n",
"\n",
"//Calculations\n",
"m=m1/3600;//Steam flow rate in kg/s\n",
"Q=Q1/60;//Heat loss from the turbine to the surroundings\n",
"P=m*(((C1^2-C2^2)/(2*1000))+(g*Z)+(h1-h2))+Q;//Power developed by the turbine in kW\n",
"\n",
"//Output\n",
"printf('The power developed by the turbine P = %3.3f kW ',P)"
   ]
   }
,
{
		   "cell_type": "markdown",
		   "metadata": {},
		   "source": [
			"## Example 2.16: The_work_output.sce"
		   ]
		  },
  {
"cell_type": "code",
	   "execution_count": null,
	   "metadata": {
	    "collapsed": true
	   },
	   "outputs": [],
"source": [
"clc\n",
"clear\n",
"//Input data \n",
"c1=16;//Velocity of steam at entrance in m/s\n",
"c2=37;//Velocity of steam at exit in m/s\n",
"h1=2990;//Specific enthalpy of steam at entrance in kJ/kg\n",
"h2=2530;//Specific enthalpy of steam at exit in kJ/kg\n",
"Q=-25;//Heat lost to the surroundings in kJ/kg\n",
"m1=360000;//The steam flow rate in kg/hr\n",
"\n",
"//Calculations\n",
"m=m1/3600;//The steam flow rate in kg/s\n",
"W=(((c1^2-c2^2)/(2*1000))+(h1-h2))+Q;//Total work done in the system in kJ/kg\n",
"P=m*W;//Power developed by the turbine in kW\n",
"//Output\n",
"printf('The work output from the turbine P = %3.1f kW ',P)"
   ]
   }
,
{
		   "cell_type": "markdown",
		   "metadata": {},
		   "source": [
			"## Example 2.17: The_external_work_output.sce"
		   ]
		  },
  {
"cell_type": "code",
	   "execution_count": null,
	   "metadata": {
	    "collapsed": true
	   },
	   "outputs": [],
"source": [
"clc\n",
"clear\n",
"//Input data\n",
"p1=720;//Pressure at the entrance in kPa\n",
"t1=850;//Temperature at the entrance in degree centigrade \n",
"c1=160;//Velocity of the gas at entrance in m/s\n",
"Q=0;//Insulation (adiabatic turbine)\n",
"P2=115;//Pressure at the exit in kPa\n",
"t2=450;//Temperature at the exit in degree centigrade\n",
"c2=250;//Velocity of the gas at exit in m/s\n",
"cp=1.04;//Specific heat of gas at constant pressure in kJ/kg-K\n",
"\n",
"//Calculations\n",
"H=cp*(t1-t2);//Change in Enthalpy of the gas at entrance and exit in kJ/kg\n",
"W=((c1^2-c2^2)/(2*1000))+(H);//External work output of the turbine in kJ/kg\n",
"\n",
"//Output\n",
"printf('The external work output of the turbine W = %3.2f kJ/kg ',W)"
   ]
   }
,
{
		   "cell_type": "markdown",
		   "metadata": {},
		   "source": [
			"## Example 2.18: The_work_done_and_mass_flow_rate.sce"
		   ]
		  },
  {
"cell_type": "code",
	   "execution_count": null,
	   "metadata": {
	    "collapsed": true
	   },
	   "outputs": [],
"source": [
"clc\n",
"clear\n",
"//Input data\n",
"p=5000;//Power output of an adiabatic steam turbine in kW\n",
"p1=2000;//Pressure at the inlet in kPa\n",
"p2=0.15;//Pressure at the exit in bar\n",
"t1=400;//temperature at the inlet in degree centigrade\n",
"x=0.9;//Dryness at the exit\n",
"c1=50;//Velocity at the inlet in m/s\n",
"c2=180;//Velocity at the exit in m/s\n",
"z1=10;//Elevation at inlet in m\n",
"z2=6;//Elevation at exit in m\n",
"h1=3248.7;//Enthalpy at the inlet from the steam table corresponding to and 20 bar in kJ/kg\n",
"hf=226;//Enthalpy at exit at 0.15 bar from steam tables in kJ/kg\n",
"hfg=2373.2;//Enthalpy at exit at 0.15 bar from steam tables in kJ/kg\n",
"g=9.81;//Gravitational constant in m/s^2\n",
"\n",
"//Calculations\n",
"h2=hf+(x*hfg);//Enthalpy at the exit in kJ/kg\n",
"W=(h1-h2)+((c1^2-c2^2)/(2*1000))+((g*(z1-z2))/1000);//Work done in the system in kJ/kg\n",
"m=p/W;//Mass flow rate of the steam \n",
"\n",
"//Output\n",
"printf('(a)The work done per unit mass of the steam flowing through turbine W = %3.2f kJ/kg \n (b)The mass flow rate of the steam m = %3.3f kg/s ',W,m)"
   ]
   }
,
{
		   "cell_type": "markdown",
		   "metadata": {},
		   "source": [
			"## Example 2.19: The_power_output.sce"
		   ]
		  },
  {
"cell_type": "code",
	   "execution_count": null,
	   "metadata": {
	    "collapsed": true
	   },
	   "outputs": [],
"source": [
"clc\n",
"clear\n",
"p1=1000;//Pressure at the inlet in kPa\n",
"t1=750;//Temperature at the inlet in K\n",
"c1=200;//Velocity at the inlet in m/s\n",
"p2=125;//Pressure at the exit in kPa\n",
"c2=40;//Velocity at the exit in m/s\n",
"m1=1000;//Mass flow rate of air in kg/hr\n",
"cp=1.053;//Specific heat at constant pressure in kJ/kgK\n",
"k=1.375;//Adiabatic index\n",
"Q=0;//The turbine is adiabatic\n",
"\n",
"//Calculations\n",
"m=m1/3600;//The mass flow rate of air in kg/s\n",
"P=p2/p1;//Ratio of the pressure\n",
"t2=t1*((p2/p1)^((k-1)/k));//Temperature of air at exit in K\n",
"h=cp*(t2-t1);//Change in enthalpy of the system in kJ\n",
"p=m*(((c2^2-c1^2)/(2*1000))+h);//Power output of the turbine in kW\n",
"p1=-p;//Power output of the turbine in kW\n",
"\n",
"//Output\n",
"printf('(a)Temperature of air at exit t2 = %3.3f K \n (b)The power output of the turbine P = %3.3f kW ',t2,p1)"
   ]
   }
,
{
		   "cell_type": "markdown",
		   "metadata": {},
		   "source": [
			"## Example 2.1: The_net_work.sce"
		   ]
		  },
  {
"cell_type": "code",
	   "execution_count": null,
	   "metadata": {
	    "collapsed": true
	   },
	   "outputs": [],
"source": [
"clc\n",
"clear\n",
"//Input data\n",
"h1=60;//The heat transfer in the process in kJ\n",
"h2=-8;//The heat transfer in the process in kJ\n",
"h3=-34;//The heat transfer in the process in kJ\n",
"h4=6;//The heat transfer in the process in kJ\n",
"\n",
"//Calculations\n",
"Q=h1+h2+h3+h4;//Net work transfer in a cycle in kJ\n",
"\n",
"//Output\n",
"printf('Net work transfer in a cycle Q = %3.0f kJ ',Q)"
   ]
   }
,
{
		   "cell_type": "markdown",
		   "metadata": {},
		   "source": [
			"## Example 2.20: The_ratio_of_pipe_diameter.sce"
		   ]
		  },
  {
"cell_type": "code",
	   "execution_count": null,
	   "metadata": {
	    "collapsed": true
	   },
	   "outputs": [],
"source": [
"clc\n",
"clear\n",
"//Input data\n",
"c1=7;//Velocity of air at entrance in m/s\n",
"c2=5;//Velocity of air at exit in m/s\n",
"p1=100;//Pressure at the entrance in kPa\n",
"p2=700;//Pressure at the exit in kPa\n",
"v1=0.95;//Specific volume at entrance in m^3/kg\n",
"v2=0.19;//Specific volume at exit in m^3/kg\n",
"u=90;//Change in internal energy of the air entering and leaving in kJ/kg\n",
"z=0;//Potential energy is neglected \n",
"Q=-58;//Heat rejected to the surroundings in kW\n",
"m=0.5;//The rate at which air flow in kg/s\n",
"g=9.81;//Gravitational constant in m/s^2\n",
"\n",
"//Calculations\n",
"P=m*([(c1^2-c2^2)/(2000)]+(p1*v1-p2*v2)-u)+(Q);//The rate of work input to the air in kW\n",
"A=(v1*c2)/(v2*c1);//From continuity equation the ratio of areas\n",
"D=A^(1/2);//The ratio of inlet pipe diameter to the outlet pipe diameter\n",
"\n",
"//Output\n",
"printf('(a)The rate of work input to the air P = %3.3f kW \n (b)The ratio of inlet pipe diameter to the outlet pipe diameter D = %3.2f ',P,D)"
   ]
   }
,
{
		   "cell_type": "markdown",
		   "metadata": {},
		   "source": [
			"## Example 2.21: The_nozzle.sce"
		   ]
		  },
  {
"cell_type": "code",
	   "execution_count": null,
	   "metadata": {
	    "collapsed": true
	   },
	   "outputs": [],
"source": [
"clc\n",
"clear\n",
"//Input data\n",
"h1=3000;//Enthalpy of the fluid passing at inlet in kJ/kg\n",
"h2=2757;//Enthalpy of the fluid at the discharge in kJ/kg\n",
"c1=60;//Velocity of the fluid at inlet in m/s\n",
"A1=0.1;//Inlet area of the nozzle in m^2\n",
"v1=0.187;//Specific volume at inlet in m^3/kg\n",
"v2=0.498;//Specific volume at the outlet in m^3/kg\n",
"q=0;//Heat loss during the flow is negligable\n",
"z=0;//The nozzle is horizontal so change in PE is constant\n",
"w=0;//The work done is also negligable\n",
"\n",
"//Calculations\n",
"c2=[2*1000*((h1-h2)+(c1^2/2000))]^(1/2);//Velocity at the exit in m/s\n",
"m=(A1*c1)/v1;//The mass flow rate in kg/s\n",
"A2=(m*v2)/c2;//Area at the exit of the nozzle in m^3\n",
"\n",
"//Output\n",
"printf('(a)The velocity at the exit c2 = %3.2f m/s \n (b)The mass flow rate m = %3.2f kg/s \n (c)Area at the exit A2 = %3.4f m^2 ',c2,m,A2)"
   ]
   }
,
{
		   "cell_type": "markdown",
		   "metadata": {},
		   "source": [
			"## Example 2.22: Velocity_and_Exit_area.sce"
		   ]
		  },
  {
"cell_type": "code",
	   "execution_count": null,
	   "metadata": {
	    "collapsed": true
	   },
	   "outputs": [],
"source": [
"clc\n",
"clear\n",
"//Input data\n",
"h1=3000;//Specific enthalpy of steam at inlet in kJ/kg\n",
"h2=2762;//Specific enthalpy of steam at the outlet in kJ/kg\n",
"v1=0.187;//Specific volume of steam at inlet in m^3/kg\n",
"v2=0.498;//Specific volume of steam at the outlet in m^3/kg\n",
"A1=0.1;//Area at the inlet in m^2\n",
"q=0;//There is no heat loss\n",
"z=0;//The nozzle is horizontal ,so no change in PE\n",
"c1=60;//Velocity of the steam at the inlet in m/s\n",
"\n",
"//Calculations\n",
"c2=[(2*1000)*((h1-h2)+(c1^2/2000))]^(1/2);//Velocity of the steam at the outlet in m/s\n",
"m=(A1*c1)/v1;//Mass flow rate of steam in kg/s\n",
"m1=m*3600;//Mass flow rate of steam in kg/hr\n",
"A2=(m*v2)/c2;//Area at the nozzle exit in m^2\n",
"\n",
"//Output\n",
"printf('(a)Velocity of the steam at the outlet c2 = %3.2f m/s \n (b)Mass flow rate of steam m = %3.3f kg/s  (or) %3.2f kg/hr \n (c)Area at the nozzle exit A2 = %3.4f m^2 ',c2,m,m1,A2)"
   ]
   }
,
{
		   "cell_type": "markdown",
		   "metadata": {},
		   "source": [
			"## Example 2.23: The_exit_velocity.sce"
		   ]
		  },
  {
"cell_type": "code",
	   "execution_count": null,
	   "metadata": {
	    "collapsed": true
	   },
	   "outputs": [],
"source": [
"clc\n",
"clear\n",
"//Input data\n",
"c1=40;//Velocity of air at the inlet of nozzle in m/s\n",
"h=180;//The decrease in enthalpy in the nozzle in kJ/kg\n",
"w=0;//Since adiabatic\n",
"q=0;//Since adiabatic\n",
"z=0;//Since adiabatic\n",
"\n",
"//Calculations\n",
"c2=[(2*1000)*((h)+(c1^2/(2*1000)))]^(1/2);//The exit velocity of air in m/s\n",
"\n",
"//Output\n",
"printf('The exit velocity of the air C2 = %3.2f m/s ',c2)"
   ]
   }
,
{
		   "cell_type": "markdown",
		   "metadata": {},
		   "source": [
			"## Example 2.24: The_shaft_power.sce"
		   ]
		  },
  {
"cell_type": "code",
	   "execution_count": null,
	   "metadata": {
	    "collapsed": true
	   },
	   "outputs": [],
"source": [
"clc\n",
"clear\n",
"//Input data\n",
"p1=100;//Pressure at the inlet of the compressor in kPa\n",
"p2=500;//Pressure at the outlet of the compressor in kPa\n",
"v1=3;//Volume of the air at the inlet of the compressor in m^3/kg\n",
"v2=0.8;//Volume of the air at the outlet of the compressor in m^3/kg\n",
"c1=25;//The velocity of air at the inlet of the compressor in m/s\n",
"c2=130;//The velocity of air at the outlet of the compressor in m/s\n",
"z=12;//The height of delivery connection above the inlet in m\n",
"g=9.81;//Gravitational constant in m/s^2\n",
"n=1.3;//Polytropic index\n",
"\n",
"//Calculations\n",
"W=[(n)*(p1*v1-p2*v2)]/(n-1);//Workdone for open system polytropic process in kJ/kg\n",
"K=[(c2^2-c1^2)/2000];//Change in kinetic energy of the system in kJ/kg\n",
"P=g*(z)/1000;//Change in potential energy of the system in kJ/kg\n",
"w=W-K-P;//The shaft work of the compressor in kJ/kg\n",
"\n",
"//Output\n",
"printf('The Shaft work of the compressor w = %3.3f kJ/kg \n It is the power absorbing system',w)"
   ]
   }
,
{
		   "cell_type": "markdown",
		   "metadata": {},
		   "source": [
			"## Example 2.25: The_power_required.sce"
		   ]
		  },
  {
"cell_type": "code",
	   "execution_count": null,
	   "metadata": {
	    "collapsed": true
	   },
	   "outputs": [],
"source": [
"clc\n",
"clear\n",
"//Input data\n",
"m=10;//The rate of fluid compressed adiabatically in kg/s\n",
"p1=500;//Initial pressure of the process in kPa\n",
"p2=5000;//Final pressure of the process in kPa\n",
"v=0.001;//The specific volume of the fluid in m^3/kg\n",
"\n",
"//Calculations\n",
"P=m*v*(p2-p1);//The power required in kW\n",
"\n",
"//Output\n",
"printf('The power required P = %3.0f kW ',P)"
   ]
   }
,
{
		   "cell_type": "markdown",
		   "metadata": {},
		   "source": [
			"## Example 2.26: The_exit_air_temperature.sce"
		   ]
		  },
  {
"cell_type": "code",
	   "execution_count": null,
	   "metadata": {
	    "collapsed": true
	   },
	   "outputs": [],
"source": [
"clc\n",
"clear\n",
"//Input data\n",
"m=2;//Mass flow rate of air in kg/s\n",
"t1=20;//Initial temperature of the air in degree centigrade\n",
"P=-30;//The amount of power consumed in kW\n",
"c1=100;//The inlet velocity of air in m/s\n",
"c2=150;//The outlet velocity of air in m/s\n",
"R=0.287;//The gas constant for air in kJ/kg-K\n",
"g=1.4;//It is the adiabatic index\n",
"cp=1.005;//Specific heat at constant pressure in kJ/kg-K\n",
"q=0;//Heat developed as it is adiabatic condition\n",
"z=0;//The change in potential energy is neglected\n",
"\n",
"//Calculations\n",
"h=(P/m)+((c2^2-c1^2)/(2*1000));//The change in enthalpy of the system in kJ/kg\n",
"t=h/cp;//The change in temperature of the system in degree centigrade\n",
"t2=t1-t;//The exit air temperature in degree centigrade\n",
"\n",
"//Output\n",
"printf('The exit air temperature is t2 = %3.2f degree centigrade ',t2)"
   ]
   }
,
{
		   "cell_type": "markdown",
		   "metadata": {},
		   "source": [
			"## Example 2.27: The_exit_air_temperature.sce"
		   ]
		  },
  {
"cell_type": "code",
	   "execution_count": null,
	   "metadata": {
	    "collapsed": true
	   },
	   "outputs": [],
"source": [
"clc\n",
"clear\n",
"//Input data\n",
"m=0.6;//Mass flow rate of air in kg/s\n",
"W=40;//Power required to run the compressor in kW\n",
"p1=100;//Initial pressure at the inlet of the compressor in kPa\n",
"t1=30;//Initial temperature at the inlet of the compressor in degree centigrade\n",
"z=0;//Change in potential energy is neglected\n",
"c=0;//Change in kinetic energy is neglected\n",
"q=0.4;//Heat lost to the cooling water ,bearings and frictional effects is 40% of input\n",
"cp=1.005;//Specific heat at constant pressure in kJ/kg-K\n",
"\n",
"//Calculations\n",
"Q=q*W;//Net heat losses from the system in kW\n",
"H=W-Q;//Change in total enthalpy of the system in kW\n",
"t2=(H/(m*cp))+t1;//The exit air temperature in degree centigrade\n",
"\n",
"//Output\n",
"printf('The exit air temperature T2 = %3.0f degree centigrade ',t2)"
   ]
   }
,
{
		   "cell_type": "markdown",
		   "metadata": {},
		   "source": [
			"## Example 2.28: The_rate_of_heat_transfer.sce"
		   ]
		  },
  {
"cell_type": "code",
	   "execution_count": null,
	   "metadata": {
	    "collapsed": true
	   },
	   "outputs": [],
"source": [
"clc\n",
"clear\n",
"//Input data\n",
"m1=100;//Air flow rate in kg/hr\n",
"q1=600;//The heat generated by each person in kJ/hr\n",
"h1=85;//The enthalpy of air entering the room in kJ/kg\n",
"h2=60;//The enthalpy of air leaving the room in kJ/kg\n",
"Q1=0.2;//The heat added by each lamp in the room in kW\n",
"P1=0.2;//The power consumed by each fan in kW\n",
"\n",
"//Calculations\n",
"q=(5*q1)/3600;//The heat generated by 5 persons in the room in kW\n",
"Q=3*Q1;//The heat added by three lamps in the room in kW\n",
"P=2*P1;//The power consumed by two fans in the room in kW\n",
"m=m1/3600;//Mass flow rate of air in kg/s\n",
"H=[q+Q+P]+[m*(h1-h2)];//Heat to be removed by the cooler in kW\n",
"\n",
"//Output\n",
"printf('The rate at which the heat is to be removed by cooler X = %3.3f kJ/sec ',H)"
   ]
   }
,
{
		   "cell_type": "markdown",
		   "metadata": {},
		   "source": [
			"## Example 2.29: The_heat_loss_or_gai.sce"
		   ]
		  },
  {
"cell_type": "code",
	   "execution_count": null,
	   "metadata": {
	    "collapsed": true
	   },
	   "outputs": [],
"source": [
"clc\n",
"clear\n",
"//Input data\n",
"p1=1000;//Pressure at the inlet of the system in kPa\n",
"p2=15;//Pressure at the outlet of the system in kPa\n",
"v1=0.206;//Specific volume at the inlet of the system in m^3/kg\n",
"v2=8.93;//Specific volume at the outlet of the system in m^3/kg\n",
"h1=2827;//Specific enthalpy at the inlet of the system in kJ/kg\n",
"h2=2341;//Specific enthalpy at the outlet of the system in kJ/kg\n",
"c1=20;//Velocity at the inlet of the system in m/s\n",
"c2=120;//Velocity at the outlet of the system in m/s\n",
"z1=3.2;//Elevation at the inlet of the system in m\n",
"z2=0.5;//Elevation at the outlet of the system in m\n",
"m=2.1;//The fluid flow rate in kg/s\n",
"W=750;//The work output of the device in kW\n",
"g=9.81;//Gravitational constant in m/s^2\n",
"\n",
"//Calculations\n",
"Q=m*[((c2^2-c1^2)/(2*1000))+((g*(z2-z1)/(1000)))+(h2-h1)]+W;//The heat loss/gain by the system in kW\n",
"\n",
"//Output\n",
"printf('The Heat loss by the system Q = %3.4f kW ',Q)"
   ]
   }
,
{
		   "cell_type": "markdown",
		   "metadata": {},
		   "source": [
			"## Example 2.2: The_work_done.sce"
		   ]
		  },
  {
"cell_type": "code",
	   "execution_count": null,
	   "metadata": {
	    "collapsed": true
	   },
	   "outputs": [],
"source": [
"clc\n",
"clear\n",
"//Input data\n",
"Q=-300;//Heat transfer in the system consisting of the gas in kJ\n",
"u=0;//Internal energy is constant\n",
"\n",
"//Calculations\n",
"W=Q-u;//Work done of the system in kJ\n",
"\n",
"//Output\n",
"printf('The work done of the system W = %3.0f kJ ',W)"
   ]
   }
,
{
		   "cell_type": "markdown",
		   "metadata": {},
		   "source": [
			"## Example 2.30: Rate_of_heat_transfer_and_power_and_velocity.sce"
		   ]
		  },
  {
"cell_type": "code",
	   "execution_count": null,
	   "metadata": {
	    "collapsed": true
	   },
	   "outputs": [],
"source": [
"clc\n",
"clear\n",
"//Input data\n",
"t1=15;//The inlet temperature of the air passing through the heat exchanger in degree centigrade\n",
"c1=30;//The inlet velocity of air in m/s\n",
"t2=800;//The outlet temperature of the air from heat exchanger in degree centigrade \n",
"t2'==800;//The inlet temperature of the air to the turbine in degree centigrade\n",
"c2=30;//The inlet velocity of air to the turbine in m/s\n",
"t3=650;//The outlet temperature of the air from the turbine in degree centigrade\n",
"t3'==650;//the inlet temperature of the air to the nozzle in degree centigrade\n",
"c3=60;//The outlet velocity of the air from turbine in m/s\n",
"c3'==60;//Velocity at the inlet of the nozzle in m/s\n",
"t4=500;//The temperature at the outlet of the nozzle in degree centigrade\n",
"m=2;//Air flow rate in kg/s\n",
"cp=1.005;//Specific heat at constant pressure in kJ/kgK\n",
"\n",
"//Calculations\n",
"Qh=m*cp*(t2-t1);//Rate of heat transfer to the air in the heat exchanger in kJ/s\n",
"P=m*[(cp*(t2'-t3))+((c2^2-c3^2)/2000)];//Power output from the turbine in kW\n",
"c4=[(2*1000)*[cp*(t3'-t4)]+c3^2]^(1/2);//Velocity of air at exit from nozzle in m/s\n",
"\n",
"//Output \n",
"printf('(a)Rate of heat transfer to the air in the heat exchanger q = %3.2f kJ/s \n (b)Power output from the turbine W = %3.1f kW \n (c)Velocity of air at exit from nozzle C = %3.2f m/s ',Qh,P,c4)"
   ]
   }
,
{
		   "cell_type": "markdown",
		   "metadata": {},
		   "source": [
			"## Example 2.31: The_heat_transfer_and_exit_area.sce"
		   ]
		  },
  {
"cell_type": "code",
	   "execution_count": null,
	   "metadata": {
	    "collapsed": true
	   },
	   "outputs": [],
"source": [
"clc\n",
"clear\n",
"//Input data\n",
"p1=400;//Initial pressure of the gas in a turbine in kPa\n",
"t1=573;//Initial temperature of the gas in a turbine in K\n",
"p2=100;//Final pressure of the gas in a turbine in kPa\n",
"V=2.5;//It is the ratio of final volume to the inlet volume \n",
"c2=50;//Velocity of the gas at exit in m/s\n",
"P=1000;//Power developed by the turbine in kW\n",
"cp=5.193;//Specific heat of the helium at constant pressure in kJ/kg K\n",
"G=8.314;//Gas constant in kNm/kgK\n",
"M=4;//Molecular weight of the helium\n",
"\n",
"//Calculations\n",
"R=G/M;//Characteristic gas constant in kNm/kgK\n",
"v1=(R*t1)/p1;//Specific volume at the inlet in m^3/kg\n",
"v2=V*v1;//Specific volume at the outlet in m^3/kg\n",
"n=log(p2/p1)/log(v1/v2);//Polytropic index \n",
"t2=[(t1)*((p2/p1)^((n-1)/n))];//Final temperature of the gas in a turbine in K\n",
"w=(n/(n-1))*(R*(t1))*[1-((p2*v2)/(p1*v1))];//Specific work in kJ/kg\n",
"K=c2^2/(2*1000);//Change in kinetic energy in kJ/kg\n",
"Ws=w-K;//Work done by the shaft in kJ/kg\n",
"q=Ws+(cp*(t2-t1))+K;//The heat transfer during the process in kJ/kg\n",
"m=P/Ws;//Mass flow rate of gas required in kg/s\n",
"A2=(m*v2)/c2;//Exit area of the turbine in m^2\n",
"\n",
"//Output\n",
"printf('(a)The mass flow rate of the gas required m = %3.4f kg/s \n (b)The heat transfer during the process q = %3.2f kJ/kg \n (c)Exit area of the turbine A2 = %3.4f m^2 ',m,q,A2)"
   ]
   }
,
{
		   "cell_type": "markdown",
		   "metadata": {},
		   "source": [
			"## Example 2.3: Internal_energy.sce"
		   ]
		  },
  {
"cell_type": "code",
	   "execution_count": null,
	   "metadata": {
	    "collapsed": true
	   },
	   "outputs": [],
"source": [
"clc\n",
"clear\n",
"//Input data\n",
"v1=1.5;//Initial volume of the process in m^3\n",
"v2=4.5;//Final volume of the process in m^3\n",
"Q=2000;//Amount of heat added in kJ\n",
"\n",
"//Calculations\n",
"W=100*((3.5*log(v2/v1))+(3*(v2-v1)));//Amount of work done in kJ\n",
"U=Q-W;//The change in internal energy in kJ\n",
"\n",
"//Output\n",
"printf('The change in internal energy is %3.4f kJ ',U)"
   ]
   }
,
{
		   "cell_type": "markdown",
		   "metadata": {},
		   "source": [
			"## Example 2.4: The_change_in_KE_and_PE.sce"
		   ]
		  },
  {
"cell_type": "code",
	   "execution_count": null,
	   "metadata": {
	    "collapsed": true
	   },
	   "outputs": [],
"source": [
"clc\n",
"clear\n",
"//Input data\n",
"h1=35;//Enthalpy of water entering the boiler in kJ/kg\n",
"h2=705;//Enthalpy of steam leaving the boiler in kJ/kg\n",
"C=0;//Change in kinetic energy is neglected\n",
"Z=0;//Change in potential energy is neglected\n",
"\n",
"//Calculations\n",
"q=h2-h1;//The heat transfer per kg of steam in kJ/kg\n",
"\n",
"//Output\n",
"printf('The heat transfer per kg of steam q = %3.0f kJ/kg ',q)"
   ]
   }
,
{
		   "cell_type": "markdown",
		   "metadata": {},
		   "source": [
			"## Example 2.5: The_net_rate_of_work_output.sce"
		   ]
		  },
  {
"cell_type": "code",
	   "execution_count": null,
	   "metadata": {
	    "collapsed": true
	   },
	   "outputs": [],
"source": [
"clc\n",
"clear\n",
"//Input data\n",
"Q=-170;//Sum of all heat transfers per cycle in kJ\n",
"N=100;//Total number of cycles per min in cycles/min\n",
"Q1=0;//Heat developed in a-b process in kJ/min\n",
"Q2=21000;//Heat developed in b-c process in kJ/min\n",
"Q3=-2100;//Heat developed in c-d process in kJ/min\n",
"W1=2170;//Work done in the process a-b in kJ/min\n",
"W2=0;//Work done in the b-c process in kJ/min\n",
"E3=-36600;//Change in energy in the process in kJ/min\n",
"\n",
"//Calculations\n",
"E1=Q1-W1;//Change in energy in process a-b in kJ/min\n",
"E2=Q2-W2;//Change in energy in b-c process in kJ/min\n",
"W3=Q3-E3;//Work done in the c-d process in kJ/min\n",
"Qt=Q*N;//Total heat transfer per min in kJ/min \n",
"Q4=Qt-Q1-Q2-Q3;//Heat developed in the process d-a in kJ/min\n",
"Et=0;//Total change in energy of the cycle\n",
"E4=Et-E1-E2-E3;//Energy in the process d-a in kJ/min\n",
"W4=Q4-E4;//Work done in the d-a process in kJ/min \n",
"Wn=Qt/60;//Net rate of work output in kW\n",
"\n",
"//Output\n",
"printf('(a)Change in energy in a-b process E = %3.0f kJ/min \n (b)Change in energy in b-c process E = %3.0f kJ/min \n (c)Work done in the c-d process W = %3.0f kJ/min \n (d)Heat developed in the process d-a Q = %3.0f kJ/min \n (e)Energy in the process d-a E = %3.0f kJ/min \n (f)Work done in the d-a process W =%3.0f kJ/min \n (g)Net rate of work output W = %3.2f kW ',E1,E2,W3,Q4,E4,W4,Wn)"
   ]
   }
,
{
		   "cell_type": "markdown",
		   "metadata": {},
		   "source": [
			"## Example 2.6: The_power_developed.sce"
		   ]
		  },
  {
"cell_type": "code",
	   "execution_count": null,
	   "metadata": {
	    "collapsed": true
	   },
	   "outputs": [],
"source": [
"clc\n",
"clear\n",
"//Input data\n",
"Q1=50;//Heat developed in the 1-2 process in kJ/kg\n",
"U1=20;//Change in energy in the 1-2 process in kJ/kg\n",
"Q2=-30;//Heat developed in the 2-3 process in kJ/kg\n",
"W2=-40;//Work done in the 2-3 process in kj/kg\n",
"U3=-30;//Change in energy in the 3-1 process in kJ/kg\n",
"Wt=30;//Net work done per kg of fluid in kJ/kg\n",
"m=0.1;//Mass of fluid in the cycle in kg\n",
"N=10;//Number of cycles per sec in cycles/sec\n",
"\n",
"//Calculations\n",
"W1=Q1-U1;//Work done in the 1-2 process in kJ/kg\n",
"U2=Q2-W2;//Change in energy in the 2-3 process in kJ/kg\n",
"W3=Wt-W1-W2;//Work done in the 3-1 process in kJ/kg\n",
"Q3=W3+U3;//Heat developed in the process in kJ/kg\n",
"m1=m*N;//mass flow rate per sec in kg/sec\n",
"P=Wt*m1;//Rate of power in kW\n",
"\n",
"//Output\n",
"printf('(a)Work done in the 1-2 process W =%3.0f kJ/kg \n (b)Change in energy in the 2-3 process U = %3.0f kJ/kg \n (c)Work done in the 3-1 process W = %3.0f kJ/kg \n (d)Heat developed in the process Q = %3.0f kJ/kg \n (e)mass flow rate per sec m = %3.0f kg/sec \n (f)Rate of power P = %3.0f kW',W1,U2,W3,Q3,m1,P)"
   ]
   }
,
{
		   "cell_type": "markdown",
		   "metadata": {},
		   "source": [
			"## Example 2.7: The_work_transfer.sce"
		   ]
		  },
  {
"cell_type": "code",
	   "execution_count": null,
	   "metadata": {
	    "collapsed": true
	   },
	   "outputs": [],
"source": [
"clc \n",
"clear\n",
"//Input data\n",
"m=3;//Mass of substance in the system in kg\n",
"P1=500;//Initial pressure of the system in kPa\n",
"P2=100;//Final pressure of the system in kPa\n",
"V1=0.22;//Initial volume of the system in m^3\n",
"n=1.2;//Polytropic index \n",
"Q1=30;//Heat transfer for the another process\n",
"\n",
"//Calculations\n",
"V2=V1*(P1/P2)^(1/1.2);//Final volume of the system in m^3\n",
"U=3.56*(P2*V2-P1*V1);//Total change in internal energy in kJ\n",
"W1=(P2*V2-P1*V1)/(1-n);//Work done for the 1-2 process in kJ\n",
"Q=U+W1;//Heat developed in the process in kJ\n",
"W2=Q1-U;//Work done for the another process in kJ\n",
"\n",
"//Output\n",
"printf('(a)Total change in internal energy U = %3.0f kJ \n (b)Work done for the 1-2 process W = %3.0f kJ \n (c)Heat developed in the process Q = %3.0f kJ \n (d)Work done for the another process W = %3.0f kJ ',U,W1,Q,W2)"
   ]
   }
,
{
		   "cell_type": "markdown",
		   "metadata": {},
		   "source": [
			"## Example 2.8: Heat_transfer_work_and_IE.sce"
		   ]
		  },
  {
"cell_type": "code",
	   "execution_count": null,
	   "metadata": {
	    "collapsed": true
	   },
	   "outputs": [],
"source": [
"clc\n",
"clear\n",
"m=5;//Mass of the substance in the system in kg\n",
"P1=500;//Initial pressure of the system in kPa\n",
"P2=100;//Final pressure of the system in kPa\n",
"V1=0.22;//Initial volume of the system in m^3\n",
"n=1.2;//Polytropic index\n",
"\n",
"//Calculations \n",
"V2=V1*(P1/P2)^(1/1.2);//Final volume of the system in m^3\n",
"U=3.5*(P2*V2-P1*V1);//Change in the internal energy of the system in kJ\n",
"W=(P1*V1-P2*V2)/(n-1);//Work developed in the process in kJ\n",
"Q=U+W;//Heat transfer in the process in kJ\n",
"\n",
"//Output\n",
"printf('(1)Heat transfer of the process Q = %3.0f kJ \n (2)Total change in Internal Energy U = %3.0f kJ \n (3)Non flow work in the process W = %3.0f kJ ',Q,U,W)"
   ]
   }
,
{
		   "cell_type": "markdown",
		   "metadata": {},
		   "source": [
			"## Example 2.9: Work_and_heat_transfer.sce"
		   ]
		  },
  {
"cell_type": "code",
	   "execution_count": null,
	   "metadata": {
	    "collapsed": true
	   },
	   "outputs": [],
"source": [
"clc\n",
"clear\n",
"//Input data\n",
"p1=170;//Initial pressure of the fluid in kPa\n",
"p2=400;//Final pressure of the fluid in kPa\n",
"v1=0.03;//Initial volume in m^3\n",
"v2=0.06;//Final volume in m^3\n",
"\n",
"//Calculations\n",
"U=3.15*[(p2*v2)-(p1*v1)];//The change in internal energy of the fluid in kJ\n",
"A=[1 v1\n",
"   1 v2] //Coefficient matrix\n",
"B=[p1\n",
"   p2]  //Constant matrix\n",
"X=inv(A)*B;//Variable matrix\n",
"W=[X(1)*(v2-v1)]+[X(2)*((v2^2-v1^2)/2)];//The work done during the process in kJ\n",
"Q=U+W;//The heat transfer in kJ\n",
"\n",
"//Output\n",
"printf('(a)The direction and magnitude of work W = %3.2f kJ \n (b)The direction and magnitude of heat transfer Q = %3.2f kJ ',W,Q)"
   ]
   }
],
"metadata": {
		  "kernelspec": {
		   "display_name": "Scilab",
		   "language": "scilab",
		   "name": "scilab"
		  },
		  "language_info": {
		   "file_extension": ".sce",
		   "help_links": [
			{
			 "text": "MetaKernel Magics",
			 "url": "https://github.com/calysto/metakernel/blob/master/metakernel/magics/README.md"
			}
		   ],
		   "mimetype": "text/x-octave",
		   "name": "scilab",
		   "version": "0.7.1"
		  }
		 },
		 "nbformat": 4,
		 "nbformat_minor": 0
}
