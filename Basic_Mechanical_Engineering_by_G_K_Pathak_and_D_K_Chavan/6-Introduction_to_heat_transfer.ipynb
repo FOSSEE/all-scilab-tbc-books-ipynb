{
"cells": [
 {
		   "cell_type": "markdown",
	   "metadata": {},
	   "source": [
       "# Chapter 6: Introduction to heat transfer"
	   ]
	},
{
		   "cell_type": "markdown",
		   "metadata": {},
		   "source": [
			"## Example 6.10: The_rate_of_heat_removed.sce"
		   ]
		  },
  {
"cell_type": "code",
	   "execution_count": null,
	   "metadata": {
	    "collapsed": true
	   },
	   "outputs": [],
"source": [
"clc\n",
"clear\n",
"//Input data\n",
"T1=7;//Inside temperature of refrigerator in degree centigrade \n",
"T0=28;//Temperature in the kitchen in degree centigrade\n",
"K1=40;//Thermal conductivity of mild steel in W/mC\n",
"x1=0.03;//Thickness of mild sheets in m\n",
"K3=40;//Thermal conductivity of the mild steel in W/mC\n",
"x3=0.03;//Thickness of another side mild sheet in m\n",
"x2=0.05;//Thickness of glass wool insulated in m\n",
"hi=10;//Heat transfer coefficient in the inner surface of refrigerator in W/m^2 C\n",
"ho=12.5;//Heat transfer coefficient in the outer surface of refrigerator in W/m^2 C\n",
"K2=0.04;//Thermal conductivity of glass in W/mC\n",
"\n",
"//Calculations\n",
"Q=(T1-T0)/((1/hi)+(x1/K1)+(x2/K2)+(x3/K3)+(1/ho));//Heat transfer per unit area in W/m^2\n",
"\n",
"//Output\n",
"printf('The rate of heat removed from the refrigirator Q = %3.3f W/m^2 ',Q)"
   ]
   }
,
{
		   "cell_type": "markdown",
		   "metadata": {},
		   "source": [
			"## Example 6.11: Heat_loss_and_maximum_temperature.sce"
		   ]
		  },
  {
"cell_type": "code",
	   "execution_count": null,
	   "metadata": {
	    "collapsed": true
	   },
	   "outputs": [],
"source": [
"clc \n",
"clear\n",
"//Input data\n",
"x1=0.2;//Thickness of the fire brick\n",
"x2=0.2;//Thickness of the common brick\n",
"Ti=1400;//Temperature of hot gases in the inner surface of the brick in degree centigrade\n",
"To=50;//Temperature of gases in the outer surface of the brick in degree centigrade\n",
"h1=16.5;//Convection heat transfer coefficient on gas side in W/mC\n",
"h2=17.5;//radiation heat transfer coefficient on gas side in W/mC\n",
"h3=12.5;//Convection heat transfer coefficient on outer side in W/mC\n",
"h4=6.5;//Radiation heat transfer coeeficient on outer side in W/mC\n",
"K1=4;//Thermal conductivity of fire brick in W/mC\n",
"K2=0.65;//Thermal conductivity of common brick in W/mC\n",
"\n",
"//Calculations \n",
"hi=h1+h2;//Total heat transfer coefficient in inner in W/mC\n",
"ho=h3+h4;//Total heat transfer coefficient in outer in W/mC\n",
"Q=(Ti-To)/((1/hi)+(x1/K1)+(x2/K2)+(1/ho));//Heat flow through the furnace composite wall per unit area in W/m^2\n",
"Q1=Q/1000;//Heat flow through the furnace composite wall per unit area in kW/m^2\n",
"T1=Ti-(Q/hi);//Temperature at the inside of the fire brick in degree centigrade\n",
"T2=T1-(Q*(x1/K1));//Maximum temperature to which common brick is subjected in degree centigrade\n",
"\n",
"//Output\n",
"printf('(a)Heat loss per m^2 area of the furnace wall Q = %3.2f kW/m^2 \n (b)Maximum temperature to which common brick is subjected T1 = %3.3f degree centigrade \n     similarly on other side T2 = %3.3f degree centigrade',Q1,T1,T2)"
   ]
   }
,
{
		   "cell_type": "markdown",
		   "metadata": {},
		   "source": [
			"## Example 6.12: The_thickness_of_brick.sce"
		   ]
		  },
  {
"cell_type": "code",
	   "execution_count": null,
	   "metadata": {
	    "collapsed": true
	   },
	   "outputs": [],
"source": [
"clc\n",
"clear\n",
"//Input data\n",
"K1=0.93;//Thermal conductivity of fire clay in W/mC\n",
"K2=0.13;//Thermal conductivity of diatomite brick in W/mC\n",
"K3=0.7;//Thermal conductivity of red brick in W/mC\n",
"x1=0.12;//Thickness of fire clay in m\n",
"x2=0.05;//Thickness of diatomite in m\n",
"x3=0.25;//Thickness of brick in m\n",
"T=1;//Assume the difference between temperature in degree centigrade\n",
"\n",
"//Calculations\n",
"Q=(T)/((x1/K1)+(x2/K2)+(x3/K3));//The heat flow per unit area in W/m^2\n",
"X3=K3*((T/Q)-(x1/K1));//Thickness of the red brick layer in m\n",
"X=X3*100;//Thickness of the red brick layer in cm\n",
"\n",
"//Output\n",
"printf('The thickness of the red brick layer, \n if the brick work is to be laid with out diatomic is %3.3f cm ',X)"
   ]
   }
,
{
		   "cell_type": "markdown",
		   "metadata": {},
		   "source": [
			"## Example 6.13: The_rate_of_heat_loss.sce"
		   ]
		  },
  {
"cell_type": "code",
	   "execution_count": null,
	   "metadata": {
	    "collapsed": true
	   },
	   "outputs": [],
"source": [
"clc\n",
"clear\n",
"//Input data\n",
"R1=0.06;//Thickness of material layer in m\n",
"R2=0.12;//Thickness of the two insulating materials in m\n",
"R3=0.16;//Thickness of material layers with pipe in m\n",
"K1=0.24;//Thermal conductivity of one layer in W/mC\n",
"K2=0.4;//Thermal conductivity of another layer in W/mC\n",
"L=60;//Length of the pipe in m\n",
"hi=60;//Heat transfer coefficient inside in W/m^2C\n",
"ho=12;//Heat transfer coefficient outside in W/m^2C\n",
"ti=65;//Temperature of hot air flowing in pipe in degree centigrade\n",
"to=20;//Atmospheric temperature in degree centigrade\n",
"pi=3.1428;//Constant value of pi\n",
"\n",
"//Calculations\n",
"Q=(ti-to)*(2*pi*L)/((1/(hi*R1))+(log(R2/R1)/(K1))+(log(R3/R2)/(K2))+(1/(ho*R3)));//Rate of heat loss in W\n",
"Q1=Q/1000;//Rate of heat loss in kW\n",
"\n",
"//Output\n",
"printf('The rate of heat loss Q = %3.5f kW ',Q1)"
   ]
   }
,
{
		   "cell_type": "markdown",
		   "metadata": {},
		   "source": [
			"## Example 6.14: Heat_loss.sce"
		   ]
		  },
  {
"cell_type": "code",
	   "execution_count": null,
	   "metadata": {
	    "collapsed": true
	   },
	   "outputs": [],
"source": [
"clc\n",
"clear\n",
"//Input data\n",
"R1=8;//Inner radius of the pipe in cm\n",
"R2=8.5;//Outter radius of the pipe in cm\n",
"x1=3;//Thickness of first layer in cm\n",
"x2=5;//Thickness of second layer in cm\n",
"T1=300;//Inner surface temperature of the steam pipe in degree centigrade\n",
"pi=3.1428;//Constant value of pi \n",
"T4=50;//Temperature at outer surface of insulation in degree centigrade\n",
"L=1;//Length of the pipe in m\n",
"K1=50;//Thermal conductivity of pipe in W/mC\n",
"K2=0.15;//Thermal conductivity of first layer in W/mC\n",
"K3=0.08;//Thermal conductivity of second layer in W/mC\n",
"h=2751;//Enthalpy of dry and saturated steam at 300 degree centigrade in kJ/kg\n",
"q=40;//Quantity of steam flow in gm/hr\n",
"hf=1345;//Enthalpy of fluid at 300 degree centigrade in kJ/kg\n",
"hfg=1406;//enthalpy at 300 degree centigrade in kJ/kg\n",
"\n",
"//Calculations\n",
"R3=R2+x1;//Radius of pipe with first layer\n",
"R4=R3+x2;//Radius of pipe with two layers\n",
"Q=(2*pi*L*(T1-T4))/((log(R2/R1)/(K1))+(log(R3/R2)/(K2))+(log(R4/R3)/(K3)));//Quantity of heat loss per meter length of pipe in W/m\n",
"Q1=Q/1000;//Quantity of heat loss per meter length of pipe in kW\n",
"Q2=Q1*3600;//Quantity of heat loss per meter length of pipe in kJ/hr\n",
"hg=((h)-(Q2/q));//Enthalpy of steam in kJ/kg\n",
"x=(hg-hf)/(hfg);//Dryness fraction of steam\n",
"\n",
"//Output\n",
"printf('(a)The quantity of heat lost per meter length of steam pipe Q = %3.1f kJ/hr \n (b)The quantity of steam coming out of one meter length pipe x = %3.5f gm/hr ',Q2,x)"
   ]
   }
,
{
		   "cell_type": "markdown",
		   "metadata": {},
		   "source": [
			"## Example 6.15: Heat_transfer_and_conductance_and_resistance.sce"
		   ]
		  },
  {
"cell_type": "code",
	   "execution_count": null,
	   "metadata": {
	    "collapsed": true
	   },
	   "outputs": [],
"source": [
"clc\n",
"clear\n",
"//Input data\n",
"x=0.3;//Thickness of brick wall in m\n",
"ti=24;//Inside surface temperature of wall in degree centigrade\n",
"to=-6;//Outside surface temperature of wall in degree centigrade\n",
"h=2.75;//Height of the wall in m\n",
"L=6.1;//Length of the wall in m\n",
"K=2.6;//Thermal conductivity of brick material in kJ/m hr C\n",
"\n",
"//Calculations\n",
"T=ti-to;//Temperature difference across the wall in degree centigrade\n",
"A=h*L;//Area of the wall in m^2\n",
"Q=(K*A*T)/(x);//Heat transfer through conduction by the wall per hour in kJ/hr\n",
"R=T/Q;//Resistance of the wall in hr C/kJ\n",
"C=1/R;//Conductance of the wall in kJ/hr C\n",
"\n",
"//Output\n",
"printf('(a)The heat transfer by conduction through the wall per hr Q = %3.1f kJ/hr \n (b)The resistance of the wall R = %3.4f hr C/kJ \n      The conductance of the wall C = %3.2f kJ/hr C ',Q,R,C)"
   ]
   }
,
{
		   "cell_type": "markdown",
		   "metadata": {},
		   "source": [
			"## Example 6.16: Reduction_in_heat_loss.sce"
		   ]
		  },
  {
"cell_type": "code",
	   "execution_count": null,
	   "metadata": {
	    "collapsed": true
	   },
	   "outputs": [],
"source": [
"clc\n",
"clear \n",
"//Input data\n",
"x1=0.3;//Thickness of refractory bricks in m\n",
"K1=5.66;//Thermal conductivity of refractory bricks in kJ/hr mC\n",
"t1=1650;//Inner surface temperature of the wall in degree centigrade\n",
"t2=320;//Outside surface temperature of the wall in degree centigrade\n",
"x2=0.3;//Thickness of insulating brick in m\n",
"K2=1.26;//Thermal conductivity of insulating brick in kJ/hr mC\n",
"A=1;//unit surface area in m^2\n",
"t3=27;//Outside surface temperature of the brick in degree centigrade\n",
"\n",
"//Calculations \n",
"T1=t1-t2;//Temperature difference in degree centigrade\n",
"Q1=(K1*A*T1)/(x1);//Heat loss without insulation in kJ/hr/m^2\n",
"R1=(K1*A)/(x1);//Heat loss for the change in temperature for refractory brick wall material in kJ/hrC\n",
"R2=(K2*A)/(x2);//Heat loss for the change in temperature for insulated brick wall material kJ/hrC\n",
"Q2=(t1-t3)/((1/R1)+(1/R2));//Heat loss with insulation in kJ/hr/m^2\n",
"Q3=Q1-Q2;//Reduction in heat loss through the wall in kJ/hr/m^2\n",
"\n",
"//Output\n",
"printf('The reduction in heat loss through the wall is  %3.2f kJ/hr/m^2 ',Q3)"
   ]
   }
,
{
		   "cell_type": "markdown",
		   "metadata": {},
		   "source": [
			"## Example 6.17: Leakage_and_temperature.sce"
		   ]
		  },
  {
"cell_type": "code",
	   "execution_count": null,
	   "metadata": {
	    "collapsed": true
	   },
	   "outputs": [],
"source": [
"clc\n",
"clear\n",
"//Input data\n",
"L=4.6;//Length of the wall in m\n",
"b=2.3;//Breadth of the wall in m\n",
"x1=0.025;//Thickness of the wood in m\n",
"x2=0.075;//Thickness of the cork slabbing in m\n",
"x3=0.115;//Thickness of the brick in m\n",
"t1=18;//Exterior temperature of the wall in degree centigrade\n",
"t4=-20;//Interior temperature of the wall in degree centigrade\n",
"K1=7.5;//Thermal conductivity of the wood in kJ/hr mC\n",
"K2=1.9;//Thermal conductivity of the wood in kJ/hr.mC\n",
"K3=41;//Thermal conductivity of the brick in kJ/hr mC\n",
"\n",
"//Calculations\n",
"A=L*b;//Area of the wall in m^2\n",
"R1=(K1*A)/(x1);//Heat loss for the change in temperature for insulated wood material in kJ/hrC\n",
"R2=(K2*A)/(x2);//Heat loss for the change in temperature for cork material in kJ/hrC\n",
"R3=(K3*A)/(x3);//Heat loss for the change in temperature for brick in kJ/hrC\n",
"Q=(t1-t4)/(1/R1+1/R2+1/R3);//Heat loss with insulation in kJ/hr\n",
"Q1=Q*24;//Heat loss with insulation in kJ/24hr\n",
"t2=t1-(Q/R1);//Interface temperature t2 in degree centigrade \n",
"t3=t2-(Q/R2);//Interface temperature t3 in degree centigrade\n",
"\n",
"//Output \n",
"printf('(a)The leakage through the wall per 24 hours Q = %3.2f kJ/24hr \n (b)Temperature at the interface t2 = %3.4f degree centigrade \n   Temperature at interface t3 = %3.4f degree centigrade ',Q1,t2,t3)"
   ]
   }
,
{
		   "cell_type": "markdown",
		   "metadata": {},
		   "source": [
			"## Example 6.18: The_heat_loss.sce"
		   ]
		  },
  {
"cell_type": "code",
	   "execution_count": null,
	   "metadata": {
	    "collapsed": true
	   },
	   "outputs": [],
"source": [
"clc\n",
"clear\n",
"//Input data\n",
"L=0.3;//Thickness of the wall in m\n",
"ti=320;//Inner surface temperature in degree centigrade\n",
"to=38;//Outer surface temperature in degree centigrade\n",
"A=1;//Assume unit area in m^2\n",
"\n",
"//Calculations\n",
"Q=(A/L)*((0.01256/2)*(ti^2-to^2)-(4.2/3)*10^-6*(ti^3-to^3));//Heat loss per sq metre of surface area for a furnace wall in kJ/hr/m^2\n",
"\n",
"//Output\n",
"printf('The heat loss per sq metre of surface area for a furnace wall Q = %3.1f kJ/hr/m^2 ',Q)"
   ]
   }
,
{
		   "cell_type": "markdown",
		   "metadata": {},
		   "source": [
			"## Example 6.19: The_heat_loss_and_the_temperature.sce"
		   ]
		  },
  {
"cell_type": "code",
	   "execution_count": null,
	   "metadata": {
	    "collapsed": true
	   },
	   "outputs": [],
"source": [
"clc\n",
"clear\n",
"//Input data\n",
"d=11.5;//Outer diameter of steam pipe line in cm\n",
"t1=5;//Thickness of first layer in cm\n",
"K1=0.222;//Thermal conductivity of first layer in kJ/hr mC\n",
"t2=3;//Thickness of second layer in cm\n",
"pi=3.1428;//Constant value of pi\n",
"K2=3.14;//Thermal conductivity of second layer in kJ/hr mC\n",
"T1=235;//Outside surface temperature of steam pipe in degree centigrade\n",
"T3=38;//Outer surface of lagging in degree centigrade\n",
"L=1;//Length of the pipe in m\n",
"\n",
"//Calculations\n",
"I=log((d+(2*t1))/d);//For inner layer calculation\n",
"O=log((d+(2*t1)+(2*t2))/(d+(2*t1)));//For outer layer calculations\n",
"R1=(2*pi*L*K1)/I;//Heat loss for change in temperature for first insulated material in kJ/hC\n",
"R2=(2*pi*L*K2)/O;//Heat loss for the change in temperature for second insulated material in kJ/hC\n",
"Q=(T1-T3)/(1/R1+1/R2);//Heat loss per metre length of pipe per hr in kJ/hr\n",
"T2=T1-(Q/R1);//Temperature between the two layers of insulation in degree centigrade\n",
"\n",
"//Output\n",
"printf('(a)The heat loss per metre length of pipe per hr Q = %3.2f kJ/hr \n (b)Temperature between the two layers of insulation T= %3.2f degree centigrade ',Q,T2)"
   ]
   }
,
{
		   "cell_type": "markdown",
		   "metadata": {},
		   "source": [
			"## Example 6.1: Heat_transfer_coefficient.sce"
		   ]
		  },
  {
"cell_type": "code",
	   "execution_count": null,
	   "metadata": {
	    "collapsed": true
	   },
	   "outputs": [],
"source": [
"clc\n",
"clear\n",
"//Input data\n",
"t1=270;//Temperature inside surface of the furnace wall in degree centigrade\n",
"t3=20;//Temperature outside surface is dissipating heat by convection into air in degree centigrade\n",
"L=0.04;//Thickness of the wall in m\n",
"K=1.2;//Thermal conductivity of wall in W/m-K\n",
"t2=70;//Temperature of outside surface should not exceed in degree centigrade\n",
"A=1;//Assuming area in m^2\n",
"\n",
"//Calculations\n",
"Q1=(K*A*(t1-t2))/(L);//Heat transfer through the furnace wall in W\n",
"hc=(Q1)/(A*(t2-t3));//Heat transfer coefficient in W/m^2K\n",
"\n",
"//Output\n",
"printf('The minimum value of heat transfer coefficient at the outer surface hc = %3.1f W/m^2K',hc)"
   ]
   }
,
{
		   "cell_type": "markdown",
		   "metadata": {},
		   "source": [
			"## Example 6.20: The_rate_of_heat_flow.sce"
		   ]
		  },
  {
"cell_type": "code",
	   "execution_count": null,
	   "metadata": {
	    "collapsed": true
	   },
	   "outputs": [],
"source": [
"clc\n",
"clear\n",
"//Input data\n",
"t1=24;//Temperature at the outside surface in degree centigrade \n",
"t4=-15;//Temperature at the inner surface in degree centigrade\n",
"A=1;//Assuming unit area in m^2\n",
"K1=23.2;//Thermal conductivity of steel in W/mC\n",
"K2=0.014;//Thermal conductivity of glasswood in W/mC\n",
"K3=0.052;//Thermal conductivity of plywood in W/mC\n",
"x1=0.0015;//Thickness of steel sheet at outer surface in m\n",
"x2=0.02;//Thickness of glasswood in between in m\n",
"x3=0.01;//Thickness of plywood at a inner surface in m\n",
"\n",
"//Calculations\n",
"R1=(K1*A)/x1;//Heat loss for the change in temperature for first insulated material\n",
"R2=(K2*A)/x2;//Heat loss for the change in temperature for second insulated material\n",
"R3=(K3*A)/x3;//Heat loss for the change in temperature for third insulated material\n",
"Q=(t1-t4)/(1/R1+1/R2+1/R3);//The rate of heat flow in W/m^2\n",
"\n",
"//Output\n",
"printf('The rate of heat flow Q = %3.2f W/m^2 ',Q)"
   ]
   }
,
{
		   "cell_type": "markdown",
		   "metadata": {},
		   "source": [
			"## Example 6.2: Emissive_power.sce"
		   ]
		  },
  {
"cell_type": "code",
	   "execution_count": null,
	   "metadata": {
	    "collapsed": true
	   },
	   "outputs": [],
"source": [
"clc\n",
"clear\n",
"//Input data\n",
"t1=30;//Normal temperature of black body in degree centigrade\n",
"t2=100;//Heated temperature of black body in degree centigrade\n",
"s=20.52*10^-8;//Stefan Boltzmann constant in kJ/hrK^4\n",
"A=1;//Assume area in m^2\n",
"\n",
"//Calculations\n",
"T1=273+t1;//Black body temperatures in kelvin K\n",
"T2=273+t2;//Heated temperature of black body in kelvin K\n",
"E=s*(T2^4-T1^4);//Increase of emissive power in kJ/hr\n",
"\n",
"//Output\n",
"printf('The change in its emissive power E= %3.4f kJ/hr',E)"
   ]
   }
,
{
		   "cell_type": "markdown",
		   "metadata": {},
		   "source": [
			"## Example 6.3: Temperature_and_Heat_transfer_coefficient.sce"
		   ]
		  },
  {
"cell_type": "code",
	   "execution_count": null,
	   "metadata": {
	    "collapsed": true
	   },
	   "outputs": [],
"source": [
"clc\n",
"clear\n",
"//Input data\n",
"L=0.012;//Wall thickness of a mild steel tank in m\n",
"t1=100;//Temperature of water in tank in degree centigrade\n",
"t4=20;//Atmospheric temperature of air in degree centigrade\n",
"K=50;//Thermal conductivity of mild steel in W/m-K\n",
"hi=2850;//Convection heat transfer coefficient on water side in W/m^2-K\n",
"ho=10;//Convection heat transfer coefficient on air side in W/m^2-K\n",
"Q1=60;//Heat trasfer from the incandicent lamp in W\n",
"s=5.67*10^-8;//Stefan boltzmann constant in W/m^2/K^4\n",
"T1=2500;//Lamp surface temperature in K\n",
"T2=300;//Room temperature in K\n",
"A=1;//Assuming area in m^2\n",
"\n",
"//Calculations\n",
"T=t1-t4;//Temperature difference in degree centigrade\n",
"Q=(T)/((1/hi)+(L/K)+(1/ho));//Rate of heat loss per m^2 area of surface of tank in W\n",
"t3=(Q/(ho*A))+(t4);//Temperature of the outside surface in degree centigrade\n",
"U=(Q)/(A*T);//Overall Heat transfer coefficient in W/m^2/K\n",
"a=(Q1)/(s*(T1^4-T2^4));//surface area of the coil in m^2\n",
"a1=a*10^6;//Surface area of the coil in mm^2\n",
"\n",
"//Output\n",
"printf('(a) The rate of heat loss per sq m area of the tank Q = %3.2f W \n (b) Overall heat transfer coefficient U = %3.2f W/m^2/K \n (c) Temperature of the outside surface of tank t3 = %3.2f degree centigrade \n (d)The surface area of the coil is %3.3f mm^2',Q,U,t3,a1)"
   ]
   }
,
{
		   "cell_type": "markdown",
		   "metadata": {},
		   "source": [
			"## Example 6.4: Heat_loss_rate_and_Temperature.sce"
		   ]
		  },
  {
"cell_type": "code",
	   "execution_count": null,
	   "metadata": {
	    "collapsed": true
	   },
	   "outputs": [],
"source": [
"clc\n",
"clear\n",
"//Input data\n",
"A1=3.5;//Area of the boiler plate in m^2\n",
"X2=0.02;//Thickness of the plate in m\n",
"K2=50;//Thermal conductivity of plate in W/m-K\n",
"X1=0.002;//Thickness of layer inside boiler in m\n",
"K1=1;//Thermal conductivity of layer in W/m-K\n",
"t1=250;//The hot gas temperature of the plate in degree centigrade\n",
"t3=200;//Temperature of cold air in degree centigrade\n",
"\n",
"//Calculations \n",
"T=t1-t3;//Temperature difference in degree centigrade\n",
"Q=(T*A1)/((X1/K1)+(X2/K2));//Rate of heat loss in W\n",
"Q1=Q/1000;//Rate of heat loss in kJ/s\n",
"Q2=Q1*3600;//Rate of heat loss in kJ/hr\n",
"\n",
"//Output\n",
"printf('(a)Rate of heat loss in kJ/s = %3.2f kJ/s \n (b)Rate of heat loss per hour Q = %3.2f kJ/hr ',Q1,Q2)"
   ]
   }
,
{
		   "cell_type": "markdown",
		   "metadata": {},
		   "source": [
			"## Example 6.5: Rate_of_heat_loss_and_Temperature.sce"
		   ]
		  },
  {
"cell_type": "code",
	   "execution_count": null,
	   "metadata": {
	    "collapsed": true
	   },
	   "outputs": [],
"source": [
"clc\n",
"clear\n",
"//Input data \n",
"L1=0.225;//Thickness of the brick in m\n",
"K1=4.984;//Thermal conductivity of brick in kJ/hr m C/m\n",
"L2=0.125;//Thickness of insulating brick in m\n",
"K2=0.623;//Thermal conductivity of insulating brick in kJ/hr m C /m\n",
"Ti=1650;//Temperature inside the furnace in degree centigrade\n",
"hl=245.28;//Conductance at inside wall in kJ/hr m^2 C\n",
"ho=40.88;//Conductance at outside wall in kJ/hr m^2 C\n",
"To=27;//Temperature of surrounding atmosphere in degree centigrade \n",
"\n",
"//Calculations \n",
"R=((1/hl)+(L1/K1)+(L2/K2)+(1/ho));//Total resistance of the wall in C hr/kJ\n",
"q=(Ti-To)/R;//Rate of heat loss per m^2 of the wall in kJ/hr m^2\n",
"T1=Ti-(q*(1/hl));//Inner surface temperature in degree centigrade\n",
"T3=Ti-(q*((1/hl)+(L1/K1)+(L2/K2)));//Outer surface temperature in degree centigrade\n",
"\n",
"//Output\n",
"printf('(a)The rate of heat loss per sq m of the wall q = %3.2f kJ/hr m^2 \n (b)The temperature at the inner surface T1 = %3.2f degree centigrade \n (c)The temperature at the outer surface T3 = %3.2f degree centigrade ',q,T1,T3)"
   ]
   }
,
{
		   "cell_type": "markdown",
		   "metadata": {},
		   "source": [
			"## Example 6.6: The_heat_transfer_and_conductance.sce"
		   ]
		  },
  {
"cell_type": "code",
	   "execution_count": null,
	   "metadata": {
	    "collapsed": true
	   },
	   "outputs": [],
"source": [
"clc\n",
"clear\n",
"//Input data\n",
"x=0.3;//Thickness of the wall in degree centigrade\n",
"t1=24;//Inside surface temperature of the wall in degree centigrade\n",
"t2=-6;//Outside temperature of wall in degree centigrade\n",
"h=2.75;//Height of the wall in m\n",
"L=6.1;//Length of the wall in m\n",
"K=2.6;//Coefficient of conductivity of brick in kJ/hr m C\n",
"\n",
"//Calculations \n",
"A=h*L;//Area of the wall in m^2\n",
"T=t2-t1;//Temperature difference in degree centigrade\n",
"q=(K*A*(-T))/(x);//Heat transfer by conduction in kJ/hr\n",
"R=(t1-t2)/q;//Resistance of the wall in C hr/kJ\n",
"C=1/R;//Conductance of the wall in kJ/m C\n",
"\n",
"//Output\n",
"printf('(a)The heat transfer by conduction through the wall q = %3.2f kJ/hr \n (b)Resistance of the wall R = %3.5f C hr/kJ \n Conductance of the wall C= %3.2f kJ/m C',q,R,C)"
   ]
   }
,
{
		   "cell_type": "markdown",
		   "metadata": {},
		   "source": [
			"## Example 6.8: The_energy_received.sce"
		   ]
		  },
  {
"cell_type": "code",
	   "execution_count": null,
	   "metadata": {
	    "collapsed": true
	   },
	   "outputs": [],
"source": [
"clc\n",
"clear\n",
"//Input data \n",
"T=300;//Temperature of the earth as a black body in K\n",
"s=20.52*10^-8;//Stefan Boltzmann constant in kJ/hr m^2 T^4\n",
"\n",
"//Calculations \n",
"Q=s*T^4;//Heat received by unit area on the earths surface perpendicular to solar rays in kJ/hr\n",
"\n",
"//Output\n",
"printf('Heat received by the unit area of earths surface Q = %3.2f kJ/hr',Q)"
   ]
   }
,
{
		   "cell_type": "markdown",
		   "metadata": {},
		   "source": [
			"## Example 6.9: The_loss_of_heat.sce"
		   ]
		  },
  {
"cell_type": "code",
	   "execution_count": null,
	   "metadata": {
	    "collapsed": true
	   },
	   "outputs": [],
"source": [
"clc\n",
"clear\n",
"//Input data\n",
"D=0.07;//Diameter of the steel tube in m\n",
"L=3;//Length of the steel tube\n",
"t1=227;//Temperature of the steel tube in m\n",
"t2=27;//Temperature of the room in degree centigrade\n",
"s=20.52*10^-8;//Stefan Boltzmann constant in kJ/hr m^2 T^4\n",
"pi=3.1428;//Constant value of pi\n",
"\n",
"//Calculations \n",
"A=2*pi*D*L;//Surface area of the tube in m^2\n",
"Q=(A)*(s)*((t1+273)^4-(t2+273)^4);//Loss of heat by radiation in kJ/hr\n",
"Q1=Q/3600;//Loss of heat by radiation in kW\n",
"\n",
"//Output\n",
"printf('The loss of heat by radiation from steel tube Q = %3.4f kW ',Q1)"
   ]
   }
],
"metadata": {
		  "kernelspec": {
		   "display_name": "Scilab",
		   "language": "scilab",
		   "name": "scilab"
		  },
		  "language_info": {
		   "file_extension": ".sce",
		   "help_links": [
			{
			 "text": "MetaKernel Magics",
			 "url": "https://github.com/calysto/metakernel/blob/master/metakernel/magics/README.md"
			}
		   ],
		   "mimetype": "text/x-octave",
		   "name": "scilab",
		   "version": "0.7.1"
		  }
		 },
		 "nbformat": 4,
		 "nbformat_minor": 0
}
