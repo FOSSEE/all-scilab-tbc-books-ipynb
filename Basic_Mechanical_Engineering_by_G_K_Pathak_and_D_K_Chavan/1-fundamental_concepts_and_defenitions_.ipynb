{
"cells": [
 {
		   "cell_type": "markdown",
	   "metadata": {},
	   "source": [
       "# Chapter 1: fundamental concepts and defenitions "
	   ]
	},
{
		   "cell_type": "markdown",
		   "metadata": {},
		   "source": [
			"## Example 1.10: Readings_of_pressure.sce"
		   ]
		  },
  {
"cell_type": "code",
	   "execution_count": null,
	   "metadata": {
	    "collapsed": true
	   },
	   "outputs": [],
"source": [
"clc\n",
"clear \n",
"//Input data \n",
"z=750;//Barometric pressure in mm of Hg\n",
"g=9.81;//Gravity in m/sec^2\n",
"Pa=101.325;//one atm pressure in kN/m^2\n",
"Pg=3.3;//Pressure in atm\n",
"Pf=3.2;//Pressure in m of water\n",
"d=13596;//Density of Hg in kg/m^3\n",
"\n",
"//calculations\n",
"Pp=(d*g*z)/10^6;//Pressure in kPa\n",
"p1=(d*g*0.55)/1000;//Pressure in kPa\n",
"p2=Pp+(Pg*101.325);//Pressure in kPa\n",
"p3=Pp+((Pf*g*100))/1000;//Pressure in kPa\n",
"p4=4.6*100;//Pressure in kPa\n",
"\n",
"//Output\n",
"printf('(a)Pressure of 55cm of Hg (Abs) = %3.2f kPa \n (b)Pressure at 3.3 atm (Gauge)= %3.3f kPa \n (c)Pressure of 3.2m of water (Gauge)= %3.2f kPa \n (d)Pressure of 4.6bar (Abs)= %3.2f kPa',p1,p2,p3,p4)"
   ]
   }
,
{
		   "cell_type": "markdown",
		   "metadata": {},
		   "source": [
			"## Example 1.11: Absolute_pressure.sce"
		   ]
		  },
  {
"cell_type": "code",
	   "execution_count": null,
	   "metadata": {
	    "collapsed": true
	   },
	   "outputs": [],
"source": [
"clc\n",
"clear\n",
"//Input data\n",
"Zw=50;//Manometer reading of water in cm\n",
"Zo=763;//Atmospheric pressure in mm of Hg\n",
"d=13.6*10^3;//Density of Hg in kg/m^3\n",
"dw=1000;//Density of water in kg/m^3\n",
"g=9.81;//Gravity in m/sec^2\n",
"\n",
"//Calculations\n",
"Pa=(d*g*Zo)/10^6;//Atmospheric pressure in kPa\n",
"Pg=(dw*g*Zw)/10^5;//Gauge pressure in kPa\n",
"Pab=Pa+Pg;//Absolute pressure in kPa\n",
"\n",
"//Output\n",
"printf('Absolute pressure Pab = %3.3f kPa ',Pab)"
   ]
   }
,
{
		   "cell_type": "markdown",
		   "metadata": {},
		   "source": [
			"## Example 1.12: Absolute_pressure.sce"
		   ]
		  },
  {
"cell_type": "code",
	   "execution_count": null,
	   "metadata": {
	    "collapsed": true
	   },
	   "outputs": [],
"source": [
"clc \n",
"clear\n",
"//Input data\n",
"Z=70;//Vaccum gauge reading in cm of Hg\n",
"Pa=101.325;//Atmospheric pressure in kPa\n",
"d=13.6*10^3;//Density of Hg in kg/m^3\n",
"g=9.81;//Gravity in m/sec^2\n",
"\n",
"//Calculations\n",
"Pv=(d*g*Z)/10^5;//Vaccum pressure in kPa\n",
"Pab=Pa-Pv;//Absolute pressure in kPa\n",
"\n",
"//Output\n",
"printf('Absolute pressure Pab = %3.4f kPa ',Pab)"
   ]
   }
,
{
		   "cell_type": "markdown",
		   "metadata": {},
		   "source": [
			"## Example 1.13: Absolute_pressure.sce"
		   ]
		  },
  {
"cell_type": "code",
	   "execution_count": null,
	   "metadata": {
	    "collapsed": true
	   },
	   "outputs": [],
"source": [
"clc\n",
"clear\n",
"//Input data\n",
"Pv=30;//Vaccum pressure in kPa\n",
"Z=755;//Barometer reading in mm of Hg\n",
"d=13590;//Density of Hg in kg/m^3\n",
"g=9.81;//Gravity in m/sec^2\n",
"\n",
"//calculations \n",
"Pa=(d*g*Z)/10^6;//Atmospheric perssure in kPa\n",
"Pab=Pa-Pv;//Absolute pressure in kPa\n",
"\n",
"//Output\n",
"printf('Asolute pressure in the tank Pab = %3.3f kPa ',Pab)"
   ]
   }
,
{
		   "cell_type": "markdown",
		   "metadata": {},
		   "source": [
			"## Example 1.14: The_gas_pressure.sce"
		   ]
		  },
  {
"cell_type": "code",
	   "execution_count": null,
	   "metadata": {
	    "collapsed": true
	   },
	   "outputs": [],
"source": [
"clc \n",
"clear\n",
"//Input data\n",
"Z=0.562;//Level of open limb in m\n",
"Z1=0.761;//Barometer reading in m of Hg\n",
"g=9.79;//Gravity in m/sec^2\n",
"d=13640;//Density of Hg in kg/m^2\n",
"\n",
"//Calculations\n",
"Pa=(d*g*Z1)/1000;//Atmospheric pressure in kPa\n",
"Ph=(d*g*Z)/1000;//Pressure exercterd due to height in kPa\n",
"Pab=Pa+Ph;//Absolute pressure in kPa\n",
"\n",
"//Output\n",
"printf('The gas pressure Pab = %3.3f kN/m^2',Pab)"
   ]
   }
,
{
		   "cell_type": "markdown",
		   "metadata": {},
		   "source": [
			"## Example 1.15: The_absolute_pressure.sce"
		   ]
		  },
  {
"cell_type": "code",
	   "execution_count": null,
	   "metadata": {
	    "collapsed": true
	   },
	   "outputs": [],
"source": [
"clc\n",
"clear\n",
"//Input data \n",
"d=13.596*10^3;//Density of Hg in kg/m^3\n",
"dl=800;//Density of liquid in kg/m^3\n",
"Z=30;//Level of the liquid in the arm in cm\n",
"Z1=0.75;//Barometric pressure in m\n",
"g=9.81;//Gravity in m/sec^2\n",
"\n",
"//Calculatins\n",
"Pg=(dl*g*Z)/10^7;//Gauge pressure in bar\n",
"Pa=(d*g*Z1)/10^5;//Atmospheric pressure in bar\n",
"Pab=Pa+Pg;//Absolute pressure in bar\n",
"\n",
"//Output\n",
"printf('Absolute pressure of the gas Pab = %3.5f bar ',Pab)"
   ]
   }
,
{
		   "cell_type": "markdown",
		   "metadata": {},
		   "source": [
			"## Example 1.16: The_absolute_pressure_of_the_gas.sce"
		   ]
		  },
  {
"cell_type": "code",
	   "execution_count": null,
	   "metadata": {
	    "collapsed": true
	   },
	   "outputs": [],
"source": [
"clc\n",
"clear\n",
"//Input data\n",
"Z1=0.17;//Level of liquid in m\n",
"Z=0.76;//Barometer readings in m\n",
"d=13596;//Density of Hg in kg/m^3\n",
"g=9.806;//Gravity in m/sec^2\n",
"s=0.8;//Specific gravity \n",
"d1=1000;//Density of water in kg/m^3\n",
"\n",
"//Calculations\n",
"dl=s*d1;//Density of given liquid in kg/m^3\n",
"Pa=d*g*Z;//Atmospheric pressure in N/m^2\n",
"p=dl*g*Z1;//Pressure in N/m^2\n",
"Pab=(Pa-p)/10^5;//Absolute pressure in bar\n",
"\n",
"//Output\n",
"printf('Absolute pressure of the gas Pab = %3.6f bar ',Pab)"
   ]
   }
,
{
		   "cell_type": "markdown",
		   "metadata": {},
		   "source": [
			"## Example 1.17: The_absolute_pressure_of_steam.sce"
		   ]
		  },
  {
"cell_type": "code",
	   "execution_count": null,
	   "metadata": {
	    "collapsed": true
	   },
	   "outputs": [],
"source": [
"clc\n",
"clear\n",
"//Input data\n",
"g=9.806;//Gravity in m/sec^2\n",
"d=13596;//Density of Hg in kg/m^3\n",
"Z=9.75;//Level of Hg in cm\n",
"dw=1000;//Density of water in kg/m^3\n",
"Zw=0.034;//Coloumn of condensate in m\n",
"Zo=0.76;//Atmospheric pressure in m of Hg\n",
"\n",
"//Calculations\n",
"P=dw*g*Zw;//Pressure in N/m^2\n",
"Pa=d*g*Zo;//Atmospheric pressure in N/m^2\n",
"Pg=(d*g*Z)/100;//Gauge pressure in N/m^2\n",
"Pab=(Pa+Pg-P)/10^5;//Absolute pressure in bar\n",
"\n",
"//Output\n",
"printf('Absolute pressure of steam Pab = %3.6f bar ',Pab)"
   ]
   }
,
{
		   "cell_type": "markdown",
		   "metadata": {},
		   "source": [
			"## Example 1.18: The_absolute_pressure_of_steam.sce"
		   ]
		  },
  {
"cell_type": "code",
	   "execution_count": null,
	   "metadata": {
	    "collapsed": true
	   },
	   "outputs": [],
"source": [
"clc\n",
"clear\n",
"//Input data\n",
"g=9.7;//Gravity in m/sec^2\n",
"d=13.69*10^3;//Density of Hg in kg/m^3\n",
"dw=1000;//Density of water in kg/m^3\n",
"Pa=98;//Atmospheric pressure in kPa\n",
"Z=0.6;//Manometer level difference in m of Hg\n",
"Zw=0.04;//Water coloumn level in m\n",
"\n",
"//Calculations \n",
"Pw=(dw*g*Zw)/1000;//Pressure due to water in kPa\n",
"Pg=(d*g*Z)/1000;//Pressure in kPa\n",
"Pab1=Pa+Pg-Pw;//Absolute pressure in kPa\n",
"Pab=Pab1/100;//Absolute pressure in bar\n",
"\n",
"//Output \n",
"printf('The absolute pressure of steam Pab = %3.5f bar ',Pab)"
   ]
   }
,
{
		   "cell_type": "markdown",
		   "metadata": {},
		   "source": [
			"## Example 1.19: The_absolute_pressure_of_steam.sce"
		   ]
		  },
  {
"cell_type": "code",
	   "execution_count": null,
	   "metadata": {
	    "collapsed": true
	   },
	   "outputs": [],
"source": [
"clc\n",
"clear\n",
"//Input data\n",
"Z=0.76;//Actual height of mercury coloumn in m\n",
"g=9.806;//Gravity in m/sec^2\n",
"d=13596;//Density of Hg in kg/m^3\n",
"dw=1000;//Density of water in kg/m^3\n",
"Zw=0.035;//Height of condensate coloumn in m\n",
"Zh=0.10;//Height of mercury coloumn in m\n",
"\n",
"//Calculations\n",
"Pa=d*g*Z;//Atmospheric pressure in N/m^2\n",
"Pw=dw*g*Zw;//Pressure due to water in N/m^2\n",
"Ph=d*g*Zh;//Pressure due to Hg in N/m^2\n",
"Pab=(Pa+Ph-Pw)/10^5;//Absolute pressure in bar\n",
"\n",
"//Output \n",
"printf('Absolute pressure of steam in the pipe Pab = %3.2f bar',Pab)"
   ]
   }
,
{
		   "cell_type": "markdown",
		   "metadata": {},
		   "source": [
			"## Example 1.1: To_find_the_work_done.sce"
		   ]
		  },
  {
"cell_type": "code",
	   "execution_count": null,
	   "metadata": {
	    "collapsed": true
	   },
	   "outputs": [],
"source": [
"clc\n",
"clear\n",
"//Input data\n",
"p=700;//pressure of fluid in kN/m^2\n",
"v1=0.28;//Initial volume of fluid in m^3\n",
"v2=1.68;//Final volume of fluid in m^3\n",
"\n",
"//Calculations\n",
"W=p*(v2-v1);//Work done in kJ\n",
"\n",
"//Output\n",
"printf('The Work done W= %3.2f kJ',W)"
   ]
   }
,
{
		   "cell_type": "markdown",
		   "metadata": {},
		   "source": [
			"## Example 1.20: The_absolute_pressure_of_vapour.sce"
		   ]
		  },
  {
"cell_type": "code",
	   "execution_count": null,
	   "metadata": {
	    "collapsed": true
	   },
	   "outputs": [],
"source": [
"clc \n",
"clear\n",
"//Input data\n",
"dk=800;//Density of kerosene in kg/m^3\n",
"g=9.81;//gravity in m/sec^2\n",
"Zk=0.051;//Kerosene vapour on Hg coloumn in m\n",
"d=13600;//Density of Hg in kg/m^3\n",
"Zh=0.1;//Hg level in m\n",
"Z=0.755;//Atmospheric pressure in m of Hg\n",
"\n",
"//Calculations\n",
"Pk=dk*g*Zk;//Pressure of kerosene in N/m^2\n",
"Pa=d*g*Z;//Atmospheric pressure in N/m^2\n",
"Ph=d*g*Zh;//Pressure due to Hg in N/m^2\n",
"Pab=(Pa+Ph-Pk)/1000;//Absolute pressure in kPa\n",
"\n",
"//Output \n",
"printf('Absolute pressure of vapour Pab = %3.5f kPa ',Pab)"
   ]
   }
,
{
		   "cell_type": "markdown",
		   "metadata": {},
		   "source": [
			"## Example 1.21: The_absolute_pressure_of_the_gas.sce"
		   ]
		  },
  {
"cell_type": "code",
	   "execution_count": null,
	   "metadata": {
	    "collapsed": true
	   },
	   "outputs": [],
"source": [
"clc\n",
"clear\n",
"//Input data\n",
"d=13596;//Density of Hg in kg/m^3\n",
"g=9.806;//Gravity in m/sec^2\n",
"df=0.8*1000;//Density of fluid in kg/m^3\n",
"Z=0.76;//Atmospheric pressure in m of Hg\n",
"Zf=0.3;//Height of fluid coloumn in m\n",
"\n",
"//Calculations\n",
"Pa=d*g*Z;//Atmospheric perssure in N/m^2\n",
"P=df*g*Zf;//Pressure due to fluid in N/m^2\n",
"Pab=(Pa+P)/10^5;//Absolute pressure in bar\n",
"Zh=((Pab*10^5-Pa)/(d*g))*100;//Difference between the height of Hg coloumn in 2 arms in m\n",
"\n",
"//Output\n",
"printf('(a)The Absolute pressure of the gas in pipe line Pab = %3.7f bar \n (b)If the fluid used is Hg then the difference of height of Hg coloumn in the 2 arms Zh = %3.3f cm of Hg ',Pab,Zh)"
   ]
   }
,
{
		   "cell_type": "markdown",
		   "metadata": {},
		   "source": [
			"## Example 1.22: The_pressure_in_bar.sce"
		   ]
		  },
  {
"cell_type": "code",
	   "execution_count": null,
	   "metadata": {
	    "collapsed": true
	   },
	   "outputs": [],
"source": [
"\n",
"clc\n",
"clear \n",
"//Input data\n",
"Pa=1;//Atmospheric pressure in bar\n",
"g=9.81;//Gravity in m/sec^2\n",
"do=0.8*1000;//Density of oil in kg/m^3\n",
"Zo=0.8;//Level of oil in m\n",
"dw=1000;//Density of water in kg/m^3\n",
"Zw=0.65;//Level of water in m\n",
"d=13.6*10^3;//Density of Hg in kg/m^3\n",
"Z=0.45;//Level of Hg in m\n",
"\n",
"//Calculations\n",
"Po=(do*g*Zo)/10^5;//Pressure of oil in bar\n",
"Pw=(dw*g*Zw)/10^5;//Pressure of water in bar\n",
"P=(d*g*Z)/10^5;//Pressure of Hg in bar\n",
"Pab=Pa+Po+Pw+P;//Pressure at the bottom of the coloumn in bar\n",
"Pow=Pa+Po;//Pressure at the interface of oil and water in bar\n",
"Poh=Pa+Po+Pw;//Pressure at the interface of water and Hg\n",
"\n",
"//Output\n",
"printf('(a)Pressure at the bottom of the coloumn Pab = %3.5f bar \n (b)Pressure at the inter surface of oil and water Pow = %3.6f bar \n (c)Pressure at the inter surface of water and Hg Poh = %3.6f bar',Pab,Pow,Poh)"
   ]
   }
,
{
		   "cell_type": "markdown",
		   "metadata": {},
		   "source": [
			"## Example 1.23: The_height_of_fluid.sce"
		   ]
		  },
  {
"cell_type": "code",
	   "execution_count": null,
	   "metadata": {
	    "collapsed": true
	   },
	   "outputs": [],
"source": [
"clc\n",
"clear \n",
"//Input data\n",
"Z=0.76;//Barometer reading in m\n",
"g=9.81;//Gravity in m/sec^2\n",
"d=13.6*10^3;//Density of Hg in kg/m^3\n",
"Pab=1.2*10^5;//Absolute pressure in N/m^2\n",
"do=0.8*1000;//Density of oil in kg/m^3\n",
"dw=1000;//Density of water in kg/m^3\n",
"dh=13.6*10^3;//Density of Hg in kg/m^3\n",
"\n",
"//calculations\n",
"Pa=dh*g*Z;//Atmospheric pressure in N/m^2\n",
"Pg=Pab-Pa;//Gauge pressure in N/m^2\n",
"Zo=Pg/(do*g);//Height of oil in manometer in m\n",
"Pw=Pab-Pa;//Pressure exercted by water in N/m^2\n",
"Zw=Pw/(dw*g);//Height of water in manometer in m\n",
"P=Pab-Pa;//Pressure of Hg in N/m^2\n",
"Zh=P/(d*g);//Height of Hg in manometer in m\n",
"\n",
"//Output\n",
"printf('(a)The height of fluid for oil Manometer Zo = %3.2f m \n (b)The height of fluid for water Manometer Zw = %3.2f m \n (c)The height of fluid for Hg Manometer Zh = %3.2f m ',Zo,Zw,Zh)"
   ]
   }
,
{
		   "cell_type": "markdown",
		   "metadata": {},
		   "source": [
			"## Example 1.24: The_altitude_of_the_plane.sce"
		   ]
		  },
  {
"cell_type": "code",
	   "execution_count": null,
	   "metadata": {
	    "collapsed": true
	   },
	   "outputs": [],
"source": [
"clc\n",
"clear\n",
"//Input data\n",
"Zg=0.753;//Barometer reading at ground level in m\n",
"Zp=0.690;//Pilots barometer reading in the plane in m\n",
"d=13600;//Density of Hg in kg/m^3\n",
"g=9.81;//Gravity in m/sec^2\n",
"da=1.25;//Density of air in kg/m^3\n",
"\n",
"//Calculations\n",
"Pg=d*g*Zg;//Pressure at ground level in N/m^2\n",
"Pp=d*g*Zp;//Pressure at plane level in N/m^2\n",
"P=Pg-Pp;//Change of pressure at ground level and that of plane level in N/m^2\n",
"Za=P/(da*g);//Altitude of plane from ground in m\n",
"\n",
"//Output \n",
"printf('The altitude of the plane from ground level Za = %3.2f m ',Za)"
   ]
   }
,
{
		   "cell_type": "markdown",
		   "metadata": {},
		   "source": [
			"## Example 1.25: The_pressure.sce"
		   ]
		  },
  {
"cell_type": "code",
	   "execution_count": null,
	   "metadata": {
	    "collapsed": true
	   },
	   "outputs": [],
"source": [
"clc\n",
"clear\n",
"//Input data\n",
"dw=1000;//Density of water in kg/m^3\n",
"dh=13590;//Density of Hg in kg/m^3\n",
"Pa=400;//Pressure at A in kPa\n",
"g=9.81;//Gravity in N/m^2\n",
"Zw1=2.5;//First level of water in m\n",
"Zw2=0.4;//Second level of water in m\n",
"Zh=0.6;//Level of Hg in m\n",
"\n",
"//Calculations \n",
"Pw1=dw*g*Zw1;//First level of water pressure in N/m^2\n",
"Pw2=dw*g*Zw2;//Second level of water pressure in n/m^2\n",
"Ph=dh*g*Zh;//Pressure of Hg in N/m^2\n",
"Pb=((Pa*1000)+Pw1+Pw2-Ph)/1000;//Pressure exercted at B in kPa\n",
"\n",
"//Output\n",
"printf('Pressure exercted at B Pb = %3.4f kPa',Pb)"
   ]
   }
,
{
		   "cell_type": "markdown",
		   "metadata": {},
		   "source": [
			"## Example 1.26: Weight_of_piston_and_slab.sce"
		   ]
		  },
  {
"cell_type": "code",
	   "execution_count": null,
	   "metadata": {
	    "collapsed": true
	   },
	   "outputs": [],
"source": [
"clc\n",
"clear\n",
"//Input data\n",
"do=0.902*10^3;//Density of oil in kg/m^3\n",
"Pg=2*10^5;//Gauge pressure in N/m^2\n",
"g=9.81;//Gravity in m/sec^2\n",
"ho=2;//Level of oil in m\n",
"d=2;//Diameter of cylinder in m\n",
"pi=3.141595;//Constant value of pi\n",
"\n",
"//Calculations\n",
"A=(pi/4)*d^2;//Area of cylinder \n",
"Po=do*g*ho;//Pressure due to oil in N/m^2\n",
"W=(Pg+Po)*A;//Weight of the piston in N\n",
"\n",
"//Output\n",
"printf('The total weight of piston and slab W = %3.2f N ',W)"
   ]
   }
,
{
		   "cell_type": "markdown",
		   "metadata": {},
		   "source": [
			"## Example 1.27: The_pressure_in_the_gas.sce"
		   ]
		  },
  {
"cell_type": "code",
	   "execution_count": null,
	   "metadata": {
	    "collapsed": true
	   },
	   "outputs": [],
"source": [
"clc\n",
"clear\n",
"//Input data\n",
"m=21;//Mass of piston in kg\n",
"P1=600;//Pressure in the pipe 1 in kPa\n",
"P2=170;//Pressure in the pipe 2 in kPa\n",
"d1=0.10;//Diameter of the piston 1 in m\n",
"d2=0.20;//Diameter of the piston 2 in m\n",
"pi=3.14155;//Constant value of pi\n",
"\n",
"//Calculations\n",
"F=(m*9.81)/1000;//Force due to mass in kN\n",
"F1=(pi/4)*d1^2*P1;//Force 1 acting on 10 cm diameter piston in kN\n",
"F2=(pi/4)*(d2^2-d1^2)*P2;//Force 2 acting on 20 cm diameter piston in kN\n",
"F3=F+F1+F2;//Total downward force in kN\n",
"P3=F3/((pi/4)*d2^2);//Pressure 3 in the gas in kPa\n",
"\n",
"//Output\n",
"printf('The pressure in the gas P3 = %3.4f kPa ',P3)"
   ]
   }
,
{
		   "cell_type": "markdown",
		   "metadata": {},
		   "source": [
			"## Example 1.28: The_height_of_building.sce"
		   ]
		  },
  {
"cell_type": "code",
	   "execution_count": null,
	   "metadata": {
	    "collapsed": true
	   },
	   "outputs": [],
"source": [
"\n",
"clc\n",
"clear\n",
"//Input data\n",
"P1=0.755;//Barometric reading at the bottom of the building in m\n",
"P2=0.73;//Barometric reading at the top of the building in m\n",
"da=1.18;//Density of air in kg/m^3\n",
"g=9.81;//Gravitalional constant in m/sec^2\n",
"d=13600;//Density of Hg in kg/m^3\n",
"\n",
"//Calculations\n",
"h=((P1-P2)*d*g)/(da*g);//The height of the building in m\n",
"\n",
"//Output\n",
"printf('The height of the building h = %3.2f m',h)"
   ]
   }
,
{
		   "cell_type": "markdown",
		   "metadata": {},
		   "source": [
			"## Example 1.29: The_absolute_pressure.sce"
		   ]
		  },
  {
"cell_type": "code",
	   "execution_count": null,
	   "metadata": {
	    "collapsed": true
	   },
	   "outputs": [],
"source": [
"clc\n",
"clear\n",
"PA=200;//Gauge pressure reading for A in kPa\n",
"PB=120;//Gauge pressure reading for B in kPa\n",
"hb=750;//Barometer reading in mm of Hg\n",
"g=9.806;//Gravitational constant in m/sec^2\n",
"d=13597;//Density of Hg in barometer in kg/m^3\n",
"\n",
"//Calculations\n",
"Pa=d*g*hb/10^6;//Atmospheric pressure in kPa\n",
"Pab1=PA+Pa;//Absolute pressure in container A in kPa\n",
"Pab2=PB+Pab1;//Absolute pressure in container B in kPa\n",
"\n",
"//Output \n",
"printf('(a)The absolute pressure in the container A Pab1 = %3.2f kPa \n (b)The absolute pressure in the container B Pab2 = %3.2f kPa ',Pab1,Pab2)"
   ]
   }
,
{
		   "cell_type": "markdown",
		   "metadata": {},
		   "source": [
			"## Example 1.2: New_volume_of_the_gas.sce"
		   ]
		  },
  {
"cell_type": "code",
	   "execution_count": null,
	   "metadata": {
	    "collapsed": true
	   },
	   "outputs": [],
"source": [
"clc\n",
"clear\n",
"//Input data\n",
"p1=138;//Initial pressure of gas in kN/m^2\n",
"p2=690;//Final pressure of gas in kN/m^2\n",
"v1=0.112;//Initial volume in m^3\n",
"\n",
"//Calculations\n",
"P=p1/p2;//Pressure ratio\n",
"v2=v1*(P^(1/1.4));//Final volume of gas in m^3\n",
"\n",
"//Output\n",
"printf('The new volume of the gas v2= %3.6f m^3',v2)"
   ]
   }
,
{
		   "cell_type": "markdown",
		   "metadata": {},
		   "source": [
			"## Example 1.30: The_temperature.sce"
		   ]
		  },
  {
"cell_type": "code",
	   "execution_count": null,
	   "metadata": {
	    "collapsed": true
	   },
	   "outputs": [],
"source": [
"clc\n",
"clear\n",
"//Input data\n",
"C1=40;//Temperature 1 in degree centigrade\n",
"C2=-20;//Temperature 2 in degree centigrade \n",
"\n",
"//calculations\n",
"F1=((C1/100)*180)+32;//Temperature 1 in Fahrenheit\n",
"F2=((C2/100)*180)+32;//Temperature 2 in Fahrenheit\n",
"\n",
"//Output\n",
"printf('(a)Temperature 40 degree C =%3.0f F \n (b)Temperature -20 degree C=%3.0f F',F1,F2)"
   ]
   }
,
{
		   "cell_type": "markdown",
		   "metadata": {},
		   "source": [
			"## Example 1.31: The_temperature.sce"
		   ]
		  },
  {
"cell_type": "code",
	   "execution_count": null,
	   "metadata": {
	    "collapsed": true
	   },
	   "outputs": [],
"source": [
"//Given that the temperature has the same value on both the centrigrade and fahrenheit scales\n",
"//(C/100)=((F-32)/180)\n",
"\n",
"//Putting C=F\n",
"C=(-32/180)/((1/100)-(1/180));//Centrigade temperature in degree C\n",
"F=C;//Fahrenheit temperature in degree Fahrenheit\n",
"\n",
"printf('The temperature which has the same value on both the centrigrade and fahrenheit scales is %i degree C = %i degree F',C,F)\n",
""
   ]
   }
,
{
		   "cell_type": "markdown",
		   "metadata": {},
		   "source": [
			"## Example 1.32: The_temperature.sce"
		   ]
		  },
  {
"cell_type": "code",
	   "execution_count": null,
	   "metadata": {
	    "collapsed": true
	   },
	   "outputs": [],
"source": [
"clc\n",
"clear\n",
"//Input data\n",
"P1=1.5;//Thermometric properties at ice point\n",
"P2=7.5;//Thermometric properties at steam point\n",
"P3=3.5;//Thermometric property\n",
"\n",
"//Calculations\n",
"A=[log(P2) 1\n",
"   log(P1) 1] //Coefficient matrix\n",
"B=[100\n",
"   0]      //Constant matrix\n",
"X=inv(A)*B //Inverse matrix\n",
"t=(X(1)*log(P3)+X(2));//Required temperature in degree C\n",
"\n",
"//Output\n",
"printf('The required temperature is %3.6f degree C',t)"
   ]
   }
,
{
		   "cell_type": "markdown",
		   "metadata": {},
		   "source": [
			"## Example 1.33: The_temperature.sce"
		   ]
		  },
  {
"cell_type": "code",
	   "execution_count": null,
	   "metadata": {
	    "collapsed": true
	   },
	   "outputs": [],
"source": [
"clc\n",
"clear\n",
"//Input data\n",
"T=[100,300];//Temperature of ice and steam point in the scale\n",
"P=[1.86,6.8];//Values of thermometric properties at ice point nad steam point respectively\n",
"P1=2.5;//Thermometric property\n",
"\n",
"//Calculations\n",
"A=[log(P(2)) 1\n",
"   log(P(1)) 1] //Coefficient matrix\n",
"B=[T(2)\n",
"   T(1)]  //Constant matrix\n",
"X=inv(A)*B;//Variable matrix\n",
"t=(X(1)*log(P1)+X(2));//Required temperature in degree C\n",
"\n",
"//Output\n",
"printf('Temperature corresponding to the thermometric property is %3.1f degree C',t)"
   ]
   }
,
{
		   "cell_type": "markdown",
		   "metadata": {},
		   "source": [
			"## Example 1.34: The_temperature.sce"
		   ]
		  },
  {
"cell_type": "code",
	   "execution_count": null,
	   "metadata": {
	    "collapsed": true
	   },
	   "outputs": [],
"source": [
"clc\n",
"clear\n",
"//Input data\n",
"p1=32;//Pressure in mm of Hg at triple point of water\n",
"p2=76;//Pressure in mm of Hg above atmospheric pressure\n",
"p3=752;//Barometric pressure in mm of Hg\n",
"T=273.16;//Triple point of water in K\n",
"\n",
"//Calculations\n",
"P1=p3+p1;//Total pressure in mm of Hg\n",
"P2=p2+p3;//Total pressure in mm of Hg\n",
"T2=((T*P2)/P1)-273.16;//Temperture in degree C\n",
"\n",
"//Output\n",
"printf('Temperature is %3.2f degree C',T2)\n",
""
   ]
   }
,
{
		   "cell_type": "markdown",
		   "metadata": {},
		   "source": [
			"## Example 1.35: The_temperature.sce"
		   ]
		  },
  {
"cell_type": "code",
	   "execution_count": null,
	   "metadata": {
	    "collapsed": true
	   },
	   "outputs": [],
"source": [
"clc\n",
"clear\n",
"T=[32,212];//Temperatures of ice point and steam point respectively\n",
"P=[1.86,6.81];//P values at ice point and steam point respectively\n",
"P1=2.5;//Reading on the thermometer\n",
"\n",
"//Calculations\n",
"A=[log(P(2)) 1\n",
"   log(P(1)) 1] //Coefficient matrix\n",
"B=[T(2)\n",
"   T(1)]  //Constant matrix\n",
"X=inv(A)*B;//Variable matrix\n",
"t=(X(1)*log(P1)+X(2));//Required temperature in degree C\n",
"\n",
"//Output\n",
"printf('Temperature corresponding to the thermometric property is %3.0f degree C',t)"
   ]
   }
,
{
		   "cell_type": "markdown",
		   "metadata": {},
		   "source": [
			"## Example 1.3: The_work_done_by_the_gas.sce"
		   ]
		  },
  {
"cell_type": "code",
	   "execution_count": null,
	   "metadata": {
	    "collapsed": true
	   },
	   "outputs": [],
"source": [
"clc\n",
"clear\n",
"//Input data\n",
"p1=2070;//Initial pressure of gas in kN/m^2\n",
"p2=207;//Final pressure of gas in kN/m^2\n",
"v1=0.014;//Initial volume of gas in m^3\n",
"n=1.35;//constant\n",
"\n",
"//Calculations\n",
"P=p1/p2;//Pressure ratio\n",
"v2=v1*(P^(1/1.35));//Final volume of gas in m^3\n",
"W=(p1*v1-p2*v2)/(n-1);//Work done in kJ\n",
"\n",
"//Output\n",
"printf('(a)Final volume of gas v2= %3.5f m^3 \n (b)Work done by the gas during the expansion W= %3.2f kJ',v2,W)"
   ]
   }
,
{
		   "cell_type": "markdown",
		   "metadata": {},
		   "source": [
			"## Example 1.4: Final_pressure_and_work_done.sce"
		   ]
		  },
  {
"cell_type": "code",
	   "execution_count": null,
	   "metadata": {
	    "collapsed": true
	   },
	   "outputs": [],
"source": [
"clc\n",
"clear\n",
"//Input data\n",
"v1=0.056;//Initial volume of gas in m^3\n",
"v2=0.007;//Final volume of gas in m^3\n",
"p1=100;//Initial perssure compressed Isothermally in kN/m^2\n",
"\n",
"//Calculations\n",
"p2=(p1*v1)/v2;//Final pressure in kN/m^2\n",
"W=p1*v1*(log(v2/v1));//Work done in kJ\n",
"\n",
"//Output\n",
"printf('(a)Final pressure p2= %3.2f kN/m^2 \n (b)The work done on gas W= %3.2f kJ',p2,W)"
   ]
   }
,
{
		   "cell_type": "markdown",
		   "metadata": {},
		   "source": [
			"## Example 1.5: The_work_done.sce"
		   ]
		  },
  {
"cell_type": "code",
	   "execution_count": null,
	   "metadata": {
	    "collapsed": true
	   },
	   "outputs": [],
"source": [
"clc \n",
"clear\n",
"//Input data\n",
"v1=1;//Initial volume in m^3\n",
"v2=3;//Final volume in m^3\n",
"\n",
"//Calculations\n",
"W=10^5*(((v2^3-v1^3)/3)+8*(log(v2/v1)));//Work done in J\n",
"\n",
"//Output\n",
"printf('The work done W= %3.1f J',W)"
   ]
   }
,
{
		   "cell_type": "markdown",
		   "metadata": {},
		   "source": [
			"## Example 1.6: The_work_done_by_the_gas.sce"
		   ]
		  },
  {
"cell_type": "code",
	   "execution_count": null,
	   "metadata": {
	    "collapsed": true
	   },
	   "outputs": [],
"source": [
"clc\n",
"clear\n",
"//Input data\n",
"v1=0.2;//Initial volume in m^3\n",
"v2=0.5;//Final volume in m^3\n",
"\n",
"//Calculations\n",
"W=1500*(((v2^2-v1^2)/200)+(v2-v1))/1000;//Work done in kJ\n",
"\n",
"//Output\n",
"printf('The work done by the gas W= %3.4f kJ ',W)"
   ]
   }
,
{
		   "cell_type": "markdown",
		   "metadata": {},
		   "source": [
			"## Example 1.8: The_net_work_done.sce"
		   ]
		  },
  {
"cell_type": "code",
	   "execution_count": null,
	   "metadata": {
	    "collapsed": true
	   },
	   "outputs": [],
"source": [
"clc \n",
"clear\n",
"//Input data\n",
"v1=1.5;//Initial volume in m^3\n",
"v2=2;//Final volume in m^3\n",
"w1=2;//Work receiving in Nm\n",
"p=6;//constsnt pressure of gas in N/m^2\n",
"\n",
"//Calculations\n",
"w2=p*(v2-v1);//Work done in Nm\n",
"W=w2-w1;//Net work done by the system in Nm\n",
"\n",
"//Output\n",
"printf('Net work done by the system W= %3.1f Nm',W)"
   ]
   }
,
{
		   "cell_type": "markdown",
		   "metadata": {},
		   "source": [
			"## Example 1.9: Readings_of_pressure.sce"
		   ]
		  },
  {
"cell_type": "code",
	   "execution_count": null,
	   "metadata": {
	    "collapsed": true
	   },
	   "outputs": [],
"source": [
"clc\n",
"clear\n",
"//Input data\n",
"d=13596;//Density of Hg in kg/m^3\n",
"g=9.806;//gravity in m/sec^2\n",
"z=760;//Barometer pressure in mm of Hg\n",
"Pv=40;//Vaccum pressure in cm\n",
"dw=1000;//Density of water in kg/m^3\n",
"Zw=1.5;//Level of water in m\n",
"\n",
"//Calculations\n",
"p=(d*g*z)/10^6;//Pressure in kPa\n",
"p1=(80/76)*p;//Pressure in kPa\n",
"Pa=p-Pv;//Absolute pressure in kPa\n",
"p2=(36/76)*p;//Pressure in kPa\n",
"p3=(dw*g*Zw)/1000;//pressure in kPa\n",
"p4=(5.2*10^5)/1000;//pressure in kPa\n",
"\n",
"//Output\n",
"printf('(a)Pressure of 80cm of Hg = %3.3f kPa \n (b)Pressure of 40cm of Hg vaccum = %3.3f kPa \n (c)Pressure due to 1.5m of water coloumn = %3.2f kPa \n (d)Pressure in kPa for 5.2bar = %3.2f kPa',p1,p2,p3,p4)"
   ]
   }
],
"metadata": {
		  "kernelspec": {
		   "display_name": "Scilab",
		   "language": "scilab",
		   "name": "scilab"
		  },
		  "language_info": {
		   "file_extension": ".sce",
		   "help_links": [
			{
			 "text": "MetaKernel Magics",
			 "url": "https://github.com/calysto/metakernel/blob/master/metakernel/magics/README.md"
			}
		   ],
		   "mimetype": "text/x-octave",
		   "name": "scilab",
		   "version": "0.7.1"
		  }
		 },
		 "nbformat": 4,
		 "nbformat_minor": 0
}
