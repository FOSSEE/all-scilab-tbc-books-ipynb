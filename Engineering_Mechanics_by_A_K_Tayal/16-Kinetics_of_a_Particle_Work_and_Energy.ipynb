{
"cells": [
 {
		   "cell_type": "markdown",
	   "metadata": {},
	   "source": [
       "# Chapter 16: Kinetics of a Particle Work and Energy"
	   ]
	},
{
		   "cell_type": "markdown",
		   "metadata": {},
		   "source": [
			"## Example 16.10: Principle_of_work_and_energy.sce"
		   ]
		  },
  {
"cell_type": "code",
	   "execution_count": null,
	   "metadata": {
	    "collapsed": true
	   },
	   "outputs": [],
"source": [
"// Initilization of variables\n",
"m=5 // kg // mass of the block\n",
"theta=30 // degree // inclination of the plane\n",
"x=0.5 // m // distance travelled by the block\n",
"k=1500 // N/m // stiffness of the spring\n",
"mu=0.2 // coefficient of friction between the block and the surface\n",
"g=9.81 // m/s^2 // acc due to gravity\n",
"// Calculations\n",
"// Consider the F.B.D of the block\n",
"// Applying the principle of work and energy between the positions 1 & 2 and on further simplification we get the generic eq'n for delta as, 750*delta^2-16.03*delta-8.015=0. From this eq'n e have values of a.b & c as,\n",
"a=750\n",
"b=-16.03\n",
"c=-8.015\n",
"// Thus the roots of the eq'n are given as,\n",
"delta=(-b+(sqrt(b^2-(4*a*c))))/(2*a) // m\n",
"// Results\n",
"clc\n",
"printf('The maximum compression of the spring is %f m \n',delta)"
   ]
   }
,
{
		   "cell_type": "markdown",
		   "metadata": {},
		   "source": [
			"## Example 16.11: Principle_of_conservation_of_energy.sce"
		   ]
		  },
  {
"cell_type": "code",
	   "execution_count": null,
	   "metadata": {
	    "collapsed": true
	   },
	   "outputs": [],
"source": [
"// Initilization of variables\n",
"M=10 // kg // Here M=M_1=M_2\n",
"g=9.81 // m/s^2 // acc due to gravity\n",
"// Calculations\n",
"// Consider the respective F.B.D\n",
"// Applying the principle of conservation of energy and by equating the total energies at position 1 & position 2 we get v as,\n",
"v=sqrt((M*g*4)/(25)) // m/s\n",
"// Results\n",
"clc\n",
"printf('The velocity of mass M_2 is %f m/s \n',v)"
   ]
   }
,
{
		   "cell_type": "markdown",
		   "metadata": {},
		   "source": [
			"## Example 16.1: Work_of_the_Force_of_Spring.sce"
		   ]
		  },
  {
"cell_type": "code",
	   "execution_count": null,
	   "metadata": {
	    "collapsed": true
	   },
	   "outputs": [],
"source": [
"// Initilization of variables\n",
"k=1000 // N/m // stiffness of spring\n",
"x_1=0.1 // m // distance upto which the spring is stretched\n",
"x_2=0.2 // m \n",
"x_0=0 // initial position of spring\n",
"// Calculations\n",
"// Work required to stretch the spring by 10 cm from undeformed position is given as,\n",
"U_10=-(k/2)*(x_1^2-x_0^2) // N-m \n",
"// Work required to stretch from 10 cm to 20 cm is,\n",
"U=-(1/2)*k*(x_2^2-x_1^2) // N-m\n",
"// Results\n",
"clc\n",
"printf('The work of the spring force is %f N-m \n',U_10)\n",
"printf('The work required to stretch the spring by 20 cm is %f N-m \n',U)"
   ]
   }
,
{
		   "cell_type": "markdown",
		   "metadata": {},
		   "source": [
			"## Example 16.3: Work_and_energy_principle_for_a_system_of_particles.sce"
		   ]
		  },
  {
"cell_type": "code",
	   "execution_count": null,
	   "metadata": {
	    "collapsed": true
	   },
	   "outputs": [],
"source": [
"// Initilization of variables\n",
"M_A=100 // kg // mass of block A\n",
"M_B=150 // kg // mass of block B\n",
"mu=0.2 // coefficient of friction between the blocks and the surface\n",
"x=1 // m // distance by which block A moves\n",
"g=9.81 // m/s^2 // acc due to gravity\n",
"// Calculations\n",
"// Consider the respective F.B.D\n",
"// Applying the principle of work and energy to the system of blocks A&B and on simplifying we get the value of v as,\n",
"v=sqrt(((-mu*M_A*g)+(M_B*g))/(125)) // m/s \n",
"// Results\n",
"clc\n",
"printf('The velocity of block A is %f m/s \n',v)"
   ]
   }
,
{
		   "cell_type": "markdown",
		   "metadata": {},
		   "source": [
			"## Example 16.4: Power.sce"
		   ]
		  },
  {
"cell_type": "code",
	   "execution_count": null,
	   "metadata": {
	    "collapsed": true
	   },
	   "outputs": [],
"source": [
"// Initilization of variables\n",
"M=500*10^3 // kg // mass of the train\n",
"u=0 // m/s // initial speed\n",
"v=90*(1000/3600) // m/s // final speed\n",
"t=50 // seconds\n",
"F_r=15*10^3 // N // Frictioal resistance to motion\n",
"// Calculations\n",
"// Acceleration is given as,\n",
"a=v/t // m/s^2\n",
"// The total force required to accelerate the train is,\n",
"F=M*a // N\n",
"// The maximum power required is at, t=50s & v=25 m/s\n",
"P=(F+F_r)*v*(10^-6) // MW\n",
"// At any time after 50 seconds, the force required only to overcome the frictional resistance of 15*10^3 N is,\n",
"P_req=F_r*v*(10^-3) // kW\n",
"// Results\n",
"clc\n",
"printf('(a) The maximum power required is %f MW \n',P)\n",
"printf('(b) The power required to maintain a speed of 90 km/hr is %f kW \n',P_req)"
   ]
   }
,
{
		   "cell_type": "markdown",
		   "metadata": {},
		   "source": [
			"## Example 16.5: Principle_of_conservation_of_energy.sce"
		   ]
		  },
  {
"cell_type": "code",
	   "execution_count": null,
	   "metadata": {
	    "collapsed": true
	   },
	   "outputs": [],
"source": [
"// Initilization of variables\n",
"W=50 // N // Weight suspended on spring\n",
"k=10 // N/cm // stiffness of the spring\n",
"x_2=15 // cm // measured extensions\n",
"h=10 // cm // height for position 2\n",
"// Calculations\n",
"// Consider the required F.B.D.\n",
"// POSITION 1: The force exerted by the spring is,\n",
"F_1=W // N\n",
"// Extension of spring from undeformed position is x_1,\n",
"x_1=F_1/k // cm\n",
"// POSITION 2: When pulled by 10 cm to the floor. P.E of weight is,\n",
"P.E_g=-W*h // N-cm // (P.E_g= P.E_gravity)\n",
"// P.E of the spring with respect to position 1\n",
"P.E_s=(1/2)*k*(x_2^2-x_1^2) // N-cm  // (P.E_s= P.E_ spring)\n",
"// Total P.E of the system with respect to position 1\n",
"P.E_t=P.E_g+P.E_s // N-cm // (P.E_t= P.E_total)\n",
"// Total energy of the system,\n",
"E_2=P.E_t // N-cm\n",
"// Total energy of the system in position 3 w.r.t position 1 is:\n",
"x=-sqrt(100) // cm\n",
"x=+sqrt(100) // cm\n",
"// Results\n",
"clc\n",
"printf('The potential energy of the system is %f N-cm \n',E_2)\n",
"printf('The maximum height above the floor that the weight W will attain after release is %f cm \n',x)"
   ]
   }
,
{
		   "cell_type": "markdown",
		   "metadata": {},
		   "source": [
			"## Example 16.6: Principle_of_conservation_of_energy.sce"
		   ]
		  },
  {
"cell_type": "code",
	   "execution_count": null,
	   "metadata": {
	    "collapsed": true
	   },
	   "outputs": [],
"source": [
"// Initilization of variables\n",
"m=5 // kg // mass of the ball\n",
"k=500 // N/m // stiffness of the spring\n",
"h=10 // cm // height of drop\n",
"g=9.81 // m/s^2 // acc due to gravity\n",
"// Calculations\n",
"// Consider the respective F.B.D.\n",
"// In eq'n 1 substitute the respective values and simplify it further. In this eq'n of 2nd degree a=1 b=-0.1962 & c=-0.01962. Thus the roots of the eq'n is given as,\n",
"a=1 \n",
"b=-0.1962\n",
"c=-0.01962\n",
"delta=((-b+(sqrt((b^2)-(4*a*c))))/(2*a))*(10^2) // cm // We consider the +ve value of delta\n",
"// Results\n",
"clc\n",
"printf('The maximum deflection of the spring is %f cm \n',delta)"
   ]
   }
,
{
		   "cell_type": "markdown",
		   "metadata": {},
		   "source": [
			"## Example 16.7: Principle_of_conservation_of_energy.sce"
		   ]
		  },
  {
"cell_type": "code",
	   "execution_count": null,
	   "metadata": {
	    "collapsed": true
	   },
	   "outputs": [],
"source": [
"// Initilization of variables\n",
"m=5 // kg // mass of the ball\n",
"k=500 // N/m // stiffness of the spring\n",
"h=0.1 // m // height of vertical fall\n",
"g=9.81 // m/s^2 // acc due to gravity\n",
"// Calculations\n",
"// Consider the respective F.B.D\n",
"// On equating the total energies at position 1 & 2 we get eq'n of delta as,\n",
"delta=sqrt((2*m*g*h)/(k)) // m \n",
"// Results\n",
"clc\n",
"printf('The maximum compression of the spring is %f m \n',delta)"
   ]
   }
,
{
		   "cell_type": "markdown",
		   "metadata": {},
		   "source": [
			"## Example 16.9: Principle_of_conservation_of_energy.sce"
		   ]
		  },
  {
"cell_type": "code",
	   "execution_count": null,
	   "metadata": {
	    "collapsed": true
	   },
	   "outputs": [],
"source": [
"// Initilization of variables\n",
"m=5 // kg // mass of the collar\n",
"k=500 // N/m // stiffness of the spring\n",
"AB=0.15 // m // Refer the F.B.D for AB\n",
"AC=0.2 // m // Refer the F.B.D for AC\n",
"g=9.81 // m/s^2 // acc due to gravity\n",
"// Calculations\n",
"// Consider the respective F.B.D\n",
"// POSITION 1: \n",
"P.E_1=m*g*(AB)+0 \n",
"K.E_1=0\n",
"E_1=P.E_1+K.E_1 //\n",
"// POSITION 2 : Length of the spring in position 2\n",
"CB=sqrt(AB^2+AC^2) // m \n",
"// x is the extension in the spring\n",
"x=CB-AC // m\n",
"// On substuting and Equating equations of total energies for position1 & position 2 we get the value of v as,\n",
"v=sqrt(((E_1-((1/2)*k*x^2))*2)/m) // m/s\n",
"// Results\n",
"clc\n",
"printf('The velocity of the collar will be %f m/s \n',v)\n",
"// The answer given in the text book (v=16.4 m/s) is wrong."
   ]
   }
],
"metadata": {
		  "kernelspec": {
		   "display_name": "Scilab",
		   "language": "scilab",
		   "name": "scilab"
		  },
		  "language_info": {
		   "file_extension": ".sce",
		   "help_links": [
			{
			 "text": "MetaKernel Magics",
			 "url": "https://github.com/calysto/metakernel/blob/master/metakernel/magics/README.md"
			}
		   ],
		   "mimetype": "text/x-octave",
		   "name": "scilab",
		   "version": "0.7.1"
		  }
		 },
		 "nbformat": 4,
		 "nbformat_minor": 0
}
