{
"cells": [
 {
		   "cell_type": "markdown",
	   "metadata": {},
	   "source": [
       "# Chapter 22: Kinetics of Rigid Body Force and Acceleration"
	   ]
	},
{
		   "cell_type": "markdown",
		   "metadata": {},
		   "source": [
			"## Example 22.10: EX22_10.sce"
		   ]
		  },
  {
"cell_type": "code",
	   "execution_count": null,
	   "metadata": {
	    "collapsed": true
	   },
	   "outputs": [],
"source": [
"// Initilization of variables\n",
"L=1 // m // length of rod AB\n",
"m=10 // kg // mass of the rod\n",
"g=9.81 \n",
"theta=30 // degree\n",
"// Calculations\n",
"// solving eq'n 4 for omega we get,\n",
"omega=sqrt(2*16.82*sind(theta)) // rad/s\n",
"// Now solving eq'ns 1 &3 for alpha we get,\n",
"alpha=(12/7)*g*cosd(theta) // rad/s\n",
"// Components of reaction are given as,\n",
"R_t=((m*g*cosd(theta))-((m*alpha*L)/4)) // N\n",
"R_n=((m*omega^2*L)/(4))+(m*g*sind(theta)) // N\n",
"R=sqrt(R_t^2+R_n^2) // N \n",
"// Results\n",
"clc\n",
"printf('(a) The angular velocity of the rod is %f rad/sec \n',omega)\n",
"printf('(b) The reaction at the hinge is %f N \n',R)"
   ]
   }
,
{
		   "cell_type": "markdown",
		   "metadata": {},
		   "source": [
			"## Example 22.1: EX22_1.sce"
		   ]
		  },
  {
"cell_type": "code",
	   "execution_count": null,
	   "metadata": {
	    "collapsed": true
	   },
	   "outputs": [],
"source": [
"// Initilization of variables\n",
"N=1500 // r.p.m\n",
"r=0.5 // m // radius of the disc\n",
"m=300 // N // weight of the disc\n",
"t=120 // seconds // time in which the disc comes to rest\n",
"omega=0 \n",
"g=9.81 // m/s^2\n",
"// Calculations\n",
"omega_0=(2*%pi*N)/60 // rad/s\n",
"// angular deceleration is given as,\n",
"alpha=-(omega_0/t) // radian/second^2\n",
"theta=(omega_0^2)/(2*(-alpha)) // radian\n",
"// Let n be the no of revolutions taken by the disc before it comes to rest, then\n",
"n=theta/(2*%pi)\n",
"// Now,\n",
"I_G=((1/2)*m*r^2)/g\n",
"// The frictional torque is given as,\n",
"M=I_G*alpha // N-m\n",
"// Results\n",
"clc\n",
"printf('(a) The no of revolutions executed by the disc before coming to rest is %f \n',n)\n",
"printf('(b) The frictional torque is %f N-m \n',M)"
   ]
   }
,
{
		   "cell_type": "markdown",
		   "metadata": {},
		   "source": [
			"## Example 22.2: EX22_2.sce"
		   ]
		  },
  {
"cell_type": "code",
	   "execution_count": null,
	   "metadata": {
	    "collapsed": true
	   },
	   "outputs": [],
"source": [
"// Initilization of variables\n",
"s=1 // m\n",
"mu=0.192 // coefficient of static friction\n",
"g=9.81 // m/s^2\n",
"// Calculations\n",
"// The maximum angle of the inclined plane is given as,\n",
"theta=atand(3*mu) // degree\n",
"a=(2/3)*g*sind(theta) // m/s^2 // by solving eq'n 4\n",
"v=sqrt(2*a*s) // m/s\n",
"// Let the acceleration at the centre be A which is given as,\n",
"A=g*sind(theta) // m/s^2 // from eq'n 1\n",
"// Results\n",
"clc\n",
"printf('(a) The acceleration at the centre is %f m/s^2 \n',A)\n",
"printf('(b) The maximum angle of the inclined plane is %f degree \n',theta)"
   ]
   }
,
{
		   "cell_type": "markdown",
		   "metadata": {},
		   "source": [
			"## Example 22.5: EX22_5.sce"
		   ]
		  },
  {
"cell_type": "code",
	   "execution_count": null,
	   "metadata": {
	    "collapsed": true
	   },
	   "outputs": [],
"source": [
"// Initilization of variables\n",
"W_a=25 // N \n",
"W_b=25 // N \n",
"W=200 // N // weight of the pulley\n",
"i_g=0.2 // m // radius of gyration\n",
"g=9.81 // m/s^2\n",
"// Calculations\n",
"// Solving eqn's 1 & 2 for acceleration of weight A (assume a)\n",
"a=(0.15*W_a*g)/(((W*i_g^2)/(0.45))+(0.45*W_a)+((0.6*W_b)/(3))) // m/s^2\n",
"// Results\n",
"clc\n",
"printf('The acceleration of weight A is %f m/s^2 \n',a)"
   ]
   }
,
{
		   "cell_type": "markdown",
		   "metadata": {},
		   "source": [
			"## Example 22.8: EX22_8.sce"
		   ]
		  },
  {
"cell_type": "code",
	   "execution_count": null,
	   "metadata": {
	    "collapsed": true
	   },
	   "outputs": [],
"source": [
"// Initilization of variables\n",
"r_1=0.075 // m\n",
"r_2=0.15 // m\n",
"P=50 // N\n",
"W=100 // N\n",
"i_g=0.05 // m\n",
"theta=30 // degree\n",
"g=9.81 // m/s^2\n",
"// Calculations\n",
"// The eq'n for acceleration of the pool is given by solving eqn's 1,2 &3 as,\n",
"a=(50*g*(r_2*cosd(theta)-r_1))/(100*((i_g^2/r_2)+r_2)) // m/s^2\n",
"// Results\n",
"clc\n",
"printf('The acceleration of the pool is %f m/s^2 \n',a)"
   ]
   }
],
"metadata": {
		  "kernelspec": {
		   "display_name": "Scilab",
		   "language": "scilab",
		   "name": "scilab"
		  },
		  "language_info": {
		   "file_extension": ".sce",
		   "help_links": [
			{
			 "text": "MetaKernel Magics",
			 "url": "https://github.com/calysto/metakernel/blob/master/metakernel/magics/README.md"
			}
		   ],
		   "mimetype": "text/x-octave",
		   "name": "scilab",
		   "version": "0.7.1"
		  }
		 },
		 "nbformat": 4,
		 "nbformat_minor": 0
}
