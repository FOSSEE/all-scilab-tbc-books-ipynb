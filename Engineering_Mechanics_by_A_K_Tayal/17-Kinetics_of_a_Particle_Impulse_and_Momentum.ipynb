{
"cells": [
 {
		   "cell_type": "markdown",
	   "metadata": {},
	   "source": [
       "# Chapter 17: Kinetics of a Particle Impulse and Momentum"
	   ]
	},
{
		   "cell_type": "markdown",
		   "metadata": {},
		   "source": [
			"## Example 17.1: Principle_of_impulse_and_momentum.sce"
		   ]
		  },
  {
"cell_type": "code",
	   "execution_count": null,
	   "metadata": {
	    "collapsed": true
	   },
	   "outputs": [],
"source": [
"// Initilization of variables\n",
"m=0.1 // kg // mass of ball\n",
"// Calculations\n",
"// Consider the respective F.B.D.\n",
"// For component eq'n in x-direction\n",
"delta_t=0.015 // seconds // time for which the ball &the bat are in contact\n",
"v_x_1=-25 // m/s \n",
"v_x_2=40*cosd(40) // m/s\n",
"F_x_average=((m*(v_x_2))-(m*(v_x_1)))/(delta_t) // N\n",
"// For component eq'n in y-direction\n",
"delta_t=0.015 // sceonds\n",
"v_y_1=0 // m/s\n",
"v_y_2=40*sind(40) // m/s\n",
"F_y_average=((m*v_y_2)-(m*(v_y_1)))/(delta_t) // N\n",
"F_average=sqrt(F_x_average^2+F_y_average^2) // N\n",
"// Results\n",
"clc\n",
"printf('The average impules force exerted by the bat on the ball is %f N \n',F_average)"
   ]
   }
,
{
		   "cell_type": "markdown",
		   "metadata": {},
		   "source": [
			"## Example 17.2: Principle_of_impulse_and_momentum.sce"
		   ]
		  },
  {
"cell_type": "code",
	   "execution_count": null,
	   "metadata": {
	    "collapsed": true
	   },
	   "outputs": [],
"source": [
"// Initiliation of variables\n",
"m_g=3000 // kg // mass of the gun\n",
"m_s=50 // kg // mass of the shell\n",
"v_s=300 // m/s // initial velocity of shell\n",
"s=0.6 // m // distance at which the gun is brought to rest\n",
"v=0 // m/s // initial velocity of gun\n",
"// Calculations\n",
"// On equating eq'n 1 & eq'n 2 we get v_g as,\n",
"v_g=(m_s*v_s)/(-m_g) // m/s\n",
"// Using v^2-u^2=2*a*s to find acceleration,\n",
"a=(v^2-v_g^2)/(2*s) // m/s^2\n",
"// Force required to stop the gun,\n",
"F=m_g*(-a) // N // here we make a +ve to find the Force\n",
"// Time required to stop the gun, using v=u+a*t:\n",
"t=(-v_g)/(-a)  // seconds // we take -a to consider +ve value of acceleration\n",
"// Results\n",
"clc\n",
"printf('The recoil velocity of gun is %f m/s \n',v_g)\n",
"printf('The Force required to stop the gun is %f N \n',F)\n",
"printf('The time required to stop the gun is %f seconds \n',t)"
   ]
   }
,
{
		   "cell_type": "markdown",
		   "metadata": {},
		   "source": [
			"## Example 17.3: Principle_of_impulse_and_momentum.sce"
		   ]
		  },
  {
"cell_type": "code",
	   "execution_count": null,
	   "metadata": {
	    "collapsed": true
	   },
	   "outputs": [],
"source": [
"// Initilization of variables\n",
"m_m=50 // kg // mass of man\n",
"m_b=250 // kg // mass of boat\n",
"s=5 // m // length of the boat\n",
"v_r=1 // m/s // here v_r=v_(m/b)= relative velocity of man with respect to boat\n",
"// Calculations\n",
"// Velocity of man is given by, v_m=(-v_r)+v_b\n",
"// Final momentum of the man and the boat=m_m*v_m+m_b*v_b. From this eq'n v_b is given as\n",
"v_b=(m_m*v_r)/(m_m+m_b) // m/s // this is the absolute velocity of the boat\n",
"// Time taken by man to move to the other end of the boat is,\n",
"t=s/v_r // seconds\n",
"// The distance travelled by the boat in the same time is,\n",
"s_b=v_b*t // m to right from O\n",
"// Results\n",
"clc\n",
"printf('(a) The velocity of boat as observed from the ground is %f m/s \n',v_b)\n",
"printf('(b) The distance by which the boat gets shifted is %f m \n',s_b)"
   ]
   }
,
{
		   "cell_type": "markdown",
		   "metadata": {},
		   "source": [
			"## Example 17.5: Principle_of_impulse_and_momentum.sce"
		   ]
		  },
  {
"cell_type": "code",
	   "execution_count": null,
	   "metadata": {
	    "collapsed": true
	   },
	   "outputs": [],
"source": [
"// Initilization of variables\n",
"M=250 // kg // mass of the boat\n",
"M_1=50 // kg // mass of the man\n",
"M_2=75 // kg // mass of the man\n",
"v=4 // m/s // relative velocity of man w.r.t boat\n",
"// Calculations \n",
"// (a)\n",
"// Let the increase in the velocity or the final velocity of the boat when TWO MEN DIVE SIMULTANEOUSLY is given by eq'n,\n",
"deltaV_1=((M_1+M_2)*v)/(M+(M_1+M_2)) // m/s\n",
"// (b) // The increase in the velocity or the final velocity of the boat when man of 75 kg dives 1st followed by man of 50 kg\n",
"// Man of 75 kg dives first, So let the final velocity is given as\n",
"deltaV_75=(M_2*v)/((M+M_1)+M_2) // m/s\n",
"// Now let the man of 50 kg jumps  next, Here\n",
"deltaV_50=(M_1*v)/(M+M_1) // m/s\n",
"// Let final velocity of boat is,\n",
"deltaV_2=0+deltaV_75+deltaV_50 // m/s\n",
"// (c) \n",
"// The man of 50 kg jumps first,\n",
"delV_50=(M_1*v)/((M+M_2)+(M_1)) // m/s\n",
"// the man of 75 kg jumps next,\n",
"delV_75=(M_2*v)/(M+M_2) // m/s\n",
"// Final velocity of boat is,\n",
"deltaV_3=0+delV_50+delV_75 // m/s\n",
"// Results\n",
"clc\n",
"printf('(a) The Final velocity of boat when two men dive simultaneously is %f m/s \n',deltaV_1)\n",
"printf('(b) The Final velocity of boat when the man of 75 kg dives first and 50 kg dives second is %f m/s \n',deltaV_2)\n",
"printf('(3) The Final velocity of boat when the man of 50kg dives first followed by the man of 75 kg is %f m/s \n',deltaV_3)"
   ]
   }
,
{
		   "cell_type": "markdown",
		   "metadata": {},
		   "source": [
			"## Example 17.6: Principle_of_impulse_and_momentum.sce"
		   ]
		  },
  {
"cell_type": "code",
	   "execution_count": null,
	   "metadata": {
	    "collapsed": true
	   },
	   "outputs": [],
"source": [
"// Initilization of variables\n",
"m_m=70 // kg // mass of man\n",
"m_c=35 // kg // mass of canoe\n",
"m=25/1000 // kg // mass of bullet\n",
"m_wb=2.25 // kg // mass of wodden block\n",
"V_b=5 // m/s // velocity of block\n",
"// Calculations\n",
"// Considering Initial Momentum of bullet=Final momentum of bullet & the block we have,Velocity of  bullet (v) is given by eq'n,\n",
"v=(V_b*(m_wb+m))/(m) // m/s \n",
"// Considering, Momentum of the bullet=Momentum of the canoe & the man,the velocity on canoe is given by eq'n\n",
"V=(m*v)/(m_m+m_c) // m/s\n",
"// Results\n",
"clc\n",
"printf('The velocity of the canoe is %f m/s \n',V)"
   ]
   }
,
{
		   "cell_type": "markdown",
		   "metadata": {},
		   "source": [
			"## Example 17.8: Principle_of_conservation_of_angular_momentum.sce"
		   ]
		  },
  {
"cell_type": "code",
	   "execution_count": null,
	   "metadata": {
	    "collapsed": true
	   },
	   "outputs": [],
"source": [
"// Initilization of variables\n",
"m=2 // kg // mass of the particle\n",
"v_0=20 // m/s // speed of rotation of the mass attached to the string\n",
"r_0=1 // m // radius of the circle along which the particle is rotated\n",
"r_1=r_0/2 // m\n",
"// Calculations\n",
"// here, equating (H_0)_1=(H_0)_2 i.e  (m*v_0)*r_0=(m*v_1)*r_1 (here, r_1=r_0/2). On solving we get v_1 as,\n",
"v_1=2*v_0 // m/s\n",
"// Tension is given by eq'n,\n",
"T=(m*v_1^2)/r_1 // N\n",
"// Results\n",
"clc\n",
"printf('The new speed of the particle is %f m/s \n',v_1)\n",
"printf('The tension in the string is %f N \n',T)"
   ]
   }
],
"metadata": {
		  "kernelspec": {
		   "display_name": "Scilab",
		   "language": "scilab",
		   "name": "scilab"
		  },
		  "language_info": {
		   "file_extension": ".sce",
		   "help_links": [
			{
			 "text": "MetaKernel Magics",
			 "url": "https://github.com/calysto/metakernel/blob/master/metakernel/magics/README.md"
			}
		   ],
		   "mimetype": "text/x-octave",
		   "name": "scilab",
		   "version": "0.7.1"
		  }
		 },
		 "nbformat": 4,
		 "nbformat_minor": 0
}
