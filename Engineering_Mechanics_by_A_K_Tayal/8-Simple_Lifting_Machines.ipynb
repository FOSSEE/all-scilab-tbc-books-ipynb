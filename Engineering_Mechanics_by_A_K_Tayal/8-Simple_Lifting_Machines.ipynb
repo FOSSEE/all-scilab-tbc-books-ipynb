{
"cells": [
 {
		   "cell_type": "markdown",
	   "metadata": {},
	   "source": [
       "# Chapter 8: Simple Lifting Machines"
	   ]
	},
{
		   "cell_type": "markdown",
		   "metadata": {},
		   "source": [
			"## Example 8.1: Simple_Machine.sce"
		   ]
		  },
  {
"cell_type": "code",
	   "execution_count": null,
	   "metadata": {
	    "collapsed": true
	   },
	   "outputs": [],
"source": [
"// Initilization of variables\n",
"V.R=6 // Velocity ratio\n",
"P=20 //N // Effort\n",
"W=100 //N // Load lifted\n",
"// Calculations\n",
"//(a)\n",
"P_actual=P //N\n",
"W_actual=W //N\n",
"M.A=W/P // where, M.A= Mechanical advantage\n",
"E=(M.A/V.R)*100 //% // Where E= efficiency\n",
"//(b)\n",
"// Now ideal effort required is,\n",
"P_ideal=W/V.R //N\n",
"// Effort loss in friction is, (Le)\n",
"Le=P_actual-P_ideal //N // Effort loss in friction\n",
"//(c)\n",
"// Ideal load lifted is,(W_ideal)\n",
"W_ideal=P*V.R //N \n",
"// Frictional load/resistance,\n",
"F=W_ideal-W_actual // N\n",
"// Results\n",
"clc\n",
"printf('(a) The efficiency of the machine is %f percent \n',E)\n",
"printf('(b) The effort loss in friction of the machine is %f N \n',Le)\n",
"printf('(c) The Frictional load of the machine is %f N \n',F)\n",
""
   ]
   }
,
{
		   "cell_type": "markdown",
		   "metadata": {},
		   "source": [
			"## Example 8.2: Simple_machines_performance.sce"
		   ]
		  },
  {
"cell_type": "code",
	   "execution_count": null,
	   "metadata": {
	    "collapsed": true
	   },
	   "outputs": [],
"source": [
"// Initilization of variables\n",
"V_r=20 // Velocity ratio\n",
"// Values from the table // Variables have been assumed\n",
"// Values of W in N\n",
"W=[30;40;50;60;70;80;90;100]\n",
"// P in N\n",
"P=[7;8.5;10;11.5;13.5;14.5;16;17.5]\n",
"M.A=[W(1)/P(1);W(2)/P(2);W(3)/P(3);W(4)/P(4);W(5)/P(5);W(6)/P(6);W(7)/P(7);W(8)/P(8)]\n",
"// Efficiency (n)\n",
"n=(V_r^-1)*[M.A(1);M.A(2);M.A(3);M.A(4);M.A(5);M.A(6);M.A(7);M.A(8)]*100 // %\n",
"// Calculations\n",
"// Part (a)- Realtionship between W & P\n",
"// Here part a cannot be solved as it has variables which cannot be defined in Scilab. Ref.textbook for the solution\n",
"// Part (b)- Graph between W & efficiency n(eta)\n",
"x=[0;W(1);W(2);W(3);W(4);W(5);W(6);W(7);W(8)] // values for W // N\n",
"y=[0;n(1);n(2);n(3);n(4);n(5);n(6);n(7);n(8)] // values for efficiency n (eta) // %\n",
"subplot(221)\n",
"xlabel('W (N)')\n",
"ylabel('efficiency n (%)')\n",
"plot(x,y)\n",
"// Results\n",
"clc\n",
"printf('The graph is the solution')\n",
"// The value of m is found by drawing straight line on the graph and by taking its slope. Ref textbook for the solution\n",
"// The curve of the graph may differ from textbook because of the graphical calculation."
   ]
   }
,
{
		   "cell_type": "markdown",
		   "metadata": {},
		   "source": [
			"## Example 8.3: Performance_of_Machine.sce"
		   ]
		  },
  {
"cell_type": "code",
	   "execution_count": null,
	   "metadata": {
	    "collapsed": true
	   },
	   "outputs": [],
"source": [
"// Calculations\n",
"W_actual=1360 //N //Load lifted\n",
"P_actual=100 //N // Effort\n",
"n=4 // no of pulleys\n",
"// Calculations\n",
"// for 1st system of pulleys having 4 movable pulleys, Velocity ratio is\n",
"V.R=2^(n) // Velocity Ratio\n",
"// If the machine were to be ideal(frictionless)\n",
"M.A=V.R // Here, M.A= mechanical advantage \n",
"// For a load of 1360 N, ideal effort required is\n",
"P_ideal=W_actual/V.R //N\n",
"// Effort loss in friction is,\n",
"P_friction=P_actual-P_ideal //N\n",
"// For a effort of 100 N, ideal load lifted is,\n",
"W_ideal=V.R*100 //N \n",
"// Load lost in friction is,\n",
"W_friction=W_ideal-W_actual // N \n",
"// Results\n",
"clc\n",
"printf('(a) The effort wasted in friction is %f N \n',P_friction)\n",
"printf('(b) The load wasted in friction is %f N \n',W_friction)"
   ]
   }
,
{
		   "cell_type": "markdown",
		   "metadata": {},
		   "source": [
			"## Example 8.4: Performance_of_a_machine.sce"
		   ]
		  },
  {
"cell_type": "code",
	   "execution_count": null,
	   "metadata": {
	    "collapsed": true
	   },
	   "outputs": [],
"source": [
"// Initilization of variables\n",
"W=1000 //N // Load to be lifted\n",
"n=5 // no. of pulleys\n",
"E=75 //% // Efficiency\n",
"// Calculations\n",
"// Velocity Ratio is given as,\n",
"V.R=n \n",
"// Mechanical Advantage (M.A) is,\n",
"M.A=(E/100)*V.R // from formulae, Efficiency=E=M.A/V.R\n",
"P=W/M.A //N // Effort required\n",
"// Results\n",
"clc\n",
"printf('The effort required to lift the load of 1000 N is %f N \n',P)"
   ]
   }
,
{
		   "cell_type": "markdown",
		   "metadata": {},
		   "source": [
			"## Example 8.5: Simple_screw_jack.sce"
		   ]
		  },
  {
"cell_type": "code",
	   "execution_count": null,
	   "metadata": {
	    "collapsed": true
	   },
	   "outputs": [],
"source": [
"// Initilization of variables\n",
"W=2000 //N // Load to be raised\n",
"l=0.70 //m // length of the handle\n",
"d=0.05 //m // diameter of the screw\n",
"p=0.01 //m // pitch of the screw\n",
"mu=0.15 // coefficient of friction at the screw thread\n",
"pie=3.14 //constant\n",
"E=1 // efficiency\n",
"// Calculations\n",
"phi=atand(mu) //degree\n",
"theta=atand(p/(pie*d)) //degree // where theta is the Helix angle\n",
"// Force required at the circumference of the screw is,\n",
"P=W*tand(theta+phi) // N //\n",
"// Force required at the end of the handle is,\n",
"F=(P*(d/2))/l //N \n",
"// Force required (Ideal case)\n",
"V.R=2*pie*l/p\n",
"M.A=E*V.R // from formulae E=M.A/V,R\n",
"P_ideal=W/M.A //N // From formulae, M.A=W/P\n",
"// Results\n",
"clc\n",
"printf('The force required at the end of the handle is %f N \n',F)\n",
"printf('The force required if the screw jack is considered to be an ideal machine is %f N \n',P_ideal)"
   ]
   }
],
"metadata": {
		  "kernelspec": {
		   "display_name": "Scilab",
		   "language": "scilab",
		   "name": "scilab"
		  },
		  "language_info": {
		   "file_extension": ".sce",
		   "help_links": [
			{
			 "text": "MetaKernel Magics",
			 "url": "https://github.com/calysto/metakernel/blob/master/metakernel/magics/README.md"
			}
		   ],
		   "mimetype": "text/x-octave",
		   "name": "scilab",
		   "version": "0.7.1"
		  }
		 },
		 "nbformat": 4,
		 "nbformat_minor": 0
}
