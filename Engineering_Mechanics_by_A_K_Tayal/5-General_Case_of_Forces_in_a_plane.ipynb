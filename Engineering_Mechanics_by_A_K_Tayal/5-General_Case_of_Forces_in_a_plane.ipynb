{
"cells": [
 {
		   "cell_type": "markdown",
	   "metadata": {},
	   "source": [
       "# Chapter 5: General Case of Forces in a plane"
	   ]
	},
{
		   "cell_type": "markdown",
		   "metadata": {},
		   "source": [
			"## Example 5.2: Equations_of_equilibrium.sce"
		   ]
		  },
  {
"cell_type": "code",
	   "execution_count": null,
	   "metadata": {
	    "collapsed": true
	   },
	   "outputs": [],
"source": [
"//Inilization of variables\n",
"W=2000 //N\n",
"Lab=2 //m //length of the member from the vertical to the 1st load of 2000 N\n",
"Lac=5 //m //length of the member from the vertical to the 2nd load of 2000 N\n",
"Lpq=3.5 //m\n",
"//Calculations\n",
"Rq=((W*Lab)+(W*Lac))/Lpq //N //take moment abt. pt P\n",
"Xp=Rq //N //sum Fx=0\n",
"Yp=2*W //N //sum Fy=0\n",
"Rp=sqrt(Xp^2+Yp^2) //N\n",
"//Resuts\n",
"clc\n",
"printf('The reaction at P is %f N \n',Rp)\n",
"printf('The reaction at Q is %f N \n',Rq)"
   ]
   }
,
{
		   "cell_type": "markdown",
		   "metadata": {},
		   "source": [
			"## Example 5.3: Equations_of_equilibrium.sce"
		   ]
		  },
  {
"cell_type": "code",
	   "execution_count": null,
	   "metadata": {
	    "collapsed": true
	   },
	   "outputs": [],
"source": [
"//Initilization of vaiables\n",
"W=25 //N // self weight of the ladder\n",
"M=75 //N // weight of the man standing o the ladder\n",
"theta=63.43 //degree // angle which the ladder makes with the horizontal\n",
"alpha=30 //degree // angle made by the string with the horizontal\n",
"Loa=2 //m // spacing between the wall and the ladder\n",
"Lob=4 //m //length from the horizontal to the top of the ladder touching the wall(vertical)\n",
"//Calculations\n",
"//Using matrix to solve the simultaneous eqn's 3 & 4\n",
"A=[2 -4;1 -0.577]\n",
"B=[100;100]\n",
"C=inv(A)*B\n",
"//Results\n",
"clc\n",
"printf('The reaction at A i.e Ra is %f N \n',C(1))\n",
"printf('The reaction at B i.e Rb is %f N \n',C(2))\n",
"//Calculations\n",
"T=C(2)/cosd(alpha) //N // from (eqn 1)\n",
"//Results\n",
"printf('The required tension in the string is %f N \n',T)"
   ]
   }
,
{
		   "cell_type": "markdown",
		   "metadata": {},
		   "source": [
			"## Example 5.4: Equations_of_Equilibrium.sce"
		   ]
		  },
  {
"cell_type": "code",
	   "execution_count": null,
	   "metadata": {
	    "collapsed": true
	   },
	   "outputs": [],
"source": [
"//Initilization of variables\n",
"W=100 //N\n",
"theta=60 //degree //angle made by the ladder with the horizontal\n",
"alpha=30 //degree //angle made by the ladder with the vertical wall\n",
"Lob=4 //m // length from the horizontal to the top of the ladder touching the wall(vertical)\n",
"Lcd=2 //m // length from the horizontal to the centre of the ladder where the man stands\n",
"//Calculations\n",
"Lab=Lob*secd(alpha) //m //length of the ladder\n",
"Lad=Lcd*tand(alpha) //m\n",
"Rb=(W*Lad)/Lab //N //take moment at A\n",
"Xa=Rb*sind(theta) //N // From eq'n 1\n",
"Ya=W+Rb*cosd(theta) //N From eq'n 2\n",
"//Results\n",
"clc\n",
"printf('The reaction at B i.e Rb is %f N \n',Rb)\n",
"printf('The horizontal reaction at A i.e Xa is %f N \n',Xa)\n",
"printf('The vertical reaction at A i.e Ya is %f N \n',Ya)"
   ]
   }
,
{
		   "cell_type": "markdown",
		   "metadata": {},
		   "source": [
			"## Example 5.5: Equations_of_Equilibrium.sce"
		   ]
		  },
  {
"cell_type": "code",
	   "execution_count": null,
	   "metadata": {
	    "collapsed": true
	   },
	   "outputs": [],
"source": [
"//Initilization of variables\n",
"W=100 //N //self weight of the man\n",
"alpha=30 //degree // angle made by the ladder with the wall\n",
"Lob=4 //m // length from the horizontal to the top of the ladder touching the wall(vertical)\n",
"Lcd=2 //m\n",
"//Calculations\n",
"// using the equiblirium equations\n",
"Ya=W //N // From eq'n 2\n",
"Lad=Lcd*tand(alpha) //m //Lad is the distance fom pt A to the point where the line from the cg intersects the horizontal\n",
"Rb=(W*Lad)/Lob //N // Taking sum of moment abt A\n",
"Xa=Rb //N // From eq'n 1\n",
"//Results\n",
"clc\n",
"printf('The horizontal reaction at A i.e Xa is %f N \n',Xa)\n",
"printf('The vertical reaction at A i.e Ya is %f N \n',Ya)\n",
"printf('The reaction at B i.e Rb is %f N \n',Rb)"
   ]
   }
,
{
		   "cell_type": "markdown",
		   "metadata": {},
		   "source": [
			"## Example 5.6: Equations_of_Equilibrium.sce"
		   ]
		  },
  {
"cell_type": "code",
	   "execution_count": null,
	   "metadata": {
	    "collapsed": true
	   },
	   "outputs": [],
"source": [
"//Initilization of variables\n",
"d=0.09 //m //diametre of the right circular cylinder\n",
"h=0.12 //m //height of the cyinder\n",
"W=10 //N // self weight of the bar\n",
"l=0.24 //m //length of the bar\n",
"//Calculations\n",
"theta=atand(h/d) // angle which the bar makes with the horizontal\n",
"Lad=sqrt(d^2+h^2) //m // Lad is the length of the bar from point A to point B\n",
"Rd=(W*h*cosd(theta))/Lad //N // Taking moment at A\n",
"Xa=Rd*sind(theta) //N // sum Fx=0.... From eq'n 1\n",
"Ya=W-(Rd*cosd(theta)) //N // sum Fy=0..... From eq'n 2\n",
"Ra=sqrt(Xa^2+Ya^2) //resultant of Xa & Ya\n",
"//Results\n",
"clc\n",
"printf('The horizontal reaction at A i.e Xa is %f N \n',Xa)\n",
"printf('The vertical reaction at A i.e Ya is %f N \n',Ya)\n",
"printf('Therefore the reaction at A i.e Ra is %f N \n',Ra)\n",
"printf('The reaction at D i.e Rd is %f N \n',Rd)"
   ]
   }
],
"metadata": {
		  "kernelspec": {
		   "display_name": "Scilab",
		   "language": "scilab",
		   "name": "scilab"
		  },
		  "language_info": {
		   "file_extension": ".sce",
		   "help_links": [
			{
			 "text": "MetaKernel Magics",
			 "url": "https://github.com/calysto/metakernel/blob/master/metakernel/magics/README.md"
			}
		   ],
		   "mimetype": "text/x-octave",
		   "name": "scilab",
		   "version": "0.7.1"
		  }
		 },
		 "nbformat": 4,
		 "nbformat_minor": 0
}
