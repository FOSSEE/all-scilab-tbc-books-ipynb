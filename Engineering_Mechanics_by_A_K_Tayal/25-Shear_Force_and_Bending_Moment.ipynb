{
"cells": [
 {
		   "cell_type": "markdown",
	   "metadata": {},
	   "source": [
       "# Chapter 25: Shear Force and Bending Moment"
	   ]
	},
{
		   "cell_type": "markdown",
		   "metadata": {},
		   "source": [
			"## Example 25.5: Shear_Force_and_Bending_Moment.sce"
		   ]
		  },
  {
"cell_type": "code",
	   "execution_count": null,
	   "metadata": {
	    "collapsed": true
	   },
	   "outputs": [],
"source": [
"// Initilization of variables\n",
"L_AB=3 // m // length of the beam\n",
"L_AC=1 // m\n",
"L_BC=2 // m\n",
"M_C=12 // kNm // clockwise moment at C\n",
"// Calculations\n",
"// REACTIONS\n",
"R_B=M_C/L_AB // kN // moment at A\n",
"R_A=-M_C/L_AB // kN // moment at B\n",
"// S.F\n",
"F_A=R_A // kN \n",
"F_B=R_A // kN\n",
"// B.M\n",
"M_A=0 // kNm\n",
"M_C1=R_A*L_AC // kNm // M_C1 is the BM just before C\n",
"M_C2=(R_A*L_AC)+M_C // kNm // M_C2 is the BM just after C\n",
"M_B=0 // kNm\n",
"// Plotting SFD & BMD\n",
"x=[0;0.99;1;3]\n",
"y=[-4;-4;-4;-4]\n",
"a=[0;0.99;1;3]\n",
"b=[0;-4;8;0]\n",
"subplot(221)\n",
"xlabel('Span (m)')\n",
"ylabel('Shear Force (kN)')\n",
"plot(x,y)\n",
"subplot(222)\n",
"plot(a,b)\n",
"xlabel('Span (m)')\n",
"ylabel('Bending Moment (kNm)')\n",
"// Results\n",
"clc\n",
"printf('The graphs are the solutions')"
   ]
   }
,
{
		   "cell_type": "markdown",
		   "metadata": {},
		   "source": [
			"## Example 25.7: Shear_Force_and_Bending_Moment.sce"
		   ]
		  },
  {
"cell_type": "code",
	   "execution_count": null,
	   "metadata": {
	    "collapsed": true
	   },
	   "outputs": [],
"source": [
"// Initilization of variables\n",
"L_AD=8 // m // length of the beam\n",
"L_AB=2 // m \n",
"L_BC=4 // m\n",
"L_CD=2 // m\n",
"UDL=1 // kN/m\n",
"P=2 // kN // point load at A\n",
"// Caalculations\n",
"// REACTIONS\n",
"// solving eqn's 1&2 using matrix to get R_B & R_C as,\n",
"A=[1 1;1 3]\n",
"B=[8;30]\n",
"C=inv(A)*B\n",
"// SHEAR FORCE\n",
"// the term F with suffixes 1 & 2 indicates SF just to left and right \n",
"F_A=-P // kN\n",
"F_B1=-P // kN\n",
"F_B2=-P+C(1) // kN\n",
"F_C1=-P+C(1)-(UDL*L_BC) // kN\n",
"F_C2=-P+C(1)-(UDL*L_BC)+C(2) // kN\n",
"F_D=0\n",
"// BENDING MOMENT\n",
"// the term F with suffixes 1 & 2 indicates BM just to left and right\n",
"M_A=0 // kNm\n",
"M_B=(-P*L_CD) // kNm\n",
"M_C=(-P*(L_AB+L_BC))+(C(1)*L_BC)-(UDL*L_BC*(L_BC/2)) // kNm\n",
"M_D=0 // kNm\n",
"// LOCATION OF MAXIMUM BM\n",
"// Max BM occurs at E at a distance of 2.5 m from B i.e x=L_AE=4.5 m from free end A. Thus max BM is given by taking moment at B\n",
"L_AE=4.5 // m // given\n",
"M_E=(-2*L_AE)+(4.5*(L_AE-2))-((1/2)*(L_AE-2)^2) // kNm\n",
"// PLOTTING SFD & BMD\n",
"x=[0;1.99;2;4.5;5.99;6;8]\n",
"y=[-2;-2;2.5;0;-1.5;2;0]\n",
"a=[0;2;4.5;6;8]\n",
"b=[0;-4;-0.875;-2;0]\n",
"subplot(221)\n",
"xlabel('Span (m)')\n",
"ylabel('Shear Force (kN)')\n",
"plot(x,y)\n",
"subplot(222)\n",
"plot(a,b)\n",
"xlabel('Span (m)')\n",
"ylabel('Bending Moment (kNm)')\n",
"// Results\n",
"clc\n",
"printf('The graphs are the solutions')"
   ]
   }
],
"metadata": {
		  "kernelspec": {
		   "display_name": "Scilab",
		   "language": "scilab",
		   "name": "scilab"
		  },
		  "language_info": {
		   "file_extension": ".sce",
		   "help_links": [
			{
			 "text": "MetaKernel Magics",
			 "url": "https://github.com/calysto/metakernel/blob/master/metakernel/magics/README.md"
			}
		   ],
		   "mimetype": "text/x-octave",
		   "name": "scilab",
		   "version": "0.7.1"
		  }
		 },
		 "nbformat": 4,
		 "nbformat_minor": 0
}
