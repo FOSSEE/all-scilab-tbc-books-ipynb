{
"cells": [
 {
		   "cell_type": "markdown",
	   "metadata": {},
	   "source": [
       "# Chapter 6: Friction"
	   ]
	},
{
		   "cell_type": "markdown",
		   "metadata": {},
		   "source": [
			"## Example 6.13: Frictio.sce"
		   ]
		  },
  {
"cell_type": "code",
	   "execution_count": null,
	   "metadata": {
	    "collapsed": true
	   },
	   "outputs": [],
"source": [
"// Initilization of variables\n",
"P=100 //N // force acting at 0.2 m from A\n",
"Q=200 //N // force acting at any distance x from B\n",
"l=1 //m // length of the bar\n",
"theta=45 //degree //angle made by the normal reaction at A&B with horizontal\n",
"// Calculations\n",
"// solving eqn's 1 & 2 using matrix for Ra & Rb,\n",
"A=[1 -1;sind(theta) sind(theta)]\n",
"B=[0;(P+Q)]\n",
"C=inv(A)*B\n",
"// Now take moment about B\n",
"x=((C(1)*l*sind(theta))-(P*(l-0.2)))/200 //m // here 0.2 is the distance where 100 N load lies from A\n",
"// Results\n",
"clc\n",
"printf('The minimum value of x at which the load Q=200 N may be applied before slipping impends is %f m \n',x)"
   ]
   }
,
{
		   "cell_type": "markdown",
		   "metadata": {},
		   "source": [
			"## Example 6.1: Frictio.sce"
		   ]
		  },
  {
"cell_type": "code",
	   "execution_count": null,
	   "metadata": {
	    "collapsed": true
	   },
	   "outputs": [],
"source": [
"// Initilization of variables\n",
"m=5 //kg // mass of the bock\n",
"g=9.81 // m/s^2 // acceleration due to gravity\n",
"theta=15 // degree // angle made by the forces (P1 & P2) with the horizontal of the block\n",
"mu=0.4 //coefficient of static friction\n",
"//Calculations\n",
"// Case 1. Where P1 is the force required to just pull the bock\n",
"// Solving eqn's 1 & 2 using matrix\n",
"A=[cosd(theta) -mu;sind(theta) 1]\n",
"B=[0;(m*g)]\n",
"C=inv(A)*B\n",
"// Calculations \n",
"// Case 2. Where P2 is the force required to push the block\n",
"// Solving eqn's 1 & 2 using matrix\n",
"P=[-cosd(theta) mu;-sind(theta) 1]\n",
"Q=[0;(m*g)]\n",
"R=inv(P)*Q\n",
"// Results\n",
"clc\n",
"printf('The required pull force P1 is %f N \n',C(1))\n",
"printf('The required push force P2 is %f N \n',R(1))"
   ]
   }
,
{
		   "cell_type": "markdown",
		   "metadata": {},
		   "source": [
			"## Example 6.4: Frictio.sce"
		   ]
		  },
  {
"cell_type": "code",
	   "execution_count": null,
	   "metadata": {
	    "collapsed": true
	   },
	   "outputs": [],
"source": [
"// Initilization of variables\n",
"W1=50 // N // weight of the first block\n",
"W2=50 // N // weight of the second block\n",
"mu_1=0.3 // coefficient of friction between the inclined plane and W1\n",
"mu_2=0.2 // coefficient of friction between the inclined plane and W2\n",
"// Calculations\n",
"// On adding eq'ns 1&3 and substuting the values of N1 & N2 from eqn's 2&4 in this and on solving for alpha we get,\n",
"alpha=atand(((mu_1*W1)+(mu_2*W2))/(W1+W2)) // degrees\n",
"// Results\n",
"clc\n",
"printf('The inclination of the plane is %f degree \n',alpha)"
   ]
   }
,
{
		   "cell_type": "markdown",
		   "metadata": {},
		   "source": [
			"## Example 6.7: Frictio.sce"
		   ]
		  },
  {
"cell_type": "code",
	   "execution_count": null,
	   "metadata": {
	    "collapsed": true
	   },
	   "outputs": [],
"source": [
"// Initilization of variables\n",
"M=2000 // kg // mass of the car\n",
"mu=0.3 // coefficient of static friction between the tyre and the road\n",
"g=9.81 // m/s^2 // acc. due to gravity\n",
"// Calculations\n",
"// Divide eqn 1 by eqn 2, We get\n",
"theta=atand(mu) //degree\n",
"// Results\n",
"clc\n",
"printf('The angle of inclination is %f degree \n',theta)"
   ]
   }
,
{
		   "cell_type": "markdown",
		   "metadata": {},
		   "source": [
			"## Example 6.9: Frictio.sce"
		   ]
		  },
  {
"cell_type": "code",
	   "execution_count": null,
	   "metadata": {
	    "collapsed": true
	   },
	   "outputs": [],
"source": [
"// Initilization of variabes\n",
"Wa=1000 //N // weight of block A\n",
"Wb=500 //N // weight of block B\n",
"theta=15 // degree // angle of the wedge\n",
"mu=0.2 // coefficient of friction between the surfaces in contact\n",
"phi=7.5 // degrees // used in case 2\n",
"pie=3.14\n",
"// Caculations \n",
"// CASE (a)\n",
"// consider the equilibrium of upper block A\n",
"// rearranging eq'ns 1 &2 and solving them using matrix for N1 & N2\n",
"A=[1 -0.4522;-0.2 0.914]\n",
"B=[0;1000]\n",
"C=inv(A)*B\n",
"// Now consider the equilibrium of lower block B\n",
"// From eq'n 4\n",
"N3=Wb+(C(2)*cosd(theta))-(mu*C(2)*sind(theta)) //N\n",
"// Now from eq'n 3\n",
"P=(mu*N3)+(mu*C(2)*cosd(theta))+(C(2)*sind(theta)) // N\n",
"// CASE (b)\n",
"// The eq'n for required coefficient for the wedge to be self locking is,\n",
"mu_req=(theta*pie)/(360) // multiplying with (pie/180) to convert it into radians\n",
"// Results\n",
"clc\n",
"printf('The minimum horizontal force (P) which should be applied to raise the block is %f N \n',P)\n",
"printf('The required coefficient for the wedge to be self locking is %f \n',mu_req)"
   ]
   }
],
"metadata": {
		  "kernelspec": {
		   "display_name": "Scilab",
		   "language": "scilab",
		   "name": "scilab"
		  },
		  "language_info": {
		   "file_extension": ".sce",
		   "help_links": [
			{
			 "text": "MetaKernel Magics",
			 "url": "https://github.com/calysto/metakernel/blob/master/metakernel/magics/README.md"
			}
		   ],
		   "mimetype": "text/x-octave",
		   "name": "scilab",
		   "version": "0.7.1"
		  }
		 },
		 "nbformat": 4,
		 "nbformat_minor": 0
}
