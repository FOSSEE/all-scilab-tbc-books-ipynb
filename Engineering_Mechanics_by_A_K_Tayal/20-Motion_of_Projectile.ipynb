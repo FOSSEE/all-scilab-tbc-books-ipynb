{
"cells": [
 {
		   "cell_type": "markdown",
	   "metadata": {},
	   "source": [
       "# Chapter 20: Motion of Projectile"
	   ]
	},
{
		   "cell_type": "markdown",
		   "metadata": {},
		   "source": [
			"## Example 20.10: Motion_of_Projectile.sce"
		   ]
		  },
  {
"cell_type": "code",
	   "execution_count": null,
	   "metadata": {
	    "collapsed": true
	   },
	   "outputs": [],
"source": [
"// Initilization of variables\n",
"v_o=200 // m/s // initial velocity\n",
"theta=60 // degree // angle of the incline\n",
"y=5 // rise of incline\n",
"x=12 // length of incline\n",
"g=9.81 // m/s^2 // acc due to gravity\n",
"// Calculations\n",
"// The angle of the inclined plane with respect to horizontal\n",
"beta=atand(y/x) // degree\n",
"// The angle of projection with respect to horizontal\n",
"alpha=90-theta // degree\n",
"// Range is given by eq'n (ref. fig.20.14)\n",
"AB=(2*v_o^2*(sind(alpha-beta))*cosd(alpha))/(g*(cosd(beta))^2) // m\n",
"// Range AC when the short is fired down the plane\n",
"AC=(2*v_o^2*(sind(alpha+beta))*cosd(alpha))/(g*(cosd(beta))^2) // m\n",
"BC=AB+AC // m\n",
"// Results\n",
"clc\n",
"printf('The range covered (i.e BC) is %f m \n',BC)"
   ]
   }
,
{
		   "cell_type": "markdown",
		   "metadata": {},
		   "source": [
			"## Example 20.1: Motion_of_Projectile.sce"
		   ]
		  },
  {
"cell_type": "code",
	   "execution_count": null,
	   "metadata": {
	    "collapsed": true
	   },
	   "outputs": [],
"source": [
"// Initilization of variables\n",
"v_o=500 // m/s // velocity of the projectile\n",
"alpha=30 // angle at which the projectile is fired\n",
"t=30 // seconds\n",
"g=9.81 // m/s^2 // acc due to gravity\n",
"// Calculations\n",
"v_x=v_o*cosd(alpha) // m/s // Initial velocity in the horizontal direction\n",
"v_y=v_o*sind(alpha) // m/s // Initial velocity in the vertical direction\n",
"// MOTION IN HORIZONTA DIRECTION:\n",
"V_x=v_x // m/s // V_x=Horizontal velocity after 30 seconds\n",
"// MOTION IN VERTICAL DIRECTION: // using the eq'n v=u+a*t\n",
"V_y=v_y-(g*t) // m/s // -ve sign denotes downward motion\n",
"// Let the Resultant velocity be v_R. It is given as,\n",
"v_R=sqrt((V_x)^2+(-V_y)^2) // m/s\n",
"theta=atand((-V_y)/V_x) // degree // direction of the projectile\n",
"// Results\n",
"clc\n",
"printf('The velocity of the projectile is %f m/s \n',v_R) // The answer of velocity is wrong in the text book.\n",
"printf('The direction of the projectile is %f degree \n',theta) // -ve value of theta indicates that the direction is in downward direction"
   ]
   }
,
{
		   "cell_type": "markdown",
		   "metadata": {},
		   "source": [
			"## Example 20.2: Motion_of_Projectile.sce"
		   ]
		  },
  {
"cell_type": "code",
	   "execution_count": null,
	   "metadata": {
	    "collapsed": true
	   },
	   "outputs": [],
"source": [
"// Initilization of variables\n",
"v_A=10 // m/s // velocity of body A\n",
"alpha_A=60 // degree // direction of body A\n",
"alpha_B=45 // degree // direction of body B\n",
"// Calculations\n",
"// (a) The velocity (v_B) for the same range is given by eq'n;\n",
"v_B=sqrt((v_A^2*sind(2*alpha_A))/(sind(2*alpha_B))) // m/s\n",
"// (b) Now velocity v_B for the same maximum height is given as,\n",
"v_b=sqrt((v_A^2)*((sind(alpha_A))^2/(sind(alpha_B))^2)) // m/s\n",
"// (c) Now the velocity (v) for the equal time of flight is;\n",
"v=(v_A*sind(alpha_A))/(sind(alpha_B)) // m/s\n",
"// Results\n",
"clc\n",
"printf('(a) The velocity of body B for horizontal range is %f m/s \n',v_B)\n",
"printf('(b) The velocity of body B for the maximum height is %f m/s \n',v_b)\n",
"printf('(c) The velocity of body B for equal time of flight is %f m/s \n',v)"
   ]
   }
,
{
		   "cell_type": "markdown",
		   "metadata": {},
		   "source": [
			"## Example 20.3: Motion_of_Projectile.sce"
		   ]
		  },
  {
"cell_type": "code",
	   "execution_count": null,
	   "metadata": {
	    "collapsed": true
	   },
	   "outputs": [],
"source": [
"// Initilization of variables\n",
"y=3.6 // m // height of the wall\n",
"x_1=4.8 // m // position of the boy w.r.t the wall\n",
"x_2=3.6 // m // distance from the wall where the ball hits the ground\n",
"g=9.81 // m/s^2 // acc due to gravity\n",
"// Calculations\n",
"// The range of the projectile is r, given as,\n",
"r=x_1+x_2 // m\n",
"// Let the angle of the projection be alpha, which is derived and given as,\n",
"alpha=atand((y)/(x_1-(x_1^2/r))) // degree\n",
"// Now substuting the value of alpha in eq'n 3 we get the least velocity (v_o) as;\n",
"v_o=sqrt((g*r)/(sind(2*alpha))) // m/s\n",
"// Results\n",
"clc\n",
"printf('The least velocity with which the ball can be thrown is %f m/s \n',v_o)\n",
"printf('The angle of projection for the same is %f degree \n',alpha)"
   ]
   }
,
{
		   "cell_type": "markdown",
		   "metadata": {},
		   "source": [
			"## Example 20.5: Motion_of_Projectile.sce"
		   ]
		  },
  {
"cell_type": "code",
	   "execution_count": null,
	   "metadata": {
	    "collapsed": true
	   },
	   "outputs": [],
"source": [
"// Initilization of variables\n",
"v_o=400 // m/s // initial velocity of each gun\n",
"r=5000 // m // range of each of the guns\n",
"g=9.81 // m/s^2 // acc due to gravity\n",
"pi=180 // degree \n",
"// Calculations\n",
"// now from eq'n 1\n",
"theta_1=(asind((r*g)/(v_o^2)))/(2) // degree // angle at which the 1st gun is fired\n",
"// from eq'n 3\n",
"theta_2=(pi-(2*theta_1))/2 // degree \n",
"// For 1st & 2nd gun, s is\n",
"s=r // m\n",
"// For 1st gun \n",
"v_x=v_o*cosd(theta_1) // m/s\n",
"// Now the time of flight for 1st gun is t_1, which is given by relation,\n",
"t_1=s/(v_x) // seconds\n",
"// For 2nd gun\n",
"V_x=v_o*cosd(theta_2)\n",
"// Now the time of flight for 2nd gun is t_2\n",
"t_2=s/(V_x) // seconds\n",
"// Let the time difference between the two hits be delta.T. Then,\n",
"delta.T=t_2-t_1 // seconds\n",
"// Results\n",
"clc\n",
"printf('The time difference between the two hits is %f seconds \n',delta.T)"
   ]
   }
,
{
		   "cell_type": "markdown",
		   "metadata": {},
		   "source": [
			"## Example 20.6: Motion_of_Projectile.sce"
		   ]
		  },
  {
"cell_type": "code",
	   "execution_count": null,
	   "metadata": {
	    "collapsed": true
	   },
	   "outputs": [],
"source": [
"// Initilization of variables\n",
"h=2000 // m/ height of the plane\n",
"v=540*(1000/3600) // m/s // velocity of the plane\n",
"g=9.81 // m/s^2 // acc due to gravity\n",
"// Calculations\n",
"// Time t required to travel down a height 2000 m is given by eq'n,\n",
"u=0 // m/s // initial velocity\n",
"t=sqrt((2*h)/(g)) // seconds\n",
"// Now let s be the horizonta distance travelled by the bomb in time t seconds, then\n",
"s=v*t // m\n",
"// angle is given as theta,\n",
"theta=atand(h/s) // degree\n",
"// Results\n",
"clc\n",
"printf('The pilot should release the bomb from a distance of %f m \n',s)\n",
"printf('The angle at which the target would appear is %f degree \n',theta)"
   ]
   }
,
{
		   "cell_type": "markdown",
		   "metadata": {},
		   "source": [
			"## Example 20.7: Motion_of_Projectile.sce"
		   ]
		  },
  {
"cell_type": "code",
	   "execution_count": null,
	   "metadata": {
	    "collapsed": true
	   },
	   "outputs": [],
"source": [
"// Initilization of variables\n",
"theta=30 // degree // angle at which the bullet is fired\n",
"s=-50 // position of target below hill\n",
"v=100 // m/s // velocity at which the bullet if fired\n",
"g=9.81 // m/s^2 \n",
"// Calculations\n",
"v_x=v*cosd(theta) // m/s // Initial velocity in horizontal direction\n",
"v_y=v*sind(theta) // m/s // Initial velocity in vertical direction\n",
"// (a) Max height attained by the bullet\n",
"h=v_y^2/(2*g) // m\n",
"// (b)Let the vertical Velocity with which the bullet will hit the target be V_y. Then,\n",
"V_y=sqrt((2*-9.81*s)+(v_y)^2) // m/s // the value of V_y is +ve & -ve\n",
"// Let V be the velocity with wich it hits the target\n",
"V=sqrt((v_x)^2+(V_y)^2) // m/s\n",
"// (c) The time required to hit the target\n",
"a=g // m/s^2\n",
"t=(v_y-(-V_y))/a // seconds\n",
"// Results\n",
"clc\n",
"printf('(a) The maximum height to which the bullet will rise above the soldier is %f m \n',h)\n",
"printf('(b) The velocity with which the bullet will hit the target is %f m/s \n',V)\n",
"printf('(c) The time required to hit the target is %f seconds \n',t)"
   ]
   }
,
{
		   "cell_type": "markdown",
		   "metadata": {},
		   "source": [
			"## Example 20.8: Motion_of_Projectile.sce"
		   ]
		  },
  {
"cell_type": "code",
	   "execution_count": null,
	   "metadata": {
	    "collapsed": true
	   },
	   "outputs": [],
"source": [
"// Initilization of variables\n",
"W=30 // N // Weight of the hammer\n",
"theta=30 // degree // ref fig.20.12\n",
"mu=0.18 // coefficient of friction\n",
"s=10 // m // distance travelled by the hammer // fig 20.12\n",
"g=9.81 // m/s^2 // acc due to gravity\n",
"// Calculations\n",
"// The acceleration of the hammer is given as,\n",
"a=g*((sind(theta))-(mu*cosd(theta))) // m/s^2\n",
"// The velocity of the hammer at point B is,\n",
"v=sqrt(2*a*s) // m/s\n",
"// Let the initial velocity of the hammer in horizontal direction be v_x & v_y in vertical direction, Then,\n",
"v_x=v*cosd(theta) // m/s\n",
"v_y=v*sind(theta) // m/s\n",
"// MOTION IN VERTICAL DIRECTION\n",
"// Now, let time required to travel vertical distance (i.e BB'=S=5 m) is given by finding the roots of the second degree eq'n as,\n",
"// From the eq'n 4.9*t^2+4.1*t-5=0,\n",
"a=4.9\n",
"b=4.1\n",
"c=-5\n",
"// The roots of the eq'n are,\n",
"t=((-b)+(sqrt(b^2-(4*a*c))))/(2*a)\n",
"// MOTION IN HORIZONTAL DIRECTION\n",
"// Let the horizotal distance travelled by the hammer in time t be s_x.Then,\n",
"s_x=v_x*cosd(theta)*t // m\n",
"x=1+s_x // m\n",
"// Results\n",
"clc\n",
"printf('The distance x where the hammer hits the round is %f m \n',x)"
   ]
   }
,
{
		   "cell_type": "markdown",
		   "metadata": {},
		   "source": [
			"## Example 20.9: Motion_of_Projectile.sce"
		   ]
		  },
  {
"cell_type": "code",
	   "execution_count": null,
	   "metadata": {
	    "collapsed": true
	   },
	   "outputs": [],
"source": [
"// Initilization of variables\n",
"s=1000 // m // distance OB (ref fig.20.13)\n",
"h=19.6 // m // height of shell from ground\n",
"g=9.81 // m/s^2 // acc due to gravity\n",
"// Calculations\n",
"// MOTION OF ENTIRE SHELL FROM O to A.\n",
"v_y=sqrt(2*(g)*h) // m/s // initial velocity of shell in vertical direction\n",
"t=v_y/g // seconds // time taken by the entire shell to reach point A\n",
"v_x=s/t // m/s // velocity of shell in vertical direction\n",
"// VELOCITIES OF THE TWO PARTS OF THE SHELL AFTER BURSTING AT A:\n",
"// Let v_x2 be the horizontal velocity of 1st & the 2nd part after bursting which is given as,\n",
"v_x2=v_x*2 // m/s\n",
"// Now distance BC travelled by part 2 is\n",
"BC=v_x2*t // m\n",
"// Distance from firing point OC\n",
"OC=s+BC // m\n",
"// Results\n",
"clc\n",
"printf('(a) The velocity of shell just before bursting is %f m/s \n',v_x)\n",
"printf('(b) The velocity of first part immediately after the shell burst is %f m/s \n',v_x2)\n",
"printf('(c) The velocity of second part immediately after the shell burst is %f m/s \n',v_x2)\n",
"printf('(b) The distance between the firing point & the point where the second part of the shell hit the ground is %f m \n',OC)"
   ]
   }
],
"metadata": {
		  "kernelspec": {
		   "display_name": "Scilab",
		   "language": "scilab",
		   "name": "scilab"
		  },
		  "language_info": {
		   "file_extension": ".sce",
		   "help_links": [
			{
			 "text": "MetaKernel Magics",
			 "url": "https://github.com/calysto/metakernel/blob/master/metakernel/magics/README.md"
			}
		   ],
		   "mimetype": "text/x-octave",
		   "name": "scilab",
		   "version": "0.7.1"
		  }
		 },
		 "nbformat": 4,
		 "nbformat_minor": 0
}
