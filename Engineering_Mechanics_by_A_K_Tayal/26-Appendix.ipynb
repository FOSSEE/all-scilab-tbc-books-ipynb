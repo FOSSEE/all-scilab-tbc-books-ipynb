{
"cells": [
 {
		   "cell_type": "markdown",
	   "metadata": {},
	   "source": [
       "# Chapter 26: Appendix"
	   ]
	},
{
		   "cell_type": "markdown",
		   "metadata": {},
		   "source": [
			"## Example 26.10: Appendix.sce"
		   ]
		  },
  {
"cell_type": "code",
	   "execution_count": null,
	   "metadata": {
	    "collapsed": true
	   },
	   "outputs": [],
"source": [
"// 1 APPENDIX. Ex no 10. Page no 647\n",
"// Initilization of variables\n",
"// Points as matrices\n",
"O=[-2,3,5]\n",
"P=[1,-2,4]\n",
"Q=[5,2,3]\n",
"F=[4,4,-1] // Force vector\n",
"// Calculations\n",
"// Positon vector ( we will solve only by using r_1 as r_2 also gives the same answer)\n",
"r_1=[P(1)-O(1),P(2)-O(2),P(3)-O(3)]\n",
"// Moment\n",
"// Calculating the cross product\n",
"M=[(r_1(2)*F(3)-r_1(3)*F(2)),(r_1(3)*F(1)-r_1(1)*F(3)),(r_1(1)*F(2)-r_1(2)*F(1))]\n",
"// Results\n",
"clc\n",
"printf('The Moment about point O is %fi %fj+%fk \n',M(1),M(2),M(3))"
   ]
   }
,
{
		   "cell_type": "markdown",
		   "metadata": {},
		   "source": [
			"## Example 26.11: Appendix.sce"
		   ]
		  },
  {
"cell_type": "code",
	   "execution_count": null,
	   "metadata": {
	    "collapsed": true
	   },
	   "outputs": [],
"source": [
"// 1 APPENDIX. Ex no 11. Page no 647\n",
"// Initilization of variables\n",
"// Points as matrices\n",
"P=[1,-1,2] // Point where force is applied\n",
"O=[2,-1,3] // point where moment is to be found\n",
"F=[3,2,-4] // Force vector\n",
"// Calculations\n",
"// Position vector of point P wrt O\n",
"r=[P(1)-O(1),P(2)-O(2),P(3)-O(3)]\n",
"// Moment\n",
"M=[(r(2)*F(3)-r(3)*F(2)),(r(3)*F(1)-r(1)*F(3)),(r(1)*F(2)-r(2)*F(1))]\n",
"// Resuts\n",
"clc\n",
"printf('The moment of the force is %fi %fj %fk \n',M(1),M(2),M(3))"
   ]
   }
,
{
		   "cell_type": "markdown",
		   "metadata": {},
		   "source": [
			"## Example 26.12: Appendix.sce"
		   ]
		  },
  {
"cell_type": "code",
	   "execution_count": null,
	   "metadata": {
	    "collapsed": true
	   },
	   "outputs": [],
"source": [
"// 1 APPENDIX. Ex no 12. Page no 648\n",
"// Initilization of variables\n",
"// Different notations have been used at some places\n",
"f=22 // N \n",
"// Points as matrices\n",
"A=[4,-1,7]\n",
"O=[1,-3,2]\n",
"V=[9,6,-2] // Given vector\n",
"// Calculations\n",
"// Unit vector in the direction of the vector\n",
"v=[V(1),V(2),V(3)]/sqrt(V(1)^2+V(2)^2+V(3)^2)\n",
"// Force\n",
"F=f*[v(1),v(2),v(3)]\n",
"// Position vector of point A wrt O\n",
"r=[A(1)-O(1),A(2)-O(2),A(3)-O(3)]\n",
"// Moment\n",
"M=[(r(2)*F(3)-r(3)*F(2)),(r(3)*F(1)-r(1)*F(3)),(r(1)*F(2)-r(2)*F(1))]\n",
"// Results\n",
"clc\n",
"printf('The moment is %fi + %fj + %f k \n',M(1),M(2),M(3))"
   ]
   }
,
{
		   "cell_type": "markdown",
		   "metadata": {},
		   "source": [
			"## Example 26.13: Appendix.sce"
		   ]
		  },
  {
"cell_type": "code",
	   "execution_count": null,
	   "metadata": {
	    "collapsed": true
	   },
	   "outputs": [],
"source": [
"// 1 APPENDIX. Ex no 13. Page no 648\n",
"// Initilization of vriables\n",
"// Notations have been changed\n",
"// Force Vector\n",
"F=[50,-80,30]\n",
"// from fig.13\n",
"theta1=30 // angles by which the axis is rotated ( all in degrees)\n",
"theta2=60\n",
"theta3=90\n",
"theta4=120\n",
"theta5=0\n",
"// Calculations\n",
"// Unit vector in u-direction\n",
"u_unit=[1*cosd(theta1),1*cosd(theta2),1*cosd(theta3)]\n",
"// Unit vector in v-direction\n",
"v_unit=[1*cosd(theta4),1*cosd(theta1),1*cosd(theta3)]\n",
"// Unit vector in w-direction\n",
"w_unit=[1*cosd(theta3),1*cosd(theta3),1*cosd(theta5)]\n",
"// Components of force\n",
"// finding the dot product as\n",
"u=F(1)*u_unit(1)+F(2)*u_unit(2)+F(3)*u_unit(3) // N\n",
"v=F(1)*v_unit(1)+F(2)*v_unit(2)+F(3)*v_unit(3) // N\n",
"w=F(1)*w_unit(1)+F(2)*w_unit(2)+F(3)*w_unit(3) // N\n",
"// Results\n",
"clc\n",
"printf('The components of the force is,along u=%f N,along v=%f N,along w=%f N \n',u,v,w)"
   ]
   }
,
{
		   "cell_type": "markdown",
		   "metadata": {},
		   "source": [
			"## Example 26.14: Appendix.sce"
		   ]
		  },
  {
"cell_type": "code",
	   "execution_count": null,
	   "metadata": {
	    "collapsed": true
	   },
	   "outputs": [],
"source": [
"// 1 APPENDIX. Ex no 14. Page no 649\n",
"// Initilization of variables\n",
"// Some notations have been assumed\n",
"f=100 // N // magnitude of force\n",
"// Co-ordinates of corners of the box as matrices\n",
"A=[0,0,0]\n",
"B=[0.5,0,0]\n",
"C=[0.5,0,1]\n",
"D=[0,0,1]\n",
"E=[0,0.5,0]\n",
"F=[0.5,0.5,0]\n",
"G=[0.5,0.5,1]\n",
"H=[0,0.5,1]\n",
"// Calculations\n",
"// Force vector\n",
"Fmag=f/sqrt((F(1)-C(1))^2+(F(2)-C(2))^2+(F(3)-C(3))^2)\n",
"F=Fmag*[F(1)-C(1),F(2)-C(2),F(3)-C(3)]\n",
"// Position vector\n",
"r_EC=[C(1)-E(1),C(2)-E(2),C(3)-E(3)]\n",
"// Moment about point E\n",
"// Calculating the cross product\n",
"M_E=[(r_EC(2)*F(3)-r_EC(3)*F(2)),(r_EC(3)*F(1)-r_EC(1)*F(3)),(r_EC(1)*F(2)-r_EC(2)*F(1))] // N.m // The value taken for F is incorrect in textbook.\n",
"// Unit vector\n",
"n_AE=[E(1)-A(1),E(2)-A(2),E(3)-A(3)]/sqrt((E(1)-A(1))^2+(E(2)-A(2))^2+(E(3)-A(3))^2)\n",
"// Moment of force about axis AE\n",
"// finding the dot product\n",
"M_AE=M_E(1)*n_AE(1)+M_E(2)*n_AE(2)+M_E(3)*n_AE(3) // N.m\n",
"// Results\n",
"clc\n",
"printf('The moment of the force about point E is %fi - %fj + %fk N.m \n',M_E)\n",
"printf('The moment of force about axis AE is -%f N.m \n',M_AE)\n",
"// The value of M_AE & M_E is incorrect in the textbook.Incorrect value of force vector is taken in calculation of M_E"
   ]
   }
,
{
		   "cell_type": "markdown",
		   "metadata": {},
		   "source": [
			"## Example 26.15: Appendix.sce"
		   ]
		  },
  {
"cell_type": "code",
	   "execution_count": null,
	   "metadata": {
	    "collapsed": true
	   },
	   "outputs": [],
"source": [
"// 1 APPENDIX. Ex no 15. Page no 652\n",
"// Initilization of variables\n",
"// Consider fig. 16. The co-ordinates of various points are\n",
"// Co-ordinates as matrices\n",
"// Some of the notations have been changed\n",
"f1=5 // kN\n",
"f2=7.5 // kN\n",
"f3=10 // kN\n",
"A=[0,0,0]\n",
"E=[0,1,0]\n",
"D=[0,0,2]\n",
"F=[3,1,0]\n",
"G=[3,1,2]\n",
"H=[0,1,2] // co-ordinates of H not given in book. ref fig.16 for the same\n",
"// Calculations\n",
"// Force vectors\n",
"F1=(f1/sqrt((F(1)-E(1))^2+(F(2)-E(2))^2+(F(3)-E(3))^2))*[F(1)-E(1),F(2)-E(2),F(3)-E(3)]\n",
"F2=(f2/sqrt((D(1)-H(1))^2+(D(2)-H(2))^2+(D(3)-H(3))^2))*[D(1)-H(1),D(2)-H(2),D(3)-H(3)]\n",
"F3=(f3/sqrt((G(1)-E(1))^2+(G(2)-E(2))^2+(G(3)-E(3))^2))*[G(1)-E(1),G(2)-E(2),G(3)-E(3)]\n",
"// Resultant force\n",
"R=F1+F2+F3 // kN\n",
"// Position vectors\n",
"r_AE=[E(1)-A(1),E(2)-A(2),E(3)-A(3)]\n",
"r_AD=[D(1)-A(1),D(2)-A(2),D(3)-A(3)]\n",
"// Moment of forces about A\n",
"// Calculating the cross product\n",
"M1=[(r_AE(2)*F1(3)-r_AE(3)*F1(2)),(r_AE(3)*F1(1)-r_AE(1)*F1(3)),(r_AE(1)*F1(2)-r_AE(2)*F1(1))]\n",
"M2=[(r_AD(2)*F2(3)-r_AD(3)*F2(2)),(r_AD(3)*F2(1)-r_AD(1)*F2(3)),(r_AD(1)*F2(2)-r_AD(2)*F2(1))]\n",
"M3=[(r_AE(2)*F3(3)-r_AE(3)*F3(2)),(r_AE(3)*F3(1)-r_AE(1)*F3(3)),(r_AE(1)*F3(2)-r_AE(2)*F3(1))]\n",
"// Rseultant moment\n",
"M_R=M1+M2+M3 // KN.m\n",
"// Results\n",
"clc\n",
"printf('The resultant force is %fi %fj + %fk kN \n',R)\n",
"printf('The resultant moment of all the forces about point A is %fi + %fj %fk kN.m \n',M_R)"
   ]
   }
,
{
		   "cell_type": "markdown",
		   "metadata": {},
		   "source": [
			"## Example 26.16: Appendix.sce"
		   ]
		  },
  {
"cell_type": "code",
	   "execution_count": null,
	   "metadata": {
	    "collapsed": true
	   },
	   "outputs": [],
"source": [
"// 1 APPENDIX. Ex no 16. Page no 654\n",
"// Initiization of variables\n",
"F=20 // kN // Force acting at O\n",
"M_x=76 // kNm\n",
"M_y=82 // kNm\n",
"// Calculations\n",
"x=M_x/F // m\n",
"z=M_y/F // m\n",
"// Results\n",
"clc\n",
"printf('The point of application should be shifted to: x=%f m and z=%f m \n',x,z)"
   ]
   }
,
{
		   "cell_type": "markdown",
		   "metadata": {},
		   "source": [
			"## Example 26.17: Appendix.sce"
		   ]
		  },
  {
"cell_type": "code",
	   "execution_count": null,
	   "metadata": {
	    "collapsed": true
	   },
	   "outputs": [],
"source": [
"// 1 APPENDIX. Ex no 17. Page no 655\n",
"// Initilization of variables\n",
"W=5000 // N\n",
"// Co-ordinates of various points\n",
"A=[0,4.5,0]\n",
"B=[2.8,0,0]\n",
"C=[0,0,-2.4]\n",
"D=[-2.6,0,1.8]\n",
"// Calculations\n",
"// Ref textbook for the values of tenion in the cable AB, AC & AD. The values consist of variables which cannot be defined here\n",
"// We re-arrange and define the equations of equilibrium as matrices and solve them as,\n",
"P=[0.528,0.0,-0.472;0.0,0.47,-0.327;0.85,0.88,0.818]\n",
"Q=[0;0;5000]\n",
"X=inv(P)*Q\n",
"// Results\n",
"clc\n",
"printf('Tension in cable AD is %f N \n',X(3))\n",
"printf('Tension in cable AB is %f N \n',X(1))\n",
"printf('Tension in cable AC is %f N \n',X(2))\n",
"// The answer may vary slightly due to decimal point error. Ans for T_AB is incorrect in textbook."
   ]
   }
,
{
		   "cell_type": "markdown",
		   "metadata": {},
		   "source": [
			"## Example 26.18: Appendix.sce"
		   ]
		  },
  {
"cell_type": "code",
	   "execution_count": null,
	   "metadata": {
	    "collapsed": true
	   },
	   "outputs": [],
"source": [
"// 1 APPENDIX. Ex no 18. Page no 656\n",
"// Initilization of variables\n",
"P=5 // kN\n",
"Q=3 // kN\n",
"C=5 // kNm // couple\n",
"//  ref fig.20 // Notations have been assumed\n",
"z1=1.5 // m\n",
"z2=0.625 // m\n",
"z3=0.5 // m\n",
"x1=3.5 // m\n",
"x2=0.625 // m\n",
"// Calculations\n",
"// sum M_x=0\n",
"R_A=((P*z2)+(Q*z3)+C)/z1 // kN\n",
"// M_z=0\n",
"R_C=((Q*x1)+(P*x2))/x1 // kN\n",
"// sum F_y=0\n",
"R_B=P+Q-R_A-R_C // kN\n",
"// Results\n",
"clc\n",
"printf('The reactions are: R_A=%f kN ,R_C=%f kN and R_B=%f kN \n',R_A,R_C,R_B)"
   ]
   }
,
{
		   "cell_type": "markdown",
		   "metadata": {},
		   "source": [
			"## Example 26.19: Appendix.sce"
		   ]
		  },
  {
"cell_type": "code",
	   "execution_count": null,
	   "metadata": {
	    "collapsed": true
	   },
	   "outputs": [],
"source": [
"// 1 APPENDIX. Ex no 19. Page no 657\n",
"// Initilization of variables\n",
"F=2 // kN\n",
"W=1 // kN\n",
"// Co-ordinates as matrices\n",
"A=[0,0,0]\n",
"C=[0,0,1.2]\n",
"B=[0,0,2.5]\n",
"D=[-1,1,0]\n",
"E=[1,1,0]\n",
"F=[0,0,1]\n",
"G=[0,0,2]\n",
"// Force vector\n",
"f=[0,-2,0]\n",
"// Weight vector\n",
"w=[0,-1,0]\n",
"// Calculations\n",
"// we have 5 unknowns: A_x,A_y,A_z,T_FE & T_GD\n",
"// we define and solve eqn's 1,2,3,4&5 using matrix as,\n",
"P=[1,0,0,0.58,-0.41;0,1,0,0.58,0.41;0,0,1,-0.58,-0.82;0,0,0,0.58,0.82;0,0,0,0.58,-0.82]\n",
"Q=[0;3;0;6.25;0]\n",
"X=inv(P)*Q\n",
"// Results\n",
"clc\n",
"printf('The components of reaction at A are: A_x=%f kN , A_y=%f kN and A_z=%f kN \n',X(1),X(2),X(3))\n",
"printf('The tensions in the cable are: T_FE=%f kN and T_GD=%f kN \n',X(4),X(5))\n",
"// The solution in the textbook is incorrect and yeilds singularity in matrix calculation."
   ]
   }
,
{
		   "cell_type": "markdown",
		   "metadata": {},
		   "source": [
			"## Example 26.1: Appendix.sce"
		   ]
		  },
  {
"cell_type": "code",
	   "execution_count": null,
	   "metadata": {
	    "collapsed": true
	   },
	   "outputs": [],
"source": [
"// 1 APPENDIX. Ex no 1. Page no 638\n",
"//Initilization of variables\n",
"P=[-5,2,14] //Point co-ordinates\n",
"//Calculations\n",
"r=sqrt(P(1)^2+P(2)^2+P(3)^2) //Magnitude of the poistion vector\n",
"//Direction cosines\n",
"l=P(1)/r \n",
"m=P(2)/r\n",
"n=P(3)/r\n",
"//Unit Vector calculations\n",
"r_unit=P/r\n",
"//Results\n",
"clc\n",
"printf('The Position vector is %fi+%fj+%fk \n',P(1),P(2),P(3))\n",
"printf('The value of r is %f*l i + %f*m j + %f*n k \n',r,r,r)\n",
"printf('The unit vector in the direction of r is %fi+%fj+%fk',r_unit(1),r_unit(2),r_unit(3))"
   ]
   }
,
{
		   "cell_type": "markdown",
		   "metadata": {},
		   "source": [
			"## Example 26.2: Appendix.sce"
		   ]
		  },
  {
"cell_type": "code",
	   "execution_count": null,
	   "metadata": {
	    "collapsed": true
	   },
	   "outputs": [],
"source": [
"// 1 APPENDIX. Ex no 2. Page no 639\n",
"//Initilizatin of variable\n",
"F=10 //N\n",
"P_1=[2,4,3] \n",
"P_2=[1,-5,2]\n",
"\n",
"//Calculations\n",
"d_x=P_2(1)-P_1(1) \n",
"d_y=P_2(2)-P_1(2)\n",
"d_z=P_2(3)-P_1(3)\n",
"d=sqrt(d_x^2+d_y^2+d_z^2)\n",
"Fx=(F/d)*d_x //N\n",
"Fy=(F/d)*d_y //N\n",
"Fz=(F/d)*d_z //N\n",
"//Direction cosines\n",
"l=Fx/F\n",
"m=Fy/F\n",
"n=Fz/F\n",
"//Angles\n",
"theta_x=acosd(l) //degrees\n",
"theta_y=acosd(m) //degrees\n",
"theta_z=acosd(n) //degrees\n",
"\n",
"//Result\n",
"clc\n",
"printf('The force in vector notation is %fi%fj%fk\n',Fx,Fy,Fz)\n",
"printf('Thetax=%f degrees,Thetay=%f degrees,Thetaz=%f degrees',theta_x,theta_y,theta_z)  "
   ]
   }
,
{
		   "cell_type": "markdown",
		   "metadata": {},
		   "source": [
			"## Example 26.3: Appendix.sce"
		   ]
		  },
  {
"cell_type": "code",
	   "execution_count": null,
	   "metadata": {
	    "collapsed": true
	   },
	   "outputs": [],
"source": [
"// 1 APPENDIX. Ex no 3. Page no 640\n",
"//initiliation of variables\n",
"T=2500 //N\n",
"//Co-ordinates\n",
"Q=[40,0,-30]\n",
"P=[0,80,0]\n",
"//Calculations\n",
"mag_QP=sqrt((P(1)-Q(1))^2+(P(2)-Q(2))^2+(P(3)-Q(3))^2) //Magnitude\n",
"QP=[(P(1)-Q(1)),(P(2)-Q(2)),(P(3)-Q(3))] \n",
"F=(T/mag_QP)*QP //N\n",
"thetax=acosd(F(1)/T) //degrees\n",
"thetay=acosd(F(2)/T) //degrees\n",
"thetaz=acosd(F(3)/T) //degrees\n",
"//Result\n",
"clc\n",
"printf('The force vector is %fi+%fj+%fk N\n',F(1),F(2),F(3))\n",
"//Answer in the textbook is printed as 1600 which is incorrect\n",
"printf('The angles are thetax=%f,thetay=%f and thetaz=%f degrees',thetax,thetay,thetaz)"
   ]
   }
,
{
		   "cell_type": "markdown",
		   "metadata": {},
		   "source": [
			"## Example 26.4: Appendix.sce"
		   ]
		  },
  {
"cell_type": "code",
	   "execution_count": null,
	   "metadata": {
	    "collapsed": true
	   },
	   "outputs": [],
"source": [
"// 1 APPENDIX. Ex no 4. Page no 642\n",
"//initilization of variables\n",
"A=[2,-1,1]\n",
"B=[1,1,2]\n",
"C=[3,-2,4]\n",
"//Calculations\n",
"R=[A(1)+B(1)+C(1),A(2)+B(2)+C(2),A(3)+B(3)+C(3)] //Resultant\n",
"mag=sqrt(R(1)^2+R(2)^2+R(3)^2)\n",
"//Unit vector\n",
"U=R/mag \n",
"//Result\n",
"clc\n",
"printf('The unit vector is %fi%fj+%fk',U(1),U(2),U(3))\n",
"//Answer for k part is incorrect in the textbook"
   ]
   }
,
{
		   "cell_type": "markdown",
		   "metadata": {},
		   "source": [
			"## Example 26.5: Appendix.sce"
		   ]
		  },
  {
"cell_type": "code",
	   "execution_count": null,
	   "metadata": {
	    "collapsed": true
	   },
	   "outputs": [],
"source": [
"// 1 APPENDIX. Ex no 5. Page no 642\n",
"//initilization of variables\n",
"A=[2,-6,-3]\n",
"B=[4,3,-1] \n",
"//Calculations\n",
"AdotB=A(1)*B(1)+A(2)*B(2)+A(3)*B(3) \n",
"magA=sqrt(A(1)^2+A(2)^2+A(3)^2) \n",
"magB=sqrt(B(1)^2+B(2)^2+B(3)^2)\n",
"theta=acosd(AdotB/(magA*magB)) //degrees\n",
"//Result\n",
"clc\n",
"printf('The product of both the vectors is %f\n',AdotB)\n",
"printf('The angle between them is %f degrees',theta)"
   ]
   }
,
{
		   "cell_type": "markdown",
		   "metadata": {},
		   "source": [
			"## Example 26.6: Appendix.sce"
		   ]
		  },
  {
"cell_type": "code",
	   "execution_count": null,
	   "metadata": {
	    "collapsed": true
	   },
	   "outputs": [],
"source": [
"// 1 APPENDIX. Ex no 6. Page no 643\n",
"//initilization of variables\n",
"A=[4,-3,1]\n",
"P=[2,3,-1]\n",
"Q=[-2,-4,3]\n",
"//Calculations\n",
"B=[Q(1)-P(1),Q(2)-P(2),Q(3)-P(3)]\n",
"AdotB=A(1)*B(1)+A(2)*B(2)+A(3)*B(3)\n",
"magB=sqrt(B(1)^2+B(2)^2+B(3)^2)\n",
"Acostheta=AdotB/magB\n",
"//Result\n",
"clc\n",
"printf('The value of A.costheta is %f',Acostheta)"
   ]
   }
,
{
		   "cell_type": "markdown",
		   "metadata": {},
		   "source": [
			"## Example 26.7: Appendix.sce"
		   ]
		  },
  {
"cell_type": "code",
	   "execution_count": null,
	   "metadata": {
	    "collapsed": true
	   },
	   "outputs": [],
"source": [
"// 1 APPENDIX. Ex no 7. Page no 643\n",
"//Initilization of variables\n",
"F=[5,10,-15]\n",
"a=[1,0,3]\n",
"b=[3,-1,-6]\n",
"//Calculations\n",
"d=b-a\n",
"work=F.*d\n",
"Work=work(1)+work(2)+work(3)\n",
"//Result\n",
"clc\n",
"printf('The work done is %f units',Work)"
   ]
   }
,
{
		   "cell_type": "markdown",
		   "metadata": {},
		   "source": [
			"## Example 26.8: Appendix.sce"
		   ]
		  },
  {
"cell_type": "code",
	   "execution_count": null,
	   "metadata": {
	    "collapsed": true
	   },
	   "outputs": [],
"source": [
"// 1 APPENDIX. Ex no 8. Page no 644\n",
"//initilization of variables\n",
"A=[2,-6,-3]\n",
"B=[4,3,-1]\n",
"//Calculations\n",
"AcrossB=[(A(2)*B(3)-B(2)*A(3)),A(3)*B(1)-A(1)*B(3),A(1)*B(2)-A(2)*B(1)]\n",
"mag=sqrt(AcrossB(1)^2+AcrossB(2)^2+AcrossB(3)^2)\n",
"n=AcrossB/mag\n",
"magA=sqrt(A(1)^2+A(2)^2+A(3)^2)\n",
"magB=sqrt(B(1)^2+B(2)^2+B(3)^2)\n",
"theta=asind(mag/(magA*magB))\n",
"//Result\n",
"clc\n",
"printf('The cross prcoduct of the two vectors is %fi %fj+%fk\n',AcrossB(1),AcrossB(2),AcrossB(3)) // the answer for j part is wrong in textbook\n",
"printf('The angle between the two is %f degrees',theta)\n",
"// Only 1 value for theta has been solved. Ref textbook for the other value"
   ]
   }
,
{
		   "cell_type": "markdown",
		   "metadata": {},
		   "source": [
			"## Example 26.9: Appendix.sce"
		   ]
		  },
  {
"cell_type": "code",
	   "execution_count": null,
	   "metadata": {
	    "collapsed": true
	   },
	   "outputs": [],
"source": [
"// 1 APPENDIX. Ex no 9. Page no 645\n",
"// Initilization of Variable \n",
"// NOTE:Some Notation has been change to avoid conflict\n",
"// Points As martices\n",
"A=[0,1,2]\n",
"B=[1,3,-2]\n",
"P=[3,6,4]\n",
"a_s=2 // Angular speed in rad/s\n",
"\n",
"// Calculations\n",
"C=[B(1)-A(1),B(2)-A(2),B(3)-A(3)]\n",
"magC=(C(1)^2+C(2)^2+C(3)^2)^0.5 // Magnitude of the Vector C \n",
"// Unit vector\n",
"C_unit=[C(1)/magC,C(2)/magC,C(3)/magC] // Unit vector\n",
"// Position Vector\n",
"r=[P(1)-A(1),P(2)-A(2),P(3)-A(3)]\n",
"// Velocity Vector\n",
"// Calculating the cross product as,\n",
"V=[(C(2)*r(3)-C(3)*r(2)),(C(3)*r(1)-C(1)*r(3)),(C(1)*r(2)-C(2)*r(1))]\n",
"// Vector notation\n",
"V_n=(a_s/magC)*[V(1),V(2),V(3)]\n",
"// Velocity Magnitude\n",
"magV=sqrt(V(1)^2+V(2)^2+V(3)^2)\n",
"v=(a_s/magC)*magV\n",
"// Result\n",
"clc\n",
"printf('The vector notation of velocity is %fi %fj %fk \n',V_n(1),V_n(2),V_n(3))\n",
"printf('The magnitude of the Velocity Vector is %f \n',v)"
   ]
   }
],
"metadata": {
		  "kernelspec": {
		   "display_name": "Scilab",
		   "language": "scilab",
		   "name": "scilab"
		  },
		  "language_info": {
		   "file_extension": ".sce",
		   "help_links": [
			{
			 "text": "MetaKernel Magics",
			 "url": "https://github.com/calysto/metakernel/blob/master/metakernel/magics/README.md"
			}
		   ],
		   "mimetype": "text/x-octave",
		   "name": "scilab",
		   "version": "0.7.1"
		  }
		 },
		 "nbformat": 4,
		 "nbformat_minor": 0
}
