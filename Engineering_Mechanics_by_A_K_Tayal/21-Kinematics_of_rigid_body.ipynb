{
"cells": [
 {
		   "cell_type": "markdown",
	   "metadata": {},
	   "source": [
       "# Chapter 21: Kinematics of rigid body"
	   ]
	},
{
		   "cell_type": "markdown",
		   "metadata": {},
		   "source": [
			"## Example 21.11: Instantaneous_Centre_of_rotation_in_plane_motion.sce"
		   ]
		  },
  {
"cell_type": "code",
	   "execution_count": null,
	   "metadata": {
	    "collapsed": true
	   },
	   "outputs": [],
"source": [
"// Initilization of variables\n",
"v_a=2 // m/s // velocity at end A\n",
"r=0.05 // m // radius of the disc\n",
"alpha=30 // degree // angle made by the bar with the horizontal\n",
"// Calculations \n",
"// Soving eqn's 1 & 2 and substuting eqn 1 in it we get eq'n for omega as,\n",
"omega=(v_a*(sind(alpha))^2)/(r*cosd(alpha)) // radian/second\n",
"// Results\n",
"clc\n",
"printf('The anguar veocity of the bar is %f radian/second \n',omega)"
   ]
   }
,
{
		   "cell_type": "markdown",
		   "metadata": {},
		   "source": [
			"## Example 21.12: Instantaneous_Centre_of_rotation_in_plane_motion.sce"
		   ]
		  },
  {
"cell_type": "code",
	   "execution_count": null,
	   "metadata": {
	    "collapsed": true
	   },
	   "outputs": [],
"source": [
"// Initilization of variables\n",
"l=0.6 // m \n",
"r=0.12 // m \n",
"theta=30 // degree // angle made by OA with the horizontal\n",
"phi=5.7 // degree // from EX 21.5\n",
"N=300\n",
"// Calculations\n",
"// Let the angular velocity of the connecting rod be (omega_ab) which is given from eqn's 1 & 4 as,\n",
"omega_oa=(2*%pi*N)/(60) // radian/ second\n",
"// Now,in triangle IBO.\n",
"IB=(l*cosd(phi)*tand(theta))+(r*sind(theta)) // m\n",
"IA=(l*cosd(phi))/(cosd(theta)) // m\n",
"// from eq'n 5\n",
"v_b=(r*omega_oa*IB)/(IA) // m/s\n",
"// From eq'n 6\n",
"omega_ab=(r*omega_oa)/(IA) // radian/second\n",
"// Results\n",
"clc\n",
"printf('The velocity at B is %f m/s \n',v_b)\n",
"printf('The angular velocity of the connecting rod is %f radian/second \n',omega_ab)"
   ]
   }
,
{
		   "cell_type": "markdown",
		   "metadata": {},
		   "source": [
			"## Example 21.13: Instantaneous_Centre_of_rotation_in_plane_motion.sce"
		   ]
		  },
  {
"cell_type": "code",
	   "execution_count": null,
	   "metadata": {
	    "collapsed": true
	   },
	   "outputs": [],
"source": [
"// Initilization of variables\n",
"omega_ab=5 // rad/s // angular veocity of the bar\n",
"AB=0.20 // m\n",
"BC=0.15 // m\n",
"CD=0.3 // m\n",
"theta=30 // degree // where theta= angle made by AB with the horizontal\n",
"alpha=60 // degree // where alpha=angle made by CD with the horizontal\n",
"// Calculations\n",
"// Consider triangle BIC\n",
"IB=sind(alpha)*BC*1 // m\n",
"IC=sind(theta)*BC*1 // m\n",
"v_b=omega_ab*AB // m/s\n",
"// let the angular velocity of the bar BC be omega_bc\n",
"omega_bc=v_b/IB // radian/second\n",
"v_c=omega_bc*IC // m/s\n",
"// let the angular velocity of bar DC be omega_dc\n",
"omega_dc=v_c/CD // radian/second\n",
"// Results\n",
"clc\n",
"printf('The angular velocity of bar BC is %f rad/s \n',omega_bc)\n",
"printf('The angular velocity of bar CD is %f rad/s \n',omega_dc)"
   ]
   }
,
{
		   "cell_type": "markdown",
		   "metadata": {},
		   "source": [
			"## Example 21.1: Linear_and_angular_velocity_linear_and_angular_acceleration_in_rotation.sce"
		   ]
		  },
  {
"cell_type": "code",
	   "execution_count": null,
	   "metadata": {
	    "collapsed": true
	   },
	   "outputs": [],
"source": [
"// Initilization of variables\n",
"N=1800 // r.p.m // Speed of the shaft\n",
"t=5 // seconds // time taken to attain the rated speed // case (a)\n",
"T=90 // seconds // time taken by the unit to come to rest // case (b)\n",
"// Calculations\n",
"omega=(2*%pi*N)/(60)\n",
"// (a)\n",
"// we take alpha_1,theta_1 & n_1 for case (a)\n",
"alpha_1=omega/t // rad/s^2 //\n",
"theta_1=(omega^2)/(2*alpha_1) // radian\n",
"// Let n_1 be the number of revolutions turned,\n",
"n_1=theta_1*(1/(2*%pi))\n",
"// (b)\n",
"// similarly we take alpha_1,theta_1 & n_1 for case (b)\n",
"alpha_2=(omega/T) // rad/s^2 // However here alpha_2 is -ve\n",
"theta_2=(omega^2)/(2*alpha_2) // radians\n",
"// Let n_2 be the number of revolutions turned,\n",
"n_2=theta_2*(1/(2*%pi))\n",
"// Results\n",
"clc\n",
"printf('(a) The no of revolutions the unit turns to attain the rated speed is %f \n',n_1)\n",
"printf('(b) The no of revolutions the unit turns to come to rest is %f \n',n_2)"
   ]
   }
,
{
		   "cell_type": "markdown",
		   "metadata": {},
		   "source": [
			"## Example 21.2: Absolute_and_relative_velocity_in_plane_motion.sce"
		   ]
		  },
  {
"cell_type": "code",
	   "execution_count": null,
	   "metadata": {
	    "collapsed": true
	   },
	   "outputs": [],
"source": [
"// Initilization of variables\n",
"r=1 // m // radius of the cylinder\n",
"v_c=20 // m/s // velocity of the cylinder at its centre\n",
"// Calculations\n",
"// The velocity of point E is given by using the triangle law as,\n",
"v_e=sqrt(2)*v_c // m/s \n",
"// Similarly the velocity at point F is given as,\n",
"v_f=2*v_c // m/s \n",
"// Results\n",
"clc\n",
"printf('The velocity of point E is %f m/s \n',v_e)\n",
"printf('The velocity of point F is %f m/s \n',v_f)"
   ]
   }
,
{
		   "cell_type": "markdown",
		   "metadata": {},
		   "source": [
			"## Example 21.3: Absolute_and_relative_velocity_in_plane_motion.sce"
		   ]
		  },
  {
"cell_type": "code",
	   "execution_count": null,
	   "metadata": {
	    "collapsed": true
	   },
	   "outputs": [],
"source": [
"// Initilization of Variables\n",
"v_1=3 // m/s // uniform speed of the belt at top\n",
"v_2=2 // m/s // uniform speed of the belt at the bottom\n",
"r=0.4 // m // radius of the roller\n",
"// Calculations\n",
"// equating eq'ns 2 & 4 and solving for v_c & theta' (angular velocity). We use matrix to solve the eqn's\n",
"A=[1 r;1 -r]\n",
"B=[v_1;v_2]\n",
"C=inv(A)*B\n",
"// Results\n",
"clc\n",
"printf('The linear velocity (v_c) at point C is %f m/s \n',C(1))\n",
"printf('The angular velocity at point C is %f radian/seconds \n', C(2))\n",
"// NOTE: The answer of angular velocity is incorrect in the book"
   ]
   }
,
{
		   "cell_type": "markdown",
		   "metadata": {},
		   "source": [
			"## Example 21.4: Absolute_and_relative_velocity_in_plane_motion.sce"
		   ]
		  },
  {
"cell_type": "code",
	   "execution_count": null,
	   "metadata": {
	    "collapsed": true
	   },
	   "outputs": [],
"source": [
"// Initilization of Variables\n",
"l=1 // m // length of bar AB\n",
"v_a=5 // m/s // velocity of A\n",
"theta=30 // degree // angle made by the bar with the horizontal\n",
"// Calculations\n",
"// From the vector diagram linear velocity of end B is given as,\n",
"v_b=v_a/tand(theta) // m/s \n",
"// Now let the relative velocity be v_ba which is given as,\n",
"v_ba=v_a/sind(theta) // m/s\n",
"// Now let the angular velocity of the bar be theta_a which is given as,\n",
"theta_a=(v_ba)/l // radian/second\n",
"// Velocity of point A\n",
"v_a=(l/2)*theta_a // m/s\n",
"// Magnitude of velocity at point C is,\n",
"v_c=v_a // m/s // from the vector diagram\n",
"// Results\n",
"clc\n",
"printf('(a) The angular velocity of the bar is %f radian/second \n',theta_a)\n",
"printf('(b) The velocity of end B is %f m/s \n',v_b)\n",
"printf('(c) The velocity of mid point C is %f m/s \n',v_c)"
   ]
   }
,
{
		   "cell_type": "markdown",
		   "metadata": {},
		   "source": [
			"## Example 21.5: Absolute_and_relative_velocity_in_plane_motion.sce"
		   ]
		  },
  {
"cell_type": "code",
	   "execution_count": null,
	   "metadata": {
	    "collapsed": true
	   },
	   "outputs": [],
"source": [
"// Initilization of Variables\n",
"r=0.12 // m // length of the crank\n",
"l=0.6 // m // length of the connecting rod\n",
"N=300 // r.p.m // angular velocity of the crank\n",
"theta=30 // degree // angle made by the crank with the horizontal\n",
"// Calculations\n",
"// Now let the angle between the connecting rod and the horizontal rod be phi\n",
"phi=asind((r*sind(theta))/(l)) // degree\n",
"// Now let the angular velocity of crank OA be omega_oa, which is given by eq'n\n",
"omega_oa=(2*%pi*N)/(60) // radian/second\n",
"// Linear velocity at A is given as,\n",
"v_a=r*omega_oa // m/s\n",
"// Now using the sine rule linear velocity at B can be given as,\n",
"v_b=(v_a*sind(35.7))/(sind(84.3)) // m/s\n",
"// Similarly the relative velocity (assume v_ba) is given as,\n",
"v_ba=(v_a*sind(60))/(sind(84.3))\n",
"// Angular velocity (omega_ab) is given as,\n",
"omega_ab=v_ba/l // radian/second\n",
"// Results\n",
"clc\n",
"printf('(a) The angular velocity of the connecting rod is %f radian/second \n',omega_ab)\n",
"printf('(b) The velocity of the piston when the crank makes an angle of 30 degree is %f m/s \n',v_b)"
   ]
   }
,
{
		   "cell_type": "markdown",
		   "metadata": {},
		   "source": [
			"## Example 21.6: Instantaneous_Centre_of_rotation_in_plane_motion.sce"
		   ]
		  },
  {
"cell_type": "code",
	   "execution_count": null,
	   "metadata": {
	    "collapsed": true
	   },
	   "outputs": [],
"source": [
"// Initiization of variables\n",
"r=1 // m // radius of the cylinder\n",
"v_c=20 // m/s // velocity at the centre\n",
"// Calculations\n",
"// Angular velocity is given as,\n",
"omega=v_c/r // radian/second\n",
"// Velocity at point D is\n",
"v_d=omega*sqrt(2)*r // m/s // from eq'n 1\n",
"// Now, the velocity at point E is,\n",
"v_e=omega*2*r // m/s \n",
"// Results\n",
"clc\n",
"printf('The velocity at point D is %f m/s \n',v_d)\n",
"printf('The velocity at point E is %f m/s \n',v_e)"
   ]
   }
,
{
		   "cell_type": "markdown",
		   "metadata": {},
		   "source": [
			"## Example 21.7: Instantaneous_Centre_of_rotation_in_plane_motion.sce"
		   ]
		  },
  {
"cell_type": "code",
	   "execution_count": null,
	   "metadata": {
	    "collapsed": true
	   },
	   "outputs": [],
"source": [
"// Initilization of Variables\n",
"r=5 // cm // radius of the roller\n",
"AB=0.1 // m\n",
"v_a=3 // m/s // velocity at A\n",
"v_b=2 // m/s // velocity at B\n",
"// Calculations\n",
"// Solving eqn's 1 & 2 using matrix for IA & IB we get,\n",
"A=[-2 3;1 1]\n",
"B=[0;AB]\n",
"C=inv(A)*B\n",
"d1=C(2)*10^2 // cm // assume d1 for case 1\n",
"// Similary solving eqn's 3 & 4 again for IA & IB we get,\n",
"P=[-v_b v_a;1 -1]\n",
"Q=[0;AB]\n",
"R=inv(P)*Q\n",
"d2=R(2)*10^2 // cm // assume d2 for case 2\n",
"// Results\n",
"clc\n",
"printf('The distance d when the bars move in the opposite directions are %f cm \n',d1)\n",
"printf('The distance d when the bars move in the same directions are %f cm \n',d2)"
   ]
   }
,
{
		   "cell_type": "markdown",
		   "metadata": {},
		   "source": [
			"## Example 21.8: Instantaneous_Centre_of_rotation_in_plane_motion.sce"
		   ]
		  },
  {
"cell_type": "code",
	   "execution_count": null,
	   "metadata": {
	    "collapsed": true
	   },
	   "outputs": [],
"source": [
"// Initilization of Variables\n",
"v_c=1 // m/s // velocity t the centre\n",
"r1=0.1 // m \n",
"r2=0.20 // m\n",
"EB=0.1 // m\n",
"EA=0.3 // m\n",
"ED=sqrt(r1^2+r2^2) // m\n",
"// Calculations\n",
"// angular velocity is given as,\n",
"omega=v_c/r1 // radian/seconds\n",
"// Velocit at point B\n",
"v_b=omega*EB // m/s \n",
"// Velocity at point A\n",
"v_a=omega*EA // m/s\n",
"// Velocity at point D\n",
"v_d=omega*ED // m/s\n",
"// Results\n",
"clc\n",
"printf('The velocity at point A is %f m/s \n',v_a)\n",
"printf('The velocity at point B is %f m/s \n',v_b)\n",
"printf('The velocity at point D is %f m/s \n',v_d)"
   ]
   }
,
{
		   "cell_type": "markdown",
		   "metadata": {},
		   "source": [
			"## Example 21.9: Instantaneous_Centre_of_rotation_in_plane_motion.sce"
		   ]
		  },
  {
"cell_type": "code",
	   "execution_count": null,
	   "metadata": {
	    "collapsed": true
	   },
	   "outputs": [],
"source": [
"// Initilization of variables\n",
"l=1 // m // length of bar AB\n",
"v_a=5 // m/s // velocity at A\n",
"theta=30 // degree // angle made by the bar with the horizontal\n",
"// Calculations\n",
"IA=l*sind(theta) // m\n",
"IB=l*cosd(theta) // m\n",
"IC=0.5 // m // from triangle IAC\n",
"// Angular veocity is given as,\n",
"omega=v_a/(IA) // radian/second\n",
"v_b=omega*IB // m/s\n",
"v_c=omega*IC // m/s\n",
"// Results\n",
"clc\n",
"printf('The velocity at point B is %f m/s \n',v_b)\n",
"printf('The velocity at point C is %f m/s \n',v_c)"
   ]
   }
],
"metadata": {
		  "kernelspec": {
		   "display_name": "Scilab",
		   "language": "scilab",
		   "name": "scilab"
		  },
		  "language_info": {
		   "file_extension": ".sce",
		   "help_links": [
			{
			 "text": "MetaKernel Magics",
			 "url": "https://github.com/calysto/metakernel/blob/master/metakernel/magics/README.md"
			}
		   ],
		   "mimetype": "text/x-octave",
		   "name": "scilab",
		   "version": "0.7.1"
		  }
		 },
		 "nbformat": 4,
		 "nbformat_minor": 0
}
