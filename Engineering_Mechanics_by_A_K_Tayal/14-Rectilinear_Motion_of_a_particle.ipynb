{
"cells": [
 {
		   "cell_type": "markdown",
	   "metadata": {},
	   "source": [
       "# Chapter 14: Rectilinear Motion of a particle"
	   ]
	},
{
		   "cell_type": "markdown",
		   "metadata": {},
		   "source": [
			"## Example 14.10: Distance_travelled_by_a_particle_in_the_n_th_second.sce"
		   ]
		  },
  {
"cell_type": "code",
	   "execution_count": null,
	   "metadata": {
	    "collapsed": true
	   },
	   "outputs": [],
"source": [
"// Initilization of variables\n",
"a=10 // m/s^2 // acceleration of the particle\n",
"S_5th=50 // m // distance travelled by the particle during the 5th second\n",
"t=5 // seconds\n",
"// Calculations\n",
"// The distance travelled by the particle in time t is given by, S=(u*t)+(1/2)*a*t^2.....(consider this as eq'n 1)\n",
"// Here, The distance travelled by the particle in the 5th second=The distance travelled in 5 seconds - The distance travelled in 4 seconds..... (consider eq'n 2)\n",
"// Using eq'n 1: S_(0-5)=(5*u)+(1/2)*10*5^2 = 5*u+125.....(consider eq'n 3)\n",
"// again, S_(0-4)=(4*u)+(1/2)*10*4^2 = 4*u+80....(consider eq'n 4)\n",
"// Now,put eq'n 3&4 in eq'n 2 and solve for u. We get, 50=[(5*u+125)-(4*u+80)] i.e 50=u+45\n",
"u=(S_5th)-45 // m/s\n",
"// Calculations\n",
"clc\n",
"printf('The initial velocity of the particle is %f m/s \n',u)"
   ]
   }
,
{
		   "cell_type": "markdown",
		   "metadata": {},
		   "source": [
			"## Example 14.11: Variable_acceleratio.sce"
		   ]
		  },
  {
"cell_type": "code",
	   "execution_count": null,
	   "metadata": {
	    "collapsed": true
	   },
	   "outputs": [],
"source": [
"// Initilization of variables\n",
"// Conditions given are\n",
"t=1 // s\n",
"x=14.75 // m\n",
"v=6.33 // m/s\n",
"// Calculations\n",
"// We use expression 1,2 & 3 to find distance,velocity & acceleration of the particle after 2 sec\n",
"T=2 // sec\n",
"X=(T^4/12)-(T^3/3)+(T^2)+(5*T)+9 // m // eq'n 3\n",
"V=(T^3/3)-(T^2)+(2*T)+5 // m/s \n",
"a=(T^2)-(2*T)+2 // m/s^2\n",
"// Results\n",
"clc\n",
"printf('The distance travelled by the particle is %f m \n',X)\n",
"printf('The velocity of the particle is %f m/s \n',V)\n",
"printf('The acceleration of the particle is %f m/s^2 \n',a)\n",
"// The answer may vary due to decimal point error"
   ]
   }
,
{
		   "cell_type": "markdown",
		   "metadata": {},
		   "source": [
			"## Example 14.12: Variable_acceleratio.sce"
		   ]
		  },
  {
"cell_type": "code",
	   "execution_count": null,
	   "metadata": {
	    "collapsed": true
	   },
	   "outputs": [],
"source": [
"// Calculations\n",
"// From eq'n 2 it is clear that velocity of the particle becomes zero at t=3 sec\n",
"t=3 // sec .. from eq'n 2\n",
"// Position of particle at t=3 sec\n",
"x=(t^3)-(3*t^2)-(9*t)+12 // m // from eq'n 1\n",
"// Acc of particle at t=3 sec\n",
"a=6*(t-1) // m/s^2 // from eq'n 3\n",
"// Results\n",
"clc\n",
"printf('The time at which the velocity of the particle becomes zero is %f sec \n',t)\n",
"printf('The position of the partice at t=3 sec is %f m \n',x)\n",
"printf('The acceleration of the particle is %f m/s^2 \n',a)\n",
"// Ref textbook for the  graphs"
   ]
   }
,
{
		   "cell_type": "markdown",
		   "metadata": {},
		   "source": [
			"## Example 14.15: D_AlembertsPrinciple.sce"
		   ]
		  },
  {
"cell_type": "code",
	   "execution_count": null,
	   "metadata": {
	    "collapsed": true
	   },
	   "outputs": [],
"source": [
"// Initilization of variables\n",
"F=250 // N // Force acting on a body\n",
"m=100 // kg // mass of the body\n",
"// Calculations\n",
"// Using the eq'n of motion\n",
"a=F/m // m/s^2 \n",
"// Results\n",
"clc\n",
"printf('The acceleration of the body is %f m/s^2 \n',a)"
   ]
   }
,
{
		   "cell_type": "markdown",
		   "metadata": {},
		   "source": [
			"## Example 14.16: D_AlembertsPrinciple.sce"
		   ]
		  },
  {
"cell_type": "code",
	   "execution_count": null,
	   "metadata": {
	    "collapsed": true
	   },
	   "outputs": [],
"source": [
"// Initilization of variables\n",
"a=1 // m/s^2 // downward/upward acceleration of the elevator\n",
"W=500 // N // Weight of man\n",
"g=9.81 // m/s^2 // acceleration due to gravity\n",
"// Calculations\n",
"// (a) Downward Motion \n",
"R_1=W*(1-(a/g)) // N // (Assume pressure as R_1)\n",
"// (b) Upward Motion\n",
"R_2=W*(1+(a/g)) // N // (Assume pressure as R_2)\n",
"// Results\n",
"clc\n",
"printf('(a) The pressure transmitted to the floor by the  man for Downward motion of the elevator is %f N \n',R_1)\n",
"printf('(b) The pressure transmitted to the floor by the  man for Upward motion of the elevator is %f N \n',R_2)"
   ]
   }
,
{
		   "cell_type": "markdown",
		   "metadata": {},
		   "source": [
			"## Example 14.17: D_Alamberts_Principle.sce"
		   ]
		  },
  {
"cell_type": "code",
	   "execution_count": null,
	   "metadata": {
	    "collapsed": true
	   },
	   "outputs": [],
"source": [
"// Initilization of variables\n",
"W=5000 // N // Total weight of the elevator\n",
"u=0 // m/s\n",
"v=2 // m/s // velocity of the elevator\n",
"s=2 // m // distance traveled by the elevator\n",
"t=2 // seconds // time to stop the lift\n",
"w=600 // N // weight of the man\n",
"g=9.81 // m/s^2 // acc due to gravity\n",
"// Calculations\n",
"// Acceleration acquired by the elevator after travelling 2 m is given by,\n",
"a=sqrt((v^2-u^2)/(2*s)) // m/s^2\n",
"// (a) Let T be the the tension in the cable which is given by eq'n,\n",
"T=W*(1+(a/g)) // N\n",
"// (b) Motion of man\n",
"// Let R be the pressure experinced by the man.Then from the Eq'n of motion of man pressure is given as,\n",
"R=w*(1-(a/g)) // N \n",
"// Results\n",
"clc\n",
"printf('(a) The Tensile force in the cable is %f N \n',T)\n",
"printf('(b) The pressure transmitted to the floor by the man is %f N \n',R)"
   ]
   }
,
{
		   "cell_type": "markdown",
		   "metadata": {},
		   "source": [
			"## Example 14.18: Motion_of_two_Bodies.sce"
		   ]
		  },
  {
"cell_type": "code",
	   "execution_count": null,
	   "metadata": {
	    "collapsed": true
	   },
	   "outputs": [],
"source": [
"// Initilization of variables\n",
"M_1=10 // kg // mass of the 1st block\n",
"M_2=5 // kg // mass of the 2nd block\n",
"mu=0.25 // coefficient of friction between the blocks and the surface\n",
"g=9.81 // m/s^2 // acc due to gravity\n",
"// Calculations\n",
"a=g*(M_2-(mu*M_1))/(M_1+M_2) // m/s^2 // from eq'n 5\n",
"T=M_1*M_2*g*(1+mu)/(M_1+M_2) // N // from eq'n 6\n",
"// Results\n",
"clc\n",
"printf('The acceleration of the masses is %f m/s^2 \n',a)\n",
"printf('The tension in the string is %f N \n',T)"
   ]
   }
,
{
		   "cell_type": "markdown",
		   "metadata": {},
		   "source": [
			"## Example 14.19: Motion_of_two_Bodies.sce"
		   ]
		  },
  {
"cell_type": "code",
	   "execution_count": null,
	   "metadata": {
	    "collapsed": true
	   },
	   "outputs": [],
"source": [
"// Initilization of variables\n",
"M_1=150 // kg // mass of the 1st block\n",
"M_2=100 // kg // mass of the 2nd block\n",
"mu=0.2 // coefficient of friction between the blocks and the inclined plane\n",
"g=9.81 // m/s^2 // acc due to gravity\n",
"theta=45 // degree // inclination of the surface\n",
"// Calculations\n",
"// substuting the value of eq'n 3 in eq'n 1 & solving for T,we get value of T as,\n",
"T=((M_1*M_2*g)*(sind(theta)+2-(mu*cosd(theta))))/((4*M_1)+(M_2)) // N\n",
"// Results\n",
"clc\n",
"printf('The tension in the string during the motion of the system is %f N \n',T)"
   ]
   }
,
{
		   "cell_type": "markdown",
		   "metadata": {},
		   "source": [
			"## Example 14.20: Motion_of_two_Bodies.sce"
		   ]
		  },
  {
"cell_type": "code",
	   "execution_count": null,
	   "metadata": {
	    "collapsed": true
	   },
	   "outputs": [],
"source": [
"// Initilization of variables\n",
"M_1=5 // kg // mass of the 1st block\n",
"theta_1=30 // degree // inclination of the 1st plane\n",
"M_2=10 // kg // mass of the 2nd block\n",
"theta_2=60 // degree // inclination of the 2nd plane\n",
"mu=0.33 // coefficient of friction between the blocks and the inclined plane\n",
"g=9.81 // m/s^2 // acc due to gravity\n",
"// Calculations\n",
"// solving eq'n 1 & 2 for a we get,\n",
"a=((((M_2*(sind(theta_2)-(mu*cosd(theta_2))))-(M_1*(sind(theta_1)+(mu*cosd(theta_1))))))*g)/(M_1+M_2) // m/s^2\n",
"// Results\n",
"clc\n",
"printf('The acceleration of the masses is %f m/s^2 \n',a)"
   ]
   }
,
{
		   "cell_type": "markdown",
		   "metadata": {},
		   "source": [
			"## Example 14.21: Motion_of_two_Bodies.sce"
		   ]
		  },
  {
"cell_type": "code",
	   "execution_count": null,
	   "metadata": {
	    "collapsed": true
	   },
	   "outputs": [],
"source": [
"// Initilization of variables\n",
"S=5 // m // distance between block A&B\n",
"mu_A=0.2 // coefficient of friction between the block A and the inclined plane\n",
"mu_B=0.1 // coefficient of friction between the block B and the inclined plane\n",
"theta=20 // degree // inclination of the pane\n",
"g=9.81 // m/s^2 // acc due to gravity\n",
"// Calculatio//\n",
"// EQUATION OF MOTION OF BLOCK A:\n",
"// Let a_A & a_B be the acceleration of block A & B.\n",
"a_A=(g*sind(theta))-(mu_A*g*cosd(theta)) // m/s^2 // from eq'n 1 & eq'n 2\n",
"// EQUATION OF MOTION OF BLOCK B:\n",
"a_B=g*((sind(theta))-(mu_B*cosd(theta))) // m/s^2 // from eq'n 3 & Rb\n",
"// Now the eq'n for time of collision of the blocks is given as,\n",
"t=sqrt((S*2)/(a_B-a_A)) // seconds \n",
"S_A=(1/2)*a_A*t^2 // m // distance travelled by block A\n",
"S_B=(1/2)*a_B*t^2 // m // distance travelled by block B\n",
"// Results\n",
"clc\n",
"printf('The time before collision is %f seconds \n',t)\n",
"printf('The distance travelled by block A before collision is %f m \n',S_A)\n",
"printf('The distance travelled by block B before collision is %f m \n',S_B)"
   ]
   }
,
{
		   "cell_type": "markdown",
		   "metadata": {},
		   "source": [
			"## Example 14.22: Motion_of_two_Bodies.sce"
		   ]
		  },
  {
"cell_type": "code",
	   "execution_count": null,
	   "metadata": {
	    "collapsed": true
	   },
	   "outputs": [],
"source": [
"// Initilization of variables\n",
"P=50 // N // Weight of the car\n",
"Q=100 // N // Weight of the rectangular block\n",
"g=9.81 // m/s^2 // acc due to gravity\n",
"b=25 // cm // width of the rectangular block\n",
"d=50 // cm // depth of the block\n",
"// Calculations\n",
"a=(Q*g)/(4*P+2*Q) // m/s^2 // from eq'n 4\n",
"W=(Q*(P+Q))/(4*P+Q) // N // from eq'n 6\n",
"// Resuts\n",
"clc\n",
"printf('The maximum value of weight (W) by which the car can be accelerated is %f N \n',W)\n",
"printf('The acceleration is %f m/s^2 \n',a)"
   ]
   }
,
{
		   "cell_type": "markdown",
		   "metadata": {},
		   "source": [
			"## Example 14.23: Motion_of_two_Bodies.sce"
		   ]
		  },
  {
"cell_type": "code",
	   "execution_count": null,
	   "metadata": {
	    "collapsed": true
	   },
	   "outputs": [],
"source": [
"// Initilization of variables\n",
"P=40 // N // weight on puley r_1\n",
"Q=60 // N // weight on pulley r_2\n",
"g=9.81 // m/s^2 // acc due to gravity\n",
"// Calculations\n",
"// The eq'n for acceleration of pulley Pi.e a_p is,\n",
"a_p=(((2*P)-(Q))/((4*P)+(Q)))*2*g // m/s^2\n",
"// Results\n",
"clc\n",
"printf('The downward acceleration of P is %f m/s^2 \n',a_p)"
   ]
   }
,
{
		   "cell_type": "markdown",
		   "metadata": {},
		   "source": [
			"## Example 14.24: Motion_of_two_Bodies.sce"
		   ]
		  },
  {
"cell_type": "code",
	   "execution_count": null,
	   "metadata": {
	    "collapsed": true
	   },
	   "outputs": [],
"source": [
"// Initilization of variables\n",
"M=15 // kg // mass of the wedge\n",
"m=6 // kg // mass of the block\n",
"theta=30 // degree // angle of the wedge\n",
"g=9.81 // m/s^2 // acc due to gravity\n",
"// Calculations\n",
"a_A=((m*g*cosd(theta)*sind(theta))/((M)+(m*(sind(theta))^2)))/(g) // g // By eliminating R_1 from eq'n 1&3.\n",
"// Here, assume a_r is the acceleration of block B relative to wedge A which is given by substuting a_A in eq'n 2\n",
"a_r=(((g*sind(theta))*(m+M))/((M)+(m*(sind(theta))^2)))/(g) // g\n",
"// Results\n",
"clc\n",
"printf('(a) The acceleration of the wedge is %f g \n',a_A)\n",
"printf('(b) The acceleration of the bock relative to the wedge is %f g \n',a_r)"
   ]
   }
,
{
		   "cell_type": "markdown",
		   "metadata": {},
		   "source": [
			"## Example 14.25: Motion_of_two_Bodies.sce"
		   ]
		  },
  {
"cell_type": "code",
	   "execution_count": null,
	   "metadata": {
	    "collapsed": true
	   },
	   "outputs": [],
"source": [
"// Initilization of variables\n",
"P=30 // N // weight on pulley A\n",
"Q=20 // N // weight on pulley B\n",
"R=10 // N // weight on puey B\n",
"g=9.81 // m/s^2 // acc due to gravity\n",
"// Calculations\n",
"// Solving eqn's 6 & 7 using matrix for a & a_1, we get\n",
"A=[70 -40;-10 30]\n",
"B=[10;-10]\n",
"C=inv(A)*B\n",
"// Acceleration of P is given as,\n",
"P=C(1) // m/s^2\n",
"// Acceleration of Q is given as,\n",
"Q=C(2)-C(1) // m/s^2\n",
"// Acceleration of R is given as,\n",
"R=-(C(2)+C(1)) // m/s^2 // as R is taken to be +ve\n",
"// Results\n",
"clc\n",
"printf('The acceleration of P is %f g \n',P)\n",
"printf('The acceleration of Q is %f g \n',Q)\n",
"printf('The acceleration of R is %f g \n',R)\n",
"// Here the -ve sign indicates deceleration or backward/downward acceleation."
   ]
   }
,
{
		   "cell_type": "markdown",
		   "metadata": {},
		   "source": [
			"## Example 14.30: Motion_of_two_Bodies.sce"
		   ]
		  },
  {
"cell_type": "code",
	   "execution_count": null,
	   "metadata": {
	    "collapsed": true
	   },
	   "outputs": [],
"source": [
"// Initilization of variables\n",
"W=1 // kg/m // weight of the bar\n",
"L_AB=0.6 // m // length of segment AB\n",
"L_BC=0.30 // m // length of segment BC\n",
"g=9.81 // m/s^2 // acc due to gravity\n",
"// Calculations\n",
"// Consider the respective F.B.D.\n",
"theta_1=atand(5/12) // slope of bar AB // here theta_1= atan(theta)\n",
"theta_2=asind(5/13) // theta_2=asin(theta)\n",
"theta_3=acosd(12/13) // theta_3=acos(theta)\n",
"M_AB=L_AB*W // kg acting at D // Mass of segment AB\n",
"M_BC=L_BC*W // kg acting at E // Mass of segment BC\n",
"// The various forces acting on the bar are:\n",
"// Writing the eqn's of dynamic equilibrium\n",
"Y_A=(L_AB*g)+(L_BC*g) // N // sum F_y=0\n",
"// Using moment eq'n Sum M_A=0:Here,in this eq'n the values are as follows,\n",
"AF=L_BC*cosd(theta_3) \n",
"DF=L_BC*sind(theta_2)\n",
"AH=(L_AB*cosd(theta_3))+((L_BC/2)*sind(theta_2))\n",
"IG=(L_AB*sind(theta_2))-((L_BC/2)*cosd(theta_3))\n",
"// On simplifying and solving moment eq'n we get a as,\n",
"a=((2*L_AB*L_BC*g*sind(theta_2))-(L_BC*g*(L_BC/2)*cosd(theta_3)))/((2*L_AB*L_BC*cosd(theta_3))+(L_BC*(L_BC/2)*sind(theta_2))) // m/s^2\n",
"X_A=0.9*a //N // from eq'n of dynamic equilibrium\n",
"R_A=sqrt(X_A^2+Y_A^2) // N // Resultant of R_A\n",
"alpha=atand(Y_A/X_A) // degree\n",
"// Results\n",
"clc\n",
"printf('The acceleration is %f m/s^2 \n',a)\n",
"printf('The reaction at A (R_A) is %f N \n',R_A)\n",
"printf('The angle made by the resultant is %f degree \n',alpha)"
   ]
   }
,
{
		   "cell_type": "markdown",
		   "metadata": {},
		   "source": [
			"## Example 14.3: Displacement_velocity_and_acceleration_of_connected_bodies.sce"
		   ]
		  },
  {
"cell_type": "code",
	   "execution_count": null,
	   "metadata": {
	    "collapsed": true
	   },
	   "outputs": [],
"source": [
"// Initilization of variables\n",
"a_T=0.18 // m/s^2 // acc of trolley\n",
"// Calculations\n",
"a_B=-a_T/3 // m/s^2 // from eq'n 4\n",
"t=4 // seconds\n",
"v_T=a_T*t // m/s // velocity of trolley after 4 seconds\n",
"v_B=-v_T/3 // m/s // from eq'n 3\n",
"S_T=(1/2)*a_T*t^2 // m // distance moved by trolley in 4 sec\n",
"S_B=-S_T/3 // m // from eq'n 2\n",
"// Results\n",
"clc\n",
"printf('The acceleration of block B is %f m/s^2 \n',a_B)\n",
"printf('The velocity of trolley & the block after 4 sec is %f m/s & %f m/s \n',v_T,v_B)\n",
"printf('The distance moved by the trolley & the block is %f m & %f m \n',S_T,S_B)\n",
"// The -ve sign indicates that the velocity or the distance travelled is in opposite direction."
   ]
   }
,
{
		   "cell_type": "markdown",
		   "metadata": {},
		   "source": [
			"## Example 14.4: Velocity_time_relationship.sce"
		   ]
		  },
  {
"cell_type": "code",
	   "execution_count": null,
	   "metadata": {
	    "collapsed": true
	   },
	   "outputs": [],
"source": [
"// Initiliztion of variables\n",
"v_B=12 // cm/s // velocity of block B\n",
"u=0\n",
"s=24 // cm // distance travelled by bock B\n",
"t=5 // seconds\n",
"// Calculations\n",
"a_B=v_B^2/(2*s) // cm/s^2 // using eq'n v^2-u^2=28*a*s for block B. Here u=0\n",
"a_A=(3/2)*a_B // cm/s^2 // from eq'n 4 // Here a_A is negative which means acceleration is in opposite direction. However we consider +ve values for further calculations\n",
"v_A=u+(a_A*t) // m/s // using eq'n v=u+(a*t)\n",
"S_A=(u*t)+((1/2)*a_A*t^2) // m // using eq'n S=(u*t)+((1/2)*a*t^2)\n",
"// Results\n",
"clc\n",
"printf('The acceleration of block A (a_A) is %f cm/s^2 \n',a_A)\n",
"printf('The acceleration of block B (a_B) is %f cm/s^2 \n',a_B)\n",
"printf('The velocity of block A (v_A) after 5 seconds is %f m/s \n',v_A)\n",
"printf('The position of block A (S_A) after 5 seconds is %f m \n',S_A)"
   ]
   }
,
{
		   "cell_type": "markdown",
		   "metadata": {},
		   "source": [
			"## Example 14.5: Displacement_time_relationship.sce"
		   ]
		  },
  {
"cell_type": "code",
	   "execution_count": null,
	   "metadata": {
	    "collapsed": true
	   },
	   "outputs": [],
"source": [
"// Initilization of variables\n",
"u=72*(1000/(60*60)) // km/hr // speed of the vehicle\n",
"s=300 // m // distance where the light is turning is red\n",
"t=20 // s // traffic light timed to remain red\n",
"// Calculations\n",
"// Now to find the acceleration we use the eq'n s=u*t+(1/2)*a*t^2\n",
"a=(((s)-(u*t))*2)/t^2 // m/s^2 (Deceleration) \n",
"v=(u+(a*t))*((60*60)/1000) // km/hr // here we multiply with (60*60)/1000 to convert m/s to km/hr\n",
"// Results\n",
"clc\n",
"printf('(a) The required uniform acceleration of the car is %f m/s^2 \n',a)\n",
"printf('(b) The speed at which the motorist crosses the traffic light is %f km/hr \n',v)"
   ]
   }
,
{
		   "cell_type": "markdown",
		   "metadata": {},
		   "source": [
			"## Example 14.6: Displacement_time_relationship.sce"
		   ]
		  },
  {
"cell_type": "code",
	   "execution_count": null,
	   "metadata": {
	    "collapsed": true
	   },
	   "outputs": [],
"source": [
"// Initilization of variables\n",
"S=50 // m // height of the tower\n",
"v=25 // m/s // velocity at which the stone is thrown up from the foot of the tower\n",
"g=9.81 // m/s^2 // acc due to graity\n",
"// Calculations\n",
"// The equation of time for the two stones to cross each other is given as,\n",
"t=S/v // seconds\n",
"S_1=(1/2)*g*t^2 // m // from the top\n",
"// Results\n",
"clc\n",
"printf('The time (t) at which the two stones cross each other is %f seconds \n',t)\n",
"printf('The two stones cross each other (from top) at a distance of %f m \n',S_1)"
   ]
   }
,
{
		   "cell_type": "markdown",
		   "metadata": {},
		   "source": [
			"## Example 14.7: Displacement_time_relationship.sce"
		   ]
		  },
  {
"cell_type": "code",
	   "execution_count": null,
	   "metadata": {
	    "collapsed": true
	   },
	   "outputs": [],
"source": [
"// Intilization of variables\n",
"acc=0.5 // m/s^2 // acceleration of the elevator\n",
"s=25 // m // distance travelled by the elevator from the top\n",
"u=0 // m/s\n",
"g=9.81 // m/s^2 // acc due to gravity\n",
"// Calculations\n",
"// Using eq'n the eq'n v^2-u^2=2*a*s, solving for v we get,\n",
"v=sqrt((2*acc*s)+(u^2)) // m/s \n",
"// Now solving eq'n 1 & 2 for t we get, (4.655*t^2)-(5*t)+(25)=0\n",
"// Find the roots of the eq'n using the eq'n,t=(-b+sqrt(b^2-(4*a*c)))/(2*a).In this eq'n the values of a,b & c are,\n",
"a=4.655\n",
"b=-5\n",
"c=-25\n",
"t=(-b+sqrt((b^2)-(4*a*c)))/(2*a) // seconds\n",
"// Let S_1 be the distance travelled by the elevator after it travels 25 m from top when the stone hits the elevator,This disance S_1 is given as,\n",
"S_1=(v*t)+((1/2)*acc*t^2) // m\n",
"// Let S be the total dist from top when the stone hits the elevator,\n",
"S=S_1+s // m\n",
"// Results\n",
"clc\n",
"printf('The time taken by the stone to hit the elevator is %f seconds \n',t)\n",
"printf('The distance (S)travelled by the elevator at the time of impact is %f m \n',S)"
   ]
   }
,
{
		   "cell_type": "markdown",
		   "metadata": {},
		   "source": [
			"## Example 14.9: Displacement_time_relationship.sce"
		   ]
		  },
  {
"cell_type": "code",
	   "execution_count": null,
	   "metadata": {
	    "collapsed": true
	   },
	   "outputs": [],
"source": [
"// Initilization of variables\n",
"v=60 // km/hr // velocity of the train\n",
"d1=15 // km // Distance travelled by the local train from the velocity-time graph (here d1= Area OED)\n",
"d2=12 // km // from the velocity-time graph (here d2= Area OABB')\n",
"d3=3 // km // from the velocity-time graph (here d3= Area BB'C)\n",
"// Calculations\n",
"t_1=d2/v // hr // time of travel for first 12 kms\n",
"t_2=(2*d3)/v // hr // time of for next 3 kms\n",
"// Total time of travel for passenger train is given by eq'n\n",
"t=t_1+t_2 // hr\n",
"// Now time of travel of the local train (let it be T) is given as,\n",
"T=2*t // hr\n",
"V_max=(2*d1)/T // km/hr\n",
"// Results\n",
"clc\n",
"printf('The maximum speed of the local train is %f km/hr \n',V_max)"
   ]
   }
],
"metadata": {
		  "kernelspec": {
		   "display_name": "Scilab",
		   "language": "scilab",
		   "name": "scilab"
		  },
		  "language_info": {
		   "file_extension": ".sce",
		   "help_links": [
			{
			 "text": "MetaKernel Magics",
			 "url": "https://github.com/calysto/metakernel/blob/master/metakernel/magics/README.md"
			}
		   ],
		   "mimetype": "text/x-octave",
		   "name": "scilab",
		   "version": "0.7.1"
		  }
		 },
		 "nbformat": 4,
		 "nbformat_minor": 0
}
