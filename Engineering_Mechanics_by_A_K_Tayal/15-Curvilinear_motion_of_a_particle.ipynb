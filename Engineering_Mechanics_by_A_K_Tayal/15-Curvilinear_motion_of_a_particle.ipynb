{
"cells": [
 {
		   "cell_type": "markdown",
	   "metadata": {},
	   "source": [
       "# Chapter 15: Curvilinear motion of a particle"
	   ]
	},
{
		   "cell_type": "markdown",
		   "metadata": {},
		   "source": [
			"## Example 15.10: Equations_of_dynamic_equilibrium.sce"
		   ]
		  },
  {
"cell_type": "code",
	   "execution_count": null,
	   "metadata": {
	    "collapsed": true
	   },
	   "outputs": [],
"source": [
"// Initilization of variables\n",
"mu_a=0.40 // coefficient of friction under block A\n",
"n=40 // r.p.m // speed of rotation of frame\n",
"W_A=120 // N // weight of block A\n",
"W_B=80 // N // weight of block B\n",
"r_1=1.2 // m // distance between W_A & axis of rotation\n",
"r_2=1.6 // m // distance between W_B & axis of rotation\n",
"g=9.81 // m/s^2\n",
"// Calculations\n",
"// Consider the F.B.D of block A\n",
"N=W_A // N // sum F_y=0\n",
"omega=(2*%pi*n)/60 // rad/sec\n",
"a_n=omega^2*r_1 // m/s^2\n",
"T=((W_A/g)*a_n)-(mu_a*W_A) // N\n",
"// Now consider the F.B.D of block B\n",
"A_n=omega^2*r_2 // m/s^2\n",
"N_1=(W_B/g)*A_n // N // sum F_x=0\n",
"mu=(T-W_B)/N_1 // sum F_x=0\n",
"// Results\n",
"clc\n",
"printf('The coefficient of friction of block B is %f \n',mu)"
   ]
   }
,
{
		   "cell_type": "markdown",
		   "metadata": {},
		   "source": [
			"## Example 15.12: Motion_of_particle_on_curved_frictionless_path.sce"
		   ]
		  },
  {
"cell_type": "code",
	   "execution_count": null,
	   "metadata": {
	    "collapsed": true
	   },
	   "outputs": [],
"source": [
"// Initilization of variables\n",
"W=10000 // N // Weight of the locomotive\n",
"// Calculations\n",
"// Consider the various derivations given in the textbook\n",
"R_max=W/20 // N // eq'n for  max reaction\n",
"// The position of occurence of maximum thrust cannot be defined here. Refer textbook for the answer\n",
"// Results\n",
"clc\n",
"printf('The maximum lateral thrust is %f N \n',R_max)"
   ]
   }
,
{
		   "cell_type": "markdown",
		   "metadata": {},
		   "source": [
			"## Example 15.13: motion_of_a_particle_on_curved_frictionless_path.sce"
		   ]
		  },
  {
"cell_type": "code",
	   "execution_count": null,
	   "metadata": {
	    "collapsed": true
	   },
	   "outputs": [],
"source": [
"// Initilization of variables\n",
"W=10 // N // Weight of the ball\n",
"// Calculations\n",
"// consider the eq'n derived to find the reaction, given as\n",
"R=W*(1+((2*%pi^2)/9)) // N \n",
"// Results\n",
"clc\n",
"printf('The value of the reaction is %f N \n',R)"
   ]
   }
,
{
		   "cell_type": "markdown",
		   "metadata": {},
		   "source": [
			"## Example 15.15: Motion_of_a_particle_in_a_curved_frictionless_path.sce"
		   ]
		  },
  {
"cell_type": "code",
	   "execution_count": null,
	   "metadata": {
	    "collapsed": true
	   },
	   "outputs": [],
"source": [
"// Initilization of variables\n",
"P=50 // N // Weight of ball P\n",
"Q=50 // N // Weight of ball Q\n",
"R=100 // N // Weight of the governing device\n",
"l=0.3 // m // length of each side\n",
"theta=30 // degree\n",
"g=9.81 // m/s^2 // acc due to gravity\n",
"// Calculations\n",
"// Consider the respective F.B.D\n",
"r=l*sind(theta) // m // Radius of circe\n",
"// On solving eqn's 1,2 &3 we get the value of v as,\n",
"v=sqrt(((Q+R)*g*r)/((sqrt(3))*Q)) // m/s \n",
"// But the eq'n v=omega*r we get the value of N as,\n",
"N=(60*v)/(2*%pi*r) // r.p.m \n",
"// Results\n",
"clc\n",
"printf('The speed of rotation is %f r.p.m \n',N)\n",
"// NOTE: In the text book (A.K. Tayal) this sum is numbered as 'EXAMPLE 15.14' which is incorrect."
   ]
   }
,
{
		   "cell_type": "markdown",
		   "metadata": {},
		   "source": [
			"## Example 15.16: Motion_of_a_particle_in_a_curved_frictionless_path.sce"
		   ]
		  },
  {
"cell_type": "code",
	   "execution_count": null,
	   "metadata": {
	    "collapsed": true
	   },
	   "outputs": [],
"source": [
"// Initilization of variables\n",
"Q=20 // N // Weight of the governor device\n",
"W=10 // N // Weight of the fly balls\n",
"theta=30 // degree // angle between the vertical shaft and the axis AB\n",
"l=0.2 // m // length of the shaft\n",
"g=9.81 // m/s^2 // acc due to gravity\n",
"// Calculations\n",
"// Consider the respective F.B.D\n",
"// Radius of the circle is given as,\n",
"r=Q*sind(theta)*(10^-2) // m \n",
"// Solving eq'n 1 & 2 for v. The eq'n for v is given as,\n",
"v=sqrt(((W*l*0.5)+(0.05*Q))/((W*0.2*sqrt(3))/(2*g*r))) // m/s\n",
"// But, v=r*omega=2*pi*N*r/60. From this eq'n we get N as,\n",
"N=(v*60)/(2*%pi*r) // r.p.m.\n",
"// Results\n",
"clc\n",
"printf('The speed of the fly-balls is %f r.p.m \n',N)"
   ]
   }
,
{
		   "cell_type": "markdown",
		   "metadata": {},
		   "source": [
			"## Example 15.18: Motion_of_vehicles_on_leveled_and_banked_roads.sce"
		   ]
		  },
  {
"cell_type": "code",
	   "execution_count": null,
	   "metadata": {
	    "collapsed": true
	   },
	   "outputs": [],
"source": [
"// Initilization of variables\n",
"r=50 // m // radius of the road\n",
"mu=0.15 // coefficient of friction between the wheels and the road\n",
"g=9.81 // m/s^2 // acc due to gravity\n",
"// Calculations\n",
"// The eq'n fo max speed of the vehicle without skidding is \n",
"v=sqrt(mu*g*r) // m/s\n",
"// The angle theta made with the vertical while negotiating the corner is \n",
"theta=atand(v^2/(g*r)) // degree\n",
"// Results\n",
"clc\n",
"printf('The maximum speed with which the vehicle can travel is %f m/s \n',v)\n",
"printf('The angle made with the vertical is %f degree \n',theta)"
   ]
   }
,
{
		   "cell_type": "markdown",
		   "metadata": {},
		   "source": [
			"## Example 15.19: Motion_of_vehicles_on_leveled_and_banked_roads.sce"
		   ]
		  },
  {
"cell_type": "code",
	   "execution_count": null,
	   "metadata": {
	    "collapsed": true
	   },
	   "outputs": [],
"source": [
"// Initilization of variables\n",
"v=100*(1000/3600) // m/s // or 100 km/hr\n",
"r=250 // m // radius of the road\n",
"g=9.81 // m/s^2 // acc due to gravity\n",
"// Calculations\n",
"// The angle of banking is given by eq'n,\n",
"theta=atand((v^2)/(g*r)) // degree \n",
"// Results\n",
"clc\n",
"printf('The angle of banking of the track is %f degree \n',theta)"
   ]
   }
,
{
		   "cell_type": "markdown",
		   "metadata": {},
		   "source": [
			"## Example 15.20: Motion_of_vehicles_on_leveled_and_banked_roads.sce"
		   ]
		  },
  {
"cell_type": "code",
	   "execution_count": null,
	   "metadata": {
	    "collapsed": true
	   },
	   "outputs": [],
"source": [
"// Initilization of variables\n",
"W=10000 // N // Weight of the car\n",
"r=100 // m // radius of the road\n",
"v=10 // m/s // speed of the car\n",
"h=1 // m // height of the C.G of the car above the ground\n",
"b=1.5 // m // distance between the wheels\n",
"g=9.81 // m/s^2 // acc due to gravity\n",
"// Calculations\n",
"// The reactions at the wheels are given by te eq'ns:\n",
"R_A=(W/2)*(1-((v^2*h)/(g*r*b))) // N // Reaction at A\n",
"R_B=(W/2)*(1+((v^2*h)/(g*r*b))) // N // Reaction at B\n",
"// The eq'n for max speed to avoid overturning on level ground is,\n",
"v_max=sqrt((g*r*(b/2))/(h)) // m/s\n",
"// Results\n",
"clc\n",
"printf('The reaction at Wheel A (R_A) is %f N \n',R_A)\n",
"printf('The reaction at Wheel B (R_B) is %f N \n',R_B)\n",
"printf('The maximum speed at which the vehicle can travel without the fear of overturning is is %f m/s \n',v_max)"
   ]
   }
,
{
		   "cell_type": "markdown",
		   "metadata": {},
		   "source": [
			"## Example 15.21: Motion_of_vehicles_on_leveled_and_banked_roads.sce"
		   ]
		  },
  {
"cell_type": "code",
	   "execution_count": null,
	   "metadata": {
	    "collapsed": true
	   },
	   "outputs": [],
"source": [
"// Initilization of variables\n",
"W=1 // N // Weight of the bob\n",
"theta=8 // degree // angle made by the bob with the vertical\n",
"r=100 // m // radius of the curve\n",
"g=9.81 // m/s^2 // acc due to gravity\n",
"// Calculations\n",
"// from eq'n 1 & 2 we get v as,\n",
"v=(sqrt(g*r*tand(theta)))*(3600/1000) // km/hr \n",
"T=W/cosd(theta) // N // from eq'n 2\n",
"// Results\n",
"clc\n",
"printf('The speed of the cariage is %f km/hr \n',v)\n",
"printf('The tension in the chord is %f N \n',T)"
   ]
   }
,
{
		   "cell_type": "markdown",
		   "metadata": {},
		   "source": [
			"## Example 15.2: Components_of_Acceleration.sce"
		   ]
		  },
  {
"cell_type": "code",
	   "execution_count": null,
	   "metadata": {
	    "collapsed": true
	   },
	   "outputs": [],
"source": [
"// Initilization of variables\n",
"r=200 // m // radius of the curved road\n",
"v_1=72*(1000/3600) // m/s // initial speed of the car\n",
"v_2=36*(1000/3600) // m/s // speed of the car after 10 seconds\n",
"t=10 // seconds\n",
"// Calculations\n",
"A_n=v_1^2/r // m/s^2 // normal component of acceleration\n",
"A_t=0 // since dv/dt=0 // tangential component of acceeration\n",
"delv=v_1-v_2\n",
"delt=t-0\n",
"a_t=delv/delt // m/s^2 // tangential component of deceleration after the brakes are applied\n",
"a_n=v_1^2/r // m/s^2 // normal component of deceleration  after the brakes are applied\n",
"// Results\n",
"clc\n",
"printf('The normal component of acceleration is %f m/s^2 \n',A_n)\n",
"printf('The tangential component of acceleration is %f m/s^2 \n',A_t)\n",
"printf('The normal component of deceleration is %f m/s^2 \n',a_n)\n",
"printf('The tangential component of deceleration is %f m/s^2 \n',a_t)"
   ]
   }
,
{
		   "cell_type": "markdown",
		   "metadata": {},
		   "source": [
			"## Example 15.3: Components_of_Acceleration.sce"
		   ]
		  },
  {
"cell_type": "code",
	   "execution_count": null,
	   "metadata": {
	    "collapsed": true
	   },
	   "outputs": [],
"source": [
"// Iintilization of variables\n",
"r=250 // m // radius of the curved road\n",
"a_t=0.6 // m/s^2 // tangential acceleration\n",
"a=0.75 // m/s^2 // total acceleration attained by the car\n",
"// Calculations\n",
"a_n=sqrt(a^2-a_t^2) // m/s^2\n",
"v=sqrt(a_n*r) // m/s\n",
"// Using v=u+a*t\n",
"u=0\n",
"t=v/a_t // seconds\n",
"// Now using v^2-u^2=2*a*s\n",
"s=v^2/(2*a_t) // m\n",
"// Results\n",
"clc\n",
"printf('The distance  traveled by the car is %f m \n',s)\n",
"printf('The time for which the car travels is %f seconds \n',t)"
   ]
   }
,
{
		   "cell_type": "markdown",
		   "metadata": {},
		   "source": [
			"## Example 15.5: Morion_of_a_particle_on_a_curved_frictionless_path.sce"
		   ]
		  },
  {
"cell_type": "code",
	   "execution_count": null,
	   "metadata": {
	    "collapsed": true
	   },
	   "outputs": [],
"source": [
"// Initilization of variables\n",
"v=10 // m/s // speed of the car\n",
"r=200 // m // radius of the road\n",
"t=15 // seconds\n",
"// Calculations\n",
"omega=(v/r) // radian/seconds // angular velocity of the car\n",
"// Velocity in x & y direction is given by eq'n\n",
"v_x=omega*r*sind(omega*(180/%pi)*t) // m/s // value of v_x is -ve but we consider it to be +ve for calculations\n",
"v_y=omega*r*cosd(omega*(180/%pi)*t) // m/s\n",
"// Acceleration in x & y direction is given by\n",
"a_x=omega^2*r*cosd(omega*(180/%pi)*t) // m/s^2 // value of a_x is -ve but we consider it to be +ve for calculations\n",
"a_y=omega^2*r*sind(omega*(180/3.14)*t) // m/s^2 // value of a_y is -ve but we consider it to be +ve for calculations\n",
"a=sqrt(a_x^2+a_y^2) // m/s^2 // total acc\n",
"phi=atand(a_y/a_x) // degrees // direction of acceleration\n",
"// Components in tangential and normal directions\n",
"// Velocity\n",
"v_n=0 // m/s\n",
"v_t=v // m/s\n",
"// Acceleration\n",
"a_n=v^2/r // m/s^2 // normal acc\n",
"a_t=0 // tangential acc\n",
"// angular position of the car after 15 sec \n",
"theta=omega*(180/%pi)*t // degrees\n",
"// Results\n",
"clc\n",
"printf('The component of velocity in X direction (v_x) is %f m/s \n',v_x)\n",
"printf('The component of velocity in Y direction (v_y) is %f m/s \n',v_y)\n",
"printf('The component of acceleration in X direction (a_x) is %f m/s^2 \n',a_x)\n",
"printf('The component of acceleration in Y direction (a_y) is %f m/s^2 \n',a_y)\n",
"printf('The total acceleration is %f m/s^2 and its direction is %f degrees \n',a,phi)\n",
"printf('The normal acceleration is %f m/s^2 and tangential acceleration is %f m/s^2 \n',a_n,a_t)"
   ]
   }
,
{
		   "cell_type": "markdown",
		   "metadata": {},
		   "source": [
			"## Example 15.6: Motion_of_a_particle_on_a_curved_frictionless_path.sce"
		   ]
		  },
  {
"cell_type": "code",
	   "execution_count": null,
	   "metadata": {
	    "collapsed": true
	   },
	   "outputs": [],
"source": [
"// Initilization of variables\n",
"t=1 // seconds\n",
"pi=3.14\n",
"// Calculations\n",
"// From the equations of r and theta given we find 1st & 2nd derative and substitute t=1sec Here we consider the 1st derative as r_1 & theta_1 and so on...\n",
"r=(1.25*t^2)-(0.9*t^3) // m\n",
"r_1=(1.25*(2*t))-(0.9*(3*t^2)) // m/s\n",
"r_2=2.5-(0.9*3*(2*t)) // m/s^2\n",
"theta=(pi/2)*(4*t-3*t^2) // radian\n",
"theta_1=(pi/2)*(4-(6*t)) // rad/second\n",
"theta_2=(pi/2)*(0-(6*t)) // rad/second^2\n",
"// Velocity of collar P\n",
"v_r=r_1 // m/s\n",
"v_theta=r*theta_1 // m/s\n",
"v=sqrt(v_r^2+v_theta^2) // m/s\n",
"alpha=atand(v_theta/v_r) // degree\n",
"// Acceleration of the collar P\n",
"a_r=r_2-(r*theta_1^2) // m/s^2\n",
"a_theta=(r*theta_2)+(2*r_1*theta_1) // m/s^2\n",
"a=sqrt(a_r^2+a_theta^2) // m/s^2\n",
"beta=atand(a_theta/a_r) // degree\n",
"// Acceleration of collar P relative to the rod. Let it be a_relative\n",
"a_relative=r_2 // m/s^2 // towards O\n",
"// Calculations\n",
"clc\n",
"printf('The velocity of the collar is %f m/s \n',v)\n",
"printf('The accelaration of the collar is %f m/s^2 \n',a)\n",
"printf('The acceleration of the collar relative to the rod is %f m/s^2 \n',a_relative)"
   ]
   }
,
{
		   "cell_type": "markdown",
		   "metadata": {},
		   "source": [
			"## Example 15.7: Components_of_motion.sce"
		   ]
		  },
  {
"cell_type": "code",
	   "execution_count": null,
	   "metadata": {
	    "collapsed": true
	   },
	   "outputs": [],
"source": [
"// Consider the eq'ns of motion from the book\n",
"// The notations have been changed for the derivatives of r & theta\n",
"// (1) At t=0 s\n",
"theta_0=0\n",
"theta_1=2*%pi // rad/s\n",
"theta_2=0\n",
"r_0=0\n",
"r_1=10 // cm/s\n",
"r_2=0\n",
"// At t=0.3 s\n",
"t=0.3 // sec\n",
"theta=2*%pi*t // rad\n",
"theta1=2*%pi // rad/s\n",
"theta2=0\n",
"r=10*t // cm\n",
"r1=10 // cm/s\n",
"r2=0\n",
"// (i) \n",
"//Velocity\n",
"v_r=r_1 // cm/s\n",
"v_theta=r_0*theta_1\n",
"v=sqrt(v_r^2+v_theta^2) // cm/s\n",
"// Acceleration\n",
"a_r=r_2-(r_0*theta_1^2) // cm/s^2\n",
"a_theta=(r_0*theta_2)+(2*r_1*theta_1) // cm/s^2\n",
"a=sqrt(a_r^2+a_theta^2) // cm/s^2\n",
"// (ii)\n",
"// Velocity\n",
"V_R=r1 // cm/s\n",
"V_theta=r*theta1 // cm/s\n",
"V=sqrt(V_R^2+V_theta^2) // cm/s\n",
"// Acceleration\n",
"A_r=r2-(r*theta1^2) // cm/s^2\n",
"A_theta=(r*theta2)+(2*r1*theta1) // cm/s^2\n",
"A=sqrt(A_r^2+A_theta^2) // cm/s^2\n",
"// Results\n",
"clc\n",
"printf('The velocity and the acceleration of the partice at t=0 s is %f cm/s & %f cm/s^2 \n',v,a)\n",
"printf('The velocity and the acceleration of the partice at t=0.3 s is %f cm/s & %f cm/s^2 \n',V,A)"
   ]
   }
,
{
		   "cell_type": "markdown",
		   "metadata": {},
		   "source": [
			"## Example 15.9: Equations_of_dynamic_equilibrium.sce"
		   ]
		  },
  {
"cell_type": "code",
	   "execution_count": null,
	   "metadata": {
	    "collapsed": true
	   },
	   "outputs": [],
"source": [
"// Calculations\n",
"// Tension in the wire before it is cut\n",
"T_ab=1/((2.747*0.643)+(0.766)) // From eqn's 1 & 2..Here T_ab is multiplied with W (i.e weight of small ball) \n",
"T_AB=cosd(40) // Tension in the wire after the wire is cut. Again T_AB is multiplied with W.\n",
"// Results\n",
"clc\n",
"printf('The tension in the wire before and after it is cut is respectively %f W & %f W \n',T_ab,T_AB)"
   ]
   }
],
"metadata": {
		  "kernelspec": {
		   "display_name": "Scilab",
		   "language": "scilab",
		   "name": "scilab"
		  },
		  "language_info": {
		   "file_extension": ".sce",
		   "help_links": [
			{
			 "text": "MetaKernel Magics",
			 "url": "https://github.com/calysto/metakernel/blob/master/metakernel/magics/README.md"
			}
		   ],
		   "mimetype": "text/x-octave",
		   "name": "scilab",
		   "version": "0.7.1"
		  }
		 },
		 "nbformat": 4,
		 "nbformat_minor": 0
}
