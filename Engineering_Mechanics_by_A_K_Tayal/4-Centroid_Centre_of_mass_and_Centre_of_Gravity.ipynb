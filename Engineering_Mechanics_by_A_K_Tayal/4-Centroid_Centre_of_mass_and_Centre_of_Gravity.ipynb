{
"cells": [
 {
		   "cell_type": "markdown",
	   "metadata": {},
	   "source": [
       "# Chapter 4: Centroid Centre of mass and Centre of Gravity"
	   ]
	},
{
		   "cell_type": "markdown",
		   "metadata": {},
		   "source": [
			"## Example 4.8: Centroid_of_a_composite_plane_figure.sce"
		   ]
		  },
  {
"cell_type": "code",
	   "execution_count": null,
	   "metadata": {
	    "collapsed": true
	   },
	   "outputs": [],
"source": [
"// Initilization of variables\n",
"b1=20 //cm // width of top flange\n",
"t1=5 //cm // thickness of top flange\n",
"b2=5 //cm // width of web\n",
"t2=15 //cm // thickness or height of the web\n",
"b3=30 //cm // width of bottom flange\n",
"t3=5 //cm // thickness of bottom flange\n",
"// Calculations\n",
"A1=b1*t1 //cm^2 // area of bottom flange\n",
"A2=b2*t2 //cm^2 // area of the web\n",
"A3=b3*t3 //cm^2 // area of top flange\n",
"y1=t3+t2+(t1/2) //cm // y co-ordinate of the centroid of top flange\n",
"y2=t3+(t2/2) //cm //  y co-ordinate of the centroid of the web\n",
"y3=t3/2 //cm //  y co-ordinate of the centroid of the bottom flange\n",
"y_c=((A1*y1)+(A2*y2)+(A3*y3))/(A1+A2+A3) //cm // where y_c is the centroid of the un-symmetrycal I-section\n",
"// Results\n",
"clc\n",
"printf('The centroid of the un equal I-section is %f cm \n',y_c)"
   ]
   }
,
{
		   "cell_type": "markdown",
		   "metadata": {},
		   "source": [
			"## Example 4.9: Centroid_of_a_composite_plane_figure.sce"
		   ]
		  },
  {
"cell_type": "code",
	   "execution_count": null,
	   "metadata": {
	    "collapsed": true
	   },
	   "outputs": [],
"source": [
"// Initilization of variables\n",
"// The given section is Z-section which is un-symmetrycal about both the axis\n",
"b1=20 //cm // width of bottom flange \n",
"t1=5 //cm // thickness of the bottom flange\n",
"b2=2.5 //cm // thickness of the web of the flange\n",
"t2=15 //cm // depth of the web\n",
"b3=10 //cm // width of the top flange\n",
"t3=2.5 //cm // thickness of the top flange\n",
"// Calculations\n",
"// Respective areas\n",
"A1=b1*t1 // cm^2 // area of the bottom flange\n",
"A2=b2*t2 // cm^2 // area of the web\n",
"A3=b3*t3 // cm^2 // area of the top-flange\n",
"// first we calculate the x co-ordinate of the centroid\n",
"x1=b3-b2+(b1/2) //cm // for the bottom flange\n",
"x2=b3-(b2/2) //cm // for the web\n",
"x3=b3/2 //cm // for the top flange\n",
"x_c=((A1*x1)+(A2*x2)+(A3*x3))/(A1+A2+A3) //cm\n",
"// secondly we calculate the y co-ordinate of the centroid\n",
"y1=t1/2 //cm // for the bottom flange\n",
"y2=t1+(t2/2) //cm // for the web\n",
"y3=t1+t2+(t3/2) //cm // for the top flange\n",
"y_c=((A1*y1)+(A2*y2)+(A3*y3))/(A1+A2+A3) // cm\n",
"// Results\n",
"clc\n",
"printf('The centroid of the cross-sectional area of a Z-section about x-axis is %f cm \n',x_c)\n",
"printf('The centroid of the cross-sectional area of a Z-section about y-axis is %f cm \n',y_c)"
   ]
   }
],
"metadata": {
		  "kernelspec": {
		   "display_name": "Scilab",
		   "language": "scilab",
		   "name": "scilab"
		  },
		  "language_info": {
		   "file_extension": ".sce",
		   "help_links": [
			{
			 "text": "MetaKernel Magics",
			 "url": "https://github.com/calysto/metakernel/blob/master/metakernel/magics/README.md"
			}
		   ],
		   "mimetype": "text/x-octave",
		   "name": "scilab",
		   "version": "0.7.1"
		  }
		 },
		 "nbformat": 4,
		 "nbformat_minor": 0
}
