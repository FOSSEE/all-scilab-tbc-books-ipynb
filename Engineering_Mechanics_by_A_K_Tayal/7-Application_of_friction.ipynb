{
"cells": [
 {
		   "cell_type": "markdown",
	   "metadata": {},
	   "source": [
       "# Chapter 7: Application of friction"
	   ]
	},
{
		   "cell_type": "markdown",
		   "metadata": {},
		   "source": [
			"## Example 7.10: Friction_in_a_square_threaded_screw.sce"
		   ]
		  },
  {
"cell_type": "code",
	   "execution_count": null,
	   "metadata": {
	    "collapsed": true
	   },
	   "outputs": [],
"source": [
"// Initilization of variables\n",
"p=0.0125 // m // pitch of screw\n",
"d=0.1 //m // diameter of the screw\n",
"r=0.05 //m // radius of the screw\n",
"l=0.5 //m // length of the lever\n",
"W=50 //kN // load on the lever\n",
"mu=0.20 // coefficient of friction \n",
"pie=3.14 //constant\n",
"// Calculations\n",
"theta=atand(p/(2*pie*r)) //degree // theta is the Helix angle\n",
"phi=atand(mu) // degree // phi is the angle of friction\n",
"// Taking the leverage due to handle into account,force F1 required is,\n",
"F1=(W*(tand(theta+phi)))*(r/l) //kN\n",
"// To lower the load\n",
"F2=(W*(tand(theta-phi)))*(r/l) //kN // -ve sign of F2 indicates force required is in opposite sense\n",
"E=(tand(theta)/tand(theta+phi))*100 // % // here E=eata=efficiency in %\n",
"// Results\n",
"clc\n",
"printf('The force required (i.e F1) to raise the weight is %f kN \n',F1)\n",
"printf('The force required (i.e F2) to lower the weight is %f kN \n',F2)\n",
"printf('The efficiency of the jack is %f percent \n',E)"
   ]
   }
,
{
		   "cell_type": "markdown",
		   "metadata": {},
		   "source": [
			"## Example 7.11: Application_of_Friction.sce"
		   ]
		  },
  {
"cell_type": "code",
	   "execution_count": null,
	   "metadata": {
	    "collapsed": true
	   },
	   "outputs": [],
"source": [
"// Initilization of variabes\n",
"P=20000 //N //Weight of the shaft\n",
"D=0.30 //m //diameter of the shaft\n",
"R=0.15 //m //radius of the shaft\n",
"mu=0.12 // coefficient of friction\n",
"// Calculations\n",
"// Friction torque T is given by formulae,\n",
"T=(2/3)*P*R*mu //N-m\n",
"M=T //N-m\n",
"// Results\n",
"clc\n",
"printf('The frictional torque is %f N-m \n',M)"
   ]
   }
,
{
		   "cell_type": "markdown",
		   "metadata": {},
		   "source": [
			"## Example 7.1: Application_of_Friction.sce"
		   ]
		  },
  {
"cell_type": "code",
	   "execution_count": null,
	   "metadata": {
	    "collapsed": true
	   },
	   "outputs": [],
"source": [
"// Initilization of variables\n",
"d1=24 // cm // diameter of larger pulley\n",
"d2=12 // cm // diameter of smaller pulley\n",
"d=30 //cm // seperation betweem 1st & the 2nd pulley\n",
"pie=3.14\n",
"// Calcuations\n",
"r1=d1/2 //cm // radius of 1st pulley\n",
"r2=d2/2 //cm // radius of 2nd pulley\n",
"theta=asind((r1-r2)/d) //degrees \n",
"// Angle of lap\n",
"beta_1=180+(2*theta) //degree // for larger pulley\n",
"beta_2=180-(2*theta) //degree //for smaller pulley\n",
"L=pie*(r1+r2)+(2*d)+((r1-r2)^2/d) //cm // Length of the belt\n",
"// Results\n",
"clc\n",
"printf('The angle of lap for the larger pulley is %f degree \n',beta_1)\n",
"printf('The angle of lap for the smaller pulley is %f degree \n',beta_2)\n",
"printf('The length of pulley required is %f cm \n',L)"
   ]
   }
,
{
		   "cell_type": "markdown",
		   "metadata": {},
		   "source": [
			"## Example 7.2: Application_of_Friction.sce"
		   ]
		  },
  {
"cell_type": "code",
	   "execution_count": null,
	   "metadata": {
	    "collapsed": true
	   },
	   "outputs": [],
"source": [
"// Initilization of variables\n",
"d1=0.6 //m // diameter of larger pulley\n",
"d2=0.3 //m // diameter of smaller pulley\n",
"d=3.5 //m // separation between the pulleys\n",
"pie=3.14\n",
"// Calculations\n",
"r1=d1/2 //m // radius of larger pulley\n",
"r2=d2/2 //m // radius of smaller pulley\n",
"theta=asind((r1+r2)/d) //degree\n",
"// Angle of lap for both the pulleys is same, i.e\n",
"beta=180+(2*theta) // degree\n",
"L=((pie*(r1+r2))+(2*d)+((r1-r2)^2/d)) //cm // Length of the belt\n",
"// Results\n",
"clc\n",
"printf('The angle of lap for the pulley is %f degree \n',beta)\n",
"printf('The length of pulley required is %f m \n',L)"
   ]
   }
,
{
		   "cell_type": "markdown",
		   "metadata": {},
		   "source": [
			"## Example 7.4: Belt_frictio.sce"
		   ]
		  },
  {
"cell_type": "code",
	   "execution_count": null,
	   "metadata": {
	    "collapsed": true
	   },
	   "outputs": [],
"source": [
"// Initilization of variables\n",
"W1=1000 //N\n",
"mu=0.25 //coefficient of friction\n",
"pie=3.14\n",
"beta=pie\n",
"T1=W1 // Tension in the 1st belt carrying W1\n",
"e=2.718 //constant\n",
"// Calculations\n",
"T2=T1/(e^(mu*beta)) //N // Tension in the 2nd belt\n",
"W2=T2 //N\n",
"// Results\n",
"clc\n",
"printf('The minimum weight W2 to keep W1 in equilibrium is %f N \n',W2)"
   ]
   }
,
{
		   "cell_type": "markdown",
		   "metadata": {},
		   "source": [
			"## Example 7.5: Belt_frictio.sce"
		   ]
		  },
  {
"cell_type": "code",
	   "execution_count": null,
	   "metadata": {
	    "collapsed": true
	   },
	   "outputs": [],
"source": [
"// Initilization of variables\n",
"mu=0.5 // coefficient of friction between the belt and the wheel\n",
"W=100 //N\n",
"theta=45 //degree\n",
"e=2.718\n",
"Lac=0.75 //m // ength of the lever\n",
"Lab=0.25 //m\n",
"Lbc=0.50 //m\n",
"r=0.25 //m\n",
"pie=3.14 // constant\n",
"// Calculations\n",
"beta=((180+theta)*pie)/180 // radian // angle of lap\n",
"// from eq'n 2\n",
"T1=(W*Lbc)/Lab //N \n",
"T2=T1/(e^(mu*beta)) //N // from eq'n 1\n",
"// consider the F.B.D of the pulley and take moment about its center, we get Braking Moment (M)\n",
"M=r*(T1-T2) //N-m\n",
"// Results\n",
"clc\n",
"printf('The braking moment (M) exerted by the vertical weight W is %f N-m \n',M)"
   ]
   }
,
{
		   "cell_type": "markdown",
		   "metadata": {},
		   "source": [
			"## Example 7.6: belt_frictio.sce"
		   ]
		  },
  {
"cell_type": "code",
	   "execution_count": null,
	   "metadata": {
	    "collapsed": true
	   },
	   "outputs": [],
"source": [
"// Initiization of variables\n",
"W= 1000 //N // or 1kN\n",
"mu=0.3 // coefficient of friction between the rope and the cylinder\n",
"e=2.718 // constant\n",
"pie=3.14 // constant\n",
"alpha=90 // degree // since 2*alpha=180 egree\n",
"// Calculations\n",
"beta=2*pie*3 // radian // for 3 turn of the rope\n",
"// Here T1 is the larger tension in that section of the rope which is about to slip\n",
"T1=W //N\n",
"F=W/e^(mu*(1/(sind(alpha)))*(beta)) //N // Here T2=F\n",
"// Results\n",
"clc\n",
"printf('The  force required to suport the weight of 1000 N i.e 1kN is %f N \n',F)"
   ]
   }
,
{
		   "cell_type": "markdown",
		   "metadata": {},
		   "source": [
			"## Example 7.7: belt_frictio.sce"
		   ]
		  },
  {
"cell_type": "code",
	   "execution_count": null,
	   "metadata": {
	    "collapsed": true
	   },
	   "outputs": [],
"source": [
"// Initilization of variables\n",
"Pw=50 //kW\n",
"T_max=1500 //N\n",
"v=10 // m/s // velocity of rope\n",
"w=4 // N/m // weight of rope\n",
"mu=0.2 // coefficient of friction \n",
"g=9.81 // m/s^2 // acceleration due to gravity\n",
"e=2.718 // constant\n",
"pie=3.14 // constant\n",
"alpha=30 // degree // since 2*alpha=60 \n",
"// Calcuations\n",
"beta=pie // radian // angle of lap\n",
"T_e=(w*v^2)/g // N // where T_e is the centrifugal tension\n",
"T1=(T_max)-(T_e) //N\n",
"T2=T1/(e^(mu*(1/sind(alpha))*(beta))) //N // From eq'n T1/T2=e^(mu*cosec(alpha)*beta)\n",
"P=(T1-T2)*v*(10^-3) //kW // power transmitted by a single rope\n",
"N=Pw/P // Number of ropes required\n",
"// Results\n",
"clc\n",
"printf('The number of ropes required to transmit 50 kW is %f Nos \n',N)\n",
"// approx no of ropes is 5"
   ]
   }
,
{
		   "cell_type": "markdown",
		   "metadata": {},
		   "source": [
			"## Example 7.8: belt_frictio.sce"
		   ]
		  },
  {
"cell_type": "code",
	   "execution_count": null,
	   "metadata": {
	    "collapsed": true
	   },
	   "outputs": [],
"source": [
"// Initilization of variables\n",
"d1=0.45 //m // diameter of larger pulley\n",
"d2=0.20 //m // diameter of smaller pulley\n",
"d=1.95 //m // separation between the pulley's\n",
"T_max=1000 //N // or 1kN which is the maximum permissible tension\n",
"mu=0.20 // coefficient of friction\n",
"N=100 // r.p.m // speed of larger pulley\n",
"e=2.718 // constant\n",
"pie=3.14 // constant\n",
"T_e=0 //N // as the data for calculating T_e is not given we assume T_e=0\n",
"// Calculations\n",
"r1=d1/2 //m // radius of larger pulley\n",
"r2=d2/2 //m // radius of smaller pulley\n",
"theta=asind((r1+r2)/d) // degree\n",
"// for cross drive the angle of lap for both the pulleys is same\n",
"beta=((180+(2*(theta)))*pie)/180 //radian\n",
"T1=T_max-T_e //N\n",
"T2=T1/(e^(mu*(beta))) //N // from formulae, T1/T2=e^(mu*beta)\n",
"v=((2*pie)*N*r1)/60 // m/s // where v=velocity of belt which is given as, v=wr=2*pie*N*r/60\n",
"P=(T1-T2)*v*(10^-3) //kW // Power\n",
"// Results\n",
"clc\n",
"printf('The power transmitted by the cross belt drive is %f kW \n',P)\n",
"// the approx answer is 1.3 kW The answer given in the book (i.e 1.81kW) is wrong."
   ]
   }
,
{
		   "cell_type": "markdown",
		   "metadata": {},
		   "source": [
			"## Example 7.9: belt_frictio.sce"
		   ]
		  },
  {
"cell_type": "code",
	   "execution_count": null,
	   "metadata": {
	    "collapsed": true
	   },
	   "outputs": [],
"source": [
"// Initilization of variabes\n",
"b=0.1 //m //width of the belt\n",
"t=0.008 //m //thickness of the belt\n",
"v=26.67 // m/s // belt speed\n",
"pie=3.14 // constant\n",
"beta=165 // radian // angle of lap for the smaller belt\n",
"mu=0.3 // coefficient of friction\n",
"sigma_max=2 // MN/m^2 // maximum permissible stress in the belt\n",
"m=0.9 // kg/m // mass of the belt\n",
"g=9.81 // m/s^2\n",
"e=2.718 // constant\n",
"// Calculations\n",
"A=b*t // m^2 // cross-sectional area of the belt\n",
"T_e=m*v^2 // N // where T_e is the Centrifugal tension\n",
"T_max=(sigma_max)*(A)*(10^6) // N // maximum tension in the belt\n",
"T1=(T_max)-(T_e) // N \n",
"T2=T1/(e^((mu*pie*beta)/180)) //N // from formulae T1/T2=e^(mu*beta)\n",
"P=(T1-T2)*v*(10^-3) //kW // Power transmitted\n",
"T_o=(T1+T2)/2 // N // Initial tension\n",
"// Now calculations to transmit maximum power\n",
"Te=T_max/3 // N // max tension\n",
"u=sqrt(T_max/(3*m)) // m/s // belt speed for max power\n",
"T_1=T_max-Te // N // T1 for case 2\n",
"T_2=T_1/(e^((mu*pie*beta)/180)) // N \n",
"P_max=(T_1-T_2)*u*(10^-3) // kW // Max power transmitted\n",
"// Results\n",
"clc\n",
"printf('The initial power transmitted is %f kW \n',P)\n",
"printf('The initial tension in the belt is %f N \n',T_o)\n",
"printf('The maximum power that can be transmitted is %f kW \n',P_max)\n",
"printf('The maximum power is transmitted at a belt speed of %f m/s \n',u)\n",
""
   ]
   }
],
"metadata": {
		  "kernelspec": {
		   "display_name": "Scilab",
		   "language": "scilab",
		   "name": "scilab"
		  },
		  "language_info": {
		   "file_extension": ".sce",
		   "help_links": [
			{
			 "text": "MetaKernel Magics",
			 "url": "https://github.com/calysto/metakernel/blob/master/metakernel/magics/README.md"
			}
		   ],
		   "mimetype": "text/x-octave",
		   "name": "scilab",
		   "version": "0.7.1"
		  }
		 },
		 "nbformat": 4,
		 "nbformat_minor": 0
}
