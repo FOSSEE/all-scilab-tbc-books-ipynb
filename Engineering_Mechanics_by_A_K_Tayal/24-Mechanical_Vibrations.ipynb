{
"cells": [
 {
		   "cell_type": "markdown",
	   "metadata": {},
	   "source": [
       "# Chapter 24: Mechanical Vibrations"
	   ]
	},
{
		   "cell_type": "markdown",
		   "metadata": {},
		   "source": [
			"## Example 24.10: Pendulum_Motion.sce"
		   ]
		  },
  {
"cell_type": "code",
	   "execution_count": null,
	   "metadata": {
	    "collapsed": true
	   },
	   "outputs": [],
"source": [
"// Initilization of variables\n",
"l=1 // m // length of the simple pendulum\n",
"g=9.81 // m/s^2\n",
"// Calculations\n",
"// Let t_s be the time period when the elevator is stationary\n",
"t_s=2*%pi*sqrt(l/g) /// seconds\n",
"// Let t_u be the time period when the elevator moves upwards. Then from eqn 1\n",
"t_u=2*%pi*sqrt((l)/(g+(g/10))) // seconds\n",
"// Let t_d be the time period when the elevator moves downwards.\n",
"t_d=2*%pi*sqrt(l/(g-(g/10))) // seconds\n",
"// Results\n",
"clc\n",
"printf('The time period of oscillation of the pendulum for upward acc of the elevator is %f seconds \n',t_u)\n",
"printf('The time period of oscillation of the pendulum for downward acc of the elevator is %f seconds \n',t_d)"
   ]
   }
,
{
		   "cell_type": "markdown",
		   "metadata": {},
		   "source": [
			"## Example 24.11: Pendulum_Motion.sce"
		   ]
		  },
  {
"cell_type": "code",
	   "execution_count": null,
	   "metadata": {
	    "collapsed": true
	   },
	   "outputs": [],
"source": [
"// Initilization of variables\n",
"t=1 // second // time period of the simple pendulum\n",
"g=9.81 // m/s^2\n",
"// Calculations\n",
"// Length of pendulum is given as,\n",
"l=(t/(2*%pi)^2)*g // m\n",
"// Let t_u be the time period when the elevator moves upwards. Then the time period is given as,\n",
"t_u=2*%pi*sqrt((l)/(g+(g/10))) // seconds\n",
"// Let t_d be the time period when the elevator moves downwards.\n",
"t_d=2*%pi*sqrt(l/(g-(g/10))) // seconds\n",
"// Results\n",
"clc\n",
"printf('The time period of oscillation of the pendulum for upward acc of the elevator is %f seconds \n',t_u)\n",
"printf('The time period of oscillation of the pendulum for downward acc of the elevator is %f seconds \n',t_d)"
   ]
   }
,
{
		   "cell_type": "markdown",
		   "metadata": {},
		   "source": [
			"## Example 24.12: Pendulum_Motion.sce"
		   ]
		  },
  {
"cell_type": "code",
	   "execution_count": null,
	   "metadata": {
	    "collapsed": true
	   },
	   "outputs": [],
"source": [
"// Initilization of variables\n",
"m=15 // kg // mass of the disc\n",
"D=0.3 // m // diameter of the disc\n",
"R=0.15 // m // radius\n",
"l=1 // m // length of the shaft\n",
"d=0.01 // m // diameter of the shaft\n",
"G=30*10^9 // N-m^2 // modulus of rigidity\n",
"// Calculations\n",
"// M.I of the disc about the axis of rotation is given as,\n",
"I=(m*R^2)/2 // kg-m^2\n",
"// Stiffness of the shaft\n",
"k_t=(%pi*d^4*G)/(32*l) // N-m/radian\n",
"t=2*%pi*sqrt(I/k_t) // seconds\n",
"// Results\n",
"clc\n",
"printf('The time period of oscillations of the disc is %f seconds \n',t)"
   ]
   }
,
{
		   "cell_type": "markdown",
		   "metadata": {},
		   "source": [
			"## Example 24.1: Simple_Harmonic_Motion.sce"
		   ]
		  },
  {
"cell_type": "code",
	   "execution_count": null,
	   "metadata": {
	    "collapsed": true
	   },
	   "outputs": [],
"source": [
"// Initilization of variables\n",
"f=1/6 // oscillations/second\n",
"x=8 // cm // distance from the mean position\n",
"// Calculations\n",
"omega=2*%pi*f\n",
"// Amplitude is given by eq'n \n",
"r=sqrt((25*x^2)/16) // cm\n",
"// Maximum acceleration is given as,\n",
"a_max=(%pi/3)^2*10 // cm/s^2\n",
"// Velocity when it is at a dist of 5 cm (assume s=5 cm) is given by\n",
"s=5 // cm\n",
"v=omega*sqrt(r^2-s^2) // cm/s\n",
"// Results\n",
"clc\n",
"printf('(a) The amplitude of oscillation is %f cm \n',r)\n",
"printf('(b) The maximum acceleration is %f cm/s^2 \n',a_max)\n",
"printf('(c) The velocity of the particle at 5 cm from mean position  is %f cm/s \n',v)"
   ]
   }
,
{
		   "cell_type": "markdown",
		   "metadata": {},
		   "source": [
			"## Example 24.2: Simple_Harmonic_Motion.sce"
		   ]
		  },
  {
"cell_type": "code",
	   "execution_count": null,
	   "metadata": {
	    "collapsed": true
	   },
	   "outputs": [],
"source": [
"// Initilization of variables\n",
"x_1=0.1 // m // assume the distance of the particle from mean position as (x_1 & x_2)\n",
"x_2=0.2// m \n",
"// assume velocities as v_1 & v_2\n",
"v_1=1.2 // m/s\n",
"v_2=0.8 // m/s\n",
"// Calculations\n",
"// The amplitude of oscillations is given by dividing eq'n 1 by 2 as,\n",
"r=sqrt(0.32/5) // m\n",
"omega=v_1/(sqrt(r^2-x_1^2)) // radians/second\n",
"t=(2*%pi)/omega // seconds\n",
"v_max=r*omega // m/s\n",
"// let the max acceleration be a which is given as,\n",
"a=r*omega^2 // m/s^2 \n",
"// Results\n",
"clc\n",
"printf('(a) The amplitude of oscillations is %f m \n',r)\n",
"printf('(b) The time period of oscillations is %f seconds \n',t)\n",
"printf('(c) The maximum velocity is %f m/s \n',v_max)\n",
"printf('(d) The maximum acceleration is %f m/s^2 \n',a) // the value of max acc is incorrect in the textbook\n",
"// NOTE: the value of t is incorrect in the text book\n",
"// The values may differ slightly due to decimal point accuracy"
   ]
   }
,
{
		   "cell_type": "markdown",
		   "metadata": {},
		   "source": [
			"## Example 24.5: Equivalent_spring_constant.sce"
		   ]
		  },
  {
"cell_type": "code",
	   "execution_count": null,
	   "metadata": {
	    "collapsed": true
	   },
	   "outputs": [],
"source": [
"// Initilization of variabes\n",
"W=50 // N // weight\n",
"x_0=0.075 // m // amplitude\n",
"f=1 // oscillation/sec // frequency\n",
"g=9.81 \n",
"// Calculations\n",
"omega=2*%pi*f\n",
"K=(((2*%pi)^2*W)/g)*(10^-2) // N/cm\n",
"// let the total extension of the string be delta which is given as,\n",
"delta=(W/K)+(x_0*10^2) // cm\n",
"T=K*delta // N // Max Tension\n",
"v=omega*x_0 //m/s // max velocity\n",
"// Results\n",
"clc\n",
"printf('(a) The stiffness of the spring is %f N/cm \n',K)\n",
"printf('(b) The maximum Tension in the spring is %f N \n',T)\n",
"printf('(c) The maximum velocity is %f m/s \n',v)"
   ]
   }
],
"metadata": {
		  "kernelspec": {
		   "display_name": "Scilab",
		   "language": "scilab",
		   "name": "scilab"
		  },
		  "language_info": {
		   "file_extension": ".sce",
		   "help_links": [
			{
			 "text": "MetaKernel Magics",
			 "url": "https://github.com/calysto/metakernel/blob/master/metakernel/magics/README.md"
			}
		   ],
		   "mimetype": "text/x-octave",
		   "name": "scilab",
		   "version": "0.7.1"
		  }
		 },
		 "nbformat": 4,
		 "nbformat_minor": 0
}
