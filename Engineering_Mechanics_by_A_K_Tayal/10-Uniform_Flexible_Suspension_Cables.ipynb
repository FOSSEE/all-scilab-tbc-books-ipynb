{
"cells": [
 {
		   "cell_type": "markdown",
	   "metadata": {},
	   "source": [
       "# Chapter 10: Uniform Flexible Suspension Cables"
	   ]
	},
{
		   "cell_type": "markdown",
		   "metadata": {},
		   "source": [
			"## Example 10.1: Cable_subjected_to_concentrated_loads.sce"
		   ]
		  },
  {
"cell_type": "code",
	   "execution_count": null,
	   "metadata": {
	    "collapsed": true
	   },
	   "outputs": [],
"source": [
"// Initilization of variables\n",
"W1=400 // N // vertical load at pt C\n",
"W2=600 // N // vertical load at pt D\n",
"W3=400 // N // vertical load at pt E\n",
"l=2 // m // l= Lac=Lcd=Lde=Leb\n",
"h=2.25 // m // distance of the cable from top\n",
"L=2 // m // dist of A from top\n",
"// Calculations\n",
"// Solving eqn's 1&2 using MATRIX for Xb & Yb\n",
"A=[-L 4*l;-h 2*l]\n",
"B=[((W1*l)+(W2*2*l)+(W1*3*l));(W1*l)]\n",
"C=inv(A)*B\n",
"// Now consider the F.B.D of BE, Take moment at E\n",
"y_e=(C(2)*l)/C(1) // m / here y_e is the distance between E and the top\n",
"theta_1=atand(y_e/l) // degree // where theta_1 is the angle between BE and the horizontal\n",
"T_BE=C(1)/cosd(theta_1) // N (T_BE=T_max)\n",
"// Now consider the F.B.D of portion BEDC\n",
"// Take moment at C\n",
"y_c=((C(2)*6)-(W3*4)-(W2*2))/(C(1)) // m\n",
"theta_4=atand(((y_c)-(l))/(l)) // degree\n",
"T_CA=C(1)/cosd(theta_4) // N // Tension in CA\n",
"// Results\n",
"clc\n",
"printf('(i) The horizontal reaction at B (Xb) is %f N \n',C(1))\n",
"printf('(i) The vertical reaction at B (Yb) is %f N \n',C(2))\n",
"printf('(ii) The sag at point E (y_e) is %f m \n',y_e)\n",
"printf('(iii) The tension in portion CA (T_CA) is %f N \n',T_CA)\n",
"printf('(iv) The max tension in the cable (T_max) is %f N \n',T_BE)\n",
"printf('(iv) The max slope (theta_1) in the cable is %f degree \n',theta_1)"
   ]
   }
,
{
		   "cell_type": "markdown",
		   "metadata": {},
		   "source": [
			"## Example 10.2: Cables_subjected_to_concentrated_loads.sce"
		   ]
		  },
  {
"cell_type": "code",
	   "execution_count": null,
	   "metadata": {
	    "collapsed": true
	   },
	   "outputs": [],
"source": [
"// Initiization of variables\n",
"W1=100 // N // Pt load at C\n",
"W2=150 // N // Pt load at D\n",
"W3=200 // N // Pt load at E\n",
"l=1 // m // l=Lac=Lcd=Lde=Leb\n",
"h=2 // m // dist between Rb & top\n",
"Xa=200 // N\n",
"Xb=200 // N\n",
"// Calculations\n",
"// consider the F.B.D of entire cable\n",
"// Take moment at A\n",
"Yb=((W1*l)+(W2*2*l)+(W3*3*l)-(Xb*h))/(4*l) // N\n",
"Ya=W1+W2+W3-Yb // N // sum Fy=0\n",
"// Now consider the F.B.D of AC\n",
"// Take moment at C,\n",
"y_c=(Ya*l)/Xa // m\n",
"theta_1=atand(y_c/l) // degree\n",
"T_AC=Xa/cosd(theta_1) // N // T_AC*cosd(theta_1)=horizontal component of tension in the cable\n",
"// here, T_AC=T_max\n",
"T_max=T_AC // N\n",
"// Now consider the F.B.D of portion ACD\n",
"y_d=((Ya*2*l)-(W1*l))/(Xa) // m // taking moment at D\n",
"theta_2=atand(((y_d)-(y_c))/(l)) // degree\n",
"T_CD=Xa/(cosd(theta_2)) // N \n",
"// Results\n",
"clc\n",
"printf('(i) The component of support reaction at A (Ya) is %f N \n',Ya)\n",
"printf('(i) The component of support reaction at B (Yb) is %f N  \n',Yb)\n",
"printf('(ii) The tension in portion AC (T_AC) of the cable is %f N \n',T_AC)\n",
"printf('(ii) The tension in portion CD (T_CD) of the cable is %f N \n',T_CD)\n",
"printf('(iii) The max tension in the cable is %f N \n',T_max)"
   ]
   }
,
{
		   "cell_type": "markdown",
		   "metadata": {},
		   "source": [
			"## Example 10.3: Cables_uniformly_loaded_per_unit_horizontal_distance.sce"
		   ]
		  },
  {
"cell_type": "code",
	   "execution_count": null,
	   "metadata": {
	    "collapsed": true
	   },
	   "outputs": [],
"source": [
"// Initilization of variables\n",
"w=75 // kg/m // mass per unit length of thw pipe\n",
"l=20 // m // dist between A &  B\n",
"g=9.81 // m/s^2 // acc due to gravity\n",
"y=2 // m // position of C below B\n",
"// Calculations\n",
"// Let x_b be the distance of point C from B \n",
"// In eq'n x_b^2+32*x_b-320=0\n",
"a=1\n",
"b=32\n",
"c=-320\n",
"x_b=(-b+sqrt(b^2-(4*a*c)))/(2*a) // m // we get x_b by equating eqn's 1&2\n",
"// Now tension T_0\n",
"T_0=((w*g*x_b^2)/(2*y))*(10^-3) //kN // from eq'n 1\n",
"// Now the max tension occurs at point A,hence x is given as,\n",
"x=20-x_b // m\n",
"w_x=w*g*x*10^(-3) // kN \n",
"T_max=sqrt((T_0)^2+(w_x)^2) // kN // Maximum Tension\n",
"// Results\n",
"clc\n",
"printf('The lowest point C which is situated at a distance (x_b) from support B is %f m \n',x_b)\n",
"printf('The maximum tension (T_max) in the cable is %f kN \n',T_max)\n",
"printf('The minimum tension (T_0) in the cable is %f kN \n',T_0)"
   ]
   }
,
{
		   "cell_type": "markdown",
		   "metadata": {},
		   "source": [
			"## Example 10.4: Cables_uniformly_loaded_per_unit_horizontal_distance.sce"
		   ]
		  },
  {
"cell_type": "code",
	   "execution_count": null,
	   "metadata": {
	    "collapsed": true
	   },
	   "outputs": [],
"source": [
"// Initilization of variables\n",
"m=0.5 // kg/m // mass of the cable per unit length\n",
"g=9.81 // m/s^2\n",
"x=30 // m // length AB\n",
"y=0.5 // m // dist between C & the horizontal\n",
"x_b=15 // m // dist of horizontal from C to B\n",
"// Calculations\n",
"w=m*g // N/m // weight of the cable per unit length\n",
"T_0=(w*x_b^2)/(2*y) // N // From eq'n 1\n",
"T_B=sqrt((T_0)^2+(w*x/2)^2) // N // Tension in the cable at point B\n",
"W=T_B // N // As pulley is frictionless the tension in the pulley on each side is same,so W=T_B\n",
"// Slope of the cable at B,\n",
"theta=acosd(T_0/T_B) // degree\n",
"// Now length of the cable between C & B is,\n",
"S_cb=x_b(1+((2/3)*(y/x_b)^2)) // m\n",
"// Now total length of the cable AB is,\n",
"S_ab=2*S_cb // m \n",
"// Results\n",
"clc\n",
"printf('(i) The magnitude of load W is %f N \n',W)\n",
"printf('(ii) The angle of the cable with the horizontal at B is %f degree \n',theta)\n",
"printf('(iii) The total length of the cable AB is %f m \n',S_ab)"
   ]
   }
,
{
		   "cell_type": "markdown",
		   "metadata": {},
		   "source": [
			"## Example 10.5: Cables_uniformly_loaded_per_unit_horizontal_distance.sce"
		   ]
		  },
  {
"cell_type": "code",
	   "execution_count": null,
	   "metadata": {
	    "collapsed": true
	   },
	   "outputs": [],
"source": [
"// Initilization of variables\n",
"x=30 // m // distance between two electric poles\n",
"Tmax=400 // N // Max Pull or tension\n",
"w=3 // N/m // weight per unit length of the cable\n",
"// Calculations\n",
"// The cable is assumed to be parabolic in shape, its eq'n is y=w*x^2/2*T_0.....(eq'n 1). Substuting the co-ordinates of point B (l/2,h), where h is the sag in the cable.This gives, T_0=(w*(l/2)^2)/(2*h)=wl^2/8*h\n",
"// Now the maximum pull or tension occurs at B,\n",
"T_B=Tmax // N \n",
"// Hence T_B=Tmax=sqrt(T_0^2+(w*l/2)^2). On simplyfyingthis eq'n we get, \n",
"h=sqrt(x^2/(16*(((Tmax*2)/(w*x))^2-(1)))) // m \n",
"// Results \n",
"clc\n",
"printf('The smallest value of the sag in the cable is %f m \n',h)"
   ]
   }
,
{
		   "cell_type": "markdown",
		   "metadata": {},
		   "source": [
			"## Example 10.6: Catenary_Cables.sce"
		   ]
		  },
  {
"cell_type": "code",
	   "execution_count": null,
	   "metadata": {
	    "collapsed": true
	   },
	   "outputs": [],
"source": [
"// Initilization of variables\n",
"l=200 // m // length of the cable\n",
"m=1000 // kg // mass of the cable\n",
"S=50 // m // sag in the cable\n",
"s=l/2 // m\n",
"g=9.81 // m/s^2\n",
"// Calculations\n",
"w=(m*g)/l // N/m // mass per unit length of the cable\n",
"// Substuting the values s=l/2 & y=c+S in eq'n 1 to get the value of c,\n",
"c=7500/100 // m \n",
"Tmax=sqrt((w*c)^2+(w*s)^2) // N // Maximum Tension\n",
"// To determine the span (2*x) let us use the eq'n of catenary, y=c*cosh(x/c), where y=c+50. On simplyfying we get y/c=cosh(x/c), here let y/c=A\n",
"y=c+50\n",
"A=y/c \n",
"x=c*(acosh(A)) // m \n",
"L=2*x // m // where L= span\n",
"// Results\n",
"clc\n",
"printf('The horizontal distance between the supports and the max Tension (L) is %f m \n',L)"
   ]
   }
],
"metadata": {
		  "kernelspec": {
		   "display_name": "Scilab",
		   "language": "scilab",
		   "name": "scilab"
		  },
		  "language_info": {
		   "file_extension": ".sce",
		   "help_links": [
			{
			 "text": "MetaKernel Magics",
			 "url": "https://github.com/calysto/metakernel/blob/master/metakernel/magics/README.md"
			}
		   ],
		   "mimetype": "text/x-octave",
		   "name": "scilab",
		   "version": "0.7.1"
		  }
		 },
		 "nbformat": 4,
		 "nbformat_minor": 0
}
