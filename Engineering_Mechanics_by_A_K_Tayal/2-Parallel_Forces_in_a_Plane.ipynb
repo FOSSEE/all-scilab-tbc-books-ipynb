{
"cells": [
 {
		   "cell_type": "markdown",
	   "metadata": {},
	   "source": [
       "# Chapter 2: Parallel Forces in a Plane"
	   ]
	},
{
		   "cell_type": "markdown",
		   "metadata": {},
		   "source": [
			"## Example 2.10: equilibrium_of_a_body_subjected_to_three_forces.sce"
		   ]
		  },
  {
"cell_type": "code",
	   "execution_count": null,
	   "metadata": {
	    "collapsed": true
	   },
	   "outputs": [],
"source": [
"//Initilization of variables\n",
"F3=500 //N\n",
"alpha=60 //degree //angle made by F3 with F2\n",
"beta=40 //degree //angle made by F1 with F3\n",
"theta=80 //degree //angle made by F1 with F2\n",
"//Calculations\n",
"// Solving by using law of sines\n",
"F1=(F3*sind(alpha)/sind(theta)) //N //by law of sines\n",
"F2=(F3*sind(beta)/sind(theta)) //N //by law of sines\n",
"//Resuts\n",
"clc\n",
"printf('The force F1 is %f N \n',F1)\n",
"printf('The force F2 is %f N \n',F2)"
   ]
   }
,
{
		   "cell_type": "markdown",
		   "metadata": {},
		   "source": [
			"## Example 2.11: reaction_at_the_hinge.sce"
		   ]
		  },
  {
"cell_type": "code",
	   "execution_count": null,
	   "metadata": {
	    "collapsed": true
	   },
	   "outputs": [],
"source": [
"//Initilization of variables\n",
"P=5000 //N\n",
"lAB=5 //m\n",
"lOB=1.443 // m\n",
"alpha=30 //degree //angle made by force P with the beam\n",
"//Calculations\n",
"theta=atand(lOB/lAB) // degree // eq'n 1\n",
"Xa=(P*cosd(alpha)) //N //using eq'n 4\n",
"Ya=Xa*tand(theta) //N // from eq'n 3 & 4\n",
"Rb=P*sind(alpha)-Ya // N  from eq'n 5// substuting value of Ya in eq'n 5\n",
"Ra=sqrt((Xa^2)+(Ya^2)) //N\n",
"//Results\n",
"clc\n",
"printf('The X component of reaction at A is %f N \n',Xa)\n",
"printf('The Y component of reaction at A is %f N \n',Ya)\n",
"printf('The reaction at support A is %f N \n',Ra)\n",
"printf('The reaction at support B is %f N \n',Rb)\n",
"// The decimal point error might cause a small discrepancy in the answers"
   ]
   }
,
{
		   "cell_type": "markdown",
		   "metadata": {},
		   "source": [
			"## Example 2.12: reaction_at_the_hinge.sce"
		   ]
		  },
  {
"cell_type": "code",
	   "execution_count": null,
	   "metadata": {
	    "collapsed": true
	   },
	   "outputs": [],
"source": [
"//Initilization of variables\n",
"W=1000 //N\n",
"OD=0.4 //m\n",
"AD=0.3 //m\n",
"AO=0.5 //m //AO=sqrt((0.4)^2+(0.3)^2)\n",
"//Calculations\n",
"Ra=W*AO/OD //N // The answer of Ra in the textbook is incorrect\n",
"Rc=W*AD/OD //N\n",
"alpha=atand(OD/AD) //degree\n",
"//Results\n",
"clc\n",
"printf('The reaction at support A is %f  N \n',Ra)\n",
"printf('The reaction at support B is %f N \n',Rc)\n",
"printf('The angle that Rc makes with horizontal %f degree \n',alpha)"
   ]
   }
,
{
		   "cell_type": "markdown",
		   "metadata": {},
		   "source": [
			"## Example 2.13: reaction_at_the_hinge.sce"
		   ]
		  },
  {
"cell_type": "code",
	   "execution_count": null,
	   "metadata": {
	    "collapsed": true
	   },
	   "outputs": [],
"source": [
"//Initilization of variables\n",
"W=2500 //N //This load acts at point B and C.\n",
"alpha=30 //degree // angle made by T1 with +ve y-axis & T2 with +ve x-axis\n",
"//Calculations\n",
"T2=W-(((cosd(alpha))^2/(sind(alpha)))-(sind(alpha))) // N // substuting eq'n 1 in 2\n",
"T1=(T2*cosd(30))/(sind(30)) //N // using eq'n 1\n",
"T3=T2 //N // By equilibrium eq'n at point C(sumFx=0)\n",
"//Results\n",
"clc\n",
"printf('Tension in portion AB is %f N \n',T1)\n",
"printf('Tension in portion BC is %f N \n',T2)\n",
"printf('Tension in portion CD is %f N \n',T3)"
   ]
   }
,
{
		   "cell_type": "markdown",
		   "metadata": {},
		   "source": [
			"## Example 2.15: equilibrium_of_a_body.sce"
		   ]
		  },
  {
"cell_type": "code",
	   "execution_count": null,
	   "metadata": {
	    "collapsed": true
	   },
	   "outputs": [],
"source": [
"//Initilization of variables\n",
"d=0.6 //m //diameter of the wheel\n",
"r=0.3 //m //radius of the wheel\n",
"W=1000 //N //weight of the wheel\n",
"h=0.15 //m //height of rectangular block\n",
"//Calculations\n",
"theta=atand((sqrt(h))/(sqrt(d-h)))\n",
"P=(W*tand(theta)) //N // dividing eq'n 1 & 2\n",
"//Resuts\n",
"clc\n",
"printf('The force P so that the wheel is just to roll over the block is %f N \n',P)"
   ]
   }
,
{
		   "cell_type": "markdown",
		   "metadata": {},
		   "source": [
			"## Example 2.16: Equilibrium_of_a_Body.sce"
		   ]
		  },
  {
"cell_type": "code",
	   "execution_count": null,
	   "metadata": {
	    "collapsed": true
	   },
	   "outputs": [],
"source": [
"//Initilization of variables\n",
"Soa=1000 //N (tension)\n",
"alpha=45 //degree //where alpha=(360/8)\n",
"theta=67.5 //degree //angle made by bar AO with AB &AH\n",
"//Calcultions\n",
"Sab=Soa*(sind(theta)/sind(alpha)) // N // Using law of sines\n",
"Sah=Sab //N\n",
"Sob=(Sab*sind(180-2*(theta)))/sind(theta) //N\n",
"//Results\n",
"clc\n",
"printf('The axial force in the bar AB is %f N \n',Sab) //Compression\n",
"printf('The axial force in the bar OB is %f N \n',Sob) //Tension"
   ]
   }
,
{
		   "cell_type": "markdown",
		   "metadata": {},
		   "source": [
			"## Example 2.17: Equilibrium_of_a_body.sce"
		   ]
		  },
  {
"cell_type": "code",
	   "execution_count": null,
	   "metadata": {
	    "collapsed": true
	   },
	   "outputs": [],
"source": [
"//Initilization of variables\n",
"W=500 //N //weight of cylinder\n",
"alpha=25 //degree //angle made by OA with horizontal\n",
"beta=65 //degree //angle made by OB with horizontal\n",
"theta=90 //degree // theta=(alpha+beta)\n",
"//Calculations\n",
"Ra=(W*sind(beta))/sind(theta) //N //from equilibrium eq'n\n",
"Rb=(W*sind(alpha))/sind(theta) //N //from equilibrium eqn's\n",
"//Results\n",
"clc\n",
"printf('The reaction at A is %f N \n',Ra)\n",
"printf('The reaction at B is %f N \n',Rb)"
   ]
   }
,
{
		   "cell_type": "markdown",
		   "metadata": {},
		   "source": [
			"## Example 2.18: Equilibrium_of_a_body.sce"
		   ]
		  },
  {
"cell_type": "code",
	   "execution_count": null,
	   "metadata": {
	    "collapsed": true
	   },
	   "outputs": [],
"source": [
"//Initilization of variables\n",
"Wa=1000 //N //weight of sphere A\n",
"Wb=400 //N //weight of sphere B\n",
"Ra=0.09 //m //radius of sphere A\n",
"Rb=0.05 //m //radius of sphere B\n",
"theta=33.86 //degree //angle made by Rq with Wb\n",
"alpha=60 //degree //angle made by Rl with horizontal\n",
"//Calculations\n",
"Rq=Wb/cosd(theta) //N //using sum Fy=0 for sphere B\n",
"Rp=Rq*sind(theta) //N //using sum Fx=0 for sphere B\n",
"Rl=(Rq*sind(theta))/sind(alpha) //N //using sum Fx=0 for sphere A\n",
"Rn=((Wa)+(Rq*cosd(theta))-(Rl*cosd(alpha))) //N\n",
"//Results\n",
"clc\n",
"printf('The reaction at point P is %f N \n',Rp)\n",
"printf('The reaction at point L is %f N \n',Rl)\n",
"printf('The reaction at point N is %f N \n',Rn)"
   ]
   }
,
{
		   "cell_type": "markdown",
		   "metadata": {},
		   "source": [
			"## Example 2.19: Equilibrium_of_a_body.sce"
		   ]
		  },
  {
"cell_type": "code",
	   "execution_count": null,
	   "metadata": {
	    "collapsed": true
	   },
	   "outputs": [],
"source": [
"//Initilization of variables\n",
"P=50 //N\n",
"Q=100 //N\n",
"alpha=30 //degree //angle made by Rq with +ve Y-axis\n",
"//Calculations\n",
"theta=atand((P*cotd(alpha)-Q*tand(alpha))/(P+Q)) //degree\n",
"T=Q/(cosd(theta)*cotd(alpha)-sind(theta)) //N\n",
"//Results\n",
"clc\n",
"printf('The tension in the string is %f N \n',T)\n",
"printf('The angle wich the string makes with the horizontal when the system is in equilibrium is %f N \n',theta)"
   ]
   }
,
{
		   "cell_type": "markdown",
		   "metadata": {},
		   "source": [
			"## Example 2.1: CFP.sce"
		   ]
		  },
  {
"cell_type": "code",
	   "execution_count": null,
	   "metadata": {
	    "collapsed": true
	   },
	   "outputs": [],
"source": [
"//Initilization of variables\n",
"P=50 //N\n",
"Q=100 //N\n",
"beta=150 //degree // angle between P & the horizontal\n",
"//Calculations\n",
"R=sqrt(P^2+Q^2-(2*P*Q*cosd(beta))) // using the Trignometric solution\n",
"Alpha=asind((sind(beta)*Q)/R)+15\n",
"//Result\n",
"clc\n",
"printf('The magnitude of resultant is %f Newton (N) \n',R)\n",
"printf('The direction of resultant is %f degree \n',Alpha)"
   ]
   }
,
{
		   "cell_type": "markdown",
		   "metadata": {},
		   "source": [
			"## Example 2.20: Equilibrium_of_a_body.sce"
		   ]
		  },
  {
"cell_type": "code",
	   "execution_count": null,
	   "metadata": {
	    "collapsed": true
	   },
	   "outputs": [],
"source": [
"//Initilization of variables\n",
"theta1=50.5 //degree //is the angle made between BC & and BE\n",
"theta2=36.87 //degree //is te angle ade between BA &BE \n",
"g=9.81 //m/s^2\n",
"Wa=15*g //N\n",
"Wb=40*g //N\n",
"Wc=20*g //N\n",
"//Calculations\n",
"R2=Wc/(sind(theta1)) //N //from F.B.D of cylinder C(sum Fy=0)\n",
"R4=(Wb+R2*sind(theta1))/sind(theta2) //N //from F.B.D of cylinder B(sum Fy=0)\n",
"R6=R4*cosd(theta2) //N //from F.B.D of cylinder A(sum Fx=0)\n",
"//Results\n",
"clc\n",
"printf('The reaction between the cylinder A and the wall of the channel is %f N \n',R6)"
   ]
   }
,
{
		   "cell_type": "markdown",
		   "metadata": {},
		   "source": [
			"## Example 2.21: Equilibrium_of_a_body.sce"
		   ]
		  },
  {
"cell_type": "code",
	   "execution_count": null,
	   "metadata": {
	    "collapsed": true
	   },
	   "outputs": [],
"source": [
"//Initilazation of variables\n",
"F=1000 //N\n",
"theta=30 //degree //angle made by the force with the beam AB\n",
"Lab=3 //m\n",
"Lae=2 //m\n",
"Lce=1 //m\n",
"//Calculations\n",
"Re=(F*Lab*sind(theta))/Lae //N //Taking moment at A\n",
"Rd=(Re*Lce)/(Lab*sind(theta)) //N //Taking moment about C\n",
"//Results\n",
"clc\n",
"printf('The reaction at D due to force of 1000 N acting at B is %f N \n',Rd)"
   ]
   }
,
{
		   "cell_type": "markdown",
		   "metadata": {},
		   "source": [
			"## Example 2.23: Equilibrium_of_a_body.sce"
		   ]
		  },
  {
"cell_type": "code",
	   "execution_count": null,
	   "metadata": {
	    "collapsed": true
	   },
	   "outputs": [],
"source": [
"//Initilization of variables\n",
"W=1000 //N\n",
"r=0.30 //m //radius of the wheel\n",
"h=0.15 //m //height of the obstacle\n",
"//Calculations\n",
"theta=asind(1) //degree //P is mini when sin(theta)=1 from eq'n of P\n",
"Pmini=(W*sqrt((2*r*h)-(h^2)))/(r*sind(theta)) //N\n",
"//Results\n",
"clc\n",
"printf('The least force required to just turn the wheel over the block is %f N \n',Pmini)\n",
"printf('The angle wich should be made by Pmini with AC is %f degree \n',theta)"
   ]
   }
,
{
		   "cell_type": "markdown",
		   "metadata": {},
		   "source": [
			"## Example 2.2: addition_of_concurrent_forces.sce"
		   ]
		  },
  {
"cell_type": "code",
	   "execution_count": null,
	   "metadata": {
	    "collapsed": true
	   },
	   "outputs": [],
"source": [
"//Initilization of variables\n",
"P=50 //N\n",
"Q=100 //N\n",
"beta=15 //degree // angle between P& the horizontal\n",
"theta=45 //degree // angle between the resultant (R) & the horizontal\n",
"//Calculations\n",
"Rx=P*cosd(beta)+Q*cosd(theta) //N\n",
"Ry=P*sind(beta)+Q*sind(theta) //N\n",
"R=sqrt((Rx^2)+(Ry^2)) //N\n",
"alpha=atand(Ry/Rx) //degree\n",
"//Results\n",
"clc\n",
"printf('The magnitude of the resultant is %f N \n',R)\n",
"printf('The ange of the resultant with x-axis is %f degree \n',alpha)"
   ]
   }
,
{
		   "cell_type": "markdown",
		   "metadata": {},
		   "source": [
			"## Example 2.4: Equilibrium_equations.sce"
		   ]
		  },
  {
"cell_type": "code",
	   "execution_count": null,
	   "metadata": {
	    "collapsed": true
	   },
	   "outputs": [],
"source": [
"//Initilization of variables\n",
"Tac=3.5 //kN\n",
"Tbc=3.5 //kN\n",
"alpha=20 //degree //angle made by Tac with -ve X axis\n",
"beta=50 //degree //angle made by Tbc with +ve X axis\n",
"//Calculations\n",
"theta=atand(((Tac*sind(alpha))+(Tbc*sind(beta)))/((Tac*cosd(alpha))-(Tbc*cosd(beta)))) //degree\n",
"P=Tac*(cosd(alpha)-cosd(beta))/(cosd(theta)) //kN // from eq'n 1\n",
"//Results\n",
"clc\n",
"printf('The maximum force that can be applied is %f kN \n',P)\n",
"printf('The direction of applied force is %f  degree \n',theta)"
   ]
   }
,
{
		   "cell_type": "markdown",
		   "metadata": {},
		   "source": [
			"## Example 2.8: equilibrium_of_a_body_subjected_to_two_forces.sce"
		   ]
		  },
  {
"cell_type": "code",
	   "execution_count": null,
	   "metadata": {
	    "collapsed": true
	   },
	   "outputs": [],
"source": [
"//Initilization of variables\n",
"lAB=0.4 //m\n",
"lBC=0.3 //m\n",
"//Calculations\n",
"alpha=atand(lAB/lBC) //degree\n",
"//Results\n",
"clc\n",
"printf('The angle wich the force should make with the horizontal to keep the edge AB of the body vertical %f degree \n',alpha) //here alpha=theta"
   ]
   }
,
{
		   "cell_type": "markdown",
		   "metadata": {},
		   "source": [
			"## Example 2.9: equilibrium_of_a_body_subjected_to_three_forces.sce"
		   ]
		  },
  {
"cell_type": "code",
	   "execution_count": null,
	   "metadata": {
	    "collapsed": true
	   },
	   "outputs": [],
"source": [
"//Initilization of variables\n",
"F=1000 //N\n",
"lAB=0.5 //m\n",
"lDC=0.25 //m //length of the perpendicular drawn from point C to AB\n",
"//Calculations\n",
"lAC=sqrt((0.3)^2+(0.25)^2) //m\n",
"lBC=sqrt((0.20)^2+(0.25)^2) //m\n",
"Sac=(lAC*F)/(lAB) //N //by law of concurrent forces\n",
"Sbc=(lBC*F)/(lAB) //N //by law of concurrent forces\n",
"//Results\n",
"clc\n",
"printf('The axial force in the bar AC(by aw of concurrent forces) is %f N \n',Sac)\n",
"printf('The axial force in the bar BC(by aw of concurrent forces) is %f N \n',Sbc)"
   ]
   }
],
"metadata": {
		  "kernelspec": {
		   "display_name": "Scilab",
		   "language": "scilab",
		   "name": "scilab"
		  },
		  "language_info": {
		   "file_extension": ".sce",
		   "help_links": [
			{
			 "text": "MetaKernel Magics",
			 "url": "https://github.com/calysto/metakernel/blob/master/metakernel/magics/README.md"
			}
		   ],
		   "mimetype": "text/x-octave",
		   "name": "scilab",
		   "version": "0.7.1"
		  }
		 },
		 "nbformat": 4,
		 "nbformat_minor": 0
}
