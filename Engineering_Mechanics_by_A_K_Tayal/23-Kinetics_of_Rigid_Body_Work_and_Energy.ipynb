{
"cells": [
 {
		   "cell_type": "markdown",
	   "metadata": {},
	   "source": [
       "# Chapter 23: Kinetics of Rigid Body Work and Energy"
	   ]
	},
{
		   "cell_type": "markdown",
		   "metadata": {},
		   "source": [
			"## Example 23.2: Principle_of_work_and_energy_for_a_rigid_body.sce"
		   ]
		  },
  {
"cell_type": "code",
	   "execution_count": null,
	   "metadata": {
	    "collapsed": true
	   },
	   "outputs": [],
"source": [
"// Initilization of variables\n",
"m=600 // kg // mass of the roller\n",
"r=0.25 // m // radius of the roller\n",
"P=850 // N // Force\n",
"v=3 // m/s // velocity to be acquired\n",
"theta=30 // degree // angle made by v with the force P\n",
"// Calculations\n",
"// The distance required to be rolled is given by equating the Work done between positions 1 & 2 as,\n",
"x=((3/4)*m*v^2)/(P*cosd(theta)) // m\n",
"// Results\n",
"clc\n",
"printf('The distance required to be rolled is %f m \n',x)"
   ]
   }
],
"metadata": {
		  "kernelspec": {
		   "display_name": "Scilab",
		   "language": "scilab",
		   "name": "scilab"
		  },
		  "language_info": {
		   "file_extension": ".sce",
		   "help_links": [
			{
			 "text": "MetaKernel Magics",
			 "url": "https://github.com/calysto/metakernel/blob/master/metakernel/magics/README.md"
			}
		   ],
		   "mimetype": "text/x-octave",
		   "name": "scilab",
		   "version": "0.7.1"
		  }
		 },
		 "nbformat": 4,
		 "nbformat_minor": 0
}
