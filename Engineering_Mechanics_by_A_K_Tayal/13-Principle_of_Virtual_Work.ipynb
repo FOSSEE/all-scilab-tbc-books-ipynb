{
"cells": [
 {
		   "cell_type": "markdown",
	   "metadata": {},
	   "source": [
       "# Chapter 13: Principle of Virtual Work"
	   ]
	},
{
		   "cell_type": "markdown",
		   "metadata": {},
		   "source": [
			"## Example 13.1: Application_of_Principle_of_Virtual_Work.sce"
		   ]
		  },
  {
"cell_type": "code",
	   "execution_count": null,
	   "metadata": {
	    "collapsed": true
	   },
	   "outputs": [],
"source": [
"// Initilization of variables\n",
"W=1000 // N // weight to be raised\n",
"// Calculations\n",
"// From the Principle of virtual work,\n",
"P=W/2 // N\n",
"// Results\n",
"clc\n",
"printf('The value of force (i.e P) that can hold the system in equilibrium is %f N \n',P)"
   ]
   }
,
{
		   "cell_type": "markdown",
		   "metadata": {},
		   "source": [
			"## Example 13.7: Application_of_Principle_of_Virtual_Work.sce"
		   ]
		  },
  {
"cell_type": "code",
	   "execution_count": null,
	   "metadata": {
	    "collapsed": true
	   },
	   "outputs": [],
"source": [
"// Initilization of variables\n",
"P=1000 // N // Force acting at the hinge of the 1st square\n",
"Q=1000 // N // Force acting at the hinge of the 2nd square\n",
"// Calculations\n",
"// Chosing the co-ordinate system with originat A, we can write,\n",
"theta=45 // degree\n",
"// Forces that do work are P,Q & X_B. Applying the principle of virtual work & Simplyfying and solving for X_B,\n",
"X_B=((2*P)/6)*(cosd(theta)/sind(theta)) // N \n",
"// Now give a virtual angular displacement to the whole frame about end A such that line AB turns by an angle delta_phi.\n",
"// The force doing work are P,Q&Y_B.Applying the principle of virtual work & Simplyfying this eq'n and solving for Y_B,\n",
"Y_B=((3*Q)+P)/6 // N\n",
"// Simply by removing the support at A & replacing it by the reactions X_A & Y_A we can obtain,\n",
"X_A=X_B // N\n",
"Y_A=P+Q-Y_B // N\n",
"// Results\n",
"clc\n",
"printf('The Horizontal component of reaction at A (X_A) is %f N \n',X_A)\n",
"printf('The Vertical component of reaction at A (Y_A) is %f N \n',Y_A)\n",
"printf('The Horizontal component of reaction at B (X_B) is %f N \n',X_B)\n",
"printf('The Vertical component of reaction at B (Y_B) is %f N \n',Y_B)"
   ]
   }
],
"metadata": {
		  "kernelspec": {
		   "display_name": "Scilab",
		   "language": "scilab",
		   "name": "scilab"
		  },
		  "language_info": {
		   "file_extension": ".sce",
		   "help_links": [
			{
			 "text": "MetaKernel Magics",
			 "url": "https://github.com/calysto/metakernel/blob/master/metakernel/magics/README.md"
			}
		   ],
		   "mimetype": "text/x-octave",
		   "name": "scilab",
		   "version": "0.7.1"
		  }
		 },
		 "nbformat": 4,
		 "nbformat_minor": 0
}
