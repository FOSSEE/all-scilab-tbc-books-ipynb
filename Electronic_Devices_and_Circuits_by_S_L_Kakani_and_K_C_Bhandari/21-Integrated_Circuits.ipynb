{
"cells": [
 {
		   "cell_type": "markdown",
	   "metadata": {},
	   "source": [
       "# Chapter 21: Integrated Circuits"
	   ]
	},
{
		   "cell_type": "markdown",
		   "metadata": {},
		   "source": [
			"## Example 21.1: AC_Coupled_Trigger_Pulse.sce"
		   ]
		  },
  {
"cell_type": "code",
	   "execution_count": null,
	   "metadata": {
	    "collapsed": true
	   },
	   "outputs": [],
"source": [
"//Ex21_1 Pg-1067\n",
"clc\n",
"\n",
"disp('Refer to figure 21.10')\n",
"\n",
"R=5000 //resistor R in ohm\n",
"C=0.1*10^(-6) //capacitance in farad\n",
"tau=1.1 //time constant\n",
"\n",
"tON=tau*R*C //pulse width in sec\n",
"printf(' Pulse width = %.2f msec',tON*1e3)"
   ]
   }
,
{
		   "cell_type": "markdown",
		   "metadata": {},
		   "source": [
			"## Example 21.2: Astable_Mode_Time_Output.sce"
		   ]
		  },
  {
"cell_type": "code",
	   "execution_count": null,
	   "metadata": {
	    "collapsed": true
	   },
	   "outputs": [],
"source": [
"//Ex21_2 Pg-1068\n",
"clc\n",
"\n",
"disp('Refer to figure 21.12')\n",
"R1=20000 //timing resistor R1 in ohm\n",
"R2=R1 //timing resistor R2 in ohm\n",
"C=0.1*10^(-6) //capacitance in farad\n",
"tau=0.69 //time constant\n",
"\n",
"tHIGH=tau*(R1+R2)*C //time output that will remain high\n",
"printf(' Time output = %.2f msec',tHIGH*1e3)"
   ]
   }
,
{
		   "cell_type": "markdown",
		   "metadata": {},
		   "source": [
			"## Example 21.3: Astable_Mode_Time_Output.sce"
		   ]
		  },
  {
"cell_type": "code",
	   "execution_count": null,
	   "metadata": {
	    "collapsed": true
	   },
	   "outputs": [],
"source": [
"//Ex21_3 Pg-1069\n",
"clc\n",
"\n",
"disp('Refer to figure 21.12')\n",
"R2=20000 //timing resistor R2 in ohm\n",
"C=0.1*10^(-6) //capacitance in farad\n",
"tau=0.69 //time constant\n",
"\n",
"tLOW=tau*(R2)*C //time output that will remain high\n",
"printf(' Time output = %.2f msec',tLOW*1e3)"
   ]
   }
,
{
		   "cell_type": "markdown",
		   "metadata": {},
		   "source": [
			"## Example 21.4: Astable_Mode_Output_Frequency.sce"
		   ]
		  },
  {
"cell_type": "code",
	   "execution_count": null,
	   "metadata": {
	    "collapsed": true
	   },
	   "outputs": [],
"source": [
"//Ex21_4 Pg-1069\n",
"clc\n",
"\n",
"R1=20000 //timing resistor R1 in ohm\n",
"R2=R1 //timing resistor R2 in ohm\n",
"C=0.1*10^(-6) //capacitance in farad\n",
"\n",
"f0=1.45/((R1+2*R2)*C) //output frequency\n",
"printf('Output frequency = %.2f Hz',f0)"
   ]
   }
,
{
		   "cell_type": "markdown",
		   "metadata": {},
		   "source": [
			"## Example 21.5: Astable_Mode_Duty_Cylce.sce"
		   ]
		  },
  {
"cell_type": "code",
	   "execution_count": null,
	   "metadata": {
	    "collapsed": true
	   },
	   "outputs": [],
"source": [
"//Ex21_5 Pg-1069\n",
"clc\n",
"\n",
"disp('Refer to figure 21.12')\n",
"R1=20000 //timing resistor R1 in ohm\n",
"R2=R1 //timing resistor R2 in ohm\n",
"\n",
"D=(R1+R2)/(R1+2*R2)*100 //duty cylce\n",
"printf(' Duty cycle = %.1f %%',D)"
   ]
   }
,
{
		   "cell_type": "markdown",
		   "metadata": {},
		   "source": [
			"## Example 21.6: Resistor_Values_in_Astable_Mode.sce"
		   ]
		  },
  {
"cell_type": "code",
	   "execution_count": null,
	   "metadata": {
	    "collapsed": true
	   },
	   "outputs": [],
"source": [
"//Ex21_6 Pg-1070\n",
"clc\n",
"\n",
"C=0.01*10^(-6) //capacitance in farad\n",
"f0=2000 //frequency in Hz\n",
"\n",
"Req=1.45/(f0*C) //equivalent resistance or R1+R2\n",
"disp('    Because a square wavw has duty cycle of 50% each resistor must be the same')\n",
"R1=Req/2 \n",
"R2=R1\n",
"printf('      R1 = R2 = %.2f kohm',R2*1e-3)"
   ]
   }
,
{
		   "cell_type": "markdown",
		   "metadata": {},
		   "source": [
			"## Example 21.7: Time_Delay_Mode.sce"
		   ]
		  },
  {
"cell_type": "code",
	   "execution_count": null,
	   "metadata": {
	    "collapsed": true
	   },
	   "outputs": [],
"source": [
"//Ex21_7 Pg-1073\n",
"clc\n",
"\n",
"R=260000 //resistor R in ohm\n",
"C=25*10^(-6) //capacitance in farad\n",
"tau=1.1 //time constant\n",
"\n",
"t_delay=tau*R*C //pulse width in sec\n",
"printf(' Pulse width = %.2f sec',t_delay)"
   ]
   }
,
{
		   "cell_type": "markdown",
		   "metadata": {},
		   "source": [
			"## Example 21.8: Decimal_to_TTL_Voltage_Terms.sce"
		   ]
		  },
  {
"cell_type": "code",
	   "execution_count": null,
	   "metadata": {
	    "collapsed": true
	   },
	   "outputs": [],
"source": [
"//Ex21_8 Pg-1076\n",
"clc\n",
"\n",
"dec=253 //decimal number\n",
"bin=dec2bin(dec) //binary value of 253\n",
"disp('Binary value of 253 =')\n",
"disp(bin) \n",
"disp('In TTL for 1s it is represented in 5V and 0s as 0V')\n",
"disp('Therefore 253 in TTL voltage terms is')\n",
"disp('5V,5V,5V,5V,5V,5V,0V,5V')"
   ]
   }
],
"metadata": {
		  "kernelspec": {
		   "display_name": "Scilab",
		   "language": "scilab",
		   "name": "scilab"
		  },
		  "language_info": {
		   "file_extension": ".sce",
		   "help_links": [
			{
			 "text": "MetaKernel Magics",
			 "url": "https://github.com/calysto/metakernel/blob/master/metakernel/magics/README.md"
			}
		   ],
		   "mimetype": "text/x-octave",
		   "name": "scilab",
		   "version": "0.7.1"
		  }
		 },
		 "nbformat": 4,
		 "nbformat_minor": 0
}
