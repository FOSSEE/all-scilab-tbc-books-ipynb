{
"cells": [
 {
		   "cell_type": "markdown",
	   "metadata": {},
	   "source": [
       "# Chapter 1: Electronic Materials and Components"
	   ]
	},
{
		   "cell_type": "markdown",
		   "metadata": {},
		   "source": [
			"## Example 1.1: Color_Coding_Resistance.sce"
		   ]
		  },
  {
"cell_type": "code",
	   "execution_count": null,
	   "metadata": {
	    "collapsed": true
	   },
	   "outputs": [],
"source": [
"//Ex1_1 Pg-43\n",
"clc\n",
"disp('Refer to the figure 1.52')\n",
"disp('Hold the resistor as shown in the figure such that tolerance is on your extreme right.')\n",
"disp('Now the value of the resistor is equal to')\n",
"disp('  Red      Black       Blue        Gold')\n",
"disp('   2         0          6         (+/-)5%')\n",
"red=2 //red value\n",
"blk=0 //black value\n",
"blu=6 //blue value\n",
"gld=5 //gold value\n",
"value_res=(red*10+blk)*10^blu //value of resistor\n",
"printf('\n The value of resistor is %.0f ohm (+/-)%.0f%%',value_res,gld)\n",
"per_val=0.05*value_res\n",
"pos_value_res=value_res+per_val //positive range of resistor\n",
"neg_value_res=value_res-per_val //negative range of resistor\n",
"printf('\n The value of resistor is %.0f Mohm and %.0f Mohm',neg_value_res*1e-6,pos_value_res*1e-6)"
   ]
   }
,
{
		   "cell_type": "markdown",
		   "metadata": {},
		   "source": [
			"## Example 1.2: Color_Coding_Resistance.sce"
		   ]
		  },
  {
"cell_type": "code",
	   "execution_count": null,
	   "metadata": {
	    "collapsed": true
	   },
	   "outputs": [],
"source": [
"//Ex1_2 Pg-43\n",
"clc\n",
"disp('With the help of colour coding table, one finds')\n",
"disp('  1st_Band    2nd_Band    3rd_Band    4th_Band')\n",
"printf('    Yellow      Violet      Orange      Gold')\n",
"disp('      4          7         10^3     (+/-)5%')\n",
"yel=4 //yellow value\n",
"vio=7 //violet value\n",
"org=1e3 //orange value\n",
"gld=5 //gold value in %\n",
"val_res=(yel*10+vio)*org\n",
"printf('\n The value of resistor is %.2f kohm (+/-)%.0f%%',val_res*1e-3,gld)\n",
"gld_ab=0.05 //absolute gold value\n",
"per_val=gld_ab*val_res\n",
"printf('\n Now, 5%% of 47k_ohm = %.0f ohm',per_val)\n",
"range_high=val_res+per_val //higher range\n",
"range_low=val_res-per_val //lower range\n",
"printf('\n\n Thus resistance should be within the range %.2f kohm(+/-)%.2f Kohm,\n or between %.2f kohm and %.2f kohm.',val_res*1e-3,per_val*1e-3,range_low*1e-3,range_high*1e-3)"
   ]
   }
,
{
		   "cell_type": "markdown",
		   "metadata": {},
		   "source": [
			"## Example 1.3: Color_Coding_Resistance.sce"
		   ]
		  },
  {
"cell_type": "code",
	   "execution_count": null,
	   "metadata": {
	    "collapsed": true
	   },
	   "outputs": [],
"source": [
"//Ex1_3 Pg-44\n",
"clc\n",
"disp('The specification of the resistor from the color coding table is as follows')\n",
"disp('  1st_Band    2nd_Band    3rd_Band    4th_Band')\n",
"printf('     Gray        Blue        Gold       Silver')\n",
"disp('      8          6        10^(-1)     (+/-)10%')\n",
"gray=8 //gray value\n",
"blu=6 //blue value\n",
"gld=10^-1 //gold value\n",
"sil=10 //silver value in %\n",
"val_res=(gray*10+blu)*gld\n",
"printf('\n The value of resistor is %.1f ohm (+/-)%.0f%%',val_res,sil)\n",
"sil_ab=0.1 //absolute gold value\n",
"per_val=sil_ab*val_res\n",
"printf('\n Now, 10%% of 8.6 ohm = %.2f ohm',per_val)\n",
"range_high=val_res+per_val //higher range\n",
"range_low=val_res-per_val //lower range\n",
"printf('\n\n Obviously resistance should lie within the range %.2f ohm(+/-)%.2f ohm,\n or between %.2f ohm and %.2f ohm.',val_res,per_val,range_high,range_low)"
   ]
   }
,
{
		   "cell_type": "markdown",
		   "metadata": {},
		   "source": [
			"## Example 1.4: Current_Source_Representation.sce"
		   ]
		  },
  {
"cell_type": "code",
	   "execution_count": null,
	   "metadata": {
	    "collapsed": true
	   },
	   "outputs": [],
"source": [
"//Ex1_4 Pg-44\n",
"clc\n",
"disp('Refer to the figure 1.53')\n",
"Vs=2 //supply voltage in V\n",
"Rs=1 //resistance in ohm\n",
"Is=Vs/Rs\n",
"printf('\n Current Is = %.0f A \n',Is)\n",
"disp('     Internal resistance remains the same but is now connected in parralel with the current sourceIS,as shown in Figure 1.51(a)')\n",
"disp('    Now,we connect a load resistance R_L=1 ohm across the terminals of two representations ,and find I_L and V_L.  From Figure 1.54(b) and using the current-divider concept,one obtains')\n",
"RL=1 //load resistance in ohm\n",
"IL=Is*(Rs/(Rs+RL)) //load current using current-divider\n",
"VL=IL*RL //load voltage\n",
"printf('\n Load voltage = %.0f V',VL)\n",
"printf('\n Load current = %.0f A \n',IL)\n",
"disp('From equation 53(b),using the voltage-divider concept,one obtains')\n",
"VD_vl=Vs*(RL/(RL+Rs)) //load voltage using voltage divider \n",
"VD_il=VL/RL //load current\n",
"printf('\n Load voltage = %.0f V',VD_vl)\n",
"printf('\n Load current = %.0f A \n',VD_il)"
   ]
   }
,
{
		   "cell_type": "markdown",
		   "metadata": {},
		   "source": [
			"## Example 1.5: Percentage_Variation_in_Load_Voltage_and_Current.sce"
		   ]
		  },
  {
"cell_type": "code",
	   "execution_count": null,
	   "metadata": {
	    "collapsed": true
	   },
	   "outputs": [],
"source": [
"//Ex1_5 Pg-45\n",
"clc\n",
"disp('Refer to the figure 1.55')\n",
"disp('(a) R_L varies from 1 ohm to 10 ohm.')\n",
"disp('Currents for two extreme values of R_L are')\n",
"Vs=10 //supply voltage\n",
"RL1=1 //resistance RL1\n",
"Rs=100 //source resistance\n",
"IL1=(Vs/(RL1+Rs))\n",
"RL2=10\n",
"IL2=(Vs/(RL2+Rs))\n",
"per_var_cur=((IL1-IL2)/IL1)*100\n",
"printf('\n Percentage variation in current = %.2f %%\n',per_var_cur)//answer in the text book took a .3 decimal round off value\n",
"disp('   Now,load voltage for the two extreme values of R_L are')\n",
"VL1=IL1*RL\n",
"VL2=IL2*RL2\n",
"per_var_vol=((VL2-VL1)/VL2)*100\n",
"printf('\n Percentage variation in current = %.2f %%\n',per_var_vol)\n",
"\n",
"disp('(b) R_L varies from 1 k-ohm to 10 k-ohm              (Figure 1.55(b))')\n",
"disp('Currents for the two extreme values R_L are')\n",
"RL11=1000\n",
"IL11=(Vs/(RL11+Rs))\n",
"RL22=10000\n",
"IL22=(Vs/(RL22+Rs)) //mistake in book value\n",
"per_var_cur11=((IL11-IL22)/IL11)*100\n",
"printf('\n Percentage variation in current = %.2f %%\n',per_var_cur11) //mistake in book value"
   ]
   }
],
"metadata": {
		  "kernelspec": {
		   "display_name": "Scilab",
		   "language": "scilab",
		   "name": "scilab"
		  },
		  "language_info": {
		   "file_extension": ".sce",
		   "help_links": [
			{
			 "text": "MetaKernel Magics",
			 "url": "https://github.com/calysto/metakernel/blob/master/metakernel/magics/README.md"
			}
		   ],
		   "mimetype": "text/x-octave",
		   "name": "scilab",
		   "version": "0.7.1"
		  }
		 },
		 "nbformat": 4,
		 "nbformat_minor": 0
}
