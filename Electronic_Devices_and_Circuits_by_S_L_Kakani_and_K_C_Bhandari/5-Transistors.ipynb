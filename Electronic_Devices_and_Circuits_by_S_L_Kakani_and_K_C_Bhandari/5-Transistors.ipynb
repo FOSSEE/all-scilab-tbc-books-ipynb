{
"cells": [
 {
		   "cell_type": "markdown",
	   "metadata": {},
	   "source": [
       "# Chapter 5: Transistors"
	   ]
	},
{
		   "cell_type": "markdown",
		   "metadata": {},
		   "source": [
			"## Example 5.1: Current_component_of_a_Transistor.sce"
		   ]
		  },
  {
"cell_type": "code",
	   "execution_count": null,
	   "metadata": {
	    "collapsed": true
	   },
	   "outputs": [],
"source": [
"//Ex5_1 Pg-278\n",
"clc\n",
"\n",
"alpha_dc=0.97 //transistor current gain\n",
"ICBO=10*10^(-6) //collector to base leakage current in A\n",
"Ib=50*10^(-6) //base current in A\n",
"\n",
"Ic=((alpha_dc*Ib)/(1-alpha_dc))+(ICBO/(1-alpha_dc)) //collector current\n",
"printf('Collector current = %.2f mA \n',Ic*10^3)\n",
"\n",
"Ie=Ic+Ib //emitter current\n",
"printf(' Emitter current = %.0f mA',Ie*10^3)"
   ]
   }
,
{
		   "cell_type": "markdown",
		   "metadata": {},
		   "source": [
			"## Example 5.2: Transistor_Components.sce"
		   ]
		  },
  {
"cell_type": "code",
	   "execution_count": null,
	   "metadata": {
	    "collapsed": true
	   },
	   "outputs": [],
"source": [
"//Ex5_2 Pg-279\n",
"clc\n",
"\n",
"Ic=5.255*10^(-3) //collector current in A\n",
"Ib=100*10^(-6) //base current in A\n",
"ICBO=5*10^(-6) //collector to base leakage current in A\n",
"\n",
"alpha_dc=(Ic-ICBO)/(Ib+Ic) //common current gain factor\n",
"printf('Common current gain factor alpha_dc = %.2f',alpha_dc)  \n",
"\n",
"Beta=alpha_dc/(1-alpha_dc) //Dc emitter current gain factor value in text book is wrong\n",
"printf('\n Dc emitter current gain factor beta = %.2f',Beta)\n",
"\n",
"Ie=Ic+Ib //emitter current value in text book wrong\n",
"printf('\n Emitter current = %.3f mA',Ie*10^3)"
   ]
   }
,
{
		   "cell_type": "markdown",
		   "metadata": {},
		   "source": [
			"## Example 5.3: Transistor_Components.sce"
		   ]
		  },
  {
"cell_type": "code",
	   "execution_count": null,
	   "metadata": {
	    "collapsed": true
	   },
	   "outputs": [],
"source": [
"//Ex5_3 Pg-279\n",
"clc\n",
"\n",
"Ic=12.427*10^(-3) //collector current in A\n",
"Ib=200*10^(-6) //base current in A\n",
"ICBO=7*10^(-6) //collector to base leakage current in A\n",
"\n",
"Beta=(Ic-ICBO)/(Ib+ICBO) //Dc emitter current gain factor (value in texbook is wrong)\n",
"printf('\n Dc emitter current gain factor beta = %.0f',Beta)\n",
"\n",
"Ie=Ic+Ib //emitter current \n",
"printf('\n Emitter current = %.1f mA',Ie*10^3)\n",
"\n",
"alpha_dc=(Ic-ICBO)/(Ib+Ic) //common current gain factor\n",
"printf('\n Common current gain factor alpha_dc = %.2f',alpha_dc)  \n",
"\n",
"Ib=150*10^(-6) //new base current\n",
"Ic=Beta*Ib+(Beta+1)*ICBO //collector current (value in textbook is wrong)\n",
"printf('\n Collector current = %.3f mA \n',Ic*10^3)"
   ]
   }
],
"metadata": {
		  "kernelspec": {
		   "display_name": "Scilab",
		   "language": "scilab",
		   "name": "scilab"
		  },
		  "language_info": {
		   "file_extension": ".sce",
		   "help_links": [
			{
			 "text": "MetaKernel Magics",
			 "url": "https://github.com/calysto/metakernel/blob/master/metakernel/magics/README.md"
			}
		   ],
		   "mimetype": "text/x-octave",
		   "name": "scilab",
		   "version": "0.7.1"
		  }
		 },
		 "nbformat": 4,
		 "nbformat_minor": 0
}
