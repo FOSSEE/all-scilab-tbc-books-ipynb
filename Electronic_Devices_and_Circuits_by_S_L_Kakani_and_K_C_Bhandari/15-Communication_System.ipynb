{
"cells": [
 {
		   "cell_type": "markdown",
	   "metadata": {},
	   "source": [
       "# Chapter 15: Communication System"
	   ]
	},
{
		   "cell_type": "markdown",
		   "metadata": {},
		   "source": [
			"## Example 15.1: Transmitter_Modulation.sce"
		   ]
		  },
  {
"cell_type": "code",
	   "execution_count": null,
	   "metadata": {
	    "collapsed": true
	   },
	   "outputs": [],
"source": [
"//Ex15_1 Pg-773\n",
"clc\n",
"\n",
"Pc=10000 //carrier input power in watt\n",
"m=30/100 //modulation of 30%\n",
"\n",
"disp('Total power = carrier power*(1+m^2/2)')\n",
"Pt=Pc*(1+m^2/2) //total power\n",
"printf('             = %.2f kW',Pt*1e-3)"
   ]
   }
,
{
		   "cell_type": "markdown",
		   "metadata": {},
		   "source": [
			"## Example 15.2: Transmitter_Modulation.sce"
		   ]
		  },
  {
"cell_type": "code",
	   "execution_count": null,
	   "metadata": {
	    "collapsed": true
	   },
	   "outputs": [],
"source": [
"//Ex15_2 Pg-774\n",
"clc\n",
"\n",
"Ic=100 //carrier current in A\n",
"m=80/100 //modulation of 80%\n",
"\n",
"disp('Total current = carrier current*(1+m^2/2)')\n",
"It=Ic*sqrt(1+m^2/2) //total power\n",
"printf('               = %.1f A \n',It)\n",
"\n",
"change_I=It-Ic //change in current\n",
"printf('Therefore, increase in current due to modulation = %.1f A',change_I)"
   ]
   }
,
{
		   "cell_type": "markdown",
		   "metadata": {},
		   "source": [
			"## Example 15.3: AM_Wave_Modulatio.sce"
		   ]
		  },
  {
"cell_type": "code",
	   "execution_count": null,
	   "metadata": {
	    "collapsed": true
	   },
	   "outputs": [],
"source": [
"//Ex15_3 Pg-774\n",
"clc\n",
"\n",
"Em=5 //modulated wave amplitude\n",
"Ec=100 //carrier wave amplitude\n",
"Fm=50 //frequency of modulated wave\n",
"Fc=10*10^(3) //frequency of carrier wave \n",
"\n",
"disp('(1) Modulation Factor')\n",
"m=Em/Ec //modulation factor\n",
"per_m=m*100 //modulation factor in percentage\n",
"printf('                m = %.0f %%',per_m)\n",
"\n",
"disp('(2) Amplitude of each sideband = m*Ec/2')\n",
"Amp=m*Ec/2 //amplitude of each sideband\n",
"printf('                = %.1f',Amp)\n",
"\n",
"USB=Fc+Fm //upper side band\n",
"LSB=Fc-Fm //lower side band\n",
"disp('(3) Frequenc of sidebands')\n",
"printf('        USB = %.0f Hz \n',USB)\n",
"printf('        LSB = %.0f Hz \n',LSB)\n",
"\n",
"disp('(4) Bandwidth of the wave')\n",
"BW=2*Fm //Bandwidth\n",
"printf('        BW = %.0f',BW)"
   ]
   }
,
{
		   "cell_type": "markdown",
		   "metadata": {},
		   "source": [
			"## Example 15.4: AM_Wave_Modulatio.sce"
		   ]
		  },
  {
"cell_type": "code",
	   "execution_count": null,
	   "metadata": {
	    "collapsed": true
	   },
	   "outputs": [],
"source": [
"//Ex15_4 Pg-774\n",
"clc\n",
"\n",
"Vmax=600 //peak to peak voltage\n",
"Vmin=100 //valley to valley voltage\n",
"\n",
"disp('From figure 15.49, we have')\n",
"m=(Vmax-Vmin)/(Vmax+Vmin) //modulation factor\n",
"per_m=m*100 //modulation factor in percentage\n",
"printf(' \n Modulation factor = %.1f %%',per_m )"
   ]
   }
,
{
		   "cell_type": "markdown",
		   "metadata": {},
		   "source": [
			"## Example 15.5: AM_Wave_Modulatio.sce"
		   ]
		  },
  {
"cell_type": "code",
	   "execution_count": null,
	   "metadata": {
	    "collapsed": true
	   },
	   "outputs": [],
"source": [
"//Ex15_5 Pg-775\n",
"clc\n",
"\n",
"disp('The standard equation of AM wave is')\n",
"disp(' e = Ec*(1+m*sin(omega_m*t)*sin(omega_c*t)) -->eqn 1')\n",
"disp('Given the equation')\n",
"disp(' e = 20*(1+0.7*sin(6280*t)*sin(628000*t))   --eqn 2')\n",
"disp('Comparing eqn 1 and eqn 2 one obtains')\n",
"disp('(1) Modulation factor, m = 0.7')\n",
"m=0.7 //modulation factor\n",
"disp('(2) Carrier Amplitude, Ec = 20 V')\n",
"Ec=20 //carrier wave amplitude in V\n",
"disp('(3) omega_m = 6280')\n",
"omega_m=6280 //modulating frequency\n",
"Fm=omega_m/(2*%pi) //signal frequency\n",
"printf('    Signal frequency = %.0f kHz \n\n',Fm*1e-3)\n",
"\n",
"omega_c=628000 //carrier frequency in Hz\n",
"Fc=omega_c/(2*%pi) \n",
"printf('(4) Signal frequency = %.0f kHz \n\n',Fc*1e-3)\n",
"\n",
"Emax=Ec+m*Ec //minimum amplitude of wave\n",
"printf('(5) Emax = %.0f V \n\n',Emax)\n",
"\n",
"Emin=Ec-m*Ec //minimum amplitude of wave\n",
"printf('(5) Emin = %.0f V\n\n',Emin)\n",
"\n",
"BW=2*Fm //Bandwidth\n",
"printf('(6) BW = %.0f kHZ',BW*1e-3)"
   ]
   }
,
{
		   "cell_type": "markdown",
		   "metadata": {},
		   "source": [
			"## Example 15.6: AM_Wave_Modulatio.sce"
		   ]
		  },
  {
"cell_type": "code",
	   "execution_count": null,
	   "metadata": {
	    "collapsed": true
	   },
	   "outputs": [],
"source": [
"//Ex15_6 Pg-776\n",
"clc\n",
"\n",
"Pc=10000 //carrier power in watt\n",
"m=0.9 //modulation factor\n",
"disp('We have')\n",
"\n",
"disp('Total power = carrier power*(1+m^2/2)')\n",
"Pt=Pc*(1+m^2/2) //total power\n",
"printf('             = %.0f kW \n\n',Pt*1e-3)\n",
"\n",
"printf('This will be the maximum power handeled by the transmitter.\n Now,increased unmodulated carrier power can be obtained by \n\n')\n",
"m=40/100 //modulation in terms of percentage\n",
"Pt=14000 //total power\n",
"Pc=Pt/(1+m^2/2) //neew carrier power\n",
"printf('        Pc = %.2f kW',Pc*1e-3)"
   ]
   }
,
{
		   "cell_type": "markdown",
		   "metadata": {},
		   "source": [
			"## Example 15.7: AM_Wave_Modulatio.sce"
		   ]
		  },
  {
"cell_type": "code",
	   "execution_count": null,
	   "metadata": {
	    "collapsed": true
	   },
	   "outputs": [],
"source": [
"//Ex15_7 Pg-776\n",
"clc\n",
"\n",
"disp('Given the equation')\n",
"printf('\n E = 100*sin(628000*t) + 25*sin(621720*t) \n   - 25*cos(634280*t)) \n')\n",
" m=50/100 //modulation factor in percentage\n",
" Ec=100 //carrier wave amplitude in V\n",
" Em=10 //modulated wave amplitude in V\n",
"Fc=100000 //carier frequency in Hz\n",
"Fm=1000 //modulating frequency in Hz\n",
"pi=3.14 \n",
"\n",
"omega_c=2*pi*Fc //carier frequency\n",
"omega_m=2*pi*Em //modulating frequency \n",
"\n",
"disp('Now,putting these equation in the standard equations for modulated voltage wave,')\n",
"disp('  e = Ec*sin(omega_c*t)+m*Ec/2*cos(omega_c-omega_m)*t-m*Ec/2*cos(omega_c-omega_m)*t')\n",
"USB=omega_c+omega_m //upper sideband\n",
"LSB=omega_c-omega_m //lower sideband\n",
"mEc=m*Ec/2\n",
"printf('\n     = 100*sin(628000*t) + %.0f*sin(%.0f*t) \n      - %.0f*cos(%.0f*t))',mEc,USB,mEc,LSB)"
   ]
   }
],
"metadata": {
		  "kernelspec": {
		   "display_name": "Scilab",
		   "language": "scilab",
		   "name": "scilab"
		  },
		  "language_info": {
		   "file_extension": ".sce",
		   "help_links": [
			{
			 "text": "MetaKernel Magics",
			 "url": "https://github.com/calysto/metakernel/blob/master/metakernel/magics/README.md"
			}
		   ],
		   "mimetype": "text/x-octave",
		   "name": "scilab",
		   "version": "0.7.1"
		  }
		 },
		 "nbformat": 4,
		 "nbformat_minor": 0
}
