{
"cells": [
 {
		   "cell_type": "markdown",
	   "metadata": {},
	   "source": [
       "# Chapter 19: Digital Electronics"
	   ]
	},
{
		   "cell_type": "markdown",
		   "metadata": {},
		   "source": [
			"## Example 19.10: Binary_to_Decimal.sce"
		   ]
		  },
  {
"cell_type": "code",
	   "execution_count": null,
	   "metadata": {
	    "collapsed": true
	   },
	   "outputs": [],
"source": [
"//Ex19_10 Pg-961\n",
"clc\n",
"\n",
"bin='1111'; //binary input\n",
"dec=bin2dec(bin) //decimal output\n",
"disp('(1) Binary number -> 1111')\n",
"disp('Here we have 4 bits')\n",
"disp('The decimal equivqlent is')\n",
"disp(dec)\n",
"\n",
"\n",
"bin='1111111'; //binary input\n",
"dec=bin2dec(bin) //decimal output\n",
"disp('(2) Binary number -> 1111111')\n",
"disp('Here we have 7 bits')\n",
"disp('The decimal equivqlent is')\n",
"disp(dec)"
   ]
   }
,
{
		   "cell_type": "markdown",
		   "metadata": {},
		   "source": [
			"## Example 19.11: Octal_to_Decimal.sce"
		   ]
		  },
  {
"cell_type": "code",
	   "execution_count": null,
	   "metadata": {
	    "collapsed": true
	   },
	   "outputs": [],
"source": [
"//Ex19_11 Pg-962 \n",
"clc\n",
"\n",
"oct='23'; //binary input\n",
"dec=oct2dec(oct) //decimal output\n",
"disp('The decimal equivqlent of 23 is')\n",
"disp(dec)"
   ]
   }
,
{
		   "cell_type": "markdown",
		   "metadata": {},
		   "source": [
			"## Example 19.12: Octal_to_Decimal.sce"
		   ]
		  },
  {
"cell_type": "code",
	   "execution_count": null,
	   "metadata": {
	    "collapsed": true
	   },
	   "outputs": [],
"source": [
"//Ex19_12 Pg-962 \n",
"clc\n",
"\n",
"oct='257'; //binary input\n",
"dec=oct2dec(oct) //decimal output\n",
"disp('The decimal equivalent of 257 is')\n",
"disp(dec)"
   ]
   }
,
{
		   "cell_type": "markdown",
		   "metadata": {},
		   "source": [
			"## Example 19.13: Decimal_to_Octal.sce"
		   ]
		  },
  {
"cell_type": "code",
	   "execution_count": null,
	   "metadata": {
	    "collapsed": true
	   },
	   "outputs": [],
"source": [
"//Ex19_13 Pg-962 \n",
"clc\n",
"\n",
"dec=175; //binary input\n",
"oct=dec2oct(dec) //decimal output\n",
"disp('The octal equivslent of 175 is')\n",
"disp(oct)"
   ]
   }
,
{
		   "cell_type": "markdown",
		   "metadata": {},
		   "source": [
			"## Example 19.14: Decimal_to_Octal.sce"
		   ]
		  },
  {
"cell_type": "code",
	   "execution_count": null,
	   "metadata": {
	    "collapsed": true
	   },
	   "outputs": [],
"source": [
"//Ex19_14 Pg-963\n",
"clc\n",
"\n",
"disp('Conversion of decimal number 0.85 base  to its octal equivalent ')\n",
"a=[0.85] //0.75 value in textbook is wrong \n",
"z=modulo(a,1)\n",
"d=0\n",
"for i=1:10//converting the values after the decimal point into octal\n",
"    z=z*8\n",
"    q=floor(z)\n",
"    d=d+q/(10^i)\n",
"    if z>=1 then\n",
"        z=z-q\n",
"    end\n",
"end\n",
"s=d\n",
"printf('\n                   = %.6f',s);\n",
""
   ]
   }
,
{
		   "cell_type": "markdown",
		   "metadata": {},
		   "source": [
			"## Example 19.15: Octal_to_Binary.sce"
		   ]
		  },
  {
"cell_type": "code",
	   "execution_count": null,
	   "metadata": {
	    "collapsed": true
	   },
	   "outputs": [],
"source": [
"//Ex19_15 Pg-963\n",
"clc\n",
"\n",
"oct='34' //octal input\n",
"dec=oct2dec(oct) //decimal output\n",
"bin=dec2bin(dec) //binary output\n",
"disp('The binary equivalent of octal 34 is')\n",
"disp(bin)"
   ]
   }
,
{
		   "cell_type": "markdown",
		   "metadata": {},
		   "source": [
			"## Example 19.16: Octal_to_Binary.sce"
		   ]
		  },
  {
"cell_type": "code",
	   "execution_count": null,
	   "metadata": {
	    "collapsed": true
	   },
	   "outputs": [],
"source": [
"//Ex19_16 Pg-963\n",
"clc\n",
"\n",
"oct='357' //octal input\n",
"dec=oct2dec(oct) //decimal output\n",
"bin=dec2bin(dec) //binary output\n",
"disp('The binary equivalent of octal 34 is')\n",
"disp(bin)"
   ]
   }
,
{
		   "cell_type": "markdown",
		   "metadata": {},
		   "source": [
			"## Example 19.17: Binary_to_Octal.sce"
		   ]
		  },
  {
"cell_type": "code",
	   "execution_count": null,
	   "metadata": {
	    "collapsed": true
	   },
	   "outputs": [],
"source": [
"//Ex19_17 Pg-963\n",
"clc\n",
"\n",
"//Integer part\n",
"bin='1011'; //binary input\n",
"dec_I=bin2dec(bin) //decimal output\n",
"oct_I=dec2oct(dec_I) //octal output\n",
"\n",
"//Decimal part\n",
"bin='11010'; //binary input\n",
"dec_D=bin2dec(bin) //decimal output\n",
"oct_D=dec2oct(dec_D) //octal output\n",
"oct=oct_I + oct_D //final octal output\n",
"b = strcat([ oct_I, oct_D ], '.' ) // combining intger and decimal part\n",
"disp('The octal equivqlent of 1011.01101 is')\n",
"disp(b)"
   ]
   }
,
{
		   "cell_type": "markdown",
		   "metadata": {},
		   "source": [
			"## Example 19.18: Hexadecimal_to_Binary.sce"
		   ]
		  },
  {
"cell_type": "code",
	   "execution_count": null,
	   "metadata": {
	    "collapsed": true
	   },
	   "outputs": [],
"source": [
"//Ex19_18 Pg-965\n",
"clc\n",
"\n",
"hex='9AF' //hexadecimal input\n",
"dec=hex2dec(hex) //decimal output\n",
"bin=dec2bin(dec) //binary output\n",
"disp('The binary equivalent of 9AF is')\n",
"disp(bin)"
   ]
   }
,
{
		   "cell_type": "markdown",
		   "metadata": {},
		   "source": [
			"## Example 19.19: Hexadecimal_to_Binary.sce"
		   ]
		  },
  {
"cell_type": "code",
	   "execution_count": null,
	   "metadata": {
	    "collapsed": true
	   },
	   "outputs": [],
"source": [
"//Ex19_19 Pg-965\n",
"clc\n",
"\n",
"hex='C5E2' //hexadecimal input\n",
"dec=hex2dec(hex) //decimal output\n",
"bin=dec2bin(dec) //binary output\n",
"disp('The binary equivalent of C5E2 is')\n",
"disp(bin)"
   ]
   }
,
{
		   "cell_type": "markdown",
		   "metadata": {},
		   "source": [
			"## Example 19.1: Binary_to_Decimal.sce"
		   ]
		  },
  {
"cell_type": "code",
	   "execution_count": null,
	   "metadata": {
	    "collapsed": true
	   },
	   "outputs": [],
"source": [
"//Ex19_1 Pg-957 \n",
"clc\n",
"\n",
"bin='101'; //binary input\n",
"dec=bin2dec(bin) //decimal output\n",
"disp('The decimal equivqlent of 101 is')\n",
"disp(dec)"
   ]
   }
,
{
		   "cell_type": "markdown",
		   "metadata": {},
		   "source": [
			"## Example 19.20: Binary_to_Hexadecimal.sce"
		   ]
		  },
  {
"cell_type": "code",
	   "execution_count": null,
	   "metadata": {
	    "collapsed": true
	   },
	   "outputs": [],
"source": [
"//Ex19_20 Pg-957 \n",
"clc\n",
"\n",
"bin='10001100'; //binary input\n",
"dec=bin2dec(bin) //decimal output\n",
"hex=dec2hex(dec) //hexadecimal output\n",
"disp('The hexadecimal equivqlent of 10001100 is')\n",
"disp(hex)"
   ]
   }
,
{
		   "cell_type": "markdown",
		   "metadata": {},
		   "source": [
			"## Example 19.21: Hexadecimal_to_Decimal.sce"
		   ]
		  },
  {
"cell_type": "code",
	   "execution_count": null,
	   "metadata": {
	    "collapsed": true
	   },
	   "outputs": [],
"source": [
"//Ex19_21 Pg-965\n",
"clc\n",
"\n",
"//Integer part\n",
"hex='F8E6'; //binary input\n",
"dec_I=hex2dec(hex) //decimal output\n",
"\n",
"//Decimal part\n",
"a=3 \n",
"b=9\n",
"dec=dec_I+a*16^(-1)+b*16^(-2) //decimal output \n",
"disp('The decimal equivalent of F8E6.39 is')\n",
"printf('\n    %.4f',dec)"
   ]
   }
,
{
		   "cell_type": "markdown",
		   "metadata": {},
		   "source": [
			"## Example 19.22: Decimal_to_Hexadecimal.sce"
		   ]
		  },
  {
"cell_type": "code",
	   "execution_count": null,
	   "metadata": {
	    "collapsed": true
	   },
	   "outputs": [],
"source": [
"//Ex19_22 Pg-966\n",
"clc\n",
"\n",
"dec=2479 //decimal input\n",
"hex=dec2hex(dec) //hexadecimal output\n",
"disp('The Hexadecimal equivalent of 2479 is')\n",
"disp(hex)"
   ]
   }
,
{
		   "cell_type": "markdown",
		   "metadata": {},
		   "source": [
			"## Example 19.23: Decimal_to_Hexadecimal.sce"
		   ]
		  },
  {
"cell_type": "code",
	   "execution_count": null,
	   "metadata": {
	    "collapsed": true
	   },
	   "outputs": [],
"source": [
"//Ex19_23 Pg-966\n",
"clc\n",
"\n",
"dec=65535 //decimal input\n",
"hex=dec2hex(dec) //hexadecimal output\n",
"disp('The Hexadecimal equivalent of 65535 is')\n",
"disp(hex)\n",
"\n",
"bin=dec2bin(dec) //binary output\n",
"disp('The Binary equivalent of 65535 is ')\n",
"disp(bin)\n",
""
   ]
   }
,
{
		   "cell_type": "markdown",
		   "metadata": {},
		   "source": [
			"## Example 19.24: Binary_Addittion.sce"
		   ]
		  },
  {
"cell_type": "code",
	   "execution_count": null,
	   "metadata": {
	    "collapsed": true
	   },
	   "outputs": [],
"source": [
"//Ex19_24 Pg-969\n",
"clc\n",
"\n",
"x=bin2dec('11100') //1st input\n",
"y=bin2dec('11010') //2nd input\n",
"z=x+y //binary addition\n",
"add=dec2bin(z)\n",
"disp(' 11100 + 11010 = ')\n",
"disp(add)"
   ]
   }
,
{
		   "cell_type": "markdown",
		   "metadata": {},
		   "source": [
			"## Example 19.25: Binary_Subtraction.sce"
		   ]
		  },
  {
"cell_type": "code",
	   "execution_count": null,
	   "metadata": {
	    "collapsed": true
	   },
	   "outputs": [],
"source": [
"//Ex19_25 Pg-970\n",
"clc\n",
"\n",
"x=bin2dec('1101') //1st input\n",
"y=bin2dec('1010') //2nd input\n",
"z=x-y //subtraction\n",
"sub=dec2bin(z,4)\n",
"disp(' 1101 - 1010 = ')\n",
"disp(sub)"
   ]
   }
,
{
		   "cell_type": "markdown",
		   "metadata": {},
		   "source": [
			"## Example 19.26: Binary_Subtraction.sce"
		   ]
		  },
  {
"cell_type": "code",
	   "execution_count": null,
	   "metadata": {
	    "collapsed": true
	   },
	   "outputs": [],
"source": [
"//Ex19_26 Pg-970\n",
"clc\n",
"\n",
"\n",
"x=200 //1st input\n",
"y=125 //2nd input\n",
"z=x-y //subtraction\n",
"disp('For decimal system 200 - 125 = ')\n",
"disp(z)\n",
"\n",
"a=dec2hex(z) //hexadeciaml output of 200-125\n",
"disp('For hexadecimal system C8 - 7D is')\n",
"disp(a)\n",
"\n",
"b=dec2bin(z,8) //binary output of 200-125\n",
"disp('For binary system 11001000 - 01111101 is')\n",
"disp(b)"
   ]
   }
,
{
		   "cell_type": "markdown",
		   "metadata": {},
		   "source": [
			"## Example 19.27: Boolean_Expression.sce"
		   ]
		  },
  {
"cell_type": "code",
	   "execution_count": null,
	   "metadata": {
	    "collapsed": true
	   },
	   "outputs": [],
"source": [
"//Ex19_27 Pg-997\n",
"clc\n",
"\n",
"disp('(A+B)(A+C) = AA + AC + AB + BC ')\n",
"//by distributive law\n",
"disp('           = A + AC + AB +BC')\n",
"//by theorem(6)\n",
"disp('           = A(1 + C) + AB + BC')\n",
"//by distributive law\n",
"disp('           = A.1 + AB + BC ')\n",
"//by theorem(3)\n",
"disp('           = A(B + 1) + BC')\n",
"//by distributive law\n",
"disp('           = A + BC')\n",
"disp('Therefore (A+B)(A+C) = A + BC')"
   ]
   }
,
{
		   "cell_type": "markdown",
		   "metadata": {},
		   "source": [
			"## Example 19.28: Boolean_Expression.sce"
		   ]
		  },
  {
"cell_type": "code",
	   "execution_count": null,
	   "metadata": {
	    "collapsed": true
	   },
	   "outputs": [],
"source": [
"//Ex19_28 Pg-998\n",
"clc\n",
"\n",
"disp('AB + A(B + C) + B(B + C)  = AB + AB + AC + BB + BC')\n",
"//using distributive law\n",
"disp('                          = AB + AC + B +BC      ')\n",
"//using law 6\n",
"disp('                          = AB + AC + B(1 + C)  ')\n",
"//taking common B from B + BC \n",
"disp('                          = AB + AC + B')\n",
"//using law 7 \n",
"disp('                          = B(A + 1) + AC')\n",
"//taking common B from AB + B\n",
"disp('                          = B + AC')\n",
"//using law 7\n",
"disp('Therefore AB + A(B + C) + B(B + C) = B + AC')"
   ]
   }
,
{
		   "cell_type": "markdown",
		   "metadata": {},
		   "source": [
			"## Example 19.2: Binary_to_Decimal.sce"
		   ]
		  },
  {
"cell_type": "code",
	   "execution_count": null,
	   "metadata": {
	    "collapsed": true
	   },
	   "outputs": [],
"source": [
"//Ex19_2 Pg-958\n",
"clc\n",
"\n",
"bin='11101'; //binary input\n",
"dec=bin2dec(bin) //decimal output\n",
"disp('The decimal equivqlent of 11101 is')\n",
"disp(dec)"
   ]
   }
,
{
		   "cell_type": "markdown",
		   "metadata": {},
		   "source": [
			"## Example 19.30: Boolean_Expression.sce"
		   ]
		  },
  {
"cell_type": "code",
	   "execution_count": null,
	   "metadata": {
	    "collapsed": true
	   },
	   "outputs": [],
"source": [
"//Ex19_30 Pg-998\n",
"clc\n",
"\n",
"// question in the textbook is wrong7 \n",
"disp('LHS : (A + B + C)(A + B + C) ')\n",
"disp('        = AA + AB + AC + BA + BB +BC + CA + CB + CC')\n",
"//using distributive law\n",
"disp('        = A + AB + AC + BA + B +BC + CA + CB + C')\n",
"//using law 6\n",
"disp('        = A + AB + AC +BC + CB + C')\n",
"//using law 5\n",
"disp('        = A(B + 1) + AC + B + C(B + 1)')\n",
"//taking A common from A+AB and C from CB+C\n",
"disp('        = A + AC + B + C')\n",
"//using law 3\n",
"disp('        = A + B + C(A + 1)')\n",
"//taking common C from AC+C\n",
"disp('        = A + B + C')\n",
"//using law 3\n",
"disp('Therefore (A'' + B + C)(A'' + B'' + C) = A'' + C')"
   ]
   }
,
{
		   "cell_type": "markdown",
		   "metadata": {},
		   "source": [
			"## Example 19.31: Boolean_Expression.sce"
		   ]
		  },
  {
"cell_type": "code",
	   "execution_count": null,
	   "metadata": {
	    "collapsed": true
	   },
	   "outputs": [],
"source": [
"//Ex19_31 Pg-999\n",
"clc\n",
"\n",
"disp('LHS : (A+ C)(A'' + B) ')\n",
"disp('         = AA'' + AB + CA'' + BC') //using distributive law\n",
"disp('         = 0 + AB + CA'' + BC') //using law 8\n",
"disp('         = AB + (A + A'')BC + CA''') //using law 7\n",
"disp('         = AB + ABC + A''BC + CA''') \n",
"//using distributive law\n",
"disp('         = AB + ABC + A''C(B + 1)') \n",
"//taking common A'C from A'BC + CA'\n",
"disp('         = AB + ABC + A''C') //using law 3\n",
"disp('         = AB(C + 1)+ A''C') \n",
"//taking common AB from AB + ABC\n",
"disp('         = AB + A''C') //using law 3\n",
"disp('Therefore (A+ C)(A'' + B) = AB + A''C')"
   ]
   }
,
{
		   "cell_type": "markdown",
		   "metadata": {},
		   "source": [
			"## Example 19.3: Binary_to_Decimal.sce"
		   ]
		  },
  {
"cell_type": "code",
	   "execution_count": null,
	   "metadata": {
	    "collapsed": true
	   },
	   "outputs": [],
"source": [
"//Ex19_3 Pg-958\n",
"clc\n",
"\n",
"a=1\n",
"b=0\n",
"c=1\n",
"dec=a*2^(-1)+b*2^(-2)+c*2^(-3) //decimal output\n",
"disp('The decimal equivqlent of 0.101 is')\n",
"disp(dec)"
   ]
   }
,
{
		   "cell_type": "markdown",
		   "metadata": {},
		   "source": [
			"## Example 19.4: Binary_to_Decimal.sce"
		   ]
		  },
  {
"cell_type": "code",
	   "execution_count": null,
	   "metadata": {
	    "collapsed": true
	   },
	   "outputs": [],
"source": [
"//Ex19_4 Pg-958\n",
"clc\n",
"\n",
"a=1\n",
"b=1\n",
"c=0\n",
"d=1\n",
"dec=a*2^(-1)+b*2^(-2)+c*2^(-3)+d*2^(-4) //decimal output\n",
"disp('The decimal equivqlent of 0.1101 is')\n",
"disp(dec)"
   ]
   }
,
{
		   "cell_type": "markdown",
		   "metadata": {},
		   "source": [
			"## Example 19.5: Binary_to_Decimal.sce"
		   ]
		  },
  {
"cell_type": "code",
	   "execution_count": null,
	   "metadata": {
	    "collapsed": true
	   },
	   "outputs": [],
"source": [
"//Ex19_5 Pg-958 \n",
"clc\n",
"\n",
"//Integer part\n",
"bin='10101'; //binary input\n",
"dec_I=bin2dec(bin) //decimal output\n",
"\n",
"//Decimal part\n",
"a=1\n",
"b=0\n",
"c=1\n",
"dec_D=a*2^(-1)+b*2^(-2)+c*2^(-3)\n",
"dec=dec_I+dec_D //decimal output\n",
"disp('The decimal equivqlent of 10101.101 is')\n",
"disp(dec)"
   ]
   }
,
{
		   "cell_type": "markdown",
		   "metadata": {},
		   "source": [
			"## Example 19.6: Decimal_to_Binary.sce"
		   ]
		  },
  {
"cell_type": "code",
	   "execution_count": null,
	   "metadata": {
	    "collapsed": true
	   },
	   "outputs": [],
"source": [
"//Ex19_6 Pg-959\n",
"clc\n",
"\n",
"dec=9 //decimal input\n",
"bin=dec2bin(dec) //binary output\n",
"disp('The binary equivalent of 9 is')\n",
"disp(bin)"
   ]
   }
,
{
		   "cell_type": "markdown",
		   "metadata": {},
		   "source": [
			"## Example 19.7: Decimal_to_Binary.sce"
		   ]
		  },
  {
"cell_type": "code",
	   "execution_count": null,
	   "metadata": {
	    "collapsed": true
	   },
	   "outputs": [],
"source": [
"//Ex19_7 Pg-959 \n",
"clc\n",
"\n",
"dec=31 //decimal input\n",
"bin=dec2bin(dec) //binary output\n",
"disp('The binary equivalent of 31 is')\n",
"disp(bin)"
   ]
   }
,
{
		   "cell_type": "markdown",
		   "metadata": {},
		   "source": [
			"## Example 19.8: Decimal_to_Binary.sce"
		   ]
		  },
  {
"cell_type": "code",
	   "execution_count": null,
	   "metadata": {
	    "collapsed": true
	   },
	   "outputs": [],
"source": [
"//Ex19_8 Pg-959 \n",
"clc\n",
"\n",
"dec=13 //decimal input\n",
"bin=dec2bin(dec) //binary output\n",
"disp('The binary equivalent of 13 is')\n",
"disp(bin)"
   ]
   }
,
{
		   "cell_type": "markdown",
		   "metadata": {},
		   "source": [
			"## Example 19.9: Decimal_to_Binary.sce"
		   ]
		  },
  {
"cell_type": "code",
	   "execution_count": null,
	   "metadata": {
	    "collapsed": true
	   },
	   "outputs": [],
"source": [
"//Ex19_9 Pg-960\n",
"clc\n",
"disp('Conversion of decimal number 31.65 base to its binary equivalent ')\n",
"a=31.65;\n",
"z=modulo(a,1)\n",
"x=floor(a);//separating the decimal from the integer part\n",
"b=0;\n",
"c=0;\n",
"d=0;\n",
"while(x>0)  //taking integer part into a matrix and convert to equivalent binary\n",
"y=modulo(x,2);\n",
"b=b+(10^c)*y;\n",
"x=x/2;\n",
"x=floor(x);\n",
"c=c+1;\n",
"end\n",
"for i=1:10;//converting the values after the decimal point into binary\n",
"    z=z*2;\n",
"    q=floor(z);\n",
"    d=d+q/(10^i);\n",
"    if z>=1 then\n",
"        z=z-1;\n",
"    end\n",
"end\n",
"s=b+d;\n",
"printf('\n               =%.6f',s);"
   ]
   }
],
"metadata": {
		  "kernelspec": {
		   "display_name": "Scilab",
		   "language": "scilab",
		   "name": "scilab"
		  },
		  "language_info": {
		   "file_extension": ".sce",
		   "help_links": [
			{
			 "text": "MetaKernel Magics",
			 "url": "https://github.com/calysto/metakernel/blob/master/metakernel/magics/README.md"
			}
		   ],
		   "mimetype": "text/x-octave",
		   "name": "scilab",
		   "version": "0.7.1"
		  }
		 },
		 "nbformat": 4,
		 "nbformat_minor": 0
}
