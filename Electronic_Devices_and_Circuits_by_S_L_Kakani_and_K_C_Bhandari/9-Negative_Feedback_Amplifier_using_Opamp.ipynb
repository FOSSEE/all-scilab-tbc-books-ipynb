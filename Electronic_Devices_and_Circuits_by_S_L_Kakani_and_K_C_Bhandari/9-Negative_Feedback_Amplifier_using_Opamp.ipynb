{
"cells": [
 {
		   "cell_type": "markdown",
	   "metadata": {},
	   "source": [
       "# Chapter 9: Negative Feedback Amplifier using Opamp"
	   ]
	},
{
		   "cell_type": "markdown",
		   "metadata": {},
		   "source": [
			"## Example 9.1: VCVS_Amplifier.sce"
		   ]
		  },
  {
"cell_type": "code",
	   "execution_count": null,
	   "metadata": {
	    "collapsed": true
	   },
	   "outputs": [],
"source": [
"//Ex9_1 Pg-475\n",
"clc\n",
"\n",
"Aol= 250000 //open loop gain\n",
"fol=160 //open loop frequency in HZ\n",
"Acl=50 //close loop gain\n",
"\n",
"fcl=Aol/Acl*fol //close loop frequency in Hz\n",
"printf('Close loop Bandwidth = %.0f kHz',fcl*10^-3) "
   ]
   }
,
{
		   "cell_type": "markdown",
		   "metadata": {},
		   "source": [
			"## Example 9.2: ICVS_Amplifier.sce"
		   ]
		  },
  {
"cell_type": "code",
	   "execution_count": null,
	   "metadata": {
	    "collapsed": true
	   },
	   "outputs": [],
"source": [
"//Ex9_2 Pg-475\n",
"clc\n",
"\n",
"Aol= 50000 //open loop gain\n",
"fol=14 //open loop frequency in HZ\n",
"fcl=(Aol+1)*fol //close loop frequency in Hz\n",
"printf('Close loop Bandwidth = %.0f kHz',fcl*10^-3)"
   ]
   }
,
{
		   "cell_type": "markdown",
		   "metadata": {},
		   "source": [
			"## Example 9.3: ICIS_Amplifier.sce"
		   ]
		  },
  {
"cell_type": "code",
	   "execution_count": null,
	   "metadata": {
	    "collapsed": true
	   },
	   "outputs": [],
"source": [
"//Ex9_3 Pg-475\n",
"clc\n",
"\n",
"Aol_Beta_1= 2500 //open loop gain\n",
"fol=20 //open loop frequency in HZ\n",
"fcl=Aol_Beta_1*fol //close loop frequency in Hz\n",
"printf('Close loop Bandwidth = %.0f kHz',fcl*10^-3)"
   ]
   }
,
{
		   "cell_type": "markdown",
		   "metadata": {},
		   "source": [
			"## Example 9.4: VCVS_Amplifier.sce"
		   ]
		  },
  {
"cell_type": "code",
	   "execution_count": null,
	   "metadata": {
	    "collapsed": true
	   },
	   "outputs": [],
"source": [
"//Ex9_4 Pg-475\n",
"clc\n",
"\n",
"funi=1*10^(6) //unity frequency in Hz\n",
"Sr=0.5/10^(-6) //slew rate in V/sec\n",
"Acl=10 //close loop gain\n",
"\n",
"fcl=funi/Acl //close loop frequency in Hz\n",
"printf('(1) Close loop Bandwidth = %.0f kHz \n',fcl*10^-3)\n",
"\n",
"Vp_max=Sr/(2*%pi*fcl) //output peak value\n",
"printf(' (2) Peak value of output = %.3f V \n',Vp_max)"
   ]
   }
,
{
		   "cell_type": "markdown",
		   "metadata": {},
		   "source": [
			"## Example 9.5: VCVS_Amplifier.sce"
		   ]
		  },
  {
"cell_type": "code",
	   "execution_count": null,
	   "metadata": {
	    "collapsed": true
	   },
	   "outputs": [],
"source": [
"//Ex9_5 Pg-475\n",
"clc\n",
"\n",
"Aol= 88 //open loop gain in db\n",
"R1=2.7*10^(3) //resistor R1 in ohm\n",
"R2=68*10^(3) //resistor R2 in ohm\n",
"\n",
"Beta=R1/(R1+R2) //Feedback fraction\n",
"printf('Feedback fraction = %.3f \n',Beta)\n",
"\n",
"Acl=1/Beta //ideal closed loop gain\n",
"printf(' Ideal closed loop gain = %.2f \n',Acl)\n",
"\n",
"Aol=10^(88/20) //open loop gain\n",
"Acl=Aol/(1+Beta*Aol) //exact closed loop voltage gain\n",
"printf(' Exact closed loop voltage gain = %.2f',Acl)"
   ]
   }
,
{
		   "cell_type": "markdown",
		   "metadata": {},
		   "source": [
			"## Example 9.6: VCVS_Amplifier.sce"
		   ]
		  },
  {
"cell_type": "code",
	   "execution_count": null,
	   "metadata": {
	    "collapsed": true
	   },
	   "outputs": [],
"source": [
"//Ex9_6 Pg-476\n",
"clc\n",
"\n",
"Aol=20000 //open loop gain\n",
"R1=100 //resistor R1 in ohm\n",
"R2=7.5*10^(3) //resistor R2 in ohm\n",
"Rin=3*10^(6) //input resistor in ohm\n",
"Rcm=500*10^(6) \n",
"\n",
"Beta=R1/(R1+R2) //Feedback fraction\n",
"printf('Feedback fraction = 1\\76 = %.5f \n',Beta)\n",
"\n",
"Req=(Rin*Rcm)/(Rin+Rcm) //equivalent resistance of Rin and Rcm\n",
"Zcl=(1+Beta*Aol)*Req //closed loop input impedance (textbook answer is wrong)\n",
"printf(' Closed loop input impedance = %.0f Mohm',Zcl*10^-6)"
   ]
   }
,
{
		   "cell_type": "markdown",
		   "metadata": {},
		   "source": [
			"## Example 9.7: ICIS_Amplifier.sce"
		   ]
		  },
  {
"cell_type": "code",
	   "execution_count": null,
	   "metadata": {
	    "collapsed": true
	   },
	   "outputs": [],
"source": [
"//Ex9_7 Pg-477\n",
"clc\n",
"\n",
"R1=1.8 //resistor R1 in ohm\n",
"R2=1.5*10^(3) //resistor R2 in ohm\n",
"Iin=1*10^(-3) //input current in A\n",
"\n",
"Ai=1+(R2/R1) //Current gain\n",
"printf('Current gain = %.0f \n',Ai)\n",
"\n",
"Il=Ai*Iin //Output current\n",
"printf(' Output current = %.0f mA pp',Il*10^3)"
   ]
   }
,
{
		   "cell_type": "markdown",
		   "metadata": {},
		   "source": [
			"## Example 9.8: VCIS_Amplifier.sce"
		   ]
		  },
  {
"cell_type": "code",
	   "execution_count": null,
	   "metadata": {
	    "collapsed": true
	   },
	   "outputs": [],
"source": [
"//Ex9_8 Pg-477\n",
"clc\n",
"\n",
"R1=2.7 //resistor R1 in ohm\n",
"R2=1//resistor R2 in ohm\n",
"Vin=0.5 //input voltage in V\n",
"\n",
"Io=Vin/R1 //output current\n",
"printf('(1) Output current = %.0f mA \n',Io*10^3)\n",
"\n",
"P=Io^2*R2 //load power\n",
"printf(' (2) Load power = %.1f mW \n',P*10^3)\n",
"\n",
"R2=2 // new load resistor R2 in ohm\n",
"P=Io^2*R2 //load power\n",
"printf(' (2) Load power = %.1f mW',P*10^3)"
   ]
   }
],
"metadata": {
		  "kernelspec": {
		   "display_name": "Scilab",
		   "language": "scilab",
		   "name": "scilab"
		  },
		  "language_info": {
		   "file_extension": ".sce",
		   "help_links": [
			{
			 "text": "MetaKernel Magics",
			 "url": "https://github.com/calysto/metakernel/blob/master/metakernel/magics/README.md"
			}
		   ],
		   "mimetype": "text/x-octave",
		   "name": "scilab",
		   "version": "0.7.1"
		  }
		 },
		 "nbformat": 4,
		 "nbformat_minor": 0
}
