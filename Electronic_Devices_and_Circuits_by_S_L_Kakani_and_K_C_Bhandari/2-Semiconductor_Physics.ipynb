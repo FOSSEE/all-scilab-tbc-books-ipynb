{
"cells": [
 {
		   "cell_type": "markdown",
	   "metadata": {},
	   "source": [
       "# Chapter 2: Semiconductor Physics"
	   ]
	},
{
		   "cell_type": "markdown",
		   "metadata": {},
		   "source": [
			"## Example 2.10: Hall_Voltage.sce"
		   ]
		  },
  {
"cell_type": "code",
	   "execution_count": null,
	   "metadata": {
	    "collapsed": true
	   },
	   "outputs": [],
"source": [
"//Ex2_10 Pg-91\n",
"clc\n",
"\n",
"e=1.6*10^(-19) //electron charge\n",
"un=700 //mobility of silicon\n",
"n=10^17 //concentration of phosphorous atoms\n",
"sigma=e*un*n //conductivity\n",
"printf('Conductivity = %.1f (ohm-cm)^-1',sigma)\n",
"res=sigma^(-1) //resistivity\n",
"printf('\n Resistivity = %.4f ohm-cm',res)\n",
"Rh=-(e*n)^(-1) //hall coefficient\n",
"printf('\n Hall coefficient = %.1f cm^3/C',Rh)\n",
"Ix=10^-3 \n",
"Bz=10^(-5) \n",
"x=10^(-2)\n",
"Vh=(Ix*Bz*Rh)/x\n",
"printf('\n Hall Volage = %.1f uV',Vh*10^6)"
   ]
   }
,
{
		   "cell_type": "markdown",
		   "metadata": {},
		   "source": [
			"## Example 2.11: Hall_Effect_Experiment.sce"
		   ]
		  },
  {
"cell_type": "code",
	   "execution_count": null,
	   "metadata": {
	    "collapsed": true
	   },
	   "outputs": [],
"source": [
"//Ex2_11 Pg-91\n",
"clc\n",
"\n",
"disp('(a) Hall coefficient is')\n",
"disp('      Rh = Eh/(Jx*B)')\n",
"Vh=21.4*10^(-3) //hall voltage\n",
"b=1.7*10^(-2) //breadth\n",
"Eh=Vh/b //electric field\n",
"t=0.052*10^(-3) //thickness\n",
"I=200*10^(-6) //current\n",
"Jx=I/(b*t) //current density\n",
"B=0.5 //magnetic field\n",
"Rh=Eh/(Jx*B)\n",
"printf('\n Hall coefficient = %.6f m^3/C \n\n',Rh)\n",
"\n",
"disp('(b) Electrons per unit volume,')\n",
"e=1.6*10^(-19) //electron charge\n",
"n=1/(Rh*e) //electrons per unit volume\n",
"printf('\n\n Electrons per unit volume = %.0f electrons/m^3 \n\n',n)\n",
"V=195*10^(-3) //voltage\n",
"I=200*10^(-6) //current  \n",
"R=V/I //resistance\n",
"disp('Since R=(l/(A*sigma) = (l/(A*e*n*R))')\n",
"l=2.65*10^(-2) //length\n",
"w=1.7*10^(-2) //width\n",
"t=0.052*10^(-3) //thicknes\n",
"A=t*w //area\n",
"sigma=l/(A*e*n*R) //conductivity\n",
"printf('\n\n Conductivity = %.3f m^3/Vs',sigma)"
   ]
   }
,
{
		   "cell_type": "markdown",
		   "metadata": {},
		   "source": [
			"## Example 2.12: Wavelength_of_Electromagnetic_Radiation.sce"
		   ]
		  },
  {
"cell_type": "code",
	   "execution_count": null,
	   "metadata": {
	    "collapsed": true
	   },
	   "outputs": [],
"source": [
"//Ex2_12 Pg-92\n",
"clc\n",
"\n",
"C=3*10^8 //speed of light in m/s\n",
"h=6.6*10^(-34) //plank's constant in J\n",
"Eg=1.98*1.6*10^(-19) //band gap\n",
"lamda=(C*h)/Eg //wavelength\n",
"printf('Wavelength = %.0f nm \n',lamda*10^9)\n",
"disp('     Since lamda is in the red region of the visible light and hence the colour of emitted radiation is RED')"
   ]
   }
,
{
		   "cell_type": "markdown",
		   "metadata": {},
		   "source": [
			"## Example 2.1: Conductivity_and_Resistivity.sce"
		   ]
		  },
  {
"cell_type": "code",
	   "execution_count": null,
	   "metadata": {
	    "collapsed": true
	   },
	   "outputs": [],
"source": [
"//Ex2_1 Pg-87\n",
"clc\n",
"disp('Conductivity of pure silicon crystal is given by')\n",
"disp('   sigma = ni*e*(ue + uh)')\n",
"uh=480 //mobility in cm^2/Volt-sec\n",
"ue=1350 //mobility of electrons in cm^2/Volt-sec\n",
"e=1.6*10^(-19) //electron charge\n",
"ni=1.072*10^10 //density of electron hole\n",
"sigma_i=ni*e*(uh+ue) //conductivity of silicon\n",
"printf('\n Conductivity of pure silicon crystal = %.8f ohm^(-1)/cm \n',sigma_i)\n",
"disp('Resistivity of silicon is given by')\n",
"rho=1/sigma_i //resistivity of silicon\n",
"printf('\n Resistivity of pure silicon crystal = %.0f ohm-cm \n',rho)"
   ]
   }
,
{
		   "cell_type": "markdown",
		   "metadata": {},
		   "source": [
			"## Example 2.2: Resistivity.sce"
		   ]
		  },
  {
"cell_type": "code",
	   "execution_count": null,
	   "metadata": {
	    "collapsed": true
	   },
	   "outputs": [],
"source": [
"//Ex2_2 Pg-87\n",
"clc\n",
"disp('sigma = u*e*n')\n",
"u=1200 //mobility\n",
"e=1.6*10^(-19) //electron charge\n",
"n=10^13 //phosphorous concentration\n",
"sigma=u*e*n //conductivity \n",
"printf('\n Conductivity of pure silicon crystal = %.5f ohm^(-1)/cm \n',sigma)\n",
"rho=1/sigma //resistivity\n",
"printf('\n Resistivity of pure phosphorous = %.0f ohm-cm \n',rho)"
   ]
   }
,
{
		   "cell_type": "markdown",
		   "metadata": {},
		   "source": [
			"## Example 2.3: Resistance.sce"
		   ]
		  },
  {
"cell_type": "code",
	   "execution_count": null,
	   "metadata": {
	    "collapsed": true
	   },
	   "outputs": [],
"source": [
"//Ex2_4 Pg-88\n",
"clc\n",
"disp('(n_i)^2 = n*p = n_p*N_a')\n",
"ni=2.5*10^19 //density of electron hole\n",
"Na=1.1*10^20 //acceptor density\n",
"np=(ni^2)/Na\n",
"N=np/ni \n",
"printf('\n The ratio of n_p/n_i = %.4f',N)"
   ]
   }
,
{
		   "cell_type": "markdown",
		   "metadata": {},
		   "source": [
			"## Example 2.4: Density_Ratio.sce"
		   ]
		  },
  {
"cell_type": "code",
	   "execution_count": null,
	   "metadata": {
	    "collapsed": true
	   },
	   "outputs": [],
"source": [
"//Ex2_4 Pg-88\n",
"clc\n",
"clear\n",
"\n",
"disp('(n_i)^2 = n*p = n_p*N_a')\n",
"ni=2.5*10^19 //density of electron hole per m^3\n",
"Na=1.1*10^20 //acceptor density in atoms/m^3\n",
"np=(ni^2)/Na //number of holes \n",
"N=np/ni //The ratio of np/ni\n",
"printf('\n The ratio of n_p/n_i = %.2f',N)"
   ]
   }
,
{
		   "cell_type": "markdown",
		   "metadata": {},
		   "source": [
			"## Example 2.5: Number_Density_of_Donor_Atoms.sce"
		   ]
		  },
  {
"cell_type": "code",
	   "execution_count": null,
	   "metadata": {
	    "collapsed": true
	   },
	   "outputs": [],
"source": [
"//Ex2_5 Pg-88\n",
"clc\n",
"disp('sigma_n = u_n*e*N_d')\n",
"e=1.6*1e-19 //electron charge\n",
"sigma=5 //conductivity in mho/cm\n",
"un=3850 //mobility of electrons\n",
"Nd=sigma/(e*un) //concentration\n",
"printf('Number density of donor atoms = %.1f*1e16 per cm^3',Nd*1e-16)\n",
"//the answer in the book is wrong the correct answer is 0.8*1e16 per cm^3"
   ]
   }
,
{
		   "cell_type": "markdown",
		   "metadata": {},
		   "source": [
			"## Example 2.6: Silicon_and_Germanium_Semiconductors.sce"
		   ]
		  },
  {
"cell_type": "code",
	   "execution_count": null,
	   "metadata": {
	    "collapsed": true
	   },
	   "outputs": [],
"source": [
"//Ex2_6 Pg-88\n",
"clc\n",
"printf('We know forbidden energy gap between conduction and valence \n bands for a semiconductor is nearly 1 eV. For Ge and Si,energy \n gap is 0.785 eV and  1.21 eV respectively at 0K. Energy gap \n decreases with increase in temperature which is represented \n by the expression . Obviously, Si and Ge will remain \n semiconductors at 1000K ambient temperature. \n\n')\n",
"\n",
"disp('Eg(T) = 1.21 - 3.6*10^(-4)*T (For Si)')\n",
"T=1000 //temperature\n",
"Eg(T) = 1.21 - 3.6*10^(-4)*T\n",
"printf('\n Eg(1000) = 1.21 - 3.6*10^(-4)*1000 = %.2f eV',Eg(T))"
   ]
   }
,
{
		   "cell_type": "markdown",
		   "metadata": {},
		   "source": [
			"## Example 2.7: Average_Relaxation_Time.sce"
		   ]
		  },
  {
"cell_type": "code",
	   "execution_count": null,
	   "metadata": {
	    "collapsed": true
	   },
	   "outputs": [],
"source": [
"//Ex2_7 Pg-88\n",
"clc\n",
"disp('Relaxation time in terms of mobility is given by')\n",
"disp('        t=m*u/e')\n",
"printf('\n\n Taking effective mass of electron an holes in consideration,\n relaxation time is given by \n')\n",
"disp('        t=m_star*u/e')\n",
"disp('(a) foe electrons,m_star = 0.259*m_0')\n",
"m0=9.1*10^(-31) \n",
"ue=0.135 //mobility of electrons\n",
"e=1.6*10^(-19) //electron charge\n",
"t_e=(0.259*m0*ue)/e\n",
"printf('\n Average relaxation time of eletrons = %.2f*1e-13 secs\n ',t_e*1e13)\n",
"\n",
"uh=0.048 //mobility of holes\n",
"disp('(b) For holes in the valance band,m=0.537*m_0')\n",
"t_h=(0.537*m0*uh)/e\n",
"printf('\n Average relaxation time of eletrons = %.2f*1e-13 secs\n ',t_h*1e13)"
   ]
   }
,
{
		   "cell_type": "markdown",
		   "metadata": {},
		   "source": [
			"## Example 2.8: Conduction_Current_Density.sce"
		   ]
		  },
  {
"cell_type": "code",
	   "execution_count": null,
	   "metadata": {
	    "collapsed": true
	   },
	   "outputs": [],
"source": [
"//Ex2_8 Pg-89\n",
"clc\n",
"\n",
"disp('Conductivity of an intrinsic material is given by ')\n",
"disp('     sigma = e*ni*un*(1+up/un)')\n",
"sigma_i=100/60 \n",
"ni=2.5*10^19 //concentration of intrinsic carrier in m^3\n",
"up_un=0.5\n",
"e=1.6*10^(-19) //electron charge\n",
"un=(sigma_i/(e*ni*(1+(up_un)))) //concentration of electrons\n",
"up=un/2 //holes concentratin\n",
"\n",
"disp('     Let n be eletron concentration and p be hole con-centration for doped sample. Sincethe sample is electrically neutral,we have')\n",
"disp('          Nd + p = Na + n')\n",
"disp('   Where Nd is donor concentration and Na is acceptor concentration,assumed to be fully ionized. From mass action law,we have np =ni^2*S0')\n",
"disp('          Nd + (ni^2)/n = Na + n')\n",
"disp('or        n^2 + (Na-Nd)*n-ni^2 = 0')\n",
"disp('or        n=0.5*([Nd-N])(+/-) sqrt(Nd-Na)^2 + 4*ni^2)')\n",
"disp('   n is positive and hence we can drop negative sign before the radical')\n",
"\n",
"Nd=10^20 //number density of donor atoms /m^3\n",
"Na=5*10^19 //number of acceptor atoms in /m^3\n",
"n=0.5*((Nd-Na)+ sqrt((Nd-Na)^2 + 4*ni^2)) //electron concentration for doped sample\n",
"p=ni^2/n //hole concentration for doped sample\n",
"conduct_doped=e*(n*un+p*up) //conductivity of doped sample(value in textbook is wrong)\n",
"printf('\n Conductivity of doped sample = %.2f S/m \n',conduct_doped)\n",
"\n",
"disp('     We have assumed that carrier mobilities in the doped signal sample are the same as those in the intrinsic material.This assumption is justified by the low doping level, and Coulomb scaterring Applied by the ionized impurities is weak at 300K.')\n",
"disp('Applied electric field')\n",
"\n",
"F_cm=2 //applied electric field in V/cm\n",
"F_m=2*100 //applied electric field in V/m\n",
"J=conduct_doped*F_m //total conduction current density\n",
"J_cm=J/1000 //cm^2 to m^2s\n",
"\n",
"printf('Total conduction current density = %.0f A/m^2',J) \n",
"printf('\n                               = %.2f A/cm^2',J_cm)"
   ]
   }
,
{
		   "cell_type": "markdown",
		   "metadata": {},
		   "source": [
			"## Example 2.9: Number_of_Mobile_Carriers_Derivatio.sce"
		   ]
		  },
  {
"cell_type": "code",
	   "execution_count": null,
	   "metadata": {
	    "collapsed": true
	   },
	   "outputs": [],
"source": [
"//Ex2_9 Pg-91\n",
"clc\n",
"\n",
"disp('For P-type,Nd=0. By charge neutrality and mass action law,')\n",
"\n",
"disp('      p + Nd = p = +na = (ni)^2/n')\n",
"\n",
"disp('or    n^2 + Na*n - (ni)^2 = 0')\n",
"\n",
"disp('Solving the quadratic equation for n and discharging the extraneous negative root,one obtains')\n",
"\n",
"disp('      n = 0.5*(-Na + sqrt(Na^2 + 4*ni^2))')\n",
"\n",
"disp('Knowing n,one obtains from mass action law p = ni^2/n')\n",
"\n",
"disp('For N-type doping,Na=0. By analogous procedure,')\n",
"\n",
"disp('      p = 0.5*(-Nd +sqrt(Nd^2 + 4*Ni^2));  n=ni^2/p')"
   ]
   }
],
"metadata": {
		  "kernelspec": {
		   "display_name": "Scilab",
		   "language": "scilab",
		   "name": "scilab"
		  },
		  "language_info": {
		   "file_extension": ".sce",
		   "help_links": [
			{
			 "text": "MetaKernel Magics",
			 "url": "https://github.com/calysto/metakernel/blob/master/metakernel/magics/README.md"
			}
		   ],
		   "mimetype": "text/x-octave",
		   "name": "scilab",
		   "version": "0.7.1"
		  }
		 },
		 "nbformat": 4,
		 "nbformat_minor": 0
}
