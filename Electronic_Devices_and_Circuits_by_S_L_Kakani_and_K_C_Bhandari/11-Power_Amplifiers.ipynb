{
"cells": [
 {
		   "cell_type": "markdown",
	   "metadata": {},
	   "source": [
       "# Chapter 11: Power Amplifiers"
	   ]
	},
{
		   "cell_type": "markdown",
		   "metadata": {},
		   "source": [
			"## Example 11.1: RC_Coupled_Amplifier.sce"
		   ]
		  },
  {
"cell_type": "code",
	   "execution_count": null,
	   "metadata": {
	    "collapsed": true
	   },
	   "outputs": [],
"source": [
"//Ex11_1 Pg-536\n",
"clc\n",
"\n",
"Vcc=15 //supply voltage in V\n",
"R1=2*10^(3) //resistor R1 in ohm\n",
"R2=470 //resistor R2 in ohm\n",
"Rc=680 //collector resistor in ohm\n",
"Rl=2.7*10^(3) //load resistor in ohm\n",
"Re=220 //emitter resistor\n",
"\n",
"Idc=Vcc/(Rc+Re) //saturation current\n",
"printf('(1) Idc_sat = %.1f mA \n',Idc*1e3) \n",
"\n",
"DCload=Rc //Dc load resistance\n",
"printf(' (2) DC load = %.0f ohm \n',DCload)\n",
"\n",
"ACload=Rc*Rl/(Rc+Rl) //Ac load resistance \n",
"printf(' (3) AC load = %.0f ohm \n',ACload)\n",
"\n",
"Vb=R2/(R1+R2)*Vcc //base voltage\n",
"Icq=(Vb-0.7)/Re //collector current\n",
"printf('(4) Icq = %.1f mA \n',Icq*1e3)\n",
"//answer in the book is wrong\n",
"\n",
"Vc=Vcc-Icq*Rc //collector emitter voltage\n",
"Vceq=Vc-Icq*Re\n",
"printf('(5) Vceq = %.1f V \n',Vceq)\n",
"//answer in the book is wrong\n",
"\n",
"Pac=Vcc^2/(8*Rl) //ac power\n",
"Pdc=Vcc*Idc //dc power\n",
"n=Pac/Pdc*100 //efficiency\n",
"printf(' Efiiciency = %.0f %%',n)"
   ]
   }
,
{
		   "cell_type": "markdown",
		   "metadata": {},
		   "source": [
			"## Example 11.2: Class_B_Transformer_Coupled_Amplifier.sce"
		   ]
		  },
  {
"cell_type": "code",
	   "execution_count": null,
	   "metadata": {
	    "collapsed": true
	   },
	   "outputs": [],
"source": [
"//Ex11_2 Pg-551\n",
"clc\n",
"\n",
"Po=4 //power in watts\n",
"n=80/100 //transformer efficiency in percentage\n",
"Vcc=30 //supply voltage\n",
"\n",
"Pout=Po/n //effective power \n",
"printf('Effective power to be transfered = %.0f W\n',Pout)\n",
"\n",
"disp('Impedance seen when ''looking into'' the whole winding of centertapped transformer ')\n",
"Vp=Vcc //peak voltage\n",
"Rload=Vp^2/(2*Pout) \n",
"Rload_4=4*Rload //effective load\n",
"printf('\n Effective load = %.0f ohm \n',Rload_4)\n",
"\n",
"disp('Transformer specification Po=4W,RL=16ohm,RL''=360ohm')\n",
"\n",
"Vce=2*Vcc //Maximum transistor voltage\n",
"printf('\n Maximum transistor voltage = %.0f V\n',Vce)\n",
"\n",
"Ip=2*Pout/Vp //Maximum transistor current\n",
"Ic=Ip\n",
"printf('\n Maximum transistor current = %.0f mA \n',Ip*1e3)\n",
"// answer in the book is different due to approximate value\n",
"printf('\n Transformer specification Vce=60V,Ic=%.0f mA',Ic*1e3)\n",
"// answer in the book is different  due to approximate value "
   ]
   }
,
{
		   "cell_type": "markdown",
		   "metadata": {},
		   "source": [
			"## Example 11.3: Tuned_Amplifier.sce"
		   ]
		  },
  {
"cell_type": "code",
	   "execution_count": null,
	   "metadata": {
	    "collapsed": true
	   },
	   "outputs": [],
"source": [
"//Ex11_3 Pg-564\n",
"clc\n",
"\n",
"L=2*10^(-6) //inductance in H\n",
"C=220*10^(-12) //capacitance in F\n",
"\n",
"f0=1/(2*%pi*sqrt(L*C)) //resonant frequency (textbook answer is wrong)\n",
"printf('Resonant frequency = %.1f MHz \n',f0*1e-6)\n",
"\n",
"Q=125 //quality factor\n",
"BW=f0/Q //Bandwidth (textbook answer is wrong)\n",
"printf(' Bandwidth = %.0f kHz',BW*1e-3)"
   ]
   }
,
{
		   "cell_type": "markdown",
		   "metadata": {},
		   "source": [
			"## Example 11.4: RC_Coupled_Amplifier.sce"
		   ]
		  },
  {
"cell_type": "code",
	   "execution_count": null,
	   "metadata": {
	    "collapsed": true
	   },
	   "outputs": [],
"source": [
"//Ex11_4 Pg-564\n",
"clc\n",
"\n",
"Vcc=10 //supply volage in V\n",
"Rc=3600 //collector resistor in ohm\n",
"Re=680 //emitter resistor in ohm\n",
"Ri=10000 //input resistor in ohm\n",
"R2=2.2 //resistor R2 in ohm\n",
"R1=10 //resistor R1 in ohm\n",
"\n",
"Vb=R2/(R1+R2)*Vcc //bias voltage \n",
"printf('(1) Bias voltage = %.1f V \n',Vb)\n",
"\n",
"Ie=(Vb-0.7)/Re //emitter current\n",
"printf(' Emitter current = %.2f mA\n',Ie*1e3)\n",
"\n",
"Vc=Vcc-Rc*Ie //Dc collector voltage\n",
"printf(' DC collector voltage = %.2f V\n',Vc)\n",
"\n",
"Vceq=Vc-Ie*Re //DC collector to emitter voltage\n",
"printf(' DC collector to emitter voltage = %.2f V\n',Vceq)\n",
"\n",
"Pd=Vceq*Ie //power dissipation\n",
"printf(' Power dissipation = %.2f mW\n',Pd*1e3)\n",
"\n",
"printf('\n(2)If collector resistance Rc is replaced by tank circuit \n there is no voltage drop across it. \n')\n",
"Vc=Vcc\n",
"printf(' DC collector voltage = %.0f V\n',Vc)\n",
"\n",
"Vceq=Vc-Ie*Re //DC collector to emitter voltage\n",
"printf(' DC collector to emitter voltage = %.2f V\n',Vceq)\n",
"\n",
"Pd=Vceq*Ie //power dissipation\n",
"printf(' Power dissipation = %.2f mW\n',Pd*1e3)"
   ]
   }
,
{
		   "cell_type": "markdown",
		   "metadata": {},
		   "source": [
			"## Example 11.5: Class_C_Tuned_Amplfier.sce"
		   ]
		  },
  {
"cell_type": "code",
	   "execution_count": null,
	   "metadata": {
	    "collapsed": true
	   },
	   "outputs": [],
"source": [
"//Ex11_5 Pg-565\n",
"clc\n",
"\n",
"Vin=5 //input voltage\n",
"Vp=Vin*sqrt(2) //peak voltage\n",
"printf('The peak value(maximum amplication) of input signal \n')\n",
"printf('                            = %.2f V',Vp)\n",
"\n",
"Vin_pp=2*Vp //peak-to-peak value of input voltage\n",
"printf('\n Peak-to-peak value of input voltage \n')\n",
"printf('                            = %.2f V',Vin_pp)\n",
"\n",
"Vbg=-1*(Vp-0.7) //base to ground voltage 0.7 is the voltage drop\n",
"printf('\n Base to ground voltage = %.2f',Vbg)"
   ]
   }
],
"metadata": {
		  "kernelspec": {
		   "display_name": "Scilab",
		   "language": "scilab",
		   "name": "scilab"
		  },
		  "language_info": {
		   "file_extension": ".sce",
		   "help_links": [
			{
			 "text": "MetaKernel Magics",
			 "url": "https://github.com/calysto/metakernel/blob/master/metakernel/magics/README.md"
			}
		   ],
		   "mimetype": "text/x-octave",
		   "name": "scilab",
		   "version": "0.7.1"
		  }
		 },
		 "nbformat": 4,
		 "nbformat_minor": 0
}
