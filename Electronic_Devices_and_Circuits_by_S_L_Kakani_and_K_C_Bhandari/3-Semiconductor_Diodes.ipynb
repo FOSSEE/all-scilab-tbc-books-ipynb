{
"cells": [
 {
		   "cell_type": "markdown",
	   "metadata": {},
	   "source": [
       "# Chapter 3: Semiconductor Diodes"
	   ]
	},
{
		   "cell_type": "markdown",
		   "metadata": {},
		   "source": [
			"## Example 3.10: Voltage_across_Junction.sce"
		   ]
		  },
  {
"cell_type": "code",
	   "execution_count": null,
	   "metadata": {
	    "collapsed": true
	   },
	   "outputs": [],
"source": [
"//Ex3_10 Pg-186\n",
"clc\n",
"\n",
" disp('We know that         I = I0*(exp(V/n*Vt)-1)')\n",
" disp('Dividing on both sides by area A, one obtains')\n",
" disp('             I/A = I0/A*(exp(V/n*Vt)-1)')\n",
" disp('or           J = J0*(exp(V/n*Vt)-1)')\n",
"n=1 //constant\n",
"T=300 //temperature in K\n",
"Vt=T/11600\n",
"J=10^5 //forward current density\n",
"J0=250*10^(-3) //saturation current density \n",
"V=Vt*log(J/J0)\n",
"printf('\n The voltage applied across the junction =%.4f V',V)"
   ]
   }
,
{
		   "cell_type": "markdown",
		   "metadata": {},
		   "source": [
			"## Example 3.11: Value_of_Resistance_and_Power_Dissipation.sce"
		   ]
		  },
  {
"cell_type": "code",
	   "execution_count": null,
	   "metadata": {
	    "collapsed": true
	   },
	   "outputs": [],
"source": [
"//Ex3_11 Pg-186\n",
"clc\n",
"\n",
"Vmin=0.7 //minimum voltage across diode in V\n",
"V=5 //supply voltage in V\n",
"V_R1=V-Vmin //voltage across resistor R in V\n",
"Imin=10^(-3) //minimum current\n",
"R1=V_R1/Imin \n",
"\n",
"printf('Maximum value of R =%.1f kohm \n ',R1*1e-3)\n",
"\n",
"I=5*10^(-3) //current through resistance in A\n",
"V_R2=V-Vmin //voltage across resistor R in V\n",
"R2=V_R2/I\n",
"printf('\n\n Minimum value of R =%.0f ohm ',R2)\n",
"\n",
"Vb=6 //supply voltage\n",
"Vb_res=Vb-Vmin //voltage across resistor\n",
"P=I*Vb_res //power dissipated across resistor\n",
"printf('\n\n Power dissipated across R =%.1f W',P*10^3)\n",
"\n",
"P_diode=I*Vmin //power dissipated across diode\n",
"printf('\n power dissipated across diode =%.1f mW',P_diode*1e3)\n",
"R=10^3 //resistor in ohm\n",
"V_R=R*Imin //voltage drop across resistor R in V\n",
"Vb=V_R+Vmin \n",
"printf('\n\n The minimum voltage across diode = %.1f V',Vb)"
   ]
   }
,
{
		   "cell_type": "markdown",
		   "metadata": {},
		   "source": [
			"## Example 3.12: DC_Resistance.sce"
		   ]
		  },
  {
"cell_type": "code",
	   "execution_count": null,
	   "metadata": {
	    "collapsed": true
	   },
	   "outputs": [],
"source": [
"//Ex3_12 Pg-188\n",
"clc\n",
"\n",
"disp('Refer to the figure 3.51')\n",
"Id1=2*10^(-3) //diode current in I\n",
"Vd1=0.5 //diode voltage in V\n",
"Rf1=Vd1/Id1 //Dc resistance\n",
"disp('At Id=2mA and Vd=0.5V')\n",
"printf('\n Rf = %.0f ohm \n\n',Rf1)\n",
"\n",
"Id2=20*10^(-3) //diode current in I\n",
"Vd2=0.75 //diode voltage in V\n",
"Rf2=Vd2/Id2 //Dc resistance\n",
"disp('At Id=20mA and Vd=0.75V')\n",
"printf('\n Rf = %.1f ohm \n\n',Rf2)\n",
"\n",
"Id3=2*10^(-6) //diode current in I\n",
"Vd3=10 //diode voltage in V\n",
"Rf3=Vd3/Id3 //Dc resistance\n",
"disp('At Id=2*10^(-6)A and Vd=10V')\n",
"printf('\n Rf = %.0f Mohm \n\n',Rf3*10^-6)"
   ]
   }
,
{
		   "cell_type": "markdown",
		   "metadata": {},
		   "source": [
			"## Example 3.13: Current_through_Diode.sce"
		   ]
		  },
  {
"cell_type": "code",
	   "execution_count": null,
	   "metadata": {
	    "collapsed": true
	   },
	   "outputs": [],
"source": [
"//Ex3_13 Pg-188\n",
"clc\n",
"\n",
"disp('Refer to the figure 3.52')\n",
"disp('(a) Assuming the diode D to be ideal ')\n",
"disp('    Ignoring diode D,voltage across R2 is given as (By applying potential divider concept)')\n",
"R1=45 //resistor R1\n",
"R2=5 //resistor R2\n",
"Vaa=10 //supply voltage\n",
"Vab=Vaa*(R2/(R1+R2))\n",
"printf('\n Vab= %.0f V \n',Vab)\n",
"\n",
"disp(' Thus,diode D is forward biased.It conducts,offering zero resistance  Hence no current would flow through the parallel bransh R2.The circuit equivalent to that shown in figure 3.53(a)')\n",
"ID=Vaa/R1 //diode current\n",
"printf('\n Current through diode = %.0f mA \n\n',ID*10^3)\n",
"\n",
"disp('(b)Assuming the diode to be real')\n",
"disp('     Voltage Vab is much larger than Vt hencethe diode conducts.It is replaced by its equivalent as shown in figure 3.53(b).To determine current Id through the diode we first find the Thevenin''s equivalent of the circuit on the left of AB.Vth=open circuit voltage across AB')\n",
"Vth=Vaa*(R2/(R1+R2))\n",
"printf('\n Vth=%.0f V \n',Vth)\n",
"Rth=R1*R2/(R1+R2)\n",
"printf('\n Rth=%.0f ohm \n',Rth) //textbook value is wrong\n",
" disp('Thus,the equivalent circuit becomes as shown in figure 3.53(c)')\n",
" Vt=0.3 //load voltage\n",
" tf=25 //load resistance\n",
" Id=(Vth-Vt)/(Rth+tf)\n",
" printf('\n Current through diode =%.1f mA \n\n',Id*10^3)\n",
" "
   ]
   }
,
{
		   "cell_type": "markdown",
		   "metadata": {},
		   "source": [
			"## Example 3.14: Current_through_Resistor.sce"
		   ]
		  },
  {
"cell_type": "code",
	   "execution_count": null,
	   "metadata": {
	    "collapsed": true
	   },
	   "outputs": [],
"source": [
"//Ex3_14 Pg-190\n",
"clc\n",
"\n",
"disp('      Diodes D2 and D3 are reverse-biased. Therefore,  these are like open-switches. Diodes D1 and D2 are forward biased. These are replaced by their equivalent circuits,as shown in figure 3.54. Since the diodes are silicon V=0.7V. ')\n",
"Vt=0.7 //voltage drop\n",
"Vaa=20 //supply voltage in V\n",
"net_emf=Vaa-Vt-Vt //net emf\n",
"R1=5  \n",
"R2=90\n",
"R3=5 //R1,R2,R3 are resistances\n",
"tot_res=R1+R2+R3 //total resistance\n",
"disp('Therefore, current through 90 ohm resistor is')\n",
"I=net_emf/tot_res\n",
"printf('\n Current I =%.0f mA',I*10^3)"
   ]
   }
,
{
		   "cell_type": "markdown",
		   "metadata": {},
		   "source": [
			"## Example 3.15: Current_Drawn_from_Battery.sce"
		   ]
		  },
  {
"cell_type": "code",
	   "execution_count": null,
	   "metadata": {
	    "collapsed": true
	   },
	   "outputs": [],
"source": [
"//Ex3_15 Pg-190\n",
"clc\n",
"\n",
"disp('(a) When the diode is forward biased figure 3.55(b),it offers zero resistance. It is like shorted switch.This shorted switch across AB also short-circuits the resistance R2.Obviously,a parallel combination of the diode and R2 is equivalent to a resistance of zero ohms.')\n",
"R1=100 //reisitor R1 in ohm \n",
"R=R1\n",
"Vaa=10 //supply voltage in V\n",
"I=Vaa/R\n",
"printf('\n Current drawn from battery =%.1f A \n\n',I)\n",
"\n",
"disp('(a) When the diode is reverse biased figure 3.55(b).It is like open switch.Obviously,it then does not make any difference whether the diode is connected or not.')\n",
"R2=100 //resistor R2 in ohm\n",
"tot_R=R1+R2\n",
"I1=Vaa/tot_R\n",
"\n",
"printf('\n Current drawn from battery =%.2f A \n\n',I1)"
   ]
   }
,
{
		   "cell_type": "markdown",
		   "metadata": {},
		   "source": [
			"## Example 3.16: Breakdown_Voltage_Ranges.sce"
		   ]
		  },
  {
"cell_type": "code",
	   "execution_count": null,
	   "metadata": {
	    "collapsed": true
	   },
	   "outputs": [],
"source": [
"//Ex3_16 Pg-191\n",
"clc\n",
"\n",
"Vz=9 //breakdown voltage in V\n",
"per=0.1 //10% tolerance \n",
"Tol=Vz*per\n",
"printf('Tolerance =%.1f V',Tol)\n",
"tol_high=Vz+Tol\n",
"tol_low=Vz-Tol //ranges in tolerance\n",
"printf('\n Range of breakdown voltage= %.1f to %.1f V',tol_low,tol_high)\n",
"// in the textbook the value 8.2 is wrong the correct value is 8.1\n",
"T1=25 //temperature T1 in degree celcius\n",
"T2=75 //temperature T2 in degree celcius\n",
"diff_temp=T2-T1 //chnage in temperature\n",
"Vzener=2*10^(-3) //zener voltage\n",
"fall_break_vol=Vzener*diff_temp //fall in breakdown voltage\n",
"new_break_vol=Vz-fall_break_vol //new break don voltage\n",
"printf('\n New break don voltage =%.1f V',new_break_vol)\n",
"\n",
"range_high=tol_low-fall_break_vol\n",
"range_low=tol_high-fall_break_vol\n",
"printf('\n Range of breakdown voltage= %.1f to %.1f V',range_high,range_low)"
   ]
   }
,
{
		   "cell_type": "markdown",
		   "metadata": {},
		   "source": [
			"## Example 3.17: Capacitance.sce"
		   ]
		  },
  {
"cell_type": "code",
	   "execution_count": null,
	   "metadata": {
	    "collapsed": true
	   },
	   "outputs": [],
"source": [
"//Ex3_17 Pg-192\n",
"clc\n",
" C=20 //capacitance in pF\n",
" V=5 //supply voltage in V\n",
" K=C*sqrt(V)\n",
"C_V1=K/sqrt(V+1)\n",
"printf('Capacitance for 1V increase =%.1f pF',C_V1)"
   ]
   }
,
{
		   "cell_type": "markdown",
		   "metadata": {},
		   "source": [
			"## Example 3.18: Voltage_across_each_Diode.sce"
		   ]
		  },
  {
"cell_type": "code",
	   "execution_count": null,
	   "metadata": {
	    "collapsed": true
	   },
	   "outputs": [],
"source": [
"//Ex3_18 Pg-192\n",
"clc\n",
"\n",
"printf('(a) The two diodes are connected in series and hence the \n current I flows in D1 and D2. Obviously,it is in forward \n direction through D2 and in reverse direction through D1.\n Since D2 diode is forward biased,V2 will be very small and\n  hence V1=(5-V2) will be very much larger than Vt=0.026V.\n This means the current will be equal to reverse saturation \n  current I0. Now,we consider diode D2.We have  \n\n')\n",
"disp('      I = I0*(exp(V/Vt)-1)')\n",
"disp('Putting I=I0 and V=V2, we have')\n",
"disp('      I0 = I0*(exp(V2/Vt)-1)')\n",
"disp('      exp(V2/Vt)-1 = 1')\n",
"Vt=0.026 //threshold voltage\n",
"V2=Vt*log(2)\n",
"V=5 //supply voltage in V\n",
"V1=V-V2 //value in textbook incorrect\n",
"printf('\n V2 = %.3f V',V2)\n",
"printf('\n V2 = %.3f V\n ',V1)\n",
"disp('Effect of temperature : V2=Vt*ln(2) = kT*ln(2)')\n",
"disp('So V2 will increase with temperature ')\n",
"disp('(b) If Vz is 4.9V then D1 will breakdown. This means V1=4.9V')\n",
"Vz=4.9 //breakdown voltage\n",
"V2=V-Vz\n",
"disp('Now using I0=5*10^(-6)A and V2=0.1V,one obtains')\n",
"I0=5*10^(-6) //current in ampere\n",
"I=I0*(exp(V2/Vt)-1)\n",
"printf('\n Current I=%.0f microA',I*10^6)"
   ]
   }
,
{
		   "cell_type": "markdown",
		   "metadata": {},
		   "source": [
			"## Example 3.19: LED_Current.sce"
		   ]
		  },
  {
"cell_type": "code",
	   "execution_count": null,
	   "metadata": {
	    "collapsed": true
	   },
	   "outputs": [],
"source": [
"//Ex3_19 Pg-193\n",
"clc\n",
"\n",
"disp('We have Iv=40*iD')\n",
"Iv=1 //luminous intensity\n",
"iD=Iv/(40*10^(-3)) //LED current\n",
"printf('LED current = %.0f mA',iD)"
   ]
   }
,
{
		   "cell_type": "markdown",
		   "metadata": {},
		   "source": [
			"## Example 3.1: Ohms_Law.sce"
		   ]
		  },
  {
"cell_type": "code",
	   "execution_count": null,
	   "metadata": {
	    "collapsed": true
	   },
	   "outputs": [],
"source": [
"//Ex3_1 Pg-127\n",
"clc\n",
"\n",
"disp('Refer to the diagram 3.11(b)')\n",
"disp('Using ohm''s law')\n",
"disp('Vt = Vd1 + Vr1')\n",
"Vd1=0.7 //voltage drop in V\n",
"Vt=12 //supply voltage in V\n",
"R1=1.2*10^3 //resistor R1 in ohm\n",
"Vr1=Vt-Vd1 //voltage across R1 in V\n",
"It=Vr1/R1 //current in A\n",
"disp('Ohm''s law')\n",
"printf('\n Current I_t = %.2f mA',It*10^3)"
   ]
   }
,
{
		   "cell_type": "markdown",
		   "metadata": {},
		   "source": [
			"## Example 3.20: AC_Resistance.sce"
		   ]
		  },
  {
"cell_type": "code",
	   "execution_count": null,
	   "metadata": {
	    "collapsed": true
	   },
	   "outputs": [],
"source": [
"//Ex3_20 Pg-193\n",
"clc\n",
"\n",
"disp('(a) At Id=10mA,')\n",
"V=25 //voltage in mV\n",
"Id=10 //current in mA\n",
"Rac=V/Id \n",
"//AC resistance (value in textbook is wrong)\n",
"printf('\n AC resistance Rac=%.1f ohm',Rac)\n",
"\n",
"Id=20 //current in mA\n",
"Rac=V/Id \n",
"//AC resistance (value in textbook is wrong)\n",
"printf('\n AC resistance Rac=%.2f ohm',Rac)"
   ]
   }
,
{
		   "cell_type": "markdown",
		   "metadata": {},
		   "source": [
			"## Example 3.21: AC_Resistance.sce"
		   ]
		  },
  {
"cell_type": "code",
	   "execution_count": null,
	   "metadata": {
	    "collapsed": true
	   },
	   "outputs": [],
"source": [
"//Ex3_21 Pg-194\n",
"clc\n",
"\n",
"disp('We know that')\n",
"disp('  r_ac = dV/dI - 1/(dI/dV) = 1/((I0/KT)exp(V/KT))')\n",
"k=8.62*10^(-5)\n",
"T=300 //temperaturein K\n",
"kT=k*T\n",
"I0=10^(-6) //saturation current\n",
"V=150*10^(-3) //voltage forward biased\n",
"r_ac = 1/((I0/kT)*exp(V/kT))\n",
" //value of exp(0.15/0.02586)=330.45 and not the textbook value of 332.66\n",
"\n",
"printf('\n The AC resistance = %.2f ohm',r_ac) //text book value wrong"
   ]
   }
,
{
		   "cell_type": "markdown",
		   "metadata": {},
		   "source": [
			"## Example 3.2: Voltage_across_Junction.sce"
		   ]
		  },
  {
"cell_type": "code",
	   "execution_count": null,
	   "metadata": {
	    "collapsed": true
	   },
	   "outputs": [],
"source": [
"//Ex3_2 Pg-182\n",
"clc\n",
"J=10^5 //forward current density\n",
"Js=250*10^(-3) //saturation current density\n",
"e=1.6*10^(-19) //electron charge\n",
"T=300 //temperature\n",
"k=1.38*10^(-23) //Boltzmann constant\n",
"V=(log(J/Js)*k*T)/e //voltage applied across junction\n",
"printf('The voltage applied across the junction =%.2f V',V)"
   ]
   }
,
{
		   "cell_type": "markdown",
		   "metadata": {},
		   "source": [
			"## Example 3.3: PN_Junction_Forward_Voltage.sce"
		   ]
		  },
  {
"cell_type": "code",
	   "execution_count": null,
	   "metadata": {
	    "collapsed": true
	   },
	   "outputs": [],
"source": [
"//Ex3_3 Pg-182\n",
"clc\n",
"\n",
"I=2*10^6 //forward current density\n",
"Is=30 //saturation current density\n",
"ekt=40\n",
"V=(1/40)*log(I/Is) //Applied forward voltage\n",
"printf('Applied forward voltage = %.3f V',V)"
   ]
   }
,
{
		   "cell_type": "markdown",
		   "metadata": {},
		   "source": [
			"## Example 3.4: Incremental_Resistance.sce"
		   ]
		  },
  {
"cell_type": "code",
	   "execution_count": null,
	   "metadata": {
	    "collapsed": true
	   },
	   "outputs": [],
"source": [
"//Ex3_4 Pg-182\n",
"clc\n",
"\n",
"disp('          I = Is*exp(eV/kT) = Is*exp(40V)')\n",
"disp('          Re = del_V/del_I = 1/40I')\n",
"disp('     Dividing throughtout by volume, one obtains the equation in the form of current density as')\n",
"disp('          J = Js*(exp(eV/kT)-1)')\n",
"J=10^5 //forward current density\n",
"Js=250*10^(-3) //saturation current density\n",
"e=1.6*10^(-19) //electron charge\n",
"T=300 //temperature\n",
"k=1.38*10^(-23) //Boltzmann constant\n",
"V=(log(J/Js)*k*T)/e //voltage applied across junction\n",
"printf('\n The voltage applied across the junction =%.2f V',V)"
   ]
   }
,
{
		   "cell_type": "markdown",
		   "metadata": {},
		   "source": [
			"## Example 3.5: Forward_and_Reverse_Biased.sce"
		   ]
		  },
  {
"cell_type": "code",
	   "execution_count": null,
	   "metadata": {
	    "collapsed": true
	   },
	   "outputs": [],
"source": [
"//Ex3_5 Pg-183\n",
"clc\n",
"\n",
"disp('(a) Forward-bias')\n",
"Av=50 //applied voltage\n",
"Jr=5000 //junction resistance\n",
"Er=50 //external resistance\n",
"cur=Av/(Er+Jr) //current\n",
"printf('\n Current = %.1f mA \n',cur*10^3)\n",
"\n",
"disp('(b) Reverse-bias')\n",
"cur_rev=Av/(Jr+10^6) //book expression is wrong\n",
"printf('\n Current = %.3f*1e-2 mA \n',cur_rev*10^5)"
   ]
   }
,
{
		   "cell_type": "markdown",
		   "metadata": {},
		   "source": [
			"## Example 3.6: AC_Resistance.sce"
		   ]
		  },
  {
"cell_type": "code",
	   "execution_count": null,
	   "metadata": {
	    "collapsed": true
	   },
	   "outputs": [],
"source": [
"//Ex3_6 Pg-183\n",
"clc\n",
"\n",
"disp('We know that')\n",
"disp('  r_ac = dV/dI - 1/(dI/dV) = 1/((I0/KT)exp(V/KT))')\n",
"k=8.62*10^(-5)\n",
"T=300 //temperaturein K\n",
"kT=k*T\n",
"I0=10^(-6) //saturation current\n",
"V=150*10^(-3) //voltage forward biased\n",
"r_ac = 1/((I0/kT)*exp(V/kT)) //value of exp(0.15/0.02586)=330.45 and not the textbook value of 332.66\n",
"printf('\n The AC resistance = %.2f ohm',r_ac) //text book value wrong"
   ]
   }
,
{
		   "cell_type": "markdown",
		   "metadata": {},
		   "source": [
			"## Example 3.7: Change_in_Temperature.sce"
		   ]
		  },
  {
"cell_type": "code",
	   "execution_count": null,
	   "metadata": {
	    "collapsed": true
	   },
	   "outputs": [],
"source": [
"//Ex3_7 Pg-184\n",
"clc\n",
"\n",
"disp('We know that (I0)*T2 = (I0)*T1*(2)^((T2-T1/10))')\n",
"\n",
"disp('Substituting the given values,we have ')\n",
"\n",
"disp('(40*10^(-6)) = (25*10^(-6)*(2)^x) where x=(T2-T1)/10')\n",
"\n",
"disp('(2)^x = 1.6')\n",
"\n",
"disp('Taking log on both sides,one obtains')\n",
"\n",
"disp('      x*log(2) = log(1.6)')\n",
"\n",
"disp('or    x = log(1.6)/log(2)')\n",
"\n",
"x=log(1.6)/log(2)\n",
"\n",
"disp(' Now x = (T2-T1)/10 or 0.678 = (T2-25)/10')\n",
"T1=25 //temperature T1\n",
"T2=x*10+T1 //temperature T2\n",
"diff_temp=T2-T1 //change in temperature\n",
"printf('\n So the change in temperature = %.2f degree celsius',diff_temp)"
   ]
   }
,
{
		   "cell_type": "markdown",
		   "metadata": {},
		   "source": [
			"## Example 3.8: Forward_Current.sce"
		   ]
		  },
  {
"cell_type": "code",
	   "execution_count": null,
	   "metadata": {
	    "collapsed": true
	   },
	   "outputs": [],
"source": [
"//Ex3_8 Pg-185\n",
"clc\n",
"disp('Forward current I is given by ')\n",
"disp('  I=I0*exp(V/(n*Vt))-1')\n",
"\n",
"I_22=poly(0,'I_22')\n",
"V=0.3 //voltage\n",
"n=1 //constant\n",
"T1=22+273 //temperature T1 in Kelvin\n",
"Vt1=T1/11600\n",
"I=I_22*(exp(V/0.025)-1)\n",
"disp('When temperature rises to 72 degree celcius, then')\n",
"\n",
"T2=72+273 //temperature T2 in Kelvin\n",
"Vt2=T2/11600\n",
"TR=T2-T1 //temperature rise\n",
"I_72=poly(0,'I_72')\n",
"I_72=I_22*(2)^(TR/10)\n",
"\n",
"I_hash=I_72*(exp(V/(Vt2))-1)\n",
"for_cur_rises=I_hash/I\n",
"disp('Thus, at 72 degree celcius Forward current rises by ')\n",
"disp(for_cur_rises)\n",
"cur_I=768849.72\n",
"cur_I_hash=162753.79\n",
"FCR=cur_I/cur_I_hash\n",
"printf('\n    = %.2f',FCR)\n",
" //answer in the book  is wrong"
   ]
   }
,
{
		   "cell_type": "markdown",
		   "metadata": {},
		   "source": [
			"## Example 3.9: Static_and_Dynamic_Resistance.sce"
		   ]
		  },
  {
"cell_type": "code",
	   "execution_count": null,
	   "metadata": {
	    "collapsed": true
	   },
	   "outputs": [],
"source": [
"//Ex3_9 Pg-185\n",
"clc\n",
"\n",
"n=1 //constant\n",
"T=27+273 //temperature in K\n",
"Vt=T/11600\n",
"V=0.2 //voltage\n",
"I0=10^(-6) //saturation current\n",
"I=I0*(exp(V/Vt)-1)\n",
"stat_res=V/I //static resistance\n",
"printf('Static resistance = %.2f ohm \n',stat_res)\n",
"\n",
"dyn_res=Vt/(I+I0) //dynamic resistance\n",
"printf('Dynamic resistance = %.2f ohm',dyn_res)"
   ]
   }
],
"metadata": {
		  "kernelspec": {
		   "display_name": "Scilab",
		   "language": "scilab",
		   "name": "scilab"
		  },
		  "language_info": {
		   "file_extension": ".sce",
		   "help_links": [
			{
			 "text": "MetaKernel Magics",
			 "url": "https://github.com/calysto/metakernel/blob/master/metakernel/magics/README.md"
			}
		   ],
		   "mimetype": "text/x-octave",
		   "name": "scilab",
		   "version": "0.7.1"
		  }
		 },
		 "nbformat": 4,
		 "nbformat_minor": 0
}
