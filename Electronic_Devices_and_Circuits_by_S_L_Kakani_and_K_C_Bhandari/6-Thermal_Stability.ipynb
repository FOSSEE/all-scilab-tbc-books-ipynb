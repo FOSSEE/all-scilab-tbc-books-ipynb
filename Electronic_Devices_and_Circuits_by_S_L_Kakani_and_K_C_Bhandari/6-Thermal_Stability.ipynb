{
"cells": [
 {
		   "cell_type": "markdown",
	   "metadata": {},
	   "source": [
       "# Chapter 6: Thermal Stability"
	   ]
	},
{
		   "cell_type": "markdown",
		   "metadata": {},
		   "source": [
			"## Example 6.1: Collector_Base_Junction_Temperature.sce"
		   ]
		  },
  {
"cell_type": "code",
	   "execution_count": null,
	   "metadata": {
	    "collapsed": true
	   },
	   "outputs": [],
"source": [
"//Ex6_1 Pg-333\n",
"clc\n",
"\n",
"Ta=25 //ambient temperature in degree celsius\n",
"tetha=10 //thermal resistance \n",
"Pd=2 //power dessipated in transistor\n",
"\n",
"Tj=Ta+tetha*Pd //collector base junction transistor temperature\n",
"printf(' \n Collector base junction transistor temperature = %.0f degree celcius \n',Tj)\n",
"\n",
"disp('   tetha=10 degree celcius/watt means for every watt consumed its temperature will rise by 10 degree celcius')\n",
"\n",
"printf('\n While using a transistor,we must keep in mind that it must \n not reach a condition called thermal runaway. The heat \n released at collector base junction must not exceed the rate \n at which heat can dissipated under steady state. For this,\n ')\n",
"\n",
"disp('(del_Pd/del_Tj) < (1/tetha)')\n",
"\n",
"disp('This is the relation for thermal stability.')"
   ]
   }
,
{
		   "cell_type": "markdown",
		   "metadata": {},
		   "source": [
			"## Example 6.2: Dissipation_Capacity_of_a_Transistor.sce"
		   ]
		  },
  {
"cell_type": "code",
	   "execution_count": null,
	   "metadata": {
	    "collapsed": true
	   },
	   "outputs": [],
"source": [
"//Ex6_2 Pg-335\n",
"clc\n",
"\n",
"printf('Draw a vertical line from temperature axis at 50 degree \n  celcius to cut the 71 degree celcius line. Join the point of \n intersection P through a horizontal line at Y-axis. The point \n where it intersects Y-axis gives the value of permissible \n dissipation equal to 45%% of maximum rating. \n')\n",
"\n",
"per=.45 //permissible dissipation in percentage\n",
"max_diss=165 //maximum dissipation\n",
"diss_cap=per*max_diss //dissipation capability\n",
"disp('The dissipation capability at 50 degree celcius')\n",
"\n",
"printf('                            = %.0f mW \n ',diss_cap)\n",
"\n",
"disp('     Its value ranges from (0.2) degree celcius/watt to (1000) degree celcius/watt for a transistor  that has an efficient heat sink')\n",
"\n",
"disp('              Tj = Ta + tetha*Pd')\n",
"\n",
"disp('  The above equation reflects that collector-junction temperature Tj of the transistor will be higher than ambient temperature Ta by an amount equal to the product of tetha and Pd.')"
   ]
   }
,
{
		   "cell_type": "markdown",
		   "metadata": {},
		   "source": [
			"## Example 6.3: Fixed_Bias_Circuit.sce"
		   ]
		  },
  {
"cell_type": "code",
	   "execution_count": null,
	   "metadata": {
	    "collapsed": true
	   },
	   "outputs": [],
"source": [
"//Ex6_3 Pg-336\n",
"clc\n",
"\n",
"Rb=200*10^(3) //base resistance in ohm\n",
"Vcc=10 //supply voltage in V\n",
"Vbe=0.7 //voltage drop in V\n",
"Rl=2*10^(3) //load resistor in ohm\n",
"Beta=50 //transistor gain\n",
"\n",
"disp('If Beta=50')\n",
"Ib=(Vcc-Vbe)/Rb //base current in A\n",
"Ic=Beta*Ib //collector current\n",
"Vce=Vcc-Ic*Rl //collector emitter voltage\n",
"printf('\n The operating point coordinates are [%.2f V, %.2f mA]\n ',Vce,Ic*10^3)\n",
"\n",
"disp('If Beta=60')\n",
"Beta2=60 //second transistor gain \n",
"Ic2=Beta2*Ib //collector current\n",
"Vce2=Vcc-Ic2*Rl //collector emitter voltage\n",
"printf('\n The operating point coordinates are [%.2f V, %.2f mA]\n ',Vce2,Ic2*10^3)\n",
""
   ]
   }
,
{
		   "cell_type": "markdown",
		   "metadata": {},
		   "source": [
			"## Example 6.4: Collector_to_Base_Bias_Circuit.sce"
		   ]
		  },
  {
"cell_type": "code",
	   "execution_count": null,
	   "metadata": {
	    "collapsed": true
	   },
	   "outputs": [],
"source": [
"//Ex6_4 Pg-335\n",
"clc\n",
"\n",
"Rb=330*10^(3) //base resistance in ohm\n",
"Vcc=15 //supply voltage in V\n",
"Vbe=0.7 //voltage drop in V\n",
"Rl=3.3*10^(3) //load resistor in ohm\n",
"Beta=60 //transistor gain\n",
"\n",
"Ib=(Vcc-Vbe)/Rb //base current in A\n",
"Ic=Beta*Ib //collector current (value in textbook is wrong)\n",
"Vce=Vcc-(Ic+Ib)*Rl \n",
"printf('\n The collector emitter voltage = %.2f V\n ',Vce)\n",
"//collector emitter voltage (value in textbook is wrong) "
   ]
   }
],
"metadata": {
		  "kernelspec": {
		   "display_name": "Scilab",
		   "language": "scilab",
		   "name": "scilab"
		  },
		  "language_info": {
		   "file_extension": ".sce",
		   "help_links": [
			{
			 "text": "MetaKernel Magics",
			 "url": "https://github.com/calysto/metakernel/blob/master/metakernel/magics/README.md"
			}
		   ],
		   "mimetype": "text/x-octave",
		   "name": "scilab",
		   "version": "0.7.1"
		  }
		 },
		 "nbformat": 4,
		 "nbformat_minor": 0
}
