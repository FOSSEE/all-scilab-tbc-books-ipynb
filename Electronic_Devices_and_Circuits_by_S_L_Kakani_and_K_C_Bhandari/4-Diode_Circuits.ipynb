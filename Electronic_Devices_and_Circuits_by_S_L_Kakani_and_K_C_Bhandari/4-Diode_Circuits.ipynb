{
"cells": [
 {
		   "cell_type": "markdown",
	   "metadata": {},
	   "source": [
       "# Chapter 4: Diode Circuits"
	   ]
	},
{
		   "cell_type": "markdown",
		   "metadata": {},
		   "source": [
			"## Example 4.10: Full_Wave_Rectifier.sce"
		   ]
		  },
  {
"cell_type": "code",
	   "execution_count": null,
	   "metadata": {
	    "collapsed": true
	   },
	   "outputs": [],
"source": [
"//Ex4_10 Pg-238\n",
"clc\n",
"\n",
"f=60 //frequency in Hz\n",
"C=100*10^(-6) //capacitance in F\n",
"Rl=1*10^3 //load resistance\n",
"\n",
"disp('Since the transformer is center tapped ,the rms value of voltage across half the secondary coil')\n",
"Vct=12.6 //voltage of center tapped transformer\n",
"Vrms=Vct/2 //rms voltage\n",
"\n",
"disp('Peak voltage')\n",
"Vm=Vrms*sqrt(2) //peak voltage\n",
"printf('        = %.2f V\n ',Vm)\n",
"\n",
"disp('(b) DC output voltage')\n",
"Vdc=Vm/(1+(1/(4*f*C*Rl))) //DC output voltage\n",
"printf('        = %.2f V \n ',Vdc)\n",
"\n",
"disp('Ripple factor in case of capacitor filter ')\n",
"disp('          =2410/C*Rl')\n",
"r=2410/(100*Rl)*100 //ripple factor\n",
"printf('\n           = %.1f %%\n ',r)"
   ]
   }
,
{
		   "cell_type": "markdown",
		   "metadata": {},
		   "source": [
			"## Example 4.11: Full_Wave_Rectifier.sce"
		   ]
		  },
  {
"cell_type": "code",
	   "execution_count": null,
	   "metadata": {
	    "collapsed": true
	   },
	   "outputs": [],
"source": [
"//Ex4_11 Pg-238\n",
"clc\n",
"Vdc=9 //dc voltage\n",
"Idc=100*10^(-3) //dc load current\n",
"disp('Ripple factor with an L-C filter,r=(0.83/LC)')\n",
"disp('               where L-> Henry,C->microFarad')\n",
"gamm=0.02 //maximum ripple\n",
"LC=0.83/gamm\n",
"printf('       LC = %.1f \n ',LC) //let LC=42\n",
"\n",
"disp('LOad connected to the filter,')\n",
"RL=Vdc/Idc //load resistance in ohm\n",
"printf('      RL  = %.0f ohm\n ',RL)\n",
"\n",
"disp('Critical value of inductor,')\n",
"Lk=RL/900 //Critical value of inductor\n",
"printf('      Lk  = %.1f \n ',Lk)\n",
"\n",
"disp('Capacitance')\n",
"LC=42 //rounding of 41.5 to 42\n",
"C=LC/Lk //capacitance in microFarad\n",
"printf('      C  = %.0f uF\n ',C)"
   ]
   }
,
{
		   "cell_type": "markdown",
		   "metadata": {},
		   "source": [
			"## Example 4.12: Zener_Current.sce"
		   ]
		  },
  {
"cell_type": "code",
	   "execution_count": null,
	   "metadata": {
	    "collapsed": true
	   },
	   "outputs": [],
"source": [
"//Ex4_12 Pg-245\n",
"clc\n",
"\n",
"V=20 //source voltage\n",
"Vz=12 //zener voltage\n",
"Vr=V-Vz //voltage across resistor \n",
"Rs=330 //series resistance\n",
" disp('Voltage across resistor ')\n",
"printf('        = %.0f V \n ',Vr)\n",
"\n",
"disp('Current through series resistor')\n",
"Iser=Vr/Rs //Current through series resistor\n",
"printf('        = %.1f mA \n ',Iser*10^3)\n",
"\n",
"disp('Since Zener diode is in series with resistor, current through it is equal to current flowing through resistor,i.e 24.2mA ')"
   ]
   }
,
{
		   "cell_type": "markdown",
		   "metadata": {},
		   "source": [
			"## Example 4.13: Current_and_Wattage_of_Elements.sce"
		   ]
		  },
  {
"cell_type": "code",
	   "execution_count": null,
	   "metadata": {
	    "collapsed": true
	   },
	   "outputs": [],
"source": [
"//Ex4_13 Pg-245\n",
"clc\n",
"\n",
"V=20 //source voltage in V\n",
"Vz=12 //zener voltage in V\n",
"Vs=V-Vz //voltage across resistor in V \n",
"Rs=330 //series resistance in ohm\n",
"RL=1.5*10^3 //load resistance in ohm\n",
" disp('Voltage across resistor ')\n",
"printf('        = %.0f V \n ',Vr)\n",
"\n",
"disp('(1) Current through series resistor Is')\n",
"Is=Vr/Rs //Current through series resistor\n",
"printf('      Is  = %.1f mA \n ',Is*10^3)\n",
"\n",
"disp('(2) Current through series load Il')\n",
"VL=Vz //voltage across load\n",
"IL=VL/RL //Current through series load\n",
"printf('      IL  = %.0f mA \n ',IL*10^3)\n",
"\n",
"disp('(3)Current through zener diode')\n",
"Iz=Is-IL //Current through zener diode\n",
"printf('      IL  = %.1f mA \n ',Iz*10^3)\n",
"\n",
"disp('(4)Respective wattage of elements used')\n",
"disp('(a) Series resistor -> W=Is*Vs')\n",
"W=Vs*Is //wattage of series resistor\n",
"printf('          = %.1f mW \n ',W*10^3)\n",
"\n",
"disp('(b) Zener diode -> W=Iz*Vz')\n",
"W=Vz*Iz //wattage of zener diode\n",
"printf('          = %.1f mW \n ',W*10^3)\n",
"\n",
"\n",
"disp('(b) Load resistor -> W=IL*VL')\n",
"W=VL*IL //wattage of zener diode\n",
"printf('          = %.0f mW \n ',W*10^3)\n",
"\n",
"\n",
"\n",
""
   ]
   }
,
{
		   "cell_type": "markdown",
		   "metadata": {},
		   "source": [
			"## Example 4.14: Zener_Diode.sce"
		   ]
		  },
  {
"cell_type": "code",
	   "execution_count": null,
	   "metadata": {
	    "collapsed": true
	   },
	   "outputs": [],
"source": [
"//Ex4_14 Pg-246\n",
"clc\n",
"\n",
"RL=1*10^3 //load resistance in ohm\n",
"Rs=270 //series resistor in ohm\n",
"Vs=18 //supply voltage in V\n",
"vz=10 //xener voltage\n",
"\n",
"disp('Applying Thevenin''s theorem, Thevenin voltage across the zener diode')\n",
"Vth=(RL/(RL+Rs))*Vs //Thevenin voltage\n",
"printf('\n      Vth = %.1f V \n ',Vth)\n",
"\n",
"disp('Thus Vth is greater than Vz(zener voltage),i.e 14.2 >10. So Zener diode is operating in the breakdown voltage.')"
   ]
   }
,
{
		   "cell_type": "markdown",
		   "metadata": {},
		   "source": [
			"## Example 4.15: Voltage_Regulator_Circuit.sce"
		   ]
		  },
  {
"cell_type": "code",
	   "execution_count": null,
	   "metadata": {
	    "collapsed": true
	   },
	   "outputs": [],
"source": [
"//Ex4_15 Pg-246\n",
"clc\n",
"\n",
"IL1=10*10^(-3) \n",
"IL2=20*10^(-3) //IL1,IL2 range of load current in A\n",
"Vin=20 //supply voltage in V\n",
"Izt=6*10^(-3) //zener current in A\n",
"Vz=15 //zener voltage in V\n",
"\n",
"disp('Average load current')\n",
"IL=(IL1+IL2)/2 // Average load current\n",
"printf('\n      IL = %.0f mA \n ',IL*10^3)\n",
"\n",
"disp('Total current entering the circuit')\n",
"Is=IL+Izt //current entering the circuit\n",
"printf('\n      Is = %.0f mA \n ',Is*10^3)\n",
"\n",
"disp('Series resistor')\n",
"Rs=(Vin-Vz)/Is //Series resistor in ohm\n",
"printf('\n      Rs = %.0f ohm \n ',Rs)\n",
"\n",
"disp('Power rating of resistor')\n",
"Vs=Vin-Vz \n",
"P=(Vs^2)/Rs //Power rating of resistor\n",
"printf('\n      P = %.1f W \n ',P)"
   ]
   }
,
{
		   "cell_type": "markdown",
		   "metadata": {},
		   "source": [
			"## Example 4.1: Half_Wave_Rectifier.sce"
		   ]
		  },
  {
"cell_type": "code",
	   "execution_count": null,
	   "metadata": {
	    "collapsed": true
	   },
	   "outputs": [],
"source": [
"//Ex4_1 Pg-213\n",
"clc\n",
"\n",
"Vrms=110 //rms volatage in V\n",
"Vm=Vrms/0.707 //peak source voltage\n",
"printf('Peak source voltage=%.1f V',Vm) //textbook answer wrong\n",
"\n",
"disp('(a) With an ideal diode ')\n",
"Vpout=Vm //peak output voltage\n",
"printf('\n Peak output voltage=%.1f V',Vpout)\n",
"Vdc=Vm/%pi //Dc load voltage\n",
"printf('\n DC load voltage=%.2f V \n',Vdc) //textbook answer wrong\n",
"\n",
"disp('(b) With second approximation')\n",
"Vpin=Vm //peak input voltage\n",
"Vpout=Vpin-0.7\n",
"printf('\n Peak output voltage=%.1f V',Vpout)\n",
"Vdc=Vpout/%pi //Dc load voltage\n",
"printf('\n DC load voltage=%.1f V \n',Vdc) //textbook answer wrong\n",
""
   ]
   }
,
{
		   "cell_type": "markdown",
		   "metadata": {},
		   "source": [
			"## Example 4.2: No_Load_Voltage.sce"
		   ]
		  },
  {
"cell_type": "code",
	   "execution_count": null,
	   "metadata": {
	    "collapsed": true
	   },
	   "outputs": [],
"source": [
"//Ex4_2 Pg-214\n",
"clc\n",
"\n",
"disp('      VR = (V_NoLoad - V_FullLoad)/V_FullLoad*100%')\n",
"disp('(a) VR = 0%')\n",
"V_FullLoad=20 //full load voltage\n",
"V_NoLoad=V_FullLoad//no load voltage\n",
"printf('\n V_FullLoad = V_NoLoad= %.0f V \n',V_NoLoad)\n",
"\n",
"disp('(b) VR = 100%')\n",
"VR=100 //voltage regulation in %\n",
"V_NoLoad=(VR*V_FullLoad)/(100)+V_FullLoad\n",
"printf('\n V_NoLoad= %.0f V \n',V_NoLoad)"
   ]
   }
,
{
		   "cell_type": "markdown",
		   "metadata": {},
		   "source": [
			"## Example 4.3: AC_Input_Power.sce"
		   ]
		  },
  {
"cell_type": "code",
	   "execution_count": null,
	   "metadata": {
	    "collapsed": true
	   },
	   "outputs": [],
"source": [
"//Ex4_3 Pg-214\n",
"clc\n",
"\n",
"disp('    Ratio of rectification or efficiency of halfwave rectifier,')\n",
"disp('   n = 0.406 = DC power deliverd to the load/AC input powerfrom transformer secondary ')\n",
"DC_power=500 //ddc power deliverd to the load\n",
"n=0.406 //efficiency\n",
"AC_in_power=DC_power/n //AC input powerfrom transformer secondary\n",
"printf('\n AC input powerfrom transformer secondary =%.0f Watt',AC_in_power)"
   ]
   }
,
{
		   "cell_type": "markdown",
		   "metadata": {},
		   "source": [
			"## Example 4.4: Half_Wave_Rectifier.sce"
		   ]
		  },
  {
"cell_type": "code",
	   "execution_count": null,
	   "metadata": {
	    "collapsed": true
	   },
	   "outputs": [],
"source": [
"//Ex4_4 Pg-220\n",
"clc\n",
"\n",
"Rl=3.5*10^(3) //resistance in k-ohm\n",
"rF=800 //secondary resistance in k-ohm\n",
"Vm=240 // input voltage\n",
"disp('(1)(a) Peak value of current flowing')\n",
"Im=Vm/(rF+Rl) //peak current\n",
"printf('       Im = %.2f mA\n ',Im*10^3)\n",
"\n",
"disp('(b) Average or DC current flowing')\n",
"Idc=Im/%pi //DC current\n",
"printf('       Idc = %.2f mA\n ',Idc*10^3)\n",
"\n",
"disp('(c) R.M.S value of current flowing')\n",
"Irms=Im/2 //rms current\n",
"printf('       Irms = %.2f mA\n ',Irms*10^3)\n",
"\n",
"disp('(2) DC output power')\n",
"Pdc=(Idc)^2*Rl //dc output power\n",
"printf('       Pdc = %.1f Watt\n ',Pdc)\n",
"\n",
"disp('(3) AC input power')\n",
"Pac=(Irms)^2*(rF+Rl)\n",
"printf('       Pac = %.2f Watt\n ',Pac)\n",
"\n",
"disp('(4)Efficiency of rectifier')\n",
"n=(Pdc/Pac)*100 //efficiency\n",
"printf('       n = %.2f %%\n ',n)"
   ]
   }
,
{
		   "cell_type": "markdown",
		   "metadata": {},
		   "source": [
			"## Example 4.5: Bridge_Rectifier.sce"
		   ]
		  },
  {
"cell_type": "code",
	   "execution_count": null,
	   "metadata": {
	    "collapsed": true
	   },
	   "outputs": [],
"source": [
"//Ex4_5 Pg-221\n",
"clc\n",
"\n",
"Vr=0.7 //diodes voltage drop\n",
"Rl=820 //load resistor in ohm\n",
"Vin=40 //input voltage in V\n",
"\n",
"disp('(1)  Peak output volatge: Current flows through load only when two diodes conduct. While conducting, there is voltage drop across the diode.')\n",
"V_drop_2=2*Vr //voltage drop across 2 diodes\n",
"Vm=Vin-V_drop_2 //peak voltage\n",
"printf('\n       Vm = %.2f V\n ',Vm)\n",
"\n",
"disp('(2) Average output current')\n",
"Idc=(2*Vm/%pi)/Rl //average output current\n",
"printf('       Idc = %.0f mA\n ',Idc*10^3)\n",
"\n",
"disp('(3) Diode dissipation')\n",
"DD=Idc*Vr //Diode dissipation\n",
"printf('        = %.0f mW\n ',DD*10^3)"
   ]
   }
,
{
		   "cell_type": "markdown",
		   "metadata": {},
		   "source": [
			"## Example 4.6: Half_Wave_Rectifier.sce"
		   ]
		  },
  {
"cell_type": "code",
	   "execution_count": null,
	   "metadata": {
	    "collapsed": true
	   },
	   "outputs": [],
"source": [
"//Ex4_6 Pg-222\n",
"clc\n",
"\n",
"Vr=0.7 //voltage drop\n",
"Vi=120 //input voltage\n",
"disp('RMS value of secondary voltage')\n",
"V_sec=Vi/5 //RMS value of secondary voltage\n",
"printf('        = %.0f V\n ',V_sec)\n",
"\n",
"disp('Peak secondary voltage')\n",
"Vm=V_sec*sqrt(2) //Peak secondary voltage\n",
"printf('        = %.0f V\n ',Vm)\n",
"\n",
"disp('Peak inverse voltage of diode')\n",
"Vinv=-(Vm) //Peak inverse voltage of diode\n",
"printf('        = %.0f V\n ',Vinv)\n",
"\n",
"printf('\n Peak load voltage =%.0f V\n ',Vm)\n",
"\n",
"disp('DC load voltage')\n",
"Vdc=Vm/%pi //DC load voltage\n",
"printf('        = %.1f V\n ',Vdc)\n",
"\n",
"disp('Assuming second approximation')\n",
"disp('Vm'' = Vm - Vr ')\n",
"disp('Peak load voltage')\n",
"Vm_dash=Vm-Vr //Peak load voltage\n",
"printf('        = %.1f V\n ',Vm_dash)\n",
"\n",
"disp('DC load voltage')\n",
"Vdc=Vm_dash/%pi //DC load voltage\n",
"printf('        = %.1f V\n ',Vdc)"
   ]
   }
,
{
		   "cell_type": "markdown",
		   "metadata": {},
		   "source": [
			"## Example 4.7: Full_Wave_Rectifier.sce"
		   ]
		  },
  {
"cell_type": "code",
	   "execution_count": null,
	   "metadata": {
	    "collapsed": true
	   },
	   "outputs": [],
"source": [
"//Ex4_7 Pg-222\n",
"clc\n",
"\n",
"Vi=120 //supply voltage n V\n",
"Rl=5*10^3 //load resistance\n",
"\n",
"disp('Secondary RMS voltage')\n",
"Vrms=Vi/5 //Secondary RMS voltage\n",
"printf('        = %.0f V\n ',Vrms)\n",
"\n",
"disp('Secondary pek voltage')\n",
"Vm=Vrms*sqrt(2) //Secondary pek voltage\n",
"printf('        = %.0f V\n ',Vm)\n",
"\n",
"disp('  Half of the secondary voltage is input to the half section.')\n",
"disp('So input to the half section')\n",
"in=Vm/2 //input to the half section\n",
"printf('        = %.0f V\n ',in)\n",
"\n",
"disp('Peak voltage across load')\n",
"printf('        = %.0f V\n ',in)\n",
"\n",
"disp('    DC voltage across load = 17V. Since the capacitor gets changed up to peak value,')\n",
"disp('DC load current')\n",
"Vdc=in\n",
"Idc=Vdc/Rl //DC load current\n",
"printf('        = %.1f mA\n ',Idc*10^3)"
   ]
   }
,
{
		   "cell_type": "markdown",
		   "metadata": {},
		   "source": [
			"## Example 4.8: Full_Wave_Rectifier.sce"
		   ]
		  },
  {
"cell_type": "code",
	   "execution_count": null,
	   "metadata": {
	    "collapsed": true
	   },
	   "outputs": [],
"source": [
"//Ex4_8 Pg-227\n",
"clc\n",
"\n",
"f=50 //frequency in Hz\n",
"C=100*10^(-6) //capacitance in F\n",
"Rl=2*10^3 //load resistance\n",
"Vrms=40 //rms secondary voltage\n",
"\n",
"disp('(a) Ripple factor for a full wave rectifier')\n",
"r=1/(4*sqrt(3)*f*C*Rl) //Ripple factor for a full wave rectifier\n",
"printf('        = %.3f \n ',r)\n",
"\n",
"disp('(b) DC output voltage')\n",
"Vm=Vrms*sqrt(2)\n",
"Vdc=Vm/(1+(1/(4*f*C*Rl))) //DC output voltage\n",
"printf('        = %.1f V \n ',Vdc)\n",
"\n",
"disp('(c) Percentage voltage regulation')\n",
"per=100/(4*f*C*Rl) //Percentage voltage regulation\n",
"printf('        = %.1f %%\n ',per)"
   ]
   }
,
{
		   "cell_type": "markdown",
		   "metadata": {},
		   "source": [
			"## Example 4.9: Full_Wave_Rectifier.sce"
		   ]
		  },
  {
"cell_type": "code",
	   "execution_count": null,
	   "metadata": {
	    "collapsed": true
	   },
	   "outputs": [],
"source": [
"//Ex4_9 Pg-237\n",
"clc\n",
"\n",
"Vrms=300 //rms voltage in V\n",
"f=60 //frequency\n",
"Idc=0.2 //load current\n",
"C=10 //shunt capacitor in microFarad\n",
"\n",
"Vm=Vrms*sqrt(2) //peak voltage\n",
"Vdc=(2*Vm)/%pi //Dc voltage\n",
"\n",
"disp('Connected load')\n",
"Rl=Vdc/Idc //Connected load\n",
"printf('       Rl = %.0f ohm = (955.6)*sqrt(2) ohm\n',Rl)\n",
"\n",
"disp('Ripple factor in case of shunt capacitor filter ')\n",
"disp('          =2410/C*Rl')\n",
"r=2410/(C*Rl) //ripple factor\n",
"printf('\n           = %.2f \n ',r)"
   ]
   }
],
"metadata": {
		  "kernelspec": {
		   "display_name": "Scilab",
		   "language": "scilab",
		   "name": "scilab"
		  },
		  "language_info": {
		   "file_extension": ".sce",
		   "help_links": [
			{
			 "text": "MetaKernel Magics",
			 "url": "https://github.com/calysto/metakernel/blob/master/metakernel/magics/README.md"
			}
		   ],
		   "mimetype": "text/x-octave",
		   "name": "scilab",
		   "version": "0.7.1"
		  }
		 },
		 "nbformat": 4,
		 "nbformat_minor": 0
}
