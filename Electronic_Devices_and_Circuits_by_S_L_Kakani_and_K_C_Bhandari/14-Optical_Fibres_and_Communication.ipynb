{
"cells": [
 {
		   "cell_type": "markdown",
	   "metadata": {},
	   "source": [
       "# Chapter 14: Optical Fibres and Communication"
	   ]
	},
{
		   "cell_type": "markdown",
		   "metadata": {},
		   "source": [
			"## Example 14.10: Step_Index_Fibre_Single_Mode.sce"
		   ]
		  },
  {
"cell_type": "code",
	   "execution_count": null,
	   "metadata": {
	    "collapsed": true
	   },
	   "outputs": [],
"source": [
"//Ex14_10 Pg-698\n",
"clc\n",
"\n",
"n1=1.48 //core refracrive index\n",
"n2=1.47 //cladding refractive index\n",
"lamda=850e-6 //cut-off wavelength\n",
"V=2.405 //normalised frequency\n",
"//In the book cut off wavelength in the question is 850 um but in\n",
"// the calcution part it is taken as 850nm. Here I've taken 850um \n",
"d=V*lamda/(%pi*sqrt(n1^2-n2^2)) //diamter of core\n",
"a=d/2 //radius of core\n",
"printf('Radius of core = %.2f mm \n',a*1e3)//answer in the book is wrong\n",
"\n",
"NA=sqrt(n1^2-n2^2) //numerical apperture\n",
"printf(' Numerical apperture = %.4f \n',NA)\n",
"\n",
"AA_rad=asin(NA/n) //maximum Acceptance angle in rad\n",
"AA=AA_rad*180/%pi //maximum entrance angle in degree\n",
"printf(' Acceptance angle i0 = %.2f degree \n',AA)"
   ]
   }
,
{
		   "cell_type": "markdown",
		   "metadata": {},
		   "source": [
			"## Example 14.11: Loss_in_Optical_Fibre.sce"
		   ]
		  },
  {
"cell_type": "code",
	   "execution_count": null,
	   "metadata": {
	    "collapsed": true
	   },
	   "outputs": [],
"source": [
"//Ex14_11 Pg-699\n",
"clc\n",
"\n",
"L=500/1000 //length of fiber in m\n",
"Pin=1*10^(-3) //input power in watt\n",
"Pout=85/100*10^(-3) //output power in watt\n",
"\n",
"alpha=(10/L)*log10(Pin/Pout) //loss\n",
"printf('Loss in the fiber = %.2f dB/Km',alpha)"
   ]
   }
,
{
		   "cell_type": "markdown",
		   "metadata": {},
		   "source": [
			"## Example 14.12: Communication_System_Output_Power.sce"
		   ]
		  },
  {
"cell_type": "code",
	   "execution_count": null,
	   "metadata": {
	    "collapsed": true
	   },
	   "outputs": [],
"source": [
"//Ex14_12 Pg-699\n",
"clc\n",
"\n",
"L=10 //length of fiber in km\n",
"alpha=2.5 //loss in the fiber per km\n",
"Pin=500*10^(-6) //input power in watt\n",
"\n",
"tot_alpha=-1*alpha*L //total loss in the fiber\n",
"Pout=Pin*10^(tot_alpha/10) //output power in watt\n",
"printf('Output power = %.2f uW',Pout*1e6)"
   ]
   }
,
{
		   "cell_type": "markdown",
		   "metadata": {},
		   "source": [
			"## Example 14.13: GRIN_Optical_Fibre.sce"
		   ]
		  },
  {
"cell_type": "code",
	   "execution_count": null,
	   "metadata": {
	    "collapsed": true
	   },
	   "outputs": [],
"source": [
"//Ex14_13 Pg-700\n",
"clc\n",
"\n",
"del=1/100 //fractional difference of refractive indices\n",
"lamda=1.3*10^(-6) //cutoff wavelength in m\n",
"n1=1.5 //refractive index\n",
"d=6.6*10^(-6) //diameter of the core\n",
"alpha=2 //loss in fiber\n",
"\n",
"disp('    We have for a GRIN , maximum value of normalized frequency for single mode operation is given by')\n",
"disp('          V = 2.4*sqrt(1+2/alpha)')\n",
"V=2.4*sqrt(1+2/alpha) //normalzed frequency\n",
"\n",
"disp('    For maximum core radiation , we have')\n",
"r=V*lamda/(2*%pi*n1*sqrt(2*del)) //radius of the core\n",
"printf('              r = %.1f um \n',r*1e6)\n",
"\n",
"rr=2*r //diameter of the core\n",
"printf('\n Maximum core diameter which permit single mode operation \n = 2*r = %.1f um',rr*1e6)"
   ]
   }
,
{
		   "cell_type": "markdown",
		   "metadata": {},
		   "source": [
			"## Example 14.14: Multimode_Step_Index_Optical_Fibre.sce"
		   ]
		  },
  {
"cell_type": "code",
	   "execution_count": null,
	   "metadata": {
	    "collapsed": true
	   },
	   "outputs": [],
"source": [
"//Ex14_14 Pg-700\n",
"clc\n",
"\n",
"del=1.5/100 //fractional difference of refractive indices\n",
"lamda=0.85*10^(-6) //cutoff wavelength in m\n",
"n1=1.48 //refractive index\n",
"d=6.6*10^(-6) //diameter of the core\n",
"V=2.4 //normalzed frequency\n",
"\n",
"\n",
"disp('    For maximum core radiation , we have')\n",
"r=V*lamda/(2*%pi*n1*sqrt(2*del))\n",
"printf('              r = %.1f um \n',r*1e6)\n",
"\n",
"r=1.3*10^(-6) //actual radius=1.266 micrometer and assumed to 1.3 micometer\n",
"rr=2*r //diameter of the core\n",
"printf('\n Maximum core diameter which permit single mode operation \n = 2*r = %.1f um',rr*1e6)"
   ]
   }
,
{
		   "cell_type": "markdown",
		   "metadata": {},
		   "source": [
			"## Example 14.15: Optical_Fibre.sce"
		   ]
		  },
  {
"cell_type": "code",
	   "execution_count": null,
	   "metadata": {
	    "collapsed": true
	   },
	   "outputs": [],
"source": [
"//Ex14_15 Pg-701\n",
"clc\n",
"\n",
"alpha=3.5 //loss in fiber\n",
"Pi=0.5//input power in milli watt\n",
"L=4 //length of fiber in km\n",
"\n",
"disp('The attenuation of an optical fiber is given by')\n",
"disp('             alpha = (10/L)*log(Pi/Po)')\n",
"\n",
"Po=Pi/(10^(alpha*L/10))\n",
"printf('\n Output power = %.2f mW',Po*1e3)"
   ]
   }
,
{
		   "cell_type": "markdown",
		   "metadata": {},
		   "source": [
			"## Example 14.16: Single_Mode_Step_Index_Fibre.sce"
		   ]
		  },
  {
"cell_type": "code",
	   "execution_count": null,
	   "metadata": {
	    "collapsed": true
	   },
	   "outputs": [],
"source": [
"//Ex14_16 Pg-701\n",
"clc\n",
"\n",
"n1=1.46 //core refracrive index\n",
"r=4.5*10^(-6)  //radius of the core\n",
"del=0.25/100 //fractional difference of refractive indices\n",
"Vc=2.405 //normalzed frequency\n",
"\n",
"disp('We have, cut-off wavelength expression')\n",
"lamda=(2*%pi*r*n1*sqrt(2*del))/Vc\n",
"printf('            = %.3f um',lamda*1e6)"
   ]
   }
,
{
		   "cell_type": "markdown",
		   "metadata": {},
		   "source": [
			"## Example 14.1: Optical_fibre.sce"
		   ]
		  },
  {
"cell_type": "code",
	   "execution_count": null,
	   "metadata": {
	    "collapsed": true
	   },
	   "outputs": [],
"source": [
"//Ex14_1 Pg-695\n",
"clc\n",
"\n",
"n1=1.545 //core refracrive index\n",
"n2=1.510 //cladding refractive index\n",
"d=3*10^(-6) //diamter of optical fiber in m\n",
"\n",
"a=d/2 //core radius in m\n",
"del=(n1-n2)/n1 //fractional difference of refractive indices\n",
"lamda_c=(2*%pi*a*n1*sqrt(2*del))/2.405 //cut-off wavelength\n",
"printf('Cut-off wavelength = %.2f um',lamda_c*1e6)"
   ]
   }
,
{
		   "cell_type": "markdown",
		   "metadata": {},
		   "source": [
			"## Example 14.2: Multimode_Index_Fibre.sce"
		   ]
		  },
  {
"cell_type": "code",
	   "execution_count": null,
	   "metadata": {
	    "collapsed": true
	   },
	   "outputs": [],
"source": [
"//Ex14_2 Pg-695\n",
"clc\n",
"\n",
"n1=1.53 //core refracrive index\n",
"n2=1.5 //cladding refractive index\n",
"lamda=10^(-6) //cut-off wavelength\n",
"a=50*10^(-6) //core radius in m\n",
"\n",
"\n",
"V=(2*%pi*a*sqrt(n1^2-n2^2))/lamda //normalised frequency\n",
"printf('Normalised frequency = %.2f \n',V)\n",
"\n",
"ms=V^2/2 //total number of guided mode\n",
"printf('Total number of guided mode = %.0f',ms)"
   ]
   }
,
{
		   "cell_type": "markdown",
		   "metadata": {},
		   "source": [
			"## Example 14.3: Multimode_Step_Index_Fibre.sce"
		   ]
		  },
  {
"cell_type": "code",
	   "execution_count": null,
	   "metadata": {
	    "collapsed": true
	   },
	   "outputs": [],
"source": [
"//Ex14_3 Pg-695\n",
"clc\n",
"\n",
"n1=1.5//core refracrive index\n",
"n2=1.46 //cladding refractive index\n",
"\n",
"tetha_rad=asin(n2/n1) //critical angle in radians\n",
"tetha=tetha_rad*180/%pi //critical angle in degree \n",
"printf('Critical angle = %.1f degree \n',tetha)\n",
"\n",
"tetha_m_rad=asin(sqrt(n1^2-n2^2)) //acceptance angle in radians\n",
"tetha_m=tetha_m_rad*180/%pi\n",
"printf(' Acceptance angle = %.1f degree \n',tetha_m)\n",
"\n",
"NA=sin(tetha_m_rad)\n",
"printf(' Numerical Apperture = %.3f',NA)\n",
"\n",
""
   ]
   }
,
{
		   "cell_type": "markdown",
		   "metadata": {},
		   "source": [
			"## Example 14.4: Optical_Fibre.sce"
		   ]
		  },
  {
"cell_type": "code",
	   "execution_count": null,
	   "metadata": {
	    "collapsed": true
	   },
	   "outputs": [],
"source": [
"//Ex14_4 Pg-696\n",
"clc\n",
"\n",
"NA=0.5 //numerical apperture\n",
"n1=1.54 //core refractive index\n",
"\n",
"n2=sqrt(n1^2-NA^2) //cladding refractive index\n",
"printf('(1) Cladding refractive index = %.3f \n',n2)\n",
"\n",
"RI=(n1-n2)/n1 //change in core cladding refractive index\n",
"printf(' (2) RI of the core = %.4f',RI)"
   ]
   }
,
{
		   "cell_type": "markdown",
		   "metadata": {},
		   "source": [
			"## Example 14.5: Step_Index_Fibre.sce"
		   ]
		  },
  {
"cell_type": "code",
	   "execution_count": null,
	   "metadata": {
	    "collapsed": true
	   },
	   "outputs": [],
"source": [
"//Ex14_5 Pg-696\n",
"clc\n",
"\n",
"n1=1.5//core refracrive index\n",
"n2=1.48 //cladding refractive index\n",
"n=1\n",
"\n",
"NA=sqrt(n1^2-n2^2) //numerical apperture\n",
"printf('(1) Numerical apperture = %.5f \n',NA)\n",
"\n",
"AA_rad=asin(NA/n) //maximum Acceptance angle in rad\n",
"AA=AA_rad*180/%pi //maximum entrance angle in degree\n",
"printf(' (2) The maximum entrance angle i0 = %.2f degree',AA)\n",
""
   ]
   }
,
{
		   "cell_type": "markdown",
		   "metadata": {},
		   "source": [
			"## Example 14.6: Optical_Fibre.sce"
		   ]
		  },
  {
"cell_type": "code",
	   "execution_count": null,
	   "metadata": {
	    "collapsed": true
	   },
	   "outputs": [],
"source": [
"//Ex14_6 Pg-697\n",
"clc\n",
"\n",
"n2=1.59 //cladding refractive index\n",
"NA=0.2 //numerical apperture\n",
"n0=1 //when fiber is in air\n",
"\n",
"n1=sqrt(n2^2+NA^2) //core refractive index\n",
"printf('Core refractive index = %.3f \n',n1)\n",
"\n",
"n0=1.33 //water refractive index\n",
"NA=sqrt(n1^2-n2^2)/n0 //numerical apperture\n",
"printf(' Numerical apperture = %.2f \n',NA)\n",
"\n",
"AA_rad=asin(NA/n) //maximum Acceptance angle in rad\n",
"AA=AA_rad*180/%pi //maximum entrance angle in degree\n",
"printf(' The maximum entrance angle i0 = %.2f degree',AA)"
   ]
   }
,
{
		   "cell_type": "markdown",
		   "metadata": {},
		   "source": [
			"## Example 14.7: Optical_Fibre.sce"
		   ]
		  },
  {
"cell_type": "code",
	   "execution_count": null,
	   "metadata": {
	    "collapsed": true
	   },
	   "outputs": [],
"source": [
"//Ex14_7 Pg-697\n",
"clc\n",
"\n",
"NA=0.22 //numerical apperture\n",
"del=0.012 //fractional difference of refractive indices\n",
"\n",
"n1=NA/(sqrt(2*del)) //core refractive index\n",
"printf('Core refractive index = %.2f \n',n1)\n",
"\n",
"n2=n1-del*n1 //cladding refractive index\n",
"printf(' Cladding refractive index = %.2f \n',n2)\n",
"\n",
""
   ]
   }
,
{
		   "cell_type": "markdown",
		   "metadata": {},
		   "source": [
			"## Example 14.8: Optical_Fibre.sce"
		   ]
		  },
  {
"cell_type": "code",
	   "execution_count": null,
	   "metadata": {
	    "collapsed": true
	   },
	   "outputs": [],
"source": [
"//Ex14_8 Pg-698\n",
"clc\n",
"\n",
"n1=1.52 //core refracrive index\n",
"n2=1.46 //cladding refractive index\n",
"\n",
"del=(n1-n2)/n1 //fractional difference of refractive indices\n",
"\n",
"NA=n1*sqrt(2*del) //numerical apperture\n",
"printf('Numerical apperture = %.3f \n',NA)\n",
"\n",
"AA_rad=asin(NA/n) //maximum Acceptance angle in rad\n",
"AA=AA_rad*180/%pi //maximum entrance angle in degree\n",
"printf(' Acceptance angle i0 = %.2f degree \n',AA)\n",
"\n",
"tetha_rad=asin(n2/n1) //critical angle in radians\n",
"tetha=tetha_rad*180/%pi //critical angle in degree \n",
"printf(' Critical angle = %.1f degree \n',tetha)"
   ]
   }
,
{
		   "cell_type": "markdown",
		   "metadata": {},
		   "source": [
			"## Example 14.9: Step_Index_Fibre.sce"
		   ]
		  },
  {
"cell_type": "code",
	   "execution_count": null,
	   "metadata": {
	    "collapsed": true
	   },
	   "outputs": [],
"source": [
"//Ex14_9 Pg-698\n",
"clc\n",
"\n",
"n1=1.45 //core refracrive index\n",
"NA=0.16//cladding refractive index\n",
"lamda=0.9*10^(-6) //cut-off wavelength\n",
"d=60/100 //core radius in m\n",
"\n",
"\n",
"V=(%pi*d*NA)/lamda //normalised frequency\n",
"printf('Normalised frequency = %.2f*1e5 \n',V*1e-5)"
   ]
   }
],
"metadata": {
		  "kernelspec": {
		   "display_name": "Scilab",
		   "language": "scilab",
		   "name": "scilab"
		  },
		  "language_info": {
		   "file_extension": ".sce",
		   "help_links": [
			{
			 "text": "MetaKernel Magics",
			 "url": "https://github.com/calysto/metakernel/blob/master/metakernel/magics/README.md"
			}
		   ],
		   "mimetype": "text/x-octave",
		   "name": "scilab",
		   "version": "0.7.1"
		  }
		 },
		 "nbformat": 4,
		 "nbformat_minor": 0
}
