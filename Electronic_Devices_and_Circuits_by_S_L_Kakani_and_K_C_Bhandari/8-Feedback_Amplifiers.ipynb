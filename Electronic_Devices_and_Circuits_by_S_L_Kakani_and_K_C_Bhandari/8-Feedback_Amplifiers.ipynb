{
"cells": [
 {
		   "cell_type": "markdown",
	   "metadata": {},
	   "source": [
       "# Chapter 8: Feedback Amplifiers"
	   ]
	},
{
		   "cell_type": "markdown",
		   "metadata": {},
		   "source": [
			"## Example 8.1: Voltage_Gain_of_Amplifier.sce"
		   ]
		  },
  {
"cell_type": "code",
	   "execution_count": null,
	   "metadata": {
	    "collapsed": true
	   },
	   "outputs": [],
"source": [
"//Ex8_1 pg-434\n",
"clc\n",
"\n",
"A=120 //amplification gain\n",
"Vi=50*10^(-3) //input voltage\n",
"Beta=0.1 //feedback factor\n",
"\n",
"Vo= A*Vi //output voltage without feedback\n",
"printf('Input signal = %.2f V \n',Vo)\n",
"\n",
"Vs=Vi-Beta*Vo \n",
"//input signal +ve output because of -ve feedback (calue in texxtbook is wrong)\n",
"printf(' Input signal = %.2f V \n',abs(Vs))\n",
"\n",
"vg=A/(1+Beta*A) //voltage gain \n",
"printf(' Gain after feedback = %.1f \n',vg)\n",
"\n",
"fb=(-1)*20*log10(1+(Beta*A))\n",
"printf(' Feedback (db)= %.3f \n',fb)"
   ]
   }
,
{
		   "cell_type": "markdown",
		   "metadata": {},
		   "source": [
			"## Example 8.2: Bandwidth_of_Amplifier.sce"
		   ]
		  },
  {
"cell_type": "code",
	   "execution_count": null,
	   "metadata": {
	    "collapsed": true
	   },
	   "outputs": [],
"source": [
"//Ex8_2 pg-435\n",
"clc\n",
"\n",
"ff=4 //feedback factor\n",
"BW=6*10^(6) //bandwidth in Hz\n",
"\n",
"BW_fb=BW*(1+ff) //Bandwidth with feedback factor(since Beta is +ve)\n",
"printf('Bandwidth with feedback factor = %.0f MHz',BW_fb*10^-6)"
   ]
   }
,
{
		   "cell_type": "markdown",
		   "metadata": {},
		   "source": [
			"## Example 8.3: Negative_Feedback_Factor.sce"
		   ]
		  },
  {
"cell_type": "code",
	   "execution_count": null,
	   "metadata": {
	    "collapsed": true
	   },
	   "outputs": [],
"source": [
"//Ex8_3 pg-435\n",
"clc\n",
"\n",
"openA=60000 //open loop gain \n",
"closeA=10000 //closed loop gain\n",
"Beta=((openA/closeA)-1)/closeA\n",
"printf('Negative Feedback factor = %.4f \n',Beta)\n",
"BA=Beta*openA //value of Beta*A\n",
"printf(' Beta*A = %.0f',BA)"
   ]
   }
,
{
		   "cell_type": "markdown",
		   "metadata": {},
		   "source": [
			"## Example 8.4: Feedback_Voltage_Gai.sce"
		   ]
		  },
  {
"cell_type": "code",
	   "execution_count": null,
	   "metadata": {
	    "collapsed": true
	   },
	   "outputs": [],
"source": [
"//Ex8_4 pg-435\n",
"clc\n",
"\n",
"Df=0.5/100 //distortion after negative feedback\n",
"D=8/100 //harmonic distortion \n",
"\n",
"BA=D/Df-1 //value of Beta*A\n",
"A=200\n",
"Beta=BA/A //feedback factor\n",
"printf('Feedback factor = %.3f \n',Beta)\n",
"Af=A/(1+BA) //Gain after -ve feedback\n",
"printf('Gain after negative feedback = %.1f',Af)"
   ]
   }
,
{
		   "cell_type": "markdown",
		   "metadata": {},
		   "source": [
			"## Example 8.5: Feedback_Voltage_Gai.sce"
		   ]
		  },
  {
"cell_type": "code",
	   "execution_count": null,
	   "metadata": {
	    "collapsed": true
	   },
	   "outputs": [],
"source": [
"//Ex8_5 pg-436\n",
"clc\n",
"\n",
"A=100 //voltage gain\n",
"per=10/100 //percentage of negative feedback applied\n",
"BA=A*per //value of Beta*A\n",
"Af=A/(1+BA) //gain after negative feedback\n",
"printf('Decrement in distortion,D-Df = D-(D/(1+Beta*A)) \n')\n",
"printf('                              = %.1f\n ',Af)\n",
"per_dis=(BA/(1+BA))*100 //percentage change in distortion \n",
"printf('Percentage change in distortion = %.0f %% \n',per_dis)\n",
"red=100-per_dis //reduction\n",
"printf(' Therefore reduction is = %.0f %%',red)"
   ]
   }
,
{
		   "cell_type": "markdown",
		   "metadata": {},
		   "source": [
			"## Example 8.6: Feedback_Amplifier.sce"
		   ]
		  },
  {
"cell_type": "code",
	   "execution_count": null,
	   "metadata": {
	    "collapsed": true
	   },
	   "outputs": [],
"source": [
"//Ex8_6 pg-436\n",
"clc\n",
"\n",
"A=50 //voltage gain\n",
"per=10/100 //percentage of negative feedback applied\n",
"BA=per*A //value of Beta*A\n",
"Af=A/(1+BA) //gain after negative feedback\n",
"printf('(1) Voltage gain after negative feedback \n')\n",
"printf('                              = %.2f\n ',Af)\n",
"\n",
"A=50 //voltage gain\n",
"per=5/100 //percentage of negative feedback applied\n",
"BA=per*A //value of Beta*A\n",
"Af1=A/(1+BA) //gain after negative feedback\n",
"printf('(2) Voltage gain after negative feedback \n')\n",
"printf('                              = %.1f\n ',Af1)\n",
"disp('So the new gain is not double the previous case')\n",
"disp('    The difference between expected value and actual value of gain obtained is')\n",
"diff_value=2*Af-Af1 \n",
"printf('                             = %.2f',diff_value)\n",
"\n",
"printf('\n\n(3) To have the gain double of case(1) i.e 16.66,let the \n feedback introduced be Beta(assuming negative feedback)')\n",
"Af=16.66 //voltage gain with negative feedback\n",
"A=50 //voltage gain\n",
"Beta=((A/Af)-1)/A //feedback in percentage\n",
"printf('\n                  Beta = %.2f',Beta)"
   ]
   }
],
"metadata": {
		  "kernelspec": {
		   "display_name": "Scilab",
		   "language": "scilab",
		   "name": "scilab"
		  },
		  "language_info": {
		   "file_extension": ".sce",
		   "help_links": [
			{
			 "text": "MetaKernel Magics",
			 "url": "https://github.com/calysto/metakernel/blob/master/metakernel/magics/README.md"
			}
		   ],
		   "mimetype": "text/x-octave",
		   "name": "scilab",
		   "version": "0.7.1"
		  }
		 },
		 "nbformat": 4,
		 "nbformat_minor": 0
}
