{
"cells": [
 {
		   "cell_type": "markdown",
	   "metadata": {},
	   "source": [
       "# Chapter 10: Operational Amplifier"
	   ]
	},
{
		   "cell_type": "markdown",
		   "metadata": {},
		   "source": [
			"## Example 10.1: Common_Mode_Voltage_Gain.sce"
		   ]
		  },
  {
"cell_type": "code",
	   "execution_count": null,
	   "metadata": {
	    "collapsed": true
	   },
	   "outputs": [],
"source": [
"//Ex10_1 Pg-490\n",
"clc\n",
"\n",
"Rc=1*10^(6) //collector resisstor in ohm\n",
"Re=2*10^(6) //emitter resistor in ohm\n",
"Vin=1*10^(-3) //input voltage in V\n",
"\n",
"Acm=Rc/Re //Common moce voltage gain\n",
"printf('Common moce voltage gain = %.1f \n',Acm) \n",
"\n",
"Vo=Acm*Vin //output voltage\n",
"printf(' Output voltage = %.1f mV',Vo*1e3)\n",
"\n",
"disp('Thus a differential amplifier in common mode attenuates the input signal rather than amplifying it')"
   ]
   }
,
{
		   "cell_type": "markdown",
		   "metadata": {},
		   "source": [
			"## Example 10.2: Differential_Amplifier.sce"
		   ]
		  },
  {
"cell_type": "code",
	   "execution_count": null,
	   "metadata": {
	    "collapsed": true
	   },
	   "outputs": [],
"source": [
"//Ex10_2 Pg-491\n",
"clc\n",
"\n",
"A=150 //voltage gain\n",
"Acm=0.5 //common mode voltage gain\n",
"Vin=1*10^(-3) //input voltage in V\n",
"\n",
"Vo=A*Vin //output voltage\n",
"printf('Amplified output voltage = %.2f V \n',Vo)\n",
"\n",
"Vo=Acm*Vin //output voltage\n",
"printf(' Attenuated output voltage = %.1f mV',Vo*1e3)"
   ]
   }
,
{
		   "cell_type": "markdown",
		   "metadata": {},
		   "source": [
			"## Example 10.3: Opamp_Operating_Circuit.sce"
		   ]
		  },
  {
"cell_type": "code",
	   "execution_count": null,
	   "metadata": {
	    "collapsed": true
	   },
	   "outputs": [],
"source": [
"//Ex10_3 Pg-517\n",
"clc\n",
"\n",
"R1=10*10^(3) //resistor R1 in ohm\n",
"Rf=50*10^(3) //feedback resistor in ohm\n",
"Vin=10*10^(-3) //input voltage in V\n",
"Ro=5000 //load resistor in ohm\n",
"\n",
"disp('A'' = Vo/Vi = (-1)*Rf/R1*(1+1/A*(1+Rf/R1))^-1 ')\n",
"A=5000 \n",
"Vo=Vin*(Rf/R1)/(1+1/A*(1+Rf/R1)) //output voltage\n",
"printf('\n When gain A=%.0f',A)\n",
"printf(' \n Amplified output voltage = %.1f mV \n',Vo*1e3)\n",
"\n",
"A=10000\n",
"Vo=Vin*(Rf/R1)/(1+1/A*(1+Rf/R1))\n",
"printf('\n When gain A=%.0f',A)\n",
"printf(' \n Amplified output voltage = %.2f mV \n',Vo*1e3)\n",
"\n",
"A=5000\n",
"Rout=Ro/(1+A*R1/Rf) //load resistance\n",
"printf(' \n Ro'' = %.3f ohm \n',Rout)\n",
"\n",
"A=10000\n",
"Rout=Ro/(1+A*R1/Rf) //load resistance\n",
"printf(' \n Ro'' = %.3f ohm \n',Rout)"
   ]
   }
,
{
		   "cell_type": "markdown",
		   "metadata": {},
		   "source": [
			"## Example 10.4: Opamp_Operating_in_Inverting_Mode.sce"
		   ]
		  },
  {
"cell_type": "code",
	   "execution_count": null,
	   "metadata": {
	    "collapsed": true
	   },
	   "outputs": [],
"source": [
"//Ex10_4 Pg-518\n",
"clc\n",
"\n",
"R1=1.5*10^(3) //resistor R1 in ohm\n",
"Rf=75*10^(3) //feedback resistor in ohm\n",
"Vin=10*10^(-3) //input voltage in V\n",
"funi=1*10^(6) //unity frequency in Hz\n",
"\n",
"Acl=(-1)*Rf/R1 //closed loop gain\n",
"printf('Magnitude of Closed loop gain = %.0f \n',abs(Acl))\n",
"\n",
"fcl=funi/abs(Acl) //closed loop frequency\n",
"printf(' Closed loop frequency = %.0f kHz \n',fcl*1e-3)\n",
"\n",
"Vout=abs(Acl)*Vin //output voltage\n",
"printf(' Output voltage = %.1f mV pp',Vout*1e3)"
   ]
   }
,
{
		   "cell_type": "markdown",
		   "metadata": {},
		   "source": [
			"## Example 10.5: Closed_Loop_Voltage_Gai.sce"
		   ]
		  },
  {
"cell_type": "code",
	   "execution_count": null,
	   "metadata": {
	    "collapsed": true
	   },
	   "outputs": [],
"source": [
"//Ex10_5 Pg-518\n",
"clc\n",
"\n",
"R1=2*10^(3) //resistor R1 in ohm\n",
"Rf=0 //feedback resistor in ohm\n",
"\n",
"disp('(1) When resistor 100 k-ohm is in zero position')\n",
"A=1+Rf/R1 //gain\n",
"printf(' Gain = %.0f \n',A)\n",
"\n",
"Rf=100*10^(3)\n",
"disp('(1) When resistor 100 k-ohm is in maximum position')\n",
"A=1+Rf/R1 //gain\n",
"printf(' Gain = %.0f',A)"
   ]
   }
,
{
		   "cell_type": "markdown",
		   "metadata": {},
		   "source": [
			"## Example 10.6: Opamp_Operating_in_Inverting_Mode.sce"
		   ]
		  },
  {
"cell_type": "code",
	   "execution_count": null,
	   "metadata": {
	    "collapsed": true
	   },
	   "outputs": [],
"source": [
"//Ex10_6 Pg-519\n",
"clc\n",
"\n",
"R1=50*10^(3) //resistor R1 in ohm\n",
"Rf=300*10^(3) //feedback resistor in ohm\n",
"Vin=1 //input voltage in V\n",
"\n",
"disp('In the inverting mode,voltage gain is ')\n",
"disp('A'' = Vo/Vi = (-1)*Rf/R1*(1+1/A*(1+Rf/R1))^-1 ')\n",
"A=10000 \n",
"Vo=(-1)*Vin*(Rf/R1)/(1+1/A*(1+Rf/R1)) //output voltage\n",
"printf(' \n Amplified output voltage = %.3f V \n',Vo)"
   ]
   }
,
{
		   "cell_type": "markdown",
		   "metadata": {},
		   "source": [
			"## Example 10.7: Power_Bandwidth_of_Opamp.sce"
		   ]
		  },
  {
"cell_type": "code",
	   "execution_count": null,
	   "metadata": {
	    "collapsed": true
	   },
	   "outputs": [],
"source": [
"//Ex10_7 Pg-519\n",
"clc\n",
"\n",
"Sr=15/1e-6 //slew rate in V/sec\n",
"Vp=10 //peak output voltage\n",
"\n",
"fmax=Sr/(2*%pi*Vp) //Power Bandwidth\n",
"printf('Power Bandwidth = %.0f kHz',fmax*1e-3)"
   ]
   }
,
{
		   "cell_type": "markdown",
		   "metadata": {},
		   "source": [
			"## Example 10.8: Resistances_of_Opamp.sce"
		   ]
		  },
  {
"cell_type": "code",
	   "execution_count": null,
	   "metadata": {
	    "collapsed": true
	   },
	   "outputs": [],
"source": [
"//Ex10_8 Pg-519\n",
"clc\n",
"\n",
"A=5000 //voltage gain\n",
"Ri=10000 //input resistor in ohm\n",
"Ro=100 //load resistor in ohm\n",
"Rf=0 //feedback resistor in ohm\n",
"\n",
"Rin=A*Ri/(1+Rf/Ri) //input resistance of buffer circuit\n",
"printf('Input resistance of buffer circuit = %.0f*1e7 ohm \n',Rin*1e-7)\n",
"\n",
"Rout=Ro/A*(1+Rf/Ri) //output resistance of buffer circuit\n",
"printf(' Output resistance of buffer circuit = %.2f ohm',Rout)"
   ]
   }
],
"metadata": {
		  "kernelspec": {
		   "display_name": "Scilab",
		   "language": "scilab",
		   "name": "scilab"
		  },
		  "language_info": {
		   "file_extension": ".sce",
		   "help_links": [
			{
			 "text": "MetaKernel Magics",
			 "url": "https://github.com/calysto/metakernel/blob/master/metakernel/magics/README.md"
			}
		   ],
		   "mimetype": "text/x-octave",
		   "name": "scilab",
		   "version": "0.7.1"
		  }
		 },
		 "nbformat": 4,
		 "nbformat_minor": 0
}
