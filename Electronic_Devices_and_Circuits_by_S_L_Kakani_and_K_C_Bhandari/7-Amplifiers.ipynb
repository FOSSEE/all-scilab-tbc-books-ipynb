{
"cells": [
 {
		   "cell_type": "markdown",
	   "metadata": {},
	   "source": [
       "# Chapter 7: Amplifiers"
	   ]
	},
{
		   "cell_type": "markdown",
		   "metadata": {},
		   "source": [
			"## Example 7.1: Coupling.sce"
		   ]
		  },
  {
"cell_type": "code",
	   "execution_count": null,
	   "metadata": {
	    "collapsed": true
	   },
	   "outputs": [],
"source": [
"//Ex7_1 Pg-369\n",
"clc\n",
"\n",
"disp('Refer to the figure 7.19')\n",
"disp('For good coupling')\n",
"disp('              Xc <= 0.1*R')\n",
"R=10*10^(3) //resistor R in ohm\n",
"C=68*10^(-6) //capacitance in Farad\n",
"f=1/(2*%pi*C*0.1*R)\n",
"disp('Lowest frequency,f')\n",
"printf('                = %.2f Hz',f)\n",
"disp('or lowest frequency is approximately 3 Hz')"
   ]
   }
,
{
		   "cell_type": "markdown",
		   "metadata": {},
		   "source": [
			"## Example 7.2: Bypassing.sce"
		   ]
		  },
  {
"cell_type": "code",
	   "execution_count": null,
	   "metadata": {
	    "collapsed": true
	   },
	   "outputs": [],
"source": [
"//Ex7_2 Pg-369\n",
"clc\n",
"\n",
"disp('Refer to the figure 7.20')\n",
"disp('For good coupling')\n",
"disp('              Xc <= 0.1*R')\n",
"R=10*10^(3) //resistor R in ohm\n",
"C=220*10^(-6) //capacitance in Farad\n",
"f=1/(2*%pi*C*0.1*R)\n",
"disp('Lowest frequency,f')\n",
"printf('                = %.2f Hz',f)\n",
"disp('or lowest frequency is approximately 1 Hz')"
   ]
   }
,
{
		   "cell_type": "markdown",
		   "metadata": {},
		   "source": [
			"## Example 7.3: Small_Signal_Amplifiers.sce"
		   ]
		  },
  {
"cell_type": "code",
	   "execution_count": null,
	   "metadata": {
	    "collapsed": true
	   },
	   "outputs": [],
"source": [
"//Ex7_3 Pg-369\n",
"clc\n",
"\n",
"Beta=250 //transistor gain\n",
"Vcc=15 //supply voltage\n",
"R1=2000 //resistor R1 in ohm\n",
"R2=470 //resistor R2 in ohm\n",
"Vce=0.7 //voltage drop in V\n",
"Re=220 //emitter resistor in ohm\n",
"\n",
"Vb=(Vcc*R2)/(R1+R2) //base voltage in V\n",
"disp('(1) Base voltage Vb')\n",
"printf('            = %.2f V',Vb)\n",
"Ve=Vb-Vce //emitter voltage in V\n",
"disp('Emitter voltage Vb')\n",
"printf('            = %.2f V',Ve)\n",
"Ie=Ve/Re //emitter current\n",
"disp('Emitter current ')\n",
"printf('          Ie  = %.3f*10^-2 A',Ie*10^2)\n",
"disp('For small signal operation, ie <= 0.1*Ie')\n",
"ie=0.1*Ie \n",
"printf('            =%.3f mA \n',ie*10^3)\n",
"\n",
"disp('(2) AC emitter diode resistance =25mV/ie')\n",
"Re_ac=25*10^(-3)/ie //AC emitter diode resistance\n",
"printf('                             =%.0f ohm \n',Re_ac)\n",
"\n",
"disp('(3) Z''vm = Beta*r''e')\n",
"Re_ac=26 //AC emitter diode resistance assumed 26 ohm not 25.53 ohm\n",
"Zvm=Beta*Re_ac\n",
"printf('          =%.0f ohm',Zvm)"
   ]
   }
,
{
		   "cell_type": "markdown",
		   "metadata": {},
		   "source": [
			"## Example 7.4: Amplifier_Circuit.sce"
		   ]
		  },
  {
"cell_type": "code",
	   "execution_count": null,
	   "metadata": {
	    "collapsed": true
	   },
	   "outputs": [],
"source": [
"//Ex7_4 Pg-370\n",
"clc\n",
"\n",
"Beta=100 //transistor gain\n",
"Vcc=10 //supply voltage\n",
"R1=10*10^(3) //resistor R1 in ohm\n",
"R2=2200 //resistor R2 in ohm\n",
"Vce=0.7 //voltage drop in V\n",
"Re=2000 //emitter resistor in ohm\n",
"Rs=600 //source resistor in ohm\n",
"\n",
"Vb=(Vcc*R2)/(R1+R2) //base voltage in V\n",
"disp('Base voltage Vb')\n",
"printf('            = %.1f V',Vb)\n",
"Ve=Vb-Vce //emitter voltage in V\n",
"disp('Emitter voltage Vb')\n",
"printf('            = %.1f V',Ve)\n",
"Ie=Ve/Re //emitter current\n",
"disp('Emitter current')\n",
"printf('            = %.2f mA',Ie*10^3)\n",
"disp('AC emitter diode resistance =25mV/ie')\n",
"re=25*10^(-3)/Ie //AC emitter diode resistance\n",
"printf('                             =%.0f ohm \n',re)\n",
"rc=((3.6*10)/(3.6+10))*10^(3) //Collector dioed resistance\n",
"A=rc/re //voltage gain(value in text book is wrong)\n",
"disp('Voltage gain A')\n",
"printf('    `        = %.0f',A)\n",
"zin_1=((10*2.2)/(10+2.2))\n",
"zin=((zin_1*Beta*A)/(zin_1+(Beta*A)))*1000\n",
"disp('Zin stage')\n",
"printf('             = %.3f kohm',zin*10^-3)\n",
"Vin=(zin/(Rs+zin))*10^(-3) //input voltage (value in text book is wrong)\n",
"disp('Input voltage')\n",
"printf('             = %.2f mV',Vin*10^3)\n",
"Vout=A*Vin //output voltage (value in textbook is wrong)\n",
"disp('Output voltage')\n",
"printf('             = %.2f mV',Vout*10^3)"
   ]
   }
,
{
		   "cell_type": "markdown",
		   "metadata": {},
		   "source": [
			"## Example 7.5: RC_Coupled_CE_Amplifier.sce"
		   ]
		  },
  {
"cell_type": "code",
	   "execution_count": null,
	   "metadata": {
	    "collapsed": true
	   },
	   "outputs": [],
"source": [
"//Ex7_5 Pg-371\n",
"clc\n",
"\n",
"hfe=50 //current gain\n",
"Rl=10*10^(3) //load resistor in ohm\n",
"Rs=500 //source resistor in ohm\n",
"hie=10^(3) //input resitance in ohm\n",
"\n",
"A=hfe*Rl/(Rs+hie) //volatge gain\n",
"printf('Voltage gain = %.1f \n',A)\n",
"Vs=0.02 //source voltage in V\n",
"Vout=A*Vs //output voltage\n",
"printf('Output voltage = %.2f V',Vout)"
   ]
   }
,
{
		   "cell_type": "markdown",
		   "metadata": {},
		   "source": [
			"## Example 7.6: Audio_Amplifier.sce"
		   ]
		  },
  {
"cell_type": "code",
	   "execution_count": null,
	   "metadata": {
	    "collapsed": true
	   },
	   "outputs": [],
"source": [
"//Ex7_6 Pg-372\n",
"clc\n",
"\n",
"Vout=5 //output voltage\n",
"Vin=0.5 //input voltage\n",
"Ri=10*10^(3) //input resistance in ohm\n",
"Ro=10 //output resistance\n",
"\n",
"A=Vout/Vin //voltage gain\n",
"printf('Voltage gain =%.0f \n',A)\n",
"Pi=Vin^2/Ri //input power\n",
"Po=Vout^2/Ro //output power\n",
"Pow_gain=10*(log10(Po)-log10(Pi)) //power gain\n",
"printf(' Power gain(in decibel) = %.0f dB \n\n',Pow_gain)\n",
"\n",
"disp('When Ri=Ro')\n",
"Ri=Ro\n",
"A=Vout/Vin //voltage gain\n",
"Pi=Vin^2/Ri //input power\n",
"Po=Vout^2/Ro //output power\n",
"Pow_gain=10*(log10(Po)-log10(Pi)) //power gain \n",
"printf(' Power gain(in decibel) = %.0f dB',Pow_gain)"
   ]
   }
,
{
		   "cell_type": "markdown",
		   "metadata": {},
		   "source": [
			"## Example 7.7: RC_Coupled_CE_Amplifier.sce"
		   ]
		  },
  {
"cell_type": "code",
	   "execution_count": null,
	   "metadata": {
	    "collapsed": true
	   },
	   "outputs": [],
"source": [
"//Ex7_7 Pg-372\n",
"clc\n",
"\n",
"Rl=2*10^(3) //load resistance in ohm\n",
"Ri=500 //input resistance in ohm\n",
"C=2*10^(-6) //capacitor in microFarad\n",
"\n",
"f=(1/(2*%pi*C*(Rl+Ri))) //textbook answer is wrong\n",
"printf('Lowest cut-off frequency = %.0f Hz',f)"
   ]
   }
,
{
		   "cell_type": "markdown",
		   "metadata": {},
		   "source": [
			"## Example 7.8: RC_Coupled_Amplifier.sce"
		   ]
		  },
  {
"cell_type": "code",
	   "execution_count": null,
	   "metadata": {
	    "collapsed": true
	   },
	   "outputs": [],
"source": [
"//Ex7_8 Pg-372\n",
"clc\n",
"\n",
"Rl=20*10^(3) //load resistance in ohm\n",
"Ri=5000 //input resistance in ohm\n",
"f=33 //lower cut-off frequency in Hz\n",
"f2=33*10^(3) //higher cut-off frequency\n",
"\n",
"C=(1/(2*%pi*f*(Rl+Ri))) //coupling capacitance (value in textbook is wrong)\n",
"printf('Coupling Capacitor = %.1f uF \n',C*10^6)\n",
"\n",
"Req=(Rl*Ri)/(Rl+Ri) //equivalent resistance\n",
"Cs=1/(2*%pi*f2*Req) //shunting capacitance (value in textbook is wrong)\n",
"printf(' Coupling Capacitor = %.0f uF \n',Cs*10^12)"
   ]
   }
,
{
		   "cell_type": "markdown",
		   "metadata": {},
		   "source": [
			"## Example 7.9: FET_Amplifier.sce"
		   ]
		  },
  {
"cell_type": "code",
	   "execution_count": null,
	   "metadata": {
	    "collapsed": true
	   },
	   "outputs": [],
"source": [
"//Ex7_9 Pg-373\n",
"clc\n",
"\n",
"Rd=3000 //source resistance in ohm\n",
"Rl=5000 //load resistance in ohm\n",
"Req=Rd*Rl/(Rd+Rl) //equivqlent resistance\n",
"\n",
"gm=4500*10^(-6) //voltage gain in microMhos\n",
"Av=(-1)*gm*Req //voltage amplification\n",
"printf('Voltage Amplification = %.2f \n',Av)\n",
"Vi=100*10^(-3) //input voltage\n",
"Vout=abs(Av)*Vi //output voltage (value in textbook is wrong)\n",
"printf(' Output voltage = %.1f V',Vout)"
   ]
   }
],
"metadata": {
		  "kernelspec": {
		   "display_name": "Scilab",
		   "language": "scilab",
		   "name": "scilab"
		  },
		  "language_info": {
		   "file_extension": ".sce",
		   "help_links": [
			{
			 "text": "MetaKernel Magics",
			 "url": "https://github.com/calysto/metakernel/blob/master/metakernel/magics/README.md"
			}
		   ],
		   "mimetype": "text/x-octave",
		   "name": "scilab",
		   "version": "0.7.1"
		  }
		 },
		 "nbformat": 4,
		 "nbformat_minor": 0
}
