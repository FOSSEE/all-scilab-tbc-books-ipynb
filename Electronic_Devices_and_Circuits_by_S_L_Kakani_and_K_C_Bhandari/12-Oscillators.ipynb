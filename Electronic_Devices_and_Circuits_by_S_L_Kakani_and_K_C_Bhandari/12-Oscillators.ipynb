{
"cells": [
 {
		   "cell_type": "markdown",
	   "metadata": {},
	   "source": [
       "# Chapter 12: Oscillators"
	   ]
	},
{
		   "cell_type": "markdown",
		   "metadata": {},
		   "source": [
			"## Example 12.1: Colpitts_Oscillator.sce"
		   ]
		  },
  {
"cell_type": "code",
	   "execution_count": null,
	   "metadata": {
	    "collapsed": true
	   },
	   "outputs": [],
"source": [
"//Ex12_1 Pg-587\n",
"clc\n",
"\n",
"C1=0.001e-6 //capacitor c1 in farad\n",
"C2=0.01e-6 //capacitor c2 in farad\n",
"L=5e-6 //inductance in Henry\n",
"\n",
"disp('To maintain vibrations in a colpitts oscilator,')\n",
"disp('              hfe >= C2/C1')\n",
"hfe=C2/C1 //transistor current gain\n",
"printf('                    = %.f \n',hfe)\n",
"\n",
"printf('So the value of hfe of transistor used must be greater \n than 10. \n')\n",
"disp('Frequency of oscillations produced')\n",
"x=inv(C1)+inv(C2)\n",
"y=inv(L)\n",
"f=sqrt(x*y)\n",
"printf('            = %.1f*1e7 Hz',f*1e-7)\n",
"// answer in the book is wrong"
   ]
   }
,
{
		   "cell_type": "markdown",
		   "metadata": {},
		   "source": [
			"## Example 12.2: Phase_Shift_Oscillator.sce"
		   ]
		  },
  {
"cell_type": "code",
	   "execution_count": null,
	   "metadata": {
	    "collapsed": true
	   },
	   "outputs": [],
"source": [
"//Ex12_2 Pg-588\n",
"clc\n",
"\n",
"RL=3.3*10^(3) //load resistor in ohm\n",
"R=5.6*10^(3) //resistor R in ohm\n",
"C=0.001*10^(-6) //capacitance in farad\n",
"\n",
"disp('For oscillations to be maintained in a RC oscillator, ')\n",
"hfe=(23+(29*R/RL)+(4*RL/R)) //transistor current gain\n",
"printf('                    = %.f \n',hfe)\n",
"\n",
"disp('Frequency of oscillations,')\n",
"f=1/(2*%pi*C*sqrt((4*R*RL)+(6*R^2))) \n",
"//frequency of oscillation (textbook answer is wrong\n",
"// because of the used of wrong value of C)\n",
"printf('            = %.1f Hz',f)"
   ]
   }
,
{
		   "cell_type": "markdown",
		   "metadata": {},
		   "source": [
			"## Example 12.3: Oscillator.sce"
		   ]
		  },
  {
"cell_type": "code",
	   "execution_count": null,
	   "metadata": {
	    "collapsed": true
	   },
	   "outputs": [],
"source": [
"//Ex12_3 Pg-588\n",
"clc\n",
"\n",
"L=0.33 //inductance in henry\n",
"C=0.065*10^(-12) //capacitance in farad\n",
"Cm=10^(-12) //capacitance in farad\n",
"R=0.55*10^(3) //resistor R in ohm\n",
"\n",
"disp('Series resonant frequency, fs = 1/2*pi*sqrt(L*C)')\n",
"fs=1/(2*%pi*sqrt(L*C))\n",
"printf('            = %.2f MHz \n',fs*1e-6)\n",
"\n",
"disp('Q of the crystal = 2*pi*fs*L/R')\n",
"Q=(2*%pi*fs*L)/R //quality factor (textbook answer wrong)\n",
"printf('            = %.0f \n',Q)"
   ]
   }
,
{
		   "cell_type": "markdown",
		   "metadata": {},
		   "source": [
			"## Example 12.4: Pierce_Oscillator.sce"
		   ]
		  },
  {
"cell_type": "code",
	   "execution_count": null,
	   "metadata": {
	    "collapsed": true
	   },
	   "outputs": [],
"source": [
"//Ex12_4 Pg-602\n",
"clc\n",
"\n",
"L=3 //inductance in henry\n",
"Cs=0.05*10^(-12) //capacitance in farad\n",
"Cm=10*10^(-12) //capacitance in farad\n",
"R=2*10^(3) //resistor R in ohm\n",
"\n",
"disp('Series resonant frequency, fs = 1/2*pi*sqrt(LC)')\n",
"fs=1/(2*%pi*sqrt(L*Cs))\n",
"printf('            = %.0f KHz \n',fs*1e-3)\n",
"\n",
"disp('The equialent parallel capacitance, Cp = Cm*Cs/Cm+Cs')\n",
"Cp=Cm*Cs/(Cm+Cs) //quality factor \n",
"printf('            = %.4f pF \n',Cp*1e12)\n",
"\n",
"disp('Parallel resonant frequency, fp = 1/2*pi*sqrt(L*Cp)')\n",
"fp=1/(2*%pi*sqrt(L*Cp))\n",
"printf('            = %.0f kHz \n',fp*1e-3)"
   ]
   }
,
{
		   "cell_type": "markdown",
		   "metadata": {},
		   "source": [
			"## Example 12.5: Oscillator.sce"
		   ]
		  },
  {
"cell_type": "code",
	   "execution_count": null,
	   "metadata": {
	    "collapsed": true
	   },
	   "outputs": [],
"source": [
"//Ex12_5 Pg-602\n",
"clc\n",
"\n",
"disp('Fundamental frequency of oscillations of crystal')\n",
"disp('              fr = K/t')\n",
"disp('Let new thickness of the crystal be t''')\n",
"disp('          fr''/fr = t''/t = 99/100')\n",
"disp('So, new frequency fr'' = k/t''')\n",
"disp('or            fr'' = (99/100)*fr')\n",
"disp('or reduction in frequency,')\n",
"disp('         fr-fr'' = fr-(99/100)*fr')\n",
"disp('                 = fr(1/100)')\n",
"disp(' or     fr-fr''/fr = 1/100  ')\n",
"disp(' Therefore, fr'' reduces by 1%')"
   ]
   }
],
"metadata": {
		  "kernelspec": {
		   "display_name": "Scilab",
		   "language": "scilab",
		   "name": "scilab"
		  },
		  "language_info": {
		   "file_extension": ".sce",
		   "help_links": [
			{
			 "text": "MetaKernel Magics",
			 "url": "https://github.com/calysto/metakernel/blob/master/metakernel/magics/README.md"
			}
		   ],
		   "mimetype": "text/x-octave",
		   "name": "scilab",
		   "version": "0.7.1"
		  }
		 },
		 "nbformat": 4,
		 "nbformat_minor": 0
}
