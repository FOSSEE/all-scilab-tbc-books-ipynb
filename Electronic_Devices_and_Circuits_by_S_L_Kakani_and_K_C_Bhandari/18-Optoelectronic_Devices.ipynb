{
"cells": [
 {
		   "cell_type": "markdown",
	   "metadata": {},
	   "source": [
       "# Chapter 18: Optoelectronic Devices"
	   ]
	},
{
		   "cell_type": "markdown",
		   "metadata": {},
		   "source": [
			"## Example 18.1: DC_Circuit_of_LED.sce"
		   ]
		  },
  {
"cell_type": "code",
	   "execution_count": null,
	   "metadata": {
	    "collapsed": true
	   },
	   "outputs": [],
"source": [
"//Ex18_1 Pg-901\n",
"clc\n",
"\n",
"Vs=12 //supply voltage in V\n",
"Vd=2 //forward bias voltage in V\n",
"Id=20*10^(-3) //forward bias current\n",
"\n",
"Rs=(Vs-Vd)/Id //source resistor\n",
"printf('Source resistance = %.0f ohm \n',Rs)\n",
"\n",
"P=Id^2*Rs //power\n",
"printf(' Wattage rating = %.1f mW',P*1e3)\n",
"disp('Therefore a standard size 0.25 watt = 250mW resistor is required')"
   ]
   }
,
{
		   "cell_type": "markdown",
		   "metadata": {},
		   "source": [
			"## Example 18.2: Spontaneous_and_Stimulated_Emission.sce"
		   ]
		  },
  {
"cell_type": "code",
	   "execution_count": null,
	   "metadata": {
	    "collapsed": true
	   },
	   "outputs": [],
"source": [
"//Ex18_2 Pg-945\n",
"clc\n",
"\n",
"T=2000 //temperature in Kelvin\n",
"f=5*10^(14) // frequency in Hz\n",
"h=6.6*10^(-34) //planck constant\n",
"k=1.38*10^(-23) //Boltzmann constant\n",
"\n",
"R=exp((h*f)/(k*T)) //ratio of spontaneous and stimulated emisson\n",
"printf('     R = %.2f*1e5',R*1e-5)"
   ]
   }
,
{
		   "cell_type": "markdown",
		   "metadata": {},
		   "source": [
			"## Example 18.3: Relative_Populations.sce"
		   ]
		  },
  {
"cell_type": "code",
	   "execution_count": null,
	   "metadata": {
	    "collapsed": true
	   },
	   "outputs": [],
"source": [
"//Ex18_3 Pg-946\n",
"clc\n",
"\n",
"disp('Average wavelength of visible radiation = 550 nm')\n",
"disp('      E1 - E2 = hc/lamda')\n",
"h=6.6*10^(-34) //planck constant\n",
"c=3*10^(8) //speed of light in sec\n",
"lamda= 550*10^(-9) //wavelength in m\n",
"E=h*c/lamda //difference in energy levels in Joules\n",
"e=1.6*10^(-19) //electron charge in eV\n",
"E_eV=E/e //difference in energy levels in electronVolt\n",
"printf('               = %.1f*1e-19 J \n',E*1e19)\n",
"printf('               = %.2f eV \n',E_eV)\n",
"\n",
"T=300 //temperature in Kelvin\n",
"k=1.38*10^(-23) //Boltzmann constant\n",
"disp('Average room temperature=300K and g1=g2,we have')\n",
"N=exp((-E)/(k*T))\n",
"printf(' N2/N1 = %.2f*1e-37',N*1e37)\n",
"//answer in the book is wrong"
   ]
   }
,
{
		   "cell_type": "markdown",
		   "metadata": {},
		   "source": [
			"## Example 18.4: Silicon_Crystal_Problem.sce"
		   ]
		  },
  {
"cell_type": "code",
	   "execution_count": null,
	   "metadata": {
	    "collapsed": true
	   },
	   "outputs": [],
"source": [
"//Ex18_4 Pg-946\n",
"clc\n",
"\n",
"w=0.3*10^(-6)*100 //width of silicon in cm\n",
"alpha=4*10^(4) \n",
"phi=10^(-2)\n",
"e=1.6*10^(-19) //electron charge in eV\n",
"\n",
"disp('(1) Energy absorbed/sec is given by ')\n",
"E=phi*(1-exp(alpha*w)) //energy absorbed(textbook answer is wrong)\n",
"printf('                = %.1f mW \n',abs(E)*1e3)\n",
"\n",
"disp('(2) The portion of each photo energy that is converted into heat is obtained as hv-Eg/hv')\n",
"Heat=(3-1.12)/3*100 //photon energy coverted to heat\n",
"printf('                = %.0f %%',Heat)\n",
"E1=(62/100)*0.0232 //energy dissipated/sec (textbook answer is wrong)\n",
"printf('\n Obviously, the amount of energy dissipated/sec to lattice \n is %.1f mW \n',E1*1e3)\n",
"\n",
"disp('(3) Number of photons/sec from recombination is')\n",
"num_photons=2.4/(e*1.12)\n",
"printf('                = %.1f*1e19 photon/sec \n',num_photons*1e-19)\n",
"//textbook answer is wrong\n",
"\n",
"disp('Therefore recombination radiation')\n",
"RR=abs(E)-E1 //recombination radiation (textbok answer is wrong)\n",
"printf('                = %.1f mW',RR*1e3)"
   ]
   }
,
{
		   "cell_type": "markdown",
		   "metadata": {},
		   "source": [
			"## Example 18.5: Electrons_Diffusion.sce"
		   ]
		  },
  {
"cell_type": "code",
	   "execution_count": null,
	   "metadata": {
	    "collapsed": true
	   },
	   "outputs": [],
"source": [
"//Ex18_5 Pg-947\n",
"clc\n",
"\n",
"d=5*10^(-6) //thickness of silicon in m\n",
"Dc=3.4*10^(-3) //diffusion coefficient in m^2sec^(-1)\n",
"\n",
"t=d^2/(2*Dc) //time taken to diffuse\n",
"printf('Time taken to diffuse = %.1f*1e-9 sec',t*1e9)"
   ]
   }
,
{
		   "cell_type": "markdown",
		   "metadata": {},
		   "source": [
			"## Example 18.6: Frequency_Bandwidth_Limitations.sce"
		   ]
		  },
  {
"cell_type": "code",
	   "execution_count": null,
	   "metadata": {
	    "collapsed": true
	   },
	   "outputs": [],
"source": [
"//Ex18_6 Pg-947\n",
"clc\n",
"\n",
"A=10^(-6) //diode area in m\n",
"epsilon_r=11.7 //relative permitivity \n",
"Nd=10^(21) //number of doping carriers\n",
"V=10 //bias potential in V\n",
"e=1.6*10^(-19) //electron charge in eV\n",
"epsilon_0=8.85*10^(-12) //permitivity of free space\n",
"\n",
"Cj=A/2*sqrt(2*e*epsilon_r*epsilon_0*Nd)/sqrt(V)\n",
"printf('Diode capacitance = %.f pF',Cj*1e12)\n",
"//textbook answer is wrong"
   ]
   }
,
{
		   "cell_type": "markdown",
		   "metadata": {},
		   "source": [
			"## Example 18.7: SemiconductorLaser.sce"
		   ]
		  },
  {
"cell_type": "code",
	   "execution_count": null,
	   "metadata": {
	    "collapsed": true
	   },
	   "outputs": [],
"source": [
"//Ex18_7 Pg-947\n",
"clc\n",
"\n",
"L=10^(-6) //length of cavity in m\n",
"r2=0.5 //relative coefficient of semiconductor\n",
"r1=1.5 //relative coefficient of semiconductor\n",
"\n",
"disp('No internal loss means di=0; we have')\n",
"g=log10(1/(r1*r2))/(2*L) //gain of the laser (textbook answer is wrong)\n",
"printf(' Gain g = %.2f*1e3 cm^(-1)',g*1e-3)"
   ]
   }
,
{
		   "cell_type": "markdown",
		   "metadata": {},
		   "source": [
			"## Example 18.8: Photoconductor_Device.sce"
		   ]
		  },
  {
"cell_type": "code",
	   "execution_count": null,
	   "metadata": {
	    "collapsed": true
	   },
	   "outputs": [],
"source": [
"//Ex18_8 Pg-947\n",
"clc\n",
"\n",
"L=100*10^(-6) //length of semiconductor in m\n",
"A=10^(-7) //area of semiconductor in cm^2\n",
"V=10 //applied voltage in V\n",
"mew_n=1350 //mobility of electrons \n",
"mew_p=480 //mobiltiy of protons\n",
"tp=10^(-6) //lifetime of protons in sec\n",
"\n",
"tn=L/(mew_n*V) //lifetime of electrons in sec\n",
"\n",
"Gain=tp/tn*(1+(mew_p/mew_n)) //gain of photoconductor\n",
"printf('Gain  = %.2f*1e2',Gain*1e-2)"
   ]
   }
],
"metadata": {
		  "kernelspec": {
		   "display_name": "Scilab",
		   "language": "scilab",
		   "name": "scilab"
		  },
		  "language_info": {
		   "file_extension": ".sce",
		   "help_links": [
			{
			 "text": "MetaKernel Magics",
			 "url": "https://github.com/calysto/metakernel/blob/master/metakernel/magics/README.md"
			}
		   ],
		   "mimetype": "text/x-octave",
		   "name": "scilab",
		   "version": "0.7.1"
		  }
		 },
		 "nbformat": 4,
		 "nbformat_minor": 0
}
