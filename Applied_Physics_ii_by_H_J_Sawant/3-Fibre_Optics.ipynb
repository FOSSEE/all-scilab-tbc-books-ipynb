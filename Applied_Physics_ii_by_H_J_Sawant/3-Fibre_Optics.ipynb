{
"cells": [
 {
		   "cell_type": "markdown",
	   "metadata": {},
	   "source": [
       "# Chapter 3: Fibre Optics"
	   ]
	},
{
		   "cell_type": "markdown",
		   "metadata": {},
		   "source": [
			"## Example 3.3_1: find_refractive_index_of_cladding.sce"
		   ]
		  },
  {
"cell_type": "code",
	   "execution_count": null,
	   "metadata": {
	    "collapsed": true
	   },
	   "outputs": [],
"source": [
"//Chapter-3,Example3_3_1,pg 3-6\n",
"\n",
"NA=0.5                                                 //Numerical aperture\n",
"\n",
"n1=1.54                                                //refractive index of core\n",
"\n",
"n2=sqrt(n1^2-NA^2)                                     //Numerical aperture is 'NA^2 = n1^2 - n2^2'\n",
"\n",
"printf('\nThe refractive index of cladding is  n2 = %.3f\n',n2)"
   ]
   }
,
{
		   "cell_type": "markdown",
		   "metadata": {},
		   "source": [
			"## Example 3.3_2: find_refractive_index_of_core_and_acceptance_angle.sce"
		   ]
		  },
  {
"cell_type": "code",
	   "execution_count": null,
	   "metadata": {
	    "collapsed": true
	   },
	   "outputs": [],
"source": [
"//Chapter-3,Example3_3_2,pg 3-6\n",
"\n",
"NA=0.2                                                 //Numerical aperture\n",
"\n",
"n2=1.59                                                //refractive index of cladding\n",
"\n",
"n1=sqrt(n2^2-NA^2)                                     //Numerical aperture is 'NA^2 = n1^2 - n2^2'\n",
"\n",
"printf('\nThe refractive index of core is n1 = %.1f\n',n1)\n",
"\n",
"n0=1.33                                                //refractive index of medium\n",
"\n",
"angle_0=asind(NA/n0)                                //For medium numerical aperture is 'NA=n0*sin(angle_0)'\n",
"\n",
"printf('\nThe acceptance angle is angle_0 = %.2f Degree\n',angle_0)"
   ]
   }
,
{
		   "cell_type": "markdown",
		   "metadata": {},
		   "source": [
			"## Example 3.3_3: find_the_numerical_aperture_and_acceptance_angle.sce"
		   ]
		  },
  {
"cell_type": "code",
	   "execution_count": null,
	   "metadata": {
	    "collapsed": true
	   },
	   "outputs": [],
"source": [
"//Chapter-3,Example3_3_3,pg 3-6\n",
"\n",
"n1=1.49                                                  //refractive index f core\n",
"\n",
"n2=1.44                                                  //refractive index of cladding\n",
"\n",
"NA=sqrt(n1^2 - n2^2)                                     //Numerical aperture is 'NA^2 = n1^2 - n2^2'\n",
"\n",
"printf('\nThe Numerical aperture is N.A. = %.5f\n',NA)\n",
"\n",
"angle_0=asind(NA)                                  //for air numerical aperture is 'NA=sin(angle_0)'\n",
"\n",
"printf('\nThe acceptance angle is angle_0 = %.1f Degree\n',angle_0)"
   ]
   }
,
{
		   "cell_type": "markdown",
		   "metadata": {},
		   "source": [
			"## Example 3.3_4: find_the_critical_angle_and_angle_of_acceptance_cone.sce"
		   ]
		  },
  {
"cell_type": "code",
	   "execution_count": null,
	   "metadata": {
	    "collapsed": true
	   },
	   "outputs": [],
"source": [
"//Chapter-3,Example3_3_4,pg 3-7\n",
"\n",
"n1=1.6                                                  //refractive index f core\n",
"\n",
"n2=1.3                                                  //refractive index of cladding\n",
"\n",
"angle_c=asind(n2/n1)                               //Critical angle \n",
"\n",
"printf('\nThe critical angle is angle_c = %.2f Degree\n',angle_c)\n",
"\n",
"angle_0=asind(sqrt(n1^2-n2^2))                       //for air numerical aperture is 'NA=sin(angle_0)'\n",
"\n",
"angle_cone=2*angle_0\n",
"\n",
"printf('\nThe acceptance angle cone = %.3f Degree\n',angle_cone)\n",
"\n",
"//mistake in textbook"
   ]
   }
,
{
		   "cell_type": "markdown",
		   "metadata": {},
		   "source": [
			"## Example 3.3_5: the_refractive_index_of_cladding.sce"
		   ]
		  },
  {
"cell_type": "code",
	   "execution_count": null,
	   "metadata": {
	    "collapsed": true
	   },
	   "outputs": [],
"source": [
"//Chapter-3,Example3_3_5,pg 3-7\n",
"\n",
"angle_0=30                                                //acceptance angle \n",
"\n",
"n1=1.4                                                //refractive index of core\n",
"\n",
"n2=sqrt(n1^2-sind(angle_0)^2)                         //Numerical aperture is 'NA^2 = n1^2 - n2^2'  also numerical aperture is 'NA=sin(angle_0)'\n",
"\n",
"printf('\nThe refractive index of cladding is  n2 = %.4f\n',n2)"
   ]
   }
,
{
		   "cell_type": "markdown",
		   "metadata": {},
		   "source": [
			"## Example 3.3_6: calculate_the_fractional_index_change.sce"
		   ]
		  },
  {
"cell_type": "code",
	   "execution_count": null,
	   "metadata": {
	    "collapsed": true
	   },
	   "outputs": [],
"source": [
"//Chapter-3,Example3_3_6,pg 3-8\n",
"\n",
"n1=1.563                                                  //refractive index f core\n",
"\n",
"n2=1.498                                                  //refractive index of cladding\n",
"\n",
"delta=(n1-n2)/n1                                            //fractional index change \n",
"\n",
"printf('\nThe fractional index change is  Delta = %.4f \n',delta)"
   ]
   }
,
{
		   "cell_type": "markdown",
		   "metadata": {},
		   "source": [
			"## Example 3.3_7: calculate_the_maximum_refractive_index_of_cladding.sce"
		   ]
		  },
  {
"cell_type": "code",
	   "execution_count": null,
	   "metadata": {
	    "collapsed": true
	   },
	   "outputs": [],
"source": [
"//Chapter-3,Example3_3_7,pg 3-8\n",
"\n",
"//as total internal reflection takes place for light travlling within 5 degree of the fibre axis \n",
"\n",
"angle_c=90-5                                                 //critical angle\n",
"\n",
"n1=1.50                                                    //refractive index of core\n",
"\n",
"n2=n1*sind(angle_c)\n",
"\n",
"printf('\nThe maximum refractive index of cladding is  n2 = %.4f\n',n2)"
   ]
   }
,
{
		   "cell_type": "markdown",
		   "metadata": {},
		   "source": [
			"## Example 3.3_8: calculate_the_acceptance_angle.sce"
		   ]
		  },
  {
"cell_type": "code",
	   "execution_count": null,
	   "metadata": {
	    "collapsed": true
	   },
	   "outputs": [],
"source": [
"//Chapter-3,Example3_3_8,pg 3-8\n",
"\n",
"//In air\n",
"\n",
"angle_0_air=30                                                  //acceptance angle of an optical fibre\n",
"\n",
"NA=sind(angle_0_air)                                     //Numerical aperture is 'NA^2 = n1^2 - n2^2'   also numerical aperture is 'NA=sin(angle)'\n",
"\n",
"n0=1.33                                                        //refractive index of medium\n",
"\n",
"angle_0=asind(NA/n0)                                          //For medium numerical aperture is 'NA=n0*sin(angle_0)'\n",
"\n",
"printf('\nThe acceptance angle in medium is angle_0 = %.2f Degree\n',angle_0)\n",
""
   ]
   }
,
{
		   "cell_type": "markdown",
		   "metadata": {},
		   "source": [
			"## Example 3.4_1: calculate_normalized_frequency_and_number_of_modes.sce"
		   ]
		  },
  {
"cell_type": "code",
	   "execution_count": null,
	   "metadata": {
	    "collapsed": true
	   },
	   "outputs": [],
"source": [
"//Chapter-3,Example3_4_1,pg 3-10\n",
"\n",
"d=29*10^-6                                                      //diameter of core of step index fibre\n",
"\n",
"wavelength=1.3*10^-6                                                   //wavelength of light\n",
"\n",
"n1=1.52                                                         //refractive index of core\n",
"\n",
"n2=1.5189                                                       //refractive index of cladding\n",
"\n",
"V=%pi*d*sqrt(n1^2-n2^2)/wavelength                                     //Normalized frequency of the fibre\n",
"\n",
"printf('\nThe normalised frequency of fibre is  V = %.3f\n',V)\n",
"\n",
"N=V^2/2                                                         //The number of modes\n",
"\n",
"printf('\nThe number of modes = %.f\n',N)"
   ]
   }
,
{
		   "cell_type": "markdown",
		   "metadata": {},
		   "source": [
			"## Example 3.4_2: calculate_the_maximum_radius_for_fibre.sce"
		   ]
		  },
  {
"cell_type": "code",
	   "execution_count": null,
	   "metadata": {
	    "collapsed": true
	   },
	   "outputs": [],
"source": [
"//Chapter-3,Example3_4_2,pg 3-10\n",
"\n",
"//For single mode fibre,  V < 2.405\n",
"\n",
"V=2.405                                                       //normalized frequency of fibre \n",
" \n",
"n1=1.47                                                       //refractive index of core\n",
"\n",
"n2=1.46                                                       //refractive index of cladding \n",
"\n",
"wavelength=1.3                                                 //wavelength\n",
"\n",
"d=V*wavelength/(%pi*sqrt(n1^2-n2^2))                                 //diameter of core\n",
"\n",
"r=(d/2)\n",
"\n",
"printf('\nThe maximum radius for fibre = %.3f um\n',r)"
   ]
   }
,
{
		   "cell_type": "markdown",
		   "metadata": {},
		   "source": [
			"## Example 3.4_3: find_various_parameters_of_fibre.sce"
		   ]
		  },
  {
"cell_type": "code",
	   "execution_count": null,
	   "metadata": {
	    "collapsed": true
	   },
	   "outputs": [],
"source": [
"//Chapter-3,Example3_4_3,pg 3-11\n",
"\n",
"wavelength=1*10^-6                                                   //wavelength of light \n",
"\n",
"r=50*10^-6                                                        //radius of core \n",
"\n",
"delta=0.055                                                     //relative refractive index of fibre\n",
"\n",
"n1=1.48                                                       //refractive index of core\n",
"\n",
"n2=n1*(1-delta)                                                 //as    'delta= (n1-n2)/n1'\n",
"\n",
"printf('\nThe refractive index of cladding  n2 = %.4f \n',n2)\n",
"\n",
"NA=sqrt(n1^2-n2^2)                                            //numerical aperture \n",
"\n",
"printf('\nThe numerical aperture N.A. = %.3f \n',NA)\n",
"\n",
"angle_0=asind(NA)                                          // as    N.A.=sin(angle_0)\n",
"\n",
"printf('\nThe acceptance angle is  angle_0 = %.2f Degree\n',angle_0)\n",
"\n",
"d=2*r\n",
"\n",
"V=%pi*d*NA/wavelength                                                //Normalized frequency of the fibre\n",
"\n",
"printf('\nThe normalised frequency of fibre is  V = %.2f\n',V)\n",
"\n",
"N=V^2/2                                                         //The number of modes\n",
"\n",
"printf('\nThe number of modes  = %.f \n',N)\n",
""
   ]
   }
,
{
		   "cell_type": "markdown",
		   "metadata": {},
		   "source": [
			"## Example 3.4_4: calculate_various_parameters_of_fibre.sce"
		   ]
		  },
  {
"cell_type": "code",
	   "execution_count": null,
	   "metadata": {
	    "collapsed": true
	   },
	   "outputs": [],
"source": [
"//Chapter-3,Example3_4_4,pg 3-12\n",
"\n",
"wavelength=1*10^-6                                                      //wavelength of light \n",
"\n",
"d=6*10^-6                                                        //diameter of core\n",
"\n",
"n1=1.45                                                          //refractive index of core\n",
"\n",
"n2=1.448                                                         //refractive index of cladding \n",
"\n",
"angle_c=asind(n2/n1)                                               //critical angle is    'sin(angle_c) = n2/n1'\n",
"\n",
"printf('\nThe critical angle is  angle_c = %.f Degree\n',angle_c)\n",
"\n",
"NA=sqrt(n1^2-n2^2)\n",
"\n",
"angle_0=asind(NA)                                              //acceptance angle is    'sin(angle_0) = NA = sqrt(n1^2-n2^2)'\n",
"\n",
"printf('\nThe acceptance angle is  angle_0 =  %.3f Degree\n',angle_0)\n",
"\n",
"N=%pi^2*d^2*NA^2/(2*wavelength^2)                                       //the number of modes propogating through fibre \n",
"\n",
"printf('\nthe number of modes propogating through fibre is  N = %.f\n',N)"
   ]
   }
,
{
		   "cell_type": "markdown",
		   "metadata": {},
		   "source": [
			"## Example 3.4_5: calculate_the_number_of_modes.sce"
		   ]
		  },
  {
"cell_type": "code",
	   "execution_count": null,
	   "metadata": {
	    "collapsed": true
	   },
	   "outputs": [],
"source": [
"//Chapter-3,Example3_4_5,pg 3-12\n",
"\n",
"wavelength=1*10^-6                                                       //wavelength of light \n",
"\n",
"r=50*10^-6                                                        //radius of core\n",
"\n",
"n1=1.50                                                           //refractive index of core\n",
"\n",
"n2=1.48                                                           //refractive index of cladding \n",
"\n",
"NA=sqrt(n1^2-n2^2)                                               //numerical aperture\n",
"\n",
"d=2*r                                                             //diameter of core\n",
"\n",
"N=%pi^2*d^2*NA^2/(2*wavelength^2)                                        //the number of modes propogating through fibre \n",
"\n",
"printf('\nthe number of modes propogating through fibre is  N = %.f\n',N)"
   ]
   }
,
{
		   "cell_type": "markdown",
		   "metadata": {},
		   "source": [
			"## Example 3.4_6: calculate_various_parameters_of_fibre.sce"
		   ]
		  },
  {
"cell_type": "code",
	   "execution_count": null,
	   "metadata": {
	    "collapsed": true
	   },
	   "outputs": [],
"source": [
"//Chapter-3,Example3_4_6,pg 3-13\n",
"\n",
"wavelength=1.4*10^-6                                                 //wavelength of light \n",
"\n",
"d=40*10^-6                                                          //diameter of core\n",
"\n",
"n1=1.55                                                             //refractive index of core\n",
"\n",
"n2=1.50                                                             //refractive index of cladding \n",
"\n",
"NA=sqrt(n1^2-n2^2)                                                  //numerical aperture \n",
"\n",
"printf('\nThe numerical aperture N.A. = %.4f \n',NA)\n",
"\n",
"delta=(n1-n2)/n1                                                      //Fractional index change \n",
"\n",
"printf('\nThe fractional index change Delta = %.5f\n',delta)\n",
" \n",
"V=%pi*d*NA/wavelength                                                      //Normalized frequency of the fibre\n",
"\n",
"printf('\nthe V-number is  V = %.2f  \n',V)"
   ]
   }
,
{
		   "cell_type": "markdown",
		   "metadata": {},
		   "source": [
			"## Example 3.6_1: calculate_the_fibre_attenuation.sce"
		   ]
		  },
  {
"cell_type": "code",
	   "execution_count": null,
	   "metadata": {
	    "collapsed": true
	   },
	   "outputs": [],
"source": [
"//Chapter-3,Example3_6_1,pg 3-17\n",
"\n",
"Pin=1                                                        //Input power in mW\n",
"\n",
"Pout=0.3                                                     //output power in mW\n",
"\n",
"Pl=(-10)*log10(Pout/Pin)                                     //Power loss or attenuation\n",
"\n",
"L=0.1                                                        //Length of cable in km\n",
"\n",
"a=Pl/L                                                       //fibre attenuation\n",
"\n",
"printf('\nThe fibre attenuation is a = %.2f dB/km\n',a)"
   ]
   }
,
{
		   "cell_type": "markdown",
		   "metadata": {},
		   "source": [
			"## Example 3.6_2: calculate_the_output_power.sce"
		   ]
		  },
  {
"cell_type": "code",
	   "execution_count": null,
	   "metadata": {
	    "collapsed": true
	   },
	   "outputs": [],
"source": [
"//Chapter-3,Example3_6_2,pg 3-18\n",
"\n",
"L=3                                                            //length of fibre in km\n",
" \n",
"a=1.5                                                          //Loss specification in dB/km\n",
"\n",
"Pin=9.0                                                        //input power in uW\n",
"\n",
"Pl=a*L                                                         //Power loss \n",
"\n",
"Pout=Pin*10^(-Pl/10)                                           //as Power loss or attenuation is   Pl=(-10)*log10(Pout/Pin)\n",
"\n",
"printf('\nThe output power Pout = %.3f uW\n',Pout)"
   ]
   }
,
{
		   "cell_type": "markdown",
		   "metadata": {},
		   "source": [
			"## Example 3.6_3: calculate_the_fractional_initial_intensity.sce"
		   ]
		  },
  {
"cell_type": "code",
	   "execution_count": null,
	   "metadata": {
	    "collapsed": true
	   },
	   "outputs": [],
"source": [
"//Chapter-3,Example3_6_3,pg 3-18\n",
"\n",
"a=2.2\n",
"\n",
"//ratio= Pout/Pin\n",
"\n",
"//For a length of L=2 km\n",
"\n",
"Pl1=a*2\n",
"\n",
"ratio_1=10^(-Pl1/10)                                               //as Power loss or attenuation is   Pl=(-10)*log10(Pout/Pin)\n",
"\n",
"printf('\nThe fractional initial intensity after 2 km is %.3f \n',ratio_1)\n",
"\n",
"//For a length of L=6 km\n",
"\n",
"Pl2=a*6\n",
"\n",
"ratio_2=10^(-Pl2/10)                                               //as Power loss or attenuation is   Pl=(-10)*log10(Pout/Pin)\n",
"\n",
"printf('\nThe fractional initial intensity after 6 km is %.3f \n',ratio_2)"
   ]
   }
,
{
		   "cell_type": "markdown",
		   "metadata": {},
		   "source": [
			"## Example 3.6_4: find_the_loss_specification_in_cable.sce"
		   ]
		  },
  {
"cell_type": "code",
	   "execution_count": null,
	   "metadata": {
	    "collapsed": true
	   },
	   "outputs": [],
"source": [
"//Chapter-3,Example3_6_4,pg 3-19\n",
"\n",
"Pin=8.6                                                      //Input power in mW\n",
"\n",
"Pout=7.5                                                     //output power in mW\n",
"\n",
"Pl=(-10)*log10(Pout/Pin)                                     //Power loss or attenuation\n",
"\n",
"L=0.5                                                        //Length of cable in km\n",
"\n",
"a=Pl/L                                                       //Loss secification\n",
"\n",
"printf('\nThe loss specification in cable is  a = %.3f dB/km\n',a)"
   ]
   }
],
"metadata": {
		  "kernelspec": {
		   "display_name": "Scilab",
		   "language": "scilab",
		   "name": "scilab"
		  },
		  "language_info": {
		   "file_extension": ".sce",
		   "help_links": [
			{
			 "text": "MetaKernel Magics",
			 "url": "https://github.com/calysto/metakernel/blob/master/metakernel/magics/README.md"
			}
		   ],
		   "mimetype": "text/x-octave",
		   "name": "scilab",
		   "version": "0.7.1"
		  }
		 },
		 "nbformat": 4,
		 "nbformat_minor": 0
}
