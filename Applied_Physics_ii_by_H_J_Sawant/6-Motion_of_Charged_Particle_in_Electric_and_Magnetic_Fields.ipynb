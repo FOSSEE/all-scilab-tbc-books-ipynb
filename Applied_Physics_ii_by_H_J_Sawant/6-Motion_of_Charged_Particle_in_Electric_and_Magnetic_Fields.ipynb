{
"cells": [
 {
		   "cell_type": "markdown",
	   "metadata": {},
	   "source": [
       "# Chapter 6: Motion of Charged Particle in Electric and Magnetic Fields"
	   ]
	},
{
		   "cell_type": "markdown",
		   "metadata": {},
		   "source": [
			"## Example 6.1_1: calculate_radius_of_revolution_and_distance_covered.sce"
		   ]
		  },
  {
"cell_type": "code",
	   "execution_count": null,
	   "metadata": {
	    "collapsed": true
	   },
	   "outputs": [],
"source": [
"//Chapter-6,Example6_1_1,pg 6-6\n",
"\n",
"m=9.1*10^-31                                     //mass of an electron in kg\n",
"\n",
"v=2.5*10^6                                       //velocity of an electron\n",
"\n",
"B=0.94*10^-4                                     //strength of uniform magnetic field\n",
"\n",
"e=1.6*10^-19                                     //charge of an electron \n",
"\n",
"angle=30                                           //angle between velocity vector and field direction\n",
"\n",
"r=m*v*sind(angle)/(B*e)*10^3                //radius of revolution\n",
"\n",
"printf('\nradius of revolution  r = %.2f mm \n',r)\n",
"\n",
"l=5*v*cosd(angle)*2*%pi*m/(B*e)             //distance coverd in five revolutions\n",
"\n",
"printf('distance coverd in five revolutions  5l =%.3f m',l)\n",
""
   ]
   }
,
{
		   "cell_type": "markdown",
		   "metadata": {},
		   "source": [
			"## Example 6.1_2: calculate_radius_and_pitch.sce"
		   ]
		  },
  {
"cell_type": "code",
	   "execution_count": null,
	   "metadata": {
	    "collapsed": true
	   },
	   "outputs": [],
"source": [
"//Chapter-6,Example6_1_2,pg 6-7\n",
"\n",
"m=9.1*10^-31                                     //mass of an electron in kg\n",
"\n",
"v=3*10^7                                         //velocity of an electron\n",
"\n",
"B=0.23                                           //strength of uniform magnetic field\n",
"\n",
"e=1.6*10^-19                                     //charge of an electron \n",
"\n",
"angle=45                                         //angle between velocity vector and field direction\n",
"\n",
"r=m*v*sind(angle)/(B*e)*10^3                //radius of revolution\n",
"\n",
"printf('\nradius of revolution  r = %.3f mm\n',r)\n",
"\n",
"l=v*cosd(angle)*2*%pi*m/(B*e)*10^3          //pitch f helical path\n",
"\n",
"printf('pitch of helical path  l = %.1f mm\n',l)"
   ]
   }
,
{
		   "cell_type": "markdown",
		   "metadata": {},
		   "source": [
			"## Example 6.1_3: find_the_input_voltage.sce"
		   ]
		  },
  {
"cell_type": "code",
	   "execution_count": null,
	   "metadata": {
	    "collapsed": true
	   },
	   "outputs": [],
"source": [
"//Chapter-6,Example6_1_3,pg 6-7\n",
"\n",
"y=1.5                                  //deflection in the beam\n",
"\n",
"d=0.42                                 //distance between two plates \n",
"\n",
"D=28                                   //distance of screen from center of plates \n",
"\n",
"l=1.8                                  //length of plates\n",
"\n",
"Va=1.6*10^3                            //anode voltage\n",
"\n",
"V=2*y*d*Va/(D*l)\n",
"\n",
"Vin=V/6                                //as amplifier gain is 60\n",
"\n",
"printf('\napplied voltage is  Vin = %.2f V\n',Vin)"
   ]
   }
,
{
		   "cell_type": "markdown",
		   "metadata": {},
		   "source": [
			"## Example 6.5_1: calculate_phase_change.sce"
		   ]
		  },
  {
"cell_type": "code",
	   "execution_count": null,
	   "metadata": {
	    "collapsed": true
	   },
	   "outputs": [],
"source": [
"//Chapter-6,Example6_5_1,pg 6-16\n",
"\n",
"dA=0.8                                      //minor axis \n",
"\n",
"dB=2                                        //major axis\n",
"\n",
"phase_shift=asind(dA/dB)                    //phase calculation\n",
"\n",
"printf('\n phase shift = %.2f Degrees\n',phase_shift)"
   ]
   }
],
"metadata": {
		  "kernelspec": {
		   "display_name": "Scilab",
		   "language": "scilab",
		   "name": "scilab"
		  },
		  "language_info": {
		   "file_extension": ".sce",
		   "help_links": [
			{
			 "text": "MetaKernel Magics",
			 "url": "https://github.com/calysto/metakernel/blob/master/metakernel/magics/README.md"
			}
		   ],
		   "mimetype": "text/x-octave",
		   "name": "scilab",
		   "version": "0.7.1"
		  }
		 },
		 "nbformat": 4,
		 "nbformat_minor": 0
}
