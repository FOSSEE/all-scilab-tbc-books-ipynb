{
"cells": [
 {
		   "cell_type": "markdown",
	   "metadata": {},
	   "source": [
       "# Chapter 4: Lasers"
	   ]
	},
{
		   "cell_type": "markdown",
		   "metadata": {},
		   "source": [
			"## Example 4.6_1: find_the_number_of_emitted_photons.sce"
		   ]
		  },
  {
"cell_type": "code",
	   "execution_count": null,
	   "metadata": {
	    "collapsed": true
	   },
	   "outputs": [],
"source": [
"//Chapter-4,Example4_6_1,pg 4-7\n",
"\n",
"P=3.147*10^-3                              //output power \n",
"\n",
"t=60                                       //time\n",
"\n",
"wavelength=632.8*10^-9                            //wavelength of He-Ne laser\n",
"\n",
"h=6.63*10^-34                              //Plancks constant\n",
"\n",
"c=3*10^8                                   //velocity of light in air\n",
"\n",
"N=P*t*wavelength/(h*c)                            //No. of photons emitted \n",
"\n",
"printf('\nNo. of photons emitted each minute\n')\n",
"\n",
"disp(N)"
   ]
   }
,
{
		   "cell_type": "markdown",
		   "metadata": {},
		   "source": [
			"## Example 4.6_2: find_the_ratio_of_population_of_two_energy_levels.sce"
		   ]
		  },
  {
"cell_type": "code",
	   "execution_count": null,
	   "metadata": {
	    "collapsed": true
	   },
	   "outputs": [],
"source": [
"//Chapter-4,Example4_6_2,pg 4-7\n",
"\n",
"wavelength=694.3*10^-9                            //wavelength of He-Ne laser\n",
"\n",
"h=6.63*10^-34                              //Plancks constant\n",
"\n",
"c=3*10^8                                   //velocity of light in air\n",
"\n",
"k=1.38*10^-23                              //Boltzmann constant\n",
"\n",
"T=300                                      //ambient temperature in kelvin\n",
"\n",
"ratio=%e^-(h*c/(wavelength*k*T))                  //ratio of population of two energy level in laser \n",
"\n",
"printf('\nRatio of population of two energy level in laser N2/N1 is\n')\n",
"\n",
"disp(ratio)"
   ]
   }
,
{
		   "cell_type": "markdown",
		   "metadata": {},
		   "source": [
			"## Example 4.6_3: calculate_the_wavelength_of_photons.sce"
		   ]
		  },
  {
"cell_type": "code",
	   "execution_count": null,
	   "metadata": {
	    "collapsed": true
	   },
	   "outputs": [],
"source": [
"//Chapter-4,Example4_6_3,pg 4-8\n",
"\n",
"P=100*10^3                                       //avrage power per pulse\n",
"\n",
"t=20*10^-9                                       //time duration\n",
"\n",
"h=6.63*10^-34                                    //Plancks constant\n",
"\n",
"c=3*10^8                                         //velocity of light in air\n",
"\n",
"N=6.981*10^15                                    //No. of photons per pulse\n",
"\n",
"wavelength=N*h*c/(P*t)*10^10 \n",
"\n",
"printf('\nWavelength of photons = %.f A.\n',wavelength)\n",
""
   ]
   }
],
"metadata": {
		  "kernelspec": {
		   "display_name": "Scilab",
		   "language": "scilab",
		   "name": "scilab"
		  },
		  "language_info": {
		   "file_extension": ".sce",
		   "help_links": [
			{
			 "text": "MetaKernel Magics",
			 "url": "https://github.com/calysto/metakernel/blob/master/metakernel/magics/README.md"
			}
		   ],
		   "mimetype": "text/x-octave",
		   "name": "scilab",
		   "version": "0.7.1"
		  }
		 },
		 "nbformat": 4,
		 "nbformat_minor": 0
}
