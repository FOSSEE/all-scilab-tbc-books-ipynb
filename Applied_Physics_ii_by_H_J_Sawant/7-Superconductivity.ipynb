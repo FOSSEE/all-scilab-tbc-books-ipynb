{
"cells": [
 {
		   "cell_type": "markdown",
	   "metadata": {},
	   "source": [
       "# Chapter 7: Superconductivity"
	   ]
	},
{
		   "cell_type": "markdown",
		   "metadata": {},
		   "source": [
			"## Example 7.3_1: calculate_critical_temperature_of_element.sce"
		   ]
		  },
  {
"cell_type": "code",
	   "execution_count": null,
	   "metadata": {
	    "collapsed": true
	   },
	   "outputs": [],
"source": [
"//Chapter-7,Example7_3_1,pg 7-6\n",
"\n",
"Ho=2*10^5                                   //critical field at absolute zero\n",
"\n",
"Hc=1*10^5                                   //critical field at given temperature\n",
"\n",
"T=8                                         //temperature\n",
"\n",
"Tc=T/sqrt(1-(Hc/Ho))\n",
"\n",
"printf('\ncritical temperature of the element Tc = %.2f Kelvin' ,Tc)\n",
""
   ]
   }
,
{
		   "cell_type": "markdown",
		   "metadata": {},
		   "source": [
			"## Example 7.3_2: find_the_critical_field.sce"
		   ]
		  },
  {
"cell_type": "code",
	   "execution_count": null,
	   "metadata": {
	    "collapsed": true
	   },
	   "outputs": [],
"source": [
"//Chapter-7,Example7_3_2,pg 7-7\n",
"\n",
"Bo=3.06*10^-2                                //critical field at absolute zero\n",
"\n",
"Tc=3.7                                       //critical temperature\n",
"\n",
"T=2                                          //temperature\n",
"\n",
"Bc=Bo*(1-(T/Tc)^2)\n",
"\n",
"printf('\ncritical field of wire  Bc = %.5f T',Bc)\n",
""
   ]
   }
,
{
		   "cell_type": "markdown",
		   "metadata": {},
		   "source": [
			"## Example 7.3_3: calculate_the_critical_current.sce"
		   ]
		  },
  {
"cell_type": "code",
	   "execution_count": null,
	   "metadata": {
	    "collapsed": true
	   },
	   "outputs": [],
"source": [
"//Chapter-7,Example7_3_3,pg 7-7\n",
"\n",
"Ho=6.5*10^4                                   //critical field at absolute zero\n",
"\n",
"Tc=7.18                                       //critical temperature\n",
"\n",
"T=4.2                                         //temperature\n",
"\n",
"r=0.5*10^-3                                   //radius of lead wire\n",
"\n",
"Hc=Ho*(1-(T/Tc)^2)\n",
"\n",
"Ic=2*%pi*r*Hc\n",
"\n",
"printf('\ncritical current for wire  Ic = %.2f Amperes\n',Ic)"
   ]
   }
,
{
		   "cell_type": "markdown",
		   "metadata": {},
		   "source": [
			"## Example 7.3_4: calculate_the_isotopic_mass.sce"
		   ]
		  },
  {
"cell_type": "code",
	   "execution_count": null,
	   "metadata": {
	    "collapsed": true
	   },
	   "outputs": [],
"source": [
"//Chapter-7,Example7_3_4,pg 7-8\n",
"\n",
"Tc1=4.185                            //critical temperature 1\n",
"\n",
"Tc2=4.133                            //critical temperature 2\n",
"\n",
"M1=199.5                             //isotopic mass of a metal at temperature T1\n",
"\n",
"a=0.5\n",
"\n",
"M2=(Tc1*sqrt(M1)/Tc2)^2\n",
"\n",
"printf('\nisotopic mass is M2 = %.2f',M2)\n",
""
   ]
   }
],
"metadata": {
		  "kernelspec": {
		   "display_name": "Scilab",
		   "language": "scilab",
		   "name": "scilab"
		  },
		  "language_info": {
		   "file_extension": ".sce",
		   "help_links": [
			{
			 "text": "MetaKernel Magics",
			 "url": "https://github.com/calysto/metakernel/blob/master/metakernel/magics/README.md"
			}
		   ],
		   "mimetype": "text/x-octave",
		   "name": "scilab",
		   "version": "0.7.1"
		  }
		 },
		 "nbformat": 4,
		 "nbformat_minor": 0
}
