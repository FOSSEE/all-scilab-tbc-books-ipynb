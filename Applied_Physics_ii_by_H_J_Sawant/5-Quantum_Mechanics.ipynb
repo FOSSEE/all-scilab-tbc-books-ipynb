{
"cells": [
 {
		   "cell_type": "markdown",
	   "metadata": {},
	   "source": [
       "# Chapter 5: Quantum Mechanics"
	   ]
	},
{
		   "cell_type": "markdown",
		   "metadata": {},
		   "source": [
			"## Example 5.15_1: find_the_energy_of_an_electron_for_different_states.sce"
		   ]
		  },
  {
"cell_type": "code",
	   "execution_count": null,
	   "metadata": {
	    "collapsed": true
	   },
	   "outputs": [],
"source": [
"//Chapter-5,Example5_15_1,pg 5-41\n",
"\n",
"//En=(n^2*h^2)/(8*m*e*L^2)            n=1,2,3,....\n",
"\n",
"e=1.6*10^-19                                                 //charge of an electron\n",
"\n",
"h=6.63*10^-34                                                //Plancks constant\n",
"\n",
"m=9.1*10^-31                                                 //mass of an electron\n",
"\n",
"L=2*10^-10                                                   //width\n",
"\n",
"E1=h^2/(8*m*e*L^2)                                           //For ground state n=1\n",
"\n",
"printf('\nThe energy of an electron in ground state  E1 = %.2f eV\n',E1)\n",
"\n",
"E2=4*E1                                                      //For first excited state n=2\n",
"\n",
"printf('\nThe energy of an electron in ground state  E2 = %.2f eV\n',E2)\n",
"\n",
"E3=9*E1                                                      //For second excited state n=3\n",
"\n",
"printf('\nThe energy of an electron in ground state  E3 = %.2f eV\n',E3)\n",
""
   ]
   }
,
{
		   "cell_type": "markdown",
		   "metadata": {},
		   "source": [
			"## Example 5.15_2: find_the_ground_state_energy_of_an_electron.sce"
		   ]
		  },
  {
"cell_type": "code",
	   "execution_count": null,
	   "metadata": {
	    "collapsed": true
	   },
	   "outputs": [],
"source": [
"//Chapter-5,Example5_15_2,pg 5-42\n",
"\n",
"//En=(n^2*h^2)/(8*m*e*L^2)            n=1,2,3,....\n",
"\n",
"//as width 'L' gets double ,the ground state energy becomes one-fourth\n",
"\n",
"E=5.6*10^-3                                                         //Ground state energy of an electron\n",
"\n",
"E_new=E/4                                                            //width is doubled\n",
"\n",
"printf('\nThe new energy of an electron in ground state  E = %.4f\n',E_new)"
   ]
   }
,
{
		   "cell_type": "markdown",
		   "metadata": {},
		   "source": [
			"## Example 5.15_3: calculate_the_probability_of_finding_the_particle.sce"
		   ]
		  },
  {
"cell_type": "code",
	   "execution_count": null,
	   "metadata": {
	    "collapsed": true
	   },
	   "outputs": [],
"source": [
"//Chapter-5,Example5_15_3,pg 5_42\n",
"\n",
"//for box of width a , the normalised eigen functions are \n",
"\n",
"//   'sci = sqrt(2/a)*sin(n*%pi*x/a)'\n",
"\n",
"//   'sci_c = sqrt(2/a)*sin(n*%pi*x/a)'      complex conjugate \n",
"\n",
"//for first excitation \n",
"\n",
"n=2\n",
"\n",
"//probability of finding the particle is     P = integral a/4 to 3a/4 of  sci * sci_c\n",
"\n",
"//as 'a' is constant width \n",
"//assume\n",
"a=1\n",
"\n",
"function y=f(x),y= (2/a)*(sin(n*%pi*x/a))^2,                   // y = sci * sci_c\n",
"endfunction\n",
"\n",
"P=intg(a/4,3*a/4,f)\n",
"\n",
"printf('\nThe probability of finding the particle is  P = %.1f',P)"
   ]
   }
,
{
		   "cell_type": "markdown",
		   "metadata": {},
		   "source": [
			"## Example 5.15_4: find_the_probability_of_finding_the_particle.sce"
		   ]
		  },
  {
"cell_type": "code",
	   "execution_count": null,
	   "metadata": {
	    "collapsed": true
	   },
	   "outputs": [],
"source": [
"//Chapter-5,Example5_15_4,pg 5_43\n",
"\n",
"//probability of finding the particle is      P = integral x1 to x2 of  sci * sci_c\n",
"\n",
"//interval is (0,1/2)\n",
"\n",
"x1=0\n",
"\n",
"x2=1/2\n",
"\n",
"//sci= x*sqrt(3)\n",
"\n",
"//complex conjugate is   sci_c = x*sqtr(3)\n",
"\n",
"function y=f(x),y=(x*sqrt(3))^2,                   // y = sci * sci_c\n",
"endfunction\n",
"\n",
"P=intg(x1,x2,f)\n",
"\n",
"printf('\nThe probability of finding the particle is  P = %.3f',P)"
   ]
   }
,
{
		   "cell_type": "markdown",
		   "metadata": {},
		   "source": [
			"## Example 5.15_5: find_the_lowest_energy_states.sce"
		   ]
		  },
  {
"cell_type": "code",
	   "execution_count": null,
	   "metadata": {
	    "collapsed": true
	   },
	   "outputs": [],
"source": [
"//Chapter-5,Example5_15_5,pg 5-44\n",
"\n",
"//for an electron\n",
"\n",
"e=1.6*10^-19                                 //electron charge\n",
"\n",
"m_e=9.1*10^-31                                //mass of an electron\n",
"\n",
"L=10^-9                                      //width of well\n",
"\n",
"h=6.63*10^-34                                //Plank's constant\n",
"\n",
"//the energy level are given by   En = n^2 *h^2/(8*m*L^2)\n",
"\n",
"Ee1=(1^2)*(h^2)/(8*m_e*e*(L^2))                            //for   n = 1\n",
"\n",
"Ee2=(2^2)*(h^2)/(8*m_e*e*(L^2))                            //for   n = 2\n",
"\n",
"Ee3=(3^2)*(h^2)/(8*m_e*e*(L^2))                            //for   n = 3\n",
"\n",
"printf('\n  FOR AN ELECTRON')\n",
"printf('\n  the lowest three energy states are obtained ')\n",
"printf('\n  for n = 1   Ee1 = %.4f eV',Ee1)\n",
"printf('\n  for n = 2   Ee2 = %.4f eV',Ee2)\n",
"printf('\n  for n = 3   Ee3 = %.4f eV',Ee3)\n",
"\n",
"\n",
"//for the grain of dust \n",
"\n",
"m=10^-9                                   //mass of grain of dust \n",
"\n",
"l=10^-4                                   //width of well\n",
"\n",
"E1=(1^2)*(h^2)/(8*m*e*(l^2))                            //for   n = 1\n",
"\n",
"E2=(2^2)*(h^2)/(8*m*e*(l^2))                            //for   n = 2\n",
"\n",
"E3=(3^2)*(h^2)/(8*m*e*(l^2))                            //for   n = 3\n",
"\n",
"printf('\n\n  FOR THE GRAIN OF DUST ')\n",
"printf('\n  the lowest three energy states are obtained ')\n",
"printf('\n  for n = 1   E1 = ')\n",
"disp(E1)\n",
"printf('  eV')\n",
"printf('\n  for n = 2   E2 = ')\n",
"disp(E2)\n",
"printf('  eV')\n",
"printf('\n  for n = 3   E3 = ')\n",
"disp(E3)\n",
"printf('  eV')\n",
""
   ]
   }
,
{
		   "cell_type": "markdown",
		   "metadata": {},
		   "source": [
			"## Example 5.15_6: calculate_the_width_of_the_well.sce"
		   ]
		  },
  {
"cell_type": "code",
	   "execution_count": null,
	   "metadata": {
	    "collapsed": true
	   },
	   "outputs": [],
"source": [
"//Chapter-5,Example5_15_6,pg 1-45\n",
"\n",
"E=38                                                                //potential energy \n",
"\n",
"e=1.6*10^-19                                                        //charge of an electron\n",
"\n",
"h=6.63*10^-34                                                       //Plancks constant\n",
"\n",
"m=9.1*10^-31                                                        //mass of an electron\n",
"\n",
"//the lowest energy of an electron for n=1 is    E=h^2/(8*m*e*L^2) \n",
"\n",
"L=sqrt(h^2/(8*m*e*E))                                               //width of the well\n",
"\n",
"printf('\nThe width of the well is  L =\n')\n",
"\n",
"disp(L)\n",
"\n",
"printf('meter\n')"
   ]
   }
,
{
		   "cell_type": "markdown",
		   "metadata": {},
		   "source": [
			"## Example 5.15_7: calculate_the_energy_and_wavelength_of_the_emitted_photon.sce"
		   ]
		  },
  {
"cell_type": "code",
	   "execution_count": null,
	   "metadata": {
	    "collapsed": true
	   },
	   "outputs": [],
"source": [
"//Chapter-5,Example5_15_7,pg 1-45\n",
"\n",
"e=1.6*10^-19                                                        //charge of an electron\n",
"\n",
"h=6.63*10^-34                                                       //Plancks constant\n",
"\n",
"m=9.1*10^-31                                                        //mass of an electron\n",
"\n",
"c=3*10^8                                                            //speed of light in air\n",
"\n",
"//The energy eigen values are given by    E=(h^2*n^2)/(8*m*e*L^2) \n",
"\n",
"L=5*10^-10                                                          //width of potential well\n",
"\n",
"//as electron makes a transittion from its n=2 to n=1 energy level\n",
"\n",
"E1=(1*h^2)/(8*m*e*L^2)                                              //for n=1\n",
"\n",
"E2=(4*h^2)/(8*m*e*L^2)                                              //for n=2\n",
"\n",
"E=E2-E1                                                             //The energy of emitted photon\n",
"\n",
"printf('\nThe energy of emitted photon is  E2-E1 = %.2f eV\n',E)\n",
"\n",
"//The energy of photon in terms of wavelength is (h*c)/lam\n",
"\n",
"wavelength=(h*c)/(E*e)\n",
"\n",
"printf('\nThe wavelength of emitted photon is = %.9f m\n',wavelength)"
   ]
   }
,
{
		   "cell_type": "markdown",
		   "metadata": {},
		   "source": [
			"## Example 5.3_10: calculate_the_de_Broglie_wavelength_and_momentum_of_an_electron.sce"
		   ]
		  },
  {
"cell_type": "code",
	   "execution_count": null,
	   "metadata": {
	    "collapsed": true
	   },
	   "outputs": [],
"source": [
"//Chapter-5,Example5_3_10,pg 5-11\n",
"\n",
"V=10*10^3                                    //Potential difference\n",
"\n",
"wavelength=12.27/sqrt(V)                     // de Broglie wavelength of an eThelectron accelerated through a potential difference of 'V'\n",
"\n",
"printf('\nThe de Broglie wavelength of an electron accelerated through a potential difference of V is = %.4f A.\n',wavelength)\n",
"\n",
"h=6.63*10^-34                                //Plancks constant\n",
"\n",
"p=h/(wavelength*10^-10)                                      //The momentum of an electron\n",
"\n",
"printf('\nThe momentum of an electron\n')\n",
"\n",
"disp(p)\n",
"\n",
"printf('kg-meter/sec\n')"
   ]
   }
,
{
		   "cell_type": "markdown",
		   "metadata": {},
		   "source": [
			"## Example 5.3_11: calculate_the_ratio_of_de_Broglie_wavelengths.sce"
		   ]
		  },
  {
"cell_type": "code",
	   "execution_count": null,
	   "metadata": {
	    "collapsed": true
	   },
	   "outputs": [],
"source": [
"//Chapter-5,Example5_3_11,pg 5-11\n",
"\n",
"//a proton and alpha particle are accelerated by the same potential difference\n",
"\n",
"m_p=1.67*10^-27                                         //mass of proton\n",
"\n",
"m_a=4*m_p                                                //mass of alpha particle (assume mass of alpha particle to be 4 times the mass of proton)\n",
"\n",
"e=1.6*10^-19                                           //charge of proton\n",
"\n",
"e_a=2*e                                                 //charge of an alpha particle\n",
"\n",
"h=6.63*10^-34                                          //plancks constant\n",
"\n",
"wavelength_p=h/sqrt(2*m_p*e)                                    //wavelength of proton\n",
"\n",
"wavelength_a=h/sqrt(2*m_a*e_a)                                   //wavelength of an alpha particle\n",
" \n",
"ratio=wavelength_p/wavelength_a                                        //ratio of the de Broglie wavelengths associated with proton and alpha particle\n",
"\n",
"printf('\nthe ratio of wavelengths associated with proton and alpha particle = %.3f\n',ratio)"
   ]
   }
,
{
		   "cell_type": "markdown",
		   "metadata": {},
		   "source": [
			"## Example 5.3_12: calculate_the_velocity_and_de_Broglie_wavelength_of_an_alpha_particle.sce"
		   ]
		  },
  {
"cell_type": "code",
	   "execution_count": null,
	   "metadata": {
	    "collapsed": true
	   },
	   "outputs": [],
"source": [
"//Chapter-5,Example5_3_12,pg 5-12\n",
"\n",
"h=6.63*10^-34                                                 //Plancks constant\n",
"\n",
"m=6.68*10^-27                                                 //mass of alpha particle \n",
"\n",
"E=1.6*10^-16                                                  //energy asociated with alpha particle\n",
"\n",
"wavelength=h/sqrt(2*m*E)\n",
"\n",
"printf('\nThe de Broglie wavelength of an alpha particle\n')\n",
"\n",
"disp(wavelength)\n",
"\n",
"printf('meter\n')\n",
"\n",
"v=h/(m*wavelength)                                                   //velocity of an alpha particle\n",
"\n",
"printf('\nThe velocity of an alpha particle  v = %.2f m/s\n',v)"
   ]
   }
,
{
		   "cell_type": "markdown",
		   "metadata": {},
		   "source": [
			"## Example 5.3_13: find_the_de_Broglie_wavelengths_of_photon_and_electron.sce"
		   ]
		  },
  {
"cell_type": "code",
	   "execution_count": null,
	   "metadata": {
	    "collapsed": true
	   },
	   "outputs": [],
"source": [
"//Chapter-5,Example5_3_13,pg 5-12\n",
"\n",
"h=6.63*10^-34                                                 //Plancks constant\n",
"\n",
"c=3*10^8                                                      //velocity of light in air \n",
"\n",
"E=1.6*10^-19                                                  //energy of photon\n",
"\n",
"wavelength_ph=h*c/E                                                   //The energy of photon is E=h*c/lamph\n",
"\n",
"printf('\nThe de Broglie wavelength of a photon\n')\n",
"\n",
"disp(wavelength_ph)\n",
"\n",
"printf('meter\n')\n",
"\n",
"m=9.1*10^-31                                                 //mass of an electron\n",
"\n",
"wavelength_e=h/sqrt(2*m*E)\n",
"\n",
"\n",
"printf('\nThe de Broglie wavelength of an electron\n')\n",
"\n",
"disp(wavelength_e)\n",
"\n",
"printf('meter\n')"
   ]
   }
,
{
		   "cell_type": "markdown",
		   "metadata": {},
		   "source": [
			"## Example 5.3_14: find_the_de_Broglie_wavelength_of_an_electron.sce"
		   ]
		  },
  {
"cell_type": "code",
	   "execution_count": null,
	   "metadata": {
	    "collapsed": true
	   },
	   "outputs": [],
"source": [
"//Chapter-5,Example5_3_14,pg 5-13\n",
"\n",
"h=6.63*10^-34                                                 //Plancks constant\n",
"\n",
"m_0=9.1*10^-31                                                  //rest mass of electron\n",
"\n",
"c=3*10^8                                                      //velocity of light in air\n",
"\n",
"E=m_0*c^2                                                      //kinetic energy associated with \n",
"\n",
"wavelength=h/sqrt(2*m_0*E)                                            //The de broglie wavelength of an electron\n",
"\n",
"printf('\nThe de Broglie wavelength of an electron\n')\n",
"\n",
"disp(wavelength)\n",
"\n",
"printf('meter\n')"
   ]
   }
,
{
		   "cell_type": "markdown",
		   "metadata": {},
		   "source": [
			"## Example 5.3_1: calculate_de_Broglie_wavelength_and_velocity_and_time.sce"
		   ]
		  },
  {
"cell_type": "code",
	   "execution_count": null,
	   "metadata": {
	    "collapsed": true
	   },
	   "outputs": [],
"source": [
"//Chapter-5,Example5_3_1,pg 5-5\n",
"\n",
"h=6.63*10^-34                                    //Plancks constant\n",
"\n",
"m=10^-2                                          //mass of an moving object\n",
"\n",
"v1=1                                             //velocity of that object\n",
"\n",
"wavelength_1=h/(m*v1)\n",
"\n",
"printf('\nThe de Broglie Wavelength is\n')\n",
"\n",
"disp(wavelength_1)\n",
"\n",
"printf('meter\n')\n",
"\n",
"wavelength_2=10^-10                                      //new de Broglie wavelength\n",
"\n",
"v2=h/(m*wavelength_2)                                    //new velocity of an object \n",
"\n",
"printf('\nThe new velocity of an object is\n')\n",
"\n",
"disp(v2)\n",
"\n",
"printf('meter/sec\n')\n",
"\n",
"d=10^-3                                          //Distance travelled with speed v2\n",
"\n",
"t=(d/v2)/(365*24*60*60)                                           //time required to travel distance\n",
"\n",
"printf('\nTime required to travel distance is\n')\n",
"\n",
"disp(t)\n",
"\n",
"printf('years\n')\n",
"\n",
"//mistake in textbook"
   ]
   }
,
{
		   "cell_type": "markdown",
		   "metadata": {},
		   "source": [
			"## Example 5.3_2: calculate_the_velocity.sce"
		   ]
		  },
  {
"cell_type": "code",
	   "execution_count": null,
	   "metadata": {
	    "collapsed": true
	   },
	   "outputs": [],
"source": [
"//Chapter-5,Example5_3_2,pg 5-6\n",
"\n",
"h=6.63*10^-34                                //Plancks constant\n",
"\n",
"m=9.1*10^-31                                 //mass of an electron\n",
"\n",
"wavelength=10^-10                                   //de Broglie wavelength of an electron\n",
"\n",
"v=h/(m*wavelength)                                  //velocity of an electron\n",
"\n",
"printf('\nThe velocity of an electron is  v = %.1f m/s\n',v)"
   ]
   }
,
{
		   "cell_type": "markdown",
		   "metadata": {},
		   "source": [
			"## Example 5.3_3: calculate_kinetic_energy_of_an_electron.sce"
		   ]
		  },
  {
"cell_type": "code",
	   "execution_count": null,
	   "metadata": {
	    "collapsed": true
	   },
	   "outputs": [],
"source": [
"//Chapter-5,Example5_3_3,pg 5-6\n",
"\n",
"h=6.63*10^-34                                //Plancks constant\n",
"\n",
"m=9.1*10^-31                                 //mass of an electron\n",
"\n",
"wavelength=5000*10^-10                              //de Broglie wavelength of an electron\n",
"\n",
"e=1.6*10^-19                                 //charge on electron\n",
"\n",
"E=h^2/(2*m*wavelength^2*e)                          //Kinetic energy of an electron \n",
"\n",
"printf('\nKinetic energy of an electron is  E = %.9f eV\n',E)"
   ]
   }
,
{
		   "cell_type": "markdown",
		   "metadata": {},
		   "source": [
			"## Example 5.3_4: find_the_wavelength_of_a_beam_of_neutron.sce"
		   ]
		  },
  {
"cell_type": "code",
	   "execution_count": null,
	   "metadata": {
	    "collapsed": true
	   },
	   "outputs": [],
"source": [
"//Chapter-5,Example5_3_4,pg 5-7\n",
"\n",
"E=0.025                                      //energy of neutron\n",
"\n",
"h=6.63*10^-34                                //Plancks constant\n",
"\n",
"m=1.676*10^-27                               //mass of a neutron\n",
"\n",
"e=1.6*10^-19                                 //charge on electron\n",
"\n",
"wavelength=h/sqrt(2*m*E*e)                          //The Wavelength of a beam of neutron\n",
"\n",
"printf('\nThe Wavelength of a beam of neutron is\n')\n",
"\n",
"disp(wavelength)\n",
"\n",
"printf('meter\n')"
   ]
   }
,
{
		   "cell_type": "markdown",
		   "metadata": {},
		   "source": [
			"## Example 5.3_5: find_the_de_Broglie_wavelength_of_an_electron.sce"
		   ]
		  },
  {
"cell_type": "code",
	   "execution_count": null,
	   "metadata": {
	    "collapsed": true
	   },
	   "outputs": [],
"source": [
"//Chapter-5,Example5_3_5,pg 5-7\n",
"\n",
"E=120                                        //kinetic energy of an electron\n",
"\n",
"h=6.63*10^-34                                //Plancks constant\n",
"\n",
"m=9.1*10^-31                                 //mass of an electron\n",
"\n",
"e=1.6*10^-19                                 //charge on electron\n",
"\n",
"wavelength=h/sqrt(2*m*E*e)                          //The de Broglie Wavelength of an electron\n",
"\n",
"printf('\nThe de Broglie Wavelength of an electron is\n')\n",
"\n",
"disp(wavelength)\n",
"\n",
"printf('meter\n')"
   ]
   }
,
{
		   "cell_type": "markdown",
		   "metadata": {},
		   "source": [
			"## Example 5.3_6: calculate_the_velocity_and_kinetic_energy_of_neutron.sce"
		   ]
		  },
  {
"cell_type": "code",
	   "execution_count": null,
	   "metadata": {
	    "collapsed": true
	   },
	   "outputs": [],
"source": [
"//Chapter-5,Example5_3_6,pg 5-7\n",
"\n",
"h=6.63*10^-34                                //Plancks constant\n",
"\n",
"m=1.67*10^-27                               //mass of a neutron\n",
"\n",
"e=1.6*10^-19                                 //charge on electron\n",
"\n",
"wavelength=10^-10                                   //The de Broglie Wavelength of a neutron\n",
"\n",
"v=h/(m*wavelength)                                  //velocity of a neutron\n",
"\n",
"printf('\nThe velocity of a neutron is  v= %.f m/s\n',v)\n",
"\n",
"E=h^2/(2*m*wavelength^2*e)                          //Kinetic energy of a neutron\n",
"\n",
"printf('\nKinetic energy of a neutron is  E= %.5f eV\n',E)"
   ]
   }
,
{
		   "cell_type": "markdown",
		   "metadata": {},
		   "source": [
			"## Example 5.3_7: find_the_de_Broglie_wavelength.sce"
		   ]
		  },
  {
"cell_type": "code",
	   "execution_count": null,
	   "metadata": {
	    "collapsed": true
	   },
	   "outputs": [],
"source": [
"//Chapter-5,Example5_3_7,pg 5-8\n",
"\n",
"//(1)\n",
"V=182                                        //Potential difference \n",
"\n",
"wavelength_1=12.27*10^-10/sqrt(V)                    //The de Broglie wavelength of an electron accelerated through a potential diff. of 'V'\n",
"\n",
"\n",
"printf('\nThe de Broglie wavelength of an electron accelerated through a potential diff. of V is\n')\n",
"\n",
"disp(wavelength_1)\n",
"\n",
"printf('meter\n')\n",
"\n",
"//(2)\n",
"h=6.63*10^-34                                //Plancks constant\n",
"\n",
"m=1\n",
"\n",
"v=1\n",
"\n",
"wavelength_2=h/(m*v)\n",
"\n",
"printf('\nThe de Broglie wavelength of an object is\n')\n",
"\n",
"disp(wavelength_2)\n",
"\n",
"printf('meter\n')"
   ]
   }
,
{
		   "cell_type": "markdown",
		   "metadata": {},
		   "source": [
			"## Example 5.3_8: find_the_momentum_and_energy_of_an_electron.sce"
		   ]
		  },
  {
"cell_type": "code",
	   "execution_count": null,
	   "metadata": {
	    "collapsed": true
	   },
	   "outputs": [],
"source": [
"//Chapter-5,Example5_3_8,pg 5-9\n",
"\n",
"h=6.63*10^-34                                //Plancks constant\n",
"\n",
"m=9.1*10^-31                                 //mass of an electron\n",
"\n",
"e=1.6*10^-19                                 //charge on electron\n",
"\n",
"wavelength=10^-14                                   //The de Broglie wavelength of an electron\n",
"\n",
"p=h/wavelength                                     //as the de Broglie wavelength of an electron is (lam=h/p)\n",
"\n",
"printf('\nThe momentum of an electron is\n')\n",
"\n",
"disp(p)\n",
"\n",
"printf('kg-meter/sec\n')\n",
"\n",
"E=p^2/(2*m*e)*10^-6                                //energy corresponds to momentum\n",
"\n",
"printf('\nenergy of an electron is   E = %.2f MeV\n',E)"
   ]
   }
,
{
		   "cell_type": "markdown",
		   "metadata": {},
		   "source": [
			"## Example 5.3_9: find_the_parameters_for_an_electron_wave.sce"
		   ]
		  },
  {
"cell_type": "code",
	   "execution_count": null,
	   "metadata": {
	    "collapsed": true
	   },
	   "outputs": [],
"source": [
"//Chapter-5,Example5_3_9,pg 5-10\n",
"\n",
"V=3000                                          //Potential difference \n",
"\n",
"wavelength=12.27/sqrt(V)                        //The de Broglie wavelength of an electron accelerated through a potential diff. of 'V'\n",
"\n",
"printf('\nThe de Broglie wavelength of an electron accelerated through a potential diff. of V is  %.3f A.\n',wavelength)\n",
"\n",
"h=6.63*10^-34                                   //Plancks constant\n",
"\n",
"p=h/(wavelength*10^-10)                                   //as the de Broglie wavelength of an electron is (wavelength=h/p)\n",
"\n",
"printf('\nThe momentum of an electron is\n')\n",
"\n",
"disp(p)\n",
"\n",
"printf('kg-meter/sec\n')\n",
"\n",
"wave_no=1/(wavelength*10^-10)                                      //wave number \n",
"\n",
"printf('\nThe wave number = %.f/m\n',wave_no)\n",
"\n",
"d=2.04                                          //distance between planes\n",
"\n",
"n=1                                             //For first ordet reflection\n",
"\n",
"angle=asind(n*wavelength/(2*d))                   //By Bragg's law '2dsin(angle)=n*wavelength' \n",
"\n",
"printf('\nThe Bragg angle = %.3f Degree\n',angle)"
   ]
   }
,
{
		   "cell_type": "markdown",
		   "metadata": {},
		   "source": [
			"## Example 5.7_1: find_the_accuracy_in_position_of_an_electron.sce"
		   ]
		  },
  {
"cell_type": "code",
	   "execution_count": null,
	   "metadata": {
	    "collapsed": true
	   },
	   "outputs": [],
"source": [
"//Chapter-5,Example5_7_1,pg 5-26\n",
"\n",
"unc=1*10^-4                                          //as uncertainty is 0.01%\n",
"\n",
"m=9.1*10^-31                                         //mass of an electron\n",
"\n",
"h=6.63*10^-34                                        //Plancks constant\n",
"\n",
"v=400                                                //speed of an electron\n",
"\n",
"delta_v=unc*v                                             //error in measurement of speed \n",
"\n",
"delta_x=h/(4*%pi*m*delta_v)                                    //By Heisenberg's uncertainty priciple\n",
"\n",
"printf('\nThe accuracy in position of an electron  Delta_x = %.5f m\n',delta_x)"
   ]
   }
,
{
		   "cell_type": "markdown",
		   "metadata": {},
		   "source": [
			"## Example 5.7_2: calculate_the_percentage_of_uncertainty.sce"
		   ]
		  },
  {
"cell_type": "code",
	   "execution_count": null,
	   "metadata": {
	    "collapsed": true
	   },
	   "outputs": [],
"source": [
"//Chapter-5,Example5_7_2,pg 5-27\n",
"\n",
"delta_x=10*10^-9                                            //position is located within this distance\n",
"\n",
"h=6.63*10^-34                                          //plancks constant\n",
"\n",
"delta_px=h/(4*%pi*delta_x)                                       //By Heisenberg's uncertainty priciple\n",
"\n",
"E=1.6*10^-16                                           //Energy associated with an electron\n",
"\n",
"m=9.1*10^-31                                           //mass of an electron\n",
"\n",
"p=sqrt(2*m*E)                                          //momentum of an electron\n",
"\n",
"percentage=delta_px*100/p                                         //percentage uncertainty in momentum\n",
"\n",
"printf('\npercentage uncertainty in momentum of an electron = %.4f \n',percentage)"
   ]
   }
,
{
		   "cell_type": "markdown",
		   "metadata": {},
		   "source": [
			"## Example 5.7_3: find_the_accuracy_in_position_of_an_electron.sce"
		   ]
		  },
  {
"cell_type": "code",
	   "execution_count": null,
	   "metadata": {
	    "collapsed": true
	   },
	   "outputs": [],
"source": [
"//Chapter-5,Example5_7_3,pg 5-27\n",
"\n",
"\n",
"uncertainty=1*10^-4                                   //as uncertainty is 0.01%\n",
"\n",
"m=9.1*10^-31                                         //mass of an electron\n",
"\n",
"h=6.63*10^-34                                        //Plancks constant\n",
"\n",
"v=4*10^5                                             //speed of an electron\n",
"\n",
"delta_v=uncertainty*v                                             //error in measurement of speed \n",
"\n",
"delta_x=h/(4*%pi*m*delta_v)                                    //By Heisenberg's uncertainty priciple\n",
"\n",
"printf('\nThe accuracy in position of an electron  Delta_x = %.8f m\n',delta_x)"
   ]
   }
,
{
		   "cell_type": "markdown",
		   "metadata": {},
		   "source": [
			"## Example 5.7_4: find_the_accuracy_in_position_of_an_electron.sce"
		   ]
		  },
  {
"cell_type": "code",
	   "execution_count": null,
	   "metadata": {
	    "collapsed": true
	   },
	   "outputs": [],
"source": [
"//Chapter-5,Example5_7_4,pg 5-27\n",
"\n",
"uncertainty=1*10^-2                                          //as uncertainty is 1%\n",
"\n",
"m=9.1*10^-31                                         //mass of an electron\n",
"\n",
"h=6.63*10^-34                                        //Plancks constant\n",
"\n",
"v=1.88*10^6                                          //speed of an electron\n",
"\n",
"delta_v=uncertainty*v                                             //error in measurement of speed \n",
"\n",
"delta_x=h/(4*%pi*m*delta_v)                                    //By Heisenberg's uncertainty priciple\n",
"\n",
"printf('\nThe accuracy in position of an electron  Delta_x =\n')\n",
"\n",
"disp(delta_x)\n",
"\n",
"printf('meter\n')"
   ]
   }
,
{
		   "cell_type": "markdown",
		   "metadata": {},
		   "source": [
			"## Example 5.7_5: calculate_the_minimum_time_spent_by_the_electrons.sce"
		   ]
		  },
  {
"cell_type": "code",
	   "execution_count": null,
	   "metadata": {
	    "collapsed": true
	   },
	   "outputs": [],
"source": [
"//Chapter-5,Example5_7_5,pg 5-28\n",
"\n",
"//By Heisenberg's uncertainty principle\n",
"\n",
"//(delta_E*delta_t)>=h/(4*%pi)\n",
"\n",
"//therefore      (h*c*delta_wavelength*delta_t/wavelength^2) >= h/(4*%pi)\n",
"\n",
"wavelength=4*10^-7                                                                      //wavelength of spectral line\n",
"\n",
"c=3*10^8                                                                         //velocity of light in air\n",
"\n",
"delta_wavelength=8*10^-15                                                                    //width of spectral line\n",
"\n",
"delta_t=wavelength^2/(4*%pi*c*delta_wavelength)\n",
"\n",
"printf('\nThe minimum time required by the electrons in upper energy state  Delta_t = \n')\n",
"\n",
"disp(delta_t)\n",
"\n",
"printf('sec\n')"
   ]
   }
,
{
		   "cell_type": "markdown",
		   "metadata": {},
		   "source": [
			"## Example 5.7_6: calculate_the_uncertainty_in_energy.sce"
		   ]
		  },
  {
"cell_type": "code",
	   "execution_count": null,
	   "metadata": {
	    "collapsed": true
	   },
	   "outputs": [],
"source": [
"//Chapter-5,Example5_7_6,pg 5-29\n",
"\n",
"h=6.63*10^-34                                                           //Plancks constant\n",
"\n",
"e=1.6*10^-19                                                            //charge of an electron\n",
"\n",
"delta_t=1.4*10^-10                                                           //time spent in excited state\n",
"\n",
"delta_E=h/(4*%pi*delta_t*e)                                                       //By Heisenberg's uncertainty principle (delta_E*delta_t)>= h/(4*%pi)\n",
"\n",
"printf('\nThe uncertainty in energy of Iradium in the excited state  Delta_E = %.8f eV\n',delta_E)"
   ]
   }
,
{
		   "cell_type": "markdown",
		   "metadata": {},
		   "source": [
			"## Example 5.7_7: find_the_time_spent_by_an_atom_in_excited_state.sce"
		   ]
		  },
  {
"cell_type": "code",
	   "execution_count": null,
	   "metadata": {
	    "collapsed": true
	   },
	   "outputs": [],
"source": [
"//Chapter-5,Example5_7_7,pg 5-29\n",
"\n",
"//By Heisenberg's uncertainty principle\n",
"\n",
"//(delta_E*delta_t)>=h/(4*%pi)\n",
"\n",
"//therefore      (h*c*delta_wavelength*delta_t/wavelength^2) >= h/(4*%pi)\n",
"\n",
"wavelength=546*10^-9                                                                    //wavelength of spectral line\n",
"\n",
"c=3*10^8                                                                         //velocity of light in air\n",
"\n",
"delta_wavelength=10^-14                                                                      //width of spectral line\n",
"\n",
"delta_t=wavelength^2/(4*%pi*c*delta_wavelength)\n",
"\n",
"printf('\nThe time spent by an atom in the excited state \n')\n",
"\n",
"disp(delta_t)\n",
"\n",
"printf('sec\n')"
   ]
   }
],
"metadata": {
		  "kernelspec": {
		   "display_name": "Scilab",
		   "language": "scilab",
		   "name": "scilab"
		  },
		  "language_info": {
		   "file_extension": ".sce",
		   "help_links": [
			{
			 "text": "MetaKernel Magics",
			 "url": "https://github.com/calysto/metakernel/blob/master/metakernel/magics/README.md"
			}
		   ],
		   "mimetype": "text/x-octave",
		   "name": "scilab",
		   "version": "0.7.1"
		  }
		 },
		 "nbformat": 4,
		 "nbformat_minor": 0
}
