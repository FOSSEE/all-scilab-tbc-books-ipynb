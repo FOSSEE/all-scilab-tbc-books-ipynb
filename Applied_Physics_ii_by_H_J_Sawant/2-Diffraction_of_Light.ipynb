{
"cells": [
 {
		   "cell_type": "markdown",
	   "metadata": {},
	   "source": [
       "# Chapter 2: Diffraction of Light"
	   ]
	},
{
		   "cell_type": "markdown",
		   "metadata": {},
		   "source": [
			"## Example 2.2_1: calculate_the_width_of_slit.sce"
		   ]
		  },
  {
"cell_type": "code",
	   "execution_count": null,
	   "metadata": {
	    "collapsed": true
	   },
	   "outputs": [],
"source": [
"//Chapter-2,Example2_2_1,pg 2-10\n",
"\n",
"angle=30                           //angle of incidance\n",
"\n",
"n=1                                      //first minimum\n",
"\n",
"wavelength=6500*10^-8                          //wavelength of light \n",
"\n",
"a=(n*wavelength)/sind(angle)                       //For minimum intensity in single slit\n",
"\n",
"printf('\nvalue of a =%.5f cm\n',a)"
   ]
   }
,
{
		   "cell_type": "markdown",
		   "metadata": {},
		   "source": [
			"## Example 2.2_2: calculate_the_angular_separation_between_first_order_minima.sce"
		   ]
		  },
  {
"cell_type": "code",
	   "execution_count": null,
	   "metadata": {
	    "collapsed": true
	   },
	   "outputs": [],
"source": [
"//Chapter-2,Example2_2_2,pg 2-10\n",
"\n",
"a=6*10^-6                              //width of slit\n",
"\n",
"n=1                                    //for first minimum\n",
"\n",
"wavelength=6000*10^-10                        //wavelength of light \n",
"\n",
"angle=2*asind(n*wavelength/a)            //angular seperation \n",
"\n",
"printf('\nThe angular seperation between first order minima is angle = %.4f degree\n',angle)"
   ]
   }
,
{
		   "cell_type": "markdown",
		   "metadata": {},
		   "source": [
			"## Example 2.2_3: calculate_wavelength_of_light.sce"
		   ]
		  },
  {
"cell_type": "code",
	   "execution_count": null,
	   "metadata": {
	    "collapsed": true
	   },
	   "outputs": [],
"source": [
"//Chapter-2,Example2_2_3,pg 2-11\n",
"\n",
"n2=2                                         //for second order minima \n",
"\n",
"n3=3                                         //for third order minima\n",
"\n",
"wavelength_3=4000                             //wavelength of light for third order minima\n",
"\n",
"//as second order minima is coincide with third order minima,  n2*wavelength2= n3*wavelength_3\n",
"\n",
"wavelength_2=n3*wavelength_3/n2\n",
"\n",
"printf('\nwavelength of light for second order minima is = %.f A.',wavelength_2)"
   ]
   }
,
{
		   "cell_type": "markdown",
		   "metadata": {},
		   "source": [
			"## Example 2.2_4: find_half_angular_width_of_a_principal_maximum.sce"
		   ]
		  },
  {
"cell_type": "code",
	   "execution_count": null,
	   "metadata": {
	    "collapsed": true
	   },
	   "outputs": [],
"source": [
"//Chapter-2,Example2_2_4,pg 2-11\n",
"\n",
"a=0.16*10^-3                              //width of slit\n",
"\n",
"n=1                                    //for first minimum\n",
"\n",
"wavelength=5600*10^-10                        //wavelength of light \n",
"\n",
"angle=asind(n*wavelength/a)            //angular seperation \n",
"\n",
"printf('\nThe half angular width of a principal maximum is angle = %.4f degrees\n',angle)"
   ]
   }
,
{
		   "cell_type": "markdown",
		   "metadata": {},
		   "source": [
			"## Example 2.2_5: find_half_angular_width_of_central_maximum.sce"
		   ]
		  },
  {
"cell_type": "code",
	   "execution_count": null,
	   "metadata": {
	    "collapsed": true
	   },
	   "outputs": [],
"source": [
"//Chapter-2,Example2_2_5,pg 2-11\n",
"\n",
"a=12*10^-7                                //width of slit\n",
"\n",
"n=1                                       //for first minimum\n",
"\n",
"wavelength=6000*10^-10                           //wavelength of light \n",
"\n",
"angle=asind(n*wavelength/a)                 //angular seperation \n",
"\n",
"printf('\nThe half angular width of the central  maximum is angle = %.1f degrees\n',angle)"
   ]
   }
,
{
		   "cell_type": "markdown",
		   "metadata": {},
		   "source": [
			"## Example 2.2_6: calculate_the_angle.sce"
		   ]
		  },
  {
"cell_type": "code",
	   "execution_count": null,
	   "metadata": {
	    "collapsed": true
	   },
	   "outputs": [],
"source": [
"//Chapter-2,Example2_2_6,pg 2-12\n",
"\n",
"a=2*10^-6                                 //width of slit\n",
"\n",
"n=1                                       //for first minimum\n",
"\n",
"wavelength=6500*10^-10                    //wavelength of light \n",
"\n",
"angle=asind(n*wavelength/a)              //angular seperation \n",
"\n",
"printf('\nThe half angular width of a principal maximum is  angle =%.2f degrees\n',angle)"
   ]
   }
,
{
		   "cell_type": "markdown",
		   "metadata": {},
		   "source": [
			"## Example 2.3_1: calculate_the_missing_orders.sce"
		   ]
		  },
  {
"cell_type": "code",
	   "execution_count": null,
	   "metadata": {
	    "collapsed": true
	   },
	   "outputs": [],
"source": [
"//Chapter-2,Example2_3_1,pg 2-16\n",
"\n",
"a=0.16                              //width of slit\n",
"\n",
"b=0.8                               //width of slit\n",
"\n",
"n=[1 2 3]                            //no of minima\n",
"\n",
"m=((a+b)/a).*n\n",
"\n",
"printf('\nthe missing orders are m = ')\n",
"\n",
"disp(m)"
   ]
   }
,
{
		   "cell_type": "markdown",
		   "metadata": {},
		   "source": [
			"## Example 2.4_10: find_the_order_of_absent_spectra.sce"
		   ]
		  },
  {
"cell_type": "code",
	   "execution_count": null,
	   "metadata": {
	    "collapsed": true
	   },
	   "outputs": [],
"source": [
"//Chapter-2,Example2_4_10,pg 2-28\n",
"\n",
"N=5000*10^2                                   //Number of lines per meter \n",
"\n",
"wavelength=6000*10^-10                               //wavelength of light \n",
"\n",
"m_max=1/(N*wavelength)\n",
"\n",
"//for absent spectra\n",
"\n",
"n=[1 2 3]\n",
"\n",
"m=3*n                                         //as b = 2a         and m = ((a+b)/a)*n\n",
"\n",
"printf('\n The order of absent spectra is m = %.0f ',m_max)"
   ]
   }
,
{
		   "cell_type": "markdown",
		   "metadata": {},
		   "source": [
			"## Example 2.4_11: calculate_total_number_of_lines.sce"
		   ]
		  },
  {
"cell_type": "code",
	   "execution_count": null,
	   "metadata": {
	    "collapsed": true
	   },
	   "outputs": [],
"source": [
"//Chapter-2,Example2_4_11,pg 2-28\n",
"\n",
"m=1                                                  //first ordr spectrum\n",
"\n",
"wavelength=5790*10^-10                                       //wavelength of light \n",
"\n",
"angle=19.994                                    //angle of diffraction\n",
"\n",
"N=2.54*sind(angle)/(m*wavelength*100)\n",
"\n",
"printf('\nNumber of lines per 2.54 cm  is  N = %.0f lines',N)"
   ]
   }
,
{
		   "cell_type": "markdown",
		   "metadata": {},
		   "source": [
			"## Example 2.4_1: find_the_orders.sce"
		   ]
		  },
  {
"cell_type": "code",
	   "execution_count": null,
	   "metadata": {
	    "collapsed": true
	   },
	   "outputs": [],
"source": [
"//Chapter-2,Example2_4_1,pg 2-24\n",
"wavelength_1=5000                                  //wavelength of light \n",
"wavelength_2=7000                                  //wavelength of light\n",
"N=4000                                              //number of lines per cm\n",
"m_1=1/((wavelength_1*10^-8)*N)                               //for wavelength= 5000 A.\n",
"m_2=1/((wavelength_2*10^-8)*N)                                //for wavelength= 7000 A.\n",
"printf('\nnumber of orders visible for 7000*10^-10 meter are  %.2f\n',m_2)\n",
"printf('\nnumber of orders visible for 5000*10^-10 meter are  %.1f\n',m_1)"
   ]
   }
,
{
		   "cell_type": "markdown",
		   "metadata": {},
		   "source": [
			"## Example 2.4_2: find_the_number_of_lines_per_meter.sce"
		   ]
		  },
  {
"cell_type": "code",
	   "execution_count": null,
	   "metadata": {
	    "collapsed": true
	   },
	   "outputs": [],
"source": [
"//Chapter-2,Example2_4_2,pg 2-24\n",
"\n",
"//as a mth order of wavelength  5400 A. is superimposed on (m+1)th order of wavelength  4050 A.\n",
"\n",
"angle=30                                   //angle of diffraction\n",
"\n",
"wavelength_1=5400                                 //for mth order \n",
"\n",
"wavelength_2=4050                                 //for (m+1)th order \n",
"\n",
"m=wavelength_2/(wavelength_1-wavelength_2)\n",
"\n",
"N=(sind(angle)/(m*wavelength_1))*10^8                              //Number of lines per cm\n",
"\n",
"printf('\nNumber of lines per cm  N = %.2f',N)"
   ]
   }
,
{
		   "cell_type": "markdown",
		   "metadata": {},
		   "source": [
			"## Example 2.4_3: calculate_the_wavelength_of_spectral_line.sce"
		   ]
		  },
  {
"cell_type": "code",
	   "execution_count": null,
	   "metadata": {
	    "collapsed": true
	   },
	   "outputs": [],
"source": [
"//Chapter-2,Example2_4_3,pg 2-25\n",
"\n",
"//as 3rd order line of wavelength lam is coincide with 4th order wavelength 4992 A.\n",
"\n",
"m_1=3                                                    //3rd order \n",
"\n",
"m_2=4                                                    //for 4th order\n",
"\n",
"wavelength_2=4992                                        //for 4th order\n",
"\n",
"wavelength_1=m_2*wavelength_2/m_1 \n",
"\n",
"printf('\nwavelength of light is  = %.0f A.',wavelength_1)"
   ]
   }
,
{
		   "cell_type": "markdown",
		   "metadata": {},
		   "source": [
			"## Example 2.4_4: find_the_angle_of_diffraction.sce"
		   ]
		  },
  {
"cell_type": "code",
	   "execution_count": null,
	   "metadata": {
	    "collapsed": true
	   },
	   "outputs": [],
"source": [
"//Chapter-2,Example2_4_4,pg 2-25\n",
"\n",
"wavelength=6328*10^-10                            //wavelength of light \n",
"\n",
"m1=1                                        //for first order \n",
"\n",
"m2=2                                        //for second order \n",
"\n",
"N= 6000*10^2                               //Number of lines per unit length \n",
"\n",
"angle_1=asind(N*m1*wavelength)\n",
"\n",
"angle_2=asind(N*m2*wavelength)\n",
"\n",
"printf('\nangle of diaffraction for 1st order minima is  ang1 = %.2f degrees',angle_1)\n",
"\n",
"printf('\nangle of diaffraction for 2nd order minima is  ang2 = %.2f degrees',angle_2)"
   ]
   }
,
{
		   "cell_type": "markdown",
		   "metadata": {},
		   "source": [
			"## Example 2.4_5: calculate_the_number_of_lines_per_meter.sce"
		   ]
		  },
  {
"cell_type": "code",
	   "execution_count": null,
	   "metadata": {
	    "collapsed": true
	   },
	   "outputs": [],
"source": [
"//Chapter-2,Example2_4_5,pg 2-26\n",
"\n",
"m=2                                   //ofr second order principal maximum\n",
"\n",
"wavelength=5*10^-5                           //wavelength of light \n",
"\n",
"angle=30                               //ang of diaffraction\n",
"\n",
"N=sind(angle)/(m*wavelength)\n",
"\n",
"printf('\nNumber of lines per cm is  N = %.f',N)"
   ]
   }
,
{
		   "cell_type": "markdown",
		   "metadata": {},
		   "source": [
			"## Example 2.4_6: find_the_longest_wavelength.sce"
		   ]
		  },
  {
"cell_type": "code",
	   "execution_count": null,
	   "metadata": {
	    "collapsed": true
	   },
	   "outputs": [],
"source": [
"//Chapter-2,Example2_4_6,pg 2-26\n",
"\n",
"m=3                                     //third order \n",
"\n",
"angle=90                                //for normal incidence \n",
"\n",
"N=7000                                  //Number of lines per meter \n",
"\n",
"wavelength=(sind(angle)/(m*N))*10^8\n",
"\n",
"printf('\nThe longest wavelength is lam = %.0f A. ',wavelength)"
   ]
   }
,
{
		   "cell_type": "markdown",
		   "metadata": {},
		   "source": [
			"## Example 2.4_7: calculate_the_total_number_of_lines.sce"
		   ]
		  },
  {
"cell_type": "code",
	   "execution_count": null,
	   "metadata": {
	    "collapsed": true
	   },
	   "outputs": [],
"source": [
"//Chapter-2,Example2_4_7,pg 2-27\n",
"\n",
"m=1                                         //first ordr spectrum\n",
"\n",
"wavelength=6560*10^-8                       //wavelength of light \n",
"\n",
"angle=16.2                                 //angle of diffraction\n",
"\n",
"N=2*sind(angle)/(m*wavelength)\n",
"\n",
"printf('\nNumber of lines per 2 cm  is  N = %.0f',N)"
   ]
   }
,
{
		   "cell_type": "markdown",
		   "metadata": {},
		   "source": [
			"## Example 2.4_8: calculate_total_number_of_lines.sce"
		   ]
		  },
  {
"cell_type": "code",
	   "execution_count": null,
	   "metadata": {
	    "collapsed": true
	   },
	   "outputs": [],
"source": [
"//Chapter-2,Example2_4_8,pg 2-27\n",
"\n",
"\n",
"m=1                                                  //first ordr spectrum\n",
"\n",
"wavelength=6.56*10^-5                                //wavelength of light \n",
"\n",
"angle=18.23333333                                     //angle of diffraction\n",
"\n",
"N=2*sind(angle)/(m*wavelength)\n",
"\n",
"printf('\nNumber of lines per 2 cm  is  N = %.2f',N)"
   ]
   }
,
{
		   "cell_type": "markdown",
		   "metadata": {},
		   "source": [
			"## Example 2.4_9: calculate_the_highest_order_spectrum.sce"
		   ]
		  },
  {
"cell_type": "code",
	   "execution_count": null,
	   "metadata": {
	    "collapsed": true
	   },
	   "outputs": [],
"source": [
"//Chapter-2,Example2_4_9,pg 2-27\n",
"\n",
"N=5000                                   //Number of lines per meter \n",
"\n",
"wavelength=6*10^-5                               //wavelength of light \n",
"\n",
"m_max=1/(N*wavelength)\n",
"\n",
"printf('\nThe highest order spectrum is  m = %.0f ',m_max)"
   ]
   }
,
{
		   "cell_type": "markdown",
		   "metadata": {},
		   "source": [
			"## Example 2.6_1: find_angular_separation_and_number_of_lines_per_meter.sce"
		   ]
		  },
  {
"cell_type": "code",
	   "execution_count": null,
	   "metadata": {
	    "collapsed": true
	   },
	   "outputs": [],
"source": [
"//Chapter-2,Example2_6_1,pg 2-31\n",
"\n",
"wavelength_1=5893*10^-10                                   //wavelength of light\n",
"\n",
"wavelength_2=5896*10^-10                                   //wavelength of light\n",
"\n",
"m=2                                                //for second order \n",
"\n",
"N1=3000*10^2/0.5                                   //Number of lines per meter\n",
"\n",
"angle_1=asind(m*wavelength_1*N1)                      //for wavelength_1\n",
"\n",
"angle_2=asind(m*wavelength_2*N1)                       //for wavelength_2\n",
"\n",
"angle_sep=angle_2-angle_1\n",
"\n",
"printf('\nangular seperation is  %.4f degrees \n',angle_sep)\n",
"\n",
"d_wavelength=3*10^-10\n",
"\n",
"N=wavelength_1/(m*d_wavelength)\n",
"\n",
"printf('\n The number of lines per meter is  N = %.0f\n ',N)"
   ]
   }
,
{
		   "cell_type": "markdown",
		   "metadata": {},
		   "source": [
			"## Example 2.6_2: find_the_smallest_wavelength_interval.sce"
		   ]
		  },
  {
"cell_type": "code",
	   "execution_count": null,
	   "metadata": {
	    "collapsed": true
	   },
	   "outputs": [],
"source": [
"//Chapter-2,Example2_6_2,pg 2-32\n",
"\n",
"wavelength=481                                 //wavelength of light \n",
"\n",
"m=3                                           //for third order \n",
"\n",
"N=620*5.05                                    //number of lines per meter\n",
"\n",
"d_wavelength=wavelength/(m*N)\n",
"\n",
"printf('\n The smallest wavelength interval is  d_wavelength = %.4f nm\n',d_wavelength)"
   ]
   }
,
{
		   "cell_type": "markdown",
		   "metadata": {},
		   "source": [
			"## Example 2.6_3: find_the_width_of_grating.sce"
		   ]
		  },
  {
"cell_type": "code",
	   "execution_count": null,
	   "metadata": {
	    "collapsed": true
	   },
	   "outputs": [],
"source": [
"//Chapter-2,Example2_6_3,pg 2-33\n",
"\n",
"wavelength=5890*10^-10                                    //wavelength of light \n",
"\n",
"d_wavelength=6*10^-10\n",
"\n",
"m=2                                                //for second order \n",
"\n",
"N=wavelength/(d_wavelength*m)\n",
"\n",
"W=N/500                                          //as there are 500 lines/cm\n",
" \n",
"printf('\n The width of grating is W = %.3f cm',W)"
   ]
   }
,
{
		   "cell_type": "markdown",
		   "metadata": {},
		   "source": [
			"## Example 2.6_4: find_the_resolving_power_of_diffraction.sce"
		   ]
		  },
  {
"cell_type": "code",
	   "execution_count": null,
	   "metadata": {
	    "collapsed": true
	   },
	   "outputs": [],
"source": [
"//Chapter-2,Example2_6_4,pg 2-33\n",
"\n",
"N=3*5000                                         //number of lines\n",
"\n",
"n_l=5000*10^2                                    //number of lines per meter\n",
"\n",
"wavelength=5890*10^-10                                  //wavelength of light \n",
"\n",
"m_max=1/(n_l*wavelength)\n",
"\n",
"R_P_max=(m_max)*N\n",
"\n",
"printf('\n The maximum R.P. = %.0f ',R_P_max)"
   ]
   }
,
{
		   "cell_type": "markdown",
		   "metadata": {},
		   "source": [
			"## Example 2.6_5: calculate_number_of_lines_and_the_grating_element.sce"
		   ]
		  },
  {
"cell_type": "code",
	   "execution_count": null,
	   "metadata": {
	    "collapsed": true
	   },
	   "outputs": [],
"source": [
"//Chapter-2,Example2_6_5,pg 2-34\n",
"\n",
"wavelength=5890*10^-10                                    //wavelength of light \n",
"\n",
"d_wavelength=6*10^-10\n",
"\n",
"m=2                                                //for second order \n",
"\n",
"N=wavelength/(d_wavelength*m)\n",
"\n",
"W=3                                              //width of grating\n",
"\n",
"width=W/N\n",
"\n",
"printf('\nNumber of lines is  N = %.0f \n',N)\n",
"\n",
"printf('\n The grating element(width of line) is  a+b =%.7f cm',width)"
   ]
   }
,
{
		   "cell_type": "markdown",
		   "metadata": {},
		   "source": [
			"## Example 2.6_6: find_the_resolving_power.sce"
		   ]
		  },
  {
"cell_type": "code",
	   "execution_count": null,
	   "metadata": {
	    "collapsed": true
	   },
	   "outputs": [],
"source": [
"//Chapter-2,Example2_6_6,pg 2-34\n",
"\n",
"m=2                                  //for second order \n",
"\n",
"N=40000                              //Number of lines\n",
"\n",
"RP=m*N\n",
"\n",
"printf('\n The resolving power is  R.P. = %.0f',RP)"
   ]
   }
],
"metadata": {
		  "kernelspec": {
		   "display_name": "Scilab",
		   "language": "scilab",
		   "name": "scilab"
		  },
		  "language_info": {
		   "file_extension": ".sce",
		   "help_links": [
			{
			 "text": "MetaKernel Magics",
			 "url": "https://github.com/calysto/metakernel/blob/master/metakernel/magics/README.md"
			}
		   ],
		   "mimetype": "text/x-octave",
		   "name": "scilab",
		   "version": "0.7.1"
		  }
		 },
		 "nbformat": 4,
		 "nbformat_minor": 0
}
