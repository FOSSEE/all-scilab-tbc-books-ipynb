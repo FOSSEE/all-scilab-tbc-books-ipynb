{
"cells": [
 {
		   "cell_type": "markdown",
	   "metadata": {},
	   "source": [
       "# Chapter 22: Numerical Methods Using Neural Networks"
	   ]
	},
{
		   "cell_type": "markdown",
		   "metadata": {},
		   "source": [
			"## Example 22.1: MLP_Algorithm.sce"
		   ]
		  },
  {
"cell_type": "code",
	   "execution_count": null,
	   "metadata": {
	    "collapsed": true
	   },
	   "outputs": [],
"source": [
"//Example 22.1\n",
"//MLP Algorithm\n",
"//Page no. 748\n",
"clc;clear;close;\n",
"deff('y=f(x)','y=1/(1+exp(-x))')\n",
"Wih=[0.1,-0.3;0.3,0.4];\n",
"Who=[0.4;0.5]\n",
"i=[0.2,0.6];\n",
"t=0.7;\n",
"a=10;\n",
"for k=1:3\n",
"    printf('\n\n\nAfter Iteration %i :\n\n',k)\n",
"    disp(Wih,'Wih = ')\n",
"    disp(Who,'Who = ')\n",
"a1=i*Wih;\n",
"disp(a1,'a = ')\n",
"h=[f(a1(1)),f(a1(2))]\n",
"disp(h,'h = ')\n",
"b1=h*Who\n",
"disp(b1,'b1 =')\n",
"o=f(b1)\n",
"disp(o,'o = ')\n",
"d=o*(1-o)*(t-o)\n",
"disp(d,'d =')\n",
"for j=1:2\n",
"    e(1,j)=h(j)*(1-h(j))*d*Who(j)\n",
"end\n",
"disp(e,'e =')\n",
"dWho=a*h'*d;\n",
"disp(dWho,'dWho =')\n",
"Who=Who+dWho;\n",
"dWih=a*i'*e;\n",
"disp(dWih,'dWih =')\n",
"Wih=Wih+dWih;\n",
"end"
   ]
   }
,
{
		   "cell_type": "markdown",
		   "metadata": {},
		   "source": [
			"## Example 22.2: MLP.sce"
		   ]
		  },
  {
"cell_type": "code",
	   "execution_count": null,
	   "metadata": {
	    "collapsed": true
	   },
	   "outputs": [],
"source": [
"//Example 22.2\n",
"//MLP\n",
"//Page no. 758\n",
"clc;clear;close;\n",
"\n",
"deff('y=f(x)','y=x^3-x^2+x-1')\n",
"printf('Input\t\tDesired\t\tNetwork\t\tError\n\t\t Output\t\t Output\n---------------------------------------------------------\n')\n",
"in=[0.7572,0.7601,0.7620,1.4831,1.4874,1.4900,2.0913,2.0934,2.1006,2.8391,2.8496,2.8529,3.4555,3.4631,3.4654,4.1547,,4.1839,4.1874]\n",
"n=[-0.3941,-0.3896,-0.3867,1.6054,1.6259,1.6391,5.8762,5.8969,5.9685,16.6462,16.8542,16.9188,31.7640,31.9928,32.0646,57.6220,58.9268,59.0866]\n",
"for i=1:18\n",
"    printf(' %.4f\t\t%.4f\t\t%.4f\t\t%.4f\n',in(i),f(in(i)),n(i),n(i)-f(in(i)))\n",
"end"
   ]
   }
,
{
		   "cell_type": "markdown",
		   "metadata": {},
		   "source": [
			"## Example 22.3: Bisection_Method.sce"
		   ]
		  },
  {
"cell_type": "code",
	   "execution_count": null,
	   "metadata": {
	    "collapsed": true
	   },
	   "outputs": [],
"source": [
"//Example 22.3\n",
"//Bisection Method\n",
"//Page no. 764\n",
"clc;clear;close;\n",
"\n",
"deff('y=f(x)','y=x^3-x^2+x-1')\n",
"printf('N01\tN02\tN11\tN12\tN21\tNet31\tO31\tN41\tN42\n------------------------------------------------------------------------\n')\n",
"N01=[0,1,0.5,0.75,0.875,0.938,0.969,0.984,0.992,0.996,0.998,0.999,1,1]\n",
"N02(1)=2\n",
"for i=2:13\n",
"    N02(i)=1;\n",
"end\n",
"for i=1:13\n",
"    net31(i)=f(N01(i+1))*f(N01(i))\n",
"    if net31(i)>0 then\n",
"        O31(i)=1;\n",
"    else\n",
"        O31(i)=0;\n",
"    end\n",
"    N41(i)=(1-O31(i))*(N01(i))+O31(i)*N01(i+1)\n",
"    N42(i)=(1-O31(i))*N01(i+1)+O31(i)*N02(i)\n",
"    if i==2 then\n",
"        printf('%.3f\t%.3f\t%.3f\t%.3f\t%.3f\t%.3f\t%.3f\t%.3f\t%.3f\n',0,N02(i),f(N01(i)),N01(i+1),f(N01(i+1)),net31(i),O31(i),N41(i),N42(i))\n",
"    else\n",
"    printf('%.3f\t%.3f\t%.3f\t%.3f\t%.3f\t%.3f\t%.3f\t%.3f\t%.3f\n',N01(i),N02(i),f(N01(i)),N01(i+1),f(N01(i+1)),net31(i),O31(i),N41(i),N42(i))\n",
"end\n",
"\n",
"end\n",
"printf('\n\nTherefore the solution is %.3f',N42(13))"
   ]
   }
,
{
		   "cell_type": "markdown",
		   "metadata": {},
		   "source": [
			"## Example 22.4: Hopfield_Neural_Network.sce"
		   ]
		  },
  {
"cell_type": "code",
	   "execution_count": null,
	   "metadata": {
	    "collapsed": true
	   },
	   "outputs": [],
"source": [
"//Example 22.4\n",
"//Hopfield Neural Network\n",
"//Page no. 766\n",
"clc;clear;close;\n",
"\n",
"A=[1,2,1;-1,1,1;1,0,-1];\n",
"disp(inv(A),'Inverse of A =',A,'A =')\n",
"for i=1:3\n",
"    for j=1:3\n",
"        k=0;\n",
"        for l=1:3\n",
"            k=k+A(i,l)*A(j,l)\n",
"        end\n",
"        T(i,j)=k;\n",
"    end\n",
"end\n",
"disp(T,'T =')"
   ]
   }
,
{
		   "cell_type": "markdown",
		   "metadata": {},
		   "source": [
			"## Example 22.5: RBF_Network.sce"
		   ]
		  },
  {
"cell_type": "code",
	   "execution_count": null,
	   "metadata": {
	    "collapsed": true
	   },
	   "outputs": [],
"source": [
"//Example 22.5\n",
"//RBF Network\n",
"//Page no. 773\n",
"clc;clear;close;\n",
"\n",
"deff('y=f(x)','y=10*sin(x)')\n",
"printf('Input\t\tDesired\t\tNetwork\t\tError\n\t\t Output\t\t Output\n---------------------------------------------------------\n')\n",
"in=[0.7053,0.7060,0.7097,1.5056,1.5103,1.5377,2.2481,2.2514,2.2599,3.7076,3.7229,3.7364,5.0002,5.0022,5.0028,6.3749,6.3799,6.3886]\n",
"n=[6.4828,6.4883,6.5164,9.9786,9.9816,9.9944,7.7926,7.7718,7.7180,-5.3625,-5.4910,-5.6034,-9.5884,-9.5828,-9.5809,0.9163,0.9663,1.0527]\n",
"for i=1:18\n",
"    printf(' %.4f\t\t%.4f\t\t%.4f\t\t%.4f\n',in(i),f(in(i)),n(i),f(in(i))-n(i))\n",
"end"
   ]
   }
,
{
		   "cell_type": "markdown",
		   "metadata": {},
		   "source": [
			"## Example 22.7: First_Order_ODE.sce"
		   ]
		  },
  {
"cell_type": "code",
	   "execution_count": null,
	   "metadata": {
	    "collapsed": true
	   },
	   "outputs": [],
"source": [
"//Example 22.7\n",
"//First Order ODE\n",
"//Page no. 783\n",
"clc;clear;close;\n",
"\n",
"deff('y=f(x)','y=(exp(-x^2/2))/(1+x+x^3)')\n",
"printf('Test Points\tActual Solution \tEstimated Solution\tError\n   x\t\twa(x)\t\t\twt(x)\t\t\tdw(x)\n------------------------------------------------------------------------\n')\n",
"x=[0.1054,0.1091,0.2693,0.2703,0.3067,0.3088,0.4268,0.4284,0.5098,0.5139];\n",
"e=[0.1027,0.1063,0.2513,0.2522,0.2832,0.2849,0.3792,0.3805,0.4398,0.4427]\n",
"for i=1:10\n",
"    printf(' %.4f \t%.4f  \t\t%.4f\t\t\t%.4f\t\n',x(i),(1-f(x(i))),e(i),-e(i)+(1-f(x(i))))\n",
"end\n",
"printf('\n\n\nExperimental result varying from calculated result')"
   ]
   }
],
"metadata": {
		  "kernelspec": {
		   "display_name": "Scilab",
		   "language": "scilab",
		   "name": "scilab"
		  },
		  "language_info": {
		   "file_extension": ".sce",
		   "help_links": [
			{
			 "text": "MetaKernel Magics",
			 "url": "https://github.com/calysto/metakernel/blob/master/metakernel/magics/README.md"
			}
		   ],
		   "mimetype": "text/x-octave",
		   "name": "scilab",
		   "version": "0.7.1"
		  }
		 },
		 "nbformat": 4,
		 "nbformat_minor": 0
}
