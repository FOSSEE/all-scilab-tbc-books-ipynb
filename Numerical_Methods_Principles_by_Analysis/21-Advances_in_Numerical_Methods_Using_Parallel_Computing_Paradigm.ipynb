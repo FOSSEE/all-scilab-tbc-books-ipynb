{
"cells": [
 {
		   "cell_type": "markdown",
	   "metadata": {},
	   "source": [
       "# Chapter 21: Advances in Numerical Methods Using Parallel Computing Paradigm"
	   ]
	},
{
		   "cell_type": "markdown",
		   "metadata": {},
		   "source": [
			"## Example 21.1: Parallel_Bisection_Method.sce"
		   ]
		  },
  {
"cell_type": "code",
	   "execution_count": null,
	   "metadata": {
	    "collapsed": true
	   },
	   "outputs": [],
"source": [
"//Example 21.1\n",
"//Parallel Bisection Method\n",
"//Page no. 721\n",
"clc;close;clear;\n",
"\n",
"deff('y=f(x)','y=x^2-cos(x)')\n",
"a=0;b=1;e=0.0001;i=1;\n",
"printf('Itr\ta\tb\th\t\tx0\t\tx1\t\tx2\t\tx3\t\tx4\t\tx5\n\t\t\t\t\ty0\t\ty1\t\ty2\t\ty3\t\ty4\t\ty5')\n",
"printf('\n--------------------------------------------------------------------------------------------------------------------------------\n')\n",
"while (abs(a-b)>=e)\n",
"    \n",
"\n",
"    h=(b-a)/5;\n",
"    y(1)=f(a);\n",
"    x(1)=a;\n",
"    printf(' %i\t%g\t%g\t%f\t%f',i,a,b,h,x(1))\n",
"    for j=2:6\n",
"        x(j)=x(j-1)+h;\n",
"        y(j)=f(x(j));\n",
"        if (y(j-1)*y(j)<0)\n",
"                a=x(j-1);\n",
"                b=x(j);\n",
"        end\n",
"        printf('\t%f',x(j))\n",
"    end\n",
"    printf('\n\t\t\t\t\t')\n",
"    for j=1:6\n",
"        printf('%f\t',y(j))\n",
"    end\n",
"    \n",
"    printf('\n')\n",
"    i=i+1;\n",
"end\n",
""
   ]
   }
,
{
		   "cell_type": "markdown",
		   "metadata": {},
		   "source": [
			"## Example 21.2: Lagrange_Interpolation_in_Parallel_Computing.sce"
		   ]
		  },
  {
"cell_type": "code",
	   "execution_count": null,
	   "metadata": {
	    "collapsed": true
	   },
	   "outputs": [],
"source": [
"//Example 21.2\n",
"//Lagrange Interpolation in Parallel Computing\n",
"//Page no. 723\n",
"clc;close;clear;\n",
"\n",
"xi=[-1,0,2,5];\n",
"yi=[9,5,3,15];\n",
"s=['x=1','n=4','Data:','(-1,9)','(0,5)','(2,3)','(5,15)']\n",
"for i=1:4\n",
"    printf('\tProcessor\t')\n",
"end\n",
"printf('\n')\n",
"for i=1:4\n",
"    printf('\t   N%i\t\t',i)\n",
"end\n",
"printf('\n')\n",
"for i=1:7\n",
"    for j=1:4\n",
"        printf('         %s\t\t',s(i))\n",
"    end\n",
"    printf('\n')\n",
"end\n",
"\n",
"x=1;T=0;\n",
"for k=0:3\n",
"    p=yi(k+1)\n",
"    for j=0:3\n",
"        if(j~=k)\n",
"            p=p*((x-xi(j+1))/(xi(k+1)-xi(j+1)))\n",
"        end\n",
"    end\n",
"    T=T+p;\n",
"    printf('\nT(%i) = %g',k+1,p)\n",
"end\n",
"printf('\n\nT = %g',T)\n",
""
   ]
   }
,
{
		   "cell_type": "markdown",
		   "metadata": {},
		   "source": [
			"## Example 21.3: Trapezoidal_Rule_and_Simpsons_Rule_in_Parallel_Computing.sce"
		   ]
		  },
  {
"cell_type": "code",
	   "execution_count": null,
	   "metadata": {
	    "collapsed": true
	   },
	   "outputs": [],
"source": [
"//Example 21.3\n",
"//Trapezoidal Rule and Simpsons Rule in Parallel Computing\n",
"//Page no. 726\n",
"clc;close;clear;\n",
"n=8;a=0;b=8;\n",
"h=(b-a)/n\n",
"deff('y=f(x)','y=1/(1+x)')\n",
"for i=0:8\n",
"    x(i+1)=i;\n",
"    y(i+1)=f(x(i+1))\n",
"end\n",
"printf('xi\t ')\n",
"for i=1:9\n",
"    printf('%i\t ',x(i))\n",
"end\n",
"printf('\n yi\t')\n",
"for i=1:9\n",
"    printf('1/%i\t',i)\n",
"end\n",
"\n",
"//trapezoidal rule\n",
"S=0;\n",
"for i=1:9\n",
"    if(i==1 | i==9)\n",
"        S=S+y(i)\n",
"    else\n",
"        S=S+2*y(i)\n",
"    end\n",
"end\n",
"S=S*h/2\n",
"printf('\n\nTrapezoidal Rule Sum = %g',S)\n",
"\n",
"//Simpsons 1/3rd Rule\n",
"S=0;\n",
"for i=1:9\n",
"    if(i==1 | i==9)\n",
"        S=S+y(i)\n",
"    elseif(((i)/2)-fix((i)/2)==0)\n",
"        S=S+4*y(i)\n",
"    else\n",
"        S=S+2*y(i)\n",
"    end\n",
"end\n",
"S=S*h/3\n",
"printf('\n\nSimpsons 1/3rd Rule Sum = %g',S)"
   ]
   }
,
{
		   "cell_type": "markdown",
		   "metadata": {},
		   "source": [
			"## Example 21.4: Parallel_Gauss_Seidel_Method.sce"
		   ]
		  },
  {
"cell_type": "code",
	   "execution_count": null,
	   "metadata": {
	    "collapsed": true
	   },
	   "outputs": [],
"source": [
"//Example 21.4\n",
"//Parallel Gauss-Seidel Method\n",
"//Page no. 730\n",
"clc;close;clear;\n",
"A=[3,2;6,2];\n",
"B=[2;3];\n",
"x(1)=1/4;\n",
"x(2)=1/5;\n",
"e=0.002;\n",
"old(1)=x(1);\n",
"old(2)=x(2);\n",
"new(1)=old(1);\n",
"new(2)=old(2);\n",
"printf('\t\tProcess 1\t\tProcess 2\n Itr\t\told\tnew1\t\told2\tnew2\n\n')\n",
"printf('  %i\t\t%g\t%g\t\t%g\t%g\n',0,old(1),new(1),old(2),new(2))\n",
"for i=1:4\n",
"    printf('  %i',i)\n",
"    for j=1:2\n",
"        k=0;\n",
"        for l=1:j-1\n",
"            k=k-(A(j,l)*old(l));\n",
"        end\n",
"        m=0;\n",
"        for l=j+1:2\n",
"            m=m-(A(j,l)*old(l));\n",
"        end\n",
"        new(j)=(B(j)+k+m)/A(j,j)\n",
"        printf('\t\t%.5g\t%.5g',old(j),new(j))\n",
"    end\n",
"    printf('\n')\n",
"    old(1)=new(1)\n",
"    old(2)=new(2)\n",
"end"
   ]
   }
,
{
		   "cell_type": "markdown",
		   "metadata": {},
		   "source": [
			"## Example 21.5: Poissons_Partial_Differential_Equation.sce"
		   ]
		  },
  {
"cell_type": "code",
	   "execution_count": null,
	   "metadata": {
	    "collapsed": true
	   },
	   "outputs": [],
"source": [
"//Example 21.5\n",
"//Poissons Partial Differential Equation\n",
"//Page no. 733\n",
"clc;clear;close;\n",
"\n",
"s=['st','nd','rd']\n",
"for i=4:20\n",
"    s(i)='th'\n",
"end\n",
"h=0.25;deff('y=f(x)','y=x^3');y=1;x=0;\n",
"for i=1:6\n",
"    \n",
"    \n",
"    if i~=6 then\n",
"        printf('%g\t|',y)\n",
"        y=y-h;\n",
"        x=0;\n",
"        for j=1:5\n",
"            if i==1 | i==5 | j==5 then\n",
"                P(i,j)=f(x)\n",
"            else\n",
"                P(i,j)=0\n",
"            end\n",
"        printf('%f\t',P(i,j))\n",
"        x=x+h;\n",
"        end\n",
"    else\n",
"        printf('---------------------------------------------------------------------------------\n\t')\n",
"        x=0;\n",
"        for j=1:5\n",
"            printf('   %g\t\t',x)\n",
"            x=x+h\n",
"        end\n",
"    end\n",
"    printf('\n')\n",
"end\n",
"\n",
"printf('\n\n\n')\n",
"\n",
"for l=0:17\n",
"    y=1;\n",
"    if l~=0 then\n",
"        printf('After the %i%s Iteration : \n------------------------------------------------------\n  %i',l,s(l),l)\n",
"    for i=1:6\n",
"        if i~=6 then\n",
"            printf('\t%g',y)\n",
"        y=y-h\n",
"            for j=1:5\n",
"            printf('\t%.3f',P(i,j))\n",
"           end\n",
"        else\n",
"            x=0;\n",
"            printf('\t')\n",
"            for j=1:5\n",
"                printf('\t%g',x)\n",
"                x=x+h \n",
"            end\n",
"        end\n",
"        printf('\n')\n",
"    end\n",
"    printf('------------------------------------------------------\n')\n",
"end\n",
"y=0;\n",
"    for i=4:-1:2\n",
"        y=y+h\n",
"        for j=2:4\n",
"            P1(i,j)=(P(i,j+1)+P(i,j-1)+P(i-1,j)+P(i+1,j)-h^2*y)/4\n",
"        end\n",
"    end\n",
"    for i=4:-1:2\n",
"        for j=2:4\n",
"            P(i,j)=P1(i,j)\n",
"        end\n",
"    end\n",
"end"
   ]
   }
],
"metadata": {
		  "kernelspec": {
		   "display_name": "Scilab",
		   "language": "scilab",
		   "name": "scilab"
		  },
		  "language_info": {
		   "file_extension": ".sce",
		   "help_links": [
			{
			 "text": "MetaKernel Magics",
			 "url": "https://github.com/calysto/metakernel/blob/master/metakernel/magics/README.md"
			}
		   ],
		   "mimetype": "text/x-octave",
		   "name": "scilab",
		   "version": "0.7.1"
		  }
		 },
		 "nbformat": 4,
		 "nbformat_minor": 0
}
