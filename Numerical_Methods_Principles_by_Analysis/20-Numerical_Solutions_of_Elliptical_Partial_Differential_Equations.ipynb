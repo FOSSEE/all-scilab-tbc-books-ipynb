{
"cells": [
 {
		   "cell_type": "markdown",
	   "metadata": {},
	   "source": [
       "# Chapter 20: Numerical Solutions of Elliptical Partial Differential Equations"
	   ]
	},
{
		   "cell_type": "markdown",
		   "metadata": {},
		   "source": [
			"## Example 20.1: Direct_Method.sce"
		   ]
		  },
  {
"cell_type": "code",
	   "execution_count": null,
	   "metadata": {
	    "collapsed": true
	   },
	   "outputs": [],
"source": [
"//Example 20.1\n",
"//Direct Method\n",
"//Page no. 682\n",
"clc;clear;close;\n",
"h=1/3;\n",
"A=[-4,1,1,0;1,-4,0,1;1,0,-4,1;0,1,1,-4]\n",
"x=0;\n",
"for i=1:4\n",
"    x=x+h\n",
"    if i==4 then\n",
"        B(i,1)=0\n",
"    else\n",
"        B(i,1)=-1*sin(x*%pi)^2\n",
"    end\n",
"end\n",
"disp(A,'A =')\n",
"disp(B,'B =')\n",
"U=inv(A)*B\n",
"disp(U,'U =')"
   ]
   }
,
{
		   "cell_type": "markdown",
		   "metadata": {},
		   "source": [
			"## Example 20.2: Five_Point_Formula.sce"
		   ]
		  },
  {
"cell_type": "code",
	   "execution_count": null,
	   "metadata": {
	    "collapsed": true
	   },
	   "outputs": [],
"source": [
"//Example 20.2\n",
"//Five Point Formula\n",
"//Page no. 683\n",
"clc;clear;close;\n",
"\n",
"A=[-4,1,1,0;1,0,-4,1;1,-4,0,1;0,1,1,-4];\n",
"B=[-25;-150;-25;-150];\n",
"u1=inv(A)*B;\n",
"j=0;k=1\n",
"for i=1:4\n",
"    j=j+1;\n",
"    printf('\nu%i%i = %g\n',k,j,u1(i))\n",
"    if i==2 then\n",
"        j=0;k=2\n",
"    end\n",
"end\n",
"printf('\n\n  U = \n')\n",
"for i=1:4\n",
"    printf('\n')\n",
"    for j=1:4\n",
"        if j==1 then\n",
"            u(i,j)=0\n",
"        elseif j==4\n",
"            u(i,j)=100\n",
"        elseif (i==1 | i==4) & j==2\n",
"            u(i,j)=25\n",
"        elseif i==1 | i==4\n",
"            u(i,j)=u(i,j-1)*2\n",
"        else\n",
"            u(i,j)=u1((j-1)*2-i+2)\n",
"        end\n",
"        printf('\t%g\t',u(i,j))\n",
"    end\n",
"end"
   ]
   }
,
{
		   "cell_type": "markdown",
		   "metadata": {},
		   "source": [
			"## Example 20.3: Finite_Difference_Method.sce"
		   ]
		  },
  {
"cell_type": "code",
	   "execution_count": null,
	   "metadata": {
	    "collapsed": true
	   },
	   "outputs": [],
"source": [
"//Example 20.3\n",
"//Finite Difference Method\n",
"//Page no. 685\n",
"clc;clear;close;\n",
"\n",
"printf('Itr\t\t U11\t\t U21\t\t U12\t\t U22\n-----------------------------------------------------------------------\n')\n",
"for i=1:4\n",
"    for j=1:4\n",
"        if j==1 then\n",
"            u(i,j)=0\n",
"        elseif j==4\n",
"            u(i,j)=100\n",
"        elseif (i==1 | i==4) & j==2\n",
"            u(i,j)=25\n",
"        elseif i==1 | i==4\n",
"            u(i,j)=u(i,j-1)*2\n",
"        else\n",
"            u(i,j)=0\n",
"        end\n",
"    end\n",
"end\n",
"for k=0:17\n",
"    printf('  %i\t\t%.3f\t\t%.3f\t\t%.3f\t\t%.3f\n',k,u(3,2),u(3,3),u(2,2),u(2,3))\n",
"    for i=3:-1:2\n",
"        for j=2:3\n",
"            u1(i,j)=(u(i,j+1)+u(i,j-1)+u(i-1,j)+u(i+1,j))/4\n",
"        end\n",
"    end\n",
"    for i=3:-1:2\n",
"        for j=2:3\n",
"            u(i,j)=u1(i,j)\n",
"        end\n",
"    end\n",
"end\n",
"disp(u,'U = ')"
   ]
   }
,
{
		   "cell_type": "markdown",
		   "metadata": {},
		   "source": [
			"## Example 20.4: Seven_Point_Formula.sce"
		   ]
		  },
  {
"cell_type": "code",
	   "execution_count": null,
	   "metadata": {
	    "collapsed": true
	   },
	   "outputs": [],
"source": [
"//Example 20.4\n",
"//Seven Point Formula\n",
"//Page no. 686\n",
"clc;clear;close;\n",
"printf('Itr\t\t U111\t\t U211\t\t U121\t\t U221\n-----------------------------------------------------------------------\n')\n",
"for i=1:4\n",
"    for j=1:4\n",
"        for k=3:-1:1\n",
"            if k==3 then\n",
"                u(i,j,k)=100\n",
"            elseif (i==1 | i==4 | j==1 | j==4) & k==2\n",
"                u(i,j,k)=300\n",
"            elseif k==2\n",
"                u(i,j,k)=0\n",
"            elseif (i==1 | i==4 | j==1 | j==4) & k==1\n",
"                u(i,j,k)=500\n",
"            else\n",
"                u(i,j,k)=700\n",
"            end\n",
"        end\n",
"    end\n",
"end\n",
"k=2\n",
"for l=0:14\n",
"    printf('  %i\t\t%.3f\t\t%.3f\t\t%.3f\t\t%.3f\n',l,u(3,2,2),u(3,3,2),u(2,2,2),u(2,3,2))\n",
"    for i=3:-1:2\n",
"        for j=2:3\n",
"            u1(i,j)=(u(i,j+1,k)+u(i,j-1,k)+u(i-1,j,k)+u(i+1,j,k)+u(i,j,k+1)+u(i,j,k-1))/6\n",
"        end\n",
"    end\n",
"    for i=3:-1:2\n",
"        for j=2:3\n",
"            u(i,j,2)=u1(i,j)\n",
"        end\n",
"    end\n",
"end"
   ]
   }
,
{
		   "cell_type": "markdown",
		   "metadata": {},
		   "source": [
			"## Example 20.5: Nine_Point_Formula.sce"
		   ]
		  },
  {
"cell_type": "code",
	   "execution_count": null,
	   "metadata": {
	    "collapsed": true
	   },
	   "outputs": [],
"source": [
"//Example 20.5\n",
"//Nine Point Formula\n",
"//Page no. 688\n",
"clc;clear;close;\n",
"\n",
"printf('Itr\t\t U11\t\t U12\t\t U21\t\t U22\n-----------------------------------------------------------------------\n')\n",
"for i=1:4\n",
"    for j=1:4\n",
"        if j==1 then\n",
"            u(i,j)=0\n",
"        elseif j==4\n",
"            u(i,j)=100\n",
"        elseif (i==1 | i==4) & j==2\n",
"            u(i,j)=25\n",
"        elseif i==1 | i==4\n",
"            u(i,j)=u(i,j-1)*2\n",
"        else\n",
"            u(i,j)=0\n",
"        end\n",
"    end\n",
"end\n",
"for k=0:17\n",
"    printf('  %i\t\t%.3f\t\t%.3f\t\t%.3f\t\t%.3f\n',k,u(3,2),u(2,2),u(3,3),u(2,3))\n",
"    for i=3:-1:2\n",
"        for j=2:3\n",
"            u1(i,j)=(u(i+1,j-1)+u(i-1,j-1)+u(i+1,j+1)+u(i-1,j+1)+4*(u(i,j+1)+u(i,j-1)+u(i-1,j)+u(i+1,j)))/20\n",
"        end\n",
"    end\n",
"    for i=3:-1:2\n",
"        for j=2:3\n",
"            u(i,j)=u1(i,j)\n",
"        end\n",
"    end\n",
"end\n",
"disp(u,'The Solution of the System is = ')"
   ]
   }
,
{
		   "cell_type": "markdown",
		   "metadata": {},
		   "source": [
			"## Example 20.6: Five_Point_Formula.sce"
		   ]
		  },
  {
"cell_type": "code",
	   "execution_count": null,
	   "metadata": {
	    "collapsed": true
	   },
	   "outputs": [],
"source": [
"//Example 20.6\n",
"//Five Point Formula\n",
"//Page no. 689\n",
"clc;clear;close;\n",
"\n",
"h=0.25;k=0.25;y=1;x=0;\n",
"deff('x=f(y)','x=y^3')\n",
"\n",
"for i=1:5\n",
"    x=0;\n",
"    printf('\n%g\t|',y)\n",
"    for j=1:5\n",
"        if (i==1 | i==5)\n",
"            u(i,j)=f(x)\n",
"        elseif j==5\n",
"            u(i,j)=f(x)\n",
"        else\n",
"            u(i,j)=0\n",
"        end\n",
"        x=x+k;\n",
"        printf('%f\t',u(i,j))\n",
"    end\n",
"    y=y-h\n",
"end\n",
"printf('\n\t-------------------------------------------------------------------------\n')\n",
"x=0;\n",
"    for j=1:5\n",
"        printf('\t   %g\t',x)\n",
"        x=x+k\n",
"    end\n",
"printf('\n\n\n Itr\t U11\t U12\t U13\t U21\t U22\t U23\t U31\t U32\t U33\n-------------------------------------------------------------------------------\n')\n",
"\n",
"for l=0:20\n",
"    y=0;\n",
"    printf('  %i\t%.3f\t%.3f\t%.3f\t%.3f\t%.3f\t%.3f\t%.3f\t%.3f\t%.3f\n',l,u(4,2),u(4,3),u(4,4),u(3,2),u(3,3),u(3,4),u(2,2),u(2,3),u(2,4))\n",
"    for i=4:-1:2\n",
"        y=y+k\n",
"        for j=2:4\n",
"            u1(i,j)=(u(i,j+1)+u(i,j-1)+u(i-1,j)+u(i+1,j)-h^2*y)/4\n",
"        end\n",
"    end\n",
"    for i=4:-1:2\n",
"        for j=2:4\n",
"            u(i,j)=u1(i,j)\n",
"        end\n",
"    end\n",
"end"
   ]
   }
,
{
		   "cell_type": "markdown",
		   "metadata": {},
		   "source": [
			"## Example 20.7: Laplace_Distributio.sce"
		   ]
		  },
  {
"cell_type": "code",
	   "execution_count": null,
	   "metadata": {
	    "collapsed": true
	   },
	   "outputs": [],
"source": [
"//Example 20.7\n",
"//Laplace Distribution\n",
"//Page no. 694\n",
"clc;clear;close;\n",
"\n",
"dr=3;r0=4;dth=%pi/4;\n",
"deff('y=f(u1,u2,u3,u4)','y=(u1+u3+(dr*(u3-u1))/(2*r0)+(u2+u4)*(dr/(r0*dth))^2)/(2*(1+(dr/(r0*dth))^2))')         //laplace distribution\n",
"for i=1:8\n",
"    U(i)=0;\n",
"end\n",
"printf('Itr\t  U1\t  U2\t  U3\t  U4\t  U5\t  U6\t  U7\t  U8\n-----------------------------------------------------------------------')\n",
"for l=0:15\n",
"    printf('\n  %i',l)\n",
"    for i=1:8\n",
"        if i==1 then\n",
"            u1(i)=f(100,U(8),40,U(i+1))\n",
"        elseif i==8\n",
"            u1(i)=f(100,U(i-1),40,U(1))\n",
"        else\n",
"            u1(i)=f(100,U(i-1),40,U(i+1))\n",
"        end\n",
"        \n",
"    end\n",
"    for i=1:8\n",
"        U(i)=u1(i)\n",
"        printf('\t%.3f',U(i))\n",
"    end\n",
"end"
   ]
   }
,
{
		   "cell_type": "markdown",
		   "metadata": {},
		   "source": [
			"## Example 20.8: Spherical_Coordinate_System.sce"
		   ]
		  },
  {
"cell_type": "code",
	   "execution_count": null,
	   "metadata": {
	    "collapsed": true
	   },
	   "outputs": [],
"source": [
"//Example 20.8\n",
"//Spherical Coordinate System\n",
"//Page no. 697\n",
"clc;clear;close;\n",
"deff('y=cot(x)','y=1/tan(x)')\n",
"dr=5;r0=50;dth=%pi/4;dfi=%pi/4;N=-10;Z=60;Nb=0;Zt=70;\n",
"deff('y=f(u1,u2,u3,u4,u5,u6,th0)','y=((u1+u3)/dr^2+(u3-u1)/(r0*dr)+(u2+u4)/(r0*dth)^2+(u2*cot(th0)/(r0^2*dth)+(u5+u6)/(r0*sin(th0)*dfi)^2))/(2/dr^2+2/(r0*dth)^2+cot(th0)/(r0^2*dth)+2/(r0*sin(th0)*dfi)^2)')         //laplace distribution in spherical coordinate\n",
"T1=40;T2=20;H1=35;H2=10;B1=5;B2=0;t1=240;t2=180;b1=100;b2=80;h1=210;h2=150\n",
"printf('\n----------------------------------------------------------------------------\n')\n",
"s=['T','H','B','t','h','b'];\n",
"for i=1:8\n",
"    if i<4 | i>6 then\n",
"        T(1,i)=T1;\n",
"        H(1,i)=H1;\n",
"        B(1,i)=B1;\n",
"        b(1,i)=b1;\n",
"        t(1,i)=t1;\n",
"        h(1,i)=h1;\n",
"    else\n",
"        T(1,i)=T2;\n",
"        H(1,i)=H2;\n",
"        b(1,i)=b2;\n",
"        B(1,i)=B2;\n",
"        t(1,i)=t2;\n",
"        h(1,i)=h2;\n",
"    end\n",
"end\n",
"h(1)=0;h(2)=0;\n",
"Al=[T;H;B;t;h;b]\n",
"for i=1:6\n",
"    if i==1 then\n",
"        printf('Temperature Distribution in Outer Sphere\n')\n",
"        printf('----------------------------------------------------------------------------\n')\n",
"    end\n",
"    if i==4 then\n",
"        printf('\nTemperature Distribution in Inner Sphere\n')\n",
"        printf('----------------------------------------------------------------------------\n')\n",
"    end\n",
"    printf('\nPoint : ')\n",
"    for j=1:8\n",
"            printf('\t%s%i',s(i),j)\n",
"    end\n",
"    printf('\nTemperature : ')\n",
"    for j=1:8\n",
"        if (j==1 | j==2) & i==5 then\n",
"            printf('\t%s','?')\n",
"        else\n",
"            printf('\t%i',Al(i,j))\n",
"        end\n",
"    end\n",
"    printf('\n----------------------------------------------------------------------------')\n",
"end\n",
"th0=10^-30\n",
"Uh1=f(1000,Al(5,8),Al(2,1),Al(5,2),Al(6,1),Al(4,1),th0)\n",
"disp(Uh1,'Uh1 = ')\n",
"th0=%pi/4;\n",
"Uh2=f(1000,Uh1,Al(2,2),Al(5,3),Al(6,2),Al(4,2),th0)\n",
"disp(Uh2,'Uh2 = ')"
   ]
   }
],
"metadata": {
		  "kernelspec": {
		   "display_name": "Scilab",
		   "language": "scilab",
		   "name": "scilab"
		  },
		  "language_info": {
		   "file_extension": ".sce",
		   "help_links": [
			{
			 "text": "MetaKernel Magics",
			 "url": "https://github.com/calysto/metakernel/blob/master/metakernel/magics/README.md"
			}
		   ],
		   "mimetype": "text/x-octave",
		   "name": "scilab",
		   "version": "0.7.1"
		  }
		 },
		 "nbformat": 4,
		 "nbformat_minor": 0
}
