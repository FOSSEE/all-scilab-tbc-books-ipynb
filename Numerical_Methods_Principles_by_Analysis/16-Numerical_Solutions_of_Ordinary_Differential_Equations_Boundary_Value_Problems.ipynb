{
"cells": [
 {
		   "cell_type": "markdown",
	   "metadata": {},
	   "source": [
       "# Chapter 16: Numerical Solutions of Ordinary Differential Equations Boundary Value Problems"
	   ]
	},
{
		   "cell_type": "markdown",
		   "metadata": {},
		   "source": [
			"## Example 16.1: Outline_of_Linear_Shooting_Method.sce"
		   ]
		  },
  {
"cell_type": "code",
	   "execution_count": null,
	   "metadata": {
	    "collapsed": true
	   },
	   "outputs": [],
"source": [
"//Example 16.1\n",
"//Outline of Linear Shooting Method\n",
"//Page no. 572\n",
"clc;close;clear;\n",
"\n",
"deff('y=f(x)','y=x^2');\n",
"h=0.5;X0=0;Y0=1;Z1=[-1,-1.5,-1.1771];i=1;Y1=Y0;\n",
"for j=1:3\n",
"    Z0=Z1(i);\n",
"    i=i+1\n",
"    Y0=1;\n",
"    for n=1:2\n",
"        printf('\nFor n = %i\n---------------------------\n',n-1)\n",
"        K1(1)=h*Z0;\n",
"        printf('\n K11 = %g',K1(1));\n",
"        K1(2)=h*f(Y0);\n",
"        printf('\n K12 = %g',K1(2));\n",
"        K2=h*f(Y0+K1(2))\n",
"        printf('\n K22 = %g',K2);\n",
"        Z0=Z0+(K1(2)+K2)/2\n",
"        printf('\n Z%i = %g',n,Z0);\n",
"        K2=h*Z0;\n",
"        printf('\n K21 = %g',K2);\n",
"        Y0=Y0+(K1(1)+K2)/2\n",
"        printf('\n Y%i = %g',n,Y0);\n",
"        printf('\n\n\n')\n",
"        if n==1 then\n",
"            Y2=Y0\n",
"        end\n",
"    end\n",
"    printf('\n\n\n')\n",
"end\n",
"printf('Hence the solution is y(%g) = %i, y(%g) = %.4f   and  y(%g) = %.1f',X0,Y1,X0+h,Y2,X0+2*h,Y0)"
   ]
   }
,
{
		   "cell_type": "markdown",
		   "metadata": {},
		   "source": [
			"## Example 16.2: Linear_Shooting_Method.sce"
		   ]
		  },
  {
"cell_type": "code",
	   "execution_count": null,
	   "metadata": {
	    "collapsed": true
	   },
	   "outputs": [],
"source": [
"//Example 16.2\n",
"//Linear Shooting Method\n",
"//Page no. 576\n",
"clc;close;clear;\n",
"\n",
"deff('y=f1(x,y,y1)','y=-x*y1+x^2*y+2*x^3')\n",
"deff('y=F1(x,y,y1)','y=-x*y1+x^2*y+2*x^3')\n",
"deff('y=F2(x,y,y1)','y=-x*y1+x^2*y')\n",
"a=0;b=1;\n",
"y0=1;y1=-1;n=5;\n",
"h=(b-a)/n\n",
"y=y0;y01=0;x=a;\n",
"for i=0:5\n",
"    yi1(1,i+1)=y\n",
"    K1=h*y01;\n",
"    R1=h*F1(x,y,y01);\n",
"    K2=h*(y+R1/2);\n",
"    R2=h*F1(x+h/2,y+K1/2,y01+R1/2)\n",
"    K3=h*(y01+R2/2)\n",
"    R3=h*F1(x+h/2,y+K2/2,y01+R2/2)\n",
"    K4=h*(y+R3)\n",
"    R4=h*F1(x+h,y+K3,y01+R3)\n",
"    y=y+(K1+2*K2+2*K3+K4)/6\n",
"    y01=y01+(R1+2*R2+2*R3+R4)/6\n",
"    x=x+h\n",
"end\n",
"y=0;y01=1;x=a;\n",
"for i=0:5\n",
"    yi2(1,i+1)=y\n",
"    K1=h*y01;\n",
"    R1=h*F2(x,y,y01);\n",
"    K2=h*(y+R1/2);\n",
"    R2=h*F2(x+h/2,y+K1/2,y01+R1/2)\n",
"    K3=h*(y01+R2/2)\n",
"    R3=h*F2(x+h/2,y+K2/2,y01+R2/2)\n",
"    K4=h*(y+R3)\n",
"    R4=h*F2(x+h,y+K3,y01+R3)\n",
"    y=y+(K1+2*K2+2*K3+K4)/6\n",
"    y01=y01+(R1+2*R2+2*R3+R4)/6\n",
"    x=x+h\n",
"end\n",
"for i=1:6\n",
"    yi(i)=yi1(1,i)+((y1-yi1(6))/yi2(6))*yi2(i)\n",
"end\n",
"y=1;x=a;y01=y1\n",
"for i=0:5\n",
"    yir(1,i+1)=y;\n",
"    K1=h*y01;\n",
"    R1=h*f1(x,y,y01);\n",
"    K2=h*(y+R1/2);\n",
"    R2=h*f1(x+h/2,y+K1/2,y01+R1/2)\n",
"    K3=h*(y01+R2/2)\n",
"    R3=h*f1(x+h/2,y+K2/2,y01+R2/2)\n",
"    K4=h*(y+R3)\n",
"    R4=h*f1(x+h,y+K3,y01+R3)\n",
"    y=y+(K1+2*K2+2*K3+K4)/6\n",
"    y01=y01+(R1+2*R2+2*R3+R4)/6\n",
"    x=x+h\n",
"end\n",
"x=a;\n",
"printf('\n   ------------------------------------------------------------------------------------------------------\n\tx')\n",
"for i=1:6\n",
"    printf('\t%.1f\t',x)\n",
"    x=x+h\n",
"end\n",
"printf('\n\ty')\n",
"for i=1:6\n",
"    printf('\t%.4f\t',yi(i))\n",
"end\n",
"printf('\n    by RK')\n",
"for i=1:6\n",
"    printf('\t%.4f\t',yir(i))\n",
"end\n",
"printf('\n   ------------------------------------------------------------------------------------------------------')\n",
"printf('\n\n\nNote: Computation error in calculation of values by RK method performed in book')"
   ]
   }
,
{
		   "cell_type": "markdown",
		   "metadata": {},
		   "source": [
			"## Example 16.3: Multiple_Shooting_Method.sce"
		   ]
		  },
  {
"cell_type": "code",
	   "execution_count": null,
	   "metadata": {
	    "collapsed": true
	   },
	   "outputs": [],
"source": [
"//Example 16.3\n",
"//Multiple Shooting Method\n",
"//Page no. 577\n",
"clc;close;clear;\n",
"\n",
"h=0.25;x=0;y1=0;\n",
"deff('y=f(x)','y=-(4*h^2)/(1+x)^2')\n",
"deff('y=f1(x)','y=-2*(1+(h^2)/(1+x)^2)')\n",
"\n",
"for i=1:4\n",
"    x=x+h\n",
"    B(i)=f(x);\n",
"    for j=1:4\n",
"        if i==4 & i==j\n",
"            A(i,j)=f1(x)+1/4\n",
"            A(i,j-1)=2\n",
"        elseif j==i then\n",
"            A(i,j)=f1(x)\n",
"            A(i,j+1)=1\n",
"            if j-1~=0 then\n",
"                A(i,j-1)=1\n",
"            end\n",
"        end\n",
"    end\n",
"end\n",
"y=inv(A)*B\n",
"disp(B,'B =',A,'A = ')\n",
"printf('\n\n\n x :')\n",
"for i=1:5\n",
"    printf('\t%.2f',x)\n",
"    x=x+h\n",
"end\n",
"x=0;printf('\n y :\t%.2f',y1);\n",
"for i=1:4\n",
"    printf('\t%.4f',y(i))\n",
"end"
   ]
   }
,
{
		   "cell_type": "markdown",
		   "metadata": {},
		   "source": [
			"## Example 16.4: Finite_Difference_Method.sce"
		   ]
		  },
  {
"cell_type": "code",
	   "execution_count": null,
	   "metadata": {
	    "collapsed": true
	   },
	   "outputs": [],
"source": [
"//Example 16.4\n",
"//Finite Difference Method\n",
"//Page no. 582\n",
"clc;close;clear;\n",
"\n",
"x=0;h=0.25;q=-1;Y(1)=-2;Y(5)=1;\n",
"printf('\n i\txi\tYi\tpi\tqi\tri\n-----------------------------------------------\n')\n",
"for i=1:5\n",
"    r(i)=-x^2\n",
"    if i>1 & i<5 then\n",
"        printf(' %i\t%g\t%s\t%g\t%i\t%g\n',i-1,x,'?',x,q,r(i))\n",
"    else\n",
"        printf(' %i\t%g\t%g\t%g\t%i\t%g\n',i-1,x,Y(i),x,q,r(i))\n",
"    end\n",
"    x=x+h\n",
"end\n",
"x=0;\n",
"printf('-----------------------------------------------\n')\n",
"for i=1:3\n",
"    x=x+h\n",
"    for j=1:3\n",
"        if i==j then\n",
"            A(i,j)=2+h^2*q\n",
"        elseif i<j & abs(i-j)~=2\n",
"            A(i,j)=-1+h*x/2\n",
"        elseif i>j & abs(i-j)~=2\n",
"            A(i,j)=-1-h*x/2\n",
"        end\n",
"    end\n",
"    if i==3 then\n",
"        B(i)=-h^2*r(i+1)+(-h*x/2+1)*Y(1+2*(i-1))\n",
"    else\n",
"        B(i)=-h^2*r(i+1)+(h*x/2+1)*Y(1+2*(i-1))\n",
"    end\n",
"    B(i)=(-1)^(i+1)*B(i)\n",
"end\n",
"disp(B,'B =',A,'A = ')\n",
"y=inv(A)*B\n",
"for i=1:3\n",
"    Y(i+1)=y(i)\n",
"end\n",
"x=0;\n",
"disp('The Solution is :',B,'B =',A,'A = ')\n",
"printf(' x :')\n",
"for i=1:5\n",
"    printf('\t %.2f',x)\n",
"    x=x+h\n",
"end\n",
"x=0;printf('\n y :');\n",
"for i=1:5\n",
"    printf('\t%.3f',Y(i))\n",
"end"
   ]
   }
,
{
		   "cell_type": "markdown",
		   "metadata": {},
		   "source": [
			"## Example 16.5: Non_Linear_Problem.sce"
		   ]
		  },
  {
"cell_type": "code",
	   "execution_count": null,
	   "metadata": {
	    "collapsed": true
	   },
	   "outputs": [],
"source": [
"//Example 16.5\n",
"//Non Linear Problem\n",
"//Page no. 584\n",
"clc;close;clear;\n",
"\n",
"deff('y=f(x)','y=2/(1+x)')\n",
"Y=[1,0.75,0.75,0.75,0.5];h=0.25\n",
"A=[-2,1,0;1,-2,1;0,1,-2];A_1=inv(A)\n",
"disp(A_1,'Inverse of A =',A,'A =')\n",
"printf('\nThe Solution of the system is: \n\n Iteration\t  Y0\t\t  Y1\t\t  Y2\t\t  Y3\t\t  Y4\n----------------------------------------------------------------------------------------')\n",
"for i=0:6\n",
"    printf('\n     %i',i)\n",
"    for j=1:5\n",
"        if j<4 & i~=0 then\n",
"            Y(j+1)=y(j)\n",
"        end\n",
"        printf('\t\t%.4f',Y(j))\n",
"    end\n",
"    x=0;\n",
"    for j=1:3\n",
"        x=x+h\n",
"        if j~=2 then\n",
"            B(j)=h^2*f(x)*Y(j+1)^2-Y(1+2*(j-1))\n",
"        else\n",
"            B(j)=h^2*f(x)*Y(j+1)^2\n",
"        end\n",
"    end\n",
"    y=A_1*B\n",
"end"
   ]
   }
,
{
		   "cell_type": "markdown",
		   "metadata": {},
		   "source": [
			"## Example 16.6: Collocation_Method.sce"
		   ]
		  },
  {
"cell_type": "code",
	   "execution_count": null,
	   "metadata": {
	    "collapsed": true
	   },
	   "outputs": [],
"source": [
"//Example 16.6\n",
"//Collocation Method\n",
"//Page no. 589\n",
"clc;close;clear;\n",
"\n",
"h1=0.000001;h=0.25;x=0;\n",
"Y(1)=0;Y(5)=0;\n",
"deff('y=p(x)','y=1')\n",
"deff('y=q(x)','y=-2/(1+x)^2')\n",
"deff('y=f(x)','y=(2*x-4)/(1+x)^4')\n",
"deff('y=fi(x,j)','y=(1-x)*x^j')\n",
"deff('y=f1(x,y)','y=(-x+y)/h1')   //function for differentiation\n",
"for i=1:4\n",
"    x=x+h\n",
"    for j=1:4\n",
"        A(i,j)=p(x)*f1(f1(fi(x,j),fi(x+h1,j)),f1(fi(x+h1,j),fi(x+2*h1,j)))+f1(p(x),p(x+h1))*f1(fi(x,j),fi(x+h1,j))+q(x)*fi(x,j)\n",
"    end\n",
"end\n",
"x=0;\n",
"for i=1:4\n",
"    x=x+h\n",
"    B(i)=f(x)\n",
"end\n",
"disp(B,'B =',A,'A =')\n",
"C=inv(A)*B\n",
"x=0;\n",
"for i=2:4\n",
"    x=x+h;\n",
"    for j=1:4\n",
"        Y(i)=Y(i)+C(j)*fi(x,j)\n",
"    end\n",
"end\n",
"disp(Y,'Solution Matrix Y = ')"
   ]
   }
],
"metadata": {
		  "kernelspec": {
		   "display_name": "Scilab",
		   "language": "scilab",
		   "name": "scilab"
		  },
		  "language_info": {
		   "file_extension": ".sce",
		   "help_links": [
			{
			 "text": "MetaKernel Magics",
			 "url": "https://github.com/calysto/metakernel/blob/master/metakernel/magics/README.md"
			}
		   ],
		   "mimetype": "text/x-octave",
		   "name": "scilab",
		   "version": "0.7.1"
		  }
		 },
		 "nbformat": 4,
		 "nbformat_minor": 0
}
