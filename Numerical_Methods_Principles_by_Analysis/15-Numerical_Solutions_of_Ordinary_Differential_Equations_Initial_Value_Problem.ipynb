{
"cells": [
 {
		   "cell_type": "markdown",
	   "metadata": {},
	   "source": [
       "# Chapter 15: Numerical Solutions of Ordinary Differential Equations Initial Value Problem"
	   ]
	},
{
		   "cell_type": "markdown",
		   "metadata": {},
		   "source": [
			"## Example 15.10: Heun_Method.sce"
		   ]
		  },
  {
"cell_type": "code",
	   "execution_count": null,
	   "metadata": {
	    "collapsed": true
	   },
	   "outputs": [],
"source": [
"//Example 15.10\n",
"//Heun Method\n",
"//Page no. 517\n",
"clc;clear;close;\n",
"deff('y=f(x,y)','y=y*2/x')\n",
"y=2;\n",
"h=0.25;\n",
"for i=1:4\n",
"    x=1+(i-1)*h\n",
"    x1=x+h\n",
"    ye=y+h*f(x,y)\n",
"    y=y+h*(f(x,y)+f(x1,ye))/2\n",
"    printf('\n  y(%g) = %g\n',x1,y)\n",
"end"
   ]
   }
,
{
		   "cell_type": "markdown",
		   "metadata": {},
		   "source": [
			"## Example 15.11: Midpoint_Method.sce"
		   ]
		  },
  {
"cell_type": "code",
	   "execution_count": null,
	   "metadata": {
	    "collapsed": true
	   },
	   "outputs": [],
"source": [
"//Example 15.11\n",
"//Midpoint Method\n",
"//Page no. 518\n",
"clc;clear;close;\n",
"deff('y=f(x,y)','y=y+x')\n",
"y=1;\n",
"h=0.2;\n",
"printf('i\txi\tyi\tslope1\tslope2\ty(i+1)\n-----------------------------------------------\n')\n",
"for i=1:3\n",
"    x=(i-1)*h\n",
"    s1=f(x,y);\n",
"    s2=f(x+h/2,y+s1*h/2);\n",
"    printf(' %i\t%g\t%g\t%g\t%g',i-1,x,y,s1,s2)\n",
"    y=y+s2*h;\n",
"    printf('\t%g\n',y)\n",
"end"
   ]
   }
,
{
		   "cell_type": "markdown",
		   "metadata": {},
		   "source": [
			"## Example 15.12: Modified_Midpoint_Method.sce"
		   ]
		  },
  {
"cell_type": "code",
	   "execution_count": null,
	   "metadata": {
	    "collapsed": true
	   },
	   "outputs": [],
"source": [
"//Example 15.12\n",
"//Modified Midpoint Method\n",
"//Page no. 519\n",
"clc;clear;close;\n",
"deff('y=f(x,y)','y=y+x')\n",
"y=1;\n",
"h=0.2;\n",
"Z(1)=y;\n",
"Z(2)=Z(1)+h*f(0,Z(1))\n",
"printf('Z(%i) = %g',1,Z(2))\n",
"for i=2:5\n",
"    x=(i-1)*h;\n",
"    Y(i-1)=(Z(i)+Z(i-1)+h*f(x,Z(i)))/2\n",
"    Z(i+1)=Z(i-1)+2*h*f(x,Z(i))\n",
"    printf('\n Y(%i) = %g\n\n\n Z(%i) = %g',i-1,Y(i-1),i,Z(i+1))\n",
"end\n",
"printf('\n\n\n y4 = %g',(4*Y(4)-Y(2))/3)"
   ]
   }
,
{
		   "cell_type": "markdown",
		   "metadata": {},
		   "source": [
			"## Example 15.13: Single_Step_Method.sce"
		   ]
		  },
  {
"cell_type": "code",
	   "execution_count": null,
	   "metadata": {
	    "collapsed": true
	   },
	   "outputs": [],
"source": [
"//Example 15.13\n",
"//Single Step Method\n",
"//Page no. 521\n",
"clc;clear;close;\n",
"\n",
"deff('y=f(x)','y=x^2')\n",
"deff('y=f1(x)','y=1/(1-x)')\n",
"y=1;h=0.2;\n",
"printf('n\tXn\tYn (by single-step method)\tYn (computed)\n-----------------------------------------------------------------\n')\n",
"for i=1:6\n",
"    x=(i-1)*h\n",
"    if i<6 then\n",
"        printf(' %i\t%.2f\t%.5f\t\t\t\t%.5f\n',i-1,x,y,f1(x))\n",
"    else\n",
"        printf(' %i\t%.2f\t%.5f\t\t\t\t \n',i-1,x,y)\n",
"    end\n",
"    y=y+h*f(y);\n",
"end"
   ]
   }
,
{
		   "cell_type": "markdown",
		   "metadata": {},
		   "source": [
			"## Example 15.14: Second_Order_Runge_Kutta_Method.sce"
		   ]
		  },
  {
"cell_type": "code",
	   "execution_count": null,
	   "metadata": {
	    "collapsed": true
	   },
	   "outputs": [],
"source": [
"//Example 15.14\n",
"//Second Order Runge Kutta Method\n",
"//Page no. 525\n",
"clc;clear;close;\n",
"\n",
"deff('y=f(x,y)','y=x-y')\n",
"y=1;x=1;h=0.1;\n",
"//simple runge kutta method\n",
"K1=h*f(x,y);\n",
"K2=h*f(x+h,y+K1);\n",
"y1=y+(K1+K2)/2\n",
"printf('\ny(1.1) by simple runge kutta method = %g\n\n',y1)\n",
"\n",
"//euler cauchy method\n",
"K1=h*f(x,y);\n",
"K2=h*f(x+h/2,y+K1/2);\n",
"y1=y+(K1+K2)\n",
"printf('y(1.1) by euler cauchy method = %g\n\n',y1)\n",
"\n",
"//optimal method\n",
"K1=h*f(x,y);\n",
"K2=h*f(x+2*h/3,y+2*K1/3);\n",
"y1=y+(K1+3*K2)/4\n",
"printf('y(1.1) by optimal method = %g',y1)"
   ]
   }
,
{
		   "cell_type": "markdown",
		   "metadata": {},
		   "source": [
			"## Example 15.15: Third_Order_Runge_Kutta_Method.sce"
		   ]
		  },
  {
"cell_type": "code",
	   "execution_count": null,
	   "metadata": {
	    "collapsed": true
	   },
	   "outputs": [],
"source": [
"//Example 15.15\n",
"//Third Order Runge Kutta Method\n",
"//Page no. 526\n",
"clc;clear;close;\n",
"deff('y=f(x,y)','y=x-y')\n",
"y=1;x=1;h=0.1;\n",
"//scheme 1\n",
"K1=h*f(x,y);\n",
"K2=h*f(x+h/2,y+K1/2);\n",
"K3=h*f(x+h/2,y-K1+2*K2);\n",
"y1=y+(K1+4*K2+K3)/6\n",
"printf('\ny(1.1) by scheme 1 = %g\n\n',y1)\n",
"\n",
"//scheme 2\n",
"K1=h*f(x,y);\n",
"K2=h*f(x+h/3,y+K1/3);\n",
"K3=h*f(x+2*h/3,y+2*K2/3);\n",
"y1=y+(K1+3*K3)/4\n",
"printf('\ny(1.1) by scheme 2 = %.7f\n\n',y1)"
   ]
   }
,
{
		   "cell_type": "markdown",
		   "metadata": {},
		   "source": [
			"## Example 15.16: Fourth_Order_Runge_Kutta_Method.sce"
		   ]
		  },
  {
"cell_type": "code",
	   "execution_count": null,
	   "metadata": {
	    "collapsed": true
	   },
	   "outputs": [],
"source": [
"//Example 15.16\n",
"//Fourth Order Runge Kutta Method\n",
"//Page no. 528\n",
"clc;clear;close;\n",
"deff('y=f(x,y)','y=x-y')\n",
"y=1;x=1;h=0.1;\n",
"K1=h*f(x,y);\n",
"K2=h*f(x+h/2,y+K1/2);\n",
"K3=h*f(x+h/2,y+K2/2);\n",
"K4=h*f(x+h,y+K3);\n",
"disp(K4,'K4 =',K3,'K3 =',K2,'K2 =',K1,'K1 =')\n",
"y1=y+(K1+2*K2+2*K3+K4)/6\n",
"printf('\ny(1.1) = %.8f\n\n',y1)"
   ]
   }
,
{
		   "cell_type": "markdown",
		   "metadata": {},
		   "source": [
			"## Example 15.17: New_Variant_of_Runge_Kutta_Method.sce"
		   ]
		  },
  {
"cell_type": "code",
	   "execution_count": null,
	   "metadata": {
	    "collapsed": true
	   },
	   "outputs": [],
"source": [
"//Example 15.17\n",
"//New Variant of Runge Kutta Method\n",
"//Page no. 530\n",
"clc;clear;close;\n",
"deff('y=f(x,y)','y=x-y')\n",
"y=1;x=1;h=0.1;\n",
"K1=h*f(x,y);\n",
"K2=h*f(x+h/2,y+K1/2);\n",
"K3=h*f(x+h/2,y+K2/2);\n",
"K4=h*f(x+h,y+K3);\n",
"K5=h*f(x+3*h/4,y+(5*K1+7*K2+13*K3-K4)/32)\n",
"disp(K5,'K5 =',K4,'K4 =',K3,'K3 =',K2,'K2 =',K1,'K1 =')\n",
"y1=y+(K1+2*K2+2*K3+K5)/6\n",
"printf('\ny(1.1) = %.8f\n\n',y1)"
   ]
   }
,
{
		   "cell_type": "markdown",
		   "metadata": {},
		   "source": [
			"## Example 15.18: Runge_Kutta_Merson_Method.sce"
		   ]
		  },
  {
"cell_type": "code",
	   "execution_count": null,
	   "metadata": {
	    "collapsed": true
	   },
	   "outputs": [],
"source": [
"//Example 15.18\n",
"//Runge Kutta Merson Method\n",
"//Page no. 532\n",
"clc;clear;close;\n",
"deff('y=f(x,y)','y=x+y')\n",
"y=1;x=0;h=0.1;\n",
"printf('n\t Xn\t Yn\t K1\t K2\t K3\t K4\t K5\tY(n+1)\n----------------------------------------------------------------------')\n",
"for i=0:14\n",
"    K1=h*f(x,y);\n",
"K2=h*f(x+h/3,y+K1/3);\n",
"K3=h*f(x+h/3,y+(K1+K2)/6);\n",
"K4=h*f(x+h/2,y+(K1+3*K3)/8);\n",
"K5=h*f(x+h,y+(K1-3*K3+4*K4)/2)\n",
"y1=y+(K1+4*K4+K5)/6\n",
"printf('\n %i\t%.3f\t%.3f\t%.3f\t%.3f\t%.3f\t%.3f\t%.3f\t%.3f',i,x,y,K1,K2,K3,K4,K5,y1)\n",
"y=y1;\n",
"x=x+h;\n",
"end"
   ]
   }
,
{
		   "cell_type": "markdown",
		   "metadata": {},
		   "source": [
			"## Example 15.19: Runge_Kutta_Fehlberg_Method.sce"
		   ]
		  },
  {
"cell_type": "code",
	   "execution_count": null,
	   "metadata": {
	    "collapsed": true
	   },
	   "outputs": [],
"source": [
"//Example 15.19\n",
"//Runge Kutta Fehlberg Method\n",
"//Page no. 535\n",
"clc;clear;close;\n",
"deff('y=f(x,y)','y=x-y')\n",
"y=1;x=1;h=0.1;\n",
"K1=h*f(x,y);\n",
"K2=h*f(x+h/4,y+K1/4);\n",
"K3=h*f(x+3*h/8,y+3*(K1+3*K2)/32);\n",
"K4=h*f(x+12*h/13,y+1932*K1/2197-7200*K2/2197+7296*K3/2197);\n",
"K5=h*f(x+h,y+439*K1/216-8*K2+3680*K3/513-845*K4/4104)\n",
"K6=h*f(x+h/2,y-8*K1/27+2*K2-3544*K3/2565+1859*K4/4104-11*K5/40)\n",
"disp(K6,'K6 =',K5,'K5 =',K4,'K4 =',K3,'K3 =',K2,'K2 =',K1,'K1 =')\n",
"y1=y+(25*K1/216+1408*K3/2565+2197*K4/4104-K5/5)\n",
"y11=y+(16*K1/135+6656*K3/12825+28561*K4/56430-9*K5/50+2*K6/55)\n",
"printf('\ny(1.1) = %.9f\n\n',y1)\n",
"printf('\ny~(1.1) = %.9f\n\n',y11)"
   ]
   }
,
{
		   "cell_type": "markdown",
		   "metadata": {},
		   "source": [
			"## Example 15.1: Ordinary_Differential_Equation.sce"
		   ]
		  },
  {
"cell_type": "code",
	   "execution_count": null,
	   "metadata": {
	    "collapsed": true
	   },
	   "outputs": [],
"source": [
"//Example 15.1\n",
"//Ordinary Differential Equation\n",
"//Page no. 503\n",
"clc;clear;close;\n",
"s=log(2)/log(1.02)\n",
"disp(s,'Time Taken = ')"
   ]
   }
,
{
		   "cell_type": "markdown",
		   "metadata": {},
		   "source": [
			"## Example 15.20: Carp_Karp_Runge_Kutta_Method.sce"
		   ]
		  },
  {
"cell_type": "code",
	   "execution_count": null,
	   "metadata": {
	    "collapsed": true
	   },
	   "outputs": [],
"source": [
"//Example 15.20\n",
"//Carp Karp Runge Kutta Method\n",
"//Page no. 537\n",
"clc;clear;close;\n",
"deff('y=f(x,y)','y=x-y')\n",
"y=1;x=1;h=0.1;printf('\n')\n",
"U=[0,1/5,3/10,3/5,1,7/8];\n",
"v=[0,0,0,0,0;1/5,0,0,0,0;3/40,9/40,0,0,0;3/10,-9/10,6/5,0,0;-11/54,5/2,-70/27,35/27,0;1631/55296,175/512,575/13824,44275/110592,253/4096];\n",
"a=[37/378,0,250/621,125/594,0,512/1771];\n",
"a1=[2825/27648,0,18575/48384,13525/55296,277/14336,1/4];\n",
"for l=1:5\n",
"    K(1)=h*f(x,y);\n",
"for i=2:6\n",
"    k=0;\n",
"    for j=1:i-1\n",
"        k=k+v(i,j)*K(j)\n",
"    end\n",
"    K(i)=h*f(x+U(i)*h,y+k)\n",
"end\n",
"k=0;\n",
"for i=1:6\n",
"    k=k+a(i)*K(i)\n",
"end\n",
"y1=y+k;\n",
"k=0;\n",
"for i=1:6\n",
"    k=k+a1(i)*K(i)\n",
"end\n",
"y11=y+k;\n",
"for i=1:6\n",
"    printf('K%i = %.9f\n',i,K(i))\n",
"end\n",
"printf('\ny(1.1) = Y%i = %.9f\n',l,y1)\n",
"printf('y~(1.1) = Y%i~ = %.9f\n',l,y11)\n",
"y=y1;\n",
"printf('\n\n\n')\n",
"end"
   ]
   }
,
{
		   "cell_type": "markdown",
		   "metadata": {},
		   "source": [
			"## Example 15.21: Implicit_Runge_Kutta_Method.sce"
		   ]
		  },
  {
"cell_type": "code",
	   "execution_count": null,
	   "metadata": {
	    "collapsed": true
	   },
	   "outputs": [],
"source": [
"//Example 15.21\n",
"//Implicit Runge Kutta Method\n",
"//Page no. 539\n",
"clc;clear;close;\n",
"deff('y=f(x,y)','y=x-y')\n",
"y=1;x=1;h=0.1;printf('\n')\n",
"U=[0,1/5];\n",
"v=[0,0;1/2,1/2];\n",
"a2=1;\n",
"K(1)=h*f(x,y);\n",
"K(2)=(x+h/2-y-K(1)/2)/(1/h-1/2)\n",
"y1=y+(K(1)+a2*K(2))\n",
"printf('\ny(1.1) = %.9f\n\n',y1)"
   ]
   }
,
{
		   "cell_type": "markdown",
		   "metadata": {},
		   "source": [
			"## Example 15.22: Linear_Multi_Step_Method.sce"
		   ]
		  },
  {
"cell_type": "code",
	   "execution_count": null,
	   "metadata": {
	    "collapsed": true
	   },
	   "outputs": [],
"source": [
"//Example 15.22\n",
"//Linear Multi Step Method\n",
"//Page no. 540\n",
"clc;clear;close;\n",
"deff('y=f(x,y)','y=x+y')\n",
"y(1)=1;y(2)=1;x(1)=0;h=0.1;\n",
"printf('n\tXn\t\tYn\t\tfn\n-----------------------------------------------\n 0\t%g\t\t%.3f\t\t%.3f\n',x(1),y(1),f(x(1),y(1)));\n",
"for i=2:11\n",
"    x(i)=(i-1)*h;\n",
"    y(i+1)=(-y(i)-y(i-1)+h*(f(x(i),y(i))+f(x(i-1),y(i-1))))/2;\n",
"    printf(' %i\t%.3f\t\t%.3f\t\t%.3f\n',i-1,x(i),y(i),f(x(i),y(i)))\n",
"end"
   ]
   }
,
{
		   "cell_type": "markdown",
		   "metadata": {},
		   "source": [
			"## Example 15.23: Milne_Simpson_Predictor_Corrector_Method.sce"
		   ]
		  },
  {
"cell_type": "code",
	   "execution_count": null,
	   "metadata": {
	    "collapsed": true
	   },
	   "outputs": [],
"source": [
"//Example 15.23\n",
"//Milne Simpson Predictor Corrector Method\n",
"//Page no. 544\n",
"clc;clear;close;\n",
"deff('y=f(x,y)','y=y+exp(x)')\n",
"h=0.5;\n",
"y=[1,1.824,3.718,7.722]\n",
"for i=1:4\n",
"    x=(i-1)*h;\n",
"    f1(i)=f(x,y(i));\n",
"    printf('\nf%i = %g',i-1,f1(i))\n",
"end\n",
"y41=y(1)+4*h*(2*f1(4)-f1(3)+2*f1(2))/3\n",
"f4=f(x+h,y41);\n",
"y4=y(3)+h*(f4+4*f1(4)+f1(3))/3\n",
"printf('\n\n\nPredictor = %.9f\n\n',y41)\n",
"printf('Evaluator = %.9f\n\n',f4)\n",
"printf('Corrector = %.9f',y4)"
   ]
   }
,
{
		   "cell_type": "markdown",
		   "metadata": {},
		   "source": [
			"## Example 15.24: Improved_Milne_Simpson_Predictor_Corrector_Method.sce"
		   ]
		  },
  {
"cell_type": "code",
	   "execution_count": null,
	   "metadata": {
	    "collapsed": true
	   },
	   "outputs": [],
"source": [
"//Example 15.24\n",
"//Improved Milne Simpson Predictor Corrector Method\n",
"//Page no. 546\n",
"clc;clear;close;\n",
"\n",
"deff('y=f(x,y)','y=y-x^2')\n",
"y(1)=1;h=0.25;x=0;\n",
"printf('n\tXn\tYn\tfn\tY`n\tYn\tY`n+1\tm(n+1)\tv(n+1)\n------------------------------------------------------------------------\n')\n",
"f1(1)=f(x,y(1));\n",
"for i=1:3\n",
"    K1=h*f(x,y(i));\n",
"    K2=h*f(x+2*h/3,y(i)+2*K1/3);\n",
"    y(i+1)=y(i)+(K1+3*K2)/4\n",
"    printf(' %i\t%.3f\t%.3f\t%.3f\n',i-1,x,y(i),f1(i))\n",
"    x=x+h\n",
"    f1(i+1)=f(x,y(i+1))\n",
"end\n",
"Y31=0\n",
"for i=3:10\n",
"    Y41=y(i-2)+4*h*(2*f1(4)-f1(3)+2*f1(2))/3      //predictor\n",
"    m4=Y41+28*(y(i+1)-Y31)/29   //modifier\n",
"    v4=f(x+h,m4)     //evaluator\n",
"    Y4=y(i)+h*(v4+4*f1(4)+f1(3))/3       //corrector\n",
"    printf(' %i\t%.3f\t%.3f\t%.3f\t%.3f\t%.3f\t%.3f\t%.3f\t%.3f\n',i,x,y(i+1),f1(4),Y31,y(i+1),Y41,m4,v4)\n",
"    y(i+2)=Y4\n",
"    Y31=Y41;\n",
"    f1(2)=f1(3);\n",
"    f1(3)=f1(4);\n",
"    f1(4)=f(x+h,y(i+2))\n",
"    x=x+h\n",
"end"
   ]
   }
,
{
		   "cell_type": "markdown",
		   "metadata": {},
		   "source": [
			"## Example 15.25: Hamming_Predictor_Corrector_Method.sce"
		   ]
		  },
  {
"cell_type": "code",
	   "execution_count": null,
	   "metadata": {
	    "collapsed": true
	   },
	   "outputs": [],
"source": [
"//Example 15.25\n",
"//Hamming Predictor Corrector Method\n",
"//Page no. 548\n",
"clc;clear;close;\n",
"\n",
"deff('y=f(x,y)','y=y-x^2')\n",
"y(1)=1;h=0.25;x=0;\n",
"printf('n\tXn\tYn\tfn\tY`n\tYc(n)\tY`n+1\tm(n+1)\tv(n+1)\tYc(n+1)\n-----------------------------------------------------------------------------------------\n')\n",
"f1(1)=f(x,y(1));\n",
"for i=1:3\n",
"    K1=h*f(x,y(i));\n",
"    K2=h*f(x+2*h/3,y(i)+2*K1/3);\n",
"    y(i+1)=y(i)+(K1+3*K2)/4\n",
"    printf(' %i\t%.3f\t%.3f\t%.3f\n',i-1,x,y(i),f1(i))\n",
"    x=x+h\n",
"    f1(i+1)=f(x,y(i+1))\n",
"end\n",
"Y31=y(4);Yc=0\n",
"for i=3:10\n",
"    Y41=y(i-2)+4*h*(2*f1(4)-f1(3)+2*f1(2))/3  //predictor\n",
"    m4=Y41+112*(Y31-Yc)/121    //modifier\n",
"    v4=f(x+h,m4)            //evaluator\n",
"    Y4c=(9*y(i+1)-y(i-1))/8+3*h*(v4+2*f1(4)-f1(3))/8     //corrector\n",
"    Y4=Y4c+9*(Y41-Y4c)/121        //final value\n",
"    printf(' %i\t%.3f\t%.3f\t%.3f\t%.3f\t%.3f\t%.3f\t%.3f\t%.3f\t%.3f\n',i,x,y(i+1),f1(4),Y31,Yc,Y41,m4,v4,Y4c)\n",
"    y(i+2)=Y4\n",
"    Y31=Y41;\n",
"    f1(2)=f1(3);\n",
"    f1(3)=f1(4);\n",
"    f1(4)=f(x+h,y(i+2))\n",
"    Yc=Y4c\n",
"    x=x+h\n",
"end"
   ]
   }
,
{
		   "cell_type": "markdown",
		   "metadata": {},
		   "source": [
			"## Example 15.26: Multi_Valued_Method.sce"
		   ]
		  },
  {
"cell_type": "code",
	   "execution_count": null,
	   "metadata": {
	    "collapsed": true
	   },
	   "outputs": [],
"source": [
"//Example 15.26\n",
"//Multi Valued Method\n",
"//Page no. 553\n",
"clc;clear;close;\n",
"\n",
"deff('y=f1(x,y)','y=2*x^2-y')\n",
"h=0.1;x=0;y=-1;\n",
"deff('y=f2(x,y)','y=4*x-f1(x,y)')\n",
"deff('y=f3(x,y)','y=4-f2(x,y)')\n",
"B=[1,1,1,1;0,1,2,3;0,0,1,3;0,0,0,1];\n",
"y0=[y;h*f1(x,y);h^2*f2(x,y)/2;h^3*f3(x,y)/6]\n",
"y01=y0;\n",
"r=[0;1;3/4;1/6]\n",
"\n",
"disp(r,'If r = ')\n",
"printf('\n\n-------------------------------------------------------------------------\nx = 0\t\t\tx = 0.1\t\t\t\tx = 0.2\n\t')\n",
"for i=1:2\n",
"    y11=B*y01\n",
"    s(i)=h*(f1(x+h,y11(1)))-y11(2)\n",
"    y1=y11+s(i)*r\n",
"    if i==2 then\n",
"        break\n",
"    end\n",
"    y2=y1;\n",
"    y22=y11;\n",
"    y01=y1\n",
"end\n",
"printf('\t   (s = %.5g)\t\t   (s = %.9f)\n-------------------------------------------------------------------------\n   Y0\t\t   Y`i\t\t   Y1\t\t   Y`2\t\t   Y2\n-------------------------------------------------------------------------\n',s(1),s(2))\n",
"for i=1:4\n",
"    printf('%.5f \t%.5f \t%.5f \t%.5f \t%.5f\n',y0(i),y22(i),y2(i),y11(i),y1(i))\n",
"end\n",
"y0=[y;h*f1(x,y);h^2*f2(x,y)/2;h^3*f3(x,y)/6]\n",
"y01=y0;\n",
"r=[5/12;1;3/4;1/6]\n",
"disp(r,'If r = ')\n",
"printf('\n\n-------------------------------------------------------------------------\nx = 0\t\t\tx = 0.1\t\t\t\tx = 0.2\n\t')\n",
"for i=1:2\n",
"    y11=B*y01\n",
"    s(i)=h*(f1(x+h,y11(1)))-y11(2)\n",
"    y1=y11+s(i)*r\n",
"    if i==2 then\n",
"        break\n",
"    end\n",
"    y2=y1;\n",
"    y22=y11;\n",
"    y01=y1\n",
"end\n",
"printf('\t   (s = %.5g)\t\t   (s = %.9f)\n-------------------------------------------------------------------------\n   Y0\t\t   Y`i\t\t   Y1\t\t   Y`2\t\t   Y2\n-------------------------------------------------------------------------\n',s(1),s(2))\n",
"for i=1:4\n",
"    printf('%.5f \t%.5f \t%.5f \t%.5f \t%.5f\n',y0(i),y22(i),y2(i),y11(i),y1(i))\n",
"end"
   ]
   }
,
{
		   "cell_type": "markdown",
		   "metadata": {},
		   "source": [
			"## Example 15.27: First_order_ODE.sce"
		   ]
		  },
  {
"cell_type": "code",
	   "execution_count": null,
	   "metadata": {
	    "collapsed": true
	   },
	   "outputs": [],
"source": [
"//Example 15.27\n",
"//First order ODE\n",
"//Page no. 558\n",
"clc;clear;close;\n",
"\n",
"deff('y=f1(x,y1,y2)','y=y1*y2+x')\n",
"deff('y=f2(x,y1,y2)','y=y1-x')\n",
"h=0.2;x=0;y1=0;y2=1;\n",
"//heun method\n",
"printf('Heun Method:\n\n x\ty1\ty2\n-------------------------\n')\n",
"Y=[y1;y2]\n",
"for i=1:8\n",
"    \n",
"    F=[f1(x,Y(1),Y(2));f2(x,Y(1),Y(2))]\n",
"    Y1=Y+h*F\n",
"    x=x+h;\n",
"    F1=[f1(x,Y1(1),Y1(2));f2(x,Y1(1),Y1(2))]\n",
"    Y=Y+(h/2)*(F+F1)\n",
"    printf(' %g\t%.3f\t%.3f\n',x-h,Y(1),Y(2))\n",
"    \n",
"end\n",
"\n",
"//classical runge kutta method\n",
"printf('\n\n\nClassical Runge Kutta Method:\n\n n\tx\tYn\tK1\tK2\tK3\tK4\tY(n+1)\n-----------------------------------------------------------------\n')\n",
"Y=[y1;y2];x=0;\n",
"for i=1:6\n",
"    K1=h*[f1(x,Y(1),Y(2));f2(x,Y(1),Y(2))]\n",
"    K2=h*[f1(x+h/2,Y(1)+K1(1)/2,Y(2)+K1(2)/2);f2(x+h/2,Y(1)+K1(1)/2,Y(2)+K1(2)/2)]\n",
"    K3=h*[f1(x+h/2,Y(1)+K2(1)/2,Y(2)+K2(2)/2);f2(x+h/2,Y(1)+K2(1)/2,Y(2)+K2(2)/2)]\n",
"    K4=h*[f1(x+h,Y(1)+K3(1),Y(2)+K3(2));f2(x+h,Y(1)+K3(1),Y(2)+K3(2))]\n",
"    Y1=Y+(K1+2*K2+2*K3+K4)/6\n",
"    printf(' %i\t%.2f\t%.3f\t%.3f\t%.3f\t%.3f\t%.3f\t%.3f\n\t\t%.3f\t%.3f\t%.3f\t%.3f\t%.3f\t%.3f\n---------------------------------------------------------------\n',i-1,x,Y(1),K1(1),K2(1),K3(1),K4(1),Y1(1),Y(2),K1(2),K2(2),K3(2),K4(2),Y1(2))\n",
"    Y=Y1;\n",
"    x=x+h\n",
"end"
   ]
   }
,
{
		   "cell_type": "markdown",
		   "metadata": {},
		   "source": [
			"## Example 15.28: Differential_Equation.sce"
		   ]
		  },
  {
"cell_type": "code",
	   "execution_count": null,
	   "metadata": {
	    "collapsed": true
	   },
	   "outputs": [],
"source": [
"//Example 15.28\n",
"//Differential Equation\n",
"//Page no. 562\n",
"clc;clear;close;\n",
"\n",
"deff('y=f(x,y)','y=2*y^2/(1+x)')\n",
"h=0.1;z(1)=-1;\n",
"for i=1:11\n",
"    printf('\nZ(%g) = %g\n',(i-1)/10,z(i))\n",
"    z(i+1)=z(i)+h*f((i-1)/10,z(i))\n",
"end"
   ]
   }
,
{
		   "cell_type": "markdown",
		   "metadata": {},
		   "source": [
			"## Example 15.6: Taylor_Method.sce"
		   ]
		  },
  {
"cell_type": "code",
	   "execution_count": null,
	   "metadata": {
	    "collapsed": true
	   },
	   "outputs": [],
"source": [
"//Example 15.6\n",
"//Taylor Method\n",
"//Page no. 510\n",
"clc;clear;close;\n",
"\n",
"deff('y=f1(x,y)','y=x^2+y^2')\n",
"deff('y=f2(x,y)','y=2*x+2*y*f1(x,y)')\n",
"deff('y=f3(x,y)','y=2+2*f1(x,y)^2+2*y*f2(x,y)')\n",
"deff('y=f4(x,y)','y=6*f1(x,y)*f2(x,y)+2*y*f3(x,y)')\n",
"h=0.2;\n",
"for l=1:2\n",
"    a=0;y=0;x=0;\n",
"    printf('\n---------------\nh = %g\n---------------\n',h)\n",
"    for i=1:4\n",
"    x=a+(i-1)*h\n",
"    k=0;\n",
"    for j=1:4\n",
"    if j==1 then\n",
"        k=k+(h^j)*f1(x,y)/factorial(j)\n",
"    elseif j==2\n",
"        k=k+(h^j)*f2(x,y)/factorial(j)\n",
"    elseif j==3\n",
"        k=k+(h^j)*f3(x,y)/factorial(j)\n",
"    else\n",
"        k=k+(h^j)*f4(x,y)/factorial(j)\n",
"    end\n",
"end\n",
"y=y+k;\n",
"printf('\nx = %g\n\ny(%g) = %g\n\n',x,x+0.2,y)\n",
"end\n",
"h=h+0.2;\n",
"end"
   ]
   }
,
{
		   "cell_type": "markdown",
		   "metadata": {},
		   "source": [
			"## Example 15.7: Picard_Method.sce"
		   ]
		  },
  {
"cell_type": "code",
	   "execution_count": null,
	   "metadata": {
	    "collapsed": true
	   },
	   "outputs": [],
"source": [
"//Example 15.7\n",
"//Picard Method\n",
"//Page no. 511\n",
"clc;clear;close;\n",
"deff('y=f(x,y)','y=x^2+y^2')\n",
"y(1)=0;\n",
"for i=1:2\n",
"    y(i+1)=y(1)+integrate('f(x,y(i))','x',0,i/10)\n",
"    printf('\n y(%g) = %g\n',i/10,y(i+1))\n",
"end"
   ]
   }
,
{
		   "cell_type": "markdown",
		   "metadata": {},
		   "source": [
			"## Example 15.8: Euler_Method.sce"
		   ]
		  },
  {
"cell_type": "code",
	   "execution_count": null,
	   "metadata": {
	    "collapsed": true
	   },
	   "outputs": [],
"source": [
"//Example 15.8\n",
"//Euler Method\n",
"//Page no. 513\n",
"clc;clear;close;\n",
"deff('y=f(x,y)','y=x+y')\n",
"y(1)=1;\n",
"h=0.1;\n",
"for i=1:6\n",
"    printf('\ny(%g) = %g\n',(i-1)/10,y(i))\n",
"    y(i+1)=y(i)+h*f((i-1)/10,y(i))\n",
"    \n",
"end"
   ]
   }
,
{
		   "cell_type": "markdown",
		   "metadata": {},
		   "source": [
			"## Example 15.9: Trapezium_Method.sce"
		   ]
		  },
  {
"cell_type": "code",
	   "execution_count": null,
	   "metadata": {
	    "collapsed": true
	   },
	   "outputs": [],
"source": [
"//Example 15.9\n",
"//Trapezium Method\n",
"//Page no. 516\n",
"clc;clear;close;\n",
"deff('y=f(x,y)','y=x*y^2')\n",
"y=1;\n",
"h=0.2;\n",
"y2=poly(0,'y2')\n",
"for i=1:2\n",
"    x=(i-1)*h;\n",
"    x1=x+h\n",
"    y1=roots(-y2+y+h*(f(x,y)+f(x1,y2))/2)\n",
"    printf('\n  Y(%i) = %g  or  %g\n',i,y1(1),y1(2))\n",
"end"
   ]
   }
],
"metadata": {
		  "kernelspec": {
		   "display_name": "Scilab",
		   "language": "scilab",
		   "name": "scilab"
		  },
		  "language_info": {
		   "file_extension": ".sce",
		   "help_links": [
			{
			 "text": "MetaKernel Magics",
			 "url": "https://github.com/calysto/metakernel/blob/master/metakernel/magics/README.md"
			}
		   ],
		   "mimetype": "text/x-octave",
		   "name": "scilab",
		   "version": "0.7.1"
		  }
		 },
		 "nbformat": 4,
		 "nbformat_minor": 0
}
