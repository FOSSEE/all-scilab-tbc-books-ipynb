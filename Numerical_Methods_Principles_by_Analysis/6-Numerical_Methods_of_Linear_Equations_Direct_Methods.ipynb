{
"cells": [
 {
		   "cell_type": "markdown",
	   "metadata": {},
	   "source": [
       "# Chapter 6: Numerical Methods of Linear Equations Direct Methods"
	   ]
	},
{
		   "cell_type": "markdown",
		   "metadata": {},
		   "source": [
			"## Example 6.10: Solving_Matrices.sce"
		   ]
		  },
  {
"cell_type": "code",
	   "execution_count": null,
	   "metadata": {
	    "collapsed": true
	   },
	   "outputs": [],
"source": [
"//Example 6.10\n",
"//Solving Matrices\n",
"//Page no. 244\n",
"clc;close;clear;\n",
"warning('off')\n",
"for i=1:7\n",
"    s=0;\n",
"    for j=1:7\n",
"        A(i,j)=360360/(i+j)\n",
"    end\n",
"    B(i,1)=1;\n",
"end\n",
"X=inv(A)*B\n",
"disp(360360*X,'The Solution by 360360*X= ')\n",
"disp(X,'Final Solution = ')"
   ]
   }
,
{
		   "cell_type": "markdown",
		   "metadata": {},
		   "source": [
			"## Example 6.1: Gaussian_Elimination_Method.sce"
		   ]
		  },
  {
"cell_type": "code",
	   "execution_count": null,
	   "metadata": {
	    "collapsed": true
	   },
	   "outputs": [],
"source": [
"//Example 6.1\n",
"//Gaussian Elimination Method\n",
"//Page no. 220\n",
"clc;clear;close;\n",
"\n",
"A=[5,10,1,28;1,1,1,6;4,8,3,29];           //augmented matrix\n",
"\n",
"//triangularization\n",
"for i=1:4\n",
"    B(1,i)=A(1,i)\n",
"    B(2,i)=A(2,i)-(A(2,1)/A(1,1))*A(1,i)\n",
"    B(3,i)=A(3,i)-(A(3,1)/A(1,1))*A(1,i)\n",
"end\n",
"disp(A,'Augmented Matrix=')\n",
"disp(B,'Triangulated Matrix=')\n",
"//back substitution\n",
"x(3)=B(3,4)/B(3,3);\n",
"printf('\nx(3)=%f\n',x(3))\n",
"for i=2:-1:1\n",
"    k=0\n",
"    for j=i+1:3\n",
"       k=k+B(i,j)*x(j)\n",
"    end\n",
"    x(i)=(1/B(i,i))*(B(i,4)-k)\n",
"     printf('\nx(%i)=%f\n',i,x(i))\n",
"end"
   ]
   }
,
{
		   "cell_type": "markdown",
		   "metadata": {},
		   "source": [
			"## Example 6.2: Gaussian_Elimination_Method_for_TriDiagonal_System.sce"
		   ]
		  },
  {
"cell_type": "code",
	   "execution_count": null,
	   "metadata": {
	    "collapsed": true
	   },
	   "outputs": [],
"source": [
"//Example 6.2\n",
"//Gaussian Elimination Method for Tri-Diagonal System\n",
"//Page no. 222\n",
"clc;clear;close;\n",
"\n",
"//equation matrix\n",
"A=[1,2,0,0;2,3,-1,0;0,4,2,3;0,0,2,-1];\n",
"K=[5;5;11;10];i=1;\n",
"\n",
"//initialization\n",
"w(1)=A(1,2)/A(1,1);\n",
"g(1)=K(1)/A(1,1);\n",
"printf('\nw(%i)=%f',i,w(i));printf('\ng(%i)=%f',i,g(i))\n",
"\n",
"//computation\n",
"for i=2:3\n",
"    w(i)=(A(i,i+1))/(A(i,i)-A(i,i-1)*w(i-1))\n",
"    g(i)=(K(i)-A(i,i-1)*g(i-1))/(A(i,i)-A(i,i-1)*w(i-1))\n",
"    printf('\nw(%i)=%f',i,w(i))\n",
"    printf('\ng(%i)=%f',i,g(i))\n",
"end\n",
"i=4\n",
"m=-2\n",
"g(i)=m*(K(i)-A(i,i-1)*g(i-1))/(A(i,i)-A(i,i-1)*w(i-1))\n",
"x(i)=g(i)\n",
"printf('\ng(%i)=%f',i,g(i))\n",
"printf('\n\nx(%i)=%f',i,x(i))\n",
"\n",
"//solution\n",
"for i=3:-1:1\n",
"    x(i)=g(i)-w(i)*x(i+1)\n",
"    printf('\n\nx(%i)=%f',i,x(i))\n",
"end"
   ]
   }
,
{
		   "cell_type": "markdown",
		   "metadata": {},
		   "source": [
			"## Example 6.3: Gauss_Jordan_Method.sce"
		   ]
		  },
  {
"cell_type": "code",
	   "execution_count": null,
	   "metadata": {
	    "collapsed": true
	   },
	   "outputs": [],
"source": [
"//Example 6.3\n",
"//Gauss-Jordan Method\n",
"//Page no. 224\n",
"\n",
"clc;clear;close;\n",
"\n",
"A=[5,10,1,28;4,8,3,29;1,1,1,6];     //augmented matrix\n",
"\n",
"for i=1:3\n",
"    j=i\n",
"    while (A(i,i)==0 & j<=3)\n",
"        for k=1:4\n",
"            B(1,k)=A(j+1,k)\n",
"            A(j+1,k)=A(i,k)\n",
"            A(i,k)=B(1,k)\n",
"        end\n",
"        disp(A)\n",
"        j=j+1\n",
"    end\n",
"    disp(A)\n",
"    for k=4:-1:i\n",
"        A(i,k)=A(i,k)/A(i,i)\n",
"    end\n",
"    disp(A)\n",
"    for k=1:3\n",
"        if(k~=i) then\n",
"           l=A(k,i)/A(i,i)\n",
"           for m=i:4\n",
"               A(k,m)=A(k,m)-l*A(i,m)\n",
"           end\n",
"        end\n",
"       \n",
"    end\n",
"    disp(A)\n",
"end\n",
"\n",
"for i=1:3\n",
"    printf('\nx(%i) = %g\n',i,A(i,4))\n",
"end"
   ]
   }
,
{
		   "cell_type": "markdown",
		   "metadata": {},
		   "source": [
			"## Example 6.4: Gaussian_Elimination_Method_without_Pivoting.sce"
		   ]
		  },
  {
"cell_type": "code",
	   "execution_count": null,
	   "metadata": {
	    "collapsed": true
	   },
	   "outputs": [],
"source": [
"//Example 6.4\n",
"//Gaussian Elimination Method without Pivoting\n",
"//Page no. 227\n",
"clc;clear;close;\n",
"\n",
"A=[0.3*10^-11,1,0.7;1,1,0.9];           //augmented matrix\n",
"\n",
"//triangularization\n",
"for i=1:3\n",
"    B(1,i)=A(1,i)\n",
"    B(2,i)=A(2,i)-(A(2,1)/A(1,1))*A(1,i)\n",
"end\n",
"disp(A,'Augmented Matrix=')\n",
"disp(B,'Triangulated Matrix=')\n",
"\n",
"//back substitution\n",
"x(2)=B(2,3)/B(2,2);\n",
"printf('\nx(2)=%f\n',x(2))\n",
"for i=1:-1:1\n",
"    k=0\n",
"    for j=i+1:2\n",
"       k=k+B(i,j)*x(j)\n",
"    end\n",
"    x(i)=(1/B(i,i))*(B(i,3)-k)\n",
"     printf('\nx(%i)=%f\n',i,x(i))\n",
"end"
   ]
   }
,
{
		   "cell_type": "markdown",
		   "metadata": {},
		   "source": [
			"## Example 6.5: Dolittle_Factorization_Method.sce"
		   ]
		  },
  {
"cell_type": "code",
	   "execution_count": null,
	   "metadata": {
	    "collapsed": true
	   },
	   "outputs": [],
"source": [
"//Example 6.5\n",
"//Dolittle Factorization Method\n",
"//Page no. 233\n",
"clc;clear;close;\n",
"\n",
"A=[2,1,1;1,3,1;1,1,4];\n",
"printf('\tL\t\t  *\t\tU\t\t  =\t\tA')\n",
"U(2,1)=0;U(3,1)=0;U(3,2)=0;\n",
"L(1,2)=0;L(1,3)=0;L(2,3)=0;\n",
"for i=1:3\n",
"    L(i,i)=1\n",
"end\n",
"for i=1:3\n",
"    U(1,i)=A(1,i)\n",
"end\n",
"L(2,1)=1/U(1,1);\n",
"for i=2:3\n",
"    U(2,i)=A(2,i)-U(1,i)*L(2,1);\n",
"end\n",
"L(3,1)=1/U(1,1);\n",
"L(3,2)=(A(3,2)-U(1,2)*L(3,1))/U(2,2);\n",
"U(3,3)=A(3,3)-U(1,3)*L(3,1)-U(2,3)*L(3,2);\n",
"printf('\n')\n",
"for i=1:3\n",
"    for j=1:3\n",
"        printf('%.2f\t',L(i,j))\n",
"    end\n",
"    \n",
"    if(i==2)\n",
"        printf('  *     ')\n",
"    else\n",
"        printf('\t')\n",
"    end\n",
"    \n",
"    for j=1:3\n",
"        printf('%.2f\t',U(i,j))\n",
"    end\n",
"    if(i==2)\n",
"        printf('  =     ')\n",
"    else\n",
"        printf('\t')\n",
"    end\n",
"    for j=1:3\n",
"        printf('%.2f\t',A(i,j))\n",
"    end\n",
"    printf('\n')\n",
"end\n",
""
   ]
   }
,
{
		   "cell_type": "markdown",
		   "metadata": {},
		   "source": [
			"## Example 6.6: Trangularization_Method.sce"
		   ]
		  },
  {
"cell_type": "code",
	   "execution_count": null,
	   "metadata": {
	    "collapsed": true
	   },
	   "outputs": [],
"source": [
"//Example 6.6\n",
"//Trangularization Method\n",
"//Page no. 236\n",
"clc;clear;close;\n",
"\n",
"A=[2,1,1;1,3,1;1,1,4];\n",
"B=[7;10;15];\n",
"printf('A can be factorizaed as follows:\n')\n",
"printf('\tL\t\t  *\t\tU\t\t  =\t\tA')\n",
"U(2,1)=0;U(3,1)=0;U(3,2)=0;\n",
"L(1,2)=0;L(1,3)=0;L(2,3)=0;\n",
"for i=1:3\n",
"    L(i,i)=1\n",
"end\n",
"for i=1:3\n",
"    U(1,i)=A(1,i)\n",
"end\n",
"L(2,1)=1/U(1,1);\n",
"for i=2:3\n",
"    U(2,i)=A(2,i)-U(1,i)*L(2,1);\n",
"end\n",
"L(3,1)=1/U(1,1);\n",
"L(3,2)=(A(3,2)-U(1,2)*L(3,1))/U(2,2);\n",
"U(3,3)=A(3,3)-U(1,3)*L(3,1)-U(2,3)*L(3,2);\n",
"printf('\n')\n",
"for i=1:3\n",
"    for j=1:3\n",
"        printf('%.2f\t',L(i,j))\n",
"    end\n",
"    \n",
"    if(i==2)\n",
"        printf('  *     ')\n",
"    else\n",
"        printf('\t')\n",
"    end\n",
"    \n",
"    for j=1:3\n",
"        printf('%.2f\t',U(i,j))\n",
"    end\n",
"    if(i==2)\n",
"        printf('  =     ')\n",
"    else\n",
"        printf('\t')\n",
"    end\n",
"    for j=1:3\n",
"        printf('%.2f\t',A(i,j))\n",
"    end\n",
"    printf('\n')\n",
"end\n",
"printf('\nY=U*X')\n",
"    Y=inv(L)*B\n",
"    X=inv(U)*Y\n",
"printf('\n\nX=')\n",
"for i=1:3\n",
"    printf('\n   %i',X(i,1))\n",
"end"
   ]
   }
,
{
		   "cell_type": "markdown",
		   "metadata": {},
		   "source": [
			"## Example 6.7: Wilkinson_Method.sce"
		   ]
		  },
  {
"cell_type": "code",
	   "execution_count": null,
	   "metadata": {
	    "collapsed": true
	   },
	   "outputs": [],
"source": [
"//Example 6.7\n",
"//Wilkinson Method\n",
"//Page no. 240\n",
"clc;clear;close;\n",
"\n",
"A=[0.3*10^5,0.212,0.332;0.216,0.376,0.477;0.173,0.663,0.626];\n",
"B=[0.235;0.128;0.285];\n",
"X=inv(A)\n",
"disp(X*B,'Final Solution = ')"
   ]
   }
,
{
		   "cell_type": "markdown",
		   "metadata": {},
		   "source": [
			"## Example 6.8: Choleskys_Factorizatio.sce"
		   ]
		  },
  {
"cell_type": "code",
	   "execution_count": null,
	   "metadata": {
	    "collapsed": true
	   },
	   "outputs": [],
"source": [
"//Example 6.8\n",
"//Cholesky's Factorization\n",
"//Page no. 243\n",
"clc;clear;close;\n",
"\n",
"A=[1,2,3;2,5,8;3,8,22];\n",
"U(2,1)=0;U(3,1)=0;U(3,2)=0;\n",
"for i=1:3\n",
"    for j=1:3\n",
"        if(i==j)\n",
"            k=0;\n",
"            for m=1:i-1\n",
"               k=k+U(m,i)^2; \n",
"            end\n",
"            U(i,j)=sqrt(A(i,j)-k)\n",
"        end\n",
"        if(j>i)\n",
"            k=0;\n",
"            for m=1:i-1\n",
"                k=k+U(m,j)*U(m,i);\n",
"            end\n",
"            U(i,j)=(A(i,j)-k)/U(i,i)\n",
"        end\n",
"    end\n",
"end\n",
"disp(U,'Required Matrix (U)=')"
   ]
   }
,
{
		   "cell_type": "markdown",
		   "metadata": {},
		   "source": [
			"## Example 6.9: Complex_System_of_Linear_Equation.sce"
		   ]
		  },
  {
"cell_type": "code",
	   "execution_count": null,
	   "metadata": {
	    "collapsed": true
	   },
	   "outputs": [],
"source": [
"//Example 6.9\n",
"//Complex System of Linear Equation\n",
"//Page no. 244\n",
"clc;clear;close;\n",
"\n",
"for i=1:7\n",
"    s=0;\n",
"    for j=1:7\n",
"        A(i,j)=j^i\n",
"        s=s+(-1)^(j+1)*A(i,j)\n",
"    end\n",
"    B(i,1)=s;\n",
"end\n",
"X=inv(A)*B\n",
"disp(X,'The Solution = ')"
   ]
   }
],
"metadata": {
		  "kernelspec": {
		   "display_name": "Scilab",
		   "language": "scilab",
		   "name": "scilab"
		  },
		  "language_info": {
		   "file_extension": ".sce",
		   "help_links": [
			{
			 "text": "MetaKernel Magics",
			 "url": "https://github.com/calysto/metakernel/blob/master/metakernel/magics/README.md"
			}
		   ],
		   "mimetype": "text/x-octave",
		   "name": "scilab",
		   "version": "0.7.1"
		  }
		 },
		 "nbformat": 4,
		 "nbformat_minor": 0
}
