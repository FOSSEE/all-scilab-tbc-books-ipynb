{
"cells": [
 {
		   "cell_type": "markdown",
	   "metadata": {},
	   "source": [
       "# Chapter 10: Numerical Solutions of System of Non Linear Equations"
	   ]
	},
{
		   "cell_type": "markdown",
		   "metadata": {},
		   "source": [
			"## Example 10.1: System_of_Non_Linear_Equations.sce"
		   ]
		  },
  {
"cell_type": "code",
	   "execution_count": null,
	   "metadata": {
	    "collapsed": true
	   },
	   "outputs": [],
"source": [
"//Example 10.1\n",
"//System of Non Linear Equations\n",
"//Page no. 311\n",
"clc;clear;close;\n",
"\n",
"deff('y=f(x)','y=x^2-exp(2*x)-4')\n",
"deff('y=f1(x)','y=2*x-2*exp(2*x)')\n",
"x0=0;e=0.00001\n",
"for i=1:10\n",
"    x1=x0-f(x0)/f1(x0)\n",
"    e1=abs(x0-x1)\n",
"    x0=x1;\n",
"    if abs(x0)<e then\n",
"        break;\n",
"    end\n",
"end\n",
"printf('\n\nThe solution of this equation after %i Iterations by newton raphshon method is %.10f',i,x1)"
   ]
   }
,
{
		   "cell_type": "markdown",
		   "metadata": {},
		   "source": [
			"## Example 10.2: Contraction_Method_and_Seidel_Method.sce"
		   ]
		  },
  {
"cell_type": "code",
	   "execution_count": null,
	   "metadata": {
	    "collapsed": true
	   },
	   "outputs": [],
"source": [
"//Example 10.2\n",
"//Contraction Method and Seidel Method\n",
"//Page no. 315\n",
"clc;clear;close;\n",
"x(1)=0;y(1)=0\n",
"printf('(a) Contraction Mapping\n\nn\txn\t\tyn\n--------------------------------\n 0\t%f\t%f\n',x(1),y(1))\n",
"for i=2:9\n",
"    x(i)=sin(x(i-1)+y(i-1))\n",
"    y(i)=cos(x(i-1)-y(i-1))\n",
"    printf(' %i\t%f\t%f\n',i-1,x(i),y(i))\n",
"end\n",
"printf('\n\n\n(b) Seidel Method\n\nn\txn\t\tyn\n--------------------------------\n 0\t%f\t%f\n',x(1),y(1))\n",
"for i=2:9\n",
"    x(i)=sin(x(i-1)+y(i-1))\n",
"    y(i)=cos(x(i)-y(i-1))\n",
"    printf(' %i\t%f\t%f\n',i-1,x(i),y(i))\n",
"end"
   ]
   }
,
{
		   "cell_type": "markdown",
		   "metadata": {},
		   "source": [
			"## Example 10.3: Non_Linear_System_of_Equation.sce"
		   ]
		  },
  {
"cell_type": "code",
	   "execution_count": null,
	   "metadata": {
	    "collapsed": true
	   },
	   "outputs": [],
"source": [
"//Example 10.3\n",
"//Non Linear System of Equation\n",
"//Page no. 315\n",
"clc;clear;close;\n",
"x(1,1)=1;x(1,2)=0;x(1,3)=0;\n",
"y(1,1)=0;y(1,2)=2;y(1,3)=2;\n",
"printf('Case -->\t\tI\t\t\t\t\II\t\t\t\tIII\n----------------------------------------------------------------------------------------------------------\nIteration\tx\t\ty\t\tx\t\ty\t\tx\t\ty\n\n    0\t\t%f\t%f\t%f\t%f\t%f\t%f\n',x(1,1),y(1,1),x(1,2),y(1,2),x(1,3),y(1,3))\n",
"for i=2:9\n",
"    printf('    %i\t',i-1)\n",
"    for j=1:3\n",
"        if j==1 | j==2 then\n",
"            x(i,j)=(-y(i-1,j)^2-4*x(i-1,j)^2+8*x(i-1,j)+4)/8\n",
"        y(i,j)=(2*y(i-1,j)^2-2*x(i-1,j)+1)/4\n",
"        printf('\t%f\t%f',x(i,j),y(i,j))\n",
"        end\n",
"        if j==3 then\n",
"            x(i,j)=(-y(i-1,j)^2-4*x(i-1,j)^2+11*x(i-1,j)+4)/11\n",
"        y(i,j)=(-2*y(i-1,j)^2+8*y(i-1,j)-2*x(i-1,j)-1)/4\n",
"        printf('\t%f\t%f',x(i,j),y(i,j))\n",
"        end\n",
"    end\n",
"    printf('\n')\n",
"end\n",
"printf('\n\n\n\nNote : There are computational errors in this example given by the book')"
   ]
   }
,
{
		   "cell_type": "markdown",
		   "metadata": {},
		   "source": [
			"## Example 10.4: Newton_Method.sce"
		   ]
		  },
  {
"cell_type": "code",
	   "execution_count": null,
	   "metadata": {
	    "collapsed": true
	   },
	   "outputs": [],
"source": [
"//Example 10.4\n",
"//Newton Method\n",
"//Page no. 317\n",
"clc;clear;close;\n",
"\n",
"deff('y=f1(x1,x2)','y=x1+3*log10(x1)-x2^2')\n",
"deff('y=f2(x1,x2)','y=2*x1^2-x1*x2-5*x1+1')\n",
"deff('y=f11(x1,x2)','y=1+3/(log(10)*x1)')\n",
"deff('y=f12(x1,x2)','y=-2*x2')\n",
"deff('y=f21(x1,x2)','y=4*x1-x2-5')\n",
"deff('y=f22(x1,x2)','y=-x1')\n",
"x=[3.4;2.2];\n",
"disp(x,'x(0) = ')\n",
"for i=1:3\n",
"    fx=[f1(x(1),x(2));f2(x(1),x(2))]\n",
"    printf('\n fx(%i) = \n',i)\n",
"    disp(fx)\n",
"    A=[f11(x(1),x(2)),f12(x(1),x(2));f21(x(1),x(2)),f22(x(1),x(2)),]\n",
"    disp(A,'A = ')\n",
"    A_1=inv(A)\n",
"    disp(A_1,'Inverse of A = ')\n",
"    x=x-A_1*fx\n",
"    printf('\n x(%i) = \n',i)\n",
"    disp(x)\n",
"end"
   ]
   }
,
{
		   "cell_type": "markdown",
		   "metadata": {},
		   "source": [
			"## Example 10.5: Newton_Raphshon_Method.sce"
		   ]
		  },
  {
"cell_type": "code",
	   "execution_count": null,
	   "metadata": {
	    "collapsed": true
	   },
	   "outputs": [],
"source": [
"//Example 10.5\n",
"//Newton Raphshon Method\n",
"//Page no. 320\n",
"clc;clear;close;\n",
"\n",
"deff('y=f1(x,y)','y=x^3-3*x*y^2+1')\n",
"deff('y=f2(x,y)','y=3*x^2*y-y^3')\n",
"deff('y=f11(x,y)','y=3*x^2-6*y^2')\n",
"deff('y=f12(x,y)','y=-6*x*y')\n",
"deff('y=f21(x,y)','y=6*x*y')\n",
"deff('y=f22(x,y)','y=3*x^2-3*y^2')\n",
"x=[0;1];\n",
"printf('\nx(0) = %g\ny(0) = %g\n',x(1),x(2))\n",
"for i=1:3\n",
"    fx=[f1(x(1),x(2));f2(x(1),x(2))]\n",
"    printf('\n fx(%i) = \n',i)\n",
"    disp(fx)\n",
"    J=[f11(x(1),x(2)),f12(x(1),x(2));f21(x(1),x(2)),f22(x(1),x(2)),]\n",
"    disp(J,'J = ')\n",
"    d=det(J);\n",
"    if d==0 then\n",
"        dx1=0;dx2=0;\n",
"    else\n",
"        dx1=(fx(1)*J(2,2)-fx(2)*J(1,2))/d;\n",
"        dx2=(fx(2)*J(1,1)-fx(1)*J(2,1))/d;\n",
"    end\n",
"    x(1)=x(1)+dx1;\n",
"    x(2)=x(2)+dx2;\n",
"    printf('\nx(%i) = %g\ny(%i) = %g\n',i,x(1),i,x(2))\n",
"end"
   ]
   }
,
{
		   "cell_type": "markdown",
		   "metadata": {},
		   "source": [
			"## Example 10.6: Newton_Method.sce"
		   ]
		  },
  {
"cell_type": "code",
	   "execution_count": null,
	   "metadata": {
	    "collapsed": true
	   },
	   "outputs": [],
"source": [
"//Example 10.6\n",
"//Newton Method\n",
"//Page no. 322\n",
"clc;clear;close;\n",
"\n",
"deff('y=f1(x,y,z)','y=x-0.1*y^2+0.05*z^2-0.7')\n",
"deff('y=f2(x,y,z)','y=y+0.3*x^2-0.1*x*z-0.5')\n",
"deff('y=f3(x,y,z)','y=z+0.4*y^2+0.1*x*y-1.2')\n",
"deff('y=f11(x,y,z)','y=1')\n",
"deff('y=f12(x,y,z)','y=-0.2*y')\n",
"deff('y=f13(x,y,z)','y=0.1*z')\n",
"deff('y=f21(x,y,z)','y=0.6*x-0.1*z')\n",
"deff('y=f22(x,y,z)','y=1')\n",
"deff('y=f23(x,y,z)','y=-0.1*x')\n",
"deff('y=f31(x,y,z)','y=0.1*y')\n",
"deff('y=f32(x,y,z)','y=0.8*y+0.1*x')\n",
"deff('y=f33(x,y,z)','y=1')\n",
"x=[0;0;0];\n",
"printf('n\txn\t\tyn\t\tzn\n---------------------------------------------------------\n')\n",
"for i=1:6\n",
"    fx=[f1(x(1),x(2),x(3));f2(x(1),x(2),x(3));f3(x(1),x(2),x(3))]\n",
"    J=[f11(x(1),x(2),x(3)),f12(x(1),x(2),x(3)),f13(x(1),x(2),x(3));f21(x(1),x(2),x(3)),f22(x(1),x(2),x(3)),f23(x(1),x(2),x(3));f31(x(1),x(2),x(3)),f32(x(1),x(2),x(3)),f33(x(1),x(2),x(3))]\n",
"    J_1=inv(J)\n",
"    printf(' %i\t%f\t%f\t%f\n',i-1,x(1),x(2),x(3))\n",
"    x=x-J_1*fx\n",
"end\n",
"printf('\n\nThe solution is x = %f, y = %f and z = %f',x(1),x(2),x(3))\n",
"\n",
"printf('\n\n\nNote : There are computation errors in calculation given by the book')"
   ]
   }
,
{
		   "cell_type": "markdown",
		   "metadata": {},
		   "source": [
			"## Example 10.7: Iterative_Method.sce"
		   ]
		  },
  {
"cell_type": "code",
	   "execution_count": null,
	   "metadata": {
	    "collapsed": true
	   },
	   "outputs": [],
"source": [
"//Example 10.7\n",
"//Iterative Method\n",
"//Page no. 326\n",
"clc;clear;close;\n",
"\n",
"x=[0;0;0];\n",
"printf('n\txn\t\tyn\t\tzn\n---------------------------------------------------------\n')\n",
"for i=1:7\n",
"    printf(' %i\t%.10f\t%.10f\t%.10f\n',i-1,x(1),x(2),x(3))\n",
"    x(1)=0.7+0.1*x(2)^2-0.05*x(3)^2\n",
"    x(2)=0.5-0.3*x(1)^2+0.1*x(1)*x(3)\n",
"    x(3)=1.2-0.4*x(2)^2-0.1*x(1)*x(2)\n",
"end\n",
"printf('\n\nThe solution is x = %.10f, y = %.10f and z = %.10f',x(1),x(2),x(3))"
   ]
   }
,
{
		   "cell_type": "markdown",
		   "metadata": {},
		   "source": [
			"## Example 10.8: Steepest_Descent.sce"
		   ]
		  },
  {
"cell_type": "code",
	   "execution_count": null,
	   "metadata": {
	    "collapsed": true
	   },
	   "outputs": [],
"source": [
"//Example 10.8\n",
"//Steepest Descent\n",
"//Page no. 328\n",
"clc;clear;close;\n",
"\n",
"deff('y=f(x1,x2)','y=(x1-2)^4+3*(x2+3)^2')\n",
"x=[1;-2];\n",
"printf('n\t     x1\t\t     x2\t\t   F(x1,x2)\n-----------------------------------------------------\n')\n",
"for i=1:11\n",
"    Fx=[f(x(1),x(2))];\n",
"    J=[4*(x(1)-2)^3,6*(x(2)+3)];\n",
"    u=(Fx*J*J'*Fx)/(J*J'*Fx*J*J'*Fx)\n",
"    printf(' %i\t%.10f\t%.10f\t%.10f\n',i-1,x(1),x(2),Fx)\n",
"    x=x-u*J'*Fx \n",
"end\n",
"printf('\n\nThis shows that the solution tends to x1 = %i   and   x2 = %i',ceil(x(1)),floor(x(2)))"
   ]
   }
],
"metadata": {
		  "kernelspec": {
		   "display_name": "Scilab",
		   "language": "scilab",
		   "name": "scilab"
		  },
		  "language_info": {
		   "file_extension": ".sce",
		   "help_links": [
			{
			 "text": "MetaKernel Magics",
			 "url": "https://github.com/calysto/metakernel/blob/master/metakernel/magics/README.md"
			}
		   ],
		   "mimetype": "text/x-octave",
		   "name": "scilab",
		   "version": "0.7.1"
		  }
		 },
		 "nbformat": 4,
		 "nbformat_minor": 0
}
