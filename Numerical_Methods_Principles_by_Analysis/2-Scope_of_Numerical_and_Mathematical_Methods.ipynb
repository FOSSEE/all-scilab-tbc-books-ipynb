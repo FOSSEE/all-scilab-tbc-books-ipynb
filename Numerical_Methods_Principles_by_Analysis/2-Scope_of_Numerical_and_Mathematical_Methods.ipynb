{
"cells": [
 {
		   "cell_type": "markdown",
	   "metadata": {},
	   "source": [
       "# Chapter 2: Scope of Numerical and Mathematical Methods"
	   ]
	},
{
		   "cell_type": "markdown",
		   "metadata": {},
		   "source": [
			"## Example 2.4: Solving_Simultaneous_Linear_Equation.sce"
		   ]
		  },
  {
"cell_type": "code",
	   "execution_count": null,
	   "metadata": {
	    "collapsed": true
	   },
	   "outputs": [],
"source": [
"//Example 2.4\n",
"//Solving Simultaneous Linear Equation\n",
"//Page 36\n",
"clc;close;clear;\n",
"//eq1= 5x-331y=3.5\n",
"//eq2= 6x-397y=5.2\n",
"\n",
"A=[5,-331;6,-397];\n",
"B=[3.5;5.2];\n",
"C=inv(A)*B;      //finding value by multiplying inverse with values\n",
"disp(C(1,1),'Value of x=');\n",
"disp(C(2,1),'Value of y=');"
   ]
   }
,
{
		   "cell_type": "markdown",
		   "metadata": {},
		   "source": [
			"## Example 2.6: Integration.sce"
		   ]
		  },
  {
"cell_type": "code",
	   "execution_count": null,
	   "metadata": {
	    "collapsed": true
	   },
	   "outputs": [],
"source": [
"//Example 2.6\n",
"//Integration\n",
"//Page no. 36\n",
"clc;clear;close;\n",
"disp(integrate('1/x','x',exp(-4),1),'Integration Value=');    //performing integration with respect to dx"
   ]
   }
],
"metadata": {
		  "kernelspec": {
		   "display_name": "Scilab",
		   "language": "scilab",
		   "name": "scilab"
		  },
		  "language_info": {
		   "file_extension": ".sce",
		   "help_links": [
			{
			 "text": "MetaKernel Magics",
			 "url": "https://github.com/calysto/metakernel/blob/master/metakernel/magics/README.md"
			}
		   ],
		   "mimetype": "text/x-octave",
		   "name": "scilab",
		   "version": "0.7.1"
		  }
		 },
		 "nbformat": 4,
		 "nbformat_minor": 0
}
