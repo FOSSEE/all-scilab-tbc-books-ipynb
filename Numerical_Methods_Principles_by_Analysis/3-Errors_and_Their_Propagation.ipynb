{
"cells": [
 {
		   "cell_type": "markdown",
	   "metadata": {},
	   "source": [
       "# Chapter 3: Errors and Their Propagation"
	   ]
	},
{
		   "cell_type": "markdown",
		   "metadata": {},
		   "source": [
			"## Example 3.1: Limiting_Error.sce"
		   ]
		  },
  {
"cell_type": "code",
	   "execution_count": null,
	   "metadata": {
	    "collapsed": true
	   },
	   "outputs": [],
"source": [
"//Example 3.1\n",
"//Limiting Error\n",
"//Page no. 45\n",
"clc;clear;close;\n",
"R=1000;\n",
"e=0.1*1000;        //limiting error calculation\n",
"printf('Magnitude of the Resistor resistence (R) =\n%i <= R <= %i',R-e,R+e)"
   ]
   }
,
{
		   "cell_type": "markdown",
		   "metadata": {},
		   "source": [
			"## Example 3.2: Known_Error.sce"
		   ]
		  },
  {
"cell_type": "code",
	   "execution_count": null,
	   "metadata": {
	    "collapsed": true
	   },
	   "outputs": [],
"source": [
"//Example 3.2\n",
"//Known Error\n",
"//Page no. 46\n",
"clc;clear;close;\n",
"l=28;d=5;\n",
"v=%pi*l*(d/2)^2;\n",
"printf('\nVolume of Cylinder= %f cu. cm',v);\n",
"re_d=0.1;re_l=-0.5;\n",
"re_v=2*re_d+re_l;               //relative error computation\n",
"printf('\n\nRelative error in volume= %f %%',re_v);"
   ]
   }
,
{
		   "cell_type": "markdown",
		   "metadata": {},
		   "source": [
			"## Example 3.3: Absolute_Relative_and_Percentage_Errors.sce"
		   ]
		  },
  {
"cell_type": "code",
	   "execution_count": null,
	   "metadata": {
	    "collapsed": true
	   },
	   "outputs": [],
"source": [
"//Example 3.3\n",
"//Absolute, Relative and Percetage Errors\n",
"//Page no. 48\n",
"clc;clear;close;\n",
"x=0.00006;x1=0.00005;\n",
"ex=x-x1;            //absolute error\n",
"Ex=ex/x1;       //relative error\n",
"px=100*Ex;     //percentage error  \n",
"printf('\nAbsolute Error= %f\nRelative Error= %f\nPercentage Error= %f %%',ex,Ex,px);"
   ]
   }
,
{
		   "cell_type": "markdown",
		   "metadata": {},
		   "source": [
			"## Example 3.4: Absolute_Relative_and_Percentage_Errors.sce"
		   ]
		  },
  {
"cell_type": "code",
	   "execution_count": null,
	   "metadata": {
	    "collapsed": true
	   },
	   "outputs": [],
"source": [
"//Example 3.4\n",
"//Absolute, Relative and Percetage Errors\n",
"//Page no. 48\n",
"clc;clear;close;\n",
"x=100500;x1=100000;\n",
"ex=x-x1;            //absolute error\n",
"Ex=ex/x1;       //relative error\n",
"px=100*Ex;     //percentage error  \n",
"printf('\nAbsolute Error= %f\nRelative Error= %f\nPercentage Error= %f %%',ex,Ex,px);"
   ]
   }
,
{
		   "cell_type": "markdown",
		   "metadata": {},
		   "source": [
			"## Example 3.5: Absolute_Relative_and_Percentage_Errors.sce"
		   ]
		  },
  {
"cell_type": "code",
	   "execution_count": null,
	   "metadata": {
	    "collapsed": true
	   },
	   "outputs": [],
"source": [
"//Example 3.5\n",
"//Absolute, Relative and Percentage Errors\n",
"//Page no. 52\n",
"clc;clear;close;\n",
"x=9.12345;y=7.654321;\n",
"x1=9.1234;y1=7.6543;      //on a 5 decimal computer\n",
"ex=x-x1;            //absolute error of x\n",
"ey=y-y1;            //absolute error of y\n",
"z1=x1+y1;\n",
"printf('\nAbsolute Error in x= %f',ex);\n",
"printf('\nAbsolute Error in y= %f',ey);\n",
"printf('\nAddition on a 5 decimal computer yields= %.5g',z1);\n",
"z2=16.777;\n",
"printf('\nAbsolute Total Error= %f',x+y-z2);\n",
"printf('\nAbsolute Propagated Error= %f',x+y-z1);\n",
"printf('\nAbsolute Round-off Error= %.4g',z1-z2);\n",
"printf('\nRealtive Total Error= %.4g',(x+y-z2)/(x+y));\n",
"printf('\nRelative Propagated Error= %.2g',(x+y-z1)/(x+y));\n",
"printf('\nRelative Round-off Error= %.3g',(z1-z2)/(x+y));\n",
"printf('\nBound on the propagated relative error= %f',2*10^-4);\n",
"printf('\nBound on the total relative error= %f',3*10^-4);\n",
"printf('\nAs we can see that both the propagated and total relative error are less than their bound values')"
   ]
   }
],
"metadata": {
		  "kernelspec": {
		   "display_name": "Scilab",
		   "language": "scilab",
		   "name": "scilab"
		  },
		  "language_info": {
		   "file_extension": ".sce",
		   "help_links": [
			{
			 "text": "MetaKernel Magics",
			 "url": "https://github.com/calysto/metakernel/blob/master/metakernel/magics/README.md"
			}
		   ],
		   "mimetype": "text/x-octave",
		   "name": "scilab",
		   "version": "0.7.1"
		  }
		 },
		 "nbformat": 4,
		 "nbformat_minor": 0
}
