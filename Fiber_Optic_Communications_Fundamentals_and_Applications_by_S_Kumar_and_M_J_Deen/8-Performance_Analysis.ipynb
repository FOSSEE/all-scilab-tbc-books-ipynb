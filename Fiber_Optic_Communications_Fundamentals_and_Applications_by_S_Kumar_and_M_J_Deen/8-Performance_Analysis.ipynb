{
"cells": [
 {
		   "cell_type": "markdown",
	   "metadata": {},
	   "source": [
       "# Chapter 8: Performance Analysis"
	   ]
	},
{
		   "cell_type": "markdown",
		   "metadata": {},
		   "source": [
			"## Example 8.2: EX8_2.sce"
		   ]
		  },
  {
"cell_type": "code",
	   "execution_count": null,
	   "metadata": {
	    "collapsed": true
	   },
	   "outputs": [],
"source": [
"// Example 8.1 \n",
"// Compuatation of error probability if the receiver is (a) a balanced homodyne or (b) a balanced heterodyne\n",
"// Page no. 354\n",
"\n",
"clc;\n",
"clear;\n",
"close;\n",
"\n",
"// Given data\n",
"Po=5;                  // Lunch peak power\n",
"fl=50;                 // Fiber loss\n",
"G=30;                  // Preamplifier Gain \n",
"f=10*10^9;\n",
"n=1.5;\n",
"h=6.63*10^-34;         // Planck constant\n",
"c=3*10^8;              // Velocity of light\n",
"lambda=1550*10^-9;\n",
"q=1.6*10^-19;           // Electron charge\n",
"R=0.9;\n",
"\n",
"// Signal calculation\n",
"Pr=Po-fl+G;\n",
"Pr=10^(Pr/10)*10^-3;\n",
"\n",
"Tb=1/(f);\n",
"E=Pr*Tb;\n",
"f1=c/lambda;\n",
"G=10^(G/10);\n",
"r=n*h*f1*(G-1);\n",
"//rs=q*I;\n",
"N=r+(q/(2*R));\n",
"Nh=r/2+(q/(2*R));\n",
"\n",
"// Error probability\n",
"// (a) For a balanced homodyne receiver with PSK signal\n",
"Ps=1/2*erfc(sqrt(E/N));\n",
"E1=E/2;\n",
"// If the signal is OOK\n",
"Pso=1/2*erfc(sqrt(E1/(2*N)));\n",
"\n",
"//(b) For a balanced heterodyne receiver with PSK signal\n",
"Pb=1/2*erfc(sqrt(E/(2*Nh)));\n",
"//E1=E/2;\n",
"// If the signal is OOK\n",
"Pbo=1/2*erfc(sqrt(E1/(4*Nh)));\n",
"\n",
"//Displaying the result in command window\n",
"printf('\n For a balanced homodyne receiver with PSK signal = %0.2f X 10^-9 ',Ps*10^9);\n",
"\n",
"printf('\n For a balanced homodyne receiver with PSK signal If the signal is OOK, = %0.2f X 10^-3',Pso*10^3);\n",
"printf('\n For a balanced heterodyne receiver with PSK signal = %0.3f X 10^-9',Pb*10^9);\n",
"printf('\n For a balanced heterodyne receiver with PSK signal If the signal is OOK,= %0.2f X 10^-3',Pbo*10^3);\n",
"\n",
"// The answer vary due to round off error\n",
"\n",
""
   ]
   }
,
{
		   "cell_type": "markdown",
		   "metadata": {},
		   "source": [
			"## Example 8.3: Calculation_of_the_maximum_transmission_distance.sce"
		   ]
		  },
  {
"cell_type": "code",
	   "execution_count": null,
	   "metadata": {
	    "collapsed": true
	   },
	   "outputs": [],
"source": [
"// Example 8.3\n",
"// Calculation of the maximum transmission distance.\n",
"// Page no 394\n",
"\n",
"clc;\n",
"clear;\n",
"close;\n",
"\n",
"//Given data\n",
"p=3;                                  // Peak power\n",
"tb=40*10^9;                           // Bit rate\n",
"c=3*10^8;                            // Velocity of light\n",
"lambda=1550*10^-9;                   // Operating frequency\n",
"l=0.2;                               // Loss\n",
"d=80;                                // Distance\n",
"G=16                                // Gain\n",
"h=6.626*10^-34                      // Planck constant\n",
"n=1;\n",
"pb=10^-5;                           // Error probability\n",
"l1=80*10^3;                         // N spans\n",
"\n",
"\n",
"// The maximum transmission distance\n",
"\n",
"p=p+10*log10(1/2);\n",
"p=10^(p/10)*10^-3;\n",
"t=1/(tb);\n",
"E=p*t;\n",
"f=c/lambda;\n",
"fl=l*d;\n",
"G=10^(G/10);\n",
"r=n*h*f*(G-1);   // Calculation is wrong in book.\n",
"//pb=1/2*(exp(-(E/r)));\n",
"N=-(E/(log(2*pb)*r));\n",
"\n",
"L=N*l1;\n",
"\n",
"// Displaying results in the command window            \n",
"printf('\n The maximum transmission distance = %0.2f km',L*10^-3);\n",
"\n",
"// In the book PSD per amplifier calcualation is wrong, therefore final answer is wrong."
   ]
   }
,
{
		   "cell_type": "markdown",
		   "metadata": {},
		   "source": [
			"## Example 8.6: EX8_6.sce"
		   ]
		  },
  {
"cell_type": "code",
	   "execution_count": null,
	   "metadata": {
	    "collapsed": true
	   },
	   "outputs": [],
"source": [
"// Example 8.6\n",
"// To find the mean number of signal photons required in a shot noise-limited coherent communication system based on OOK for the following cases: (i) balanced homodyne receiver; (ii)balanced heterodyne receiver (a) a balanced homodyne or (b) a balanced heterodyne\n",
"// Page no. 384\n",
"\n",
"clc;\n",
"clear;\n",
"close;\n",
"\n",
"// Given data\n",
"Pb=1*10^-9;                                         //Error probability\n",
"neta=1;                                          //quantum efficiency\n",
"\n",
"//a)for balanced homodyne receiver\n",
"Ns=(erfinv(1-(2*neta*Pb)))^2;\n",
"\n",
"//(b)for balanced heterodyne receiver\n",
"Ns1=(erfinv(1-(2*neta*Pb))*sqrt(2))^2;\n",
"\n",
"//Displaying the result in command window\n",
"printf('\n For a balanced homodyne receiver with PSK signal = %0.0f  ',Ns);\n",
"printf('\n For a balanced heterodyne receiver with PSK signal = %0.0f  ',Ns1);"
   ]
   }
],
"metadata": {
		  "kernelspec": {
		   "display_name": "Scilab",
		   "language": "scilab",
		   "name": "scilab"
		  },
		  "language_info": {
		   "file_extension": ".sce",
		   "help_links": [
			{
			 "text": "MetaKernel Magics",
			 "url": "https://github.com/calysto/metakernel/blob/master/metakernel/magics/README.md"
			}
		   ],
		   "mimetype": "text/x-octave",
		   "name": "scilab",
		   "version": "0.7.1"
		  }
		 },
		 "nbformat": 4,
		 "nbformat_minor": 0
}
