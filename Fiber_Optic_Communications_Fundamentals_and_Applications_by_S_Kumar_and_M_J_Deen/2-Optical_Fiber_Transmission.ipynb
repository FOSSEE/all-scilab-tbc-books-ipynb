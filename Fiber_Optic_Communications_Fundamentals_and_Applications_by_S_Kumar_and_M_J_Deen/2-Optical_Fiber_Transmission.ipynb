{
"cells": [
 {
		   "cell_type": "markdown",
	   "metadata": {},
	   "source": [
       "# Chapter 2: Optical Fiber Transmission"
	   ]
	},
{
		   "cell_type": "markdown",
		   "metadata": {},
		   "source": [
			"## Example 2.10: To_design_single_mode_fiber_such_that_absolute_accumulated_dispersion.sce"
		   ]
		  },
  {
"cell_type": "code",
	   "execution_count": null,
	   "metadata": {
	    "collapsed": true
	   },
	   "outputs": [],
"source": [
"// Example no. 2.10\n",
"// To design single mode fiber such that absolute accumulated dispersion should not exceed 1100ps/nm\n",
"// Page no. 77\n",
"\n",
"clc;\n",
"clear;\n",
"\n",
"// Given data\n",
"lambda1=1530;                              // Left edge of wavelength range in nm\n",
"lambda2=1560;                              // Rigth edge of wavelength range in nm\n",
"lambda0=1545;                              // Center of the band in nm\n",
"L=80;                                     // Fiber length in km\n",
"\n",
"disp('We choose center of band (lambda_0) for large maximum allowable dispersion slope.');\n",
"\n",
"Dlambda2=1100/L;                         // Dispersion at rigth edge of band in ps/nm/km\n",
"S=Dlambda2/(lambda2-lambda0);            // Dispersion slope in ps/nm^2/km\n",
"\n",
"// Displaying the result in command window\n",
"printf('\n Dispersion slope = %0.3f ps/nm^2/km',S);"
   ]
   }
,
{
		   "cell_type": "markdown",
		   "metadata": {},
		   "source": [
			"## Example 2.11: To_find_length_of_DCF_power_at_the_output_of_DCF_gain_of_amplifier.sce"
		   ]
		  },
  {
"cell_type": "code",
	   "execution_count": null,
	   "metadata": {
	    "collapsed": true
	   },
	   "outputs": [],
"source": [
"// Example no.2.11\n",
"// To find a)length of DCF b)power at the output of DCF c)gain of amplifier\n",
"// Page no.80\n",
"\n",
"clc;\n",
"clear;\n",
"\n",
"// Given data\n",
"LTF=80;                                                    // Length of transmission fiber\n",
"beta2TF=-21;                                               // Dispersion of transmission fiber in ps^2/km\n",
"beta2DCF=130;                                              // Dispersion of DCF in ps^2/km\n",
"Pin=2*10^(-3);                                             // Input power of transmission fiber in W\n",
"DCFloss=0.5;                                               // Losses of DCF in dB/km\n",
"TFloss=0.2;                                                // Losses of TF in dB/km\n",
"spliceloss=0.5;                                            // Splice loss in dB\n",
"\n",
"// a)To find length of DCF\n",
"LDCF=(-beta2TF*LTF)/beta2DCF;                             // Length of DCF in km\n",
"\n",
"// Displaying the result in command window\n",
"printf('\n Length of DCF = %0.1f km',LDCF);\n",
"\n",
"// b)To find power at the output of DCF\n",
"PindBm=10*log10(Pin/10^(-3));                            // Input power of transmission fiber in dBm\n",
"Totalloss=TFloss*LTF+DCFloss*LDCF+spliceloss;            // Total loss in fiber in dB\n",
"PoutdBm=PindBm-Totalloss;                                // Output power of DCF in dBm\n",
"\n",
"// Displaying the result in command window\n",
"printf('\n Output power of DCF = %0.2f dBm',PoutdBm);\n",
"\n",
"// c)To find gain of amplifier\n",
"gain=Totalloss;                                        // gain of amplifier\n",
"\n",
"// Displaying the result in command window\n",
"printf('\n Gain of amplifier = %0.2f dBm',gain);\n",
""
   ]
   }
,
{
		   "cell_type": "markdown",
		   "metadata": {},
		   "source": [
			"## Example 2.12: To_find_the_delay_between_the_shortest_and_longest_path.sce"
		   ]
		  },
  {
"cell_type": "code",
	   "execution_count": null,
	   "metadata": {
	    "collapsed": true
	   },
	   "outputs": [],
"source": [
"// Example no. 2.12\n",
"// To find the delay between the shortest and longest path.\n",
"// Page no. 81\n",
"\n",
"clc;\n",
"clear;\n",
"\n",
"// Given data\n",
"NA=0.2;                                         // Numerical aperture\n",
"L=2*10^3;                                       // Fiber length in meters\n",
"n1=1.45;                                        // Core refractive index\n",
"delta=(NA)^2/(2*n1^2);                          // Relative index difference\n",
"n2=n1;                                          // since difference between core index and cladding index is smaller\n",
"c=3*10^8;                                       // Speed of ligth in m/s\n",
"\n",
"// The delay between the shortest and longest path.\n",
"deltaT=((n1^2*L*delta)/(c*n2));                // the delay between the shortest and longest path.\n",
"\n",
"// Displaying the result in command window\n",
"printf('\n The delay between the shortest and longest path = %0.2f ns',deltaT*10^9);"
   ]
   }
,
{
		   "cell_type": "markdown",
		   "metadata": {},
		   "source": [
			"## Example 2.13: To_calculate_the_propagation_constant.sce"
		   ]
		  },
  {
"cell_type": "code",
	   "execution_count": null,
	   "metadata": {
	    "collapsed": true
	   },
	   "outputs": [],
"source": [
"// Example no. 2.13\n",
"// To calculate the propagation constant\n",
"// Page no. 82\n",
"\n",
"clc;\n",
"clear;\n",
"\n",
"// Given data\n",
"lambda0=1550*10^-9;                                          // wavelength in meter\n",
"beta0=6*10^6;                                                // propagation constant in rad/m\n",
"lambda1=1551*10^-9;                                          // wavelength in meter\n",
"beta1=0.5*10^-8;                                             // inverse group velocity in sec/meter\n",
"beta2=-10*10^-24;                                            // second-order dispersion coefficient in sec^2/km\n",
"c=3*10^8;                                                    // Speed of ligth in m/s\n",
"omega0=(2*%pi*c)/lambda0;                                    // Radial frequency at lambda0\n",
"omega1=(2*%pi*c)/lambda1;                                    // Radial frequency at lambda1\n",
"omega=omega1-omega0;\n",
"\n",
"// The propagation constant at 1551nm wavelength\n",
"betaomega1=(beta0+beta1*omega+beta2*omega^2/2);        // Propagation constant at 1551nm wavelength\n",
"\n",
"// Displaying the result in command window\n",
"printf('\n The propagation constant at 1551nm wavelength = %0.4f X 10^6 rad/s',betaomega1*10^-6);\n",
""
   ]
   }
,
{
		   "cell_type": "markdown",
		   "metadata": {},
		   "source": [
			"## Example 2.14: To_calculate_the_lower_limit_on_the_transmitter_power_in_dBm_and_mW_units.sce"
		   ]
		  },
  {
"cell_type": "code",
	   "execution_count": null,
	   "metadata": {
	    "collapsed": true
	   },
	   "outputs": [],
"source": [
"// Example No. 2.14\n",
"// To calculate the lower limit on the transmitter power in dBm and mW units.\n",
"// Page No. 83\n",
"\n",
"clc;\n",
"clear;\n",
"\n",
"// Given data\n",
"l=80;                                             // Length of fiber in km\n",
"F1=-0.2*l;                                        // Fiber loss in dB\n",
"F2=-0.5;                                          // Filter loss in dB\n",
"G=15;                                             // Amplifier gain in dB\n",
"Pout=-3;                                          // Minimum power required at the receiver in dBm\n",
"\n",
"// Lower limit on the transmitter power\n",
"Pin=Pout-F1-F2-G;                                 // Lower limit on the transmitter power in dBm\n",
"PinmW=10^(0.1*Pin);                               // Lower limit on the transmitter power in mW\n",
"\n",
"// Displaying the result in command window\n",
"printf('\n The lower limit on the transmitter power in dBm = %0.1f',Pin);\n",
"printf('\n The lower limit on the transmitter power in mW = %0.4f',PinmW);\n",
""
   ]
   }
,
{
		   "cell_type": "markdown",
		   "metadata": {},
		   "source": [
			"## Example 2.16: EX2_16.sce"
		   ]
		  },
  {
"cell_type": "code",
	   "execution_count": null,
	   "metadata": {
	    "collapsed": true
	   },
	   "outputs": [],
"source": [
"// Example No. 2.16\n",
"// To find the length of DCF so that the pulse width (FWHM) at the output of the DCF is twice the pulse width at the input of the TF\n",
"// Page No. 84\n",
"\n",
"clc;\n",
"clear;\n",
"\n",
"// Given data\n",
"beta2TF=-21*(10^(-12))^2;                                    // Dispersion coefficient of transmission fiber in s^2/km\n",
"beta2DCF=130*(10^(-12))^2;                                   // Dispersion coefficient of dispersion compensating fiber in s^2/km\n",
"LTF=80;                                                  // Length of transmission fiber in km\n",
"TFWHM=12.5*10^(-12);                                     // Full-width at half-maximum\n",
"T0=TFWHM/1.665;                                          // Half-width\n",
"\n",
"// The length of required DCF\n",
"LDCF1=(sqrt(3)*T0^2-beta2TF*LTF)/beta2DCF;                // Length of dispersion compensating fiber in km\n",
"LDCF2=(-sqrt(3)*T0^2-beta2TF*LTF)/beta2DCF;               // Length of dispersion compensating fiber in km\n",
"\n",
"// Displaying the result in command window\n",
"printf('\n The length of DCF so that the pulse width (FWHM) at the output of the DCF is twice the pulse width at the input of the TF = %0.2f km',LDCF1);\n",
"printf(' or = %0.2f km',LDCF2);"
   ]
   }
,
{
		   "cell_type": "markdown",
		   "metadata": {},
		   "source": [
			"## Example 2.17: EX2_17.sce"
		   ]
		  },
  {
"cell_type": "code",
	   "execution_count": null,
	   "metadata": {
	    "collapsed": true
	   },
	   "outputs": [],
"source": [
"// Example No. 2.17\n",
"// To find the accumulated dispersion of the DCF so that the net accumulated dispersion does not exceed 1100 ps/nm\n",
"// Page no. 85\n",
"\n",
"clc;\n",
"clear;\n",
"\n",
"// Given data\n",
"lambda0=1490;                                                    // Zero dispersion wavelength in nm\n",
"lambda=1560;                                                     // Upper limit of wavelength range in nm\n",
"Sc=0.08;                                                         // Dispersion slope of transmission fiber ps/nm2/km\n",
"LTF=800;                                                         // Length of transmission fiber in km\n",
"DTF=Sc*(lambda-lambda0);                                         // Dispersion at 1560 nm in ps/nm/km\n",
"\n",
"// The accumulated dispersion of the DCF\n",
"DLDCF=1100-DTF*LTF;                                              // The accumulated dispersion of the DCF in ps/nm\n",
"\n",
"// Displaying the result in command window\n",
"printf('\n The accumulated dispersion of the DCF should be less than %0.0f ps/nm',DLDCF);"
   ]
   }
,
{
		   "cell_type": "markdown",
		   "metadata": {},
		   "source": [
			"## Example 2.1: EX2_1.sce"
		   ]
		  },
  {
"cell_type": "code",
	   "execution_count": null,
	   "metadata": {
	    "collapsed": true
	   },
	   "outputs": [],
"source": [
"// Example no. 2.1\n",
"// To find a)The numerical aperture b)The acceptanca angle c)The relative index defference\n",
"// Page no. 38\n",
"\n",
"clc;\n",
"clear;\n",
"\n",
"// Given data\n",
"n1=1.47;                                  // Refractive index of core\n",
"n2=1.45;                                  // Refractive index of cladding\n",
"\n",
"// a)The numerical aperture\n",
"NA=(n1^2-n2^2)^(1/2);                    // Numerical aperture\n",
"\n",
"// Displaying the result in command window\n",
"printf('\n The numerical aperture = %0.4f',NA);\n",
"\n",
"// b)The acceptanca angle\n",
"imax=asin(NA);                          // The acceptanca angle\n",
"\n",
"// Displaying the result in command window\n",
"printf('\n The acceptanca angle = %0.4f Radian',imax);\n",
"\n",
"// c)The relative index defference\n",
"delta=(n1-n2)/n1;                      // Relative index defference\n",
"\n",
"// Displaying the result in command window\n",
"printf('\n The relative index defference = %0.4f',delta);"
   ]
   }
,
{
		   "cell_type": "markdown",
		   "metadata": {},
		   "source": [
			"## Example 2.2: To_find_maximum_bit_rate_distance_product.sce"
		   ]
		  },
  {
"cell_type": "code",
	   "execution_count": null,
	   "metadata": {
	    "collapsed": true
	   },
	   "outputs": [],
"source": [
"// Example no. 2.2\n",
"// To find maximum bit-rate distance product\n",
"// Page no. 41\n",
"\n",
"clc;\n",
"clear;\n",
"\n",
"// Given data\n",
"n1=1.46;                                               // Refractive index of core\n",
"delta=0.01;                                            // Relative difference of refractive index\n",
"L=1*10^3;                                              // Fiber length\n",
"c=3*10^(8);                                            // Speed of ligth in km/sec\n",
"\n",
"n2=n1*(1-delta);                                       // Refractive index of cladding\n",
"deltaT=(n1^2*L*delta)/(c*n2);                          // Delay in sec\n",
"BL=(((c*n2)/(n1^2*delta))/10^3)*10^-6;                 // maximum bit-rate distance product in Mb/s.km\n",
"deltaT=((n1^2*L*delta)/(c*n2))*10^9;                   // Delay in ns\n",
"\n",
"// Displaying the result in command window\n",
"printf('\n Refractive index of cladding = %0.4f',n2);\n",
"printf('\n Delay = %0.0f ns',deltaT);\n",
"printf('\n Approximate delay = %0.0f ns',deltaT+1);\n",
"printf('\n Maximum bit-rate distance product = %0.1f Mb/(s.km)',BL);\n",
""
   ]
   }
,
{
		   "cell_type": "markdown",
		   "metadata": {},
		   "source": [
			"## Example 2.3: To_compare_deltaT_for_step_index_fiber_with_parabolic_index_fiber.sce"
		   ]
		  },
  {
"cell_type": "code",
	   "execution_count": null,
	   "metadata": {
	    "collapsed": true
	   },
	   "outputs": [],
"source": [
"// Example no.2.3\n",
"// To compare deltaT for step index fiber with parabolic-index fiber\n",
"// Page no. 43\n",
"\n",
"clc;\n",
"clear;\n",
"\n",
"// Given data\n",
"n1=1.47;                                           // Refractive index of core\n",
"n2=1.45;                                           // Refractive index of cladding\n",
"L=1*10^3;                                          // Length of medium in meter\n",
"c=3*10^8;                                          // speedof ligth in (m/s)\n",
"delta=(n1-n2)/n1;\n",
"\n",
"// The deltaT for step index fiber\n",
"deltaTSIF=((n1^2*L*delta)/(c*n2))*10^9;            //Pulse width for step index fiber\n",
"\n",
"// deltaT for parabolic-index fiber\n",
"deltaTPIF=((n1^2*delta^2*L)/(8*c))*10^9;          // Pulse width for parabolic-index fiber\n",
"\n",
"// Displaying the result in command window\n",
"printf('\n Pulse width for step index fiber = %0.2f ns',deltaTSIF);\n",
"printf('\n Pulse width for parabolic index fiber = %0.4f ns',deltaTPIF);\n",
"\n",
"// The answer of pulse width for parabolic index fiber is wrong in book\n",
"\n",
"disp('Thus, the intermodal dispersion can be significantly reduced by using parabolic-index fiber');"
   ]
   }
,
{
		   "cell_type": "markdown",
		   "metadata": {},
		   "source": [
			"## Example 2.4: To_convert_transmitted_power_into_dBm_To_convert_received_power_into_mW.sce"
		   ]
		  },
  {
"cell_type": "code",
	   "execution_count": null,
	   "metadata": {
	    "collapsed": true
	   },
	   "outputs": [],
"source": [
"// Example 2.4\n",
"// a)To convert transmitted power into dBm b)To convert received power into mW\n",
"// Page no. 61\n",
"\n",
"clc;\n",
"clear;\n",
"\n",
"// Given data\n",
"Ptr=0.012;                               // Transmitted power in watt \n",
"PrdBm=-5;                                // Received power in dBm\n",
"\n",
"// a)To convert transmitted power into dBm\n",
"PtrdBm=10*log10(Ptr/(10^-3));            // Transmitted power in dBm\n",
"\n",
"// Displaying the result in command window\n",
"printf('\n Transmitted power = %0.2f dBm',PtrdBm);\n",
"\n",
"// b)To convert received power into mW\n",
"PrmW=10^(-5/10);                        // Received power in mW\n",
"\n",
"// Displaying the result in command window\n",
"printf('\n Received power = %0.4f mW',PrmW);"
   ]
   }
,
{
		   "cell_type": "markdown",
		   "metadata": {},
		   "source": [
			"## Example 2.7: To_find_the_core_radius_of_step_index_fiber.sce"
		   ]
		  },
  {
"cell_type": "code",
	   "execution_count": null,
	   "metadata": {
	    "collapsed": true
	   },
	   "outputs": [],
"source": [
"// Example no.2.7\n",
"// To find the core radius of step-index fiber\n",
"// Page no.69\n",
"\n",
"clc;\n",
"clear;\n",
"\n",
"// Given data\n",
"n1=1.45;                                                         // Refractive index of core\n",
"delta=0.005;\n",
"n2=n1*(1-delta);                                                 // Refractive index of cladding\n",
"lambdac=1.1;                                                     // Cutoff wavelength in meter\n",
"lambda=1.55;                                                     // Operating wavelength in micrometer\n",
"a=((2.4048*lambdac*10^-6)/(2*%pi*(n1^2-n2^2)^(1/2)))/10^-6;      // Core radius\n",
"\n",
"//Displaying the result in command window\n",
"printf('\n The core radius of step-index fiber = %0.3f micrometer',a);\n",
"printf('\n Operating wavelength = %0.2f micrometer',lambda);\n",
"printf('\n Cutoff wavelength = %0.1f micrometer',lambdac);\n",
"\n",
"disp('Since operating wavelength is greater than cutoff wavelength, it is single moded at this wavelength.')"
   ]
   }
,
{
		   "cell_type": "markdown",
		   "metadata": {},
		   "source": [
			"## Example 2.8: To_find_the_total_loss_and_output_power_in_mW_and_dBm_in_fiber.sce"
		   ]
		  },
  {
"cell_type": "code",
	   "execution_count": null,
	   "metadata": {
	    "collapsed": true
	   },
	   "outputs": [],
"source": [
"// Example no 2.8\n",
"// To find the total loss and output power in mW and dBm in fiber\n",
"// Page no. 72\n",
"\n",
"clc;\n",
"clear;\n",
"\n",
"// Given data\n",
"losscoe=0.046;                                 // Loss coefficient in km^-1\n",
"L=80;                                          // Length of fiber in km\n",
"PindBm=3;                                      // Input power in dBm\n",
"\n",
"// To find total loss of fiber\n",
"loss=round(4.343*losscoe*L);                   // Total loss in fiber\n",
"\n",
"// Displaying the result in command window\n",
"printf('\n Total loss in fiber = %0.0f dB',loss);\n",
"\n",
"// To find output power \n",
"PoutdBm=PindBm-loss;                           // Output power in dBm\n",
"\n",
"PoutmW=10^(PoutdBm/10);                        // Output power in mW\n",
"\n",
"//Displaying the result in command window\n",
"printf('\n Output power of fiber = %0.0f dBm',PoutdBm);\n",
"printf('\n Output power of fiber = %0.2f mW',PoutmW);"
   ]
   }
],
"metadata": {
		  "kernelspec": {
		   "display_name": "Scilab",
		   "language": "scilab",
		   "name": "scilab"
		  },
		  "language_info": {
		   "file_extension": ".sce",
		   "help_links": [
			{
			 "text": "MetaKernel Magics",
			 "url": "https://github.com/calysto/metakernel/blob/master/metakernel/magics/README.md"
			}
		   ],
		   "mimetype": "text/x-octave",
		   "name": "scilab",
		   "version": "0.7.1"
		  }
		 },
		 "nbformat": 4,
		 "nbformat_minor": 0
}
