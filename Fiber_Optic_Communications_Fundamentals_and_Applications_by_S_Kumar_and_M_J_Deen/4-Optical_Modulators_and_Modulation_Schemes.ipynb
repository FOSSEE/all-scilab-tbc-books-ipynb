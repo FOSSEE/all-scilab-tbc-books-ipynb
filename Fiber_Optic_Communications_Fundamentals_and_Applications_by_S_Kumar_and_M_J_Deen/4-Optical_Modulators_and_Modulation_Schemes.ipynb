{
"cells": [
 {
		   "cell_type": "markdown",
	   "metadata": {},
	   "source": [
       "# Chapter 4: Optical Modulators and Modulation Schemes"
	   ]
	},
{
		   "cell_type": "markdown",
		   "metadata": {},
		   "source": [
			"## Example 4.2: To_calculate_the_voltage_required_to_introduce_a_phase_shift.sce"
		   ]
		  },
  {
"cell_type": "code",
	   "execution_count": null,
	   "metadata": {
	    "collapsed": true
	   },
	   "outputs": [],
"source": [
"// Example no.4.2\n",
"// To calculate the voltage required to introduce a phase shift of pi/2.\n",
"// Page no.152\n",
"\n",
"clc;\n",
"clear;\n",
"\n",
"// Given data\n",
"lambda0=1530*10^-9;                                  // An electro-optic modulator operating wavelength\n",
"d=10*10^-6;                                          // Thickness\n",
"L=5*10^-2;                                           // Length\n",
"n0=2.2;                                              // Refractive index\n",
"r33=30*10^-12;                                       // Pockel coefficient in m/V\n",
"deltaphi=%pi/2;                                      // Phase shift\n",
"V=(deltaphi*lambda0*d)/(%pi*L*n0^3*r33);             // The voltage required to introduce a phase shift of pi/2\n",
"\n",
"//Displaying the result in command window\n",
"printf('\n The voltage required to introduce a phase shift of pi/2 = %0.2f V',V);"
   ]
   }
],
"metadata": {
		  "kernelspec": {
		   "display_name": "Scilab",
		   "language": "scilab",
		   "name": "scilab"
		  },
		  "language_info": {
		   "file_extension": ".sce",
		   "help_links": [
			{
			 "text": "MetaKernel Magics",
			 "url": "https://github.com/calysto/metakernel/blob/master/metakernel/magics/README.md"
			}
		   ],
		   "mimetype": "text/x-octave",
		   "name": "scilab",
		   "version": "0.7.1"
		  }
		 },
		 "nbformat": 4,
		 "nbformat_minor": 0
}
