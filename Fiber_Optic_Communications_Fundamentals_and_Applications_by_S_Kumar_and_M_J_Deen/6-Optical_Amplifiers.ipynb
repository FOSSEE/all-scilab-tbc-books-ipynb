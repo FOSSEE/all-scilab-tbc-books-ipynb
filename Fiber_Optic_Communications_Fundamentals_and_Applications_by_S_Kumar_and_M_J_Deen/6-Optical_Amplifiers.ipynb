{
"cells": [
 {
		   "cell_type": "markdown",
	   "metadata": {},
	   "source": [
       "# Chapter 6: Optical Amplifiers"
	   ]
	},
{
		   "cell_type": "markdown",
		   "metadata": {},
		   "source": [
			"## Example 6.12: Calculation_of_the_ASE_power_spectral_density_per_polarization.sce"
		   ]
		  },
  {
"cell_type": "code",
	   "execution_count": null,
	   "metadata": {
	    "collapsed": true
	   },
	   "outputs": [],
"source": [
"// Example 6.12\n",
"// Calculation of the ASE power spectral density per polarization.\n",
"// Page no 296\n",
"\n",
"clc;\n",
"clear;\n",
"close;\n",
"\n",
"//Given data\n",
"\n",
"si=30;                // Electrical SNRs at the amplifier input\n",
"so=25;               // Electrical SNRs at the amplifier output\n",
"po=2;                // Signal power at output \n",
"pi=-13;             // Signal power at input \n",
"h=6.626*10^-34;     // Planck constant\n",
"f=195*10^12;\n",
"\n",
"// The ASE power spectral density per polarization\n",
"fn=si-so;\n",
"fn=10^(fn/10);\n",
"G=po-pi;\n",
"G=10^(G/10);\n",
"r=(h*f*(G*fn-1))/2;\n",
"r=r*10^18;\n",
"\n",
"//Displaying results in the command window            \n",
"printf('\n The ASE power spectral density per polarization = %0.3f x 10^-18 W/Hz ',r);\n",
"\n",
"\n",
""
   ]
   }
,
{
		   "cell_type": "markdown",
		   "metadata": {},
		   "source": [
			"## Example 6.13: Calculation_of_the_geometric_mean_of_the_facet_reflectivity_R.sce"
		   ]
		  },
  {
"cell_type": "code",
	   "execution_count": null,
	   "metadata": {
	    "collapsed": true
	   },
	   "outputs": [],
"source": [
"// Example 6.13\n",
"// Calculation of the geometric mean of the facet reflectivity R\n",
"// Page no 296\n",
"\n",
"clc;\n",
"clear;\n",
"close;\n",
"\n",
"//Given data\n",
"Gm=20;\n",
"G1=5;\n",
"\n",
"// The geometric mean of the facet reflectivity R\n",
"Gmax=10^(Gm/10);                    // Peak Gain\n",
"Gs=10^(G1/10);                      // Single pass gain\n",
"R=(sqrt(Gs)-10)/(sqrt(Gs)-Gs*10);\n",
"\n",
"\n",
"\n",
"\n",
"//Displaying results in the command window            \n",
"printf('\n The geometric mean of the facet reflectivity R = %0.3f  ',R);\n",
"\n",
"\n",
""
   ]
   }
,
{
		   "cell_type": "markdown",
		   "metadata": {},
		   "source": [
			"## Example 6.14: Calculation_of_the_upper_bound_on_the_single_pass_gain.sce"
		   ]
		  },
  {
"cell_type": "code",
	   "execution_count": null,
	   "metadata": {
	    "collapsed": true
	   },
	   "outputs": [],
"source": [
"// Example 6.13\n",
"// Calculation of the upper bound on the single-pass gain\n",
"// Page no 297\n",
"\n",
"clc;\n",
"clear;\n",
"close;\n",
"\n",
"//Given data\n",
"\n",
"n=3.5;                    // Refractive index\n",
"c1=3*10^8;                // Velocity of light\n",
"L=200*10^-6;             // Amplifier length\n",
"a=0.09;\n",
"b=-(1.2*0.1805^2+0.6);\n",
"c=1;\n",
"\n",
"// The geometric mean of the facet reflectivity R\n",
"f=c1/(2*n*L);\n",
"\n",
"x1 =( -1*b+ sqrt ((b ^2) -4*a*c)) /(2* a); // 1 s t r o o t\n",
"x2 =( -1*b- sqrt ((b ^2) -4*a*c)) /(2* a); // 2nd r o o t\n",
"\n",
"\n",
"\n",
"//Displaying results in the command window            \n",
"printf('\n The geometric mean of the facet reflectivity R = %0.2f GHz ',f*10^-9);\n",
"printf('\n The upper bound on the single-pass gain Gs = %0.2f or  ',x1);\n",
"printf('\n The upper bound on the single-pass gain Gs = %0.2f  ',x2);\n",
"\n",
"\n",
"// The answers vary due to round off error"
   ]
   }
,
{
		   "cell_type": "markdown",
		   "metadata": {},
		   "source": [
			"## Example 6.1: Calculation_of_the_gain.sce"
		   ]
		  },
  {
"cell_type": "code",
	   "execution_count": null,
	   "metadata": {
	    "collapsed": true
	   },
	   "outputs": [],
"source": [
"// Example 6.1\n",
"// Calculation of the gain\n",
"// Page no 249\n",
"\n",
"clc;\n",
"clear;\n",
"close;\n",
"\n",
"//Given data\n",
"\n",
"n=1.5;                    // Refractive ondex of air\n",
"lambda=1550*10^-9;        // Wavelength \n",
"c=3*10^8;                 // Velocity of light\n",
"p=5.73*10^-17;            // Power spectral density\n",
"h=6.63*10^-34             // Planck constant\n",
"\n",
"\n",
"// Gain\n",
"f=c/lambda;\n",
"\n",
"G=(p/(2*n*h*f))+1;\n",
"\n",
"//Displaying results in the command window            \n",
"printf('\n Gain G = %0.0f  ',G);\n",
"\n",
"\n",
"\n",
"\n",
""
   ]
   }
,
{
		   "cell_type": "markdown",
		   "metadata": {},
		   "source": [
			"## Example 6.2: Calculation_of_the_variance_of_the_signal_ASE_beat_noise.sce"
		   ]
		  },
  {
"cell_type": "code",
	   "execution_count": null,
	   "metadata": {
	    "collapsed": true
	   },
	   "outputs": [],
"source": [
"// Example 6.2\n",
"// Calculation of the variance of the signal–ASE beat noise\n",
"// Page no 255\n",
"\n",
"clc;\n",
"clear;\n",
"close;\n",
"\n",
"//Given data\n",
"\n",
"a=1.3*10^-16;                 // PSD of an amplifier\n",
"f=7*10^9;                    // Cut off frequency\n",
"Pi=10*10^-6;                 // Input power\n",
"R=0.8;                      // Responsivity\n",
"G=20;                       // Gain of an amplifier\n",
"\n",
"// The variance of the signal–ASE beat noise\n",
"G=10^(G/10);\n",
"P=G*Pi;\n",
"\n",
"r=4*R^2*P*a*f;\n",
"r=r*10^9;\n",
"\n",
"\n",
"\n",
"\n",
"//Displaying results in the command window            \n",
"printf('\n The variance of the signal–ASE beat noise current is = %0.2f x 10^-9  A^2',r);\n",
"\n",
"\n",
"// The answers vary due to round off error"
   ]
   }
,
{
		   "cell_type": "markdown",
		   "metadata": {},
		   "source": [
			"## Example 6.3: EX6_3.sce"
		   ]
		  },
  {
"cell_type": "code",
	   "execution_count": null,
	   "metadata": {
	    "collapsed": true
	   },
	   "outputs": [],
"source": [
"// Example 6.3\n",
"// Calculation of the (a) the variance of the signal–ASE beat noise current, (b) the variance of the ASE–ASE beat noise current, and (c) the total variance.\n",
"// Page no 257\n",
"\n",
"clc;\n",
"clear;\n",
"close;\n",
"\n",
"//Given data\n",
"\n",
"G=30;       // Gain\n",
"\n",
"nsp=5;\n",
"R=0.8;\n",
"f1=16*10^9;\n",
"fe=9*10^9;\n",
"//Pi1=-60;\n",
"c=3*10^8;             // Velocity of light\n",
"h=6.63*10^-34        // Planck constant\n",
"lambda=1530*10^-9;   // Wavelegth\n",
"Pi1=-27;            // Input power\n",
"Pi2=-60;\n",
"f0=16*10^9;\n",
"\n",
"\n",
"//(a) The variance of the signal–ASE beat noise current for Pin=-27dBm\n",
"Po=G+Pi1;\n",
"Po=10^(Po/10);\n",
"Po=Po*10^-3;\n",
"G=10^(G/10);\n",
"f=c/lambda;\n",
"r=nsp*h*f*(G-1);\n",
"B=8*10^9;\n",
"//B=min(f/2,fe);\n",
"r0=4*R^2*Po*r*B;\n",
"//r0=r0*10^12;\n",
"\n",
"//(b) The variance of the ASE–ASE beat noise current\n",
"\n",
"r1=R^2*r^2*((2*f0)-fe)*fe;\n",
"\n",
"//r1=r1*10^11;\n",
"// (c) The total variance.\n",
"\n",
"rt=r0+r1;\n",
"\n",
"// Displaying results in the command window            \n",
"printf('\n (a) The variance of the signal–ASE beat noise current for Pin=-27dBm');\n",
"\n",
"printf('\n The variance of the signal–ASE beat noise current = %0.2f x 10^-8 A^2',r0*10^8);\n",
"printf('\n The variance of the ASE–ASE beat noise current = %0.2f x 10^-11 A^2',r1*10^11);\n",
"\n",
"printf('\n The total variance = %0.3f x 10^-8 A^2',rt*10^8);\n",
"// The answers vary due to round off error\n",
"\n",
"\n",
"//Given data\n",
"\n",
"G=30;       // Gain\n",
"nsp=5;\n",
"R=0.8;       // \n",
"f1=16*10^9;\n",
"fe=9*10^9;\n",
"//Pi1=-60;\n",
"c=3*10^8;    // Velocity of light\n",
"h=6.63*10^-34    // Planck constant\n",
"lambda=1530*10^-9;  // Wavelegth\n",
"Pi1=-27;              // Input power\n",
"Pi2=-60;\n",
"f0=16*10^9;\n",
"\n",
"//(b) The variance of the signal–ASE beat noise current for Pin=-60dBm\n",
"Po2=G+Pi2;\n",
"Po=10^(Po2/10);\n",
"Po=Po*10^-3;\n",
"G=10^(G/10);\n",
"f=c/lambda;\n",
"r=nsp*h*f*(G-1);\n",
"B=8*10^9;\n",
"//B=min(f/2,fe);\n",
"r0=4*R^2*Po*r*B;\n",
"//r0=r0*10^12;\n",
"\n",
"//(b) The variance of the ASE–ASE beat noise current\n",
"\n",
"r1=R^2*r^2*((2*f0)-fe)*fe;\n",
"\n",
"//r1=r1*10^11;\n",
"// (c) The total variance.\n",
"\n",
"rt=r0+r1;\n",
"\n",
"// Displaying results in the command window            \n",
"printf('\n \n (b) The variance of the signal–ASE beat noise current for Pin=-60dBm');\n",
"\n",
"printf('\n The variance of the signal–ASE beat noise current = %0.2f x 10^-11 A^2',r0*10^11);\n",
"printf('\n The variance of the ASE–ASE beat noise current = %0.2f x 10^-11 A^2',r1*10^11);\n",
"\n",
"printf('\n The total variance = %0.2f x 10^-11 A^2 ',rt*10^11);"
   ]
   }
,
{
		   "cell_type": "markdown",
		   "metadata": {},
		   "source": [
			"## Example 6.4: Calculation_of_the_amplifier_gain.sce"
		   ]
		  },
  {
"cell_type": "code",
	   "execution_count": null,
	   "metadata": {
	    "collapsed": true
	   },
	   "outputs": [],
"source": [
"// Example 6.4\n",
"// Calculation of the amplifier gain\n",
"// Page no 262\n",
"\n",
"clc;\n",
"clear;\n",
"close;\n",
"\n",
"//Given data\n",
"\n",
"Po=0;                   // Signal output of amplifier\n",
"//f=7*10^9;             // Cut off frequency\n",
"B=7.5*10^9;             // Bandwidth\n",
"R=0.9;                  // Responsivity\n",
"c=3*10^8;               // Velocity of light\n",
"lambda=1550*10^-9;      // Operating frequency\n",
"fn=4.5;                 // Noise figure\n",
"Ro=0.066*10^-3;         // Beat noise current\n",
"h=6.626*10^-34;         // Planck constant\n",
"\n",
"// The amplifier gain\n",
"P=10^(Po/10)*10^-3;\n",
"r=Ro^2/(4*R^2*B*P);\n",
"fn=10^(fn/10);\n",
"f=c/lambda;\n",
"G=(1/fn)*(((2*r)/(h*f))+1);\n",
"\n",
"\n",
"\n",
"\n",
"//Displaying results in the command window            \n",
"printf('\n The amplifier gain = %0.0f  ',G);\n",
"\n",
"\n",
"// The answers vary due to round off error"
   ]
   }
,
{
		   "cell_type": "markdown",
		   "metadata": {},
		   "source": [
			"## Example 6.5: Calculation_of_the_OSNR_in_a_given_bandwidth.sce"
		   ]
		  },
  {
"cell_type": "code",
	   "execution_count": null,
	   "metadata": {
	    "collapsed": true
	   },
	   "outputs": [],
"source": [
"// Example 6.5\n",
"// Calculation of the OSNR in a bandwidth of 12.49 GHz.\n",
"// Page no 263\n",
"\n",
"clc;\n",
"clear;\n",
"close;\n",
"\n",
"//Given data\n",
"\n",
"G=25;                 // Gain\n",
"c=3*10^8;             // Velocity of light\n",
"h=6.63*10^-34         // Planck constant\n",
"lambda=1545*10^-9;    // Wavelegth\n",
"Pi=-22;              // Input power\n",
"fn=6;      \n",
"B=12.49*10^9;\n",
"\n",
"// The OSNR in a bandwidth of 12.49 GHz\n",
"Po=G+Pi;\n",
"Po=10^(Po/10);\n",
"Po=Po*10^-3;\n",
"fn=10^(fn/10);\n",
"G=10^(G/10);\n",
"f=c/lambda;\n",
"r=(G*fn-1)*(h*f/2);\n",
"O=Po/(2*r*B);\n",
"O=10*log10(O);\n",
"\n",
"// Displaying results in the command window            \n",
"printf('\n The OSNR in a bandwidth of 12.49 GHz = %0.2f dB',O);\n",
"\n",
"\n",
"\n",
"// The answers vary due to round off error"
   ]
   }
,
{
		   "cell_type": "markdown",
		   "metadata": {},
		   "source": [
			"## Example 6.6: Calculation_of_the_single_pass_gain_and_3_db_bandwidth.sce"
		   ]
		  },
  {
"cell_type": "code",
	   "execution_count": null,
	   "metadata": {
	    "collapsed": true
	   },
	   "outputs": [],
"source": [
"// Example 6.6\n",
"// Calculation of the single-pass gain and 3-dB bandwidth\n",
"// Page no 268\n",
"\n",
"clc;\n",
"clear;\n",
"close;\n",
"\n",
"//Given data\n",
"\n",
"c1=3*10^8;                // Velocity of light\n",
"f=7*10^9;                // Cut off frequency\n",
"L=500*10^-6;             // Input power\n",
"Gp=15;                   // Peak gain\n",
"n=3.2;\n",
"Gs=2.52;\n",
"R=0.32;\n",
"a=0.1024;\n",
"b=-0.6546;\n",
"c=1;\n",
"\n",
"// The single-pass gain\n",
"\n",
"x1 =( -1*b+ sqrt ((b ^2) -4*a*c)) /(2* a); // 1 s t r o o t\n",
"x2 =( -1*b- sqrt ((b ^2) -4*a*c)) /(2* a); // 2nd r o o t\n",
"\n",
"// The 3-dB bandwidth\n",
"G=10^(Gp/10);\n",
"x=(1-(R*x2))/(2*sqrt(R*x2));\n",
"f=(c1/(%pi*L*n))*asin(x);\n",
"// f=f*10^-9; \n",
"\n",
"// Displaying results in the command window            \n",
"\n",
"printf ( 'Single pass gain Gs= %0.2f   or' , x1);\n",
"printf ( ' \n Single pass gain Gs= %0.2f ' , x2);\n",
"printf('\n The the 3-dB bandwidth = %0.2f GHz ',f*10^-9);\n",
"\n",
"\n",
"// The answers vary due to round off error"
   ]
   }
,
{
		   "cell_type": "markdown",
		   "metadata": {},
		   "source": [
			"## Example 6.7: Calculation_of_the_saturation_power_and_the_bias_current_I.sce"
		   ]
		  },
  {
"cell_type": "code",
	   "execution_count": null,
	   "metadata": {
	    "collapsed": true
	   },
	   "outputs": [],
"source": [
"// Example 6.6\n",
"// Calculation of (a) the saturation power and (b) the bias current I\n",
"// Page no 273\n",
"\n",
"clc;\n",
"clear;\n",
"close;\n",
"\n",
"//Given data\n",
"\n",
"c=3*10^8;                // Velocity of light\n",
"lambda=1530*10^-9;      // Wavelength\n",
"t=0.3                   // Overlap factor\n",
"r=7.3*10^-20;           // Gain cross section\n",
"r0=1*10^-9;            // Carrier lifetime\n",
"q=1.609*10^-19;     \n",
"v=7.5*10^-16;         // Active volume\n",
"h=6.63*10^-34         // Planck constant\n",
"A=5*10^-6;            // Effective area\n",
"g=4.82*10^3;          // Small signal gain coeffifient\n",
"N=3.5*10^23;          // \n",
"\n",
"// (a) the saturation power and \n",
"\n",
"\n",
"f=c/lambda;\n",
"Ps=(h*f*A)/(t*r*r0);\n",
"Ps=Ps*10^-3;\n",
"\n",
"// (b) the bias current I\n",
"\n",
"I=(g/(r*r0)+N/r0)*q*v;\n",
"I=I*10^3;\n",
"// Displaying results in the command window            \n",
"printf('\n The saturation power Psat = %0.3f mW ',Ps);\n",
"\n",
"printf('\n The bias current I = %0.3f mA ',I);\n",
"\n",
"\n",
"// The answers vary due to round off error"
   ]
   }
,
{
		   "cell_type": "markdown",
		   "metadata": {},
		   "source": [
			"## Example 6.9: Calculation_of_the_variance_of_the_signal_ASE_beat_noise_current.sce"
		   ]
		  },
  {
"cell_type": "code",
	   "execution_count": null,
	   "metadata": {
	    "collapsed": true
	   },
	   "outputs": [],
"source": [
"// Example 6.9\n",
"// Calculation of the variance of the signal–ASE beat noise current.\n",
"// Page no 290\n",
"\n",
"clc;\n",
"clear;\n",
"close;\n",
"\n",
"//Given data\n",
"\n",
"si=30;                // Electrical SNRs at the amplifier input\n",
"so=25;               // Electrical SNRs at the amplifier output\n",
"p=0;                 // Signal power at output \n",
"r=-126;             // Signal power at input \n",
"R=0.9;              // Planck constant\n",
"f=195*10^12;       // Frequency\n",
"b=20*10^9;         // Bandwidth\n",
"\n",
"// The variance of the signal–ASE beat noise current\n",
"p1=10^(p/10)*10^-3;\n",
"rn=10^(r/10)*10^-3;\n",
"r1=rn*b;\n",
"r0=2*R^2*p1*r1;\n",
"\n",
"\n",
"//Displaying results in the command window            \n",
"printf('\n The variance of the signal–ASE beat noise current = %0.2f x 10^-9 A^2  W/Hz',r0*10^9);\n",
"\n",
"\n",
"// The value of noise power given in example as -126 but for calculation it is taken as -128 in book. Therefore answer is varying."
   ]
   }
],
"metadata": {
		  "kernelspec": {
		   "display_name": "Scilab",
		   "language": "scilab",
		   "name": "scilab"
		  },
		  "language_info": {
		   "file_extension": ".sce",
		   "help_links": [
			{
			 "text": "MetaKernel Magics",
			 "url": "https://github.com/calysto/metakernel/blob/master/metakernel/magics/README.md"
			}
		   ],
		   "mimetype": "text/x-octave",
		   "name": "scilab",
		   "version": "0.7.1"
		  }
		 },
		 "nbformat": 4,
		 "nbformat_minor": 0
}
