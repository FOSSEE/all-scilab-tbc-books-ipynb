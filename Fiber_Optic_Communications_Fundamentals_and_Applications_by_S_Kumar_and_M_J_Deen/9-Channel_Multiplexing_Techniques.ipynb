{
"cells": [
 {
		   "cell_type": "markdown",
	   "metadata": {},
	   "source": [
       "# Chapter 9: Channel Multiplexing Techniques"
	   ]
	},
{
		   "cell_type": "markdown",
		   "metadata": {},
		   "source": [
			"## Example 9.1: EX9_1.sce"
		   ]
		  },
  {
"cell_type": "code",
	   "execution_count": null,
	   "metadata": {
	    "collapsed": true
	   },
	   "outputs": [],
"source": [
"// Example 9.1\n",
"// Calculation of the (a) the channel spacing, (b) the signal bandwidth in a channel and cther total bandwidth of the WDM signal, and (c) the total data rate.\n",
"// Page no 392\n",
"\n",
"clc;\n",
"clear;\n",
"close;\n",
"\n",
"//Given data\n",
"Bs=10*10^12;               // Symbol rate\n",
"n=6;                      // Spectral efficiency\n",
"Fs=10*10^12;              // Symbol rate\n",
"N=12;                    // No of channels\n",
"\n",
"\n",
"\n",
"// (a) Channel spacing\n",
"B=Bs*log2(64);\n",
"f=B/n;\n",
"\n",
"// (b) Total bandwidth of the WDM signal\n",
"T1=(N-1)*f+(2*Fs)/2; \n",
"T1=T1*10^-12;\n",
"// (c) Total data rate\n",
"T2=N*B;\n",
"T2=T2*10^-12;\n",
"\n",
"// Displaying results in the command window            \n",
"printf('\n Channel spacing = %0.0f GHz ',f*10^-12);\n",
"\n",
"printf('\n Total bandwidth of the WDM signal = %0.0f GHz ',T1);\n",
"printf('\n Total data rate = %0.0f Gb/s ',T2);\n",
""
   ]
   }
,
{
		   "cell_type": "markdown",
		   "metadata": {},
		   "source": [
			"## Example 9.2: Calculation_of_the_total_power_at_the_fiber_output.sce"
		   ]
		  },
  {
"cell_type": "code",
	   "execution_count": null,
	   "metadata": {
	    "collapsed": true
	   },
	   "outputs": [],
"source": [
"// Example 9.2\n",
"// Calculation of the total power at the fiber output.\n",
"// Page no 393\n",
"\n",
"clc;\n",
"clear;\n",
"close;\n",
"\n",
"//Given data\n",
"\n",
"p=0;                // Power per channel\n",
"fl=0.2;             // Fiber loss\n",
"f=50;               // Wavelength\n",
"\n",
"\n",
"// The total power at the fiber output.\n",
"pc=10^(0.1*p);\n",
"tp=pc*11;\n",
"tp1=10*log10(tp);\n",
"tfl=fl*f;\n",
"to=tp1-tfl;\n",
"\n",
"\n",
"\n",
"\n",
"//Displaying results in the command window            \n",
"printf('\n The total power at the fiber output = %0.3f dBm ',to);\n",
""
   ]
   }
,
{
		   "cell_type": "markdown",
		   "metadata": {},
		   "source": [
			"## Example 9.3: EX9_3.sce"
		   ]
		  },
  {
"cell_type": "code",
	   "execution_count": null,
	   "metadata": {
	    "collapsed": true
	   },
	   "outputs": [],
"source": [
"// Example 9.3\n",
"// Calculation of a) The lengths of the adjacent waveguides and b) phase shift phi1 and phi2.\n",
"// Page no 400\n",
"\n",
"clc;\n",
"clear;\n",
"close;\n",
"\n",
"//Given data\n",
"\n",
"p=0;                     // Power per channel\n",
"fl=0.2;                  // Fiber loss\n",
"m1=100;                  // Wavelength\n",
"m2=110;\n",
"lambda1=1550*10^-9;\n",
"lambda2=1550.8*10^-9;\n",
"c=3*10^8;               // Velocity of light\n",
"b0=5.87*10^6;\n",
"b1=4.86*10^-9;\n",
"\n",
"// a) The lengths of the adjacent waveguides\n",
"l1=(2*%pi*m1)/b0;\n",
"l2=(2*%pi*m2)/b0;\n",
"\n",
"\n",
"// b) Phase shift phi1 and phi2.\n",
"dfdl=-(c/lambda1^2);\n",
"dbdl=2*%pi*b1*dfdl;\n",
"phi1=2*%pi*m1+(lambda2-lambda1)*l1*dbdl;\n",
"phi2=2*%pi*m2+(lambda2-lambda1)*l2*dbdl;\n",
"\n",
"//Displaying results in the command window            \n",
"printf('\n The lengths of the adjacent waveguides  = %0.2f micrometer ',l1*10^6);\n",
"printf('\n The lengths of the adjacent waveguides  = %0.2f micrometer',l2*10^6);\n",
"printf('\n Phase shift phi1   = %0.2f x 10^2 rad ',phi1*10^-2);\n",
"printf('\n Phase shift phi2 = %0.2f  x 10^2 rad',phi2*10^-2);\n",
"\n",
"// The answers vary due to round off error"
   ]
   }
,
{
		   "cell_type": "markdown",
		   "metadata": {},
		   "source": [
			"## Example 9.4: EX9_4.sce"
		   ]
		  },
  {
"cell_type": "code",
	   "execution_count": null,
	   "metadata": {
	    "collapsed": true
	   },
	   "outputs": [],
"source": [
"// Example 9.4\n",
"// Calculation of the maximum reach up to which the carrier orthogonality is preserved.\n",
"// Page no 408\n",
"\n",
"clc;\n",
"clear;\n",
"close;\n",
"\n",
"//Given data\n",
"b=22*10^-27;                 // Power launched in port 1\n",
"T=1.28*10^-9;                // Guard interval\n",
"N=128;                       //  Subcarriers\n",
"f=78.125*10^6;               // Frequency spacing between subcarriers\n",
"\n",
"// Bit rate of communication system\n",
"I=T/(b*2*%pi*N*f);\n",
"I=I*10^-3;\n",
"\n",
"\n",
"\n",
"//Displaying results in the command window            \n",
"printf('\n The maximum reach up to which the carrier orthogonality is preserved = %0.0f km ',I);\n",
"\n",
"// The answers vary due to round off error"
   ]
   }
,
{
		   "cell_type": "markdown",
		   "metadata": {},
		   "source": [
			"## Example 9.5: EX9_5.sce"
		   ]
		  },
  {
"cell_type": "code",
	   "execution_count": null,
	   "metadata": {
	    "collapsed": true
	   },
	   "outputs": [],
"source": [
"// Example 9.5\n",
"// Calculation of the maximum reach up to which the carrier orthogonality is preserved.\n",
"// Page no 410\n",
"\n",
"clc;\n",
"clear;\n",
"close;\n",
"\n",
"//Given data\n",
"d=30*10^-12;          // Delay\n",
"b=0.5*10^-8;          \n",
"\n",
"// The maximum reach up to which the carrier orthogonality is preserved\n",
"L=d/b;\n",
"L=L*10^3;\n",
"\n",
"\n",
"\n",
"//Displaying results in the command window            \n",
"printf('\n The maximum reach up to which the carrier orthogonality is preserved = %0.3f mm ',L);\n",
"\n",
"// The answers vary due to round off error"
   ]
   }
,
{
		   "cell_type": "markdown",
		   "metadata": {},
		   "source": [
			"## Example 9.6: Calculation_of_the_ODTM_to_multiplex_data.sce"
		   ]
		  },
  {
"cell_type": "code",
	   "execution_count": null,
	   "metadata": {
	    "collapsed": true
	   },
	   "outputs": [],
"source": [
"// Example 9.6\n",
"// Calculation of the ODTM to multiplex data.\n",
"// Page no 411\n",
"\n",
"clc;\n",
"clear;\n",
"close;\n",
"\n",
"//Given data\n",
"f1=10*10^9;\n",
"f2=40*10^9;\n",
"\n",
"\n",
"// The ODTM to multiplex data\n",
"b1=1/(f1);\n",
"b2=1/(f2);\n",
"b1=b1*10^12;\n",
"b2=b2*10^12;\n",
"\n",
"//Displaying results in the command window            \n",
"printf('\n Bit interval for 10 Gb/s signal is  = %0.0f ps ',b1);\n",
"printf('\n Bit interval for 40 Gb/s signal is = %0.0f ps ',b2);\n",
"\n",
"// The answers vary due to round off error"
   ]
   }
,
{
		   "cell_type": "markdown",
		   "metadata": {},
		   "source": [
			"## Example 9.7: Calculation_of_the_the_total_data_rate_and_the_spectral_efficiency.sce"
		   ]
		  },
  {
"cell_type": "code",
	   "execution_count": null,
	   "metadata": {
	    "collapsed": true
	   },
	   "outputs": [],
"source": [
"// Example 9.7\n",
"// Calculation of the (a) the total data rate and (b) the spectral efficiency.\n",
"// Page no 413\n",
"\n",
"clc;\n",
"clear;\n",
"close;\n",
"\n",
"//Given data\n",
"M=16;\n",
"np=2;              // No of polarization\n",
"nc=24;             // No of channels\n",
"bs=28*10^9;      // Symbol rate per polarization\n",
"\n",
"// (a) The total data rate\n",
"B=bs*log2(M);\n",
"T=B*np*nc;\n",
"\n",
"\n",
"// (b) The spectral efficiency\n",
"N=bs*nc;\n",
"s=T/N;\n",
"\n",
"//Displaying results in the command window            \n",
"printf('\n The total data rate  = %0.3f Tb/s ',T*10^-12);\n",
"\n",
"printf('\n The spectral efficiency = %0.1f b/s/Hz ',s);\n",
""
   ]
   }
,
{
		   "cell_type": "markdown",
		   "metadata": {},
		   "source": [
			"## Example 9.8: Calculation_of_the_number_of_subcarriers_required_to_transmit_information.sce"
		   ]
		  },
  {
"cell_type": "code",
	   "execution_count": null,
	   "metadata": {
	    "collapsed": true
	   },
	   "outputs": [],
"source": [
"// Example 9.8\n",
"// Calculation of the number of subcarriers required to transmit information.\n",
"// Page no 413\n",
"\n",
"clc;\n",
"clear;\n",
"close;\n",
"\n",
"//Given data\n",
"M=4;\n",
"np=2;              // No of polarization\n",
"nc=24;            // No of channels\n",
"bs=10*10^9;      // Symbol rate per polarization\n",
"d=5000*10^3;     // Transmission distance\n",
"b=22*10^-27;\n",
"ts= 49.3*10^-9;\n",
"\n",
"// The total data rate\n",
"B=bs*log2(M);\n",
"T=d*b*%pi*bs;\n",
"//L=T/(b*2*%pi*N*bs);\n",
"N=(bs*ts)/2;\n",
"\n",
"\n",
"//Displaying results in the command window            \n",
"printf('\n The number of subcarriers required to transmit information = %0.0f ',N);\n",
"\n",
"// The answers vary due to round off error"
   ]
   }
,
{
		   "cell_type": "markdown",
		   "metadata": {},
		   "source": [
			"## Example 9.9: EX9_9.sce"
		   ]
		  },
  {
"cell_type": "code",
	   "execution_count": null,
	   "metadata": {
	    "collapsed": true
	   },
	   "outputs": [],
"source": [
"// Example 9.9\n",
"// Calculation of the (a) the signal power/subcarrier/polarization at the fiber output, (b) the data rate and (c) the spectral efficiency\n",
"// Page no 414\n",
"\n",
"clc;\n",
"clear;\n",
"close;\n",
"\n",
"//Given data\n",
"fl=0.19;            // Fiber loss\n",
"fg=70;              // Fiber length\n",
"nc=24;             // No of channels\n",
"ip=2;\n",
"bs=10*10^9;        // Symbol rate per polarization\n",
"ts= 12.8*10^-9;    // Symbol period\n",
"n=64;              // No of subcarriers\n",
"np=2;              // Launch power to the fiber\n",
"\n",
"\n",
"// (a) The signal power/subcarrier/polarization at the fiber output\n",
"T=fl*fg;\n",
"p=ip-T;\n",
"p1=10^(p/10);\n",
"s=p1/(np*n);\n",
"//s=s*10^4;\n",
"\n",
"// (b) The data rate\n",
"bs=1/ts;\n",
"B=log2(n)*bs;\n",
"bt=B*2*n;\n",
"\n",
"// (c) the spectral efficiency\n",
"Tb=n*bs;\n",
"se=bt/Tb;\n",
"\n",
"\n",
"\n",
"\n",
"//Displaying results in the command window            \n",
"printf('\n The signal power/subcarrier/polarization at the fiber output = %0.3f x 10^-4 mW ',s*10^4);\n",
"\n",
"printf('\n The data rate = %0.0f Gb/s ',bt*10^-9);\n",
"\n",
"printf('\n The spectral efficiency = %0.0f b/s/Hz ',se);\n",
"\n",
"// The answers vary due to round off error"
   ]
   }
],
"metadata": {
		  "kernelspec": {
		   "display_name": "Scilab",
		   "language": "scilab",
		   "name": "scilab"
		  },
		  "language_info": {
		   "file_extension": ".sce",
		   "help_links": [
			{
			 "text": "MetaKernel Magics",
			 "url": "https://github.com/calysto/metakernel/blob/master/metakernel/magics/README.md"
			}
		   ],
		   "mimetype": "text/x-octave",
		   "name": "scilab",
		   "version": "0.7.1"
		  }
		 },
		 "nbformat": 4,
		 "nbformat_minor": 0
}
