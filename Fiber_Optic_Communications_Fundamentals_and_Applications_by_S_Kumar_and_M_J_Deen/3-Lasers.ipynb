{
"cells": [
 {
		   "cell_type": "markdown",
	   "metadata": {},
	   "source": [
       "# Chapter 3: Lasers"
	   ]
	},
{
		   "cell_type": "markdown",
		   "metadata": {},
		   "source": [
			"## Example 3.10: To_calculate_the_effective_mass_of_the_electron_in_the_valence_band.sce"
		   ]
		  },
  {
"cell_type": "code",
	   "execution_count": null,
	   "metadata": {
	    "collapsed": true
	   },
	   "outputs": [],
"source": [
"// Example no.3.10\n",
"// To calculate the effective mass of the electron in the valence band.\n",
"// Page no.134\n",
"\n",
"clc;\n",
"clear;\n",
"\n",
"// Given data\n",
"Eg=1.18;                                               // Band gap in eV\n",
"Eg=1.18*1.602*10^-19;                                  // Band gap in J\n",
"hk1=9*10^-26;                                          // The crystal momentum in Kg.m/s\n",
"h=1.054*10^(-34);                                      // The distance between two levels\n",
"f=3.94*10^14;                                          // Light wave of frequency\n",
"m=9.109*10^(-31);                                      // The electron rest mass in kg\n",
"\n",
"mr=(hk1)^2/(2*(h*2*%pi*f-Eg));                         // The reduced mass in kg\n",
"meff1=0.07*m;                                          // The effective mass of an electron in the conduction band\n",
"\n",
"// The effective mass of the electron in the valence band.\n",
"meff2=(mr*meff1)/(meff1-mr);                   // The effective mass of the electron in the valence band.\n",
"\n",
"// Displaying the result in command window\n",
"printf('\n The effective mass of the electron in the valence band = %0.2f X 10^-31 kg',meff2*10^31);\n",
"// The answer is varrying due to round-off error"
   ]
   }
,
{
		   "cell_type": "markdown",
		   "metadata": {},
		   "source": [
			"## Example 3.11: EX3_11.sce"
		   ]
		  },
  {
"cell_type": "code",
	   "execution_count": null,
	   "metadata": {
	    "collapsed": true
	   },
	   "outputs": [],
"source": [
"// Example no.3.11\n",
"// To calculate (a) the optical gain coefficient Γg required to balance the cavity loss and (b) the threshold electron density Ne\n",
"// Page no.135\n",
"\n",
"clc;\n",
"clear;\n",
"\n",
"// Given data\n",
"L=320*10^-6;                                                  // Cavity length\n",
"R1=0.35;                                                      // The reflectivity of ligth wave which is reflected at A\n",
"R2=0.35;                                                      // The reflectivity of ligth wave which is reflected at B\n",
"aint=10^3;                                                    // Internal cavity loss in m^-1\n",
"c=3*10^8;                                                     // Speed of ligth in air\n",
"Go=1.73*10^-12;                                               // Gain coefficient in m^3/s\n",
"Neo=3.47*10^23;                                               // The value of the carrier density at which the gain coefficient becomes zero in m^-3\n",
"n=3.3;                                                        // Refractive index of medium\n",
"\n",
"// (a) the optical gain coefficient Γg required to balance the cavity loss\n",
"amir=(1/(2*L))*log(1/(R1*R2));                                  // The loss due to mirrors per m\n",
"acav=amir+aint;                                                 // The total cavity loss coefficient\n",
"gammag=acav;                                                   // The optical gain coefficient in m^-1\n",
"\n",
"// Displaying the result in command window\n",
"printf('\n The optical gain coefficient = %0.2f X 10^3 m^-1',gammag*10^-3);\n",
"\n",
"//(b) the threshold electron density Ne\n",
"v=c/n;                                                          // Velocity of ligth in medium\n",
"Tph=1/(v*acav);                                                 // The photon lifetime in sec\n",
"Neth=Neo+1/(Go*Tph);                                           // The threshold electron density Ne\n",
"\n",
"// Displaying the result in command window\n",
"printf('\n The threshold electron density = %0.2f X 10^23 m^-3',Neth*10^-23);\n",
""
   ]
   }
,
{
		   "cell_type": "markdown",
		   "metadata": {},
		   "source": [
			"## Example 3.1: To_calculate_the_Einstein_A_and_B_coefficients.sce"
		   ]
		  },
  {
"cell_type": "code",
	   "execution_count": null,
	   "metadata": {
	    "collapsed": true
	   },
	   "outputs": [],
"source": [
"// Example No. 3.1\n",
"// To calculate the Einstein A and B coefficients\n",
"// Page no.99\n",
"\n",
"clc;\n",
"clear;\n",
"\n",
"// Given data\n",
"tsp=2*10^-9;                                                            // Spontaneous lifetime associated with 2 → 1 transition in seconds\n",
"\n",
"deltaE=2.4*10^(-19);                                                   // The energy difference between the levels\n",
"h=1.054*10^(-34);                                                      // The distance between two levels\n",
"omega=deltaE/h;                                                        // Frequency in rad/sec\n",
"v=1.25*10^8;                                                           // The velocity of light in the medium in m/s\n",
"\n",
"// The Einstein A and B coefficients\n",
"A=(1/tsp)*10^-8;                                                      // Einstein coefficient A\n",
"B=(((1/tsp)*%pi^2*v^3)/(h*omega^3))*10^-21;                           // Einstein coefficient B\n",
"\n",
"// Displaying the result in command window\n",
"printf('\n Einstein coefficient A = %0.0f X 10^8 s^(-1)',A);\n",
"printf('\n Einstein coefficient B = %0.2f X 10^21 m^3/J.s^2',B);\n",
"\n",
"// The answers are varrying due to round off error "
   ]
   }
,
{
		   "cell_type": "markdown",
		   "metadata": {},
		   "source": [
			"## Example 3.2: EX3_2.sce"
		   ]
		  },
  {
"cell_type": "code",
	   "execution_count": null,
	   "metadata": {
	    "collapsed": true
	   },
	   "outputs": [],
"source": [
"// Example no. 3.2\n",
"// To calculate (a) the wavelength of light emitted, (b) the ratio of spontaneous emission rate to stimulated emission rate, (c) the ratio of stimulated emission rate to absorption rate, and (d) the population density of the excited level.\n",
"// Page no. 100\n",
"\n",
"clc;\n",
"clear;\n",
"\n",
"// Given data\n",
"deltaE=1.26*10^-19;                                                    // The energy difference between two levels\n",
"h=1.054*10^(-34);                                                      // The distance between two levels\n",
"c=3*10^8;                                                              // The speed of ligth in m/s\n",
"kB=1.38*10^(-23);                                                      // The Boltzmann’s constant J/K\n",
"T=300;                                                                 // The absolute temperature in Kelvin\n",
"N1=10^19;                                                              // The population density in the ground state in cm^(-3)\n",
"\n",
"// (a)The wavelength of light emitted\n",
"h=2*%pi*h;                                                             // The distance between two levels in J.s\n",
"f=deltaE/h;                                                            // The frequency in Hz\n",
"lambda=(c/f)*10^6;                                                     // The wavelength of ligth emitted in micrometer\n",
"\n",
"// Displaying the result in command window\n",
"printf('\n The wavelength of ligth emitted = %0.2f micrometer',lambda);\n",
"\n",
"// The calculation of this answer is wrong in the book\n",
"\n",
"// (b)The ratio of spontaneous emission rate to stimulated emission rate\n",
"RspRst=(exp(deltaE/(kB*T))-1);                                        // The ratio of spontaneous emission rate to stimulated emission rate\n",
"\n",
"// Displaying the result in command window\n",
"printf('\n The ratio of spontaneous emission rate to stimulated emission rate = %0.2f X 10^13',RspRst*10^-13);\n",
"\n",
"// The calculation of this answer is wrong in the book\n",
"\n",
"// (c)The ratio of stimulated emission rate to absorption rate\n",
"RstRab=(exp(-deltaE/(kB*T)));                                            // The ratio of stimulated emission rate to absorption rate\n",
"\n",
"// Displaying the result in command window\n",
"printf('\n The ratio of stimulated emission rate to absorption rate = %0.2f X 10^-14',RstRab*10^14);\n",
"\n",
"// The calculation of this answer is wrong in the book\n",
"\n",
"// (d)The population density of the excited level\n",
"N2=(N1*exp(-deltaE/(kB*T)));                                             // The population density of the excited level in cm^(-3)\n",
"\n",
"// Displaying the result in command window\n",
"printf('\n The population density of the excited level = %0.2f X 10^5 cm^(-3)',N2*10^-5);\n",
"\n",
"// The calculation of this answer is wrong in the book\n",
""
   ]
   }
,
{
		   "cell_type": "markdown",
		   "metadata": {},
		   "source": [
			"## Example 3.3: EX3_3.sce"
		   ]
		  },
  {
"cell_type": "code",
	   "execution_count": null,
	   "metadata": {
	    "collapsed": true
	   },
	   "outputs": [],
"source": [
"// Example No. 3.3\n",
"// To calculate the longitudinal mode spacing and the minimum gain required for laser oscillation\n",
"// Page no. 106\n",
"\n",
"clc;\n",
"clear;\n",
"\n",
"// Given data\n",
"c=3*10^8;                                                 // The speed of ligth in air\n",
"L=500*10^(-6);                                            // The distance between mirrors\n",
"n=3.5;                                                    // The refractive index\n",
"inlossdB=50;                                              // The internal loss in dB/cm\n",
"R1=0.3;                                                   // The reflectivity of ligth wave which is reflected at A\n",
"R2=0.3;                                                   // The reflectivity of ligth wave which is reflected at B\n",
"\n",
"// The longitudinal mode spacing\n",
"deltaf=(c/(2*n*L))*10^-9;                                  // The longitudinal mode spacing\n",
"L=0.05;                                                    // The distance between mirrors in cm\n",
"amir=(1/(2*L))*log(1/(R1*R2));                             // The loss due to mirrors per cm\n",
"aint=log(10^(inlossdB/10));                                // The coefficient of internal loss due to scattering\n",
"\n",
"// The minimum gain required\n",
"g=aint+amir;                                               // The minimum gain required for laser oscillation\n",
"\n",
"// Displaying the result in command window\n",
"printf('\n The longitudinal mode spacing = %0.2f GHz',deltaf);\n",
"printf('\n The minimum gain required for laser oscillation per cm =  %0.2f cm^-1',g);"
   ]
   }
,
{
		   "cell_type": "markdown",
		   "metadata": {},
		   "source": [
			"## Example 3.4: To_calculate_the_energy_density.sce"
		   ]
		  },
  {
"cell_type": "code",
	   "execution_count": null,
	   "metadata": {
	    "collapsed": true
	   },
	   "outputs": [],
"source": [
"// Example no. 3.4\n",
"// To calculate the energy density.\n",
"// Page no. 107\n",
"\n",
"clc;\n",
"clear;\n",
"\n",
"// Given data\n",
"P=20*10^(-3);                                     // The mean power in W\n",
"A=100*10^(-12);                                   // The area perpendicular to the direction of light propagation in m^2\n",
"n=3.2;                                            // Refractive index of gain medium\n",
"c=3*10^8;                                         // Speed of ligth in m/s\n",
"I=P/A;                                            // The optical intensity in W/m^2\n",
"\n",
"// The energy density\n",
"u=(n*I)/c;                                        // The energy density in J/m^3\n",
"\n",
"// Displaying the result in command window\n",
"printf('\n The energy density = %0.2f J/m^3',u);"
   ]
   }
,
{
		   "cell_type": "markdown",
		   "metadata": {},
		   "source": [
			"## Example 3.5: EX3_5.sce"
		   ]
		  },
  {
"cell_type": "code",
	   "execution_count": null,
	   "metadata": {
	    "collapsed": true
	   },
	   "outputs": [],
"source": [
"// Example no.3.5\n",
"// To calculate the frequency of the electromagnetic wave emitted by stimulated emission.\n",
"// Page no.110\n",
"\n",
"clc;\n",
"clear;\n",
"\n",
"// Given data\n",
"E=10^(-4);                                 // The energy difference between two levels in eV\n",
"E=10^(-4)*1.602*10^(-19);                  // The energy difference between two levels in J\n",
"h=1.054*10^(-34);                          // The distance between two levels\n",
"\n",
"// The frequency of the electromagnetic wave emitted by stimulated emission.\n",
"f=(E/(2*%pi*h))*10^-9;                     // The frequency of the electromagnetic wave emitted by stimulated emission in GHz\n",
"\n",
"// Displaying the result in command window\n",
"printf('\n The frequency of the electromagnetic wave emitted by stimulated emission = %0.0f GHz',f);"
   ]
   }
,
{
		   "cell_type": "markdown",
		   "metadata": {},
		   "source": [
			"## Example 3.6: To_calculate_the_band_gap_energy.sce"
		   ]
		  },
  {
"cell_type": "code",
	   "execution_count": null,
	   "metadata": {
	    "collapsed": true
	   },
	   "outputs": [],
"source": [
"// Example 3.6\n",
"// To calculate the band-gap energy.\n",
"// Page no.123\n",
"\n",
"clc;\n",
"clear;\n",
"\n",
"// Given data\n",
"m=9.109*10^(-31);                             // The electron rest mass in kg\n",
"meff1=0.07*m;                                 // The effective mass of an electron in the conduction band\n",
"meff2=0.5*m;                                  // The effective mass of an electron in the valence band\n",
"mr=(meff1*meff2)/(meff1+meff2);               // The reduced mass\n",
"hkl=7.84*10^(-26);                            // The electron momentum in kg.m/s\n",
"lambda=0.8*10^(-6);                           // The wavelength of electromagnetic wave in m\n",
"h=1.054*10^(-34);                             // The distance between two levels\n",
"c=3*10^8;                                     // Speed of ligth in m/s\n",
"hw=(h*2*%pi*c)/lambda;                       // The poton energy in J\n",
"\n",
"// The band-gap energy.\n",
"Eg=hw-(hkl^2/(2*mr));                       // The band-gap energy in J\n",
"\n",
"// Displaying the result in command window\n",
"printf('\n The band-gap energy = %0.2f X 10^-19 J',Eg*10^19);"
   ]
   }
,
{
		   "cell_type": "markdown",
		   "metadata": {},
		   "source": [
			"## Example 3.7: EX3_7.sce"
		   ]
		  },
  {
"cell_type": "code",
	   "execution_count": null,
	   "metadata": {
	    "collapsed": true
	   },
	   "outputs": [],
"source": [
"// Example no.3.7\n",
"// To calculate (a) the photon lifetime, (b) the threshold current, and (c) the current required to generate a mean photon density of 8.5 × 10^21 m−3\n",
"// Page no.130\n",
"\n",
"clc;\n",
"clear;\n",
"\n",
"// Given data\n",
"w=3*10^(-6);                                            // The active area width in meter\n",
"d=0.3*10^(-6);                                          // The active area thickness in meter\n",
"L=500*10^(-6);                                          // The length\n",
"Te=1*10^(-9);                                           // Electron lifetime\n",
"Neth=0.8*10^(24);                                       // Threshold electron density\n",
"aint=46*10^2;                                           // Internal cavity loss in m^-1\n",
"n=3.5;                                                  // Refrective index of the medium\n",
"R1=0.65;                                                // The reflectivity of ligth wave which is reflected at A\n",
"R2=0.65;                                                // The reflectivity of ligth wave which is reflected at B\n",
"\n",
"// (a)The photon lifetime\n",
"amir=(1/(2*L))*log(1/(R1*R2));                          // The loss due to mirrors per m\n",
"c=3*10^8;                                               // Speed of ligth in m/s\n",
"v=c/n;                                                  // Speed of ligth in medium (m/s)\n",
"Tp=1/(v*(aint+amir));                                  // The photon lifetime in sec\n",
"\n",
"// Displaying the result in command window\n",
"printf('\n The photon lifetime = %0.2f ps',Tp*10^12);\n",
"\n",
"// (b)The threshold current\n",
"V=w*d*L;                                               //The active volume in m^3\n",
"q=1.602*10^(-19);                                      //The electron charge in C\n",
"Te=10^-9;                                              //The electron lifetime in sec\n",
"Ith=(Neth*q*V)/Te;                                    //The threshold current in mA  \n",
"\n",
"// Displaying the result in command window\n",
"printf('\n The threshold current = %0.1f mA',Ith*10^3);\n",
"\n",
"// The answer calculated in book is wrong\n",
"\n",
"// (c)The current required to generate a mean photon density of 8.5 × 10^21 m−3\n",
"Nph=8.5*10^21;                                         //Mean photon density\n",
"Tph=Tp;                                               //The photon lifetime in sec\n",
"I=(Ith+(Nph*q*V)/Tph);                                //The current required to generate a mean photon density of 8.5 × 10^21 m−3\n",
"\n",
"// Displaying the result in command window\n",
"printf('\n The current required to generate a mean photon density of 8.5 × 10^21 m^-3 = %0.2f mA',I*10^3)\n",
"\n",
"// The answer calculated in book is wrong"
   ]
   }
,
{
		   "cell_type": "markdown",
		   "metadata": {},
		   "source": [
			"## Example 3.8: To_find_the_wavelength_of_the_light_emitted.sce"
		   ]
		  },
  {
"cell_type": "code",
	   "execution_count": null,
	   "metadata": {
	    "collapsed": true
	   },
	   "outputs": [],
"source": [
"// Example no.3.8\n",
"// To find the wavelength of the light emitted\n",
"// Page no.133\n",
"\n",
"clc;\n",
"clear;\n",
"\n",
"// Given data\n",
"RspRst=2*10^14;                                           // The ratio of spontaneous emission rate to stimulated emission rate\n",
"T=30;                                                     // Temperature in degree celcius\n",
"kB=1.38*10^(-23);                                         // The Boltzmann’s constant J/K\n",
"h=1.054*10^(-34);                                         // The distance between two levels\n",
"c=3*10^8;                                                 // Speed of ligth in air\n",
"\n",
"T=T+273;                                                  // Temperature in Kelvin\n",
"w=(log(RspRst)*kB*T)/h;                                   // Frequency in Rad\n",
"\n",
"// The wavelength of the light emitted\n",
"lambda=(2*%pi*c)/w;                                      // The wavelength of the light emitted\n",
"\n",
"// Displaying the result in command window\n",
"printf('\n The wavelength of the light emitted =  %0.2f micrometer',lambda*10^6);"
   ]
   }
,
{
		   "cell_type": "markdown",
		   "metadata": {},
		   "source": [
			"## Example 3.9: EX3_9.sce"
		   ]
		  },
  {
"cell_type": "code",
	   "execution_count": null,
	   "metadata": {
	    "collapsed": true
	   },
	   "outputs": [],
"source": [
"// Example no.3.9\n",
"// To calculate a) the frequency separation between modes (b) the wavelength separation between modes\n",
"// Page no.133\n",
"\n",
"clc;\n",
"clear;\n",
"\n",
"// Given data\n",
"lambda=1.3*10^-6;                                            // Laser diode operating wavelength\n",
"L=300*10^-6;                                                 // Cavity length\n",
"n=3.5;                                                       // Refractive index of active region\n",
"c=3*10^8;                                                    // Speed of ligth in air (m/s)\n",
"\n",
"// a)The frequency separation between modes\n",
"deltaf=c/(2*n*L);                                           // The frequency separation between modes in GHz\n",
"\n",
"// Displaying the result in command window\n",
"printf('\n The frequency separation between modes =  %0.1f GHz',deltaf*10^-9);\n",
"\n",
"// (b)The wavelength separation between modes\n",
"deltalambda=(lambda^2*deltaf)/c;                           // The wavelength separation between modes\n",
"\n",
"// Displaying the result in command window\n",
"printf('\n The wavelength separation between modes = %0.1f nanometer',deltalambda*10^9);\n",
"\n",
"// The wrong unit is givan in book"
   ]
   }
],
"metadata": {
		  "kernelspec": {
		   "display_name": "Scilab",
		   "language": "scilab",
		   "name": "scilab"
		  },
		  "language_info": {
		   "file_extension": ".sce",
		   "help_links": [
			{
			 "text": "MetaKernel Magics",
			 "url": "https://github.com/calysto/metakernel/blob/master/metakernel/magics/README.md"
			}
		   ],
		   "mimetype": "text/x-octave",
		   "name": "scilab",
		   "version": "0.7.1"
		  }
		 },
		 "nbformat": 4,
		 "nbformat_minor": 0
}
