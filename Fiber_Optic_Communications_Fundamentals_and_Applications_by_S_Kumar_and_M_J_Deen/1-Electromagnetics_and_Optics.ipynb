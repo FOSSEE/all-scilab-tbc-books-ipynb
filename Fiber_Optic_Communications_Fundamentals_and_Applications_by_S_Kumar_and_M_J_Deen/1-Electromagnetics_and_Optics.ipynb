{
"cells": [
 {
		   "cell_type": "markdown",
	   "metadata": {},
	   "source": [
       "# Chapter 1: Electromagnetics and Optics"
	   ]
	},
{
		   "cell_type": "markdown",
		   "metadata": {},
		   "source": [
			"## Example 1.6: To_find_refractive_index_of_of_the_glass.sce"
		   ]
		  },
  {
"cell_type": "code",
	   "execution_count": null,
	   "metadata": {
	    "collapsed": true
	   },
	   "outputs": [],
"source": [
"// Example 1.6\n",
"// To find refractive index of of the glass\n",
"// Page no.25\n",
"\n",
"clc;\n",
"clear;\n",
"\n",
"// Given data\n",
"phi=0.7297;                          // Critical angle for glass-air interface\n",
"n2=1;                                // Refractive index of air\n",
"n1=n2/sin(phi);                      // Refractive index of glass\n",
"\n",
"// Displaying the result in command window\n",
"printf('\n Refractive index of the glass = %0.1f',n1);"
   ]
   }
,
{
		   "cell_type": "markdown",
		   "metadata": {},
		   "source": [
			"## Example 1.7: EX1_7.sce"
		   ]
		  },
  {
"cell_type": "code",
	   "execution_count": null,
	   "metadata": {
	    "collapsed": true
	   },
	   "outputs": [],
"source": [
"//Example no 1.7\n",
"//To calculate a)the speed of light b) The wavelenght in medium c) The wavenumber in medium\n",
"//Page no. 25\n",
"\n",
"clc;\n",
"clear all;\n",
"\n",
"//a)The speed of light\n",
"c=3*10^8;                               //Speed of light in free space (m/s)\n",
"n=1.45;                                 //Given refractive index of dielectric medium\n",
"v=(c/n);                               //Speed of light in medium (in m/s)\n",
"\n",
"//Displaying the result in command window\n",
"printf('\n Speed of light in medium = %0.3f X 10^8 m/s',v*10^-8);\n",
"\n",
"//b) The wavelenght in medium \n",
"f=190*10^12;                           //Given operating frequency of laser\n",
"lambdam=(v/f);                         //Wavelenght in medium \n",
"\n",
"//Displaying the result in command window\n",
"printf('\n Wavelenght of laser in medium = %0.4f micrometer',lambdam*10^(6));\n",
"\n",
"//c) The wavenumber in medium\n",
"k=(2*%pi)/lambdam;                    //Wavenumber in medium\n",
"\n",
"//Displaying the result in command window\n",
"printf('\n Wavenumber in medium = %0.2f X 10^6 m^-1',k*10^-6)"
   ]
   }
,
{
		   "cell_type": "markdown",
		   "metadata": {},
		   "source": [
			"## Example 1.8: EX1_8.sce"
		   ]
		  },
  {
"cell_type": "code",
	   "execution_count": null,
	   "metadata": {
	    "collapsed": true
	   },
	   "outputs": [],
"source": [
"// Example no. 1.8\n",
"// To calculate a)magnitude of the wave vector of the refracted wave b)x-component and z-component of the wave vector\n",
"// Page no.26\n",
"\n",
"clc;\n",
"clear;\n",
"\n",
"//Given data\n",
"n1=1;                                               // Refractive index of air\n",
"n2=1.45;                                            // Refractive index of slap\n",
"theta1=%pi/3;                                       // Angle of incidence\n",
"lambdam=1.0889*10^(-6);                             // Wavelength in medium\n",
"theta2=asin(sin(theta1)/n2);                        // Angle of refraction\n",
"\n",
"// a)To calculate magnitude of the wave vector of the refracted wave\n",
"k=((2*%pi)/lambdam);                               // Wavenumber\n",
"\n",
"// Displaying the result in command window\n",
"printf('\n Magnitude of the wave vector of the refracted wave is same as wave number = %0.2f X 10^6 m^-1',k*10^(-6));\n",
"\n",
"// b)To calculate x-component and z-component of the wave vector\n",
"kx=k*sin(theta2);                                   // x-component of the wave vector\n",
"kz=k*cos(theta2);                                   // z-component of the wave vector\n",
"\n",
"// Displaying the result in command window\n",
"printf('\n z-component of the wave vector = %0.2f X 10^6 m^-1',kz*10^(-6));\n",
"printf('\n x-component of the wave vector = %0.2f X 10^6 m^-1',kx*10^(-6));\n",
"// The answer is varrying due to round-off error "
   ]
   }
,
{
		   "cell_type": "markdown",
		   "metadata": {},
		   "source": [
			"## Example 1.9: To_find_length_of_the_medium.sce"
		   ]
		  },
  {
"cell_type": "code",
	   "execution_count": null,
	   "metadata": {
	    "collapsed": true
	   },
	   "outputs": [],
"source": [
"//To find length of the medium\n",
"//Example no 1.9\n",
"//Page no. 30\n",
"\n",
"clc;\n",
"clear all;\n",
"bandwidth=100*10^9;                            //Bandwidth of optical signal\n",
"w=2*%pi*bandwidth;                             //Bandwidth of optical signal in rad/s\n",
"T=3.14*10^(-12);                               //Delay between minimum and maximum frequency component\n",
"beta2=10*(10^(-12))^2/10^3;                             //Group velocity dispersion parameter in s^2/km\n",
"L=T/(beta2*w);                                 //Length of the medium\n",
"\n",
"// Displaying the result in command window\n",
"printf('\n Length of the medium = %0.0f m',L);\n",
""
   ]
   }
],
"metadata": {
		  "kernelspec": {
		   "display_name": "Scilab",
		   "language": "scilab",
		   "name": "scilab"
		  },
		  "language_info": {
		   "file_extension": ".sce",
		   "help_links": [
			{
			 "text": "MetaKernel Magics",
			 "url": "https://github.com/calysto/metakernel/blob/master/metakernel/magics/README.md"
			}
		   ],
		   "mimetype": "text/x-octave",
		   "name": "scilab",
		   "version": "0.7.1"
		  }
		 },
		 "nbformat": 4,
		 "nbformat_minor": 0
}
