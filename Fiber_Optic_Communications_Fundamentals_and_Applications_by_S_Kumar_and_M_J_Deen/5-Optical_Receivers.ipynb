{
"cells": [
 {
		   "cell_type": "markdown",
	   "metadata": {},
	   "source": [
       "# Chapter 5: Optical Receivers"
	   ]
	},
{
		   "cell_type": "markdown",
		   "metadata": {},
		   "source": [
			"## Example 5.1: EX5_1.sce"
		   ]
		  },
  {
"cell_type": "code",
	   "execution_count": null,
	   "metadata": {
	    "collapsed": true
	   },
	   "outputs": [],
"source": [
"// Example no.5.1\n",
"// To calculate (a) the photon incidence rate, (b) the photon absorption rate, and, (c) the quantum efficiency.\n",
"// Page no.196\n",
"\n",
"clc;\n",
"clear all;\n",
"// Given data\n",
"lambda=550*10^(-9);                         // The wavelength of electromagnetic wave in m\n",
"c=3*10^8;                                   // Speed of ligth in air\n",
"h=6.626*10^(-34);                           // Planck's constant\n",
"alpha=10^4;                                 // absorption coefficient\n",
"W=3*10^-4;                                  // width of the active region\n",
"Pi=1*10^-9;                                 // optical power\n",
"eta=0.9;                                    // the fraction of photocarriers that contribute to the photocurrent\n",
"Rp=0;                                       // the power transmission coefficient at the air–semiconductor interface\n",
"\n",
"// (a) the photon incidence rate\n",
"Eph=(h*c)/lambda;                          // The energy of a photon\n",
"Rincident=Pi/Eph;                          // The photon incidence rate\n",
"\n",
"// Display result on command window\n",
"printf('\n The photon incidence rate = %0.2f X 10^9 photon/s',Rincident*10^-9);\n",
"\n",
"// (b) the photon absorption rate\n",
"Rabs=(Rincident*(1-exp(-alpha*W)));        // The photon absorption rate\n",
"\n",
"// Display result on command window\n",
"printf('\n The photon absorption rate = %0.2f X 10^9 photon/s',Rabs*10^-9)\n",
"\n",
"//c) the quantum efficiency\n",
"neta=(1-Rp)*eta*(1-exp(-alpha*W));          // The quantum efficiency\n",
"\n",
"// Display result on command window\n",
"printf('\n The quantum efficiency = %0.3f',neta)"
   ]
   }
,
{
		   "cell_type": "markdown",
		   "metadata": {},
		   "source": [
			"## Example 5.2: To_calculate_the_responsivity_R_and_the_cutoff_wavelength.sce"
		   ]
		  },
  {
"cell_type": "code",
	   "execution_count": null,
	   "metadata": {
	    "collapsed": true
	   },
	   "outputs": [],
"source": [
"// Example no.5.2\n",
"// To calculate (a) the responsivity R and (b) the cutoff wavelength \n",
"// Page no.198\n",
"\n",
"clc;\n",
"clear;\n",
"\n",
"// Given data\n",
"neta=0.9;                                        // The quantum efficiency\n",
"Eg=1.42;                                         // The band-gap energy in eV\n",
"lambda=1.1;                                      // The operating (free-space) wavelength in micrometer\n",
"\n",
"// (a) The responsivity \n",
"R=(neta*lambda)/1.24;                            // The responsivity in A/W\n",
"\n",
"// Display result on command window\n",
"printf('\n The responsivity = %0.1f A/W',R)                                                             //Wrong answer in book\n",
"\n",
"// (b) The cutoff wavelength \n",
"lambdac=1.2/Eg;                                //The cutoff wavelength in micrometer\n",
"\n",
"// Display result on command window\n",
"printf('\n The cutoff wavelength = %0.3f micrometer',lambdac)                                             //Wrong answer in book"
   ]
   }
,
{
		   "cell_type": "markdown",
		   "metadata": {},
		   "source": [
			"## Example 5.3: To_find_quantum_efficiency_at_different_wavelength_and_same_responsivity.sce"
		   ]
		  },
  {
"cell_type": "code",
	   "execution_count": null,
	   "metadata": {
	    "collapsed": true
	   },
	   "outputs": [],
"source": [
"// Example no.5.3\n",
"// To find quantum efficiency at different wavelength and same responsivity\n",
"// Page no.199\n",
"\n",
"clc;\n",
"clear;\n",
"\n",
"// Given data\n",
"lambda1=0.7;                                         // The radiation wavelength in micrometer\n",
"R=0.4;                                               // The responsivity in A/W\n",
"lambda2=0.5;                                         // The reduced wavelength in micrometer\n",
"neta1=(R*1.24)/lambda1;                              // The quantum efficiency for 0.7micrometer wavelength\n",
"neta2=neta1*(lambda2/lambda1);                       // The quantum efficiency for reduced wavelength 0.5micrometer \n",
"\n",
"// Display result on command window\n",
"printf('\n The quantum efficiency for 0.7 micrometer wavelength = %0.4f',neta1)\n",
"printf('\n The quantum efficiency for reduced wavelength of 0.5 micrometer = %0.3f',neta2)"
   ]
   }
,
{
		   "cell_type": "markdown",
		   "metadata": {},
		   "source": [
			"## Example 5.4: To_determine_the_refractive_index_and_thickness_of_the_antireflection_coating.sce"
		   ]
		  },
  {
"cell_type": "code",
	   "execution_count": null,
	   "metadata": {
	    "collapsed": true
	   },
	   "outputs": [],
"source": [
"// Example no.5.4\n",
"// To determine the refractive index and thickness of the antireflection coating\n",
"// Page no.199\n",
"\n",
"clc;\n",
"clear;\n",
"\n",
"// Given data\n",
"lambda=680*10^-9;                                   // Wavelength of red ligth in meter\n",
"nair=1;                                             // Refractive index of air\n",
"nsilicon=3.6;                                       // Refractive index of silicon\n",
"nAR=sqrt(nair*nsilicon);                            // Refractive index of antireflection coating\n",
"tAR=lambda/(4*nAR);                                 // Thickness of antireflection coating\n",
"\n",
"// Display result on command window\n",
"printf('\n Refractive index of antireflection coating = %0.1f ',nAR)\n",
"printf('\n Thickness of antireflection coating = %0.0f nm',tAR*10^9)\n",
"\n",
"\n",
""
   ]
   }
,
{
		   "cell_type": "markdown",
		   "metadata": {},
		   "source": [
			"## Example 5.5: To_calculate_the_inaccuracy_with_which_resonator_should_be_fabricated.sce"
		   ]
		  },
  {
"cell_type": "code",
	   "execution_count": null,
	   "metadata": {
	    "collapsed": true
	   },
	   "outputs": [],
"source": [
"// Example 5.5\n",
"// To calculate the inaccuracy with which resonator should be fabricated\n",
"// Page no.216\n",
"\n",
"clc;\n",
"clear;\n",
"\n",
"// Given data\n",
"R1=0.9;                                        // Reflectivity at point A\n",
"integer=4;\n",
"n=3.5;                                         // Reflection index of silicon\n",
"F=%pi/(1-sqrt(R1));                            // The finesse of the resonator and also called as the ratio of the free spectral range\n",
"lambda0=850;                                   // Wavelength in nanometer\n",
"L=integer*lambda0/(2*n);                       // Resonator length in nanometer\n",
"\n",
"// The inaccuracy with which resonator should be fabricated\n",
"deltaL=L*0.5/F;\n",
"\n",
"// Display result on command window\n",
"printf('\n Resonator length = %0.0f nm',L)\n",
"printf('\n The inaccuracy in length with which resonator should be fabricated = %0.0f nm',deltaL)"
   ]
   }
,
{
		   "cell_type": "markdown",
		   "metadata": {},
		   "source": [
			"## Example 5.6: To_find_the_peak_current.sce"
		   ]
		  },
  {
"cell_type": "code",
	   "execution_count": null,
	   "metadata": {
	    "collapsed": true
	   },
	   "outputs": [],
"source": [
"// Example no.5.6\n",
"// To find the peak current if (a) LO power = 10 dBm, (b) LO power = −10 dBm for the single-branch receiver\n",
"// Page no.229\n",
"\n",
"clc;\n",
"clear;\n",
"\n",
"// Given data\n",
"L=100;                                           // Length of fiber\n",
"loss=0.2*L;                                      // Total fiber loss\n",
"PtdBm=12;                                        // The peak power of the signal at the transmitter\n",
"R=0.9;                                           // Responsivity in A/W\n",
"PrdBm=PtdBm-loss;                                // The power at the receiver\n",
"\n",
"// (a) the peak current LO power = 10 dBm\n",
"PLO1dBm=10;                                         // Power at local oscillator in dBm\n",
"PLO1=10^(0.1*PLO1dBm);                              // Power at local oscillator in mW\n",
"Pr=10^(0.1*PrdBm);                                  // Power at receiver in mW\n",
"Id1=R*sqrt(Pr*PLO1);                                // The peak current at LO power = 10dBm\n",
"I1=R*Pr/2+R*sqrt(Pr*PLO1);                          // The peak current after ignoring the d.c. term\n",
"\n",
"// Display result on command window\n",
"printf('\n The peak current at LO power 10dBm = %0.4f mA',Id1)\n",
"printf('\n The peak current after ignoring the d.c. term = %0.3f mA',I1)\n",
"\n",
"// (b) the peak current LO power = -10 dBm\n",
"PLO2dBm=-10;                                      // Power at local oscillator in dBm\n",
"PLO2=10^(0.1*PLO2dBm);                            // Power at local oscillator in mW\n",
"Id2=R*sqrt(Pr*PLO2);                              // The peak current at LO power = -10dBm\n",
"I2=R*Pr/2+R*sqrt(Pr*PLO2);                        // The peak current after ignoring the d.c. term\n",
"\n",
"// Display result on command window\n",
"printf('\n The peak current at LO power -10dBm = %0.4f mA',Id2)\n",
"printf('\n The peak current after ignoring the d.c. term = %0.4f mA',I2)"
   ]
   }
,
{
		   "cell_type": "markdown",
		   "metadata": {},
		   "source": [
			"## Example 5.7: To_find_the_peak_current.sce"
		   ]
		  },
  {
"cell_type": "code",
	   "execution_count": null,
	   "metadata": {
	    "collapsed": true
	   },
	   "outputs": [],
"source": [
"// Example no.5.7\n",
"// To find the peak current if (a) LO power = 10 dBm, (b) LO power = −10 dBm for the balanced receiver\n",
"// Page no.234\n",
"\n",
"clc;\n",
"clear;\n",
"\n",
"// Given data\n",
"L=100;                                            // Length of fiber\n",
"loss=0.2*L;                                       // Total fiber loss\n",
"PtdBm=12;                                         // The peak power of the signal at the transmitter\n",
"R=0.9;                                            // Responsivity in A/W\n",
"PrdBm=PtdBm-loss;                                 // The power at the receiver\n",
"\n",
"// (a) the peak current LO power = 10 dBm\n",
"PLO1dBm=10;                                       // Power at local oscillator in dBm\n",
"PLO1=10^(0.1*PLO1dBm);                            // Power at local oscillator in mW\n",
"Pr=10^(0.1*PrdBm);                                // Power at receiver in mW\n",
"Id1=2*R*sqrt(Pr*PLO1);                            // The peak current LO power = 10 dBm\n",
"\n",
"// Display result on command window\n",
"printf('\n The peak current for LO power 10 dBm = %0.4f mA',Id1)\n",
"\n",
"// (b) the peak current LO power = -10 dBm\n",
"PLO2dBm=-10;                                      // Power at local oscillator in dBm\n",
"PLO2=10^(0.1*PLO2dBm);                            // Power at local oscillator in mW\n",
"Id2=2*R*sqrt(Pr*PLO2);                            // The peak current LO power = -10 dBm\n",
"\n",
"// Display result on command window\n",
"printf('\n The peak current for LO power -10 dBm = %0.4f mA',Id2)\n",
"\n",
"// comment on the intermodulation cross-talk in a single-branch receiver and the balanced receiver\n",
"printf('\n A single-branch receiver would have a significant amount of cross-talk. In contrast, for a balanced receiver, intermodulation cross-talk is canceled out \n due to the balanced detection.') "
   ]
   }
,
{
		   "cell_type": "markdown",
		   "metadata": {},
		   "source": [
			"## Example 5.8: EX5_8.sce"
		   ]
		  },
  {
"cell_type": "code",
	   "execution_count": null,
	   "metadata": {
	    "collapsed": true
	   },
	   "outputs": [],
"source": [
"// Example no.5.8\n",
"// To find the in-phase and quadrature components of the current of a balanced IQ receiver.\n",
"// Page no.238\n",
"\n",
"clc;\n",
"clear;\n",
"\n",
"// Given data\n",
"PLO=10;                                         // Local oscillator power in mW from Example 5.7a\n",
"Pr=0.1585;                                      // Power at receiver in mW\n",
"R=0.9;                                          // Responsivity in A/W\n",
"st=complex((-1/sqrt(2)),(1/sqrt(2)));           // The QPSK transmitted signal\n",
"Ii=R*sqrt(Pr*PLO)*real(st);                     // The in-phase component of the current in mA\n",
"Iq=-R*sqrt(Pr*PLO)*imag(st);                    // The quadrature component of the current in mA\n",
"\n",
"// Display result on command window\n",
"printf('\n The in-phase component of the current = %0.4f mA',Ii)\n",
"printf('\n The quadrature component of the current = %0.4f mA',Iq)\n",
""
   ]
   }
,
{
		   "cell_type": "markdown",
		   "metadata": {},
		   "source": [
			"## Example 5.9: EX5_9.sce"
		   ]
		  },
  {
"cell_type": "code",
	   "execution_count": null,
	   "metadata": {
	    "collapsed": true
	   },
	   "outputs": [],
"source": [
"// Example 5.9\n",
"// To find the in-phase and quadrature components of the current of a polarization modulated (PM) QPSK signal\n",
"// Page no. 241\n",
"\n",
"clc;\n",
"clear;\n",
"\n",
"// Given data\n",
"theta1=%pi/4;\n",
"Sx=expm(%i*theta1);                                                 // Signal data in x-polarization\n",
"theta2=(5*%pi)/4;\n",
"Sy=expm(%i*theta2);                                                 // Signal data in y-polarization\n",
"PLO=10;                                                             // Local oscillator power in mW from Example 5.8\n",
"Pr=0.1585;                                                          // Power at receiver in mW from Example 5.8\n",
"R=0.9;                                                              // Reflectivity\n",
"\n",
"// The complex photocurrent corresponding to x-polarization \n",
"Ix= (R*sqrt(Pr*PLO))*Sx/2;                                         // The complex photocurrent corresponding to x-polarization\n",
"Iix=real(Ix);                                                      // In-phase component of phtocurrent corresponding to x-polarization\n",
"Iqx=-imag(Ix);                                                     // Quadrature component of phtocurrent corresponding to x-polarization\n",
"\n",
"// The complex photocurrent corresponding to y-polarization \n",
"Iy= (R*sqrt(Pr*PLO))*Sy/2;                                         // The complex photocurrent corresponding to y-polarization\n",
"Iiy=real(Iy);                                                      // In-phase component of phtocurrent corresponding to y-polarization\n",
"Iqy=-imag(Iy);                                                     // Quadrature component of phtocurrent corresponding to y-polarization\n",
"\n",
"// Display result on command window\n",
"printf('\n In-phase component of phtocurrent corresponding to x-polarization = %0.4f mA',Iix);\n",
"printf('\n Quadrature component of phtocurrent corresponding to x-polarization = %0.4f mA',Iqx);\n",
"printf('\n In-phase component of phtocurrent corresponding to y-polarization = %0.4f mA',Iiy);\n",
"printf('\n Quadrature component of phtocurrent corresponding to y-polarization = %0.4f mA',Iqy);"
   ]
   }
],
"metadata": {
		  "kernelspec": {
		   "display_name": "Scilab",
		   "language": "scilab",
		   "name": "scilab"
		  },
		  "language_info": {
		   "file_extension": ".sce",
		   "help_links": [
			{
			 "text": "MetaKernel Magics",
			 "url": "https://github.com/calysto/metakernel/blob/master/metakernel/magics/README.md"
			}
		   ],
		   "mimetype": "text/x-octave",
		   "name": "scilab",
		   "version": "0.7.1"
		  }
		 },
		 "nbformat": 4,
		 "nbformat_minor": 0
}
