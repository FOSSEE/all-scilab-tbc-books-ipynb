{
"cells": [
 {
		   "cell_type": "markdown",
	   "metadata": {},
	   "source": [
       "# Chapter 10: Nonlinear Effects in Fibers"
	   ]
	},
{
		   "cell_type": "markdown",
		   "metadata": {},
		   "source": [
			"## Example 10.1: Calculation_of_the_non_linear_coeffifient.sce"
		   ]
		  },
  {
"cell_type": "code",
	   "execution_count": null,
	   "metadata": {
	    "collapsed": true
	   },
	   "outputs": [],
"source": [
"// Example 10.1\n",
"// Calculation of the non linear coeffifient.\n",
"// Page no 429\n",
"\n",
"clc;\n",
"clear;\n",
"close;\n",
"\n",
"//Given data\n",
"n2=2.5*10^-20;                      // Kerr coefficient\n",
"lambda=1550*10^-9;                 // Wavelength\n",
"A=80*10^-12;                       // Effective area\n",
"\n",
"\n",
"\n",
"// Non linear coeffifient\n",
"g=(n2*2*%pi)/(lambda*A); \n",
"g=g*10^3;\n",
"\n",
"\n",
"//Displaying results in the command window            \n",
"printf('\n Nonlinear coefficient = %0.3f W^-1m^-1 ',g);\n",
""
   ]
   }
,
{
		   "cell_type": "markdown",
		   "metadata": {},
		   "source": [
			"## Example 10.2: Calculation_of_the_lower_limit_on_the_effective_area_of_the_fiber.sce"
		   ]
		  },
  {
"cell_type": "code",
	   "execution_count": null,
	   "metadata": {
	    "collapsed": true
	   },
	   "outputs": [],
"source": [
"// Example 10.2\n",
"// Calculation of the lower limit on the effective area of the fiber.\n",
"// Page no 431\n",
"\n",
"clc;\n",
"clear;\n",
"close;\n",
"\n",
"//Given data\n",
"\n",
"c=3*10^8;                // Velocity of light\n",
"tl=1000*10^3;            // Total length\n",
"as=100*10^3;             // Amplifier spacing\n",
"alpha=0.046*10^-3;       // Loss coefficient\n",
"L=100*10^3;\n",
"n2=2.5*10^-20;          // Kerr coefficient\n",
"p=0;                    // Peak power at the fiber input\n",
"lambda=1550*10^-9;      // Operating frequency\n",
"\n",
"// The peak power required to form a soliton\n",
"Le=(1-exp(-alpha*L))/alpha;\n",
"n=tl/as;\n",
"p=10^(p/10);\n",
"r=0.5/(Le*p);\n",
"A=(2*%pi*n2)/(lambda*r);\n",
"A=A*10^12;\n",
"\n",
"// Displaying results in the command window            \n",
"printf('\n The lower limit on the effective area of the fiber  = %0.2f micrometer^2',A*10^-2);\n",
"printf('\n The effective area should be greater than 43.62 μm2 to have the peak nonlinear phase shift less than or equal to 0.5 rad.');\n",
"\n",
"\n",
"// The answers vary due to round off error"
   ]
   }
,
{
		   "cell_type": "markdown",
		   "metadata": {},
		   "source": [
			"## Example 10.3: Calculation_of_the_peak_power_required_to_form_a_soliton.sce"
		   ]
		  },
  {
"cell_type": "code",
	   "execution_count": null,
	   "metadata": {
	    "collapsed": true
	   },
	   "outputs": [],
"source": [
"// Example 10.3\n",
"// Calculation of the peak power required to form a soliton\n",
"// Page no 435\n",
"\n",
"clc;\n",
"clear;\n",
"close;\n",
"\n",
"//Given data\n",
"\n",
"b=-21*10^-27;       // FWHM of a fundamental soliton\n",
"Tf=50*10^-12;       // Fiber dispersion coefficient\n",
"r=1.1*10^-3;        // Nonlinear coefficient\n",
"\n",
"// The peak power required to form a soliton\n",
"Th=asech(sqrt(0.5));\n",
"f=2*Th;\n",
"T0=Tf/f;\n",
"n=(sqrt(-b))/T0;\n",
"P=(n^2)/r;\n",
"//P=P*10^2;\n",
"\n",
"\n",
"// Displaying results in the command window            \n",
"printf('\n The peak power required to form a soliton = %0.1f mW',P*10^2);\n",
"\n",
"// Answer is wrong in book\n",
""
   ]
   }
,
{
		   "cell_type": "markdown",
		   "metadata": {},
		   "source": [
			"## Example 10.4: Calculation_of_the_peak_power_required_to_form_a_soliton.sce"
		   ]
		  },
  {
"cell_type": "code",
	   "execution_count": null,
	   "metadata": {
	    "collapsed": true
	   },
	   "outputs": [],
"source": [
"// Example 10.4\n",
"// Calculation of the peak power required to form a soliton\n",
"// Page no 444\n",
"\n",
"clc;\n",
"clear;\n",
"close;\n",
"\n",
"// Given data\n",
"\n",
"c=3*10^8;                // Velocity of light\n",
"S=0.06*10^3;            // Dispersion slope\n",
"D=17*10^-6;             // Dispersion coefficient\n",
"lambda=1550*10^-9;     // Signal Wavelength\n",
"lc=1550*10^-9;         // Signal Wavelength\n",
"lp=1549.6*10^-9;       // Pump wavelength\n",
"l=50*10^3;             // Length\n",
"r=2*%pi*10^10;\n",
"alpha=0.046*10^-3;      // Loss coefficient\n",
"\n",
"// The peak power required to form a soliton\n",
"b3=S*(lambda^2/(2*%pi*c))+D*(lambda^3/(2*%pi^2*c^2));\n",
"b2=-(D*lambda^2)/(2*%pi*c);\n",
"o=2*%pi*(c/lp-c/lc);\n",
"d=(b2*o)+(b3*o^2)/2;\n",
"n=alpha^2/alpha^2*r*4*d^2*(1+(4*(sin(r*d*l))^2*%e^(-alpha*l))/(1-%e^(-alpha*l)^2));\n",
"n=n*10^-18;\n",
"// Displaying results in the command window            \n",
"printf('\n XPM efficiency = %0.3f *10^-3',n);\n",
"\n",
"\n",
"// The answers vary due to round off error"
   ]
   }
,
{
		   "cell_type": "markdown",
		   "metadata": {},
		   "source": [
			"## Example 10.5: EX10_5.sce"
		   ]
		  },
  {
"cell_type": "code",
	   "execution_count": null,
	   "metadata": {
	    "collapsed": true
	   },
	   "outputs": [],
"source": [
"// Example 10.5\n",
"// Calculate the efficiency of the non-degenerate FWM tone at −2Δf if (a) beta2 = −4ps^2/km, (b) beta2 = 0ps^2/km.\n",
"// Page no 453\n",
"\n",
"clc;\n",
"clear;\n",
"close;\n",
"\n",
"//Given data\n",
"f=50*10^9;                                     // The bandwidth\n",
"alpha= 0.046*10^-3;                            // The fiber loss coefficient\n",
"L=40*10^3;                                     // The fiber length\n",
"\n",
"Leff=(1-exp(-(alpha*L)))/alpha;               // Effective fiber length\n",
"\n",
"// (a) Calculate the efficiency of the non-degenerate FWM tone at −2Δf beta2 = −4ps^2/km\n",
"bet21=-4*10^(-12);\n",
"j=-1;\n",
"k=0;\n",
"l=1;\n",
"n=j+k-l;\n",
"\n",
"bet1=bet21*10^(-12)/10^(3)*(2*%pi*f)^2*n;\n",
"\n",
"//The efficiency of the non-degenerate FWM tone\n",
"neta1=(alpha^2+4*exp(-alpha*L*10^3)*(sind(bet1*(L*10^3)/2))/Leff^2)/(alpha^2+bet1^2);\n",
"\n",
"//Displaying results in the command window            \n",
"printf('\n The efficiency of the non-degenerate FWM tone at −2Δf (beta2 = −4ps^2/km) = %0.1f X 10^(-3) ',neta1*10^3);\n",
"\n",
"// (b) Calculate the efficiency of the non-degenerate FWM tone at −2Δf beta2 = 0ps^2/km\n",
"bet22=0*10^(-12);\n",
"j=-1;\n",
"k=0;\n",
"l=1;\n",
"n=j+k-l;\n",
"\n",
"bet2=bet22*10^(-12)/10^(3)*(2*%pi*f)^2*n;\n",
"\n",
"//The efficiency of the non-degenerate FWM tone\n",
"neta2=(alpha^2+4*exp(-alpha*L*10^3)*(sind(bet2*(L*10^3)/2))/Leff^2)/(alpha^2+bet2^2);\n",
"\n",
"//Displaying results in the command window            \n",
"printf('\n\n The efficiency of the non-degenerate FWM tone at −2Δf (beta2 = 0ps^2/km) = %0.0f ',neta2);"
   ]
   }
,
{
		   "cell_type": "markdown",
		   "metadata": {},
		   "source": [
			"## Example 10.6: EX10_6.sce"
		   ]
		  },
  {
"cell_type": "code",
	   "execution_count": null,
	   "metadata": {
	    "collapsed": true
	   },
	   "outputs": [],
"source": [
"// Example 10.6\n",
"// to find the nonlinear phase shift at the center of the pulse. Compare the exact results with those obtained using first and second-order perturbation theory\n",
"// Page no 469\n",
"\n",
"clc;\n",
"clear;\n",
"close;\n",
"\n",
"//Given data\n",
"P=6*10^(-3);                                    // The peak power of rectangular pulse\n",
"L=40*10^3;                                      // Fiber of length\n",
"Floss=0.2;                                      // The fiber loss (dB/Km)\n",
"gamm=1.1*10^(-3);\n",
"\n",
"alpha=Floss/4.343;                              // Attenuation coefficient\n",
"Zeff=(1-exp(-alpha*10^(-3)*L))/alpha*10^3;\n",
"\n",
"// The nonlinear phase shift at the center of the pulse\n",
"phi=gamm*P*Zeff;                                // Nonlinear phase shift\n",
"\n",
"//Displaying results in the command window\n",
"printf('\n The nonlinear phase shift at the center of the pulse = %0.4f rad ',phi);\n",
"\n",
"\n",
"// Results using first order\n",
"B01=sqrt(1+gamm^2*P^2*(Zeff)^2);                // Amplitude shift \n",
"thet1=atan(gamm*P*Zeff);                        // Non-linear phase shift \n",
"\n",
"//Displaying results in the command window\n",
"printf('\n\n Amplitude shift using first order = %0.3f ',B01);\n",
"printf('\n Non-linear shift using first order = %0.5f rad',thet1);\n",
"\n",
"// Results using second order\n",
"x=1-((gamm)^2/2*P^2*Zeff^2);\n",
"y=gamm*P*Zeff;\n",
"thet2=atan(y/x);                                // Nonlinear phase shift\n",
"B02=x/cos(thet2);                               // Amplitude shift\n",
"\n",
"//Displaying results in the command window\n",
"printf('\n\n Amplitude shift using second order = %0.5f ',B02);             // Answer is varying due to round-off error\n",
"printf('\n Non-linear shift using second order = %0.5f rad',thet2);         // Answer is varying due to round-off error"
   ]
   }
,
{
		   "cell_type": "markdown",
		   "metadata": {},
		   "source": [
			"## Example 10.7: EX10_7.sce"
		   ]
		  },
  {
"cell_type": "code",
	   "execution_count": null,
	   "metadata": {
	    "collapsed": true
	   },
	   "outputs": [],
"source": [
"// Example 10.7\n",
"// Calculation of the variance of (a) linear phase noise, (b) nonlinear phase noise at the receiver\n",
"// Page no 477\n",
"\n",
"clc;\n",
"clear;\n",
"close;\n",
"\n",
"//Given data\n",
"\n",
"alpha=0.0461;                // Loss coeffient\n",
"na=20;                      // No of amplifiers\n",
"L=80;                       // Amplifier spacing\n",
"tb=25*10^-12;               // Pulse width\n",
"P=2*10^-3;                  // Peak power\n",
"c=3*10^8;                   // Velocity of light\n",
"lambda=1550*10^-9;\n",
"n=1.5;                      // Spontaneous emission factor\n",
"h=6.626*10^-34;             // Planck constant\n",
"r0=1.1*10^-3;               // Nonlinear coefficient\n",
"\n",
"// a) linear phase noise at the receiver\n",
"G=exp(alpha*L);\n",
"f=c/lambda;\n",
"R=h*f*(G-1)*n;\n",
"E=P*tb;\n",
"rl=(na*R)/(2*E);\n",
"rl=rl*10^3;\n",
"\n",
"// (b) nonlinear phase noise at the receiver\n",
"Le=(1-exp(-alpha*L))/alpha;\n",
"rnl=((na-1)*na*(2*na-1)*R*E*r0^2*Le^2)/(3*tb^2);\n",
"rnl=rnl*10^9;\n",
"\n",
"t=rl+rnl;\n",
"\n",
"//Displaying results in the command window            \n",
"printf('\n The linear phase noise at the receiver = %0.2f rad^2 ',rl);\n",
"printf('\n The nonlinear phase noise at the receiver = %0.2f rad^2 ',rnl);\n",
"printf('\n The total variance = %0.2f X 10^-3 rad^2 ',t);\n",
"\n",
""
   ]
   }
,
{
		   "cell_type": "markdown",
		   "metadata": {},
		   "source": [
			"## Example 10.8: Calculation_of_the_Stokes_signal_power_at_the_fiber_output.sce"
		   ]
		  },
  {
"cell_type": "code",
	   "execution_count": null,
	   "metadata": {
	    "collapsed": true
	   },
	   "outputs": [],
"source": [
"// Example 10.8\n",
"// Calculation of the Stokes signal power at the fiber output\n",
"// Page no 480\n",
"\n",
"clc;\n",
"clear;\n",
"close;\n",
"\n",
"//Given data\n",
"p1=20;                       // Input power pump\n",
"ps=-10;                      // Input Stokes’s signal power\n",
"alpha=0.08;\n",
"L=2;                        // Length of fiber\n",
"alpha1=0.046;\n",
"A=40*10^-12;               // Effective area of fiber\n",
"g=1*10^-13;                // Raman coefficient of the fiber\n",
"\n",
"// The Stokes signal power at the fiber output\n",
"p1=10^(p1/10);\n",
"ps=10^(ps/10);\n",
"Le=(1-exp(-alpha*L))/alpha;\n",
"s=(g*p1*Le)/A;\n",
"d=alpha1*L;\n",
"pd=ps*%e^(-d+s);\n",
"\n",
"\n",
"\n",
"// Displaying results in the command window            \n",
"printf('\n The Stokes signal power at the fiber output  = %0.15f mW ',pd);\n",
"\n",
""
   ]
   }
],
"metadata": {
		  "kernelspec": {
		   "display_name": "Scilab",
		   "language": "scilab",
		   "name": "scilab"
		  },
		  "language_info": {
		   "file_extension": ".sce",
		   "help_links": [
			{
			 "text": "MetaKernel Magics",
			 "url": "https://github.com/calysto/metakernel/blob/master/metakernel/magics/README.md"
			}
		   ],
		   "mimetype": "text/x-octave",
		   "name": "scilab",
		   "version": "0.7.1"
		  }
		 },
		 "nbformat": 4,
		 "nbformat_minor": 0
}
