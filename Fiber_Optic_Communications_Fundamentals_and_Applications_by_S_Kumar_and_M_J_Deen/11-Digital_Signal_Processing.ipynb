{
"cells": [
 {
		   "cell_type": "markdown",
	   "metadata": {},
	   "source": [
       "# Chapter 11: Digital Signal Processing"
	   ]
	},
{
		   "cell_type": "markdown",
		   "metadata": {},
		   "source": [
			"## Example 11.1: EX11_1.sce"
		   ]
		  },
  {
"cell_type": "code",
	   "execution_count": null,
	   "metadata": {
	    "collapsed": true
	   },
	   "outputs": [],
"source": [
"// Example 11.1\n",
"// Calculation of the minimum number of taps needed to compensate for the fiber dispersion\n",
"// Page no 509\n",
"\n",
"clc;\n",
"clear;\n",
"close;\n",
"\n",
"// Given data\n",
"b=22*10^-27;                 // Power launched in port 1\n",
"l=800*10^3;                  // Power launched in port 2\n",
"T=50*10^-12;                // Power launched in port 3 \n",
"\n",
"\n",
"// Bit rate of communication system\n",
"k=ceil((%pi*b*l)/T^2);\n",
"n=(2*k)+1;\n",
"\n",
"\n",
"// Displaying results in the command window            \n",
"printf('\n The number of the taps = %0.3f ',n);\n",
"\n",
"// The answers vary due to round off error"
   ]
   }
],
"metadata": {
		  "kernelspec": {
		   "display_name": "Scilab",
		   "language": "scilab",
		   "name": "scilab"
		  },
		  "language_info": {
		   "file_extension": ".sce",
		   "help_links": [
			{
			 "text": "MetaKernel Magics",
			 "url": "https://github.com/calysto/metakernel/blob/master/metakernel/magics/README.md"
			}
		   ],
		   "mimetype": "text/x-octave",
		   "name": "scilab",
		   "version": "0.7.1"
		  }
		 },
		 "nbformat": 4,
		 "nbformat_minor": 0
}
