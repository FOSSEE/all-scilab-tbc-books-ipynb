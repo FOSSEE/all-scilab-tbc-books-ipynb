{
"cells": [
 {
		   "cell_type": "markdown",
	   "metadata": {},
	   "source": [
       "# Chapter 16: Faults and Protection"
	   ]
	},
{
		   "cell_type": "markdown",
		   "metadata": {},
		   "source": [
			"## Example 16.1: Peak_inverse_voltage.sci"
		   ]
		  },
  {
"cell_type": "code",
	   "execution_count": null,
	   "metadata": {
	    "collapsed": true
	   },
	   "outputs": [],
"source": [
"//Faults and Protection//\n",
"//Example 16.1//\n",
"V=415;//AC input voltage//\n",
"Vf=2.53;//voltage safety factor//\n",
"PIV=2*sqrt(2)*V*Vf;//peak inverse voltage of the device//\n",
"printf('peak inverse voltage of the device=PIV=%fVolts',PIV);"
   ]
   }
,
{
		   "cell_type": "markdown",
		   "metadata": {},
		   "source": [
			"## Example 16.2: Voltage_safety_factor.sci"
		   ]
		  },
  {
"cell_type": "code",
	   "execution_count": null,
	   "metadata": {
	    "collapsed": true
	   },
	   "outputs": [],
"source": [
"//Faults and Protection//\n",
"//Example 16.2//\n",
"V=415;//AC input voltage in volts//\n",
"PIV=1350;//peak inverse voltage of the device in volts//\n",
"Vf=PIV/(sqrt(2)*V);//voltage safety factor of the device//\n",
"printf('voltage safety factor of the device=Vf=%f',Vf);"
   ]
   }
,
{
		   "cell_type": "markdown",
		   "metadata": {},
		   "source": [
			"## Example 16.3: Choke_power.sci"
		   ]
		  },
  {
"cell_type": "code",
	   "execution_count": null,
	   "metadata": {
	    "collapsed": true
	   },
	   "outputs": [],
"source": [
"//Faults and Protection//\n",
"//Example 16.3//\n",
"P=100;//input power in KVA//\n",
"Xt=0.04;//limiting ac reactance value//\n",
"Fov=2;//current ovarload factor//\n",
"Pc=Xt*P*Fov;//choke power of the converter in KVA//\n",
"printf('choke power of the converter=Pc=%fKVA',Pc);"
   ]
   }
,
{
		   "cell_type": "markdown",
		   "metadata": {},
		   "source": [
			"## Example 16.4: Snubber_circuit.sci"
		   ]
		  },
  {
"cell_type": "code",
	   "execution_count": null,
	   "metadata": {
	    "collapsed": true
	   },
	   "outputs": [],
"source": [
"//Faults and Protection//\n",
"//Example 16.4//\n",
"Ls=0.1;//stray inductance in the circuit in milli Henry//\n",
"L=2*Ls;//inductance required for the snubber ckt for protection in mH//\n",
"Im=250;//mean value of current in amp//\n",
"C=2.5*Im;//capacitance required for the snubber ckt in nano Farads//\n",
"printf('capacitance in snubber circuit=C=%fnanofarads',C);\n",
"R=2*100*sqrt(L/C);//resistance in snubber circuit in Kilo Ohms//\n",
"printf('\nResistance in snubber circuit=R=%fKilo Ohms',R);\n",
"Pdif=1*30;//permissible dv/dt of the circuit//\n",
"printf('\nPermissible dv/dt of the circuit=%fMV/s',Pdif);"
   ]
   }
,
{
		   "cell_type": "markdown",
		   "metadata": {},
		   "source": [
			"## Example 16.5: Suitable_circuit.sci"
		   ]
		  },
  {
"cell_type": "code",
	   "execution_count": null,
	   "metadata": {
	    "collapsed": true
	   },
	   "outputs": [],
"source": [
"//Faults and Protection//\n",
"//Example 16.5//\n",
"V=240;//dc input voltage in volts//\n",
"Vh=25;//each selenium plate handling voltage in volts//\n",
"N=V/Vh;//number of plates in series in the circuit//\n",
"printf('number of plates in series in the circuit=N=%f',N);\n",
"printf('\nso we will use 10 plates in the circuit');"
   ]
   }
,
{
		   "cell_type": "markdown",
		   "metadata": {},
		   "source": [
			"## Example 16.6: Suitable_circuit.sci"
		   ]
		  },
  {
"cell_type": "code",
	   "execution_count": null,
	   "metadata": {
	    "collapsed": true
	   },
	   "outputs": [],
"source": [
"//Faults and Protection//\n",
"//Example 16.6//\n",
"V=230;//ac input voltage in volts//\n",
"Vh=30;//each selenium plate handling voltage in volts//\n",
"N=((V/Vh)1)+1;//number of plates in series in each direction in the ckt//\n",
"printf('number of plates in series in each direction=N=%f',N);\n",
"Nt=2*N;//total number of plates in series in the circuit//\n",
"printf('\ntotal number of plates in series in both directions=Nt=%f',Nt);"
   ]
   }
,
{
		   "cell_type": "markdown",
		   "metadata": {},
		   "source": [
			"## Example 16.7: Energy_dissipated_per_plate.sci"
		   ]
		  },
  {
"cell_type": "code",
	   "execution_count": null,
	   "metadata": {
	    "collapsed": true
	   },
	   "outputs": [],
"source": [
"//Faults and Protection//\n",
"//Example 16.7//\n",
"V=415;//ac input voltage in volts//\n",
"Vdc=440;//supplied voltage to dc motor in volts//\n",
"Vh=30;//each selenium plate handling voltage in volts//\n",
"N=Vdc/Vh;//number of plates in series in each direction in the ckt//\n",
"N=15;\n",
"printf('number of plates in each branch=N=%f',N);\n",
"Nt=3*N;//total number of plates in series in the circuit//\n",
"printf('\ntotal number of plates=Nt=%f',Nt);\n",
"Ipa=136;//peak armature current in amperes//\n",
"T=30;//time constant in milliseconds//\n",
"R=0.175;//Armature resistance in Ohms//\n",
"L=T*R;//Armature circuit Inductance in milliHenry//\n",
"printf('\nArmature circuit inductance=L=%fmH',L);\n",
"Es=0.5*L*Ipa^2*10^-3;//Energy stored in armature circuit in wattsec//\n",
"printf('\nEnergy stored in armature circuit=Es=%fwattsec',Es);\n",
"Ed=Es/N;//Energy dissipated per plate in wattsec//\n",
"printf('\nEnergy dissipated per plate=Ed=%fwattsec',Ed);"
   ]
   }
,
{
		   "cell_type": "markdown",
		   "metadata": {},
		   "source": [
			"## Example 16.8: Protection_circuit.sci"
		   ]
		  },
  {
"cell_type": "code",
	   "execution_count": null,
	   "metadata": {
	    "collapsed": true
	   },
	   "outputs": [],
"source": [
"//Faults and Protection//\n",
"//Example 16.8//\n",
"printf(' As the thyristor converter is required for both rectification/inversion and as the fuse has to protect against inverter fault also,fuses will have to be located in branches and minimum of six fuses will be required.');\n",
"Id=765;//dc current in amps//\n",
"Ib=0.58*Id;//Current through each branch in amps//\n",
"printf('\n Current through each thyristor branch=Ib=%famps',Ib);\n",
"printf('\n Inverter short through:');\n",
"printf('\n Voltage causing inverter shoot through current=E2+eb');\n",
"printf('\n Maximum value of the voltage causing inverter shoot through current=sqrt(2)*E2+eb');\n",
"//E2=Input voltage of the thyristor converter//\n",
"//eb=Back emf of the motor causing regeneration//\n",
"printf('\n Recovery voltage across each fuse=Ew=E2/2+eb/(2*sqrt(2))');\n",
"//eb=Edi*cos(5*%pi/6)//\n",
"//Edi=Maximum dc value of the voltage on the thyristor converter=1.35*E2 for 6 pulse connection under discussion//\n",
"//Angle of 5*%pi/6 is normally taken as the limiting value of the firing angle beyond which inverter shoot through will takes place//\n",
"printf('\n Further fuse rated voltage=En=E2+Eb/sqrt(2)=2*Ew');\n",
"E2=500;\n",
"Ew=0.914*E2;\n",
"printf('\n Ew=%fvolts',Ew);\n",
"En=2*Ew;\n",
"printf('\n En=%fvolts',En);\n",
"printf('\n Ew/En=455/1000=0.45');\n",
"printf('\n Ita^2=1.4*Itm^2\n Total It^2 value of fuse=Ita^2+Itm^2=2.4*Itm^2=2.4*65000A^2s=1,56,000A^2s');\n",
"printf('\n I^2t of thyristor=1,90,000A^2s');\n",
"printf('\n I^2t of thyristor>I^2t of fuse or the fuse will protect the device');\n",
"printf('\n Short circuit on dc Bushers');\n",
"//The fault is shown in fig 16.9(c) along with path of the fault current//\n",
"printf('\n Maximum voltage causing fault current=sqrt(2)*E2');\n",
"printf('\n Recovery voltage across each fuse=0.5*E2=0.5*500=250volts');\n",
"printf('\n Ew/En=250/1000=0.25 and at this value Ita^2=0.4*Itm^2');\n",
"printf('\n It^2 of fuse=Ita^2+Itm^2=1.4*Itm^2=1.4*65000=91000A^2s');\n",
"printf('\n It^2 of thyristor=1,50,000A^2s\n It^2 of thyristor>>It^2 of fuse\n the fuse will protect thyristor');\n",
"printf('\n Puncture of a device:\n In this case also maximum voltage causing fault current=sqrt(2)*E2\n Thus as per case It^2 value of thyristor will be more than that of fuse');\n",
"printf('\n Short circuit between phase and bridge:\n In this case also as per case above fuse will protect device\n Thus the fuse will protect for all faults');"
   ]
   }
,
{
		   "cell_type": "markdown",
		   "metadata": {},
		   "source": [
			"## Example 16.9: Additional_value_of_inductance.sci"
		   ]
		  },
  {
"cell_type": "code",
	   "execution_count": null,
	   "metadata": {
	    "collapsed": true
	   },
	   "outputs": [],
"source": [
"//Faults and Protection//\n",
"//Example 16.9//\n",
"printf('    Thus from the table we see at a value of circuit inductance 1.592mH,I^2t value of breaker is 4.9*10^5A^2s and selectivity between fuse and breakeris I^2tFuse/I^2t Breaker=4*10^5/4.97*10^5=1.01');\n",
"printf('\nAs this is just the border case we will go for the next value of inductancei.e,1.91mH.where selectivity=5*10^5/4.34*10^5=1.18');\n",
"printf('\nThus the additional inductance required is=1.91-1.273=0.637mH');"
   ]
   }
],
"metadata": {
		  "kernelspec": {
		   "display_name": "Scilab",
		   "language": "scilab",
		   "name": "scilab"
		  },
		  "language_info": {
		   "file_extension": ".sce",
		   "help_links": [
			{
			 "text": "MetaKernel Magics",
			 "url": "https://github.com/calysto/metakernel/blob/master/metakernel/magics/README.md"
			}
		   ],
		   "mimetype": "text/x-octave",
		   "name": "scilab",
		   "version": "0.7.1"
		  }
		 },
		 "nbformat": 4,
		 "nbformat_minor": 0
}
