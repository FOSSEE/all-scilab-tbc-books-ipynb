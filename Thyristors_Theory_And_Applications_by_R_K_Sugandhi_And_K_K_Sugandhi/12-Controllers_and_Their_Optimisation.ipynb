{
"cells": [
 {
		   "cell_type": "markdown",
	   "metadata": {},
	   "source": [
       "# Chapter 12: Controllers and Their Optimisation"
	   ]
	},
{
		   "cell_type": "markdown",
		   "metadata": {},
		   "source": [
			"## Example 12.1: Permanent_error_of_p_contoller.sci"
		   ]
		  },
  {
"cell_type": "code",
	   "execution_count": null,
	   "metadata": {
	    "collapsed": true
	   },
	   "outputs": [],
"source": [
"//Controllers and Their Optimisation//\n",
"//Example 12.1//\n",
"V=40;//gain of the controller in volts//\n",
"P=100/(1+V);//permanent error of p controller in percent//\n",
"printf('permanent Error of P controller=P=%fpercent',P);"
   ]
   }
,
{
		   "cell_type": "markdown",
		   "metadata": {},
		   "source": [
			"## Example 12.2: Motor_armature_time_constant.sci"
		   ]
		  },
  {
"cell_type": "code",
	   "execution_count": null,
	   "metadata": {
	    "collapsed": true
	   },
	   "outputs": [],
"source": [
"//Controllers and Their Optimisation//\n",
"//Example 12.2//\n",
"P=1.8;//permanent error of p controller in percent//\n",
"V=100/1.8-1;//gain of the controller in volts//\n",
"printf('gain of the controller=V=%fvolts',V);\n",
"G=8;//sum of all time constants in milliseconds//\n",
"T1=2*G*V;//motor armature time constant//\n",
"printf('\nMotor armature time constant=T1=%fmilliseconds',T1);"
   ]
   }
,
{
		   "cell_type": "markdown",
		   "metadata": {},
		   "source": [
			"## Example 12.3: Controller_parameters.sci"
		   ]
		  },
  {
"cell_type": "code",
	   "execution_count": null,
	   "metadata": {
	    "collapsed": true
	   },
	   "outputs": [],
"source": [
"//Controllers and Their Optimisation//\n",
"//Example 12.3//\n",
"f=50;//frequency in hz//\n",
"p=6;//pulse number//\n",
"t1=1000/(2*f*p);//time constant for the current loop in ms//\n",
"printf('time constant for the current loop=t1=%fms',t1);\n",
"t2=1.5;//time constant of feedback channel in ms//\n",
"G=t1+t2;//smaller time constant in ms//\n",
"printf('\nSmaller time constant=G=%fms',G);\n",
"T1=30;//bigger time constant in ms//\n",
"Tn=T1;//time constant of the controller in ms//\n",
"printf('\nTime constant of the controller in AVO=Tn=%fms',Tn);\n",
"V=T1/(2*G);//gain of the control system//\n",
"printf('\nGain of the control system=V=%f',V);\n",
"Vg=14;//gain of the regulating current link//\n",
"Vr=V/Vg;//gain of the PI controller//\n",
"printf('\nGain of the PI controller=Vr=%f',Vr);\n",
"R2=11;//R2 in KiloOhms//\n",
"R1=R2/Vr;//R1 in kiloohms//\n",
"printf('\nR1=%fKiloohms',R1);\n",
"C1=Tn/R1;//C1 in microfarads//\n",
"printf('\nC1=%fmicrofarads',C1);"
   ]
   }
,
{
		   "cell_type": "markdown",
		   "metadata": {},
		   "source": [
			"## Example 12.4: Designing_a_PI_regulator.sci"
		   ]
		  },
  {
"cell_type": "code",
	   "execution_count": null,
	   "metadata": {
	    "collapsed": true
	   },
	   "outputs": [],
"source": [
"//Controllers and Their Optimisation//\n",
"//Example 12.4//\n",
"G=20;//smaller time constant in ms//\n",
"T1=350;//bigger time constant in ms//\n",
"Tn=4*G;//time constant of the controller in ms//\n",
"printf('\nTime constant of the controller in SO=Tn=%fms',Tn);\n",
"V=T1/(2*G);//gain of the control system//\n",
"printf('\nGain of the control system=V=%f',V);\n",
"Vg=1;//gain of the regulating current link//\n",
"Vr=V/Vg;//gain of the PI regulator//\n",
"printf('\nGain of the PI regulator=Vr=%f',Vr);\n",
"R1=11;//R1 in KiloOhms//\n",
"R2=R1*Vr;//R2 in kiloohms//\n",
"printf('\nR2=%fKiloohms',R2);\n",
"C2=Tn/R2;//C1 in microfarads//\n",
"printf('\nC2=%fmicrofarads',C2);"
   ]
   }
,
{
		   "cell_type": "markdown",
		   "metadata": {},
		   "source": [
			"## Example 12.5: Time_constant_of_the_controller.sci"
		   ]
		  },
  {
"cell_type": "code",
	   "execution_count": null,
	   "metadata": {
	    "collapsed": true
	   },
	   "outputs": [],
"source": [
"//Controllers and Their Optimisation//\n",
"//Example 12.5//\n",
"G=6;//smaller time constant in ms//\n",
"T1=80;//bigger time constant in ms//\n",
"Tn=T1;//time constant of the controller in ms//\n",
"printf('Time constant of the controller=Tn=%fms',Tn);\n",
"V=T1/(2*G);//gain of the control system//\n",
"printf('\nGain of the control system=V=%f',V);\n",
"Wn=1/(sqrt(2)*G);//Natural frequency of the system in rad/ms//\n",
"printf('\nNatural frequency of the system=Wn=%frad/ms',Wn);\n",
"Tf=4.7*G;//time taken by the system to achiecve its desired output for firsttime//\n",
"printf('\ntime taken by the system to achieve its desired value=Tf=%fms',Tf);\n",
"printf('\nMaximum overshoot for a symmetrically optimised system is 4.3 percent');\n",
"Tmax=6.24*G;//time at which maximum overload will occur in ms//\n",
"printf('\nTime at which maximum overload will occur=Tmax=%fms',Tmax);"
   ]
   }
,
{
		   "cell_type": "markdown",
		   "metadata": {},
		   "source": [
			"## Example 12.6: Maximum_overshoot.sci"
		   ]
		  },
  {
"cell_type": "code",
	   "execution_count": null,
	   "metadata": {
	    "collapsed": true
	   },
	   "outputs": [],
"source": [
"//Controllers and Their Optimisation//\n",
"//Example 12.6//\n",
"G=20;//smaller time constant in ms//\n",
"Tn=4*G;//time constant of the controller in ms//\n",
"printf('time constant of the controller=Tn=%fms',Tn);\n",
"T1=170;//bigger time constant in ms//\n",
"V=T1/(2*G);//gain of the control system//\n",
"printf('\nGain of the control system=V=%f',V);\n",
"Tf=3.1*G;//time taken by the system to achiecve its final value on step input//\n",
"printf('\ntime taken by the system to achieve its final value=Tf=%fms',Tf);\n",
"printf('\nMaximum overshoot for a symmetrically optimised system is 43 percent');"
   ]
   }
,
{
		   "cell_type": "markdown",
		   "metadata": {},
		   "source": [
			"## Example 12.7: Settling_time.sci"
		   ]
		  },
  {
"cell_type": "code",
	   "execution_count": null,
	   "metadata": {
	    "collapsed": true
	   },
	   "outputs": [],
"source": [
"//Controllers and Their Optimisation//\n",
"//Example 12.7//\n",
"G=10;//smaller time constant in ms//\n",
"Tf=4.7*G;//time taken by the system to achiecve its final output for firsttime//\n",
"printf('time taken by the system to achieve its final value=Tf=%fms',Tf);\n",
"printf('\nMaximum overshoot for a symmetrically optimised system is 4.3 percent');\n",
"Tmax=6.24*G;//time at which maximum overshoot will occur in ms//\n",
"printf('\nTime at which maximum overshoot will occur=Tmax=%fms',Tmax);\n",
"Ts=8.4*G;//settling time in ms//\n",
"printf('\nSettling time=Ts=%fms',Ts);"
   ]
   }
,
{
		   "cell_type": "markdown",
		   "metadata": {},
		   "source": [
			"## Example 12.8: Difference_in_response.sci"
		   ]
		  },
  {
"cell_type": "code",
	   "execution_count": null,
	   "metadata": {
	    "collapsed": true
	   },
	   "outputs": [],
"source": [
"//Controllers and Their Optimisation//\n",
"//Example 12.8//\n",
"printf('Response for an AVO system');\n",
"G=10;//smaller time constant in ms//\n",
"Tf=4.7*G;//time taken by the system to achiecve its final output for firsttime//\n",
"printf('\ntime taken by the system to achieve its final value=Tf=%fms',Tf);\n",
"printf('\nMaximum overshoot for a symmetrically optimised system is 4.3 percent');\n",
"Ts=8.4*G;//settling time in ms//\n",
"printf('\nSettling time=Ts=%fms',Ts);\n",
"printf('\nResponse for an SO system');\n",
"G=10;//smaller time constant in ms//\n",
"Tf=3.1*G;//time taken by the system to achiecve its final output for firsttime//\n",
"printf('\ntime taken by the system to achieve its final value=Tf=%fms',Tf);\n",
"printf('\nMaximum overshoot for a symmetrically optimised system is 43 percent');\n",
"Ts=16.6*G;//settling time in ms//\n",
"printf('\nSettling time=Ts=%fms',Ts);"
   ]
   }
],
"metadata": {
		  "kernelspec": {
		   "display_name": "Scilab",
		   "language": "scilab",
		   "name": "scilab"
		  },
		  "language_info": {
		   "file_extension": ".sce",
		   "help_links": [
			{
			 "text": "MetaKernel Magics",
			 "url": "https://github.com/calysto/metakernel/blob/master/metakernel/magics/README.md"
			}
		   ],
		   "mimetype": "text/x-octave",
		   "name": "scilab",
		   "version": "0.7.1"
		  }
		 },
		 "nbformat": 4,
		 "nbformat_minor": 0
}
