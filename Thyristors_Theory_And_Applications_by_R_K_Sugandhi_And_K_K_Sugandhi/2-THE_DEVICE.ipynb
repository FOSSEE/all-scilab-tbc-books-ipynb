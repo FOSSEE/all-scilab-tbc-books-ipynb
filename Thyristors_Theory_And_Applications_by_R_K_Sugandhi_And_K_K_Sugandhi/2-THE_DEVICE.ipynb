{
"cells": [
 {
		   "cell_type": "markdown",
	   "metadata": {},
	   "source": [
       "# Chapter 2: THE DEVICE"
	   ]
	},
{
		   "cell_type": "markdown",
		   "metadata": {},
		   "source": [
			"## Example 2.1: vlotage_safety_factor.sce"
		   ]
		  },
  {
"cell_type": "code",
	   "execution_count": null,
	   "metadata": {
	    "collapsed": true
	   },
	   "outputs": [],
"source": [
"//chapter 2:THE DEVICE\n",
"//Example 2.1\n",
" Vpiv=1500;//peak inverse voltage//\n",
" V=415;//main supply//\n",
" Vf=Vpiv/(sqrt(2)*V);//voltage safety factor//\n",
"printf('value of voltage safety factor=%fv',Vf);"
   ]
   }
,
{
		   "cell_type": "markdown",
		   "metadata": {},
		   "source": [
			"## Example 2.2: peak_inverse_vlotage.sce"
		   ]
		  },
  {
"cell_type": "code",
	   "execution_count": null,
	   "metadata": {
	    "collapsed": true
	   },
	   "outputs": [],
"source": [
"//chapter 2:THE DEVICE\n",
"//Example 2.2\n",
" Vf=2.1;//voltage safety factor//\n",
" V=230;//main supply//\n",
" Vpiv=sqrt(2)*Vf*V;//peak inverse voltage//\n",
"printf('value of peak inverse voltage=%fv',Vpiv);"
   ]
   }
,
{
		   "cell_type": "markdown",
		   "metadata": {},
		   "source": [
			"## Example 2.3: capacitive_current.sce"
		   ]
		  },
  {
"cell_type": "code",
	   "execution_count": null,
	   "metadata": {
	    "collapsed": true
	   },
	   "outputs": [],
"source": [
"//chapter 2:THE DEVICE\n",
"//Example 2.3\n",
" C=30*10^-12;//equivalent capacitance//\n",
" diffV=150*10^6;//dv/dt value of capacitor//\n",
" Ic=C*(diffV);//capacitive current//\n",
"printf('value of capacitive current=%fAmp',Ic);"
   ]
   }
,
{
		   "cell_type": "markdown",
		   "metadata": {},
		   "source": [
			"## Example 2.4: equivalent_capacitance.sce"
		   ]
		  },
  {
"cell_type": "code",
	   "execution_count": null,
	   "metadata": {
	    "collapsed": true
	   },
	   "outputs": [],
"source": [
"//chapter 2:THE DEVICE\n",
"//Example 2.4\n",
" Ic=5;//capacitive current in milli amperes//\n",
" difV=175;//dv/dt value in mega V/s//\n",
" C=Ic/(difV)*10^3;//equivalent capacitance in pico farad//\n",
"printf('value of equivalent capacitance=%fpico farad',C);"
   ]
   }
,
{
		   "cell_type": "markdown",
		   "metadata": {},
		   "source": [
			"## Example 2.5: value_of_derivative_of_v.sce"
		   ]
		  },
  {
"cell_type": "code",
	   "execution_count": null,
	   "metadata": {
	    "collapsed": true
	   },
	   "outputs": [],
"source": [
"//chapter 2:THE DEVICE\n",
"//Example 2.5\n",
" Ic=6*10^-3;//capacitive current//\n",
" C=25*10^-12;//equivalent capacitance//\n",
" diffV=Ic/C;//dv/dt value of capacitor//\n",
"printf('value of dv/dt=%fv/s',diffV);"
   ]
   }
,
{
		   "cell_type": "markdown",
		   "metadata": {},
		   "source": [
			"## Example 2.6: value_of_rate_of_voltage.sci"
		   ]
		  },
  {
"cell_type": "code",
	   "execution_count": null,
	   "metadata": {
	    "collapsed": true
	   },
	   "outputs": [],
"source": [
"//chapter 2:THE DEVICE\n",
"//Example 2.6////problem 2.1//\n",
" Ic=5;//capacitive current in milli amperes//\n",
" C=35;//equivalent capacitance in pico farad//\n",
" difV=Ic*10^3/C;//value of dv/dt that can trigger the device in V/microseconds//\n",
"printf('value of dv/dt that can trigger the device=%fV/microseconds',difV);"
   ]
   }
,
{
		   "cell_type": "markdown",
		   "metadata": {},
		   "source": [
			"## Example 2.7: Voltage_safety_factor.sci"
		   ]
		  },
  {
"cell_type": "code",
	   "execution_count": null,
	   "metadata": {
	    "collapsed": true
	   },
	   "outputs": [],
"source": [
"//chapter 2:THE DEVICE//\n",
"//Example 2.7//problem2.3//\n",
" Vpiv=1350;//peak inverse voltage in volts//\n",
" V=415;//main supply in volts//\n",
" Vf=Vpiv/(sqrt(2)*V);//voltage safety factor//\n",
"printf('value of voltage safety factor=%fv',Vf);"
   ]
   }
],
"metadata": {
		  "kernelspec": {
		   "display_name": "Scilab",
		   "language": "scilab",
		   "name": "scilab"
		  },
		  "language_info": {
		   "file_extension": ".sce",
		   "help_links": [
			{
			 "text": "MetaKernel Magics",
			 "url": "https://github.com/calysto/metakernel/blob/master/metakernel/magics/README.md"
			}
		   ],
		   "mimetype": "text/x-octave",
		   "name": "scilab",
		   "version": "0.7.1"
		  }
		 },
		 "nbformat": 4,
		 "nbformat_minor": 0
}
