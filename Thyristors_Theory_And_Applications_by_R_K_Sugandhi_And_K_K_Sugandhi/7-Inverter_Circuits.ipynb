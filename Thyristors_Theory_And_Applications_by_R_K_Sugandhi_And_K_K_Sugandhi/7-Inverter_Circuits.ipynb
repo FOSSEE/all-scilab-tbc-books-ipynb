{
"cells": [
 {
		   "cell_type": "markdown",
	   "metadata": {},
	   "source": [
       "# Chapter 7: Inverter Circuits"
	   ]
	},
{
		   "cell_type": "markdown",
		   "metadata": {},
		   "source": [
			"## Example 7.1: Attenuation_factor.sci"
		   ]
		  },
  {
"cell_type": "code",
	   "execution_count": null,
	   "metadata": {
	    "collapsed": true
	   },
	   "outputs": [],
"source": [
"//Inverter Circuits//\n",
"//Example 7.1//\n",
"L=10*10^-3;//Inductance of series inverter circuit in Henry//\n",
"C=0.1*10^-6;//Capacitance of series inverter circuit in Farads//\n",
"R=400;//Load Resistance in Ohms//\n",
"Toff=0.2*10^-3;//Off time of Duty cycle in sec//\n",
"w=sqrt((1/(L*C))-(R^2/(4*L^2)));//Angular Frequency in rad/sec//\n",
"printf('value of w=%f',w);\n",
"F=w/(3.14+(w*Toff));//Output Frequency in Hertz//\n",
"printf('\nvalue of the Output Frequency=F=%fHertz',F);\n",
"T=1/F;//Time period of Output in sec//\n",
"AF=exp((-R/(2*L))*T);//Attenuation Factor//\n",
"printf('\nvalue of the Attenuation Factor=AF=%f',AF);"
   ]
   }
,
{
		   "cell_type": "markdown",
		   "metadata": {},
		   "source": [
			"## Example 7.2: Value_of_inductance.sci"
		   ]
		  },
  {
"cell_type": "code",
	   "execution_count": null,
	   "metadata": {
	    "collapsed": true
	   },
	   "outputs": [],
"source": [
"//Inverter Circuits//\n",
"//Example 7.2//\n",
"C=1*10^-6;//Capacitance of series inverter circuit in Farads//\n",
"f=5*10^3;//operating Frequency of series Inverter in Hertz//\n",
"L=1/(C*(f^2));//value of Inductance under Resonance condition in Henry//\n",
"printf('value of Inductance at resonance=L=%fHenry',L);"
   ]
   }
,
{
		   "cell_type": "markdown",
		   "metadata": {},
		   "source": [
			"## Example 7.3: Value_of_R1.sci"
		   ]
		  },
  {
"cell_type": "code",
	   "execution_count": null,
	   "metadata": {
	    "collapsed": true
	   },
	   "outputs": [],
"source": [
"//Inverter Circuits//\n",
"//Example 7.3//\n",
"L=5*10^-3;//Inductance of series inverter circuit in Henry//\n",
"C=1*10^-6;//Capacitance of series inverter circuit in Farads//\n",
"Rl=400;//Load Resistance in Ohms//\n",
"R2=10^4;//value of the second resistance in Ohms//\n",
"DF=0.7;//Damping Factor value of LC filter//\n",
"R1=(2*(DF)*(sqrt(L/C)))-R2-(1/(Rl*C));//value of the first resistance in Ohms//\n",
"printf('value of resistance=R1=%fOhms',R1);"
   ]
   }
],
"metadata": {
		  "kernelspec": {
		   "display_name": "Scilab",
		   "language": "scilab",
		   "name": "scilab"
		  },
		  "language_info": {
		   "file_extension": ".sce",
		   "help_links": [
			{
			 "text": "MetaKernel Magics",
			 "url": "https://github.com/calysto/metakernel/blob/master/metakernel/magics/README.md"
			}
		   ],
		   "mimetype": "text/x-octave",
		   "name": "scilab",
		   "version": "0.7.1"
		  }
		 },
		 "nbformat": 4,
		 "nbformat_minor": 0
}
