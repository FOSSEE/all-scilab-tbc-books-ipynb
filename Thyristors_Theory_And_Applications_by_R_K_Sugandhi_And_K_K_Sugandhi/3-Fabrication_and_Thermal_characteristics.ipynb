{
"cells": [
 {
		   "cell_type": "markdown",
	   "metadata": {},
	   "source": [
       "# Chapter 3: Fabrication and Thermal characteristics"
	   ]
	},
{
		   "cell_type": "markdown",
		   "metadata": {},
		   "source": [
			"## Example 3.1: junction_temperature.sce"
		   ]
		  },
  {
"cell_type": "code",
	   "execution_count": null,
	   "metadata": {
	    "collapsed": true
	   },
	   "outputs": [],
"source": [
"//Fabrication and Thermal characteristics\n",
"//Example 3.1\n",
"Xa=50;//Ambient temperature//\n",
"P=150;//on state power loss in Watts//\n",
"Rjc=0.02;//junction_case thermal resistance//\n",
"Rcs=0.05;//case_sink thermal resistance//\n",
"Rsa=0.08;//sink_atmosphere thermal resistance//\n",
"Xj=Xa+P*(Rjc+Rcs+Rsa);//junction temperature//\n",
"printf('value of junction temperature=%fc',Xj);"
   ]
   }
,
{
		   "cell_type": "markdown",
		   "metadata": {},
		   "source": [
			"## Example 3.2: Maximum_junction_temperature.sce"
		   ]
		  },
  {
"cell_type": "code",
	   "execution_count": null,
	   "metadata": {
	    "collapsed": true
	   },
	   "outputs": [],
"source": [
"//Fabrication and Thermal characteristics\n",
"//Example 3.2\n",
"Xa=50;//Ambient temperature//\n",
"P20=25;//on state power loss at 20%load in Watts//\n",
"P200=350;//on state power loss at 200%load in Watts//\n",
"Rjc=0.02;//junction_case thermal resistance//\n",
"Rcs=0.05;//case_sink thermal resistance//\n",
"Rsa=0.12;//sink_atmosphere thermal resistance at 20% load cycle//\n",
"T1=60;//time period for the supply of 200% load//\n",
"T=((200^2-20^2)*T1)/(100^2-20^2);//time period of one cycle//\n",
"printf('value of time period of one cycle=%fs',T);\n",
"Ts=140;//thermal time constant for heat sink//\n",
"Xj20=Xa+P20*(Rjc+Rcs+Rsa);//junction temperature//\n",
"printf('\nvalue of junction temperature=%fc',Xj20);\n",
"P=P200-P20;//power required to cool down from 200%load cycle to 20% load cycle//\n",
"printf('\npower required to cool down=%fwatts',P);\n",
"Rsa200=((Rsa)*(1-exp(-T1/Ts)))/(1-exp(-T/Ts));//sink_atmosphere thermal resistance at 200% load cycle//\n",
"Xj200=Xj20+(P*(Rjc+Rcs+Rsa200));//maximum junction temperature//\n",
"printf('\nvalue of maximum junction temperature=%fc',Xj200);"
   ]
   }
,
{
		   "cell_type": "markdown",
		   "metadata": {},
		   "source": [
			"## Example 3.3: value_of_junction_temperature.sce"
		   ]
		  },
  {
"cell_type": "code",
	   "execution_count": null,
	   "metadata": {
	    "collapsed": true
	   },
	   "outputs": [],
"source": [
"//Fabrication and Thermal characteristics\n",
"//Example 3.3\n",
"Xa=35;//Ambient temperature//\n",
"P=150;//on state power loss in Watts//\n",
"Rjc=0.01;//junction_case thermal resistance//\n",
"Rcs=0.08;//case_sink thermal resistance//\n",
"Rsa=0.09;//sink_atmosphere thermal resistance//\n",
"Xj=Xa+P*(Rjc+Rcs+Rsa);//junction temperature//\n",
"printf('value of junction temperature=%fc',Xj);"
   ]
   }
,
{
		   "cell_type": "markdown",
		   "metadata": {},
		   "source": [
			"## Example 3.4: on_state_power_loss.sce"
		   ]
		  },
  {
"cell_type": "code",
	   "execution_count": null,
	   "metadata": {
	    "collapsed": true
	   },
	   "outputs": [],
"source": [
"//Fabrication and Thermal characteristics\n",
"//Example 3.4\n",
"Xa=45;//Ambient temperature//\n",
"Rjs=0.1;//junction_sink thermal resistance//\n",
"Rsa=0.08;//sink_atmosphere thermal resistance//\n",
"Xj=120;//junction temperature//\n",
"P=(Xj-Xa)/(Rjs+Rsa);//on state power loss//\n",
"printf('value of on state power loss=%fwatts',P);"
   ]
   }
,
{
		   "cell_type": "markdown",
		   "metadata": {},
		   "source": [
			"## Example 3.5: case_sink_thermal_resistance.sce"
		   ]
		  },
  {
"cell_type": "code",
	   "execution_count": null,
	   "metadata": {
	    "collapsed": true
	   },
	   "outputs": [],
"source": [
"//Fabrication and Thermal characteristics\n",
"//Example 3.5\n",
"Xa=40;//Ambient temperature//\n",
"P=300;//on state power loss in Watts//\n",
"Rjc=0.015;//junction_case thermal resistance//\n",
"Rsa=0.1;//sink_atmosphere thermal resistance//\n",
"Xj=105;//junction temperature//\n",
"Rcs=((Xj-Xa)/(P))-(Rjc+Rsa);//case_sink thermal resistance//\n",
"printf('value of case sink thermal resistance=%fc/w',Rcs);"
   ]
   }
],
"metadata": {
		  "kernelspec": {
		   "display_name": "Scilab",
		   "language": "scilab",
		   "name": "scilab"
		  },
		  "language_info": {
		   "file_extension": ".sce",
		   "help_links": [
			{
			 "text": "MetaKernel Magics",
			 "url": "https://github.com/calysto/metakernel/blob/master/metakernel/magics/README.md"
			}
		   ],
		   "mimetype": "text/x-octave",
		   "name": "scilab",
		   "version": "0.7.1"
		  }
		 },
		 "nbformat": 4,
		 "nbformat_minor": 0
}
