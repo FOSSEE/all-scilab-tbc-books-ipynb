{
"cells": [
 {
		   "cell_type": "markdown",
	   "metadata": {},
	   "source": [
       "# Chapter 13: Choppers and Transportation system Application"
	   ]
	},
{
		   "cell_type": "markdown",
		   "metadata": {},
		   "source": [
			"## Example 13.1: Instantaneous_current.sci"
		   ]
		  },
  {
"cell_type": "code",
	   "execution_count": null,
	   "metadata": {
	    "collapsed": true
	   },
	   "outputs": [],
"source": [
"//Choppers and Transportation System Application//\n",
"//Example 13.1//\n",
"E=220;//dc supply voltage in volts//\n",
"El=22;//Load voltage in volts//\n",
"Ton=1000;//conducting period in microseconds//\n",
"T=2500;//Total timeperiod in microseconds//\n",
"L=1;//inductance in milliHenry//\n",
"R=0.25;//resistance in ohms//\n",
"t=L/R;//time constant in milliseconds//\n",
"printf('time constant=t=%fmilliseconds',t);\n",
"A=0.133;\n",
"Td=A*T;//Discontinuous condition starts at//\n",
"printf('\nDiscontinuous condition starts from Td=%fmicroseconds',Td);\n",
"Eo=0.4*E;//output voltage in volts//\n",
"printf('\nOutput voltage=Eo=%fvolts',Eo);\n",
"Iav=(Eo-El)/R;//Average current in amps//\n",
"printf('\nAverage current=Iav=%famp',Iav);\n",
"Imax=((E*(1-exp(-Ton/(t*1000))))/(R*(1-exp(-T/(t*1000)))))-(El/R);\n",
"printf('\nMaximum current=Imax=%famp',Imax);\n",
"Imin=((E*(exp(Ton/(t*1000))-1))/(R*(exp(T/(t*1000))-1)))-(El/R);\n",
"printf('\nMinimum current=Imin=%famp',Imin);"
   ]
   }
,
{
		   "cell_type": "markdown",
		   "metadata": {},
		   "source": [
			"## Example 13.2: Conduction_and_Blocking_period.sci"
		   ]
		  },
  {
"cell_type": "code",
	   "execution_count": null,
	   "metadata": {
	    "collapsed": true
	   },
	   "outputs": [],
"source": [
"//Choppers and Transportation System Application//\n",
"//Example 13.2//\n",
"f=1;//operating frequency in KHZ//\n",
"E=220;//dc supply voltage in volts//\n",
"El=165;//Load voltage in volts//\n",
"Ton=El/(E*f);//conduction period in ms//\n",
"printf('Conduction period=Ton=%fms',Ton);\n",
"T=1/f;//total time period in ms//\n",
"printf('\nTotal time period=T=%fms',T);\n",
"Toff=T-Ton;//blocking period in ms//\n",
"printf('\nBlocking period=Toff=%fms',Toff);"
   ]
   }
,
{
		   "cell_type": "markdown",
		   "metadata": {},
		   "source": [
			"## Example 13.3: Optimum_frequency.sci"
		   ]
		  },
  {
"cell_type": "code",
	   "execution_count": null,
	   "metadata": {
	    "collapsed": true
	   },
	   "outputs": [],
"source": [
"//Choppers and Transportation System Application//\n",
"//Example 13.3//\n",
"E=220;//dc supply voltage in volts//\n",
"Toff=200;//blocking period in microseconds//\n",
"Il=50;//load current in amps//\n",
"C=%pi*Toff*Il/(2*E);//capacitance for optimum frequency in microfarad//\n",
"C=75;\n",
"printf('Load capacitance required for optimum frequency=C=%fmicrofarad',C);\n",
"L1=Toff^2*10^-3/C;//inductance required in milliHenry//\n",
"L2=L1;\n",
"printf('\nInductance parameters=L1=L2=%fmilliHenry',L1);\n",
"\n",
"\n",
""
   ]
   }
,
{
		   "cell_type": "markdown",
		   "metadata": {},
		   "source": [
			"## Example 13.4: Required_pulse_width.sci"
		   ]
		  },
  {
"cell_type": "code",
	   "execution_count": null,
	   "metadata": {
	    "collapsed": true
	   },
	   "outputs": [],
"source": [
"//Choppers and Transportation System Application//\n",
"//Example 13.4//\n",
"E=220;//dc supply voltage in volts//\n",
"El=660;//Load voltage in volts//\n",
"Toff=100;//blocking period in microseconds//\n",
"Ton=(El/E-1)*Toff;//Conduction period in microseconds//\n",
"printf('Conduction period=Ton=%fmicroseconds',Ton);"
   ]
   }
,
{
		   "cell_type": "markdown",
		   "metadata": {},
		   "source": [
			"## Example 13.5: Pulse_width.sci"
		   ]
		  },
  {
"cell_type": "code",
	   "execution_count": null,
	   "metadata": {
	    "collapsed": true
	   },
	   "outputs": [],
"source": [
"//Choppers and Transportation System Application//\n",
"//Example 13.5//\n",
"f=200;//chopper frequency in HZ//\n",
"E=220;//dc supply voltage in volts//\n",
"Iav=100;//Average current in the circuit in amps//\n",
"Ra=0.02;//Armature resistance in ohms//\n",
"Rf=0.01;//Field resistance in ohms//\n",
"Ebav=50;//Average value of the Back emf in volts//\n",
"Eav=Iav*(Ra+Rf)+Ebav;//Average voltage in the circuit in volts//\n",
"printf('Average voltage in the circuit=Eav=%fvolts',Eav);\n",
"Ton=Eav*1000/(E*f);//conduction period in ms//\n",
"printf('\nConduction period=Ton=%fms',Ton);"
   ]
   }
,
{
		   "cell_type": "markdown",
		   "metadata": {},
		   "source": [
			"## Example 13.6: Motor_Torque.sci"
		   ]
		  },
  {
"cell_type": "code",
	   "execution_count": null,
	   "metadata": {
	    "collapsed": true
	   },
	   "outputs": [],
"source": [
"//Choppers and Transportation System Application//\n",
"//Example 13.6//\n",
"f=200;//chopper frequency in HZ//\n",
"T=1000/f;//total time period in ms//\n",
"Toff=4;//Blocking period in ms//\n",
"Ton=T-Toff;//conduction period in ms//\n",
"R1=2;//R1 in ohms//\n",
"R2=4;//R2 in ohms//\n",
"R=((R1*Ton)+(R1+R2)*Toff)/T;//rotor resistance referred to stator in ohms//\n",
"printf('Rotor resistance referred to stator=R=%fohms',R);\n",
"V=415;//stator voltage in volts//\n",
"s=0.02;//slip of the motor//\n",
"MT=V^2*s/R;//motor torque in Syn. Watts//\n",
"printf('\nMotor torque=MT=%fSnc. Watts',MT);"
   ]
   }
,
{
		   "cell_type": "markdown",
		   "metadata": {},
		   "source": [
			"## Example 13.7: Chopper_Frequency.sci"
		   ]
		  },
  {
"cell_type": "code",
	   "execution_count": null,
	   "metadata": {
	    "collapsed": true
	   },
	   "outputs": [],
"source": [
"//Choppers and Transportation System Application//\n",
"//Example 13.7//\n",
"//R1=rotor resistance before introduction of control//\n",
"//R2=rotor resistance after introduction of control//\n",
"printf('R2=1.5*R1');\n",
"R2=((R1*Ton)+(R1+R1)*Toff)/T;//rotor resistance referred to stator in ohms//\n",
"printf('\nthe above condition satisfies when Ton=Toff');\n",
"T=4;//total time period in ms//\n",
"f=1000/T;//chopper frequency in hz//\n",
"printf('\nChopper frequency=f=%fhz',f);"
   ]
   }
],
"metadata": {
		  "kernelspec": {
		   "display_name": "Scilab",
		   "language": "scilab",
		   "name": "scilab"
		  },
		  "language_info": {
		   "file_extension": ".sce",
		   "help_links": [
			{
			 "text": "MetaKernel Magics",
			 "url": "https://github.com/calysto/metakernel/blob/master/metakernel/magics/README.md"
			}
		   ],
		   "mimetype": "text/x-octave",
		   "name": "scilab",
		   "version": "0.7.1"
		  }
		 },
		 "nbformat": 4,
		 "nbformat_minor": 0
}
