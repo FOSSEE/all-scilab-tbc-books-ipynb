{
"cells": [
 {
		   "cell_type": "markdown",
	   "metadata": {},
	   "source": [
       "# Chapter 4: Series and Parallel Connection of Thyristors"
	   ]
	},
{
		   "cell_type": "markdown",
		   "metadata": {},
		   "source": [
			"## Example 4.1: Derating_factor.sci"
		   ]
		  },
  {
"cell_type": "code",
	   "execution_count": null,
	   "metadata": {
	    "collapsed": true
	   },
	   "outputs": [],
"source": [
"//Series and Parallel Connection of Thyristors//\n",
"//Example 4.1//\n",
"Vc=3500;//voltage rating of circuit//\n",
"Vt=750;//voltage rating of each thyristor//\n",
"Ic=1500;//current rating of circuit//\n",
"It=500;//current rating of each thyristor//\n",
"DF=0.1;//Derating factor of circuit//\n",
"Ns=Vc/(Vt*(1-DF));//number of devices in series//\n",
"printf('Number of Devices in Series=%f',Ns);\n",
"Np=Ic/(It*(1-DF));//number of devices in parallel//\n",
"printf('\nNumber of Devices in Parallel=%f',Np);"
   ]
   }
,
{
		   "cell_type": "markdown",
		   "metadata": {},
		   "source": [
			"## Example 4.2: series_connection.sci"
		   ]
		  },
  {
"cell_type": "code",
	   "execution_count": null,
	   "metadata": {
	    "collapsed": true
	   },
	   "outputs": [],
"source": [
"//Series and Parallel Connection of Thyristors//\n",
"//Example 4.2//\n",
"Ed=20;//permissible difference in voltage across devices in Volts//\n",
"Id=1*10^-3;//maximum difference in latching current across devices in Amperes//\n",
"Qd=10;//difference in recovery charge in Micro coloumbs//\n",
"Vd=20;//permissible difference in blocking voltage in Volts//\n",
"R=Ed/Id;//equivalent resistance in Ohms//\n",
"R1=R;\n",
"printf('value of equivalent resistance=R=%fohms',R=R1);\n",
"C1=Qd/Vd;//equivalent capacitance in Micro farads//\n",
"printf('\nvalue of equivalent capacitance=C1=%fmicrofarads',C1);\n",
""
   ]
   }
],
"metadata": {
		  "kernelspec": {
		   "display_name": "Scilab",
		   "language": "scilab",
		   "name": "scilab"
		  },
		  "language_info": {
		   "file_extension": ".sce",
		   "help_links": [
			{
			 "text": "MetaKernel Magics",
			 "url": "https://github.com/calysto/metakernel/blob/master/metakernel/magics/README.md"
			}
		   ],
		   "mimetype": "text/x-octave",
		   "name": "scilab",
		   "version": "0.7.1"
		  }
		 },
		 "nbformat": 4,
		 "nbformat_minor": 0
}
