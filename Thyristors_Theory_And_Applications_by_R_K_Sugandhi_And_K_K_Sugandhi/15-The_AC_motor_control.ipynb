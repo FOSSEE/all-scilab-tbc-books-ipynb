{
"cells": [
 {
		   "cell_type": "markdown",
	   "metadata": {},
	   "source": [
       "# Chapter 15: The AC motor control"
	   ]
	},
{
		   "cell_type": "markdown",
		   "metadata": {},
		   "source": [
			"## Example 15.10: Range_of_variation.sci"
		   ]
		  },
  {
"cell_type": "code",
	   "execution_count": null,
	   "metadata": {
	    "collapsed": true
	   },
	   "outputs": [],
"source": [
"//The ac Motor Control//\n",
"//Example 15.10//\n",
"Vo5m=sqrt(2)*41.5;//rms value of output voltage //\n",
"V=415;//operating voltage of cyclo converter//\n",
"A5=(acos(Vo5m/(1.35*V)))*180/%pi;//trigger angle ranges from//\n",
"printf('trigger angle ranges fromA5=%fdegrees',A5);\n",
"A51=180-A5;//trigger angle ranges upto//\n",
"printf('\ntrigger angle ranges upto A51=%fdegrees',A51');\n",
"LPF=0.9;//load power factor//\n",
"CA15=0.3132;//maximum cosine value corresponding to operating frequency 15hz//\n",
"HIPF=CA15*LPF/sqrt(2);//highest value of input power factor//\n",
"printf('\nhighest value of input power factor=HIPF=%f',HIPF);\n",
"LIPF=cos(A5*%pi/180)*LPF/sqrt(2);//lowest value of input power factor//\n",
"printf('\nlowest value of input power factor=LIPF=%f',LIPF);\n",
"IDF=0.75;//input displacement factor//\n",
"HDF=CA15*LPF/(sqrt(2)*IDF);//highest value of distortion factor//\n",
"printf('\nhighest value of distortion factor=HDF=%f',HDF);\n",
"LDF=HDF*cos(A5*%pi/180)/CA15;//lowest value of distortion factor//\n",
"printf('\nlowest value of distortion factor=LDF=%f',LDF);"
   ]
   }
,
{
		   "cell_type": "markdown",
		   "metadata": {},
		   "source": [
			"## Example 15.11: Load_powerfactor.sci"
		   ]
		  },
  {
"cell_type": "code",
	   "execution_count": null,
	   "metadata": {
	    "collapsed": true
	   },
	   "outputs": [],
"source": [
"//The ac Motor Control//\n",
"//Example 15.11//\n",
"PFm=0.5;//highest value of input factor//\n",
"Am=3.14/6;//highest value of input powerfactor occurs at 30 degrees//\n",
"A=cos(Am);//highest value of cosAm if firingangle ranging from 30 to 150//\n",
"printf('highest value of cosAm=%f',A);\n",
"PFl=(sqrt(2)*PFm)/A;\n",
"printf('\nlaod power factor of cyclo converter=%f',PFl);"
   ]
   }
,
{
		   "cell_type": "markdown",
		   "metadata": {},
		   "source": [
			"## Example 15.12: Input_displacement_factor.sci"
		   ]
		  },
  {
"cell_type": "code",
	   "execution_count": null,
	   "metadata": {
	    "collapsed": true
	   },
	   "outputs": [],
"source": [
"//The ac Motor Control//\n",
"//Example 15.12//\n",
"PFi=0.6;//input powerfactor//\n",
"DF=0.7;//distortion factor//\n",
"IDF=PFi/DF;//input displacement factor//\n",
"printf('input displacement factor=%f',IDF);\n",
""
   ]
   }
,
{
		   "cell_type": "markdown",
		   "metadata": {},
		   "source": [
			"## Example 15.13: Firing_angle.sci"
		   ]
		  },
  {
"cell_type": "code",
	   "execution_count": null,
	   "metadata": {
	    "collapsed": true
	   },
	   "outputs": [],
"source": [
"//The ac Motor Control//\n",
"//Example 15.13//\n",
"PFi=0.1;//input powerfactor//\n",
"PFl=0.9;//load powerfactor//\n",
"A=(acos(sqrt(2)*PFi/PFl))*180/3.14;//firing angle indegrees//\n",
"printf('firing angle of cyclo converter drive=A=%fdegrees',A);\n",
"IDF=0.7;//leading input displacement factor//\n",
"DF=PFi/IDF;//distortion factor//\n",
"printf('\ndistortion factor=DF=%f',DF);\n",
""
   ]
   }
,
{
		   "cell_type": "markdown",
		   "metadata": {},
		   "source": [
			"## Example 15.14: Firing_angle.sci"
		   ]
		  },
  {
"cell_type": "code",
	   "execution_count": null,
	   "metadata": {
	    "collapsed": true
	   },
	   "outputs": [],
"source": [
"//The ac Motor Control//\n",
"//Example 15.14//\n",
"Ap=30;//triggering angle of positive group in degrees//\n",
"An=180-Ap;//triggering angle of negative group in degrees//\n",
"printf('triggering angle of negative group=An=%fdegrees',An);"
   ]
   }
,
{
		   "cell_type": "markdown",
		   "metadata": {},
		   "source": [
			"## Example 15.15: Input_currents.sci"
		   ]
		  },
  {
"cell_type": "code",
	   "execution_count": null,
	   "metadata": {
	    "collapsed": true
	   },
	   "outputs": [],
"source": [
"//The ac Motor Control//\n",
"//Example 15.15//\n",
"V=415;//input operating voltage of cycloconverter in volts//\n",
"Pi=50;//input power of the cycloconverter in KVA//\n",
"PF=0.8;//input power factor//\n",
"A=0.785;//firing angle in radians//\n",
"I=(Pi*1000*sqrt(2))/(3*V*PF*cos(A));//input current to the converter in amp//\n",
"printf('input current to the converter=I=%famp',I);"
   ]
   }
,
{
		   "cell_type": "markdown",
		   "metadata": {},
		   "source": [
			"## Example 15.16: Load_powerfactor.sci"
		   ]
		  },
  {
"cell_type": "code",
	   "execution_count": null,
	   "metadata": {
	    "collapsed": true
	   },
	   "outputs": [],
"source": [
"//The ac Motor Control//\n",
"//Example 15.15//\n",
"Vo=200;//input operating voltage of cycloconverter in volts//\n",
"Po=50*10^3;//input power of the cycloconverter in VA//\n",
"Io=100;//drawing current from motor in amp//\n",
"PF=Po/(3*Vo*Io);//load power factor//\n",
"printf('load power factor of motor=PF=%f',PF);"
   ]
   }
,
{
		   "cell_type": "markdown",
		   "metadata": {},
		   "source": [
			"## Example 15.1: Stator_current.sci"
		   ]
		  },
  {
"cell_type": "code",
	   "execution_count": null,
	   "metadata": {
	    "collapsed": true
	   },
	   "outputs": [],
"source": [
"//The ac Motor Control//\n",
"//Example 15.1//\n",
"S1=2;//value of slip in percentage of slip ring induction motor//\n",
"Ns=1000;//value of stator speed in rpm//\n",
"Nr=500;//value of rotor speed in rpm//\n",
"S2=(Ns-Nr)*100/Ns;//valu of slip in percentage of motor//\n",
"printf('value of slip of motor=S2=%fpercentage',S2);\n",
"I1=50;//stator current in amps//\n",
"I2=I1*sqrt(S2/S1);\n",
"printf('\nvalue of new stator current=I2=%fAmp',I2);\n",
" "
   ]
   }
,
{
		   "cell_type": "markdown",
		   "metadata": {},
		   "source": [
			"## Example 15.2: Designing_a_thyristor_converter.sci"
		   ]
		  },
  {
"cell_type": "code",
	   "execution_count": null,
	   "metadata": {
	    "collapsed": true
	   },
	   "outputs": [],
"source": [
"//The ac Motor Control//\n",
"//Example 15.2//\n",
"Imr=50;//motor field rating in amp//\n",
"Icr=1.5*Imr;//converter rated current in amp//\n",
"printf('value of converter rated current=Icr=%famp',Icr);\n",
"Vdc=100;//converter dc rating in volts//\n",
"Vac=Vdc/1.35;//converter ac rating voltage required//\n",
"printf('\nvalue of converter rated ac voltage=Vac=%fvolts',Vac);\n",
"Pkva=(1.05*100*75)/1000;//KVA rating of the transformer//\n",
"printf('\nKVA rating of transformer=Pkva=%fKVA',Pkva);"
   ]
   }
,
{
		   "cell_type": "markdown",
		   "metadata": {},
		   "source": [
			"## Example 15.3: Torque_developed_by_the_motor.sci"
		   ]
		  },
  {
"cell_type": "code",
	   "execution_count": null,
	   "metadata": {
	    "collapsed": true
	   },
	   "outputs": [],
"source": [
"//The ac Motor Control//\n",
"//Example 15.3//\n",
"S1=0.04;//value of slip in of induction motor//\n",
"Ns=1500;//value of initial speed in rpm//\n",
"N2=1300;//value of speed reduced to in rpm//\n",
"N1=Ns*(1-S1);//valu of speed N1 in rpm//\n",
"printf('value of speed N1=%frpm',N1);\n",
"f=(Ns-N1)/(Ns-N2);\n",
"printf('\nvalue of f=%f',f);\n",
"T1=2000;//developing torque in induction motor in watts//\n",
"T2=T1/f;//new value of torque developed by the motor in watts//\n",
"printf('\nvalue of new torque developed=T2=%fWatts',T2);\n",
" "
   ]
   }
,
{
		   "cell_type": "markdown",
		   "metadata": {},
		   "source": [
			"## Example 15.4: Torque_developed_by_the_motor.sci"
		   ]
		  },
  {
"cell_type": "code",
	   "execution_count": null,
	   "metadata": {
	    "collapsed": true
	   },
	   "outputs": [],
"source": [
"//The ac Motor Control//\n",
"//Example 15.4//\n",
"f1a=50;//intial frequency in hertz//\n",
"f1b=75;//value of frequency increased to in hertz//\n",
"Ta=1500;//developing torque in induction motor in watts//\n",
"Tb=Ta*f1a/f1b;//new value of torque developed by the motor in watts//\n",
"printf('value of new torque developed=Tb=%fWatts',Tb);\n",
" "
   ]
   }
,
{
		   "cell_type": "markdown",
		   "metadata": {},
		   "source": [
			"## Example 15.5: Rotor_Frequency.sci"
		   ]
		  },
  {
"cell_type": "code",
	   "execution_count": null,
	   "metadata": {
	    "collapsed": true
	   },
	   "outputs": [],
"source": [
"//The ac Motor Control//\n",
"//Example 15.5//\n",
"V=415;//operating input voltage of induction motor in volts//\n",
"S=0.04;//input slip//\n",
"r2=1;//rotor resistance referred to stator in ohms//\n",
"T=(S*V^2)/r2;//torque developed by motor in watts//\n",
"printf('torque developed by motor=T=%fwatts',T);\n",
"f1=75;//input stator frequency in hertz//\n",
"f2=S*f1;//rotor frequency in hertz//\n",
"printf('\nvalue of rotor frequency=f2=%fhertz',f2);\n",
" "
   ]
   }
,
{
		   "cell_type": "markdown",
		   "metadata": {},
		   "source": [
			"## Example 15.6: Input_voltage_to_the_motor.sci"
		   ]
		  },
  {
"cell_type": "code",
	   "execution_count": null,
	   "metadata": {
	    "collapsed": true
	   },
	   "outputs": [],
"source": [
"//The ac Motor Control//\n",
"//Example 15.6//\n",
"f1a=50;//intial frequency in hertz//\n",
"f1b=30;//value of frequency reduced to in hertz//\n",
"Va=415;//operating voltage of induction motor in volts//\n",
"Vb=Va*f1b/f1a;//input voltage to the motor in volts//\n",
"printf('value of input voltage to the motor=Vb=%fvolts',Vb);\n",
"Pa=100;//operating power of induction motor in KVA//\n",
"Pb=Pa*f1b/f1a;//input power to the motor in KVA//\n",
"printf('\nvalue of input power to the motor=Pb=%fKVA',Pb);"
   ]
   }
,
{
		   "cell_type": "markdown",
		   "metadata": {},
		   "source": [
			"## Example 15.7: Rotor_copper_loss.sci"
		   ]
		  },
  {
"cell_type": "code",
	   "execution_count": null,
	   "metadata": {
	    "collapsed": true
	   },
	   "outputs": [],
"source": [
"//The ac Motor Control//\n",
"//Example 15.7//\n",
"f1a=40;//intial frequency in hertz//\n",
"Pa=200;//input power of squirrel cage motor in KVA//\n",
"Pb=150;//input power to the motor after change in speed in KVA//\n",
"f1b=f1a*Pb/Pa;//frequency changed to in hertz//\n",
"printf('value of frequency changed to f1b=%fhz',f1b);\n",
"Nsa=1200;//motor initial syncronous speed in rpm//\n",
"Nsb=Nsa*f1b/f1a;\n",
"Sb=0.04;\n",
"Nb=Nsb*(1-Sb);//speed in rpm at 4% slip//\n",
"printf('\nspeed at 4 percent slip=Nb=%frpm',Nb);\n",
"Va=325;//operating voltage of induction motor in volts//\n",
"Vb=Va*f1b/f1a;//stator voltage to the motor in volts//\n",
"printf('\nvalue of stator voltage to the motor=Vb=%fvolts',Vb);\n",
"Pag=150;//power transferred from stator to rotor at 30 hz in KVA//\n",
"Ws=2*3.14*Nsb/60;\n",
"T=Pag*1000/Ws;//torque if stator drop is negligible in watts//\n",
"printf('\ntorque if stator drop is negligible=T=%fwatts',T);\n",
"P2=Sb*Pag;//rotor copper loss in KVA//\n",
"printf('\nrotor copper loss=P2=%fKVA',P2);"
   ]
   }
,
{
		   "cell_type": "markdown",
		   "metadata": {},
		   "source": [
			"## Example 15.8: Stator_frequency.sci"
		   ]
		  },
  {
"cell_type": "code",
	   "execution_count": null,
	   "metadata": {
	    "collapsed": true
	   },
	   "outputs": [],
"source": [
"//The ac Motor Control//\n",
"//Example 15.8//\n",
"f1a=50;//intial input frequency in hertz//\n",
"Ta=2000;//developing torque in induction motor in watts//\n",
"Tb=1500;//new value of torque reduced to in watts//\n",
"f1b=f1a*sqrt(Ta/Tb);//value of stator frequency increased to in hertz//\n",
"printf('value of stator frequency increased to f1b=%fhertz',f1b);\n",
" "
   ]
   }
,
{
		   "cell_type": "markdown",
		   "metadata": {},
		   "source": [
			"## Example 15.9: Distortion_Factor.sci"
		   ]
		  },
  {
"cell_type": "code",
	   "execution_count": null,
	   "metadata": {
	    "collapsed": true
	   },
	   "outputs": [],
"source": [
"//The ac Motor Control//\n",
"//Example 15.9//\n",
"Vom1=sqrt(2)*41.5;//starting rms value of output voltage //\n",
"Vom2=sqrt(2)*166;//ending rms value of output voltage//\n",
"V=415;//operating voltage of cyclo converter//\n",
"A1=(acos(Vom1/(1.35*V)))*180/%pi;//firing angle starts from//\n",
"printf('firing angle starts from A1=%fdegrees',A1);\n",
"A2=(acos(Vom2/(1.35*V)))*180/%pi;//firing angle ends at//\n",
"printf('\nfiring angle ends at A2=%fdegrees',A2);\n",
"PFl=0.8;//load power factor//\n",
"IPF=cos(%pi*7/15)*PFl/sqrt(2);//input power factor//\n",
"DF=0.7;//input displacement factor//\n",
"printf('\ninput power factor=IPF=%f',IPF);\n",
"Mh=cos(%pi*0.3627)*PFl/(sqrt(2)*DF);\n",
"printf('\ndistortion factor=Mh=%f',Mh);"
   ]
   }
],
"metadata": {
		  "kernelspec": {
		   "display_name": "Scilab",
		   "language": "scilab",
		   "name": "scilab"
		  },
		  "language_info": {
		   "file_extension": ".sce",
		   "help_links": [
			{
			 "text": "MetaKernel Magics",
			 "url": "https://github.com/calysto/metakernel/blob/master/metakernel/magics/README.md"
			}
		   ],
		   "mimetype": "text/x-octave",
		   "name": "scilab",
		   "version": "0.7.1"
		  }
		 },
		 "nbformat": 4,
		 "nbformat_minor": 0
}
