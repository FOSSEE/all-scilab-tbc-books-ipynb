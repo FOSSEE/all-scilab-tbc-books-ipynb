{
"cells": [
 {
		   "cell_type": "markdown",
	   "metadata": {},
	   "source": [
       "# Chapter 11: Control of DC Motors"
	   ]
	},
{
		   "cell_type": "markdown",
		   "metadata": {},
		   "source": [
			"## Example 11.1: Designing_a_thyristor.sci"
		   ]
		  },
  {
"cell_type": "code",
	   "execution_count": null,
	   "metadata": {
	    "collapsed": true
	   },
	   "outputs": [],
"source": [
"//Control of DC motors//\n",
"//Example 11.1//\n",
"//Since the speed control is required in both directions we will have to use a dual converter for the application.It would be prefarable to use six pulse dual converter with thyristors connected in antiparallel connection//\n",
"//speed control from 20% rated speed to 100% rated speed will be obtained by armature control//\n",
"//Control and speed above 100% will be possible by field weakening//\n",
"Idc=200/460*1000;//Rated motor current in amps//\n",
"printf('Rated motor current=Idc=%famps',Idc);\n",
"//Thus the main armature converter will be having dc side rating of 500Amps and 460volts//\n",
"//If 20% drop is allowed in cables,ac transformer,converter etc., then No load dc voltage required=460*1.2=552Volts//\n",
"printf('\nHence AC voltage for six pulse configuration=552/1.35=410volts');\n",
"//Hence a 3phase,415v AC supply will be adequate for armature control//\n",
"//Field converter rating will be 230V,10A.Arrangement will be six pulse,non reversible.since AC supply of 415V,3 phase is available,we shall make use of it for field converter also.//\n",
"printf('\nAC rating of field converter=230/1.35=170V');\n",
"//However we shall provide a standard AC voltage of 230V AC and will lock the field converter firing angle to suitable value so as to produce 230V dc//\n",
"printf('\nDC power=230*10=2300Watts');\n",
"printf('\nAC power=1.05*2300=2415Watts');\n",
"printf('\nThus tranformer of 2.5KVA,415/230V will be required');\n",
"Edca=(170+170/10)*1.35;//available voltage in volts//\n",
"Edc=1.35*230;\n",
"A=acos(Edca/Edc)*180/%pi;\n",
"printf('\nField converter shall be locked at an angle of A=%fdegrees',A);\n",
"\n",
""
   ]
   }
,
{
		   "cell_type": "markdown",
		   "metadata": {},
		   "source": [
			"## Example 11.2: Blocking_angle.sci"
		   ]
		  },
  {
"cell_type": "code",
	   "execution_count": null,
	   "metadata": {
	    "collapsed": true
	   },
	   "outputs": [],
"source": [
"//Control of DC motors//\n",
"//Example 11.2//\n",
"Vdc=440;//Rated dc voltage in volts//\n",
"Edca=Vdc+Vdc/10;//Required voltage after allowing 10% drop//\n",
"printf('Required voltage after allowing 10percent drop=Edca=%fvolts',Edca);\n",
"Edc=1.35*415;\n",
"C=Edca/Edc;\n",
"printf('\nCosine of the locked angle=C=%f',C);\n",
"A=acos(C)*180/%pi;//locked angle in degrees//\n",
"printf('\nConverter shall be locked at an angle of A=%fdegrees',A);"
   ]
   }
,
{
		   "cell_type": "markdown",
		   "metadata": {},
		   "source": [
			"## Example 11.3: Firing_angle.sci"
		   ]
		  },
  {
"cell_type": "code",
	   "execution_count": null,
	   "metadata": {
	    "collapsed": true
	   },
	   "outputs": [],
"source": [
"//Control of DC motors//\n",
"//Example 11.3//\n",
"Edca1=230;\n",
"N1=1000;\n",
"N2=500;\n",
"Eb1=210;\n",
"printf('Eb1=230-20=210volts');\n",
"Eb2=Eb1*N2/N1;\n",
"printf('\nEb2=%fvolts',Eb2);\n",
"V=40;//motor armature drop at rated load in volts//\n",
"Edca2=Eb2+V;\n",
"printf('\nEdca2=%fvolts',Edca2);\n",
"C1=1;//cosine of the firing angle corresponding to 1000 rpm load//\n",
"C2=C1*Edca2/Edca1;//cosine of the firing angle corresponding to 500 rpm load//\n",
"printf('\nCosine of the firing angle corresponding to 500 rpm load=C2=%f',C2);\n",
"A=acos(C2)*180/%pi;//firing angle corresponding to 500 rpm load in degrees//\n",
"printf('\nfiring angle corresponding to 500 rpm load A=%fdegrees',A);"
   ]
   }
,
{
		   "cell_type": "markdown",
		   "metadata": {},
		   "source": [
			"## Example 11.4: Reactive_power.sci"
		   ]
		  },
  {
"cell_type": "code",
	   "execution_count": null,
	   "metadata": {
	    "collapsed": true
	   },
	   "outputs": [],
"source": [
"//Control of DC motors//\n",
"//Example 11.4//\n",
"Edca1=1.15*440;//Rated output voltage from the converter for rated speed of750rpm//\n",
"printf('Rated output voltage from the converter=Edca1=%fvolts',Edca1);\n",
"N1=750;\n",
"N2=500;\n",
"Edca2=Edca1*N2/N1;\n",
"E2=415;\n",
"C2=Edca2/(1.35*E2);\n",
"printf('\nCosine of the triggering angle=C2=%f',C2);\n",
"A2=C2*180/%pi;\n",
"printf('\nTriggering angle=A2=%fdegrees',A2);\n",
"PF2=C2*(1+cos(15*%pi/180))/2;\n",
"printf('\nPowerfactor=PF2=%f',PF2);\n",
"Id=200;//dc current in amps//\n",
"I2=0.75*0.817*Id;//Current at 75percent load in amps//\n",
"RP2=sqrt(3)*E2*I2*sqrt(1-PF2^2)/1000;//Reactive power drawn at 75% load//\n",
"printf('\nReactive power at 75percent load=RP2=%fKVAR',RP2);\n",
"h=6;\n",
"Wv=24.17;//maximum voltage ripple in percent//\n",
"Wi=8;//maximum permissible current ripple in percent//\n",
"I6=Wi*Id/100;\n",
"printf('\nSixth harmonic ripple current=I6=%fAmps',I6);\n",
"W=314;\n",
"L=(Wv*Edca1*10)/(I6*h*W);\n",
"printf('\nInductance required in dc circuit=L=%fmH',L);\n",
"C1=Edca1/(1.35*E2);\n",
"printf('\nCosine of the triggering angle=C1=%f',C1);\n",
"A1=C1*180/%pi;\n",
"printf('\nTriggering angle=A1=%fdegrees',A1);\n",
"PF1=C1*(1+cos(15*%pi/180))/2;\n",
"printf('\nPowerfactor=PF1=%f',PF1);\n",
"I1=0.817*Id;//Current at 75percent load in amps//\n",
"RP1=sqrt(3)*E2*I1*sqrt(1-PF1^2)/1000;//Reactive power drawn at 75% load//\n",
"printf('\nReactive power at 75percent load=RP1=%fKVAR',RP1);"
   ]
   }
,
{
		   "cell_type": "markdown",
		   "metadata": {},
		   "source": [
			"## Example 11.5: Active_and_Reactive_power.sci"
		   ]
		  },
  {
"cell_type": "code",
	   "execution_count": null,
	   "metadata": {
	    "collapsed": true
	   },
	   "outputs": [],
"source": [
"//Control of DC motors//\n",
"//Example 11.5//\n",
"Edca=460;\n",
"E2=415;\n",
"C=Edca/(1.35*E2);\n",
"printf('\nCosine of the triggering angle=C=%f',C);\n",
"A=C*180/%pi;\n",
"printf('\nTriggering angle=A=%fdegrees',A);\n",
"Edca10=0.1*460;\n",
"C10=Edca10/(1.35*E2);\n",
"printf('\nCosine of the triggering angle=C10=%f',C10);\n",
"A10=C10*180/%pi;\n",
"printf('\nTriggering angle=A10=%fdegrees',A10);\n",
"Id=10^5/Edca;//dc current in amps//\n",
"I2=0.817*Id;//Current at rated speed in amps//\n",
"AP=sqrt(3)*E2*I2*C/1000;\n",
"printf('\nActive power drawn from the system at rated speed=AP=%fKW',AP);\n",
"RP=sqrt(3)*E2*I2*sqrt(1-C^2)/1000;//Reactive power drawn from the system//\n",
"printf('\nReactive power drawn from the system=RP=%fKVAR',RP);\n",
"AP10=sqrt(3)*E2*I2*C10/1000;\n",
"printf('\nActivepower drawn from thesystem at 10percentrated speed=AP10=%fKW',AP10);\n",
"RP10=sqrt(3)*E2*I2*sqrt(1-C10^2)/1000;//Reactive power drawn from the system//\n",
"printf('\nReactive power drawn from the system=RP10=%fKVAR',RP10);\n",
"P=RP10/RP;\n",
"printf('\nP=%f',P);\n",
"printf('\nThus reactive power has increased by 74.5893percent due to reduction in motor speed');\n",
""
   ]
   }
,
{
		   "cell_type": "markdown",
		   "metadata": {},
		   "source": [
			"## Example 11.6: Power_at_given_load.sci"
		   ]
		  },
  {
"cell_type": "code",
	   "execution_count": null,
	   "metadata": {
	    "collapsed": true
	   },
	   "outputs": [],
"source": [
"//Control of DC motors//\n",
"//Example 11.6//\n",
"printf('Reactive power at rated speed and rated load=72.79KVAR');\n",
"printf('\nReactive power at rated speed and 10 percent load=0.1*72.79=7.279KVAR');\n",
"printf('\nSimilarly reactive power at 10percent speed and 10 percent load=0.1*127.08=12.71KVAR');"
   ]
   }
,
{
		   "cell_type": "markdown",
		   "metadata": {},
		   "source": [
			"## Example 11.7: Triggering_angle.sci"
		   ]
		  },
  {
"cell_type": "code",
	   "execution_count": null,
	   "metadata": {
	    "collapsed": true
	   },
	   "outputs": [],
"source": [
"//Control of DC motors//\n",
"//Example 11.7//\n",
"N1=500;\n",
"N2=400;\n",
"Eb1=410;\n",
"Eb2=Eb1*N2/N1;\n",
"printf('Eb2=%fvolts',Eb2);\n",
"V=440;//operating voltage of dc motor in volts//\n",
"P=100;//input power of dc motor in KW//\n",
"Ia=P*1000/V;\n",
"printf('\nIa=%fAmps',Ia);\n",
"Ra=(V-Eb1)/Ia;\n",
"printf('\nRa=%fohms',Ra);\n",
"E2=415;\n",
"Edca=Eb2+(0.75*Ia*Ra);//terminal voltage of dc motor at 500 rpm and 75% load//\n",
"printf('\nTerminal voltage of dc motor at 500 rpm and 75percent load=Edca=%fvolts',Edca);\n",
"C=Edca/(1.35*E2);//cosine of the triggering angle of the converter//\n",
"printf('\nCosine of the triggering angle of the converter=C2=%f',C);\n",
"A=acos(C)*180/%pi;//triggering angle of the converter in degrees//\n",
"printf('\ntriggering angle of the converter A=%fdegrees',A);"
   ]
   }
],
"metadata": {
		  "kernelspec": {
		   "display_name": "Scilab",
		   "language": "scilab",
		   "name": "scilab"
		  },
		  "language_info": {
		   "file_extension": ".sce",
		   "help_links": [
			{
			 "text": "MetaKernel Magics",
			 "url": "https://github.com/calysto/metakernel/blob/master/metakernel/magics/README.md"
			}
		   ],
		   "mimetype": "text/x-octave",
		   "name": "scilab",
		   "version": "0.7.1"
		  }
		 },
		 "nbformat": 4,
		 "nbformat_minor": 0
}
