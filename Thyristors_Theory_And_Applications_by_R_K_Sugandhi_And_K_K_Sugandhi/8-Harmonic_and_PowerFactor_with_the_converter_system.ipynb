{
"cells": [
 {
		   "cell_type": "markdown",
	   "metadata": {},
	   "source": [
       "# Chapter 8: Harmonic and PowerFactor with the converter system"
	   ]
	},
{
		   "cell_type": "markdown",
		   "metadata": {},
		   "source": [
			"## Example 8.1: Shunt_filter.sci"
		   ]
		  },
  {
"cell_type": "code",
	   "execution_count": null,
	   "metadata": {
	    "collapsed": true
	   },
	   "outputs": [],
"source": [
"//Harmonic and Powerfactor with the Converter system//\n",
"//Example 8.1//\n",
"I5=0.2;//amplitude of 5th harmonic current in Kilo Amperes//\n",
"Vp= 11/(sqrt(3));//Input supply phase voltage in Kilo Volts//\n",
"P=5;//supply power per phase of filter in MVAR//\n",
"Pc=P+((Vp^2*I5^2)/(5*P));//AC Converter power per phase in MVAR//\n",
"printf('\nvalue of AC converter power=Pc=%f MVAR',Pc);\n",
"C=(Pc*10^3*3)/(11^2*314);//capacitance of the ShuntFilter in milliFarad//\n",
"printf('\nvalue of the capacitance of shunt filter=C=%fmillifarads',C);\n",
"L=(106*10^6)/(400*4*25*250*3.14^2);//inductance of filter in mHenry//\n",
"printf('\nInductance of filter=L=%fmilliHenry',L);\n",
"Q=50;//value of Q//\n",
"W5=2*3.14*5*50;//angular frequency of 5th harmonic//\n",
"R=(W5*L)/Q;//Resistance of filter in milliOhms//\n",
"printf('\nResistance of filter=R=%fmilliOhms',R);"
   ]
   }
,
{
		   "cell_type": "markdown",
		   "metadata": {},
		   "source": [
			"## Example 8.2: DC_reactor_circuit.sci"
		   ]
		  },
  {
"cell_type": "code",
	   "execution_count": null,
	   "metadata": {
	    "collapsed": true
	   },
	   "outputs": [],
"source": [
"//Harmonic and Powerfactor with the Converter system//\n",
"//Example 8.2//\n",
"printf('For six pulse converter most effective harmonic is 6th and for worst case a=90 degree\n');\n",
"Wv=24.1;//voltage ripple in percentage//\n",
"printf('voltage ripple=Wv=%fpercent',Wv);\n",
"Id=200;\n",
"I6=(5*Id)/100;//Harmonic current for 6th harmonic in amp//\n",
"printf('\nHarmonic current for 6th harmonic=I6=%famp',I6);\n",
"Edc=460;//dc voltage in volts//\n",
"W=2*3.14*50;\n",
"La=1;//inductance already present in the circuit in milliHenry//\n",
"L=((Wv*Edc*10)/(I6*6*W))-La;//additional inductance required in milliHenry//\n",
"L=5.93-1;\n",
"printf('\nadditional inductance required=L=%fmilliHenry',L);"
   ]
   }
,
{
		   "cell_type": "markdown",
		   "metadata": {},
		   "source": [
			"## Example 8.3: Commutation_angle.sci"
		   ]
		  },
  {
"cell_type": "code",
	   "execution_count": null,
	   "metadata": {
	    "collapsed": true
	   },
	   "outputs": [],
"source": [
"//Harmonic and Powerfactor with the Converter system//\n",
"//Example 8.3//\n",
"Id=200;//rated dc current in amperes//\n",
"I2=0.817*Id;//AC line current in amperes//\n",
"printf('AC line current of the thyristor=I2=%famperes',I2);\n",
"E2=415;//AC line voltage in volts//\n",
"Edc=400;//dc terminal voltage in volts//\n",
"Xt=0.04*E2/I2;//effective reactance of the thyristor in ohms//\n",
"printf('\neffective reactance of the thyristor=Xt=%fohms',Xt);\n",
"C=1-((Id*Xt)/(E2*sqrt(3)));//cosine value of the commutational angle//\n",
"printf('\ncosine value of the commutational angle=C=%f',C);\n",
"CA=acos(C)*180/%pi;\n",
"printf('\ncommutation angle=CA=%fdegrees',CA);\n",
"F=Edc/(1.35*E2*(1+C)/2);//cosine value of the firing angle//\n",
"printf('\ncosine value of the firing value=F=%f',F);\n",
"FA=acos(F)*180/%pi;\n",
"printf('\nfiring angle=FA=%fdegrees',FA);\n",
"I2=0.817*Id;//AC line current in amps//\n",
"printf('\nAC line current=I2=%famps',I2);\n",
"Ied=0.58*Id;//current through each device in amps//\n",
"printf('\nCurrent through each device=Ied=%famps',Ied);\n",
"PF=F*(1+C)/2;//power factor//\n",
"printf('\npower factor=PF=%f',PF);\n",
"AP=sqrt(3)*E2*I2*PF;//active power drawn from the mains in Watts//\n",
"printf('\nactive power drawn from the mains=AP=%fWatts',AP);\n",
"RP=sqrt(3)*E2*I2*sqrt(1-PF^2);//reactive power in VAR//\n",
"printf('\nReactive power drawn=RP=%fVAR',RP);//end of the program//\n",
"\n",
"\n",
"\n",
""
   ]
   }
,
{
		   "cell_type": "markdown",
		   "metadata": {},
		   "source": [
			"## Example 8.4: Rating_of_shunt_compensator.sci"
		   ]
		  },
  {
"cell_type": "code",
	   "execution_count": null,
	   "metadata": {
	    "collapsed": true
	   },
	   "outputs": [],
"source": [
"//Harmonic and Powerfactor with the Converter system//\n",
"//Example 8.4//\n",
"Id=100;//rated dc current in amperes//\n",
"I2=0.817*Id;//AC line current in amperes//\n",
"printf('AC line current of the thyristor=I2=%famperes',I2);\n",
"E2=230;//AC line voltage in volts//\n",
"Edc=200;//dc terminal voltage in volts//\n",
"PF=cos(%pi/4)*(1+cos(%pi/10))/2;//power factor//\n",
"printf('\npower factor=PF=%f',PF);\n",
"RP=sqrt(3)*E2*I2*sqrt(1-PF^2);//reactive power to be supplied by shunt compensator in VAR//\n",
"printf('\nReactive power to be supplied by shunt compensator=RP=%fVAR',RP);//end of the program//\n",
"\n",
"\n",
"\n",
""
   ]
   }
,
{
		   "cell_type": "markdown",
		   "metadata": {},
		   "source": [
			"## Example 8.5: Shunt_filter.sci"
		   ]
		  },
  {
"cell_type": "code",
	   "execution_count": null,
	   "metadata": {
	    "collapsed": true
	   },
	   "outputs": [],
"source": [
"//Harmonic and Powerfactor with the Converter system//\n",
"//Example 8.5//\n",
"I11=400/11;//amplitude of 11th harmonic current in Amperes//\n",
"V1= 11/(sqrt(3));//Input supply phase voltage in Kilo Volts//\n",
"P=7;//supply power per phase of filter in MVAR//\n",
"Pc=P+((V1^2*I11^2*10^-3)/(11*P));//AC Converter MVAR rating of the capacitor//\n",
"printf('value of MVAR rating of the capacitor=Pc=%fMVAR',Pc);\n",
"W=2*3.14*50;\n",
"C=(Pc*10^6)/(V1^2*W);//capacitance of the ShuntFilter in microFarad//\n",
"printf('\nvalue of the capacitance of shunt filter=C=%fmicrofarads',C);\n",
"W11=11*W;\n",
"L=10^8/(C*W11^2);//inductance of filter in mHenry//\n",
"printf('\nInductance of filter=L=%fmilliHenry',L);\n",
"Q=35;//value of Q//\n",
"R=(W11*L)/Q;//Resistance of filter in milliOhms//\n",
"printf('\nResistance of filter=R=%fmilliOhms',R);"
   ]
   }
,
{
		   "cell_type": "markdown",
		   "metadata": {},
		   "source": [
			"## Example 8.6: Maximum_current_ripple.sci"
		   ]
		  },
  {
"cell_type": "code",
	   "execution_count": null,
	   "metadata": {
	    "collapsed": true
	   },
	   "outputs": [],
"source": [
"//Harmonic and Powerfactor with the Converter system//\n",
"//Example 8.6//\n",
"printf('For six pulse converter most effective harmonic is 6th and for worst case a=90 degree\n');\n",
"h=6;\n",
"Wv=24.1;//voltage ripple in percentage//\n",
"printf('voltage ripple=Wv=%fpercent',Wv);\n",
"Edc=460;//dc voltage in volts//\n",
"W=2*3.14*50;\n",
"Ldc=6;//total dc circuit inductance in milliHenry//\n",
"I6=Wv*Edc*10/(Ldc*h*W);//Harmonic current for 6th harmonic in amp//\n",
"printf('\nHarmonic current for 6th harmonic=I6=%famp',I6);\n",
"Id=300;\n",
"Wi=100*I6/Id;//maximum value of current ripple in percentage//\n",
"printf('\nmax. value of current ripple=Wi=%fpercent',Wi);//end of program//"
   ]
   }
,
{
		   "cell_type": "markdown",
		   "metadata": {},
		   "source": [
			"## Example 8.7: Voltage_ripple.sci"
		   ]
		  },
  {
"cell_type": "code",
	   "execution_count": null,
	   "metadata": {
	    "collapsed": true
	   },
	   "outputs": [],
"source": [
"//Harmonic and Powerfactor with the Converter system//\n",
"//Example 8.7//\n",
"A=%pi/4;\n",
"h=6;\n",
"Wv=sqrt(2)*sqrt(h^2-cos(A)^2*(h^2-1))*100/(h^2-1);\n",
"printf('voltage ripple of the 6th harmonic=Wv=%fpercent',Wv);\n",
"printf('\nFor six pulse converter most effective harmonic is 6th and for worst case A=90degrees\n');\n",
"A=%pi/2;\n",
"Wv6=sqrt(2)*sqrt(h^2-cos(A)^2*(h^2-1))*100/(h^2-1);//maximum voltage ripple in percentage//\n",
"printf('\nmaximum voltage ripple=Wv6=%fpercent',Wv6);\n",
"A=%pi/4;\n",
"h=12;\n",
"Wv=sqrt(2)*sqrt(h^2-cos(A)^2*(h^2-1))*100/(h^2-1);\n",
"printf('\nvoltage ripple of the 12th harmonic=Wv=%fpercent',Wv);\n",
"A=%pi/2;\n",
"Wv12=sqrt(2)*sqrt(h^2-cos(A)^2*(h^2-1))*100/(h^2-1);//maximum voltage ripple in percentage//\n",
"printf('\nmaximum voltage ripple=Wv12=%fpercent',Wv12);\n",
"PR=(Wv6-Wv12)*100/Wv6;//percentage reduction in max. voltage ripple//\n",
"printf('\npercentage reduction in max. voltage ripple=PR=%fpercent',PR);"
   ]
   }
,
{
		   "cell_type": "markdown",
		   "metadata": {},
		   "source": [
			"## Example 8.8: Triggering_angle.sci"
		   ]
		  },
  {
"cell_type": "code",
	   "execution_count": null,
	   "metadata": {
	    "collapsed": true
	   },
	   "outputs": [],
"source": [
"//Harmonic and Powerfactor with the Converter system//\n",
"//Example 8.8//\n",
"Wv=18.6;\n",
"h=6;\n",
"C=sqrt(h^2-(Wv^2*((h^2-1)^2)/2*10^4))*10^6/sqrt(h^2-1);//cosine of triggering angle//\n",
"C=sqrt(14.68/35);\n",
"printf('cosine of triggering angle=C=%f',C);\n",
"A=acos(C)*180/%pi;\n",
"printf('\ntriggering angle of the device=A=%fdegrees',A);//endof program//"
   ]
   }
,
{
		   "cell_type": "markdown",
		   "metadata": {},
		   "source": [
			"## Example 8.9: Power_factor.sci"
		   ]
		  },
  {
"cell_type": "code",
	   "execution_count": null,
	   "metadata": {
	    "collapsed": true
	   },
	   "outputs": [],
"source": [
"//Harmonic and Powerfactor with the Converter system//\n",
"//Example 8.9//\n",
"E2=415;//AC line voltage in volts//\n",
"Edc=380;//dc terminal voltage in volts//\n",
"C=1.1*Edc/(1.35*E2);\n",
"printf('cosine of the triggering angle=C=%f',C);\n",
"A=acos(C)*180/%pi;\n",
"printf('\ntriggering angle of the device=A=%fdegrees',A);\n",
"PF=C*(1+cos(%pi/12))/2;//power factor//\n",
"printf('\npower factor=PF=%f',PF);\n",
"Id=200;\n",
"I2=0.817*Id;\n",
"RP=sqrt(3)*E2*I2*sqrt(1-PF^2)/1000;//reactive power to be supplied by shunt compensator in KVAR//\n",
"printf('\nReactive power to be supplied by shuntcompensator=RP=%fKVAR',RP);//end of the program//\n",
"\n",
"\n",
"\n",
""
   ]
   }
],
"metadata": {
		  "kernelspec": {
		   "display_name": "Scilab",
		   "language": "scilab",
		   "name": "scilab"
		  },
		  "language_info": {
		   "file_extension": ".sce",
		   "help_links": [
			{
			 "text": "MetaKernel Magics",
			 "url": "https://github.com/calysto/metakernel/blob/master/metakernel/magics/README.md"
			}
		   ],
		   "mimetype": "text/x-octave",
		   "name": "scilab",
		   "version": "0.7.1"
		  }
		 },
		 "nbformat": 4,
		 "nbformat_minor": 0
}
