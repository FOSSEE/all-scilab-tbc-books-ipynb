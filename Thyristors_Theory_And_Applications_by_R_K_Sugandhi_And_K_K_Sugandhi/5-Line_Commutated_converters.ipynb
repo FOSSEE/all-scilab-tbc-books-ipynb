{
"cells": [
 {
		   "cell_type": "markdown",
	   "metadata": {},
	   "source": [
       "# Chapter 5: Line Commutated converters"
	   ]
	},
{
		   "cell_type": "markdown",
		   "metadata": {},
		   "source": [
			"## Example 5.1: AC_terminal_power.sci"
		   ]
		  },
  {
"cell_type": "code",
	   "execution_count": null,
	   "metadata": {
	    "collapsed": true
	   },
	   "outputs": [],
"source": [
"//Line commuted Converters//\n",
"//Example 5.1//\n",
"Edc=440;//dc terminal voltage of the thyristor in volts//\n",
"E2=415;//input voltage of the thyristor in volts//\n",
"Id=100;//dc motor current in amps//\n",
"C=Edc/(1.35*E2);\n",
"printf('cosine of the firing angle=C=%f',C);\n",
"A=acos(C)*180/%pi;\n",
"printf('firing angle of the converter=A=%fdegrees',A);\n",
"Pac=1.05*1.35*E2*Id/1000;//Ac terminal power in Kilo watts//\n",
"printf('AC terminal power=Pac=%fKW',Pac);"
   ]
   }
,
{
		   "cell_type": "markdown",
		   "metadata": {},
		   "source": [
			"## Example 5.2: Voltage_regulatio.sci"
		   ]
		  },
  {
"cell_type": "code",
	   "execution_count": null,
	   "metadata": {
	    "collapsed": true
	   },
	   "outputs": [],
"source": [
"//Line commuted Converters//\n",
"//Example 5.2//\n",
"Id=200;//rated dc current in amperes//\n",
"I2=0.817*Id;//AC line current in amperes//\n",
"printf('AC line current of the thyristor=I2=%famperes',I2);\n",
"E2=415;//AC line voltage in volts//\n",
"Xt=0.06*E2/I2;//effective reactance of the thyristor in ohms//\n",
"printf('\neffective reactance of the thyristor=Xt=%fohms',Xt);\n",
"C=1-((Id*Xt)/(E2*sqrt(3)));//cosine value of the commutational angle//\n",
"printf('\ncosine value of the commutational angle=C=%f',C);\n",
"CA=acos(C)*180/%pi;\n",
"printf('\ncommutation angle=CA=%fdegrees',CA);\n",
"IVR=(1-C)/2;//inductive voltage regulation//\n",
"printf('\nInductive voltage regulation=IVR=%f',IVR);\n",
"\n",
"\n",
""
   ]
   }
,
{
		   "cell_type": "markdown",
		   "metadata": {},
		   "source": [
			"## Example 5.3: Maximum_dc_voltage.sci"
		   ]
		  },
  {
"cell_type": "code",
	   "execution_count": null,
	   "metadata": {
	    "collapsed": true
	   },
	   "outputs": [],
"source": [
"//Line commuted Converters//\n",
"//Example 5.3//\n",
"E2=415;//input voltage in volts//\n",
"Edc=1.17*E2;//dc terminal voltage in volts//\n",
"Emax2=sqrt(2)*E2;//maximum value of dc voltage//\n",
"Z=2;//total impedance in ohms//\n",
"printf('maximum value of dc voltage=Emax2=%fvolts',Emax2);\n",
"Irms=Emax2*sqrt(%pi/3+sqrt(3)/4)/(2*%pi*Z);\n",
"printf('\nrms current through the device=Irms=%famps',Irms);"
   ]
   }
,
{
		   "cell_type": "markdown",
		   "metadata": {},
		   "source": [
			"## Example 5.4: Firing_angle.sci"
		   ]
		  },
  {
"cell_type": "code",
	   "execution_count": null,
	   "metadata": {
	    "collapsed": true
	   },
	   "outputs": [],
"source": [
"//Line commuted Converters//\n",
"//Example 5.4//\n",
"Edc=460;//dc terminal voltage of the thyristor in volts//\n",
"E2=415;//input voltage of the thyristor in volts//\n",
"Id=200;//dc motor current in amps//\n",
"C=Edc/(1.35*E2);\n",
"printf('cosine of the firing angle=C=%f',C);\n",
"A=acos(C)*180/%pi;\n",
"printf('\nfiring angle of the converter=A=%fdegrees',A);\n",
"Pdc=Edc*Id/1000;//dc power delivered by the converter in kilo Watts\n",
"printf('\ndc power delivered by the converter=Pdc=%fKW',Pdc);\n",
"Pac=1.05*Pdc;//Ac terminal power in KVA//\n",
"printf('\nAC terminal power=Pac=%fKVA',Pac);\n",
"Iac=Pac*1000/(sqrt(3)*E2);\n",
"printf('\nAC line current=Iac=%famps',Iac);\n",
"Ib=0.58*Id;//Branch current through the device in amps//\n",
"printf('\nBranch current through the device=Ib=%famps',Ib);"
   ]
   }
,
{
		   "cell_type": "markdown",
		   "metadata": {},
		   "source": [
			"## Example 5.5: Reactance_of_the_reactor.sci"
		   ]
		  },
  {
"cell_type": "code",
	   "execution_count": null,
	   "metadata": {
	    "collapsed": true
	   },
	   "outputs": [],
"source": [
"//Line commuted Converters//\n",
"//Example 5.5//\n",
"Id=150;//rated dc current in amperes//\n",
"E2=415;//AC line voltage in volts//\n",
"Emax=sqrt(2)*E2;\n",
"C=cos(16*%pi/180);//cosine value of the commutational angle//\n",
"printf('\ncosine value of the commutational angle=C=%f',C);\n",
"Xt=(1-C)*E2*sqrt(3)/Id;//effective reactance of the thyristor in ohms//\n",
"printf('\neffective reactance of the thyristor=Xt=%fohms',Xt);\n",
""
   ]
   }
,
{
		   "cell_type": "markdown",
		   "metadata": {},
		   "source": [
			"## Example 5.6: AC_load_current.sci"
		   ]
		  },
  {
"cell_type": "code",
	   "execution_count": null,
	   "metadata": {
	    "collapsed": true
	   },
	   "outputs": [],
"source": [
"//Line commuted Converters//\n",
"//Example 5.6//\n",
"E2=230;//AC line voltage in volts//\n",
"Emax=sqrt(2)*E2;\n",
"C=cos(13*%pi/180);//cosine value of the commutational angle//\n",
"Xt=0.16;//effective reactance of the thyristor in ohms//\n",
"Id=(1-C)*E2*sqrt(3)/Xt;//AC load current in amperes//\n",
"printf('AC load current=Id=%famps',Id);\n",
""
   ]
   }
,
{
		   "cell_type": "markdown",
		   "metadata": {},
		   "source": [
			"## Example 5.7: Average_value_of_voltage.sci"
		   ]
		  },
  {
"cell_type": "code",
	   "execution_count": null,
	   "metadata": {
	    "collapsed": true
	   },
	   "outputs": [],
"source": [
"//Line commuted Converters//\n",
"//Example 5.7//\n",
"E2=230;//input voltage in volts//\n",
"Emax=sqrt(2)*E2;//maximum value of dc voltage//\n",
"A=%pi/6;\n",
"Edc=Emax*(1+cos(A))/(2*%pi);\n",
"printf('Average value of dc voltage=Edc=%fvolts',Edc);\n",
"Eeff=Emax*sqrt((%pi-A)/(4*%pi)+(sin(2*A)/(8*%pi)));\n",
"printf('\nEffective value of voltage=Eeff=%fvolts',Eeff);\n",
"R=10;//total impedance in ohms//\n",
"Id=Edc/R;\n",
"printf('\nLoad current=Id=%famps',Id);"
   ]
   }
,
{
		   "cell_type": "markdown",
		   "metadata": {},
		   "source": [
			"## Example 5.8: DC_output_voltage.sci"
		   ]
		  },
  {
"cell_type": "code",
	   "execution_count": null,
	   "metadata": {
	    "collapsed": true
	   },
	   "outputs": [],
"source": [
"//Line commuted Converters//\n",
"//Example 5.8//\n",
"E2=415;//input voltage in volts//\n",
"Emax=sqrt(2)*E2;//maximum value of dc voltage//\n",
"A=%pi/6;//triggering angle in degrees//\n",
"Edc=Emax*cos(A)/%pi;//dc output voltage in volts//\n",
"printf('dc output voltage=Edc=%fvolts',Edc);"
   ]
   }
],
"metadata": {
		  "kernelspec": {
		   "display_name": "Scilab",
		   "language": "scilab",
		   "name": "scilab"
		  },
		  "language_info": {
		   "file_extension": ".sce",
		   "help_links": [
			{
			 "text": "MetaKernel Magics",
			 "url": "https://github.com/calysto/metakernel/blob/master/metakernel/magics/README.md"
			}
		   ],
		   "mimetype": "text/x-octave",
		   "name": "scilab",
		   "version": "0.7.1"
		  }
		 },
		 "nbformat": 4,
		 "nbformat_minor": 0
}
