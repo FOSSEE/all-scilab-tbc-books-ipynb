{
"cells": [
 {
		   "cell_type": "markdown",
	   "metadata": {},
	   "source": [
       "# Chapter 11: Liquefaction of Gases"
	   ]
	},
{
		   "cell_type": "markdown",
		   "metadata": {},
		   "source": [
			"## Example 11.1: EX11_1.sce"
		   ]
		  },
  {
"cell_type": "code",
	   "execution_count": null,
	   "metadata": {
	    "collapsed": true
	   },
	   "outputs": [],
"source": [
"//Chemical Engineering Thermodynamics\n",
"//Chapter 11\n",
"//Liquefaction of Gases\n",
"\n",
"//Example 11.1\n",
"clear;\n",
"clc;\n",
"\n",
"//Given\n",
"P1 = 8.74;//Initial pressure in Kgf/sq cm\n",
"P2 = 2.41;//Final pressure in Kgf/sq cm\n",
"H1 = 327.13;//Enthalpy of inlet stream in Kcal/Kg\n",
"H2 = H1;//Enthalpy of exit stream in Kcal/Kg ,since throttling is isenthalpic\n",
"Hl = 26.8;//Enthalpy of liquid  at the final condition in Kcal/Kg\n",
"Hg = 340.3;//Enthalpy of gas at the final condition  in Kcal/Kg\n",
"vl = 152*10^-5;//Specific volume of liquid at the final condition in cubic meter/Kg\n",
"vg = 0.509;//Specific volume of gas at the final condition in cubic meter/Kg\n",
"v1 = 0.1494;//Initial specific volume in cubic meter/Kg\n",
"\n",
"//To Calculate the dryness fraction of exit stream and the ratio of upstream to downstream diameters\n",
"//(i)Calculation of the dryness fraction of exit stream\n",
"//From equation 3.13(a) (page no 82)\n",
"x = (H2- Hl)/(Hg-Hl);\n",
"mprintf('(i)The dryness fraction of the exit stream is %f',x);\n",
"\n",
"//(ii)Calculation of the ratio of upstream to downstream pipe diameters\n",
"//From equation 3.13(b) (page no 82)\n",
"v2 = (vl*(1-x))+(x*vg);//Total specific volume at the final condition in cubic meter/Kg\n",
"//u1 = u2; since KE changes are negligible\n",
"//From continuity equation: A2/A1 = D2^2/D1^2 = v2/v1 ; let required ratio,r = D2/D1;\n",
"r = (v2/v1)^(1/2);\n",
"mprintf('\n (ii)The ratio of upstream to downstream diameters  is %f',r);\n",
"//end"
   ]
   }
,
{
		   "cell_type": "markdown",
		   "metadata": {},
		   "source": [
			"## Example 11.2: To_Calculate_the_temperature_of_the_throttled_gas.sce"
		   ]
		  },
  {
"cell_type": "code",
	   "execution_count": null,
	   "metadata": {
	    "collapsed": true
	   },
	   "outputs": [],
"source": [
"//Chemical Engineering Thermodynamics\n",
"//Chapter 11\n",
"//Liquefaction of Gases\n",
"\n",
"//Example 11.2\n",
"clear;\n",
"clc;\n",
"\n",
"//Given\n",
"P1 = 1000*1.033*10^4;//Initial pressure in Kgf/sq m\n",
"P2 = 1*1.033*10^4;//Final pressure in Kgf/sq m\n",
"T1 = 300;//Inital temperature in K\n",
"Cp = 7;//Specific heat of the gas in Kcal/Kgmole K\n",
"//Gas obeys the relation: v = (R*T)/P+(b*(T^2))\n",
"b = 5.4392*10^-8;//in cubic meter/Kgmole K^2\n",
"\n",
"//To Calculate the temperature of the throttled gas\n",
"//From equation (a) (page no 212);which we got after integration \n",
"T2 = 1/((1/T1)-((b/Cp)*((P2-P1)/427)));\n",
"mprintf('The throttled gas is cooled to %f K',T2);"
   ]
   }
,
{
		   "cell_type": "markdown",
		   "metadata": {},
		   "source": [
			"## Example 11.3: EX11_3.sce"
		   ]
		  },
  {
"cell_type": "code",
	   "execution_count": null,
	   "metadata": {
	    "collapsed": true
	   },
	   "outputs": [],
"source": [
"//Chemical Engineering Thermodynamics\n",
"//Chapter 11\n",
"//Liquefaction of Gases\n",
"\n",
"//Example 11.3\n",
"clear;\n",
"clc;\n",
"\n",
"//Given\n",
"//From the figure 11.8 (page no 216) & from figure A.2.7\n",
"H3 = 0;\n",
"H7 = -47;//in Kcal/Kg\n",
"H6 = -93;//in Kcal/Kg\n",
"H8 = 7;//in Kcal/Kg\n",
"\n",
"//To Calculate the fraction of air liquified at steady state and temperature of air before throttling\n",
"//(i)Calculation of fraction of air liquified\n",
"//From equation 11.3 (page no 215)\n",
"x = (H8-H3)/(H8-H6);\n",
"mprintf('The fraction of air liquified is %f',x);\n",
"\n",
"//(ii)Calculation of temperature \n",
"H4 = H3+(H7*(1-x))-(H8*(1-x));//enthalpy of the gas before throttling\n",
"//From figure A.2.7 temperature corresponds to pressure 160 atm and the enthalpy H4 is\n",
"T = -112;\n",
"mprintf('\n The temperature of air before throttling is %d deg celsius',T);\n",
"//end"
   ]
   }
],
"metadata": {
		  "kernelspec": {
		   "display_name": "Scilab",
		   "language": "scilab",
		   "name": "scilab"
		  },
		  "language_info": {
		   "file_extension": ".sce",
		   "help_links": [
			{
			 "text": "MetaKernel Magics",
			 "url": "https://github.com/calysto/metakernel/blob/master/metakernel/magics/README.md"
			}
		   ],
		   "mimetype": "text/x-octave",
		   "name": "scilab",
		   "version": "0.7.1"
		  }
		 },
		 "nbformat": 4,
		 "nbformat_minor": 0
}
