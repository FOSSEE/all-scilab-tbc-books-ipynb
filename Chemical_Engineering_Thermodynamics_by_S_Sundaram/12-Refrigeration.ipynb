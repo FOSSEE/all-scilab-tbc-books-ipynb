{
"cells": [
 {
		   "cell_type": "markdown",
	   "metadata": {},
	   "source": [
       "# Chapter 12: Refrigeration"
	   ]
	},
{
		   "cell_type": "markdown",
		   "metadata": {},
		   "source": [
			"## Example 12.1: To_Calculate_the_theoretical_horse_power_required.sce"
		   ]
		  },
  {
"cell_type": "code",
	   "execution_count": null,
	   "metadata": {
	    "collapsed": true
	   },
	   "outputs": [],
"source": [
"//Chemical Engineering Thermodynamics\n",
"//Chapter 12\n",
"//Refrigeration\n",
"\n",
"//Example 12.1\n",
"clear;\n",
"clc;\n",
"\n",
"//Given\n",
"m = 500;//mass of ice produced per hour  in Kg\n",
"T1 = 15;//Initial temperature of water\n",
"T2 = -5;//Final temperature of ice\n",
"Ci = 0.5;//Specific  heat of ice in Kcal/Kg deg celsius\n",
"Cw = 1;//Specific heat of water in Kcal/Kg deg celsius\n",
"L_f = 79.71;//Latent heat of fusion in Kcal/Kg\n",
"Tf = 0;//Frezzing point of ice in deg celsius\n",
"\n",
"//To Calculate the theoretical horse power required\n",
"Q2 = m*(Cw*(T1-Tf)+L_f+Ci*(Tf-T2));//Heat to be extracted per hour in Kcal\n",
"//From equation 12.1 (page no 220)\n",
"C.O.P = (T2+273)/((T1+273)-(T2+273));\n",
"W = Q2/C.O.P;//Work in Kcal/hr\n",
"W1 = W*(427/(60*4500));\n",
"mprintf('The therotical horse power required is %f hp',W1);\n",
"//end"
   ]
   }
,
{
		   "cell_type": "markdown",
		   "metadata": {},
		   "source": [
			"## Example 12.2: To_Calculate_the_compressor_load.sce"
		   ]
		  },
  {
"cell_type": "code",
	   "execution_count": null,
	   "metadata": {
	    "collapsed": true
	   },
	   "outputs": [],
"source": [
"//Chemical Engineering Thermodynamics\n",
"//Chapter 12\n",
"//Refrigeration\n",
"\n",
"//Example 12.2\n",
"clear;\n",
"clc;\n",
"\n",
"//Given\n",
"Ta = 298;//Initial temperature in K\n",
"Tb = 203;//Final temperature in k\n",
"T1 = 298;//Water temperature in K\n",
"n = 1;//Kgmole of CO2\n",
"//Cp = 5.89+0.0112T ; Specific heat of CO2 in Kcal/Kgmole K\n",
"\n",
"//To Calculate the compressor load\n",
"//From equation 12.2a and b (page no 221)\n",
"function y = f(T)\n",
"    y = ((T1-T)/T)*n*(5.89+0.0112*T);\n",
"endfunction\n",
"W = intg(Ta,Tb,f);\n",
"mprintf('The compressor load is %f Kcal/Kgmole',W);\n",
"//end"
   ]
   }
,
{
		   "cell_type": "markdown",
		   "metadata": {},
		   "source": [
			"## Example 12.3: EX12_3.sce"
		   ]
		  },
  {
"cell_type": "code",
	   "execution_count": null,
	   "metadata": {
	    "collapsed": true
	   },
	   "outputs": [],
"source": [
"//Chemical Engineering Thermodynamics\n",
"//Chapter 12\n",
"//Refrigeration\n",
"\n",
"//Example 12.3\n",
"clear;\n",
"clc;\n",
"\n",
"//Given\n",
"//Consider the figure 12.4 (page no 226) \n",
"m = 5;//tonnes of refrigeration\n",
"T1 = 273-10;//temperature of the saturated vapour in K\n",
"T2 = 273+35;//temperature of the super heated vapour in K\n",
"T3 = 273+25;//temperature of the saturated liquid in K\n",
"T4 = 273+25;//temperature of the wet vapour in K\n",
"H1 = 341.8;//enthalpy of the saturated vapour in Kcal/Kg\n",
"H2 = 409.0;//enthalpy of the super heated vapour in Kcal/Kg\n",
"H3 = 350.0;//enthalpy of the saturated liquid in Kcal/Kg\n",
"H4 = 71.3;//enthalpy of the wet vapour in Kcal/Kg\n",
"\n",
"//To Calculate the C.O.P, mass of refrigerant required, compressor horse power required and the C.O.P & compressor horse power for a reversed Carnot cycle\n",
"//(i)Calculation of the C.O.P of the compression cycle\n",
"//From equation 12.6 (page no 226)\n",
"C.O.P = (H1-H4)/(H2-H1);\n",
"mprintf('(i)C.O.P of the compression cycle is %f',C.O.P);\n",
"\n",
"//(ii)Calculation of mass of refrigerant required\n",
"//From equation 12.7 (page no 226)\n",
"M = (m*50.4)/(H1-H4);\n",
"mprintf('\n (ii)The mass of refrigerant required is %f Kg/mt',M);\n",
"\n",
"//(iii)Calculation of the compressor horse power\n",
"//From equation 12.5 (page no 226)\n",
"C_hp = (H2-H1)*M*(427/4500);\n",
"mprintf('\n (iii)The compressor horse power is %f hp',C_hp);\n",
"\n",
"//(iv)Calculation for reversed Carnot cycle\n",
"//From equation 12.1 (page no 220)\n",
"C.O.P = T1/(T3-T1);\n",
"mprintf('\n\n (iv)C.O.P for the reversed Carnot cycle is %f',C.O.P);\n",
"Q2 = m*50.4*(427/4500);//in hp\n",
"C_hp = Q2/C.O.P;\n",
"mprintf('\n    Compressor horse power for the reversed Carnot cycle is %f hp',C_hp);\n",
"//end"
   ]
   }
,
{
		   "cell_type": "markdown",
		   "metadata": {},
		   "source": [
			"## Example 12.4: To_calculate_the_pressure_in_the_tank_and_the_amount_of_make_up_water_required.sce"
		   ]
		  },
  {
"cell_type": "code",
	   "execution_count": null,
	   "metadata": {
	    "collapsed": true
	   },
	   "outputs": [],
"source": [
"//Chemical Engineering Thermodynamics\n",
"//Chapter 12\n",
"//Refrigeration\n",
"\n",
"//Example 12.4\n",
"clear;\n",
"clc;\n",
"\n",
"//Given\n",
"//Water at 20 deg cel is chilled to 10 deg cel by flash evaporation\n",
"Pv = 0.012;//Vapour pressure of water at 10 deg celsius in Kgf/sq.cm\n",
"H1 = 20.03;//Enthalpy of liquid water at 20 deg cel in Kcal/Kg\n",
"H2 = 10.4;//Enthalpy of liquid water at 10 deg cel in Kcal/Kg\n",
"Hv = 601.6;//Enthalpy of saturated vapour at 10 deg cel in Kcal/kg\n",
"\n",
"//To calculate the pressure in the tank and the amount of make up water required\n",
"P = Pv;//pressure in the tank = vapour pressure of water\n",
"mprintf('The pressure in the tank is %f Kgf/sq.cm',P);\n",
"//From equation 12.8 (page no 234)\n",
"x = (H1-H2)/(Hv-H2);\n",
"mprintf('\n The amount of make up water required is %f Kg',x);\n",
"//end"
   ]
   }
],
"metadata": {
		  "kernelspec": {
		   "display_name": "Scilab",
		   "language": "scilab",
		   "name": "scilab"
		  },
		  "language_info": {
		   "file_extension": ".sce",
		   "help_links": [
			{
			 "text": "MetaKernel Magics",
			 "url": "https://github.com/calysto/metakernel/blob/master/metakernel/magics/README.md"
			}
		   ],
		   "mimetype": "text/x-octave",
		   "name": "scilab",
		   "version": "0.7.1"
		  }
		 },
		 "nbformat": 4,
		 "nbformat_minor": 0
}
