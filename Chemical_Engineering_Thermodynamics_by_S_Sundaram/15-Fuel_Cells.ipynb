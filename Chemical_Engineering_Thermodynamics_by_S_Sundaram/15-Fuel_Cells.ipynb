{
"cells": [
 {
		   "cell_type": "markdown",
	   "metadata": {},
	   "source": [
       "# Chapter 15: Fuel Cells"
	   ]
	},
{
		   "cell_type": "markdown",
		   "metadata": {},
		   "source": [
			"## Example 15.1: EX15_1.sce"
		   ]
		  },
  {
"cell_type": "code",
	   "execution_count": null,
	   "metadata": {
	    "collapsed": true
	   },
	   "outputs": [],
"source": [
"//Chemical Engineering Thermodynamics\n",
"//Chapter 15\n",
"//Fuel Cells\n",
"\n",
"//Example 15.1\n",
"clear;\n",
"clc;\n",
"\n",
"//Given\n",
"del_F = -56.29;//Standard free energy change in Kcal/Kgmole\n",
"del_H = -68.317;//Standard heat of reaction in Kcal/kgmole\n",
"F = 23.06;//Electro-chemical equivalent in Kcal/volt\n",
"J = 2;//Valance for H2\n",
"\n",
"//To Calculate the emf of the cell, cell efficiency and heat to be removed to maintain isothermal conditions\n",
"//Basis: 1 Kgmole of H2\n",
"//From equation 15.4 (page no 355)\n",
"E = -del_F/(F*J);\n",
"mprintf('1.The emf of the cell is %f volt.',E);\n",
"n = del_F/del_H*100;\n",
"mprintf('\n 2.The cell efficiency is %f percent.',n);\n",
"Q = del_H-del_F;\n",
"mprintf('\n 3.The heat to be removed is %f Kcal to maintain the temperature at 25 degree celsius.',Q);\n",
"//end"
   ]
   }
],
"metadata": {
		  "kernelspec": {
		   "display_name": "Scilab",
		   "language": "scilab",
		   "name": "scilab"
		  },
		  "language_info": {
		   "file_extension": ".sce",
		   "help_links": [
			{
			 "text": "MetaKernel Magics",
			 "url": "https://github.com/calysto/metakernel/blob/master/metakernel/magics/README.md"
			}
		   ],
		   "mimetype": "text/x-octave",
		   "name": "scilab",
		   "version": "0.7.1"
		  }
		 },
		 "nbformat": 4,
		 "nbformat_minor": 0
}
