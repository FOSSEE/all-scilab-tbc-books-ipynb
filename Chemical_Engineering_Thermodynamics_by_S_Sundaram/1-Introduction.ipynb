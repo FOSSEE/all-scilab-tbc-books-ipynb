{
"cells": [
 {
		   "cell_type": "markdown",
	   "metadata": {},
	   "source": [
       "# Chapter 1: Introduction"
	   ]
	},
{
		   "cell_type": "markdown",
		   "metadata": {},
		   "source": [
			"## Example 1.1: To_determine_the_force_exerted.sce"
		   ]
		  },
  {
"cell_type": "code",
	   "execution_count": null,
	   "metadata": {
	    "collapsed": true
	   },
	   "outputs": [],
"source": [
"//Chemical Engineering Thermodynamics\n",
"//Chapter 1\n",
"//Introduction\n",
"\n",
"//Example 1.1\n",
"clear;\n",
"clc;\n",
"\n",
"//Given \n",
"m = 100;//m is the mass of the object in kg\n",
"a = 10;//a is the acceeleration due to gravity in m/s^2\n",
"\n",
"//To determine the force exerted\n",
"F = m*a;//F is the force exerted by the object in kg\n",
"mprintf('Force exerted by the object= %f N',F);\n",
"F = (1/9.8065)*m*a;//F is the force exerted by the object in kgf\n",
"mprintf('\n Force exerted by the object= %f N',F);\n",
"//end"
   ]
   }
,
{
		   "cell_type": "markdown",
		   "metadata": {},
		   "source": [
			"## Example 1.2: Theoretical_problem.sce"
		   ]
		  },
  {
"cell_type": "code",
	   "execution_count": null,
	   "metadata": {
	    "collapsed": true
	   },
	   "outputs": [],
"source": [
"//Chemical Engineering Thermodynamics\n",
"//Chapter\n",
"//Introduction\n",
"\n",
"//Example 1.2\n",
"clear;\n",
"clc;\n",
"\n",
"//Given\n",
"//The given example is a theoretical problem and it does not involve any numerical computation\n",
"//end"
   ]
   }
,
{
		   "cell_type": "markdown",
		   "metadata": {},
		   "source": [
			"## Example 1.3: Theoretical_problem.sce"
		   ]
		  },
  {
"cell_type": "code",
	   "execution_count": null,
	   "metadata": {
	    "collapsed": true
	   },
	   "outputs": [],
"source": [
"//Chemical Engineering Thermodynamics\n",
"//Chapter\n",
"//Introduction\n",
"\n",
"//Example 1.3\n",
"clear;\n",
"clc;\n",
"\n",
"//Given\n",
"//The given example is a theoretical problem and it does not involve any numerical computation\n",
"//end"
   ]
   }
,
{
		   "cell_type": "markdown",
		   "metadata": {},
		   "source": [
			"## Example 1.4: To_determine_the_mass_of_water_required.sce"
		   ]
		  },
  {
"cell_type": "code",
	   "execution_count": null,
	   "metadata": {
	    "collapsed": true
	   },
	   "outputs": [],
"source": [
"//Chemical Engineering Thermodynamics\n",
"//Chapter 1\n",
"//Introduction\n",
"\n",
"//Example 1.4\n",
"clear;\n",
"clc;\n",
"\n",
"//Given\n",
"h = 100;//h is the height of the water fall in m\n",
"n = .855;//n is the efficiency of the turbine\n",
"g = 9.8;//g is the acceleration due to gravity in m/(s^2)\n",
"E = 100*10*3600;//E is the potential enery of water available to the bulb for 10 hours in watt or J/s\n",
"\n",
"//To determine the mass of water required\n",
"m = (E/(g*h*n));//m is the mass of water required for lighting the bulb for 10 hours in Kg\n",
"mprintf('Mass of water required for lighting the bulb for 10 hours in Kg= %f Kg',m);\n",
"mprintf('\n Mass of water required for lighting the bulb for 10 hours in tonnes= %f Kg',m/907.2);\n",
"//end"
   ]
   }
,
{
		   "cell_type": "markdown",
		   "metadata": {},
		   "source": [
			"## Example 1.5: To_Calculate_the_work_obtained.sce"
		   ]
		  },
  {
"cell_type": "code",
	   "execution_count": null,
	   "metadata": {
	    "collapsed": true
	   },
	   "outputs": [],
"source": [
"//Chemical Engineering Thermodynamics\n",
"//Chapter 1\n",
"//Introduction\n",
"\n",
"//Example 1.5\n",
"clear;\n",
"clc;\n",
"\n",
"//Given\n",
"n = 1;//n is the Kg mole of an ideal gas\n",
"P = 700*(10^4);//P is the pressure of the system in N/(m^2)\n",
"W = 45;//W is the weight of the mass in Kg\n",
"M = 20;//M is the weight of the piston and piston rod together in Kg\n",
"T = 300;//T is the constant temperature of the bath in K\n",
"h = .4;//h is the height difference of the piston after expansion in m\n",
"\n",
"//To calculate the work obtained\n",
"a = (10^-4);//a is the cross sectional area of the cylinder in m^2\n",
"V = h*a;//V is the volume changed as gas expands in m^3\n",
"\n",
"//(i). If gas alone is the system\n",
"//1Kgf = 9.8065Nm\n",
"P1 = ((W+M)*9.8065)/(10^-4);//P1 is the resisting pressure when the gas confined in the cylinder taken as a system\n",
"W1 = P1*V;//W1 is the work done if the gas confined in the cylinder us taken as system\n",
"mprintf('Work done by the system if the gas confined in the cylinder is taken as a system is %f Nm',W1);\n",
"\n",
"//(ii). If gas + piston + piston rod is a system\n",
"P2 = ((W*9.8065)/(10^-4));//P2 is the resisting pressure when the gas plus piston plus piston rod is taken as a system\n",
"W2 = P2*V;//W2 is the Work done by the system if the gas plus piston plus piston rod is taken as a system\n",
"mprintf('\n Work done by the system if the gas plus piston plus piston rod is taken as system is %f Nm',W2);\n",
"\n",
"//(iii). If gas + piston + piston rod +weight is system\n",
"P3 = 0;//P3 is the resisting pressure when the gas plus piston plus piston rod plus weight is taken as a system\n",
"W3 = P3*V;//W3 is the work done by the system if the gas plus piston plus piston rod plus weight is taken as a system\n",
"mprintf('\n Work done by the system if the gas plus piston plus piston rod plus weight is taken as a system is %f',W3);\n",
"//end"
   ]
   }
,
{
		   "cell_type": "markdown",
		   "metadata": {},
		   "source": [
			"## Example 1.6: To_Calculate_the_work_done.sce"
		   ]
		  },
  {
"cell_type": "code",
	   "execution_count": null,
	   "metadata": {
	    "collapsed": true
	   },
	   "outputs": [],
"source": [
"//Chemical Engineering Thermodynamics\n",
"//Chapter 1\n",
"//Introduction\n",
"\n",
"//Example 1.6\n",
"clear;\n",
"clc;\n",
"\n",
"//Given\n",
"n = 1;//n is the Kg mole of ideal gas.\n",
"P1 = 700*(10^4);//P1 is the initial pressure of the system in N/(m^2)\n",
"P2 = 638*(10^4);//P2 is the final pressure of the system in N/(m^2)\n",
"T = 300;//T is temperature of the system in K\n",
"R = 8314.4;//R is gas constant in Nm/Kgmole deg K\n",
"\n",
"//To calculate the work done\n",
"W = n*R*T*log(P1/P2);//W is the work done by the system in Nm\n",
"mprintf('Work done by the system is %4.2e Nm',W);\n",
"//end"
   ]
   }
],
"metadata": {
		  "kernelspec": {
		   "display_name": "Scilab",
		   "language": "scilab",
		   "name": "scilab"
		  },
		  "language_info": {
		   "file_extension": ".sce",
		   "help_links": [
			{
			 "text": "MetaKernel Magics",
			 "url": "https://github.com/calysto/metakernel/blob/master/metakernel/magics/README.md"
			}
		   ],
		   "mimetype": "text/x-octave",
		   "name": "scilab",
		   "version": "0.7.1"
		  }
		 },
		 "nbformat": 4,
		 "nbformat_minor": 0
}
