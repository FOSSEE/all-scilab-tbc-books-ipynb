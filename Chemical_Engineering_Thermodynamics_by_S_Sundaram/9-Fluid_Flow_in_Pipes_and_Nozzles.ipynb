{
"cells": [
 {
		   "cell_type": "markdown",
	   "metadata": {},
	   "source": [
       "# Chapter 9: Fluid Flow in Pipes and Nozzles"
	   ]
	},
{
		   "cell_type": "markdown",
		   "metadata": {},
		   "source": [
			"## Example 9.1: To_find_out_the_pressure_at_the_final_point.sce"
		   ]
		  },
  {
"cell_type": "code",
	   "execution_count": null,
	   "metadata": {
	    "collapsed": true
	   },
	   "outputs": [],
"source": [
"//Chemical Engineering Thermodynamics\n",
"//Chapter 9\n",
"//Fluid Flow in Pipes and Nozzles\n",
"//Example 9.1\n",
"clear;\n",
"clc;\n",
"\n",
"//Given\n",
"R = 848;//gas constant in m Kgf/Kgmole K\n",
"M = 29;//molecular weight of air\n",
"g = 9.81;\n",
"T1 = 90+273;//initial temperature in K\n",
"y = 1.4;//gamma = Cp/Cv\n",
"W = 800/3600;//Mass rate of air in Kg/sec\n",
"P1 = 3.5;//initial pressure in atm\n",
"d = 2.5;//diameter of the pipe in cm\n",
"\n",
"//To find out the pressure at the final point\n",
"v1 = (R*T1)/(M*P1*1.033*10^4);//specific volume in cubic meter/Kg\n",
"u1 = (W*v1)/(%pi*(d^2*(10^-4))/4);//inital velocity in m/sec\n",
"//Assume final temperature as\n",
"T2 = [300 310];\n",
"//Assume specific heat capacity in J/KgK corresponding to the above temperature as\n",
"Cp = [2987.56 2983.56];\n",
"for i = 1:2\n",
"    us(i) = (g*y*R*T2(i)/M)^(1/2);//sonic velocity attained in m/sec\n",
"    u2(i) = ((u1^2)-((2*g*Cp(i)/M)*(T2(i)-T1)))^(1/2);//From equation 9.18 & 9.19 (page no 170)\n",
"end\n",
"if us(i)-u2(i) <= 1 \n",
"    u2 = u2(i);\n",
"    T2 = T2(i);\n",
"else\n",
"end\n",
"v2 = u2*(%pi/4)*(d^2/10^4)*(1/W);\n",
"P2 = (P1*v1*T2)/(T1*v2);\n",
"mprintf('The pressure at the final point is %f atm',P2);\n",
"//end"
   ]
   }
,
{
		   "cell_type": "markdown",
		   "metadata": {},
		   "source": [
			"## Example 9.2: To_find_out_the_mass_rate_of_alcohol.sce"
		   ]
		  },
  {
"cell_type": "code",
	   "execution_count": null,
	   "metadata": {
	    "collapsed": true
	   },
	   "outputs": [],
"source": [
"//Chemical Engineering Thermodynamics\n",
"//Chapter 9\n",
"//Fluid Flow in Pipes and Nozzles\n",
"//Example 9.2\n",
"clear;\n",
"clc;\n",
"\n",
"//Given\n",
"A1 = 0.002;//inlet area in sq meter\n",
"A2 = 0.0005;//throat area in sq meter\n",
"P1 = 1.3*10^4;//inlet pressure in Kgf/sq m\n",
"P2 = 0.7*10^4;//throat pressure in Kgf/sq m\n",
"g = 9.81;\n",
"v = 12*10^-4;//specific volume in cubic m /Kg\n",
"\n",
"//To find out the mass rate of alcohol\n",
"u2 = ((v*2*g*(P1-P2))/(1-((A2/A1)^2)))^(1/2);//throat velocity in m/sec\n",
"W = (u2*A2)/v;\n",
"mprintf('The mass rate of alcohol is %f Kg/sec',W);"
   ]
   }
,
{
		   "cell_type": "markdown",
		   "metadata": {},
		   "source": [
			"## Example 9.3: EX9_3.sce"
		   ]
		  },
  {
"cell_type": "code",
	   "execution_count": null,
	   "metadata": {
	    "collapsed": true
	   },
	   "outputs": [],
"source": [
"//Chemical Engineering Thermodynamics\n",
"//Chapter 9\n",
"//Fluid Flow in Pipes and Nozzles\n",
"//Example 9.3\n",
"clear;\n",
"clc;\n",
"\n",
"//Given\n",
"P1 = 50;//initial pressure in Kgf/sq m\n",
"T1 = 45+273;//initial temperature in K\n",
"g = 9.81;\n",
"y = 1.35;//gamma\n",
"R = 848;//gas constant in m Kgf/Kgmole K\n",
"M = 29;//molecular weight of air\n",
"d = 1;//pipe diameter in cm\n",
"\n",
"//(i)To plot velocity,specific volume,mass velocity against P2/P1\n",
"//(ii)To calculate the critical pressure,critical mass velocity and mass rate of flow\n",
"//(i)Plotting of graph\n",
"V1 = (R*T1)/(M*P1*1.033*10^4);//initial volume of the gas in cubic m/Kg\n",
"//P3 = P2/P1 (say)\n",
"//Assume P3 values as\n",
"P3 = [1.0 0.8 0.6 0.4 0.2 0.1 0];\n",
"G = [0 0 0 0 0 0 0];\n",
"for i = 1:7\n",
"    u2(i) = (((2*g*y*R*T1)/((y-1)*M))*(1-(P3(i)^((y-1)/y))))^(1/2);//final velocity in m/sec\n",
"end\n",
"for i = 1:6\n",
"     v2(i) = V1/(P3(i)^(1/y));//final specific volume in cubic meter/Kg\n",
"end\n",
"for i = 1:6\n",
"    G(i) = u2(i)/v2(i);//Mass velocity in Kg/sq m sec\n",
"end\n",
"\n",
"clf;\n",
"xset('window',4);\n",
"plot(P3,u2,'o-');\n",
"xtitle('Velocity vs P2/P1','P2/P1','Velocity');\n",
"xset('window',5);\n",
"plot(P3,G,'+-');\n",
"xtitle('Mass velocity vs P2/P1','P2/P1','Mass velocity');\n",
"xset('window',6);\n",
"P_3 = [1.0 0.8 0.6 0.4 0.2 0.1];\n",
"plot(P_3,v2,'*-');\n",
"xtitle('Sp. volume vs P2/P1','P2/P1','Specific volume');\n",
"\n",
"//(ii)Calculation of critical pressure,critical mass velocity and mass rate of flow\n",
"//From equation 9.37(page no 181)\n",
"P2 = P1*(2/(y+1))^(y/(y-1));\n",
"mprintf('The critical pressure is %f atm',P2);\n",
"//From equation a (page no 183)\n",
"u2 = (((2*g*y*R*T1)/((y-1)*M))*(1-((P2/P1)^((y-1)/y))))^(1/2);\n",
"mprintf('\n The critical velocity is %f m/sec',u2);\n",
"//From equation b (page no 183)\n",
"v2 = ((R*T1)/(M*P1*1.033*10^4))/((P2/P1)^(1/y));\n",
"mprintf('\n The critical specific volume is %f cubic meter/Kg',v2);\n",
"//From relation c (page no 183)\n",
"G = u2/v2;\n",
"mprintf('\n The critical mass velocity is %f Kg/sq meter sec',G);\n",
"W = G*(%pi/4)*(d/(100))^2;\n",
"mprintf('\n Mass rate of flow through nozzle is %f Kg/sec',W);\n",
"//end"
   ]
   }
,
{
		   "cell_type": "markdown",
		   "metadata": {},
		   "source": [
			"## Example 9.4: To_calculate_the_area_at_exit_of_nozzle_and_hence_decide_the_type_of_the_nozzle.sce"
		   ]
		  },
  {
"cell_type": "code",
	   "execution_count": null,
	   "metadata": {
	    "collapsed": true
	   },
	   "outputs": [],
"source": [
"//Chemical Engineering Thermodynamics\n",
"//Chapter 9\n",
"//Fluid Flow in Pipes and Nozzles\n",
"//Example 9.4\n",
"clear;\n",
"clc;\n",
"\n",
"//Given\n",
"A1 = 0.1;//Inlet area in sq meter\n",
"u1 = 60;//inlet velocity in m/sec\n",
"v1 = 0.185;//inlet specific volume in cubic meter/Kg\n",
"H1 = 715;//inlet enthalpy in Kcal/Kg\n",
"H2 = 660;//exit enthalpy in Kcal/Kg\n",
"v2 = 0.495;//exit specific volume in cubic meter/Kg\n",
"g = 9.81\n",
"\n",
"//To calculate the area at exit of nozzle and hence decide the type of the nozzle\n",
"//From the first law\n",
"u2 = ((u1^2)-(2*g*(H2-H1)*427))^(1/2);\n",
"W = (u1*A1)/v1;//Mass rate of gas in Kg/sec\n",
"A2 = (W*v2)/u2;//Area at exit of nozzle\n",
"if(A2 < A1)\n",
"    mprintf('The nozzle is convergent');\n",
"else\n",
"    mprintf('The nozzle is divergent');\n",
"end\n",
"//end"
   ]
   }
],
"metadata": {
		  "kernelspec": {
		   "display_name": "Scilab",
		   "language": "scilab",
		   "name": "scilab"
		  },
		  "language_info": {
		   "file_extension": ".sce",
		   "help_links": [
			{
			 "text": "MetaKernel Magics",
			 "url": "https://github.com/calysto/metakernel/blob/master/metakernel/magics/README.md"
			}
		   ],
		   "mimetype": "text/x-octave",
		   "name": "scilab",
		   "version": "0.7.1"
		  }
		 },
		 "nbformat": 4,
		 "nbformat_minor": 0
}
