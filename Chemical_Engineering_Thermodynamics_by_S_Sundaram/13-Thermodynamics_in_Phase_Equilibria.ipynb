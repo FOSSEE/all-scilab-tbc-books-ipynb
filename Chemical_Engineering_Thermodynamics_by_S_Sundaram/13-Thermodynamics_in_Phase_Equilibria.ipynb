{
"cells": [
 {
		   "cell_type": "markdown",
	   "metadata": {},
	   "source": [
       "# Chapter 13: Thermodynamics in Phase Equilibria"
	   ]
	},
{
		   "cell_type": "markdown",
		   "metadata": {},
		   "source": [
			"## Example 13.10: Theoretical_problem.sce"
		   ]
		  },
  {
"cell_type": "code",
	   "execution_count": null,
	   "metadata": {
	    "collapsed": true
	   },
	   "outputs": [],
"source": [
"//Chemical Engineering Thermodynamics\n",
"//Chapter 13\n",
"//Thermodynamics in Phase Equilibria\n",
"\n",
"//Example 13.10\n",
"clear;\n",
"clc;\n",
"\n",
"//Given\n",
"//The given example is a theoretical problem and does not involve any numerical computation\n",
"//end"
   ]
   }
,
{
		   "cell_type": "markdown",
		   "metadata": {},
		   "source": [
			"## Example 13.11: Theoretical_problem.sce"
		   ]
		  },
  {
"cell_type": "code",
	   "execution_count": null,
	   "metadata": {
	    "collapsed": true
	   },
	   "outputs": [],
"source": [
"//Chemical Engineering Thermodynamics\n",
"//Chapter 13\n",
"//Thermodynamics in Phase Equilibria\n",
"\n",
"//Example 13.11\n",
"clear;\n",
"clc;\n",
"\n",
"//Given\n",
"//The given example is a theoretical problem and does not involve any numerical computation\n",
"//end"
   ]
   }
,
{
		   "cell_type": "markdown",
		   "metadata": {},
		   "source": [
			"## Example 13.12: EX13_12.sce"
		   ]
		  },
  {
"cell_type": "code",
	   "execution_count": null,
	   "metadata": {
	    "collapsed": true
	   },
	   "outputs": [],
"source": [
"//Chemical Engineering Thermodynamics\n",
"//Chapter 13\n",
"//Thermodynamics in Phase Equilibria\n",
"\n",
"//Example 13.12\n",
"clear;\n",
"clc;\n",
"\n",
"//Given\n",
"x_A = [0 0.0435 0.0942 0.1711 0.2403 0.3380 0.5981];//mole fraction of acetic acid\n",
"p_A = [0 17.2 30.5 46.5 57.8 69.3 95.7];//partial pressure of acetic acid in mmHg\n",
"P_T1 = 202;//vapour pressure of toulene in mmHg\n",
"P_T2_ex = 167.3;//experimental partial pressure in mmmHg\n",
"\n",
"//To Calculate the partial pressure of toulene in the solution and check with the experimental value\n",
"//From the equation 13.95,\n",
"//ln(P_T2/P_T1) = -intg(x_A/((1-x_A)*p_A))\n",
"for i = 1:7\n",
"    if (p_A(i) ~= 0)\n",
"    x(i) = (x_A(i)/((1-x_A(i))*p_A(i)))*10^4\n",
"    end\n",
"end\n",
"plot(x,p_A);\n",
"xtitle(' ','(x_A/((1-x_A)*p_A))*10^4', 'p_A');\n",
"//Area of the graph drawn is\n",
"A = -0.138;\n",
"P_T2 = (%e^A)*P_T1;\n",
"e = ((P_T2-P_T2_ex)*100)/P_T2_ex;\n",
"mprintf('The partial pressure of toulene is %f mmHg',P_T2);\n",
"mprintf('\n This deviates %i percent from the reported value',e);\n",
"//end"
   ]
   }
,
{
		   "cell_type": "markdown",
		   "metadata": {},
		   "source": [
			"## Example 13.13: EX13_13.sce"
		   ]
		  },
  {
"cell_type": "code",
	   "execution_count": null,
	   "metadata": {
	    "collapsed": true
	   },
	   "outputs": [],
"source": [
"//Chemical Engineering Thermodynamics\n",
"//Chapter 13\n",
"//Thermodynamics in Phase Equilibria\n",
"\n",
"//Example 13.13\n",
"clear;\n",
"clc;\n",
"\n",
"//Given\n",
"P = 760;//pressure at maximum boiling azeotrope of A and B in mmHg\n",
"x_A = 0.6;//mole fraction of A in liquid phase\n",
"x_B = 0.4;//mole fraction of B in liquid phase\n",
"p_A = 600;//vapour pressure of A at 90 deg cel\n",
"p_B = 300;//vapour pressure of B at 90 deg cel\n",
"\n",
"//To Check whether the activity coefficient of the solution can be represented by the Margules equation\n",
"y_A = P/p_A;//Activity coefficient of A\n",
"y_B = P/p_B;//Activity coefficient of B\n",
"//From the Margules equation or equation (a) & (b)\n",
"U = [((x_B^2)-(2*(x_B^2)*x_A)) (2*(x_B^2)*x_A); (2*(x_A^2)*x_B) ((x_A^2)-(2*(x_A^2)*x_B))];\n",
"V = [log(y_A); log(y_B)];\n",
"W = U\V;\n",
"//Now the value of constants A and B in equations(a)&(b) are given as\n",
"A = W(1);\n",
"B = W(2);\n",
"//let us assume \n",
"x_A = [0.0 0.2 0.4 0.6 0.8 1.0];\n",
"x_B = [1.0 0.8 0.6 0.4 0.2 0.0];\n",
"//C = lny_A; D = lny_B; E = ln(y_A/y_B)\n",
"for i = 1:6\n",
"    C(i) = (x_B(i)^2)*(2*(B-A)*x_A(i)+A);\n",
"    D(i) = (x_A(i)^2)*(2*(A-B)*x_B(i)+B);\n",
"    E(i) = C(i)-D(i);\n",
"end\n",
"clf;\n",
"plot(x_A,E);\n",
"xtitle(' ','x_A','ln(y_A/y_B)');\n",
"a = get('current_axes');\n",
"set(a,'x_location','origin');\n",
"//Since the graph drawn is approximately symmetrical.Thus it satisfies the Redlich-Kister Test\n",
"mprintf('The actvity coefficients of the system can be represented by Margules equation');\n",
"//end\n",
""
   ]
   }
,
{
		   "cell_type": "markdown",
		   "metadata": {},
		   "source": [
			"## Example 13.14: To_Calculate_the_composition_of_the_vapour_evolved.sce"
		   ]
		  },
  {
"cell_type": "code",
	   "execution_count": null,
	   "metadata": {
	    "collapsed": true
	   },
	   "outputs": [],
"source": [
"//Chemical Engineering Thermodynamics\n",
"//Chapter 13\n",
"//Thermodynamics in Phase Equilibria\n",
"\n",
"//Example 13.14\n",
"clear;\n",
"clc;\n",
"\n",
"//Given\n",
"P = 760;//Total pressure of the mixture in mmHg\n",
"T = [80 90 95 100];//Temperature in deg celsius\n",
"P1 = [87.4 129.0 162.0 187.0];//vapour pressure of 1,1,2,2-tetrachloroethane in mmHg\n",
"P2 = [356 526 648 760];//Vapour pressure of water in mmHg\n",
"\n",
"//To Calculate the composition of the vapour evolved\n",
"clf;\n",
"plot2d(T,P1,style=3);\n",
"plot2d(T,P2,style=5);\n",
"xtitle(' ','Temp in deg cel','Vapour pressure in mmHg');\n",
"legend('1,1,2,2-tetrachloroethane','Water');\n",
"//From the graph we conclude that at 93.8 deg cel\n",
"P1 = 155;//in mm Hg\n",
"P2 = 605;//in mm Hg\n",
"y_1 = P1/P;\n",
"y_2 = P2/P;\n",
"mprintf('Mole fraction of 1,1,2,2-tetrachloroethane in vapour is %f',y_1);\n",
"mprintf('\n Mole fraction of water in vapour is %f',y_2);\n",
"//end"
   ]
   }
,
{
		   "cell_type": "markdown",
		   "metadata": {},
		   "source": [
			"## Example 13.15: To_plot_a_graph_between_temperature_and_vapour_phase_composition.sce"
		   ]
		  },
  {
"cell_type": "code",
	   "execution_count": null,
	   "metadata": {
	    "collapsed": true
	   },
	   "outputs": [],
"source": [
"//Chemical Engineering Thermodynamics\n",
"//Chapter 13\n",
"//Thermodynamics in Phase Equilibria\n",
"\n",
"//Example 13.15\n",
"clear;\n",
"clc;\n",
"\n",
"//Given\n",
"T = [146.2 142.3 126.1 115.9 95.0 98.0 100];//Temperature in deg cel\n",
"P1 = [760.0 685.0 450.3 313.0];//Vapour pressure of 1,1,2,2-tetrachloroethane at the coressponding temperature in mm Hg\n",
"P2_5 = 648.0;//Vapour pressure of water at 95 deg cel in mm Hg\n",
"P2_6 = 711.0;//Vapour pressure of water at 98 deg cel in mm Hg\n",
"P = 760;//Total pressure of mixture in mm Hg\n",
"\n",
"x1 = [0 0 0 0 0 0 0];\n",
"//To plot a graph between temperature and vapour phase composition\n",
"for i = 1:4\n",
"    x1(i) = P1(i)/P;//mole fraction of 1,1,2,2-tetrachloroethane\n",
"end\n",
"x2_5 = P2_5/P;//mole fraction of water at 95 deg cel\n",
"x2_6 = P2_6/P;//mole fraction of water at 98 deg cel\n",
"x1(5) = 1-x2_5;\n",
"x1(6) = 1-x2_6;\n",
"\n",
"clf;\n",
"plot(x1,T);\n",
"xtitle('','mole fraction of 1,1,2,2-tetrachloroethane','Temperature in deg cel');\n",
"mprintf('The required graph has been ploted in the graphic window');\n",
"//end"
   ]
   }
,
{
		   "cell_type": "markdown",
		   "metadata": {},
		   "source": [
			"## Example 13.16: EX13_16.sce"
		   ]
		  },
  {
"cell_type": "code",
	   "execution_count": null,
	   "metadata": {
	    "collapsed": true
	   },
	   "outputs": [],
"source": [
"//Chemical Engineering Thermodynamics\n",
"//Chapter 13\n",
"//Thermodynamics in Phase Equilibria\n",
"\n",
"//Example 13.16\n",
"clear;\n",
"clc;\n",
"\n",
"//Given\n",
"//B = -(1.203*10^10)*(T^2.7); second virial coefficient, T is in K\n",
"//log P = 6.95464-(1344.8/(219.482+t))...(a);Vapour pressure of toulene\n",
"t = 107.2;//Temperature in deg cel\n",
"T = t+273.16;//in K\n",
"H_ex = 7964;//experimental value of heat of vapourisation in Kcal/Kgmole\n",
"d = 800;//density of liquid toulene in Kg/cubic meter\n",
"R = 1.98;//gas constant in Kcal/Kgmole K\n",
"M = 92.14;//molecular weight of toulene\n",
"\n",
"//To Calculate the heat of vapourization of toulene by using ideal gas law, second virial coefficient but neglecting vl and including vl\n",
"//From equation (a), let K = dlogP/dT\n",
"K = 1344.8/(219.482+t)^2;\n",
"//(i)Using ideal gas behaviour\n",
"//From equation 13.112(page no 286)\n",
"H_c = (2.303*R*(T^2))*K;\n",
"mprintf('(i)The heat of vapourization  using ideal gas behaviour is %f Kcal/Kgmole',H_c);\n",
"D = ((H_c-H_ex)/H_c)*100;\n",
"mprintf('\n    The deviation is %f percent',D);\n",
"\n",
"//(ii)Using second virial coeff but neglecting vl\n",
"//From equation(a)\n",
"P = 10^(6.95464-1344.8/(219.482+t));//in mm Hg\n",
"P1 = P*1.033*10^4/760;//in Kgf/sq m\n",
"B = -((1.203*10^10)/(T^2.7))*10^-3;//in cubic meter/Kgmole\n",
"//From equation 13.111 (page no 286) neglecting vl,\n",
"l = (R*T)+((B*P1)/427);//in Kcal/Kgmole\n",
"H_c = K*2.303*T*l;\n",
"mprintf('\n\n(ii)The heat of vapourisation using second virial coefficient but neglecting vl is %f Kcal/Kgmole',H_c);\n",
"D = ((H_c-H_ex)/H_c)*100;\n",
"mprintf('\n    The deviation in this case is %f percent',D);\n",
"\n",
"//(iii)Using second virial coeff including vl\n",
"vl = M/d;//Liquid specific volume in cubic meter/Kgmole\n",
"n = P1*vl/427;//in Kcal/Kgmole\n",
"H_c = K*2.303*T*(l-n);\n",
"mprintf('\n\n(iii)The heat of vapourisation using second virial coefficient including vl is %f Kcal/Kgmole',H_c);\n",
"D = ((H_c-H_ex)/H_c)*100;\n",
"mprintf('\n     The deviation in this case is %f',D);\n",
"//end"
   ]
   }
,
{
		   "cell_type": "markdown",
		   "metadata": {},
		   "source": [
			"## Example 13.17: EX13_17.sce"
		   ]
		  },
  {
"cell_type": "code",
	   "execution_count": null,
	   "metadata": {
	    "collapsed": true
	   },
	   "outputs": [],
"source": [
"//Chemical Engineering Thermodynamics\n",
"//Chapter 13\n",
"//Thermodynamics in Phase Equilibria\n",
"\n",
"//Example 13.17\n",
"clear;\n",
"clc;\n",
"\n",
"//Given\n",
"H_ex = 539;//Heat of vapoization of water in Kcal/Kg\n",
"Tc = 647;//Critical temperature in K\n",
"Pc = 218;//Critical pressure in atm\n",
"Tb = 373;//Boiling point of water in K\n",
"t = 100;//temperature in deg cel\n",
"M = 18;//Molecular weight of water\n",
"P = 1;//pressure at boiling point in atm\n",
"P1 = 1.033*10^4;//pressure in Kgf/sq m\n",
"\n",
"//To Calculate the heat of vapourisation of water by Vishwanath and Kuloor method and by Riedel's method and compare with the experimental value\n",
"//(i) Using Vishwanath and Kuloor method\n",
"H_c = (4.7*Tc*((1-(P/Pc))^0.69)*log(P/Pc))/((1-(Tc/Tb))*18);\n",
"mprintf('(i)The heat of vapourisation of water using Vishwanath and Kuloor method is %f Kcal/Kg',H_c);\n",
"D = (H_c-H_ex)*100/H_c;\n",
"mprintf('\n    The deviation occurs using this method is %f percent',D);\n",
"\n",
"//(ii)Using Riedel's method\n",
"H_c = (Tb*2.17*(log(218)-1))/((0.93-(Tb/Tc))*18);\n",
"mprintf('\n\n(ii)The heat of vapourisation of water using Riedel method is %f Kcal/Kg',H_c);\n",
"D = (H_c-H_ex)*100/H_c;\n",
"mprintf('\n    The deviation occurs using this method is %f percent',D);\n",
"\n",
"//(iii)By using given vapour equation; logP = 8.2157-(2218.8537/(273.16+t)), t is in deg cel\n",
"//From steam table,\n",
"Vv = 1.673;//in cubic meter/Kg\n",
"Vl = 0.001;//in cubic meter/Kg\n",
"H_c = (2218.8/(273.16+t)^2)*(2.3*Tb*P1*(Vv-Vl)/427);\n",
"mprintf('\n\n(iii)The heat of vapourisation using the given vapour equation is %f Kcal/Kg',H_c);\n",
"D = (H_c-H_ex)*100/H_c;\n",
"mprintf('\n    The deviation occurs using this method is %f percent',D);\n",
"//end"
   ]
   }
,
{
		   "cell_type": "markdown",
		   "metadata": {},
		   "source": [
			"## Example 13.18: To_Calculate_the_latent_heat_of_saturated_ethane_at_0_deg_cel.sce"
		   ]
		  },
  {
"cell_type": "code",
	   "execution_count": null,
	   "metadata": {
	    "collapsed": true
	   },
	   "outputs": [],
"source": [
"//Chemical Engineering Thermodynamics\n",
"//Chapter 13\n",
"//Thermodynamics in Phase Equilibria\n",
"\n",
"//Example 13.18\n",
"clear;\n",
"clc;\n",
"\n",
"//Given\n",
"T1 = 273-87;//temp in K\n",
"T2 = 273;//temp in K\n",
"H1 = 115;//Latent heat of saturated ethane at 1 atm and -87 deg cel in Kcal/Kg\n",
"H2_ex = 72.44;//Experimental value of latent heat at 0 deg cel in Kcal/Kg\n",
"Tc = 306;//Critical temperature in K\n",
"M = 30;//Molecular weight of ethane\n",
"\n",
"//To Calculate the latent heat of saturated ethane at 0 deg cel\n",
"Tr1 = T1/Tc;//reduced temp in K\n",
"Tr2 = T2/Tc;//reduced temp in K\n",
"//(i)Using Waton's method:\n",
"H2_c = H1*((1-Tr2)/(1-Tr1))^0.38;\n",
"mprintf('(i)The latent heat of saturated ethane at 0 deg cel using Waton method is %f Kcal/Kg',H2_c);\n",
"D = (H2_ex-H2_c)*100/H2_ex;\n",
"mprintf('\n   The deviation occurs using this method is %f percent',D);\n",
"\n",
"//(ii)Using Vishwanath and Kuloor method\n",
"//From equation 13.117 (page no 289)\n",
"n = (0.00133*(H1*M/T1)+0.8794)^(1/0.1);\n",
"H2_c = H1*((1-Tr2)/(1-Tr1))^n;\n",
"mprintf('\n\n(ii)The latent heat of saturated ethane at 0 deg cel using Vishwanath and Kuloor method is %f Kcal/Kg',H2_c);\n",
"D = (H2_ex-H2_c)*100/H2_ex;\n",
"mprintf('\n   The deviation occurs using this method is %f percent',D);\n",
"//end"
   ]
   }
,
{
		   "cell_type": "markdown",
		   "metadata": {},
		   "source": [
			"## Example 13.19: EX13_19.sce"
		   ]
		  },
  {
"cell_type": "code",
	   "execution_count": null,
	   "metadata": {
	    "collapsed": true
	   },
	   "outputs": [],
"source": [
"//Chemical Engineering Thermodynamics\n",
"//Chapter 13\n",
"//Thermodynamics in Phase Equilibria\n",
"\n",
"//Example 13.19\n",
"clear;\n",
"clc;\n",
"\n",
"//Given\n",
"H_s_ex = 32.7;//experimental value of latent heat of the solution in KJ/mole\n",
"x1 = 0.536;//mole percent of toulene in the solution\n",
"x2 = 1-0.536;//mole percent of 1,1,1-trichloroethane in the solution\n",
"H1 = 33.34;//Latent heat of toulene in KJ/gmole\n",
"H2 = 29.72;//Latent heat of 1,1,1-trichloroethane in KJ/gmole\n",
"He = 0;//excess enthalpy is neglected\n",
"Cp1 = 39.55;//Specific heat of toulene in cal/gmole deg cel\n",
"Cp2 = 24.62;//Specific heat of 1,1,1-trichloroethane in cal/gmole deg cel\n",
"T_D = 100;//dew point temperature in deg cel\n",
"T_B = 92.6;//bubble point temperature in deg cel\n",
"\n",
"//To calculate the latent heat of the solution and compare it with the one which calculated from the given vapour pressure equation\n",
"//(i)Calculation of latent heat of the solution\n",
"//From equation 13.118 (page no 291)\n",
"H_s = H1*x1+H2*x2+He+(Cp1*x1+Cp2*x2)*10^-3*4.17*(T_D-T_B);\n",
"mprintf('(i)The latent heat of the solution is %f KJ/gmole',H_s);\n",
"D = ((H_s_ex-H_s)*100)/H_s_ex;\n",
"mprintf('\n    The deviation occurs using this method is %f percent',D);\n",
"\n",
"//(ii)Calculation of latent heat from the vapour pressure equation\n",
"//From equation (a) (page no 291)\n",
"K = 1657.599/((273.16+5)^2);\n",
"H_s = (K*2.303*8.314*(273.16+5)^2)*10^-3;\n",
"mprintf('\n\n(ii)The latent heat of the solution is %f KJ/gmole',H_s);\n",
"D = ((H_s_ex-H_s)*100)/H_s_ex;\n",
"mprintf('\n    The deviation occurs using this method is %f percent',D);\n",
"//end"
   ]
   }
,
{
		   "cell_type": "markdown",
		   "metadata": {},
		   "source": [
			"## Example 13.1: To_Calculate_the_fugacity_of_N2_at_373K_and_100_atm.sce"
		   ]
		  },
  {
"cell_type": "code",
	   "execution_count": null,
	   "metadata": {
	    "collapsed": true
	   },
	   "outputs": [],
"source": [
"//Chemical Engineering Thermodynamics\n",
"//Chapter 13\n",
"//Thermodynamics in Phase Equilibria\n",
"\n",
"//Example 13.1\n",
"clear;\n",
"clc;\n",
"\n",
"//Given\n",
"//N2 obeys the relation : Z = 1+(2.11*10^-4*P)\n",
"Tc = 126;//Critical temperature in K\n",
"Pc = 33.5;//Critical pressure in atm\n",
"T = 373;//in K\n",
"P = 100;//in atm\n",
"\n",
"//To Calculate the fugacity of N2 at 373K and 100 atm\n",
"//(i)Using the Z relation given above\n",
"//From equation 13.12 (page no 239)\n",
"phi = %e^(2.11*10^-4*(P-0));//fugacity coefficient\n",
"f = phi*P;\n",
"mprintf('(i)The fugacity of N2 using the given Z relation is %f atm',f);\n",
"\n",
"//(ii)Using the fugacity chart given in figure A.2.9\n",
"Pr = P/Pc;//Reduced pressure in atm\n",
"Tr = T/Tc;//Reduced temperature in K\n",
"//From figure A.2.9,\n",
"phi = 1.04\n",
"f = phi*P;\n",
"mprintf('\n (ii)The fugacity of N2 using the fugacity chart is %f atm',f);\n",
"//end"
   ]
   }
,
{
		   "cell_type": "markdown",
		   "metadata": {},
		   "source": [
			"## Example 13.2: To_Calculate_the_fugacity_of_liquid_water.sce"
		   ]
		  },
  {
"cell_type": "code",
	   "execution_count": null,
	   "metadata": {
	    "collapsed": true
	   },
	   "outputs": [],
"source": [
"//Chemical Engineering Thermodynamics\n",
"//Chapter 13\n",
"//Thermodynamics in Phase Equilibria\n",
"\n",
"//Example 13.2\n",
"clear;\n",
"clc;\n",
"\n",
"//Given\n",
"P1 = 50*1.03*10^4;//Initial pressure in Kgf/sq m\n",
"T = 373;//Temperature in K\n",
"P2 = 1.03*10^4;//Final pressure in Kgf/sq m\n",
"V = 0.001*18;//Volume in cubic meter\n",
"R = 848;//gas constant in m Kgf/Kgmole K\n",
"\n",
"//To Calculate the fugacity of liquid water\n",
"//From equation 13.13(page no 240)\n",
"del_u = (V/(R*T))*(P2-P1);//del_u = ln(f2/f1); Change in chemical potential\n",
"f1 = P2;//in Kgf/sq m\n",
"f2 = f1*(%e^del_u);\n",
"mprintf('The fugacity of the liquid water at 50 atm is %4.2e Kgf/sq m',f2);\n",
"//end"
   ]
   }
,
{
		   "cell_type": "markdown",
		   "metadata": {},
		   "source": [
			"## Example 13.3: To_Calculate_the_bubble_point_pressure_of_the_solution.sce"
		   ]
		  },
  {
"cell_type": "code",
	   "execution_count": null,
	   "metadata": {
	    "collapsed": true
	   },
	   "outputs": [],
"source": [
"//Chemical Engineering Thermodynamics\n",
"//Chapter 13\n",
"//Thermodynamics in Phase Equilibria\n",
"\n",
"//Example 13.3\n",
"clear;\n",
"clc;\n",
"\n",
"//Given\n",
"x1 = 0.1;//mole fraction of methane\n",
"x2 = 0.9;//mole fraction of propane\n",
"P = [28.1 31.6 35.1];//Pressure in Kgf/sq cm are\n",
"K1 = [5.8 5.10 4.36];//Vapourisation constants of methane at the corresponding presssures\n",
"K2 = [0.61 0.58 0.56];//Vapourisation constants of propane at the correspondig pressures\n",
"\n",
"//To Calculate the bubble point pressure of the solution\n",
"//From equation 13.27 (page no 245)\n",
"for i = 1:3\n",
"    y1(i) = K1(i)*x1;//mole fraction of methane in the vapour phase\n",
"    y2(i)= K2(i)*x2;//mole fraction of propane in the vapour phase\n",
"    y(i) = y1(i)+y2(i);//sum of the mole fraction in the vapour phase\n",
"end\n",
"plot(P,y);\n",
"xtitle('y vs pressure','P','y');\n",
"P1 = interpln([y';P],1);// in Kgf/sq cm\n",
"mprintf('The bubble point pressure of the solution is %f Kgf/sq cm',P1);\n",
"//end"
   ]
   }
,
{
		   "cell_type": "markdown",
		   "metadata": {},
		   "source": [
			"## Example 13.4: To_Calculate_the_equilibrium_data_and_compare_with_the_experimental_values.sce"
		   ]
		  },
  {
"cell_type": "code",
	   "execution_count": null,
	   "metadata": {
	    "collapsed": true
	   },
	   "outputs": [],
"source": [
"//Chemical Engineering Thermodynamics\n",
"//Chapter 13\n",
"//Thermodynamics in Phase Equilibria\n",
"\n",
"//Example 13.4\n",
"clear;\n",
"clc;\n",
"\n",
"//Given\n",
"T = [80.6 79.0 77.3 61.4];//Various temperature in deg cel\n",
"x1 = [0.0 15.0 29.0 100.0];//mole fraction of CHCl3 in liquid phase\n",
"y1 = [0.0 20.0 40.0 100.0];//mole fraction of CHCl3 in vapour phase\n",
"P1 = [1370 1310 1230 700];//Vapour pressure of CHCl3 in mm Hg\n",
"P = 760;//Total pressure in mm Hg\n",
"\n",
"//To Calculate the equilibrium data i.e y/x and compare with the experimental values\n",
"//From equation 13.27 (page no 245);K = y1/x1 = Pi/P\n",
"mprintf('Temperature    Experimental   Calculated');\n",
"\n",
"for i = 1:4\n",
"    mprintf('\n %f',T(i));\n",
"    if x1(i) == 0 \n",
"        mprintf('     Not defined');\n",
"        else\n",
" K_ex(i) = y1(i)/x1(i);\n",
"mprintf('        %f',K_ex(i));\n",
" end\n",
"K_c(i) = P1(i)/P;\n",
"mprintf('      %f',K_c(i));\n",
"end\n",
"\n",
"if K_ex(i) == K_c(i) \n",
"    then mprintf('\n\n The liquid solution is perfect');\n",
"else\n",
"    mprintf('\n\n The liquid solution is imperfect');\n",
"end\n",
"//end"
   ]
   }
,
{
		   "cell_type": "markdown",
		   "metadata": {},
		   "source": [
			"## Example 13.5: Theoretical_problem.sce"
		   ]
		  },
  {
"cell_type": "code",
	   "execution_count": null,
	   "metadata": {
	    "collapsed": true
	   },
	   "outputs": [],
"source": [
"//Chemical Engineering Thermodynamics\n",
"//Chapter 13\n",
"//Thermodynamics in Phase Equilibria\n",
"\n",
"//Example 13.5\n",
"clear;\n",
"clc;\n",
"\n",
"//Given\n",
"//The given example is a theoretical problem and does not contain any numerical computation\n",
"//end"
   ]
   }
,
{
		   "cell_type": "markdown",
		   "metadata": {},
		   "source": [
			"## Example 13.6: To_Calculate_the_volume_of_10_percent_dichloromethane_solution.sce"
		   ]
		  },
  {
"cell_type": "code",
	   "execution_count": null,
	   "metadata": {
	    "collapsed": true
	   },
	   "outputs": [],
"source": [
"//Chemical Engineering Thermodynamics\n",
"//Chapter 13\n",
"//Thermodynamics in Phase Equilibria\n",
"\n",
"//Example 13.6\n",
"clear;\n",
"clc;\n",
"\n",
"//Given\n",
"x1 = 0.1;//Mole fraction of dichloromethane (CCl2H2)\n",
"x2 = 0.9;//Mole fraction of methyl acetate (C3H6O2)\n",
"M1 = 85;//Molecular weight of CCl2H2\n",
"M2 = 74;//Molecular weight of C3H602\n",
"D1 = 1.3163;//Density of CCl2H2 in gm/cc\n",
"D2 = 0.9279;//Density of C3H6O2 in gm/cc\n",
"\n",
"//To Calculate the volume of 10% dichloromethane solution\n",
"V1 = M1/D1;//Specific volume of pure CCL2H2 in cc/gmole\n",
"V2 = M2/D2;//Specific volume of C3H6O2 in cc/gmole\n",
"//From equation 13.62(page no 256)& 13.78 (page no 257)\n",
"V_e = x1*x2*(1.2672-0.771*x1);//excess volume in cc/gmole\n",
"V = V1*x1+V2*x2+V_e;\n",
"mprintf('The volume of 10 percent dichloromethane is %f cc/gmole',V);\n",
"//end"
   ]
   }
,
{
		   "cell_type": "markdown",
		   "metadata": {},
		   "source": [
			"## Example 13.7: EX13_7.sce"
		   ]
		  },
  {
"cell_type": "code",
	   "execution_count": null,
	   "metadata": {
	    "collapsed": true
	   },
	   "outputs": [],
"source": [
"//Chemical Engineering Thermodynamics\n",
"//Chapter 13\n",
"//Thermodynamics in Phase Equilibria\n",
"\n",
"//Example 13.7\n",
"clear;\n",
"clc;\n",
"\n",
"//Given\n",
"x_T = 0.957;//mole fraction of Toluene\n",
"x_D = 0.043;//mole fraction of 1,2-dichloroethane\n",
"t = [90; 100; 110];//temperature in deg cel\n",
"R = 1.98;//gas constant in Kcal/Kgmole K\n",
"\n",
"//To Calculate the vapour pressure of the solution, bubble point at 686 mm Hg and the vapour composition at equilibrium,\n",
"//compare the experimental value of 91.2% toluene in vapour with the calculated value & calculate the free energy of mixing\n",
"//(1)Calculation of vapour pressure\n",
"mprintf('(1)Temp(deg cel)    P_T(mmHg)          P_D(mmHg)           P_s(mmHg)');\n",
"for i = 1:3\n",
"    P_T(i) = 10^(6.95464-(1344.8/(219.482+t(i))));//Given as equation(a)(page no 260)\n",
"    P_D(i) = 10^(7.03993-(1274.079/(223+t(i))));//Given as equation(b)(page no 260)\n",
"    P_s(i) = x_T*P_T(i)+x_D*P_D(i);//pressure of the solution in mm Hg\n",
"    mprintf('\n   %f',t(i));\n",
"    mprintf('          %f',P_T(i));\n",
"    mprintf('        %f',P_D(i));\n",
"    mprintf('         %f',P_s(i));\n",
"end \n",
"\n",
"//(2)Calculation of bubble point and comparison of values\n",
"clf;\n",
"plot(t,P_s);\n",
"xtitle('t vs P_s','t','P_s');\n",
"T = interpln([P_s';t'],686);\n",
"P = 686;//pressure of solution in mm Hg\n",
"y_T_e = 0.912;//experimental value of mole fraction of toluene\n",
"//From the graph we found that the temperature at P = 686 mm Hg is\n",
"//t = 105.3;//in deg cel\n",
"mprintf('\n\n(2)The bubble point is %f deg cel',T);\n",
"//From equation (a)(page no 260)\n",
"P_T = 10^(6.95464-(1344.8/(219.482+T)));//vapour pressure of Toluene in mmHg\n",
"//From equation 13.27 (page no 245)\n",
"y_T_c = (x_T*P_T)/P;\n",
"y_D_c = 1-y_T_c;\n",
"mprintf('\n  The vapour composition of toluene is %f',y_T_c);\n",
"mprintf('\n  The vapour composition of 1,2-dichloroethane is %f',y_D_c);\n",
"e = ((y_T_e-y_T_c)/y_T_e)*100;\n",
"mprintf('\n The percentage error is %f percent',e);\n",
"\n",
"//(3)Calculation of free energy\n",
"del_F = R*(T+273)*((x_T*log(x_T))+(x_D*log(x_D)));\n",
"mprintf('\n\n(3)The free energy of mixing is %f Kcal/Kgmole',del_F);\n",
"//end"
   ]
   }
,
{
		   "cell_type": "markdown",
		   "metadata": {},
		   "source": [
			"## Example 13.8: To_Calculate_the_heating_load_required_for_the_process.sce"
		   ]
		  },
  {
"cell_type": "code",
	   "execution_count": null,
	   "metadata": {
	    "collapsed": true
	   },
	   "outputs": [],
"source": [
"//Chemical Engineering Thermodynamics\n",
"//Chapter 13\n",
"//Thermodynamics in Phase Equilibria\n",
"\n",
"//Example 13.8\n",
"clear;\n",
"clc;\n",
"\n",
"//Given\n",
"//Consider the diagram shown in page no 263\n",
"w1 = 100;//weight of LiBr entered as feed in the evaporator per hour in Kg\n",
"x1 = 0.45;//weight  fraction of LiBr entered as feed\n",
"x2 = 0;//weight fraction of steam in the LiBr soln\n",
"x3 = 0.65;//weight fraction of LiBr formed as product\n",
"H1 = -39;//Enthalpy of 45% solution at 25 deg cel in Kcal/Kg\n",
"H3 = -4.15;//Enthalpy of 65% solution at 114.4 deg cel in Kcal/Kg\n",
"H2 = 649;//Enthalpy of superheated steam at 100 mmHg and 114.4 deg cel in Kcal/Kg\n",
"\n",
"//To Calculate the heating load required for the process\n",
"//According to material balance\n",
"w3 = (w1*x1)/x3;//weight of LiBr solution formed after evaporation per hour in Kg\n",
"w2 = w1-w3;// weight of steam formed in Kg/hr\n",
"//According to energy balance\n",
"Q = (w2*H2)+(w3*H3)-(w1*H1);\n",
"mprintf('The heat that has to be supplied for this concentration process is %f Kcal/hr',Q);\n",
"//end"
   ]
   }
,
{
		   "cell_type": "markdown",
		   "metadata": {},
		   "source": [
			"## Example 13.9: Theoretical_problem.sce"
		   ]
		  },
  {
"cell_type": "code",
	   "execution_count": null,
	   "metadata": {
	    "collapsed": true
	   },
	   "outputs": [],
"source": [
"//Chemical Engineering Thermodynamics\n",
"//Chapter 13\n",
"//Thermodynamics in Phase Equilibria\n",
"\n",
"//Example 13.9\n",
"clear;\n",
"clc;\n",
"\n",
"//Given\n",
"// In the given example, all the values were determined from the graph given as figure 13.9 and it does not involve any numerical computation\n",
"//end"
   ]
   }
],
"metadata": {
		  "kernelspec": {
		   "display_name": "Scilab",
		   "language": "scilab",
		   "name": "scilab"
		  },
		  "language_info": {
		   "file_extension": ".sce",
		   "help_links": [
			{
			 "text": "MetaKernel Magics",
			 "url": "https://github.com/calysto/metakernel/blob/master/metakernel/magics/README.md"
			}
		   ],
		   "mimetype": "text/x-octave",
		   "name": "scilab",
		   "version": "0.7.1"
		  }
		 },
		 "nbformat": 4,
		 "nbformat_minor": 0
}
