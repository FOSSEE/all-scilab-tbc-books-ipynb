{
"cells": [
 {
		   "cell_type": "markdown",
	   "metadata": {},
	   "source": [
       "# Chapter 2: P V T Relations"
	   ]
	},
{
		   "cell_type": "markdown",
		   "metadata": {},
		   "source": [
			"## Example 2.10: EX2_10.sce"
		   ]
		  },
  {
"cell_type": "code",
	   "execution_count": null,
	   "metadata": {
	    "collapsed": true
	   },
	   "outputs": [],
"source": [
"//Chemical Engineering Thermodynamics\n",
"//Chapter 2\n",
"//P-V-T Relations\n",
"\n",
"//Example 2.10\n",
"clear;\n",
"clc;\n",
"\n",
"//Given\n",
"yN2 = 1/4;//mole faction of N2 in the mixture\n",
"yH2 = 3/4;//mole fraction of H2 in the mixture\n",
"V = 5.7;//V is the rate at which mixture enters in m^3 in 1 hour\n",
"P = 600;//P is in atm\n",
"T = 298;//T is in K\n",
"TcN2 = 126;//critical temp of N2 in K\n",
"TcH2 = 33.3;//critical temp of H2 in K\n",
"TcNh3 = 406.0;//critical temp of NH3 in K\n",
"PcN2 = 33.5;//critical pressure of N2 in atm\n",
"PcH2 = 12.8;//critical pressure of H2 in atm\n",
"PcNH3 = 111.0;//critical pressure of NH3 in atm\n",
"R = 0.082;//gas constant\n",
"\n",
"//To calculate the amount of ammonia leaving the reactor and the velocity of gaseous product leaving the reactor\n",
"//(i)Calculation of amount of NH3 leaving the reactor\n",
"Tcm = (TcN2*yN2)+(TcH2*yH2);//critical temperature of the mixture\n",
"Pcm = (PcN2*yN2)+(PcH2*yH2);//critical pressure of the mixture\n",
"Trm = T/Tcm;\n",
"Prm = P/Pcm;\n",
"//From figure A.2.3\n",
"Zm = 1.57;//compressibility factor of the mixture\n",
"N = (P*V)/(Zm*R*T);//Kg mole of the mixture \n",
"N1 = 0.25*N;//Kg mole of N2 in feed\n",
"//N2+3H2 - 2NH3\n",
"W = 2*0.15*N1*17;\n",
"mprintf('(i)Ammonia formed per hour is %f Kg',W);\n",
"\n",
"//(ii)Calculation of velocity\n",
"N1 = 0.25*N-(0.25*N*0.15);//Kg mole of N2 after reactor\n",
"N2 = 0.75*N-(0.75*N*0.15);//Kg mole of H2 after reactor\n",
"N3 = 0.25*N*2*0.15;//Kg mole of NH3 after reactor\n",
"Nt = N1+N2+N3;//total Kg moles after reactor\n",
"y1NH3 = N3/Nt;//mole fraction of NH3 after reactor\n",
"y1N2 = N1/Nt;//mole fraction of N2 after reactor\n",
"y1H2 = N2/Nt;//mole fraction of H2 after reactor\n",
"T1cm = (TcN2*y1N2)+(TcH2*y1H2);\n",
"P1cm = (PcN2*y1N2)+(PcH2*y1H2);\n",
"T1 = 448;//in K\n",
"P1 = 550;//in atm\n",
"T1rm = T1/T1cm;\n",
"P1rm = P1/P1cm;\n",
"//From Figure A.2.2\n",
"Zm1 = 1.38;\n",
"V1 = (Zm1*Nt*R*T1)/P1;\n",
"d = 5*(10^-2);//diameter of pipe\n",
"v = V1/((%pi/4)*(d^2)*3600);\n",
"mprintf('\n (ii)Velocity in pipe is %f m/sec',v);\n",
"//end"
   ]
   }
,
{
		   "cell_type": "markdown",
		   "metadata": {},
		   "source": [
			"## Example 2.1: To_determine_the_temperature_required.sce"
		   ]
		  },
  {
"cell_type": "code",
	   "execution_count": null,
	   "metadata": {
	    "collapsed": true
	   },
	   "outputs": [],
"source": [
"//Chemical Engineering Thermodynamics\n",
"//Chapter 2\n",
"//P-V-T Relations\n",
"\n",
"//Example 2.1\n",
"clear;\n",
"clc;\n",
"\n",
"//Given\n",
"m = 140;//m is the mass of N2 in Kg\n",
"P = 4.052*(10^5);//P is the pressure of the system in Pa\n",
"V = 30;//V is the volume of the system in m^3\n",
"R = 8314.4;// R is the gas constant\n",
"\n",
"//To determine temperature required\n",
"T = P*V/((m/28)*R);//T is the temperature of the system in K\n",
"mprintf('Temperature of the system is %f K',T);\n",
"//end"
   ]
   }
,
{
		   "cell_type": "markdown",
		   "metadata": {},
		   "source": [
			"## Example 2.2: Theoretical_problem.sce"
		   ]
		  },
  {
"cell_type": "code",
	   "execution_count": null,
	   "metadata": {
	    "collapsed": true
	   },
	   "outputs": [],
"source": [
"//Chemical Engineering Thermodynamics\n",
"//Chapter 2\n",
"//P-V-T Relations\n",
"\n",
"//Example 2.2\n",
"clear;\n",
"clc;\n",
"\n",
"//Given\n",
"//This example is a theoretical problem and does not involve any numerical computation\n",
"//end"
   ]
   }
,
{
		   "cell_type": "markdown",
		   "metadata": {},
		   "source": [
			"## Example 2.3: Theoretical_problem.sce"
		   ]
		  },
  {
"cell_type": "code",
	   "execution_count": null,
	   "metadata": {
	    "collapsed": true
	   },
	   "outputs": [],
"source": [
"//Chemical Engineering Thermodynamics\n",
"//Chapter 2\n",
"//P-V-T Relations\n",
"\n",
"//Example 2.3\n",
"clear;\n",
"clc;\n",
"\n",
"//Given\n",
"//This example is a theoretical problem and does not involve any numerical computation\n",
"//end"
   ]
   }
,
{
		   "cell_type": "markdown",
		   "metadata": {},
		   "source": [
			"## Example 2.4: Theoretical_problem.sce"
		   ]
		  },
  {
"cell_type": "code",
	   "execution_count": null,
	   "metadata": {
	    "collapsed": true
	   },
	   "outputs": [],
"source": [
"//Chemical Engineering Thermodynamics\n",
"//Chapter 2\n",
"//P-V-T Relations\n",
"\n",
"//Example 2.4\n",
"clear;\n",
"clc;\n",
"\n",
"//Given\n",
"//This example is a theoretical problem and does not involve any numerical computation\n",
"//end"
   ]
   }
,
{
		   "cell_type": "markdown",
		   "metadata": {},
		   "source": [
			"## Example 2.5: To_calculate_the_volume_of_Methane.sce"
		   ]
		  },
  {
"cell_type": "code",
	   "execution_count": null,
	   "metadata": {
	    "collapsed": true
	   },
	   "outputs": [],
"source": [
"//Chemical Engineering Thermodynamics\n",
"//Chapter 2\n",
"//P-V-T Relations\n",
"\n",
"//Example 2.5\n",
"clear;\n",
"clc;\n",
"\n",
"//Given\n",
"n = 1;//n is Kg moles of methane\n",
"T = 423;//T is the temperatue of the system in kelvin\n",
"P = 100;//P is the pressure of the system in atm\n",
"Tc = 191;//Tc is the critical temperature of the system in K\n",
"Pc = 45.8;//Pc is the critical pressure of the system in atm\n",
"R = 0.08206;//R is the gas constant in (m^3 atm/Kg mole K)\n",
"\n",
"//To calculate the volume of methane\n",
"//(i)Using ideal gas equation\n",
"V1 = (n*R*T)/P;//V1 is the volume of the gas in m^3\n",
"mprintf('(i)Volume of the gas using ideal gas equation is %f cubic meter',V1);\n",
"\n",
"//(ii)Using Vander Waals' equation\n",
"a = (27*(R^2)*(Tc^2))/(64*Pc);//Vander Waais constant\n",
"b = (R*Tc)/(8*Pc);//Vander Waais constant\n",
"v = poly(0, 'v');\n",
"q = -((a*b)/P)+(a/P)*v-(((R*T)+(b*P))/P)*v^2+(v^3);//According to Vander Waals equation\n",
"r = roots(q);\n",
"mprintf('\n (ii)Volume of the gas using Vander Waals equation is %f cubic meter',r(1));\n",
"\n",
"//(iii)Using generalized Z chart\n",
"Tr = T/Tc;//Tr is the reduced temperatue\n",
"Pr = P/Pc;//Pr is the reduced pressure\n",
"//From the figure A.2.2,\n",
"Z = 0.97;//Z is the compressibility factor\n",
"V = (Z*R*T)/P;\n",
"mprintf('\n (iii)Volume of the gas using Z chart is %f cubic meter',V);\n",
"\n",
"//(iv)Using molar polarisation method\n",
"//From Table 2.2\n",
"Pmc = 6.82;//Pmc is the molar polarisation for methane\n",
"//From figure A.2.4\n",
"Z0 = .965;\n",
"Z1 = 14.8*(10^-4);\n",
"Z = Z0+(Z1*Pmc);\n",
"V = (Z*R*T)/P;\n",
"mprintf('\n (iv)Volume of the gas using molar polarisation method is %f cubic meter',V);\n",
"\n",
"//(v)From experiment\n",
"//Given\n",
"Z = 0.9848;\n",
"V = (0.9848*n*R*T)/P;\n",
"mprintf('\n (v)Volume of the gas calculated by experimental Z value is %f cubic meter',V);\n",
"//end"
   ]
   }
,
{
		   "cell_type": "markdown",
		   "metadata": {},
		   "source": [
			"## Example 2.6: To_calculate_the_final_pressure_acheived.sce"
		   ]
		  },
  {
"cell_type": "code",
	   "execution_count": null,
	   "metadata": {
	    "collapsed": true
	   },
	   "outputs": [],
"source": [
"//Chemical Engineering Thermodynamics\n",
"//Chapter 2\n",
"//P-V-T Relations\n",
"\n",
"//Example 2.6\n",
"clear;\n",
"clc;\n",
"\n",
"//Given\n",
"P1 = 266;\n",
"T1 = 473.16;//Initial temperature in Kelvin\n",
"T2 = 273.16;//Final temperature in Kelvin\n",
"V1 = 80; V2 = 80;//Initial & final volume in litres\n",
"N1 = (14.28/28); N2 = (14.28/28);//Initial and final Kg moles are equal\n",
"Tc = 126;//Critical temperature of N2 in K\n",
"Pc = 33.5;//Critical pressure of N2 in atm\n",
"\n",
"//To calculate the final pressure achieved\n",
"//(i)Using ideal gas law\n",
"p2 = (P1*V1*N2*T2)/(V2*N1*T1);\n",
"mprintf('(i)Final pressure of N2  using ideal gas law is %f atm',p2);\n",
"\n",
"//(ii)Using generalized Z chart\n",
"Tr1 = T1/Tc;//reduced initial temp in k\n",
"Pr1 = P1/Pc;//reduced initial press in K\n",
"//From the Z-chart compressibility factor coressponding to the above Tr1 &Pr1 is\n",
"Z1 = 1.07;\n",
"P2 = [125,135,150];\n",
"Z2 = [0.95, 0.96, 0.98];\n",
"F = [0,0,0];\n",
"for i = 1:3\n",
"    F(i) = (P2(i)/(Z2(i)*T2))-(P1/(Z1*T1));\n",
"end\n",
"clf;\n",
"plot(P2,F);\n",
"xtitle('P2 vs F','P2','F');\n",
"P3 = interpln([F;P2],0);\n",
"mprintf('\n (ii)Final pressure of N2 from Z chart is %f atm',P3);\n",
"\n",
"//(iii)Using Pseudo reduced density chart\n",
"R = 0.082;//gas constant\n",
"v = V1/N1;//Volume per moles of nitrogen in m^3/Kg mole\n",
"Dr = (R*Tc)/(Pc*v);\n",
"Tr2 = T2/Tc;//final reduced temp in K\n",
"//From figure A.2.1, reduced pressure coressponding to this Dr and Tr2 is\n",
"Pr2 = 4.1//final reduced pressure in atm\n",
"p2_ = Pr2*Pc;\n",
"mprintf('\n (iii)Final pressure achieved using Dr chart is %f atm',p2_);\n",
"//end"
   ]
   }
,
{
		   "cell_type": "markdown",
		   "metadata": {},
		   "source": [
			"## Example 2.7: To_compute_the_work_required.sce"
		   ]
		  },
  {
"cell_type": "code",
	   "execution_count": null,
	   "metadata": {
	    "collapsed": true
	   },
	   "outputs": [],
"source": [
"//Chemical Engineering Thermodynamics\n",
"//Chapter 2\n",
"//P-V-T Relations\n",
"\n",
"//Example 2.7\n",
"clear;\n",
"clc;\n",
"\n",
"//Given\n",
"n = 1;//n is the Kg mole of methane gas\n",
"T = 298;//T is the constant temperature in K\n",
"P1 = 1;//P1 is the initial pressure of the system\n",
"P2 = 100;//P2 is the final pressure of the system\n",
"R = 8314.4;//R is the gas constant in Nm/Kgmole deg K\n",
"\n",
"//To compute the work required\n",
"//(i)Using ideal gas law\n",
"W = R*T*log(P1/P2);\n",
"mprintf('(i)Work done by the system if the gas obeys ideal gas law is %4.2e Nm',W);\n",
"\n",
"//(ii)Using Vander Waals' equation\n",
"//Given\n",
"//For methane\n",
"a = 2.32*(10^5);//Vander Wals' constant a in N/m^2\n",
"b = 0.0428;//Vanderwaals' constant b in m^3\n",
"//V1 and V2 are evaluated by trial and error using Vanderwaals' equation as P1 and P2 are known\n",
"V1 = 11.1;//initial volume of the gas in m^3\n",
"V2 = 0.089;//final volume of the gas in m^3\n",
"W = (R*T*log((V2-b)/(V1-b)))+(a*((1/V2)-(1/V1)))\n",
"mprintf('\n (ii)Work done by the system if the gas obeys Vander Waals equation is %4.2e Nm',W);\n",
"//end"
   ]
   }
,
{
		   "cell_type": "markdown",
		   "metadata": {},
		   "source": [
			"## Example 2.8: To_determine_the_vapour_pressure_of_Chlorine.sce"
		   ]
		  },
  {
"cell_type": "code",
	   "execution_count": null,
	   "metadata": {
	    "collapsed": true
	   },
	   "outputs": [],
"source": [
"//Chemical Engineering Thermodynamics\n",
"//Chapter 2\n",
"//P-V-T Relations\n",
"\n",
"//Example 2.8\n",
"clear;\n",
"clc;\n",
"\n",
"//Given\n",
"V = 27*(10^-3);//Volume of the container in m^3\n",
"n = (15/70.91);//n is the Kg moles of chlorine\n",
"T = 293;//T is the temperature in K\n",
"R = 0.08206;\n",
"P = 10^(4.39-(1045/293));//P is the vapour pressure of chlorine\n",
"Pc = 76.1;//Critical pressure of Chlorine\n",
"Tc = 417;//Critical temperature of Chlorine \n",
"Pr = P/Pc;//Reduced pressure of Chlorine\n",
"Tr = T/Tc;//Critical temperature of Chlorine\n",
"M = 70.91;//Molecular weight of the Chlorine\n",
"\n",
"//To determine the vapour pressure of chlorine, amount of liquid Cl2 and temperature required\n",
"//(i)Specific volume of liquid Chlorine\n",
"//From figure A.2.2\n",
"Zg = 0.93;\n",
"//From figure A.2.6\n",
"Zl = 0.013;\n",
"vl = ((Zl*R*T)/P);\n",
"mprintf('(i)Specific volume of liquid Chlorine from compressibility chart is %f cubic meter /Kgmole',vl);\n",
"\n",
"//From Francis relation, taking the constants from Table 2.3\n",
"D = (1.606-(216*(10^-5)*20)-(28/(200-20)))*10^3;//Density of liq Cl2 in Kg/m^3\n",
"Vl = M/D;\n",
"mprintf('\n   Specific volume of liquid Chlorine from Francis relation is %f cubic meter /Kgmole',Vl);\n",
"\n",
"//(ii)Amount of liquid Cl2 present in the cylinder\n",
"vg = ((Zg*R*T)/P);\n",
"V1 = V-vg;//V1 is the volume of liquid Chlorine\n",
"Vct = 0.027;//volume of the container\n",
"Vg = (0.212-(Vct/vl))/((1/vg)-(1/vl));//By material balance\n",
"W = ((V-Vg)*70.9)/vl;\n",
"mprintf('\n\n (ii)Weight of Chlorine at 20deg cel is %f Kg',W);\n",
"\n",
"//(iii)Calculation of temperature required to evaporate all the liquid chlorine\n",
"//log P' = 4.39 - 1045/T (given)\n",
"//Assume the various temperature\n",
"Ng = 0.212;//total Kg moles of gas\n",
"Ta = [413 415 417];\n",
"N = [0,0,0];\n",
"for i = 1:3\n",
"    Tr(i) = Ta(i)/Tc;//reduced temperature in K\n",
"    P(i) = 10^(4.39-(1045/Ta(i)));\n",
"    Pr(i) = P(i)/Pc;//reduced pressure in K\n",
"//From the compressibility factor chart,Z values coressponding to the above Tr &Pr are given as\n",
"Z = [0.4 0.328 0.208];\n",
"N(i) = (P(i)*Vct)/(Z(i)*R*Ta(i));\n",
"end\n",
"\n",
"clf;\n",
"plot(N,Ta);\n",
"xtitle('Ta vs N','N','Ta');\n",
"T1 = interpln([N;Ta],0.212);//in K\n",
"mprintf('\n (iii)The temperature required to evaporate all the liquid chlorine is %f deg celsius',T1-273);\n",
"//end"
   ]
   }
,
{
		   "cell_type": "markdown",
		   "metadata": {},
		   "source": [
			"## Example 2.9: To_calculate_the_pressure_exerted_by_the_gas_mixture.sce"
		   ]
		  },
  {
"cell_type": "code",
	   "execution_count": null,
	   "metadata": {
	    "collapsed": true
	   },
	   "outputs": [],
"source": [
"//Chemical Engineering Thermodynamics\n",
"//Chapter 2\n",
"//P-V-T Relations\n",
"\n",
"//Example 2.9\n",
"clear;\n",
"clc;\n",
"\n",
"//Given\n",
"N1 = 0.7;//Kg mole of CH4\n",
"N2 = 0.3;//Kg mole of N2\n",
"R = 0.08206;//Gas constant\n",
"T = 323;//Temperature in Kelvin\n",
"V = 0.04;//Volume in m^3\n",
"a1 = 2.280; b1 = 0.0428;//Vanderwaals constants for CH4\n",
"a2 = 1.345;b2 = 0.0386;//Vanderwaals constants for N2\n",
"Tc1 = 191; Pc1 = 45.8;//Critical temperature in K and pressure of CH4 in atm\n",
"Tc2 = 126;Pc2 = 33.5;//Critical temperature in K and pressure of N2 in atm\n",
"\n",
"//To find Approx Value\n",
"function[A]=approx(V,n)\n",
"  A=round(V*10^n)/10^n;//V-Value  n-To what place\n",
"  funcprot(0)\n",
"endfunction  \n",
"\n",
"//To calculate the pressure exerted by the gas mixture\n",
"//(i)Using ideal gas law\n",
"P = (N1+N2)*((R*T)/V);\n",
"mprintf('(i) Pressure exerted by the gas mixture using ideal gas law is %d atm',P);\n",
"\n",
"//(ii)Using Vander waal equation\n",
"P1 = ((N1*R*T)/(V-(N1*b1)))-((a1*(N1^2))/(V^2));//Partial pressure of CH4\n",
"P2 = ((N2*R*T)/(V-(N2*b2)))-((a2*(N2^2))/(V^2));//Partial pressure of N2\n",
"Pt = P1+P2;\n",
"mprintf('\n(ii) Pressure exerted by the gas mixture using Vander waal equation is %f atm', Pt);\n",
"\n",
"//(iii)Using Zchart and Dalton's law\n",
"Tra = T/Tc1;//reduced temperature of CH4\n",
"Trb = T/Tc2;//reduced temperature of N2\n",
"//Asssume the pressure\n",
"P = [660 732 793 815 831];\n",
"for i = 1:5\n",
"    Pa(i) = N1*P(i);// partial pressure of CH4 for the ith total pressure\n",
"    Pb(i) = N2*P(i);// partial pressure of N2 for the ith total pressure\n",
"    Pra(i) = Pa(i)/Pc1;//reduced pressure of CH4 for the ith total pressure\n",
"    Prb(i) = Pb(i)/Pc2;//reduced pressure of N2 for the ith total pressure\n",
"end\n",
"\n",
"//For the above Pr and Tr values compressibility factors  from the figure A.2.3 are given as\n",
"Za = [1.154 1.280 1.331 1.370 1.390];//Z values of CH4  \n",
"Zb = [1 1 1 1 1];//Z values of N2\n",
"V3 = 0.0421;\n",
"for i = 1:5\n",
"    Pa(i) = Za(i)*N1*((R*T)/V);//partial pressure of CH4 coressponding to the ith total presure\n",
"    Pb(i) = Zb(i)*N2*((R*T)/V);//partial pressure of N2 coressponding to the ith total pressure\n",
"    Pt(i) = Pa(i)+Pb(i);//total pressure of the gas mixture\n",
"    if Pt(i)-P(i) < 15 \n",
"    mprintf('\n(iii) pressure exerted by the gas mixture using Z chart and Dalton Law is %d atm',Pt(i));\n",
"    else\n",
"    end\n",
"end\n",
"\n",
"//(iv)Using Amagat's law and Z chart\n",
"P = [1000 1200 1500 1700];\n",
"for i=1:4\n",
"    Pra(i) = P(i)/Pc1;\n",
"    Prb(i) = P(i)/Pc2;\n",
"end\n",
"//For the above Pr and Tr values compressibility factors  from the figure A.2.3 are given as\n",
"Za = [1.87 2.14 2.52 2.77];\n",
"Zb = [1.80 2.10 2.37 2.54];\n",
"for i = 1:4\n",
"    Va(i) = approx((N1*Za(i)*((R*T)/P(i))),4);\n",
"    Vb(i) = approx((N2*Zb(i)*((R*T)/P(i))),4);\n",
"    V1(i) = approx((Va(i)+Vb(i)),4);\n",
"    if V1(i)-V <= 0.003\n",
"     mprintf('\n(iv) Pressure exerted by the gas mixture using Amagat law and Zchart is %d atm ',P(i));\n",
"    else\n",
"end\n",
"end\n",
"//end"
   ]
   }
],
"metadata": {
		  "kernelspec": {
		   "display_name": "Scilab",
		   "language": "scilab",
		   "name": "scilab"
		  },
		  "language_info": {
		   "file_extension": ".sce",
		   "help_links": [
			{
			 "text": "MetaKernel Magics",
			 "url": "https://github.com/calysto/metakernel/blob/master/metakernel/magics/README.md"
			}
		   ],
		   "mimetype": "text/x-octave",
		   "name": "scilab",
		   "version": "0.7.1"
		  }
		 },
		 "nbformat": 4,
		 "nbformat_minor": 0
}
