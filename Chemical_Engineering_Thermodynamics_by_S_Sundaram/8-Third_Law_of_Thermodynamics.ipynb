{
"cells": [
 {
		   "cell_type": "markdown",
	   "metadata": {},
	   "source": [
       "# Chapter 8: Third Law of Thermodynamics"
	   ]
	},
{
		   "cell_type": "markdown",
		   "metadata": {},
		   "source": [
			"## Example 8.1: To_calculate_the_absolute_entropy_of_copper_at_300_K.sce"
		   ]
		  },
  {
"cell_type": "code",
	   "execution_count": null,
	   "metadata": {
	    "collapsed": true
	   },
	   "outputs": [],
"source": [
"//Chemical Engineering Thermodynamics\n",
"//Chapter 8\n",
"//Third Law of Thermodynamics\n",
"\n",
"//Example 8.1\n",
"clear;\n",
"clc;\n",
"\n",
"//Given\n",
"C_ps = 0.1;//Molal heat capacity of copper at 20 K\n",
"Ti = 0;//Initial temperature in K\n",
"Tf = 20;//melting point in K\n",
"Tb = 300;//boiling point in K\n",
"\n",
"//To calculate the absolute entropy of copper at 300 K\n",
"//From equation 8.4(page no 164)\n",
"a = C_ps/(Tf^3);// a is the charateristic constant\n",
"C_p = [0.1 0.80 1.94 3.0 3.9 5.0];\n",
"//T1 = log(T);\n",
"T1 = [1.301 1.6021 1.7782 1.9031 2.000 2.1761];\n",
"plot(T1,C_p);\n",
"xtitle('C_p vs T1','T1','Cp');\n",
"// Area under the curve is given as\n",
"A = 7.82;\n",
"//From equation 8.5(page no 164)\n",
"S = (a*((Tf^3)/3))+A;\n",
"mprintf('The absolute entropy of copper is %f Kcal/Kgmole',S);\n",
"//end"
   ]
   }
],
"metadata": {
		  "kernelspec": {
		   "display_name": "Scilab",
		   "language": "scilab",
		   "name": "scilab"
		  },
		  "language_info": {
		   "file_extension": ".sce",
		   "help_links": [
			{
			 "text": "MetaKernel Magics",
			 "url": "https://github.com/calysto/metakernel/blob/master/metakernel/magics/README.md"
			}
		   ],
		   "mimetype": "text/x-octave",
		   "name": "scilab",
		   "version": "0.7.1"
		  }
		 },
		 "nbformat": 4,
		 "nbformat_minor": 0
}
