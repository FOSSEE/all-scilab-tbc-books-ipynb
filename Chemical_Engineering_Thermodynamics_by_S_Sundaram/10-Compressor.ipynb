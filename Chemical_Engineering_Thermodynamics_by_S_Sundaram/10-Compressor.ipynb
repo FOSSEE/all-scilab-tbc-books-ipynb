{
"cells": [
 {
		   "cell_type": "markdown",
	   "metadata": {},
	   "source": [
       "# Chapter 10: Compressor"
	   ]
	},
{
		   "cell_type": "markdown",
		   "metadata": {},
		   "source": [
			"## Example 10.1: To_calculate_the_horsepower_required.sce"
		   ]
		  },
  {
"cell_type": "code",
	   "execution_count": null,
	   "metadata": {
	    "collapsed": true
	   },
	   "outputs": [],
"source": [
"//Chemical Engineering Thermodynamics\n",
"//Chapter 10\n",
"//Compressor\n",
"//Example 10.1\n",
"clear;\n",
"clc;\n",
"\n",
"//Given\n",
"V1 = 2.7;//flow rate of CO2 in cubic meter/min\n",
"T1 = 273-51;//temperature in K\n",
"P1 = 1;//initial pressure in Kgf/sq cm\n",
"P2 = 10;//final pressure in Kgf/sq cm\n",
"y = 1.3;//gamma\n",
"v1 = 0.41;//specific volume in cubic meter/Kg\n",
"H1 = 158.7;// initial enthalpy in Kcal/Kg\n",
"H2 = 188.7;//final enthalpy in Kcal/Kg\n",
"\n",
"//process is isentropic\n",
"//To calculate the horsepower required\n",
"\n",
"//(i)Assuming ideal gas behaviour\n",
"//From equation 10.3 (page no 189)\n",
"W = (y/(y-1))*(P1*1.03*10^4*V1)*(1-(P2/P1)^((y-1)/y));//work in m Kgf/min\n",
"W1 = W/4500;\n",
"mprintf('(i)The horsepower required is %f hp',W1);\n",
"\n",
"//(ii)Using the given data for CO2\n",
"//From equation 10.2 (page no 189)\n",
"W = -(H2 - H1);//work in Kcal/Kg\n",
"M = V1/v1;//Mass rate of gas in Kg/min\n",
"W1 = W*M*(427/4500);\n",
"mprintf('\n (ii)Compressor work is %f hp',W1);\n",
"//end"
   ]
   }
,
{
		   "cell_type": "markdown",
		   "metadata": {},
		   "source": [
			"## Example 10.2: EX10_2.sce"
		   ]
		  },
  {
"cell_type": "code",
	   "execution_count": null,
	   "metadata": {
	    "collapsed": true
	   },
	   "outputs": [],
"source": [
"//Chemical Engineering Thermodynamics\n",
"//Chapter 10\n",
"//Compressor\n",
"//Example 10.2\n",
"clear;\n",
"clc;\n",
"\n",
"//Given\n",
"P1 = 1;//Initial pressure in atm\n",
"P2 = 29;//Final pressure in atm\n",
"C = 0.05;//Clearance\n",
"y = 1.4;//gamma of air\n",
"\n",
"//To calculate the volumetric efficiency and the maximum possible pressure that can be attained in a single stage\n",
"//(i)Calulation of volumetric efficiency\n",
"//From equation 10.11 (page no 194)\n",
"V_E = 1+C-C*(P2/P1)^(1/y);\n",
"mprintf('(i)Volumetric efficiency is %f percent',V_E*100);\n",
"\n",
"//(ii)Calculation of maximum pressure \n",
"V_E = 0;//Minimum efficiency\n",
"P2 = P1*(((1+C-V_E)/C)^y);\n",
"mprintf('\n (ii)The maximum  possible pressure attained is %f atm',P2);\n",
"//end"
   ]
   }
,
{
		   "cell_type": "markdown",
		   "metadata": {},
		   "source": [
			"## Example 10.3: To_calculate_the_capacity_and_the_actual_horse_power_of_the_compressor.sce"
		   ]
		  },
  {
"cell_type": "code",
	   "execution_count": null,
	   "metadata": {
	    "collapsed": true
	   },
	   "outputs": [],
"source": [
"//Chemical Engineering Thermodynamics\n",
"//Chapter 10\n",
"//Compressor\n",
"\n",
"//Example 10.3\n",
"clear;\n",
"clc;\n",
"\n",
"//Given\n",
"V_d = 5.15;//displacement volume in cubic meter/min\n",
"P1 = 1;//initial pressure in Kgf/sq cm\n",
"P2 = 8.5;//final pressure in Kgf/sq cm\n",
"C = 0.06;//Clearance\n",
"M_E = 0.8;//Mechenical efficiency\n",
"y = 1.31;//gamma\n",
"\n",
"//To calculate the capacity and the actual horse power of the compressor\n",
"v1 = V_d*(1+C-(C*((P2/P1)^(1/y))));\n",
"mprintf('The capacity of the copressor is %f cubic meter/min',v1);\n",
"//From equation 10.6 (page no 192)\n",
"W = (y/(y-1))*(P1*1*10^4*v1)*(1-(P2/P1)^((y-1)/y));//work in Kgf/min\n",
"W1 = W/4500;//work in hp\n",
"W2 = W1/M_E;\n",
"mprintf('\n The actual horse power of the compressor is %f hp',W2);\n",
"//end"
   ]
   }
,
{
		   "cell_type": "markdown",
		   "metadata": {},
		   "source": [
			"## Example 10.4: To_Calculate_the_theoretical_horse_power_required.sce"
		   ]
		  },
  {
"cell_type": "code",
	   "execution_count": null,
	   "metadata": {
	    "collapsed": true
	   },
	   "outputs": [],
"source": [
"//Chemical Engineering Thermodynamics\n",
"//Chapter 10\n",
"//Compressor\n",
"\n",
"//Example 10.4\n",
"clear;\n",
"clc;\n",
"\n",
"//Given\n",
"P1 = 1;//Initial pressure in Kgf/sq cm\n",
"Pn = 13;//Final pressure in Kgf/sq cm\n",
"V1 =27;//flow rate of gas in cubic meter/min\n",
"y = 1.6;//gamma of the gas\n",
"n = [1 2 3 4 7 10];//number of stages\n",
"mprintf('No of stages             Horse power in hp');\n",
"//To Calculate the theoretical horse power required\n",
"for i = 1:6\n",
"    W(i) = n(i)*(y/(y-1))*((P1*10^4)/4500)*V1*(1-(Pn/P1)^((y-1)/(n(i)*y)));\n",
"    mprintf('\n  %d',n(i));\n",
"    mprintf('                       %f',-W(i))\n",
"end\n",
"//end"
   ]
   }
,
{
		   "cell_type": "markdown",
		   "metadata": {},
		   "source": [
			"## Example 10.5: To_find_out_the_presure_between_stages.sce"
		   ]
		  },
  {
"cell_type": "code",
	   "execution_count": null,
	   "metadata": {
	    "collapsed": true
	   },
	   "outputs": [],
"source": [
"//Chemical Engineering Thermodynamics\n",
"//Chapter 10\n",
"//Compressor\n",
"\n",
"//Example 10.5\n",
"clear;\n",
"clc;\n",
"\n",
"//Given\n",
"P1 = 1;//Initial pressure in Kgf/sq cm\n",
"P4 = 200;//Final pressure in Kgf/sq cm\n",
"n = 4;//no of stages\n",
"\n",
"//To find out the presure between stages\n",
"r = (P4/P1)^(1/n);//Compression ratio\n",
"P2 = r*P1;\n",
"mprintf('The pressure after 1st stage is %f Kgf/sq cm',P2);\n",
"P3 = r*P2;\n",
"mprintf('\n The pressure after 2nd stage is %f Kgf/sq cm',P3);\n",
"P4 = r*P3;\n",
"mprintf('\n The pressure after 3rd stage is %f Kgf/sq cm',P4);\n",
"//end"
   ]
   }
],
"metadata": {
		  "kernelspec": {
		   "display_name": "Scilab",
		   "language": "scilab",
		   "name": "scilab"
		  },
		  "language_info": {
		   "file_extension": ".sce",
		   "help_links": [
			{
			 "text": "MetaKernel Magics",
			 "url": "https://github.com/calysto/metakernel/blob/master/metakernel/magics/README.md"
			}
		   ],
		   "mimetype": "text/x-octave",
		   "name": "scilab",
		   "version": "0.7.1"
		  }
		 },
		 "nbformat": 4,
		 "nbformat_minor": 0
}
