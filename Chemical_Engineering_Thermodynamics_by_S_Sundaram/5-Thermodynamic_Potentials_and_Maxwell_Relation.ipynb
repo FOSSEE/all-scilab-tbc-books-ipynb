{
"cells": [
 {
		   "cell_type": "markdown",
	   "metadata": {},
	   "source": [
       "# Chapter 5: Thermodynamic Potentials and Maxwell Relation"
	   ]
	},
{
		   "cell_type": "markdown",
		   "metadata": {},
		   "source": [
			"## Example 5.1: To_Calculate_the_efficiency_of_the_separation_process.sce"
		   ]
		  },
  {
"cell_type": "code",
	   "execution_count": null,
	   "metadata": {
	    "collapsed": true
	   },
	   "outputs": [],
"source": [
"//Chemical Engineering Thermodynamics\n",
"//Chapter 5\n",
"//Thermodynamic Potentials and Maxwell's Relation\n",
"\n",
"//Example 5.1\n",
"clear;\n",
"clc;\n",
"\n",
"//Given\n",
"T = 293;//Constant temperature in K\n",
"w_NH3 = 20/100;//weight of NH3 in an aqueous solution in Kg\n",
"w_H2O = 80/100;//weight of H2O in an aqueous solution in Kg\n",
"V_f = 40;//feed rate in Kg/min\n",
"M_NH3 = 17;//Molecular weight of NH3\n",
"M_H2O = 18;//Molecular weight of H20\n",
"R = 1.98;//gas constant in Kcl/Kg mole K\n",
"V_s = 62;//Rate of heating steam in Kg/min\n",
"P1_H2O = 11.6;//Vapour pressure of water in feed in  mm Hg\n",
"P2_H2O = 17.5;//Vapour pressure of pure water in mm Hg\n",
"P1_NH3 = 227;//Vapour pressure of NH3 in feed in mm Hg\n",
"P2_NH3 = 6350;//Vapor pressure of  pure NH3 in mm Hg\n",
"//From steam tables:\n",
"Hs = 666.4;//Enthalpy of steam at 160 deg celsius & 2Kgf/cm^2 in Kcal /Kg \n",
"Ss = 1.75;//Entropy of steam at 160 deg celsius & 2Kgf/cm^2V in Kcal/Kg K\n",
"Hl = 20.03;//Enthalpy of liquid water at 20 deg celsius in Kcal/Kg\n",
"Sl = 0.0612;//Entropy of liquid water at 20 deg celsius in Kcal/Kg K\n",
"\n",
"//To Calculate the efficiency of the separation process \n",
"//Material Balance:\n",
"n_NH3 = (V*w_NH3)/M_NH3;//Kg moles of NH3 in feed(tops)\n",
"n_H2O = (V*w_H2O)/M_H2O;//Kg moles of H20 in feed(bottoms)\n",
"//del_F = del_F_NH3 +del_F_H2O;\n",
"del_F = (R*T*n_NH3*log(P2_NH3/P1_NH3))+(R*T*n_H2O*log(P2_H2O/P1_H2O));//Theoretical minimum work done in Kcal\n",
"//The available energy of the steam can be calculated from equation 4.14(page no 110)\n",
"del_B = -V_s*((Hl-Hs)-T*(Sl-Ss));//Available energy of the steam in Kcal\n",
"E = (del_F/del_B)*100;\n",
"mprintf('The efficiency of the separation process is %f percent',E);\n",
"//end\n",
""
   ]
   }
],
"metadata": {
		  "kernelspec": {
		   "display_name": "Scilab",
		   "language": "scilab",
		   "name": "scilab"
		  },
		  "language_info": {
		   "file_extension": ".sce",
		   "help_links": [
			{
			 "text": "MetaKernel Magics",
			 "url": "https://github.com/calysto/metakernel/blob/master/metakernel/magics/README.md"
			}
		   ],
		   "mimetype": "text/x-octave",
		   "name": "scilab",
		   "version": "0.7.1"
		  }
		 },
		 "nbformat": 4,
		 "nbformat_minor": 0
}
