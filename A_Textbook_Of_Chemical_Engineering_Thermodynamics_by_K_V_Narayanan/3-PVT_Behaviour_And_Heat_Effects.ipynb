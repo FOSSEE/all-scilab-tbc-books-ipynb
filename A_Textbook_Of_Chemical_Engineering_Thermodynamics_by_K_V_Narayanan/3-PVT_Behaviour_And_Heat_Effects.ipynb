{
"cells": [
 {
		   "cell_type": "markdown",
	   "metadata": {},
	   "source": [
       "# Chapter 3: PVT Behaviour And Heat Effects"
	   ]
	},
{
		   "cell_type": "markdown",
		   "metadata": {},
		   "source": [
			"## Example 3.10: To_calculate_heat_of_formation_of_methane_gas.sce"
		   ]
		  },
  {
"cell_type": "code",
	   "execution_count": null,
	   "metadata": {
	    "collapsed": true
	   },
	   "outputs": [],
"source": [
"//A Textbook of Chemical Engineering Thermodynamics\n",
"//Chapter 3\n",
"//P-V-T Behaviour and Heat Effects\n",
"//Example 10\n",
"\n",
"\n",
"clear;\n",
"clc;\n",
"\n",
"\n",
"//Given:\n",
"Ha = -890.94; //standard heat for reaction a (kJ)\n",
"Hb = -393.78; //standard heat for reaction b (kJ)\n",
"Hc = -286.03; //standard heat for reaction c (kJ)\n",
"\n",
"//To calculate heat of formation of methane gas\n",
"//c*2 + b - a gives the formation of methane from elements\n",
"Hf = (2*Hc)+Hb-Ha;\n",
"mprintf('Heat of formation of methane is %f kJ/mol',Hf);\n",
"\n",
"//end"
   ]
   }
,
{
		   "cell_type": "markdown",
		   "metadata": {},
		   "source": [
			"## Example 3.11: To_calculate_heat_of_formation_of_chloroform.sce"
		   ]
		  },
  {
"cell_type": "code",
	   "execution_count": null,
	   "metadata": {
	    "collapsed": true
	   },
	   "outputs": [],
"source": [
"//A Textbook of Chemical Engineering Thermodynamics\n",
"//Chapter 3\n",
"//P-V-T Behaviour and Heat Effects\n",
"//Example 11\n",
"\n",
"\n",
"clear;\n",
"clc;\n",
"\n",
"\n",
"//Given:\n",
"Ha = -509.93; //heat of combustion of reaction a (kJ) \n",
"Hb = -296.03; //heat of combustion of reaction b (kJ)\n",
"Hc = -393.78; //heat of combustion of reaction c (kJ)\n",
"Hd = -167.57; //heat of combustion of reaction d (kJ)\n",
"\n",
"//To calculate heat of formation of chloroform\n",
"//c + (3*d) -a -b gives chloroform from its elements\n",
"Hf = Hc+(3*Hd)-Ha-Hb;\n",
"mprintf('Heat of formation of chloroform is %f kJ/mol',Hf);\n",
"\n",
"//end"
   ]
   }
,
{
		   "cell_type": "markdown",
		   "metadata": {},
		   "source": [
			"## Example 3.12: To_calculate_standard_heat_of_reaction_at_773_K.sce"
		   ]
		  },
  {
"cell_type": "code",
	   "execution_count": null,
	   "metadata": {
	    "collapsed": true
	   },
	   "outputs": [],
"source": [
"//A Textbook of Chemical Engineering Thermodynamics\n",
"//Chapter 3\n",
"//P-V-T Behaviour and Heat Effects\n",
"//Example 12\n",
"\n",
"\n",
"clear;\n",
"clc;\n",
"\n",
"\n",
"//Given:\n",
"Ho = -164987; //standard heat of reaction at 298 K in J\n",
"T1 = 298;\n",
"T2 = 773; //temperature(K)\n",
"\n",
"//To calculate standard heat of reaction at 773 K\n",
"alpha = (2*29.16)+13.41-26.75-(4*26.88);\n",
"betta = ((2*14.49)+77.03-42.26-(4*4.35))*10^-3;\n",
"gama = ((2*-2.02)-18.74+14.25+(4*0.33))*10^-6;\n",
"\n",
"//Using equation 3.54 (Page no. 67)\n",
"H1 = Ho-(alpha*T1)-(betta*(T1^2)/2)-(gama*(T1^3)/3);\n",
"\n",
"//At 773 K\n",
"Hr = H1+(alpha*T2)+(betta*(T2^2)/2)+(gama*(T2^3)/3);\n",
"mprintf('Heat of reaction at 773 K is %f kJ',Hr/1000);\n",
"\n",
"//end"
   ]
   }
,
{
		   "cell_type": "markdown",
		   "metadata": {},
		   "source": [
			"## Example 3.13: To_determine_heat_added_or_removed.sce"
		   ]
		  },
  {
"cell_type": "code",
	   "execution_count": null,
	   "metadata": {
	    "collapsed": true
	   },
	   "outputs": [],
"source": [
"//A Textbook of Chemical Engineering Thermodynamics\n",
"//Chapter 3\n",
"//P-V-T Behaviour and Heat Effects\n",
"//Example 13\n",
"\n",
"\n",
"clear;\n",
"clc;\n",
"\n",
"\n",
"//Given:\n",
"To = 298; //standard temperature(K)\n",
"T1 = 400; //temperature of reactants(K)\n",
"T2 = 600; //temperature of products (K)\n",
"Ho = -283.028; //standard heat of reaction(kJ/mol)\n",
"\n",
"//To determine heat added or removed\n",
"//Basis:\n",
"n_CO = 1; //moles of CO reacted\n",
"n_O2 = 1;//moles of oxygen supplied\n",
"n_N2 = 1*79/21; //moles of nitrogen\n",
"n1_O2 = 0.5; //moles of oxygen required\n",
"n_CO2 = 1; //moles of carbon di oxide formed\n",
"\n",
"H1 = ((n_O2*29.70)+(n_N2*29.10)+(n_CO*29.10))*(To-T1)/1000; //enthalpy of cooling of reactants\n",
"H2 = ((n1_O2*29.70)+(n_N2*29.10)+(n_CO2*41.45))*(T2-To)/1000; //enthalpy of heating the products\n",
"Hr = H1+Ho+H2;\n",
"mprintf('Heat supplied is %f kJ',Hr);\n",
"\n",
"//end"
   ]
   }
,
{
		   "cell_type": "markdown",
		   "metadata": {},
		   "source": [
			"## Example 3.14: To_calculate_theoretical_flame_temperature.sce"
		   ]
		  },
  {
"cell_type": "code",
	   "execution_count": null,
	   "metadata": {
	    "collapsed": true
	   },
	   "outputs": [],
"source": [
"//A Textbook of Chemical Engineering Thermodynamics\n",
"//Chapter 3\n",
"//P-V-T Behaviour and Heat Effects\n",
"//Example 14\n",
"\n",
"\n",
"clear;\n",
"clc;\n",
"\n",
"\n",
"//Given:\n",
"To = 298; //standard temperature (K)\n",
"T1 = 373; //temperature of reactants (K)\n",
"Ho = 283178; //standard heat of combustion(J/mol)\n",
"\n",
"//To calculate theoretical flame temperature\n",
"//Basis:\n",
"n_CO = 1; //moles of CO\n",
"n_O2 = 1; //moles of oxygen supplied\n",
"n1_O2 = 0.5; //moles of oxygen reacted\n",
"n_CO2 = 1; //moles of carbon di oxide formed\n",
"n_N2 = 79/21; //moles of nitrogen\n",
"\n",
"H1 = ((n_O2*34.83)+(n_N2*33.03)+(n_CO*29.23))*(To-T1); //enthalpy of cooling of reactants\n",
"//Using equation 3.55 (Page no. 69)\n",
"H2 = Ho-H1;\n",
"Tf = H2/((n1_O2*34.83)+(n_N2*33.03)+(n_CO2*53.59))+298; //flame temperature\n",
"mprintf('Theoretical flame temperature is %f K',Tf);\n",
"\n",
"//end"
   ]
   }
,
{
		   "cell_type": "markdown",
		   "metadata": {},
		   "source": [
			"## Example 3.1: To_find_the_molar_volume_of_air.sce"
		   ]
		  },
  {
"cell_type": "code",
	   "execution_count": null,
	   "metadata": {
	    "collapsed": true
	   },
	   "outputs": [],
"source": [
"//A Textbook of Chemical Engineering Thermodynamics\n",
"//Chapter 3\n",
"//P-V-T Behaviour and Heat Effects\n",
"//Example 1\n",
"\n",
"\n",
"clear;\n",
"clc;\n",
"\n",
"\n",
"//Given:\n",
"T = 350; //temperature in K\n",
"P = 10^5; //pressure in N/m^2\n",
"R = 8.314; //ideal gas constant\n",
"\n",
"//To find the molar volume of air\n",
"\n",
"V = (R*T)/P; //molar volume in m^3\n",
"mprintf('Molar volume of air is %3.2e cubic m/mol',V);\n",
"\n",
"//end"
   ]
   }
,
{
		   "cell_type": "markdown",
		   "metadata": {},
		   "source": [
			"## Example 3.2: Theoretical_problem.sce"
		   ]
		  },
  {
"cell_type": "code",
	   "execution_count": null,
	   "metadata": {
	    "collapsed": true
	   },
	   "outputs": [],
"source": [
"//A Textbook of Chemical Engineering Thermodynamics\n",
"//Chapter 3\n",
"//P-V-T Behaviour and Heat Effects\n",
"//Example 2\n",
"\n",
"\n",
"clear;\n",
"clc;\n",
"\n",
"\n",
"//Given:\n",
"\n",
"\n",
"//The given problem is theoretical and does not involve any numerical computation\n",
"\n",
"//end"
   ]
   }
,
{
		   "cell_type": "markdown",
		   "metadata": {},
		   "source": [
			"## Example 3.3: To_determine_heat_and_work_effects_for_each_step.sce"
		   ]
		  },
  {
"cell_type": "code",
	   "execution_count": null,
	   "metadata": {
	    "collapsed": true
	   },
	   "outputs": [],
"source": [
"//A Textbook of Chemical Engineering Thermodynamics\n",
"//Chapter 3\n",
"//P-V-T Behaviour and Heat Effects\n",
"//Example 3\n",
"\n",
"\n",
"clear;\n",
"clc;\n",
"\n",
"\n",
"//Given:\n",
"Cp = 29.3; //specific heat at constant pressure(kJ/kmol K)\n",
"R = 8.314; //ideal gas constant\n",
"\n",
"//To determine heat and work effects for each step\n",
"\n",
"//Step 1: Gas is heated at constant volume\n",
"T1 = 300; //temperature in K\n",
"P1 = 1; //initial pressure in bar\n",
"P2 = 2; //final pressure in bar\n",
"T2 = (P2/P1)*T1; //final temperature in K\n",
"Cv = Cp-R; //specific heat at constant volume\n",
"W1 = 0; //work done is zero as volume remains constant\n",
"Q1 = Cv*(T2-T1); //heat supplied in kJ/kmol\n",
"mprintf('For step 1');\n",
"mprintf('\nWork done in step 1 is %i',W1);\n",
"mprintf('\nHeat supplied in step 1 is %f kJ/kmol',Q1);\n",
"\n",
"//Step 2: The process is adiabatic\n",
"Q2 = 0; //the process is adiabatic\n",
"P3 = 1; //pressure after step 2 in bar\n",
"gama = (Cp/Cv);\n",
"T3 = ((P3/P2)^((gama-1)/gama))*T2; //temperature after step 2\n",
"W2 = (Cv*(T2-T3)); //work done by system\n",
"mprintf('\n\nFor step 2');\n",
"mprintf('\nHeat supplied in step 2 is %i', Q2);\n",
"mprintf('\nWork done by system in step 2 is %f kJ/kmol',W2);\n",
"\n",
"//Step 3: The process is isobaric\n",
"T4 = 300; //temperature after step 3 (K)\n",
"Q3 = Cp*(T4-T3); //heat supplied during step 3(kJ/kmol)\n",
"U = (Cv*(T4-T3)); //change in internal energy during step 3(kJ/kmol)\n",
"W3 = Q3-U; //Using first law of thermodynamics\n",
"mprintf('\n\nFor step 3');\n",
"mprintf('\nHeat given out by the system in step 3 is %f kJ/kmol',Q3);\n",
"mprintf('\nWork done on the system in step 3 is %f kJ/kmol',W3);\n",
"\n",
"//end"
   ]
   }
,
{
		   "cell_type": "markdown",
		   "metadata": {},
		   "source": [
			"## Example 3.4: EX3_4.sce"
		   ]
		  },
  {
"cell_type": "code",
	   "execution_count": null,
	   "metadata": {
	    "collapsed": true
	   },
	   "outputs": [],
"source": [
"//A Textbook of Chemical Engineering Thermodynamics\n",
"//Chapter 3\n",
"//P-V-T Behaviour and Heat Effects\n",
"//Example 4\n",
"\n",
"\n",
"clear;\n",
"clc;\n",
"\n",
"\n",
"//Given:\n",
"R = 8.314; //ideal gas constant\n",
"Cp = 30; //specific heat at constant pressure(J/mol K)\n",
"\n",
"//To calculate change in internal energy change in enthalpy work done and heat supplied\n",
"\n",
"//(a): Gas is expanded isothermally\n",
"T = 600; //temperature in K\n",
"P1 = 5; //initial pressure in bar\n",
"P2 = 4; //final pressure in bar\n",
"U1 = 0; //since the process is isothermal\n",
"H1 = 0; //since the process is isothermal\n",
"W1 = (R*T*log(P1/P2)); //work done during the process\n",
"Q1 = W1; //heat supplied during the process\n",
"mprintf('When gas is expanded isothermally');\n",
"mprintf('\nChange in internal energy in isothermal process is %i',U1);\n",
"mprintf('\nChange in enthalpy in isothermal process is %i',H1);\n",
"mprintf('\nWork done during the process is %f kJ/kmol',W1);\n",
"mprintf('\nHeat supplied during the process is %f kJ/kmol',Q1);\n",
"\n",
"//(b): Gas is heated at constant volume\n",
"V = 0.1; //volume (m^3)\n",
"P1 = 1; //initial pressure(bar)\n",
"T1 = 298; //initial temperature(K)\n",
"T2 = 400; //final temperature(K)\n",
"n = ((P1*V*10^5)/(R*T1)); //number of moles of gas\n",
"Cv = Cp-R; //specific heat at constant volume(J/mol K)\n",
"U2 = n*Cv*(T2-T1); //change in internal energy(J)\n",
"H2 = n*Cp*(T2-T1); //change in enthalpy(J)\n",
"W2 = 0; //isochoric process\n",
"Q2 = U2+W2; //heat supplied(J)\n",
"mprintf('\n\nWhen gas is heated at constant volume');\n",
"mprintf('\nChange in internal energy is %f J',U2);\n",
"mprintf('\nChange in enthalpy is %f J',H2);\n",
"mprintf('\nWork done during the process is %i ', W2);\n",
"mprintf('\nHeat supplied during the process is %f J',Q2);\n",
"\n",
"//end"
   ]
   }
,
{
		   "cell_type": "markdown",
		   "metadata": {},
		   "source": [
			"## Example 3.5: To_determine_work_done_and_amount_of_heat_transferred.sce"
		   ]
		  },
  {
"cell_type": "code",
	   "execution_count": null,
	   "metadata": {
	    "collapsed": true
	   },
	   "outputs": [],
"source": [
"//A Textbook of Chemical Engineering Thermodynamics\n",
"//Chapter 3\n",
"//P-V-T Behaviour and Heat Effects\n",
"//Example 5\n",
"\n",
"\n",
"clear;\n",
"clc;\n",
"\n",
"\n",
"//Given:\n",
"function[y] = Cv(T);\n",
"    y = 27.4528+(6.1839*(10^-3)*T)-(8.9932*(10^-7)*(T^2))-R;\n",
"endfunction\n",
"\n",
"m = 20; //mass of air(kg)\n",
"n = 1.25; //polytropic constant\n",
"P1 = 1; //initial pressure(bar)\n",
"P2 = 5; //final pressure(bar)\n",
"T1 = 300; //temperature(K)\n",
"R = 8.314; //ideal gas constant\n",
"M = 29; //molecular wt of air\n",
"\n",
"//To determine work done and amount of heat transferred\n",
"\n",
"//(a): Work done by the compressor per cycle\n",
"n_mole = m/M; //moles of air(kmol)\n",
"V1 = ((n_mole*10^3*R*T1)/(P1*10^5)); //initial volume(m^3)\n",
"V2 = (V1*((P1/P2)^(1/n))); //final volume(m^3)\n",
"\n",
"//Since the process is polytropic P(V^n)=c(say constant)\n",
"c = P1*10^5*(V1^n); \n",
"//function[z] = f(V);\n",
"//    z = c/(V^1.25);\n",
"//endfunction\n",
"//W1 = intg(V1,V2,f); so\n",
"W = (c/(1-n))*((V2^(-n+1))-(V1^(-n+1)))/1000;\n",
"mprintf('Work done by compressor is %4.3e J',W*1000);\n",
"\n",
"//(b): Amount of heat transferred to surrounding\n",
"T2 = ((T1*V2*P2)/(V1*P1)); //final temp in K\n",
"U1 = intg(T1,T2,Cv);\n",
"U = U1*n_mole; //change in internal energy(kJ)\n",
"Q = U+W; //heat supplied\n",
"mprintf('\nChnage in internal energy is %f kJ',U);\n",
"mprintf('\nHeat supplied is %f kJ',Q);\n",
"\n",
"//end"
   ]
   }
,
{
		   "cell_type": "markdown",
		   "metadata": {},
		   "source": [
			"## Example 3.6: To_compare_the_pressures.sce"
		   ]
		  },
  {
"cell_type": "code",
	   "execution_count": null,
	   "metadata": {
	    "collapsed": true
	   },
	   "outputs": [],
"source": [
"//A Textbook of Chemical Engineering Thermodynamics\n",
"//Chapter 3\n",
"//P-V-T Behaviour and Heat Effects\n",
"//Example 6\n",
"\n",
"\n",
"clear;\n",
"clc;\n",
"\n",
"\n",
"//Given:\n",
"V = 0.3821*10^-3 //molar volume(m^3/mol)\n",
"T = 313; //temperature (K)\n",
"R = 8.314; //ideal gas constant\n",
"a = 0.365; b = 4.28*10^-5; //Vander Waals constant\n",
"\n",
"//To compare the pressures\n",
"\n",
"//(a): Ideal gas equation\n",
"P = ((R*T)/(V*10^5)); //pressure in bar\n",
"mprintf('Pressure obtained by ideal gas equation is %f bar',P);\n",
"\n",
"//(b): Van der Waals equation\n",
"P = ((((R*T)/(V-b))-(a/(V^2)))/(10^5));\n",
"mprintf('\nPressure obtained by Van der Waals equation is %f bar',P);\n",
"\n",
"//end"
   ]
   }
,
{
		   "cell_type": "markdown",
		   "metadata": {},
		   "source": [
			"## Example 3.7: To_calculate_the_volume.sce"
		   ]
		  },
  {
"cell_type": "code",
	   "execution_count": null,
	   "metadata": {
	    "collapsed": true
	   },
	   "outputs": [],
"source": [
"//A Textbook of Chemical Engineering Thermodynamics\n",
"//Chapter 3\n",
"//P-V-T Behaviour and Heat Effects\n",
"//Example 7\n",
"\n",
"\n",
"clear;\n",
"clc;\n",
"\n",
"//To find Approx Value\n",
"function[A]=approx(V,n)\n",
"  A=round(V*10^n)/10^n;//V-Value  n-To what place\n",
"  funcprot(0)\n",
"endfunction  \n",
"\n",
"\n",
"//Given:\n",
"T = 300; //temperature(K)\n",
"P = 100; //pressure(bar)\n",
"R = 8.314; //ideal gas constant\n",
"a = 0.1378; b = 3.18*10^-5; //Van der waals constant\n",
"\n",
"//To calculate the volume\n",
"\n",
"//(a): Ideal gas equation\n",
"V_ideal = approx(((R*T)/(P*10^5)),6);\n",
"mprintf('Volume calculated by ideal gas equation is %4.2e cubic m',V_ideal);\n",
"\n",
"//(b): Van der Waals equation\n",
"function [y]=f(V);\n",
"    y=((P*10^5)+(a/(V^2)))*(V-b)-(R*T); //function to calculate difference between calculated and assumed volume\n",
"endfunction\n",
"\n",
"V_real = 0;\n",
"for i = 0.20:0.01:0.30 //Van der waals volume should be nearly equal to Ideal gas valoume\n",
"    res = approx(f(i*10^-3),0);\n",
"    for j = -5:5\n",
"        if(j==res) //for very small difference i may be taken as exact volume\n",
"            V_real = i*10^-3;\n",
"    end\n",
"end\n",
"end\n",
"mprintf('\nVolume calculated by Van der Waals equation is %3.2e cubic m',V_real);\n",
"\n",
"//end"
   ]
   }
,
{
		   "cell_type": "markdown",
		   "metadata": {},
		   "source": [
			"## Example 3.8: Theoretical_problem.sce"
		   ]
		  },
  {
"cell_type": "code",
	   "execution_count": null,
	   "metadata": {
	    "collapsed": true
	   },
	   "outputs": [],
"source": [
"//A Textbook of Chemical Engineering Thermodynamics\n",
"//Chapter 3\n",
"//P-V-T Behaviour and Heat Effects\n",
"//Example 8\n",
"\n",
"\n",
"clear;\n",
"clc;\n",
"\n",
"//Given:\n",
"\n",
"//The given problem is theoretical and does not involve any numerical computation\n",
"\n",
"//end"
   ]
   }
,
{
		   "cell_type": "markdown",
		   "metadata": {},
		   "source": [
			"## Example 3.9: To_calculate_compressibility_factor_and_molar_volume.sce"
		   ]
		  },
  {
"cell_type": "code",
	   "execution_count": null,
	   "metadata": {
	    "collapsed": true
	   },
	   "outputs": [],
"source": [
"//A Textbook of Chemical Engineering Thermodynamics\n",
"//Chapter 3\n",
"//P-V-T Behaviour and Heat Effects\n",
"//Example 9\n",
"\n",
"\n",
"clear;\n",
"clc;\n",
"\n",
"//To find Approx Value\n",
"function[A]=approx(V,n)\n",
"  A=round(V*10^n)/10^n;//V-Value  n-To what place\n",
"  funcprot(0)\n",
"endfunction  \n",
"\n",
"\n",
"//Given:\n",
"T = 500; //temperature (K)\n",
"P = 10; //pressure(bar)\n",
"R = 8.314; //ideal gas constant\n",
"B = -2.19*10^-4; C=-1.73*10^-8; //Virial coeffecients\n",
"Tc = 512.6; //critical temperature\n",
"Pc = 81; //critical pressure\n",
"\n",
"//To calculate compressibility factor and molar volume\n",
"\n",
"//(a): Truncated form of virial equation\n",
"V_ideal = approx(((R*T)/(P*10^5)),7); //ideal gas volume\n",
"function [z] = f1(V)\n",
"    z = (((R*T)/(P*10^5))*(1+(B/V)+(C/(V^2)))); //function for obtaining volume by virial equation\n",
"endfunction\n",
"\n",
"//loop for hit and trial method\n",
"flag = 1;\n",
"while(flag==1)\n",
"    V_virial = approx(f1(V_ideal),7);\n",
"    if(approx(V_ideal,5)==approx(V_virial,5))\n",
"        flag = 0;\n",
"        break;\n",
"        else\n",
"    V_ideal = V_virial;\n",
"end\n",
"end\n",
"mprintf('Volume obtained vy virial equation is %4.3e cubic m',V_virial);\n",
"Z = approx(((P*10^5*V_virial)/(T*R)),3); //compressibility factor\n",
"mprintf('\nCompressibilty factor for virial equation is %f ',Z);\n",
"\n",
"//(b): Redlich Kwong Equation\n",
"//Constants in Redlich Kwong equation\n",
"a = approx(((0.4278*(R^2)*(Tc^2.5))/(Pc*10^5)),4);\n",
"b = approx(((0.0867*R*Tc)/(Pc*10^5)),9);\n",
"\n",
"V_ideal = approx(((R*T)/(P*10^5)),7); //ideal gas volume\n",
"\n",
"//Function to find volume by Redlich Kwong equation \n",
"function [x] = f2(V)\n",
"    x = ((R*T)/(P*10^5))+b-((a*(V-b))/((T^0.5)*(P*10^5)*V*(V+b)));\n",
"endfunction\n",
"\n",
"//loop for hit and trial method\n",
"flag = 1;\n",
"while(flag==1)\n",
"    V_redlich = approx(f2(V_ideal),7);\n",
"    if(approx(V_ideal,5)==approx(V_redlich,5))\n",
"        flag = 0;\n",
"        break;\n",
"        else\n",
"    V_ideal = V_redlich;\n",
"end\n",
"end\n",
"mprintf('\n\nVolume obtained by Redlich Kwong Equation is %4.3e cubic m/mol',V_redlich);\n",
"Z = approx(((P*10^5*V_redlich)/(T*R)),3); //compressibility factor\n",
"mprintf('\nCompressbility factor by Redlich Kwong equation is %f',Z);\n",
"\n",
"//end"
   ]
   }
],
"metadata": {
		  "kernelspec": {
		   "display_name": "Scilab",
		   "language": "scilab",
		   "name": "scilab"
		  },
		  "language_info": {
		   "file_extension": ".sce",
		   "help_links": [
			{
			 "text": "MetaKernel Magics",
			 "url": "https://github.com/calysto/metakernel/blob/master/metakernel/magics/README.md"
			}
		   ],
		   "mimetype": "text/x-octave",
		   "name": "scilab",
		   "version": "0.7.1"
		  }
		 },
		 "nbformat": 4,
		 "nbformat_minor": 0
}
