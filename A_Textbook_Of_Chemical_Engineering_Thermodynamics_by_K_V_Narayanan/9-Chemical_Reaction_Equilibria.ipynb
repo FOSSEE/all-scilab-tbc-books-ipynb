{
"cells": [
 {
		   "cell_type": "markdown",
	   "metadata": {},
	   "source": [
       "# Chapter 9: Chemical Reaction Equilibria"
	   ]
	},
{
		   "cell_type": "markdown",
		   "metadata": {},
		   "source": [
			"## Example 9.10: to_calculate_equilibrium_constant_at_600_K.sce"
		   ]
		  },
  {
"cell_type": "code",
	   "execution_count": null,
	   "metadata": {
	    "collapsed": true
	   },
	   "outputs": [],
"source": [
"//A Textbook of Chemical Engineering Thermodynamics\n",
"//Chapter 9\n",
"//Chemical Reaction Equilibria\n",
"//Example 10\n",
"\n",
"\n",
"clear;\n",
"clc;\n",
"\n",
"\n",
"//Given:\n",
"//Reaction: CO(g) + 2H2(g) --> CH3OH(g)\n",
"T = 600; //temperature in K\n",
"R = 8.314; //ideal gas constant\n",
"\n",
"//Gibbs free energy at 600 K (J/mol K)\n",
"Gc = -203.81; //for CO\n",
"Gh = -136.39; //for hydrogen\n",
"Gm = -249.83; //for methanol\n",
"\n",
"//Heats of formation at 298 K (J/mol)\n",
"Hc = -110500; //for CO\n",
"Hm = -200700; //for methanol\n",
"\n",
"//To calculate equilibrium constant at 600 K\n",
"Go = T*((Gm-Gc-(2*Gh)) + (1/T)*(Hm-Hc));\n",
"//Using eq. 9.31 (Page no. 406)\n",
"K = %e^(-Go/(R*T));\n",
"mprintf('Equilibrium constant is %4.3e',K);\n",
"\n",
"//end"
   ]
   }
,
{
		   "cell_type": "markdown",
		   "metadata": {},
		   "source": [
			"## Example 9.11: To_calculate_equilibrium_constant_at_500K.sce"
		   ]
		  },
  {
"cell_type": "code",
	   "execution_count": null,
	   "metadata": {
	    "collapsed": true
	   },
	   "outputs": [],
"source": [
"//A Textbook of Chemical Engineering Thermodynamics\n",
"//Chapter 9\n",
"//Chemical Reaction Equilibria\n",
"//Example 11\n",
"\n",
"\n",
"clear;\n",
"clc;\n",
"\n",
"\n",
"//Given:\n",
"//Reaction: N2(g) + 3H2(g) --> 2NH3(g)\n",
"T = 500; //temperature in K\n",
"R = 8.314; //ideal gas constant\n",
"\n",
"//Free energy at 500 K (J/mol K)\n",
"Fn = -177.5; //for nitrogen\n",
"Fh = -116.9; //for hydrogen\n",
"Fa = -176.9; //for ammonia\n",
"\n",
"//The function (Ho at 298 K - Ho at 0 K) [J/mol]\n",
"Hn = 8669; //for nitrogen\n",
"Hh = 8468; //for hydrogen\n",
"Ha = 9920; //for methanol\n",
"\n",
"//Free energy of formation at 298 K (J/mol)\n",
"Hf = -46100;\n",
"\n",
"//To calculate equilibrium constant at 500 K\n",
"//Using eq. 9.53 (Page no. 414)\n",
"sum_F = (2*Fa - Fn - 3*Fh) - (2*Ha - Hn - 3*Hh)/T; //(J/mol K)\n",
"//Using eq. 9.57 (Page no.415)\n",
"Go = T*(sum_F + 2*Hf/T);\n",
"K = %e^(-Go/(R*T));\n",
"\n",
"mprintf('Equilibrium constant is %f',K);\n",
"\n",
"//end"
   ]
   }
,
{
		   "cell_type": "markdown",
		   "metadata": {},
		   "source": [
			"## Example 9.12: To_find_the_value_of_n.sce"
		   ]
		  },
  {
"cell_type": "code",
	   "execution_count": null,
	   "metadata": {
	    "collapsed": true
	   },
	   "outputs": [],
"source": [
"//A Textbook of Chemical Engineering Thermodynamics\n",
"//Chapter 9\n",
"//Chemical Reaction Equilibria\n",
"//Example 12\n",
"\n",
"\n",
"clear;\n",
"clc;\n",
"\n",
"\n",
"//Given:\n",
"//M polymerises to Mn, n>1\n",
"P1 = 1; //pressure (bar)\n",
"P2 = 2; //(bar)\n",
"x1 = 0.15; //mol fraction of polymer at 1 bar\n",
"x2 = 0.367; //mol fraction of polymer at 2 bar\n",
"\n",
"//To find the value of n\n",
"\n",
"//(a)\n",
"//The given subpart is theoreical and does not involve any numerical computation\n",
"\n",
"//(b)\n",
"//K1 = x1/(1-x1)^n = K*P1^n-1\n",
"//K2 = x2/(1-x2)^n = K*P2^n-1\n",
"//Dividing the above equations and taking log on both sides\n",
"//(n-1)log 2 = log(x2/x1)+nlog(1-x1/1-x2)\n",
"\n",
"n = round((log(x2/x1)+log(2))/(log(2)-log((1-x1)/(1-x2))));\n",
"mprintf('The value of n is %i',n);\n",
"\n",
"//end"
   ]
   }
,
{
		   "cell_type": "markdown",
		   "metadata": {},
		   "source": [
			"## Example 9.13: To_determine_the_percent_conversion.sce"
		   ]
		  },
  {
"cell_type": "code",
	   "execution_count": null,
	   "metadata": {
	    "collapsed": true
	   },
	   "outputs": [],
"source": [
"//A Textbook of Chemical Engineering Thermodynamics\n",
"//Chapter 9\n",
"//Chemical Reaction Equilibria\n",
"//Example 13\n",
"\n",
"\n",
"clear;\n",
"clc;\n",
"\n",
"\n",
"//Given:\n",
"//Reaction: N2 + 3H2 --> 2NH3\n",
"K = 2*10^-4; //equilibrium constant of reaction\n",
"\n",
"//To determine the percent conversion:\n",
"\n",
"//Basis:\n",
"//1 mole nitrogen and 3 moles of hydrogen in the reactant mixture\n",
"//Let e be the extent of reaction\n",
"//Using eq. 9.3 (Page no. 400)\n",
"//mol fraction of nitrogen is (1-e)/(4-2e)\n",
"//mol fraction of hydrogen is (3-3e)/(4-2e)\n",
"//mol fraction of ammonia is 2e/(4-2e)\n",
"//so, ([2e/(4-2e)]^2)/[(1-e)/(4-2e)][3(1-e)/(4-2e)]^3 = K*P^2\n",
"\n",
"//(a)\n",
"P = 20; //(bar)\n",
"//e(4-2e)/(1-e)^2 = 0.73485\n",
"e = poly(0,'e');\n",
"f = 2.73845*e^2 - 5.4697*e + 0.73485;\n",
"x = roots(f);\n",
"mprintf('(a) Percentage conversion is %f percent',x(2)*100);\n",
"\n",
"\n",
"//(b)\n",
"P = 200; //(bar)\n",
"//e(4-2e)/(1-e)^2 = 7.3485\n",
"e = poly(0,'e');\n",
"f = 9.3485*e^2 - 18.697*e + 7.3485;\n",
"x = roots(f);\n",
"mprintf('\n\n (b) Percentage conversion is %f percent',x(2)*100);\n",
"\n",
"//end"
   ]
   }
,
{
		   "cell_type": "markdown",
		   "metadata": {},
		   "source": [
			"## Example 9.14: To_calculate_fractional_dissociation_of_steam.sce"
		   ]
		  },
  {
"cell_type": "code",
	   "execution_count": null,
	   "metadata": {
	    "collapsed": true
	   },
	   "outputs": [],
"source": [
"//A Textbook of Chemical Engineering Thermodynamics\n",
"//Chapter 9\n",
"//Chemical Reaction Equilibria\n",
"//Example 14\n",
"\n",
"\n",
"clear;\n",
"clc;\n",
"\n",
"\n",
"//Given:\n",
"//Reaction: CO(g) + H2O(g) --> CO2(g) + H2(g)\n",
"K = 1; //equilibrium constant for reaction\n",
"\n",
"//Mole fraction of components:\n",
"//CO: (1-e)/2\n",
"//H2O: (1-e)/2\n",
"//CO2: e/2\n",
"//H2: e/2\n",
"\n",
"//To calculate fractional dissociation of steam\n",
"\n",
"//(a).\n",
"//(e/2)(e/2)/[(1-e)/2][(1-e)/2] = K\n",
"//Solving we get:\n",
"e = 1/2;\n",
"mprintf('(a) Fractional dissociation of steam is %i percent',e*100);\n",
"\n",
"//(b). If reactant stream is diluted with 2 mol nitrogen\n",
"//Mole fraction of components\n",
"//CO: (1-e)/4\n",
"//H20: (1-e)/4\n",
"//CO2: e/4\n",
"//H2: e/4\n",
"\n",
"//so, K = (e/4)(e/4)/[(1-e)/4][(1-e)/4]\n",
"//On solving we get\n",
"e = 1/2;\n",
"mprintf('\n\n (b) After dilution fractional distillation of steam is %i percent',e*100);\n",
"\n",
"//end"
   ]
   }
,
{
		   "cell_type": "markdown",
		   "metadata": {},
		   "source": [
			"## Example 9.15: To_determine_conversion_of_nitrogen_affected_by_argon.sce"
		   ]
		  },
  {
"cell_type": "code",
	   "execution_count": null,
	   "metadata": {
	    "collapsed": true
	   },
	   "outputs": [],
"source": [
"//A Textbook of Chemical Engineering Thermodynamics\n",
"//Chapter 9\n",
"//Chemical Reaction Equilibria\n",
"//Example 15\n",
"\n",
"\n",
"clear;\n",
"clc;\n",
"\n",
"\n",
"//Given:\n",
"//Reaction: N2 + 3H2 --> 2NH3\n",
"K = 2*10^-4; //equilibrium constant of reaction\n",
"P = 20; //pressure in bar\n",
"\n",
"//To determine conversion of nitrogen affected by argon\n",
"\n",
"//Mole fraction of components\n",
"//Nitrogen: (1-e)/(6-2e)\n",
"//Hydrogen: 3(1-e)/(6-2e)\n",
"//Ammonia: 2e/(6-2e)\n",
"\n",
"//[2e/(6-2e)]^2/[(1-e)/(6-2e)][3(1-e)/(6-2e)]^3 = K*P^2\n",
"//e(3-e)/(1-e)^2 = 0.3674\n",
"\n",
"e = poly(0,'e');\n",
"f = 1.3674*e^2 - 3.7348*e + 0.3674;\n",
"x = roots(f);\n",
"mprintf('Percentage coversion in presence of argon is %f percent',x(2)*100);\n",
"mprintf('\n while in absence of argon is 14.48 percent'); //From example 9.13\n",
"\n",
"//end"
   ]
   }
,
{
		   "cell_type": "markdown",
		   "metadata": {},
		   "source": [
			"## Example 9.16: To_calculate_the_fractional_dissociation_of_steam.sce"
		   ]
		  },
  {
"cell_type": "code",
	   "execution_count": null,
	   "metadata": {
	    "collapsed": true
	   },
	   "outputs": [],
"source": [
"//A Textbook of Chemical Engineering Thermodynamics\n",
"//Chapter 9\n",
"//Chemical Reaction Equilibria\n",
"//Example 16\n",
"\n",
"\n",
"clear;\n",
"clc;\n",
"\n",
"\n",
"//Given:\n",
"//Reaction: CO(g) + H2O(g) --> CO2(g) + H2(g)\n",
"P = 1; //pressure in bar\n",
"K = 1; //equilibrium constant of reaction\n",
"\n",
"//To calculate the fractional dissociation of steam\n",
"//Basis: 1 mole water vapour present in reactant stream\n",
"//Let e be the extent of reaction\n",
"\n",
"//(a). CO supplied is 100% in excess of the stoichiometric requirement\n",
"//Mole fraction of components:\n",
"//CO: (2-e)/3\n",
"//H20: (1-e)/3\n",
"//CO2: e/3\n",
"//H2: e/3\n",
"\n",
"//e^2/{(1-e)(2-e)] = K = 1, so\n",
"//3e-2 = 0;\n",
"e = 2/3;\n",
"mprintf('(a). The conversion of steam is %f percent',e*100);\n",
"\n",
"//(b). CO supplied is only 50% of the theoretical requirement\n",
"//Mole fraction of components\n",
"//CO: (0.5-e)/1.5\n",
"//H20: (1-e)/1.5\n",
"//CO2: e/1.5\n",
"//H2: e/1.5\n",
"\n",
"//e^2/[(0.5-e)(1-e)] = K = 1\n",
"//1.5e-0.5 = 1\n",
"e = 0.5/1.5;\n",
"mprintf('\n\n (b). Percentage conversion of steam is %f percent',e*100);\n",
"\n",
"//end"
   ]
   }
,
{
		   "cell_type": "markdown",
		   "metadata": {},
		   "source": [
			"## Example 9.17: To_calculate_the_fractional_distillation_of_steam.sce"
		   ]
		  },
  {
"cell_type": "code",
	   "execution_count": null,
	   "metadata": {
	    "collapsed": true
	   },
	   "outputs": [],
"source": [
"//A Textbook of Chemical Engineering Thermodynamics\n",
"//Chapter 9\n",
"//Chemical Reaction Equilibria\n",
"//Example 17\n",
"\n",
"\n",
"clear;\n",
"clc;\n",
"\n",
"\n",
"//Given:\n",
"//Reaction: CO(g) + H2O(g) --> CO2(g) + H2(g)\n",
"//Mixture contains 1 mol CO, 1 mol H20 and 1 mol CO2 initially\n",
"K = 1; //equilibrium constant of reaction\n",
"\n",
"//To calculate the fractional distillation of steam\n",
"\n",
"//Mole fraction of components at equilibrium\n",
"//CO: (1-e)/3\n",
"//H2O: (1-e)/3\n",
"//CO2: (1+e)/3\n",
"//H2: e/3\n",
"\n",
"//[e(1+e)]/[(1-e)^2] = K = 1\n",
"//3e-1 = 0\n",
"e = 1/3;\n",
"mprintf('Percentage conversion of steam is %f percent',e*100);\n",
"\n",
"//end"
   ]
   }
,
{
		   "cell_type": "markdown",
		   "metadata": {},
		   "source": [
			"## Example 9.18: To_evaluate_the_percent_conversion_of_CO.sce"
		   ]
		  },
  {
"cell_type": "code",
	   "execution_count": null,
	   "metadata": {
	    "collapsed": true
	   },
	   "outputs": [],
"source": [
"//A Textbook of Chemical Engineering Thermodynamics\n",
"//Chapter 9\n",
"//Chemical Reaction Equilibria\n",
"//Example 18\n",
"\n",
"\n",
"clear;\n",
"clc;\n",
"\n",
"\n",
"//Given:\n",
"//Reaction: CO(g) + 2H2(g) --> CH3OH(g)\n",
"Kf = 4.9*10^-5;\n",
"Kfi = 0.35;\n",
"P = 300; //pressure in bar\n",
"\n",
"//To evaluate the percent conversion of CO\n",
"//Basis: 100 moles of initial gas mixture\n",
"n_CO = 25;\n",
"n_H2 = 55;\n",
"n_inert = 20;\n",
"v = -1-2+1; //change in number of moles in reaction\n",
"\n",
"//Mole fractions in the equilibrium mixture\n",
"//CO = (25-e)/(100-2e)\n",
"//H2 = (55-2e)/(100-2e)\n",
"//CH3OH = e/(100-2e)\n",
"\n",
"Ky = (Kf/Kfi)*P^(-v);\n",
"//[e/(100-2e)]/[(25-e)/(100-2e)][(55-2e)/(100-2e)]^2 = Ky, so\n",
"\n",
"e = poly(0,'e');\n",
"f = (4+4*Ky)*e^3 - (400+320*Ky)*e^2 + (10000+8525*Ky)*e - 75625*Ky\n",
"x = roots(f);\n",
"\n",
"conv = x(3)/n_CO; //first two roots are complex\n",
"mprintf('Percentage conversion of CO is %f percent',conv*100);\n",
"\n",
"//end"
   ]
   }
,
{
		   "cell_type": "markdown",
		   "metadata": {},
		   "source": [
			"## Example 9.19: To_determine_the_composition_of_gases_leaving_the_reactor.sce"
		   ]
		  },
  {
"cell_type": "code",
	   "execution_count": null,
	   "metadata": {
	    "collapsed": true
	   },
	   "outputs": [],
"source": [
"//A Textbook of Chemical Engineering Thermodynamics\n",
"//Chapter 9\n",
"//Chemical Reaction Equilibria\n",
"//Example 19\n",
"\n",
"\n",
"clear;\n",
"clc;\n",
"\n",
"\n",
"//Given:\n",
"//Reaction: 1/2N2 + 3/2H2 --> NH3\n",
"Kp = 1.25*10^-2 ;//equilibrium constant\n",
"P = 50; //pressure in bar\n",
"v = 1-(3/2)-(1/2); //change in number of moles in reaction\n",
"\n",
"//Initial composition of gas mixture\n",
"n_h = 60;\n",
"n_n = 20;\n",
"n_inert = 100-n_h-n_n;\n",
"\n",
"//To determine the composition of gases leaving the reactor\n",
"//Mole fractions in the equilibrium mixture\n",
"//N2: [20-(e/2)]/(100-e)\n",
"//H2: [60-(3e/2)]/(100-e)\n",
"//NH3: e/(100-e)\n",
"\n",
"Ky = Kp*(P^-v);\n",
"//e/(100-e)/[(20-(e/2)]^1/2[{60-(3e/2)}/(100-e)]^3/2 = Ky\n",
"\n",
"e = poly(0,'e');\n",
"f = (1.6875*Ky^2-1)*e^4 - (270*Ky^2+200)*e^3 + (16200*Ky^2-10000)*e^2 - (334800*Ky^2)*e + 4320000*Ky^2;\n",
"x = roots(f);\n",
"e = x(4);\n",
"\n",
"//x(4) being the only positive root is the percentage conversion\n",
"//Mole fractions in equilibrium mixture\n",
"x_n = (20-(e/2))/(100-e);\n",
"x_h = (60-3*(e/2))/(100-e);\n",
"x_a = e/(100-e);\n",
"x_inert = 1 - x_n - x_h - x_a;\n",
"\n",
"mprintf('Composition of gas leaving the reactor is');\n",
"mprintf('\n Nitrogen  : %f percent',x_n*100);\n",
"mprintf('\n Hydrogen  : %f percent',x_h*100);\n",
"mprintf('\n Ammonia   : %f percent',x_a*100);\n",
"mprintf('\n Inert gas : %f percent',x_inert*100);\n",
"\n",
"//end"
   ]
   }
,
{
		   "cell_type": "markdown",
		   "metadata": {},
		   "source": [
			"## Example 9.1: Theoretical_problem.sce"
		   ]
		  },
  {
"cell_type": "code",
	   "execution_count": null,
	   "metadata": {
	    "collapsed": true
	   },
	   "outputs": [],
"source": [
"//A Textbook of Chemical Engineering Thermodynamics\n",
"//Chapter 9\n",
"//Chemical Reaction Equilibria\n",
"//Example 1\n",
"\n",
"\n",
"clear;\n",
"clc;\n",
"\n",
"\n",
"//Given:\n",
"\n",
"//The given example is theoretical and does not involve any numerical computation\n",
"\n",
"//end"
   ]
   }
,
{
		   "cell_type": "markdown",
		   "metadata": {},
		   "source": [
			"## Example 9.20: To_evaluate_the_equilibrium_constant.sce"
		   ]
		  },
  {
"cell_type": "code",
	   "execution_count": null,
	   "metadata": {
	    "collapsed": true
	   },
	   "outputs": [],
"source": [
"//A Textbook of Chemical Engineering Thermodynamics\n",
"//Chapter 9\n",
"//Chemical Reaction Equilibria\n",
"//Example 20\n",
"\n",
"\n",
"clear;\n",
"clc;\n",
"\n",
"\n",
"//Given:\n",
"//Reaction: C2H4(g) + H2O(l) --> C2H5OH(aq)\n",
"P = 85; //pressure in bar\n",
"n_e = 0.015; //mol percent of ethanol\n",
"n_w = 0.95; //mole percent of water\n",
"n_a = 0.48; //mol percent of ethylene in vapour phase\n",
"M = 18; //molecular mass of water\n",
"fc = 0.9; //fugacity coeffecient for ethylene\n",
"\n",
"//To evaluate the equilibrium constant\n",
"//K = a_c/(a_a*a_b)\n",
"\n",
"m_e = n_e/(n_w*M*10^-3); //mol/kg water\n",
"a_c = m_e;\n",
"fa = fc*n_a*P; //bar\n",
"a_a = fa;\n",
"\n",
"//Since mol fraction of water is close to unity, so fugacity coeffecient of water is assumed to be 1\n",
"a_b = n_w;\n",
"K = a_c/(a_a*a_b);\n",
"mprintf('The equilibrium constant is %5.4e (mol C2H4)/(kg water bar)',K);\n",
"\n",
"//end"
   ]
   }
,
{
		   "cell_type": "markdown",
		   "metadata": {},
		   "source": [
			"## Example 9.21: To_calculate_the_decomposition_pressure_and_temperature_at_1_bar.sce"
		   ]
		  },
  {
"cell_type": "code",
	   "execution_count": null,
	   "metadata": {
	    "collapsed": true
	   },
	   "outputs": [],
"source": [
"//A Textbook of Chemical Engineering Thermodynamics\n",
"//Chapter 9\n",
"//Chemical Reaction Equilibria\n",
"//Example 21\n",
"\n",
"\n",
"clear;\n",
"clc;\n",
"\n",
"\n",
"//Given:\n",
"//Reaction: CaCO3(s) --> CaO(s) + CO2(g)\n",
"T = 1000; //temperature of reaction in K\n",
"P = 1; //pressure in bar\n",
"R = 8.314; //ideal gas constant\n",
"\n",
"//Function for standard free energy of the reaction\n",
"function [y] = G(T)\n",
"    y = 1.8856*10^5 - 243.42*T + 11.8478*T*log(T) - 3.1045*10^-3*T^2 + 1.7271*10^-6*T^3 - (4.1784*10^5)/T\n",
"endfunction\n",
"\n",
"//To calculate the decomposition pressure and temperaure at 1 bar\n",
"Go = G(T);\n",
"K = %e^(-Go/(R*T));\n",
"//Using eq. 9.75 (Page no. 432)\n",
"p_CO2 = K; //decomposition pressure\n",
"mprintf('Decomposition pressure of limestone at 1000 K s %f bar',p_CO2);\n",
"\n",
"//At pressure = 1 bar\n",
"K = 1;\n",
"Go = 0; //since K = 1\n",
"\n",
"T = 1160; //assumed temperature (K)\n",
"flag = 1;\n",
"while(flag==1)\n",
"    res = round(G(T));\n",
"    if(res<=0)\n",
"        flag = 0;\n",
"    else\n",
"        T = T+1;\n",
"    end\n",
"end\n",
"mprintf('\nDecomposition temperature at 1 bar is %i K',T);\n",
"\n",
"//end"
   ]
   }
,
{
		   "cell_type": "markdown",
		   "metadata": {},
		   "source": [
			"## Example 9.22: To_evaluate_wt_of_iron_produced_per_100_cubic_m_of_gas_admitted.sce"
		   ]
		  },
  {
"cell_type": "code",
	   "execution_count": null,
	   "metadata": {
	    "collapsed": true
	   },
	   "outputs": [],
"source": [
"//A Textbook of Chemical Engineering Thermodynamics\n",
"//Chapter 9\n",
"//Chemical Reaction Equilibria\n",
"//Example 22\n",
"\n",
"\n",
"clear;\n",
"clc;\n",
"\n",
"\n",
"//Given:\n",
"//Reaction: FeO(s) + CO(g) --> Fe(s) + CO2(g)\n",
"K = 0.403; //equilibrium constant of reaction\n",
"T = 1200; //temperature of reaction (K)\n",
"To = 273; //standard temperature (K)\n",
"Vo = 22.4*10^-3; //molar volume at STP \n",
"M = 55.8; //molecular mass of iron\n",
"\n",
"//To calculate wt of iron produced per 100 m^3 of gas admitted\n",
"//Basis: 100 mol of gas entering\n",
"n = 100; //moles of gas entering\n",
"n_C = 20; //moles of carbon mono oxide\n",
"n_N = 80; //moles of nitrogen\n",
"\n",
"//Let e be the extent of reaction\n",
"//Mole fractions in equilibrium mixture\n",
"//CO = (20-e)/100\n",
"//CO2 = e/100\n",
"//e/(20-e) = K\n",
"e = (20*K)/(1+K);\n",
"n_CO2 = e; //moles of CO2 at equilibrium\n",
"n_Fe = n_CO2; //by stoichiometry\n",
"V = (n*Vo*T)/To; //volume of 100 mol of gas at 1200 K and 1 bar\n",
"\n",
"//Let m be iron produced per 100 m^3 gas\n",
"m = (n_Fe*100*M)/V;\n",
"mprintf('Iron produced per 100 cubic m of gas is %f kg',m/1000);\n",
"\n",
"//end"
   ]
   }
,
{
		   "cell_type": "markdown",
		   "metadata": {},
		   "source": [
			"## Example 9.23: To_calculate_the_composition_at_equilibrium_assuming_ideal_behaviour.sce"
		   ]
		  },
  {
"cell_type": "code",
	   "execution_count": null,
	   "metadata": {
	    "collapsed": true
	   },
	   "outputs": [],
"source": [
"//A Textbook of Chemical Engineering Thermodynamics\n",
"//Chapter 9\n",
"//Chemical Reaction Equilibria\n",
"//Example 23\n",
"\n",
"\n",
"clear;\n",
"clc;\n",
"\n",
"\n",
"//Given:\n",
"P = 1; //pressure in bar\n",
"K1 = 0.574; //equilibrium constant for eq. 9.88 (Page no. 437)\n",
"K2 = 2.21; //equilibrium constant for eq. 9.89 (Page no. 437)\n",
"\n",
"//To calculate the composition at equilibrium assuming ideal behaviour\n",
"//Let e1 and e2 be the extent of first and second reactions\n",
"\n",
"v1 = 1+3-1-1;\n",
"v2 = 1+1-1-1;\n",
"Ky1 = K1*P^-v1;\n",
"Ky2 = K2*P^-v2;\n",
"\n",
"//mole fractions in equilibrium mixture are:\n",
"//CH4: (1-e1)/(6+2e1)\n",
"//H2O: (5-e1-e2)/(6+2e1)\n",
"//CO: (e1-e2)/(6+2e1)\n",
"//H2: (3e1+e2)/(6+2e1)\n",
"//CO2: e2/(6+2e1)\n",
"\n",
"//For 1st reaction:\n",
"//Ky1 = [(e1-e2)(3e1+e2)^3]/[(1-e1)(5-e1-e2)(6+2e1)^2]\n",
"//For 2nd reaction:\n",
"//Ky2 = [e2(3e1+e2)]/[(e1-e2)(5-e1-e2)]\n",
"//on solving, we get:\n",
"deff('[y] = f2(e)',['f_1 = [(e(1)-e(2))*(3*e(1)+e(2))^3]/[(1-e(1))*(5-e(1)-e(2))*(6+2*e(1))^2]-Ky1','f_2 = [e(2)*(3*e(1)+e(2))]/[(e(1)-e(2))*(5-e(1)-e(2))]-Ky2','y = [f_1;f_2]'])\n",
"eo = [0.9 0.6]; //initial guesses\n",
"[e,fes,m] = fsolve(eo',f2);\n",
"\n",
"//Mole fraction of components:\n",
"n_m = (1-e(1))/(6+2*e(1));\n",
"n_w = (5-e(1)-e(2))/(6+2*e(1));\n",
"n_CO = (e(1)-e(2))/(6+2*e(1));\n",
"n_h = (3*e(1)+e(2))/(6+2*e(1));\n",
"n_c = e(2)/(6+2*e(1));\n",
"\n",
"mprintf('Mole fraction of the components are:');\n",
"mprintf('\n Methane = %f',n_m);\n",
"mprintf('\n Water = %f',n_w);\n",
"mprintf('\n Carbon monoxide = %f', n_CO);\n",
"mprintf('\n Hydrogen = %f',n_h);\n",
"mprintf('\n Carbon dioxide = %f',n_c);\n",
"\n",
"//end"
   ]
   }
,
{
		   "cell_type": "markdown",
		   "metadata": {},
		   "source": [
			"## Example 9.24: To_determine_the_number_of_degrees_of_freedom.sce"
		   ]
		  },
  {
"cell_type": "code",
	   "execution_count": null,
	   "metadata": {
	    "collapsed": true
	   },
	   "outputs": [],
"source": [
"//A Textbook of Chemical Engineering Thermodynamics\n",
"//Chapter 9\n",
"//Chemical Reaction Equilibria\n",
"//Example 24\n",
"\n",
"\n",
"clear;\n",
"clc;\n",
"\n",
"\n",
"//Given:\n",
"//A system consisting of CO, CO2, H2, H2O, CH4\n",
"\n",
"//To determine the number of degrees of freedom\n",
"\n",
"//Formation reactions for each of compounds is written\n",
"//a. C + 1/2O2 --> CO\n",
"//b. C + O2 --> CO2\n",
"//c. H2 + 1/2O2 --> H2O\n",
"//d. C + 2H2 --> CH4\n",
"\n",
"//Elements C and O2 are not present, so they are to be eliminated\n",
"//Combining a and b\n",
"//e. CO2 --> CO + 1/2O2\n",
"\n",
"//Combining a and d\n",
"//f. CH4 + 1/2O2 --> CO + 2H2\n",
"\n",
"//Combining c and e\n",
"//g. CO2 + H2 --> CO + H2O\n",
"\n",
"//Combining c and f\n",
"//h. 3H2 + CO --> CH4 + H2O\n",
"\n",
"//Equations g and h represent independent chemical reactions, so\n",
"r = 2;\n",
"C = 5; //no. of components\n",
"pi = 1; //no. of phases\n",
"\n",
"//From eq. 9.90 (Page no. 438)\n",
"F = C-pi-r+2;\n",
"mprintf('The number of degrees of freedom are %i',F);\n",
"\n",
"//end"
   ]
   }
,
{
		   "cell_type": "markdown",
		   "metadata": {},
		   "source": [
			"## Example 9.2: Theoretical_problem.sce"
		   ]
		  },
  {
"cell_type": "code",
	   "execution_count": null,
	   "metadata": {
	    "collapsed": true
	   },
	   "outputs": [],
"source": [
"//A Textbook of Chemical Engineering Thermodynamics\n",
"//Chapter 9\n",
"//Chemical Reaction Equilibria\n",
"//Example 2\n",
"\n",
"\n",
"clear;\n",
"clc;\n",
"\n",
"\n",
"//Given:\n",
"\n",
"//The given example is theoretical and does not involve any numerical computation\n",
"\n",
"//end"
   ]
   }
,
{
		   "cell_type": "markdown",
		   "metadata": {},
		   "source": [
			"## Example 9.3: Theoretical_problem.sce"
		   ]
		  },
  {
"cell_type": "code",
	   "execution_count": null,
	   "metadata": {
	    "collapsed": true
	   },
	   "outputs": [],
"source": [
"//A Textbook of Chemical Engineering Thermodynamics\n",
"//Chapter 9\n",
"//Chemical Reaction Equilibria\n",
"//Example 3\n",
"\n",
"\n",
"clear;\n",
"clc;\n",
"\n",
"\n",
"//Given:\n",
"\n",
"//The given example is theoretical and does not involve any numerical computation\n",
"\n",
"//end"
   ]
   }
,
{
		   "cell_type": "markdown",
		   "metadata": {},
		   "source": [
			"## Example 9.4: Theoretical_problem.sce"
		   ]
		  },
  {
"cell_type": "code",
	   "execution_count": null,
	   "metadata": {
	    "collapsed": true
	   },
	   "outputs": [],
"source": [
"//A Textbook of Chemical Engineering Thermodynamics\n",
"//Chapter 9\n",
"//Chemical Reaction Equilibria\n",
"//Example 4\n",
"\n",
"\n",
"clear;\n",
"clc;\n",
"\n",
"\n",
"//Given:\n",
"\n",
"//The given example is theoretical and does not involve any numerical computation\n",
"\n",
"//end"
   ]
   }
,
{
		   "cell_type": "markdown",
		   "metadata": {},
		   "source": [
			"## Example 9.5: Theoretical_problem.sce"
		   ]
		  },
  {
"cell_type": "code",
	   "execution_count": null,
	   "metadata": {
	    "collapsed": true
	   },
	   "outputs": [],
"source": [
"//A Textbook of Chemical Engineering Thermodynamics\n",
"//Chapter 9\n",
"//Chemical Reaction Equilibria\n",
"//Example 5\n",
"\n",
"\n",
"clear;\n",
"clc;\n",
"\n",
"\n",
"//Given:\n",
"\n",
"//The given example is theoretical and does not involve any numerical computation\n",
"\n",
"//end"
   ]
   }
,
{
		   "cell_type": "markdown",
		   "metadata": {},
		   "source": [
			"## Example 9.6: To_calculate_equilibrium_constant.sce"
		   ]
		  },
  {
"cell_type": "code",
	   "execution_count": null,
	   "metadata": {
	    "collapsed": true
	   },
	   "outputs": [],
"source": [
"//A Textbook of Chemical Engineering Thermodynamics\n",
"//Chapter 9\n",
"//Chemical Reaction Equilibria\n",
"//Example 6\n",
"\n",
"\n",
"clear;\n",
"clc;\n",
"\n",
"\n",
"//Given:\n",
"Go_reac = 97540; //standard free energy of formation of reactant (J/mol)\n",
"Go_pdt = 51310; //standard free energy of formation of product (J/mol)\n",
"R = 8.314; //ideal gas constant\n",
"T = 298; //temperature (K)\n",
"//Reaction: N2O4(g) --> 2NO2(g)\n",
"\n",
"//To calculate equilibrium constant\n",
"//Using eq. 9.50 (Page no.413)\n",
"Go = 2*Go_pdt - Go_reac;\n",
"\n",
"//Using eq. 9.31 (Page no. 406)\n",
"K = %e^(-Go/(R*T));\n",
"mprintf('The equilbrium constant %f',K);\n",
"\n",
"//end"
   ]
   }
,
{
		   "cell_type": "markdown",
		   "metadata": {},
		   "source": [
			"## Example 9.7: To_calculate_equilibrium_constant_at_500_K.sce"
		   ]
		  },
  {
"cell_type": "code",
	   "execution_count": null,
	   "metadata": {
	    "collapsed": true
	   },
	   "outputs": [],
"source": [
"//A Textbook of Chemical Engineering Thermodynamics\n",
"//Chapter 9\n",
"//Chemical Reaction Equilibria\n",
"//Example 6\n",
"\n",
"\n",
"clear;\n",
"clc;\n",
"\n",
"\n",
"//Given:\n",
"T1 = 298; //temperature in K\n",
"Hf = -46100; //standard heat of formation (J/mol)\n",
"Go = -16500; //standard free energy change (J/mol)\n",
"R = 8.314; //ideal gas constant\n",
"T = 500; \n",
"//Reaction: N2(g) + 3H2(g) --> 2NH3(g)\n",
"\n",
"//To calculate the equilibrium constant at 500 K\n",
"//Using eq. 9.50 (Page no. 413)\n",
"del_Go = 2*Go;\n",
"\n",
"//Using eq. 9.31 (Page no. 406)\n",
"K1 = %e^(-del_Go/(R*T1)); //equilibrium const at 298 K\n",
"Ho = 2*Hf; //standard heat of reaction\n",
"\n",
"//Using eq. 9.37 (Page no. 411)\n",
"K = K1*(%e^((-Ho/R)*(1/T - 1/T1)));\n",
"mprintf('The equilibrium constant at 500 K is %f',K);\n",
"\n",
"//end"
   ]
   }
,
{
		   "cell_type": "markdown",
		   "metadata": {},
		   "source": [
			"## Example 9.8: To_alculate_standard_free_energy_change_and_heat_of_formation.sce"
		   ]
		  },
  {
"cell_type": "code",
	   "execution_count": null,
	   "metadata": {
	    "collapsed": true
	   },
	   "outputs": [],
"source": [
"//A Textbook of Chemical Engineering Thermodynamics\n",
"//Chapter 9\n",
"//Chemical Reaction Equilibria\n",
"//Example 8\n",
"\n",
"\n",
"clear;\n",
"clc;\n",
"\n",
"\n",
"//Given:\n",
"R = 8.314; //ideal gas constant\n",
"T2 = 317; //temperature in K\n",
"T1 = 391; //(K)\n",
"x2 = 0.31; //mol fraction of n-butane at 317 K\n",
"x1 = 0.43; //mol fraction of iso-butane at 391 K\n",
"\n",
"//To calculate standard free energy change and heat of reaction\n",
"//At 317 K\n",
"K2 = (1-x2)/x2; //equilibrium constant at 317 K\n",
"K1 = (1-x1)/x1; //equilibrium constant at 391 K\n",
"\n",
"//Using eq. 9.31 (Page no. 406)\n",
"//Standard free energy change\n",
"G2 = -R*T2*log(K2); //at 317 K (J/mol)\n",
"G1 = -R*T1*log(K1); //at 391 K (J/mol)\n",
"\n",
"//Using eq. 9.37 (Page no. 411)\n",
"Ho = -log(K2/K1)*R/(1/T2 - 1/T1);\n",
"\n",
"mprintf('Standard free energy change of the reaction');\n",
"mprintf('\n At 317 K is %f J/mol',G2);\n",
"mprintf('\n At 391 K is %f J/mol',G1);\n",
"mprintf('\n Average value of heat of reaction is %f J/mol',Ho);\n",
"\n",
"//end"
   ]
   }
,
{
		   "cell_type": "markdown",
		   "metadata": {},
		   "source": [
			"## Example 9.9: To_estimate_free_energy_change_and_equilibrium_constant_at_700_K.sce"
		   ]
		  },
  {
"cell_type": "code",
	   "execution_count": null,
	   "metadata": {
	    "collapsed": true
	   },
	   "outputs": [],
"source": [
"//A Textbook of Chemical Engineering Thermodynamics\n",
"//Chapter 9\n",
"//Chemical Reaction Equilibria\n",
"//Example 9\n",
"\n",
"\n",
"clear;\n",
"clc;\n",
"\n",
"\n",
"//Given:\n",
"//Reaction: N2(g) + 3H2(g) --> 2NH3(g)\n",
"To = 298; //temperature in K\n",
"T = 700; //(K)\n",
"R = 8.314; //ideal gas constant\n",
"Hf = -46100; //standard heat of formation (J/mol)\n",
"Gf = -16500; //standard free energy of formtion of ammonia (J/mol)\n",
"\n",
"//Specific heat data\n",
"//Cp = 27.27 + 4.93*10^-3T (for N2)\n",
"//Cp = 27.01 + 3.51*10^-3T (for H2)\n",
"//Cp = 29.75 + 25.11*10^-3T (for NH3)\n",
"\n",
"//To estimate free energy change and equilirium constant at 700 K\n",
"Ho = 2*Hf;\n",
"Go = 2*Gf;\n",
"alpha = 2*29.75 - 27.27 - 3*27.01;\n",
"betta = (2*25.11 - 4.93 - 3*3.51)*10^-3;\n",
"\n",
"//Using eq. 9.46 (Page no. 412)\n",
"del_H = Ho - alpha*To - (betta/2)*To^2;\n",
"//Using eq. 9.48 (Page no. 413)\n",
"A = -(Go - del_H + alpha*To*log(To) + (betta/2)*To^2)/(R*To);\n",
"\n",
"//Using eq. 9.47 and 9.48 (Page no. 412)\n",
"K = %e^((-del_H/(R*T)) + (alpha/R)*log(T) + (betta/(2*R))*T + A);\n",
"G = del_H - alpha*T*log(T) -(betta/2)*T^2 - A*R*T;\n",
"\n",
"mprintf('At 700 K');\n",
"mprintf('\n Equilibrium constant is %3.2e',K);\n",
"mprintf('\n Standard free energy change is %f J/mol',G);\n",
"\n",
"//end"
   ]
   }
],
"metadata": {
		  "kernelspec": {
		   "display_name": "Scilab",
		   "language": "scilab",
		   "name": "scilab"
		  },
		  "language_info": {
		   "file_extension": ".sce",
		   "help_links": [
			{
			 "text": "MetaKernel Magics",
			 "url": "https://github.com/calysto/metakernel/blob/master/metakernel/magics/README.md"
			}
		   ],
		   "mimetype": "text/x-octave",
		   "name": "scilab",
		   "version": "0.7.1"
		  }
		 },
		 "nbformat": 4,
		 "nbformat_minor": 0
}
