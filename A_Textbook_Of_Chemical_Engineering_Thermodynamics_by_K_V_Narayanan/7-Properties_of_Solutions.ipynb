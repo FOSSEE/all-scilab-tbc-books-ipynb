{
"cells": [
 {
		   "cell_type": "markdown",
	   "metadata": {},
	   "source": [
       "# Chapter 7: Properties of Solutions"
	   ]
	},
{
		   "cell_type": "markdown",
		   "metadata": {},
		   "source": [
			"## Example 7.10: To_estimate_the_solubility_of_oxygen_in_water_at_298_K.sce"
		   ]
		  },
  {
"cell_type": "code",
	   "execution_count": null,
	   "metadata": {
	    "collapsed": true
	   },
	   "outputs": [],
"source": [
"//A Textbook of Chemical Engineering Thermodynamics\n",
"//Chapter 7\n",
"//Properties of Solutions\n",
"//Example 10\n",
"\n",
"\n",
"clear;\n",
"clc;\n",
"\n",
"\n",
"//Given:\n",
"K = 4.4*10^4; //Henry's law constant (bar)\n",
"pp = 0.25; //partial pressure of oxygen in bar\n",
"M_O2 = 32; //molecular wt of oxygen\n",
"M_water = 18; //molecular wt of water\n",
"\n",
"//To estimate the solubility of oxygen in water at 298 K\n",
"//Using eq. 7.72 (Page no. 275)\n",
"x_O2 = pp/K; //mole fraction of O2\n",
"mprintf('Solubility of oxygen is %5.4e moles per mole of water',x_O2);\n",
"\n",
"//In mass units\n",
"sol_O2 = (x_O2*M_O2)/M_water;\n",
"mprintf('\n Solubility of oxygen in mass units is %4.3e kg oxygen per kg water',sol_O2);\n",
"\n",
"//end"
   ]
   }
,
{
		   "cell_type": "markdown",
		   "metadata": {},
		   "source": [
			"## Example 7.11: EX7_11.sce"
		   ]
		  },
  {
"cell_type": "code",
	   "execution_count": null,
	   "metadata": {
	    "collapsed": true
	   },
	   "outputs": [],
"source": [
"//A Textbook of Chemical Engineering Thermodynamics\n",
"//Chapter 7\n",
"//Properties of Solutions\n",
"//Example 11\n",
"\n",
"\n",
"clear;\n",
"clc;\n",
"\n",
"\n",
"//Given:\n",
"xb = [0 0.2 0.4 0.6 0.8 1.0];\n",
"pa_bar = [0.457 0.355 0.243 0.134 0.049 0];\n",
"pb_bar = [0 0.046 0.108 0.187 0.288 0.386];\n",
"\n",
"//To confirm mixture conforms to Raoult's Law and to determine Henry's law constant\n",
"clf\n",
"xa = 1-xb;\n",
"plot(xa,pa_bar);\n",
"plot(xa,pb_bar);\n",
"xtitle(' ','Mole fraction of A','Partial Pressure');\n",
"\n",
"//For Raoult's Law plotting\n",
"x = linspace(0,1,6);\n",
"y1 = linspace(0,0.457,6);\n",
"y2 = linspace(0.386,0,6);\n",
"plot2d(x,y1,style=3);\n",
"plot2d(x,y2,style=3);\n",
"\n",
"//For Henry's law plotting\n",
"x = [0 0.2 0.4 0.6 0.8 1.0];\n",
"//Form the partial presures plot of component A and B\n",
"yh1(1) = 0; yh1(2) = 0.049; //For component A\n",
"for i = 3:6\n",
"    yh1(i) = yh1(i-1)+(x(i)-x(i-1))*((yh1(2)-yh1(1))/(x(2)-x(1)));\n",
"end\n",
"\n",
"yh_2(6) = 0; yh_2(5) = 0.046; //For component B\n",
"i = 4;\n",
"while (i~=0)\n",
"    yh_2(i) = yh_2(i+1) + (x(i)-x(i+1))*((yh_2(6)-yh_2(5))/(x(6)-x(5)));\n",
"    i = i-1;\n",
"end\n",
"plot2d(x,yh1,style=6);\n",
"plot2d(x,yh_2,style=6);\n",
"legend('Partial pressure ',' ','Raoults law',' ','Henrys Law');\n",
"\n",
"//(a)\n",
"mprintf('From the graph it can be inferred that, in the region where Raoults law is obeyed by A, the Henrys law is obeyed by B, and vice versa');\n",
"\n",
"//(b)\n",
"//Slope of Henry's law\n",
"mprintf('\n For component A, Ka = %f bar',yh1(6));\n",
"mprintf('\n For component B, Kb = %f bar',yh_2(1));\n",
"\n",
"//end"
   ]
   }
,
{
		   "cell_type": "markdown",
		   "metadata": {},
		   "source": [
			"## Example 7.12: To_calculate_activity_and_activity_coeffecient_of_chloroform.sce"
		   ]
		  },
  {
"cell_type": "code",
	   "execution_count": null,
	   "metadata": {
	    "collapsed": true
	   },
	   "outputs": [],
"source": [
"//A Textbook of Chemical Engineering Thermodynamics\n",
"//Chapter 7\n",
"//Properties of Solutions\n",
"//Example 12\n",
"\n",
"\n",
"clear;\n",
"clc;\n",
"\n",
"\n",
"//Given:\n",
"xa = [0 0.2 0.4 0.6 0.8 1.0];\n",
"Pa_bar = [0 0.049 0.134 0.243 0.355 0.457];\n",
"Pb_bar = [0.386 0.288 0.187 0.108 0.046 0];\n",
"\n",
"//To calculate activity and activity coeffecient of chloroform\n",
"xb = 1-xa;\n",
"Pbo = 0.386; //vapour pressure of pure chloroform\n",
"//(a). Based on standard state as per Lewis-Randall rule\n",
"\n",
"mprintf('Based on Lewis Randall Rule');\n",
"mprintf('\n   Activity          Activity coeffecient');\n",
"for i = 1:6\n",
"    a(i) = Pb_bar(i)/Pbo;\n",
"    mprintf('\n    %f',a(i));\n",
"    if(xb(i)==0)\n",
"        mprintf('         Not defined');\n",
"    else ac(i) = a(i)/xb(i);\n",
"        mprintf('          %f',ac(i));\n",
"    end\n",
"end\n",
"\n",
"//(b). Based on Henry's Law \n",
"Kb = 0.217; //bar (From Example 7.11 Page no. 276)\n",
"\n",
"mprintf('\n\n\n Based on Henrys Law');\n",
"mprintf('\n   Activity         Activity coeffecient');\n",
"for i = 1:6\n",
"    a(i) = Pb_bar(i)/Kb;\n",
"    mprintf('\n    %f',a(i));\n",
"    if(xb(i)==0)\n",
"        mprintf('         Not defined');\n",
"    else\n",
"        ac(i) = a(i)/xb(i);\n",
"        mprintf('           %f',ac(i));\n",
"    end\n",
"end\n",
"\n",
"//end"
   ]
   }
,
{
		   "cell_type": "markdown",
		   "metadata": {},
		   "source": [
			"## Example 7.13: EX7_13.sce"
		   ]
		  },
  {
"cell_type": "code",
	   "execution_count": null,
	   "metadata": {
	    "collapsed": true
	   },
	   "outputs": [],
"source": [
"//A Textbook of Chemical Engineering Thermodynamics\n",
"//Chapter 7\n",
"//Properties of Solutions\n",
"//Example 13\n",
"\n",
"\n",
"clear;\n",
"clc;\n",
"\n",
"\n",
"//Given:\n",
"P = 20; //pressure in bar\n",
"//Function for fugacity of component 1\n",
"function [y] = f1(x1);\n",
"    y = (50*x1)-(80*x1^2)+(40*x1^3)\n",
"endfunction\n",
"\n",
"//To determine fugacity fugacity coeffecient Henry's Law constant and activity coeffecient\n",
"\n",
"//(a)\n",
"//Fugacity of component in solution becomes fugacity of pure component when mole fraction approaches 1 i.e. \n",
"x1 = 1;\n",
"f1_pure = f1(x1);\n",
"mprintf('(a). Fugacity f1 of pure component 1 is %i bar',f1_pure);\n",
"\n",
"//(b)\n",
"phi = f1_pure/P;\n",
"mprintf('\n (b). Fugacity coeffecient is %f',phi);\n",
"\n",
"//(c)\n",
"//Henry's Law constant is lim (f1/x1)and x1 tends to 0 \n",
"x1 = 0;\n",
"K1 = 50 - (80*x1) + (40*x1^2);\n",
"mprintf('\n (c). Henrys Law constant is %i bar',K1);\n",
"\n",
"//(d)\n",
"mprintf('\n (d). This subpart is theoretical and does not involve any numerical computation');\n",
"\n",
"//end"
   ]
   }
,
{
		   "cell_type": "markdown",
		   "metadata": {},
		   "source": [
			"## Example 7.14: Theoretical_problem.sce"
		   ]
		  },
  {
"cell_type": "code",
	   "execution_count": null,
	   "metadata": {
	    "collapsed": true
	   },
	   "outputs": [],
"source": [
"//A Textbook of Chemical Engineering Thermodynamics\n",
"//Chapter 7\n",
"//Properties of Solutions\n",
"//Example 14\n",
"\n",
"\n",
"clear;\n",
"clc;\n",
"\n",
"\n",
"//Given:\n",
"\n",
"//The given example is theoretical and does not involve any numerical computation\n",
"\n",
"//end"
   ]
   }
,
{
		   "cell_type": "markdown",
		   "metadata": {},
		   "source": [
			"## Example 7.15: Theoretical_problem.sce"
		   ]
		  },
  {
"cell_type": "code",
	   "execution_count": null,
	   "metadata": {
	    "collapsed": true
	   },
	   "outputs": [],
"source": [
"//A Textbook of Chemical Engineering Thermodynamics\n",
"//Chapter 7\n",
"//Properties of Solutions\n",
"//Example 15\n",
"\n",
"\n",
"clear;\n",
"clc;\n",
"\n",
"\n",
"//Given:\n",
"\n",
"//The given example is theoretical and does not involve any numerical computation\n",
"\n",
"//end"
   ]
   }
,
{
		   "cell_type": "markdown",
		   "metadata": {},
		   "source": [
			"## Example 7.16: Theoretical_problem.sce"
		   ]
		  },
  {
"cell_type": "code",
	   "execution_count": null,
	   "metadata": {
	    "collapsed": true
	   },
	   "outputs": [],
"source": [
"//A Textbook of Chemical Engineering Thermodynamics\n",
"//Chapter 7\n",
"//Properties of Solutions\n",
"//Example 16\n",
"\n",
"\n",
"clear;\n",
"clc;\n",
"\n",
"\n",
"//Given:\n",
"\n",
"//The given example is theoretical and does not involve any numerical computation\n",
"\n",
"//end"
   ]
   }
,
{
		   "cell_type": "markdown",
		   "metadata": {},
		   "source": [
			"## Example 7.17: To_determine_enthalpies_at_infinite_dilution.sce"
		   ]
		  },
  {
"cell_type": "code",
	   "execution_count": null,
	   "metadata": {
	    "collapsed": true
	   },
	   "outputs": [],
"source": [
"//A Textbook of Chemical Engineering Thermodynamics\n",
"//Chapter 7\n",
"//Properties of Solutions\n",
"//Example 17\n",
"\n",
"\n",
"clear;\n",
"clc;\n",
"\n",
"\n",
"//Given:\n",
"//Function for enthalpy change of mixture\n",
"//H = x1*x2*(40*x1 + 20*x2)\n",
"H1_pure = 400; //enthalpy of pure liquid 1 at 298 K and 1 bar (J/mol)\n",
"H2_pure = 600; //enthalpy of pure liquid 2 (J/mol)\n",
"\n",
"//To determine enthalpies at infinite dilution\n",
"//Using eq. 7.126 and 7.128 (Page no. 294)\n",
"//H1_bar = 20*(1-x1)^2 * (2x1+1)\n",
"//Using eq. 7.127 and 7.128 (Page no. 294)\n",
"//H2_bar = 40*x1^3\n",
"\n",
"//For infinite dilution x1 = 0, delH1_inf = H1_bar\n",
"x1 = 0;\n",
"delH1_inf = 20*((1-x1)^2)*(2*x1+1);\n",
"H1_inf = H1_pure + delH1_inf; //(J/mol)\n",
"\n",
"//For infinite dilution of 2, x1 = 1 and delH2_inf = H2_bar\n",
"x1 = 1;\n",
"delH2_inf = 40*x1^3;\n",
"H2_inf = delH2_inf + H2_pure; //(J/mol)\n",
"\n",
"mprintf('Enthalpy at infinite dilution for component 1 is %i J/mol',H1_inf);\n",
"mprintf('\n Enthalpy at infinite dilution for component 2 is %i J/mol',H2_inf);\n",
"\n",
"//end "
   ]
   }
,
{
		   "cell_type": "markdown",
		   "metadata": {},
		   "source": [
			"## Example 7.18: Theoretical_problem.sce"
		   ]
		  },
  {
"cell_type": "code",
	   "execution_count": null,
	   "metadata": {
	    "collapsed": true
	   },
	   "outputs": [],
"source": [
"//A Textbook of Chemical Engineering Thermodynamics\n",
"//Chapter 7\n",
"//Properties of Solutions\n",
"//Example 18\n",
"\n",
"\n",
"clear;\n",
"clc;\n",
"\n",
"\n",
"//Given:\n",
"\n",
"//The given example is theoretical and does not involve any numerical computation\n",
"\n",
"//end"
   ]
   }
,
{
		   "cell_type": "markdown",
		   "metadata": {},
		   "source": [
			"## Example 7.19: To_determine_change_in_entropy_for_the_contents_of_the_vessel.sce"
		   ]
		  },
  {
"cell_type": "code",
	   "execution_count": null,
	   "metadata": {
	    "collapsed": true
	   },
	   "outputs": [],
"source": [
"//A Textbook of Chemical Engineering Thermodynamics\n",
"//Chapter 7\n",
"//Properties of Solutions\n",
"//Example 19\n",
"\n",
"\n",
"clear;\n",
"clc;\n",
"\n",
"\n",
"//Given:\n",
"R = 8.314; //ideal gas constant\n",
"n1 = 100; //moles of nitrogen\n",
"n2 = 100; //moles of oxygen\n",
"\n",
"//To determine the change in entropy of the contents of the vessel\n",
"x1 = n1/(n1+n2);\n",
"x2 = n2/(n1+n2);\n",
"\n",
"//Using eq. 7.122 (Page no. 292)\n",
"S = -R*(x1*log (x1) + x2*log (x2));\n",
"S_tot = S*(n1+n2);\n",
"mprintf('Change in entropy of components are %f J/K',S_tot);\n",
"\n",
"//end"
   ]
   }
,
{
		   "cell_type": "markdown",
		   "metadata": {},
		   "source": [
			"## Example 7.1: Theoretical_problem.sce"
		   ]
		  },
  {
"cell_type": "code",
	   "execution_count": null,
	   "metadata": {
	    "collapsed": true
	   },
	   "outputs": [],
"source": [
"//A Textbook of Chemical Engineering Thermodynamics\n",
"//Chapter 7\n",
"//Properties of Solutions\n",
"//Example 1\n",
"\n",
"\n",
"clear;\n",
"clc;\n",
"\n",
"\n",
"//Given:\n",
"\n",
"//The given example is theoretical and does not involve any numerical computation\n",
"\n",
"//end"
   ]
   }
,
{
		   "cell_type": "markdown",
		   "metadata": {},
		   "source": [
			"## Example 7.20: To_determine_heat_of_formation_of_LiCl_in_12_moles_of_water.sce"
		   ]
		  },
  {
"cell_type": "code",
	   "execution_count": null,
	   "metadata": {
	    "collapsed": true
	   },
	   "outputs": [],
"source": [
"//A Textbook of Chemical Engineering Thermodynamics\n",
"//Chapter 7\n",
"//Properties of Solutions\n",
"//Example 20\n",
"\n",
"\n",
"clear;\n",
"clc;\n",
"\n",
"\n",
"//Given: \n",
"//For reaction 1\n",
"//Li + 1/2Cl2 --> LiCl\n",
"Hf = -408.610; //heat of formation (kJ)\n",
"\n",
"//For reaction 2\n",
"//LiCl + 12H2O --> LiCl(12H2O)\n",
"H_sol = -33.614; //heat of solution (kJ)\n",
"\n",
"//To determine heat of formation of LiCl in 12 moles of water\n",
"//Adding reaction 1 and 2, we get\n",
"\n",
"//Li + 1/2Cl2 + 12H2O --> LiCl(12H2O)\n",
"H_form = Hf+H_sol;\n",
"mprintf('Heat of formation of LiCl in 12 moles of water is %f kJ',H_form);\n",
"\n",
"//end"
   ]
   }
,
{
		   "cell_type": "markdown",
		   "metadata": {},
		   "source": [
			"## Example 7.21: To_calculate_the_free_energy_of_mixing.sce"
		   ]
		  },
  {
"cell_type": "code",
	   "execution_count": null,
	   "metadata": {
	    "collapsed": true
	   },
	   "outputs": [],
"source": [
"//A Textbook of Chemical Engineering Thermodynamics\n",
"//Chapter 7\n",
"//Properties of Solutions\n",
"//Example 21\n",
"\n",
"\n",
"clear;\n",
"clc;\n",
"\n",
"\n",
"//Given:\n",
"R = 8.314; //ideal gas constant\n",
"n1 = 3; //moles of hydrogen\n",
"n2 = 1; //moles of nitrogen\n",
"T = 298; //temperature in K\n",
"P1 = 1; //pressure of hydrogen in bar\n",
"P2 = 3; //pressure of nitrogen in bar\n",
"\n",
"//To calculate the free energy of mixing\n",
"V1 = (n1*R*T)/(P1*10^5); //volume occupied by hydrogen\n",
"V2 = (n2*R*T)/(P2*10^5); //volume occupied by nitrogen\n",
"V = V1+V2; //total volume occupied\n",
"P = ((n1+n2)*R*T)/(V*10^5); //final pressure attained by mixture (bar)\n",
"\n",
"//It is assumed that process is taking in two steps\n",
"//Step 1: Individual gases are separately brought to final pressure at constant temperature\n",
"//Step 2: The gases are mixed at constant temperature and pressure\n",
"\n",
"//For step 1\n",
"G1 = R*T*(n1*log(P/P1) + n2*log(P/P2));\n",
"\n",
"//For step 2, using eq. 7.121 (Page no. 292)\n",
"x1 = n1/(n1+n2);\n",
"x2 = n2/(n1+n2);\n",
"G2 = (n1+n2)*R*T*(x1*log (x1) + x2*log (x2));\n",
"\n",
"G = G1+G2; //free energy in J\n",
"mprintf('The free energy of mixing when partition is removed is %f kJ',G/1000);\n",
"\n",
"//end"
   ]
   }
,
{
		   "cell_type": "markdown",
		   "metadata": {},
		   "source": [
			"## Example 7.22: To_calculate_the_mean_heat_capacity_of_20_mol_percent_solution.sce"
		   ]
		  },
  {
"cell_type": "code",
	   "execution_count": null,
	   "metadata": {
	    "collapsed": true
	   },
	   "outputs": [],
"source": [
"//A Textbook of Chemical Engineering Thermodynamics\n",
"//Chapter 7\n",
"//Properties of Solutions\n",
"//Example 22\n",
"\n",
"\n",
"clear;\n",
"clc;\n",
"\n",
"\n",
"//Given:\n",
"C_water = 4.18*10^3; //heat capacity of water (J/kg K)\n",
"C_ethanol = 2.58*10^3; //heat capacity of ethanol (J/kg K)\n",
"G1 = -758; //heat of mixing 20 mol percent ethanol water at 298 K(J/mol)\n",
"G2 = -415; //heat of mixing 20 mol percent ethanol water at 323 K (J/mol)\n",
"n_wat = 0.8; //moles of water\n",
"n_eth = 0.2; //moles of ethanol\n",
"T1 = 323; //initial temperature in K\n",
"T2 = 298; //final temperature in K\n",
"\n",
"//To calculate the mean heat capacity of 20 mol percent solution\n",
"//The whole process is divided in 4 steps\n",
"\n",
"//Step 1: Water is cooled from 323 K t0 298 K\n",
"H1 = n_wat*18*C_water*(T2-T1)/1000; //(J)\n",
"\n",
"//Step 2: Ethanol is cooled from 323 to 298 K\n",
"H2 = n_eth*46*C_ethanol*(T2-T1)/1000; //(J)\n",
"\n",
"//Step 3: 0.8 mol water and 0.2 mol ethanol are mixed at 298 K\n",
"H3 = G1; //(J)\n",
"\n",
"//Step 4: \n",
"//Mixture is heated to 323 K\n",
"//H = Cpm*(T1-T2)\n",
"H = G2;\n",
"Cpm = (H-H1-H2-H3)/(T1-T2);\n",
"\n",
"mprintf('Mean heat capacity of solution is %f J/mol K',Cpm);\n",
"\n",
"//end"
   ]
   }
,
{
		   "cell_type": "markdown",
		   "metadata": {},
		   "source": [
			"## Example 7.23: To_find_the_final_temperature_attained.sce"
		   ]
		  },
  {
"cell_type": "code",
	   "execution_count": null,
	   "metadata": {
	    "collapsed": true
	   },
	   "outputs": [],
"source": [
"//A Textbook of Chemical Engineering Thermodynamics\n",
"//Chapter 7\n",
"//Properties of Solutions\n",
"//Example 23\n",
"\n",
"\n",
"clear;\n",
"clc;\n",
"\n",
"\n",
"//Given:\n",
"To = 298; //initial temperature (K)\n",
"Cpm = 97.65; //Mean heat capacity of solution (J/mol K)\n",
"Hs = -758; //heat of mixing (J/mol)\n",
"\n",
"//To find the final temperature attained\n",
"//Since the process is adiabatic\n",
"H = 0;\n",
"T = (H-Hs)/Cpm + To;\n",
"mprintf('The final temperature attained by the mixing is %f K',T);\n",
"\n",
"//end"
   ]
   }
,
{
		   "cell_type": "markdown",
		   "metadata": {},
		   "source": [
			"## Example 7.24: Theoretical_problem.sce"
		   ]
		  },
  {
"cell_type": "code",
	   "execution_count": null,
	   "metadata": {
	    "collapsed": true
	   },
	   "outputs": [],
"source": [
"//A Textbook of Chemical Engineering Thermodynamics\n",
"//Chapter 7\n",
"//Properties of Solutions\n",
"//Example 24\n",
"\n",
"\n",
"clear;\n",
"clc;\n",
"\n",
"\n",
"//Given:\n",
"\n",
"//The given example is theoretical and does not involve any numerical computation\n",
"\n",
"//end"
   ]
   }
,
{
		   "cell_type": "markdown",
		   "metadata": {},
		   "source": [
			"## Example 7.2: To_find_the_volume_of_mixture.sce"
		   ]
		  },
  {
"cell_type": "code",
	   "execution_count": null,
	   "metadata": {
	    "collapsed": true
	   },
	   "outputs": [],
"source": [
"//A Textbook of Chemical Engineering Thermodynamics\n",
"//Chapter 7\n",
"//Properties of Solutions\n",
"//Example 2\n",
"\n",
"\n",
"clear;\n",
"clc;\n",
"\n",
"\n",
"//Given:\n",
"V = 0.1; //volume of mixture required (m^3)\n",
"Ve = 0.03; //volume of alcohol\n",
"Vw = 0.07; //volume of water\n",
"de = 789; //density of ethanol (kg/m^3)\n",
"dw = 997; //density of water (kg/m^3)\n",
"pe = 53.6*10^-6; //partial molar volume of ethanol (m^3/mol)\n",
"pw = 18*10^-6; //partial molar volume of water (m^3/mol)\n",
"Me = 46; //molecular wt of ethanol\n",
"Mw = 18; //molecular wt of water\n",
"\n",
"//To find the volume of mixture\n",
"ne = (Ve*de*10^3)/Me; //number of moles of ethanol\n",
"nw = (Vw*dw*10^3)/Mw; //number of moles of water\n",
"xe = ne/(ne+nw); //mole fraction of ethanol\n",
"xw = 1-ne; //mole fraction of water\n",
"act_V = (ne*pe)+(nw*pw);\n",
"if (V==act_V) \n",
"    then mprintf ('It is possible to prepare the required solution');\n",
"else\n",
"    Ve_act = (Ve/act_V)*V;\n",
"    Vw_act = (Vw/act_V)*V;\n",
"    mprintf('\n For the given volumes of ethanol and water, it is not possible to prepare 0.1 cubic m of mixture');\n",
"    mprintf('\n Required volume of ethanol is %f cubic m',Ve_act);\n",
"    mprintf('\n Required volume of water is %f cubic m',Vw_act);\n",
"end\n",
"\n",
"//end"
   ]
   }
,
{
		   "cell_type": "markdown",
		   "metadata": {},
		   "source": [
			"## Example 7.3: To_find_the_required_volume_of_methanol_and_water.sce"
		   ]
		  },
  {
"cell_type": "code",
	   "execution_count": null,
	   "metadata": {
	    "collapsed": true
	   },
	   "outputs": [],
"source": [
"//A Textbook of Chemical Engineering Thermodynamics\n",
"//Chapter 7\n",
"//Properties of Solutions\n",
"//Example 3\n",
"\n",
"\n",
"clear;\n",
"clc;\n",
"\n",
"\n",
"//Given:\n",
"V = 2; //volume of desired solution (m^3)\n",
"x1 = 0.3; //moles fraction of methanol\n",
"x2 = 0.7; //moles fraction of water\n",
"V1 = 38.632*10^-6; //partial molar volume of methanol (m^3/mol)\n",
"V2 = 17.765*10^-6; //partial molar volume of water (m^3/mol)\n",
"mol_V1 = 40.727*10^-6; //molar volume of ethanol (m^3/mol)\n",
"mol_V2 = 18.068*10^-6; //molar volume of water (m^3/mol)\n",
"\n",
"//To find the required volume of methanol and water\n",
"V_mol = (x1*V1)+(x2*V2); //molar volume of desired solution\n",
"n = V/V_mol; //no. of moles in the desired solution\n",
"n1 = x1*n; //moles of methanol\n",
"n2 = x2*n; //moles of water\n",
"V_m = n1*mol_V1;\n",
"V_w = n2*mol_V2;\n",
"mprintf('Volume of methanol to be taken is %f cubic m',V_m);\n",
"mprintf('\n Volume of water to be taken is %f cubic m',V_w);\n",
"\n",
"//end"
   ]
   }
,
{
		   "cell_type": "markdown",
		   "metadata": {},
		   "source": [
			"## Example 7.4: EX7_4.sce"
		   ]
		  },
  {
"cell_type": "code",
	   "execution_count": null,
	   "metadata": {
	    "collapsed": true
	   },
	   "outputs": [],
"source": [
"//A Textbook of Chemical Engineering Thermodynamics\n",
"//Chapter 7\n",
"//Properties of Solutions\n",
"//Example 4\n",
"\n",
"\n",
"clear;\n",
"clc;\n",
"\n",
"\n",
"//Given:\n",
"V1_w = 0.816*10^-3; //partial molar volume of water in 96% alcohol solution\n",
"V1_e = 1.273*10^-3; //partial molar volume of ethanol in 96% alcohol solution\n",
"V2_w = 0.953*10^-3; //partial molar volume of water in 56% alcohol solution\n",
"V2_e = 1.243*10^-3; //partial molar volume of ethanol in 56% alcohol solution\n",
"d = 0.997*10^3; //density of water (kg/m^3)\n",
"\n",
"//To calculate the volume of water to be added and volume of dilute alcohol solution\n",
"//Basis: \n",
"V = 2*10^-3; //volume of alcohol solution (m^3)\n",
"V_sp = (0.96*V1_e)+(0.04*V1_w); //volume of 1 kg of laboratory alcohol\n",
"m_e = V/V_sp; //mass of 2*10^-3 m^3 alcohol \n",
"\n",
"//(a).\n",
"//Let mass of water added be m kg\n",
"//Taking an alcohol balance\n",
"m = (m_e*0.96)/0.56 - m_e;\n",
"v = m/d;\n",
"mprintf('\n (a).');\n",
"mprintf('\n Mass of water added is %f kg',m);\n",
"mprintf('\n Volume of water added is %4.3e cubic m',v);\n",
"\n",
"//(b)\n",
"m_sol = m_e + m; //mass of alcohol solution obtained\n",
"sp_vol = (0.56*V2_e)+(0.44*V2_w); //specific volume of 56% alcohol\n",
"V_dil = sp_vol*m_sol; //volume of dilute alcohol solution\n",
"mprintf('\n\n (b)');\n",
"mprintf('\n Volume of dilute alcohol solution is %5.4e cubic m',V_dil);\n",
"\n",
"//end"
   ]
   }
,
{
		   "cell_type": "markdown",
		   "metadata": {},
		   "source": [
			"## Example 7.5: Theoretical_problem.sce"
		   ]
		  },
  {
"cell_type": "code",
	   "execution_count": null,
	   "metadata": {
	    "collapsed": true
	   },
	   "outputs": [],
"source": [
"//A Textbook of Chemical Engineering Thermodynamics\n",
"//Chapter 7\n",
"//Properties of Solutions\n",
"//Example 5\n",
"\n",
"\n",
"clear;\n",
"clc;\n",
"\n",
"\n",
"//Given:\n",
"\n",
"//The given example is theoretical and does not involve any numerical computation\n",
"\n",
"//end"
   ]
   }
,
{
		   "cell_type": "markdown",
		   "metadata": {},
		   "source": [
			"## Example 7.6: To_determine_enthalpies_of_pure_components_and_at_infinite_dilution.sce"
		   ]
		  },
  {
"cell_type": "code",
	   "execution_count": null,
	   "metadata": {
	    "collapsed": true
	   },
	   "outputs": [],
"source": [
"//A Textbook of Chemical Engineering Thermodynamics\n",
"//Chapter 7\n",
"//Properties of Solutions\n",
"//Example 6\n",
"\n",
"\n",
"clear;\n",
"clc;\n",
"\n",
"\n",
"//Given:\n",
"//Function for enthalpy:\n",
"H = 400*x1 + 600*x2 + x1*x2*(40*x1+20*x2)\n",
"\n",
"//To determine enthalpies for pure component and at infinite dlution\n",
"\n",
"//(a).\n",
"//The given subpart is theoretical and does not involve numerical computation\n",
"\n",
"//(b).\n",
"//Using eq. 7.27 (Page no. 264)\n",
"//H = H1_bar as x1 = 1\n",
"H1 = 420-60+40;\n",
"//Using eq. 7.28 (Page no. 264)\n",
"//H = H2_bar as x2 = 1\n",
"H2 = 600;\n",
"mprintf('\n (b).');\n",
"mprintf('\n Pure state enthalpies are:');\n",
"mprintf('\n H1 = %i J/mol',H1);\n",
"mprintf('\n H2 = %i J/mol',H2);\n",
"\n",
"//(c).\n",
"//H1_inf = H1_bar as x1 = 0, so from eq. 7.27\n",
"H1_inf = 420;\n",
"//H2_inf = H2_bar as x2 = 0. so from eq 7.28\n",
"H2_inf = 640;\n",
"mprintf('\n\n (c).');\n",
"mprintf('\n At infinite dilution:');\n",
"mprintf('\n H1 = %i J/mol',H1_inf);\n",
"mprintf('\n H2 = %i J/mol',H2_inf);\n",
"\n",
"//end"
   ]
   }
,
{
		   "cell_type": "markdown",
		   "metadata": {},
		   "source": [
			"## Example 7.7: To_calculate_the_partial_molar_volume_of_the_components.sce"
		   ]
		  },
  {
"cell_type": "code",
	   "execution_count": null,
	   "metadata": {
	    "collapsed": true
	   },
	   "outputs": [],
"source": [
"//A Textbook of Chemical Engineering Thermodynamics\n",
"//Chapter 7\n",
"//Properties of Solutions\n",
"//Example 7\n",
"\n",
"\n",
"clear;\n",
"clc;\n",
"\n",
"\n",
"//Given:\n",
"//Volume as a function of molality:\n",
"function [y] = V(m)\n",
"    y = 1.003*10^-3 + 0.1662*10^-4*m + 0.177*10^-5*m^1.5 + 0.12*10^-6*m^2\n",
"endfunction\n",
"\n",
"m = 0.1; //molality of solution (mol/kg)\n",
"\n",
"//To calculate the partial molar volume of the components\n",
"//Differentiating Eq. 7.29 with reference to m, we get\n",
"V1_bar = 0.1662*10^-4 + 0.177*1.5*10^-5*m^0.5 + 0.12*2*10^-6*m;\n",
"\n",
"V_sol = V(m); //volume of aqueous soluttion\n",
"n1 = m;\n",
"n2 = 1000/18;\n",
"V2_bar = (V_sol - n1*V1_bar)/n2;\n",
"mprintf('Partial molar volume of water = %4.3e cubic m/mol',V2_bar);\n",
"mprintf('\n Partial molar volume of NaCl = %4.3e cubic m/mol',V1_bar);\n",
"\n",
"//end"
   ]
   }
,
{
		   "cell_type": "markdown",
		   "metadata": {},
		   "source": [
			"## Example 7.8: Theoretical_problem.sce"
		   ]
		  },
  {
"cell_type": "code",
	   "execution_count": null,
	   "metadata": {
	    "collapsed": true
	   },
	   "outputs": [],
"source": [
"//A Textbook of Chemical Engineering Thermodynamics\n",
"//Chapter 7\n",
"//Properties of Solutions\n",
"//Example 8\n",
"\n",
"\n",
"clear;\n",
"clc;\n",
"\n",
"\n",
"//Given:\n",
"\n",
"//The given example is theoretical and does not any numerical computation\n",
"\n",
"//end"
   ]
   }
,
{
		   "cell_type": "markdown",
		   "metadata": {},
		   "source": [
			"## Example 7.9: Theoretical_problem.sce"
		   ]
		  },
  {
"cell_type": "code",
	   "execution_count": null,
	   "metadata": {
	    "collapsed": true
	   },
	   "outputs": [],
"source": [
"//A Textbook of Chemical Engineering Thermodynamics\n",
"//Chapter 7\n",
"//Properties of Solutions\n",
"//Example 9\n",
"\n",
"\n",
"clear;\n",
"clc;\n",
"\n",
"\n",
"//Given:\n",
"\n",
"//The given example is theoretical and does not any numerical computation\n",
"\n",
"//end"
   ]
   }
],
"metadata": {
		  "kernelspec": {
		   "display_name": "Scilab",
		   "language": "scilab",
		   "name": "scilab"
		  },
		  "language_info": {
		   "file_extension": ".sce",
		   "help_links": [
			{
			 "text": "MetaKernel Magics",
			 "url": "https://github.com/calysto/metakernel/blob/master/metakernel/magics/README.md"
			}
		   ],
		   "mimetype": "text/x-octave",
		   "name": "scilab",
		   "version": "0.7.1"
		  }
		 },
		 "nbformat": 4,
		 "nbformat_minor": 0
}
