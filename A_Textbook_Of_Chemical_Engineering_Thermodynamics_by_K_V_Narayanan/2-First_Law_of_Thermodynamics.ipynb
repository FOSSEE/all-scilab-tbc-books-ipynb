{
"cells": [
 {
		   "cell_type": "markdown",
	   "metadata": {},
	   "source": [
       "# Chapter 2: First Law of Thermodynamics"
	   ]
	},
{
		   "cell_type": "markdown",
		   "metadata": {},
		   "source": [
			"## Example 2.10: To_find_change_in_enthalpy_and_maximum_enthalpy_change.sce"
		   ]
		  },
  {
"cell_type": "code",
	   "execution_count": null,
	   "metadata": {
	    "collapsed": true
	   },
	   "outputs": [],
"source": [
"//A Textbook of Chemical Engineering Thermodynamics\n",
"//Chapter 2\n",
"//First Law of Thermodynamics\n",
"//Example 10\n",
"\n",
"\n",
"clear;\n",
"clc;\n",
"\n",
"\n",
"//Given:\n",
"D1 = 25; //internal diameter of pipe in mm\n",
"u1 = 10; //upstream velocity in m/s\n",
"D2 = 50; //downstream diameter of pipe in mm\n",
"//Since there is no external device for adding or removing energy as work\n",
"//Q = 0, Ws = 0\n",
"\n",
"//To find change in enthalpy and maximum enthalpy change\n",
"\n",
"//(a)\n",
"//Let A1 nad A2 be upstream and downstream crosssectional areas of pipe\n",
"u2 = ((D1/D2)^2)*u1; //downstream velocity in m/s\n",
"H = 0.5*(u1^2-u2^2); //change in enthalpy in J/kg\n",
"mprintf('Change in enthalpy is %f J/kg',H);\n",
"\n",
"//(b)\n",
"//For maximum enthalpy change \n",
"u2 = 0;\n",
"Hmax = 0.5*u1^2; //(J/kg)\n",
"mprintf('\nMaximum enthalpy chnage for a sudden enlargement in pipe is %f J/kg',Hmax);\n",
"\n",
"//end"
   ]
   }
,
{
		   "cell_type": "markdown",
		   "metadata": {},
		   "source": [
			"## Example 2.11: To_determine_heat_transfer_rates.sce"
		   ]
		  },
  {
"cell_type": "code",
	   "execution_count": null,
	   "metadata": {
	    "collapsed": true
	   },
	   "outputs": [],
"source": [
"//A Textbook of Chemical Engineering Thermodynamics\n",
"//Chapter 2\n",
"//First Law of Thermodynamics\n",
"//Example 11\n",
"\n",
"\n",
"clear;\n",
"clc;\n",
"\n",
"\n",
"//Given:\n",
"//At inlet:\n",
"T1 = 293; //Temperature(K)\n",
"P1 = 300+136.8; //Pressure(kPa)\n",
"\n",
"//At exit:\n",
"T2 = 453; //Temperature(K)\n",
"P2 = 136.8; //Pressure(kPa)\n",
"Cp = 29.4; //specific heat capacity at constant pressure in kJ/kmol\n",
"m = 1000; //mass of hydrogen in kg\n",
"M = 2.02; //molecular mass of hydrogen\n",
"\n",
"//To determine heat transfer rates\n",
"//Neglecting the kinetic nd potential energy changes\n",
"//Assuming the process to be occuring through a number of steps\n",
"\n",
"//Step 1 be isothermal and step 2 be isobaric\n",
"H1 = 0; //change in enthalpy for step 1\n",
"H2 = (m/M)*Cp*(T2-T1)/1000; //change in enthalpy for step 2 in kJ\n",
"H = H2+H1;\n",
"Q = H; //heat transferred in coils in kJ\n",
"mprintf('Heat transferred in coils is %f kJ', Q);\n",
"\n",
"//end"
   ]
   }
,
{
		   "cell_type": "markdown",
		   "metadata": {},
		   "source": [
			"## Example 2.12: To_find_change_in_internal_energy_enthalpy_heat_supplied_and_work_done.sce"
		   ]
		  },
  {
"cell_type": "code",
	   "execution_count": null,
	   "metadata": {
	    "collapsed": true
	   },
	   "outputs": [],
"source": [
"//A Textbook of Chemical Engineering Thermodynamics\n",
"//Chapter 2\n",
"//First Law of Thermodynamics\n",
"//Example 12\n",
"\n",
"\n",
"clear;\n",
"clc;\n",
"\n",
"\n",
"//Given:\n",
"m = 10; //mass of air in kg\n",
"P1 = 100; //initial pressure(kPa)\n",
"T1 = 300; //initial temperature(K)\n",
"T2 = 600; //final temperature(K)\n",
"R = 8.314; //ideal gas constant(kJ/kmol K)\n",
"Cp = 29.099; //specific heat capacity at constant pressure (kJ/kmol K)\n",
"Cv = 20.785; //specific heat capacity at constsant volume (kJ/kmol K)\n",
"M = 29; //molecular weight of air\n",
"\n",
"//To determine change in internal energy enthalpy heat supplied and work done\n",
"n = m/M; //number of moles of gas(kmol)\n",
"V1 = (n*R*T1)/P1; //initial volume of air (m^3)\n",
"\n",
"//(a)\n",
"//Constant volume process\n",
"V2 = V1; //final volume\n",
"//Change in internal energy U = n*intg(CvdT)...so\n",
"U = n*Cv*(T2-T1); //change in internal energy(kJ)\n",
"Q = U; //heat supplied(kJ)\n",
"W = 0; //work done\n",
"H = U+(n*R*(T2-T1)); //change in enthalpy(kJ)\n",
"disp('For constant volume process');\n",
"mprintf('\nChange in internal energy is %i kJ',U);\n",
"mprintf('\nHeat supplied is %i kJ',Q);\n",
"mprintf('\nWork done is %i kJ',W);\n",
"mprintf('\nChange in enthalpy is %i kJ',H);\n",
"\n",
"//(b)\n",
"//Constant pressure process\n",
"//Change in enthalpy H = n*intg(CpdT)...so \n",
"H = n*Cp*(T2-T1); //change in enthalpy(kJ)\n",
"Q = H;//heat supplied(kJ)\n",
"U = H-(n*R*(T2-T1));//change in internal energy(kJ)\n",
"W = Q-U; //work done(kJ)\n",
"mprintf('\n\nFor constant pressure process');\n",
"mprintf('\n\nChange in internal energy is %i kJ',U);\n",
"mprintf('\nHeat supplied is %i kJ',Q);\n",
"mprintf('\nWork done is %i kJ',W);\n",
"mprintf('\nChange in enthalpy is %i kJ',H);\n",
"\n",
"//end"
   ]
   }
,
{
		   "cell_type": "markdown",
		   "metadata": {},
		   "source": [
			"## Example 2.13: To_determine_change_in_internal_energy_and_change_in_enthalpy.sce"
		   ]
		  },
  {
"cell_type": "code",
	   "execution_count": null,
	   "metadata": {
	    "collapsed": true
	   },
	   "outputs": [],
"source": [
"//A Textbook of Chemical Engineering Thermodynamics\n",
"//Chapter 2\n",
"//First Law of Thermodynamics\n",
"//Example 13\n",
"\n",
"\n",
"clear;\n",
"clc;\n",
"\n",
"\n",
"//Given:\n",
"R = 8.314; //ideal gas constant(kJ/kmol K)\n",
"Cv = 20.8; //specific heat capacity at constant volume(kJ/kmol K)\n",
"Cp = 29.1; //specific heat capacity at constant pressure(kJ/kmol K)\n",
"P1 = 10; //initial pressure(bar)\n",
"T1 = 280; //initial temperature in K\n",
"P2 = 1; //final pressure(bar)\n",
"T2 = 340; //final temperature(K)\n",
"\n",
"//To determine the change in internal energy and change in enthalpy\n",
"//Solution\n",
"n = 1; //basis: 1 kmol of ideal gas\n",
"V1 = (n*R*T1)/(P1*100); //initial volume in m^3\n",
"V2 = (n*R*T2)/(P2*100); //final volume in m^3\n",
"\n",
"//Assuming the change in state is occuringalong the following two step process\n",
"//1. A constant volume process in which the pressure is reduced to the final value P2 and the temperature gets reduced to T2\n",
"//Let Po and Vodenote the pressure and volume of system after this step\n",
"Po = P2; \n",
"Vo = V1;\n",
"To = (Po*100*Vo)/(n*R);\n",
"U1 = Cv*(To-T1);\n",
"H1 = U1+(V1*100*(P2-P1));\n",
"W1 = 0;\n",
"Q1 = U1;\n",
"\n",
"//2. A constant pressure process in which the gas is heated to the final temperature T2 and the final volume V2\n",
"H2 = Cp*(T2-To);\n",
"U2 = H2-100*(V2-V1);\n",
"Q2 = H2;\n",
"W2 = Q2-U2;\n",
"\n",
"//For actual process\n",
"U = U1+U2; //change in internal energy(kJ)\n",
"H = H1+H2; //change in enthalpy(kJ)\n",
"mprintf('Change in internal energy is %f kJ',U);\n",
"mprintf('\nChange in enthalpy is %f kJ',H);\n",
"\n",
"//end"
   ]
   }
,
{
		   "cell_type": "markdown",
		   "metadata": {},
		   "source": [
			"## Example 2.1: To_find_change_in_internal_energy.sce"
		   ]
		  },
  {
"cell_type": "code",
	   "execution_count": null,
	   "metadata": {
	    "collapsed": true
	   },
	   "outputs": [],
"source": [
"//A Textbook of Chemical Engineering Thermodynamics\n",
"//Chapter 2\n",
"//First Law of Thermodynamics\n",
"//Example 1\n",
"\n",
"\n",
"clear;\n",
"clc;\n",
"\n",
"\n",
"//Given\n",
"W = -2.25*745.7; //work done on system in J/s\n",
"Q = -3400*(10^3)/3600; //heat transferred to the surrounding in J/s\n",
"\n",
"//To find the change in internal energy\n",
"//Using equation 2.4 (Page no. 26)\n",
"U = Q-W; //change in internal energy in J/s\n",
"mprintf('Internal energy of system increases by %f J/s',U);\n",
"\n",
"//end"
   ]
   }
,
{
		   "cell_type": "markdown",
		   "metadata": {},
		   "source": [
			"## Example 2.2: To_find_heat_liberated_work_done_and_change_in_internal_energy.sce"
		   ]
		  },
  {
"cell_type": "code",
	   "execution_count": null,
	   "metadata": {
	    "collapsed": true
	   },
	   "outputs": [],
"source": [
"//A Textbook of Chemical Engineering Thermodynamics\n",
"//Chapter 2\n",
"//First Law of Thermodynamics\n",
"//Example 2\n",
"\n",
"\n",
"clear;\n",
"clc;\n",
"\n",
"\n",
"//Given\n",
"T = 298; //temperature in K\n",
"P = 101; //pressure in kPa\n",
"n_iron = 2; //moles of iron reacted\n",
"Q = -831.08; //heat liberated in kJ\n",
"R = 8.314; //ideal gas constant\n",
"\n",
"//To find heat liberated work done and change in internal energy\n",
"mprintf('Heat liberated during the reaction is %f kJ',Q);\n",
"n_oxygen = 1.5; //moles of oxygen reacted\n",
"\n",
"//Using ideal gas equation P(Vf-Vi)=nRT and W=P(Vf-Vi)\n",
"W = -1.5*R*T; //work done by system in J\n",
"\n",
"//Using equation 2.4 (Page no. 26)\n",
"U = (Q*10^3)-W; //change in internal energy in J\n",
"mprintf('\nWork done by gas is %f J',W);\n",
"mprintf('\nChange in internal energy is %6.3e J',U);\n",
"\n",
"//end"
   ]
   }
,
{
		   "cell_type": "markdown",
		   "metadata": {},
		   "source": [
			"## Example 2.3: To_find_the_heat_energy_dissipated_by_brakes.sce"
		   ]
		  },
  {
"cell_type": "code",
	   "execution_count": null,
	   "metadata": {
	    "collapsed": true
	   },
	   "outputs": [],
"source": [
"//A Textbook of Chemical Engineering Thermodynamics\n",
"//Chapter 2\n",
"//First Law of Thermodynamics\n",
"//Example 3\n",
"\n",
"\n",
"clear;\n",
"clc;\n",
"\n",
"\n",
"//Given\n",
"u = 20; //speed of car in m/s\n",
"z = 30; //height vertically above the bottom of hill in m\n",
"m = 1400; //mass of car in kg\n",
"\n",
"//To find the heat energy dissipated by brakes\n",
"//Using equation 2.3 (Page no. 26)\n",
"KE = -0.5*m*(u^2); //change in kinetic energy in J\n",
"PE = -m*9.81*z; //change in potential energy in J\n",
"Q = -(KE+PE); //heat dissipated by brakes in J\n",
"mprintf('Heat dissipated by brakes is %3.2e J',Q);\n",
"\n",
"//end"
   ]
   }
,
{
		   "cell_type": "markdown",
		   "metadata": {},
		   "source": [
			"## Example 2.4: EX2_4.sce"
		   ]
		  },
  {
"cell_type": "code",
	   "execution_count": null,
	   "metadata": {
	    "collapsed": true
	   },
	   "outputs": [],
"source": [
"//A Textbook of Chemical Engineering Thermodynamics\n",
"//Chapter 2\n",
"//First Law of Thermodynamics\n",
"//Example 4\n",
"\n",
"\n",
"clear;\n",
"clc;\n",
"\n",
"\n",
"//Given:\n",
"//Step 1: constant pressure process\n",
"//Step 2: costant volume process\n",
"//Step 3: adibatic process\n",
"\n",
"//To find internal energy change during each step and work done during adiabatic process\n",
"\n",
"//For step 1\n",
"W1 = -50; //work received in J\n",
"Q1 = -25; //heat gven out in J\n",
"U1 = Q1-W1; //internal energy change in J\n",
"mprintf('Change in internal energy for constant pressure process is %i J',U1);\n",
"\n",
"//For step 2\n",
"W2 = 0; //work done for constant volume process is zero\n",
"Q2 = 75; //heat received in J\n",
"U2 = Q2; //internal energy change in J\n",
"mprintf('\nChange in internal energy for constant volume process is %i J',U2);\n",
"\n",
"//For step 3\n",
"Q3 = 0; //no heat exchange in adiabatic process\n",
"//Since the process is cyclic\n",
"//U3+U2+U1 = 0;\n",
"U3 = -(U1+U2);\n",
"W3 = -U3; //work done in J\n",
"mprintf('\nWork done during adiabatic process is %i J',W3);\n",
"\n",
"//end"
   ]
   }
,
{
		   "cell_type": "markdown",
		   "metadata": {},
		   "source": [
			"## Example 2.5: To_find_change_in_internal_energy_and_enthalpy.sce"
		   ]
		  },
  {
"cell_type": "code",
	   "execution_count": null,
	   "metadata": {
	    "collapsed": true
	   },
	   "outputs": [],
"source": [
"//A Textbook of Chemical Engineering Thermodynamics\n",
"//Chapter 2\n",
"//First Law of Thermodynamics\n",
"//Example 5\n",
"\n",
"\n",
"clear;\n",
"clc;\n",
"\n",
"\n",
"//Given:\n",
"n_water = 10^3; //moles of water\n",
"T = 373; //tempearture(K)\n",
"P = 101.3; //pressure(kPa)\n",
"sv_liquid = 0.00104; //specific volume of liquid(m^3/kmol)\n",
"sv_vapour = 1.675; //specific volume of vapour(m^3/kmol)\n",
"Q = 1.03*10^3; //heat added in kJ\n",
" \n",
"//To find change in internal energy and enthalpy\n",
"W = P*n_water*(sv_vapour-sv_liquid)*10^-3; //expansion work done in kJ\n",
"U = Q-W; //change in internal energy in kJ\n",
"\n",
"//For constant pressure process\n",
"H = Q; //enthalpy change in kJ\n",
"mprintf('Change in internal energy is %f kJ',U);\n",
"mprintf('\nChange in enthalpy is %3.2e kJ',H);\n",
"\n",
"//end"
   ]
   }
,
{
		   "cell_type": "markdown",
		   "metadata": {},
		   "source": [
			"## Example 2.6: EX2_6.sce"
		   ]
		  },
  {
"cell_type": "code",
	   "execution_count": null,
	   "metadata": {
	    "collapsed": true
	   },
	   "outputs": [],
"source": [
"//A Textbook of Chemical Engineering Thermodynamics\n",
"//Chapter 2\n",
"//First Law of Thermodynamics\n",
"//Example 6\n",
"\n",
"\n",
"clear;\n",
"clc;\n",
"\n",
"\n",
"//Given:\n",
"T = 233; //temperature in K\n",
"VP = 1.005*10^3; //vapour pressure of CO2 in kPa\n",
"sv_liquid = 0.9*10^-3; //specific volume of liquid CO2 in m^3/kg\n",
"sv_vapour = 38.2*10^-3; //specicific volume of CO2 vapour in m^3/kg\n",
"L = 320.5; //latent heat of vaporisation of CO2 in kJ/kg\n",
"//Assuming at these conditions CO2 is saturated liquid so\n",
"H1 = 0; //enthalpy in liquid state\n",
"\n",
"//To find internal energy of saturated liquid and internal energy and enthalpy of saturated vapour\n",
"//For saturated liquid\n",
"U1 = H1-(VP*sv_liquid); // internal energy in liquid state in kJ/kg\n",
"//For saturated vapour\n",
"Hv = H1+L; //enthalpy of saturated vapour in kJ/kg\n",
"Uv = Hv-(VP*sv_vapour); //internal energy in vapour state in kJ/kg\n",
"mprintf('Internal Energy of saturated liquid is %f kJ/kg',U1);\n",
"mprintf('\nEnthalpy of vapour state is %f kJ/kg',Hv);\n",
"mprintf('\nInternal Energy of vapour state is %f kJ/kg',Uv);\n",
"\n",
"//end"
   ]
   }
,
{
		   "cell_type": "markdown",
		   "metadata": {},
		   "source": [
			"## Example 2.7: To_calculate_molar_internal_energy_change_and_molar_enthalpy_change.sce"
		   ]
		  },
  {
"cell_type": "code",
	   "execution_count": null,
	   "metadata": {
	    "collapsed": true
	   },
	   "outputs": [],
"source": [
"//A Textbook of Chemical Engineering Thermodynamics\n",
"//Chapter 2\n",
"//First Law of Thermodynamics\n",
"//Example 7\n",
"\n",
"\n",
"clear;\n",
"clc;\n",
"\n",
"\n",
"//Given:\n",
"I = 0.5; //current in Amperes\n",
"V = 12; //voltage in volts\n",
"t = 5*60; //time in sec\n",
"m = 0.798; //mass of water vaporised in g\n",
"M = 18; //molecular mass of water in g\n",
"\n",
"//To calculate molar internal energy change and molar enthalpy change\n",
"Q = (I*V*t/1000); //electric energy supplied in kJ\n",
"//Referring equation 2.10 (Page no. 29)\n",
"H = (Q*M)/m; //molar enthalpy change in kJ/mole\n",
"\n",
"//BY ideal gas equation PV=RT\n",
"//Referring equation 2.9 for constant pressure process (Page no. 29)\n",
"U = H-(8.314*10^-3*373); //molar internal energy change in kJ/mole\n",
"mprintf('Molar Enthalpy change during the process is %i kJ/mole',H);\n",
"mprintf('\nMolar Interanl Energy change during the process is %f kJ/mole',U);\n",
"\n",
"//end"
   ]
   }
,
{
		   "cell_type": "markdown",
		   "metadata": {},
		   "source": [
			"## Example 2.8: To_determine_the_theoretical_horsepower_developed.sce"
		   ]
		  },
  {
"cell_type": "code",
	   "execution_count": null,
	   "metadata": {
	    "collapsed": true
	   },
	   "outputs": [],
"source": [
"//A Textbook of Chemical Engineering Thermodynamics\n",
"//Chapter 2\n",
"//First Law of Thermodynamics\n",
"//Example 8\n",
"\n",
"\n",
"clear;\n",
"clc;\n",
"\n",
"\n",
"//Given:\n",
"m = 1650; //mass of steam used in kg/hr\n",
"H1 = 3200; //enthalpy at 1368 kPa and 645 K in kJ/kg\n",
"H2 = 2690; //enthalpy at 137 kPa and 645 K in kJ/kg\n",
"\n",
"//To determine the theoretical horsepower developed\n",
"//Using equation 2.13 (Page no.32)\n",
"Q = 0; //since the process is adiabatic\n",
"z = 0; //assuming that inlet and discharge of turbine are at same level\n",
"u = 0; //feed and discharge velocities being equal\n",
"Ws = -(H2-H1);\n",
"Wj = Ws*10^3*m/3600; //work done by turbine in J\n",
"W = Wj/745.7; //work done by turbine in hp\n",
"mprintf('Work done by turbine is %f hp',W);\n",
"\n",
"//end"
   ]
   }
,
{
		   "cell_type": "markdown",
		   "metadata": {},
		   "source": [
			"## Example 2.9: To_find_temperature_of_water_delivered_to_second_storage_tank.sce"
		   ]
		  },
  {
"cell_type": "code",
	   "execution_count": null,
	   "metadata": {
	    "collapsed": true
	   },
	   "outputs": [],
"source": [
"//A Textbook of Chemical Engineering Thermodynamics\n",
"//Chapter 2\n",
"//First Law of Thermodynamics\n",
"//Example 9\n",
"\n",
"clear;\n",
"clc;\n",
"\n",
"\n",
"//Given:\n",
"m = 25*10^3; //mass flow rate of water in kg/h\n",
"P = 2; //power supplied by motor in hp\n",
"q = 42000; //heat given in kJ/min\n",
"z = 20; //elevation in m\n",
"T = 368; //temperature in K\n",
"To = 273; //standard temperature in K\n",
"Cp = 4.2; //specific heat of water in kJ/kg K\n",
"\n",
"//To find temperature of water delivered to second storage tank\n",
"W = (P*745.7*10^-3*3600)/m; //work done per kg of water pumped in kJ/kg\n",
"Q = q*60/m; //heat given out per kg of fluid\n",
"PE = 09.81*z*10^-3; //change in potential energy in kJ/kg\n",
"\n",
"//Using equation 2.13 (Page no. 32)\n",
"H = -Q+W-PE;\n",
"//H = H2-H1\n",
"H1 = Cp*(T-To);\n",
"H2 = H1+H;\n",
"//Let T1 be the temperature at second storage tank\n",
"T1 = To+(H2/Cp);\n",
"mprintf('Temperature of water at second storage tank is %i K',T1);\n",
"\n",
"//end"
   ]
   }
],
"metadata": {
		  "kernelspec": {
		   "display_name": "Scilab",
		   "language": "scilab",
		   "name": "scilab"
		  },
		  "language_info": {
		   "file_extension": ".sce",
		   "help_links": [
			{
			 "text": "MetaKernel Magics",
			 "url": "https://github.com/calysto/metakernel/blob/master/metakernel/magics/README.md"
			}
		   ],
		   "mimetype": "text/x-octave",
		   "name": "scilab",
		   "version": "0.7.1"
		  }
		 },
		 "nbformat": 4,
		 "nbformat_minor": 0
}
