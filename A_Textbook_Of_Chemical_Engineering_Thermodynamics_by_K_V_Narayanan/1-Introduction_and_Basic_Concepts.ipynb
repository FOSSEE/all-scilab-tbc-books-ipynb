{
"cells": [
 {
		   "cell_type": "markdown",
	   "metadata": {},
	   "source": [
       "# Chapter 1: Introduction and Basic Concepts"
	   ]
	},
{
		   "cell_type": "markdown",
		   "metadata": {},
		   "source": [
			"## Example 1.1: To_find_mans_mass_and_weight_on_earth.sce"
		   ]
		  },
  {
"cell_type": "code",
	   "execution_count": null,
	   "metadata": {
	    "collapsed": true
	   },
	   "outputs": [],
"source": [
"//A Textbook of Chemical Engineering Thermodynamics\n",
"//Chapter 1\n",
"//Introduction and Basic Concepts\n",
"//Example 1\n",
"\n",
"clear;\n",
"clc;\n",
"\n",
"\n",
"//Given:\n",
"F = 300; //[N]\n",
"g_local = 4.5; //local gravitational acceleration[m/s^2]\n",
"g_earth = 9.81; //earth's gravitational acceleration[m/s^2]\n",
"\n",
"\n",
"//To find man's mass and weight on earth\n",
"m = F/g_local;//mass of man[kg]\n",
"w = m*g_earth; // weight of man on earth[N]\n",
"mprintf('Mass of man is %f kg',m);\n",
"mprintf('\nWeight of man on earth is %f N',w);\n",
"\n",
"\n",
"//end"
   ]
   }
,
{
		   "cell_type": "markdown",
		   "metadata": {},
		   "source": [
			"## Example 1.2: To_find_height_of_manometer_fluid.sce"
		   ]
		  },
  {
"cell_type": "code",
	   "execution_count": null,
	   "metadata": {
	    "collapsed": true
	   },
	   "outputs": [],
"source": [
"//A Textbook of Chemical Engineering Thermodynamics\n",
"//Chapter 1\n",
"//Introduction and Basic Concepts\n",
"//Example 2\n",
"\n",
"clear;\n",
"clc;\n",
"\n",
"\n",
"//Given:\n",
"p1 = 1.15*10^5; //measured pressure[N/m^2]\n",
"p2 = 1.01325*10^5; //atmospheric pressure[N/m^2]\n",
"sg = 2.95; //specific gravity of fluid\n",
"\n",
"//To find height of manometer fluid\n",
"p = p1-p2; //difference in pressure\n",
"//Using equation 1.2 (Page no. 6)\n",
"h = p/(sg*(10^3)*9.8067); //height of manometer fluid[m]\n",
"mprintf('Height of manometer fluid is %f m',h);\n",
"\n",
"\n",
"//end"
   ]
   }
,
{
		   "cell_type": "markdown",
		   "metadata": {},
		   "source": [
			"## Example 1.3: To_find_height_from_ground_and_Kinetic_Energy.sce"
		   ]
		  },
  {
"cell_type": "code",
	   "execution_count": null,
	   "metadata": {
	    "collapsed": true
	   },
	   "outputs": [],
"source": [
"//A Textbook of Chemical Engineering Thermodynamics\n",
"//Chapter 1\n",
"//Introduction and Basic Concepts\n",
"//Example 3\n",
"\n",
"clear;\n",
"clc;\n",
"\n",
"\n",
"//Given\n",
"PE = 1.5*10^3; //potential energy[J]\n",
"m = 10; //mass in kg\n",
"u = 50; // velocity in m/s\n",
"\n",
"//To find height from ground and kinetic energy\n",
"//Using equation 1.8 (Page no. 8)\n",
"h = PE/(m*9.8067);// height from ground in m\n",
"\n",
"//Using equation 1.9 (Page no. 8)\n",
"KE = 0.5*m*(u^2);// Kinetic energy in J\n",
"mprintf('Height from ground is %f m',h);\n",
"mprintf('\nKinetic Energy of body is %3.2e J',KE);\n",
"\n",
"\n",
"//end"
   ]
   }
,
{
		   "cell_type": "markdown",
		   "metadata": {},
		   "source": [
			"## Example 1.4: To_determine_the_power_developed_in_man.sce"
		   ]
		  },
  {
"cell_type": "code",
	   "execution_count": null,
	   "metadata": {
	    "collapsed": true
	   },
	   "outputs": [],
"source": [
"//A Textbook of Chemical Engineering Thermodynamics\n",
"//Chapter 1\n",
"//Introduction and Basic Concepts\n",
"//Example 4\n",
"\n",
"clear;\n",
"clc;\n",
"\n",
"\n",
"//Given\n",
"F = 600; //weight in N\n",
"t = 120; //time in sec\n",
"h = 0.18; //height of stairs in m\n",
"\n",
"//To determine the power developed in man\n",
"S = 20*h; //total vertical displacement in m\n",
"W = F*S; //work done in J\n",
"P = W/t; //power developed\n",
"mprintf('Power developed is %i W',P);\n",
"\n",
"\n",
"//end"
   ]
   }
,
{
		   "cell_type": "markdown",
		   "metadata": {},
		   "source": [
			"## Example 1.5: To_determine_the_force_exerted_pressure_work_done_and_change_in_potential_energy.sce"
		   ]
		  },
  {
"cell_type": "code",
	   "execution_count": null,
	   "metadata": {
	    "collapsed": true
	   },
	   "outputs": [],
"source": [
"//A Textbook of Chemical Engineering Thermodynamics\n",
"//Chapter 1\n",
"//Introduction and Basic Concepts\n",
"//Example 5\n",
"\n",
"clear;\n",
"clc;\n",
"\n",
"\n",
"//Given:\n",
"A = (%pi/4)*(0.1^2); //area in m^2\n",
"P = 1.01325*10^5; //pressure in N/m^2\n",
"m = 50; //mass of piston and weight in kg\n",
"g = 9.81; //acceleration due to gravity (N/m^2)\n",
"\n",
"\n",
"//To determine the force exerted pressure work done and change in potential energy\n",
"//(a)\n",
"Fa = P*A; //force exerted by atmosphere in N\n",
"Fp = m*g; //force exerted by piston and weight in N\n",
"F = Fp+Fa; //total force exerted in N\n",
"mprintf('Total force exerted by the atmosphere, the piston and the weight is %f N',F);\n",
"\n",
"//(b)\n",
"Pg = F/A; //pressure of gas in N/m^2\n",
"mprintf('\nPressure of gas is %5.4e Pa',Pg);\n",
"\n",
"//(c)\n",
"S = 0.4; //displacement of gas in m\n",
"W = F*S; //work done by gas in J\n",
"mprintf('\nWork done by gas is %f J',W);\n",
"\n",
"//(d)\n",
"PE = m*g*S; //change in potential energy in J\n",
"mprintf('\nChange in potential energy is %f J',PE);\n",
"\n",
"//end "
   ]
   }
,
{
		   "cell_type": "markdown",
		   "metadata": {},
		   "source": [
			"## Example 1.6: To_determine_work_done_by_gas.sce"
		   ]
		  },
  {
"cell_type": "code",
	   "execution_count": null,
	   "metadata": {
	    "collapsed": true
	   },
	   "outputs": [],
"source": [
"//A Textbook of Chemical Engineering Thermodynamics\n",
"//Chapter 1\n",
"//Introduction and Basic Concepts\n",
"//Example 6\n",
"\n",
"\n",
"clear;\n",
"clc;\n",
"\n",
"\n",
"//Given:\n",
"//P/D = constant, where P is pressure and D is diameter\n",
"//P =(2*10^5)*D\n",
"Df = 2.5; //final diameter (m)\n",
"Di = 0.5; //initial diameter(m)\n",
"\n",
"//To determine work done by gas\n",
"//Work done = integral(PdV)\n",
"//W = intg((2*10^5*D)d(pi/6)(D^3))....that is\n",
"W = (%pi/4)*10^5*((Df^4)-Di^4);\n",
"mprintf('Work done by gas is %6.4e J',W);\n",
"\n",
"//end"
   ]
   }
,
{
		   "cell_type": "markdown",
		   "metadata": {},
		   "source": [
			"## Example 1.7: To_find_the_work_done_on_surrounding.sce"
		   ]
		  },
  {
"cell_type": "code",
	   "execution_count": null,
	   "metadata": {
	    "collapsed": true
	   },
	   "outputs": [],
"source": [
"//A Textbook of Chemical Engineering Thermodynamics\n",
"//Chapter 1\n",
"//Introduction and Basic Concepts\n",
"//Example 7\n",
"\n",
"\n",
"clear;\n",
"clc;\n",
"\n",
"\n",
"//Given:\n",
"T = 300; //temperature in K\n",
"P = 6.5*10^5; //pressure in N/m^2\n",
"Pa = 1.01325*10^5; //atmospheric pressure in N/m^2\n",
"R = 8.314; //ideal gas constant\n",
"m = 2; //mass of gas (kg)\n",
"M = 44; //molecular weihgt of gas\n",
"\n",
"//To find the work done on surrounding\n",
"n = m/M; // n is number of kmoles\n",
"Vi = (n*R*10^3*T)/P; // initial volume in m^3\n",
"Vf = 2*Vi; //final volume in m^3\n",
"V = Vf-Vi; //change in volume\n",
"Ps = Pa+(5000*9.8067); //pressure on surroundings\n",
"W = Ps*V; //work done on the surroundings\n",
"mprintf('Work done on surroundings is %5.2e J',W);\n",
"\n",
"\n",
"//end"
   ]
   }
],
"metadata": {
		  "kernelspec": {
		   "display_name": "Scilab",
		   "language": "scilab",
		   "name": "scilab"
		  },
		  "language_info": {
		   "file_extension": ".sce",
		   "help_links": [
			{
			 "text": "MetaKernel Magics",
			 "url": "https://github.com/calysto/metakernel/blob/master/metakernel/magics/README.md"
			}
		   ],
		   "mimetype": "text/x-octave",
		   "name": "scilab",
		   "version": "0.7.1"
		  }
		 },
		 "nbformat": 4,
		 "nbformat_minor": 0
}
