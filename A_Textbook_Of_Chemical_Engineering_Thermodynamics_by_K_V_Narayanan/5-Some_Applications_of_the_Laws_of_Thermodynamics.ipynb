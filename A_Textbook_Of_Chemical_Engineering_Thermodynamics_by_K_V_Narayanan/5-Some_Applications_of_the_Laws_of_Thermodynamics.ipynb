{
"cells": [
 {
		   "cell_type": "markdown",
	   "metadata": {},
	   "source": [
       "# Chapter 5: Some Applications of the Laws of Thermodynamics"
	   ]
	},
{
		   "cell_type": "markdown",
		   "metadata": {},
		   "source": [
			"## Example 5.10: To_determine_COP_heat_rejected_and_lowest_temperature.sce"
		   ]
		  },
  {
"cell_type": "code",
	   "execution_count": null,
	   "metadata": {
	    "collapsed": true
	   },
	   "outputs": [],
"source": [
"//A Textbook of Chemical Engineering Thermodynamics\n",
"//Chapter 5\n",
"//Some Applications of the Laws of Thermodynamics\n",
"//Example 10\n",
"\n",
"\n",
"clear;\n",
"clc;\n",
"\n",
"\n",
"//Given:\n",
"T = 290; //operating temperature (K)\n",
"W = 1000; //work (J)\n",
"tof = 3516.67; //ton of refrigeration (W)\n",
"\n",
"//To determine COP, heat rejected and lowest temperature\n",
"\n",
"//(a)\n",
"Q2 = tof;\n",
"COP = Q2/W; //coeffecient of performance\n",
"mprintf('(a). COP is %f',COP);\n",
"\n",
"//(b)\n",
"Q1 = Q2+W; //heat rejected\n",
"mprintf('\n\n (b). Heat rejected is %f kW',Q1/1000);\n",
"\n",
"//(c)\n",
"//Let T2 be the lowest temperature\n",
"T2 = T1*(Q2/Q1);\n",
"mprintf('\n\n (c). Lowest possible temperature in refrigerator is %f K',T2);\n",
"\n",
"//end"
   ]
   }
,
{
		   "cell_type": "markdown",
		   "metadata": {},
		   "source": [
			"## Example 5.11: To_determine_COP_at_given_conditions.sce"
		   ]
		  },
  {
"cell_type": "code",
	   "execution_count": null,
	   "metadata": {
	    "collapsed": true
	   },
	   "outputs": [],
"source": [
"//A Textbook of Chemical Engineering Thermodynamics\n",
"//Chapter 5\n",
"//Some Applications of the Laws of Thermodynamics\n",
"//Example 11\n",
"\n",
"\n",
"clear;\n",
"clc;\n",
"\n",
"\n",
"//Given:\n",
"T2 = 266;\n",
"T1 = 300; //operating temperatures of vapour compression refrigeration cycle(K)\n",
"\n",
"//To determine COP at given conditions\n",
"//(a)\n",
"Ha = 656; //(kJ/kg)\n",
"Hb = 724; //(kJ/kg)\n",
"Hd = 144; //(kJ/kg)\n",
"Hc = Hd;\n",
"//Using eq. 5.61 (Page no. 139)\n",
"COP = (Ha-Hd)/(Hb-Ha);\n",
"mprintf('(a). COP = %f',COP);\n",
"\n",
"//(b)\n",
"Ha = 652; //(kJ/kg)\n",
"Hb = 758; //(kJ/kg)\n",
"Hd = 159; //(kJ/kg)\n",
"Hc = Hd;\n",
"eff = 0.75; //efficiency of compressor\n",
"COP = (Ha-Hd)/((Hb-Ha)*(1/eff));\n",
"mprintf('\n\n (b). COP = %f',COP);\n",
"\n",
"//(c). Ideal Carnot refrigerator\n",
"COP = T2/(T1-T2);\n",
"mprintf('\n\n (c). COP = %f',COP);\n",
"\n",
"//end"
   ]
   }
,
{
		   "cell_type": "markdown",
		   "metadata": {},
		   "source": [
			"## Example 5.12: To_determine_power_requirement_and_refrigeration_capacity_in_tonnes.sce"
		   ]
		  },
  {
"cell_type": "code",
	   "execution_count": null,
	   "metadata": {
	    "collapsed": true
	   },
	   "outputs": [],
"source": [
"//A Textbook of Chemical Engineering Thermodynamics\n",
"//Chapter 5\n",
"//Some Applications of the Laws of Thermodynamics\n",
"//Example 12\n",
"\n",
"\n",
"clear;\n",
"clc;\n",
"\n",
"\n",
"//Given:\n",
"Tin_cool = 288; //entering temperature of cooling water (K)\n",
"Tout_cool = 300; //discharge temperature of cooling water (K)\n",
"m_c = 0.25; //mass flow rate of coling water (kg/s)\n",
"m = 0.5; //mass flow rate of ammonia (kg/min)\n",
"Ha = 1426; //enthalpy of saturated ammonia vapour at 258 K (kJ/kg)\n",
"Hd = 281.5; //enthalpy of liquid ammonia at 294 K (kJ/kg)\n",
"eff = 0.9; //compressor efficiency\n",
"Cp = 4.2; //specific heat of water (kJ/kg K)\n",
"tof = 12660; //ton of refrigeration (kJ/h)\n",
"\n",
"//To determine the power requirement and refrigeration capacity in tons\n",
"Q1 = m_c*Cp*(Tout_cool-Tin_cool); //heat rejected by compressor at constant pressure (kJ/s)\n",
"Q2 = (m/60)*(Ha-Hd); //heat absorbed (kJ/s)\n",
"W = Q1-Q2; //work required (kJ/s)\n",
"P = (W*1000)/(eff*746); //power requirement of compressor (hp)\n",
"mprintf('Power requirement of the compressor is %f hp',P);\n",
"\n",
"rc = Q2*3600/tof; //refrigeration capacity (ton)\n",
"mprintf('\n Refrigeration capacity is %f ton',rc);\n",
"\n",
"//end"
   ]
   }
,
{
		   "cell_type": "markdown",
		   "metadata": {},
		   "source": [
			"## Example 5.13: To_calculate_the_COP_and_refrigeration_circulation_rate.sce"
		   ]
		  },
  {
"cell_type": "code",
	   "execution_count": null,
	   "metadata": {
	    "collapsed": true
	   },
	   "outputs": [],
"source": [
"//A Textbook of Chemical Engineering Thermodynamics\n",
"//Chapter 5\n",
"//Some Applications of the Laws of Thermodynamics\n",
"//Example 13\n",
"\n",
"\n",
"clear;\n",
"clc;\n",
"\n",
"\n",
"//Given:\n",
"m1 = 10; //machine rating (ton)\n",
"//Since 5 K approach is necessary\n",
"T1 = 293+5; //temperature of cooling water (K)\n",
"T2 = 261-5; //temperature of cold storage (K)\n",
"Ha = 181; //enthalpy of saturated vapour at 256 K (kJ/kg)\n",
"Sa = 0.714; //entropy of saturated vapour at 256K (kJ/kg K)\n",
"Hc = 62; //enthalpy of saturated liquid at 298 K (kJ/kg)\n",
"Sc = 0.231; //entropy of saturated liquid at 298 K (kJ/kg K)\n",
"Hb = 206; //enthalpy of superheated vapour (kJ/kg)\n",
"Sb = 0.714; //entropy of superheated vapour (kJ/kg)\n",
"\n",
"//To calculate the COP and refrigerant circulation rate\n",
"//Referring fig 5.11 (Page no. 143)\n",
"//(DA/FA) = (Ha-Hd)/Hv\n",
"//(DA/FA) = (Sa-Sd)/Sv\n",
"//Hv/Sv = T2\n",
"\n",
"//Combining the three relations, we get\n",
"Sd = Sc; //isentropic process\n",
"Hd = Ha-(T2*(Sa-Sd));\n",
"//Using eq. 5.64 (Page no. 141)\n",
"COP = (Ha-Hd)/((Hb-Hc)-(Ha-Hd));\n",
"mprintf('COP = %f',COP);\n",
"\n",
"//Using equation 5.63 (Page no. 140)\n",
"m = (12660*m1)/(Ha-Hd); //refrigerant circulation rate (kg/h)\n",
"mprintf('\n Refrigerant circulation rate is %f kg/h',m);\n",
"\n",
"//end"
   ]
   }
,
{
		   "cell_type": "markdown",
		   "metadata": {},
		   "source": [
			"## Example 5.14: To_determine_the_COP_and_air_circulation_rate.sce"
		   ]
		  },
  {
"cell_type": "code",
	   "execution_count": null,
	   "metadata": {
	    "collapsed": true
	   },
	   "outputs": [],
"source": [
"//A Textbook of Chemical Engineering Thermodynamics\n",
"//Chapter 5\n",
"//Some Applications of the Laws of Thermodynamics\n",
"//Example 14\n",
"\n",
"\n",
"clear;\n",
"clc;\n",
"\n",
"\n",
"//Given:\n",
"m1 = 10; //machine rating (ton)\n",
"//Assuming 5 K approach in refrigerator and cooler\n",
"Ta = 261-5; //temperature of air leaving the refrigerator (K)\n",
"Tc = 293+5; //temperature of air leaving the cooler (K)\n",
"gama = 1.4;\n",
"Cp = 1.008; //sp. heat of air (kJ/kg K)\n",
"P1 = 4.052;\n",
"P2 = 1.013; //operating pressures in bar\n",
"\n",
"//To determine the COP and air circulation rate\n",
"//Using eq. 5.66 (Page no. 145)\n",
"Tb = Ta*(P1/P2)^((gama-1)/gama);\n",
"Td = (Tc*Ta)/Tb;\n",
"\n",
"//Using equation 5.68 (PAge no. 146)\n",
"COP = Ta/(Tb-Ta);\n",
"mprintf('COP = %f',COP);\n",
"\n",
"//Considering energy balance in refrigerator [m*Cp*(Ta-Td) = m1*12660]\n",
"m = (m1*12660)/(Cp*(Ta-Td)); //air circulation rate (kg/h)\n",
"mprintf('\n Air circulation rate is %i kg/h',m);\n",
"\n",
"//end"
   ]
   }
,
{
		   "cell_type": "markdown",
		   "metadata": {},
		   "source": [
			"## Example 5.15: To_verify_that_given_heat_pump_is_equivalent_to_30_kW_pump.sce"
		   ]
		  },
  {
"cell_type": "code",
	   "execution_count": null,
	   "metadata": {
	    "collapsed": true
	   },
	   "outputs": [],
"source": [
"//A Textbook of Chemical Engineering Thermodynamics\n",
"//Chapter 5\n",
"//Some Applications of the Laws of Thermodynamics\n",
"//Example 15\n",
"\n",
"\n",
"clear;\n",
"clc;\n",
"\n",
"\n",
"//Given:\n",
"T1 = 300; //indoor temperatur (K)\n",
"T2 = 290; //outside temperature (K)\n",
"W_input = 1; //1 kW heat pump\n",
"W_output = 30; //given output (kW)\n",
"\n",
"//To verify that given heat pump is equivalent to 30 kW heater\n",
"Q2 = (T2/(T1-T2))*W_input; //heat absorbed\n",
"Q1 = Q2 + W_input; //heat rejected\n",
"\n",
"if(Q1==W_output)\n",
"     mprintf('1 kW pump if operated reversibly, is equivalent to a 30 kW heater');\n",
"else\n",
"     mprintf('The given heat pump is not equivalent to a 30 kW heater');\n",
"end\n",
"\n",
"//end"
   ]
   }
,
{
		   "cell_type": "markdown",
		   "metadata": {},
		   "source": [
			"## Example 5.16: To_determine_the_amount_of_fuel_burned.sce"
		   ]
		  },
  {
"cell_type": "code",
	   "execution_count": null,
	   "metadata": {
	    "collapsed": true
	   },
	   "outputs": [],
"source": [
"//A Textbook of Chemical Engineering Thermodynamics\n",
"//Chapter 5\n",
"//Some Applications of the Laws of Thermodynamics\n",
"//Example 16\n",
"\n",
"\n",
"clear;\n",
"clc;\n",
"\n",
"\n",
"//Given:\n",
"T1 = 295; //temperature inside building (K)\n",
"T2 = 275; //temperature of outside air (K)\n",
"eff = 0.25; //overall efficiency of unit\n",
"Hc = 890.9; //heat of combustion of fuel (kJ/mol)\n",
"conv = 0.33; //efficiency of conversion of heat of combustion to electricity\n",
"Q1 = 10^6; //amount of heat to be delivered\n",
"\n",
"//To determine the amount of fuel burned\n",
"COP = T1/(T1-T2);\n",
"W = Q1/COP; //work required to deliver Q1 kJ of heat\n",
"W_act = W/eff; //actual amount of electrical energy to be supplied\n",
"W_heat = W_act/conv; //heat energy required as heat of combustion\n",
"n = W_heat/Hc; //number of moles of fuel burned\n",
"mprintf('The amount of fuel burned is %f kmol',n/1000);\n",
"\n",
"//end"
   ]
   }
,
{
		   "cell_type": "markdown",
		   "metadata": {},
		   "source": [
			"## Example 5.17: To_calculate_fraction_of_liquid_in_inlet_stream_and_temperature.sce"
		   ]
		  },
  {
"cell_type": "code",
	   "execution_count": null,
	   "metadata": {
	    "collapsed": true
	   },
	   "outputs": [],
"source": [
"//A Textbook of Chemical Engineering Thermodynamics\n",
"//Chapter 5\n",
"//Some Applications of the Laws of Thermodynamics\n",
"//Example 17\n",
"\n",
"\n",
"clear;\n",
"clc;\n",
"\n",
"\n",
"//Given:\n",
"//Referring steam tables at 2.54 bar\n",
"H1 = 2717; //enthalpy of saturated vapour (kJ/kg)\n",
"H2 = 538; //enthalpy of saturated liquid (kJ/kg)\n",
"S1 = 7.05; //entropy of saturated vapour (kJ/kg K)\n",
"S2 = 1.61; //entropy of saturated liquid (kJ/kg K)\n",
"\n",
"H = 2700; //enthalpy of superheated steam at 1 bar and 385 K (kJ/kg)\n",
"S = 7.42; //entropy of superheated steam at 1 bar and 385 K (kJ/kg K)\n",
"\n",
"//To determine fraction of liquid in inlet stream and the temperature\n",
"//Let the fraction of liquid in inlet stream be x\n",
"\n",
"//(a)..The expansion is isenthalpic\n",
"//Applying enthalpy balance around the throttle valve\n",
"//(x*H2)+(1-x)*H1 = H\n",
"x = (H-H1)/(H2-H1);\n",
"//From steam tables\n",
"T = 401; //temperature of steam (K)\n",
"mprintf('(a). For isenthalpic expansion');\n",
"mprintf('\n The fraction of liquid in inlet stream is %f',x);\n",
"mprintf('\n The temperature of stream is %i K',T);\n",
"\n",
"//(b)..The expansion is isentropic\n",
"//Since entropy of saturated vapour at inlet pressure (S1) is less than entropy of steam leaving the turbine (S)\n",
"//So, the inlet stream is superheated, therefore\n",
"x = 0;\n",
"//From steam tales\n",
"T = 478; //temperature of superheated steam having entropy of 7.42 kJ/kg K\n",
"mprintf('\n\n(b). For isentropic expansion');\n",
"mprintf('\n The fraction of liquid in inlet stream is %i',x);\n",
"mprintf('\n The temperature of stream is %i K',T);\n",
"\n",
"//end"
   ]
   }
,
{
		   "cell_type": "markdown",
		   "metadata": {},
		   "source": [
			"## Example 5.18: To_determine_fraction_of_air_liquified_and_temperature_of_air.sce"
		   ]
		  },
  {
"cell_type": "code",
	   "execution_count": null,
	   "metadata": {
	    "collapsed": true
	   },
	   "outputs": [],
"source": [
"//A Textbook of Chemical Engineering Thermodynamics\n",
"//Chapter 5\n",
"//Some Applications of the Laws of Thermodynamics\n",
"//Example 18\n",
"\n",
"\n",
"clear;\n",
"clc;\n",
"\n",
"\n",
"//Given:\n",
"//Referring Fig. 5.15 (Page no. 151)\n",
"Hc = 516; //enthalpy of high pressure gas at 120 bar and 306 K (kJ/kg)\n",
"Ha = 526; //enthalpy of low pressure gas at 2 bar and 292 K (kJ/kg)\n",
"Hf = 121; //entalpy of saturated liquid at 2 bar (kJ/kg)\n",
"Hg = 314; //enthalpy of saturated vapour at 2 bar (kJ/kg)\n",
"\n",
"//To determine the fraction of air liquified and temperature of air\n",
"\n",
"//(a)..\n",
"//Using equation 5.73 (Page no. 152)\n",
"x = (Hc-Ha)/(Hf-Ha); //fraction of air liquified\n",
"mprintf('(a). The fraction of liquified air is %f',x);\n",
"\n",
"//(b)..\n",
"//Taking enthalpy balance around heat exchanger\n",
"Hd = Hc - (1-x)*(Ha-Hg);\n",
"//At enthalpy of Hd kJ/kg, from T-S diagram for air\n",
"T = 167; //temperature in K\n",
"mprintf('\n (b). Temperature of air on high pressure side of throttle valve is %i K',T);\n",
"\n",
"//end"
   ]
   }
,
{
		   "cell_type": "markdown",
		   "metadata": {},
		   "source": [
			"## Example 5.19: EX5_19.sce"
		   ]
		  },
  {
"cell_type": "code",
	   "execution_count": null,
	   "metadata": {
	    "collapsed": true
	   },
	   "outputs": [],
"source": [
"//A Textbook of Chemical Engineering Thermodynamics\n",
"//Chapter 5\n",
"//Some Applications of the Laws of Thermodynamics\n",
"//Example 19\n",
"\n",
"\n",
"clear;\n",
"clc;\n",
"\n",
"\n",
"//Given:\n",
"P2 = 2800; //pressure of superheated steam (kPa)\n",
"P1 = 5; //pressure after expansion (kPa)\n",
"e_turbine = 0.85; //isentropic turbine efficiency\n",
"e_pump = 0.8; //isentropic pump efficiency\n",
"V = 1.005*10^-3; //specific volume of saturated liquid at 5 kPaHl = \n",
"\n",
"//From steam tables:\n",
"Hl = 138; //enthalpy of saturated liquid at 5 kPa (kJ/kg)\n",
"Hv = 2562; //enthalpy of saturated vapour at 5 kPa (kJ/kg)\n",
"H3 = 3063; //enthalpy of superheated steam at 2800 kPa and 598 K (kJ/kg)\n",
"Sl = 0.4764; //entropy of saturated liquid at 5 kPa (kJ/kg K)\n",
"Sv = 8.3951; //entropy of saturated vapour at 5 kPa (kJ/kg K)\n",
"S3 = 6.6875; //entropy of superheated steam at 2800 kPa and 598 K (kJ/kg K)\n",
" \n",
" \n",
"//To determine the ideal Rankine cycle efficiency, thermal efficiency and rate of steam production\n",
"\n",
"//(a)..The ideal Rankine cycle efficiency for the stated conditions\n",
"//Referring fig 5.19(b) (Page no. 155) and considering feed water pump\n",
"Ws = V*(P2-P1); //work done by pump (kJ/kg)\n",
"H2 = Hl+Ws;\n",
"//Considering isentropic expansion in turbine\n",
"S4 = S3;\n",
"x = (S4-Sl)/(Sv-Sl); //fraction of steam that is vapour\n",
"H4 = Hl + x*(Hv-Hl);\n",
"//Using eq. 5.80 (Page no. 155)\n",
"e_r = ((H3-H2)-(H4-Hl))/(H3-H2);\n",
"mprintf('(a). The ideal Rankine cycle efficiency for the stated conditions is %i percent',e_r*100);\n",
"\n",
"//(b)..The thermal efficiency of plant\n",
"W_act = Ws/e_pump; //actual work requirement in pump\n",
"H_2 = Hl + W_act; //enthalpy of water leaving the feed water pump\n",
"W_out = e_turbine*(H3-H4); //actual work output\n",
"H_4 = H3-W_out; //actual enthalpy of steam leaving the turbine\n",
"e_act = ((H3-H_2)-(H_4-Hl))/(H3-H_2);\n",
"mprintf('\n (b). The actual efficiency is %f percent',e_act*100);\n",
"\n",
"//(c)..The rate of steam production\n",
"W_net = e_act*(H3-H_2); //net work output (kJ/kg)\n",
"rate = (3.6*10^6)/W_net; //steam produced in boiler (kg/h)\n",
"mprintf('\n (c). The rate of steam production is %f kg/h',rate);\n",
"\n",
"//end"
   ]
   }
,
{
		   "cell_type": "markdown",
		   "metadata": {},
		   "source": [
			"## Example 5.1: To_calculate_the_pressure_at_exit.sce"
		   ]
		  },
  {
"cell_type": "code",
	   "execution_count": null,
	   "metadata": {
	    "collapsed": true
	   },
	   "outputs": [],
"source": [
"//A Textbook of Chemical Engineering Thermodynamics\n",
"//Chapter 5\n",
"//Some Applications of the Laws of Thermodynamics\n",
"//Example 1\n",
"\n",
"\n",
"clear;\n",
"clc;\n",
"\n",
"\n",
"//Given:\n",
"u1 = 1; //entering velocity of water (m/s)\n",
"d_ent = 0.2; //entrance diameter of reducer (m)\n",
"d_exit = 0.1; //exit diameter of reducer (m)\n",
"P_ent = 105; //pressure at entrance (kPa)\n",
"z = 5; //distance between entrance and exit (m)\n",
"g = 9.81; //acceleration due to gravity \n",
"den = 1000; //density of water (kg/m^3)\n",
"\n",
"//To calculate the pressure at exit\n",
"A1 = (%pi/4)*d_ent^2; //cross section area of entrance (m^2)\n",
"A2 = (%pi/4)*d_exit^2; //cross section area of exit (m^2)\n",
"\n",
"//By the equation of continuity and since density of water remains constant\n",
"u2 = (A1*u1)/A2;\n",
"\n",
"//By Bernoulli's equation between section 1 and 2 (Eq 5.20 Page no. 118)\n",
"P_exit = (-((u2^2-u1^2)/2)-(g*z)+(P_ent*10^3/den))*(den/10^3);\n",
"mprintf('The pressure at exit is %f kPa',P_exit);\n",
"\n",
"//end "
   ]
   }
,
{
		   "cell_type": "markdown",
		   "metadata": {},
		   "source": [
			"## Example 5.20: To_determine_the_work_output_thermal_efficiency_and_rate_of_steam_circulation.sce"
		   ]
		  },
  {
"cell_type": "code",
	   "execution_count": null,
	   "metadata": {
	    "collapsed": true
	   },
	   "outputs": [],
"source": [
"//A Textbook of Chemical Engineering Thermodynamics\n",
"//Chapter 5\n",
"//Some Applications of the Laws of Thermodynamics\n",
"//Example 20\n",
"\n",
"\n",
"clear;\n",
"clc;\n",
"\n",
"\n",
"//Given:\n",
"P2 = 7600; //pressure of superheated steam (kPa)\n",
"P1 = 5; //pressure after expansion (kPa)\n",
"V = 1.005*10^-3; //specific volume of saturated liquid (m^3/kg)\n",
"\n",
"//From steam tables:\n",
"H_l1 = 138; //enthalpy of saturated liquid at 5 kPa (kJ/kg)\n",
"S_l1 = 0.4764; //entropy of saturated liquid at 5 kPa (kJ/kg K)\n",
"H_v1 = 2562; //enthalpy of saturated vapour at 5 kPa (kJ/kg)\n",
"S_v1 = 8.3951; //entropy of saturated vapour at 5 kPa (kJ/kg K)\n",
"H_l2 = 830; //enthalpy of saturated liquid at 1400 kPa(kJ/kg)\n",
"S_l2 = 2.2842; //entropy of saturated liquid at 1400 kPa (kJ/kg K)\n",
"H_v2 = 2790; //enthalpy of saturated vapour at 1400 kPa (kJ/kg)\n",
"S_v2 = 6.4693; //entropy of saturated vapour at 1400 kPa (kJ/kg K)\n",
"H5 = 3226; //enthalpy of superheated steam at 1400 kPa and 658 K\n",
"S5 = 7.2558; //entropy of superheated steam at 1400 kPa and 658 K\n",
"H3 = 3150; //enthalpy of superheated steam at 7600 kPa and 673 K\n",
"S3 = 6.4022; //entropy of superheated steam at 1400 kPa and 673 K\n",
"\n",
"//To determine the work output, thermal efficiency and rate of steam circulation\n",
"//(a)\n",
"//For high pressure turbine \n",
"//Let the fraction of steam in vapour state be x\n",
"S4 = S3; //as the expansion process is isentropic\n",
"x = (S4-S_l2)/(S_v2-S_l2);\n",
"H4 = H_l2 + x*(H_v2-H_l2);\n",
"W_high = H3-H4;\n",
"\n",
"//For low pressure turbine\n",
"S6 = S5; //isentropic expansion\n",
"x = (S6-S_l1)/(S_v1-S_l1);\n",
"H6 = H_l1 + x*(H_v1-H_l1);\n",
"W_low = H5-H6;\n",
"\n",
"mprintf('(a)');\n",
"mprintf('\n The work output of high pressure turbine is %i kJ/kg',W_high);\n",
"mprintf('\n The work output of low pressure turbine is %i kJ/kg',W_low);\n",
"\n",
"//(b)\n",
"//Work output of feed pump is [-Ws = intg(VdP)]\n",
"Ws = V*(P2-P1);\n",
"H2 = H_l1+Ws;\n",
"//Using eq. 5.82 (Page no. 159)\n",
"eff = ((H3-H2)+(H5-H4)-(H6-H_l1))/((H3-H2)+(H5-H4));\n",
"mprintf('\n\n (b)');\n",
"mprintf('\n Thermal efficiency is %f percent',eff*100);\n",
"\n",
"//(c)\n",
"//The numerator of eq. 5.82 gives net work output\n",
"W_net = (H3-H2)+(H5-H4)-(H6-H_l1);\n",
"//For 1000 kW of net work output\n",
"rate = 3.6*10^6/W_net;\n",
"mprintf('\n\n (c)');\n",
"mprintf('\n The rate of steam circulation is %f kg/h',rate);\n",
"\n",
"//end"
   ]
   }
,
{
		   "cell_type": "markdown",
		   "metadata": {},
		   "source": [
			"## Example 5.21: To_determine_fraction_of_steam_withdrawn_and_thermal_efficiency_of_cycle.sce"
		   ]
		  },
  {
"cell_type": "code",
	   "execution_count": null,
	   "metadata": {
	    "collapsed": true
	   },
	   "outputs": [],
"source": [
"//A Textbook of Chemical Engineering Thermodynamics\n",
"//Chapter 5\n",
"//Some Applications of the Laws of Thermodynamics\n",
"//Example 21\n",
"\n",
"\n",
"clear;\n",
"clc;\n",
"\n",
"\n",
"//Given:\n",
"P2 = 2800; //pressure of superheated steam (kPa)\n",
"P1 = 275; //pressure of withdrawn steam (kPa)\n",
"V = 1.070*10^-3; //specific volume of saturated liquid at 275 kPa\n",
"\n",
"//From steam tables:\n",
"H6 = 138; //enthalpy of saturated liquid at 5 kPa\n",
"S6 = 0.4764; //entropy of saturated liquid at 5 kPa\n",
"H_v1 = 2562; //enthalpy of saturated vapour at 5 kPa\n",
"S_v1 = 8.3951; //entropy of saturated vapour at 5 kPa\n",
"H1 = 549; //enthalpy of saturated liquid at 275 kPa\n",
"S1 = 1.6408; //entropy of saturated liquid at 275 kPa\n",
"H_v2 = 2721; //enthalpy of saturated vapour at 275 kPa\n",
"S_v2 = 7.0209; //entropy of saturated vapour at 275 kPa\n",
"H3 = 3063; //enthalpy of superheated steam at 2800 kPa and 598 K\n",
"S3 = 6.6875; //entropy of superheated steam at 2800 kPa and 598 K\n",
"\n",
"//To determine the fraction of steam withdrawn and thermal efficiency of cycle\n",
"//Referring fig. 5.23 (Page no.161)\n",
"S4 = S3; //isentropic expansion\n",
"x = (S4-S1)/(S_v2-S1); //quality of steam\n",
"H4 = H1 + x*(H_v2-H1);\n",
"H7 = H6; //as the power input to the condensate pump is neglegible\n",
"\n",
"//Applying energy balance around feed water heater\n",
"m = (H1-H7)/(H4-H7); //fraction of steam extracted\n",
"mprintf('Fraction of steam withdrawn is %f',m);\n",
"\n",
"W_in = V*(P2-P1); //work input to the feed water pump\n",
"H2 = H1+W_in;\n",
"//Considering isentropic expansion in turbine\n",
"S5 = S3;\n",
"x = (S5-S6)/(S_v1-S6);\n",
"H5 = H6 + x*(H_v1-H6);\n",
"//Using eq. 5.85 (Page no.162)\n",
"eff = ((H3-H2)-(1-m)*(H5-H6))/(H3-H2);\n",
"mprintf('\n Thermal efficiency is %f percent',eff*100);\n",
"\n",
"//end"
   ]
   }
,
{
		   "cell_type": "markdown",
		   "metadata": {},
		   "source": [
			"## Example 5.22: To_determine_mean_effective_pressure.sce"
		   ]
		  },
  {
"cell_type": "code",
	   "execution_count": null,
	   "metadata": {
	    "collapsed": true
	   },
	   "outputs": [],
"source": [
"//A Textbook of Chemical Engineering Thermodynamics\n",
"//Chapter 5\n",
"//Some Applications of the Laws of Thermodynamics\n",
"//Example 22\n",
"\n",
"\n",
"clear;\n",
"clc;\n",
"\n",
"\n",
"//Given:\n",
"r = 8; //compression ratio\n",
"T1 = 290; //temperature at beginning (K)\n",
"P1 = 100; //pressure at the beginning (kPa)\n",
"Q1 = 450; //heat transferred per cycle (kJ/kg K)\n",
"Cp = 1.005; //specific heat of air (kJ/kg K)\n",
"Cv = 0.718; //specific heat of air (kJ/kg K)\n",
"R = 8.314; //ideal gas constant\n",
"M = 29; //molecular wt of air\n",
"\n",
"//To determine mean effective pressure\n",
"//Basis:\n",
"m = 1; //mass of air (kg)\n",
"\n",
"//(a)\n",
"//Referring fig. 5.24 (Page no. 164)\n",
"V1 = (m*R*1000*T1)/(M*P1*10^3);\n",
"\n",
"//Conditions at state 2\n",
"V2 = V1/r;\n",
"gama = Cp/Cv;\n",
"T2 = T1*(r^(gama-1));\n",
"P2 = P1*(r^gama); \n",
"mprintf('(a)');\n",
"mprintf('\n At the end of first process');\n",
"mprintf('\n Temperature = %f K',T2);\n",
"mprintf('\n Pressure = %f kPa',P2);\n",
"\n",
"//Conditions at state 3\n",
"//Constant volume process\n",
"V3 = V2;\n",
"T3 = Q1/Cv + T2;\n",
"P3 = (T3/T2)*P2;\n",
"mprintf('\n\n At the end of second process');\n",
"mprintf('\n Temperature = %f K',T3);\n",
"mprintf('\n Pressure = %f kPa',P3);\n",
"\n",
"//Conditions at state 4\n",
"T4 = T3/(r^(gama-1));\n",
"P4 = P3/(r^gama);\n",
"mprintf('\n\n At the end of third process');\n",
"mprintf('\n Temperature = %f K',T4);\n",
"mprintf('\n Pressure = %f kPa',P4);\n",
"Q2 = Cv*(T4-T1); //heat rejected during the constant volume process\n",
"\n",
"//(b)\n",
"//Using eq. 5.88 (Page no. 165)\n",
"eff = 1 - ((1/r)^(gama-1));\n",
"mprintf('\n\n\n (b)');\n",
"mprintf('\n Thermal efficiency is %f',eff);\n",
"\n",
"//(c)\n",
"W = Q1-Q2; //work done\n",
"mprintf('\n\n\n (c)');\n",
"mprintf('\n Work done is %f kJ/kg',W);\n",
"\n",
"//(d)\n",
"Pm = W/(V1-V2);\n",
"mprintf('\n\n\n (d)');\n",
"mprintf('\n Mean effective pressure is %f kPa',Pm);\n",
"\n",
"//end"
   ]
   }
,
{
		   "cell_type": "markdown",
		   "metadata": {},
		   "source": [
			"## Example 5.23: To_determine_work_done_thermal_effeciency_and_mean_effective_pressure.sce"
		   ]
		  },
  {
"cell_type": "code",
	   "execution_count": null,
	   "metadata": {
	    "collapsed": true
	   },
	   "outputs": [],
"source": [
"//A Textbook of Chemical Engineering Thermodynamics\n",
"//Chapter 5\n",
"//Some Applications of the Laws of Thermodynamics\n",
"//Example 23\n",
"\n",
"\n",
"clear;\n",
"clc;\n",
"\n",
"\n",
"//Given:\n",
"r = 15; //compression ratio\n",
"P1 = 100; //pressure in the beginning (kPa)\n",
"T1 = 300; //temperature in thebeginning (K)\n",
"Q1 = 500; //heat transfer rate (kJ/kg)\n",
"M = 29; //molecular wt of air\n",
"R = 8.314; //ideal gas constant\n",
"\n",
"//Specific heats of air (kJ/kg K)\n",
"Cp = 1.005;\n",
"Cv = 0.718;\n",
"\n",
"//To determine work done thermal efficiency and mean effective pressure\n",
"//Referring fig 5.25 (Page no. 167)\n",
"\n",
"//(a)\n",
"//Isentropic compression 1-2\n",
"V1 = (R*1000*T1)/(M*P1*10^3);\n",
"T2 = T1*r^(gama-1);\n",
"P2 = P1*r^gama;\n",
"V2 = V1/r;\n",
"mprintf('(a)');\n",
"mprintf('\n At the end of first process');\n",
"mprintf('\n Temperature = %f K',T2);\n",
"mprintf('\n Pressure = %f kPa',P2);\n",
"\n",
"//Consatnt pressure heat addition 2-3\n",
"T3 = Q1/Cp + T2;\n",
"V3 = (T3/T2)*V2;\n",
"P3 = P2;\n",
"mprintf('\n\n At the end of second process');\n",
"mprintf('\n Temperature = %f k',T3);\n",
"mprintf('\n Pressure = %f kPa',P3);\n",
"\n",
"//Isentropic expansion 3-4\n",
"V4 = V1;\n",
"T4 = T3/((V4/V3)^(gama-1));\n",
"P4 = P3*((V3/V4)^gama);\n",
"mprintf('\n\n At the end of third process');\n",
"mprintf('\n Temperature = %f K',T4);\n",
"mprintf('\n Pressure = %f kPa',P4);\n",
"Q2 = Cv*(T4-T1); //heat rejected 4-1\n",
"\n",
"//(b)\n",
"Wnet = Q1-Q2;\n",
"mprintf('\n\n (b)');\n",
"mprintf('\n Net work done per cycle per kg air is %f kJ/kg',Wnet);\n",
"\n",
"//(c)\n",
"eff = Wnet/Q1; //thermal efficiency\n",
"mprintf('\n\n (c)');\n",
"mprintf('\n Thermal efficiency is %f',eff);\n",
"\n",
"//(d)\n",
"Pm = Wnet/(V1-V2); //mean effective pressure\n",
"mprintf('\n\n (d)');\n",
"mprintf('\n Mean effective pressure is %f kPa',Pm);\n",
"\n",
"//end"
   ]
   }
,
{
		   "cell_type": "markdown",
		   "metadata": {},
		   "source": [
			"## Example 5.24: To_determine_temperature_pressure_work_and_thermal_effeciency.sce"
		   ]
		  },
  {
"cell_type": "code",
	   "execution_count": null,
	   "metadata": {
	    "collapsed": true
	   },
	   "outputs": [],
"source": [
"//A Textbook of Chemical Engineering Thermodynamics\n",
"//Chapter 5\n",
"//Some Applications of the Laws of Thermodynamics\n",
"//Example 24\n",
"\n",
"\n",
"clear;\n",
"clc;\n",
"\n",
"\n",
"//Given:\n",
"T1 = 300; //initial temperature (K)\n",
"P1 = 100; //initial pressure (kPa)\n",
"T3 = 1200; //max temperature (K)\n",
"P3 = 500; //max pressure (kPa)\n",
"Cp = 1.005; //(kJ/kg K)\n",
"Cv = 0.718; //(kJ/kg K)\n",
"\n",
"//To determine pressure and temperature work and thermal efficiency\n",
"gama = Cp/Cv;\n",
"\n",
"//(a)\n",
"P4 = P1;\n",
"P2 = P3;\n",
"//Isentropic compression 1-2\n",
"T2 = T1*((P2/P1)^((gama-1)/gama));\n",
"mprintf('(a)');\n",
"mprintf('\n At the end of first process');\n",
"mprintf('\n Temperature = %f K',T2);\n",
"mprintf('\n Pressure = %f kPa',P2);\n",
"\n",
"//Process 2-3\n",
"mprintf('\n\n At the end of second process');\n",
"mprintf('\n Temperature = %f K',T3);\n",
"mprintf('\n Pressure = %f kPa',P3);\n",
"\n",
"//Isentropic expansion 3-4\n",
"T4 = T3/((P3/P4)^((gama-1)/gama));\n",
"mprintf('\n\n At the end of third process');\n",
"mprintf('\n Temperature = %f K',T4);\n",
"mprintf('\n Pressure = %f kPa',P4);\n",
"\n",
"//(b)\n",
"W_comp = Cp*(T2-T1); //work required by compressor\n",
"mprintf('\n\n (b)');\n",
"mprintf('\n Work required by compressor is %f kJ/kg',W_comp);\n",
"\n",
"//(c)\n",
"W_turb = Cp*(T3-T4); //work done by turbine\n",
"mprintf('\n\n (c)');\n",
"mprintf('\n Work done by turbine is %f kJ/kg',W_turb);\n",
"\n",
"//(d)\n",
"eff = 1-(P1/P2)^((gama-1)/gama);\n",
"mprintf('\n\n (d)');\n",
"mprintf('\n Thermal efficiency is %f',eff);\n",
"\n",
"//end"
   ]
   }
,
{
		   "cell_type": "markdown",
		   "metadata": {},
		   "source": [
			"## Example 5.2: To_determine_quality_of_steam_flowing_through_the_pipe.sce"
		   ]
		  },
  {
"cell_type": "code",
	   "execution_count": null,
	   "metadata": {
	    "collapsed": true
	   },
	   "outputs": [],
"source": [
"//A Textbook of Chemical Engineering Thermodynamics\n",
"//Chapter 5\n",
"//Some Applications of the Laws of Thermodynamics\n",
"//Example 2\n",
"\n",
"\n",
"clear;\n",
"clc;\n",
"\n",
"\n",
"//Given:\n",
"P = 1000; //pressure of saturated steam (kPa)\n",
"T = 398; //temperature of escaping steam (K)\n",
"\n",
"//Referring steam tables\n",
"H_vap = 2778; //enthalpy of saturated vapour at 1000 kPa (kJ/kg)\n",
"H_liq = 763; //enthalpy of saturated liquid at 1000 kPa (kJ/kg)\n",
"H_steam = 2726; //enthalpy of superheated steam at 398 K (kJ/kg)\n",
"\n",
"//To determine quality of steam flowing through the pipe\n",
"//Assuming potential and kinetic energy changes are neglegible\n",
"//Using equation 5.10 (Page no. 117)\n",
"//H = Q-Ws\n",
"\n",
"//Let section 1 be a point in pipe and x be the fraction of steam that is liquid\n",
"//Then H1 = x*H_liq + (1-x)*H_vap\n",
"\n",
"//Let section 2 be the point in steam issuing from the leak in valve\n",
"H2 = 2726; //[kJ/kg]\n",
"\n",
"//No work is done and no heat is exchanged between section 1 and 2\n",
"//S0, H1 = H2\n",
"x = (H2-H_vap)/(H_liq-H_vap);\n",
"mprintf('The steam contains %f percent liquid',x*100);\n",
"\n",
"//end"
   ]
   }
,
{
		   "cell_type": "markdown",
		   "metadata": {},
		   "source": [
			"## Example 5.3: To_determine_the_discharge_velocity.sce"
		   ]
		  },
  {
"cell_type": "code",
	   "execution_count": null,
	   "metadata": {
	    "collapsed": true
	   },
	   "outputs": [],
"source": [
"//A Textbook of Chemical Engineering Thermodynamics\n",
"//Chapter 5\n",
"//Some Applications of the Laws of Thermodynamics\n",
"//Example 3\n",
"\n",
"\n",
"clear;\n",
"clc;\n",
"\n",
"\n",
"//Given:\n",
"m = 10; //mass flow rate of steam (kg/s)\n",
"H1 = 3062; //enthalpy of entering steam (kJ/kg)\n",
"H2 = 2875; //enthalpy of discharged steam (kJ/kg)\n",
"Q = -100/m; //heat loss to the surrounding (kJ/kg)\n",
"u1 = 0; //entering velocity of steam\n",
"\n",
"//To determine the discharge velocity\n",
"//Using total energy balance (Eq. 5.9, Page no. 117)\n",
"//Neglecting change in potential energy and putting Ws = 0\n",
"\n",
"H = H2-H1;\n",
"u2 = sqrt((Q-H)*1000*2);\n",
"mprintf('The discharge velocity is %i m/s',u2);\n",
"\n",
"//end"
   ]
   }
,
{
		   "cell_type": "markdown",
		   "metadata": {},
		   "source": [
			"## Example 5.4: To_determine_thermodynamic_properties_at_throat_and_critical_pressure.sce"
		   ]
		  },
  {
"cell_type": "code",
	   "execution_count": null,
	   "metadata": {
	    "collapsed": true
	   },
	   "outputs": [],
"source": [
"//A Textbook of Chemical Engineering Thermodynamics\n",
"//Chapter 5\n",
"//Some Applications of the Laws of Thermodynamics\n",
"//Example 4\n",
"\n",
"\n",
"clear;\n",
"clc;\n",
"\n",
"\n",
"//Given:\n",
"To = 600; //temperature of air (K)\n",
"Po = 2000; //pressure of air (kPa)\n",
"gama = 1.4;\n",
"M = 0.8; //Mach number at throat\n",
"m = 29; //molecular mass of air\n",
"R = 8.314; //ideal gas constant\n",
"\n",
"//To determine thermodynamical properties at throat and critical pressure\n",
"\n",
"//(a)\n",
"//Using equation 5.40 (Page no 123).. u^2 = (M^2)*gama*P*V\n",
"//Substituting this in eq. 5.39 (Page no. 123) and on rearranging we get\n",
"P = Po/((1+(((gama-1)/2)*M^2))^(gama/(gama-1)));\n",
"//Using eq. 5.39 and the relation PoVo = RTo/m\n",
"u = sqrt((2*gama*R*To*1000)/(m*(gama-1))*(1-(P/Po)^((gama-1)/gama)));\n",
"//Using eq. 3.23 (Page no. 49)\n",
"T = To*(P/Po)^((gama-1)/gama);\n",
"//Let d be the density\n",
"d_o = (Po*m)/(R*To);\n",
"//Since P*(V^gama) = P/(den^gama) = constant...so\n",
"d = d_o*((P/Po)^(1/gama));\n",
"mprintf('(a). At throat');\n",
"mprintf('\nPressure = %i kPa',P);\n",
"mprintf('\nTemperature = %i K',T);\n",
"mprintf('\nVelocity = %f m/s',u);\n",
"mprintf('\nDensity = %f kg/cubic m',d);\n",
"\n",
"//(b)\n",
"//Using eq. 5.42 (Page no.124)\n",
"Pc = Po*((2/(gama+1))^(gama/(gama-1))); //critical pressure\n",
"mprintf('\n\n(b).');\n",
"mprintf('\nThe critical pressure is %f kPa',Pc);\n",
"\n",
"//end"
   ]
   }
,
{
		   "cell_type": "markdown",
		   "metadata": {},
		   "source": [
			"## Example 5.5: Theoretical_problem.sce"
		   ]
		  },
  {
"cell_type": "code",
	   "execution_count": null,
	   "metadata": {
	    "collapsed": true
	   },
	   "outputs": [],
"source": [
"//A Textbook of Chemical Engineering Thermodynamics\n",
"//Chapter 5\n",
"//Some Applications of the Laws of Thermodynamics\n",
"//Example 5\n",
"\n",
"\n",
"clear;\n",
"clc;\n",
"\n",
"\n",
"//Given:\n",
"//The given problem is theoretical and does not involve any numerical computation\n",
"\n",
"//end"
   ]
   }
,
{
		   "cell_type": "markdown",
		   "metadata": {},
		   "source": [
			"## Example 5.6: Theoretical_problem.sce"
		   ]
		  },
  {
"cell_type": "code",
	   "execution_count": null,
	   "metadata": {
	    "collapsed": true
	   },
	   "outputs": [],
"source": [
"//A Textbook of Chemical Engineering Thermodynamics\n",
"//Chapter 5\n",
"//Some Applications of the Laws of Thermodynamics\n",
"//Example 6\n",
"\n",
"\n",
"clear;\n",
"clc;\n",
"\n",
"\n",
"//Given:\n",
"//The given numerical is theoretical and does not involve any numerical computation\n",
"\n",
"//end"
   ]
   }
,
{
		   "cell_type": "markdown",
		   "metadata": {},
		   "source": [
			"## Example 5.7: To_calculate_work_required_and_temperature_after_compression.sce"
		   ]
		  },
  {
"cell_type": "code",
	   "execution_count": null,
	   "metadata": {
	    "collapsed": true
	   },
	   "outputs": [],
"source": [
"//A Textbook of Chemical Engineering Thermodynamics\n",
"//Chapter 5\n",
"//Some Applications of the Laws of Thermodynamics\n",
"//Example 7\n",
"\n",
"\n",
"clear;\n",
"clc;\n",
"\n",
"\n",
"//Given:\n",
"P1 = 1; //initial pressure (bar)\n",
"T1 = 300; //initial temperature (K)\n",
"P2 = 10; //final pressure (bar)\n",
"gama = 1.3; //gama for CO2\n",
"V_rate = 100; //volumetric flow rate (m^3/h)\n",
"\n",
"//To calculate work required and temperature after compression\n",
"Ws = (gama/(gama-1))*P1*10^5*(V_rate/3600)*(1-(P2/P1)^((gama-1)/gama));\n",
"mprintf('The work required is %f kW',-Ws/1000);\n",
"\n",
"//Using equation 3.23 (Page no.49)\n",
"T2 = T1*((P2/P1)^((gama-1)/gama));\n",
"mprintf('\nTemperature of gas after compression is %f K',T2);\n",
"\n",
"//end"
   ]
   }
,
{
		   "cell_type": "markdown",
		   "metadata": {},
		   "source": [
			"## Example 5.8: To_calculate_work_required_and_temperature.sce"
		   ]
		  },
  {
"cell_type": "code",
	   "execution_count": null,
	   "metadata": {
	    "collapsed": true
	   },
	   "outputs": [],
"source": [
"//A Textbook of Chemical Engineering Thermodynamics\n",
"//Chapter 5\n",
"//Some Applications of the Laws of Thermodynamics\n",
"//Example 8\n",
"\n",
"\n",
"clear;\n",
"clc;\n",
"\n",
"\n",
"//Given:\n",
"P1 = 100; //initial pressure of saturated steam (kPa)\n",
"P2 = 500; //final pressure (kPa)\n",
"eff = 0.8; //compression efficiency\n",
"\n",
"//Referring steam tables\n",
"//Properties of steam entering the compressor\n",
"H1 = 2675.5; //enthalpy (kJ/kg)\n",
"S1 = 7.3594; //entropy (kJ/kg K)\n",
"\n",
"//Properties of compressed steam\n",
"H2 = 3008; //enthalpy (kJ/kg)\n",
"S2 = S1; //isentropic compression\n",
"\n",
"//To calculate work required and temperature\n",
"\n",
"Hs = H2-H1;\n",
"//Using eq. 5.44 (Page no. 128)\n",
"W_isentropic = -Hs;\n",
"W_act = W_isentropic/eff;\n",
"mprintf('The work required for compression is %f kJ/kg',-W_act);\n",
"\n",
"H = Hs/eff; //actual change in enthalpy\n",
"H_act = H1+H; //actual enthalpy of steam leaving the compressor\n",
"//From steam tables for superheated steam at 500 kPa and enthalpy of H_act\n",
"T = 586; //temperature (K)\n",
"mprintf('\nTemperature of exhaust steam is %i K',T);\n",
"\n",
"//end"
   ]
   }
,
{
		   "cell_type": "markdown",
		   "metadata": {},
		   "source": [
			"## Example 5.9: To_determine_the_least_amount_of_power.sce"
		   ]
		  },
  {
"cell_type": "code",
	   "execution_count": null,
	   "metadata": {
	    "collapsed": true
	   },
	   "outputs": [],
"source": [
"//A Textbook of Chemical Engineering Thermodynamics\n",
"//Chapter 5\n",
"//Some Applications of the Laws of Thermodynamics\n",
"//Example 9\n",
"\n",
"\n",
"clear;\n",
"clc;\n",
"\n",
"\n",
"//Given:\n",
"T1 = 288; //temperature of surrounding (K)\n",
"T2 = 261; //temperature of solution (K)\n",
"Q2 = 1000; //heat removed (kJ/min)\n",
"\n",
"//To determine the least amount of power\n",
"//Using eq. 5.57 (Page no. 137)\n",
"W = Q2*((T1-T2)/T2); //power in kJ/min\n",
"P = (W*1000)/(746*60); //power in hp\n",
"mprintf('Least amount of power necessary is %f hp',P);\n",
"\n",
"//end"
   ]
   }
],
"metadata": {
		  "kernelspec": {
		   "display_name": "Scilab",
		   "language": "scilab",
		   "name": "scilab"
		  },
		  "language_info": {
		   "file_extension": ".sce",
		   "help_links": [
			{
			 "text": "MetaKernel Magics",
			 "url": "https://github.com/calysto/metakernel/blob/master/metakernel/magics/README.md"
			}
		   ],
		   "mimetype": "text/x-octave",
		   "name": "scilab",
		   "version": "0.7.1"
		  }
		 },
		 "nbformat": 4,
		 "nbformat_minor": 0
}
