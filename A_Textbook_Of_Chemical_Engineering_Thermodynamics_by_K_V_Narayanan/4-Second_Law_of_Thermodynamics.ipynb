{
"cells": [
 {
		   "cell_type": "markdown",
	   "metadata": {},
	   "source": [
       "# Chapter 4: Second Law of Thermodynamics"
	   ]
	},
{
		   "cell_type": "markdown",
		   "metadata": {},
		   "source": [
			"## Example 4.10: To_calculate_entropy_of_1_kmole_of_air.sce"
		   ]
		  },
  {
"cell_type": "code",
	   "execution_count": null,
	   "metadata": {
	    "collapsed": true
	   },
	   "outputs": [],
"source": [
"//A Textbook of Chemical Engineering Thermodynamics\n",
"//Chapter 4\n",
"//Second Law of Thermodynamics\n",
"//Example 10\n",
"\n",
"\n",
"clear;\n",
"clc;\n",
"\n",
"//Given:\n",
"n1 = 0.21; //volume % of oxygen in air\n",
"n2 = 0.79; //volume % of nitrogen in air\n",
"R = 8.314; //ideal gas constant\n",
"\n",
"\n",
"//To calculate entropy of 1 kmol of air\n",
"//Using equation 4.35 (Page no. 96)\n",
"S = (-R*(n1*log(n1)+n2*log(n2))); //[kJ/kmol K]\n",
"mprintf('The total entropy change is %f kJ/kmol K',S);\n",
"//end"
   ]
   }
,
{
		   "cell_type": "markdown",
		   "metadata": {},
		   "source": [
			"## Example 4.11: To_determine_change_in_entropy_for_the_reaction.sce"
		   ]
		  },
  {
"cell_type": "code",
	   "execution_count": null,
	   "metadata": {
	    "collapsed": true
	   },
	   "outputs": [],
"source": [
"//A Textbook of Chemical Engineering Thermodynamics\n",
"//Chapter 4\n",
"//Second Law of Thermodynamics\n",
"//Example 11\n",
"\n",
"\n",
"clear;\n",
"clc;\n",
"\n",
"//Given:\n",
"//For the reaction\n",
"//CO + 1/2O2 -> CO2\n",
"H = -2.8318*10^5; //heat of reaction (J/mol)\n",
"T = 298; //temperature of reaction in K\n",
"//Absolute entropies for CO, O2, CO2 are (in J/mol K)\n",
"S_CO = 198;\n",
"S_O2 = 205.2;\n",
"S_CO2 = 213.8;\n",
"\n",
"//To determine the change in entropy for the reaction\n",
"//Referring equation 4.36 (Page no. 96)\n",
"S_reactant = S_CO + 0.5*S_O2; //entropy change for reactants\n",
"S_product = S_CO2; //entropy change for products\n",
"S = S_product-S_reactant; //total entropy change\n",
"mprintf('The total entropy change for the reaction is %f J/mol',S);\n",
"mprintf('\nSince the reaction is highly irreversible, entropy change cannot be calculated as the ratio of heat of reaction to the temperature');\n",
"\n",
"//The energy available for useful work is the difference between heat of reaction and entropy energy due to ireversible nature of the process\n",
"W_useful = -H+(T*S); //energy available for useful work (J)\n",
"mprintf('\nEnergy available for useful work is %3.2e J', W_useful);\n",
"\n",
"//end"
   ]
   }
,
{
		   "cell_type": "markdown",
		   "metadata": {},
		   "source": [
			"## Example 4.12: Theoretical_problem.sce"
		   ]
		  },
  {
"cell_type": "code",
	   "execution_count": null,
	   "metadata": {
	    "collapsed": true
	   },
	   "outputs": [],
"source": [
"//A Textbook of Chemical Engineering Thermodynamics\n",
"//Chapter 4\n",
"//Second Law of Thermodynamics\n",
"//Example 12\n",
"\n",
"\n",
"clear;\n",
"clc;\n",
"\n",
"//Given\n",
"\n",
"//This is a theoretical question and does not involve any numerical computation\n",
"\n",
"//end "
   ]
   }
,
{
		   "cell_type": "markdown",
		   "metadata": {},
		   "source": [
			"## Example 4.13: To_calculate_change_in_entropy_and_check_whether_the_process_is_reversible.sce"
		   ]
		  },
  {
"cell_type": "code",
	   "execution_count": null,
	   "metadata": {
	    "collapsed": true
	   },
	   "outputs": [],
"source": [
"//A Textbook of Chemical Engineering Thermodynamics\n",
"//Chapter 4\n",
"//Second Law of Thermodynamics\n",
"//Example 13\n",
"\n",
"\n",
"clear;\n",
"clc;\n",
"\n",
"//Given:\n",
"H_steam = 2923.5; //enthalpy of superheated steam (kJ/kg)\n",
"S_steam = 6.71; //entropy of superheated steam (kJ/kg K)\n",
"H_liquid = 845; //enthalpy of saturated liquid (kJ/kg)\n",
"S_liquid = 2.32; //entropy of saturated liquid (kJ/kg K)\n",
"T = 300; //temperature of system (K)\n",
"\n",
"//To calculate change in entropy and check whether the process is reversible\n",
"\n",
"S_system = S_liquid-S_steam; //change in entropy of steam\n",
"\n",
"//Let Q be the heat given out during condensation\n",
"Q = -(H_liquid-H_steam);\n",
"S_surrounding = Q/T; //change in entropy of the surrounding\n",
"S_total = S_system+S_surrounding; //total entropy change\n",
"mprintf('The total entropy change is %f kJ/kg',S_total);\n",
"mprintf('\nSince total entropy change is positive,the process is irreversible');\n",
"\n",
"//end"
   ]
   }
,
{
		   "cell_type": "markdown",
		   "metadata": {},
		   "source": [
			"## Example 4.14: To_determine_the_change_in_entropy_of_system.sce"
		   ]
		  },
  {
"cell_type": "code",
	   "execution_count": null,
	   "metadata": {
	    "collapsed": true
	   },
	   "outputs": [],
"source": [
"//A Textbook of Chemical Engineering Thermodynamics\n",
"//Chapter 4\n",
"//Second Law of Thermodynamics\n",
"//Example 14\n",
"\n",
"\n",
"clear;\n",
"clc;\n",
"\n",
"//Given:\n",
"V = 1; //volume of each compartment in cubic meters\n",
"P_sat = 683.6; //pressure of saturated steam (kPa)\n",
"P_steam = 101.3; //pressure of supereated steam (kPa)\n",
"T_sat = 437.2; //temperature of system (K)\n",
"\n",
"//Referring steam tables\n",
"//For saturated steam at pressure 683.6 kPa and temp 437.2 K\n",
"H_sat = 2761; //enthalpy of saturated steam (kJ/kg)\n",
"S_sat = 6.7133; //entropy of saturated steam (kJ/kg K)\n",
"spvol_sat = 278.9*10^-3; //specific volume of saturated steam (cubic m/kg)\n",
"U_sat = 2570.4; //specific internal energy of saturated steam (kJ/kg)\n",
"\n",
"//For superheated steam at 101.3 kPa and 437.2 K\n",
"H_steam = 2804; //enthalpy of superheated steam (kJ/kg)\n",
"S_steam = 7.6712; //entropy of superheated steam (kJ/kg K)\n",
"spvol_steam = 1976.2*10^-3; //specific volume of superheated steam (cubic m /kg)\n",
"U_steam = 2603.3; //specific internal energy of superheated steam (kJ/kg)\n",
"\n",
"\n",
"//To determine the change in entropy of system\n",
"\n",
"m_sat = V/spvol_sat; //mass of satureated steam(kg)\n",
"m_steam = V/spvol_steam; //mass of superheated steam (kg)\n",
"m_sys = m_sat+m_steam; //mass of system (kg)\n",
"spvol_sys = (2*V)/m_sys; //specific volume of system (cubic m/kg)\n",
"//Since no heat exchange and work interaction occurs so internal energy after mixing remains the same\n",
"U1_sat = m_sat*U_sat; //internal energy of saturated steam (kJ)\n",
"U1_steam = m_steam*U_steam; //internal enegy of superheated steam (kJ)\n",
"U_sys = (U1_sat+U1_steam)/m_sys; //specific internal energy of system (kJ/kg)\n",
"\n",
"//Referring steam tables\n",
"//At calculated U_sys and spvol_sys\n",
"S_sys = 6.9992; //specific entropy of system (kJ/kg K)\n",
"Si = ((m_sat*S_sat)+(m_steam*S_steam)); //initial entropy of system (kJ/K)\n",
"Sf = (m_sys*S_sys); //final entropy of system (kJ/K)\n",
"S = Sf-Si; //change in entropy\n",
"mprintf('The change in entropy of the system is %f kJ/K',S);\n",
"mprintf('\nSince entropy change is positive, the process is irrevresible');\n",
"\n",
"//end"
   ]
   }
,
{
		   "cell_type": "markdown",
		   "metadata": {},
		   "source": [
			"## Example 4.15: To_calculate_entropy_change.sce"
		   ]
		  },
  {
"cell_type": "code",
	   "execution_count": null,
	   "metadata": {
	    "collapsed": true
	   },
	   "outputs": [],
"source": [
"//A Textbook of Chemical Engineering Thermodynamics\n",
"//Chapter 4\n",
"//Second Law of Thermodynamics\n",
"//Example 15\n",
"\n",
"\n",
"clear;\n",
"clc;\n",
"\n",
"//Given:\n",
"V = 1; //volume of each compartment in cubic m\n",
"T = 300; //temperature of ideal gas in 1st compartment (K)\n",
"P = 200; //pressure of ideal gas in 1st compartment (kPa)\n",
"R = 8.314; //ideal gas constant\n",
"\n",
"//To calculate entropy change\n",
"//Let n be the number of moles of gas\n",
"n = ((P*V)/(R*T));\n",
"//Since gas in vessel exchanges no heat and work with surrounding so internal energy remains same\n",
"//This implies temperature after mixing is same as that before mixing\n",
"\n",
"//Final conditions:\n",
"Tf = 300; //final temperature (K)\n",
"Vf = 2; //final volume (cubic m)\n",
"Pf = 100; //final pressure (kPa)\n",
"\n",
"//Initial conditions:\n",
"Ti = 300; //initial temperature (K)\n",
"Vi = 1; //initial volume (cubic m)\n",
"Pi = 200; //initial pressure (kPa)\n",
"\n",
"//Using equation 4.33 (Page num 94)\n",
"S = n*R*log(Vf/Vi); //entropy change of system (kJ/K)\n",
"//Since entropy of surrounding does not change\n",
"S_total = S; //total entropy change\n",
"mprintf('The change in total entropy is %f kJ/K', S_total);\n",
"\n",
"//end"
   ]
   }
,
{
		   "cell_type": "markdown",
		   "metadata": {},
		   "source": [
			"## Example 4.16: To_calculate_entropy_change_in_the_process.sce"
		   ]
		  },
  {
"cell_type": "code",
	   "execution_count": null,
	   "metadata": {
	    "collapsed": true
	   },
	   "outputs": [],
"source": [
"//A Textbook of Chemical Engineering Thermodynamics\n",
"//Chapter 4\n",
"//Second Law of Thermodynamics\n",
"//Example 16\n",
"\n",
"\n",
"clear;\n",
"clc;\n",
"\n",
"//Given:\n",
"m_oil = 5000; //mass flow rate of oil (kg/h)\n",
"Tin_oil = 500; //inlet temperature of oil (K)\n",
"Tin_water = 295; //inlet temperature of water (K)\n",
"c_oil = 3.2; //specific heat of oil (kJ/kg K)\n",
"c_water = 4.2; //specific heat of water (kJ/kg K)\n",
"\n",
"//To calculate entropy change in the process\n",
"\n",
"//Assuming oil is cooled to minimum permissible temperature\n",
"Tout_oil = 305; //exit temperature of oil (K)\n",
"Tout_water = 490; //exit temperature of water (K)\n",
"\n",
"//Let m_water be the mass flow rate of water\n",
"//By enthalpy balance\n",
"m_water = ((m_oil*c_oil*(Tin_oil-Tout_oil))/(c_water*(Tout_water-Tin_water)));  //(kg/h)\n",
"S_oil = m_oil*c_oil*log(Tout_oil/Tin_oil); //entropy change of oil (kJ/K)\n",
"S_water = m_water*c_water*log(Tout_water/Tin_water); //entropy change of water (kJ/K)\n",
"S_tot = S_oil+S_water; //total entropy change\n",
"mprintf('The total entropy change in the process is %f kJ/K',S_tot);\n",
"\n",
"//end "
   ]
   }
,
{
		   "cell_type": "markdown",
		   "metadata": {},
		   "source": [
			"## Example 4.17: To_calculate_loss_in_capacity_of_doing_work.sce"
		   ]
		  },
  {
"cell_type": "code",
	   "execution_count": null,
	   "metadata": {
	    "collapsed": true
	   },
	   "outputs": [],
"source": [
"//A Textbook of Chemical Engineering Thermodynamics\n",
"//Chapter 4\n",
"//Second Law of Thermodynamics\n",
"//Example 17\n",
"\n",
"\n",
"clear;\n",
"clc;\n",
"\n",
"//Given:\n",
"To = 275; //temperature of quenching oil (K)\n",
"\n",
"//To calculate loss in capacity of doing work\n",
"\n",
"//Referrring example 4.9 (Page no. 95)\n",
"S_steel = -26.25; //change in entropy os casting (kJ/K)\n",
"S_oil = 43.90; //change in entropy of oil (kJ/K)\n",
"\n",
"S_tot = S_steel+S_oil; //total entropy change\n",
"//Let W be loss in capacity for doing work\n",
"W = To*S_tot; //(kJ)\n",
"mprintf('The loss in capacity for doing work is %f kJ',W);\n",
"\n",
"//end"
   ]
   }
,
{
		   "cell_type": "markdown",
		   "metadata": {},
		   "source": [
			"## Example 4.18: To_calculate_total_change_in_entropy_and_available_work.sce"
		   ]
		  },
  {
"cell_type": "code",
	   "execution_count": null,
	   "metadata": {
	    "collapsed": true
	   },
	   "outputs": [],
"source": [
"//A Textbook of Chemical Engineering Thermodynamics\n",
"//Chapter 4\n",
"//Second Law of Thermodynamics\n",
"//Example 18\n",
"clear;\n",
"clc;\n",
"//Given:\n",
"m_oil = 5000; //mass flow rate of hydrocarbon oil (kg/h)\n",
"Tin_oil = 425; //inlet temperature of oil (K)\n",
"Tout_oil = 340; //exit temperature of oil (K)\n",
"m_water = 10000; //mass flow rate of water (kg/h)\n",
"Tin_water = 295; //inlet temperature of water (K)\n",
"c_oil = 2.5; //mean specific heat of oil (kJ/kg K)\n",
"c_water = 4.2; //mean specific heat of water (kJ/kg K)\n",
"//To determine total change in entropy and available work\n",
"//(a)\n",
"//By energy balance\n",
"Tout_water = ((m_oil*c_oil*(Tin_oil-Tout_oil))/(m_water*c_water))+295; //exit temperature of water (K)\n",
"S_oil = m_oil*c_oil*log(Tout_oil/Tin_oil); //change in entropy of oil (kJ/K)\n",
"S_water = m_water*c_water*log(Tout_water/Tin_water); //change in entropy of water (kJ/K)\n",
"S_tot = S_oil+S_water; //total entropy change\n",
"mprintf('The total entropy change is %f kJ/K',S_tot);\n",
"//(b)\n",
"To = 295; //temperature at which heat is rejected to surrounding (K)\n",
"//Let Q be heat given out by the oil on cooling\n",
"Q = m_oil*c_oil*(Tin_oil-Tout_oil);\n",
"//Heat rejected to the surrounding at To by the Carnot Engine is given by\n",
"//Q2 = To(Q/T) = -To*S_oil\n",
"Q2 = -To*S_oil; //(kJ)\n",
"//Let W be the work output of engine\n",
"W = Q-Q2;\n",
"mprintf('\nThe work output of the engine would be %4.3e kJ', W);\n",
"//end"
   ]
   }
,
{
		   "cell_type": "markdown",
		   "metadata": {},
		   "source": [
			"## Example 4.19: To_calculate_the_molar_entropy_of_metal.sce"
		   ]
		  },
  {
"cell_type": "code",
	   "execution_count": null,
	   "metadata": {
	    "collapsed": true
	   },
	   "outputs": [],
"source": [
"//A Textbook of Chemical Engineering Thermodynamics\n",
"//Chapter 4\n",
"//Second Law of Thermodynamics\n",
"//Example 19\n",
"\n",
"\n",
"clear;\n",
"clc;\n",
"\n",
"//Given:\n",
"T = 10; //temperature of metal (K)\n",
"Cp = 0.45; //molar heat capacity at 10 K (J/mol K)\n",
"//Molar heat capacity of a substance at low temperatures can be approximated by the relation\n",
"//Cp = a(T^3) where a is constant\n",
"\n",
"\n",
"//To determine the molar entropy of metal\n",
"//Entropy of solid at 10 K is calculated using first integral in equation 4.55 (Page no. 108)\n",
"S = Cp/3;\n",
"mprintf('Molar entropy of meatl at 10 K is %f J/mol K',S);\n",
"\n",
"//end"
   ]
   }
,
{
		   "cell_type": "markdown",
		   "metadata": {},
		   "source": [
			"## Example 4.1: To_calculate_the_maximum_efficiency.sce"
		   ]
		  },
  {
"cell_type": "code",
	   "execution_count": null,
	   "metadata": {
	    "collapsed": true
	   },
	   "outputs": [],
"source": [
"//A Textbook of Chemical Engineering Thermodynamics\n",
"//Chapter 4\n",
"//Second Law of Thermodynamics\n",
"//Example 1\n",
"\n",
"\n",
"clear;\n",
"clc;\n",
"\n",
"\n",
"//Given:\n",
"T1 = 700; //temperature of heat source(K)\n",
"T2 = 300; //temperature of heat sink(K)\n",
"\n",
"//To calculate the maximum efficiency\n",
"eff=((T1-T2)/T1); //efficiency of a heat engine\n",
"mprintf('Maximum efficiency of heat engine is %f',eff);\n",
"\n",
"\n",
"//end"
   ]
   }
,
{
		   "cell_type": "markdown",
		   "metadata": {},
		   "source": [
			"## Example 4.20: To_calculate_the_absolute_entropy_of_water_vapour.sce"
		   ]
		  },
  {
"cell_type": "code",
	   "execution_count": null,
	   "metadata": {
	    "collapsed": true
	   },
	   "outputs": [],
"source": [
"//A Textbook of Chemical Engineering Thermodynamics\n",
"//Chapter 4\n",
"//Second Law of Thermodynamics\n",
"//Example 20\n",
"\n",
"\n",
"clear;\n",
"clc;\n",
"\n",
"//Given:\n",
"T = 473; //temperature at entropy is to be determined (K)\n",
"Tf = 273; //base temperature (K)\n",
"Tb = 373; //boiling temperature (K)\n",
"Cpl = 4.2; //avearge heat capacity of water (kJ/kg K)\n",
"Cpg = 1.9; //avearge heat capacity of water vapour between 373 K and 473 K\n",
"Hv = 2257; //latent heat of vaporisation at 373 K (kJ/kg)\n",
"\n",
"//To determine the absolute entropy of water vapour\n",
"//Entropy of water vapour is calculated using last three terms of equation of 4.55 (Page no. 108)\n",
"S = (Cpl*log(Tb/Tf))+(Hv/Tb)+(Cpg*log(T/Tb));\n",
"mprintf('Absolute entropy of water vapour at 473 K and 101.3 kPa is %f kJ/kg K',S);\n",
"mprintf('\nIt compares favourably with the value reported in steam tables');\n",
"\n",
"//end"
   ]
   }
,
{
		   "cell_type": "markdown",
		   "metadata": {},
		   "source": [
			"## Example 4.2: To_determine_minimum_amount_of_work_done_and_heat_given_to_surrounding.sce"
		   ]
		  },
  {
"cell_type": "code",
	   "execution_count": null,
	   "metadata": {
	    "collapsed": true
	   },
	   "outputs": [],
"source": [
"//A Textbook of Chemical Engineering Thermodynamics\n",
"//Chapter 4\n",
"//Second Law of Thermodynamics\n",
"//Example 2\n",
"\n",
"\n",
"clear;\n",
"clc;\n",
"\n",
"//Given:\n",
"m = 1; //mass of water(kg)\n",
"T1 = 300; //temperature of surrounding(K)\n",
"T2 = 273; //temperature of water(K)\n",
"Hf = 334.11; //latent heat of fusion of ice(kJ/kg)\n",
"\n",
"\n",
"//To determine minimum amount of work and heat given upto surrounding\n",
"\n",
"//(a)\n",
"Q2 = m*Hf; //heat absobed at temperature T2\n",
"W = ((Q2*(T1-T2))/T2); //minimumm amount of work required\n",
"mprintf('Minimum amount of work required is %f kJ',W);\n",
" \n",
"//(b)\n",
"//Q1 is the heat given up the surrounding\n",
"Q1 = W+Q2;\n",
"mprintf('\nHeat given upto surrounding is %f kJ',Q1);\n",
"\n",
"\n",
"//end"
   ]
   }
,
{
		   "cell_type": "markdown",
		   "metadata": {},
		   "source": [
			"## Example 4.3: To_determine_efficiency_of_proposed_engine.sce"
		   ]
		  },
  {
"cell_type": "code",
	   "execution_count": null,
	   "metadata": {
	    "collapsed": true
	   },
	   "outputs": [],
"source": [
"//A Textbook of Chemical Engineering Thermodynamics\n",
"//Chapter 4\n",
"//Second Law of Thermodynamics\n",
"//Example 3\n",
"\n",
"\n",
"clear;\n",
"clc;\n",
"\n",
"\n",
"//Given:\n",
"P_out = 4.5; //output power(hp)\n",
"P_in = 6.25; //input power(kW)\n",
"T1 = 1000; //source temperature(K)\n",
"T2 = 500; //sink temperature(K)\n",
"\n",
"//To determine efficiency of proposed engine \n",
"ep = ((P_out*745.7)/(P_in*1000)); //proposed efficiency\n",
"mprintf('Efficiency of proposed engine is %f',ep);\n",
"\n",
"em = ((T1-T2)/T1); //maximum efficiency\n",
"mprintf('\nThe maximum efficieny is %f',em);\n",
"mprintf('\nHence the claim of the proposed engine is impossible');\n",
"\n",
"\n",
"//end"
   ]
   }
,
{
		   "cell_type": "markdown",
		   "metadata": {},
		   "source": [
			"## Example 4.4: To_calculate_entropy_of_evaporation.sce"
		   ]
		  },
  {
"cell_type": "code",
	   "execution_count": null,
	   "metadata": {
	    "collapsed": true
	   },
	   "outputs": [],
"source": [
"//A Textbook of Chemical Engineering Thermodynamics\n",
"//Chapter 4\n",
"//Second Law of Thermodynamics\n",
"//Example 4\n",
"\n",
"\n",
"clear;\n",
"clc;\n",
"\n",
"\n",
"//Given:\n",
"P = 500; //pressure of dry saturated steam(kPa)\n",
"\n",
"//From steam tables\n",
"Hv = 2106; //latent heat of vaporisation(kJ/kg)\n",
"T = 425; //saturation temperature(K)\n",
" \n",
"//To calculate the entropy of evaporation\n",
"//By equation 4.25 (Page no. 93)\n",
"Sv = (Hv/T); //entropy change accompanying vaporisation\n",
"mprintf('Entropy of evaporation is %f kJ/kg K',Sv);\n",
"\n",
"//end"
   ]
   }
,
{
		   "cell_type": "markdown",
		   "metadata": {},
		   "source": [
			"## Example 4.5: To_determine_change_in_entropy.sce"
		   ]
		  },
  {
"cell_type": "code",
	   "execution_count": null,
	   "metadata": {
	    "collapsed": true
	   },
	   "outputs": [],
"source": [
"//A Textbook of Chemical Engineering Thermodynamics\n",
"//Chapter 4\n",
"//Second Law of Thermodynamics\n",
"//Example 5\n",
"\n",
"\n",
"clear;\n",
"clc;\n",
"\n",
"\n",
"//Given:\n",
"m = 2; //mass of gas(kg)\n",
"T1 = 277; //initial temperature(K)\n",
"T2 = 368; //final temperature(K)\n",
"Cv = 1.42; //specific geat at constant volume(kJ/kg K)\n",
"\n",
"//To determine change in entropy\n",
"//Using equation 4.31 (Page no. 94)\n",
"S = (m*Cv*log(T2/T1)); //change in entropy(kJ/K)\n",
"mprintf('Change in entropy is %f kJ/K',S);\n",
"\n",
"\n",
"//end"
   ]
   }
,
{
		   "cell_type": "markdown",
		   "metadata": {},
		   "source": [
			"## Example 4.6: To_calculate_the_entropy_change.sce"
		   ]
		  },
  {
"cell_type": "code",
	   "execution_count": null,
	   "metadata": {
	    "collapsed": true
	   },
	   "outputs": [],
"source": [
"//A Textbook of Chemical Engineering Thermodynamics\n",
"//Chapter 4\n",
"//Second Law of Thermodynamics\n",
"//Example 6\n",
"\n",
"\n",
"clear;\n",
"clc;\n",
"\n",
"\n",
"//Given:\n",
"T = 300; //temperature in K\n",
"P1 = 10; //initial pressure(bar)\n",
"P2 = 1; //final pressure(bar)\n",
"R = 8.314; //ieal gas constant\n",
"\n",
"//To calculate the entropy change\n",
"//Using equation 4.33(Page no. 94)\n",
"S = (R*log(P1/P2)); //(kJ/kmol K)\n",
"mprintf('Entopy change is %f kJ/kmol K',S);\n",
"\n",
"\n",
"//end"
   ]
   }
,
{
		   "cell_type": "markdown",
		   "metadata": {},
		   "source": [
			"## Example 4.7: To_determine_change_in_entropy.sce"
		   ]
		  },
  {
"cell_type": "code",
	   "execution_count": null,
	   "metadata": {
	    "collapsed": true
	   },
	   "outputs": [],
"source": [
"//A Textbook of Chemical Engineering Thermodynamics\n",
"//Chapter 4\n",
"//Second Law of Thermodynamics\n",
"//Example 14\n",
"\n",
"\n",
"clear;\n",
"clc;\n",
"\n",
"\n",
"//Given:\n",
"T1 = 335; //initial temperature in K\n",
"T2 = 300; //final temperature in K\n",
"P1 = 10; //initial pressure(bar)\n",
"P2 = 1; //final pressure(bar)\n",
"Cp = 29.3; //specific heat constant at constant pressure(kJ/kmol K)\n",
"R = 8.314; //ideal gas constant\n",
"\n",
"//To determine change in entropy\n",
"//Using equation 4.30 (Page no. 94)\n",
"S = ((Cp*log(T2/T1))-(R*log(P2/P1))); //entropy change(kJ/kmol K)\n",
"mprintf('Entropy change in the process is %f kJ/kmol K',S);\n",
"\n",
"\n",
"//end"
   ]
   }
,
{
		   "cell_type": "markdown",
		   "metadata": {},
		   "source": [
			"## Example 4.8: To_determine_the_change_in_entropy.sce"
		   ]
		  },
  {
"cell_type": "code",
	   "execution_count": null,
	   "metadata": {
	    "collapsed": true
	   },
	   "outputs": [],
"source": [
"//A Textbook of Chemical Engineering Thermodynamics\n",
"//Chapter 4\n",
"//Second Law of Thermodynamics\n",
"//Example 8\n",
"\n",
"\n",
"clear;\n",
"clc;\n",
"\n",
"\n",
"//Given:\n",
"m1 = 10; //mass of water at 375 K (kg)\n",
"m2 = 30; //mass of water at 275 K (kg)\n",
"c = 4.2; //specific heat of water (kJ.kg K)\n",
"\n",
"\n",
"//To determine the change in entropy\n",
"\n",
"//Let T be the final temperature(K)\n",
"T = ((m1*375)+(m2*275))/(m1+m2);\n",
"//S1 be change in entropy for hot water\n",
"S1 = (m1*c*log(T/375)); //[kJ/K]\n",
"//S2 be the change in entropy for cold water\n",
"S2 = (m2*c*log(T/275)); //[kJ/K]\n",
"//S be the total entropy change\n",
"S = S1+S2; \n",
"mprintf('The total entropy change is %f kJ/K',S);\n",
"//end"
   ]
   }
,
{
		   "cell_type": "markdown",
		   "metadata": {},
		   "source": [
			"## Example 4.9: To_calculate_the_total_entropy_change.sce"
		   ]
		  },
  {
"cell_type": "code",
	   "execution_count": null,
	   "metadata": {
	    "collapsed": true
	   },
	   "outputs": [],
"source": [
"//A Textbook of Chemical Engineering Thermodynamics\n",
"//Chapter 4\n",
"//Second Law of Thermodynamics\n",
"//Example 9\n",
"\n",
"\n",
"clear;\n",
"clc;\n",
"\n",
"\n",
"//Given:\n",
"m1 = 35; //mass of steel in kg\n",
"m2 = 150; //mass of oil in kg\n",
"T1 = 725; //temperature of steel(K)\n",
"T2 = 275; //temperature of oil(K)\n",
"c1 = 0.88; //specific heat of steel (kJ/kg K)\n",
"c2 = 2.5; //specific heat of oil(kJ/kg K)\n",
"\n",
"\n",
"//To calculate the total entropy change\n",
"//Let T be the final temperature\n",
"T = (((m1*c1*T1)+(m2*c2*T2))/((m1*c1)+(m2*c2)));\n",
"//S1 be the in entropy for steel\n",
"S1 = (m1*c1*log(T/T1)); //[kJ/K]\n",
"//S2 be the change in entropy for oil\n",
"S2 = (m2*c2*log(T/T2)); //[kJ/K]\n",
"//S be the total entropy change\n",
"S = S1+S2;\n",
"mprintf('The total entropy change is %f kJ/K',S);\n",
"\n",
"//end"
   ]
   }
],
"metadata": {
		  "kernelspec": {
		   "display_name": "Scilab",
		   "language": "scilab",
		   "name": "scilab"
		  },
		  "language_info": {
		   "file_extension": ".sce",
		   "help_links": [
			{
			 "text": "MetaKernel Magics",
			 "url": "https://github.com/calysto/metakernel/blob/master/metakernel/magics/README.md"
			}
		   ],
		   "mimetype": "text/x-octave",
		   "name": "scilab",
		   "version": "0.7.1"
		  }
		 },
		 "nbformat": 4,
		 "nbformat_minor": 0
}
