{
"cells": [
 {
		   "cell_type": "markdown",
	   "metadata": {},
	   "source": [
       "# Chapter 6: Thermodynamic Properties of Pure Fluids"
	   ]
	},
{
		   "cell_type": "markdown",
		   "metadata": {},
		   "source": [
			"## Example 6.10: To_calculate_Cv_for_mercury.sce"
		   ]
		  },
  {
"cell_type": "code",
	   "execution_count": null,
	   "metadata": {
	    "collapsed": true
	   },
	   "outputs": [],
"source": [
"//A Textbook of Chemical Engineering Thermodynamics\n",
"//Chapter 6\n",
"//Thermodynamic Properties of Pure Fluids\n",
"//Example 10\n",
"\n",
"\n",
"clear;\n",
"clc;\n",
"\n",
"\n",
"//Given:\n",
"betta = 1.8*10^-4; //coeffecient of volume expansion (K^-1)\n",
"k = 3.9*10^-6; //coeffecient of compressibility (bar^-1)\n",
"T = 273; //temperature in K\n",
"d = 13.596*10^3; //density (kg/m^3)\n",
"Cp = 0.14*10^3; //(J/kg K)\n",
"\n",
"//To calculate Cv for mercury\n",
"//Using equation 6.55 (Page no. 208)\n",
"Cv = Cp - (betta^2*T*10^5)/(k*d);\n",
"\n",
"mprintf('Cv for mercury is %f J/kg K',Cv);\n",
"\n",
"//end"
   ]
   }
,
{
		   "cell_type": "markdown",
		   "metadata": {},
		   "source": [
			"## Example 6.11: Theoretical_problem.sce"
		   ]
		  },
  {
"cell_type": "code",
	   "execution_count": null,
	   "metadata": {
	    "collapsed": true
	   },
	   "outputs": [],
"source": [
"//A Textbook of Chemical Engineering Thermodynamics\n",
"//Chapter 6\n",
"//Thermodynamic Properties of Pure Fluids\n",
"//Example 11\n",
"\n",
"\n",
"clear;\n",
"clc;\n",
"\n",
"\n",
"//Given:\n",
"\n",
"//The given example is theoretical and does not involve any numerical computation\n",
"\n",
"//end"
   ]
   }
,
{
		   "cell_type": "markdown",
		   "metadata": {},
		   "source": [
			"## Example 6.12: Theoretical_problem.sce"
		   ]
		  },
  {
"cell_type": "code",
	   "execution_count": null,
	   "metadata": {
	    "collapsed": true
	   },
	   "outputs": [],
"source": [
"//A Textbook of Chemical Engineering Thermodynamics\n",
"//Chapter 6\n",
"//Thermodynamic Properties of Pure Fluids\n",
"//Example 12\n",
"\n",
"\n",
"clear;\n",
"clc;\n",
"\n",
"\n",
"//Given:\n",
"\n",
"//The given example is theoretical and does not involve any numerical computation\n",
"\n",
"//end"
   ]
   }
,
{
		   "cell_type": "markdown",
		   "metadata": {},
		   "source": [
			"## Example 6.13: Theoretical_problem.sce"
		   ]
		  },
  {
"cell_type": "code",
	   "execution_count": null,
	   "metadata": {
	    "collapsed": true
	   },
	   "outputs": [],
"source": [
"//A Textbook of Chemical Engineering Thermodynamics\n",
"//Chapter 6\n",
"//Thermodynamic Properties of Pure Fluids\n",
"//Example 13\n",
"\n",
"\n",
"clear;\n",
"clc;\n",
"\n",
"\n",
"//Given:\n",
"\n",
"//The given example is theoretical and does not involve any numerical computation\n",
"\n",
"//end"
   ]
   }
,
{
		   "cell_type": "markdown",
		   "metadata": {},
		   "source": [
			"## Example 6.14: Theoretical_problem.sce"
		   ]
		  },
  {
"cell_type": "code",
	   "execution_count": null,
	   "metadata": {
	    "collapsed": true
	   },
	   "outputs": [],
"source": [
"//A Textbook of Chemical Engineering Thermodynamics\n",
"//Chapter 6\n",
"//Thermodynamic Properties of Pure Fluids\n",
"//Example 14\n",
"\n",
"\n",
"clear;\n",
"clc;\n",
"\n",
"\n",
"//Given:\n",
"\n",
"//The given example is theoretical and does not involve any numerical computation\n",
"\n",
"//end"
   ]
   }
,
{
		   "cell_type": "markdown",
		   "metadata": {},
		   "source": [
			"## Example 6.15: Theoretical_problem.sce"
		   ]
		  },
  {
"cell_type": "code",
	   "execution_count": null,
	   "metadata": {
	    "collapsed": true
	   },
	   "outputs": [],
"source": [
"//A Textbook of Chemical Engineering Thermodynamics\n",
"//Chapter 6\n",
"//Thermodynamic Properties of Pure Fluids\n",
"//Example 15\n",
"\n",
"\n",
"clear;\n",
"clc;\n",
"\n",
"\n",
"//Given:\n",
"\n",
"//The given example is theoretical and does not involve any numerical computation\n",
"\n",
"//end"
   ]
   }
,
{
		   "cell_type": "markdown",
		   "metadata": {},
		   "source": [
			"## Example 6.16: Theoretical_problem.sce"
		   ]
		  },
  {
"cell_type": "code",
	   "execution_count": null,
	   "metadata": {
	    "collapsed": true
	   },
	   "outputs": [],
"source": [
"//A Textbook of Chemical Engineering Thermodynamics\n",
"//Chapter 6\n",
"//Thermodynamic Properties of Pure Fluids\n",
"//Example 16\n",
"\n",
"\n",
"clear;\n",
"clc;\n",
"\n",
"\n",
"//Given:\n",
"\n",
"//The given example is theoretical and does not involve any numerical computation\n",
"\n",
"//end"
   ]
   }
,
{
		   "cell_type": "markdown",
		   "metadata": {},
		   "source": [
			"## Example 6.17: Theoretical_problem.sce"
		   ]
		  },
  {
"cell_type": "code",
	   "execution_count": null,
	   "metadata": {
	    "collapsed": true
	   },
	   "outputs": [],
"source": [
"//A Textbook of Chemical Engineering Thermodynamics\n",
"//Chapter 6\n",
"//Thermodynamic Properties of Pure Fluids\n",
"//Example 17\n",
"\n",
"\n",
"clear;\n",
"clc;\n",
"\n",
"\n",
"//Given:\n",
"\n",
"//The give example is theoretical and does not involve any numerical computation\n",
"\n",
"//end"
   ]
   }
,
{
		   "cell_type": "markdown",
		   "metadata": {},
		   "source": [
			"## Example 6.18: Theoretical_problem.sce"
		   ]
		  },
  {
"cell_type": "code",
	   "execution_count": null,
	   "metadata": {
	    "collapsed": true
	   },
	   "outputs": [],
"source": [
"//A Textbook of Chemical Engineering Thermodynamics\n",
"//Chapter 6\n",
"//Thermodynamic Properties of Pure Fluids\n",
"//Example 18\n",
"\n",
"\n",
"clear;\n",
"clc;\n",
"\n",
"\n",
"//Given:\n",
"\n",
"//The given example is theoretical and does not involve any numeriacl computation\n",
"\n",
"//end"
   ]
   }
,
{
		   "cell_type": "markdown",
		   "metadata": {},
		   "source": [
			"## Example 6.19: Theoretical_problem.sce"
		   ]
		  },
  {
"cell_type": "code",
	   "execution_count": null,
	   "metadata": {
	    "collapsed": true
	   },
	   "outputs": [],
"source": [
"//A Textbook of Chemical Engineering Thermodynamics\n",
"//Chapter 6\n",
"//Thermodynamic Properties of Pure Fluids\n",
"//Example 19\n",
"\n",
"\n",
"clear;\n",
"clc;\n",
"\n",
"\n",
"//Given:\n",
"\n",
"//The given example is theoretical and does not involve any numerical computation\n",
"\n",
"//end"
   ]
   }
,
{
		   "cell_type": "markdown",
		   "metadata": {},
		   "source": [
			"## Example 6.1: To_determine_change_in_entropy_of_system.sce"
		   ]
		  },
  {
"cell_type": "code",
	   "execution_count": null,
	   "metadata": {
	    "collapsed": true
	   },
	   "outputs": [],
"source": [
"//A Textbook of Chemical Engineering Thermodynamics\n",
"//Chapter 6\n",
"//Thermodynamic Properties of Pure Fluids\n",
"//Example 1\n",
"\n",
"\n",
"clear;\n",
"clc;\n",
"\n",
"\n",
"//Given:\n",
"betta = 1.25*10^-3; //coeffecient of expansion (K^-1)\n",
"V = 0.1; //molar volume of organic liquid (m^3/kmol)\n",
"P2 = 20; //final pressure (bar)\n",
"P1 = 1; //initial pressure (bar)\n",
"\n",
"//To determine the change in entropy of system\n",
"//betta = (1/V)*(del V/del T)p\n",
"//Let k = (del V/del T)p\n",
"k = betta*V;\n",
"\n",
"//Considering Maxwell's relation Eq. 6.24 (Page no. 193)\n",
"//dS = -k*(dP)\n",
"S = -k*(P2-P1)*10^5; //entropy change (J/kmol K)\n",
"mprintf('Change in entropy is %f J/kmol K',S);\n",
"mprintf('\n It is assumed that (del V/del T)p is constant in the pressure range 1 to 20 bar');\n",
"\n",
"//end"
   ]
   }
,
{
		   "cell_type": "markdown",
		   "metadata": {},
		   "source": [
			"## Example 6.20: Theoretical_problem.sce"
		   ]
		  },
  {
"cell_type": "code",
	   "execution_count": null,
	   "metadata": {
	    "collapsed": true
	   },
	   "outputs": [],
"source": [
"//A Textbook of Chemical Engineering Thermodynamics\n",
"//Chapter 6\n",
"//Thermodynamic Properties of Pure Fluids\n",
"//Example 20\n",
"\n",
"\n",
"clear;\n",
"clc;\n",
"\n",
"\n",
"//Given:\n",
"\n",
"//The given example is theoretical and does not invove any numerical computation\n",
"\n",
"//end"
   ]
   }
,
{
		   "cell_type": "markdown",
		   "metadata": {},
		   "source": [
			"## Example 6.21: To_estimate_the_fugacity_of_ammonia.sce"
		   ]
		  },
  {
"cell_type": "code",
	   "execution_count": null,
	   "metadata": {
	    "collapsed": true
	   },
	   "outputs": [],
"source": [
"//A Textbook of Chemical Engineering Thermodynamics\n",
"//Chapter 6\n",
"//Thermodynamic Properties of Pure Fluids\n",
"//Example 21\n",
"\n",
"\n",
"clear;\n",
"clc;\n",
"\n",
"\n",
"//Given:\n",
"//Eqution of state: P(V-b) = RT\n",
"P = 10; //pressure (bar)\n",
"T = 298; //temperature (K)\n",
"b = 3.707*10^-5; //Vander Waal's constant (m^3/mol)\n",
"R = 8.314; //ideal gas constant\n",
"\n",
"//To estimate the fugacity of ammonia\n",
"//Since PV = RT + Pb, Z = 1 + (Pb/RT)\n",
"//Using equation 6.127 (Page no. 228)\n",
"f = P*(%e^((b*P*10^5)/(R*T)));\n",
"mprintf('Fugacity f = %f bar',f);\n",
"\n",
"//end"
   ]
   }
,
{
		   "cell_type": "markdown",
		   "metadata": {},
		   "source": [
			"## Example 6.22: To_determine_the_fugacity_of_gas.sce"
		   ]
		  },
  {
"cell_type": "code",
	   "execution_count": null,
	   "metadata": {
	    "collapsed": true
	   },
	   "outputs": [],
"source": [
"//A Textbook of Chemical Engineering Thermodynamics\n",
"//Chapter 6\n",
"//Thermodynamic Properties of Pure Fluids\n",
"//Example 22\n",
"\n",
"\n",
"clear;\n",
"clc;\n",
"\n",
"\n",
"//Given:\n",
"//intg(alphadP) = -556.61 J/mol\n",
"P = 50; //pressure in bar\n",
"T = 300; //temperature in K\n",
"R = 8.314; //ideal gas constant\n",
"\n",
"//To determine the fugacity of gas\n",
"//Using equation 6.130 (Page no. 230)\n",
"f = P*%e^(-556.61/(R*T));\n",
"mprintf('Fugacity of gas at 50 bar and 300 K is %i bar',f);\n",
"\n",
"//end"
   ]
   }
,
{
		   "cell_type": "markdown",
		   "metadata": {},
		   "source": [
			"## Example 6.23: To_determine_the_fugacity_coeffeceint_at_given_pressure.sce"
		   ]
		  },
  {
"cell_type": "code",
	   "execution_count": null,
	   "metadata": {
	    "collapsed": true
	   },
	   "outputs": [],
"source": [
"//A Textbook of Chemical Engineering Thermodynamics\n",
"//Chapter 6\n",
"//Thermodynamic Properties of Pure Fluids\n",
"//Example 23\n",
"\n",
"\n",
"clear;\n",
"clc;\n",
"\n",
"\n",
"//Given:\n",
"//Equation of state: PV = RT(1-0.00513P)\n",
"P = [1 5 10]; //pressures in bar\n",
"\n",
"//To determine fugacity coefficient at given pressures\n",
"//According to Eq. 6.118 (Page no. 228)\n",
"//RTd(ln f) = VdP = RT(d ln P - 0.00513dP)\n",
"//phi = %e^(-0.00513*P)\n",
"\n",
"for i = 1:3\n",
"    phi(i) = %e^(-0.00513*P(i));\n",
"    mprintf('\n Fugacity coeffecient at %i bar is %f',P(i),phi(i));\n",
"end\n",
"\n",
"//end"
   ]
   }
,
{
		   "cell_type": "markdown",
		   "metadata": {},
		   "source": [
			"## Example 6.24: Theoretical_problem.sce"
		   ]
		  },
  {
"cell_type": "code",
	   "execution_count": null,
	   "metadata": {
	    "collapsed": true
	   },
	   "outputs": [],
"source": [
"//A Textbook of Chemical Engineering Thermodynamics\n",
"//Chapter 6\n",
"//Thermodynamic Properties of Pure Fluids\n",
"//Example 24\n",
"\n",
"\n",
"clear;\n",
"clc;\n",
"\n",
"\n",
"//Given:\n",
"\n",
"//The given example is theoretical and does not involve any numerical computation\n",
"\n",
"//end"
   ]
   }
,
{
		   "cell_type": "markdown",
		   "metadata": {},
		   "source": [
			"## Example 6.25: To_determine_the_fugacity_of_pure_ethylene.sce"
		   ]
		  },
  {
"cell_type": "code",
	   "execution_count": null,
	   "metadata": {
	    "collapsed": true
	   },
	   "outputs": [],
"source": [
"//A Textbook of Chemical Engineering Thermodynamics\n",
"//Chapter 6\n",
"//Thermodynamic Properties of Pure Fluids\n",
"//Example 25\n",
"\n",
"\n",
"clear;\n",
"clc;\n",
"\n",
"\n",
"//Given:\n",
"P = 100; //pressure in bar\n",
"T = 373; //temperature in K\n",
"a = 0.453; //Vander Waal's constant (J m^3/mol^2)\n",
"b = 0.571*10^-4; //Vander Waal's constant (m^3/mol)\n",
"V = 2.072*10^-4; //molar volume (m^3/mol)\n",
"R = 8.314; //ideal gas constant\n",
"\n",
"//To determine the fugacity of pure ethylene\n",
"//Using eq. 6.139 (Page no. 233)\n",
"ln_f = (b/(V-b)) - ((2*a)/(R*T*V)) + log((R*T*10^-5)/(V-b)); \n",
"f = %e^ln_f;\n",
"mprintf('Fugacity is %f bar',f);\n",
"\n",
"//end"
   ]
   }
,
{
		   "cell_type": "markdown",
		   "metadata": {},
		   "source": [
			"## Example 6.26: To_determine_fugacity_and_fugacity_coeffecient_of_steam.sce"
		   ]
		  },
  {
"cell_type": "code",
	   "execution_count": null,
	   "metadata": {
	    "collapsed": true
	   },
	   "outputs": [],
"source": [
"//A Textbook of Chemical Engineering Thermodynamics\n",
"//Chapter 6\n",
"//Thermodynamic Properties of Pure Fluids\n",
"//Example 26\n",
"\n",
"\n",
"clear;\n",
"clc;\n",
"\n",
"\n",
"//Given:\n",
"T = 623; //temperature in K\n",
"\n",
"//Data from steam tables:\n",
"H = 3159; //enthalpy at 1000 kPa and 623 K (kJ/kg)\n",
"S = 7.3; //entropy at 1000 kPa and 623 K (kJ/kg K)\n",
"Ho = 3176; //enthalpy at 101.3 kPa and 623 K (kJ/kg)\n",
"So = 8.38; //entropy at 101.3 kPa and 623 K (kJ/kg K)\n",
"fo = 101.3; //fugacity at 101.3 kPa (kPa)\n",
"R = 8.314/18; //ideal gas consatnt (kJ/kg K)\n",
"\n",
"//To determine fugacity and fugacity coeffecient of steam\n",
"ln_phi = (1/(R*T))*((H-Ho)-T*(S-So));\n",
"f = fo*%e^ln_phi;\n",
"phi = f/fo;\n",
"mprintf('Fugacity of steam is %f bar',f/100);\n",
"mprintf('\n Fugacity coeffecient is %f',phi);\n",
"\n",
"//end"
   ]
   }
,
{
		   "cell_type": "markdown",
		   "metadata": {},
		   "source": [
			"## Example 6.27: To_estimate_fugacity_of_ammonia.sce"
		   ]
		  },
  {
"cell_type": "code",
	   "execution_count": null,
	   "metadata": {
	    "collapsed": true
	   },
	   "outputs": [],
"source": [
"//A Textbook of Chemical Engineering Thermodynamics\n",
"//Chapter 6\n",
"//Thermodynamic Properties of Pure Fluids\n",
"//Example 27\n",
"\n",
"\n",
"clear;\n",
"clc;\n",
"\n",
"\n",
"//Given:\n",
"T = 473; //temperature in K\n",
"P = 50*10^5; //pressure in Pa\n",
"d = 24.3; //density of ammonia (kg/m^3)\n",
"m = 17; //molecular wt of ammonia\n",
"R = 8.314; //ideal gas constant\n",
"\n",
"//To estimate the fugacity of ammonia\n",
"V = m/(d*1000); //molar volume of ammonia (m^3/kmol)\n",
"//Using eq. 6.142 (Page no. 234)\n",
"f = (V*(P^2))/(R*T);\n",
"mprintf('The fugacity of ammonia is %f bar',f/10^5);\n",
"\n",
"//end"
   ]
   }
,
{
		   "cell_type": "markdown",
		   "metadata": {},
		   "source": [
			"## Example 6.28: To_calculate_the_fugacity_of_liquid_water.sce"
		   ]
		  },
  {
"cell_type": "code",
	   "execution_count": null,
	   "metadata": {
	    "collapsed": true
	   },
	   "outputs": [],
"source": [
"//A Textbook of Chemical Engineering Thermodynamics\n",
"//Chapter 6\n",
"//Thermodynamic Properties of Pure Fluids\n",
"//Example 28\n",
"\n",
"\n",
"clear;\n",
"clc;\n",
"\n",
"\n",
"//Given:\n",
"T = 303; //temperature in K\n",
"P = 10; //pressure in bar\n",
"Ps = 4.241/100; //saturation pressure (bar)\n",
"sp_vol = 1.004 *10^-3; //specific volume at 303 K (m^3/kg)\n",
"R = 8.314; //ideal gas constant\n",
"\n",
"//To calculate the fugacity of liquid water\n",
"V = sp_vol*10^-3*18; //molar volume (m^3/mol)\n",
"\n",
"//Assuming vapour behaves as an ideal gas\n",
"f_sat = Ps;\n",
"//Using Eq. 6.144 (Page no. 235)\n",
"ln_phi = (V/(R*T))*(P-Ps)*10^5;\n",
"f = f_sat*%e^ln_phi;\n",
"mprintf('Fugacity of liquid water at given conditions is %f bar',f);\n",
"\n",
"//end"
   ]
   }
,
{
		   "cell_type": "markdown",
		   "metadata": {},
		   "source": [
			"## Example 6.29: To_determine_the_fugacity_of_n_butane_in_liquid_state_at_given_conditions.sce"
		   ]
		  },
  {
"cell_type": "code",
	   "execution_count": null,
	   "metadata": {
	    "collapsed": true
	   },
	   "outputs": [],
"source": [
"//A Textbook of Chemical Engineering Thermodynamics\n",
"//Chapter 6\n",
"//Thermodynamic Properties of Pure Fluids\n",
"//Example 29\n",
"\n",
"\n",
"clear;\n",
"clc;\n",
"\n",
"\n",
"//Given:\n",
"T = 350; //temperature in K\n",
"P = 60; //pressure in bar\n",
"Ps = 9.35; //vapour pressure at 350 K (bar)\n",
"V = 0.1072*10^-3; //molar volume (m^3/mol\n",
"phi = 0.834; //fugacity coeffecient\n",
"R = 8.314; //ideal gas constant\n",
"\n",
"//To determine fugaity of n butane in liquid state at given conditions\n",
"f_sat = phi*Ps;\n",
"//Using eq. 6.144 (Page no. 235)\n",
"ln_phi = (V/(R*T))*(P-Ps)*10^5;\n",
"f = f_sat*%e^ln_phi;\n",
"mprintf('Fugacity of n-butane in liquid state at given conditions is %f bar',f);\n",
"\n",
"//end"
   ]
   }
,
{
		   "cell_type": "markdown",
		   "metadata": {},
		   "source": [
			"## Example 6.2: To_calculate_vapour_pressure_of_water_at_363_K.sce"
		   ]
		  },
  {
"cell_type": "code",
	   "execution_count": null,
	   "metadata": {
	    "collapsed": true
	   },
	   "outputs": [],
"source": [
"//A Textbook of Chemical Engineering Thermodynamics\n",
"//Chapter 6\n",
"//Thermodynamic Properties of Pure Fluids\n",
"//Example 2\n",
"\n",
"\n",
"clear;\n",
"clc;\n",
"\n",
"\n",
"//Given:\n",
"T1 = 363; //temperature (K)\n",
"T2 = 373; //temperature (K)\n",
"P2 = 101.3; //vapour pressure at 373 K (kPa)\n",
"H = 2275*18; //mean heat of vaporisation (kJ/kmol)\n",
"R =8.314; //ideal gas constant (kJ/kmol K)\n",
"\n",
"//To calculate vapour pressure of water at 363 K\n",
"//Using eq. 6.28 (Page no. 196)\n",
"P1 = P2/(%e^((H/R)*((1/T1)-(1/T2))));\n",
"mprintf(' Vapour pressure of water at 363 K is %f kPa',P1);\n",
"\n",
"//end"
   ]
   }
,
{
		   "cell_type": "markdown",
		   "metadata": {},
		   "source": [
			"## Example 6.30: To_determine_the_activity_of_solid_magnesium.sce"
		   ]
		  },
  {
"cell_type": "code",
	   "execution_count": null,
	   "metadata": {
	    "collapsed": true
	   },
	   "outputs": [],
"source": [
"//A Textbook of Chemical Engineering Thermodynamics\n",
"//Chapter 6\n",
"//Thermodynamic Properties of Pure Fluids\n",
"//Example 30\n",
"\n",
"\n",
"clear;\n",
"clc;\n",
"\n",
"\n",
"//Given: \n",
"M = 24.32; //molecular wt of solid magnesium\n",
"T = 300; //temperature in K\n",
"P = 10; //pressure in bar\n",
"Po = 1; //reference state pressure (bar)\n",
"d = 1.745*10^3; //density of Mg at 300 K in kg/m^3\n",
"\n",
"//To determine the ativity of solid magnesiun\n",
"//Using eq. 6.149 (Page no. 237)\n",
"ln_a = (M/(d*10^3*R*T))*(P-Po)*10^5;\n",
"a = %e^ln_a;\n",
"mprintf('Acivity of solid magnesium at 300 K and 10 bar is %f',a);\n",
"\n",
"//end"
   ]
   }
,
{
		   "cell_type": "markdown",
		   "metadata": {},
		   "source": [
			"## Example 6.3: To_determine_the_melting_point_of_mercury_at_10_bar.sce"
		   ]
		  },
  {
"cell_type": "code",
	   "execution_count": null,
	   "metadata": {
	    "collapsed": true
	   },
	   "outputs": [],
"source": [
"//A Textbook of Chemical Engineering Thermodynamics\n",
"//Chapter 6\n",
"//Thermodynamic Properties of Pure Fluids\n",
"//Example 3\n",
"\n",
"\n",
"clear;\n",
"clc;\n",
"\n",
"\n",
"//Given:\n",
"d_l = 13.69*10^3; //density of mercury in liquid state (kg/m^3)\n",
"d_s = 14.193*10^3; //density of mercury in solid state (kg/m^3)\n",
"T1 = 234.33; //temperature in K\n",
"P1 = 1; //initial pressure in bar\n",
"P2 = 10; //final pressure in bar\n",
"Hf = 9.7876; //heat of fusion of mercury (kJ/kg)\n",
"\n",
"//To determine the melting point of mercury at 10 bar\n",
"//Using Clapeyron equation [Eq. 6.25 Page no. 195]\n",
"//Assuming del_V/del_H remains constant, log(T2/T1) = (del_V/del_H)*(P2-P1)\n",
"\n",
"del_V = (1/d_l)-(1/d_s);\n",
"T2 = T1*(%e^((del_V/Hf)*(P2-P1)));\n",
"mprintf('The melting point of mercury at 10 bar is %f K',T2);\n",
"\n",
"//end"
   ]
   }
,
{
		   "cell_type": "markdown",
		   "metadata": {},
		   "source": [
			"## Example 6.4: To_calculate_increase_in_entropy_of_solid_magnesium.sce"
		   ]
		  },
  {
"cell_type": "code",
	   "execution_count": null,
	   "metadata": {
	    "collapsed": true
	   },
	   "outputs": [],
"source": [
"//A Textbook of Chemical Engineering Thermodynamics\n",
"//Chapter 6\n",
"//Thermodynamic Properties of Pure Fluids\n",
"//Example 4\n",
"\n",
"\n",
"clear;\n",
"clc;\n",
"\n",
"\n",
"//Given:\n",
"T1 = 300; //initial temperature (K)\n",
"T2 = 800; //final temperature (K)\n",
"\n",
"//Heat capacity (J/mol K)\n",
"//Cp = 26.04+(5.586*10^-3*T)+(28.476*10^4*T^-2)\n",
"\n",
"//To determine the increase in entropy of solid magnesium\n",
"//Integrating Eq 6.31 (Page no. 198), we get\n",
"//S = intg(Cp*(dT/T))\n",
"S = 26.04*log(T2/T1)+5.586*10^-3*(T2-T1)+28.476*10^4/(-2)*(T2^-2-T1^-2);\n",
"mprintf('The increase in entropy of solid magnesium is %f J/mol K',S);\n",
"\n",
"//end"
   ]
   }
,
{
		   "cell_type": "markdown",
		   "metadata": {},
		   "source": [
			"## Example 6.5: Theoretical_problem.sce"
		   ]
		  },
  {
"cell_type": "code",
	   "execution_count": null,
	   "metadata": {
	    "collapsed": true
	   },
	   "outputs": [],
"source": [
"//A Textbook of Chemical Engineering Thermodynamics\n",
"//Chapter 6\n",
"//Thermodynamic Properties of Pure Fluids\n",
"//Example 5\n",
"\n",
"\n",
"clear;\n",
"clc;\n",
"\n",
"\n",
"//Given:\n",
"\n",
"//The given example is theoretical and does not involve any numerical computation\n",
"\n",
"//end"
   ]
   }
,
{
		   "cell_type": "markdown",
		   "metadata": {},
		   "source": [
			"## Example 6.6: Theoretical_problem.sce"
		   ]
		  },
  {
"cell_type": "code",
	   "execution_count": null,
	   "metadata": {
	    "collapsed": true
	   },
	   "outputs": [],
"source": [
"//A Textbook of Chemical Engineering Thermodynamics\n",
"//Chapter 6\n",
"//Thermodynamic Properties of Pure Fluids\n",
"//Example 6\n",
"\n",
"\n",
"clear;\n",
"clc;\n",
"\n",
"\n",
"//Given:\n",
"\n",
"//The given example is theoretical and does not involve any numerical computation\n",
"\n",
"//end"
   ]
   }
,
{
		   "cell_type": "markdown",
		   "metadata": {},
		   "source": [
			"## Example 6.7: EX6_7.sce"
		   ]
		  },
  {
"cell_type": "code",
	   "execution_count": null,
	   "metadata": {
	    "collapsed": true
	   },
	   "outputs": [],
"source": [
"//A Textbook of Chemical Engineering Thermodynamics\n",
"//Chapter 6\n",
"//Thermodynamic Properties of Pure Fluids\n",
"//Example 7\n",
"\n",
"\n",
"clear;\n",
"clc;\n",
"\n",
"\n",
"//Given:\n",
"T = 773; //temperature (K)\n",
"P = 100; //pressure (bar)\n",
"Ho = 0; //enthalpy of nitrogen at 273 K and 1 bar\n",
"So = 192.4; //entropy of nitrogen at 298 K and 1 bar\n",
"To = 273; //(K)\n",
"Po = 1; //(bar)\n",
"R = 8.314; //ideal gas constant (kJ/kmol K)\n",
"//Cp = 27.3+(4.2*10^-3*T) molal heat capacity at 1 bar\n",
"\n",
"//To calculate internal energy enthalpy entropy and free energyfor one mole of nitrogen\n",
"//Step 1:\n",
"//Assuming that nitrogen is initially at 273 K and 1 bar\n",
"//del_H1 = intg(CpdT)\n",
"del_H1 = 27.3*(T-To)+4.2*10^-3*(T^2-To^2)/2;\n",
"\n",
"//Assuming that nitrogen is initially at 298 K and 1 bar\n",
"//del_S1 = intg(Cp*(dT/T))\n",
"del_S1 = 27.3*log(T/To)+4.2*10^-3*(T-To);\n",
"H1 = Ho + del_H1;\n",
"S1 = So + del_S1;\n",
"\n",
"//Step 2:\n",
"//del_H2 = [V - T*(del_V/del_T)p]dP\n",
"//Since nitrogen behaves as ideal gas\n",
"//(del_V/del_T)p = R/P, V-(R*T)/P = 0\n",
"del_H2 = 0;\n",
"del_S2 = -R*log(P/Po);\n",
"H = H1 + del_H2;\n",
"S = S1 + del_S2;\n",
"\n",
"//Internal energy: U = H-PV = H-RT (J/mol)\n",
"U = H - (R*T);\n",
"\n",
"//Gibbs free energy (J/mol)\n",
"G = H-(T*S);\n",
"\n",
"mprintf('Enthalpy is %5.3e J/mol',H);\n",
"mprintf('\n Entropy is %f J/mol K',S);\n",
"mprintf('\n Internal energy is %4.3e J/mol',U);\n",
"mprintf('\n Gibbs free energy is %4.3e J/mol',G);\n",
"\n",
"//end"
   ]
   }
,
{
		   "cell_type": "markdown",
		   "metadata": {},
		   "source": [
			"## Example 6.8: To_calculate_entropy_change_and_mean_heat_capacity.sce"
		   ]
		  },
  {
"cell_type": "code",
	   "execution_count": null,
	   "metadata": {
	    "collapsed": true
	   },
	   "outputs": [],
"source": [
"//A Textbook of Chemical Engineering Thermodynamics\n",
"//Chapter 6\n",
"//Thermodynamic Properties of Pure Fluids\n",
"//Example 8\n",
"\n",
"\n",
"clear;\n",
"clc;\n",
"\n",
"\n",
"//Given:\n",
"//Equation of state: P(V-B) = RT + (A*P^2)/T\n",
"Cp = 33.6; //mean specific heat at atmosheric pressure (J/mol K)\n",
"A = 1*10^-3; //m^3 K/(bar)mol\n",
"B = 8.0*10^-5; //m^3/mol\n",
"R = 8.314*10^-5; //ideal gas constant (m^3 (bar)/mol K)\n",
"\n",
"//To calculate entropy change and mean heat capacity\n",
"\n",
"//(a). The entropy change when the state of gas is changed from state 1 (4 bar, 300 K) to state 2 (12 bar, 400 K)\n",
"//The proposed changed is assumed to take place in 3 steps in series as illustrated in Fig. 6.4 (Page no. 206)\n",
"//Step 1: Process AC, isothermal at 300 K\n",
"//Step 2: Process CD, isobaric at 1 bar\n",
"//Step 3: Process DB, isothermal at 400 K\n",
"//(del_V/del_T)p = R/P - AP/T^2\n",
"\n",
"//For step 1:\n",
"Po = 4; //pressure at A (bar)\n",
"P1 = 1; //pressure at C (bar)\n",
"T = 300; //temperature (K)\n",
"//del_S1 = intg[(del_V/del_T)pdP]\n",
"del_S1 = (R*log(Po/P1) - (A/T^2)*(Po^2-P1^2)/2)*10^5; //(J/mol K)\n",
"\n",
"//For step 2:\n",
"T1 = 300; //temperature at C (K)\n",
"T2 = 400; //temperature at D (K)\n",
"del_S2 = Cp*log(T2/T1); //(J/mol K)\n",
"\n",
"//For step 3:\n",
"P2 = 1; //pressure at D (bar)\n",
"P3 = 12; //pressure at B (bar)\n",
"T = 400; //temperature (K)\n",
"del_S3 = (R*log(P2/P3) - (A/T^2)*(P2^2-P3^2)/2)*10^5; //(J/mol K)\n",
"S = del_S1+del_S2+del_S3; //total entropy change\n",
"mprintf('(a). Total entropy change is %f J/mol K',S);\n",
"\n",
"//(b). The mean heat capacity at 12 bar\n",
"//If the change is brouhgt along ACo and CoB\n",
"//For ACo\n",
"P1 = 4; //pressure at A (bar)\n",
"P2 = 12; //pressure at Co (bar)\n",
"T = 300; //temperature (K)\n",
"del_S1 = R*log(P1/P2) - (A/T^2)*(P1^2-P2^2)/2;\n",
"\n",
"//For CoB\n",
"T2 = 400; //temperature at B (K)\n",
"T1 = 300; //temperature at Co (K)\n",
"del_S2 = S-del_S1;\n",
"Cpm = del_S2/(log(T2/T1));\n",
"mprintf('\n (b). The mean heat capacity at 12 bar is %f J/mol K',Cpm);\n",
"\n",
"//end"
   ]
   }
,
{
		   "cell_type": "markdown",
		   "metadata": {},
		   "source": [
			"## Example 6.9: Theoretical_problem.sce"
		   ]
		  },
  {
"cell_type": "code",
	   "execution_count": null,
	   "metadata": {
	    "collapsed": true
	   },
	   "outputs": [],
"source": [
"//A Textbook of Chemical Engineering Thermodynamics\n",
"//Chapter 6\n",
"//Thermodynamic Properties of Pure Fluids\n",
"//Example 9\n",
"\n",
"\n",
"clear;\n",
"clc;\n",
"\n",
"\n",
"//Given:\n",
"\n",
"//The given example is theoretical and does not involve any numerical computation\n",
"\n",
"//end"
   ]
   }
],
"metadata": {
		  "kernelspec": {
		   "display_name": "Scilab",
		   "language": "scilab",
		   "name": "scilab"
		  },
		  "language_info": {
		   "file_extension": ".sce",
		   "help_links": [
			{
			 "text": "MetaKernel Magics",
			 "url": "https://github.com/calysto/metakernel/blob/master/metakernel/magics/README.md"
			}
		   ],
		   "mimetype": "text/x-octave",
		   "name": "scilab",
		   "version": "0.7.1"
		  }
		 },
		 "nbformat": 4,
		 "nbformat_minor": 0
}
