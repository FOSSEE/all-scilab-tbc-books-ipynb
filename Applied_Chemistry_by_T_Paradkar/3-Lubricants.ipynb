{
"cells": [
 {
		   "cell_type": "markdown",
	   "metadata": {},
	   "source": [
       "# Chapter 3: Lubricants"
	   ]
	},
{
		   "cell_type": "markdown",
		   "metadata": {},
		   "source": [
			"## Example 3.10: Acid_value_of_oil.sce"
		   ]
		  },
  {
"cell_type": "code",
	   "execution_count": null,
	   "metadata": {
	    "collapsed": true
	   },
	   "outputs": [],
"source": [
"//lubricants//\n",
"//page 3.31 example 10//\n",
"clc\n",
"vol_oil=10//in ml//\n",
"den_oil=0.91//density of oil in g/ml//\n",
"wt_oil=vol_oil*den_oil//weight f oil saponified(gms)//\n",
"volume=5//volume of alcoholic KOH consumed to neutralize fatty acids(ml)//\n",
"normality_KOH=0.02//normality of KOH //\n",
"A=volume*normality_KOH*56/wt_oil//formula for acid value//\n",
"printf('\nAcid value of oil is %.3f mg/g',A);\n",
"if A<=0.1 then printf('\nAs the acid value is less than 0.1, oil can be used for lubrication');\n",
"else printf('\nAs the acid value is more than 0.1, oil cannot be used for lubrication');\n",
"    end"
   ]
   }
,
{
		   "cell_type": "markdown",
		   "metadata": {},
		   "source": [
			"## Example 3.11: Saponification_value_of_oil.sce"
		   ]
		  },
  {
"cell_type": "code",
	   "execution_count": null,
	   "metadata": {
	    "collapsed": true
	   },
	   "outputs": [],
"source": [
"//lubricants//\n",
"//page 3.33 example 1//\n",
"clc\n",
"wt_oil=2.5//weight f oil saponified(gms)//\n",
"blank=49.0//volume blank titration reading(ml)//\n",
"back=26.4//volume back titration reading(ml)//\n",
"volume=blank-back//volume of alcoholic KOH consumed(ml)//\n",
"normality_KOH=0.4//normality of KOH//\n",
"S=volume*normality_KOH*56/wt_oil//formula for saponification value//\n",
"printf('\nSaponification value of oil is %.3f mg/g',S);"
   ]
   }
,
{
		   "cell_type": "markdown",
		   "metadata": {},
		   "source": [
			"## Example 3.12: Saponification_value_of_oil.sce"
		   ]
		  },
  {
"cell_type": "code",
	   "execution_count": null,
	   "metadata": {
	    "collapsed": true
	   },
	   "outputs": [],
"source": [
"//lubricants//\n",
"//page 3.33 example 2//\n",
"clc\n",
"wt_oil=5//weight f oil saponified(gms)//\n",
"blank=44//volume blank titration reading(ml)//\n",
"back=17//volume back titration reading(ml)//\n",
"volume=blank-back//volume of alcoholic KOH consumed(ml)//\n",
"normality_KOH=0.5//normality of KOH//\n",
"S=volume*normality_KOH*56/wt_oil//formula for saponification value//\n",
"printf('\nSaponification value of oil is %.1f mg/g',S);"
   ]
   }
,
{
		   "cell_type": "markdown",
		   "metadata": {},
		   "source": [
			"## Example 3.13: alcoholic_KOH_consumed_in_saponification.sce"
		   ]
		  },
  {
"cell_type": "code",
	   "execution_count": null,
	   "metadata": {
	    "collapsed": true
	   },
	   "outputs": [],
"source": [
"//lubricants//\n",
"//page 3.34 example 3//\n",
"clc\n",
"S=180//Saponification value of oil//\n",
"wt_oil=1//weight f oil saponified(gms)//\n",
"blank=50//volume blank titration reading(ml)//\n",
"normality_KOH=0.4//normality of KOH //\n",
"volume=S*wt_oil/(normality_KOH*56)//formula for saponification value//\n",
"back=blank-volume//volume of alcoholic KOH consumed(ml)//\n",
"printf('\nQuantity of alcoholic KOH required per gram is %.0f ml',back);"
   ]
   }
,
{
		   "cell_type": "markdown",
		   "metadata": {},
		   "source": [
			"## Example 3.14: saponification_value_of_oil.sce"
		   ]
		  },
  {
"cell_type": "code",
	   "execution_count": null,
	   "metadata": {
	    "collapsed": true
	   },
	   "outputs": [],
"source": [
"//lubricants//\n",
"//page 3.35 example 4//\n",
"clc\n",
"wt_oil=2.5//weight f oil saponified(gms)//\n",
"blank=40//volume blank titration reading(ml)//\n",
"back=20//volume back titration reading(ml)//\n",
"normality_KOH=0.25//normality of KOH //\n",
"normality_HCl=.5//normality of HCl//\n",
"e=normality_HCl/normality_KOH//for equivalence in titration //\n",
"volume=(blank-back)*e//volume of alcoholic KOH consumed(ml)//\n",
"S=volume*normality_KOH*56/wt_oil//formula for saponification value//\n",
"printf('\nSaponification value of oil is %.0f mg/g',S);"
   ]
   }
,
{
		   "cell_type": "markdown",
		   "metadata": {},
		   "source": [
			"## Example 3.15: composition_of_blended_oils_by_saponification.sce"
		   ]
		  },
  {
"cell_type": "code",
	   "execution_count": null,
	   "metadata": {
	    "collapsed": true
	   },
	   "outputs": [],
"source": [
"//lubricants//\n",
"//page 3.35 example 5//\n",
"clc\n",
"S_C=192//Saponification value of castor oil//\n",
"wt_oil=16//weight f oil saponified(gms)//\n",
"blank=45//volume blank titration reading(ml)//\n",
"back=31.5//volume back titration reading(ml)//\n",
"volume=blank-back//volume of alcoholic KOH consumed(ml)//\n",
"N_H=0.5//normality of HCl in titration//\n",
"V_H=blank//volume of HCl in titration(ml)//\n",
"V_K=50//volume of KOH in titration(ml)//\n",
"N_K=N_H*V_H/V_K//normality of KOH for equivalence//\n",
"S_blended=volume*N_K*56/wt_oil//formula for saponification value//\n",
"printf('\nSaponification value of blended oil is %.2f mgs KOH',S_blended);\n",
"pc_C=(S_blended/S_C)*100\n",
"printf('\npercentage of castor oil in blend is %.3f percent',pc_C);"
   ]
   }
,
{
		   "cell_type": "markdown",
		   "metadata": {},
		   "source": [
			"## Example 3.16: saponification_value_of_oil.sce"
		   ]
		  },
  {
"cell_type": "code",
	   "execution_count": null,
	   "metadata": {
	    "collapsed": true
	   },
	   "outputs": [],
"source": [
"//lubricants//\n",
"//page 3.36 example 6//\n",
"clc\n",
"wt_oil=3//weight f oil saponified(gms)//\n",
"blank=36//volume blank titration reading(ml)//\n",
"back=12//volume back titration reading(ml)//\n",
"volume=blank-back//volume of alcoholic KOH consumed(ml)//\n",
"normality_KOH=0.5//normality of KOH//\n",
"S=volume*normality_KOH*56/wt_oil//formula for saponification value//\n",
"printf('\nSaponification value of oil is %.f mg/g',S);"
   ]
   }
,
{
		   "cell_type": "markdown",
		   "metadata": {},
		   "source": [
			"## Example 3.17: saponification_value_of_oil.sce"
		   ]
		  },
  {
"cell_type": "code",
	   "execution_count": null,
	   "metadata": {
	    "collapsed": true
	   },
	   "outputs": [],
"source": [
"//lubricants//\n",
"//page 3.37 example 7//\n",
"clc\n",
"wt_oil=1.55//weight f oil saponified(gms)//\n",
"blank=20//volume blank titration reading(ml)//\n",
"back=15//volume back titration reading(ml)//\n",
"volume=blank-back//volume of alcoholic KOH consumed(ml)//\n",
"normality_KOH=1/2//normality of KOH//\n",
"S=volume*normality_KOH*56/wt_oil//formula for saponification value//\n",
"printf('\nSaponification value of oil is %.2f mg/g',S);"
   ]
   }
,
{
		   "cell_type": "markdown",
		   "metadata": {},
		   "source": [
			"## Example 3.18: saponification_value_of_oil.sce"
		   ]
		  },
  {
"cell_type": "code",
	   "execution_count": null,
	   "metadata": {
	    "collapsed": true
	   },
	   "outputs": [],
"source": [
"//lubricants//\n",
"//page 3.37 example 8//\n",
"clc\n",
"wt_oil=1.25//weight f oil saponified(gms)//\n",
"blank=50//volume blank titration reading(ml)//\n",
"back=7.5//volume back titration reading(ml)//\n",
"volume=blank-back//volume of alcoholic KOH consumed(ml)//\n",
"normality_KOH=0.1//normality of KOH//\n",
"S=volume*normality_KOH*56/wt_oil//formula for saponification value//\n",
"printf('\nSaponification value of oil is %.1f mg/g',S);"
   ]
   }
,
{
		   "cell_type": "markdown",
		   "metadata": {},
		   "source": [
			"## Example 3.19: composition_of_blended_oils_by_saponification.sce"
		   ]
		  },
  {
"cell_type": "code",
	   "execution_count": null,
	   "metadata": {
	    "collapsed": true
	   },
	   "outputs": [],
"source": [
"//lubricants//\n",
"//page 3.38 example 9//\n",
"clc\n",
"S_C=188//Saponification value of castor oil//\n",
"wt_oil=12.3//weight f oil saponified(gms)//\n",
"blank=45//volume blank titration reading(ml)//\n",
"back=30.2//volume back titration reading(ml)//\n",
"volume=blank-back//volume of alcoholic KOH consumed(ml)//\n",
"N=0.5//normality of KOH for equivalence//\n",
"S_blended=volume*N*56/wt_oil//formula for saponification value//\n",
"printf('\nSaponification value of blended oil is %.2f mg/g',S_blended);\n",
"pc_C=(S_blended/S_C)*100\n",
"printf('\npercentage of castor oil in blend is %.2f percent',pc_C);"
   ]
   }
,
{
		   "cell_type": "markdown",
		   "metadata": {},
		   "source": [
			"## Example 3.1: Acid_value_of_oil.sce"
		   ]
		  },
  {
"cell_type": "code",
	   "execution_count": null,
	   "metadata": {
	    "collapsed": true
	   },
	   "outputs": [],
"source": [
"//lubricants//\n",
"//page 3.27 example 1//\n",
"clc\n",
"wt_oil=4.55//weight f oil saponified(gms)//\n",
"volume=2.1//volume of alcoholic KOH consumed to neutralize fatty acids(ml)//\n",
"normality_KOH=0.02//normality of KOH //\n",
"A=volume*normality_KOH*56/wt_oil//formula for acid value//\n",
"printf('\nAcid value of oil is %.3f mg/gm',A);"
   ]
   }
,
{
		   "cell_type": "markdown",
		   "metadata": {},
		   "source": [
			"## Example 3.20: composition_of_blended_oils_by_saponification.sce"
		   ]
		  },
  {
"cell_type": "code",
	   "execution_count": null,
	   "metadata": {
	    "collapsed": true
	   },
	   "outputs": [],
"source": [
"//lubricants//\n",
"//page 3.38 example 10//\n",
"clc\n",
"S_C=191//Saponification value of castor oil//\n",
"wt_oil=2.5//weight f oil saponified(gms)//\n",
"blank=40//volume blank titration reading(ml)//\n",
"back=24//volume back titration reading(ml)//\n",
"volume=blank-back//volume of alcoholic KOH consumed(ml)//\n",
"N=0.5//normality of KOH for equivalence//\n",
"S_blended=volume*N*56/wt_oil//formula for saponification value//\n",
"printf('\nSaponification value of blended oil is %.1f mg/g',S_blended);\n",
"pc_C=(S_blended/S_C)*100\n",
"printf('\npercentage of castor oil in blend is %.2f percent',pc_C);"
   ]
   }
,
{
		   "cell_type": "markdown",
		   "metadata": {},
		   "source": [
			"## Example 3.2: Acid_value_of_oil.sce"
		   ]
		  },
  {
"cell_type": "code",
	   "execution_count": null,
	   "metadata": {
	    "collapsed": true
	   },
	   "outputs": [],
"source": [
"//lubricants//\n",
"//page 3.28 example 2//\n",
"clc\n",
"wt_oil=10//weight f oil saponified(gms)//\n",
"volume=2.4//volume of alcoholic KOH consumed to neutralize fatty acids(ml)//\n",
"normality_KOH=0.02//normality of KOH //\n",
"A=volume*normality_KOH*56/wt_oil//formula for acid value//\n",
"printf('\nAcid value of oil is %.3f mg/g',A);\n",
"if A<=0.1 then printf('\nAs the acid value is less than 0.1, oil can be used for lubrication');\n",
"else printf('\nAs the acid value is more than 0.1, oil cannot be used for lubrication');\n",
"    end"
   ]
   }
,
{
		   "cell_type": "markdown",
		   "metadata": {},
		   "source": [
			"## Example 3.3: Acid_value_of_oil.sce"
		   ]
		  },
  {
"cell_type": "code",
	   "execution_count": null,
	   "metadata": {
	    "collapsed": true
	   },
	   "outputs": [],
"source": [
"//lubricants//\n",
"//page 3.28 example 3//\n",
"clc\n",
"vol_oil=20//in ml//\n",
"den_oil=0.86//density of oil in g/ml//\n",
"wt_oil=vol_oil*den_oil//weight f oil saponified(gms)//\n",
"volume=2.5//volume of alcoholic KOH consumed to neutralize fatty acids(ml)//\n",
"normality_KOH=0.1//normality of KOH //\n",
"A=volume*normality_KOH*56/wt_oil//formula for acid value//\n",
"printf('\nAcid value of oil is %.3f mg/g',A);"
   ]
   }
,
{
		   "cell_type": "markdown",
		   "metadata": {},
		   "source": [
			"## Example 3.4: Acid_value_of_oil.sce"
		   ]
		  },
  {
"cell_type": "code",
	   "execution_count": null,
	   "metadata": {
	    "collapsed": true
	   },
	   "outputs": [],
"source": [
"//lubricants//\n",
"//page 3.29 example 4//\n",
"clc\n",
"vol_oil=10//in ml//\n",
"den_oil=0.92//density of oil in g/ml//\n",
"wt_oil=vol_oil*den_oil//weight f oil saponified(gms)//\n",
"volume=4//volume of alcoholic KOH consumed to neutralize fatty acids(ml)//\n",
"normality_KOH=0.01//normality of KOH //\n",
"A=volume*normality_KOH*56/wt_oil//formula for acid value//\n",
"printf('\nAcid value of oil is %.3f mg/g',A);"
   ]
   }
,
{
		   "cell_type": "markdown",
		   "metadata": {},
		   "source": [
			"## Example 3.5: Acid_value_of_oil.sce"
		   ]
		  },
  {
"cell_type": "code",
	   "execution_count": null,
	   "metadata": {
	    "collapsed": true
	   },
	   "outputs": [],
"source": [
"//lubricants//\n",
"//page 3.29 example 5//\n",
"clc\n",
"vol_oil=9//in ml//\n",
"den_oil=0.81//density of oil in g/ml//\n",
"wt_oil=vol_oil*den_oil//weight f oil saponified(gms)//\n",
"volume=1.5//volume of alcoholic KOH consumed to neutralize fatty acids(ml)//\n",
"normality_KOH=0.04//normality of KOH //\n",
"A=volume*normality_KOH*56/wt_oil//formula for acid value//\n",
"printf('\nAcid value of oil is %.3f mg/g',A);"
   ]
   }
,
{
		   "cell_type": "markdown",
		   "metadata": {},
		   "source": [
			"## Example 3.6: Acid_value_of_oil.sce"
		   ]
		  },
  {
"cell_type": "code",
	   "execution_count": null,
	   "metadata": {
	    "collapsed": true
	   },
	   "outputs": [],
"source": [
"//lubricants//\n",
"//page 3.30 example 6//\n",
"clc\n",
"vol_oil=20//in ml//\n",
"den_oil=0.86//density of oil in g/ml//\n",
"wt_oil=vol_oil*den_oil//weight f oil saponified(gms)//\n",
"volume=2.8//volume of alcoholic KOH consumed to neutralize fatty acids(ml)//\n",
"normality_KOH=1/10//normality of KOH //\n",
"A=volume*normality_KOH*56/wt_oil//formula for acid value//\n",
"printf('\nAcid value of oil is %.3f mg/g',A);\n",
"if A<=0.1 then printf('\nAs the acid value is less than 0.1, oil can be used for lubrication');\n",
"else printf('\nAs the acid value is more than 0.1, oil cannot be used for lubrication');\n",
"    end"
   ]
   }
,
{
		   "cell_type": "markdown",
		   "metadata": {},
		   "source": [
			"## Example 3.7: Acid_value_of_oil.sce"
		   ]
		  },
  {
"cell_type": "code",
	   "execution_count": null,
	   "metadata": {
	    "collapsed": true
	   },
	   "outputs": [],
"source": [
"//lubricants//\n",
"//page 3.30 example 7//\n",
"clc\n",
"vol_oil=7//in ml//\n",
"den_oil=0.88//density of oil in g/ml//\n",
"wt_oil=vol_oil*den_oil//weight f oil saponified(gms)//\n",
"volume=3.8//volume of alcoholic KOH consumed to neutralize fatty acids(ml)//\n",
"normality_KOH=0.02//normality of KOH //\n",
"A=volume*normality_KOH*56/wt_oil//formula for acid value//\n",
"printf('\nAcid value of oil is %.2f mg/g',A);\n",
"if A<=0.1 then printf('\nAs the acid value is less than 0.1, oil can be used for lubrication');\n",
"else printf('\nAs the acid value is more than 0.1, oil cannot be used for lubrication');\n",
"    end"
   ]
   }
,
{
		   "cell_type": "markdown",
		   "metadata": {},
		   "source": [
			"## Example 3.8: Acid_value_of_oil.sce"
		   ]
		  },
  {
"cell_type": "code",
	   "execution_count": null,
	   "metadata": {
	    "collapsed": true
	   },
	   "outputs": [],
"source": [
"//lubricants//\n",
"//page 3.31 example 8//\n",
"clc\n",
"vol_oil=6//in ml//\n",
"den_oil=0.91//density of oil in g/ml//\n",
"wt_oil=vol_oil*den_oil//weight f oil saponified(gms)//\n",
"volume=2.6//volume of alcoholic KOH consumed to neutralize fatty acids(ml)//\n",
"normality_KOH=0.02//normality of KOH //\n",
"A=volume*normality_KOH*56/wt_oil//formula for acid value//\n",
"printf('\nAcid value of oil is %.3f mg/g',A);\n",
"if A<=0.1 then printf('\nAs the acid value is less than 0.1, oil can be used for lubrication');\n",
"else printf('\nAs the acid value is more than 0.1, oil cannot be used for lubrication');\n",
"    end"
   ]
   }
,
{
		   "cell_type": "markdown",
		   "metadata": {},
		   "source": [
			"## Example 3.9: Acid_value_of_oil.sce"
		   ]
		  },
  {
"cell_type": "code",
	   "execution_count": null,
	   "metadata": {
	    "collapsed": true
	   },
	   "outputs": [],
"source": [
"//lubricants//\n",
"//page 3.31 example 9//\n",
"clc\n",
"wt_oil=1.3//weight f oil saponified(gms)//\n",
"volume=0.8//volume of alcoholic KOH consumed to neutralize fatty acids(ml)//\n",
"normality_KOH=0.001//normality of KOH //\n",
"A=volume*normality_KOH*56/wt_oil//formula for acid value//\n",
"printf('\nAcid value of oil is %.5f mg/g',A);\n",
"if A<=0.1 then printf('\nAs the acid value is less than 0.1, oil can be used for lubrication');\n",
"else printf('\nAs the acid value is more than 0.1, oil cannot be used for lubrication');\n",
"    end"
   ]
   }
],
"metadata": {
		  "kernelspec": {
		   "display_name": "Scilab",
		   "language": "scilab",
		   "name": "scilab"
		  },
		  "language_info": {
		   "file_extension": ".sce",
		   "help_links": [
			{
			 "text": "MetaKernel Magics",
			 "url": "https://github.com/calysto/metakernel/blob/master/metakernel/magics/README.md"
			}
		   ],
		   "mimetype": "text/x-octave",
		   "name": "scilab",
		   "version": "0.7.1"
		  }
		 },
		 "nbformat": 4,
		 "nbformat_minor": 0
}
