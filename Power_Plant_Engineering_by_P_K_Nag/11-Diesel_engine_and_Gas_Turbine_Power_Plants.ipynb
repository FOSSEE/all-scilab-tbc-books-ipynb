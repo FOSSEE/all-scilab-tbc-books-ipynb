{
"cells": [
 {
		   "cell_type": "markdown",
	   "metadata": {},
	   "source": [
       "# Chapter 11: Diesel engine and Gas Turbine Power Plants"
	   ]
	},
{
		   "cell_type": "markdown",
		   "metadata": {},
		   "source": [
			"## Example 11.1: Net_increase_in_brake_power.sce"
		   ]
		  },
  {
"cell_type": "code",
	   "execution_count": null,
	   "metadata": {
	    "collapsed": true
	   },
	   "outputs": [],
"source": [
"clc\n",
"clear\n",
"//Input data\n",
"C=3.5//Capacity in litres\n",
"P=13.1//Indicated power in kW/m^3\n",
"N=3600//Speed in rpm\n",
"ve=82//Volumetric efficiency in percent\n",
"p1=1.013//Pressure in bar\n",
"T1=25+273//Temperature in K\n",
"rp=1.75//Pressure ratio\n",
"ie=70//Isentropic efficiency in percent\n",
"me=80//Mechanical efficiency in percent\n",
"g=1.4//Ratio of specific heats\n",
"R=0.287//Gas constant in kJ/kg.K\n",
"Cp=1.005//Specific heat in kJ/kg.K\n",
"\n",
"//Calculations\n",
"EC=(C/1000)//Engine capacity in m^3\n",
"Vs=(N/2)*EC//Swept volume in m^3\n",
"Vui=(ve/100)*Vs//Unsupercharged induced volume in m^3/min\n",
"dp=(rp*p1)//Blower delivery pressure in bar\n",
"T2sT1=(rp)^((g-1)/g)//Ratio of temperatures\n",
"T2s=(T2sT1*T1)//Temperature in K\n",
"dT21=(T2s-T1)/(ie/100)//Difference in temperature in K\n",
"T2=dT21+T1//Temperature in K\n",
"EV=(Vs*dp*T1)/(p1*T2)//Equivalent volume in m^3/min\n",
"iiv=EV-Vui//Increase in induced volume in m^3/min\n",
"iip=(P*iiv)//Increase in indicated power in kW\n",
"iipi=((dp-p1)*100*Vs)/60//Increase in induced power due to increase in induction pressure in kW\n",
"tiip=iip+iipi//Total increase in indicated power in kW\n",
"tibp=tiip*(me/100)//Total increase in brake power in kW\n",
"ma=(dp*100*Vs)/(60*R*T2)//Mass of air in kg/s\n",
"WI=(ma*Cp*(T2-T1))//Work input to heater in kW\n",
"Pb=(WI/(me/100))//Power required in kW\n",
"NI=tibp-Pb//Net increase in brake power in kW\n",
"\n",
"//Output\n",
"printf('Net increase in brake power is %3.2f kW',NI)"
   ]
   }
,
{
		   "cell_type": "markdown",
		   "metadata": {},
		   "source": [
			"## Example 11.2: Temperature_of_air.sce"
		   ]
		  },
  {
"cell_type": "code",
	   "execution_count": null,
	   "metadata": {
	    "collapsed": true
	   },
	   "outputs": [],
"source": [
"clc\n",
"clear\n",
"//Input data\n",
"p1=0.97//Pressure in bar\n",
"t1=30+273//Temperature in K\n",
"p2=2.1//Pressure in bar\n",
"af=18//Air fuel ratio\n",
"t3=580+273//Temperature in K\n",
"p3=1.9//Pressure in bar\n",
"p4=1.06//Pressure in bar\n",
"iec=0.75//Isentropic efficiency of compressor\n",
"iet=0.85//Isentropic efficiency of turbine\n",
"cpa=1.01//Specific heat for air in kJ/kg.K\n",
"ga=1.4//Ratio of specific heats\n",
"cpex=1.15//Specific heat in kJ/kg.K\n",
"gex=1.33//Ratio of specific heats\n",
"\n",
"//Calculations\n",
"t2s=t1*(p2/p1)^((ga-1)/ga)//Tempeature in K\n",
"t21=(t2s-t1)/iec//Temperature in K\n",
"t2=t21+t1//Temperature in K\n",
"T2=t2-273//Temperature in degree C\n",
"t3t4s=(p3/p4)^((gex-1)/gex)//Ratio of temperatures\n",
"t4s=(t3/t3t4s)//Temperature in K\n",
"t4=t3-((t3-t4s)*iet)//Temperature in K\n",
"T4=t4-273//Temperature in degree C\n",
"mp=(((cpex*(1+(1/af))*(t3-t4))-(cpa*(t2-t1)))/(cpex*(1+(1/af))*(t3-t4)))*100//Percentage of mechanical power loss\n",
"\n",
"//Output\n",
"printf('(a) the temperature of air leaving the compressor is %3.2f degree C \n (b) the temperature of gases leaving the turbine is %3.2f degree C \n (c) the mechanical power loss in the turbocharger as a percentage of the power generated in the turbine is %3.2f percent',T2,T4,mp)\n",
""
   ]
   }
,
{
		   "cell_type": "markdown",
		   "metadata": {},
		   "source": [
			"## Example 11.3: Energy_balance_sheet.sce"
		   ]
		  },
  {
"cell_type": "code",
	   "execution_count": null,
	   "metadata": {
	    "collapsed": true
	   },
	   "outputs": [],
"source": [
"clc\n",
"clear\n",
"//Input data\n",
"a=215//Current in A\n",
"v=210//Voltage in V\n",
"e=85//Efficiency in percent\n",
"q=11.8//Quantity of fuel supplied in kg/h\n",
"cv=43//Calorific value in MJ/kg\n",
"af=18//Air fuel ratio\n",
"w=560//Water in litres/h\n",
"tw=38//Temeparature in degree C\n",
"te=97//Temeparature in degree C\n",
"cp=1.04//Specific heat in kJ/kg.K\n",
"ta=30//Temeparature in degree C\n",
"l=32//Percentage lost \n",
"sw=4.187//Specific heat in kJ/kg.K\n",
"\n",
"//Calculations\n",
"P=(a*v)/1000//Power in kW\n",
"BP=(P/(e/100))//Brake power in kW\n",
"E=(q/3600)*cv*1000//Energy supplied in kW\n",
"mg=(q/3600)*(1+af)//Rate of gases in kg/s\n",
"he=(mg*cp*(te-ta))+((w/3600)*sw*tw)//Heat carried away by exhaust gases in kW\n",
"hj=(l/100)*E//Heat lost to jacket cooling water in kW\n",
"pBP=(BP/E)*100//Percentage\n",
"pE=(E/E)*100//Percentage\n",
"phe=(he/E)*100//Percenatge\n",
"phj=(hj/E)*100//Percenatge \n",
"\n",
"//Output\n",
"printf('                           ENERGY BALANCE SHEET \n                                             (in kW)            (in percent)\n 1. Brake power                               %3.2f              %3.2f \n 2. Heat carried away by exhaust gases        %3.2f              %3.2f \n 3. Heat lost to jacket cooling water         %3.2f              %3.2f \n 4. Heat loss unaccounted                     %3.2f              %3.2f \n             Total                            %3.2f             %3.2f',BP,pBP,he,phe,hj,phj,(E-(BP+he+hj)),(((E-(BP+he+hj))/E)*100),E,(pBP+phe+phj+(((E-(BP+he+hj))/E)*100)))\n",
""
   ]
   }
,
{
		   "cell_type": "markdown",
		   "metadata": {},
		   "source": [
			"## Example 11.4: Energy_balance_sheet.sce"
		   ]
		  },
  {
"cell_type": "code",
	   "execution_count": null,
	   "metadata": {
	    "collapsed": true
	   },
	   "outputs": [],
"source": [
"clc\n",
"clear\n",
"//Input data\n",
"t=20//Trial time in minutes\n",
"NL=680//Net brake load in N\n",
"mep=3//Mean effective pressure in bar\n",
"N=360//Speed in rpm\n",
"Fc=1.56//Fuel consumption in kg\n",
"cw=160//Cooling water in kg\n",
"Tw=32//Temperature of water at inlet in degree C\n",
"Wo=57//Water outlet temperature in degree C\n",
"a=30//Air in kg\n",
"Ta=27//Room temperature in degree C\n",
"Te=310//Exhaust gas temperature in degree C\n",
"d=210//Bore in mm\n",
"l=290//Stroke in mm\n",
"bd=1//Brake diameter in m\n",
"cv=44//Calorific value in MJ/kg\n",
"st=1.3//Steam formed in kg per kg fuel in the exhaust\n",
"cp=2.093//Specific heat of steam in exhaust in kJ/kg.K\n",
"cpx=1.01//Specific heat of dry exhaust gases in kJ/kg.K\n",
"cpw=4.187//Specific heat of water in kJ/kg.K\n",
"\n",
"//Calculations\n",
"ip=(mep*100*(l/1000)*(3.14/4)*(d/1000)^2*N)/60//Indicated Power in kW\n",
"bp=((2*3.14*N*(NL*(1/2)))/60)/1000//Brake power in kW\n",
"nm=(bp/ip)*100//Mechanical efficiency in percent\n",
"qs=(Fc*cv*10^3)//Heat supplied in kJ\n",
"qip=(ip*t*60)//Heat equivalent of ip in kJ\n",
"qcw=(cw*cpw*(Wo-Tw))//Heat carried away by cooling water in kJ\n",
"tm=(Fc*a)//Toatl mass of exhaust gas in kg\n",
"ms=(st*Fc)//Mass of steam formed in kg\n",
"mde=(tm-ms)//Mass of dry exhaust gas in kg\n",
"Ed=(mde*cpx*(Te-Ta))//Energy carried away by dry exhaust gases in kJ\n",
"Es=(ms*((cpw*(100-Ta))+2257.9+(cp*(Te-100))))//Energy carried away by steam in kJ\n",
"TE=(Ed+Es)//Total energy carried away by exhaust gases in kJ\n",
"ue=(qs-(qip+qcw+TE))//Unaccounted energy in kJ\n",
"pqip=(qip/qs)*100//Percentage\n",
"pqcw=(qcw/qs)*100//Percentage\n",
"pTE=(TE/qs)*100//Percentage\n",
"pue=(ue/qs)*100//Percentage\n",
"\n",
"//Output\n",
"printf('Indicated power is %3.2f kW \n Brake power is %3.3f kW \n\n                            ENERGY BALANCE SHEET \n                                                (in kJ)            (in percent)\n 1. Energy equivalent in ip                     %3.0f                 %3.2f \n 2. Energy carried away by cooling water        %3.0f                 %3.2f \n 3. Energy carried away by exhaust gases        %3.0f                 %3.2f \n 4. Unaccounted for energy loss                 %3.0f                 %3.2f \n             Total                              %3.0f                 %3.2f',ip,bp,qip,pqip,qcw,pqcw,TE,pTE,ue,pue,qs,(pqip+pqcw+pTE+pue))"
   ]
   }
,
{
		   "cell_type": "markdown",
		   "metadata": {},
		   "source": [
			"## Example 11.5: Blade_angles.sce"
		   ]
		  },
  {
"cell_type": "code",
	   "execution_count": null,
	   "metadata": {
	    "collapsed": true
	   },
	   "outputs": [],
"source": [
"clc\n",
"clear\n",
"//Input data\n",
"Vbm=360//Blade velocity in m/s\n",
"b1=20//Blade angle at inlet in degrees\n",
"a2=b1//Angle in degrees\n",
"b2=52//Blade angle at exit in degrees\n",
"a1=b2//Angle in degrees\n",
"R=50//Degree of reaction in percent\n",
"dm=0.45//Mean diameter of the blade in m\n",
"bh=0.08//Mean blade height in m\n",
"\n",
"//Calculations\n",
"Vf=(Vbm/(tand(b2)-tand(b1)))//Velocity in m/s\n",
"rt=(dm/2)+(bh/2)//Mean radius in m\n",
"Vbt=(Vbm*(rt/(dm/2)))//Velocity in m/s\n",
"Vw1m=Vf*tand(a1)//Velocity in m/s\n",
"Vw1t=(Vw1m*((dm/2)/rt))//Velocity in m/s\n",
"dVw1=(Vf*(tand(b1)+tand(b2))*Vbm)/Vbt//Velocity in m/s\n",
"rr=(dm/2)-(bh/2)//Radius in m\n",
"Vbr=(Vbm*(rr/(dm/2)))//Velocity in m/s\n",
"Vw1r=(Vw1m*((dm/2)/rr))//Velocity in m/s\n",
"Vr2=Vf/cosd(b2)//Velocity in m/s\n",
"dVwr=((Vw1m+((Vr2*sind(b2))-Vbm))*Vbm)/Vbr//Velocity in m/s\n",
"a1r=atand(Vw1r/Vf)//Angle in degrees\n",
"a2r=atand((dVwr-Vw1r)/Vf)//Angle in degrees\n",
"b1r=atand((Vw1r-Vbr)/Vf)//Angle in degrees\n",
"b2r=atand((Vbr+(Vf*tand(a2r)))/Vf)//Angle in degrees\n",
"a1t=atand(Vw1t/Vf)//Angle in degrees\n",
"a2t=atand((dVw1-Vw1t)/Vf)//Angle in degrees\n",
"b1t=atand((Vw1t-Vbt)/Vf)//Angle in degrees\n",
"b2t=atand((Vbt+(Vf*tand(a2t)))/Vf)//Angle in degrees\n",
"Rt=((Vf*(tand(b2t)-tand(b1t)))/(2*Vbt))*100//Degree of reaction at the tip in percent\n",
"Rr=((Vf*(tand(b2r)-tand(b1r)))/(2*Vbr))*100//Degree of reaction at the root in percent\n",
"\n",
"//Output\n",
"printf('(a)The flow velocity is %3.0f m/s \n (b) The blade angles at the tip are : \n Fixed blades (root) are %3.2f degrees and %3.2f degrees \n Moving blades (root) are %3.2f degrees and %3.2f degrees \n Fixed blades (tip) are %3.2f degrees and %3.2f degrees \n Moving blades (tip) are %3.2f degrees and %3.2f degrees \n (c) The degree of reaction at : \n the tip is %3.0f percent \n the root is %3.0f percent',Vf,a1r,a2r,b1r,b2r,a1t,a2t,b1t,b2t,Rt,Rr)"
   ]
   }
,
{
		   "cell_type": "markdown",
		   "metadata": {},
		   "source": [
			"## Example 11.6: Impeller_tip_diameter.sce"
		   ]
		  },
  {
"cell_type": "code",
	   "execution_count": null,
	   "metadata": {
	    "collapsed": true
	   },
	   "outputs": [],
"source": [
"clc\n",
"clear\n",
"//Input data\n",
"N=16000//Speed in rpm\n",
"T1=17+273//Temperature in K\n",
"rp=4//Pressure ratio\n",
"in=82//Isentropic efficiency in percent\n",
"s=0.85//Slip factor\n",
"a=20//Angle in degrees\n",
"d=200//Diameter in mm\n",
"V=120//Velocity in m/s\n",
"cp=1.005//Specific heat in kJ/kg.K\n",
"g=1.4//Ratio of specific heats\n",
"\n",
"//Calculations\n",
"T2sT1=(rp)^((g-1)/g)//Temperature ratio\n",
"T2s=T1*T2sT1//Temeprature in K\n",
"dTs=(T2s-T1)//Temperature difference in K\n",
"dT=dTs/(in/100)//Temperature difference in K\n",
"Wc=(cp*dT)//Power input in kJ/kg\n",
"Vb1=(3.14*(d/1000)*N)/60//Velocity in m/s\n",
"Vw1=(V*sind(a))//Pre-whirl velocity in m/s\n",
"Vb2=sqrt(((Wc*1000)+(Vb1*Vw1))/s)//Velocity in m/s\n",
"d2=((Vb2*60)/(3.14*N))*1000//Tip diameter in mm\n",
"\n",
"//Output\n",
"printf('Impeller tip diameter is %3.0f mm',d2)"
   ]
   }
,
{
		   "cell_type": "markdown",
		   "metadata": {},
		   "source": [
			"## Example 11.7: Workdone_factor.sce"
		   ]
		  },
  {
"cell_type": "code",
	   "execution_count": null,
	   "metadata": {
	    "collapsed": true
	   },
	   "outputs": [],
"source": [
"clc\n",
"clear\n",
"//Input data\n",
"T1=25+273//Temperature in K\n",
"rp=6//Pressure ratio\n",
"Vb=220//Mean velocity in m/s\n",
"b1=45//Angle in degrees\n",
"a2=b1//Angle in degrees\n",
"b2=15//Angle in degrees\n",
"a1=b2//Angle in degrees\n",
"R=50//Degree of reaction in percent\n",
"n=10//Number of stages\n",
"in=83//Isentropic efficiency in percent\n",
"cp=1.005//Specific heat in kJ/kg.K\n",
"g=1.4//Ratio of specific heats\n",
"\n",
"//Calculations\n",
"V1=(Vb/(sind(b2)+(cosd(a1)*tand(a2))))//Velocity in m/s\n",
"V2=(V1*cosd(b2))/cosd(b1)//Velocity in m/s\n",
"dVw=(V2*sind(a2))-(V1*sind(a1))//Velocity in m/s.Textbook answer is wrong. Correct answer is 127 m/s\n",
"T2sT1=rp^((g-1)/g)//Temperature ratio\n",
"T2s=(T2sT1*T1)//Temperature in K\n",
"dTs=(T2s-T1)//Temperature difference in K\n",
"dT=(dTs/(in/100))//Temperature difference in K\n",
"W=(cp*dT)//Workdone in kJ/kg\n",
"w=(W*10^3)/(Vb*dVw*n)//Work done factor\n",
"\n",
"//Output\n",
"printf('Workdone factor of the compressor is %3.2f',w)"
   ]
   }
,
{
		   "cell_type": "markdown",
		   "metadata": {},
		   "source": [
			"## Example 11.8: Airfuel_ratio.sce"
		   ]
		  },
  {
"cell_type": "code",
	   "execution_count": null,
	   "metadata": {
	    "collapsed": true
	   },
	   "outputs": [],
"source": [
"clc\n",
"clear\n",
"//Input data\n",
"p1=1//Pressure in bar\n",
"T1=20+273//Temperature in K\n",
"Tm=900+273//Maximum temperature in K\n",
"rp=6//Pressure ratio\n",
"e=0.7//Effectiveness of regenerator\n",
"ma=210//Rate of air flow in kg/s\n",
"CV=40800//Calorific value in kJ/kg\n",
"ic=0.82//Isentropic efficiencies of both the compressors\n",
"it=0.92//Isentropic efficiencies of both the turbine\n",
"cn=0.95//Combustion efficiency \n",
"mn=0.96//Mechanical efficiency\n",
"gn=0.95//Generator efficiency\n",
"cp=1.005//Specific heat of air in kJ/kg.K\n",
"cpg=1.08//Specific heat of gas in kJ/kg.K\n",
"g1=1.4//Ratio of specific heats for air\n",
"g=1.33//Ratio of specific heats for gas\n",
"\n",
"//Calculations\n",
"pi=sqrt(p1*rp)//Intermediate pressure in bar\n",
"T2sT1=(pi/p1)^((g1-1)/g1)//Temperature ratio\n",
"T2s=(T2sT1*T1)//temperature in K\n",
"T2=((T2s-T1)/ic)+T1//Temperature in K\n",
"T4s=(T1*(rp/pi)^((g1-1)/g1))//Temperature in K\n",
"T4=((T4s-T1)/ic)+T1//Temperature in K\n",
"T7s=(Tm/(rp/p1)^((g-1)/g))//Temperature in K\n",
"T7=Tm-(it*(Tm-T7s))//Temperature in K\n",
"T5=(e*(T7-T4))+T4//Temperature in K\n",
"mf=1/((cp*(Tm-T5))/((CV*cn)-(cp*(Tm-T5))))//Air fuel ratio\n",
"Wgt=((1+(1/mf))*cpg*(Tm-T7))//Workdone by turbine in kJ/kg of air\n",
"Wc=(cp*((T2-T1)+(T4-T1)))//Workdone by compressor in kJ/kg of air\n",
"Wnet=(Wgt-Wc)//Net workdone in kJ/kg of air\n",
"Q=(CV*cn)/mf//Heat supplied in kJ/kg of air\n",
"ncy=(Wnet/Q)*100//Cycle efficiency in percent\n",
"PO=(Wnet*ma*mn*gn)/10^3//Power output in MW\n",
"Fc=(ma*3600*(1/mf))//Fuel consumption per hour in kg\n",
"SFC=(Fc/(PO*10^3))//Specific fuel consumption in kg/kW.h\n",
"\n",
"//Output\n",
"printf('(a) the air fuel ratio is %3.2f \n (b) the cycle efficiency is %3.1f percent \n (c) the power supplied by the plant is %3.0f MW \n (d) the specific fuel consumption of the plant is %3.3f kg/kW.h and the fuel consumption per hour is %3.2f kg',mf,ncy,PO,SFC,Fc)"
   ]
   }
],
"metadata": {
		  "kernelspec": {
		   "display_name": "Scilab",
		   "language": "scilab",
		   "name": "scilab"
		  },
		  "language_info": {
		   "file_extension": ".sce",
		   "help_links": [
			{
			 "text": "MetaKernel Magics",
			 "url": "https://github.com/calysto/metakernel/blob/master/metakernel/magics/README.md"
			}
		   ],
		   "mimetype": "text/x-octave",
		   "name": "scilab",
		   "version": "0.7.1"
		  }
		 },
		 "nbformat": 4,
		 "nbformat_minor": 0
}
