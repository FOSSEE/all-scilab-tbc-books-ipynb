{
"cells": [
 {
		   "cell_type": "markdown",
	   "metadata": {},
	   "source": [
       "# Chapter 1: Introduction Economics of Power Generation"
	   ]
	},
{
		   "cell_type": "markdown",
		   "metadata": {},
		   "source": [
			"## Example 1.10: Load_factor_and_capacity_factor.sce"
		   ]
		  },
  {
"cell_type": "code",
	   "execution_count": null,
	   "metadata": {
	    "collapsed": true
	   },
	   "outputs": [],
"source": [
"clf()\n",
"clc\n",
"clear\n",
"//Input data\n",
"t1x=[0,6]//Time range in hours\n",
"t2x=[6,12]//Time range in hours\n",
"t3=[12,14]//Time range in hours\n",
"t4=[14,18]//Time range in hours\n",
"t5=[18,24]//Time range in hours\n",
"L=[30,90,60,100,50]//Load in MW\n",
"\n",
"//Calculations\n",
"t1=[0,6,6,12,12,14,14,18,18,24,24]//Time in hours for Load curve\n",
"L1=[30,30,90,90,60,60,100,100,50,50,0]//Load in MW for Load curve\n",
"t2=[0,4,4,10,10,12,12,18,18,24,24]//Time in hours for Load duration curve\n",
"L2=[100,100,90,90,60,60,50,50,30,30,24]//Load in MW for Load duration curve\n",
"E=((L(1)*(t1x(2)-t1x(1)))+(L(2)*(t2x(2)-t2x(1)))+(L(3)*(t3(2)-t3(1)))+(L(4)*(t4(2)-t4(1)))+(L(5)*(t5(2)-t5(1))))//Energy generated in MWh\n",
"AL=E/24//Average load in MW\n",
"MD=max(L(1),L(2),L(3),L(4),L(5))//Maximum demand in MW\n",
"LF=(AL/MD)//Load factor\n",
"Lx=[30,10]//Loads for selecting suitable generating units in MW\n",
"tx=[24,18,10,4]//Time for selecting suitable generating units in hrs\n",
"PC=(Lx(1)*tx(4)+Lx(2)*1)//Plant capacity in MW\n",
"CF=(E/(PC*24))//Capacity factor \n",
"\n",
"//Output\n",
"subplot(221)\n",
"plot(t1,L1)//Load curve taking Time in hrs on X- axis and Load in MW on Y- axis\n",
"xtitle('Load curve','Time hrs','Load MW')\n",
"subplot(222)\n",
"plot(t2,L2)//Load duration curve taking Time in hrs on X- axis and Load in MW on Y- axis\n",
"xtitle('Load duration curve','Time hrs','Load MW')\n",
"printf('(c)Suitable generating units to supply the load are\ni)One unit of %3.0f MW will run for %3.0f hours\nii)One unit of %3.0f MW will run for %3.0f hours\niii)One unit of %3.0f MW will run for %3.0f hours\niv)One unit of %3.0f MW will run for %3.0f hours\n\n(d)Load factor is %3.2f\n\n(e)Capacity of the plant is %3.0f MW and Capacity factor is %3.3f',Lx(1),tx(1),Lx(1),tx(2),Lx(1),tx(3),Lx(2),tx(4),LF,PC,CF)"
   ]
   }
,
{
		   "cell_type": "markdown",
		   "metadata": {},
		   "source": [
			"## Example 1.11: Overall_cost.sce"
		   ]
		  },
  {
"cell_type": "code",
	   "execution_count": null,
	   "metadata": {
	    "collapsed": true
	   },
	   "outputs": [],
"source": [
"clc\n",
"clear\n",
"//Input data\n",
"C=10//Capacity of generating unit in MW\n",
"MD=[6,3.6,0.4]//Maximum demand for domestic consumers, industrial consumers and street-lighting load respectively in MW\n",
"L=[0.2,0.5,0.3]//Load factor for domestic consumers, industrial consumers and street-lighting load respectively\n",
"CC=10000//Capital cost of the plant per kW in Rs\n",
"RC=3600000//Total rumming cost per year in Rs\n",
"AID=10//Annual interest and depreciation on capital cost in percent\n",
"Y=8760//Number of hours in a year of 365 days\n",
"\n",
"//Calculations\n",
"E=((MD(1)*L(1))+(MD(2)*L(2))+(MD(3)*L(3)))*Y*1000//Energy supplied per year to all three consumers in kWh\n",
"OC=(RC/E)//Operating charges per kWh in Rs\n",
"CCP=(C*1000*CC)//capital cost of the plant in Rs\n",
"FCY=((AID/100)*CCP)//Fixed charges per year in Rs\n",
"FCkW=(FCY/CC)//Fixed charges per kW in Rs\n",
"//a) For domestic consumers\n",
"TC1=((FCkW*MD(1)*1000)+(OC*MD(1)*L(1)*Y*1000))//Total chrges in Rs\n",
"OC1=(TC1/(MD(1)*L(1)*Y*1000))*100//Overall cost per kWh in paise\n",
"//b)For industrial consumers\n",
"TC2=((FCkW*MD(2)*1000)+(OC*MD(2))*L(2)*Y*1000)//Total chrges in Rs\n",
"OC2=(TC2/(MD(2)*L(2)*Y*1000))*100//Overall cost per kWh in paise\n",
"//c) For street-lighting load\n",
"TC3=((FCkW*MD(3)*1000)+(OC*MD(3))*L(3)*Y*1000)//Total chrges in Rs\n",
"OC3=(TC3/(MD(3)*L(3)*Y*1000))*100//Overall cost per kWh in paise\n",
"\n",
"//Output\n",
"printf('Overall cost of energy per kWh for:\n(a)Domestic consumers is %3.0f paise\n(b)Industrial consumers is %3.0f paise\n(c)Street-lighting load is %3.0f paise',OC1,OC2,OC3)"
   ]
   }
,
{
		   "cell_type": "markdown",
		   "metadata": {},
		   "source": [
			"## Example 1.12: Amount_of_money_saved.sce"
		   ]
		  },
  {
"cell_type": "code",
	   "execution_count": null,
	   "metadata": {
	    "collapsed": true
	   },
	   "outputs": [],
"source": [
"clc\n",
"clear\n",
"//Input data\n",
"CC=(80*10^6)//Capital cost in Rs\n",
"L=30//Useful life in years\n",
"S=5//Salvage value of the capital cost in percent\n",
"i=0.06//Yearly rate of compound interest\n",
"\n",
"//Calculations\n",
"A=((100-S)/100)*CC//Difference of capital cost and salvage value in Rs\n",
"P=((A*i)/((1+i)^L-1))//The amount of money to be saved annually in Rs\n",
"\n",
"//Output\n",
"printf('The amount of money to be saved annually is Rs.%3.0f/-',P)"
   ]
   }
,
{
		   "cell_type": "markdown",
		   "metadata": {},
		   "source": [
			"## Example 1.13: Present_worth_of_the_payments.sce"
		   ]
		  },
  {
"cell_type": "code",
	   "execution_count": null,
	   "metadata": {
	    "collapsed": true
	   },
	   "outputs": [],
"source": [
"clc\n",
"clear\n",
"//Input data\n",
"i=4000//Initial investment in Rs crore\n",
"Y=4//Period in years\n",
"A=1200//Amount added in Rs crore\n",
"B=400//Amount paid from 5th year onwards to the 12th year in Rs crore\n",
"a=5//5th year\n",
"b=12//12th year\n",
"y=30//Period in years\n",
"C=600//Salvage value in Rs crore\n",
"I=0.1//Interest rate \n",
"\n",
"//Calculations\n",
"X=(1/(1+I))//X value for calculations\n",
"PW=(i+(A*X^Y)+((B/I)*X^b*((I+1)^b-1))-((B/I)*X^a*((I+1)^a-1))-(C*X^y))//Present worth of the payments at the time of commissioning in Rs. crores\n",
"\n",
"//Output\n",
"printf('Present worth of the payments at the time of commissioning is Rs.%3.2f crores',PW)"
   ]
   }
,
{
		   "cell_type": "markdown",
		   "metadata": {},
		   "source": [
			"## Example 1.14: Increamental_heat_rate.sce"
		   ]
		  },
  {
"cell_type": "code",
	   "execution_count": null,
	   "metadata": {
	    "collapsed": true
	   },
	   "outputs": [],
"source": [
"clc\n",
"clear\n",
"//Input data\n",
"O=1000//Combined output of two units in MW\n",
"//Two coal generating units P and Q have the incremental heat rate defined by\n",
"//(IR)P=0.4818*10^-7.LP^4 - 0.9089*10^-4.LP^3 + 0.6842*10^-1.LP^2 - 0.2106*10.LP + 9860\n",
"//(IR)R=0.9592*10^-7.LQ^4 - 0.7811*10^-4.LQ^3 + 0.2625*10^-1.LQ^2 - 0.2189*10.LQ + 9003\n",
"\n",
"//Calculations\n",
"//LP+LQ=1000\n",
"//By making (IR)P=(IR)Q and solving the above three equations by a numerical methos such as Newton-Raphson algorithm, we get \n",
"LP=732.5//Heat rate in MW\n",
"LQ=(O-LP)//Heat rate in MW\n",
"IR=0.4818*10^-7*LP^4 - 0.9089*10^-4*LP^3 + 0.6842*10^-1*LP^2 - 0.2106*100*LP + 9860\n",
"IR1=0.9592*10^-7*LQ^4 - 0.7811*10^-4*LQ^3 + 0.2625*10^-1*LQ^2 - 0.2189*10*LQ + 9003\n",
"\n",
"//Output\n",
"printf('Incremental heat transfer rate at which the combined output of the two units is %3.0f MW is IR = (IR)P = (IR)Q = %i kJ/kWh',O,IR)"
   ]
   }
,
{
		   "cell_type": "markdown",
		   "metadata": {},
		   "source": [
			"## Example 1.15: Cost_of_electrical_energy.sce"
		   ]
		  },
  {
"cell_type": "code",
	   "execution_count": null,
	   "metadata": {
	    "collapsed": true
	   },
	   "outputs": [],
"source": [
"clc\n",
"clear\n",
"//Input data\n",
"F=2700//Fixed cost of the thermal station per kW of installed capacity per year in Rs,\n",
"FO=40//Fuel and operating costs per kWh generated in paise\n",
"L=[100,75,50,25]//Load factors\n",
"Y=8760//Number of hours in a year of 365 days\n",
"\n",
"//Calculations\n",
"FC=(F/Y)*100//Fixed costs per kW per hour in paise\n",
"E1=(L(1)/100)//Energy produced in 1 hr with 1 kW plant in kWh\n",
"FOC1=(E1*FO)//Fuel and operating cost in paise\n",
"TC1=(FC+FOC1)//Total cost per hr in paise\n",
"C1=(TC1/E1)//Cost per kWh in paise\n",
"E2=(L(2)/100)//Energy produced in 1 hr with 1 kW plant in kWh\n",
"FOC2=(E2*FO)//Fuel and operating cost in paise\n",
"TC2=(FC+FOC2)//Total cost per hr in paise\n",
"C2=(TC2/E2)//Cost per kWh in paise\n",
"E3=(L(3)/100)//Energy produced in 1 hr with 1 kW plant in kWh\n",
"FOC3=(E3*FO)//Fuel and operating cost in paise\n",
"TC3=(FC+FOC3)//Total cost per hr in paise\n",
"C3=(TC3/E3)//Cost per kWh in paise\n",
"E4=(L(4)/100)//Energy produced in 1 hr with 1 kW plant in kWh\n",
"FOC4=(E4*FO)//Fuel and operating cost in paise\n",
"TC4=(FC+FOC4)//Total cost per hr in paise\n",
"C4=(TC4/E4)//Cost per kWh in paise\n",
"\n",
"//Output\n",
"printf('==============================================================================\nLoad      Energy produced    Fixed cost   Fuel and       Total cost     Cost per\nfactor    in 1hr with        per hr      operating cost    per hr        kWh\n(percent) 1kW plant(kWh)    (paise)        (paise)        (paise)        (paise)\n==============================================================================\n%3.0f          %3.0f               %3.0f            %3.0f            %3.0f          %3.0f\n%3.0f          %3.2f              %3.0f            %3.0f            %3.0f          %3.0f\n%3.0f          %3.2f              %3.0f            %3.0f            %3.0f          %3.0f\n%3.0f          %3.2f              %3.0f            %3.0f            %3.0f          %3.0f\n==============================================================================',L(1),E1,FC,FOC1,TC1,C1,L(2),E2,FC,FOC2,TC2,C2,L(3),E3,FC,FOC3,TC3,C3,L(4),E4,FC,FOC4,TC4,C4)"
   ]
   }
,
{
		   "cell_type": "markdown",
		   "metadata": {},
		   "source": [
			"## Example 1.1: Load_factor.sce"
		   ]
		  },
  {
"cell_type": "code",
	   "execution_count": null,
	   "metadata": {
	    "collapsed": true
	   },
	   "outputs": [],
"source": [
"clf()\n",
"clc\n",
"clear\n",
"//Input data\n",
"C=30//Capacity in MW\n",
"M=70//Loads are taken above 70 MW\n",
"t1=[0,6]//Time range in hours\n",
"t2=[6,10]//Time range in hours\n",
"t3=[10,12]//Time range in hours\n",
"t4=[12,16]//Time range in hours\n",
"t5=[16,20]//Time range in hours\n",
"t6=[20,22]//Time range in hours\n",
"t7=[22,24]//Time range in hours\n",
"L=[30,70,90,60,100,80,60]//Load in MW\n",
"\n",
"//Calculations\n",
"E=((L(1)*(t1(2)-t1(1)))+(L(2)*(t2(2)-t2(1)))+(L(3)*(t3(2)-t3(1)))+(L(4)*(t4(2)-t4(1)))+(L(5)*(t5(2)-t5(1)))+(L(6)*(t6(2)-t6(1)))+(L(7)*(t7(2)-t7(1))))//Energy generated in MWh\n",
"AL=(E/24)//Average load in MW\n",
"PL=max(L(1),L(2),L(3),L(4),L(5),L(6),L(7))//Peak load in MW\n",
"LF=(AL/PL)//Load factor of the plant\n",
"E1=((L(3)-M)*(t3(2)-t3(1)))+((L(5)-M)*(t5(2)-t5(1)))+((L(6)-M)*(t6(2)-t6(1)))//Energy generated if the load above 70 MW is supplied by a standby unit of 30 MW capacity in MWh\n",
"T=(t3(2)-t3(1))+(t5(2)-t5(1))+(t6(2)-t6(1))//Time during which the standby unit remains in operation in h\n",
"AL1=(E1/T)//Average load in MW\n",
"LF1=(AL1/C)//Load factor \n",
"U=(E1/(C*T))//Use factor\n",
"\n",
"//Output\n",
"t=[0,0,6,6,10,10,12,12,16,16,20,20,22,22,24,24]//Time for plotting load curve in hours\n",
"l=[0,30,30,70,70,90,90,60,60,100,100,80,80,60,60,0]//Load for plotting load curve in MW\n",
"plot(t,l)//Load curve taking Time in hours on X-axis and Load in MW on Y- axis\n",
"xtitle('Load Curve','Time hours','Load MW');\n",
"\n",
"\n",
"printf('(a)Load factor of the plant is %3.2f\n(b)Load factor of a standby equipment of %3.0f capacity if it takes up all the loads above %3.0f MW is %3.2f\n(c)Use factor is %3.2f',LF,C,M,LF1,U)"
   ]
   }
,
{
		   "cell_type": "markdown",
		   "metadata": {},
		   "source": [
			"## Example 1.2: Average_load.sce"
		   ]
		  },
  {
"cell_type": "code",
	   "execution_count": null,
	   "metadata": {
	    "collapsed": true
	   },
	   "outputs": [],
"source": [
"clc\n",
"clear\n",
"//Input data\n",
"P=60//Peak load on power plant in MW\n",
"L=[30,20,10,14]//Loads having maximum demands in MW\n",
"C=80//Capacity of the power plant in MW\n",
"A=0.5//Annual load factor\n",
"Y=8760//Number of hours in a year of 365 days\n",
"\n",
"//Calculations\n",
"AL=(P*A)//Average load in MW\n",
"E=(AL*1000*Y)/10^6//Energy supplied per year in kWh*10^6\n",
"DF=(P/(L(1)+L(2)+L(3)+L(4)))//Demand factor \n",
"DIF=((L(1)+L(2)+L(3)+L(4))/P)//Diversity factor\n",
"\n",
"//Output\n",
"printf('(a) The average load on the power plant is %3.0f MW \n(b) The energy supplied per year is %3.1f *10^6 kWh \n(c) Demand factor is %3.3f \n(d) Diversity factor is %3.3f',AL,E,DF,DIF)"
   ]
   }
,
{
		   "cell_type": "markdown",
		   "metadata": {},
		   "source": [
			"## Example 1.3: Annual_Revenue.sce"
		   ]
		  },
  {
"cell_type": "code",
	   "execution_count": null,
	   "metadata": {
	    "collapsed": true
	   },
	   "outputs": [],
"source": [
"clc\n",
"clear\n",
"//Input data\n",
"C=210//Capacity of thermal power plant in MW\n",
"P=160//Maximum load in MW\n",
"L=0.6//Annual load factor \n",
"m=1//Coal consumption per kWh of energy generated\n",
"Rs=450//Cost of coal in Rs per tonne\n",
"Y=8760//Number of hours in a year of 365 days\n",
"\n",
"//Calculations\n",
"AL=(L*P)//Average load in MW\n",
"E=(AL*Y)//Energy generated per year in MWh\n",
"CL=(E*1000)//Coal required per year in kg\n",
"CY=(E*Rs)//Cost of coal per year\n",
"CE=CL//Cost of energy sold in Rs\n",
"RY=(CE-CY)/10^7//Revenue earned by the power plant per year in Rs crore\n",
"CF=(AL/C)//Capacity factor\n",
"\n",
"//Output\n",
"printf('(a) The annual revenue earned by the power plant is Rs %3.2f crore \n(b) Capacity factor is %3.3f',RY,CF)"
   ]
   }
,
{
		   "cell_type": "markdown",
		   "metadata": {},
		   "source": [
			"## Example 1.4: Annual_energy.sce"
		   ]
		  },
  {
"cell_type": "code",
	   "execution_count": null,
	   "metadata": {
	    "collapsed": true
	   },
	   "outputs": [],
"source": [
"clc\n",
"clear\n",
"//Input data\n",
"L=0.75//Load factor\n",
"C=0.60//Capacity factor\n",
"U=0.65//Use factor\n",
"M=60//Maximum power demand in MW\n",
"Y=8760//Number of hours in a year of 365 days\n",
"\n",
"//Calculations\n",
"A=(L*M)//Average load in MW\n",
"P=((A*1000)*Y)/10^6//Annual energy production in kWh *10^6\n",
"PC=(A/C)//Plant capacity in MW\n",
"R=(PC-M)//Reserve capacity in MW\n",
"HIO=(P*1000/(U*PC))//Hours in operation in hrs\n",
"NH=(Y-HIO)//Hours not in service in a year in hrs\n",
"\n",
"//Output\n",
"printf('(a) Annual energy production is %3.1f * 10^6 kWh \n(b) Reserve capacity over and above the peak load is %3.0f MW \n(c) The hours during which the plant is not in service per year is %3.0f hrs',P,R,NH)\n",
""
   ]
   }
,
{
		   "cell_type": "markdown",
		   "metadata": {},
		   "source": [
			"## Example 1.5: Overall_cost.sce"
		   ]
		  },
  {
"cell_type": "code",
	   "execution_count": null,
	   "metadata": {
	    "collapsed": true
	   },
	   "outputs": [],
"source": [
"clc\n",
"clear\n",
"//Input data\n",
"D=500//Maximum demand in MW\n",
"L=0.7//Load factor \n",
"//1)Steam power plant 2)Hydroelectric power plant 3)Nuclear power plant\n",
"CC=[3,4,5]//Capital cost per MW installed in Rs. crore\n",
"I=[6,5,5]//Interest in percent\n",
"D=[6,4,5]//Depreciation in percent\n",
"OP=[30,5,15]//Operating cost (including fuel) per kWh\n",
"TD=[2,3,2]//Transmission and distribution cost per kWh\n",
"Y=8760//Number of hours in a year of 365 days\n",
"\n",
"//Calculations\n",
"//1)Steam power plant\n",
"CCX=(CC(1)*D*10^7)//Capital cost in Rs\n",
"IX=((I(1)/100)*CCX)//Interest in Rs\n",
"DX=((D(1)/100)*CCX)//Depreciation in Rs\n",
"AFCX=IX+DX//Annual fixed cost in Rs\n",
"EX=(L*D*1000*Y)//Energy generated per year in kWh\n",
"RX=(OP(1)+TD(1))//Running cost/kWh in paise\n",
"OX=((AFCX/EX)+(RX/100))*100//Overall cost/kWh in paise\n",
"\n",
"//2)Hydroelectric Power plant\n",
"CCY=(CC(2)*D*10^7)//Capital cost in Rs\n",
"IY=((I(2)/100)*CCY)//Interest in Rs\n",
"DY=((D(2)/100)*CCY)//Depreciation in Rs\n",
"AFCY=IY+DY//Annual fixed cost in Rs\n",
"EY=(L*D*1000*Y)//Energy generated per year in kWh\n",
"RY=(OP(2)+TD(2))//Running cost/kWh in paise\n",
"OY=((AFCY/EY)+(RY/100))*100//Overall cost/kWh in paise\n",
"\n",
"//3)Nuclear power plant\n",
"CCZ=(CC(3)*D*10^7)//Capital cost in Rs\n",
"IZ=((I(3)/100)*CCZ)//Interest in Rs\n",
"DZ=((D(3)/100)*CCZ)//Depreciation in Rs\n",
"AFCZ=IZ+DZ//Annual fixed cost in Rs\n",
"EZ=(L*D*1000*Y)//Energy generated per year in kWh\n",
"RZ=(OP(3)+TD(3))//Running cost/kWh in paise\n",
"OZ=((AFCZ/EZ)+(RZ/100))*100//Overall cost/kWh in paise\n",
"\n",
"//Output\n",
"printf('(i)Overall cost per kWh in Steam power plant is %3.0f paise \n(ii)Overall cost per kWh in Hydroelectric power plant is %3.0f paise \n(iii)Overall cost per kWh in Nuclear power plant is %3.0f paise',OX,OY,OZ)"
   ]
   }
,
{
		   "cell_type": "markdown",
		   "metadata": {},
		   "source": [
			"## Example 1.6: Cost_of_power_generation.sce"
		   ]
		  },
  {
"cell_type": "code",
	   "execution_count": null,
	   "metadata": {
	    "collapsed": true
	   },
	   "outputs": [],
"source": [
"clc\n",
"clear\n",
"//Input data\n",
"C=210//Capacity in MW\n",
"ID=12//Interest and depreciation in percent\n",
"CC=18000//Capital cost/kW installed in Rs\n",
"L=0.6//Annual load factor\n",
"AC=0.54//Annual capacity factor\n",
"RC=(200*10^6)//Annual running charges in Rs\n",
"E=6//Energy consumed by power plant auxiliaries in percent\n",
"Y=8760//Number of hours in a year of 365 days\n",
"\n",
"//Calculations\n",
"MD=(C/L)*AC//Maximum demand in MW\n",
"RSC=(C-MD)//Reserve Capacity in MW\n",
"AL=(L*MD)//Average load in MW\n",
"EP=(AL*1000*Y)//Energy produced per year in kWh\n",
"NE=((100-E)/100)*EP//Net energy delivered in kWh\n",
"AID=((ID/100)*CC*C*1000)//Annual interest and depreciation in Rs\n",
"T=(AID+RC)//Total annual cost in Rs\n",
"CP=(T/NE)*100//Cost of power generation in paise\n",
"\n",
"//Output\n",
"printf('(a) The cost of power generation per kWh is %3.0f paise \n(b) The reserve capacity is %3.0f MW',CP,RSC)"
   ]
   }
,
{
		   "cell_type": "markdown",
		   "metadata": {},
		   "source": [
			"## Example 1.7: Economic_loading.sce"
		   ]
		  },
  {
"cell_type": "code",
	   "execution_count": null,
	   "metadata": {
	    "collapsed": true
	   },
	   "outputs": [],
"source": [
"clc\n",
"clear\n",
"//Input data\n",
"L=200//The total load supplied by the plants in MW\n",
"//The incremental fuel costs for generating units a and b of power plant are given by\n",
"//dFa/dPa=0.065Pa+25\n",
"//dFb/dPb=0.08Pa+20\n",
"\n",
"//Calculations\n",
"//Solving two equations\n",
"//Pa+Pb=200\n",
"//0.065Pa+25=0.08Pb+20\n",
"A=[1 1\n",
"   0.065 -0.08]//Coefficient matrix\n",
"B=[L\n",
"   (20-25)]//Constant matrix\n",
"X=inv(A)*B//Variable matrix\n",
"P=100//If load is shared equally then Pa=Pb=100MW\n",
"a=(((0.065*P^2)/2)+(25*P))-(((0.065*X(1)^2)/2)+(25*X(1)))//increase in fuel cost for unit a in Rs. per hour\n",
"b=(((0.08*P^2)/2)+(20*P))-(((0.08*X(2)^2)/2)+(20*X(2)))//increase in fuel cost for unit a in Rs. per hour\n",
"x=a+b//Net increase in fuel cost due to departure from economic distribution of load in Rs. per hour\n",
"\n",
"//Output\n",
"printf('(a)The economic loading of two units when the total load supplied by the power plants is 200 MW are %3.2f MW and %3.2f MW\n(b)The loss in fuel cost per hour if the load is equally shared by both units is Rs.%3.2f per hour',X(1),X(2),x)"
   ]
   }
,
{
		   "cell_type": "markdown",
		   "metadata": {},
		   "source": [
			"## Example 1.8: Cost_of_power_generation.sce"
		   ]
		  },
  {
"cell_type": "code",
	   "execution_count": null,
	   "metadata": {
	    "collapsed": true
	   },
	   "outputs": [],
"source": [
"clc\n",
"clear\n",
"//Input data\n",
"C=200//Installed capacity of the plant in MW\n",
"CC=400//Capital cost in Rs crores\n",
"ID=12//Rate of interest and depreciation in percent\n",
"AC=5//Annual cost of fuel, salaries and taxation in Rs. crores\n",
"L=0.5//Load factor\n",
"AL2=0.6//Raised Annual load\n",
"Y=8760//Number of hours in a year of 365 days\n",
"\n",
"//Calculations\n",
"AvL=(C*L)//Average Load in MW\n",
"E=(AvL*1000*Y)//Energy generated per year in kWh\n",
"IDC=((ID/100)*CC*10^7)//Interest and depreciation (fixed cost) in Rs\n",
"T=(IDC+(AC*10^7))//Total annual cost in Rs\n",
"CP1=(T/E)*100//Cost per kWh in paise\n",
"AvL2=(C*AL2)//Average Load in MW\n",
"E2=(AvL2*1000*Y)//Energy generated per year in kWh\n",
"CP2=(T/E2)*100//Cost per kWh in paise\n",
"S=((CP1)-(CP2))//Saving in cost per kWh in paise\n",
"S1=ceil(S)//Rounding off to next higher integer\n",
"\n",
"//Output\n",
"printf('Cost of generation per kWh is %3.0f paise \n Saving in cost per kWh if the annual load factor is raised to 60 percent is %3.0f paise',CP1,S1)"
   ]
   }
,
{
		   "cell_type": "markdown",
		   "metadata": {},
		   "source": [
			"## Example 1.9: Load_factor_and_capacity_factor.sce"
		   ]
		  },
  {
"cell_type": "code",
	   "execution_count": null,
	   "metadata": {
	    "collapsed": true
	   },
	   "outputs": [],
"source": [
"clc\n",
"clear\n",
"//Input data\n",
"C=300//Capacity of power plant in MW\n",
"MXD=240//Maximum demand in MW in a year\n",
"MND=180//Minimum demand in MW in a year\n",
"//Assuming the load duration curve shown in Figure E1.9 on page no 30 to be straight line\n",
"Y=8760//Number of hours in a year of 365 days\n",
"\n",
"//Calculations\n",
"E=((MND*Y)+0.5*(MXD-MND)*Y)*1000//Energy supplied per year in kWh\n",
"AL=(E/Y)//Average load in kW\n",
"L=((AL/1000)/MXD)//Load factor\n",
"CF=((AL/1000)*Y)/(C*Y)//Capacity factor\n",
"\n",
"//Output\n",
"printf('(a) Load factor is %3.3f \n(b) Capacity factor is %3.2f',L,CF)"
   ]
   }
],
"metadata": {
		  "kernelspec": {
		   "display_name": "Scilab",
		   "language": "scilab",
		   "name": "scilab"
		  },
		  "language_info": {
		   "file_extension": ".sce",
		   "help_links": [
			{
			 "text": "MetaKernel Magics",
			 "url": "https://github.com/calysto/metakernel/blob/master/metakernel/magics/README.md"
			}
		   ],
		   "mimetype": "text/x-octave",
		   "name": "scilab",
		   "version": "0.7.1"
		  }
		 },
		 "nbformat": 4,
		 "nbformat_minor": 0
}
