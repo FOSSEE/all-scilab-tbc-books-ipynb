{
"cells": [
 {
		   "cell_type": "markdown",
	   "metadata": {},
	   "source": [
       "# Chapter 9: Nuclear Power Plants"
	   ]
	},
{
		   "cell_type": "markdown",
		   "metadata": {},
		   "source": [
			"## Example 9.10: Specific_energy_release_rate.sce"
		   ]
		  },
  {
"cell_type": "code",
	   "execution_count": null,
	   "metadata": {
	    "collapsed": true
	   },
	   "outputs": [],
"source": [
"clc\n",
"clear\n",
"//Input data\n",
"f=3.5;//Mass fraction of U-235 in the fuel in percentage\n",
"G=180;//Energy per fission in Mev\n",
"F=10^13;//The neutron flux in neutrons/cm^2s\n",
"sf=577;//Fission cross section of U-235 in barns\n",
"M=1.602*10^-13;//One MeV in J\n",
"\n",
"//Calculations\n",
"N=2.372*(f/100)*10^22;//The fuel density for a uranium oxide fuel in nuclei/cm^3\n",
"q=G*N*sf*10^-24*F;//The rate of energy release in MeV/cm^3s\n",
"qg=q*M;//The rate of energy release in W/cm^3\n",
"\n",
"//Output\n",
"printf('The specific energy release rate for a light water uranium reactor = %3.2f W/cm^3',qg)"
   ]
   }
,
{
		   "cell_type": "markdown",
		   "metadata": {},
		   "source": [
			"## Example 9.11: Reactor_power_level.sce"
		   ]
		  },
  {
"cell_type": "code",
	   "execution_count": null,
	   "metadata": {
	    "collapsed": true
	   },
	   "outputs": [],
"source": [
"clc\n",
"clear\n",
"//Input data\n",
"P=1;//The operating power of a reactor in W\n",
"K=1.0015;//The effective multiplication factor of Reactor becomes suppercritical \n",
"t=0.0001;//The average neutron life in s\n",
"t1=1.0001;//Neutron life time in s\n",
"\n",
"//Calculations \n",
"d=(K-1)/K;//The reactivity \n",
"Z=(d*P)/t;//The number of neutrons\n",
"n=exp(Z)/10^6;//Neutron density * 10^6\n",
"\n",
"//Output\n",
"printf('The reactor power level at the end of 1s is %3.3f MW',n)"
   ]
   }
,
{
		   "cell_type": "markdown",
		   "metadata": {},
		   "source": [
			"## Example 9.1: Mass_defect_and_binding_energy.sce"
		   ]
		  },
  {
"cell_type": "code",
	   "execution_count": null,
	   "metadata": {
	    "collapsed": true
	   },
	   "outputs": [],
"source": [
"clc\n",
"clear\n",
"//Input data\n",
"mp=1.007277;//Atomic Mass of proton in amu\n",
"mn=1.008665;//Atomic Mass of neutron in amu\n",
"me=0.00055;//Atomic Mass of electron in amu\n",
"mo=15.99491;//Atomic Mass of oxygen in amu\n",
"np=8;//Number of protons in oxygen\n",
"ne=8;//Number of electrons in oxygen\n",
"nn=8;//Number of neutrons in oxygen\n",
"a=931;//One amu in MeV\n",
"No=16;//Number of nucleons in oxygen\n",
"\n",
"//Calculations\n",
"m=(np*mp)+(ne*me)+(nn*mn)-mo;//The mass defect in amu\n",
"B=m*a;//Binding energy in MeV\n",
"Bn=B/No;//Binding energy per nucleon\n",
"\n",
"//Output\n",
"printf('The mass defect = %3.5f amu \n The binding energy per nucleon = %3.2f MeV ',m,Bn)\n",
""
   ]
   }
,
{
		   "cell_type": "markdown",
		   "metadata": {},
		   "source": [
			"## Example 9.2: Decay_constant.sce"
		   ]
		  },
  {
"cell_type": "code",
	   "execution_count": null,
	   "metadata": {
	    "collapsed": true
	   },
	   "outputs": [],
"source": [
"clc\n",
"clear\n",
"//Input data\n",
"amr=226.095;//Atomic mass of radium in amu\n",
"AC=6.023*10^23;//Avogadro constant in molecules/g.mol\n",
"h=1620;//Half life of radium in years\n",
"\n",
"//Calculations\n",
"D=(0.6931/(h*365*24*3600));//The decay constant in 1/s\n",
"Na=AC/amr;//Number of atoms per gram of radium \n",
"Ao=D*Na;//Initial activity in dis/s\n",
"\n",
"//Output\n",
"disp(D,'The decay constant (in s^-1) = ');\n",
"disp(Ao,'The initial activity of 1 g of radium 226 in dis/s) = ');"
   ]
   }
,
{
		   "cell_type": "markdown",
		   "metadata": {},
		   "source": [
			"## Example 9.3: Fuel_consumption.sce"
		   ]
		  },
  {
"cell_type": "code",
	   "execution_count": null,
	   "metadata": {
	    "collapsed": true
	   },
	   "outputs": [],
"source": [
"clc\n",
"clear\n",
"//Input data\n",
"F=190;//Each fission of U-235 yeilds in MeV\n",
"a=85;//Assuming the Neutrons absorbed by U-235 cause fission in percentage\n",
"b=15;//Non fission capture to produce an isotope U-236 in percentage\n",
"Q=3000;//The amount of thermal power produced in MW\n",
"\n",
"//Calculations\n",
"E=F*1.60*10^-13;//Each fission yields a useful energy in J\n",
"N=1/E;//Number of fissions required \n",
"B=[(10^6)*(N*86400)]/(a/100);//One day operation of a reactor the number of U-235 nuclei burned is in absorptions per day\n",
"M=(B*235)/(6.023*10^23);//Mass of U-235 consumed to produce one MW power in g/day\n",
"M1=M*3;//Mass of U-235 consumed to produce 3000 MW power in g/day\n",
"\n",
"//Output\n",
"printf('The fuel consumed of U-235 per day = %3.1f g/day ',M1)"
   ]
   }
,
{
		   "cell_type": "markdown",
		   "metadata": {},
		   "source": [
			"## Example 9.4: Area_required.sce"
		   ]
		  },
  {
"cell_type": "code",
	   "execution_count": null,
	   "metadata": {
	    "collapsed": true
	   },
	   "outputs": [],
"source": [
"clc\n",
"clear\n",
"//Input data\n",
"sa1=10;//Cross section of nucleus in barns\n",
"N=2200;//Neutrons in m/s\n",
"En1=0.1;//Kinetic energy of neutrons increases in eV\n",
"En2=0.02525;//Kinetic energy of neutron in eV\n",
"\n",
"//Calculations\n",
"sa2=sa1/[(En1/En2)^0.5];//The cross section of neutrons in barns\n",
"\n",
"//Output\n",
"printf('The cross section of neutrons = %3.2f barns ',sa2)"
   ]
   }
,
{
		   "cell_type": "markdown",
		   "metadata": {},
		   "source": [
			"## Example 9.5: Microscopic_absorptio.sce"
		   ]
		  },
  {
"cell_type": "code",
	   "execution_count": null,
	   "metadata": {
	    "collapsed": true
	   },
	   "outputs": [],
"source": [
"clc\n",
"clear\n",
"//Input data\n",
"U1=99.285;//Uranium consists of U-238 in percentage \n",
"U2=0.715;//Uranium consists of U-235 in Percentage\n",
"E=0.025;//The energy of neutrons in eV\n",
"sc=2.72;//Capture cross section for U-238 in barns\n",
"sf=0;//fission cross section for U-238 in barns\n",
"sc1=101;//Capture cross section for U-235 in barns\n",
"sf1=579;//fission cross section for U-235 in barns\n",
"\n",
"//Calculations\n",
"sa=(U1/100)*(sc+sf)+(U2/100)*(sc1+sf1);//The microscopic absorption cross section of natural uranium in barns\n",
"\n",
"//Output\n",
"printf('The microscopic absorption cross section of natural uranium = %3.1f barns ',sa)"
   ]
   }
,
{
		   "cell_type": "markdown",
		   "metadata": {},
		   "source": [
			"## Example 9.6: Microscopic_absorptio.sce"
		   ]
		  },
  {
"cell_type": "code",
	   "execution_count": null,
	   "metadata": {
	    "collapsed": true
	   },
	   "outputs": [],
"source": [
"clc\n",
"clear\n",
"//Input data\n",
"p=1;//The density of water in g/cm^3\n",
"sch=0.332;//The microscopic capture cross section of hydrogen in barn\n",
"sco=0.0002;//The microscopic capture cross section of oxygen in barn\n",
"\n",
"//Calculations\n",
"N=(6.023*10^23)*p/18;//Number of molecules of water per cm^3\n",
"scw=(2*N*sch*10^-24)+(N*sco*10^-24);//The microscopic capture cross section of water in cm^-1\n",
"\n",
"//output\n",
"printf('The microscopic capture cross section of water = %3.4f cm^-1 ',scw)"
   ]
   }
,
{
		   "cell_type": "markdown",
		   "metadata": {},
		   "source": [
			"## Example 9.7: Thermal_neutron_flux.sce"
		   ]
		  },
  {
"cell_type": "code",
	   "execution_count": null,
	   "metadata": {
	    "collapsed": true
	   },
	   "outputs": [],
"source": [
"clc\n",
"clear\n",
"//Input data\n",
"m=230;//The amount of boron piece in g\n",
"mw=10;//The molecular weight of boron \n",
"R=9.57*10^13;//Reaction rate in cm^-3s^-1\n",
"d=2.3;//Density of boron in g/cm^3\n",
"sa=755;//Absorbption cross section in barns\n",
"ss=4;//Elastic scattering cross section in barns\n",
"\n",
"//Calculations\n",
"st=sa+ss;//The total cross section in barns\n",
"N=(d*6.023*10^23)/mw;//The number density of neutrons in cm^-3\n",
"S=N*st*10^-24;//Number density of neutrons for total in cm^-1\n",
"F=R/S;//Neutron flux in cm^-2s^-1\n",
"L=1/S;//Average distance a neutron travels before it is absorbed in cm\n",
"\n",
"//Output\n",
"disp(F,'The thermal neutron flux (in cm^-2s^-1) = ');\n",
"disp(L,'The average distance that a neutron travels before it is absorbed (in cm) = ');"
   ]
   }
,
{
		   "cell_type": "markdown",
		   "metadata": {},
		   "source": [
			"## Example 9.8: Number_of_collisions.sce"
		   ]
		  },
  {
"cell_type": "code",
	   "execution_count": null,
	   "metadata": {
	    "collapsed": true
	   },
	   "outputs": [],
"source": [
"clc\n",
"clear\n",
"//Input data\n",
"Eni=4.8;//The energy of the newly born electron in MeV\n",
"Enf=0.025;//The energy of the electron after slow down in eV\n",
"A=12;//The mass number of the graphite (carbon)\n",
"\n",
"//Calculations\n",
"L=1-[[(A-1)^2/(2*A)]*log((A+1)/(A-1))];//The logarithmic energy decrement\n",
"n=(log(Eni*10^6/Enf))/L;//The number of collisions required to slowdown the neutron \n",
"\n",
"//Output\n",
"printf('The logarithmic energy decrement representing the neutron energy loss per elastic collision = %3.3f \n The number of collisions necessary = %3.0f ',L,n)"
   ]
   }
,
{
		   "cell_type": "markdown",
		   "metadata": {},
		   "source": [
			"## Example 9.9: Rating_of_reactor.sce"
		   ]
		  },
  {
"cell_type": "code",
	   "execution_count": null,
	   "metadata": {
	    "collapsed": true
	   },
	   "outputs": [],
"source": [
"clc\n",
"clear\n",
"//Input data\n",
"f=100;//The reactor is fuelled of natural uranium in tonnes\n",
"A=238.05;//The atomic mass of natural uranium \n",
"F=10^13;//The average thermal neutron flux in neutrons/cm^2s\n",
"A1=235.04;//The atomic mass of U-235\n",
"sf=579;//The fission cross section of U-235 in barns\n",
"sc=101;//The capture cross section of U-235 in barns\n",
"E=200;//The energy released per fission in MeV\n",
"P=0.715;//U-235 in natural uranium in percentage\n",
"N=2200;//The average thermal neutron in m/s\n",
"\n",
"//Calculations\n",
"n=[(f*1000)*6.023*10^26*(P/100)]/A;//The number of U-235 atoms in the reactor in atoms\n",
"R=(sf*10^-24)*F*n;//The rate of fission in the reactor in fissions/s\n",
"T=R*E*1.602*10^-19;//Thermal power of the reactor in MW\n",
"Rr=T/f;//Rating the reactor MW/tonne\n",
"Rc=[[(R*A1*60*60*24)]/(6.023*10^26)];//The rate of consumption of U-235 by fission in kg/day\n",
"Rcc=Rc*1000;//The rate of consumption of U-235 by fission in g/day\n",
"\n",
"//Output\n",
"printf('(a) The rating of the reactor = %3.2f MW/tonne \n (b)The rate of consumption of U-235 per day = %3.3f kg/day (or) %3.0f g/day ',Rr,Rc,Rcc)"
   ]
   }
],
"metadata": {
		  "kernelspec": {
		   "display_name": "Scilab",
		   "language": "scilab",
		   "name": "scilab"
		  },
		  "language_info": {
		   "file_extension": ".sce",
		   "help_links": [
			{
			 "text": "MetaKernel Magics",
			 "url": "https://github.com/calysto/metakernel/blob/master/metakernel/magics/README.md"
			}
		   ],
		   "mimetype": "text/x-octave",
		   "name": "scilab",
		   "version": "0.7.1"
		  }
		 },
		 "nbformat": 4,
		 "nbformat_minor": 0
}
