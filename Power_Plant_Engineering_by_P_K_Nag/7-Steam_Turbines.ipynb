{
"cells": [
 {
		   "cell_type": "markdown",
	   "metadata": {},
	   "source": [
       "# Chapter 7: Steam Turbines"
	   ]
	},
{
		   "cell_type": "markdown",
		   "metadata": {},
		   "source": [
			"## Example 7.10: Workdone_and_efficiency.sce"
		   ]
		  },
  {
"cell_type": "code",
	   "execution_count": null,
	   "metadata": {
	    "collapsed": true
	   },
	   "outputs": [],
"source": [
"clc\n",
"clear\n",
"//Input data\n",
"a=20//Nozzle angle in degrees\n",
"b2=30//Blade exit angle in degrees\n",
"Vb=130//Mean blade speed in m/s\n",
"V1=330//Velocity of steam in m/s\n",
"f=0.8//Friction factor\n",
"nn=0.85//Nozzle efficiency\n",
"p1=20//Pressure in bar\n",
"T1=250+273//Temperature in K\n",
"p2=0.07//Pressure in bar\n",
"rf=1.06//Reheat factor\n",
"\n",
"//Calculations\n",
"b1=atand((V1*sind(a))/((V1*cosd(a))-Vb))//Blade angle in degrees\n",
"Vr1=((V1*sind(a))/sind(b1))//Velocity in m/s\n",
"Vr2=(f*Vr1)//Velocity in m/s\n",
"dVw=(Vr1*cosd(b1))+(Vr2*cosd(b2))//Vecoity in m/s\n",
"WD=(dVw*Vb)/1000//Workdone in kJ/kg\n",
"nb1=((2*dVw*Vb)/V1^2)*100//Efficiency in percent\n",
"nst=(nn*nb1)//Efficiency in percent\n",
"nin=(nst*rf)*100//Efficiency in percent\n",
"h1=2902.3//Enthalpy in kJ/kg\n",
"s1=6.5466//Entropy in kJ/kg.K\n",
"x2s=(s1-0.5582)/7.7198//Dryness fraction\n",
"h2s=(163.16+x2s*2409.54)//Enthalpy in kJ/kg\n",
"h12=(0.7041*(h1-h2s))//Change in enthalpy in kJ/kg\n",
"n=ceil(h12/WD)//Number of stages\n",
"\n",
"//Output\n",
"printf('(a) Work done in the stage per kg of steam is %3.2f kJ/kg \n Stage efficiency is %3.1f percent \n\n (b) Number of stages are %3.0f',WD,nst,n)"
   ]
   }
,
{
		   "cell_type": "markdown",
		   "metadata": {},
		   "source": [
			"## Example 7.11: Power_developed.sce"
		   ]
		  },
  {
"cell_type": "code",
	   "execution_count": null,
	   "metadata": {
	    "collapsed": true
	   },
	   "outputs": [],
"source": [
"clc\n",
"clear\n",
"//Input data\n",
"d=800//Diameter in mm\n",
"N=3000//Speed in rpm\n",
"V1=300//Velocity in m/s\n",
"a=20//Nozzle angle in degrees\n",
"f=0.86//Frictional factor\n",
"T=140//Axial thrust in N\n",
"\n",
"//Calculations\n",
"Vb=((3.14*(d/1000)*N)/60)//Velocity in m/s\n",
"b1=atand((V1*sind(a))/((V1*cosd(a))-Vb))//Blade angle in degrees\n",
"b2=b1//Blade angle in degrees\n",
"Vr1=(V1*sind(a))/sind(b1)//Velocity in m/s\n",
"Vr2=f*Vr1//Velocity in m/s\n",
"w=(T/((Vr1*sind(b1))-(Vr2*sind(b2))))//Mass flow rate in kg/s\n",
"dVw=(Vr2*cosd(b2))+(Vr1*cosd(b1))//Velocity in m/s\n",
"P=(w*dVw*Vb*10^-3)//Power developed in kW\n",
"\n",
"//Output\n",
"printf('Power deveoped in the blading is %3.2f kW',P)"
   ]
   }
,
{
		   "cell_type": "markdown",
		   "metadata": {},
		   "source": [
			"## Example 7.12: Thrust_Power_and_efficiency.sce"
		   ]
		  },
  {
"cell_type": "code",
	   "execution_count": null,
	   "metadata": {
	    "collapsed": true
	   },
	   "outputs": [],
"source": [
"clc\n",
"clear\n",
"//Input data\n",
"p1=15//Pressure in bar\n",
"T1=300+273//Temperature in K\n",
"p2=10//Pressure in bar\n",
"nn=95//Nozzle efficiency in percent\n",
"a=20//Nozzle angle in degrees\n",
"x=5//The blade exit angle is 5 degrees less than the inlet angle\n",
"f=0.9//Friction factor\n",
"m=1350//Steam flow rate in kg/h\n",
"\n",
"//Calculations\n",
"h1=3038.9//Enthalpy in kJ/kg\n",
"s1=6.9224//Entropy in kJ/kg.K\n",
"s2=s1//Entropy in kJ/kg.K\n",
"t2s=250//Temperature in degree C\n",
"h2s=2943.1//Enthalpy in kJ/kg\n",
"V1=44.72*sqrt((nn/100)*(h1-h2s))//Velocity in m/s\n",
"Vb=V1*(cosd(a)/2)//Velocity in m/s\n",
"b1=atand((V1*sind(a))/((V1*cosd(a))-Vb))//Blade angle in degrees\n",
"b2=b1-x//Blade angle in degrees\n",
"Vr1=((V1*sind(a))/sind(b1))//Velocity in m/s\n",
"Vr2=(f*Vr1)//Velocity in m/s\n",
"dVw=(Vr1*cosd(b1))+(Vr2*cosd(b2))//Velocity in m/s\n",
"dVa=(Vr1*sind(b1))-(Vr2*sind(b2))//Velocity in m/s\n",
"Pa=(m/3600)*dVa//Axial thrust in N\n",
"Pt=(m/3600)*dVw//Tangential thrust in N\n",
"WD=(Pt*Vb*10^-3)//Diagram Power in kW\n",
"dn=((WD*1000)/((1/2)*(m/3600)*V1^2))*100//Diagram efficiency in percent\n",
"\n",
"//Output\n",
"printf('(a) Axial thrust is %3.2f N \n  Tangential thrust is %3.2f N \n\n (b) Diagram Power is %3.3f kW \n\n (c) Diagram Efficiency is %3.1f percent',Pa,Pt,WD,dn)"
   ]
   }
,
{
		   "cell_type": "markdown",
		   "metadata": {},
		   "source": [
			"## Example 7.13: Thrust_Power_and_efficiency.sce"
		   ]
		  },
  {
"cell_type": "code",
	   "execution_count": null,
	   "metadata": {
	    "collapsed": true
	   },
	   "outputs": [],
"source": [
"clc\n",
"clear\n",
"//Input data\n",
"V1=600//Velocity in m/s\n",
"a=16//Nozzle angle in degrees\n",
"Vb=120//Mean blade angle in degrees\n",
"b2=18//Exit angle in degrees\n",
"aa1=22//Exit angle in degrees\n",
"b4=36//Exit angle in degrees\n",
"m=5//Steam flow rate in kg/s\n",
"f=0.85//Friction coefficient\n",
"\n",
"//Calculations\n",
"b1=atand((V1*sind(a))/((V1*cosd(a))-Vb))//Exit angle in degrees\n",
"Vr1=((V1*sind(a))/sind(b1))//Velocity in m/s\n",
"Vr2=(f*Vr1)//Velocity in m/s\n",
"a1=atand((Vr2*sind(b2))/((Vr2*cosd(b2))-Vb))//Angle in degrees\n",
"V2=((Vr2*sind(b2))/sind(a1))//Velocity in m/s\n",
"V3=(f*V2)//Velocity in m/s\n",
"dVw1=(Vr1*cosd(b1))+(Vr2*cosd(b2))//Velocity in m/s\n",
"dVa1=(V1*sind(a))-(V2*sind(a1))//Velocity in m/s\n",
"b3=atand((V3*sind(aa1))/((V3*cosd(aa1))-Vb))//Angle in degrees\n",
"Vr3=((V3*sind(aa1))/sind(b3))//Velocity in m/s\n",
"Vr4=(f*Vr3)//velocity in m/s\n",
"dVw2=(Vr3*cosd(b3))+(Vr4*cosd(b4))//Velocity in m/s\n",
"dVa2=(V3*sind(aa1))-(Vr4*sind(b4))//Velocity in m/s\n",
"udVw=(dVw1+dVw2)//Total velocity in m/s\n",
"udVa=(dVa1+dVa2)//Total velocity in m/s\n",
"Pt=(m*udVw*10^-3)//tangential thrust in kN\n",
"Pa=(m*udVa*10^-3)//Axial thrust in kN\n",
"WD=(Pt*Vb)//Power developed in kW\n",
"nd=((2*udVw*Vb)/V1^2)*100//Diagram efficiency in percent\n",
"\n",
"//Output\n",
"printf('(a) the tangential thrust is %3.3f kW \n (b) Axial thrust is %3.2f kN \n (c) Power developed is %3.2f kW \n (d) Diagram efficiency is %3.2f percent',Pt,Pa,WD,nd)"
   ]
   }
,
{
		   "cell_type": "markdown",
		   "metadata": {},
		   "source": [
			"## Example 7.14: Workdone_and_efficiency.sce"
		   ]
		  },
  {
"cell_type": "code",
	   "execution_count": null,
	   "metadata": {
	    "collapsed": true
	   },
	   "outputs": [],
"source": [
"clc\n",
"clear\n",
"//Input data\n",
"a=17//Nozzle angle in degrees\n",
"Vb=125//Blade velocity in m/s\n",
"b2=22//Blade angle n degrees\n",
"a1=26//Blade angle n degrees\n",
"b4=30//Blade angle n degrees\n",
"f=0.9//Friction factor\n",
"a2=90//Axial angle in degrees\n",
"\n",
"//Calculations\n",
"dVw=1040//Velocity in m/s from Velocity triangles Fig. E.7.14\n",
"V1=575//Velocity in m/s from Velocity triangles Fig. E.7.14\n",
"V4=75//Velocity of steam exiting stage in m/s from Velocity triangles Fig. E.7.14\n",
"WD=(dVw*Vb)/1000//Diagram work in kJ/kg\n",
"nd=((WD*1000)/((1/2)*V1^2))*100//Diagram efficiency in percent\n",
"\n",
"//Output\n",
"printf('(a) Absolute velocity of steam leaving the stage is %3.0f m/s \n (b) the diagram work is %3.0f kJ/kg \n (c) the diagram efficiency is %3.2f percent',V4,WD,nd)"
   ]
   }
,
{
		   "cell_type": "markdown",
		   "metadata": {},
		   "source": [
			"## Example 7.15: Power_output_and_efficiency.sce"
		   ]
		  },
  {
"cell_type": "code",
	   "execution_count": null,
	   "metadata": {
	    "collapsed": true
	   },
	   "outputs": [],
"source": [
"clc\n",
"clear\n",
"//Input data\n",
"p1=35//Pressure in bar\n",
"T1=350+273//Temperature in K\n",
"p2=0.07//Pressure in bar\n",
"x=1/4//Fraction of drop in isentropic enthalpy\n",
"a=20//Nozzle angle in degrees\n",
"nn=88//Nozzle efficiency in percent\n",
"y=0.2//Velocity ratio\n",
"b2=30//Exit blade angle in degrees\n",
"b4=30//Exit blade angle in degrees\n",
"f=0.9//Friction coefficienct\n",
"in=75//Internal efficiency of the turbine in percent\n",
"\n",
"//Calculations\n",
"h1=3106.4//Enthalpy in kJ/kg\n",
"s1=6.6643//Entropy in kJ/kg.K\n",
"x2s=(s1-0.5582)/7.7198//dryness fraction\n",
"h2s=(163.16+x2s*2409.54)//Enthalpy in kJ/kg\n",
"dh=(h1-h2s)//Change in enthalpy in kJ/kg\n",
"h13s=x*dh//Change in enthalpy in kJ/kg\n",
"h13=(nn/100)*h13s//Change in enthalpy in kJ/kg\n",
"V1=(44.72*sqrt(h13))//Velocity in m/s\n",
"Vb=(y*V1)//Velocity in m/s\n",
"b1=atand((V1*sind(a))/((V1*cosd(a))-Vb))//Angle in degrees\n",
"Vr1=((V1*sind(a))/sind(b1))//Velocity in m/s\n",
"Vr2=(f*Vr1)//Velocity in m/s\n",
"dVw1=(Vr1*cosd(b1))+(Vr2*cosd(b2))//Velocity in m/s\n",
"V2=sqrt((Vr2*sind(b2))^2+((Vr2*cosd(b2))-Vb)^2)//Velocity in m/s\n",
"V3=f*V2//Velocity in m/s\n",
"b3=atand((V3*sind(b2))/((V3*cosd(b2))-Vb))//Angle in degrees\n",
"Vr3=((V3*sind(b2))/sind(b3))//Velocity in m/s\n",
"Vr4=f*Vr3//Velocity in m/s\n",
"dVw2=(Vr3*cosd(b3))+(Vr4*cosd(b4))//Velocity in m/s\n",
"dVw=(dVw1+dVw2)//Velocity in m/s\n",
"nb1=((2*dVw*Vb)/V1^2)*100//Efficiency in percent\n",
"ns=(nn*nb1)/100//Efficiency in percent\n",
"ht=(in/100)*dh//Total change in enthalpy in kJ/kg\n",
"hc=(ns/100)*h13s//Total change in enthalpy in kJ/kg\n",
"pp=(hc/ht)*100//Percentage of enthalpy\n",
"\n",
"//Output\n",
"printf('Efficiency of first stage is %3.2f percent \n Percentage of the total power developed by the turbine is %3.2f percent',ns,pp)"
   ]
   }
,
{
		   "cell_type": "markdown",
		   "metadata": {},
		   "source": [
			"## Example 7.16: Power_developed.sce"
		   ]
		  },
  {
"cell_type": "code",
	   "execution_count": null,
	   "metadata": {
	    "collapsed": true
	   },
	   "outputs": [],
"source": [
"clc\n",
"clear\n",
"//Input data\n",
"R=50//Percentage of reaction\n",
"b1=35//Angle in degrees\n",
"q=b1//Angle in degrees\n",
"b2=20//Angle in degrees\n",
"a=b2//Angle in degrees\n",
"N=1500//Speed in rpm\n",
"d=0.67//Mean diameter in m\n",
"p=1.5//Pressure in bar\n",
"x=0.96//Dryness fraction\n",
"w=3.6//Flow rate in kg/s\n",
"\n",
"//Calculations\n",
"Vb=(3.14*d*N)/60//Velocity in m/s\n",
"V1=(Vb*(sind(180-b1)/sind(b1-b2)))//Veocity in m/s\n",
"Vr1=(Vb*(sind(b2)/sind(b1-b2)))//Velocity in m/s\n",
"dVw=(V1*cosd(a))+(Vr1*cosd(q))//Velocity in m/s\n",
"v1=(0.001052+x*1.15937)//Specific volume in m^3/kg\n",
"hb=((w*v1)/(3.14*d*V1*sind(a)))*1000//Required height in mm\n",
"P=(w*dVw*Vb)/1000//Power developed in kW\n",
"\n",
"//Output\n",
"printf('(a) the required height of blading is %3.1f mm \n (b) the power developed by the ring is %3.3f kW',hb,P)"
   ]
   }
,
{
		   "cell_type": "markdown",
		   "metadata": {},
		   "source": [
			"## Example 7.17: Power_developed.sce"
		   ]
		  },
  {
"cell_type": "code",
	   "execution_count": null,
	   "metadata": {
	    "collapsed": true
	   },
	   "outputs": [],
"source": [
"clc\n",
"clear\n",
"//Input data\n",
"N=400//Speed in rpm\n",
"P=5//Power in MW\n",
"m=6//Flow rate in kg/kWh\n",
"b2=20//Blade angle in degrees\n",
"a=b2//Angle in degrees\n",
"x=1.35//Velocity ratio\n",
"p=1.2//Pressure in bar\n",
"x1=0.95//Steam quality \n",
"Dh=12//Ratio of Dm and hb\n",
"\n",
"//Calculations\n",
"w=(m*P*1000)/3600//Mass flow rate in kg/s\n",
"v1=(0.0010468+x1*1.454)//Specific volume in m^3/kg\n",
"hb=((w*v1)/(Dh*3.14*x*((Dh*N)/60)*3.14*sind(a)))^(1/3)*1000//Blade height in mm\n",
"Vb=((3.14*Dh*(hb/1000)*N)/60)//velocity in m/s\n",
"V1=(x*Vb)//Velocity in m/s\n",
"dVw=((2*V1*cosd(a))-Vb)//velocity in m/s\n",
"WD=(w*dVw*Vb*10^-3)//Diagram power in kW\n",
"\n",
"//Output\n",
"printf('(a)Blade height is %3.0f mm \n (b) the diagram power is %3.2f kW',hb,WD)"
   ]
   }
,
{
		   "cell_type": "markdown",
		   "metadata": {},
		   "source": [
			"## Example 7.18: Diagram_power.sce"
		   ]
		  },
  {
"cell_type": "code",
	   "execution_count": null,
	   "metadata": {
	    "collapsed": true
	   },
	   "outputs": [],
"source": [
"clc\n",
"clear\n",
"//Input data\n",
"N=3000//Speed in rpm\n",
"Vb=100//Mean blade speed in m/s\n",
"x=0.56//Velocity ratio\n",
"a=20//Blade angle in degrees\n",
"b2=a//Blade angle in degrees\n",
"v=0.65//Specific volume in m^3/kg\n",
"h=25//Mean height in mm\n",
"n=5//Number of pairs of blades\n",
"\n",
"//Calculations\n",
"V1=(Vb/x)//Velocity in m/s\n",
"Vr2=V1//Velocity in m/s\n",
"Dm=(Vb*60)/(3.14*N)//Diameter in m\n",
"w=((3.14*Dm*h*V1*sind(a))/v)/1000//Mass flow rate in kg/s\n",
"ws=(w*3600)//Mass flow rate in kg/hr\n",
"b1=atand((V1*sind(a))/((V1*cosd(a))-Vb))//Blade angle in degrees\n",
"Vr1=((V1*sind(a))/sind(b1))//Velocity in m/s\n",
"dhmb=(1/2)*(Vr2^2-Vr1^2)/1000//Change in enthalpy in kJ/kg\n",
"dsta=(2*dhmb)//Change in enthalpy of stage in kJ/kg\n",
"dsta5=(n*dsta)//Total Change in enthalpy of stage in kJ/kg\n",
"Dp=(w*dsta5)//Diagram power in kW\n",
"\n",
"//Output\n",
"printf('Mass flow rate of steam is %3.3f kg/s \n Useful enthalpy drop is %3.2f kJ/kg \n The diagram power is %3.1f kW',w,dsta5,Dp)"
   ]
   }
,
{
		   "cell_type": "markdown",
		   "metadata": {},
		   "source": [
			"## Example 7.19: Number_of_impulse_stages.sce"
		   ]
		  },
  {
"cell_type": "code",
	   "execution_count": null,
	   "metadata": {
	    "collapsed": true
	   },
	   "outputs": [],
"source": [
"clc\n",
"clear\n",
"//Input data\n",
"P=8//Power in MW\n",
"N=5000//Speed in rpm\n",
"p=40//pressure in bar\n",
"T=500//Temperature in degree C\n",
"p2=0.1//Pressure in bar\n",
"in=0.85//Internal efficiency of turbine\n",
"nm=0.96//Mechanical efficiency\n",
"nn=0.92//Nozzle efficiency\n",
"a=15//Nozzle angle in degrees\n",
"Vb=300//Blade velocity in m/s\n",
"\n",
"//Calculations\n",
"V1=(2*Vb)/cosd(a)//Velocity in m/s\n",
"dh=((V1/44.72)^2/nn)//Change in enthalpy in kJ/kg\n",
"h1=3445.3//Enthalpy in kJ/kg\n",
"s1=7.0901//Entropy in kJ/kg.K\n",
"s2=s1//Entropy in kJ/kg.K\n",
"x2=(s2-0.6493)/7.5009//Dryness fraction\n",
"h2s=(191.83+x2*2392.8)//Enthalpy in kJ/kg\n",
"h12s=(h1-h2s)//Change in enthalpy in kJ/kg\n",
"n=(h12s/dh)//Number of stages\n",
"w=((P*1000)/(in*nm))/h12s//Mass flow rate in kg/s\n",
"h13=(nn*dh)//Change in enthalpy in kJ/kg\n",
"h3=h1-h13//Enthalpy in kJ/kg\n",
"v3=0.17//Specific volume in m^3/kg\n",
"A=(w*v3)/V1//Area in m^2\n",
"hm=(A/(((Vb*60)/N)*sind(a)))*1000//Height in mm\n",
"\n",
"//Output\n",
"printf('(a) the number of impulse stages are%3.0f \n (b) the nozzle height is %3.1f mm',n,hm)"
   ]
   }
,
{
		   "cell_type": "markdown",
		   "metadata": {},
		   "source": [
			"## Example 7.1: Maximum_area.sce"
		   ]
		  },
  {
"cell_type": "code",
	   "execution_count": null,
	   "metadata": {
	    "collapsed": true
	   },
	   "outputs": [],
"source": [
"clc\n",
"clear\n",
"//Input data\n",
"p1=10//Initial pressure in bar\n",
"T1=300+273//Initial temperature in K\n",
"p2=2//Final pressure in bar\n",
"m=1//Mass flow rate of steam in kg/s\n",
"\n",
"//Calculations\n",
"px=(0.546*p1)//Critical pressure in bar\n",
"ho=3052.2//Enthalpy in kJ/kg\n",
"so=7.1229//Entropy in kJ/kg.K\n",
"sx=so//Entropy in kJ/kg.K\n",
"hx=2905.9//Enthalpy in kJ/kg\n",
"vx=0.4125//Specific volume in m^3/kg\n",
"Vx=(44.72*sqrt(ho-hx))//Critical velocity in m/s\n",
"Ax=(vx/Vx)*10^4//Minimum area of the nozzle in sq.cm\n",
"\n",
"//Output\n",
"printf('Minimum area of the nozzles is %3.3f sq.cm',Ax)"
   ]
   }
,
{
		   "cell_type": "markdown",
		   "metadata": {},
		   "source": [
			"## Example 7.20: Height_of_blades.sce"
		   ]
		  },
  {
"cell_type": "code",
	   "execution_count": null,
	   "metadata": {
	    "collapsed": true
	   },
	   "outputs": [],
"source": [
"clc\n",
"clear\n",
"//Input data\n",
"p=1.5//Pressure in bar\n",
"x1=0.9//Dryness fraction\n",
"m=7//Steam flow rate in kg/s\n",
"N=3000//Turbine speed in rpm\n",
"x=0.7//Velocity ratio\n",
"y=0.75//Velocity ratio\n",
"a=20//Exit angle in degrees\n",
"b2=a//Angle in degrees\n",
"hx=1/10//Fraction of height\n",
"\n",
"//Calculations\n",
"v=0.001052+x1*1.15937//Specific volume in m^3/kg\n",
"Dm=((m*v*60)/(3.14*hx*y*3.14*N))^(1/3)//Diameter in m\n",
"hb=Dm*1000*hx//Height in mm\n",
"Vb=(3.14*Dm*N)/60//Velocity in m/s\n",
"dVw=((2*x*Vb*cosd(a)/sind(a))-Vb)//Velocity in m/s\n",
"P=(m*dVw*Vb)/1000//Power developed in kW\n",
"\n",
"//Output\n",
"printf('Height of the moving blades at exit is %3.1f mm \n Power developed in the blade row is %3.2f kW',hb,P)"
   ]
   }
,
{
		   "cell_type": "markdown",
		   "metadata": {},
		   "source": [
			"## Example 7.21: Mean_diamter_of_wheel.sce"
		   ]
		  },
  {
"cell_type": "code",
	   "execution_count": null,
	   "metadata": {
	    "collapsed": true
	   },
	   "outputs": [],
"source": [
"clc\n",
"clear\n",
"//Input data\n",
"p=40//Pressure in bar\n",
"T=500//Temperature in degree C\n",
"p1=0.1//Pressure in bar\n",
"a=16//Nozzle angle in degrees\n",
"N=3000//Speed in rpm\n",
"\n",
"//Calculations\n",
"h1=3445.3//Enthalpy in kJ/kg\n",
"s1=7.0901//Entropy in kJ/kg.K\n",
"s2=s1//Entropy in kJ/kg.K\n",
"x2s=(s2-0.6493)/7.5009//Dryness fraction\n",
"h2s=(191.83+x2s*2392.8)//Enthalpy in kJ/kg\n",
"V1=44.72*sqrt(h1-h2s)//Velocity in m/s\n",
"Vb=V1*(cosd(a)/2)//Velocity in m/s\n",
"Dm=(Vb*60)/(3.14*N)//Diameter in m\n",
"V2=44.72*sqrt((h1-h2s)/2)//Velocity in m/s\n",
"Vb2=V2*cosd(a)//Velocity in m/s\n",
"Dm2=(Vb2*60)/(3.14*N)//Diameter in m\n",
"V3=44.72*sqrt((h1-h2s)/4)//Velocity in m/s\n",
"Vb3=V3*(cosd(a)/2)//Velocity in m/s\n",
"Dm3=(Vb3*60)/(3.14*N)//Diameter in m\n",
"V4=44.72*sqrt(h1-h2s)//Velocity in m/s\n",
"Vb4=V4*(cosd(a)/4)//Velocity in m/s\n",
"Dm4=(Vb4*60)/(3.14*N)//Diameter in m\n",
"V5=44.72*sqrt((h1-h2s)/(2*4))//Velocity in m/s\n",
"Vb5=V5*cosd(a)//Velocity in m/s\n",
"Dm5=(Vb5*60)/(3.14*N)//Diameter in m\n",
"\n",
"//Output\n",
"printf('The mean diameter of the wheel if the turbine were of \n (a) single impulse stage is %3.2f m \n (b) single 50 percent reaction stage is %3.1f m \n (c) four pressure (or Rateau) stages is %3.2f m \n (d) one two-row Curtis stage is %3.3f m \n (e) four stage 50 percent reaction stages is %3.2f m',Dm,Dm2,Dm3,Dm4,Dm5)"
   ]
   }
,
{
		   "cell_type": "markdown",
		   "metadata": {},
		   "source": [
			"## Example 7.22: Number_of_stages.sce"
		   ]
		  },
  {
"cell_type": "code",
	   "execution_count": null,
	   "metadata": {
	    "collapsed": true
	   },
	   "outputs": [],
"source": [
"clc\n",
"clear\n",
"//Input data\n",
"p=150//Pressure in bar\n",
"T=600//Temperature in degree C\n",
"Vb=300//Velocity in m/s\n",
"nn=95//Nozzle efficiency in percent\n",
"a=15//Nozzle angle in degrees\n",
"a1=25//Angle in degrees\n",
"\n",
"//Calculations\n",
"h1=3582.3//Enthalpy in kJ/Kg\n",
"s1=6.6776//Entropy in kJ/kg.K\n",
"s2=s1//Entropy in kJ/kg.K\n",
"x2s=(s2-0.6493)/7.5009//Dryness fraction\n",
"h2s=(191.83+x2s*2392.8)//Enthalpy in kJ/kg\n",
"h12s=(h1-h2s)//Difference in enthalpy in kJ/kg\n",
"V1=(Vb*2)/cosd(a)//Velocity in m/s\n",
"dhs=(V1/44.72)^2/(nn/100)//Change in enthalpy in kJ/kg\n",
"n1=ceil(h12s/dhs)//Number of stages\n",
"V2=(Vb/cosd(a1))//Velocity in m/s\n",
"dhs2=(V2/44.72)^2/(nn/(2*100))//Change in enthalpy in kJ/kg\n",
"n2=h12s/dhs2//Number of stages\n",
"V3=(Vb*4)/cosd(a)//Velocity in m/s\n",
"dhs3=(V3/44.72)^2/(nn/100)//Change in enthalpy in kJ/kg\n",
"dhhs3=(h12s-dhs3)//Change in enthalpy in kJ/kg\n",
"n3=dhhs3/dhs//Number of stages\n",
"n4=dhhs3/dhs2//Number of stages\n",
"\n",
"//Output\n",
"printf('Number of stages required in \n (a) all simple impulse stages are %3.0f \n (b) all 50 percent reaction stages are %3.0f \n (c) a 2-row Cutris stage follwed by simple impulse stages are %3.0f \n (d) a 2-row Cutris stage followed by 50 percent reaction stages are %3.0f',n1,n2,n3,n4)"
   ]
   }
,
{
		   "cell_type": "markdown",
		   "metadata": {},
		   "source": [
			"## Example 7.23: Interstage_pressures.sce"
		   ]
		  },
  {
"cell_type": "code",
	   "execution_count": null,
	   "metadata": {
	    "collapsed": true
	   },
	   "outputs": [],
"source": [
"clc\n",
"clear\n",
"//Input data\n",
"p1=20//Pressure in bar\n",
"T=400//Temperature in degree C\n",
"p2=0.1//Pressure in bar\n",
"n=4//Number of stages\n",
"ns=75//Stage efficiency in percent\n",
"\n",
"//Calculations\n",
"h16s=(3250-2282)//Change in enthalpy in kJ/kg\n",
"h12s=(h16s/n)//Change in enthalpy in kJ/kg\n",
"p=[8,2.6,0.6]//pressures in bar from Mollier chart\n",
"h12=(ns/100)*h12s//Change in enthalpy in kJ/kg\n",
"h23s=(3060-2800)//Change in enthalpy in kJ/kg\n",
"h23=(ns/100)*h23s//Change in enthalpy in kJ/kg\n",
"h34s=(2870-2605)//Change in enthalpy in kJ/kg\n",
"h34=(ns/100)*h34s//Change in enthalpy in kJ/kg\n",
"h45s=(2680-2410)//Change in enthalpy in kJ/kg\n",
"h45=(ns/100)*h45s//Change in enthalpy in kJ/kg\n",
"h5=2470//Enthalpy in kJ/kg\n",
"rf=(h12s+h23s+h34s+h45s)/h16s//Reheat factor\n",
"nth=((h12+h23+h34+h45)/h16s)*100//Internal efficiency in percent\n",
"nin=(ns*rf)//Internal efficiency in percent\n",
"\n",
"//Output\n",
"printf('The interstage pressures are %i bar, %3.1f bar, %3.1f bar \n The reheat factor is %3.3f \n The turbine internal efficiency is %3.1f percent',p(1),p(2),p(3),rf,nin)"
   ]
   }
,
{
		   "cell_type": "markdown",
		   "metadata": {},
		   "source": [
			"## Example 7.25: Mean_blade_diameter.sce"
		   ]
		  },
  {
"cell_type": "code",
	   "execution_count": null,
	   "metadata": {
	    "collapsed": true
	   },
	   "outputs": [],
"source": [
"clc\n",
"clear\n",
"//Input data\n",
"n=20//Number of stages\n",
"P=12//Power in MW\n",
"p=15//Pressure in bar\n",
"T=350//Temperature in degree C\n",
"p1=0.14//Pressure in bar\n",
"ns=75//Stage efficiency in percent\n",
"rf=1.04//Reheat factor\n",
"p2=1//Pressure in bar\n",
"a=20//Angle in degrees\n",
"v=0.7//Velocity ratio\n",
"h=1/12//Blade height in terms of mean blade diameter\n",
"\n",
"//Calculations\n",
"nint=(ns/100)*rf//Internal efficiency \n",
"dhs=855//Enthalpy in kJ/kg\n",
"dha=ceil(nint*dhs)//Actual enthalpy change in kJ/kg\n",
"w=(P*1000)/dha//Mass flow rate in kg/s\n",
"Vb=(sqrt((dha/n)/((((2/v)*cosd(a))-1)*10^-3)))//Velocity in m/s//\n",
"vg=1.694//Specific volume in m^3/kg\n",
"Dm=sqrt((w*vg)/(3.14*h*(Vb/v)*sind(a)))//Diameter in m\n",
"N=((Vb*60)/(3.14*Dm))//Speed in rpm\n",
"\n",
"//Output\n",
"printf('(a) the flow rate of steam required is %3.2f kg/s \n (b) the mean blade diameter is %3.3f m \n (c) the speed of the rotor is %3.0f rpm',w,Dm,N)\n",
"//In textbook, Vb is given wrong as 141.4 m/s instead of 140.6 m/s. Hence the answers are different."
   ]
   }
,
{
		   "cell_type": "markdown",
		   "metadata": {},
		   "source": [
			"## Example 7.26: Height_of_blades.sce"
		   ]
		  },
  {
"cell_type": "code",
	   "execution_count": null,
	   "metadata": {
	    "collapsed": true
	   },
	   "outputs": [],
"source": [
"\n",
"clc\n",
"clear\n",
"//Input data\n",
"V1=600//Velocity in m/s\n",
"Vb=120//Mean blade velocity in m/s\n",
"a=16//Nozzle angle in degrees\n",
"b=[18,21,35]//Exit angles in degrees\n",
"m=5//Steam flow rate in kg/s\n",
"h=25//Nozzle height in mm\n",
"v=0.375//Specific volume in m^3/kg\n",
"p=25//Pitch in mm\n",
"t=0.5//Thickness in mm\n",
"kb=0.9//Constant\n",
"\n",
"//Calculations\n",
"l=((m*v)/(sind(a)*V1*(h/1000)*kb))//Length of the nozzle arc in m //Length of the nozzle arc is calculated wrong as 0.454m instead of 0.5 m\n",
"b1= atand((V1*sind(a))/((V1*cosd(a))-Vb))//Angle in degrees\n",
"Vr1=((V1*sind(a))/sind(b1))//Velocity in m/s\n",
"Vr2=kb*Vr1//Velocity in m/s\n",
"V2=sqrt(Vr2^2+Vb^2-2*Vr2*Vb*cosd(b(1)))//Velocity in m/s\n",
"V3=291//Velocity in m/s\n",
"b3=atand((V3*sind(b(2)))/((V3*cosd(b(2)))-Vb))//Angle in degrees\n",
"Vr3=((V3*sind(b(2)))/sind(b3))//Velocity in m/s\n",
"Vr4=(Vr3*kb)//Velocity in m/s\n",
"hb1=((m*v*(h/1000))/(l*((p/1000)*sind(b(1))-(t/1000))*Vr2))*1000//Height in mm\n",
"hn=((m*v*(h/1000))/(l*((p/1000)*sind(b(2))-(t/1000))*V3))*1000//Height in mm\n",
"hb2=((m*v*(h/1000))/(l*((h/1000)*sind(b(3))-(t/1000))*Vr4))*1000//Height in mm\n",
"\n",
"//Output\n",
"printf('Blade heights at the exit of each row: \n First row of moving blades is %3.1f mm \n Fixed row of guide blades is %3.1f mm \n Second row of moving blades is %3.1f mm',hb1,hn,hb2)"
   ]
   }
,
{
		   "cell_type": "markdown",
		   "metadata": {},
		   "source": [
			"## Example 7.27: Intercasting_steam_condition.sce"
		   ]
		  },
  {
"cell_type": "code",
	   "execution_count": null,
	   "metadata": {
	    "collapsed": true
	   },
	   "outputs": [],
"source": [
"clc\n",
"clear\n",
"//Input data\n",
"P=200//Power in MW\n",
"p=180//Pressure in bar\n",
"T=550//Temperature in degree C\n",
"P1=600//Power in MW\n",
"p1=300//Pressure in bar\n",
"T1=580//Temperature in degree C\n",
"nt=90//Turbine efficiency in percent\n",
"\n",
"//Calculations\n",
"h1=3430//Enthalpy in kJ/kg\n",
"h2s=3040//Enthalpy in kJ/kg\n",
"h12s=(h1-h2s)//Enthalpy in kJ/kg\n",
"h12=(nt/100)*h12s//Enthalpy in kJ/kg\n",
"h2=3070//Enthalpy in kJ/kg\n",
"v2=0.06//Specific volume in m^3/kg\n",
"h4=3560//Enthalpy in kJ/kg\n",
"h3s=2000//Enthalpy in kJ/kg\n",
"h13s=(h1-h3s)//Enthalpy in kJ/kg\n",
"h13=(nt/100)*h13s//Enthalpy in kJ/kg\n",
"w=(P*10^3)/h13//Mass flow rate in kg/s\n",
"Vbm=350//Velocity in m/s\n",
"N=3000//Speed in rpm\n",
"a=25//Angle in degrees\n",
"Dm=(Vbm*60)/(3.14*N)//Diameter in m\n",
"hD=0.3//Assuming (hb/Dm)max \n",
"hb=(hD*Dm)//Height in m\n",
"Ab=(3.14*Dm*hb*0.9*sind(a))//Flow area in m^2\n",
"V1=(Vbm/cosd(a))//Velocity in m/s\n",
"Vo=(Ab*V1)//Volume flow rate in m^3/s\n",
"v=(Vo/w)//Specific volume in m^3/kg\n",
"h5s=2456//Enthalpy in kJ/kg\n",
"p5=0.36//Pressure in bar\n",
"h45s=(h4-h5s)//Enthalpy in kJ/kg\n",
"h45=(nt/100)*h45s//Enthalpy in kJ/kg\n",
"h5=h4-h45//Enthalpy in kJ/kg\n",
"x5=0.952//Dryness fraction\n",
"h56s=(h5-2340)//Enthalpy in kJ/kg\n",
"h56=(nt/100)*h56s//Enthalpy in kJ/kg\n",
"h6=h5-h56//Enthalpy in kJ/kg\n",
"v6=18//Specific volume in m^3/kg\n",
"mm=(Vo/v6)//Maximum mass flow that one stage can accommodate in kg/s\n",
"np=(w/mm)//Number of parallel exhausts\n",
"rp=(p1/4)//Reheat pressure in bar\n",
"xh1=3410//Enthalpy in kJ/kg\n",
"xh2s=3015//Enthalpy in kJ/kg\n",
"xh12s=xh1-xh2s//Enthalpy in kJ/kg\n",
"xh12=(nt/100)*xh12s//Enthalpy in kJ/kg\n",
"xv2=0.035//Specific volume in m^3/kg\n",
"xh4=3060//Enthalpy in kJ/kg\n",
"xh3s=1960//Enthalpy in kJ/kg\n",
"xh13s=xh1-xh3s//Enthalpy in kJ/kg\n",
"xh3=(xh1-xh13s)//Enthalpy in kJ/kg\n",
"xw=(P1*10^3)/xh13s//Mass flow rate in kg/s\n",
"xvm=(Vo/xw)//Maximum specific volume in m^3/kg\n",
"Vf=(xw*xv2)//Volume flow rate in m^3/s\n",
"xh5s=2300//Enthalpy in kJ/kg\n",
"xh45s=xh4-xh5s//Enthalpy in kJ/kg\n",
"xh45=(nt/100)*xh45s//Enthalpy in kJ/kg\n",
"xh5=xh4-xh45s//Enthalpy in kJ/kg\n",
"xv5=1.25//Specific volume in m^3/kg\n",
"xx5=0.86//Dryness fraction\n",
"xh6s=2050//Enthalpy in kJ/kg\n",
"xh56s=xh5-xh6s//Enthalpy in kJ/kg\n",
"xh56=(nt/100)*xh56s//Enthalpy in kJ/kg\n",
"xh6=(xh5-xh56)//Enthalpy in kJ/kg\n",
"xv6=12//Specific volume in m^3/kg\n",
"xx6=0.792//Dryness fraction\n",
"xmm=(Vo/xv6)//Maximum mass flow in kJ/kg\n",
"xnp=ceil(xw/xmm)//Number of parallel exhausts\n",
"\n",
"//Output\n",
"printf('Number of parallel exhausts in : \n (a)condition a are %i \n (b)condition b are %i',np,xnp) "
   ]
   }
,
{
		   "cell_type": "markdown",
		   "metadata": {},
		   "source": [
			"## Example 7.28: Efficiency.sce"
		   ]
		  },
  {
"cell_type": "code",
	   "execution_count": null,
	   "metadata": {
	    "collapsed": true
	   },
	   "outputs": [],
"source": [
"clc\n",
"clear\n",
"//Input data\n",
"P=100//Power in MW\n",
"T=550//temperature in degree C\n",
"p=0.1//Pressure in bar\n",
"m=500000//Mass flow rate in kg/h at rated load\n",
"mo=25000//Mass flow rate in kg/h at zero load\n",
"x=[1/4,1/2,3/4,1]//Fraction of load\n",
"\n",
"//Calculations\n",
"b=(m-mo)/(P*10^3)//Steam rate in kg/kWh\n",
"y1=(x(1)*(P*10^3))//For one-fourth load\n",
"s1=(mo/y1)+b//Steam rate in kg/kWh\n",
"y2=(x(2)*(P*10^3))//For one-fourth load\n",
"s2=(mo/y2)+b//Steam rate in kg/kWh\n",
"y3=(x(3)*(P*10^3))//For one-fourth load\n",
"s3=(mo/y3)+b//Steam rate in kg/kWh\n",
"y4=(x(4)*(P*10^3))//For one-fourth load\n",
"s4=(mo/y4)+b//Steam rate in kg/kWh\n",
"h1=3511//Enthalpy in kJ/kg\n",
"xs1=6.8142//Entropy in kJ/kg.K\n",
"xs2=xs1//Entropy in kJ/kg.K\n",
"x2s=(xs2-0.6493)/7.5009//Dryness fraction\n",
"h2s=191.83+x2s*2392.8//Enthalpy in kJ/kg\n",
"nR=((h1-h2s)/(h1-191.83))*100//Rankine efficiency in percent\n",
"nac=((P*10^3*3600)/(m*(h1-191.83)))*100//Actual efficiency in percent\n",
"nTG=((P*10^3*3600)/(m*(h1-h2s)))*100//Turbogenerator efficiency in percent\n",
"\n",
"//Output\n",
"printf('(a) Steam rate at: \n One-fourth load is %3.2f kg/kWh \n Half load is %3.2f kg/kWh \n Three-fourth load is %3.2f kg/kWh \n Full load is %3.1f kg/kWh \n\n (b) Rankine cycle efficiency is %3.1f percent \n (c) Actual efficiency at full load is %3.1f percent \n (d) The turbogenerator efficiency at full load is %3.1f percent',s1,s2,s3,s4,nR,nac,nTG)"
   ]
   }
,
{
		   "cell_type": "markdown",
		   "metadata": {},
		   "source": [
			"## Example 7.2: Minimum_area.sce"
		   ]
		  },
  {
"cell_type": "code",
	   "execution_count": null,
	   "metadata": {
	    "collapsed": true
	   },
	   "outputs": [],
"source": [
"clc\n",
"clear\n",
"//Input data\n",
"p1=10//Initial pressure in bar\n",
"T1=300+273//Initial temperature in K\n",
"p2=1//Final pressure in bar\n",
"x=0.15//Friction loss of the isentropic enthalpy drop\n",
"ms=1//Steam flow rate in kg/s\n",
"d=25//Exit diameter of the nozzles in mm\n",
"\n",
"//Calculations\n",
"px=(0.546*p1)//Critical pressure in bar\n",
"h1=3052.2//Enthalpy in kJ/kg\n",
"s1=7.1276//Entropy in kJ/kg\n",
"s2s=s1//Entropy in kJ/kg\n",
"h2s=2916.2//Enthalpy in kJ/kg\n",
"Vx=(44.72*sqrt(h1-h2s))//Critical velocity in m/s\n",
"h3s=2605//Enthalpy in kJ/kg\n",
"V1=(44.72*sqrt((h1-h2s)+(0.85*(h2s-h3s))))//Velocity in m/s\n",
"s3s=s1//Entropy in kJ/kg\n",
"x3s=(s3s-1.3025)/6.0579//Dryness fraction\n",
"h3s=(417.46+(x3s*2258.01))//Enthalpy in kJ/kg\n",
"h2s3=((1-x)*(h2s-h3s))//Enthalpy in kJ/kg\n",
"h3=h2s-h2s3//Enthalpy in kJ/kg\n",
"x3=(h3-417.46)/2258.01//Dryness fraction\n",
"v3=(0.001043+(x3*1.694))//Specific volume in m^3/kg\n",
"v2s=0.416//Specific volume in m^3/kg\n",
"vx=v2s//Specific volume in m^3/kg\n",
"Ax=(ms/Vx)*vx*10^4//Minimum area in cm^2\n",
"A1=(ms*v3)/V1*10^4//Area in cm^2\n",
"n=(A1*4)/(3.14*(d/10)^2)//Number of nozzles\n",
"\n",
"//Output\n",
"printf('Minimum area of the nozzles is %3.2f cm^2 \n the number of nozzles are %3.0f',Ax,n)"
   ]
   }
,
{
		   "cell_type": "markdown",
		   "metadata": {},
		   "source": [
			"## Example 7.3: Throat_and_exit_area.sce"
		   ]
		  },
  {
"cell_type": "code",
	   "execution_count": null,
	   "metadata": {
	    "collapsed": true
	   },
	   "outputs": [],
"source": [
"clc\n",
"clear\n",
"//Input data\n",
"p1=7.8//Pressure in bar\n",
"t1=180+273//Temperature in K\n",
"p2=1.03//pressure in bar\n",
"m=3.6//flow rate of air in kg/s\n",
"g=1.4//Ratio of specific heats\n",
"R=287//Characteristic gas constant in J/kg.K\n",
"cp=1.005//Specific heat in kJ/kg.K\n",
"\n",
"//Calculations\n",
"pxpo=(2/(g+1))^(g/(g-1))//Ratio of pressure\n",
"px=pxpo*p1//Critical pressure in bar\n",
"txto=(2/(g+1))//Ratio of temperatures\n",
"tx=t1*txto//Critical temperature in K\n",
"vx=(R*tx)/(px*10^5)//Critical specific volume in m^3/kg\n",
"Vx=sqrt(g*R*tx)//Critical velocity in m/s\n",
"Ax=((m*vx)/Vx)*10^6//Critical area in mm^2\n",
"tot1=(p1/p2)^((g-1)/g)//Ratio of temperatures\n",
"t1i=t1/tot1//Temperature in K\n",
"v1=(R*t1i)/(p2*10^5)//Specific volume in m^3/kg\n",
"V1=44.72*sqrt(cp*(t1-t1i))//Velocity in m/s\n",
"A1=((m*v1)/V1)*10^6//Area in mm^2\n",
"\n",
"//Output\n",
"printf('Area of throat is %3.0f mm^2 \n Exit area is %i mm^2',Ax,A1)"
   ]
   }
,
{
		   "cell_type": "markdown",
		   "metadata": {},
		   "source": [
			"## Example 7.4: Throat_and_exit_area.sce"
		   ]
		  },
  {
"cell_type": "code",
	   "execution_count": null,
	   "metadata": {
	    "collapsed": true
	   },
	   "outputs": [],
"source": [
"clc\n",
"clear\n",
"//Input data\n",
"p1=3.8//pressure in bar\n",
"T1=450+273//Tempereture in K\n",
"p2=1//pressure in bar\n",
"m=16//Flow rate in kg/s\n",
"Cd=0.98//coefficient of discharge\n",
"nv=0.93//nozzile effeciency\n",
"cp=1.11//Specific heat in kJ/kg.K\n",
"g=1.333//Ratio of specific heats\n",
"\n",
"//Calculations\n",
"pxpo=(2/(g+1))^(g/(g-1))//Pressure ratio\n",
"px=pxpo*p1//Critical pressure in bar\n",
"TxTo=2/(g+1)//Temperature ratio\n",
"Tx=T1*TxTo//Critical temperature in K\n",
"Vx=44.72*sqrt(cp*(T1-Tx))//critical velocity in m/s\n",
"R=(cp*(g-1)*1000)/g//Characteristic gas constant in J/kg.K\n",
"vx=(R*Tx)/(px*10^5)//Critical specific volume in m^3/kg\n",
"ws=(m/Cd)//Mass flow rate in kg/s\n",
"Ax=(ws*vx)/Vx//Critical area in m^2\n",
"T1sTo=(p2/p1)^((g-1)/g)//Temperature ratio\n",
"T1s=T1*T1sTo//Temperature in K\n",
"T1i=(T1-(nv*(T1-T1s)))//Temperature in K\n",
"v1=(R*T1i)/(p2*10^5)//Specific volume in m^3/kg\n",
"V1=44.72*sqrt(cp*(T1-T1i))//Velocity in m/s\n",
"A1=(ws*v1)/V1//Area in m^2\n",
"\n",
"//Output\n",
"printf('Throat raea is %3.4f m^2 \n Exit arae is %3.4f m^2',Ax,A1)"
   ]
   }
,
{
		   "cell_type": "markdown",
		   "metadata": {},
		   "source": [
			"## Example 7.5: Throat_and_exit_area.sce"
		   ]
		  },
  {
"cell_type": "code",
	   "execution_count": null,
	   "metadata": {
	    "collapsed": true
	   },
	   "outputs": [],
"source": [
"clc\n",
"clear\n",
"//Input data\n",
"p1=20//pressure in bar\n",
"T1=300+273//Tempereture in K\n",
"p2=3//pressure in bar\n",
"m=0.3//Flow rate in kg/s\n",
"n=1.3//Adiabatic constant\n",
"Cd=0.98//Coefficient of discharge\n",
"Cv=0.92//Coefficient of velocity\n",
"\n",
"//Calculations\n",
"vo=0.1255//Specific volume in m^3/kg\n",
"px=(0.546*p1)//Critical pressure in bar\n",
"vx=(p1/px)^(1/n)*vo//Critical specific volume in m^3/kg\n",
"Vx=sqrt(n*px*10^5*vx)//Critical velocity in m/s\n",
"Ax=((m*vx)/Vx)*10^6//Critical area in m^2\n",
"v1vo=(p1/p2)^(1/n)//Ratio of specific volumes\n",
"v1=(vo*v1vo)//Specific volume in m^3/kg\n",
"V1=sqrt(2*((n/(n-1))*10^5*((p1*vo)-(p2*v1))))//Velocity in m/s\n",
"A1=((m*v1)/V1)*10^6//Area in mm^2\n",
"ho=3050//Enthalpy in kJ/kg\n",
"hx=2920//Enthalpy in kJ/kg\n",
"h1s=2650//Enthalpy in kJ/kg\n",
"ws=(m/Cd)//Flow rate in kg/s\n",
"Vsx=44.72*sqrt(ho-hx)//Velocity in m/s\n",
"V1s=44.72*sqrt(ho-h1s)//Velocity in m/s\n",
"Vo1=(V1s*Cv)//Velocity in m/s\n",
"hoh1=(V1/44.72)^2//Change in enthalpy in kJ/kg\n",
"h1=ho-hoh1//Enthalpy in kJ/kg\n",
"x1=(h1-561.47)/2163.8//Dryness fraction\n",
"vo1=(0.001073+(x1*0.6047))//Specific volume in m^3/kg\n",
"Ao1=((ws*vo1)/Vo1)*10^6//Exit nozzle area in mm^2\n",
"Vox=(Vsx*Cv)//Velocity in m/s\n",
"hohx=(Vox/44.72)^2//Change in enthalpy in kJ/kg\n",
"hox=(ho-hohx)//Enthalpy in kJ/kg\n",
"vox=0.22//Specific volume in m^3/kg\n",
"Aox=((ws*vox)/Vox)*10^6//Critical area in m^2\n",
"\n",
"//Output\n",
"printf('(a) Area of throat is %3.1f mm^2 \n Exit area is %3.1f mm^2 \n\n (b) Area of throat is %3.1f mm^2 \n Exit area is %3.1f mm^2',Ax,A1,Aox,Ao1)\n",
"//In textbook, Ao1 is given wrong."
   ]
   }
,
{
		   "cell_type": "markdown",
		   "metadata": {},
		   "source": [
			"## Example 7.6: Mass_flow_rate.sce"
		   ]
		  },
  {
"cell_type": "code",
	   "execution_count": null,
	   "metadata": {
	    "collapsed": true
	   },
	   "outputs": [],
"source": [
"clc\n",
"clear\n",
"//Input data\n",
"p1=5//Pressure of steam in bar\n",
"V=100//Velocity in m/s\n",
"p2=1.5//Exit pressure in bar\n",
"At=1280//Throat area in mm^2\n",
"Ae=1600//Exit area in mm^2\n",
"rp=0.58//Critical pressure ratio\n",
"\n",
"//Calculations\n",
"ho=2749//Enthalpy in kJ/kg\n",
"so=6.822//Entropy in kJ/kg.K\n",
"px=(rp*p1)//Critical pressure in bar\n",
"sx=so//Entropy in kJ/kg.K\n",
"xx=(sx-1.660)/5.344//Dryness fraction\n",
"hx=(556+(xx*2168))//Enthalpy in kJ/kg\n",
"Vx=sqrt(((ho+((V^2*10^-3))/2)-hx)*(2/10^-3))//Velocity in m/s\n",
"vx=(xx*0.6253)//Specific volume in m^3/kg\n",
"w=(At*10^-6*Vx)/vx//Mass flow rate in kg/s\n",
"s1s=sx//Entropy in kJ/kg.K\n",
"x1s=(so-1.434)/5.789//Dryness fraction\n",
"h1s=(467+x1s*2226)//ENthalpy in kJ/kg\n",
"z=((Vx^2*10^-3)/2)-hx//z value\n",
"//By iteratio scheme\n",
"x1=0.932//Dryness fraction\n",
"v1=1.080//Specific volume in m^3/kg\n",
"h1=2542//Enthalpy in kJ/kg\n",
"V1=652.2//Velocity in m/s\n",
"nn=((hx-h1)/(hx-h1s))//Nozzle efficiency\n",
"\n",
"//Output\n",
"printf('Mass flow rate is %3.3f kg/s \n Nozzle efficiency is %3.3f',w,nn)"
   ]
   }
,
{
		   "cell_type": "markdown",
		   "metadata": {},
		   "source": [
			"## Example 7.7: Exit_area.sce"
		   ]
		  },
  {
"cell_type": "code",
	   "execution_count": null,
	   "metadata": {
	    "collapsed": true
	   },
	   "outputs": [],
"source": [
"clc\n",
"clear\n",
"//Input data\n",
"p1=5//Pressure in bar\n",
"T1=200+273//Temperature in K\n",
"p2=2//Pressure in bar\n",
"m=0.3//Mass flow rate in kg/s\n",
"n=1.3//Adiabatic index\n",
"\n",
"//Calculations\n",
"vo=0.4249//Specific volume in m^3/kg\n",
"ho=2855.4//Enthalpy in kJ/kg\n",
"so=7.0592//Entropy in kJ/kg.K\n",
"x1=0.972//Dryness fraction \n",
"h1=(504.7+x1*2201.9)//Enthalpy in kJ/kg\n",
"v1=x1*0.8857//Specific volume in m^3/kg\n",
"V1=44.72*sqrt(ho-h1)//Velocity in m/s\n",
"A1=((m*v1)/V1)*10^6//Area in mm^2\n",
"rp=(p1/p2)^(1/n)//Specific volume ratio\n",
"vR=(vo*rp)//Specific volume in m^3/kg\n",
"VR=sqrt(2*((n/(n-1))*(p1*vo-p2*vR)*10^5))//Velocity in m/s\n",
"AR=((m*vR)/VR)*10^6//Area in mm^2\n",
"TR=T1/(p1/p2)^((n-1)/n)//Temperature in K\n",
"tR=(TR-273)//Temperature in degree C\n",
"ts=120.23//Saturation temperature at pressure p1 in degree C\n",
"ds=ts-tR//Degree of subcooling in degree C\n",
"ps=1.4327//Saturation pressure at tR in bar\n",
"dsu=(p2/ps)//Degree of supersaturation\n",
"\n",
"//Output\n",
"printf('(a) Exit area when the flow is in equilibrium throughout is %3.0f mm^2 \n (b) Exit area when the flow is supersaturated is %3.1f mm^2 \n (i) The degree of supercooling is %3.2f degree C \n (ii) The degree of supersaturation is %3.3f',A1,AR,ds,dsu)"
   ]
   }
,
{
		   "cell_type": "markdown",
		   "metadata": {},
		   "source": [
			"## Example 7.8: Exit_area.sce"
		   ]
		  },
  {
"cell_type": "code",
	   "execution_count": null,
	   "metadata": {
	    "collapsed": true
	   },
	   "outputs": [],
"source": [
"clc\n",
"clear\n",
"//Input data\n",
"p1=5//Pressure in bar\n",
"T1=200//Temperature in degree C\n",
"p2=2//Pressure in bar\n",
"m=0.3//Mass flow rate in kg/s\n",
"n=1.3//Adiabatic index\n",
"nn=0.92//Nozzle efficiency\n",
"cp=1.925//mean specific heat in kJ/kg.K\n",
"x=[2.308,1943]//pv*10^3 = 2.308(h-1943)\n",
"\n",
"//Calculations\n",
"vo=0.4249//Specific volume in m^3/kg\n",
"ho=2855.4//Enthalpy in kJ/kg\n",
"so=7.0592//Entropy in kJ/kg.K\n",
"x1=0.972//Dryness fraction \n",
"h1=(504.7+x1*2201.9)//Enthalpy in kJ/kg\n",
"v1=x1*0.8857//Specific volume in m^3/kg\n",
"V1=44.72*sqrt(ho-h1)//Velocity in m/s\n",
"h=ho-h1//Change in enthalpy in kJ/kg\n",
"hoq=nn*h//Change in enthalpy in kJ/kg\n",
"VQ=44.72*sqrt(hoq)//Velocity in m/s\n",
"toq=(hoq/cp)//Temperature difference in degree C\n",
"tQ=(T1-toq)//Temperature in degree C\n",
"TQ=tQ+273//Temperature in K\n",
"vQ=((p1*100*vo)/(T1+273))*(TQ/T1)//Specific volume in m^3/kg\n",
"A1=((m*vQ)/VQ)*10^6//Area in mm^2\n",
"vQ=(x(1)*(ho-hoq-x(2)))/(10^3*p2)//Specific volume in m^3/kg\n",
"A11=((m*vQ)/VQ)*10^6//Area in mm^2\n",
"\n",
"//Output\n",
"printf('Exit area is %3.1f mm^2 which upon checking is %3.0f mm^2',A1,A11)"
   ]
   }
,
{
		   "cell_type": "markdown",
		   "metadata": {},
		   "source": [
			"## Example 7.9: Force_Thrust_and_efficiency.sce"
		   ]
		  },
  {
"cell_type": "code",
	   "execution_count": null,
	   "metadata": {
	    "collapsed": true
	   },
	   "outputs": [],
"source": [
"clc\n",
"clear\n",
"//Input data\n",
"V1=1000//Speed in m/s\n",
"Vb=400//Peripheral velocity in m/s\n",
"a=20//Nozzle angle in degree\n",
"m=0.75//Mass flow in kg/s\n",
"f=80//Percentage reduction of relative velocity\n",
"\n",
"//Calculations\n",
"b1=atand((V1*sind(a))/((V1*cosd(a))-Vb))//Blade angle in degree\n",
"V=342//Velocity from E7.9 in m/s\n",
"Vr1=V/sind(b1)//Velocity in m/s\n",
"dVw=(2*Vr1*cosd(b1))//Velocity in m/s\n",
"Pt=(m*dVw)//Tangential thrust in N\n",
"WD=(Pt*Vb)/1000//Diagram power in kW\n",
"nD=(WD/(0.5*m*V1^2*10^-3))*100//Diagram efficiency in percent\n",
"Pa=0//Axial thrust in N\n",
"Vr2=(f/100)*Vr1//Velocity in m/s\n",
"Pa2=m*sind(b1)*(Vr1-Vr2)//Axial thrust in N\n",
"WD2=(m*(Vr1+Vr2)*cosd(b1)*Vb)/1000//Diagram power in kW\n",
"nD2=(WD2/(0.5*m*V1^2*10^-3))*100//Diagram efficiency in percent\n",
"\n",
"//Output\n",
"printf('Blade Angle is %3.2f degrees \n\n Neglecting the friction effects \n Tangential force is %3.2f N \n Axial thrust is %i N \n Diagram efficiency is %3.1f percent \n\n Considering the friction effects \n Axial thrust is %3.1f N \n Diagram Power is %3.2f kW \n Diagram efficiency is %3.2f percent',b1,Pt,Pa,nD,Pa2,WD2,nD2)"
   ]
   }
],
"metadata": {
		  "kernelspec": {
		   "display_name": "Scilab",
		   "language": "scilab",
		   "name": "scilab"
		  },
		  "language_info": {
		   "file_extension": ".sce",
		   "help_links": [
			{
			 "text": "MetaKernel Magics",
			 "url": "https://github.com/calysto/metakernel/blob/master/metakernel/magics/README.md"
			}
		   ],
		   "mimetype": "text/x-octave",
		   "name": "scilab",
		   "version": "0.7.1"
		  }
		 },
		 "nbformat": 4,
		 "nbformat_minor": 0
}
