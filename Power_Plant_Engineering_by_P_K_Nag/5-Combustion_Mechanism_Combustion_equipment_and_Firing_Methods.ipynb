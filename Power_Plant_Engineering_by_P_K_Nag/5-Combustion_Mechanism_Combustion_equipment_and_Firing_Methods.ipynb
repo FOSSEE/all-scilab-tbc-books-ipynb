{
"cells": [
 {
		   "cell_type": "markdown",
	   "metadata": {},
	   "source": [
       "# Chapter 5: Combustion Mechanism Combustion equipment and Firing Methods"
	   ]
	},
{
		   "cell_type": "markdown",
		   "metadata": {},
		   "source": [
			"## Example 5.1: Total_surface_area.sce"
		   ]
		  },
  {
"cell_type": "code",
	   "execution_count": null,
	   "metadata": {
	    "collapsed": true
	   },
	   "outputs": [],
"source": [
"clc\n",
"clear\n",
"//Input data\n",
"Vs=2500;//The mass of a bed of solid particles in kg\n",
"p=2650;//The density of the solid in kg/m^3\n",
"d=800*10^-6;//The mean particle size in m\n",
"s=0.84;//The sphericity of the particle\n",
"\n",
"//Calculations\n",
"As=(6*Vs)/(p*d*s);//The total surface area of the particles in the bed\n",
"\n",
"//Output\n",
"printf(' The total surface area of the particles in the bed As = %3.0f m^2 ',As)"
   ]
   }
,
{
		   "cell_type": "markdown",
		   "metadata": {},
		   "source": [
			"## Example 5.2: Voidage_of_the_bed.sce"
		   ]
		  },
  {
"cell_type": "code",
	   "execution_count": null,
	   "metadata": {
	    "collapsed": true
	   },
	   "outputs": [],
"source": [
"clc\n",
"clear\n",
"//Input data\n",
"d=427*10^-6;//The mean particle size in m\n",
"pg=1.21;//The density of air in kg/m^3\n",
"v=1.82*10^-5;//The viscosity of air in kg/ms\n",
"pl=1620;//The density of the loosely packed bed in kg/m^3\n",
"ps=2780;//The density of the solids in kg/m^3\n",
"c1=27.2;//(Grace,1982)constant value.\n",
"c2=0.0408;//(Grace,1982)constant value\n",
"g=9.812;//Gravitational forc constant in m/s^2\n",
"\n",
"//Calculations\n",
"E=1-(pl/ps);//The voidage of the bed\n",
"Ar=[(pg)*(ps-pg)*g*(d^3)]/v^2;//Archimedes number\n",
"Re=[c1^2+(c2*Ar)]^(0.5)-c1;//Reynolds number\n",
"Umf=Re*v/(pg*d);//Minimum superficial velocity in m/s\n",
"\n",
"//Output\n",
"printf('(a) The voidage of the bed = %3.3f \n (b) The minimum fluidization velocity Umf = %3.3f m/s ',E,Umf)"
   ]
   }
,
{
		   "cell_type": "markdown",
		   "metadata": {},
		   "source": [
			"## Example 5.3: Sphericity_of_particles.sce"
		   ]
		  },
  {
"cell_type": "code",
	   "execution_count": null,
	   "metadata": {
	    "collapsed": true
	   },
	   "outputs": [],
"source": [
"clc\n",
"clear\n",
"//Input data\n",
"d=427*10^-6;//The mean particle size in m\n",
"pg=1.21;//The density of air in kg/m^3\n",
"v=1.82*10^-5;//The viscosity of air in kg/ms\n",
"Umf=0.14;//Minimum superficial velocity in m/s\n",
"Ar=7753;//Archimedes number from previous example problem\n",
"\n",
"//Calculations\n",
"Re=(Umf*pg*d)/v;//Reynolds number\n",
"function[f] = F(x);//function definition\n",
"    f = 7753*x^2- 381.1*x -4793;\n",
"endfunction\n",
"x = 100;//Initial guss\n",
"function[z] = D(x)//Derivative\n",
"    z= 3*x^2 - 3;\n",
"endfunction\n",
"y = fsolve(x,F, D);\n",
"\n",
"//Output\n",
"printf('The sphericity of particles is = %3.3f ',y)\n",
""
   ]
   }
,
{
		   "cell_type": "markdown",
		   "metadata": {},
		   "source": [
			"## Example 5.4: Flow_rate_of_limestone.sce"
		   ]
		  },
  {
"cell_type": "code",
	   "execution_count": null,
	   "metadata": {
	    "collapsed": true
	   },
	   "outputs": [],
"source": [
"clc\n",
"clear\n",
"//Input data\n",
"O=35;//The output of the fluidized bed combustion system in MW\n",
"n=0.80;//Efficiency of the fluidized bed combustion system \n",
"H=26;//The heating value of coal in MJ/kg\n",
"S=3.6;//Sulphur content in the coal in %\n",
"C=3;//The calcium sulphur ratio \n",
"Ca=85;//The amount of calcium carbonate in the limestone in %\n",
"CaCO3=100;//The molecular weight of CaCO3\n",
"\n",
"//Calculations\n",
"Cb=O/(n*H);//Coal burning rate in kg/s\n",
"Cb1=Cb*3600;//Coal burning rate in kg/h\n",
"Sf=(Cb1*(S/100))/32;//Flow rate of sulphur in Kmol/h\n",
"Cf=Sf*C;//The flow rate of calcium in Kmol/h\n",
"Caf=Cf*CaCO3;//Mass flow rate of CaCO3 in kg/h\n",
"L=Caf/(Ca/100);//Mass flow rate of limestone in kg/h\n",
"\n",
"//Output\n",
"printf('The required flow rate of limestone is %3.1f kg/h ',L)"
   ]
   }
,
{
		   "cell_type": "markdown",
		   "metadata": {},
		   "source": [
			"## Example 5.5: Rate_of_heat_removed.sce"
		   ]
		  },
  {
"cell_type": "code",
	   "execution_count": null,
	   "metadata": {
	    "collapsed": true
	   },
	   "outputs": [],
"source": [
"clc\n",
"clear\n",
"//Input data\n",
"CV=24;//The calorific value of the fuel in MJ/kg\n",
"C=0.65;//The amount of calorific value released in the bed in %\n",
"to=850;//Temperature at which products leave in degree centigrade\n",
"ti=30;//The inlet temperature in degree centigrade\n",
"tb=850;//The bed temperature in degree centigrade\n",
"A=14.5;//The air fuel ratio by mass\n",
"Cp=1.035;//The specific heat of the products leaving the bed surface in kJ/kgK\n",
"B=7000;//The burning rate of coal in kg/h\n",
"\n",
"//Calculations\n",
"H=(C*CV*1000)-(A*Cp*(to-ti));//Heat removal from the bed per kg fuel in kJ/kg fuel\n",
"Hr=(H*B)/3600;//Rate of heat removal from the bed in kW\n",
"Hb=(B/3600)*(1-C)*CV*1000;//The rate of heat removal from the above bed zone in kW\n",
"\n",
"//Output\n",
"printf('(a) The rate of heat removal from the bed = %3.0f kW \n (b) The rate of heat removal from the above bed zone = %3.0f kW ',Hr,Hb)"
   ]
   }
,
{
		   "cell_type": "markdown",
		   "metadata": {},
		   "source": [
			"## Example 5.6: Platform_area.sce"
		   ]
		  },
  {
"cell_type": "code",
	   "execution_count": null,
	   "metadata": {
	    "collapsed": true
	   },
	   "outputs": [],
"source": [
"clc\n",
"clear\n",
"//Input data\n",
"tb=850;//The bed temperature in degree centigrade\n",
"CV=25;//The calorific value of the fuel in MJ/kg\n",
"A=9.5;//The stoichiometric air fuel ratio by mass\n",
"E=20;//The amount of excess air used in %\n",
"F=4.8;//The total fueling rate in MW\n",
"p=0.3145;//The density of air at bed temperature in kg/m^3\n",
"f=2;//The firing rate in MW/m^2\n",
"v=2.7;//The fluidizing velocity in m/s\n",
"\n",
"//Calculations\n",
"P=F/f;//Planform area in m^2\n",
"m=(F*1000)/(CV*1000);//Fuel burning rate in kg/s\n",
"ma=A*(1+(E/100))*m;//Mass flow rate of air in kg/s\n",
"Pa=ma/(p*v);//Planform area in m^2\n",
"\n",
"//Output\n",
"printf('(a) The planform area = %3.1f m^2 \n (b) Fuel burning rate = %3.3f kg/s \n    Air flow rate = %3.4f kg/s \n    Planform area = %3.2f m^2 ',P,m,ma,Pa)\n",
""
   ]
   }
],
"metadata": {
		  "kernelspec": {
		   "display_name": "Scilab",
		   "language": "scilab",
		   "name": "scilab"
		  },
		  "language_info": {
		   "file_extension": ".sce",
		   "help_links": [
			{
			 "text": "MetaKernel Magics",
			 "url": "https://github.com/calysto/metakernel/blob/master/metakernel/magics/README.md"
			}
		   ],
		   "mimetype": "text/x-octave",
		   "name": "scilab",
		   "version": "0.7.1"
		  }
		 },
		 "nbformat": 4,
		 "nbformat_minor": 0
}
