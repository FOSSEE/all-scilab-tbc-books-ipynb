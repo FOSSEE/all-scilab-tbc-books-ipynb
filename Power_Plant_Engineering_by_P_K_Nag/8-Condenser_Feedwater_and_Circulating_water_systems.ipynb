{
"cells": [
 {
		   "cell_type": "markdown",
	   "metadata": {},
	   "source": [
       "# Chapter 8: Condenser Feedwater and Circulating water systems"
	   ]
	},
{
		   "cell_type": "markdown",
		   "metadata": {},
		   "source": [
			"## Example 8.1: Rate_of_flow.sce"
		   ]
		  },
  {
"cell_type": "code",
	   "execution_count": null,
	   "metadata": {
	    "collapsed": true
	   },
	   "outputs": [],
"source": [
"clc\n",
"clear\n",
"//Input data\n",
"ws=250;//The amount of steam received by the surface condenser in t/h\n",
"tsat=40;//The saturated temperature in degree centigrade\n",
"m=12;//The amount of moisture present in the steam in percentage\n",
"tc1=32;//The inlet temperature of cooling water in degree centigrade\n",
"tc2=38;//The outlet temperature of cooling water in degree centigrade\n",
"p=0.078;//The pressure inside the condenser in bar\n",
"V=1.8;//velocity of circulating water in m/s\n",
"do=0.0254;//The outer diameter of the condenser tubes in m\n",
"T=0.00125;//The thickness of the condenser tubes in m\n",
"pi=3.141;//Mathematical constant of pi\n",
"U=2.6;//The overall heat transfer coefficient in kW/m^2K\n",
"Cpc=4.187;//The specific heat of water in kJ/kgK\n",
"R=0.287;//Real gas constant in kJ/kgK\n",
"P=1000;//The density of water in kg/m^3\n",
"\n",
"//Calculations\n",
"x2=0.88;//The quality of the steam\n",
"hfg=2407;//The enthalpy of evaporation at 40 degreeC in kJ/kg\n",
"h=x2*hfg;//The change in enthalpy in kJ/kg\n",
"di=do-(2*T);//The inner diameter of the condenser tubes in m\n",
"wc=[[(ws*1000)/3600]*h]/(Cpc*(tc2-tc1));//Mass flow rate of water in kg/s\n",
"psat=0.07375;//The saturated pressure at 40 degree centigrade in bar\n",
"pair=(p-psat)*100;//The pressure of air in kPa\n",
"vf=0.001008;//Specific volume of saturated liquid in m^3/kg\n",
"vfg=19.544;//Specific volume of vapour in m^3/kg\n",
"v2=vf+(x2*vfg);//Specific volume at 40 degree centigrade in m^3/kg\n",
"wair=[pair*[(ws*1000)/3600]*v2]/(R*(tsat+273));//Mass flow rate of air in kg/s\n",
"t1m=(8-2)/log(8/2);//The mean temperature in degree centigrade\n",
"Ao=[[(ws*1000)/3600]*h]/(U*t1m);//The area of the tubes in m^2\n",
"n=(wc*(4/pi)*(1/di^2)*(1/(P*V)));//The number of tubes\n",
"l=Ao/(pi*do*n);//Yhe  length of tubes in m\n",
"\n",
"//Output\n",
"printf('(a) The rate of flow of cooling water = %3.1f kg/s \n (b) The rate of air leakage into the condenser shell = %3.3f kg/s \n (c) The length of tubes = %3.2f m \n (d) The number of tubes = %3.0f ',wc,wair,l,n)\n",
"\n",
"\n",
"\n",
"\n",
""
   ]
   }
,
{
		   "cell_type": "markdown",
		   "metadata": {},
		   "source": [
			"## Example 8.2: Rate_of_flow.sce"
		   ]
		  },
  {
"cell_type": "code",
	   "execution_count": null,
	   "metadata": {
	    "collapsed": true
	   },
	   "outputs": [],
"source": [
"clc\n",
"clear\n",
"//Input data\n",
"ws=20;//The amount of dry saturated steam received by a surface condencer in t/h\n",
"tsh=40;//The temperature of dry saturated steam in degree centigrade \n",
"wa=(0.35/1000);//The mass flow rate of air per 1000 kg of steam in kg\n",
"tc=38;//The temperature at which condensate leaves the temperature in degree centigrade\n",
"tm=10;//The temperature at which makeup water is supplied in degree centigrade\n",
"tc1=32;//The inlet temperature of cooling water in degree centigrade\n",
"tc2=38;//The outlet temperature of cooling water in degree centigrade\n",
"tas=27;//The temperature of air along with steam in degree centigrade\n",
"psat=0.07384;//The saturated pressure at 40 degree C in bar\n",
"vg=19.52;//The specific volume at 40 degree C in m^3/kg\n",
"R=0.287;//Real gas constant in kJ/kgK\n",
"Cpc=4.187;//The specific heat of water in kJ/kgK\n",
"Cp=1.005;//The specific heat of air in kJ/kgK\n",
"\n",
"//Calculations\n",
"pair=[(wa*R*(tsh+273)*1000)/vg]*10^-5;//The pressure of air in bar\n",
"psat1=0.06624;//The saturated pressure at 38 degree C in bar\n",
"vg1=21.63;//The specific volume at 38 degree C in m^3/kg\n",
"pair1=psat-psat1;//The pressure of air in bar\n",
"wa1=(ws*1000)*wa;//Mass of air removed per hour in kg/h\n",
"V1=((wa1*R*(273+tc2)*1000))/(pair1*10^5);//Volume of air remove per hour\n",
"ws1=V1/vg1;//The mass of steam accompanying air in kg/h\n",
"psat2=0.03564;//The saturated pressure at 27 degree C in bar\n",
"vg2=38.81;//The specific volume at 27 degree C in m^3/kg\n",
"pair2=psat-psat2;//The pressure of air in bar\n",
"V2=(wa1*R*1000*(tas+273))/(pair2*10^5);//Volume of air removed per hr in m^3/hr\n",
"ws2=V2/vg2;//The mass of steam accompanying air in kg/h\n",
"ws3=ws1-ws2;//Saving mass of steam by using seperate extraction in kg/hr\n",
"Q3=[ws3*Cpc*(tc-tm)]/3600;//Saving in heat supply in the boiler in kW\n",
"V=[(V1-V2)/V1]*100;//Percentage reduction in air ejector load in %\n",
"hc=159.3;//Enthalpy at 38 degree C in kJ/kg\n",
"hs1=2574.3;//Enthalpy at 40 degree C in kJ/kg\n",
"hs2=2550.3;//Enthalpy at 27 degree C in kJ/kg\n",
"Q2=[[(ws*1000)*(hs1-hc)]-[(wa1*(Cp*(tsh-tas)))]-(ws3*hs2)]/3600;//The amount of heat in kW\n",
"wc=Q2/(Cpc*(tc2-tc1));//The mass flow rate of water in kg/s\n",
"\n",
"//Output\n",
"printf('(a) The rate of saving of condensate and the rate of saving in the heat supply in the boiler due to seperate air extraction pump = %3.3f kW \n (b) The percentage reduction in air ejector load due to this seperate air extraction method = %3.1f percent \n (c) The rate of cooling water flow = %3.0f kg/s ',Q3,V,wc)"
   ]
   }
,
{
		   "cell_type": "markdown",
		   "metadata": {},
		   "source": [
			"## Example 8.3: Temperature_of_water.sce"
		   ]
		  },
  {
"cell_type": "code",
	   "execution_count": null,
	   "metadata": {
	    "collapsed": true
	   },
	   "outputs": [],
"source": [
"clc \n",
"clear\n",
"//Input data\n",
"tw3=30;//The inlet temperature of water in degree centigrade\n",
"wc=1.15;//Mass flow rate of cooling water in kg per kg air\n",
"tdb1=20;//The dry bulb temperature of air in degree centigrade\n",
"R1=60;//Relative humidity of air while entering in percentage\n",
"tdb2=28;//The dry bulb temperature while leaving in degree centigrade\n",
"R2=90;//Relative humidity of air while leaving in percentage\n",
"tm=20;//The temperature of makeup water in degree centigrade\n",
"Cpc=4.187;//The specific heat of water in kJ/kgK\n",
"G=1;//Mass flow rate of dry air in kg/s\n",
"\n",
"//Calculations\n",
"twb1=15.2;// from psychrometric chart The wet bulb temperature while entering in degree centigrade\n",
"twb2=26.7;// from psychrometric chart The wet bulb temperature while leaving in degree centigrade\n",
"h1=43;//The enthalpy from chart for dry air in kJ/kg dry air\n",
"h2=83.5;//The enthalpy from chart in kJ/kg dry air\n",
"W1=0.0088;//Humidity in kg water vapour/kg dry air\n",
"W2=0.0213;//Humidity in kg water vapour/kg dry air\n",
"hw3=125.8;//Enthalpy of water entering the tower in kJ/kg\n",
"hw=84;//Enthalpy of makeup water in kJ/kg\n",
"hwc=[(G/wc)*[(h2-h1)-(W2-W1)*hw]];//The change in enthalpy of water in kJ/kg\n",
"tw4=tw3-(hwc/Cpc);//The exit temperature of water in degree centigrade\n",
"ta=tw4-twb1;//The approach temperature in degree centigrade\n",
"tr=tw3-tw4;//The range temperature in degree centigrade\n",
"x=G*(W2-W1);//Fraction of water evaporated in kg/kg dry air\n",
"\n",
"//Output\n",
"printf(' (a) The temperature of water leaving the tower = %3.1f degree centigrade \n (b) The fraction of water evaporated = %3.4f kg/kg dry air \n (c) The approach of the cooling tower = %3.1f degree centigrade \n   The Range of the cooling tower = %3.1f degree centigrade ',tw4,x,ta,tr)\n",
""
   ]
   }
,
{
		   "cell_type": "markdown",
		   "metadata": {},
		   "source": [
			"## Example 8.4: Temperature_of_water.sce"
		   ]
		  },
  {
"cell_type": "code",
	   "execution_count": null,
	   "metadata": {
	    "collapsed": true
	   },
	   "outputs": [],
"source": [
"clc\n",
"clear\n",
"//Input data\n",
"tw3=45;//The temperature of warm water in degree centigrade\n",
"wc1=6;//The cooling water inflow in kg/s\n",
"V=10;//volume flow of ID fan in m^3/s\n",
"Ws=4.90;//Heat absorbed by air in kW\n",
"ti=20;//The temperature of air entering the tower in degree centigrade\n",
"R=60;//The relative humidity in percentage\n",
"to=26;//The temperature of air leaving the tower in degree centigrade\n",
"p=1.013;//The constant pressure throughout the tower in bar\n",
"r=0.287;//Real gas constant in kJ/kgK\n",
"Cpc=4.187;//The specific heat of water in kJ/kgK\n",
"Cp=1.005;//The specific heat of air in kJ/kgK\n",
"\n",
"//Calculations\n",
"ps=0.0234;//The pressure at 20 degreec in bar\n",
"ps1=(R/100)*ps;//The pressure of water vapour in bar\n",
"pa1=p-ps1;//The pressure of air in bar\n",
"G1=(pa1)/(r*10^-3*(ti+273));//The mass flow rate of dry air in kg/s\n",
"w1=(ps1*10^5*V)/(0.4619*10^3*(ti+273));//Mass flow rate of vopour in kg/s\n",
"W1=w1/G1;//Moisture flow in kg vap/kg dry air\n",
"ps2=0.0336;//The pressure at 26 degree C at exit in bar\n",
"pw2=0.0336;//The pressure of water vapour at 26 degree C at exit in bar\n",
"W2=(0.622)*(pw2/(1-pw2));//oisture flow in kg vap/kg dry air\n",
"G2=G1;//The mass flow rate of dry air in kg/s\n",
"w2=W2*G2;//Moisture flow at exit in kg/s\n",
"wm=w2-w1;//Makeup water required in kg/s\n",
"wc2=wc1-wm;//The cooling water outflow in kg/s\n",
"hw3=Cpc*tw3;//The enthalpy of warm water in kJ/kg\n",
"hg=2538.1;//The enthalpy of gas at 20 degree C in kJ/kg\n",
"tsat=12;//The saturation temperature in degree centigrade\n",
"pw1=0.01404;//The pressure at 12 degree C in bar\n",
"hw1=hg+(1.88*(ti-tsat));//The enthalpy of warm water in kJ/kg\n",
"hw2=2548.4;//The enthalpy of evaporation at 26 degree C in kJ/kg\n",
"hw4=[[G1*[(Cp*(to-ti))+W2*hw2-W1*hw1]-Ws]-(wc1*hw3)]/-wc2;//The enthapy of warm water at point 4 in kJ/kg\n",
"E=hw4/Cpc;//Exit water temperature in degree centigrade\n",
"\n",
"//Output\n",
"printf('(a) The final temperature of the water = %3.2f degree centigrade \n (b)The amount of makeup water required per second = %3.4f kg/s ',E,wm)\n",
""
   ]
   }
],
"metadata": {
		  "kernelspec": {
		   "display_name": "Scilab",
		   "language": "scilab",
		   "name": "scilab"
		  },
		  "language_info": {
		   "file_extension": ".sce",
		   "help_links": [
			{
			 "text": "MetaKernel Magics",
			 "url": "https://github.com/calysto/metakernel/blob/master/metakernel/magics/README.md"
			}
		   ],
		   "mimetype": "text/x-octave",
		   "name": "scilab",
		   "version": "0.7.1"
		  }
		 },
		 "nbformat": 4,
		 "nbformat_minor": 0
}
