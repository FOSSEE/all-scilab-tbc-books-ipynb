{
"cells": [
 {
		   "cell_type": "markdown",
	   "metadata": {},
	   "source": [
       "# Chapter 5: DC Motor Drives"
	   ]
	},
{
		   "cell_type": "markdown",
		   "metadata": {},
		   "source": [
			"## Example 5.10: Speed_at_Full_load_and_Torque.sce"
		   ]
		  },
  {
"cell_type": "code",
	   "execution_count": null,
	   "metadata": {
	    "collapsed": true
	   },
	   "outputs": [],
"source": [
"//Example No. 5.10\n",
"clc;\n",
"clear;\n",
"close;\n",
"format('v',7);\n",
"\n",
"//Given Data : \n",
"V=240;//V\n",
"Ra=0.4;//ohm\n",
"N1=600;//rpm\n",
"Ifl=25;//A\n",
"Radd=1;//ohm\n",
"//If1=If2\n",
"//T1=T2 leads to If1*Ia1=If2*Ia2: Ia1=Ia2\n",
"Ia1=25;//A\n",
"Ia2=25;//A\n",
"Eb1=V-Ia1*Ra;//V\n",
"Eb2=V-Ia2*(Ra+Radd);//V\n",
"N2=N1*Eb2/Eb1;//rpm\n",
"disp(N2,'Speed at full load torque in rpm : ');\n",
"//T3=2*T1\n",
"//If3=If1\n",
"Ia3=2*Ia1;//A\n",
"Eb3=V-Ia3*(Ra+Radd);//V\n",
"N3=N1*Eb3/Eb1;//rpm\n",
"disp(N3,'Speed at twice the full load torque in rpm : ');\n",
"Eb4=0;//V(at speed zero Eb=0)\n",
"Ia4=V/(Ra+Radd);//V\n",
"T4ByT1=Ia4/Ia1;//(field constant)\n",
"disp('Stalling torque is '+string(T4ByT1)+' times of full load torque.');"
   ]
   }
,
{
		   "cell_type": "markdown",
		   "metadata": {},
		   "source": [
			"## Example 5.11: New_Value_of_Field_Current.sce"
		   ]
		  },
  {
"cell_type": "code",
	   "execution_count": null,
	   "metadata": {
	    "collapsed": true
	   },
	   "outputs": [],
"source": [
"//Example No. 5.11\n",
"clc;\n",
"clear;\n",
"close;\n",
"format('v',5);\n",
"\n",
"//Given Data : \n",
"V=250;//V\n",
"Ra=1;//ohm\n",
"Ia1=25;//A\n",
"N1=900;//rpm\n",
"If=2;//A\n",
"N2=1100;//rpm\n",
"Eb1=V-Ia1*Ra;//V\n",
"//If1*Ia1=If2*Ia2\n",
"//Eb2=V-Ia2*Ra;//V\n",
"//-Ia2^2*Ra+Ia2*V-Eb1*Ia1*N2/N1=0;\n",
"polynomial=[-Ra V -Eb1*Ia1*N2/N1];\n",
"Ia2=roots(polynomial);//A\n",
"Ia2=Ia2(2);//A(wide range not allowed)\n",
"If2=Ia1/Ia2*If;//A\n",
"disp(If2,'New value of field current in A : ');"
   ]
   }
,
{
		   "cell_type": "markdown",
		   "metadata": {},
		   "source": [
			"## Example 5.12: Field_Current_Firing_Angle.sce"
		   ]
		  },
  {
"cell_type": "code",
	   "execution_count": null,
	   "metadata": {
	    "collapsed": true
	   },
	   "outputs": [],
"source": [
"//Example No. 5.12\n",
"clc;\n",
"clear;\n",
"close;\n",
"format('v',6);\n",
"\n",
"//Given Data : \n",
"V=230;//V\n",
"f=50;//Hz\n",
"Rf=200;//ohm\n",
"Ra=0.3;//ohm\n",
"T=50;//N-m\n",
"N=900;//rpm\n",
"Kv=0.8;//V/A-rad/s\n",
"Kt=0.8;//N-m/A^2\n",
"Vm=V*sqrt(2);//V\n",
"Vf=2*Vm/%pi;//V\n",
"If=Vf/Rf;//A\n",
"disp(If,'Field current in A :');\n",
"//T=Kt*If*Ia\n",
"Ia=T/Kt/If;//A\n",
"omega=N*2*%pi/60;//rad/s\n",
"Eb=Kv*omega*If;//V\n",
"Va=Eb+Ia*Ra;//V\n",
"//Va=Vm/%pi*(1+cosd(alfa_a))\n",
"alfa_a=acosd(Va/Vm*%pi-1);//degree\n",
"disp(alfa_a,'Fringe angle of converter in degree : ');\n",
"Pout=Ia*Va;//W\n",
"Iin=sqrt(2/2/180*Ia^2*integrate('1','omega',alfa_a,180));\n",
"VAin=V*Iin;//VA\n",
"pf_in=Pout/VAin;//lagging\n",
"disp(pf_in,'Power factor of convertyer(lagging) : ')"
   ]
   }
,
{
		   "cell_type": "markdown",
		   "metadata": {},
		   "source": [
			"## Example 5.13: Torque_Developed_and_Motor_Speed.sce"
		   ]
		  },
  {
"cell_type": "code",
	   "execution_count": null,
	   "metadata": {
	    "collapsed": true
	   },
	   "outputs": [],
"source": [
"//Example No. 5.13\n",
"clc;\n",
"clear;\n",
"close;\n",
"format('v',7);\n",
"\n",
"//Given Data : \n",
"V=230;//V\n",
"f=50;//Hz\n",
"Rf=200;//ohm\n",
"Ra=0.25//ohm\n",
"Kv=1.1;//V/A-rad/s\n",
"Kt=1.1;//N-m/A^2\n",
"alfa_a=45;//degree\n",
"Ia=50;//A\n",
"alfa_f=0;\n",
"Vf=2*V*sqrt(2)/%pi*cosd(alfa_f);//V\n",
"Va=2*V*sqrt(2)/%pi*cosd(alfa_a);//V\n",
"If=Vf/Rf;//A\n",
"T=Kt*Ia*If;//N-m\n",
"disp(T,'Torque developed in N-m : ');\n",
"Eb=Va-Ia*Ra-2;//V\n",
"omega=Eb/Kv/If;//rad/s\n",
"N=omega*60/2/%pi;//rpm\n",
"disp(N,'Motor speed in rpm : ');"
   ]
   }
,
{
		   "cell_type": "markdown",
		   "metadata": {},
		   "source": [
			"## Example 5.14: Firing_Angle_of_Converter.sce"
		   ]
		  },
  {
"cell_type": "code",
	   "execution_count": null,
	   "metadata": {
	    "collapsed": true
	   },
	   "outputs": [],
"source": [
"//Example No. 5.14\n",
"clc;\n",
"clear;\n",
"close;\n",
"format('v',7);\n",
"\n",
"//Given Data : \n",
"V=400;//V\n",
"Ra=0.3//ohm\n",
"Rf=250;//ohm\n",
"Ia=50;//A\n",
"Kv=1.3;//V/A-rad/s\n",
"N=1200;//rpm\n",
"alfa_f=0;\n",
"Vf=3*sqrt(3)*V*sqrt(2)/sqrt(3)/%pi*cosd(alfa_f);//V\n",
"If=Vf/Rf;//A\n",
"Eb=Kv*If*2*%pi*N/60;//V\n",
"Va=Eb+Ia*Ra;//V\n",
"alfa_a=acosd(Va/3/sqrt(3)/V/sqrt(2)*sqrt(3)*%pi);//degree\n",
"disp(alfa_a,'Fringe angle of converter in degree : ');"
   ]
   }
,
{
		   "cell_type": "markdown",
		   "metadata": {},
		   "source": [
			"## Example 5.15: Input_Power_Speed_and_Torque.sce"
		   ]
		  },
  {
"cell_type": "code",
	   "execution_count": null,
	   "metadata": {
	    "collapsed": true
	   },
	   "outputs": [],
"source": [
"//Example No. 5.15\n",
"clc;\n",
"clear;\n",
"close;\n",
"format('v',7);\n",
"\n",
"//Given Data : \n",
"V=500;//V\n",
"Ia=200;//A\n",
"Ra=0.1//ohm\n",
"Kv=1.4;//V/A-rad/s\n",
"Kt=1.4;//N-m/A^2\n",
"If=2;//A\n",
"cycle=0.5;//sec\n",
"Pin=cycle*V*Ia/1000;//KW\n",
"disp(Pin,'Input power in KW : ');\n",
"Va=cycle*V;//V\n",
"Eb=Va-Ia*Ra;//V\n",
"omega=Eb/Kv/2;//rad/s\n",
"N=omega*60/2/%pi;//rpm\n",
"disp(N,'Speed in rpm : ');\n",
"T=Kt*2*Ia;//N-m\n",
"disp(T,'Torque in N-m : ');"
   ]
   }
,
{
		   "cell_type": "markdown",
		   "metadata": {},
		   "source": [
			"## Example 5.16: Average_Voltage_Power_and_Speed.sce"
		   ]
		  },
  {
"cell_type": "code",
	   "execution_count": null,
	   "metadata": {
	    "collapsed": true
	   },
	   "outputs": [],
"source": [
"//Example No. 5.16\n",
"clc;\n",
"clear;\n",
"close;\n",
"format('v',7);\n",
"\n",
"//Given Data : \n",
"Ra=0.1//ohm\n",
"Rb=7.5//ohm\n",
"Kv=1.4;//V/A-rad/s\n",
"Ia=120;//A\n",
"If=1.6;//A\n",
"cycle=0.35;//sec\n",
"\n",
"Vavg=Rb*Ia*(1-cycle);//V\n",
"disp(Vavg,'Average voltage across chopper in volt : ');\n",
"Pb=Ia^2*Rb*(1-cycle)^2;//W\n",
"disp(Pb,'Power dissipated in watts : ');\n",
"emf=Vavg+Ra*Ia;//V\n",
"omega=emf/Kv/If;//rad/s\n",
"N=omega*60/2/%pi;//rpm\n",
"disp(N,'Speed in rpm : ');\n",
"//Answer of Pb & speed is wrong in the book."
   ]
   }
,
{
		   "cell_type": "markdown",
		   "metadata": {},
		   "source": [
			"## Example 5.17: Speed_Torque_Characteristics.sce"
		   ]
		  },
  {
"cell_type": "code",
	   "execution_count": null,
	   "metadata": {
	    "collapsed": true
	   },
	   "outputs": [],
"source": [
"//Example No. 5.17\n",
"clc;\n",
"clear;\n",
"close;\n",
"format('v',7);\n",
"\n",
"//Given Data : \n",
"V=220;//V\n",
"f=50;//Hz\n",
"L=0.012;//H\n",
"Ra=0.72;//ohm\n",
"K=2;//V/rad/s\n",
"T=60;//N-m\n",
"alfa=90;//degree\n",
"Va=3*sqrt(3)*V*sqrt(2)/2/%pi*(1+cosd(alfa));//V\n",
"Ia=5;//A\n",
"disp(Ia,'Armature Current in A : ');\n",
"T1=Ia*K;//N-m\n",
"disp(T1,'Torque in N-m : ');\n",
"Eb=Va-Ia*Ra;//V\n",
"omega=Eb/K;//rad/s\n",
"N1=omega*60/2/%pi;//rpm\n",
"disp(N1,'Speed in rpm : ');\n",
"disp('');\n",
"Ia=10;//A\n",
"disp(Ia,'Armature Current in A : ');\n",
"T2=Ia*K;//N-m\n",
"disp(T2,'Torque in N-m : ');\n",
"Eb=Va-Ia*Ra;//V\n",
"omega=Eb/K;//rad/s\n",
"N2=omega*60/2/%pi;//rpm\n",
"disp(N2,'Speed in rpm : ');\n",
"Ia=20;//A\n",
"disp(Ia,'Armature Current in A : ');\n",
"T3=Ia*K;//N-m\n",
"disp(T3,'Torque in N-m : ');\n",
"Eb=Va-Ia*Ra;//V\n",
"omega=Eb/K;//rad/s\n",
"N3=omega*60/2/%pi;//rpm\n",
"disp(N3,'Speed in rpm : ');\n",
"Ia=30;//A\n",
"disp(Ia,'Armature Current in A : ');\n",
"T4=Ia*K;//N-m\n",
"disp(T4,'Torque in N-m : ');\n",
"Eb=Va-Ia*Ra;//V\n",
"omega=Eb/K;//rad/s\n",
"N4=omega*60/2/%pi;//rpm\n",
"disp(N4,'Speed in rpm : ');\n",
"plot([T1 T2 T3 T4],[N1 N2 N3 N4]);\n",
"title('Speed Torque Characteristics');\n",
"xlabel('Torque(N-m)');\n",
"ylabel('speed(RPM)');"
   ]
   }
,
{
		   "cell_type": "markdown",
		   "metadata": {},
		   "source": [
			"## Example 5.18: No_Load_Speed_and_Firing_Angle.sce"
		   ]
		  },
  {
"cell_type": "code",
	   "execution_count": null,
	   "metadata": {
	    "collapsed": true
	   },
	   "outputs": [],
"source": [
"//Example No. 5.18\n",
"clc;\n",
"clear;\n",
"close;\n",
"format('v',6);\n",
"\n",
"//Given Data : \n",
"V=400;//V\n",
"f=50;//Hz\n",
"I=50;//A\n",
"Ra=0.1;//ohm\n",
"K=0.3;//V/rpm\n",
"Ia=5;//A\n",
"alfa=30;//degree\n",
"Vavg=3*sqrt(3)*V*sqrt(2)/sqrt(3)/2/%pi*(1+cosd(alfa));//V\n",
"Eb=Vavg-Ia*Ra;//V\n",
"N=Eb/K;//rpm\n",
"disp(N,'No load speed in rpm : ');\n",
"Speed=1600;//rpm\n",
"Eb=Speed*K;//V\n",
"Vin=Eb+I*Ra;//V\n",
"alfa=acosd(Vin/3/sqrt(3)/V/sqrt(2)*sqrt(3)*2*%pi-1);//degree\n",
"disp(alfa,'Fringe angle in degree : ');"
   ]
   }
,
{
		   "cell_type": "markdown",
		   "metadata": {},
		   "source": [
			"## Example 5.19: Power_fed_back.sce"
		   ]
		  },
  {
"cell_type": "code",
	   "execution_count": null,
	   "metadata": {
	    "collapsed": true
	   },
	   "outputs": [],
"source": [
"//Example No. 5.19\n",
"clc;\n",
"clear;\n",
"close;\n",
"format('v',7);\n",
"\n",
"//Given Data : \n",
"V=230;//V\n",
"f=50;//Hz\n",
"Rf=200;//ohm\n",
"Ra=0.25//ohm\n",
"Kv=1.1;//V/A-rad/s\n",
"Kt=1.1;//N-m/A^2\n",
"alfa_a=45;//degree\n",
"Ia=50;//A\n",
"alfa_f=0;\n",
"Vf=2*V*sqrt(2)/%pi*cosd(alfa_f);//V\n",
"Va=2*V*sqrt(2)/%pi*cosd(alfa_a);//V\n",
"If=Vf/Rf;//A\n",
"T=Kt*Ia*If;//N-m\n",
"Eb=Va-Ia*Ra-2;//V\n",
"omega=Eb/Kv/If;//rad/s\n",
"Eg=-Eb;//V\n",
"Va=Eg+Ia*Ra+2;//V\n",
"alfa=acosd(Va/2/V/sqrt(2)*%pi);//degree\n",
"disp(alfa,'Fringe angle to converter in degree : ');\n",
"P=abs(Va)*Ia;//W(power fed back to source)\n",
"disp(P,'Power fed back to source in Watts : ');\n",
"//Answer wrong in the book."
   ]
   }
,
{
		   "cell_type": "markdown",
		   "metadata": {},
		   "source": [
			"## Example 5.1: armature_resistance_and_torque.sce"
		   ]
		  },
  {
"cell_type": "code",
	   "execution_count": null,
	   "metadata": {
	    "collapsed": true
	   },
	   "outputs": [],
"source": [
"//Example No. 5.1\n",
"clc;\n",
"clear;\n",
"close;\n",
"format('v',7);\n",
"\n",
"//Given Data : \n",
"T=10;//turns\n",
"Coil=144;//no. of coils\n",
"R=0.011;//ohm\n",
"fi=0.05;//Wb(flux per pole)\n",
"N=200;//rpm\n",
"par_paths=2;//for wave winding\n",
"T_path=Coil*T/par_paths;//no. of turns in each parallel path\n",
"R_path=R*T_path;//ohm\n",
"Ra=R_path/par_paths;//ohm(armature resistance)\n",
"disp(Ra,'Armature resistance in ohm : ');\n",
"p=12;//poles\n",
"emf=par_paths*Coil*T*p*fi*N/60/2;//V\n",
"R1=1000;//ohm\n",
"IL=emf/R1;//A\n",
"Ia=IL;//A\n",
"T=par_paths*Coil*T*p*fi*Ia/2/%pi/par_paths;//N-m\n",
"disp(T,'Torque in N-m : ');"
   ]
   }
,
{
		   "cell_type": "markdown",
		   "metadata": {},
		   "source": [
			"## Example 5.20: Find_back_emf.sce"
		   ]
		  },
  {
"cell_type": "code",
	   "execution_count": null,
	   "metadata": {
	    "collapsed": true
	   },
	   "outputs": [],
"source": [
"//Example No. 5.20\n",
"clc;\n",
"clear;\n",
"close;\n",
"format('v',7);\n",
"\n",
"//Given Data : \n",
"V=240;//V\n",
"alfa=100;//degree\n",
"Ra=6//ohm\n",
"Ia=1.8;//A\n",
"Vm=V*sqrt(2);//V\n",
"Vdc=Vm/%pi*(1+cosd(alfa));//Volt\n",
"Eb=Vdc-Ia*Ra;//V\n",
"disp(Eb,'Back emf in volt : ');"
   ]
   }
,
{
		   "cell_type": "markdown",
		   "metadata": {},
		   "source": [
			"## Example 5.21: Compute_Speed_and_Torque.sce"
		   ]
		  },
  {
"cell_type": "code",
	   "execution_count": null,
	   "metadata": {
	    "collapsed": true
	   },
	   "outputs": [],
"source": [
"0//Example No. 5.21\n",
"clc;\n",
"clear;\n",
"close;\n",
"format('v',5);\n",
"\n",
"//Given Data : \n",
"V1=230;//V\n",
"N1=1500;//rpm\n",
"Ra=1;//ohm\n",
"Ia=10;//A\n",
"T=5;//N-m\n",
"//V=K*omega+Ia*Ra\n",
"K=V1/(N1*2*%pi/60+Ia*Ra);//V-s/rad or N-m/A\n",
"Ia=T/K;//A\n",
"alfa1=30;//degree\n",
"V=2*V1*sqrt(2)/%pi*cosd(alfa1);//Volt\n",
"omega=(V-Ia*Ra)/K;//rad/s\n",
"N=omega*60/2/%pi;//rpm\n",
"disp(N,'Parrt(a) Speed in rpm : ');\n",
"alfa=45;//degree\n",
"N=950;//rpm\n",
"V=2*V1*sqrt(2)/%pi*cosd(alfa);//Volt\n",
"Ia=(V-K*2*%pi/60*N)/Ra;//A\n",
"T=K*Ia;//N-m\n",
"disp(T,'Part(b) Torque in N-m : ');\n",
"//Answer is wrong in the book."
   ]
   }
,
{
		   "cell_type": "markdown",
		   "metadata": {},
		   "source": [
			"## Example 5.22: RMS_current_and_Power_factor.sce"
		   ]
		  },
  {
"cell_type": "code",
	   "execution_count": null,
	   "metadata": {
	    "collapsed": true
	   },
	   "outputs": [],
"source": [
"//Example No. 5.22\n",
"clc;\n",
"clear;\n",
"close;\n",
"format('v',6);\n",
"\n",
"//Given Data : \n",
"V1=500;//V\n",
"N1=1500;//rpm\n",
"Ia=100;//A\n",
"V2=350;//V\n",
"Ra=1.1;//ohm\n",
"alfa=45;//degree\n",
"N2=1200;//rpm\n",
"//V=K*omega+Ia*Ra\n",
"K=(V1-Ia*Ra)/(N1*2*%pi/60);//V-s/rad or N-m/A\n",
"V=3*sqrt(3)*V2*sqrt(2)/2/%pi/sqrt(3)*(1+cosd(alfa));//Volt\n",
"Ia=(V-K*N2*2*%pi/60)/Ra;//A\n",
"disp(Ia,'RMS soirce current in A : ');\n",
"Vin_rms=Ia*sqrt(120/180);//V\n",
"Iavg=Ia/3;//A\n",
"disp(Iavg,'Average thyristor current in A : ');\n",
"Irms=Ia/sqrt(3);//A\n",
"disp(Irms,'RMS thyristor current in A : ');\n",
"pf_in=V*Ia/sqrt(3)/V2/Vin_rms;//lagging\n",
"disp(pf_in,'Input power factor)lagging : ');"
   ]
   }
,
{
		   "cell_type": "markdown",
		   "metadata": {},
		   "source": [
			"## Example 5.23: Time_taken_by_the_motor.sce"
		   ]
		  },
  {
"cell_type": "code",
	   "execution_count": null,
	   "metadata": {
	    "collapsed": true
	   },
	   "outputs": [],
"source": [
"//Example No. 5.23\n",
"clc;\n",
"clear;\n",
"close;\n",
"format('v',9);\n",
"\n",
"//Given Data : \n",
"T1=40;//N-m\n",
"N1=500;//rpm\n",
"J=0.01;//N-m_sec^2/rad\n",
"T2=100;//N-m\n",
"N2=1000;//rpm\n",
"disp('Te=J*d(omega)/dt+D*omega+TL');\n",
"d_omegaBYdt=(T2-T1)/J;//\n",
"//t=omega/d_omegaBYdt+A;\n",
"omega1=N1*2*%pi/60;//rad/s\n",
"t=0;//s(initial time)\n",
"A=t-omega1/d_omegaBYdt;//\n",
"omega2=N2*2*%pi/60;//rad/s\n",
"t=omega2/d_omegaBYdt+A;//s\n",
"disp(t,'Time taken by the motor in sec :  ');"
   ]
   }
,
{
		   "cell_type": "markdown",
		   "metadata": {},
		   "source": [
			"## Example 5.24: Max_and_Min_Armature_Current_and_Excursion.sce"
		   ]
		  },
  {
"cell_type": "code",
	   "execution_count": null,
	   "metadata": {
	    "collapsed": true
	   },
	   "outputs": [],
"source": [
"//Example No. 5.24\n",
"clc;\n",
"clear;\n",
"close;\n",
"format('v',9);\n",
"\n",
"//Given Data : \n",
"f=400;//Hz\n",
"V=200;//V\n",
"T=30;//N-m\n",
"N=1000;//rpm\n",
"R=0.2;//ohm\n",
"L=2;//mH\n",
"Kv=1.5;//V-sec/rad\n",
"Kt=1.5;//N-m/A\n",
"Ia=T/Kt;//A\n",
"omega=N*2*%pi/60;//rad/s\n",
"Eb=Kv*omega;//V\n",
"alfa=(Eb+Ia*R)/V;\n",
"T=1/f*1000;//ms\n",
"Ton=alfa*T;//ms\n",
"Toff=T-Ton;//ms\n",
"Imax=V/R*[(1-exp(-alfa*T*10^-3*R/(L*10^-3)))/(1-exp(-T*10^-3*R/(L*10^-3)))]-Eb/R;//A\n",
"disp(Imax,'(a) Maximum motor armature current in A : ');\n",
"Imin=V/R*[(exp(alfa*T*R/L)-1)/(exp(T*R/L)-1)]-Eb/R;//A\n",
"disp(round(Imin),'(a) Minimum motor armature current in A : ');\n",
"Iexc=Imax;//A\n",
"disp(Iexc,'(b) Excursion of  armature current in A : ');"
   ]
   }
,
{
		   "cell_type": "markdown",
		   "metadata": {},
		   "source": [
			"## Example 5.25: Avg_Motor_Current_and_Speed.sce"
		   ]
		  },
  {
"cell_type": "code",
	   "execution_count": null,
	   "metadata": {
	    "collapsed": true
	   },
	   "outputs": [],
"source": [
"//Example No. 5.25\n",
"clc;\n",
"clear;\n",
"close;\n",
"format('v',9);\n",
"\n",
"//Given Data : \n",
"V=230;//V\n",
"f=50;//Hz\n",
"Rf=1.5;//ohm\n",
"Kt=0.25;//N-m/A\n",
"T=25;//N-m\n",
"Kv=0.25;//V-sec/rad\n",
"Vdc=2*sqrt(2)*V/%pi;//V\n",
"Em=Vdc;//V\n",
"Ia=sqrt(T/Kt);//A\n",
"disp(Ia,'Average motor current in A : ')\n",
"omega_m=(Em-Ia*Rf)/Kv/Ia;//rad/s\n",
"N=omega_m*60/2/%pi;//RPM\n",
"disp(N,'Motor speed in RPM : ');"
   ]
   }
,
{
		   "cell_type": "markdown",
		   "metadata": {},
		   "source": [
			"## Example 5.26: Armature_current_and_firing_angle.sce"
		   ]
		  },
  {
"cell_type": "code",
	   "execution_count": null,
	   "metadata": {
	    "collapsed": true
	   },
	   "outputs": [],
"source": [
"//Example No. 5.26\n",
"clc;\n",
"clear;\n",
"close;\n",
"format('v',9);\n",
"\n",
"//Given Data : \n",
"V1=675;//V\n",
"alfa1=90.5;//degree\n",
"N1=350;//rpm\n",
"Ia1=30;//A\n",
"N2=500;//rpm\n",
"Rf=0.22;//ohm\n",
"Ra=0.22;//ohm\n",
"Ia2=Ia1*N2/N1;//A\n",
"disp(Ia2,'Armature current of converter in A : ');\n",
"Va1=V1*sqrt(2)/%pi*(1+cosd(alfa1));//V\n",
"Eb1=Va1-Ia1*(Ra+Rf);//V\n",
"//Eb1/Eb2=Ia1*N1/(Ia2*N2)\n",
"//Eb2=Va2-Ia2*(Ra+Rf)\n",
"Va2=Eb1*Ia2*N2/(Ia1*N1)+Ia2*(Ra+Rf);//V\n",
"alfa2=acosd(Va2/V1/sqrt(2)*%pi-1);//degree\n",
"disp(alfa2,'Fringe angle of converter in degree : ');"
   ]
   }
,
{
		   "cell_type": "markdown",
		   "metadata": {},
		   "source": [
			"## Example 5.27: Torque_and_Armature_Current.sce"
		   ]
		  },
  {
"cell_type": "code",
	   "execution_count": null,
	   "metadata": {
	    "collapsed": true
	   },
	   "outputs": [],
"source": [
"//Example No. 5.27\n",
"clc;\n",
"clear;\n",
"close;\n",
"format('v',9);\n",
"\n",
"//Given Data : \n",
"V1=230;//V\n",
"P=15;//hp\n",
"N=1500;//rpm\n",
"V2=220;//V\n",
"Ke=0.03;//V/A-s\n",
"Kt=0.03;//N-m/A^2\n",
"alfa=45;//degree\n",
"Vm=V1*sqrt(2);//V\n",
"omega=N*2*%pi/60;//rad/s\n",
"T=4*Kt*Vm^2*cosd(alfa)^2/(%pi^2*(Ke*omega)^2);//N-m\n",
"Ia=sqrt(T/Kt);//A\n",
"disp('part (a) : ');\n",
"disp(T,'Torque in N-m : ');\n",
"disp(Ia,'Armature current in A : ');\n",
"disp('part (b) : ');\n",
"Ia=Vm*(1+cosd(alfa))/(%pi*(Ke*omega));//A\n",
"T=Kt*Ia^2;//N-m\n",
"disp(Ia,'Armature current in A : ');\n",
"disp(T,'Torque in N-m : ');"
   ]
   }
,
{
		   "cell_type": "markdown",
		   "metadata": {},
		   "source": [
			"## Example 5.28: Motor_Current_and_Torque.sce"
		   ]
		  },
  {
"cell_type": "code",
	   "execution_count": null,
	   "metadata": {
	    "collapsed": true
	   },
	   "outputs": [],
"source": [
"//Example No. 5.28\n",
"clc;\n",
"clear;\n",
"close;\n",
"format('v',9);\n",
"\n",
"//Given Data : \n",
"V1=230;//V\n",
"N=1000;//rpm\n",
"P=15;//hp\n",
"Rt=0.2;//ohm\n",
"Ke=0.03;//V/A-s\n",
"Kt=0.03;//N-m/A^2\n",
"alfa=30;//degree\n",
"Vm=V1*sqrt(2);//V\n",
"omega=N*2*%pi/60;//rad/s\n",
"V=Vm/%pi*(1+cosd(alfa));//V\n",
"//V=Ke*Ia*omega+Ia*Rt\n",
"Ia=V/(Ke*omega+Rt);//A\n",
"disp(Ia,'Motor current in A : ');\n",
"T=Kt*Ia^2;//N-m\n",
"disp(T,'Torque in N-m : ');"
   ]
   }
,
{
		   "cell_type": "markdown",
		   "metadata": {},
		   "source": [
			"## Example 5.29: Firing_Angle_of_Converter.sce"
		   ]
		  },
  {
"cell_type": "code",
	   "execution_count": null,
	   "metadata": {
	    "collapsed": true
	   },
	   "outputs": [],
"source": [
"//Example No. 5.29\n",
"clc;\n",
"clear;\n",
"close;\n",
"format('v',9);\n",
"\n",
"//Given Data : \n",
"V=220;//V\n",
"Vin=230;//V\n",
"N1=1500;//rpm\n",
"Ia1=10;//A\n",
"Ra=3;//ohm\n",
"N2=600;//rpm\n",
"E1=V-Ia1*Ra;//V\n",
"E2=E1*N2/N1;//V\n",
"Ia2=Ia1/2;//A(because of Tnew=T/2)\n",
"Vapp=E2+Ia2*Ra;//V\n",
"alfa=acosd(Vapp*%pi/2/sqrt(2)/Vin);//degree\n",
"disp(alfa,'Firing angle of converter in degree : ');"
   ]
   }
,
{
		   "cell_type": "markdown",
		   "metadata": {},
		   "source": [
			"## Example 5.2: speed_and_torque.sce"
		   ]
		  },
  {
"cell_type": "code",
	   "execution_count": null,
	   "metadata": {
	    "collapsed": true
	   },
	   "outputs": [],
"source": [
"//Example No. 5.2\n",
"clc;\n",
"clear;\n",
"close;\n",
"format('v',7);\n",
"\n",
"//Given Data : \n",
"Ia=110;//A\n",
"V=480;//volt\n",
"Ra=0.2;//ohm\n",
"p=6;//poles\n",
"C=864;//conductors\n",
"fi=0.05;//Wb(flux per pole)\n",
"back_emf=V-(Ia*Ra);//Volt\n",
"N=back_emf*60*p/C/p/fi;//rpm\n",
"disp(N,'Speed in rpm : ');\n",
"T=C*p*fi*Ia/2/%pi/p;//N-m\n",
"disp(T,'Torque in N-m : ');"
   ]
   }
,
{
		   "cell_type": "markdown",
		   "metadata": {},
		   "source": [
			"## Example 5.30: Speed_of_Motor.sce"
		   ]
		  },
  {
"cell_type": "code",
	   "execution_count": null,
	   "metadata": {
	    "collapsed": true
	   },
	   "outputs": [],
"source": [
"//Example No. 5.30\n",
"clc;\n",
"clear;\n",
"close;\n",
"format('v',9);\n",
"\n",
"//Given Data : \n",
"V=230;//V\n",
"N=870;//rpm\n",
"Ia=100;//A\n",
"Ra=0.05;//ohm\n",
"T=400;//N-m\n",
"E=V-Ia*Ra;//V\n",
"Vgen=V+Ia*Ra;//V\n",
"N2=N*Vgen/E;//rpm\n",
"disp(N2,'Motor speed in rpm : ');"
   ]
   }
,
{
		   "cell_type": "markdown",
		   "metadata": {},
		   "source": [
			"## Example 5.31: On_time_of_chopper.sce"
		   ]
		  },
  {
"cell_type": "code",
	   "execution_count": null,
	   "metadata": {
	    "collapsed": true
	   },
	   "outputs": [],
"source": [
"//Example No. 5.31\n",
"clc;\n",
"clear;\n",
"close;\n",
"format('v',9);\n",
"\n",
"//Given Data : \n",
"V=220;//V\n",
"P=2.2;//KW\n",
"N1=1000;//rpm\n",
"Ra=2;//ohm\n",
"f=250;//Hz\n",
"alfa=0.9;//cycle\n",
"N2=1200;//rpm\n",
"N3=800;//rpm\n",
"Ia1=P*1000/V;//A\n",
"Ia2=Ia1*N2/N1;//A\n",
"Eb2=alfa*V-Ia2*Ra;//V\n",
"Eb3=Eb2*N3/N2;//V\n",
"Ia3=Ia1*N3/N1;//A\n",
"alfa3=(Eb3+Ia3*Ra)/V;//cycle\n",
"ton=alfa3/f;//sec\n",
"disp(ton,'On time of chopper in sec : ' );"
   ]
   }
,
{
		   "cell_type": "markdown",
		   "metadata": {},
		   "source": [
			"## Example 5.32: Braking_Current_and_Resistance.sce"
		   ]
		  },
  {
"cell_type": "code",
	   "execution_count": null,
	   "metadata": {
	    "collapsed": true
	   },
	   "outputs": [],
"source": [
"//Example No. 5.32\n",
"clc;\n",
"clear;\n",
"close;\n",
"format('v',9);\n",
"\n",
"//Given Data : \n",
"V=230;//V\n",
"N1=1000;//rpm\n",
"Ia1=100;//A\n",
"Ra=0.1;//ohm\n",
"Rf=0.1;//ohm\n",
"N2=800;//rpm\n",
"Ia2=sqrt(2)*Ia1;//A(As T2=2*T1 & T proportional to Ia^2)\n",
"Eb1=V-Ia1*(Ra+Rf);//V\n",
"Eb2=N2*Ia2/(N1*Ia1)*Eb1;//V\n",
"//Eb2=Ia2*(Ra+Rf+Rbraking)\n",
"Rbraking=Eb2/Ia2-Ra-Rf;//ohm\n",
"disp(Rbraking,'Braking resistance in ohm : ' );\n",
"Ibraking=Eb2/Rbraking;//A\n",
"disp(Ibraking,'Braking current in A : ' );\n",
"//Braking current is not calculated in the textbook but asked in the example."
   ]
   }
,
{
		   "cell_type": "markdown",
		   "metadata": {},
		   "source": [
			"## Example 5.33: Torque_Speed_and_PF.sce"
		   ]
		  },
  {
"cell_type": "code",
	   "execution_count": null,
	   "metadata": {
	    "collapsed": true
	   },
	   "outputs": [],
"source": [
"//Example No. 5.33\n",
"clc;\n",
"clear;\n",
"close;\n",
"format('v',9);\n",
"\n",
"//Given Data : \n",
"P=6;//poles\n",
"V=220;//V\n",
"f=50;//Hz\n",
"Ra=0.2;//ohm\n",
"Rf=150;//ohm\n",
"Z=150;//no. of conductors\n",
"fi=0.02027;//Wb(flux)\n",
"alfa=0;//degree\n",
"alfa_a=45;//degree\n",
"Ia=25;//A\n",
"A=2;//\n",
"T=Z*P*fi*Ia/(2*%pi*A);//N-m\n",
"disp(T,'Totque in N-m : ');\n",
"Vm=V*sqrt(2);//V\n",
"Vdc=2*Vm/%pi*cosd(alfa_a);//V\n",
"Eb=Vdc-Ia*Ra;//V\n",
"N=Eb*60*A/(Z*P*fi);//rpm\n",
"disp(N,'Speed in rpm : ');\n",
"Pout=Vdc*Ia;//W\n",
"pf=Pout/V/Ia;//lagging\n",
"disp(pf,'Lagging power factor : ' );\n",
""
   ]
   }
,
{
		   "cell_type": "markdown",
		   "metadata": {},
		   "source": [
			"## Example 5.34: Find_Motor_Speed.sce"
		   ]
		  },
  {
"cell_type": "code",
	   "execution_count": null,
	   "metadata": {
	    "collapsed": true
	   },
	   "outputs": [],
"source": [
"//Example No. 5.35\n",
"clc;\n",
"clear;\n",
"close;\n",
"format('v',9);\n",
"\n",
"//Given Data : \n",
"V1=200;//V\n",
"N1=940;//rpm\n",
"Ra=0.02;//ohm\n",
"Ia=100;//A\n",
"N2=500;//rpm\n",
"Eb1=V1-Ia*Ra;//V\n",
"//Eb1/Eb2=N1/N2\n",
"//Eb2=V2-Ia*Ra;//V\n",
"V2=Eb1*N2/N1+Ia*Ra;//V\n",
"cycle=V2/V1;\n",
"disp(cycle,'Duty cycle : ');"
   ]
   }
,
{
		   "cell_type": "markdown",
		   "metadata": {},
		   "source": [
			"## Example 5.35: Duty_Cycle_of_Chopper.sce"
		   ]
		  },
  {
"cell_type": "code",
	   "execution_count": null,
	   "metadata": {
	    "collapsed": true
	   },
	   "outputs": [],
"source": [
"//Example No. 5.35\n",
"clc;\n",
"clear;\n",
"close;\n",
"format('v',9);\n",
"\n",
"//Given Data : \n",
"V1=200;//V\n",
"N1=940;//rpm\n",
"Ra=0.02;//ohm\n",
"Ia=100;//A\n",
"N2=500;//rpm\n",
"Eb1=V1-Ia*Ra;//V\n",
"//Eb1/Eb2=N1/N2\n",
"//Eb2=V2-Ia*Ra;//V\n",
"V2=Eb1*N2/N1+Ia*Ra;//V\n",
"cycle=V2/V1;\n",
"disp(cycle,'Duty cycle : ');"
   ]
   }
,
{
		   "cell_type": "markdown",
		   "metadata": {},
		   "source": [
			"## Example 5.36: Resistance_and_Braking_Torque.sce"
		   ]
		  },
  {
"cell_type": "code",
	   "execution_count": null,
	   "metadata": {
	    "collapsed": true
	   },
	   "outputs": [],
"source": [
"//Example No. 5.36\n",
"clc;\n",
"clear;\n",
"close;\n",
"format('v',9);\n",
"\n",
"//Given Data : \n",
"V1=220;//V\n",
"Ra=0.05;//ohm\n",
"N1=1000;//rpm\n",
"Ia=100;//A\n",
"N2=500;//rpm\n",
"Eb=V1-Ia*Ra;//V\n",
"Ib=2*Ia;//A\n",
"Rb=(V1+Eb)/Ib-Ra;//ohm\n",
"disp(Rb,'Resistance to be added in ohm : ');\n",
"Tb=Eb/(N1*2*%pi/60)*Ib;//N-m\n",
"disp(Tb,'Initial braking torque in N-m : ');\n",
"Eb2=Eb*N2/N1;//V\n",
"Ib2=(V1+Eb2)/(Ra+Rb);//A\n",
"Tb2=Eb2/(N2*2*%pi/60)*Ib2;//N-m\n",
"disp(Tb2,'Initial braking torque in N-m : ');"
   ]
   }
,
{
		   "cell_type": "markdown",
		   "metadata": {},
		   "source": [
			"## Example 5.37: Find_Motor_Speed.sce"
		   ]
		  },
  {
"cell_type": "code",
	   "execution_count": null,
	   "metadata": {
	    "collapsed": true
	   },
	   "outputs": [],
"source": [
"//Example No. 5.37\n",
"clc;\n",
"clear;\n",
"close;\n",
"format('v',9);\n",
"\n",
"//Given Data : \n",
"V1=230;//V\n",
"N1=870;//rpm\n",
"Ia=100;//A\n",
"Ra=0.05;//ohm\n",
"T=400;//N-m\n",
"Eb=V1-Ia*Ra;//V\n",
"Vgen=V1+Ia*Ra;//V\n",
"N2=N1*Vgen/Eb;//rpm\n",
"disp(N2,'Speed in rpm : ');"
   ]
   }
,
{
		   "cell_type": "markdown",
		   "metadata": {},
		   "source": [
			"## Example 5.38: Torque_Speed_and_PF.sce"
		   ]
		  },
  {
"cell_type": "code",
	   "execution_count": null,
	   "metadata": {
	    "collapsed": true
	   },
	   "outputs": [],
"source": [
"//Example No. 5.38\n",
"clc;\n",
"clear;\n",
"close;\n",
"format('v',9);\n",
"\n",
"//Given Data : \n",
"P=10;//KW\n",
"V1=230;//V\n",
"N1=1200;//rpm\n",
"Ra=0.5;//ohm\n",
"Ke=0.182;//V/rpm\n",
"V2=260;//V\n",
"alfa=30;//degree\n",
"Ia=30;//A\n",
"Vm=V2*sqrt(2);//V\n",
"Vdc=2*Vm/%pi*cosd(alfa);//V\n",
"Eb=Vdc-Ia*Ra;//V\n",
"Kt=Ke*60/2/%pi;//N-m/A\n",
"T=Kt*Ia;//N-m\n",
"disp(T,'Torque in N-m : ');\n",
"N2=Eb/Ke;//rpm\n",
"disp(N2,'Speed in rpm : ');\n",
"Pout=Vdc*Ia;//W\n",
"pf=Pout/V2/Ia;//lagging power factor\n",
"disp(pf,'Lagging power factor : ');"
   ]
   }
,
{
		   "cell_type": "markdown",
		   "metadata": {},
		   "source": [
			"## Example 5.39: On_Time_of_chopper.sce"
		   ]
		  },
  {
"cell_type": "code",
	   "execution_count": null,
	   "metadata": {
	    "collapsed": true
	   },
	   "outputs": [],
"source": [
"//Example No. 5.39\n",
"clc;\n",
"clear;\n",
"close;\n",
"format('v',9);\n",
"\n",
"//Given Data : \n",
"P=2.2;//KW\n",
"V=220;//V\n",
"N1=1000;//rpm\n",
"Ra=2;//ohm\n",
"f=250;//Hz\n",
"alfa=0.9;//duty cycle\n",
"N2=1200;//rpm\n",
"N3=800;//rpm\n",
"Ia1=P*1000/V;//A\n",
"Ia2=Ia1*N2/N1;//A\n",
"Eb1=alfa*V-Ia2*Ra;//V\n",
"Eb2=Eb1*N3/N2;//V\n",
"Ia3=Ia1*N3/N1;//A\n",
"alfa3=(Eb2+Ia3*Ra)/V;//cycle\n",
"ton=alfa3/f;//sec\n",
"disp(ton*1000,'On time of chopper in milli seconds : ' );"
   ]
   }
,
{
		   "cell_type": "markdown",
		   "metadata": {},
		   "source": [
			"## Example 5.3: voltage.sce"
		   ]
		  },
  {
"cell_type": "code",
	   "execution_count": null,
	   "metadata": {
	    "collapsed": true
	   },
	   "outputs": [],
"source": [
"//Example No. 5.3\n",
"clc;\n",
"clear;\n",
"close;\n",
"format('v',7);\n",
"\n",
"//Given Data : \n",
"Ia=100;//A\n",
"V=200;//volt\n",
"N=600;//rpm\n",
"Ra=0.05;//ohm\n",
"Eff=85/100;//\n",
"Ia1=Ia*Eff;//armature current in separately excited dc motor\n",
"emf=V-Ia*Ra;//V(motoring mode induced emf)\n",
"N1=500;//rpm(generating mode speed)\n",
"Gen_emf=emf*N1/N;//V\n",
"Vo=Gen_emf-Ia1*Ra;//V\n",
"disp(Vo,'Voltage of source in Volt : ');"
   ]
   }
,
{
		   "cell_type": "markdown",
		   "metadata": {},
		   "source": [
			"## Example 5.40: Current_Drawn_and_Resistance.sce"
		   ]
		  },
  {
"cell_type": "code",
	   "execution_count": null,
	   "metadata": {
	    "collapsed": true
	   },
	   "outputs": [],
"source": [
"//Example No. 5.40\n",
"clc;\n",
"clear;\n",
"close;\n",
"format('v',9);\n",
"\n",
"//Given Data : \n",
"V=220;//V\n",
"Eff1=85/100;//Efficiency\n",
"Eff2=80/100;//Efficiency\n",
"Load=400;//Kg\n",
"t=2.5;//ms\n",
"Ra=0.1;//ohm\n",
"g=9.81;//constant for gravity acceleration\n",
"Pout=Load*g*t;//W\n",
"IL=Pout/V/Eff1/Eff2;//A\n",
"disp(IL,'Current drawn in ohm : ');\n",
"Eb=V-IL*Ra;//V\n",
"R=(V+Eb)/IL-Ra;//ohm\n",
"disp(R,'Resistance to be added in ohm : ');"
   ]
   }
,
{
		   "cell_type": "markdown",
		   "metadata": {},
		   "source": [
			"## Example 5.41: Find_Firing_Angle.sce"
		   ]
		  },
  {
"cell_type": "code",
	   "execution_count": null,
	   "metadata": {
	    "collapsed": true
	   },
	   "outputs": [],
"source": [
"//Example No. 5.41\n",
"clc;\n",
"clear;\n",
"close;\n",
"format('v',9);\n",
"\n",
"//Given Data : \n",
"V1=220;//V\n",
"N1=1500;//rpm\n",
"I=10;//A\n",
"Ra=3;//ohm\n",
"V2=230;//V\n",
"N2=600;//rpm\n",
"Eb1=V1-I*Ra;//V\n",
"Eb2=Eb1*N2/N1;//V\n",
"Ia=I/2;//A(at half rated torque)\n",
"Vm=V1*sqrt(2);//V\n",
"alfa=acosd((Eb2+Ia*Ra)*%pi/2/Vm);//degree\n",
"disp(alfa,'Firing angle in degree : ');"
   ]
   }
,
{
		   "cell_type": "markdown",
		   "metadata": {},
		   "source": [
			"## Example 5.4: speed_and_resistance.sce"
		   ]
		  },
  {
"cell_type": "code",
	   "execution_count": null,
	   "metadata": {
	    "collapsed": true
	   },
	   "outputs": [],
"source": [
"//Example No. 5.4\n",
"clc;\n",
"clear;\n",
"close;\n",
"format('v',7);\n",
"\n",
"//Given Data : \n",
"Ia1=10;//A\n",
"V1=200;//volt\n",
"N1=1800;//rpm\n",
"Ra=0.6;//ohm\n",
"Rfield=360;//ohm\n",
"V2=180;//volt\n",
"I_line=20;//A\n",
"//fi2=V2/V1*fi1\n",
"fi2BYfi1=V2/V1;\n",
"//Ia1*fi1=Ia2*fi2\n",
"Ia2=Ia1/fi2BYfi1;//A\n",
"Eb1=V1-Ia1*Ra;//V\n",
"Eb2=V2-Ia2*Ra;//V\n",
"//Eb1/Eb2=fi1*N1/fi2/N2\n",
"N2=N1/(Eb1/Eb2*fi2BYfi1);//rpm\n",
"disp(N2,'Motor speed after supply voltage decreases in rpm : ');\n",
"Ifield=V2/Rfield;//A\n",
"Ia=I_line-Ifield\n",
"//V2=Ia*(R+Ra)\n",
"R=V2/Ia-Ra;//ohm\n",
"disp(R,'Additional resistance in ohm : ');"
   ]
   }
,
{
		   "cell_type": "markdown",
		   "metadata": {},
		   "source": [
			"## Example 5.5: braking_resistance.sce"
		   ]
		  },
  {
"cell_type": "code",
	   "execution_count": null,
	   "metadata": {
	    "collapsed": true
	   },
	   "outputs": [],
"source": [
"//Example No. 5.5\n",
"clc;\n",
"clear;\n",
"close;\n",
"format('v',7);\n",
"\n",
"//Given Data : \n",
"Ia1=10;//A\n",
"V1=200;//volt\n",
"N1=1800;//rpm\n",
"Ra=0.6;//ohm\n",
"Rfield=360;//ohm\n",
"V2=180;//volt\n",
"I_line=20;//A\n",
"\n",
"Ia=Ia1-V1/Rfield;//A(At changeover time)\n",
"emf=V1-Ia*Ra;//volt\n",
"Ifield=emf/Rfield;//A(At changeover time)\n",
"Iout=Ia1-Ifield;//A\n",
"Rbraking=emf/Iout;//ohm(Braking Resistance)\n",
"disp(Rbraking,'Braking resistance in ohm : ');"
   ]
   }
,
{
		   "cell_type": "markdown",
		   "metadata": {},
		   "source": [
			"## Example 5.6: Energy_Dissipated.sce"
		   ]
		  },
  {
"cell_type": "code",
	   "execution_count": null,
	   "metadata": {
	    "collapsed": true
	   },
	   "outputs": [],
"source": [
"//Example No. 5.6\n",
"clc;\n",
"clear;\n",
"close;\n",
"format('v',7);\n",
"\n",
"//Given Data : \n",
"Ia1=10;//A\n",
"V1=200;//volt\n",
"N1=1800;//rpm\n",
"Ra=0.6;//ohm\n",
"Rfield=360;//ohm\n",
"V2=180;//volt\n",
"I_line=20;//A\n",
"//Part (a)\n",
"Ia=Ia1-V1/Rfield;//A(At changeover time)\n",
"emf=V1-Ia*Ra;//volt\n",
"Ifield=emf/Rfield;//A(At changeover time)\n",
"Iout=Ia1-Ifield;//A\n",
"Rbraking=emf/Iout;//ohm(Braking Resistance)\n",
"\n",
"I_initial=Iout;//A(Inotial current)\n",
"t=30;//sec(time taken to stop)\n",
"I_change_rate=I_initial/t;//A/s\n",
"//i=I_initial-I_change_rate*t , for 0<t<30(during braking time)\n",
"E_dissipated=integrate('(I_initial^2+(I_initial/30)^2/3*t^2-2*I_initial*I_initial/30*t)*Rbraking','t',0,t);//W-s\n",
"disp(E_dissipated,'Part(a) Energy dissipated in watts-sec : ');\n",
"//Part (b) \n",
"//Rbraking=Rbraking-Rbraking/30*t;//ohm\n",
"E=integrate('I_initial^2*(Rbraking-Rbraking/30*t)','t',0,30);//Watt-sec\n",
"disp(E,'Part(b) Energy dissipated in watts-sec : ');\n",
"//calculation of first part is not accurate in the book."
   ]
   }
,
{
		   "cell_type": "markdown",
		   "metadata": {},
		   "source": [
			"## Example 5.7: Resistance_and_Breaking_Torque.sce"
		   ]
		  },
  {
"cell_type": "code",
	   "execution_count": null,
	   "metadata": {
	    "collapsed": true
	   },
	   "outputs": [],
"source": [
"//Example No. 5.7\n",
"clc;\n",
"clear;\n",
"close;\n",
"format('v',7);\n",
"\n",
"//Given Data : \n",
"I=50;//A\n",
"V=200;//volt\n",
"N=1000;//rpm\n",
"Ra=0.2;//ohm\n",
"Eb=V-I*Ra;//V\n",
"Rt=(V+Eb)/2/I;//ohm(Total resistance required)\n",
"disp(Rt-0.5,'Additional resistance required to limit the current in ohm : ');\n",
"omega_m=N/60*2*%pi;//rad/s\n",
"T=Eb*2*I/omega_m;//N-m\n",
"disp(T,'Braking torque in N-m : ');\n",
"Eb=0;//for speed=0\n",
"I=V/Rt;//A\n",
"//T proportional to I(for separately excited motor)\n",
"T=T*(I/100);//N-m\n",
"disp(T,'Torque when speed decreased to zero in N-m : ');"
   ]
   }
,
{
		   "cell_type": "markdown",
		   "metadata": {},
		   "source": [
			"## Example 5.8: Speed_of_Motor.sce"
		   ]
		  },
  {
"cell_type": "code",
	   "execution_count": null,
	   "metadata": {
	    "collapsed": true
	   },
	   "outputs": [],
"source": [
"//Example No. 5.8\n",
"clc;\n",
"clear;\n",
"close;\n",
"format('v',6);\n",
"\n",
"//Given Data : \n",
"Ra=0.2;//ohm\n",
"Rf=100;//ohm\n",
"N=500;//rpm\n",
"Rb=2;//ohm\n",
"E1=100;//V\n",
"If1=2;//A\n",
"If2=2.5;//A\n",
"If3=3;//A\n",
"E2=125;//V\n",
"E3=150;//V\n",
"//Ib=Rf*If1/2\n",
"//Ia=If+Ib;//A\n",
"omega_m=N/60*2*%pi;//rad/s\n",
"Kefi1=E1/omega_m;\n",
"Kefi2=E2/omega_m;\n",
"Kefi3=E3/omega_m;\n",
"T1=E1/omega_m*51*If1;//N-m\n",
"T2=E2/omega_m*51*If2;//N-m\n",
"T3=E3/omega_m*51*If3;//N-m\n",
"Tload=300;//N-m\n",
"Kefi=2.36;\n",
"If=2.482;//A\n",
"Ia=51*If;//A\n",
"E=If*Rf/2+Ia*Ra;//V\n",
"N=E/Kefi;//rad/s\n",
"N=N*60/2/%pi;//rpm\n",
"disp(N,'Speed of motor in rpm : ');"
   ]
   }
,
{
		   "cell_type": "markdown",
		   "metadata": {},
		   "source": [
			"## Example 5.9: Find_Resistance_to_be_added.sce"
		   ]
		  },
  {
"cell_type": "code",
	   "execution_count": null,
	   "metadata": {
	    "collapsed": true
	   },
	   "outputs": [],
"source": [
"//Example No. 5.9\n",
"clc;\n",
"clear;\n",
"close;\n",
"format('v',6);\n",
"\n",
"//Given Data : \n",
"E1=200;//V\n",
"E2=300;//V\n",
"E3=400;//V\n",
"E4=500;//V\n",
"E5=600;//V\n",
"E6=700;//V\n",
"Ia1=20;//A\n",
"Ia2=30;//A\n",
"Ia3=40;//A\n",
"Ia4=50;//A\n",
"Ia5=60;//A\n",
"Ia6=70;//A\n",
"Rt=0.6;//ohm\n",
"Tload=600;//N-m\n",
"omega_m=Tload*2*%pi/60;//rad/s\n",
"Kefi1=E1/omega_m;\n",
"Kefi2=E2/omega_m;\n",
"Kefi3=E3/omega_m;\n",
"Kefi4=E4/omega_m;\n",
"Kefi5=E5/omega_m;\n",
"Kefi6=E6/omega_m;\n",
"T1=E1/omega_m*Ia1;//N-m\n",
"T2=E2/omega_m*Ia2;//N-m\n",
"T3=E3/omega_m*Ia3;//N-m\n",
"T4=E4/omega_m*Ia4;//N-m\n",
"T5=E5/omega_m*Ia5;//N-m\n",
"T6=E6/omega_m*Ia6;//N-m\n",
"subplot(1,2,1);\n",
"plot([Ia1 Ia2 Ia3 Ia4 Ia5 Ia6],[Kefi1 Kefi2 Kefi3 Kefi4 Kefi5 Kefi6])\n",
"title('Ia Vs Kefi');\n",
"xlabel('Ia(A)');\n",
"ylabel('Kefi');\n",
"subplot(1,2,2);\n",
"plot([Ia1 Ia2 Ia3 Ia4 Ia5 Ia6],[T1 T2 T3 T4 T5 T6])\n",
"title('Ia Vs T');\n",
"xlabel('Ia(A)');\n",
"ylabel('T(N-m)');\n",
"//From the graph : \n",
"T=600;//N-m\n",
"Ia=63;//A\n",
"Kefi=9.8;\n",
"E=Kefi*omega_m;//V\n",
"R=E/Ia;//ohm\n",
"Rdb=R-Rt\n",
"disp(Rdb,'Resistance for dynamic braking in ohm : ');"
   ]
   }
],
"metadata": {
		  "kernelspec": {
		   "display_name": "Scilab",
		   "language": "scilab",
		   "name": "scilab"
		  },
		  "language_info": {
		   "file_extension": ".sce",
		   "help_links": [
			{
			 "text": "MetaKernel Magics",
			 "url": "https://github.com/calysto/metakernel/blob/master/metakernel/magics/README.md"
			}
		   ],
		   "mimetype": "text/x-octave",
		   "name": "scilab",
		   "version": "0.7.1"
		  }
		 },
		 "nbformat": 4,
		 "nbformat_minor": 0
}
