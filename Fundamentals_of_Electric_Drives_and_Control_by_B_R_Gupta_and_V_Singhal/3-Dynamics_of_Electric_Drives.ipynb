{
"cells": [
 {
		   "cell_type": "markdown",
	   "metadata": {},
	   "source": [
       "# Chapter 3: Dynamics of Electric Drives"
	   ]
	},
{
		   "cell_type": "markdown",
		   "metadata": {},
		   "source": [
			"## Example 3.10: equivalent_moment_and_torque.sce"
		   ]
		  },
  {
"cell_type": "code",
	   "execution_count": null,
	   "metadata": {
	    "collapsed": true
	   },
	   "outputs": [],
"source": [
"//Example No. 3.10\n",
"clc;\n",
"clear;\n",
"close;\n",
"format('v',6);\n",
"\n",
"//Given Data : \n",
"MotorSpeed=1440;//rpm\n",
"Jmotor=0.4;//Kg-m^2\n",
"Jdc_load=0.6;//Kg-m^2(Inertia directly coupled load)\n",
"w_tl=100;//kg(weight of transratioonal load)\n",
"F_res=1.2;//N/Kg(Friction resistance for translational load)\n",
"v=10;//m/s\n",
"T_RotLoad=1.5;//N-m\n",
"g=9.81;//gravity constant\n",
"\n",
"//Solution : \n",
"MotorSpeed=MotorSpeed*2*%pi/60;//rad/sec\n",
"F_horz=w_tl*F_res;//N(horizontal force of translational load)\n",
"mass=w_tl*g;//N\n",
"J=Jmotor+Jdc_load+mass*(v/MotorSpeed)^2;//Kg-m^2\n",
"disp(J,'Moment of Inertia at motor shaft in Kg-m^2 :  ');\n",
"T=T_RotLoad+F_horz*v/MotorSpeed;//N-m\n",
"disp(T,'Torque at motor shaft in N-m : ');"
   ]
   }
,
{
		   "cell_type": "markdown",
		   "metadata": {},
		   "source": [
			"## Example 3.11: operating_speed.sce"
		   ]
		  },
  {
"cell_type": "code",
	   "execution_count": null,
	   "metadata": {
	    "collapsed": true
	   },
	   "outputs": [],
"source": [
"//Example No. 3.11\n",
"clc;\n",
"clear;\n",
"close;\n",
"format('v',6);\n",
"\n",
"//Given Data : \n",
"//T=0.6+1.9*omega_m\n",
"//TL=2.8*sqrt(omega_m)\n",
"\n",
"//Solution : \n",
"P=[3.61 -5.56 0.36];//Polynomial for omega_m calculated by equating T=TL\n",
"omega_m=roots(P);//rad/sec\n",
"disp(omega_m(2),'Operating speed in rad/sec at which system has steady state stability : ');"
   ]
   }
,
{
		   "cell_type": "markdown",
		   "metadata": {},
		   "source": [
			"## Example 3.12: operating_speed.sce"
		   ]
		  },
  {
"cell_type": "code",
	   "execution_count": null,
	   "metadata": {
	    "collapsed": true
	   },
	   "outputs": [],
"source": [
"//Example No. 3.12\n",
"clc;\n",
"clear;\n",
"close;\n",
"format('v',6);\n",
"\n",
"//Given Data : \n",
"//T=15-0.5*omega_m\n",
"//TL=0.5*omega_m^2\n",
"\n",
"//Solution : \n",
"P=[1 1 -30];//Polynomial for omega_m calculated by equating T=TL\n",
"omega_m=roots(P);//rad/sec\n",
"disp(omega_m(2),'Operating speed in rad/sec at which system has steady state stability : ');"
   ]
   }
,
{
		   "cell_type": "markdown",
		   "metadata": {},
		   "source": [
			"## Example 3.1: Moment_of_Inertia_and_Load_Torque.sce"
		   ]
		  },
  {
"cell_type": "code",
	   "execution_count": null,
	   "metadata": {
	    "collapsed": true
	   },
	   "outputs": [],
"source": [
"//Example No. 3.1\n",
"clc;\n",
"clear;\n",
"close;\n",
"\n",
"//Given Data : \n",
"MoI=0.3;//Kg-m^2\n",
"T=20;//N-m\n",
"MoIshaft=10;//in Kg-m^2\n",
"LostT=10;//%\n",
"\n",
"//Solution : \n",
"MoItotal=MoI+MoIshaft;//in Kg-m^2\n",
"LoadTorque=T-T*LostT/100;//in N-m\n",
"disp(MoItotal,'Total Moment of Inertia in Kg-m^2 : ');\n",
"disp(LoadTorque,'Load Torque in N-m : ');"
   ]
   }
,
{
		   "cell_type": "markdown",
		   "metadata": {},
		   "source": [
			"## Example 3.2: equivalent_inertia_and_load_of_motor.sce"
		   ]
		  },
  {
"cell_type": "code",
	   "execution_count": null,
	   "metadata": {
	    "collapsed": true
	   },
	   "outputs": [],
"source": [
"//Example No. 3.2\n",
"clc;\n",
"clear;\n",
"close;\n",
"format('v',8);\n",
"\n",
"//Given Data : \n",
"n=0.1;//teeth ratio\n",
"ETAg=90/100;//efficiency\n",
"J0=0.4;//Kg-m^2\n",
"J1=10;//Kg-m^2\n",
"TL=50;//N-m\n",
"N=1400;//speed in rpm\n",
"\n",
"//Solution : \n",
"J=J0+n^2*J1;//Kg-m^2\n",
"T=n*TL/ETAg;//N-m\n",
"MotorSpeed=2*%pi*N/60;//rad/sec\n",
"Pdev=MotorSpeed*T;//Watt\n",
"disp(J,'Equivalent Inertia in Kg-m^2 : ');\n",
"disp(T,'Load Torque refered to motor side in N-m : ');\n",
"disp(Pdev,'Power developed by motor in watt : ');"
   ]
   }
,
{
		   "cell_type": "markdown",
		   "metadata": {},
		   "source": [
			"## Example 3.3: kw_rating_and_distance.sce"
		   ]
		  },
  {
"cell_type": "code",
	   "execution_count": null,
	   "metadata": {
	    "collapsed": true
	   },
	   "outputs": [],
"source": [
"//Example No. 3.3\n",
"clc;\n",
"clear;\n",
"close;\n",
"format('v',8);\n",
"\n",
"//Given Data : \n",
"v=60;//Km/hr\n",
"w=400;//KN\n",
"friction=5;//N/KN weight\n",
"tan_theta=1/100;//inclination\n",
"g=9.81;// gravity constant\n",
"\n",
"//Solution : \n",
"sin_theta=tan_theta;\n",
"W_sin_theta=w*1000*sin_theta;//N\n",
"R=friction*W_sin_theta/10;//frictional resistance in N\n",
"P=W_sin_theta+R;//N\n",
"v=60*1000/60/60;//m/s\n",
"Power=P*v;//Watt\n",
"disp(Power/1000,'Final KW rating of the motor of train : ');\n",
"Force=P;//down the inclined force in N\n",
"u=v;//initial velocity in m/s\n",
"v=0;//final velocity in m/s\n",
"m=w*1000/g;//in Kg\n",
"KE=1/2*m*u^2;//in Joule\n",
"d=KE/P;//distance in meter\n",
"disp(d,'Distance covered in meter : ');"
   ]
   }
,
{
		   "cell_type": "markdown",
		   "metadata": {},
		   "source": [
			"## Example 3.4: acceleratio.sce"
		   ]
		  },
  {
"cell_type": "code",
	   "execution_count": null,
	   "metadata": {
	    "collapsed": true
	   },
	   "outputs": [],
"source": [
"//Example No. 3.4\n",
"clc;\n",
"clear;\n",
"close;\n",
"format('v',6);\n",
"\n",
"//Given Data : \n",
"MotorOutput=200;//KW\n",
"v=60;//Km/hr\n",
"w=400;//KN\n",
"friction=5;//N/KN weight\n",
"tan_theta=1/100;//inclination\n",
"g=9.81;// gravity constant\n",
"\n",
"//Solution : \n",
"sin_theta=tan_theta;\n",
"W_sin_theta=w*1000*sin_theta;//N\n",
"R=friction*W_sin_theta/10;//frictional resistance in N\n",
"P=W_sin_theta+R;//N\n",
"v=60*1000/60/60;//m/s\n",
"Power=P*v;//Watt\n",
"Pdash=MotorOutput*1000-Power;//Power causes acceleration in watt or N-m/s\n",
"m=w*1000/g;//in Kg\n",
"a=Pdash/m;//in m/s^2\n",
"disp(a,'Acceleration in m/s^2 : ');"
   ]
   }
,
{
		   "cell_type": "markdown",
		   "metadata": {},
		   "source": [
			"## Example 3.5: diameter.sce"
		   ]
		  },
  {
"cell_type": "code",
	   "execution_count": null,
	   "metadata": {
	    "collapsed": true
	   },
	   "outputs": [],
"source": [
"//Example No. 3.5\n",
"clc;\n",
"clear;\n",
"close;\n",
"format('v',6);\n",
"\n",
"//Given Data : \n",
"MotorSpeed=200;//rpm\n",
"d1=50;//diameter of motor pulley in cm\n",
"MachineSpeed=100;//rpm\n",
"\n",
"//Solution : \n",
"d2=MotorSpeed/MachineSpeed*d1;//diameter of machine pulley in cm\n",
"disp(d2,'Diameter of machine pulley in cm : ');"
   ]
   }
,
{
		   "cell_type": "markdown",
		   "metadata": {},
		   "source": [
			"## Example 3.6: inertia_and_torque.sce"
		   ]
		  },
  {
"cell_type": "code",
	   "execution_count": null,
	   "metadata": {
	    "collapsed": true
	   },
	   "outputs": [],
"source": [
"//Example No. 3.6\n",
"clc;\n",
"clear;\n",
"close;\n",
"format('v',6);\n",
"\n",
"//Given Data : \n",
"v=1.2;//belt conveyer speed in m/s\n",
"TransRate=100;//rate of transportation of material in tons/hour\n",
"l=200;//length of belt in meter\n",
"MotorSpeed=1200;//rpm\n",
"MoI=0.1;//Moment of Inertia in Kg-m^2\n",
"\n",
"\n",
"//Solution : \n",
"//Part A\n",
"TransRate=TransRate*1000/60/60;//rate of transportation of material in Kg/sec\n",
"TransTime=l/v;//in sec\n",
"omega=MotorSpeed*2*%pi/60;//rad/sec\n",
"M=TransRate*TransTime;//Kg\n",
"J=M*(v/omega)^2;//Kg-m^2\n",
"disp(J,'Load Inertia in Kg-m^2 : ');\n",
"\n",
"//Part B\n",
"t=8;//sec\n",
"a=v/t;//m/s^2\n",
"TorqueInertai=MoI*omega/t;//N-m\n",
"F=M*a;//N\n",
"Tload=F*v/omega;//N-m\n",
"TotalTorque=Tload+TorqueInertai;//N-m\n",
"disp(TotalTorque,'Total Torque in N-m : ');"
   ]
   }
,
{
		   "cell_type": "markdown",
		   "metadata": {},
		   "source": [
			"## Example 3.7: torque_and_moment.sce"
		   ]
		  },
  {
"cell_type": "code",
	   "execution_count": null,
	   "metadata": {
	    "collapsed": true
	   },
	   "outputs": [],
"source": [
"//Example No. 3.7\n",
"clc;\n",
"clear;\n",
"close;\n",
"format('v',7);\n",
"\n",
"//Given Data : \n",
"w=400;//Kg\n",
"v=1;//m/s\n",
"MotorSpeed=1000;//rpm\n",
"MoI=0.5;//Moment of Inertia in Kg-m^2\n",
"winch=0.3;//Kg-m^2\n",
"Tnl=80;//N-m\n",
"Speed_nl=1000;//rpm\n",
"g=9.81;//gravity constant\n",
"\n",
"//Solution : \n",
"mass=w*g;//N\n",
"omega=MotorSpeed*2*%pi/60;//rad/sec\n",
"TotTorque=Tnl+mass*v/omega;//N-m\n",
"disp(TotTorque,'Total Motor Torque in N-m :  ');\n",
"J=MoI+winch+w*(v/omega)^2;//Kg-m^2\n",
"disp(J,'Moment of Inertia refered to motor shaft in Kg-m^2 : ');"
   ]
   }
,
{
		   "cell_type": "markdown",
		   "metadata": {},
		   "source": [
			"## Example 3.9: torque_and_power.sce"
		   ]
		  },
  {
"cell_type": "code",
	   "execution_count": null,
	   "metadata": {
	    "collapsed": true
	   },
	   "outputs": [],
"source": [
"//Example No. 3.9\n",
"clc;\n",
"clear;\n",
"close;\n",
"format('v',7);\n",
"\n",
"//Given Data : \n",
"Jmotor=0.3;//Kg-m^2\n",
"Jgd_load=15;//Kg-m^2(Inertia gear driven load)\n",
"GSRratio=0.1;//gear speed reduction ratio\n",
"Jbd_load=0.6;//Kg-m^2(Inertia belt driven load)\n",
"d1=10;//cm(diameter of driver pulley)\n",
"d2=30;//cm(diameter of driven pulley)\n",
"MotorSpeed=1440;//rpm\n",
"Tload1=100;//N-m\n",
"Tload2=35;//N-m\n",
"\n",
"//Solution : \n",
"MotorSpeed=MotorSpeed*2*%pi/60;//rad/sec\n",
"Speed_gd=GSRratio*MotorSpeed;//rad/sec\n",
"Speed_bd=MotorSpeed*d1/d2;//rad/sec\n",
"//Equating Kinetic Energies\n",
"//1/2*J*MotorSpeed^2=1/2*Jmotor*MotorSpeed^2+1/2*Jgd_load*speed_gd^2+1/2*Jbd_load*speed_bd^2\n",
"J=(1/2*Jmotor*MotorSpeed^2+1/2*Jgd_load*Speed_gd^2+1/2*Jbd_load*Speed_bd^2)*2/MotorSpeed^2\n",
"disp(J,'Moment of Inertia refered to motor shaft in Kg-m^2 : ');\n",
"//Equating power of motor\n",
"//T*(MotorSpeed)=Tload1*Speed_gd+Tload2*Speed_bd\n",
"T=(Tload1*Speed_gd+Tload2*Speed_bd)/MotorSpeed;//N-m\n",
"disp(T,'Torque in N-m : ');\n",
"Pdev=T*MotorSpeed;//watt\n",
"disp(Pdev,'Power developed by the motor in watts : ');"
   ]
   }
],
"metadata": {
		  "kernelspec": {
		   "display_name": "Scilab",
		   "language": "scilab",
		   "name": "scilab"
		  },
		  "language_info": {
		   "file_extension": ".sce",
		   "help_links": [
			{
			 "text": "MetaKernel Magics",
			 "url": "https://github.com/calysto/metakernel/blob/master/metakernel/magics/README.md"
			}
		   ],
		   "mimetype": "text/x-octave",
		   "name": "scilab",
		   "version": "0.7.1"
		  }
		 },
		 "nbformat": 4,
		 "nbformat_minor": 0
}
