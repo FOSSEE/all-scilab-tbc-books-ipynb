{
"cells": [
 {
		   "cell_type": "markdown",
	   "metadata": {},
	   "source": [
       "# Chapter 4: Selection of Motor Power Rating"
	   ]
	},
{
		   "cell_type": "markdown",
		   "metadata": {},
		   "source": [
			"## Example 4.10: continuous_rating.sce"
		   ]
		  },
  {
"cell_type": "code",
	   "execution_count": null,
	   "metadata": {
	    "collapsed": true
	   },
	   "outputs": [],
"source": [
"//Example No. 4.10\n",
"clc;\n",
"clear;\n",
"close;\n",
"format('v',5);\n",
"\n",
"//Given Data : \n",
"T=90;//min\n",
"t=25;//min\n",
"ShortTimeRating=50;//KW\n",
"Eff=80/100;//Efficiency\n",
"//Let full load rating is P KW and Losses=Pc\n",
"//CuLoss=(P/(P*Eff))^2 & alfa=Pc/CuLoss\n",
"alfa=(Eff)^2;//unitless\n",
"S=sqrt(((1+alfa)/(1-exp(-t/T))-alfa));\n",
"ContinuousRating_fl=ShortTimeRating/S;//KW\n",
"disp(ContinuousRating_fl,'Continuous rating of motor in KW : ');"
   ]
   }
,
{
		   "cell_type": "markdown",
		   "metadata": {},
		   "source": [
			"## Example 4.11: half_hour_rating.sce"
		   ]
		  },
  {
"cell_type": "code",
	   "execution_count": null,
	   "metadata": {
	    "collapsed": true
	   },
	   "outputs": [],
"source": [
"//Example No. 4.11\n",
"clc;\n",
"clear;\n",
"close;\n",
"format('v',7);\n",
"\n",
"//Given Data : \n",
"Rating=25;//KW\n",
"T=90;//min\n",
"ts=30;//min\n",
"S=sqrt(1/(1-exp(-ts/T)));\n",
"HalfHourRating=S*Rating;//KW\n",
"disp(HalfHourRating,'Half hour rating of motor in KW : ');\n",
"//Answer wrong in textbook."
   ]
   }
,
{
		   "cell_type": "markdown",
		   "metadata": {},
		   "source": [
			"## Example 4.12: continuous_rating.sce"
		   ]
		  },
  {
"cell_type": "code",
	   "execution_count": null,
	   "metadata": {
	    "collapsed": true
	   },
	   "outputs": [],
"source": [
"//Example No. 4.12\n",
"clc;\n",
"clear;\n",
"close;\n",
"format('v',8);\n",
"\n",
"//Given Data : \n",
"T=60;//min\n",
"t=20;//min\n",
"ShortTimeRating=300;//W\n",
"Eff=80/100;//Efficiency\n",
"//Let full load rating is P KW and Losses=Pc\n",
"//CuLoss=(P/(P*Eff))^2 & alfa=Pc/CuLoss\n",
"alfa=(Eff)^2;//unitless\n",
"S=sqrt(((1+alfa)/(1-exp(-t/T))-alfa));\n",
"ContinuousRating_fl=ShortTimeRating/S;//KW\n",
"disp(ContinuousRating_fl,'Continuous rating of motor in W : ');"
   ]
   }
,
{
		   "cell_type": "markdown",
		   "metadata": {},
		   "source": [
			"## Example 4.13: moment_of_inertia.sce"
		   ]
		  },
  {
"cell_type": "code",
	   "execution_count": null,
	   "metadata": {
	    "collapsed": true
	   },
	   "outputs": [],
"source": [
"//Example No. 4.13\n",
"clc;\n",
"clear;\n",
"close;\n",
"format('v',7);\n",
"\n",
"//Given Data : \n",
"P=6;//poles\n",
"f=50;//Hz\n",
"MoI=9.5;//Kg-m^2\n",
"Tr=550;//N-m\n",
"S=5/100;//Slip\n",
"Tmax=720;//N-m\n",
"T_LH=1020;//N-m\n",
"th=12;//sec\n",
"Tmin=220;//N-m\n",
"Snl=3/100;//No load slip\n",
"Ns=120*f/P;//rpm\n",
"Nnl=Ns-Ns*Snl;//rpm\n",
"Nrated=Ns-Ns*S;//rpm\n",
"omega_mo=Nnl*2*%pi/60;//rad/s\n",
"omega_mr=Nrated*2*%pi/60;//rad/s\n",
"J=[Tr/(omega_mo-omega_mr)]*[th/log((T_LH-Tmin)/(T_LH-Tmax))];//Kg-m^2\n",
"MoI_flywheel=J-MoI;//Kg-m^2\n",
"disp(MoI_flywheel,'Moment of inertia of flywheel in Kg-m^2 : ');\n",
"//Answer in the book is wrong."
   ]
   }
,
{
		   "cell_type": "markdown",
		   "metadata": {},
		   "source": [
			"## Example 4.1: time_constant_and_temperature.sce"
		   ]
		  },
  {
"cell_type": "code",
	   "execution_count": null,
	   "metadata": {
	    "collapsed": true
	   },
	   "outputs": [],
"source": [
"//Example No. 4.1\n",
"clc;\n",
"clear;\n",
"close;\n",
"format('v',6);\n",
"\n",
"//Given Data : \n",
"P=30;//KW\n",
"theta1=30;//degree C\n",
"t1=40;//min\n",
"theta2=45;//degree C\n",
"t2=80;//min(t2=2*t1)\n",
"disp('theta=theta_f*(1-exp(-t/T))');\n",
"//Let exp(-t1/T)=a then exp(-t2/T)=a^2\n",
"//theta1/theta2=(1-a)/(1-a^2)\n",
"//a^2*theta1-a*theta2+theta2-theta1=0\n",
"P=[theta1 -theta2 theta2-theta1];//Polynomial for a\n",
"a=roots(P);\n",
"a=a(2);//discarding value 1 as it cant give value of T\n",
"T=-t1/log(a);//min\n",
"disp(T,'Thermal time constant in min : ');\n",
"theta_f=theta1/(1-exp(-t1/T));//degreeC\n",
"disp(theta_f,'Final temperature rise in degree C : ');"
   ]
   }
,
{
		   "cell_type": "markdown",
		   "metadata": {},
		   "source": [
			"## Example 4.2: temperature_and_time_constant.sce"
		   ]
		  },
  {
"cell_type": "code",
	   "execution_count": null,
	   "metadata": {
	    "collapsed": true
	   },
	   "outputs": [],
"source": [
"//Example No. 4.2\n",
"clc;\n",
"clear;\n",
"close;\n",
"format('v',6);\n",
"\n",
"//Given Data : \n",
"P=30;//KW\n",
"theta1=20;//degree C\n",
"t1=30;//min\n",
"theta2=30;//degree C\n",
"t2=60;//min(t2=2*t1)\n",
"disp('theta=theta_f*(1-exp(-t/T))');\n",
"//Let exp(-t1/T)=x then exp(-t2/T)=x^2\n",
"//theta1/theta2=(1-x)/(1-x^2)\n",
"//x^2*theta1-x*theta2+theta2-theta1=0\n",
"P=[theta1 -theta2 theta2-theta1];//Polynomial for a\n",
"x=roots(P);\n",
"x=x(2);//discarding value 1 as it cant give value of T\n",
"T=-t1/log(x);//min\n",
"disp(T,'Thermal time constant in min : ');\n",
"theta_f=theta1/(1-exp(-t1/T));//degreeC\n",
"disp(theta_f,'Final temperature rise in degree C : ');"
   ]
   }
,
{
		   "cell_type": "markdown",
		   "metadata": {},
		   "source": [
			"## Example 4.3: temperature_heating_and_cooling_time_constant.sce"
		   ]
		  },
  {
"cell_type": "code",
	   "execution_count": null,
	   "metadata": {
	    "collapsed": true
	   },
	   "outputs": [],
"source": [
"//Example No. 4.3\n",
"clc;\n",
"clear;\n",
"close;\n",
"format('v',6);\n",
"\n",
"//Given Data : \n",
"P=30;//KW\n",
"theta1=54-30;//degree C\n",
"t1=1;//hour\n",
"theta2=67-30;//degree C\n",
"t2=2;//hour(t2=2*t1)\n",
"disp('theta=theta_f*(1-exp(-t/T))');\n",
"//Let exp(-t1/T)=a then exp(-t2/T)=a^2\n",
"//theta1/theta2=(1-a)/(1-a^2)\n",
"//a^2*theta1-a*theta2+theta2-theta1=0\n",
"P=[theta1 -theta2 theta2-theta1];//Polynomial for a\n",
"a=roots(P);\n",
"a=a(2);//discarding value 1 as it cant give value of T\n",
"T=-t1/log(a);//hour\n",
"theta_f=theta1/(1-exp(-t1/T));//degreeC\n",
"theta_steady=theta_f+30;//degreeC\n",
"disp(theta_steady,'Final steady state temperature in degree C : ');\n",
"disp(T,'Heating time constant in hour : ');\n",
"theta2=theta_f;//degree C\n",
"t=2.7;//hour\n",
"theta=40-30;//degree C\n",
"Tdash=-t/log(theta/theta2);//hour\n",
"disp(Tdash,'Cooling time constant in hour : ');"
   ]
   }
,
{
		   "cell_type": "markdown",
		   "metadata": {},
		   "source": [
			"## Example 4.4: temperature_rise.sce"
		   ]
		  },
  {
"cell_type": "code",
	   "execution_count": null,
	   "metadata": {
	    "collapsed": true
	   },
	   "outputs": [],
"source": [
"//Example No. 4.4\n",
"clc;\n",
"clear;\n",
"close;\n",
"format('v',6);\n",
"\n",
"//Given Data : \n",
"T=110;//min\n",
"Tdash=150;//min\n",
"t=30;//min\n",
"tdash=45;//min\n",
"theta_f=50;//degree C\n",
"//theta=theta_f-(theta_f-theta1)*exp(-t/T)\n",
"//theta1=theta*exp(-tdash/Tdash);\n",
"theta=(theta_f-theta_f*exp(-t/T))/(1-exp(-tdash/Tdash)*exp(-t/T));//degreeC\n",
"disp(theta,'Maximum temperature rise of the motor in degree C : ');"
   ]
   }
,
{
		   "cell_type": "markdown",
		   "metadata": {},
		   "source": [
			"## Example 4.5: temperature_rise_and_heating_time_constant.sce"
		   ]
		  },
  {
"cell_type": "code",
	   "execution_count": null,
	   "metadata": {
	    "collapsed": true
	   },
	   "outputs": [],
"source": [
"//Example No. 4.5\n",
"clc;\n",
"clear;\n",
"close;\n",
"format('v',6);\n",
"\n",
"//Given Data : \n",
"theta1=20;//degreeC\n",
"theta2=28;//degreeC\n",
"dthetaBYdt1=0.08;//degreeC/min\n",
"dthetaBYdt2=0.06;//degreeC/min\n",
"//theta=theta_f-(theta_f-theta1)*exp(-t/T)\n",
"//dtheta/dt=(theta_f-theta)/T\n",
"//dthetaBYdt1/dthetaBYdt2=(theta_f-theta1)/(theta_f-theta2)\n",
"theta_f=(theta2*dthetaBYdt1-theta1*dthetaBYdt2)/(dthetaBYdt1-dthetaBYdt2)\n",
"disp(theta_f,'Final temperature rise in degree C : ');\n",
"T=(theta_f-theta1)/dthetaBYdt1;//min\n",
"disp(T,'Heating time constant in min : ');"
   ]
   }
,
{
		   "cell_type": "markdown",
		   "metadata": {},
		   "source": [
			"## Example 4.6: proper_size_of_motor.sce"
		   ]
		  },
  {
"cell_type": "code",
	   "execution_count": null,
	   "metadata": {
	    "collapsed": true
	   },
	   "outputs": [],
"source": [
"//Example No. 4.6\n",
"clc;\n",
"clear;\n",
"close;\n",
"format('v',6);\n",
"\n",
"//Given Data : \n",
"cycle1=50;//hp\n",
"t1=20;//sec\n",
"cycle2=100;//hp\n",
"t2=20;//sec\n",
"cycle3=150;//hp\n",
"t3=10;//sec\n",
"cycle4=120;//hp\n",
"t4=20;//sec\n",
"cycle5=0;//hp\n",
"t5=15;//sec\n",
"hp_rms=sqrt((cycle1^2*t1+cycle2^2*t2+cycle3^2*t3+cycle4^2*t4+cycle5^2*t5)/(t1+t2+t3+t4+t5));//hp\n",
"disp(hp_rms,'hp(rms) for the motor : ');\n",
"disp('We should choose 100hp motor.')"
   ]
   }
,
{
		   "cell_type": "markdown",
		   "metadata": {},
		   "source": [
			"## Example 4.7: maximum_temperature_rise.sce"
		   ]
		  },
  {
"cell_type": "code",
	   "execution_count": null,
	   "metadata": {
	    "collapsed": true
	   },
	   "outputs": [],
"source": [
"//Example No. 4.7\n",
"clc;\n",
"clear;\n",
"close;\n",
"format('v',6);\n",
"\n",
"//Given Data : \n",
"t_on=15;//min\n",
"t_off=25;//min\n",
"T=100;//min\n",
"Tdash=140;//min\n",
"theta_f=55;//degree C\n",
"\n",
"//theta=theta_f-(theta_f-theta1)*exp(-t/T)\n",
"//theta1=theta*exp(-tdash/Tdash);\n",
"theta_max=theta_f*[1-exp(-t_on/T)]/(1-exp(-(t_off/Tdash+t_on/T)));//degreeC\n",
"disp(theta_max,'Maximum temperature rise in degree C : ');"
   ]
   }
,
{
		   "cell_type": "markdown",
		   "metadata": {},
		   "source": [
			"## Example 4.8: ratio.sce"
		   ]
		  },
  {
"cell_type": "code",
	   "execution_count": null,
	   "metadata": {
	    "collapsed": true
	   },
	   "outputs": [],
"source": [
"//Example No. 4.8\n",
"clc;\n",
"clear;\n",
"close;\n",
"format('v',6);\n",
"\n",
"//Given Data : \n",
"Rating=100;//KW\n",
"alfa=0.9;//unitless\n",
"ts=20;//min\n",
"T=100;//min\n",
"S=sqrt((1+alfa)/(1-exp(-ts/T)));\n",
"ShortTimeRating=S*Rating;//KW\n",
"disp(ShortTimeRating,'Short time rating in KW : ');\n",
"//Answer is wrong in the textbook."
   ]
   }
,
{
		   "cell_type": "markdown",
		   "metadata": {},
		   "source": [
			"## Example 4.9: time_and_intermittent_periodic_duty_rating.sce"
		   ]
		  },
  {
"cell_type": "code",
	   "execution_count": null,
	   "metadata": {
	    "collapsed": true
	   },
	   "outputs": [],
"source": [
"//Example No. 4.9\n",
"clc;\n",
"clear;\n",
"close;\n",
"format('v',7);\n",
"\n",
"//Given Data : \n",
"T=80;//min\n",
"Tdash=110;//min\n",
"Rating=50;//KW\n",
"ts=15;//min\n",
"S=sqrt(1/(1-exp(-ts/T)));\n",
"ShortTimeRating=S*Rating;//KW\n",
"disp(ShortTimeRating,'Short time rating of motor in KW : ');\n",
"t_off=20;//min\n",
"S=sqrt((1-exp(-(ts/T+t_off/Tdash)))/(1-exp(-(ts/T))))\n",
"DutyRating=S*Rating;//KW\n",
"disp(DutyRating,'Intermittent periodic duty rating in KW : ');"
   ]
   }
],
"metadata": {
		  "kernelspec": {
		   "display_name": "Scilab",
		   "language": "scilab",
		   "name": "scilab"
		  },
		  "language_info": {
		   "file_extension": ".sce",
		   "help_links": [
			{
			 "text": "MetaKernel Magics",
			 "url": "https://github.com/calysto/metakernel/blob/master/metakernel/magics/README.md"
			}
		   ],
		   "mimetype": "text/x-octave",
		   "name": "scilab",
		   "version": "0.7.1"
		  }
		 },
		 "nbformat": 4,
		 "nbformat_minor": 0
}
