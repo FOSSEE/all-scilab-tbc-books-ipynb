{
"cells": [
 {
		   "cell_type": "markdown",
	   "metadata": {},
	   "source": [
       "# Chapter 1: Fundamentals of Electric Drive"
	   ]
	},
{
		   "cell_type": "markdown",
		   "metadata": {},
		   "source": [
			"## Example 1.1: Electrical_Energy_and_Rating.sce"
		   ]
		  },
  {
"cell_type": "code",
	   "execution_count": null,
	   "metadata": {
	    "collapsed": true
	   },
	   "outputs": [],
"source": [
"//Example No. 1.1\n",
"clc;\n",
"clear;\n",
"close;\n",
"format('v',9);\n",
"\n",
"//Given Data : \n",
"J=12;//journey per hour\n",
"Load=5500;//Kg\n",
"t_up=1.5;//min\n",
"W_cage=500;//Kg\n",
"t_down=1.25;//min\n",
"h=50;//m\n",
"Wb=3000;//Kg(Balance weight)\n",
"Eff_hoist=0.8;\n",
"Eff_motor=0.85;\n",
"g=9.81;//gravity constant\n",
"E_upward=(Load+W_cage-Wb)*g*h;//J\n",
"E_downward=(Wb-W_cage)*g*h;//J\n",
"Edj=E_upward+E_downward;//J(Energy used in double journey)\n",
"disp(Edj,'Electrical energy used per journey in J : ');\n",
"Ein=Edj/Eff_hoist/Eff_motor;//J or W-s\n",
"Ein=Ein/1000/3600;//KWh\n",
"Ein_hour=Ein*J;//KWh\n",
"disp(Ein_hour,'Electrical energy consumption in one hour in KWh : ');\n",
"Rating=E_upward/Eff_hoist/t_up/60;//W\n",
"disp(Rating/1000,'Rating of motor in KW : ');"
   ]
   }
],
"metadata": {
		  "kernelspec": {
		   "display_name": "Scilab",
		   "language": "scilab",
		   "name": "scilab"
		  },
		  "language_info": {
		   "file_extension": ".sce",
		   "help_links": [
			{
			 "text": "MetaKernel Magics",
			 "url": "https://github.com/calysto/metakernel/blob/master/metakernel/magics/README.md"
			}
		   ],
		   "mimetype": "text/x-octave",
		   "name": "scilab",
		   "version": "0.7.1"
		  }
		 },
		 "nbformat": 4,
		 "nbformat_minor": 0
}
