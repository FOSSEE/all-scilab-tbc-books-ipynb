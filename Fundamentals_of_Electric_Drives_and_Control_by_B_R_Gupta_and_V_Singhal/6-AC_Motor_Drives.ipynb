{
"cells": [
 {
		   "cell_type": "markdown",
	   "metadata": {},
	   "source": [
       "# Chapter 6: AC Motor Drives"
	   ]
	},
{
		   "cell_type": "markdown",
		   "metadata": {},
		   "source": [
			"## Example 6.10: Starting_Torque.sce"
		   ]
		  },
  {
"cell_type": "code",
	   "execution_count": null,
	   "metadata": {
	    "collapsed": true
	   },
	   "outputs": [],
"source": [
"//Example No. 6.10\n",
"clc;\n",
"clear;\n",
"close;\n",
"format('v',7);\n",
"\n",
"//Given Data : \n",
"\n",
"\n",
"V=400;//volt\n",
"P=4;//pole\n",
"f=50;//Hz\n",
"r1=0.64;//ohm\n",
"r2=0.08;//ohm\n",
"x1=1.1;//ohm\n",
"x2=0.12;//ohm\n",
"T1=40;//N-m\n",
"N=1440;//rpm\n",
"N1=1300;//rpm\n",
"r2dash=r2*2^2;//ohm\n",
"x2dash=x2*2^2;//ohm\n",
"S=r2dash/sqrt(r1^2+(x1+x2dash)^2);//slip\n",
"V1=V/sqrt(3);//volt/phase\n",
"ns=2*f/P;//rps\n",
"Tst=3*V1^2*r2dash/(2*%pi*ns*[(r1+r2dash)^2+(x1+x2dash)^2]);//N-m\n",
"disp(Tst,'Starting torque at 50 Hz in N-m : ');\n",
"f=25;//Hz\n",
"x1=x1/2;//ohm\n",
"x2dash=x2dash/2;//ohm\n",
"V1=V1/2;//volt/phase\n",
"ns=2*f/P;//rps\n",
"Tst=3*V1^2*r2dash/(2*%pi*ns*[(r1+r2dash)^2+(x1+x2dash)^2]);//N-m\n",
"disp(Tst,'Starting torque at 25 Hz in N-m : ');"
   ]
   }
,
{
		   "cell_type": "markdown",
		   "metadata": {},
		   "source": [
			"## Example 6.11: Find_Torque.sce"
		   ]
		  },
  {
"cell_type": "code",
	   "execution_count": null,
	   "metadata": {
	    "collapsed": true
	   },
	   "outputs": [],
"source": [
"//Example No. 6.11\n",
"clc;\n",
"clear;\n",
"close;\n",
"format('v',7);\n",
"\n",
"//Given Data : \n",
"V=400;//volt\n",
"P=4;//pole\n",
"f=50;//Hz\n",
"r2dash=1;//ohm/phase\n",
"//Neglecting r1,x1,x2\n",
"f1=400;//Hz\n",
"S=4/100;//Slip\n",
"t2=1.5;//ms\n",
"t2=t2*10^-3;//sec\n",
"t=1/f1;//sec\n",
"t1=t-t2;//sec\n",
"R=2;//ohm(additional resistance)\n",
"R2dash=(r2dash*t1+(r2dash+R)*t2)/t;//ohm\n",
"V1=V/sqrt(3);//volt\n",
"T=3*V1^2*S/R2dash;//N-m\n",
"disp(T,'Torque in synch.watts : ');"
   ]
   }
,
{
		   "cell_type": "markdown",
		   "metadata": {},
		   "source": [
			"## Example 6.12: Stator_Applied_Voltage.sce"
		   ]
		  },
  {
"cell_type": "code",
	   "execution_count": null,
	   "metadata": {
	    "collapsed": true
	   },
	   "outputs": [],
"source": [
"//Example No. 6.12\n",
"clc;\n",
"clear;\n",
"close;\n",
"format('v',7);\n",
"\n",
"//Given Data : \n",
"V1=400;//volt\n",
"P=4;//pole\n",
"f=50;//Hz\n",
"Sm=10/100;//slip\n",
"S1=0.04;//slip\n",
"N2=900;//rpm\n",
"\n",
"//r2dash=0.01*x2;//ohm/phase\n",
"r2dash=0.01\n",
"r1dash=0.1\n",
"Ns=120*f/P;//rpm\n",
"N1=Ns*(1-S1);//rpm\n",
"S2=(Ns-N2)/Ns;//slip\n",
"T2ByT1=(N2/N1)^2;\n",
"//T=3/(2*%pi*ns)*[V1^2/((rdash/S2)^2+xdash^2)]*(rdash/S2)\n",
"//T2/T1=V2^2/V1^2*S1/S2*[(1+625*r1dash^2)/(1+6.25*r1dash^2)]\n",
"V2=sqrt(T2ByT1*V1^2*S2/S1/[(1+625*r1dash^2)/(1+6.25*r1dash^2)]);//volt\n",
"disp(V2,'Stator applied voltage in volts : ');"
   ]
   }
,
{
		   "cell_type": "markdown",
		   "metadata": {},
		   "source": [
			"## Example 6.13: Find_Torque.sce"
		   ]
		  },
  {
"cell_type": "code",
	   "execution_count": null,
	   "metadata": {
	    "collapsed": true
	   },
	   "outputs": [],
"source": [
"//Example No. 6.13\n",
"clc;\n",
"clear;\n",
"close;\n",
"format('v',7);\n",
"\n",
"//Given Data : \n",
"P=4;//pole\n",
"f=50;//Hz\n",
"S=4/100;//slip\n",
"T=1000;//synch.Watts\n",
"f1=25;//Hz\n",
"Tnew=T*f/f1;//synch.watts\n",
"disp(Tnew,'Torque in synch. Watts : ');"
   ]
   }
,
{
		   "cell_type": "markdown",
		   "metadata": {},
		   "source": [
			"## Example 6.14: Torque_Ratio_and_Current_Ratio.sce"
		   ]
		  },
  {
"cell_type": "code",
	   "execution_count": null,
	   "metadata": {
	    "collapsed": true
	   },
	   "outputs": [],
"source": [
"//Example No. 6.14\n",
"clc;\n",
"clear;\n",
"close;\n",
"format('v',6);\n",
"\n",
"//Given Data : \n",
"P=4;//pole\n",
"f=50;//Hz\n",
"r1=0.04;//ohm\n",
"r1dash=0.04;//ohm\n",
"r2dash=0.04;//ohm\n",
"x1=0.2;//ohm\n",
"x2dash=0.2;//ohm\n",
"f1=20;//Hz\n",
"k=f1/f;//ratio of frequencies\n",
"Tmax20BYTmax50=(r1+sqrt(r1^2+(x1+x2dash)^2))/(r1/k+sqrt((r1/k)^2+(x1+x2dash)^2));\n",
"disp(Tmax20BYTmax50,'Ratio of max torque at 20 Hz to max Torque at 50 Hz : ');\n",
"Tst20BYTst50=((r1+r2dash)^2+(x1+x2dash)^2)/k/((r1/k+r2dash/k)^2+(x1+x2dash)^2);\n",
"disp(Tst20BYTst50,'Ratio of starting torque at 20 Hz to starting Torque at 50 Hz : ');\n",
"//at 20 Hz :\n",
"x11=x1*f1/f;//ohm\n",
"x22dash=x2dash*f1/f;//ohm\n",
"Ir20ByIr50=(f1/f)*[sqrt((r1+r2dash/r1dash)^2+(x1+x2dash)^2)]/[sqrt((r1+r2dash/r1dash)^2+(x11+x22dash)^2)];\n",
"disp(Ir20ByIr50,'Ratio of rotor current at 20 Hz to rotor current  at 50 Hz : ');\n",
"//Answer of rotor current ratio is wrong in the book."
   ]
   }
,
{
		   "cell_type": "markdown",
		   "metadata": {},
		   "source": [
			"## Example 6.15: Find_motor_speed.sce"
		   ]
		  },
  {
"cell_type": "code",
	   "execution_count": null,
	   "metadata": {
	    "collapsed": true
	   },
	   "outputs": [],
"source": [
"//Example No. 6.15\n",
"clc;\n",
"clear;\n",
"close;\n",
"format('v',5);\n",
"\n",
"//Given Data : \n",
"P=4;//pole\n",
"f=50;//Hz\n",
"S=0.04;//slip\n",
"r1=0.04;//ohm\n",
"r1dash=0.04;//ohm\n",
"r2dash=0.04;//ohm\n",
"x1=0.2;//ohm\n",
"x2dash=0.2;//ohm\n",
"f1=30;//Hz\n",
"k=f1/f;//ratio of frequencies\n",
"S1=k*S;//slip\n",
"//For 50 Hz\n",
"//T=3*V1^2*S*r2dash/(2*%pi*ns)/[(S*r1+r2dash)^2+S^2*(x1+x2dash)^2];\n",
"//For 30 Hz\n",
"//T=3*V1^2/(2*%pi*ns)*S/(0.6*S1)/[(S/0.6+S/0.6/S1)^2+S^2];\n",
"//0.16445*S1^2-0.74*S1+0.00445=0\n",
"p=[0.16445 -0.074 0.00445];//polynomial for S1\n",
"S1=roots(p);\n",
"S1=S1(2);//as another value is for unstable region\n",
"Ns=2*f1/P*60;//rpm\n",
"N=Ns-S1*Ns;//rpm\n",
"disp(N,'Motor speed at 30 Hz operation in rpm : ');"
   ]
   }
,
{
		   "cell_type": "markdown",
		   "metadata": {},
		   "source": [
			"## Example 6.16: Average_torque_and_speed.sce"
		   ]
		  },
  {
"cell_type": "code",
	   "execution_count": null,
	   "metadata": {
	    "collapsed": true
	   },
	   "outputs": [],
"source": [
"//Example No. 6.16\n",
"clc;\n",
"clear;\n",
"close;\n",
"format('v',7);\n",
"\n",
"//Given Data : \n",
"P=6;//pole\n",
"f=50;//Hz\n",
"S=0.04;//slip\n",
"Ton=40;//N-m\n",
"Toff=30;//N-m\n",
"t_onBYt_off=1;\n",
"disp('Part(a) : ');\n",
"Ns=2*f/P*60;//rpm\n",
"N=Ns*(1-S);//rpm\n",
"Tavg=(Ton+Toff)/2;//N-m\n",
"disp(Tavg,'Average torque in N-m : ');\n",
"Navg=sqrt((N^2)*Tavg/Ton);//rpm\n",
"disp(Navg,'Average speed in rpm : ');\n",
"disp('Part(b) : ');\n",
"N1=800;//rpm\n",
"T=Ton*(N1/N)^2;//N-m\n",
"Tavg=32;//N-m\n",
"//Tavg=32=(Ton*t_on+T*t_off)/(t_on+t_off);//N-m\n",
"tonBYtoff=(T-Tavg)/(Tavg-Ton);//\n",
"disp(tonBYtoff,'Ratio ton/toff is : ');"
   ]
   }
,
{
		   "cell_type": "markdown",
		   "metadata": {},
		   "source": [
			"## Example 6.17: Value_of_Vdc.sce"
		   ]
		  },
  {
"cell_type": "code",
	   "execution_count": null,
	   "metadata": {
	    "collapsed": true
	   },
	   "outputs": [],
"source": [
"//Example No. 6.17\n",
"clc;\n",
"clear;\n",
"close;\n",
"format('v',7);\n",
"\n",
"//Given Data : \n",
"Vrms=415;//volt\n",
"f=50;//Hz\n",
"Vdc=Vrms/sqrt(1/%pi*integrate('1','t',0,2*%pi/3));\n",
"disp(Vdc,'Value of Vdc in Volts : ');"
   ]
   }
,
{
		   "cell_type": "markdown",
		   "metadata": {},
		   "source": [
			"## Example 6.18: Torque_and_applied_voltage.sce"
		   ]
		  },
  {
"cell_type": "code",
	   "execution_count": null,
	   "metadata": {
	    "collapsed": true
	   },
	   "outputs": [],
"source": [
"//Example No. 6.18\n",
"clc;\n",
"clear;\n",
"close;\n",
"format('v',6);\n",
"\n",
"//Given Data : \n",
"V=400;//volt\n",
"f=50;//Hz\n",
"P=4;//poles\n",
"N1=1350;//rpm\n",
"N2=900;//rpm\n",
"Rs=1.5;//ohm\n",
"R=4;//ohm\n",
"X=4;//ohm\n",
"ns=2*f/P*60;//rpm\n",
"S=(ns-N1)/ns;//slip\n",
"T=3/2/%pi/(ns/60)*[(V/sqrt(3))^2*(P/S)/((Rs+P/S)^2+(R+X)^2)]\n",
"T2=T*(N2/N1)^2;//N-m\n",
"disp(T2,'Torque at 900 rpm in N-m : ');\n",
"Snew=(ns-N2)/ns;//slip\n",
"V=sqrt((T2/3*2*%pi*(ns/60))*((Rs+P/Snew)^2+(R+X)^2)/(P/Snew))*sqrt(3)\n",
"disp(V,'Voltage at speed of 900 rpm in Volts : ');"
   ]
   }
,
{
		   "cell_type": "markdown",
		   "metadata": {},
		   "source": [
			"## Example 6.19: Torque_Speed_Current_and_frequency.sce"
		   ]
		  },
  {
"cell_type": "code",
	   "execution_count": null,
	   "metadata": {
	    "collapsed": true
	   },
	   "outputs": [],
"source": [
"//Example No. 6.19\n",
"clc;\n",
"clear;\n",
"close;\n",
"format('v',7);\n",
"\n",
"//Given Data : \n",
"V=415;//volt\n",
"P=4;//pole\n",
"f=50;//Hz\n",
"N=1370;//rpm\n",
"r1=2;//ohm\n",
"r2dash=3;//ohm\n",
"x1=3.5;//ohm\n",
"x2dash=3.5;//ohm\n",
"X0=55;//ohm\n",
"Ns=120*f/P;//rpm\n",
"S=(Ns-N)/Ns;//slip\n",
"Nfl=Ns-N;//rpm\n",
"disp('Part(a) : ');\n",
"disp(Nfl,'Full load slip speed in rpm : ');\n",
"Z=(r1+%i*x1)+%i*X0*(r2dash/S+%i*x2dash)/(r2dash/S+%i*(X0+x2dash));//ohm\n",
"Istator=V/sqrt(3)/abs(Z);//A\n",
"disp(Istator,'Stator current in A : ');\n",
"I2dash=Istator*(%i*X0/(r2dash/S+%i*(X0+x2dash)));//A\n",
"Tfl=3*abs(I2dash)^2*r2dash/2/%pi/S/(Ns/60);//N-m\n",
"disp(Tfl,'Motor torque in N-m : ');\n",
"disp('Part(b) : ');\n",
"//Torque is equal so stator current will be same.\n",
"disp(Istator,'Stator current in A : ');\n",
"N=1200;//rpm\n",
"Ns=N+Nfl;//rpm\n",
"f_inv=4*Ns/120;//Hz\n",
"disp(f_inv,'Inverter frequency in Hz : ');"
   ]
   }
,
{
		   "cell_type": "markdown",
		   "metadata": {},
		   "source": [
			"## Example 6.1: Speed_and_Torque.sce"
		   ]
		  },
  {
"cell_type": "code",
	   "execution_count": null,
	   "metadata": {
	    "collapsed": true
	   },
	   "outputs": [],
"source": [
"//Example No. 6.1\n",
"clc;\n",
"clear;\n",
"close;\n",
"format('v',7);\n",
"\n",
"//Given Data : \n",
"V=400;//volt\n",
"P=4;//poles\n",
"f=50;//Hz\n",
"Pout=10;//hp\n",
"Pout=Pout*735.5;//W\n",
"Snl=1/100;//No load Slip\n",
"Sfl=4/100;//Full load slip\n",
"Ns=120*f/P;//rpm\n",
"disp(Ns,'Synchronous speed in rpm : ');\n",
"N=Ns*(1-Snl);//rpm\n",
"disp(N,'Speed at no load in rpm : ');\n",
"N=Ns*(1-Sfl);//rpm\n",
"disp(N,'Speed at full load in rpm : ');\n",
"f2=Sfl*f;//Hz\n",
"disp(f2,'Frequency of rotor current at full load in Hz : ');\n",
"omega_n=N*2*%pi/60;//rad/s\n",
"T=Pout/omega_n;//N-m\n",
"disp(T,'Full load Torque in N-m : ');\n",
"//Answer of full load speed in the book is wrong."
   ]
   }
,
{
		   "cell_type": "markdown",
		   "metadata": {},
		   "source": [
			"## Example 6.20_1: Find_Maximum_Torque.sce"
		   ]
		  },
  {
"cell_type": "code",
	   "execution_count": null,
	   "metadata": {
	    "collapsed": true
	   },
	   "outputs": [],
"source": [
"//Example No. 6.20(page no. 205)\n",
"clc;\n",
"clear;\n",
"close;\n",
"format('v',8);\n",
"\n",
"//Given Data : \n",
"Pout=2500;//hp\n",
"V=2300;//volt\n",
"P=20;//pole\n",
"f=50;//Hz\n",
"Xs=1.77;//ohm/phase\n",
"Pout=Pout*735.5/1000;//KW\n",
"V=V/sqrt(3);//Volt/phase\n",
"cos_theta=1;\n",
"I=Pout*10^3/3/V/cos_theta;//A\n",
"Ixs=I*Xs;//V\n",
"E=sqrt(V^2+Ixs^2);//V\n",
"Pout_max=3*V*E/Xs/1000;//KW\n",
"Tmax=Pout_max*1000;//synch. Watts\n",
"ns=2*f/P;//rps\n",
"Tmax=Pout_max*1000/2/%pi/ns;//N-m\n",
"disp(Tmax,'Maximum torque in N-m : ');"
   ]
   }
,
{
		   "cell_type": "markdown",
		   "metadata": {},
		   "source": [
			"## Example 6.20: Find_Motor_Speed.sce"
		   ]
		  },
  {
"cell_type": "code",
	   "execution_count": null,
	   "metadata": {
	    "collapsed": true
	   },
	   "outputs": [],
"source": [
"//Example No. 6.20(page no. 196)\n",
"clc;\n",
"clear;\n",
"close;\n",
"format('v',7);\n",
"\n",
"//Given Data : \n",
"Is=6;//A\n",
"f=40;//Hz\n",
"SlipSpeed=100;//rpm\n",
"V=415;//volt\n",
"P=4;//pole\n",
"r1=2;//ohm\n",
"r2dash=3;//ohm\n",
"x1=3.5;//ohm\n",
"x2dash=3.5;//ohm\n",
"X0=55;//ohm\n",
"N=1370;//rpm\n",
"Ns=120*50/P;//rpm\n",
"S=(Ns-N)/Ns;//slip\n",
"I2dash=Is*X0/abs(r2dash/S+%i*(X0+x2dash));//A\n",
"disp(I2dash,'Rotor current in Ampere : ');\n",
"T=3*I2dash^2*r2dash/(2*%pi*S*(Ns/60));//N-m\n",
"disp(T,'Full  load torque in N-m : ');\n",
"Ns2=120*f/P;//rpm\n",
"MotorSpeed=Ns2-SlipSpeed;//rpm\n",
"disp(MotorSpeed,'Motor speed in rpm : ');"
   ]
   }
,
{
		   "cell_type": "markdown",
		   "metadata": {},
		   "source": [
			"## Example 6.21: Power_Output_Torque_and_Speed.sce"
		   ]
		  },
  {
"cell_type": "code",
	   "execution_count": null,
	   "metadata": {
	    "collapsed": true
	   },
	   "outputs": [],
"source": [
"//Example No. 6.21\n",
"clc;\n",
"clear;\n",
"close;\n",
"format('v',9);\n",
"\n",
"//Given Data : \n",
"Pout=2500;//hp\n",
"V1=2300;//volt\n",
"P=20;//pole\n",
"f=50;//Hz\n",
"Xs=1.77;//ohm/phase\n",
"Pout=Pout*735.5/1000;//KW\n",
"V=V1/sqrt(3);//Volt/phase\n",
"cos_theta=1;\n",
"I=Pout*10^3/3/V/cos_theta;//A\n",
"Ixs=I*Xs;//V\n",
"E=sqrt(V^2+Ixs^2);//V\n",
"del=acosd(V/E);//degree\n",
"Pout=3*V*E/Xs*cosd(del);//W\n",
"disp(Pout,'Part(a) Power output in W : ');\n",
"T=Pout;//synch. Watts\n",
"N=300;//rpm\n",
"ns=N/60;//rps\n",
"T=T/2/%pi/ns;//N-m\n",
"disp(T,'Part(a) Torque in N-m :');\n",
"f1=25;//Hz\n",
"N1=2*f1/P*60;//rpm\n",
"disp(N1,'Part(b) Speed in rpm : ');\n",
"T=T*(N1/N)^2;//N-m\n",
"disp(T,'Part(b) Torque in N-m : ');\n",
"Vapplied=V1*f1/f;//Volts\n",
"disp(Vapplied,'Part(b) Applied voltage in volts : ');\n",
"Pout=T*2*%pi*N1/60;//W\n",
"disp(Pout/1000,'Part(b) Power output in KW : ');"
   ]
   }
,
{
		   "cell_type": "markdown",
		   "metadata": {},
		   "source": [
			"## Example 6.2: Slip_Speed_Power.sce"
		   ]
		  },
  {
"cell_type": "code",
	   "execution_count": null,
	   "metadata": {
	    "collapsed": true
	   },
	   "outputs": [],
"source": [
"//Example No. 6.2\n",
"clc;\n",
"clear;\n",
"close;\n",
"format('v',7);\n",
"\n",
"//Given Data : \n",
"P=6;//poles\n",
"f1=50;//Hz\n",
"Pg=80;//KW\n",
"f2=100;//alternation/min\n",
"f2=f2/60;//Hz\n",
"Ns=120*f1/P;//rpm\n",
"Ns=Ns/60;//rps\n",
"S=f2/f1;//Slip\n",
"disp(S,'Slip is : ');\n",
"N=Ns*(1-S);//rps\n",
"disp(N*60,'Motor speed in rpm : ');\n",
"Pm=Pg*(1-S);//KW\n",
"disp(Pm,'Developed mechanical power in KW : ');\n",
"CuLoss=S*Pg;//KW\n",
"CuLoss_per_phase=CuLoss/3;//KW\n",
"disp(CuLoss_per_phase*1000,'Rotor Copper Loss per phase in W : ');\n",
"I2=65;//A\n",
"r2=CuLoss_per_phase*1000/I2^2;//ohm/phase\n",
"disp(r2,'Rotor resistance per phase in ohm : ');\n",
"T=Pg*1000/2/%pi/Ns;//N-m\n",
"disp(T,'Torque developed in N-m : ');"
   ]
   }
,
{
		   "cell_type": "markdown",
		   "metadata": {},
		   "source": [
			"## Example 6.3: Poles_Slip_and_Copper_Loss.sce"
		   ]
		  },
  {
"cell_type": "code",
	   "execution_count": null,
	   "metadata": {
	    "collapsed": true
	   },
	   "outputs": [],
"source": [
"//Example No. 6.3\n",
"clc;\n",
"clear;\n",
"close;\n",
"format('v',7);\n",
"\n",
"//Given Data : \n",
"N=288;//rpm\n",
"f=50;//Hz\n",
"CuLoss=275;//W\n",
"Ns=300;//rpm(For S=0.03:0.05)\n",
"P=120*f/Ns;//poles\n",
"disp(P,'No. of poles : ');\n",
"S=(Ns-N)/Ns;//Slip\n",
"disp(S,'Slip : ');\n",
"S=2*S;//(as rotor reistance doubled, slip is doubled)\n",
"disp(S,'Slip for full load if rotor resiatance doubled : ');\n",
"//CuLoss=I2^2*r2\n",
"CuLoss=2*CuLoss;//KW(rotor resiatance doubled & current constant)\n",
"disp(CuLoss,'New value of rotor copper loss in watt : ');"
   ]
   }
,
{
		   "cell_type": "markdown",
		   "metadata": {},
		   "source": [
			"## Example 6.4: Applied_voltage_and_starting_current.sce"
		   ]
		  },
  {
"cell_type": "code",
	   "execution_count": null,
	   "metadata": {
	    "collapsed": true
	   },
	   "outputs": [],
"source": [
"//Example No. 6.4\n",
"clc;\n",
"clear;\n",
"close;\n",
"format('v',6);\n",
"\n",
"//Given Data : \n",
"T_directStartBYTfl=1.5;//ratio\n",
"K=sqrt(T_directStartBYTfl);//Ratio of full load torque to starting torque direct starting\n",
"//Vapplied=1/K*Vline\n",
"VappliedBYVline=1/K;\n",
"disp('Applied voltage is '+string(VappliedBYVline)+' times of Line voltage.');\n",
"LineCurrentBYIfl=1/K^2*4;//V\n",
"disp('Line current at starting is '+string(LineCurrentBYIfl)+' times of full load current.');"
   ]
   }
,
{
		   "cell_type": "markdown",
		   "metadata": {},
		   "source": [
			"## Example 6.5: Motor_current_Line_Current_and_Torque_Ratio.sce"
		   ]
		  },
  {
"cell_type": "code",
	   "execution_count": null,
	   "metadata": {
	    "collapsed": true
	   },
	   "outputs": [],
"source": [
"//Example No. 6.5\n",
"clc;\n",
"clear;\n",
"close;\n",
"format('v',6);\n",
"\n",
"//Given Data : \n",
"Ist=300;//A\n",
"X=50/100;//tapping\n",
"Imotor=X*Ist;//A\n",
"disp(Imotor,'Motor current in A : ');\n",
"Iline=X^2*Ist;//A\n",
"disp(Iline,'Line current in A : ');\n",
"ratio=X^2;//Ratio of starting Torque 50% tapping to full voltage torque\n",
"disp(ratio,'Ratio of starting Torque 50% tapping to full voltage torque : ');"
   ]
   }
,
{
		   "cell_type": "markdown",
		   "metadata": {},
		   "source": [
			"## Example 6.6: Braking_Current_and_Torque.sce"
		   ]
		  },
  {
"cell_type": "code",
	   "execution_count": null,
	   "metadata": {
	    "collapsed": true
	   },
	   "outputs": [],
"source": [
"//Example No. 6.6\n",
"clc;\n",
"clear;\n",
"close;\n",
"format('v',6);\n",
"\n",
"//Given Data : \n",
"V=400;//volt\n",
"P=8;//pole\n",
"f=50;//Hz\n",
"r1=1.2;//ohm\n",
"r2dash=1.2;//ohm\n",
"x1=2.5;//ohm\n",
"x2dash=2.5;//ohm\n",
"N=720;//rpm\n",
"Ns=120*f/P;//rpm\n",
"S=(Ns-N)/Ns;//full load slip\n",
"S2=2-S;//Slip during plugging\n",
"V1=V/sqrt(3);//V\n",
"I2dash=V1/sqrt((r1+r2dash/S2)^2+(x1+x2dash)^2);//A(Initial braking current)\n",
"disp(I2dash,'Initial Braking current in A : ');\n",
"Ifl=V1/sqrt((r1+r2dash/S)^2+(x1+x2dash)^2);//A(Full load current)\n",
"RatioCurrent=I2dash/Ifl;//ratio of initial braking current to full load current\n",
"disp('Braking curent is '+string(RatioCurrent)+' times of full  load current.');\n",
"Tfl=3*Ifl^2*r1/(2*%pi*S*Ns/60);//N-m\n",
"T2dash=3*I2dash^2*r2dash/(2*%pi*S2*Ns/60);//N-m(initail braking T)\n",
"disp(T2dash,'Initial Braking torque in N-m : ');\n",
"RatioT=T2dash/Tfl;//ratio of initial braking Torque to full load Torque\n",
"disp('Braking Torque is '+string(RatioT)+' times of full  load Torque.');\n",
"//Let R be the additional resistance\n",
"I2dash=2*Ifl;//A\n",
"//I2dash=V1/sqrt((r1+r2dash/S2+R/S2)^2+(x1+x2dash)^2);//A(Initial braking current)\n",
"R=(sqrt(V1^2/I2dash^2-(x1+x2dash)^2)-r1-r2dash/S2)*S2;//in ohm\n",
"Ractual=R/2^2;//ohm\n",
"disp(Ractual,'Actual additional rotor resistance per phase in ohm : ');\n",
"T_braking=3*I2dash^2*(r2dash+R)/(2*%pi*S2*Ns/60);//N-m(initail braking T)\n",
"disp(T_braking,'Braking torque in N-m : ');\n",
"TbBYTfl=T_braking/T2dash;//ratio\n",
"disp(TbBYTfl,'Ratio o f braking torque to full load torque : ');"
   ]
   }
,
{
		   "cell_type": "markdown",
		   "metadata": {},
		   "source": [
			"## Example 6.7: Starting_Time_and_Energy.sce"
		   ]
		  },
  {
"cell_type": "code",
	   "execution_count": null,
	   "metadata": {
	    "collapsed": true
	   },
	   "outputs": [],
"source": [
"//Example No. 6.7\n",
"clc;\n",
"clear;\n",
"close;\n",
"format('v',6);\n",
"\n",
"//Given Data : \n",
"V=400;//volt\n",
"P=8;//pole\n",
"f=50;//Hz\n",
"r1=0.1;//ohm\n",
"r2dash=0.1;//ohm\n",
"x1=0.4;//ohm\n",
"x2dash=0.4;//ohm\n",
"J=10;//Kg-m^2\n",
"Sm=r2dash/sqrt(r1^2+(x1+x2dash)^2)\n",
"Ns=2*f/P;//rps\n",
"omega_ms=2*%pi*Ns;//rad/s\n",
"V1=V/sqrt(3);//V\n",
"Tmax=1.5*V1^2/(2*%pi*Ns)*[1/(r1+sqrt(r2dash^2+(2*x2dash)^2))];//N-m\n",
"tau_m=J*omega_ms/Tmax;//sec\n",
"ts=tau_m*(1.5*Sm+0.25/Sm);//sec\n",
"disp(ts,'Starting time in sec : ');\n",
"E=0.5*J*omega_ms^2;//Watt-s\n",
"Etot=2*E;//Watts-s\n",
"disp(Etot/1000,'Energy dissipated during starting in KW-s : ');\n",
"tb=tau_m*(0.7/Sm+0.334*Sm);//sec\n",
"disp(tb,'Pluggingfg time in sec : ' );\n",
"E=1.4*J*omega_ms^2;//Watt-s\n",
"E=2*E/1000;//KW-s(taking cU loss into account)\n",
"disp(E,'Energy dissipated during plugging in KW-s : ');"
   ]
   }
,
{
		   "cell_type": "markdown",
		   "metadata": {},
		   "source": [
			"## Example 6.8: Torque_Current_and_Voltage.sce"
		   ]
		  },
  {
"cell_type": "code",
	   "execution_count": null,
	   "metadata": {
	    "collapsed": true
	   },
	   "outputs": [],
"source": [
"//Example No. 6.8\n",
"clc;\n",
"clear;\n",
"close;\n",
"format('v',6);\n",
"\n",
"//Given Data : \n",
"V=400;//volt\n",
"P=4;//pole\n",
"f=50;//Hz\n",
"r1=0.64;//ohm\n",
"r2=0.08;//ohm\n",
"x1=1.1;//ohm\n",
"x2=0.12;//ohm\n",
"T1=40;//N-m\n",
"N=1440;//rpm\n",
"n=2*f/P;//rps\n",
"n=n*60;//rpm\n",
"N1=1300;//rpm\n",
"Tload=T1*(N1/N)^2;//N-m\n",
"disp(Tload,'Load torque in N-m : ');\n",
"S=(n-N1)/n;//slip\n",
"r2dash=r2*2^2;//ohm\n",
"x2dash=x2*2^2;//ohm\n",
"//Tload=3*I2dash^2*r2dash/(2*%pi*S*n/60)\n",
"I2dash=sqrt(Tload/3/r2dash*(2*%pi*S*n/60));//A\n",
"I2=2*I2dash;//A\n",
"disp(I2,'Rotor current in A : ');\n",
"I1=I2dash;//A\n",
"V1=I1*(r1+r2dash+r2dash*(1-S)/S+%i*(x1+x2dash));//Vplt\n",
"StatorVoltage=abs(V1)*sqrt(3);//Volt\n",
"disp(StatorVoltage,'Stator Applied Voltage in V : ');"
   ]
   }
,
{
		   "cell_type": "markdown",
		   "metadata": {},
		   "source": [
			"## Example 6.9: Slip_for_max_Torque.sce"
		   ]
		  },
  {
"cell_type": "code",
	   "execution_count": null,
	   "metadata": {
	    "collapsed": true
	   },
	   "outputs": [],
"source": [
"//Example No. 6.9\n",
"clc;\n",
"clear;\n",
"close;\n",
"format('v',7);\n",
"\n",
"//Given Data : \n",
"V=400;//volt\n",
"P=4;//pole\n",
"f=50;//Hz\n",
"r1=0.64;//ohm\n",
"r2=0.08;//ohm\n",
"x1=1.1;//ohm\n",
"x2=0.12;//ohm\n",
"T1=40;//N-m\n",
"N=1440;//rpm\n",
"N1=1300;//rpm\n",
"r2dash=r2*2^2;//ohm\n",
"x2dash=x2*2^2;//ohm\n",
"S=r2dash/sqrt(r1^2+(x1+x2dash)^2);//slip\n",
"disp(S,'Slip for maximum torque at 50 Hz : ');\n",
"V1=V/sqrt(3);//volt/phase\n",
"ns=2*f/P;//rps\n",
"Tmax=1.5*V1^2/(2*%pi*ns)*[1/(r1+sqrt(r1^2+(x1+x2dash)^2))];//Nm\n",
"disp(Tmax,'Maximum torque at 50 Hz in N-m : ');\n",
"n=ns*(1-S);//rps\n",
"N=n*60;//rpm\n",
"disp(N,'Speed at 50 Hz in rpm : ');\n",
"f=25;//Hz\n",
"x1=x1/2;//ohm\n",
"x2dash=x2dash/2;//ohm\n",
"S=r2dash/sqrt(r1^2+(x1+x2dash)^2);//slip\n",
"disp(S,'Slip for maximum torque at 25 Hz : ');\n",
"V1=V1/2;//volt/phase\n",
"ns=2*f/P;//rps\n",
"Tmax=1.5*V1^2/(2*%pi*ns)*[1/(r1+sqrt(r1^2+(x1+x2dash)^2))];//Nm\n",
"disp(Tmax,'Maximum torque at 25 Hz in N-m : ');\n",
"n=ns*(1-S);//rps\n",
"N=n*60;//rpm\n",
"disp(N,'Speed at 25 Hz in rpm : ');"
   ]
   }
],
"metadata": {
		  "kernelspec": {
		   "display_name": "Scilab",
		   "language": "scilab",
		   "name": "scilab"
		  },
		  "language_info": {
		   "file_extension": ".sce",
		   "help_links": [
			{
			 "text": "MetaKernel Magics",
			 "url": "https://github.com/calysto/metakernel/blob/master/metakernel/magics/README.md"
			}
		   ],
		   "mimetype": "text/x-octave",
		   "name": "scilab",
		   "version": "0.7.1"
		  }
		 },
		 "nbformat": 4,
		 "nbformat_minor": 0
}
