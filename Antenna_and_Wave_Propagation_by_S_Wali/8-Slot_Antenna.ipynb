{
"cells": [
 {
		   "cell_type": "markdown",
	   "metadata": {},
	   "source": [
       "# Chapter 8: Slot Antenna"
	   ]
	},
{
		   "cell_type": "markdown",
		   "metadata": {},
		   "source": [
			"## Example 8.3_1: Input_Impedence.sce"
		   ]
		  },
  {
"cell_type": "code",
	   "execution_count": null,
	   "metadata": {
	    "collapsed": true
	   },
	   "outputs": [],
"source": [
"//Example No. 8.3.1\n",
"clc;\n",
"clear;\n",
"close;\n",
"format('v',7);\n",
"Zcs=73+%i*42.5;//Ω(Impedence of complementry structure)\n",
"Eta=120*%pi;//(Constant for free space)\n",
"ZS=Eta^2/4/Zcs;//Ω(Input Impedence)\n",
"disp(ZS,'Input impedence in Ω : ');\n",
"//At resonance\n",
"Zcs=73;//Ω(Impedence of complementry structure)\n",
"Eta=120*%pi;//(Constant for free space)\n",
"ZS=Eta^2/4/Zcs;//Ω(Input Impedence)\n",
"disp(ZS,'At resonance, Input impedence in Ω  : ');\n",
"disp('ZS can be rounded to 500 Ω');"
   ]
   }
],
"metadata": {
		  "kernelspec": {
		   "display_name": "Scilab",
		   "language": "scilab",
		   "name": "scilab"
		  },
		  "language_info": {
		   "file_extension": ".sce",
		   "help_links": [
			{
			 "text": "MetaKernel Magics",
			 "url": "https://github.com/calysto/metakernel/blob/master/metakernel/magics/README.md"
			}
		   ],
		   "mimetype": "text/x-octave",
		   "name": "scilab",
		   "version": "0.7.1"
		  }
		 },
		 "nbformat": 4,
		 "nbformat_minor": 0
}
