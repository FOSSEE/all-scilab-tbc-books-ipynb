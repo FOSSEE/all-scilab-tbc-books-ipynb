{
"cells": [
 {
		   "cell_type": "markdown",
	   "metadata": {},
	   "source": [
       "# Chapter 4: Linear Wire Antennas"
	   ]
	},
{
		   "cell_type": "markdown",
		   "metadata": {},
		   "source": [
			"## Example 4.2_1: Er_Etheta_and_Hfi.sce"
		   ]
		  },
  {
"cell_type": "code",
	   "execution_count": null,
	   "metadata": {
	    "collapsed": true
	   },
	   "outputs": [],
"source": [
"//Example No. 4.2.1\n",
"clc;\n",
"clear;\n",
"close;\n",
"format('v',7);\n",
"l=5;//cm(length of antenna)\n",
"f=100;//MHz(operating frequency)\n",
"Io=120;//mA(Terminal current)\n",
"t=1;//s(time)\n",
"theta=45;//degree(Angle)\n",
"r=3;//m(radius)\n",
"c=3*10^8;//m/s////Speed of light\n",
"omega=2*%pi*f*10^6;//rad/sec(rotation)\n",
"k=omega/c;//rad/m(Phase constant)\n",
"kr=2*%pi*r/3;//degree(Phase constant)\n",
"Er=Io*10^-3*l*10^-2/(2*%pi*r^2)*cosd(theta)*120*%pi*[1+1/(%i*kr)]*exp(-%i*kr+%i*omega*t);//V/m(Electric field)\n",
"Er=Er*1000;//mV/m(Electric field)\n",
"Er_mag=abs(Er);//mV/m(magnitude of Er)\n",
"Er_angle=atand(imag(Er),real(Er));//degree(angle of Er)\n",
"disp(Er_angle,Er_mag,'Value of Er : magnitude(mV/m) and angle in degree : ');\n",
"Etheta=Io*10^-3*l*10^-2/(4*%pi*r)*sind(theta)*120*%pi*%i*k*[1+1/(%i*kr)+1/(%i*kr)^2]*exp(-%i*kr+%i*omega*t);//V/m(Electric field)\n",
"Etheta_mag=abs(Etheta);//V/m(magnitude of Etheta)\n",
"Etheta_angle=atand(imag(Etheta),real(Etheta));//degree(angle of Etheta)\n",
"disp(Etheta_angle,Etheta_mag,'Value of Etheta : magnitude(V/m) and angle in degree : ');\n",
"Hfi=Io*10^-3*l*10^-2/(4*%pi*r)*sind(theta)*%i*k*[1+1/(%i*kr)]*exp(-%i*kr+%i*omega*t);//A/m(Magnetic field)\n",
"Hfi_mag=abs(Hfi);//A/m(magnitude of Hfi)\n",
"Hfi_angle=atand(imag(Hfi),real(Hfi));//degree(angle of Hfi)\n",
"disp(Hfi_angle,Hfi_mag,'Value of HΦ : magnitude(A/m) and angle in degree : ');\n",
"//Answer is not accurate in the book."
   ]
   }
,
{
		   "cell_type": "markdown",
		   "metadata": {},
		   "source": [
			"## Example 4.5_1: Effective_area.sce"
		   ]
		  },
  {
"cell_type": "code",
	   "execution_count": null,
	   "metadata": {
	    "collapsed": true
	   },
	   "outputs": [],
"source": [
"//Example No. 4.5.1\n",
"clc;\n",
"clear;\n",
"close;\n",
"format('v',6);\n",
"f=500;//MHz(Operating Frequency)\n",
"Do=1.643;//for half wave dipole\n",
"c=3*10^8;//m/s////Speed of light\n",
"lambda=c/(f*10^6);//m(Wavelength)\n",
"Aem=lambda^2/(4*%pi)*Do;//m²(Effective area)\n",
"disp(Aem,'Effective area in m² : ');"
   ]
   }
,
{
		   "cell_type": "markdown",
		   "metadata": {},
		   "source": [
			"## Example 4.6_1: Current_required.sce"
		   ]
		  },
  {
"cell_type": "code",
	   "execution_count": null,
	   "metadata": {
	    "collapsed": true
	   },
	   "outputs": [],
"source": [
"//Example No. 4.6.1\n",
"clc;\n",
"clear;\n",
"close;\n",
"format('v',6);\n",
"\n",
"l=1;//m\n",
"Prad=4;//W\n",
"f=1.5;//MHz\n",
"c=3*10^8;//m/s////Speed of light\n",
"lambda=c/(f*10^6);//m\n",
"//here l/lambda<1/50 tells us it is a Hertzian monopole antenna\n",
"h=1;//m\n",
"Rr=40*%pi^2*(h/lambda)^2;//mΩ\n",
"Io=sqrt(2*Prad/Rr);//A\n",
"disp(Io,'Current required in A : ');"
   ]
   }
,
{
		   "cell_type": "markdown",
		   "metadata": {},
		   "source": [
			"## Example 4.9_1: Power_radiated.sce"
		   ]
		  },
  {
"cell_type": "code",
	   "execution_count": null,
	   "metadata": {
	    "collapsed": true
	   },
	   "outputs": [],
"source": [
"//Example No. 4.9.1\n",
"clc;\n",
"clear;\n",
"close;\n",
"format('v',6);\n",
"\n",
"le=100;//m\n",
"Irms=450;//A\n",
"f=40000;//Hz\n",
"c=3*10^8;//m/s////Speed of light\n",
"lambda=c/f;//m\n",
"P=160*%pi^2*(le/lambda)^2*Irms^2;//mW\n",
"Rr=160*%pi^2*(le/lambda)^2;//Ω\n",
"disp(P*10^-3,'Power radiated in W : ');\n",
"disp(Rr,'Radiation resistance in Ω : ');\n",
"//Answer wrong for radiation resistance in the book."
   ]
   }
,
{
		   "cell_type": "markdown",
		   "metadata": {},
		   "source": [
			"## Example 4.9_2: Radiation_resistance_and_power.sce"
		   ]
		  },
  {
"cell_type": "code",
	   "execution_count": null,
	   "metadata": {
	    "collapsed": true
	   },
	   "outputs": [],
"source": [
"//Example No. 4.9.2\n",
"clc;\n",
"clear;\n",
"close;\n",
"format('v',6);\n",
"\n",
"le=61.4;//m\n",
"Irms=50;//A\n",
"lambda=625;//m\n",
"P=160*%pi^2*(le/lambda)^2*Irms^2;//kW\n",
"Rr=160*%pi^2*(le/lambda)^2;//Ω\n",
"disp(P*10^-3,'Power radiated in kW : ');\n",
"disp(Rr,'Radiation resistance in Ω : ');"
   ]
   }
,
{
		   "cell_type": "markdown",
		   "metadata": {},
		   "source": [
			"## Example 4.9_3: Power_radiated_and_efficiency.sce"
		   ]
		  },
  {
"cell_type": "code",
	   "execution_count": null,
	   "metadata": {
	    "collapsed": true
	   },
	   "outputs": [],
"source": [
"//Example No. 4.9.3\n",
"clc;\n",
"clear;\n",
"close;\n",
"format('v',5);\n",
"le=10;//m(effective length)\n",
"Irms=450;//A(rms current)\n",
"Rl=1.5;//Ω(resistance)\n",
"f=50;//kHz(Operating frequency)\n",
"c=3*10^8;//m/s////Speed of light\n",
"lambda=c/(f*10^3);//m(Wavelength)\n",
"P=160*%pi^2*(le/lambda)^2*Irms^2;//kW(Power)\n",
"P=P*1000;//W(Power)\n",
"Rr=160*%pi^2*(le/lambda)^2;//Ω(Radiation resistance)\n",
"Eta=Rr/(Rr+Rl)*100;//%(Efficiency)\n",
"disp(Eta,'Efficiency of antenna in % : ');"
   ]
   }
,
{
		   "cell_type": "markdown",
		   "metadata": {},
		   "source": [
			"## Example 4.9_4: Radiation_Resistance.sce"
		   ]
		  },
  {
"cell_type": "code",
	   "execution_count": null,
	   "metadata": {
	    "collapsed": true
	   },
	   "outputs": [],
"source": [
"//Example No. 4.9.4\n",
"clc;\n",
"clear;\n",
"close;\n",
"format('v',6);\n",
"//l=lambda/8\n",
"lBYlambda=1/8;//(length/Wavelength)\n",
"Rr=80*%pi^2*(lBYlambda)^2;//Ω(Radiation resistance)\n",
"disp(Rr,'Radiation resistance in Ω : ');"
   ]
   }
,
{
		   "cell_type": "markdown",
		   "metadata": {},
		   "source": [
			"## Example 4.9_5: Radiation_Resistance.sce"
		   ]
		  },
  {
"cell_type": "code",
	   "execution_count": null,
	   "metadata": {
	    "collapsed": true
	   },
	   "outputs": [],
"source": [
"//Example No. 4.9.5\n",
"clc;\n",
"clear;\n",
"close;\n",
"format('v',6);\n",
"L=1;//m(Length of element)\n",
"f=10;//MHz(Operating frequency)\n",
"c=3*10^8;//m/s////Speed of light\n",
"lambda=c/(f*10^6);//m(Wavelength)\n",
"Rr=80*%pi^2*(L/lambda)^2;//Ω(Radiation resistance)\n",
"disp(Rr,'Radiation resistance in Ω : ');"
   ]
   }
],
"metadata": {
		  "kernelspec": {
		   "display_name": "Scilab",
		   "language": "scilab",
		   "name": "scilab"
		  },
		  "language_info": {
		   "file_extension": ".sce",
		   "help_links": [
			{
			 "text": "MetaKernel Magics",
			 "url": "https://github.com/calysto/metakernel/blob/master/metakernel/magics/README.md"
			}
		   ],
		   "mimetype": "text/x-octave",
		   "name": "scilab",
		   "version": "0.7.1"
		  }
		 },
		 "nbformat": 4,
		 "nbformat_minor": 0
}
