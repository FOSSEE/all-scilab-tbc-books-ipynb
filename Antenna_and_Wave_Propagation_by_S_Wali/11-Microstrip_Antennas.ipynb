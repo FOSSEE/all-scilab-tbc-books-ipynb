{
"cells": [
 {
		   "cell_type": "markdown",
	   "metadata": {},
	   "source": [
       "# Chapter 11: Microstrip Antennas"
	   ]
	},
{
		   "cell_type": "markdown",
		   "metadata": {},
		   "source": [
			"## Example 11.9_1: Determine_physical_dimensions.sce"
		   ]
		  },
  {
"cell_type": "code",
	   "execution_count": null,
	   "metadata": {
	    "collapsed": true
	   },
	   "outputs": [],
"source": [
"//Example No. 11.9.1\n",
"clc;\n",
"clear;\n",
"close;\n",
"format('v',7);\n",
"fr=10;//GHz(center frequency)\n",
"fr=fr*10^9;//Hz(center frequency)\n",
"epsilon_r=10.2;//(constant)\n",
"h=0.127;//cm(height of sustrate)\n",
"c=3*10^10;//cm/s(Speed of light)\n",
"W=c/2/fr*sqrt(2/(epsilon_r+1));//cm(Physical dimension)\n",
"epsilon_reff=(epsilon_r+1)/2+(epsilon_r-1)/2*[1+12*h/W]^(-1/2);//(effective constant)\n",
"delta_L=h*0.412*(epsilon_reff+0.3)*(W/h+0.264)/[(epsilon_reff-0.258)*(W/h+0.8)];//cm(distance)\n",
"L=c/2/fr/sqrt(epsilon_reff)-2*delta_L;//cm(distance)\n",
"disp(L,W,'Design values of W & L(in cm) are :  ');"
   ]
   }
],
"metadata": {
		  "kernelspec": {
		   "display_name": "Scilab",
		   "language": "scilab",
		   "name": "scilab"
		  },
		  "language_info": {
		   "file_extension": ".sce",
		   "help_links": [
			{
			 "text": "MetaKernel Magics",
			 "url": "https://github.com/calysto/metakernel/blob/master/metakernel/magics/README.md"
			}
		   ],
		   "mimetype": "text/x-octave",
		   "name": "scilab",
		   "version": "0.7.1"
		  }
		 },
		 "nbformat": 4,
		 "nbformat_minor": 0
}
