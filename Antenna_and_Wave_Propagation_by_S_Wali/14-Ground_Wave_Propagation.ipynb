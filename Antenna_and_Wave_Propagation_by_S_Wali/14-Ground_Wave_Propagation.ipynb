{
"cells": [
 {
		   "cell_type": "markdown",
	   "metadata": {},
	   "source": [
       "# Chapter 14: Ground Wave Propagation"
	   ]
	},
{
		   "cell_type": "markdown",
		   "metadata": {},
		   "source": [
			"## Example 14.10_1: Calculate_the_range.sce"
		   ]
		  },
  {
"cell_type": "code",
	   "execution_count": null,
	   "metadata": {
	    "collapsed": true
	   },
	   "outputs": [],
"source": [
"//Example No. 14.10.1\n",
"clc;\n",
"clear;\n",
"close;\n",
"format('v',7);\n",
"ht=100;//m(transmitter height)\n",
"hr=100;//m(receiver height)\n",
"d=3.57*[sqrt(ht)+sqrt(hr)];//km(Range)\n",
"disp(d,'Range of space wave propagation in km : ');"
   ]
   }
,
{
		   "cell_type": "markdown",
		   "metadata": {},
		   "source": [
			"## Example 14.10_2: Radio_horizo.sce"
		   ]
		  },
  {
"cell_type": "code",
	   "execution_count": null,
	   "metadata": {
	    "collapsed": true
	   },
	   "outputs": [],
"source": [
"//Example No. 14.10.2\n",
"clc;\n",
"clear;\n",
"close;\n",
"format('v',6);\n",
"ht=100;//feet(transmitter height)\n",
"hr=50;//feet(receiver height)\n",
"d=1.4142*[sqrt(ht)+sqrt(hr)];//miles(Range)\n",
"disp(d,'Radio horizon in miles : ');"
   ]
   }
,
{
		   "cell_type": "markdown",
		   "metadata": {},
		   "source": [
			"## Example 14.10_3: Maximum_covered_distance.sce"
		   ]
		  },
  {
"cell_type": "code",
	   "execution_count": null,
	   "metadata": {
	    "collapsed": true
	   },
	   "outputs": [],
"source": [
"//Example No. 14.10.3\n",
"clc;\n",
"clear;\n",
"close;\n",
"format('v',6);\n",
"ht=80;//m(transmitter height)\n",
"hr=50;//m(receiver height)\n",
"d=4.12*[sqrt(ht)+sqrt(hr)];//km(Range)\n",
"disp(d,'Maximum distance in km : ');"
   ]
   }
,
{
		   "cell_type": "markdown",
		   "metadata": {},
		   "source": [
			"## Example 14.10_4: Required_height_of_antenna.sce"
		   ]
		  },
  {
"cell_type": "code",
	   "execution_count": null,
	   "metadata": {
	    "collapsed": true
	   },
	   "outputs": [],
"source": [
"//Example No. 14.10.4\n",
"clc;\n",
"clear;\n",
"close;\n",
"format('v',6);\n",
"ht=100;//m(transmitter height)\n",
"d=80;//km(receiver height)\n",
"hr=(d/4.12-sqrt(ht))^2;//m(range)\n",
"disp(hr,'Required height of receiving antenna in meter : ');"
   ]
   }
,
{
		   "cell_type": "markdown",
		   "metadata": {},
		   "source": [
			"## Example 14.10_5: Radio_horizon_distance.sce"
		   ]
		  },
  {
"cell_type": "code",
	   "execution_count": null,
	   "metadata": {
	    "collapsed": true
	   },
	   "outputs": [],
"source": [
"//Example No. 14.10.5\n",
"clc;\n",
"clear;\n",
"close;\n",
"format('v',6);\n",
"ht=100;//m(transmitter height)\n",
"d=4.12*sqrt(ht);//km(Horizon distance)\n",
"disp(d,'Horizon distance in km : ');"
   ]
   }
,
{
		   "cell_type": "markdown",
		   "metadata": {},
		   "source": [
			"## Example 14.10_6: Find_Distance_and_field_strength.sce"
		   ]
		  },
  {
"cell_type": "code",
	   "execution_count": null,
	   "metadata": {
	    "collapsed": true
	   },
	   "outputs": [],
"source": [
"//Example No. 14.10.6\n",
"clc;\n",
"clear;\n",
"close;\n",
"format('v',6);\n",
"P=35;//W(Transmitter power\n",
"ht=45;//m(transmitter height)\n",
"hr=25;//m(receiver height)\n",
"f=90;//MHz(frequency)\n",
"c=3*10^8;//m/s(Speed of light)\n",
"d=4.12*[sqrt(ht)+sqrt(hr)];//km(line of sight distance)\n",
"disp(d,'Distance of line of sight communication in km : ');\n",
"lambda=c/(f*10^6);//m(Wavelength)\n",
"ER=88*sqrt(P)*ht*hr/(lambda*(d*1000)^2);//V/m(Field strength)\n",
"disp(ER*10^6,'Field strength in micro Volt/meter : ');\n",
"//Answer is wrong in the textbook."
   ]
   }
,
{
		   "cell_type": "markdown",
		   "metadata": {},
		   "source": [
			"## Example 14.6_1: Loss_and_power_received.sce"
		   ]
		  },
  {
"cell_type": "code",
	   "execution_count": null,
	   "metadata": {
	    "collapsed": true
	   },
	   "outputs": [],
"source": [
"//Example No. 14.6.1\n",
"clc;\n",
"clear;\n",
"close;\n",
"format('v',7);\n",
"d=36000;//km(height of satellite)\n",
"f=4000;//MHz(frequency)\n",
"GT=20;//dB(Transmitter gain)\n",
"GR=40;//dB(Reciever gain)\n",
"PT=200;//W(Transmitted power)\n",
"PT=10*log10(PT);//dB(Transmitted power)\n",
"disp('Part (i)');\n",
"Ls=32.44+20*log10(f)+20*log10(d);//dB(Free space transmission loss)\n",
"disp(Ls,'Free space transmission loss in dB : ');\n",
"disp('Part (ii)');\n",
"PT=200;//W(Transmitted power)\n",
"PT_dB=10*log10(PT);//dB(Transmitted power)\n",
"PR_dB=PT_dB+GT+GR-Ls;//dB(Recieved power)\n",
"PR=10^(PR_dB/10);//W(Recieved power)\n",
"disp(PR*10^12,'Received power in pW : ');"
   ]
   }
,
{
		   "cell_type": "markdown",
		   "metadata": {},
		   "source": [
			"## Example 14.6_2: Open_circuit_voltage.sce"
		   ]
		  },
  {
"cell_type": "code",
	   "execution_count": null,
	   "metadata": {
	    "collapsed": true
	   },
	   "outputs": [],
"source": [
"//Example No. 14.6.2\n",
"clc;\n",
"clear;\n",
"close;\n",
"format('v',7);\n",
"f=150;//MHz(frequency)\n",
"c=3*10^8;//m/s(speed of light)\n",
"GT=1.64;//dB(Transmitter gain)\n",
"PT=20;//W(Transmitted power)\n",
"d=50;//km(distance)\n",
"lambda=c/(f*10^6);//m(Wavelength)\n",
"E=sqrt(30*GT*PT)/(d*1000);//V/m(emf induced)\n",
"le=lambda/%pi;//m(Effective length)\n",
"Voc=E*le;//V/m(Open circuit voltage)\n",
"disp(Voc*10^6,'Open circuit voltage in micro Volt : ');"
   ]
   }
],
"metadata": {
		  "kernelspec": {
		   "display_name": "Scilab",
		   "language": "scilab",
		   "name": "scilab"
		  },
		  "language_info": {
		   "file_extension": ".sce",
		   "help_links": [
			{
			 "text": "MetaKernel Magics",
			 "url": "https://github.com/calysto/metakernel/blob/master/metakernel/magics/README.md"
			}
		   ],
		   "mimetype": "text/x-octave",
		   "name": "scilab",
		   "version": "0.7.1"
		  }
		 },
		 "nbformat": 4,
		 "nbformat_minor": 0
}
