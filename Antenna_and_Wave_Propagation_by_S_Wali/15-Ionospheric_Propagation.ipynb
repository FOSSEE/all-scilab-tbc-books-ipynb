{
"cells": [
 {
		   "cell_type": "markdown",
	   "metadata": {},
	   "source": [
       "# Chapter 15: Ionospheric Propagation"
	   ]
	},
{
		   "cell_type": "markdown",
		   "metadata": {},
		   "source": [
			"## Example 15.12_1: Calculate_MUF.sce"
		   ]
		  },
  {
"cell_type": "code",
	   "execution_count": null,
	   "metadata": {
	    "collapsed": true
	   },
	   "outputs": [],
"source": [
"//Example No. 15.12.1\n",
"clc;\n",
"clear;\n",
"close;\n",
"format('v',7);\n",
"\n",
"d=2000;//km\n",
"H=200;//km\n",
"fc=6;//MHz\n",
"f_MUF=fc*sqrt(1+(d/2/H)^2);//MHz\n",
"disp(f_MUF,'MUF in MHz : ');"
   ]
   }
,
{
		   "cell_type": "markdown",
		   "metadata": {},
		   "source": [
			"## Example 15.13_1: Calculate_the_range.sce"
		   ]
		  },
  {
"cell_type": "code",
	   "execution_count": null,
	   "metadata": {
	    "collapsed": true
	   },
	   "outputs": [],
"source": [
"//Example No. 15.13.1\n",
"clc;\n",
"clear;\n",
"close;\n",
"format('v',8);\n",
"\n",
"Eta=0.9;//refractive index\n",
"f_MUF=10;//MHz\n",
"H=400;//km\n",
"Nm=(1-Eta^2)*(f_MUF*10^6)^2/81;//per m^3\n",
"fc=9*sqrt(Nm);//Hz\n",
"Dskip=2*H*sqrt((f_MUF*10^6/fc)^2-1);//km\n",
"disp(Dskip,'Skip distance or range in km : ');"
   ]
   }
,
{
		   "cell_type": "markdown",
		   "metadata": {},
		   "source": [
			"## Example 15.8_1: Maximum_electron_density.sce"
		   ]
		  },
  {
"cell_type": "code",
	   "execution_count": null,
	   "metadata": {
	    "collapsed": true
	   },
	   "outputs": [],
"source": [
"//Example No. 15.8.1\n",
"clc;\n",
"clear;\n",
"close;\n",
"format('v',11);\n",
"fc_E=2.5;//MHz(critical frequency of E-layer)\n",
"fc_F=8.4;//MHz(critical frequency of F-layer)\n",
"disp('For E-layer : ');\n",
"Nm=(fc_E*10^6)^2/81;//per m^3(Maximum electron density)\n",
"disp(Nm,'Maximum electron density  in per m^3 : ');\n",
"disp('For F-layer : ');\n",
"Nm=(fc_F*10^6)^2/81;//per m^3(Maximum electron density)\n",
"disp(Nm,'Maximum electron density  in per m^3 : ');"
   ]
   }
,
{
		   "cell_type": "markdown",
		   "metadata": {},
		   "source": [
			"## Example 15.8_2: Critical_Frequency.sce"
		   ]
		  },
  {
"cell_type": "code",
	   "execution_count": null,
	   "metadata": {
	    "collapsed": true
	   },
	   "outputs": [],
"source": [
"//Example No. 15.8.2\n",
"clc;\n",
"clear;\n",
"close;\n",
"format('v',6);\n",
"Nm_D=400;//electron/cm^3(Maximum electron density)\n",
"Nm_E=5*10^5;//electron/cm^3(Maximum electron density)\n",
"Nm_F=2*10^6;//electron/cm^3(Maximum electron density)\n",
"fc_D=9*sqrt(Nm_D);//kHz(critical frequency of D-layer)\n",
"disp(fc_D,'Critical frequency for D-layer in kHz : ');\n",
"fc_E=9*sqrt(Nm_E);//kHz(critical frequency of E-layer)\n",
"disp(fc_E/1000,'Critical frequency for E-layer in MHz : ');\n",
"fc_F=9*sqrt(Nm_F);//kHz(critical frequency of F-layer)\n",
"disp(fc_F/1000,'Critical frequency for F-layer in MHz : ');"
   ]
   }
,
{
		   "cell_type": "markdown",
		   "metadata": {},
		   "source": [
			"## Example 15.8_3: Calculate_frequency.sce"
		   ]
		  },
  {
"cell_type": "code",
	   "execution_count": null,
	   "metadata": {
	    "collapsed": true
	   },
	   "outputs": [],
"source": [
"//Example No. 15.8.3\n",
"clc;\n",
"clear;\n",
"close;\n",
"format('v',7);\n",
"Eta=0.5;//(refractive index)\n",
"N=400;//electron/cm^3(Electron density)\n",
"f=sqrt(81*N/(1-Eta^2));//kHz(frequency)\n",
"disp(f,'Frequency in kHz : ');"
   ]
   }
,
{
		   "cell_type": "markdown",
		   "metadata": {},
		   "source": [
			"## Example 15.9_1: Find_the_virtual_height.sce"
		   ]
		  },
  {
"cell_type": "code",
	   "execution_count": null,
	   "metadata": {
	    "collapsed": true
	   },
	   "outputs": [],
"source": [
"//Example No. 15.9.1\n",
"clc;\n",
"clear;\n",
"close;\n",
"format('v',7);\n",
"T=5;//milli-seconds(time period)\n",
"c=3*10^8;//m/s///speed of light\n",
"H=1/2*c*T*10^-3;//m(Virtual height)\n",
"disp(H/1000,'Virtual height in km : ');"
   ]
   }
],
"metadata": {
		  "kernelspec": {
		   "display_name": "Scilab",
		   "language": "scilab",
		   "name": "scilab"
		  },
		  "language_info": {
		   "file_extension": ".sce",
		   "help_links": [
			{
			 "text": "MetaKernel Magics",
			 "url": "https://github.com/calysto/metakernel/blob/master/metakernel/magics/README.md"
			}
		   ],
		   "mimetype": "text/x-octave",
		   "name": "scilab",
		   "version": "0.7.1"
		  }
		 },
		 "nbformat": 4,
		 "nbformat_minor": 0
}
