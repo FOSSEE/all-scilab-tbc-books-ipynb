{
"cells": [
 {
		   "cell_type": "markdown",
	   "metadata": {},
	   "source": [
       "# Chapter 9: Horn Antenna"
	   ]
	},
{
		   "cell_type": "markdown",
		   "metadata": {},
		   "source": [
			"## Example 9.6_1: Capture_Area.sce"
		   ]
		  },
  {
"cell_type": "code",
	   "execution_count": null,
	   "metadata": {
	    "collapsed": true
	   },
	   "outputs": [],
"source": [
"//Example No. 9.6.1\n",
"clc;\n",
"clear;\n",
"close;\n",
"format('v',7);\n",
"f=2;//GHz(Frequency)\n",
"G=12;//dBi(Gain)\n",
"D=12;//dBi(Gain)\n",
"D=10^(D/10);//unitless(Directivity)\n",
"c=3*10^8;//m/s(speed of light)\n",
"lambda=c/(f*10^9);//m(wavelength)\n",
"Ap=D*lambda^2/7.5;//m²(capture area)\n",
"disp(Ap,'Required capture area in m²  : ');"
   ]
   }
,
{
		   "cell_type": "markdown",
		   "metadata": {},
		   "source": [
			"## Example 9.6_2: Various_parameters_of_hor.sce"
		   ]
		  },
  {
"cell_type": "code",
	   "execution_count": null,
	   "metadata": {
	    "collapsed": true
	   },
	   "outputs": [],
"source": [
"//Example No. 9.6.2\n",
"clc;\n",
"clear;\n",
"close;\n",
"format('v',7);\n",
"aEBYlambda=10;//(Aperture/wavelength)\n",
"del_EBYlambda=0.2;//in E-plane\n",
"del_HBYlambda=0.375;//in H-plane\n",
"LBYlambda=aEBYlambda^2/8/del_EBYlambda;//(Length/wavelength)\n",
"disp('Length of the horn is '+string(LBYlambda)+'*lambda');\n",
"aHBYlambda=sqrt(LBYlambda*8*del_HBYlambda);//(Aperture/wavelength)\n",
"disp('H-plane aperture, aH is '+string(aHBYlambda)+'*lambda');\n",
"theta_E=2*atand(aEBYlambda/2/LBYlambda);//degree(Angle)\n",
"theta_H=2*atand(aHBYlambda/2/LBYlambda);//degree(Angle)\n",
"disp(theta_H,theta_E,'Flare angles theta_E & theta_H(in degree) are : ');\n",
"HPBW_E=56/aEBYlambda;//degree(HPBW for E-plane)\n",
"disp(HPBW_E,'HPBW(E-plane) in degree : ');\n",
"HPBW_H=67/aHBYlambda;//degree(HPBW for H-plane)\n",
"disp(HPBW_H,'HPBW(H-plane) in degree : ');\n",
"FNBW_E=102/aEBYlambda;//degree(FNBW for E-plane)\n",
"disp(FNBW_E,'FNBW(E-plane) in degree : ');\n",
"FNBW_H=172/aHBYlambda;//degree(FNBW for F-plane)\n",
"disp(FNBW_H,'FNBW(H-plane) in degree : ');\n",
"D=10*log10(7.5*aEBYlambda*aHBYlambda);//(Directivity)\n",
"disp(D,'Directivity in dB  : ');"
   ]
   }
],
"metadata": {
		  "kernelspec": {
		   "display_name": "Scilab",
		   "language": "scilab",
		   "name": "scilab"
		  },
		  "language_info": {
		   "file_extension": ".sce",
		   "help_links": [
			{
			 "text": "MetaKernel Magics",
			 "url": "https://github.com/calysto/metakernel/blob/master/metakernel/magics/README.md"
			}
		   ],
		   "mimetype": "text/x-octave",
		   "name": "scilab",
		   "version": "0.7.1"
		  }
		 },
		 "nbformat": 4,
		 "nbformat_minor": 0
}
