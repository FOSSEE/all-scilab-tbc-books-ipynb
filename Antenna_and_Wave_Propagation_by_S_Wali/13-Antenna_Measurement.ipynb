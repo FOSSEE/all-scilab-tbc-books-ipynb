{
"cells": [
 {
		   "cell_type": "markdown",
	   "metadata": {},
	   "source": [
       "# Chapter 13: Antenna Measurement"
	   ]
	},
{
		   "cell_type": "markdown",
		   "metadata": {},
		   "source": [
			"## Example 13.4_1: Gains_of_Antennas.sce"
		   ]
		  },
  {
"cell_type": "code",
	   "execution_count": null,
	   "metadata": {
	    "collapsed": true
	   },
	   "outputs": [],
"source": [
"//Example No. 13.4.1\n",
"clc;\n",
"clear;\n",
"close;\n",
"format('v',7);\n",
"Pr1=0.0297/1000;//W(Recieved power)\n",
"Pr2=0.0471/1000;//W(Recieved power)\n",
"Pr3=0.0374/1000;//W(Recieved power)\n",
"Pt=1;//W(Transmitted power)\n",
"R=10;//m(Radius)\n",
"f=980;//MHz(Frequency)\n",
"f=f*10^6;//Hz(Frequency)\n",
"c=3*10^8;//m/s(Speed of light)\n",
"lambda=c/f;//m(Wavelength)\n",
"A=20*log10(4*%pi*R/lambda)+10*log10(Pr1/Pt);//(A=G1dB+G2dB)\n",
"B=20*log10(4*%pi*R/lambda)+10*log10(Pr2/Pt);//(B=G1dB+G3dB)\n",
"C=20*log10(4*%pi*R/lambda)+10*log10(Pr3/Pt);//(C=G2dB+G3dB)\n",
"G1dB=(A+B-C)/2;\n",
"G2dB=(A-B+C)/2;\n",
"G3dB=(-A+B+C)/2;\n",
"disp(round(G3dB),round(G2dB),round(G1dB),'Gain of antennas, G1db, G2dB & G3dB(in dB) are :  ');"
   ]
   }
],
"metadata": {
		  "kernelspec": {
		   "display_name": "Scilab",
		   "language": "scilab",
		   "name": "scilab"
		  },
		  "language_info": {
		   "file_extension": ".sce",
		   "help_links": [
			{
			 "text": "MetaKernel Magics",
			 "url": "https://github.com/calysto/metakernel/blob/master/metakernel/magics/README.md"
			}
		   ],
		   "mimetype": "text/x-octave",
		   "name": "scilab",
		   "version": "0.7.1"
		  }
		 },
		 "nbformat": 4,
		 "nbformat_minor": 0
}
