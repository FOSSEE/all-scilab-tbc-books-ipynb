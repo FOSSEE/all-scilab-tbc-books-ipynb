{
"cells": [
 {
		   "cell_type": "markdown",
	   "metadata": {},
	   "source": [
       "# Chapter 7: Loop Antenna"
	   ]
	},
{
		   "cell_type": "markdown",
		   "metadata": {},
		   "source": [
			"## Example 7.10_1: Input_Voltage.sce"
		   ]
		  },
  {
"cell_type": "code",
	   "execution_count": null,
	   "metadata": {
	    "collapsed": true
	   },
	   "outputs": [],
"source": [
"//Example No. 7.10.1\n",
"clc;\n",
"clear;\n",
"close;\n",
"format('v',6);\n",
"A=1;//m²(Area of loop)\n",
"N=400;//no. of turns\n",
"Q=100;//Quality factor\n",
"theta=60;//degree(angle)\n",
"Erms=10;//µV/m(field strength)\n",
"f=1;//MHz(tuned frequency)\n",
"c=3*10^8;//m/s////Speed of light\n",
"lambda=c/(f*10^6);//m(Wavelength)\n",
"Vr=Q*2*%pi*A*N*cosd(theta)*Erms*10^-6/lambda;//V(reciever input voltage)\n",
"disp(Vr*1000,'Input voltage to the receiver in mV : ');"
   ]
   }
,
{
		   "cell_type": "markdown",
		   "metadata": {},
		   "source": [
			"## Example 7.10_2: Voltage_induced_in_lop.sce"
		   ]
		  },
  {
"cell_type": "code",
	   "execution_count": null,
	   "metadata": {
	    "collapsed": true
	   },
	   "outputs": [],
"source": [
"//Example No. 7.10.2\n",
"clc;\n",
"clear;\n",
"close;\n",
"format('v',7);\n",
"N=12;//no. of turns\n",
"A=1;//m²(Area of loop)\n",
"Erms=100;//µV/m(field strength)\n",
"f=10;//MHz(tuned frequency)\n",
"theta=0;//degree(angle)\n",
"c=3*10^8;//m/s////Speed of light\n",
"lambda=c/(f*10^6);//m(Wavelength)\n",
"Vr=2*%pi*A*N*cosd(theta)*Erms*10^-6/lambda;//V(reciever input voltage)\n",
"disp(Vr*10^6,'Voltage induced in loop in µV/m : ');"
   ]
   }
,
{
		   "cell_type": "markdown",
		   "metadata": {},
		   "source": [
			"## Example 7.10_3: Find_the_field_strength.sce"
		   ]
		  },
  {
"cell_type": "code",
	   "execution_count": null,
	   "metadata": {
	    "collapsed": true
	   },
	   "outputs": [],
"source": [
"//Example No. 7.10.3\n",
"clc;\n",
"clear;\n",
"close;\n",
"format('v',6);\n",
"N=25;//no. of turns\n",
"Vrms=150;//µV(emf induced)\n",
"f=500;//kHz(tuned frequency)\n",
"A=0.5^2;//m²(Area of loop)\n",
"theta=0;//degree(angle)\n",
"c=3*10^8;//m/s////Speed of light\n",
"lambda=c/(f*10^3);//m(Wavelength)\n",
"Erms=lambda/(2*%pi*A*N*cosd(theta))*Vrms*10^-6;//V/m(maximum emf induced)\n",
"disp(Erms*10^3,'Field strength in mV/m : ');"
   ]
   }
,
{
		   "cell_type": "markdown",
		   "metadata": {},
		   "source": [
			"## Example 7.10_4: Radiation_Resistance.sce"
		   ]
		  },
  {
"cell_type": "code",
	   "execution_count": null,
	   "metadata": {
	    "collapsed": true
	   },
	   "outputs": [],
"source": [
"//Example No. 7.10.4\n",
"clc;\n",
"clear;\n",
"close;\n",
"format('v',7);\n",
"N1=1;//no. of turns in primary\n",
"N2=8;//no. of turns in secondary\n",
"//a=lambda/25;\n",
"aBYlambda=1/25;//(temporary calculation)\n",
"//A=%pi*a^2\n",
"A_BY_lambda_sqr=%pi*aBYlambda^2;//(temporary calculation)\n",
"Rr1=31200*(N1*A_BY_lambda_sqr)^2;//Ω(Radiation resistance for single turn)\n",
"disp(Rr1,'Radiation resistance for single turn loop in Ω : ');\n",
"Rr2=31200*(N2*A_BY_lambda_sqr)^2;//Ω(Radiation resistance for 8 turn)\n",
"disp(Rr2,'Radiation resistance for 8 turn loop in Ω : ');"
   ]
   }
,
{
		   "cell_type": "markdown",
		   "metadata": {},
		   "source": [
			"## Example 7.10_5: Radiation_Efficiency.sce"
		   ]
		  },
  {
"cell_type": "code",
	   "execution_count": null,
	   "metadata": {
	    "collapsed": true
	   },
	   "outputs": [],
"source": [
"//Example No. 7.10.5\n",
"clc;\n",
"clear;\n",
"close;\n",
"format('v',6);\n",
"f=100;//MHz(Operating frequency)\n",
"c=3*10^8;//m/s////Speed of light\n",
"lambda=c/(f*10^6);//m(Wavelength)\n",
"a=lambda/25;//m(radius)\n",
"C=2*%pi*a;//m(Circumference)\n",
"d=2*10^-4*lambda;//m(Spacing)\n",
"disp('For single turn : ');\n",
"N=1;//n. of turns\n",
"RL_BY_Rr=3430/(C^3*f^(3.5)*N*d);//(temporary calculation)\n",
"K=1/(1+RL_BY_Rr)*100;//%(Radiation efficiency)\n",
"disp(K,'Radiation efficiency of single turn in % : ');\n",
"disp('For Eight turn : ');\n",
"N=8;//no. of turns\n",
"RL_BY_Rr=3430/(C^3*f^(3.5)*N*d);//(temporary calculation)\n",
"K=1/(1+RL_BY_Rr)*100;//%(Radiation efficiency)\n",
"disp(K,'Radiation efficiency of eight turn in % : ');"
   ]
   }
,
{
		   "cell_type": "markdown",
		   "metadata": {},
		   "source": [
			"## Example 7.10_6: Directivity.sce"
		   ]
		  },
  {
"cell_type": "code",
	   "execution_count": null,
	   "metadata": {
	    "collapsed": true
	   },
	   "outputs": [],
"source": [
"//Example No. 7.10.6\n",
"clc;\n",
"clear;\n",
"close;\n",
"format('v',6);\n",
"a=0.5;//m(radius)\n",
"f=0.9;//MHz(OPerating frequency)\n",
"c=3*10^8;//m/s////Speed of light\n",
"lambda=c/(f*10^6);//m(wavelength)\n",
"C=2*%pi*a;//m(Circumference)\n",
"if C/lambda<1/3 then\n",
"    D=3/2;//Directivity\n",
"elseif C/lambda>1/3 then\n",
"    D=0.682*C/lambda;//Directivity\n",
"end\n",
"disp(D,'Directivity : ');"
   ]
   }
],
"metadata": {
		  "kernelspec": {
		   "display_name": "Scilab",
		   "language": "scilab",
		   "name": "scilab"
		  },
		  "language_info": {
		   "file_extension": ".sce",
		   "help_links": [
			{
			 "text": "MetaKernel Magics",
			 "url": "https://github.com/calysto/metakernel/blob/master/metakernel/magics/README.md"
			}
		   ],
		   "mimetype": "text/x-octave",
		   "name": "scilab",
		   "version": "0.7.1"
		  }
		 },
		 "nbformat": 4,
		 "nbformat_minor": 0
}
