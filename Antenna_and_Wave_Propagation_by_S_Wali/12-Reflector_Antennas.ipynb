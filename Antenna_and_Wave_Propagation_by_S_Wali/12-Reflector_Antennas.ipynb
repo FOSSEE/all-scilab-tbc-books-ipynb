{
"cells": [
 {
		   "cell_type": "markdown",
	   "metadata": {},
	   "source": [
       "# Chapter 12: Reflector Antennas"
	   ]
	},
{
		   "cell_type": "markdown",
		   "metadata": {},
		   "source": [
			"## Example 12.9_1: First_null_beam_width_and_power_gain.sce"
		   ]
		  },
  {
"cell_type": "code",
	   "execution_count": null,
	   "metadata": {
	    "collapsed": true
	   },
	   "outputs": [],
"source": [
"//Example No. 12.9.1\n",
"clc;\n",
"clear;\n",
"close;\n",
"format('v',6);\n",
"D=2;//m(Diameter)\n",
"f=6000;//MHz(Frequency)\n",
"c=3*10^8;//m/s////speed of light\n",
"lambda=c/(f*10^6);//m(Wavelength)\n",
"FNBW=140*lambda/D;//degree\n",
"disp(FNBW,'First null beam width(FNBW in degree) : ');\n",
"GP=6*(D/lambda)^2;//unitless(Power gain)\n",
"GP_dB=10*log10(GP);//dB(Power gain)\n",
"disp(GP_dB,'Power Gain in dB : ');\n",
"//Ans in the book is not accurate."
   ]
   }
,
{
		   "cell_type": "markdown",
		   "metadata": {},
		   "source": [
			"## Example 12.9_2: Diameter_of_mouth_and_HPBW.sce"
		   ]
		  },
  {
"cell_type": "code",
	   "execution_count": null,
	   "metadata": {
	    "collapsed": true
	   },
	   "outputs": [],
"source": [
"//Example No. 12.9.2\n",
"clc;\n",
"clear;\n",
"close;\n",
"format('v',5);\n",
"GP=1000;//unitless(Power gain)\n",
"lambda=10;//cm(Wavelength)\n",
"D=sqrt(GP/6)*(lambda/100);//m(Diameter)\n",
"disp(D,'Diameter of mouth in meter : ');\n",
"HPBW=58*(lambda/100)/D;//degree(HPBW)\n",
"disp(HPBW,'Half power beam width(HPBW in degree) : ');"
   ]
   }
,
{
		   "cell_type": "markdown",
		   "metadata": {},
		   "source": [
			"## Example 12.9_3: Gain_Beamwidth_and_capture_area.sce"
		   ]
		  },
  {
"cell_type": "code",
	   "execution_count": null,
	   "metadata": {
	    "collapsed": true
	   },
	   "outputs": [],
"source": [
"//Example No. 12.9.3\n",
"clc;\n",
"clear;\n",
"close;\n",
"format('v',6);\n",
"D=6;//meter(Diameter)\n",
"f=10;//GHz(Frequency)\n",
"c=3*10^8;//m/s////speed of light\n",
"lambda=c/(f*10^9);//m(Wavelength)\n",
"GP=6*(D/lambda)^2;//unitless(Power gain)\n",
"GP_dB=10*log10(GP);//dB(Power gain)\n",
"disp(GP_dB,'Gain in dB : ');\n",
"FNBW=140*lambda/D;//degree(FNBW)\n",
"disp(FNBW,'FNBW in degree : ');\n",
"HPBW=58*lambda/D;//degree(HPBW)\n",
"disp(HPBW,'HPBW in degree : ');\n",
"K=0.65;//constant\n",
"Ao=K*%pi/4*D^2;//m²(Capture area)\n",
"disp(Ao,'Capture area in m² : ');"
   ]
   }
],
"metadata": {
		  "kernelspec": {
		   "display_name": "Scilab",
		   "language": "scilab",
		   "name": "scilab"
		  },
		  "language_info": {
		   "file_extension": ".sce",
		   "help_links": [
			{
			 "text": "MetaKernel Magics",
			 "url": "https://github.com/calysto/metakernel/blob/master/metakernel/magics/README.md"
			}
		   ],
		   "mimetype": "text/x-octave",
		   "name": "scilab",
		   "version": "0.7.1"
		  }
		 },
		 "nbformat": 4,
		 "nbformat_minor": 0
}
