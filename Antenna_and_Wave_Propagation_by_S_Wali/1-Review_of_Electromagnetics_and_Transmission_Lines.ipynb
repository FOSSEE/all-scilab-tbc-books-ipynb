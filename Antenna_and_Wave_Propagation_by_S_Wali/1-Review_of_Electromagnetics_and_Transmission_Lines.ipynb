{
"cells": [
 {
		   "cell_type": "markdown",
	   "metadata": {},
	   "source": [
       "# Chapter 1: Review of Electromagnetics and Transmission Lines"
	   ]
	},
{
		   "cell_type": "markdown",
		   "metadata": {},
		   "source": [
			"## Example 1.1_1: Find_the_wavelengths.sce"
		   ]
		  },
  {
"cell_type": "code",
	   "execution_count": null,
	   "metadata": {
	    "collapsed": true
	   },
	   "outputs": [],
"source": [
"//Example No. 1.1.1\n",
"clc;\n",
"clear;\n",
"close;\n",
"format('v',7);\n",
"\n",
"f1=100;//kHz\n",
"f2=1;//MHz\n",
"f3=10;//MHz\n",
"c=3*10^8;//m/s\n",
"lambda1=c/(f1*10^3);//m\n",
"lambda2=c/(f2*10^6);//m\n",
"lambda3=c/(f3*10^6);//m\n",
"disp(lambda1/1000,'At 100kHz, wavelength(km) : ');\n",
"disp(lambda2,'At 1MHz, wavelength(m) : ');\n",
"disp(lambda3,'At 10MHz, wavelength(m) : ');"
   ]
   }
],
"metadata": {
		  "kernelspec": {
		   "display_name": "Scilab",
		   "language": "scilab",
		   "name": "scilab"
		  },
		  "language_info": {
		   "file_extension": ".sce",
		   "help_links": [
			{
			 "text": "MetaKernel Magics",
			 "url": "https://github.com/calysto/metakernel/blob/master/metakernel/magics/README.md"
			}
		   ],
		   "mimetype": "text/x-octave",
		   "name": "scilab",
		   "version": "0.7.1"
		  }
		 },
		 "nbformat": 4,
		 "nbformat_minor": 0
}
