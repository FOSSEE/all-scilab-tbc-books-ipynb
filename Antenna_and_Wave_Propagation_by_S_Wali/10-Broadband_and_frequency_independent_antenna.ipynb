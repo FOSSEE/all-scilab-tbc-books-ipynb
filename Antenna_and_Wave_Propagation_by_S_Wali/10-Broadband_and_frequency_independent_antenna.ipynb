{
"cells": [
 {
		   "cell_type": "markdown",
	   "metadata": {},
	   "source": [
       "# Chapter 10: Broadband and frequency independent antenna"
	   ]
	},
{
		   "cell_type": "markdown",
		   "metadata": {},
		   "source": [
			"## Example 10.10_1: Elements_length_and_spacing.sce"
		   ]
		  },
  {
"cell_type": "code",
	   "execution_count": null,
	   "metadata": {
	    "collapsed": true
	   },
	   "outputs": [],
"source": [
"//Example No. 10.10.1\n",
"clc;\n",
"clear;\n",
"close;\n",
"format('v',7);\n",
"Gain=8.5;//dB(Gain)\n",
"tau=0.822;sigma=0.149;//for given gain\n",
"alfa=2*atand((1-tau)/4/sigma);//degree\n",
"fL=54;//MHz(Lower frequency)\n",
"fU=216;//MHz(Upper frequency)\n",
"c=3*10^8;//m/s(Speed of light)\n",
"lambdaU=c/(fU*10^6);//m(Upper wavelength)\n",
"lambdaL=c/(fL*10^6);//m(Lower wavelength)\n",
"l1=lambdaU/2;//m(Length of element1)\n",
"lN=lambdaL/2;//m(Length of longest element)\n",
"l2=l1/tau;l3=l2/tau;l4=l3/tau;l5=l4/tau;l6=l5/tau;l7=l6/tau;l8=l7/tau;l9=l8/tau;//m(Length of elements)\n",
"d1=2*sigma*l1;d2=2*sigma*l2;d3=2*sigma*l3;d4=2*sigma*l4;d5=2*sigma*l5;d6=2*sigma*l6;d7=2*sigma*l7;d8=2*sigma*l8;d9=2*sigma*l9;//meter(Spacing between elements)\n",
"d=d1+d2+d3+d4+d5+d6+d7+d8+d9;//meter(total spacing)\n",
"disp(lN,'Length(m) of longest element : ');\n",
"disp(l1,'Length(m) of element1 : ');\n",
"disp(l2,'Length(m) of element2 : ');\n",
"disp(l3,'Length(m) of element3 : ');\n",
"disp(l4,'Length(m) of element4 : ');\n",
"disp(l5,'Length(m) of element5 : ');\n",
"disp(l6,'Length(m) of element6 : ');\n",
"disp(l7,'Length(m) of element7 : ');\n",
"disp(l8,'Length(m) of element8 : ');\n",
"disp(l9,'Length(m) of element9 : ');\n",
"disp(d1,'Spacing(m) of element1 : ');\n",
"disp(d2,'Spacing(m) of element2 : ');\n",
"disp(d3,'Spacing(m) of element3 : ');\n",
"disp(d4,'Spacing(m) of element4 : ');\n",
"disp(d5,'Spacing(m) of element5 : ');\n",
"disp(d6,'Spacing(m) of element6 : ');\n",
"disp(d7,'Spacing(m) of element7 : ');\n",
"disp(d8,'Spacing(m) of element8 : ');\n",
"disp(d9,'Spacing(m) of element9 : ');\n",
"disp(d,'Total Spacing length(m) : ');\n",
"//Answer is not accurate in the book."
   ]
   }
,
{
		   "cell_type": "markdown",
		   "metadata": {},
		   "source": [
			"## Example 10.10_2: Design_a_log_periodic_dipole.sce"
		   ]
		  },
  {
"cell_type": "code",
	   "execution_count": null,
	   "metadata": {
	    "collapsed": true
	   },
	   "outputs": [],
"source": [
"//Example No. 10.10.2\n",
"clc;\n",
"clear;\n",
"close;\n",
"format('v',7);\n",
"tau=0.895;//scale factor\n",
"sigma=0.166;//(spacing factor)\n",
"fU=30;//MHz(Upper frequency)\n",
"fL=10;//MHz(Lower frequency)\n",
"c=3*10^8;//m/s(Speed of light)\n",
"lambdaU=c/(fU*10^6);//m(Upper wavelength)\n",
"lambdaL=c/(fL*10^6);//m(Lower wavelength)\n",
"l1=lambdaU/2;//m(Length of shortest element)\n",
"disp(l1,'Length of shortest element, l1 in meter is  : ');\n",
"l2=l1/tau;l3=l2/tau;l4=l3/tau;l4=l3/tau;l5=l4/tau;l6=l5/tau;l7=l6/tau;l8=l7/tau;l9=l8/tau;l10=l9/tau;l11=l10/tau;//m(Length of element)\n",
"disp(l11,l10,l9,l8,l7,l6,l5,l4,l3,l2,'Other elements length(m) l2, l3, l4, l5, l6, l7, l8, l9, l10, l11 are : ');\n",
"alfa=17.97;//degree(angle)\n",
"R1=(l1/2)/tand(alfa/2);//m(Spacing between elements)\n",
"R2=R1/tau;R3=R2/tau;R4=R3/tau;R4=R3/tau;R5=R4/tau;R6=R5/tau;R7=R6/tau;R8=R7/tau;R9=R8/tau;R10=R9/tau;R11=R10/tau;//m\n",
"disp(R11,R10,R9,R8,R7,R6,R5,R4,R3,R2,R1,'Spacing between elements in meter R1, R2, R3, R4, R5, R6, R7, R8,R9, R10, R11 are : ');\n",
"//Answer is not accurate in the book."
   ]
   }
,
{
		   "cell_type": "markdown",
		   "metadata": {},
		   "source": [
			"## Example 10.5_1: Five_turn_helical_antenna.sce"
		   ]
		  },
  {
"cell_type": "code",
	   "execution_count": null,
	   "metadata": {
	    "collapsed": true
	   },
	   "outputs": [],
"source": [
"//Example No. 10.5.1\n",
"clc;\n",
"clear;\n",
"close;\n",
"format('v',6);\n",
"N=5;//no. of turns\n",
"f=400;//MHz(Frequency)\n",
"c=3*10^8;//m/s(Speed of light)\n",
"lambda=c/(f*10^6);//m(Wavelength)\n",
"disp('Part (i)');\n",
"S=lambda/50;//m(Spacing between turns)\n",
"S_BY_lambda=1/50;//(Spacing/wavelength)\n",
"C_BY_lambda=sqrt(2*S_BY_lambda);//(Circumference/wavelength)\n",
"disp('Circumference is '+string(C_BY_lambda)+'*lambda');\n",
"C=sqrt(2*lambda*S);//m(Circumference)\n",
"disp(C,'Circumference in meter : ');\n",
"disp('Part (ii)');\n",
"Lo_BY_lambda=sqrt(S_BY_lambda^2+C_BY_lambda^2);//(Length/wavelength)\n",
"disp('Length of single turn is '+string(Lo_BY_lambda)+'*lambda');\n",
"Lo=sqrt(S^2+C^2);//m(Length of single turn)\n",
"disp(Lo,'Length of single turn in meter : ');\n",
"disp('Part (iii)');\n",
"Ln_BY_lambda=N*Lo_BY_lambda;//(Overall length/wavelength)\n",
"disp('Overall Length is '+string(Ln_BY_lambda)+'*lambda');\n",
"Ln=N*Lo;//m(Overall length)\n",
"disp(Ln,'Overall Length in meter : ');\n",
"disp('Part (iv)');\n",
"alfa=atand(S/C);//degree(Pitch angle)\n",
"disp(alfa,'Pitch angle, α in degree : ');"
   ]
   }
,
{
		   "cell_type": "markdown",
		   "metadata": {},
		   "source": [
			"## Example 10.5_2: Five_turn_helical_antenna.sce"
		   ]
		  },
  {
"cell_type": "code",
	   "execution_count": null,
	   "metadata": {
	    "collapsed": true
	   },
	   "outputs": [],
"source": [
"//Example No. 10.5.2\n",
"clc;\n",
"clear;\n",
"close;\n",
"format('v',6);\n",
"N=5;//no. of turns\n",
"f=300;//MHz(Frequency)\n",
"c=3*10^8;//m/s(speed of light)\n",
"disp('Part (i)');\n",
"lambda=c/(f*10^6);//m(Wavelength)\n",
"C_BY_lambda=1;//(Circumference/wavelength)\n",
"disp('Near optimum circumference is '+string(C_BY_lambda)+'*lambda');\n",
"C=lambda;//m(Circumference)\n",
"disp(C,'Near optimum circumference in meter : ');\n",
"disp('Part (ii)');\n",
"alfa=14;//degree//(Pitch angle)//for near optimum\n",
"S_BY_lambda=C_BY_lambda*tand(alfa);\n",
"disp('Spacing is '+string(S_BY_lambda)+'*lambda');\n",
"S=C*tand(alfa);//m(Spacing)\n",
"disp(S,'Spacing in meter : ');\n",
"disp('Part (iii)');\n",
"Rin=140*C/lambda;//Ω(Input impedence)\n",
"disp(Rin,'Input impedence in Ω : ');\n",
"disp('Part (iv)');\n",
"HPBW=52/(C/lambda*sqrt(N*S/lambda));//degree(HPBW)\n",
"disp(HPBW,'HPBW in degree : ');\n",
"disp('Part (v)');\n",
"FNBW=115/(C/lambda*sqrt(N*S/lambda));//degree(FNBW)\n",
"disp(FNBW,'FNBW in degree : ');\n",
"disp('Part (vi)');\n",
"Do=15*(C/lambda)^2*N*(S/lambda);//unitless////Directivity\n",
"disp(Do,'Directivity(unitless) : ');\n",
"Do_dB=10*log10(Do);//dB(Directivity)\n",
"disp(Do_dB,'Directivity in dB : ');\n",
"disp('Part (vii)');\n",
"AR=(2*N+1)/2/N;//axial ratio\n",
"disp(AR,'Axial ratio : ');\n",
"disp('Part (viii)');\n",
"Rin=140*(C/lambda);//Ω(Input impedence)\n",
"//50 Ω line\n",
"Zo=50;//Ω(Output impedence)\n",
"Tau=(Rin-Zo)/(Rin+Zo);//Scaling factor\n",
"VSWR=(1+Tau)/(1-Tau);//(VSWR)\n",
"disp(VSWR,'VSWR for 50Ω line : ');\n",
"//75 Ω line\n",
"Zo=75;//Ω(Output impedence)\n",
"Tau=(Rin-Zo)/(Rin+Zo);//Scaling factor\n",
"VSWR=(1+Tau)/(1-Tau);//(VSWR)\n",
"disp(VSWR,'VSWR for 75Ω line : ');"
   ]
   }
,
{
		   "cell_type": "markdown",
		   "metadata": {},
		   "source": [
			"## Example 10.5_3: Various_parameters_of_helix_array.sce"
		   ]
		  },
  {
"cell_type": "code",
	   "execution_count": null,
	   "metadata": {
	    "collapsed": true
	   },
	   "outputs": [],
"source": [
"//Example No. 10.5.3\n",
"clc;\n",
"clear;\n",
"close;\n",
"format('v',6);\n",
"HPBW=39;//degree(HPBW)\n",
"alfa=12.5;//degree(Pitch angle)\n",
"f=475;//MHz(Frequency)\n",
"c=3*10^8;//m/s(Speed of light)\n",
"lambda=c/(f*10^6);//m(Wavelength)\n",
"C=lambda;//m(Circumference)\n",
"disp('Part (i)');\n",
"//it is in axial mode as 3/4*lambda<C<4/3*lambda\n",
"S=C*tand(alfa);//meter(Spacing)\n",
"N=52^2/HPBW^2/(S/lambda)/(C/lambda)^2;//turns\n",
"disp(round(N),'Number of turns : ');\n",
"disp('Part (ii)');\n",
"N=round(N);//turns\n",
"Do=15*(C/lambda)^2*N*(S/lambda);//unitless(Directivity)\n",
"Do_dB=10*log10(Do);//dB(Directivity)\n",
"disp(Do_dB,'Directivity in decibels : ');\n",
"disp('Part (iii)');\n",
"AR=(2*N+1)/2/N;//axial ratio\n",
"disp(AR,'Axial ratio : ');\n",
"disp('Part (iv)');\n",
"//3/4*lambda<C<4/3*lambda\n",
"lambda1=C/(3/4);//meter(Wavelength)\n",
"lambda2=C/(4/3);//meter(Wavelength)\n",
"f1=c/lambda1;//Hz(Frequency)\n",
"f2=c/lambda2;//Hz(Frequency)\n",
"disp('Frequency range is '+string(f1/10^6)+' MHz to '+string(f2/10^6)+' MHz.')\n",
"disp('Part (v)');\n",
"//At  design frequency\n",
"Rin=140*C/lambda;//Ω(Input impedence)\n",
"disp(Rin,'At design frequency, Input impedence in Ω is : ');\n",
"//3/4*lambda<C<4/3*lambda\n",
"//At high frequency end\n",
"Rin=140*C/lambda2;//Ω(Input impedence)\n",
"disp(Rin,'At high frequency end, Input impedence in Ω is : ');\n",
"//At low frequency end\n",
"Rin=140*C/lambda1;//Ω(Input impedence)\n",
"disp(Rin,'At low frequency end, Input impedence in Ω is : ');"
   ]
   }
,
{
		   "cell_type": "markdown",
		   "metadata": {},
		   "source": [
			"## Example 10.5_4: Input_Impedence_HPBW_and_Axial_ratio.sce"
		   ]
		  },
  {
"cell_type": "code",
	   "execution_count": null,
	   "metadata": {
	    "collapsed": true
	   },
	   "outputs": [],
"source": [
"//Example No. 10.5.4\n",
"clc;\n",
"clear;\n",
"close;\n",
"format('v',6);\n",
"Do_dB=14;//dB(Directivity)\n",
"f=2.4;//GHz(Frequency)\n",
"c=3*10^8;//m/s(Speed of light)\n",
"lambda=c/(f*10^6);//m(Wavelength)\n",
"Do=10^(Do_dB/10);//unitless(Directivity)\n",
"C=lambda;//m////for optimum result(Circumference)\n",
"alfa=14;//degree;////for optimum result(Pitch angle)\n",
"S=C*tand(alfa);//m(Spacing)\n",
"N=Do/15/(C/lambda)^2/(S/lambda);//turns\n",
"N=round(N);//turns\n",
"Rin=140*C/lambda;//Ω(Input impedence)\n",
"disp(Rin,'Input impedence in Ω is : ');\n",
"HPBW=52/(C/lambda*sqrt(N*S/lambda));//degree\n",
"disp(HPBW,'HPBW in degree : ');\n",
"format('v',4);\n",
"FNBW=115/(C/lambda*sqrt(N*S/lambda));//degree\n",
"disp(FNBW,'FNBW in degree : ');\n",
"AR=(2*N+1)/2/N;//(Axial ratio)\n",
"disp(AR,'Axial ratio : ');"
   ]
   }
,
{
		   "cell_type": "markdown",
		   "metadata": {},
		   "source": [
			"## Example 10.8_1: Symmetrical_two_wire_spiral.sce"
		   ]
		  },
  {
"cell_type": "code",
	   "execution_count": null,
	   "metadata": {
	    "collapsed": true
	   },
	   "outputs": [],
"source": [
"//Example No. 10.8.1\n",
"clc;\n",
"clear;\n",
"close;\n",
"format('v',8);\n",
"f=10;//MHz(Frequency)\n",
"c=3*10^8;//m/s(Speed of light)\n",
"lambda=c/(f*10^6);//m(Wavelength)\n",
"d0=10^-3*lambda;//m(spacing)\n",
"Lo=1*lambda;//m(Length)\n",
"fi=%pi;fi0=0;//radian\n",
"r0=d0/2;//m\n",
"disp('Part (i)');\n",
"//R=r0*exp(a*fi-a*fi0);//m\n",
"//a=sqrt(1/Lo^2/(R-r0)^2-1);//per adian\n",
"a=1.166;//rad^-1(by above equation)\n",
"disp(a,'Rate of spiral in rad^-1 : ');\n",
"R_BY_lambda=r0/lambda*exp(a*2*%pi);//m(Radius/wavelength)\n",
"disp('Radius of terminal point is '+string(R_BY_lambda)+'*lambda');\n",
"disp('Part (ii)');\n",
"R=r0*exp(a*2*%pi);//m(Radius)\n",
"disp(R,'Radius at terminal point in meter : ');"
   ]
   }
,
{
		   "cell_type": "markdown",
		   "metadata": {},
		   "source": [
			"## Example 10.8_2: Design_Equiangular_spiral_Antena.sce"
		   ]
		  },
  {
"cell_type": "code",
	   "execution_count": null,
	   "metadata": {
	    "collapsed": true
	   },
	   "outputs": [],
"source": [
"//Example No. 10.8.2\n",
"clc;\n",
"clear;\n",
"close;\n",
"format('v',5);\n",
"fU=900;//MHz(Upper frequency)\n",
"fL=450;//MHz(Lower frequency)\n",
"c=3*10^8;//m/s(Speed of light)\n",
"lambdaU=c/(fU*10^6);//m(Upper wavelength)\n",
"lambdaL=c/(fL*10^6);//m(Lower wavelength)\n",
"Exp_ratio=4;//expansion ratio\n",
"a=log(Exp_ratio)/(2*%pi);//rad^-1////rate of spiral\n",
"Beta=atand(1/a);//degree\n",
"r0=lambdaU/4;//meter////minimum radius\n",
"disp(r0*100,'Minimum radius in cm : ');\n",
"R=lambdaL/4;//meter////minimum radius\n",
"disp(R*100,'Maximum radius in cm : ');\n",
"fi_m=log(R/r0)/a;//radian\n",
"fi_m=fi_m*180/%pi;//degree\n",
"disp(fi_m,'Φm in degree is ');\n",
"N=1/2;//for Φm=180;//degree\n",
"disp(N,'Number of turns, N is  ');"
   ]
   }
],
"metadata": {
		  "kernelspec": {
		   "display_name": "Scilab",
		   "language": "scilab",
		   "name": "scilab"
		  },
		  "language_info": {
		   "file_extension": ".sce",
		   "help_links": [
			{
			 "text": "MetaKernel Magics",
			 "url": "https://github.com/calysto/metakernel/blob/master/metakernel/magics/README.md"
			}
		   ],
		   "mimetype": "text/x-octave",
		   "name": "scilab",
		   "version": "0.7.1"
		  }
		 },
		 "nbformat": 4,
		 "nbformat_minor": 0
}
