{
"cells": [
 {
		   "cell_type": "markdown",
	   "metadata": {},
	   "source": [
       "# Chapter 3: Fundamental parameters of Antenna"
	   ]
	},
{
		   "cell_type": "markdown",
		   "metadata": {},
		   "source": [
			"## Example 3.10_1: Power_radiated.sce"
		   ]
		  },
  {
"cell_type": "code",
	   "execution_count": null,
	   "metadata": {
	    "collapsed": true
	   },
	   "outputs": [],
"source": [
"//Example No. 3.10.1\n",
"clc;\n",
"clear;\n",
"close;\n",
"format('v',6);\n",
"\n",
"K=90;//%//radiation efficiency\n",
"Pin=10;//W\n",
"Prad=(K/100)*Pin;//W\n",
"disp(Prad,'Radiated power in Watts : ');"
   ]
   }
,
{
		   "cell_type": "markdown",
		   "metadata": {},
		   "source": [
			"## Example 3.11_1: Gain_in_dB.sce"
		   ]
		  },
  {
"cell_type": "code",
	   "execution_count": null,
	   "metadata": {
	    "collapsed": true
	   },
	   "outputs": [],
"source": [
"//Example No. 3.11.1\n",
"clc;\n",
"clear;\n",
"close;\n",
"format('v',6);\n",
"\n",
"D=20;//Directivity\n",
"K=90;//%//radiation efficiency\n",
"G=(K/100)*D;//Gain\n",
"GdB=10*log10(G);//dB\n",
"disp(GdB,'Gain in dB : ');\n",
"//Answer is not calculated in the book."
   ]
   }
,
{
		   "cell_type": "markdown",
		   "metadata": {},
		   "source": [
			"## Example 3.11_2: Directivity_in_dB.sce"
		   ]
		  },
  {
"cell_type": "code",
	   "execution_count": null,
	   "metadata": {
	    "collapsed": true
	   },
	   "outputs": [],
"source": [
"//Example No. 3.11.2\n",
"clc;\n",
"clear;\n",
"close;\n",
"format('v',7);\n",
"Rr=72;//Ω\n",
"RL=8;//Ω\n",
"G=16;//Gain\n",
"K=Rr/(Rr+RL)*100;//%//radiation efficiency\n",
"D=G/(K/100);//Directivity\n",
"DdB=10*log10(D);//dB\n",
"disp(DdB,'Directivity in dB : ');"
   ]
   }
,
{
		   "cell_type": "markdown",
		   "metadata": {},
		   "source": [
			"## Example 3.13_1: Radiation_Resistance.sce"
		   ]
		  },
  {
"cell_type": "code",
	   "execution_count": null,
	   "metadata": {
	    "collapsed": true
	   },
	   "outputs": [],
"source": [
"//Example No. 3.13.1\n",
"clc;\n",
"clear;\n",
"close;\n",
"format('v',6);\n",
"Irms=15;//A(Current Drawn)\n",
"Prad=5;//kW(Radiated Power)\n",
"Rr=Prad*10^3/Irms^2;//Ω(Radiation Resistance)\n",
"disp(Rr,'Radiation resistance in Ω : ');"
   ]
   }
,
{
		   "cell_type": "markdown",
		   "metadata": {},
		   "source": [
			"## Example 3.13_2: Current_Drawn.sce"
		   ]
		  },
  {
"cell_type": "code",
	   "execution_count": null,
	   "metadata": {
	    "collapsed": true
	   },
	   "outputs": [],
"source": [
"//Example No. 3.13.2\n",
"clc;\n",
"clear;\n",
"close;\n",
"format('v',4);\n",
"Prad=1000;//W(Radiated Power)\n",
"Rr=300;//Ω(Radiation Resistance)\n",
"Irms=sqrt(Prad/Rr);//A(Current Drawn)\n",
"disp(Irms,'Current drawn in A : ');"
   ]
   }
,
{
		   "cell_type": "markdown",
		   "metadata": {},
		   "source": [
			"## Example 3.13_3: Maximum_Effective_Aperture.sce"
		   ]
		  },
  {
"cell_type": "code",
	   "execution_count": null,
	   "metadata": {
	    "collapsed": true
	   },
	   "outputs": [],
"source": [
"//Example No. 3.13.3\n",
"clc;\n",
"clear;\n",
"close;\n",
"format('v',5);\n",
"Rr=73;//Ω(Radiation Resistance)\n",
"Z=120*%pi;//Ω(For free space)\n",
"//le=lambda/%pi\n",
"AemBYlambda_sqr=(1/%pi)^2*Z/(4*Rr);\n",
"disp('Maximum effective aperture in m² is '+string(AemBYlambda_sqr)+'*lambda²');"
   ]
   }
,
{
		   "cell_type": "markdown",
		   "metadata": {},
		   "source": [
			"## Example 3.13_4: Effective_length.sce"
		   ]
		  },
  {
"cell_type": "code",
	   "execution_count": null,
	   "metadata": {
	    "collapsed": true
	   },
	   "outputs": [],
"source": [
"//Example No. 3.13.4\n",
"clc;\n",
"clear;\n",
"close;\n",
"format('v',7);\n",
"\n",
"Rr=73;//Ω\n",
"Z=120*%pi;//Ω(For free space)\n",
"//Aem=0.13*lambda²\n",
"AemBylambda_sqr=0.13;\n",
"leBYlambda=2*sqrt(AemBylambda_sqr*Rr)/sqrt(Z);\n",
"disp('Effective length in meter is '+string(leBYlambda)+'*lambda');"
   ]
   }
,
{
		   "cell_type": "markdown",
		   "metadata": {},
		   "source": [
			"## Example 3.15_1: Polarization_Loss_factor.sce"
		   ]
		  },
  {
"cell_type": "code",
	   "execution_count": null,
	   "metadata": {
	    "collapsed": true
	   },
	   "outputs": [],
"source": [
"//Example No. 3.15.1\n",
"clc;\n",
"clear;\n",
"close;\n",
"format('v',4);\n",
"\n",
"cos_si_p=1/sqrt(2);\n",
"PLF=cos_si_p^2;//Polarization Loss factor\n",
"PLFdB=10*log10(PLF);//dB\n",
"disp(PLFdB,'Power loss factor in dB : ');"
   ]
   }
,
{
		   "cell_type": "markdown",
		   "metadata": {},
		   "source": [
			"## Example 3.16_1: Maximum_effective_aperture_and_power.sce"
		   ]
		  },
  {
"cell_type": "code",
	   "execution_count": null,
	   "metadata": {
	    "collapsed": true
	   },
	   "outputs": [],
"source": [
"//Example No. 3.16.1\n",
"clc;\n",
"clear;\n",
"close;\n",
"format('v',9);\n",
"\n",
"Do_dB=20;//dB\n",
"f=10;//GHz\n",
"Wi=2*10^-3;//W/m²\n",
"c=3*10^8;//m/s\n",
"lambda=c/(f*10^9);//m\n",
"Do=10^(Do_dB/10);//unitless\n",
"Aem=lambda^2/(4*%pi)*Do;//m²\n",
"disp(Aem,'Maximum effective aperture in m² : ');\n",
"Pr=Aem*Wi;//W\n",
"disp(Pr*10^6,'Maximum received power in µW : ');"
   ]
   }
,
{
		   "cell_type": "markdown",
		   "metadata": {},
		   "source": [
			"## Example 3.16_2: Directivity_of_Antenna.sce"
		   ]
		  },
  {
"cell_type": "code",
	   "execution_count": null,
	   "metadata": {
	    "collapsed": true
	   },
	   "outputs": [],
"source": [
"//Example No. 3.16.2\n",
"clc;\n",
"clear;\n",
"close;\n",
"format('v',6);\n",
"ecd=1;//for lossless antenna\n",
"Aem=2.147;//m²(Maximum Effective aperture)\n",
"Zin=75;//Ω(Input impedence)\n",
"Zo=50;//Ω(Output impedence)\n",
"f=100;//MHz(Operating frequency)\n",
"c=3*10^8;//m/s(speed f light)\n",
"aw_aa=1;//For no polarization loss\n",
"lambda=c/(f*10^6);//m(Wavelength)\n",
"Tau=(Zin-Zo)/(Zin+Zo);//(Reflection Coefficient)\n",
"Do=Aem/(ecd*(1-Tau^2)*lambda^2/(4*%pi)/aw_aa^2);//unitless(Directivity)\n",
"disp(Do,'Directivity of antenna : ');"
   ]
   }
,
{
		   "cell_type": "markdown",
		   "metadata": {},
		   "source": [
			"## Example 3.17_1: Find_the_power_delivered.sce"
		   ]
		  },
  {
"cell_type": "code",
	   "execution_count": null,
	   "metadata": {
	    "collapsed": true
	   },
	   "outputs": [],
"source": [
"//Example No. 3.17.1\n",
"clc;\n",
"clear;\n",
"close;\n",
"format('v',11);\n",
"PT=15;//W(Transmitted Power)\n",
"AeT=0.2;//m²(Effective aperture)\n",
"AeR=0.5;//m²(Effective aperture)\n",
"f=5;//GHz(frequency)\n",
"r=15;//km(line of sight distance)\n",
"c=3*10^8;//m/s(Speed of light)\n",
"lambda=c/(f*10^9);//m(Wavelength)\n",
"PR=PT*AeT*AeR/((r*1000)^2*lambda^2);//Watts(Power delivered to reciever)\n",
"disp(PR,'Power delivered to receiver in Watts : ');\n",
"//Answer is wrong in the book. lambda is 0.6 instead of 0.06 and lambda^2 is 0.06 instead of 0.0036"
   ]
   }
,
{
		   "cell_type": "markdown",
		   "metadata": {},
		   "source": [
			"## Example 3.17_2: Calculate_the_power.sce"
		   ]
		  },
  {
"cell_type": "code",
	   "execution_count": null,
	   "metadata": {
	    "collapsed": true
	   },
	   "outputs": [],
"source": [
"//Example No. 3.17.2\n",
"clc;\n",
"clear;\n",
"close;\n",
"format('v',6);\n",
"DT=20;//dB(Transmitter Directivity)\n",
"DR=20;//dB(Reciever Directivity)\n",
"PT=10;//W(Transmitted Power)\n",
"ecdT=1;ecdR=1;//(For lossless antenna)\n",
"aT_aR=1;//(For polarization match)\n",
"DT=10^(DT/10);//unitless(Transmitter Directivity)\n",
"DR=10^(DR/10);//unitless(Reciever Directivity)\n",
"Tau_T=0;Tau_R=0;//(Reflection coefficient)\n",
"rBYlambda=50;//m\n",
"PR=PT*ecdT*ecdR*(1-Tau_T^2)*(1-Tau_R^2)/(4*%pi*rBYlambda)^2*DT*DR*aT_aR^2;//Watts(Power delivered to reciever)\n",
"disp(PR,'Power at receiving antenna in Watts : ');"
   ]
   }
,
{
		   "cell_type": "markdown",
		   "metadata": {},
		   "source": [
			"## Example 3.17_3: Power_delivered_to_load.sce"
		   ]
		  },
  {
"cell_type": "code",
	   "execution_count": null,
	   "metadata": {
	    "collapsed": true
	   },
	   "outputs": [],
"source": [
"//Example No. 3.17.3\n",
"clc;\n",
"clear;\n",
"close;\n",
"format('v',9);\n",
"f=3;//GHz\n",
"c=3*10^8;//m/s(Speed of light)\n",
"lambda=c/(f*10^9);//m(wavelength)\n",
"r=500;//m(distance)\n",
"PT=100;//W(Transmitted Power)\n",
"GT=25;//dB(Transmitter Gain)\n",
"GR=20;//dB(Reciever Gain)\n",
"GT=10^(GT/10);//unitless(Transmitter Gain)\n",
"GR=10^(GR/10);//unitless(Reciever Gain)\n",
"PLF=1;aT_aR=1;//(For polarization match)\n",
"PR=PT*(lambda/4/%pi/r)^2*GT*GR*aT_aR^2;//Watts(Power delivered to reciever)\n",
"disp(PR,'Power delivered to load  in Watts : ');"
   ]
   }
,
{
		   "cell_type": "markdown",
		   "metadata": {},
		   "source": [
			"## Example 3.3_1: Half_Power_Beam_Width.sce"
		   ]
		  },
  {
"cell_type": "code",
	   "execution_count": null,
	   "metadata": {
	    "collapsed": true
	   },
	   "outputs": [],
"source": [
"//Example No. 3.3.1\n",
"clc;\n",
"clear;\n",
"close;\n",
"format('v',7);\n",
"E_theta=1/sqrt(2);//Electric Field at half power\n",
"//theta=thetaHP/2;//E(thetaHP/2)=cosd(thetaHP/2)\n",
"thetaHP=2*acosd(E_theta);//degree(Half power beam width)\n",
"disp(thetaHP,'Half power beam width(degree) : ');"
   ]
   }
,
{
		   "cell_type": "markdown",
		   "metadata": {},
		   "source": [
			"## Example 3.3_2: HPBW_and_FNBW.sce"
		   ]
		  },
  {
"cell_type": "code",
	   "execution_count": null,
	   "metadata": {
	    "collapsed": true
	   },
	   "outputs": [],
"source": [
"//Example No. 3.3.2\n",
"clc;\n",
"clear;\n",
"close;\n",
"format('v',7);\n",
"E_theta=1/sqrt(2);//Electric field at theta=90-thetaHP/2\n",
"//E(90-thetaHP/2)=sind(90-thetaHP/2)\n",
"thetaHP=2*(90-asind(E_theta));//degree(HPBW)\n",
"disp(thetaHP,'HPBW(degree) : ');\n",
"theta1=0;theta2=180;//degree(Pattern angles)\n",
"FNBW=theta2-theta1;//degree(FNBW)//as E is zero at these points\n",
"disp(FNBW,'FNBW(degree) : ');"
   ]
   }
,
{
		   "cell_type": "markdown",
		   "metadata": {},
		   "source": [
			"## Example 3.3_3: Half_Power_Beam_width.sce"
		   ]
		  },
  {
"cell_type": "code",
	   "execution_count": null,
	   "metadata": {
	    "collapsed": true
	   },
	   "outputs": [],
"source": [
"//Example No. 3.3.3\n",
"clc;\n",
"clear;\n",
"close;\n",
"format('v',7);\n",
"E_theta=1/sqrt(2);//Elecric field at half power point\n",
"//E(thetaHP/2)=(cosd(thetaHP/2))^2\n",
"thetaHP=2*(acosd(sqrt(E_theta)));//degree(HPBW)\n",
"disp(thetaHP,'Half Power Beam Width(degree) : ');"
   ]
   }
,
{
		   "cell_type": "markdown",
		   "metadata": {},
		   "source": [
			"## Example 3.8_1: Exact_and_Approximate_Directivity.sce"
		   ]
		  },
  {
"cell_type": "code",
	   "execution_count": null,
	   "metadata": {
	    "collapsed": true
	   },
	   "outputs": [],
"source": [
"//Example No. 3.8.1\n",
"clc;\n",
"clear;\n",
"close;\n",
"format('v',6);\n",
"theta1=0;theta2=%pi/2;//radian(Angles)\n",
"fi1=0;fi2=2*%pi;//radian(Angles)\n",
"//Prad=integrate('integrate('U','thheta',theta1,theta2)','fi',fi1,fi2);\n",
"Prad_BY_Um=%pi*(1/2)*(cos(2*theta1)-cos(2*theta2));//(Power radiated/Max intensity)\n",
"Do=4*%pi/Prad_BY_Um;//Exact Directivity\n",
"disp(Do,'Exact Directivity : ');\n",
"//Um*Cosd(thetaHP/2)=0.5*Um\n",
"thetaHP=2*acosd(0.5);//degree(HPBW)\n",
"fiHP=thetaHP;//degree(HPBW)\n",
"Do=41253/(thetaHP*fiHP);//Approximate Directivity\n",
"disp(Do,'Approximate Directivity : ');"
   ]
   }
],
"metadata": {
		  "kernelspec": {
		   "display_name": "Scilab",
		   "language": "scilab",
		   "name": "scilab"
		  },
		  "language_info": {
		   "file_extension": ".sce",
		   "help_links": [
			{
			 "text": "MetaKernel Magics",
			 "url": "https://github.com/calysto/metakernel/blob/master/metakernel/magics/README.md"
			}
		   ],
		   "mimetype": "text/x-octave",
		   "name": "scilab",
		   "version": "0.7.1"
		  }
		 },
		 "nbformat": 4,
		 "nbformat_minor": 0
}
