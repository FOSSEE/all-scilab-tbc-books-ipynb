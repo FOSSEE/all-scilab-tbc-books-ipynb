{
"cells": [
 {
		   "cell_type": "markdown",
	   "metadata": {},
	   "source": [
       "# Chapter 8: Entropy Available and Unavailable Energy"
	   ]
	},
{
		   "cell_type": "markdown",
		   "metadata": {},
		   "source": [
			"## Example 8.10: Find_the_change_in_entropy_during_melting_process.sce"
		   ]
		  },
  {
"cell_type": "code",
	   "execution_count": null,
	   "metadata": {
	    "collapsed": true
	   },
	   "outputs": [],
"source": [
"clc\n",
"clear\n",
"printf('Example 8.10 | Page number 224 \n\n');\n",
"//This is a theoritical question.Refer textbook for solution\n",
"printf('This is a theoritical question.Refer textbook for solution')"
   ]
   }
,
{
		   "cell_type": "markdown",
		   "metadata": {},
		   "source": [
			"## Example 8.11: Can_system_undergo_isentropic_process.sce"
		   ]
		  },
  {
"cell_type": "code",
	   "execution_count": null,
	   "metadata": {
	    "collapsed": true
	   },
	   "outputs": [],
"source": [
"clc\n",
"clear\n",
"printf('Example 8.11 | Page number 224 \n\n');\n",
"//This is a theoritical question.Refer textbook for solution\n",
"printf('This is a theoritical question.Refer textbook for solution')"
   ]
   }
,
{
		   "cell_type": "markdown",
		   "metadata": {},
		   "source": [
			"## Example 8.12: Find_direction_of_flow_of_air.sce"
		   ]
		  },
  {
"cell_type": "code",
	   "execution_count": null,
	   "metadata": {
	    "collapsed": true
	   },
	   "outputs": [],
"source": [
"clc\n",
"clear\n",
"printf('Example 8.12 | Page number 225 \n\n');\n",
"//Find the direction fo air flow\n",
"//Given Data\n",
"pA = 120 //kPa //Pressure at location A\n",
"TA = 50+273 //K //Temperature at location A\n",
"VA = 150 //m/s //Velocity at location A\n",
"\n",
"pB = 100 //kPa //Pressure at location B\n",
"TB = 30+273 //K //Temperature at location B\n",
"VB = 250 //m/s //Velocity at location B\n",
"\n",
"Cp = 1.005 //kJ/kg\n",
"R = 0.287 //kJ/kgK\n",
"//Solution\n",
"delta_S_sys = (Cp*log(TB/TA))-(R*log(pB/pA)) //kJ/kgK //Entropy of system\n",
"if delta_S_sys < 0 then\n",
"    printf('Flow is from B to A.');\n",
"else\n",
"    printf('Flow is from A to B.')    \n",
"end"
   ]
   }
,
{
		   "cell_type": "markdown",
		   "metadata": {},
		   "source": [
			"## Example 8.13: Find_the_change_in_entropy.sce"
		   ]
		  },
  {
"cell_type": "code",
	   "execution_count": null,
	   "metadata": {
	    "collapsed": true
	   },
	   "outputs": [],
"source": [
"clc\n",
"clear\n",
"printf('Example 8.13 | Page number 226 \n\n');\n",
"//Part(a)Temperature of the mixture when ice-water equilibrium.\n",
"//Change in entropy during the process for:\n",
"//Part(b) ice\n",
"//Part(c) water\n",
"//Part(d) universe \n",
"\n",
"//Given Data\n",
"mi = 5 //kg //mass of ice\n",
"Ti = 273 - 10 //K //Temperature of ice\n",
"ci = 2.1 //kJ/kgK //specific heat of ice\n",
"L = 330 //kJ/kg //Latent heat\n",
"mw = 20 //kg //mass of water\n",
"Tw = 273+80 //K //Temperatur of water\n",
"cw = 4.2 //kJ/kgK //specific heat of water\n",
"//Part(a)\n",
"printf('Part (a)\n');\n",
"Tmix = ((mi*ci*(Ti-273))-(L*mi)+(mw*cw*Tw)+(mi*cw*273))/(mw*cw+mi*cw)\n",
"printf('Temperature of the mixture when equilibrium is established between ice and water = %.1f K\n\n',Tmix)\n",
"//Part (b)\n",
"printf('Part (b)\n');\n",
"delta_S_ice = mi*(ci*log(273/Ti)+L/273+cw*log(Tmix/273))//kJ/K //Entropy of ice\n",
"printf('Entropy of ice = %.2f kJ/K\n\n',delta_S_ice)\n",
"//Part (c)\n",
"printf('Part (c)\n');\n",
"delta_S_water = mw*(cw*log(Tmix/Tw))//kJ/K //Entropy of water\n",
"printf('Entropy of water = %.2f kJ/K\n\n',delta_S_water)\n",
"//Part (d)\n",
"printf('Part (d)\n');\n",
"delta_S_uni = delta_S_water+delta_S_ice//kJ/K //Entropy of universe\n",
"printf('Entropy of universe = %.2f kJ/K\n\n',delta_S_uni)"
   ]
   }
,
{
		   "cell_type": "markdown",
		   "metadata": {},
		   "source": [
			"## Example 8.14: Find_the_available_and_unavailable_parts_of_100_kJ_heat.sce"
		   ]
		  },
  {
"cell_type": "code",
	   "execution_count": null,
	   "metadata": {
	    "collapsed": true
	   },
	   "outputs": [],
"source": [
"clc\n",
"clear\n",
"printf('Example 8.14 | Page number 230 \n\n');\n",
"//Find the available and unavailable parts of 100kJ of heat from\n",
"//Part(a) a reservoir at 1000K\n",
"//Part(b) a reservoir at 600K\n",
"\n",
"//Given Data\n",
"Q1 = 100 //kJ //Heat input\n",
"T0 = 300 //K //Surrounding temperature\n",
"\n",
"//Part(a)\n",
"printf('Part (a)\n');\n",
"T1 = 1000 //K //reservoir temperature\n",
"printf('Avalable enery of 100 kJ of heat from a reservoir at 1000K = %.1f kJ\n',Q1*(1-(T0/T1)));\n",
"printf('Unvalable enery of 100 kJ of heat from a reservoir at 1000K = %.1f kJ\n\n',Q1-Q1*(1-(T0/T1)))\n",
"//Part(b)\n",
"printf('Part (b)\n');\n",
"T1 = 600 //K //reservoir temperature\n",
"printf('Avalable enery of 100 kJ of heat from a reservoir at 1000K = %.1f kJ\n',Q1*(1-(T0/T1)));\n",
"printf('Unvalable enery of 100 kJ of heat from a reservoir at 1000K = %.1f kJ\n\n',Q1-Q1*(1-(T0/T1)))"
   ]
   }
,
{
		   "cell_type": "markdown",
		   "metadata": {},
		   "source": [
			"## Example 8.15: Evaluate_the_increase_in_unavailable_energy.sce"
		   ]
		  },
  {
"cell_type": "code",
	   "execution_count": null,
	   "metadata": {
	    "collapsed": true
	   },
	   "outputs": [],
"source": [
"clc\n",
"clear\n",
"printf('Example 8.15 | Page number 231 \n\n');\n",
"//Evaluate the increse in unavailable energy due to irreversible heat transfer\n",
"//Given Data\n",
"T0 = 300 //K //Surrounding temperature\n",
"T1 = 1000 //K //Temperature of final reservoir\n",
"T2 = 600 //K //Temperature of intermediate reservoir\n",
"Q1 = 100 //kJ //Heat input\n",
"//Solution\n",
"printf('Increase in unavaliable energy due to irreversible heat transfer = %.1f kJ',Q1*(1-T0/T1)-Q1*(1-T0/T2)) "
   ]
   }
,
{
		   "cell_type": "markdown",
		   "metadata": {},
		   "source": [
			"## Example 8.16: What_are_the_available_and_unavailable_energies.sce"
		   ]
		  },
  {
"cell_type": "code",
	   "execution_count": null,
	   "metadata": {
	    "collapsed": true
	   },
	   "outputs": [],
"source": [
"clc\n",
"clear\n",
"printf('Example 8.16 | Page number 234 \n\n');\n",
"//What are available and unavailable energies of Q1\n",
"//Given data\n",
"T1 = 500 //K\n",
"T0 = 300 //K\n",
"T2 = 350 //K\n",
"W = 250 //kJ\n",
"Q1 = 1000 //kJ\n",
"printf('Available energy = %.1f kJ\n',(1-(T0/T1))*Q1);\n",
"printf('Unavailable energy = %.1f kJ\n',Q1 - (1-(T0/T1))*Q1);"
   ]
   }
,
{
		   "cell_type": "markdown",
		   "metadata": {},
		   "source": [
			"## Example 8.1: Clausius_inequality.sce"
		   ]
		  },
  {
"cell_type": "code",
	   "execution_count": null,
	   "metadata": {
	    "collapsed": true
	   },
	   "outputs": [],
"source": [
"clc\n",
"clear\n",
"printf('Example 8.1 | Page number 211 \n\n');\n",
"//This is a theoritical question.Refer textbook for solution\n",
"printf('This is a theoritical question.Refer textbook for solution')"
   ]
   }
,
{
		   "cell_type": "markdown",
		   "metadata": {},
		   "source": [
			"## Example 8.2: Find_change_in_entropy.sce"
		   ]
		  },
  {
"cell_type": "code",
	   "execution_count": null,
	   "metadata": {
	    "collapsed": true
	   },
	   "outputs": [],
"source": [
"clc\n",
"clear\n",
"printf('Example 8.2 | Page number 211 \n\n');\n",
"//Evaluate delta S for the reservoir\n",
"//Given Data\n",
"Q = 10 //kJ //heat transfered from reservoir\n",
"T = 100+273 //K //isothermal expansion temperature\n",
"T_res = 300+273 //K //reservoir temperature\n",
"//Solution\n",
"delta_S_sys = (Q/T) //kJ/K //delta S for the system\n",
"printf('Change in entropy(Delta S) for the system = %.5f kJ/K\n',delta_S_sys);\n",
"\n",
"delta_S_res = -1*(Q/T_res) //kJ/K //delta S for the reservoir\n",
"printf('Change in entropy(Delta S) for the reservoir = %.5f kJ/K\n',delta_S_res);"
   ]
   }
,
{
		   "cell_type": "markdown",
		   "metadata": {},
		   "source": [
			"## Example 8.3: Find_change_in_entropy_if_reservoir_temperature_is_100_degree_Celsius.sce"
		   ]
		  },
  {
"cell_type": "code",
	   "execution_count": null,
	   "metadata": {
	    "collapsed": true
	   },
	   "outputs": [],
"source": [
"clc\n",
"clear\n",
"printf('Example 8.3 | Page number 212 \n\n');\n",
"//Evaluate delta S for the reservoir\n",
"//Given Data\n",
"Q = 10 //kJ //heat transfered from reservoir\n",
"T = 100+273 //K //isothermal expansion temperature\n",
"T_res = 100+273 //K //reservoir temperature\n",
"//Solution\n",
"delta_S_sys = (Q/T) //kJ/K //delta S for the system\n",
"printf('Change in entropy(Delta S) for the system = %.5f kJ/K\n',delta_S_sys);\n",
"\n",
"delta_S_res = -1*(Q/T_res) //kJ/K //delta S for the reservoir\n",
"printf('Change in entropy(Delta S) for the reservoir = %.5f kJ/K\n',delta_S_res);"
   ]
   }
,
{
		   "cell_type": "markdown",
		   "metadata": {},
		   "source": [
			"## Example 8.4: Find_the_change_in_entropy_for_paddle_stirred_gas.sce"
		   ]
		  },
  {
"cell_type": "code",
	   "execution_count": null,
	   "metadata": {
	    "collapsed": true
	   },
	   "outputs": [],
"source": [
"clc\n",
"clear\n",
"printf('Example 8.4 | Page number 212 \n\n');\n",
"//Evaluate delta S for the reservoir\n",
"//Given Data\n",
"Q = 1; //kJ //heat transfered from reservoir\n",
"T = 100+273; //K //isothermal expansion temperature\n",
"T_res = 100+273; //K //reservoir temperature\n",
"//Solution\n",
"delta_S_res = -1*(Q/T_res); //kJ/K //delta S for the reservoir\n",
"printf('Change in entropy(Delta S) for the reservoir = %.5f kJ/K\n',delta_S_res);"
   ]
   }
,
{
		   "cell_type": "markdown",
		   "metadata": {},
		   "source": [
			"## Example 8.5: Identify_possible_and_impossible_processes.sce"
		   ]
		  },
  {
"cell_type": "code",
	   "execution_count": null,
	   "metadata": {
	    "collapsed": true
	   },
	   "outputs": [],
"source": [
"clc\n",
"clear\n",
"printf('Example 8.5 | Page number 217 \n\n');\n",
"//This is a theoritical question.Refer textbook for solution\n",
"printf('This is a theoritical question.Refer textbook for solution')"
   ]
   }
,
{
		   "cell_type": "markdown",
		   "metadata": {},
		   "source": [
			"## Example 8.6: Identify_processes_as_reversible_irreversible_or_impossible.sce"
		   ]
		  },
  {
"cell_type": "code",
	   "execution_count": null,
	   "metadata": {
	    "collapsed": true
	   },
	   "outputs": [],
"source": [
"clc\n",
"clear\n",
"printf('Example 8.6 | Page number 217 \n\n');\n",
"//This is a theoritical question.Refer textbook for solution\n",
"printf('This is a theoritical question.Refer textbook for solution')"
   ]
   }
,
{
		   "cell_type": "markdown",
		   "metadata": {},
		   "source": [
			"## Example 8.7: State_whether_entropy_change_of_the_universe_is_positive_negative_or_zero.sce"
		   ]
		  },
  {
"cell_type": "code",
	   "execution_count": null,
	   "metadata": {
	    "collapsed": true
	   },
	   "outputs": [],
"source": [
"clc\n",
"clear\n",
"printf('Example 8.7 | Page number 220 \n\n');\n",
"//This is a theoritical question.Refer textbook for solution\n",
"printf('This is a theoritical question.Refer textbook for solution')"
   ]
   }
,
{
		   "cell_type": "markdown",
		   "metadata": {},
		   "source": [
			"## Example 8.8: Determine_the_change_in_entropy.sce"
		   ]
		  },
  {
"cell_type": "code",
	   "execution_count": null,
	   "metadata": {
	    "collapsed": true
	   },
	   "outputs": [],
"source": [
"clc\n",
"clear\n",
"printf('Example 8.8 | Page number 222 \n\n');\n",
"//This is a theoritical question.Refer textbook for solution\n",
"printf('This is a theoritical question.Refer textbook for solution')"
   ]
   }
,
{
		   "cell_type": "markdown",
		   "metadata": {},
		   "source": [
			"## Example 8.9: Find_the_change_in_entropy.sce"
		   ]
		  },
  {
"cell_type": "code",
	   "execution_count": null,
	   "metadata": {
	    "collapsed": true
	   },
	   "outputs": [],
"source": [
"clc\n",
"clear\n",
"printf('Example 8.9 | Page number 223 \n\n');\n",
"//This is a theoritical question.Refer textbook for solution\n",
"printf('This is a theoritical question.Refer textbook for solution')"
   ]
   }
],
"metadata": {
		  "kernelspec": {
		   "display_name": "Scilab",
		   "language": "scilab",
		   "name": "scilab"
		  },
		  "language_info": {
		   "file_extension": ".sce",
		   "help_links": [
			{
			 "text": "MetaKernel Magics",
			 "url": "https://github.com/calysto/metakernel/blob/master/metakernel/magics/README.md"
			}
		   ],
		   "mimetype": "text/x-octave",
		   "name": "scilab",
		   "version": "0.7.1"
		  }
		 },
		 "nbformat": 4,
		 "nbformat_minor": 0
}
