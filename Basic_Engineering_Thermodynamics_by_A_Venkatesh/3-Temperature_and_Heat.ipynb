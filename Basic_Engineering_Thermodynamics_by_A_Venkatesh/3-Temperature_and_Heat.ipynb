{
"cells": [
 {
		   "cell_type": "markdown",
	   "metadata": {},
	   "source": [
       "# Chapter 3: Temperature and Heat"
	   ]
	},
{
		   "cell_type": "markdown",
		   "metadata": {},
		   "source": [
			"## Example 3.1: Temperature_in_degree_Celsius_and_Fahrenheit.sce"
		   ]
		  },
  {
"cell_type": "code",
	   "execution_count": null,
	   "metadata": {
	    "collapsed": true
	   },
	   "outputs": [],
"source": [
"clc\n",
"clear\n",
"printf('Example 3.1 | Page number 73 \n\n');\n",
"//(a) Average human temperature in °C\n",
"//(b) Annual average temperature in peninsular India in °F\n",
"\n",
"//Solution\n",
"//Part(a)\n",
"printf('Part (a)\n')\n",
"tf = 98.6 //°F //average temperature Human Body in °C\n",
"tc = (tf - 32)/1.8 //°C\n",
"printf('Average human temperature in °C = %.1f °C\n\n',tc);\n",
"\n",
"\n",
"//Part(b)\n",
"printf('Part (b)\n')\n",
"tc = 27 //°C //Annual average temperature in peninsular India in °C\n",
"tf = 1.8*tc+32 //Annual average temperature in peninsular India in °F\n",
"printf('Annual average temperature in peninsular India in °F = %.1f °F\n\n',tf);"
   ]
   }
,
{
		   "cell_type": "markdown",
		   "metadata": {},
		   "source": [
			"## Example 3.2: Find_temperature_in_Kelvin.sce"
		   ]
		  },
  {
"cell_type": "code",
	   "execution_count": null,
	   "metadata": {
	    "collapsed": true
	   },
	   "outputs": [],
"source": [
"clc\n",
"clear\n",
"printf('Example 3.2 | Page number 73 \n\n');\n",
"//find temperature in kelvin\n",
"\n",
"t = 27 //°C \n",
"T = t + 273.15 //K\n",
"printf('Temperature in Kelvin = %.2f K',T)"
   ]
   }
,
{
		   "cell_type": "markdown",
		   "metadata": {},
		   "source": [
			"## Example 3.3: Find_temperature_in_degree_Celsius.sce"
		   ]
		  },
  {
"cell_type": "code",
	   "execution_count": null,
	   "metadata": {
	    "collapsed": true
	   },
	   "outputs": [],
"source": [
"clc\n",
"clear\n",
"printf('Example 3.3 | Page number 74 \n\n');\n",
"//find temperature in °C\n",
"\n",
"T = 250 //K \n",
"t = T - 273.15 //°C\n",
"printf('Temperature in °C = %.2f °C',t)"
   ]
   }
,
{
		   "cell_type": "markdown",
		   "metadata": {},
		   "source": [
			"## Example 3.4: Determine_what_A_reads_when_B_reads_30.sce"
		   ]
		  },
  {
"cell_type": "code",
	   "execution_count": null,
	   "metadata": {
	    "collapsed": true
	   },
	   "outputs": [],
"source": [
"clc\n",
"clear\n",
"printf('Example 3.4 | Page number 77 \n\n');\n",
"//Part(a) Determine what A reads when B reads 30\n",
"printf('Part (a)\n');\n",
"//t_A and t_B are readings two Celsius thermometers A and B\n",
"//t_A = p + q*t_B + r*(t_B)^2\n",
"//p, q and are are constants.\n",
"X = [1, 0, 0; 1, 100, 100^2; 1, 50, 50^2]\[0; 100; 51]\n",
"p = X(1);\n",
"q = X(2);\n",
"r = X(3);\n",
"\n",
"deff('y = t_A(t_B)',['y = q*t_B + r*(t_B^2)'])\n",
"t_B = 30;\n",
"\n",
"printf('When thermometer B reads %0.1f°C then thermometer A reads, t_B = %.02f°C\n',t_B,t_A(t_B));\n",
"//Part(b)\n",
"printf('\nPart (b)\n');\n",
"printf('This part is theoritical quesition, book shall be referred for solution.'); "
   ]
   }
,
{
		   "cell_type": "markdown",
		   "metadata": {},
		   "source": [
			"## Example 3.5: Find_the_temperature_attained_by_the_coil.sce"
		   ]
		  },
  {
"cell_type": "code",
	   "execution_count": null,
	   "metadata": {
	    "collapsed": true
	   },
	   "outputs": [],
"source": [
"clc\n",
"clear\n",
"printf('Example 3.5 | Page number 79 \n\n');\n",
"//Find the temperature attained by the coil during full load.\n",
"Rt = 80\n",
"t = 25\n",
"//Substituting Rt and t in Rt = Ro(1+0.00395t)\n",
"Ro = 80/(1+0.00395*25)\n",
"printf('Ro {Resistance at 0°C} = %.2f ohm\n',Ro)\n",
"//Full load condition\n",
"Rt = 95\n",
"//temperature at full load condition\n",
"printf('t {Temperature at full load condition} = %.2f °C',((Rt/Ro)-1)/0.00395);"
   ]
   }
,
{
		   "cell_type": "markdown",
		   "metadata": {},
		   "source": [
			"## Example 3.6: Find_thermometer_reading_when_gas_thermometer_reads_50_degree_C.sce"
		   ]
		  },
  {
"cell_type": "code",
	   "execution_count": null,
	   "metadata": {
	    "collapsed": true
	   },
	   "outputs": [],
"source": [
"clc\n",
"clear\n",
"printf('Example 3.6 | Page number 80 \n\n');\n",
"//What will be thermometer read in place where gas thermometer reads 50°C\n",
"deff('y = e(t)',['y = 0.0367*t + 1.33 * 10^(-4)*t^2'])\n",
"\n",
"printf('Thermometer read in place where gas thermometer reads 50°C = %.2f °C',e(50)/(e(100)/100))"
   ]
   }
],
"metadata": {
		  "kernelspec": {
		   "display_name": "Scilab",
		   "language": "scilab",
		   "name": "scilab"
		  },
		  "language_info": {
		   "file_extension": ".sce",
		   "help_links": [
			{
			 "text": "MetaKernel Magics",
			 "url": "https://github.com/calysto/metakernel/blob/master/metakernel/magics/README.md"
			}
		   ],
		   "mimetype": "text/x-octave",
		   "name": "scilab",
		   "version": "0.7.1"
		  }
		 },
		 "nbformat": 4,
		 "nbformat_minor": 0
}
