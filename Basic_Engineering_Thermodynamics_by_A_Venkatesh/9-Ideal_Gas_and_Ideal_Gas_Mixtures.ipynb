{
"cells": [
 {
		   "cell_type": "markdown",
	   "metadata": {},
	   "source": [
       "# Chapter 9: Ideal Gas and Ideal Gas Mixtures"
	   ]
	},
{
		   "cell_type": "markdown",
		   "metadata": {},
		   "source": [
			"## Example 9.10: EX9_10.sce"
		   ]
		  },
  {
"cell_type": "code",
	   "execution_count": null,
	   "metadata": {
	    "collapsed": true
	   },
	   "outputs": [],
"source": [
"clc\n",
"clear\n",
"printf('Example 9.10 | Page number 280 \n\n');\n",
"//Part(a) Find molar mass and gas constant\n",
"//Part(b) Find mole fractions, partial fractions and partial volumes\n",
"//Given\n",
"m = 1.9 //kg\n",
"T = 273+20 //K\n",
"p = 150e3 //Pa\n",
"yO2 = 0.1 //mass fraction of O2\n",
"yN2 = 0.75 //mass fraction of N2\n",
"yCO2 = 0.12 //mass fraction of CO2\n",
"yCO = 0.03 //mass fraction of CO\n",
"\n",
"//Solution\n",
"//Part(a)\n",
"printf('Part(a)\n\n');\n",
"M = 1/((yO2/32)+(yN2/28)+(yCO/28)+(yCO2/44)) //kg/kmol //molar mass\n",
"printf('Molar mass = %.2f kg/kmol \n',M)\n",
"R = 8314.3/M //J/kgK //Gas constant\n",
"printf('Gas Constant = %.2f J/kgK \n',R)\n",
"V = m*R*T/p //m^3 //Volume\n",
"\n",
"//Part(b)\n",
"printf('\nPart(b)\n')\n",
"xO2 = yO2*(M/32) //mole fraction O2\n",
"printf('\nMole fraction of O2 = %.3f',xO2)\n",
"pO2 = xO2*p //partial pressure O2\n",
"printf('\nPartial pressure of O2 = %.2f kPa',pO2*.001)\n",
"VO2 = xO2*V //partial volume of O2\n",
"printf('\nPartial volume of O2 = %.4f m^3\n',VO2)\n",
"\n",
"\n",
"xN2 = yN2*(M/28) //mole fraction N2\n",
"printf('\nMole fraction of N2 = %.3f',xN2)\n",
"pN2 = xN2*p //partial pressure N2\n",
"printf('\nPartial pressure of N2 = %.2f kPa',pN2*.001)\n",
"VN2 = xN2*V //partial volume of N2\n",
"printf('\nPartial volume of N2 = %.4f m^3\n',VN2)\n",
"\n",
"\n",
"xCO2 = yCO2*(M/44) //mole fraction CO2\n",
"printf('\nMole fraction of CO2 = %.3f',xCO2)\n",
"pCO2 = xCO2*p //partial pressure CO2\n",
"printf('\nPartial pressure of CO2 = %.2f kPa',pCO2*.001)\n",
"VCO2 = xCO2*V //partial volume of CO2\n",
"printf('\nPartial volume of CO2 = %.4f m^3\n',VCO2)\n",
"\n",
"\n",
"xCO = yCO*(M/28) //mole fraction CO\n",
"printf('\nMole fraction of CO = %.3f',xCO)\n",
"pCO = xCO*p //partial pressure CO\n",
"printf('\nPartial pressure of CO = %.2f kPa',pCO*.001)\n",
"VCO = xCO*V //partial volume of CO\n",
"printf('\nPartial volume of CO = %.4f m^3\n',VCO)"
   ]
   }
,
{
		   "cell_type": "markdown",
		   "metadata": {},
		   "source": [
			"## Example 9.11: EX9_11.sce"
		   ]
		  },
  {
"cell_type": "code",
	   "execution_count": null,
	   "metadata": {
	    "collapsed": true
	   },
	   "outputs": [],
"source": [
"clc\n",
"clear\n",
"printf('Example 9.11 | Page number 283 \n\n');\n",
"//Evaluate the mass fraction and volumes fractions of N2 and H2 in mixture\n",
"//Given data\n",
"R = 1841 //J/kgK //Gas constant\n",
"Cp = 6310 //J/kgK //specific heat at constant pressure\n",
"MN = 28 //kg/kmol //molar mass N2\n",
"MH = 2 //kg/kmol //molar mass H2\n",
"CpN = 1042 //J/kgK //specific heat of N2\n",
"CpH = 14210 //J/kgK //specific heat of H2\n",
"\n",
"//Solution\n",
"Y = [8314.3/MN, 8314.3/MH;CpN, CpH]\[R; Cp]\n",
"YN = Y(1) //mass fraction of N2\n",
"YH = Y(2) //mass fraction of H2\n",
"XN = YN*(8314.3/(R*MN)) //volume fraction of N2\n",
"XH = YH*(8314.3/(R*MH)) //volume fraction of H2\n",
"printf('Mass fraction of N2 = %.1f \n',YN)\n",
"printf('Mass fraction of H2 = %.1f \n',YH)\n",
"printf('Volume fraction of N2 = %.4f \n',XN)\n",
"printf('Volume fraction of H2 = %.4f \n',XH)"
   ]
   }
,
{
		   "cell_type": "markdown",
		   "metadata": {},
		   "source": [
			"## Example 9.12: Determine_specific_heat_internal_energy_enthalpy_and_entropy_change.sce"
		   ]
		  },
  {
"cell_type": "code",
	   "execution_count": null,
	   "metadata": {
	    "collapsed": true
	   },
	   "outputs": [],
"source": [
"clc\n",
"clear\n",
"printf('Example 9.12 | Page number 284 \n\n');\n",
"//Part(a) Find specific heats\n",
"//Part(b) Find internal energy\n",
"//Part(c) Find enthalpy\n",
"//Part(d) Find entropy\n",
"//Given Data\n",
"m = 1.9 //kg\n",
"T = 273+20 //K\n",
"p = 150 //kPa\n",
"pdat = 100 //kPa //datum pressure\n",
"Tdat = 273 //K //datum temperature\n",
"yO2 = 0.1 //mass fraction of O2\n",
"yN2 = 0.75 //mass fraction of N2\n",
"yCO2 = 0.12 //mass fraction of CO2\n",
"yCO = 0.03 //mass fraction of CO\n",
"xO2 = 0.093 //mole fraction of O2\n",
"xN2 = 0.795 //mole fraction of N2\n",
"xCO2 = 0.081 //mole fraction of CO2\n",
"xCO = 0.031 //mole fraction of CO\n",
"R = 280.22 //J/kgK\n",
"M = 29.67 //kg/kmol //mixture molar mass\n",
"CpO2=0.922 //kJ/kgK\n",
"CpN2=1.042 //kJ/kgK\n",
"CpCO2=0.842 //kJ/kgK\n",
"CpCO=1.041 //kJ/kgK\n",
"//Part(a)\n",
"printf('Part(a)\n');\n",
"Cp = yN2*CpN2 + yO2*CpO2 + yCO2*CpCO2 + yCO*CpCO //kJ/kgK // specific heat of mixture at constant pressure\n",
"Cv = Cp - R*.001 //specific heat of mixture at constant volume\n",
"printf('Cp = %.3f kJ/kgK\n',Cp)\n",
"printf('Cv = %.4f kJ/kgK\n',Cv) \n",
"\n",
"//Part(b)\n",
"printf('\nPart(b)\n');\n",
"U = m*(Cv*(T-Tdat)) //kJ //internal energy\n",
"printf('Internal energy = %.2f kJ\n',U)\n",
"\n",
"//Part(c)\n",
"printf('\nPart(c)\n')\n",
"H = U + m*R*T*.001 //kJ //enthalpy\n",
"printf('Enthalpy = %.1f kJ\n',H)\n",
"\n",
"//Part(d)\n",
"printf('\nPart(d)\n')\n",
"SO2 = CpO2*log(T/Tdat)-(8.3143/32)*log(xO2*(p/pdat)) //kJ/kgK //entropy of O2\n",
"SN2 = CpN2*log(T/Tdat)-(8.3143/28)*log(xN2*(p/pdat)) //kJ/kgK //entropy of N2\n",
"SCO2 = CpCO2*log(T/Tdat)-(8.3143/44)*log(xCO2*(p/pdat)) //kJ/kgK //entropy of CO2\n",
"SCO = CpCO*log(T/Tdat)-(8.3143/28)*log(xCO*(p/pdat)) //kJ/kgK //entropy of CO\n",
"\n",
"S = m*(yO2*SO2+yN2*SN2+yCO2*SCO2+yCO*SCO) //kJ/K //entropy\n",
"printf('Entropy = %.4f kJ/K',S)"
   ]
   }
,
{
		   "cell_type": "markdown",
		   "metadata": {},
		   "source": [
			"## Example 9.13: Calculate_magnitude_and_direction_of_heat_transfer_and_pressure_of_the_mixture.sce"
		   ]
		  },
  {
"cell_type": "code",
	   "execution_count": null,
	   "metadata": {
	    "collapsed": true
	   },
	   "outputs": [],
"source": [
"clc\n",
"clear\n",
"printf('Example 9.13 | Page number 288 \n\n');\n",
"//Find magnitude and direction of heat transfer\n",
"\n",
"//Given data\n",
"V_He = 0.3 //m^3 //volume of Helium\n",
"p_He = 20e5 //Pa //pressure of Helium\n",
"T_He = 273+30 //K //Temperature of Helium\n",
"V_O2 = 0.7 //m^3 //volume of O2\n",
"p_O2 = 6e5 //Pa //pressure of O2\n",
"T_O2 = 273+2 //K Temperature of O2\n",
"R_He = 2077 //J/kgK\n",
"R_O2 = 260 //J/kgK\n",
"Cv_He = 3116 //J/kgK\n",
"Cv_O2 = 662 //J/kgK\n",
"//Solution\n",
"m_He = (p_He*V_He)/(R_He*T_He) //kg //mass of Helium\n",
"m_O2 = (p_O2*V_O2)/(R_O2*T_O2) //kg //mass of O2\n",
"T_ad = (m_He*Cv_He*T_He+m_O2*Cv_O2*T_O2)/(m_He*Cv_He+m_O2*Cv_O2) //K //Temperature after mixing\n",
"T_final = 300 //K //final temperature\n",
"Q = (Cv_He*m_He+Cv_O2*m_O2)*(T_final-T_ad) //J //Magnitude of heat transfer\n",
"printf('Magnitude of heat transfer = %.2f kJ',Q*.001)"
   ]
   }
,
{
		   "cell_type": "markdown",
		   "metadata": {},
		   "source": [
			"## Example 9.14: Determine_mixture_temperature_and_rate_of_entropy_generation.sce"
		   ]
		  },
  {
"cell_type": "code",
	   "execution_count": null,
	   "metadata": {
	    "collapsed": true
	   },
	   "outputs": [],
"source": [
"clc\n",
"clear\n",
"printf('Example 9.14 | Page number 289 \n\n');\n",
"//Part(a) Find mixture temperature\n",
"//Part(b) Find rate of entropy generation\n",
"\n",
"//Given Data\n",
"T_E = (273+20) //K //temperature of ethane\n",
"p_E = 200 //kPa //pressure of ethane\n",
"T_M = 273+45 //K //temperature of methane\n",
"p_M = 200 //kPa //pressure of methane\n",
"m_E = 9 //kg/s //mass rate of ethane\n",
"m_M = 4.5 //kg/s //mass rate of methane\n",
"Cp_E = 1766 //J/kgK //specific heat of ethane\n",
"Cp_M = 2254 //J/kgK //specific heat of methane\n",
"\n",
"//Solution\n",
"//Part(a)\n",
"printf('Part(a)\n');\n",
"T = (m_E*Cp_E*T_E+m_M*Cp_M*T_M)/(m_E*Cp_E+m_M*Cp_M) //K //mixture temperature\n",
"printf('Mixture temperature = %.1f K\n\n',T)\n",
"\n",
"//Part(b)\n",
"printf('Part(b)\n');\n",
"R_E = 8314.3/30 //J/kgK //gas constant for ethane\n",
"R_M = 8314.3/16 //J/kgK //gas constant for methane\n",
"R = (m_E/(m_E+m_M))*R_E+(m_M/(m_E+m_M))*R_M //J/kgK //gas constant of mixture\n",
"M = 8314.3/R //kg/kmol //mixture molar mass\n",
"x_E = (m_E/(m_E+m_M))*(M/30) //mole fraction of ethane\n",
"x_M = (m_M/(m_E+m_M))*(M/16) //mole fraction of methane\n",
"\n",
"delta_S_E = Cp_E*log(T/T_E) - R_E*log(x_E) //J/kgK //change in entropy of ethane\n",
"delta_S_M = Cp_M*log(T/T_M) - R_M*log(x_M) //J/kgK //change in entropy of methane\n",
"\n",
"printf('Rate of entropy production = %.4f kJ/sK',(m_E*delta_S_E+m_M*delta_S_M)*.001)"
   ]
   }
,
{
		   "cell_type": "markdown",
		   "metadata": {},
		   "source": [
			"## Example 9.1: What_is_the_volume_occupied_by_Nitroge.sce"
		   ]
		  },
  {
"cell_type": "code",
	   "execution_count": null,
	   "metadata": {
	    "collapsed": true
	   },
	   "outputs": [],
"source": [
"clc\n",
"clear\n",
"printf('Example 9.1 | Page number 253 \n\n');\n",
"//Find the volume occupied\n",
"//Given Data\n",
"m = 6 //kg //mass of nitrogen\n",
"M = 28 //kg/kmol //molar mass of nitrogen\n",
"R = 8314.3 //kg/kmol\n",
"p = 1e5 //Pa //pressure\n",
"T = 27+273 //K //temperature\n",
"//Solution\n",
"V = m*R*T/(p*M)\n",
"printf('Volume occupied by nitrogen = %.3f m^3',V)"
   ]
   }
,
{
		   "cell_type": "markdown",
		   "metadata": {},
		   "source": [
			"## Example 9.2: Find_the_final_volume.sce"
		   ]
		  },
  {
"cell_type": "code",
	   "execution_count": null,
	   "metadata": {
	    "collapsed": true
	   },
	   "outputs": [],
"source": [
"clc\n",
"clear\n",
"printf('Example 9.2 | Page number 253 \n\n');\n",
"//Find the final volume\n",
"//Given data\n",
"p1 = 10 //bar //inital pressure\n",
"T1 = 273+227 //K //inital temperature\n",
"v1 = 0.01 //m^3 //initial volume\n",
"p2 = 1 //bar //final pressure\n",
"T2 = 273+27 //K //final temperature\n",
"//Solution\n",
"v2 = (p1/p2)*(T2/T1)*v1 //m^3 //final volume\n",
"printf('Final volume = %.2f m^3',v2)"
   ]
   }
,
{
		   "cell_type": "markdown",
		   "metadata": {},
		   "source": [
			"## Example 9.3: Find_internal_energy_and_enthalpy.sce"
		   ]
		  },
  {
"cell_type": "code",
	   "execution_count": null,
	   "metadata": {
	    "collapsed": true
	   },
	   "outputs": [],
"source": [
"clc\n",
"clear\n",
"printf('Example 9.3 | Page number 255 \n\n');\n",
"//Part(a) Find internal energy\n",
"//Part(b) Find enthalpy and internal energy at (i)10bar,50°C and,(ii)0.085 m^3/kg and 50°C\n",
"\n",
"//Given Data\n",
"p = 1 //bar //pressure\n",
"T = 50+273 //°C //temperature\n",
"h = 324.6 //kJ/kg //enthalpy\n",
"R = 8.3143 //kJ/kmolK\n",
"M = 28.97 //kg/kmol\n",
"//Part (a)\n",
"printf('Part (a)\n');\n",
"u = h - (R/M)*T //kJ/kg //internal energy\n",
"printf('Internal energy = %.1f kJ/kg\n',u)\n",
"//Part (b)\n",
"printf('\nPart (b):(i)\n');\n",
"u = h - (R/M)*T //kJ/kg //internal energy\n",
"printf('Enthalpy = %.1f kJ/kg\n',h)\n",
"printf('Internal energy = %.1f kJ/kg\n',u)\n",
"printf('Part (b):(ii)\n');\n",
"u = h - (R/M)*T //kJ/kg //internal energy\n",
"printf('Enthalpy = %.1f kJ/kg\n',h)\n",
"printf('Internal energy = %.1f kJ/kg',u)"
   ]
   }
,
{
		   "cell_type": "markdown",
		   "metadata": {},
		   "source": [
			"## Example 9.4: Calculate_the_value_of_Cp_for_air.sce"
		   ]
		  },
  {
"cell_type": "code",
	   "execution_count": null,
	   "metadata": {
	    "collapsed": true
	   },
	   "outputs": [],
"source": [
"clc\n",
"clear\n",
"printf('Example 9.4 | Page number 256 \n\n');\n",
"//Calculate Cp of air\n",
"//Given Data\n",
"Cv = 718 //J/kgK //specific at constant volume\n",
"M = 28.97 //kg/kmol //molar mass of air\n",
"R = 8314.3 //J/kmolK\n",
"//Solution\n",
"Cp = (R/M)+Cv //J/kgK //specific heat at constant pressure\n",
"printf('Specific heat at constant pressure = %.1f J/kg K',Cp)"
   ]
   }
,
{
		   "cell_type": "markdown",
		   "metadata": {},
		   "source": [
			"## Example 9.5: Calculate_the_increase_in_specific_enthalpy_and_change_in_enthalpy.sce"
		   ]
		  },
  {
"cell_type": "code",
	   "execution_count": null,
	   "metadata": {
	    "collapsed": true
	   },
	   "outputs": [],
"source": [
"clc\n",
"clear\n",
"printf('Example 9.5 | Page number 258 \n\n');\n",
"//Part(a) Calculate increase in specific enthalpy\n",
"//Part(b) Calculate change in enthalpy\n",
"\n",
"//Given data\n",
"p1 = 1 //bar //initial pressure\n",
"T1 = 27+273 //K //initial temperature\n",
"p2 = 10 //bar //final pressure\n",
"T2 = 327+273 //K //final temperature\n",
"//Solution\n",
"//Part(a)\n",
"printf('Part(a)\n');\n",
"delta_h = integrate('1.4-18.3*(T/100)^(-1.5)+38.3*(T/100)^(-2)-29.3*(T/100)^(-3)','T',T1,T2) //kJ/kg //Increase in specific enthalpy\n",
"printf('Increase in specific enthalpy = %.2f kJ/kg\n',delta_h)\n",
"//Part(b)\n",
"printf('\nPart(b)\n');\n",
"delta_h = integrate('1.042','T',T1,T2) //kJ/kg //Increase in specific enthalpy\n",
"printf('Increase in specific enthalpy at (Cp = 1.042 kJ/kgK) = %.2f kJ/kg',delta_h)"
   ]
   }
,
{
		   "cell_type": "markdown",
		   "metadata": {},
		   "source": [
			"## Example 9.6: Find_the_final_temperature_of_air.sce"
		   ]
		  },
  {
"cell_type": "code",
	   "execution_count": null,
	   "metadata": {
	    "collapsed": true
	   },
	   "outputs": [],
"source": [
"clc\n",
"clear\n",
"printf('Example 9.6 | Page number 268 \n\n');\n",
"//Find the final temperature when:\n",
"//Part(a) V = constant\n",
"//Part(b) pV = constant\n",
"//Part(c) pV^y = constant\n",
"//And P-V diagram\n",
" \n",
"//Given Data\n",
"Cp = 1005 //J/kgK //specific heat at constant pressure\n",
"Cv = 718 //J/kgK //specific heat at constant volume\n",
"m = 1 //kg //mass of air\n",
"T1 = (27+273) //K //initial temperature\n",
"p1 = 1e5 //Pa //initial pressure\n",
"p2 = p1/2 //Pa //final pressure\n",
"\n",
"//Solution\n",
"//Part(a)\n",
"printf('Part(a)\n');\n",
"R = Cp-Cv //J/kgK\n",
"V1_a = m*R*T1/p1 //m^3 //initial volume\n",
"V2_a = V1_a //m^3 //final volume\n",
"T2 = p2*V2_a/(m*R) //K //final temperature\n",
"printf('Final temperature,T2 = %.1f K\n\n',T2)\n",
"\n",
"//Part(b)\n",
"printf('Part(b)\n');\n",
"V1_b = m*R*T1/p1 //m^3 //initial volume\n",
"V2_b = V1_b*(p1/p2) //m^3 //final volume\n",
"//Isothermal process => T1 = T2\n",
"printf('Final temperature,T2 = %.1f K\n\n',T1)\n",
"\n",
"//Part(c)\n",
"printf('Part(c)\n');\n",
"R = Cp-Cv //J/kgK\n",
"y = Cp/Cv\n",
"V1_c = m*R*T1/p1 //m^3 //initial volume\n",
"V2_c = V1_c*(p1/p2)^(1/y) //m^3 //final volume\n",
"T2 = p2*V2_c/(m*R) //K //final temperature\n",
"printf('Final temperature,T2 = %.1f K\n\n',T2)\n",
"\n",
"//P-V diagram\n",
"P = [p1*1e-5 p2*1e-5]\n",
"V = [V1_a V1_a]\n",
"plot(V,P,'b')       //plot for part(a)\n",
"\n",
"V = linspace(V1_b,V2_b,100)\n",
"P = (p1*1e-5*V1_b)./V\n",
"plot(V,P,'g')      //plot for part(b)\n",
"\n",
"V = linspace(V1_c,V2_c,100)\n",
"P = (p1*1e-5*V1_c^y)./V.^y\n",
"plot(V,P,'r')     //plot for part(c)\n",
"xlabel('Volume in m^3')\n",
"ylabel('Pressure in bar')\n",
"title('p-V diagram sought in example 9.6')\n",
"legends(['Part (a)';'Part (b)';'Part (c)'],[2 3 5],opt=1)"
   ]
   }
,
{
		   "cell_type": "markdown",
		   "metadata": {},
		   "source": [
			"## Example 9.7: Find_the_enthalpy_entropy_and_internal_energy_of_Nitrogen.sce"
		   ]
		  },
  {
"cell_type": "code",
	   "execution_count": null,
	   "metadata": {
	    "collapsed": true
	   },
	   "outputs": [],
"source": [
"clc\n",
"clear\n",
"printf('Example 9.7 | Page number 270 \n\n');\n",
"//Part(a) How many kilograms of nitrogen are stored in the bottle\n",
"//Part(b) (i) Find temperature of nitrogen at maximum pressure,(ii)increase in internal energy (iii)increase in enthalpy (iv)increase in entropy of nitrogen\n",
"//Given Data\n",
"p1 = 10e6 //N/m^2 //initial pressure\n",
"T1 = 273+27 //K //inital temperature\n",
"V1 = 50e-3 //m^3 //inital volume\n",
"M = 28 //g/mol //molecular mass\n",
"R = 8314.3/M //J/kgK\n",
"y = 1.4 //gamma\n",
"\n",
"//Solution\n",
"//Part(a)\n",
"printf('Part(a)\n');\n",
"m = (p1*V1)/(R*T1)\n",
"printf('Mass of nitrogen stored in bottle = %.3f kg\n\n',m)\n",
"\n",
"//Part(b):(i)\n",
"printf('Part(b):(i)\n');\n",
"p2 = 15e6 //N/m^2 //final pressure\n",
"V2 = V1 //m^3 //final volume\n",
"T2 = (p2*V2)/(m*R)\n",
"printf('Temperature of nitrogen at maximum permitted temperature = %.1f K\n\n',T2)\n",
"\n",
"//Part(b):(ii)\n",
"printf('Part(b):(ii)\n');\n",
"C = [1, -1.4;1, -1]\[0;R] //J/kgK //C = [Cp;Cv]\n",
"delta_U = m*C(2)*(T2-T1)*.001 //kJ //Change in internal energy\n",
"printf('Change in internal energy = %.1f kJ\n\n',delta_U)\n",
"\n",
"//Part(b):(iii)\n",
"printf('Part(b):(iii)\n');\n",
"delta_H = m*C(1)*(T2-T1)*.001 //kJ //Change in enthalpy\n",
"printf('Change in enthalpy = %.1f kJ\n\n',delta_H)\n",
"\n",
"//Part(b):(iv)\n",
"printf('Part(b):(iv)\n');\n",
"delta_S = m*(C(2)*log(T2/T1)+R*log(V2/V1))*.001 //kJ/K //Change in entropy\n",
"printf('Change in entropy = %.4f kJ/K',delta_S)"
   ]
   }
,
{
		   "cell_type": "markdown",
		   "metadata": {},
		   "source": [
			"## Example 9.8: Calculate_work_per_kilogram_of_air_and_change_in_entropy.sce"
		   ]
		  },
  {
"cell_type": "code",
	   "execution_count": null,
	   "metadata": {
	    "collapsed": true
	   },
	   "outputs": [],
"source": [
"clc\n",
"clear\n",
"printf('Example 9.8 | Page number 271 \n\n');\n",
"//Calculate work per kilogram of air and change in entropy\n",
"//Given Data\n",
"T1 = 800 //K //initial temperature\n",
"p1 = 1.5e6 //N/m^2 //initial pressure\n",
"T2 = 540 //K //final temperature\n",
"T2s = 485 //K //final temperature for reversible process\n",
"Q = 0 //adiabatic process\n",
"y = 1.4\n",
"Cv = 718 //J/kgK //specific heat at constant volume\n",
"\n",
"//Solution\n",
"delta_U = Cv*(T2-T1) //kJ/kg //change in internal energy\n",
"W = (Q-delta_U)*.001 //kJ/kg //work done per kilogram\n",
"printf('Work done per kilogram = %.1f kJ/kg\n',W);\n",
"\n",
"p2 = p1*(T2s/T1)^(y/(y-1)) //N/m^2 //final pressure\n",
"delta_S = (y*Cv)*log(T2/T1)-(y*Cv-Cv)*log(p2/p1)\n",
"printf('Change in entropy = %.3f kJ/kgK',delta_S*.001)"
   ]
   }
,
{
		   "cell_type": "markdown",
		   "metadata": {},
		   "source": [
			"## Example 9.9: Find_the_molar_mass_and_the_gas_constant_of_the_mixture.sce"
		   ]
		  },
  {
"cell_type": "code",
	   "execution_count": null,
	   "metadata": {
	    "collapsed": true
	   },
	   "outputs": [],
"source": [
"clc\n",
"clear\n",
"printf('Example 9.9 | Page number 279 \n\n');\n",
"//Find molar mass and gas constant and find mass fractions of the constituents.\n",
"//Given Data\n",
"xCO2 = 0.1 //mole fraction of CO2\n",
"xO2 = .09 //mole fraction of O2\n",
"xCO = 0.01 //mole fraction of CO\n",
"xN2 = 0.8 //mole fraction of N2\n",
"\n",
"//Solution\n",
"M = xCO2*44 + xO2*32 + xCO*28 + xN2*28 //kg/kmol //avg. molar mass\n",
"R = 8314.3/M //J/kgK //gas constant\n",
"yCO2 = xCO2*(44/M) //mass fraction of CO2\n",
"yO2 = xO2*(32/M) //mass fraction of O2\n",
"yCO = xCO*(28/M) //mass fraction of CO\n",
"yN2 = xN2*(28/M) //mass fraction of N2\n",
"\n",
"printf('Molar Mass = %.2f kg/kmol\n',M);\n",
"printf('Gas constant = %.1f J/kgK\n',R);\n",
"printf('Mass fraction of CO2 = %.4f \n',yCO2);\n",
"printf('Mass fraction of O2 = %.4f \n',yO2);\n",
"printf('Mass fraction of CO = %.4f \n',yCO);\n",
"printf('Mass fraction of N2 = %.4f \n',yN2);"
   ]
   }
],
"metadata": {
		  "kernelspec": {
		   "display_name": "Scilab",
		   "language": "scilab",
		   "name": "scilab"
		  },
		  "language_info": {
		   "file_extension": ".sce",
		   "help_links": [
			{
			 "text": "MetaKernel Magics",
			 "url": "https://github.com/calysto/metakernel/blob/master/metakernel/magics/README.md"
			}
		   ],
		   "mimetype": "text/x-octave",
		   "name": "scilab",
		   "version": "0.7.1"
		  }
		 },
		 "nbformat": 4,
		 "nbformat_minor": 0
}
