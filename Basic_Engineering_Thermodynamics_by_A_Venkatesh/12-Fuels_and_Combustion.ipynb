{
"cells": [
 {
		   "cell_type": "markdown",
	   "metadata": {},
	   "source": [
       "# Chapter 12: Fuels and Combustion"
	   ]
	},
{
		   "cell_type": "markdown",
		   "metadata": {},
		   "source": [
			"## Example 12.10: Find_the_enthalpy_of_reaction.sce"
		   ]
		  },
  {
"cell_type": "code",
	   "execution_count": null,
	   "metadata": {
	    "collapsed": true
	   },
	   "outputs": [],
"source": [
"clc\n",
"clear\n",
"printf('Example 12.10 | Page number 435 \n\n');\n",
"//Find enthalpy of reaction\n",
"//Given Data\n",
"deltaH_gasgas = -2651.4e3 //kJ/kmol butane\n",
"hfg_butane = 370 //kJ/kg //enthalpies of vaporisation of butance\n",
"hfg_water = 2442 //kJ/kg //enthalpies of vaporisation of water\n",
"M_butane = 58 //g/mol\n",
"M_water = 18 //g/mol\n",
"\n",
"//Solution\n",
"deltaH_liqliq = deltaH_gasgas + M_butane*hfg_butane - 5*M_water*hfg_water\n",
"printf('Enthalpy of reaction = %.1f kJ/kg',deltaH_liqliq/M_butane)"
   ]
   }
,
{
		   "cell_type": "markdown",
		   "metadata": {},
		   "source": [
			"## Example 12.11: Find_the_standard_change_in_enthalpy_for_the_reaction.sce"
		   ]
		  },
  {
"cell_type": "code",
	   "execution_count": null,
	   "metadata": {
	    "collapsed": true
	   },
	   "outputs": [],
"source": [
"clc\n",
"clear\n",
"printf('Example 12.11 | Page number 437 \n\n');\n",
"//Find standard delta_H for reaction\n",
"//Given Data\n",
"//Formation Enthalpies\n",
"hf_CO2 = -393510 //kJ/kmol\n",
"hf_H2O = -285838 //kJ/kmol\n",
"hf_C3H8 = -104680 //kJ/kmol\n",
"hf_O2 = 0 //kJ/kmol\n",
"\n",
"//Solution\n",
"Hp = 3*hf_CO2 + 4*hf_H2O \n",
"Hr = hf_C3H8 + 5*hf_O2\n",
"deltaH_std = Hp-Hr\n",
"printf('Standard change in enthalpy for the reaction = %.1f kJ/kg',deltaH_std/44)"
   ]
   }
,
{
		   "cell_type": "markdown",
		   "metadata": {},
		   "source": [
			"## Example 12.12: Frind_the_heat_transferred_from_the_combustor.sce"
		   ]
		  },
  {
"cell_type": "code",
	   "execution_count": null,
	   "metadata": {
	    "collapsed": true
	   },
	   "outputs": [],
"source": [
"clc\n",
"clear\n",
"printf('Example 12.12 | Page number 438 \n\n');\n",
"//Find the heat transferred from the combustor per kg ethylene\n",
"//Given Data\n",
"Cp_C2H4 = 28*1.548 //kJ/lmolK\n",
"Cp_O2 = 32*0.922 //kJ/lmolK\n",
"Cp_N2 = 28*1.042 //kJ/lmolK\n",
"Cp_CO2 = 44*0.842 //kJ/lmolK\n",
"Cp_H2O = 18*1.86 //kJ/lmolK\n",
"\n",
"//Solution\n",
"deltaH_BX = (2*Cp_CO2 + 2*Cp_H2O + 0.3*Cp_O2 + 12.408*Cp_N2)*(120-25)\n",
"deltaH_YA = (Cp_C2H4 + 3.3*Cp_O2 + 12.408*Cp_N2)*(25-50)\n",
"hf_CO2 = -393510 //kJ/kmol\n",
"hf_H2O = -241820 //kJ/kmol\n",
"hf_C2H4 = 52283 //kJ/kmol\n",
"deltaH_XY = 2*hf_CO2 + 2*hf_H2O - hf_C2H4 //kJ/kmol\n",
"deltaH_BA = deltaH_BX + deltaH_YA + deltaH_XY //kJ/kmol\n",
"\n",
"printf('The heat transferred from the combustor per kg ethylene = %.1f kJ/kg ethane',deltaH_BA/28)"
   ]
   }
,
{
		   "cell_type": "markdown",
		   "metadata": {},
		   "source": [
			"## Example 12.13: Find_the_adiabatic_combustion_temperature.sce"
		   ]
		  },
  {
"cell_type": "code",
	   "execution_count": null,
	   "metadata": {
	    "collapsed": true
	   },
	   "outputs": [],
"source": [
"clc\n",
"clear\n",
"printf('Example 12.13 | Page number 441 \n\n');\n",
"//Find adiabatic combustion temperature when methane is burnt\n",
"//Part(a) using average Cp values\n",
"//Part(b) using ideal gas enthalpy\n",
"\n",
"//Part(a)\n",
"printf('Part(a)\n')\n",
"//Picking up various Cp values from Table 12.1\n",
"tB = (16*50010)/(44*0.842+2*18*1.86+3*32*0.922+22.56*28*1.042)+25\n",
"printf('Adiabatic combustion temperature (using average Cp values)= %.1f K\n\n',tB+273)\n",
"\n",
"//Part(b)\n",
"printf('Part(b)\n')\n",
"tb1 = 1000 //K //first guess temperature\n",
"tb2 = 1200 //K second guess temperature\n",
"tb = (tb1 - tb2)/(637617-836847)*(800160-836847) + tb2\n",
"printf('Adiabatic combustion temperature (using ideal gas enthalpy)= %.1f K',tb)"
   ]
   }
,
{
		   "cell_type": "markdown",
		   "metadata": {},
		   "source": [
			"## Example 12.14: Find_the_LCV_and_HCV_of_gaseous_hexane.sce"
		   ]
		  },
  {
"cell_type": "code",
	   "execution_count": null,
	   "metadata": {
	    "collapsed": true
	   },
	   "outputs": [],
"source": [
"clc\n",
"clear\n",
"printf('Example 12.14 | Page number 443 \n\n');\n",
"//Find LCV and HCV of gaseous hexane\n",
"//Given data\n",
"delta_H_std = -45101 //kJ/kg\n",
"hfg = 2442 //kJ/kg //enthalpy of vaporisation\n",
"\n",
"//Solution\n",
"LCV = -1*delta_H_std // kJ/kg hexane\n",
"printf('LCV of gaseous hexane = %.1f kJ/kg hexane\n',LCV)\n",
"\n",
"m = 7*18/86 //mass of H2O per kg hexane\n",
"HCV = LCV+m*hfg //kJ/kg hexane\n",
"printf('HCV of gaseous hexane = %.1f kJ/kg hexane',HCV)"
   ]
   }
,
{
		   "cell_type": "markdown",
		   "metadata": {},
		   "source": [
			"## Example 12.1: Find_the_gravimetric_and_ultimate_analysis.sce"
		   ]
		  },
  {
"cell_type": "code",
	   "execution_count": null,
	   "metadata": {
	    "collapsed": true
	   },
	   "outputs": [],
"source": [
"clc\n",
"clear\n",
"printf('Example 12.1 | Page number 412 \n\n');\n",
"//Part(a) Find gravimetric analysis\n",
"//Part(b) Find ultimate analysis\n",
"//Given solution\n",
"xCO2 = 0.03 //mole fraction of CO2\n",
"xCO = 0.19 //mole fraction of CO\n",
"xH2 = 0.41 //mole fraction of H2\n",
"xCH4 = 0.25 //mole fraction of CH4\n",
"xC2H4 = 0.09 //mole fraction of C2H4\n",
"xN2 = 0.03 //mole fraction of N2\n",
"\n",
"//Solution\n",
"//Part(a)\n",
"printf('Part(a)\n');\n",
"M = xCO2*44 + xCO*28 + xH2*2 + xC2H4*28 +xCH4*16 + xN2*28 //kg/mol //average molar mass\n",
"yCO2 = xCO2*(44/M)\n",
"yCO = xCO*(28/M)\n",
"yH2 = xH2*(2/M)\n",
"yCH4 = xCH4*(16/M)\n",
"yC2H4 = xC2H4*(28/M)\n",
"yN2 = xN2*(28/M)\n",
"printf('yCO2 = %.2f%%\n',yCO2*100)\n",
"printf('yCO = %.2f%%\n',yCO*100)\n",
"printf('yH2 = %.2f%%\n',yH2*100)\n",
"printf('yCH4 = %.2f%%\n',yCH4*100)\n",
"printf('yC2H4 = %.2f%%\n',yC2H4*100)\n",
"printf('yN2 = %.2f%%\n\n',yN2*100)\n",
"\n",
"//Part(b)\n",
"printf('Part(b)\n');\n",
"nC = xCO2 + xCO + xCH4 + xC2H4*2 //number of moles of C\n",
"nH2 = xH2 + xCH4*2 + xC2H4*2 //number of moles of H2\n",
"nO2 = xCO2 + 0.5*xCO //number of moles of O2\n",
"nN2 = xN2 //number of moles of N2\n",
"\n",
"mC = nC*12/M\n",
"mH2 = nH2*2/M\n",
"mO2 = nO2*32/M\n",
"mN2 = nN2*28/M\n",
"printf('mC = %.2f%%\n',mC*100)\n",
"printf('mH2 = %.2f%%\n',mH2*100)\n",
"printf('mO2 = %.2f%%\n',mO2*100)\n",
"printf('mN2 = %.2f%%\n',mN2*100)"
   ]
   }
,
{
		   "cell_type": "markdown",
		   "metadata": {},
		   "source": [
			"## Example 12.2: Find_the_stoichiometric_air.sce"
		   ]
		  },
  {
"cell_type": "code",
	   "execution_count": null,
	   "metadata": {
	    "collapsed": true
	   },
	   "outputs": [],
"source": [
"clc\n",
"clear\n",
"printf('Example 12.2 | Page number 416 \n\n');\n",
"//Find the stoichiometric air for combustion of (a)Carbon (b)Hydrogen (c)Sulphur\n",
"//Given data\n",
"//Molar masses of O2,H2,N2,C and S respectively\n",
"MO2 = 32 //g/mol\n",
"MH2 = 2 //g/mol\n",
"MN2 = 28 //g/mol\n",
"MC = 12 //g/mol\n",
"MS = 32 //g/mol\n",
"//Part(a)\n",
"printf('Part(a)\n')\n",
"printf('Stoichiometric air(Carbon) = %.2f kg/kg carbon\n\n',(MO2 + 3.76*MN2)/MC)\n",
"//Part(b)\n",
"printf('Part(b)\n')\n",
"printf('Stoichiometric air(Hydrogen) = %.2f kg/kg hydrogen\n\n',0.5*(MO2 + 3.76*MN2)/MH2)\n",
"//Part(c)\n",
"printf('Part(c)\n')\n",
"printf('Stoichiometric air(Sulphur) = %.2f kg/kg sulphur\n',(MO2 + 3.76*MN2)/MS)"
   ]
   }
,
{
		   "cell_type": "markdown",
		   "metadata": {},
		   "source": [
			"## Example 12.3: Find_the_stoichiometric_air.sce"
		   ]
		  },
  {
"cell_type": "code",
	   "execution_count": null,
	   "metadata": {
	    "collapsed": true
	   },
	   "outputs": [],
"source": [
"clc\n",
"clear\n",
"printf('Example 12.3 | Page number 417 \n\n');\n",
"//Find the stoichiometric air\n",
"//Given data\n",
"xC3H8 = 0.2 //mole fraction of propane\n",
"xC4H10 = 0.8 //mole fraction of butane\n",
"//Molar masses of O2,H2,N2 & C respectively\n",
"MO2 = 32 //g/mol\n",
"MH2 = 2 //g/mol\n",
"MN2 = 28 //g/mol\n",
"MC = 12 //g/mol\n",
"\n",
"//Solution\n",
"//C balance\n",
"b = xC3H8*3+xC4H10*4\n",
"//H2 balance\n",
"d = xC3H8*4 + xC4H10*5\n",
"//O2 balance\n",
"a = b + d/2\n",
"//N2 balance\n",
"c = 3.76*a\n",
"\n",
"Stoichiometric_air =  a*(MO2 + 3.76*MN2)/(xC3H8*(MC+MO2)+xC4H10*(MC*4+MH2*5))\n",
"printf('Stoichiometric air = %.2f kg/kg cooking gas',Stoichiometric_air)"
   ]
   }
,
{
		   "cell_type": "markdown",
		   "metadata": {},
		   "source": [
			"## Example 12.4: Find_the_excess_air_and_percent_theoretical_air.sce"
		   ]
		  },
  {
"cell_type": "code",
	   "execution_count": null,
	   "metadata": {
	    "collapsed": true
	   },
	   "outputs": [],
"source": [
"clc\n",
"clear\n",
"printf('Example 12.4 | Page number 418 \n\n');\n",
"//Find excess air and % theoretical air\n",
"//Given data\n",
"xC3H8 = 0.2 //mole fraction of propane\n",
"xC4H10 = 0.8 //mole fraction of butane\n",
"\n",
"xO2 = 0.21 //mole fraction of O2\n",
"xN2 = 0.79 //mole fraction of N2\n",
"//Molar masses of O2,H2,N2 & C respectively\n",
"MO2 = 32 //g/mol\n",
"MH2 = 2 //g/mol\n",
"MN2 = 28 //g/mol\n",
"MC = 12 //g/mol\n",
"Stoichiometric_air = 15.42 //kg/kg\n",
"\n",
"//Solution\n",
"//C balance\n",
"b = xC3H8*3+xC4H10*4\n",
"//H2 balance\n",
"e = xC3H8*4 + xC4H10*5\n",
"//O2 balance\n",
"d = 40*xO2-b -0.5*e\n",
"//N2 balance\n",
"c = 40*xN2\n",
"\n",
"actual_air = 40*(xO2*MO2 + xN2*MN2)/(xC3H8*(MC*3+MH2*4)+xC4H10*(MC*4+MH2*5)) //kg/kg gas\n",
"\n",
"excess_air = (actual_air - Stoichiometric_air)/Stoichiometric_air*100\n",
"printf('Excess air = %.1f%%\n',excess_air)\n",
"\n",
"theoritical_air = 100+excess_air\n",
"printf('Theoritical air = %.1f%%\n',theoritical_air)"
   ]
   }
,
{
		   "cell_type": "markdown",
		   "metadata": {},
		   "source": [
			"## Example 12.5: Find_the_Orsat_analysis.sce"
		   ]
		  },
  {
"cell_type": "code",
	   "execution_count": null,
	   "metadata": {
	    "collapsed": true
	   },
	   "outputs": [],
"source": [
"clc\n",
"clear\n",
"printf('Example 12.5 | Page number 420 \n\n');\n",
"//Find the Orsat analysis of the combustion products\n",
"//Given Data\n",
"nCO2 = 3.8 //Number of moles of CO2\n",
"nN2 = 31.6 //Number of moles of N2\n",
"nO2 = 2.2 //Number of moles of O2\n",
"\n",
"//Solution\n",
"n = nCO2 + nN2 + nO2\n",
"xCO2 = nCO2/n //mole fraction of CO2\n",
"xN2 = nN2/n //mole fraction of N2\n",
"xO2 = nO2/n //mole fraction of O2\n",
"\n",
"printf('xCO2 = %.1f %% \n',xCO2*100)\n",
"printf('xN2 = %.1f %% \n',xN2*100)\n",
"printf('xO2 = %.1f %% \n',xO2*100)"
   ]
   }
,
{
		   "cell_type": "markdown",
		   "metadata": {},
		   "source": [
			"## Example 12.6: Find_the_volume_fraction_and_mass_fraction_of_the_products_of_combustion.sce"
		   ]
		  },
  {
"cell_type": "code",
	   "execution_count": null,
	   "metadata": {
	    "collapsed": true
	   },
	   "outputs": [],
"source": [
"clc\n",
"clear\n",
"printf('Example 12.6 | Page number 421 \n\n');\n",
"//Find the volume fraction and mass fraction\n",
"//Given Data\n",
"nCO2 = 3.8 //Number of moles of CO2\n",
"nN2 = 31.6 //Number of moles of N2\n",
"nO2 = 2.2 //Number of moles of O2\n",
"nH2O = 4.8 //Number of moles of H2O\n",
"\n",
"//Solution\n",
"//Solution\n",
"n = nCO2 + nN2 + nO2 + nH2O\n",
"xCO2 = nCO2/n //mole fraction of CO2\n",
"xN2 = nN2/n //mole fraction of N2\n",
"xO2 = nO2/n //mole fraction of O2\n",
"xH2O = nH2O/n //mole fraction of H2O\n",
"\n",
"printf('Volume fraction of CO2 = %.1f%%\n',xCO2*100)\n",
"printf('Volume fraction of N2 = %.1f%%\n',xN2*100)\n",
"printf('Volume fraction of O2 = %.1f%%\n',xO2*100)\n",
"printf('Volume fraction of H2O = %.1f%%\n\n',xH2O*100)\n",
"\n",
"M = xCO2*44 + xN2*28 + xO2*32 + xH2O*18 //Mass of combustion product\n",
"\n",
"yCO2 = xCO2*(44/M)\n",
"yH2O = xH2O*(18/M)\n",
"yN2 = xN2*(28/M)\n",
"yO2 = xO2*(32/M)\n",
"\n",
"printf('Mass fraction of CO2 = %.1f%%\n',yCO2*100)\n",
"printf('Mass fraction of N2 = %.1f%%\n',yN2*100)\n",
"printf('Mass fraction of O2 = %.1f%%\n',yO2*100)\n",
"printf('Mass fraction of H2O = %.1f%%\n\n',yH2O*100)"
   ]
   }
,
{
		   "cell_type": "markdown",
		   "metadata": {},
		   "source": [
			"## Example 12.7: EX12_7.sce"
		   ]
		  },
  {
"cell_type": "code",
	   "execution_count": null,
	   "metadata": {
	    "collapsed": true
	   },
	   "outputs": [],
"source": [
"clc\n",
"clear\n",
"printf('Example 12.7 | Page number 422 \n\n');\n",
"//Find \n",
"//(a) Actual air\n",
"//(b) Excess air\n",
"//(c) Percentage theoritical air\n",
"//(d) Mass fractions\n",
"//(e) Dew point \n",
"\n",
"//Part(a)\n",
"printf('Part(a)\n')\n",
"mC = 0.65 //kg //mass of C per kg coal\n",
"mA = 0.15 //kg //mass of Ash per kg coal\n",
"CR = 0.05 //kg //mass of carbon in solid refuse per kg coal\n",
"mR = 0.2 //kg //mass of refuse per kg coal\n",
"m = mC- CR //kg //mass of carbon burnt per kg coal\n",
"\n",
"//By C balance\n",
"x = (14 + 1)*(12/0.6) //kg //mass of burnt coal\n",
"//By H2 balance\n",
"b = x*(0.06/2)\n",
"//By O2 Balance\n",
"a = (14 + 0.5 + 3.5 + 4.5)-(x*0.1/32) \n",
"actual_air = a*(32+3.76*28)/x //kg/kg coal\n",
"printf('Actual air = %.3f kg/kg coal\n\n',actual_air)\n",
"\n",
"//Part(b)\n",
"printf('Part(b)\n')\n",
"Stoichiometric_air = (0.6*11.45+0.06*34.3)-(0.1/0.232) //kg\n",
"excess_air = (actual_air - Stoichiometric_air)/Stoichiometric_air*100 \n",
"printf('Excess air = %.1f%%\n\n',excess_air)\n",
"\n",
"//Part(c)\n",
"printf('Part(c)\n');\n",
"printf('Percentage theoritical air = %.1f%%\n\n',100+excess_air)\n",
"\n",
"//Part(d)\n",
"printf('Part(d)\n')\n",
"m = 14*44 + 1*28 +3.5*32 +81.5*28 +9*18 //kg //mass of combustion product\n",
"printf('Mass fraction of CO2 = %.2f%%\n',14*44/m*100)\n",
"printf('Mass fraction of CO = %.2f%%\n',1*28/m*100)\n",
"printf('Mass fraction of O2 = %.2f%%\n',3.5*32/m*100)\n",
"printf('Mass fraction of N2 = %.2f%%\n',81.5*28/m*100)\n",
"printf('Mass fraction of H2O = %.2f%%\n\n',9*18/m*100)\n",
"\n",
"//Part(e)\n",
"printf('Part(e)\n')\n",
"xH2O = 9/(14+1+3.5+81.5+9) //molfraction of H2O\n",
"pH2O = xH2O*1e5 //Pa //partial pressure\n",
"//From steam table\n",
"tdp = 42.5 //°C\n",
"printf('Dew point temperature = %.1f °C',tdp)"
   ]
   }
,
{
		   "cell_type": "markdown",
		   "metadata": {},
		   "source": [
			"## Example 12.8: Find_the_actual_air_and_excess_air.sce"
		   ]
		  },
  {
"cell_type": "code",
	   "execution_count": null,
	   "metadata": {
	    "collapsed": true
	   },
	   "outputs": [],
"source": [
"clc\n",
"clear\n",
"printf('Example 12.8 | Page number 425 \n\n');\n",
"//Find actual air and excess air\n",
"//Given Data\n",
"xCO2 = 9.7 //mole percent CO2\n",
"xCO = 1.1 //mole percent CO\n",
"xO2 = 4 //mole percent O2\n",
"xN2 = 85.2 //mole percent N2\n",
"\n",
"//Solution\n",
"//by C balance\n",
"b = 2\n",
"//by H2 balance\n",
"d = 2\n",
"//by O2 balance\n",
"a = b+d*.5\n",
"//by N2 balance\n",
"c = 3.76*a\n",
"\n",
"Stoichiometric_air = a*(32+3.76*28)/28 //kg/kg ethylene\n",
"\n",
"//by C balance\n",
"x = (xCO2+xCO)/2 //kmol of ehtylene be burnt\n",
"//by H2 balance\n",
"q = 2*x\n",
"//by O2 balance\n",
"p = xCO2 + xCO/2 + xO2 + q/2\n",
"\n",
"actual_air = p*(32+3.76*28)/(x*28) //kg/kg ethylene\n",
"excess_air = (actual_air - Stoichiometric_air)/Stoichiometric_air*100\n",
"printf('Actual air = %.1f kg/kg ethylene \n',actual_air)\n",
"printf('Excess air = %.1f%%',excess_air)"
   ]
   }
,
{
		   "cell_type": "markdown",
		   "metadata": {},
		   "source": [
			"## Example 12.9: Find_the_heat_transfer_from_the_combustor.sce"
		   ]
		  },
  {
"cell_type": "code",
	   "execution_count": null,
	   "metadata": {
	    "collapsed": true
	   },
	   "outputs": [],
"source": [
"clc\n",
"clear\n",
"printf('Example 12.9 | Page number 433 \n\n');\n",
"//Find the heat transfer from the combustor\n",
"excess_air = 10 //%\n",
"tR = 30 //°C //temperature of reactant\n",
"tP = 120 //°C //temperature of product\n",
"delta_H = -802.3*1000 //kJ/kmol CH4\n",
"Cp_CH4 = 36 //kJ/lmolK\n",
"Cp_O2 = 29.5 //kJ/lmolK\n",
"Cp_N2 = 29.2 //kJ/lmolK\n",
"Cp_CO2 = 37 //kJ/lmolK\n",
"Cp_H2O = 33.7 //kJ/lmolK\n",
"tA = 30 //°C\n",
"tX = 25 //°C\n",
"tY = tX //°C\n",
"tB = 120 //°C\n",
"//Solution\n",
"Q_AB = (1*Cp_CO2 + 0.2*Cp_O2 + 8.272*Cp_N2 + 2*Cp_H2O)*(tB-tX)+ delta_H + (1*Cp_CH4 + 2.2*Cp_O2 +8.272*Cp_N2)*(tY-tA)\n",
"printf('The heat transfer from the combustor = %.1f kJ/kg CH4 ',Q_AB/16)"
   ]
   }
],
"metadata": {
		  "kernelspec": {
		   "display_name": "Scilab",
		   "language": "scilab",
		   "name": "scilab"
		  },
		  "language_info": {
		   "file_extension": ".sce",
		   "help_links": [
			{
			 "text": "MetaKernel Magics",
			 "url": "https://github.com/calysto/metakernel/blob/master/metakernel/magics/README.md"
			}
		   ],
		   "mimetype": "text/x-octave",
		   "name": "scilab",
		   "version": "0.7.1"
		  }
		 },
		 "nbformat": 4,
		 "nbformat_minor": 0
}
