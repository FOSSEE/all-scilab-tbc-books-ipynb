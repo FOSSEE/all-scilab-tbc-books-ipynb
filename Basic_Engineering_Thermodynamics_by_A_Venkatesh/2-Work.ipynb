{
"cells": [
 {
		   "cell_type": "markdown",
	   "metadata": {},
	   "source": [
       "# Chapter 2: Work"
	   ]
	},
{
		   "cell_type": "markdown",
		   "metadata": {},
		   "source": [
			"## Example 2.1: Find_the_work_done_by_the_force.sce"
		   ]
		  },
  {
"cell_type": "code",
	   "execution_count": null,
	   "metadata": {
	    "collapsed": true
	   },
	   "outputs": [],
"source": [
"clc\n",
"clear\n",
"printf('Example 2.1 | Page number 28 \n\n');\n",
"//find work done.\n",
"\n",
"//Given Data\n",
"Force = 180 //in N //horizontal force\n",
"theta = 30 //in degrees //angle of inclination\n",
"distance = 12 //in m //distance moved by block along inclined plane.\n",
"\n",
"printf('Horizontal force acting on block = %.2f N \n',Force);\n",
"printf('Angle of inclination = %.2f degrees \n',theta);\n",
"printf('Distance moved by block = %.2f m \n\n',distance);\n",
"\n",
" \n",
"//Solution\n",
"Work = Force * (distance * cosd(theta)) //in J // Work done\n",
"Work = 0.001 * Work // Work done in KJ\n",
"printf('Work done by block = %.4f KJ',Work);\n",
""
   ]
   }
,
{
		   "cell_type": "markdown",
		   "metadata": {},
		   "source": [
			"## Example 2.2: Find_magnitude_and_direction_of_work.sce"
		   ]
		  },
  {
"cell_type": "code",
	   "execution_count": null,
	   "metadata": {
	    "collapsed": true
	   },
	   "outputs": [],
"source": [
"clc\n",
"clear\n",
"printf('Example 2.2 | Page number 31 \n\n');\n",
"//find the magnitude and direction of work for systems agent and body.\n",
"\n",
"//Given Data\n",
"mass_body = 2 //in kg //mass of body\n",
"L = 5 //in m //vertical distance\n",
"g = 9.8 //in m/s^2 //acceleration due to gravity\n",
"\n",
"printf('Mass of body = %.2f kg \n',mass_body);\n",
"printf('Vertical distance = %.2f m \n',L);\n",
"printf('Acceleration due to gravity = %.2f m/s^2 \n\n',g);\n",
"\n",
" \n",
"//Solution\n",
"Work_done_by_agent = mass_body * g * L //in Nm //work done by agent\n",
"Work_done_by_body = -1*Work_done_by_agent\n",
"printf('Work done by agent = %.2f Nm\n',Work_done_by_agent);\n",
"printf('Work done by body = %.2f Nm',Work_done_by_body);\n",
""
   ]
   }
,
{
		   "cell_type": "markdown",
		   "metadata": {},
		   "source": [
			"## Example 2.3: Identify_interaction_between_battery_and_resistor.sce"
		   ]
		  },
  {
"cell_type": "code",
	   "execution_count": null,
	   "metadata": {
	    "collapsed": true
	   },
	   "outputs": [],
"source": [
"clc\n",
"clear\n",
"printf('Example 2.3 | Page number 32 \n\n');\n",
"//Indentify interaction between battery and resistor\n",
"\n",
"//This example has a theoritical solution please refer to the textbook.\n",
"printf('This example has a theoritical solution please refer to the textbook.');"
   ]
   }
,
{
		   "cell_type": "markdown",
		   "metadata": {},
		   "source": [
			"## Example 2.4: Calculate_magnitude_and_direction_of_work.sce"
		   ]
		  },
  {
"cell_type": "code",
	   "execution_count": null,
	   "metadata": {
	    "collapsed": true
	   },
	   "outputs": [],
"source": [
"clc\n",
"clear\n",
"printf('Example 2.4 | Page number 39 \n\n');\n",
"//(a)Calculate the magnitude and direction of work for air inside the balloon\n",
"//(b)Find the magnitide and direction of work for the atmosphere and the balloon\n",
"\n",
"//Given Data\n",
"p1 = 1.5 * 10^(5) //N/m^2 //initial pressure in ballon\n",
"d1 = 0.25 //m //initial diameter of balloon\n",
"d2 = 0.3 //m //final diameter of balloon\n",
"p_atm = 10^(5) //N/m^2 //atmospheric pressure\n",
"printf('Initial pressure in ballon = %.2f N/m^2\n',p1); \n",
"printf('Initial diameter of ballon = %.2f m\n',d1);\n",
"printf('Final diameter of ballon = %.2f m\n',d2);\n",
"printf('Atmospheric pressure = %.2f N/m^2\n\n',p_atm);\n",
"\n",
"//Solution\n",
"\n",
"//Part (a)\n",
"printf('Part (a)\n');\n",
"printf('As p is proportional to d, p = k*d, where k is proportionality constant\n');\n",
"printf('Therefore,\n');\n",
"\n",
"k = p1/d1;\n",
"printf('p1 = k*d1 => k = (p1/d1) = (%.2f/%.2f) = %.2f N/m^3\n',p1,d1,k);\n",
"\n",
"p2 = k*d2; //N/m^2 //final pressure in balloon\n",
"printf('p2 = k*d2 = (%.2f*%.2f) = %.2f N/m^2\n\n',k,d2,p2);\n",
"\n",
"W_air = integrate('k*(%pi/2)*(d^3)','d',d1,d2) //Nm //Work done by air on the balloon\n",
"printf('Work done by balloon on air = %.2f Nm\n\n',W_air);\n",
"\n",
"//Part (b)\n",
"printf('Part (b)\n');\n",
"W_atm = integrate('p_atm*(0.5*%pi*(d^2))','d',d2,d1); //Nm //Work done by atmosphere on ballon\n",
"printf('Work done by atmosphere on balloon = %.2f Nm\n',W_atm);\n",
"W_balloon = -1*(W_air+W_atm);\n",
"printf('Work done by balloon = -(Work done by air + Work done by atmosphere) = -(%.2f%.2f) = %.2f Nm\n',W_air,W_atm,W_balloon);"
   ]
   }
,
{
		   "cell_type": "markdown",
		   "metadata": {},
		   "source": [
			"## Example 2.5: Find_the_work_interaction.sce"
		   ]
		  },
  {
"cell_type": "code",
	   "execution_count": null,
	   "metadata": {
	    "collapsed": true
	   },
	   "outputs": [],
"source": [
"clc\n",
"clear\n",
"printf('Example 2.5 | Page number 40 \n\n');\n",
"//Find the work interaction for pure substance.\n",
"//Given Data\n",
"p1 = 10 //bar //initial pressure\n",
"V1 = 0.1 //m^3 //initial volume\n",
"p2 = 2 //bar //final pressure\n",
"V2 = 0.35 //m^3 //final volume\n",
"\n",
"printf('Initial pressure = %.2f bar\n',p1);\n",
"printf('inital volume = %.2f m^3\n',V1);\n",
"printf('Final pressure = %.2f bar\n',p2);\n",
"printf('Final volume = %.2f m^3\n',V2);\n",
"\n",
"//Solution\n",
"printf('\nLet the expansion process follow the path pV^(n) = constant\n');\n",
"printf('Therefore,\n');\n",
"n = (log(p1/p2))/(log(V2/V1));\n",
"printf('n = (ln(p1/p2))/(ln(V2/V1)) = (ln(%.2f/%.2f))/(ln(%.2f/%.2f)) = %.4f\n',p1,p2,V2,V1,n);\n",
"W_d = (p1*V1 - p2*V2)*10^5/(n-1) //J //Work interaction for pure substance\n",
"printf('Work interaction for pure substance = (p1V1 - p2V2)/(n-1) = %.2f kJ',W_d*.001)\n",
"\n",
"\n",
""
   ]
   }
,
{
		   "cell_type": "markdown",
		   "metadata": {},
		   "source": [
			"## Example 2.6: Find_the_work_of_compression_for_air.sce"
		   ]
		  },
  {
"cell_type": "code",
	   "execution_count": null,
	   "metadata": {
	    "collapsed": true
	   },
	   "outputs": [],
"source": [
"clc\n",
"clear\n",
"printf('Example 2.6 | Page number 41 \n\n');\n",
"//(a)Find the work of compression of air.\n",
"//(b)What would be the work done on air.\n",
"\n",
"//Given Data\n",
"p1 = 1.0 //bar //initial pressure\n",
"V1 = 0.1 //m^3 //initial volume\n",
"p2 = 6   //bar //final pressure\n",
"         //and p1*(V1^1.4) = p2*(V2^1.4)\n",
"\n",
"printf('Initial pressure = %.2f bar\n',p1);\n",
"printf('inital volume = %.2f m^3\n',V1);\n",
"printf('Final pressure = %.2f bar\n\n',p2);\n",
"\n",
"\n",
"//Solution\n",
"//Part (a)\n",
"printf('Part (a)\n');\n",
"V2 = V1*(p1/p2)^(1/1.4) //m^3 //final volume\n",
"printf('Final Volume = %.4f m^3\n',V2);\n",
"\n",
"W_d = (10^5)*(p1*V1 - p2*V2)/(1.4-1); //J //Work of compression for air\n",
"printf('Work of compression for air = %.1f KJ\n\n',W_d*.001);\n",
"\n",
"//Part (b)\n",
"printf('Part (b)\n');\n",
"V2 = (p1/p2)*V1; //m^3 //final volume\n",
"printf('Final Volume = %.4f m^3\n',V2);\n",
"\n",
"W_d = (10^5)*p1*V1*log(V2/V1); //J //Work done on air\n",
"printf('Work done on air = %.1f KJ\n\n',W_d*.001);\n",
""
   ]
   }
,
{
		   "cell_type": "markdown",
		   "metadata": {},
		   "source": [
			"## Example 2.7: Find_the_mep_and_indicated_power.sce"
		   ]
		  },
  {
"cell_type": "code",
	   "execution_count": null,
	   "metadata": {
	    "collapsed": true
	   },
	   "outputs": [],
"source": [
"clc\n",
"clear\n",
"printf('Example 2.7 | Page number 41 \n\n');\n",
"//Find the mep, in  kPa, and the indicated power in kW.\n",
"\n",
"//Given Data\n",
"//four-stroke engine\n",
"x = 3 //number of cylinders\n",
"y = 1 //engine is single-acting\n",
"n = 500 //rev/min \n",
"N = n/2 //cycles/min\n",
"D = 0.075 //m //bore length\n",
"L = 0.1 //m //stroke length\n",
"a = 6*10^(-4) //m^2 //area\n",
"l = 0.05 //m //length\n",
"S = 2*10^8 //N/m^3 //spring constant\n",
"\n",
"//Solution\n",
"p_m = (a/l)*S //Pa //mep\n",
"\n",
"printf('Mean effective pressure, mep{Pm} = %.2f kPa\n',p_m*.001)\n",
"A = (%pi/4)*D^2 //m^2\n",
"\n",
"printf('Indicated power{P_ind} = %.2f kW',(x*y)*(p_m*L*A*N)/60000)"
   ]
   }
,
{
		   "cell_type": "markdown",
		   "metadata": {},
		   "source": [
			"## Example 2.8: Find_the_mechanical_efficiency_of_engine.sce"
		   ]
		  },
  {
"cell_type": "code",
	   "execution_count": null,
	   "metadata": {
	    "collapsed": true
	   },
	   "outputs": [],
"source": [
"clc\n",
"clear\n",
"printf('Example 2.8 | Page number 45 \n\n');\n",
"//Find the mechanical efficiency of the engine\n",
"\n",
"//Given Data\n",
"N = poly([0 .5],'n','c') //n is engine speed\n",
"x = 6 //six cylinders\n",
"y = 1 //assumed\n",
"d = 0.1 //m //bore length\n",
"A = %pi*(0.1)^2/4 //m^2 //Area\n",
"L = 0.15 //m //stroke length\n",
"P_shaft = 24.78 //KW //Power of shaft\n",
"T = 474.9 //Nm //Torque in the crank shaft\n",
"l = 0.05 //m //length of indicator diagram\n",
"a = 9.37*10^(-4) //cm^2 //area of indicator diagram\n",
"S = 0.5*(10^8) //N/m^3 //spring constant\n",
"\n",
"//Solution\n",
"p_m = a*S/l //mean pressure difference\n",
"printf('Mean pressure difference = %.2f N/m^2\n',p_m);\n",
"\n",
"P_ind = (x*y)*p_m*(L*A*N/60000) //indicated power\n",
"C = coeff(P_ind)\n",
"printf('Indicated Power = %.6f n kW\n',C(2));\n",
"\n",
"P_shaft = 2*%pi*poly([0 1],'n','c')*T/60000 //shaft power output\n",
"C = coeff(P_shaft)\n",
"printf('Shaft power output (in KW)= %.5f n kW\n',C(2));\n",
"\n",
"Mechanical_efficiency = coeff(P_shaft,1)/coeff(P_ind,1)*100\n",
"printf('Mechanical Efficiency = %.0f %%',Mechanical_efficiency(1));"
   ]
   }
,
{
		   "cell_type": "markdown",
		   "metadata": {},
		   "source": [
			"## Example 2.9: Compute_net_work_for_battery_and_motor.sce"
		   ]
		  },
  {
"cell_type": "code",
	   "execution_count": null,
	   "metadata": {
	    "collapsed": true
	   },
	   "outputs": [],
"source": [
"clc\n",
"clear\n",
"printf('Example 2.9 | Page number 46 \n\n');\n",
"//(a) Compute the torque in the driving shaft and shaft power output of the motor.\n",
"//(b) Compute the net work for battery and motor.\n",
"\n",
"//Given Data\n",
"d = 0.4 //m //cylinder diameter\n",
"t = 10 //min //Time taken for stirring\n",
"L = 0.49 //m //distance moved by the piston\n",
"p_atm = 1 //bar //atmospheric pressure\n",
"W_net = -1965 //Nm //net work done\n",
"n = 750 //rev/min //rotational velocity of electric motor\n",
"I = 0.9 //A //current\n",
"V = 24 //V //voltage\n",
"\n",
"//Solution\n",
"//Part(a)\n",
"printf('Part (a)\n');\n",
"W_d = 10^5*p_atm * (%pi/4) * d^2 * L; //Nm //work done by fluid on piston\n",
"printf('Work done by fluid on the piston = %.1f Nm\n',W_d);\n",
"W_str = W_net - W_d; //Nm //Work done by stirrer\n",
"printf('Work done by stirrer on the fluid = %.1f Nm\n',W_str);\n",
"P_shaft = abs(W_str)/(t*60); //W //shaft power output\n",
"printf('Shaft power output = %.2f W\n',P_shaft);\n",
"T = (P_shaft*60)/(2*%pi*n); //Nm //Torque in the driving shaft\n",
"printf('Torque in the driving shaft = %.3f Nm\n', T);\n",
"\n",
"//Part(b)\n",
"printf('\nPart (b)\n');\n",
"W_bat = I*V*t*60; //Nm //work done by battery\n",
"printf('Work done by battery = %.1f Nm\n',W_bat);\n",
"W_motor = -1*(W_bat+W_str) //Nm //work done by motor\n",
"printf('Work done by motor = %.1f Nm',W_motor);"
   ]
   }
],
"metadata": {
		  "kernelspec": {
		   "display_name": "Scilab",
		   "language": "scilab",
		   "name": "scilab"
		  },
		  "language_info": {
		   "file_extension": ".sce",
		   "help_links": [
			{
			 "text": "MetaKernel Magics",
			 "url": "https://github.com/calysto/metakernel/blob/master/metakernel/magics/README.md"
			}
		   ],
		   "mimetype": "text/x-octave",
		   "name": "scilab",
		   "version": "0.7.1"
		  }
		 },
		 "nbformat": 4,
		 "nbformat_minor": 0
}
