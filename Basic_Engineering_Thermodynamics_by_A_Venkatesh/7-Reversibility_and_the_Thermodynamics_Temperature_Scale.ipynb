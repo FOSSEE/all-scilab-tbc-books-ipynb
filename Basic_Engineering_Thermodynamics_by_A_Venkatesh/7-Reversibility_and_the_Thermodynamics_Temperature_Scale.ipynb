{
"cells": [
 {
		   "cell_type": "markdown",
	   "metadata": {},
	   "source": [
       "# Chapter 7: Reversibility and the Thermodynamics Temperature Scale"
	   ]
	},
{
		   "cell_type": "markdown",
		   "metadata": {},
		   "source": [
			"## Example 7.1: Fiind_the_work_output_of_the_engine_and_the_magnitude_of_heat_interaction.sce"
		   ]
		  },
  {
"cell_type": "code",
	   "execution_count": null,
	   "metadata": {
	    "collapsed": true
	   },
	   "outputs": [],
"source": [
"clc\n",
"clear\n",
"printf('Example 7.1 | Page Number 174 \n\n');\n",
"//Part(a) Find the work output of the engine\n",
"//Part(b) Find the magnitude of heat interaction with the reservoir at t2 and work input to the heat pump.\n",
"\n",
"//Part(a)\n",
"printf('Part (a)\n');\n",
"//Given Data\n",
"Q1 = 500 //kJ //Heat transfer from reservoir at t1\n",
"Q2 = 187.5 //kJ //Heat transfer from reservoir at t2\n",
"\n",
"//Solution\n",
"nr = 1-(Q2/Q1) //Efficiency\n",
"W = nr*Q1 //kJ //Work output of the engine\n",
"printf('Work output of the engine = %.1f kJ\n\n',W);\n",
"\n",
"//Part(b)\n",
"printf('Part (b)\n');\n",
"//Given Data\n",
"Q1 = 500 //kJ //Heat transfer from reservoir at t1\n",
"//Solution\n",
"COP_hp = 1/nr\n",
"W = Q1/COP_hp //kJ //Work input to heat pump\n",
"Q2 = Q1-W //kJ //heat ineraction with reservoir at t2\n",
"printf('Heat ineraction with reservoir at t2 = %.1f kJ\n',Q2);\n",
"printf('Work input to the heat pump = %.1f kJ\n',W);"
   ]
   }
,
{
		   "cell_type": "markdown",
		   "metadata": {},
		   "source": [
			"## Example 7.2: Evaluate_validity_of_claim.sce"
		   ]
		  },
  {
"cell_type": "code",
	   "execution_count": null,
	   "metadata": {
	    "collapsed": true
	   },
	   "outputs": [],
"source": [
"clc\n",
"clear\n",
"printf('Example 7.2 | Page Number 178 \n\n');\n",
"//Evaluate validity of claim\n",
"//Given Data\n",
"nr = 0.7 //maximum efficiency\n",
"W = 80 //kJ //Work\n",
"Q1 = 100 //kJ //heat transfered\n",
"//Solution\n",
"nx = W/Q1 //claimed efficiency\n",
"if nx>nr then\n",
"    printf('Engine X is not a viable proposition because the claimed efficiency %.2f is greater than maximum efficiency %.2f',nx,nr)\n",
"else\n",
"    printf('Engine X is a viable proposition because the claimed efficiency %.2f is less than maximum efficiency %.2f',nx,nr)   \n",
"end"
   ]
   }
,
{
		   "cell_type": "markdown",
		   "metadata": {},
		   "source": [
			"## Example 7.3: Comment_on_internal_and_external_reversibility.sce"
		   ]
		  },
  {
"cell_type": "code",
	   "execution_count": null,
	   "metadata": {
	    "collapsed": true
	   },
	   "outputs": [],
"source": [
"clc\n",
"clear\n",
"printf('Example 7.3 | Page number 185 \n\n');\n",
"//This is a theoritical question. Refer textbook for solution\n",
"printf('This is a theoritical question. Refer textbook for solution.');\n",
""
   ]
   }
,
{
		   "cell_type": "markdown",
		   "metadata": {},
		   "source": [
			"## Example 7.4: Find_efficiency.sce"
		   ]
		  },
  {
"cell_type": "code",
	   "execution_count": null,
	   "metadata": {
	    "collapsed": true
	   },
	   "outputs": [],
"source": [
"clc\n",
"clear\n",
"printf('Example 7.4 | Page number 191 \n\n');\n",
"//Part(a) Find efficiency if the engine is reversible.\n",
"//Part(b) Find efficiency if the engine is irreversible.\n",
"\n",
"//Given Data\n",
"T1 = (527+273) //K\n",
"T2 = (27+273) //K\n",
"//Part (a)\n",
"printf('Part (a)\n');\n",
"nr = 1 - (T2/T1) //reversible efficiency\n",
"printf('Reversible efficiency = %.3f \n\n',nr);\n",
"\n",
"//Part(b)\n",
"printf('Part (b)\n');\n",
"printf('As the values of at least any two from among Q1,Q2 and W are not given \nthe efficiency of the engine cannot be evaluated.However, according to \nCarnots statement, the efficiency will be less than %.3f',nr)"
   ]
   }
,
{
		   "cell_type": "markdown",
		   "metadata": {},
		   "source": [
			"## Example 7.5: Find_COP.sce"
		   ]
		  },
  {
"cell_type": "code",
	   "execution_count": null,
	   "metadata": {
	    "collapsed": true
	   },
	   "outputs": [],
"source": [
"clc\n",
"clear\n",
"printf('Example 7.5 | Page number 192 \n\n');\n",
"//Part(a) Find the COP of reversible heat engine as refrigerator.\n",
"//Part(b) Find the COP of reversible heat engine as heat pump.\n",
"\n",
"//Given Data\n",
"T1 = 273 + 37 //K \n",
"T2 = 273 - 13 //K\n",
"\n",
"//Part(a)\n",
"printf('Part (a)\n');\n",
"COP_ref = T2/(T1-T2) //COP of reversible heat engine as refrigerator.\n",
"printf('COP of reversible heat engine as refrigerator = %.1f\n\n',COP_ref)\n",
"//Part(b)\n",
"printf('Part (b)\n');\n",
"COP_hp = T1/(T1-T2) //COP of reversible heat engine as heat pump.\n",
"printf('COP of reversible heat engine as heat pump = %.1f',COP_hp)"
   ]
   }
],
"metadata": {
		  "kernelspec": {
		   "display_name": "Scilab",
		   "language": "scilab",
		   "name": "scilab"
		  },
		  "language_info": {
		   "file_extension": ".sce",
		   "help_links": [
			{
			 "text": "MetaKernel Magics",
			 "url": "https://github.com/calysto/metakernel/blob/master/metakernel/magics/README.md"
			}
		   ],
		   "mimetype": "text/x-octave",
		   "name": "scilab",
		   "version": "0.7.1"
		  }
		 },
		 "nbformat": 4,
		 "nbformat_minor": 0
}
