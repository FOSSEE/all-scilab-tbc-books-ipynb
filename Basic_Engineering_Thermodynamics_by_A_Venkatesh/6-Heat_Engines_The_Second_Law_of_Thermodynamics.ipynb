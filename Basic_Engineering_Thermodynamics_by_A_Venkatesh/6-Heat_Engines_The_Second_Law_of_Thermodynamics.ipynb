{
"cells": [
 {
		   "cell_type": "markdown",
	   "metadata": {},
	   "source": [
       "# Chapter 6: Heat Engines The Second Law of Thermodynamics"
	   ]
	},
{
		   "cell_type": "markdown",
		   "metadata": {},
		   "source": [
			"## Example 6.1: Find_the_heat_rejected_at_the_condenser_and_the_thermal_efficiency_of_the_plant.sce"
		   ]
		  },
  {
"cell_type": "code",
	   "execution_count": null,
	   "metadata": {
	    "collapsed": true
	   },
	   "outputs": [],
"source": [
"clc\n",
"clear\n",
"printf('Example 6.1 | Page number 148 \n\n');\n",
"//Find the heat rejected at the condensor and thermal efficiency of the plant\n",
"\n",
"//Given Data\n",
"Q1 = 300 //kJ //heat supplied at the boiler\n",
"Wt = 100 //kJ //work output of turbine\n",
"Wp = 0.5 //kJ //work input to pump\n",
"\n",
"//Solution\n",
"Q2 = Q1 - (Wt - Wp) //kJ //heat rejected at the condensor\n",
"printf('Heat rejected at the condensor = %.1f kJ\n',Q2);\n",
"efficiency = 1 - (Q2/Q1)\n",
"printf('The thermal efficiency of plant = %.2f ',efficiency)"
   ]
   }
,
{
		   "cell_type": "markdown",
		   "metadata": {},
		   "source": [
			"## Example 6.2: Find_the_rate_of_heat_transfer_power_input_and_COP.sce"
		   ]
		  },
  {
"cell_type": "code",
	   "execution_count": null,
	   "metadata": {
	    "collapsed": true
	   },
	   "outputs": [],
"source": [
"clc\n",
"clear\n",
"printf('Example 6.2 | Page number 153 \n\n');\n",
"//Part(a)Find the rate of heat transfer in the evaporator and the power input to the compressor.\n",
"//Part(b)Calculate COP if refrigerator were to operate as heat pump\n",
"\n",
"//Given Data\n",
"COP_ref = 4 //COP of refrigerator\n",
"Q1 = 0.5 //kJ/s //rate of heat transfer at the condensor\n",
"\n",
"//Solution\n",
"//Part(a)\n",
"printf('Part(a)\n');\n",
"Wc = Q1/(COP_ref+1) //kJ/s //Power input to compressor\n",
"Q2 = COP_ref*Wc //kJ/s //Rate of heat transfer in evaporator\n",
"printf('Rate of heat transfer in evaporator  = %.1f kJ/s\n',Q2)\n",
"printf('Power input to compressor = %.1f kJ/s\n\n',Wc)\n",
"\n",
"//Part(b)\n",
"printf('Part(b)\n');\n",
"COP_hp = 1 + COP_ref //COP of heat pump\n",
"printf('COP of heat pump = %.1f',COP_hp)"
   ]
   }
,
{
		   "cell_type": "markdown",
		   "metadata": {},
		   "source": [
			"## Example 6.3: Find_savings_in_the_monthly_electricity_bill.sce"
		   ]
		  },
  {
"cell_type": "code",
	   "execution_count": null,
	   "metadata": {
	    "collapsed": true
	   },
	   "outputs": [],
"source": [
"clc\n",
"clear\n",
"printf('Example 6.3 | Page number 154 \n\n');\n",
"//Part(a)Find the additional monthly electricity bill\n",
"//Part(b)What would be the saving in monthly electricity bill\n",
"\n",
"//Part(a)\n",
"printf('Part(a)\n');\n",
"I = 4.5 //Amp //Current drawn\n",
"V = 220 //V\n",
"Electricity_consumption = I*V //Watts\n",
"ElectricityUnitPerDay = Electricity_consumption/1000*8 //kWh\n",
"MonthlyBill_part_a = ElectricityUnitPerDay * 5 * 30\n",
"printf('The additional monthly electricity bill = Rs. %.2f\n\n',MonthlyBill_part_a);\n",
"\n",
"//Part(b)\n",
"printf('Part(b)\n');\n",
"Q1 = Electricity_consumption*.001 //kW //Rate of heat transfer from heat pump\n",
"COP_hp = 4 //COP of heat pump\n",
"W = Q1/COP_hp //kW //rate at which energy is consumed\n",
"ElectricityUnitPerDay = W*8\n",
"MonthlyBill_part_b = ElectricityUnitPerDay * 5 * 30\n",
"printf('Saving in monthly electricity bill = Rs. %.2f',MonthlyBill_part_a - MonthlyBill_part_b)"
   ]
   }
],
"metadata": {
		  "kernelspec": {
		   "display_name": "Scilab",
		   "language": "scilab",
		   "name": "scilab"
		  },
		  "language_info": {
		   "file_extension": ".sce",
		   "help_links": [
			{
			 "text": "MetaKernel Magics",
			 "url": "https://github.com/calysto/metakernel/blob/master/metakernel/magics/README.md"
			}
		   ],
		   "mimetype": "text/x-octave",
		   "name": "scilab",
		   "version": "0.7.1"
		  }
		 },
		 "nbformat": 4,
		 "nbformat_minor": 0
}
