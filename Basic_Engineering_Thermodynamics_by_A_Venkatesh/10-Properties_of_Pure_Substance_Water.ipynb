{
"cells": [
 {
		   "cell_type": "markdown",
	   "metadata": {},
	   "source": [
       "# Chapter 10: Properties of Pure Substance Water"
	   ]
	},
{
		   "cell_type": "markdown",
		   "metadata": {},
		   "source": [
			"## Example 10.10: Find_the_temperature_of_steam.sce"
		   ]
		  },
  {
"cell_type": "code",
	   "execution_count": null,
	   "metadata": {
	    "collapsed": true
	   },
	   "outputs": [],
"source": [
"clc\n",
"clear\n",
"printf('Example 10.10 | Page number 359 \n\n');\n",
"//Find the temperature of steam\n",
"p = 2 //bar\n",
"m = 0.16 //kg\n",
"V = 0.1 //m^3\n",
"//Solution\n",
"//refereing to the saturation temperature corresponding to 2bar\n",
"v = V/m //m^3/kg\n",
"vf = 0.001061 //m^3/kg\n",
"vg = 0.8857 //m^3/kg\n",
"printf('Specific volume at saturated liquid phase (vf) = %.6f m^3/kg \n',vf)\n",
"printf('Specific volume at saturated vapor phase (vg) = %.6f m^3/kg \n',vg)\n",
"    \n",
"if v<vg & v>vf then\n",
"    printf('\nThe temperature of the steam must be equal to saturation temperature corresponding to 2 bar\n')\n",
"    printf('Temperature of steam = %.2f °C',120.23)\n",
"end"
   ]
   }
,
{
		   "cell_type": "markdown",
		   "metadata": {},
		   "source": [
			"## Example 10.11: Find_the_heat_rejected_from_steam.sce"
		   ]
		  },
  {
"cell_type": "code",
	   "execution_count": null,
	   "metadata": {
	    "collapsed": true
	   },
	   "outputs": [],
"source": [
"clc\n",
"clear\n",
"printf('Example 10.11 | Page number 360 \n\n');\n",
"//Find the heat rejected from steam\n",
"//Given data\n",
"p1 = 2 //bar\n",
"v1 = 0.624 //m^3/kg\n",
"t = 120.23 //°C\n",
"m = 0.16 //kg\n",
"//Solution\n",
"vf = 0.001061 //m^3/kg\n",
"vg = 0.8857 //m^3/kg\n",
"x1 = (v1-vf)/(vg-vf) //Dryness fraction\n",
"hf = 504.68 //kJ/kg\n",
"hg = 2706.6 //kJ/kg\n",
"h1 = (1-x1)*hf + x1*hg //kJ/kg\n",
"u1 = h1 - p1*v1*100//kJ/kg\n",
"\n",
"v2 = v1 //m^3/kg\n",
"vf = 0.001044 //m^3/kg\n",
"vg = 1.673 //m^3/kg\n",
"x2 = (v1-vf)/(vg-vf) //Dryness fraction\n",
"hf = 419 //kJ/kg\n",
"hg = 2676 //kJ/kg\n",
"h2 = (1-x2)*hf + x2*hg //kJ/kg\n",
"p2 = 1.010325 //bar\n",
"u2 = h2 - p2*v2*100 //kJ/kg\n",
" \n",
"printf('Heat rejected from steam = %.1f kJ',m*(u2-u1))"
   ]
   }
,
{
		   "cell_type": "markdown",
		   "metadata": {},
		   "source": [
			"## Example 10.12: Find_work_and_heat_interaction_during_expansion_process.sce"
		   ]
		  },
  {
"cell_type": "code",
	   "execution_count": null,
	   "metadata": {
	    "collapsed": true
	   },
	   "outputs": [],
"source": [
"clc\n",
"clear\n",
"printf('Example 10.12 | Page number 361 \n\n');\n",
"//Find the work and heat interactions during the expansion process\n",
"//Given data\n",
"m =0.1 //kg\n",
"p1 = 10 //bar \n",
"p2 = 1 //bar\n",
"//Solution\n",
"//From saturated steam table\n",
"v1 = 0.1944 //m^3/kg\n",
"v2 = (p1/p2)^(1/1.3)*v1 //m^3/kg\n",
"W = m*(p1*v1-p2*v2)*100/(1.3-1) //kJ\n",
"printf('Work during expansion process = %.2f kJ\n',W)\n",
"h1 = 2778.1 //kJ/kg\n",
"u1 = (h1 - p1*v1*100) //kJ/kg\n",
"\n",
"vf = 0.001043 //m^3/kg\n",
"vg = 1.694 //m^3/kg\n",
"x2 = (v2-vf)/(vg-vf) //Dryness fraction\n",
"hf = 417.33 //kJ/kg\n",
"hg = 2675.5 //kJ/kg\n",
"h2 = (1-x2)*hf + x2*hg //kJ/kg\n",
"u2 = h2 - p2*v2*100 //kJ/kg\n",
"printf('Heat rejected from steam = %.2f kJ',W+m*(u2-u1))"
   ]
   }
,
{
		   "cell_type": "markdown",
		   "metadata": {},
		   "source": [
			"## Example 10.13: Find_the_exit_area_of_the_nozzle.sce"
		   ]
		  },
  {
"cell_type": "code",
	   "execution_count": null,
	   "metadata": {
	    "collapsed": true
	   },
	   "outputs": [],
"source": [
"clc\n",
"clear\n",
"printf('Example 10.13 | Page number 361 \n\n');\n",
"//Find the exit area of the nozzle\n",
"//Given data\n",
"p1 = 10 //bar\n",
"t1 = 300 //°C\n",
"V1 = 50 //m/s\n",
"p2 = 1 //bar\n",
"m = 1.2 //kg/s\n",
"\n",
"//Solution\n",
"//From superheated steam table\n",
"h1 = 3051.2 //kJ/kg\n",
"s1 = 7.1228 //kJ/kgK\n",
"p2 = 1 //bar\n",
"s2 = s1 //kJ/kgK\n",
"\n",
"sf = 1.3025 //kJ/kgK\n",
"sg = 7.3593 //kJ/kgK\n",
"x2 = (s2-sf)/(sg-sf) //Dryness fraction\n",
"hf = 417.44 //kJ/kg\n",
"hg = 2675.5 //kJ/kg\n",
"h2 = (1-x2)*hf + x2*hg //kJ/kg\n",
"vf = 0.001043 //m^3/kg\n",
"vg = 1.694 //m^3/kg\n",
"v2 = (1-x2)*vf + x2*vg //m^3/kg\n",
"V2 = (2*(1000*(h1-h2))+V1^2)^0.5 //m/s\n",
"A2 = m*v2/V2*10000//cm^3\n",
"printf('The exit area of the nozzle = %.1f cm^2',A2)"
   ]
   }
,
{
		   "cell_type": "markdown",
		   "metadata": {},
		   "source": [
			"## Example 10.14: Find_the_flow_rate_of_feed_water.sce"
		   ]
		  },
  {
"cell_type": "code",
	   "execution_count": null,
	   "metadata": {
	    "collapsed": true
	   },
	   "outputs": [],
"source": [
"clc\n",
"clear\n",
"printf('Example 10.14 | Page number 363 \n\n');\n",
"//Find the flow rate of feed water into the heater.\n",
"//Given data\n",
"m1 = 0.2 //kg/s\n",
"p = 4 //bar\n",
"//Solution\n",
"//From superheated steam table\n",
"h1 = 2752.8 //kJ/kg\n",
"h2 = 209.31 //kJ/kg\n",
"h3 = 604.73 //kJ/kg\n",
"\n",
"m2 = (m1*h1-m1*h3)/(h3-h2) //kg/s\n",
"printf('The flow rate of feed water into the heater = %.3f kg/s',m2)"
   ]
   }
,
{
		   "cell_type": "markdown",
		   "metadata": {},
		   "source": [
			"## Example 10.1: Find_dryness_fraction_of_mixture.sce"
		   ]
		  },
  {
"cell_type": "code",
	   "execution_count": null,
	   "metadata": {
	    "collapsed": true
	   },
	   "outputs": [],
"source": [
"clc\n",
"clear\n",
"printf('Example 10.1 | Page number 333 \n\n');\n",
"//Find dryness fraction of mixture\n",
"//Given data\n",
"m = 1.5 //kg //mass of wet steam\n",
"mf = 0.08*m //kg //mass of liquid in wet steam\n",
"//Solution\n",
"x = (m-mf)/m //dryness fraction of mixture\n",
"printf('Dryness fraction of mixture = %.2f',x)"
   ]
   }
,
{
		   "cell_type": "markdown",
		   "metadata": {},
		   "source": [
			"## Example 10.2: Find_ratio_of_mass_of_saturated_liquid_to_saturated_steam.sce"
		   ]
		  },
  {
"cell_type": "code",
	   "execution_count": null,
	   "metadata": {
	    "collapsed": true
	   },
	   "outputs": [],
"source": [
"clc\n",
"clear\n",
"printf('Example 10.2 | Page number 333 \n\n');\n",
"//Find the ratio of mass of saturated liquid to saturated steam\n",
"//Given Data\n",
"x = 0.85 //quality of steam\n",
"printf('The ratio of mass of saturated liquid to saturated steam = %.5f',(1-x)/x)"
   ]
   }
,
{
		   "cell_type": "markdown",
		   "metadata": {},
		   "source": [
			"## Example 10.3: Find_volume_enthalpy_internal_energy_and_entropy_per_kg_water.sce"
		   ]
		  },
  {
"cell_type": "code",
	   "execution_count": null,
	   "metadata": {
	    "collapsed": true
	   },
	   "outputs": [],
"source": [
"clc\n",
"clear\n",
"printf('Example 10.3 | Page number 350 \n\n');\n",
"//Find volume, enthalpy, internal energy and entropy per kilogram of water\n",
"//Given Data\n",
"p1 = 200 //kPa //initial pressure\n",
"t1 = 100 //°C //initial temperature\n",
"ts = 120.23 //°C //saturated steam temperature\n",
"\n",
"//Solution\n",
"//From steam table\n",
"v1 = 0.001044 //m^3/kg //volume per kilogram of water \n",
"h1 = 419 //kJ/kg //enthalpy per kilogram of water\n",
"s1 = 1.3068 //kJ/kg //entropy per kilogram of water\n",
"u1 = h1-p1*v1 //kJ/kg //internal energy per kilogram of water\n",
"printf('Volume per kilogram of water = %.6f m^3/kg\n',v1)\n",
"printf('Enthalpy per kilogram of water = %.1f kJ/kg\n',h1)\n",
"printf('Entropy per kilogram of water = %.4f kJ/kgK\n',s1)\n",
"printf('Internal energy per kilogram of water = %.1f kJ/kg\n',u1)\n",
""
   ]
   }
,
{
		   "cell_type": "markdown",
		   "metadata": {},
		   "source": [
			"## Example 10.4: Find_temperature_and_all_other_specific_properties.sce"
		   ]
		  },
  {
"cell_type": "code",
	   "execution_count": null,
	   "metadata": {
	    "collapsed": true
	   },
	   "outputs": [],
"source": [
"clc\n",
"clear\n",
"printf('Example 10.4 | Page number 350 \n\n');\n",
"//Find temperature and all other specific properties\n",
"//Given data\n",
"p1 = 500 //kPa //initial pressure\n",
"s1 = 1.3625 //initial entropy\n",
"\n",
"//Solution\n",
"//Using Method 2:\n",
"Ts = 424.28 //K //temperature at 500kPa\n",
"sf = 1.8606 //kJ/kgK //entropy at 500kPa\n",
"Cwat = 4.189 //kJ/kgK //specific heat of water\n",
"T1 = (exp((sf-s1)/Cwat)/Ts)^-1 //K\n",
"printf('Temperature = %.2f °C\n',T1-273)\n",
"v1 = 0.001 //m^3/kg //volume per kg water\n",
"h1 = (640.21 - Cwat*(151.86-T1+273)) // kJ/kg //Enthalpy per kg water\n",
"u1 = h1 - p1*v1 //kJ/kg //internal energy per kg water\n",
"printf('Volume per kg water = %.3f m^3/kg\n',v1)\n",
"printf('Enthalpy per kg water = %.1f kJ/kg\n',h1)\n",
"printf('Internal energy per kg water = %.1f kJ/kg\n',u1)"
   ]
   }
,
{
		   "cell_type": "markdown",
		   "metadata": {},
		   "source": [
			"## Example 10.5: Find_other_properties_of_water.sce"
		   ]
		  },
  {
"cell_type": "code",
	   "execution_count": null,
	   "metadata": {
	    "collapsed": true
	   },
	   "outputs": [],
"source": [
"clc\n",
"clear\n",
"printf('Example 10.5 | Page number 352 \n\n');\n",
"//Find properties of water\n",
"//Given data\n",
"t = 50 //°C //temperature of water\n",
"h = 209.31 //kJ/kg\n",
"//Solution\n",
"//From saturated property table\n",
"p = 12.35 //kPa\n",
"v = 0.001012 //m^3/kg\n",
"u = h - p*v //kJ/kg\n",
"s = 0.7037 //kJ/kg\n",
"printf('Pressure = %.2f kPa\n',p)\n",
"printf('Volume per kg water = %.6f m^3/kg\n',v)\n",
"printf('Internal energy per kg water = %.1f kJ/kg\n',u)\n",
"printf('Entropy per kg water = %.4f kJ/kgK',s)"
   ]
   }
,
{
		   "cell_type": "markdown",
		   "metadata": {},
		   "source": [
			"## Example 10.6: Find_all_other_properties_of_steam.sce"
		   ]
		  },
  {
"cell_type": "code",
	   "execution_count": null,
	   "metadata": {
	    "collapsed": true
	   },
	   "outputs": [],
"source": [
"clc\n",
"clear\n",
"printf('Example 10.6 | Page number 353 \n\n');\n",
"//Find all properties of steam\n",
"//Given Data\n",
"p = 12 //bar //pressure of steam leaving boiler\n",
"h = 2705 //kJ/kg //Enthalpy of steam\n",
"//Solution\n",
"//From pressure based saturated property table, at p = 12bar\n",
"hf = 798.64 //kJ/kg\n",
"hg = 2784.8 //kJ/kg\n",
"x = (h-hf)/(hg-hf) //Dryness fraction\n",
"v = (1-x)*0.001139 + (x)*0.1633 //m^3/kg\n",
"s = (1-x)*2.2165 + (x)*6.5233 //m^3/kgK\n",
"u = h - p*v*100 //kJ/kg\n",
"printf('Volume per kg water = %.6f m^3/kg\n',v)\n",
"printf('Internal energy per kg water = %.1f kJ/kg\n',u)\n",
"printf('Entropy per kg water = %.4f kJ/kgK',s)"
   ]
   }
,
{
		   "cell_type": "markdown",
		   "metadata": {},
		   "source": [
			"## Example 10.7: Find_all_other_thermodynamic_properties.sce"
		   ]
		  },
  {
"cell_type": "code",
	   "execution_count": null,
	   "metadata": {
	    "collapsed": true
	   },
	   "outputs": [],
"source": [
"clc\n",
"clear\n",
"printf('Example 10.7 | Page number 354 \n\n');\n",
"//Find all thermodynamic properties\n",
"//Given data\n",
"p = 15 //bar\n",
"u = 2594.5 //kJ/kg\n",
"//Solution\n",
"//From saturated steam table based on pressure at p = 15 bar\n",
"hf = 844.87 //kJ/kg\n",
"hg = 2792.1 //kJ/kg\n",
"vf = 0.001154 //m^3/kg\n",
"vg = 0.13177 //m^3/kg\n",
"uf = hf-100*p*vf //kJ/kg\n",
"ug = hg-100*p*vg //kJ/kg\n",
"if u-ug<0.1 then\n",
"    printf('Temperature = %.2f °C\n',198.32)\n",
"    printf('Volume per kg water = %.3f m^3/kg\n',vg)\n",
"    printf('Enthalpy per kg water = %.1f kJ/kg\n',hg)\n",
"    printf('Internal energy per kg water = %.1f kJ/kg\n',ug)\n",
"    printf('Entropy per kg water = %.4f kJ/kgK',6.4448)\n",
"\n",
"end"
   ]
   }
,
{
		   "cell_type": "markdown",
		   "metadata": {},
		   "source": [
			"## Example 10.8: Find_all_other_thermodynamic_properties_of_steam.sce"
		   ]
		  },
  {
"cell_type": "code",
	   "execution_count": null,
	   "metadata": {
	    "collapsed": true
	   },
	   "outputs": [],
"source": [
"clc\n",
"clear\n",
"printf('Example 10.8 | Page number 355 \n\n');\n",
"//Find all thermodynamic property of steam\n",
"//Given data\n",
"p = 10e6 //Pa\n",
"t = 550 //°C\n",
"//Solution\n",
"//From superheated property table\n",
"v_500 = 0.03279 //m^3/kg\n",
"v_600 = 0.03837 //m^3/kg\n",
"v_550 = v_500 + (v_500-v_600)/(500-600)*(550-500) //m^3/kg\n",
"h_500 = 3373.6 //kJ/kg\n",
"h_600 = 3625.3 //kJ/kg\n",
"h_550 = h_500 + (h_500-h_600)/(500-600)*(550-500) //kJ/kg\n",
"s_500 = 6.5965 //kJ/kgK\n",
"s_600 = 6.9028 //kJ/kgK\n",
"s_550 = s_500 + (s_500-s_600)/(500-600)*(550-500) //kJ/kgK\n",
"printf('Volume per kg water = %.6f m^3/kg\n',v_550)\n",
"printf('Enthalpy per kg water = %.1f kJ/kg\n',h_550)\n",
"printf('Entropy per kg water = %.4f kJ/kgK',s_550)\n",
""
   ]
   }
,
{
		   "cell_type": "markdown",
		   "metadata": {},
		   "source": [
			"## Example 10.9: Find_the_all_other_thermodynamic_properties_of_steam.sce"
		   ]
		  },
  {
"cell_type": "code",
	   "execution_count": null,
	   "metadata": {
	    "collapsed": true
	   },
	   "outputs": [],
"source": [
"clc\n",
"clear\n",
"printf('Example 10.9 | Page number 355 \n\n');\n",
"//Find thermodynamic properties\n",
"//Given data\n",
"t = 250 //°C \n",
"h = 2855.8 //kJ/kg\n",
"//From superheated property table\n",
"p = 3e6 //Pa\n",
"v = 0.07058 //m^3/kg\n",
"s = 6.2871 //kJ/kgK\n",
"u = h - p*v*.001 //kJ/kg\n",
"printf('Pressure = %.1f MPa\n',p*1e-6)\n",
"printf('Volume per kilogram of water = %.6f m^3/kg\n',v)\n",
"printf('Enthalpy per kilogram of water = %.1f kJ/kg\n',h)\n",
"printf('Entropy per kilogram of water = %.4f kJ/kgK\n',s)\n",
"printf('Internal energy per kilogram of water = %.1f kJ/kg\n',u)\n",
""
   ]
   }
],
"metadata": {
		  "kernelspec": {
		   "display_name": "Scilab",
		   "language": "scilab",
		   "name": "scilab"
		  },
		  "language_info": {
		   "file_extension": ".sce",
		   "help_links": [
			{
			 "text": "MetaKernel Magics",
			 "url": "https://github.com/calysto/metakernel/blob/master/metakernel/magics/README.md"
			}
		   ],
		   "mimetype": "text/x-octave",
		   "name": "scilab",
		   "version": "0.7.1"
		  }
		 },
		 "nbformat": 4,
		 "nbformat_minor": 0
}
