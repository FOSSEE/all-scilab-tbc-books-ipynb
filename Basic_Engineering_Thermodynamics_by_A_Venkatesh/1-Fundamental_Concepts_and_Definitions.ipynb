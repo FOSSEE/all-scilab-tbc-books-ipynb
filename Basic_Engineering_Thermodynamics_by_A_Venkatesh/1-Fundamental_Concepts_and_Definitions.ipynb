{
"cells": [
 {
		   "cell_type": "markdown",
	   "metadata": {},
	   "source": [
       "# Chapter 1: Fundamental Concepts and Definitions"
	   ]
	},
{
		   "cell_type": "markdown",
		   "metadata": {},
		   "source": [
			"## Example 1.1: Find_velocity_of_a_body.sce"
		   ]
		  },
  {
"cell_type": "code",
	   "execution_count": null,
	   "metadata": {
	    "collapsed": true
	   },
	   "outputs": [],
"source": [
"clc\n",
"clear\n",
"printf('Example 1.1 | Page number 5 \n\n');\n",
"//find velocity of a body.\n",
"\n",
"//Given Data\n",
"distanceTravelled = 80 * 1000 //in meters\n",
"timeOfTravel = 2 * 3600 //in seconds\n",
"printf('Distance of travel = %.2f m \n',distanceTravelled);\n",
"printf('Time of travel = %.2f s \n\n',timeOfTravel);\n",
"\n",
"//Solution\n",
"Velocity = distanceTravelled / timeOfTravel  //in meter/second\n",
"printf('Velocity = %.2f m/s \n',Velocity);\n",
""
   ]
   }
,
{
		   "cell_type": "markdown",
		   "metadata": {},
		   "source": [
			"## Example 1.2: Find_the_force_acting_on_the_body.sce"
		   ]
		  },
  {
"cell_type": "code",
	   "execution_count": null,
	   "metadata": {
	    "collapsed": true
	   },
	   "outputs": [],
"source": [
"clc\n",
"clear\n",
"printf('Example 1.2 | Page number 6 \n\n');\n",
"//find the force.\n",
"\n",
"//Given Data\n",
"mass = 120 //in kg\n",
"acceleration = 10 //in m/s^2\n",
"printf('Mass = %.2f kg \n',mass);\n",
"printf('Acceleration = %.2f m/s^2 \n\n',acceleration);\n",
"\n",
"//Solution\n",
"force = mass * acceleration * 0.001  //in kN\n",
"printf('Force = %.2f kN \n',force);\n",
""
   ]
   }
,
{
		   "cell_type": "markdown",
		   "metadata": {},
		   "source": [
			"## Example 1.3: Find_the_weight_of_body.sce"
		   ]
		  },
  {
"cell_type": "code",
	   "execution_count": null,
	   "metadata": {
	    "collapsed": true
	   },
	   "outputs": [],
"source": [
"clc\n",
"clear\n",
"printf('Example 1.3 | Page number 6 \n\n');\n",
"//find the weight of a body.\n",
"\n",
"//Given Data\n",
"mass = 60 //in kg\n",
"accelerationDueToGravity = 9.8 //in m/s^2\n",
"printf('Mass = %.2f kg \n',mass);\n",
"printf('Acceleration due to gravity = %.2f m/s^2 \n\n',accelerationDueToGravity);\n",
"\n",
"//Solution\n",
"weight = mass * accelerationDueToGravity  //in N\n",
"printf('Weight = %.2f N \n',weight);\n",
""
   ]
   }
,
{
		   "cell_type": "markdown",
		   "metadata": {},
		   "source": [
			"## Example 1.4: Find_the_steam_pressures_in_kPa.sce"
		   ]
		  },
  {
"cell_type": "code",
	   "execution_count": null,
	   "metadata": {
	    "collapsed": true
	   },
	   "outputs": [],
"source": [
"clc\n",
"clear\n",
"printf('Example 1.4 | Page number 10 \n\n');\n",
"//find the steam pressure.\n",
"\n",
"//Given Data\n",
"Pg = 12E5 //in N/m^2 //inlet gauge pressure\n",
"Pvac = 75 / 1000 //in m Hg //exit gauge pressure\n",
"atmosphericPressure = 760 / 1000 //in m Hg //atmospheric pressure\n",
"density = 13.6 * 10^3 //kg/m^3 //density of mercury\n",
"g = 9.805 //in m/s^2 //acceleration due to gravity\n",
" \n",
"printf('At inlet to the turbine, Pg = %.3f N/m^2 \n',Pg);\n",
"printf('At the exit, Pvac = %.3f m Hg \n',Pvac);\n",
"printf('Atmospheric pressure = %.3f m Hg \n',atmosphericPressure);\n",
"printf('Density of mercury = %.3f kg/m^3 \n',density);\n",
"printf('Acceleration due to gravity = %.3f m/s^2 \n\n',g);\n",
"\n",
"//Solution\n",
"Pvac = density*g*Pvac //Pvac in N/m^2 \n",
"atmosphericPressure = density*g*atmosphericPressure //atmospheric pressure in N/m^2\n",
"PabsInlet = atmosphericPressure + Pg //in N/m^2 //absolute inlet pressure\n",
"PabsExit = atmosphericPressure - Pvac //in N/m^2 //absolute exit pressure\n",
"printf('At the inlet, absolute pressure = %.3f kPa \n',PabsInlet*.001);\n",
"printf('At the exit, absolute pressure = %.3f kPa \n',PabsExit*.001);\n",
""
   ]
   }
,
{
		   "cell_type": "markdown",
		   "metadata": {},
		   "source": [
			"## Example 1.5: Find_specific_volume_and_density.sce"
		   ]
		  },
  {
"cell_type": "code",
	   "execution_count": null,
	   "metadata": {
	    "collapsed": true
	   },
	   "outputs": [],
"source": [
"clc\n",
"clear\n",
"printf('Example 1.5 | Page number 12 \n\n');\n",
"//find the specific volume and density.\n",
"\n",
"//Given Data\n",
"mass = 50 * .001 //in kg\n",
"volume = 0.04 //in m^3\n",
"printf('Mass = %.2f kg \n',mass);\n",
"printf('Volume = %.2f m^3 \n\n',volume);\n",
"\n",
"//Solution\n",
"specificVolume = volume / mass //in m^3/kg\n",
"density = 1/specificVolume //in kg/m^3\n",
"printf('Specific density = %.2f m^3/kg \n',specificVolume);\n",
"printf('Density = %.2f kg/m^3 \n',density);"
   ]
   }
,
{
		   "cell_type": "markdown",
		   "metadata": {},
		   "source": [
			"## Example 1.6: Find_equivalent_temperature_in_Kelvin_scale.sce"
		   ]
		  },
  {
"cell_type": "code",
	   "execution_count": null,
	   "metadata": {
	    "collapsed": true
	   },
	   "outputs": [],
"source": [
"clc\n",
"clear\n",
"printf('Example 1.6 | Page number 12 \n\n');\n",
"//find the equivalent temperature in Kelvin scale.\n",
"\n",
"//Given Data\n",
"temp = 100; //in degree Celsius\n",
"printf('Temperature in degree Celsius = %.2f degree C \n\n',temp);\n",
"\n",
"//Solution\n",
"TEMP = temp + 273.15;\n",
"printf('Temperature in Kelvin = %.2f K',TEMP);\n",
""
   ]
   }
,
{
		   "cell_type": "markdown",
		   "metadata": {},
		   "source": [
			"## Example 1.7: Find_corresponding_temperature_in_degree_Celsius.sce"
		   ]
		  },
  {
"cell_type": "code",
	   "execution_count": null,
	   "metadata": {
	    "collapsed": true
	   },
	   "outputs": [],
"source": [
"clc\n",
"clear\n",
"printf('Example 1.7 | Page number 12 \n\n');\n",
"//find the equivalent temperature in Celsius scale.\n",
"\n",
"//Given Data\n",
"TEMP = 263.15; //in Kelvin\n",
"printf('Temperature in Kelvin = %.2f K \n\n',TEMP);\n",
"\n",
"//Solution\n",
"temp = TEMP - 273.15;\n",
"printf('Temperature in degree Celsius = %.2f degree C',temp);\n",
""
   ]
   }
],
"metadata": {
		  "kernelspec": {
		   "display_name": "Scilab",
		   "language": "scilab",
		   "name": "scilab"
		  },
		  "language_info": {
		   "file_extension": ".sce",
		   "help_links": [
			{
			 "text": "MetaKernel Magics",
			 "url": "https://github.com/calysto/metakernel/blob/master/metakernel/magics/README.md"
			}
		   ],
		   "mimetype": "text/x-octave",
		   "name": "scilab",
		   "version": "0.7.1"
		  }
		 },
		 "nbformat": 4,
		 "nbformat_minor": 0
}
