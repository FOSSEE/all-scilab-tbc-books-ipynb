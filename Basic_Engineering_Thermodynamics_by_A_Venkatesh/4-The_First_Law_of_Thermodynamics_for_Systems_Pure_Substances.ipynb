{
"cells": [
 {
		   "cell_type": "markdown",
	   "metadata": {},
	   "source": [
       "# Chapter 4: The First Law of Thermodynamics for Systems Pure Substances"
	   ]
	},
{
		   "cell_type": "markdown",
		   "metadata": {},
		   "source": [
			"## Example 4.1: Find_the_magnitude_and_direction_of_the_fourth_work_interaction.sce"
		   ]
		  },
  {
"cell_type": "code",
	   "execution_count": null,
	   "metadata": {
	    "collapsed": true
	   },
	   "outputs": [],
"source": [
"clc\n",
"clear\n",
"printf('Example 4.1 | Page number 93 \n\n');\n",
"//Find magnitude and direction of W_4\n",
"//Given Data\n",
"//four heat transfer\n",
"Q_1 = 900 //J\n",
"Q_2 = 80 //J\n",
"Q_3 = -800 //J\n",
"Q_4 = 150 //J\n",
"//four work interactions\n",
"W_1 = 200 //J\n",
"W_2 = 150 //J\n",
"W_3 = 300 //J\n",
"//W_4\n",
"//Solution\n",
"W_4 = Q_1 +Q_2 +Q_3 +Q_4 -W_1 -W_2 -W_3  \n",
"printf('Magnitude and Direction of the fourth work interaction, W4 = %.2f J',W_4)"
   ]
   }
,
{
		   "cell_type": "markdown",
		   "metadata": {},
		   "source": [
			"## Example 4.2: EX4_2.sce"
		   ]
		  },
  {
"cell_type": "code",
	   "execution_count": null,
	   "metadata": {
	    "collapsed": true
	   },
	   "outputs": [],
"source": [
"clc\n",
"clear\n",
"printf('Example 4.2 | Page number 94 \n\n');\n",
"//Part (a) Find change in energy of the system\n",
"//Part (b) Find the magnitude and direction of work during B\n",
"//Given Data\n",
"Q_a = -50 //KJ //heat transferred from the system along path A\n",
"W_a = -65 //KJ //work done along path A\n",
"Q_b = 0 //KJ //heat transferred from the system along path B\n",
"//W_b work done along path B\n",
"\n",
"//Solution\n",
"\n",
"//Part(a)\n",
"printf('Part (a)\n');\n",
"delE_a = Q_a - W_a //KJ //Change in energy along path A\n",
"printf('Change in energy of the system = %.2f KJ\n\n',delE_a);\n",
"\n",
"//Part(b)\n",
"printf('Part (b)\n');\n",
"delE_b = -1*delE_a //KJ //Change in energy along path B\n",
"W_b = delE_b - Q_b //KJ //work done along path B\n",
"printf('Magnitude and direction of work done during B, W_b = %.2f KJ',W_b)"
   ]
   }
,
{
		   "cell_type": "markdown",
		   "metadata": {},
		   "source": [
			"## Example 4.3: Evaluate_total_energy_of_the_system.sce"
		   ]
		  },
  {
"cell_type": "code",
	   "execution_count": null,
	   "metadata": {
	    "collapsed": true
	   },
	   "outputs": [],
"source": [
"clc\n",
"clear\n",
"printf('Example 4.3 | Page number 99 \n\n');\n",
"//Find the total energy of the system with respect to an observer at rest at sea level. \n",
"//Given data\n",
"m = 2.3 //kg //mass of substance\n",
"u = 21 * 10^3 //J/kg //internal energy\n",
"V = 110 //m/s //velocity \n",
"z = 1500 //m //elevation above sea level\n",
"g = 9.81 //m/s^2 //acceleration due to gravity\n",
"\n",
"\n",
"//Solution\n",
"E = m*(g*z + V^2/2 + u) //J/kg //Total energy of the system\n",
"printf('The total energy of the system with respect to an observer at rest at sea level, E = %.4f KJ',0.001*E);"
   ]
   }
,
{
		   "cell_type": "markdown",
		   "metadata": {},
		   "source": [
			"## Example 4.4: Find_Cv_and_Cp.sce"
		   ]
		  },
  {
"cell_type": "code",
	   "execution_count": null,
	   "metadata": {
	    "collapsed": true
	   },
	   "outputs": [],
"source": [
"clc\n",
"clear\n",
"printf('Example 4.4 | Page number 103 \n\n');\n",
"//find Cv and Cp\n",
"//Given data\n",
"t = poly(0,'t'); //°C //Temperature in °C\n",
"u = 196 + .718*t; //KJ/kg //specific internal energy\n",
"pv = 287*(t+273); //Nm/kg //p is pressure and v = specific volume\n",
"\n",
"//Solution\n",
"Cv = coeff(derivat(u));\n",
"printf('Specific heat at constant volume,Cv = %.3f kJ/kgK\n',Cv(1)); \n",
"\n",
"h = u + pv*.001 //KJ/kg //enthalpy\n",
"Cp = coeff(derivat(h));\n",
"printf('Specific heat at constant pressure,Cp = %.3f kJ/kgK',Cp(1)); "
   ]
   }
,
{
		   "cell_type": "markdown",
		   "metadata": {},
		   "source": [
			"## Example 4.5: Show_that_work_done_on_system_is_equal_to_increase_in_enthalpy.sce"
		   ]
		  },
  {
"cell_type": "code",
	   "execution_count": null,
	   "metadata": {
	    "collapsed": true
	   },
	   "outputs": [],
"source": [
"clc\n",
"clear\n",
"printf('Example 4.5 | Page number 103 \n\n');\n",
"//This question is theoritical. Refer textbook for solution\n",
"printf('This is a theoritical question. Refer textbook for solution.')"
   ]
   }
],
"metadata": {
		  "kernelspec": {
		   "display_name": "Scilab",
		   "language": "scilab",
		   "name": "scilab"
		  },
		  "language_info": {
		   "file_extension": ".sce",
		   "help_links": [
			{
			 "text": "MetaKernel Magics",
			 "url": "https://github.com/calysto/metakernel/blob/master/metakernel/magics/README.md"
			}
		   ],
		   "mimetype": "text/x-octave",
		   "name": "scilab",
		   "version": "0.7.1"
		  }
		 },
		 "nbformat": 4,
		 "nbformat_minor": 0
}
