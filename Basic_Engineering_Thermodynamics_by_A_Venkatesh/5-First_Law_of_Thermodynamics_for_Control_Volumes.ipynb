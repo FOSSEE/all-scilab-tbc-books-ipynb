{
"cells": [
 {
		   "cell_type": "markdown",
	   "metadata": {},
	   "source": [
       "# Chapter 5: First Law of Thermodynamics for Control Volumes"
	   ]
	},
{
		   "cell_type": "markdown",
		   "metadata": {},
		   "source": [
			"## Example 5.10: Find_the_mass_of_air_entering_and_the_final_temperature_of_the_air_in_the_vessel.sce"
		   ]
		  },
  {
"cell_type": "code",
	   "execution_count": null,
	   "metadata": {
	    "collapsed": true
	   },
	   "outputs": [],
"source": [
"clc\n",
"clear\n",
"printf('Example 5.10 | Page number 131 \n\n');\n",
"//Find the mass of air entering and temperature of air in vessel\n",
"\n",
"//Given Data\n",
"m1 = 0.8 //kg //initial mass of air\n",
"p1 = 150 //kPa //initial pressure of air\n",
"T1 = 300 //K //initial temperature of air\n",
"p_p = 600 //kPa //pressure of air in pipe\n",
"T_p = 330 //K // temperature of air in pipe\n",
"\n",
"//Solution\n",
"m2T2 = (p_p/p1)*T1*m1\n",
"m2 = ((0.718*(m2T2/m1-T1))/(331.65)*m1)+m1 //kg //final mass of air\n",
"printf('Mass of air entering in vessel = %.4f kg\n',m2-m1)\n",
"T2 = m2T2/m2 //K //Temperature of air in vessel\n",
"printf('Temperature of air in vessel = %.1f K',T2)"
   ]
   }
,
{
		   "cell_type": "markdown",
		   "metadata": {},
		   "source": [
			"## Example 5.11: Show_relation_between_mass_and_pressure_ratios.sce"
		   ]
		  },
  {
"cell_type": "code",
	   "execution_count": null,
	   "metadata": {
	    "collapsed": true
	   },
	   "outputs": [],
"source": [
"clc\n",
"clear\n",
"printf('Example 5.11 | Page number 133 \n\n');\n",
"//This is a theoritical question. Refer textbook for solution.\n",
"printf('This is a theoritical question. Refer textbook for solution.')"
   ]
   }
,
{
		   "cell_type": "markdown",
		   "metadata": {},
		   "source": [
			"## Example 5.1: Find_work_output.sce"
		   ]
		  },
  {
"cell_type": "code",
	   "execution_count": null,
	   "metadata": {
	    "collapsed": true
	   },
	   "outputs": [],
"source": [
"clc\n",
"clear\n",
"printf('Example 5.1 | Page number 119 \n\n');\n",
"//Find the work output in KJ/kg\n",
"//Given data\n",
"Q = -24; //KJ/kg\n",
"\n",
"p1 = 5e5; //N/m^2\n",
"t1 = 227; //°C\n",
"V1 = 50; //m/s\n",
"v1 = 0.78; //m^3/kg\n",
"\n",
"p2 = 1e5; //N/m^2\n",
"t2 = 57; //°C\n",
"V2 = 100; //m/s\n",
"v2 = 0.97; //m^3/kg\n",
"\n",
"g = 9.81; //m/s^2 //acceleration due to gravity\n",
"\n",
"delta_z = -5; //m \n",
"Cv = 0.7; //KJ/kg \n",
"delta_u = Cv*(t2 - t1); //KJ/kg //change in internal energy //u2-u1\n",
"\n",
"//Solution\n",
"delta_h = delta_u + (p2*v2 - p1*v1)*.001; //KJ/kg //change in enthalpy //h2-h1\n",
"\n",
"W_x = Q - (delta_h + (V2^2 - V1^2)/2*.001 + g*delta_z*.001); //kJ/kg //Work Output\n",
"\n",
"printf('Work output = %.2f KJ/kg',W_x);"
   ]
   }
,
{
		   "cell_type": "markdown",
		   "metadata": {},
		   "source": [
			"## Example 5.2: Find_the_change_in_enthalpy_across_the_turbine.sce"
		   ]
		  },
  {
"cell_type": "code",
	   "execution_count": null,
	   "metadata": {
	    "collapsed": true
	   },
	   "outputs": [],
"source": [
"clc\n",
"clear\n",
"printf('Example 5.2 | Page number 120 \n\n');\n",
"//Part (a) Find the change in enthalpy across turbine, if inlet velocity is negligible\n",
"//Part (b) Find the change in enthalpy across turbine, if inlet velocity is 60m/s\n",
"\n",
"//Given Data\n",
"m = 5000/3600 // kg/s // flow rate\n",
"W_x = 550 // KJ/s //power developed by turbine\n",
"Q = 0 //Heat loss is negligible\n",
"\n",
"//Solution\n",
"//Part (a)\n",
"printf('Part(a)\n\n')\n",
"V1 = 0 // m/s //inlet velocity\n",
"V2 = 360 // m/s //exit velocity\n",
"g = 9.81 // m/s^2\n",
"delta_z = 0 //m //z2-z1\n",
"\n",
"delta_h = ((Q-W_x)/m)-g*delta_z*.001-((V2^2-V1^2)/2000) //KJ/Kg //change in enthalpy\n",
"printf('Change in enthalpy = %.2f KJ/kg\n',delta_h)\n",
"\n",
"//Part (a)\n",
"printf('\nPart(b)\n\n')\n",
"V1 = 60 // m/s //inlet velocity\n",
"V2 = 360 // m/s //exit velocity\n",
"g = 9.81 // m/s^2\n",
"delta_z = 0 //m //z2-z1\n",
"\n",
"delta_h = ((Q-W_x)/m)-g*delta_z*.001-((V2^2-V1^2)/2000) //KJ/Kg //change in enthalpy\n",
"printf('Change in enthalpy = %.2f KJ/kg\n',delta_h)"
   ]
   }
,
{
		   "cell_type": "markdown",
		   "metadata": {},
		   "source": [
			"## Example 5.3: Determine_the_temperature_at_the_inlet_and_power_developed.sce"
		   ]
		  },
  {
"cell_type": "code",
	   "execution_count": null,
	   "metadata": {
	    "collapsed": true
	   },
	   "outputs": [],
"source": [
"clc\n",
"clear\n",
"printf('Example 5.3 | Page number 122 \n\n');\n",
"//Part(a) Determine the temperature of air at inlet to the turbine\n",
"//PArt(b) Determine power developed by turbine\n",
"\n",
"//Given Data\n",
"mA = 0.8 // kg/s //flow rate of stream A\n",
"pA = 15e5 // N/m^2 //Pressure of stream A\n",
"tA = 250 //°C //temperature of stream A\n",
"\n",
"\n",
"mB = 0.5 // kg/s //flow rate of stream B\n",
"pB = 15e5 // N/m^2 //Pressure of stream B\n",
"tB = 200 //°C //temperature of stream B\n",
"\n",
"Q = 0 //No heat loss\n",
"\n",
"p1 = 10e5 // N/m^2 //pressure supply of chamber\n",
"t2 = 30 //°C //exhaust air temperature from turbine\n",
"\n",
"Cv = 0.718 // KJ/kgK //heat capacity at constant volume\n",
"Cp = 1 // KJ/kgK //heat capacity at constant pressure\n",
"\n",
"//solution\n",
"//Part(a)\n",
"printf('Part (a)\n')\n",
"t1 = ((mA*Cp*tA)+(mB*Cp*tB))/((mA*Cp)+(mB*Cp)) // °C //the temperature of air at inlet to the turbine\n",
"printf('The temperature of air at inlet to the turbine = %.2f °C\n',t1);\n",
"//Part(b)\n",
"printf('\nPart (b)\n')\n",
"WT = -1*(mA+mB)*Cp*(t2-t1) // °kW //power developed by turbine\n",
"printf('Power developed by turbine = %.2f kW',WT);"
   ]
   }
,
{
		   "cell_type": "markdown",
		   "metadata": {},
		   "source": [
			"## Example 5.4: Find_the_inlet_and_exit_velocities.sce"
		   ]
		  },
  {
"cell_type": "code",
	   "execution_count": null,
	   "metadata": {
	    "collapsed": true
	   },
	   "outputs": [],
"source": [
"clc\n",
"clear\n",
"printf('Example 5.4 | Page number 123 \n\n');\n",
"//Find inlet and exit velocities\n",
"\n",
"//Given Data\n",
"d1 = 0.15 //m //inlet diameter\n",
"m = 4000/3600 // kg/s //flow rate\n",
"v1 = 0.285 //m^3/kg //specific volume at entry\n",
"d2 = 0.25 //m //exit diameter\n",
"v2 = 15 // m^3/kg //specific volume at exit\n",
"\n",
"//Solution\n",
"\n",
"A1 = %pi*d1^2/4 //m^2 //inlet cross sectional area\n",
"A2 = %pi*d2^2/4 // m^2 // exit cross sectional area\n",
"printf('Inlet cross sectional area (A1)= %.5f m^2\n',A1);\n",
"printf('Exit cross sectional area (A2)= %.5f m^2\n',A2);\n",
"\n",
"V1 = m*v1/A1 //m/s //inlet velocity\n",
"V2 = m*v2/A2 //m/s //exit velocity\n",
"\n",
"printf('\nInlet velocity = %.1f m/s',V1);\n",
"printf('\nExit velocity = %.1f m/s',V2);"
   ]
   }
,
{
		   "cell_type": "markdown",
		   "metadata": {},
		   "source": [
			"## Example 5.5: Find_the_temperature_of_air_after_throttling.sce"
		   ]
		  },
  {
"cell_type": "code",
	   "execution_count": null,
	   "metadata": {
	    "collapsed": true
	   },
	   "outputs": [],
"source": [
"clc\n",
"clear\n",
"printf('Example 5.5 | Page number 125 \n\n');\n",
"//Find air temperature after throttling\n",
"\n",
"//Given Data\n",
"p1 = 10//bar //inlet pressure\n",
"t1 = 300 //°C //inlet temperature\n",
"\n",
"p2 = 0.1 //bar //exit pressure\n",
"Cp = 1 //kJ/kgK // heat capacity at constant pressure\n",
"//Solution\n",
"//Adiabatic process\n",
"delta_h = 0 //change in enthalpy\n",
"t2 = delta_h/Cp + t1\n",
"printf('Temperature of air after throttling = %.1f °C',t1)"
   ]
   }
,
{
		   "cell_type": "markdown",
		   "metadata": {},
		   "source": [
			"## Example 5.6: Calculate_the_work_input_to_the_compressor.sce"
		   ]
		  },
  {
"cell_type": "code",
	   "execution_count": null,
	   "metadata": {
	    "collapsed": true
	   },
	   "outputs": [],
"source": [
"clc\n",
"clear\n",
"printf('Example 5.6 | Page number 126 \n\n');\n",
"// Calculate work input to compressor\n",
"\n",
"//Given Data\n",
"p1 = 1e5 // N/m^2 //inlet pressure\n",
"v1 = 0.08 //m^3/kg // specific volume at inlet\n",
"p2 = 7e5 // N/m^2 //exit pressure\n",
"v2 = 0.016 // m^3/kg //specific volume at exit\n",
"u1 = 48 // kJ/kg // internal energy at inlet\n",
"u2 = 200 // kJ/kg // internal energy at exit\n",
"Q = -120 // kJ/kg // heat loss\n",
"//Solution\n",
"Wc = ((u2 - u1) + (p2*v2 - p1*v1)*.001 - Q)*-1 // kJ/kg // work input to compressor\n",
"printf('Work input to compressor (Wc) = %.1f kJ/kg',Wc)"
   ]
   }
,
{
		   "cell_type": "markdown",
		   "metadata": {},
		   "source": [
			"## Example 5.7: Find_the_mass_flow_rate_of_cooling_water.sce"
		   ]
		  },
  {
"cell_type": "code",
	   "execution_count": null,
	   "metadata": {
	    "collapsed": true
	   },
	   "outputs": [],
"source": [
"clc\n",
"clear\n",
"printf('Example 5.7 | Page number 128 \n\n');\n",
"//Find mass flow rate of cooling water\n",
"mh = 9.45 // kg/s // flow rate of steam\n",
"h_h2 = 140 // kJ/kg // enthalpy of condensate\n",
"h_h1 = 2570 // kJ/kg // inlet enthalpy of steam\n",
"t1 = 25 // °C //inlet temperature of cooling water\n",
"t2 = 36 // °C //exit temperature of cooling water\n",
"c = 4.189 // kJ/kg deg // specific heat of water\n",
"//Solution\n",
"mc = -1*(mh*(h_h2-h_h1))/(c*(t2-t1)) // kg/s //mass flow rate of cooling water\n",
"printf('Mass flow rate of cooling water = %.2f kg/s',mc)"
   ]
   }
,
{
		   "cell_type": "markdown",
		   "metadata": {},
		   "source": [
			"## Example 5.8: EX5_8.sce"
		   ]
		  },
  {
"cell_type": "code",
	   "execution_count": null,
	   "metadata": {
	    "collapsed": true
	   },
	   "outputs": [],
"source": [
"clc\n",
"clear\n",
"printf('Example 5.8 | Page number 129 \n\n');\n",
"//Redo example 5.7 for heat loss 10% of heat transferred\n",
"mh = 9.45 // kg/s // flow rate of steam\n",
"h_h2 = 140 // kJ/kg // enthalpy of condensate\n",
"h_h1 = 2570 // kJ/kg // inlet enthalpy of steam\n",
"t1 = 25 // °C //inlet temperature of cooling water\n",
"t2 = 36 // °C //exit temperature of cooling water\n",
"c = 4.189 // kJ/kg deg // specific heat of water\n",
"fractionalheatloss = 0.1 // fractional heat loss\n",
"//Solution\n",
"mc = -1*((1-fractionalheatloss)*mh*(h_h2-h_h1))/(c*(t2-t1)) // kg/s //mass flow rate of cooling water\n",
"printf('Mass flow rate of cooling water = %.1f kg/s',mc)"
   ]
   }
,
{
		   "cell_type": "markdown",
		   "metadata": {},
		   "source": [
			"## Example 5.9: Find_the_inlet_air_temperature.sce"
		   ]
		  },
  {
"cell_type": "code",
	   "execution_count": null,
	   "metadata": {
	    "collapsed": true
	   },
	   "outputs": [],
"source": [
"clc\n",
"clear\n",
"printf('Example 5.9 | Page number 130 \n\n');\n",
"//Find inlet air temperature\n",
"V1 = 300 //m/s //inlet air velocity\n",
"t2 = 100 //°C //exit air temperature\n",
"V2 = 15 //m/s //exit air velocity\n",
"//Solution\n",
"t1 = t2 + .001*(V2^2 - V1^2)/2 // °C //inlet air temperature\n",
"printf('Inlet air temperature = %.1f °C',t1)"
   ]
   }
],
"metadata": {
		  "kernelspec": {
		   "display_name": "Scilab",
		   "language": "scilab",
		   "name": "scilab"
		  },
		  "language_info": {
		   "file_extension": ".sce",
		   "help_links": [
			{
			 "text": "MetaKernel Magics",
			 "url": "https://github.com/calysto/metakernel/blob/master/metakernel/magics/README.md"
			}
		   ],
		   "mimetype": "text/x-octave",
		   "name": "scilab",
		   "version": "0.7.1"
		  }
		 },
		 "nbformat": 4,
		 "nbformat_minor": 0
}
