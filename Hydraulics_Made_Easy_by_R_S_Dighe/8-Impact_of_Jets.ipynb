{
"cells": [
 {
		   "cell_type": "markdown",
	   "metadata": {},
	   "source": [
       "# Chapter 8: Impact of Jets"
	   ]
	},
{
		   "cell_type": "markdown",
		   "metadata": {},
		   "source": [
			"## Example 8.10: example_10.sce"
		   ]
		  },
  {
"cell_type": "code",
	   "execution_count": null,
	   "metadata": {
	    "collapsed": true
	   },
	   "outputs": [],
"source": [
"clc \n",
"//initialisation of variables\n",
"vr= 20 //f/sec\n",
"u= 9 //knots\n",
"D= 64 //lbs per cubic foot\n",
"g= 32.2 //ft/sec^2\n",
"p= 40 //per cent\n",
"//CALCULATIONS\n",
"u1= u*6080/3600\n",
"v= vr-u1\n",
"P= D*2*vr*4.8/g\n",
"HP= P*u1/550\n",
"HP1= 100*HP/p\n",
"//RESULTS\n",
"printf ('cylinder H.P= %.2f H.P',HP1)"
   ]
   }
,
{
		   "cell_type": "markdown",
		   "metadata": {},
		   "source": [
			"## Example 8.11: example_11.sce"
		   ]
		  },
  {
"cell_type": "code",
	   "execution_count": null,
	   "metadata": {
	    "collapsed": true
	   },
	   "outputs": [],
"source": [
"clc \n",
"//initialisation of variables\n",
"W= 62.4 //lbs/ft^3\n",
"A= 4 //ft^2\n",
"P= 1000 //lbs\n",
"g= 32.2 //ft/sec^2\n",
"v= 10 //ft/sec\n",
"//CALCULATIONS\n",
"vr= sqrt(25+(P*g/(W*A)))+5\n",
"Q= vr*W*A/10\n",
"e= 2*v*100/(vr+v)\n",
"//RESULTS\n",
"printf ('quantity of water pumped= %.1f lbs',Q)\n",
"printf ('\n efficiency= %.1f per cent',e)"
   ]
   }
,
{
		   "cell_type": "markdown",
		   "metadata": {},
		   "source": [
			"## Example 8.12: example_12.sce"
		   ]
		  },
  {
"cell_type": "code",
	   "execution_count": null,
	   "metadata": {
	    "collapsed": true
	   },
	   "outputs": [],
"source": [
"clc \n",
"//initialisation of variables\n",
"g= 32.2 //ft/sec^2\n",
"//CALCULATIONS\n",
"v= sqrt(32*g)\n",
"//RESULTS\n",
"printf ('speed that delivery commence= %.1f ft/sec',v)"
   ]
   }
,
{
		   "cell_type": "markdown",
		   "metadata": {},
		   "source": [
			"## Example 8.1: chapter_8_example_1.sce"
		   ]
		  },
  {
"cell_type": "code",
	   "execution_count": null,
	   "metadata": {
	    "collapsed": true
	   },
	   "outputs": [],
"source": [
"\n",
"clc \n",
"//initialisation of variables\n",
"d= 1 //in\n",
"v= 36 //ft/sec\n",
"a= 30 //degrees\n",
"w= 62.4 //lbs/ft^3\n",
"g=32.2\n",
"//CALCULATIONS\n",
"P= w*sind(a)*v^2*(%pi*(d/12)^2/4)/g\n",
"//RESULTS\n",
"printf ('Total thrust on the plate= %.2f lb wt',P)"
   ]
   }
,
{
		   "cell_type": "markdown",
		   "metadata": {},
		   "source": [
			"## Example 8.2: chapter_8_example_2.sce"
		   ]
		  },
  {
"cell_type": "code",
	   "execution_count": null,
	   "metadata": {
	    "collapsed": true
	   },
	   "outputs": [],
"source": [
"clc \n",
"//initialisation of variables\n",
"a= 180 //degrees\n",
"g= 32.2 //ft/sec^2\n",
"w= 62.4 //lbs/ft^3\n",
"d= 1 //in\n",
"H= 100 //ft\n",
"u= 0.95\n",
"//CALCULATIONS\n",
"v= u*sqrt(2*g*H)\n",
"Px= w*(1-cosd(a))*(%pi*(d/12)^2/4)*v^2/g\n",
"//RESULTS\n",
"printf ('force it exerts= %.1f lb wt',Px)"
   ]
   }
,
{
		   "cell_type": "markdown",
		   "metadata": {},
		   "source": [
			"## Example 8.3: chapter_8_example_3.sce"
		   ]
		  },
  {
"cell_type": "code",
	   "execution_count": null,
	   "metadata": {
	    "collapsed": true
	   },
	   "outputs": [],
"source": [
"\n",
"clc \n",
"//initialisation of variables\n",
"d= 30 //in\n",
"a= 90 //degrees\n",
"Q= 62.5 //ft^3/sec\n",
"w= 62.4 //lbs/ft^3\n",
"n=4\n",
"g=32.2\n",
"//CALCULATIONS\n",
"v= Q*4/(%pi*(d/12)^2)\n",
"P= w*%pi*(d/12)^2*v^2/(4*g)\n",
"Px= P/n\n",
"//RESULTS\n",
"printf ('pull on each bolt= %.1f lbs',Px)"
   ]
   }
,
{
		   "cell_type": "markdown",
		   "metadata": {},
		   "source": [
			"## Example 8.4: chapter_8_example_4.sce"
		   ]
		  },
  {
"cell_type": "code",
	   "execution_count": null,
	   "metadata": {
	    "collapsed": true
	   },
	   "outputs": [],
"source": [
"clc \n",
"//initialisation of variables\n",
"d= 4 //in\n",
"v= 30 //ft/sec\n",
"a= 22.5 //degrees\n",
"w= 62.4 //lbs/ft^3\n",
"g= 32.2 //ft/sec^2\n",
"//CALCULATIONS \n",
"P= w*(%pi*(d/12)^2/4)*v^2*sqrt(2*(1-cosd(a)))/g\n",
"//RESULTS\n",
"printf ('Resultant force tending to move the pipe= %.f lbs',P)\n",
"\n",
"\n",
"//ANSWER GIVEN IN THE TEXTBOOK IS WRONG"
   ]
   }
,
{
		   "cell_type": "markdown",
		   "metadata": {},
		   "source": [
			"## Example 8.5: chapter_8_example_5.sce"
		   ]
		  },
  {
"cell_type": "code",
	   "execution_count": null,
	   "metadata": {
	    "collapsed": true
	   },
	   "outputs": [],
"source": [
"clc \n",
"//initialisation of variables\n",
"d= 3 //in\n",
"v1= 80 //ft/sec\n",
"v2= 40 //ft/sec\n",
"w= 62.4 //lbs/ft^3\n",
"g= 32.2 //ft/sec^2\n",
"//CALCULATIONS\n",
"vr= v1-v2\n",
"P= w*vr*v2*%pi*(d/12)^2/(g*4)\n",
"//RESULTS\n",
"printf ('normal pressure on the plate when jet strikes= %.1f lbs',P)"
   ]
   }
,
{
		   "cell_type": "markdown",
		   "metadata": {},
		   "source": [
			"## Example 8.6: chapter_8_example_6.sce"
		   ]
		  },
  {
"cell_type": "code",
	   "execution_count": null,
	   "metadata": {
	    "collapsed": true
	   },
	   "outputs": [],
"source": [
"clc \n",
"//initialisation of variables\n",
"d= 2 //in\n",
"v1= 50 //ft/sec\n",
"v2= 20 //ft/sec\n",
"W= 62.4 //lbs/ft^3\n",
"g= 32.2 //ft/sec^2\n",
"//CALCULATIONS\n",
"vr= v1-v2\n",
"P= W*vr*v1*%pi*(d/2)^2/(g*4)\n",
"W= P*v2\n",
"KE= 2*vr*v2*100/v1^2\n",
"//RESULTS\n",
"printf ('Efficiency= %.f per cent',KE)"
   ]
   }
,
{
		   "cell_type": "markdown",
		   "metadata": {},
		   "source": [
			"## Example 8.7: chapter_8_example_7.sce"
		   ]
		  },
  {
"cell_type": "code",
	   "execution_count": null,
	   "metadata": {
	    "collapsed": true
	   },
	   "outputs": [],
"source": [
"clc \n",
"//initialisation of variables\n",
"d= 1 //in\n",
"v= 10 //f/sec\n",
"v1= 30 //ft/sec\n",
"w= 62.4 //lbs/ft^3\n",
"a= 180 //degrees\n",
"g= 32.2 //ft/sec^2\n",
"//CALCULATIONS\n",
"A= %pi*(d/12)^2/4\n",
"vr= 80-v1\n",
"M= w*vr*A\n",
"Px= M*vr*(1-cosd(a))/g\n",
"W= Px*v1\n",
"M1= w*80*A\n",
"Px1= M1*vr*(1-cosd(a))/g\n",
"W1= Px1*v1\n",
"//RESULTS\n",
"printf ('total force when there is a single cup= %.1f ft lbs',W)\n",
"printf ('\n total force when there is a series of cups= %.1f ft lbs',W1)"
   ]
   }
,
{
		   "cell_type": "markdown",
		   "metadata": {},
		   "source": [
			"## Example 8.8: example_8.sce"
		   ]
		  },
  {
"cell_type": "code",
	   "execution_count": null,
	   "metadata": {
	    "collapsed": true
	   },
	   "outputs": [],
"source": [
"clc \n",
"//initialisation of variables\n",
"v= 100 //ft/sec\n",
"u= 40 //ft/sec\n",
"a= 25 //degrees\n",
"g= 32.2 //ft/sec^2\n",
"vr= 66 //ft/sec\n",
"a1= 20 ///degrees\n",
"a2= 8 //degrees\n",
"r= 0.14\n",
"//CALCULATIONS\n",
"A= atand(v*sind(a)/(v*cosd(a)-u))\n",
"A1= atand(r)\n",
"v1= vr*sind(A1)/sind(a1)\n",
"W= (v^2-v1^2)/(2*g)\n",
"e= (v^2-v1^2)*100/v^2\n",
"//RESULTS\n",
"printf ('inlet blade angle = %.2f degrees',A)\n",
"printf ('\n outlet blade angle = %.2f degrees',A1)\n",
"printf ('\n Work done = %.f ft lbs',W)\n",
"printf ('\n efficiency = %.2f ft per cent',e)"
   ]
   }
,
{
		   "cell_type": "markdown",
		   "metadata": {},
		   "source": [
			"## Example 8.9: example_9.sce"
		   ]
		  },
  {
"cell_type": "code",
	   "execution_count": null,
	   "metadata": {
	    "collapsed": true
	   },
	   "outputs": [],
"source": [
"clc \n",
"//initialisation of variables\n",
"Q= 60 //ft^3/sec\n",
"v= 12 //m.p.h\n",
"A= 3 //ft^2\n",
"D= 64 //lbs/ft^3\n",
"g= 32.2 //ft/sec^2\n",
"M= 64 //lbs\n",
"//CALCULATIONS\n",
"vr= Q/A\n",
"u= v*44/30\n",
"v1= vr-u\n",
"P= M*Q*v1/g\n",
"//RESULTS\n",
"printf ('propelling force= %.1f lbs',P)"
   ]
   }
],
"metadata": {
		  "kernelspec": {
		   "display_name": "Scilab",
		   "language": "scilab",
		   "name": "scilab"
		  },
		  "language_info": {
		   "file_extension": ".sce",
		   "help_links": [
			{
			 "text": "MetaKernel Magics",
			 "url": "https://github.com/calysto/metakernel/blob/master/metakernel/magics/README.md"
			}
		   ],
		   "mimetype": "text/x-octave",
		   "name": "scilab",
		   "version": "0.7.1"
		  }
		 },
		 "nbformat": 4,
		 "nbformat_minor": 0
}
