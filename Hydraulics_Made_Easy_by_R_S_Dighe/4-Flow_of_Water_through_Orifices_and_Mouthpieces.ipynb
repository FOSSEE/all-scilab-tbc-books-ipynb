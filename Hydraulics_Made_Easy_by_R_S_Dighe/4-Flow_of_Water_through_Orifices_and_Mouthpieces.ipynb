{
"cells": [
 {
		   "cell_type": "markdown",
	   "metadata": {},
	   "source": [
       "# Chapter 4: Flow of Water through Orifices and Mouthpieces"
	   ]
	},
{
		   "cell_type": "markdown",
		   "metadata": {},
		   "source": [
			"## Example 4.10: example_10.sce"
		   ]
		  },
  {
"cell_type": "code",
	   "execution_count": null,
	   "metadata": {
	    "collapsed": true
	   },
	   "outputs": [],
"source": [
"\n",
"clc \n",
"//initialisation of variables\n",
"d= 1 //ft\n",
"h1= 10 //ft\n",
"h2= 2 //ft\n",
"Cd= 0.6\n",
"g= 32.2 //ft/sec^2\n",
"t= 12.6\n",
"//CALCULATIONS\n",
"A= %pi*d^2/4\n",
"a= 1/144\n",
"T1= (A/(a*Cd*sqrt(2*g)))*(1/3)*(h1^1.5-(h1-h2)^1.5-h2^1.5)+t\n",
"T2= 2*A*(h2^0.5)/(Cd*a*sqrt(2*g))\n",
"T= T1+T2\n",
"//RESULTS\n",
"printf ('Total time = %.2f sec',T)\n",
"\n",
""
   ]
   }
,
{
		   "cell_type": "markdown",
		   "metadata": {},
		   "source": [
			"## Example 4.11: example_11.sce"
		   ]
		  },
  {
"cell_type": "code",
	   "execution_count": null,
	   "metadata": {
	    "collapsed": true
	   },
	   "outputs": [],
"source": [
"clc \n",
"//initialisation of variables\n",
"l= 600 //ft\n",
"w= 400 //ft\n",
"s= 1\n",
"h= 20 //ft\n",
"d= 3 //ft\n",
"dh= 10 //ft\n",
"Cd= 0.7\n",
"g= 32.2 //ft/sec^2\n",
"k= 240000\n",
"k1= 2000\n",
"k2= 4\n",
"//CALCULATIONS\n",
"T= (4/(Cd*%pi*d^2*sqrt(2*g)))*(2*k*(sqrt(h)-sqrt(dh))+k1*(2/3)*(h^1.5-dh^1.5)+4*0.4*(h^2.5-dh^2.5))\n",
"//RESULTS\n",
"printf ('Time taken for 10 feet fall = %.f sec',T)"
   ]
   }
,
{
		   "cell_type": "markdown",
		   "metadata": {},
		   "source": [
			"## Example 4.12: chapter_4_example_12.sce"
		   ]
		  },
  {
"cell_type": "code",
	   "execution_count": null,
	   "metadata": {
	    "collapsed": true
	   },
	   "outputs": [],
"source": [
"\n",
"clc \n",
"//initialisation of variables\n",
"Cd= 0.6\n",
"H1= 8 //ft\n",
"H2= 3 //ft\n",
"l= 90 //ft\n",
"b= 30 //ft\n",
"g= 32.2 //ft/sec^2\n",
"A= 2 //ft^2\n",
"//CALCULATIONS\n",
"T1= 2*l*b*(H1^0.5-(H1-H2)^0.5)/(Cd*sqrt(2*g)*A)\n",
"T2= (l*b*2/10)*(2/3)*(H1-H2)^1.5/(Cd*sqrt(2*g)*A)\n",
"T= T1+T2\n",
"//RESULTS\n",
"printf ('Time it take to emptify the swimming bath = %.1f sec',T)"
   ]
   }
,
{
		   "cell_type": "markdown",
		   "metadata": {},
		   "source": [
			"## Example 4.13: chapter_4_example_13.sce"
		   ]
		  },
  {
"cell_type": "code",
	   "execution_count": null,
	   "metadata": {
	    "collapsed": true
	   },
	   "outputs": [],
"source": [
"clc \n",
"//initialisation of variables\n",
"Cd= 0.8\n",
"g= 32.2 //f/sec^2\n",
"d= 3 //in\n",
"x= 6 //ft\n",
"l= 25 //ft\n",
"d1= 8 //ft\n",
"//CALCULATIONS\n",
"A= %pi*(d/12)^2/4\n",
"T= (2*l/(Cd*A*sqrt(2*g)))*(-2/3)*((d1-x)^1.5-d1^1.5)\n",
"//RESULTS\n",
"printf ('Time it take to emptify the boiler = %.f sec',T+6)"
   ]
   }
,
{
		   "cell_type": "markdown",
		   "metadata": {},
		   "source": [
			"## Example 4.14: chapter_4_example_14.sce"
		   ]
		  },
  {
"cell_type": "code",
	   "execution_count": null,
	   "metadata": {
	    "collapsed": true
	   },
	   "outputs": [],
"source": [
"clc \n",
"//initialisation of variables\n",
"l= 30 //ft\n",
"w= 10 //ft\n",
"d= 4 //in\n",
"h= 10 //ft\n",
"dh= 2 //ft\n",
"Cd= 0.97\n",
"g= 32.2 //ft/sec^2\n",
"//CALCULATIONS\n",
"A1= w*3*l/4\n",
"A2= l*w/4\n",
"A= %pi*(d/12)^2/4\n",
"T= 2*A1*(sqrt(h)-sqrt(dh))*10/(Cd*A*sqrt(2*g)*(l+w))\n",
"//RESULTS\n",
"printf ('Time it take to reduce the height = %.f sec',T)"
   ]
   }
,
{
		   "cell_type": "markdown",
		   "metadata": {},
		   "source": [
			"## Example 4.15: example_15.sce"
		   ]
		  },
  {
"cell_type": "code",
	   "execution_count": null,
	   "metadata": {
	    "collapsed": true
	   },
	   "outputs": [],
"source": [
"clc \n",
"//initialisation of variables\n",
"A1= 1000 //ft^2\n",
"A2= 1000 //ft^2\n",
"a= 2 //ft^2\n",
"H1= 9 //ft\n",
"H2= 4 //ft\n",
"Cd=0.8\n",
"g= 32.2 //ft/sec^2\n",
"//CALCULATIONS\n",
"T= a*1000*(sqrt(H1)-sqrt(H2))/(Cd*a^2*sqrt(2*g))\n",
"//RESULTS\n",
"printf ('Time it take to reduce the height = %.2f sec',T)"
   ]
   }
,
{
		   "cell_type": "markdown",
		   "metadata": {},
		   "source": [
			"## Example 4.16: example_16.sce"
		   ]
		  },
  {
"cell_type": "code",
	   "execution_count": null,
	   "metadata": {
	    "collapsed": true
	   },
	   "outputs": [],
"source": [
"clc \n",
"//initialisation of variables\n",
"l= 70 //ft\n",
"b= 10 //ft\n",
"Hl= 10 //ft\n",
"H1= 6 //ft\n",
"h1= 4 //ft\n",
"h2= 2 //ft\n",
"w= 2 //ft\n",
"h3= 3 //ft\n",
"Cd= 0.6\n",
"g= 32.2 //ft/sec^2\n",
"//CALCULATIONS\n",
"t= (l*b)*(Hl+H1)/(Cd*h2*w*h1*sqrt(2*g*H1))\n",
"t1= 2*l*b*sqrt(Hl)/(Cd*h2*w*h3*sqrt(2*g))\n",
"//RESULTS\n",
"printf ('Time of filling= %.2f sec',t)\n",
"printf ('\n Time of emptying= %.2f sec',t1)"
   ]
   }
,
{
		   "cell_type": "markdown",
		   "metadata": {},
		   "source": [
			"## Example 4.17: example_17.sce"
		   ]
		  },
  {
"cell_type": "code",
	   "execution_count": null,
	   "metadata": {
	    "collapsed": true
	   },
	   "outputs": [],
"source": [
"clc \n",
"//initialisation of variables\n",
"HL= 12.5 //ft\n",
"H1= 10.5 //ft\n",
"Cd= 0.62\n",
"h= 4 //ft\n",
"l= 3 //ft\n",
"n= 2\n",
"t= 5 //min\n",
"g= 32.2 //ft/sec^2\n",
"//CALCULATIONS\n",
"a1= n*l*l\n",
"A= t*60*(Cd*a1*sqrt(2*g)+Cd*a1*sqrt(2*g*H1))/((HL-H1)+(HL-H1)*sqrt(H1))/4\n",
"//RESULTS\n",
"printf ('Area= %.f sq ft',A)"
   ]
   }
,
{
		   "cell_type": "markdown",
		   "metadata": {},
		   "source": [
			"## Example 4.18: example_18.sce"
		   ]
		  },
  {
"cell_type": "code",
	   "execution_count": null,
	   "metadata": {
	    "collapsed": true
	   },
	   "outputs": [],
"source": [
"clc \n",
"//initialisation of variables\n",
"Cd= 0.62\n",
"g= 32.2 //ft/sec^2\n",
"l= 200 //ft\n",
"w= 25 //ft\n",
"a1= 5 //ft^2\n",
"h= 20 //ft\n",
"//CALCULATIONS\n",
"t= 2*l*w*sqrt(h-(h/a1))/(Cd*sqrt(2*g)*a1)\n",
"//RESULTS\n",
"printf ('tme rquired to fill the lock= %.f sec',t)"
   ]
   }
,
{
		   "cell_type": "markdown",
		   "metadata": {},
		   "source": [
			"## Example 4.19: example_19.sce"
		   ]
		  },
  {
"cell_type": "code",
	   "execution_count": null,
	   "metadata": {
	    "collapsed": true
	   },
	   "outputs": [],
"source": [
"clc \n",
"//initialisation of variables\n",
"L= 150 //ft\n",
"w= 20 //ft\n",
"t= 5 //min\n",
"h= 5 //ft\n",
"Cd= 0.6 \n",
"Hl= 9 //ft\n",
"g= 32.2 //ft/sec^2\n",
"//CALCULATIONS\n",
"T= 2*L*w*sqrt(Hl)/(Cd*t*60*sqrt(2*g))\n",
"//RESULTS\n",
"printf ('Area of sumberged slice= %.1f sq ft',T)"
   ]
   }
,
{
		   "cell_type": "markdown",
		   "metadata": {},
		   "source": [
			"## Example 4.1: chapter_4_example_1.sce"
		   ]
		  },
  {
"cell_type": "code",
	   "execution_count": null,
	   "metadata": {
	    "collapsed": true
	   },
	   "outputs": [],
"source": [
"clc \n",
"//initialisation of variables\n",
"M= 31*10 //lbs\n",
"P= 3.6 //lbs\n",
"t= 60 //sec\n",
"g= 32.2 //ft/sec^2\n",
"H= 9 //ft\n",
"d= 1 //in\n",
"w= 6.24 //gallons\n",
"//CALCULATIONS\n",
"v= P*g*t/M\n",
"V= sqrt(2*g*H)\n",
"Cv= v/V\n",
"V1= %pi*(d/12)^2*V*60*w/4\n",
"Cd= M/(10*V1)\n",
"Cc= Cd/Cv\n",
"Cr= (1/Cv^2)-1\n",
"//RESULTS\n",
"printf ('Coefficient of resistance = %.2f ',Cr)"
   ]
   }
,
{
		   "cell_type": "markdown",
		   "metadata": {},
		   "source": [
			"## Example 4.20: example_20.sce"
		   ]
		  },
  {
"cell_type": "code",
	   "execution_count": null,
	   "metadata": {
	    "collapsed": true
	   },
	   "outputs": [],
"source": [
"clc \n",
"//initialisation of variables\n",
"L= 3 //ft\n",
"H1= 1.5 //ft\n",
"H2= 0.75 //ft\n",
"Cd= 0.62\n",
"g= 32.2 //ft/sec^2\n",
"//CALCULATIONS\n",
"Q= 2*Cd*60*L*sqrt(2*g)*(H1^1.5-H2^1.5)/3\n",
"//RESULTS\n",
"printf ('Discharge per minute= %.1f cubic ft per minute',Q)"
   ]
   }
,
{
		   "cell_type": "markdown",
		   "metadata": {},
		   "source": [
			"## Example 4.21: example_21.sce"
		   ]
		  },
  {
"cell_type": "code",
	   "execution_count": null,
	   "metadata": {
	    "collapsed": true
	   },
	   "outputs": [],
"source": [
"clc \n",
"//initialisation of variables\n",
"Cd= 0.62\n",
"H1= 6 //ft\n",
"H2= 3 //ft\n",
"H= 4 //ft\n",
"g= 32.2 //ft/sec^2\n",
"//CALCULATIONS\n",
"Q1= 2*Cd*H*sqrt(2*g)*(H^1.5-H2^1.5)/3\n",
"Q2= Cd*H*(H1-H)*sqrt(2*g*H)\n",
"Q= Q1+Q2\n",
"//RESULTS\n",
"printf ('Total discharge= %.f cuses',Q)"
   ]
   }
,
{
		   "cell_type": "markdown",
		   "metadata": {},
		   "source": [
			"## Example 4.2: chapter_4_example_2.sce"
		   ]
		  },
  {
"cell_type": "code",
	   "execution_count": null,
	   "metadata": {
	    "collapsed": true
	   },
	   "outputs": [],
"source": [
"\n",
"\n",
"clc \n",
"//initialisation of variables\n",
"M= 1.65 //lbs\n",
"Q= 20 //gallons per min\n",
"d= 1 //in\n",
"h= 4 //ft\n",
"t= 60 //sec\n",
"g= 32.2 //ft/sec^2\n",
"Q1= 6.24 //gallons per min\n",
"c= 0.36\n",
"//CALCULATIONS\n",
"v= M*g*t/(Q*10)\n",
"V= sqrt(2*g*h)\n",
"Cv= (v/V)-0.02\n",
"vf= V*%pi*(d/12)^2*60*Q1/4\n",
"Cd= Q/vf\n",
"Cc= Cd/Cv+c\n",
"Cr= (1/Cv^2)-1\n",
"//RESULTS\n",
"printf ('velocity of jet = %.2f ft/sec',v)\n",
"printf ('\n theatrical velocity of jet = %.2f ft/sec',V)\n",
"printf ('\n Cv = %.2f ',Cv)\n",
"printf ('\n volume flow = %.2f gallons per minute',vf)\n",
"printf ('\n Cd = %.2f ',Cd)\n",
"printf ('\n Cc = %.2f ',Cc)\n",
"printf ('\n Coefficient of resistance = %.2f ',Cr)"
   ]
   }
,
{
		   "cell_type": "markdown",
		   "metadata": {},
		   "source": [
			"## Example 4.3: chapter_4_example_3.sce"
		   ]
		  },
  {
"cell_type": "code",
	   "execution_count": null,
	   "metadata": {
	    "collapsed": true
	   },
	   "outputs": [],
"source": [
"clc \n",
"//initialisation of variables\n",
"x= 11.5 //in\n",
"y= 1.2 //in\n",
"H= 29 //in\n",
"q= 6.24 //gallons per minute\n",
"d= 1 //in\n",
"g= 32.2 //ft/sec^2\n",
"Q= 16 //gallons per min\n",
"//CALCULATIONS\n",
"Cv= sqrt(x^2/(4*H*y))\n",
"Q1= %pi*(d/12)^2*sqrt(2*g*H/12)*q*60/4\n",
"Cd= Q/Q1\n",
"Cc= Cd/Cv\n",
"Cr= (1/Cv^2)-1\n",
"//RESULTS\n",
"printf ('Coefficient of resistance = %.2f ',Cr)"
   ]
   }
,
{
		   "cell_type": "markdown",
		   "metadata": {},
		   "source": [
			"## Example 4.4: chapter_4_example_4.sce"
		   ]
		  },
  {
"cell_type": "code",
	   "execution_count": null,
	   "metadata": {
	    "collapsed": true
	   },
	   "outputs": [],
"source": [
"clc \n",
"//initialisation of variables\n",
"x= 3.2 //ft\n",
"d= 8 //ft\n",
"W= 5.12 //lb\n",
"A= 1/144\n",
"H= 4 //ft\n",
"g= 32.2 //ft/sec^2\n",
"Q= 251.5 //lbs/min\n",
"w= 62.4 //lbs/ft^2\n",
"//CALCULATIONS\n",
"F= W*x/d\n",
"v= W*x*g*60/(d*Q)\n",
"V= sqrt(2*g*H)\n",
"Cv= v/V\n",
"Q1= A*V*60*w\n",
"Cd= Q/Q1\n",
"Cc= Cd/Cv\n",
"//RESULTS\n",
"printf ('Cc = %.2f ',Cc)"
   ]
   }
,
{
		   "cell_type": "markdown",
		   "metadata": {},
		   "source": [
			"## Example 4.5: chapter_4_example_5.sce"
		   ]
		  },
  {
"cell_type": "code",
	   "execution_count": null,
	   "metadata": {
	    "collapsed": true
	   },
	   "outputs": [],
"source": [
"clc \n",
"//initialisation of variables\n",
"d= 8 //in\n",
"//CALCULATIONS\n",
"Cd= 1/sqrt(1+((1/(8^2/100)))-1)\n",
"//RESULTS\n",
"printf ('Cd = %.2f ',Cd)"
   ]
   }
,
{
		   "cell_type": "markdown",
		   "metadata": {},
		   "source": [
			"## Example 4.6: chapter_4_example_6.sce"
		   ]
		  },
  {
"cell_type": "code",
	   "execution_count": null,
	   "metadata": {
	    "collapsed": true
	   },
	   "outputs": [],
"source": [
"clc\n",
"//initialisation of variables\n",
"d=2 //in\n",
"h= 6 //ft\n",
"H= 26 //ft\n",
"g= 32.2 //ft/sec^2\n",
"R= 6\n",
"//CALCULATIONS\n",
"v2= sqrt(2*g*(H+h))\n",
"Q= %pi*(d/12)^2*v2/4\n",
"v3= sqrt(2*g*h)\n",
"r= v2/v3\n",
"d3= sqrt(r*d^2)\n",
"v4= sqrt(v2^2/R)\n",
"d4= sqrt(d^2*(v2/v4))\n",
"//RESULTS\n",
"printf ('diameter = %.2f in',d4)\n",
""
   ]
   }
,
{
		   "cell_type": "markdown",
		   "metadata": {},
		   "source": [
			"## Example 4.7: example_7.sce"
		   ]
		  },
  {
"cell_type": "code",
	   "execution_count": null,
	   "metadata": {
	    "collapsed": true
	   },
	   "outputs": [],
"source": [
"\n",
"clc\n",
"//initialisation of variables\n",
"r= 9/16\n",
"r1= 7/16\n",
"h= 26 //ft\n",
"//CALCULATIONS\n",
"r2= 1/((r^2)+(0.25*r1^2))\n",
"H1= h/(r2-1)\n",
"//RESULTS\n",
"printf ('maximu head of the tank = %.2f ft of water',H1)"
   ]
   }
,
{
		   "cell_type": "markdown",
		   "metadata": {},
		   "source": [
			"## Example 4.9: example_9.sce"
		   ]
		  },
  {
"cell_type": "code",
	   "execution_count": null,
	   "metadata": {
	    "collapsed": true
	   },
	   "outputs": [],
"source": [
"\n",
"clc \n",
"//initialisation of variables\n",
"H1= 9 //ft\n",
"A= 2 //ft^2\n",
"H2= 4 //ft\n",
"d= 2.25 //in\n",
"t= 60 //sec\n",
"g= 32.2 //ft/sec^2\n",
"//CALCULATIONS\n",
"a= (d/12)^2\n",
"Cd= (A*H2*(H2-A))/(t*a*sqrt(2*g))\n",
"//RESULTS\n",
"printf ('coefficient of dicharge = %.3f ',a)\n",
"\n",
"\n",
"//ANSWER GIVEN IN THE TEXTBBOK IS WRONG..VERIFIED WITH CALCULATOR"
   ]
   }
],
"metadata": {
		  "kernelspec": {
		   "display_name": "Scilab",
		   "language": "scilab",
		   "name": "scilab"
		  },
		  "language_info": {
		   "file_extension": ".sce",
		   "help_links": [
			{
			 "text": "MetaKernel Magics",
			 "url": "https://github.com/calysto/metakernel/blob/master/metakernel/magics/README.md"
			}
		   ],
		   "mimetype": "text/x-octave",
		   "name": "scilab",
		   "version": "0.7.1"
		  }
		 },
		 "nbformat": 4,
		 "nbformat_minor": 0
}
