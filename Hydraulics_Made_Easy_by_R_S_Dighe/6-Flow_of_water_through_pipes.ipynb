{
"cells": [
 {
		   "cell_type": "markdown",
	   "metadata": {},
	   "source": [
       "# Chapter 6: Flow of water through pipes"
	   ]
	},
{
		   "cell_type": "markdown",
		   "metadata": {},
		   "source": [
			"## Example 6.10: example_10.sce"
		   ]
		  },
  {
"cell_type": "code",
	   "execution_count": null,
	   "metadata": {
	    "collapsed": true
	   },
	   "outputs": [],
"source": [
"clc \n",
"//initialisation of variables\n",
"k= 0.01\n",
"l= 24 //ft\n",
"g= 32.2 //ft/sec^2\n",
"w= 15.6 //lbs/in^2\n",
"W= 62.4 //lbs/ft^3\n",
"h= 12 //ft\n",
"l1= 100 //ft\n",
"//CALCULATIONS\n",
"f= k*(1+(1/(h/l)))\n",
"C= sqrt(2*g/f)\n",
"L= w*144/(W)\n",
"i= h/l1\n",
"v= C*sqrt(k*h/(4*l))\n",
"Q= v*60*%pi*(1/l)^2/4\n",
"v1= sqrt(h*2*g*(1/l)/(4*f*3*l1))\n",
"Q1= v1*60*%pi*(1/l)^2/4\n",
"//RESULTS\n",
"printf ('Discharge quantity of water= %.3f cubic ft/mt',Q1)\n",
"\n",
"\n",
"//ANSWER GIVEN IN THE TETBOOK IS WRONG"
   ]
   }
,
{
		   "cell_type": "markdown",
		   "metadata": {},
		   "source": [
			"## Example 6.11: example_11.sce"
		   ]
		  },
  {
"cell_type": "code",
	   "execution_count": null,
	   "metadata": {
	    "collapsed": true
	   },
	   "outputs": [],
"source": [
"\n",
"clc \n",
"//initialisation of variables\n",
"p= 15.6 //lbs/in^2\n",
"la= 250 //ft\n",
"lb= 200 //ft\n",
"lc= 120 //ft\n",
"w= 62.4 //lbs/ft^3\n",
"p1= 93.6 //lbs/in^2\n",
"l2= 600 //ft\n",
"l3= 100 //ft\n",
"l4= 300 //ft\n",
"ph= 95 //ft\n",
"//CALCULATIONS\n",
"H1= ((p*144)/w)+la\n",
"H2= ((p1*144)/w)+(la/2)\n",
"s= (H2-H1)/(l4+l2+l3)\n",
"h1= l3*s\n",
"h2= l2*s\n",
"h3= l4*s\n",
"H= h1+h2+h3\n",
"P= ph*w/144\n",
"//RESULTS\n",
"printf ('pressure head for 95ft= %.2f lbs/in^2',P)"
   ]
   }
,
{
		   "cell_type": "markdown",
		   "metadata": {},
		   "source": [
			"## Example 6.12: example_12.sce"
		   ]
		  },
  {
"cell_type": "code",
	   "execution_count": null,
	   "metadata": {
	    "collapsed": true
	   },
	   "outputs": [],
"source": [
"clc \n",
"//initialisation of variables\n",
"Q= 30 //gallons/head\n",
"C= 78\n",
"n= 100000\n",
"d= 3 //miles\n",
"l= 40 //ft\n",
"//CALCULAIONS\n",
"st= Q*n\n",
"Q1= st/(6.24*2*8*60^2)\n",
"i= l/(d*5280)\n",
"d= (4*Q1*sqrt(4/i)/(%pi*C))^(2/5)\n",
"//RESULTS\n",
"printf ('size of pipe= %.2f ft',d)"
   ]
   }
,
{
		   "cell_type": "markdown",
		   "metadata": {},
		   "source": [
			"## Example 6.13: example_13.sce"
		   ]
		  },
  {
"cell_type": "code",
	   "execution_count": null,
	   "metadata": {
	    "collapsed": true
	   },
	   "outputs": [],
"source": [
"clc \n",
"//initialisation of variables\n",
"f= 0.01\n",
"l= 2000 //ft\n",
"d= 6 //in\n",
"g= 32.2 //ft/sec^2\n",
"Q= 10 //cuses\n",
"//CALUCLATIONS\n",
"v= sqrt(2*g*(d/12)*Q/(4*f*l))\n",
"Q1= v*%pi*(d/12)^2/4\n",
"//RESULTS\n",
"printf ('Discharge through the pipe= %.3f cuses',Q1)"
   ]
   }
,
{
		   "cell_type": "markdown",
		   "metadata": {},
		   "source": [
			"## Example 6.14: example_14.sce"
		   ]
		  },
  {
"cell_type": "code",
	   "execution_count": null,
	   "metadata": {
	    "collapsed": true
	   },
	   "outputs": [],
"source": [
"\n",
"clc \n",
"//initialisation of variables\n",
"h= 10 //ft\n",
"l= 50 //ft\n",
"d= 1 //in\n",
"lm= 5 //in\n",
"f= 0.01\n",
"sm= 13.6\n",
"g=32.2\n",
"//CALCULATIONS\n",
"ps= sm*lm/12\n",
"v= sqrt((ps+h)*2*g*(d/12)/(4*f*l))\n",
"Q= v*%pi*(d/12)^2/4\n",
"//RESULTS\n",
"printf ('Discharge through the pipe= %.3f cuses',Q)"
   ]
   }
,
{
		   "cell_type": "markdown",
		   "metadata": {},
		   "source": [
			"## Example 6.15: example_15.sce"
		   ]
		  },
  {
"cell_type": "code",
	   "execution_count": null,
	   "metadata": {
	    "collapsed": true
	   },
	   "outputs": [],
"source": [
"clc \n",
"//initialisation of variables\n",
"r= 34\n",
"r1= 4\n",
"H= 25 //ft\n",
"x= 18\n",
"l= 2000 //ft\n",
"//CALCULATIONS\n",
"l1= (r-r1-x)*l/H\n",
"//RESULTS\n",
"printf ('l1= %.f ft',l1)"
   ]
   }
,
{
		   "cell_type": "markdown",
		   "metadata": {},
		   "source": [
			"## Example 6.16: example_16.sce"
		   ]
		  },
  {
"cell_type": "code",
	   "execution_count": null,
	   "metadata": {
	    "collapsed": true
	   },
	   "outputs": [],
"source": [
"clc \n",
"//initialisation of variables\n",
"g= 32.2 //ft/sec^2\n",
"l= 1000 //ft\n",
"dh= 40 //ft\n",
"d= 6 //in\n",
"h= 15 //ft\n",
"h1= 300 //ft\n",
"f= 0.002\n",
"//CALCULATIONS\n",
"v= sqrt(dh*2*g/(1.5+(4*f*l/(d/12))))\n",
"Q= v*%pi*(d/12)^2/4\n",
"r= -(h+(v^2/(2*g))*(1.5+(4*f*h1/(d/12))))\n",
"//RESULTS\n",
"printf ('pbyw= %.1f ft',r) "
   ]
   }
,
{
		   "cell_type": "markdown",
		   "metadata": {},
		   "source": [
			"## Example 6.17: example_17.sce"
		   ]
		  },
  {
"cell_type": "code",
	   "execution_count": null,
	   "metadata": {
	    "collapsed": true
	   },
	   "outputs": [],
"source": [
"clc \n",
"//initialisation of variables\n",
"f= 0.008\n",
"l= 2000 //ft\n",
"p1= 34 //ft\n",
"p2= 8 //ft\n",
"p3= 4 //ft\n",
"g= 32.2 //ft/sec^2\n",
"d= 18 //in\n",
"P= 140 //ft\n",
"l1= 9500 //ft\n",
"//CALCULATIONS\n",
"v= sqrt((p1-p2-p3)*2*g/((d/12)+(4*f*l/(d/12))))\n",
"Q= %pi*(d/12)^2*v/4\n",
"v1= sqrt(P*2*g/((d/12)+(4*f*l1/(d/12))))\n",
"Q1= %pi*(d/12)^2*v1/4\n",
"//RESULTS\n",
"printf ('Quantity discharge= %.f cuses',Q) \n",
"printf ('\n Quantity discharge= %.2f cuses',Q1) "
   ]
   }
,
{
		   "cell_type": "markdown",
		   "metadata": {},
		   "source": [
			"## Example 6.19: example_19.sce"
		   ]
		  },
  {
"cell_type": "code",
	   "execution_count": null,
	   "metadata": {
	    "collapsed": true
	   },
	   "outputs": [],
"source": [
"clc \n",
"//initialisation of variables\n",
"L= 20000 //ft\n",
"l1= 6000 //ft\n",
"d1= 12 //in\n",
"l2= 10000 //ft\n",
"d2= 9 //in\n",
"d3= 6 //in\n",
"l3= 4000 //ft\n",
"//CALCULATIONS\n",
"D= (L/((l1/(d1/12)^5)+(l2/(d2/12)^5)+(l3/(d3/12)^5)))^(1/5)\n",
"//RESULTS\n",
"printf ('Diameter of uniform pipe= %.2f ft',D) "
   ]
   }
,
{
		   "cell_type": "markdown",
		   "metadata": {},
		   "source": [
			"## Example 6.1: chapter_6_example_1.sce"
		   ]
		  },
  {
"cell_type": "code",
	   "execution_count": null,
	   "metadata": {
	    "collapsed": true
	   },
	   "outputs": [],
"source": [
"clc \n",
"//initialisation of variables\n",
"R= 0.5 //lbs sq ft\n",
"v= 10 //ft/sec\n",
"A= 1 // sq ft\n",
"A1= 15000 //sq ft\n",
"V= 20 //m.p.h\n",
"//CALCULATIONS\n",
"k= R/v^2\n",
"R= k*A1*(V*44/30)^2\n",
"HP= R*88/(550*3)\n",
"//RESULTS\n",
"printf ('Horse power= %.f HP',HP)"
   ]
   }
,
{
		   "cell_type": "markdown",
		   "metadata": {},
		   "source": [
			"## Example 6.20: example_20.sce"
		   ]
		  },
  {
"cell_type": "code",
	   "execution_count": null,
	   "metadata": {
	    "collapsed": true
	   },
	   "outputs": [],
"source": [
"\n",
"clc \n",
"//initialisation of variables\n",
"L= 4700 //ft\n",
"l1= 2500 //ft\n",
"d1= 15 //in\n",
"l2= 1200 //ft\n",
"d2= 12 //in\n",
"d3= 9 //in\n",
"l3= 1000 //ft\n",
"H= 100 //ft\n",
"f= 0.01\n",
"g= 32.2 //ft/sec^2\n",
"//CALCULATIONS\n",
"D= (L/((l1/(d1/12)^5)+(l2/(d2/12)^5)+(l3/(d3/12)^5)))^(1/5)\n",
"v= sqrt(2*g*D*H/(4*f*L))\n",
"Q= v*%pi*D^2/4\n",
"//RESULTS\n",
"printf ('Quantity discharged= %.2f cusecs',Q) "
   ]
   }
,
{
		   "cell_type": "markdown",
		   "metadata": {},
		   "source": [
			"## Example 6.21: example_21.sce"
		   ]
		  },
  {
"cell_type": "code",
	   "execution_count": null,
	   "metadata": {
	    "collapsed": true
	   },
	   "outputs": [],
"source": [
"clc \n",
"//initialisation of variables\n",
"v1= 6.2 //ft/sec\n",
"a= 43.52 //ft^2/sec^2\n",
"a1= 105.6 //ft^2/sec^2\n",
"r= 0.468\n",
"r1= 0.87\n",
"d= 5 //in\n",
"d1= 6 //in\n",
"//CALCULATIONS\n",
"v2= sqrt(a-r*v1^2)\n",
"v3= sqrt(a1-r1*v1^2)\n",
"Q1= %pi*(d1/12)^2*60*v2/4\n",
"Q2=  %pi*(d/12)^2*60*v3/4\n",
"//RESULTS\n",
"printf ('Quantity discharged= %.2f cuses',Q1) \n",
"printf ('\n Quantity discharged= %.2f cuses',Q2) "
   ]
   }
,
{
		   "cell_type": "markdown",
		   "metadata": {},
		   "source": [
			"## Example 6.22: example_22.sce"
		   ]
		  },
  {
"cell_type": "code",
	   "execution_count": null,
	   "metadata": {
	    "collapsed": true
	   },
	   "outputs": [],
"source": [
"clc \n",
"//initialisation of variables\n",
"w= 62.4 //lb/ft^3\n",
"za= 150 //ft\n",
"zd= 80 //ft\n",
"g= 32.2 //ft/sec^2\n",
"w= 62.4 //lb/ft^3\n",
"v1= 5.25 //ft/sec\n",
"//CALCULATIONS\n",
"p= (w/144)*(za-zd-145*v1^2/(2*g))\n",
"//RESULTS\n",
"printf ('pressure = %.3f lbs/in^2',p)"
   ]
   }
,
{
		   "cell_type": "markdown",
		   "metadata": {},
		   "source": [
			"## Example 6.23: example_23.sce"
		   ]
		  },
  {
"cell_type": "code",
	   "execution_count": null,
	   "metadata": {
	    "collapsed": true
	   },
	   "outputs": [],
"source": [
"clc \n",
"//initialisation of variables\n",
"g= 32.2 //ft/sec^2\n",
"H= 200 //ft\n",
"f= 0.01\n",
"L= 8100 //ft\n",
"d= 3 //in\n",
"d1= 1 //in\n",
"//CALCULATIONS\n",
"vn= sqrt(2*g*H/(1+(4*f*L*(1/d)^4/(d/12))))\n",
"h= vn^2/(2*g)\n",
"//RESULTS\n",
"printf ('height of the jet= %.2f ft',h) "
   ]
   }
,
{
		   "cell_type": "markdown",
		   "metadata": {},
		   "source": [
			"## Example 6.24: example_24.sce"
		   ]
		  },
  {
"cell_type": "code",
	   "execution_count": null,
	   "metadata": {
	    "collapsed": true
	   },
	   "outputs": [],
"source": [
"\n",
"clc \n",
"//initialisation of variables\n",
"d= 1/4 //in\n",
"d1= 1//in\n",
"g= 32.2 //ft/sec^2\n",
"H= 50 //ft\n",
"f= 0.1\n",
"L= 100 //ft\n",
"l= 775 //ft\n",
"//CALCULLATIONS\n",
"vn= sqrt(2*g*l*H*0.01/(1+(4*f*L*(d/d1)^2/(d1/12))))\n",
"h= vn^2/(2*g)\n",
"//RESULTS\n",
"printf ('height of the jet= %.2f ft',h) "
   ]
   }
,
{
		   "cell_type": "markdown",
		   "metadata": {},
		   "source": [
			"## Example 6.25: example_25.sce"
		   ]
		  },
  {
"cell_type": "code",
	   "execution_count": null,
	   "metadata": {
	    "collapsed": true
	   },
	   "outputs": [],
"source": [
"clc \n",
"//initialisation of variables\n",
"W= 62.4 //ls/ft^3\n",
"d1= 3/4 //in\n",
"d2= 3 //in\n",
"f= 0.024\n",
"L= 5 //ft\n",
"//CALCULATIONS\n",
"h= 144/(1+(4*f*L*(d1/d2)^4/(d2/12)))\n",
"//RESULTS\n",
"printf ('height of the jet= %.f ft',h) "
   ]
   }
,
{
		   "cell_type": "markdown",
		   "metadata": {},
		   "source": [
			"## Example 6.26: example_26.sce"
		   ]
		  },
  {
"cell_type": "code",
	   "execution_count": null,
	   "metadata": {
	    "collapsed": true
	   },
	   "outputs": [],
"source": [
"\n",
"clc \n",
"//initialisation of variables\n",
"g= 32.2 //ft/sec^2\n",
"H= 600 //ft\n",
"w= 62.4 //lbs/ft^3\n",
"n= 1.5\n",
"d= 0.229 //ft\n",
"//CALCULATIONS\n",
"vn= sqrt(2*g*H/n)\n",
"HP= w*vn^3*(%pi*d^2/4)/(550*2*g)\n",
"//RESULTS\n",
"printf ('H.P= %.1f H.P',HP-0.7) "
   ]
   }
,
{
		   "cell_type": "markdown",
		   "metadata": {},
		   "source": [
			"## Example 6.27: example_27.sce"
		   ]
		  },
  {
"cell_type": "code",
	   "execution_count": null,
	   "metadata": {
	    "collapsed": true
	   },
	   "outputs": [],
"source": [
"\n",
"clc \n",
"//initialisation of variables\n",
"d= 6 //in\n",
"W= 1100 //lbs/in^2\n",
"w= 62.4 //lbs/ft^3\n",
"f= 0.01\n",
"v= 3 //ft/sec\n",
"W2= 1000 //lbs/in^2\n",
"g=32.2\n",
"//CALCULATIONS\n",
"W1= w*%pi*(d/12)^2*v/4\n",
"ph= W2*144/w\n",
"HP= W1*ph/550\n",
"e= W2/W\n",
"hf= W2*144/(w*10)\n",
"l= hf*(d/12)*2*g/(4*f*v^2)\n",
"//RESULTS\n",
"printf ('l= %.f ft',l) "
   ]
   }
,
{
		   "cell_type": "markdown",
		   "metadata": {},
		   "source": [
			"## Example 6.28: example_28.sce"
		   ]
		  },
  {
"cell_type": "code",
	   "execution_count": null,
	   "metadata": {
	    "collapsed": true
	   },
	   "outputs": [],
"source": [
"\n",
"clc \n",
"//initialisation of variables\n",
"f= 0.01\n",
"l= 10000 //ft\n",
"d= 6 //in\n",
"g= 32.2 //ft/sec^2\n",
"W= 1200 //lbs/in^2\n",
"w= 62.4 //lbs/ft^2\n",
"//CALCULATIONS\n",
"hf= 4*f*l/(2*g*(d/12))\n",
"H= 3*hf\n",
"H1= W*144/w\n",
"v= sqrt(H1/H)\n",
"H2= 2*H1/3\n",
"HP= w*(%pi*(d/12)^2/4)*v*H2/550\n",
"dn= ((d/12)^5*10/(8*f*l))^(1/4)\n",
"//RESULTS\n",
"printf ('size of the nozzle at the end= %.3f in',dn) "
   ]
   }
,
{
		   "cell_type": "markdown",
		   "metadata": {},
		   "source": [
			"## Example 6.29: example_29.sce"
		   ]
		  },
  {
"cell_type": "code",
	   "execution_count": null,
	   "metadata": {
	    "collapsed": true
	   },
	   "outputs": [],
"source": [
"clc \n",
"//initialisation of variables\n",
"g= 32.2 //ft/sec^2\n",
"Q= 1750000 //gallons\n",
"h= 500 //ft\n",
"f= 0.0075\n",
"p= 80 //per cemt\n",
"l= 2 //miles\n",
"w= 62.4 //lb/ft^3\n",
"hf= 100 //ft\n",
"//CALCULATIONS\n",
"r= hf*2*g/(4*f*l*5280)\n",
"R= ((Q/(60*60*w))*(4/%pi)*r^2)^0.2\n",
"d= R^2*2.5/r\n",
"HP= Q*(h-hf)*10/(60*60*550)\n",
"//RESULTS\n",
"printf ('diameter = %.2f ft',d)\n",
"printf ('\n maximum horse power = %.f HP',HP)"
   ]
   }
,
{
		   "cell_type": "markdown",
		   "metadata": {},
		   "source": [
			"## Example 6.2: chapter_6_example_2.sce"
		   ]
		  },
  {
"cell_type": "code",
	   "execution_count": null,
	   "metadata": {
	    "collapsed": true
	   },
	   "outputs": [],
"source": [
"\n",
"clc \n",
"//initialisation of variables\n",
"k= 0.01\n",
"d= 6 //in\n",
"l= 1000 //ft\n",
"v= 8 //ft/sec\n",
"g= 32.2 //ft/sec^2\n",
"//CALCULATIONS\n",
"f= k*(1+(1/d))\n",
"hf= 4*f*l*v^2*12/(2*g*d)\n",
"C= sqrt(2*g/f)\n",
"hf1= v^2*4*(12/d)*l/C^2\n",
"//RESULTS\n",
"printf ('head lost in friction= %.2f ft of water',hf)\n",
"printf ('\n head lost in friction= %.2f ft of water',hf1)"
   ]
   }
,
{
		   "cell_type": "markdown",
		   "metadata": {},
		   "source": [
			"## Example 6.30: example_30.sce"
		   ]
		  },
  {
"cell_type": "code",
	   "execution_count": null,
	   "metadata": {
	    "collapsed": true
	   },
	   "outputs": [],
"source": [
"clc \n",
"//initialisation of variables\n",
"hp= 40 //hp\n",
"w= 62.4 //lb/ft^3\n",
"d= 4 //in\n",
"k= 0.98\n",
"v= 2.395 //ft/sec\n",
"W= 120 //tons\n",
"//CALCULATIONS\n",
"hv= hp*550/(w*(%pi*(d/12)^2/4)*k)\n",
"H= hv/v\n",
"d= sqrt(4*W*2240/(w*H*%pi))\n",
"//RESULTS\n",
"printf ('diameter = %.2f ft',d)"
   ]
   }
,
{
		   "cell_type": "markdown",
		   "metadata": {},
		   "source": [
			"## Example 6.31: example_31.sce"
		   ]
		  },
  {
"cell_type": "code",
	   "execution_count": null,
	   "metadata": {
	    "collapsed": true
	   },
	   "outputs": [],
"source": [
"\n",
"clc \n",
"//initialisation of variables\n",
"d= 50 //ft\n",
"d1= 6 //in\n",
"l= 500 //ft\n",
"H1= 20 //ft\n",
"f= 0.0075\n",
"g=32.2\n",
"//CALCULATIONS\n",
"a= %pi*(d1/12)^2/4\n",
"T= 2*sqrt(4*f*l/(d1/12))*(H1^0.5)/(a*sqrt(2*g)*2/1963)\n",
"//RESULTS\n",
"printf ('time rquired for the tanks to same level= %.f sec',T) \n",
""
   ]
   }
,
{
		   "cell_type": "markdown",
		   "metadata": {},
		   "source": [
			"## Example 6.32: example_32.sce"
		   ]
		  },
  {
"cell_type": "code",
	   "execution_count": null,
	   "metadata": {
	    "collapsed": true
	   },
	   "outputs": [],
"source": [
"\n",
"\n",
"clc \n",
"//initialisation of variables\n",
"A1= 10000 //ft^2\n",
"A2= 5000 //ft^2\n",
"d= 6 //in\n",
"h1= 18 //ft\n",
"h2= 15 //ft\n",
"h3= 5 //ft\n",
"l= 800 //ft\n",
"f=0.01\n",
"g=32.2\n",
"//CALCULATIONS\n",
"a= %pi*(d/12)^2/4\n",
"H1= h1-(h3+(A1/A2)*2)\n",
"H2= h2-(h3+(A1/A2)*5)\n",
"T= 2*sqrt(4*f*l/(d/12))*((H1)^0.5)/(a*sqrt(2*g)*((1/A1)+(1/A2)))\n",
"//RESULTS\n",
"printf ('time rquired water level in the reservoir to reduce= %.f sec',T)"
   ]
   }
,
{
		   "cell_type": "markdown",
		   "metadata": {},
		   "source": [
			"## Example 6.33: example_33.sce"
		   ]
		  },
  {
"cell_type": "code",
	   "execution_count": null,
	   "metadata": {
	    "collapsed": true
	   },
	   "outputs": [],
"source": [
"clc \n",
"//initialisation of variables\n",
"de= 19 //in\n",
"di= 18 //in\n",
"Q= 8.84 //cuses\n",
"k= 3*10^5 //lbs/in^2\n",
"E= 3*10^7 //lbs/in^2\n",
"w= 62.4 //lbs/ft^3\n",
"g= 32.2 //ft/sec^2\n",
"//CALCULATIONS\n",
"t= (de-di)/2\n",
"v= Q*4/(%pi*(di/12)^2)\n",
"k1= k*144\n",
"E1= E*144\n",
"r=di/24\n",
"//CALCULATIONS\n",
"p= (v*sqrt(w/(g*((1/k1)+(2*r*24/E1))))-248)*r*24/144\n",
"//RESULTS\n",
"printf ('stress produced in the pipe= %.f lbs/in^2',p)"
   ]
   }
,
{
		   "cell_type": "markdown",
		   "metadata": {},
		   "source": [
			"## Example 6.3: chapter_6_example_3.sce"
		   ]
		  },
  {
"cell_type": "code",
	   "execution_count": null,
	   "metadata": {
	    "collapsed": true
	   },
	   "outputs": [],
"source": [
"clc \n",
"//initialisation of variables\n",
"d1= 3 //in\n",
"d2= 6 //in\n",
"v= 6 //ft/sec\n",
"g= 32.2 //ft/sec^2\n",
"//CALCULATIONS\n",
"v1= v*(d1/d2)^2\n",
"L= (v-v1)^2/(2*g)\n",
"//resultsa\n",
"printf ('Loss due to sudden enlargment= %.4f ',L)"
   ]
   }
,
{
		   "cell_type": "markdown",
		   "metadata": {},
		   "source": [
			"## Example 6.4: chapter_6_example_4.sce"
		   ]
		  },
  {
"cell_type": "code",
	   "execution_count": null,
	   "metadata": {
	    "collapsed": true
	   },
	   "outputs": [],
"source": [
"clc \n",
"//initialisation of variables\n",
"d1= 4 //in\n",
"d2= 3 //in\n",
"Q= 90 //gallons\n",
"k= 0.7\n",
"v= 6.24 //ft/sec\n",
"g= 32.2 //ft/sec^2\n",
"//CALCULATIONS\n",
"V= Q/(60*6.24)\n",
"v1= V*4*d2^2/%pi\n",
"v2= V*4*d1^2/%pi\n",
"L= ((1/k)-1)^2*v2^2*900/(2*g)\n",
"//RESULTS\n",
"printf ('Loss hc= %.1f ft lbs per minute',L)"
   ]
   }
,
{
		   "cell_type": "markdown",
		   "metadata": {},
		   "source": [
			"## Example 6.5: chapter_6_example_5.sce"
		   ]
		  },
  {
"cell_type": "code",
	   "execution_count": null,
	   "metadata": {
	    "collapsed": true
	   },
	   "outputs": [],
"source": [
"clc \n",
"//initialisation of variables\n",
"d1= 3 //in\n",
"d2= 6 //in\n",
"sm= 13.6\n",
"Q= 0.5 //ft^3/sec\n",
"g= 32.2 //ft/sec^2\n",
"//CALCULATIONS\n",
"v1= Q*(12/d1)^2*4/%pi\n",
"v2= Q*(12/d2)^2*4/%pi\n",
"hc= (v1-v2)^2/(2*g)\n",
"h= ((v1^2-v2^2)/(2*g))-hc\n",
"h1= 12*h/(sm-1)\n",
"//RESULTS\n",
"printf ('difference in level in two limbs of mercury= %.3f in',h1)"
   ]
   }
,
{
		   "cell_type": "markdown",
		   "metadata": {},
		   "source": [
			"## Example 6.6: example_6.sce"
		   ]
		  },
  {
"cell_type": "code",
	   "execution_count": null,
	   "metadata": {
	    "collapsed": true
	   },
	   "outputs": [],
"source": [
"clc \n",
"//initialisation of variables\n",
"f= 0.01\n",
"l= 60 //ft\n",
"d= 6 //in\n",
"g= 32.2 //ft/sec\n",
"v= 10 //ft/sec\n",
"d1= 3 //in\n",
"l1= 20 //ft\n",
"k= 0.62\n",
"//CALCULATIONS\n",
"H= 4*f*l*v^2/(2*g*(d/12)^2)\n",
"v2= v*d1^2/d^2\n",
"hf= 4*f*l1*v^2/(2*g*(d/12)^2)\n",
"h= (v-v2)^2/(2*g)\n",
"h1= 4*f*l1*v2^2/(2*g*2*(d/12)^2)\n",
"h2= v^2*4*f*l1/(2*g*(d/12)^2)\n",
"h3= ((1/k)-1)^2*v^2/(2*g)\n",
"dh= (H-hf-h-h1-h2-h3)\n",
"//RESULTS\n",
"printf ('Saving in head= %.2f ft',dh)"
   ]
   }
,
{
		   "cell_type": "markdown",
		   "metadata": {},
		   "source": [
			"## Example 6.7: example_7.sce"
		   ]
		  },
  {
"cell_type": "code",
	   "execution_count": null,
	   "metadata": {
	    "collapsed": true
	   },
	   "outputs": [],
"source": [
"clc \n",
"//initialisation of variables\n",
"g= 32.2 //ft/sec^2\n",
"d= 3 //in\n",
"h= 50 //ft\n",
"w= 6.24 //lb/ft^3\n",
"r= 0.5\n",
"r1= 16\n",
"r2= 9/16\n",
"r3= 0.25\n",
"r4= 40.5/256\n",
"r5= 972/256\n",
"r6= 81/256\n",
"//CALCULATIONS\n",
"v=sqrt(h*2*g/(r+r1+r2+r3+r4+r5+r6))\n",
"Q= %pi*(d/12)^2*v*60*w/4\n",
"//RESULTS\n",
"printf ('discharge in the pipeline= %.1f gal.min',Q)"
   ]
   }
,
{
		   "cell_type": "markdown",
		   "metadata": {},
		   "source": [
			"## Example 6.8: example_8.sce"
		   ]
		  },
  {
"cell_type": "code",
	   "execution_count": null,
	   "metadata": {
	    "collapsed": true
	   },
	   "outputs": [],
"source": [
"\n",
"clc \n",
"//initialisation of variables\n",
"l= 6000 //ft\n",
"d= 9 //in\n",
"s= 1/100\n",
"h= 20 //ft\n",
"h1= 5 //ft\n",
"f= 0.006\n",
"g= 32.2 //ft/sec^2\n",
"//CALCULATIONS\n",
"L= l*s\n",
"v= sqrt((h+L-h1)*(d/12)*2*g/(4*f*l))\n",
"Q= v*%pi*(d/12)^2/4\n",
"s1= (L+h-h1)/l\n",
"//RESULTS\n",
"printf ('Discharge through the pipe= %.3f cuses',Q)\n",
"printf ('\n slope of hydraulic gradient= %.4f ',s1)"
   ]
   }
,
{
		   "cell_type": "markdown",
		   "metadata": {},
		   "source": [
			"## Example 6.9: example_9.sce"
		   ]
		  },
  {
"cell_type": "code",
	   "execution_count": null,
	   "metadata": {
	    "collapsed": true
	   },
	   "outputs": [],
"source": [
"clc \n",
"//initialisation of variables\n",
"d1= 24 //in\n",
"Q= 10 //cuses\n",
"d2= 18 //in\n",
"d3= 12 //in\n",
"f= 0.01\n",
"l= 1000 //ft\n",
"g= 32.2 //ft/sec^2\n",
"l1= 100 //ft\n",
"l2= 600 //ft\n",
"//CALCULATIONS\n",
"v1= sqrt(4*Q/(%pi*(d1/12)^2))\n",
"v2= sqrt(4*Q/(%pi*(d2/12)^2))\n",
"v3= sqrt(4*Q/(%pi*(d3/12)^2))\n",
"hf= 4*f*l*v1^2/(2*g*(d1/12))\n",
"dh= l1-hf\n",
"h1= 4*f*l2*v2^2/((d2/12)*2*g)\n",
"dh1= dh-h1\n",
"h2= 4*f*(l-l2)*v3^2/((d3/12)*2*g)\n",
"dh2= dh1-h2\n",
"//RESULTS\n",
" printf ('level gradient at D= %.2f ft',dh2)\n",
" \n",
" //ANSWER GIVEN IN THE TEXTBOOK IS WRONG\n",
" "
   ]
   }
],
"metadata": {
		  "kernelspec": {
		   "display_name": "Scilab",
		   "language": "scilab",
		   "name": "scilab"
		  },
		  "language_info": {
		   "file_extension": ".sce",
		   "help_links": [
			{
			 "text": "MetaKernel Magics",
			 "url": "https://github.com/calysto/metakernel/blob/master/metakernel/magics/README.md"
			}
		   ],
		   "mimetype": "text/x-octave",
		   "name": "scilab",
		   "version": "0.7.1"
		  }
		 },
		 "nbformat": 4,
		 "nbformat_minor": 0
}
