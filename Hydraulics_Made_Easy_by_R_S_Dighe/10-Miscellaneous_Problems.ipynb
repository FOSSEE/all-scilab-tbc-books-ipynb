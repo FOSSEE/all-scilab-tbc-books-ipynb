{
"cells": [
 {
		   "cell_type": "markdown",
	   "metadata": {},
	   "source": [
       "# Chapter 10: Miscellaneous Problems"
	   ]
	},
{
		   "cell_type": "markdown",
		   "metadata": {},
		   "source": [
			"## Example 10.10: example_10.sce"
		   ]
		  },
  {
"cell_type": "code",
	   "execution_count": null,
	   "metadata": {
	    "collapsed": true
	   },
	   "outputs": [],
"source": [
"\n",
"\n",
"clc \n",
"//initialisation of variables\n",
"g= 32.2 //ft/sec^2\n",
"sct= 1.6\n",
"sl= 0.8\n",
"K= 0.98\n",
"dh1= 4 //ft\n",
"W= 62.4 //lbs/ft^3\n",
"d1= 8 //in\n",
"d2= 6 //in\n",
"//CALCULATIONS\n",
"dp= dh1*((sct/sl)-1)\n",
"C= sqrt(2*g)*%pi*(d1/24)^2 /sqrt((d1^2/d2^2)^2 -1)\n",
"Q= C*K*sqrt(dh1)\n",
"//RESULTS\n",
"printf ('Discharge passing through the pipe= %.1f cuses ',Q)\n",
"//The answer given in textbook is wrong. Please verify it."
   ]
   }
,
{
		   "cell_type": "markdown",
		   "metadata": {},
		   "source": [
			"## Example 10.1: example_1.sce"
		   ]
		  },
  {
"cell_type": "code",
	   "execution_count": null,
	   "metadata": {
	    "collapsed": true
	   },
	   "outputs": [],
"source": [
"clc \n",
"//initialisation of variables\n",
"w= 62.4 //lb/ft^3\n",
"x=8 //ft\n",
"A= 16 //ft^2\n",
"X= 2.5 //ft\n",
"X1= 0.66 //ft\n",
"x1= 3.834 //ft\n",
"x2= 2.182 //ft\n",
"//CALCULATIONS\n",
"P= w*x*A\n",
"y= A/3\n",
"P1= w*x*A*0.5*X1\n",
"R= sqrt(P1^2+P^2)\n",
"m= P1/P\n",
"X2= x1-x2\n",
"C= ((2/3)*A)-m*X\n",
"Y= m*X2+ C\n",
"//RESULTS\n",
"printf ('Water pressure on vertical face = %.f lbs',P)\n",
"printf ('\n pressure which acts at the base = %.2f ft',y)\n",
"printf ('\n Resultant = %.f lbs',R)\n",
"printf ('\n x coordinate of the resultant = %.3f ft',X2)\n",
"printf ('\n y coordinate of the resultant = %.3f ft',Y)"
   ]
   }
,
{
		   "cell_type": "markdown",
		   "metadata": {},
		   "source": [
			"## Example 10.2: chapter_10_example_2.sce"
		   ]
		  },
  {
"cell_type": "code",
	   "execution_count": null,
	   "metadata": {
	    "collapsed": true
	   },
	   "outputs": [],
"source": [
"clc \n",
"//initialisation of variables\n",
"s= 13.6\n",
"h= 12 //in\n",
"u= 0.04\n",
"k= 1\n",
"d= 6 //in\n",
"g= 32.2 //ft/sec^2\n",
"w= 62.4 //lbs/ft^3\n",
"//CALCULATIONS\n",
"h1= h*(s-1)/12\n",
"hf= u*h1\n",
"hn= h1-hf\n",
"Q= k*(%pi*(d/12)^2)*sqrt(2*g)*sqrt(hn)*w*60/(10*4*sqrt(15))\n",
"//RESULTS\n",
"printf ('discharge through flow= %.f ft G.P.M',Q)"
   ]
   }
,
{
		   "cell_type": "markdown",
		   "metadata": {},
		   "source": [
			"## Example 10.3: chapter_10_example_3.sce"
		   ]
		  },
  {
"cell_type": "code",
	   "execution_count": null,
	   "metadata": {
	    "collapsed": true
	   },
	   "outputs": [],
"source": [
"clc \n",
"//initialisation of variables\n",
"za= 16 //ft\n",
"h1= 2 //ft\n",
"h2= 3 //ft\n",
"g= 32.2 //ft/sec^2\n",
"//CALCULATIONS\n",
"vc= sqrt(2*g*(za-h1-h2))\n",
"vb= vc*(h1/(2*h1))^2\n",
"r= -h1-h2-(vb^2/(2*g))\n",
"r1= r+34\n",
"//RESULTS\n",
"printf ('pressure head at B= %.1f ft lb',r1)"
   ]
   }
,
{
		   "cell_type": "markdown",
		   "metadata": {},
		   "source": [
			"## Example 10.4: chapter_10_example_4.sce"
		   ]
		  },
  {
"cell_type": "code",
	   "execution_count": null,
	   "metadata": {
	    "collapsed": true
	   },
	   "outputs": [],
"source": [
"clc \n",
"//initialisation of variables\n",
"g= 32.2 //ft/sec^2\n",
"Cd= 0.62\n",
"a= 90 //degrees\n",
"H1= 14 //in\n",
"H2= 8 //in\n",
"//CALCULATIONS\n",
"Q1= (8/15)*Cd*sqrt(2*g)*tand(a/2)*(H1/12)^(5/2)\n",
"Q2= (8/15)*Cd*sqrt(2*g)*tand(a/2)*(H2/12)\n",
"Q= Q1-Q2\n",
"//RESULTS\n",
"printf ('Discharge through notch= %.2f cuses',Q)"
   ]
   }
,
{
		   "cell_type": "markdown",
		   "metadata": {},
		   "source": [
			"## Example 10.5: example_5.sce"
		   ]
		  },
  {
"cell_type": "code",
	   "execution_count": null,
	   "metadata": {
	    "collapsed": true
	   },
	   "outputs": [],
"source": [
"clc \n",
"//initialisation of variables\n",
"g= 32.2 //ft/sec^2\n",
"Cd= 0.62\n",
"d= 5/4 //in\n",
"h= 9 //ft\n",
"//CALCULATIONS\n",
"T= (2/3)*%pi*(h)^(3/2)/(Cd*(%pi/4)*sqrt(2*g)*(d/12)^2)\n",
"//RESULTS\n",
"printf ('time required to lower water level= %.f secs',T)"
   ]
   }
,
{
		   "cell_type": "markdown",
		   "metadata": {},
		   "source": [
			"## Example 10.6: chapter_10_example_6.sce"
		   ]
		  },
  {
"cell_type": "code",
	   "execution_count": null,
	   "metadata": {
	    "collapsed": true
	   },
	   "outputs": [],
"source": [
"\n",
"clc \n",
"//initialisation of variables\n",
"a= 60 //degrees\n",
"d= 4 //in\n",
"Cd= 0.62\n",
"h= 5 //ft\n",
"w= 30 //ft\n",
"g= 32.2 //ft/sec^2\n",
"//CALCULATIONS\n",
"H1= 10*sind(a)\n",
"H2= H1-h\n",
"T= (2*w/tand(a))*(2/3)*(H1^(3/2)-H2^(3/2))/(Cd*sqrt(2*g)*%pi/(4*(d/12)^2))*100\n",
"//RESULTS\n",
"printf ('time required to lower water level= %.f secs',T)"
   ]
   }
,
{
		   "cell_type": "markdown",
		   "metadata": {},
		   "source": [
			"## Example 10.7: chapter_10_example_7.sce"
		   ]
		  },
  {
"cell_type": "code",
	   "execution_count": null,
	   "metadata": {
	    "collapsed": true
	   },
	   "outputs": [],
"source": [
"\n",
"clc \n",
"//initialisation of variables\n",
"p1= 40 //percent\n",
"p2= 35 //percent\n",
"dh= 200 //ft\n",
"f= 0.1\n",
"g= 32.2 //ft/sec^2\n",
"l= 2000 //ft\n",
"d= 1 //ft\n",
"//CALCULATIONS\n",
"hf1= p1*dh/100\n",
"hf2= p2*dh/100\n",
"hf3= (100-p1-p2)*dh/100\n",
"hft= hf1+hf2+hf3\n",
"v1= sqrt(2*g*hf1/(4*f*l))\n",
"Q= v1*%pi*d^2/4\n",
"d2= (Q*7*sqrt(3/(5*g)))^(2/3)\n",
"v3= Q*4*(4/3)^2/%pi\n",
"l3= hf2*2*g*(3/4)/(4*f*v3^2)\n",
"//RESULTS\n",
"printf ('proportion of the quantity folwing in the bypass to the whole pass= %.f ft',l3)"
   ]
   }
,
{
		   "cell_type": "markdown",
		   "metadata": {},
		   "source": [
			"## Example 10.8: chapter_10_example_8.sce"
		   ]
		  },
  {
"cell_type": "code",
	   "execution_count": null,
	   "metadata": {
	    "collapsed": true
	   },
	   "outputs": [],
"source": [
"clc \n",
"//initialisation of variables\n",
"d= 1 //ft\n",
"l= 2000 //ft\n",
"f= 0.038\n",
"g= 32.2 ///ft/sec^2\n",
"Q= 6 //cuses\n",
"l1= 1500 //ft\n",
"r= 2\n",
"//CALCULATIONS\n",
"v= 4*Q/(d^2*%pi)\n",
"hf= 4*f*l*v^2/(2*g)\n",
"v1= sqrt(hf*2*g/(4*f*l1+4*f*(l-l1)*r^2))\n",
"v3= r*v1\n",
"Q1= %pi*d^2*v3/4\n",
"Q2= %pi*d^2*v1/4\n",
"r1= Q2/Q1\n",
"//RESULTS\n",
"printf ('proportion of the quantity folwing in the bypass to the whole pass= %.1f ',r1)"
   ]
   }
,
{
		   "cell_type": "markdown",
		   "metadata": {},
		   "source": [
			"## Example 10.9: example_9.sce"
		   ]
		  },
  {
"cell_type": "code",
	   "execution_count": null,
	   "metadata": {
	    "collapsed": true
	   },
	   "outputs": [],
"source": [
"clc \n",
"//initialisation of variables\n",
"f= 0.01\n",
"d= 3 //in\n",
"l= 22 //ft\n",
"l1= 20 //ft\n",
"w= 20 //ft\n",
"h= 5 //ft\n",
"h1= 20 //ft\n",
"t= 4 //min\n",
"g= 32.2 //ft/sec^2\n",
"//CALCULATIONS\n",
"h2= h+h1\n",
"h3= (h-(t*60*%pi*sqrt(2*g/h)/(l1*w*2*64)))^2-4\n",
"dh= h2-h3\n",
"Q= dh*l1*w\n",
"//RESULTS\n",
"printf ('Quantiy discharged= %.f cuses ',Q)"
   ]
   }
],
"metadata": {
		  "kernelspec": {
		   "display_name": "Scilab",
		   "language": "scilab",
		   "name": "scilab"
		  },
		  "language_info": {
		   "file_extension": ".sce",
		   "help_links": [
			{
			 "text": "MetaKernel Magics",
			 "url": "https://github.com/calysto/metakernel/blob/master/metakernel/magics/README.md"
			}
		   ],
		   "mimetype": "text/x-octave",
		   "name": "scilab",
		   "version": "0.7.1"
		  }
		 },
		 "nbformat": 4,
		 "nbformat_minor": 0
}
