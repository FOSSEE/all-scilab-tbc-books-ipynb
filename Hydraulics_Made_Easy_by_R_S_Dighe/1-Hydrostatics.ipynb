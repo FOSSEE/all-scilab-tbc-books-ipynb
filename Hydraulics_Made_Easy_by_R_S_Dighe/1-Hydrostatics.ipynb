{
"cells": [
 {
		   "cell_type": "markdown",
	   "metadata": {},
	   "source": [
       "# Chapter 1: Hydrostatics"
	   ]
	},
{
		   "cell_type": "markdown",
		   "metadata": {},
		   "source": [
			"## Example 1.10: example_10.sce"
		   ]
		  },
  {
"cell_type": "code",
	   "execution_count": null,
	   "metadata": {
	    "collapsed": true
	   },
	   "outputs": [],
"source": [
"clc\n",
"//initialisation of variables\n",
"w= 3 //ft\n",
"h= 15 //ft\n",
"d= 140 //lbs/ft^3\n",
"x= 6 //in\n",
"W= 62.4 //lbs/ft^3\n",
"//CALCULATIONS\n",
"W1= h*w*d\n",
"h= (W1*x*6/(W*12))^(1/3)\n",
"//RESULTS\n",
"printf (' height of water rise = %.2f ft',h)"
   ]
   }
,
{
		   "cell_type": "markdown",
		   "metadata": {},
		   "source": [
			"## Example 1.11: example_11.sce"
		   ]
		  },
  {
"cell_type": "code",
	   "execution_count": null,
	   "metadata": {
	    "collapsed": true
	   },
	   "outputs": [],
"source": [
"clc \n",
"//initialisation of variables\n",
"h= 5 //ft\n",
"d= 6 //ft\n",
"a= 30 //degrees\n",
"w= 62.4 //lbs/ft^3\n",
"//CALCULATIONS\n",
"A= %pi*d^2/4\n",
"X= h+(d/2)*sind(a)\n",
"P= w*A*X\n",
"Ic= %pi*d^4/64\n",
"I0= Ic+A*X^2/(sind(a))^2\n",
"h= I0*(sind(a))^2/(A*X)\n",
"//CALCULATIONS\n",
"printf ('depth of the centre os pressure= %.2f ft ',h)"
   ]
   }
,
{
		   "cell_type": "markdown",
		   "metadata": {},
		   "source": [
			"## Example 1.12: example_12.sce"
		   ]
		  },
  {
"cell_type": "code",
	   "execution_count": null,
	   "metadata": {
	    "collapsed": true
	   },
	   "outputs": [],
"source": [
"clc \n",
"//initialisation of variables\n",
"w= 4 //ft\n",
"l= 4 //ft\n",
"X= 10 //ft\n",
"a= 45 //degrees\n",
"W= 100 //lbs\n",
"a1= 60 //degrees\n",
"w1= 62.4 //lbs/ft^3\n",
"//CALCULATIONS\n",
"A= w*l\n",
"X1= X+(w/2)*sind(a)\n",
"Ig= w*l^3/12\n",
"I0= Ig+(A*X1^2/(sind(a))^2)\n",
"h= I0*(sind(a))^2/(A*X1)\n",
"P= w1*A*X1\n",
"h1= h-X\n",
"h2= h1/sind(a)\n",
"T= (W*(l/2)*sind(a)+P*h2)/(w*sind(a1))\n",
"//RESULTS\n",
"printf ('Pull in the chain= %.f lbs ',T)"
   ]
   }
,
{
		   "cell_type": "markdown",
		   "metadata": {},
		   "source": [
			"## Example 1.13: example_13.sce"
		   ]
		  },
  {
"cell_type": "code",
	   "execution_count": null,
	   "metadata": {
	    "collapsed": true
	   },
	   "outputs": [],
"source": [
"\n",
"clc \n",
"//initialisation of variables\n",
"w= 4 //ft\n",
"l= 4 //ft\n",
"X= 10 //ft\n",
"a = 45 //degrees\n",
"W= 62.4 //lbs/ft^3\n",
"u= 0.25\n",
"//CALCULATIONS\n",
"A= w*l\n",
"X1= X+(w/2)*sind(a)\n",
"P= W*A*X1\n",
"T= u*P\n",
"//RESULTS\n",
"printf ('magnitude of the lifting force= %.f lbs ',T) "
   ]
   }
,
{
		   "cell_type": "markdown",
		   "metadata": {},
		   "source": [
			"## Example 1.14: example_14.sce"
		   ]
		  },
  {
"cell_type": "code",
	   "execution_count": null,
	   "metadata": {
	    "collapsed": true
	   },
	   "outputs": [],
"source": [
"clc \n",
"//initialisation of variables\n",
"w= 62.4 //lbs/ft^3\n",
"sg= 1.6\n",
"h= 10 //ft\n",
"h1= 4 //ft\n",
"//CALCULATIONS\n",
"D= w*sg\n",
"W= w*(h+h1)^2/2\n",
"P= w*h\n",
"P1= D*h1\n",
"P2= (P*h/2)+P*h1+(h1*P1/2)\n",
"y= ((P*h*(h1+(h/3))/2)+P*h1*(h1/2)+P1*h1^2/6)/P2\n",
"//RESULTS\n",
"printf ('Position where P acts= %.1f ft above the base',y) "
   ]
   }
,
{
		   "cell_type": "markdown",
		   "metadata": {},
		   "source": [
			"## Example 1.15: example_15.sce"
		   ]
		  },
  {
"cell_type": "code",
	   "execution_count": null,
	   "metadata": {
	    "collapsed": true
	   },
	   "outputs": [],
"source": [
"clc \n",
"//initialisation of variables\n",
"pa= 10 //lbs/in^2\n",
"h= 8 //ft\n",
"h1= 6 //ft\n",
"w= 62.4 //lbs/ft^3\n",
"pg= 10 //lbs/in^2\n",
"//CALCULATIONS\n",
"Pa= pa*144\n",
"Pa1= w*h1\n",
"Pt= (Pa*h+Pa1*(h1/2))\n",
"y= (Pa*h*(h/2)+(Pa1*h1*(h-h1)/2))/Pt\n",
"//RESULTS\n",
"printf ('Depth of the centre of pressure= %.2f ft from the base',y) "
   ]
   }
,
{
		   "cell_type": "markdown",
		   "metadata": {},
		   "source": [
			"## Example 1.16: example_16.sce"
		   ]
		  },
  {
"cell_type": "code",
	   "execution_count": null,
	   "metadata": {
	    "collapsed": true
	   },
	   "outputs": [],
"source": [
"clc \n",
"//initialisation of variables\n",
"d= 4 //ft\n",
"h= 6 //in\n",
"//CALCULATIONS\n",
"A= %pi*d^2/4\n",
"X= (h-d)\n",
"I0= (%pi*d^4/64)+4*%pi*(X)^2\n",
"h1= I0/(A*X)\n",
"h2= d-h1\n",
"//RESULTS\n",
"printf ('Depth of the axis be placed in order= %.1f ft ',h2) "
   ]
   }
,
{
		   "cell_type": "markdown",
		   "metadata": {},
		   "source": [
			"## Example 1.17: example_17.sce"
		   ]
		  },
  {
"cell_type": "code",
	   "execution_count": null,
	   "metadata": {
	    "collapsed": true
	   },
	   "outputs": [],
"source": [
"clc \n",
"//initialisation of variables\n",
"h= 10 //ft\n",
"//CALCULATIONS\n",
"x= sqrt(h^2/2)\n",
"//RESULTS\n",
"printf ('Depth of the axis be placed in order= %.2f ft ',x) "
   ]
   }
,
{
		   "cell_type": "markdown",
		   "metadata": {},
		   "source": [
			"## Example 1.18: example_18.sce"
		   ]
		  },
  {
"cell_type": "code",
	   "execution_count": null,
	   "metadata": {
	    "collapsed": true
	   },
	   "outputs": [],
"source": [
"clc \n",
"//initialisation of variables\n",
"h= 8 //ft\n",
"h1= 10 //ft\n",
"//CALCULATIONS\n",
"A= h\n",
"X= (h1/2)\n",
"Ig= h^3/12\n",
"I0= Ig+A*X^2\n",
"h2= I0/(A*X)\n",
"//RESULTS\n",
"printf ('depth at which the hinge of the shutter= %.2f ft ',h2)"
   ]
   }
,
{
		   "cell_type": "markdown",
		   "metadata": {},
		   "source": [
			"## Example 1.19: example_19.sce"
		   ]
		  },
  {
"cell_type": "code",
	   "execution_count": null,
	   "metadata": {
	    "collapsed": true
	   },
	   "outputs": [],
"source": [
"clc \n",
"//initialisation of variables\n",
"k1= 1 //ft\n",
"k2= 35.98 //ft\n",
"k3= 66.83 //ft\n",
"//CALCULATIONS\n",
"x=poly(0,'x')\n",
"vec=roots(k1*x^3-k2*x+k3)\n",
"X= vec (2)\n",
"//RESULTS\n",
"printf ('depth of the water= %.2f ft',X)"
   ]
   }
,
{
		   "cell_type": "markdown",
		   "metadata": {},
		   "source": [
			"## Example 1.1: example_1.sce"
		   ]
		  },
  {
"cell_type": "code",
	   "execution_count": null,
	   "metadata": {
	    "collapsed": true
	   },
	   "outputs": [],
"source": [
"clc\n",
"//initialisation of variables\n",
"Ar= 50 //in^2\n",
"Ap= 1/8 //in^2\n",
"Wp= 5 //lbs\n",
"//CALCULATIONS\n",
"Pp= Wp/Ap\n",
"F= Pp*Ar\n",
"//RESULTS\n",
"printf ('weight supported by ram = %.f lbs',F)"
   ]
   }
,
{
		   "cell_type": "markdown",
		   "metadata": {},
		   "source": [
			"## Example 1.22: example_22.sce"
		   ]
		  },
  {
"cell_type": "code",
	   "execution_count": null,
	   "metadata": {
	    "collapsed": true
	   },
	   "outputs": [],
"source": [
"clc \n",
"//initialisation of variables\n",
"d= 8 //ft\n",
"d1= 2 //ft\n",
"h= 4 //ft\n",
"h1= 2 //ft\n",
"w= 62.4 //lbs/ft^3\n",
"//CALCULATIONS\n",
"A1= %pi*d^2/4\n",
"A2= %pi*d1^2/4\n",
"A= A1-A2\n",
"x= (A1*d-A2*(d+h-h1))/A\n",
"P= w*A*x\n",
"Ig= ((%pi*d^4/64)+(A1*(d-x)^2))-((%pi*d1^4/64)+(A2*(h1+d-x)^2))\n",
"h2= (Ig/(A*x))+x\n",
"//RESULTS\n",
"printf ('depth of the centre of the pressure= %.1f ft ',h2)"
   ]
   }
,
{
		   "cell_type": "markdown",
		   "metadata": {},
		   "source": [
			"## Example 1.25: example_25.sce"
		   ]
		  },
  {
"cell_type": "code",
	   "execution_count": null,
	   "metadata": {
	    "collapsed": true
	   },
	   "outputs": [],
"source": [
"clc \n",
"//initialisation of variables\n",
"W= 62.4 //lbs/ft^3\n",
"a= 140 //degrees\n",
"h= 20 //ft\n",
"w= 6 //ft\n",
"h1= 17 //ft\n",
"h2= 5 //ft\n",
"//CALCULATIONS\n",
"P1= W*h1^2*w/2\n",
"P2= W*h2^2*w/2\n",
"P= P1-P2\n",
"y= (P1*(h1/3)-P2*(h2/3))/P\n",
"R= P/(2*sind((180-a)/2))\n",
"Rt= y*R/h\n",
"Rb= R-Rt\n",
"//RESULTS\n",
"printf ('Rt= %.f lbs ',Rt)\n",
"printf ('\n Rb= %.f lbs ',Rb)"
   ]
   }
,
{
		   "cell_type": "markdown",
		   "metadata": {},
		   "source": [
			"## Example 1.26: example_26.sce"
		   ]
		  },
  {
"cell_type": "code",
	   "execution_count": null,
	   "metadata": {
	    "collapsed": true
	   },
	   "outputs": [],
"source": [
"clc \n",
"//initialisation of variables\n",
"w= 64 //lbs/ft^3\n",
"h= 12 //ft\n",
"l= 9 //ft\n",
"a= 45 //degrees\n",
"//CALCULATIONS\n",
"P= w*h^2/2\n",
"h1= h/3\n",
"Rb= P*h1/l\n",
"Ra= P-Rb\n",
"Wh= Rb*h1\n",
"T= Wh/sind(a)\n",
"//RESULTS\n",
"printf ('Load on the strut= %.f lbs ',T)"
   ]
   }
,
{
		   "cell_type": "markdown",
		   "metadata": {},
		   "source": [
			"## Example 1.27: example_27.sce"
		   ]
		  },
  {
"cell_type": "code",
	   "execution_count": null,
	   "metadata": {
	    "collapsed": true
	   },
	   "outputs": [],
"source": [
"clc \n",
"//initialisation of variables\n",
"w= 62.4 //lbs/ft^3\n",
"h= 9 //ft\n",
"l= 10 //ft\n",
"//CALCULATIONS\n",
"P= w*h^2/2\n",
"h1= h/3\n",
"Ra= P/2\n",
"x= (w*4*h^2/9)/Ra\n",
"x1= x+(h/3)\n",
"hb= h1-x\n",
"W= Ra*l\n",
"//RESULTS\n",
"printf ('magnitude od total in each beam= %.f lbs ',W)"
   ]
   }
,
{
		   "cell_type": "markdown",
		   "metadata": {},
		   "source": [
			"## Example 1.2: example_2.sce"
		   ]
		  },
  {
"cell_type": "code",
	   "execution_count": null,
	   "metadata": {
	    "collapsed": true
	   },
	   "outputs": [],
"source": [
"clc\n",
"//initialisation of variables\n",
"Dp= 1 //in\n",
"Dr= 10 //in\n",
"R= 12 \n",
"W= 15 //tons\n",
"//CALCULATIONS\n",
"Ar= %pi*Dr^2/4\n",
"Ap= %pi*Dp^2/4\n",
"P= W*2240/((Ar/Ap)*R)\n",
"//RESULTS\n",
"printf ('power applied to lever = %.f lbs',P)"
   ]
   }
,
{
		   "cell_type": "markdown",
		   "metadata": {},
		   "source": [
			"## Example 1.3: example_3.sce"
		   ]
		  },
  {
"cell_type": "code",
	   "execution_count": null,
	   "metadata": {
	    "collapsed": true
	   },
	   "outputs": [],
"source": [
"clc\n",
"//initialisation of variables\n",
"Dj= 1 //in\n",
"Dr= 2 //in\n",
"W= 40 //lbs\n",
"W1= 1 //ton\n",
"rl= 20\n",
"//CALCULATIONS\n",
"Ap= %pi*Dj^2/4\n",
"Ar= %pi*Dr^2/4\n",
"Vrj= rl*Ar/Ap\n",
"e= W1*2240*100/(W*Vrj)\n",
"//RESULTS\n",
"printf ('efficiency of machine at this load = %.f percent',e)"
   ]
   }
,
{
		   "cell_type": "markdown",
		   "metadata": {},
		   "source": [
			"## Example 1.4: example_4.sce"
		   ]
		  },
  {
"cell_type": "code",
	   "execution_count": null,
	   "metadata": {
	    "collapsed": true
	   },
	   "outputs": [],
"source": [
"clc\n",
"//initialisation of variables\n",
"Dj= 1 //in\n",
"Dr= 2 //in\n",
"ns= 3 //strokes\n",
"h= 2 //ft\n",
"//CALCULATIONS\n",
"Ap= %pi*Dj^2/4\n",
"Ar= %pi*Dr^2/4\n",
"Vrj= Ar/Ap\n",
"ns1= h*12*Vrj/ns\n",
"//RESULTS\n",
"printf (' working strokes = %.f strokes',ns1)"
   ]
   }
,
{
		   "cell_type": "markdown",
		   "metadata": {},
		   "source": [
			"## Example 1.5: example_5.sce"
		   ]
		  },
  {
"cell_type": "code",
	   "execution_count": null,
	   "metadata": {
	    "collapsed": true
	   },
	   "outputs": [],
"source": [
"clc\n",
"//initialisation of variables\n",
"T= 40 //F\n",
"w= 62.4 //lbs/ft^3\n",
"h= 50 //ft\n",
"//CALCULATIONS\n",
"p= w*h/(12^2)\n",
"//RESULTS\n",
"printf (' pressure at a depth of 50 ft = %.2f lbs per in',p)"
   ]
   }
,
{
		   "cell_type": "markdown",
		   "metadata": {},
		   "source": [
			"## Example 1.6: example_6.sce"
		   ]
		  },
  {
"cell_type": "code",
	   "execution_count": null,
	   "metadata": {
	    "collapsed": true
	   },
	   "outputs": [],
"source": [
"clc\n",
"//initialisation of variables\n",
"W= 64 //lbs/ft^3\n",
"h1= 27 //ft\n",
"h2= 9 //ft\n",
"w= 40 //ft\n",
"//CALCULATIONS\n",
"Pr= w*W*h1*h1/2\n",
"Pl= w*W*h2*h2/2\n",
"y1= h1/3\n",
"y2= h2/3\n",
"y= (Pr*y1-Pl*y2)/(Pr-Pl)\n",
"//RESULTS\n",
"printf (' point of application = %.2f ft',y)"
   ]
   }
,
{
		   "cell_type": "markdown",
		   "metadata": {},
		   "source": [
			"## Example 1.7: example_7.sce"
		   ]
		  },
  {
"cell_type": "code",
	   "execution_count": null,
	   "metadata": {
	    "collapsed": true
	   },
	   "outputs": [],
"source": [
"clc \n",
"//initialisation of variables\n",
"d= 5 //ft\n",
"x= 3 //ft\n",
"w= 62.4 //lb/ft^3\n",
"a= 90 //degrees\n",
"//CALCULATIONS\n",
"h= ((%pi*d^4/64)+(x^2*%pi*d^2/4))/(%pi*d^2*x/4)\n",
"//RESULTS\n",
"printf ('depth of the pressure= %.2f ft',h)"
   ]
   }
,
{
		   "cell_type": "markdown",
		   "metadata": {},
		   "source": [
			"## Example 1.8: example_8.sce"
		   ]
		  },
  {
"cell_type": "code",
	   "execution_count": null,
	   "metadata": {
	    "collapsed": true
	   },
	   "outputs": [],
"source": [
"clc\n",
"//initialisation of variables\n",
"w= 3 //ft\n",
"h= 4 //ft\n",
"ht= 30 //ft\n",
"W= 62.4 //ft^3\n",
"//CALCULATIONS\n",
"Ap= w*h\n",
"X= ht+(h/2)\n",
"P= Ap*X*W\n",
"I0= (w*h^3/12)+Ap*X^2\n",
"H= I0/(Ap*X)\n",
"//RESULTS\n",
"printf (' total pressure on the gate = %.2f ft',H)"
   ]
   }
,
{
		   "cell_type": "markdown",
		   "metadata": {},
		   "source": [
			"## Example 1.9: example_9.sce"
		   ]
		  },
  {
"cell_type": "code",
	   "execution_count": null,
	   "metadata": {
	    "collapsed": true
	   },
	   "outputs": [],
"source": [
"clc\n",
"//initialisation of variables\n",
"w= 3 //ft\n",
"h= 4 //ft\n",
"ht= 30 //ft\n",
"W= 62.4 //ft^3\n",
"x= 2.22 //in\n",
"x1= 4.5 //in\n",
"//CALCULATIONS\n",
"Ap= w*h\n",
"X= ht+(h/2)\n",
"P= Ap*X*W\n",
"T= P*x/x1\n",
"T1= P-T\n",
"//RESULTS\n",
"printf (' tension devoloped in the top bolt = %.f lbs',T)\n",
"printf (' \n tension devoloped in the bottom bolt = %.f lbs',T1)"
   ]
   }
],
"metadata": {
		  "kernelspec": {
		   "display_name": "Scilab",
		   "language": "scilab",
		   "name": "scilab"
		  },
		  "language_info": {
		   "file_extension": ".sce",
		   "help_links": [
			{
			 "text": "MetaKernel Magics",
			 "url": "https://github.com/calysto/metakernel/blob/master/metakernel/magics/README.md"
			}
		   ],
		   "mimetype": "text/x-octave",
		   "name": "scilab",
		   "version": "0.7.1"
		  }
		 },
		 "nbformat": 4,
		 "nbformat_minor": 0
}
