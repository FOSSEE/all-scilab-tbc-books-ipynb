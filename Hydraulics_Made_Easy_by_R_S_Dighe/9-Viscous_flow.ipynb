{
"cells": [
 {
		   "cell_type": "markdown",
	   "metadata": {},
	   "source": [
       "# Chapter 9: Viscous flow"
	   ]
	},
{
		   "cell_type": "markdown",
		   "metadata": {},
		   "source": [
			"## Example 9.1: chapter_9_example_1.sce"
		   ]
		  },
  {
"cell_type": "code",
	   "execution_count": null,
	   "metadata": {
	    "collapsed": true
	   },
	   "outputs": [],
"source": [
"clc \n",
"//initialisation of variables\n",
"sg= 0.7\n",
"v= 0.05 //poise\n",
"g= 32.2 //ft/sec^2\n",
"w= 62.4 //lbs/ft^3\n",
"//CALCULATIONS\n",
"u= v*30.5/(g*453.6)\n",
"v1= v/sg\n",
"d= w*v1/g\n",
"v= u/d\n",
"//RESULTS\n",
"printf ('viscocity= %.6f slug/t sec ',u)\n",
"printf ('\n kinematic viscocity= %.4f cm^2/ sec ',v1)\n",
"printf ('\n kinematic viscocity= %.6f ft^2/ sec ',v)"
   ]
   }
,
{
		   "cell_type": "markdown",
		   "metadata": {},
		   "source": [
			"## Example 9.2: chapter_9_example_2.sce"
		   ]
		  },
  {
"cell_type": "code",
	   "execution_count": null,
	   "metadata": {
	    "collapsed": true
	   },
	   "outputs": [],
"source": [
"clc \n",
"//initialisation of variables\n",
"d= 0.5 //in\n",
"V= 1 //ft/sec\n",
"l= 200 //ft\n",
"T= 5 //degrees\n",
"g= 32.2 //f/sec^2\n",
"//CALCULATIONS\n",
"i= 0.04*V^2*12*4/(g*d)\n",
"gf= i*l\n",
"//RESULTS\n",
"printf ('loss of head= %.1f ft ',gf)"
   ]
   }
,
{
		   "cell_type": "markdown",
		   "metadata": {},
		   "source": [
			"## Example 9.3: chapter_9_example_3.sce"
		   ]
		  },
  {
"cell_type": "code",
	   "execution_count": null,
	   "metadata": {
	    "collapsed": true
	   },
	   "outputs": [],
"source": [
"\n",
"clc \n",
"//initialisation of variables\n",
"g= 32.2 //ft/sec^2\n",
"T= 25 //C\n",
"dp=8 //lbs/in^2\n",
"t= 0.005 //in\n",
"w= 3 //in\n",
"l= 1 //ft\n",
"//CALCULATIONS\n",
"ut= (0.0179*30.5/(g*453.6))/(1+0.03368*T+0.000221*T^2)\n",
"Ql= dp*144*(t/12)^3*3600*6.24/(12*ut*4)\n",
"//RESULTS\n",
"printf ('Discharge= %.6f gallons per hour ',Ql)\n",
"\n",
"\n",
"//ANSWER GIVEN IN THE TEXTBOOK IS WRONG"
   ]
   }
,
{
		   "cell_type": "markdown",
		   "metadata": {},
		   "source": [
			"## Example 9.4: chapter_9_example_4.sce"
		   ]
		  },
  {
"cell_type": "code",
	   "execution_count": null,
	   "metadata": {
	    "collapsed": true
	   },
	   "outputs": [],
"source": [
"clc \n",
"//initialisation of variables\n",
"v= 1.25 //poise\n",
"d= 3 //in\n",
"l= 6 //in\n",
"t= 0.002 //in\n",
"w= 40 //R.P.M\n",
"g= 32.2 //ft/sec^2\n",
"//CALCULATIONS\n",
"u= v*30.5/(453.6*g)\n",
"T= u*%pi^2*(d/12)^3*w*(l/12)/(120*t/12)\n",
"hp= T*2*%pi*w/33000\n",
"//RESULTS\n",
"printf ('Horse-power lost in velocit= %.4f ',hp)"
   ]
   }
,
{
		   "cell_type": "markdown",
		   "metadata": {},
		   "source": [
			"## Example 9.5: chapter_9_example_5.sce"
		   ]
		  },
  {
"cell_type": "code",
	   "execution_count": null,
	   "metadata": {
	    "collapsed": true
	   },
	   "outputs": [],
"source": [
"clc \n",
"//initialisation of variables\n",
"w= 750 //R.P.M\n",
"t= 0.02 //in\n",
"r1=9 //in\n",
"r2= 5 //in\n",
"u= 0.003 //slug/ft sec\n",
"//CALCULATIONS\n",
"T=  u*%pi*(2*%pi*w/60)*((r1/24)^4-(r2/24)^4)*2*%pi*w/(2*t/12*33000)\n",
"//RESULTS\n",
"printf ('horse power required to overcome= %.1f hp',T)"
   ]
   }
],
"metadata": {
		  "kernelspec": {
		   "display_name": "Scilab",
		   "language": "scilab",
		   "name": "scilab"
		  },
		  "language_info": {
		   "file_extension": ".sce",
		   "help_links": [
			{
			 "text": "MetaKernel Magics",
			 "url": "https://github.com/calysto/metakernel/blob/master/metakernel/magics/README.md"
			}
		   ],
		   "mimetype": "text/x-octave",
		   "name": "scilab",
		   "version": "0.7.1"
		  }
		 },
		 "nbformat": 4,
		 "nbformat_minor": 0
}
