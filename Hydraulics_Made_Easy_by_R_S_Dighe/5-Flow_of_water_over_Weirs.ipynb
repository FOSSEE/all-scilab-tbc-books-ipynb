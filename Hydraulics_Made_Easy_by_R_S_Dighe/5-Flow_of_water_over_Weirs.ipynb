{
"cells": [
 {
		   "cell_type": "markdown",
	   "metadata": {},
	   "source": [
       "# Chapter 5: Flow of water over Weirs"
	   ]
	},
{
		   "cell_type": "markdown",
		   "metadata": {},
		   "source": [
			"## Example 5.10: example_10.sce"
		   ]
		  },
  {
"cell_type": "code",
	   "execution_count": null,
	   "metadata": {
	    "collapsed": true
	   },
	   "outputs": [],
"source": [
"clc \n",
"//initialisation of variables\n",
"Cd= 0.6\n",
"g= 32.2 //ft/sec^2\n",
"o= 90 //degrees\n",
"H= 2 //ft\n",
"A= 15.2 //ft^2\n",
"//CALCULATIONS\n",
"Q= 8*Cd*sqrt(2*g)*tand(o/2)*H^2.5/15\n",
"va= Q/A\n",
"ha= va^2/(2*g)\n",
"Q1= 8*Cd*sqrt(2*g)*((H+ha)^2.5-ha^2.5)/15\n",
"//RESULTS\n",
"printf ('Discharge of stream= %.1f cuses',Q1)"
   ]
   }
,
{
		   "cell_type": "markdown",
		   "metadata": {},
		   "source": [
			"## Example 5.11: example_11.sce"
		   ]
		  },
  {
"cell_type": "code",
	   "execution_count": null,
	   "metadata": {
	    "collapsed": true
	   },
	   "outputs": [],
"source": [
"clc \n",
"//initialisation of variables\n",
"va= 4 //ft/sec\n",
"g= 32.2 //ft/sec^2\n",
"H= 1.25 \n",
"l= 10 //ft\n",
"w= 62.4 //lbs/ft^3\n",
"p= 60 //per cent\n",
"l1= 90 //ft\n",
"//CALCULATIONS\n",
"ha= va^2/(2*g)\n",
"Q= 3.333*(l-0.1*2*(H+ha))*((H+ha)^1.5-ha^1.5)*w\n",
"E= Q*l1\n",
"HP= E*60/(100*550)\n",
"//RESULTS\n",
"printf ('H.P available= %.1f H.P',HP)"
   ]
   }
,
{
		   "cell_type": "markdown",
		   "metadata": {},
		   "source": [
			"## Example 5.12: example_12.sce"
		   ]
		  },
  {
"cell_type": "code",
	   "execution_count": null,
	   "metadata": {
	    "collapsed": true
	   },
	   "outputs": [],
"source": [
"clc \n",
"//initialisation of variables\n",
"L= 8 //ft\n",
"d= 9 //in\n",
"h= 3 //in\n",
"Cd1= 0.62\n",
"Cd2= 0.62\n",
"g= 32.2 //ft/sec^2\n",
"//CALCULATIONS\n",
"Q1= (2/3)*Cd1*L*sqrt(2*g)*(h/12)^1.5\n",
"Q2= Cd2*L*d*sqrt(2*g*h/12)/12\n",
"Q= Q1+Q2\n",
"//RESULTS\n",
"printf ('Discharge= %.2f cuses',Q)"
   ]
   }
,
{
		   "cell_type": "markdown",
		   "metadata": {},
		   "source": [
			"## Example 5.13: example_13.sce"
		   ]
		  },
  {
"cell_type": "code",
	   "execution_count": null,
	   "metadata": {
	    "collapsed": true
	   },
	   "outputs": [],
"source": [
"clc \n",
"//initialisation of variables\n",
"L= 50 //ft\n",
"d= 2 //ft\n",
"h= 4 //ft\n",
"Cd1= 0.58\n",
"Cd2= 0.8\n",
"g= 32.2 //ft/sec^2\n",
"//CALCULATIONS\n",
"ha= h/(2*g)\n",
"Q1= (2/3)*Cd1*L*sqrt(2*g)*((h+ha)^1.5-ha^1.5)\n",
"Q2= Cd2*L*d*sqrt(2*g*(h+ha))\n",
"Q= Q1+Q2\n",
"//RESULTS\n",
"printf ('Discharge= %.f cuses',Q)"
   ]
   }
,
{
		   "cell_type": "markdown",
		   "metadata": {},
		   "source": [
			"## Example 5.14: example_14.sce"
		   ]
		  },
  {
"cell_type": "code",
	   "execution_count": null,
	   "metadata": {
	    "collapsed": true
	   },
	   "outputs": [],
"source": [
"clc\n",
"//initialisation of variables\n",
"M= 60\n",
"k= 500\n",
"v= 8 //ft/sec\n",
"w= 100 //ft\n",
"h1= 5 //ft\n",
"g= 32.2 //ft/sec^2\n",
"x= 1.95 //ft\n",
"//CALCULATIONS\n",
"Q= k*M^(2/3)\n",
"A= Q/v\n",
"md= A/w\n",
"h= md-h1\n",
"ha= v^2/(2*g)\n",
"H= h+x^2-1+h1-1\n",
"//RESULTS\n",
"printf ('height above the crest of the air = %.2f ft of water',H)"
   ]
   }
,
{
		   "cell_type": "markdown",
		   "metadata": {},
		   "source": [
			"## Example 5.16: example_16.sce"
		   ]
		  },
  {
"cell_type": "code",
	   "execution_count": null,
	   "metadata": {
	    "collapsed": true
	   },
	   "outputs": [],
"source": [
"clc \n",
"//initialisation of variables\n",
"H2= 1.5 //ft\n",
"H1= 1 //ft\n",
"A= 100 //yards^2\n",
"Cd= 0.6\n",
"g= 32.2 //ft/sec^2\n",
"//CALCULATIONS\n",
"A1= A*9\n",
"T= (1.25*A1/(Cd*sqrt(2*g)))*(H1-(1/H2)^1.5)\n",
"//RESULTS\n",
"printf ('time of lowering the surface= %.1f sec',T)"
   ]
   }
,
{
		   "cell_type": "markdown",
		   "metadata": {},
		   "source": [
			"## Example 5.1: chapter_5_example_1.sce"
		   ]
		  },
  {
"cell_type": "code",
	   "execution_count": null,
	   "metadata": {
	    "collapsed": true
	   },
	   "outputs": [],
"source": [
"clc \n",
"//initialisation of variables\n",
"L= 6 //ft\n",
"H= 15 //in\n",
"Cd= 0.62\n",
"g= 32.2 //ft/sec^2\n",
"//CALCULAIONS\n",
"Q= 2*Cd*L*sqrt(2*g)*(H/12)^1.5/3\n",
"//RESULTS\n",
"printf ('Total Discharge= %.1f cuses',Q)"
   ]
   }
,
{
		   "cell_type": "markdown",
		   "metadata": {},
		   "source": [
			"## Example 5.2: example_2.sce"
		   ]
		  },
  {
"cell_type": "code",
	   "execution_count": null,
	   "metadata": {
	    "collapsed": true
	   },
	   "outputs": [],
"source": [
"clc \n",
"//initialisation of variables\n",
"o= 90 //degrees\n",
"H= 15.5 //in\n",
"Cd= 0.6\n",
"g= 32.2 //ft/sec^2\n",
"//CALCULATIONS\n",
"Q= 8*Cd*tand(o/2)*sqrt(2*g)*(H/12)^2.5/15\n",
"//RESULTS\n",
"printf ('Total Discharge= %.2f cuses',Q)"
   ]
   }
,
{
		   "cell_type": "markdown",
		   "metadata": {},
		   "source": [
			"## Example 5.3: chapter_5_example_3.sce"
		   ]
		  },
  {
"cell_type": "code",
	   "execution_count": null,
	   "metadata": {
	    "collapsed": true
	   },
	   "outputs": [],
"source": [
"clc \n",
"//initialisation of variables\n",
"Cd= 0.62\n",
"L= 4 //ft\n",
"g= 32.2 //ft/sec^2\n",
"H= 6 //in\n",
"o= 90 //degrees\n",
"//CALCULATIONS\n",
"Q= Cd*L*sqrt(2*g)*(H/12)^1.5*(2/3)\n",
"H1= (Q*15/(8*Cd*tand(o/2)*sqrt(2*g)))^(2/5)\n",
"//RESULTS\n",
"printf ('depth of water= %.2f ft',H1)"
   ]
   }
,
{
		   "cell_type": "markdown",
		   "metadata": {},
		   "source": [
			"## Example 5.4: chapter_5_example_4.sce"
		   ]
		  },
  {
"cell_type": "code",
	   "execution_count": null,
	   "metadata": {
	    "collapsed": true
	   },
	   "outputs": [],
"source": [
"clc \n",
"//initialisation of variables\n",
"Cd= 0.62\n",
"L= 3 //ft\n",
"g= 32.2 //ft/sec^2\n",
"H= 1 //ft\n",
"L1= 2 //ft\n",
"h= 0.5 //ft\n",
"L2= 1 //ft\n",
"h1= 0.25 //ft\n",
"//CALCULATIONS\n",
"Q= 2*Cd*L*sqrt(2*g)*H^1.5/3\n",
"Q1=2*Cd*L1*sqrt(2*g)*((H+h)^1.5- H^1.5)/3\n",
"Q2= 2*Cd*L2*sqrt(2*g)*((H+h+h1)^1.5- (H+h)^1.5)/3\n",
"Q3= Q1+Q2+Q\n",
"//RESULTS\n",
"printf ('Total Discharge= %.2f cuses',Q3)"
   ]
   }
,
{
		   "cell_type": "markdown",
		   "metadata": {},
		   "source": [
			"## Example 5.5: chapter_5_example_5.sce"
		   ]
		  },
  {
"cell_type": "code",
	   "execution_count": null,
	   "metadata": {
	    "collapsed": true
	   },
	   "outputs": [],
"source": [
"clc \n",
"//initialisation of variables\n",
"h= 9 //in\n",
"l= 6 //ft\n",
"g= 32.2 //ft/sec^2\n",
"//CALCULATIONS\n",
"H= h/12\n",
"Q= sqrt(2*g)*l*(H/12)^1.5*(0.405+(0.00984/0.75))\n",
"Q1= 3.33*l*H^1.5\n",
"//RESULTS\n",
"printf ('Discharge by francis formula= %.2f cuses',Q1)"
   ]
   }
,
{
		   "cell_type": "markdown",
		   "metadata": {},
		   "source": [
			"## Example 5.6: chapter_5_example_6.sce"
		   ]
		  },
  {
"cell_type": "code",
	   "execution_count": null,
	   "metadata": {
	    "collapsed": true
	   },
	   "outputs": [],
"source": [
"clc \n",
"//initialisation of variables\n",
"l= 24 //ft\n",
"n= 5 //parts\n",
"h= 2 //ft\n",
"w= 1//ft\n",
"n1= 4\n",
"c= 10\n",
"//CALCULATIONS\n",
"Q= 3.33*((l-n1)-0.1*c*h)*h^1.5\n",
"//RESULTS\n",
"printf ('Discharge= %.1f cuses',Q)"
   ]
   }
,
{
		   "cell_type": "markdown",
		   "metadata": {},
		   "source": [
			"## Example 5.7: chapter_5_example_7.sce"
		   ]
		  },
  {
"cell_type": "code",
	   "execution_count": null,
	   "metadata": {
	    "collapsed": true
	   },
	   "outputs": [],
"source": [
"clc \n",
"//initialisation of variables\n",
"A= 25 //miles^2\n",
"t= 24 //hr\n",
"p= 50 //per cent\n",
"l= 3 //in\n",
"h= 4 //ft\n",
"//CALCULATIONS\n",
"A1= 5280^2*A\n",
"V= A1*l/12\n",
"V1= V/(t*60*60)\n",
"V2= V1/2\n",
"L= (V2/(3.33*h*2))+0.2*4\n",
"//RESULTS\n",
"printf ('length of weir= %.1f ft',L)"
   ]
   }
,
{
		   "cell_type": "markdown",
		   "metadata": {},
		   "source": [
			"## Example 5.8: example_1.sce"
		   ]
		  },
  {
"cell_type": "code",
	   "execution_count": null,
	   "metadata": {
	    "collapsed": true
	   },
	   "outputs": [],
"source": [
"clc \n",
"//initialisation of variables\n",
"h= 4 //ft\n",
"w= 5 //ft\n",
"l= 2 //ft\n",
"Q1= 1008.5 //cuses\n",
"n= 8 //piers\n",
"//CALCULATIONS\n",
"Q= 3.33*(w-0.2*h)*h^1.5\n",
"n1= Q1/Q\n",
"L= n*l+w*n1\n",
"//RESULTS\n",
"printf ('length of weir= %.f ft',L)"
   ]
   }
,
{
		   "cell_type": "markdown",
		   "metadata": {},
		   "source": [
			"## Example 5.9: example_9.sce"
		   ]
		  },
  {
"cell_type": "code",
	   "execution_count": null,
	   "metadata": {
	    "collapsed": true
	   },
	   "outputs": [],
"source": [
"\n",
"\n",
"clc\n",
"//initialisation of variables\n",
"clear\n",
"k= 3.33\n",
"l= 10 //ft\n",
"x= 2 //ft\n",
"A= 30 //ft^2\n",
"g= 32.2 //ft/sec^2\n",
"//CALCULATIONS\n",
"Q= k*(l-0.2*x)*x^1.5\n",
"V= Q/A\n",
"h= V^2/(2*g)\n",
"Q1= k*(l-0.2*(x+h))*((x+h)^1.5-h^1.5)\n",
"va= Q1/A\n",
"ha= va^2/(2*g)\n",
"Q2=  k*(l-0.2*(x+ha))*((x+ha)^1.5-ha^1.5)\n",
"//RESULTS\n",
"//RESULTS\n",
"printf ('Discharge in franccis formula= %.2f cusecs',Q1)\n",
"printf ('\n Discharge in corrected franccis formula= %.2f cusecs',Q2)"
   ]
   }
],
"metadata": {
		  "kernelspec": {
		   "display_name": "Scilab",
		   "language": "scilab",
		   "name": "scilab"
		  },
		  "language_info": {
		   "file_extension": ".sce",
		   "help_links": [
			{
			 "text": "MetaKernel Magics",
			 "url": "https://github.com/calysto/metakernel/blob/master/metakernel/magics/README.md"
			}
		   ],
		   "mimetype": "text/x-octave",
		   "name": "scilab",
		   "version": "0.7.1"
		  }
		 },
		 "nbformat": 4,
		 "nbformat_minor": 0
}
