{
"cells": [
 {
		   "cell_type": "markdown",
	   "metadata": {},
	   "source": [
       "# Chapter 3: Flow of Water"
	   ]
	},
{
		   "cell_type": "markdown",
		   "metadata": {},
		   "source": [
			"## Example 3.10: example_10.sce"
		   ]
		  },
  {
"cell_type": "code",
	   "execution_count": null,
	   "metadata": {
	    "collapsed": true
	   },
	   "outputs": [],
"source": [
"\n",
"clc \n",
"//initialisation of variables\n",
"d= 1 //ft\n",
"h= 4 //ft\n",
"h1= 3 //ft\n",
"p= 25 //percent\n",
"g= 32.2 //ft/sec^2\n",
"//CALCULATIONS\n",
"h2= ((h/4)-(h1/4))*h*2\n",
"w= sqrt(h2*2*g/(d/2)^2)\n",
"N= w*60/(2*%pi)\n",
"h3= (h-h1^2/4)*2\n",
"w1= sqrt(h3*2*g/(d/2)^2)\n",
"N1= w1*60/(2*%pi)\n",
"//RESULTS\n",
"printf ('original volume= %.1f R.P.M ',N1)"
   ]
   }
,
{
		   "cell_type": "markdown",
		   "metadata": {},
		   "source": [
			"## Example 3.12: example_12.sce"
		   ]
		  },
  {
"cell_type": "code",
	   "execution_count": null,
	   "metadata": {
	    "collapsed": true
	   },
	   "outputs": [],
"source": [
"clc \n",
"//initialisation of variables\n",
"R2= 2 //ft\n",
"R1= 1 //ft\n",
"w= 200 //r.p.m\n",
"g= 32.2 //ft/sec^2\n",
"//CALCULATIONS\n",
"v2= R2*%pi*w*R2/60\n",
"v1= R2*%pi*w*R1/60\n",
"H= (v2^2-v1^2)/(2*g)\n",
"//RESULTS\n",
"printf ('centrifugal head= %.1f ft of watrer ',H)"
   ]
   }
,
{
		   "cell_type": "markdown",
		   "metadata": {},
		   "source": [
			"## Example 3.1: example_1.sce"
		   ]
		  },
  {
"cell_type": "code",
	   "execution_count": null,
	   "metadata": {
	    "collapsed": true
	   },
	   "outputs": [],
"source": [
"clc \n",
"//initialisation of variables\n",
"d1= 1 //ft\n",
"d2= 6 //in\n",
"h1= 5 //ft\n",
"h2= 15 //ft\n",
"Pa= 15 //lbs\n",
"v1= 10 //ft/sec\n",
"w= 62.4 //lbs/ft^3\n",
"g= 32.2 //ft/sec^2\n",
"//CALCULATIONS\n",
"v2= v1/(d2/12)^2\n",
"Pb= (w*((Pa+(Pa*144/w)+(v1^2/(2*g)))-h1-(v2^2/(2*g))))/144\n",
"//RESULTS\n",
"printf ('Pb= %.2f lbs/in^2 ',Pb)  "
   ]
   }
,
{
		   "cell_type": "markdown",
		   "metadata": {},
		   "source": [
			"## Example 3.2: example_2.sce"
		   ]
		  },
  {
"cell_type": "code",
	   "execution_count": null,
	   "metadata": {
	    "collapsed": true
	   },
	   "outputs": [],
"source": [
"clc \n",
"//initialisation of variables\n",
"d1= 4 //ft\n",
"d2= 2 //ft\n",
"h1= 50 //ft\n",
"h2= 45 //ft\n",
"g= 32.2 //ft/sec^2\n",
"//CALCULATIONS\n",
"r= (d1^2/d2^2)\n",
"v1= sqrt((h1-h2)*2*g/(r^2-1))\n",
"Q= v1*%pi*d1^2/4\n",
"//RESULTS\n",
"printf ('discharge through pipe= %.2f cubic feet per second ',Q)"
   ]
   }
,
{
		   "cell_type": "markdown",
		   "metadata": {},
		   "source": [
			"## Example 3.3: example_3.sce"
		   ]
		  },
  {
"cell_type": "code",
	   "execution_count": null,
	   "metadata": {
	    "collapsed": true
	   },
	   "outputs": [],
"source": [
"\n",
"clc\n",
"//initialisation of variables\n",
"z1= 10 ///m\n",
"h1= 10 //m\n",
"v1= 12 //ft/sec\n",
"v2= 4 //m/sec\n",
"k= 0.6\n",
"w= 62.4 //lb/in^2\n",
"g= 32.2 //ft/sec^2\n",
"//CALCULATIONS\n",
"p= (w/144)*(z1+h1+(v1^2/(2*g))-(v2^2/(2*g))-(k*(v1-v2)^2/(2*g)))\n",
"//RESULTS\n",
"printf ('pressure at bottom end = %.2f lb/in^2',p)"
   ]
   }
,
{
		   "cell_type": "markdown",
		   "metadata": {},
		   "source": [
			"## Example 3.4: example_4.sce"
		   ]
		  },
  {
"cell_type": "code",
	   "execution_count": null,
	   "metadata": {
	    "collapsed": true
	   },
	   "outputs": [],
"source": [
"clc \n",
"//initialisation of variables\n",
"d= 4 //ft\n",
"d1= 5/4 //ft\n",
"g= 32.2 //ft/sec^2\n",
"h= 3 //ft\n",
"K= 1\n",
"//CALCULATIONS\n",
"C= (%pi/4)*d^2*sqrt(2*g)/(sqrt((d^2/d1^2)^2-1))\n",
"Q= K*sqrt(h)*C\n",
"V= Q/(%pi*d1^2/4)\n",
"//RESULTS\n",
"printf ('Velocity at the throat= %.2f ft/sec ',V)"
   ]
   }
,
{
		   "cell_type": "markdown",
		   "metadata": {},
		   "source": [
			"## Example 3.5: example_5.sce"
		   ]
		  },
  {
"cell_type": "code",
	   "execution_count": null,
	   "metadata": {
	    "collapsed": true
	   },
	   "outputs": [],
"source": [
"clc \n",
"//initialisation of variables\n",
"d= 9 //in\n",
"d1= 4 //in\n",
"g= 32.2 //ft/sec^2\n",
"dh= 10 //in\n",
"sg= 13.6 \n",
"K= 1\n",
"//CALCULATIONS\n",
"C= (((%pi/4)^2*(d*d1)^2*sqrt(2*g)/144^2)/(sqrt((%pi*d^2/12^2)^2-(%pi*d1^2/12^2)^2)))+0.52\n",
"h= (sg-1)*dh/12\n",
"Q= K*C*sqrt(h)\n",
"//RESULTS\n",
"printf ('Discharge passing through the pipe= %.2f cuses ',Q)"
   ]
   }
,
{
		   "cell_type": "markdown",
		   "metadata": {},
		   "source": [
			"## Example 3.6: example_6.sce"
		   ]
		  },
  {
"cell_type": "code",
	   "execution_count": null,
	   "metadata": {
	    "collapsed": true
	   },
	   "outputs": [],
"source": [
"clc \n",
"//initialisation of variables\n",
"sm= 13.6\n",
"so= 0.8\n",
"di= 8 //in\n",
"dt= 4 //in\n",
"K= 0.98\n",
"v= 1//ft\n",
"g= 32.2 //ft/sec^2\n",
"//CALCULATIONS\n",
"s= sm/so\n",
"dp= v*12*(s-1)/12\n",
"A= %pi*(di/12)^2/4\n",
"At= %pi*(dt/12)^2/4\n",
"C= A*sqrt(2*g)/(sqrt((A/At)^2-1))\n",
"Q= C*sqrt(v*12+dt)*K\n",
"//RESULTS\n",
"printf ('Discharge passing through the pipe= %.2f cuses ',Q)"
   ]
   }
,
{
		   "cell_type": "markdown",
		   "metadata": {},
		   "source": [
			"## Example 3.7: example_7.sce"
		   ]
		  },
  {
"cell_type": "code",
	   "execution_count": null,
	   "metadata": {
	    "collapsed": true
	   },
	   "outputs": [],
"source": [
"clc \n",
"//initialisation of variables\n",
"s= 1/10\n",
"d1= 6 //in\n",
"d2= 2 //in\n",
"l= 20 //in\n",
"p= 15 //lbs/in^2\n",
"p1= 6 //lbs/in^2\n",
"K= 0.95\n",
"g= 32.2 //ft/sec^2\n",
"//CALCULATIONS\n",
"H= (l*s/12)-(p1*144/(2*g))+(p*144/(2*g))\n",
"C= sqrt(2*g)*(%pi*(d1/12)^2)/(4*(sqrt((d1^2/d2^2)^2-1)))\n",
"Q= C*K*sqrt(H)*374.7\n",
"//RESULTS\n",
"printf ('Discharge passing through the pipe= %.f Gallons/minute ',Q)"
   ]
   }
,
{
		   "cell_type": "markdown",
		   "metadata": {},
		   "source": [
			"## Example 3.8: example_8.sce"
		   ]
		  },
  {
"cell_type": "code",
	   "execution_count": null,
	   "metadata": {
	    "collapsed": true
	   },
	   "outputs": [],
"source": [
"clc \n",
"//initialisation of variables\n",
"d1= 12 //in\n",
"Q= 4.25 //ft^3/sec\n",
"h= 18 //ft\n",
"K= 0.98\n",
"g= 32.2 //ft/sec^2\n",
"sm= 13.6\n",
"//CALCULATIONS\n",
"R= sqrt((K*sqrt(2*g)*sqrt(h)*(%pi*(d1/12)^2/4)/Q)+1)\n",
"d2= sqrt(d1^2/(144*R))\n",
"dh= (sm-1)*(h/(12*2))\n",
"d3= Q*sqrt(dh/h)\n",
"//RESULTS\n",
"printf ('Diameter of the throat= %.2f ft ',d3)"
   ]
   }
,
{
		   "cell_type": "markdown",
		   "metadata": {},
		   "source": [
			"## Example 3.9: example_9.sce"
		   ]
		  },
  {
"cell_type": "code",
	   "execution_count": null,
	   "metadata": {
	    "collapsed": true
	   },
	   "outputs": [],
"source": [
"clc\n",
"//initialisation of variables\n",
"clear\n",
"R= 4 //in\n",
"r= 0.5 //in\n",
"c= 0.007\n",
"K= 33.96\n",
"w= 62.4 //lb/ft^3\n",
"pa= 12.13 //lb/in^2\n",
"pb= 14.7 //lb/in^2\n",
"w1= 2.5 //lbs\n",
"Q= 40 //gals/min\n",
"h= 1.86\n",
"//CALCULATIONS\n",
"va= Q*4*(2*r*12)^2/(6*w*%pi)\n",
"vb= Q*(2*r*12)^2/(6*w*2*R*%pi*0.32)\n",
"vx= vb*R/2\n",
"pu= 2*%pi*w*h\n",
"pd= pb*%pi*R^2\n",
"RP= pb*%pi*R^2-2*%pi*w*(0.5*K*((R/12)^2-(r/12)^2)-c*log(R/r))-pa*%pi*r^2+w1\n",
"//RESULTS\n",
"printf ('velocity = %.1f ft/sec',va)\n",
"printf ('\n velocity = %.2f ft/sec',vb)\n",
"printf ('\n velocity = %.2f ft/sec',vx)\n",
"printf ('\n  pressure = %.1f lbs/in^2',pb)\n",
"printf ('\n  upward pressure = %.1f lbs',pu)\n",
"printf ('\n  downward pressure = %.1f lbs',pd)\n",
"printf ('\n Resultant pressure = %.1f lbs',RP)"
   ]
   }
],
"metadata": {
		  "kernelspec": {
		   "display_name": "Scilab",
		   "language": "scilab",
		   "name": "scilab"
		  },
		  "language_info": {
		   "file_extension": ".sce",
		   "help_links": [
			{
			 "text": "MetaKernel Magics",
			 "url": "https://github.com/calysto/metakernel/blob/master/metakernel/magics/README.md"
			}
		   ],
		   "mimetype": "text/x-octave",
		   "name": "scilab",
		   "version": "0.7.1"
		  }
		 },
		 "nbformat": 4,
		 "nbformat_minor": 0
}
