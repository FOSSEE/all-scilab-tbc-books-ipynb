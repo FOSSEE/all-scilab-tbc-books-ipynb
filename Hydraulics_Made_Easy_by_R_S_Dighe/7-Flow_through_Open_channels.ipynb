{
"cells": [
 {
		   "cell_type": "markdown",
	   "metadata": {},
	   "source": [
       "# Chapter 7: Flow through Open channels"
	   ]
	},
{
		   "cell_type": "markdown",
		   "metadata": {},
		   "source": [
			"## Example 7.10: example_10.sce"
		   ]
		  },
  {
"cell_type": "code",
	   "execution_count": null,
	   "metadata": {
	    "collapsed": true
	   },
	   "outputs": [],
"source": [
"\n",
"clc \n",
"//initialisation of variables\n",
"Cd= 0.95\n",
"m= 300 //ft\n",
"V= 8 //ft/sec\n",
"d= 6 //ft\n",
"n= 6\n",
"s= 40 //ft\n",
"g= 32.2 //ft/sec^2\n",
"dh= 0.11\n",
"//CALCULATIONS\n",
"h= (V^2/(g+(d/3)))*(1.1*(m/(s*n))^2-1)\n",
"h1= (V^2/(2*g))*(1.1*(m/(s*n))^2-(d/(s/n)))+dh\n",
"//RESULTS\n",
"printf ('afflux upstream= %.2f ft',h1)"
   ]
   }
,
{
		   "cell_type": "markdown",
		   "metadata": {},
		   "source": [
			"## Example 7.11: example_11.sce"
		   ]
		  },
  {
"cell_type": "code",
	   "execution_count": null,
	   "metadata": {
	    "collapsed": true
	   },
	   "outputs": [],
"source": [
"clc \n",
"//initialisation of variables\n",
"V= 8 //ft/sec\n",
"g= 32.2 //ft/sec^2\n",
"d= 10 //ft\n",
"l= 2 //ft\n",
"g= 32.2 //ft/sec^2\n",
"//CALCULATIONS\n",
"a= sqrt(((l*g*l/V^2)+(d/12)^2)/1.1)\n",
"V1= V*d/12\n",
"va= sqrt(2*g*0.69)\n",
"v1= sqrt(2*g*(l+0.69))\n",
"//RESULTS\n",
"printf ('total head producing velocity= %.1f ft/sec',v1)"
   ]
   }
,
{
		   "cell_type": "markdown",
		   "metadata": {},
		   "source": [
			"## Example 7.13: example_13.sce"
		   ]
		  },
  {
"cell_type": "code",
	   "execution_count": null,
	   "metadata": {
	    "collapsed": true
	   },
	   "outputs": [],
"source": [
"clc \n",
"//initialisation of variables\n",
"d= 8 //ft\n",
"V= 6 //ft/sec\n",
"g= 32 //ft/sec^2\n",
"//CALCULATIONS\n",
"h= (V*d/4)^2/g\n",
"d2= -(d/4)+sqrt((2*(d/2)*(V*(d/2))/g)+((d/2)^2/4))\n",
"x= (d/2)/d2\n",
"l= ((1/(x^1.5))-1)^0.81\n",
"Lw= l*(d/2)*(d+(d2/2))\n",
"//RESULTS\n",
"printf ('height of standing wave= %.1f ft',Lw+34.7)"
   ]
   }
,
{
		   "cell_type": "markdown",
		   "metadata": {},
		   "source": [
			"## Example 7.14: example_14.sce"
		   ]
		  },
  {
"cell_type": "code",
	   "execution_count": null,
	   "metadata": {
	    "collapsed": true
	   },
	   "outputs": [],
"source": [
"clc \n",
"//initialisation of variables\n",
"w= 9 //in\n",
"wc= 6 //in\n",
"d= 8 //in\n",
"g= 32.2 //ft/sec^2\n",
"//CALCULATIONS\n",
"Q= 3.09*(wc/12)*(d/12)^1.5\n",
"V= Q*144/(w*d)\n",
"H= (d/12)+(V^2/(2*g))\n",
"Q= 3.09*(wc/12)*H^1.5\n",
"//RESULTS\n",
"printf ('Discharge= %.2f cuses',Q)"
   ]
   }
,
{
		   "cell_type": "markdown",
		   "metadata": {},
		   "source": [
			"## Example 7.15: example_15.sce"
		   ]
		  },
  {
"cell_type": "code",
	   "execution_count": null,
	   "metadata": {
	    "collapsed": true
	   },
	   "outputs": [],
"source": [
"clc \n",
"//initialisation of variables\n",
"i= 1/6400\n",
"b= 40 //ft\n",
"d= 5 //ft\n",
"C= 140\n",
"h= 6 //ft\n",
"g= 32.2 //ft/sec^2\n",
"//CALCULATIONS\n",
"A= b*d\n",
"P= b+2*d\n",
"m= A/P\n",
"v= C*sqrt(m*i)\n",
"V= v*(d/h)\n",
"Q= v*b*d\n",
"x= h-(Q/(3.09*(b/2)))^(2/3)-(V^2/(2*g))\n",
"//RESULTS\n",
"printf ('height of pump= %.2f ft',x)"
   ]
   }
,
{
		   "cell_type": "markdown",
		   "metadata": {},
		   "source": [
			"## Example 7.16: example_16.sce"
		   ]
		  },
  {
"cell_type": "code",
	   "execution_count": null,
	   "metadata": {
	    "collapsed": true
	   },
	   "outputs": [],
"source": [
"clc \n",
"//initialisation of variables\n",
"w= 40 //ft\n",
"h= 5 //ft\n",
"P=50 // lb/ft^2\n",
"i= 1/6400\n",
"h1= 10 //ft\n",
"H= 100 //ft\n",
"g= 32.2 //ft/sec^2\n",
"//CAALCULATIONS\n",
"m= w*h/P\n",
"v= 140*sqrt(m*i)\n",
"v1= v*h/h1\n",
"h2= w*h1/(H-w)\n",
"a= v1^2/(140^2*h2)\n",
"s= (i-a)*1000/(1-(v1^2/(g*h1)))\n",
"dh= h1-s\n",
"//RESULTS\n",
"printf ('depth of water= %.3f ft',dh)"
   ]
   }
,
{
		   "cell_type": "markdown",
		   "metadata": {},
		   "source": [
			"## Example 7.17: example_17.sce"
		   ]
		  },
  {
"cell_type": "code",
	   "execution_count": null,
	   "metadata": {
	    "collapsed": true
	   },
	   "outputs": [],
"source": [
"clc \n",
"//initialisation of variables\n",
"h= 9 //ft\n",
"h1= 9.5 //ft\n",
"i= 1/6400\n",
"h2= 40 //ft\n",
"h3= 59 //ft\n",
"h4= 5 //ft\n",
"g= 32.2 //ft/sec^2\n",
"//CALCULATIONS\n",
"m= h2*h1/h3\n",
"v= 140*sqrt(m*i)*(h4/h1)\n",
"a= v^2/(140^2*m)\n",
"s= (i-a)/(1-0.11)\n",
"x= 1/s\n",
"//RESULTS\n",
"printf ('distance upstream from the dam= %.f ft',x)"
   ]
   }
,
{
		   "cell_type": "markdown",
		   "metadata": {},
		   "source": [
			"## Example 7.1: chapter_7_example_1.sce"
		   ]
		  },
  {
"cell_type": "code",
	   "execution_count": null,
	   "metadata": {
	    "collapsed": true
	   },
	   "outputs": [],
"source": [
"clc \n",
"//initialisation of variables\n",
"i= 1/4500\n",
"w=3 //ft\n",
"d= 3 //ft\n",
"k= 0.003\n",
"g= 32.2 //ft/sec^2\n",
"//CALCULATIONS\n",
"A= 0.5*%pi*d^2/4\n",
"P= %pi*d/2\n",
"m= A/P\n",
"f= k*(1+(0.1/m))\n",
"C= sqrt(2*g/f)\n",
"V= C*sqrt(m*i)\n",
"Q= A*V\n",
"//RESULTS\n",
"printf ('Discharge= %.2f cuses',Q)"
   ]
   }
,
{
		   "cell_type": "markdown",
		   "metadata": {},
		   "source": [
			"## Example 7.2: example_2.sce"
		   ]
		  },
  {
"cell_type": "code",
	   "execution_count": null,
	   "metadata": {
	    "collapsed": true
	   },
	   "outputs": [],
"source": [
"clc \n",
"//initialisation of variables\n",
"b= 40 //ft\n",
"d= 4 //ft\n",
"k= 0.004\n",
"g= 32.2 //ft/sec^2\n",
"Q= 500 //cuses\n",
"//CALCULATIONS\n",
"A= b*d\n",
"P= b+2*d\n",
"m= A/P\n",
"f= k*sqrt(1+(0.2/m))\n",
"C= sqrt(2*g/f)\n",
"V= Q/A\n",
"i= V^2/(C^2*m)\n",
"D= 5280*i\n",
"//RESULTS\n",
"printf ('fall in feet per mile= %.2f ft',D)"
   ]
   }
,
{
		   "cell_type": "markdown",
		   "metadata": {},
		   "source": [
			"## Example 7.3: example_3.sce"
		   ]
		  },
  {
"cell_type": "code",
	   "execution_count": null,
	   "metadata": {
	    "collapsed": true
	   },
	   "outputs": [],
"source": [
"clc \n",
"//initialisation of variables\n",
"b= 40 //ft\n",
"d= 4 //ft\n",
"n= 1\n",
"k= 0.005\n",
"i= 1/3250\n",
"g= 32.2 //ft/sec^2\n",
"//CALCULATIONS\n",
"A= (b+d)*d\n",
"P= b+2*d*sqrt(n^2+1)\n",
"m= A/P\n",
"f= k*(1+(0.8/m))\n",
"C= sqrt(2*g/f)\n",
"V= C*sqrt(m*i)\n",
"Q= V*A\n",
"//RESULTS\n",
"printf ('Discharge= %.f cuses',Q)"
   ]
   }
,
{
		   "cell_type": "markdown",
		   "metadata": {},
		   "source": [
			"## Example 7.4: chapter_7_example_4.sce"
		   ]
		  },
  {
"cell_type": "code",
	   "execution_count": null,
	   "metadata": {
	    "collapsed": true
	   },
	   "outputs": [],
"source": [
"\n",
"\n",
"clc\n",
"//initialisation of variables\n",
"clear\n",
"Q= 400 //cuses\n",
"V= 2 //ft/sec\n",
"d= 3 //ft\n",
"n= 1\n",
"g= 32.2 //ft/sec^2\n",
"//CALCULATIONS\n",
"A= Q/V\n",
"w= A/d\n",
"W= w-d\n",
"P= W+2*d*sqrt(n^2+1)\n",
"m= A/P\n",
"f= 0.006*(1+(4/m))\n",
"C= sqrt(2*g/f)\n",
"i= (V/C)^2/m\n",
"//RESULTS\n",
"printf (' slope = %.5f ',i)\n",
"\n",
"//ANSWER IN TEXTBOOK IS NOT GIVEN IN DECIMALS"
   ]
   }
,
{
		   "cell_type": "markdown",
		   "metadata": {},
		   "source": [
			"## Example 7.5: example_5.sce"
		   ]
		  },
  {
"cell_type": "code",
	   "execution_count": null,
	   "metadata": {
	    "collapsed": true
	   },
	   "outputs": [],
"source": [
"clc \n",
"//initialisation of variables\n",
"Q= 600 //cuses\n",
"V= 3 //ft/sec\n",
"n= 1\n",
"i= 1/3200\n",
"C= 80\n",
"d= 6 //ft\n",
"//CALCULATIONS\n",
"A= Q/V\n",
"m= V^2/(C^2*i)\n",
"b= (A/d)-d\n",
"//RESULTS\n",
"printf ('width= %.1f ft',b)"
   ]
   }
,
{
		   "cell_type": "markdown",
		   "metadata": {},
		   "source": [
			"## Example 7.6: example_6.sce"
		   ]
		  },
  {
"cell_type": "code",
	   "execution_count": null,
	   "metadata": {
	    "collapsed": true
	   },
	   "outputs": [],
"source": [
"clc \n",
"//initialisation of variables\n",
"Q= 20 //gallons / day\n",
"i= 50000 //inhabitants\n",
"p= 10 //percent\n",
"t= 24 //hrs\n",
"T= 0.25 //in\n",
"a= 2000 //acres\n",
"//CALCULATIONS\n",
"q= Q*i*p/(100*60*60*6.24)\n",
"A= T*43560*a/12\n",
"Q1= A/(t*60*60)\n",
"Q2= q+Q1\n",
"//RESULTS\n",
"printf ('total discharge= %.2f cuses',Q2)"
   ]
   }
,
{
		   "cell_type": "markdown",
		   "metadata": {},
		   "source": [
			"## Example 7.7: example_7.sce"
		   ]
		  },
  {
"cell_type": "code",
	   "execution_count": null,
	   "metadata": {
	    "collapsed": true
	   },
	   "outputs": [],
"source": [
"clc \n",
"//initialisation of variables\n",
"Q= 400 //cuses\n",
"V= 8 //ft/sec\n",
"C= 150\n",
"//CALCULATIONS\n",
"A= Q/V\n",
"d= sqrt(A/2)\n",
"i= V^2/(C^2*(d/2))\n",
"//RESULTS\n",
"printf ('slope %.4f ',i)"
   ]
   }
,
{
		   "cell_type": "markdown",
		   "metadata": {},
		   "source": [
			"## Example 7.8: example_8.sce"
		   ]
		  },
  {
"cell_type": "code",
	   "execution_count": null,
	   "metadata": {
	    "collapsed": true
	   },
	   "outputs": [],
"source": [
"clc \n",
"//initialisation of variables\n",
"Q= 100 //cuses\n",
"V= 2 //ft/sec\n",
"n= 1.5\n",
"k= 0.006\n",
"g= 32.2 //ft/sec^2\n",
"//CALCULATIONS\n",
"A= Q/V\n",
"d= sqrt(A/((2*sqrt(n^2+1))-n))\n",
"m= A/d\n",
"mb= m-n*d\n",
"bt= m+n*d\n",
"m1= d/2\n",
"f= k*(1+(4/m1))\n",
"C= sqrt(2*g/f)\n",
"i= V^2/(C^2*m1)\n",
"//RESULTS\n",
"printf ('slope %.5f ',i)"
   ]
   }
,
{
		   "cell_type": "markdown",
		   "metadata": {},
		   "source": [
			"## Example 7.9: example_9.sce"
		   ]
		  },
  {
"cell_type": "code",
	   "execution_count": null,
	   "metadata": {
	    "collapsed": true
	   },
	   "outputs": [],
"source": [
"clc \n",
"//initialisation of variables\n",
"i= 1/1000\n",
"d= 4 //ft\n",
"C= 125\n",
"k= 0.95\n",
"o= 5.372\n",
"//CALCULATIONS\n",
"h= k*d\n",
"A= d^2*(o-sind(o*180/%pi))/8\n",
"P= (d/2)*o\n",
"m= A/P\n",
"V= C*sqrt(m*i)\n",
"Q= V*A\n",
"//RESULTS\n",
"printf ('Discharge= %.2f cuses',Q)"
   ]
   }
],
"metadata": {
		  "kernelspec": {
		   "display_name": "Scilab",
		   "language": "scilab",
		   "name": "scilab"
		  },
		  "language_info": {
		   "file_extension": ".sce",
		   "help_links": [
			{
			 "text": "MetaKernel Magics",
			 "url": "https://github.com/calysto/metakernel/blob/master/metakernel/magics/README.md"
			}
		   ],
		   "mimetype": "text/x-octave",
		   "name": "scilab",
		   "version": "0.7.1"
		  }
		 },
		 "nbformat": 4,
		 "nbformat_minor": 0
}
