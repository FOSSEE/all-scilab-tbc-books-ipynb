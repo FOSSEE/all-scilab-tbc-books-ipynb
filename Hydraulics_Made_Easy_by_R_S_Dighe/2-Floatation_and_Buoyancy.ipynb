{
"cells": [
 {
		   "cell_type": "markdown",
	   "metadata": {},
	   "source": [
       "# Chapter 2: Floatation and Buoyancy"
	   ]
	},
{
		   "cell_type": "markdown",
		   "metadata": {},
		   "source": [
			"## Example 2.10: example_10.sce"
		   ]
		  },
  {
"cell_type": "code",
	   "execution_count": null,
	   "metadata": {
	    "collapsed": true
	   },
	   "outputs": [],
"source": [
"clc \n",
"//initialisation of variables\n",
"l= 91 //ft\n",
"w= 30 //ft\n",
"h= 6 //ft\n",
"W= 40 //tons\n",
"a= 3 //degrees\n",
"cg= 3 //ft\n",
"d= 4 //ft\n",
"W1= 60 //tons\n",
"cg1= 1 //ft\n",
"//CALCULATIONS\n",
"W2= (l*w*d*64/2240)-W1\n",
"y= (W2*(h/2)+W1*(cg+d))/(l*w*d*64/2240)\n",
"BG= y-(d/2)\n",
"BM= l*w^3/(12*l*w*d)\n",
"GM= BM-BG\n",
"dx= GM*l*w*d*64*tand(a)/(60*2240)\n",
"//RESULTS\n",
"printf ('maximum distance through which the load can be shifted= %.1f ft ',dx)"
   ]
   }
,
{
		   "cell_type": "markdown",
		   "metadata": {},
		   "source": [
			"## Example 2.11: example_11.sce"
		   ]
		  },
  {
"cell_type": "code",
	   "execution_count": null,
	   "metadata": {
	    "collapsed": true
	   },
	   "outputs": [],
"source": [
"clc \n",
"//initialisation of variables\n",
"W= 5000 //tons\n",
"I= 1.4*10^6 //ft^4\n",
"k= 12.2 //ft\n",
"BG= 6.5 //ft\n",
"//CALCULATIONS\n",
"BM= I*64/(W*2240)\n",
"GM= BM-BG\n",
"T= 2*%pi*sqrt(k^2/(GM*32.2))\n",
"//RESULTS\n",
"printf ('period of oscialltion= %.2f sec ',T) "
   ]
   }
,
{
		   "cell_type": "markdown",
		   "metadata": {},
		   "source": [
			"## Example 2.1: example_1.sce"
		   ]
		  },
  {
"cell_type": "code",
	   "execution_count": null,
	   "metadata": {
	    "collapsed": true
	   },
	   "outputs": [],
"source": [
"clc \n",
"//initialisation of variables\n",
"l= 60 //ft\n",
"w= 10 //ft\n",
"h= 5 //ft\n",
"t= 3/16 //in\n",
"sp = 7.75\n",
"H= 4 //ft\n",
"w1= 62.4 //lb/ft^3\n",
"y= 4 //ft\n",
"//CALCULATIONS\n",
"V= (l*w+2*w*h+2*l*h)*t/12\n",
"W= V*w1*sp\n",
"x= W/(w1*l*w)\n",
"W1= H*l*w*w1\n",
"dW= (W1-W)/2238\n",
"//RESULTS\n",
"printf ('weight of water displaced= %.1f tons',dW)"
   ]
   }
,
{
		   "cell_type": "markdown",
		   "metadata": {},
		   "source": [
			"## Example 2.3: example_3.sce"
		   ]
		  },
  {
"cell_type": "code",
	   "execution_count": null,
	   "metadata": {
	    "collapsed": true
	   },
	   "outputs": [],
"source": [
"\n",
"clc \n",
"//initialisation of variables\n",
"D= 64 //lb/ft^3\n",
"d= 6 //ft\n",
"l= 10 //ft\n",
"W= 2 //tons\n",
"//CALCULATIONS\n",
"V= W*2240/D\n",
"h= V/(%pi*d^2/4)\n",
"BM= d^2/(16*h)\n",
"P= -(sqrt(64*BM*2*10*%pi*(22400-%pi*d^4))-W*22400)/10\n",
"//RESULTS\n",
"printf ('Minimum pull required= %.f lbs ',P+3) "
   ]
   }
,
{
		   "cell_type": "markdown",
		   "metadata": {},
		   "source": [
			"## Example 2.4: example_4.sce"
		   ]
		  },
  {
"cell_type": "code",
	   "execution_count": null,
	   "metadata": {
	    "collapsed": true
	   },
	   "outputs": [],
"source": [
"clc \n",
"//initialisation of variables\n",
"sg= 7\n",
"sg1= 5\n",
"d= 8 //in\n",
"t= 1 //in\n",
"//CALCULATIONS\n",
"x= (sg+sg1)+sqrt(d*(sg*(sg1+t)+1))\n",
"//RESULTS\n",
"printf ('maximum length of cylinder= %.2f in ',x) "
   ]
   }
,
{
		   "cell_type": "markdown",
		   "metadata": {},
		   "source": [
			"## Example 2.7: example_7.sce"
		   ]
		  },
  {
"cell_type": "code",
	   "execution_count": null,
	   "metadata": {
	    "collapsed": true
	   },
	   "outputs": [],
"source": [
"clc \n",
"//initialisation of variables\n",
"W= 2000 //tons\n",
"m= 15 ///tons\n",
"dx= 24 //ft\n",
"l= 3 //in\n",
"dx1= 5 //ft\n",
"//CALCULATIONS\n",
"GM= m*dx/(W*(l/(dx1*12)))\n",
"//RESULTSS\n",
"printf ('metacentric height= %.1f ft ',GM) "
   ]
   }
,
{
		   "cell_type": "markdown",
		   "metadata": {},
		   "source": [
			"## Example 2.8: example_8.sce"
		   ]
		  },
  {
"cell_type": "code",
	   "execution_count": null,
	   "metadata": {
	    "collapsed": true
	   },
	   "outputs": [],
"source": [
"clc \n",
"//initialisation of variables\n",
"M= 350 //tons\n",
"l= 50 //ft\n",
"w= 20 //ft\n",
"W= 100 //tons\n",
"h= 6 //ft\n",
"M1= 250 //tons\n",
"//CALCULATIONS\n",
"V= M*2240/64\n",
"d= V/(l*w)\n",
"BM= l*w^3/(12*w*l*d)\n",
"y= (((BM+(d/2))*(M/10))-(M1*h/10))/(W/10)\n",
"//RESULTS\n",
"printf ('Highest position of centre of gravity= %.2f ft ',y)"
   ]
   }
,
{
		   "cell_type": "markdown",
		   "metadata": {},
		   "source": [
			"## Example 2.9: example_9.sce"
		   ]
		  },
  {
"cell_type": "code",
	   "execution_count": null,
	   "metadata": {
	    "collapsed": true
	   },
	   "outputs": [],
"source": [
"clc \n",
"//initialisation of variables\n",
"W= 2000 //tons\n",
"l= 250 //ft\n",
"w= 30 //ft\n",
"a= 1/15\n",
"W1= 50 //tons\n",
"h= 10 //ft\n",
"//CALCULATIONS\n",
"BG= (l*w^3*64/(W*2240*12))-(W1*h/(a*W))\n",
"//RESULTS\n",
"printf ('distance of the centre of gravity= %.2f ft ',BG) "
   ]
   }
],
"metadata": {
		  "kernelspec": {
		   "display_name": "Scilab",
		   "language": "scilab",
		   "name": "scilab"
		  },
		  "language_info": {
		   "file_extension": ".sce",
		   "help_links": [
			{
			 "text": "MetaKernel Magics",
			 "url": "https://github.com/calysto/metakernel/blob/master/metakernel/magics/README.md"
			}
		   ],
		   "mimetype": "text/x-octave",
		   "name": "scilab",
		   "version": "0.7.1"
		  }
		 },
		 "nbformat": 4,
		 "nbformat_minor": 0
}
