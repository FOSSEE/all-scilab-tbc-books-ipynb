{
"cells": [
 {
		   "cell_type": "markdown",
	   "metadata": {},
	   "source": [
       "# Chapter 5: Transistor Biasing and Small Signal Amplifiers"
	   ]
	},
{
		   "cell_type": "markdown",
		   "metadata": {},
		   "source": [
			"## Example 5.10: Value_of_rE_Ai_and_Rin.sce"
		   ]
		  },
  {
"cell_type": "code",
	   "execution_count": null,
	   "metadata": {
	    "collapsed": true
	   },
	   "outputs": [],
"source": [
"// Exa 5.10\n",
"format('v',5)\n",
"clc;\n",
"clear;\n",
"close;\n",
"// Given data\n",
"V = 5.7;// in V\n",
"V_BE = 0.7;// in V\n",
"R1 =10 * 10^3;// in ohm\n",
"R2 = 100 * 10^3;// in ohm\n",
"I_BQ = (V-V_BE)/(R1+R2);// in A\n",
"I_BQ = I_BQ * 10^3;// in mA\n",
"I_EQ = 100*I_BQ;// in mA\n",
"R1= 2;// in k ohm\n",
"R_L= 100*10^-3;// in k ohm\n",
"disp(I_EQ,'The value of I_EQ in mA is');\n",
"V_T = 0.026;// in V assumed\n",
"r_E = V_T/(I_EQ*10^-3);// in ohm\n",
"disp(r_E,'The value of r_E in ohm is');\n",
"Beta = 100;\n",
"h_fe= Beta;\n",
"r_pi = Beta*r_E;// in ohm\n",
"disp(r_pi,'The value of r_pi in ohm is : ')\n",
"ib= poly(0,'ib');\n",
"vb_by_ib= 0.572+101*1;// in k ohm\n",
"Ri= 10;// in k ohm\n",
"i1_by_ib= vb_by_ib/Ri;\n",
"is_by_ib= 1+i1_by_ib;\n",
"iL_by_ib= -h_fe*R1/(R1+R_L);\n",
"// Ai= iL/is = iL_by_ib/is_by_ib;\n",
"Ai= iL_by_ib/is_by_ib;\n",
"Rin= vb_by_ib/is_by_ib;// in k ohm\n",
"disp(Ai,'The value of Ai is : ')\n",
"disp(Rin,'The value of Rin in k ohm is : ')\n",
"\n",
""
   ]
   }
,
{
		   "cell_type": "markdown",
		   "metadata": {},
		   "source": [
			"## Example 5.1: h_parameters.sce"
		   ]
		  },
  {
"cell_type": "code",
	   "execution_count": null,
	   "metadata": {
	    "collapsed": true
	   },
	   "outputs": [],
"source": [
"// Exa 5.1\n",
"format('v',6)\n",
"clc;\n",
"clear;\n",
"close;\n",
"R1= 10;// in ohm\n",
"R2= 20;// in ohm\n",
"R3=30;// in ohm\n",
"v2= 50;// in V\n",
"v1= 20;// in V\n",
"i1= -2.5;//in V\n",
"i2= 1;// in A\n",
"h11= R1+(R2*R3/(R2+R3));// in ohm\n",
"// h-parameters\n",
"disp('h-parameters : ')\n",
"disp(h11,'The value of h11 in ohm is : ')\n",
"// From vi= h11*i1+h12*V1 and i2= h21*i1+h22*v2\n",
"h12= v1/v2;\n",
"disp(h12,'The value of h12 is : ')\n",
"h21= i2/i1;\n",
"disp(h21,'The value of h21 is : ')\n",
"h22= i2/v2;// in mho\n",
"disp(h22,'The value of h22 in mho is : ')\n",
""
   ]
   }
,
{
		   "cell_type": "markdown",
		   "metadata": {},
		   "source": [
			"## Example 5.2: h_parameters.sce"
		   ]
		  },
  {
"cell_type": "code",
	   "execution_count": null,
	   "metadata": {
	    "collapsed": true
	   },
	   "outputs": [],
"source": [
"// Exa 5.2\n",
"format('v',6)\n",
"clc;\n",
"clear;\n",
"close;\n",
"// Given data\n",
"R1 = 30;// in ohm\n",
"R2 = 40;// in ohm\n",
"R3 = 60;// in ohm\n",
"R4 = 40;// in ohm\n",
"R5 = 70;// in ohm\n",
"h11 = (R1+(R2*R5/(R2+R5)));// in ohm\n",
"disp(h11,'The numericals values of h11 in ohm is');\n",
"h12 =R2*R4/(R4+R5)*1/(R3+R4*R5/(R4+R5))\n",
"disp(h12,'The numericals values of h12 is');\n",
"h21 =-R4*R2/(R5+R2)*1/(R3+R5*R2/(R5+R2))\n",
"disp(h21,'The numericals values of h21 is');\n",
"h22 = 1/(R3+(R2*R5/(R2+R5)))\n",
"disp(h22,'The numericals values of h22 in mho is');\n",
"\n",
"// Note : In the book the calculated value of h11 i.e 30+(40 || 70) = 53 is wrong. correct value is 55.45 so the answer in the book is wrong."
   ]
   }
,
{
		   "cell_type": "markdown",
		   "metadata": {},
		   "source": [
			"## Example 5.3: z_parameter.sce"
		   ]
		  },
  {
"cell_type": "code",
	   "execution_count": null,
	   "metadata": {
	    "collapsed": true
	   },
	   "outputs": [],
"source": [
"// Exa 5.3\n",
"format('v',6)\n",
"clc;\n",
"clear;\n",
"close;\n",
"// Given data\n",
"R1 = 30;// in ohm\n",
"R2 = 40;// in ohm\n",
"R3 = 60;// in ohm\n",
"R4 = 40;// in ohm\n",
"R5 = 70;// in ohm\n",
"// z-parameters\n",
"z11= R1+(R2*(R1+R2)/(R2+(R1+R2)))\n",
"disp(z11,'The value of z11 in ohm is : ');\n",
"z22= R3+R4*R5/(R4+R5);\n",
"disp(z22,'The value of z22 is : ');\n",
"z12= R2*R4/(R1+R2+R4);\n",
"disp(z12,'The value of z12 is : ');\n",
"z21= R2*R4/(R1+R2+R4);\n",
"disp(z21,'The value of z21 in mho is : ');"
   ]
   }
,
{
		   "cell_type": "markdown",
		   "metadata": {},
		   "source": [
			"## Example 5.4: External_voltage_gain.sce"
		   ]
		  },
  {
"cell_type": "code",
	   "execution_count": null,
	   "metadata": {
	    "collapsed": true
	   },
	   "outputs": [],
"source": [
"// Exa 5.4\n",
"format('v',6)\n",
"clc;\n",
"clear;\n",
"close;\n",
"// Given data\n",
"Avint = 100;\n",
"Ri = 1;// in k ohm\n",
"Ro = 200;// in ohm\n",
"Ro = Ro * 10^-3;// in k ohm\n",
"R_S = 50;// in ohm\n",
"R_S = R_S * 10^-3;// in k ohm\n",
"R_L = 2;// in k ohm\n",
"// Avext = V_L/V_S =Avint*(Ri/(RiR_S))*(R_L/(R_L+Ro));\n",
"Avext = Avint*(Ri/(Ri+R_S))*(R_L/(R_L+Ro));\n",
"disp(Avext,'The external voltage gain is');"
   ]
   }
,
{
		   "cell_type": "markdown",
		   "metadata": {},
		   "source": [
			"## Example 5.5: External_current_gain.sce"
		   ]
		  },
  {
"cell_type": "code",
	   "execution_count": null,
	   "metadata": {
	    "collapsed": true
	   },
	   "outputs": [],
"source": [
"// Exa 5.5\n",
"format('v',7)\n",
"clc;\n",
"clear;\n",
"close;\n",
"// Given data\n",
"Ri = 1;// in k ohm\n",
"Ro = 80;// in k ohm\n",
"Aiint = 150;\n",
"R_S = 5;// in k ohm\n",
"R_L = 1;// in k ohm\n",
"//Aiext = i1/i2 = (R_S/(R_S+Ri)) * (Ro/(Ro+R_L))*Aiint;\n",
"Aiext = (R_S/(R_S+Ri)) * (Ro/(Ro+R_L))*Aiint;\n",
"disp(Aiext,'The external current gain is');"
   ]
   }
,
{
		   "cell_type": "markdown",
		   "metadata": {},
		   "source": [
			"## Example 5.6: Lower_3_dB_frequency.sce"
		   ]
		  },
  {
"cell_type": "code",
	   "execution_count": null,
	   "metadata": {
	    "collapsed": true
	   },
	   "outputs": [],
"source": [
"// Exa 5.6\n",
"format('v',5)\n",
"clc;\n",
"clear;\n",
"close;\n",
"// Given data\n",
"// Vo = -R_L*Io = ( (-R_L*Rc)/(Rc+R_L+(1/SC)) )*h_fe*Ib;\n",
"R_C = 4;// in k ohm\n",
"R_L = 2;// in k ohm\n",
"R = R_C+R_L;// in k ohm\n",
"R= R*10^3;// in ohm\n",
"C_L = 10;// in µF\n",
"C_L = C_L * 10^-6;// in F\n",
"// Vo/Ib =Aos/(S+(1/R*C_L));\n",
"f_L = 1/(2*%pi*R*C_L);// in Hz\n",
"disp(f_L,'The lower  3-dB frequency in Hz is');"
   ]
   }
,
{
		   "cell_type": "markdown",
		   "metadata": {},
		   "source": [
			"## Example 5.7: Ai_Av_Ri_Ais_and_Avs.sce"
		   ]
		  },
  {
"cell_type": "code",
	   "execution_count": null,
	   "metadata": {
	    "collapsed": true
	   },
	   "outputs": [],
"source": [
"// Exa 5.7\n",
"format('v',5)\n",
"clc;\n",
"clear;\n",
"close;\n",
"// GIven data\n",
"R_L= 10*10^3;// in ohm\n",
"h_ie = 1.1;// in k ohm\n",
"h_ie = h_ie * 10^3;// in ohm\n",
"h_re = 2.5*10^-4;\n",
"h_fe = 50;\n",
"h_oe = 24;// in µA/V\n",
"h_oe = h_oe * 10^-6;// in A/V\n",
"R_S = 1;// in k ohm\n",
"R_S = R_S * 10^3;// in  ohm\n",
"Rc = 10;// in k ohm\n",
"Rc = Rc * 10^3;// in ohm\n",
"Ai = round(-h_fe/(1+(h_oe*R_L)));\n",
"disp(Ai,'The value of Ai is');\n",
"Ri = h_ie+(h_re*Ai*R_L);// in ohm\n",
"Ri= Ri*10^-3;// k ohm\n",
"disp(Ri,'The value of Ri in k ohm is');\n",
"Ri= Ri*10^3;// ohm\n",
"Av = (Ai*R_L)/Ri;\n",
"disp(Av,'The value of Av is');\n",
"Avs = (Av*Ri)/(Ri+R_S);\n",
"disp(Avs,'The value of Avs is');\n",
"Ais = (Ai*R_S)/(Ri+R_S);\n",
"disp(Ais,'The value of Ais is');"
   ]
   }
,
{
		   "cell_type": "markdown",
		   "metadata": {},
		   "source": [
			"## Example 5.8: Cut_off_frequency.sce"
		   ]
		  },
  {
"cell_type": "code",
	   "execution_count": null,
	   "metadata": {
	    "collapsed": true
	   },
	   "outputs": [],
"source": [
"// Exa 5.8\n",
"format('v',5)\n",
"clc;\n",
"clear;\n",
"close;\n",
"// Given data\n",
"I_C = 1 ;// in A\n",
"bita= 200;\n",
"h_fe = bita;\n",
"R_C = 5*10^3;// in ohm\n",
"R_E = 2*10^3;// in ohm\n",
"R_S =600;// in ohm\n",
"R_L = 600;// in ohm\n",
"C1=10*10^-6;// in F\n",
"C2= C1;// in F\n",
"f_L= 20;// in Hz (lower cut-off frequency)\n",
"// R1||R2= 6;// in k ohm\n",
"r_e = 25/I_C;// in ohm\n",
"h_i = bita*r_e;// in ohm\n",
"// R_B= R1||R2=6;// in k ohm\n",
"R_B= 6*10^3;// in ohm\n",
"r_i = 5*10^3;// in ohm\n",
"Ri = (R_B*r_i)/(R_B+r_i);// in ohm\n",
"// The cut off frequency due to C1\n",
"f1= 1/(2*%pi*(Ri+R_S)*C1);// in Hz\n",
"disp(f1,'The cut-off frequency due to C1 in Hz is : ')\n",
"// The cut off frequency due to C2\n",
"f2= 1/(2*%pi*(R_C+R_L)*C2);// in Hz\n",
"disp(f2,'The cut-off frequency due to C1 in Hz is : ')\n",
"// The cut off frequency due to C_E, f_L= (1+h_fe)/(2*%pi*C_E*(R_S+h_ie)) or\n",
"C_E = (1+h_fe)/(2*%pi*f_L*(R_S+h_i));// in F\n",
"C_E =round(C_E * 10^6);// in µF\n",
"disp(C_E,'The value of C_E in µF is');"
   ]
   }
,
{
		   "cell_type": "markdown",
		   "metadata": {},
		   "source": [
			"## Example 5.9: Mid_band_voltage_gain_and_input_impedance.sce"
		   ]
		  },
  {
"cell_type": "code",
	   "execution_count": null,
	   "metadata": {
	    "collapsed": true
	   },
	   "outputs": [],
"source": [
"// Exa 5.9\n",
"format('v',9)\n",
"clc;\n",
"clear;\n",
"close;\n",
"// Given data\n",
"h_fe = 100;\n",
"h_ie = 1;// in k ohm\n",
"h_ie = h_ie * 10^3;// in ohm\n",
"vo_by_I= -100*10^3;// in ohm\n",
"vi_by_I= 1100+101*0.1*10^3;// in ohm\n",
"Av= vo_by_I/vi_by_I;\n",
"Av= round(Av);\n",
"Av= abs(Av);\n",
"disp(Av,'The mid-band voltage gain is');\n",
"//Ri =Vi/Ii;\n",
"Ri= vi_by_I;// in ohm\n",
"Ri= Ri*10^-3;// in k ohm\n",
"disp(Ri,'The input impedance in k ohm is');"
   ]
   }
],
"metadata": {
		  "kernelspec": {
		   "display_name": "Scilab",
		   "language": "scilab",
		   "name": "scilab"
		  },
		  "language_info": {
		   "file_extension": ".sce",
		   "help_links": [
			{
			 "text": "MetaKernel Magics",
			 "url": "https://github.com/calysto/metakernel/blob/master/metakernel/magics/README.md"
			}
		   ],
		   "mimetype": "text/x-octave",
		   "name": "scilab",
		   "version": "0.7.1"
		  }
		 },
		 "nbformat": 4,
		 "nbformat_minor": 0
}
