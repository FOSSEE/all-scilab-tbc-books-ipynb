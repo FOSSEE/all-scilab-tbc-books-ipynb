{
"cells": [
 {
		   "cell_type": "markdown",
	   "metadata": {},
	   "source": [
       "# Chapter 8: Digital Logic and Combinational Circuits"
	   ]
	},
{
		   "cell_type": "markdown",
		   "metadata": {},
		   "source": [
			"## Example 8.1: Hexadecimal_number_3BF_ino_binary.sce"
		   ]
		  },
  {
"cell_type": "code",
	   "execution_count": null,
	   "metadata": {
	    "collapsed": true
	   },
	   "outputs": [],
"source": [
"// Exa 8.1\n",
"format('v',9)\n",
"clc;\n",
"clear;\n",
"close;\n",
"// Given data\n",
"str= '3BF';// given number in hexadecimal to convert into binary\n",
"str_in_dec= hex2dec(str);// decimal equivalent\n",
"str_in_bin= dec2bin(str_in_dec);// binary equivalent\n",
"disp(str_in_bin,'The binary equivalent of 3BF is : ')\n",
"\n",
"// Note : The answer in the book is wrong because binary equivalent of B = 1011 and in the book they used 1101 which is wrong."
   ]
   }
,
{
		   "cell_type": "markdown",
		   "metadata": {},
		   "source": [
			"## Example 8.2: Convert_octal_into_binary.sce"
		   ]
		  },
  {
"cell_type": "code",
	   "execution_count": null,
	   "metadata": {
	    "collapsed": true
	   },
	   "outputs": [],
"source": [
"// Exa 8.2\n",
"format('v',9)\n",
"clc;\n",
"clear;\n",
"close;\n",
"// Given data\n",
"str= '527';// given number in octal to convert into binary\n",
"str_in_dec= oct2dec(str);// decimal equivalent\n",
"str_in_bin= dec2bin(str_in_dec);// binary equivalent\n",
"disp(str_in_bin,'The binary equivalent of 527 is : ')\n",
""
   ]
   }
,
{
		   "cell_type": "markdown",
		   "metadata": {},
		   "source": [
			"## Example 8.3: Convert_octal_into_hexadecimal_number.sce"
		   ]
		  },
  {
"cell_type": "code",
	   "execution_count": null,
	   "metadata": {
	    "collapsed": true
	   },
	   "outputs": [],
"source": [
"// Exa 8.3\n",
"format('v',9)\n",
"clc;\n",
"clear;\n",
"close;\n",
"// Given data\n",
"str= '256';// given number in octal to convert into hexadecimal\n",
"str_in_dec= oct2dec(str);// decimal equivalent\n",
"str_in_hex= dec2hex(str_in_dec);// hexadecimal equivalent\n",
"disp(str_in_hex,'The hexadecimal equivalent of 256 is : ')\n",
""
   ]
   }
,
{
		   "cell_type": "markdown",
		   "metadata": {},
		   "source": [
			"## Example 8.4: Convert_decimal_into_octal.sce"
		   ]
		  },
  {
"cell_type": "code",
	   "execution_count": null,
	   "metadata": {
	    "collapsed": true
	   },
	   "outputs": [],
"source": [
"// Exa 8.4\n",
"format('v',9)\n",
"clc;\n",
"clear;\n",
"close;\n",
"// Given data\n",
"str= 450;// given number in decimal to convert into octal\n",
"str_in_oct= dec2oct(str);// octal equivalent\n",
"disp(str_in_oct,'The octal equivalent of 450 is : ')\n",
""
   ]
   }
,
{
		   "cell_type": "markdown",
		   "metadata": {},
		   "source": [
			"## Example 8.9: Maximum_permissible_value_of_RB.sce"
		   ]
		  },
  {
"cell_type": "code",
	   "execution_count": null,
	   "metadata": {
	    "collapsed": true
	   },
	   "outputs": [],
"source": [
"// Exa 8.9\n",
"format('v',6)\n",
"clc;\n",
"clear;\n",
"close;\n",
"// Given data\n",
"R_C= 1;// in k ohm\n",
"V_CC= 5;// in V\n",
"V_CEsat= 0;// in V\n",
"V_BE= 0.7;// in V\n",
"bita_min= 50;\n",
"bita_max= 100;\n",
"// For the transistor to go to saturation,\n",
"I_C= (V_CC-V_CEsat)/R_C;// in mA\n",
"bita= bita_min;// for driving the transistor into saturation\n",
"I_Bmin= I_C/bita;//minimum base current in mA\n",
"// So, (V_CC-V_BE)/R_B >= I_B or\n",
"R_B= (V_CC-V_BE)/I_Bmin;// in k ohm\n",
"disp(R_B,'The maximum permissible value of R_B in k ohm is : ')\n",
"// For actual calculation one may take V_CEsat= 0.3 V\n",
"V_CEsat= 0.3;// in V\n",
"I_C= (V_CC-V_CEsat)/R_C;// in mA\n",
"bita= bita_min;// for driving the transistor into saturation\n",
"I_Bmin= I_C/bita;//minimum base current in mA\n",
"// So, (V_CC-V_BE)/R_B >= I_B or\n",
"R_B= (V_CC-V_BE)/I_Bmin;// in k ohm\n",
"disp('For actual calculation at V_CE(sat) = 0.3 V, the maximum value ')\n",
"disp(R_B,'of R_B in k ohm is : ')"
   ]
   }
],
"metadata": {
		  "kernelspec": {
		   "display_name": "Scilab",
		   "language": "scilab",
		   "name": "scilab"
		  },
		  "language_info": {
		   "file_extension": ".sce",
		   "help_links": [
			{
			 "text": "MetaKernel Magics",
			 "url": "https://github.com/calysto/metakernel/blob/master/metakernel/magics/README.md"
			}
		   ],
		   "mimetype": "text/x-octave",
		   "name": "scilab",
		   "version": "0.7.1"
		  }
		 },
		 "nbformat": 4,
		 "nbformat_minor": 0
}
