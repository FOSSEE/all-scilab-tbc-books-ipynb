{
"cells": [
 {
		   "cell_type": "markdown",
	   "metadata": {},
	   "source": [
       "# Chapter 3: Junction Diode and Their Applications"
	   ]
	},
{
		   "cell_type": "markdown",
		   "metadata": {},
		   "source": [
			"## Example 3.10: Value_of_limiting_resistance_R1_and_R2.sce"
		   ]
		  },
  {
"cell_type": "code",
	   "execution_count": null,
	   "metadata": {
	    "collapsed": true
	   },
	   "outputs": [],
"source": [
"// Exa 3.10\n",
"format('v',6)\n",
"clc;\n",
"clear;\n",
"close;\n",
"// Given data\n",
"Vz1= 10;//voltage across zener diode, Z1 in V\n",
"Vz2= 5;// voltage across zener diode, Z2 in V\n",
"Iz1= 30*10^-3;// current through zener diode, Z1 in A\n",
"Iz2= 15*10^-3;// current through zener diode, Z1 in A\n",
"I_knee= 5*10^-3;//knee current of zener diode,Z1 in A\n",
"R_L=500;//load resistance in ohm\n",
"R= 1*10^3;// in ohm\n",
"V_B= 25;// in V\n",
"// Current through RL,\n",
"I_RL= Vz2/R_L;// in A\n",
"// Current through R2,\n",
"I_R2= Iz2+Vz2/R_L;// in A\n",
"// Voltage across resistance R2,\n",
"V_R2= Vz1-Vz2;// in V\n",
"R2= V_R2/I_R2;// in ohm\n",
"disp(R2,'The value of resistance R2 in ohm is : ')\n",
"// Current through R1,\n",
"I_R1= Iz1+Vz1/R+I_R2;//in A\n",
"// Voltage across R1,\n",
"V_R1= V_B-Vz1;// in V\n",
"R1= V_R1/I_R1;// in ohm\n",
"disp(R1,'The value of resistance R1 in ohm is : ')\n",
"// Current through R1,\n",
"I_R1= I_knee+Vz1/R+I_R2;// in mA\n",
"// Voltage across R1,\n",
"V_R1= I_R1*R1;// in volts\n",
"V_Bmin= Vz1+V_R1;// in V\n",
"disp(V_Bmin,'The lowest power supply voltage in volts is : ')"
   ]
   }
,
{
		   "cell_type": "markdown",
		   "metadata": {},
		   "source": [
			"## Example 3.1: Im_Idc_Irms_and_Ripple_factor.sce"
		   ]
		  },
  {
"cell_type": "code",
	   "execution_count": null,
	   "metadata": {
	    "collapsed": true
	   },
	   "outputs": [],
"source": [
"// Exa 3.1\n",
"format('v',5)\n",
"clc;\n",
"clear;\n",
"close;\n",
"// Given data\n",
"// V = 50 * snid(omega*t);\n",
"Vm = 50;// in V\n",
"r_d = 20;// in ohm\n",
"R_L = 800;// in ohm\n",
"Im = Vm/(r_d+R_L);// in A\n",
"Im = Im * 10^3;// in mA\n",
"disp(Im,'The value of Im in mA is');\n",
"Idc = Im/%pi;// in mA\n",
"disp(Idc,'The value of Idc in mA is');\n",
"Irms = Im/2;// in mA\n",
"disp(Irms,'The value of Irms in mA is');\n",
"// The ac power input\n",
"P_ac_input = (Irms*10^-3)^2*(r_d+R_L);// in W\n",
"disp(P_ac_input,'The ac power input in W is');\n",
"P_dc_output = (Idc*10^-3)^2*R_L;// in W\n",
"// The dc power output \n",
"disp(P_dc_output,'The dc power output in W is');\n",
"// The dc output voltage \n",
"V_dc_out = Idc*10^-3*R_L;// in V\n",
"disp(V_dc_out,'The dc output voltage in V is');\n",
"//The Efficiency of rectification, Eta = ((Idc^2*R_L)*100)/(Irms^2*(R_L+r_d)) = (8/%pi) * ((R_L*100)/(R_L+r_d))\n",
"Eta = 8/%pi^2 * ((R_L*100)/(R_L+r_d));// in %\n",
"disp(Eta,'The Efficiency of rectification in % is');\n",
"ripplefactor = sqrt( (Irms/Idc)^2 -1 );\n",
"disp(ripplefactor,'The ripple factor is');\n",
"\n",
"// Note: In the book, the calculation to evaluate the value of efficiency of rectification is wrong."
   ]
   }
,
{
		   "cell_type": "markdown",
		   "metadata": {},
		   "source": [
			"## Example 3.2: Required_PIV.sce"
		   ]
		  },
  {
"cell_type": "code",
	   "execution_count": null,
	   "metadata": {
	    "collapsed": true
	   },
	   "outputs": [],
"source": [
"// Exa 3.2\n",
"format('v',6)\n",
"clc;\n",
"clear;\n",
"close;\n",
"// Given data\n",
"Vdc = 120;// in V\n",
"Vm = (%pi/2)*Vdc;// in V\n",
"disp(Vm,'The peak value of output voltage in V is');\n",
"Vpeak = 2*Vm;// in V\n",
"disp(Vpeak,'The peak value of voltage at transformer secondary in volts is : ')\n",
"Vrms = Vpeak/sqrt(2);// in V\n",
"disp(Vrms,'The r.m.s. value of voltage at transformer secondary in V is');\n",
"R_L = 250;// in k ohm\n",
"R_L = R_L * 10^3;// in ohm\n",
"Idc = Vdc/R_L;// in A\n",
"Idc= Idc*10^6;// in µA\n",
"disp(Idc,'The average current delivered to load in µA is');\n",
"Io = Idc/2;// in µA\n",
"disp(Io,'The average current through each of the diode in µA is');\n",
"// Peak current through each of the diode in A\n",
"I_peak = Vm/R_L;// in A\n",
"I_peak= I_peak*10^3;// in mA\n",
"disp(I_peak,'The peak current through each of the diode in mA is');\n",
"PIV = 2*Vm;// in V\n",
"disp(PIV,'The PIV required for each of the diode in V is');"
   ]
   }
,
{
		   "cell_type": "markdown",
		   "metadata": {},
		   "source": [
			"## Example 3.3: Maximum_and_minimum_value_of_zener_diode_current.sce"
		   ]
		  },
  {
"cell_type": "code",
	   "execution_count": null,
	   "metadata": {
	    "collapsed": true
	   },
	   "outputs": [],
"source": [
"// Exa 3.3\n",
"format('v',6)\n",
"clc;\n",
"clear;\n",
"close;\n",
"// Given data\n",
"V = 120;// in V\n",
"Vz = 50;// in V\n",
"R = 5;// in k ohm \n",
"R = R * 10^3;// in ohm\n",
"I = (V-Vz)/R;// in A\n",
"R1 = 10;// in k ohm\n",
"R1 = R1 * 10^3;// in ohm\n",
"I_L = Vz/R1;// in A\n",
"// The maximum value of zener diode current \n",
"I_Zmax = I-I_L;// in A\n",
"I_Zmax= I_Zmax*10^3;// in mA\n",
"disp(I_Zmax,'The maximum value of zener diode current in mA is');\n",
"V2 = 80;// in V\n",
"I = (V2-Vz)/R;// in A\n",
"// The minimum value of zener diode current \n",
"I_Zmin = I-I_L;// in A\n",
"I_Zmin=I_Zmin*10^3;// in mA\n",
"disp(I_Zmin,'The minimum value of zener diode current in mA is');"
   ]
   }
,
{
		   "cell_type": "markdown",
		   "metadata": {},
		   "source": [
			"## Example 3.4: Value_of_R.sce"
		   ]
		  },
  {
"cell_type": "code",
	   "execution_count": null,
	   "metadata": {
	    "collapsed": true
	   },
	   "outputs": [],
"source": [
"// Exa 3.4\n",
"format('v',6)\n",
"clc;\n",
"clear;\n",
"close;\n",
"// Given data\n",
"R_L = 18;// in ohm\n",
"Vz = 18;// in V\n",
"V1 = 22;// in V\n",
"V2 = 28;// in V\n",
"// Minimum voltage across R,\n",
"V = V1-Vz;// in V\n",
"Izmin = 200;// in mA\n",
"I_Lmax = Vz/R_L;// in A\n",
"I = I_Lmax+Izmin*10^-3;// in A\n",
"R =V/I;// in ohm\n",
"disp(R,'The value of R in ohm is : ')\n",
"I1 = (V2-Vz)/R;;// in A\n",
"// The maximum current through R \n",
"Izmax = I1 - 1;// in A\n",
"Izmax= Izmax*10^3;// in mA\n",
"disp(Izmax,'The maximum current through R in mA is');\n",
"disp('Which is within the limit of Iz (max) provided.')\n",
"pd = Vz*Izmax*10^-3;// maximum power dissipated in W\n",
"disp(pd,'The maximum power dissipated in W is');"
   ]
   }
,
{
		   "cell_type": "markdown",
		   "metadata": {},
		   "source": [
			"## Example 3.5: Designing_of_the_circuit.sce"
		   ]
		  },
  {
"cell_type": "code",
	   "execution_count": null,
	   "metadata": {
	    "collapsed": true
	   },
	   "outputs": [],
"source": [
"// Exa 3.5\n",
"format('v',6)\n",
"clc;\n",
"clear;\n",
"close;\n",
"// Given data\n",
"V1 = 12;// in V\n",
"Vz = 10;// in V\n",
"V = V1-Vz;// in V\n",
"I_Lmax = 10;// in mA\n",
"I_Zmin = 0.2;// in mA\n",
"I = I_Lmax+I_Zmin;// in mA\n",
"R = V/I;// in k ohm\n",
"Vz1 = 5;// in V\n",
"// The maximum current through R \n",
"Imax = Vz1/R;// in mA\n",
"disp(Imax,'The maximum current through R in mA is');\n",
"// The power rating of zener \n",
"power = Vz*Imax;// in mW\n",
"disp(power,'The power rating of zener in mW is');"
   ]
   }
,
{
		   "cell_type": "markdown",
		   "metadata": {},
		   "source": [
			"## Example 3.6: Input_and_output_waveform.sce"
		   ]
		  },
  {
"cell_type": "code",
	   "execution_count": null,
	   "metadata": {
	    "collapsed": true
	   },
	   "outputs": [],
"source": [
"// Exa 3.6\n",
"format('v',6)\n",
"clc;\n",
"clear;\n",
"close;\n",
"// Given data\n",
"Vo= -6;// in V    (for Vi<=-6.6 V)\n",
"Vo= 8;// in V     (for Vi>=8.8 V)\n",
"// Vi= 10000*i+100000*i or i= Vi/110000     (i)\n",
"Vi= -6.6:0.1:8.8;\n",
"// Vo= 100000*i \n",
"Vo= 100000*Vi/110000;//     (substituting i from eq(i))\n",
"plot(Vi,Vo);\n",
"xlabel('Vi in volts')\n",
"ylabel('Vo in volts')\n",
"title('The overall transfer characteristics')\n",
"disp('The overall transfer characteristics shown in figure.')"
   ]
   }
,
{
		   "cell_type": "markdown",
		   "metadata": {},
		   "source": [
			"## Example 3.7: Output_dc_voltage.sce"
		   ]
		  },
  {
"cell_type": "code",
	   "execution_count": null,
	   "metadata": {
	    "collapsed": true
	   },
	   "outputs": [],
"source": [
"// Exa 3.7\n",
"format('v',6)\n",
"clc;\n",
"clear;\n",
"close;\n",
"// Given data\n",
"Vm = 20;// in V\n",
"Idc = 100;// in mA\n",
"Idc = Idc * 10^-3;// in A\n",
"R_S = 5;// in ohm\n",
"R_F = 2;// in ohm\n",
"Vdc = ((2*sqrt(2)*Vm)/%pi) - Idc*(R_S+2*R_F);// in V\n",
"disp(Vdc,'The output dc voltage at dc load current of 100 mA in V is');\n",
"Idc = 200;// in mA\n",
"Idc = Idc * 10^-3;// in A\n",
"Vdc = ((2*sqrt(2)*Vm)/%pi) - Idc*(R_S+2*R_F);// in V\n",
"R_L = Vdc/Idc;// in ohm\n",
"// The percentage regulaiton\n",
"Per_reg = ((2*R_F+R_S)/R_L)*100;// in %\n",
"disp(Per_reg,'The percentage regulation for a full load dc current of 200 mA in % is');\n",
"Eta = round((8/(%pi^2)) * ( R_L/(2*R_F+R_S+R_L) )*100);// in %\n",
"disp(Eta,'The efficiency of the rectifier in % is');"
   ]
   }
,
{
		   "cell_type": "markdown",
		   "metadata": {},
		   "source": [
			"## Example 3.8: Designing_of_a_zener_voltage_regulator.sce"
		   ]
		  },
  {
"cell_type": "code",
	   "execution_count": null,
	   "metadata": {
	    "collapsed": true
	   },
	   "outputs": [],
"source": [
"// Exa 3.8\n",
"format('v',6)\n",
"clc;\n",
"clear;\n",
"close;\n",
"// Given data\n",
"Vz = 20;// in V\n",
"R_L = 1;// in k ohm\n",
"R_L = R_L * 10^3;// in ohm\n",
"I_L =Vz/R_L;// in A\n",
"V1 = 30;// in V\n",
"R_S = (V1-Vz)/I_L;// in ohm\n",
"V2 = 50;// in V\n",
"// The maximum current through Rs resistor,\n",
"I_S = (V2-Vz)/R_S;// in A\n",
"I_Smax = V1/R_S;// in A\n",
"I_Zmax = I_Smax-I_L;// in A\n",
"power = I_Zmax*Vz;// in W\n",
"disp(power,'The maximum power rating of the Zener diode in W is');"
   ]
   }
,
{
		   "cell_type": "markdown",
		   "metadata": {},
		   "source": [
			"## Example 3.9: Designing_of_a_zener_voltage_regulator.sce"
		   ]
		  },
  {
"cell_type": "code",
	   "execution_count": null,
	   "metadata": {
	    "collapsed": true
	   },
	   "outputs": [],
"source": [
"// Exa 3.9\n",
"format('v',6)\n",
"clc;\n",
"clear;\n",
"close;\n",
"// Given data\n",
"Vz = 20;// in V\n",
"V1 = 30;// in V\n",
"V2 = 50;// in V\n",
"R_L = 2;// in  k ohm\n",
"R_L = R_L * 10^3;// in ohm\n",
"I_L =Vz/R_L;// in A\n",
"I_ZK = 5*10^-3;// in mA\n",
"I_Smin = I_L+I_ZK;// in A\n",
"R_S = (V1-Vz)/I_Smin;// in ohm\n",
"I_Smax = (V2-Vz)/R_S;// in A\n",
"I_Zmax = I_Smax-(I_Smin+I_ZK);// in A\n",
"// The maximum power rating of the zener diode, \n",
"power = I_Zmax*Vz;// in W\n",
"disp(power,'The maximum power rating of the zener diode in W is');"
   ]
   }
],
"metadata": {
		  "kernelspec": {
		   "display_name": "Scilab",
		   "language": "scilab",
		   "name": "scilab"
		  },
		  "language_info": {
		   "file_extension": ".sce",
		   "help_links": [
			{
			 "text": "MetaKernel Magics",
			 "url": "https://github.com/calysto/metakernel/blob/master/metakernel/magics/README.md"
			}
		   ],
		   "mimetype": "text/x-octave",
		   "name": "scilab",
		   "version": "0.7.1"
		  }
		 },
		 "nbformat": 4,
		 "nbformat_minor": 0
}
