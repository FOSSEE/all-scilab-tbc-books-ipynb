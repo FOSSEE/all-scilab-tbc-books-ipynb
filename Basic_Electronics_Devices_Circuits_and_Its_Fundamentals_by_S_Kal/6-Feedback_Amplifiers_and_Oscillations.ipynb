{
"cells": [
 {
		   "cell_type": "markdown",
	   "metadata": {},
	   "source": [
       "# Chapter 6: Feedback Amplifiers and Oscillations"
	   ]
	},
{
		   "cell_type": "markdown",
		   "metadata": {},
		   "source": [
			"## Example 6.10: Voltage_gain_input_resistance.sce"
		   ]
		  },
  {
"cell_type": "code",
	   "execution_count": null,
	   "metadata": {
	    "collapsed": true
	   },
	   "outputs": [],
"source": [
"// Exa 6.10\n",
"format('v',6)\n",
"clc;\n",
"clear;\n",
"close;\n",
"// Given data\n",
"h_fe = 50;\n",
"h_ie = 1.2;// in k ohm\n",
"h_ie  = h_ie * 10^3;// in ohm\n",
"R_C = 1;// in k ohm\n",
"R_C = R_C * 10^3;// in ohm\n",
"R_E = 200;// in ohm\n",
"R_B = 2;// in k ohm\n",
"R_B = R_B * 10^3;// in ohm\n",
"Av = (-h_fe*R_C)/h_ie;\n",
"disp(Av,'The voltage gain (Av) is');\n",
"Ri = (h_ie*R_B)/(h_ie+R_B);// in ohm\n",
"disp(Ri,'The input resistance (Ri) in ohm is');\n",
"// vi= vs (on neglecting Rs), hence i_E= i_B+h_fe*i_B = (1+h_fe)*i_B                (i)\n",
"// vo= -i_C*R_C = -h_fe*i_B*R_C         (As i_C= h_fe*i_B)                                  (ii)\n",
"// From eq (i) : vi= i_B*h_ie+i_E*R_E= i_B*(h_ie+(1+h_fe)*R_E)                      (iii)\n",
"//  i_L= i_B                                                                                                                        (iv)  \n",
"// Avf = (h_fe*i_B*R_C)/(i_B*(h_ie+(1+h_fe)*R_E));\n",
"Avf = (-h_fe*R_C)/( h_ie+(1+h_fe)*R_E );\n",
"disp(Avf,'The voltage gain (Avf) is');\n",
"Rif = (R_B*(h_ie + ((1+h_fe)*R_E)))/(R_B+(h_ie + ((1+h_fe)*R_E)));// in ohm\n",
"Rif= Rif*10^-3;// in k ohm\n",
"disp(Rif,'The input resistance (Rif) in k ohm is');"
   ]
   }
,
{
		   "cell_type": "markdown",
		   "metadata": {},
		   "source": [
			"## Example 6.1: New_gain_after_feedback.sce"
		   ]
		  },
  {
"cell_type": "code",
	   "execution_count": null,
	   "metadata": {
	    "collapsed": true
	   },
	   "outputs": [],
"source": [
"// Exa 6.1\n",
"format('v',6)\n",
"clc;\n",
"clear;\n",
"close;\n",
"// Given data\n",
"BWf = 5;// in MHz\n",
"BWf= BWf * 10^6;// in Hz\n",
"Av = 100;\n",
"BW = 500;// in kHz\n",
"BW = BW * 10^3;// in Hz\n",
"// BWf = (1+(B*Av))*BW;\n",
"B = ((BWf/BW)-1)/Av;\n",
"disp(B,'The amount of negative feed back is');\n",
"Avf = Av/(1+(Av*B));\n",
"disp(Avf,'The new gain after negative feed back is');"
   ]
   }
,
{
		   "cell_type": "markdown",
		   "metadata": {},
		   "source": [
			"## Example 6.2: Av_of_the_basic_amplifier.sce"
		   ]
		  },
  {
"cell_type": "code",
	   "execution_count": null,
	   "metadata": {
	    "collapsed": true
	   },
	   "outputs": [],
"source": [
"// Exa 6.2\n",
"format('v',5)\n",
"clc;\n",
"clear;\n",
"close;\n",
"// Given data\n",
"h11 = 2;// in k ohm\n",
"h11 = h11 * 10^3;// in ohm\n",
"h12 = 0;\n",
"h21 = 80;\n",
"h22= 1*10^-3;// in mho\n",
"R_L= 10*10^3;// in ohm\n",
"B= 10/100;\n",
"Ri= 2;// in k ohm\n",
"R_Ldesh= (R_L*1/h22)/(R_L+1/h22);// in ohm\n",
"Av= h21*R_Ldesh/h11;\n",
"disp(Av,'Part (a) : The value of Av of the basic amplifier is : ')\n",
"D= 1+Av*B;\n",
"disp(D,'The value of densitivity factor is : ')\n",
"Avf= Av/(1+B*Av);\n",
"disp(Avf,'The value of Avf is : ')\n",
"Rif= (1+Av*B)*Ri;// in k ohm\n",
"disp(Rif,'The value of Rif in k ohm is : ')"
   ]
   }
,
{
		   "cell_type": "markdown",
		   "metadata": {},
		   "source": [
			"## Example 6.3: Value_of_RC.sce"
		   ]
		  },
  {
"cell_type": "code",
	   "execution_count": null,
	   "metadata": {
	    "collapsed": true
	   },
	   "outputs": [],
"source": [
"// Exa 6.3\n",
"format('e',8)\n",
"clc;\n",
"clear;\n",
"close;\n",
"// Given data\n",
"f_osc = 6.5;// in kHz\n",
"f_osc = f_osc * 10^3;// in Hz\n",
"// f_osc = 1/(2*%pi*sqrt(6)*RC);\n",
"RC = 1/(2*%pi*sqrt(6)*f_osc);// in sec\n",
"disp(RC,'The value of RC in sec is : ')\n",
"format('v',5)\n",
"// Possible selection of R and C may be\n",
"R= 1;// in k ohm\n",
"C= RC/R;// in mF\n",
"C= C*10^3;// in µF\n",
"disp('The posible selection of R and C : ')\n",
"disp('(a) : '+string(R)+' kΩ and '+string(C)+' µF')\n",
"format('v',6)\n",
"R= 10;// in k ohm\n",
"C= RC/R;// in mF\n",
"C= C*10^3;// in µF\n",
"disp('The posible selection of R and C : ')\n",
"disp('(a) : '+string(R)+' kΩ and '+string(C)+' µF')\n",
"\n",
""
   ]
   }
,
{
		   "cell_type": "markdown",
		   "metadata": {},
		   "source": [
			"## Example 6.4: Reverse_transmission_factor.sce"
		   ]
		  },
  {
"cell_type": "code",
	   "execution_count": null,
	   "metadata": {
	    "collapsed": true
	   },
	   "outputs": [],
"source": [
"// Exa 6.4\n",
"format('v',6)\n",
"clc;\n",
"clear;\n",
"close;\n",
"// Given data\n",
"A= 1000;\n",
"dA= 100;\n",
"dAbyAf= 0.1/100;\n",
"// dAf/Af = 1/|1+B*A| * dA/A or\n",
"B= (dA-dAbyAf*A)/(dAbyAf*A^2)\n",
"disp(B,'The reverse transmission factor of the feedback networks used is : ');\n",
"Af = A/(1+(B*A));\n",
"disp(Af,'The gain with feed back is');"
   ]
   }
,
{
		   "cell_type": "markdown",
		   "metadata": {},
		   "source": [
			"## Example 6.5: Output_voltage_and_input_voltage.sce"
		   ]
		  },
  {
"cell_type": "code",
	   "execution_count": null,
	   "metadata": {
	    "collapsed": true
	   },
	   "outputs": [],
"source": [
"// Exa 6.5\n",
"format('v',6)\n",
"clc;\n",
"clear;\n",
"close;\n",
"// Given data\n",
"Vout = 36;// in V\n",
"Vs = 0.028;// in V\n",
"B = 1.2/100;\n",
"A = Vout/Vs;\n",
"Af = A/(1+(B*A));\n",
"Vo =Af*Vs;// in V\n",
"disp(Vo,'The output voltage in V is');\n",
"// 1+BA = 7 or\n",
"BA= 6;\n",
"Af= A/(1+BA);\n",
"Vin = Vout/Af;// in V\n",
"disp(Vin,'The input voltage in V is');"
   ]
   }
,
{
		   "cell_type": "markdown",
		   "metadata": {},
		   "source": [
			"## Example 6.6: Value_of_fLF.sce"
		   ]
		  },
  {
"cell_type": "code",
	   "execution_count": null,
	   "metadata": {
	    "collapsed": true
	   },
	   "outputs": [],
"source": [
"// Exa 6.6\n",
"format('v',6)\n",
"clc;\n",
"clear;\n",
"close;\n",
"// Given data\n",
"f_L = 20;// in Hz\n",
"f_H = 50;// in kHz\n",
"f_H = f_H * 10^3;// in Hz\n",
"Ao = 1000;\n",
"B = 10/100;\n",
"f_HF =f_H*(1+(B*Ao));// in Hz\n",
"f_HF = f_HF * 10^-6;// in MHz\n",
"disp(f_HF,'The value of f_HF in MHz is');\n",
"f_LF = f_L/(1+(B*Ao));// in Hz\n",
"disp(f_LF,'The value of f_LF in Hz is');"
   ]
   }
,
{
		   "cell_type": "markdown",
		   "metadata": {},
		   "source": [
			"## Example 6.7: Wien_bridge_oscillation.sce"
		   ]
		  },
  {
"cell_type": "code",
	   "execution_count": null,
	   "metadata": {
	    "collapsed": true
	   },
	   "outputs": [],
"source": [
"// Exa 6.7\n",
"format('e',9)\n",
"clc;\n",
"clear;\n",
"close;\n",
"// Given data\n",
"f_o = 1;// in kHz\n",
"f_o = f_o * 10^3;// in Hz\n",
"// f_o = 1/(2*%pi*Rc);\n",
"RC = 1/(2*%pi*f_o);\n",
"disp(RC,'The value of RC is : ')\n",
"disp('So R and C can be choosen as 15.9 kΩ and 0.01 µF respectively.')"
   ]
   }
,
{
		   "cell_type": "markdown",
		   "metadata": {},
		   "source": [
			"## Example 6.8: Av_of_the_basic_amplifier.sce"
		   ]
		  },
  {
"cell_type": "code",
	   "execution_count": null,
	   "metadata": {
	    "collapsed": true
	   },
	   "outputs": [],
"source": [
"// Exa 6.8\n",
"format('v',5)\n",
"clc;\n",
"clear;\n",
"close;\n",
"// Given data\n",
"h11 = 2;// in k ohm\n",
"h11 = h11 * 10^3;// in ohm\n",
"h12 = 0;\n",
"h21 = 80;\n",
"h22= 1*10^-3;// in mho\n",
"R_L= 10*10^3;// in ohm\n",
"B= 10/100;\n",
"Ri= 2;// in k ohm\n",
"R_Ldesh= (R_L*1/h22)/(R_L+1/h22);// in ohm\n",
"Av= h21*R_Ldesh/h11;\n",
"disp(Av,'Part (a) : The value of Av of the basic amplifier is : ')\n",
"D= 1+Av*B;\n",
"disp(D,'The value of densitivity factor is : ')\n",
"Avf= Av/(1+B*Av);\n",
"disp(Avf,'The value of Avf is : ')\n",
"Rif= (1+Av*B)*Ri;// in k ohm\n",
"disp(Rif,'The value of Rif in k ohm is : ')"
   ]
   }
,
{
		   "cell_type": "markdown",
		   "metadata": {},
		   "source": [
			"## Example 6.9: Value_of_vo_by_vs_Ri_and_Ro.sce"
		   ]
		  },
  {
"cell_type": "code",
	   "execution_count": null,
	   "metadata": {
	    "collapsed": true
	   },
	   "outputs": [],
"source": [
"// Exa 6.9\n",
"format('v',6)\n",
"clc;\n",
"clear;\n",
"close;\n",
"// Given data\n",
"h_ie = 1.5 * 10^3;// in ohm\n",
"h_fe = 100;\n",
"// R = R1||R2 = 20;// in k ohm\n",
"R = 20 * 10^3;// in ohm\n",
"R_E = 560;// in ohm\n",
"R_S = 600;// in ohm\n",
"Avf = (h_fe*R_E)/(h_ie+(h_fe*R_E));\n",
"VoByVs = Avf;\n",
"disp(VoByVs,'The value of midband voltage gain (vo/vs) is :');\n",
"Ri = h_ie + ((1+h_fe)*R_E);// in ohm\n",
"Ri= Ri*10^-3;// in k ohm\n",
"disp(Ri,'The value of input impedance (Ri) in k ohm is : ')\n",
"Ri= Ri*10^3;// in ohm\n",
"Ro = (R_S+h_ie)/(1+h_fe);// in ohm\n",
"disp(Ro,'The value of output impedance (Ro) in ohm is : ')\n",
"R_desh_i = (R*Ri)/(R+Ri);// in ohm\n",
"R_desh_i=R_desh_i*10^-3;// in k ohm \n",
"disp(R_desh_i,'The value of R''i in k ohm is');\n",
"// For load resistance of 10 k ohm\n",
"R_L = 10;// in k ohm\n",
"R_L = R_L * 10^3;// in ohm\n",
"R_desh_o = (Ro*R_L)/(Ro+R_L);// in ohm\n",
"disp(R_desh_o,'The value of R''o for load resistance of 10 k ohm  in ohm is');\n",
"// For load resistance of 220 ohm\n",
"R_L = 220;// in ohm\n",
"R_desh_o = (Ro*R_L)/(Ro+R_L);// in ohm\n",
"disp(R_desh_o,'The value of R''o for load resistance of 220 ohm  in ohm is');\n",
"\n",
"// Note: There is a calculation mistake to evaluate the value of R_desh_i (R'i)"
   ]
   }
],
"metadata": {
		  "kernelspec": {
		   "display_name": "Scilab",
		   "language": "scilab",
		   "name": "scilab"
		  },
		  "language_info": {
		   "file_extension": ".sce",
		   "help_links": [
			{
			 "text": "MetaKernel Magics",
			 "url": "https://github.com/calysto/metakernel/blob/master/metakernel/magics/README.md"
			}
		   ],
		   "mimetype": "text/x-octave",
		   "name": "scilab",
		   "version": "0.7.1"
		  }
		 },
		 "nbformat": 4,
		 "nbformat_minor": 0
}
