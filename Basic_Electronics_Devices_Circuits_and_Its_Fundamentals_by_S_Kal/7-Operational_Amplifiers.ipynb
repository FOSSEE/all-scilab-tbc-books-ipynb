{
"cells": [
 {
		   "cell_type": "markdown",
	   "metadata": {},
	   "source": [
       "# Chapter 7: Operational Amplifiers"
	   ]
	},
{
		   "cell_type": "markdown",
		   "metadata": {},
		   "source": [
			"## Example 7.10: CMRR_in_dB.sce"
		   ]
		  },
  {
"cell_type": "code",
	   "execution_count": null,
	   "metadata": {
	    "collapsed": true
	   },
	   "outputs": [],
"source": [
"// Exa 7.10\n",
"format('v',6)\n",
"clc;\n",
"clear;\n",
"close;\n",
"// Given data\n",
"Ad = 100000;\n",
"Ac = 25;\n",
"CMRR = Ad/Ac;\n",
"CMRR_indB= 20*log10(CMRR);// in dB\n",
"disp(CMRR_indB,'Part (a) : The value of CMRR in dB is');\n",
"format('e',8)\n",
"R2 = 100;// in k ohm\n",
"R1 = 10;// in k ohm\n",
"V_B = 0.18;// in mV\n",
"V_A = 0.16;// in mV\n",
"// The output from the amplifier,\n",
"Vo = ((R2/R1)*(V_B-V_A)*10^-3) + ((R2/R1)*V_B*10^-3*(1/CMRR));// in V\n",
"disp(Vo,'Part (b) : The output from the amplifier in V is');\n",
"V_B = 2.00018;// in V\n",
"V_A = 2.00016;// in V\n",
"// The output from the amplifier,\n",
"Vo = ((R2/R1)*(V_B-V_A)) + ((R2/R1)*V_B*(1/CMRR));// in V\n",
"disp(Vo,'Part (c) : The output from the amplifier in V is'); "
   ]
   }
,
{
		   "cell_type": "markdown",
		   "metadata": {},
		   "source": [
			"## Example 7.12: Output_voltage.sce"
		   ]
		  },
  {
"cell_type": "code",
	   "execution_count": null,
	   "metadata": {
	    "collapsed": true
	   },
	   "outputs": [],
"source": [
"// Exa 7.12\n",
"format('v',9)\n",
"clc;\n",
"clear;\n",
"close;\n",
"// Given data\n",
"R1 = 10;// in k ohm\n",
"Rf = 30;// in k ohm\n",
"Vs = 4;// in V\n",
"V_A = 2;// in V\n",
"V_B = 2;// in V\n",
"I = (Vs-V_B)/(R1);// in mA\n",
"Vo = (-I*Rf)+V_B;// in V\n",
"// The output voltage,\n",
"disp(Vo,'The value of Vo in V is');"
   ]
   }
,
{
		   "cell_type": "markdown",
		   "metadata": {},
		   "source": [
			"## Example 7.13: Voltage_gain_and_input_resistance.sce"
		   ]
		  },
  {
"cell_type": "code",
	   "execution_count": null,
	   "metadata": {
	    "collapsed": true
	   },
	   "outputs": [],
"source": [
"// Exa 7.13\n",
"format('v',6)\n",
"clc;\n",
"clear;\n",
"close;\n",
"// Given data\n",
"h_fe = 50;\n",
"h_ie = 1.2;// in k ohm\n",
"h_ie  = h_ie * 10^3;// in ohm\n",
"R_C = 1;// in k ohm\n",
"R_C = R_C * 10^3;// in ohm\n",
"R_E = 200;// in ohm\n",
"R_B = 2;// in k ohm\n",
"R_B = R_B * 10^3;// in ohm\n",
"Av = (-h_fe*R_C)/h_ie;\n",
"disp(Av,'The voltage gain (Av) is');\n",
"Ri = (h_ie*R_B)/(h_ie+R_B);// in ohm\n",
"disp(Ri,'The input resistance (Ri) in ohm is');\n",
"// vi= vs (on neglecting Rs), hence i_E= i_B+h_fe*i_B = (1+h_fe)*i_B                (i)\n",
"// vo= -i_C*R_C = -h_fe*i_B*R_C         (As i_C= h_fe*i_B)                                  (ii)\n",
"// From eq (i) : vi= i_B*h_ie+i_E*R_E= i_B*(h_ie+(1+h_fe)*R_E)                      (iii)\n",
"//  i_L= i_B                                                                                                                        (iv)  \n",
"// Avf = (h_fe*i_B*R_C)/(i_B*(h_ie+(1+h_fe)*R_E));\n",
"Avf = (-h_fe*R_C)/( h_ie+(1+h_fe)*R_E );\n",
"disp(Avf,'The voltage gain (Avf) is');\n",
"Rif = (R_B*(h_ie + ((1+h_fe)*R_E)))/(R_B+(h_ie + ((1+h_fe)*R_E)));// in ohm\n",
"Rif= Rif*10^-3;// in k ohm\n",
"disp(Rif,'The input resistance (Rif) in k ohm is');"
   ]
   }
,
{
		   "cell_type": "markdown",
		   "metadata": {},
		   "source": [
			"## Example 7.1: Output_voltage.sce"
		   ]
		  },
  {
"cell_type": "code",
	   "execution_count": null,
	   "metadata": {
	    "collapsed": true
	   },
	   "outputs": [],
"source": [
"// Exa 7.1\n",
"format('v',6)\n",
"clc;\n",
"clear;\n",
"close;\n",
"// Given data\n",
"Ac = 35;//common mode gain in dB\n",
"Ac = 10^(Ac/20);\n",
"CMRR = 72;// in dB\n",
"CMRR = 10^(CMRR/20);\n",
"// CMRR = Ad/Ac\n",
"Ad = CMRR*Ac;\n",
"V1 = 0.16;// in mV\n",
"V2 = 0.18;// in mV\n",
"// Common mode signal\n",
"Vc = 1/2*(V1+V2);// in mV\n",
"// Difference mode signal\n",
"Vd = V2-V1;// in mV\n",
"// The output voltage\n",
"Vo = Ac*Vc+Ad*Vd;// in mV\n",
"Vo= Vo*10^-3;// in V\n",
"disp(Vo,'The output voltage in V is');"
   ]
   }
,
{
		   "cell_type": "markdown",
		   "metadata": {},
		   "source": [
			"## Example 7.6: Output_voltage.sce"
		   ]
		  },
  {
"cell_type": "code",
	   "execution_count": null,
	   "metadata": {
	    "collapsed": true
	   },
	   "outputs": [],
"source": [
"// Exa 7.6\n",
"format('v',5)\n",
"clc;\n",
"clear;\n",
"close;\n",
"// Given data\n",
"Ro = 10;// in k ohm\n",
"R1 = 10;// in k ohm\n",
"R2 = 2.2;// in k ohm\n",
"R3 = 3.3;// in k ohm\n",
"V1 = 6;// in V\n",
"V2 = -3;// in V\n",
"V3 = -0.75;// in V\n",
"// Output voltage,\n",
"Vo = -( ((Ro/R1)*V1) + ((Ro/R2)*V2) + ((Ro/R3)*V3) );// in V\n",
"disp(Vo,'The value of Vo in V is');"
   ]
   }
,
{
		   "cell_type": "markdown",
		   "metadata": {},
		   "source": [
			"## Example 7.8: Open_loop_voltage_gain.sce"
		   ]
		  },
  {
"cell_type": "code",
	   "execution_count": null,
	   "metadata": {
	    "collapsed": true
	   },
	   "outputs": [],
"source": [
"// Exa 7.8\n",
"format('v',7)\n",
"clc;\n",
"clear;\n",
"close;\n",
"// Given data\n",
"R = 100;// in k ohm\n",
"R = R * 10^3;// in ohm\n",
"C = 2;// in µF\n",
"C = C * 10^-6;// in F\n",
"f = 10;// in kHz\n",
"f = f * 10^3;// in Hz\n",
"omega = 2*%pi*f;// in Krad\n",
"// The open loop voltage gain,\n",
"A = R*omega*C;\n",
"disp(A,'The open loop voltage gain is');\n",
"format('e',9)\n",
"//The feedback function, B is evaluated as, A_F = -R/Z_C*( 1/(1+(1/(A*B))) );\n",
"B = 1/( sqrt( 1+((R*omega*C)^2) ) );\n",
"disp(B,'The feed back function is');\n",
"format('v',7)\n",
"//A_F = -R/Z_C*(1/( 1+(1/(A*B)) ));\n",
"Av = 10^3;\n",
"A_F = round(A*(1/(1+(1/(Av*B)))));\n",
"disp(A_F,'The overall gain is');\n",
"\n",
"// Note: The open loop voltage gain in the book is not accurate."
   ]
   }
,
{
		   "cell_type": "markdown",
		   "metadata": {},
		   "source": [
			"## Example 7.9: Value_of_constant_A1_and_A2.sce"
		   ]
		  },
  {
"cell_type": "code",
	   "execution_count": null,
	   "metadata": {
	    "collapsed": true
	   },
	   "outputs": [],
"source": [
"// Exa 7.9\n",
"format('v',7)\n",
"clc;\n",
"clear;\n",
"close;\n",
"// GIven data\n",
"R1 = 10;// in k ohm\n",
"R2 = 100;// in k ohm\n",
"R3 = 10.1;// in k ohm\n",
"R4 = 99;// in k ohm\n",
"// Vdaso = Vo2 = V2*(-R2/R1)\n",
"//Vdaso = Vo1 = V1*(R4/(R3+R4))*(1+(R2/R1))\n",
"//Vo = Vo1+Vo2 = (V1*(R4/(R3+R4))*(1+(R2/R1))) - (V2*(-R2/R1))\n",
"//Vo = (R2/R1) * ( -V2 + ( 1+(R1/R2) )/(1+(R3/R4))*V1 )\n",
"A1 = (1+(R1/R2))/(1+(R3/R4))*(R2/R1);// (on comparing vo= A1*V1+A2*V2)\n",
"disp(A1,'The value of A1 is');\n",
"A2 = -R2/R1;\n",
"disp(A2,'The value of A2 is');"
   ]
   }
],
"metadata": {
		  "kernelspec": {
		   "display_name": "Scilab",
		   "language": "scilab",
		   "name": "scilab"
		  },
		  "language_info": {
		   "file_extension": ".sce",
		   "help_links": [
			{
			 "text": "MetaKernel Magics",
			 "url": "https://github.com/calysto/metakernel/blob/master/metakernel/magics/README.md"
			}
		   ],
		   "mimetype": "text/x-octave",
		   "name": "scilab",
		   "version": "0.7.1"
		  }
		 },
		 "nbformat": 4,
		 "nbformat_minor": 0
}
