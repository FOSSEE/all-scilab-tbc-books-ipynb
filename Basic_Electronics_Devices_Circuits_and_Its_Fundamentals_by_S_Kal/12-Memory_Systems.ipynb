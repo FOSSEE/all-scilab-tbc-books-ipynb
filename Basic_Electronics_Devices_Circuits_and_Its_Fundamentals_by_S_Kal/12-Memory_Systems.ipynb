{
"cells": [
 {
		   "cell_type": "markdown",
	   "metadata": {},
	   "source": [
       "# Chapter 12: Memory Systems"
	   ]
	},
{
		   "cell_type": "markdown",
		   "metadata": {},
		   "source": [
			"## Example 12.1: Capacity_of_memory_chip.sce"
		   ]
		  },
  {
"cell_type": "code",
	   "execution_count": null,
	   "metadata": {
	    "collapsed": true
	   },
	   "outputs": [],
"source": [
"// Exa 12.1\n",
"format('v',6)\n",
"clc;\n",
"clear;\n",
"close;\n",
"// Given data\n",
"RAMbit= 2*4;//K bit RAM IC chip\n",
"// The capacity of the memory chip,\n",
"Capacity = RAMbit*2^10;// in bits\n",
"disp(Capacity,'The capacity (or density) of the memory chip in bits is');"
   ]
   }
,
{
		   "cell_type": "markdown",
		   "metadata": {},
		   "source": [
			"## Example 12.2: Required_address_bits.sce"
		   ]
		  },
  {
"cell_type": "code",
	   "execution_count": null,
	   "metadata": {
	    "collapsed": true
	   },
	   "outputs": [],
"source": [
"// Exa 12.2\n",
"format('v',6)\n",
"clc;\n",
"clear;\n",
"close;\n",
"// Given data\n",
"// (a) For 1024 number of bits\n",
"No_of_bits= 1024;// bits\n",
"Req_add_bits= log(No_of_bits)/log(2);\n",
"disp(Req_add_bits,'Address bits required for a memory that has 1024 number of bits');\n",
"\n",
"// (b) For 256 number of bits\n",
"No_of_bits= 256;// bits\n",
"Req_add_bits= log(No_of_bits)/log(2);\n",
"disp(Req_add_bits,'Address bits required for a memory that has 256 number of bits');\n",
"\n",
"// (c) For 4098 number of bits\n",
"No_of_bits= 4096;// bits\n",
"// 2^12= 4096, 2^13= 8192, where 4096<4098<8192 or 2^12<4098<2^13, hence\n",
"Req_add_bits= 13;\n",
"disp(Req_add_bits,'Address bits required for a memory that has 4098 number of bits');\n",
"\n",
"// d) For 16384 number of bits\n",
"No_of_bits= 16384;// bits\n",
"Req_add_bits= log(No_of_bits)/log(2);\n",
"disp(Req_add_bits,'Address bits required for a memory that has 16384 number of bits');"
   ]
   }
,
{
		   "cell_type": "markdown",
		   "metadata": {},
		   "source": [
			"## Example 12.3: Bits_of_storage_and_lines_in_address_bus.sce"
		   ]
		  },
  {
"cell_type": "code",
	   "execution_count": null,
	   "metadata": {
	    "collapsed": true
	   },
	   "outputs": [],
"source": [
"// Exa 12.3\n",
"format('v',6)\n",
"clc;\n",
"clear;\n",
"close;\n",
"// Given data\n",
"memory = 16;// in K\n",
"memory= memory*1024;// in bits\n",
"// Number of bits of storage,\n",
"Req_add_bits= log(memory)/log(2);\n",
"disp(Req_add_bits,'Number of bits of storage is : ')\n",
"disp(Req_add_bits,'Number of lines in address bus is : ')"
   ]
   }
,
{
		   "cell_type": "markdown",
		   "metadata": {},
		   "source": [
			"## Example 12.4: Number_of_address_line.sce"
		   ]
		  },
  {
"cell_type": "code",
	   "execution_count": null,
	   "metadata": {
	    "collapsed": true
	   },
	   "outputs": [],
"source": [
"// Exa 12.4\n",
"format('v',6)\n",
"clc;\n",
"clear;\n",
"close;\n",
"// Given data\n",
"memory= 16;// in K\n",
"wordBit= 8;\n",
"// Number of address\n",
"N= log((memory/wordBit)*1024)/log(2);\n",
"disp(N,'The number of address lines is : ')"
   ]
   }
,
{
		   "cell_type": "markdown",
		   "metadata": {},
		   "source": [
			"## Example 12.5: Memory_cell.sce"
		   ]
		  },
  {
"cell_type": "code",
	   "execution_count": null,
	   "metadata": {
	    "collapsed": true
	   },
	   "outputs": [],
"source": [
"// Exa 12.5\n",
"format('v',8)\n",
"clc;\n",
"clear;\n",
"close;\n",
"// Given data\n",
"memory= 16;// in K\n",
"memory= memory*1024;// in bits\n",
"// Number of words\n",
"N1= memory;\n",
"disp(N1,'The number of words is : ')\n",
"N2= 32;// number of bits per word\n",
"disp(N2,'The number of bits per word is : ')\n",
"// Number of memory cell\n",
"N3= N2*memory;\n",
"disp(N3,'The number of memory cell is : ')\n",
""
   ]
   }
,
{
		   "cell_type": "markdown",
		   "metadata": {},
		   "source": [
			"## Example 12.6: Total_number_of_memory_cells.sce"
		   ]
		  },
  {
"cell_type": "code",
	   "execution_count": null,
	   "metadata": {
	    "collapsed": true
	   },
	   "outputs": [],
"source": [
"// Exa 12.6\n",
"format('v',9)\n",
"clc;\n",
"clear;\n",
"close;\n",
"// Given data\n",
"N1= 16;// address input\n",
"inputs= 4;\n",
"outputs= 4;\n",
"// Total number of memory cells\n",
"N2= 2^N1*2^inputs;\n",
"disp(N2,'Total number of memory cells is : ')"
   ]
   }
],
"metadata": {
		  "kernelspec": {
		   "display_name": "Scilab",
		   "language": "scilab",
		   "name": "scilab"
		  },
		  "language_info": {
		   "file_extension": ".sce",
		   "help_links": [
			{
			 "text": "MetaKernel Magics",
			 "url": "https://github.com/calysto/metakernel/blob/master/metakernel/magics/README.md"
			}
		   ],
		   "mimetype": "text/x-octave",
		   "name": "scilab",
		   "version": "0.7.1"
		  }
		 },
		 "nbformat": 4,
		 "nbformat_minor": 0
}
