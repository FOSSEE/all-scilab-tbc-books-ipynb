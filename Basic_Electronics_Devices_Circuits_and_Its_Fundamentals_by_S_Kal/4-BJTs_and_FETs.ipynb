{
"cells": [
 {
		   "cell_type": "markdown",
	   "metadata": {},
	   "source": [
       "# Chapter 4: BJTs and FETs"
	   ]
	},
{
		   "cell_type": "markdown",
		   "metadata": {},
		   "source": [
			"## Example 4.10: DC_load_line.sce"
		   ]
		  },
  {
"cell_type": "code",
	   "execution_count": null,
	   "metadata": {
	    "collapsed": true
	   },
	   "outputs": [],
"source": [
"// Exa 4.10\n",
"format('v',6)\n",
"clc;\n",
"clear;\n",
"close;\n",
"// Given data\n",
"V_CC = 18;// in V\n",
"V_BB = 6;// in V\n",
"Beta = 75;\n",
"I_CO = 100;// in nA\n",
"I_CO = I_CO * 10^-9;// in A\n",
"R_C = 1;// in k ohm\n",
"R_C = R_C * 10^3;// in ohm\n",
"V_CE = 9;// in V\n",
"I_C = 9;// in mA\n",
"I_C = I_C * 10^-3;// in A\n",
"// I_C = Beta*I_B + (1+Beta)*I_CO;\n",
"I_B = (I_C-((1+Beta)*I_CO))/Beta;// in A\n",
"I_B = I_B * 10^3;// in mA\n",
"disp(I_B,'The value of I_B in mA is');\n",
"V_BE = 0.7;// in V assumed\n",
"R_B = (V_BB-V_BE)/(I_B*10^-3);// in ohm\n",
"R_B = R_B * 10^-3;// in k ohm\n",
"disp(R_B,'The value of R_B for Si transistor in k ohm is');\n",
"V_BE = 0.3;// in V\n",
"R_B = (V_BB-V_BE)/(I_B*10^-3);// in ohm\n",
"R_B= R_B*10^-3;// in k ohm\n",
"disp(R_B,'The value of R_B for Ge transistor in k ohm is');\n",
"V_CEQ= V_CC-I_C*R_C;// in V\n",
"I_CQ= round(Beta*I_B);// in mA\n",
"I_C= V_CC/R_C;// in A\n",
"I_C= I_C*10^3;// in mA\n",
"plot([V_CC,0],[0,I_C]);\n",
"xlabel('V_CC in volts ');\n",
"ylabel('I_C in mA')\n",
"title('DC load line ')\n",
"disp('DC load line shown in figure')\n",
"disp('Q point : '+string(V_CEQ)+' volts, '+string(I_CQ)+' mA')"
   ]
   }
,
{
		   "cell_type": "markdown",
		   "metadata": {},
		   "source": [
			"## Example 4.11: Base_current.sce"
		   ]
		  },
  {
"cell_type": "code",
	   "execution_count": null,
	   "metadata": {
	    "collapsed": true
	   },
	   "outputs": [],
"source": [
"// Exa 4.11\n",
"format('v',5)\n",
"clc;\n",
"clear;\n",
"close;\n",
"// Given data\n",
"alpha = 0.9;\n",
"I_E = 1;// mA\n",
"I_C = alpha * I_E;// in mA\n",
"// The base current,\n",
"I_B = I_E - I_C;// in mA\n",
"disp(I_B,'The value of base current in mA is');"
   ]
   }
,
{
		   "cell_type": "markdown",
		   "metadata": {},
		   "source": [
			"## Example 4.12: Emitter_current.sce"
		   ]
		  },
  {
"cell_type": "code",
	   "execution_count": null,
	   "metadata": {
	    "collapsed": true
	   },
	   "outputs": [],
"source": [
"// Exa 4.12\n",
"format('v',5)\n",
"clc;\n",
"clear;\n",
"close;\n",
"// Given data\n",
"bita = 50;\n",
"I_B= 20;// in µA\n",
"I_B=I_B*10^-6;// in A\n",
"I_C= bita*I_B;// in A\n",
"// The emitter current,\n",
"I_E= I_C+I_B;// in A\n",
"I_E = I_E * 10^3;// in mA\n",
"disp(I_E,'The Emitter current in mA is');"
   ]
   }
,
{
		   "cell_type": "markdown",
		   "metadata": {},
		   "source": [
			"## Example 4.13: Base_current_and_emitter_current.sce"
		   ]
		  },
  {
"cell_type": "code",
	   "execution_count": null,
	   "metadata": {
	    "collapsed": true
	   },
	   "outputs": [],
"source": [
"// Exa 4.13\n",
"format('v',7)\n",
"clc;\n",
"clear;\n",
"close;\n",
"// Given data\n",
"beta_dc = 90;\n",
"// The base current,\n",
"I_C = 15;// in mA\n",
"I_C = I_C * 10^-3;// in A\n",
"I_B = I_C/beta_dc;// in A\n",
"I_B= I_B*10^6;// in µA\n",
"disp(I_B,'The base current in µA is');\n",
"I_B= I_B*10^-6;// in A\n",
"// The emitter current,\n",
"I_E = I_C + I_B;// in A\n",
"I_E = I_E * 10^3;// in mA\n",
"disp(I_E,'The Emitter current in mA is');\n",
"alpha_dc = beta_dc/(1+beta_dc);\n",
"disp(alpha_dc,'The value of alpha_dc is');\n",
""
   ]
   }
,
{
		   "cell_type": "markdown",
		   "metadata": {},
		   "source": [
			"## Example 4.14: Change_in_base_current.sce"
		   ]
		  },
  {
"cell_type": "code",
	   "execution_count": null,
	   "metadata": {
	    "collapsed": true
	   },
	   "outputs": [],
"source": [
"// Exa 4.14\n",
"format('v',5)\n",
"clc;\n",
"clear;\n",
"close;\n",
"// Given data\n",
"del_ic = 1.8;// in mA\n",
"del_ie = 1.89;// in mA\n",
"alpha = del_ic / del_ie;\n",
"bita = alpha/(1 - alpha);\n",
"// Change in base current,\n",
"del_ib = del_ic/bita;// in mA\n",
"del_ib = del_ib * 10^3;// in µA\n",
"disp(del_ib,'The change in I_B in µA is'); \n",
""
   ]
   }
,
{
		   "cell_type": "markdown",
		   "metadata": {},
		   "source": [
			"## Example 4.15: Collector_current.sce"
		   ]
		  },
  {
"cell_type": "code",
	   "execution_count": null,
	   "metadata": {
	    "collapsed": true
	   },
	   "outputs": [],
"source": [
"//Exa 4.15\n",
"format('v',7)\n",
"clc;\n",
"clear;\n",
"close;\n",
"// Given data\n",
"bita = 100;\n",
"I_CBO = 4;// in µA\n",
"I_B = 40;// in µA\n",
"// The collector current,\n",
"I_C = (bita * I_B) + ((1+bita) * I_CBO);// in µA\n",
"I_C = I_C * 10^-3;// in msA\n",
"disp(I_C,'The collector current in mA is');"
   ]
   }
,
{
		   "cell_type": "markdown",
		   "metadata": {},
		   "source": [
			"## Example 4.16: Alphadc_and_beta_dc.sce"
		   ]
		  },
  {
"cell_type": "code",
	   "execution_count": null,
	   "metadata": {
	    "collapsed": true
	   },
	   "outputs": [],
"source": [
"//Exa 4.16\n",
"format('v',7)\n",
"clc;\n",
"clear;\n",
"close;\n",
"//Given data\n",
"I_CEo = 21;// in µA\n",
"I_CBO = 1.1;// in µA\n",
"// Value of beta_dc \n",
"beta_dc = round((I_CEo/I_CBO) - 1);\n",
"disp(beta_dc,'Value of beta_dc is');\n",
"// The value of alpha_dc \n",
"alpha_dc = beta_dc/(1 + beta_dc);\n",
"disp(alpha_dc,'The value of alpha_dc is');"
   ]
   }
,
{
		   "cell_type": "markdown",
		   "metadata": {},
		   "source": [
			"## Example 4.17: Alphadc_and_emitter_current.sce"
		   ]
		  },
  {
"cell_type": "code",
	   "execution_count": null,
	   "metadata": {
	    "collapsed": true
	   },
	   "outputs": [],
"source": [
"// Exa 4.17\n",
"format('v',7)\n",
"clc;\n",
"clear;\n",
"close;\n",
"// Given data\n",
"I_CBO = 3;//in µA\n",
"I_CBO= I_CBO*10^-3;// in mA \n",
"I_C= 15;// in mA\n",
"// But it is given that I_C= 99.5% of I_E, SO\n",
"I_E= I_C/99.5*100;// in mA\n",
"alpha_dc= I_C/I_E;\n",
"disp(alpha_dc,'The value of alpha_dc is : ')\n",
"disp(I_E,'The value of I_E in mA is : ')"
   ]
   }
,
{
		   "cell_type": "markdown",
		   "metadata": {},
		   "source": [
			"## Example 4.18: IC_and_IB.sce"
		   ]
		  },
  {
"cell_type": "code",
	   "execution_count": null,
	   "metadata": {
	    "collapsed": true
	   },
	   "outputs": [],
"source": [
"//Exa 4.18\n",
"format('v',5)\n",
"clc;\n",
"clear;\n",
"close;\n",
"//Given data\n",
"alpha_dc = 0.99;\n",
"I_CBO = 10;// in µA\n",
"I_CBO= I_CBO*10^-6;// in A\n",
"I_E = 10;// in mA\n",
"I_E= I_E*10^-3;// in A\n",
"// The collector current,\n",
"I_C = (alpha_dc * I_E) + I_CBO;// in A\n",
"I_C=I_C*10^3;// in mA\n",
"disp(I_C,'The value of I_C in mA is');\n",
"I_C=I_C*10^-3;// in A\n",
"// The base current,\n",
"I_B = I_E - I_C;// in A\n",
"I_B = I_B * 10^6;// in µA\n",
"disp(I_B,'The value of I_B in µA is');"
   ]
   }
,
{
		   "cell_type": "markdown",
		   "metadata": {},
		   "source": [
			"## Example 4.19: Base_current.sce"
		   ]
		  },
  {
"cell_type": "code",
	   "execution_count": null,
	   "metadata": {
	    "collapsed": true
	   },
	   "outputs": [],
"source": [
"// Exa 4.19\n",
"format('v',5)\n",
"clc;\n",
"clear;\n",
"close;\n",
"format('v',9)\n",
"// Given data\n",
"alpha_dc = 0.99;\n",
"I_C = 6;// in mA\n",
"I_C= I_C*10^-3;// in A\n",
"I_CBO = 15;// in µA\n",
"I_CBO= I_CBO*10^-6;// in A\n",
"// The emitter current,\n",
"I_E = (I_C - I_CBO)/alpha_dc;// in A\n",
"// The base current,\n",
"I_B = I_E - I_C;// in A \n",
"I_B= I_B*10^6;// in µA\n",
"I_B= round(I_B)\n",
"disp(I_B,'The value of I_B in µA is');"
   ]
   }
,
{
		   "cell_type": "markdown",
		   "metadata": {},
		   "source": [
			"## Example 4.1: DC_load_line.sce"
		   ]
		  },
  {
"cell_type": "code",
	   "execution_count": null,
	   "metadata": {
	    "collapsed": true
	   },
	   "outputs": [],
"source": [
"// Exa 4.1\n",
"format('v',6)\n",
"clc;\n",
"clear;\n",
"close;\n",
"// Given data\n",
"V_CC = 18;// in V\n",
"V_BB = 6;// in V\n",
"Beta = 75;\n",
"I_CO = 100;// in nA\n",
"I_CO = I_CO * 10^-9;// in A\n",
"R_C = 1;// in k ohm\n",
"R_C = R_C * 10^3;// in ohm\n",
"V_CE = 9;// in V\n",
"I_C = 9;// in mA\n",
"I_C = I_C * 10^-3;// in A\n",
"// I_C = Beta*I_B + (1+Beta)*I_CO;\n",
"I_B = (I_C-((1+Beta)*I_CO))/Beta;// in A\n",
"I_B = I_B * 10^3;// in mA\n",
"disp(I_B,'The value of I_B in mA is');\n",
"V_BE = 0.7;// in V assumed\n",
"R_B = (V_BB-V_BE)/(I_B*10^-3);// in ohm\n",
"R_B = R_B * 10^-3;// in k ohm\n",
"disp(R_B,'The value of R_B for Si transistor in k ohm is');\n",
"V_BE = 0.3;// in V\n",
"R_B = (V_BB-V_BE)/(I_B*10^-3);// in ohm\n",
"R_B= R_B*10^-3;// in k ohm\n",
"disp(R_B,'The value of R_B for Ge transistor in k ohm is');\n",
"V_CEQ= V_CC-I_C*R_C;// in V\n",
"I_CQ= round(Beta*I_B);// in mA\n",
"I_C= V_CC/R_C;// in A\n",
"I_C= I_C*10^3;// in mA\n",
"plot([V_CC,0],[0,I_C]);\n",
"xlabel('V_CC in volts ');\n",
"ylabel('I_C in mA')\n",
"title('DC load line ')\n",
"disp('DC load line shown in figure')\n",
"disp('Q point : '+string(V_CEQ)+' volts, '+string(I_CQ)+' mA')"
   ]
   }
,
{
		   "cell_type": "markdown",
		   "metadata": {},
		   "source": [
			"## Example 4.20: Emitter_current.sce"
		   ]
		  },
  {
"cell_type": "code",
	   "execution_count": null,
	   "metadata": {
	    "collapsed": true
	   },
	   "outputs": [],
"source": [
"//Exa 4.20\n",
"format('v',5)\n",
"clc;\n",
"clear;\n",
"close;\n",
"// Given data\n",
"alpha_dc = 0.98;\n",
"I_CBO = 12;// in µA\n",
"I_CBO = I_CBO * 10^-6;// in A\n",
"I_B = 120;// in µA\n",
"I_B = I_B * 10^-6;// in A\n",
"beta_dc = alpha_dc/(1-alpha_dc);\n",
"// The emitter current,\n",
"I_E = ((1 + beta_dc) * I_B) + ((1 + beta_dc) * I_CBO);//in A\n",
"I_E = I_E * 10^3;// in mA\n",
"disp(I_E,'The value of I_E in mA is');"
   ]
   }
,
{
		   "cell_type": "markdown",
		   "metadata": {},
		   "source": [
			"## Example 4.21: Base_and_emitter_current.sce"
		   ]
		  },
  {
"cell_type": "code",
	   "execution_count": null,
	   "metadata": {
	    "collapsed": true
	   },
	   "outputs": [],
"source": [
"// Exa 4.21\n",
"format('v',7)\n",
"clc;\n",
"clear;\n",
"close;\n",
"// Given data\n",
"beta_dc = 90;\n",
"// The base current,\n",
"I_C = 15;// in mA\n",
"I_C = I_C * 10^-3;// in A\n",
"I_B = I_C/beta_dc;// in A\n",
"I_B=I_B*10^6;// in µA\n",
"disp(I_B,'The base current in µA is');\n",
"I_B=I_B*10^-6;// in A\n",
"// The emitter current,\n",
"I_E = I_C + I_B;// in A\n",
"I_E = I_E * 10^3;// in mA\n",
"disp(I_E,'The Emitter current in mA is');\n",
"alpha_dc = beta_dc/(1+beta_dc);\n",
"disp(alpha_dc,'The value of alpha_dc is');\n",
"\n",
"// Note: There is printing mistake in the book in this example."
   ]
   }
,
{
		   "cell_type": "markdown",
		   "metadata": {},
		   "source": [
			"## Example 4.2: Value_of_RB_RC_and_IC.sce"
		   ]
		  },
  {
"cell_type": "code",
	   "execution_count": null,
	   "metadata": {
	    "collapsed": true
	   },
	   "outputs": [],
"source": [
"// Exa 4.2\n",
"format('v',5)\n",
"clc;\n",
"clear;\n",
"close;\n",
"// Given data\n",
"V_BB = 15;// in V\n",
"V_CC = 15;// in V\n",
"I_CO = 0.1;// in µA\n",
"I_CO = I_CO * 10^-6;// in A\n",
"Beta = 60;\n",
"I_B = 50;// in µA\n",
"I_B = I_B * 10^-6;// in A\n",
"V_CE = 8;// in V\n",
"I_C = (Beta*I_B)+((1+Beta)*I_CO);// in A\n",
"I_C =  round(I_C * 10^3);// in mA\n",
"disp('Part (i) : ')\n",
"disp(I_C,'The value of I_C in mA is');\n",
"R_C = (V_CC-V_CE)/(I_C*10^-3);// in ohm\n",
"R_C = R_C * 10^-3;// in k ohm\n",
"disp(R_C,'The value of R_C in k ohm is');\n",
"V_BE = 0.3;// in V\n",
"R_BGe = (V_BB-V_BE)/I_B;// in ohm\n",
"R_BGe = R_BGe * 10^-3;// in k ohm\n",
"disp(R_BGe,'The value of R_B for Ge in k ohm is');\n",
"V_BE = 0.7;// in V\n",
"R_BSi = (V_BB-V_BE)/I_B;// in ohm\n",
"R_BSi = R_BSi * 10^-3;// in k ohm\n",
"disp(R_BSi,'The value of R_B for Si in k ohm is');\n",
"P_RC = ((I_C*10^-3)^2)*(7/3)*10^3;// in W\n",
"P_RC = P_RC * 10^3;// in mW\n",
"disp('Part (ii) : ')\n",
"disp(P_RC,'The power dissipations in RC in mW is');\n",
"// The power dissipations in the transistor \n",
"P_TRANS = V_CE*I_C;// in mW\n",
"disp(P_TRANS,'The power dissipations in the transistor in mW is');\n",
"disp('Part (iii) : For RC= 1 kΩ, V_CE increase, shifting the Q-point ot right and I_C increase slightly')"
   ]
   }
,
{
		   "cell_type": "markdown",
		   "metadata": {},
		   "source": [
			"## Example 4.3: NEw_value_of_VCE.sce"
		   ]
		  },
  {
"cell_type": "code",
	   "execution_count": null,
	   "metadata": {
	    "collapsed": true
	   },
	   "outputs": [],
"source": [
"// Exa 4.3\n",
"format('v',6)\n",
"clc;\n",
"clear;\n",
"close;\n",
"// Given data\n",
"V_CE = 9;// in V\n",
"R_C = 10;// in Mohm\n",
"R_C = R_C * 10^6;// in ohm\n",
"V = 10;// in V\n",
"I_CEO = (V - V_CE)/R_C;// in A\n",
"// When R_C is changed to 10 k ohm\n",
"R_C = 10;// in k ohm\n",
"R_C = R_C * 10^3;// in ohm\n",
"V_CE = (V - (I_CEO*R_C));// in V\n",
"disp(V_CE,'The new value of V_CE in V is');"
   ]
   }
,
{
		   "cell_type": "markdown",
		   "metadata": {},
		   "source": [
			"## Example 4.4: DC_load_line.sce"
		   ]
		  },
  {
"cell_type": "code",
	   "execution_count": null,
	   "metadata": {
	    "collapsed": true
	   },
	   "outputs": [],
"source": [
"// Exa 4.4\n",
"format('v',6)\n",
"clc;\n",
"clear;\n",
"close;\n",
"// Given data\n",
"V_CC = 20;// in V\n",
"V_BB = 10;// in V\n",
"V_BE= 0.7;// in V\n",
"V_CEsat = 0.3;// in V\n",
"R_B = 47;// in k ohm\n",
"R_B = R_B * 10^3;// in ohm\n",
"R_C = 1;// in k ohm\n",
"R_C = R_C * 10^3;// in ohm\n",
"I_C =V_CC/R_C;// in A\n",
"I_C = I_C * 10^3;// in mA\n",
"plot([V_CC,0],[0,I_C]);\n",
"xlabel('V_CE in volts');\n",
"ylabel('I_C in mA');\n",
"title('DC load line')\n",
"I_BQ = (V_BB-V_BE)/R_B;// in A\n",
"Beta = 80;\n",
"I_CQ = Beta*I_BQ*10^3;// in mA\n",
"V_CEQ = V_CC - (I_CQ*10^-3*R_C);// in V\n",
"disp('DC load line shown in figure')\n",
"disp('Q points : '+string(V_CEQ)+' volts, '+string(I_CQ)+' mA')\n",
"I_Csat = (V_CC-V_CEsat)/R_C;// in A\n",
"I_B = I_Csat/Beta;// in A\n",
"V_BE = 0.7;// in V\n",
"R_B = (V_BB-V_BE)/I_B;// in ohm\n",
"disp(R_B*10^-3,'The value of R_B in k ohm is');\n",
"R_C = 500;// in ohm\n",
"V_CE = V_CC - (I_Csat*R_C);// in V\n",
"disp(V_CE,'The value of V_CE in volts is : ')\n",
"disp('The transistor will come out of saturation and enter the active region of the transistors.');"
   ]
   }
,
{
		   "cell_type": "markdown",
		   "metadata": {},
		   "source": [
			"## Example 4.5: Value_of_bita_dc.sce"
		   ]
		  },
  {
"cell_type": "code",
	   "execution_count": null,
	   "metadata": {
	    "collapsed": true
	   },
	   "outputs": [],
"source": [
"// Exa 4.5\n",
"format('v',6)\n",
"clc;\n",
"clear;\n",
"close;\n",
"// Given data\n",
"Beta_dc = 80;\n",
"V_CC = 25;// in V\n",
"V_BE = 0.7;// in V\n",
"R_B = 180;// in k ohm\n",
"R_B = R_B * 10^3;// in ohm\n",
"R_E = 200;// in ohm\n",
"R_C = 820;// in ohm\n",
"I_B = (V_CC-V_BE)/(R_B+((Beta_dc+1)*R_E));// in A\n",
"I_C = Beta_dc*I_B;// in A\n",
"V_CG = V_CC - (I_C*R_C);// in V\n",
"disp(V_CG,'The voltage between collector and ground in volts is : ')\n",
"V_CEsat = 0.3;// in V\n",
"// V_CC - V_CEsat = I_Csat*R_C + I_Csat/Beta_dc*(Beta_dc+1)*R_E;\n",
"I_C = (V_CC-V_CEsat)/(R_C+R_E);// in A\n",
"//I_B = V_CC - ((I_E*R_E)+V_BE)/R_B = V_CC - ((I_C*R_E)+V_BE)/R_B;\n",
"I_B = (V_CC-I_C*R_E+V_BE)/R_B;// in A\n",
"Beta_dc = I_C/I_B;\n",
"disp(Beta_dc,'The value of Beta_dc on which transistor is saturate is');\n",
"\n",
"// Note: There is some difference between the value of Beta_dc in the book and coding output because the correct values of I_C and I_B are  24.215 mA and 0.1158"
   ]
   }
,
{
		   "cell_type": "markdown",
		   "metadata": {},
		   "source": [
			"## Example 4.7: Value_of_Beta_dc.sce"
		   ]
		  },
  {
"cell_type": "code",
	   "execution_count": null,
	   "metadata": {
	    "collapsed": true
	   },
	   "outputs": [],
"source": [
"// Exa 4.7\n",
"format('v',6)\n",
"clc;\n",
"clear;\n",
"close;\n",
"// Given data\n",
"Beta_dc = 80;\n",
"V_CC = 25;// in V\n",
"V_BE = 0.7;// in V\n",
"R_B = 180;// in k ohm\n",
"R_B = R_B * 10^3;// in ohm\n",
"R_E = 200;// in ohm\n",
"R_C = 820;// in ohm\n",
"I_B = (V_CC-V_BE)/(R_B+((Beta_dc+1)*R_E));// in A\n",
"I_C = Beta_dc*I_B;// in A\n",
"V_CG = V_CC - (I_C*R_C);// in V\n",
"disp(V_CG,'The voltage between collector and ground in volts is : ')\n",
"V_CEsat = 0.3;// in V\n",
"// V_CC - V_CEsat = I_Csat*R_C + I_Csat/Beta_dc*(Beta_dc+1)*R_E;\n",
"I_C = (V_CC-V_CEsat)/(R_C+R_E);// in A\n",
"//I_B = V_CC - ((I_E*R_E)+V_BE)/R_B = V_CC - ((I_C*R_E)+V_BE)/R_B;\n",
"I_B = (V_CC-I_C*R_E+V_BE)/R_B;// in A\n",
"Beta_dc = I_C/I_B;\n",
"disp(Beta_dc,'The value of Beta_dc on which transistor is saturate is');\n",
"\n",
"// Note: There is some difference between the value of Beta_dc in the book and coding output because the correct values of I_C and I_B are  24.215 mA and 0.1158"
   ]
   }
,
{
		   "cell_type": "markdown",
		   "metadata": {},
		   "source": [
			"## Example 4.8: New_operating_point.sce"
		   ]
		  },
  {
"cell_type": "code",
	   "execution_count": null,
	   "metadata": {
	    "collapsed": true
	   },
	   "outputs": [],
"source": [
"// Exa 4.8\n",
"format('v',6)\n",
"clc;\n",
"clear;\n",
"close;\n",
"// Given data\n",
"V_CE = 8;// in V\n",
"I_C = 1;// in mA\n",
"I_C = I_C * 10^-3;// in A\n",
"V_CC = 12;// in V\n",
"Beta = 100;\n",
"R_C = (V_CC-V_CE)/I_C;// in ohm\n",
"I_B = I_C/Beta;// in A\n",
"V_BE = 0.3;// in V\n",
"R_B = ((V_CC-(I_C*R_C))-V_BE)/I_B;// in ohm\n",
"// For Beta= 50;\n",
"V_CE= 9.6;// in V\n",
"I_C= 0.6;// in mA\n",
"R_C= R_C*10^-3;// in k ohm\n",
"R_B= R_B*10^-3;// in k ohm\n",
"disp(R_C,'The value of R_C in k ohm is');\n",
"disp(R_B,'The value of R_B in k ohm is');\n",
"disp('New Q point : '+string(V_CE)+' volts, '+string(I_C)+' mA')"
   ]
   }
,
{
		   "cell_type": "markdown",
		   "metadata": {},
		   "source": [
			"## Example 4.9: Value_of_R1_and_R2.sce"
		   ]
		  },
  {
"cell_type": "code",
	   "execution_count": null,
	   "metadata": {
	    "collapsed": true
	   },
	   "outputs": [],
"source": [
"// Exa 4.9\n",
"format('v',6)\n",
"clc;\n",
"clear;\n",
"close;\n",
"// Given data\n",
"V_BE= 0.7;\n",
"bita = 100;\n",
"V_CC = 20;// in V\n",
"R_E = 1 * 10^3;// in ohm\n",
"V_CEQ = 10;// in V\n",
"I_CQ = 2* 10^-3;// in A\n",
"S_ICO = 10;\n",
"I_BQ = I_CQ/bita;// in A\n",
"// R_B= R1*R2/(R1+R2)      (i)\n",
"// V_B= R2*V_CC/(R1+R2) (ii)\n",
"R_B= (S_ICO-1)*R_E;// in ohm\n",
"// V_CC= I_CQ*R_C+V_CEQ+(1+bita)*I_C/bita*R_E\n",
"R_C= (V_CC-V_CEQ-I_CQ*R_E)/I_CQ;// in ohm\n",
"I_B= I_CQ/bita;// in A\n",
"V_B= I_B*R_B+V_BE+(1+bita)*R_E*I_B;// in V\n",
"// From eq (i) and (ii)\n",
"R2= (V_B*R_B+R_B*(V_CC-V_B))/(V_CC-V_B);// in ohm\n",
"R1= R2*R_B/(R2-R_B);// in ohm\n",
"R1= R1*10^-3;// in k ohm\n",
"R2= R2*10^-3;// in k ohm\n",
"disp(R1,'The value of R1 in k ohm is : ')\n",
"disp(R2,'The value of R2 in k ohm is : ')"
   ]
   }
],
"metadata": {
		  "kernelspec": {
		   "display_name": "Scilab",
		   "language": "scilab",
		   "name": "scilab"
		  },
		  "language_info": {
		   "file_extension": ".sce",
		   "help_links": [
			{
			 "text": "MetaKernel Magics",
			 "url": "https://github.com/calysto/metakernel/blob/master/metakernel/magics/README.md"
			}
		   ],
		   "mimetype": "text/x-octave",
		   "name": "scilab",
		   "version": "0.7.1"
		  }
		 },
		 "nbformat": 4,
		 "nbformat_minor": 0
}
