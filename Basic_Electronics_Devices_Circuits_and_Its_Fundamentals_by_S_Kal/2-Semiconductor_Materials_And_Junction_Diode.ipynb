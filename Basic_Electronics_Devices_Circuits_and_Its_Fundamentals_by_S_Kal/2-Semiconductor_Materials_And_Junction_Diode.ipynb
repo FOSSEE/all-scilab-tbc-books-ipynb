{
"cells": [
 {
		   "cell_type": "markdown",
	   "metadata": {},
	   "source": [
       "# Chapter 2: Semiconductor Materials And Junction Diode"
	   ]
	},
{
		   "cell_type": "markdown",
		   "metadata": {},
		   "source": [
			"## Example 2.1: Electron_and_hole_component_of_current_density.sce"
		   ]
		  },
  {
"cell_type": "code",
	   "execution_count": null,
	   "metadata": {
	    "collapsed": true
	   },
	   "outputs": [],
"source": [
"// Exa 2.1\n",
"format('v',9)\n",
"clc;\n",
"clear;\n",
"close;\n",
"// Given data\n",
"n_i = 1.5 * 10^10;// in /cc\n",
"p = n_i;// in /cc\n",
"n = n_i;// in /cc\n",
"miu_n = 1400;// in cm^2/V-s\n",
"miu_p = 450;//in cm^2/V-s\n",
"q = 1.6 * 10^-19;// in C\n",
"E = 20;// in V/cm\n",
"a= 5;// cross section area of Si bar in cm^2\n",
"sigma_n = n*q*miu_n;// in mho/cm\n",
"sigma_p = n*q*miu_p;// in mho/cm\n",
"// Electron current density \n",
"Jn = sigma_n*E;// in A\n",
"Jn= Jn*10^6;// in µA/cm^2\n",
"disp(Jn,'Electron current density in µA/cm^2 is');\n",
"// The hole current density \n",
"Jp = sigma_p*E;// in A/cm^2\n",
"Jp= Jp*10^6;// in µA/cm^2\n",
"disp(Jp,'The hole current density in µA/cm^2 is');\n",
"//The total current in the bar \n",
"total = (Jn+Jp)*a;// µA/cm^2\n",
"disp(total,'The total current in the bar in µA/cm^2 is');\n",
"format('e',8)\n",
"// The resistivity of the bar \n",
"rho = 1/(n_i*q*(miu_p+miu_n)*10^2);// in ohm-cm\n",
"disp(rho,'The resistivity of the bar in ohm-cm is');"
   ]
   }
,
{
		   "cell_type": "markdown",
		   "metadata": {},
		   "source": [
			"## Example 2.2: Peak_output_voltage.sce"
		   ]
		  },
  {
"cell_type": "code",
	   "execution_count": null,
	   "metadata": {
	    "collapsed": true
	   },
	   "outputs": [],
"source": [
"// Exa 2.2\n",
"format('v',5)\n",
"clc;\n",
"clear;\n",
"close;\n",
"// Given data\n",
"V_F = 20;// in V\n",
"Vin = V_F;// in V\n",
"V_BE = 0.7;// in V\n",
"R1 = 500;//resistance in ohm\n",
"R2 = 10;// resistance in ohm\n",
"// Peak current though the diode\n",
"Ifpeak = (V_F-V_BE)/(R1+R2);// in A\n",
"Ifpeak = Ifpeak * 10^3;// in mA\n",
"disp(Ifpeak,'The peak current through the diode in mA is');\n",
"R_L = 500;// in ohm\n",
"// Peak output voltage\n",
"Vpeakout = Ifpeak*10^-3*R_L;// in V\n",
"disp(Vpeakout,'The peak out voltage in V is');\n",
"// For ideal diode\n",
"Ifpeak = V_F/R_L;// in A\n",
"Ifpeak = Ifpeak * 10^3;// in mA\n",
"// The peak output voltage for ideal diode \n",
"Vpeakout= Ifpeak*10^-3*R_L;// in V\n",
"disp(Ifpeak,'The peak current for ideal diode in mA is');\n",
"disp(Vpeakout,'The peak output voltage for ideal diode in V is');"
   ]
   }
,
{
		   "cell_type": "markdown",
		   "metadata": {},
		   "source": [
			"## Example 2.3: Increase_in_forward_current.sce"
		   ]
		  },
  {
"cell_type": "code",
	   "execution_count": null,
	   "metadata": {
	    "collapsed": true
	   },
	   "outputs": [],
"source": [
"// Exa 2.3\n",
"format('v',6)\n",
"clc;\n",
"clear;\n",
"close;\n",
"// Given data\n",
"t = 27;// in °C\n",
"t= t+273;// in °K\n",
"q= 1.6*10^-19;// electron charge in C\n",
"v = 200*10^-3;// in V\n",
"kt_by_q= 0.026;// in V\n",
"Io= 3*10^-7;// in A\n",
"// For large reverse bias I= Io*(%e^(q*v/(k*t)))\n",
"I= Io*(%e^(v/kt_by_q)-1);// in A\n",
"I= round(I*10^6);// in µA\n",
"disp(I,'The current flowing through the diode in µA is');\n",
"Idaso = Io*2^7;// in A\n",
"// r_ac = dv/di = 1/( Io*(1/kTdividedq)*(%e^(v/(kTdividedq))) );\n",
"r_ac = 1/( Io*(1/kt_by_q)*(%e^(v/(kt_by_q))) );\n",
"disp(r_ac,'The ac resistance in ohm is : ');\n",
"kt_by_q = 0.032;// in V\n",
"I1 = Idaso * ((%e^(v/(kt_by_q))) - 1);// in A\n",
"I1 = I1 * 10^3;// in mA\n",
"delI = I1-(I*10^-3);// in mA\n",
"disp(delI,'The increase in forward current in mA is');"
   ]
   }
,
{
		   "cell_type": "markdown",
		   "metadata": {},
		   "source": [
			"## Example 2.4: Slope_of_the_line.sce"
		   ]
		  },
  {
"cell_type": "code",
	   "execution_count": null,
	   "metadata": {
	    "collapsed": true
	   },
	   "outputs": [],
"source": [
"// Exa 2.4\n",
"format('e',9)\n",
"clc;\n",
"clear;\n",
"close;\n",
"// Given data\n",
"V = 30;//applied forward voltage in V\n",
"R_L = 3;//load resistance in  k ohm\n",
"R_L = R_L * 10^3;// in ohm\n",
"Imax = V/R_L;// maximum diode current in A\n",
"Imax = Imax * 10^3;// in mA\n",
"slope = -1/R_L;// in mho\n",
"plot([V,0],[0,Imax]);\n",
"xlabel('V_F in volts');\n",
"ylabel('I_F in mA');\n",
"title('DC load line');\n",
"disp('DC load line shown in figure')\n",
"disp(slope,'The slope of the line in mho is');\n",
"\n",
"// Note: There is calculation error to find the value of slope because -1/3kΩ = -3.33*10^-4 mho,  not = -3.33*10^-3 mho"
   ]
   }
,
{
		   "cell_type": "markdown",
		   "metadata": {},
		   "source": [
			"## Example 2.5: Maximum_and_minimum_values_of_the_instantaneous_power.sce"
		   ]
		  },
  {
"cell_type": "code",
	   "execution_count": null,
	   "metadata": {
	    "collapsed": true
	   },
	   "outputs": [],
"source": [
"// Exa 2.5\n",
"format('v',6)\n",
"clc;\n",
"clear;\n",
"close;\n",
"// Given data\n",
"Vp= '[4+0.2*sin(omega*t)]';// in V\n",
"Ip= '[4+0.3*sin(omega*t)]';// in mA\n",
"//The instantaneous power dissipated, P= Vp*Ip = [4+0.2*sind(wt)]*[4+0.3*sind(wt)] \n",
"// and putting, sin^2(omega*t)= 1/2-1/2*cos(2*omega*t)\n",
"P= '[16.03+2*sin(omega*t)-0.03*cos(2*omega*t)]*10^-3';// in W\n",
"disp(P,'The instantaneous power dissipated in the diode in W is : ')\n",
"// Pmax occurs when omega*t=90, so\n",
"omega_t= 90;// in °\n",
"Pmax= [16.03+2*sind(omega_t)-0.03*cosd(2*omega_t)]*10^-3;// in W\n",
"disp(Pmax,'The maximum value of instantaneous power dissipated in W is : ')\n",
"// Pmin occurs when omega*t=-90, so\n",
"omega_t= -90;// in °\n",
"Pmin= [16.03+2*sind(omega_t)-0.03*cosd(2*omega_t)]*10^-3;// in W\n",
"disp(Pmin,'The minimum value of instantaneous power dissipated in W is : ');\n",
"// The average power dissipated\n",
"Pav=(Pmax+Pmin)/2;// in W\n",
"disp(Pav,'The average power dissipated in the diode in W is : ')"
   ]
   }
,
{
		   "cell_type": "markdown",
		   "metadata": {},
		   "source": [
			"## Example 2.6: Load_line.sce"
		   ]
		  },
  {
"cell_type": "code",
	   "execution_count": null,
	   "metadata": {
	    "collapsed": true
	   },
	   "outputs": [],
"source": [
"// Exa 2.6\n",
"format('v',9)\n",
"clc;\n",
"clear;\n",
"close;\n",
"// Given data\n",
"R_L = 50;// in ohm\n",
"V = 10;// in V\n",
"R = 5;// in ohm\n",
"V_D = (V*R)/(R_L+R);// in V\n",
"R_D = (R_L*R)/(R_L+R);// in ohm\n",
"I_D = V_D/R_D;// in A\n",
"I_D = I_D * 10^3;// in mA\n",
"plot([V_D,0],[0,I_D])\n",
"xlabel('V_D in volts');\n",
"ylabel('I_D in mA');\n",
"title('DC load line');\n",
"disp('DC load line shown in figure')\n",
"slope = -1/R_D;\n",
"disp(slope,'The slope of the dc load line is : ');"
   ]
   }
,
{
		   "cell_type": "markdown",
		   "metadata": {},
		   "source": [
			"## Example 2.7: Value_of_Is.sce"
		   ]
		  },
  {
"cell_type": "code",
	   "execution_count": null,
	   "metadata": {
	    "collapsed": true
	   },
	   "outputs": [],
"source": [
"// Exa 2.7\n",
"format('e',8)\n",
"clc;\n",
"clear;\n",
"close;\n",
"// Given data\n",
"V_T= 26*10^-3;// in V\n",
"T = 300;// in K\n",
"V = 0.25;// in V\n",
"I=  10 * 10^-3;// in A\n",
"// I = I_S*( (%e^(V/(n*kTdividedq)))-1 ) = I_S*( (%e^(V/V_T))-1 );\n",
"I_S= I/(%e^(V/V_T)-1);// in A\n",
"disp(I_S,'The reverse saturate current in amp. is : ')\n",
"format('v',6)\n",
"// For 1 mA current\n",
"I = 1;// in mA\n",
"I = I*10^-3;// in A\n",
"V = (1/38.46)*log(I/I_S);// in V\n",
"disp(V,'The bias voltage needed for 1 mA in V is');\n",
"// For 100 mA current\n",
"I = 100;// in mA\n",
"I = I * 10^-3;// in A\n",
"V = (1/38.46)*log(I/I_S);// in V\n",
"disp(V,'The bias voltage needed for 100 mA in V is');\n",
"\n",
"// Note: Answer in the book is not accurate."
   ]
   }
,
{
		   "cell_type": "markdown",
		   "metadata": {},
		   "source": [
			"## Example 2.8: Reverse_saturation_current.sce"
		   ]
		  },
  {
"cell_type": "code",
	   "execution_count": null,
	   "metadata": {
	    "collapsed": true
	   },
	   "outputs": [],
"source": [
"// Exa 2.8\n",
"format('v',6)\n",
"clc;\n",
"clear;\n",
"close;\n",
"// Given data\n",
"V_T= 25*10^-3;// in V\n",
"// I = Io*( (%e^(V/V_T))-1 );\n",
"I = 1;// in mA\n",
"I = I * 10^-3;// in A\n",
"V = 0.15;// in V\n",
"Io = I/( (%e^((1/V_T)*V))-1 );// in A\n",
"Io = Io * 10^6;// in µA\n",
"disp(Io,'The reverse saturation current at room temperature in µA is');\n",
"// Io doubles for every 10°C-rise in temperature. Thus at 40°C\n",
"Io_new= 4*Io;//new value of reverse saturation current in µA\n",
"disp(Io_new,'The reverse saturation current at 40 °C in µA is');\n",
"I = 100;// in mA\n",
"I = I * 10^-3;// in A\n",
"// I = Io*( (%e^((1/V_T)*V))-1 );\n",
"V = (1/40)*log( I/(Io*10^-6) );// in V\n",
"disp(V,'The forward bias voltage in V is');"
   ]
   }
],
"metadata": {
		  "kernelspec": {
		   "display_name": "Scilab",
		   "language": "scilab",
		   "name": "scilab"
		  },
		  "language_info": {
		   "file_extension": ".sce",
		   "help_links": [
			{
			 "text": "MetaKernel Magics",
			 "url": "https://github.com/calysto/metakernel/blob/master/metakernel/magics/README.md"
			}
		   ],
		   "mimetype": "text/x-octave",
		   "name": "scilab",
		   "version": "0.7.1"
		  }
		 },
		 "nbformat": 4,
		 "nbformat_minor": 0
}
