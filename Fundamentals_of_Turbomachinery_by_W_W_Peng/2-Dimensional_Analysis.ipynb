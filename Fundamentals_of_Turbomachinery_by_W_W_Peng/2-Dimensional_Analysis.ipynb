{
"cells": [
 {
		   "cell_type": "markdown",
	   "metadata": {},
	   "source": [
       "# Chapter 2: Dimensional Analysis"
	   ]
	},
{
		   "cell_type": "markdown",
		   "metadata": {},
		   "source": [
			"## Example 2.10: DA.sce"
		   ]
		  },
  {
"cell_type": "code",
	   "execution_count": null,
	   "metadata": {
	    "collapsed": true
	   },
	   "outputs": [],
"source": [
"clear all; clc;\n",
"//This numerical is Ex 2_4E,page 31.\n",
"\n",
"disp('From phi equal to Qm/(Dm^3*Nm)=Qp/(Dp^3*Np) and psi=g*Hm/(Dm^2*Nm^2)=g*Hp/(Dp^2*Np^2), we have Qm=Qp*((Dm/Dp)^3)*(Nm/Np) and Hm=Hp*((Dm/Dp)^2)*(Nm/Np)^2)')\n",
"\n",
"Q_p=25\n",
"//let x=Dm/Dp=1/5\n",
"x=1/5\n",
"N_m=3600\n",
"N_p=1800\n",
"H_p=160\n",
"E=0.92\n",
"//let y=rho*g=62.4\n",
"y=62.4\n",
"\n",
"Q_m=Q_p*((x)^3)*(N_m/N_p)\n",
"printf('\n The value of Q_m is equal to %g ft^3/s',Q_m)\n",
"\n",
"H_m=H_p*((x^2)*(N_m/N_p)^2)\n",
"printf('\n The value of H_m is equal to %g ft',H_m)\n",
"\n",
"P_s=E*y*Q_m*H_m/550//1/550 is conversion factor\n",
"printf('\n The value of P_s is equal to %0.02f hp',P_s)\n",
""
   ]
   }
,
{
		   "cell_type": "markdown",
		   "metadata": {},
		   "source": [
			"## Example 2.11: DA.sce"
		   ]
		  },
  {
"cell_type": "code",
	   "execution_count": null,
	   "metadata": {
	    "collapsed": true
	   },
	   "outputs": [],
"source": [
"clear all; clc;\n",
"//This numerical is Ex 2_4S,page 31.\n",
"disp('From phi equal to Qm/(Dm^3*Nm)=Qp/(Dp^3*Np) and psi=g*Hm/(Dm^2*Nm^2)=g*Hp/(Dp^2*Np^2), we have Qm=Qp*((Dm/Dp)^3)*(Nm/Np) and Hm=Hp*((Dm/Dp)^2)*(Nm/Np)^2)')\n",
"\n",
"Q_p=42\n",
"//let x=Dm/Dp=1/5\n",
"x=1/5\n",
"N_m=3600\n",
"N_p=1800\n",
"H_p=50\n",
"E=0.92\n",
"rho=998\n",
"g=9.81\n",
"//let y=Q/60=0.011166\n",
"y=0.011166\n",
"\n",
"Q_m=Q_p*((x)^3)*(N_m/N_p)\n",
"printf('\n The value of Q_m is equal to %g cmm',Q_m)\n",
"\n",
"H_m=H_p*((x^2)*(N_m/N_p)^2)\n",
"printf('\n The value of H_m is equal to %g m',H_m)\n",
"\n",
"Q_mr=0.67//rounded off\n",
"P_s=E*rho*g*(y)*H_m\n",
"printf('\n The value of P_s is equal to %0.1f W',P_s)"
   ]
   }
,
{
		   "cell_type": "markdown",
		   "metadata": {},
		   "source": [
			"## Example 2.1: DA.sce"
		   ]
		  },
  {
"cell_type": "code",
	   "execution_count": null,
	   "metadata": {
	    "collapsed": true
	   },
	   "outputs": [],
"source": [
"clear all; clc;\n",
"//This numerical is Ex 2_1,page 18.\n",
"\n",
"//These are examples given in the book,they are used to teach conversions from one unit to another\n",
"\n",
"rho=0.075//lbm/ft^3\n",
"\n",
"V=120\n",
"\n",
"RHO_c=rho/32.2//rho conerted to slug/ft^3\n",
"\n",
"disp('The initial value of rho was given in lb/ft^3. In order to convert it to slug/ft^3,we have used the conversion factor 1/32.2.')\n",
"\n",
"printf('\nThe initial value of rho was 0.075lb/ft^3 after coverting it is %0.5f slug/ft^3',RHO_c)\n",
"\n",
"p_d=RHO_c*V^2/2\n",
"\n",
"printf('\nHence the value of dynamic pressure is %0.2f (slug/ft^3)(ft/s)',p_d)\n",
"\n",
"p_dc=p_d/(12^2)//converting slug*s/ft^2 to lbf/in^2\n",
"\n",
"printf('\nThe final value of dynamic pressure is %0.3f lbf/in^2',p_dc)\n",
"\n",
"printf('\nHence we can say that the dynamic power is equal to  %0.3f psi.',p_dc)"
   ]
   }
,
{
		   "cell_type": "markdown",
		   "metadata": {},
		   "source": [
			"## Example 2.2: DA.sce"
		   ]
		  },
  {
"cell_type": "code",
	   "execution_count": null,
	   "metadata": {
	    "collapsed": true
	   },
	   "outputs": [],
"source": [
"clear all; clc;\n",
"//This numerical is Ex 2_2,page 18.\n",
"\n",
"// This numerical is used an example to teach conversion factors\n",
"T0=600\n",
"T1=550\n",
"Cp=0.24\n",
"halfVsquare=Cp*32.2*778*(T0-T1)\n",
"printf('\n The value of half of V^2 is %g (Btu/slug*R)(lbf-ft/Btu)(R)',halfVsquare)\n",
"printf('\n The value of half of V^2 ca also be written as %g lbf-ft/slug',halfVsquare)\n",
"printf('\n The value of half of V^2 is also equal to %g (ft/s)^2',halfVsquare)\n",
"V=sqrt(halfVsquare*2)\n",
"printf('\n\n The value of V is equal to %0.1f ft/s',V)"
   ]
   }
,
{
		   "cell_type": "markdown",
		   "metadata": {},
		   "source": [
			"## Example 2.3: DA.sce"
		   ]
		  },
  {
"cell_type": "code",
	   "execution_count": null,
	   "metadata": {
	    "collapsed": true
	   },
	   "outputs": [],
"source": [
"clear all; clc;\n",
"//This numerical is Ex 2_3,page 19.\n",
"\n",
"// This numerical is used an example to teach conversion factors\n",
"\n",
"rho=0.85*62.4\n",
"p=50//in psi\n",
"g=32.2\n",
"disp('Since pressure is the product of density,gravitaional accelaration and head, we can convert pressure in psi to head in ft using suitable conversion factors.')\n",
"H=p*144/( (rho/32.2)*32.2)\n",
"printf('The value of head H is given by %0.1f lb/ft^2/((slug/ft^3)*(ft/s^2))',H)\n",
"printf('\nThus the value of H is equal to %0.1f ft',H)"
   ]
   }
,
{
		   "cell_type": "markdown",
		   "metadata": {},
		   "source": [
			"## Example 2.4: DA.sce"
		   ]
		  },
  {
"cell_type": "code",
	   "execution_count": null,
	   "metadata": {
	    "collapsed": true
	   },
	   "outputs": [],
"source": [
"clear all; clc;\n",
"//This numerical is Ex 2_4,page 19.\n",
"\n",
"//converting dynamic pressure of air from 2_1 to wg\n",
"\n",
"pd=16.77//lbf/ft^2\n",
"rho_w=62.4/32.2\n",
"g=32.2\n",
"disp('From pressure=density*gravitational accelaration *head, we can find out the value of head')\n",
"h=pd/(rho_w*g)\n",
"printf(' Hence the value of head H is %0.3f (lbf/ft^2)/(lbf/ft^3)',h)\n",
"printf('\n The value of head H can also be given by %0.3f ft',h)"
   ]
   }
,
{
		   "cell_type": "markdown",
		   "metadata": {},
		   "source": [
			"## Example 2.5: DA.sce"
		   ]
		  },
  {
"cell_type": "code",
	   "execution_count": null,
	   "metadata": {
	    "collapsed": true
	   },
	   "outputs": [],
"source": [
"clear all; clc;\n",
"//This numerical is Ex 2_1E,page 29.\n",
"Q1=80\n",
"N1=1000\n",
"N2=1500\n",
"delta_p1=150\n",
"P_s1=8\n",
"\n",
"disp('From phi_2=phi_1 we have Q2/(D^3*N2)=Q1/(D^3*N1)')\n",
"Q2=Q1*N2/N1\n",
"printf(' The value of Q2 is equal to %g gpm \n',Q2)\n",
"\n",
"disp('From psi_1=psi_2 we have delta p 2/(rho*D^2*N2^2)=delta p 1/(rho*D^2*N1^2)')\n",
"delta_p2=delta_p1*((N2/N1)^2)\n",
"printf(' The value of delta_p2 is equal to %g psig \n',delta_p2)\n",
"\n",
"disp('From pi_2=pi_1 we have P_s2=P_s1*((N2/N1)^3)')\n",
"P_s2=P_s1*(N2/N1)^3\n",
"printf(' The value of P_s2 is equal to %g hp \n',P_s2)\n",
"\n",
"disp('The efficiencies are same at the corresponding points,so E1=E2')\n",
"E1=Q1*delta_p1*0.00223*144/(550*P_s1)\n",
"printf(' The value of E1=E2 is equal to %g \n',E1)\n",
"disp('Thus the efficiency is equal to 87.57%')"
   ]
   }
,
{
		   "cell_type": "markdown",
		   "metadata": {},
		   "source": [
			"## Example 2.6: DA.sce"
		   ]
		  },
  {
"cell_type": "code",
	   "execution_count": null,
	   "metadata": {
	    "collapsed": true
	   },
	   "outputs": [],
"source": [
"clear all; clc;\n",
"//This numerical is Ex 2_1S,page 29.\n",
"Q1=18.2\n",
"N1=1000\n",
"N2=1500\n",
"delta_p1=10.3\n",
"P_s1=6\n",
"\n",
"Q2=Q1*N2/N1\n",
"printf('\n The value of Q2 is equal to %g m^3/h',Q2)\n",
"\n",
"delta_p2=delta_p1*((N2/N1)^2)\n",
"printf('\n The value of delta_p2 is equal to %0.1f bars',delta_p2)\n",
"\n",
"P_s2=P_s1*(N2/N1)^3\n",
"printf('\n The value of P_s2 is equal to %g kW',P_s2)\n",
"\n",
"E1=((Q1/3600)*delta_p1*10^2)/(P_s1)\n",
"printf('\n The value of E1=E2 is equal to %g ',E1)\n",
"disp('Thus the efficiency is equal to 86.8%')"
   ]
   }
,
{
		   "cell_type": "markdown",
		   "metadata": {},
		   "source": [
			"## Example 2.7: DA.sce"
		   ]
		  },
  {
"cell_type": "code",
	   "execution_count": null,
	   "metadata": {
	    "collapsed": true
	   },
	   "outputs": [],
"source": [
"clear all; clc;\n",
"//This numerical is Ex 2_2E,page 30.\n",
"P_ho=30//hydraulic output power\n",
"Q=5//flow rate at best efficiency point\n",
"g=32.2\n",
"rho=1.938\n",
"Hp=320\n",
"N=600\n",
"\n",
"delta_pm=P_ho*550/Q\n",
"printf('Value of discharge head P_m %g lb/ft^2',delta_pm)\n",
"\n",
"Hm=delta_pm/(rho*g)\n",
"printf('\n Value of H_m=%0.2f ft',Hm)\n",
"disp('From the similarity law, H_p/H_m=((Np/Nm)^2)*((Dp/Dm)^2)')\n",
"\n",
"//let x=Hp/Hm\n",
"x=Hp/Hm\n",
"printf(' H_p/H_m =%0.2f',x)\n",
"disp('Thus (N_p/N_m)*(D_p/D_m) is equal to 2.46')\n",
"disp('Also the flow rate Q_p/Q_m=(N_p/N_m)*(D_p/D_m)^3')\n",
"z=350/5//value of Qp/Qm\n",
"printf(' Hence the value of Q_p/Q_m is equal to %g',z)\n",
"disp('Thus D_p/D_m=5.33 ,N_p/N_m=0.461')\n",
"//Let y=Np/Nm=0.461\n",
"y=0.461\n",
"N_m=N/y\n",
"printf(' Thus N_m = %g rpm',N_m)"
   ]
   }
,
{
		   "cell_type": "markdown",
		   "metadata": {},
		   "source": [
			"## Example 2.8: DA.sce"
		   ]
		  },
  {
"cell_type": "code",
	   "execution_count": null,
	   "metadata": {
	    "collapsed": true
	   },
	   "outputs": [],
"source": [
"clear all; clc;\n",
"//This numerical is Ex 2_2S,page 30.\n",
"//The value given in the book for N_m is 1315,but on calculating the true value is found out to be 1304.35\n",
"\n",
"P_ho=22.4//hydraulic output power\n",
"Q=0.14//flow rate at best efficiency point\n",
"g=9.8\n",
"rho=998\n",
"H_p=97.5\n",
"N=600\n",
"\n",
"delta_pm=P_ho/Q\n",
"printf('Value of discharge head P_m %g  kPa',delta_pm)\n",
"\n",
"H_m=delta_pm*10^3/(rho*g)\n",
"printf('\n Value of H_m=%g m',H_m)\n",
"disp('From the similarity law, H_p/H_m=((N_p/N_m)^2)*((D_p/D_m)^2)')\n",
"\n",
"//let x=Hp/Hm\n",
"H_mr=16.3//rounded off value\n",
"x=H_p/H_mr\n",
"printf(' H_p/H_m =%0.2f',x)\n",
"disp('Thus (N_p/N_m)*(D_p/D_m) is equal to 2.45')\n",
"disp('Also the flow rate Q_p/Q_m=(N_p/N_m)*(D_p/D_m)^3')\n",
"z=9.9/0.14//value of Qp/Qm\n",
"printf(' Thus the value of Q_p/Q_m is %0.1f',z)\n",
"disp('Thus D_p/D_m=5.4 ,N_p/N_m=0.46')\n",
"//Let y=Np/Nm=0.461\n",
"y=0.46\n",
"N_m=N/y//where N=600 and y=0.46 \n",
"printf(' Hence N_m = %g rpm',N_m)//value given in the book is 1315,but on calculating the true value is found out to be 1304.35"
   ]
   }
,
{
		   "cell_type": "markdown",
		   "metadata": {},
		   "source": [
			"## Example 2.9: DA.sce"
		   ]
		  },
  {
"cell_type": "code",
	   "execution_count": null,
	   "metadata": {
	    "collapsed": true
	   },
	   "outputs": [],
"source": [
"clear all; clc;\n",
"//This numerical is Ex 2_3E,page 31.\n",
"\n",
"N=1500\n",
"E=0.74\n",
"Q=250*0.00223//0.00223 is conversion factor\n",
"printf('Q is equal to %g',Q)\n",
"H=18\n",
"g=32.2\n",
"Q_o=250//before converting Q\n",
"\n",
"disp('From the dimensional specific speed (N_s) and fig2.1 , we select a Francis type pump and efficiency is estimated to be equal to 74%')\n",
"\n",
"N_s=N*(Q_o^0.5)/(H^0.75)\n",
"printf('\n N_s is equal to %0.0f rpm(gpm^0.5)/(ft^0.75)',N_s)\n",
"disp('To find the approximate size,Figure 2.2 has to be used')\n",
"\n",
"omega=N*%pi/30\n",
"printf('\n omega is equal to %0.0f',omega)\n",
"\n",
"omega_s=omega*(Q^0.5)/((g*H)^0.75)\n",
"printf('\n omega_s is equal to %0.4f',omega_s)\n",
"\n",
"disp('From figure 2.2, it is obtained that delta_s=3.1')\n",
"D=(3.1*(Q^0.5))/((g*H)^0.25)\n",
"printf('\n Hence D is equal to %0.3f ft',D)\n",
"disp('Hence D is equal to 5.7 in ')\n",
""
   ]
   }
],
"metadata": {
		  "kernelspec": {
		   "display_name": "Scilab",
		   "language": "scilab",
		   "name": "scilab"
		  },
		  "language_info": {
		   "file_extension": ".sce",
		   "help_links": [
			{
			 "text": "MetaKernel Magics",
			 "url": "https://github.com/calysto/metakernel/blob/master/metakernel/magics/README.md"
			}
		   ],
		   "mimetype": "text/x-octave",
		   "name": "scilab",
		   "version": "0.7.1"
		  }
		 },
		 "nbformat": 4,
		 "nbformat_minor": 0
}
