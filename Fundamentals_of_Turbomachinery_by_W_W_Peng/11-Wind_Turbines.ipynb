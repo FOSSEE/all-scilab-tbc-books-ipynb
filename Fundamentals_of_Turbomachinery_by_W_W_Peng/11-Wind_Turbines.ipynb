{
"cells": [
 {
		   "cell_type": "markdown",
	   "metadata": {},
	   "source": [
       "# Chapter 11: Wind Turbines"
	   ]
	},
{
		   "cell_type": "markdown",
		   "metadata": {},
		   "source": [
			"## Example 11.1: WT.sce"
		   ]
		  },
  {
"cell_type": "code",
	   "execution_count": null,
	   "metadata": {
	    "collapsed": true
	   },
	   "outputs": [],
"source": [
"clear all; clc;\n",
"\n",
"Pe=1.5\n",
"Eg=0.96//generator efficiency\n",
"Em=0.94//transmission efficiency\n",
"P=Pe/(Eg*Em)\n",
"printf('\n The power is equal to %0.3f MW',P)\n",
"disp('After converting to W the magnitude of power is equal to 1.662*10^6 W')\n",
"\n",
"Cp=0.47//from figure 11.10\n",
"V=13\n",
"rho=1.222\n",
"disp(' Since P=Cp(0.5*rho*A*V^3),thus on substituting the values we get P=630.9A')\n",
"A=P*10^6/(Cp*0.5*rho*V^3)// Since P=Cp*(0.5*rho*A*V^3)\n",
"printf(' On substituing the value of P in P=630.9A we get A equal to %g',A)\n",
"\n",
"disp('After rounding off,the area is equal to 2634.7m^2')\n",
"Ar=2634.7//rounded off A\n",
"//A=R^2*pi\n",
"R=sqrt(A/%pi)\n",
"printf(' The Radius is equal to %g m',R)\n",
"\n",
"disp('After rounding off the,area is equal to 28.9m')\n",
"Rr=28.9//rounded off\n",
"D=2*Rr\n",
"printf(' The Diameter is equal to %g m',D)\n",
"\n",
"omega=(V/R)*5.3// In the book diameter has been incorrectly substituted in place of radius(R). That is the reason why this particular answer doesn't match with the one given in the book.\n",
"printf('\n Omega is equal to %0.2f rad/s',omega)\n",
"N=(omega*30)/%pi//since N is proportional to omega and the answer for omega doesnt match with the answer given in the book(because of the aforementioned reason), the answer of N doesn't match either.\n",
"printf('\n RPM is equal to %g rpm',N)"
   ]
   }
,
{
		   "cell_type": "markdown",
		   "metadata": {},
		   "source": [
			"## Example 11.2: WT.sce"
		   ]
		  },
  {
"cell_type": "code",
	   "execution_count": null,
	   "metadata": {
	    "collapsed": true
	   },
	   "outputs": [],
"source": [
"clear all; clc;\n",
"\n",
"V= 40*(5280/3600)\n",
"printf('V is equal to %0.2f ft/s',V)\n",
"N=80\n",
"omega=(N*%pi)/30\n",
"printf('\n\nomega is equal to %0.2f rad/s',omega)\n",
"rt=15\n",
"rh=1\n",
"Vt=(rt*omega)/V//tip velocity ratio\n",
"printf('\n\nThe tip velocity ratio is equal to %0.2f ',Vt)\n",
"\n",
"Zb=12/Vt\n",
"printf('\n \n Optimum number of blades is equal to %0.2f ',Zb)\n",
"disp('On approximating,the optimum number of blades is equal to 5')\n",
"\n",
"rm=[(rt^2+rh^2)/2]^0.5\n",
"printf('\nThe mean radius is equal to %0.2f ft',rm)\n",
"\n",
"Um=rm*omega\n",
"printf('\n\nThe blade peripheral velocity at the mean radius is equal to %0.1f ft/s',Um)\n",
"\n",
"disp('Assuming V1=V')\n",
"beta_1=(atan(Um/V))*180/%pi\n",
"printf('\nThe relative flow angle at the inlet is equal to %0.1f degrees',beta_1)\n",
"\n",
"beta_2=65\n",
"tanbetam=0.5*(tan(beta_1*%pi/180)+tan(beta_2*%pi/180))\n",
"printf('\n\nThe value of tan of beta m is equal to %0.3f ',tanbetam)\n",
"beta_m=(atan(tanbetam))*180/%pi\n",
"printf('\n \n Mean relative flow angle (betam) is equal to %0.2f degrees',beta_m)\n",
"\n",
"Wm=V/cos(beta_m*%pi/180)\n",
"printf('\n\nThe relative flow velocity (Wm) is equal to %0.1f ft/s',Wm)\n",
"\n",
"rho=0.0763\n",
"gc=32.2\n",
"c=1.2\n",
"Cl=0.28\n",
"Cd=0.015\n",
"F_um=(rho*Wm^2*c*(Cl*cos(beta_m*%pi/180)-Cd*sin(beta_m*%pi/180))/(2*32.2))\n",
"printf('\n\nThe tangential force (Fum), is equal to %0.2f lb/ft',F_um)\n",
"\n",
"delta_r=14//rt-rh=deltar\n",
"Z_br=5//approximated value of Zb\n",
"P_s=rm*F_um*delta_r*omega*Z_br/550\n",
"printf('\n\nPs is approximately equal to %0.1f hp',P_s)\n",
"\n",
"A=%pi*rt^2\n",
"A_r=707//rounding of A=706.9 to 707\n",
"P_smax=((8/27)*(rho/gc)*707*58.67^3)/550\n",
"printf('\n\nFrom the actuator theory,the maximum possible shaft power will be equal to %0.1f hp.',P_smax)\n",
"\n",
"\n",
"\n",
"\n",
"\n",
"\n",
"\n",
"\n",
"\n",
"\n",
"\n",
""
   ]
   }
,
{
		   "cell_type": "markdown",
		   "metadata": {},
		   "source": [
			"## Example 11.3: WT.sce"
		   ]
		  },
  {
"cell_type": "code",
	   "execution_count": null,
	   "metadata": {
	    "collapsed": true
	   },
	   "outputs": [],
"source": [
"clear all; clc;\n",
"\n",
"V= 40//in mph\n",
"V=58.9//in mph\n",
"//more accurately\n",
"V= 40*(5280/3600)\n",
"a=0.27\n",
"V1=V*(1-a)\n",
"printf('V1 is equal to %0.1f ft/s',V1)\n",
"\n",
"N=60\n",
"D=50\n",
"U=(N*%pi/30)*(D/2)\n",
"printf('\nU is equal to %0.1f ft/s',U)\n",
"\n",
"//from velocity triangle\n",
"A=90+45\n",
"printf('\nA is equal to %g degrees',A)\n",
"\n",
"//from cosine law\n",
"W=(U^2+V1^2-2*U*V1*cos(A*%pi/180))^0.5\n",
"printf('\nW is equal to %0.1f ft/s',W)\n",
"\n",
"//from sine law\n",
"sinB=V1*(sin(A*%pi/180))/W\n",
"printf('\nsinB is equal to %0.4f ft/s',sinB)\n",
"\n",
"B=asin(sinB)*180/%pi\n",
"printf('\nB is equal to %0.1f degrees',B)\n",
"\n",
"setting_angle=85\n",
"alpha=B-(90-setting_angle)\n",
"printf('\nalpha is equal to %0.1f degrees',alpha)\n",
"\n",
"//from figure\n",
"Cl=0.58\n",
"Cd=0.027\n",
"rho=0.0763\n",
"gc=32.2\n",
"c=1.2\n",
"Wr=189.8//rounded off W\n",
"Fu=rho*Wr^2*c*(Cl*sin(B*%pi/180)-Cd*cos(B*%pi/180))/(2*gc)\n",
"printf('\nFu is equal to %0.3f lb/ft',Fu)\n",
"\n",
"disp('After rounding off the tangential force (Fu) is equal to 3.38 lb/ft')"
   ]
   }
],
"metadata": {
		  "kernelspec": {
		   "display_name": "Scilab",
		   "language": "scilab",
		   "name": "scilab"
		  },
		  "language_info": {
		   "file_extension": ".sce",
		   "help_links": [
			{
			 "text": "MetaKernel Magics",
			 "url": "https://github.com/calysto/metakernel/blob/master/metakernel/magics/README.md"
			}
		   ],
		   "mimetype": "text/x-octave",
		   "name": "scilab",
		   "version": "0.7.1"
		  }
		 },
		 "nbformat": 4,
		 "nbformat_minor": 0
}
