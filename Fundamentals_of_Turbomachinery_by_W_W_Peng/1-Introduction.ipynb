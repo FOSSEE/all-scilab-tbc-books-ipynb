{
"cells": [
 {
		   "cell_type": "markdown",
	   "metadata": {},
	   "source": [
       "# Chapter 1: Introduction"
	   ]
	},
{
		   "cell_type": "markdown",
		   "metadata": {},
		   "source": [
			"## Example 1.1: I.sce"
		   ]
		  },
  {
"cell_type": "code",
	   "execution_count": null,
	   "metadata": {
	    "collapsed": true
	   },
	   "outputs": [],
"source": [
"clear all; clc;\n",
"//This numerical is Ex 1_1E,page 9.\n",
"Pso=20.5\n",
"Psc=20.5*550//converting hp to fps system\n",
"Qo=385\n",
"Qc=385/449//converting gpm to ft^3/s\n",
"E=0.83\n",
"dp=E*Psc/(Qc*144)\n",
"printf('The pressure rise is %g psi',dp)\n",
"disp('After rounding off,pressure rise is 75.8 psi')\n",
"dpr=75.8\n",
"dHw=75.8*144/62.4//62.4 is accelaration due to gravity in fps system\n",
"printf(' The head of water is %g ft of water',dHw)\n",
"disp('After rounding off the value of head of water the answer is 175 ft of water.')\n",
"dhwr=175//rounded off value of head of water\n",
"sg=0.72//specific gravity of oil\n",
"dHo=dhwr/sg\n",
"printf(' The head of oil is %g ft of oil',dHo)\n",
"disp('After rounding off the value of head of oil the answer is 243 ft of oil.')"
   ]
   }
,
{
		   "cell_type": "markdown",
		   "metadata": {},
		   "source": [
			"## Example 1.2: I.sce"
		   ]
		  },
  {
"cell_type": "code",
	   "execution_count": null,
	   "metadata": {
	    "collapsed": true
	   },
	   "outputs": [],
"source": [
"clear all; clc;\n",
"//This numerical is Ex 1_1S,page 10.\n",
"E=0.83//efficiency\n",
"Ps=15300\n",
"Q=87.4\n",
"Qs=87.4/3600//flow rate in meter cube per sec\n",
"rho=998\n",
"g=9.81\n",
"sg=0.72\n",
"dp=E*Ps/Qs\n",
"printf('\n The change in pressure (dp)is %g',dp)\n",
"dpr=523000//rounded value of dp\n",
"disp('The rounded off value of dp is 523kPa.')\n",
"dHw=dpr/(rho*g)\n",
"printf(' dHw is equal to %g m of water',dHw)\n",
"disp('The rounded off value of dHw is 53.4 m of water.')\n",
"dHwr=53.4//rounded off value of dHw\n",
"disp('Thus we can determine head of oil.')\n",
"dHoil=dHwr/sg\n",
"printf(' dHoil is given by %g m of oil',dHoil)\n",
"disp('The rounded off value of dHoil is 74.2 m of oil.')"
   ]
   }
,
{
		   "cell_type": "markdown",
		   "metadata": {},
		   "source": [
			"## Example 1.3: I.sce"
		   ]
		  },
  {
"cell_type": "code",
	   "execution_count": null,
	   "metadata": {
	    "collapsed": true
	   },
	   "outputs": [],
"source": [
"clear all; clc;\n",
"//This numerical is Ex 1_2E,page 10.\n",
"Q=12000\n",
"A=3.5\n",
"rho_a=0.0762\n",
"E=0.85\n",
"r=2.5//resistance of duct system\n",
"V=Q/(60*A)\n",
"printf('The air flow velocity at discharge is %0.2f ft/s',V)\n",
"KE=(rho_a*(V^2))/(32.2*2)\n",
"printf('\n The product is %0.2f lb/ft^2',KE)\n",
"//PE=KE\n",
"Hv=KE/62.4\n",
"printf('\n The dynamic head is %0.3f ft',Hv)\n",
"disp('The value of dynamic head in inches of water is 0.74.')\n",
"Hvi=0.74//Head in inches\n",
"Ht=r+Hvi\n",
"printf('\n The total head is %0.2f inches of water',Ht)\n",
"p_tot=Ht*62.4\n",
"Ps=Q*p_tot/(60*12*E)\n",
"printf('\n The shaft power is %0.1f ft-lb/s',Ps)\n",
"disp('The shaft power is 7.2 hp.')"
   ]
   }
,
{
		   "cell_type": "markdown",
		   "metadata": {},
		   "source": [
			"## Example 1.4: I.sce"
		   ]
		  },
  {
"cell_type": "code",
	   "execution_count": null,
	   "metadata": {
	    "collapsed": true
	   },
	   "outputs": [],
"source": [
"clear all; clc;\n",
"//This numerical is Ex 1_2S,page 11.\n",
"Q=340\n",
"A=0.325\n",
"V=Q/(60*A)\n",
"printf('The air flow velocity at discharge is %0.1f m/s',V)\n",
"rho_a=1.22\n",
"Vr=17.4\n",
"Hd=(rho_a*(Vr^2))/2\n",
"printf('\n The dynamic pressure head is %0.1f Pa',Hd)\n",
"Hdr=184.7//rounded off value of Hd\n",
"rho_w=998//density of water=rhow\n",
"g=9.81\n",
"H=0.0635\n",
"dp=rho_w*g*H//static pressure head\n",
"printf('\n The static pressure head is %0.1f Pa',dp)\n",
"dpr=621.7\n",
"p_tot=Hdr+dpr\n",
"printf('\n The total pressure head is %0.1f Pa',p_tot)\n",
"p_tot=806.4\n",
"E=0.85//efficiency\n",
"Ps=Q*p_tot/(60*E)\n",
"printf('\n The shaft power is %g W',Ps)\n",
"disp('The shaft power is 5.376 kW.')"
   ]
   }
,
{
		   "cell_type": "markdown",
		   "metadata": {},
		   "source": [
			"## Example 1.5: I.sce"
		   ]
		  },
  {
"cell_type": "code",
	   "execution_count": null,
	   "metadata": {
	    "collapsed": true
	   },
	   "outputs": [],
"source": [
"clear all; clc;\n",
"//This numerical is Ex 1_3E,page 11.\n",
"H=295//net head in ft\n",
"Q=148//water flow rate\n",
"n=1800//rpm\n",
"E=0.87//efficiency\n",
"a=62.4//product of density and accelaration due to gravity\n",
"omega=(n*2*%pi)/60\n",
"dp=a*H\n",
"printf('The pressure is %g lb/ft^2',dp)\n",
"Ps=E*Q*dp\n",
"printf('\n Output power is equal to %0.3f lb-ft/s',Ps)\n",
"disp('The output output power can also be written as 2.37*10^6 lb-ft/s')\n",
"disp('Output power in terms of horsepower is given by 4309hp.')\n",
"Psr=2370000//rounded off value of Ps\n",
"Torque=Psr/omega\n",
"printf(' The output torque is %g lb-ft.',Torque)\n",
"disp('The output torque can also be written as 12.57*10^3 lb-ft')\n",
""
   ]
   }
,
{
		   "cell_type": "markdown",
		   "metadata": {},
		   "source": [
			"## Example 1.6: I.sce"
		   ]
		  },
  {
"cell_type": "code",
	   "execution_count": null,
	   "metadata": {
	    "collapsed": true
	   },
	   "outputs": [],
"source": [
"clear all; clc;\n",
"//This numerical is Ex 1_3S,page 12.\n",
"H=90\n",
"Q=4.2//water flow rate(in m^3/s)\n",
"n=1800\n",
"E=0.87//efficiency\n",
"rho=998\n",
"g=9.81\n",
"omega=(n*2*%pi)/60\n",
"dp=rho*g*H\n",
"printf('The pressure is %g N/m^2',dp)\n",
"Ps=E*Q*dp\n",
"printf('\n Output power is equal to %0.3f N-m/s',Ps)\n",
"disp('After rounding off the value of output power is 3220 kW.')\n",
"Psr=3220000//rounded off value of Ps\n",
"Torque=Psr/omega\n",
"printf(' The output torque is %g N-m.',Torque)\n",
"disp('After rounding off the output torque comes out to be 17.1*10^3 N-m.')"
   ]
   }
],
"metadata": {
		  "kernelspec": {
		   "display_name": "Scilab",
		   "language": "scilab",
		   "name": "scilab"
		  },
		  "language_info": {
		   "file_extension": ".sce",
		   "help_links": [
			{
			 "text": "MetaKernel Magics",
			 "url": "https://github.com/calysto/metakernel/blob/master/metakernel/magics/README.md"
			}
		   ],
		   "mimetype": "text/x-octave",
		   "name": "scilab",
		   "version": "0.7.1"
		  }
		 },
		 "nbformat": 4,
		 "nbformat_minor": 0
}
