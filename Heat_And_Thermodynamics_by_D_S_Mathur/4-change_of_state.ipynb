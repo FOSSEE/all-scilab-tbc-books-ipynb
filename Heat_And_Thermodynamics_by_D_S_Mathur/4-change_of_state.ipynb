{
"cells": [
 {
		   "cell_type": "markdown",
	   "metadata": {},
	   "source": [
       "# Chapter 4: change of state"
	   ]
	},
{
		   "cell_type": "markdown",
		   "metadata": {},
		   "source": [
			"## Example 4.10: chapter_4_exampe_10.sce"
		   ]
		  },
  {
"cell_type": "code",
	   "execution_count": null,
	   "metadata": {
	    "collapsed": true
	   },
	   "outputs": [],
"source": [
"clc\n",
"//initialisations\n",
"r=52\n",
"svp=17.5//mm\n",
"//CALCULATIONS\n",
"p=(svp*r)/100\n",
"//results\n",
"printf(' SVP at dew point= % 1f mm',p)"
   ]
   }
,
{
		   "cell_type": "markdown",
		   "metadata": {},
		   "source": [
			"## Example 4.12: chapter_4_exampe_12.sce"
		   ]
		  },
  {
"cell_type": "code",
	   "execution_count": null,
	   "metadata": {
	    "collapsed": true
	   },
	   "outputs": [],
"source": [
"clc\n",
"//initialisation\n",
"p=4.60//mm\n",
"p1=0.34//mm\n",
"t=0.007//c\n",
"r=760//mm\n",
"//CALCULATIONS\n",
"P=(p+(p1*t))\n",
"fp=r-P\n",
"d=r*t/fp\n",
"//results\n",
"printf(' lowering of melting point of ice= % 5f C',d)"
   ]
   }
,
{
		   "cell_type": "markdown",
		   "metadata": {},
		   "source": [
			"## Example 4.14: chapter_4_exampe_14.sce"
		   ]
		  },
  {
"cell_type": "code",
	   "execution_count": null,
	   "metadata": {
	    "collapsed": true
	   },
	   "outputs": [],
"source": [
"clc\n",
"//initialisation\n",
"v2=1.677//m3\n",
"v1=0.001//m3\n",
"dp=0.76*13600*9.81\n",
"t=100//c\n",
"T=t+273//k\n",
"L=540000//cal//kg\n",
"//CALCULATIONS\n",
"dT=(dp*T*(v2-v1))/L\n",
"//results\n",
"printf(' increase in boiling point= % 1f C',dT)"
   ]
   }
,
{
		   "cell_type": "markdown",
		   "metadata": {},
		   "source": [
			"## Example 4.15: chapter_4_exampe_15.sce"
		   ]
		  },
  {
"cell_type": "code",
	   "execution_count": null,
	   "metadata": {
	    "collapsed": true
	   },
	   "outputs": [],
"source": [
"clc\n",
"//initialisation\n",
"t1=18//c\n",
"t2=19//c\n",
"t3=18.6//c\n",
"t4=23//c\n",
"t5=24//c\n",
"t6=23.7//c\n",
"svp1=15.46//mm\n",
"svp2=16.46//mm\n",
"svp4=21.02//mm\n",
"svp5=22.32//mm\n",
"//CALCULATIONS\n",
"svp3=svp1+((svp2-svp1)/(t2-t1))\n",
"svp6=svp4+((svp4-svp5)/(t4-t5))\n",
"rh=svp3*100/svp6\n",
"//results\n",
"printf(' relative humidity= % 1f ',rh)"
   ]
   }
,
{
		   "cell_type": "markdown",
		   "metadata": {},
		   "source": [
			"## Example 4.2: example_4_chapter_2.sce"
		   ]
		  },
  {
"cell_type": "code",
	   "execution_count": null,
	   "metadata": {
	    "collapsed": true
	   },
	   "outputs": [],
"source": [
"clc\n",
"//initialisations\n",
"t1=20//c\n",
"m1=10//gm\n",
"t2=-80//c\n",
"t2=15//c\n",
"m2=10.77//gm\n",
"t3=10//c\n",
"c=0.5\n",
"//CALCULATIONS\n",
"A=[5 -10;5 -10.77]\n",
"b=[550;488.5]\n",
"c=A\b\n",
"R1=c(1,1)\n",
"R2=c(2,1)\n",
"//results\n",
"printf(' latent heat of fusion of ice= %1f cal/gm',R2)"
   ]
   }
,
{
		   "cell_type": "markdown",
		   "metadata": {},
		   "source": [
			"## Example 4.3: chapter_4_exampe_2.sce"
		   ]
		  },
  {
"cell_type": "code",
	   "execution_count": null,
	   "metadata": {
	    "collapsed": true
	   },
	   "outputs": [],
"source": [
"clc\n",
"//initialisations\n",
"c=0.58\n",
"m=4//gm\n",
"ms=5//gm\n",
"t=78//c\n",
"t1=80//c\n",
"x1=10//cm\n",
"x2=8.5//cm\n",
"c1=0.05\n",
"c2=0.048\n",
"t2=100//c\n",
"t3=27//c\n",
"//CALCULATIONS\n",
"Hal=m*c*t\n",
"m1=Hal/t1\n",
"m2=m1*x1/x2\n",
"Hp=m2*80\n",
"H1=ms*(t2-t3)*c1\n",
"H2=ms*c2*t3\n",
"L=(Hp-H1-H2)/ms\n",
"//results\n",
"printf(' latent heat of fusion= % 1f cal/gm',L)"
   ]
   }
,
{
		   "cell_type": "markdown",
		   "metadata": {},
		   "source": [
			"## Example 4.4: chapter_4_exampe_4.sce"
		   ]
		  },
  {
"cell_type": "code",
	   "execution_count": null,
	   "metadata": {
	    "collapsed": true
	   },
	   "outputs": [],
"source": [
"clc\n",
"//initialisation of variables\n",
"d=2*10^-3//m\n",
"x=0.07//m\n",
"m1=2.2*10^-3//gm\n",
"pice=920//kgm^-3\n",
"pwater=1000//kgm^-3\n",
"lice=80000//cal/kg\n",
"//CALCULATIONS\n",
"a=22*d*d/(4*7)\n",
"v=x*a\n",
"v1=1/pice\n",
"v2=1/pwater\n",
"dv=v1-v2\n",
"m2=v/dv\n",
"h=lice*m2\n",
"L=h/m1\n",
"printf(' latent heat of vapourisation= % 2f cal/kg',L)"
   ]
   }
,
{
		   "cell_type": "markdown",
		   "metadata": {},
		   "source": [
			"## Example 4.5: chapter_4_exampe_5.sce"
		   ]
		  },
  {
"cell_type": "code",
	   "execution_count": null,
	   "metadata": {
	    "collapsed": true
	   },
	   "outputs": [],
"source": [
"clc\n",
"//initialisation of variables\n",
"ms=0.0055//kg\n",
"t1=100//c\n",
"t2=15//c\n",
"t3=26.8//c\n",
"m1=250/1000//kg\n",
"m2=16.2/1000//kg\n",
"l=22.572*10^5//kg\n",
"//calculations\n",
"h=(m1+m2)/(t3-t2)\n",
"x=(h-(ms*l))/(t1-t3-l)\n",
"p=x*100/ms\n",
"//results\n",
"printf(' perecntage of water in steam= % 5f ',x)"
   ]
   }
,
{
		   "cell_type": "markdown",
		   "metadata": {},
		   "source": [
			"## Example 4.6: chapter_4_exampe_6.sce"
		   ]
		  },
  {
"cell_type": "code",
	   "execution_count": null,
	   "metadata": {
	    "collapsed": true
	   },
	   "outputs": [],
"source": [
"clc\n",
"//intialisation\n",
"r=1.7*10^-6//m^3/sec\n",
"t1=3.56//c\n",
"pw=1000//kg/m^3\n",
"r1=0.34*10^-6//m^3/sec\n",
"t2=15//c\n",
"bp=360//c\n",
"c=33\n",
"pl=13600//kg/m^3\n",
"//CALCCULATIONS\n",
"m=r*pw*60\n",
"h1=m*1000*t1\n",
"h2=r1*pl*(bp-t2)*c\n",
"L=(h1-h2)/(r1*pl)\n",
"//results\n",
"printf(' latent heat of vaporisation= % 1f cal/kg',L)"
   ]
   }
,
{
		   "cell_type": "markdown",
		   "metadata": {},
		   "source": [
			"## Example 4.7: chapter_4_exampe_7.sce"
		   ]
		  },
  {
"cell_type": "code",
	   "execution_count": null,
	   "metadata": {
	    "collapsed": true
	   },
	   "outputs": [],
"source": [
"clc\n",
"//initialisation\n",
"p1=75.5//cm\n",
"v1=123//cc\n",
"t0=273//k\n",
"t1=15//c\n",
"T1=t0+t1\n",
"p0=76//cm\n",
"r=1.43//gm/litre\n",
"l=51//cal/gm\n",
"t2=-183//c\n",
"m=0.495//gm\n",
"//calculations\n",
"v0=p1*v1*t0/(p0*T1)\n",
"h=r*v0*l/1000\n",
"c=(h/(m*(t1-t2)))\n",
"//results\n",
"printf(' mean specific heat = % 1f calC/gm/deg',c)"
   ]
   }
,
{
		   "cell_type": "markdown",
		   "metadata": {},
		   "source": [
			"## Example 4.8: chapter_4_exampe_8.sce"
		   ]
		  },
  {
"cell_type": "code",
	   "execution_count": null,
	   "metadata": {
	    "collapsed": true
	   },
	   "outputs": [],
"source": [
"clc\n",
"//initialisation\n",
"p=0.76\n",
"v=1650//cc\n",
"m=1//gm\n",
"r=13600//kg/m3\n",
"//CALCULATIONS\n",
"w=(p*9.81*r*(v-1)*10^-6)/4.18\n",
"ih=540-w\n",
"//results\n",
"printf(' internal latent heat of steam= % 1f cal',ih)"
   ]
   }
,
{
		   "cell_type": "markdown",
		   "metadata": {},
		   "source": [
			"## Example 4.9: chapter_4_exampe_9.sce"
		   ]
		  },
  {
"cell_type": "code",
	   "execution_count": null,
	   "metadata": {
	    "collapsed": true
	   },
	   "outputs": [],
"source": [
"clc\n",
"//initialisations\n",
"x1=17.5//mm\n",
"x2=9.2//mm\n",
"r=0.7\n",
"//CALCULATIONS\n",
"avp=x1*r\n",
"dsvp=avp-x2\n",
"f=dsvp*100/avp\n",
"//results\n",
"printf(' fraction of water vapour condensed= % 1f ',f)"
   ]
   }
],
"metadata": {
		  "kernelspec": {
		   "display_name": "Scilab",
		   "language": "scilab",
		   "name": "scilab"
		  },
		  "language_info": {
		   "file_extension": ".sce",
		   "help_links": [
			{
			 "text": "MetaKernel Magics",
			 "url": "https://github.com/calysto/metakernel/blob/master/metakernel/magics/README.md"
			}
		   ],
		   "mimetype": "text/x-octave",
		   "name": "scilab",
		   "version": "0.7.1"
		  }
		 },
		 "nbformat": 4,
		 "nbformat_minor": 0
}
