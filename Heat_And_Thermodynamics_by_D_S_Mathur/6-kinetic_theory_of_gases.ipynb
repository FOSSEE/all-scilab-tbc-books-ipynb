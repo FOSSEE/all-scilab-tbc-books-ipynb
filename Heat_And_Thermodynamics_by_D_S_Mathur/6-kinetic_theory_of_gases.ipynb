{
"cells": [
 {
		   "cell_type": "markdown",
	   "metadata": {},
	   "source": [
       "# Chapter 6: kinetic theory of gases"
	   ]
	},
{
		   "cell_type": "markdown",
		   "metadata": {},
		   "source": [
			"## Example 6.10: chapter_6_example_10.sce"
		   ]
		  },
  {
"cell_type": "code",
	   "execution_count": null,
	   "metadata": {
	    "collapsed": true
	   },
	   "outputs": [],
"source": [
"clc\n",
"//initialisations\n",
"r=8.3//j/mol/k\n",
"J=4.2//j/cal\n",
"T=273\n",
"m=2//gm\n",
"//CALCULATIONS\n",
"ke=(3*r*T/(2*m*J))\n",
"//results\n",
"printf(' ke of one gm of hydrogen= % 1f calories',ke)"
   ]
   }
,
{
		   "cell_type": "markdown",
		   "metadata": {},
		   "source": [
			"## Example 6.11: chapter_6_example_11.sce"
		   ]
		  },
  {
"cell_type": "code",
	   "execution_count": null,
	   "metadata": {
	    "collapsed": true
	   },
	   "outputs": [],
"source": [
"clc\n",
"//initialisation\n",
"p0=0.76*13600*9.81\n",
"m=1.785*10^-4//kg\n",
"v0=0.001/m\n",
"T0=273//k\n",
"g=1.67\n",
"cp=1250\n",
"//CALCULATIONS\n",
"r=p0*v0/T0\n",
"J=r*g/((g-1)*cp)\n",
"//results\n",
"printf(' mechanical equivalent of heat= % 1f joules/cal',J)"
   ]
   }
,
{
		   "cell_type": "markdown",
		   "metadata": {},
		   "source": [
			"## Example 6.12: chapter_6_example_12.sce"
		   ]
		  },
  {
"cell_type": "code",
	   "execution_count": null,
	   "metadata": {
	    "collapsed": true
	   },
	   "outputs": [],
"source": [
"clc\n",
"//initialisation\n",
"n=1.7*10^-5//newton/m2/unit vel gradient\n",
"p=10^5//newton//m2\n",
"d=1.2//kg/m3\n",
"//CALCULATIONS\n",
"l=n*sqrt(3/(d*p))\n",
"f=p/n\n",
"//results\n",
"printf('.mean free path= % 1e m',l)\n",
"printf(' \ncollision frequency= % 1f per second',f)"
   ]
   }
,
{
		   "cell_type": "markdown",
		   "metadata": {},
		   "source": [
			"## Example 6.13: chapter_6_example_13.sce"
		   ]
		  },
  {
"cell_type": "code",
	   "execution_count": null,
	   "metadata": {
	    "collapsed": true
	   },
	   "outputs": [],
"source": [
"clc\n",
"//initialisation\n",
"n=166*10^-7//kg/m/sec\n",
"k=2.7*10^25//m^-3\n",
"d=1.25//kg/m^3\n",
"c=450//m/sec\n",
"//CALCULATIONS\n",
"l=3*n/(d*c)\n",
"f=c/l\n",
"di=sqrt(1/(sqrt(2)*%pi*k*l))\n",
"//results\n",
"printf(' mean free path= % 1e m',l)\n",
"printf(' \ncollision frequency= % 1e c',f)\n",
"printf(' \navg velocity= % 1e m',di)"
   ]
   }
,
{
		   "cell_type": "markdown",
		   "metadata": {},
		   "source": [
			"## Example 6.14: chapter_6_example_14.sce"
		   ]
		  },
  {
"cell_type": "code",
	   "execution_count": null,
	   "metadata": {
	    "collapsed": true
	   },
	   "outputs": [],
"source": [
"clc\n",
"//initialisation\n",
"m=40//kg\n",
"v=22.4//m^-3\n",
"n=2.1*10^-5\n",
"r=8314//j/mol/k\n",
"T=273//k\n",
"//CALCULATIONS\n",
"d=m/v\n",
"c=sqrt(3*r*T/m)\n",
"l=(3*n)/(d*c)\n",
"f=c/l\n",
"//results\n",
"printf(' mean freepath= % 1e m',l)\n",
"printf(' \ncollision frequency= % 1f ',f)"
   ]
   }
,
{
		   "cell_type": "markdown",
		   "metadata": {},
		   "source": [
			"## Example 6.15: chapter_6_example_15.sce"
		   ]
		  },
  {
"cell_type": "code",
	   "execution_count": null,
	   "metadata": {
	    "collapsed": true
	   },
	   "outputs": [],
"source": [
"clc\n",
"//initialisation\n",
"l1=23*10^-6\n",
"l0=19*10^-6\n",
"d=0.1785\n",
"p=10^5//n\n",
"//CALCULATIONS\n",
"df=(l1-l0)*sqrt(3/(p*d))/0.4\n",
"//results\n",
"printf(' difference in mean free path= % 1e m',df)"
   ]
   }
,
{
		   "cell_type": "markdown",
		   "metadata": {},
		   "source": [
			"## Example 6.19: chapter_6_example_19.sce"
		   ]
		  },
  {
"cell_type": "code",
	   "execution_count": null,
	   "metadata": {
	    "collapsed": true
	   },
	   "outputs": [],
"source": [
"clc\n",
"//initialisation\n",
"f=5\n",
"r=2\n",
"//CALCULATIONS\n",
"e=f/2\n",
"g=r/2\n",
"p=g*100/e\n",
"//results\n",
"printf(' fraction used to increase rotational energy= % 1f ',p)"
   ]
   }
,
{
		   "cell_type": "markdown",
		   "metadata": {},
		   "source": [
			"## Example 6.20: chapter_6_example_20.sce"
		   ]
		  },
  {
"cell_type": "code",
	   "execution_count": null,
	   "metadata": {
	    "collapsed": true
	   },
	   "outputs": [],
"source": [
"clc\n",
"//initialisation\n",
"s1=1//m/sec\n",
"s2=2//m/sec\n",
"s3=3//m/sec\n",
"s4=4//m/sec\n",
"s5=5//m/sec\n",
"n1=4\n",
"n2=2\n",
"n3=8\n",
"n4=6\n",
"n5=5\n",
"//CALCULATIONS\n",
"u=(n1*s1+n2*s2+n3*s3+n4*s4+n5*s5)/(n1+n2+n3+n4+n5)\n",
"v=sqrt((n1*s1*s1+n2*s2*s2+n3*s3*s3+n4*s4*s4+n5*s5*s5)/(n1+n2+n3+n4+n5))\n",
"//results\n",
"printf(' mean speed of molecules= % 1f m/sec',u)\n",
"printf(' \nrms speeed of molecules= % 1f m/sec',v)"
   ]
   }
,
{
		   "cell_type": "markdown",
		   "metadata": {},
		   "source": [
			"## Example 6.2: chapter_6_example_2.sce"
		   ]
		  },
  {
"cell_type": "code",
	   "execution_count": null,
	   "metadata": {
	    "collapsed": true
	   },
	   "outputs": [],
"source": [
"clc\n",
"//initialisation\n",
"n=3\n",
"r=2\n",
"//CALCULATIONS\n",
"i=3*n-3\n",
"v=i-r\n",
"//results\n",
"printf(' vibratory degree of freedom= % 1f ',v)"
   ]
   }
,
{
		   "cell_type": "markdown",
		   "metadata": {},
		   "source": [
			"## Example 6.5: chapter_6_example_5.sce"
		   ]
		  },
  {
"cell_type": "code",
	   "execution_count": null,
	   "metadata": {
	    "collapsed": true
	   },
	   "outputs": [],
"source": [
"clc\n",
"//initialisation\n",
"T=273//k\n",
"m=35.5//kg\n",
"r=8314.3//j/mol/k\n",
"//CALCULATIONs\n",
"c=sqrt(3*T*r/(2*m))\n",
"//results\n",
"printf(' rms velocity = % 1f m/sec',c)"
   ]
   }
,
{
		   "cell_type": "markdown",
		   "metadata": {},
		   "source": [
			"## Example 6.6: chapter_6_example_6.sce"
		   ]
		  },
  {
"cell_type": "code",
	   "execution_count": null,
	   "metadata": {
	    "collapsed": true
	   },
	   "outputs": [],
"source": [
"clc\n",
"//initialisation\n",
"m=2//kg\n",
"T=273//k\n",
"r=8314.3//j/mol/k\n",
"//CALCULATIONS\n",
"c=sqrt(3*r*T/m)\n",
"Ti=(4*c*c*m/(3*r))\n",
"C=Ti-273\n",
"//results\n",
"printf(' temperature at which rms speed will double is= % 1f c',C)"
   ]
   }
,
{
		   "cell_type": "markdown",
		   "metadata": {},
		   "source": [
			"## Example 6.7: chapter_6_example_7.sce"
		   ]
		  },
  {
"cell_type": "code",
	   "execution_count": null,
	   "metadata": {
	    "collapsed": true
	   },
	   "outputs": [],
"source": [
"clc\n",
"//initialisation\n",
"p=1.013*10^5//newton/m2\n",
"d=0.09//kg/m3\n",
"t1=27//c\n",
"T=273\n",
"T1=t1+T//k\n",
"//CALCULATIONS\n",
"c1=sqrt(3*p/d)\n",
"c2=c1*sqrt(T1/T)\n",
"cb=c2*8/(3*%pi)\n",
"cm=c2*sqrt(2/3)\n",
"//results\n",
"printf(' avg velocity= % 1f m/sec',cb)\n",
"printf(' \nmost probable velocity= % 1f m/sec',cm)"
   ]
   }
,
{
		   "cell_type": "markdown",
		   "metadata": {},
		   "source": [
			"## Example 6.8: chapter_6_example_8.sce"
		   ]
		  },
  {
"cell_type": "code",
	   "execution_count": null,
	   "metadata": {
	    "collapsed": true
	   },
	   "outputs": [],
"source": [
"clc\n",
"//initialisations\n",
"e=4*10^-3//erg\n",
"p=1*13.6*981\n",
"//calculations\n",
"kt=2*e/3//erg\n",
"n=p/kt\n",
"//results\n",
"printf(' number of molecules = % 1f',kt)"
   ]
   }
,
{
		   "cell_type": "markdown",
		   "metadata": {},
		   "source": [
			"## Example 6.9: chapter_6_example_9.sce"
		   ]
		  },
  {
"cell_type": "code",
	   "execution_count": null,
	   "metadata": {
	    "collapsed": true
	   },
	   "outputs": [],
"source": [
"clc\n",
"//initialisation\n",
"r=8.32//j/mol/k\n",
"N=6.06*10^23\n",
"t=723\n",
"T=t+273\n",
"//calculations\n",
"ke=(3*r*T)/(2*N)\n",
"ke1=ke*N\n",
"//results\n",
"printf(' mean translational kinetic energy= % 1f J',ke1)"
   ]
   }
],
"metadata": {
		  "kernelspec": {
		   "display_name": "Scilab",
		   "language": "scilab",
		   "name": "scilab"
		  },
		  "language_info": {
		   "file_extension": ".sce",
		   "help_links": [
			{
			 "text": "MetaKernel Magics",
			 "url": "https://github.com/calysto/metakernel/blob/master/metakernel/magics/README.md"
			}
		   ],
		   "mimetype": "text/x-octave",
		   "name": "scilab",
		   "version": "0.7.1"
		  }
		 },
		 "nbformat": 4,
		 "nbformat_minor": 0
}
