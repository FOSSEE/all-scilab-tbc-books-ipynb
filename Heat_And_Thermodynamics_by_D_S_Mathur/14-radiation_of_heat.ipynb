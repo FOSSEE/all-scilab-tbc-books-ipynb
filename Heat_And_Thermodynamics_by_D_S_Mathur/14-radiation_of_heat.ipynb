{
"cells": [
 {
		   "cell_type": "markdown",
	   "metadata": {},
	   "source": [
       "# Chapter 14: radiation of heat"
	   ]
	},
{
		   "cell_type": "markdown",
		   "metadata": {},
		   "source": [
			"## Example 14.10: chapter_14_example_10.sce"
		   ]
		  },
  {
"cell_type": "code",
	   "execution_count": null,
	   "metadata": {
	    "collapsed": true
	   },
	   "outputs": [],
"source": [
"clc\n",
"//initialisations\n",
"r=15*10^10//m\n",
"R=7*10^8//m\n",
"si=6.72*10^-8//j m^-2 sec^-1 deg^-4\n",
"s=81350 //j m^-2 min^-1\n",
"//CALCULATIONS\n",
"t=(r*r*s)/(R*R*si*60)\n",
"T=t^0.25\n",
"//results\n",
"printf(' \n value of temperature= % 1f k',T)"
   ]
   }
,
{
		   "cell_type": "markdown",
		   "metadata": {},
		   "source": [
			"## Example 14.11: chapter_14_example_11.sce"
		   ]
		  },
  {
"cell_type": "code",
	   "execution_count": null,
	   "metadata": {
	    "collapsed": true
	   },
	   "outputs": [],
"source": [
"clc\n",
"//initialisation\n",
"s=8.2*10^4\n",
"si=5.67*10^-8//j m^-2 sec^-1 deg ^-4\n",
"a=32\n",
"//CALCULATIONS\n",
"r2=a/2\n",
"r1=(r2*3.14)/(60*180)\n",
"r=r1^2\n",
"t=s/(r*60*si)\n",
"T=t^0.25\n",
"//results\n",
"printf(' \n surface temperature of sun= % 1f k',T)"
   ]
   }
,
{
		   "cell_type": "markdown",
		   "metadata": {},
		   "source": [
			"## Example 14.12: chapter_14_example_12.sce"
		   ]
		  },
  {
"cell_type": "code",
	   "execution_count": null,
	   "metadata": {
	    "collapsed": true
	   },
	   "outputs": [],
"source": [
"clc\n",
"//initialisation\n",
"s=1.5//cal cm^-2 min^-1\n",
"k=0.0027\n",
"//CALCULATIONS\n",
"td=-(s/(k*60))\n",
"//results\n",
"printf(' \n temperature gradient= % 1f c cm^-1',td)"
   ]
   }
,
{
		   "cell_type": "markdown",
		   "metadata": {},
		   "source": [
			"## Example 14.1: chapter_14_example_1.sce"
		   ]
		  },
  {
"cell_type": "code",
	   "execution_count": null,
	   "metadata": {
	    "collapsed": true
	   },
	   "outputs": [],
"source": [
"clc\n",
"//initialisation\n",
"si=5.735*10^-8//j m^-2 sec ^-1 deg^-4\n",
"t=1227+273//k\n",
"r=0.003//m\n",
"//CALCULATIONS\n",
"e=3.14*r*r*si*t^4*60/4.2\n",
"//results\n",
"printf(' \n energy= % 1f cal',e)"
   ]
   }
,
{
		   "cell_type": "markdown",
		   "metadata": {},
		   "source": [
			"## Example 14.2: chapter_14_example_2.sce"
		   ]
		  },
  {
"cell_type": "code",
	   "execution_count": null,
	   "metadata": {
	    "collapsed": true
	   },
	   "outputs": [],
"source": [
"clc\n",
"//initialisation\n",
"t1=573//k\n",
"t2=273//k\n",
"m=0.032//kg\n",
"s=100\n",
"r=0.35//c/sec\n",
"a=0.0008//sq.mt\n",
"e=1\n",
"//CALCULATIONS\n",
"E=m*s*r\n",
"si=E/(a*e*((t1^4)-(t2^4)))\n",
"//results\n",
"printf(' \n stefans constant= % 1e j m^-2 sec^-1 deg^-4',si)"
   ]
   }
,
{
		   "cell_type": "markdown",
		   "metadata": {},
		   "source": [
			"## Example 14.3: chapter_14_example_3.sce"
		   ]
		  },
  {
"cell_type": "code",
	   "execution_count": null,
	   "metadata": {
	    "collapsed": true
	   },
	   "outputs": [],
"source": [
"clc\n",
"//initialisations\n",
"E=40//j/sec\n",
"a=0.66*10^-4//sq.mt\n",
"e=0.31\n",
"t=273+2170//k\n",
"//CALCULATIONS\n",
"si=E/(e*a*t^4)\n",
"//results\n",
"printf(' \n stefans constant= % 1e j m^-2 sec^-1 deg^-4',si)"
   ]
   }
,
{
		   "cell_type": "markdown",
		   "metadata": {},
		   "source": [
			"## Example 14.4: chapter_14_example_4.sce"
		   ]
		  },
  {
"cell_type": "code",
	   "execution_count": null,
	   "metadata": {
	    "collapsed": true
	   },
	   "outputs": [],
"source": [
"clc\n",
"//initialisation\n",
"t1=500//k\n",
"t2=300//k\n",
"m=10//kg\n",
"s=100//cal/kg/k\n",
"r=0.07//m\n",
"//CALCULATIONS\n",
"a=4*3.14*r*r\n",
"E=a*((t1*t1*t1*t1)-(t2*t2*t2*t2))\n",
"r=E/(m*s)\n",
"//results\n",
"printf(' \n maximum rate at which temperature will fall= % 1f c/sec',E)"
   ]
   }
,
{
		   "cell_type": "markdown",
		   "metadata": {},
		   "source": [
			"## Example 14.5: chapter_14_example_5.sce"
		   ]
		  },
  {
"cell_type": "code",
	   "execution_count": null,
	   "metadata": {
	    "collapsed": true
	   },
	   "outputs": [],
"source": [
"clc\n",
"//initialisation\n",
"t1=700//k\n",
"t2=290//k\n",
"E=10000//w m^-2\n",
"si=5.7*10^-8\n",
"//CALCULATIONS\n",
"t=(t1^4+t2^4)/2\n",
"T=t^0.25\n",
"t1=E/si\n",
"T1=t1^0.25\n",
"//results\n",
"printf(' \n temperature its rate will be halved= % 1f k',T)\n",
"printf(' \n temperature of body= % 1f k',T1)"
   ]
   }
,
{
		   "cell_type": "markdown",
		   "metadata": {},
		   "source": [
			"## Example 14.6: chapter_14_example_6.sce"
		   ]
		  },
  {
"cell_type": "code",
	   "execution_count": null,
	   "metadata": {
	    "collapsed": true
	   },
	   "outputs": [],
"source": [
"clc\n",
"//initialisation\n",
"E=40//w\n",
"r=0.00005//m\n",
"l=0.1//m\n",
"si=5.67*10^-8\n",
"T=2773//k\n",
"//CALCULATIONS\n",
"a=2*3.14*r*l\n",
"e=E/(a*si*(T^4))\n",
"//results\n",
"printf(' \n relative emittance= % 1f ',e)"
   ]
   }
,
{
		   "cell_type": "markdown",
		   "metadata": {},
		   "source": [
			"## Example 14.7: chapter_14_example_7.sce"
		   ]
		  },
  {
"cell_type": "code",
	   "execution_count": null,
	   "metadata": {
	    "collapsed": true
	   },
	   "outputs": [],
"source": [
"clc\n",
"//initialisation\n",
"r=0.02//m\n",
"t1=120+273//k\n",
"t2=100+273//k\n",
"si=5.67*10^-8\n",
"//CALCULATIONS\n",
"a=4*3.14*r*r\n",
"E=a*si*(t1^4-t2^4)\n",
"//results\n",
"printf(' \n rate at which energy must be supplied= % 1f watts',E)"
   ]
   }
,
{
		   "cell_type": "markdown",
		   "metadata": {},
		   "source": [
			"## Example 14.8: chapter_14_example_8.sce"
		   ]
		  },
  {
"cell_type": "code",
	   "execution_count": null,
	   "metadata": {
	    "collapsed": true
	   },
	   "outputs": [],
"source": [
"clc\n",
"//initialisation\n",
"t=6000//k\n",
"r=17000\n",
"//CALCULATIONS\n",
"T=6000*17000^0.25\n",
"//results\n",
"printf(' \n temperature of the star= % 1f k',T)"
   ]
   }
,
{
		   "cell_type": "markdown",
		   "metadata": {},
		   "source": [
			"## Example 14.9: chapter_14_example_9.sce"
		   ]
		  },
  {
"cell_type": "code",
	   "execution_count": null,
	   "metadata": {
	    "collapsed": true
	   },
	   "outputs": [],
"source": [
"clc\n",
"//initialisation\n",
"l=4753*10^-8//cm\n",
"w=0.293\n",
"t=10^7//k\n",
"//CALCULATIONS\n",
"T=w/l\n",
"lm=w/(t*100)\n",
"//results\n",
"printf(' \n effective temperature of sun= % 1f k',T)\n",
"printf(' \n wavelength of max energy= % 1e m',lm)"
   ]
   }
],
"metadata": {
		  "kernelspec": {
		   "display_name": "Scilab",
		   "language": "scilab",
		   "name": "scilab"
		  },
		  "language_info": {
		   "file_extension": ".sce",
		   "help_links": [
			{
			 "text": "MetaKernel Magics",
			 "url": "https://github.com/calysto/metakernel/blob/master/metakernel/magics/README.md"
			}
		   ],
		   "mimetype": "text/x-octave",
		   "name": "scilab",
		   "version": "0.7.1"
		  }
		 },
		 "nbformat": 4,
		 "nbformat_minor": 0
}
