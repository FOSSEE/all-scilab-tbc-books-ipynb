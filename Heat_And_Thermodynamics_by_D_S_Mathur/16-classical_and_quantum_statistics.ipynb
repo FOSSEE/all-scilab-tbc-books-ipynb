{
"cells": [
 {
		   "cell_type": "markdown",
	   "metadata": {},
	   "source": [
       "# Chapter 16: classical and quantum statistics"
	   ]
	},
{
		   "cell_type": "markdown",
		   "metadata": {},
		   "source": [
			"## Example 16.10: chapter_16_example_10.sce"
		   ]
		  },
  {
"cell_type": "code",
	   "execution_count": null,
	   "metadata": {
	    "collapsed": true
	   },
	   "outputs": [],
"source": [
"clc\n",
"//initialisation\n",
"t=300//k\n",
"e=0.01//v\n",
"//CALCULATIONS\n",
"a=1/((exp(e/t))+1)\n",
"//results\n",
"printf(' \n NFD= % 1f ',a)"
   ]
   }
,
{
		   "cell_type": "markdown",
		   "metadata": {},
		   "source": [
			"## Example 16.11: chapter_16_example_11.sce"
		   ]
		  },
  {
"cell_type": "code",
	   "execution_count": null,
	   "metadata": {
	    "collapsed": true
	   },
	   "outputs": [],
"source": [
"clc\n",
"//initialisation\n",
"n=6.06*10^26\n",
"p=2.7*10^3\n",
"h=6.6*10^-34\n",
"m=9.1*10^-31//kg\n",
"gs=2\n",
"ml=26.98*10^-3\n",
"//CALCULATIONS\n",
"a=(h*h/(2*m*100))*((3*3*n*p/(4*3.14*gs*ml))^(2/3))\n",
"r=a/(1.609*10^-19)\n",
"//results\n",
"printf(' \n fermi energy= % 1f ev',r)"
   ]
   }
,
{
		   "cell_type": "markdown",
		   "metadata": {},
		   "source": [
			"## Example 16.2: chapter_16_example_2.sce"
		   ]
		  },
  {
"cell_type": "code",
	   "execution_count": null,
	   "metadata": {
	    "collapsed": true
	   },
	   "outputs": [],
"source": [
"clc\n",
"//initialisations\n",
"h=6.6*10^-34\n",
"c=3*10^8//m/sec\n",
"k=1.38*10^-23\n",
"t=1000//k\n",
"//CALCULATIONS\n",
"l=(h*c)/(5*k*t)\n",
"///results\n",
"printf(' \n wavelength associated with maximum radiation= % 1e ',l)"
   ]
   }
,
{
		   "cell_type": "markdown",
		   "metadata": {},
		   "source": [
			"## Example 16.5: chapter_16_example_5.sce"
		   ]
		  },
  {
"cell_type": "code",
	   "execution_count": null,
	   "metadata": {
	    "collapsed": true
	   },
	   "outputs": [],
"source": [
"clc\n",
"//initialisation\n",
"h=6.6*10^-34//j sec\n",
"r=5.86*10^28\n",
"m=9.1*10^-31//kg\n",
"gs=2\n",
"//CALCULATIONS\n",
"a=(h*h/(2*m))*((3*r/(4*3.14*gs))^(2/3))\n",
"//resullts\n",
"printf(' \n fermi energy= % 1e',a)"
   ]
   }
],
"metadata": {
		  "kernelspec": {
		   "display_name": "Scilab",
		   "language": "scilab",
		   "name": "scilab"
		  },
		  "language_info": {
		   "file_extension": ".sce",
		   "help_links": [
			{
			 "text": "MetaKernel Magics",
			 "url": "https://github.com/calysto/metakernel/blob/master/metakernel/magics/README.md"
			}
		   ],
		   "mimetype": "text/x-octave",
		   "name": "scilab",
		   "version": "0.7.1"
		  }
		 },
		 "nbformat": 4,
		 "nbformat_minor": 0
}
