{
"cells": [
 {
		   "cell_type": "markdown",
	   "metadata": {},
	   "source": [
       "# Chapter 5: Kinetic theory of Heat"
	   ]
	},
{
		   "cell_type": "markdown",
		   "metadata": {},
		   "source": [
			"## Example 5.1: chapter_5_example_1.sce"
		   ]
		  },
  {
"cell_type": "code",
	   "execution_count": null,
	   "metadata": {
	    "collapsed": true
	   },
	   "outputs": [],
"source": [
"clc\n",
"//initialisations\n",
"h=50//m\n",
"g=9.8//m/sec2\n",
"l=1000\n",
"j=4.2//j/cal\n",
"//calculations\n",
"q=h*g/j\n",
"t=q/l\n",
"//results\n",
"printf(' difference in temperature of water= % 1f C',t)"
   ]
   }
,
{
		   "cell_type": "markdown",
		   "metadata": {},
		   "source": [
			"## Example 5.2: chapter_5_example_2.sce"
		   ]
		  },
  {
"cell_type": "code",
	   "execution_count": null,
	   "metadata": {
	    "collapsed": true
	   },
	   "outputs": [],
"source": [
"clc\n",
"//initialisations\n",
"t1=327//c\n",
"t2=47.6//c\n",
"c=30//cal/kg\n",
"l=6000//cal/kg\n",
"j=4.2//j/cal\n",
"//CALCULATIONS\n",
"h=c*(t1-t2)+l\n",
"v=sqrt(2*j*h)\n",
"//results\n",
"printf(' velocity of bullet= % 1f m/sec',v)"
   ]
   }
,
{
		   "cell_type": "markdown",
		   "metadata": {},
		   "source": [
			"## Example 5.3: chapter_5_example_3.sce"
		   ]
		  },
  {
"cell_type": "code",
	   "execution_count": null,
	   "metadata": {
	    "collapsed": true
	   },
	   "outputs": [],
"source": [
"clc\n",
"//initialisation\n",
"e=3//v\n",
"i=2//amp\n",
"e1=3.75//v\n",
"i1=2.5//amp\n",
"t=2//c\n",
"m=30//gm/min\n",
"m1=48//gm/min\n",
"//CALCULATIONS\n",
"p=(e*i-e1*i1)/(t*(m-m1)/44.444)\n",
"//results\n",
"printf(' J= % 1f j/cal',p)"
   ]
   }
,
{
		   "cell_type": "markdown",
		   "metadata": {},
		   "source": [
			"## Example 5.4: chapter_5_example_4.sce"
		   ]
		  },
  {
"cell_type": "code",
	   "execution_count": null,
	   "metadata": {
	    "collapsed": true
	   },
	   "outputs": [],
"source": [
"clc\n",
"//initialisations\n",
"c=1000\n",
"t=1//c\n",
"f=1//f\n",
"J=4.18//j/cal\n",
"g=9.8//m/sec2\n",
"//CALCULATIONS\n",
"h=c*t*J/g\n",
"h1=h*f*5/9\n",
"//results\n",
"printf(' height pf waterfall to rasie 1 c= % 1f m',h)\n",
"printf(' height of waterfall to raise 1 f= % 1f m',h1)"
   ]
   }
],
"metadata": {
		  "kernelspec": {
		   "display_name": "Scilab",
		   "language": "scilab",
		   "name": "scilab"
		  },
		  "language_info": {
		   "file_extension": ".sce",
		   "help_links": [
			{
			 "text": "MetaKernel Magics",
			 "url": "https://github.com/calysto/metakernel/blob/master/metakernel/magics/README.md"
			}
		   ],
		   "mimetype": "text/x-octave",
		   "name": "scilab",
		   "version": "0.7.1"
		  }
		 },
		 "nbformat": 4,
		 "nbformat_minor": 0
}
