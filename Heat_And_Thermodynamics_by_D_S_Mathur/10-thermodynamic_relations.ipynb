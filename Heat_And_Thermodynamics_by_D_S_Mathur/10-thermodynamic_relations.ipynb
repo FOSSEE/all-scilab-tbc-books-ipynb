{
"cells": [
 {
		   "cell_type": "markdown",
	   "metadata": {},
	   "source": [
       "# Chapter 10: thermodynamic relations"
	   ]
	},
{
		   "cell_type": "markdown",
		   "metadata": {},
		   "source": [
			"## Example 10.13: chapter_10_example_13.sce"
		   ]
		  },
  {
"cell_type": "code",
	   "execution_count": null,
	   "metadata": {
	    "collapsed": true
	   },
	   "outputs": [],
"source": [
"clc\n",
"//initialisation\n",
"dq=540000\n",
"dv=1.676\n",
"T1=373//k\n",
"T2=423//k\n",
"p1=1//pa\n",
"//CALCULATIONS\n",
"dt=T2-T1\n",
"dp=(dt*dq*4.2)/(dv*T1)\n",
"p2=p1+(dp/10^5)\n",
"//results\n",
"printf(' \n required pressure= % 1f pa',p2)"
   ]
   }
,
{
		   "cell_type": "markdown",
		   "metadata": {},
		   "source": [
			"## Example 10.7: chapter_10_example_7.sce"
		   ]
		  },
  {
"cell_type": "code",
	   "execution_count": null,
	   "metadata": {
	    "collapsed": true
	   },
	   "outputs": [],
"source": [
"clc\n",
"//initialisation\n",
"T=5+273//k\n",
"v=10^-6//m3\n",
"a=15*10^-6//k^-1\n",
"cp=1005//cal/kg/k\n",
"dp=(1000-0)*10^5//N/m2\n",
"//CALCULATIONS\n",
"dt=(T*a*v*dp)/(cp*4.2)\n",
"//results\n",
"printf(' \n temperature of water rises by= % 1f k',dt)"
   ]
   }
,
{
		   "cell_type": "markdown",
		   "metadata": {},
		   "source": [
			"## Example 10.8: chapter_10_example_8.sce"
		   ]
		  },
  {
"cell_type": "code",
	   "execution_count": null,
	   "metadata": {
	    "collapsed": true
	   },
	   "outputs": [],
"source": [
"clc\n",
"//initialisation\n",
"T=5+273//k\n",
"v=10^-6//m3\n",
"a=15*10^-6//k^-1\n",
"cp=1005//cal/kg/k\n",
"dp=(1000-0)*10^5//N/m2\n",
"//CALCULATIONS\n",
"q=(T*a*v*dp)/4.2\n",
"//results\n",
"printf(' \n quantity of heat given= % 1f cal',q)"
   ]
   }
],
"metadata": {
		  "kernelspec": {
		   "display_name": "Scilab",
		   "language": "scilab",
		   "name": "scilab"
		  },
		  "language_info": {
		   "file_extension": ".sce",
		   "help_links": [
			{
			 "text": "MetaKernel Magics",
			 "url": "https://github.com/calysto/metakernel/blob/master/metakernel/magics/README.md"
			}
		   ],
		   "mimetype": "text/x-octave",
		   "name": "scilab",
		   "version": "0.7.1"
		  }
		 },
		 "nbformat": 4,
		 "nbformat_minor": 0
}
