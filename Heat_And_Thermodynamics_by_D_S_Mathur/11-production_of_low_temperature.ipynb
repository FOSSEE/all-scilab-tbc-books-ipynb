{
"cells": [
 {
		   "cell_type": "markdown",
	   "metadata": {},
	   "source": [
       "# Chapter 11: production of low temperature"
	   ]
	},
{
		   "cell_type": "markdown",
		   "metadata": {},
		   "source": [
			"## Example 11.2: chapter_11_example_2.sce"
		   ]
		  },
  {
"cell_type": "code",
	   "execution_count": null,
	   "metadata": {
	    "collapsed": true
	   },
	   "outputs": [],
"source": [
"clc\n",
"//initialisation\n",
"a=0.245\n",
"b=2.67*10^-2\n",
"dp=50//pa\n",
"t1=300//k\n",
"R=8.4//j\n",
"//CALCULATIONS\n",
"cp=7*R/5\n",
"l=((2*a)/(R*t1))-b\n",
"dt=(dp*l)/cp\n",
"//results\n",
"printf(' \n drop in temperature= % 1f k',dt)"
   ]
   }
,
{
		   "cell_type": "markdown",
		   "metadata": {},
		   "source": [
			"## Example 11.3: chapter_11_example_3.sce"
		   ]
		  },
  {
"cell_type": "code",
	   "execution_count": null,
	   "metadata": {
	    "collapsed": true
	   },
	   "outputs": [],
"source": [
"clc\n",
"//initialisation\n",
"k=6*10^-5\n",
"B=5000\n",
"c=420//J\n",
"T=2//k\n",
"//CALCULATIONS\n",
"dt=-(k*B*B)/(2*c*T)\n",
"T1=T+dt\n",
"//results\n",
"printf(' \n final temperature= % 1f k',T1)"
   ]
   }
],
"metadata": {
		  "kernelspec": {
		   "display_name": "Scilab",
		   "language": "scilab",
		   "name": "scilab"
		  },
		  "language_info": {
		   "file_extension": ".sce",
		   "help_links": [
			{
			 "text": "MetaKernel Magics",
			 "url": "https://github.com/calysto/metakernel/blob/master/metakernel/magics/README.md"
			}
		   ],
		   "mimetype": "text/x-octave",
		   "name": "scilab",
		   "version": "0.7.1"
		  }
		 },
		 "nbformat": 4,
		 "nbformat_minor": 0
}
