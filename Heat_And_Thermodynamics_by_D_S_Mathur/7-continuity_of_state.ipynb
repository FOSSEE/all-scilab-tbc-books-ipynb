{
"cells": [
 {
		   "cell_type": "markdown",
	   "metadata": {},
	   "source": [
       "# Chapter 7: continuity of state"
	   ]
	},
{
		   "cell_type": "markdown",
		   "metadata": {},
		   "source": [
			"## Example 7.10: chapter_7_example_10.sce"
		   ]
		  },
  {
"cell_type": "code",
	   "execution_count": null,
	   "metadata": {
	    "collapsed": true
	   },
	   "outputs": [],
"source": [
"clc\n",
"//initialisation\n",
"m=2*10^-3//kg\n",
"R=8.31//j/mol/k\n",
"p=2*10^5\n",
"v=8.2*10^-4\n",
"a=0.136//pa m^6\n",
"M=28*10^-3//kg/\n",
"//CALCULATIONS\n",
"t=(p*v*M)/(R*m)\n",
"T=(M/(m*R))*(p+(m*m*a/(M*M*v*v)))*(v-(m*b/M))\n",
"//results\n",
"printf(' \n temperature for a perfect gas= % 1f k',t)\n",
"printf(' \n temperature for vanderwaals gas= % 1f k',T)"
   ]
   }
,
{
		   "cell_type": "markdown",
		   "metadata": {},
		   "source": [
			"## Example 7.11: chapter_7_example_11.sce"
		   ]
		  },
  {
"cell_type": "code",
	   "execution_count": null,
	   "metadata": {
	    "collapsed": true
	   },
	   "outputs": [],
"source": [
"clc\n",
"//initialisation\n",
"a=0.132//nm^4/mole^2\n",
"b=3.12*10^-5//m^3/mole^2\n",
"p=5*10^5//Nm^-2\n",
"v=20*10^-3//m3\n",
"R=8.4//j/mole/k\n",
"v2=2*10^-3//m3\n",
"p1=5//pa\n",
"//CALCULATIONS\n",
"t=((p+(a/(v*v)))*(v-b))/(5*R)\n",
"p2=(p1*v)/v2\n",
"//results\n",
"printf(' \n temperature = % 1f k',t)\n",
"printf(' \n pressure= % 1f pa',p2)"
   ]
   }
,
{
		   "cell_type": "markdown",
		   "metadata": {},
		   "source": [
			"## Example 7.12: chapter_7_example_12.sce"
		   ]
		  },
  {
"cell_type": "code",
	   "execution_count": null,
	   "metadata": {
	    "collapsed": true
	   },
	   "outputs": [],
"source": [
"clc\n",
"//initialisation\n",
"t1=273//k\n",
"p1=1*10^5//N/m2\n",
"p2=2*10^5//N/m2\n",
"v=10^-6//m3\n",
"a=2.73*10^-10//m4 N\n",
"b=1.03*10^-9//m3\n",
"//CALCULATIONS\n",
"t2=t1+(t1*(p2-p1))/(p1+(a/(v*v)))\n",
"//results\n",
"printf(' \n temperature of gas if pressure is doubled= % 1f k',t2)"
   ]
   }
,
{
		   "cell_type": "markdown",
		   "metadata": {},
		   "source": [
			"## Example 7.1: chapter_7_example_1.sce"
		   ]
		  },
  {
"cell_type": "code",
	   "execution_count": null,
	   "metadata": {
	    "collapsed": true
	   },
	   "outputs": [],
"source": [
"clc\n",
"//initialisation\n",
"R=82.07//cm3.atmos.per k\n",
"t=132//k\n",
"p=37.2//atm\n",
"//CALCULATIONS\n",
"a=(27*R*R*t*t)/(64*p)\n",
"b=(R*t)/(8*p)\n",
"//results\n",
"printf(' a= % 1f atmos cm ^6',a)\n",
"printf(' \nb= % 1f cm^3',b)"
   ]
   }
,
{
		   "cell_type": "markdown",
		   "metadata": {},
		   "source": [
			"## Example 7.2: chapter_7_example_2.sce"
		   ]
		  },
  {
"cell_type": "code",
	   "execution_count": null,
	   "metadata": {
	    "collapsed": true
	   },
	   "outputs": [],
"source": [
"clc\n",
"//initialisation\n",
"p=2.26//atmos\n",
"m=1.014*10^6*4\n",
"R=8.3*10^7\n",
"d=0.069//gm/cm3\n",
"//CALCULATIONS\n",
"t=(8*p*m)/(3*R*d)\n",
"//results\n",
"printf(' critical temperature of helium= % 1f K',t)"
   ]
   }
,
{
		   "cell_type": "markdown",
		   "metadata": {},
		   "source": [
			"## Example 7.7: chapter_7_example_7.sce"
		   ]
		  },
  {
"cell_type": "code",
	   "execution_count": null,
	   "metadata": {
	    "collapsed": true
	   },
	   "outputs": [],
"source": [
"clc\n",
"//initialisation\n",
"a=0.0072\n",
"b=0.002\n",
"p=1\n",
"v=1\n",
"t=273//k\n",
"//CALCULATIONS\n",
"R=((p+(a/(v*v)))*(v-b))/t\n",
"Tc=(8*a)/(27*R*b)\n",
"TC=Tc-t\n",
"Tb=3.375*Tc\n",
"TB=Tb-t\n",
"//results\n",
"printf(' critical temperature of Co2= % 1f c',TC)\n",
"printf(' \nboyle temperature of Co2= % 1f k',Tb)"
   ]
   }
,
{
		   "cell_type": "markdown",
		   "metadata": {},
		   "source": [
			"## Example 7.8: chapter_7_example_8.sce"
		   ]
		  },
  {
"cell_type": "code",
	   "execution_count": null,
	   "metadata": {
	    "collapsed": true
	   },
	   "outputs": [],
"source": [
"clc\n",
"//initialisation\n",
"a=0.0072//pa cc^2\n",
"b=0.002\n",
"p1=76*13.6*980\n",
"p2=0.76*13600*9.8\n",
"//CALCULATIONS\n",
"a1=a*p2/p1\n",
"//results\n",
"printf(' value of a in MKS/SI units= % 1f pa m^6',a1)\n",
"printf(' \nvalue of b in MKS/SI units= % 1f ',b)"
   ]
   }
,
{
		   "cell_type": "markdown",
		   "metadata": {},
		   "source": [
			"## Example 7.9: chapter_7_example_9.sce"
		   ]
		  },
  {
"cell_type": "code",
	   "execution_count": null,
	   "metadata": {
	    "collapsed": true
	   },
	   "outputs": [],
"source": [
"clc\n",
"//initialisation\n",
"a=1.64*10^-2//pa m^6 /mole^2\n",
"b=2.17*10^-5//m^3/mole\n",
"t=300//k\n",
"v=10^-3//m^3/mole\n",
"R=8.31//j/mole/k\n",
"tc=33.2\n",
"pc=1.295*10^6\n",
"vc=6.5*10^-5\n",
"//CALCULATIONS\n",
"p=(((R*t)/(v-b))-(a/(v*v)))\n",
"p1=(R*t)/v\n",
"r=(8*pc*vc)/(3*tc)\n",
"p2=(((r*t)/(v-b))-(a/(v*v)))\n",
"p3=(r*t)/v\n",
"//results\n",
"printf(' value of pressure at 300k= % 1f pa',p)\n",
"printf(' \n pressure using ideal gas condition= % 1f pa',p1)\n",
"printf(' \nvalue of R at critical point= % 1f J/mole/k',r)\n",
"printf(' \n using r value in vanderwaals equation p = % 1f pa',p2)"
   ]
   }
],
"metadata": {
		  "kernelspec": {
		   "display_name": "Scilab",
		   "language": "scilab",
		   "name": "scilab"
		  },
		  "language_info": {
		   "file_extension": ".sce",
		   "help_links": [
			{
			 "text": "MetaKernel Magics",
			 "url": "https://github.com/calysto/metakernel/blob/master/metakernel/magics/README.md"
			}
		   ],
		   "mimetype": "text/x-octave",
		   "name": "scilab",
		   "version": "0.7.1"
		  }
		 },
		 "nbformat": 4,
		 "nbformat_minor": 0
}
