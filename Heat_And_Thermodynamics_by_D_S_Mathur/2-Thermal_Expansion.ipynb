{
"cells": [
 {
		   "cell_type": "markdown",
	   "metadata": {},
	   "source": [
       "# Chapter 2: Thermal Expansion"
	   ]
	},
{
		   "cell_type": "markdown",
		   "metadata": {},
		   "source": [
			"## Example 2.10: chapter_2_example_10.sce"
		   ]
		  },
  {
"cell_type": "code",
	   "execution_count": null,
	   "metadata": {
	    "collapsed": true
	   },
	   "outputs": [],
"source": [
"clc\n",
"//initialisations\n",
"ym=1.8*10^-4\n",
"yg=2.5*10^-5\n",
"//CALCULATIONS\n",
"s=yg/ym\n",
"//results\n",
"printf(' volume of vessel to be filled= % 1f 1/C',s)"
   ]
   }
,
{
		   "cell_type": "markdown",
		   "metadata": {},
		   "source": [
			"## Example 2.12: chapter_2_example_12.sce"
		   ]
		  },
  {
"cell_type": "code",
	   "execution_count": null,
	   "metadata": {
	    "collapsed": true
	   },
	   "outputs": [],
"source": [
"clc\n",
"//initialisation\n",
"l=1//m\n",
"ld1=0.7//m\n",
"ld2=0.78//m\n",
"d1=0\n",
"d2=30\n",
"vd1=l-(ld1*cosd(d1))\n",
"vd2=l-(ld2*cosd(d2))\n",
"//CALCULATIONS\n",
"H=((ld1*vd1)-(ld2*vd2))/(vd1-vd2)\n",
"//results\n",
"printf(' atmospheric pressure= % 1f m',H)"
   ]
   }
,
{
		   "cell_type": "markdown",
		   "metadata": {},
		   "source": [
			"## Example 2.13: chapter_2_example_13.sce"
		   ]
		  },
  {
"cell_type": "code",
	   "execution_count": null,
	   "metadata": {
	    "collapsed": true
	   },
	   "outputs": [],
"source": [
"clc\n",
"//initialisation\n",
"r=1/1.035\n",
"t1=15//c\n",
"t2=25//c\n",
"//CALCULATIONS\n",
"x=-(t1-(t2*r))/(r-1)\n",
"//results\n",
"printf(' absolute zero on celsius scale for this gas= % 1f c',x)"
   ]
   }
,
{
		   "cell_type": "markdown",
		   "metadata": {},
		   "source": [
			"## Example 2.14: chapter_2_example_14.sce"
		   ]
		  },
  {
"cell_type": "code",
	   "execution_count": null,
	   "metadata": {
	    "collapsed": true
	   },
	   "outputs": [],
"source": [
"clc\n",
"//initialisation\n",
"p=0.76\n",
"t1=0//c\n",
"t2=100//c\n",
"T1=t1+273//k\n",
"T2=t2+273//k\n",
"//CALCULATIONS\n",
"p=(2*p*T2)/(T1+T2)\n",
"//results\n",
"printf(' pressure of the gas= % 1f m',p)"
   ]
   }
,
{
		   "cell_type": "markdown",
		   "metadata": {},
		   "source": [
			"## Example 2.15: chapter_2_example_15.sce"
		   ]
		  },
  {
"cell_type": "code",
	   "execution_count": null,
	   "metadata": {
	    "collapsed": true
	   },
	   "outputs": [],
"source": [
"clc\n",
"//initialisation\n",
"s=0.00018//1/c\n",
"dt=1//c\n",
"//CALCULATIONS\n",
"p=(s*dt)*100\n",
"//results\n",
"printf(' percentage change= % 1f',p)"
   ]
   }
,
{
		   "cell_type": "markdown",
		   "metadata": {},
		   "source": [
			"## Example 2.5: chapter_2_example_5.sce"
		   ]
		  },
  {
"cell_type": "code",
	   "execution_count": null,
	   "metadata": {
	    "collapsed": true
	   },
	   "outputs": [],
"source": [
"clc\n",
"//initialisation\n",
"t1=0//c\n",
"t2=20//c\n",
"g=0.000011//1/c\n",
"h=0.000019//1/c\n",
"l=41.628//cm\n",
"//CALCULATIONS\n",
"l20=l*(1+(h*(t2-t1)))\n",
"l0=l20/(1+(g*(t2-t1)))\n",
"//results\n",
"printf(' true length of rod at 20 c= % 1f C',l20)\n",
"printf(' true length of rod at 0 c= % 1f C',l0)"
   ]
   }
,
{
		   "cell_type": "markdown",
		   "metadata": {},
		   "source": [
			"## Example 2.6: chapter_2_example_6.sce"
		   ]
		  },
  {
"cell_type": "code",
	   "execution_count": null,
	   "metadata": {
	    "collapsed": true
	   },
	   "outputs": [],
"source": [
"clc\n",
"//initialisation\n",
"l=3//m\n",
"t1=0//c\n",
"t2=40//c\n",
"f=0.000012//1/c\n",
"b=0.000018//1/c\n",
"y=2.1*10^11//N/m^2\n",
"a=(3.14*(0.6*10^-3)^2)/4///m\n",
"//CALCULATIONS\n",
"lb40=l*(1+(b*(t2-t1)))\n",
"lf40=l*(1+f*(t2-t1))\n",
"dl=lb40-lf40\n",
"F=y*a*dl*0.01/l\n",
"//results\n",
"printf(' extra tension of the wire= % 1f newton',F)"
   ]
   }
,
{
		   "cell_type": "markdown",
		   "metadata": {},
		   "source": [
			"## Example 2.7: chapter_2_example_7.sce"
		   ]
		  },
  {
"cell_type": "code",
	   "execution_count": null,
	   "metadata": {
	    "collapsed": true
	   },
	   "outputs": [],
"source": [
"clc\n",
"//initialisation of variables\n",
"l20=0.1//m\n",
"l1=0.0999//m\n",
"s=0.000011//1/c\n",
"t1=20\n",
"//CALCULATIONS\n",
"t=((l1-l20)/(l20*s))+20\n",
"//results\n",
"printf(' temperature the rod must be reduced is= % 1f C',t)"
   ]
   }
,
{
		   "cell_type": "markdown",
		   "metadata": {},
		   "source": [
			"## Example 2.8: chapter_2_example_8.sce"
		   ]
		  },
  {
"cell_type": "code",
	   "execution_count": null,
	   "metadata": {
	    "collapsed": true
	   },
	   "outputs": [],
"source": [
"clc\n",
"//initialisation of variables\n",
"s=1.9*10^-5//1/c\n",
"t1=15//c\n",
"t2=20//c\n",
"//CALCULATIONS\n",
"g=(1+(s*(t2-t1)))^(0.5)\n",
"h=g-1\n",
"d=h*24*60*60\n",
"//results\n",
"printf(' per day difference= % 1f sec',d)"
   ]
   }
,
{
		   "cell_type": "markdown",
		   "metadata": {},
		   "source": [
			"## Example 2.9: chapter_2_example_9.sce"
		   ]
		  },
  {
"cell_type": "code",
	   "execution_count": null,
	   "metadata": {
	    "collapsed": true
	   },
	   "outputs": [],
"source": [
"clc\n",
"//initialisations\n",
"e=6000*10^-10//m\n",
"p=25\n",
"l=1.5*10^-2\n",
"t2=40\n",
"t1=0\n",
"sx=13*10^-7//1/c\n",
"sy=231*10^-7//1/c\n",
"sz=231*10^-7//1/c\n",
"//CALCULATIONS\n",
"s=((p*e)/(2*l*(t2-t1)))\n",
"y=sx+sy+sz\n",
"//results\n",
"printf(' alpha of crystal= % 1f 1/C',s)\n",
"printf(' coefficient of cubical expansion= % 1f 1/C',y)"
   ]
   }
],
"metadata": {
		  "kernelspec": {
		   "display_name": "Scilab",
		   "language": "scilab",
		   "name": "scilab"
		  },
		  "language_info": {
		   "file_extension": ".sce",
		   "help_links": [
			{
			 "text": "MetaKernel Magics",
			 "url": "https://github.com/calysto/metakernel/blob/master/metakernel/magics/README.md"
			}
		   ],
		   "mimetype": "text/x-octave",
		   "name": "scilab",
		   "version": "0.7.1"
		  }
		 },
		 "nbformat": 4,
		 "nbformat_minor": 0
}
