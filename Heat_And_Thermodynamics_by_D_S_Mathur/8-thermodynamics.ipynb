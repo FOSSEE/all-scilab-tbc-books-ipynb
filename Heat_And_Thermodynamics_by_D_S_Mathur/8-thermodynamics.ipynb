{
"cells": [
 {
		   "cell_type": "markdown",
	   "metadata": {},
	   "source": [
       "# Chapter 8: thermodynamics"
	   ]
	},
{
		   "cell_type": "markdown",
		   "metadata": {},
		   "source": [
			"## Example 8.10: chapter_8_example_10.sce"
		   ]
		  },
  {
"cell_type": "code",
	   "execution_count": null,
	   "metadata": {
	    "collapsed": true
	   },
	   "outputs": [],
"source": [
"clc\n",
"//initialisation of variables\n",
"T1=20+273//k\n",
"T2=273//k\n",
"m=2//kg\n",
"L=80000//cal/kg\n",
"//CALCULATIONS\n",
"Q2=m*L/3600\n",
"w=(T1-T2)*Q2*4.2/(T2)\n",
"//results\n",
"printf(' \n minimum power output of the motor= % 1f H.P',w/746)"
   ]
   }
,
{
		   "cell_type": "markdown",
		   "metadata": {},
		   "source": [
			"## Example 8.11: chapter_8_example_11.sce"
		   ]
		  },
  {
"cell_type": "code",
	   "execution_count": null,
	   "metadata": {
	    "collapsed": true
	   },
	   "outputs": [],
"source": [
"clc\n",
"//initialisation of variables\n",
"T1=20+273//k\n",
"T2=273//k\n",
"m=2//kg\n",
"L=80000//cal/kg\n",
"//CALCULATIONS\n",
"Q2=m*L/3600\n",
"w=(T1-T2)*Q2*4.2/(T2)\n",
"//results\n",
"printf(' \n minimum power output of the motor= % 1f H.P',w/746)"
   ]
   }
,
{
		   "cell_type": "markdown",
		   "metadata": {},
		   "source": [
			"## Example 8.12: chapter_8_example_12.sce"
		   ]
		  },
  {
"cell_type": "code",
	   "execution_count": null,
	   "metadata": {
	    "collapsed": true
	   },
	   "outputs": [],
"source": [
"clc\n",
"//initialisation of variables\n",
"p=10^5//N/m^2\n",
"l=1//m\n",
"a=0.2//m^2\n",
"n=5\n",
"//CALCULATIONS\n",
"power=2*p*l*a*n/746\n",
"//results\n",
"printf(' \n horse power of engine= % 1f H P',power)"
   ]
   }
,
{
		   "cell_type": "markdown",
		   "metadata": {},
		   "source": [
			"## Example 8.13: chapter_8_example_13.sce"
		   ]
		  },
  {
"cell_type": "code",
	   "execution_count": null,
	   "metadata": {
	    "collapsed": true
	   },
	   "outputs": [],
"source": [
"clc\n",
"//initialisation of variables\n",
"dp=1//atm\n",
"L=80000//cal\n",
"T=273//k\n",
"r=11/10\n",
"//CALCULATIONS\n",
"dv=(1-r)/1000\n",
"dt=T*dv*(13600*9.81*0.76)/(L*4.2)\n",
"//results\n",
"printf(' \n depression in melting point of ice= % 1f c',-dt)"
   ]
   }
,
{
		   "cell_type": "markdown",
		   "metadata": {},
		   "source": [
			"## Example 8.14: chapter_8_example_14.sce"
		   ]
		  },
  {
"cell_type": "code",
	   "execution_count": null,
	   "metadata": {
	    "collapsed": true
	   },
	   "outputs": [],
"source": [
"clc\n",
"//initialisation of variables\n",
"dt=0.5//c\n",
"L=80000*4.2//J/kg\n",
"T=273//k\n",
"dv=0.000091//m^3\n",
"//CALCULATIONS\n",
"dp=(L*dt)/(T*dv*100000)\n",
"//results\n",
"printf(' \n pressure= % 1f atm',dp)"
   ]
   }
,
{
		   "cell_type": "markdown",
		   "metadata": {},
		   "source": [
			"## Example 8.15: chapter_8_example_15.sce"
		   ]
		  },
  {
"cell_type": "code",
	   "execution_count": null,
	   "metadata": {
	    "collapsed": true
	   },
	   "outputs": [],
"source": [
"clc\n",
"//initialisation of variables\n",
"dp=1.01*10^5//Nm^-2\n",
"L=4563000*4.2//J\n",
"dv=18.7*10^-3//m^3\n",
"T=353//k\n",
"//CALCULATIONS\n",
"dT=(dp*T*dv)/L\n",
"//results\n",
"printf(' \n change in melting point= % 1f c',dT)"
   ]
   }
,
{
		   "cell_type": "markdown",
		   "metadata": {},
		   "source": [
			"## Example 8.16: chapter_8_example_16.sce"
		   ]
		  },
  {
"cell_type": "code",
	   "execution_count": null,
	   "metadata": {
	    "collapsed": true
	   },
	   "outputs": [],
"source": [
"clc\n",
"//initialisation of variables\n",
"T=373//k\n",
"L=537000*4.2//J\n",
"dp=0.0212*13600*9.81\n",
"dv=1.673//m^3\n",
"//CALCULATIONS\n",
"dT=dp*T*dv/L\n",
"//results\n",
"printf(' \n change in temperature of boiling water= % 1f c',dT)"
   ]
   }
,
{
		   "cell_type": "markdown",
		   "metadata": {},
		   "source": [
			"## Example 8.17: chapter_8_example_17.sce"
		   ]
		  },
  {
"cell_type": "code",
	   "execution_count": null,
	   "metadata": {
	    "collapsed": true
	   },
	   "outputs": [],
"source": [
"clc\n",
"//initialisation of variabes\n",
"dp=(100-1)*1.01*10^5\n",
"L=24500//J\n",
"T=600//k\n",
"d2=11010\n",
"d1=10650\n",
"//CALCULATIONS\n",
"dv=(1/d2)-(1/d1)\n",
"dT=dp*T*dv/L\n",
"mp=T+(-dT)\n",
"//results\n",
"printf(' \n new melting point= % 1f c',mp)"
   ]
   }
,
{
		   "cell_type": "markdown",
		   "metadata": {},
		   "source": [
			"## Example 8.18: chapter_8_example_18.sce"
		   ]
		  },
  {
"cell_type": "code",
	   "execution_count": null,
	   "metadata": {
	    "collapsed": true
	   },
	   "outputs": [],
"source": [
"clc\n",
"//initialisation of variables\n",
"p=1.5//kg/cm2\n",
"T=373//k\n",
"v=1600//cc\n",
"L=2240000//J/kg\n",
"//CALCULATIONS\n",
"dp=((p*1000*980)-(1.01*10^6))/10\n",
"dv=(v-1)/1000\n",
"dT=dp*T*dv/L\n",
"T1=dT+T-273\n",
"//results\n",
"printf(' \n new temperature of cooker= % 1f c',T1)"
   ]
   }
,
{
		   "cell_type": "markdown",
		   "metadata": {},
		   "source": [
			"## Example 8.19: chapter_8_example_19.sce"
		   ]
		  },
  {
"cell_type": "code",
	   "execution_count": null,
	   "metadata": {
	    "collapsed": true
	   },
	   "outputs": [],
"source": [
"clc\n",
"//initialisation of variables\n",
"c1=1000\n",
"T=373//k\n",
"L=539300//cal\n",
"r=604// cal/kg/deg\n",
"//CALCULATIONS\n",
"c2=c1-(r)-(L/T)\n",
"//results\n",
"printf(' \n specific heat of saturated steam= % 1f cal/kg',c2)"
   ]
   }
,
{
		   "cell_type": "markdown",
		   "metadata": {},
		   "source": [
			"## Example 8.1: chapter_8_example_1.sce"
		   ]
		  },
  {
"cell_type": "code",
	   "execution_count": null,
	   "metadata": {
	    "collapsed": true
	   },
	   "outputs": [],
"source": [
"clc\n",
"//initialisation of variables\n",
"Q=50//cal\n",
"W=20//cal\n",
"Qi=36//cal\n",
"Wi=-13//cal\n",
"ui=10//cal\n",
"ub=22//cal\n",
"//CALCULATIONS\n",
"du=Q-W\n",
"Wibf=Qi-du\n",
"Qfi=du+Wi\n",
"Uf=du+ui\n",
"Qbf=Uf-ub\n",
"//results\n",
"printf(' \n Wibf= % 1f cal',Wibf)\n",
"printf(' \n Qfi= % 1f cal',Qfi)\n",
"printf(' \n Uf= % 1f cal',Uf)\n",
"printf(' \n Qbf= % 1f cal',Qbf)"
   ]
   }
,
{
		   "cell_type": "markdown",
		   "metadata": {},
		   "source": [
			"## Example 8.20: chapter_8_example_20.sce"
		   ]
		  },
  {
"cell_type": "code",
	   "execution_count": null,
	   "metadata": {
	    "collapsed": true
	   },
	   "outputs": [],
"source": [
"clc\n",
"//initialisation of variables\n",
"m=0.1//kg\n",
"v=1.01*10^-4//m^3\n",
"vs=0.167404//m^3\n",
"t1=101//c\n",
"t2=99//c\n",
"p1=0.788//m\n",
"p2=0.7337//m\n",
"T=373//k\n",
"//CALCULATIONS\n",
"v1=v/m\n",
"v2=vs/m\n",
"dv=v2-v1\n",
"dt=t1-t2\n",
"dp=p1-p2\n",
"dP=dp*13600*9.81\n",
"L=dP*T*dv/(dt*4.2)\n",
"//results\n",
"printf(' \n latent heat of steam= % 1f cal/kg',L)"
   ]
   }
,
{
		   "cell_type": "markdown",
		   "metadata": {},
		   "source": [
			"## Example 8.21: chapter_8_example_21.sce"
		   ]
		  },
  {
"cell_type": "code",
	   "execution_count": null,
	   "metadata": {
	    "collapsed": true
	   },
	   "outputs": [],
"source": [
"clc\n",
"//initialisation of variables\n",
"T1=1100//k\n",
"T3=200//k\n",
"r=0.5\n",
"//CALCULATIONS\n",
"T=(T1-(T3*r))/(1+r)\n",
"//results\n",
"printf(' \n value of T= % 1f k',T)"
   ]
   }
,
{
		   "cell_type": "markdown",
		   "metadata": {},
		   "source": [
			"## Example 8.22: chapter_8_example_22.sce"
		   ]
		  },
  {
"cell_type": "code",
	   "execution_count": null,
	   "metadata": {
	    "collapsed": true
	   },
	   "outputs": [],
"source": [
"clc\n",
"//initialisation of variables\n",
"T2=500//k\n",
"T1=1000//k\n",
"//CALCULATIONS\n",
"r=1-(T2/T1)\n",
"x=T1/r\n",
"//results\n",
"printf(' \n value of x= % 1f k',x)"
   ]
   }
,
{
		   "cell_type": "markdown",
		   "metadata": {},
		   "source": [
			"## Example 8.23: chapter_8_example_23.sce"
		   ]
		  },
  {
"cell_type": "code",
	   "execution_count": null,
	   "metadata": {
	    "collapsed": true
	   },
	   "outputs": [],
"source": [
"clc\n",
"//initialisation of variables\n",
"T1=900//k\n",
"T2=300//k\n",
"Q1=10^6//cal\n",
"//CALCULATIONS\n",
"r=(1-(T2/T1))\n",
"r1=r*100\n",
"w=r*Q1\n",
"w1=w*4.2//J\n",
"w2=w1/(3.6*10^6)\n",
"w3=w1/(1.609*10^-19)\n",
"//results\n",
"printf(' \n efficiency= % 1f ',r1)\n",
"printf(' \n work in KWH= % 1f KWH',w2)\n",
"printf(' \n work in ev= % 1e ev',w3)"
   ]
   }
,
{
		   "cell_type": "markdown",
		   "metadata": {},
		   "source": [
			"## Example 8.24: chapter_8_example_24.sce"
		   ]
		  },
  {
"cell_type": "code",
	   "execution_count": null,
	   "metadata": {
	    "collapsed": true
	   },
	   "outputs": [],
"source": [
"clc\n",
"//initialisation of variables\n",
"T2=300///k\n",
"T1=900//k\n",
"T3=600//k\n",
"Q2=15000//k.cal\n",
"Q1=12000//k.cal\n",
"//CALCULATIONS\n",
"na=1-(T2/T1)\n",
"nb=1-(T2/T3)\n",
"w1=Q1*na\n",
"w2=Q2*nb\n",
"//results\n",
"printf(' \n w1= % 1f kcal',w1)\n",
"printf(' \n w2= % 1f kcal',w2)"
   ]
   }
,
{
		   "cell_type": "markdown",
		   "metadata": {},
		   "source": [
			"## Example 8.25: chapter_8_example_25.sce"
		   ]
		  },
  {
"cell_type": "code",
	   "execution_count": null,
	   "metadata": {
	    "collapsed": true
	   },
	   "outputs": [],
"source": [
"clc\n",
"//initialisation of variab;es\n",
"l=420//m\n",
"g=9.81//m/sec^2\n",
"c=1000\n",
"//CALCULATIONS\n",
"dt=(g*l)/(c*4.2)\n",
"//results\n",
"printf(' \n difference in temperature= % 1f c',dt)"
   ]
   }
,
{
		   "cell_type": "markdown",
		   "metadata": {},
		   "source": [
			"## Example 8.26: chapter_8_example_26.sce"
		   ]
		  },
  {
"cell_type": "code",
	   "execution_count": null,
	   "metadata": {
	    "collapsed": true
	   },
	   "outputs": [],
"source": [
"clc\n",
"//initialisation of variables\n",
"m=0.005//kg\n",
"c=0.17//kcal/kg/c\n",
"t1=12.4//c\n",
"t2=10.2//c\n",
"//CALCULATIONS\n",
"du=m*c*(t1-t2)*4.2*1000\n",
"//results\n",
"printf(' \n change in internal energy= % 1f J',du)"
   ]
   }
,
{
		   "cell_type": "markdown",
		   "metadata": {},
		   "source": [
			"## Example 8.27: chapter_8_example_27.sce"
		   ]
		  },
  {
"cell_type": "code",
	   "execution_count": null,
	   "metadata": {
	    "collapsed": true
	   },
	   "outputs": [],
"source": [
"clc\n",
"//initialisation of variables\n",
"dq=-80\n",
"dv=0.091*10^-6//m^3\n",
"p=1.013*10^5//n/m^2\n",
"//CALCULATIONS\n",
"du=dq-(p*dv/46)\n",
"//results\n",
"printf(' \n change in internal energy= % 1f cal',du)"
   ]
   }
,
{
		   "cell_type": "markdown",
		   "metadata": {},
		   "source": [
			"## Example 8.28: chapter_8_example_28.sce"
		   ]
		  },
  {
"cell_type": "code",
	   "execution_count": null,
	   "metadata": {
	    "collapsed": true
	   },
	   "outputs": [],
"source": [
"clc\n",
"//initialisation of variables\n",
"p=1*10^5//n/m^2\n",
"v2=2.6//litre\n",
"v1=2.2//litre\n",
"dq=250//j\n",
"//CALCULATIONS\n",
"dv=(v2-v1)*10^-3\n",
"dw=p*dv\n",
"du=dq-dw\n",
"//results\n",
"printf(' \n change in internal energy= % 1f J',du)"
   ]
   }
,
{
		   "cell_type": "markdown",
		   "metadata": {},
		   "source": [
			"## Example 8.29: chapter_8_example_29.sce"
		   ]
		  },
  {
"cell_type": "code",
	   "execution_count": null,
	   "metadata": {
	    "collapsed": true
	   },
	   "outputs": [],
"source": [
"clc\n",
"//initialisation of variables\n",
"v2=6//lit\n",
"v1=2//lit\n",
"r=3/2\n",
"p1=1.01*10^5//n/m^2\n",
"//CALCULATIONS\n",
"g=(r+1)/r\n",
"p2=p1*(v2/v1)^g\n",
"w=(1/(g-1))*((p1*v2*10^-3)-(p2*v1*10^-3))\n",
"//results\n",
"printf(' \n work done= % 1f J',w)"
   ]
   }
,
{
		   "cell_type": "markdown",
		   "metadata": {},
		   "source": [
			"## Example 8.2: chapter_8_example_2.sce"
		   ]
		  },
  {
"cell_type": "code",
	   "execution_count": null,
	   "metadata": {
	    "collapsed": true
	   },
	   "outputs": [],
"source": [
"clc\n",
"//initialisation of variables\n",
"g=1.4\n",
"T1=15+273//k\n",
"r=2\n",
"p=2//atm\n",
"r1=0.5\n",
"//CALCULATIONS\n",
"T2=T1*r^(g-1)\n",
"t2=T1*r1^((g-1)/g)\n",
"//results\n",
"printf(' \n final temperature= % 1f k',T2)\n",
"printf(' \n temperature= % 1f k',t2)"
   ]
   }
,
{
		   "cell_type": "markdown",
		   "metadata": {},
		   "source": [
			"## Example 8.3: chapter_8_example_3.sce"
		   ]
		  },
  {
"cell_type": "code",
	   "execution_count": null,
	   "metadata": {
	    "collapsed": true
	   },
	   "outputs": [],
"source": [
"clc\n",
"//initialisation of variables\n",
"r=1/20\n",
"p1=1//atm\n",
"g=1.4\n",
"T1=273//k\n",
"//CALCULATIONS\n",
"p2=p1/r\n",
"pad=p2^g\n",
"T2=T1*((1/r)^(g-1))\n",
"dt=T2-T1\n",
"//RESULTS\n",
"printf(' \n pressure required= % 1f atm',p2)\n",
"printf(' \n pressure for adiabatic conditions= % 1f atm',pad)\n",
"printf(' \n rise in temperature= % 1f c',dt)"
   ]
   }
,
{
		   "cell_type": "markdown",
		   "metadata": {},
		   "source": [
			"## Example 8.4: chapter_8_example_4.sce"
		   ]
		  },
  {
"cell_type": "code",
	   "execution_count": null,
	   "metadata": {
	    "collapsed": true
	   },
	   "outputs": [],
"source": [
"clc\n",
"//initialisation of variables\n",
"R=8400//j/mole\n",
"T1=273//k\n",
"g=1.66\n",
"r=2\n",
"//CALCULATIONS\n",
"T2=T1*r^(g-1)\n",
"w=(R*(T1-T2))/(22400*(g-1))\n",
"wi=R*T1*log(1/r)/22400\n",
"//results\n",
"printf(' \n amount of work done= % 1f J',w)\n",
"printf(' \n isothermal work done= % 1f J',wi)"
   ]
   }
,
{
		   "cell_type": "markdown",
		   "metadata": {},
		   "source": [
			"## Example 8.5: chapter_8_example_5.sce"
		   ]
		  },
  {
"cell_type": "code",
	   "execution_count": null,
	   "metadata": {
	    "collapsed": true
	   },
	   "outputs": [],
"source": [
"clc\n",
"//initialisation of variables\n",
"r1=2\n",
"r=2\n",
"rv=0.75\n",
"//CALCULATIONS\n",
"g=log(r1/rv)/log(r)\n",
"//results\n",
"printf(' \n gamma value= % 1f ',g)"
   ]
   }
,
{
		   "cell_type": "markdown",
		   "metadata": {},
		   "source": [
			"## Example 8.6: chapter_8_example_6.sce"
		   ]
		  },
  {
"cell_type": "code",
	   "execution_count": null,
	   "metadata": {
	    "collapsed": true
	   },
	   "outputs": [],
"source": [
"clc\n",
"//initialisation of variables\n",
"t0=273//k\n",
"d0=1.29//kg/m^3\n",
"p=0.75//m\n",
"t=273+17//k\n",
"p0=0.76//m\n",
"v=342.15//m/sec\n",
"//CALCULATIONS\n",
"d=t0*d0*p/(t*p0)\n",
"g=(v*v*d)/(p*13600*9.81)\n",
"//results\n",
"printf(' \n gamma value= % 1f ',g)"
   ]
   }
,
{
		   "cell_type": "markdown",
		   "metadata": {},
		   "source": [
			"## Example 8.7: chapter_8_example_7.sce"
		   ]
		  },
  {
"cell_type": "code",
	   "execution_count": null,
	   "metadata": {
	    "collapsed": true
	   },
	   "outputs": [],
"source": [
"clc\n",
"//initialisation of variables\n",
"n=0.5\n",
"n1=0.6\n",
"T2=27+273//k\n",
"//CALCULATIONS\n",
"T1=T2/(1-n)\n",
"T=T2/(1-n1)\n",
"dt=T-T1\n",
"//results\n",
"printf(' \n source tempperature must be raised by= % 1f c',dt)"
   ]
   }
,
{
		   "cell_type": "markdown",
		   "metadata": {},
		   "source": [
			"## Example 8.8: chapter_8_example_8.sce"
		   ]
		  },
  {
"cell_type": "code",
	   "execution_count": null,
	   "metadata": {
	    "collapsed": true
	   },
	   "outputs": [],
"source": [
"clc\n",
"//initialisation of variables\n",
"w=100//watt\n",
"T2=100+273//k\n",
"T1=273//k\n",
"L=80000//cal/kg\n",
"//CALCULATIONS\n",
"dt=T2-T1\n",
"Q1=T2*w/dt\n",
"m=(Q1-w)*60/(4.2*L)\n",
"//results\n",
"printf(' \n mass of ice melts in 1 min= % 1f kg',m)"
   ]
   }
,
{
		   "cell_type": "markdown",
		   "metadata": {},
		   "source": [
			"## Example 8.9: chapter_8_example_9.sce"
		   ]
		  },
  {
"cell_type": "code",
	   "execution_count": null,
	   "metadata": {
	    "collapsed": true
	   },
	   "outputs": [],
"source": [
"clc\n",
"//initialisation of variables\n",
"L=80000//cal/kg\n",
"T1=27+273//k\n",
"T2=0+273//k\n",
"//CALCULATIONS\n",
"Q1=T1*L/T2\n",
"w=4.2*(Q1-L)\n",
"c=L/(Q1-L)\n",
"//results\n",
"printf(' \n coefficient of performance= % 1f ',c)"
   ]
   }
],
"metadata": {
		  "kernelspec": {
		   "display_name": "Scilab",
		   "language": "scilab",
		   "name": "scilab"
		  },
		  "language_info": {
		   "file_extension": ".sce",
		   "help_links": [
			{
			 "text": "MetaKernel Magics",
			 "url": "https://github.com/calysto/metakernel/blob/master/metakernel/magics/README.md"
			}
		   ],
		   "mimetype": "text/x-octave",
		   "name": "scilab",
		   "version": "0.7.1"
		  }
		 },
		 "nbformat": 4,
		 "nbformat_minor": 0
}
