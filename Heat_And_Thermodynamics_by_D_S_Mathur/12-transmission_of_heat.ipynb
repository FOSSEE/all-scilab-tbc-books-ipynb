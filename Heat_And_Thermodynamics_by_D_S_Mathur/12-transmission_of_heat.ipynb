{
"cells": [
 {
		   "cell_type": "markdown",
	   "metadata": {},
	   "source": [
       "# Chapter 12: transmission of heat"
	   ]
	},
{
		   "cell_type": "markdown",
		   "metadata": {},
		   "source": [
			"## Example 12.10: chapter_12_example_10.sce"
		   ]
		  },
  {
"cell_type": "code",
	   "execution_count": null,
	   "metadata": {
	    "collapsed": true
	   },
	   "outputs": [],
"source": [
"clc\n",
"//initialisations\n",
"t2=162//c\n",
"t1=62//c\n",
"l=0.15//m\n",
"d=0.02//m\n",
"k=226//watt per kelvin metre\n",
"//CALCULATIONS\n",
"r=d/2\n",
"a=3.14*r*r\n",
"p=2*3.14*r\n",
"x=(log(t2/t1))/l\n",
"e=(x*x*k*a)/p\n",
"//results\n",
"printf(' \n surface emissivity of rod= % 1f ',e)"
   ]
   }
,
{
		   "cell_type": "markdown",
		   "metadata": {},
		   "source": [
			"## Example 12.11: chapter_12_example_11.sce"
		   ]
		  },
  {
"cell_type": "code",
	   "execution_count": null,
	   "metadata": {
	    "collapsed": true
	   },
	   "outputs": [],
"source": [
"clc\n",
"//initialisation\n",
"t1=5.6//c\n",
"t2=2.8//c\n",
"t3=0.7//c\n",
"d1=2//m\n",
"d2=4//m\n",
"d3=8//m\n",
"w=(2*3.14)/365\n",
"//CALCULATIONS\n",
"d=(log(t1/t2))/(d2/d1)\n",
"k=w*1000/(d*d)\n",
"//results\n",
"printf(' \n diffusity= % 1f m^2 per day',k)"
   ]
   }
,
{
		   "cell_type": "markdown",
		   "metadata": {},
		   "source": [
			"## Example 12.12: chapter_12_example_12.sce"
		   ]
		  },
  {
"cell_type": "code",
	   "execution_count": null,
	   "metadata": {
	    "collapsed": true
	   },
	   "outputs": [],
"source": [
"clc\n",
"//initialisation\n",
"kcu=0.93//cal per sec per cm per c\n",
"t=700\n",
"//CALCULATIONS\n",
"khell=t*kcu\n",
"kmks=khell*100\n",
"ksi=4.2*khell\n",
"//results\n",
"printf(' \n conductivity= % 1f cal per sec per cm per c',khell)\n",
"printf(' \n conductivity= % 1f cal per sec per m per c',kmks)\n",
"printf(' \n conductivity= % 1f watt per m per k',ksi)"
   ]
   }
,
{
		   "cell_type": "markdown",
		   "metadata": {},
		   "source": [
			"## Example 12.1: chapter_12_example_1.sce"
		   ]
		  },
  {
"cell_type": "code",
	   "execution_count": null,
	   "metadata": {
	    "collapsed": true
	   },
	   "outputs": [],
"source": [
"clc\n",
"//initialisation\n",
"cu=390\n",
"al=226\n",
"lal=0.05//m\n",
"//CALCULATIONS\n",
"lcu=((cu/al)^0.5)*lal\n",
"//results\n",
"printf(' \n wax melts up to= % 1f m',lcu)"
   ]
   }
,
{
		   "cell_type": "markdown",
		   "metadata": {},
		   "source": [
			"## Example 12.2: chapter_12_example_2.sce"
		   ]
		  },
  {
"cell_type": "code",
	   "execution_count": null,
	   "metadata": {
	    "collapsed": true
	   },
	   "outputs": [],
"source": [
"clc\n",
"//initialisation\n",
"m=96//gm\n",
"m1=5//gm\n",
"t1=37//c\n",
"t2=10//c\n",
"l=10//cm\n",
"t=4*60//s\n",
"a=5//cm^2\n",
"dt=24//c\n",
"//CALCULATIONS\n",
"k=m*(t1-t2)/(a*t*dt)\n",
"h1=m1*540\n",
"h2=m*(t1-t2)\n",
"dh=h1-h2\n",
"p=dh*100/h1\n",
"//results\n",
"printf(' \n thermal conductivity= % 1f cgs units',k)\n",
"printf(' \n percentage of heat loss= % 1f ',p)"
   ]
   }
,
{
		   "cell_type": "markdown",
		   "metadata": {},
		   "source": [
			"## Example 12.3: chapter_12_example_3.sce"
		   ]
		  },
  {
"cell_type": "code",
	   "execution_count": null,
	   "metadata": {
	    "collapsed": true
	   },
	   "outputs": [],
"source": [
"clc\n",
"//initialisation\n",
"cu=90\n",
"fe=12\n",
"t1=200//c\n",
"t2=0//c\n",
"l=0.3//m\n",
"a=5*10^-4//m^2\n",
"//CALCULATIONS\n",
"t=(t1*cu+fe*t2)/(cu+fe)\n",
"dt=t1-t\n",
"rh=cu*a*dt/0.15\n",
"//results\n",
"printf(' \n rate of heat flow= % 1f cal/sec',rh)"
   ]
   }
,
{
		   "cell_type": "markdown",
		   "metadata": {},
		   "source": [
			"## Example 12.4: chapter_12_example_4.sce"
		   ]
		  },
  {
"cell_type": "code",
	   "execution_count": null,
	   "metadata": {
	    "collapsed": true
	   },
	   "outputs": [],
"source": [
"clc\n",
"//initialisation\n",
"a=25//sq.mt\n",
"aw=5//sq.mt\n",
"dt=30//c\n",
"t=60*60//sec\n",
"l=0.3//m\n",
"br=0.12\n",
"gl=0.25\n",
"l1=0.03//cm\n",
"//CALCULATIONS\n",
"A=4*a-aw\n",
"hb=(br*A*dt*t)/(l*1000)\n",
"hw=(gl*aw*dt*t)/(l1*100)\n",
"tot=hb+hw\n",
"//results\n",
"printf(' \n total heat passing per hour= % 1f k.cal',tot)"
   ]
   }
,
{
		   "cell_type": "markdown",
		   "metadata": {},
		   "source": [
			"## Example 12.5: chapter_12_example_5.sce"
		   ]
		  },
  {
"cell_type": "code",
	   "execution_count": null,
	   "metadata": {
	    "collapsed": true
	   },
	   "outputs": [],
"source": [
"clc\n",
"//initialisation\n",
"k1=0.252\n",
"k2=0.05\n",
"t1=273//k\n",
"t2=285//k\n",
"l1=0.0175//m\n",
"l2=0.02//m\n",
"//CALCULATIONS\n",
"t=((k1/l1)*t1+(k2/l2)*t2)/(k1/l1+k2/l2)\n",
"//results\n",
"printf(' \n temperature of interface= % 1f k',t)"
   ]
   }
,
{
		   "cell_type": "markdown",
		   "metadata": {},
		   "source": [
			"## Example 12.6: chapter_12_example_6.sce"
		   ]
		  },
  {
"cell_type": "code",
	   "execution_count": null,
	   "metadata": {
	    "collapsed": true
	   },
	   "outputs": [],
"source": [
"clc\n",
"//initialisation\n",
"cu=104\n",
"w=0.14\n",
"l1=50//cm\n",
"t=0.0001//m\n",
"t1=100//c\n",
"t2=0//c\n",
"//CALCULATIONS\n",
"x=cu*t*100/w\n",
"l=l1+2*x\n",
"dt=t1-t2\n",
"dg=dt/l\n",
"d1=x*dg\n",
"d2=t1-d1\n",
"//results\n",
"printf(' \n temperature gradient= % 1f c/cm',dg)\n",
"printf(' \n  temperature of one end= % 1f c',d1)\n",
"printf(' \n temperature of other end= % 1f c',d2)"
   ]
   }
,
{
		   "cell_type": "markdown",
		   "metadata": {},
		   "source": [
			"## Example 12.7: chapter_12_example_7.sce"
		   ]
		  },
  {
"cell_type": "code",
	   "execution_count": null,
	   "metadata": {
	    "collapsed": true
	   },
	   "outputs": [],
"source": [
"clc\n",
"//initialisation\n",
"m=4800//g\n",
"lice=80//cal/g\n",
"a=3600//sq.cm\n",
"t1=100//c\n",
"t2=0//c\n",
"t=10//cm\n",
"//CALCULATIONS\n",
"h=(m*lice)/(a*t)\n",
"dt=t1-t2\n",
"k=(h*t)/(a*dt)\n",
"//results\n",
"printf(' \n thermal conductivity of stone= % 1f cal/cm s c',k)"
   ]
   }
,
{
		   "cell_type": "markdown",
		   "metadata": {},
		   "source": [
			"## Example 12.8: chapter_12_example_8.sce"
		   ]
		  },
  {
"cell_type": "code",
	   "execution_count": null,
	   "metadata": {
	    "collapsed": true
	   },
	   "outputs": [],
"source": [
"clc\n",
"//initialisation\n",
"t1=100//c\n",
"t2=4//c\n",
"k=0.5//cal/cm s c\n",
"a=12//cm^2\n",
"l=8//cm\n",
"r=36//cal/s\n",
"//CALCULATIONS\n",
"T=(((r*l)/(k*a))+t1+t2)*0.5\n",
"//results\n",
"printf(' \n equilibrium temperature of inner surface= % 1f c',T)"
   ]
   }
,
{
		   "cell_type": "markdown",
		   "metadata": {},
		   "source": [
			"## Example 12.9: chapter_12_example_9.sce"
		   ]
		  },
  {
"cell_type": "code",
	   "execution_count": null,
	   "metadata": {
	    "collapsed": true
	   },
	   "outputs": [],
"source": [
"clc\n",
"//initialisation\n",
"r2=0.5\n",
"r1=0.4\n",
"l=30//cm\n",
"q=(500*10)/60\n",
"t=100//c\n",
"t1=20//c\n",
"t2=30//c\n",
"dt=t-(t1+t2)/2\n",
"//CALCULATIONS\n",
"k=(q*log((r2)/(r1)))/(2*3.14*dt*l)\n",
"//results\n",
"printf(' \n thermal conductivity of glass tube= % 1f cgs units',k)"
   ]
   }
],
"metadata": {
		  "kernelspec": {
		   "display_name": "Scilab",
		   "language": "scilab",
		   "name": "scilab"
		  },
		  "language_info": {
		   "file_extension": ".sce",
		   "help_links": [
			{
			 "text": "MetaKernel Magics",
			 "url": "https://github.com/calysto/metakernel/blob/master/metakernel/magics/README.md"
			}
		   ],
		   "mimetype": "text/x-octave",
		   "name": "scilab",
		   "version": "0.7.1"
		  }
		 },
		 "nbformat": 4,
		 "nbformat_minor": 0
}
