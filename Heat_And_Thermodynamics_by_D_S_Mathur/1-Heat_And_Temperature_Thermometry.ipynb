{
"cells": [
 {
		   "cell_type": "markdown",
	   "metadata": {},
	   "source": [
       "# Chapter 1: Heat And Temperature Thermometry"
	   ]
	},
{
		   "cell_type": "markdown",
		   "metadata": {},
		   "source": [
			"## Example 1.10: chapter_1_example_10.sce"
		   ]
		  },
  {
"cell_type": "code",
	   "execution_count": null,
	   "metadata": {
	    "collapsed": true
	   },
	   "outputs": [],
"source": [
"clc\n",
"//initialisations\n",
"T1=25//c\n",
"T2=15//c\n",
"r=1.035\n",
"//CALCULATIONS\n",
"s=(r-1)/(T1-(T2*r))\n",
"t=-1/s\n",
"//reults\n",
"printf(' absolute zero= % 1f C',t)"
   ]
   }
,
{
		   "cell_type": "markdown",
		   "metadata": {},
		   "source": [
			"## Example 1.1: chapter_1_example_1.sce"
		   ]
		  },
  {
"cell_type": "code",
	   "execution_count": null,
	   "metadata": {
	    "collapsed": true
	   },
	   "outputs": [],
"source": [
"clc\n",
"//initialisation of variables\n",
"n=2\n",
"//CALCULATIONS\n",
"t= 160/(5*n-9)\n",
"//RESULTS\n",
"printf (' Temperature of the fahrenheit scale= % f C',t)"
   ]
   }
,
{
		   "cell_type": "markdown",
		   "metadata": {},
		   "source": [
			"## Example 1.2: chapter_1_example_2.sce"
		   ]
		  },
  {
"cell_type": "code",
	   "execution_count": null,
	   "metadata": {
	    "collapsed": true
	   },
	   "outputs": [],
"source": [
"clc\n",
"//initialisation of variables\n",
"n= 1/1000\n",
"T= 60 //degrees\n",
"T1= 100 //degrees\n",
"//CALCULATIONS\n",
"r= T-n*T^2\n",
"r1= T1-n*T1^2\n",
"tl= r*100/r1\n",
"//RESULTS\n",
"printf (' liquid temperature= % 1f C',tl)"
   ]
   }
,
{
		   "cell_type": "markdown",
		   "metadata": {},
		   "source": [
			"## Example 1.3: chapter_1_example_3.sce"
		   ]
		  },
  {
"cell_type": "code",
	   "execution_count": null,
	   "metadata": {
	    "collapsed": true
	   },
	   "outputs": [],
"source": [
"clc\n",
"//initialisation of variables\n",
"p=1.0//metres\n",
"p0=0.8//metres\n",
"p100=1.093//metres\n",
"//CALCULATIONS\n",
"t=((p-p0)*100/(p100-p0))\n",
"//RESULTS\n",
"printf(' temperature of hot water= % 1f C',t)"
   ]
   }
,
{
		   "cell_type": "markdown",
		   "metadata": {},
		   "source": [
			"## Example 1.4: chapter_1_example_4.sce"
		   ]
		  },
  {
"cell_type": "code",
	   "execution_count": null,
	   "metadata": {
	    "collapsed": true
	   },
	   "outputs": [],
"source": [
"clc\n",
"//initialisation of variables\n",
"p0=0.70//metres\n",
"LC=0.1//millimetres\n",
"t= 100 //degrees\n",
"//CALCULATIONS\n",
"p100=p0*(1+(t/273))\n",
"T=(LC/(p100-p0))\n",
"//results\n",
"printf(' accuracy we can expect= % 1f C',T)"
   ]
   }
,
{
		   "cell_type": "markdown",
		   "metadata": {},
		   "source": [
			"## Example 1.5: chapter_1_example_5.sce"
		   ]
		  },
  {
"cell_type": "code",
	   "execution_count": null,
	   "metadata": {
	    "collapsed": true
	   },
	   "outputs": [],
"source": [
"clc\n",
"//initialisation of variables\n",
"t=80//celsius\n",
"tp=80.2//celsius\n",
"T=120\n",
"//CALCULATIONS\n",
"s=(10000)*((t-tp)/(t*(t-100)))\n",
"Tp=T-((s*t*(T-100))/10000)\n",
"//results\n",
"printf(' temperature= % 1f C',Tp)"
   ]
   }
,
{
		   "cell_type": "markdown",
		   "metadata": {},
		   "source": [
			"## Example 1.6: chapter_1_example_6.sce"
		   ]
		  },
  {
"cell_type": "code",
	   "execution_count": null,
	   "metadata": {
	    "collapsed": true
	   },
	   "outputs": [],
"source": [
"clc\n",
"//initialisation of variables\n",
"R100=5.93//ohms\n",
"Ro=5.0//ohms\n",
"P100=1.366//metres\n",
"Po=1//metres\n",
"Pt=1.3111//metres\n",
"Rt=5.795//ohms\n",
"//calculations\n",
"tp=(Rt-Ro)*100/(R100-Ro)\n",
"t=(Pt-Po)*100/(P100-Po)\n",
"//results\n",
"printf(' thermal on platinum scale= % 2f C',tp)\n",
"printf(' thermal on gas scale= % 1f C',t)"
   ]
   }
,
{
		   "cell_type": "markdown",
		   "metadata": {},
		   "source": [
			"## Example 1.7: chapter_1_example_7.sce"
		   ]
		  },
  {
"cell_type": "code",
	   "execution_count": null,
	   "metadata": {
	    "collapsed": true
	   },
	   "outputs": [],
"source": [
"clc\n",
"//initialisation\n",
"Rt=13.3//ohms\n",
"R100=7.0//ohms\n",
"R0=5.0//ohms\n",
"t=444.6//celsius\n",
"RT=9.1//ohms\n",
"//CALCULATIONS\n",
"tp=(Rt-R0)*100/(R100-R0)\n",
"Tp=(RT-R0)*100/(R100-R0)\n",
"s=(t-tp)*10000/(t*(t-100))\n",
"T=Tp+((s*(Tp*(Tp-100)))/10000)\n",
"Ts=Tp+((s*T*(T-100))/10000)\n",
"//results\n",
"printf(' platinum temperature of bath= % 2f C',T)\n",
"printf(' gas temperature of bath= % 2f C',Ts)"
   ]
   }
,
{
		   "cell_type": "markdown",
		   "metadata": {},
		   "source": [
			"## Example 1.8: chapter_1_example_8.sce"
		   ]
		  },
  {
"cell_type": "code",
	   "execution_count": null,
	   "metadata": {
	    "collapsed": true
	   },
	   "outputs": [],
"source": [
"clc\n",
"//initialisation\n",
"et=3.92//millivolts\n",
"e100=0.65//millivolts\n",
"e0=0//millivolts\n",
"e=2//volts\n",
"lp=1000//centimetres\n",
"ld=50.2//centimetres\n",
"rp=0.01//ohm per centimetre\n",
"rs=2500//ohms\n",
"j=5*10^-6\n",
"//CALCULATIONS\n",
"i=e/(rs+(lp*rp))\n",
"p=i*rp*lp/100\n",
"p1=p*ld\n",
"T=p1/j\n",
"t=(100*(et-e0))/(e100-e0)\n",
"//results\n",
"printf(' temperature= % 1f C',t)\n",
"printf(' \n temperature= % 1f C',T)"
   ]
   }
,
{
		   "cell_type": "markdown",
		   "metadata": {},
		   "source": [
			"## Example 1.9: chapter_1_example_9.sce"
		   ]
		  },
  {
"cell_type": "code",
	   "execution_count": null,
	   "metadata": {
	    "collapsed": true
	   },
	   "outputs": [],
"source": [
"clc\n",
"//initialisations\n",
"ht=65//cm\n",
"h0=-5//cm\n",
"t=273//c\n",
"//CALCULATIONAS\n",
"h100=h0+(100*(ht-h0)/t)\n",
"l=(1+(t/273))\n",
"H=(ht-(h0*l))/(l-1)\n",
"printf(' temperature= % 1f cm',H)"
   ]
   }
],
"metadata": {
		  "kernelspec": {
		   "display_name": "Scilab",
		   "language": "scilab",
		   "name": "scilab"
		  },
		  "language_info": {
		   "file_extension": ".sce",
		   "help_links": [
			{
			 "text": "MetaKernel Magics",
			 "url": "https://github.com/calysto/metakernel/blob/master/metakernel/magics/README.md"
			}
		   ],
		   "mimetype": "text/x-octave",
		   "name": "scilab",
		   "version": "0.7.1"
		  }
		 },
		 "nbformat": 4,
		 "nbformat_minor": 0
}
