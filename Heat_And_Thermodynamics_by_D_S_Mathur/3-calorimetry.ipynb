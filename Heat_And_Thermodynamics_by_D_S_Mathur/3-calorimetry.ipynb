{
"cells": [
 {
		   "cell_type": "markdown",
	   "metadata": {},
	   "source": [
       "# Chapter 3: calorimetry"
	   ]
	},
{
		   "cell_type": "markdown",
		   "metadata": {},
		   "source": [
			"## Example 3.10: chapter_3_example_10.sce"
		   ]
		  },
  {
"cell_type": "code",
	   "execution_count": null,
	   "metadata": {
	    "collapsed": true
	   },
	   "outputs": [],
"source": [
"clc\n",
"//initialisations\n",
"m1=250//gm\n",
"m2=200//gm\n",
"l=336//j\n",
"w1=50//gm\n",
"m3=200//gm\n",
"t1=100//c\n",
"//calculations\n",
"M1=m1+m2+w1\n",
"J=t1*M1*4.2\n",
"k=l*m2\n",
"m=123.2\n",
"T=m1+m3+m\n",
"//results\n",
"printf(' total contents= % 1f gm',T)"
   ]
   }
,
{
		   "cell_type": "markdown",
		   "metadata": {},
		   "source": [
			"## Example 3.12: chapter_3_example_12.sce"
		   ]
		  },
  {
"cell_type": "code",
	   "execution_count": null,
	   "metadata": {
	    "collapsed": true
	   },
	   "outputs": [],
"source": [
"clc\n",
"//initialisations\n",
"m1=10//kg\n",
"t1=80//c\n",
"t2=20//c\n",
"t3=150//c\n",
"t4=90//c\n",
"t=100//c\n",
"a=800//cal/kg\n",
"//calculations\n",
"h=m1*1000*(t1-t2)/1000\n",
"H=a*(t3-t)+540000+1000*(t-t4)\n",
"k=H/1000\n",
"x=h/k\n",
"//results\n",
"printf(' kg of steam required per hour= % 1f kg/hr',x)"
   ]
   }
,
{
		   "cell_type": "markdown",
		   "metadata": {},
		   "source": [
			"## Example 3.13: chapter_3_example_13.sce"
		   ]
		  },
  {
"cell_type": "code",
	   "execution_count": null,
	   "metadata": {
	    "collapsed": true
	   },
	   "outputs": [],
"source": [
"clc\n",
"//initialisation\n",
"p1=6//atm\n",
"p2=2//atm\n",
"ph=89//kg/m^3\n",
"v=30/1000//ml\n",
"t1=10//c\n",
"t3=31.5//c\n",
"T1=273+t1\n",
"t2=150//c\n",
"w1=0.210//kg\n",
"//calculations\n",
"m=(p1-p2)*273*ph*v/(T1*1000)\n",
"t4=(t1+t3)/2\n",
"h=m*(t2-t4)\n",
"H=w1*1000*4.18*(t3-t1)\n",
"c=H/h\n",
"//results\n",
"printf(' specific heat= % 1f j/kg*k',c)"
   ]
   }
,
{
		   "cell_type": "markdown",
		   "metadata": {},
		   "source": [
			"## Example 3.14: chapter_3_example_14.sce"
		   ]
		  },
  {
"cell_type": "code",
	   "execution_count": null,
	   "metadata": {
	    "collapsed": true
	   },
	   "outputs": [],
"source": [
"clc\n",
"//initialisations\n",
"po=101396.1\n",
"p=1.293\n",
"vo=1/p\n",
"t=273\n",
"cp=961.4\n",
"//calculations\n",
"R=po*vo/t\n",
"cv=cp-R\n",
"//results\n",
"printf(' specific heat at constant volume= % 1f',cv)"
   ]
   }
,
{
		   "cell_type": "markdown",
		   "metadata": {},
		   "source": [
			"## Example 3.15: chapter_3_example_15.sce"
		   ]
		  },
  {
"cell_type": "code",
	   "execution_count": null,
	   "metadata": {
	    "collapsed": true
	   },
	   "outputs": [],
"source": [
"clc\n",
"//initialisations\n",
"m=5//kg\n",
"m1=2.09*10^8\n",
"val=10^7//cal/kg\n",
"p=0.12\n",
"//calculations\n",
"w=p*m1/(60*60)\n",
"H=w/746\n",
"//results\n",
"printf(' average horse power= % 1f',H)"
   ]
   }
,
{
		   "cell_type": "markdown",
		   "metadata": {},
		   "source": [
			"## Example 3.16: chapter_3_example_16.sce"
		   ]
		  },
  {
"cell_type": "code",
	   "execution_count": null,
	   "metadata": {
	    "collapsed": true
	   },
	   "outputs": [],
"source": [
"clc\n",
"//initialisations\n",
"po=101396.16//N/m^2\n",
"vo=22.4//l\n",
"t=273\n",
"m=4*1000//gm\n",
"//calculations\n",
"R=po*vo/t\n",
"c=R/m\n",
"//results\n",
"printf(' pressure of the gas= % 1f j',c)"
   ]
   }
,
{
		   "cell_type": "markdown",
		   "metadata": {},
		   "source": [
			"## Example 3.17: chapter_3_example_17.sce"
		   ]
		  },
  {
"cell_type": "code",
	   "execution_count": null,
	   "metadata": {
	    "collapsed": true
	   },
	   "outputs": [],
"source": [
"clc\n",
"//initialisation\n",
"p1=1\n",
"p2=0.8\n",
"t1=25//c\n",
"t2=10//c\n",
"p=0.4\n",
"t3=61//c\n",
"t4=12//c\n",
"//calculations\n",
"p1=p*(t3-t4)\n",
"m=(t1-t2)\n",
"c=m/p1\n",
"//results\n",
"printf(' specific heat of liquid= % 1f cal/gm*c',c)"
   ]
   }
,
{
		   "cell_type": "markdown",
		   "metadata": {},
		   "source": [
			"## Example 3.19: chapter_3_example_19.sce"
		   ]
		  },
  {
"cell_type": "code",
	   "execution_count": null,
	   "metadata": {
	    "collapsed": true
	   },
	   "outputs": [],
"source": [
"clc\n",
"//initialisation\n",
"p16=80//cm\n",
"v16=432//cc\n",
"t=273//k\n",
"po=76//cm\n",
"t=16//c\n",
"t16=273+t//k\n",
"T=273//k\n",
"poxy=0.0014\n",
"cfe=0.09\n",
"t1=15//c\n",
"t2=184//c\n",
"m1=2//gm\n",
"//calculations\n",
"v0=(p16*v16*T)/(po*t16)\n",
"m=poxy*v0\n",
"h=m1*cfe*(t1+t2)\n",
"l=h/m\n",
"//results\n",
"printf(' latent heat= % 1f cal',l)"
   ]
   }
,
{
		   "cell_type": "markdown",
		   "metadata": {},
		   "source": [
			"## Example 3.2: chapter_3_example_2.sce"
		   ]
		  },
  {
"cell_type": "code",
	   "execution_count": null,
	   "metadata": {
	    "collapsed": true
	   },
	   "outputs": [],
"source": [
"clc\n",
"//initialisation of variables\n",
"cag=56\n",
"cpb=31\n",
"cal=220\n",
"//CALCULATIONS\n",
"mag=1000/cag\n",
"mpb=1000/cpb\n",
"mal=1000/cal\n",
"//results\n",
"printf(' mass of silver= % 1f kg',mag)\n",
"printf(' mass of lead= % 1f kg',mpb)\n",
"printf(' mass of aluminium= % 1f kg',mal)"
   ]
   }
,
{
		   "cell_type": "markdown",
		   "metadata": {},
		   "source": [
			"## Example 3.3: chapter_3_example_3.sce"
		   ]
		  },
  {
"cell_type": "code",
	   "execution_count": null,
	   "metadata": {
	    "collapsed": true
	   },
	   "outputs": [],
"source": [
"clc\n",
"//initialisations\n",
"m1=0.5//kg\n",
"m2=0.09//kg\n",
"t1=19//c\n",
"t2=15//c\n",
"t3=38//c\n",
"t4=50//c\n",
"s=1000\n",
"//CALCULATIONS\n",
"A=[4000 -15.5; 23000 11.5]\n",
"b=[-360;1080]\n",
"c=A\b\n",
"R1=c(1,1)\n",
"R2=c(2,1)\n",
"//results\n",
"printf(' water equivalent of mercury= % 1f kg',R1)\n",
"printf(' \n specific heat of mercury= % 1f c /kg/c',R2)"
   ]
   }
,
{
		   "cell_type": "markdown",
		   "metadata": {},
		   "source": [
			"## Example 3.4: chapter_3_example_4.sce"
		   ]
		  },
  {
"cell_type": "code",
	   "execution_count": null,
	   "metadata": {
	    "collapsed": true
	   },
	   "outputs": [],
"source": [
"clc\n",
"//initialisation of variables\n",
"c=10^6//calories\n",
"tw=100//sec\n",
"ta=74//sec\n",
"dw=1000//kg/m^3\n",
"da=800//Kg/m^3\n",
"t2=50//c\n",
"t1=40//c\n",
"//CALCULATIONS\n",
"hw=((dw*1000*10)+(c*(t2-t1)))\n",
"rw=hw/tw\n",
"C=(((rw*ta)/(t2-t1))-c)/da\n",
"printf(' specific heat of alcohol= % 1f calories/kg',C)"
   ]
   }
,
{
		   "cell_type": "markdown",
		   "metadata": {},
		   "source": [
			"## Example 3.5: chapter_3_example_5.sce"
		   ]
		  },
  {
"cell_type": "code",
	   "execution_count": null,
	   "metadata": {
	    "collapsed": true
	   },
	   "outputs": [],
"source": [
"clc\n",
"//initialisation of variables\n",
"mc=0.1//kg\n",
"vl1=150//cc\n",
"vl2=150//cc\n",
"hl1=600\n",
"gl1=1200\n",
"hl2=400\n",
"gl2=900\n",
"t1=50//c\n",
"t2=40//c\n",
"sc=100\n",
"r1=2\n",
"//CALCULATIIONS\n",
"m1=vl1*gl1/(10^6)\n",
"rc1=(m1*hl1+mc*sc)*r1\n",
"k= -rc1/t1\n",
"m2=vl2*gl2/(10^6)\n",
"b=(m2*hl2+mc*sc)\n",
"j=-k*t2\n",
"//results\n",
"printf(' rate of cooling= % 1f cal/min',j)"
   ]
   }
,
{
		   "cell_type": "markdown",
		   "metadata": {},
		   "source": [
			"## Example 3.6: chapter_3_example_6.sce"
		   ]
		  },
  {
"cell_type": "code",
	   "execution_count": null,
	   "metadata": {
	    "collapsed": true
	   },
	   "outputs": [],
"source": [
"clc\n",
"//initialistions\n",
"t1=80//c\n",
"t2=50//c\n",
"t3=60//c\n",
"t4=30//c\n",
"t=20\n",
"e=5\n",
"//CALCULATIONS\n",
"k=2.3026*log((t1-t)/(t2-t))/e\n",
"T=2.3026*log((t3-t)/(t4-t))/k\n",
"//results\n",
"printf(' time it will take = % 1f min',T)"
   ]
   }
,
{
		   "cell_type": "markdown",
		   "metadata": {},
		   "source": [
			"## Example 3.7: chapter_3_example_7.sce"
		   ]
		  },
  {
"cell_type": "code",
	   "execution_count": null,
	   "metadata": {
	    "collapsed": true
	   },
	   "outputs": [],
"source": [
"clc\n",
"//initialisation of variables\n",
"e=1.586//v\n",
"i=0.1444//amp\n",
"t=4*60//sec\n",
"m=0.3963//kg\n",
"T=1.219//k\n",
"wt=206.4\n",
"//CALCULATIONS\n",
"hg=e*i*t\n",
"c=hg/(m*T*4.18)\n",
"a=c*wt\n",
"printf(' atomic heat of lead= % 1f 1/k',a)"
   ]
   }
,
{
		   "cell_type": "markdown",
		   "metadata": {},
		   "source": [
			"## Example 3.8: chapter_3_example_8.sce"
		   ]
		  },
  {
"cell_type": "code",
	   "execution_count": null,
	   "metadata": {
	    "collapsed": true
	   },
	   "outputs": [],
"source": [
"clc\n",
"//initialisation if variables\n",
"m=1*10^-4//kg\n",
"v=0.0005//m^3\n",
"l=22.57*10^5//j\n",
"t1=15//c\n",
"p=6//kg/m^3\n",
"//calculations\n",
"H=m*l\n",
"h=v*p*(100-t1)*4.18\n",
"c=H/h\n",
"//results\n",
"printf(' specific heat of gas at constant volume= % 1f j',c)"
   ]
   }
,
{
		   "cell_type": "markdown",
		   "metadata": {},
		   "source": [
			"## Example 3.9: chapter_3_example_9.sce"
		   ]
		  },
  {
"cell_type": "code",
	   "execution_count": null,
	   "metadata": {
	    "collapsed": true
	   },
	   "outputs": [],
"source": [
"clc\n",
"//initialisations\n",
"j1=21*10^5//j\n",
"j2=3.36*10^5//j\n",
"//calculations\n",
"x=j1*100/(j1+j2)\n",
"//results\n",
"printf(' percentage of water present will be frozen= % 1f',x)"
   ]
   }
],
"metadata": {
		  "kernelspec": {
		   "display_name": "Scilab",
		   "language": "scilab",
		   "name": "scilab"
		  },
		  "language_info": {
		   "file_extension": ".sce",
		   "help_links": [
			{
			 "text": "MetaKernel Magics",
			 "url": "https://github.com/calysto/metakernel/blob/master/metakernel/magics/README.md"
			}
		   ],
		   "mimetype": "text/x-octave",
		   "name": "scilab",
		   "version": "0.7.1"
		  }
		 },
		 "nbformat": 4,
		 "nbformat_minor": 0
}
