{
"cells": [
 {
		   "cell_type": "markdown",
	   "metadata": {},
	   "source": [
       "# Chapter 15: elements of statistical mechanics"
	   ]
	},
{
		   "cell_type": "markdown",
		   "metadata": {},
		   "source": [
			"## Example 15.10: chapter_15_example_10.sce"
		   ]
		  },
  {
"cell_type": "code",
	   "execution_count": null,
	   "metadata": {
	    "collapsed": true
	   },
	   "outputs": [],
"source": [
"clc\n",
"//initialisation\n",
"t1=301//k\n",
"t2=300//k\n",
"f=5*(10^30)\n",
"fa=f/2\n",
"//CALCULATIONS\n",
"r=t1/t2\n",
"i=r^fa\n",
"//results\n",
"printf(' \sigma(E) increases by a factor r^fa ')\n",
"printf(' \n r= % 1f ',r)\n",
"printf(' \n fa= % 1f ',fa)"
   ]
   }
,
{
		   "cell_type": "markdown",
		   "metadata": {},
		   "source": [
			"## Example 15.11: chapter_15_example_11.sce"
		   ]
		  },
  {
"cell_type": "code",
	   "execution_count": null,
	   "metadata": {
	    "collapsed": true
	   },
	   "outputs": [],
"source": [
"clc\n",
"//initialisation\n",
"de=5.52*10^-21//j\n",
"k=1.38*10^-23\n",
"//CALCULATIONS\n",
"t=de/(2*k)\n",
"//results\n",
"printf(' \n temperature of system= % 1f k',t)"
   ]
   }
,
{
		   "cell_type": "markdown",
		   "metadata": {},
		   "source": [
			"## Example 15.14: chapter_15_example_14.sce"
		   ]
		  },
  {
"cell_type": "code",
	   "execution_count": null,
	   "metadata": {
	    "collapsed": true
	   },
	   "outputs": [],
"source": [
"clc\n",
"//initialisation\n",
"p=0.76*9.81*13600\n",
"dv=10^-5//m3\n",
"k=1.38*10^-23\n",
"t=300//k\n",
"//CALCULATIONS\n",
"r=(p*dv)/(k*t)\n",
"//results\n",
"printf(' \n factor by which number of accessible states increases is exp(r) ')\n",
"printf(' \n r= % 1e ',r)"
   ]
   }
,
{
		   "cell_type": "markdown",
		   "metadata": {},
		   "source": [
			"## Example 15.1: chapter_15_example_1.sce"
		   ]
		  },
  {
"cell_type": "code",
	   "execution_count": null,
	   "metadata": {
	    "collapsed": true
	   },
	   "outputs": [],
"source": [
"clc\n",
"//initialisations\n",
"c=8\n",
"h=3\n",
"t=5\n",
"//CALCULATIONS\n",
"a=factorial(8)/(factorial(3)*factorial(5)*2^8)\n",
"//results\n",
"printf(' \n probability of 3 heads and 5 tails= % 1f ',a)"
   ]
   }
,
{
		   "cell_type": "markdown",
		   "metadata": {},
		   "source": [
			"## Example 15.2: chapter_15_example_2.sce"
		   ]
		  },
  {
"cell_type": "code",
	   "execution_count": null,
	   "metadata": {
	    "collapsed": true
	   },
	   "outputs": [],
"source": [
"clc\n",
"//initialisation\n",
"n=5\n",
"h=2\n",
"p=1/6\n",
"//CALCULATIONS\n",
"t=1-p\n",
"a=((factorial(n))/(factorial(h)*factorial(n-h)))*(p^h)*(t^(n-h))\n",
"//results\n",
"printf(' \n probability of apperance of 4 in two dices= % 1f ',a)"
   ]
   }
,
{
		   "cell_type": "markdown",
		   "metadata": {},
		   "source": [
			"## Example 15.3: chapter_15_example_3.sce"
		   ]
		  },
  {
"cell_type": "code",
	   "execution_count": null,
	   "metadata": {
	    "collapsed": true
	   },
	   "outputs": [],
"source": [
"clc\n",
"//initialisation\n",
"n=12\n",
"p=2\n",
"//CALCULATIONS\n",
"t=n/p\n",
"a=factorial(n)/(factorial(t)*factorial(n-t)*p^n)\n",
"//results\n",
"printf(' \n probability= % 1f ',a)"
   ]
   }
,
{
		   "cell_type": "markdown",
		   "metadata": {},
		   "source": [
			"## Example 15.4: chapter_15_example_4.sce"
		   ]
		  },
  {
"cell_type": "code",
	   "execution_count": null,
	   "metadata": {
	    "collapsed": true
	   },
	   "outputs": [],
"source": [
"clc\n",
"//initialisation\n",
"n=10\n",
"a=0.6\n",
"h=0\n",
"//CALCULATIONS\n",
"b=1-a\n",
"p=factorial(n)*a^10/(factorial(n-h)*factorial(h))\n",
"//results\n",
"printf(' \n probability of heads occurence= % 1f ',a*10)\n",
"printf(' \n probability of occuring head only in 10 throws= % 1f ',p)"
   ]
   }
,
{
		   "cell_type": "markdown",
		   "metadata": {},
		   "source": [
			"## Example 15.5: chapter_15_example_5.sce"
		   ]
		  },
  {
"cell_type": "code",
	   "execution_count": null,
	   "metadata": {
	    "collapsed": true
	   },
	   "outputs": [],
"source": [
"clc\n",
"//initialisation\n",
"n=400\n",
"a1=300\n",
"b1=100\n",
"a2=200\n",
"b2=200\n",
"r=2\n",
"//CALCULATIONS\n",
"p1=factorial(n)/(factorial(a1)*factorial(b1)*r^n)\n",
"p2=factorial(n)/(factorial(a2)*factorial(b2)*r^n)\n",
"w=p1/p2\n",
"//results\n",
"printf(' \n ratio of probabilities= % 1e ',w)"
   ]
   }
,
{
		   "cell_type": "markdown",
		   "metadata": {},
		   "source": [
			"## Example 15.6: chapter_15_example_6.sce"
		   ]
		  },
  {
"cell_type": "code",
	   "execution_count": null,
	   "metadata": {
	    "collapsed": true
	   },
	   "outputs": [],
"source": [
"clc\n",
"//initialisation\n",
"a1=2\n",
"a2=6\n",
"a3=16\n",
"a4=2\n",
"b1=1\n",
"b2=3\n",
"b3=4\n",
"b4=7\n",
"//CALCULATIONS\n",
"a=a1+a2+a3+a4\n",
"x=a1*b1+a2*b2+a3*b3+a4*b4\n",
"p2=a1/a\n",
"p6=a2/a\n",
"p16=a3/a\n",
"d=x/a\n",
"//results\n",
"printf(' \n probability of state 2= % 1f ',p2)\n",
"printf(' \n probability of state 6= % 1f ',p6)\n",
"printf(' \n probability of state 16= % 1f ',p16)\n",
"printf(' \n value of <x>= % 1f ',d)"
   ]
   }
,
{
		   "cell_type": "markdown",
		   "metadata": {},
		   "source": [
			"## Example 15.9: chapter_15_example_9.sce"
		   ]
		  },
  {
"cell_type": "code",
	   "execution_count": null,
	   "metadata": {
	    "collapsed": true
	   },
	   "outputs": [],
"source": [
"clc\n",
"//initialisation\n",
"dx=10^-11//m\n",
"c=10^7//m/sec\n",
"h=6.6*10^-34\n",
"//CALCULATIONS\n",
"dp=(9.1*10^-31*c)\n",
"n=(2*dx*dp*100)/h\n",
"//results\n",
"printf(' \n number of quantum states available= % 1f ',n)"
   ]
   }
],
"metadata": {
		  "kernelspec": {
		   "display_name": "Scilab",
		   "language": "scilab",
		   "name": "scilab"
		  },
		  "language_info": {
		   "file_extension": ".sce",
		   "help_links": [
			{
			 "text": "MetaKernel Magics",
			 "url": "https://github.com/calysto/metakernel/blob/master/metakernel/magics/README.md"
			}
		   ],
		   "mimetype": "text/x-octave",
		   "name": "scilab",
		   "version": "0.7.1"
		  }
		 },
		 "nbformat": 4,
		 "nbformat_minor": 0
}
