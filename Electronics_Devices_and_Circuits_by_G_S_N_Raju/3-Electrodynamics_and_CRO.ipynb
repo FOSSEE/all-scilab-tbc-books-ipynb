{
"cells": [
 {
		   "cell_type": "markdown",
	   "metadata": {},
	   "source": [
       "# Chapter 3: Electrodynamics and CRO"
	   ]
	},
{
		   "cell_type": "markdown",
		   "metadata": {},
		   "source": [
			"## Example 3.10: Deflection_Sensitivity.sce"
		   ]
		  },
  {
"cell_type": "code",
	   "execution_count": null,
	   "metadata": {
	    "collapsed": true
	   },
	   "outputs": [],
"source": [
"//Ex3_10\n",
"clc\n",
"l = .03\n",
"d = 0.01\n",
"L = 0.18\n",
"Va = 1000\n",
"disp('l = '+string(l)+'m')//lenght of deflection plate\n",
"disp('d = '+string(d)+'m')//plate separation\n",
"disp('L = '+string(L)+'m')//distance of screen from plate\n",
"disp('Va = '+string(Va)+'V')//anode voltage\n",
"SE = (l*L)/(2*d*Va)\n",
"disp('SE = (l*L)/(2*d*Va) = '+string(SE)+'m/V')"
   ]
   }
,
{
		   "cell_type": "markdown",
		   "metadata": {},
		   "source": [
			"## Example 3.11: force_on_current_element.sce"
		   ]
		  },
  {
"cell_type": "code",
	   "execution_count": null,
	   "metadata": {
	    "collapsed": true
	   },
	   "outputs": [],
"source": [
"//Ex3_11\n",
"clc\n",
"disp('fm = BIL')//formula used for finding FORCE ON CURRENT ELEMENT\n",
"B = 2.0\n",
"IL = 10*10^-3\n",
"fm = B*IL\n",
"disp('B = '+string(B)+'Wb/m-sq')//magnetic field\n",
"disp('IL = '+string(IL)+'A-m')//current element\n",
"disp('fm ='+string(fm)+'Newton')//answer displayed"
   ]
   }
,
{
		   "cell_type": "markdown",
		   "metadata": {},
		   "source": [
			"## Example 3.12: Velocity_of_electron_and_kinetic_energy.sce"
		   ]
		  },
  {
"cell_type": "code",
	   "execution_count": null,
	   "metadata": {
	    "collapsed": true
	   },
	   "outputs": [],
"source": [
"//Ex3_12\n",
"clc\n",
"disp('v = (2*e*Va/m)^.5')//formula used to calculate velocity of electrons\n",
"e = -1.6*10^-19\n",
"m = 9.1*10^-31\n",
"Va = 3.0*10^3\n",
"disp('e = '+string(e)+'C')//electron charge\n",
"disp('m = '+string(m)+'Kg')//mass of electron\n",
"disp('Va = '+string(Va)+'V')//potential difference = anode voltage\n",
"v = abs((2*e*Va/m))^.5\n",
"disp('v = '+string(v)+'m/s')\n",
"W = e*Va//kinetic energy\n",
"disp('W = e*Va = '+string(W)+'joules')//Kinetic energy"
   ]
   }
,
{
		   "cell_type": "markdown",
		   "metadata": {},
		   "source": [
			"## Example 3.13: Deflection_of_electron_beam.sce"
		   ]
		  },
  {
"cell_type": "code",
	   "execution_count": null,
	   "metadata": {
	    "collapsed": true
	   },
	   "outputs": [],
"source": [
"//Ex3_13\n",
"clc\n",
"e = -1.6*10^-19\n",
"m = 9.1*10^-31\n",
"Va = 400\n",
"v = (abs(2*e*Va/m))^.5\n",
"disp('e = '+string(e)+'C')//electron charge\n",
"disp('m = '+string(m)+'Kg')//mass of electron\n",
"disp('Va = '+string(Va)+'V')//anode voltage\n",
"disp('v = (2*e*Va/m)^.5 = '+string(v)+'m/s')//formula used to calculate velocity of electrons\n",
"//as electron traces a circular path, radius of circular path\n",
"H = 47.75\n",
"micro_not = 4*%pi*10^-7\n",
"B = H*micro_not\n",
"disp('B = '+string(B)+'Wb/m-sq')\n",
"r = (v/(e/m)/B)\n",
"disp('r = (v/(e/m))/B = '+string(r)+'m')\n",
"\n",
"//  NOTE : Question is incompletely solved in the textbook"
   ]
   }
,
{
		   "cell_type": "markdown",
		   "metadata": {},
		   "source": [
			"## Example 3.14: Deflection_sensitivity.sce"
		   ]
		  },
  {
"cell_type": "code",
	   "execution_count": null,
	   "metadata": {
	    "collapsed": true
	   },
	   "outputs": [],
"source": [
"//Ex3_14\n",
"clc\n",
"l = 22\n",
"d = 1.5\n",
"Va = 625\n",
"e = 1.6*10^-19\n",
"m = 9.1*10^-31\n",
"disp('l = '+string(l)+'cm')//distance from location of magnetic field\n",
"disp('d = '+string(d)+'cm')//length over which magnetic field is present\n",
"disp('Va = '+string(Va)+'V')//voltage applied to anode\n",
"disp('e = '+string(e)+'C')//electron charge\n",
"disp('m = '+string(m)+'Kg')//mass of electron\n",
"SH = l*10^-2*d*10^-2*(e/(2*m*Va))^.5\n",
"disp('SH = D/B = l*d*(e/(2*m*Va))^.5 = '+string(SH)+'m/tesla')//magnetic deflection sensitivity in terms of meter and tesla\n",
"// as B = micro_not*H\n",
"micro_not = 4*%pi*10^-7\n",
"disp('SH = D/H = micro_not*l*d*(e/(2*m*Va))^.5 = '+string(SH*micro_not)+'m-sq/Amp.')//magnetic deflection sensitivity in terms of meter and amperes"
   ]
   }
,
{
		   "cell_type": "markdown",
		   "metadata": {},
		   "source": [
			"## Example 3.15: Electric_field_and_velocity_and_deflection_sensitivity.sce"
		   ]
		  },
  {
"cell_type": "code",
	   "execution_count": null,
	   "metadata": {
	    "collapsed": true
	   },
	   "outputs": [],
"source": [
"//Ex3_15\n",
"clc\n",
"Vd = 50\n",
"d = 1\n",
"disp('(a)')\n",
"disp('Vd = '+string(Vd)+'V')//voltage applied to deflection plates\n",
"disp('d = '+string(d)+'cm')//plate separation\n",
"E = Vd/d/10^-2\n",
"disp('E = Vd/d = '+string(E)+'V/m')//electric field produced\n",
"\n",
"disp('(b)')\n",
"e = -1.6*10^-19\n",
"m = 9.1*10^-31\n",
"Va = 500\n",
"v = abs((2*e*Va/m))^.5\n",
"disp('v = (2*e*Va/m)^.5')// formula for Velocity OF Electron\n",
"disp('e = '+string(e)+'C')//electron charge\n",
"disp('m = '+string(m)+'Kg')//mass of electron\n",
"disp('Va = '+string(Va)+'V')//voltage applied at anode\n",
"disp('v = '+string(v)+'m/s')\n",
"\n",
"disp('(c)')\n",
"l = 2\n",
"L = 30\n",
"Va = 500\n",
"SE = l*L/2/Va/d*10\n",
"disp('l = '+string(l)+'cm')//length of deflection plate\n",
"disp('L = '+string(L)+'cm')//distance between plates and screen\n",
"disp('d = '+string(d)+'cm')//plate separation\n",
"disp('Va = '+string(Va)+'V')//anode voltage\n",
"disp('SE = (l*L)/(2*Va*d) = '+string(SE)+'mm/volts')//Electrostatic deflection sensitivity"
   ]
   }
,
{
		   "cell_type": "markdown",
		   "metadata": {},
		   "source": [
			"## Example 3.16: Phase_difference_using_Lissajous_pattern.sce"
		   ]
		  },
  {
"cell_type": "code",
	   "execution_count": null,
	   "metadata": {
	    "collapsed": true
	   },
	   "outputs": [],
"source": [
"//Ex3_16\n",
"clc\n",
"//considering Lissajous pattern given in question\n",
"y1 = 0\n",
"y2 = 5\n",
"phi = asind(y1/y2)\n",
"disp('y1 = '+string(y1)+'cm')//minor axis\n",
"disp('y2 = '+string(y2)+'cm')//major axis\n",
"disp('phi = sin-1(y1/y2) = '+string(phi)+'degree')//phase difference"
   ]
   }
,
{
		   "cell_type": "markdown",
		   "metadata": {},
		   "source": [
			"## Example 3.17: Phase_difference_using_Lissajous_pattern.sce"
		   ]
		  },
  {
"cell_type": "code",
	   "execution_count": null,
	   "metadata": {
	    "collapsed": true
	   },
	   "outputs": [],
"source": [
"//Ex3_17\n",
"clc\n",
"//considering Lissajous pattern given in question\n",
"y1 = 4\n",
"y2 = 5\n",
"phi = asind(y1/y2)\n",
"disp('y1 = '+string(y1)+'unit')//minor axis\n",
"disp('y2 = '+string(y2)+'unit')//major axis\n",
"disp('phi = sin-1(y1/y2) = '+string(phi)+'degree')//phase difference"
   ]
   }
,
{
		   "cell_type": "markdown",
		   "metadata": {},
		   "source": [
			"## Example 3.18: Phase_difference_using_Lissajous_pattern.sce"
		   ]
		  },
  {
"cell_type": "code",
	   "execution_count": null,
	   "metadata": {
	    "collapsed": true
	   },
	   "outputs": [],
"source": [
"//Ex3_16\n",
"clc\n",
"//considering Lissajous pattern given in question\n",
"y1 = 4\n",
"y2 = 4\n",
"phi = asind(y1/y2)\n",
"disp('y1 = '+string(y1)+'cm')//minor axis\n",
"disp('y2 = '+string(y2)+'cm')//major axis\n",
"disp('phi = sin-1(y1/y2) = '+string(phi)+'degree')//phase difference"
   ]
   }
,
{
		   "cell_type": "markdown",
		   "metadata": {},
		   "source": [
			"## Example 3.19: Phase_difference_using_Lissajous_pattern.sce"
		   ]
		  },
  {
"cell_type": "code",
	   "execution_count": null,
	   "metadata": {
	    "collapsed": true
	   },
	   "outputs": [],
"source": [
"//Ex3_16\n",
"clc\n",
"//considering Lissajous pattern given in question\n",
"y1 = 2\n",
"y2 = 6\n",
"phi = asind(y1/y2)\n",
"disp('y1 = '+string(y1)+'cm')//minor axis\n",
"disp('y2 = '+string(y2)+'cm')//major axis\n",
"disp('phi = sin-1(y1/y2) = '+string(phi)+'degree')//phase difference\n",
"disp('OR')\n",
"phi = 180 - phi\n",
"disp('phi = '+string(phi)+'degree')"
   ]
   }
,
{
		   "cell_type": "markdown",
		   "metadata": {},
		   "source": [
			"## Example 3.1: Force_on_electron.sce"
		   ]
		  },
  {
"cell_type": "code",
	   "execution_count": null,
	   "metadata": {
	    "collapsed": true
	   },
	   "outputs": [],
"source": [
"//Ex3_1\n",
"clc\n",
"E = 20*10^3\n",
"e = -(1.6*10^-19)\n",
"F = e*E\n",
"disp('E = '+string(E)+'ax V/m')//initializing electic field\n",
"disp('e = '+string(e)+'C')//intializing electron charge\n",
"disp('F = eE = '+string(F)+'ax N')//calculation for force on electron due to electric field\n",
"\n",
"//  NOTE : answer provided in the textbook is wrong Correct answer is, -3.2*10^16ax N"
   ]
   }
,
{
		   "cell_type": "markdown",
		   "metadata": {},
		   "source": [
			"## Example 3.2: Force_on_electron.sce"
		   ]
		  },
  {
"cell_type": "code",
	   "execution_count": null,
	   "metadata": {
	    "collapsed": true
	   },
	   "outputs": [],
"source": [
"//Ex3_2\n",
"clc\n",
"E = 50*10^3\n",
"e = -1.6*10^-19\n",
"N = 10^6\n",
"F = N*e*E\n",
"disp('E = '+string(E)+'az V/m')//value of Electric field applied\n",
"disp('e = '+string(e)+'C')//value of eletron charge\n",
"disp('N = '+string(N))//total number of charge\n",
"disp('F = NeE = '+string(F)+'az N')//force on electron"
   ]
   }
,
{
		   "cell_type": "markdown",
		   "metadata": {},
		   "source": [
			"## Example 3.3: Force_on_electron.sce"
		   ]
		  },
  {
"cell_type": "code",
	   "execution_count": null,
	   "metadata": {
	    "collapsed": true
	   },
	   "outputs": [],
"source": [
"//Ex3_3\n",
"clc\n",
"v = 5*10^6\n",
"e = -1.6*10^-19\n",
"B = 20*10^-6\n",
"F = e*v*B\n",
"disp('v = '+string(v)+'m/s')//velocity of electron\n",
"disp('e = '+string(e)+'C')//charge of electron\n",
"disp('B = '+string(B)+'Wb/m-sq')//magnetic field\n",
"disp('F = e(VxB) = e*v*B = '+string(F)+'N')//force on the electron due to field\n",
"\n",
""
   ]
   }
,
{
		   "cell_type": "markdown",
		   "metadata": {},
		   "source": [
			"## Example 3.4: Force_on_electron.sce"
		   ]
		  },
  {
"cell_type": "code",
	   "execution_count": null,
	   "metadata": {
	    "collapsed": true
	   },
	   "outputs": [],
"source": [
"//Ex3_4\n",
"clc\n",
"Bx = 40*10^-6\n",
"By = 10*10^-6\n",
"N = 10^6\n",
"e = -1.6*10^-19\n",
"v = 8*10^6\n",
"disp('B = '+string(Bx)+'ax + '+string(By)+'ay Wb/m-sq')//magnetic field\n",
"disp('N = '+string(N))//number of electrons\n",
"disp('e = '+string(e)+'C')//electron charge\n",
"disp('v = '+string(v)+'ax m/s')//velocity of electron\n",
"disp('F = Q(VxB) = '+string(e*N*v*By)+' az N')//force on electron\n",
"//as we are taking curl of V and B,.. thus Vx X Bx = 0\n",
"//force will be only due to V x By."
   ]
   }
,
{
		   "cell_type": "markdown",
		   "metadata": {},
		   "source": [
			"## Example 3.5: Current_density.sce"
		   ]
		  },
  {
"cell_type": "code",
	   "execution_count": null,
	   "metadata": {
	    "collapsed": true
	   },
	   "outputs": [],
"source": [
"//Ex3_5\n",
"clc\n",
"e = -1.6*10^-19\n",
"n = 10^6\n",
"v = 5*10^6\n",
"J = n*e*v\n",
"disp('e = '+string(e)+'C')//charge of electrons\n",
"disp('n = '+string(n)+' /m-cube')//electron density\n",
"disp('v = '+string(v)+'m/s')//electron velocity\n",
"disp('J = nev = '+string(abs(J))+'A/m-sq')//current density"
   ]
   }
,
{
		   "cell_type": "markdown",
		   "metadata": {},
		   "source": [
			"## Example 3.6: Current_density.sce"
		   ]
		  },
  {
"cell_type": "code",
	   "execution_count": null,
	   "metadata": {
	    "collapsed": true
	   },
	   "outputs": [],
"source": [
"//Ex3_6\n",
"clc\n",
"v = 2*10^7\n",
"e = -1.6*10^-19\n",
"n = 10^8\n",
"J = n*e*v\n",
"disp('v = '+string(v)+'m/s')//velocity of electron\n",
"disp('e = '+string(e)+'C')//electron charge\n",
"disp('n = '+string(n)+' /m-cube')//electron density\n",
"disp('J = nev = '+string(abs(J))+'A/m-sq')//current density\n",
"\n",
"//note: formula for current density in the solution in the textbook is misprinted \n",
"//      also the answer is provide in the textbook for above problem is misprinted."
   ]
   }
,
{
		   "cell_type": "markdown",
		   "metadata": {},
		   "source": [
			"## Example 3.7: Frequeny_of_Signal.sce"
		   ]
		  },
  {
"cell_type": "code",
	   "execution_count": null,
	   "metadata": {
	    "collapsed": true
	   },
	   "outputs": [],
"source": [
"//Ex3_7\n",
"clc\n",
"l = 4//cycle length\n",
"t = 10*10^-6//scale setting\n",
"T = l*t//time period for full cycle\n",
"disp('T = '+string(T)+' s')\n",
"disp('Frequency = 1/T = '+string(1/T)+'Hz')//frequency of the signal"
   ]
   }
,
{
		   "cell_type": "markdown",
		   "metadata": {},
		   "source": [
			"## Example 3.8: RMS_voltage.sce"
		   ]
		  },
  {
"cell_type": "code",
	   "execution_count": null,
	   "metadata": {
	    "collapsed": true
	   },
	   "outputs": [],
"source": [
"//Ex3_8\n",
"clc\n",
"Vpp = 4.2*10*10^-3//peak to peak voltage of sinusoidal signal  //notation not used in textbook\n",
"Vm = Vpp/2//maximum positive voltage\n",
"Vrms = Vm/(2^.5)//root mean square value of voltage\n",
"disp('Vm = '+string(Vm)+'V')\n",
"disp('Vrms = Vm/(2^.5) = '+string(Vrms)+'V')"
   ]
   }
,
{
		   "cell_type": "markdown",
		   "metadata": {},
		   "source": [
			"## Example 3.9: Current_in_100_ohm_resistance.sce"
		   ]
		  },
  {
"cell_type": "code",
	   "execution_count": null,
	   "metadata": {
	    "collapsed": true
	   },
	   "outputs": [],
"source": [
"//Ex3_9\n",
"clc\n",
"V = 4.5*10^-3//applied dc voltage\n",
"r = 100// given resistance\n",
"I = V/r//flow of current\n",
"disp('DC voltage = '+string(V)+'V')\n",
"disp('The current in 100 ohm = '+string(I)+'A')"
   ]
   }
],
"metadata": {
		  "kernelspec": {
		   "display_name": "Scilab",
		   "language": "scilab",
		   "name": "scilab"
		  },
		  "language_info": {
		   "file_extension": ".sce",
		   "help_links": [
			{
			 "text": "MetaKernel Magics",
			 "url": "https://github.com/calysto/metakernel/blob/master/metakernel/magics/README.md"
			}
		   ],
		   "mimetype": "text/x-octave",
		   "name": "scilab",
		   "version": "0.7.1"
		  }
		 },
		 "nbformat": 4,
		 "nbformat_minor": 0
}
