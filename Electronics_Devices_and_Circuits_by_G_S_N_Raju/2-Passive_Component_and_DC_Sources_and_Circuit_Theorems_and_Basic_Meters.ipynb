{
"cells": [
 {
		   "cell_type": "markdown",
	   "metadata": {},
	   "source": [
       "# Chapter 2: Passive Component and DC Sources and Circuit Theorems and Basic Meters"
	   ]
	},
{
		   "cell_type": "markdown",
		   "metadata": {},
		   "source": [
			"## Example 2.10: Energy_Stored_in_Capacitor.sce"
		   ]
		  },
  {
"cell_type": "code",
	   "execution_count": null,
	   "metadata": {
	    "collapsed": true
	   },
	   "outputs": [],
"source": [
"//Ex2_10\n",
"clc\n",
"C = 10*10^-6\n",
"V = 100\n",
"W = C*(V^2)/2\n",
"disp('C = '+string(C)+'F')//capacitance\n",
"disp('V = '+string(V)+'V')//voltage\n",
"disp('W = C*(V^2)/2 = '+string(W)+'Joules')//calculating for energy stored"
   ]
   }
,
{
		   "cell_type": "markdown",
		   "metadata": {},
		   "source": [
			"## Example 2.11: Instantanous_Current_in_capacitor.sce"
		   ]
		  },
  {
"cell_type": "code",
	   "execution_count": null,
	   "metadata": {
	    "collapsed": true
	   },
	   "outputs": [],
"source": [
"//Ex2_11\n",
"clc\n",
"C = 10*10^-6\n",
"delta_V = 100\n",
"delta_t = 10\n",
"ic = C*delta_V/delta_t\n",
"disp('C = '+string(C)+'F')//capacitance\n",
"disp('delta_V = '+string(delta_V)+'V')//change in voltage\n",
"disp('delta_t = '+string(delta_t)+'sec')//change in time\n",
"disp('ic = C*(delta delta_V/delta_t) = '+string(ic)+'A')//calculation for instantaneous current"
   ]
   }
,
{
		   "cell_type": "markdown",
		   "metadata": {},
		   "source": [
			"## Example 2.12: Rate_of_Current.sce"
		   ]
		  },
  {
"cell_type": "code",
	   "execution_count": null,
	   "metadata": {
	    "collapsed": true
	   },
	   "outputs": [],
"source": [
"//Ex2_12\n",
"clc\n",
"Ii = 10\n",
"If = 15\n",
"delta_t = 2\n",
"dI = Ii - If\n",
"disp('Ii = '+string(Ii)+'A')//initial current\n",
"disp('If = '+string(If)+'A')//final current\n",
"disp('delta_t = '+string(delta_t)+'sec')//time taken to change current\n",
"disp('dI/dt = '+string(abs(dI)/delta_t)+'Amp/sec.')//calculation for rate of change of current\n",
"//wronge answer given in the textbook i.e. 0.5 Amp/sec."
   ]
   }
,
{
		   "cell_type": "markdown",
		   "metadata": {},
		   "source": [
			"## Example 2.13: Inductance_Value.sce"
		   ]
		  },
  {
"cell_type": "code",
	   "execution_count": null,
	   "metadata": {
	    "collapsed": true
	   },
	   "outputs": [],
"source": [
"//Ex2_13\n",
"clc\n",
"r = 5.0//rate of current change\n",
"vL = 50//induced voltage\n",
"L = vL/(r)\n",
"disp('diL/dt = '+string(r)+'A/s')//rate of current change \n",
"disp('vL = '+string(vL)+'V')\n",
"disp('vL = L*(diL/dt)') \n",
"disp('L = vL/(diL/dt) = '+string(L)+' Henry')//calculation for inductane"
   ]
   }
,
{
		   "cell_type": "markdown",
		   "metadata": {},
		   "source": [
			"## Example 2.14: Energy_in_Inductor.sce"
		   ]
		  },
  {
"cell_type": "code",
	   "execution_count": null,
	   "metadata": {
	    "collapsed": true
	   },
	   "outputs": [],
"source": [
"//Ex2_14\n",
"clc\n",
"I = 5\n",
"L = 5\n",
"WL = L*(I^2)/2\n",
"disp('I = '+string(I)+'A')//current flow\n",
"disp('L = '+string(L)+'H')//inductance\n",
"disp('WL= '+string(WL)+'joules')//energy stored"
   ]
   }
,
{
		   "cell_type": "markdown",
		   "metadata": {},
		   "source": [
			"## Example 2.15: Coupling_Coefficient.sce"
		   ]
		  },
  {
"cell_type": "code",
	   "execution_count": null,
	   "metadata": {
	    "collapsed": true
	   },
	   "outputs": [],
"source": [
"//Ex2_15\n",
"clc\n",
"flux1 = 100*10^-6\n",
"flux2 = 50*10^-6\n",
"flux12 = flux1 - flux2\n",
"disp('flux1 = '+string(flux1)+'Wb')//flux of coil 1\n",
"disp('flux2 = '+string(flux2)+'Wb')//flux of coil 2\n",
"disp('K = flux linkage between coil 1 and coil 2/flux of coil 1')//coefficient of coupling\n",
"disp('  = '+string(flux12/flux1))"
   ]
   }
,
{
		   "cell_type": "markdown",
		   "metadata": {},
		   "source": [
			"## Example 2.16: Mutual_Inductance.sce"
		   ]
		  },
  {
"cell_type": "code",
	   "execution_count": null,
	   "metadata": {
	    "collapsed": true
	   },
	   "outputs": [],
"source": [
"//Ex2_16\n",
"clc\n",
"L1 = 100*10^-3\n",
"L2 = 50*10^-3\n",
"K = 0.3\n",
"M = K*(L1*L2)^0.5\n",
"disp('L1 = '+string(L1)+'H')//inductance of coil 1\n",
"disp('L2 = '+string(L2)+'H')//inductance of coil 2\n",
"disp('K = '+string(K))//coefficient of coupling\n",
"disp('M = K*(L1*L2)^0.5')\n",
"disp('M = '+string(M)+'H')//mutual inductance"
   ]
   }
,
{
		   "cell_type": "markdown",
		   "metadata": {},
		   "source": [
			"## Example 2.17: Series_Inductance.sce"
		   ]
		  },
  {
"cell_type": "code",
	   "execution_count": null,
	   "metadata": {
	    "collapsed": true
	   },
	   "outputs": [],
"source": [
"//Ex2_17\n",
"clc\n",
"L1 = 10*10^-3\n",
"L2 = 15*10^-3\n",
"LT = L1 + L2\n",
"disp('L1 = '+string(L1)+'H')//inductance of coil 1\n",
"disp('L2 = '+string(L2)+'H')//inductance of coil 2\n",
"disp('LT = L1+L2 = '+string(LT)+'H')//series inductance"
   ]
   }
,
{
		   "cell_type": "markdown",
		   "metadata": {},
		   "source": [
			"## Example 2.18: Parallel_Inductance.sce"
		   ]
		  },
  {
"cell_type": "code",
	   "execution_count": null,
	   "metadata": {
	    "collapsed": true
	   },
	   "outputs": [],
"source": [
"//Ex2_18\n",
"clc\n",
"L1 = 1*10^-3\n",
"L2 = 5*10^-3\n",
"LT = (L1*L2)/(L1+L2)\n",
"disp('L1 = '+string(L1)+'H')//inductance of coil 1\n",
"disp('L2 = '+string(L2)+'H')//inductance of coil 2\n",
"disp('1/LT = 1/L1 + 1/L2')\n",
"disp('LT = (L1*L2)/(L1+L2) = '+string(LT)+'H')//parallel inductance"
   ]
   }
,
{
		   "cell_type": "markdown",
		   "metadata": {},
		   "source": [
			"## Example 2.19: Source_Resistance.sce"
		   ]
		  },
  {
"cell_type": "code",
	   "execution_count": null,
	   "metadata": {
	    "collapsed": true
	   },
	   "outputs": [],
"source": [
"//Ex2_19\n",
"clc\n",
"VNL = 50\n",
"VL = 40\n",
"IL = 4\n",
"Rs = (VNL - VL)/IL\n",
"disp('VNL  = '+string(VNL)+'V')//no load voltage\n",
"disp('VL  = '+string(VL)+'V')//load voltage\n",
"disp('IL  = '+string(IL)+'A')//load current\n",
"disp('Rs = (VNL - VL)/IL = '+string(Rs)+'ohm')//source resistane"
   ]
   }
,
{
		   "cell_type": "markdown",
		   "metadata": {},
		   "source": [
			"## Example 2.1: Capacitance_of_capacitor.sce"
		   ]
		  },
  {
"cell_type": "code",
	   "execution_count": null,
	   "metadata": {
	    "collapsed": true
	   },
	   "outputs": [],
"source": [
"//Ex2_1\n",
"clc\n",
"Q = 2*10^-6; V = 10 \n",
"disp('Q = '+string(Q)+'C')// charge\n",
"disp('V = '+string(V)+'V') //voltage\n",
"disp('C = Q/V = '+string(Q/V)+'F')//calculation for capacitance"
   ]
   }
,
{
		   "cell_type": "markdown",
		   "metadata": {},
		   "source": [
			"## Example 2.20: Series_Voltage.sce"
		   ]
		  },
  {
"cell_type": "code",
	   "execution_count": null,
	   "metadata": {
	    "collapsed": true
	   },
	   "outputs": [],
"source": [
"//Ex2_20\n",
"clc\n",
"V = 2.5\n",
"disp('V1 = V2 = V3 = V4 = '+string(V)+'V')//four batteries of equal voltage connected in series\n",
"disp('VT = V1+V2+V3+V4 = '+string(V+V+V+V)+'V')//resultant voltage(series voltage)"
   ]
   }
,
{
		   "cell_type": "markdown",
		   "metadata": {},
		   "source": [
			"## Example 2.21: Net_Voltage.sce"
		   ]
		  },
  {
"cell_type": "code",
	   "execution_count": null,
	   "metadata": {
	    "collapsed": true
	   },
	   "outputs": [],
"source": [
"//Ex2_20\n",
"clc\n",
"V = 2\n",
"disp('V1 = V2 = V3 = V4 = '+string(V)+'V')//four batteries of equal voltage connected in series\n",
"disp('VT = V1 = V2 = V3 = V4 = '+string(V)+'V')//parallel voltage"
   ]
   }
,
{
		   "cell_type": "markdown",
		   "metadata": {},
		   "source": [
			"## Example 2.22: Thevenin_Equivalent_Circuit.sce"
		   ]
		  },
  {
"cell_type": "code",
	   "execution_count": null,
	   "metadata": {
	    "collapsed": true
	   },
	   "outputs": [],
"source": [
"//Ex2_22\n",
"clc\n",
"//considering the fig. 2.17 given in the question \n",
"R1 = 1\n",
"R2 = 3\n",
"R3 = 2\n",
"V = 20\n",
"disp('R1 ='+string(R1)+'ohm')//value of resitance R1\n",
"disp('R2 ='+string(R2)+'ohm')//value of resitance R2\n",
"disp('R3 ='+string(R3)+'ohm')//value of resitance R3(across A and B terminals, \n",
"                            //across which thevenin equivalate circuit is need to determine)\n",
"disp('V ='+string(V)+'V')//value of D.C. voltage applied\n",
"\n",
"//TO FIND THEVENIN'S RESISTANCE (RTH),.. \n",
"//CONSIDERING FIG 2.17\n",
"// WE REMOVE THE RESISTANCE (R1) ACROSS LOAD TERMINAL AB I.E. \n",
"//AND ALSO WE SHORT THE VOLTAGE SOURCE\n",
"//NOW ACCORDING TO MODIFIED CIRCUIT\n",
"\n",
"disp('1/RTH = 1/R3 + 1/R2 = '+string(1/((1/R3)+(1/R2)))+'ohm')//R1 and R2 are in parallel\n",
"\n",
"//TO FIND THEVENIN VOLTAGE (VTH),.. \n",
"//CONSIDERING FIG 2.17\n",
"//WE DISCONNECT LOAD RESISTANCE (R1) AND MADE  TERMINAL AB OPEN CIRCUIT\n",
"//ACCORDING TO MODIFIED CIRCUIT\n",
"\n",
"//applying KVL in the loop, to find the amount of current flowing in circuit\n",
"//taking current as 'I' amperes\n",
"\n",
"disp('V = (R3*I)+(R2*I)')\n",
"I = V/(R2+R3)\n",
"disp('or, I = V/(R2+R3) = '+string(I)+'amperes')\n",
"//Voltage drop across R2 resistance = Thevenin voltage\n",
"//thus, voltage across AB i.e., thevenin voltage, is given as\n",
"disp('VTH = R2*I = '+string(R2*I)+'V')\n",
"\n",
"//  NOTE :  Notations used in the program are as mentioned in the main fig. 2.17\n",
""
   ]
   }
,
{
		   "cell_type": "markdown",
		   "metadata": {},
		   "source": [
			"## Example 2.2: Charge_stored_in_Capacitor.sce"
		   ]
		  },
  {
"cell_type": "code",
	   "execution_count": null,
	   "metadata": {
	    "collapsed": true
	   },
	   "outputs": [],
"source": [
"//Ex2_2\n",
"clc\n",
"C= 10*10^-6\n",
"V = 10\n",
"disp('C ='+string(C)+'F')//capacitance\n",
"disp('V = '+string(V)+'V')//voltage\n",
"disp('Q = C*V = '+string(C*V)+'C')//calculation for charge"
   ]
   }
,
{
		   "cell_type": "markdown",
		   "metadata": {},
		   "source": [
			"## Example 2.3: Capacitance_of_capacitor.sce"
		   ]
		  },
  {
"cell_type": "code",
	   "execution_count": null,
	   "metadata": {
	    "collapsed": true
	   },
	   "outputs": [],
"source": [
"//Ex2_3\n",
"clc\n",
"Q = 5*10^-12\n",
"V = 50\n",
"disp('Q = '+string(Q)+'C')//charge\n",
"disp('V = '+string(V)+'V')//voltage\n",
"disp('C = Q/V = '+string(Q/V)+'F')//calculation for capacitance"
   ]
   }
,
{
		   "cell_type": "markdown",
		   "metadata": {},
		   "source": [
			"## Example 2.4: Charge_stored_in_Capacitor.sce"
		   ]
		  },
  {
"cell_type": "code",
	   "execution_count": null,
	   "metadata": {
	    "collapsed": true
	   },
	   "outputs": [],
"source": [
"//Ex2_4\n",
"clc\n",
"I = 10*10^-6\n",
"t= 10\n",
"disp('I = '+string(I)+'A')//current\n",
"disp('t = '+string(t)+'seconds')//time\n",
"disp('Q = I*t = '+string(I*t)+'C')//calculation for charge"
   ]
   }
,
{
		   "cell_type": "markdown",
		   "metadata": {},
		   "source": [
			"## Example 2.5: Charge_stored_and_voltage_across_capacitor.sce"
		   ]
		  },
  {
"cell_type": "code",
	   "execution_count": null,
	   "metadata": {
	    "collapsed": true
	   },
	   "outputs": [],
"source": [
"//Ex2_5\n",
"clc\n",
"C = 2.0*10^-6\n",
"t= 2\n",
"I = 10*10^-6\n",
"Q = I*t\n",
"disp('C = '+string(C)+'F')//capacitance\n",
"disp('t = '+string(t)+'seconds')//time\n",
"disp('I = '+string(I)+'A')//current\n",
"disp('Q = I*t = '+string(Q)+'C')//calculation for charge\n",
"disp('V = Q/C = '+string(Q/C)+'V')//calculation for voltage"
   ]
   }
,
{
		   "cell_type": "markdown",
		   "metadata": {},
		   "source": [
			"## Example 2.6: Reactance_of_Capacitor.sce"
		   ]
		  },
  {
"cell_type": "code",
	   "execution_count": null,
	   "metadata": {
	    "collapsed": true
	   },
	   "outputs": [],
"source": [
"//Ex2_6\n",
"clc\n",
"C = 12* 10^ -6\n",
"f = 1.0*10^3\n",
"Xc = 1/(2*%pi*f*C)\n",
"disp('C = '+string(C)+'F')//capacitance\n",
"disp('at... f = '+string(f)+'Hz')//frequency\n",
"disp('Xc = 1/(2*pi*f*C) = '+string(1/(2*%pi*f*C))+'ohm')//calculation for capacitive reactance"
   ]
   }
,
{
		   "cell_type": "markdown",
		   "metadata": {},
		   "source": [
			"## Example 2.7: Reactance_of_Capacitor.sce"
		   ]
		  },
  {
"cell_type": "code",
	   "execution_count": null,
	   "metadata": {
	    "collapsed": true
	   },
	   "outputs": [],
"source": [
"//Ex2_7\n",
"clc\n",
"C = 0.2*10^-6\n",
"f1 = 1.0*10^3\n",
"f2 = 50\n",
"disp('C = '+string(C)+'F')//capacitance\n",
"disp('at... f = '+string(f1)+'Hz')//frequency\n",
"disp('Xc = 1/(2*pi*f*C) = '+string(1/(2*%pi*f1*C))+'ohm')//calculation for capacitive reactance\n",
"disp('at... f = '+string(f2)+'Hz')//frequency\n",
"disp('Xc = 1/(2*pi*f*C) = '+string(1/(2*%pi*f2*C))+'ohm')//calculation for capacitive reactance"
   ]
   }
,
{
		   "cell_type": "markdown",
		   "metadata": {},
		   "source": [
			"## Example 2.8: Series_Capacitance.sce"
		   ]
		  },
  {
"cell_type": "code",
	   "execution_count": null,
	   "metadata": {
	    "collapsed": true
	   },
	   "outputs": [],
"source": [
"//Ex2_8\n",
"clc\n",
"C1 = 0.5*10^-6\n",
"C2 = 0.5*10^-6\n",
"CT = (C1*C2)/(C1+C2)\n",
"disp('C1 = '+string(C1)+'F')//capacitance 1\n",
"disp('C1 = '+string(C1)+'F')//capacitance 2\n",
"disp('1/CT = 1/C1 + 1/C2 = (C1*C2)/(C1+C2) = '+string(C1*C2/(C1+C2))+'F')//series capacitance\n",
"// proper ans. = 0.25*10^-6F"
   ]
   }
,
{
		   "cell_type": "markdown",
		   "metadata": {},
		   "source": [
			"## Example 2.9: Parallel_Capacitance.sce"
		   ]
		  },
  {
"cell_type": "code",
	   "execution_count": null,
	   "metadata": {
	    "collapsed": true
	   },
	   "outputs": [],
"source": [
"//Ex2_9\n",
"clc\n",
"C1 = 0.2*10^-12\n",
"C2 = 0.6*10^-12\n",
"C3 = 1.0*10^-12\n",
"disp('C1 = '+string(C1)+'F')//capacitance\n",
"disp('C2 = '+string(C2)+'F')//capacitance\n",
"disp('C3 = '+string(C3)+'F')//capacitance\n",
"disp('CT = C1+C2+C3 = '+string(C1+C2+C3)+'F')//parallel capacitance"
   ]
   }
],
"metadata": {
		  "kernelspec": {
		   "display_name": "Scilab",
		   "language": "scilab",
		   "name": "scilab"
		  },
		  "language_info": {
		   "file_extension": ".sce",
		   "help_links": [
			{
			 "text": "MetaKernel Magics",
			 "url": "https://github.com/calysto/metakernel/blob/master/metakernel/magics/README.md"
			}
		   ],
		   "mimetype": "text/x-octave",
		   "name": "scilab",
		   "version": "0.7.1"
		  }
		 },
		 "nbformat": 4,
		 "nbformat_minor": 0
}
