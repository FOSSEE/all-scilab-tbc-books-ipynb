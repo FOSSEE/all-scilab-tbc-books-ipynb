{
"cells": [
 {
		   "cell_type": "markdown",
	   "metadata": {},
	   "source": [
       "# Chapter 13: Oscillators"
	   ]
	},
{
		   "cell_type": "markdown",
		   "metadata": {},
		   "source": [
			"## Example 13.1: Feedback_fraction_to_obtain_sustained_oscillator.sce"
		   ]
		  },
  {
"cell_type": "code",
	   "execution_count": null,
	   "metadata": {
	    "collapsed": true
	   },
	   "outputs": [],
"source": [
"//Ex13_1\n",
"clc\n",
"A = 100//amplification gain\n",
"A_Beta = 1//for sustain oscillation \n",
"Beta = A_Beta/A//feeback ratio\n",
"disp('A = '+string(A))\n",
"disp('A_Beta = '+string(A_Beta))\n",
"disp('Beta = '+string(Beta))"
   ]
   }
,
{
		   "cell_type": "markdown",
		   "metadata": {},
		   "source": [
			"## Example 13.2: Frequency_of_RC_phase_oscillator.sce"
		   ]
		  },
  {
"cell_type": "code",
	   "execution_count": null,
	   "metadata": {
	    "collapsed": true
	   },
	   "outputs": [],
"source": [
"//Ex13_2\n",
"clc\n",
"Rf = 0.5*10^6//feeback resistance\n",
"Cf = 100*10^-12//capacitance across feedback\n",
"Rc = 0.5*10^6//critical resistance\n",
"f0 = 1/[2*%pi*Rf*Cf*(6+4*(Rc/Rf))^(1/2)]//frequency of oscillation\n",
"disp('Rf = '+string(Rf)+'ohm')\n",
"disp('Cf = '+string(Cf)+'F')\n",
"disp('Rc = '+string(Rc)+'ohm')\n",
"disp('f0 = 1/[2*pi*Rf*Cf*(6+4*(Rc/Rf))^(1/2)] = '+string(f0)+'Hz')"
   ]
   }
,
{
		   "cell_type": "markdown",
		   "metadata": {},
		   "source": [
			"## Example 13.3: Frequency_of_Wein_Bridge_oscillator.sce"
		   ]
		  },
  {
"cell_type": "code",
	   "execution_count": null,
	   "metadata": {
	    "collapsed": true
	   },
	   "outputs": [],
"source": [
"//Ex13_3\n",
"clc\n",
"Rf = 1.5*10^6//feeback resistance\n",
"Cf = 1*10^-9//capacitance across feedback\n",
"f0 = 1/(2*%pi*Rf*Cf)//frequency of oscillation\n",
"disp('Rf = '+string(Rf)+'ohm')\n",
"disp('Cf = '+string(Cf)+'F')\n",
"disp('f0 = 1/(2*pi*Rf*Cf) = '+string(f0)+'Hz')"
   ]
   }
,
{
		   "cell_type": "markdown",
		   "metadata": {},
		   "source": [
			"## Example 13.4: Feedback_fractor_and_frequency_of_Colpitts_oscillator.sce"
		   ]
		  },
  {
"cell_type": "code",
	   "execution_count": null,
	   "metadata": {
	    "collapsed": true
	   },
	   "outputs": [],
"source": [
"//Ex13_4\n",
"clc\n",
"C1 = 1*10^-9//capacitance of capacitor 1\n",
"C2 = 10*10^-9//capacitance of capacitor 2\n",
"L = 110*10^-6//inductance of inductor\n",
"beta = C1/C2//feedback factor\n",
"f0 = ((C1+C2)/(C1*C2*L))^.5/(2*%pi)//operating frequency\n",
"disp('C1 = '+string(C1)+'F')\n",
"disp('C2 = '+string(C2)+'F')\n",
"disp('L = '+string(L)+'H')\n",
"disp('beta = '+string(beta))\n",
"disp('f0 = ((C1+C2)/(C1*C2*L))^.5/(2*pi) = '+string(f0)+'Hz')\n",
"\n",
"//note : unit given for inductance 'L' is wrong in the textook for the above question."
   ]
   }
],
"metadata": {
		  "kernelspec": {
		   "display_name": "Scilab",
		   "language": "scilab",
		   "name": "scilab"
		  },
		  "language_info": {
		   "file_extension": ".sce",
		   "help_links": [
			{
			 "text": "MetaKernel Magics",
			 "url": "https://github.com/calysto/metakernel/blob/master/metakernel/magics/README.md"
			}
		   ],
		   "mimetype": "text/x-octave",
		   "name": "scilab",
		   "version": "0.7.1"
		  }
		 },
		 "nbformat": 4,
		 "nbformat_minor": 0
}
