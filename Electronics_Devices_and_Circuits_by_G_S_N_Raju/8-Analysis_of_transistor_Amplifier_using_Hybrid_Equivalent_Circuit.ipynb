{
"cells": [
 {
		   "cell_type": "markdown",
	   "metadata": {},
	   "source": [
       "# Chapter 8: Analysis of transistor Amplifier using Hybrid Equivalent Circuit"
	   ]
	},
{
		   "cell_type": "markdown",
		   "metadata": {},
		   "source": [
			"## Example 8.10: current_gain_of_CE_amplifier.sce"
		   ]
		  },
  {
"cell_type": "code",
	   "execution_count": null,
	   "metadata": {
	    "collapsed": true
	   },
	   "outputs": [],
"source": [
"//Ex8_10\n",
"clc\n",
"Av = -200\n",
"Ri = 10*10^3\n",
"RL = 3*10^3\n",
"Ai = Av*Ri/RL\n",
"disp('Av = '+string(Av))//voltage gain\n",
"disp('Ri = '+string(Ri)+'ohm')//input resistance\n",
"disp('RL = '+string(RL)+'ohm')//load resistance\n",
"disp('Ai = Av*Ri/RL = '+string(Ai))//current gain\n",
"\n",
"// note : there are mis-printring in the textbook for the above problem regading formula and notations.\n",
"//        answer in the textbook for above problem is wrong."
   ]
   }
,
{
		   "cell_type": "markdown",
		   "metadata": {},
		   "source": [
			"## Example 8.11: Input_resistance_of_CE_amplifier.sce"
		   ]
		  },
  {
"cell_type": "code",
	   "execution_count": null,
	   "metadata": {
	    "collapsed": true
	   },
	   "outputs": [],
"source": [
"//Ex8_11\n",
"clc\n",
"Av = -250\n",
"Ai = -50\n",
"RL = 12*10^3\n",
"disp('Av = '+string(Av))//voltage gain\n",
"disp('Ai = '+string(Ai))//current gain\n",
"disp('RL = '+string(RL)+'ohm')//load resistance\n",
"Ri = Ai*RL/Av\n",
"disp('Ri = Ai*RL/Av = '+string(Ri)+'ohm')//input resistance"
   ]
   }
,
{
		   "cell_type": "markdown",
		   "metadata": {},
		   "source": [
			"## Example 8.1: Calculating_h_parameters.sce"
		   ]
		  },
  {
"cell_type": "code",
	   "execution_count": null,
	   "metadata": {
	    "collapsed": true
	   },
	   "outputs": [],
"source": [
"//Ex8_1\n",
"clc\n",
"disp('(a)')\n",
"Vce=0\n",
"Ic=2*10^-3\n",
"Ib=30*10^-6\n",
"Vbe=50*10^-3\n",
"disp('Vce = '+string(Vce)+'V')//collector-emitter voltage\n",
"disp('Ic = '+string(Ic)+'A')//collector current\n",
"disp('Ib = '+string(Ib)+'A')//base current\n",
"disp('Vbe = '+string(Vbe)+'V')//base-emitter voltage\n",
"hfe=Ic/Ib\n",
"disp('hfe = Ic/Ib = '+string(hfe))//current gain in CE amplifier\n",
"hie=Vbe/Ib\n",
"disp('hie = Vbe/Ib = '+string(hie)+'ohm')//input impedance in CE amplifier\n",
"disp('(b)')\n",
"Ib=0\n",
"Vce=1\n",
"Vbe=0.3*10^-3\n",
"Ic=0.1*10^-3\n",
"disp('Vce = '+string(Vce)+'V')//collector-emitter voltage\n",
"disp('Ic = '+string(Ic)+'A')//collector current\n",
"disp('Ib = '+string(Ib)+'A')//base current\n",
"disp('Vbe = '+string(Vbe)+'V')//base-emitter voltage\n",
"hoe=Ic/Vce\n",
"disp('hoe = Ic/Vce = '+string(hoe)+'mho')//output conductance in CE amplifier\n",
"hre=Vbe/Vce\n",
"disp('hre = Vbe/Vce = '+string(hre))//voltage gain in CE amplifier\n",
"\n",
"// note: textbook answers has printing mistake, regaeding hre."
   ]
   }
,
{
		   "cell_type": "markdown",
		   "metadata": {},
		   "source": [
			"## Example 8.2: current_gain_and_input_resistance.sce"
		   ]
		  },
  {
"cell_type": "code",
	   "execution_count": null,
	   "metadata": {
	    "collapsed": true
	   },
	   "outputs": [],
"source": [
"//Ex8_2\n",
"clc\n",
"RL = 8*10^3\n",
"hie=1.0*10^3\n",
"hre=2.5*10^-4\n",
"hfe=50\n",
"hoe=25*10^-6\n",
"disp('RL = '+string(RL)+'ohm')//load resistance\n",
"//h-parameters for CE transistor amplifier are as follows:\n",
"disp('hie = '+string(hie)+'ohm')//input resistance of CE transistor\n",
"disp('hre = '+string(hre))//voltage gain of CE transistor\n",
"disp('hfe = '+string(hfe))//current gain of CE transistor\n",
"disp('hoe = '+string(hoe)+'mho')//output conductance of CE transistor\n",
"//calculation for current gain:\n",
"Ai=-hfe/(1+(hoe*RL))\n",
"disp('Ai = -hfe/(1+(hoe*RL)) = '+string(Ai))\n",
"disp('Ai = '+string(abs(Ai)))\n",
"//calculation for input resistance:\n",
"Ri = hie+(hre*Ai*RL)\n",
"disp('Ri = hie+(hre*Ai*RL) = '+string(Ri)+'ohm')\n",
"\n",
"//note : answer in the textbook regarding above problem is not accuratly calculated."
   ]
   }
,
{
		   "cell_type": "markdown",
		   "metadata": {},
		   "source": [
			"## Example 8.3: current_and_voltage_gain.sce"
		   ]
		  },
  {
"cell_type": "code",
	   "execution_count": null,
	   "metadata": {
	    "collapsed": true
	   },
	   "outputs": [],
"source": [
"//Ex8_3\n",
"clc\n",
"RL = 8*10^3\n",
"Rs= 500\n",
"hie=1.0*10^3\n",
"hre=2.5*10^-4\n",
"hfe=50\n",
"hoe=25*10^-6\n",
"disp('RL = '+string(RL)+'ohm')//load resistance\n",
"disp('Rs = '+string(Rs)+'ohm')//source resistance\n",
"//h-parameters for CE transistor amplifier are as follows:\n",
"disp('hie = '+string(hie)+'ohm')//input resistance of CE transistor\n",
"disp('hre = '+string(hre))//voltage gain of CE transistor\n",
"disp('hfe = '+string(hfe))//current gain of CE transistor\n",
"disp('hoe = '+string(hoe)+'mho')//output conductance of CE transistor\n",
"\n",
"Ai=-hfe/(1+(hoe*RL))\n",
"disp('Ai = -hfe/(1+(hoe*RL)) = '+string(Ai))//calculation for current gain\n",
"\n",
"Ri = hie+(hre*Ai*RL)\n",
"disp('Ri = hie+(hre*Ai*RL) = '+string(Ri)+'ohm')//calculation for input resistance\n",
"\n",
"Ais=(Ai*Rs)/(Ri+Rs)\n",
"disp('Ais = (Ai*Rs)/(Ri+Rs)= '+string(Ais))//current gain with source resistance\n",
"\n",
"Avs = Ai*RL/Ri\n",
"disp('Avs = Ai*RL/Ri = '+string(Avs))//voltage gain with source resistance\n",
"\n",
"//note : in the textbook above problem has given two values for hie BUT no value for hfe ... \n",
"//       thus assuming hie=50 as hfe =50, as given in the previous example 8_2\n",
"\n",
"//note : answer in the textbook is not accuratly calculated."
   ]
   }
,
{
		   "cell_type": "markdown",
		   "metadata": {},
		   "source": [
			"## Example 8.4: current_and_voltage_gain_and_input_and_output_resistance.sce"
		   ]
		  },
  {
"cell_type": "code",
	   "execution_count": null,
	   "metadata": {
	    "collapsed": true
	   },
	   "outputs": [],
"source": [
"//Ex8_4\n",
"clc\n",
"RL=5*10^3\n",
"Rs=1.2*10^3\n",
"hre=2.5*10^-4\n",
"hie=1.1*10^3\n",
"hfe=100\n",
"hoe=25*10^-6\n",
"disp('RL = '+string(RL)+'ohm')//load resistance\n",
"disp('Rs = '+string(Rs)+'ohm')//source resistance\n",
"//h-parameters for CE transistor amplifier are as follows:\n",
"disp('hie = '+string(hie)+'ohm')//input resistance of CE transistor\n",
"disp('hre = '+string(hre))//voltage gain of CE transistor\n",
"disp('hfe = '+string(hfe))//current gain of CE transistor\n",
"disp('hoe = '+string(hoe)+'mho')//output conductance of CE transistor\n",
"//calculation for current gain:\n",
"Ai=-hfe/(1+(hoe*RL))\n",
"disp('Ai = -hfe/(1+(hoe*RL)) = '+string(abs(Ai)))\n",
"//calculation for input resistance:\n",
"Ri = hie+(hre*Ai*RL)\n",
"disp('Ri = hie+(hre*Ai*RL) = '+string(Ri)+'ohm')\n",
"//calculation for voltage gain:\n",
"Av = Ai*RL/Ri\n",
"disp('Av = Ai*RL/Ri = '+string(Av))\n",
"//calculation for output resistance:\n",
"Go=hoe-((hre*hfe)/(hie+Rs))\n",
"Ro = 1/Go\n",
"disp('Ro = 1/Go')\n",
"disp('Go = hoe-((hre*hfe)/(hie+Rs)) = '+string(Go)+'mho')\n",
"disp('Ro = '+string(Ro)+'ohm')\n",
"\n",
"//note : in the textbook, above problem has given two values for 'hfe' and no value for 'hre'... \n",
"//        thus assuming value for 'hre = 2.5*10^-4' as taken in previous example 8_2\n",
"//        and 'hfe=100' \n",
"\n",
"//note : in text LOAD RESISTANCE is noted as Rc in question, but RL in solution.\n",
"//       I have work with Load Resistance with notification RL."
   ]
   }
,
{
		   "cell_type": "markdown",
		   "metadata": {},
		   "source": [
			"## Example 8.5: Amplifier_current_gain.sce"
		   ]
		  },
  {
"cell_type": "code",
	   "execution_count": null,
	   "metadata": {
	    "collapsed": true
	   },
	   "outputs": [],
"source": [
"//Ex8_5\n",
"clc\n",
"RL = 22*10^3\n",
"hfb=-0.98\n",
"hob=7.6*10^-7\n",
"disp('RL = '+string(RL)+'ohm')//load resistance\n",
"disp('hfb = '+string(hfb))//forward current gain in CB amplifier\n",
"disp('hob = '+string(hob)+'mho')//output conductance in CB amplifier\n",
"Ai = -hfb/(1+(hob*RL))\n",
"disp('Ai = -hfb/(1+(hob*RL)) = '+string(Ai))//current gain\n",
""
   ]
   }
,
{
		   "cell_type": "markdown",
		   "metadata": {},
		   "source": [
			"## Example 8.6: voltage_gain_of_CE_amplifier.sce"
		   ]
		  },
  {
"cell_type": "code",
	   "execution_count": null,
	   "metadata": {
	    "collapsed": true
	   },
	   "outputs": [],
"source": [
"//Ex8_6\n",
"clc\n",
"hfb = -0.999\n",
"hib = 50\n",
"hob = 0.82*10^-6\n",
"hrb = 4*10^-6\n",
"RL = 22*10^3\n",
"disp('RL = '+string(RL)+'ohm')//load impedence\n",
"//h-parameters for CB transistor amplifier are as follows:\n",
"disp('hib = '+string(hib)+'ohm')//input resistance of CB transistor\n",
"disp('hrb = '+string(hrb))//voltage gain of CB transistor\n",
"disp('hfb = '+string(hfb))//current gain of CB transistor\n",
"disp('hob = '+string(hob)+'mho')//output conductance of CB transistor\n",
"Av = -(hfb*RL)/((RL*(hib*hob-hfb*hrb))+hib)\n",
"disp('Av = -(hfb*RL)/((RL*(hib*hob-hfb*hrb))+hib) = '+string(Av))//voltage gain\n",
"\n",
"\n",
"//note : answer provided in the textbook is not precised."
   ]
   }
,
{
		   "cell_type": "markdown",
		   "metadata": {},
		   "source": [
			"## Example 8.7: current_and_voltage_gain_and_input_and_output_resistance.sce"
		   ]
		  },
  {
"cell_type": "code",
	   "execution_count": null,
	   "metadata": {
	    "collapsed": true
	   },
	   "outputs": [],
"source": [
"//Ex8_7\n",
"clc\n",
"RL = 1.2*10^3\n",
"//assuming Rs = RL as given in problem\n",
"Rs = RL\n",
"//assuming values for h-parameters\n",
"hie = 1.0*10^3\n",
"hre=2.5*10^-4\n",
"hfe = 50\n",
"hoe = 25*10^-6\n",
"disp('RL = '+string(RL)+'ohm')//load resistance\n",
"disp('Rs = RL = '+string(RL)+'ohm')//source resistance\n",
"//h-parameters for CE transistor amplifier are as follows:\n",
"disp('hie = '+string(hie)+'ohm')//input resistance of CE transistor\n",
"disp('hre = '+string(hre))//voltage gain of CE transistor\n",
"disp('hfe = '+string(hfe))//current gain of CE transistor\n",
"disp('hoe = '+string(hoe)+'mho')//output conductance of CE transistor\n",
"//calculation for current gain:\n",
"Ai=-hfe/(1+(hoe*RL))\n",
"disp('Ai = -hfe/(1+(hoe*RL)) = '+string(Ai))\n",
"//calculation for input impedence:\n",
"Ri = hie+(hre*Ai*RL)\n",
"disp('Ri = hie+(hre*Ai*RL) = '+string(Ri)+'ohm')\n",
"//calculation for voltage gain:\n",
"disp('Av = Ai*RL/Ri')\n",
"Av = Ai*RL/Ri\n",
"disp('   = '+string(Av))\n",
"//calculation for output impedence:\n",
"Ro = 1/((hoe - (hfe*hre)/(hie+Rs)))\n",
"disp('Ro = 1/((hoe - (hfe*hre)/(hie+Rs)))')\n",
"disp('     = '+string(Ro)+'ohm')\n",
"//current gain with source impedence:\n",
"Ais=(Ai*Rs)/(Ri+Rs)\n",
"disp('Ais = (Ai*Rs)/(Ri+Rs)= '+string(Ais))\n",
"//voltage gain with source impedence:\n",
"Avs = Av*Ri/(Ri+Rs)\n",
"disp('Avs = Av*Ri/(Ri+Rs) = '+string(Avs))\n",
"\n",
"\n",
"\n",
"// NOTE : calculation in the textbook for the above problem is wrong.\n",
"//        while calculating Ri author has use 'hie = 1.2*10^3' instead of ASSUMED9 value i.e., 'hie = 1.0*10^3'   "
   ]
   }
,
{
		   "cell_type": "markdown",
		   "metadata": {},
		   "source": [
			"## Example 8.8: load_resistance_of_CE_transistor.sce"
		   ]
		  },
  {
"cell_type": "code",
	   "execution_count": null,
	   "metadata": {
	    "collapsed": true
	   },
	   "outputs": [],
"source": [
"//Ex8_8\n",
"clc\n",
"Ai = -60\n",
"hfe = 100\n",
"hoe = 10*10^-6\n",
"disp('hfe = '+string(hfe))//forward current gain\n",
"disp('hoe = '+string(hoe)+'A/V')//output conductance\n",
"disp('Ai = '+string(Ai))//current gain\n",
"disp('But, ...\n",
"Ai = -hfe/(1+ hoe*RL)')\n",
"RL = -(1/hoe)*(1+(hfe/Ai))\n",
"disp('Thus,...\n",
"RL = -(1/hoe)*(1+(hfe/Ai)) = '+string(RL)+'ohm')//load resistance"
   ]
   }
,
{
		   "cell_type": "markdown",
		   "metadata": {},
		   "source": [
			"## Example 8.9: voltage_gain_of_CE_amplifier.sce"
		   ]
		  },
  {
"cell_type": "code",
	   "execution_count": null,
	   "metadata": {
	    "collapsed": true
	   },
	   "outputs": [],
"source": [
"//Ex8_9\n",
"clc\n",
"Ai = -60\n",
"Ri = 2.0*10^3\n",
"RL = 15*10^3\n",
"disp('Ai = '+string(Ai))//current gain\n",
"disp('Ri = '+string(Ri)+'ohm')//input resistance\n",
"disp('RL = '+string(RL)+'ohm')//load resistance\n",
"Av = Ai*RL/Ri\n",
"disp('Av = Ai*RL/Ri = '+string(Av))//voltage gain\n",
"\n",
"//note : in textbook,\n",
"//       author notify LOAD RESISTANCE as 'Rc' in question BUT 'RL' in solution.\n",
"//       I have work with 'load resistance notified as RL'."
   ]
   }
],
"metadata": {
		  "kernelspec": {
		   "display_name": "Scilab",
		   "language": "scilab",
		   "name": "scilab"
		  },
		  "language_info": {
		   "file_extension": ".sce",
		   "help_links": [
			{
			 "text": "MetaKernel Magics",
			 "url": "https://github.com/calysto/metakernel/blob/master/metakernel/magics/README.md"
			}
		   ],
		   "mimetype": "text/x-octave",
		   "name": "scilab",
		   "version": "0.7.1"
		  }
		 },
		 "nbformat": 4,
		 "nbformat_minor": 0
}
