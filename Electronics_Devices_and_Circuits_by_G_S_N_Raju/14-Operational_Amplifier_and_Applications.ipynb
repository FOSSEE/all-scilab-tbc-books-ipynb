{
"cells": [
 {
		   "cell_type": "markdown",
	   "metadata": {},
	   "source": [
       "# Chapter 14: Operational Amplifier and Applications"
	   ]
	},
{
		   "cell_type": "markdown",
		   "metadata": {},
		   "source": [
			"## Example 14.1: Common_Mode_Rejection_Ratio.sce"
		   ]
		  },
  {
"cell_type": "code",
	   "execution_count": null,
	   "metadata": {
	    "collapsed": true
	   },
	   "outputs": [],
"source": [
"//Ex14_1\n",
"clc\n",
"Ad = 100//differential gain\n",
"Ac = 0.01//common mode gain\n",
"CMRR = Ad/Ac//Common Mode Rejection Ratio\n",
"CMRR_dB = 20*log10(CMRR)//Common Mode Rejection Ratio in decibles\n",
"disp('Ad = '+string(Ad))\n",
"disp('Ac = '+string(Ac))\n",
"disp('CMRR = Ad/Ac = '+string(CMRR))\n",
"disp('CMRR = '+string(CMRR_dB)+'dB')"
   ]
   }
,
{
		   "cell_type": "markdown",
		   "metadata": {},
		   "source": [
			"## Example 14.2: Common_Mode_Rejection_Ratio.sce"
		   ]
		  },
  {
"cell_type": "code",
	   "execution_count": null,
	   "metadata": {
	    "collapsed": true
	   },
	   "outputs": [],
"source": [
"//Ex14_2\n",
"clc\n",
"CMRR_dB = 100//Common Mode Rejection Ratio in decibles\n",
"CMRR = 10^(100/20)//CMRR as a ratio\n",
"disp('CMRR = '+string(CMRR_dB)+'dB')\n",
"disp('CMRR = 10^(100/20) = '+string(CMRR))"
   ]
   }
,
{
		   "cell_type": "markdown",
		   "metadata": {},
		   "source": [
			"## Example 14.3: Output_Voltage_Of_Op_amp_Adder_Circuit.sce"
		   ]
		  },
  {
"cell_type": "code",
	   "execution_count": null,
	   "metadata": {
	    "collapsed": true
	   },
	   "outputs": [],
"source": [
"//Ex14_3\n",
"clc\n",
"Rf = 10*10^3//feedback resistance\n",
"R1 = 10*10^3//resistance 1\n",
"R2 = 2*10^3//resistance 2\n",
"v1 = 10//input voltage across resistance 1\n",
"v2 = 4//input voltage across resistance 2\n",
"//note: according to the given fig. in the textbook for the question we have:\n",
"\n",
"vo = -Rf*((v1/R1)+(v2/R2))//output voltage of adder circuit\n",
"disp('Rf = '+string(Rf)+'ohm')\n",
"disp('R1 = '+string(R1)+'ohm')\n",
"disp('R2 = '+string(R2)+'ohm')\n",
"disp('v1 = '+string(v1)+'V')\n",
"disp('v2 = '+string(v2)+'V')\n",
"disp('vo = -Rf*((v1/R1)+(v2/R2)) = '+string(vo)+'V')"
   ]
   }
,
{
		   "cell_type": "markdown",
		   "metadata": {},
		   "source": [
			"## Example 14.4: Output_Voltage_Of_Op_amp_Adder_Circuit.sce"
		   ]
		  },
  {
"cell_type": "code",
	   "execution_count": null,
	   "metadata": {
	    "collapsed": true
	   },
	   "outputs": [],
"source": [
"//Ex14_4\n",
"clc\n",
"Rf = 1*10^3//feedback resistance\n",
"R1 = 1*10^3//resistance 1\n",
"R2 = 1*10^3//resistance 2\n",
"R3 = 1*10^3//resistance 3\n",
"v1 = 2//input voltage 1\n",
"v2 = 1//input voltage 2\n",
"v3 = 3//input voltage 3\n",
"vo = -Rf*((v1/R1)+(v2/R2)+(v3/R3))//output voltage of adder circuit\n",
"disp('Rf = '+string(Rf)+'ohm')\n",
"disp('R1 = '+string(R1)+'ohm')\n",
"disp('R2 = '+string(R2)+'ohm')\n",
"disp('R3 = '+string(R3)+'ohm')\n",
"disp('v1 = '+string(v1)+'V')\n",
"disp('v2 = '+string(v2)+'V')\n",
"disp('v3 = '+string(v3)+'V')\n",
"disp('vo = -Rf*((v1/R1)+(v2/R2)+(v3/R3)) = '+string(vo)+'V')"
   ]
   }
,
{
		   "cell_type": "markdown",
		   "metadata": {},
		   "source": [
			"## Example 14.7: Designing_a_close_loop_op_amp.sce"
		   ]
		  },
  {
"cell_type": "code",
	   "execution_count": null,
	   "metadata": {
	    "collapsed": true
	   },
	   "outputs": [],
"source": [
"//Ex14_7\n",
"clc\n",
"Af = -20//closed loop gain of op-amp\n",
"R = 10*10^3//output resistance\n",
"Rf = -Af*R//feedback resistance\n",
"disp('Af = '+string(Af))\n",
"disp('R = '+string(R)+'ohm')\n",
"disp('Rf = -Af/R = '+string(Rf)+'ohm')"
   ]
   }
],
"metadata": {
		  "kernelspec": {
		   "display_name": "Scilab",
		   "language": "scilab",
		   "name": "scilab"
		  },
		  "language_info": {
		   "file_extension": ".sce",
		   "help_links": [
			{
			 "text": "MetaKernel Magics",
			 "url": "https://github.com/calysto/metakernel/blob/master/metakernel/magics/README.md"
			}
		   ],
		   "mimetype": "text/x-octave",
		   "name": "scilab",
		   "version": "0.7.1"
		  }
		 },
		 "nbformat": 4,
		 "nbformat_minor": 0
}
