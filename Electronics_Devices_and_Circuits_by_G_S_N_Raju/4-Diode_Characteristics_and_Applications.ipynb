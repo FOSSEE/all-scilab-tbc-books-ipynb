{
"cells": [
 {
		   "cell_type": "markdown",
	   "metadata": {},
	   "source": [
       "# Chapter 4: Diode Characteristics and Applications"
	   ]
	},
{
		   "cell_type": "markdown",
		   "metadata": {},
		   "source": [
			"## Example 4.1: Current_in_silicon_diode.sce"
		   ]
		  },
  {
"cell_type": "code",
	   "execution_count": null,
	   "metadata": {
	    "collapsed": true
	   },
	   "outputs": [],
"source": [
"//Ex4_1\n",
"clc\n",
"Irs = 0.2*10^-6\n",
"Vf = 0.1\n",
"VT = 26*10^-3\n",
"eta = 1//for germanium\n",
"I = Irs*(exp(Vf/eta/VT)-1)\n",
"disp('Irs = '+string(Irs)+'A')//reverse saturation current\n",
"disp('Vf = '+string(Vf)+'V')//applied voltage\n",
"disp('VT = '+string(VT)+'V')//voltage at room temperature\n",
"disp('eta = '+string(eta))\n",
"disp('I = Irs*(exp(Vf/eta/VT)-1)')//current at room temperature\n",
"disp('I = '+string(I)+'A')\n",
"\n",
"//current in silicon:\n",
"eta = 2//for silicon\n",
"disp('eta = '+string(eta))\n",
"I = Irs*(exp(Vf/eta/VT)-1)\n",
"disp('I = '+string(I)+'A')\n",
"\n",
"\n",
"\n",
"\n",
"// note: incomplete solution in textbook for above question."
   ]
   }
,
{
		   "cell_type": "markdown",
		   "metadata": {},
		   "source": [
			"## Example 4.2: Voltage_in_silicon_diode.sce"
		   ]
		  },
  {
"cell_type": "code",
	   "execution_count": null,
	   "metadata": {
	    "collapsed": true
	   },
	   "outputs": [],
"source": [
"//Ex4_2\n",
"clc\n",
"Irs = 2.0*10^-6\n",
"I = 10*10^-3\n",
"VT = 26*10^-3\n",
"eta = 2//for silicon\n",
"disp('Irs = '+string(Irs)+'A')//reverse saturation current\n",
"disp('I = '+string(I)+'A')//forward current\n",
"disp('VT = '+string(VT)+'V')//voltage at room temperature\n",
"disp('eta = '+string(eta))\n",
"Vf = eta*VT*log((I/Irs)+1)//voltage produced\n",
"disp('Vf = eta*VT*log((I/Irs)+1) = '+string(Vf)+'V')"
   ]
   }
,
{
		   "cell_type": "markdown",
		   "metadata": {},
		   "source": [
			"## Example 4.3: Dynamic_resistance_of_diode.sce"
		   ]
		  },
  {
"cell_type": "code",
	   "execution_count": null,
	   "metadata": {
	    "collapsed": true
	   },
	   "outputs": [],
"source": [
"//Ex4_3\n",
"clc\n",
"If = 3*10^-3//forward current\n",
"eta = 1//for germanium\n",
"T = 300//room temperature\n",
"VT = T/11600//voltage at room temperature\n",
"disp('If = '+string(If)+'A')\n",
"disp('eta = '+string(eta))\n",
"disp('T = '+string(T)+'degreeK')\n",
"disp('VT = '+string(VT)+'V')\n",
"Rdf = (eta*VT/If)//dynamic resistance at room temprature\n",
"disp('Rdf = (eta*VT/If) = '+string(Rdf)+'ohm')"
   ]
   }
,
{
		   "cell_type": "markdown",
		   "metadata": {},
		   "source": [
			"## Example 4.4: Transition_Capacitance.sce"
		   ]
		  },
  {
"cell_type": "code",
	   "execution_count": null,
	   "metadata": {
	    "collapsed": true
	   },
	   "outputs": [],
"source": [
"//Ex4_4\n",
"clc\n",
"A = 4*10^-6\n",
"W = 1.5*10^-6\n",
"apsilent_r = 16//for germanium\n",
"apsilent_not = 8.85*10^-12//permitivity in vaccum\n",
"disp('A = '+string(A)+'m_sq')//cross sectional are\n",
"disp('W = '+string(W)+'m')//width of depletion layer\n",
"disp('apsient_r = '+string(apsilent_r))//relative permittivity\n",
"disp('CT = apsilent*A/W')//transition capacitance\n",
"disp('   = '+string(apsilent_r*apsilent_not*A/W)+'F')\n",
"\n",
"\n",
"// note: units given in textbook in the solution for cross sectional area and width are misprinted."
   ]
   }
,
{
		   "cell_type": "markdown",
		   "metadata": {},
		   "source": [
			"## Example 4.5: Diffusion_Capacitance.sce"
		   ]
		  },
  {
"cell_type": "code",
	   "execution_count": null,
	   "metadata": {
	    "collapsed": true
	   },
	   "outputs": [],
"source": [
"//Ex4_5\n",
"clc\n",
"I = 10*10^-3\n",
"eta = 1//for germanium\n",
"VT = 26*10^-3\n",
"tawo = 6*10^-3\n",
"CD = I*tawo/eta/VT\n",
"disp('I = '+string(I)+'A')//forward current\n",
"disp('eta = '+string(eta))\n",
"disp('VT = '+string(VT)+'V')//voltagr at room temperature\n",
"disp('tawo = '+string(tawo)+'sec')//mean lifetime\n",
"disp('CD = I*tao/eta/VT = '+string(CD)+'F')//"
   ]
   }
],
"metadata": {
		  "kernelspec": {
		   "display_name": "Scilab",
		   "language": "scilab",
		   "name": "scilab"
		  },
		  "language_info": {
		   "file_extension": ".sce",
		   "help_links": [
			{
			 "text": "MetaKernel Magics",
			 "url": "https://github.com/calysto/metakernel/blob/master/metakernel/magics/README.md"
			}
		   ],
		   "mimetype": "text/x-octave",
		   "name": "scilab",
		   "version": "0.7.1"
		  }
		 },
		 "nbformat": 4,
		 "nbformat_minor": 0
}
