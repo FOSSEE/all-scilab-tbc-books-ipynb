{
"cells": [
 {
		   "cell_type": "markdown",
	   "metadata": {},
	   "source": [
       "# Chapter 1: Common Electronic Materials and Properties"
	   ]
	},
{
		   "cell_type": "markdown",
		   "metadata": {},
		   "source": [
			"## Example 1.10: Force_on_Electorn.sce"
		   ]
		  },
  {
"cell_type": "code",
	   "execution_count": null,
	   "metadata": {
	    "collapsed": true
	   },
	   "outputs": [],
"source": [
"//Ex1.10\n",
"clc\n",
"B = 2*10^-6 //magnetic flux density\n",
"V = 4*10^6  //electron velocity\n",
"e= 1.6*10^-19//elcetron charge\n",
"disp('B ='+string(B)+'ax wb/m.sq')\n",
"disp('V ='+string(V)+'az m/s')\n",
"disp('e = '+string(e)+ 'C')\n",
"disp('F = e[VxB] ='+string(e*V*B)+'ay N')//force"
   ]
   }
,
{
		   "cell_type": "markdown",
		   "metadata": {},
		   "source": [
			"## Example 1.11: Force_on_Electron_due_to_field.sce"
		   ]
		  },
  {
"cell_type": "code",
	   "execution_count": null,
	   "metadata": {
	    "collapsed": true
	   },
	   "outputs": [],
"source": [
"//Ex1.11\n",
"clc\n",
"Hx = 1*10^-3  //magnetic field in x-axis\n",
"Hy = 2*10^-3  //magnetic field in y-axis\n",
"V = (4*10^6)  //electron velocity\n",
"micro_not=(4*%pi*(10^-7)) //permitivity in vaccum\n",
"e=1.6*10^-19  //charge of electorn\n",
"disp('H = '+string(Hx)+'ax  + '+string(Hy)+'ay A/m')\n",
"disp('V = '+string(V)+'ay m/s')\n",
"Bx = micro_not*Hx; By = micro_not*Hy //magnetic flux density\n",
"disp('B = micro_not*H = '+string(Bx)+'ax + '+string(By)+'ay wb/m.sq')\n",
"disp('F = e[VxB] = '+string(e*V*Bx)+'az N') //force on electron due to field\n",
"\n",
"\n",
"// note : there is a misprint in the textbook for the above problem"
   ]
   }
,
{
		   "cell_type": "markdown",
		   "metadata": {},
		   "source": [
			"## Example 1.12: Donor_atom_concentration.sce"
		   ]
		  },
  {
"cell_type": "code",
	   "execution_count": null,
	   "metadata": {
	    "collapsed": true
	   },
	   "outputs": [],
"source": [
"//Ex1.12\n",
"clc\n",
"n = 5*10^22//number of atoms in silicon/cm_cube\n",
"donors = 10^-7 //donor atoms\n",
"disp('n = '+string(n)+' /cm.cube')\n",
"disp('donors = '+string(donors))\n",
"disp('ND = '+string(n*donors)+' /cm.cube') //donor atom concentration\n",
""
   ]
   }
,
{
		   "cell_type": "markdown",
		   "metadata": {},
		   "source": [
			"## Example 1.13: Free_electron_concentration.sce"
		   ]
		  },
  {
"cell_type": "code",
	   "execution_count": null,
	   "metadata": {
	    "collapsed": true
	   },
	   "outputs": [],
"source": [
"//Ex1.13\n",
"clc\n",
"ND =5*10^16//donor atom concentration\n",
"disp('n = '+string(ND)+'/cm.cube') //free electrons"
   ]
   }
,
{
		   "cell_type": "markdown",
		   "metadata": {},
		   "source": [
			"## Example 1.14: Hole_concentration.sce"
		   ]
		  },
  {
"cell_type": "code",
	   "execution_count": null,
	   "metadata": {
	    "collapsed": true
	   },
	   "outputs": [],
"source": [
"//Ex1.14\n",
"clc\n",
"ni = 1.5*10^10 //intrinsic concentration\n",
"ND = 5*10^16 //donor atom concentration\n",
"disp('ni ='+string(ni)+'/cm.cube')\n",
"disp('ND = '+string(ND)+' /cm.cube')\n",
"disp('p = (ni^2)/ND = '+string((ni^2)/ND)+'atom/cm.cube') //hole concentration"
   ]
   }
,
{
		   "cell_type": "markdown",
		   "metadata": {},
		   "source": [
			"## Example 1.15: Resistivity_of_Intrinsic_semiconductor.sce"
		   ]
		  },
  {
"cell_type": "code",
	   "execution_count": null,
	   "metadata": {
	    "collapsed": true
	   },
	   "outputs": [],
"source": [
"//Ex1.15\n",
"clc\n",
"ni = 1.52*10^10 //intrinsic concentration\n",
"e=1.6*10^-19 //charge of electron\n",
"micro_n = 1350; micro_p = 480 // charge mobility\n",
"disp('e = '+string(e)+'C')\n",
"disp('ni = pi ='+string(ni)+'/cm.cube')\n",
"disp('micro_n = '+string(micro_n)+'cm.sq/V-s')\n",
"disp('micro_p = '+string(micro_p)+'cm.sq/V-s')\n",
"disp('sigma = e(micro_n*ni + micro_p*pi ) ='+string(e*(micro_n*ni + micro_p*ni))+'mho/cm') //conductivity\n",
"disp('rho = 1/sigma ='+string(1/(e*(micro_n*ni + micro_p*ni)))+'ohm-cm') //resistivity"
   ]
   }
,
{
		   "cell_type": "markdown",
		   "metadata": {},
		   "source": [
			"## Example 1.16: Mobility_and_conductivity.sce"
		   ]
		  },
  {
"cell_type": "code",
	   "execution_count": null,
	   "metadata": {
	    "collapsed": true
	   },
	   "outputs": [],
"source": [
"//Ex1.16\n",
"clc\n",
"ni = 2.5*(10^13) //intrinsic concentration\n",
"donor = 10^-7 //donor atoms\n",
"ND = 4.41*(10^22)*(10^-7) //donor atom concentration\n",
"e = 1.6*(10^-19) //electron charge\n",
"micro_n = 3800; micro_p = 1800 //charge mobility\n",
"disp('ni ='+string(ni)+' /cm.cube')\n",
"disp('donor = '+string(donor))\n",
"disp('n = ND ='+string(ND)+' /cm.cube')\n",
"disp('p = (ni^2)/ND = '+string((ni^2)/ND)+' /cm.cube') //hole concentration\n",
"disp('micro_n = 3800 cm.sq/V-s; micro_p = 1800 cm.sq/V-s')\n",
"sigma = ni*e*(micro_n+micro_p) //conductivity\n",
"disp('sigma = ni*e(micro_n + micro_p) = '+string(sigma)+'mho/cm')"
   ]
   }
,
{
		   "cell_type": "markdown",
		   "metadata": {},
		   "source": [
			"## Example 1.17: Carrier_concentration.sce"
		   ]
		  },
  {
"cell_type": "code",
	   "execution_count": null,
	   "metadata": {
	    "collapsed": true
	   },
	   "outputs": [],
"source": [
"//Ex1.17\n",
"clc\n",
"ni = 2.5*10^19 //intrinsic concentration\n",
"NA = 10^21 //acceptor atom concentration\n",
"disp('ni = '+string(ni)+' /m.cube')\n",
"disp('NA = '+string(NA)+' /m.cube ')\n",
"disp('np = (ni^2)/ NA ='+string((ni^2)/NA)+'e/m.cube') //electron concentration\n",
"//textbook has not calcutated for hole concentration"
   ]
   }
,
{
		   "cell_type": "markdown",
		   "metadata": {},
		   "source": [
			"## Example 1.18: Trivalent_Impurity.sce"
		   ]
		  },
  {
"cell_type": "code",
	   "execution_count": null,
	   "metadata": {
	    "collapsed": true
	   },
	   "outputs": [],
"source": [
"//Ex1.18\n",
"clc\n",
"micro_p = 1800 //hole mobility\n",
"rho_p = 1 //resistivity\n",
"e = 1.6*10^-19 //electorn charge\n",
"disp('micro_p ='+string(micro_p)+' cm.sq/V-s')\n",
"disp('rho_p = '+string(rho_p)+'ohm-cm')\n",
"disp('e = '+string(e)+'C')\n",
"disp('pp = 1/(e*micro_p*rho_p) = '+string(1/(e*micro_p*rho_p))+' holes/cm.cube') //number of trivalent impurity"
   ]
   }
,
{
		   "cell_type": "markdown",
		   "metadata": {},
		   "source": [
			"## Example 1.19: Pentavalent_Impurity.sce"
		   ]
		  },
  {
"cell_type": "code",
	   "execution_count": null,
	   "metadata": {
	    "collapsed": true
	   },
	   "outputs": [],
"source": [
"//Ex1.19\n",
"clc\n",
"micro_n = 1300 //eletron mobility\n",
"rho_n = 2 //resistivity\n",
"e = 1.6*10^-19 //electron charge\n",
"disp('micro_n ='+string(micro_n)+' cm.sq/V-s')\n",
"disp('rho_n = '+string(rho_n)+'ohm-cm')\n",
"disp('e'+string(e)+'C')\n",
"disp('nn = 1/(e*micro_n*rho_n) = '+string(1/(e*micro_n*rho_n))+' e/cm.cube') //number of pentavalent impurity\n",
""
   ]
   }
,
{
		   "cell_type": "markdown",
		   "metadata": {},
		   "source": [
			"## Example 1.1: Fusing_current.sce"
		   ]
		  },
  {
"cell_type": "code",
	   "execution_count": null,
	   "metadata": {
	    "collapsed": true
	   },
	   "outputs": [],
"source": [
"//Ex1.1\n",
"clc\n",
"disp('I = K(d^1.5)') //formula used for fusing current\n",
"d=0.0031\n",
"disp('d = '+string(d)+'inches') //initializing values of diameter\n",
"I1=10244*(d^1.5);I2=7585*(d^1.5); I3=5320*(d^1.5); I4=3148*(d^1.5); I5=1642*(d^1.5)  //calculation for fusing current\n",
"disp('for Copper, I = 10244*(d^1.5) = '+string(I1)+'Amp.')\n",
"disp('for Aluminum, I = 7585*(d^1.5) = '+string(I2)+'Amp.')\n",
"disp('for Silver, I = 5320*(d^1.5) = '+string(I3)+'Amp.')\n",
"disp('for Iron, I = 3148*(d^1.5) = '+string(I4)+'Amp.')\n",
"disp('for Tin, I = 1642*(d^1.5) = '+string(I5)+'Amp.')"
   ]
   }
,
{
		   "cell_type": "markdown",
		   "metadata": {},
		   "source": [
			"## Example 1.20: carrier_concentration_and_conductivity.sce"
		   ]
		  },
  {
"cell_type": "code",
	   "execution_count": null,
	   "metadata": {
	    "collapsed": true
	   },
	   "outputs": [],
"source": [
"//Ex1.20\n",
"clc\n",
"EGo = 1.1 //energy band gap\n",
"micro_n = 0.13 //electron mobility\n",
"micro_p = 0.05 //hole mobility\n",
"N = 3*10^25 //atom concentration\n",
"K = 1.38*10^-23 //Boltzmann constant\n",
"T = 300 //room temperature\n",
"e=1.6*10^-19//electron charge\n",
"disp('EGo = '+string(EGo)+'eV = '+string(EGo*e)+'J')\n",
"disp('micro_n = '+string(micro_n)+' m.sq/V-s')\n",
"disp('micro_p = '+string(micro_p)+'m.sq/V-s')\n",
"disp('N = '+string(N)+' /m.cube')\n",
"disp('T = '+string(T)+'degree_K')\n",
"disp('K = '+string(K)+'J/K')\n",
"disp('ni = N*exp(-(EGo/(2*T*K))) = '+string(N*exp(-(EGo*e/(2*T*K))))+' /m.cube') //intrinsic concentration\n",
"ni = N*exp(-(EGo*e/(2*T*K)))\n",
"disp('sigma = ni*e(micro_n+micro_p) = '+string(ni*e*(micro_n+micro_p))+'mho/m') //conductivity"
   ]
   }
,
{
		   "cell_type": "markdown",
		   "metadata": {},
		   "source": [
			"## Example 1.21: Volt_Equivalent_Temperature.sce"
		   ]
		  },
  {
"cell_type": "code",
	   "execution_count": null,
	   "metadata": {
	    "collapsed": true
	   },
	   "outputs": [],
"source": [
"//Ex1.21\n",
"clc\n",
"K = 1.38*10^-23 //Boltzmann constant\n",
"e = 1.6*10^-19 //electron charge\n",
"T = 300 //room temperature\n",
"disp('K = '+string(K)+' J/K')\n",
"disp('e = '+string(e)+'C')\n",
"disp('T = '+string(T)+'degree_K')\n",
"disp('VT = K*T/e = '+string(K*T/e)+'V') //volt-equivalent temperature"
   ]
   }
,
{
		   "cell_type": "markdown",
		   "metadata": {},
		   "source": [
			"## Example 1.2: Fusing_current.sce"
		   ]
		  },
  {
"cell_type": "code",
	   "execution_count": null,
	   "metadata": {
	    "collapsed": true
	   },
	   "outputs": [],
"source": [
"//Ex1.2\n",
"clc\n",
"disp('fusing current, I = K(d^1.5) Amp.')//formula used for fusing current\n",
"d=0.0201\n",
"disp('d = '+string(d)+'inches') //initializing value of diameter\n",
"I1=10244*(d^1.5);I2=7585*(d^1.5); I3=5320*(d^1.5); I4=3148*(d^1.5); I5=1642*(d^1.5)  //calculation for fusing current\n",
"disp('for Copper, I = 10244*(d^1.5) = '+string(I1)+'Amp.')\n",
"disp('for Aluminum, I = 7585*(d^1.5) = '+string(I2)+'Amp.')\n",
"disp('for Silver, I = 5320*(d^1.5) = '+string(I3)+'Amp.')\n",
"disp('for Iron, I = 3148*(d^1.5) = '+string(I4)+'Amp.')\n",
"disp('for Tin, I = 1642*(d^1.5) = '+string(I5)+'Amp.')\n",
"\n",
"\n",
"// note : calculation for fusing current of Iron is wrong."
   ]
   }
,
{
		   "cell_type": "markdown",
		   "metadata": {},
		   "source": [
			"## Example 1.3: Fusing_Current.sce"
		   ]
		  },
  {
"cell_type": "code",
	   "execution_count": null,
	   "metadata": {
	    "collapsed": true
	   },
	   "outputs": [],
"source": [
"//Ex1.3\n",
"clc\n",
"disp('fusing current, I = K(d^1.5) Amp.') //formula used for fusing current\n",
"disp('(a)') \n",
"d=0.0159\n",
"disp('d = '+string(d)+'inches') //initializing value of diameter\n",
"I1=10244*(d^1.5);I2=7585*(d^1.5); I3=5320*(d^1.5); I4=3148*(d^1.5); I5=1642*(d^1.5)  //calculation for fusing current\n",
"disp('for Copper, I = 10244*(d^1.5) = '+string(I1)+'Amp.')\n",
"disp('for Aluminum, I = 7585*(d^1.5) = '+string(I2)+'Amp.')\n",
"disp('for Silver, I = 5320*(d^1.5) = '+string(I3)+'Amp.')\n",
"disp('for Iron, I = 3148*(d^1.5) = '+string(I4)+'Amp.')\n",
"disp('for Tin, I = 1642*(d^1.5) = '+string(I5)+'Amp.')\n",
"\n",
"\n",
"disp('(b)')\n",
"d=0.0063\n",
"disp('d = '+string(d)+'inches') //initializing value of diameter\n",
"I1=10244*(d^1.5);I2=7585*(d^1.5); I3=5320*(d^1.5); I4=3148*(d^1.5); I5=1642*(d^1.5)  //calculation for fusing current\n",
"disp('for Copper, I = 10244*(d^1.5) = '+string(I1)+'Amp.')\n",
"disp('for Aluminum, I = 7585*(d^1.5) = '+string(I2)+'Amp.')\n",
"disp('for Silver, I = 5320*(d^1.5) = '+string(I3)+'Amp.')\n",
"disp('for Iron, I = 3148*(d^1.5) = '+string(I4)+'Amp.')\n",
"disp('for Tin, I = 1642*(d^1.5) = '+string(I5)+'Amp.')\n",
"\n",
"\n",
"disp('(c)')\n",
"d=0.0403\n",
"disp('d = '+string(d)+'inches') //initializing value of diameter\n",
"I1=10244*(d^1.5);I2=7585*(d^1.5); I3=5320*(d^1.5); I4=3148*(d^1.5); I5=1642*(d^1.5)  //calculation for fusing current\n",
"disp('for Copper, I = 10244*(d^1.5) = '+string(I1)+'Amp.')\n",
"disp('for Aluminum, I = 7585*(d^1.5) = '+string(I2)+'Amp.')\n",
"disp('for Silver, I = 5320*(d^1.5) = '+string(I3)+'Amp.')\n",
"disp('for Iron, I = 3148*(d^1.5) = '+string(I4)+'Amp.')\n",
"disp('for Tin, I = 1642*(d^1.5) = '+string(I5)+'Amp.')\n",
"\n",
"\n",
"disp('(d)')\n",
"d=0.0452\n",
"disp('d = '+string(d)+'inches') //initializing value of diameter\n",
"I1=10244*(d^1.5);I2=7585*(d^1.5); I3=5320*(d^1.5); I4=3148*(d^1.5); I5=1642*(d^1.5)  //calculation for fusing current\n",
"disp('for Copper, I = 10244*(d^1.5) = '+string(I1)+'Amp.')\n",
"disp('for Aluminum, I = 7585*(d^1.5) = '+string(I2)+'Amp.')\n",
"disp('for Silver, I = 5320*(d^1.5) = '+string(I3)+'Amp.')\n",
"disp('for Iron, I = 3148*(d^1.5) = '+string(I4)+'Amp.')\n",
"disp('for Tin, I = 1642*(d^1.5) = '+string(I5)+'Amp.')\n",
"\n",
"\n",
"disp('(e)')\n",
"d=0.0508\n",
"disp('d = '+string(d)+'inches') //initializing value of diameter\n",
"I1=10244*(d^1.5);I2=7585*(d^1.5); I3=5320*(d^1.5); I4=3148*(d^1.5); I5=1642*(d^1.5)  //calculation for fusing current\n",
"disp('for Copper, I = 10244*(d^1.5) = '+string(I1)+'Amp.')\n",
"disp('for Aluminum, I = 7585*(d^1.5) = '+string(I2)+'Amp.')\n",
"disp('for Silver, I = 5320*(d^1.5) = '+string(I3)+'Amp.')\n",
"disp('for Iron, I = 3148*(d^1.5) = '+string(I4)+'Amp.')\n",
"disp('for Tin, I = 1642*(d^1.5) = '+string(I5)+'Amp.')\n",
"\n",
"\n",
"disp('(f)')\n",
"d=0.162\n",
"disp('d = '+string(d)+'inches') //initializing value of diameter\n",
"I1=10244*(d^1.5);I2=7585*(d^1.5); I3=5320*(d^1.5); I4=3148*(d^1.5); I5=1642*(d^1.5)  //calculation for fusing current\n",
"disp('for Copper, I = 10244*(d^1.5) = '+string(I1)+'Amp.')\n",
"disp('for Aluminum, I = 7585*(d^1.5) = '+string(I2)+'Amp.')\n",
"disp('for Silver, I = 5320*(d^1.5) = '+string(I3)+'Amp.')\n",
"disp('for Iron, I = 3148*(d^1.5) = '+string(I4)+'Amp.')\n",
"disp('for Tin, I = 1642*(d^1.5) = '+string(I5)+'Amp.')\n",
"\n",
"\n",
"\n",
"// note : in part (e) ... calculation for fusing current of silver is wrong.\n",
"// note : in part (f) ... calculation for fusing current of Iron is wrong."
   ]
   }
,
{
		   "cell_type": "markdown",
		   "metadata": {},
		   "source": [
			"## Example 1.4: Resistance_of_wire.sce"
		   ]
		  },
  {
"cell_type": "code",
	   "execution_count": null,
	   "metadata": {
	    "collapsed": true
	   },
	   "outputs": [],
"source": [
"//Ex1.4\n",
"clc\n",
"A=0.5189*10^-6//wire cross sectional area\n",
"rho=1.725*10^-8//resistivity\n",
"l=100 //wire length\n",
"disp('A ='+string(A)+'merer square') \n",
"disp('rho ='+string(rho)+'ohm-m')\n",
"disp('l ='+string(l)+'m')\n",
"disp('R = rho*l/A = '+string(rho*l/A)+'ohm') //resistance"
   ]
   }
,
{
		   "cell_type": "markdown",
		   "metadata": {},
		   "source": [
			"## Example 1.5: Resistance_of_Copper_Wire.sce"
		   ]
		  },
  {
"cell_type": "code",
	   "execution_count": null,
	   "metadata": {
	    "collapsed": true
	   },
	   "outputs": [],
"source": [
"//Ex1.5\n",
"clc\n",
"A=0.2588*10^-6//wire cross-sectional area\n",
"rho=1.725*10^-8//resistivity\n",
"l=100 //wire length\n",
"disp('A ='+string(A)+'merer square')\n",
"disp('rho ='+string(rho)+'ohm-m')\n",
"disp('l ='+string(l)+'m')\n",
"disp('R = rho*l/A = '+string(rho*l/A)+'ohm') //resistance of wire"
   ]
   }
,
{
		   "cell_type": "markdown",
		   "metadata": {},
		   "source": [
			"## Example 1.6: Resistance_of_Tungsten_Wire.sce"
		   ]
		  },
  {
"cell_type": "code",
	   "execution_count": null,
	   "metadata": {
	    "collapsed": true
	   },
	   "outputs": [],
"source": [
"//Ex1.6\n",
"clc\n",
"R1 = 14//resistance at temperature T1 \n",
"alpha=0.005\n",
"T1=20;//initial temperature\n",
"T2=120 //final temperature\n",
"disp('R1 = '+string(R1)+ 'ohm; alpha = '+string(alpha)+'; T1 = '+string(T1)+'degreeC; T2 = '+string(T2)+'degreeC')\n",
"disp('R2 = R1(1+(alpha*(T1-T2))) = '+string(R1*(1+(alpha*(T2-T1))))+'ohm') //resistance at temperature T2"
   ]
   }
,
{
		   "cell_type": "markdown",
		   "metadata": {},
		   "source": [
			"## Example 1.7: Force_on_Electron.sce"
		   ]
		  },
  {
"cell_type": "code",
	   "execution_count": null,
	   "metadata": {
	    "collapsed": true
	   },
	   "outputs": [],
"source": [
"//EX1.7\n",
"clc\n",
"Ex=3;Ey=4;Ez=2//electric field\n",
"e=1.6*10^-19 //electorn charge\n",
"disp('E = 3ax + 4ay + 2az k V/m')\n",
"disp('e = 1.6*10^-19 C')\n",
"disp('F=eE = '+string(Ex*e*1000)+'ax + '+string(Ey*e*1000)+'ay + '+string(Ez*e*1000)+'az N') //force"
   ]
   }
,
{
		   "cell_type": "markdown",
		   "metadata": {},
		   "source": [
			"## Example 1.8: Electric_Field_applied_on_Electron.sce"
		   ]
		  },
  {
"cell_type": "code",
	   "execution_count": null,
	   "metadata": {
	    "collapsed": true
	   },
	   "outputs": [],
"source": [
"//Ex1.8\n",
"clc\n",
"F=0.1*10^-12//force applied\n",
"e = 1.6*10^-19//electron charge\n",
"disp('F= '+string(F)+'N ; e = '+string(e)+'C')\n",
"disp('E = F/e ='+string(F/e)+'V/m')//electric field"
   ]
   }
,
{
		   "cell_type": "markdown",
		   "metadata": {},
		   "source": [
			"## Example 1.9: Charge_in_Region.sce"
		   ]
		  },
  {
"cell_type": "code",
	   "execution_count": null,
	   "metadata": {
	    "collapsed": true
	   },
	   "outputs": [],
"source": [
"//Ex1.9\n",
"clc\n",
"F = 3*(10^-12) //force applied\n",
"E = 5*(10^-6)  //electric field\n",
"disp('F = '+string(F)+'N')\n",
"disp('E = '+string(E)+'V/m')\n",
"disp('Q= F/E = '+string(F/E)+'C') //chage\n",
""
   ]
   }
],
"metadata": {
		  "kernelspec": {
		   "display_name": "Scilab",
		   "language": "scilab",
		   "name": "scilab"
		  },
		  "language_info": {
		   "file_extension": ".sce",
		   "help_links": [
			{
			 "text": "MetaKernel Magics",
			 "url": "https://github.com/calysto/metakernel/blob/master/metakernel/magics/README.md"
			}
		   ],
		   "mimetype": "text/x-octave",
		   "name": "scilab",
		   "version": "0.7.1"
		  }
		 },
		 "nbformat": 4,
		 "nbformat_minor": 0
}
