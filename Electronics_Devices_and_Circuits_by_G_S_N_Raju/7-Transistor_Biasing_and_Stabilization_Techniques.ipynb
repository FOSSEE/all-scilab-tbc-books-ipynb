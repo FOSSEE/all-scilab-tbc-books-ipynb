{
"cells": [
 {
		   "cell_type": "markdown",
	   "metadata": {},
	   "source": [
       "# Chapter 7: Transistor Biasing and Stabilization Techniques"
	   ]
	},
{
		   "cell_type": "markdown",
		   "metadata": {},
		   "source": [
			"## Example 7.10: Stability_factor_of_self_bias_circuit.sce"
		   ]
		  },
  {
"cell_type": "code",
	   "execution_count": null,
	   "metadata": {
	    "collapsed": true
	   },
	   "outputs": [],
"source": [
"//Ex7_10\n",
"clc\n",
"delta_IC = 0.01*10^-3\n",
"delta_beta = 5\n",
"disp('delta_IC = '+string(delta_IC)+'A')//change of collector current\n",
"disp('delta_beta = '+string(delta_beta)+'A')//change in current gain\n",
"disp('S'''' = delta_IC/delta_beta = '+string(delta_IC/delta_beta))//stability"
   ]
   }
,
{
		   "cell_type": "markdown",
		   "metadata": {},
		   "source": [
			"## Example 7.11: Thermal_resistance_of_transistor.sce"
		   ]
		  },
  {
"cell_type": "code",
	   "execution_count": null,
	   "metadata": {
	    "collapsed": true
	   },
	   "outputs": [],
"source": [
"//Ex7_11\n",
"clc\n",
"TA = 30\n",
"TJ = 48\n",
"PD = 4\n",
"TR = (TJ - TA)/PD\n",
"disp('TA = '+string(TA)+'degreeC')//ambient temperature at which transistor is operated\n",
"disp('TJ = '+string(TJ)+'degreeC')//junction temperature\n",
"disp('PD = '+string(PD)+'W')//dissipated power\n",
"disp('TR = (TJ - TA)/PD = '+string(TR)+'degreeC/W')//termal resistance"
   ]
   }
,
{
		   "cell_type": "markdown",
		   "metadata": {},
		   "source": [
			"## Example 7.12: power_dissipation_of_transistor.sce"
		   ]
		  },
  {
"cell_type": "code",
	   "execution_count": null,
	   "metadata": {
	    "collapsed": true
	   },
	   "outputs": [],
"source": [
"//Ex7_12\n",
"clc\n",
"TA = 28\n",
"TJ = 50\n",
"TR = 10\n",
"PD = (TJ - TA)/TR\n",
"disp('TA = '+string(TA)+'degreeC')//ambient temperature at which transistor is operated\n",
"disp('TJ = '+string(TJ)+'degreeC')//junction temperature\n",
"disp('TR = '+string(TR)+'degreeC/W')//termal resistance\n",
"disp('PD = (TJ - TA)/TR = '+string(PD)+'W')//dissipated power"
   ]
   }
,
{
		   "cell_type": "markdown",
		   "metadata": {},
		   "source": [
			"## Example 7.1: Emitter_Resistance.sce"
		   ]
		  },
  {
"cell_type": "code",
	   "execution_count": null,
	   "metadata": {
	    "collapsed": true
	   },
	   "outputs": [],
"source": [
"//Ex7_1\n",
"clc\n",
"Ie = 6.0*10^-3\n",
"Ve = 1.1\n",
"Re = Ve/Ie\n",
"disp('Ie = '+string(Ie)+'A')//current flowing in emitter resistance\n",
"disp('Ve = '+string(Ve)+'V')//voltage drop across emitter resistance\n",
"disp('Re = '+string(Re)+'ohm')//emitter resistance"
   ]
   }
,
{
		   "cell_type": "markdown",
		   "metadata": {},
		   "source": [
			"## Example 7.2: Thermal_resistance_of_transistor.sce"
		   ]
		  },
  {
"cell_type": "code",
	   "execution_count": null,
	   "metadata": {
	    "collapsed": true
	   },
	   "outputs": [],
"source": [
"//Ex7_2\n",
"clc\n",
"TA = 30\n",
"TJ = 48\n",
"PD = 4\n",
"TR = (TJ - TA)/PD\n",
"disp('TA = '+string(TA)+'degreeC')//ambient temperature at which transistor is operated\n",
"disp('TJ = '+string(TJ)+'degreeC')//junction temperature\n",
"disp('PD = '+string(PD)+'W')//dissipated power\n",
"disp('TR = (TJ - TA)/PD = '+string(TR)+'degreeC/W')//termal resistance"
   ]
   }
,
{
		   "cell_type": "markdown",
		   "metadata": {},
		   "source": [
			"## Example 7.3: power_dissipation_of_transistor.sce"
		   ]
		  },
  {
"cell_type": "code",
	   "execution_count": null,
	   "metadata": {
	    "collapsed": true
	   },
	   "outputs": [],
"source": [
"//Ex7_3\n",
"clc\n",
"TA = 28\n",
"TJ = 50\n",
"TR = 10\n",
"PD = (TJ - TA)/TR\n",
"disp('TA = '+string(TA)+'degreeC')//ambient temperature at which transistor is operated\n",
"disp('TJ = '+string(TJ)+'degreeC')//junction temperature\n",
"disp('TR = '+string(TR)+'degreeC/W')//termal resistance\n",
"disp('PD = (TJ - TA)/TR = '+string(PD)+'W')//dissipated power"
   ]
   }
,
{
		   "cell_type": "markdown",
		   "metadata": {},
		   "source": [
			"## Example 7.4: Q_point_in_fixed_bias_circuit.sce"
		   ]
		  },
  {
"cell_type": "code",
	   "execution_count": null,
	   "metadata": {
	    "collapsed": true
	   },
	   "outputs": [],
"source": [
"//Ex7_4\n",
"clc\n",
"RC = 4*10^3\n",
"RB = 1.2*10^6\n",
"VCC = 9\n",
"VBE = .2\n",
"beta = 80\n",
"disp('RC = '+string(RC)+'ohm')//collector resistance\n",
"disp('RB = '+string(RB)+'ohm')//base resistance\n",
"disp('VCC = '+string(VCC)+'V')//collector supply voltage\n",
"disp('VBE = '+string(VBE)+'V')//voltage across base and emittter\n",
"disp('beta = '+string(beta))//current gain\n",
"IB = (VCC - VBE)/RB\n",
"disp('IB = (VCC - VBE)/RB = '+string(IB)+'A')//base current\n",
"IC = beta*IB\n",
"disp('IC = beta*IB = '+string(IC)+'A')//collector current\n",
"VCE = VCC - (IC*RC)\n",
"disp('VCE = VCC - (IC*RC) = '+string(VCE)+'V')//collector-emitter voltage\n",
"disp('The Q-point is('+string(VCE)+'V, '+string(IC)+'A)')//Q-point in fixed bias circuit"
   ]
   }
,
{
		   "cell_type": "markdown",
		   "metadata": {},
		   "source": [
			"## Example 7.5: claculate_base_resistance_to_obtain_optimum_operatin_point.sce"
		   ]
		  },
  {
"cell_type": "code",
	   "execution_count": null,
	   "metadata": {
	    "collapsed": true
	   },
	   "outputs": [],
"source": [
"//Ex7_5\n",
"clc\n",
"VBE = 0.6\n",
"beta = 100\n",
"disp('beta = '+string(beta))//current gain\n",
"disp('VBE = '+string(VBE)+'V')//voltage across base and emitter\n",
"//according to given circuit;\n",
"VCC = 12\n",
"RC = 5*10^3\n",
"disp('VCC = '+string(VCC)+'V')//collector supply voltage\n",
"disp('RC = '+string(RC)+'ohm')//collector resistance\n",
"// optimum operating point is half of (VCC/RC)\n",
"IC = (1/2)*(VCC/RC)\n",
"disp('IC = VCC/(2*RC) = '+string(IC)+'A')//collector current at optimum operating point\n",
"IB = IC/beta\n",
"disp('IB = IC/beta = '+string(IB)+'A')//base current\n",
"//from the closed circuit in the given fig., we have\n",
"disp('IB*RB = VCC - VBE')\n",
"RB = (VCC - VBE)/IB \n",
"disp('RB = (VCC - VBE)/IB = '+string(RB)+'ohm')//veriable resistance across base-collector as given in circuit\n",
""
   ]
   }
,
{
		   "cell_type": "markdown",
		   "metadata": {},
		   "source": [
			"## Example 7.6: Q_point_for_voltage_divider_base_bias_circuit.sce"
		   ]
		  },
  {
"cell_type": "code",
	   "execution_count": null,
	   "metadata": {
	    "collapsed": true
	   },
	   "outputs": [],
"source": [
"//Ex7_6\n",
"clc\n",
"RC = 2*10^3\n",
"beta = 100\n",
"VCC = 9\n",
"RB = 500*10^3\n",
"VBE = 0.6\n",
"disp('RC = '+string(RC)+'ohm')//collector resistance\n",
"disp('beta = '+string(beta))//current gain\n",
"disp('VCC = '+string(VCC)+'V')//collector supply voltage\n",
"disp('RB = '+string(RB)+'ohm')//base resistance\n",
"disp('VBE = '+string(VBE)+'V')//base-emitter voltage\n",
"IB = (VCC - VBE)/RB\n",
"disp('IB = (VCC - VBE)/RB = '+string(IB)+'Amp')//base current\n",
"IC = beta*IB\n",
"disp('IC = beta*IB = '+string(IC)+'A')//collector current\n",
"VCE = VCC - IC*RC\n",
"disp('VCE = VCC - IC*RC = '+string(VCE)+'V')//collector-emitter voltage\n",
"disp('operating point is('+string(VCE)+'V, '+string(IC)+'A)')"
   ]
   }
,
{
		   "cell_type": "markdown",
		   "metadata": {},
		   "source": [
			"## Example 7.7: Q_point_for_self_bias_circuit.sce"
		   ]
		  },
  {
"cell_type": "code",
	   "execution_count": null,
	   "metadata": {
	    "collapsed": true
	   },
	   "outputs": [],
"source": [
"//Ex7_7\n",
"clc\n",
"VCC = 12\n",
"RB = 300*10^3\n",
"RC = 1.5*10^3\n",
"Re = 2*10^3\n",
"beta = 100\n",
"disp('VCC = '+string(VCC)+'V')//collector supply voltage\n",
"disp('RB = '+string(RB)+'ohm')//base resistance\n",
"disp('RC = '+string(RC)+'ohm')//collector resistance\n",
"disp('Re = '+string(Re)+'ohm')//emitter resistance\n",
"disp('beta = '+string(beta))//current gain\n",
"IB = VCC/(RB + beta*Re)\n",
"disp('IB = VCC/(RB + beta*Re) = '+string(IB)+'A')//base current\n",
"IC = beta*IB\n",
"disp('IC = beta*IB = '+string(IC)+'A')//collector current\n",
"IE = IB + IC\n",
"disp('IE = IB + IC = '+string(IE)+'A')//emitter current\n",
"VCE = VCC - IC*RC - IE*Re\n",
"disp('VCE = VCC - IC*RC - IE*Re = '+string(VCE)+'V')//collector-emitter voltage\n",
"disp('quiescent point is('+string(VCE)+'V, '+string(IC)+'A)')"
   ]
   }
,
{
		   "cell_type": "markdown",
		   "metadata": {},
		   "source": [
			"## Example 7.8: Operating_point_and_stability_factor_of_silicon_transistor.sce"
		   ]
		  },
  {
"cell_type": "code",
	   "execution_count": null,
	   "metadata": {
	    "collapsed": true
	   },
	   "outputs": [],
"source": [
"//Ex7_8\n",
"clc\n",
"VCC = 9\n",
"RC = 3*10^3\n",
"RB = 500*10^3\n",
"beta = 100\n",
"VBE = 0.7\n",
"disp('VCC = '+string(VCC)+'V')//collector supply voltage\n",
"disp('RC = '+string(RC)+'ohm')//collector resistance\n",
"disp('RB = '+string(RB)+'ohm')//base resistance\n",
"disp('beta = '+string(beta))//current gain\n",
"disp('VBE = '+string(VBE)+'V')//emitter-base voltage\n",
"//for a Fixed Bais Circuit;\n",
"IB = (VCC - VBE)/RB\n",
"disp('IB = (VCC - VBE)/RB  = '+string(IB)+'A')//base current\n",
"IC = beta*IB\n",
"disp('IC = beta*IB = '+string(IC)+'A')//collector current\n",
"VCE = VCC - IC*RC\n",
"disp('VCE = VCC - IC*RC = '+string(VCE)+'V')//collector-emitter voltage\n",
"disp('operating point is('+string(VCE)+'V, '+string(IC)+'A)')\n",
"S = 1+beta\n",
"disp('S = 1 + beta = '+string(S))//stability factor\n",
"\n",
"\n",
"// NOTE : in the textbook author has taken beta = 100 for calculation \n",
"//        but has mention beta = 50 in Question\n",
"//        I am working with beta = 100."
   ]
   }
,
{
		   "cell_type": "markdown",
		   "metadata": {},
		   "source": [
			"## Example 7.9: Operating_point_and_stability_factor_of_self_bias_circuit.sce"
		   ]
		  },
  {
"cell_type": "code",
	   "execution_count": null,
	   "metadata": {
	    "collapsed": true
	   },
	   "outputs": [],
"source": [
"//Ex7_9\n",
"clc\n",
"R1 = 80*10^3\n",
"R2 = 25*10^3\n",
"Re = 2*10^3\n",
"Rc = 2*10^3\n",
"beta = 100\n",
"VCC = 12\n",
"VBE = 0.7\n",
"disp('R1 = '+string(R1)+'ohm')\n",
"disp('R2 = '+string(R2)+'ohm')\n",
"disp('Re = '+string(Re)+'ohm')//emitter resistance\n",
"disp('Rc = '+string(Rc)+'ohm')//collector resistance\n",
"disp('beta = '+string(beta))//current gain\n",
"disp('VCC = '+string(VCC)+'V')//collector supply voltage\n",
"disp('VBE = '+string(VBE)+'V')//base-emitter voltage\n",
"Rb = R1*R2/(R1+R2)\n",
"disp('Rb = R1*R2/(R1+R2) = '+string(Rb)+'ohm')//base resistance\n",
"VB = VCC*(R2/(R1+R2))\n",
"disp('VB = VCC(R2/(R1+R2)) = '+string(VB)+'V')//base voltage\n",
"IB = (VB - VBE)/(Rb*(1+((1+beta)*(Re/Rb))))\n",
"disp('IB = (VB - VBE)/(Rb*(1+((1+beta)*(Re/Rb))))')\n",
"disp('   = '+string(IB)+'A')//base current\n",
"IC = beta*IB\n",
"disp('IC = beta*IB = '+string(IC)+'A')//collector current\n",
"IE = IC\n",
"VCE = VCC - IC*Rc - IE*Re\n",
"disp('VCE = VCC - IC*Rc - IE*Re = '+string(VCE)+'V')//collector-emitter voltage\n",
"disp('operating point is('+string(VCE)+'V, '+string(IC)+'A)')\n",
"S = (1+beta)*[(1+Rb/Re)/(1+beta+Rb/Re)]\n",
"disp('S = (1+beta)*[(1+Rb/Re)*(1+beta+Rb/Re)] = '+string(S))\n",
"disp('S'' = -(beta/Re)/(1+beta+Rb/Re) = '+string((-beta/Re)/(1+beta+Rb/Re)))"
   ]
   }
],
"metadata": {
		  "kernelspec": {
		   "display_name": "Scilab",
		   "language": "scilab",
		   "name": "scilab"
		  },
		  "language_info": {
		   "file_extension": ".sce",
		   "help_links": [
			{
			 "text": "MetaKernel Magics",
			 "url": "https://github.com/calysto/metakernel/blob/master/metakernel/magics/README.md"
			}
		   ],
		   "mimetype": "text/x-octave",
		   "name": "scilab",
		   "version": "0.7.1"
		  }
		 },
		 "nbformat": 4,
		 "nbformat_minor": 0
}
