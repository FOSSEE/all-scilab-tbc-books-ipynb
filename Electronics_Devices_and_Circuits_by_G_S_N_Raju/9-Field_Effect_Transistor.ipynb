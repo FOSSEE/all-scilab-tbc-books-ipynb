{
"cells": [
 {
		   "cell_type": "markdown",
	   "metadata": {},
	   "source": [
       "# Chapter 9: Field Effect Transistor"
	   ]
	},
{
		   "cell_type": "markdown",
		   "metadata": {},
		   "source": [
			"## Example 9.10: Drain_Current_and_Voltage.sce"
		   ]
		  },
  {
"cell_type": "code",
	   "execution_count": null,
	   "metadata": {
	    "collapsed": true
	   },
	   "outputs": [],
"source": [
"//Ex9_10\n",
"clc\n",
"VGS = -2//voltage across gate and source\n",
"IDSS = 8*10^-3//maximum drain current\n",
"Vp = -6//pinch-off voltage\n",
"disp('IDSS = '+string(IDSS)+'A')\n",
"disp('Vp = '+string(Vp)+'V')\n",
"disp('VGS = '+string(VGS)+'V')\n",
"ID = IDSS*(1-(VGS/Vp))^2\n",
"disp('ID = IDSS*(1-(VGS/Vp))^2 = '+string(ID)+'A')//drainm current\n",
"RD = 2*10^3//drain resistance\n",
"VDD = 12//drain voltage\n",
"VDS = VDD - ID*RD\n",
"disp('VDD = '+string(VDD)+'V')//drain voltage\n",
"disp('RD = '+string(RD)+'ohm')//drain resistance\n",
"disp('VDS = VDD - ID*RD = '+string(VDS)+'V')//voltage across drain and source\n",
"\n",
"// note : notification used for saturated drain-soucre current is given wrong in question i.e., IDS but is right in solution i.e., IDSS."
   ]
   }
,
{
		   "cell_type": "markdown",
		   "metadata": {},
		   "source": [
			"## Example 9.1: Pinch_off_Voltage.sce"
		   ]
		  },
  {
"cell_type": "code",
	   "execution_count": null,
	   "metadata": {
	    "collapsed": true
	   },
	   "outputs": [],
"source": [
"//Ex9_1\n",
"clc\n",
"h = 5*10^-4      //channel height in centimeters\n",
"a= (1/2)*h       //channel width in centimeters\n",
"rho = 10         //resistivity in ohm_cm\n",
"sigma = 1/rho    //conductivity in mho/cm\n",
"micro_p = 500      //mobility in cm_sq/Vs\n",
"apsilent_r = 12  //relative permiability in F/cm of silicon\n",
"apsilent_not=8.854*10^-14  //permiability in vaccum in F/cm\n",
"disp('a = '+string(a)+'cm')\n",
"disp('sigma = '+string(sigma)+'mho/cm')\n",
"disp('micro_p = '+string(micro_p)+'cm-sq/Vs')\n",
"disp('apsilent_r = '+string(apsilent_r)+'F/cm')\n",
"Vp = (a^2)*sigma/(2*apsilent_r*apsilent_not*micro_p) // pinch off voltage for silicon p channel FET\n",
"disp('Vp = (a^2)*sigma/(2*apsilent_r*apsilent_not*micro_p)')\n",
"disp('Vp = '+string(Vp)+'V')"
   ]
   }
,
{
		   "cell_type": "markdown",
		   "metadata": {},
		   "source": [
			"## Example 9.2: Impedance_and_amplification_factor.sce"
		   ]
		  },
  {
"cell_type": "code",
	   "execution_count": null,
	   "metadata": {
	    "collapsed": true
	   },
	   "outputs": [],
"source": [
"//Ex9_2\n",
"clc\n",
"//calculating for conductance:\n",
"delta_ID = (4*10^-3)-(2*10^-3)//change in drain current in amperes\n",
"delta_VGS = 3-2//chande in gate-source voltage in volts\n",
"disp('delta_ID = '+string(delta_ID)+'A')\n",
"disp('delta_VGS = '+string(delta_VGS)+'V')\n",
"gm = delta_ID/delta_VGS//condutance at VDS = constant\n",
"disp('gm = delta_ID/delta_VGS')\n",
"disp('gm = '+string(gm)+' mho')\n",
"//calculating for drain resistance:\n",
"delta_ID = (3.2-3)*10^-3//change in drain current in amperes\n",
"delta_VDS = (12-8)//change in voltage across drai and source\n",
"disp('delta_ID = '+string(delta_ID)+'A')\n",
"disp('delta_VDS = '+string(delta_VDS)+'V')\n",
"rd = delta_VDS/delta_ID\n",
"disp('rd = delta_VDS/delta_ID')\n",
"disp('rd = '+string(rd)+' ohm')\n",
"//calculating for micro:\n",
"micro  = rd*gm//amplification factor\n",
"disp('micro = rd*gm')\n",
"disp('micro = '+string(micro))"
   ]
   }
,
{
		   "cell_type": "markdown",
		   "metadata": {},
		   "source": [
			"## Example 9.3: pinch_off_voltage.sce"
		   ]
		  },
  {
"cell_type": "code",
	   "execution_count": null,
	   "metadata": {
	    "collapsed": true
	   },
	   "outputs": [],
"source": [
"//Ex9_3\n",
"clc\n",
"disp('Vp = (a^2)*sigma/(2*apsilent*micro_p)')//piunch off voltage\n",
"h = 2*10^-4      //channel height in centimeters\n",
"a= h/2       //channel width in centimeters\n",
"rho = 1         //resistivity in ohm_cm\n",
"sigma = 1/rho    //conductivity in mho/cm\n",
"micro_p = 1800      //mobility in cm_sq/Vs\n",
"apsilent_r = 16  //relative permiability in F/cm of germanium\n",
"apsilent_not=8.854*10^-14  //permiability in vaccum in F/cm\n",
"disp('a = '+string(a)+'cm')\n",
"disp('rho = '+string(rho)+'ohm-cm')\n",
"disp('sigma = '+string(sigma)+'mho/cm')\n",
"disp('micro = '+string(micro_p)+'cm_sq/Vs')\n",
"disp('apsilent_r = '+string(apsilent_r)+'F/cm')\n",
"disp('apsilent_not = '+string(apsilent_not)+'F/cm')\n",
"Vp = (a^2)*sigma/(2*apsilent_r*apsilent_not*micro_p) // pinch off voltage for germanium p_channel FET\n",
"disp('Vp = '+string(Vp)+'V')"
   ]
   }
,
{
		   "cell_type": "markdown",
		   "metadata": {},
		   "source": [
			"## Example 9.4: Conductance_and_Resistance.sce"
		   ]
		  },
  {
"cell_type": "code",
	   "execution_count": null,
	   "metadata": {
	    "collapsed": true
	   },
	   "outputs": [],
"source": [
"//Ex9_4\n",
"clc\n",
"gm1= 2*10^-3; gm2 =4*10^-3//conductance\n",
"disp('gm1 = '+string(gm1)+'mho')\n",
"disp('gm2 = '+string(gm2)+'mho')\n",
"Effective_gm = gm1+gm2\n",
"disp('Effective gm = gm1 + gm2 = '+string(Effective_gm)+'mho')//resulant conductance\n",
"rd1 = 20*10^3; rd2 = 30*10^3//resistances\n",
"Effective_rd = (rd1*rd2)/(rd1+rd2)\n",
"disp('rd1 = '+string(rd1)+'ohm')\n",
"disp('rd2 = '+string(rd2)+'ohm')\n",
"disp('Effective rd = (rd1*rd2)/(rd1+rd2) = '+string(Effective_rd)+'ohm')//resulant resistance\n",
"\n",
"\n",
""
   ]
   }
,
{
		   "cell_type": "markdown",
		   "metadata": {},
		   "source": [
			"## Example 9.5: Resistance.sce"
		   ]
		  },
  {
"cell_type": "code",
	   "execution_count": null,
	   "metadata": {
	    "collapsed": true
	   },
	   "outputs": [],
"source": [
"//Ex9_5\n",
"clc\n",
"VGS = 4// voltage applied to gate terminal\n",
"IG = 2*10^-9//current flowing in gate\n",
"RGS = VGS/IG\n",
"disp('VGs = '+string(VGS)+'V')\n",
"disp('IG = '+string(IG)+'A')\n",
"disp('RGS = VGS/IG = '+string(RGS)+'ohm')//resistance brtween gate and source"
   ]
   }
,
{
		   "cell_type": "markdown",
		   "metadata": {},
		   "source": [
			"## Example 9.6: Voltage.sce"
		   ]
		  },
  {
"cell_type": "code",
	   "execution_count": null,
	   "metadata": {
	    "collapsed": true
	   },
	   "outputs": [],
"source": [
"//Ex9_6\n",
"clc\n",
"Vp = -4//pinch off voltage\n",
"ID = 4*10^-3//drain current\n",
"IDSS = 6*10^-3//maximum drain current\n",
"disp('Vp = '+string(Vp)+'V')\n",
"disp('ID = '+string(ID)+'A')\n",
"disp('IDSS = '+string(IDSS)+'A')\n",
"VGS = abs(Vp)*((ID/IDSS)^.5-1)\n",
"disp('VGS = Vp*((ID/IDSS)^.5-1) = '+string(VGS)+'V')//voltage across gate and source\n",
""
   ]
   }
,
{
		   "cell_type": "markdown",
		   "metadata": {},
		   "source": [
			"## Example 9.7: Amplification_Factor.sce"
		   ]
		  },
  {
"cell_type": "code",
	   "execution_count": null,
	   "metadata": {
	    "collapsed": true
	   },
	   "outputs": [],
"source": [
"//Ex9_7\n",
"clc\n",
"//parameters of JFET 1:\n",
"rd1 = 20*10^3//resistance\n",
"gm1 = 3*10^-3//conductance\n",
"disp('rd1 = '+string(rd1)+'ohm')\n",
"disp('gm1 = '+string(gm1)+'mho')\n",
"//parameters of JFET 2:\n",
"rd2 = 40*10^3//resistance\n",
"gm2 = 4*10^-3//conductance\n",
"disp('rd2 = '+string(rd2)+'ohm')\n",
"disp('gm2 = '+string(gm2)+'mho')\n",
"//the given JFETs are connected in parallel manner\n",
"micro = [(rd1*rd2*gm1)+(rd1*rd2*gm2)]/(rd1+rd2)\n",
"disp('micro = (rd1*rd2*gm1)+(rd1*rd2*gm2)/(rd1+rd2) = '+string(micro))//amplification factor"
   ]
   }
,
{
		   "cell_type": "markdown",
		   "metadata": {},
		   "source": [
			"## Example 9.8: Current_and_Voltage.sce"
		   ]
		  },
  {
"cell_type": "code",
	   "execution_count": null,
	   "metadata": {
	    "collapsed": true
	   },
	   "outputs": [],
"source": [
"//Ex9_8\n",
"clc\n",
"//according to the given figure in the textbook for problem 8 in chapter 9:\n",
"VGS = -2//voltage across gate and source\n",
"IDSS = 6*10^-3//maximum drain current\n",
"Vp = -6//pinch-off voltage\n",
"disp('IDSS = '+string(IDSS)+'A')\n",
"disp('Vp = '+string(Vp)+'V')\n",
"disp('VGS = '+string(VGS)+'V')\n",
"ID = IDSS*(1-(VGS/Vp))^2\n",
"disp('ID = IDSS*(1-(VGS/Vp))^2 = '+string(ID)+'A')//drainm current\n",
"Rd = 2*10^3//drain resistance\n",
"VDD = 9//drain voltage\n",
"VDS = VDD - ID*Rd\n",
"disp('VDD = '+string(VDD)+'V')//drain voltage\n",
"disp('Rd = '+string(Rd)+'ohm')//drain resistance\n",
"disp('VDS = VDD - ID*Rd = '+string(VDS)+'V')//voltage across drain and source"
   ]
   }
,
{
		   "cell_type": "markdown",
		   "metadata": {},
		   "source": [
			"## Example 9.9: Drain_Voltage_and_Current.sce"
		   ]
		  },
  {
"cell_type": "code",
	   "execution_count": null,
	   "metadata": {
	    "collapsed": true
	   },
	   "outputs": [],
"source": [
"//Ex9_9\n",
"clc\n",
"Vp = -4//pinch off voltage\n",
"VGS = -1.5//gate source voltage\n",
"VDS_minimum = VGS - Vp//minimum VDS for Pinch Off voltage\n",
"disp('Vp = '+string(Vp)+'V')\n",
"disp('VGS = '+string(VGS)+'V')\n",
"disp('VDS_minimum = VGS - Vp = '+string(VDS_minimum)+'V')\n",
"IDSS = 6*10^-3//maximum drain current\n",
"ID = IDSS*(1-(VGS/Vp))^2//drain current at VGS = 0V\n",
"disp('IDSS = '+string(IDSS)+'A')\n",
"disp('ID = IDSS*(1-(VGS/Vp))^2 = '+string(ID)+'A')"
   ]
   }
],
"metadata": {
		  "kernelspec": {
		   "display_name": "Scilab",
		   "language": "scilab",
		   "name": "scilab"
		  },
		  "language_info": {
		   "file_extension": ".sce",
		   "help_links": [
			{
			 "text": "MetaKernel Magics",
			 "url": "https://github.com/calysto/metakernel/blob/master/metakernel/magics/README.md"
			}
		   ],
		   "mimetype": "text/x-octave",
		   "name": "scilab",
		   "version": "0.7.1"
		  }
		 },
		 "nbformat": 4,
		 "nbformat_minor": 0
}
