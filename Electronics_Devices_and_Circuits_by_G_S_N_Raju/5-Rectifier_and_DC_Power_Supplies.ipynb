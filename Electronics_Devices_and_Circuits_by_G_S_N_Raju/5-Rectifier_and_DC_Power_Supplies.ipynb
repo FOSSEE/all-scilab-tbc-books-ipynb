{
"cells": [
 {
		   "cell_type": "markdown",
	   "metadata": {},
	   "source": [
       "# Chapter 5: Rectifier and DC Power Supplies"
	   ]
	},
{
		   "cell_type": "markdown",
		   "metadata": {},
		   "source": [
			"## Example 5.11: Half_wave_rectificatio.sce"
		   ]
		  },
  {
"cell_type": "code",
	   "execution_count": null,
	   "metadata": {
	    "collapsed": true
	   },
	   "outputs": [],
"source": [
"//Ex5_11\n",
"clc\n",
"Rf = 10\n",
"RL = 150\n",
"eta_r = 40.6/(1+Rf/RL)\n",
"disp('Rf = '+string(Rf)+'ohm')//forward resistance\n",
"disp('RL = '+string(RL)+'ohm')//load resistance\n",
"disp('eta_r = 40.6/(1+Rf/RL) = '+string(eta_r)+'%')//rectification efficiency"
   ]
   }
,
{
		   "cell_type": "markdown",
		   "metadata": {},
		   "source": [
			"## Example 5.12: Full_wave_rectificatio.sce"
		   ]
		  },
  {
"cell_type": "code",
	   "execution_count": null,
	   "metadata": {
	    "collapsed": true
	   },
	   "outputs": [],
"source": [
"//Ex5_12\n",
"clc\n",
"Rf = 12.5\n",
"RL = 100\n",
"eta_r = 80.1/(1+Rf/RL)\n",
"disp('Rf = '+string(Rf)+'ohm')//forward resistance\n",
"disp('RL = '+string(RL)+'ohm')//load resistance\n",
"disp('eta_r = 80.1/(1+Rf/RL) = '+string(eta_r)+'%')//rectification efficiency"
   ]
   }
,
{
		   "cell_type": "markdown",
		   "metadata": {},
		   "source": [
			"## Example 5.13: Bridge_Rectifier.sce"
		   ]
		  },
  {
"cell_type": "code",
	   "execution_count": null,
	   "metadata": {
	    "collapsed": true
	   },
	   "outputs": [],
"source": [
"//Ex5_13\n",
"clc\n",
"Vdc = 32\n",
"Vm = %pi*Vdc/2\n",
"Vrms = Vm/(2^.5)\n",
"PIV = Vm\n",
"disp('Vdc = '+string(Vdc)+'V')//D.C. voltage\n",
"disp('Vm = pi*Vdc/2 = '+string(Vm)+'V')//peak voltage\n",
"disp('Vrms = Vm/(2^.5) = '+string(Vrms)+'V')//rms voltage\n",
"disp('PIV = '+string(PIV)+'V')//peak inverse voltage\n",
"\n",
"\n",
"// note : value calculated for Vrms in the textbook is wrong."
   ]
   }
,
{
		   "cell_type": "markdown",
		   "metadata": {},
		   "source": [
			"## Example 5.14: Ripple_Voltage.sce"
		   ]
		  },
  {
"cell_type": "code",
	   "execution_count": null,
	   "metadata": {
	    "collapsed": true
	   },
	   "outputs": [],
"source": [
"//Ex5_14\n",
"clc\n",
"C = 10*10^-3\n",
"f = 50\n",
"Idc = 200*10^-3\n",
"Vr = Idc/(2*f*C)\n",
"disp('C = '+string(C)+'F')//circuit capacitance\n",
"disp('f = '+string(f)+'Hz')//operating frequency\n",
"disp('Idc = '+string(Idc)+'A')//D.C. current\n",
"disp('Vr = Idc/(2*f*C) = '+string(Vr)+'V')//ripple voltage"
   ]
   }
,
{
		   "cell_type": "markdown",
		   "metadata": {},
		   "source": [
			"## Example 5.15: Ripple_factor_and_DC_current_and_load_resistance.sce"
		   ]
		  },
  {
"cell_type": "code",
	   "execution_count": null,
	   "metadata": {
	    "collapsed": true
	   },
	   "outputs": [],
"source": [
"//Ex5_15\n",
"clc\n",
"C = 600*10^-6\n",
"T = 20*10^-3\n",
"Vr = 1.2\n",
"Vdc = 9\n",
"Vac =Vr/(2*(3^.5))\n",
"r = Vac/Vdc\n",
"Idc = (Vr*C)/(T/2)\n",
"RL = Vdc/Idc\n",
"disp('C = '+string(C)+'F')//rectifier capacitance\n",
"disp('T = '+string(T)+'s')//time\n",
"disp('Vr = '+string(Vr)+'V')//ripple voltage\n",
"disp('Vdc = '+string(Vdc)+'V')//D.C. voltage\n",
"disp('Vac = '+string(Vac)+'V')//A.C. voltage\n",
"disp('r = '+string(r))//ripple factor\n",
"disp('Idc = '+string(Idc)+'A')//D.C. current\n",
"disp('RL = '+string(RL)+'ohm')//load resistance"
   ]
   }
,
{
		   "cell_type": "markdown",
		   "metadata": {},
		   "source": [
			"## Example 5.16: Design_pi_section_full_wave_filter.sce"
		   ]
		  },
  {
"cell_type": "code",
	   "execution_count": null,
	   "metadata": {
	    "collapsed": true
	   },
	   "outputs": [],
"source": [
"//Ex5_16\n",
"clc\n",
"L = 1// assuming inductance\n",
"f = 50//operating frequency\n",
"XL = 2*%pi*f*L//inductance\n",
"RL = 100//assuming load resistance\n",
"r = .01//ripple factor\n",
"\n",
"//let, capacitances C1 = C2 = C\n",
"//that implies XC1 = XC2 = XC\n",
"disp('XL = 2*%pi*f*L = '+string(XL)+'ohm')\n",
"disp('r = '+string(r))\n",
"XC = ((r*8*XL*RL)/(2^.5))^.5//capacitive resistance\n",
"disp('XC = ((r*8*XL*RL)/(2^.5))^.5 = '+string(XC)+'ohm')\n",
"disp('XC = 1/wC = 1/(2*pi*f*C) = '+string(XC))\n",
"C = 1/(2*%pi*f*XC)//capacitance\n",
"disp('C = 1/(2*pi*f*XC) = '+string(C)+'F')\n",
"// thus, design parameters are : \n",
"disp('design parameters:')\n",
"disp('C1 = C2 = '+string(C)+'F')\n",
"disp('RL = '+string(RL)+'ohm')\n",
"disp('L = '+string(L)+'H')\n",
"\n",
"\n",
"// Note : the calculations done in the textbook for the given problem is wrong."
   ]
   }
,
{
		   "cell_type": "markdown",
		   "metadata": {},
		   "source": [
			"## Example 5.17: DC_voltage_and_current_and_Resistance.sce"
		   ]
		  },
  {
"cell_type": "code",
	   "execution_count": null,
	   "metadata": {
	    "collapsed": true
	   },
	   "outputs": [],
"source": [
"//Ex5_17\n",
"clc\n",
"f =50\n",
"disp('vi = 16 sin(wt)')\n",
"Vdc = 16\n",
"RL = 100\n",
"C1 = 2*10^-3\n",
"C2 = 2*10^-3\n",
"L = 1.0\n",
"Idc = Vdc/RL\n",
"XC1 = 1/(2*%pi*f*C1)\n",
"XC2 = 1/(2*%pi*f*C2)\n",
"XL = 2*%pi*f*L\n",
"r = ((2^.5)*XC1*XC2)/(8*XL*RL)\n",
"disp('L = '+string(L)+'H')//inductance\n",
"disp('C1 = '+string(C1)+'F')//capacitance 1\n",
"disp('C2 = '+string(C2)+'F')//capacitance 2\n",
"disp('RL = '+string(RL)+'ohm')//load resistance\n",
"disp('f = '+string(f)+'Hz')//operating frequency\n",
"disp('Vdc = '+string(Vdc)+'V')//d.c. voltage\n",
"disp('Idc = Vdc/RL = '+string(Idc)+'A')//d.c. current\n",
"disp('XL = 2*%pi*f*L = '+string(XL)+'ohm')//inductive resistance\n",
"disp('XC1 = 1/(2*%pi*f*C1) = '+string(XC1)+'ohm')//capacitive resistance due to capacitance 1\n",
"disp('XC2 = 1/(2*%pi*f*C2) = '+string(XC2)+'ohm')//capacitive resistance due to capacitance 2\n",
"disp('r = ((2^.5)*XC1*XC2)/(8*XL*RL) = '+string(r))//ripple factor\n",
""
   ]
   }
,
{
		   "cell_type": "markdown",
		   "metadata": {},
		   "source": [
			"## Example 5.1: Current_and_ripple_factor.sce"
		   ]
		  },
  {
"cell_type": "code",
	   "execution_count": null,
	   "metadata": {
	    "collapsed": true
	   },
	   "outputs": [],
"source": [
"//Ex5_\n",
"clc\n",
"Vm = 24\n",
"RL = 1.8*10^3\n",
"Im = Vm/RL\n",
"Irms = Im/2\n",
"Idc = Im/(%pi)\n",
"r = ((Irms/Idc)^2 - 1)^.5\n",
"disp('Vm = '+string(Vm)+'V')//applied voltage to half wave rectifier\n",
"disp('RL = '+string(RL)+'ohm')//load resistance\n",
"disp('Im = Vm/RL = '+string(Im)+'A')//peak current\n",
"disp('Irms = Im/2 = '+string(Irms)+'A')//rms current\n",
"disp('Idc = Im/pi = '+string(Idc)+'A')//D.C. current\n",
"disp('r ((Irms/Idc)^2 - 1)^.5 = '+string(r))//ripple factor"
   ]
   }
,
{
		   "cell_type": "markdown",
		   "metadata": {},
		   "source": [
			"## Example 5.2: DC_and_peak_voltage.sce"
		   ]
		  },
  {
"cell_type": "code",
	   "execution_count": null,
	   "metadata": {
	    "collapsed": true
	   },
	   "outputs": [],
"source": [
"//Ex5_2\n",
"clc \n",
"Vm = 18\n",
"\n",
"//in half wave circuit\n",
"Vdc = Vm/%pi\n",
"PIV = Vm\n",
"disp('Vm = '+string(Vm)+'V')//peak voltage to rectifier\n",
"disp('Vdc = Vm/pi = '+string(Vdc)+'V')//D.C. voltage\n",
"disp('PIV = Vm = '+string(PIV)+'V')//peak inverse voltage\n",
"\n",
"//in full wave circuit\n",
"Vdc = (2*Vm/%pi)\n",
"PIV = 2*Vm\n",
"disp('Vdc = 2*Vm/pi = '+string(Vdc)+'V')//D.C. voltage\n",
"disp('PIV = 2*Vm = '+string(PIV)+'V')//peak inverse voltage for center trapped\n",
"\n",
"//in full wave Bridge rectifier\n",
"disp('PIV = Vm = '+string(Vm)+'V')//peak inverse voltage"
   ]
   }
,
{
		   "cell_type": "markdown",
		   "metadata": {},
		   "source": [
			"## Example 5.3: Current_and_Voltage_and_Ripple_Factor.sce"
		   ]
		  },
  {
"cell_type": "code",
	   "execution_count": null,
	   "metadata": {
	    "collapsed": true
	   },
	   "outputs": [],
"source": [
"//Ex5_3\n",
"clc\n",
"Vm = 12\n",
"RL = 1.5*10^3\n",
"Im = Vm/RL\n",
"Irms = Im/(2^.5)\n",
"Idc = (2*Im/%pi)\n",
"r =(((Irms/Idc)^2)-1)^.5\n",
"disp('Vm = '+string(Vm)+'V')//peak voltage to full rectifier\n",
"disp('Im = Vm/RL = '+string(Im)+'A')//peak current\n",
"disp('Irms = Im/(2^0.5) = '+string(Irms)+'A')//rms current\n",
"disp('Idc = (2*Im/pi) = '+string(Idc)+'A')//D.C. current\n",
"disp('r = (((Irms/Idc)^2)-1)^0.5 = '+string(r))//ripple factor"
   ]
   }
,
{
		   "cell_type": "markdown",
		   "metadata": {},
		   "source": [
			"## Example 5.4: Power_and_Rectification_Efficiency.sce"
		   ]
		  },
  {
"cell_type": "code",
	   "execution_count": null,
	   "metadata": {
	    "collapsed": true
	   },
	   "outputs": [],
"source": [
"//Ex5_4\n",
"clc\n",
"Idc = 10*10^-3\n",
"Irms = 14*10^-3\n",
"RL = 1*10^3\n",
"Pdc = (Idc^2)*RL\n",
"Pac = (Irms^2)*RL\n",
"disp('Idc = '+string(Idc)+'A')//D.C. current\n",
"disp('Irms = '+string(Irms)+'A')//rms current\n",
"disp('RL = '+string(RL)+'ohm')//load resistance\n",
"disp('Pdc = (Idc^2)*RL = '+string(Pdc)+'W')//D.C. power \n",
"disp('Pac = (Irms^2)*RL = '+string(Pac)+'W')//A.C. power\n",
"disp('eta_r = Pdc/Pac = '+string(Pdc/Pac*100)+'%')//Rectification efficiency\n",
""
   ]
   }
,
{
		   "cell_type": "markdown",
		   "metadata": {},
		   "source": [
			"## Example 5.5: Voltage_and_Current_and_Power_and_percentage_regulation.sce"
		   ]
		  },
  {
"cell_type": "code",
	   "execution_count": null,
	   "metadata": {
	    "collapsed": true
	   },
	   "outputs": [],
"source": [
"//Ex5_5\n",
"clc\n",
"disp('v = 12 sin(wt)')\n",
"Vm = 12\n",
"RL = 1*10^3\n",
"Rf = 10\n",
"Im = Vm/(RL+Rf)\n",
"Idc =Im/%pi\n",
"Vdc = Idc*RL\n",
"Irms = Im/2\n",
"Pi = (Irms^2)*(RL+Rf)\n",
"VNL = Vm/%pi\n",
"VL = Idc*RL\n",
"Regulation = (VNL - VL)/VL\n",
"disp('Vm = '+string(Vm)+'V')//amplitude of applied signal\n",
"disp('RL = '+string(RL)+'ohm')//load resistance\n",
"disp('Rf = '+string(Rf)+'ohm')//forward resistance\n",
"disp('Im = Vm/(RL+Rf) = '+string(Im)+'A')//peak current\n",
"disp('Idc = Im/pi = '+string(Idc)+'A')//D.C. current\n",
"disp('Vdc = Idc*RL = '+string(Vdc)+'V')//D.C, voltage\n",
"disp('Pi = (Irms^2)*(RL+Rf)')\n",
"disp('Irms = Im/2 = '+string(Irms)+'A')//rms current\n",
"disp('Pi = '+string(Pi)+'W')//input power\n",
"disp('%Regulation = (VNL - VL)/VL')\n",
"disp('VNL = Vm/pi = '+string(VNL)+'V')//non load voltage\n",
"disp('VL = Idc*RL = '+string(VL)+'')//load voltage\n",
"disp('%Regulation = '+string(Regulation*100)+'%')//percentage regulation\n",
"\n",
"\n",
"//   NOTE : THE POWER CALCULATED IN THE TEXTBOOK IS WRONG."
   ]
   }
,
{
		   "cell_type": "markdown",
		   "metadata": {},
		   "source": [
			"## Example 5.6: Peak_Inverse_Voltage.sce"
		   ]
		  },
  {
"cell_type": "code",
	   "execution_count": null,
	   "metadata": {
	    "collapsed": true
	   },
	   "outputs": [],
"source": [
"//Ex5_6\n",
"clc\n",
"Vdc = 15\n",
"disp('Vdc = '+string(Vdc)+'V')//applied D.C. voltage\n",
"//Half Wave Rectifier\n",
"Vm = %pi*Vdc\n",
"PIV = Vm\n",
"disp('Vm = Vdc*pi = '+string(Vm)+'V')//D.C. voltage for half wave rectifier\n",
"disp('PIV = Vm = '+string(PIV)+'V')//peak inverse voltage for half wave rectifier\n",
"//Full Wave Rectifier\n",
"Vm = %pi*Vdc/2\n",
"PIV = 2*Vm\n",
"disp('Vm = Vdc*pi/2 = '+string(Vm)+'V')//D.C. voltage for full wave rectifier\n",
"disp('PIV = 2*Vm = '+string(PIV)+'V')//peak inverse voltage for full wave rectifier\n",
"//Bridge Rectifier\n",
"Vm = %pi*Vdc/2\n",
"PIV = Vm\n",
"disp('Vm = Vdc*pi/2 = '+string(Vm)+'V')//D.C. voltage for bridge rectifier\n",
"disp('PIV = Vm = '+string(PIV)+'V')//peak inverse voltage for bridge rectifier"
   ]
   }
],
"metadata": {
		  "kernelspec": {
		   "display_name": "Scilab",
		   "language": "scilab",
		   "name": "scilab"
		  },
		  "language_info": {
		   "file_extension": ".sce",
		   "help_links": [
			{
			 "text": "MetaKernel Magics",
			 "url": "https://github.com/calysto/metakernel/blob/master/metakernel/magics/README.md"
			}
		   ],
		   "mimetype": "text/x-octave",
		   "name": "scilab",
		   "version": "0.7.1"
		  }
		 },
		 "nbformat": 4,
		 "nbformat_minor": 0
}
