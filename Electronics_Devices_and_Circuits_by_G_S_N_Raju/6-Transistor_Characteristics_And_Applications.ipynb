{
"cells": [
 {
		   "cell_type": "markdown",
	   "metadata": {},
	   "source": [
       "# Chapter 6: Transistor Characteristics And Applications"
	   ]
	},
{
		   "cell_type": "markdown",
		   "metadata": {},
		   "source": [
			"## Example 6.10: common_emitter_current_gain.sce"
		   ]
		  },
  {
"cell_type": "code",
	   "execution_count": null,
	   "metadata": {
	    "collapsed": true
	   },
	   "outputs": [],
"source": [
"//Ex6_10\n",
"clc\n",
"ic = 2.5*10^-3\n",
"ib = 50*10^-6\n",
"disp('ib = '+string(ib)+'A')//base current\n",
"disp('ic = '+string(ic)+'A')//collector current\n",
"beta = ic/ib\n",
"disp('beta = ic/ib = '+string(beta))//current gain "
   ]
   }
,
{
		   "cell_type": "markdown",
		   "metadata": {},
		   "source": [
			"## Example 6.11: common_base_current_gain.sce"
		   ]
		  },
  {
"cell_type": "code",
	   "execution_count": null,
	   "metadata": {
	    "collapsed": true
	   },
	   "outputs": [],
"source": [
"//Ex6_11\n",
"clc\n",
"ic = 3*10^-3\n",
"ib = 3.08*10^-3\n",
"disp('ib = '+string(ib)+'A')//base current\n",
"disp('ic = '+string(ic)+'A')//collector current\n",
"alpha = ic/ib\n",
"disp('alpha = ie/ib = ic/ib = '+string(alpha))//current gain, assuming ie = ic "
   ]
   }
,
{
		   "cell_type": "markdown",
		   "metadata": {},
		   "source": [
			"## Example 6.12: peak_to_peak_collector_voltage_and_current.sce"
		   ]
		  },
  {
"cell_type": "code",
	   "execution_count": null,
	   "metadata": {
	    "collapsed": true
	   },
	   "outputs": [],
"source": [
"//Ex6_12\n",
"clc\n",
"//given, collector voltage swings between 11V to 4V\n",
"//thus,\n",
"vc = 11-4\n",
"disp('vc = 11 - 4 = '+string(vc)+'V')//PEAK-to-PEAK collector voltage\n",
"//given, collector current swings between 5mA to 1.4mA\n",
"//thus,\n",
"ic = (5 - 1.4)*10^-3\n",
"disp('ic = 5m - 1.4m = '+string(ic)+'A')//PEAK-to-PEAK collector current"
   ]
   }
,
{
		   "cell_type": "markdown",
		   "metadata": {},
		   "source": [
			"## Example 6.13: Current_gain_in_CE_amplifier.sce"
		   ]
		  },
  {
"cell_type": "code",
	   "execution_count": null,
	   "metadata": {
	    "collapsed": true
	   },
	   "outputs": [],
"source": [
"//Ex6_13\n",
"clc\n",
"ic = 4*10^-3\n",
"ib = 80*10^-6\n",
"disp('ib = '+string(ib)+'A')//base current\n",
"disp('ic = '+string(ic)+'A')//collector current\n",
"Ai = ic/ib\n",
"disp('Ai = ic/ib = '+string(Ai))//current gain in CE amplifier"
   ]
   }
,
{
		   "cell_type": "markdown",
		   "metadata": {},
		   "source": [
			"## Example 6.1: current_gain.sce"
		   ]
		  },
  {
"cell_type": "code",
	   "execution_count": null,
	   "metadata": {
	    "collapsed": true
	   },
	   "outputs": [],
"source": [
"//Ex6_1\n",
"clc\n",
"IB = 40*10^-6\n",
"IC = 3*10^-3\n",
"beta = IC/IB\n",
"alpha = beta/(1+beta)\n",
"disp('IB = '+string(IB)+'A')//base current \n",
"disp('IC = '+string(IC)+'A')//collector current\n",
"disp('beta = IC/IB = '+string(beta))//current gain in CE configuration\n",
"disp('alpha = beta/(1+beta) = '+string(alpha))//current gain in CB configuration"
   ]
   }
,
{
		   "cell_type": "markdown",
		   "metadata": {},
		   "source": [
			"## Example 6.2: Transistor_current_and_current_gain.sce"
		   ]
		  },
  {
"cell_type": "code",
	   "execution_count": null,
	   "metadata": {
	    "collapsed": true
	   },
	   "outputs": [],
"source": [
"//Ex6_2\n",
"clc\n",
"IE = 1.2*10^-3\n",
"beta = 60\n",
"alpha = beta/(1+beta)\n",
"disp('beta = '+string(beta))//current gain in CE configuration\n",
"disp('alpha = beta/(1+beta) = '+string(alpha))//current gain in CB configuraion\n",
"disp('IE = '+string(IE)+'A')//emitter current\n",
"IB = IE/(beta+1)\n",
"IC = beta*IB\n",
"disp('IB = IE/(beta+1) = '+string(IB)+'A')//base current\n",
"disp('IC = beta*IB = '+string(IC)+'A')//collector current"
   ]
   }
,
{
		   "cell_type": "markdown",
		   "metadata": {},
		   "source": [
			"## Example 6.3: Unknown_Resistance_in_transistor.sce"
		   ]
		  },
  {
"cell_type": "code",
	   "execution_count": null,
	   "metadata": {
	    "collapsed": true
	   },
	   "outputs": [],
"source": [
"//Ex6_3\n",
"clc\n",
"alpha = 0.98\n",
"VBE = 0.7\n",
"IE = -2*10^-3\n",
"Re = 100\n",
"RL = 3.3*10^3\n",
"disp('alpha = '+string(alpha))//current gain\n",
"disp('VBE = '+string(VBE)+'V')//voltage across base-emitter\n",
"disp('IE = '+string(IE)+'A')//emitter current\n",
"disp('Re = '+string(Re)+'ohm')//emitter resistance\n",
"disp('RL = '+string(RL)+'ohm')//load resistance\n",
"//now according to circuit given for the question in the textbook\n",
"IC = -alpha * IE\n",
"disp('IC = -alpha*IE = '+string(IC)+'A')//collector current\n",
"IB = -IC - IE\n",
"disp('IB = -IC - IE = '+string(IB)+'A')//base current\n",
"VBN = VBE+(abs(IE)*Re)\n",
"disp('VBN = VBE+(IE*Re) = '+string(VBN)+'V')//voltage across base and ground(N)\n",
"//ASSUMING... value for R1 = 30*10^3 ohm\n",
"R1 = 30*10^3\n",
"disp('R1 = '+string(R1)+'ohm')//resistancfe R1 as given in circuit\n",
"I = VBN/R1\n",
"disp('I = VBN/R1 = '+string(I)+'A')//current across resistance R1\n",
"//ASSUMING... VCC = 9V\n",
"VCC = 9//collector voltage\n",
"disp('VCC = '+string(VCC)+'V')\n",
"VCN = VCC - (RL*(IC+I+IB))\n",
"disp('VCN = VCC - RL*(IC+I+IB)) = '+string(VCN)+'V')//voltage across collector and ground(N)\n",
"// according to the given diagram for the question in the textbook, unknown resistance is,\n",
"R = (VCN - VBN)/(I+IB)\n",
"disp('R = (VCN - VBN)/(I+IB) = '+string(R)+'ohm')//unknown resistance"
   ]
   }
,
{
		   "cell_type": "markdown",
		   "metadata": {},
		   "source": [
			"## Example 6.4: transistor_current_and_resistance.sce"
		   ]
		  },
  {
"cell_type": "code",
	   "execution_count": null,
	   "metadata": {
	    "collapsed": true
	   },
	   "outputs": [],
"source": [
"//Ex6_4\n",
"clc\n",
"RC = 2.3*10^3\n",
"Re = 1*10^3\n",
"VCC = 12\n",
"VCE = 5\n",
"VBE = 0.7\n",
"beta = 50\n",
"disp('RC = '+string(RC)+'ohm')//collector resistance\n",
"disp('Re = '+string(Re)+'ohm')//emitter resistance\n",
"disp('VCC = '+string(VCC)+'V')//supply voltage\n",
"disp('VCE = '+string(VCE)+'V')//voltage across collector and emitter\n",
"disp('VBE = '+string(VBE)+'V')//voltage across base and emitter\n",
"disp('beta = '+string(beta))//current gain\n",
"// according to the given circuit, we have\n",
"IB = (VCC - VCE)/((beta+1)*[RC+Re])\n",
"disp('IB = (VCC - VCE)/((beta+1)*[RC+Re]) = '+string(IB)+'A')//base current\n",
"IC = beta*IB\n",
"disp('IC = '+string(IC)+'A')//collector current\n",
"//from the circuit we have,\n",
"Rt = (VCE-VBE)/IB\n",
"disp('Rt = (VCE - VBE)/IB = '+string(Rt)+'ohm')//resistance Rt as given in circuit"
   ]
   }
,
{
		   "cell_type": "markdown",
		   "metadata": {},
		   "source": [
			"## Example 6.5: Base_curre3nt_and_collector_resistance.sce"
		   ]
		  },
  {
"cell_type": "code",
	   "execution_count": null,
	   "metadata": {
	    "collapsed": true
	   },
	   "outputs": [],
"source": [
"//Ex6_5\n",
"clc\n",
"VBB = 1\n",
"VCC = 12\n",
"IC = 12*10^-3\n",
"VCE = 4\n",
"beta = 80\n",
"VBE = 0.7\n",
"disp('VBB = '+string(VBB)+'V')//base supply voltage\n",
"disp('VCC = '+string(VCC)+'V')//collector supply voltage\n",
"disp('IC = '+string(IC)+'A')//collector current\n",
"disp('VCE = '+string(VCE)+'V')//voltage across collector and emitter\n",
"disp('beta = '+string(beta))//current gain\n",
"disp('VBE = '+string(VBE)+'V')//voltage across base and emitter\n",
"IB = IC/beta\n",
"disp('IB = IC/beta = '+string(IB)+'A')//base current\n",
"RC = (VCC - VCE)/IC\n",
"disp('RC = (VCC - VCE)/IC = '+string(int(RC))+'ohm')//collector resistance"
   ]
   }
,
{
		   "cell_type": "markdown",
		   "metadata": {},
		   "source": [
			"## Example 6.6: Current_gain_and_base_reistance.sce"
		   ]
		  },
  {
"cell_type": "code",
	   "execution_count": null,
	   "metadata": {
	    "collapsed": true
	   },
	   "outputs": [],
"source": [
"//Ex6_6\n",
"clc\n",
"VCC = 9\n",
"VBB = 3\n",
"IC = 2*10^-3\n",
"beta = 50\n",
"VBE = 0.7\n",
"VCE = 4\n",
"disp('VCC = '+string(VCC)+'V')//collector supply voltage\n",
"disp('VBB = '+string(VBB)+'V')//base supply voltage\n",
"disp('IC = '+string(IC)+'A')//collector current\n",
"disp('beta = '+string(beta))//current gain\n",
"disp('VBE = '+string(VBE)+'V')//voltage across base and emitter\n",
"disp('VCE = '+string(VCE)+'V')//voltage across collector and emitter\n",
"IB = IC/beta\n",
"disp('IB = IC/beta = '+string(IB)+'A')//base current\n",
"RB = (VBB - VBE)/IB\n",
"disp('RB = (VBB - VBE)/IB = '+string(RB)+'ohm')//base resistance according to the given in circuit\n",
"\n",
"\n",
"// note: misprint in the question, author is asking for IB instead of beta, as beta is already provided.\n",
"// note: calculation done in the textbook for the problem is wrong."
   ]
   }
,
{
		   "cell_type": "markdown",
		   "metadata": {},
		   "source": [
			"## Example 6.7: base_current_and_transistor_resistance.sce"
		   ]
		  },
  {
"cell_type": "code",
	   "execution_count": null,
	   "metadata": {
	    "collapsed": true
	   },
	   "outputs": [],
"source": [
"//Ex6_7\n",
"clc\n",
"VCC = 12\n",
"VBB = 3\n",
"IC = 12*10^-3\n",
"VCE = 5.5\n",
"beta = 100\n",
"VBE = 0.7\n",
"Re = 50\n",
"disp('VCC = '+string(VCC)+'V')//collector supply voltage\n",
"disp('VBB = '+string(VBB)+'V')//base supply voltage\n",
"disp('IC = '+string(IC)+'A')//collector current\n",
"disp('VCE = '+string(VCE)+'V')//voltage across collector and emitter\n",
"disp('beta = '+string(beta))//current gain\n",
"disp('VBE = '+string(VBE)+'V')//voltage across base and emitter\n",
"disp('Re = '+string(Re)+'ohm')//emittter resistance\n",
"IB = IC/beta\n",
"disp('IB = IC/beta = '+string(IB)+'A')//base current\n",
"//from base-emitter circuit;\n",
"IE = IC+IB\n",
"Rb = (VBB - VBE - (IE*Re))/IB\n",
"disp('Rb = (VBB - VBE - IE*Re)/IB = '+string(Rb)+'ohm')//base resistance\n",
"//from collector-emitter circuit, we have\n",
"Rc = (VCC - VCE - (IE*Re))/(IC)\n",
"disp('Rc = (VCC - VCE - (IE*Re))/IC = '+string(Rc)+'ohm')//collector resistance\n",
"\n",
"\n",
"//NOTE : in textbook the notation used for base and emitter resistance in fig. and in calculation are different\n",
"\n",
"\n",
"\n",
"// note : calculation perform in the textbook is wrong for the above problem"
   ]
   }
,
{
		   "cell_type": "markdown",
		   "metadata": {},
		   "source": [
			"## Example 6.8: Base_and_current_current.sce"
		   ]
		  },
  {
"cell_type": "code",
	   "execution_count": null,
	   "metadata": {
	    "collapsed": true
	   },
	   "outputs": [],
"source": [
"//Ex6_8\n",
"clc\n",
"VBB = 10\n",
"RB = 500*10^3\n",
"VCC = 15\n",
"RC = 1.2*10^3\n",
"beta =100\n",
"disp('beta = '+string(beta))//current gain\n",
"disp('VBB = '+string(VBB)+'V')//base supply voltage\n",
"disp('RB = '+string(RB)+'ohm')//resistance across base terminal\n",
"disp('VCC = '+string(VCC)+'V')//collector supply voltage\n",
"disp('RC = '+string(RC)+'ohm')//resistance across collector terminal\n",
"IB = VBB/RB\n",
"disp('IB = VBB/RB = '+string(IB)+'A')//base current\n",
"IC = beta*IB\n",
"disp('IC = beta*IB = '+string(IC)+'A')//collector current\n",
"VCE = VCC - (IC*RC)\n",
"disp('VCE = VCC - IC*RC = '+string(VCE)+'V')//voltage across collector and emitter\n",
"\n",
"\n",
"// the answer printed in the textbook for VCE is wrong."
   ]
   }
,
{
		   "cell_type": "markdown",
		   "metadata": {},
		   "source": [
			"## Example 6.9: resistance_and_conductance_calculation_of_CC_configuration.sce"
		   ]
		  },
  {
"cell_type": "code",
	   "execution_count": null,
	   "metadata": {
	    "collapsed": true
	   },
	   "outputs": [],
"source": [
"//Ex6_9\n",
"clc\n",
"ic = 2*10^-3\n",
"ie = ic// as base current is negligble\n",
"VT = 25*10^-3\n",
"re = VT/ie\n",
"gm = ie/VT\n",
"disp('ic = '+string(ic)+'A')//collector current\n",
"disp('ie = '+string(ie)+'A')//emitter current with negligble base current\n",
"disp('VT = '+string(VT)+'V')//voltage at room temperature\n",
"disp('re = VT/ie = '+string(re)+'ohm')//emitter resistance\n",
"disp('gm = ie/VT = '+string(gm)+'mho')//conductance\n",
"rc = 100*10^3//slope of output characteristics\n",
"disp('rc = '+string(rc)+'ohm')\n",
"hoe = 1/rc\n",
"disp('hoe = 1/rc = '+string(hoe)+'Mho')//output conductance"
   ]
   }
],
"metadata": {
		  "kernelspec": {
		   "display_name": "Scilab",
		   "language": "scilab",
		   "name": "scilab"
		  },
		  "language_info": {
		   "file_extension": ".sce",
		   "help_links": [
			{
			 "text": "MetaKernel Magics",
			 "url": "https://github.com/calysto/metakernel/blob/master/metakernel/magics/README.md"
			}
		   ],
		   "mimetype": "text/x-octave",
		   "name": "scilab",
		   "version": "0.7.1"
		  }
		 },
		 "nbformat": 4,
		 "nbformat_minor": 0
}
