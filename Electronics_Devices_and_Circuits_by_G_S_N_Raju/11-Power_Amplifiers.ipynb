{
"cells": [
 {
		   "cell_type": "markdown",
	   "metadata": {},
	   "source": [
       "# Chapter 11: Power Amplifiers"
	   ]
	},
{
		   "cell_type": "markdown",
		   "metadata": {},
		   "source": [
			"## Example 11.10: Efficiency.sce"
		   ]
		  },
  {
"cell_type": "code",
	   "execution_count": null,
	   "metadata": {
	    "collapsed": true
	   },
	   "outputs": [],
"source": [
"//Ex11_10\n",
"clc\n",
"VCC = 18//collector voltage\n",
"Vp = 15//output peak voltage\n",
"RL = 12//load resistnce\n",
"disp('VCC = '+string(VCC)+'V')\n",
"disp('Vp = '+string(Vp)+'V')\n",
"disp('RL = '+string(RL)+'ohm')\n",
"Ip = Vp/RL//output peak current\n",
"Idc = (2/%pi)*Ip//input direct current\n",
"disp('Ip = Vp/RL = '+string(Ip)+'A')\n",
"disp('Idc = (2/%pi)*Ip = '+string(Idc)+'A')\n",
"Pi_dc = VCC*Idc//input power\n",
"disp('Pi_dc = VCC*Idc = '+string(Pi_dc)+'W')\n",
"Po_ac = (Vp^2)/(2*RL)//output power\n",
"disp('Po_ac = (Vp^2)/(2*RL) = '+string(Po_ac)+'W')\n",
"eta = Po_ac/Pi_dc//efficiency\n",
"disp('eta = Po_ac/Pi_dc = '+string(eta*100)+'%')"
   ]
   }
,
{
		   "cell_type": "markdown",
		   "metadata": {},
		   "source": [
			"## Example 11.11: Voltage_Gai.sce"
		   ]
		  },
  {
"cell_type": "code",
	   "execution_count": null,
	   "metadata": {
	    "collapsed": true
	   },
	   "outputs": [],
"source": [
"//Ex11_11\n",
"clc\n",
"Vop_p = 7//peak to peap output voltage\n",
"Vip_p = 100*10^-3//peak to peap input voltage\n",
"Av = Vop_p/Vip_p\n",
"disp('Av = output voltage/input voltage')\n",
"disp('   = '+string(Av))//voltage gain"
   ]
   }
,
{
		   "cell_type": "markdown",
		   "metadata": {},
		   "source": [
			"## Example 11.12: Power_Gai.sce"
		   ]
		  },
  {
"cell_type": "code",
	   "execution_count": null,
	   "metadata": {
	    "collapsed": true
	   },
	   "outputs": [],
"source": [
"//Ex11_12\n",
"clc\n",
"Ai = 50//current gain\n",
"Av = 70//voltage gain\n",
"disp('Ai = '+string(Ai))\n",
"disp('Av = '+string(Av))\n",
"Ap = Ai*Av//power gain\n",
"disp('Ap = Ai*Av = '+string(Ap))"
   ]
   }
,
{
		   "cell_type": "markdown",
		   "metadata": {},
		   "source": [
			"## Example 11.13: Power_Dissipated_At_Collector_Junction.sce"
		   ]
		  },
  {
"cell_type": "code",
	   "execution_count": null,
	   "metadata": {
	    "collapsed": true
	   },
	   "outputs": [],
"source": [
"//Ex11_13\n",
"clc\n",
"vc = 9//collector voltage\n",
"ic = 3*10^-3//collector current\n",
"Pd = vc*ic//power dissipated at collector junction\n",
"disp('vc = '+string(vc)+'V')\n",
"disp('ic = '+string(ic)+'A')\n",
"disp('Pd = vc*ic = '+string(Pd)+'W')"
   ]
   }
,
{
		   "cell_type": "markdown",
		   "metadata": {},
		   "source": [
			"## Example 11.14: Power_Efficiency.sce"
		   ]
		  },
  {
"cell_type": "code",
	   "execution_count": null,
	   "metadata": {
	    "collapsed": true
	   },
	   "outputs": [],
"source": [
"//Ex11_14\n",
"clc\n",
"Pac = 3.2*10^-3//output power\n",
"Pd = 27*10^-3//power dissipated collector junction\n",
"P_eta = Pac/Pd//power efficiency\n",
"disp('Pac = '+string(Pac)+'W')\n",
"disp('Pd = '+string(Pd)+'W')\n",
"disp('P_eta = Pac/Pd = '+string(P_eta*100)+'%')"
   ]
   }
,
{
		   "cell_type": "markdown",
		   "metadata": {},
		   "source": [
			"## Example 11.1: Efficiency.sce"
		   ]
		  },
  {
"cell_type": "code",
	   "execution_count": null,
	   "metadata": {
	    "collapsed": true
	   },
	   "outputs": [],
"source": [
"//Ex11_1\n",
"clc\n",
"VCC = 20//collector voltage\n",
"RL = 12//load resistance\n",
"disp('VCC = '+string(VCC)+'V')\n",
"disp('RL = '+string(RL)+'ohm')\n",
"Pi_dc = (VCC^2)/(2*RL)//input power\n",
"disp('Pi(dc) = (VCC^2)/(2*RL) = '+string(Pi_dc)+'W')\n",
"Po_ac = (VCC^2)/(8*RL)//output power\n",
"disp('Po_ac = (VCC^2)/(8*RL) = '+string(Po_ac)+'W')\n",
"eta = Po_ac/Pi_dc//efficiency\n",
"disp('eta = Po_ac/Pi_dc = '+string(eta*100)+'%')\n",
"\n",
"\n",
"// note : has modifed variables:\n",
"//        using Po_ac instead of Po(ac)\n",
"//        and   Pi_dc instead of Pi(dc).\n",
"\n",
"// note: there is a misprinting in the above problem given in the textbook \n",
"//       author want to ask for efficiency instead of frequency."
   ]
   }
,
{
		   "cell_type": "markdown",
		   "metadata": {},
		   "source": [
			"## Example 11.2: Power_Losses.sce"
		   ]
		  },
  {
"cell_type": "code",
	   "execution_count": null,
	   "metadata": {
	    "collapsed": true
	   },
	   "outputs": [],
"source": [
"//Ex11_2\n",
"clc\n",
"Po_ac = 64//output power\n",
"eta = 0.3//efficiency\n",
"Pi_dc = Po_ac/eta//input power\n",
"disp('Po_ac = '+string(Po_ac)+'W')\n",
"disp('eta = '+string(eta))\n",
"disp('Pi_dc = Po_ac/eta = '+string(Pi_dc)+'W')\n",
"power_losses = Pi_dc - Po_ac//power losses\n",
"disp('Power losses = Pi_dc - Po_ac = '+string(power_losses)+'W')\n",
"\n",
"// note : has modifed variables:\n",
"//        using Po_ac instead of Po(ac)\n",
"//        and   Pi_dc instead of Pi(dc)."
   ]
   }
,
{
		   "cell_type": "markdown",
		   "metadata": {},
		   "source": [
			"## Example 11.3: Second_Harmonic_Distortion.sce"
		   ]
		  },
  {
"cell_type": "code",
	   "execution_count": null,
	   "metadata": {
	    "collapsed": true
	   },
	   "outputs": [],
"source": [
"//Ex11_3\n",
"clc\n",
"VCEmax = 18// highest value for collector emitter voltage\n",
"VCEmin = 2// lowest value for collector emitter voltage\n",
"VQ = 9//operating point voltage\n",
"disp('VCEmin = '+string(VCEmin)+'V')\n",
"disp('VCEmax = '+string(VCEmax)+'V')\n",
"disp('VQ = '+string(VQ)+'V')\n",
"D2 = [(1/2)*(VCEmax + VCEmin) - VQ]/(VCEmax - VCEmin)*100//second harmonic distortion\n",
"disp('D2 = [(1/2)*(VCEmax + VCEmin) - VQ]/(VCEmax - VCEmin)*100')\n",
"disp('   ='+string(D2)+'%')\n",
"\n",
"// note : for above problem there is a misprint for the formula given in solution in the textbook"
   ]
   }
,
{
		   "cell_type": "markdown",
		   "metadata": {},
		   "source": [
			"## Example 11.4: Total_Harmonic_Distortion.sce"
		   ]
		  },
  {
"cell_type": "code",
	   "execution_count": null,
	   "metadata": {
	    "collapsed": true
	   },
	   "outputs": [],
"source": [
"//Ex11_4\n",
"clc\n",
"//according to the given eqution for output current, we have:\n",
"I1 = 5.0\n",
"I2 = 0.9\n",
"I3 = 0.6\n",
"I4 = 0.3\n",
"I5 = 0.01\n",
"D2 = I2/I1// second harmonic distortion\n",
"D3 = I3/I1//third harmonic distortion\n",
"D4 = I4/I1//fourth harmonic distortion\n",
"D5 = I5/I1//fifth harmonic distortion\n",
"disp('I1 = '+string(I1)+'A')\n",
"disp('I2 = '+string(I2)+'A')\n",
"disp('I3 = '+string(I3)+'A')\n",
"disp('I4 = '+string(I4)+'A')\n",
"disp('I5 = '+string(I5)+'A')\n",
"disp('D2 = I2/I1 = '+string(D2))\n",
"disp('D3 = I3/I1 = '+string(D3))\n",
"disp('D4 = I4/I1 = '+string(D4))\n",
"disp('D5 = I5/I1 = '+string(D5))\n",
"D = [(D2^2)+(D3^2)+(D4^2)+(D5^2)]^(1/2)//total harmonic distortion\n",
"disp('D = [(D2^2)+(D3^2)+(D4^2)+(D5^2)]^(1/2) = '+string(D*100)+'%')"
   ]
   }
,
{
		   "cell_type": "markdown",
		   "metadata": {},
		   "source": [
			"## Example 11.5: Amplifier_Efficiency.sce"
		   ]
		  },
  {
"cell_type": "code",
	   "execution_count": null,
	   "metadata": {
	    "collapsed": true
	   },
	   "outputs": [],
"source": [
"//Ex11_5\n",
"clc\n",
"VCC = 9//collector voltage\n",
"Vp = 5//output peak voltage\n",
"VQ = VCC//operating point\n",
"VCEmax = VQ + Vp// maximum value of collector emitter voltage\n",
"VCEmin = VQ - Vp// minimum value of collector emitter voltage\n",
"disp('VCC = '+string(VCC)+'V')\n",
"disp('Vp = '+string(Vp)+'V')\n",
"disp('VQ = VCC = '+string(VQ)+'V')\n",
"disp('VCEmax = VQ + Vp = '+string(VCEmax)+'V')\n",
"disp('VCEmin = VQ - Vp = '+string(VCEmin)+'V')\n",
"eta = 50*[(VCEmax - VCEmin)/(VCEmax + VCEmin)]//amplifier efficiency\n",
"disp('eta = 50*[(VCEmax - VCEmin)/(VCEmax + VCEmin)] = '+string(eta)+'%')"
   ]
   }
,
{
		   "cell_type": "markdown",
		   "metadata": {},
		   "source": [
			"## Example 11.6: Efficiency.sce"
		   ]
		  },
  {
"cell_type": "code",
	   "execution_count": null,
	   "metadata": {
	    "collapsed": true
	   },
	   "outputs": [],
"source": [
"//Ex11_6\n",
"clc\n",
"VCC = 20//collector voltage\n",
"RL = 10//load resistance\n",
"disp('VCC = '+string(VCC)+'V')\n",
"disp('RL = '+string(RL)+'ohm')\n",
"Pi_dc = (VCC^2)/(RL)//input power\n",
"disp('Pi(dc) = (VCC^2)/(RL) = '+string(Pi_dc)+'W')\n",
"Po_ac = (VCC^2)/(2*RL)//output power\n",
"disp('Po_ac = (VCC^2)/(2*RL) = '+string(Po_ac)+'W')\n",
"eta = Po_ac/Pi_dc//efficiency\n",
"disp('eta = Po_ac/Pi_dc = '+string(eta*100)+'%')\n",
"\n",
"\n",
"// note : has modifed variables:\n",
"//        using Po_ac instead of Po(ac)\n",
"//        and   Pi_dc instead of Pi(dc).\n",
""
   ]
   }
,
{
		   "cell_type": "markdown",
		   "metadata": {},
		   "source": [
			"## Example 11.7: Turns_Ratio.sce"
		   ]
		  },
  {
"cell_type": "code",
	   "execution_count": null,
	   "metadata": {
	    "collapsed": true
	   },
	   "outputs": [],
"source": [
"//Ex11_7\n",
"clc\n",
"RL = 3.6*10^3//output impedence of power amplifier\n",
"RL_dash = 4//resistance of speaker\n",
"n = (RL/RL_dash)^.5//turns ratio\n",
"disp('RL = '+string(RL)+'ohm') \n",
"disp('RL_dash = '+string(RL_dash)+'ohm') \n",
"disp('n = RL/RL_dash = '+string(n)) \n",
"disp('turn ratio = '+string((numer(n)))+': '+string(denom(n)))"
   ]
   }
,
{
		   "cell_type": "markdown",
		   "metadata": {},
		   "source": [
			"## Example 11.8: Amplifier_Efficiency.sce"
		   ]
		  },
  {
"cell_type": "code",
	   "execution_count": null,
	   "metadata": {
	    "collapsed": true
	   },
	   "outputs": [],
"source": [
"//Ex11_8\n",
"clc\n",
"VCC = 15//collector voltage\n",
"Vp = 12//output peak voltage\n",
"disp('VCC = '+string(VCC)+'V')\n",
"disp('Vp = '+string(Vp)+'V')\n",
"eta = 78.5*(Vp/VCC)//amplifier efficiency\n",
"disp('eta = 78.5*(Vp/VCC) = '+string(eta)+'%')"
   ]
   }
,
{
		   "cell_type": "markdown",
		   "metadata": {},
		   "source": [
			"## Example 11.9: Efficiency.sce"
		   ]
		  },
  {
"cell_type": "code",
	   "execution_count": null,
	   "metadata": {
	    "collapsed": true
	   },
	   "outputs": [],
"source": [
"//Ex11_9\n",
"clc\n",
"VCC = 25//collector voltage\n",
"Vi = 9//inout rms voltage\n",
"RL = 10//load resistnce\n",
"Vi_peak = 1.414*Vi//input peak voltage\n",
"Vo = Vi_peak//output peak voltage\n",
"Po_ac = (Vo^2)/(2*RL)//output power\n",
"Io = Vo/RL//output current\n",
"IC = (2/%pi)*Io//collector current\n",
"Pi_dc = VCC*IC//input power\n",
"eta = Po_ac/Pi_dc//efficiency\n",
"disp('VCC = '+string(VCC)+'V')\n",
"disp('Vi = '+string(Vi)+'V')\n",
"disp('RL = '+string(RL)+'ohm')\n",
"disp('Vi_peak = (2^2)Vi = '+string(Vi_peak)+'V')\n",
"disp('Vo = Vi_peak = '+string(Vo)+'V')\n",
"disp('Po_ac = (Vo^2)/(2*RL) = '+string(Po_ac)+'W')\n",
"disp('Io = Vo/RL = '+string(Io)+'A')\n",
"disp('IC = (2/%pi)*Io = '+string(IC)+'A')\n",
"disp('Pi_dc = VCC*IC = '+string(Pi_dc)+'W')\n",
"disp('eta = Po_ac/Pi_dc = '+string(eta*100)+'%')"
   ]
   }
],
"metadata": {
		  "kernelspec": {
		   "display_name": "Scilab",
		   "language": "scilab",
		   "name": "scilab"
		  },
		  "language_info": {
		   "file_extension": ".sce",
		   "help_links": [
			{
			 "text": "MetaKernel Magics",
			 "url": "https://github.com/calysto/metakernel/blob/master/metakernel/magics/README.md"
			}
		   ],
		   "mimetype": "text/x-octave",
		   "name": "scilab",
		   "version": "0.7.1"
		  }
		 },
		 "nbformat": 4,
		 "nbformat_minor": 0
}
