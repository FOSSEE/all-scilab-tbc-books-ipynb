{
"cells": [
 {
		   "cell_type": "markdown",
	   "metadata": {},
	   "source": [
       "# Chapter 4: JUNCTIONS IN SEMICONDUCTORS PN DIODES"
	   ]
	},
{
		   "cell_type": "markdown",
		   "metadata": {},
		   "source": [
			"## Example 4.1: pn_junction_in_equilibrium.sce"
		   ]
		  },
  {
"cell_type": "code",
	   "execution_count": null,
	   "metadata": {
	    "collapsed": true
	   },
	   "outputs": [],
"source": [
"Nd = 10^16; //in per cm cube\n",
"p = 10^18; //in per cm cube\n",
"Na = 10^18; //in per cm cube\n",
"Nc = 2.8 * 10^19; //in per cm cube\n",
"Nv = 10^19; //in per cm cube\n",
"kT = 26*10^-3; //in eV\n",
"eps0 = 8.84*10^-12; //in F/m\n",
"eps = 11.9*eps0;\n",
"Eg = 1.1; //in eV\n",
"q = 1.6*10^-19;\n",
"En = kT*log(Nd/Nc);\n",
"disp(En,'The Fermi level positions in the n-region relative to the conduction band (in eV) = ')\n",
"Ep = -kT*log(p/Nv);\n",
"disp(Ep,'The Fermi level positions in the p-region relative to the valence band (in eV) = ')\n",
"Vbi = Eg + En - Ep;\n",
"disp(Vbi,'built-in potential = ')\n",
"Wp = (2*eps*Vbi*Nd/(q*Na*10^6*(Na+Nd)))^0.5;\n",
"disp(Wp,'depletion width on the p-side (in m) = ')"
   ]
   }
,
{
		   "cell_type": "markdown",
		   "metadata": {},
		   "source": [
			"## Example 4.2: effect_of_the_generation_recombination_current_in_pn_diode.sce"
		   ]
		  },
  {
"cell_type": "code",
	   "execution_count": null,
	   "metadata": {
	    "collapsed": true
	   },
	   "outputs": [],
"source": [
"kT = 26*10^-3; //in eV\n",
"t = 10^-6;\n",
"q = 1.6*10^-19;\n",
"A = 10^-3; //in square cm\n",
"ni = 1.5*10^10;\n",
"eE = 3.2*10^4;\n",
"Igr0 = q*ni*A*%pi*kT/(2*t*eE);\n",
"disp(Igr0,'prefactor of the generation-recombination current (in Ampere) =')\n",
"V1 = 0.2;\n",
"Igr1 = Igr0*(exp(0.5*V1/kT)-1);\n",
"disp(Igr1,'generation-recombination current (in A) at bias of 0.2 V =')\n",
"V2 = 0.6;\n",
"Igr2 = Igr0*(exp(0.5*V2/kT)-1);\n",
"disp(Igr2,'generation-recombination current (in A) at bias of 0.6 V =')"
   ]
   }
,
{
		   "cell_type": "markdown",
		   "metadata": {},
		   "source": [
			"## Example 4.3: diode_current_at_a_forward_bias.sce"
		   ]
		  },
  {
"cell_type": "code",
	   "execution_count": null,
	   "metadata": {
	    "collapsed": true
	   },
	   "outputs": [],
"source": [
"n = 10^17;\n",
"p = 10^17;\n",
"Tn = 10^-7;\n",
"Tp = 10^-7;\n",
"Dn = 30;\n",
"Dp = 10;\n",
"A = 10^-4;\n",
"t = 10^-8;\n",
"V1 = 0.5;\n",
"V2 = 0.6;\n",
"E1 = 6.94 * 10^4;\n",
"E2 = 5.74 * 10^4;\n",
"np = 2.25*10^3;\n",
"pn = 2.25*10^3;\n",
"Ln = 17.32*10^-4;\n",
"Lp = 10*10^-4;\n",
"Vbi = 0.817;\n",
"q = 1.6*10^-19;\n",
"I0 = q*A*(Dp*pn/Lp + Dn*np/Ln);\n",
"disp(I0,'prefactor in the ideal diode equation = ')\n",
"Igr01 = q*ni*A*%pi*kT/(2*t*E1);\n",
"Igr02 = q*ni*A*%pi*kT/(2*t*E2);\n",
"disp(Igr01,'prefactor to the recombination-generation current at 0.5V = ')\n",
"disp(Igr02,'prefactor to the recombination-generation current at 0.6V')\n",
"I1 = I0*exp(V1/kT)+Igr01*exp(0.5*V1/kT);\n",
"disp(I1,'Current at 0.5 V = ')\n",
"I2 = I0*exp(V2/kT)+Igr02*exp(0.5*V2/kT);\n",
"disp(I2,'Current at 0.6 V = ')\n",
"n = (log(I2/I1)*kT/(V2-V1))^-1;\n",
"disp(n,'ideality factor of the diode in the given range =')"
   ]
   }
,
{
		   "cell_type": "markdown",
		   "metadata": {},
		   "source": [
			"## Example 4.4: breakdown_voltage_of_diode.sce"
		   ]
		  },
  {
"cell_type": "code",
	   "execution_count": null,
	   "metadata": {
	    "collapsed": true
	   },
	   "outputs": [],
"source": [
"Na = 10^19;\n",
"Nd = 10^16;\n",
"E1 = 4*10^5;\n",
"E2 = 10^7;\n",
"eps0 = 8.84*10^-14; //in F/m\n",
"eps = 11.9*eps0;\n",
"q = 1.6*10^-19;\n",
"V1 = eps*E1^2/(2*Nd*q);\n",
"disp(V1,'breakdown voltage for Si = ')\n",
"V2 = eps*E2^2/(2*Nd*q);\n",
"disp(V2,'breakdown voltage for diamond = ')"
   ]
   }
,
{
		   "cell_type": "markdown",
		   "metadata": {},
		   "source": [
			"## Example 4.5: e_h_recombination_time.sce"
		   ]
		  },
  {
"cell_type": "code",
	   "execution_count": null,
	   "metadata": {
	    "collapsed": true
	   },
	   "outputs": [],
"source": [
"p = 10^21;\n",
"t0 = 0.6*10^-9;\n",
"kT = 26*10^-3; //in eV\n",
"m0 = 0.91 * 10^-30; //in kg\n",
"m1 = 0.067*m0;\n",
"m2 = 0.45*m0;\n",
"q = 1.6*10^-19;\n",
"h = 1.05*10^-34; \n",
"tri = (0.5*p/t0)*(2*%pi*h*h/kT/q/(m1+m2))^1.5;\n",
"tr = 1/tri;\n",
"disp(tr)"
   ]
   }
,
{
		   "cell_type": "markdown",
		   "metadata": {},
		   "source": [
			"## Example 4.6: internal_radiative_efficiency_for_diodes.sce"
		   ]
		  },
  {
"cell_type": "code",
	   "execution_count": null,
	   "metadata": {
	    "collapsed": true
	   },
	   "outputs": [],
"source": [
"t0 = 0.6*10^-9;\n",
"tnr = 10^-7;\n",
"p = 10^22;\n",
"kT = 26*10^-3; //in eV\n",
"m0 = 0.91 * 10^-30; //in kg\n",
"m1 = 0.067*m0;\n",
"m2 = 0.45*m0;\n",
"tri = (0.5*p/t0)*(2*%pi*h*h/kT/q/(m1+m2))^1.5;\n",
"tr1 = 1/tri;\n",
"disp(tr1,'When the p-type doping is 10^16 cm−3, the hole density is low and the e-h recombination time (in s) for the injected electrons = ')\n",
"tr2 = t0*((m1+m2)/m1)^1.5;\n",
"disp(tr2,'In the case where the p-doping is high, the recombination time(in s) = ')\n",
"nqr1 = (1+tr1/tnr)^-1;\n",
"disp(nqr1,'For the low-doping case, the internal quantum efficiency for the diode = ')\n",
"nqr2 = (1+tr2/tnr)^-1;\n",
"disp(nqr2,'For the more heavily doped p region, the internal quantum efficiency for the diode = ')"
   ]
   }
,
{
		   "cell_type": "markdown",
		   "metadata": {},
		   "source": [
			"## Example 4.7: injection_efficiency_of_LED.sce"
		   ]
		  },
  {
"cell_type": "code",
	   "execution_count": null,
	   "metadata": {
	    "collapsed": true
	   },
	   "outputs": [],
"source": [
"Dn = 30;\n",
"Dp =15;\n",
"Na = 5*10^16;\n",
"Nd = 5*10^17;\n",
"q = 1.6*10^-19;\n",
"tn = 10^-8;\n",
"tp = 10^-7;\n",
"ni = 1.84*10^6;\n",
"np = ni^2/Na;\n",
"pn = ni^2/Nd;\n",
"Ln = (Dn*tn)^0.5;\n",
"Lp = (Dp*tp)^0.5;\n",
"disp(Ln,'diffusion length, Ln (in cm) = ')\n",
"disp(Lp,'diffusion length, Lp (in cm) = ')\n",
"n = (q*Dn*np/Ln)/((q*Dn*np/Ln)+(q*Dp*pn/Lp));\n",
"disp(n,'injection efficiency (assuming no recombination via traps) = ')"
   ]
   }
,
{
		   "cell_type": "markdown",
		   "metadata": {},
		   "source": [
			"## Example 4.8: photon_flux_and_optical_power_generated_by_LED.sce"
		   ]
		  },
  {
"cell_type": "code",
	   "execution_count": null,
	   "metadata": {
	    "collapsed": true
	   },
	   "outputs": [],
"source": [
"V1 = 1;\n",
"nqr = 0.5;\n",
"A = 10^-2;\n",
"Dn = 30;\n",
"Dp =15;\n",
"Na = 5*10^16;\n",
"Nd = 5*10^17;\n",
"q = 1.6*10^-19;\n",
"tn = 10^-8;\n",
"tp = 10^-7;\n",
"ni = 1.84*10^6;\n",
"np = ni^2/Na;\n",
"pn = ni^2/Nd;\n",
"Ln = (Dn*tn)^0.5;\n",
"Lp = (Dp*tp)^0.5;\n",
"kT = 26*10^-3; //in eV\n",
"In = A*q*Dn*np/Ln*(exp(V1/kT)-1);\n",
"disp(In,'The electron current injected into the p-region will be responsible for the photon generation. This current (in A) = ')\n",
"Iph = In*nqr/q;\n",
"disp(Iph,'photons generated per second = ')\n",
"E = 1.41; //in eV\n",
"P = Iph*E*q;\n",
"disp(P,'Each photon has an energy of 1.41 eV (= bandgap of GaAs). The optical power (in W) = ')"
   ]
   }
],
"metadata": {
		  "kernelspec": {
		   "display_name": "Scilab",
		   "language": "scilab",
		   "name": "scilab"
		  },
		  "language_info": {
		   "file_extension": ".sce",
		   "help_links": [
			{
			 "text": "MetaKernel Magics",
			 "url": "https://github.com/calysto/metakernel/blob/master/metakernel/magics/README.md"
			}
		   ],
		   "mimetype": "text/x-octave",
		   "name": "scilab",
		   "version": "0.7.1"
		  }
		 },
		 "nbformat": 4,
		 "nbformat_minor": 0
}
