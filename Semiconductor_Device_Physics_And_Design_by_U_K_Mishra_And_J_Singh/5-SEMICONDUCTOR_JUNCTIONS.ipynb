{
"cells": [
 {
		   "cell_type": "markdown",
	   "metadata": {},
	   "source": [
       "# Chapter 5: SEMICONDUCTOR JUNCTIONS"
	   ]
	},
{
		   "cell_type": "markdown",
		   "metadata": {},
		   "source": [
			"## Example 5.2: SCHOTTKY_BARRIER.sce"
		   ]
		  },
  {
"cell_type": "code",
	   "execution_count": null,
	   "metadata": {
	    "collapsed": true
	   },
	   "outputs": [],
"source": [
"A = 10^-3;\n",
"Na = 10^19;\n",
"Nd = 10^16;\n",
"q = 1.6*10^-19;\n",
"Tp = 10^-6;\n",
"Tn = 10^-6;\n",
"Dp = 10.5;\n",
"kT = 26*10^-3; //in eV\n",
"T = 300;\n",
"Vs = -0.67;\n",
"Vf = 0.3;\n",
"eRc = 110;\n",
"Is = A*eRc*T^2*exp(Vs/kT);\n",
"disp(Is,'Reverse saturation current (in Ampere) = ')\n",
"I = Is*exp(Vf/kT);\n",
"disp(I,'For a forward bias of 0.3 V, the current(in Ampere) = ')\n",
"Lp = (Dp*Tp)^0.5;\n",
"disp(Lp, 'Lp(in cm) = ')\n",
"pn = 2.25*10^4;\n",
"I0 = A*q*Dp*pn/Lp;\n",
"disp(I0,'Saturation current (in Ampere) = ')\n",
"disp('For the p-n diode to have the same current that the Schottky diode has at 0.3 V, the voltage required is 0.71 V.')"
   ]
   }
],
"metadata": {
		  "kernelspec": {
		   "display_name": "Scilab",
		   "language": "scilab",
		   "name": "scilab"
		  },
		  "language_info": {
		   "file_extension": ".sce",
		   "help_links": [
			{
			 "text": "MetaKernel Magics",
			 "url": "https://github.com/calysto/metakernel/blob/master/metakernel/magics/README.md"
			}
		   ],
		   "mimetype": "text/x-octave",
		   "name": "scilab",
		   "version": "0.7.1"
		  }
		 },
		 "nbformat": 4,
		 "nbformat_minor": 0
}
