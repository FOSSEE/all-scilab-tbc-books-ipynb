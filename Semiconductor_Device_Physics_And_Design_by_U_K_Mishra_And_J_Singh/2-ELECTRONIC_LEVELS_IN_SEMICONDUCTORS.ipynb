{
"cells": [
 {
		   "cell_type": "markdown",
	   "metadata": {},
	   "source": [
       "# Chapter 2: ELECTRONIC LEVELS IN SEMICONDUCTORS"
	   ]
	},
{
		   "cell_type": "markdown",
		   "metadata": {},
		   "source": [
			"## Example 2.1: density_of_states_in_2D_and_3D_systems.sce"
		   ]
		  },
  {
"cell_type": "code",
	   "execution_count": null,
	   "metadata": {
	    "collapsed": true
	   },
	   "outputs": [],
"source": [
"m0 = 0.91 * 10^-30; //in kg\n",
"h = 1.05*10^-34; //in J.s\n",
"E = 1; // energy in eV\n",
"q = 1.6*10^-19;\n",
"N3 = 2^0.5*(m0*q)^1.5*E^0.5/((%pi)^2*h^3);\n",
"disp(N3*10^-6,'The density of states for a 3D system in per eV per cm cube')\n",
"N2 = m0*q/(%pi*h^2);\n",
"disp(N2*10^-4,'The density of states for a 2D system in per eV per cm square')"
   ]
   }
,
{
		   "cell_type": "markdown",
		   "metadata": {},
		   "source": [
			"## Example 2.2: effective_density_of_states_for_the_conduction_and_valence_bands.sce"
		   ]
		  },
  {
"cell_type": "code",
	   "execution_count": null,
	   "metadata": {
	    "collapsed": true
	   },
	   "outputs": [],
"source": [
"kBT = 26*10^-3; //in eV\n",
"m0 = 0.91 * 10^-30; //in kg\n",
"me = 0.067*m0;\n",
"q = 1.6*10^-19;\n",
"h = 1.05457*10^-34; //in J.s\n",
"N = 2*(me*q*kBT/2/%pi/h^2)^1.5;\n",
"disp(N*10^-6, 'The effective density of states (in per cm cube) is')\n",
"disp('In silicon, the density of states mass is to be used in the effective density of states, which is')\n",
"kdos = 6^(2/3)*(0.98*0.19*0.19)^(1/3);\n",
"disp(kdos,'m0 times');\n",
"mdos = kdos*m0;\n",
"disp(mdos,'In silicon, the density of states mass is to be used in the effective density of states, which is')"
   ]
   }
,
{
		   "cell_type": "markdown",
		   "metadata": {},
		   "source": [
			"## Example 2.5: Piezoelectric_Effect.sce"
		   ]
		  },
  {
"cell_type": "code",
	   "execution_count": null,
	   "metadata": {
	    "collapsed": true
	   },
	   "outputs": [],
"source": [
"//a = 0.3*aAlN + 0.7*aGaN = 3.111\n",
"a = 3.111*10^-8; //in cm\n",
"q = 1.6*10^-19;\n",
"Exx = 0.006; //strain tensor\n",
"disp(Exx,'Exx = ')\n",
"Ezz = -0.6*0.006;\n",
"disp(Ezz,'Ezz = ')\n",
"Ppz = 0.0097; //in C/m2\n",
"disp('The pizoelectric effect induced polar charge then becomes Ppz = 0.0097 C/m2')\n",
"disp(Ppz/q*10^-4,'The pizoelectric effect induced polar charge (in electron charge per cm2)=')\n",
"Psp= 0.3*0.089 + (0.7-1)*0.029;\n",
"disp(Psp,'The piezoelectric charge the spontaneous polarization charge(in C/m2) is')\n",
"disp(Psp/q*10^-4,'The piezoelectric charge the spontaneous polarization charge(in electron charge per cm2) =')"
   ]
   }
,
{
		   "cell_type": "markdown",
		   "metadata": {},
		   "source": [
			"## Example 2.7_1: Fermi_energy_and_Fermi_velocity.sce"
		   ]
		  },
  {
"cell_type": "code",
	   "execution_count": null,
	   "metadata": {
	    "collapsed": true
	   },
	   "outputs": [],
"source": [
"n = 10^22; // electrons per cm cube\n",
"h = 1.05457*10^-34; //in J.s\n",
"m0 = 0.91 * 10^-30; //in kg\n",
"q = 1.6*10^-19;\n",
"E= 0.5*h^2*(3*%pi*%pi*n)^(2/3)/(m0*q);\n",
"disp(E*10^4,'The Fermi energy (in eV) is the highest occupied energy state at 0 K is')\n",
"vel = h*(3*%pi*%pi*n*10^6)^(1/3)/m0;\n",
"disp(vel, 'The fermi velocity (in m/s) is')"
   ]
   }
],
"metadata": {
		  "kernelspec": {
		   "display_name": "Scilab",
		   "language": "scilab",
		   "name": "scilab"
		  },
		  "language_info": {
		   "file_extension": ".sce",
		   "help_links": [
			{
			 "text": "MetaKernel Magics",
			 "url": "https://github.com/calysto/metakernel/blob/master/metakernel/magics/README.md"
			}
		   ],
		   "mimetype": "text/x-octave",
		   "name": "scilab",
		   "version": "0.7.1"
		  }
		 },
		 "nbformat": 4,
		 "nbformat_minor": 0
}
