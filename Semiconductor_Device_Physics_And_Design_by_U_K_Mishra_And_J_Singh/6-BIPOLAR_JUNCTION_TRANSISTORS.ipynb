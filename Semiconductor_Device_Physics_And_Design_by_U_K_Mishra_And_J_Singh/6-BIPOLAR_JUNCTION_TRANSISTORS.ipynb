{
"cells": [
 {
		   "cell_type": "markdown",
	   "metadata": {},
	   "source": [
       "# Chapter 6: BIPOLAR JUNCTION TRANSISTORS"
	   ]
	},
{
		   "cell_type": "markdown",
		   "metadata": {},
		   "source": [
			"## Example 6.1: emitter_efficiency_of_BJT_and_HBT.sce"
		   ]
		  },
  {
"cell_type": "code",
	   "execution_count": null,
	   "metadata": {
	    "collapsed": true
	   },
	   "outputs": [],
"source": [
"Nde = 5*10^17;\n",
"Nab = 10^17;\n",
"Db = 100;\n",
"De = 15;\n",
"Wb = 0.5*10^-4;\n",
"dEg = 0.36;\n",
"Le = 1.5*10^-4;\n",
"ni = 2.2*10^6;\n",
"kT = 26*10^-3; //in eV\n",
"peo = ni^2/Nde;\n",
"nbo = ni^2/Nab;\n",
"disp(peo,'emitter minority carrier concentrations (in per cm cube)= ')\n",
"disp(nbo,'base minority carrier concentrations (in per cm cube) = ')\n",
"gammae = 1- (peo*De*Wb)/(nbo*Db*Le);\n",
"disp(gammae,'emitter efficiency = ')\n",
"peo1 = peo*exp(-dEg/kT);\n",
"disp(peo1,'In the HBT, the value of peo is greatly suppressed. The new value(in per cm cube) = ')\n",
"gamma1 = 1- (peo1*De*Wb)/(nbo*Db*Le);\n",
"disp(gamma1,'emitter efficiency = ')\n",
"disp('In this case the emitter efficiency is essentially unity')"
   ]
   }
,
{
		   "cell_type": "markdown",
		   "metadata": {},
		   "source": [
			"## Example 6.2: change_in_the_base_width_and_collector_current_with_voltage_and_Early_voltage.sce"
		   ]
		  },
  {
"cell_type": "code",
	   "execution_count": null,
	   "metadata": {
	    "collapsed": true
	   },
	   "outputs": [],
"source": [
"Wb = 10^-4;\n",
"Vcb1 = 1;\n",
"Vcb2 = 5;\n",
"q = 1.6*10^-19;\n",
"Db = 20;\n",
"Vbe = 0.7;\n",
"kT = 26*10^-3; //in eV\n",
"ni = 1.5*10^10;\n",
"Nab = 5*10^16;\n",
"Nde = 5*10^15;\n",
"eps0 = 8.84*10^-14; //in F/m\n",
"eps = 11.9*eps0;\n",
"Vbi = kT*log(Nab*Nde/ni^2)\n",
"disp(Vbi,'Built in voltage (in V) = ')\n",
"dW2 = 2*eps*(Vbi+Vcb1)*Nde/(q*Nab*(Nab+Nde));\n",
"dW = sqrt(dW2);\n",
"disp(dW,'The extent of depletion into the base side (in cm) = ')\n",
"Wbn = Wb - dW;\n",
"disp(Wbn,'neutral base width (in cm) = ')\n",
"dW1 = (2*eps*(Vbi+Vcb2)*Nde/(q*Nab*(Nab+Nde)))^0.5;\n",
"disp(dW1,'When the collector-base voltage increases to 5 V, extent of depletion into the base side (in cm)')\n",
"Wbn1 = Wb - dW1;\n",
"disp(Wbn1,'neutral base width (in cm) = ')\n",
"nbo = ni^2/Nab;\n",
"disp(nbo,'base minority carrier concentrations (in per cm cube) = ')\n",
"Jc1 = q*Db*nbo/Wbn*exp(Vbe/kT);\n",
"disp(Jc1,'For the base-collector bias of 1 V, collector current density (in A/square cm)')\n",
"Jc2 = q*Db*nbo/Wbn1*exp(Vbe/kT);\n",
"disp(Jc2,'For the base-collector bias of 5 V, collector current density (in A/square cm)')\n",
"slope = (Jc2-Jc1)/(Vcb2-Vcb1);\n",
"disp(slope,'The slope of the Jc vs. VCE curve = ')\n",
"Va = Jc2/slope - (Vcb2+Vbe);\n",
"disp(Va, 'Early voltage (in V) = ')"
   ]
   }
,
{
		   "cell_type": "markdown",
		   "metadata": {},
		   "source": [
			"## Example 6.3: maximum_base_width_for_a_given_beta.sce"
		   ]
		  },
  {
"cell_type": "code",
	   "execution_count": null,
	   "metadata": {
	    "collapsed": true
	   },
	   "outputs": [],
"source": [
"kT = 26*10^-3; //in eV\n",
"ni = 1.5*10^10;\n",
"eps0 = 8.84*10^-14; //in F/m\n",
"eps = 11.9*eps0;\n",
"q = 1.6*10^-19;\n",
"Nde = 10^18;\n",
"Nab = 10^17;\n",
"Ndc = 5*10^16;\n",
"Db = 30;\n",
"Lb = 15*10^-4;\n",
"De = 10;\n",
"Le = 5*10^-4;\n",
"Vf = 1;\n",
"B = 100;\n",
"Vr = 5;\n",
"Wbn = Db*Nde*Le/(De*Nab*B);\n",
"disp(Wbn,'neutral base width (in cm) = ')\n",
"Vbi = kT*log(Nab*Ndc/ni^2);\n",
"disp(Vbi,'built in voltage (in V) = ')\n",
"//dW = (2*eps*(Vbi+Vr)*Nde/(q*Nab*(Nab+Nde)))^0.5;\n",
"dW = (2*eps*(Vbi+Vr)*Ndc/(q*Nab*(Nab+Ndc)))^0.5;\n",
"disp(dW,'the depletion width (in cm) on the base side of the EBJ for a 5 volt bias at the base collector junction')\n",
"Wb = Wbn + dW;\n",
"disp(Wb, 'base width (in cm) = ')"
   ]
   }
,
{
		   "cell_type": "markdown",
		   "metadata": {},
		   "source": [
			"## Example 6.4: output_conductance_and_emitter_efficiency_and_gain.sce"
		   ]
		  },
  {
"cell_type": "code",
	   "execution_count": null,
	   "metadata": {
	    "collapsed": true
	   },
	   "outputs": [],
"source": [
"kT = 26*10^-3; //in eV\n",
"ni = 1.5*10^10;\n",
"Vbe = 0.7;\n",
"q = 1.6*10^-19;\n",
"Nde = 10^18;\n",
"Nab = 10^17;\n",
"Ndc = 10^16;\n",
"Db = 30;\n",
"Lb = 10*10^-4;\n",
"Wb = 10^-4;\n",
"De = 10;\n",
"Le = 10*10^-4;\n",
"We = 10^-4;\n",
"A = 4*10^-6;\n",
"Vf = 1;\n",
"Vr1 = 5;\n",
"Vr2 = 6;\n",
"Vbi = kT*log(Nab*Ndc/ni^2);\n",
"disp(Vbi,'built in voltage (in V) = ')\n",
"dW1 = (2*eps*(Vbi+Vr1)*Ndc/(q*Nab*(Nab+Ndc)))^0.5;\n",
"dW2 = (2*eps*(Vbi+Vr2)*Ndc/(q*Nab*(Nab+Ndc)))^0.5;\n",
"disp(dW1,'depletion width (in cm) on the base side of the BCJ at 5 V = ')\n",
"disp(dW2,'depletion width (in cm) on the base side of the BCJ at 6 V = ')\n",
"Wbn1 = Wb - dW1;\n",
"disp(Wbn1,'neutral base width (in cm) at 5V = ')\n",
"Wbn2 = Wb - dW2;\n",
"disp(Wbn2,'neutral base width (in cm) at 6V = ')\n",
"gammae = 1- (Nab*De*Wbn1)/(Nde*Db*We)\n",
"disp(gammae,'emitter efficiency (for a narrow emitter of width We) = ')\n",
"B = 1 - Wbn1^2/2/Lb^2;\n",
"disp(B,'the base transport factor = ')\n",
"alpha = B*gammae;\n",
"disp(alpha,'alpha = ')\n",
"betae = alpha/(1-alpha);\n",
"disp(betae,'current gain = ')\n",
"Nbo = ni^2/Nab;\n",
"Ic1 = q*A*Db*Nbo/Wbn1*(exp(Vf/kT)-1);\n",
"disp(Ic1,'collector current (in A) at 5V = ')\n",
"Ic2 = q*A*Db*Nbo/Wbn2*(exp(Vf/kT)-1);\n",
"disp(Ic2,'collector current (in A) at 6V = ')\n",
"g0 = Ic2-Ic1/(6-5);\n",
"disp(g0,'The output conductance = ')"
   ]
   }
],
"metadata": {
		  "kernelspec": {
		   "display_name": "Scilab",
		   "language": "scilab",
		   "name": "scilab"
		  },
		  "language_info": {
		   "file_extension": ".sce",
		   "help_links": [
			{
			 "text": "MetaKernel Magics",
			 "url": "https://github.com/calysto/metakernel/blob/master/metakernel/magics/README.md"
			}
		   ],
		   "mimetype": "text/x-octave",
		   "name": "scilab",
		   "version": "0.7.1"
		  }
		 },
		 "nbformat": 4,
		 "nbformat_minor": 0
}
