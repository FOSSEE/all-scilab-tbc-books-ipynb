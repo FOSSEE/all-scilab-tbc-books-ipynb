{
"cells": [
 {
		   "cell_type": "markdown",
	   "metadata": {},
	   "source": [
       "# Chapter 7: TEMPORAL RESPONSE OF DIODES AND BIPOLAR TRANSISTORS"
	   ]
	},
{
		   "cell_type": "markdown",
		   "metadata": {},
		   "source": [
			"## Example 7.1: cutoff_frequency_of_transistor.sce"
		   ]
		  },
  {
"cell_type": "code",
	   "execution_count": null,
	   "metadata": {
	    "collapsed": true
	   },
	   "outputs": [],
"source": [
"Ie = 1.5*10^-3;\n",
"Cje = 2*10^-12;\n",
"Wb = 0.4*10^-4;\n",
"Db = 60;\n",
"Wdc = 2*10^-4;\n",
"Rc = 30;\n",
"Ct = 0.4*10^-12;\n",
"vs = 5*10^6;\n",
"kT = 26*10^-3; //in eV\n",
"q = 1.6*10^-19;\n",
"Re = kT/Ie;\n",
"disp(Re,'The emitter resistance (in ohm) = ')\n",
"Te = Re*Cje;\n",
"disp(Te, 'Te (in s) = ')\n",
"Tt = Wb^2/2/Db;\n",
"disp(Tt,'base transit time (in s) = ')\n",
"Tc = 0.5*Wdc/vs;\n",
"disp(Tc,'collector transit time (in s) = ')\n",
"Tcc = Rc*Ct;\n",
"disp(Tcc,'collector charging time (in s) = ')\n",
"Tec = Te+Tt+Tc+Tcc;\n",
"disp(Tec,'total time (in s) = ')\n",
"ft = (2*%pi*Tec)^-1;\n",
"disp(ft,'cutoff frequency (in Hz) = ')"
   ]
   }
],
"metadata": {
		  "kernelspec": {
		   "display_name": "Scilab",
		   "language": "scilab",
		   "name": "scilab"
		  },
		  "language_info": {
		   "file_extension": ".sce",
		   "help_links": [
			{
			 "text": "MetaKernel Magics",
			 "url": "https://github.com/calysto/metakernel/blob/master/metakernel/magics/README.md"
			}
		   ],
		   "mimetype": "text/x-octave",
		   "name": "scilab",
		   "version": "0.7.1"
		  }
		 },
		 "nbformat": 4,
		 "nbformat_minor": 0
}
