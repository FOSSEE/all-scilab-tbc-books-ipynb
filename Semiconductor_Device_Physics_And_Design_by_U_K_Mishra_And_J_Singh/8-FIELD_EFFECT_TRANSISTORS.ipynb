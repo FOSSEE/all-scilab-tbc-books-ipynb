{
"cells": [
 {
		   "cell_type": "markdown",
	   "metadata": {},
	   "source": [
       "# Chapter 8: FIELD EFFECT TRANSISTORS"
	   ]
	},
{
		   "cell_type": "markdown",
		   "metadata": {},
		   "source": [
			"## Example 8.1: gate_current_density_for_MESFET.sce"
		   ]
		  },
  {
"cell_type": "code",
	   "execution_count": null,
	   "metadata": {
	    "collapsed": true
	   },
	   "outputs": [],
"source": [
"phiB = 0.8;\n",
"N = 10^17;\n",
"Dp = 20;\n",
"Lp = 10^-4;\n",
"A = 8;\n",
"kT = 26*10^-3; //in eV\n",
"T = 300;\n",
"q = 1.6*10^-19;\n",
"Js = A*T^2*exp(-phiB/kT);\n",
"disp(Js,'For the Schottky case, Js (in A/cm2) = ')\n",
"ni = 1.84*10^6;\n",
"pn = ni^2/N;\n",
"disp(pn)\n",
"J0 = q*Dp*pn/Lp;\n",
"disp(J0,'For the p+-gate we have from p-n diode theory, J0 (in A/cm2) = ')"
   ]
   }
,
{
		   "cell_type": "markdown",
		   "metadata": {},
		   "source": [
			"## Example 8.5_1: 2DEG_concentration_for_MODFET.sce"
		   ]
		  },
  {
"cell_type": "code",
	   "execution_count": null,
	   "metadata": {
	    "collapsed": true
	   },
	   "outputs": [],
"source": [
"phiB = 0.9;\n",
"Nd = 10^18;\n",
"dEc = 0.24;\n",
"eps0 = 8.84*10^-14; //in F/m\n",
"epsb = 12.2*eps0;\n",
"ds = 30*10^-8;\n",
"d = 350*10^-8;\n",
"VG1 = 0;\n",
"VG2 = -0.5;\n",
"q = 1.6*10^-19;\n",
"Vp2 = q*Nd*(d-ds)^2/epsb;\n",
"disp(Vp2,'The parameter Vp2 (in V) of this structure = ')\n",
"Voff = phiB - Vp2 - 0.24;\n",
"disp(Voff,'threshold voltage (in V)')\n",
"Ns1 = -epsb*Voff/q/d;\n",
"Ns2 = epsb*(VG2-Voff)/q/d;\n",
"disp(Ns1,'The 2DEG carrier concentration (in per sqaure cm) at 0 V = ')\n",
"disp(Ns2,'The 2DEG carrier concentration (in per sqaure cm) at -0.5 V = ')"
   ]
   }
],
"metadata": {
		  "kernelspec": {
		   "display_name": "Scilab",
		   "language": "scilab",
		   "name": "scilab"
		  },
		  "language_info": {
		   "file_extension": ".sce",
		   "help_links": [
			{
			 "text": "MetaKernel Magics",
			 "url": "https://github.com/calysto/metakernel/blob/master/metakernel/magics/README.md"
			}
		   ],
		   "mimetype": "text/x-octave",
		   "name": "scilab",
		   "version": "0.7.1"
		  }
		 },
		 "nbformat": 4,
		 "nbformat_minor": 0
}
