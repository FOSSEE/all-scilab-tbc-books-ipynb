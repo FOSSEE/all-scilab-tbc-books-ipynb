{
"cells": [
 {
		   "cell_type": "markdown",
	   "metadata": {},
	   "source": [
       "# Chapter 1: STRUCTURAL PROPERTIES OF SEMICONDUCTORS"
	   ]
	},
{
		   "cell_type": "markdown",
		   "metadata": {},
		   "source": [
			"## Example 1.1: Crystal_structure.sce"
		   ]
		  },
  {
"cell_type": "code",
	   "execution_count": null,
	   "metadata": {
	    "collapsed": true
	   },
	   "outputs": [],
"source": [
"a = 5.43*10^-8; //lattice constant for silicon in cm\n",
"N = 8/8 +6/2; // Silicon has a diamond structure which is made up of the fcc lattice with two atoms on each lattice point. The fcc unit cube has a volume a3. The cube has eight lattice sites at the cube edges. However, each of these points is shared with eight other cubes. In addition, there are six lattice points on the cube face centers. Each of these points is shared by two adjacent cubes.\n",
"disp('Silicon has a diamond structure which is made up of the fcc lattice with two atoms on each lattice point. The fcc unit cube has a volume a3. The cube has eight lattice sites at the cube edges. However, each of these points is shared with eight other cubes. In addition, there are six lattice points on the cube face centers. Each of these points is shared by two adjacent cubes.')\n",
"disp(N, 'Thus, number of lattice points per cube of volume a^3 = ')\n",
"disp('In silicon there are two silicon atoms per lattice point. The number density is, therefore,')\n",
"Nsi = N*2/a^3;\n",
"disp(Nsi,'in atoms per cm cube')\n",
"l = 50*10^-4;\n",
"b = 2*10^-4;\n",
"h = 1*10^-4;\n",
"vol = l*b*h; //volume of the MOSFET\n",
"disp(vol, 'volume of th MOSFET (in cm cube) = ')\n",
"nmos = Nsi*vol;\n",
"disp(nmos,'Number of Si atoms in the MOSFET = ')"
   ]
   }
,
{
		   "cell_type": "markdown",
		   "metadata": {},
		   "source": [
			"## Example 1.2_5_1: Planar_density_of_atoms_on_a_surface.sce"
		   ]
		  },
  {
"cell_type": "code",
	   "execution_count": null,
	   "metadata": {
	    "collapsed": true
	   },
	   "outputs": [],
"source": [
"a = 5.63*10^-8; //lattice constant in cm\n",
"disp('We can form a triangle on the (111) surface of GaAs. There are three atoms on the tips of the triangle. These atoms are shared by six other similar triangles. There are also 3 atoms along the edges of the triangle which are shared by two adjacent triangles. Thus the number of atoms in the triangle are')\n",
"N = 3/6 +3/2;\n",
"disp(N)\n",
"area = 3^0.5/2*a^2; //area of triangle\n",
"density = N/area; //The density of GaAs atoms on the surface\n",
"disp(density,'The density (in per square cm) of GaAs atoms on the surface = ')"
   ]
   }
,
{
		   "cell_type": "markdown",
		   "metadata": {},
		   "source": [
			"## Example 1.2: Surface_density.sce"
		   ]
		  },
  {
"cell_type": "code",
	   "execution_count": null,
	   "metadata": {
	    "collapsed": true
	   },
	   "outputs": [],
"source": [
"a = 5.65*10^-8; //lattice constant in cm\n",
"disp('In the (001) surfaces, the top atoms are either Ga or As leading to the terminology Ga terminated (or Ga stabilized) and As terminated (or As stabilized), respectively. A square of area a2 has four atoms on the edges of the square and one atom at the center of the square. The atoms on the square edges are shared by a total of four squares. The total number of atoms per square is')\n",
"N = 4/4 +1; \n",
"disp(N)\n",
"density = N/a^2; //Surface density\n",
"disp(density, 'The surface density (in per cm square) of Ga atoms on a Ga terminated (001) GaAs surface')"
   ]
   }
],
"metadata": {
		  "kernelspec": {
		   "display_name": "Scilab",
		   "language": "scilab",
		   "name": "scilab"
		  },
		  "language_info": {
		   "file_extension": ".sce",
		   "help_links": [
			{
			 "text": "MetaKernel Magics",
			 "url": "https://github.com/calysto/metakernel/blob/master/metakernel/magics/README.md"
			}
		   ],
		   "mimetype": "text/x-octave",
		   "name": "scilab",
		   "version": "0.7.1"
		  }
		 },
		 "nbformat": 4,
		 "nbformat_minor": 0
}
