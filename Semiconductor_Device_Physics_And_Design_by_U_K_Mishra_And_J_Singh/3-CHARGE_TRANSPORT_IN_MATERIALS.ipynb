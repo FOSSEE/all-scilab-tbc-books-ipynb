{
"cells": [
 {
		   "cell_type": "markdown",
	   "metadata": {},
	   "source": [
       "# Chapter 3: CHARGE TRANSPORT IN MATERIALS"
	   ]
	},
{
		   "cell_type": "markdown",
		   "metadata": {},
		   "source": [
			"## Example 3.10: diffusion_coefficient_using_velocity_field_relation.sce"
		   ]
		  },
  {
"cell_type": "code",
	   "execution_count": null,
	   "metadata": {
	    "collapsed": true
	   },
	   "outputs": [],
"source": [
"E1 = 10^5; //in V/m\n",
"E2 = 10^6; //in V/m\n",
"v1 = 1.4*10^4; //in m/s\n",
"v2 = 7*10^4;//in m/s\n",
"kBT = 26*10^-3; //in eV\n",
"q = 1.6*10^-19;\n",
"D1 = v1*kBT/E1;\n",
"D2 = v2*kBT/E2;\n",
"disp(D1,'diffusion constant (in m square per.s) at 1 kV/cm = ')\n",
"disp(D2,'diffusion constant (in m square per.s) at 10 kV/cm = ')"
   ]
   }
,
{
		   "cell_type": "markdown",
		   "metadata": {},
		   "source": [
			"## Example 3.11: carrier_generation_rate_for_optical_radiation.sce"
		   ]
		  },
  {
"cell_type": "code",
	   "execution_count": null,
	   "metadata": {
	    "collapsed": true
	   },
	   "outputs": [],
"source": [
"P = 10^3; //in W per cm square\n",
"E = 1.5; //in eV\n",
"ab = 3*10^3; //in per cm\n",
"t = 10^-9; //in s\n",
"q = 1.6*10^-19;\n",
"G = ab*P/E/q;\n",
"disp(G,'The carrier generation rate (in per cm cube per sec) at the surface of the sample = ')\n",
"d = G*t;\n",
"disp(d,'The excess carrier density (in per cm cube) = ')"
   ]
   }
,
{
		   "cell_type": "markdown",
		   "metadata": {},
		   "source": [
			"## Example 3.1: polar_optical_phonon_emission_rate.sce"
		   ]
		  },
  {
"cell_type": "code",
	   "execution_count": null,
	   "metadata": {
	    "collapsed": true
	   },
	   "outputs": [],
"source": [
"opeGaAs = 36; //optical phonon energies in GaAs in meV\n",
"opeGaN = 90; //optical phonon energies in GaN in meV\n",
"disp(opeGaAs,'The optical phonon energies in GaAs (in meV)')\n",
"disp(opeGaN,'The optical phonon energies in GaN (in meV)')\n",
"disp ('If the electron energies are below these values, there is no phonon emission.The phonon occupation number in GaAs at 300 K is 0.33 and in GaN is 0.032. Thus above threshold, the emission to absorption ratios are approximately 4:1 and 32:1 respectively.')"
   ]
   }
,
{
		   "cell_type": "markdown",
		   "metadata": {},
		   "source": [
			"## Example 3.2: transport_under_an_electric_field.sce"
		   ]
		  },
  {
"cell_type": "code",
	   "execution_count": null,
	   "metadata": {
	    "collapsed": true
	   },
	   "outputs": [],
"source": [
"m0 = 0.91 * 10^-30; //in kg\n",
"m = 0.26*m0; //effective mass\n",
"E = 50*10^-3; //optical phonon energy in eV\n",
"t = 10^-13; //carrier scattering relaxation time at 300K\n",
"q = 1.6*10^-19;\n",
"kBT = 26*10^-3; //in eV\n",
"vd = (2*q*(E-1.5*kBT)/m)^0.5;\n",
"disp(vd, 'Drift velocity (in m/s) = ')\n",
"ef = vd*m/t/q; //electric field in V/cm\n",
"disp(ef,'Electric field(in V/m) =')"
   ]
   }
,
{
		   "cell_type": "markdown",
		   "metadata": {},
		   "source": [
			"## Example 3.3: relaxation_time_due_to_ionized_impurity_scattering.sce"
		   ]
		  },
  {
"cell_type": "code",
	   "execution_count": null,
	   "metadata": {
	    "collapsed": true
	   },
	   "outputs": [],
"source": [
"u = 8500*10^-4; //in m2/V.s\n",
"Nd = 10^17;\n",
"new_u = 5000*10^-4;\n",
"m0 = 0.91 * 10^-30; //in kg\n",
"m = 0.067*m0; \n",
"q = 1.6*10^-19;\n",
"t1 = m*u/q;\n",
"disp(t1,'relaxation time(in s) = ')\n",
"t2 = m*new_u/q;\n",
"disp(t2, 'If the ionized impurities are present, the time (in s) =')\n",
"t_imp = t2*t1/(t1-t2);\n",
"disp (t_imp,'The impurity-related time (in s) = ')"
   ]
   }
,
{
		   "cell_type": "markdown",
		   "metadata": {},
		   "source": [
			"## Example 3.4: time_between_scattering_events_using_the_conductivity_effective_mass.sce"
		   ]
		  },
  {
"cell_type": "code",
	   "execution_count": null,
	   "metadata": {
	    "collapsed": true
	   },
	   "outputs": [],
"source": [
"u = 1500*10^-4; // in m2/V.s\n",
"m0 = 0.91 * 10^-30; //in kg\n",
"q = 1.6*10^-19;\n",
"kt = 0.19;\n",
"kl = 0.98;\n",
"ks = 3*kt*kl/(2*kl+kt);\n",
"t = u*ks*m0/q;\n",
"disp(t,'The scattering time(in s) =')"
   ]
   }
,
{
		   "cell_type": "markdown",
		   "metadata": {},
		   "source": [
			"## Example 3.5: conductivity_of_doped_versus_undoped.sce"
		   ]
		  },
  {
"cell_type": "code",
	   "execution_count": null,
	   "metadata": {
	    "collapsed": true
	   },
	   "outputs": [],
"source": [
"Nd = 10^17;\n",
"Ni = 1.5*10^10;\n",
"Ni2 = 1.84 * 10^6;\n",
"Pi2 = 1.84 * 10^6;\n",
"Pi = 1.5*10^10;\n",
"un1 = 1000;\n",
"up1 = 350;\n",
"un2 = 8000;\n",
"up2 = 400;\n",
"Nn = 0.5*Nd;\n",
"Pn = Ni^2/Nn;\n",
"q = 1.6*10^-19;\n",
"disp(Pn,'Hole density for Si(in per cm cube) =')\n",
"s_n1 = Nn*q*un1+Pn*q*up1;\n",
"s_un1 = Ni*q*un1+Pi*q*up1;\n",
"s_n2 = Nn*q*un2+Pn*q*up2;\n",
"s_un2 = Ni2*q*un2+Pi2*q*up2;\n",
"disp(s_n1,'The conductivity of Si (in per ohm per cm) = ')\n",
"disp(s_un1,'The conductivity of undoped Si (in per ohm per cm) = ')\n",
"disp(s_n2,'The conductivity of GaAs (in per ohm per cm) = ')\n",
"disp(s_un2,'The conductivity of undoped GaAs (in per ohm per cm) = ')"
   ]
   }
,
{
		   "cell_type": "markdown",
		   "metadata": {},
		   "source": [
			"## Example 3.6: maximum_and_minimum_conductivity.sce"
		   ]
		  },
  {
"cell_type": "code",
	   "execution_count": null,
	   "metadata": {
	    "collapsed": true
	   },
	   "outputs": [],
"source": [
"d1 = 2.78 * 10^19; //max density for Si\n",
"d2 = 7.72 * 10^18; // max density for GaAs\n",
"Nd = 10^17;\n",
"Ni = 1.5*10^10;\n",
"Ni2 = 1.84 * 10^6;\n",
"Pi2 = 1.84 * 10^6;\n",
"Pi = 1.5*10^10;\n",
"un1 = 1000;\n",
"up1 = 350;\n",
"un2 = 8000;\n",
"up2 = 400;\n",
"Nn = 0.5*Nd;\n",
"Pn = Ni^2/Nn;\n",
"q = 1.6*10^-19;\n",
"s1 = d1*q*un1;\n",
"s2 = d2*q*up2;\n",
"//To find the minimum we take the derivative with respect to p and equate the result to zero, which gives the below expression\n",
"p = Ni*(un1/up1)^0.5;\n",
"smin1 = Ni*q*(un1*(up1/un1)^0.5 + up1*(un1/up1)^0.5);\n",
"smin2 = Ni2*q*(un2*(up2/un2)^0.5 + up2*(un2/up2)^0.5);\n",
"disp(s1,'maximum conductivity for Si = ')\n",
"disp(s2,'maximum conductivity for GaAs = ')\n",
"disp(smin1,'minimum conductivity for Si = ')\n",
"disp(smin2,'minimum conductivity for GaAs = ')"
   ]
   }
,
{
		   "cell_type": "markdown",
		   "metadata": {},
		   "source": [
			"## Example 3.7: High_field_transport_velocity_field_relations.sce"
		   ]
		  },
  {
"cell_type": "code",
	   "execution_count": null,
	   "metadata": {
	    "collapsed": true
	   },
	   "outputs": [],
"source": [
"E1 = 10^3; //in V/cm\n",
"E2 = 10^5; //in V/cm\n",
"v1 = 1.4*10^6; //in cm/s\n",
"v2 = 1*10^7;//in cm/s\n",
"m0 = 0.91 * 10^-30; //in kg\n",
"m = 0.26*m0;\n",
"q = 1.6*10^-19;\n",
"u1 = v1/E1;\n",
"u2 = v2/E2;\n",
"disp(u1,'mobility (in cm square per V.s) at 1 kV/cm = ')\n",
"disp(u2,'mobility (in cm square per V.s) at 100 kV/cm = ')\n",
"t1 = m*u1*10^-4/q;\n",
"t2 = m*u2*10^-4/q;\n",
"disp(t1,'relaxation time (in s) at 1 kV/cm = ')\n",
"disp(t2,'relaxation time (in s) at 100 kV/cm = ')"
   ]
   }
,
{
		   "cell_type": "markdown",
		   "metadata": {},
		   "source": [
			"## Example 3.8: transit_time_of_electron_in_semiconductor_device.sce"
		   ]
		  },
  {
"cell_type": "code",
	   "execution_count": null,
	   "metadata": {
	    "collapsed": true
	   },
	   "outputs": [],
"source": [
"E = 50*10^3; //in V/cm\n",
"v = 10^7; // in cm/s\n",
"L = 10^-5; //in cm\n",
"m0 = 0.91 * 10^-30; //in kg\n",
"m = 0.067*m0;\n",
"q = 1.6*10^-19;\n",
"a = q*E/m;\n",
"t = (2*L/a)^0.5;\n",
"disp(t,'If the transport is ballistic, transit time (in s) = ')\n",
"t2 = L/v;\n",
"disp(t2,'If the saturation velocity is used, transit time (in s) = ')"
   ]
   }
,
{
		   "cell_type": "markdown",
		   "metadata": {},
		   "source": [
			"## Example 3.9: band_to_band_tunneling_probability.sce"
		   ]
		  },
  {
"cell_type": "code",
	   "execution_count": null,
	   "metadata": {
	    "collapsed": true
	   },
	   "outputs": [],
"source": [
"E = 2*10^7; //in V/m\n",
"m0 = 0.91 * 10^-30; //in kg\n",
"q = 1.6*10^-19;\n",
"h = 1.05*10^-34; //in J.s\n",
"m1 = 0.065*m0; //for GaAs\n",
"m2 = 0.02*m0; // for InAs\n",
"E1 = 1.5; //in eV\n",
"E2 = 0.4; //in eV\n",
"p1 = -4*(2*m1)^0.5*(E1*q)^1.5/(3*q*h*E);\n",
"disp(p1,'Tunneling probability is exponent to the power')\n",
"tp1 = %e^p1;\n",
"disp(tp1,'Tunneling probability = ')\n",
"p2 = -4*(2*m2)^0.5*(E2*q)^1.5/(3*q*h*E);\n",
"disp(p2,'Tunneling probability is exponent to the power')\n",
"tp2 = %e^p2;\n",
"disp(tp2,'Tunneling probability = ')\n",
"disp('In InAs the band-to-band tunneling will start becoming very important if the field is ∼ 2 × 105 V/cm.')"
   ]
   }
],
"metadata": {
		  "kernelspec": {
		   "display_name": "Scilab",
		   "language": "scilab",
		   "name": "scilab"
		  },
		  "language_info": {
		   "file_extension": ".sce",
		   "help_links": [
			{
			 "text": "MetaKernel Magics",
			 "url": "https://github.com/calysto/metakernel/blob/master/metakernel/magics/README.md"
			}
		   ],
		   "mimetype": "text/x-octave",
		   "name": "scilab",
		   "version": "0.7.1"
		  }
		 },
		 "nbformat": 4,
		 "nbformat_minor": 0
}
