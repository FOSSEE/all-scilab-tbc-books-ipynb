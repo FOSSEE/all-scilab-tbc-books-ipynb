{
"cells": [
 {
		   "cell_type": "markdown",
	   "metadata": {},
	   "source": [
       "# Chapter 9: FIELD EFFECT TRANSISTORS MOSFET"
	   ]
	},
{
		   "cell_type": "markdown",
		   "metadata": {},
		   "source": [
			"## Example 9.10: shift_in_the_threshold_voltage_arising_from_source_body_bias.sce"
		   ]
		  },
  {
"cell_type": "code",
	   "execution_count": null,
	   "metadata": {
	    "collapsed": true
	   },
	   "outputs": [],
"source": [
"kT = 26*10^-3; //in eV\n",
"q = 1.6*10^-19;\n",
"ni = 1.5*10^10;\n",
"eps0 = 8.85*10^-14; //in F/m\n",
"eps = 11.9*eps0;\n",
"eps1 = 3.9*eps0;\n",
"Na = 2*10^16;\n",
"dox = 500*10^-8;\n",
"Vsb = 1;\n",
"phiF = kT*log(Na/ni);\n",
"disp(phiF,'The Fermi level position (in V) for the device = ')\n",
"Cox = eps1/dox;\n",
"disp(Cox,'The oxide capacitance (in F/cm2) = ')\n",
"dVt = (2*q*eps*Na)^0.5/Cox*((2*phiF+1)^0.5 - (2*phiF)^0.5);\n",
"disp(dVt,'The change in the threshold voltage (in V) = ')"
   ]
   }
,
{
		   "cell_type": "markdown",
		   "metadata": {},
		   "source": [
			"## Example 9.11: n_channel_MOSFET_characteristics.sce"
		   ]
		  },
  {
"cell_type": "code",
	   "execution_count": null,
	   "metadata": {
	    "collapsed": true
	   },
	   "outputs": [],
"source": [
"kT = 26*10^-3; //in eV\n",
"q = 1.6*10^-19;\n",
"ni = 1.5*10^10;\n",
"eps0 = 8.85*10^-14; //in F/m\n",
"eps = 11.9*eps0;\n",
"eps1 = 3.9*eps0;\n",
"Na = 10^14;\n",
"dox = 500*10^-8;\n",
"phiMS = -0.83;\n",
"t = 0.1*10^-4;\n",
"dVt = 0.5;\n",
"phiF = kT*log(Na/ni);\n",
"disp(phiF,'The Fermi level position (in V) for the device = ')\n",
"Qs = (4*eps*phiF*q*Na)^0.5;\n",
"Vt = phiMS+2*phiF + (Qs*dox/eps1);\n",
"disp(Vt,'The threshold voltage (in V) = ')\n",
"disp('In this device there is an inversion layer formed even at zero gate bias and the device is in the depletion mode. To increase the threshold voltage by + 0.5 V, i.e., to convert the device into an enhancement-mode device, we need to place more negative charge in the channel. If we assume that the excess acceptors are placed close to the semiconductor-oxide region (i.e., within the distance Wmax), the shift in threshold voltage is simply (Na2D is the areal density of the acceptors implanted)')\n",
"Na2D = dVt/dox*eps1/q;\n",
"disp(Na2D, 'the areal density (in per cm2) of the acceptors implanted = ')\n",
"Na1 = Na2D/t;\n",
"disp(Na1,'The dopants are distributed over a thickness of 0.1 μm, the dopant density (in per cm3) = ')"
   ]
   }
,
{
		   "cell_type": "markdown",
		   "metadata": {},
		   "source": [
			"## Example 9.1: maximum_depletion_width_in_a_MOS_capacitor.sce"
		   ]
		  },
  {
"cell_type": "code",
	   "execution_count": null,
	   "metadata": {
	    "collapsed": true
	   },
	   "outputs": [],
"source": [
"kT = 26*10^-3; //in eV\n",
"T = 300;\n",
"q = 1.6*10^-19;\n",
"Na = 10^16;\n",
"ni = 1.5*10^10;\n",
"eps0 = 8.84*10^-14; //in F/m\n",
"eps = 11.9*eps0;\n",
"phiF = kT*log(Na/ni);\n",
"disp(phiF,'the potential φF (in V) = ')\n",
"W = (4*eps*phiF/(q*Na))^0.5;\n",
"disp(W,'The corresponding space charge width(in cm) = ')"
   ]
   }
,
{
		   "cell_type": "markdown",
		   "metadata": {},
		   "source": [
			"## Example 9.2: MOS_capacitor.sce"
		   ]
		  },
  {
"cell_type": "code",
	   "execution_count": null,
	   "metadata": {
	    "collapsed": true
	   },
	   "outputs": [],
"source": [
"kT = 26*10^-3; //in eV\n",
"T = 300;\n",
"q = 1.6*10^-19;\n",
"Wf = 4.1;\n",
"EA1 = 0.9;\n",
"EA2 = 4.15;\n",
"Na = 10^14;\n",
"Eg = 1.11;\n",
"Efi = Eg/2;\n",
"Ef = Efi + kT*log(Na/ni);\n",
"disp(Ef,'Ef = ')\n",
"disp('below the conduction band')\n",
"Vfb = Wf - (EA2+Ef);\n",
"disp(Vfb,'V(fb) = ')"
   ]
   }
,
{
		   "cell_type": "markdown",
		   "metadata": {},
		   "source": [
			"## Example 9.3: MOS_capacitor_threshold_voltage.sce"
		   ]
		  },
  {
"cell_type": "code",
	   "execution_count": null,
	   "metadata": {
	    "collapsed": true
	   },
	   "outputs": [],
"source": [
"Na = 3*10^16;\n",
"t = 500*10^-8;\n",
"Vfb = -1.13;\n",
"T = 300;\n",
"kT = 26*10^-3; //in eV\n",
"q = 1.6*10^-19;\n",
"ni = 1.5*10^10;\n",
"eps0 = 8.85*10^-14; //in F/m\n",
"eps = 11.9*eps0;\n",
"eps1 = 3.9*eps0;\n",
"c = 10^11;\n",
"phiF = kT*log(Na/ni);\n",
"disp(phiF,'The position of the Fermi level (in V) is given by (measured from the intrinsic Fermi level)')\n",
"Qs = (4*eps*phiF*q*Na)^0.5;\n",
"disp(Qs,'Under the assumption that the charge Qs is simple NaW where W is the maximum depletion width, we get Qs (in C per cm2)= ')\n",
"Vt = Vfb+2*phiF+(Qs*t/eps1);\n",
"disp(Vt,'In the absence of any oxide charge, the threshold voltage (in V) = ')\n",
"dVt = c*q*(t/eps1);\n",
"disp(dVt,'In the case where the oxide has trap charges, the threshold voltage is shifted by ΔVT (in V)= ')"
   ]
   }
,
{
		   "cell_type": "markdown",
		   "metadata": {},
		   "source": [
			"## Example 9.4: MOS_capacitor_threshold_voltage_and_channel_conductivity.sce"
		   ]
		  },
  {
"cell_type": "code",
	   "execution_count": null,
	   "metadata": {
	    "collapsed": true
	   },
	   "outputs": [],
"source": [
"Na = 5*10^16;\n",
"phiMS = -0.5;\n",
"un = 600;\n",
"up = 200;\n",
"T = 300;\n",
"kT = 26*10^-3; //in eV\n",
"q = 1.6*10^-19;\n",
"ni = 1.5*10^10;\n",
"eps0 = 8.85*10^-14; //in F/m\n",
"eps = 11.9*eps0;\n",
"eps1 = 3.9*eps0;\n",
"psiS = 2*phiF;\n",
"w = 200*10^-8;\n",
"sigma_fb= Na*q*up;\n",
"disp(sigma_fb,'σ(fb) (in per ohm-cm) = ')\n",
"sigma_inv = Na*q*un;\n",
"disp(sigma_inv,'σ(inv) (in per ohm-cm) = ')\n",
"phiF = kT*log(Na/ni);\n",
"disp(phiF,'φF (in V) = ')\n",
"Vt = phiMS + psiS + 1.637;\n",
"disp(Vt,'the threshold voltage (in V) = ')"
   ]
   }
,
{
		   "cell_type": "markdown",
		   "metadata": {},
		   "source": [
			"## Example 9.6: EX9_6.sce"
		   ]
		  },
  {
"cell_type": "code",
	   "execution_count": null,
	   "metadata": {
	    "collapsed": true
	   },
	   "outputs": [],
"source": [
"Na = 10^16;\n",
"t = 500*10^-8;\n",
"kT = 26*10^-3; //in eV\n",
"q = 1.6*10^-19;\n",
"ni = 1.5*10^10;\n",
"eps0 = 8.85*10^-14; //in F/m\n",
"eps = 11.9*eps0;\n",
"eps1 = 3.9*eps0;\n",
"Cox = eps1/t;\n",
"disp(Cox,'The oxide capacitance (in F/cm2) = ')\n",
"phiF = kT*log(Na/ni);\n",
"disp(phiF,'φF(in V) = ')\n",
"Wmax = (4*eps*phiF/(q*Na))^0.5;\n",
"disp(Wmax,'The maximum depletion width (in cm) = ')\n",
"Cmin = eps1/(t+(eps1*Wmax/eps));\n",
"disp(Cmin,'The minimum capacitance (in F/cm2) = ')\n",
"Cfb = eps1/(t+(eps1/eps*(kT*eps/q/Na)^0.5));\n",
"disp(Cfb,'The capacitance (in F/cm2) under flat band conditions = ')\n",
"disp('Note that Cfb is ∼ 80% of Cox and Cmin is ∼ 33% of Cox.')"
   ]
   }
,
{
		   "cell_type": "markdown",
		   "metadata": {},
		   "source": [
			"## Example 9.7: saturation_current_of_MOSFET.sce"
		   ]
		  },
  {
"cell_type": "code",
	   "execution_count": null,
	   "metadata": {
	    "collapsed": true
	   },
	   "outputs": [],
"source": [
"L = 1.5*10^-4;\n",
"Z = 25*10^-4;\n",
"un = 600;\n",
"Na = 10^16;\n",
"dox = 500*10^-8;\n",
"Qss = 10^11;\n",
"phiMS = -1.13;\n",
"V = 5;\n",
"kT = 26*10^-3; //in eV\n",
"q = 1.6*10^-19;\n",
"ni = 1.5*10^10;\n",
"eps0 = 8.85*10^-14; //in F/m\n",
"eps = 11.9*eps0;\n",
"eps1 = 3.9*eps0;\n",
"phiF = kT*log(Na/ni);\n",
"disp(phiF,'The Fermi level position (in V) for the device = ')\n",
"Cox = eps/dox;\n",
"Vfb = phiMS - 0.23;\n",
"disp(Vfb,'The flat band voltage (in V) = ')\n",
"Qs = (4*eps*phiF*q*Na)^0.5;\n",
"Vt = Vfb + 2*phiF + (Qs*dox/eps1);\n",
"disp(Vt,'The threshold voltage (in V) = ')\n",
"Id = Z*un*eps1*(V-Vt)^2/(2*L*dox);\n",
"disp(Id,'The saturation current (in A) = ')"
   ]
   }
,
{
		   "cell_type": "markdown",
		   "metadata": {},
		   "source": [
			"## Example 9.8: drain_current_for_NMOS_device.sce"
		   ]
		  },
  {
"cell_type": "code",
	   "execution_count": null,
	   "metadata": {
	    "collapsed": true
	   },
	   "outputs": [],
"source": [
"kT = 26*10^-3; //in eV\n",
"q = 1.6*10^-19;\n",
"ni = 1.5*10^10;\n",
"eps0 = 8.85*10^-14; //in F/m\n",
"eps = 11.9*eps0;\n",
"eps1 = 3.9*eps0;\n",
"phiMS = 0;\n",
"Na = 4*10^14;\n",
"dox = 200*10^-8;\n",
"L = 10^-4;\n",
"Z = 10*10^-4;\n",
"Vgs = 5;\n",
"Vd = 4;\n",
"un = 700;\n",
"phiF = kT*log(Na/ni);\n",
"disp(phiF,'The Fermi level position (in V) for the device = ')\n",
"Qs = (4*eps*phiF*q*Na)^0.5;\n",
"Vt = 2*phiF + (Qs*dox/eps1);\n",
"disp(Vt,'The threshold voltage (in V) = ')\n",
"Vds = Vgs - Vt;\n",
"disp(Vds,'saturation voltage (in V) for a gate bias of 5 V = ')\n",
"Id = Z*un*eps1*(Vds)^2/(2*L*dox);\n",
"disp(Id,'The saturation current (in A) = ')"
   ]
   }
,
{
		   "cell_type": "markdown",
		   "metadata": {},
		   "source": [
			"## Example 9.9: threshold_voltage_in_n_channel_MOSFET.sce"
		   ]
		  },
  {
"cell_type": "code",
	   "execution_count": null,
	   "metadata": {
	    "collapsed": true
	   },
	   "outputs": [],
"source": [
"Z = 10*10^-4;\n",
"L = 2*10^-4;\n",
"Cox = 10^-7;\n",
"Vds = 0.1;\n",
"Vgs1 = 1.5;\n",
"Id1 = 50*10^-6;\n",
"Vgs2 = 2.5;\n",
"Id2 = 80*10^-6;\n",
"slope = Id2-Id1/(Vgs2-Vgs1);\n",
"Vt = -Id2/slope + Vgs2;\n",
"disp(Vt,'the threshold voltage (in V) = ')"
   ]
   }
],
"metadata": {
		  "kernelspec": {
		   "display_name": "Scilab",
		   "language": "scilab",
		   "name": "scilab"
		  },
		  "language_info": {
		   "file_extension": ".sce",
		   "help_links": [
			{
			 "text": "MetaKernel Magics",
			 "url": "https://github.com/calysto/metakernel/blob/master/metakernel/magics/README.md"
			}
		   ],
		   "mimetype": "text/x-octave",
		   "name": "scilab",
		   "version": "0.7.1"
		  }
		 },
		 "nbformat": 4,
		 "nbformat_minor": 0
}
