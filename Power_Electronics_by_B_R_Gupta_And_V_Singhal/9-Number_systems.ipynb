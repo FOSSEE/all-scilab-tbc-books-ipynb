{
"cells": [
 {
		   "cell_type": "markdown",
	   "metadata": {},
	   "source": [
       "# Chapter 9: Number systems"
	   ]
	},
{
		   "cell_type": "markdown",
		   "metadata": {},
		   "source": [
			"## Example 9.10: Calculate_addition_and_subtraction_of_the_numbers.sce"
		   ]
		  },
  {
"cell_type": "code",
	   "execution_count": null,
	   "metadata": {
	    "collapsed": true
	   },
	   "outputs": [],
"source": [
"//9.10\n",
"clc;\n",
"c=24;\n",
"xc= bitcmp (c ,8);\n",
"A=xc+1;\n",
"B=16;\n",
"Ans=A+B;\n",
"a=dec2bin(Ans)\n",
"disp(a)\n",
"disp('Since the MSB is 1 so the number is negative and equal to -8')\n",
"\n",
"Ans=A-B;\n",
"a=dec2bin(Ans)\n",
"disp(a)\n",
"disp('Since the MSB is 1 so the number is negative and equal to -40')"
   ]
   }
,
{
		   "cell_type": "markdown",
		   "metadata": {},
		   "source": [
			"## Example 9.11: Calculate_addition_and_subtraction_of_the_numbers.sce"
		   ]
		  },
  {
"cell_type": "code",
	   "execution_count": null,
	   "metadata": {
	    "collapsed": true
	   },
	   "outputs": [],
"source": [
"//9.11\n",
"clc;\n",
"c=60;\n",
"xc= bitcmp (c ,8);\n",
"A=xc+1;\n",
"d=28;\n",
"xd= bitcmp (d ,8);\n",
"B=xd+1;\n",
"Ans=B+A;\n",
"a=dec2bin(Ans)\n",
"disp(a)\n",
"disp('Since the MSB is 1 so the number is negative and equal to -88')\n",
"Ans=B-A;\n",
"a=dec2bin(Ans,8)\n",
"disp(a)\n",
"disp('Since the MSB is 0 so the number is positive and equal to +32')"
   ]
   }
,
{
		   "cell_type": "markdown",
		   "metadata": {},
		   "source": [
			"## Example 9.12: Convert_decimal_number_into_equivalent_binary_number.sce"
		   ]
		  },
  {
"cell_type": "code",
	   "execution_count": null,
	   "metadata": {
	    "collapsed": true
	   },
	   "outputs": [],
"source": [
"// 9.12\n",
"clc;\n",
"q =0;\n",
"b =0;\n",
"s =0;\n",
"a =0.6875;   // accepting the decimal input from user \n",
"d = modulo (a ,1) ;\n",
"a = floor ( a ) ;\n",
"while (a >0)\n",
"x = modulo (a ,2) ;\n",
"b = b + (10^ q ) * x ;\n",
" a = a /2;\n",
" a = floor ( a ) ;\n",
" q = q +1;\n",
" end\n",
" for i =1:10\n",
" // for fractional part\n",
"d = d *2;\n",
" q = floor ( d ) ;\n",
" s = s + q /(10^ i ) ;\n",
" if d >=1 then\n",
" d =d -1;\n",
" end\n",
"end\n",
"m=b+s;\n",
"printf('Equivalent binary number=%.4f',m)"
   ]
   }
,
{
		   "cell_type": "markdown",
		   "metadata": {},
		   "source": [
			"## Example 9.13: Convert_decimal_number_into_equivalent_binary_number.sce"
		   ]
		  },
  {
"cell_type": "code",
	   "execution_count": null,
	   "metadata": {
	    "collapsed": true
	   },
	   "outputs": [],
"source": [
"// 9.13\n",
"clc;\n",
"q =0;\n",
"b =0;\n",
"s =0;\n",
"a =0.634;   // accepting the decimal input from user \n",
"d = modulo (a ,1) ;\n",
"a = floor ( a ) ;\n",
"while (a >0)\n",
"x = modulo (a ,2) ;\n",
"b = b + (10^ q ) * x ;\n",
" a = a /2;\n",
" a = floor ( a ) ;\n",
" q = q +1;\n",
" end\n",
" for i =1:10\n",
" // for fractional part\n",
"d = d *2;\n",
" q = floor ( d ) ;\n",
" s = s + q /(10^ i ) ;\n",
" if d >=1 then\n",
" d =d -1;\n",
" end\n",
"end\n",
"m=b+s;\n",
"printf('Equivalent binary number=%.7f',m)"
   ]
   }
,
{
		   "cell_type": "markdown",
		   "metadata": {},
		   "source": [
			"## Example 9.14: Convert_decimal_number_into_equivalent_binary_number.sce"
		   ]
		  },
  {
"cell_type": "code",
	   "execution_count": null,
	   "metadata": {
	    "collapsed": true
	   },
	   "outputs": [],
"source": [
"// 9.14\n",
"clc;\n",
"clear;\n",
"q =0;\n",
"b =0;\n",
"s =0;\n",
"a =39.12;   // accepting the decimal input from user \n",
"d = modulo (a ,1) ;\n",
"a = floor ( a ) ;\n",
"while (a >0)\n",
"x = modulo (a ,2) ;\n",
"b = b + (10^ q ) * x ;\n",
" a = a /2;\n",
" a = floor ( a ) ;\n",
" q = q +1;\n",
" end\n",
" for i =1:10\n",
" // for fractional part\n",
"d = d *2;\n",
" q = floor ( d ) ;\n",
" s = s + q /(10^ i ) ;\n",
" if d >=1 then\n",
" d =d -1;\n",
" end\n",
"end\n",
"m=b+s;\n",
"printf('Equivalent binary number=%.7f',m)"
   ]
   }
,
{
		   "cell_type": "markdown",
		   "metadata": {},
		   "source": [
			"## Example 9.15: Find_the_addition_of_binary_numbers.sce"
		   ]
		  },
  {
"cell_type": "code",
	   "execution_count": null,
	   "metadata": {
	    "collapsed": true
	   },
	   "outputs": [],
"source": [
"//9.15\n",
"clc;\n",
"a='1011010101';\n",
"d=bin2dec(a);\n",
"c='100011010';\n",
"b=bin2dec(c);\n",
"e=d+b;\n",
"f=dec2bin(e);\n",
"disp('addition of binary numbers =')\n",
"disp(f)"
   ]
   }
,
{
		   "cell_type": "markdown",
		   "metadata": {},
		   "source": [
			"## Example 9.16: Convert_binary_number_into_equivalent_decimal_number.sce"
		   ]
		  },
  {
"cell_type": "code",
	   "execution_count": null,
	   "metadata": {
	    "collapsed": true
	   },
	   "outputs": [],
"source": [
"//9.16\n",
"clc;\n",
"p =1;\n",
" q =1;\n",
" z =0;\n",
" b =0;\n",
" w =0;\n",
" f =0;\n",
"bin =11001.001011; // binary input\n",
"d = modulo (bin ,1) ;\n",
"d= d *10^10;\n",
" a = floor ( bin ) ;\n",
" while (a >0)\n",
" r = modulo (a ,10) ;\n",
" b(1,q) = r ;\n",
" a=a /10;\n",
" a= floor ( a ) ;\n",
" q = q +1;\n",
" end\n",
" for m =1: q -1\n",
" c=m -1;\n",
" f=f+b(1,m) *(2^ c);\n",
" end\n",
" while (d >0)\n",
" e = modulo (d ,2)\n",
" w (1 , p ) = e\n",
" d = d /10;\n",
" d = floor ( d )\n",
" p = p +1;\n",
" end\n",
" for n =1: p -1\n",
" z = z + w (1 , n ) *(0.5) ^(11 - n ) ;\n",
" end\n",
" z = z *10000;\n",
" z = round ( z ) ;\n",
" z = z /10000;\n",
" x=f+z;\n",
" printf('Equivalent decimal number=%.6f',x)"
   ]
   }
,
{
		   "cell_type": "markdown",
		   "metadata": {},
		   "source": [
			"## Example 9.17: Convert_hexadecimal_number_into_equivalent_decimal_number.sce"
		   ]
		  },
  {
"cell_type": "code",
	   "execution_count": null,
	   "metadata": {
	    "collapsed": true
	   },
	   "outputs": [],
"source": [
"//9.17\n",
"clc;\n",
"a='8A3';\n",
"disp('The decimal no. is')\n",
"x=hex2dec(a);\n",
"disp('',x)"
   ]
   }
,
{
		   "cell_type": "markdown",
		   "metadata": {},
		   "source": [
			"## Example 9.18: Convert_decimal_number_into_equivalent_hexadecimal_number.sce"
		   ]
		  },
  {
"cell_type": "code",
	   "execution_count": null,
	   "metadata": {
	    "collapsed": true
	   },
	   "outputs": [],
"source": [
"//9.18\n",
"clc;\n",
"a=268;\n",
"disp('The hexa decimal no. is')\n",
"x=dec2hex(a);\n",
"disp('',x)"
   ]
   }
,
{
		   "cell_type": "markdown",
		   "metadata": {},
		   "source": [
			"## Example 9.19: Convert_decimal_number_into_equivalent_hexadecimal_number.sce"
		   ]
		  },
  {
"cell_type": "code",
	   "execution_count": null,
	   "metadata": {
	    "collapsed": true
	   },
	   "outputs": [],
"source": [
"//9.19\n",
"clc;\n",
"a=5741;\n",
"disp('The hexa decimal no. is')\n",
"x=dec2hex(a);\n",
"disp('',x)"
   ]
   }
,
{
		   "cell_type": "markdown",
		   "metadata": {},
		   "source": [
			"## Example 9.1: Convert_decimal_number_into_equivalent_binary_number.sce"
		   ]
		  },
  {
"cell_type": "code",
	   "execution_count": null,
	   "metadata": {
	    "collapsed": true
	   },
	   "outputs": [],
"source": [
"//9.1\n",
"clc;\n",
"x=10;\n",
"disp('The binary number is')\n",
"a=dec2bin(x);\n",
"disp('',a)"
   ]
   }
,
{
		   "cell_type": "markdown",
		   "metadata": {},
		   "source": [
			"## Example 9.20: Convert_hexadecimal_number_into_equivalent_decimal_number.sce"
		   ]
		  },
  {
"cell_type": "code",
	   "execution_count": null,
	   "metadata": {
	    "collapsed": true
	   },
	   "outputs": [],
"source": [
"//9.20\n",
"clc;\n",
"a='D70';\n",
"disp('The decimal no. is')\n",
"x=hex2dec(a);\n",
"disp('',x)"
   ]
   }
,
{
		   "cell_type": "markdown",
		   "metadata": {},
		   "source": [
			"## Example 9.2: Convert_decimal_number_into_equivalent_binary_number.sce"
		   ]
		  },
  {
"cell_type": "code",
	   "execution_count": null,
	   "metadata": {
	    "collapsed": true
	   },
	   "outputs": [],
"source": [
"//9.2\n",
"clc;\n",
"x=25;\n",
"disp('The binary number is')\n",
"a=dec2bin(x);\n",
"disp('',a)"
   ]
   }
,
{
		   "cell_type": "markdown",
		   "metadata": {},
		   "source": [
			"## Example 9.3: Convert_binary_number_into_equivalent_decimal_number.sce"
		   ]
		  },
  {
"cell_type": "code",
	   "execution_count": null,
	   "metadata": {
	    "collapsed": true
	   },
	   "outputs": [],
"source": [
"//9.3\n",
"clc;\n",
"a='101110';\n",
"disp('The decimal no. is')\n",
"x=bin2dec(a);\n",
"disp('',x)"
   ]
   }
,
{
		   "cell_type": "markdown",
		   "metadata": {},
		   "source": [
			"## Example 9.4: Convert_decimal_number_into_equivalent_binary_number.sce"
		   ]
		  },
  {
"cell_type": "code",
	   "execution_count": null,
	   "metadata": {
	    "collapsed": true
	   },
	   "outputs": [],
"source": [
"//9.4\n",
"clc;\n",
"x=15;\n",
"disp('The binary number of decimal 15 is')\n",
"a=dec2bin(x);\n",
"disp('',a)\n",
"x=31;\n",
"disp('The binary number of decimal 31 is')\n",
"a=dec2bin(x);\n",
"disp('',a)"
   ]
   }
,
{
		   "cell_type": "markdown",
		   "metadata": {},
		   "source": [
			"## Example 9.5: Calculate_the_subtraction_of_two_binary_numbers.sci"
		   ]
		  },
  {
"cell_type": "code",
	   "execution_count": null,
	   "metadata": {
	    "collapsed": true
	   },
	   "outputs": [],
"source": [
"//9.5\n",
"clc;\n",
"a='11001';\n",
"b=bin2dec(a);\n",
"c='10001';\n",
"f=bin2dec(c);\n",
"d=b-f;\n",
"s=dec2bin(d);\n",
"disp('Subtraction of two binary numbers=')\n",
"disp(s)\n",
""
   ]
   }
,
{
		   "cell_type": "markdown",
		   "metadata": {},
		   "source": [
			"## Example 9.6: Calculate_the_subtraction_of_two_binary_numbers.sci"
		   ]
		  },
  {
"cell_type": "code",
	   "execution_count": null,
	   "metadata": {
	    "collapsed": true
	   },
	   "outputs": [],
"source": [
"//9.6\n",
"clc;\n",
"a='1010';\n",
"b=bin2dec(a);\n",
"c='0111';\n",
"f=bin2dec(c);\n",
"d=b-f;\n",
"s=dec2bin(d);\n",
"disp('Subtraction of two binary numbers=')\n",
"disp(s)\n",
""
   ]
   }
,
{
		   "cell_type": "markdown",
		   "metadata": {},
		   "source": [
			"## Example 9.7: Express_the_decimals_in_16_bit_signed_binary_system.sce"
		   ]
		  },
  {
"cell_type": "code",
	   "execution_count": null,
	   "metadata": {
	    "collapsed": true
	   },
	   "outputs": [],
"source": [
"//9.7\n",
"clc;\n",
"a=8;\n",
"b=dec2bin(a);\n",
"disp(b)\n",
"disp('The 16 bit signed binary number of +8=0000 0000 0000 1000')\n",
"disp('The 16 bit signed binary number of -8=1000 0000 0000 1000')\n",
"a=165;\n",
"b=dec2bin(a);\n",
"disp(b)\n",
"disp('The 16 bit signed binary number of +165=0000 0000 1010 0101')\n",
"disp('The 16 bit signed binary number of -165=1000 0000 1010 0101')"
   ]
   }
,
{
		   "cell_type": "markdown",
		   "metadata": {},
		   "source": [
			"## Example 9.8: Calculate_the_twos_complement_representation.sce"
		   ]
		  },
  {
"cell_type": "code",
	   "execution_count": null,
	   "metadata": {
	    "collapsed": true
	   },
	   "outputs": [],
"source": [
"//9.8\n",
"clc;\n",
"a='0001 1111';\n",
"disp(a)\n",
"disp('Since the MSB is 0 so this is a positive number and its 2 s complement representation is')\n",
"b=bin2dec(a);\n",
"disp(b)\n",
"a='1110 0101';\n",
"disp(a)\n",
"disp('Since the MSB is 1 so this is a negative number and its 2 s complement representation is')\n",
"c=bin2dec(a);\n",
"xc= bitcmp (c ,8);\n",
"b=xc+1;\n",
"disp(b)\n",
"a='1111 0111';\n",
"disp(a)\n",
"disp('Since the MSB is 1 so this is a negative number and its 2 s complement representation is')\n",
"c=bin2dec(a);\n",
"xc= bitcmp (c ,8);\n",
"b=xc+1;\n",
"disp(b)"
   ]
   }
,
{
		   "cell_type": "markdown",
		   "metadata": {},
		   "source": [
			"## Example 9.9: Find_the_largest_positive_and_negative_number_for_8_bits.sce"
		   ]
		  },
  {
"cell_type": "code",
	   "execution_count": null,
	   "metadata": {
	    "collapsed": true
	   },
	   "outputs": [],
"source": [
"//9.9\n",
"clc;\n",
"disp('The largest 8 bit positive number is +127 and is represented in binary as')\n",
"a='0111 1111';\n",
"disp(a)\n",
"disp('The largest 8 bit negative number is -128 and is represented in binary as')\n",
"a='1000 0000';\n",
"disp(a)"
   ]
   }
],
"metadata": {
		  "kernelspec": {
		   "display_name": "Scilab",
		   "language": "scilab",
		   "name": "scilab"
		  },
		  "language_info": {
		   "file_extension": ".sce",
		   "help_links": [
			{
			 "text": "MetaKernel Magics",
			 "url": "https://github.com/calysto/metakernel/blob/master/metakernel/magics/README.md"
			}
		   ],
		   "mimetype": "text/x-octave",
		   "name": "scilab",
		   "version": "0.7.1"
		  }
		 },
		 "nbformat": 4,
		 "nbformat_minor": 0
}
