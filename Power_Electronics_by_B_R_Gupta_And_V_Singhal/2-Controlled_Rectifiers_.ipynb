{
"cells": [
 {
		   "cell_type": "markdown",
	   "metadata": {},
	   "source": [
       "# Chapter 2: Controlled Rectifiers "
	   ]
	},
{
		   "cell_type": "markdown",
		   "metadata": {},
		   "source": [
			"## Example 2.10: EX2_10.sce"
		   ]
		  },
  {
"cell_type": "code",
	   "execution_count": null,
	   "metadata": {
	    "collapsed": true
	   },
	   "outputs": [],
"source": [
"//2.10\n",
"clc;\n",
"Vdc=100;\n",
"Vm=(Vdc+1.7)*%pi/(2*cosd(30));\n",
"Vrms_sec=Vm/2^0.5;\n",
"Vrms_pri=230;\n",
"Turn_ratio=Vrms_pri/Vrms_sec;\n",
"printf('\nTurn Ratio = %.2f ', Turn_ratio)\n",
"Ip=15;\n",
"Irms_sec=(Ip^2/2)^0.5;\n",
"Trans_rating=2*Vrms_sec*Irms_sec;\n",
"printf('\nTransformer rating = %.2f VA', Trans_rating)\n",
"PIV=2*Vm;\n",
"printf('\nPIV = %.2f V', PIV)\n",
"printf('\nRMS value of thyristor current = %.2f A', Irms_sec)"
   ]
   }
,
{
		   "cell_type": "markdown",
		   "metadata": {},
		   "source": [
			"## Example 2.11: Calculate_the_voltage_rating_of_full_wave_central_tap_and_bridge_rectifiers.sce"
		   ]
		  },
  {
"cell_type": "code",
	   "execution_count": null,
	   "metadata": {
	    "collapsed": true
	   },
	   "outputs": [],
"source": [
"//2.11\n",
"clc;\n",
"Idc=50;\n",
"Vdc=10*1000/Idc;\n",
"Vm=200*%pi/2;\n",
"PIV_central_tap=2*Vm;\n",
"V_rating_central_tap =2*PIV_central_tap;\n",
"printf('The rated voltage of full wave central tap transformer rectifier = %.2f V', V_rating_central_tap )\n",
"PIV_bridge=Vm;\n",
"V_rating_bridge=2*PIV_bridge;\n",
"printf('\nThe rated voltage of full wave bridge rectifier = %.2f V', V_rating_bridge )"
   ]
   }
,
{
		   "cell_type": "markdown",
		   "metadata": {},
		   "source": [
			"## Example 2.12: Find_the_output_voltage_firing_angle_and_load_current.sce"
		   ]
		  },
  {
"cell_type": "code",
	   "execution_count": null,
	   "metadata": {
	    "collapsed": true
	   },
	   "outputs": [],
"source": [
"//2.12\n",
"clc;\n",
"Vm=230*2^0.5;\n",
"Vrms=(800/1000*230^2)^0.5;\n",
"printf('Output Voltage = %.2f V', Vrms )\n",
"//Vrms=Vm*((%pi-alph)/(2*%pi)+sind(2*alph)/(4*%pi))^0.5 on solving\n",
"alph=61;\n",
"printf('\nFiring angle = %.0f degree', alph )\n",
"I=800/Vrms;\n",
"printf('\nLoad current = %.2f A', I )"
   ]
   }
,
{
		   "cell_type": "markdown",
		   "metadata": {},
		   "source": [
			"## Example 2.13: Find_the_average_power_output_of_full_wave_mid_point_and_bridge_converter.sce"
		   ]
		  },
  {
"cell_type": "code",
	   "execution_count": null,
	   "metadata": {
	    "collapsed": true
	   },
	   "outputs": [],
"source": [
"//2.13\n",
"clc;\n",
"disp('For Mid point converter')\n",
"Vm=800/(2*2.5);\n",
"alph=0;\n",
"Vo=Vm/(%pi)*(1+cosd(alph));\n",
"Idc=30/2.5;\n",
"Pdc=Idc*Vo;\n",
"printf('Average output power = %.2f W', Pdc )\n",
"disp('For bridge converter')\n",
"Vm=800/(2.5);\n",
"alph=0;\n",
"Vo=Vm/(%pi)*(1+cosd(alph));\n",
"Idc=30/2.5;\n",
"Pdc=Idc*Vo;\n",
"printf('Average output power = %.2f W', Pdc )"
   ]
   }
,
{
		   "cell_type": "markdown",
		   "metadata": {},
		   "source": [
			"## Example 2.14: Find_dc_output_voltage_and_power.sce"
		   ]
		  },
  {
"cell_type": "code",
	   "execution_count": null,
	   "metadata": {
	    "collapsed": true
	   },
	   "outputs": [],
"source": [
"//2.14\n",
"clc;\n",
"Vm=230*2^0.5;\n",
"alph=30;\n",
"Vo=Vm/(2*%pi)*(3+cosd(alph));\n",
"Idc=Vo/10;\n",
"printf('dc output voltage = %.1f V', Vo )\n",
"Pdc=Idc*Vo;\n",
"printf('\ndc power = %.2f W', Pdc )"
   ]
   }
,
{
		   "cell_type": "markdown",
		   "metadata": {},
		   "source": [
			"## Example 2.15: Find_dc_output_voltage_and_power.sce"
		   ]
		  },
  {
"cell_type": "code",
	   "execution_count": null,
	   "metadata": {
	    "collapsed": true
	   },
	   "outputs": [],
"source": [
"//2.15\n",
"clc;\n",
"Vm=230*2^0.5;\n",
"Vo=2*Vm/%pi;\n",
"Idc=Vo/10;\n",
"printf('dc output voltage = %.2f V', Vo )\n",
"Pdc=Idc*Vo;\n",
"printf('\ndc power = %.2f W', Pdc )"
   ]
   }
,
{
		   "cell_type": "markdown",
		   "metadata": {},
		   "source": [
			"## Example 2.16: Calculate_the_firing_angle_and_power_factor.sce"
		   ]
		  },
  {
"cell_type": "code",
	   "execution_count": null,
	   "metadata": {
	    "collapsed": true
	   },
	   "outputs": [],
"source": [
"//\n",
"clc;\n",
"disp('If E=100 V')\n",
"Vm=230*2^0.5;\n",
"E=100;\n",
"R=0.5;\n",
"Io=15;\n",
"alph=acosd((E+15*0.5)*%pi/(2*Vm));\n",
"printf('Firing Angle = %.2f degree', alph)\n",
"pf=(100*15+15^2*0.5)/(230*15);\n",
"printf('\nPower factor = %.3f lagging', pf)\n",
"disp('If E=-100 V')\n",
"E=-100;\n",
"alph=acosd((E+15*0.5)*%pi/(2*Vm));\n",
"printf('\nFiring Angle when E is -100 = %.2f W', alph)\n",
"pf=(100*15-15^2*0.5)/(230*15);\n",
"printf('\nPower factor = %.3f lagging', pf)"
   ]
   }
,
{
		   "cell_type": "markdown",
		   "metadata": {},
		   "source": [
			"## Example 2.17: Find_the_average_value_of_load_current.sce"
		   ]
		  },
  {
"cell_type": "code",
	   "execution_count": null,
	   "metadata": {
	    "collapsed": true
	   },
	   "outputs": [],
"source": [
"//2.17\n",
"clc;\n",
"Vm=230*2^0.5;\n",
"alph=40;\n",
"Io=((2*Vm/%pi*cosd(alph))-50)/5;\n",
"printf('Average value of load current = %.2f A', Io)"
   ]
   }
,
{
		   "cell_type": "markdown",
		   "metadata": {},
		   "source": [
			"## Example 2.18: EX2_18.sce"
		   ]
		  },
  {
"cell_type": "code",
	   "execution_count": null,
	   "metadata": {
	    "collapsed": true
	   },
	   "outputs": [],
"source": [
"//2.18\n",
"clc;\n",
"Vdc=100;\n",
"Vm=(Vdc+2*1.7)*%pi/(2*cosd(30));\n",
"Vrms_sec=Vm/2^0.5;\n",
"Vrms_pri=230;\n",
"Turn_ratio=Vrms_pri/Vrms_sec;\n",
"printf('\nTurn Ratio = %.2f ', Turn_ratio)\n",
"Irms_sec=15/2^0.5;\n",
"Ip=15;\n",
"Trans_rating=Vrms_sec*Ip;\n",
"printf('\nTransformer rating = %.2f VA', Trans_rating)\n",
"PIV=Vm;\n",
"printf('\nPIV = %.2f V', PIV)\n",
"printf('\nRMS value of thyristor current = %.2f A', Irms_sec)"
   ]
   }
,
{
		   "cell_type": "markdown",
		   "metadata": {},
		   "source": [
			"## Example 2.19: EX2_19.sce"
		   ]
		  },
  {
"cell_type": "code",
	   "execution_count": null,
	   "metadata": {
	    "collapsed": true
	   },
	   "outputs": [],
"source": [
"//2.19\n",
"clc;\n",
"Vm=230*2^0.5;\n",
"Vdc=Vm/%pi*(1+cosd(90));\n",
"printf('dc value of voltage = %.2f V', Vdc)\n",
"Vrms=230*((1/%pi)*(%pi-(%pi/2)+sin(%pi)/2))^0.5;\n",
"printf('\n RMS value of voltage= %.2f V', Vrms)\n",
"form_factor=Vrms/Vdc;\n",
"printf('\nForm factor = %.2f ', form_factor)"
   ]
   }
,
{
		   "cell_type": "markdown",
		   "metadata": {},
		   "source": [
			"## Example 2.20: Calculate_the_different_parameters_of_single_phase_semi_converter_bridge.sce"
		   ]
		  },
  {
"cell_type": "code",
	   "execution_count": null,
	   "metadata": {
	    "collapsed": true
	   },
	   "outputs": [],
"source": [
"//2.20\n",
"clc;\n",
"Vm=230*2^0.5;\n",
"Vdc=Vm/%pi*(1+cosd(90));\n",
"printf('dc value of voltage = %.2f V', Vdc)\n",
"Vrms=230*((1/%pi)*(%pi-(%pi/2)+sin(%pi)/2))^0.5;\n",
"printf('\n RMS value of voltage= %.2f V', Vrms)\n",
"Is=(1-(%pi/2)/%pi)^0.5;\n",
"Is1=2/%pi*2^0.5*cos(%pi/4);\n",
"HF=((Is/Is1)^2-1)^0.5;\n",
"printf('\n Harmonic factor= %.3f ', HF)\n",
"Displacement_factor=cos(-%pi/4);\n",
"printf('\n Displacement factor= %.4f ', Displacement_factor)\n",
"Power_factor=Is1/Is*cos(-%pi/4);\n",
"printf('\n Power factor= %.4f lagging', Power_factor)"
   ]
   }
,
{
		   "cell_type": "markdown",
		   "metadata": {},
		   "source": [
			"## Example 2.21: Calculate_the_different_parameters_of_single_phase_full_converter.sci"
		   ]
		  },
  {
"cell_type": "code",
	   "execution_count": null,
	   "metadata": {
	    "collapsed": true
	   },
	   "outputs": [],
"source": [
"//2.21\n",
"clc;\n",
"Vm=230*2^0.5;\n",
"Vdc=2*Vm/%pi*cosd(60);\n",
"printf('dc value of voltage = %.2f V', Vdc)\n",
"Vrms=230;\n",
"printf('\n RMS value of voltage= %.2f V', Vrms)\n",
"Is1=2*2^0.5/%pi;\n",
"Is=1;\n",
"HF=((Is/Is1)^2-1)^0.5;\n",
"printf('\n Harmonic factor= %.3f ', HF)\n",
"Displacement_factor=cos(-%pi/3);\n",
"printf('\n Displacement factor= %.1f ', Displacement_factor)\n",
"Power_factor=Is1/Is*cos(-%pi/3);\n",
"printf('\n Power factor= %.2f lagging', Power_factor)"
   ]
   }
,
{
		   "cell_type": "markdown",
		   "metadata": {},
		   "source": [
			"## Example 2.22: EX2_22.sce"
		   ]
		  },
  {
"cell_type": "code",
	   "execution_count": null,
	   "metadata": {
	    "collapsed": true
	   },
	   "outputs": [],
"source": [
"//2.22\n",
"clc;\n",
"Vm=230*2^0.5;\n",
"Vdc=2*Vm/%pi*cosd(30);\n",
"R=Vdc/4;\n",
"printf('dc value of voltage = %.1f V', Vdc)\n",
"IL=4;\n",
"I=2*2^0.5/%pi*IL;\n",
"P_input_active=230*I*cosd(30);\n",
"printf('\n Active input power= %.2f W', P_input_active)\n",
"P_input_reactive=230*I*sind(30);\n",
"printf('\n reactive input power= %.2f Vars', P_input_reactive)\n",
"P_input_appearent=230*I;\n",
"printf('\n Active input power= %.2f VA', P_input_appearent)\n",
"\n",
"disp('When freewheeling diode is present')\n",
"Vm=230*2^0.5;\n",
"Vdc=Vm/%pi*(1+cosd(30));\n",
"printf('dc value of voltage = %.1f V', Vdc)\n",
"IL=Vdc/R;\n",
"I=2*2^0.5/%pi*IL*cosd(15);\n",
"P_input_active=230*I*cosd(15);\n",
"printf('\n Active input power= %.2f W', P_input_active)\n",
"P_input_reactive=230*I*sind(15);\n",
"printf('\n reactive input power= %.2f Vars', P_input_reactive)\n",
"P_input_appearent=230*I;\n",
"printf('\n Active input power= %.2f VA', P_input_appearent)\n",
"disp('When Th3 get open circuit')\n",
"Vdc=230/(2^0.5*%pi)*(1+cosd(30));\n",
"printf('dc value of voltage = %.3f V', Vdc)\n",
"Idc=Vdc/R;\n",
"printf('\nAverage dc output current = %.2f A', Idc)\n",
"\n",
"\n",
""
   ]
   }
,
{
		   "cell_type": "markdown",
		   "metadata": {},
		   "source": [
			"## Example 2.23: EX2_23.sce"
		   ]
		  },
  {
"cell_type": "code",
	   "execution_count": null,
	   "metadata": {
	    "collapsed": true
	   },
	   "outputs": [],
"source": [
"//2.23\n",
"clc;\n",
"Vm=230*2^0.5;\n",
"Vdc=2*Vm/%pi*cosd(30);\n",
"printf('dc value of voltage = %.1f V', Vdc)\n",
"Irms=10;\n",
"I=10;\n",
"printf('\n RMS value of current= %.0f A', Irms)\n",
"Is1=2*2^0.5/%pi*I;\n",
"printf('\n Fundamental component of input current= %.0f A', Is1)\n",
"Is=10;\n",
"HF=((Is/Is1)^2-1)^0.5;\n",
"printf('\n Harmonic factor= %.3f ', HF)\n",
"Displacement_factor=cosd(-30);\n",
"printf('\n Displacement factor= %.3f ', Displacement_factor)\n",
"Power_factor=Is1/Is*cos(-%pi/6);\n",
"printf('\n Power factor= %.3f lagging', Power_factor)\n",
"Out_rms=230;\n",
"Form_factor=Out_rms/Vdc;\n",
"Ripple_factor=(Form_factor^2-1)^0.5;\n",
"printf('\n Ripple factor= %.3f ', Ripple_factor)"
   ]
   }
,
{
		   "cell_type": "markdown",
		   "metadata": {},
		   "source": [
			"## Example 2.24: Calculate_peak_circulating_current_and_peak_current_of_converter.sce"
		   ]
		  },
  {
"cell_type": "code",
	   "execution_count": null,
	   "metadata": {
	    "collapsed": true
	   },
	   "outputs": [],
"source": [
"//2.24\n",
"clc;\n",
"Vm=230*2^0.5;\n",
"alph1=60;\n",
"alph2=120;\n",
"w=100*%pi;\n",
"L=50*10^-3;\n",
"wt=2*%pi;\n",
"R=15;\n",
"Ip_circulating=2*Vm/(w*L)*(cos(wt)-cosd(alph1));\n",
"printf('\n Peak circulating current= %.1f A',Ip_circulating)\n",
"Ip_load=Vm/R;\n",
"Ip_converter1=Ip_circulating+Ip_load;\n",
"printf('\n Peak current of converter 1= %.2f A', Ip_converter1)"
   ]
   }
,
{
		   "cell_type": "markdown",
		   "metadata": {},
		   "source": [
			"## Example 2.25: Calculate_inductance_of_current_limiting_reactor_and_peak_current_of_converter.sce"
		   ]
		  },
  {
"cell_type": "code",
	   "execution_count": null,
	   "metadata": {
	    "collapsed": true
	   },
	   "outputs": [],
"source": [
"//2.25\n",
"clc;\n",
"Vm=230*2^0.5;\n",
"alph1=30;\n",
"alph2=150;\n",
"w=100*%pi;\n",
"wt=2*%pi;\n",
"R=10;\n",
"Ip_circulating=10.2;\n",
"L=2*Vm/(w*Ip_circulating)*(cos(wt)-cosd(alph1));\n",
"printf('\n Inductance of current limiting Reactor= %.4f H',L)\n",
"Ip_load=Vm/R;\n",
"Ip_converter1=Ip_circulating+Ip_load;\n",
"printf('\n Peak current of converter 1= %.2f A', Ip_converter1)"
   ]
   }
,
{
		   "cell_type": "markdown",
		   "metadata": {},
		   "source": [
			"## Example 2.26: Calculate_inductance_of_current_limiting_reactor_and_resistance.sce"
		   ]
		  },
  {
"cell_type": "code",
	   "execution_count": null,
	   "metadata": {
	    "collapsed": true
	   },
	   "outputs": [],
"source": [
"//2.26\n",
"clc;\n",
"Vm=230*2^0.5;\n",
"alph1=45;\n",
"alph2=135;\n",
"w=100*%pi;\n",
"wt=2*%pi;\n",
"R=10;\n",
"Ip_circulating=11.5;\n",
"L=2*Vm/(w*Ip_circulating)*(cos(wt)-cosd(alph1));\n",
"printf('\n Inductance of current limiting Reactor= %.4f H',L)\n",
"Ip_converter1=39.7;\n",
"Ip_load= Ip_converter1-Ip_circulating ;\n",
"R=Vm/Ip_load;\n",
"printf('\n Load resistance= %.3f ohm', R)"
   ]
   }
,
{
		   "cell_type": "markdown",
		   "metadata": {},
		   "source": [
			"## Example 2.27: Find_the_parameters_of_three_phase_bridge_rectifier_circuit.sce"
		   ]
		  },
  {
"cell_type": "code",
	   "execution_count": null,
	   "metadata": {
	    "collapsed": true
	   },
	   "outputs": [],
"source": [
"//2.27\n",
"clc;\n",
"Vm=400*2^0.5/3^0.5;\n",
"Vdc=360;\n",
"alph=acosd(Vdc*%pi/(3*3^0.5*Vm));\n",
"printf('Firing Angle = %.1f degree', alph)\n",
"VL=400;\n",
"IL=200;\n",
"S=3^0.5*VL*IL;\n",
"printf('\nApparent Power = %.0f VA',S)\n",
"P=S*cosd(alph);\n",
"printf('\nActive Power = %.1f W',P)\n",
"Q=(S^2-P^2)^0.5;\n",
"printf('\nReactive Power = %.1f VA',Q)\n",
"disp('When AC line voltage is 440V')\n",
"V=440;\n",
"alph=acosd(Vdc*%pi/(3*2^0.5*V));\n",
"printf('Firing Angle = %.1f degree', alph)\n",
"disp('When AC line voltage is 360V')\n",
"V=360;\n",
"alph=acosd(Vdc*%pi/(3*2^0.5*V));\n",
"printf('Firing Angle = %.1f degree', alph)"
   ]
   }
,
{
		   "cell_type": "markdown",
		   "metadata": {},
		   "source": [
			"## Example 2.28: Find_the_parameters_of_three_phase_full_converter.sce"
		   ]
		  },
  {
"cell_type": "code",
	   "execution_count": null,
	   "metadata": {
	    "collapsed": true
	   },
	   "outputs": [],
"source": [
"//2,28\n",
"clc;\n",
"Vm=2^0.5*400/3^0.5;\n",
"Vdc=3*3^0.5*Vm/%pi*cos(%pi/3);\n",
"Idc=150;\n",
"Pdc=Vdc*Idc;\n",
"printf('Output Power = %.1f W', Pdc)\n",
"Iavg_thy=Idc/3;\n",
"printf('\nAverage thyristor current = %.0f A', Iavg_thy)\n",
"Irms_thy=Idc*(2/6)^0.5;\n",
"printf('\nRMS value of thyristor current = %.1f A', Irms_thy)\n",
"Ip_thy=Idc;\n",
"printf('\nPeak current through thyristor  = %.0f A', Ip_thy)\n",
"PIV=2^0.5*400;\n",
"printf('\nPeak inverse voltage = %.1f V', PIV)"
   ]
   }
,
{
		   "cell_type": "markdown",
		   "metadata": {},
		   "source": [
			"## Example 2.29: Find_the_firing_angle_of_a_3_phase_fully_controlled_bridge_converter.sce"
		   ]
		  },
  {
"cell_type": "code",
	   "execution_count": null,
	   "metadata": {
	    "collapsed": true
	   },
	   "outputs": [],
"source": [
"//2.29\n",
"clc;\n",
"Vm=400*2^0.5/3^0.5;\n",
"Vrms=(400*100)^0.5;\n",
"alph=acosd(((Vrms/(Vm*3^0.5))^2-0.5)/(3*3^0.5/(4*%pi)))/2;\n",
"printf('Firing angle = %.2f degree', alph)"
   ]
   }
,
{
		   "cell_type": "markdown",
		   "metadata": {},
		   "source": [
			"## Example 2.30: Find_the_parameters_of_six_pulse_thyristor_converter.sce"
		   ]
		  },
  {
"cell_type": "code",
	   "execution_count": null,
	   "metadata": {
	    "collapsed": true
	   },
	   "outputs": [],
"source": [
"//2.30\n",
"clc;\n",
"Vm=415*2^0.5/3^0.5;\n",
"Vdc=460;\n",
"Idc=200;\n",
"alph=acosd(Vdc*%pi/(3*3^0.5*Vm));\n",
"printf('Firing Angle = %.2f degree', alph)\n",
"Pdc=Vdc*Idc;\n",
"printf('\ndc Power = %.2f W', Pdc)\n",
"Iac=Idc*(120/180)^0.5;\n",
"printf('\nAC line current = %.2f A', Iac)\n",
"Ip=Idc;\n",
"Irms_thy=Ip*(120/360)^0.5;\n",
"printf(' \nRMS thyristor current = %.1f A', Irms_thy)"
   ]
   }
,
{
		   "cell_type": "markdown",
		   "metadata": {},
		   "source": [
			"## Example 2.31: Find_the_parameters_of_three_phase_semi_converter_bridge_circuit.sce"
		   ]
		  },
  {
"cell_type": "code",
	   "execution_count": null,
	   "metadata": {
	    "collapsed": true
	   },
	   "outputs": [],
"source": [
"//2.31\n",
"clc;\n",
"Vm=400*2^0.5/3^0.5;\n",
"alph=0;\n",
"Vdc_max=3*3^0.5*Vm/(2*%pi)*(1+cosd(alph));\n",
"Vdc=0.5*Vdc_max;\n",
"alph=acosd((Vdc/(3*3^0.5*Vm/(2*%pi)))-1)\n",
"printf('Firing Angle = %.2f degree', alph)\n",
"R=10;\n",
"Idc=Vdc/R;\n",
"disp('For discontinious load')\n",
"Vrms=(3^0.5*Vm)*((3/(4*%pi))*(%pi-(%pi/2)+0.5*sin(%pi)))^0.5;\n",
"printf('\nRMS value of voltage = %.2f V', Vrms)\n",
"Irms=Vrms/R;\n",
"printf('\nRMS value of current = %.2f A', Irms)\n",
"I_avg=Idc/3;\n",
"printf('\nAverage value of thyristor current = %.2f A', I_avg)\n",
"I_rms=Irms/3^0.5;\n",
"printf('\nRMS value of thyristor current = %.2f A', I_rms)\n",
"efficiency=Vdc*Idc/(Vrms*Irms);\n",
"printf('\nRectification efficiency = %.3f A', efficiency)\n",
"Irms_line_current=Irms*(120/180)^0.5;\n",
"VA_input=3*400/3^0.5*Irms_line_current;\n",
"TUF=Vdc*Idc/VA_input;\n",
"printf('\nTransformer utilization factor = %.2f ', TUF)\n",
"output_power_active=Irms^2*R;\n",
"input_power_active=output_power_active;\n",
"pf_input=input_power_active/VA_input;\n",
"printf('\ninput power factor = %.2f lagging', pf_input)"
   ]
   }
,
{
		   "cell_type": "markdown",
		   "metadata": {},
		   "source": [
			"## Example 2.32: Find_the_parameters_of_three_phase_fully_controlled_bridge_converter.sce"
		   ]
		  },
  {
"cell_type": "code",
	   "execution_count": null,
	   "metadata": {
	    "collapsed": true
	   },
	   "outputs": [],
"source": [
"//2.31\n",
"clc;\n",
"Vm=400*2^0.5/3^0.5;\n",
"alph=0;\n",
"Vdc_max=3*3^0.5*Vm/(%pi)*cosd(alph);\n",
"Vdc=0.5*Vdc_max;\n",
"alph=acosd(0.5);\n",
"printf('Firing Angle = %.2f degree', alph)\n",
"R=10;\n",
"Idc=Vdc/R;\n",
"disp('For discontinious load')\n",
"Vrms=(3^0.5*Vm)*(3*3^0.5/(4*%pi)*cosd(2*alph)+0.5)^0.5;\n",
"printf('\nRMS value of voltage = %.2f V', Vrms)\n",
"Irms=Vrms/R;\n",
"printf('\nRMS value of current = %.2f A', Irms)\n",
"I_avg=Idc/3;\n",
"printf('\nAverage value of thyristor current = %.2f A', I_avg)\n",
"I_rms=Irms/3^0.5;\n",
"printf('\nRMS value of thyristor current = %.2f A', I_rms)\n",
"efficiency=Vdc*Idc/(Vrms*Irms);\n",
"printf('\nRectification efficiency = %.3f A', efficiency)\n",
"Irms_line_current=Irms*(120/180)^0.5;\n",
"VA_input=3*400/3^0.5*Irms_line_current;\n",
"TUF=Vdc*Idc/VA_input;\n",
"printf('\nTransformer utilization factor = %.2f ', TUF)\n",
"output_power_active=Irms^2*R;\n",
"input_power_active=output_power_active;\n",
"pf_input=input_power_active/VA_input;\n",
"printf('\ninput power factor = %.2f lagging', pf_input)"
   ]
   }
,
{
		   "cell_type": "markdown",
		   "metadata": {},
		   "source": [
			"## Example 2.33: Calculate_the_overlap_angles.sce"
		   ]
		  },
  {
"cell_type": "code",
	   "execution_count": null,
	   "metadata": {
	    "collapsed": true
	   },
	   "outputs": [],
"source": [
"//2.33\n",
"clc;\n",
"Vm=326.56;\n",
"f=50;\n",
"Ls=0.2*10^-3;\n",
"Io=200;\n",
"w=2*%pi*f;\n",
"a=3*w*Ls*Io/%pi;\n",
"b=3*3^0.5*Vm/%pi;\n",
"disp('For firing angle 20 degree')\n",
"alph=20;\n",
"Angle_overlap= acosd((b*cosd(alph)-a)/b)-alph;\n",
"printf('Overlap angle= %.1f degree', Angle_overlap)\n",
"disp('For firing angle 30 degree')\n",
"alph=30;\n",
"Angle_overlap= acosd((b*cosd(alph)-a)/b)-alph;\n",
"printf('Overlap angle= %.2f degree', Angle_overlap)\n",
"disp('For firing angle 60 degree')\n",
"alph=60;\n",
"Angle_overlap= acosd((b*cosd(alph)-a)/b)-alph;\n",
"printf('Overlap angle= %.4f degree', Angle_overlap)"
   ]
   }
,
{
		   "cell_type": "markdown",
		   "metadata": {},
		   "source": [
			"## Example 2.34: Find_the_value_of_circulating_currents_for_3_phase_dual_converter.sci"
		   ]
		  },
  {
"cell_type": "code",
	   "execution_count": null,
	   "metadata": {
	    "collapsed": true
	   },
	   "outputs": [],
"source": [
"//2.34\n",
"clc;\n",
"Vm=400*2^0.5/3^0.5;\n",
"f=50;\n",
"w=2*%pi*f;\n",
"L=60*10^-3;\n",
"alph=0;\n",
"disp('Circulating current at wt=0')\n",
"wt=0;\n",
"ir=3*Vm/(w*L)*(sind(wt-30)-sind(alph))\n",
"printf('Circulating current at wt 0 is= %.3f A', ir)\n",
"disp('Circulating current at wt=30')\n",
"wt=30;\n",
"ir=3*Vm/(w*L)*(sind(wt-30)-sind(alph))\n",
"printf('Circulating current at wt 30 is= %.3f A', ir)\n",
"disp('Circulating current at wt=90')\n",
"wt=90;\n",
"ir=3*Vm/(w*L)*(sind(wt-30)-sind(alph))\n",
"printf('Circulating current at wt 90 is= %.3f A', ir)\n",
"disp('Maximum Circulating current will occur at wt=120')\n",
"wt=120;\n",
"ir=3*Vm/(w*L)*(sind(wt-30)-sind(alph))\n",
"printf('Maximum Circulating current is= %.3f A', ir)"
   ]
   }
,
{
		   "cell_type": "markdown",
		   "metadata": {},
		   "source": [
			"## Example 2.35: Find_the_value_of_inductance.sce"
		   ]
		  },
  {
"cell_type": "code",
	   "execution_count": null,
	   "metadata": {
	    "collapsed": true
	   },
	   "outputs": [],
"source": [
"//2.35\n",
"clc;\n",
"Vm=400*2^0.5/3^0.5;\n",
"f=50;\n",
"w=2*%pi*f;\n",
"ir=42;\n",
"L=3*Vm/(w*ir)*(sind(120-30)-sind(0))\n",
"printf('Inductance= %.3f H', L)"
   ]
   }
,
{
		   "cell_type": "markdown",
		   "metadata": {},
		   "source": [
			"## Example 2.3: Calculate_the_different_parameters_of_half_wave_diode_rectifier.sce"
		   ]
		  },
  {
"cell_type": "code",
	   "execution_count": null,
	   "metadata": {
	    "collapsed": true
	   },
	   "outputs": [],
"source": [
"//2.3\n",
"clc;\n",
"Vp_sec=230*2^0.5/4;\n",
"alph=asind(12/Vp_sec);\n",
"alph1=180-alph;\n",
"//the diode will conduct from 8.89 degree to 171.51degree\n",
"Angle_conduction=alph1-alph;\n",
"printf('Conduction Angle = %.2f degree', Angle_conduction)\n",
"Idc=4;\n",
"R=1/(2*Idc*%pi)*(2*Vp_sec*cosd(alph)+(2*12*alph*%pi/180)-12*%pi);\n",
"printf('\nResistance = %.2f ohm', R)\n",
"Irms=((1/(2*%pi*R^2))*(((Vp_sec^2/2+12^2)*(%pi-2*alph*%pi/180))+(Vp_sec^2/2*sind(2*alph))-(4*Vp_sec*12*cosd(alph))))^0.5;\n",
"P_rating=Irms^2*R;\n",
"printf('\nPower rating of resistor = %.2f W', P_rating)\n",
"Pdc=12*Idc;\n",
"t_charging=150/Pdc;\n",
"printf('\nCharging time = %.3f h', t_charging)\n",
"Rectifier_efficiency= Pdc/(Pdc+Irms^2*R);\n",
"printf('\nRectifier efficiency = %.2f ', Rectifier_efficiency)\n",
"PIV=Vp_sec+12;\n",
"printf('\nPIV = %.3f V',PIV)"
   ]
   }
,
{
		   "cell_type": "markdown",
		   "metadata": {},
		   "source": [
			"## Example 2.4: Calculate_the_different_parameters_of_full_wave_centre_tapped_diode_rectifier.sce"
		   ]
		  },
  {
"cell_type": "code",
	   "execution_count": null,
	   "metadata": {
	    "collapsed": true
	   },
	   "outputs": [],
"source": [
"//2.4\n",
"clc;\n",
"Vm=100;\n",
"R=5;\n",
"Idc=2*Vm/(%pi*R);\n",
"printf('\nIdc = %.3f A',Idc)\n",
"Vdc=Idc*R;\n",
"printf('\nVdc = %.3f V',Vdc)\n",
"Irms=0.707*Vm/R;\n",
"printf('\nIrms = %.3f A',Irms)\n",
"Vrms=Irms*R;\n",
"printf('\nVrms = %.3f V',Vrms)\n",
"Pdc=Idc^2*R;\n",
"printf('\nPdc = %.3f W',Pdc)\n",
"Pac=Irms^2*R;\n",
"printf('\nPac = %.3f W',Pac)\n",
"FF=Vrms/Vdc;\n",
"printf('\nFF = %.3f ',FF)\n",
"RF=(FF^2-1)^0.5;\n",
"printf('\nRF = %.3f ',RF)\n",
"TUF=0.5732;\n",
"printf('\nTUF = %.3f ',TUF)\n",
"PIV=2*Vm;\n",
"printf('\nPIV = %.0f V',PIV)\n",
"CF=0.707;\n",
"printf('\nCF = %.3f ',CF)"
   ]
   }
,
{
		   "cell_type": "markdown",
		   "metadata": {},
		   "source": [
			"## Example 2.5: Find_the_RMS_and_average_voltage_and_current.sce"
		   ]
		  },
  {
"cell_type": "code",
	   "execution_count": null,
	   "metadata": {
	    "collapsed": true
	   },
	   "outputs": [],
"source": [
"//2.5\n",
"clc;\n",
"Vm=400;\n",
"alpha=30;\n",
"R=50;\n",
"Vdc=(Vm/(2*%pi))*(1+cosd(alpha));\n",
"printf('Average Load voltage = %.1f V', Vdc)\n",
"Load_current_average=Vdc/R;\n",
"printf('\nAverage Load current = %.3f A', Load_current_average)\n",
"V=400*(((%pi-(%pi/6))/(4*%pi))+(sind(60)/(8*%pi)))^0.5;\n",
"printf('\nRMS voltage = %.1f V', V)\n",
"RMS_current=V/R;\n",
"printf('\nRMS current = %.3f A', RMS_current)"
   ]
   }
,
{
		   "cell_type": "markdown",
		   "metadata": {},
		   "source": [
			"## Example 2.6: Find_the_average_current.sce"
		   ]
		  },
  {
"cell_type": "code",
	   "execution_count": null,
	   "metadata": {
	    "collapsed": true
	   },
	   "outputs": [],
"source": [
"//2.6\n",
"clc;\n",
"current_average=(1/(2*%pi))*(-10*cos(5*%pi/6)+10*cos(%pi/6)-(5*5*%pi/6)+(5*%pi/6));\n",
"printf('\nAverage  current = %.3f A', current_average)"
   ]
   }
,
{
		   "cell_type": "markdown",
		   "metadata": {},
		   "source": [
			"## Example 2.7: Find_the_average_current.sce"
		   ]
		  },
  {
"cell_type": "code",
	   "execution_count": null,
	   "metadata": {
	    "collapsed": true
	   },
	   "outputs": [],
"source": [
"//2.7\n",
"clc;\n",
"// the thyristor will conduct when instantenous value of source emf is more than the back emf i.e. 2^0.5*100sin wt=55.5\n",
"wt1=asind(55.5/(2^0.5*110));\n",
"wt2=180-wt1;\n",
"current_average=(1/(2*%pi))*(-15.554*(cosd(wt2)-cosd(wt1))-5.55*(2.7768-0.3684));\n",
"printf('\nAverage  current = %.2f A', current_average)"
   ]
   }
,
{
		   "cell_type": "markdown",
		   "metadata": {},
		   "source": [
			"## Example 2.8: Calculate_the_various_parameters_of_a_single_phase_half_wave_rectifier.sce"
		   ]
		  },
  {
"cell_type": "code",
	   "execution_count": null,
	   "metadata": {
	    "collapsed": true
	   },
	   "outputs": [],
"source": [
"//2.8\n",
"clc;\n",
"Vm=230*2^0.5;\n",
"Vdc=(Vm/(2*%pi))*(1+cosd(90));\n",
"Idc=Vdc/15;\n",
"Vrms=Vm*(((%pi-(%pi/2))/(4*%pi))+(sin(2*%pi)/(8*%pi)))^0.5;\n",
"Irms=Vrms/15;\n",
"Pdc=Vdc*Idc;\n",
"Pac=Vrms*Irms;\n",
"Rec_effi=Pdc/Pac;\n",
"Form_factor=Vrms/Vdc;\n",
"printf('\n Form Factor = %.1f ', Form_factor)\n",
"ripple_factor=(Form_factor^2-1)^0.5;\n",
"printf('\n Ripple Factor = %.1f ', ripple_factor)\n",
"VA_rating=230*7.66;\n",
"printf('\n VA rating = %.1f VA', VA_rating)\n",
"TUF=Pdc/VA_rating;\n",
"printf('\n TUF = %.3f ', Form_factor)\n",
"PIV=Vm;\n",
"printf('\n PIV = %.1f V', PIV)"
   ]
   }
,
{
		   "cell_type": "markdown",
		   "metadata": {},
		   "source": [
			"## Example 2.9: EX2_9.sce"
		   ]
		  },
  {
"cell_type": "code",
	   "execution_count": null,
	   "metadata": {
	    "collapsed": true
	   },
	   "outputs": [],
"source": [
"//2.9\n",
"clc;\n",
"Vm=150*2^0.5;\n",
"Vdc=(Vm/(%pi))*(1+cosd(45));\n",
"R=30;\n",
"Load_current_average=Vdc/R;\n",
"printf('\nAverage Load current = %.2f A', Load_current_average)\n",
"Vrms=Vm*(((%pi-(%pi/4))/(2*%pi))+(sind(90)/(4*%pi)))^0.5;\n",
"printf('\nRMS voltage = %.1f V', Vrms)\n",
"RMS_current=Vrms/R;\n",
"printf('\nRMS current = %.3f A', RMS_current)"
   ]
   }
],
"metadata": {
		  "kernelspec": {
		   "display_name": "Scilab",
		   "language": "scilab",
		   "name": "scilab"
		  },
		  "language_info": {
		   "file_extension": ".sce",
		   "help_links": [
			{
			 "text": "MetaKernel Magics",
			 "url": "https://github.com/calysto/metakernel/blob/master/metakernel/magics/README.md"
			}
		   ],
		   "mimetype": "text/x-octave",
		   "name": "scilab",
		   "version": "0.7.1"
		  }
		 },
		 "nbformat": 4,
		 "nbformat_minor": 0
}
