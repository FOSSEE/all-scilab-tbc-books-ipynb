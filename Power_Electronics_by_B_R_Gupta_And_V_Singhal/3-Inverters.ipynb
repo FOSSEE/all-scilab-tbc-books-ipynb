{
"cells": [
 {
		   "cell_type": "markdown",
	   "metadata": {},
	   "source": [
       "# Chapter 3: Inverters"
	   ]
	},
{
		   "cell_type": "markdown",
		   "metadata": {},
		   "source": [
			"## Example 3.10: EX3_10.sce"
		   ]
		  },
  {
"cell_type": "code",
	   "execution_count": null,
	   "metadata": {
	    "collapsed": true
	   },
	   "outputs": [],
"source": [
"//3.10\n",
"clc;\n",
"Ip_load=400/(2*10);\n",
"Irms_load=(Ip_load^2*2/3)^0.5;\n",
"printf('RMS value of the load current = %.2f A', Irms_load)\n",
"Po=Irms_load^2*10*3;\n",
"printf('\nOutput power = %.2f W', Po)\n",
"Iavg_thy=Ip_load/3;\n",
"printf('\nAverage thyristor current = %.2f A', Iavg_thy)\n",
"Irms_thy=(Ip_load^2/3)^0.5;\n",
"printf('\nRMS value thyristor current = %.2f A', Irms_thy)"
   ]
   }
,
{
		   "cell_type": "markdown",
		   "metadata": {},
		   "source": [
			"## Example 3.11: EX3_11.sce"
		   ]
		  },
  {
"cell_type": "code",
	   "execution_count": null,
	   "metadata": {
	    "collapsed": true
	   },
	   "outputs": [],
"source": [
"//3.11\n",
"clc;\n",
"R=10;\n",
"RL=R+R/2;\n",
"i1=400/15;\n",
"i2=i1;\n",
"i3=i1;\n",
"Irms_load=(1/(2*%pi)*(i1^2*2*%pi/3+(i1/2)^2*4*%pi/3))^0.5;\n",
"printf('RMS value of the load current = %.3f A', Irms_load)\n",
"Po=i1^2*R*3;\n",
"printf('\nOutput power = %.2f W', Po)\n",
"Iavg_thy=1/(2*%pi)*(i1*%pi/3+(i1/2*2*%pi/3));\n",
"printf('\nAverage thyristor current = %.2f A', Iavg_thy)\n",
"Irms_thy= (1/(2*%pi)*(i1^2*%pi/3+(i1/2)^2*2*%pi/3))^0.5;\n",
"printf('\nRMS value thyristor current = %.2f A', Irms_thy)"
   ]
   }
,
{
		   "cell_type": "markdown",
		   "metadata": {},
		   "source": [
			"## Example 3.12: EX3_12.sce"
		   ]
		  },
  {
"cell_type": "code",
	   "execution_count": null,
	   "metadata": {
	    "collapsed": true
	   },
	   "outputs": [],
"source": [
"//3.12\n",
"clc;\n",
"R=10;\n",
"RL=R+R/2;\n",
"i1=450/15;\n",
"Irms_load=(1/(2*%pi)*(i1^2*2*%pi/3+(i1/2)^2*4*%pi/3))^0.5;\n",
"printf('RMS value of the load current = %.2f A', Irms_load)\n",
"Irms_thy= (1/(2*%pi)*(i1^2*%pi/3+(i1/2)^2*2*%pi/3))^0.5;\n",
"printf('\nRMS value thyristor current = %.0f A', Irms_thy)"
   ]
   }
,
{
		   "cell_type": "markdown",
		   "metadata": {},
		   "source": [
			"## Example 3.13: Find_the_parameters_of_single_phase_full_bridge_inverter.sce"
		   ]
		  },
  {
"cell_type": "code",
	   "execution_count": null,
	   "metadata": {
	    "collapsed": true
	   },
	   "outputs": [],
"source": [
"//3.13\n",
"clc;\n",
"Vdc=200;\n",
"VL=Vdc*(5*30/180)^0.5;\n",
"printf('RMS value of the output voltage = %.2f V', VL)\n",
"Vdc=220;\n",
"delta=(VL/Vdc)^2*180/5;\n",
"printf('\nPulse width = %.2f degree', delta)\n",
"V=VL/((5*33/180)^0.5);\n",
"printf('\nMaximum possible input voltage = %.2f V', V)"
   ]
   }
,
{
		   "cell_type": "markdown",
		   "metadata": {},
		   "source": [
			"## Example 3.14: Calculate_the_RMS_value_of_the_output_voltage.sce"
		   ]
		  },
  {
"cell_type": "code",
	   "execution_count": null,
	   "metadata": {
	    "collapsed": true
	   },
	   "outputs": [],
"source": [
"//3.14\n",
"clc;\n",
"Vdc=200;\n",
"delta=120;\n",
"VL=Vdc*(delta/180)^0.5;\n",
"printf('RMS value of the output voltage = %.1f V', VL)"
   ]
   }
,
{
		   "cell_type": "markdown",
		   "metadata": {},
		   "source": [
			"## Example 3.15: Calculate_the_RMS_value_of_the_output_voltage.sce"
		   ]
		  },
  {
"cell_type": "code",
	   "execution_count": null,
	   "metadata": {
	    "collapsed": true
	   },
	   "outputs": [],
"source": [
"//3.15\n",
"clc;\n",
"Vdc=150;\n",
"VL=Vdc*(20/180+60/180+20/180)^0.5;\n",
"printf('RMS value of the output voltage = %.2f V', VL)"
   ]
   }
,
{
		   "cell_type": "markdown",
		   "metadata": {},
		   "source": [
			"## Example 3.1: Find_the_maximum_output_frequency.sce"
		   ]
		  },
  {
"cell_type": "code",
	   "execution_count": null,
	   "metadata": {
	    "collapsed": true
	   },
	   "outputs": [],
"source": [
"//3.1\n",
"clc;\n",
"R=80;\n",
"L=8*10^-3;\n",
"C=1.2*10^-6;\n",
"a=R^2;\n",
"b=4*L/C;\n",
"printf('R^2 = %.0f ', a)\n",
"printf('4*L/C = %.0f ', b)\n",
"disp('since R^2<4L/C it will work as series inverter')\n",
"fmax=(1/(L*C)-(R^2/(4*L^2)))^0.5;\n",
"printf('Maximum frequency = %.2f rad/sec', fmax)"
   ]
   }
,
{
		   "cell_type": "markdown",
		   "metadata": {},
		   "source": [
			"## Example 3.2: Find_the_frequency_of_output.sce"
		   ]
		  },
  {
"cell_type": "code",
	   "execution_count": null,
	   "metadata": {
	    "collapsed": true
	   },
	   "outputs": [],
"source": [
"//3.2\n",
"clc;\n",
"f=1416.16;\n",
"T=1/f;\n",
"Toff=14*10^-6;\n",
"fo=1/(T+2*Toff);\n",
"printf('output frequency = %.1f Hz', fo)"
   ]
   }
,
{
		   "cell_type": "markdown",
		   "metadata": {},
		   "source": [
			"## Example 3.3: Find_the_available_circuit_turn_off_time_and_maximum_possible_frequency.sce"
		   ]
		  },
  {
"cell_type": "code",
	   "execution_count": null,
	   "metadata": {
	    "collapsed": true
	   },
	   "outputs": [],
"source": [
"//3.3\n",
"clc;\n",
"R=4;\n",
"L=50*10^-6;\n",
"C=6*10^-6;\n",
"a=R^2;\n",
"b=4*L/C;\n",
"wr=(1/(L*C)-(R^2/(4*L^2)))^0.5;\n",
"fr=wr/(2*%pi);\n",
"Tr=1/fr;\n",
"fo=6000;\n",
"wo=2*%pi*fo;\n",
"toff=%pi*(1/wo-1/wr);\n",
"printf('Avialable circuit turn off time = %.8f sec', toff)\n",
"fmax=1/(2*(%pi/wr+6*10^-6));\n",
"printf('\nMaximum frequency = %.1f Hz', fmax)"
   ]
   }
,
{
		   "cell_type": "markdown",
		   "metadata": {},
		   "source": [
			"## Example 3.4: Design_a_parallel_inverter.sce"
		   ]
		  },
  {
"cell_type": "code",
	   "execution_count": null,
	   "metadata": {
	    "collapsed": true
	   },
	   "outputs": [],
"source": [
"//3.4\n",
"clc;\n",
"tq=50*10^-6;\n",
"Vin=40;\n",
"Vo=230;\n",
"IL=2;\n",
"IL_ref=2*Vo/Vin;\n",
"// C/L=(IL-ref/Vin)^2;          (i)\n",
"// Assume that circuit is reverse biased for one-fourth period of resonant circuit. thus\n",
"//%pi/3*(L*C)^0.5=50*10^-6;          (ii)\n",
"// on solving (i) and (ii)\n",
"C=13.73*10^-6;\n",
"L=C/(IL_ref/Vin)^2*10^6;\n",
"C=13.73*10^-6*10^6;\n",
"printf('C=%.3f uF',C)\n",
"printf('\nL=%.2f uH',L)"
   ]
   }
,
{
		   "cell_type": "markdown",
		   "metadata": {},
		   "source": [
			"## Example 3.5: Calculate_the_various_parameters_of_single_phase_half_bridge_inverter.sce"
		   ]
		  },
  {
"cell_type": "code",
	   "execution_count": null,
	   "metadata": {
	    "collapsed": true
	   },
	   "outputs": [],
"source": [
"//3.5\n",
"clc;\n",
"V=30;\n",
"Vrms1=2*V/(2^0.5*%pi);\n",
"printf('RMS value of fundamental component of input voltage = %.1f V', Vrms1)\n",
"VL=V/2;\n",
"R=3;\n",
"Pout=VL^2/R;\n",
"printf('\nOutput Power = %.0f W', Pout)\n",
"Ip_thy=VL/R;\n",
"printf('\nPeak current in each thyristor = %.0f A', Ip_thy)\n",
"Iavg=Ip_thy/2;\n",
"printf('\naverage current in each thyristor = %.1f A', Iavg)\n",
"PIV=2*VL;\n",
"printf('\nPeak reverse blocking voltahe = %.0f V', PIV)\n",
""
   ]
   }
,
{
		   "cell_type": "markdown",
		   "metadata": {},
		   "source": [
			"## Example 3.6: Calculate_the_various_parameters_of_single_phase_full_bridge_inverter.sce"
		   ]
		  },
  {
"cell_type": "code",
	   "execution_count": null,
	   "metadata": {
	    "collapsed": true
	   },
	   "outputs": [],
"source": [
"//3.6\n",
"clc;\n",
"V=30;\n",
"Vrms1=4*V/(2^0.5*%pi);\n",
"printf('RMS value of fundamental component of input voltage = %.1f V', Vrms1)\n",
"VL=V;\n",
"R=3;\n",
"Pout=VL^2/R;\n",
"printf('\nOutput Power = %.0f W', Pout)\n",
"Ip_thy=VL/R;\n",
"printf('\nPeak current in each thyristor = %.0f A', Ip_thy)\n",
"Iavg=Ip_thy/2;\n",
"printf('\naverage current in each thyristor = %.1f A', Iavg)\n",
"PIV=VL;\n",
"printf('\nPeak reverse blocking voltahe = %.0f V', PIV)\n",
""
   ]
   }
,
{
		   "cell_type": "markdown",
		   "metadata": {},
		   "source": [
			"## Example 3.7: Calculate_the_various_parameters_of_full_bridge_inverter.sce"
		   ]
		  },
  {
"cell_type": "code",
	   "execution_count": null,
	   "metadata": {
	    "collapsed": true
	   },
	   "outputs": [],
"source": [
"//3.7\n",
"clc;\n",
"R=10;\n",
"V=200;\n",
"IL_rms_funda=9.28/2^0.5;\n",
"printf('RMS value of fundamental component of load current=%.2f A', IL_rms_funda)\n",
"IL_peak=(9.28^2+6.55^2+1.89^2+0.895^2+0.525^2);\n",
"printf('\nPeak value of load current=%.2f A', IL_peak)\n",
"Irms_harmonic=(11.56^2-9.28^2)^0.5/2^0.5;\n",
"printf('\nRMS harmonic current=%.3f A',Irms_harmonic)\n",
"TMH=(11.56^2-9.28^2)^0.5/9.28;\n",
"printf('\nTotal harmonic distortion=%.3f',TMH)\n",
"IL_rms=11.56/2^0.5;\n",
"Po=IL_rms^2*R;\n",
"printf('\nTotal output power=%.1f W',Po)\n",
"Po_funda=IL_rms_funda^2*R;\n",
"printf('\nFundamental Component of power=%.3f W',Po_funda)\n",
"Iavg=Po/V;\n",
"printf('\nAverage input current=%.4f A',Iavg)\n",
"Ip_thy=11.56;\n",
"printf('\nPeak thyristor current=%.2f A', Ip_thy)"
   ]
   }
,
{
		   "cell_type": "markdown",
		   "metadata": {},
		   "source": [
			"## Example 3.8: Calculate_the_value_of_C_for_proper_load_commutatio.sci"
		   ]
		  },
  {
"cell_type": "code",
	   "execution_count": null,
	   "metadata": {
	    "collapsed": true
	   },
	   "outputs": [],
"source": [
"//3.8\n",
"clc;\n",
"toff=12*1.5*10^-6;\n",
"f=4000;\n",
"wt=2*%pi*f*toff;\n",
"Xl=10;\n",
"R=2;\n",
"Xc=R*tan(wt)+Xl;\n",
"C=1/(2*%pi*f*Xc)*10^6;\n",
"printf('Value of C for proper load commutation = %.2f uF', C)"
   ]
   }
,
{
		   "cell_type": "markdown",
		   "metadata": {},
		   "source": [
			"## Example 3.9: Calculate_peak_value_of_load_current.sce"
		   ]
		  },
  {
"cell_type": "code",
	   "execution_count": null,
	   "metadata": {
	    "collapsed": true
	   },
	   "outputs": [],
"source": [
"//3.9\n",
"clc;\n",
"I1=6.84;\n",
"I3=0.881;\n",
"I5=0.32;\n",
"I7=0.165;\n",
"Ip=(I1^2+I3^2+I5^2+I7^2)^0.5;\n",
"printf('Peak value of load current=%.2f A', Ip)"
   ]
   }
],
"metadata": {
		  "kernelspec": {
		   "display_name": "Scilab",
		   "language": "scilab",
		   "name": "scilab"
		  },
		  "language_info": {
		   "file_extension": ".sce",
		   "help_links": [
			{
			 "text": "MetaKernel Magics",
			 "url": "https://github.com/calysto/metakernel/blob/master/metakernel/magics/README.md"
			}
		   ],
		   "mimetype": "text/x-octave",
		   "name": "scilab",
		   "version": "0.7.1"
		  }
		 },
		 "nbformat": 4,
		 "nbformat_minor": 0
}
