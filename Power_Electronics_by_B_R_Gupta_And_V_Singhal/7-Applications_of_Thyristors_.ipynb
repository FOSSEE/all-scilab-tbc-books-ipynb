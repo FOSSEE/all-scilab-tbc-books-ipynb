{
"cells": [
 {
		   "cell_type": "markdown",
	   "metadata": {},
	   "source": [
       "# Chapter 7: Applications of Thyristors "
	   ]
	},
{
		   "cell_type": "markdown",
		   "metadata": {},
		   "source": [
			"## Example 7.10: Find_the_torque_developed_and_motor_speed.sce"
		   ]
		  },
  {
"cell_type": "code",
	   "execution_count": null,
	   "metadata": {
	    "collapsed": true
	   },
	   "outputs": [],
"source": [
"//7.10\n",
"clc;\n",
"Vm=230*2^0.5;\n",
"Vf=2*Vm/%pi;\n",
"alph_a=%pi/4;\n",
"Va=(2*Vm/%pi)*cos(alph_a);\n",
"Rf=200;\n",
"If=Vf/Rf;\n",
"Kt=1.1;\n",
"Ia=50;\n",
"T=Ia*(Kt*If);\n",
"printf('Torque of motor=%.3f Nm', T)\n",
"Ra=0.25;\n",
"Vb=Va-Ia*Ra-2;\n",
"w=Vb/(Kt*If);\n",
"N=w*60/(2*%pi);\n",
"printf('\nSpeed of motor=%.1f rpm', N)"
   ]
   }
,
{
		   "cell_type": "markdown",
		   "metadata": {},
		   "source": [
			"## Example 7.11: Find_armature_current_and_Firing_angle_of_the_semi_converter.sce"
		   ]
		  },
  {
"cell_type": "code",
	   "execution_count": null,
	   "metadata": {
	    "collapsed": true
	   },
	   "outputs": [],
"source": [
"//7.11\n",
"clc;\n",
"Vm=675*2^0.5;\n",
"Ia1=30;\n",
"N1=350;\n",
"N2=500;\n",
"Ia2=Ia1*N2/N1;\n",
"printf('Armature current of the semi converter=%.2f A',Ia2)\n",
"Va1=(1+cos(90.5*%pi/180))*Vm/%pi;\n",
"Eb1=Va1-Ia1*(0.22+0.22);\n",
"Eb2=Eb1*Ia2*N2/(Ia1*N1);\n",
"Va2=Eb2+Ia2*(0.22+0.22);\n",
"alph_a=acosd(Va2*%pi/Vm-1);\n",
"printf('\nFiring angle of the semi converter=%.2f degree',alph_a)"
   ]
   }
,
{
		   "cell_type": "markdown",
		   "metadata": {},
		   "source": [
			"## Example 7.12: EX7_12.sce"
		   ]
		  },
  {
"cell_type": "code",
	   "execution_count": null,
	   "metadata": {
	    "collapsed": true
	   },
	   "outputs": [],
"source": [
"//7.12\n",
"clc;\n",
"Vm=230*2^0.5;\n",
"Eg=-131.9\n",
"Ia=50;\n",
"Ra=0.25;\n",
"Va=Eg+Ia*Ra+2;\n",
"alph_a=acosd(Va*%pi/(2*Vm))\n",
"printf('Firing angle of converter in the armature circuit=%.2f degree',alph_a)\n",
"Po=abs(Va*Ia);\n",
"printf('\npower back to source=%.3f W',Po)"
   ]
   }
,
{
		   "cell_type": "markdown",
		   "metadata": {},
		   "source": [
			"## Example 7.13: Find_the_firing_angle_of_converter_in_the_armature_circuit.sce"
		   ]
		  },
  {
"cell_type": "code",
	   "execution_count": null,
	   "metadata": {
	    "collapsed": true
	   },
	   "outputs": [],
"source": [
"//7.13\n",
"clc;\n",
"Vm=400*2^0.5/(3^0.5);\n",
"Vf=3*3^0.5*Vm/%pi;\n",
"Rf=250;\n",
"If=Vf/Rf;\n",
"Kt=1.33;\n",
"Ia=50;\n",
"w=2*%pi*1200/60;\n",
"Vb=Kt*w*If;\n",
"Ra=0.3;\n",
"Va=Vb+Ia*Ra;\n",
"alph_a=acosd(Va/Vf);\n",
"printf('Firing angle of converter in the armature circuit=%.3f degree',alph_a)"
   ]
   }
,
{
		   "cell_type": "markdown",
		   "metadata": {},
		   "source": [
			"## Example 7.14: Find_the_input_power_speed_and_torque_of_separately_excited_dc_motor.sce"
		   ]
		  },
  {
"cell_type": "code",
	   "execution_count": null,
	   "metadata": {
	    "collapsed": true
	   },
	   "outputs": [],
"source": [
"//7.14\n",
"clc;\n",
"V=500;\n",
"Ia=200;\n",
"Ra=0.1;\n",
"Pi=V*Ia*0.5;\n",
"printf('Input power=%.0f W', Pi)\n",
"Va=0.5*500;\n",
"Eb=Va-Ia*Ra;\n",
"If=2;\n",
"Kt=1.4;\n",
"w=Eb/(Kt*If)\n",
"N=w*60/(2*%pi)\n",
"printf('\nSpeed=%.2f rpm', N)\n",
"T=Kt*If*Ia;\n",
"printf('\nTorque=%.0f N-m', T)"
   ]
   }
,
{
		   "cell_type": "markdown",
		   "metadata": {},
		   "source": [
			"## Example 7.15: Find_the_average_voltage_power_dissipated_and_motor_speed_of_the_chopper.sce"
		   ]
		  },
  {
"cell_type": "code",
	   "execution_count": null,
	   "metadata": {
	    "collapsed": true
	   },
	   "outputs": [],
"source": [
"//7.15\n",
"clc;\n",
"Rb=7.5;\n",
"Ra=0.1;\n",
"Kt=1.4;\n",
"Ia=120;\n",
"If=1.6;\n",
"Duty_cycle=0.35;\n",
"Vavg=Rb*Ia*(1-Duty_cycle);\n",
"printf('Average voltage across chopper=%.0f V', Vavg)\n",
"Pb=Rb*Ia^2*(1-Duty_cycle);\n",
"printf('\nPower dissipated in breaking resistance=%.0f W', Pb)\n",
"Eb=Vavg+Ia*Ra;\n",
"w=Eb/(Kt*If);\n",
"N=w*60/(2*%pi);\n",
"printf('\nSpeed=%.2f rpm', N)"
   ]
   }
,
{
		   "cell_type": "markdown",
		   "metadata": {},
		   "source": [
			"## Example 7.16: Find_the_speed_for_different_values_of_torque.sce"
		   ]
		  },
  {
"cell_type": "code",
	   "execution_count": null,
	   "metadata": {
	    "collapsed": true
	   },
	   "outputs": [],
"source": [
"//7.16\n",
"clc;\n",
"Vm=220*2^0.5;\n",
"alph=90;\n",
"Va=3*3^0.5*Vm*(1+cosd(alph))/(2*%pi);\n",
"Kt=2;\n",
"Ra=0.72;\n",
"disp('For armature current of 5A')\n",
"Ia=5;\n",
"T=Ia*Kt;\n",
"printf('\nTorque=%.2f N-m', T)\n",
"Eb=Va-Ia*Ra;\n",
"w=Eb/(Kt);\n",
"N=w*60/(2*%pi);\n",
"printf('\nSpeed=%.2f rpm', N)\n",
"disp('For armature current of 10A')\n",
"Ia=10;\n",
"T=Ia*Kt;\n",
"printf('\nTorque=%.2f N-m', T)\n",
"Eb=Va-Ia*Ra;\n",
"w=Eb/(Kt);\n",
"N=w*60/(2*%pi);\n",
"printf('\nSpeed=%.2f rpm', N)\n",
"disp('For armature current of 20A')\n",
"Ia=20;\n",
"T=Ia*Kt;\n",
"printf('\nTorque=%.2f N-m', T)\n",
"Eb=Va-Ia*Ra;\n",
"w=Eb/(Kt);\n",
"N=w*60/(2*%pi);\n",
"printf('\nSpeed=%.2f rpm', N)\n",
"disp('For armature current of 30A')\n",
"Ia=30;\n",
"T=Ia*Kt;\n",
"printf('\nTorque=%.2f N-m', T)\n",
"Eb=Va-Ia*Ra;\n",
"w=Eb/(Kt);\n",
"N=w*60/(2*%pi);\n",
"printf('\nSpeed=%.2f rpm', N)\n",
"disp('For armature current of 50A')\n",
"Ia=50;\n",
"T=Ia*Kt;\n",
"printf('\nTorque=%.2f N-m', T)\n",
"Eb=Va-Ia*Ra;\n",
"w=Eb/(Kt);\n",
"N=w*60/(2*%pi);\n",
"printf('\nSpeed=%.2f rpm', N)\n",
"disp('For armature current of 60A')\n",
"Ia=60;\n",
"T=Ia*Kt;\n",
"printf('\nTorque=%.2f N-m', T)\n",
"Eb=Va-Ia*Ra;\n",
"w=Eb/(Kt);\n",
"N=w*60/(2*%pi);\n",
"printf('\nSpeed=%.2f rpm', N)"
   ]
   }
,
{
		   "cell_type": "markdown",
		   "metadata": {},
		   "source": [
			"## Example 7.17: Find_the_speed_at_no_load_and_firing_angle.sce"
		   ]
		  },
  {
"cell_type": "code",
	   "execution_count": null,
	   "metadata": {
	    "collapsed": true
	   },
	   "outputs": [],
"source": [
"//7.17\n",
"clc;\n",
"Vm=400*2^0.5;\n",
"alph=30;\n",
"Vavg=3*3^0.5*Vm/(2*%pi*3^0.5)*(1+cosd(alph));\n",
"I=5;\n",
"R=0.1;\n",
"Eb=Vavg-I*R;\n",
"N=Eb/0.3;\n",
"printf('Speed at no load=%.0f rpm',N)\n",
"N=1600;\n",
"Eb=N*0.3;\n",
"I=50;\n",
"V=Eb+I*R;\n",
"alph=acosd(3^0.5*2*%pi*V/(Vm*3*3^0.5)-1)\n",
"printf('\nFiring angle =%.2f degree',alph)"
   ]
   }
,
{
		   "cell_type": "markdown",
		   "metadata": {},
		   "source": [
			"## Example 7.18: Find_the_motor_speed.sce"
		   ]
		  },
  {
"cell_type": "code",
	   "execution_count": null,
	   "metadata": {
	    "collapsed": true
	   },
	   "outputs": [],
"source": [
"//7.18\n",
"clc;\n",
"Vdc=2*2^0.5*230/%pi;\n",
"TL=25;\n",
"Kt=0.25;\n",
"Ia=(TL/Kt)^0.5;\n",
"w=(Vdc-1.5*Ia)/(Kt*Ia);\n",
"N=w*60/(2*%pi);\n",
"printf('Motor speed=%.2f rpm',N)"
   ]
   }
,
{
		   "cell_type": "markdown",
		   "metadata": {},
		   "source": [
			"## Example 7.19: Find_the_load_torque_stator_applied_voltage_and_rotor_current.sce"
		   ]
		  },
  {
"cell_type": "code",
	   "execution_count": null,
	   "metadata": {
	    "collapsed": true
	   },
	   "outputs": [],
"source": [
"//7.19;\n",
"clc;\n",
"p=4\n",
"f=50;\n",
"ns=2*f*60/p;\n",
"TL_1300=40*(1300/1440)^2;\n",
"printf('Load torque=%.2f Nm',TL_1300)\n",
"n=1300;\n",
"s=(ns-n)/ns;\n",
"r2s=0.08*2^2; // in book r2'=r2s\n",
"x2s=0.12*2^2;\n",
"I2s=(TL_1300*2*%pi*s*25/(3*r2s))^0.5;\n",
"I2=2*I2s;\n",
"printf('\nRotor current=%.2f A',I2)\n",
"r1=0.64;\n",
"x1=1.1;\n",
"V1=I2s*((r1+r2s/s)^2+(x1+x2s)^2)^0.5;\n",
"Vstator=3^0.5*V1;\n",
"printf('\nStator applied voltage=%.1f V',Vstator)\n",
"\n",
""
   ]
   }
,
{
		   "cell_type": "markdown",
		   "metadata": {},
		   "source": [
			"## Example 7.1: Find_the_value_of_Voltage_which_will_turn_On_the_crowbar.sce"
		   ]
		  },
  {
"cell_type": "code",
	   "execution_count": null,
	   "metadata": {
	    "collapsed": true
	   },
	   "outputs": [],
"source": [
"//7.1\n",
"clc;\n",
"Vzb=14.8;\n",
"Vt=0.85;\n",
"V=Vzb+Vt;\n",
"printf('The value of Voltage which will turn On the crowbar=%.2f V',V)"
   ]
   }
,
{
		   "cell_type": "markdown",
		   "metadata": {},
		   "source": [
			"## Example 7.20: Find_the_load_torque_stator_applied_voltage_and_rotor_current.sce"
		   ]
		  },
  {
"cell_type": "code",
	   "execution_count": null,
	   "metadata": {
	    "collapsed": true
	   },
	   "outputs": [],
"source": [
"//7.20\n",
"clc;\n",
"r2s=0.32;\n",
"r1=0.64;\n",
"x2s=0.48;\n",
"x1=1.1;\n",
"s=r2s/(r1^2+(x1+x2s)^2)^0.5;\n",
"printf('\nSlip=%.4f ',s)\n",
"V1=400/3^0.5;\n",
"Tmax=1.5*V1^2/(2*%pi*25)*(1/(r1+(r1^2+(x1+x2s)^2)^0.5))\n",
"printf('\nMaximum Torque=%.2f Nm',Tmax)\n",
"n=25*(1-s);\n",
"N=n*60;\n",
"printf('\nSpeed=%.2f rpm',N)\n",
"disp('at 25 Hz')\n",
"x1=0.55;\n",
"x2s=0.24;\n",
"s=r2s/(r1^2+(x1+x2s)^2)^0.5;\n",
"printf('\nSlip=%.4f ',s)\n",
"V1=0.5*400/3^0.5;\n",
"Tmax=1.5*V1^2/(2*%pi*12.5)*(1/(r1+(r1^2+(x1+x2s)^2)^0.5))\n",
"printf('\nMaximum Torque=%.2f Nm',Tmax)\n",
"n=12.5*(1-s);\n",
"N=n*60;\n",
"printf('\nSpeed=%.3f rpm',N)"
   ]
   }
,
{
		   "cell_type": "markdown",
		   "metadata": {},
		   "source": [
			"## Example 7.21: Find_the_starting_torques_at_different_frequencies.sce"
		   ]
		  },
  {
"cell_type": "code",
	   "execution_count": null,
	   "metadata": {
	    "collapsed": true
	   },
	   "outputs": [],
"source": [
"//7.21\n",
"clc;\n",
"r2s=0.32;\n",
"r1=0.64;\n",
"x2s=0.48;\n",
"x1=1.1;\n",
"\n",
"V1=400/3^0.5;\n",
"Tstarting=3*V1^2*r2s/(2*%pi*25)*(1/((r1+r2s)^2+(x1+x2s)^2))\n",
"printf('\nStarting Torque=%.2f Nm',Tstarting)\n",
"\n",
"disp('at 25 Hz')\n",
"x1=0.55;\n",
"x2s=0.24;\n",
"V1=0.5*400/3^0.5;\n",
"Tstarting=3*V1^2*r2s/(2*%pi*12.5)*(1/((r1+r2s)^2+(x1+x2s)^2))\n",
"printf('\nStarting Torque=%.2f Nm',Tstarting)"
   ]
   }
,
{
		   "cell_type": "markdown",
		   "metadata": {},
		   "source": [
			"## Example 7.2: Find_the_value_of_input_voltage.sce"
		   ]
		  },
  {
"cell_type": "code",
	   "execution_count": null,
	   "metadata": {
	    "collapsed": true
	   },
	   "outputs": [],
"source": [
"//7.2\n",
"clc;\n",
"Rth=50*15/(50+15);\n",
"I=20*10^-3;\n",
"Vzb=14.8;\n",
"Vt=0.85;\n",
"V=Rth*I;// Voltage drop across the thevenin's resistance\n",
"Vi=V+Vzb+Vt;\n",
"printf('The value of input voltage Vi=%.3f V',Vi)"
   ]
   }
,
{
		   "cell_type": "markdown",
		   "metadata": {},
		   "source": [
			"## Example 7.3: Find_the_value_of_R_and_C.sce"
		   ]
		  },
  {
"cell_type": "code",
	   "execution_count": null,
	   "metadata": {
	    "collapsed": true
	   },
	   "outputs": [],
"source": [
"//7.3\n",
"clc;\n",
"V=200;\n",
"I=4*10^-3;\n",
"R=V/I;\n",
"printf('Resistance=%.0f ohm', R)\n",
"Vc=0;\n",
"RL=V/10;\n",
"tq=15*10^-6;\n",
"C=tq/(RL *log(2))*10^6;\n",
"printf('\nCapacitance=%.3f uF', C)"
   ]
   }
,
{
		   "cell_type": "markdown",
		   "metadata": {},
		   "source": [
			"## Example 7.4: Find_Duty_cycle_and_Ratio_for_different_output_powers.sce"
		   ]
		  },
  {
"cell_type": "code",
	   "execution_count": null,
	   "metadata": {
	    "collapsed": true
	   },
	   "outputs": [],
"source": [
"//7.4\n",
"clc;\n",
"V=230;\n",
"R=60;\n",
"Po_max=V^2/R;\n",
"disp('When power output is 400')\n",
"Po=400;\n",
"Duty_cycle=Po/Po_max;\n",
"printf('Duty cycle=%.4f', Duty_cycle)\n",
"Ton=0.4537;\n",
"T=1;\n",
"Toff=1-Ton;\n",
"Ratio=Ton/Toff;\n",
"printf('\nRatio of Ton and Toff when power output is 400=%.4f', Ratio)\n",
"disp('When power output is 700')\n",
"Po=700;\n",
"Duty_cycle=Po/Po_max;\n",
"printf('Duty cycle=%.4f', Duty_cycle)\n",
"Ton=0.794;\n",
"T=1;\n",
"Toff=1-Ton;\n",
"Ratio=Ton/Toff;\n",
"printf('\nRatio of Ton and Toff when power output is 700=%.4f', Ratio)"
   ]
   }
,
{
		   "cell_type": "markdown",
		   "metadata": {},
		   "source": [
			"## Example 7.5: Find_RMS_value_of_output_voltage.sce"
		   ]
		  },
  {
"cell_type": "code",
	   "execution_count": null,
	   "metadata": {
	    "collapsed": true
	   },
	   "outputs": [],
"source": [
"// 7.5\n",
"clc;\n",
"V=230;\n",
"Ton=12;\n",
"Toff=19;\n",
"Duty_cycle=Ton/(Ton+Toff);\n",
"printf('Duty cycle=%.4f', Duty_cycle)\n",
"Vrms_output=V*Duty_cycle^0.5;\n",
"printf('\nRMS output voltage=%.1f V', Vrms_output)"
   ]
   }
,
{
		   "cell_type": "markdown",
		   "metadata": {},
		   "source": [
			"## Example 7.6: Find_the_power_supplied_to_heater_for_different_firing_angles.sce"
		   ]
		  },
  {
"cell_type": "code",
	   "execution_count": null,
	   "metadata": {
	    "collapsed": true
	   },
	   "outputs": [],
"source": [
"//7.6\n",
"clc;\n",
"Vin=230;\n",
"Vm=2^0.5*Vin;\n",
"alph=90;\n",
"R=50;\n",
"VL=Vm*(1/(2*%pi)*(%pi-90*%pi/180+sind(180)/2))^0.5;\n",
"Po=VL^2/R;\n",
"printf('Power supplied when firing angle is 90 degree =%.2f W', Po)\n",
"alph=120;\n",
"R=50;\n",
"VL=Vm*(1/(2*%pi)*(%pi-120*%pi/180+sind(240)/2))^0.5;\n",
"Po=VL^2/R;\n",
"printf('\nPower supplied when firing angle is 120 degree =%.2f W', Po)"
   ]
   }
,
{
		   "cell_type": "markdown",
		   "metadata": {},
		   "source": [
			"## Example 7.7: Find_the_firing_angles_when_different_powers_are_supplied_to_heater.sce"
		   ]
		  },
  {
"cell_type": "code",
	   "execution_count": null,
	   "metadata": {
	    "collapsed": true
	   },
	   "outputs": [],
"source": [
"//7.7\n",
"clc;\n",
"V=230;\n",
"R=10;\n",
"Pmax=V^2/R;\n",
"P=2645;\n",
"VL=(P*R)^2;\n",
"//VL=Vm*(1/(2*%pi)*(%pi-alph*%pi/180+sind(2*alph)/2))^0.5;\n",
"//on solving\n",
"alph=90;\n",
"printf('Firing angle when 2645 W Power is supplied =%.0f degree', alph)\n",
"P=1587;\n",
"VL=(P*R)^2;\n",
"//VL=Vm*(1/(2*%pi)*(%pi-alph*%pi/180+sind(2*alph)/2))^0.5;\n",
"//on solving\n",
"alph=108.6;\n",
"printf('\nFiring angle when 2645 W Power is supplied =%.1f degree', alph)"
   ]
   }
,
{
		   "cell_type": "markdown",
		   "metadata": {},
		   "source": [
			"## Example 7.8: Find_the_current_rating_and_peak_inverse_voltage.sce"
		   ]
		  },
  {
"cell_type": "code",
	   "execution_count": null,
	   "metadata": {
	    "collapsed": true
	   },
	   "outputs": [],
"source": [
"//7.8\n",
"clc;\n",
"disp('For triac')\n",
"P=20000;\n",
"V=400;\n",
"I=P/(V*3^0.5);\n",
"printf('Current rating of traic=%.2f A',I)\n",
"PIV=2^0.5*V;\n",
"printf('\nPIV of traic=%.2f V',PIV)\n",
"disp('When two thyristors are connected in antiparallel')\n",
"I=I/2^0.5; //since each thyristor will conduct for half cycle\n",
"printf('Current rating =%.2f A',I)\n",
"PIV=2^0.5*V;\n",
"printf('\nPIV =%.2f V',PIV)"
   ]
   }
,
{
		   "cell_type": "markdown",
		   "metadata": {},
		   "source": [
			"## Example 7.9: Find_firing_angle_and_power_factor_of_converter_in_the_armature_circuit.sce"
		   ]
		  },
  {
"cell_type": "code",
	   "execution_count": null,
	   "metadata": {
	    "collapsed": true
	   },
	   "outputs": [],
"source": [
"//7.9\n",
"clc;\n",
"Vm=230*2^0.5;\n",
"Vf=2*Vm/%pi;\n",
"Rf=200;\n",
"If=Vf/Rf;\n",
"T=50;\n",
"Kt=0.8;\n",
"Ia=T/(Kt*If);\n",
"w=2*%pi*900/60;\n",
"Vb=Kt*w*If;\n",
"Ra=0.3;\n",
"Va=Vb+Ia*Ra;\n",
"alph_a=acosd(Va*%pi/Vm-1)\n",
"printf('Firing angle of converter in the armature circuit=%.3f degree',alph_a)\n",
"Po_a=Va*Ia;\n",
"Iin=Ia*((%pi-alph_a*%pi/180)/%pi)^0.5;\n",
"VA_input=Iin*230;\n",
"pf=Po_a/VA_input;\n",
"printf('\npower factor of converter in the armature circuit=%.3f lagging',pf)"
   ]
   }
],
"metadata": {
		  "kernelspec": {
		   "display_name": "Scilab",
		   "language": "scilab",
		   "name": "scilab"
		  },
		  "language_info": {
		   "file_extension": ".sce",
		   "help_links": [
			{
			 "text": "MetaKernel Magics",
			 "url": "https://github.com/calysto/metakernel/blob/master/metakernel/magics/README.md"
			}
		   ],
		   "mimetype": "text/x-octave",
		   "name": "scilab",
		   "version": "0.7.1"
		  }
		 },
		 "nbformat": 4,
		 "nbformat_minor": 0
}
