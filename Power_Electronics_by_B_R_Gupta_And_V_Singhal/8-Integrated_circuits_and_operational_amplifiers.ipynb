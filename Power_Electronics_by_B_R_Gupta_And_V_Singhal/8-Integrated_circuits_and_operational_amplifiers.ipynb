{
"cells": [
 {
		   "cell_type": "markdown",
	   "metadata": {},
	   "source": [
       "# Chapter 8: Integrated circuits and operational amplifiers"
	   ]
	},
{
		   "cell_type": "markdown",
		   "metadata": {},
		   "source": [
			"## Example 8.10: Find_the_slew_rate_distortion_of_the_op_amp_and_amplitude_of_the_input_signal.sce"
		   ]
		  },
  {
"cell_type": "code",
	   "execution_count": null,
	   "metadata": {
	    "collapsed": true
	   },
	   "outputs": [],
"source": [
"//8.10\n",
"clc;\n",
"f=10*10^3;\n",
"Vp=10;\n",
"Initial_slope_of_sine_wa=2*%pi*f*Vp*10^-6;\n",
"printf('Initial slope of sine wave= %.3f V/us', Initial_slope_of_sine_wa)\n",
"disp('Since slew rate of the amplifier is 0.5V/us, so slew rate distortion will occur')\n",
"Sr=0.5*10^6;\n",
"Vp=Sr/(2*%pi*f);\n",
"printf('Amplitude of the input signal=%.2f V',Vp)"
   ]
   }
,
{
		   "cell_type": "markdown",
		   "metadata": {},
		   "source": [
			"## Example 8.11: Find_the_different_parameters_of_inverting_amplifier.sce"
		   ]
		  },
  {
"cell_type": "code",
	   "execution_count": null,
	   "metadata": {
	    "collapsed": true
	   },
	   "outputs": [],
"source": [
"//8.11\n",
"clc;\n",
"Rf=100*10^3;\n",
"R1=1000;\n",
"Gain=-Rf/R1;\n",
"printf('Closed loop gain=%.0f', Gain)\n",
"Av=100000;\n",
"Zo=75;\n",
"f_unity=10^6;\n",
"beta=R1/(R1+Rf);\n",
"Z_closed=Zo/(1+Av*beta);\n",
"printf('\nClosed loop output impedance=%.6f ohm', Z_closed)\n",
"closed_loop_upper_cut_f=f_unity*beta;\n",
"printf('\nClosed  loop upper cutoff frequency=%.0f Hz', closed_loop_upper_cut_f)\n",
"closed_loop_input_impe=1000;\n",
"printf('\nClosed loop input impedance=%.0f ohm', closed_loop_input_impe)"
   ]
   }
,
{
		   "cell_type": "markdown",
		   "metadata": {},
		   "source": [
			"## Example 8.12: Find_the_different_parameters_of_non_inverting_amplifier.sce"
		   ]
		  },
  {
"cell_type": "code",
	   "execution_count": null,
	   "metadata": {
	    "collapsed": true
	   },
	   "outputs": [],
"source": [
"//8.12\n",
"clc;\n",
"R2=100*10^3;\n",
"R1=100;\n",
"Zin=2*10^6;\n",
"Zo=75;\n",
"Gain=(R1+R2)/R1;\n",
"printf('Closed loop voltage gain=%.0f', Gain)\n",
"Av=100000;\n",
"\n",
"beta=R1/(R1+R2);\n",
"Z_closed=Zin*(1+Av*beta)*10^-6;\n",
"printf('\nClosed loop input impedance=%.1f mega-ohm', Z_closed)\n",
"\n",
"closed_loop_output_impe=Zo/(1+Av*beta);\n",
"printf('\nClosed loop output impedance=%.3f ohm', closed_loop_output_impe)"
   ]
   }
,
{
		   "cell_type": "markdown",
		   "metadata": {},
		   "source": [
			"## Example 8.13: Find_the_different_parameters_of_ac_amplifier.sce"
		   ]
		  },
  {
"cell_type": "code",
	   "execution_count": null,
	   "metadata": {
	    "collapsed": true
	   },
	   "outputs": [],
"source": [
"//8.13\n",
"clc;\n",
"R1=1000;\n",
"R2=100000;\n",
"Avf=(R1+R2)/R1;\n",
"printf('Closed loop gain=%.0f', Avf)\n",
"beta=R1/(R1+R2);\n",
"f_unity=1000000;\n",
"f2=f_unity*beta;\n",
"printf('\nUpper cut off frequency=%.0f Hz', f2)\n",
"disp('Critical frequencies')\n",
"C1=10^-6;\n",
"R3=150*10^3;\n",
"fc=1/(2*%pi*R3*C1);\n",
"printf('\nCritical frequency when R is 150 Kohm=%.3f Hz', fc)\n",
"R3=15*10^3;\n",
"fc=1/(2*%pi*R3*C1);\n",
"printf('\nCritical frequency when R is 15 Kohm=%.2f Hz', fc)\n",
"R3=1*10^3;\n",
"fc=1/(2*%pi*R3*C1);\n",
"printf('\nCritical frequency when R is 1 Kohm=%.2f Hz', fc)\n",
"disp('The lower cutt off frequency is the highest of the above three critical frequencies i.e.159.15 Hz')"
   ]
   }
,
{
		   "cell_type": "markdown",
		   "metadata": {},
		   "source": [
			"## Example 8.14: Find_the_output_voltage.sce"
		   ]
		  },
  {
"cell_type": "code",
	   "execution_count": null,
	   "metadata": {
	    "collapsed": true
	   },
	   "outputs": [],
"source": [
"//8.14\n",
"clc;\n",
"Rf=50*10^3;\n",
"R1=10*10^3;\n",
"R2=R1;\n",
"R3=R1;\n",
"V1=0.5;\n",
"V2=1.5;\n",
"V3=0.2;\n",
"Vo=-Rf*((V1/R1)+(V3/R3)+(V2/R2));\n",
"printf('Output voltage=%.0f V',Vo)"
   ]
   }
,
{
		   "cell_type": "markdown",
		   "metadata": {},
		   "source": [
			"## Example 8.17: Find_the_output_voltage.sce"
		   ]
		  },
  {
"cell_type": "code",
	   "execution_count": null,
	   "metadata": {
	    "collapsed": true
	   },
	   "outputs": [],
"source": [
"//8.17\n",
"clc;\n",
"R1=50*10^3;\n",
"R=10*10^3;\n",
"Vs1=4.5;\n",
"Vs2=5;\n",
"Vo=R1/R*(Vs2-Vs1);\n",
"printf('Output voltage=%.1f V', Vo)"
   ]
   }
,
{
		   "cell_type": "markdown",
		   "metadata": {},
		   "source": [
			"## Example 8.18: Find_CMRR_in_dB.sce"
		   ]
		  },
  {
"cell_type": "code",
	   "execution_count": null,
	   "metadata": {
	    "collapsed": true
	   },
	   "outputs": [],
"source": [
"//8.18\n",
"clc;\n",
"Vcom=0.5*(2+2);\n",
"Acom=5*10^-3/Vcom;\n",
"CMRR=20*log10(50/Acom);\n",
"printf('CMRR=%.2f dB',CMRR)"
   ]
   }
,
{
		   "cell_type": "markdown",
		   "metadata": {},
		   "source": [
			"## Example 8.1: Find_dc_currents_and_voltages.sce"
		   ]
		  },
  {
"cell_type": "code",
	   "execution_count": null,
	   "metadata": {
	    "collapsed": true
	   },
	   "outputs": [],
"source": [
"//8.1\n",
"clc;\n",
"Vcc=12;\n",
"Re=3.8*10^3;\n",
"Rc=4.1*10^3;\n",
"Ie=(Vcc-0.7)/Re*10^3;\n",
"printf('Ie=%3f mA',Ie)\n",
"Ic=0.5*Ie;\n",
"printf('\nIc=%3f mA',Ic)\n",
"Vo=Vcc-Ic*Rc*10^-3;\n",
"printf('\nVo=%1f V',Vo)"
   ]
   }
,
{
		   "cell_type": "markdown",
		   "metadata": {},
		   "source": [
			"## Example 8.21: Find_the_different_parameters_of_high_pass_filter.sce"
		   ]
		  },
  {
"cell_type": "code",
	   "execution_count": null,
	   "metadata": {
	    "collapsed": true
	   },
	   "outputs": [],
"source": [
"//8.21\n",
"clc;\n",
"R2=5.6*10^3;\n",
"R1=1*10^3;\n",
"Avf=1+R2/R1;\n",
"printf('Mid band Gain=%.2f', Avf)\n",
"Vin=1.6;\n",
"Vo=Avf*Vin;\n",
"printf('\nOutput voltage=%.3f mV', Vo)\n",
"R=1000;\n",
"C=0.001*10^-6;\n",
"fc=1/(2*%pi*R*C);\n",
"printf('\nCutt off frequency=%.2f Hz', fc)\n",
"Gain=0.707*Avf;\n",
"printf('\nGain=%.3f', Gain)"
   ]
   }
,
{
		   "cell_type": "markdown",
		   "metadata": {},
		   "source": [
			"## Example 8.22: Find_the_different_parameters_of_low_pass_filter.sce"
		   ]
		  },
  {
"cell_type": "code",
	   "execution_count": null,
	   "metadata": {
	    "collapsed": true
	   },
	   "outputs": [],
"source": [
"//8.22\n",
"clc;\n",
"R2=5.6*10^3;\n",
"R1=10*10^3;\n",
"Avf=1+R2/R1;\n",
"printf('Mid band Gain=%.2f', Avf)\n",
"Vin=1.1;\n",
"Vo=Avf*Vin;\n",
"printf('\nOutput voltage=%.3f mV', Vo)\n",
"R=10000;\n",
"C=0.001*10^-6;\n",
"fc=1/(2*%pi*R*C);\n",
"printf('\nCutt off frequency=%.2f Hz', fc)\n",
"Vo=0.707*Avf;\n",
"printf('\nOutput voltage=%.3f mV', Vo)"
   ]
   }
,
{
		   "cell_type": "markdown",
		   "metadata": {},
		   "source": [
			"## Example 8.2: Calculate_the_different_parameters_of_differential_amplifier.sce"
		   ]
		  },
  {
"cell_type": "code",
	   "execution_count": null,
	   "metadata": {
	    "collapsed": true
	   },
	   "outputs": [],
"source": [
"//8.2\n",
"clc;\n",
"Vcc=12;\n",
"Re=1*10^6;\n",
"Rc=1*10^6;\n",
"Ie=(Vcc-0.7)/Re*10^3;\n",
"re=25*2/Ie;\n",
"printf('re=%.0f ohm',re)\n",
"Vgd=Rc/(2*re);\n",
"printf('\nVoltage gain for the differential input=%.1f ',Vgd)\n",
"Vi=2.1*10^-3;\n",
"Vo_Ac=Vgd*Vi;\n",
"printf('\nAC output voltage=%.4f V',Vo_Ac)\n",
"Beta=75;\n",
"Zi=2*Beta*re;\n",
"printf('\nInput impedance=%.0f ohm',Zi)\n",
"Rc=1*10^6;\n",
"RE=10^6;\n",
"CMG=Rc/(re+2*RE);\n",
"printf('\nCommon mode gain=%.3f ',CMG)\n",
"CMRR=Vgd/CMG;\n",
"printf('\nCommon mode rejection ratio=%.2f ',CMRR)"
   ]
   }
,
{
		   "cell_type": "markdown",
		   "metadata": {},
		   "source": [
			"## Example 8.3: Find_the_closed_loop_gain_output_and_error_voltage.sce"
		   ]
		  },
  {
"cell_type": "code",
	   "execution_count": null,
	   "metadata": {
	    "collapsed": true
	   },
	   "outputs": [],
"source": [
"//8.3\n",
"clc;\n",
"open_loop_gain=100000;\n",
"FF=0.01;\n",
"Closed_loop_gain=open_loop_gain/(1+open_loop_gain*FF);\n",
"printf('Closed loop gain=%.1f',Closed_loop_gain)\n",
"Vi=2*10^-3;\n",
"output=Vi*Closed_loop_gain;\n",
"printf('\nOutput=%.4f V',output)\n",
"Error_voltage=output/open_loop_gain*10^6;\n",
"printf('\nError voltage=%.3f uV',Error_voltage)"
   ]
   }
,
{
		   "cell_type": "markdown",
		   "metadata": {},
		   "source": [
			"## Example 8.4: Find_the_closed_loop_gain_output_and_error_voltage.sce"
		   ]
		  },
  {
"cell_type": "code",
	   "execution_count": null,
	   "metadata": {
	    "collapsed": true
	   },
	   "outputs": [],
"source": [
"//8.4\n",
"clc;\n",
"open_loop_gain=15000;\n",
"FF=0.01;\n",
"Closed_loop_gain=open_loop_gain/(1+open_loop_gain*FF);\n",
"printf('Closed loop gain=%.3f',Closed_loop_gain)\n",
"Vi=2*10^-3;\n",
"output=Vi*Closed_loop_gain;\n",
"printf('\nOutput=%.4f V',output)\n",
"Error_voltage=output/open_loop_gain*10^6;\n",
"printf('\nError voltage=%.3f uV',Error_voltage)"
   ]
   }
,
{
		   "cell_type": "markdown",
		   "metadata": {},
		   "source": [
			"## Example 8.5: Find_the_input_and_output_impedances.sce"
		   ]
		  },
  {
"cell_type": "code",
	   "execution_count": null,
	   "metadata": {
	    "collapsed": true
	   },
	   "outputs": [],
"source": [
"//8.5\n",
"clc;\n",
"Av=100000;\n",
"beta=0.01;\n",
"Zi=2*10^6;\n",
"Closed_loop_input_imped=Zi*(1+Av*beta)*10^-6;\n",
"printf('Closed loop input impedance=%.0f Mega-ohm',Closed_loop_input_imped)\n",
"Zo=75;\n",
"Closed_loop_output_imped=Zo/(1+Av*beta);\n",
"printf('\nClosed loop output impedance=%.4f ohm',Closed_loop_output_imped)"
   ]
   }
,
{
		   "cell_type": "markdown",
		   "metadata": {},
		   "source": [
			"## Example 8.6: Find_closed_loop_gain_and_desensitivity.sce"
		   ]
		  },
  {
"cell_type": "code",
	   "execution_count": null,
	   "metadata": {
	    "collapsed": true
	   },
	   "outputs": [],
"source": [
"//8.6\n",
"clc;\n",
"Av=100000;\n",
"beta=0.001;\n",
"Closed_loop_gain=Av/(1+Av*beta);\n",
"printf('\nClosed loop gain=%.1f ',Closed_loop_gain)\n",
"Desensitivity=(1+Av*beta);\n",
"printf('\nDesensitivity=%.0f',Desensitivity)"
   ]
   }
,
{
		   "cell_type": "markdown",
		   "metadata": {},
		   "source": [
			"## Example 8.7: Find_the_closed_loop_gain_and_upper_cut_off_frequency.sce"
		   ]
		  },
  {
"cell_type": "code",
	   "execution_count": null,
	   "metadata": {
	    "collapsed": true
	   },
	   "outputs": [],
"source": [
"//8.7\n",
"clc;\n",
"f_unity=10^6;\n",
"Av=100000;\n",
"open_loop_upper_cutoff_f=f_unity/Av;\n",
"printf('open loop upper cutoff frequency=%.0f Hz', open_loop_upper_cutoff_f)\n",
"disp('when beta=0.001')\n",
"beta=0.001;\n",
"Closed_loop_gain=Av/(1+Av*beta);\n",
"printf('\nClosed loop gain=%.1f ',Closed_loop_gain)\n",
"upper_cutoff_frequency=f_unity/Closed_loop_gain;\n",
"printf('\nUpper cutoff frequency=%.0f Hz', upper_cutoff_frequency)\n",
"disp('when beta=0.01')\n",
"beta=0.01;\n",
"Closed_loop_gain=Av/(1+Av*beta);\n",
"printf('\nClosed loop gain=%.1f ',Closed_loop_gain)\n",
"upper_cutoff_frequency=f_unity/Closed_loop_gain;\n",
"printf('\nUpper cutoff frequency=%.0f Hz', upper_cutoff_frequency)\n",
"disp('when beta=0.1')\n",
"beta=0.1;\n",
"Closed_loop_gain=Av/(1+Av*beta);\n",
"printf('\nClosed loop gain=%.3f ',Closed_loop_gain)\n",
"upper_cutoff_frequency=f_unity/Closed_loop_gain;\n",
"printf('\nUpper cutoff frequency=%.0f Hz', upper_cutoff_frequency)"
   ]
   }
,
{
		   "cell_type": "markdown",
		   "metadata": {},
		   "source": [
			"## Example 8.8: Find_the_slew_rate.sce"
		   ]
		  },
  {
"cell_type": "code",
	   "execution_count": null,
	   "metadata": {
	    "collapsed": true
	   },
	   "outputs": [],
"source": [
"//8.8\n",
"clc;\n",
"Imax=10*10^-6;\n",
"C=4000*10^-12;\n",
"Slew_rate=Imax/C;\n",
"printf('Slew rate=%.0f V/s', Slew_rate)"
   ]
   }
,
{
		   "cell_type": "markdown",
		   "metadata": {},
		   "source": [
			"## Example 8.9: Find_the_slew_rate_distortion_of_the_op_amp.sce"
		   ]
		  },
  {
"cell_type": "code",
	   "execution_count": null,
	   "metadata": {
	    "collapsed": true
	   },
	   "outputs": [],
"source": [
"//8.9\n",
"clc;\n",
"f=10*10^3;\n",
"Vp=6\n",
"Initial_slope_of_sine_wa=2*%pi*f*Vp*10^-6;\n",
"printf('Initial slope of sine wave= %.5f V/us', Initial_slope_of_sine_wa)\n",
"disp('Since slew rate of the amplifier is 0.4V/us, there is no slew rate distortion')"
   ]
   }
],
"metadata": {
		  "kernelspec": {
		   "display_name": "Scilab",
		   "language": "scilab",
		   "name": "scilab"
		  },
		  "language_info": {
		   "file_extension": ".sce",
		   "help_links": [
			{
			 "text": "MetaKernel Magics",
			 "url": "https://github.com/calysto/metakernel/blob/master/metakernel/magics/README.md"
			}
		   ],
		   "mimetype": "text/x-octave",
		   "name": "scilab",
		   "version": "0.7.1"
		  }
		 },
		 "nbformat": 4,
		 "nbformat_minor": 0
}
