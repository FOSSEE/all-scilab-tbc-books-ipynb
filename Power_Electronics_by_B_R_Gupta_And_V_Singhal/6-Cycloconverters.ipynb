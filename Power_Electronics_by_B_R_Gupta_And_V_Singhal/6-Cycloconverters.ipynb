{
"cells": [
 {
		   "cell_type": "markdown",
	   "metadata": {},
	   "source": [
       "# Chapter 6: Cycloconverters"
	   ]
	},
{
		   "cell_type": "markdown",
		   "metadata": {},
		   "source": [
			"## Example 6.1: Find_the_input_voltage_SCR_rating_and_Input_Power_Factor.sce"
		   ]
		  },
  {
"cell_type": "code",
	   "execution_count": null,
	   "metadata": {
	    "collapsed": true
	   },
	   "outputs": [],
"source": [
"//6.1\n",
"clc;\n",
"Vo_max=250;\n",
"Vm=Vo_max*%pi*2^0.5/(3*sin(%pi/3));\n",
"Vrms=Vm/2^0.5;\n",
"printf('RMS value of input voltage =%.1f V', Vrms)\n",
"I=50;\n",
"Irms=I*2^0.5/3^0.5;\n",
"PIV=3^0.5*Vm;\n",
"Irms_input=(I^2/3)^0.5;\n",
"Po=Vo_max*I*0.8;\n",
"Pi_per_phase=1/3*Po;\n",
"pf_input=Pi_per_phase/(Irms_input*Vrms)\n",
"printf('\nInput power factor =%.3f lagging', pf_input)"
   ]
   }
,
{
		   "cell_type": "markdown",
		   "metadata": {},
		   "source": [
			"## Example 6.2: Find_RMS_value_of_output_voltage_for_firing_angle_30_and_45_degree.sce"
		   ]
		  },
  {
"cell_type": "code",
	   "execution_count": null,
	   "metadata": {
	    "collapsed": true
	   },
	   "outputs": [],
"source": [
"//6.2\n",
"clc;\n",
"Vo_max=250;\n",
"alph=30;\n",
"Vo=Vo_max*cosd(alph);\n",
"printf('RMS value of output voltage for firing angle 30 degree =%.1f V', Vo)\n",
"alph=45;\n",
"Vo=Vo_max*cosd(alph);\n",
"printf('\nRMS value of output voltage for firing angle 45 degree =%.2f V', Vo)"
   ]
   }
,
{
		   "cell_type": "markdown",
		   "metadata": {},
		   "source": [
			"## Example 6.3: Find_RMS_value_of_output_voltage_for_firing_angle_0_and_30_degree.sce"
		   ]
		  },
  {
"cell_type": "code",
	   "execution_count": null,
	   "metadata": {
	    "collapsed": true
	   },
	   "outputs": [],
"source": [
"//6.3\n",
"clc;\n",
"Vrms=230;\n",
"alph=0;\n",
"Vo=6*2^0.5*Vrms/(%pi*2^0.5)*sin(%pi/6)*cosd(alph);\n",
"printf('RMS value of output voltage for firing angle 0 degree =%.2f V', Vo)\n",
"alph=30;\n",
"Vo=6*2^0.5*Vrms/(%pi*2^0.5)*sin(%pi/6)*cosd(alph);\n",
"printf('\nRMS value of output voltage for firing angle 30 degree =%.1f V', Vo)"
   ]
   }
],
"metadata": {
		  "kernelspec": {
		   "display_name": "Scilab",
		   "language": "scilab",
		   "name": "scilab"
		  },
		  "language_info": {
		   "file_extension": ".sce",
		   "help_links": [
			{
			 "text": "MetaKernel Magics",
			 "url": "https://github.com/calysto/metakernel/blob/master/metakernel/magics/README.md"
			}
		   ],
		   "mimetype": "text/x-octave",
		   "name": "scilab",
		   "version": "0.7.1"
		  }
		 },
		 "nbformat": 4,
		 "nbformat_minor": 0
}
