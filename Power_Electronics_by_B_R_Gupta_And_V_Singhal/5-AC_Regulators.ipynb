{
"cells": [
 {
		   "cell_type": "markdown",
	   "metadata": {},
	   "source": [
       "# Chapter 5: AC Regulators"
	   ]
	},
{
		   "cell_type": "markdown",
		   "metadata": {},
		   "source": [
			"## Example 5.10: Find_the_current_and_voltage_rating.sce"
		   ]
		  },
  {
"cell_type": "code",
	   "execution_count": null,
	   "metadata": {
	    "collapsed": true
	   },
	   "outputs": [],
"source": [
"//5.10\n",
"clc;\n",
"V=415;\n",
"P=20*10^3;\n",
"disp('For Triacs')\n",
"I_line=P/(3^0.5*V);\n",
"Irms=I_line*1.5;\n",
"printf('RMS current rating of each triac=%.2f A', Irms)\n",
"Vrms=1.5*V;\n",
"printf('\nRMS Voltage rating of each triac=%.2f V', Vrms)\n",
"disp('For reverse connected thyristors')\n",
"Irms_thy=1.5*I_line/2^0.5;\n",
"printf('RMS current rating of each thyristor=%.2f A', Irms_thy)\n",
"Vrms_thy=1.5*V;\n",
"printf('\nRMS voltage rating of each thyristor=%.2f V', Vrms_thy)"
   ]
   }
,
{
		   "cell_type": "markdown",
		   "metadata": {},
		   "source": [
			"## Example 5.11: EX5_11.sce"
		   ]
		  },
  {
"cell_type": "code",
	   "execution_count": null,
	   "metadata": {
	    "collapsed": true
	   },
	   "outputs": [],
"source": [
"//5.11\n",
"clc;\n",
"R=15;\n",
"Vrms_input_phase=415/3^0.5;\n",
"VL=3^0.5*2^0.5*Vrms_input_phase*(1/(%pi)*(%pi/6-30*%pi/(180*4)+sind(60)/8))^0.5;\n",
"printf('\nRMS value of output voltage per phase=%.2f V', VL)\n",
"Po=3*VL^2/R;\n",
"printf('\nPower output =%.1f W', Po) \n",
"I_line=VL/R;\n",
"printf('\nLine Current =%.2f A', I_line)\n",
"VA_input=3*Vrms_input_phase*I_line;\n",
"pf_input=Po/VA_input;\n",
"printf('\nInput Power Factor =%.3f lagging', pf_input)"
   ]
   }
,
{
		   "cell_type": "markdown",
		   "metadata": {},
		   "source": [
			"## Example 5.12: EX5_12.sce"
		   ]
		  },
  {
"cell_type": "code",
	   "execution_count": null,
	   "metadata": {
	    "collapsed": true
	   },
	   "outputs": [],
"source": [
"//5.12\n",
"clc;\n",
"R=15;\n",
"Vrms_input_phase=415/3^0.5;\n",
"VL=3^0.5*2^0.5*Vrms_input_phase*(1/(%pi)*(%pi/6-60*%pi/(180*4)+sind(120)/8))^0.5;\n",
"printf('\nRMS value of output voltage per phase=%.2f V', VL)\n",
"Po=3*VL^2/R;\n",
"printf('\nPower output =%.1f W', Po) \n",
"I_line=VL/R;\n",
"printf('\nLine Current =%.2f A', I_line)\n",
"VA_input=3*Vrms_input_phase*I_line;\n",
"pf_input=Po/VA_input;\n",
"printf('\nInput Power Factor =%.3f lagging', pf_input)"
   ]
   }
,
{
		   "cell_type": "markdown",
		   "metadata": {},
		   "source": [
			"## Example 5.1: EX5_1.sce"
		   ]
		  },
  {
"cell_type": "code",
	   "execution_count": null,
	   "metadata": {
	    "collapsed": true
	   },
	   "outputs": [],
"source": [
"//5.1\n",
"clc;\n",
"Vin=150;R=8;\n",
"duty_cycle=36/(36+64);\n",
"VL=Vin*duty_cycle^0.5;\n",
"printf('RMS output voltage=%.0f V', VL) \n",
"Po=VL^2/R;\n",
"printf('\nPower output =%.1f W', Po) \n",
" // since losses are neglected\n",
" Pi=Po;\n",
"printf('\nPower Input =%.1f W', Pi) \n",
"Irms_load=VL/R;\n",
"Irms_input=11.25;\n",
"VA_input=Irms_input*Vin;\n",
"pf_input=Po/VA_input;\n",
"printf(' \nInput Power factor =%.1f lagging', pf_input) \n",
"Ip_thy=2^0.5*Vin/R;\n",
"Iavg_thy=duty_cycle*Ip_thy/%pi;\n",
"printf('\nAverage thyristor Current =%.3f A', Iavg_thy) \n",
"Irms_thy=Ip_thy*duty_cycle^0.5/2;\n",
"printf('\nRMS thyristor Current =%.3f A', Irms_thy)"
   ]
   }
,
{
		   "cell_type": "markdown",
		   "metadata": {},
		   "source": [
			"## Example 5.2: Calculate_the_different_parameters_of_single_phase_half_wave_AC_regulator.sce"
		   ]
		  },
  {
"cell_type": "code",
	   "execution_count": null,
	   "metadata": {
	    "collapsed": true
	   },
	   "outputs": [],
"source": [
"//5.2\n",
"clc;\n",
"Vm=2^0.5*150;\n",
"alph=60;\n",
"R=8;\n",
"Vin=150;\n",
"Vavg_out=Vm*(cosd(alph)-1)/(2*%pi);\n",
"printf('Average output voltage =%.2f V', Vavg_out) \n",
"disp('The average output voltage is negative only a part of positive half cycle appears at the output whereas the whole negative half cycle appears at the output')\n",
"VL=Vm*(1/(4*%pi)*(2*%pi-60*%pi/180+sind(120)/2))^0.5;\n",
"printf('\nRMS output voltage =%.2f V', VL) \n",
"Po=VL^2/R;\n",
"printf('\nPower output =%.1f W', Po) \n",
"Iin=VL/R;\n",
"VA_input=Iin*Vin;\n",
"pf_input=Po/VA_input;\n",
"printf(' \nInput Power factor =%.2f lagging', pf_input) \n",
"Iavg_out=Vavg_out/R;\n",
"Iavg_input=Iavg_out;\n",
"printf(' \nAverage input current =%.2f A', Iavg_input)\n",
"disp('The average input current is negative because input current during positive half cycle is less than during negative half cycle ')"
   ]
   }
,
{
		   "cell_type": "markdown",
		   "metadata": {},
		   "source": [
			"## Example 5.3: Calculate_the_different_parameters_of_single_phase_full_wave_AC_regulator.sce"
		   ]
		  },
  {
"cell_type": "code",
	   "execution_count": null,
	   "metadata": {
	    "collapsed": true
	   },
	   "outputs": [],
"source": [
"//5.3\n",
"clc;\n",
"Vin=150;\n",
"Vm=2^0.5*Vin;\n",
"alph=60;\n",
"R=8;\n",
"Vavg_out=Vm*(cosd(alph)+1)/(%pi);\n",
"printf('Average output voltage over half cycle =%.2f V', Vavg_out) \n",
"VL=Vm*(1/(2*%pi)*(%pi-60*%pi/180+sind(120)/2))^0.5;\n",
"printf('\nRMS output voltage =%.2f V', VL) \n",
"Po=VL^2/R;\n",
"printf('\nPower output =%.1f W', Po) \n",
"Iin=VL/R;\n",
"VA_input=Iin*Vin;\n",
"pf_input=Po/VA_input;\n",
"printf(' \nInput Power factor =%.1f lagging', pf_input) \n",
"\n",
"Iavg_thy=Vm*(1+cosd(alph))/(2*%pi*R);\n",
"printf('\nAverage thyristor Current =%.2f A', Iavg_thy) \n",
"Irms_thy=Vm/(2*R)*(1/(%pi)*(%pi-%pi/3+sind(120)/2))^0.5;\n",
"printf('\nRMS thyristor Current =%.3f A', Irms_thy)"
   ]
   }
,
{
		   "cell_type": "markdown",
		   "metadata": {},
		   "source": [
			"## Example 5.4: Calculate_the_different_parameters_of_single_phase_full_wave_AC_regulator.sce"
		   ]
		  },
  {
"cell_type": "code",
	   "execution_count": null,
	   "metadata": {
	    "collapsed": true
	   },
	   "outputs": [],
"source": [
"//5.4\n",
"clc;\n",
"Vin=120;\n",
"Vm=2^0.5*Vin;\n",
"alph=90;\n",
"R=10;\n",
"\n",
"VL=Vm*(1/(2*%pi)*(%pi-90*%pi/180+sind(180)/2))^0.5;\n",
"printf('\nRMS output voltage =%.2f V', VL) \n",
"Po=VL^2/R;\n",
"IL=VL/R;\n",
"VA_input=IL*Vin;\n",
"pf_input=Po/VA_input;\n",
"printf(' \nInput Power factor =%.3f lagging', pf_input) \n",
"\n",
"Iavg_thy=Vm*(1+cosd(alph))/(2*%pi*R);\n",
"printf('\nAverage thyristor Current =%.2f A', Iavg_thy) \n",
"Irms_thy=IL/2^0.5;\n",
"printf('\nRMS thyristor Current =%.3f A', Irms_thy)\n",
"Irms_load=VL/R;\n",
"printf('\nRMS Load Current =%.3f A', Irms_load)"
   ]
   }
,
{
		   "cell_type": "markdown",
		   "metadata": {},
		   "source": [
			"## Example 5.5: Find_RMS_output_voltage_and_average_power.sce"
		   ]
		  },
  {
"cell_type": "code",
	   "execution_count": null,
	   "metadata": {
	    "collapsed": true
	   },
	   "outputs": [],
"source": [
"//5.5\n",
"clc;\n",
"Vin=110;\n",
"Vm=2^0.5*Vin;\n",
"alph=60;\n",
"R=400;\n",
"VL=Vm*(1/(2*%pi)*(%pi-60*%pi/180+sind(120)/2))^0.5;\n",
"printf('\nRMS output voltage =%.2f V', VL) \n",
"Po=VL^2/R;\n",
"printf('\nPower output =%.2f W', Po) "
   ]
   }
,
{
		   "cell_type": "markdown",
		   "metadata": {},
		   "source": [
			"## Example 5.6: Find_the_firing_angle.sce"
		   ]
		  },
  {
"cell_type": "code",
	   "execution_count": null,
	   "metadata": {
	    "collapsed": true
	   },
	   "outputs": [],
"source": [
"//5.6\n",
"clc;\n",
"disp('When the power delivered is 80% we have')\n",
"//0.8=1/(%pi)*(%pi-alph+sin(2*alph)/2)\n",
"//on solving\n",
"alph=60.5;\n",
"printf('Firing angle=%.1f degree',alph)\n",
"disp('When the power delivered is 30% we have')\n",
"//0.3=1/(%pi)*(%pi-alph+sin(2*alph)/2)\n",
"//on solving\n",
"alph=108.6;\n",
"printf('Firing angle=%.1f degree',alph)"
   ]
   }
,
{
		   "cell_type": "markdown",
		   "metadata": {},
		   "source": [
			"## Example 5.7: Find_the_conduction_angle_and_RMS_output_voltage.sce"
		   ]
		  },
  {
"cell_type": "code",
	   "execution_count": null,
	   "metadata": {
	    "collapsed": true
	   },
	   "outputs": [],
"source": [
"//5.7\n",
"clc;\n",
"f=50;\n",
"Vin=150;\n",
"w=2*%pi*f;\n",
"L=22*10^-3;R=4;\n",
"th=atand(w*L/R);\n",
"Beta=180+th;\n",
"printf('Conduction angle of thyristor=%.0f degree',Beta)\n",
"Vm=2^0.5*Vin;\n",
"VL=Vm*(1/(2*%pi)*(%pi++sind(120)/2-sind(2*240)/2))^0.5;\n",
"printf('\nRMS output Voltage=%.0f V', VL)"
   ]
   }
,
{
		   "cell_type": "markdown",
		   "metadata": {},
		   "source": [
			"## Example 5.8: Calculate_the_different_parameters_of_single_phase_full_wave_AC_regulator.sce"
		   ]
		  },
  {
"cell_type": "code",
	   "execution_count": null,
	   "metadata": {
	    "collapsed": true
	   },
	   "outputs": [],
"source": [
"//5.8\n",
"clc;\n",
"f=50;\n",
"Vin=230;\n",
"w=2*%pi*f;\n",
"L=20*10^-3;R=5;\n",
"th=atand(R/(w*L));\n",
"printf('Firing angle=%.2f degree',th)\n",
"disp('Therefore, Range of firing angle is 38.51 degree to 180 degree')\n",
"Beta=180;\n",
"printf('Conduction angle of thyristor=%.0f degree',Beta)\n",
"IL=Vin/((R^2+w^2*L^2))^0.5;\n",
"printf(' \nRMS load current =%.2f A', IL)\n",
"Po=IL^2*R;\n",
"printf(' \nPower Output =%.2f W', Po)\n",
"pf_input=Po/(Vin*IL);\n",
"printf(' \nInput Power factor =%.3f lagging', pf_input)"
   ]
   }
],
"metadata": {
		  "kernelspec": {
		   "display_name": "Scilab",
		   "language": "scilab",
		   "name": "scilab"
		  },
		  "language_info": {
		   "file_extension": ".sce",
		   "help_links": [
			{
			 "text": "MetaKernel Magics",
			 "url": "https://github.com/calysto/metakernel/blob/master/metakernel/magics/README.md"
			}
		   ],
		   "mimetype": "text/x-octave",
		   "name": "scilab",
		   "version": "0.7.1"
		  }
		 },
		 "nbformat": 4,
		 "nbformat_minor": 0
}
