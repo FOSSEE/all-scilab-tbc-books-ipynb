{
"cells": [
 {
		   "cell_type": "markdown",
	   "metadata": {},
	   "source": [
       "# Chapter 1: Power electronics devices"
	   ]
	},
{
		   "cell_type": "markdown",
		   "metadata": {},
		   "source": [
			"## Example 1.10: Find_the_power_supplied_to_load_and_average_current.sce"
		   ]
		  },
  {
"cell_type": "code",
	   "execution_count": null,
	   "metadata": {
	    "collapsed": true
	   },
	   "outputs": [],
"source": [
"//1.10\n",
"clc;\n",
"disp('If the thyristor is fired at 60 degree')\n",
"Irms=(0.8405*((%pi-%pi*60/180)-sin(2*%pi)/2+sin(2*%pi*60/180)/2))^0.5;\n",
"R=100;\n",
"P=Irms^2*R;\n",
"printf('Power supplied to load=%.0f W',P)\n",
"disp('If the thyristor is fired at 45 degree')\n",
"Irms=(0.8405*((%pi-%pi*45/180)-sin(2*%pi)/2+sin(2*%pi*45/180)/2))^0.5;\n",
"R=100;\n",
"P=Irms^2*R;\n",
"printf('Power supplied to load=%.1f W',P)\n",
"disp('If the thyristor is fired at 60 degree')\n",
"Iavg=3.25/(2*%pi)*(-cos(%pi)+cos(%pi*60/180))\n",
"printf('Average Current=%.3f A',Iavg)\n",
"disp('If the thyristor is fired at 45 degree')\n",
"Iavg=3.25/(2*%pi)*(-cos(%pi)+cos(%pi*45/180))\n",
"printf('Average Current=%.3f A',Iavg)"
   ]
   }
,
{
		   "cell_type": "markdown",
		   "metadata": {},
		   "source": [
			"## Example 1.11: Calculate_the_average_power_loss.sce"
		   ]
		  },
  {
"cell_type": "code",
	   "execution_count": null,
	   "metadata": {
	    "collapsed": true
	   },
	   "outputs": [],
"source": [
"//1.11\n",
"clc;\n",
"//when conduction period is 2*pi\n",
"amplitude=200;\n",
"pd=1.8;\n",
"power_loss_average= amplitude*pd*2*%pi/(2*%pi);\n",
"printf('power loss average when conduction period is 2*pi= %.0f W',power_loss_average)\n",
"\n",
"//when conduction period is pi\n",
"amplitude=400;\n",
"pd=1.9;\n",
"power_loss_average= amplitude*pd*%pi/(2*%pi);\n",
"printf('\npower loss average when conduction period is pi= %.0f W',power_loss_average)"
   ]
   }
,
{
		   "cell_type": "markdown",
		   "metadata": {},
		   "source": [
			"## Example 1.12: Find_the_resistance_to_be_connected_in_series_and_average_power_loss.sce"
		   ]
		  },
  {
"cell_type": "code",
	   "execution_count": null,
	   "metadata": {
	    "collapsed": true
	   },
	   "outputs": [],
"source": [
"//1.12\n",
"clc;\n",
"P_loss_peak=6;\n",
"Ig=0.763;\n",
"Vg=1+9*Ig;\n",
"Rg=(11-9*Ig)/Ig;\n",
"printf('\nResistance to be connected in series=%.3f ohm', Rg)\n",
"duty=0.3;\n",
"P_loss_average=P_loss_peak*duty;\n",
"printf('\nAverage power loss =%.1f W', P_loss_average)"
   ]
   }
,
{
		   "cell_type": "markdown",
		   "metadata": {},
		   "source": [
			"## Example 1.13: EX1_13.sce"
		   ]
		  },
  {
"cell_type": "code",
	   "execution_count": null,
	   "metadata": {
	    "collapsed": true
	   },
	   "outputs": [],
"source": [
"//1.13\n",
"clc;\n",
"disp('when current is constant 20A')\n",
"It=20;\n",
"Vt=0.9+0.02*It;\n",
"P_dissipation=Vt*It;\n",
"printf('Power dissipation=%.0f W',P_dissipation)\n",
"disp('when current is constant 20A for one half cycle in each full cycle')\n",
"P_dissipation=Vt*It/2;\n",
"printf('Power dissipation=%.0f W',P_dissipation)\n",
"disp('when current is constant 20A for one third cycle in each full cycle')\n",
"P_dissipation=Vt*It/3;\n",
"printf('Power dissipation=%.2f W',P_dissipation)"
   ]
   }
,
{
		   "cell_type": "markdown",
		   "metadata": {},
		   "source": [
			"## Example 1.14: Find_different_current_ratings.sce"
		   ]
		  },
  {
"cell_type": "code",
	   "execution_count": null,
	   "metadata": {
	    "collapsed": true
	   },
	   "outputs": [],
"source": [
"//1.14\n",
"clc;\n",
"Isub=2000;\n",
"T=10*10^-3;\n",
"t=5*10^-3;\n",
"I=(Isub^2*t/T)^0.5;\n",
"printf('one cycle surge current rating=%.1f A', I)\n",
"//a=I^2t\n",
"a=I^2*T;\n",
"printf('\nI^2t=%.1f A^2Sec', a)"
   ]
   }
,
{
		   "cell_type": "markdown",
		   "metadata": {},
		   "source": [
			"## Example 1.15: Find_source_resistance_gate_current_and_voltage.sce"
		   ]
		  },
  {
"cell_type": "code",
	   "execution_count": null,
	   "metadata": {
	    "collapsed": true
	   },
	   "outputs": [],
"source": [
"//1.15\n",
"clc;\n",
"P=0.3;\n",
"Vs=12;\n",
"disp('Since load line has a slope of -100V/A, the source resistance for the gate is 100 ohm')\n",
"Rs=100;\n",
"// since Vs=Vg+Ig*Rs\n",
"// on solving Ig=35.5 mA\n",
"Ig=35.5*10^-3;\n",
"printf('\nGate current=%.4f A',Ig)\n",
"Vg=P/Ig;\n",
"printf('\nGate voltage=%.2f V',Vg)"
   ]
   }
,
{
		   "cell_type": "markdown",
		   "metadata": {},
		   "source": [
			"## Example 1.16: Find_the_thermal_resistance_and_temperature.sce"
		   ]
		  },
  {
"cell_type": "code",
	   "execution_count": null,
	   "metadata": {
	    "collapsed": true
	   },
	   "outputs": [],
"source": [
"//1.16\n",
"clc;\n",
"l=0.2;\n",
"w=0.01;\n",
"d=0.01;\n",
"the_cond=220;\n",
"the_res=l/(the_cond*w*d);\n",
"printf('Thermal resistance = %.3f degree C/W', the_res)\n",
"T1=30;\n",
"P=3;\n",
"T2=P*the_res+T1;\n",
"printf('\nTemperature of the surface = %.2f degree C', T2)"
   ]
   }
,
{
		   "cell_type": "markdown",
		   "metadata": {},
		   "source": [
			"## Example 1.17: Find_the_maximum_loss.sce"
		   ]
		  },
  {
"cell_type": "code",
	   "execution_count": null,
	   "metadata": {
	    "collapsed": true
	   },
	   "outputs": [],
"source": [
"//1.17\n",
"clc;\n",
"l=2*10^-3;\n",
"A=12*10^-4;\n",
"the_cond=220;\n",
"the_res=l/(the_cond*A);\n",
"T=4; //T=T2-T1\n",
"P=T/the_res;\n",
"printf('Maximum loss which can be handled by module= %.2f W', P)"
   ]
   }
,
{
		   "cell_type": "markdown",
		   "metadata": {},
		   "source": [
			"## Example 1.18: Find_the_maximum_loss.sce"
		   ]
		  },
  {
"cell_type": "code",
	   "execution_count": null,
	   "metadata": {
	    "collapsed": true
	   },
	   "outputs": [],
"source": [
"//1.18\n",
"clc;\n",
"T2=125;\n",
"T1=50;\n",
"T=T2-T1;\n",
"P=30;\n",
"Total_the_res=T/P;\n",
"the_res=Total_the_res-1-0.3;\n",
"printf('Thermal resistance of heat sink= %.1f degree C/W', the_res)"
   ]
   }
,
{
		   "cell_type": "markdown",
		   "metadata": {},
		   "source": [
			"## Example 1.19: Design_a_UJT_relaxation_oscillator.sce"
		   ]
		  },
  {
"cell_type": "code",
	   "execution_count": null,
	   "metadata": {
	    "collapsed": true
	   },
	   "outputs": [],
"source": [
"//1.19\n",
"clc;\n",
"T=1/50;\n",
"V=32;\n",
"Vp=0.63*V+0.5;\n",
"C=0.4*10^-6;\n",
"Ip=10*10^-6;\n",
"Rmax=(V-Vp)/Ip;\n",
"printf('Rmax=%.0f ohm', Rmax)\n",
"Vv=3.5;\n",
"Iv=10*10^-3;\n",
"Rmin=(V-Vv)/Iv;\n",
"printf('\nRmin=%.0f ohm', Rmin)\n",
"R=T/(C*log(1/(1-0.63)));\n",
"printf('\nR=%.0f ohm', R)\n",
"disp('since the value of R is between Rmin and Rmax so the value is suitable')\n",
"R4=50*10^-6/C;\n",
"printf('\nR4=%.0f ohm', R4)\n",
"R3=10^4/(0.63*V);\n",
"printf('\nR3=%.0f ohm', R3)\n",
""
   ]
   }
,
{
		   "cell_type": "markdown",
		   "metadata": {},
		   "source": [
			"## Example 1.1: Calculate_the_equivalent_capacitance_of_depletion_layer.sce"
		   ]
		  },
  {
"cell_type": "code",
	   "execution_count": null,
	   "metadata": {
	    "collapsed": true
	   },
	   "outputs": [],
"source": [
"//1.1\n",
"clc;\n",
"Ic=8*10^-3;\n",
"//let dv/dt =A\n",
"A=190*10^6;\n",
"C=Ic/A*10^12;\n",
"printf('Equivalent capacitance of depletion layer = %.1f uF', C)"
   ]
   }
,
{
		   "cell_type": "markdown",
		   "metadata": {},
		   "source": [
			"## Example 1.20: Find_the_values_of_different_components_of_circuit.sce"
		   ]
		  },
  {
"cell_type": "code",
	   "execution_count": null,
	   "metadata": {
	    "collapsed": true
	   },
	   "outputs": [],
"source": [
"//1.20\n",
"clc;\n",
"T=.5*10^-3;\n",
"V=10;\n",
"Vp=0.6*V+0.5;\n",
"Ip=5*10^-3;\n",
"Rmax=(V-Vp)/Ip;\n",
"printf('Rmax=%.0f ohm', Rmax)\n",
"C=1*10^-6;\n",
"R=T/(C*log(1/(1-0.6)));\n",
"printf('\nR=%.1f ohm', R)\n",
"disp('since the value of R is less than Rmax so the value is suitable')\n",
"\n",
""
   ]
   }
,
{
		   "cell_type": "markdown",
		   "metadata": {},
		   "source": [
			"## Example 1.21: Find_the_time_of_conduction_of_thyristor.sce"
		   ]
		  },
  {
"cell_type": "code",
	   "execution_count": null,
	   "metadata": {
	    "collapsed": true
	   },
	   "outputs": [],
"source": [
"//1.21\n",
"clc;\n",
"R=0.8;\n",
"L=10*10^-6;\n",
"C=50*10^-6;\n",
"t0=10^6*%pi/((1/(L*C))-(R^2/(4*L^2)))^0.5;\n",
"printf('Time of conduction of thyristor= %.2f us', t0)"
   ]
   }
,
{
		   "cell_type": "markdown",
		   "metadata": {},
		   "source": [
			"## Example 1.22: Find_the_values_of_L_and_C.sce"
		   ]
		  },
  {
"cell_type": "code",
	   "execution_count": null,
	   "metadata": {
	    "collapsed": true
	   },
	   "outputs": [],
"source": [
"//1.22\n",
"clc;\n",
"Ip=16;\n",
"V=90;\n",
"// C/L=(Ip/V)^2;          (i)\n",
"// Assume that circuit is reverse biased for one-fourth period of resonant circuit. thus\n",
"//%pi/2*(L*C)^0.5=40*10^-6;          (ii)\n",
"// on solving (i) and (ii)\n",
"C=4.527*10^-6;\n",
"L=C/(Ip/V)^2*10^6;\n",
"C=4.527*10^-6*10^6;\n",
"printf('C=%.3f uF',C)\n",
"printf('\nL=%.2f uH',L)"
   ]
   }
,
{
		   "cell_type": "markdown",
		   "metadata": {},
		   "source": [
			"## Example 1.23: Find_the_value_of_C.sce"
		   ]
		  },
  {
"cell_type": "code",
	   "execution_count": null,
	   "metadata": {
	    "collapsed": true
	   },
	   "outputs": [],
"source": [
"//1.23\n",
"clc;\n",
"t_off=50*10^-6;\n",
"R1=10;\n",
"a=log(2);\n",
"C=t_off/(a*R1)*10^6;\n",
"printf('The value of C= %.2f uF',C)"
   ]
   }
,
{
		   "cell_type": "markdown",
		   "metadata": {},
		   "source": [
			"## Example 1.24: Calculate_the_value_of_C_and_L.sce"
		   ]
		  },
  {
"cell_type": "code",
	   "execution_count": null,
	   "metadata": {
	    "collapsed": true
	   },
	   "outputs": [],
"source": [
"//1.24\n",
"clc;\n",
"Vc=100;\n",
"IL=40;\n",
"t_off=40*10^-6*1.5;\n",
"C=IL*t_off/Vc;\n",
"printf('The value of capacitor= %.6f F',C)\n",
"//L>(VC^2*C/IL^2);\n",
"//IC_peak=Vc*(C/L)^0.5;\n",
"//IC_peak should be less than maximum load current so if L=2*10^-4\n",
"L=2*10^-4;\n",
"IC_peak=Vc*(C/L)^0.5;\n",
"printf('\nPeak capacitor current= %.2f A',IC_peak)\n",
"disp('Since the peak capacitor current less than maximum load current 40 A so  L=2*10^-4 and C=24uF')\n",
""
   ]
   }
,
{
		   "cell_type": "markdown",
		   "metadata": {},
		   "source": [
			"## Example 1.25: Find_the_commutation_time_and_the_current_rating_of_the_thyristor.sce"
		   ]
		  },
  {
"cell_type": "code",
	   "execution_count": null,
	   "metadata": {
	    "collapsed": true
	   },
	   "outputs": [],
"source": [
"//1.25\n",
"clc;\n",
"L=0.1*10^-3;\n",
"Vc=100;\n",
"C=10*10^-6;\n",
"IL=10;\n",
"t_off=Vc*C/IL*10^6;\n",
"printf('Commutation time= %.0f us',t_off)\n",
"disp('The commutation time  of the thyristor is more than the turn off time of the main thyristor i.e. 25us and is thus  sufficient to commutate the main thyristor')\n",
"IC_peak= Vc*(C/L)^0.5;\n",
"printf('Peak capacitor current= %.2f A',IC_peak)\n",
"disp('The maximum current rating of the thyristor should be more than 31.62A')"
   ]
   }
,
{
		   "cell_type": "markdown",
		   "metadata": {},
		   "source": [
			"## Example 1.26: Find_the_value_of_R_and_C.sce"
		   ]
		  },
  {
"cell_type": "code",
	   "execution_count": null,
	   "metadata": {
	    "collapsed": true
	   },
	   "outputs": [],
"source": [
"//1.26\n",
"clc;\n",
"Vm=230*2^0.5;\n",
"L=0.2*10^-3;\n",
"//a=dv/dt\n",
"a=25*10^6;\n",
"sig=0.65;\n",
"C=(1/(2*L))*(0.564*Vm/a)^2*10^9;\n",
"R=2*sig*(L/(C*10^-9))^0.5;\n",
"printf('The value of capacitor= %.2f nF',C)\n",
"printf('\nThe value of Resistor= %.1f Ohm',R)"
   ]
   }
,
{
		   "cell_type": "markdown",
		   "metadata": {},
		   "source": [
			"## Example 1.27: Find_the_value_of_R_C_and_snubber_power_loss_and_power_rating_of_resistance.sce"
		   ]
		  },
  {
"cell_type": "code",
	   "execution_count": null,
	   "metadata": {
	    "collapsed": true
	   },
	   "outputs": [],
"source": [
"//1.27\n",
"clc;\n",
"f=2000;\n",
"V=300;\n",
"RL=10;\n",
"//a=dv/dt\n",
"a=100*10^6;\n",
"R=300/100;\n",
"C=(0.632*V*RL)/(a*(R+RL)^2)*10^6;\n",
"printf('The value of capacitor= %.3f uF',C)\n",
"Power_Loss_snubber=0.5*C*10^-6*V^2*f;\n",
"printf('\nSnubber Power Loss= %.2f W',Power_Loss_snubber)\n",
"disp('All the energy stored in the capacitance C is dissipated in resistance R. Hence power Rating of R is 10.1W')"
   ]
   }
,
{
		   "cell_type": "markdown",
		   "metadata": {},
		   "source": [
			"## Example 1.28: Find_the_maximum_permissible_values.sce"
		   ]
		  },
  {
"cell_type": "code",
	   "execution_count": null,
	   "metadata": {
	    "collapsed": true
	   },
	   "outputs": [],
"source": [
"//1.28\n",
"clc;\n",
"C=6*10^-6;\n",
"R=4;\n",
"V=300;\n",
"L=6*10^-6;\n",
"b_max=V/L*10^-6; // b=di/dt\n",
"printf('The maximum permissible value of di/dt = %.0f MA/s',b_max)\n",
"Isc=V/R;\n",
"//a=dv/dt\n",
"a=((R*b_max*10^6)+(Isc/C))*10^-6;\n",
"printf('\nThe maximum permissible value of dv/dt = %.1f MV/s',a)"
   ]
   }
,
{
		   "cell_type": "markdown",
		   "metadata": {},
		   "source": [
			"## Example 1.29: Find_number_of_thyristor_in_series_and_parallel.sce"
		   ]
		  },
  {
"cell_type": "code",
	   "execution_count": null,
	   "metadata": {
	    "collapsed": true
	   },
	   "outputs": [],
"source": [
"//1.29\n",
"clc;\n",
"Im=750;\n",
"De=0.25;\n",
"It=175;\n",
"np=(Im/It)/(1-De);\n",
"printf('np = %.2f ',np)\n",
"disp('so the no. of thyristors in parallel are 6')\n",
"Vs=3000;\n",
"De=0.25;\n",
"Vd=800;\n",
"ns=(Vs/Vd)/(1-De);\n",
"printf('ns = %.2f ',ns)\n",
"disp('so the no. of thyristors in series are 5')"
   ]
   }
,
{
		   "cell_type": "markdown",
		   "metadata": {},
		   "source": [
			"## Example 1.2: Calculate_the_voltage_required_to_Turn_ON_the_thyristor.sce"
		   ]
		  },
  {
"cell_type": "code",
	   "execution_count": null,
	   "metadata": {
	    "collapsed": true
	   },
	   "outputs": [],
"source": [
"//1.2\n",
"clc;\n",
"disp('When thyristor is not conducting there is no current through it')\n",
"disp('so Vo=20V')\n",
"VG=0.75;\n",
"IG=7*10^-3;\n",
"RG=2000;\n",
"Vs=VG+IG*RG;\n",
"printf('Voltage required to Turn On The thyristor = %.2f V', Vs)\n",
"R= 200;\n",
"VR=5*10^-3*R;\n",
"printf('/nVoltage drop across R = %.0f V', VR)\n",
"disp('Hence Vcc should be reduced to less than 1V')\n",
"Vconduct=0.7;\n",
"Vreq=VR+Vconduct;\n",
"printf('Voltage required = %.1f V', Vreq)\n",
"disp('Hence Vcc should be reduced to less than 1.7V')"
   ]
   }
,
{
		   "cell_type": "markdown",
		   "metadata": {},
		   "source": [
			"## Example 1.30: Find_the_value_of_R_and_C_for_static_and_dynamic_equalizing_circuits.sce"
		   ]
		  },
  {
"cell_type": "code",
	   "execution_count": null,
	   "metadata": {
	    "collapsed": true
	   },
	   "outputs": [],
"source": [
"//1.30\n",
"clc;\n",
"ns=5;\n",
"Vd=800;\n",
"Vs=3000;\n",
"Ib=8*10^-3;\n",
"dQ=30*10^-6;\n",
"R=(ns*Vd-Vs)/((ns-1)*Ib)\n",
"C=((ns-1)*dQ)/(ns*Vd-Vs)*10^6;\n",
"printf('The value of resistance = %.2f ohm ',R)\n",
"printf('\nThe value of capacitance = %.2f uF ',C)"
   ]
   }
,
{
		   "cell_type": "markdown",
		   "metadata": {},
		   "source": [
			"## Example 1.31: Find_the_value_of_resistance_to_be_connected_in_series.sce"
		   ]
		  },
  {
"cell_type": "code",
	   "execution_count": null,
	   "metadata": {
	    "collapsed": true
	   },
	   "outputs": [],
"source": [
"//1.31\n",
"clc;\n",
"R=(1.5-1.2)/100;\n",
"printf(' The value of resistance to be connected in series= %.3f ohm',R)"
   ]
   }
,
{
		   "cell_type": "markdown",
		   "metadata": {},
		   "source": [
			"## Example 1.32: Find_the_steady_and_transient_state_rating_and_derating_of_thyristor.sce"
		   ]
		  },
  {
"cell_type": "code",
	   "execution_count": null,
	   "metadata": {
	    "collapsed": true
	   },
	   "outputs": [],
"source": [
"//1.32\n",
"clc;\n",
"ns=12;\n",
"Vd=800;\n",
"V=16000;\n",
"Ib=10*10^-3;\n",
"dQ=150*10^-6;\n",
"C=0.5*10^-6;\n",
"R=56*10^3;\n",
"Vd=(V+(ns-1)*R*Ib)/ns;\n",
"printf('maximum steady state voltage rating of each thyristor = %.2f V',Vd)\n",
"De=1-(V/(ns*Vd));\n",
"printf('\nSteady state voltage derating = %.3f ',De)\n",
"Vd=(V+(ns-1)*(dQ/C))/ns;\n",
"printf('\nmaximum transient state voltage rating of each thyristor = %.2f V',Vd)\n",
"De=1-(V/(ns*Vd));\n",
"printf('\ntransient state voltage derating = %.3f ',De)"
   ]
   }
,
{
		   "cell_type": "markdown",
		   "metadata": {},
		   "source": [
			"## Example 1.33: Find_number_of_thyristor_in_series_and_parallel.sce"
		   ]
		  },
  {
"cell_type": "code",
	   "execution_count": null,
	   "metadata": {
	    "collapsed": true
	   },
	   "outputs": [],
"source": [
"//1.33\n",
"clc;\n",
"Im=1000;\n",
"De=0.14;\n",
"It=75;\n",
"np=(Im/It)/(1-De);\n",
"printf('np = %.2f ',np)\n",
"disp('so the no. of thyristors in parallel are 16')\n",
"Vs=7500;\n",
"De=0.14;\n",
"Vd=500;\n",
"ns=(Vs/Vd)/(1-De);\n",
"printf('ns = %.2f ',ns)\n",
"disp('so the no. of thyristors in series are 18')"
   ]
   }
,
{
		   "cell_type": "markdown",
		   "metadata": {},
		   "source": [
			"## Example 1.34: Find_Stored_charge_and_peak_reverse_current.sce"
		   ]
		  },
  {
"cell_type": "code",
	   "execution_count": null,
	   "metadata": {
	    "collapsed": true
	   },
	   "outputs": [],
"source": [
"//1.34\n",
"clc;\n",
"trr=2.5*10^-6;\n",
"//b=di/dt\n",
"b=35*10^6;\n",
"Qrr=0.5*trr^2*b*10^6;\n",
"printf(' Stored charge= %.3f uC',Qrr)\n",
"Irr=(2*Qrr*10^-6*b)^0.5;\n",
"printf(' Peak reverse current= %.1f A',Irr)"
   ]
   }
,
{
		   "cell_type": "markdown",
		   "metadata": {},
		   "source": [
			"## Example 1.3: Find_gate_voltage_gate_current_and_resistance_to_be_connected_in_series.sce"
		   ]
		  },
  {
"cell_type": "code",
	   "execution_count": null,
	   "metadata": {
	    "collapsed": true
	   },
	   "outputs": [],
"source": [
"//1.3\n",
"clc;\n",
"P_loss_avg=0.6;\n",
"P_loss_conduction=0.6*2*%pi/%pi;\n",
"Ig=0.314;\n",
"printf('Ig=%.3f A', Ig)\n",
"Vg=1+9*Ig;\n",
"printf('\nVg=%.3f V', Vg)\n",
"Rg=(24-9*Ig)/Ig;\n",
"printf('\nResistance to be connected in series=%.2f ohm', Rg)"
   ]
   }
,
{
		   "cell_type": "markdown",
		   "metadata": {},
		   "source": [
			"## Example 1.4: Calculate_the_minimum_width_of_the_gate_pulse.sce"
		   ]
		  },
  {
"cell_type": "code",
	   "execution_count": null,
	   "metadata": {
	    "collapsed": true
	   },
	   "outputs": [],
"source": [
"//1.4\n",
"clc;\n",
"V=100;\n",
"L=10;\n",
"i=80*10^-3;\n",
"t=i*L/V*10^3;\n",
"printf('t= %.0f ms', t)\n",
"disp('So the width of the pulse should be more than 8 ms')"
   ]
   }
,
{
		   "cell_type": "markdown",
		   "metadata": {},
		   "source": [
			"## Example 1.5: Calculate_the_minimum_width_of_the_gate_pulse.sce"
		   ]
		  },
  {
"cell_type": "code",
	   "execution_count": null,
	   "metadata": {
	    "collapsed": true
	   },
	   "outputs": [],
"source": [
"//1.5\n",
"clc;\n",
"V=100;\n",
"R=10;\n",
"i=50*10^-3;\n",
"t=-0.5*log(1-((i*R/V)))*10^3\n",
"printf('t= %.1f ms', t)\n",
"disp('So the minimum width of the gate pulse is 2.5 ms')"
   ]
   }
,
{
		   "cell_type": "markdown",
		   "metadata": {},
		   "source": [
			"## Example 1.6: Find_if_thyristor_will_turn_ON_and_the_value_of_resistance.sce"
		   ]
		  },
  {
"cell_type": "code",
	   "execution_count": null,
	   "metadata": {
	    "collapsed": true
	   },
	   "outputs": [],
"source": [
"//1.6\n",
"clc;\n",
"V=90;\n",
"R=25;\n",
"t=40*10^-6;\n",
"L=0.5;\n",
"i=(V/R)*(1-exp(-R*t/L))\n",
"iL=40*10^-3;\n",
"printf('The circuit current is= %.4f A', i)\n",
"disp('Since the circuit current is less than latching current of 40mA so thyristor will not turn ON')\n",
"R=V/(iL-i);\n",
"printf('R= %.0f Ohm', R)\n",
"disp('R should be less than 2743 ohm')"
   ]
   }
,
{
		   "cell_type": "markdown",
		   "metadata": {},
		   "source": [
			"## Example 1.7: Find_if_thyristor_will_turn_OFF_and_maximum_value_of_resistance.sce"
		   ]
		  },
  {
"cell_type": "code",
	   "execution_count": null,
	   "metadata": {
	    "collapsed": true
	   },
	   "outputs": [],
"source": [
"//1.7\n",
"clc;\n",
"V=100;\n",
"R=20;\n",
"t=50*10^-6;\n",
"L=0.5;\n",
"i=(V/R)*(1-exp(-R*t/L))\n",
"iH=50*10^-3;\n",
"printf('The circuit current is= %.5f A', i)\n",
"disp('Since the circuit current is less than holding current of 50mA so thyristor will turn OFF')\n",
"R=V/(iH-i);\n",
"printf('Maximum value of R= %.3f Ohm', R)"
   ]
   }
,
{
		   "cell_type": "markdown",
		   "metadata": {},
		   "source": [
			"## Example 1.8: Can_a_negative_gate_current_turn_off_a_thyristor.sce"
		   ]
		  },
  {
"cell_type": "code",
	   "execution_count": null,
	   "metadata": {
	    "collapsed": true
	   },
	   "outputs": [],
"source": [
"//1.8\n",
"clc;\n",
"disp('A negative gate current cannot turn off a thyristor. This is due to the reason that cathode region is much bigger in area than gate region')"
   ]
   }
,
{
		   "cell_type": "markdown",
		   "metadata": {},
		   "source": [
			"## Example 1.9: Find_RMS_current_and_form_factor.sce"
		   ]
		  },
  {
"cell_type": "code",
	   "execution_count": null,
	   "metadata": {
	    "collapsed": true
	   },
	   "outputs": [],
"source": [
"//1.9\n",
"clc;\n",
"I=120;\n",
"gama=180;\n",
"th=360;\n",
"I_rms=I*(gama/th)^0.5;\n",
"printf('The RMS value of current= %.2f A',I_rms)\n",
"I_avg=I*(gama/th);\n",
"Form_factor=I_rms/I_avg;\n",
"printf('\nForm factor= %.3f A',Form_factor)"
   ]
   }
],
"metadata": {
		  "kernelspec": {
		   "display_name": "Scilab",
		   "language": "scilab",
		   "name": "scilab"
		  },
		  "language_info": {
		   "file_extension": ".sce",
		   "help_links": [
			{
			 "text": "MetaKernel Magics",
			 "url": "https://github.com/calysto/metakernel/blob/master/metakernel/magics/README.md"
			}
		   ],
		   "mimetype": "text/x-octave",
		   "name": "scilab",
		   "version": "0.7.1"
		  }
		 },
		 "nbformat": 4,
		 "nbformat_minor": 0
}
