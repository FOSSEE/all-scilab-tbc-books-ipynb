{
"cells": [
 {
		   "cell_type": "markdown",
	   "metadata": {},
	   "source": [
       "# Chapter 6: Elements Of Airplane Performance"
	   ]
	},
{
		   "cell_type": "markdown",
		   "metadata": {},
		   "source": [
			"## Example 6.12: Example_12.sce"
		   ]
		  },
  {
"cell_type": "code",
	   "execution_count": null,
	   "metadata": {
	    "collapsed": true
	   },
	   "outputs": [],
"source": [
"pathname=get_absolute_file_path('6_12.sce')\n",
"filename=pathname+filesep()+'6_12data.sci'\n",
"exec(filename)\n",
"clf();\n",
"V=linspace(20,120,500);\n",
"i = 1;\n",
"Cl = 0;Cd = 0;Cl_Cd =0;Thrust = 0;\n",
"while(i<=length(V)) \n",
"    Cl(i) = 2*Wo/(D*S*V(i)^2);\n",
"    Cd(i) = Cdo + Cl(i)^2/(%pi*e*AR);\n",
"    Cl_Cd(i) = Cl(i)/Cd(i);\n",
"    Cl1_Cd(i)=Cl(i)^1.5/Cd(i)\n",
"   i = i+1; \n",
"end \n",
"xlabel('Velocity (m/s)');\n",
"plot2d(V,Cl_Cd,3);\n",
"plot2d(V,Cl1_Cd,4);\n",
"//from graph we can see:\n",
"Cl_Cdmax=13.62;//maximum Cl/Cd\n",
"Cl1_Cdmax=12.81;//maximum Cl^1.5/Cd\n",
"R=(n/c)*Cl_Cdmax*log(Wo/W1)\n",
"disp(R,'R=','Range R=(n/c)*(Cl/Cd)*log(Wo/W1)')\n",
"E=(n/c)*Cl1_Cdmax*sqrt(2*D*S)*[1/sqrt(W1)-1/sqrt(Wo)]\n",
"disp(E,'E=','Endurance E=(n/c)*(Cl^1.5/Cd)*sqrt(2*D*S)*[1/sqrt(W1)-1/sqrt(Wo)]')\n",
"printf('\Answer:\n')\n",
"printf('\n\Maximum range of CP-1: %f m\n\n',R)\n",
"printf('\n\Maximum Endurance of CP-1: %f s\n\n',E)\n",
""
   ]
   }
,
{
		   "cell_type": "markdown",
		   "metadata": {},
		   "source": [
			"## Example 6.13: Example_13.sce"
		   ]
		  },
  {
"cell_type": "code",
	   "execution_count": null,
	   "metadata": {
	    "collapsed": true
	   },
	   "outputs": [],
"source": [
"pathname=get_absolute_file_path('6_13.sce')\n",
"filename=pathname+filesep()+'6_13data.sci'\n",
"exec(filename)\n",
"clf();\n",
"V=linspace(20,400,500);\n",
"i = 1;\n",
"Cl = 0;Cd = 0;Cl_Cd =0;Thrust = 0;\n",
"while(i<=length(V)) \n",
"    Cl(i) = 2*Wo/(D*S*V(i)^2);\n",
"    Cd(i) = Cdo + Cl(i)^2/(%pi*e*AR);\n",
"    Cl_Cd(i) = Cl(i)/Cd(i);\n",
"    Cl1_Cd(i)=Cl(i)^0.5/Cd(i)\n",
"   i = i+1; \n",
"end \n",
"xlabel('Velocity (m/s)');\n",
"plot2d(V,Cl_Cd,3);\n",
"plot2d(V,Cl1_Cd,4);\n",
"//from graph we can see:\n",
"Cl_Cdmax=16.9;//maximum Cl/Cd\n",
"Cl1_Cdmax=23.4;//maximum Cl^0.5/Cd\n",
"R=[sqrt(Wo)-sqrt(W1)]*Cl1_Cdmax*2*(sqrt(2/(D*S))/c);\n",
"disp(R,'R=','Range R=[sqrt(Wo)-sqrt(W1)]*Cl^.5/Cd*2*(sqrt(2/(D*S))/c)')\n",
"E=(Cl_Cdmax*log(Wo/W1))/c;\n",
"disp(E,'E=','Endurance E=(Cl_Cdmax*log(Wo/W1))/c')\n",
"printf('\Answer:\n')\n",
"printf('\n\Maximum range of CJ-1: %f m\n\n',R)\n",
"printf('\n\Maximum Endurance of CJ-1: %f s\n\n',E)\n",
""
   ]
   }
,
{
		   "cell_type": "markdown",
		   "metadata": {},
		   "source": [
			"## Example 6.14: Example_14.sce"
		   ]
		  },
  {
"cell_type": "code",
	   "execution_count": null,
	   "metadata": {
	    "collapsed": true
	   },
	   "outputs": [],
"source": [
"pathname=get_absolute_file_path('6_14.sce')\n",
"filename=pathname+filesep()+'6_14data.sci'\n",
"exec(filename)\n",
"Cl_Cdmax=sqrt(Cdo*%pi*e*AR)/(2*Cdo);\n",
"disp(Cl_Cdmax,'(Cl/Cd)max=','(Cl/Cd)max=sqrt(Cdo*%pi*e*AR)/(2*Cdo)')\n",
"Cl_Cd1max=(3*Cdo*%pi*e*AR)^(3/4)/(4*Cdo);\n",
"disp(Cl_Cd1max,'((Cl/Cd)^1.5)max=','((Cl/Cd)^1.5)max=(3*Cdo*%pi*e*AR)^(3/4)/(4*Cdo)')"
   ]
   }
,
{
		   "cell_type": "markdown",
		   "metadata": {},
		   "source": [
			"## Example 6.15: Example_15.sce"
		   ]
		  },
  {
"cell_type": "code",
	   "execution_count": null,
	   "metadata": {
	    "collapsed": true
	   },
	   "outputs": [],
"source": [
"pathname=get_absolute_file_path('6_15.sce')\n",
"filename=pathname+filesep()+'6_15data.sci'\n",
"exec(filename)\n",
"Cl_Cdmax=sqrt(Cdo*%pi*e*AR)/(2*Cdo);\n",
"disp(Cl_Cdmax,'(Cl/Cd)max=','(Cl/Cd)max=sqrt(Cdo*%pi*e*AR)/(2*Cdo)')\n",
"Cl_Cd1max=((1/3)*Cdo*%pi*e*AR)^(1/4)/(4*Cdo/3);\n",
"disp(Cl_Cd1max,'(Cl^0.5/Cd)max=','(Cl^0.5/Cd)max=((1/3)*Cdo*%pi*e*AR)^(1/4)/(4*Cdo/3)')"
   ]
   }
,
{
		   "cell_type": "markdown",
		   "metadata": {},
		   "source": [
			"## Example 6.16_b: Example_16_b.sce"
		   ]
		  },
  {
"cell_type": "code",
	   "execution_count": null,
	   "metadata": {
	    "collapsed": true
	   },
	   "outputs": [],
"source": [
"pathname=get_absolute_file_path('6_16b.sce')\n",
"filename=pathname+filesep()+'6_16b_data.sci'\n",
"exec(filename)\n",
"R_Cmax=(Pf*P*746/W)-0.8776*sqrt(W/(D*S*Cdo))*(1/(L_Dmax)^1.5)//(R/C)max\n",
"printf('\Answer:\n')\n",
"printf('\n\Maximum Rate of climd for CP-1: %f m/s\n\n',R_Cmax)"
   ]
   }
,
{
		   "cell_type": "markdown",
		   "metadata": {},
		   "source": [
			"## Example 6.16_c: Example_16_c.sce"
		   ]
		  },
  {
"cell_type": "code",
	   "execution_count": null,
	   "metadata": {
	    "collapsed": true
	   },
	   "outputs": [],
"source": [
"pathname=get_absolute_file_path('6_16c.sce')\n",
"filename=pathname+filesep()+'6_16c_data.sci'\n",
"exec(filename)\n",
"A=2*Tf/W;B=W/S;C=1/L_Dmax^2;E=sqrt(A^2-C)\n",
"Vmax=sqrt((A*B+B*E)/(D*Cdo))\n",
"printf('\Answer:\n')\n",
"printf('\n\Maximum Velocity for CJ-1: %f m/s\n\n',Vmax)"
   ]
   }
,
{
		   "cell_type": "markdown",
		   "metadata": {},
		   "source": [
			"## Example 6.16_d: Example_16_d.sce"
		   ]
		  },
  {
"cell_type": "code",
	   "execution_count": null,
	   "metadata": {
	    "collapsed": true
	   },
	   "outputs": [],
"source": [
"pathname=get_absolute_file_path('6_16d.sce')\n",
"filename=pathname+filesep()+'6_16d_data.sci'\n",
"exec(filename)\n",
"Z=1+sqrt(1+(3/((L_Dmax)^2*(2*Tf/W)^2)))\n",
"R_Cmax=sqrt(W*Z/(3*D*Cdo*S))*(2*Tf/W)^1.5*[1-(Z/6)-(1.5/(Z*(2*Tf/W)^2*(L_Dmax)^2))]\n",
"printf('\Answer:\n')\n",
"printf('\n\Maximum Rate of Climb for CJ-1: %f m/s\n\n',R_Cmax)"
   ]
   }
,
{
		   "cell_type": "markdown",
		   "metadata": {},
		   "source": [
			"## Example 6.17: Example_17.sce"
		   ]
		  },
  {
"cell_type": "code",
	   "execution_count": null,
	   "metadata": {
	    "collapsed": true
	   },
	   "outputs": [],
"source": [
"pathname=get_absolute_file_path('6_17.sce')\n",
"filename=pathname+filesep()+'6_17data.sci'\n",
"exec(filename)\n",
"Sl=1.44*W^2/(g*D*S*Cl*[T-(Dr+Ur*(W-L))]);;disp(Sl,'Sl=','Sl=1.44*W^2/(g*D*S*Cl*[T-(Dr+Ur*(W-L))])','Liftoff distance Sl:')\n",
"printf('\Answer:\n')\n",
"printf('\n\Liftoff distance for the CJ-1 at se level: %f m\n\n',Sl)\n",
""
   ]
   }
,
{
		   "cell_type": "markdown",
		   "metadata": {},
		   "source": [
			"## Example 6.18: Example_18.sce"
		   ]
		  },
  {
"cell_type": "code",
	   "execution_count": null,
	   "metadata": {
	    "collapsed": true
	   },
	   "outputs": [],
"source": [
"pathname=get_absolute_file_path('6_18.sce')\n",
"filename=pathname+filesep()+'6_18data.sci'\n",
"exec(filename)\n",
"Sl=(Vt^2*W)/(2*g*(Dr+Ur*W));disp(Sl,'Sl=','Sl=(Vt^2*W)/(2*g*(Dr+Ur*W))','landing ground roll distance Sl:')\n",
"printf('\Answer:\n')\n",
"printf('\n\Landing ground roll distance at sea level: %f m\n\n',Sl)\n",
""
   ]
   }
,
{
		   "cell_type": "markdown",
		   "metadata": {},
		   "source": [
			"## Example 6.19_a: Example_19_a.sce"
		   ]
		  },
  {
"cell_type": "code",
	   "execution_count": null,
	   "metadata": {
	    "collapsed": true
	   },
	   "outputs": [],
"source": [
"pathname=get_absolute_file_path('6_19a.sce')\n",
"filename=pathname+filesep()+'6_19data.sci'\n",
"exec(filename)\n",
"A=D*S*Cdo/2;\n",
"B=2*Wo^2/(D*S*%pi*e*AR);\n",
"V=poly(0,'V');\n",
"p=Pa*V-A*V^4-B\n",
"disp(roots(p),'Roots of Polynomial p:',p,'p=','Polynomial p:')\n",
"disp('As we can see the maximum positive root is 81.01 (approx), which is the maximum velocity at sea level of the UAV.')"
   ]
   }
,
{
		   "cell_type": "markdown",
		   "metadata": {},
		   "source": [
			"## Example 6.19_b: Example_19_b.sce"
		   ]
		  },
  {
"cell_type": "code",
	   "execution_count": null,
	   "metadata": {
	    "collapsed": true
	   },
	   "outputs": [],
"source": [
"pathname=get_absolute_file_path('6_19b.sce')\n",
"filename=pathname+filesep()+'6_19data.sci'\n",
"exec(filename)\n",
"disp('(R/C)max=(P/W)max-0.8776*sqrt(W/(S*D*Cdo))*(Cd/Cl)^1.5')\n",
"A=Pa/Wo;\n",
"Cd_Cl=2*Cdo/sqrt(Cdo*%pi*e*AR);//ratio , Cd/Cl\n",
"B=0.8776*sqrt(Wo/(S*D*Cdo))*(Cd_Cl)^1.5;\n",
"R_Cmax=A-B;//maximum rate of climb\n",
"printf('\Answer:\n')\n",
"printf('\n\maximum rate of climb at sea level: %f m/s\n\n',R_Cmax)"
   ]
   }
,
{
		   "cell_type": "markdown",
		   "metadata": {},
		   "source": [
			"## Example 6.19_c: Example_19_c.sce"
		   ]
		  },
  {
"cell_type": "code",
	   "execution_count": null,
	   "metadata": {
	    "collapsed": true
	   },
	   "outputs": [],
"source": [
"pathname=get_absolute_file_path('6_19c.sce')\n",
"filename=pathname+filesep()+'6_19data.sci'\n",
"exec(filename)\n",
"Cl_Cd=sqrt(Cdo*%pi*e*AR)/(2*Cdo);//ratio(Cl/Cd)\n",
"disp(Cl_Cd)\n",
"R=(n/c)*Cl_Cd*log(Wo/(W-W1))*0.62137*10^-3 ;//range in miles\n",
"printf('\Answer:\n')\n",
"printf('\n\maximum range: %f miles\n\n',R)"
   ]
   }
,
{
		   "cell_type": "markdown",
		   "metadata": {},
		   "source": [
			"## Example 6.19_d: Example_19_d.sce"
		   ]
		  },
  {
"cell_type": "code",
	   "execution_count": null,
	   "metadata": {
	    "collapsed": true
	   },
	   "outputs": [],
"source": [
"pathname=get_absolute_file_path('6_19d.sce')\n",
"filename=pathname+filesep()+'6_19data.sci'\n",
"exec(filename)\n",
"E=(n/(4*c*Cdo))*(3*Cdo*%pi*e*AR)^(3/4)*sqrt(2*D*S)*[1/sqrt(W-W1)-1/sqrt(Wo)]\n",
"printf('\Answer:\n')\n",
"printf('\n\Maximum Endurance at sea level: %f s\n\n',E)"
   ]
   }
,
{
		   "cell_type": "markdown",
		   "metadata": {},
		   "source": [
			"## Example 6.1_a: Example_1_a.sce"
		   ]
		  },
  {
"cell_type": "code",
	   "execution_count": null,
	   "metadata": {
	    "collapsed": true
	   },
	   "outputs": [],
"source": [
"pathname=get_absolute_file_path('6_1a.sce')\n",
"filename=pathname+filesep()+'6_1a_data.sci'\n",
"exec(filename)\n",
"clf();\n",
"i = 1;\n",
"Cl = 0;Cd = 0;Cl_Cd =0;Thrust = 0;\n",
"while(i<=length(V)) \n",
"    Cl(i) = 2*W/(D*S*V(i)^2);\n",
"    Cd(i) = Cdo + Cl(i)^2/(%pi*e*AR);\n",
"    Cl_Cd(i) = Cl(i)/Cd(i);\n",
"    Thrust(i) = W/Cl_Cd(i)/1000;\n",
"   i = i+1; \n",
"end \n",
"xlabel('Velocity (m/s)');\n",
"ylabel('Thrust (kN)');\n",
"plot2d(V,Thrust,3);"
   ]
   }
,
{
		   "cell_type": "markdown",
		   "metadata": {},
		   "source": [
			"## Example 6.1_b: Example_1_b.sce"
		   ]
		  },
  {
"cell_type": "code",
	   "execution_count": null,
	   "metadata": {
	    "collapsed": true
	   },
	   "outputs": [],
"source": [
"pathname=get_absolute_file_path('6_1b.sce')\n",
"filename=pathname+filesep()+'6_1b_data.sci'\n",
"exec(filename)\n",
"clf();\n",
"i = 1;\n",
"Cl = 0;Cd = 0;Cl_Cd =0;Thrust = 0;\n",
"while(i<=length(V)) \n",
"    Cl(i) = 2*W/(D*S*V(i)^2);\n",
"    Cd(i) = Cdo + Cl(i)^2/(%pi*e*AR);\n",
"    Cl_Cd(i) = Cl(i)/Cd(i);\n",
"    Thrust(i) = W/Cl_Cd(i)/1000;\n",
"   i = i+1; \n",
"end \n",
"xlabel('Velocity (m/s)');\n",
"ylabel('Thrust (kN)');\n",
"plot2d(V,Thrust,3);\n",
"\n",
""
   ]
   }
,
{
		   "cell_type": "markdown",
		   "metadata": {},
		   "source": [
			"## Example 6.20: Example_20.sce"
		   ]
		  },
  {
"cell_type": "code",
	   "execution_count": null,
	   "metadata": {
	    "collapsed": true
	   },
	   "outputs": [],
"source": [
"pathname=get_absolute_file_path('6.20.sce')\n",
"filename=pathname+filesep()+'6.20data.sci'\n",
"exec(filename)\n",
"R1_R2=sqrt((n2^2-1)/(n1^2-1));//ratio(R1/R2)\n",
"disp(R1_R2,'ratio of turn radius :R1/R2=sqrt((n2^2-1)/(n1^2-1))')\n",
"w1_w2=sqrt((n1^2-1)/(n2^2-1));//ratio(w1/w2)\n",
"disp(w1_w2,'ratio of turn rate :w1/w2=sqrt((n1^2-1)/(n2^2-1))')\n",
"printf('\Answer:\n')\n",
"printf('\n\Ratio of turn radius: %f \n\n',R1_R2)\n",
"printf('\n\Ratio of turn rate: %f m/s\n\n',w1_w2)\n",
""
   ]
   }
,
{
		   "cell_type": "markdown",
		   "metadata": {},
		   "source": [
			"## Example 6.2: Example_2.sce"
		   ]
		  },
  {
"cell_type": "code",
	   "execution_count": null,
	   "metadata": {
	    "collapsed": true
	   },
	   "outputs": [],
"source": [
"pathname=get_absolute_file_path('602.sce')\n",
"filename=pathname+filesep()+'602data.sci'\n",
"exec(filename)\n",
"clf();\n",
"i = 1;\n",
"Cl = 0;Cd = 0;Cl_Cd =0;Thrust = 0;\n",
"while(i<=length(V)) \n",
"    Cl(i) = 2*W/(D*S*V(i)^2);\n",
"    Cd(i) = Cdo + Cl(i)^2/(%pi*e*AR);\n",
"    Cl_Cd(i) = Cl(i)/Cd(i);\n",
"    Thrust(i) = W/Cl_Cd(i)/1000;\n",
"    Tf(i)=2*16245/1000;\n",
"   i = i+1; \n",
"end \n",
"xlabel('Velocity (m/s)');\n",
"ylabel('Thrust (kN)');\n",
"plot2d(V,Thrust,3);\n",
"plot2d(V,Tf,4);\n",
"disp('As Thrust required equals Thrust provided by two turbofan at Velocity 297 m/s approx(intersection point of both graphs.)so it will be Vmax')\n",
"Vmax=297;\n",
"printf('\Answer:\n')\n",
"printf('\n\maximum velocity: %f m/s\n\n',Vmax)\n",
""
   ]
   }
,
{
		   "cell_type": "markdown",
		   "metadata": {},
		   "source": [
			"## Example 6.3_a: Example_3_a.sce"
		   ]
		  },
  {
"cell_type": "code",
	   "execution_count": null,
	   "metadata": {
	    "collapsed": true
	   },
	   "outputs": [],
"source": [
"pathname=get_absolute_file_path('6_3a.sce')\n",
"filename=pathname+filesep()+'6_3a_data.sci'\n",
"exec(filename)\n",
"clf();\n",
"i = 1;\n",
"Cl = 0;Cd = 0;Cl_Cd =0;Thrust = 0;\n",
"while(i<=length(V)) \n",
"    Cl(i) = 2*W/(D*S*V(i)^2);\n",
"    Cd(i) = Cdo + Cl(i)^2/(%pi*e*AR);\n",
"    Cl_Cd(i) = Cl(i)/Cd(i);\n",
"    Thrust(i) = W/Cl_Cd(i)/1000;\n",
"    Power(i)=Thrust(i)*V(i);\n",
"   i = i+1; \n",
"end \n",
"xlabel('Velocity (m/s)');\n",
"ylabel('Power (KN-m/s)');\n",
"plot2d(V,Power,5);\n",
""
   ]
   }
,
{
		   "cell_type": "markdown",
		   "metadata": {},
		   "source": [
			"## Example 6.3_b: Example_3_b.sce"
		   ]
		  },
  {
"cell_type": "code",
	   "execution_count": null,
	   "metadata": {
	    "collapsed": true
	   },
	   "outputs": [],
"source": [
"pathname=get_absolute_file_path('6_3b.sce')\n",
"filename=pathname+filesep()+'6_3b_data.sci'\n",
"exec(filename)\n",
"clf();\n",
"i = 1;\n",
"Cl = 0;Cd = 0;Cl_Cd =0;Thrust = 0;\n",
"while(i<=length(V)) \n",
"    Cl(i) = 2*W/(D*S*V(i)^2);\n",
"    Cd(i) = Cdo + Cl(i)^2/(%pi*e*AR);\n",
"    Cl_Cd(i) = Cl(i)/Cd(i);\n",
"    Thrust(i) = W/Cl_Cd(i)/1000;\n",
"    Power(i)=Thrust(i)*V(i)\n",
"   i = i+1; \n",
"end \n",
"xlabel('Velocity (m/s)');\n",
"ylabel('Power (KN-m/s)');\n",
"plot2d(V,Power,5);"
   ]
   }
,
{
		   "cell_type": "markdown",
		   "metadata": {},
		   "source": [
			"## Example 6.4_a: Example_4_a.sce"
		   ]
		  },
  {
"cell_type": "code",
	   "execution_count": null,
	   "metadata": {
	    "collapsed": true
	   },
	   "outputs": [],
"source": [
"pathname=get_absolute_file_path('6_4a.sce')\n",
"filename=pathname+filesep()+'6_4a_data.sci'\n",
"exec(filename)\n",
"clf();\n",
"V=linspace(20,300,500);\n",
"i = 1;\n",
"Cl = 0;Cd = 0;Cl_Cd =0;Thrust = 0;\n",
"while(i<=length(V)) \n",
"    Cl(i) = 2*W/(D*S*V(i)^2);\n",
"    Cd(i) = Cdo + Cl(i)^2/(%pi*e*AR);\n",
"    Cl_Cd(i) = Cl(i)/Cd(i);\n",
"    Thrust(i) = W/Cl_Cd(i)/1000;\n",
"    Power(i)=Thrust(i)*V(i);\n",
"    Pa(i)=P*Pf*746/1000;\n",
"   i = i+1; \n",
"end \n",
"xlabel('Velocity (m/s)');\n",
"ylabel('Power (KN-m/s)');\n",
"plot2d(V,Power,4);\n",
"plot2d(V,Pa,5);\n",
"disp('the intersection of both graph shows maximum velocity of CP-1 at sea level which is arround 81m/s.')\n",
""
   ]
   }
,
{
		   "cell_type": "markdown",
		   "metadata": {},
		   "source": [
			"## Example 6.4_b: Example_4_b.sce"
		   ]
		  },
  {
"cell_type": "code",
	   "execution_count": null,
	   "metadata": {
	    "collapsed": true
	   },
	   "outputs": [],
"source": [
"pathname=get_absolute_file_path('6_4b.sce')\n",
"filename=pathname+filesep()+'6_4b_data.sci'\n",
"exec(filename)\n",
"clf();\n",
"V=linspace(40,300,500);\n",
"i = 1;\n",
"Cl = 0;Cd = 0;Cl_Cd =0;Thrust = 0;\n",
"while(i<=length(V)) \n",
"    Cl(i) = 2*W/(D*S*V(i)^2);\n",
"    Cd(i) = Cdo + Cl(i)^2/(%pi*e*AR);\n",
"    Cl_Cd(i) = Cl(i)/Cd(i);\n",
"    Thrust(i) = W/Cl_Cd(i)/1000;//unit KN\n",
"    Power(i)=Thrust(i)*V(i)//unit KN-m/s\n",
"    Pa(i)=D*Tf*V(i)/(Do*1000);//power(KN-m/s) at height 6706.5 m corresponding to velocity\n",
"   i = i+1; \n",
"end \n",
"xlabel('Velocity (m/s)');\n",
"ylabel('Power (KN-m/s)');\n",
"plot2d(V,Power,4);\n",
"plot2d(V,Pa,5);\n",
"disp('As we can see the higher intersection point of both curve is arround 294m/s(approx),which is the maximum velocity for CJ-1 at 6705.6 meter.')"
   ]
   }
,
{
		   "cell_type": "markdown",
		   "metadata": {},
		   "source": [
			"## Example 6.5: Example_5.sce"
		   ]
		  },
  {
"cell_type": "code",
	   "execution_count": null,
	   "metadata": {
	    "collapsed": true
	   },
	   "outputs": [],
"source": [
"pathname=get_absolute_file_path('6_05.sce')\n",
"filename=pathname+filesep()+'6_05data.sci'\n",
"exec(filename)\n",
"clf();\n",
"V=linspace(40,300,500);\n",
"i = 1;\n",
"Cl = 0;Cd = 0;Cl_Cd =0;Thrust = 0;Vo=0;\n",
"while(i<=length(V)) \n",
"    Cl(i) = 2*W/(D*S*V(i)^2);\n",
"    Cd(i) = Cdo + Cl(i)^2/(%pi*e*AR);\n",
"    Cl_Cd(i) = Cl(i)/Cd(i);\n",
"    Vo(i)=V(i)*(D/Do)^0.5;//corresponding velocity points at sea level\n",
"    Thrust(i) = W/Cl_Cd(i)/1000;//unit KN\n",
"    Power(i)=Thrust(i)*Vo(i)//unit KN-m/s\n",
"    Pa(i)=D*Tf*Vo(i)/(Do*1000);//power(KN-m/s) at height 6706.5 m corresponding to velocity\n",
"      i = i+1; \n",
"end \n",
"xlabel('Velocity (m/s)');\n",
"ylabel('Power (KN-m/s)');\n",
"plot2d(Vo,Power,4);\n",
"plot2d(Vo,Pa,5)\n",
"printf('\nmaximum velocity for CJ-1 approx 210m/s(as seen from graph)')"
   ]
   }
,
{
		   "cell_type": "markdown",
		   "metadata": {},
		   "source": [
			"## Example 6.6: Example_6.sce"
		   ]
		  },
  {
"cell_type": "code",
	   "execution_count": null,
	   "metadata": {
	    "collapsed": true
	   },
	   "outputs": [],
"source": [
"pathname=get_absolute_file_path('6_06.sce')\n",
"filename=pathname+filesep()+'6_06data.sci'\n",
"exec(filename)\n",
"clf();\n",
"\n",
"i = 1;\n",
"Cl = 0;Cd = 0;Cl_Cd =0;Thrust = 0;\n",
"while(i<=length(V)) \n",
"    Cl(i) = 2*W/(D*S*V(i)^2);\n",
"    Cd(i) = Cdo + Cl(i)^2/(%pi*e*AR);\n",
"    Cl_Cd(i) = Cl(i)/Cd(i);\n",
"    Thrust(i) = W/Cl_Cd(i)/1000;\n",
"    Power(i)=Thrust(i)*V(i);\n",
"    R_C(i)=(Pa-Power(i))*1000*60/W;//rate of climb(R/C in meter per minute)\n",
"   i = i+1; \n",
"end \n",
"xlabel('Velocity (m/s)');\n",
"ylabel('Rate of climb(m/min) for CP-1');\n",
"plot2d(V,R_C,4);\n",
""
   ]
   }
,
{
		   "cell_type": "markdown",
		   "metadata": {},
		   "source": [
			"## Example 6.7: Example_7.sce"
		   ]
		  },
  {
"cell_type": "code",
	   "execution_count": null,
	   "metadata": {
	    "collapsed": true
	   },
	   "outputs": [],
"source": [
"pathname=get_absolute_file_path('6_07.sce')\n",
"filename=pathname+filesep()+'6_07data.sci'\n",
"exec(filename)\n",
"a=atand(1/L_D);disp(a,'a=','tan(a)=1/(L/D)','minimum glide angle a:')\n",
"R=H*L_D;disp(R,'R=','R=H*L/D','maximum range along ground :')\n",
"printf('\Answer:\n')\n",
"printf('\minimum glide angle: %f \n',a)\n",
"printf('\n\maximum range covered along ground: %f m\n\n',R)"
   ]
   }
,
{
		   "cell_type": "markdown",
		   "metadata": {},
		   "source": [
			"## Example 6.8: Example_8.sce"
		   ]
		  },
  {
"cell_type": "code",
	   "execution_count": null,
	   "metadata": {
	    "collapsed": true
	   },
	   "outputs": [],
"source": [
"pathname=get_absolute_file_path('6_08.sce')\n",
"filename=pathname+filesep()+'6_08data.sci'\n",
"exec(filename)\n",
"a=atand(1/L_D);disp(a,'a=','tan(a)=1/(L/D)','minimum glide angle a:')\n",
"R=H*L_D;disp(R,'R=','R=H*L/D','maximum range along ground :')\n",
"printf('\Answer:\n')\n",
"printf('\minimum glide angle: %f degree\n',a)\n",
"printf('\n\maximum range covered along ground: %f m\n\n',R)"
   ]
   }
,
{
		   "cell_type": "markdown",
		   "metadata": {},
		   "source": [
			"## Example 6.9: Example_9.sce"
		   ]
		  },
  {
"cell_type": "code",
	   "execution_count": null,
	   "metadata": {
	    "collapsed": true
	   },
	   "outputs": [],
"source": [
"pathname=get_absolute_file_path('6_09.sce')\n",
"filename=pathname+filesep()+'6_09data.sci'\n",
"exec(filename)\n",
"V1=sqrt(2*Wl*cos(a)/(D1*Cl));disp(V1,'V1=','V1=sqrt(2*Wl*cos(a)/(D1*Cl))','For altitude 3048 meter:')\n",
"V2=sqrt(2*Wl*cos(a)/(D2*Cl));disp(V2,'V2=','V2=sqrt(2*Wl*cos(a)/(D2*Cl))','For altitude 609.6 meter:')\n",
"printf('\Answer:\n')\n",
"printf('\Velocity at equilibrium glide angle at 3048 m: %f m/s\n',V1)\n",
"printf('\n\Velocity at equilibrium glide angle at 609.6 m: %f m/s\n\n',V2)"
   ]
   }
],
"metadata": {
		  "kernelspec": {
		   "display_name": "Scilab",
		   "language": "scilab",
		   "name": "scilab"
		  },
		  "language_info": {
		   "file_extension": ".sce",
		   "help_links": [
			{
			 "text": "MetaKernel Magics",
			 "url": "https://github.com/calysto/metakernel/blob/master/metakernel/magics/README.md"
			}
		   ],
		   "mimetype": "text/x-octave",
		   "name": "scilab",
		   "version": "0.7.1"
		  }
		 },
		 "nbformat": 4,
		 "nbformat_minor": 0
}
