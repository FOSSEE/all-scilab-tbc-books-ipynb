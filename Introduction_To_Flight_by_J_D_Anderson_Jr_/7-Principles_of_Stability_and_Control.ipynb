{
"cells": [
 {
		   "cell_type": "markdown",
	   "metadata": {},
	   "source": [
       "# Chapter 7: Principles of Stability and Control"
	   ]
	},
{
		   "cell_type": "markdown",
		   "metadata": {},
		   "source": [
			"## Example 7.1: Example_1.sce"
		   ]
		  },
  {
"cell_type": "code",
	   "execution_count": null,
	   "metadata": {
	    "collapsed": true
	   },
	   "outputs": [],
"source": [
"funcprot(0);\n",
"function[y] = f(x,y)\n",
"    z = poly(0,'z');\n",
"    y = x^2+y^2+ z^2;\n",
"endfunction\n",
"ans= derivat(f(1,1)); // finding derivative with respect to z at some point x,y;\n",
"disp(ans,'derivative of x^2+y^2+ z^2 with respect to z:');"
   ]
   }
,
{
		   "cell_type": "markdown",
		   "metadata": {},
		   "source": [
			"## Example 7.2: Example_2.sce"
		   ]
		  },
  {
"cell_type": "code",
	   "execution_count": null,
	   "metadata": {
	    "collapsed": true
	   },
	   "outputs": [],
"source": [
"pathname=get_absolute_file_path('7_02.sce')\n",
"filename=pathname+filesep()+'7_02data.sci'\n",
"exec(filename)\n",
"Cmcg=Cmac+Clwb*(dh);disp(Cmcg,'Cmcg','Cmcg=Cmac+Clwb(dh)','moment coefficient about center of gravity Cmcg')\n",
"printf('\Answer:\n')\n",
"printf('\n\moment coefficient about center of gravity : %f \n\n',Cmcg)"
   ]
   }
,
{
		   "cell_type": "markdown",
		   "metadata": {},
		   "source": [
			"## Example 7.3: Example_3.sce"
		   ]
		  },
  {
"cell_type": "code",
	   "execution_count": null,
	   "metadata": {
	    "collapsed": true
	   },
	   "outputs": [],
"source": [
"pathname=get_absolute_file_path('7_03.sce')\n",
"filename=pathname+filesep()+'7_03data.sci'\n",
"exec(filename)\n",
"A=[1,Awb*ab2;1,Awb*ab3];\n",
"B=[1,1];//coefficient of moment coefficient about aerodynamic center\n",
"C=[Awb*ab2,Awb*ab3];//coefficient of h-hac\n",
"D=[-0.01,0.05];\n",
"dh=det([B;D])/det(A);//difference between location of aerodynamic center and center of gravity\n",
"hac=h-dh;\n",
"Cmac=det([D;C])/det(A)//moment coefficient about aerodynamic center\n",
"printf('\Answer:\n')\n",
"printf('\n\Location of aerodynamic center: %f\n\n',hac)\n",
"printf('\n\moment coefficient about aerodynamic center of wing-body : %f\n\n',Cmac)"
   ]
   }
,
{
		   "cell_type": "markdown",
		   "metadata": {},
		   "source": [
			"## Example 7.4: Example_4.sce"
		   ]
		  },
  {
"cell_type": "code",
	   "execution_count": null,
	   "metadata": {
	    "collapsed": true
	   },
	   "outputs": [],
"source": [
"pathname=get_absolute_file_path('7_04.sce')\n",
"filename=pathname+filesep()+'7_04data.sci'\n",
"exec(filename)\n",
"Cmcg=Cmac+a*a1*(dh-Vh*at*(1-de)/a)+Vh*at*(It+eo)\n",
"disp(Cmcg,'Cmcg=','Cmcg=Cmac+a*a1*(dh-Vh*at(1-de)/a)+Vh*at*(It+eo)','moment coefficient about COG Cmcg:')\n",
"printf('\Answer:\n')\n",
"printf('\n\moment coefficient about center of gravity : %f \n\n',Cmcg)"
   ]
   }
,
{
		   "cell_type": "markdown",
		   "metadata": {},
		   "source": [
			"## Example 7.5: Example_5.sce"
		   ]
		  },
  {
"cell_type": "code",
	   "execution_count": null,
	   "metadata": {
	    "collapsed": true
	   },
	   "outputs": [],
"source": [
"pathname=get_absolute_file_path('7_05.sce')\n",
"filename=pathname+filesep()+'7_05data.sci'\n",
"exec(filename)\n",
"disp('->as slope (DCmg) of moment coefficient curve is negative the airplane model is statically stable.')\n",
"disp('->as equilibrium angle of attack (Ae) falls in a reasonable range, the plane is longitudinally stable.')"
   ]
   }
,
{
		   "cell_type": "markdown",
		   "metadata": {},
		   "source": [
			"## Example 7.6: Example_6.sce"
		   ]
		  },
  {
"cell_type": "code",
	   "execution_count": null,
	   "metadata": {
	    "collapsed": true
	   },
	   "outputs": [],
"source": [
"pathname=get_absolute_file_path('7_06.sce')\n",
"filename=pathname+filesep()+'7_06data.sci'\n",
"exec(filename)\n",
"Hn=Hac+Vh*at*(1-de)/a;\n",
"disp(Hn,'Hn=','Hn=Hac+Vh*at*(1-de)/a','neutral point location Hn:')\n",
"printf('\Answer:\n')\n",
"printf('\n\Neutral point location : %f \n\n',Hn)"
   ]
   }
,
{
		   "cell_type": "markdown",
		   "metadata": {},
		   "source": [
			"## Example 7.7: Example_7.sce"
		   ]
		  },
  {
"cell_type": "code",
	   "execution_count": null,
	   "metadata": {
	    "collapsed": true
	   },
	   "outputs": [],
"source": [
"pathname=get_absolute_file_path('7_07.sce')\n",
"filename=pathname+filesep()+'7_07data.sci'\n",
"exec(filename)\n",
"Sm=Hn-h;disp(Sm,'Sm=','Sm=Hn-h','static margin Sm:')\n",
"printf('\Answer:\n')\n",
"printf('\n\Static Margin : %f \n\n',Sm)"
   ]
   }
,
{
		   "cell_type": "markdown",
		   "metadata": {},
		   "source": [
			"## Example 7.8: Example_8.sce"
		   ]
		  },
  {
"cell_type": "code",
	   "execution_count": null,
	   "metadata": {
	    "collapsed": true
	   },
	   "outputs": [],
"source": [
"pathname=get_absolute_file_path('7_08.sce')\n",
"filename=pathname+filesep()+'7_08data.sci'\n",
"exec(filename)\n",
"Dtrm=(Cmo+DCmcg*a1)/(Vh*DClt);\n",
"disp(Dtrm,'Dtrm=','Dtrm=(Cmo+DCmg*a1)/(Vh*DClt)','elevator deflection angle Dtrm::')\n",
"printf('\Answer:\n')\n",
"printf('\n\To trim the airplane at an angle of attack of 6.5 degree the elevator must be deflected upward(negative) by : %f degree\n\n',Dtrm)"
   ]
   }
,
{
		   "cell_type": "markdown",
		   "metadata": {},
		   "source": [
			"## Example 7.9: Example_9.sce"
		   ]
		  },
  {
"cell_type": "code",
	   "execution_count": null,
	   "metadata": {
	    "collapsed": true
	   },
	   "outputs": [],
"source": [
"pathname=get_absolute_file_path('7_09.sce')\n",
"filename=pathname+filesep()+'7_09data.sci'\n",
"exec(filename)\n",
"disp('for stick fixed condition neutral point is at 0.516(from example 7.6) but for stick free condition it is approx 0.448,hence moving forward and decreasing the stability')"
   ]
   }
],
"metadata": {
		  "kernelspec": {
		   "display_name": "Scilab",
		   "language": "scilab",
		   "name": "scilab"
		  },
		  "language_info": {
		   "file_extension": ".sce",
		   "help_links": [
			{
			 "text": "MetaKernel Magics",
			 "url": "https://github.com/calysto/metakernel/blob/master/metakernel/magics/README.md"
			}
		   ],
		   "mimetype": "text/x-octave",
		   "name": "scilab",
		   "version": "0.7.1"
		  }
		 },
		 "nbformat": 4,
		 "nbformat_minor": 0
}
