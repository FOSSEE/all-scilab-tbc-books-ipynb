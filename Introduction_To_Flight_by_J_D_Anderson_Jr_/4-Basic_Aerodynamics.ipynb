{
"cells": [
 {
		   "cell_type": "markdown",
	   "metadata": {},
	   "source": [
       "# Chapter 4: Basic Aerodynamics"
	   ]
	},
{
		   "cell_type": "markdown",
		   "metadata": {},
		   "source": [
			"## Example 4.01: Example_1.sce"
		   ]
		  },
  {
"cell_type": "code",
	   "execution_count": null,
	   "metadata": {
	    "collapsed": true
	   },
	   "outputs": [],
"source": [
"pathname=get_absolute_file_path('4_01.sce')\n",
"filename=pathname+filesep()+'4_01data.sci'\n",
"exec(filename)\n",
"printf('\Answer:\n')\n",
"printf('\n\area of the duct exit: %f m^2\n\n',A2)\n",
""
   ]
   }
,
{
		   "cell_type": "markdown",
		   "metadata": {},
		   "source": [
			"## Example 4.02: Example_1.sce"
		   ]
		  },
  {
"cell_type": "code",
	   "execution_count": null,
	   "metadata": {
	    "collapsed": true
	   },
	   "outputs": [],
"source": [
"pathname=get_absolute_file_path('4_02.sce')\n",
"filename=pathname+filesep()+'4_02data.sci'\n",
"exec(filename)\n",
"printf('\Answer:\n')\n",
"printf('\n\density of air at the duct exit: %f Kg/m^3\n\n',D2)\n",
""
   ]
   }
,
{
		   "cell_type": "markdown",
		   "metadata": {},
		   "source": [
			"## Example 4.03: Example_3.sce"
		   ]
		  },
  {
"cell_type": "code",
	   "execution_count": null,
	   "metadata": {
	    "collapsed": true
	   },
	   "outputs": [],
"source": [
"pathname=get_absolute_file_path('4_03.sce')\n",
"filename=pathname+filesep()+'4_03data.sci'\n",
"exec(filename)\n",
"disp('P1+(D*V1^2/2)=Pa+(D*Va^2/2)','Bernoulli equation');\n",
"Va=[(2*(P1-Pa)/D)+(V1)^2]^0.5;disp(Va,'Va=')\n",
"printf('\Answer:\n')\n",
"printf('\n\velocity at a point A on airfoil: %f m/s\n\n',Va)\n",
""
   ]
   }
,
{
		   "cell_type": "markdown",
		   "metadata": {},
		   "source": [
			"## Example 4.04: Example_4.sce"
		   ]
		  },
  {
"cell_type": "code",
	   "execution_count": null,
	   "metadata": {
	    "collapsed": true
	   },
	   "outputs": [],
"source": [
"pathname=get_absolute_file_path('4_04.sce')\n",
"filename=pathname+filesep()+'4_04data.sci'\n",
"exec(filename)\n",
"printf('\Answer:\n')\n",
"printf('\n\pressure at the duct exit: %f N/m^2\n\n',P2)\n",
""
   ]
   }
,
{
		   "cell_type": "markdown",
		   "metadata": {},
		   "source": [
			"## Example 4.05: Example_5.sce"
		   ]
		  },
  {
"cell_type": "code",
	   "execution_count": null,
	   "metadata": {
	    "collapsed": true
	   },
	   "outputs": [],
"source": [
"pathname=get_absolute_file_path('4_05.sce')\n",
"filename=pathname+filesep()+'4_05data.sci'\n",
"exec(filename)\n",
"D=1.067*D*V^2*R;\n",
"printf('\Answer:\n')\n",
"printf('\n\Aerodynamic force exerted by surface pressure distribution: %f N\n\n',D)"
   ]
   }
,
{
		   "cell_type": "markdown",
		   "metadata": {},
		   "source": [
			"## Example 4.06: Example_6.sce"
		   ]
		  },
  {
"cell_type": "code",
	   "execution_count": null,
	   "metadata": {
	    "collapsed": true
	   },
	   "outputs": [],
"source": [
"pathname=get_absolute_file_path('4_06.sce')\n",
"filename=pathname+filesep()+'4_06data.sci'\n",
"exec(filename)\n",
"printf('\Answer:\n')\n",
"printf('\n\internal energy per unit mass in SI unit: %f J/Kg.K\n\n',e)\n",
"printf('\n\internal energy per unit mass in English enginering unit: %f Ft.Lb/slug\n\n',e1)\n",
"printf('\n\enthalpy per unit mass in SI unit: %f J/Kg.K\n\n',h)\n",
"printf('\n\enthalpy per unit mass in English enginering unit: %f Ft.Lb/slug\n\n',h1)\n",
"\n",
""
   ]
   }
,
{
		   "cell_type": "markdown",
		   "metadata": {},
		   "source": [
			"## Example 4.07: Example_7.sce"
		   ]
		  },
  {
"cell_type": "code",
	   "execution_count": null,
	   "metadata": {
	    "collapsed": true
	   },
	   "outputs": [],
"source": [
"pathname=get_absolute_file_path('4_07.sce')\n",
"filename=pathname+filesep()+'4_07data.sci'\n",
"exec(filename)\n",
"disp('P2/P1=(T2/T1)^y/y-1','For isentropic flow','let P2 be the pressure at that point of wing');\n",
"P2=P1*(T/T1)^(y/(y-1));disp(P2,'P2=')\n",
"printf('\Answer:\n')\n",
"printf('\n\Pressure at this point: %f N/m^2\n\n',P2)"
   ]
   }
,
{
		   "cell_type": "markdown",
		   "metadata": {},
		   "source": [
			"## Example 4.08: Example_8.sce"
		   ]
		  },
  {
"cell_type": "code",
	   "execution_count": null,
	   "metadata": {
	    "collapsed": true
	   },
	   "outputs": [],
"source": [
"pathname=get_absolute_file_path('4_08.sce')\n",
"filename=pathname+filesep()+'4_08data.sci'\n",
"exec(filename)\n",
"disp('T2=T1*(P2/P1)^((y-1)/y)','from isentropic condition:')\n",
"T2=T1*(P2/P1)^((y-1)/y)//temperature at exit\n",
"printf('\Answer:\n')\n",
"printf('\n\Gas temperature at the exit: %f K\n\n',T2)"
   ]
   }
,
{
		   "cell_type": "markdown",
		   "metadata": {},
		   "source": [
			"## Example 4.09: Example_9.sce"
		   ]
		  },
  {
"cell_type": "code",
	   "execution_count": null,
	   "metadata": {
	    "collapsed": true
	   },
	   "outputs": [],
"source": [
"pathname=get_absolute_file_path('4_09.sce')\n",
"filename=pathname+filesep()+'4_09data.sci'\n",
"exec(filename)\n",
"disp('So V1^2=2Cp*(To-T1)','CpTo=CpT1+(V1^2)/2','From energy equation:','let V1 be the velocity of throat')\n",
"V1=(2*Cp*(To-T1))^0.5;\n",
"printf('\n\Velocity at throat: %f m/s\n\n',V1)\n",
"disp('So Ve^2=2Cp*(To-Te)','CpTo=CpTe+(Ve^2)/2','From energy equation:','let Ve be the velocity of exit')\n",
"Ve=(2*Cp*(To-Te))^0.5;\n",
"printf('\n\Velocity at the exit: %f m/s\n\n',Ve)\n",
"disp('A1=Mt/(D1*V1)','Area of throat')\n",
"A1=Mt/(D1*V1);\n",
"printf('\n\Area of throat: %f m^2\n\n',A1)\n",
"disp('Ae=Mt/(De*Ve)','Area of the exit')\n",
"Ae=Mt/(De*Ve);\n",
"printf('\n\Area of the exit: %f m^2\n\n',Ae)\n",
"\n",
"\n",
""
   ]
   }
,
{
		   "cell_type": "markdown",
		   "metadata": {},
		   "source": [
			"## Example 4.10: Example_10.sce"
		   ]
		  },
  {
"cell_type": "code",
	   "execution_count": null,
	   "metadata": {
	    "collapsed": true
	   },
	   "outputs": [],
"source": [
"pathname=get_absolute_file_path('4_10.sce')\n",
"filename=pathname+filesep()+'4_10data.sci'\n",
"exec(filename)\n",
"disp('So Va^2=2Cp*(T-Ta)+V^2','CpT+(V^2)/2=CpTa+(Va^2)/2','From energy equation:','let Va be the velocity of the point A')\n",
"Va=(2*Cp*(T-Ta)+V^2)^0.5;disp(Va,'Va=')\n",
"printf('\Answer:\n')\n",
"printf('\n\Velocity at point A: %f m/s\n\n',Va)"
   ]
   }
,
{
		   "cell_type": "markdown",
		   "metadata": {},
		   "source": [
			"## Example 4.11: Example_11.sce"
		   ]
		  },
  {
"cell_type": "code",
	   "execution_count": null,
	   "metadata": {
	    "collapsed": true
	   },
	   "outputs": [],
"source": [
"pathname=get_absolute_file_path('4_11.sce')\n",
"filename=pathname+filesep()+'4_11data.sci'\n",
"exec(filename)\n",
"disp('Mach No M=V/a');\n",
"M=V/a;disp(M,'M=')\n",
"printf('\Answer:\n')\n",
"printf('\n\Mach No of the jet transport: %f\n\n',M)"
   ]
   }
,
{
		   "cell_type": "markdown",
		   "metadata": {},
		   "source": [
			"## Example 4.12: Example_12.sce"
		   ]
		  },
  {
"cell_type": "code",
	   "execution_count": null,
	   "metadata": {
	    "collapsed": true
	   },
	   "outputs": [],
"source": [
"pathname=get_absolute_file_path('4_12.sce')\n",
"filename=pathname+filesep()+'4_12data.sci'\n",
"exec(filename)\n",
"disp('Mach No at Throat Mt=V1/a');\n",
"Mt=V1/a;disp(Mt,'Mt=')\n",
"disp('Mach No at Throat Me=Ve/Ae');\n",
"Me=Ve/Ae;disp(Me,'Me=')\n",
"printf('\Answer:\n')\n",
"printf('\n\Mach No at throat: %f\n\n',Mt)\n",
"printf('\n\Mach No at exit: %f\n\n',Me)"
   ]
   }
,
{
		   "cell_type": "markdown",
		   "metadata": {},
		   "source": [
			"## Example 4.13: Example_13.sce"
		   ]
		  },
  {
"cell_type": "code",
	   "execution_count": null,
	   "metadata": {
	    "collapsed": true
	   },
	   "outputs": [],
"source": [
"pathname=get_absolute_file_path('4_13.sce')\n",
"filename=pathname+filesep()+'4_13data.sci'\n",
"exec(filename)\n",
"disp('(2(P1-P2)/(D1(1-(A2/A1)^2)))^0.5=(2*(Dp)/(D1*(1-r^2)))^0.5','Airflow velocity at test section V=');\n",
"V=(2*(Dp)/(D1*(1-r^2)))^0.5;disp(V,'V=');\n",
"printf('\Answer:\n')\n",
"printf('\n\Airflow velocity in the test section: %f m/s\n\n',V)"
   ]
   }
,
{
		   "cell_type": "markdown",
		   "metadata": {},
		   "source": [
			"## Example 4.14: Example_14.sce"
		   ]
		  },
  {
"cell_type": "code",
	   "execution_count": null,
	   "metadata": {
	    "collapsed": true
	   },
	   "outputs": [],
"source": [
"pathname=get_absolute_file_path('4_14.sce')\n",
"filename=pathname+filesep()+'4_14data.sci'\n",
"exec(filename)\n",
"disp('P2+D(V2^2-V1^2)/2','pressure at reservoir P1=')\n",
"P1=P2+D*(V2^2-V1^2)/2;disp(P1,'P1=')\n",
"disp('Mt=D*A1*V1','mass flow rate :')\n",
"Mt=D*A1*V1;disp(Mt,'Mt=')\n",
"printf('\Answer:\n')\n",
"printf('\n\pressure required to have a velocity of 40 m/s at test section: %f N/m^2\n\n',P1)\n",
"printf('\n\mass flow through the wind tunnel: %f Kg/s\n\n',Mt)"
   ]
   }
,
{
		   "cell_type": "markdown",
		   "metadata": {},
		   "source": [
			"## Example 4.15: Example_15.sce"
		   ]
		  },
  {
"cell_type": "code",
	   "execution_count": null,
	   "metadata": {
	    "collapsed": true
	   },
	   "outputs": [],
"source": [
"pathname=get_absolute_file_path('4_15.sce')\n",
"filename=pathname+filesep()+'4_15data.sci'\n",
"exec(filename)\n",
"disp('V2 propertional to (P2-P1)^0.5','velocity in test section is propertional to square root of pressure difference')\n",
"V2=(40)*2^(0.5);disp(V2,'velocity after pressure difference is doubled is squareroot 2 times 40')\n",
"disp('(2(P1-P2)/(D(1-(A2/A1)^2)))^0.5=(2*(Dp)/(D*(1-(1/R)^2)))^0.5','Airflow velocity at test section V3=');\n",
"V3=(2*(Dp)/(D*(1-(1/R)^2)))^0.5;disp(V3,'V3=');\n",
"printf('\Answer:\n')\n",
"printf('\n\Airflow velocity in the test section after doubling pressure difference: %f m/s\n\n',V2)\n",
"printf('\n\Airflow velocity in the test section after doubling contraction ratio: %f m/s\n\n',V3)\n",
""
   ]
   }
,
{
		   "cell_type": "markdown",
		   "metadata": {},
		   "source": [
			"## Example 4.16: Example_16.sce"
		   ]
		  },
  {
"cell_type": "code",
	   "execution_count": null,
	   "metadata": {
	    "collapsed": true
	   },
	   "outputs": [],
"source": [
"pathname=get_absolute_file_path('4_16.sce')\n",
"filename=pathname+filesep()+'4_16data.sci'\n",
"exec(filename)\n",
"disp('Vt=(2(Po-P)/D)^0.5','True velocity of airplane')\n",
"Vt=sqrt(2*(Po-P)/D);disp(Vt,'Vt=');\n",
"disp('Ve=(2(Po-P)/Ds)^0.5','Eqivalent airspeed of airplane')\n",
"Ve=sqrt(2*(Po-P)/Ds);disp(Ve,'Ve=');\n",
"printf('\Answer:\n')\n",
"printf('\n\True velocity of the airplane: %f m/s\n\n',Vt)\n",
"printf('\n\Equivalent airspeed of the airplane: %f m/s\n\n',Ve)"
   ]
   }
,
{
		   "cell_type": "markdown",
		   "metadata": {},
		   "source": [
			"## Example 4.17: Example_17.sce"
		   ]
		  },
  {
"cell_type": "code",
	   "execution_count": null,
	   "metadata": {
	    "collapsed": true
	   },
	   "outputs": [],
"source": [
"pathname=get_absolute_file_path('4_17.sce')\n",
"filename=pathname+filesep()+'4_17data.sci'\n",
"exec(filename)\n",
"disp('M1^2=2*[(Po/P1)^((y-1)/y)-1]/(y-1))','let Mach no at which the airplane flying is M1 then')\n",
"M1=sqrt(2*[(Po/P1)^((y-1)/y)-1]/(y-1));disp(M1,'M1=');\n",
"a1=sqrt(y*R*T);disp(a1,'a1=(y*R*T)^0.5','speed of sound at that point');\n",
"V1=sqrt(2*a1^2*[(Po/P1)^((y-1)/y)-1]/(y-1));\n",
"disp(V1,'V1=','V1^2=2*a1^2*[(Po/P1)^((y-1)/y)-1]/(y-1)','equvalent air speed V1')\n",
"R=((y-1)/y);\n",
"Vc=sqrt([2*a^2*[(((Po-P1)/P)+1)^((y-1)/y)-1]/(y-1)]);\n",
"disp(Vc,'Vc=','Vc^2=2*a^2*[((Po-P1)/P)+1)^((y-1)/y)-1]/(y-1)','caliberated air speed Vc')\n",
"printf('\Answer:\n')\n",
"printf('\n\mach no at which airplane is flying: %f \n\n',M1)\n",
"printf('\n\True airspeed of the airplane: %f m/s\n\n',V1)\n",
"printf('\n\caliberated airspeed of the airplane: %f m/s\n\n',Vc)"
   ]
   }
,
{
		   "cell_type": "markdown",
		   "metadata": {},
		   "source": [
			"## Example 4.18: Example_18.sce"
		   ]
		  },
  {
"cell_type": "code",
	   "execution_count": null,
	   "metadata": {
	    "collapsed": true
	   },
	   "outputs": [],
"source": [
"pathname=get_absolute_file_path('4_18.sce')\n",
"filename=pathname+filesep()+'4_18data.sci'\n",
"exec(filename)\n",
"Po=P*[(y+1)^2*M^2/((4*y*M^2)-2*(y-1))]^3.5*(1-y+2*y*M^2)/(y+1)\n",
"disp('Po=P1*[(y+1)^2*M^2/((4*y*M^2)-2*(y-1))]^3.5*(1-y+2*y*M^2)/(y+1)','pressure measured by pitot tube Po')\n",
"printf('\Answer:\n')\n",
"printf('\n\pressure measured by pitot tube: %f N/m^2\n\n',Po)"
   ]
   }
,
{
		   "cell_type": "markdown",
		   "metadata": {},
		   "source": [
			"## Example 4.19: Example_19.sce"
		   ]
		  },
  {
"cell_type": "code",
	   "execution_count": null,
	   "metadata": {
	    "collapsed": true
	   },
	   "outputs": [],
"source": [
"pathname=get_absolute_file_path('4_19.sce')\n",
"filename=pathname+filesep()+'4_19data.sci'\n",
"exec(filename)\n",
"Ma=[[(Po/Pa)^((y-1)/y)-1]*2/(y-1)]^0.5;disp(Ma,'Ma=','Ma=[(Po/Pa)^((y-1)/y)-1]*2/(y-1)','Mach no at point A')\n",
"Ta=Toa/[1+(y-1)*Ma^2/2];\n",
"disp(Ta,'Ta=','Ta=Toa/[1+(y-1)*Ma^2/2]','static temperature at A')\n",
"Va=sqrt(y*R*Ta)*Ma;\n",
"disp(Va,'Va=','velocity at A =a*Ma,where a(sqrt(y*R*Ta)) is apeed of sound at A')\n",
"printf('\Answer:\n')\n",
"printf('\n\Mach No at A: %f \n\n',Ma)\n",
"printf('\n\velocity at A: %f m/s\n\n',Va)"
   ]
   }
,
{
		   "cell_type": "markdown",
		   "metadata": {},
		   "source": [
			"## Example 4.20: Example_20.sce"
		   ]
		  },
  {
"cell_type": "code",
	   "execution_count": null,
	   "metadata": {
	    "collapsed": true
	   },
	   "outputs": [],
"source": [
"pathname=get_absolute_file_path('4_20.sce')\n",
"filename=pathname+filesep()+'4_20data.sci'\n",
"exec(filename)\n",
"To=Te*A\n",
"disp(To,'To=','To=Te*(1+(y-1)*Me^2/2)','let reservoir temperature required is To ')\n",
"Po=Pe*A^(y/(y-1));\n",
"disp(Po,'Po=','Po=Pe*((1+(y-1)*Me^2/2))^y/y-1','let reservoir pressure required is Po ')\n",
"r=sqrt((2*A/(y+1))^((y+1)/(y-1))/Me^2)\n",
"disp(r,'Ae/At=','Ae/At=sqrt((2*(1+(y-1)*Me^2/2)/(y+1))^((y+1)/(y-1))/Me^2','Area ratio required is equal to')\n",
"printf('\Answer:\n')\n",
"printf('\n\ required reservoir temperature: %f K\n\n',To)\n",
"printf('\n\ required reservoir pressure: %f N/m^2\n\n',Po)\n",
"printf('\n\ required Area Ratio: %f \n\n',r)\n",
"\n",
""
   ]
   }
,
{
		   "cell_type": "markdown",
		   "metadata": {},
		   "source": [
			"## Example 4.21: Example_21.sce"
		   ]
		  },
  {
"cell_type": "code",
	   "execution_count": null,
	   "metadata": {
	    "collapsed": true
	   },
	   "outputs": [],
"source": [
"pathname=get_absolute_file_path('4_21.sce')\n",
"filename=pathname+filesep()+'4_21data.sci'\n",
"exec(filename)\n",
"Pstag=Pe*[(y+1)^2*Me^2/((4*y*Me^2)-2*(y-1))]^(y/(y-1))*(1-y+2*y*Me^2)/(y+1)\n",
"disp(Pstag,'Pstag=','Pstag=Pe*[(y+1)*Me^2/((4*y*Me^2)-2*(y-1))]^(y/(y-1))*(1-y+2*y*Me^2)/(y+1)','the stagnation presure is given by Pstag')\n",
"Dstag=Pstag/(R*Tstag);\n",
"disp(Dstag,'Dstag=','Dstag=Pstag/(R*Tstag)','the stagnation density is given by Dstag')\n",
"printf('\Answer:\n')\n",
"printf('\n\ Stagnation temperature: %f K\n\n',Tstag)\n",
"printf('\n\ Stagnation pressure: %f N/m^2\n\n',Pstag)\n",
"printf('\n\ Stagnation density: %f Kg/m^3\n\n',Dstag)\n",
""
   ]
   }
,
{
		   "cell_type": "markdown",
		   "metadata": {},
		   "source": [
			"## Example 4.22: Example_22.sce"
		   ]
		  },
  {
"cell_type": "code",
	   "execution_count": null,
	   "metadata": {
	    "collapsed": true
	   },
	   "outputs": [],
"source": [
"pathname=get_absolute_file_path('4_22.sce')\n",
"filename=pathname+filesep()+'4_22data.sci'\n",
"exec(filename)\n",
"Ve=Ae*Me;disp(Ve,'Ve=','velocity at exit Ve=Ae*Me')\n",
"Mt=Dt*At*Vt;disp(Mt,'Mt=Dt*At*Vt','mass flow through nozzle Mt')\n",
"printf('\Answer:\n')\n",
"printf('\n\Velocity at exit: %f m/s\n\n',Ve)\n",
"printf('\n\mass flow through nozzle: %f Kg/m^3\n\n',Mt)\n",
""
   ]
   }
,
{
		   "cell_type": "markdown",
		   "metadata": {},
		   "source": [
			"## Example 4.23: Example_23.sce"
		   ]
		  },
  {
"cell_type": "code",
	   "execution_count": null,
	   "metadata": {
	    "collapsed": true
	   },
	   "outputs": [],
"source": [
"pathname=get_absolute_file_path('4_23.sce')\n",
"filename=pathname+filesep()+'4_23data.sci'\n",
"exec(filename)\n",
"t=5.2*x/Re^0.5;disp(t,'t=','boundary layer thickness t=5.2*x/Re^0.5')\n",
"D=q*S*Cf;disp(D,'D=','drag on one surface of the plate given by D=q*s*Cf')\n",
"disp(2*D,'Dn=','Net drag Dn is two times both surface i.e 2D')\n",
"printf('\Answer:\n')\n",
"printf('\n\Boundary layer thickness at downstream edge: %f m\n\n',t)\n",
"printf('\n\The drag force on plate: %f N\n\n',2*D)\n",
""
   ]
   }
,
{
		   "cell_type": "markdown",
		   "metadata": {},
		   "source": [
			"## Example 4.24: Example_24.sce"
		   ]
		  },
  {
"cell_type": "code",
	   "execution_count": null,
	   "metadata": {
	    "collapsed": true
	   },
	   "outputs": [],
"source": [
"pathname=get_absolute_file_path('4_24.sce')\n",
"filename=pathname+filesep()+'4_24data.sci'\n",
"exec(filename)\n",
"Tw1=q*Cf1;disp(Tw1,'Tw1=','Tw1=q*Cf1','shear stress at 1 cm Tw1:');\n",
"Tw2=q*Cf2;disp(Tw2,'Tw2=','Tw2=q*Cf2','shear stress at 1 cm Tw2:');\n",
"printf('\Answer:\n')\n",
"printf('\n\Local shear stress at 1 cm: %f N/m^2\n\n',Tw1)\n",
"printf('\n\Local shear stress at 5 cm: %f N/m^2',Tw2)\n",
"disp('Hence Tw decreases with distance in flow direction');"
   ]
   }
,
{
		   "cell_type": "markdown",
		   "metadata": {},
		   "source": [
			"## Example 4.25: Example_25.sce"
		   ]
		  },
  {
"cell_type": "code",
	   "execution_count": null,
	   "metadata": {
	    "collapsed": true
	   },
	   "outputs": [],
"source": [
"pathname=get_absolute_file_path('4_25.sce')\n",
"filename=pathname+filesep()+'4_25data.sci'\n",
"exec(filename)\n",
"T=0.37*x/Re^0.2;disp(T,'T=','T=0.37*x/Re^0.2','Thickness at trailing edge T:');\n",
"Df=q*S*Cf;disp(Df,'Df=','Df=q*S*Cf','Drag at top surface')\n",
"printf('\Answer:\n')\n",
"printf('\n\Thickness at trailing edge: %f m\n\n',T)\n",
"printf('\n\Total Drag: %f N',2*Df)"
   ]
   }
,
{
		   "cell_type": "markdown",
		   "metadata": {},
		   "source": [
			"## Example 4.26: Example_26.sce"
		   ]
		  },
  {
"cell_type": "code",
	   "execution_count": null,
	   "metadata": {
	    "collapsed": true
	   },
	   "outputs": [],
"source": [
"pathname=get_absolute_file_path('4_26.sce')\n",
"filename=pathname+filesep()+'4_26data.sci'\n",
"exec(filename)\n",
"Tw1=q*Cf1;disp(Tw1,'Tw1=','Tw1=q*Cf1','shear stress at 1 cm Tw1:');\n",
"Tw2=q*Cf2;disp(Tw2,'Tw2=','Tw2=q*Cf2','shear stress at 1 cm Tw2:');\n",
"printf('\Answer:\n')\n",
"printf('\n\Local shear stress at 1 cm: %f N/m^2\n\n',Tw1)\n",
"printf('\n\Local shear stress at 5 cm: %f N/m^2',Tw2)"
   ]
   }
,
{
		   "cell_type": "markdown",
		   "metadata": {},
		   "source": [
			"## Example 4.27: Example_27.sce"
		   ]
		  },
  {
"cell_type": "code",
	   "execution_count": null,
	   "metadata": {
	    "collapsed": true
	   },
	   "outputs": [],
"source": [
"pathname=get_absolute_file_path('4_27.sce')\n",
"filename=pathname+filesep()+'4_27data.sci'\n",
"exec(filename)\n",
"Tw=q*Cf;disp(Tw,'Tw=','Tw=q*Cf','shear stress at point 0.6096 m Tw:');\n",
"printf('\Answer:\n')\n",
"printf('\n\shear stress at a point 0.6096m downstream of the leading edge: %f m\n\n',Tw)"
   ]
   }
,
{
		   "cell_type": "markdown",
		   "metadata": {},
		   "source": [
			"## Example 4.28: Example_28.sce"
		   ]
		  },
  {
"cell_type": "code",
	   "execution_count": null,
	   "metadata": {
	    "collapsed": true
	   },
	   "outputs": [],
"source": [
"pathname=get_absolute_file_path('4_28.sce')\n",
"filename=pathname+filesep()+'4_28data.sci'\n",
"exec(filename)\n",
"Ds=q*S*0.074/Re^0.2;disp(Ds,'Ds=','Ds=q*S*0.074/Re^0.2','turbulent drag over complete area(A+B)');\n",
"Da=q*A*0.074/Ret^0.2;disp(Da,'Da=','Da=q*A*0.074/Ret^0.2','turbulent drag over area A');\n",
"disp(Ds-Da,'Db=','turbulent drag over area B Db:');Db=Ds-Da;\n",
"Dl=q*A*1.328/Ret^0.5;disp(Dl,'Dl=','Dl=q*A*1.328/Ret^0.5','laminar drag over area A');\n",
"Dn=Db+Dl;disp(Dn,'Dn=','Dn=Db+Dl','Net drag Dn')\n",
"printf('\Answer:\n')\n",
"printf('\n\Skin friction Drag over wings of biplane(4 surfaces): %f N\n\n',4*Dn)"
   ]
   }
],
"metadata": {
		  "kernelspec": {
		   "display_name": "Scilab",
		   "language": "scilab",
		   "name": "scilab"
		  },
		  "language_info": {
		   "file_extension": ".sce",
		   "help_links": [
			{
			 "text": "MetaKernel Magics",
			 "url": "https://github.com/calysto/metakernel/blob/master/metakernel/magics/README.md"
			}
		   ],
		   "mimetype": "text/x-octave",
		   "name": "scilab",
		   "version": "0.7.1"
		  }
		 },
		 "nbformat": 4,
		 "nbformat_minor": 0
}
