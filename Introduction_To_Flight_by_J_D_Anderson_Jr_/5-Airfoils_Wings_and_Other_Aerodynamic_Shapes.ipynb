{
"cells": [
 {
		   "cell_type": "markdown",
	   "metadata": {},
	   "source": [
       "# Chapter 5: Airfoils Wings and Other Aerodynamic Shapes"
	   ]
	},
{
		   "cell_type": "markdown",
		   "metadata": {},
		   "source": [
			"## Example 5.01: Example_1.sce"
		   ]
		  },
  {
"cell_type": "code",
	   "execution_count": null,
	   "metadata": {
	    "collapsed": true
	   },
	   "outputs": [],
"source": [
"pathname=get_absolute_file_path('5_01.sce')\n",
"filename=pathname+filesep()+'5_01data.sci'\n",
"exec(filename)\n",
"L=q*c*Cl;disp(L,'L=','L=q*c*Cl','Lift per unit span L:')\n",
"D=q*c*Cd;disp(D,'D=','D=q*c*Cd','Drag per unit span D:')\n",
"M=q*c*Cm*c;disp(M,'M=','M=q*c*Cm*c','Moment per unit span M:')\n",
"printf('\Answer:\n')\n",
"printf('\n\Lift about the quarter chord,per unit span: %f N\n\n',L)\n",
"printf('\n\Drag about the quarter chord,per unit span: %f N\n\n',D)\n",
"printf('\n\moment about the quarter chord,per unit span: %f N.m\n\n',M)"
   ]
   }
,
{
		   "cell_type": "markdown",
		   "metadata": {},
		   "source": [
			"## Example 5.02: Example_2.sce"
		   ]
		  },
  {
"cell_type": "code",
	   "execution_count": null,
	   "metadata": {
	    "collapsed": true
	   },
	   "outputs": [],
"source": [
"pathname=get_absolute_file_path('5_02.sce')\n",
"filename=pathname+filesep()+'5_02data.sci'\n",
"exec(filename)\n",
"printf('\Answer:\n')\n",
"printf('\n\angle of attack for 700 N lift: %f degree\n\n',a)\n",
"printf('\n\angle of attack for zero lift:: %f degree\n\n',a1)"
   ]
   }
,
{
		   "cell_type": "markdown",
		   "metadata": {},
		   "source": [
			"## Example 5.03: Example_3.sce"
		   ]
		  },
  {
"cell_type": "code",
	   "execution_count": null,
	   "metadata": {
	    "collapsed": true
	   },
	   "outputs": [],
"source": [
"pathname=get_absolute_file_path('5_03.sce')\n",
"filename=pathname+filesep()+'5_03data.sci'\n",
"exec(filename)\n",
"Cp=(P1-P)/q;disp(Cp,'Cp=','Cp=(P1-P)/q','pressure coefficient Cp :')\n",
"printf('\Answer:\n')\n",
"printf('\n\pressure coefficient at this point of wing: %f \n\n',Cp)"
   ]
   }
,
{
		   "cell_type": "markdown",
		   "metadata": {},
		   "source": [
			"## Example 5.04: Example_4.sce"
		   ]
		  },
  {
"cell_type": "code",
	   "execution_count": null,
	   "metadata": {
	    "collapsed": true
	   },
	   "outputs": [],
"source": [
"pathname=get_absolute_file_path('5_04.sce')\n",
"filename=pathname+filesep()+'5_04data.sci'\n",
"exec(filename)\n",
"Cp=(P1-P)/q;disp(Cp,'Cp=','Cp=(P1-P)/q','pressure coefficient Cp :')\n",
"printf('\Answer:\n')\n",
"printf('\n\pressure coefficient : %f \n\n',Cp)"
   ]
   }
,
{
		   "cell_type": "markdown",
		   "metadata": {},
		   "source": [
			"## Example 5.05: Example_5.sce"
		   ]
		  },
  {
"cell_type": "code",
	   "execution_count": null,
	   "metadata": {
	    "collapsed": true
	   },
	   "outputs": [],
"source": [
"pathname=get_absolute_file_path('5_05.sce')\n",
"filename=pathname+filesep()+'5_05data.sci'\n",
"exec(filename)\n",
"Cp=Cpo/(sqrt(1-M^2));disp(Cp,'Cp=','Cp=Cpo/(sqrt(1-M^2))','pressure coefficient Cp :')\n",
"printf('\Answer:\n')\n",
"printf('\n\pressure coefficient : %f \n\n',Cp)"
   ]
   }
,
{
		   "cell_type": "markdown",
		   "metadata": {},
		   "source": [
			"## Example 5.06: Example_6.sce"
		   ]
		  },
  {
"cell_type": "code",
	   "execution_count": null,
	   "metadata": {
	    "collapsed": true
	   },
	   "outputs": [],
"source": [
"pathname=get_absolute_file_path('5_06.sce')\n",
"filename=pathname+filesep()+'5_06data.sci'\n",
"exec(filename)\n",
"P1=(q*Cp)+P;disp(P1,'P1=','P1=q*Cp+p','pressure at this point P1:')\n",
"printf('\Answer:\n')\n",
"printf('\n\pressure at this point : %f N/m^2\n\n',P1)"
   ]
   }
,
{
		   "cell_type": "markdown",
		   "metadata": {},
		   "source": [
			"## Example 5.07: Example_7.sce"
		   ]
		  },
  {
"cell_type": "code",
	   "execution_count": null,
	   "metadata": {
	    "collapsed": true
	   },
	   "outputs": [],
"source": [
"pathname=get_absolute_file_path('5_07.sce')\n",
"filename=pathname+filesep()+'5_07data.sci'\n",
"exec(filename)\n",
"V2=V*((Cp1-Cp2)+(V1/V)^2)^0.5;\n",
"disp(V2,'V2=','V2=V*((Cp1-Cp2)+(V1/V)^2)^0.5','velocity at point 2 V2:')\n",
"printf('\Answer:\n')\n",
"printf('\n\Velocity at point 2: %f m/s\n\n',V2)"
   ]
   }
,
{
		   "cell_type": "markdown",
		   "metadata": {},
		   "source": [
			"## Example 5.08: Example_8.sce"
		   ]
		  },
  {
"cell_type": "code",
	   "execution_count": null,
	   "metadata": {
	    "collapsed": true
	   },
	   "outputs": [],
"source": [
"pathname=get_absolute_file_path('5_08.sce')\n",
"filename=pathname+filesep()+'5_08data.sci'\n",
"exec(filename)\n",
"Cn=integrate('1-0.95*y','y',0,1.0)-integrate('1-300*y^2 ','y',0,0.1)-integrate('-2.2277+2.2277*y','y',0.1,1.0)\n",
"printf('\Answer:\n')\n",
"printf('\n\Normal force coefficient : %f \n\n',Cn)"
   ]
   }
,
{
		   "cell_type": "markdown",
		   "metadata": {},
		   "source": [
			"## Example 5.09: Example_9.sce"
		   ]
		  },
  {
"cell_type": "code",
	   "execution_count": null,
	   "metadata": {
	    "collapsed": true
	   },
	   "outputs": [],
"source": [
"pathname=get_absolute_file_path('5_09.sce')\n",
"filename=pathname+filesep()+'5_09data.sci'\n",
"exec(filename)\n",
"Cl=Co/(sqrt(1-M^2));disp(Cl,'Cl=','Cl=Co/(sqrt(1-M^2))','Lift coefficient Cl :')\n",
"printf('\Answer:\n')\n",
"printf('\n\Lift coefficient at Mach 0.7: %f \n\n',Cl)"
   ]
   }
,
{
		   "cell_type": "markdown",
		   "metadata": {},
		   "source": [
			"## Example 5.10: Example_10.sce"
		   ]
		  },
  {
"cell_type": "code",
	   "execution_count": null,
	   "metadata": {
	    "collapsed": true
	   },
	   "outputs": [],
"source": [
"pathname=get_absolute_file_path('5_10.sce')\n",
"filename=pathname+filesep()+'5_10_data.sci'\n",
"exec(filename)\n",
"clf();\n",
"i = 1;\n",
"while(i<=length(M)) \n",
"    Cpcr(i)=(2/(y*M(i)^2))*[[(2+(y-1)*M(i)^2)/(y+1)]^(y/(y-1))-1]\n",
"    Cpmin(i)=Cpomin/sqrt(1-M(i)^2);\n",
"   i = i+1; \n",
"end \n",
"xlabel('Mach Number');\n",
"ylabel('Cp');\n",
"plot2d(M,Cpcr,2);\n",
"plot2d(M,Cpmin);\n",
"disp('The intersection point of both the graphs i.e approx 0.74 is the critical Mach no of the NACA-0012 airfoil.')"
   ]
   }
,
{
		   "cell_type": "markdown",
		   "metadata": {},
		   "source": [
			"## Example 5.11: Example_11.sce"
		   ]
		  },
  {
"cell_type": "code",
	   "execution_count": null,
	   "metadata": {
	    "collapsed": true
	   },
	   "outputs": [],
"source": [
"pathname=get_absolute_file_path('5_11.sce')\n",
"filename=pathname+filesep()+'5_11_data.sci'\n",
"exec(filename)\n",
"L=q*c*Cl;disp(L,'L=','L=q*c*Cl','lift per unit span for mach 3 :')\n",
"Dw=q*c*Cd;disp(Dw,'Dw=','Dw=q*c*Cd','Wave drag per unit span for mach 3 :')\n",
"L1=q1*c*Cl1;disp(L1,'L1=','L1=q1*c*Cl1','lift per unit span for mach 2:')\n",
"Dw1=q1*c*Cd1;disp(Dw1,'Dw1=','Dw1=q1*c*Cd1','Wave drag per unit span for mach 2 :')\n",
""
   ]
   }
,
{
		   "cell_type": "markdown",
		   "metadata": {},
		   "source": [
			"## Example 5.12: example_12.sce"
		   ]
		  },
  {
"cell_type": "code",
	   "execution_count": null,
	   "metadata": {
	    "collapsed": true
	   },
	   "outputs": [],
"source": [
"pathname=get_absolute_file_path('5_12.sce')\n",
"filename=pathname+filesep()+'5_12_data.sci'\n",
"exec(filename)\n",
"a=L*(M^2-1)^0.5/(4*q*S);\n",
"disp(a,'a=','a=L*(M^2-1)^0.5/(4*q*S)','angle of attack at sea level:')\n",
"a1=L*(M^2-1)^0.5/(4*q1*S);\n",
"disp(a1,'a1=','a1=L*(M^2-1)^0.5/(4*q1*S)','angle of attack at 10 Km:')\n",
"printf('\Answer:\n')\n",
"printf('\n\angle of attack at sea level: %f degree\n\n',a*180/%pi)\n",
"printf('\n\angle of attack at 10 Km: %f degree\n\n',a1*180/%pi)"
   ]
   }
,
{
		   "cell_type": "markdown",
		   "metadata": {},
		   "source": [
			"## Example 5.13: Example_13.sce"
		   ]
		  },
  {
"cell_type": "code",
	   "execution_count": null,
	   "metadata": {
	    "collapsed": true
	   },
	   "outputs": [],
"source": [
"pathname=get_absolute_file_path('5_13.sce')\n",
"filename=pathname+filesep()+'5_13data.sci'\n",
"exec(filename)\n",
"L=q*S*4*a/sqrt(M^2-1);\n",
"disp(L,'L=','L=q*S*4*a/sqrt(M^2-1)','Lift exerted on airplane L:')\n",
"printf('\Answer:\n')\n",
"printf('\n\Lift exerted on airplane: %f N\n\n',L)"
   ]
   }
,
{
		   "cell_type": "markdown",
		   "metadata": {},
		   "source": [
			"## Example 5.14: Example_14.sce"
		   ]
		  },
  {
"cell_type": "code",
	   "execution_count": null,
	   "metadata": {
	    "collapsed": true
	   },
	   "outputs": [],
"source": [
"pathname=get_absolute_file_path('5_14.sce')\n",
"filename=pathname+filesep()+'5_14data.sci'\n",
"exec(filename)\n",
"Cl=L/(q*S);\n",
"disp(Cl,'Cl=','Cl=L/(q*S)','Lift coefficient Cl:')\n",
"printf('\Answer:\n')\n",
"printf('\n\Lift coefficient: %f \n\n',Cl)"
   ]
   }
,
{
		   "cell_type": "markdown",
		   "metadata": {},
		   "source": [
			"## Example 5.15: Example_15.sce"
		   ]
		  },
  {
"cell_type": "code",
	   "execution_count": null,
	   "metadata": {
	    "collapsed": true
	   },
	   "outputs": [],
"source": [
"pathname=get_absolute_file_path('5_15.sce')\n",
"filename=pathname+filesep()+'5_15data.sci'\n",
"exec(filename)\n",
"Cdi=Cl^2/(%pi*e*AR);disp(Cdi,'Cdi=','Cdi=Cl^2/(%pi*e*AR)','induced drag coefficient Cdi:')\n",
"Di=q*S*Cdi;disp(Di,'Di=','Di=q*S*Cdi','induced drag Di:')\n",
"printf('\Answer:\n')\n",
"printf('\n\induced drag coefficient: %f \n\n',Cdi)\n",
"printf('\n\induced drag: %f N\n\n',Di)"
   ]
   }
,
{
		   "cell_type": "markdown",
		   "metadata": {},
		   "source": [
			"## Example 5.16: Example_16.sce"
		   ]
		  },
  {
"cell_type": "code",
	   "execution_count": null,
	   "metadata": {
	    "collapsed": true
	   },
	   "outputs": [],
"source": [
"pathname=get_absolute_file_path('5_16.sce')\n",
"filename=pathname+filesep()+'5_16data.sci'\n",
"exec(filename)\n",
"Dt=(Cd+Cdi)*S*(D*V^2/2);disp(Dt,'Dt=','Dt=(Cd+Cdi)*S*q','total drag Di:')\n",
"printf('\Answer:\n')\n",
"printf('\n\Totl drag: %f N\n\n',Dt)"
   ]
   }
,
{
		   "cell_type": "markdown",
		   "metadata": {},
		   "source": [
			"## Example 5.17: Example_17.sce"
		   ]
		  },
  {
"cell_type": "code",
	   "execution_count": null,
	   "metadata": {
	    "collapsed": true
	   },
	   "outputs": [],
"source": [
"pathname=get_absolute_file_path('5_17.sce')\n",
"filename=pathname+filesep()+'5_17data.sci'\n",
"exec(filename)\n",
"Cl=a1*(a-a2);disp(Cl,'Cl=','Cl=a1(a-a2)','lift coefficient Cl:')\n",
"Cd=cd+Cl^2/(%pi*e*AR);disp(Cd,'Cd=','Cd=cd+Cl^2/(%pi*e*AR)','total drag coefficient Cd=:')\n",
"printf('\Answer:\n')\n",
"printf('\n\Lift coefficient: %f \n\n',Cl)\n",
"printf('\n\Totl drag coefficient: %f \n\n',Cd)"
   ]
   }
,
{
		   "cell_type": "markdown",
		   "metadata": {},
		   "source": [
			"## Example 5.18: Example_18.sce"
		   ]
		  },
  {
"cell_type": "code",
	   "execution_count": null,
	   "metadata": {
	    "collapsed": true
	   },
	   "outputs": [],
"source": [
"pathname=get_absolute_file_path('5_18.sce')\n",
"filename=pathname+filesep()+'5_18data.sci'\n",
"exec(filename)\n",
"Di=q*S*Cdi;disp(Di,'Di=','Di=q*S*Cdi','induced drag on one wing Di:')\n",
"printf('\Answer:\n')\n",
"printf('\n\Induced drag exerted on both the wings: %f N\n\n',2*Di)"
   ]
   }
,
{
		   "cell_type": "markdown",
		   "metadata": {},
		   "source": [
			"## Example 5.19: Example_19.sce"
		   ]
		  },
  {
"cell_type": "code",
	   "execution_count": null,
	   "metadata": {
	    "collapsed": true
	   },
	   "outputs": [],
"source": [
"pathname=get_absolute_file_path('5_19.sce')\n",
"filename=pathname+filesep()+'5_19data.sci'\n",
"exec(filename)\n",
"disp('comparing the results of part a and b we can see the high-aspect ratio wing experiences a 26% higher increase in Cl than the low-aspect ratio wing.')"
   ]
   }
,
{
		   "cell_type": "markdown",
		   "metadata": {},
		   "source": [
			"## Example 5.20: Example_20.sce"
		   ]
		  },
  {
"cell_type": "code",
	   "execution_count": null,
	   "metadata": {
	    "collapsed": true
	   },
	   "outputs": [],
"source": [
"pathname=get_absolute_file_path('5_20.sce')\n",
"filename=pathname+filesep()+'5_20data.sci'\n",
"exec(filename)\n",
"V1=sqrt(2*Wt/(D*S*Clm));disp(V1,'V1=','V1=sqrt(2*Wt/(D*S*Clm))','stalling speed for full fuel tank V1:')\n",
"V2=sqrt(2*Wf/(D*S*Clm));disp(V2,'V2=','V2=sqrt(2*Wf/(D*S*Clm))','stalling speed for empty fuel tank V1:')\n",
"printf('\Answer:\n')\n",
"printf('\n\stalling speed for full fuel tank : %f m/s\n\n',V1)\n",
"printf('\n\stalling speed for empty fuel tank : %f m/s\n\n',V2)\n",
""
   ]
   }
,
{
		   "cell_type": "markdown",
		   "metadata": {},
		   "source": [
			"## Example 5.21: Example_21.sce"
		   ]
		  },
  {
"cell_type": "code",
	   "execution_count": null,
	   "metadata": {
	    "collapsed": true
	   },
	   "outputs": [],
"source": [
"pathname=get_absolute_file_path('5_21.sce')\n",
"filename=pathname+filesep()+'5_21data.sci'\n",
"exec(filename)\n",
"V=sqrt(2*Wt/(D*S*Clm));disp(V,'V=','V=sqrt(2*Wt/(D*S*Clm))','stalling speed for Boeing 727 V:')\n",
"printf('\Answer:\n')\n",
"printf('\n\stalling speed for full fuel tank : %f m/s\n\n',V)\n",
"disp('stalling speed for lockhead F-104 is a much higher value than the Boeing 727.','comparison with stalling speed for full fuel tank of example 5.20:')"
   ]
   }
],
"metadata": {
		  "kernelspec": {
		   "display_name": "Scilab",
		   "language": "scilab",
		   "name": "scilab"
		  },
		  "language_info": {
		   "file_extension": ".sce",
		   "help_links": [
			{
			 "text": "MetaKernel Magics",
			 "url": "https://github.com/calysto/metakernel/blob/master/metakernel/magics/README.md"
			}
		   ],
		   "mimetype": "text/x-octave",
		   "name": "scilab",
		   "version": "0.7.1"
		  }
		 },
		 "nbformat": 4,
		 "nbformat_minor": 0
}
