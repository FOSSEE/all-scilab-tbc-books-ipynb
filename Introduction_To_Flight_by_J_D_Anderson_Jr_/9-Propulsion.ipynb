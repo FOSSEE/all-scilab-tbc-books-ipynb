{
"cells": [
 {
		   "cell_type": "markdown",
	   "metadata": {},
	   "source": [
       "# Chapter 9: Propulsion"
	   ]
	},
{
		   "cell_type": "markdown",
		   "metadata": {},
		   "source": [
			"## Example 9.1: Example_1.sce"
		   ]
		  },
  {
"cell_type": "code",
	   "execution_count": null,
	   "metadata": {
	    "collapsed": true
	   },
	   "outputs": [],
"source": [
"pathname=get_absolute_file_path('9_01.sce')\n",
"filename=pathname+filesep()+'9_01data.sci'\n",
"exec(filename)\n",
"x=poly(0,'x');\n",
"P=x-10*x+9.5;\n",
"t=roots(P);\n",
"V2=%pi*b^2*(Stroke+t)*(10^-6)/4;disp(V2,'V2=%pi*b^2*(Stroke+t)/4');\n",
"V3=V2/r;disp(V3,'V3=V2/r');\n",
"V5=V2;V4=V3;\n",
"Wcomp=(P2*V2-P3*V3)/(1-y);\n",
"disp(Wcomp,'Wcomp=','Wcomp=P2*V2-P3*V3/(1-y);','work done in compression cycle Wcomp:')\n",
"Wpower=(P5*V5-P4*V4)/(1-y);\n",
"disp(Wpower,'Wpower=','Wpower=P5*V5-P4*V4/(1-y);','work done in power stroke Wpower:')\n",
"Pa=6*n*nm*(rpm)*(Wpower-Wcomp)/120;\n",
"disp(Pa,'Pa=n*nm*(rpm)*(Wpower-Wcomp)/120','power available Pa:')\n",
"printf('\Answer:\n')\n",
"printf('\n\Power available from the engine propeller combination: %f J/s \n\n',Pa)"
   ]
   }
,
{
		   "cell_type": "markdown",
		   "metadata": {},
		   "source": [
			"## Example 9.2: Example_2.sce"
		   ]
		  },
  {
"cell_type": "code",
	   "execution_count": null,
	   "metadata": {
	    "collapsed": true
	   },
	   "outputs": [],
"source": [
"pathname=get_absolute_file_path('9_02.sce')\n",
"filename=pathname+filesep()+'9_02data.sci'\n",
"exec(filename)\n",
"Pe=Pa*120/(n*Nmech*rpm*d);\n",
"disp(Pe,'Pe=','Pe=Pa*120/(n*Nmech*rpm*d)','mean effective pressure Pe:')\n",
"printf('\Answer:\n')\n",
"printf('\n\Mean effective pressure : %f N/m^2\n\n',Pe)"
   ]
   }
,
{
		   "cell_type": "markdown",
		   "metadata": {},
		   "source": [
			"## Example 9.3: Example_3.sce"
		   ]
		  },
  {
"cell_type": "code",
	   "execution_count": null,
	   "metadata": {
	    "collapsed": true
	   },
	   "outputs": [],
"source": [
"pathname=get_absolute_file_path('9_03.sce')\n",
"filename=pathname+filesep()+'9_03data.sci'\n",
"exec(filename)\n",
"T=Mdot*(Ve-V)+(Pe-P)*Ae;\n",
"disp(T,'T=','T=Mdot*(Ve-V)+(Pe-P)*Ae','Thrust of the turbojet T:')\n",
"printf('\Answer:\n')\n",
"printf('\n\Mean effective pressure : %f N\n\n',T)"
   ]
   }
,
{
		   "cell_type": "markdown",
		   "metadata": {},
		   "source": [
			"## Example 9.4: Example_4.sce"
		   ]
		  },
  {
"cell_type": "code",
	   "execution_count": null,
	   "metadata": {
	    "collapsed": true
	   },
	   "outputs": [],
"source": [
"pathname=get_absolute_file_path('9_04.sce')\n",
"filename=pathname+filesep()+'9_04data.sci'\n",
"exec(filename)\n",
"T=Mdot*Ve;disp(T,'T=','T=Mdot*Ve','As Pe equals ambient pressure at 30 Km Thrust T:')\n",
"Ae=Mdot/(De*Ve);disp(Ae,'Ae=','Ae=Mdot/(De*Ve)','exit area Ae:')\n",
"Me=Ve/sqrt(y*R*Te);disp(Me,'Me=','Me=Ve/sqrt(y*R*T)','exit Mach No. Me:')\n",
"printf('\Answer:\n')\n",
"printf('\n\Specific impulse : %f s\n\n',Isp)\n",
"printf('\n\Thrust: %f N\n\n',T)\n",
"printf('\n\Area of the exit: %f m^2\n\n',Ae)\n",
"printf('\n\flow mach no at exit : %f \n\n',Me)"
   ]
   }
,
{
		   "cell_type": "markdown",
		   "metadata": {},
		   "source": [
			"## Example 9.5: Example_5.sce"
		   ]
		  },
  {
"cell_type": "code",
	   "execution_count": null,
	   "metadata": {
	    "collapsed": true
	   },
	   "outputs": [],
"source": [
"pathname=get_absolute_file_path('9_05.sce')\n",
"filename=pathname+filesep()+'9_05data.sci'\n",
"exec(filename)\n",
"printf('\n\burnout velocity of single stage rocket : %f m/s\n\n',Vb)\n",
"printf('\n\burnout velocity of double stage rocket after second stage: %f m/s\n\n',Vb2)\n",
"disp('As we can see from final burnout velocities that a double-stage rocket can give a greater launching velocity as compared to single stage rocket.' )"
   ]
   }
],
"metadata": {
		  "kernelspec": {
		   "display_name": "Scilab",
		   "language": "scilab",
		   "name": "scilab"
		  },
		  "language_info": {
		   "file_extension": ".sce",
		   "help_links": [
			{
			 "text": "MetaKernel Magics",
			 "url": "https://github.com/calysto/metakernel/blob/master/metakernel/magics/README.md"
			}
		   ],
		   "mimetype": "text/x-octave",
		   "name": "scilab",
		   "version": "0.7.1"
		  }
		 },
		 "nbformat": 4,
		 "nbformat_minor": 0
}
