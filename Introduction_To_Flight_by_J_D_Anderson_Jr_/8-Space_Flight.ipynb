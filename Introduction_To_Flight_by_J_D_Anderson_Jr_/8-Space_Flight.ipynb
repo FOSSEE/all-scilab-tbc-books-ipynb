{
"cells": [
 {
		   "cell_type": "markdown",
	   "metadata": {},
	   "source": [
       "# Chapter 8: Space Flight"
	   ]
	},
{
		   "cell_type": "markdown",
		   "metadata": {},
		   "source": [
			"## Example 8.1: Example_1.sce"
		   ]
		  },
  {
"cell_type": "code",
	   "execution_count": null,
	   "metadata": {
	    "collapsed": true
	   },
	   "outputs": [],
"source": [
"pathname=get_absolute_file_path('8_01.sce')\n",
"filename=pathname+filesep()+'8_01data.sci'\n",
"exec(filename)\n",
"h=Rb*V*cos(alpha);disp(h,'h=','h=Rb*V*cos(alpha)')\n",
"P=h^2/K;disp(P,'P=')\n",
"e=sqrt(1+2*(h^2/K^2)*((V^2/2)-(K/Rb)));disp(e,'e=','e=sqrt(1+2*(h^2/K^2)*((V^2/2)-(K/Rb)))')\n",
"C=-acosd((P/Rb-1)/e);\n",
"disp(C,'C=','C=-acosd((P/Rb-1)/e)');\n",
"disp('equals approx 1.056*10^7/(1+0.4654*cos(theta+9.46))','P/(1+e*cos(theta-C))','From the above values we can see equation of trajectory :')"
   ]
   }
,
{
		   "cell_type": "markdown",
		   "metadata": {},
		   "source": [
			"## Example 8.2: Example_2.sce"
		   ]
		  },
  {
"cell_type": "code",
	   "execution_count": null,
	   "metadata": {
	    "collapsed": true
	   },
	   "outputs": [],
"source": [
"pathname=get_absolute_file_path('8_02.sce')\n",
"filename=pathname+filesep()+'8_02data.sci'\n",
"exec(filename)\n",
"T2=T1*(a2/a1)^1.5;\n",
"disp(T2,'T2=','T2=T1*(a2/a1)^1.5','period of mars T2 from keplers third law:')\n",
"printf('\Answer:\n')\n",
"printf('\n\Period of mars: %f days\n\n',T2)"
   ]
   }
,
{
		   "cell_type": "markdown",
		   "metadata": {},
		   "source": [
			"## Example 8.3: Example_3.sce"
		   ]
		  },
  {
"cell_type": "code",
	   "execution_count": null,
	   "metadata": {
	    "collapsed": true
	   },
	   "outputs": [],
"source": [
"pathname=get_absolute_file_path('8_03.sce')\n",
"filename=pathname+filesep()+'8_03data.sci'\n",
"exec(filename)\n",
"h=-log(D/Do)/Z;disp(h,'h=','h=-ln(D/Do)/Z','altitude of maximum decelation h:')\n",
"Amax=Ve^2*Z*sin(theta)/(2*%e);disp(Amax,'Amax=','Amax=V^2*Z*sin(theta)/(2*%e)','value of maximum deceleration Amax')\n",
"V=Ve*%e^(-Do/(2*B*Z*sin(theta)));disp(V,'V=','V=Ve*%e^(-Do/(2*B*Z*sin(theta)))','velocity at impact on earth surface')\n",
"printf('\Answer:\n')\n",
"printf('\n\altitude at which maximum deceleration occur: %f m\n\n',h)\n",
"printf('\n\value of maximum deceleration: %f m/s^2\n\n',Amax)\n",
"printf('\n\velocity at impact on earth surface: %f m/s\n\n',V)\n",
"\n",
"\n",
"\n",
"\n",
""
   ]
   }
],
"metadata": {
		  "kernelspec": {
		   "display_name": "Scilab",
		   "language": "scilab",
		   "name": "scilab"
		  },
		  "language_info": {
		   "file_extension": ".sce",
		   "help_links": [
			{
			 "text": "MetaKernel Magics",
			 "url": "https://github.com/calysto/metakernel/blob/master/metakernel/magics/README.md"
			}
		   ],
		   "mimetype": "text/x-octave",
		   "name": "scilab",
		   "version": "0.7.1"
		  }
		 },
		 "nbformat": 4,
		 "nbformat_minor": 0
}
