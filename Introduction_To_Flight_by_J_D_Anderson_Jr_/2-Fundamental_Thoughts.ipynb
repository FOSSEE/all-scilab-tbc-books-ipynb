{
"cells": [
 {
		   "cell_type": "markdown",
	   "metadata": {},
	   "source": [
       "# Chapter 2: Fundamental Thoughts"
	   ]
	},
{
		   "cell_type": "markdown",
		   "metadata": {},
		   "source": [
			"## Example 2.1: Example_1.sce"
		   ]
		  },
  {
"cell_type": "code",
	   "execution_count": null,
	   "metadata": {
	    "collapsed": true
	   },
	   "outputs": [],
"source": [
"pathname=get_absolute_file_path('2_1.sce')\n",
"filename=pathname+filesep()+'2_1data.sci'\n",
"exec(filename)\n",
"T=p/((density)*(R))\n",
"printf('\Answer:\n')\n",
"printf('\n\Temperature at that point %f K\n\n',T)"
   ]
   }
,
{
		   "cell_type": "markdown",
		   "metadata": {},
		   "source": [
			"## Example 2.2: Example_2.sce"
		   ]
		  },
  {
"cell_type": "code",
	   "execution_count": null,
	   "metadata": {
	    "collapsed": true
	   },
	   "outputs": [],
"source": [
"pathname=get_absolute_file_path('2_2.sce')\n",
"filename=pathname+filesep()+'2_2data.sci'\n",
"exec(filename)\n",
"\n",
"disp(M,'Mass in Kg',M1,'Mass in pound');"
   ]
   }
,
{
		   "cell_type": "markdown",
		   "metadata": {},
		   "source": [
			"## Example 2.3: Example_3.sce"
		   ]
		  },
  {
"cell_type": "code",
	   "execution_count": null,
	   "metadata": {
	    "collapsed": true
	   },
	   "outputs": [],
"source": [
"pathname=get_absolute_file_path('2_3.sce')\n",
"filename=pathname+filesep()+'2_3data.sci'\n",
"exec(filename)\n",
"density=P/(R*T);\n",
"v=1/density;//specific volume\n",
"printf('\Answer:\n')\n",
"printf('\n\Density of air: %f Kg/m^3\n\n',density)\n",
"printf('\n\Specific volume of air: %f m^3/Kg\n\n',v)\n",
"\n",
""
   ]
   }
,
{
		   "cell_type": "markdown",
		   "metadata": {},
		   "source": [
			"## Example 2.4: Example_4.sce"
		   ]
		  },
  {
"cell_type": "code",
	   "execution_count": null,
	   "metadata": {
	    "collapsed": true
	   },
	   "outputs": [],
"source": [
"pathname=get_absolute_file_path('2_4.sce')\n",
"filename=pathname+filesep()+'2_4data.sci'\n",
"exec(filename)\n",
"printf('\Answer:\n')\n",
"printf('\n\Density of air at the given point: %f Kg/m^3\n\n',density)"
   ]
   }
,
{
		   "cell_type": "markdown",
		   "metadata": {},
		   "source": [
			"## Example 2.5: Example_5.sce"
		   ]
		  },
  {
"cell_type": "code",
	   "execution_count": null,
	   "metadata": {
	    "collapsed": true
	   },
	   "outputs": [],
"source": [
"pathname=get_absolute_file_path('2_5.sce')\n",
"filename=pathname+filesep()+'2_5data.sci'\n",
"exec(filename)\n",
"function[unit]=Conversion(SI)\n",
"     unit=(9.8*(0.3048)^2)*(SI)/4.448;\n",
" endfunction\n",
" disp('1lb/ft^2=(9.8*(0.3048)^2)*/4.448)kgf/m^2')\n",
" disp(Conversion(280.8),'wing loading in lb/ft^2 for F-117A stealth fighter');"
   ]
   }
,
{
		   "cell_type": "markdown",
		   "metadata": {},
		   "source": [
			"## Example 2.6: example_6.sce"
		   ]
		  },
  {
"cell_type": "code",
	   "execution_count": null,
	   "metadata": {
	    "collapsed": true
	   },
	   "outputs": [],
"source": [
"pathname=get_absolute_file_path('2_6.sce')\n",
"filename=pathname+filesep()+'2_6data.sci'\n",
"exec(filename)\n",
"function[ftPerSecond]=conversion(MilePerHour)\n",
"    ftPerSecond=(5280*MilePerHour)/3600;\n",
"endfunction\n",
"function[meterPerSecond]=conversion1(MilePerHour)\n",
"    meterPerSecond=(1609.344*MilePerHour)/3600;\n",
"endfunction\n",
"disp('1 ftPerSecond=(5280*MilePerHour)/3600')\n",
"\n",
"disp(conversion(60),'velocity in terms of ft/s');\n",
"\n",
"disp('1 meterPerSecond=(1609.344*MilePerHour)/3600')\n",
"disp(conversion1(60),'velocity in terms of m/s');\n",
"\n",
""
   ]
   }
],
"metadata": {
		  "kernelspec": {
		   "display_name": "Scilab",
		   "language": "scilab",
		   "name": "scilab"
		  },
		  "language_info": {
		   "file_extension": ".sce",
		   "help_links": [
			{
			 "text": "MetaKernel Magics",
			 "url": "https://github.com/calysto/metakernel/blob/master/metakernel/magics/README.md"
			}
		   ],
		   "mimetype": "text/x-octave",
		   "name": "scilab",
		   "version": "0.7.1"
		  }
		 },
		 "nbformat": 4,
		 "nbformat_minor": 0
}
