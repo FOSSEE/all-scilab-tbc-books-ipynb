{
"cells": [
 {
		   "cell_type": "markdown",
	   "metadata": {},
	   "source": [
       "# Chapter 3: The Standard Atmosphere"
	   ]
	},
{
		   "cell_type": "markdown",
		   "metadata": {},
		   "source": [
			"## Example 3.01: Example_1.sce"
		   ]
		  },
  {
"cell_type": "code",
	   "execution_count": null,
	   "metadata": {
	    "collapsed": true
	   },
	   "outputs": [],
"source": [
"pathname=get_absolute_file_path('3_01.sce')\n",
"filename=pathname+filesep()+'3_01data.sci'\n",
"exec(filename)\n",
"printf('\Answer:\n')\n",
"printf('\pressure at an altitude of 14 Km: %f N/m^2\n',P2)\n",
"printf('\n\density at an altitude of 14 Km: %f Kg/m^3\n\n',D2)\n",
""
   ]
   }
,
{
		   "cell_type": "markdown",
		   "metadata": {},
		   "source": [
			"## Example 3.02: Example_2.sce"
		   ]
		  },
  {
"cell_type": "code",
	   "execution_count": null,
	   "metadata": {
	    "collapsed": true
	   },
	   "outputs": [],
"source": [
"pathname=get_absolute_file_path('3_02.sce')\n",
"filename=pathname+filesep()+'3_02data.sci'\n",
"exec(filename)\n",
"printf('\Answer:\n')\n",
"printf('\n\pressure altitude: %f Km\n\n',P1)\n",
"printf('\n\ temperature altitude: %f Km\n\n',T1)\n",
"printf('\n\density altitude: %f Km\n\n',D1)\n",
""
   ]
   }
,
{
		   "cell_type": "markdown",
		   "metadata": {},
		   "source": [
			"## Example 3.03: Example_3.sce"
		   ]
		  },
  {
"cell_type": "code",
	   "execution_count": null,
	   "metadata": {
	    "collapsed": true
	   },
	   "outputs": [],
"source": [
"pathname=get_absolute_file_path('3_03.sce')\n",
"filename=pathname+filesep()+'3_03data.sci'\n",
"exec(filename)\n",
"printf('\Answer:\n')\n",
"printf('\n\Temperature of air at flying altitude of airplane: %f K\n\n',T)"
   ]
   }
,
{
		   "cell_type": "markdown",
		   "metadata": {},
		   "source": [
			"## Example 3.04: Example_4.sce"
		   ]
		  },
  {
"cell_type": "code",
	   "execution_count": null,
	   "metadata": {
	    "collapsed": true
	   },
	   "outputs": [],
"source": [
"pathname=get_absolute_file_path('3_04.sce')\n",
"filename=pathname+filesep()+'3_04data.sci'\n",
"exec(filename)\n",
"printf('\Answer:\n')\n",
"printf('\pressur altitude: %f Km\n',Hp)\n",
"printf('\n\density altitude : %f Km\n\n',Hd)"
   ]
   }
],
"metadata": {
		  "kernelspec": {
		   "display_name": "Scilab",
		   "language": "scilab",
		   "name": "scilab"
		  },
		  "language_info": {
		   "file_extension": ".sce",
		   "help_links": [
			{
			 "text": "MetaKernel Magics",
			 "url": "https://github.com/calysto/metakernel/blob/master/metakernel/magics/README.md"
			}
		   ],
		   "mimetype": "text/x-octave",
		   "name": "scilab",
		   "version": "0.7.1"
		  }
		 },
		 "nbformat": 4,
		 "nbformat_minor": 0
}
