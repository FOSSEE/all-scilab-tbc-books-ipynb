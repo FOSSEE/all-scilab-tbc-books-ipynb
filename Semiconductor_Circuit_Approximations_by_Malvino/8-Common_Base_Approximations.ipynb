{
"cells": [
 {
		   "cell_type": "markdown",
	   "metadata": {},
	   "source": [
       "# Chapter 8: Common Base Approximations"
	   ]
	},
{
		   "cell_type": "markdown",
		   "metadata": {},
		   "source": [
			"## Example 8.1: Value_of_VCB.sce"
		   ]
		  },
  {
"cell_type": "code",
	   "execution_count": null,
	   "metadata": {
	    "collapsed": true
	   },
	   "outputs": [],
"source": [
"// Example 8.1\n",
"format('v',6)\n",
"clc;\n",
"clear;\n",
"close;\n",
"// given data\n",
"V_EE= 10;// in V\n",
"V_BE= 0.7;// in V\n",
"R_E= 20*10^3;// in Ω\n",
"V_CC= 25;// in V\n",
"R_C= 10*10^3;// in Ω\n",
"// The emitter current\n",
"I_E= (V_EE-V_BE)/R_E;// in A\n",
"I_C= I_E;// in A\n",
"// The collector to base voltage,\n",
"V_CB= V_CC-I_C*R_C;// in V\n",
"disp(V_CB,'The value of V_CB in volts is : ')"
   ]
   }
,
{
		   "cell_type": "markdown",
		   "metadata": {},
		   "source": [
			"## Example 8.2: Value_of_VCB.sce"
		   ]
		  },
  {
"cell_type": "code",
	   "execution_count": null,
	   "metadata": {
	    "collapsed": true
	   },
	   "outputs": [],
"source": [
"// Example 8.2\n",
"format('v',5)\n",
"clc;\n",
"clear;\n",
"close;\n",
"// given data\n",
"V_EE= 12;// in V\n",
"V_BE= 0.7;// in V\n",
"R_E= 5.6*10^3;// in Ω\n",
"V_CC= 15;// in V\n",
"R_C= 6.8*10^3;// in Ω\n",
"// The emitter current,\n",
"I_E= (V_EE-V_BE)/R_E;// in A\n",
"I_C= I_E;// in A\n",
"// The collector to base voltage\n",
"V_CB= V_CC-I_C*R_C;// in V\n",
"disp(V_CB,'The value of V_CB in volts is : ')\n",
"\n",
"// Note : The answer in the book is not accurate.\n",
""
   ]
   }
,
{
		   "cell_type": "markdown",
		   "metadata": {},
		   "source": [
			"## Example 8.3: Output_voltage.sce"
		   ]
		  },
  {
"cell_type": "code",
	   "execution_count": null,
	   "metadata": {
	    "collapsed": true
	   },
	   "outputs": [],
"source": [
"// Example 8.3\n",
"format('v',6)\n",
"clc;\n",
"clear;\n",
"close;\n",
"// given data\n",
"V_EE= 15;// in V\n",
"V_BE= 0.7;// in V\n",
"R_E= 22*10^3;// in Ω\n",
"Vin= 2*10^-3;// in V\n",
"V= 25*10^-3;// in V\n",
"R1= 10*10^3;// in Ω\n",
"R2= 30*10^3;// in Ω\n",
"I_E= (V_EE-V_BE)/R_E;// in A\n",
"// The ac resistance of emitter diode,\n",
"r_desh_e= V/I_E;// in Ω\n",
"r_L= R1*R2/(R1+R2);// in Ω\n",
"// The voltage gain\n",
"A= r_L/r_desh_e;\n",
"// The output voltage \n",
"Vout= A*Vin;// in V\n",
"Vout= Vout*10^3;// in mV\n",
"disp(Vout,'The output voltage in mV is : ')"
   ]
   }
,
{
		   "cell_type": "markdown",
		   "metadata": {},
		   "source": [
			"## Example 8.4: Output_voltage.sce"
		   ]
		  },
  {
"cell_type": "code",
	   "execution_count": null,
	   "metadata": {
	    "collapsed": true
	   },
	   "outputs": [],
"source": [
"// Example 8.4\n",
"format('v',5)\n",
"clc;\n",
"clear;\n",
"close;\n",
"// given data\n",
"V_EE= 10;// in V\n",
"V_BE= 0.7;// in V\n",
"R_E= 6.8*10^3;// in Ω\n",
"Rs= 100;// in Ω\n",
"R1= 3.3*10^3;// in Ω\n",
"R2= 1.5*10^3;// in Ω\n",
"V= 25*10^-3;// in V\n",
"Vs= 1*10^-3;// in V\n",
"I_E= (V_EE-V_BE)/R_E;// in A\n",
"r_desh_e= V/I_E;// in Ω\n",
"Zin= r_desh_e;// in Ω\n",
"// The input voltage to the emitter,\n",
"Vin= Zin*Vs/(Rs+Zin);// in V\n",
"r_L= R1*R2/(R1+R2);// in Ω\n",
"// The voltage gain,\n",
"A= r_L/r_desh_e;\n",
"// The output voltage \n",
"Vout= A*Vin;// in V\n",
"Vout= Vout*10^3;// in mV\n",
"disp(Vout,'The output voltage in mV is : ')"
   ]
   }
],
"metadata": {
		  "kernelspec": {
		   "display_name": "Scilab",
		   "language": "scilab",
		   "name": "scilab"
		  },
		  "language_info": {
		   "file_extension": ".sce",
		   "help_links": [
			{
			 "text": "MetaKernel Magics",
			 "url": "https://github.com/calysto/metakernel/blob/master/metakernel/magics/README.md"
			}
		   ],
		   "mimetype": "text/x-octave",
		   "name": "scilab",
		   "version": "0.7.1"
		  }
		 },
		 "nbformat": 4,
		 "nbformat_minor": 0
}
