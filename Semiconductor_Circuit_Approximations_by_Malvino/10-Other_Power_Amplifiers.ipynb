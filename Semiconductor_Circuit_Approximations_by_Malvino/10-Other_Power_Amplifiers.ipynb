{
"cells": [
 {
		   "cell_type": "markdown",
	   "metadata": {},
	   "source": [
       "# Chapter 10: Other Power Amplifiers"
	   ]
	},
{
		   "cell_type": "markdown",
		   "metadata": {},
		   "source": [
			"## Example 10.1: PDQ_PDmax_and_PLmax.sce"
		   ]
		  },
  {
"cell_type": "code",
	   "execution_count": null,
	   "metadata": {
	    "collapsed": true
	   },
	   "outputs": [],
"source": [
"// Example 10.1\n",
"format('v',6)\n",
"clc;\n",
"clear;\n",
"close;\n",
"// given data\n",
"V_CEQ= 7.5;// in V\n",
"R_L= 50;// in Ω\n",
"I_Csat= V_CEQ/R_L;// in A\n",
"I_CQ= 0.01*I_Csat;// in A\n",
"P_DQ= V_CEQ*I_CQ;// in W\n",
"PP= 2*V_CEQ;// in V\n",
"P_Dmax= PP^2/(40*R_L);// in W\n",
"P_Lmax= PP^2/(8*R_L);// in W\n",
"// The value of P_DQ \n",
"P_DQ= P_DQ*10^3;// in mW\n",
"// The value of P_Dmax \n",
"P_Dmax= P_Dmax*10^3;// in mW\n",
"// The value of P_Lmax \n",
"P_Lmax= P_Lmax*10^3;// in mW\n",
"disp(P_DQ,'The value of P_DQ in mW is : ')\n",
"disp(P_Dmax,'The value of P_Dmax in mW is : ')\n",
"disp(P_Lmax,'The value of P_Lmax in mW is : ')"
   ]
   }
,
{
		   "cell_type": "markdown",
		   "metadata": {},
		   "source": [
			"## Example 10.2: Efficiency_of_the_amplifier_with_a_maximum_output_signal.sce"
		   ]
		  },
  {
"cell_type": "code",
	   "execution_count": null,
	   "metadata": {
	    "collapsed": true
	   },
	   "outputs": [],
"source": [
"// Example 10.2\n",
"format('v',6)\n",
"clc;\n",
"clear;\n",
"close;\n",
"// given data\n",
"V_CC= 15;// in V\n",
"I_Csat= 150;// in mA\n",
"P_Lmax= 563;// in mW\n",
"I= 0.02*I_Csat;// in mA\n",
"Idc= 0.318*I_Csat;// in mA\n",
"I_CC= I+Idc;// in mA\n",
"P_CC= V_CC*I_CC;// in mW\n",
"// The efficiency of amplifier \n",
"Eta= P_Lmax/P_CC*100;// in %\n",
"disp(Eta,'The efficiency of amplifier in % is : ');\n",
"\n",
"// Note: The answer in the book is not accurate\n",
"\n",
""
   ]
   }
,
{
		   "cell_type": "markdown",
		   "metadata": {},
		   "source": [
			"## Example 10.3: DC_and_AC_load_line.sce"
		   ]
		  },
  {
"cell_type": "code",
	   "execution_count": null,
	   "metadata": {
	    "collapsed": true
	   },
	   "outputs": [],
"source": [
"// Example 10.3\n",
"format('v',6)\n",
"clc;\n",
"clear;\n",
"close;\n",
"// given data\n",
"V_CC= 40;// in V\n",
"V_CEQ= 20;// in V\n",
"R_L= 10;// in Ω\n",
"I_Csat= V_CEQ/R_L;// in A\n",
"V_CEcutoff= V_CEQ;// in V\n",
"V_CE= 0:0.1:V_CEcutoff;// in V\n",
"I_C= (V_CEQ-V_CE)/R_L;// in A\n",
"// The plot of ac load line,\n",
"plot(V_CE,I_C)\n",
"xlabel('V_CE in volts')\n",
"ylabel('I_C in A')\n",
"title('AC load line')\n",
"disp('AC load line shown in figure')"
   ]
   }
,
{
		   "cell_type": "markdown",
		   "metadata": {},
		   "source": [
			"## Example 10.4: PDQ_PDmax_and_PLmax.sce"
		   ]
		  },
  {
"cell_type": "code",
	   "execution_count": null,
	   "metadata": {
	    "collapsed": true
	   },
	   "outputs": [],
"source": [
"// Example 10.4\n",
"format('v',6)\n",
"clc;\n",
"clear;\n",
"close;\n",
"// given data\n",
"V_CC= 40;// in V\n",
"V_BE= 0.7;// in V\n",
"R= 1*10^3;// in Ω\n",
"R_L= 10;// in Ω\n",
"V_CEQ= 20;// in V\n",
"I_CQ= (V_CC-2*V_BE)/(2*R);// in A\n",
"// The value of P_DQ\n",
"P_DQ= V_CEQ*I_CQ;// in W\n",
"disp(P_DQ,'The value of P_DQ in W is : ')\n",
"PP= 2*V_CEQ;// in V\n",
"// The value of P_Lmax\n",
"P_Lmax= PP^2/(8*R_L);// in W\n",
"// The value of P_Dmax\n",
"P_Dmax= PP^2/(40*R_L);// in W\n",
"disp(P_Lmax,'The value of P_Lmax in W is : ')\n",
"disp(P_Dmax,'The value of P_Dmax in W is : ')"
   ]
   }
,
{
		   "cell_type": "markdown",
		   "metadata": {},
		   "source": [
			"## Example 10.5: Voltage_gain_of_the_driver_stage.sce"
		   ]
		  },
  {
"cell_type": "code",
	   "execution_count": null,
	   "metadata": {
	    "collapsed": true
	   },
	   "outputs": [],
"source": [
"// Example 10.5\n",
"format('v',6)\n",
"clc;\n",
"clear;\n",
"close;\n",
"// given data\n",
"V_E= 1.43;// in V\n",
"R_E= 100;// in Ω\n",
"R_L= 100;// in Ω\n",
"R_C= 1*10^3;// in Ω\n",
"bita= 200;\n",
"Vt= 25*10^-3;// in V\n",
"I_E= V_E/R_E;// in A\n",
"I_CQ= I_E;// in A\n",
"Zin= bita*R_L;// in Ω\n",
"r_desh_e= Vt/I_CQ;// in Ω\n",
"// The voltage gain of the driver stage \n",
"A= (R_C*Zin/(R_C+Zin))/(R_E+r_desh_e);\n",
"disp(A,'The voltage gain of the driver stage is : ')\n",
"// On ignoring Zin and r_desh_e,\n",
"A= R_C/R_E;\n",
"disp(A,'On ignoring the value of Zin and r''e, the voltage gain is : ')"
   ]
   }
,
{
		   "cell_type": "markdown",
		   "metadata": {},
		   "source": [
			"## Example 10.6: Ideal_value_of_PP_and_PLmax.sce"
		   ]
		  },
  {
"cell_type": "code",
	   "execution_count": null,
	   "metadata": {
	    "collapsed": true
	   },
	   "outputs": [],
"source": [
"// Example 10.6\n",
"format('v',6)\n",
"clc;\n",
"clear;\n",
"close;\n",
"// given data\n",
"V_CC= 30;// in V\n",
"PP= V_CC;// in V\n",
"R_L= 100;// in Ω\n",
"// The value of P_Lmax \n",
"P_Lmax= PP^2/(8*R_L);// in W\n",
"disp(PP,'The value of PP in volts is : ')\n",
"disp(P_Lmax,'The value of P_Lmax in W is : ')"
   ]
   }
,
{
		   "cell_type": "markdown",
		   "metadata": {},
		   "source": [
			"## Example 10.7: Overall_voltage_gai.sce"
		   ]
		  },
  {
"cell_type": "code",
	   "execution_count": null,
	   "metadata": {
	    "collapsed": true
	   },
	   "outputs": [],
"source": [
"// Example 10.7\n",
"format('v',6)\n",
"clc;\n",
"clear;\n",
"close;\n",
"// given data\n",
"R_C= 1*10^3;// in Ω\n",
"r_desh_e= 2.5;//in Ω\n",
"Zin= 1*10^3;// in Ω\n",
"A2= 10;// unit less\n",
"A3= 1;// unit less\n",
"A1= (R_C*Zin/(R_C+Zin))/r_desh_e;// unit less\n",
"// The overall voltage gain \n",
"A= A1*A2*A3;\n",
"disp(A,'The overall voltage gain is : ')"
   ]
   }
,
{
		   "cell_type": "markdown",
		   "metadata": {},
		   "source": [
			"## Example 10.8: Minimum_base_current_that_produces_saturation.sce"
		   ]
		  },
  {
"cell_type": "code",
	   "execution_count": null,
	   "metadata": {
	    "collapsed": true
	   },
	   "outputs": [],
"source": [
"// Example 10.8\n",
"format('v',5)\n",
"clc;\n",
"clear;\n",
"close;\n",
"// given data\n",
"V_CC= 50;// in V\n",
"V_CEsat= 1;// in V\n",
"R_L= 5;// in Ω\n",
"bita_dc= 90;// unit less\n",
"I_Csat= (V_CC-V_CEsat)/R_L;// in A\n",
"// The minimum base current that produces saturation \n",
"I_Bsat= I_Csat/bita_dc;// in A\n",
"I_Bsat= I_Bsat*10^3;// in mA\n",
"disp(I_Bsat,'The minimum base current that produces saturation in mA is : ')"
   ]
   }
,
{
		   "cell_type": "markdown",
		   "metadata": {},
		   "source": [
			"## Example 10.9: Input_voltage_required.sce"
		   ]
		  },
  {
"cell_type": "code",
	   "execution_count": null,
	   "metadata": {
	    "collapsed": true
	   },
	   "outputs": [],
"source": [
"// Example 10.9\n",
"format('v',5)\n",
"clc;\n",
"clear;\n",
"close;\n",
"// given data\n",
"I_Csat= 109*10^-3;// in A\n",
"bita_dc= 200;\n",
"R_B= 1*10^3;// in Ω\n",
"V_BE1= 0.7;// in V\n",
"V_BE2= 1.6;// in V\n",
"// The base current,\n",
"I_Bsat= I_Csat/bita_dc;// in A\n",
"// The input voltage\n",
"Vin= I_Bsat*R_B+V_BE1+V_BE2;// in V\n",
"disp(Vin,'The input voltage in volts is : ')"
   ]
   }
],
"metadata": {
		  "kernelspec": {
		   "display_name": "Scilab",
		   "language": "scilab",
		   "name": "scilab"
		  },
		  "language_info": {
		   "file_extension": ".sce",
		   "help_links": [
			{
			 "text": "MetaKernel Magics",
			 "url": "https://github.com/calysto/metakernel/blob/master/metakernel/magics/README.md"
			}
		   ],
		   "mimetype": "text/x-octave",
		   "name": "scilab",
		   "version": "0.7.1"
		  }
		 },
		 "nbformat": 4,
		 "nbformat_minor": 0
}
