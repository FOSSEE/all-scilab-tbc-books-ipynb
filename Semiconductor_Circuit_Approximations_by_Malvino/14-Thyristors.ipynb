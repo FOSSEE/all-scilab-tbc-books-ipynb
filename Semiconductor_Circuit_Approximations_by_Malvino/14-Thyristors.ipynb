{
"cells": [
 {
		   "cell_type": "markdown",
	   "metadata": {},
	   "source": [
       "# Chapter 14: Thyristors"
	   ]
	},
{
		   "cell_type": "markdown",
		   "metadata": {},
		   "source": [
			"## Example 14.1: Load_current.sce"
		   ]
		  },
  {
"cell_type": "code",
	   "execution_count": null,
	   "metadata": {
	    "collapsed": true
	   },
	   "outputs": [],
"source": [
"// Example 14.1\n",
"format('v',6)\n",
"clc;\n",
"clear;\n",
"close;\n",
"// given data\n",
"V1=15;// in V\n",
"V2=1;// in V\n",
"R= 100;// in Ω\n",
"// The load current \n",
"I= (V1-V2)/R;// in A\n",
"I= I*10^3;// in mA\n",
"disp(I,'The load current in mA is : ')"
   ]
   }
,
{
		   "cell_type": "markdown",
		   "metadata": {},
		   "source": [
			"## Example 14.2: Input_voltage.sce"
		   ]
		  },
  {
"cell_type": "code",
	   "execution_count": null,
	   "metadata": {
	    "collapsed": true
	   },
	   "outputs": [],
"source": [
"// Example 14.2\n",
"format('v',6)\n",
"clc;\n",
"clear;\n",
"close;\n",
"// given data\n",
"I= 4;// in mA\n",
"I=I*10^-3;// in A\n",
"V1=0.5;// voltage across diode in V\n",
"R=100;// in Ω\n",
"// The input voltage \n",
"V= V1+I*R;// in V\n",
"disp(V,'The input voltage in volts is : ')"
   ]
   }
,
{
		   "cell_type": "markdown",
		   "metadata": {},
		   "source": [
			"## Example 14.6: Ideal_emitter_current.sce"
		   ]
		  },
  {
"cell_type": "code",
	   "execution_count": null,
	   "metadata": {
	    "collapsed": true
	   },
	   "outputs": [],
"source": [
"// Example 14.6\n",
"format('v',6)\n",
"clc;\n",
"clear;\n",
"close;\n",
"// given data\n",
"Eta= 0.85;\n",
"V= 10;// in V\n",
"V1= Eta*V;// in V\n",
"V= 20;// in V\n",
"R= 400;// in Ω\n",
"// The emitter current\n",
"I_E= V/R;// in A\n",
"I_E= I_E*10^3;// in mA\n",
"disp(I_E,'The emitter current in mA is : ')\n",
""
   ]
   }
,
{
		   "cell_type": "markdown",
		   "metadata": {},
		   "source": [
			"## Example 14.7: Value_of_emitter_supply_voltage.sce"
		   ]
		  },
  {
"cell_type": "code",
	   "execution_count": null,
	   "metadata": {
	    "collapsed": true
	   },
	   "outputs": [],
"source": [
"// Example 14.7\n",
"format('v',6)\n",
"clc;\n",
"clear;\n",
"close;\n",
"// given data\n",
"V_E= 1;// in V\n",
"R= 400;// in Ω\n",
"I= 7*10^-3;// in A\n",
"// The emitter supply voltage\n",
"V= V_E+I*R;// in V\n",
"disp(V,'The emitter supply voltage in volts is : ')\n",
""
   ]
   }
],
"metadata": {
		  "kernelspec": {
		   "display_name": "Scilab",
		   "language": "scilab",
		   "name": "scilab"
		  },
		  "language_info": {
		   "file_extension": ".sce",
		   "help_links": [
			{
			 "text": "MetaKernel Magics",
			 "url": "https://github.com/calysto/metakernel/blob/master/metakernel/magics/README.md"
			}
		   ],
		   "mimetype": "text/x-octave",
		   "name": "scilab",
		   "version": "0.7.1"
		  }
		 },
		 "nbformat": 4,
		 "nbformat_minor": 0
}
