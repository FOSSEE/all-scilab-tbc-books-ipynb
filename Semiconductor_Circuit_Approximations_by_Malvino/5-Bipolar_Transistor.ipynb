{
"cells": [
 {
		   "cell_type": "markdown",
	   "metadata": {},
	   "source": [
       "# Chapter 5: Bipolar Transistor"
	   ]
	},
{
		   "cell_type": "markdown",
		   "metadata": {},
		   "source": [
			"## Example 5.10: IC_and_VCE.sce"
		   ]
		  },
  {
"cell_type": "code",
	   "execution_count": null,
	   "metadata": {
	    "collapsed": true
	   },
	   "outputs": [],
"source": [
"// Example 5.10\n",
"format('v',6)\n",
"clc;\n",
"clear;\n",
"close;\n",
"// given data\n",
"V_BE= 0.7;//in V\n",
"V_CC= 15;// in V\n",
"R_C= 1*10^3;// in Ω\n",
"R_B= 200*10^3;// in Ω\n",
"bita= 300;// unit less\n",
"// The collector current,\n",
"I_C= (V_CC-V_BE)/(R_C+R_B/bita);// in A\n",
"I_C=I_C*10^3;// in mA\n",
"disp(I_C,'The value of I_C in mA is : ');\n",
"I_C=I_C*10^-3;// in A\n",
"// The collector to emitter voltage,\n",
"V_CE= V_CC-I_C*R_C;// in V\n",
"disp(V_CE,'The value of V_CE in volts is : ')"
   ]
   }
,
{
		   "cell_type": "markdown",
		   "metadata": {},
		   "source": [
			"## Example 5.11: IC_and_VCE.sce"
		   ]
		  },
  {
"cell_type": "code",
	   "execution_count": null,
	   "metadata": {
	    "collapsed": true
	   },
	   "outputs": [],
"source": [
"// Example 5.11\n",
"format('v',5)\n",
"clc;\n",
"clear;\n",
"close;\n",
"// given data\n",
"V_BE= 0.7;//in V\n",
"V_CC= 15;// in V\n",
"V_EE= 15;// in V\n",
"R_E= 10*10^3;// in Ω\n",
"R_C= 5.1*10^3;// in Ω\n",
"I_E= (V_EE-V_BE)/R_E;// in A\n",
"// The collector current,\n",
"I_C= I_E;// in A\n",
"V_C= V_CC-I_C*R_C;// in A\n",
"V_E= -V_BE;// in V\n",
"V_CE= V_C-V_E;// in V\n",
"// The collector to emitter voltage,\n",
"V_CE= V_CC+V_EE-I_C*(R_C+R_E)\n",
"I_C= I_C*10^3;// in mA\n",
"disp(I_C,'The value of I_C in mA is : ');\n",
"disp(V_CE,'The value of V_CE in volts is : ')"
   ]
   }
,
{
		   "cell_type": "markdown",
		   "metadata": {},
		   "source": [
			"## Example 5.12: DC_voltage.sce"
		   ]
		  },
  {
"cell_type": "code",
	   "execution_count": null,
	   "metadata": {
	    "collapsed": true
	   },
	   "outputs": [],
"source": [
"// Example 5.12\n",
"format('v',5)\n",
"clc;\n",
"clear;\n",
"close;\n",
"// given data\n",
"V_BE= 0.7;//in V\n",
"V_CC= 30;// in V\n",
"Vz= 6;// in V\n",
"R_E= 3*10^3;// in Ω\n",
"R_C= 4*10^3;// in Ω\n",
"I_E= (Vz-V_BE)/R_E;// in A\n",
"I_C= I_E;// in A\n",
"// For first stage the collector voltage to ground \n",
"V_C= V_CC-I_C*R_C;// in v\n",
"disp(V_C,'For first stage the collector voltage to ground in volts is : ')\n",
"Vz= 10;// in V\n",
"R_E= 2*10^3;//in Ω\n",
"R_C= 3*10^3;// in Ω\n",
"I_E= (Vz-V_BE)/R_E;// in A\n",
"I_C= I_E;// in A\n",
"// For second stage the collector voltage to ground \n",
"V_C= I_C*R_C;// in v\n",
"disp(V_C,'For second stage the collector voltage to ground in volts is : ')"
   ]
   }
,
{
		   "cell_type": "markdown",
		   "metadata": {},
		   "source": [
			"## Example 5.1: Value_of_VCE.sce"
		   ]
		  },
  {
"cell_type": "code",
	   "execution_count": null,
	   "metadata": {
	    "collapsed": true
	   },
	   "outputs": [],
"source": [
"// Example 5.1\n",
"format('v',5)\n",
"clc;\n",
"clear;\n",
"close;\n",
"// given data\n",
"V_BB= 10;//in V\n",
"V_BE= 0.7;//in V\n",
"V_CC= 20;// in V\n",
"R_B= 1.5;// in MΩ\n",
"R_B= R_B*10^6;//in Ω\n",
"R_C= 5*10^3;//in Ω\n",
"bita= 125;// unit less\n",
"I_B= (V_BB-V_BE)/R_B;//in A\n",
"I_C= bita*I_B;//in A\n",
"// The dc voltage between the collector and emitter \n",
"V_CE= V_CC-I_C*R_C;//in V\n",
"disp(V_CE,'The dc voltage between the collector and emitter in volts is : ')"
   ]
   }
,
{
		   "cell_type": "markdown",
		   "metadata": {},
		   "source": [
			"## Example 5.2: DC_load_line.sce"
		   ]
		  },
  {
"cell_type": "code",
	   "execution_count": null,
	   "metadata": {
	    "collapsed": true
	   },
	   "outputs": [],
"source": [
"// Example 5.2\n",
"format('v',6)\n",
"clc;\n",
"clear;\n",
"close;\n",
"// given data\n",
"V_CC= 30;// in V\n",
"R_C= 1.5;//in kΩ\n",
"Ver_intercept= V_CC/R_C;//in mA\n",
"Hor_intercept= V_CC;// in V\n",
"V_CE= 0:0.1:Hor_intercept;// in V\n",
"I_C= (V_CC-V_CE)/R_C;// in mA\n",
"// DC load line\n",
"plot(V_CE,I_C)\n",
"xlabel('V_CE in volts');\n",
"ylabel('I_C in mA')\n",
"title('DC load line')"
   ]
   }
,
{
		   "cell_type": "markdown",
		   "metadata": {},
		   "source": [
			"## Example 5.3: Value_of_IC_and_VCE.sce"
		   ]
		  },
  {
"cell_type": "code",
	   "execution_count": null,
	   "metadata": {
	    "collapsed": true
	   },
	   "outputs": [],
"source": [
"// Example 5.3\n",
"format('v',4)\n",
"clc;\n",
"clear;\n",
"close;\n",
"// given data\n",
"V_BE= 0.7;//in V\n",
"V_CC= 30;// in V\n",
"R_B= 390;// in kΩ\n",
"R_B= R_B*10^3;//in Ω\n",
"R_C= 1.5*10^3;//in Ω\n",
"bita= 80;// unit less\n",
"I_B= (V_CC-V_BE)/R_B;//in A\n",
"// The collector current,\n",
"I_C= bita*I_B;//in A\n",
"// The value of V_CE\n",
"V_CE= V_CC-I_C*R_C;//in V\n",
"I_C= I_C*10^3;// in mA\n",
"disp(I_C,'The value of I_C in mA is : ')\n",
"disp(V_CE,'The value of V_CE in volts is : ')"
   ]
   }
,
{
		   "cell_type": "markdown",
		   "metadata": {},
		   "source": [
			"## Example 5.4: LED_current.sce"
		   ]
		  },
  {
"cell_type": "code",
	   "execution_count": null,
	   "metadata": {
	    "collapsed": true
	   },
	   "outputs": [],
"source": [
"// Example 5.4\n",
"format('v',6)\n",
"clc;\n",
"clear;\n",
"close;\n",
"// given data\n",
"V_BE= 0.7;// in V\n",
"V_LED= 2;//in V\n",
"V_CC= 20;// in V\n",
"R_B= 47;// in kΩ\n",
"R_B= R_B*10^3;//in Ω\n",
"R_C= 1*10^3;//in Ω\n",
"bita= 150;// unit less\n",
"// The LED current\n",
"I_LED= (V_CC-V_LED)/R_C;// in A\n",
"I_Csat= I_LED;// in A\n",
"I_Bsat= I_Csat/bita;// in A\n",
"// The input voltage,\n",
"V_IN= I_Bsat*R_B+V_BE;//in V\n",
"I_LED= I_LED*10^3;// in mA\n",
"disp(I_LED,'The LED current in mA is : ');\n",
"disp(V_IN,'The value of Vin in volts is : ')"
   ]
   }
,
{
		   "cell_type": "markdown",
		   "metadata": {},
		   "source": [
			"## Example 5.5: DC_voltage.sce"
		   ]
		  },
  {
"cell_type": "code",
	   "execution_count": null,
	   "metadata": {
	    "collapsed": true
	   },
	   "outputs": [],
"source": [
"// Example 5.5\n",
"format('v',5)\n",
"clc;\n",
"clear;\n",
"close;\n",
"// given data\n",
"Vz= 10;// in V\n",
"V_BE= 0.7;// in V\n",
"V_CC= 30;// in V\n",
"R_E= 5;// in kΩ\n",
"R_E= R_E*10^3;//in Ω\n",
"R_C= 4;// in kΩ\n",
"R_C= R_C*10^3;//in Ω\n",
"V_E= Vz-V_BE;// in V\n",
"I_E= V_E/R_E;// in A\n",
"I_C= I_E;// in A\n",
"// The collector voltage\n",
"V_C= V_CC-I_C*R_C;// in V\n",
"disp(V_C,'The collector voltage in volts is : ')"
   ]
   }
,
{
		   "cell_type": "markdown",
		   "metadata": {},
		   "source": [
			"## Example 5.6: DC_collector_to_ground_voltage.sce"
		   ]
		  },
  {
"cell_type": "code",
	   "execution_count": null,
	   "metadata": {
	    "collapsed": true
	   },
	   "outputs": [],
"source": [
"// Example 5.6\n",
"format('v',6)\n",
"clc;\n",
"clear;\n",
"close;\n",
"// given data\n",
"V_BE= 0.7;// in V\n",
"R2= 1*10^3;//in Ω\n",
"R1= 3.9*10^3;//in Ω\n",
"R_E= 100;// in Ω\n",
"R_C= 150;// in kΩ\n",
"V_CC= 25;// in V\n",
"Vz= R2*V_CC/(R1+R2);// in V\n",
"V_E= Vz-V_BE;// in V\n",
"I_E= V_E/R_E;// in A\n",
"I_C= I_E;// in A\n",
"// The collector voltage \n",
"V_C= V_CC-I_C*R_C;// in V\n",
"disp(V_C,'The collector voltage in volts is : ')"
   ]
   }
,
{
		   "cell_type": "markdown",
		   "metadata": {},
		   "source": [
			"## Example 5.7: Value_of_Vc.sce"
		   ]
		  },
  {
"cell_type": "code",
	   "execution_count": null,
	   "metadata": {
	    "collapsed": true
	   },
	   "outputs": [],
"source": [
"// Example 5.7\n",
"format('v',5)\n",
"clc;\n",
"clear;\n",
"close;\n",
"// given data\n",
"R_E= 2*10^3;// in Ω\n",
"R_C= 1*10^3;// in kΩ\n",
"V_E= 4.3;//in V\n",
"V_CC= 15;// in V\n",
"I_E= V_E/R_E;// in A\n",
"I_C= I_E;//in A\n",
"// In the first stage the collector voltage \n",
"V_C= V_CC-I_C*R_C;// in A\n",
"disp(V_C,'In the first stage the collector voltage in volts is : ');\n",
"// Second stage\n",
"V_E= 2.3;// in V\n",
"R_E= 220;// in Ω\n",
"R_C= 470;// in Ω\n",
"I_E= V_E/R_E;// in A\n",
"I_C= I_E;//in A\n",
"// In the second stage the collector voltage \n",
"V_C= V_CC-I_C*R_C;// in A\n",
"disp(V_C,'In the second stage the collector voltage in volts is : ');\n",
"\n",
"// Note : In the book, the calculated value of collector voltage in first stage is not accurate."
   ]
   }
,
{
		   "cell_type": "markdown",
		   "metadata": {},
		   "source": [
			"## Example 5.8: Minimum_and_maximum_collector_current.sce"
		   ]
		  },
  {
"cell_type": "code",
	   "execution_count": null,
	   "metadata": {
	    "collapsed": true
	   },
	   "outputs": [],
"source": [
"// Example 5.8\n",
"format('v',6)\n",
"clc;\n",
"clear;\n",
"close;\n",
"// given data\n",
"V_BE= 0.7;//in V\n",
"V_CC= 30;// in V\n",
"R_B= 3*10^6;// in Ω\n",
"bitamin= 100;// unit less\n",
"bitamax= 300;// unit less\n",
"I_B= (V_CC-V_BE)/R_B;// in A\n",
"// The minimum value of collector current \n",
"I_Cmin= bitamin*I_B;// in A\n",
"// The maximum value of collector current \n",
"I_Cmax= bitamax*I_B;// in A\n",
"I_Cmin= I_Cmin*10^3;// in mA\n",
"I_Cmax= I_Cmax*10^3;// in mA\n",
"disp(I_Cmin,'The minimum value of collector current in mA is : ');\n",
"disp(I_Cmax,'The maximum value of collector current in mA is : ');"
   ]
   }
,
{
		   "cell_type": "markdown",
		   "metadata": {},
		   "source": [
			"## Example 5.9: IC_and_VCE.sce"
		   ]
		  },
  {
"cell_type": "code",
	   "execution_count": null,
	   "metadata": {
	    "collapsed": true
	   },
	   "outputs": [],
"source": [
"// Example 5.9\n",
"format('v',5)\n",
"clc;\n",
"clear;\n",
"close;\n",
"// given data\n",
"V_BE= 0.7;//in V\n",
"V_CC= 15;// in V\n",
"R_E= 100;// in Ω\n",
"R_C= 910;// in Ω\n",
"R_B= 430*10^3;// in Ω\n",
"bita= 300;// unit less\n",
"// The collector current,\n",
"I_C= (V_CC-V_BE)/(R_E+R_B/bita);// in A\n",
"I_C= I_C*10^3;// in mA\n",
"disp(I_C,'The value of I_C in mA is : ');\n",
"I_C= I_C*10^-3;// in A\n",
"// The collector to emitter voltage,\n",
"V_CE= V_CC-I_C*(R_C+R_E);// in V\n",
"disp(V_CE,'The value of V_CE in volts is : ')"
   ]
   }
],
"metadata": {
		  "kernelspec": {
		   "display_name": "Scilab",
		   "language": "scilab",
		   "name": "scilab"
		  },
		  "language_info": {
		   "file_extension": ".sce",
		   "help_links": [
			{
			 "text": "MetaKernel Magics",
			 "url": "https://github.com/calysto/metakernel/blob/master/metakernel/magics/README.md"
			}
		   ],
		   "mimetype": "text/x-octave",
		   "name": "scilab",
		   "version": "0.7.1"
		  }
		 },
		 "nbformat": 4,
		 "nbformat_minor": 0
}
