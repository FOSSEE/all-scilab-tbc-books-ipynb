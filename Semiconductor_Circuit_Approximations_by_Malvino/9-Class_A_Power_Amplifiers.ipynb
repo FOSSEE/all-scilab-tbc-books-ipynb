{
"cells": [
 {
		   "cell_type": "markdown",
	   "metadata": {},
	   "source": [
       "# Chapter 9: Class A Power Amplifiers"
	   ]
	},
{
		   "cell_type": "markdown",
		   "metadata": {},
		   "source": [
			"## Example 9.10: Maximum_ac_load_power.sce"
		   ]
		  },
  {
"cell_type": "code",
	   "execution_count": null,
	   "metadata": {
	    "collapsed": true
	   },
	   "outputs": [],
"source": [
"// Example 9.10\n",
"format('v',6)\n",
"clc;\n",
"clear;\n",
"close;\n",
"// given data\n",
"R_C= 3.6;// in kΩ\n",
"R_L= 1.5;// in kΩ\n",
"V_CEQ= 4.94;// in V\n",
"I_CQ= 1.1;// in mA\n",
"// The quiescent power dissipation of the transistor,\n",
"P_DQ= V_CEQ*I_CQ;// in mW\n",
"r_L= R_C*R_L/(R_C+R_L);// in kΩ\n",
"PP= 2*I_CQ*r_L;// in V\n",
"// The maximum ac load power,\n",
"P_Lmax= PP^2/(8*R_L);// in mW\n",
"disp(P_Lmax,'The maximum ac load power in mW is : ')"
   ]
   }
,
{
		   "cell_type": "markdown",
		   "metadata": {},
		   "source": [
			"## Example 9.11: Efficiency.sce"
		   ]
		  },
  {
"cell_type": "code",
	   "execution_count": null,
	   "metadata": {
	    "collapsed": true
	   },
	   "outputs": [],
"source": [
"// Example 9.11\n",
"format('v',6)\n",
"clc;\n",
"clear;\n",
"close;\n",
"// given data\n",
"V_E= 1.71;// in V\n",
"R_E= 240;// in Ω\n",
"V_CC= 12;// in V\n",
"R_C= 1*10^3;// in Ω\n",
"R_L= 1*10^3;// in Ω\n",
"I= 0.355*10^-3;// in A\n",
"I_CQ= V_E/R_E;// in A\n",
"I_C= I_CQ;// in A\n",
"// The collector emitter voltage,\n",
"V_CEQ= V_CC-I_C*(R_C+R_E);// in V\n",
"r_L= R_C*R_L/(R_C+R_L);// in Ω\n",
"PP= 2*V_CEQ;// in V\n",
"// The maximum ac load power,\n",
"P_Lmax= PP^2/(8*R_L);// in W\n",
"I_CC= I_C+I;// in A\n",
"P_CC= V_CC*I_CC;// in W\n",
"// The efficiency \n",
"Eta= P_Lmax/P_CC*100;// in %\n",
"disp(Eta,'The efficiency in % is : ')"
   ]
   }
,
{
		   "cell_type": "markdown",
		   "metadata": {},
		   "source": [
			"## Example 9.12: Power_rating.sce"
		   ]
		  },
  {
"cell_type": "code",
	   "execution_count": null,
	   "metadata": {
	    "collapsed": true
	   },
	   "outputs": [],
"source": [
"// Example 9.12\n",
"format('v',6)\n",
"clc;\n",
"clear;\n",
"close;\n",
"// given data\n",
"Ta= 70;// ambient temperature in °C\n",
"P= 30;// in power dissipation in W\n",
"theta_CS= 0.5;// in °C/W\n",
"theta_SA= 1.5;// in °C/W\n",
"// The case temperature\n",
"Tc= Ta+P*(theta_CS+theta_SA);// in °C\n",
"// The power rating\n",
"P_Dmax= 60;// in W\n",
"disp(Tc,'The case temperature in °C is : ');\n",
"disp(P_Dmax,'The power rating in watt is : ')"
   ]
   }
,
{
		   "cell_type": "markdown",
		   "metadata": {},
		   "source": [
			"## Example 9.1: DC_and_AC_load_line.sce"
		   ]
		  },
  {
"cell_type": "code",
	   "execution_count": null,
	   "metadata": {
	    "collapsed": true
	   },
	   "outputs": [],
"source": [
"// Example 9.1\n",
"format('v',6)\n",
"clc;\n",
"clear;\n",
"close;\n",
"// given data\n",
"V_CC= 10;// in V\n",
"V_BE= 0.7;// in V\n",
"R1= 2.2;// in kΩ\n",
"R2= 10;// in kΩ\n",
"R_E= 1;// in kΩ\n",
"R_C= 3.6;// in kΩ\n",
"R= 1.5;// in kΩ\n",
"// The base voltage\n",
"V_B= R1*V_CC/(R1+R2);// in V\n",
"// The emitter current,\n",
"I_E= (V_B-V_BE)/R_E;// in mA\n",
"// The collector current,\n",
"I_CQ= I_E;// in mA\n",
"// The collector emitter voltage,\n",
"V_CE= V_CC-I_E*(R_C+R_E);// in V\n",
"V_CEQ= V_CE;// in V\n",
"// The saturation current,\n",
"I_Csat= V_CC/(R_C+R_E);// in mA\n",
"V_CEcutoff= V_CC;// in V\n",
"V_CE= 0:0.1:V_CEcutoff;// in V\n",
"I_C= (V_CC-V_CE)/(R_C+R_E);// in mA\n",
"// The dc and ac load line\n",
"subplot(121)\n",
"plot(V_CE,I_C)\n",
"xlabel('V_CE in volts')\n",
"ylabel('I_C in mA');\n",
"title('DC load line')\n",
"r_L= R_C*R/(R_C+R);// in kΩ\n",
"I_Csat= I_CQ+V_CEQ/r_L;// in mA\n",
"Vce_cutoff= V_CEQ+I_CQ*r_L;// in V\n",
"x=[0 Vce_cutoff];\n",
"y=[I_Csat 0]\n",
"subplot(122)\n",
"plot(x,y)\n",
"xlabel('V_CE in volts')\n",
"ylabel('I_C in mA');\n",
"title('AC load line')\n",
"disp('DC and AC load line shown in figure.')"
   ]
   }
,
{
		   "cell_type": "markdown",
		   "metadata": {},
		   "source": [
			"## Example 9.2: Cut_off_value_of_VCE.sce"
		   ]
		  },
  {
"cell_type": "code",
	   "execution_count": null,
	   "metadata": {
	    "collapsed": true
	   },
	   "outputs": [],
"source": [
"// Example 9.2\n",
"format('v',5)\n",
"clc;\n",
"clear;\n",
"close;\n",
"// given data\n",
"V_BE= 0.7;// in V\n",
"V_CC= 30;// in V\n",
"R_E= 8.2;// in Ω\n",
"R1= 22;// in Ω\n",
"R2= 47;// in Ω\n",
"R_C= 10;// in Ω\n",
"R_L= 30;//in Ω\n",
"// The base to ground voltage,\n",
"V_B= R1*V_CC/(R1+R2);// in V\n",
"// The emitter current,\n",
"I_E= (V_B-V_BE)/R_E;// in A\n",
"// The collector current,\n",
"I_CQ= I_E;// in A\n",
"// The collector emitter voltage,\n",
"V_CEQ= V_CC-I_E*(R_E+R_C);// in V\n",
"// The load resistance,\n",
"r_L= R_C*R_L/(R_C+R_L);// in Ω\n",
"I_Csat= I_E+V_CEQ/r_L;// in A\n",
"Vce_cutoff= V_CEQ+I_CQ*r_L;// in V\n",
"disp(Vce_cutoff,'The cut off value of V_CE in volts is : ')\n",
""
   ]
   }
,
{
		   "cell_type": "markdown",
		   "metadata": {},
		   "source": [
			"## Example 9.3: cutt_of_value_of_VCE.sce"
		   ]
		  },
  {
"cell_type": "code",
	   "execution_count": null,
	   "metadata": {
	    "collapsed": true
	   },
	   "outputs": [],
"source": [
"// Example 9.3\n",
"format('v',6)\n",
"clc;\n",
"clear;\n",
"close;\n",
"// given data\n",
"V_BE= 0.7;// in V\n",
"V_CC= 20;// in V\n",
"V_B= 10;// in V\n",
"R_E= 50;// in Ω\n",
"// The collector current,\n",
"I_CQ= (V_B-V_BE)/R_E;// in A\n",
"// The collector emitter voltage,\n",
"V_CEQ= V_CC-I_CQ*R_E;// in V\n",
"R1= 50;// in Ω\n",
"R2= 50;// in Ω\n",
"// The load resistance,\n",
"r_L= R1*R2/(R1+R2);// in Ω\n",
"I_Csat= I_CQ+V_CEQ/r_L;// in A\n",
"Vce_cutoff= V_CEQ+I_CQ*r_L;// in V\n",
"disp(Vce_cutoff,'The cut off value of V_CE in volts is : ')\n",
""
   ]
   }
,
{
		   "cell_type": "markdown",
		   "metadata": {},
		   "source": [
			"## Example 9.4: AC_compliance.sce"
		   ]
		  },
  {
"cell_type": "code",
	   "execution_count": null,
	   "metadata": {
	    "collapsed": true
	   },
	   "outputs": [],
"source": [
"// Example 9.4\n",
"format('v',5)\n",
"clc;\n",
"clear;\n",
"close;\n",
"// given data\n",
"V_E= 1;// in V\n",
"R_E=1*10^3;// in Ω\n",
"V_CC= 10;// in V\n",
"R_C= 4*10^3;// in Ω\n",
"R_L= 10*10^3;// in Ω\n",
"// The collector current,\n",
"I_CQ= V_E/R_E;// in A\n",
"I_C= I_CQ;// in A\n",
"// The collector emitter voltage,\n",
"V_CEQ= V_CC-I_C*(R_C+R_E);// in V\n",
"// The load resistance,\n",
"r_L= R_L*R_C/(R_L+R_C);// in Ω\n",
"//The ac compliance,\n",
"PP= 2*I_CQ*r_L;// in V\n",
"disp(PP,'The ac compliance in volts is : ')"
   ]
   }
,
{
		   "cell_type": "markdown",
		   "metadata": {},
		   "source": [
			"## Example 9.5: Value_of_ICQrL.sce"
		   ]
		  },
  {
"cell_type": "code",
	   "execution_count": null,
	   "metadata": {
	    "collapsed": true
	   },
	   "outputs": [],
"source": [
"// Example 9.5\n",
"format('v',5)\n",
"clc;\n",
"clear;\n",
"close;\n",
"// given data\n",
"V_E= 1;// in V\n",
"R_E=1*10^3;// in Ω\n",
"R_C= 4*10^3;// in Ω\n",
"V_CC= 10;// in V\n",
"I_CQ= V_E/R_E;// in A\n",
"I_C= I_CQ;// in A\n",
"V_CEQ= V_CC-I_C*(R_C+R_E);// in V\n",
"// (i) when R_L = 1 MΩ, the value of 2I_CQrL\n",
"R_L= 1*10^6;// in Ω\n",
"r_L= R_L*R_C/(R_L+R_C);// in Ω\n",
"I_CQrL= I_CQ*r_L;//in A\n",
"disp(2*I_CQrL,'When R_L = 1 MΩ, the value of 2I_CQrL in volts is : ')\n",
"// (ii) when R_L = 100 kΩ, the value of 2I_CQrL\n",
"R_L= 100*10^3;// in Ω\n",
"r_L= R_L*R_C/(R_L+R_C);// in Ω\n",
"I_CQrL= I_CQ*r_L;//in A\n",
"disp(2*I_CQrL,'When R_L = 100 kΩ, the value of 2I_CQrL in volts is : ')\n",
"// (iii) when R_L = 10 kΩ, the value of 2I_CQrL\n",
"R_L= 10*10^3;// in Ω\n",
"r_L= R_L*R_C/(R_L+R_C);// in Ω\n",
"I_CQrL= I_CQ*r_L;//in A\n",
"disp(2*I_CQrL,'When R_L = 10 kΩ, the value of 2I_CQrL in volts is : ')\n",
"// (iv) when R_L = 1 kΩ, the value of 2I_CQrL\n",
"R_L= 1*10^3;// in Ω\n",
"r_L= R_L*R_C/(R_L+R_C);// in Ω\n",
"I_CQrL= I_CQ*r_L;//in A\n",
"disp(2*I_CQrL,'When R_L = 1 kΩ, the value of 2I_CQrL in volts is : ')\n",
"// (v) when R_L = 100 Ω, the value of 2I_CQrL\n",
"R_L= 100;// in Ω\n",
"r_L= R_L*R_C/(R_L+R_C);// in Ω\n",
"I_CQrL= I_CQ*r_L;//in A\n",
"disp(2*I_CQrL,'When R_L = 100 Ω, the value of 2I_CQrL in volts is : ')"
   ]
   }
,
{
		   "cell_type": "markdown",
		   "metadata": {},
		   "source": [
			"## Example 9.6: Voltage_divider_biased_stage.sce"
		   ]
		  },
  {
"cell_type": "code",
	   "execution_count": null,
	   "metadata": {
	    "collapsed": true
	   },
	   "outputs": [],
"source": [
"// Example 9.6\n",
"format('v',6)\n",
"clc;\n",
"clear;\n",
"close;\n",
"// given data\n",
"V_CC= 12;// in V\n",
"V_BE= 0.7;// in V\n",
"I_CQ= 5*10^-3;// in A\n",
"bita= 200;// unit less\n",
"// The emitter voltage,\n",
"V_E= 0.1*V_CC;// in V\n",
"// The emitter current,\n",
"I_E= I_CQ;// in A\n",
"// The emitter resistance,\n",
"R_E= V_E/I_E;// in Ω\n",
"// The collector resistance,\n",
"R_C= 4*R_E;// in Ω\n",
"// The base voltage,\n",
"V_B= V_E+V_BE;// in V\n",
"I_C= I_CQ;// in A\n",
"I_B= I_C/bita;// in A\n",
"R= V_CC/(10*I_B);// in Ω\n",
"R2= V_B/(10*I_B);// in Ω\n",
"R1= R-R2;// in Ω\n",
"R1= R1*10^-3;// in k ohm\n",
"R2= R2*10^-3;// in k ohm\n",
"R_C= R_C*10^-3;// in k ohm\n",
"disp('The value of R1 is    : '+string(R1)+' kΩ  (standard value : 39 kΩ)')\n",
"disp('The value of R2 is    : '+string(R2)+' kΩ  (standard value : 7.5 kΩ)')\n",
"disp('The value of R_E is   : '+string(R_E)+' Ω  (standard value : 240 Ω)')\n",
"disp('The value of R_C is   : '+string(R_C)+' kΩ  (standard value : 1 kΩ)')"
   ]
   }
,
{
		   "cell_type": "markdown",
		   "metadata": {},
		   "source": [
			"## Example 9.7: AC_compliance.sce"
		   ]
		  },
  {
"cell_type": "code",
	   "execution_count": null,
	   "metadata": {
	    "collapsed": true
	   },
	   "outputs": [],
"source": [
"// Example 9.7\n",
"format('v',6)\n",
"clc;\n",
"clear;\n",
"close;\n",
"// given data\n",
"I_CQ= 5*10^-3;// in A\n",
"R_C= 1*10^3;// in Ω\n",
"R_L= 1*10^3;// in Ω\n",
"// The load resistance\n",
"r_L= R_C*R_L/(R_C+R_L);// in Ω\n",
"// The ac compliance,\n",
"PP= 2*I_CQ*r_L;// in V\n",
"I_CQ= 5.15*10^-3;// in A\n",
"PP= 2*I_CQ*r_L;// in V\n",
"disp(PP,'The ac compliance in volts is : ')"
   ]
   }
,
{
		   "cell_type": "markdown",
		   "metadata": {},
		   "source": [
			"## Example 9.9: New_value_of_AC_compliance.sce"
		   ]
		  },
  {
"cell_type": "code",
	   "execution_count": null,
	   "metadata": {
	    "collapsed": true
	   },
	   "outputs": [],
"source": [
"// Example 9.9\n",
"format('v',6)\n",
"clc;\n",
"clear;\n",
"close;\n",
"// given data\n",
"V_CC= 12;// in V\n",
"V_BE= 0.7;// in V\n",
"R_C= 1*10^3;// in Ω\n",
"R_E= 240;// in Ω\n",
"r_L= 500;// in Ω\n",
"bita= 200;// unit less\n",
"// The required collector current,\n",
"I_CQ= V_CC/(R_C+R_E+r_L);// in A\n",
"// The emitter voltage,\n",
"V_E= I_CQ*R_E;// in V\n",
"// The base voltage,\n",
"V_B= V_E+V_BE;// in V\n",
"I_C= I_CQ;// in A\n",
"I_B= I_C/bita;// in A\n",
"// The total resistance of the voltage divider,\n",
"R= V_CC/(10*I_B);// in Ω\n",
"R2= V_B/(10*I_B);// in Ω\n",
"R1= R-R2;// in Ω\n",
"R1= R1*10^-3;// in k ohm\n",
"R2= R2*10^-3;// in k ohm\n",
"R_C= R_C*10^-3;// in k ohm\n",
"disp('The value of R1 is    : '+string(R1)+' kΩ  (standard value : 27 kΩ)')\n",
"disp('The value of R2 is    : '+string(R2)+' kΩ  (standard value : 6.8 kΩ)')\n",
"disp('The value of R_E is   : '+string(R_E)+' Ω  (standard value : 240 Ω)')\n",
"disp('The value of R_C is   : '+string(R_C)+' kΩ  (standard value : 1 kΩ)')\n",
"\n",
" "
   ]
   }
],
"metadata": {
		  "kernelspec": {
		   "display_name": "Scilab",
		   "language": "scilab",
		   "name": "scilab"
		  },
		  "language_info": {
		   "file_extension": ".sce",
		   "help_links": [
			{
			 "text": "MetaKernel Magics",
			 "url": "https://github.com/calysto/metakernel/blob/master/metakernel/magics/README.md"
			}
		   ],
		   "mimetype": "text/x-octave",
		   "name": "scilab",
		   "version": "0.7.1"
		  }
		 },
		 "nbformat": 4,
		 "nbformat_minor": 0
}
