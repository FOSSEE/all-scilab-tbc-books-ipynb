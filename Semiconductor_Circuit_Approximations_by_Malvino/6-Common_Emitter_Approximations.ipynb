{
"cells": [
 {
		   "cell_type": "markdown",
	   "metadata": {},
	   "source": [
       "# Chapter 6: Common Emitter Approximations"
	   ]
	},
{
		   "cell_type": "markdown",
		   "metadata": {},
		   "source": [
			"## Example 6.10: Ac_output_voltage_across_the_final_load_resistor.sce"
		   ]
		  },
  {
"cell_type": "code",
	   "execution_count": null,
	   "metadata": {
	    "collapsed": true
	   },
	   "outputs": [],
"source": [
"// Example 6.10\n",
"format('v',5)\n",
"clc;\n",
"clear;\n",
"close;\n",
"// given data\n",
"bita= 150;\n",
"R1= 10*10^3;// in Ω\n",
"R2= 2.2*10^3;// in Ω\n",
"R_E= 1*10^3;// in Ω\n",
"Rs= 1*10^3;// in Ω\n",
"R_C= 3.6*10^3;// in Ω\n",
"R_L= 1.5*10^3;// in Ω\n",
"V_CC= 10;// in V\n",
"V_BE= 0.7;// in V\n",
"Vt= 25*10^-3;// in V\n",
"Vin= 1*10^-3;// in V\n",
"V_B= R2*V_CC/(R1+R2);// in V\n",
"V_E= V_B-V_BE;// in V\n",
"I_E= V_E/R_E;// in A\n",
"r_desh_e= Vt/I_E;// in Ω\n",
"Zin_base= bita*r_desh_e;// in Ω\n",
"Zin= R1*R2*Zin_base/(R1*R2+R1*Zin_base+R2*Zin_base);// in Ω\n",
"Vb1= Zin*Vin/(Rs+Zin);// in V\n",
"r_L= R_C*Zin/(R_C+Zin);// in Ω\n",
"V_B= R2*V_CC/(R1+R2);// in V\n",
"V_E= V_B-V_BE;// in V\n",
"I_E= V_E/R_E;// in A\n",
"r_desh_e= Vt/I_E;// in Ω\n",
"A1= r_L/r_desh_e;\n",
"Vb2= A1*Vb1;// in V\n",
"r_L= R_C*R_L/(R_C+R_L);// in Ω\n",
"A2= r_L/r_desh_e;\n",
"// The ac output voltage across the final load resistor \n",
"Vout= A2*Vb2;// in V\n",
"A= A1*A2;\n",
"Vout= A*Vb1;// in V\n",
"disp(Vout,'The ac output voltage across the final load resistor in volts is : ')\n",
"\n",
"\n",
"\n",
""
   ]
   }
,
{
		   "cell_type": "markdown",
		   "metadata": {},
		   "source": [
			"## Example 6.11: Ac_voltage_at_the_final_output.sce"
		   ]
		  },
  {
"cell_type": "code",
	   "execution_count": null,
	   "metadata": {
	    "collapsed": true
	   },
	   "outputs": [],
"source": [
"// Example 6.11\n",
"format('v',6)\n",
"clc;\n",
"clear;\n",
"close;\n",
"// given data\n",
"bita= 150;\n",
"R1= 10*10^3;// in Ω\n",
"R2= 2.2*10^3;// in Ω\n",
"R_C= 3.6*10^3;// in Ω\n",
"Rs= 1*10^3;// in Ω\n",
"R_L= 1.5*10^3;// in Ω\n",
"r_E= 180;// in Ω\n",
"R_E= 1*10^3;// in Ω\n",
"V_CC= 10;// in V\n",
"V_BE= 0.7;// in V\n",
"Vt= 25*10^-3;// in V\n",
"Vin= 1*10^-3;// in V\n",
"V_B= R2*V_CC/(R1+R2);// in V\n",
"V_E= V_B-V_BE;// in V\n",
"I_E= V_E/R_E;// in A\n",
"r_desh_e= Vt/I_E;// in Ω\n",
"Zin_base= bita*(r_desh_e+r_E);// in Ω\n",
"Zin= R1*R2*Zin_base/(R1*R2+R1*Zin_base+R2*Zin_base);// in Ω\n",
"r_L= R_C*Zin/(R_C+Zin);// in Ω\n",
"A1= r_L/(r_E+r_desh_e);\n",
"r_L= R_C*R_L/(R_C+R_L);// in Ω\n",
"A2= r_L/(r_desh_e+r_E);\n",
"A= A1*A2;\n",
"Vb1= Zin*Vin/(Rs+Zin);// in V\n",
"// The ac voltage at the final output \n",
"Vout= A*Vb1;// in V\n",
"Vout= Vout*10^3;// in mV\n",
"disp(Vout,'The ac voltage at the final output in mV is : ')\n",
""
   ]
   }
,
{
		   "cell_type": "markdown",
		   "metadata": {},
		   "source": [
			"## Example 6.2: Total_voltage.sce"
		   ]
		  },
  {
"cell_type": "code",
	   "execution_count": null,
	   "metadata": {
	    "collapsed": true
	   },
	   "outputs": [],
"source": [
"// Example 6.2\n",
"format('v',4)\n",
"clc;\n",
"clear;\n",
"close;\n",
"// given data\n",
"R1= 10;// in Ω\n",
"R2= 10010;// in Ω\n",
"V1= 10;// in V\n",
"// The total voltage across the 10 Ω resistance \n",
"V= R1/R2*V1;// in V\n",
"V= V*10^3;// in mV\n",
"disp(V,'The total voltage across the 10 Ω resistance in mV is :');\n",
""
   ]
   }
,
{
		   "cell_type": "markdown",
		   "metadata": {},
		   "source": [
			"## Example 6.3: Total_current.sce"
		   ]
		  },
  {
"cell_type": "code",
	   "execution_count": null,
	   "metadata": {
	    "collapsed": true
	   },
	   "outputs": [],
"source": [
"// Example 6.3\n",
"format('v',6)\n",
"clc;\n",
"clear;\n",
"close;\n",
"// given data\n",
"R= 10*10^3;// in Ω\n",
"V_CC= 15;// in V\n",
"V_BE= 0.7;// in V\n",
"Vt= 25*10^-3;// in V\n",
"Vp= 1*10^-3;// in V\n",
"I= (V_CC-V_BE)/R;// in A\n",
"r_ac= Vt/I;// in Ω\n",
"// The total current through diode \n",
"Ip= Vp/r_ac;// in A\n",
"Ip= Ip*10^6;// in µA\n",
"disp(Ip,'The total current through diode in µA is : ')\n",
"\n",
""
   ]
   }
,
{
		   "cell_type": "markdown",
		   "metadata": {},
		   "source": [
			"## Example 6.4: Input_impedence.sce"
		   ]
		  },
  {
"cell_type": "code",
	   "execution_count": null,
	   "metadata": {
	    "collapsed": true
	   },
	   "outputs": [],
"source": [
"// Example 6.4\n",
"format('v',5)\n",
"clc;\n",
"clear;\n",
"close;\n",
"// given data\n",
"R1= 47*10^3;// in Ω\n",
"R2= 15*10^3;// in Ω\n",
"R_E= 8.2*10^3;// in Ω\n",
"R_C= 10*10^3;// in Ω\n",
"R3= 3.3*10^3;// in Ω\n",
"bita= 200;\n",
"V_CC= 30;// in V\n",
"V_BE= 0.7;// in V\n",
"Vin= 5*10^-3;//in V\n",
"Vt= 25*10^-3;// in V\n",
"V2= R2*V_CC/(R1+R2);// in V\n",
"// DC voltage across emitter\n",
"V_E= V2-V_BE;// in V\n",
"// Emitter current\n",
"I_E= V_E/R_E;// in A\n",
"r_desh_e= Vt/I_E;// in Ω\n",
"r_L= R_C*R3/(R_C+R3);//in Ω\n",
"A= r_L/r_desh_e;\n",
"// The output voltage \n",
"Vout= A*Vin;// in V\n",
"Zin_base= bita*r_desh_e;// in Ω\n",
"// The input impedance of amplifier \n",
"Zin= R1*R2*Zin_base/(R2*Zin_base+R1*Zin_base+R1*R2);// in Ω\n",
"Vout= Vout*10^3;// in mV\n",
"Zin= Zin*10^-3;// in k ohm\n",
"disp(Vout,'The output voltage in mV is : ')\n",
"disp(Zin,'The input impedance of amplifier in kΩ is : ')\n",
"\n",
""
   ]
   }
,
{
		   "cell_type": "markdown",
		   "metadata": {},
		   "source": [
			"## Example 6.5: Value_of_VB.sce"
		   ]
		  },
  {
"cell_type": "code",
	   "execution_count": null,
	   "metadata": {
	    "collapsed": true
	   },
	   "outputs": [],
"source": [
"// Example 6.5\n",
"format('v',5)\n",
"clc;\n",
"clear;\n",
"close;\n",
"// given data\n",
"R1= 10*10^3;// in Ω\n",
"R2= 2.2*10^3;// in Ω\n",
"R_C= 3.6*10^3;// in Ω\n",
"V_CC= 10;// in V\n",
"I_C= 1.1*10^-3;// in A\n",
"// The base voltage \n",
"V_B= R2*V_CC/(R1+R2);// in V\n",
"// The collector voltage \n",
"V_C= V_CC-I_C*R_C;// in V\n",
"disp(V_B,'The base voltage in V is : ')\n",
"disp(V_C,'The collector voltage in V is : ')"
   ]
   }
,
{
		   "cell_type": "markdown",
		   "metadata": {},
		   "source": [
			"## Example 6.6: Ac_output_voltage.sce"
		   ]
		  },
  {
"cell_type": "code",
	   "execution_count": null,
	   "metadata": {
	    "collapsed": true
	   },
	   "outputs": [],
"source": [
"// Example 6.6\n",
"format('v',6)\n",
"clc;\n",
"clear;\n",
"close;\n",
"// given data\n",
"V2= 1.1;// in V\n",
"Vin= 1*10^-3;// in V\n",
"Vt= 25*10^-3;// in V\n",
"R2= 1*10^3;// in Ω\n",
"R_C= 3.6*10^3;// in Ω\n",
"I_E= V2/R2;// in A\n",
"// Emitter diode ac resistance\n",
"r_desh_e= Vt/I_E;// in Ω\n",
"A= R_C/r_desh_e;\n",
"// The output voltage \n",
"Vout= A*Vin;// in V\n",
"Vout= Vout*10^3;// in mV\n",
"disp(Vout,'The output voltage in mV is : ')"
   ]
   }
,
{
		   "cell_type": "markdown",
		   "metadata": {},
		   "source": [
			"## Example 6.7: Minimum_and_maximum_voltage_gain.sce"
		   ]
		  },
  {
"cell_type": "code",
	   "execution_count": null,
	   "metadata": {
	    "collapsed": true
	   },
	   "outputs": [],
"source": [
"// Example 6.7\n",
"format('v',5)\n",
"clc;\n",
"clear;\n",
"close;\n",
"// given data\n",
"R_C= 10*10^3;// in Ω\n",
"R_L= 82*10^3;// in Ω\n",
"r_E= 1*10^3;// in Ω\n",
"r_desh_e_min= 50;// in Ω\n",
"r_desh_e_max= 100;// in Ω\n",
"r_L= R_C*R_L/(R_C+R_L);// in Ω\n",
"// The minimum voltage gain \n",
"A_min= r_L/r_desh_e_max;\n",
"// The maximum voltage gain \n",
"A_max= r_L/r_desh_e_min;\n",
"disp(A_min,'The minimum voltage gain is : ')\n",
"disp(A_max,'The maximum voltage gain is : ')"
   ]
   }
,
{
		   "cell_type": "markdown",
		   "metadata": {},
		   "source": [
			"## Example 6.8: Input_impedance_of_the_amplifier.sce"
		   ]
		  },
  {
"cell_type": "code",
	   "execution_count": null,
	   "metadata": {
	    "collapsed": true
	   },
	   "outputs": [],
"source": [
"// Example 6.8\n",
"format('v',5)\n",
"clc;\n",
"clear;\n",
"close;\n",
"// given data\n",
"bita= 200;\n",
"R1= 47*10^3;// in Ω\n",
"R2= 15*10^3;// in Ω\n",
"r_E=  1*10^3;// in Ω\n",
"r_desh_e= 50;// in Ω\n",
"Zin_base= bita*(r_E+r_desh_e);// in Ω\n",
"// The input impedance of the amplifier \n",
"Zin= R1*R2*Zin_base/(R1*R2+R1*Zin_base+R2*Zin_base);// in Ω\n",
"Zin= Zin*10^-3;// in k ohm\n",
"disp(Zin,'The input impedance of the amplifier in kΩ is : ')\n",
""
   ]
   }
,
{
		   "cell_type": "markdown",
		   "metadata": {},
		   "source": [
			"## Example 6.9: Input_impedance_of_each_stage.sce"
		   ]
		  },
  {
"cell_type": "code",
	   "execution_count": null,
	   "metadata": {
	    "collapsed": true
	   },
	   "outputs": [],
"source": [
"// Example 6.9\n",
"format('v',5)\n",
"clc;\n",
"clear;\n",
"close;\n",
"// given data\n",
"bita= 150;\n",
"R1= 10*10^3;// in Ω\n",
"R2= 2.2*10^3;// in Ω\n",
"R_E= 1*10^3;// in Ω\n",
"V_CC= 10;// in V\n",
"V_BE= 0.7;// in V\n",
"Vt= 25*10^-3;// in V\n",
"V_B= R2*V_CC/(R1+R2);// in V\n",
"V_E= V_B-V_BE;// in V\n",
"// The emitter current,\n",
"I_E= V_E/R_E;// in A\n",
"r_desh_e= Vt/I_E;// in Ω\n",
"Zin_base= bita*r_desh_e;// in Ω\n",
"// The input impedance of each stage \n",
"Zin= R1*R2*Zin_base/(R1*R2+R1*Zin_base+R2*Zin_base);// in Ω\n",
"Zin= Zin*10^-3;// in k ohm\n",
"disp(Zin,'The input impedance of each stage in kΩ is : ')\n",
""
   ]
   }
],
"metadata": {
		  "kernelspec": {
		   "display_name": "Scilab",
		   "language": "scilab",
		   "name": "scilab"
		  },
		  "language_info": {
		   "file_extension": ".sce",
		   "help_links": [
			{
			 "text": "MetaKernel Magics",
			 "url": "https://github.com/calysto/metakernel/blob/master/metakernel/magics/README.md"
			}
		   ],
		   "mimetype": "text/x-octave",
		   "name": "scilab",
		   "version": "0.7.1"
		  }
		 },
		 "nbformat": 4,
		 "nbformat_minor": 0
}
