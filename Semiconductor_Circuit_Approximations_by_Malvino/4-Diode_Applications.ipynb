{
"cells": [
 {
		   "cell_type": "markdown",
	   "metadata": {},
	   "source": [
       "# Chapter 4: Diode Applications"
	   ]
	},
{
		   "cell_type": "markdown",
		   "metadata": {},
		   "source": [
			"## Example 4.1: DC_voltage_across_load_resistance.sce"
		   ]
		  },
  {
"cell_type": "code",
	   "execution_count": null,
	   "metadata": {
	    "collapsed": true
	   },
	   "outputs": [],
"source": [
"// Example 4.1\n",
"format('v',5)\n",
"clc;\n",
"clear;\n",
"close;\n",
"// given data\n",
"V2rms= 40;// in V\n",
"R_L= 20;// in Ω\n",
"V2peak= V2rms/0.707;// in V\n",
"Vout_peak= V2peak;// in V\n",
"// The dc voltage across the load resistor \n",
"Vdc=0.318*Vout_peak;// in V\n",
"//The peak inverse voltage across the diode \n",
"PIV= V2peak;// in V\n",
"Idc= Vdc/R_L;// in A\n",
"// The dc current through the diode \n",
"I_diode= Idc;// in A\n",
"disp(Vdc,'The dc voltage across the load resistor in volts is : ');\n",
"disp(PIV,'The peak inverse voltage across the diode in volts is : ');\n",
"disp(I_diode,'The dc current through the diode in A is : ')"
   ]
   }
,
{
		   "cell_type": "markdown",
		   "metadata": {},
		   "source": [
			"## Example 4.2: DC_current_through_each_diode.sce"
		   ]
		  },
  {
"cell_type": "code",
	   "execution_count": null,
	   "metadata": {
	    "collapsed": true
	   },
	   "outputs": [],
"source": [
"// Example 4.2\n",
"format('v',5)\n",
"clc;\n",
"clear;\n",
"close;\n",
"// given data\n",
"Vrms= 40;// in V\n",
"R_L= 20;// in Ω\n",
"V2peak= Vrms/0.707;// in V\n",
"Vout_peak= V2peak/2;// in V\n",
"// The dc load voltage \n",
"Vdc=0.636*Vout_peak;// in V\n",
"// The peak inverse voltage across each diode \n",
"PIV= V2peak;// in V\n",
"Idc= Vdc/R_L;// in A\n",
"// The dc current through each diode \n",
"I_diode= Idc/2;// in A\n",
"disp(Vdc,'The dc load voltage in volts is : ');\n",
"disp(PIV,'The peak inverse voltage across each diode in volts is : ');\n",
"disp(I_diode,'The dc current through each diode in A is : ')"
   ]
   }
,
{
		   "cell_type": "markdown",
		   "metadata": {},
		   "source": [
			"## Example 4.3: Value_of_Vdc_and_PIV.sce"
		   ]
		  },
  {
"cell_type": "code",
	   "execution_count": null,
	   "metadata": {
	    "collapsed": true
	   },
	   "outputs": [],
"source": [
"// Example 4.3\n",
"format('v',5)\n",
"clc;\n",
"clear;\n",
"close;\n",
"// given data\n",
"Vrms= 40;// in V\n",
"R_L= 20;// in Ω\n",
"V2peak= Vrms/0.707;// in V\n",
"Vout_peak= V2peak;// in V\n",
"// The value of Vdc \n",
"Vdc=0.636*Vout_peak;// in V\n",
"// The value of PIV \n",
"PIV= V2peak;// in V\n",
"Idc= Vdc/R_L;// in A\n",
"//The value of I_diode\n",
"I_diode= Idc/2;// in A\n",
"disp(Vdc,'The value of Vdc in volts is : ');\n",
"disp(PIV,'The value of PIV in volts is : ');\n",
"disp(I_diode,'The value of I_diode in A is : ')"
   ]
   }
,
{
		   "cell_type": "markdown",
		   "metadata": {},
		   "source": [
			"## Example 4.6: DC_load_voltage.sce"
		   ]
		  },
  {
"cell_type": "code",
	   "execution_count": null,
	   "metadata": {
	    "collapsed": true
	   },
	   "outputs": [],
"source": [
"// Example 4.6\n",
"format('v',5)\n",
"clc;\n",
"clear;\n",
"close;\n",
"// given data\n",
"Vdc= 56.6;// in V\n",
"R_L= 100;// in Ω\n",
"f=120;// in Hz\n",
"C= 1000;// in µF\n",
"C= C*10^-6;// in F\n",
"V2peak= Vdc;// in V\n",
"Idc= Vdc/R_L;// in A\n",
"// The peak-to-peak ripple \n",
"Vrip= Idc/(f*C);// in V\n",
"// The dc load voltage \n",
"Vdc= V2peak-Vrip/2;// in V\n",
"disp(Vrip,'The peak-to-peak ripple in volts is : ');\n",
"disp(Vdc,'The dc load voltage in volts is : ')"
   ]
   }
,
{
		   "cell_type": "markdown",
		   "metadata": {},
		   "source": [
			"## Example 4.8: Zener_current.sce"
		   ]
		  },
  {
"cell_type": "code",
	   "execution_count": null,
	   "metadata": {
	    "collapsed": true
	   },
	   "outputs": [],
"source": [
"// Example 4.8\n",
"format('v',5)\n",
"clc;\n",
"clear;\n",
"close;\n",
"// given data\n",
"V2rms= 12.6;// in V\n",
"V_Z= 6.8;// in V\n",
"V2peak= V2rms/0.707;// in V\n",
"Vin= V2peak;// in V\n",
"Vout= V_Z;// in V\n",
"R_L= 1.2;// in kΩ\n",
"R_L= R_L*10^3;//in Ω\n",
"Rs= 1;// in kΩ\n",
"Rs= Rs*10^3;// in Ω\n",
"Is= (Vin-Vout)/Rs;// in A\n",
"I_L= Vout/R_L;// in A\n",
"// The zener current \n",
"Iz= Is-I_L;// in A\n",
"Iz= Iz*10^3;// in mA\n",
"disp(Iz,'The zener current in mA is : ')\n",
"\n",
"// Note: The calculation in the book is not accurate."
   ]
   }
,
{
		   "cell_type": "markdown",
		   "metadata": {},
		   "source": [
			"## Example 4.9: Ripple_across_the_load_current.sce"
		   ]
		  },
  {
"cell_type": "code",
	   "execution_count": null,
	   "metadata": {
	    "collapsed": true
	   },
	   "outputs": [],
"source": [
"// Example 4.9\n",
"format('v',5)\n",
"clc;\n",
"clear;\n",
"close;\n",
"// given data\n",
"C= 100;//in µF\n",
"C= C*10^-6;// in F\n",
"Rz= 5;//in Ω\n",
"Rs= 1*10^3;//in Ω\n",
"Idc= 11*10^-3;//in A\n",
"f=120;//in Hz\n",
"Vin_rip= Idc/(f*C);// in V\n",
"// The ripple across the load resistance \n",
"Vout_rip= Rz*Vin_rip/(Rs+Rz);//in A\n",
"Vout_rip= Vout_rip*10^3;// in mV\n",
"disp(Vout_rip,'The ripple across the load resistance in mV is : ')"
   ]
   }
],
"metadata": {
		  "kernelspec": {
		   "display_name": "Scilab",
		   "language": "scilab",
		   "name": "scilab"
		  },
		  "language_info": {
		   "file_extension": ".sce",
		   "help_links": [
			{
			 "text": "MetaKernel Magics",
			 "url": "https://github.com/calysto/metakernel/blob/master/metakernel/magics/README.md"
			}
		   ],
		   "mimetype": "text/x-octave",
		   "name": "scilab",
		   "version": "0.7.1"
		  }
		 },
		 "nbformat": 4,
		 "nbformat_minor": 0
}
