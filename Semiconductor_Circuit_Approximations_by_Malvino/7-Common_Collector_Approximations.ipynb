{
"cells": [
 {
		   "cell_type": "markdown",
	   "metadata": {},
	   "source": [
       "# Chapter 7: Common Collector Approximations"
	   ]
	},
{
		   "cell_type": "markdown",
		   "metadata": {},
		   "source": [
			"## Example 7.10: Input_impedance.sce"
		   ]
		  },
  {
"cell_type": "code",
	   "execution_count": null,
	   "metadata": {
	    "collapsed": true
	   },
	   "outputs": [],
"source": [
"// Example 7.10\n",
"format('v',5)\n",
"clc;\n",
"clear;\n",
"close;\n",
"// given data\n",
"R_E= 360;// in Ω\n",
"R_L= 1*10^3;// in Ω\n",
"R1= 100*10^3;//in Ω\n",
"R2= 100*10^3;//in Ω\n",
"r_desh_e1= 250;// in Ω\n",
"r_desh_e2= 2.5;// in Ω\n",
"h_FE= 100;\n",
"h_fe= 100;\n",
"// The load resistance,\n",
"r_L= R_E*R_L/(R_E+R_L);// in Ω\n",
"Zin1= h_FE*h_fe*r_L;// in Ω\n",
"Zin= R1*R2*Zin1/(R1*R2+R2*Zin1+Zin1*R1);// in Ω\n",
"Zin2= h_FE*(r_L+r_desh_e2);// in Ω\n",
"Zin1= h_FE*(Zin2+r_desh_e1);// in Ω\n",
"// The input impedence \n",
"Zin= R1*R2*Zin1/(R1*R2+R2*Zin1+Zin1*R1);// in Ω\n",
"Zin= Zin*10^-3;// in k ohm\n",
"disp(Zin,'The input impedence in kΩ is : ')"
   ]
   }
,
{
		   "cell_type": "markdown",
		   "metadata": {},
		   "source": [
			"## Example 7.11: Zener_current.sce"
		   ]
		  },
  {
"cell_type": "code",
	   "execution_count": null,
	   "metadata": {
	    "collapsed": true
	   },
	   "outputs": [],
"source": [
"// Example 7.11\n",
"format('v',5)\n",
"clc;\n",
"clear;\n",
"close;\n",
"// given data\n",
"Vin= 20;// in V\n",
"Vz= 10;// in V\n",
"Rs= 680;// in Ω\n",
"V_BE= 0.7;// in V\n",
"R_L= 15;// in Ω\n",
"bita= 80;\n",
"Is= (Vin-Vz)/Rs;// in A\n",
"Vout= Vz-V_BE;// in V\n",
"I_E= Vout/R_L;// in A\n",
"I_L= I_E;// in A\n",
"I_B= I_E/bita;// in A\n",
"// The current through the zener diode \n",
"Iz= Is-I_B;// in A\n",
"V_CE= Vin-Vout;// in V\n",
"// The transistor power dissipation \n",
"Po= I_L*(Vin-Vout);// in W\n",
"Iz= Iz*10^3;// in mA\n",
"disp(Iz,'The current through the zener diode in mA is : ');\n",
"disp(Po,'The transistor power dissipation in watt is : ')"
   ]
   }
,
{
		   "cell_type": "markdown",
		   "metadata": {},
		   "source": [
			"## Example 7.1: DC_load_line_and_Q_point.sce"
		   ]
		  },
  {
"cell_type": "code",
	   "execution_count": null,
	   "metadata": {
	    "collapsed": true
	   },
	   "outputs": [],
"source": [
"// Example 7.1\n",
"format('v',6)\n",
"clc;\n",
"clear;\n",
"close;\n",
"// given data\n",
"V_CC= 10;// in V\n",
"R_E= 430;// in Ω\n",
"V_BE= 0.7;//in V\n",
"V_B= 5;//in V\n",
"// The collector saturation current,\n",
"I_Csat= V_CC/R_E;// in A\n",
"// The collector emitter voltage,\n",
"V_CEcutoff= V_CC;// in V\n",
"// The collector current,\n",
"I_C= (V_B-V_BE)/R_E;// in A\n",
"// The collector emitter voltage,\n",
"V_CE= V_CC-(V_B-V_BE);// in V\n",
"I_C= I_C*10^3;// in mA\n",
"disp('Q-point is : '+string(V_CE)+' V, '+string(I_C)+' mA');\n",
"disp('DC load line shown in figure')\n",
"I_C= I_C*10^-3;// in A\n",
"V_CE= 0:0.1:V_CEcutoff;// in V\n",
"I_C= (V_CC-V_CE)/R_E*10^3;// in mA\n",
"// The plot of DC load line\n",
"plot(V_CE,I_C);\n",
"xlabel('V_CE in volts');\n",
"ylabel('I_C in mA');\n",
"title('DC load line')"
   ]
   }
,
{
		   "cell_type": "markdown",
		   "metadata": {},
		   "source": [
			"## Example 7.2: AC_output_voltage.sce"
		   ]
		  },
  {
"cell_type": "code",
	   "execution_count": null,
	   "metadata": {
	    "collapsed": true
	   },
	   "outputs": [],
"source": [
"// Example 7.2\n",
"format('v',5)\n",
"clc;\n",
"clear;\n",
"close;\n",
"// given data\n",
"Vin= 100;// in mV\n",
"Vin= Vin*10^-3;// in V\n",
"R_E= 430;// in Ω\n",
"R_L= 1*10^3;// in Ω\n",
"r_e= 2.5;// in Ω\n",
"// The ac load resistance,\n",
"r_L= R_E*R_L/(R_E+R_L);// in Ω\n",
"A= r_L/(r_L+r_e);// unit less\n",
"// The output voltage \n",
"Vout= A*Vin;// in V\n",
"Vout= Vout*10^3;// in mV\n",
"disp(Vout,'The output voltage in mV is : ')"
   ]
   }
,
{
		   "cell_type": "markdown",
		   "metadata": {},
		   "source": [
			"## Example 7.3: Voltage_gai.sce"
		   ]
		  },
  {
"cell_type": "code",
	   "execution_count": null,
	   "metadata": {
	    "collapsed": true
	   },
	   "outputs": [],
"source": [
"// Example 7.3\n",
"format('v',5)\n",
"clc;\n",
"clear;\n",
"close;\n",
"// given data\n",
"R_E= 430;// in Ω\n",
"R_L= 100;// in Ω\n",
"R1= 10*10^3;// in Ω\n",
"R2= 10*10^3;// in Ω\n",
"bita= 200;// unit less\n",
"r_e= 2.5;// in Ω\n",
"r_L= R_E*R_L/(R_E+R_L);// in Ω\n",
"// The voltge gain \n",
"A= r_L/(r_L+r_e);\n",
"disp(A,'The voltge gain is : ')\n",
"Zin_base= bita*(r_L+r_e);// in Ω\n",
"// The input impedence \n",
"Zin= R1*R2*Zin_base/(R1*R2+R2*Zin_base+Zin_base*R1);// in Ω\n",
"Zin= Zin*10^-3;// in k ohm\n",
"disp(Zin,'The input impedence in kΩ is : ')"
   ]
   }
,
{
		   "cell_type": "markdown",
		   "metadata": {},
		   "source": [
			"## Example 7.4: Power_gai.sce"
		   ]
		  },
  {
"cell_type": "code",
	   "execution_count": null,
	   "metadata": {
	    "collapsed": true
	   },
	   "outputs": [],
"source": [
"// Example 7.4\n",
"format('v',6)\n",
"clc;\n",
"clear;\n",
"close;\n",
"// given data\n",
"R_E= 430;// in Ω\n",
"R_L= 100;// in Ω\n",
"R1= 10*10^3;// in Ω\n",
"R2= 10*10^3;// in Ω\n",
"bita= 200;\n",
"r_e= 2.5;// in Ω\n",
"// The load resistance\n",
"r_L= R_E*R_L/(R_E+R_L);// in Ω\n",
"// The power gain \n",
"G= bita*r_L/(r_L+r_e);\n",
"disp(G,'The power gain is : ')"
   ]
   }
,
{
		   "cell_type": "markdown",
		   "metadata": {},
		   "source": [
			"## Example 7.5: AC_output_voltage.sce"
		   ]
		  },
  {
"cell_type": "code",
	   "execution_count": null,
	   "metadata": {
	    "collapsed": true
	   },
	   "outputs": [],
"source": [
"// Example 7.5\n",
"format('v',5)\n",
"clc;\n",
"clear;\n",
"close;\n",
"// given data\n",
"R_C= 5*10^3;// in Ω\n",
"r_e= 25;// in Ω\n",
"Vin= 1*10^-3;// in V\n",
"R_L= 1*10^3;// in Ω\n",
"A= R_C/r_e;\n",
"// Thevenin voltage,\n",
"V_TH= A*Vin;// in V\n",
"// The ac output voltage \n",
"Vout= R_L*V_TH/(R_C+R_L);// in V\n",
"Vout= Vout*10^3;// in mV\n",
"disp(Vout,'The ac output voltage in mV is : ')"
   ]
   }
,
{
		   "cell_type": "markdown",
		   "metadata": {},
		   "source": [
			"## Example 7.7: AC_output_voltage.sce"
		   ]
		  },
  {
"cell_type": "code",
	   "execution_count": null,
	   "metadata": {
	    "collapsed": true
	   },
	   "outputs": [],
"source": [
"// Example 7.7\n",
"format('v',5)\n",
"clc;\n",
"clear;\n",
"close;\n",
"// given data\n",
"V_B= 1.8;// in V\n",
"V_E= 1.1;// in V\n",
"V_TH= 200*10^-3;// in V\n",
"I_E= 1*10^-3;// in A\n",
"r_e= 2.5;//in Ω\n",
"bita=200;\n",
"V_CC= 10;// in V\n",
"R_C= 5*10^3;// in Ω\n",
"R_E= 430;// in Ω\n",
"R_L= 1*10^3;//in Ω\n",
"I_C= I_E;// in A\n",
"// The collector voltage,\n",
"V_C= V_CC-I_C*R_C;// in V\n",
"V_E= 4.3;// in V\n",
"// The emitter current,\n",
"I_E= V_E/R_E;// in A\n",
"// The base current,\n",
"I_B= I_E/bita;// in A\n",
"// The load resistance,\n",
"r_L= R_E*R_L/(R_E+R_L);// in Ω\n",
"Zin= bita*(r_L+r_e);// in Ω\n",
"Vin= Zin*V_TH/(R_C+Zin);// in V\n",
"// The ac output voltage\n",
"Vout= r_L*Vin/(r_L+r_e);//in V\n",
"Vout= Vout*10^3;// in mV\n",
"disp(Vout,'The ac output voltage in mV is : ')"
   ]
   }
,
{
		   "cell_type": "markdown",
		   "metadata": {},
		   "source": [
			"## Example 7.9: re1_and_re2.sce"
		   ]
		  },
  {
"cell_type": "code",
	   "execution_count": null,
	   "metadata": {
	    "collapsed": true
	   },
	   "outputs": [],
"source": [
"// Example 7.9\n",
"format('v',6)\n",
"clc;\n",
"clear;\n",
"close;\n",
"// given data\n",
"R1= 100;//in kΩ\n",
"R2= 100;//in kΩ\n",
"R3= 360;//in Ω\n",
"bita= 100;\n",
"V1= 5;// in V\n",
"v1= 1.4;// in V\n",
"v2= 25;// in mV\n",
"// Voltage at first base\n",
"V2= R1/R2*V1;// in V\n",
"// Emitter current in second transistor\n",
"I_E2= (V2-v1)/R3;// in A\n",
"I_E2= I_E2*10^3;// in mA\n",
"// Resistance of second emitter diode,\n",
"r_desh_e2= v2/I_E2;// in Ω\n",
"// Base current\n",
"I_B2= I_E2/bita;// in mA \n",
"// Emitter current,\n",
"I_E1= I_B2;// in mA\n",
"// First emitter diode resistance\n",
"r_desh_e1= v2/I_E1;// in Ω\n",
"disp(r_desh_e2,'The value of r''e2 in Ω is : ')\n",
"disp(r_desh_e1,'The value of r''e1 in Ω is : ')"
   ]
   }
],
"metadata": {
		  "kernelspec": {
		   "display_name": "Scilab",
		   "language": "scilab",
		   "name": "scilab"
		  },
		  "language_info": {
		   "file_extension": ".sce",
		   "help_links": [
			{
			 "text": "MetaKernel Magics",
			 "url": "https://github.com/calysto/metakernel/blob/master/metakernel/magics/README.md"
			}
		   ],
		   "mimetype": "text/x-octave",
		   "name": "scilab",
		   "version": "0.7.1"
		  }
		 },
		 "nbformat": 4,
		 "nbformat_minor": 0
}
