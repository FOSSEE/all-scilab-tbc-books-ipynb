{
"cells": [
 {
		   "cell_type": "markdown",
	   "metadata": {},
	   "source": [
       "# Chapter 2: Rectifier Diodes"
	   ]
	},
{
		   "cell_type": "markdown",
		   "metadata": {},
		   "source": [
			"## Example 2.1: Output_voltage.sce"
		   ]
		  },
  {
"cell_type": "code",
	   "execution_count": null,
	   "metadata": {
	    "collapsed": true
	   },
	   "outputs": [],
"source": [
"// Example 2.1\n",
"clc;\n",
"clear;\n",
"close;\n",
"format('v',6)\n",
"// given data\n",
"Vin= 15;// in V\n",
"R_L= 10;// in kΩ\n",
"// The output voltage\n",
"Vout= Vin ;// in V\n",
"// The current\n",
"I= Vout/R_L;// in mA\n",
"disp(Vout,'The output voltage in volts is : ');\n",
"disp(I,'The current in mA is : ');"
   ]
   }
,
{
		   "cell_type": "markdown",
		   "metadata": {},
		   "source": [
			"## Example 2.2: Output_voltage.sce"
		   ]
		  },
  {
"cell_type": "code",
	   "execution_count": null,
	   "metadata": {
	    "collapsed": true
	   },
	   "outputs": [],
"source": [
"// Example 2.2\n",
"clc;\n",
"clear;\n",
"close;\n",
"format('v',6)\n",
"// given data\n",
"Vin= 15;// in V\n",
"I=0;\n",
"R_L= 10;// in kΩ\n",
"R_L= R_L*10^3;// in Ω\n",
"// The output voltage \n",
"Vout= I*R_L;// in V\n",
"// The voltage across the diode \n",
"V_R= Vin-Vout;// in V\n",
"disp(Vout,'The output voltage in volts is : ');\n",
"disp(V_R,'The voltage across the diode in volts is : ');"
   ]
   }
,
{
		   "cell_type": "markdown",
		   "metadata": {},
		   "source": [
			"## Example 2.4: Maximum_reverse_voltage.sce"
		   ]
		  },
  {
"cell_type": "code",
	   "execution_count": null,
	   "metadata": {
	    "collapsed": true
	   },
	   "outputs": [],
"source": [
"// Example 2.4\n",
"format('v',6)\n",
"clc;\n",
"clear;\n",
"close;\n",
"// given data\n",
"Vin= 15;// in V\n",
"V_P= Vin;// in V\n",
"R_L= 10;// in kΩ\n",
"R_L= R_L*10^3;// in Ω\n",
"Vout=0;\n",
"// The peak current through the diode \n",
"I_P= V_P/R_L;// in A\n",
"// The maximum reverse voltage \n",
"V_R= Vin-Vout;// in V\n",
"I_P= I_P*10^3;// in mA\n",
"disp(I_P,'The peak current through the diode in mA is : ');\n",
"disp(V_R,'The maximum reverse voltage in volts is : ')"
   ]
   }
,
{
		   "cell_type": "markdown",
		   "metadata": {},
		   "source": [
			"## Example 2.5: Power_dissipation_of_the_diode.sce"
		   ]
		  },
  {
"cell_type": "code",
	   "execution_count": null,
	   "metadata": {
	    "collapsed": true
	   },
	   "outputs": [],
"source": [
"// Example 2.5\n",
"format('v',6)\n",
"clc;\n",
"clear;\n",
"close;\n",
"// given data\n",
"Vin= 15;// in V\n",
"V_K= 0.7;// in V\n",
"R_L= 10;// in kΩ\n",
"R_L= R_L*10^3;// in Ω\n",
"// The output voltage \n",
"Vout= Vin-V_K;// in V\n",
"// The current \n",
"I= Vout/R_L;// in A\n",
"// The power dissipation of the diode \n",
"P= V_K*I;// in W\n",
"I=I*10^3;// in mA\n",
"P= round(P*10^3);// in mW\n",
"disp(Vout,'The output voltage in volts is : ');\n",
"disp(I,'The current in mA is : ');\n",
"disp(P,'The power dissipation of the diode in mW is : ')"
   ]
   }
,
{
		   "cell_type": "markdown",
		   "metadata": {},
		   "source": [
			"## Example 2.6: Peak_forward_current_and_PIV.sce"
		   ]
		  },
  {
"cell_type": "code",
	   "execution_count": null,
	   "metadata": {
	    "collapsed": true
	   },
	   "outputs": [],
"source": [
"// Example 2.6\n",
"format('v',6)\n",
"clc;\n",
"clear;\n",
"close;\n",
"// given data\n",
"Vin= 15;// in V\n",
"V_K= 0.7;// in V\n",
"Vout=0;// in V\n",
"R_L= 10;// in kΩ\n",
"R_L= R_L*10^3;// in Ω\n",
"// The peak output voltage \n",
"V_P= Vin-V_K;// in V\n",
"// The maximum forward current \n",
"I_P= V_P/R_L;// in A\n",
"// The peak inverse voltage \n",
"PIV= Vin-Vout;// in V\n",
"I_P= I_P*10^3;// in mA\n",
"disp(V_P,'The peak output voltage in volts is : ');\n",
"disp(I_P,'The maximum forward current in mA is : ');\n",
"disp(PIV,'The peak inverse voltage in volts is : ')"
   ]
   }
,
{
		   "cell_type": "markdown",
		   "metadata": {},
		   "source": [
			"## Example 2.7: Peak_load_voltage_and_peak_inverse_voltage.sce"
		   ]
		  },
  {
"cell_type": "code",
	   "execution_count": null,
	   "metadata": {
	    "collapsed": true
	   },
	   "outputs": [],
"source": [
"// Example 2.7\n",
"clc;\n",
"clear;\n",
"close;\n",
"format('v',5)\n",
"// given data\n",
"Vin= 10;// in V\n",
"V_K= 0.7;// in V\n",
"Vout=0;// in V\n",
"R_L= 1000;// in kΩ\n",
"r_B= 20;// in Ω\n",
"// The peak forward current,\n",
"I_P= (Vin-V_K)/(R_L+r_B);// in A\n",
"// The peak voltage \n",
"V_P= I_P*R_L;// in V\n",
"// The peak inverse voltage \n",
"PIV= Vin-Vout;// in V\n",
"disp(V_P,'The peak voltage in volts is : ');\n",
"disp(PIV,'The peak inverse voltage in volts is : ')"
   ]
   }
],
"metadata": {
		  "kernelspec": {
		   "display_name": "Scilab",
		   "language": "scilab",
		   "name": "scilab"
		  },
		  "language_info": {
		   "file_extension": ".sce",
		   "help_links": [
			{
			 "text": "MetaKernel Magics",
			 "url": "https://github.com/calysto/metakernel/blob/master/metakernel/magics/README.md"
			}
		   ],
		   "mimetype": "text/x-octave",
		   "name": "scilab",
		   "version": "0.7.1"
		  }
		 },
		 "nbformat": 4,
		 "nbformat_minor": 0
}
