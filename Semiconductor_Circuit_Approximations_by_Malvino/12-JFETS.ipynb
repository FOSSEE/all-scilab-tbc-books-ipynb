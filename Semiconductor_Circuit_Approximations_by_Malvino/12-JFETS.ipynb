{
"cells": [
 {
		   "cell_type": "markdown",
	   "metadata": {},
	   "source": [
       "# Chapter 12: JFETS"
	   ]
	},
{
		   "cell_type": "markdown",
		   "metadata": {},
		   "source": [
			"## Example 12.1: Source_voltage_to_ground.sce"
		   ]
		  },
  {
"cell_type": "code",
	   "execution_count": null,
	   "metadata": {
	    "collapsed": true
	   },
	   "outputs": [],
"source": [
"// Example 12.1\n",
"format('v',5)\n",
"clc;\n",
"clear;\n",
"close;\n",
"// given data\n",
"R1= 20;// in kΩ\n",
"R2= 10;// in kΩ\n",
"R_E= 10;// in kΩ\n",
"R_D= 8.2;// in kΩ\n",
"V_G= 10;// in V\n",
"V_BE= 0.7;// in V\n",
"V_GS= -2;// in V\n",
"V_DD= 30;// in V\n",
"V_B= R2*V_DD/(R1+R2);// in V\n",
"I_E= (V_B-V_BE)/R_E;// in mA\n",
"I_D= I_E;// in mA\n",
"// The dc voltage from the drain to ground \n",
"V_D= V_DD-I_D*R_D;// in V\n",
"// The source voltage to ground \n",
"Vs= V_G-V_GS;// in V\n",
"disp(V_D,'The dc voltage from the drain to ground in volts is : ');\n",
"disp(Vs,'The source voltage to ground in volts is : ')"
   ]
   }
,
{
		   "cell_type": "markdown",
		   "metadata": {},
		   "source": [
			"## Example 12.2: Transconductance.sce"
		   ]
		  },
  {
"cell_type": "code",
	   "execution_count": null,
	   "metadata": {
	    "collapsed": true
	   },
	   "outputs": [],
"source": [
"// Example 12.2\n",
"format('v',6)\n",
"clc;\n",
"clear;\n",
"close;\n",
"// given data\n",
"gmo= 3000;// in µmhoS\n",
"V_GSoff= -4;// in V\n",
"I_DSS= 10;// in mA\n",
"disp('Part (i) When V_GS= -1');\n",
"V_GS= -1;// in V\n",
"// The value of gm \n",
"gm= gmo*(1-V_GS/V_GSoff);// in µS\n",
"disp(gm,'The value of gm in µS is : ')\n",
"disp('Part (ii) When I_D= 2.5 mA')\n",
"I_D= 2.5;// in mA\n",
"// The value of gm \n",
"gm= gmo*2*I_D/I_DSS;// in µS\n",
"disp(gm,'The value of gm in µS is : ')"
   ]
   }
,
{
		   "cell_type": "markdown",
		   "metadata": {},
		   "source": [
			"## Example 12.3: Output_voltage.sce"
		   ]
		  },
  {
"cell_type": "code",
	   "execution_count": null,
	   "metadata": {
	    "collapsed": true
	   },
	   "outputs": [],
"source": [
"// Example 12.3\n",
"format('v',6)\n",
"clc;\n",
"clear;\n",
"close;\n",
"// given data\n",
"gm= 2000;// in µS\n",
"gm=gm*10^-6;// in S\n",
"R_D= 4.7;// in kΩ\n",
"Vin= 2;// in mV\n",
"R_L= 10;// in kΩ\n",
"r_D= R_D*R_L/(R_D+R_L);// in kΩ\n",
"r_D= r_D*10^3;// in Ω\n",
"A= gm*r_D;// unit less\n",
"// The output voltage \n",
"Vout= A*Vin;// in mV\n",
"disp(Vout,'The output voltage in mV is : ')\n",
"\n",
"// Note: The calculated value of A in the book is wrong. Correct value of A is : 6.39, So the answer in the book is wrong."
   ]
   }
,
{
		   "cell_type": "markdown",
		   "metadata": {},
		   "source": [
			"## Example 12.4: Voltage_gai.sce"
		   ]
		  },
  {
"cell_type": "code",
	   "execution_count": null,
	   "metadata": {
	    "collapsed": true
	   },
	   "outputs": [],
"source": [
"// Example 12.4\n",
"format('v',6)\n",
"clc;\n",
"clear;\n",
"close;\n",
"// given data\n",
"R_D= 7.5;// in kΩ\n",
"R_L= 3;// in kΩ\n",
"r_s= R_D*R_L/(R_D+R_L);// in kΩ\n",
"r_s= r_s*10^3;// in Ω\n",
"gm= 2500*10^-6;// in S\n",
"// The voltage gain \n",
"A= gm*r_s/(1+gm*r_s);// unit less\n",
"disp(A,'The voltage gain is : ')"
   ]
   }
],
"metadata": {
		  "kernelspec": {
		   "display_name": "Scilab",
		   "language": "scilab",
		   "name": "scilab"
		  },
		  "language_info": {
		   "file_extension": ".sce",
		   "help_links": [
			{
			 "text": "MetaKernel Magics",
			 "url": "https://github.com/calysto/metakernel/blob/master/metakernel/magics/README.md"
			}
		   ],
		   "mimetype": "text/x-octave",
		   "name": "scilab",
		   "version": "0.7.1"
		  }
		 },
		 "nbformat": 4,
		 "nbformat_minor": 0
}
