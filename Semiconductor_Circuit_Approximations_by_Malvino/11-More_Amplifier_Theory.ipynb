{
"cells": [
 {
		   "cell_type": "markdown",
	   "metadata": {},
	   "source": [
       "# Chapter 11: More Amplifier Theory"
	   ]
	},
{
		   "cell_type": "markdown",
		   "metadata": {},
		   "source": [
			"## Example 11.1: Closed_loop_voltage_gai.sce"
		   ]
		  },
  {
"cell_type": "code",
	   "execution_count": null,
	   "metadata": {
	    "collapsed": true
	   },
	   "outputs": [],
"source": [
"// Example 11.1\n",
"format('v',5)\n",
"clc;\n",
"clear;\n",
"close;\n",
"// given data\n",
"r_F= 220;// in Ω\n",
"r_E= 4.7;//in Ω\n",
"// The closed loop voltage gain \n",
"A_CL= r_F/r_E+1;\n",
"disp(A_CL,'The closed loop voltage gain is : ')"
   ]
   }
,
{
		   "cell_type": "markdown",
		   "metadata": {},
		   "source": [
			"## Example 11.2: Alpha_bita_rdeshe_and_rdeshc.sce"
		   ]
		  },
  {
"cell_type": "code",
	   "execution_count": null,
	   "metadata": {
	    "collapsed": true
	   },
	   "outputs": [],
"source": [
"// Example 11.2\n",
"format('v',6)\n",
"clc;\n",
"clear;\n",
"close;\n",
"// given data\n",
"h_ie= 3.5*10^3;//in Ω\n",
"h_fe= 120;\n",
"h_re= 1.3*10^-4;\n",
"h_oe= 8.5*10^-6;// in S\n",
"bita= h_fe;// unit less\n",
"// The value of alpha \n",
"alpha= h_fe/(h_fe+1);\n",
"disp(alpha,'The value of alpha is : ')\n",
"// The value of r'e\n",
"r_desh_e= h_ie/h_fe;// in Ω\n",
"r_desh_c= h_fe/h_oe;// in Ω\n",
"disp(r_desh_e,'The value of r''e in Ω is : ')\n",
"// The value of r'c\n",
"r_desh_c= r_desh_c*10^-6;// in Mohm\n",
"disp(r_desh_c,'The value of r''c in MΩ is : ')"
   ]
   }
,
{
		   "cell_type": "markdown",
		   "metadata": {},
		   "source": [
			"## Example 11.3: Value_of_rdeshb.sce"
		   ]
		  },
  {
"cell_type": "code",
	   "execution_count": null,
	   "metadata": {
	    "collapsed": true
	   },
	   "outputs": [],
"source": [
"// Example 11.3\n",
"format('v',6)\n",
"clc;\n",
"clear;\n",
"close;\n",
"// given data\n",
"h_rb= 1.75*10^-4;\n",
"h_ob= 10^-6;// in S\n",
"r_desh_b= h_rb/h_ob;// in Ω\n",
"disp(r_desh_b,'The value of r''b in Ω is : ')"
   ]
   }
,
{
		   "cell_type": "markdown",
		   "metadata": {},
		   "source": [
			"## Example 11.4: Voltage_gai.sce"
		   ]
		  },
  {
"cell_type": "code",
	   "execution_count": null,
	   "metadata": {
	    "collapsed": true
	   },
	   "outputs": [],
"source": [
"// Example 11.4\n",
"format('v',5)\n",
"clc;\n",
"clear;\n",
"close;\n",
"// given data\n",
"h_fe= 120;// unit less\n",
"h_ie= 3.5*10^3;//in Ω\n",
"r_L= 2*10^3;// in Ω\n",
"h_oe= 8.5*10^-6;// in S\n",
"h_re= 1.3*10^-4;// unit less\n",
"// The voltage gain \n",
"A= h_fe*r_L/(h_ie*(1+h_oe*r_L)-h_re*h_fe*r_L)\n",
"disp(A,'The voltage gain is : ')"
   ]
   }
],
"metadata": {
		  "kernelspec": {
		   "display_name": "Scilab",
		   "language": "scilab",
		   "name": "scilab"
		  },
		  "language_info": {
		   "file_extension": ".sce",
		   "help_links": [
			{
			 "text": "MetaKernel Magics",
			 "url": "https://github.com/calysto/metakernel/blob/master/metakernel/magics/README.md"
			}
		   ],
		   "mimetype": "text/x-octave",
		   "name": "scilab",
		   "version": "0.7.1"
		  }
		 },
		 "nbformat": 4,
		 "nbformat_minor": 0
}
