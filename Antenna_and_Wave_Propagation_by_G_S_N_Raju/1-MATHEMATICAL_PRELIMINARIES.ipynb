{
"cells": [
 {
		   "cell_type": "markdown",
	   "metadata": {},
	   "source": [
       "# Chapter 1: MATHEMATICAL PRELIMINARIES"
	   ]
	},
{
		   "cell_type": "markdown",
		   "metadata": {},
		   "source": [
			"## Example 1.10: Representation_of_point_in_cylindrical_coordinates.sce"
		   ]
		  },
  {
"cell_type": "code",
	   "execution_count": null,
	   "metadata": {
	    "collapsed": true
	   },
	   "outputs": [],
"source": [
"//Exa 1.10\n",
"clc;\n",
"clear;\n",
"close;\n",
"// given :\n",
"A=[4,2,1] // vector A\n",
"A_x=4 // x coordinate of P\n",
"A_y=2 // y coordinate of P\n",
"A_z=1 // z coordinate of P\n",
"phi=atand(A_y/A_x) // azimuthal in degrees\n",
"A_rho=A_x*cosd(phi)+A_y*sind(phi) // x coordinate of cylinder\n",
"A_phi=-A_x*sind(phi)+A_y*cosd(phi) // y coordinate of cylinder\n",
"A_z=1 // z coordinate of cylinder\n",
"A=[A_rho,A_phi,A_z] // cylindrical coordinates if vector A\n",
"disp(A,'cylindrical coordinates of vector A:')"
   ]
   }
,
{
		   "cell_type": "markdown",
		   "metadata": {},
		   "source": [
			"## Example 1.12: Representation_of_point_in_spherical_coordinates.sce"
		   ]
		  },
  {
"cell_type": "code",
	   "execution_count": null,
	   "metadata": {
	    "collapsed": true
	   },
	   "outputs": [],
"source": [
"// Exa 1.12\n",
"clc;\n",
"clear;\n",
"close;\n",
"// given :\n",
"P=[1,2,3] // coordinates of point P in cartezian system\n",
"x=1// x coordinate of point P in cartezian system\n",
"y=2// y coordinate of point P in cartezian system\n",
"z=3// z coordinate of point P in cartezian system\n",
"r=sqrt(x^2+y^2+z^2) // radius of sphere in m\n",
"theta=acosd(z/(r)) // angle of elevation in degrees\n",
"phi=atand(x/y) // azimuthal angle in degrees\n",
"disp(r,'radius of sphere in m:')\n",
"disp(theta,'angle of elevation in degrees:')\n",
"disp(phi,'azimuthal angle in degrees:')\n",
"\n",
"\n",
"// note : answer in the book is incomplete they find only one coordinate but there are three."
   ]
   }
,
{
		   "cell_type": "markdown",
		   "metadata": {},
		   "source": [
			"## Example 1.17: Power_gain_in_Decibels.sce"
		   ]
		  },
  {
"cell_type": "code",
	   "execution_count": null,
	   "metadata": {
	    "collapsed": true
	   },
	   "outputs": [],
"source": [
"// Exa 1.17\n",
"clc;\n",
"clear;\n",
"close;\n",
"// given :\n",
"A_p=22 // power gain\n",
"A_p_dB=10*log10(A_p) // power gain in dB\n",
"disp(A_p_dB,'power gain in dB:')  "
   ]
   }
,
{
		   "cell_type": "markdown",
		   "metadata": {},
		   "source": [
			"## Example 1.18: Current_gain_in_Decibels.sce"
		   ]
		  },
  {
"cell_type": "code",
	   "execution_count": null,
	   "metadata": {
	    "collapsed": true
	   },
	   "outputs": [],
"source": [
"// Exa 1.18\n",
"clc;\n",
"clear;\n",
"close;\n",
"// given :\n",
"A_v=95 // voltage gain\n",
"A_v_dB=20*log10(A_v) // voltage gain in dB\n",
"disp(A_v_dB,'voltage gain in dB:')  "
   ]
   }
,
{
		   "cell_type": "markdown",
		   "metadata": {},
		   "source": [
			"## Example 1.19: Power_gain_in_nepers.sce"
		   ]
		  },
  {
"cell_type": "code",
	   "execution_count": null,
	   "metadata": {
	    "collapsed": true
	   },
	   "outputs": [],
"source": [
"// Exa 1.19\n",
"clc;\n",
"clear;\n",
"close;\n",
"// given :\n",
"A_p=16 // power gain\n",
"A_p_Np=log(sqrt(A_p)) // power gain in nepers\n",
"disp(A_p_Np,'power gain in nepers:') "
   ]
   }
,
{
		   "cell_type": "markdown",
		   "metadata": {},
		   "source": [
			"## Example 1.1: magnitude_and_direction_of_a_vector.sce"
		   ]
		  },
  {
"cell_type": "code",
	   "execution_count": null,
	   "metadata": {
	    "collapsed": true
	   },
	   "outputs": [],
"source": [
"//Exa 1.1\n",
"clc;\n",
"clear;\n",
"close;\n",
"// given :\n",
"A=[1 2 3] // A is a vector\n",
"l=norm(A) // magnitude or length of vector A\n",
"a=A/norm(A) // direction of vector A\n",
"disp(l,'magnitude of vector')\n",
"disp(a,'direction of vector')"
   ]
   }
,
{
		   "cell_type": "markdown",
		   "metadata": {},
		   "source": [
			"## Example 1.20: Current_gain_in_nepers.sce"
		   ]
		  },
  {
"cell_type": "code",
	   "execution_count": null,
	   "metadata": {
	    "collapsed": true
	   },
	   "outputs": [],
"source": [
"// Exa 1.20\n",
"clc;\n",
"clear;\n",
"close;\n",
"// given :\n",
"A_i=34 // current gain\n",
"A_i_Np=log(A_i) // current gain in nepers\n",
"disp(A_i_Np,'current gain in nepers:') "
   ]
   }
,
{
		   "cell_type": "markdown",
		   "metadata": {},
		   "source": [
			"## Example 1.21: magnitude_and_phase_of_a_complex_number.sce"
		   ]
		  },
  {
"cell_type": "code",
	   "execution_count": null,
	   "metadata": {
	    "collapsed": true
	   },
	   "outputs": [],
"source": [
"// Exa 1.21\n",
"clc;\n",
"clear;\n",
"close;\n",
"// given :\n",
"A=2+4*%i // complex number A\n",
"magnitude=sqrt((real(A))^2+(imag(A))^2) // magnitude of complex number A\n",
"phi=atand(imag(A)/real(A)) // phase of complex number A in degrees\n",
"disp(magnitude,'magnitude of complex number A:')\n",
"disp(phi,'phase of complex number A in degrees:')"
   ]
   }
,
{
		   "cell_type": "markdown",
		   "metadata": {},
		   "source": [
			"## Example 1.22: magnitude_complex_conjugate_and_phase_of_complex_number.sce"
		   ]
		  },
  {
"cell_type": "code",
	   "execution_count": null,
	   "metadata": {
	    "collapsed": true
	   },
	   "outputs": [],
"source": [
"// Exa 1.22\n",
"clc;\n",
"clear;\n",
"close;\n",
"// given :\n",
"A=1+3*%i // complex no. A\n",
"c=conj(A) // conjugate of complex no. A\n",
"magnitude=sqrt((real(A))^2+(imag(A))^2) // magnitude of complex number A\n",
"phi=atand(imag(A)/real(A)) // phase of complex number A in degrees\n",
"disp(magnitude,'magnitude of complex number A:')\n",
"disp(phi,'phase of complex number A in degrees:')\n",
"disp(c,'conjugate of complex no. A:')"
   ]
   }
,
{
		   "cell_type": "markdown",
		   "metadata": {},
		   "source": [
			"## Example 1.23: real_and_imaginary_part_of_a_complex_number.sce"
		   ]
		  },
  {
"cell_type": "code",
	   "execution_count": null,
	   "metadata": {
	    "collapsed": true
	   },
	   "outputs": [],
"source": [
"// Exa 1.23\n",
"clc;\n",
"clear;\n",
"close;\n",
"// given :\n",
"rho=5 // magnitude of the complex number A\n",
"phi=45 // phase of a complex number A in Degrees\n",
"x=rho*cosd(phi) // real part of complex number A\n",
"y=rho*sind(phi) // imaginary part of complex number A\n",
"A=x+y*(%i) // complex number A\n",
"disp(x,'real part of complex number A:')\n",
"disp(y,'imaginary part of complex number A:')\n",
"disp(A,'complex number A:')"
   ]
   }
,
{
		   "cell_type": "markdown",
		   "metadata": {},
		   "source": [
			"## Example 1.24: Addition_of_two_complex_numbers.sce"
		   ]
		  },
  {
"cell_type": "code",
	   "execution_count": null,
	   "metadata": {
	    "collapsed": true
	   },
	   "outputs": [],
"source": [
"// Exa 1.24\n",
"clc;\n",
"clear;\n",
"close;\n",
"// given :\n",
"A_1=2+%i*3 // complex number A_1\n",
"A_2=4+%i*5 // complex number A_2\n",
"A=A_1+A_2\n",
"disp(A,'sum of complex numbers A_1 and A_2:')"
   ]
   }
,
{
		   "cell_type": "markdown",
		   "metadata": {},
		   "source": [
			"## Example 1.25: Subtraction_of_two_complex_numbers.sce"
		   ]
		  },
  {
"cell_type": "code",
	   "execution_count": null,
	   "metadata": {
	    "collapsed": true
	   },
	   "outputs": [],
"source": [
"// Exa 1.25\n",
"clc;\n",
"clear;\n",
"close;\n",
"// given :\n",
"A_1=%i*6 // complex number A_1\n",
"A_2=1-%i*2 // complex number A_2\n",
"A=A_1-A_2\n",
"disp(A,'difference of complex numbers A_1 and A_2:')"
   ]
   }
,
{
		   "cell_type": "markdown",
		   "metadata": {},
		   "source": [
			"## Example 1.26: Product_of_two_complex_numbers.sce"
		   ]
		  },
  {
"cell_type": "code",
	   "execution_count": null,
	   "metadata": {
	    "collapsed": true
	   },
	   "outputs": [],
"source": [
"// Exa 1.26\n",
"clc;\n",
"clear;\n",
"close;\n",
"// given :\n",
"A=0.4+%i*5 // complex number A\n",
"B=2+%i*3 // complex number B\n",
"P=A*B // product of complex numbers A and B\n",
"disp(P,'product of complex numbers A and B:')"
   ]
   }
,
{
		   "cell_type": "markdown",
		   "metadata": {},
		   "source": [
			"## Example 1.27: ratio_of_two_complex_numbers.sce"
		   ]
		  },
  {
"cell_type": "code",
	   "execution_count": null,
	   "metadata": {
	    "collapsed": true
	   },
	   "outputs": [],
"source": [
"// Exa 1.27\n",
"clc;\n",
"clear;\n",
"close;\n",
"// given :\n",
"A=10+%i*6 // complex number A\n",
"B=2-%i*3 // complex number B\n",
"D=A/B // division of complex numbers A and B\n",
"disp(D,'division of complex numbers A and B:')"
   ]
   }
,
{
		   "cell_type": "markdown",
		   "metadata": {},
		   "source": [
			"## Example 1.28: Roots_of_the_quadratic_equatio.sce"
		   ]
		  },
  {
"cell_type": "code",
	   "execution_count": null,
	   "metadata": {
	    "collapsed": true
	   },
	   "outputs": [],
"source": [
"//Exa 1.28\n",
"clc;\n",
"clear;\n",
"close;\n",
"// given :\n",
"x=poly([0],'x')\n",
"p=(x)^2+2*x+4\n",
"roots(p) // roots of given quadratic equation\n",
"disp(roots(p),'The roots of the given quadratic equation are:')"
   ]
   }
,
{
		   "cell_type": "markdown",
		   "metadata": {},
		   "source": [
			"## Example 1.2: Addition_and_Subtraction_of_two_vectors.sce"
		   ]
		  },
  {
"cell_type": "code",
	   "execution_count": null,
	   "metadata": {
	    "collapsed": true
	   },
	   "outputs": [],
"source": [
"//Exa 1.2\n",
"clc;\n",
"clear;\n",
"close;\n",
"// given :\n",
"A=[2 5 6] // vector A\n",
"B=[1 -3 6] // vector B\n",
"A+B // summation of two vectors\n",
"A-B // subtraction of two vectors\n",
"disp(A+B,'summation of two vectors:')\n",
"disp(A-B,'subtraction of two vectors:')"
   ]
   }
,
{
		   "cell_type": "markdown",
		   "metadata": {},
		   "source": [
			"## Example 1.31: factorial_of_4_and_6.sce"
		   ]
		  },
  {
"cell_type": "code",
	   "execution_count": null,
	   "metadata": {
	    "collapsed": true
	   },
	   "outputs": [],
"source": [
"//Exa 1.31\n",
"clc;\n",
"clear;\n",
"close;\n",
"f1=factorial(4) // factorial of 4\n",
"f2=factorial(6) // factorial of 6\n",
"disp(f1,'factorial of 4 is:')\n",
"disp(f2,'factorial of 6 is:')"
   ]
   }
,
{
		   "cell_type": "markdown",
		   "metadata": {},
		   "source": [
			"## Example 1.3: Dot_product_of_two_vectors.sce"
		   ]
		  },
  {
"cell_type": "code",
	   "execution_count": null,
	   "metadata": {
	    "collapsed": true
	   },
	   "outputs": [],
"source": [
"// Exa 1.3\n",
"clc;\n",
"clear;\n",
"close;\n",
"// given :\n",
"A=[1 1 2] // vector A\n",
"B=[2 1 1] // vector B\n",
"k=sum(A.*B) // dot product of vector A and B\n",
"disp(k,'dot product of vector A and B:')"
   ]
   }
,
{
		   "cell_type": "markdown",
		   "metadata": {},
		   "source": [
			"## Example 1.4: cross_product_of_two_vectors_A_and_B.sce"
		   ]
		  },
  {
"cell_type": "code",
	   "execution_count": null,
	   "metadata": {
	    "collapsed": true
	   },
	   "outputs": [],
"source": [
"//Exa 1.4\n",
"clc;\n",
"clear;\n",
"close;\n",
"function[V]=crossprod(A,B) // defining a function v\n",
"V(1)=A(2)*B(3)-A(3)*B(2)\n",
"V(2)=A(3)*B(1)-A(1)*B(3)\n",
"V(3)=A(1)*B(2)-A(2)*B(1)\n",
"endfunction\n",
"//given:\n",
"A=[2,1,2] // vector A\n",
"B=[1,2,1] // vector B\n",
"P=crossprod(A,B)\n",
"disp(P,'cross product of vectors A and B:')"
   ]
   }
,
{
		   "cell_type": "markdown",
		   "metadata": {},
		   "source": [
			"## Example 1.5: Dot_product_of_two_vectors.sce"
		   ]
		  },
  {
"cell_type": "code",
	   "execution_count": null,
	   "metadata": {
	    "collapsed": true
	   },
	   "outputs": [],
"source": [
"// Exa 1.5\n",
"clc;\n",
"clear;\n",
"close;\n",
"// given :\n",
"A=[1 3 4] // vector A\n",
"B=[1 0 2] // vector B\n",
"k=sum(A.*B) // dot product of two vectors A and B\n",
"disp(k,'dot product of two vectors A and B:')"
   ]
   }
,
{
		   "cell_type": "markdown",
		   "metadata": {},
		   "source": [
			"## Example 1.9: Representation_of_point_in_cylindrical_coordinates.sce"
		   ]
		  },
  {
"cell_type": "code",
	   "execution_count": null,
	   "metadata": {
	    "collapsed": true
	   },
	   "outputs": [],
"source": [
"//Exa 1.9\n",
"clc;\n",
"clear;\n",
"close;\n",
"// given :\n",
"p=[1,2,3] // coordinates of point p\n",
"x=1 // x coordinate of P\n",
"y=2 // y coordinate of P\n",
"z=3 // z coordinate of P\n",
"rho=sqrt(x^2+y^2) //radius of cylinder in m\n",
"phi=atand(y/x) // azimuthal angle in degrees\n",
"z=3 // in m\n",
"disp(rho,'radius of cylinder in m:')\n",
"disp(phi,'azimuthal angle in degrees:')\n",
"disp(z,'z coordinate in Degrees:')"
   ]
   }
],
"metadata": {
		  "kernelspec": {
		   "display_name": "Scilab",
		   "language": "scilab",
		   "name": "scilab"
		  },
		  "language_info": {
		   "file_extension": ".sce",
		   "help_links": [
			{
			 "text": "MetaKernel Magics",
			 "url": "https://github.com/calysto/metakernel/blob/master/metakernel/magics/README.md"
			}
		   ],
		   "mimetype": "text/x-octave",
		   "name": "scilab",
		   "version": "0.7.1"
		  }
		 },
		 "nbformat": 4,
		 "nbformat_minor": 0
}
