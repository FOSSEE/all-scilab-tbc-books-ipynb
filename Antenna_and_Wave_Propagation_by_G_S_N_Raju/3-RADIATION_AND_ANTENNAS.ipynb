{
"cells": [
 {
		   "cell_type": "markdown",
	   "metadata": {},
	   "source": [
       "# Chapter 3: RADIATION AND ANTENNAS"
	   ]
	},
{
		   "cell_type": "markdown",
		   "metadata": {},
		   "source": [
			"## Example 3.1: radiation_resistance.sce"
		   ]
		  },
  {
"cell_type": "code",
	   "execution_count": null,
	   "metadata": {
	    "collapsed": true
	   },
	   "outputs": [],
"source": [
"// Exa 3.1\n",
"clc;\n",
"clear;\n",
"close;\n",
"Lm=poly(0,'Lm')// defining Lm as lambda\n",
"dl=Lm/40 // dipole length\n",
"Rr=80*(%pi)^(2)*(dl/Lm)^2\n",
"Rr=horner(Rr,1)\n",
"disp(Rr,'radiation resistance of dipole in ohm if dl=Lm/40 :')\n",
"dl=Lm/60 // dipole length\n",
"Rr=80*(%pi)^(2)*(dl/Lm)^2\n",
"Rr=horner(Rr,1)\n",
"disp(Rr,'radiation resistance of dipole in ohm if dl=Lm/60 :')\n",
"dl=Lm/80 // dipole length\n",
"Rr=80*(%pi)^(2)*(dl/Lm)^2\n",
"Rr=horner(Rr,1)\n",
"disp(Rr,'radiation resistance of dipole in ohm if dl=Lm/80 :')"
   ]
   }
,
{
		   "cell_type": "markdown",
		   "metadata": {},
		   "source": [
			"## Example 3.3: Directivity_of_half_wave_dipole.sce"
		   ]
		  },
  {
"cell_type": "code",
	   "execution_count": null,
	   "metadata": {
	    "collapsed": true
	   },
	   "outputs": [],
"source": [
"//Exa 3.3\n",
"clc;\n",
"clear;\n",
"close;\n",
"// given :\n",
"Pr=1 //power in watt\n",
"I=sqrt(Pr/73) // current in A\n",
"Eta0=120*(%pi) // constant\n",
"r=poly(0,'r')\n",
"E_max=60*I/r\n",
"RI=r^2*E_max^2/Eta0 // radiation intensity\n",
"Gd_max=4*(%pi)*(RI)/Pr\n",
"Gd_max=horner(Gd_max,1)\n",
"disp(Gd_max,'Directivity of a half wave dipole:' )"
   ]
   }
,
{
		   "cell_type": "markdown",
		   "metadata": {},
		   "source": [
			"## Example 3.4: Power_radiated.sce"
		   ]
		  },
  {
"cell_type": "code",
	   "execution_count": null,
	   "metadata": {
	    "collapsed": true
	   },
	   "outputs": [],
"source": [
"//Exa3.4\n",
"clc;\n",
"clear;\n",
"close;\n",
"Rr=300 // radiation resistance in ohm\n",
"I=3 // in A\n",
"//formula: Pr=I^2*R\n",
"Pr=I^2*Rr // power radiated in watt\n",
"disp(Pr,'power radiated by antenna in watts:')"
   ]
   }
,
{
		   "cell_type": "markdown",
		   "metadata": {},
		   "source": [
			"## Example 3.5: effective_area_of_half_wave_dipole.sce"
		   ]
		  },
  {
"cell_type": "code",
	   "execution_count": null,
	   "metadata": {
	    "collapsed": true
	   },
	   "outputs": [],
"source": [
"//Exa 3.5\n",
"clc;\n",
"close;\n",
"clear;\n",
"// given:\n",
"f=500 //frequency in mega hertz\n",
"f=500*10^6 //frequency in hertz\n",
"c=3*10^8 //speed of light in m/s\n",
"Gdmax=1.644 // directivity of a half wave dipole\n",
"lambda=c/f //wavelength in meter\n",
"Ae=((lambda)^2*Gdmax)/(4*(%pi)) // Effective area in m^2\n",
"disp(Ae,'effective area of half wave dipole in m^2:')"
   ]
   }
,
{
		   "cell_type": "markdown",
		   "metadata": {},
		   "source": [
			"## Example 3.6: effective_area_of_hertzian_dipole.sce"
		   ]
		  },
  {
"cell_type": "code",
	   "execution_count": null,
	   "metadata": {
	    "collapsed": true
	   },
	   "outputs": [],
"source": [
"// Exa 3.6\n",
"clc;\n",
"clear;\n",
"close;\n",
"// given :\n",
"f=100 //frequency in Mhz\n",
"f=100*10^6 //frequency in hertz\n",
"c=3*10^8 //speed of light in m/s\n",
"D=1.5 // directivity \n",
"lambda=c/f //wavelength in meter\n",
"Ae=(lambda^2*D)/(4*(%pi)) // effective area in m^2\n",
"disp(Ae,'Effective area of hertezian dipole in m^2: ')"
   ]
   }
],
"metadata": {
		  "kernelspec": {
		   "display_name": "Scilab",
		   "language": "scilab",
		   "name": "scilab"
		  },
		  "language_info": {
		   "file_extension": ".sce",
		   "help_links": [
			{
			 "text": "MetaKernel Magics",
			 "url": "https://github.com/calysto/metakernel/blob/master/metakernel/magics/README.md"
			}
		   ],
		   "mimetype": "text/x-octave",
		   "name": "scilab",
		   "version": "0.7.1"
		  }
		 },
		 "nbformat": 4,
		 "nbformat_minor": 0
}
