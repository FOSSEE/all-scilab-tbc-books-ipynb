{
"cells": [
 {
		   "cell_type": "markdown",
	   "metadata": {},
	   "source": [
       "# Chapter 9: WAVE PROPAGATION"
	   ]
	},
{
		   "cell_type": "markdown",
		   "metadata": {},
		   "source": [
			"## Example 9.10: Electron_density_of_the_layer.sce"
		   ]
		  },
  {
"cell_type": "code",
	   "execution_count": null,
	   "metadata": {
	    "collapsed": true
	   },
	   "outputs": [],
"source": [
"//Exa 9.10\n",
"clc;\n",
"clear;\n",
"close;\n",
"// given :\n",
"fc=1.5 // critical frequency in MHz\n",
"fc=1.5*10^(6) // critical frequency in Hz\n",
"// formula : fc=9*sqrt(Nmax)\n",
"Nmax=(fc)^2/81 // electron density in electrons/m^3\n",
"disp(Nmax,'electron density in electrons/m^3')"
   ]
   }
,
{
		   "cell_type": "markdown",
		   "metadata": {},
		   "source": [
			"## Example 9.11: range_if_the_frequency_is_MUF_itself.sce"
		   ]
		  },
  {
"cell_type": "code",
	   "execution_count": null,
	   "metadata": {
	    "collapsed": true
	   },
	   "outputs": [],
"source": [
"// Exa 9.11\n",
"clc;\n",
"clear;\n",
"close;\n",
"// given :\n",
"n=0.92 // refrective index\n",
"MUF=10 // maximum usable frequency in MHz\n",
"MUF=10*10^6 // maximum usable frequency in Hz\n",
"f=10*10^6 // in Hz ordinary frequency and maximum usable frequency are same\n",
"h=400 // height of ray reflection point on the ionospheric layer in Km\n",
"h=400*10^3 // height of ray reflection point on the ionospheric layer in m\n",
"// formula :n=sqrt(1-(81*Nmax/f^2))\n",
"Nmax=(1-n^2)*f^2/81 // electron density in electrons/m^3\n",
"fc=9*sqrt(Nmax) // critical frequency in Hz\n",
"// MUF=fc*sec(thetai)\n",
"//sec(thetai)=MUF/fc\n",
"// also, sec(thetai)=sqrt(h^2+(d^2/4))/h so on comparing,\n",
"d=sqrt(((MUF*h/fc)^2-h^2)*4) // range in km\n",
"disp(d/1000,'Range in Km')\n",
"\n",
"\n",
"// note :answer in the book is 1876.59 where as in scilab is 1877.94 minute difference only "
   ]
   }
,
{
		   "cell_type": "markdown",
		   "metadata": {},
		   "source": [
			"## Example 9.12: Relative_permittivity_of_D_E_F_layers.sce"
		   ]
		  },
  {
"cell_type": "code",
	   "execution_count": null,
	   "metadata": {
	    "collapsed": true
	   },
	   "outputs": [],
"source": [
"//Exa 9.12\n",
"clc;\n",
"clear;\n",
"close;\n",
"// given ;\n",
"f=50 // in hz\n",
"f=50*10^3 // in KHz\n",
"N1=400 // electron density of D layer in electrons/cm^3 \n",
"N2=5*10^5 // electron density of E layer in electrons/cm^3 \n",
"N3=2*10^6 // electron density of F layer in electrons/cm^3 \n",
"// formula :n=sqrt(epsilon_r)=sqrt(1-(81*N/f^2)) // WHERE f IS IN KhZ\n",
"// for D layer\n",
"epsilon_r1=1-(81*N1/f^2) // relative permittivity of D layer\n",
"// for E layer\n",
"epsilon_r2=1-(81*N2/f^2) // relative permittivity of E layer\n",
"// for F layer\n",
"epsilon_r3=1-(81*N3/f^2) // relative permittivity of F layer\n",
"disp(round(epsilon_r1),'relative permittivity of D layer:')\n",
"disp(epsilon_r2,'relative permittivity of E layer:')\n",
"disp(epsilon_r3,'relative permittivity of F layer:')"
   ]
   }
,
{
		   "cell_type": "markdown",
		   "metadata": {},
		   "source": [
			"## Example 9.13: Angle_of_refraction.sce"
		   ]
		  },
  {
"cell_type": "code",
	   "execution_count": null,
	   "metadata": {
	    "collapsed": true
	   },
	   "outputs": [],
"source": [
"// Exa 9.13\n",
"clc;\n",
"clear;\n",
"close;\n",
"//given :\n",
"f=50 // in hz\n",
"f=50*10^3 // in KHz\n",
"theta_i=30 // in degrees\n",
"N=400 // electron density of D layer in electrons/cm^3 \n",
"// formula :n=sqrt(epsilon_r)=sqrt(1-(81*N/f^2)) // WHERE f IS IN KhZ\n",
"// for D layer\n",
"epsilon_r=1-(81*N/f^2) // relative permittivity of D layer\n",
"n=sqrt(epsilon_r) // refrective index\n",
"// formula :nsin(theta_r)=sin(theta_i) // snell's law\n",
"theta_r=asind(sind(theta_i/n)) // angle of refraction in degrees\n",
"disp(theta_r,'angle of refraction in degrees:') "
   ]
   }
,
{
		   "cell_type": "markdown",
		   "metadata": {},
		   "source": [
			"## Example 9.14: critical_frequency_of_an_electromagnetic_wave.sce"
		   ]
		  },
  {
"cell_type": "code",
	   "execution_count": null,
	   "metadata": {
	    "collapsed": true
	   },
	   "outputs": [],
"source": [
"//Exa 9.14\n",
"clc;\n",
"clear;\n",
"close;\n",
"// given :\n",
"N1=400 // electron density of D layer in electrons/cm^3 \n",
"N2=5*10^5 // electron density of E layer in electrons/cm^3 \n",
"N3=2*10^6 // electron density of F layer in electrons/cm^3\n",
"// formula : fc=9*sqrt(N) \n",
"fc1=9*sqrt(N1) // critical frequency in Khz of EM wave for D layer\n",
"fc2=9*sqrt(N2) // critical frequency in MHz of EM wave for E layer\n",
"fc3=9*sqrt(N3) // critical frequency in MHz of EM wave for F layer\n",
"disp(fc1,'critical frequency of EM wave for D layer in kHz:')\n",
"disp(fc2/10^3,'critical frequency of EM wave for E layer in Mhz:')\n",
"disp(fc3/10^3,'critical frequency of EM wave for F layer in Mhz:')\n",
"\n",
"\n",
"\n",
"//note: the value of fc3 in book is equal to 12.8MHz but the correct is 12.72MHz."
   ]
   }
,
{
		   "cell_type": "markdown",
		   "metadata": {},
		   "source": [
			"## Example 9.15: Critical_frequency.sce"
		   ]
		  },
  {
"cell_type": "code",
	   "execution_count": null,
	   "metadata": {
	    "collapsed": true
	   },
	   "outputs": [],
"source": [
"// Exa 9.15\n",
"clc;\n",
"clear;\n",
"close;\n",
"// given :\n",
"Nmax=1.3*10^6 // maximum electron density in electrons/cm^3\n",
"// formula : fc=9*sqrt(Nmax)\n",
"fc_khz=9*sqrt(Nmax) // critical frequency in Khz\n",
"disp(fc_khz/1000,'critical frequency in Mhz:')"
   ]
   }
,
{
		   "cell_type": "markdown",
		   "metadata": {},
		   "source": [
			"## Example 9.16: maximum_usable_frequency.sce"
		   ]
		  },
  {
"cell_type": "code",
	   "execution_count": null,
	   "metadata": {
	    "collapsed": true
	   },
	   "outputs": [],
"source": [
"//Exa 9.16\n",
"clc;\n",
"clear;\n",
"close;\n",
"// given :\n",
"d=2600 // distance between the points in Km\n",
"d=2600*10^3 // distance between the points in m\n",
"fc=4 // critical frequency in MHz\n",
"fc=4*10^6 // critical frequency in Hz\n",
"h=200 // height of ionospheric layer in km\n",
"h=200*10^3 // height of ionospheric layer in m\n",
"MUF=fc*sqrt(1+(d/(2*h))^2) // maximum usable frequency   (this step is Misprinted in the book)\n",
"disp(MUF/10^6,'maximum usable frequency in MHz:')\n",
"\n",
"\n",
"\n",
"\n",
"//note: Answer in the book is wrong."
   ]
   }
,
{
		   "cell_type": "markdown",
		   "metadata": {},
		   "source": [
			"## Example 9.17: frequency_of_propagating_wave_for_D_layer.sce"
		   ]
		  },
  {
"cell_type": "code",
	   "execution_count": null,
	   "metadata": {
	    "collapsed": true
	   },
	   "outputs": [],
"source": [
"// Exa 9.17\n",
"clc;\n",
"clear;\n",
"close;\n",
"// given :\n",
"N=400 // electron density in electrons/cm^3\n",
"n=0.5 // refrective index\n",
"// formula : n=sqrt(1-(81*N/f^2)) \n",
"f=sqrt(81*N/(1-n^2)) // frequency in kHz\n",
"disp(f,'frequency of propagating wave in kHz:')"
   ]
   }
,
{
		   "cell_type": "markdown",
		   "metadata": {},
		   "source": [
			"## Example 9.18: Range_of_line_of_sight.sce"
		   ]
		  },
  {
"cell_type": "code",
	   "execution_count": null,
	   "metadata": {
	    "collapsed": true
	   },
	   "outputs": [],
"source": [
"//Exa 9.18\n",
"clc;\n",
"clear;\n",
"close;\n",
"//given :\n",
"Ht=60 // height of transmitting antenna in meter\n",
"Hr=6 // height of receiving antenna in meter\n",
"d=sqrt(17*Ht)+sqrt(17*Hr) // in Km\n",
"disp(d,'range of line of sight in Km:')"
   ]
   }
,
{
		   "cell_type": "markdown",
		   "metadata": {},
		   "source": [
			"## Example 9.19: Critical_angle_of_propagation_for_D_layer.sce"
		   ]
		  },
  {
"cell_type": "code",
	   "execution_count": null,
	   "metadata": {
	    "collapsed": true
	   },
	   "outputs": [],
"source": [
"//Exa 9.19\n",
"clc;\n",
"clear;\n",
"close;\n",
"// given :\n",
"d=500 // distance between transmitter and receiver in km\n",
"h=70 // height of D layer in km\n",
"theta_c=asind(h/(sqrt(h^2+(d^2/4)))) // critical angle in degrees\n",
"disp(theta_c,'critical angle of propagation in degrees:')\n",
"\n",
"\n",
"\n",
"//it can also be calculated from\n",
"theta_c=atand(2*h/d) // critical angle in degrees\n",
"disp(theta_c,'critical angle of propagation in degrees by method 2:')"
   ]
   }
,
{
		   "cell_type": "markdown",
		   "metadata": {},
		   "source": [
			"## Example 9.1: Required_transmitter_power.sce"
		   ]
		  },
  {
"cell_type": "code",
	   "execution_count": null,
	   "metadata": {
	    "collapsed": true
	   },
	   "outputs": [],
"source": [
"//Exa 9.1\n",
"clc;\n",
"clear;\n",
"close;\n",
"// given :\n",
"f=1.7 //frequency in MHz\n",
"f=1.7*10^6 //frequency in Hz\n",
"E=0.5 //electric field in mV/m\n",
"E=0.5*10^(-3) //electric field in V/m\n",
"sigma=5*10^-5 // conductivity in mho/cm\n",
"eta=0.5 // efficiency\n",
"epsilon_r=10 //relative permittivity\n",
"c=3*10^8 // speed of light in m/s\n",
"lambda=c/f //wavelength in m\n",
"d=10 // distance in km\n",
"d=10*10^3 // distance in m\n",
"Df=1.8*10^12*(sigma/f) // dissipation factor\n",
"b=atand((epsilon_r+1)/Df) // phase constant in degrees\n",
"p=(%pi/Df)*(d/lambda)*cosd(b) // numerical distance\n",
"A=((2+0.3*p)/(2+p+0.6*p^2))-(sind(b)*(sqrt(p/2)*exp((-5*p)/8))) // factor of the ground losses\n",
"// formula: E=(A*E_not)/d\n",
"//E_not=300*sqrt(P_kW) // E_not is in mV/m\n",
"//E_not=300*sqrt(P_kW)*10^(-3) // E_not is in V/m\n",
"P_kW=(E*d*10^-3/(A*300*10^-3))^2 // Power in kW and d is in km\n",
"// formula : P=Ptx*eta\n",
"Ptx=P_kW/eta //transmitter power required in kW\n",
"disp(Ptx*1000,'transmitter power required in W:')\n",
"\n",
"\n",
"//note: answer in the book is wrong.scilab give Ptx=11.48W whereas answer in the book is Ptx=12.6W"
   ]
   }
,
{
		   "cell_type": "markdown",
		   "metadata": {},
		   "source": [
			"## Example 9.2: field_strength_of_the_ground_wave.sce"
		   ]
		  },
  {
"cell_type": "code",
	   "execution_count": null,
	   "metadata": {
	    "collapsed": true
	   },
	   "outputs": [],
"source": [
"//Exa 9.2\n",
"clc;\n",
"clear;\n",
"close;\n",
"// given :\n",
"disp('for frequency=500kHz')\n",
"f1=500*10^3 //frequency in Hz\n",
"c=3*10^8 //speed of light in m/s\n",
"lambda1=c/f1 //  wavelength in m\n",
"d=100 //distance in km\n",
"d=100*10^3 //distance in m\n",
"Pt=100 // transmitter power in kW \n",
"eta=50 // efficiency in percentage\n",
"eta=0.5 // efficiency\n",
"P_kW=Pt*eta // radiated power in kW\n",
"E_not=300*1.28*sqrt(P_kW) // field strength in mV/m without ground losses at 1km\n",
"\n",
" // for sea water earth\n",
"epsilon_r=81 // permittivity\n",
"sigma=45*10^-3 // conductivity in mho/cm\n",
"Df=1.8*10^12*(sigma/f1) // dissipation factor\n",
"b=atand((epsilon_r+1)/Df) // phase constant in degrees\n",
"p=(%pi/Df)*(d/lambda1)*cosd(b) // numerical distance\n",
"A=((2+0.3*p)/(2+p+0.6*p^2))-(sind(b)*(sqrt(p/2)*exp((-5*p)/8))) // factor of the ground losses\n",
"E1=(A*E_not)/(d) // in V/m\n",
"disp(E1*1000,'electric field strength for sea water earth in mV/m when f=500kHz:')\n",
"\n",
"// for good soil\n",
"epsilon_r=20 // permittivity\n",
"sigma=10^-4 // conductivity in mho/cm\n",
"Df=1.8*10^12*(sigma/f1) // dissipation factor\n",
"b=atand((epsilon_r+1)/Df) // phase constant in degrees\n",
"p=(%pi/Df)*(d/lambda1)*cosd(b) // numerical distance\n",
"A=((2+0.3*p)/(2+p+0.6*p^2))-(sind(b)*(sqrt(p/2)*exp((-5*p)/8))) // factor of the ground losses\n",
"E2=(A*E_not)/(d) // in V/m\n",
"disp(E2*1000,'electric field strength for good soil in mV/m when f=500kHz:')\n",
"\n",
"// for poor soil\n",
"epsilon_r=10 // permittivity\n",
"sigma=0.2*10^-4 // conductivity in mho/cm\n",
"Df=1.8*10^12*(sigma/f1) // dissipation factor\n",
"b=atand((epsilon_r+1)/Df) // phase constant in degrees\n",
"p=(%pi/Df)*(d/lambda1)*cosd(b) // numerical distance\n",
"A=((2+0.3*p)/(2+p+0.6*p^2))-(sind(b)*(sqrt(p/2)*exp((-5*p)/8))) // factor of the ground losses\n",
"E3=(A*E_not)/(d) // in V/m\n",
"disp(E3*1000,'electric field strength for poor soil in mV/m when f=500kHz:')\n",
"\n",
"// for cities,industrial areas\n",
"epsilon_r=5 // permittivity\n",
"sigma=10^-5 // conductivity in mho/cm\n",
"Df=1.8*10^12*(sigma/f1) // dissipation factor\n",
"b=atand((epsilon_r+1)/Df) // phase constant in degrees\n",
"p=(%pi/Df)*(d/lambda1)*cosd(b) // numerical distance\n",
"A=((2+0.3*p)/(2+p+0.6*p^2))-(sind(b)*(sqrt(p/2)*exp((-5*p)/8))) // factor of the ground losses\n",
"E4=(A*E_not)/(d) // in V/m\n",
"disp(E4*1000,'electric field strength for cities,industrial areas in mV/m when f=500kHz:')\n",
"\n",
"// for Rockey soil,flat sandy\n",
"epsilon_r=10 // permittivity\n",
"sigma=2*10^-3 // conductivity in mho/cm\n",
"Df=1.8*10^12*(sigma/f1) // dissipation factor\n",
"b=atand((epsilon_r+1)/Df) // phase constant in degrees\n",
"p=(%pi/Df)*(d/lambda1)*cosd(b) // numerical distance\n",
"A=((2+0.3*p)/(2+p+0.6*p^2))-(sind(b)*(sqrt(p/2)*exp((-5*p)/8))) // factor of the ground losses\n",
"E5=(A*E_not)/(d) // in V/m\n",
"disp(E5*1000,'electric field strength for Rockey soil,flat sandy in mV/m when f=500kHz:')\n",
"\n",
"// for medium hills,forestation\n",
"epsilon_r=13 // permittivity\n",
"sigma=5*10^-5 // conductivity in mho/cm\n",
"Df=1.8*10^12*(sigma/f1) // dissipation factor\n",
"b=atand((epsilon_r+1)/Df) // phase constant in degrees\n",
"p=(%pi/Df)*(d/lambda1)*cosd(b) // numerical distance\n",
"A=((2+0.3*p)/(2+p+0.6*p^2))-(sind(b)*(sqrt(p/2)*exp((-5*p)/8))) // factor of the ground losses\n",
"E6=(A*E_not)/(d) // in V/m\n",
"disp(E6*1000,'electric field strength for medium hills,forestation in mV/m when f=500kHz:')\n",
"\n",
"\n",
"\n",
"disp('for frequency=1500kHz')\n",
"\n",
"f2=1500 // in kHz\n",
"f2=1500*10^(3) // in Hz\n",
"lambda2=c/f2 // in m\n",
" // for sea water earth\n",
"epsilon_r=81 // permittivity\n",
"sigma=45*10^-3 // conductivity in mho/cm\n",
"Df=1.8*10^12*(sigma/f2) // dissipation factor\n",
"b=atand((epsilon_r+1)/Df) // phase constant in degrees\n",
"p=(%pi/Df)*(d/lambda2)*cosd(b) // numerical distance\n",
"A=((2+0.3*p)/(2+p+0.6*p^2))-(sind(b)*(sqrt(p/2)*exp((-5*p)/8))) // factor of the ground losses\n",
"E1=(A*E_not)/(d) // in V/m\n",
"disp(E1*1000,'electric field strength for sea water earth in mV/m when f=1500kHz:')\n",
"\n",
"// for good soil\n",
"epsilon_r=20 // permittivity\n",
"sigma=10^-4 // conductivity in mho/cm\n",
"Df=1.8*10^12*(sigma/f2) // dissipation factor\n",
"b=atand((epsilon_r+1)/Df) // phase constant in degrees\n",
"p=(%pi/Df)*(d/lambda2)*cosd(b) // numerical distance\n",
"A=((2+0.3*p)/(2+p+0.6*p^2))-(sind(b)*(sqrt(p/2)*exp((-5*p)/8))) // factor of the ground losses\n",
"E2=(A*E_not)/(d) // in V/m\n",
"disp(E2*1000,'electric field strength for good soil in mV/m when f=1500kHz:')\n",
"\n",
"// for poor soil\n",
"epsilon_r=10 // permittivity\n",
"sigma=0.2*10^-4 // conductivity in mho/cm\n",
"Df=1.8*10^12*(sigma/f2) // dissipation factor\n",
"b=atand((epsilon_r+1)/Df) // phase constant in degrees\n",
"p=(%pi/Df)*(d/lambda2)*cosd(b) // numerical distance\n",
"A=((2+0.3*p)/(2+p+0.6*p^2))-(sind(b)*(sqrt(p/2)*exp((-5*p)/8))) // factor of the ground losses\n",
"E3=(A*E_not)/(d) // in V/m\n",
"disp(E3*1000,'electric field strength for poor soil in mV/m when f=1500kHz:')\n",
"\n",
"// for cities,industrial areas\n",
"epsilon_r=5 // permittivity\n",
"sigma=10^-5 // conductivity in mho/cm\n",
"Df=1.8*10^12*(sigma/f2) // dissipation factor\n",
"b=atand((epsilon_r+1)/Df) // phase constant in degrees\n",
"p=(%pi/Df)*(d/lambda2)*cosd(b) // numerical distance\n",
"A=((2+0.3*p)/(2+p+0.6*p^2))-(sind(b)*(sqrt(p/2)*exp((-5*p)/8))) // factor of the ground losses\n",
"E4=(A*E_not)/(d) // in V/m\n",
"disp(E4*1000,'electric field strength for cities,industrial areas in mV/m when f=1500kHz:')\n",
"\n",
"// for Rockey soil,flat sandy\n",
"epsilon_r=10 // permittivity\n",
"sigma=2*10^-3 // conductivity in mho/cm\n",
"Df=1.8*10^12*(sigma/f2) // dissipation factor\n",
"b=atand((epsilon_r+1)/Df) // phase constant in degrees\n",
"p=(%pi/Df)*(d/lambda2)*cosd(b) // numerical distance\n",
"A=((2+0.3*p)/(2+p+0.6*p^2))-(sind(b)*(sqrt(p/2)*exp((-5*p)/8))) // factor of the ground losses\n",
"E5=(A*E_not)/(d) // in V/m\n",
"disp(E5*1000,'electric field strength for Rockey soil,flat sandy in mV/m when f=1500kHz:')\n",
"\n",
"// for medium hills,forestation\n",
"epsilon_r=13 // permittivity\n",
"sigma=5*10^-5 // conductivity in mho/cm\n",
"Df=1.8*10^12*(sigma/f2) // dissipation factor\n",
"b=atand((epsilon_r+1)/Df) // phase constant in degrees\n",
"p=(%pi/Df)*(d/lambda2)*cosd(b) // numerical distance\n",
"A=((2+0.3*p)/(2+p+0.6*p^2))-(sind(b)*(sqrt(p/2)*exp((-5*p)/8))) // factor of the ground losses\n",
"E6=(A*E_not)/(d) // in V/m\n",
"disp(E6*1000,'electric field strength for medium hills,forestation in mV/m when f=1500kHz:')\n",
"\n",
"\n",
"\n",
"// note1 : misprint value of sigma in part (e) when f=500khz correct is sigma=2*10^-3 for rockey soil\n",
"//note 2:  The ans is rounded off at the F = 1500 kHz in poor soil and Cities, industrial area."
   ]
   }
,
{
		   "cell_type": "markdown",
		   "metadata": {},
		   "source": [
			"## Example 9.3: maximum_range_of_tropospheric_transmission.sce"
		   ]
		  },
  {
"cell_type": "code",
	   "execution_count": null,
	   "metadata": {
	    "collapsed": true
	   },
	   "outputs": [],
"source": [
"//Exa9.3\n",
"clc;\n",
"clear;\n",
"close;\n",
"//given :\n",
"Ht=100 // height of transmittin antenna in feet\n",
"Hr=50 // height of receiving antenna in feet\n",
"Dmax=sqrt(2*Ht)+sqrt(2*Hr) // in miles\n",
"disp(Dmax,'maximum range of tropospheric transmission in miles:')"
   ]
   }
,
{
		   "cell_type": "markdown",
		   "metadata": {},
		   "source": [
			"## Example 9.4: Radio_horizon_distance.sce"
		   ]
		  },
  {
"cell_type": "code",
	   "execution_count": null,
	   "metadata": {
	    "collapsed": true
	   },
	   "outputs": [],
"source": [
"//Exa 9.4\n",
"clc;\n",
"clear;\n",
"close;\n",
"//given :\n",
"Ht=80 // height of transmitting antenna in meter\n",
"d=sqrt(17*Ht) // radio horizon distance of transmitting antenna\n",
"disp(d,'radio horizon distance of transmitting antenna in Km')"
   ]
   }
,
{
		   "cell_type": "markdown",
		   "metadata": {},
		   "source": [
			"## Example 9.5: maximum_distance_covered_by_the_space_wave.sce"
		   ]
		  },
  {
"cell_type": "code",
	   "execution_count": null,
	   "metadata": {
	    "collapsed": true
	   },
	   "outputs": [],
"source": [
"//Exa 9.5\n",
"clc;\n",
"clear;\n",
"close;\n",
"//given :\n",
"Ht=80 // height of transmitting antenna in meter\n",
"Hr=50 // height of receiving antenna in meter\n",
"Dmax=sqrt(17*Ht)+sqrt(17*Hr) // in Km\n",
"disp(Dmax,'maximum range of tropospheric transmission in Km:')"
   ]
   }
,
{
		   "cell_type": "markdown",
		   "metadata": {},
		   "source": [
			"## Example 9.6: Required_height_of_receiving_antenna.sce"
		   ]
		  },
  {
"cell_type": "code",
	   "execution_count": null,
	   "metadata": {
	    "collapsed": true
	   },
	   "outputs": [],
"source": [
"//Exa 9.6\n",
"clc;\n",
"clear;\n",
"close;\n",
"//given :\n",
"Dmax=80 //distance in Km\n",
"Ht=100 // height of transmitting antenna in meter\n",
"// formula : Dmax=sqrt(17*Ht)+sqrt(17*Hr)\n",
"Hr=(Dmax-(sqrt(17*Ht)))^2/17 // height of receiving antenna in m\n",
"disp(Hr,'height of receiving antenna in m')"
   ]
   }
,
{
		   "cell_type": "markdown",
		   "metadata": {},
		   "source": [
			"## Example 9.7: Radio_horizon_distance_for_transmitting_and_receiving_antenna_and_maximum_range.sce"
		   ]
		  },
  {
"cell_type": "code",
	   "execution_count": null,
	   "metadata": {
	    "collapsed": true
	   },
	   "outputs": [],
"source": [
"//Exa 9.7\n",
"clc;\n",
"clear;\n",
"close;\n",
"// given ;\n",
"Ht=300 // height of antenna in feet\n",
"Hr=100 // height of receiving antenna in feet\n",
"dt=sqrt(2*Ht) // radio horizon distance for a transmitting antenna in miles\n",
"dr=sqrt(2*Hr) // radio horizon distance for a transmitting antenna in miles\n",
"dmax=dt+dr // maximum range of space wave propagation in miles\n",
"disp(dt,'radio horizon distance for a transmitting antenna in miles:')\n",
"disp(dr,'radio horizon distance for a receiving antenna in miles:')\n",
"disp(dmax,'maximum range of space wave propagation in miles:') "
   ]
   }
,
{
		   "cell_type": "markdown",
		   "metadata": {},
		   "source": [
			"## Example 9.8: range_of_the_space_wave.sce"
		   ]
		  },
  {
"cell_type": "code",
	   "execution_count": null,
	   "metadata": {
	    "collapsed": true
	   },
	   "outputs": [],
"source": [
"//Exa 9.8\n",
"clc;\n",
"clear;\n",
"close;\n",
"// given :\n",
"f=60 // in MHz\n",
"f=60*10^6 // in Hertz\n",
"c=3*10^8 // speed of light in m/s\n",
"lambda=c/f // wavelength in meter\n",
"Ptx=1 // transmitting power in kilo watt\n",
"ht=50 // height of transmiting antenna in meter\n",
"hr=5 // height of receiving antenna in meter\n",
"E=80 // electric field in micro V/m\n",
"E=80*10^(-6) // electric field in V/m\n",
"E0=3*137.6*sqrt(Ptx)*(8/5)*10^3 // field in mV/m at 1 meter where Ptx is in kW\n",
"E0=3*137.6*sqrt(Ptx)*(8/5)*10^3*10^(-3) // field in V/m at 1 meter where Ptx is in kW\n",
"// formula : E=(4*(%pi)*ht*hr*E0)/(lambda*d^2)\n",
"d=sqrt((4*%pi*ht*hr*E0)/(lambda*E)) // range of space wave in meter\n",
"disp(d/1000,'range of space wave in Km:')"
   ]
   }
,
{
		   "cell_type": "markdown",
		   "metadata": {},
		   "source": [
			"## Example 9.9: maximum_wavelength_at_which_propagation_is_possible.sce"
		   ]
		  },
  {
"cell_type": "code",
	   "execution_count": null,
	   "metadata": {
	    "collapsed": true
	   },
	   "outputs": [],
"source": [
"//Exa 9.9\n",
"clc;\n",
"clear;\n",
"close;\n",
"//given :\n",
"hd=30 // height of duct in m\n",
"delta_M=30 // unitless\n",
"LAMBDA_max=2.5*hd*sqrt(delta_M*10^-6) // maximum wavelength at which duct propagation is possible\n",
"disp(LAMBDA_max,'maximum wavelength at which duct propagation is possible in m:')"
   ]
   }
],
"metadata": {
		  "kernelspec": {
		   "display_name": "Scilab",
		   "language": "scilab",
		   "name": "scilab"
		  },
		  "language_info": {
		   "file_extension": ".sce",
		   "help_links": [
			{
			 "text": "MetaKernel Magics",
			 "url": "https://github.com/calysto/metakernel/blob/master/metakernel/magics/README.md"
			}
		   ],
		   "mimetype": "text/x-octave",
		   "name": "scilab",
		   "version": "0.7.1"
		  }
		 },
		 "nbformat": 4,
		 "nbformat_minor": 0
}
