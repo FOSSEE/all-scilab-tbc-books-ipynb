{
"cells": [
 {
		   "cell_type": "markdown",
	   "metadata": {},
	   "source": [
       "# Chapter 7: MICROWAVE ANTENNAS"
	   ]
	},
{
		   "cell_type": "markdown",
		   "metadata": {},
		   "source": [
			"## Example 7.10: HPBW_BWFN_and_power_gain.sce"
		   ]
		  },
  {
"cell_type": "code",
	   "execution_count": null,
	   "metadata": {
	    "collapsed": true
	   },
	   "outputs": [],
"source": [
"//Exa 7.10\n",
"clc;\n",
"clear;\n",
"close;\n",
"// given :\n",
"D_a=60 // mouth diameter of paraboloid reflector in m\n",
"c=3*10^8 // speed of light in m/s\n",
"f=2 // frequency in GHz\n",
"f=2*10^9 // frequency in Hz\n",
"lambda=c/f // wavelength in m\n",
"phi=70*(lambda/D_a) // half power beam width in degrees\n",
"phi_not=140*(lambda/D_a) // null-to-null main beam width in degrees\n",
"disp(phi,'half power beam width in degrees:')\n",
"disp(phi_not,'null-to-null main beam width in degrees:')\n",
"G_p=6.4*(D_a/lambda)^2 // power gain of paraboloid\n",
"G_p=10*log10(G_p) //power gain in dB\n",
"disp(G_p,'power gain in dB:')"
   ]
   }
,
{
		   "cell_type": "markdown",
		   "metadata": {},
		   "source": [
			"## Example 7.11: power_gain.sce"
		   ]
		  },
  {
"cell_type": "code",
	   "execution_count": null,
	   "metadata": {
	    "collapsed": true
	   },
	   "outputs": [],
"source": [
"//Exa 7.11\n",
"clc;\n",
"clear;\n",
"close;\n",
"// given :\n",
"D=22 // mouth diameter of paraboloid reflector in m\n",
"c=3*10^8 // speed of light in m/s\n",
"f=5 // frequency in GHz\n",
"f=5*10^9 // frequency in Hz\n",
"lambda=c/f // wavelength in m\n",
"b=0.6 // illumination efficiency\n",
"G_p=b*(D/lambda)^2 // power gain of paraboloid\n",
"G_p=10*log10(G_p) //power gain in dB\n",
"disp(G_p,'power gain in dB:')"
   ]
   }
,
{
		   "cell_type": "markdown",
		   "metadata": {},
		   "source": [
			"## Example 7.12: mouth_diameter_and_capture_area_of_a_paraboloid_antenna.sce"
		   ]
		  },
  {
"cell_type": "code",
	   "execution_count": null,
	   "metadata": {
	    "collapsed": true
	   },
	   "outputs": [],
"source": [
"//Exa 7.12\n",
"clc;\n",
"clear;\n",
"close;\n",
"// given :\n",
"c=3*10^8 // speed of light in m/s\n",
"f=2 // frequency in GHz\n",
"f=2*10^9 // frequency in Hz\n",
"lambda=c/f // wavelength in m\n",
"BWFN=12 // null-to-null main beam width in degrees\n",
" // formula : BWFN=140*(lambda/D_a)\n",
"D_a=140*lambda/BWFN // mouth diameter of paraboloid reflector in m\n",
"A=%pi*(D_a)^2/4 // Actual area in m^2\n",
"A_c=0.65*A // capture area in m^2\n",
"disp(D_a,'mouth diameter of paraboloid reflector in m:')\n",
"disp(A_c,'capture area in m^2:')"
   ]
   }
,
{
		   "cell_type": "markdown",
		   "metadata": {},
		   "source": [
			"## Example 7.13: mouth_diameter_and_power_gain_of_paraboloid_reflector_antenna.sce"
		   ]
		  },
  {
"cell_type": "code",
	   "execution_count": null,
	   "metadata": {
	    "collapsed": true
	   },
	   "outputs": [],
"source": [
"//Exa 7.13\n",
"clc;\n",
"clear;\n",
"close;\n",
"// given :\n",
"c=3*10^8 // speed of light in m/s\n",
"f=2.5 // frequency in GHz\n",
"f=2.5*10^9 // frequency in Hz\n",
"lambda=c/f // wavelength in m\n",
"BWFN=3 // null-to-null main beam width in degrees\n",
" // formula : BWFN=140*(lambda/D_a)\n",
"D_a=140*lambda/BWFN // mouth diameter of paraboloid reflector in m\n",
"G=6.4*(D_a/lambda)^2 // power gain of paraboloid\n",
"G_p=10*log10(G) //power gain in dB\n",
"disp(G_p,'power gain in dB:')\n",
"disp(D_a,'mouth diameter of paraboloid reflector in m:')"
   ]
   }
,
{
		   "cell_type": "markdown",
		   "metadata": {},
		   "source": [
			"## Example 7.14: null_to_null_beam_width_and_power_gain_of_paraboloid_reflector_antenna.sce"
		   ]
		  },
  {
"cell_type": "code",
	   "execution_count": null,
	   "metadata": {
	    "collapsed": true
	   },
	   "outputs": [],
"source": [
"// Exa7.14\n",
"clc;\n",
"clear;\n",
"close;\n",
"// given :\n",
"phi=5 // HPBW,half power beam width in Degrees\n",
"phi_not=2*phi // BWFN, null-to-null beam width in degrees\n",
"Lm=poly(0,'Lm') // defining Lm as lambda\n",
"// formula : phi=70*(Lm/D_a) // where Lm is wavelength in m and D_a is mouth diameter in m\n",
"D_a=(70*Lm)/phi\n",
"G_p=6.4*(D_a/Lm)^2\n",
"G_p=horner(G_p,1)\n",
"G_p=10*log10(G_p) // power gain in dB\n",
"disp(phi_not,'BWFN, null-to-null beam width in degrees:')\n",
"disp(G_p,'power gain in dB:')"
   ]
   }
,
{
		   "cell_type": "markdown",
		   "metadata": {},
		   "source": [
			"## Example 7.15: Power_gain_of_a_paraboloid_reflector_antenna.sce"
		   ]
		  },
  {
"cell_type": "code",
	   "execution_count": null,
	   "metadata": {
	    "collapsed": true
	   },
	   "outputs": [],
"source": [
"// Exa 7.15\n",
"clc;\n",
"clear;\n",
"close;\n",
"Lm=poly(0,'Lm')// defining Lm as lambda\n",
"D_a=8*Lm // where D_a is mouth diameter in m and Lm is wavelength in m\n",
"// formula : G_p=6.4*(D/lambda)^2\n",
"G_p=6.4*(D_a/Lm)^2 //power gain\n",
"G_p=horner(G_p,1)\n",
"G_p=10*log10(G_p) // power gain in dB  \n",
"disp(G_p,'power gain in dB:')"
   ]
   }
,
{
		   "cell_type": "markdown",
		   "metadata": {},
		   "source": [
			"## Example 7.16: null_to_null_and_half_power_beam_width_and_directivity.sce"
		   ]
		  },
  {
"cell_type": "code",
	   "execution_count": null,
	   "metadata": {
	    "collapsed": true
	   },
	   "outputs": [],
"source": [
"//Exa 7.16\n",
"clc;\n",
"clear;\n",
"close;\n",
"Lm=poly(0,'Lm') // defining Lm as lambda\n",
"D_a=6*Lm // where D_a is mouth diameter in m and Lm is wavelength\n",
"// formula : HPBW=phi=70*(lambda/D_a)\n",
"phi=70*(Lm/D_a) // half power beam width in degrees\n",
"phi=horner(phi,1)\n",
"phi_not=2*phi // null-to-null beam width in degrees\n",
"// formula : D=6.4*(D_a/lambda)^2\n",
"D=6.4*(D_a/Lm)^2\n",
"D=horner(D,1)\n",
"disp(D,'Directivity:')\n",
"disp(phi,'half power beam width in degrees:')\n",
"disp(phi_not,'null-to-null beam width in degrees:')"
   ]
   }
,
{
		   "cell_type": "markdown",
		   "metadata": {},
		   "source": [
			"## Example 7.17: beam_width_power_gain_and_directivity.sce"
		   ]
		  },
  {
"cell_type": "code",
	   "execution_count": null,
	   "metadata": {
	    "collapsed": true
	   },
	   "outputs": [],
"source": [
"//Exa 7.17\n",
"clc;\n",
"clear;\n",
"close;\n",
"// given :\n",
"f=6 // frequency in GHz\n",
"f=6*10^9 // frequency in Hz\n",
"c=3*10^8 // speed of light in m/s\n",
"lambda=c/f // wavelength in m\n",
"d=12 // aperture length in cm\n",
"d=12*10^-2 // aperture length in m\n",
"w=6 // aperture width in cm\n",
"w=6*10^-2 // aperture width in m\n",
"phi_E=56*(lambda/d) // half power beam width for aperture length d in Degrees\n",
"phi_H=67*(lambda/w) // half power beam width for aperture width w in Degrees\n",
"G_p=(4.5*w*d)/(lambda)^2 // power gain\n",
"G_p=10*log10(G_p) // power gain in dB\n",
"D=(7.5*w*d)/(lambda)^2 // Directivity\n",
"disp(phi_E,'half power beam width for aperture length d in Degrees:')\n",
"disp(phi_H,'half power beam width for aperture width w in Degrees:')\n",
"disp(G_p,'power gain in dB:')\n",
"disp(D,'Directivity:')"
   ]
   }
,
{
		   "cell_type": "markdown",
		   "metadata": {},
		   "source": [
			"## Example 7.18: power_gain_of_a_square_horn_antenna.sce"
		   ]
		  },
  {
"cell_type": "code",
	   "execution_count": null,
	   "metadata": {
	    "collapsed": true
	   },
	   "outputs": [],
"source": [
"// Exa 7.18\n",
"clc;\n",
"clear;\n",
"close;\n",
"Lm=poly(0,'Lm') // defining Lm as lambda\n",
"d=8*Lm // where d is aperture length and Lm is wavelength\n",
"w=8*Lm // where w is aperture width\n",
"//formula : G_p=(4.5*w*d)/lambda^2\n",
"G_p=(4.5*w*d)/Lm^2 // power gain\n",
"G_p=horner(G_p,1) \n",
"G_p=10*log10(G_p) // power gain in dB\n",
"disp(G_p,'power gain in dB:')"
   ]
   }
,
{
		   "cell_type": "markdown",
		   "metadata": {},
		   "source": [
			"## Example 7.19: power_gain_and_directivity_of_a_horn_antenna.sce"
		   ]
		  },
  {
"cell_type": "code",
	   "execution_count": null,
	   "metadata": {
	    "collapsed": true
	   },
	   "outputs": [],
"source": [
"//Exa 7.19\n",
"clc;\n",
"clear;\n",
"close;\n",
"// given :\n",
"f=6 // frequency in GHz\n",
"f=6*10^9 // frequency in Hz\n",
"c=3*10^8 // speed of light in m/s\n",
"lambda=c/f // wavelength in m\n",
"d=10 // aperture length in cm\n",
"d=10*10^-2 // aperture length in m\n",
"w=5 // aperture width in cm\n",
"w=5*10^-2 // aperture width in m\n",
"G_p=(4.5*w*d)/(lambda)^2 // power gain\n",
"G_p=10*log10(G_p) // power gain in dB\n",
"D=(7.5*w*d)/(lambda)^2 // Directivity\n",
"D=10*log10(D) // directivity in dB\n",
"disp(G_p,'power gain in dB:')\n",
"disp(D,'Directivity in dB:')"
   ]
   }
,
{
		   "cell_type": "markdown",
		   "metadata": {},
		   "source": [
			"## Example 7.1: null_to_null_and_half_power_beam_width_of_a_paraboloid_reflector.sce"
		   ]
		  },
  {
"cell_type": "code",
	   "execution_count": null,
	   "metadata": {
	    "collapsed": true
	   },
	   "outputs": [],
"source": [
"//Exa 7.1\n",
"clc;\n",
"clear;\n",
"close;\n",
"// given :\n",
"D=2 // Diameter of paraboloid reflector in m\n",
"c=3*10^8 // speed of light in m/s\n",
"f=5 // frequency in GHz\n",
"f=5*10^9 // frequency in Hz\n",
"lambda=c/f // wavelength in m\n",
"BWFN=140*(lambda/D) // null-to-null beamwidth in degrees\n",
"HPBW=70*(lambda/D) // half power beamwidth in degrees\n",
"disp(BWFN,'null-to-null beamwidth in degrees:')\n",
"disp(HPBW,'half power beamwidth in degrees:')"
   ]
   }
,
{
		   "cell_type": "markdown",
		   "metadata": {},
		   "source": [
			"## Example 7.20: complementary_slot_impedances.sce"
		   ]
		  },
  {
"cell_type": "code",
	   "execution_count": null,
	   "metadata": {
	    "collapsed": true
	   },
	   "outputs": [],
"source": [
"//Exa 7.20\n",
"clc;\n",
"clear;\n",
"close;\n",
"// given :\n",
"eta_0=377 //intrinsic impedance in ohm\n",
"disp('when Zd=73+%i*42.5')\n",
"Zd=73+%i*42.5 // dipole impedance\n",
"// formula : zs*zd=(eta_0)^2/4\n",
"Zs=eta_0^2/(4*Zd) // slot impedance in ohm\n",
"disp(Zs,'complementary slot impedance in ohm:')\n",
"\n",
"disp('when Zd=67+%i*0')\n",
"Zd=67+%i*0 // dipole impedance\n",
"// formula : zs*zd=(eta_0)^2/4\n",
"Zs=eta_0^2/(4*Zd) // slot impedance in ohm\n",
"disp(Zs,'complementary slot impedance in ohm:')\n",
"\n",
"disp('when Zd=710+%i*0')\n",
"Zd=710+%i*0 // dipole impedance\n",
"// formula : zs*zd=(eta_0)^2/4\n",
"Zs=eta_0^2/(4*Zd) // slot impedance in ohm\n",
"disp(Zs,'complementary slot impedance in ohm:')\n",
"\n",
"\n",
"disp('when Zd=500+%i*0')\n",
"Zd=500+%i*0 // dipole impedance\n",
"// formula : zs*zd=(eta_0)^2/4\n",
"Zs=eta_0^2/(4*Zd) // slot impedance in ohm\n",
"disp(Zs,'complementary slot impedance in ohm:')\n",
"\n",
"\n",
"disp('when Zd=50+%i*20')\n",
"Zd=50+%i*20 // dipole impedance\n",
"// formula : zs*zd=(eta_0)^2/4\n",
"Zs=eta_0^2/(4*Zd) // slot impedance in ohm\n",
"disp(Zs,'complementary slot impedance in ohm:')\n",
"\n",
"\n",
"disp('when Zd=50-%i*25')\n",
"Zd=50-%i*25 // dipole impedance\n",
"// formula : zs*zd=(eta_0)^2/4\n",
"Zs=eta_0^2/(4*Zd) // slot impedance in ohm\n",
"disp(Zs,'complementary slot impedance in ohm:')\n",
"\n",
"\n",
"disp('when Zd=300+%i*0')\n",
"Zd=300+%i*0 // dipole impedance\n",
"// formula : zs*zd=(eta_0)^2/4\n",
"Zs=eta_0^2/(4*Zd) // slot impedance in ohm\n",
"disp(Zs,'complementary slot impedance in ohm:')"
   ]
   }
,
{
		   "cell_type": "markdown",
		   "metadata": {},
		   "source": [
			"## Example 7.2: gain_of_the_paraboloid_reflector_antenna.sce"
		   ]
		  },
  {
"cell_type": "code",
	   "execution_count": null,
	   "metadata": {
	    "collapsed": true
	   },
	   "outputs": [],
"source": [
"//Exa 7.2\n",
"clc;\n",
"clear;\n",
"close;\n",
"// given :\n",
"D=2 // mouth diameter of paraboloid reflector in m\n",
"c=3*10^8 // speed of light in m/s\n",
"f=5 // frequency in GHz\n",
"f=5*10^9 // frequency in Hz\n",
"lambda=c/f // wavelength in m\n",
"G=6.4*(D/lambda)^2 // power gain of paraboloid\n",
"G_p=10*log10(G) //power gain in dB\n",
"disp(G_p,'power gain in dB:')"
   ]
   }
,
{
		   "cell_type": "markdown",
		   "metadata": {},
		   "source": [
			"## Example 7.3: band_width_between_first_null_and_half_power_points.sce"
		   ]
		  },
  {
"cell_type": "code",
	   "execution_count": null,
	   "metadata": {
	    "collapsed": true
	   },
	   "outputs": [],
"source": [
"//Exa 7.3\n",
"clc;\n",
"clear;\n",
"close;\n",
"// given :\n",
"D_a=0.15 // mouth Diameter of paraboloid in m\n",
"c=3*10^8 // speed of light in m/s\n",
"f=10 // frequency in GHz\n",
"f=10*10^9 // frequency in Hz\n",
"lambda=c/f // wavelength in m\n",
"BWFN=140*(lambda/D_a) // null-to-null beamwidth in degrees\n",
"HPBW=70*(lambda/D_a) // half power beamwidth in degrees\n",
"disp(BWFN,'null-to-null beamwidth in degrees:')\n",
"disp(HPBW,'half power beamwidth in degrees:')\n",
"G_p=6.4*(D_a/lambda)^2 // power gain of paraboloid\n",
"G_p=10*log10(G_p) // power gain in dB\n",
"disp(G_p,'power gain in dB')"
   ]
   }
,
{
		   "cell_type": "markdown",
		   "metadata": {},
		   "source": [
			"## Example 7.4: Power_gain_in_Decibels.sce"
		   ]
		  },
  {
"cell_type": "code",
	   "execution_count": null,
	   "metadata": {
	    "collapsed": true
	   },
	   "outputs": [],
"source": [
"//Exa 7.4\n",
"clc;\n",
"clear;\n",
"close;\n",
"// given :\n",
"D_a=1.8 //mouth diameter of paraboloid reflector in m\n",
"c=3*10^8 // speed of light in m/s\n",
"f=2 // frequency in GHz\n",
"f=2*10^9 // frequency in Hz\n",
"lambda=c/f // wavelength in m\n",
"G_p=6.4*(D_a/lambda)^2 // power gain of paraboloid\n",
"G_p=10*log10(G_p) // power gain in dB\n",
"disp(G_p,'power gain in dB')"
   ]
   }
,
{
		   "cell_type": "markdown",
		   "metadata": {},
		   "source": [
			"## Example 7.5: mouth_diameter_HPBW_and_power_gain.sce"
		   ]
		  },
  {
"cell_type": "code",
	   "execution_count": null,
	   "metadata": {
	    "collapsed": true
	   },
	   "outputs": [],
"source": [
"//Exa 7.5\n",
"clc;\n",
"clear;\n",
"close;\n",
"// given :\n",
"c=3*10^8 // speed of light in m/s\n",
"f=5 // frequency in GHz\n",
"f=5*10^9 // frequency in Hz\n",
"lambda=c/f // wavelength in m\n",
"BWFN=10 // null-to-null beamwidth in degrees\n",
"// formula: BWFN=140*(lambda/D_a)\n",
"D_a=140*lambda/BWFN // mouth Diameter of paraboloid reflector in m\n",
"disp(D_a,'mouth Diameter of paraboloid reflector in m:')\n",
"HPBW=70*(lambda/D_a) // half power beamwidth in degrees\n",
"disp(HPBW,'half power beamwidth in degrees:')\n",
"G_p=6.4*(D_a/lambda)^2 // power gain of paraboloid\n",
"disp(G_p,'power gain of paraboloid:')"
   ]
   }
,
{
		   "cell_type": "markdown",
		   "metadata": {},
		   "source": [
			"## Example 7.6: beam_width_directivity_and_capoture_area.sce"
		   ]
		  },
  {
"cell_type": "code",
	   "execution_count": null,
	   "metadata": {
	    "collapsed": true
	   },
	   "outputs": [],
"source": [
"//Exa 7.6\n",
"clc;\n",
"clear;\n",
"close;\n",
"// given :\n",
"b=0.65 // illumination efficiency\n",
"D_a=6 // mouth diameter of paraboloid reflector in m\n",
"c=3*10^8 // speed of light in m/s\n",
"f=10 // frequency in GHz\n",
"f=10*10^9 // frequency in Hz\n",
"lambda=c/f // wavelength in m\n",
"A=%pi*(D_a)^2/4 // Actual area in m^2\n",
"A_c=0.65*A // capture area in m^2\n",
"D=6.4*(D_a/lambda)^2 // directivity\n",
"D=10*log10(D) // directivity in dB\n",
"phi=70*(lambda/D_a) // half power beam width in degrees\n",
"phi_not=2*phi // null-to-null main beam width in degrees\n",
"disp(D,'directivity in dB:')\n",
"disp(phi,'half power beam width in degrees:')\n",
"disp(phi_not,'null-to-null main beam width in degrees:')\n",
"disp(A_c,'capture area in m^2:')"
   ]
   }
,
{
		   "cell_type": "markdown",
		   "metadata": {},
		   "source": [
			"## Example 7.7: minimum_distance_required_between_two_antennas.sce"
		   ]
		  },
  {
"cell_type": "code",
	   "execution_count": null,
	   "metadata": {
	    "collapsed": true
	   },
	   "outputs": [],
"source": [
"//Exa 7.7\n",
"clc;\n",
"clear;\n",
"close;\n",
"// given :\n",
"D_a=6 // Diameter of paraboloid reflector in m\n",
"c=3*10^8 // speed of light in m/s\n",
"f=4 // frequency in GHz\n",
"f=4*10^9 // frequency in Hz\n",
"lambda=c/f // wavelength in m\n",
"r=2*D_a^2/lambda // required minimum distance between two antennae in m\n",
"disp(r,'required minimum distance between two antennae in m:')  "
   ]
   }
,
{
		   "cell_type": "markdown",
		   "metadata": {},
		   "source": [
			"## Example 7.8: mouth_diameter_and_beam_width.sce"
		   ]
		  },
  {
"cell_type": "code",
	   "execution_count": null,
	   "metadata": {
	    "collapsed": true
	   },
	   "outputs": [],
"source": [
"//Exa 7.8\n",
"clc;\n",
"clear;\n",
"close;\n",
"// given :\n",
"G_p=1000 // gain\n",
"c=3*10^8 // speed of light in m/s\n",
"f=3 // frequency in GHz\n",
"f=3*10^9 // frequency in Hz\n",
"lambda=c/f // wavelength in m\n",
"// formula : G_p=6.4*(D_a/lambda)^2 // power gain\n",
"D_a=lambda*(sqrt(G_p/6.4)) // mouth Diameter of paraboloid in m\n",
"BWFN=140*(lambda/D_a) // null-to-null beamwidth in degrees\n",
"HPBW=70*(lambda/D_a) // half power beamwidth in degrees\n",
"disp(D_a,'mouth Diameter of paraboloid in m')\n",
"disp(BWFN,'null-to-null beamwidth in degrees:')\n",
"disp(HPBW,'half power beamwidth in degrees:')"
   ]
   }
,
{
		   "cell_type": "markdown",
		   "metadata": {},
		   "source": [
			"## Example 7.9: capture_area_and_beam_width_of_paraboloid_antenna.sce"
		   ]
		  },
  {
"cell_type": "code",
	   "execution_count": null,
	   "metadata": {
	    "collapsed": true
	   },
	   "outputs": [],
"source": [
"//Exa 7.9\n",
"clc;\n",
"clear;\n",
"close;\n",
"// given :\n",
"c=3*10^8 // speed of light in m/s\n",
"f=10 // frequency in GHz\n",
"f=10*10^9 // frequency in Hz\n",
"lambda=c/f // wavelength in m\n",
"G_p=75 // power gain in dB\n",
"// formula : G_p=10*log10(G_p) // power gain in dB\n",
"G=10^(G_p/10) // simple power gain\n",
"// formula : G=6.4*(D_a/lambda)^2 // power gain\n",
"D_a=lambda*(sqrt(G/6.4)) // mouth Diameter of paraboloid in m\n",
"A=%pi*(D_a)^2/4 // Actual area in m^2\n",
"A_c=0.65*A // capture area in m^2\n",
"BWFN=140*(lambda/D_a) // null-to-null beamwidth in degrees\n",
"HPBW=70*(lambda/D_a) // half power beamwidth in degrees\n",
"disp(BWFN,'null-to-null beamwidth in degrees:')\n",
"disp(HPBW,'half power beamwidth in degrees:')\n",
"disp(A_c,'capture area in m^2:')\n",
"\n",
"\n",
"\n",
"//note : answer of A_c in book is 2269.83 m^2  but in scilab 2270.20 m^2"
   ]
   }
],
"metadata": {
		  "kernelspec": {
		   "display_name": "Scilab",
		   "language": "scilab",
		   "name": "scilab"
		  },
		  "language_info": {
		   "file_extension": ".sce",
		   "help_links": [
			{
			 "text": "MetaKernel Magics",
			 "url": "https://github.com/calysto/metakernel/blob/master/metakernel/magics/README.md"
			}
		   ],
		   "mimetype": "text/x-octave",
		   "name": "scilab",
		   "version": "0.7.1"
		  }
		 },
		 "nbformat": 4,
		 "nbformat_minor": 0
}
