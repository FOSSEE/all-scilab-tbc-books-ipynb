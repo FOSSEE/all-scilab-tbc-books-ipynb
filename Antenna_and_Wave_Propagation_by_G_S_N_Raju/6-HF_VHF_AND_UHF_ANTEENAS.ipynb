{
"cells": [
 {
		   "cell_type": "markdown",
	   "metadata": {},
	   "source": [
       "# Chapter 6: HF VHF AND UHF ANTEENAS"
	   ]
	},
{
		   "cell_type": "markdown",
		   "metadata": {},
		   "source": [
			"## Example 6.10: radiation_resistance_of_a_loop_antenna.sce"
		   ]
		  },
  {
"cell_type": "code",
	   "execution_count": null,
	   "metadata": {
	    "collapsed": true
	   },
	   "outputs": [],
"source": [
"//Exa6.10\n",
"clc;\n",
"clear;\n",
"close;\n",
"//given :\n",
"D=0.5 // diameter of loop antenna in m\n",
"a=D/2 // radius of loop antenna in m\n",
"f=1 // frequency in MHz\n",
"f=1*10^6 // frequency in Hz\n",
"c=3*10^8 // speed of light in m/s\n",
"lambda=c/f // wavelength in m\n",
"Rr=3720*(a/lambda) // radiation resistance of loop antenna in ohm\n",
"disp(Rr,'radiation resistance of loop antenna in ohm:')"
   ]
   }
,
{
		   "cell_type": "markdown",
		   "metadata": {},
		   "source": [
			"## Example 6.11: Directivity_of_a_loop_antenna.sce"
		   ]
		  },
  {
"cell_type": "code",
	   "execution_count": null,
	   "metadata": {
	    "collapsed": true
	   },
	   "outputs": [],
"source": [
"//Exa 6.11\n",
"clc;\n",
"clear;\n",
"close;\n",
"//given :\n",
"a=0.5 // radius of loop antenna in m\n",
"f=0.9 // frequency in MHz\n",
"f=0.9*10^6 // frequency in Hz\n",
"c=3*10^8 // speed of light in m/s\n",
"lambda=c/f // wavelength in m\n",
"k=(2*%pi*a)/lambda // constant\n",
"disp('the value of k is:')\n",
"disp(k)\n",
"disp('since,k<1/3')\n",
"disp('So Directivity of loop antenna is D=1.5')"
   ]
   }
,
{
		   "cell_type": "markdown",
		   "metadata": {},
		   "source": [
			"## Example 6.13: Directivity_and_radiation_resistance_of_a_loop_antenna.sce"
		   ]
		  },
  {
"cell_type": "code",
	   "execution_count": null,
	   "metadata": {
	    "collapsed": true
	   },
	   "outputs": [],
"source": [
"//Exa 6.13\n",
"clc;\n",
"clear;\n",
"close;\n",
"Lm=poly(0,'Lm') // defining Lm as lambda\n",
"d=1.5*Lm // diameter of antenna in m\n",
"a=d/2 // radius of antenna in m\n",
"// formula : Rr=3720*(a/Lm)\n",
"Rr=3720*(a/Lm) // radiation resistance of loop antenna in ohm\n",
"Rr=horner(Rr,1)\n",
"// formula : D=4.25*(a/Lm)\n",
"D=4.25*(a/Lm)// Directivity of the loop antenna\n",
"D=horner(D,1)\n",
"disp(Rr,'radiation resistance of the loop antenna in ohm:')\n",
"disp(D,'Directivity of the loop antenna:')"
   ]
   }
,
{
		   "cell_type": "markdown",
		   "metadata": {},
		   "source": [
			"## Example 6.14: array_length_number_of_elements_and_null_to_null_beam_width.sce"
		   ]
		  },
  {
"cell_type": "code",
	   "execution_count": null,
	   "metadata": {
	    "collapsed": true
	   },
	   "outputs": [],
"source": [
"//Exa 6.14\n",
"clc;\n",
"clear;\n",
"close;\n",
"//given :\n",
"Gp=28 // power gain\n",
"Lm=poly(0,'Lm') // defining Lm as lambda\n",
"d=Lm/2 // length of dipole\n",
"//formula : Gp=4*(L/lambda)\n",
"L=Gp*Lm/4 // array length\n",
"disp(L,'array length(where Lm is wavelength in m):')\n",
"N=7*2 // Number of elements in the array when spaced at lambda/2\n",
"disp(N,'Number of elements in the array when spaced at lambda/2:')\n",
"// formula : B.W=2*sqrt((2*/N)*(lambda/d))\n",
"BW=2*sqrt(horner((2*Lm/(N*d)),1)) // null-to-null beam width in radians\n",
"BW_d=BW*180/%pi // null-to-null beam width in degrees\n",
"disp(BW_d,'null-to-null beam width in degrees:')\n",
"\n",
"\n",
"\n",
"// Answer of null-to-null beam width in degrees is rounded-off in book."
   ]
   }
,
{
		   "cell_type": "markdown",
		   "metadata": {},
		   "source": [
			"## Example 6.15: null_to_null_and_half_power_beam_width_and_directivity.sce"
		   ]
		  },
  {
"cell_type": "code",
	   "execution_count": null,
	   "metadata": {
	    "collapsed": true
	   },
	   "outputs": [],
"source": [
"//Exa 6.15\n",
"clc;\n",
"clear;\n",
"close;\n",
"// given :\n",
"S=0.05 // spacing in m\n",
"Dh=0.1 // diameter of helical antenna in m\n",
"N=20 // number of turns\n",
"f=1000 // frequency in MHz\n",
"f=1000*10^6 // frequency in MHz\n",
"c=3*10^8 // speed of light in m/s\n",
"lambda=c/f // wavelength in m\n",
"C=%pi*Dh // circumfrence of helix in m\n",
"La=N*S // axial legth in m\n",
"phi_not=(115*(lambda^(3/2))/(C*sqrt(La))) // B.W.F.N., null-to-null beamwidth of main beam in Degreess\n",
"phi=(52*lambda^(3/2)/(C*sqrt(La))) // H.P.B.W, half power beamwidth in Degreess\n",
"D=(15*N*C^2*S/(lambda)^3) // Directivity\n",
"disp(phi_not,'B.W.F.N., null-to-null beamwidth of main beam in Degrees:')\n",
"disp(phi,'H.P.B.W, half power beamwidth in Degrees:')\n",
"disp(D,'Directivity:')"
   ]
   }
,
{
		   "cell_type": "markdown",
		   "metadata": {},
		   "source": [
			"## Example 6.1: Designing_of_a_rhombic_antenna.sce"
		   ]
		  },
  {
"cell_type": "code",
	   "execution_count": null,
	   "metadata": {
	    "collapsed": true
	   },
	   "outputs": [],
"source": [
"//Exa 6.1\n",
"clc;\n",
"clear;\n",
"close;\n",
"//given :\n",
"f=30 // frequency in MHz\n",
"f=30*10^6 // frequency in Hz\n",
"c=3*10^8 // speed of light in m/s\n",
"lambda=c/f // wavelength in meter\n",
"Delta=30 // angle of elevation in Degrees\n",
"H=lambda/(4*sind(Delta)) // Rhombic height in m\n",
"phi=90-Delta // tilt angle in Degrees\n",
"l=lambda/(2*(cosd(phi)^2)) // wire length in m\n",
"disp(H,' Rhombic height in m:')\n",
"disp(phi,'Tilt angle in Degrees:')\n",
"disp(l,'length of wire in meter:')"
   ]
   }
,
{
		   "cell_type": "markdown",
		   "metadata": {},
		   "source": [
			"## Example 6.2: Designing_of_a_rhombic_antenna.sce"
		   ]
		  },
  {
"cell_type": "code",
	   "execution_count": null,
	   "metadata": {
	    "collapsed": true
	   },
	   "outputs": [],
"source": [
"//Exa 6.2\n",
"clc;\n",
"clear;\n",
"close;\n",
"//given :\n",
"f=20 //frequency in MHz\n",
"f=20*10^6 // frequency in Hz\n",
"c=3*10^8 //speed of light in m/s\n",
"lambda=c/f //wavelength in meter\n",
"Delta=10 // angle of elevation in Degrees\n",
"H=lambda/(4*sind(Delta)) // Rhombic height in m\n",
"phi=90-Delta // tilt angle in Degrees\n",
"l=lambda/(2*(cosd(phi)^2)) // wire length in m\n",
"disp(H,' Rhombic height in m:')\n",
"disp(phi,'Tilt angle in Degrees:')\n",
"disp(l,'length of wire in meter:')"
   ]
   }
,
{
		   "cell_type": "markdown",
		   "metadata": {},
		   "source": [
			"## Example 6.3: Designing_of_a_rhombic_antenna.sce"
		   ]
		  },
  {
"cell_type": "code",
	   "execution_count": null,
	   "metadata": {
	    "collapsed": true
	   },
	   "outputs": [],
"source": [
"//Exa 6.3\n",
"clc;\n",
"clear;\n",
"close;\n",
"//given :\n",
"f=30 //frequency in MHz\n",
"f=30*10^6 //frequency in Hz\n",
"c=3*10^8 //speed of light in m/s\n",
"lambda=c/f //wavelength in meter\n",
"\n",
"disp('for Delta=10 degrees')\n",
"\n",
"Delta1=10 // angle of elevation in Degrees\n",
"H1=lambda/(4*sind(Delta1)) // Rhombic height in m\n",
"phi1=90-Delta1 // tilt angle in Degrees\n",
"l1=lambda/(2*(cosd(phi1)^2)) // wire length in m\n",
"disp(H1,' Rhombic height in m:')\n",
"disp(phi1,'Tilt angle in Degrees:')\n",
"disp(l1,'length of wire in meter:')\n",
"\n",
"disp('for Delta=15 degrees')\n",
"\n",
"Delta2=15 // angle of elevation in Degrees\n",
"H2=lambda/(4*sind(Delta2)) // Rhombic height in m\n",
"phi2=90-Delta2 // tilt angle in Degrees\n",
"l2=lambda/(2*(cosd(phi2)^2)) // wire length in m\n",
"disp(H2,' Rhombic height in m:')\n",
"disp(phi2,'Tilt angle in Degrees:')\n",
"disp(l2,'length of wire in meter:')\n",
"\n",
"disp('for Delta=20 degrees')\n",
"\n",
"Delta3=20 // angle of elevation in Degrees\n",
"H3=lambda/(4*sind(Delta3)) // Rhombic height in m\n",
"phi3=90-Delta3 // tilt angle in Degrees\n",
"l3=lambda/(2*(cosd(phi3)^2)) // wire length in m\n",
"disp(H3,' Rhombic height in m:')\n",
"disp(phi3,'Tilt angle in Degrees:')\n",
"disp(l3,'length of wire in meter:')\n",
"\n",
"disp('for Delta=25 degrees')\n",
"\n",
"Delta4=25 // angle of elevation in Degrees\n",
"H4=lambda/(4*sind(Delta4)) // Rhombic height in m\n",
"phi4=90-Delta4 // tilt angle in Degrees\n",
"l4=lambda/(2*(cosd(phi4)^2)) // wire length in m\n",
"disp(H4,' Rhombic height in m:')\n",
"disp(phi4,'Tilt angle in Degrees:')\n",
"disp(l4,'length of wire in meter:')\n",
"\n",
"disp('for Delta=30 degrees')\n",
"\n",
"Delta5=30 // angle of elevation in Degrees\n",
"H5=lambda/(4*sind(Delta5)) // Rhombic height in m\n",
"phi5=90-Delta5 // tilt angle in Degrees\n",
"l5=lambda/(2*(cosd(phi5)^2)) // wire length in m\n",
"disp(H5,' Rhombic height in m:')\n",
"disp(phi5,'Tilt angle in Degrees:')\n",
"disp(l5,'length of wire in meter:')\n",
"\n",
"disp('for Delta=35 degrees')\n",
"\n",
"Delta6=35 // angle of elevation in Degrees\n",
"H6=lambda/(4*sind(Delta6)) // Rhombic height in m\n",
"phi6=90-Delta6 // tilt angle in Degrees\n",
"l6=lambda/(2*(cosd(phi6)^2)) // wire length in m\n",
"disp(H6,' Rhombic height in m:')\n",
"disp(phi6,'Tilt angle in Degrees:')\n",
"disp(l6,'length of wire in meter:')\n",
"\n",
"disp('for Delta=40 degrees')\n",
"\n",
"Delta7=40 // angle of elevation in Degrees\n",
"H7=lambda/(4*sind(Delta7)) // Rhombic height in m\n",
"phi7=90-Delta7 // tilt angle in Degrees\n",
"l7=lambda/(2*(cosd(phi7)^2)) // wire length in m\n",
"disp(H7,' Rhombic height in m:')\n",
"disp(phi7,'Tilt angle in Degrees:')\n",
"disp(l7,'length of wire in meter:')"
   ]
   }
,
{
		   "cell_type": "markdown",
		   "metadata": {},
		   "source": [
			"## Example 6.4: Design_parameters_of_rhombic_anteena.sce"
		   ]
		  },
  {
"cell_type": "code",
	   "execution_count": null,
	   "metadata": {
	    "collapsed": true
	   },
	   "outputs": [],
"source": [
"//Exa 6.4\n",
"clc;\n",
"clear;\n",
"close;\n",
"// given :\n",
"f=30 //frequency in MHz\n",
"f=30*10^6 //frequency in Hz\n",
"c=3*10^8 //speed of light in m/s\n",
"K=0.74 // constant\n",
"lambda=c/f // in meter\n",
"Delta=30 // angle of elevation in Degrees\n",
"H=lambda/(4*sind(Delta)) // Rhombic height in m\n",
"phi=90-Delta // tilt angle in Degrees\n",
"l=(lambda/(2*(cosd(phi)^2)))*K // wire length in m\n",
"disp(H,' Rhombic height in m:')\n",
"disp(phi,'Tilt angle in Degrees:')\n",
"disp(l,'length of wire in meter:')"
   ]
   }
,
{
		   "cell_type": "markdown",
		   "metadata": {},
		   "source": [
			"## Example 6.5: Design_parameters_of_rhombic_anteena.sce"
		   ]
		  },
  {
"cell_type": "code",
	   "execution_count": null,
	   "metadata": {
	    "collapsed": true
	   },
	   "outputs": [],
"source": [
"//Exa 6.5\n",
"clc;\n",
"clear;\n",
"close;\n",
"// given :\n",
"f=20 //ferquency in MHz\n",
"f=20*10^6 //frequency in Hz\n",
"c=3*10^8 //speed of light in m/s\n",
"K=0.74 // constant\n",
"lambda=c/f //wavelength in meter\n",
"Delta=20 // angle of elevation in Degrees\n",
"H=lambda/(4*sind(Delta)) // Rhombic height in m\n",
"phi=90-Delta // tilt angle in Degrees\n",
"l=(lambda/(2*(cosd(phi)^2)))*K // wire length in m\n",
"disp(H,'Rhombic height in m:')\n",
"disp(phi,'Tilt angle in Degrees:')\n",
"disp(l,'length of wire in meter:')"
   ]
   }
,
{
		   "cell_type": "markdown",
		   "metadata": {},
		   "source": [
			"## Example 6.6: Design_a_three_element_yagi_uda_antenna.sce"
		   ]
		  },
  {
"cell_type": "code",
	   "execution_count": null,
	   "metadata": {
	    "collapsed": true
	   },
	   "outputs": [],
"source": [
"//Exa 6.6\n",
"clc;\n",
"clear;\n",
"close;\n",
"// given :\n",
"f_MHz=172 // frequency in MHz\n",
"c=3*10^8 // speed of light in m/s\n",
"lambda=c/f_MHz // wavelength in m\n",
"La=478/f_MHz // length of driven element in feet\n",
"Lr=492/f_MHz // length of reflector in feet\n",
"Ld=461.5/f_MHz // length of director in feet\n",
"S=142/f_MHz // element spacing in feet\n",
"disp(La,'length of driven element in feet:')\n",
"disp(Lr,'length of reflector in feet:')\n",
"disp(Ld,'length of director in feet:')\n",
"disp(S,'element spacing in feet:')"
   ]
   }
,
{
		   "cell_type": "markdown",
		   "metadata": {},
		   "source": [
			"## Example 6.7: Designing_of_a_six_element_yagi_uda_antenna.sce"
		   ]
		  },
  {
"cell_type": "code",
	   "execution_count": null,
	   "metadata": {
	    "collapsed": true
	   },
	   "outputs": [],
"source": [
"//Exa6.7\n",
"clc;\n",
"clear;\n",
"close;\n",
"// given :\n",
"G=12 // required gain in dB\n",
"f=200 // frequency in MHz \n",
"f=200*10^6 // frequency in Hz\n",
"c=3*10^8 // speed of light in m/s\n",
"lambda=c/f // wavelength in m\n",
"La=0.46*lambda // length of driven element in m    (note: in book La is given 0.416*lambda misprint)\n",
"Lr=0.475*lambda // length of reflector in m\n",
"Ld1=0.44*lambda // length of director1 in m\n",
"Ld2=0.44*lambda // length of director2 in m\n",
"Ld3=0.43*lambda // length of director3 in m\n",
"Ld4=0.40*lambda // length of director4 in m\n",
"SL=0.25*lambda // spacing between reflector and driver in m\n",
"Sd=0.31*lambda // spacing director and driving element in m\n",
"d=0.01*lambda // diameter of elements in m\n",
"l=1.5*lambda // length of array in m\n",
"disp(La,'length of driven element in m:')\n",
"disp(Lr,'length of reflector in m:')\n",
"disp(Ld1,'length of director1 in m:')\n",
"disp(Ld2,'length of director2 in m:')\n",
"disp(Ld3,'length of director3 in m:')\n",
"disp(Ld4,'length of director4 in m:')\n",
"disp(SL,'spacing between reflector and driver in m:')\n",
"disp(Sd,'spacing director and driving element in m:')\n",
"disp(d,'diameter of elements in m:')\n",
"disp(l,'length of array in m:')"
   ]
   }
,
{
		   "cell_type": "markdown",
		   "metadata": {},
		   "source": [
			"## Example 6.8: Designing_of_a_long_periodic_antenna.sce"
		   ]
		  },
  {
"cell_type": "code",
	   "execution_count": null,
	   "metadata": {
	    "collapsed": true
	   },
	   "outputs": [],
"source": [
"//Exa 6.8\n",
"clc;\n",
"clear;\n",
"close;\n",
"// given :\n",
"G=9 // required gain in dB\n",
"f_l=125 // lowest frequency in MHz\n",
"f_l=125*10^6 // lowest frequency in Hz\n",
"f_h=500 // highest frequency in MHz\n",
"f_h=500*10^6 // lowest frequency in Hz\n",
"c=3*10^8 // speed of light in m/s\n",
"lambda_l=c/f_l // longest wavelength in m\n",
"lambda_s=c/f_h // shortest wavelength in m\n",
"tau=0.861 // scaling factor\n",
"sigma=0.162 // spacing factor\n",
"alpha=2*atand((1-tau)/(4*sigma)) // wedge angle in Degrees\n",
"L1=lambda_l/2 // in m\n",
"L2=tau*L1 // in m\n",
"L3=tau*L2 // in m\n",
"L4=tau*L3 // in m\n",
"L5=tau*L4 // in m\n",
"L6=tau*L5 // in m\n",
"L7=tau*L6 // in m\n",
"L8=tau*L7 // in m\n",
"L9=tau*L8 // in m\n",
"L10=tau*L9 // in m\n",
"L11=tau*L10 // in m\n",
"\n",
"// element spacing relation\n",
"//formula : sn=2*sigma*Ln\n",
"S1=2*sigma*L1 // in m\n",
"S2=2*sigma*L2 // in m\n",
"S3=2*sigma*L3 // in m\n",
"S4=2*sigma*L4 // in m\n",
"S5=2*sigma*L5 // in m\n",
"S6=2*sigma*L6 // in m\n",
"S7=2*sigma*L7 // in m\n",
"S8=2*sigma*L8 // in m\n",
"S9=2*sigma*L9 // in m\n",
"S10=2*sigma*L10 // in m\n",
"S11=2*sigma*L11 // in m\n",
"\n",
"\n",
"disp('designing of log-periodic antenna:')\n",
"\n",
"disp(L1,'L1 in m:')\n",
"disp(L2,'L2 in m:')\n",
"disp(L3,'L3 in m:')\n",
"disp(L4,'L4 in m:')\n",
"disp(L5,'L5 in m:')\n",
"disp(L6,'L6 in m:')\n",
"disp(L7,'L7 in m:')\n",
"disp(L8,'L8 in m:')\n",
"disp(L9,'L9 in m:')\n",
"disp(L10,'L10 in m:')\n",
"disp(L11,'L11 in m:')\n",
"\n",
"disp('elements spacing relation:')\n",
"disp(S1,'S1 in m:')\n",
"disp(S2,'S2 in m:')\n",
"disp(S3,'S3 in m:')\n",
"disp(S4,'S4 in m:')\n",
"disp(S5,'S5 in m:')\n",
"disp(S6,'S6 in m:')\n",
"disp(S7,'S7 in m:')\n",
"disp(S8,'S8 in m:')\n",
"disp(S9,'S9 in m:')\n",
"disp(S10,'S10 in m:')\n",
"disp(S11,'S11 in m:')"
   ]
   }
,
{
		   "cell_type": "markdown",
		   "metadata": {},
		   "source": [
			"## Example 6.9: induced_voltage_in_a_loop_antenna.sce"
		   ]
		  },
  {
"cell_type": "code",
	   "execution_count": null,
	   "metadata": {
	    "collapsed": true
	   },
	   "outputs": [],
"source": [
"//Exa 6.9\n",
"clc;\n",
"clear;\n",
"close;\n",
"// given :\n",
"E_rms=10 // electric field in mV/m\n",
"E_rms=10*10^-3 // electric field in V/m\n",
"f=2 // frequency in MHz\n",
"f=2*10^6 // frequency in Hz\n",
"N=10 // number of turns\n",
"phi=0 // angle between the plane of loop and direction of incident wave in Degrees\n",
"S=1.4 // area of loop antenna in m^2\n",
"c=3*10^8 // speed of light in m/s\n",
"lambda=c/f // wavelength in m\n",
"E_max=sqrt(2)*E_rms // electric field in V/m\n",
"V_rms=(2*%pi*E_max*S*N/lambda)*cosd(phi) // induced voltage\n",
"disp(V_rms*1000,'induced voltage in mV:')"
   ]
   }
],
"metadata": {
		  "kernelspec": {
		   "display_name": "Scilab",
		   "language": "scilab",
		   "name": "scilab"
		  },
		  "language_info": {
		   "file_extension": ".sce",
		   "help_links": [
			{
			 "text": "MetaKernel Magics",
			 "url": "https://github.com/calysto/metakernel/blob/master/metakernel/magics/README.md"
			}
		   ],
		   "mimetype": "text/x-octave",
		   "name": "scilab",
		   "version": "0.7.1"
		  }
		 },
		 "nbformat": 4,
		 "nbformat_minor": 0
}
