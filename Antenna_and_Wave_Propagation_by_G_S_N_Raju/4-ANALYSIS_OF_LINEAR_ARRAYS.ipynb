{
"cells": [
 {
		   "cell_type": "markdown",
	   "metadata": {},
	   "source": [
       "# Chapter 4: ANALYSIS OF LINEAR ARRAYS"
	   ]
	},
{
		   "cell_type": "markdown",
		   "metadata": {},
		   "source": [
			"## Example 4.10: basic_and_actual_transmission_loss.sce"
		   ]
		  },
  {
"cell_type": "code",
	   "execution_count": null,
	   "metadata": {
	    "collapsed": true
	   },
	   "outputs": [],
"source": [
"// Exa 4.10\n",
"clc;\n",
"clear;\n",
"close;\n",
"// given : \n",
"d=30 //separation distance in meter\n",
"f=10 //frequency in mega hertz\n",
"f=10*10^6 //frequency in hertz\n",
"c=3*10^8 //speed of light in m/s\n",
"lambda=c/f //wavelength in meter\n",
"Gt=1.65 //transmitting gain in dB\n",
"Gr=1.65 //receiving gain in dB\n",
"// basic transmission loss :\n",
"// formula : Lb=10*log(((4*(%pi)*d)^2/(lambda)^2))\n",
"Lb=10*log10((4*(%pi)*d)^2/(lambda)^2) // basic transmmision loss in dB\n",
"disp(Lb,'basic transmmision loss in dB:')\n",
"// actual transmission loss :\n",
"La=Lb-Gt-Gr // actual transmisson loss in dB\n",
"disp(La,'actual transmisson loss in dB:')"
   ]
   }
,
{
		   "cell_type": "markdown",
		   "metadata": {},
		   "source": [
			"## Example 4.11: basic_transmission_loss.sce"
		   ]
		  },
  {
"cell_type": "code",
	   "execution_count": null,
	   "metadata": {
	    "collapsed": true
	   },
	   "outputs": [],
"source": [
"//Exa 4.11\n",
"clc;\n",
"clear;\n",
"close;\n",
"//when frequency=0.3GHz\n",
"// given :\n",
"f=0.3 //frequency in Ghz\n",
"f=0.3*10^9 //frequency in hertz\n",
"c=3*10^8 //speed of light in m/s\n",
"lambda=c/f //wavelength in meter\n",
"d1=1.6 // in Km\n",
"d1=1.6*10^3 // in meter\n",
"// formula : Lb=20*log10((4*(%pi)*d)/(lambda))\n",
"Lb1=20*log10(4*%pi*d1/lambda) // basic transmission loss in dB\n",
"disp(Lb1,'basic transmission loss in dB when d=1.6Km,f=0.3GHz:')\n",
"d2=16 // in Km\n",
"d2=16*10^3 // in meter\n",
"// formula : Lb=20*log10((4*(%pi)*d)/(lambda))\n",
"Lb2=20*log10(4*%pi*d2/lambda) // basic transmission loss in dB\n",
"disp(Lb2,'basic transmission loss in dB when d=16Km,f=0.3GHz:')\n",
"d3=160 // in Km\n",
"d3=160*10^3 // in meter\n",
"// formula : Lb=20*log10((4*(%pi)*d)/(lambda))\n",
"Lb3=20*log10(4*%pi*d3/lambda) // basic transmission loss in dB\n",
"disp(Lb3,'basic transmission loss in dB when d=160Km,f=0.3GHz:')\n",
"d4=320 // in Km\n",
"d4=320*10^3 // in meter\n",
"// formula : Lb=20*log10((4*(%pi)*d)/(lambda))\n",
"Lb4=20*log10(4*%pi*d4/lambda) // basic transmission loss in dB\n",
"disp(Lb4,'basic transmission loss in dB when d=320Km,f=0.3GHz:')\n",
"// when frequency is 3Ghz\n",
"// given :\n",
"f=3 //frequency in Ghz\n",
"f=3*10^9 //frequency in hertz\n",
"c=3*10^8 //speed of light in m/s\n",
"lambda=c/f //wavelength in meter\n",
"d1=1.6 // in Km\n",
"d1=1.6*10^3 // in meter\n",
"// formula : Lb=20*log10((4*(%pi)*d)/(lambda))\n",
"Lb1=20*log10(4*%pi*d1/lambda) // basic transmission loss in dB\n",
"disp(Lb1,'basic transmission loss in dB when d=1.6Km,f=3GHz:')\n",
"d2=16 // in Km\n",
"d2=16*10^3 // in meter\n",
"// formula : Lb=20*log10((4*(%pi)*d)/(lambda))\n",
"Lb2=20*log10(4*%pi*d2/lambda) // basic transmission loss in dB\n",
"disp(Lb2,'basic transmission loss in dB when d=16Km,f=3GHz:')\n",
"d3=160 // in Km\n",
"d3=160*10^3 // in meter\n",
"// formula : Lb=20*log10((4*(%pi)*d)/(lambda))\n",
"Lb3=20*log10(4*%pi*d3/lambda) // basic transmission loss in dB\n",
"disp(Lb3,'basic transmission loss in dB when d=160Km,f=3GHz:')\n",
"d4=320 // in Km\n",
"d4=320*10^3 // in meter\n",
"// formula : Lb=20*log10((4*(%pi)*d)/(lambda))\n",
"Lb4=20*log10(4*%pi*d4/lambda) // basic transmission loss in dB\n",
"disp(Lb4,'basic transmission loss in dB when d=320Km,f=3GHz:')"
   ]
   }
,
{
		   "cell_type": "markdown",
		   "metadata": {},
		   "source": [
			"## Example 4.12: Actual_transmission_loss.sce"
		   ]
		  },
  {
"cell_type": "code",
	   "execution_count": null,
	   "metadata": {
	    "collapsed": true
	   },
	   "outputs": [],
"source": [
"//Exa 4.12\n",
"clc;\n",
"clear;\n",
"close;\n",
"// given :\n",
"Gt=10 // transmission gain in dB\n",
"Gr=10 // receiving gain in dB\n",
"//when frequency=0.3GHz\n",
"// given :\n",
"f=0.3 //frequency in Ghz\n",
"f=0.3*10^9 //frequency in hertz\n",
"c=3*10^8 //speed of light in m/s\n",
"lambda=c/f //wavelength in meter\n",
"d1=1.6 // in Km\n",
"d1=1.6*10^3 // in meter\n",
"// formula : Lb=20*log10((4*(%pi)*d)/(lambda))\n",
"Lb1=20*log10(4*%pi*d1/lambda) // basic transmission loss in dB\n",
"La1=Lb1-Gt-Gr // Actual transmission loss in dB \n",
"disp(La1,'Actual transmission loss in dB when d=1.6Km,f=0.3GHz:')\n",
"d2=16 // in Km\n",
"d2=16*10^3 // in meter\n",
"// formula : Lb=20*log10((4*(%pi)*d)/(lambda))\n",
"Lb2=20*log10(4*%pi*d2/lambda) // basic transmission loss in dB\n",
"La2=Lb2-Gt-Gr // Actual transmission loss in dB \n",
"disp(La2,'Actual transmission loss in dB when d=16Km,f=0.3GHz:')\n",
"d3=160 // in Km\n",
"d3=160*10^3 // in meter\n",
"// formula : Lb=20*log10((4*(%pi)*d)/(lambda))\n",
"Lb3=20*log10(4*%pi*d3/lambda) // basic transmission loss in dB\n",
"La3=Lb3-Gt-Gr // Actual transmission loss in dB \n",
"disp(La3,'Actual transmission loss in dB when d=160Km,f=0.3GHz:')\n",
"d4=320 // in Km\n",
"d4=320*10^3 // in meter\n",
"// formula : Lb=20*log10((4*(%pi)*d)/(lambda))\n",
"Lb4=20*log10(4*%pi*d4/lambda) // basic transmission loss in dB\n",
"La4=Lb4-Gt-Gr // Actual transmission loss in dB \n",
"disp(La4,'Actual transmission loss in dB when d=320Km,f=0.3GHz:')\n",
"// when frequency is 3Ghz\n",
"// given :\n",
"f=3 //frequency in Ghz\n",
"f=3*10^9 //frequency in hertz\n",
"c=3*10^8 //speed of light in m/s\n",
"lambda=c/f //wavelength in meter\n",
"d1=1.6 // in Km\n",
"d1=1.6*10^3 // in meter\n",
"// formula : Lb=20*log10((4*(%pi)*d)/(lambda))\n",
"Lb1=20*log10(4*%pi*d1/lambda) // basic transmission loss in dB\n",
"La1=Lb1-Gt-Gr // Actual transmission loss in dB \n",
"disp(La1,'Actual transmission loss in dB when d=1.6Km,f=3GHz:')\n",
"d2=16 // in Km\n",
"d2=16*10^3 // in meter\n",
"// formula : Lb=20*log10((4*(%pi)*d)/(lambda))\n",
"Lb2=20*log10(4*%pi*d2/lambda) // basic transmission loss in dB\n",
"La2=Lb2-Gt-Gr // Actual transmission loss in dB \n",
"disp(La2,'Actual transmission loss in dB when d=16Km,f=3GHz:')\n",
"d3=160 // in Km\n",
"d3=160*10^3 // in meter\n",
"// formula : Lb=20*log10((4*(%pi)*d)/(lambda))\n",
"Lb3=20*log10(4*%pi*d3/lambda) // basic transmission loss in dB\n",
"La3=Lb3-Gt-Gr // Actual transmission loss in dB \n",
"disp(La3,'Actual transmission loss in dB when d=160Km,f=3GHz:')\n",
"d4=320 // in Km\n",
"d4=320*10^3 // in meter\n",
"// formula : Lb=20*log10((4*(%pi)*d)/(lambda))\n",
"Lb4=20*log10(4*%pi*d4/lambda) // basic transmission loss in dB\n",
"La4=Lb4-Gt-Gr // Actual transmission loss in dB \n",
"disp(La4,'Actual transmission loss in dB when d=320Km,f=3GHz:')"
   ]
   }
,
{
		   "cell_type": "markdown",
		   "metadata": {},
		   "source": [
			"## Example 4.13: receiving_power.sce"
		   ]
		  },
  {
"cell_type": "code",
	   "execution_count": null,
	   "metadata": {
	    "collapsed": true
	   },
	   "outputs": [],
"source": [
"//Exa 4.13\n",
"clc;\n",
"clear;\n",
"close;\n",
"// given :\n",
"Wt=15 // radaited power in watt\n",
"f=60 // in MHz\n",
"f=60*10^6 // in Hz\n",
"d=10 // in m\n",
"c=3*10^8 // in m/s\n",
"lambda=c/f // in meter\n",
"Gt=1.64 // transmitting gain in dB\n",
"Gr=1.64 // receiving gain in dB\n",
"Wr=(Wt*Gt*Gr*(lambda)^2/(4*(%pi)*d)^2) // receiving power in watt\n",
"disp(Wr*1000,'receiving power in mW:')"
   ]
   }
,
{
		   "cell_type": "markdown",
		   "metadata": {},
		   "source": [
			"## Example 4.1: null_to_null_beam_width_of_a_broadside_array.sce"
		   ]
		  },
  {
"cell_type": "code",
	   "execution_count": null,
	   "metadata": {
	    "collapsed": true
	   },
	   "outputs": [],
"source": [
"//Exa 4.1\n",
"clc;\n",
"clear;\n",
"close;\n",
"L=poly(0,'L') //Defining L as lambda\n",
"l=10*L \n",
"N=20 // number of elements\n",
"d=l/N \n",
"// formula : BW=(2*(L/d)*1/N)\n",
"BW1=(horner((2*L/(N*d)),1))\n",
"disp(BW1,'Null-to-null BW of broadside array in radians when l=10*L,N=20:')\n",
"l=50*L\n",
"N=100 // number of elements\n",
"d=l/N \n",
"// formula : BW=(2*(L/d)*1/N)\n",
"BW2=(horner((2*L/(N*d)),1))\n",
"disp(BW2,'Null-to-null BW of broadside array in radians when l=50*L,N=100:')\n",
"l=20*L\n",
"N=50 // number of elements\n",
"d=l/N \n",
"// formula : BW=(2*(L/d)*1/N)\n",
"BW3=(horner((2*L/(N*d)),1))\n",
"disp(BW3,'Null-to-null BW of broadside array in radians when l=20*L,N=50:')"
   ]
   }
,
{
		   "cell_type": "markdown",
		   "metadata": {},
		   "source": [
			"## Example 4.2: null_to_null_beam_width_of_a_endfire_array.sce"
		   ]
		  },
  {
"cell_type": "code",
	   "execution_count": null,
	   "metadata": {
	    "collapsed": true
	   },
	   "outputs": [],
"source": [
"//Exa 4.2\n",
"clc;\n",
"clear;\n",
"close;\n",
"L=poly(0,'L') //Defining L as lambda\n",
"l=10*L\n",
"N=20 // number of elements\n",
"d=l/N \n",
"// formula : BW=(2*sqrt(2*(L/d)*1/N))\n",
"BW1=2*sqrt(horner((2*L/(N*d)),1))\n",
"disp(BW1,'Null-to-null BW of end-fire array in radians when l=10*L,N=20:')\n",
"l=50*L\n",
"N=100 // number of elements\n",
"d=l/N \n",
"// formula : BW=(2*sqrt(2*(L/d)*1/N))\n",
"BW2=2*sqrt(horner((2*L/(N*d)),1))\n",
"disp(BW2,'Null-to-null BW of end-fire array in radians when l=50*L,N=100:')\n",
"l=20*L\n",
"N=50 // number of elements\n",
"d=l/N \n",
"// formula : BW=(2*sqrt(2*(L/d)*1/N))\n",
"BW3=2*sqrt(horner((2*L/(N*d)),1))\n",
"disp(BW3,'Null-to-null BW of end-fire array in radians when l=20*L,N=50:')"
   ]
   }
,
{
		   "cell_type": "markdown",
		   "metadata": {},
		   "source": [
			"## Example 4.3: null_to_null_beam_width_and_directivity.sce"
		   ]
		  },
  {
"cell_type": "code",
	   "execution_count": null,
	   "metadata": {
	    "collapsed": true
	   },
	   "outputs": [],
"source": [
"//Exa 4.3\n",
"clc;\n",
"clear;\n",
"close;\n",
"f=6 //frequency in GHz\n",
"f=6*10^9 //frequency in Hz\n",
"c=3*10^8 //speed of light in m/s\n",
"l=10 // array length in meter\n",
"lambda=c/f //wavelength in meter\n",
"// formula : BWFN = 2*lambda/l\n",
"BWFN = 2*(lambda/l) // band width in radians\n",
"disp(BWFN,'null-to-null Beamwidth of broad side array in radians:')\n",
"D=2*(l/lambda) // directivity\n",
"disp(D,'Directivity:')"
   ]
   }
,
{
		   "cell_type": "markdown",
		   "metadata": {},
		   "source": [
			"## Example 4.4: Progressive_phase_shift_and_array_length.sce"
		   ]
		  },
  {
"cell_type": "code",
	   "execution_count": null,
	   "metadata": {
	    "collapsed": true
	   },
	   "outputs": [],
"source": [
"//Exa 4.4\n",
"clc;\n",
"clear;\n",
"close;\n",
"//given :\n",
"f=10 //frequency in Ghz\n",
"f=10*10^9 //frequency in hertz\n",
"c=3*10^8 //speed of light in m/s\n",
"lambda=c/f //wavelength in meter\n",
"N=50 // number of elements\n",
"d=0.5*lambda // element spacing in meter\n",
"Beta=2*(%pi)/lambda // phase shift\n",
"alpha=Beta*d // progressive phase shift in radians\n",
"l=N*d // Araay length in meter\n",
"disp(alpha,'progressive phase shift in radians:')\n",
"disp(l,'Array length in meter')"
   ]
   }
,
{
		   "cell_type": "markdown",
		   "metadata": {},
		   "source": [
			"## Example 4.5: null_to_null_and_half_power_beam_width_and_directivity.sce"
		   ]
		  },
  {
"cell_type": "code",
	   "execution_count": null,
	   "metadata": {
	    "collapsed": true
	   },
	   "outputs": [],
"source": [
"//Exa 4.5\n",
"clc;\n",
"clear;\n",
"close;\n",
"// given :\n",
"N=100 // no. of elements\n",
"Lm=poly(0,'Lm') // defining Lm as lambda\n",
"d=0.5*Lm\n",
"l=N*d // array length\n",
"B.W.F.N = 114.6 /(l/Lm) // beam width in degrees\n",
"B.W.F.N=horner(B.W.F.N,1) \n",
"disp(B.W.F.N ,'null-to-null beamwidth in degrees:')\n",
"H.P.B.W = B.W.F.N/2 // half power beam width in degrees\n",
"disp(H.P.B.W ,'half power beamwidth in degrees:')\n",
"D1=2*(l/Lm) // directivity of broad side array\n",
"D1=horner(D1,1)\n",
"D2=4*(l/Lm) // directivity of end fire array\n",
"D2=horner(D2,1)\n",
"disp(D1,'directivity of broad side array:')\n",
"disp(D2,'directivity of end fire array:')\n",
"\n",
"// note : answer in the book is mis-printed,the HPBW is not 11.46 it should be 1.146 degrees. \n",
"\n",
"// note: misprint in second step of part a in book correct is l=N*d=100*0.5*lambda=50*lambda "
   ]
   }
,
{
		   "cell_type": "markdown",
		   "metadata": {},
		   "source": [
			"## Example 4.9: relative_excitation_levels.sce"
		   ]
		  },
  {
"cell_type": "code",
	   "execution_count": null,
	   "metadata": {
	    "collapsed": true
	   },
	   "outputs": [],
"source": [
"// Exa 4.9\n",
"clc;\n",
"clear;\n",
"close;\n",
"// given :\n",
"// formula :combination(n,r)=(factorial(n))/(factorial(r)*factorial(n-r))\n",
"disp('when n=2')\n",
"n=2\n",
"a_0=factorial(1)/factorial(0)*factorial(1) //relative excitation level 1\n",
"a_1=factorial(1)/factorial(1)*factorial(0) //relative excitation level 2\n",
"disp((string(a_0)+' '+string(a_1)),'relative excitation levels of binomial array at n=2:')\n",
"disp('when n=3')\n",
"n=3\n",
"a_1=factorial(1)/factorial(1)*factorial(0) //relative excitation level 2\n",
"a_0=2*a_1 // relative excitation level 1\n",
"disp((string(a_1)+' '+string(a_0)+' '+string(a_1)),'relative excitation levels of binomial array at n=3:')"
   ]
   }
],
"metadata": {
		  "kernelspec": {
		   "display_name": "Scilab",
		   "language": "scilab",
		   "name": "scilab"
		  },
		  "language_info": {
		   "file_extension": ".sce",
		   "help_links": [
			{
			 "text": "MetaKernel Magics",
			 "url": "https://github.com/calysto/metakernel/blob/master/metakernel/magics/README.md"
			}
		   ],
		   "mimetype": "text/x-octave",
		   "name": "scilab",
		   "version": "0.7.1"
		  }
		 },
		 "nbformat": 4,
		 "nbformat_minor": 0
}
