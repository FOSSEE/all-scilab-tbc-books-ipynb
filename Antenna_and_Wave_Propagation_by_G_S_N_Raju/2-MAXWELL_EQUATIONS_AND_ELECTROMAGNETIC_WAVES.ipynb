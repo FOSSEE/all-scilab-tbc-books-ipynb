{
"cells": [
 {
		   "cell_type": "markdown",
	   "metadata": {},
	   "source": [
       "# Chapter 2: MAXWELL EQUATIONS AND ELECTROMAGNETIC WAVES"
	   ]
	},
{
		   "cell_type": "markdown",
		   "metadata": {},
		   "source": [
			"## Example 2.12: frequency_wavelength_intrinsic_impedance_and_phase_constant.sce"
		   ]
		  },
  {
"cell_type": "code",
	   "execution_count": null,
	   "metadata": {
	    "collapsed": true
	   },
	   "outputs": [],
"source": [
"// Exa 2.12\n",
"clc;\n",
"clear;\n",
"close;\n",
"// given :\n",
"//H=cos(10^8*t-Beta*z)ay   // magnetic field in A/m\n",
"// E=377*cos(10^8*t-Beta*z)ax   // electric field in V/m\n",
"omega=10^8 // angular frequency in Hz\n",
"f=omega/(2*%pi) // frequency in Hz\n",
"v_0=3*10^8 // speed of light in m/s\n",
"lambda=v_0/f // wavelength in m\n",
"Beta=2*%pi/lambda // phase constant in rad/m\n",
"disp('eta_0= E/H = 377*cos(10^8*t-Beta*z)/cos(10^8*t-Beta*z) => E/H=377')\n",
"eta_0=abs(377) // intrinsic impedence in ohm\n",
"disp(eta_0,'intrinsic impedence in ohm:')\n",
"disp(f/10^6,'frequency in MHz:')\n",
"disp(Beta,'phase constant in rad/m:')\n",
"disp(lambda,'wavelength in m:')\n",
"\n",
"//note : answer of lambda in book is rounded-off,it is 18.86 meter."
   ]
   }
,
{
		   "cell_type": "markdown",
		   "metadata": {},
		   "source": [
			"## Example 2.14: propagation_constant.sce"
		   ]
		  },
  {
"cell_type": "code",
	   "execution_count": null,
	   "metadata": {
	    "collapsed": true
	   },
	   "outputs": [],
"source": [
"// Exa 2.14\n",
"clc;\n",
"clear;\n",
"close;\n",
"// given :\n",
"f=100 // frequency in MHz\n",
"f=100*10^6 // frequency in Hz\n",
"v_0=3*10^8 // speed of light in m/s\n",
"// formula : Gamma=%i*omega*sqrt(mu_0*epsilon_0)=%i*omega/v_0 =(%i*2*pi*f)/v_0\n",
"Gamma=%i*2*%pi*f/v_0 //propagation constant\n",
"disp(Gamma,'propagation constant in m^-1:')\n",
"funcprot(0)"
   ]
   }
,
{
		   "cell_type": "markdown",
		   "metadata": {},
		   "source": [
			"## Example 2.15: amplitude_frequency_wavelength_and_phase_constant.sce"
		   ]
		  },
  {
"cell_type": "code",
	   "execution_count": null,
	   "metadata": {
	    "collapsed": true
	   },
	   "outputs": [],
"source": [
"// Exa 2.15\n",
"clc;\n",
"clear;\n",
"close;\n",
"// given : H(z,t)=48*cos(10^8*t+40*z)ay // equation of magnetic field \n",
"A=48 // amplitude of the magnetic field in A/m\n",
"omega=10^8 // angular frequency in radians/sec\n",
"f=omega/(2*%pi) // frequency in Hz\n",
"Beta=40 // phase constant in rad/m\n",
"lambda=2*%pi/Beta // wavelength in m\n",
"disp(A,'amplitude of the magnetic field in A/m:')\n",
"disp(f/10^6,'frequency in MHz:')\n",
"disp(Beta,'phase constant in rad/m:')\n",
"disp(lambda,'wavelength in m:')"
   ]
   }
,
{
		   "cell_type": "markdown",
		   "metadata": {},
		   "source": [
			"## Example 2.16: electric_field_in_free_space_and_in_medium.sce"
		   ]
		  },
  {
"cell_type": "code",
	   "execution_count": null,
	   "metadata": {
	    "collapsed": true
	   },
	   "outputs": [],
"source": [
"// Exa 2.16\n",
"clc;\n",
"clear;\n",
"close;\n",
"// given :\n",
"H=2 // ampliutude of magnetic field in A/m\n",
"sigma=0 // conductivity\n",
"mu_0=4*%pi*10^-7 // permeability in free space in H/m\n",
"epsilon_0=8.854*10^-12 // permittivity in free space in F/m\n",
"mu=mu_0 // permeability in F/m\n",
"epsilon=4*epsilon_0 // permittivity in F/m\n",
"Eta_0=120*%pi // intrinsic impedence in free space in ohm\n",
"E=Eta_0*H // electric field in V/m\n",
"disp(E,'magnitude of electric field in V/m in free space:')\n",
"Eta=sqrt(mu/epsilon) // intrinsic impedence in ohm\n",
"E=Eta*H // magnitude of electric field\n",
"disp(E,'magnitude of electric field in V/m:')"
   ]
   }
,
{
		   "cell_type": "markdown",
		   "metadata": {},
		   "source": [
			"## Example 2.17: propagation_constant_and_intrinsic_impedance.sce"
		   ]
		  },
  {
"cell_type": "code",
	   "execution_count": null,
	   "metadata": {
	    "collapsed": true
	   },
	   "outputs": [],
"source": [
"//Exa 2.17\n",
"clc;\n",
"clear;\n",
"close;\n",
"// given :\n",
"sigma=0 // conductivity in mho/m\n",
"f=0.3 // frequency in GHz\n",
"f=0.3*10^9 // frequency in Hz\n",
"omega=2*%pi*f // angular frequency in rad/sec\n",
"// formula : Gamma=sqrt(%i*omega*mu*(sigma+%i*omega*epsilon))=%i*omega*sqrt(mu*epsilon)\n",
"epsilon_0=8.854*10^-12 // permittivity in free space in F/m\n",
"epsilon=9*epsilon_0 // permittivity in F/m\n",
"mu_0=4*%pi*10^-7 //  permeability in free space in H/m\n",
"mu=mu_0 // permeability in H/m\n",
"Gamma=%i*omega*sqrt(mu*epsilon) // propagation constant im m^-1\n",
"disp(Gamma,'propagation constant im m^-1:')\n",
"// formula : eta=sqrt((%i*omega*mu)/(sigma+omega*epsilon))=sqrt(mu/epsilon)\n",
"eta=sqrt(mu_0/(9*epsilon_0)) // intrinsic impedence in ohm\n",
"disp(eta,'intrinsic impedence in ohm:')\n",
"\n",
"\n",
"// note : answer of propagation constant in book is wrong.they put mu_0=4*10^-7 in part 1 which is wrong the correct value of mu_0 is 4*%pi*10^-7."
   ]
   }
,
{
		   "cell_type": "markdown",
		   "metadata": {},
		   "source": [
			"## Example 2.18: frequency_and_permittivity.sce"
		   ]
		  },
  {
"cell_type": "code",
	   "execution_count": null,
	   "metadata": {
	    "collapsed": true
	   },
	   "outputs": [],
"source": [
"//Exa 2.18\n",
"clc;\n",
"clear;\n",
"close;\n",
"// given :\n",
"lambda=0.25 // wavelength in m\n",
"v=1.5*10^10 // velocity of propagation of wave in cm/sec\n",
"v=1.5*10^8 // velocity of propagation of wave in m/sec\n",
"f=v/lambda // frequency in Hz\n",
"disp(f/10^6,'frequecy in MHz:')\n",
"epsilon_0=8.854*10^-12 // permittivity in free space in F/m\n",
"mu_0=4*%pi*10^-7 //  permeability in free space in H/m\n",
"mu=mu_0 // permeability in H/m\n",
"v_0=3*10^8 // speed of light in m/s\n",
"// formula : v=1/(mu*epsilon)=1/(mu_0*epsilon_0*epsilon_r)=v_0/sqrt(epsilon_r)\n",
"epsilon_r=(v_0/v)^2 // relative permittivity\n",
"disp(epsilon_r,'relative permittivity:')\n",
"\n",
"\n",
"//note : answer in the book is wrong."
   ]
   }
,
{
		   "cell_type": "markdown",
		   "metadata": {},
		   "source": [
			"## Example 2.19: frequency_phase_constant_and_wavelength.sce"
		   ]
		  },
  {
"cell_type": "code",
	   "execution_count": null,
	   "metadata": {
	    "collapsed": true
	   },
	   "outputs": [],
"source": [
"// Exa 2.19\n",
"clc;\n",
"clear;\n",
"close;\n",
"// given : E=5*sin(10^8*t+4*x)az // equation of electric field \n",
"A=5 // amplitude of the electric field\n",
"omega=10^8 // angular frequency in radians/sec\n",
"f=omega/(2*%pi) // frequency in Hz\n",
"Beta=4 // phase constant in rad/m\n",
"v_0=3*10^8 // speed of light in m/s\n",
"lambda=v_0/f // wavelength in m\n",
"disp(f/10^6,'frequency in MHz:')\n",
"disp(Beta,'phase constant in rad/m:')\n",
"disp(lambda,'wavelength in m:')"
   ]
   }
,
{
		   "cell_type": "markdown",
		   "metadata": {},
		   "source": [
			"## Example 2.20: conducting_characteristics_of_earrth.sce"
		   ]
		  },
  {
"cell_type": "code",
	   "execution_count": null,
	   "metadata": {
	    "collapsed": true
	   },
	   "outputs": [],
"source": [
"// Exa 2.20\n",
"clc;\n",
"clear;\n",
"close;\n",
"// given :\n",
"sigma=10^-2 // conductivity of earth in mho/m\n",
"epsilon_r=10 // relative permittivity\n",
"mu_r=2 // relative permeability\n",
"epsilon_0=(1/(36*%pi))*10^-9 // permittivity in free space\n",
"epsilon=epsilon_r*epsilon_0 // permittivity\n",
"f1=50 // frequency in Hz\n",
"omega1=2*%pi*f1 // angular frequency in rad/sec\n",
"disp('When frequency=50Hz:')\n",
"k1=sigma/(omega1*epsilon)\n",
"disp(k1,'K1 is equal to')\n",
"disp('since k1>>1 hence it behaves like a good conductor:')\n",
"f2=1 // frequency in kHz\n",
"f2=1*10^3 // frequency in Hz\n",
"omega2=2*%pi*f2 // angular frequency in rad/sec\n",
"disp('When frequency=1kHz:')\n",
"k2=sigma/(omega2*epsilon)\n",
"disp(k2,'K2 is equal to')\n",
"disp('since k2>>1 hence it behaves like a good conductor:')\n",
"f3=1 // frequency in MHz\n",
"f3=1*10^6 // frequency in Hz\n",
"omega3=2*%pi*f3 // angular frequency in rad/sec\n",
"disp('When frequency=1MHz:')\n",
"k3=sigma/(omega3*epsilon)\n",
"disp(k3,'K3 is equal to')\n",
"disp('since k3=18 hence it behaves like a moderate conductor:')\n",
"f4=100 // frequency in MHz\n",
"f4=100*10^6 // frequency in Hz\n",
"omega4=2*%pi*f4 // angular frequency in rad/sec\n",
"disp('When frequency=100MHz:')\n",
"k4=sigma/(omega4*epsilon)\n",
"disp(k4,'K4 is equal to')\n",
"disp('since k4=0.18 hence it behaves like a quasi-dielectric:')\n",
"f5=10 // frequency in GHz\n",
"f5=10*10^9 // frequency in Hz\n",
"omega5=2*%pi*f5 // angular frequency in rad/sec\n",
"disp('When frequency=10GHz:')\n",
"k5=sigma/(omega5*epsilon)\n",
"disp(k5,'K5 is equal to')\n",
"disp('since k5<<1 hence it behaves like a good dielectric:')"
   ]
   }
,
{
		   "cell_type": "markdown",
		   "metadata": {},
		   "source": [
			"## Example 2.21: EX2_21.sce"
		   ]
		  },
  {
"cell_type": "code",
	   "execution_count": null,
	   "metadata": {
	    "collapsed": true
	   },
	   "outputs": [],
"source": [
"// Exa 2.21\n",
"clc;\n",
"clear;\n",
"close;\n",
"// given :\n",
"f=60 // frequency in Hz\n",
"omega=2*%pi*f // angular frequency in rad/sec\n",
"sigma=5.8*10^7 // conductivity in mho/m\n",
"epsilon_0=8.854*10^-12 // permittivity in free space in F/m\n",
"mu_0=4*%pi*10^-7 //  permeability in free space in H/m\n",
"epsilon_r=1 // relative permittivity\n",
"mu_r=1 // relative permeability\n",
"epsilon=epsilon_r*epsilon_0 // permittivity\n",
"mu=mu_0*mu_r // permeability\n",
"k=sigma/(omega*epsilon) // ratio\n",
"disp(k,'ratio k is equal to')\n",
"disp('since k>>1 therefore it is very good conductor:')\n",
"alpha=sqrt(omega*mu*sigma/2) // attenuation constant in m^-1\n",
"Beta=sqrt(omega*mu*sigma/2) // phase constant in m^-1\n",
"Gamma=alpha+(%i*Beta) // propagation constant in m^-1\n",
"lambda=2*%pi/Beta // wavelength\n",
"eta=sqrt((%i*omega*mu/sigma)) // intrinsic impedence in ohm\n",
"v=lambda*f // phase velocity of wave in m/s\n",
"disp(alpha,'attenuation constant in m^-1:')\n",
"disp(Beta,'phase constant in m^-1:')\n",
"disp(Gamma,'propagation constant in m^-1:')\n",
"disp(eta,'intrinsic impedence in ohm:')\n",
"disp(lambda*100,'wavelength in cm:')\n",
"disp(v,'phase velocity of wave in m/s:')"
   ]
   }
,
{
		   "cell_type": "markdown",
		   "metadata": {},
		   "source": [
			"## Example 2.22: depth_of_penetation.sce"
		   ]
		  },
  {
"cell_type": "code",
	   "execution_count": null,
	   "metadata": {
	    "collapsed": true
	   },
	   "outputs": [],
"source": [
"// Exa 2.22\n",
"clc;\n",
"clear;\n",
"close;\n",
"// given :\n",
"f1=60 // frequency in Hz\n",
"omega1=2*%pi*f1 // angular frequency in Hz\n",
"f2=100 // frequency in MHz\n",
"f2=100*10^6 // frequency in Hz\n",
"omega2=2*%pi*f2 // angular frequency in Hz\n",
"sigma=5.8*10^7 // conductivity in mho/m\n",
"epsilon_0=8.854*10^-12 // permittivity in free space in F/m\n",
"mu_0=4*%pi*10^-7 //  permeability in free space in H/m\n",
"epsilon_r=1 // relative permittivity\n",
"mu_r=1 // relative permeability\n",
"epsilon=epsilon_r*epsilon_0 // permittivity\n",
"mu=mu_0*mu_r // permeability\n",
"\n",
"disp('At f=60Hz')\n",
"k1=(sigma)/(omega1*epsilon) // ratio\n",
"disp(k1,' ratio k is equal to')\n",
"disp('since k>>1 therefore it is very good conductor at f=60Hz:')\n",
"delta1=(sqrt(2/(omega1*mu*sigma))) // depth of penetration in m\n",
"disp(delta1,'depth of penetration delta1 in m:')\n",
"\n",
"disp('At f=100Hz')\n",
"k2=sigma/(omega2*epsilon) // ratio\n",
"disp(k2,'ratio k is equal to')\n",
"disp('since k2>>1 therefore it is very good conductor at f=100Hz:')\n",
"delta2=(sqrt(2/(omega2*mu*sigma))) // depth of penetration in m\n",
"disp(delta2,'depth of penetration delta2 in m:')"
   ]
   }
,
{
		   "cell_type": "markdown",
		   "metadata": {},
		   "source": [
			"## Example 2.23: displacement_current.sce"
		   ]
		  },
  {
"cell_type": "code",
	   "execution_count": null,
	   "metadata": {
	    "collapsed": true
	   },
	   "outputs": [],
"source": [
"// Exa 2.23\n",
"clc;\n",
"clear;\n",
"close;\n",
"// given :\n",
"Ic=10 // conduction current in ampere\n",
"epsilon_r=1 // relative permittivity\n",
"epsilon_0=8.854*10^-12 // permittivity in free space\n",
"epsilon=epsilon_r*epsilon_0 // permittivity\n",
"sigma=5.8*10^7 // conductivity in mho/m\n",
"disp('when f=1MHz')\n",
"f=1 // frequency in MHz\n",
"f=1*10^6 // frequency in Hz\n",
"Id=2*%pi*f*epsilon*Ic/sigma // displacement current\n",
"disp(Id,'displacement current when f=1MHz in A:')\n",
"disp('when f=100MHz')\n",
"f=100 // frequency in MHz\n",
"f=100*10^6 // frequency in Hz\n",
"Id=2*%pi*f*epsilon*Ic/sigma // displacement current\n",
"disp(Id,'displacement current when f=100MHz in A:')"
   ]
   }
,
{
		   "cell_type": "markdown",
		   "metadata": {},
		   "source": [
			"## Example 2.25: reachable_depth_of_the_sea.sce"
		   ]
		  },
  {
"cell_type": "code",
	   "execution_count": null,
	   "metadata": {
	    "collapsed": true
	   },
	   "outputs": [],
"source": [
"// Exa 2.25\n",
"clc;\n",
"clear;\n",
"close;\n",
"// given :\n",
"Em=20 // minimum signal level required for vessel under sea water in microV/m\n",
"Em=20*10^-6 // minimum signal level required for vessel under sea water in V/m\n",
"E=100 // electric intensity of wave in V/m\n",
"v=3*10^8 // speed of light in m/s\n",
"f=4 // frequency in MHz\n",
"f=4*10^6 // frequency in Hz\n",
"omega=2*%pi*f // angular frequency in Hz\n",
"sigma=4 // conductivity of sea water in mho/m\n",
"epsilon_r=81 // relative permittivity\n",
"epsilon_0=8.854*10^-12 // permittivity in free space\n",
"epsilon=epsilon_r*epsilon_0 // permittivity\n",
"mu_r=1 // relative permeability\n",
"mu_0=4*%pi*10^(-7) // permeability in free space\n",
"mu=mu_r*mu_0 // permeability\n",
"k=(sigma)/(omega*epsilon)//ratio\n",
"disp('ratio k is equal to: ')\n",
"disp(k,'ratio:')\n",
"disp('K is >>1 so sea water is a good conductor')\n",
"eta_1=377 // intrinsic impedance in free space in ohm\n",
"alpha_1=0 // attenuation constant in free space in m^-1\n",
"beta_1=omega/v // phase constant in m^-1\n",
"mageta_2=sqrt(omega*mu/sigma) // magnitude of eta_2(intrinsic impedance of sea water in ohm) \n",
"argeta_2=45 // argument of eta_2 in degrees\n",
"eta_2=mageta_2*cosd(argeta_2)+%i*mageta_2*sind(argeta_2) //intrinsic impedance in complex form (r*cos(theta)+%i*r*sin(theta))\n",
"TC=2*eta_2/(eta_1+eta_2) // transmission cofficient\n",
"Et=abs(TC)*E // transmitted electric field in V/m\n",
"alpha_2=sqrt(omega*mu*sigma/2) // attenuation constant for sea water in m^-1\n",
"// formula: Et*exp(-alpha_2*d)=Es\n",
"d=-(1/alpha_2)*log(Em/Et) // depth in the sea that can be reached by the aeroplane in m\n",
"disp(d,'depth in the sea that can be reached by the aeroplane in m:')\n",
"\n",
"\n",
"// note 1: the value of alpha_2 in book is 7.905 but it is '7.94' exactly calculated by scilab\n",
"//note 2 : The correct answer of the Depth(d) is '1.41094' the answer in the book is wrong."
   ]
   }
,
{
		   "cell_type": "markdown",
		   "metadata": {},
		   "source": [
			"## Example 2.27: Power_per_unit_area.sce"
		   ]
		  },
  {
"cell_type": "code",
	   "execution_count": null,
	   "metadata": {
	    "collapsed": true
	   },
	   "outputs": [],
"source": [
"// Exa 2.27\n",
"clc;\n",
"clear;\n",
"close;\n",
"// given :\n",
"eta_0=377 // intrinsic impedance in free space in ohm\n",
"disp('E=sin(omega*t-beta*z)ax+2*sin(omega*t-beta*z+75)ay // electric field in V/m')\n",
"Ex=1// magnitude of Ex\n",
"Ey=2 // magnitude of Ey\n",
"E=sqrt(Ex^2+Ey^2) // resultant magnitude\n",
"Pav=(1/2)*E^2/(eta_0) // power per unit area conveyed by the wave in free space\n",
"disp(Pav*1000,'power per unit area conveyed by the wave in free space in mW/m^2:')"
   ]
   }
,
{
		   "cell_type": "markdown",
		   "metadata": {},
		   "source": [
			"## Example 2.28: average_power_and_maximum_energy_density_of_wave.sce"
		   ]
		  },
  {
"cell_type": "code",
	   "execution_count": null,
	   "metadata": {
	    "collapsed": true
	   },
	   "outputs": [],
"source": [
"// Exa 2.28\n",
"clc;\n",
"clear;\n",
"close;\n",
"// given :\n",
"epsilon_0=8.854*10^-12 // permittivity in free space in F/m\n",
"mu_0=4*%pi*10^-7 //  permeability in free space in H/m\n",
"epsilon_r=4 // relative permittivity\n",
"mu_r=1 // relative permeability\n",
"epsilon=epsilon_r*epsilon_0 // permittivity\n",
"mu=mu_0*mu_r // permeability\n",
"H=5 // magnitude of magnetic field in mA/m\n",
"H=5*10^-3 // magnitude of magnetic field in A/m\n",
"eta=sqrt(mu/epsilon)// intrinsic impedence in ohm\n",
"E=H*sqrt(mu/epsilon) // magnitude of electric field\n",
"P_av=E^2/(2*eta) // average power\n",
"W_E=epsilon*E^2 // maximum energy density of the wave\n",
"disp(P_av*10^6,'Average power in micro*w/m^2:')\n",
"disp(W_E*10^12,'maximum energy density of the wave in PJ/m^3:')\n",
"\n",
"\n",
"// note: P_av is = 2353.75 in book but it is 2354.58 correctly calculated by scilab."
   ]
   }
,
{
		   "cell_type": "markdown",
		   "metadata": {},
		   "source": [
			"## Example 2.29: energy_density_and_total_energy.sce"
		   ]
		  },
  {
"cell_type": "code",
	   "execution_count": null,
	   "metadata": {
	    "collapsed": true
	   },
	   "outputs": [],
"source": [
"// Exa 2.29\n",
"clc;\n",
"clear;\n",
"close;\n",
"// given :\n",
"epsilon_0=8.854*10^-12 // permittivity in free space in F/m\n",
"mu_0=4*%pi*10^-7 //  permeability in free space in H/m\n",
"epsilon_r=1 // relative permittivity\n",
"mu_r=1 // relative permeability\n",
"epsilon=epsilon_r*epsilon_0 // permittivity\n",
"mu=mu_0*mu_r // permeability\n",
"E=100*sqrt(%pi) // magnitude of electric field in V/m\n",
"W_E=(1/2)*epsilon*E^2 // electric energy density of the wave\n",
"disp(W_E*10^9,'electric energy density of the wave in nJ/m^3:')\n",
"W_H=W_E // as the energy density is equal to that of magnetic field for a pla`ne travelling wave\n",
"W_T=W_E+W_H // total energy density\n",
"disp(W_H*10^9,'magnetic energy density of wave in nJ/m^3:')\n",
"disp(W_T*10^9,'Total energy density in nJ/m^3:')"
   ]
   }
,
{
		   "cell_type": "markdown",
		   "metadata": {},
		   "source": [
			"## Example 2.30: transmitted_distance_of_an_electromagnetic_wave.sce"
		   ]
		  },
  {
"cell_type": "code",
	   "execution_count": null,
	   "metadata": {
	    "collapsed": true
	   },
	   "outputs": [],
"source": [
"// Exa 2.30\n",
"clc;\n",
"clear;\n",
"close;\n",
"// given :\n",
"sigma=5 // conductivity of sea water in mho/m\n",
"f1=25 // frequency in kHz\n",
"f1=25*10^3 // frequency in Hz\n",
"omega1=2*%pi*f1 // angular frequency in Hz\n",
"f2=25 // frequency in MHz\n",
"f2=25*10^6 // frequency in Hz\n",
"omega2=2*%pi*f2 // angular frequency in Hz\n",
"epsilon_r=81 // relative permittivity\n",
"epsilon_0=8.854*10^-12 // permittivity in free space\n",
"epsilon=epsilon_r*epsilon_0 // permittivity\n",
"mu_r=1 // relative permeability\n",
"mu_0=4*%pi*10^(-7) // permeability in free space\n",
"mu=mu_r*mu_0 // permeability\n",
"disp('when frequency=25kHz')\n",
"alpha_1=omega1*sqrt((mu*epsilon)/2*(sqrt(1+(sigma^2/(omega1^2*epsilon^2)))-1)) // attenuation constant when f=25kHz\n",
"//formula: exp(-alpha*x)=0.1\n",
"x1=2.3/alpha_1 // transmitted distance in m\n",
"disp(x1,'transmitted distance in m:')\n",
"disp('when frequency=25MHz')\n",
"alpha_2=omega2*sqrt((mu*epsilon)/2*(sqrt(1+(sigma^2/(omega2^2*epsilon^2)))-1)) // attenuation constant when f=25MHz\n",
"x2=2.3/alpha_2 // transmitted distance in m\n",
"disp(x2,'transmitted distance in m:')\n",
"\n",
"\n",
"//note: the values of epsilon_r=81 and of mu_r=1 for sea water which are not given in the book."
   ]
   }
,
{
		   "cell_type": "markdown",
		   "metadata": {},
		   "source": [
			"## Example 2.31: incident_and_reflected_magnetic_field_and_reflected_electric_field.sce"
		   ]
		  },
  {
"cell_type": "code",
	   "execution_count": null,
	   "metadata": {
	    "collapsed": true
	   },
	   "outputs": [],
"source": [
"// Exa 2.31\n",
"clc;\n",
"clear;\n",
"close;\n",
"// given :\n",
"E_i=1 // magnitude of incident electric field in mV/m\n",
"E_i=1*10^-3 // magnitude of incident electric field in V/m\n",
"epsilon_0=8.854*10^-12 // permittivity in free space in F/m\n",
"mu_0=4*%pi*10^-7 //  permeability in free space in H/m\n",
"theta_i=15 // incident angle in degrees\n",
"epsilon_r1=8.5 // relative permittivity of medium 1\n",
"mu_r1=1 // relative permeability of medium 1\n",
"epsilon1=epsilon_r1*epsilon_0 // permittivity\n",
"mu1=mu_0*mu_r1 // permeability\n",
"eta1=sqrt(mu1/epsilon1) // intrinsic impedence of medium 1 in ohm\n",
"epsilon2=epsilon_0 // permittivity of medium 2\n",
"mu2=mu_0 // permeability of medium 2\n",
"eta2=sqrt(mu2/epsilon2) // intrinsic impedence of medium 2 in ohm\n",
"//formula : sind(theta_i)/sind(theta_t)=sqrt(epsilon2/epsilon1)\n",
"theta_t=asind(sind(theta_i)/(sqrt(epsilon2/epsilon1))) // transmitted angle in degrees\n",
"E_r=E_i*((eta2*cosd(theta_i)-(eta1*cosd(theta_i)))/(eta2*cosd(theta_i)+eta1*cosd(theta_i))) // reflection cofficient of electric field\n",
"disp(E_r*1000,'reflection cofficient of electric field in mV/m:')\n",
"H_i=E_i/eta1 // incident cofficient of magnetic field\n",
"disp(H_i*10^6,'incident cofficient of magnetic field in micro*A/m:')\n",
"H_r=E_r/eta1 // reflection cofficient of electric field\n",
"disp(H_r*10^6,'reflection cofficient of magnetic field in micro*A/m:')\n",
"\n",
"\n",
"// note : minute difference in decimal answer between scilab and book."
   ]
   }
,
{
		   "cell_type": "markdown",
		   "metadata": {},
		   "source": [
			"## Example 2.32: average_power_density_absorbed.sce"
		   ]
		  },
  {
"cell_type": "code",
	   "execution_count": null,
	   "metadata": {
	    "collapsed": true
	   },
	   "outputs": [],
"source": [
"// Exa 2.32\n",
"clc;\n",
"clear;\n",
"close;\n",
"// given :\n",
"sigma=5.8*10^7 // conductivity in mho/m\n",
"f=2 // frequency in MHz\n",
"f=2*10^6 // frequency in Hz\n",
"omega=2*%pi*f // angular frequency in rad/sec\n",
"E=2 // magnitude of electric field in mV/m\n",
"E=2*10^-3 // magnitude of electric field in V/m\n",
"epsilon_0=8.854*10^-12 // permittivity in free space in F/m\n",
"mu_0=4*%pi*10^-7 //  permeability in free space in H/m\n",
"epsilon_r=1 // relative permittivity\n",
"mu_r=1 // relative permeability\n",
"epsilon=epsilon_r*epsilon_0 // permittivity\n",
"mu=mu_0*mu_r // permeability\n",
"eta=sqrt(mu*omega/sigma) // intrinsic impedence in ohm\n",
"P_av=(1/2)*E^2/eta // average power density anbsorbed by copper\n",
"disp(P_av*1000,'average power density anbsorbed by copper in mW/m^2:')"
   ]
   }
,
{
		   "cell_type": "markdown",
		   "metadata": {},
		   "source": [
			"## Example 2.8: magnetic_field_and_its_magnitude.sce"
		   ]
		  },
  {
"cell_type": "code",
	   "execution_count": null,
	   "metadata": {
	    "collapsed": true
	   },
	   "outputs": [],
"source": [
"// Exa 2.8\n",
"clc;\n",
"clear;\n",
"close;\n",
"// given :\n",
"mu_0=4*%pi*10^(-7) // permeability in free space\n",
"mu_r1=3 // region 1 relative permeability\n",
"mu_r2=5 // region 2 relative permeability\n",
"mu_1=mu_r1*mu_0 // region 1 permeability\n",
"mu_2=mu_r2*mu_0 // region 2 permeability\n",
"H1=[4 1.5 -3] // magnetic field in region 1 in A/m\n",
"Ht1=[0 1.5 -3] // tangential component of magnetic field H1\n",
"Hn1=[4 0 0] // normal component of magnetic field H1\n",
"Ht2=[0 1.5 -3] // as tangential componenet of magnetic field H2=tangential component of magnetic field H1\n",
"Hn2=(mu_1/mu_2)*Hn1 // normal component of magnetic field H2\n",
"H2=Ht2+Hn2 // magnetic field in region 2 in A/m\n",
"h2=norm(H2) // magnitude of the magnetic field H2 in A/m\n",
"disp(H2,'magnetic field in region 2 in A/m:')\n",
"disp(h2,'magnitude of magnetic field in region 2 in A/m:') "
   ]
   }
,
{
		   "cell_type": "markdown",
		   "metadata": {},
		   "source": [
			"## Example 2.9: electric_field_and_electric_flux_density.sce"
		   ]
		  },
  {
"cell_type": "code",
	   "execution_count": null,
	   "metadata": {
	    "collapsed": true
	   },
	   "outputs": [],
"source": [
"// Exa 2.9\n",
"clc;\n",
"clear;\n",
"close;\n",
"// given :\n",
"epsilon_0=8.854*10^(-12) // permittivity in free space\n",
"sigma_1=0 //conductivity of medium 1\n",
"sigma_2=0 // conductivity of medium 2\n",
"epsilon_r1=1 // region 1 relative permittivity\n",
"epsilon_r2=2 // region 2 relative permittivity\n",
"epsilon_1=epsilon_r1*epsilon_0 // region 1 permittivity\n",
"epsilon_2=epsilon_r2*epsilon_0 // region 2 permittivity\n",
"E1=[1 2 3] // Electric field in region 1 in V/m\n",
"Et1=[0 2 3] // tangential component of electric field E1\n",
"En1=[1 0 0] // normal component of electric field E1\n",
"Et2=[0 2 3] // as tangential componenet of electric field E2=tangential component of electric field E1\n",
"En2=(epsilon_1/epsilon_2)*En1 // normal component of electric field E2\n",
"E2=Et2+En2 // electric field in region 2 in V/m\n",
"Dt1=epsilon_0*Et1 // tangential component of electric flux density D1\n",
"D2=epsilon_2*E2 // electric flux density in region 2 in C/m^2\n",
"disp(E2,'electric field in region 2 in V/m:')\n",
"disp(D2,'electric flux density in region 2 in C/m^2:') "
   ]
   }
],
"metadata": {
		  "kernelspec": {
		   "display_name": "Scilab",
		   "language": "scilab",
		   "name": "scilab"
		  },
		  "language_info": {
		   "file_extension": ".sce",
		   "help_links": [
			{
			 "text": "MetaKernel Magics",
			 "url": "https://github.com/calysto/metakernel/blob/master/metakernel/magics/README.md"
			}
		   ],
		   "mimetype": "text/x-octave",
		   "name": "scilab",
		   "version": "0.7.1"
		  }
		 },
		 "nbformat": 4,
		 "nbformat_minor": 0
}
