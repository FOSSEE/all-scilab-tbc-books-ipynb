{
"cells": [
 {
		   "cell_type": "markdown",
	   "metadata": {},
	   "source": [
       "# Chapter 4: Minimization of Gibbs Free energy"
	   ]
	},
{
		   "cell_type": "markdown",
		   "metadata": {},
		   "source": [
			"## Example 4.1: Gibbs_free_energy_calculation.sce"
		   ]
		  },
  {
"cell_type": "code",
	   "execution_count": null,
	   "metadata": {
	    "collapsed": true
	   },
	   "outputs": [],
"source": [
"clear;\n",
"//clc();\n",
"\n",
"// Example 4.1\n",
"// Page: 67\n",
"printf('Example-4.1  Page no.-67\n\n');\n",
"\n",
"//***Data***//\n",
"T = 671.7;//[R] Equilibrium temperature\n",
"m_steam = 1;//[lbm] Condensing amount of the steam\n",
"// Using values from the steam table [1], we find that\n",
"delta_h_condensation = -970.3//[Btu/lbm] Enthalpy change of the steam\n",
"delta_s_condensation = -1.4446;//[Btu/(lbm*R)] Entropy change of the steam\n",
"\n",
"// Gibb's free energy change of the steam is\n",
"delta_g_condensation = delta_h_condensation - T*delta_s_condensation;//[Btu/lbm]\n",
"\n",
"printf('Gibb''s free energy change of the steam is %0.1f Btu/lbm',delta_g_condensation);"
   ]
   }
,
{
		   "cell_type": "markdown",
		   "metadata": {},
		   "source": [
			"## Example 4.2: Gibbs_free_energy_diagram_for_the_graphite_diamond_system.sce"
		   ]
		  },
  {
"cell_type": "code",
	   "execution_count": null,
	   "metadata": {
	    "collapsed": true
	   },
	   "outputs": [],
"source": [
"clear;\n",
"//clc();\n",
"\n",
"// Example 4.2\n",
"// Page: 77\n",
"printf('Example-4.2  Page no.-77\n\n');\n",
"\n",
"//***Data***//\n",
"\n",
"// let we denote graphite by 'g' and diamond by 'd' \n",
"// Gibb's free energies of graphite and diamond are given by\n",
"g_g = 0.00;//[kJ/mol] \n",
"g_d = 2.90;//[kJ/mol]\n",
"\n",
"// Specific volumes of graphite and diamond are given by\n",
"v_g = 5.31*10^(-1);//[kJ/(mol*kbar)]\n",
"v_d = 3.42*10^(-1);//[kJ/(mol*kbar)]\n",
"\n",
"// Now from the equation 4.32 ( page 74) given in the book, we have\n",
"// (dg/dP) = v , at constant temperature\n",
"// where 'v' is specific volume\n",
"// let us denote (dg/dP) by 'D' ,so\n",
"D_g = v_g;//[J/(mol*Pa)] For graphite\n",
"D_d = v_d;//[J/(mol*Pa)] For diamond\n",
"\n",
"// Now we can take our plot from P = 0( =1 ), however, total pressure is 1 atm. \n",
"// If we consider specific volumes of the given species to be constant with changing the pressure then g-P curve will be a straight line\n",
"// So the equation of the line for graphite is \n",
"// g = D_g*P + g_g\n",
"// and that for diamond\n",
"// g = D_d*P + g_d\n",
"\n",
"P = [0:1:30]';\n",
"\n",
"plot2d(P,[ D_d*P+g_d D_g*P+g_g ],style=[color('darkgreen'),color('red')]);\n",
"\n",
"xlabel('Pressure, P, kbar');\n",
"ylabel('Gibb''s free energy per mol, g, kJ/mol');\n",
"\n",
"printf(' Gibb''s free energy-pressure diagram for graphite-diamond system at 25 degC is as shown in the graphic window. ');\n",
"hl=legend(['Diamond, slope = 0.342 (kJ/mol)/kbar';'Graphite, slope = 0.532 (kJ/mol)/kbar']);\n",
"\n",
""
   ]
   }
,
{
		   "cell_type": "markdown",
		   "metadata": {},
		   "source": [
			"## Example 4.3: Gibbs_free_energy_for_chemical_reactions.sce"
		   ]
		  },
  {
"cell_type": "code",
	   "execution_count": null,
	   "metadata": {
	    "collapsed": true
	   },
	   "outputs": [],
"source": [
"clear;\n",
"//clc();\n",
"\n",
"// Example 4.3\n",
"// Page: 80\n",
"printf('Example-4.3  Page no.-80\n\n');\n",
"\n",
"//***Data***//\n",
"// We have the system which consists of isobutane and normal butane and isomerisaation is taking place between them \n",
"// The equilibrium constant for this reaction is given by\n",
"// K = (mole fraction of isobutane)/(mole fraction of n-butane) = x_iso/x_normal\n",
"\n",
"// For this reaction, at 25C, \n",
"K = 4.52;\n",
"\n",
"// and\n",
"// x_iso + x_normal = 1\n",
"// so\n",
"// K = x_iso/(1-x_iso)\n",
"\n",
"// solving for x_iso\n",
"deff('[y]=f(x_iso)','y = x_iso/(1-x_iso)-K');\n",
"x_iso = fsolve(0,f);\n",
"\n",
"printf(' Mole fraction of isobutane isomer in equilibrium is %0.2f',x_iso);"
   ]
   }
],
"metadata": {
		  "kernelspec": {
		   "display_name": "Scilab",
		   "language": "scilab",
		   "name": "scilab"
		  },
		  "language_info": {
		   "file_extension": ".sce",
		   "help_links": [
			{
			 "text": "MetaKernel Magics",
			 "url": "https://github.com/calysto/metakernel/blob/master/metakernel/magics/README.md"
			}
		   ],
		   "mimetype": "text/x-octave",
		   "name": "scilab",
		   "version": "0.7.1"
		  }
		 },
		 "nbformat": 4,
		 "nbformat_minor": 0
}
