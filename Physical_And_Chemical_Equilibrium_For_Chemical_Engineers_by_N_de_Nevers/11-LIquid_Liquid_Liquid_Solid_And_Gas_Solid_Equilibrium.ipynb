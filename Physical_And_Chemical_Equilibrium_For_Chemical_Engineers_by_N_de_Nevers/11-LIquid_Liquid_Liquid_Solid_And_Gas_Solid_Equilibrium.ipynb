{
"cells": [
 {
		   "cell_type": "markdown",
	   "metadata": {},
	   "source": [
       "# Chapter 11: LIquid Liquid Liquid Solid And Gas Solid Equilibrium"
	   ]
	},
{
		   "cell_type": "markdown",
		   "metadata": {},
		   "source": [
			"## Example 11.10: The_experimental_determination_of_LSE.sce"
		   ]
		  },
  {
"cell_type": "code",
	   "execution_count": null,
	   "metadata": {
	    "collapsed": true
	   },
	   "outputs": [],
"source": [
"clear;\n",
"//clc();\n",
"\n",
"// Example 11.10\n",
"// Page: 293\n",
"printf('Example-11.10  Page no.-293\n\n');\n",
"\n",
"//***Data***//\n",
"Temp = 20;//[C]\n",
"// At this temperature solubility of NaCl is \n",
"s = 36.0;//[g per 100 g of water]\n",
"M_NaCl = 58.5;//[g/mol] molecular weight of NaCl \n",
"M_water = 18;//[g/mol] molecular weight of water\n",
"\n",
"// weight fraction of NaCl\n",
"w = s/(s+100);\n",
"// In weight percentage \n",
"w_percent = w*100;//[wt %]\n",
"\n",
"// Mol fraction of the NaCl\n",
"x = (s/M_NaCl)/((s/M_NaCl)+(100/M_water));\n",
"// In mol percentage\n",
"x_percent = x*100;//[mol %]\n",
"\n",
"printf(' Weight fraction of the NaCl in the saturated solution is %0.1f wt %%\n',w_percent);\n",
"printf(' Mol fraction of the NaCl in the saturated solution is    %0.0f mol %%\n',x_percent);\n",
"\n",
""
   ]
   }
,
{
		   "cell_type": "markdown",
		   "metadata": {},
		   "source": [
			"## Example 11.11: The_experimental_determination_of_LSE.sce"
		   ]
		  },
  {
"cell_type": "code",
	   "execution_count": null,
	   "metadata": {
	    "collapsed": true
	   },
	   "outputs": [],
"source": [
"clear;\n",
"//clc();\n",
"\n",
"// Example 11.11\n",
"// Page: 293\n",
"printf('Example-11.11  Page no.-293\n\n');\n",
"\n",
"//***Data***//\n",
"T_inlet = 68;//[F]\n",
"T_outlet = 110;//[F]\n",
"\n",
"// from the figure 11.13 we read that at 68F the solubility of CaCO3 and CaSO4.2H2O are \n",
"s_inlet_carbonate = 60;//[ppm]\n",
"s_inlet_sulphate = 2020;//[ppm]\n",
"\n",
"// At 110F the solubility of the CaCO3 is \n",
"s_outlet_carbonate = 40;//[ppm]\n",
"// at 110F the least soluble form of the CaSO4 is anhydride with the solubility \n",
"s_outlet_sulphate = 2000;//[ppm]\n",
" // This is close enough to the solubility of the gypsum at 68F \n",
" // so we conclude that we would not expect either form of CaSO4 to prdcipitate\n",
" \n",
" // Thus total amount of the calcium carbonate which will cime out of the solution and will remain in the heater will be \n",
" w = s_inlet_carbonate - s_outlet_carbonate;//[ppm]\n",
" printf (' Total amount of the solid left behind in the heater will be        %0.1f ppm\n\n',w);\n",
"\n",
" // Now if a typical houshold water heater heats 100 gallons/per day , we would expect to deposite \n",
" w_per_day = w*10^(-6)*100*8.33;//[lb/day]\n",
"printf (' Total amount of the solid left behind in the heater per day will be %f lb/day',w_per_day);"
   ]
   }
,
{
		   "cell_type": "markdown",
		   "metadata": {},
		   "source": [
			"## Example 11.12: Estimation_of_the_activity_coefficients.sce"
		   ]
		  },
  {
"cell_type": "code",
	   "execution_count": null,
	   "metadata": {
	    "collapsed": true
	   },
	   "outputs": [],
"source": [
"clear;\n",
"//clc();\n",
"\n",
"// Example 11.12\n",
"// Page: 298\n",
"printf('Example-11.12  Page no.-298\n\n');\n",
"\n",
"//***Data***//\n",
"x_2 = 0.1;\n",
"\n",
"//y_i_1 = (x_i__ideal /x_i_1) , at constant temperature\n",
"// From figures 11.15 and 11.16 given in the book (page 298-299) ( or the equations of the lines on those figures, presented in [14] ) we can  compute the values in Table 11.6\n",
"\n",
"// We see that at x_solute = 10% \n",
"// T_m/T for the solution in benzene at which log(x_experimental) = -1 is equal to 1.332\n",
"// and that for the solution in CCl4 is equal to 1.288\n",
"\n",
"//Now at the that value of the T_m/T \n",
"x_ideal_benzene = 0.114;\n",
"x_ideal_CCl4 = 0.152;\n",
"\n",
"\n",
"// In benzene the average these compounds is\n",
"y_i_1 = x_ideal_benzene/x_2;// corresponding to practically ideal solution\n",
"\n",
"// and in benzene the average of these compounds is \n",
"y_i_2 = x_ideal_CCl4/x_2;// corresponding to mild type II behavior \n",
"\n",
"printf(' Activity coefficient in benzene corresponding to practically ideal solution is %0.2f\n',y_i_1);\n",
"printf(' Activity coefficient in CCl4 corresponding to mild type II behavior         is %0.2f',y_i_2);"
   ]
   }
,
{
		   "cell_type": "markdown",
		   "metadata": {},
		   "source": [
			"## Example 11.13: Solubility_of_NaCl_in_water.sce"
		   ]
		  },
  {
"cell_type": "code",
	   "execution_count": null,
	   "metadata": {
	    "collapsed": true
	   },
	   "outputs": [],
"source": [
"clear;\n",
"//clc();\n",
"\n",
"// Example 11.13\n",
"// Page: 299\n",
"printf('Example-11.13  Page no.-299\n\n');\n",
"\n",
"//***Data***//\n",
"\n",
"T = 273.15+20;//[K]\n",
"\n",
"// The equation 11.15 (page 297) is given by \n",
"// log(1/(x_i_1*y_i_1)) = log(p_i_solid_phase/p_i_subcooled_liquid) = delta_h_solid_to_liquid/(R*T_melting_point)*(T_melting_point/T-1)\n",
"\n",
"// Ignoring the moment the wild extraplation involved, we simply insert the appropriate values\n",
"T_m = 273.15+800;//[K]\n",
"delta_h_fusion = 30219;//[J/g]\n",
"R = 8.314;//[J/(mol*K)]\n",
"\n",
"// Let log(1/(x_i_1*y_i_1)) = a\n",
"a = delta_h_fusion/(R*T)*(T_m/T-1);\n",
"\n",
"// Now \n",
"x_NaCl_into_y_i_1 = 1/exp(a);\n",
"\n",
"// If we make the plausible assumption that y_i_1 = 1.00, then\n",
"x_NaCl = 1/exp(a)*1;\n",
"printf(' The solubility of the NaCl in water at 20 deg C is %e \n', x_NaCl);\n",
"printf(' But the experimental value is 0.1, so, Similar to the results in book, our results are very far wrong');"
   ]
   }
,
{
		   "cell_type": "markdown",
		   "metadata": {},
		   "source": [
			"## Example 11.14: Gas_solid_equilibrium_at_low_pressures.sce"
		   ]
		  },
  {
"cell_type": "code",
	   "execution_count": null,
	   "metadata": {
	    "collapsed": true
	   },
	   "outputs": [],
"source": [
"clear;\n",
"//clc();\n",
"\n",
"// Example 11.14\n",
"// Page: 301\n",
"printf('Example-11.14  Page no.-301\n\n');\n",
"\n",
"//***Data***//\n",
"P = 1*14.7;//[psia]\n",
"T = 30;//[F]\n",
"//******//\n",
" //The vapour pressure of ice at 30F is 0.0808 psia i.e.\n",
" p_ice = 0.0808;//[psia]\n",
" // We may assume that the solubility of nitrogen and oxygen in solid ice is negligible\n",
" //Thus\n",
" x_water_in_ice = 1.00;\n",
" //and thus use Raoult's law,finding\n",
" y_water_vapour = x_water_in_ice*p_ice/P;\n",
" printf(' Equilibrium concentration of water vapour in the air is %0.4f',y_water_vapour);"
   ]
   }
,
{
		   "cell_type": "markdown",
		   "metadata": {},
		   "source": [
			"## Example 11.15: GSE_at_high_pressures.sce"
		   ]
		  },
  {
"cell_type": "code",
	   "execution_count": null,
	   "metadata": {
	    "collapsed": true
	   },
	   "outputs": [],
"source": [
"clear;\n",
"//clc();\n",
"\n",
"// Example 11.15\n",
"// Page: 302\n",
"printf('Example-11.15  Page no.-302\n\n');\n",
"\n",
"//***Data***//\n",
"T = 273.15+35;//[K]\n",
"p_d = 100;//[atm]\n",
"R = 82.06;//[(cm^(3)*atm)/(mol*K)]\n",
" //******//\n",
"\n",
"//The calculated vapour pressure of naphthalene at 35C is\n",
"p_naphthalene = 0.00065;//[atm]\n",
"//The solid is practically pure naphthalene\n",
"x_naphthalene = 1.00;\n",
"//Total pressure \n",
"P = p_d;\n",
"//By Raoult's law\n",
"y_naphthalene = x_naphthalene*p_naphthalene/P;\n",
"//At this high a pressure the volume of solid naphthalene is\n",
"v = 132;//[cm^(3)/mol]\n",
"// We have equation log(f_d/f_c) = v/(R*T)*(p_d-p_c)\n",
"p_c = 1;//[atm]\n",
"f_d_by_f_c = exp(v/(R*T)*(p_d-p_c));\n",
"//and the estimated\n",
"y_naphthalene = f_d_by_f_c*y_naphthalene;\n",
"printf('Estimated solubility of naphthalene in CO2 is %e',y_naphthalene);\n",
""
   ]
   }
,
{
		   "cell_type": "markdown",
		   "metadata": {},
		   "source": [
			"## Example 11.1: Reporting_and_presenting_LLE_data.sce"
		   ]
		  },
  {
"cell_type": "code",
	   "execution_count": null,
	   "metadata": {
	    "collapsed": true
	   },
	   "outputs": [],
"source": [
"clear;\n",
"//clc();\n",
"\n",
"// Example 11.1\n",
"// Page: 272\n",
"printf('Example-11.1  Page no.-272\n\n');\n",
"\n",
"//***Data***//\n",
"V_water = 1;//[L] volume of the water\n",
"Temp = 25;//[C]\n",
"d_benzene = 0.88;//[g/ml] density of the benzene \n",
"M_benzene = 78;//[g/mol] molecular weight of the benzene\n",
"M_water = 18;//[g/mol]\n",
"// Typically a buret will deliver about 20 drops of lliquid per millimeter, so moles of benzene in one drop is\n",
"n_1drop = 1/20*(d_benzene/M_benzene);//[mol/drop] \n",
"// No of moles in 1 litre of the water is \n",
"n_water = 1000/M_water;//[mol]\n",
"// Because 1 litre = 1000 g\n",
"// Now from the table 11.1 (page 273), at the saturated condition at the temperature 25C, solubility of benzene in the water is\n",
"s_benzene = 0.000405;\n",
"n_benzene_saturate = s_benzene*n_water;//[mol]\n",
"// Thus no of the drops of the benzene is\n",
"N_benzene = n_benzene_saturate/n_1drop;//[drops]\n",
"printf('The total number of the drops of the benznene required to saturate the water is %0.0f drops',N_benzene);"
   ]
   }
,
{
		   "cell_type": "markdown",
		   "metadata": {},
		   "source": [
			"## Example 11.2: Reporting_and_presenting_LLE_data.sce"
		   ]
		  },
  {
"cell_type": "code",
	   "execution_count": null,
	   "metadata": {
	    "collapsed": true
	   },
	   "outputs": [],
"source": [
"clear;\n",
"//clc();\n",
"\n",
"// Example 11.2\n",
"// Page: 273\n",
"printf('Example-11.2  Page no.-273\n\n');\n",
"\n",
"//***Data***//\n",
"m_benzene = 1000;//[lbm]\n",
"M_benzene = 78;//[lbm/lbmol]\n",
"// The total moles benzene are \n",
" n_benzene = m_benzene/M_benzene;//[lbmol]\n",
" // To saturate the water with benzene \n",
" // the mole fraction of the benzene in the water will be \n",
" x_benzene = 0.000405;\n",
" // and \n",
"// n_benzene = x_benzene*n_T;\n",
" // in this case n_benzene << n_water, so n_T = n_water\n",
" // Thus\n",
" //n_benzene = x_benzene*n_water;\n",
"n_water = n_benzene/x_benzene;//[lbmol]\n",
"m_water = n_water*18;//[lbm] \n",
" printf('The amount of the ground water that will make a saturated solution will be %e lbm',m_water);"
   ]
   }
,
{
		   "cell_type": "markdown",
		   "metadata": {},
		   "source": [
			"## Example 11.3: ternary_LLE.sce"
		   ]
		  },
  {
"cell_type": "code",
	   "execution_count": null,
	   "metadata": {
	    "collapsed": true
	   },
	   "outputs": [],
"source": [
"clear;\n",
"//clc();\n",
"\n",
"// Example 11.3\n",
"// Page: 277\n",
"printf('Example-11.3  Page no.-277\n\n');\n",
"\n",
"//***Data***//\n",
"\n",
"Temp = 25;//[C]\n",
"n_water = 3.75;//[mol]\n",
"n_ethanol = 2.5;//[mol]\n",
"n_benzene = 3.75;//[mol]\n",
"\n",
"// By the simple stoichiomtetry the overall mole fractions are \n",
"\n",
"x_water = 0.375;\n",
"x_ethanol = 0.250;\n",
"x_benzene = 0.375;\n",
"\n",
"// We locate the point corresponding to this concentration on the diagram 11.1 (page 277), by drawing any two of the three straight lines corresponding to those mole fractions.\n",
"// We find that the point falls almost exactly on the fifth tie line from the top.\n",
"//For this the end-point values are read from the table 11.4 ( page 276 ), which is fifth row from the bottom \n",
"// Thus in water reach phase we have the composition as\n",
"x_water_w = 64.9;//[%]\n",
"x_ethanol_w = 31.75;//[%]\n",
"x_benzene_w = 3.37;//[%]\n",
"\n",
"// and in the benzene reach phase composition is \n",
"x_water_b = 6.43;//[%]\n",
"x_ethanol_b = 18.94;//[%]\n",
"x_benzene_b = 74.62;//[%]\n",
"printf('The composition of the two equilibrium phases i.e. water-reach phase and benzene reach phase is as \n\n');\n",
"printf('\t\t\t\tWater-reach phase\t\t\t\t\t\t\tbenzene-reach phase\n');\n",
"printf('  Mol%% water\t\t\t%f\t\t\t\t\t\t\t\t%f\n\n',x_water_w,x_water_b);\n",
"printf('  Mol%% ethanol\t\t\t%f\t\t\t\t\t\t\t\t%f\n\n',x_ethanol_w,x_ethanol_b);\n",
"printf('  Mol%% benzene\t\t\t%f\t\t\t\t\t\t\t\t%f\n\n',x_benzene_w,x_benzene_b);"
   ]
   }
,
{
		   "cell_type": "markdown",
		   "metadata": {},
		   "source": [
			"## Example 11.4: The_elementary_theory_of_LLE.sce"
		   ]
		  },
  {
"cell_type": "code",
	   "execution_count": null,
	   "metadata": {
	    "collapsed": true
	   },
	   "outputs": [],
"source": [
"clear;\n",
"//clc();\n",
"\n",
"// Example 11.4\n",
"// Page: 282\n",
"printf('Example-11.4  Page no.-282\n\n');\n",
"\n",
"//***Data***//\n",
"\n",
"Temp = 25;//[C]\n",
"// Here we assume benzene to be component 1 and water to be componenet 2\n",
"// From table 11.1 given in the book(page 273) \n",
"// The mole fraction of benzene in water is\n",
"x_1in2 = 405;//[ppm]\n",
"// and the mole fraction of water in benzene is \n",
"x_2in1 = 3000;//[ppm]\n",
"\n",
"// Thus mole fraction of water in water rich phase is\n",
"x_water_w = (10^(6)-405)/(10^(6));\n",
"x_benzene_w = 1-x_water_w;\n",
"\n",
"// and mole fraction of the benzene in benzene rich phase is\n",
"x_benzene_b =(10^(6)-3000)/(10^(6));\n",
"x_water_b = 1-x_benzene_b;\n",
"\n",
"// Here both x_water and x_benzene are nearly equal to 1\n",
"// Thus assumption used for derivation of the equation 11.4(page 282) are suitable here and the equation is \n",
"// x_i_1 = y_i_1 , where y_i_1 is activity coefficient\n",
"\n",
"// So activity coefficient of benzene in water is\n",
"y_benzene = 1/(x_benzene_w);\n",
"// and activty coefficient of the water in benzene is\n",
"y_water = 1/(x_water_b);\n",
"printf(' Activity coefficient of benzene in water is %f\n\n',y_benzene);\n",
"printf(' Activity coefficient of water in benzene is %f',y_water);\n",
"\n",
"\n",
"\n",
"\n",
"\n",
"\n",
"\n",
"\n",
"\n",
""
   ]
   }
,
{
		   "cell_type": "markdown",
		   "metadata": {},
		   "source": [
			"## Example 11.5: Plot_of_the_Gibbs_free_energy_vs_mole_fraction.sce"
		   ]
		  },
  {
"cell_type": "code",
	   "execution_count": null,
	   "metadata": {
	    "collapsed": true
	   },
	   "outputs": [],
"source": [
"clear;\n",
"\n",
"//clc();\n",
"\n",
"// Example 11.5\n",
"\n",
"// Page: 283\n",
"\n",
"printf('Example-11.5  Page no.-283\n\n');\n",
"\n",
"//***Data***//\n",
"\n",
"\n",
"R = 8.314;//[J/(mol*K)] Universal gas constant\n",
"T = 298.15;//[K] Temperature\n",
"g_a_0 = 2;//[kj/mol] Gibb's free energy of the pure species 'a'\n",
"g_b_0 = 1;//[kj/mol] Gibb's free energy of the pure species 'b'\n",
"\n",
"for a = 0:3\n",
"    deff('[y]=f(x)','y= x*g_a_0 + (1-x)*g_b_0 + (R*T)/1000*(x*log(x) + (1-x)*log(1-x) + x*a*(1-x)^(2) + (1-x)*a*(x)^(2)) ')\n",
" \n",
"x=[0.000001:0.01:0.99999];\n",
" \n",
"fplot2d(x,f)\n",
"xlabel(' mole fraction of species a,x_a');\n",
"ylabel(' gibb''s free energy per mole of mixture,g_mixture kJ/mol');\n",
"end\n",
"\n",
"printf(' The plot is shown in the graphic window.');"
   ]
   }
,
{
		   "cell_type": "markdown",
		   "metadata": {},
		   "source": [
			"## Example 11.6: Two_liquid_phase.sce"
		   ]
		  },
  {
"cell_type": "code",
	   "execution_count": null,
	   "metadata": {
	    "collapsed": true
	   },
	   "outputs": [],
"source": [
"clear;\n",
"//clc();\n",
"\n",
"// Example 11.6\n",
"// Page: 283\n",
"printf('Example-11.6  Page no.-284\n\n');\n",
"\n",
"//***Data***//\n",
"\n",
"T = 92 + 273.15;//[K] Temperature of the system\n",
"R = 8.314;//[m^(3)*Pa/(mol*K)] universal gas constant\n",
"// Van Laar equation coefficients are given\n",
"A = 1.2739;\n",
"B = 3.9771;\n",
"\n",
"\n",
"// From van laar equation, for water, we have\n",
"// lnY_a = B^(2)*A*(1-x_a)^(2)/(A*x_a + B*(1-x_a))^(2);\n",
"// Similarily for n-butanol\n",
"// lnY_b = A^(2)*B*x_a^(2)/(A*x_a + B*(1-x_a))^(2);\n",
"\n",
"// Let us say,   g = g_mix - sum(x_i*g_i_0)\n",
"// So, plotting g vs x_i we have\n",
"\n",
"deff('[y]=f(x_a)','y = (R*T/1000)*( x_a*log(x_a) + (1-x_a)*log(1-x_a) + x_a*(B^(2)*A*(1-x_a)^(2)/(A*x_a + B*(1-x_a))^(2)) + (1-x_a)*(A^(2)*B*x_a^(2)/(A*x_a + B*(1-x_a))^(2)) )')\n",
"\n",
"x_a = [0.000001:0.01:0.99999];\n",
"fplot2d(x_a,f)\n",
"xlabel(' Mol fraction of species a, x_a');\n",
"ylabel(' g_mix - sum(x_i*g_i0)');\n",
"\n",
"// Now drawing tangent \n",
"x = [0.000001:0.01:0.99999];\n",
"plot2d(x,[1.2090312*x - 1.251495764])\n",
"\n",
"// Figure shows the results of the calculation of the whole range of x_a \n",
"// Drawing the tangent to the curve, the line touches the curve at two points x_a = 0.47 and 0.97\n",
"printf(' Thus based on the several assumptions that the Van Laar equation is an accurate representation of LLE,\n');\n",
"printf(' we would conclude that at 92 deg C water-n-butanol does form two liquid phases.');"
   ]
   }
,
{
		   "cell_type": "markdown",
		   "metadata": {},
		   "source": [
			"## Example 11.7: Effect_of_temperature_on_LLE.sce"
		   ]
		  },
  {
"cell_type": "code",
	   "execution_count": null,
	   "metadata": {
	    "collapsed": true
	   },
	   "outputs": [],
"source": [
"clear;\n",
"//clc();\n",
"\n",
"// Example 11.7\n",
"// Page: 286\n",
"printf('Example-11.7  Page no.-286\n\n');\n",
"\n",
"//***Data***//\n",
"R = 8.314;//[J/(ml*K)]\n",
"// We find that the water in benzene least squares fit line has the equation \n",
"// log(x_water(benzene-reach phase)) = 4.175-2967.7/T\n",
"\n",
"// equation 11.7 in the book (page 286) is \n",
"// log(x_i_1) = (h_i_0-h_i_average)/(RT) + constant of integration\n",
"\n",
"// Comparing the two equations term by term, we have\n",
"\n",
"// (h_i_0-h_i_average)/(RT) = -2967.7/T\n",
"// let us say (h_i_0-h_i_average) = h_mix\n",
"// So that \n",
"h_mix = -2967.7*R/1000;//[kJ/mol] Heat of mixing of water-in-benzene\n",
"\n",
"// Now, for benzene-in-water the constant in the above equation is -522.9K, so\n",
"h_mix_1 = 522.9*R/1000;//[kJ/mol] Heat of mixing of benzene-in-water\n",
"\n",
"printf(' Heat of mixing of water-in-benzene is given as %f kJ/mol\n',h_mix);\n",
"printf(' Heat of mixing of benzene-in-water is given as    %f kJ/mol',h_mix_1);"
   ]
   }
,
{
		   "cell_type": "markdown",
		   "metadata": {},
		   "source": [
			"## Example 11.8: Effect_of_temperature_on_LLE.sce"
		   ]
		  },
  {
"cell_type": "code",
	   "execution_count": null,
	   "metadata": {
	    "collapsed": true
	   },
	   "outputs": [],
"source": [
"clear;\n",
"//clc();\n",
"\n",
"// Example 11.8\n",
"// Page: 287\n",
"printf('Example-11.8  Page no.-287\n\n');\n",
"\n",
"//***Data***//\n",
"\n",
"T_i = 50;//[F] Initial temperature of the system \n",
"T_f = 20;//[F] Final temperature of the system\n",
"M_gas = 115;//[g/mol] Molecular weight of gasoline at room temperature\n",
"M_water = 18;//[g/mol] Molecular weight of water at the room temperaature\n",
"d = 720;//[g/L] density of gasoline at the room temperature\n",
"\n",
"// From Figure 11.10 ( page 288 ), solubility of the water in gasoline ( similar to solubility of water in cyclohexane ) at 50 deg F is given as \n",
"s_50 = 0.00026;//[mol fraction]\n",
"\n",
"// And linearly extraploting the cyclohexane curve in figure 11.10 to 20 deg F, we get the solubility of water at 20deg F as \n",
"s_20 = 0.0001;//[mol fraction]\n",
"\n",
"// So, rejected water is\n",
"s_rej = s_50 - s_20;// mol of water per mole of gasoline \n",
"\n",
"// In terms of weight, rejected water will be\n",
"w = (s_rej*d*M_water)/M_gas;//[g water/L gasoline]\n",
"\n",
"printf(' The amount of water that will come out of the solution in the gasoline will be %f g water/L gasoline\n',w);\n",
"printf(' At 20 deg F we would expect this water to become solid ice, forming a piece large enough to plug the fuel line of a parked auto.');"
   ]
   }
,
{
		   "cell_type": "markdown",
		   "metadata": {},
		   "source": [
			"## Example 11.9: Distribution_coefficients.sce"
		   ]
		  },
  {
"cell_type": "code",
	   "execution_count": null,
	   "metadata": {
	    "collapsed": true
	   },
	   "outputs": [],
"source": [
"clear;\n",
"//clc();\n",
"\n",
"// Example 11.9\n",
"// Page: 290\n",
"printf('Example-11.9  Page no.-290\n\n');\n",
"\n",
"//***Data***//\n",
"Temp = 25;//[C]\n",
"x_water = 5;//[mo]\n",
"x_benzene = 0.1;//[mol]\n",
"\n",
"// The fugacity of the ethanol must be same in both phases so that we have distribution coefficient \n",
"\n",
"// K = ( distribution coefficient ) = x_ethanol(water_rich phase)/x_ethanol(benzene-rich phase) = y_ethanol(benzene-rich phase)/y_ethanol(water-rich phase)\n",
"// Here distribution coefficient is defined as rhe ratio of mole fractions of the distributed solute between the two phases.\n",
"\n",
"// We observe that for the first experimental data set in table 11.4 in the book(page 276)\n",
"x_ethanol_water_rich = 3.817;//[%]\n",
"x_ethanol_benzene_rich = 1.010;//[%]\n",
"\n",
"// So \n",
"K = x_ethanol_water_rich/x_ethanol_benzene_rich;\n",
"\n",
"// Now for all the data set in the table 11.4 in the book(page 276), we wiil draw a plot \n",
"\n",
"X = [3.817,7.968,12.977,18.134,23.540,24.069,27.892,31.725,35.510,39.382,41.062,41.771];\n",
"Y = [1.010,3.323,5.860,9.121,12.939,13.340,16.090,18.943,22.444,26.216,29.341,33.093];\n",
"Z = X./Y;\n",
"\n",
"// Plotting the graph between 'Z' and 'Y' \n",
"plot(Y,Z);\n",
"xgrid();\n",
"xlabel('Mol% ethanol in benzene-rich phase ');\n",
"ylabel('Distribution coefficient of ethanol, K_ethanol');\n",
"\n",
"// We see from the plot that at the low mole percent of ethanol , the distribution coefficient is approximately \n",
"K_1 = 4;\n",
"\n",
"// Thus ratio of the amount of the ethanol distributed in the two phases will be 4\n",
"//the amount in mol % is \n",
"// for water rich phase \n",
"m_water_rich = 100*K_1/(K_1+1);\n",
"m_benzene_rich = 100/(K_1+1);\n",
"\n",
"printf(' Ethanol''s 0.1 mol distributed in the water rich phase will be   %f mol%% of the total mol\n',m_water_rich);\n",
"printf(' Ethanol''s 0.1 mol distributed in the benzene rich phase will be %f mol%% of the total mol',m_benzene_rich);"
   ]
   }
],
"metadata": {
		  "kernelspec": {
		   "display_name": "Scilab",
		   "language": "scilab",
		   "name": "scilab"
		  },
		  "language_info": {
		   "file_extension": ".sce",
		   "help_links": [
			{
			 "text": "MetaKernel Magics",
			 "url": "https://github.com/calysto/metakernel/blob/master/metakernel/magics/README.md"
			}
		   ],
		   "mimetype": "text/x-octave",
		   "name": "scilab",
		   "version": "0.7.1"
		  }
		 },
		 "nbformat": 4,
		 "nbformat_minor": 0
}
