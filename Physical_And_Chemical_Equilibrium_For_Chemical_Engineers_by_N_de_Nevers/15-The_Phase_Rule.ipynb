{
"cells": [
 {
		   "cell_type": "markdown",
	   "metadata": {},
	   "source": [
       "# Chapter 15: The Phase Rule"
	   ]
	},
{
		   "cell_type": "markdown",
		   "metadata": {},
		   "source": [
			"## Example 15.1: Phase_rule.sce"
		   ]
		  },
  {
"cell_type": "code",
	   "execution_count": null,
	   "metadata": {
	    "collapsed": true
	   },
	   "outputs": [],
"source": [
"clear;\n",
"//clc();\n",
"\n",
"// Example 15.1\n",
"// Page: 398\n",
"printf('Example-15.1  Page no.-398\n\n');\n",
"\n",
"//***Data***//\n",
"// This is a theoratical question.\n",
"printf('This is a theoratical question and there are no any numerical components involve. Refer to page no 398 of the book.');"
   ]
   }
,
{
		   "cell_type": "markdown",
		   "metadata": {},
		   "source": [
			"## Example 15.2: Two_component_system.sce"
		   ]
		  },
  {
"cell_type": "code",
	   "execution_count": null,
	   "metadata": {
	    "collapsed": true
	   },
	   "outputs": [],
"source": [
"clear;\n",
"//clc();\n",
"\n",
"// Example 15.2\n",
"// Page: 401\n",
"printf('Example-15.2  Page no.-401\n\n');\n",
"\n",
"//***Data***//\n",
"// The system contains four species\n",
"printf(' In this system, there are four identifiable chemical species,which are C,O2,CO2 and CO.\n The balanced equations we can write among them are\n');\n",
"\n",
"printf('    C + 0.5O2 = CO\n');\n",
"printf('    C + O2 = CO2\n');\n",
"printf('    CO + 0.5O2 = CO2\n');\n",
"printf('    CO2 + C = 2CO\n');\n",
"\n",
"// Let we call these equations A, B, C and D respectively\n",
"// These relations are not independent.\n",
"// If we add A and C and cancel like terms, we obtain B.\n",
"// So, If we want independent chemical equilibria we must remove equation C\n",
"\n",
"// Now, if we reverse the direction of B and add it to A, we see that D is also not independent.\n",
"// Thus, there are only two independent relations among these four species and \n",
"printf(' There are only two independent relations among these four species and\n');\n",
"\n",
"// V = C + 2 - P\n",
"// and we have\n",
"V = 2;// No of the variable\n",
"P = 2;// No of the phases\n",
"// So\n",
"C = V + P - 2;\n",
"printf('    C = V + P - 2\n');\n",
"printf('    C = 4 - 2 = 2\n');\n",
"printf(' Thus, this is a two-component system');"
   ]
   }
,
{
		   "cell_type": "markdown",
		   "metadata": {},
		   "source": [
			"## Example 15.3: Degree_of_freedom_and_number_of_components.sce"
		   ]
		  },
  {
"cell_type": "code",
	   "execution_count": null,
	   "metadata": {
	    "collapsed": true
	   },
	   "outputs": [],
"source": [
"clear;\n",
"//clc();\n",
"\n",
"// Example 15.3\n",
"// Page: 402\n",
"printf('Example-15.3  Page no.-402\n\n');\n",
"\n",
"//***Data***//\n",
"// This contains three species.\n",
"printf(' The three species in this system are H2, N2 and NH3\n');\n",
"N = 3;\n",
"printf(' There is only one balanced chemical reaction among these species\n');\n",
"Q = 1\n",
"\n",
"// 2NH3 = N2 + 3H2\n",
"C = N - Q;\n",
"printf('    C = N - Q = %0.0f\n\n',C);\n",
"// Now let us we made the system by starting with pure ammonia.\n",
"// Assuming that all the species are in the gas phase, ammonia dissociates in H2 and N2 in the ratio of 3:1.\n",
"printf(' Let we start with pure ammonia in the system, then ammonia will dissociate in H2 and N2 in the ratio of 3:1.\n');\n",
"\n",
"// We can write an equation among their mole fractions, viz;\n",
"// y_H2 = 3*y_N2\n",
"printf(' And the relation between their mole fraction is\n    y_H2 = 3*y_N2\n\n');\n",
"\n",
"// We might modify the phase rule to put in another symbol for stoichiometric restrictions, but the common usage is to write that \n",
"// Components = species - (independent reactions) - (stoichiometric restriction)\n",
"// and stoichiometric restriction SR is \n",
"SR = 1;\n",
"// so\n",
"c = N-Q-SR;\n",
"printf(' We have the modified phase rule as\n    Components = species - (independent reactions) - (stoichiometric restriction)\n')\n",
"printf('    C = N - Q - SR = %0.0f',c);"
   ]
   }
,
{
		   "cell_type": "markdown",
		   "metadata": {},
		   "source": [
			"## Example 15.4: Number_of_components_in_a_reactions.sce"
		   ]
		  },
  {
"cell_type": "code",
	   "execution_count": null,
	   "metadata": {
	    "collapsed": true
	   },
	   "outputs": [],
"source": [
"clear;\n",
"//clc();\n",
"\n",
"// Example 15.4\n",
"// Page: 403\n",
"printf('Example-15.4  Page no.-403\n\n');\n",
"\n",
"//***Data***//\n",
"// We have been given the reaction \n",
"// CaCO3(s) = CaO(s) + CO2(g)\n",
"\n",
"// Here we have three species and one balanced chemical reaction between them\n",
"// So\n",
"N = 3;// No of species\n",
"Q = 1; // no of reaction\n",
"\n",
"// Since CO2 will mostly be in the gas phase and CaCO3 and CaO will each form separate solid phases, \n",
"// there is no equation we can write among the mole fractions in any of the phases.\n",
"// Hence, there is no stoichiometric restriction i.e.\n",
"SR = 0\n",
"// and the number of the components is\n",
"C = N - Q - SR;\n",
"\n",
"printf('Number of the components presents in the test tube are %0.0f',C);"
   ]
   }
,
{
		   "cell_type": "markdown",
		   "metadata": {},
		   "source": [
			"## Example 15.5: Degree_of_freedom_and_Phases.sce"
		   ]
		  },
  {
"cell_type": "code",
	   "execution_count": null,
	   "metadata": {
	    "collapsed": true
	   },
	   "outputs": [],
"source": [
"clear;\n",
"//clc();\n",
"\n",
"// Example 15.5\n",
"// Page: 403\n",
"printf('Example-15.5  Page no.-403\n\n');\n",
"\n",
"//***Data***//\n",
"// We have been given the reaction \n",
"// CaCO3(s) = CaO(s) + CO2(g)\n",
"// The CaCO3 and CaO form separate solid phases, so we have three phases, two solid and one gas. \n",
"// So\n",
"P = 3;\n",
"// This is a two component system, so\n",
"C = 2;\n",
"\n",
"// From the phase rule\n",
"V = C + 2 - P;\n",
"\n",
"// If there is only one degree of freedom, then the system should have a unique P-T curve.\n",
"// Reference [ 2, page 214 ] as reported in the book, shows the data to draw such a curve, which can be well represented by\n",
"// log(p/torr) = 23.6193 - 19827/T\n",
"\n",
"printf(' The no. of phases present in the system are %0.0f \n',P);\n",
"printf(' Total no of degrees of freedom is %0.0f \n',V);\n",
"printf(' Since, there is only one degree of freedom, so the system has a unique P-T curve,\n');\n",
"printf(' which can be well represented by \n    log(p/torr) = 23.6193 - 19827/T');"
   ]
   }
,
{
		   "cell_type": "markdown",
		   "metadata": {},
		   "source": [
			"## Example 15.6: Number_of_components_in_ionic_reaction.sce"
		   ]
		  },
  {
"cell_type": "code",
	   "execution_count": null,
	   "metadata": {
	    "collapsed": true
	   },
	   "outputs": [],
"source": [
"clear;\n",
"//clc();\n",
"\n",
"// Example 15.6\n",
"// Page: 404\n",
"printf('Example-15.6  Page no.-404\n\n');\n",
"\n",
"//***Data***//\n",
"// The system consists of five species.\n",
"printf(' The five species present in the system are H2O, HCl, H+, OH- and Cl-. \n');\n",
"// So\n",
"N = 5;// Number of the species \n",
"printf(' Here we have two chemical relations:\n');\n",
"printf('    H2O = H+  +  OH- \n');\n",
"printf('    HCl = H+  +  Cl- \n');\n",
"\n",
"// so\n",
"Q = 2;// No of the reactions\n",
"\n",
"// In addition we have electroneutrality, which says that at equilibrium the total no of positive ions in the solution must be the same as the total no of nagative ions,or\n",
"// [H+] = [OH-] + [Cl-]\n",
"// To maintain electroneutrality number of positive and negative ion should be same.\n",
"// Here [H+] stands for the molality of hydrogen ion. This is convertible to a relation among the 'mu's'; hence,\n",
"// it is an additional restriction, so\n",
"SR = 1; \n",
"// So\n",
"// The number of components is\n",
"C = N - Q - SR;\n",
"\n",
"printf(' Number of the components present in the system are \n    C = N - Q - SR = %0.0f',C);\n",
""
   ]
   }
,
{
		   "cell_type": "markdown",
		   "metadata": {},
		   "source": [
			"## Example 15.7: Dependency_of_the_number_of_components.sce"
		   ]
		  },
  {
"cell_type": "code",
	   "execution_count": null,
	   "metadata": {
	    "collapsed": true
	   },
	   "outputs": [],
"source": [
"clear;\n",
"//clc();\n",
"\n",
"// Example 15.7\n",
"// Page: 405\n",
"printf('Example-15.7  Page no.-405\n\n');\n",
"\n",
"//***Data***//\n",
"printf(' Our system consists of Au and H2O.\n');\n",
"// So\n",
"N = 2;// Number of the species\n",
"// If there is no chemical reaction, then \n",
"Q = 0;\n",
"\n",
"//So \n",
"C = N - Q;// Number of the components \n",
"printf(' If no compound is formed, then number of the components in the system are \n    C = N - Q = 2 - 0 = %0.0f\n\n',C);\n",
"\n",
"// However, if there is also a chemical reaction \n",
"// Au + H2O = AuH2O\n",
"// so\n",
"n = 3;// Number of the species\n",
"q = 1;// Number of the reactions \n",
"\n",
"// Thus, we have \n",
"c = n - q;// Number of the components\n",
"\n",
"printf(' If there is also a chemical reaction, viz.\n    Au + H2O = AuH2O \n');\n",
"printf(' the number of the components in the system are\n    C = N - Q = %0.0f\n\n',c);\n",
"printf(' The number of the components is independent of the existence or nonexistence of such compounds of questionable existence. ');"
   ]
   }
,
{
		   "cell_type": "markdown",
		   "metadata": {},
		   "source": [
			"## Example 15.8: A_formal_way_to_find_the_number_of_the_indepedent_equations.sce"
		   ]
		  },
  {
"cell_type": "code",
	   "execution_count": null,
	   "metadata": {
	    "collapsed": true
	   },
	   "outputs": [],
"source": [
"clear;\n",
"//clc();\n",
"\n",
"// Example 15.8\n",
"// Page: 405\n",
"printf('Example-15.8  Page no.-405\n\n');\n",
"\n",
"//***Data***//\n",
"// The species, we are given are CaCO3, CaO and CO2\n",
"// First we write the reaction for the formation of the above species from their elemental part.\n",
"// So, we have \n",
"// Ca + C + 1.5O2 = CaCO3\n",
"// Ca + 0.5O2 = CaO\n",
"// C + O2 = CO2\n",
"\n",
"// We must eliminate Ca, C and O2 from these equations because they do not appear in the species list.\n",
"\n",
"// Now, solving the 3rd equation for C and substituting in the first equation, we have \n",
"// Ca + CO2 - O2 + 1.5O2 = CaCO3\n",
"// Now, this equation to the equation second, we have \n",
"// CO2 = -CaO + CaCO3\n",
"// or\n",
"// CaCO3 = CO2 + CaO \n",
"\n",
"printf(' There is only one balanced chemical reaction between the species on the species list, viz.\n');\n",
"printf('    CaCO3 = CO2 + CaO ');"
   ]
   }
,
{
		   "cell_type": "markdown",
		   "metadata": {},
		   "source": [
			"## Example 15.9: Isothermal_behaviour_of_the_given_reaction_set.sce"
		   ]
		  },
  {
"cell_type": "code",
	   "execution_count": null,
	   "metadata": {
	    "collapsed": true
	   },
	   "outputs": [],
"source": [
"clear;\n",
"//clc();\n",
"\n",
"// Example 15.9\n",
"// Page: 408\n",
"printf('Example-15.9  Page no.-408\n\n');\n",
"\n",
"//***Data***//\n",
"printf('This is a theoratical question and there are no any numerical components. Refer to page no 408 of the book.');"
   ]
   }
],
"metadata": {
		  "kernelspec": {
		   "display_name": "Scilab",
		   "language": "scilab",
		   "name": "scilab"
		  },
		  "language_info": {
		   "file_extension": ".sce",
		   "help_links": [
			{
			 "text": "MetaKernel Magics",
			 "url": "https://github.com/calysto/metakernel/blob/master/metakernel/magics/README.md"
			}
		   ],
		   "mimetype": "text/x-octave",
		   "name": "scilab",
		   "version": "0.7.1"
		  }
		 },
		 "nbformat": 4,
		 "nbformat_minor": 0
}
