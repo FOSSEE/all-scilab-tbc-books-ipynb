{
"cells": [
 {
		   "cell_type": "markdown",
	   "metadata": {},
	   "source": [
       "# Chapter 5: Vapor Pressure The Clapeyron Equation And Single Pure Chemical Species Phase Equilibrium"
	   ]
	},
{
		   "cell_type": "markdown",
		   "metadata": {},
		   "source": [
			"## Example 5.1: Application_of_Clapeyron_Equation.sce"
		   ]
		  },
  {
"cell_type": "code",
	   "execution_count": null,
	   "metadata": {
	    "collapsed": true
	   },
	   "outputs": [],
"source": [
"clear;\n",
"//clc();\n",
"\n",
"// Example 5.1\n",
"// Page: 89\n",
"printf('Example-5.1  Page no.-89\n\n');\n",
"\n",
"//***Data***//\n",
"T=212;// [F]\n",
"\n",
"//**********//\n",
"//From the steam table, we have \n",
"delta_h=970.3;//[Btu/lbm]\n",
"delta_v=26.78;//[ft^(3)/lbm] and\n",
"\n",
"// changing the units\n",
"delta_h1=delta_h*778;//[ft*lbf/lbm]\n",
"delta_v1=delta_v*144;//[ft*in^(2)/lbm]\n",
"T=671.7;//[R]\n",
"\n",
"// We have dP/dT = delta_h/(T*delta_v)\n",
"//Thus\n",
"dP_by_dT=delta_h1/(T*delta_v1);//[psi/R]\n",
"\n",
"printf('The value of dP/dT is %f psi/R',dP_by_dT);\n",
"//Using the nearest adjacent steam table entries for vapour pressure, wee have \n",
"//dP_by_dT = delta_P_by_delta_T=(15.291-14.125)/(214-210)=0.2915 psi/R"
   ]
   }
,
{
		   "cell_type": "markdown",
		   "metadata": {},
		   "source": [
			"## Example 5.2: Application_of_Clausius_Clapeyron_Equation.sce"
		   ]
		  },
  {
"cell_type": "code",
	   "execution_count": null,
	   "metadata": {
	    "collapsed": true
	   },
	   "outputs": [],
"source": [
"clear;\n",
"//clc();\n",
"\n",
"// Example 5.2\n",
"// Page: 90\n",
"printf('Example-5.2  Page no.-90\n\n');\n",
"\n",
"//***Data***//\n",
"p_2=0.005;// [psia]\n",
"R=1.987/18;//[1/R]\n",
"\n",
"//*******//\n",
"\n",
"//From the steam tables at the tripple point, we find \n",
"T_1=460+32.018;//[R]\n",
"p_1=0.0887;//[psia]\n",
"\n",
"//delta_h(solid to gas) = delta_h(sublimation) = 1218.7;//[Btu/lbm]\n",
"delta_H=1218.7;//[Btu/lbm]\n",
"\n",
"//Assuming that the enthalpy change of vaporization is independent of temperature (a fairly good approximation in this case)\n",
"//we start with Eq. 5.10 and rearrange:\n",
"//1/T_2 = 1/T_1-(log(p_2/p_1))*R/delta_H\n",
"//So\n",
"\n",
"T_2=1/(1/T_1-(log(p_2/p_1))*R/delta_H);//[R]\n",
"//Changing the temperature in farenheit\n",
"T_2F=T_2-460;//[F]\n",
"\n",
"printf('The temperature is %f R',T_2F);\n",
"//BY linear interpolation in the steam tables, one finds -23.8 F. Because of imprecision of linear interpolation, these values are approximately equal."
   ]
   }
,
{
		   "cell_type": "markdown",
		   "metadata": {},
		   "source": [
			"## Example 5.3: Application_of_Clausius_Clapeyron_Equation.sce"
		   ]
		  },
  {
"cell_type": "code",
	   "execution_count": null,
	   "metadata": {
	    "collapsed": true
	   },
	   "outputs": [],
"source": [
"clear;\n",
"//clc();\n",
"\n",
"// Example 5.3\n",
"// Page: 91\n",
"printf('Example-5.3  Page no.-91\n\n');\n",
"\n",
"//***Data***//\n",
"\n",
"T_3=1155.2;//[R]\n",
"T_2=652.9;//[R]\n",
"T_1=787.5;//[R]\n",
"p_2=10;//[psia]\n",
"p_1=100;//[psia]\n",
"\n",
"//******//\n",
"//Here we can write Eq. 5.9 as reported in the book in the form most often seen.\n",
"// log(p)=A-B/T\n",
"//Where A and B are constants to be determined from the pair of T and p values above.\n",
"\n",
"//we simply write \n",
"//log(10)=A-B/652.9;\n",
"//log(100)=A-B/787.5;\n",
"// We have to solve the above two simultaneous equations having two vaiables A and B.\n",
"\n",
"M=[1 -1/652.9;1 -1/787.5];\n",
"C=[log(10);log(100)];\n",
"X=inv(M)*C;\n",
"A=X(1);\n",
"B=X(2);\n",
"\n",
"// By straightforward algebra we find the values of A and B. Thus, for 1155.2 R we have \n",
"p_3=exp(A-B/T_3);\n",
"\n",
"printf('Vapuor pressure of water at given temperature is %f psia\n\n',p_3);\n",
"// p_3=3499 psia. \n",
"printf('It has been reported in the book that from table 5.1 we see that the correct value is 3000 psia. Thus, there is an error of 16%% in the predicted pressure.');\n",
""
   ]
   }
,
{
		   "cell_type": "markdown",
		   "metadata": {},
		   "source": [
			"## Example 5.4: The_Accentric_Factor.sce"
		   ]
		  },
  {
"cell_type": "code",
	   "execution_count": null,
	   "metadata": {
	    "collapsed": true
	   },
	   "outputs": [],
"source": [
"clear;\n",
"//clc();\n",
"\n",
"// Example 5.4\n",
"// Page: 94\n",
"printf('Example-5.4  Page no.-94\n\n');\n",
"\n",
"//***Data***//\n",
"// At Tr = 0.7, we read \n",
"Pr=0.023;\n",
"// and thus accentric factor is given by\n",
"\n",
"w=-log10(0.023)-1;\n",
"\n",
"printf('The accentric factor based on the given data is %f',w);\n",
"//It has been reported in the book that table A.1 shows that the value based on the best data is 0.645."
   ]
   }
,
{
		   "cell_type": "markdown",
		   "metadata": {},
		   "source": [
			"## Example 5.5: Estimation_of_NBP_using_Antoine_equation.sce"
		   ]
		  },
  {
"cell_type": "code",
	   "execution_count": null,
	   "metadata": {
	    "collapsed": true
	   },
	   "outputs": [],
"source": [
"clear;\n",
"//clc();\n",
"\n",
"// Example 5.5\n",
"// Page: 94\n",
"printf('Example-5.5  Page no.-94\n\n');\n",
"\n",
"//***Data***//\n",
"//From Antoine equation we have \n",
"// log(p) = A-B/(T+C)\n",
"//Solving above equation for T, we have\n",
"// T = B/(A-log(p))-C\n",
"//Inserting the values of the constants for the water which are reported in the given book in the table A.2 (page 419),\n",
"// and the value of 1.00 atm expressed in torr, we find that \n",
"\n",
"A=7.96681;\n",
"B=1668.21;\n",
"C=228.0;\n",
"p=760;//[torr]\n",
"\n",
"//Thus\n",
"T=B/(A-log10(p))-C;\n",
"\n",
"printf('NBP of water using antoine equation and table A.2 is %f C',T);\n",
"\n",
"//This does not prove the overall accuracy of the Antoine equation, but does show that whoever fitted the constants to the experimental data for water made them represent the NBP (100C) very well.  "
   ]
   }
,
{
		   "cell_type": "markdown",
		   "metadata": {},
		   "source": [
			"## Example 5.6: Applying_the_Clapeyron_equation_to_other_kind_of_equilibrium.sce"
		   ]
		  },
  {
"cell_type": "code",
	   "execution_count": null,
	   "metadata": {
	    "collapsed": true
	   },
	   "outputs": [],
"source": [
"clear;\n",
"//clc();\n",
"\n",
"// Example 5.6\n",
"// Page: 96\n",
"printf('Example-5.6  Page no.-96\n\n');\n",
"\n",
"//***Data***//\n",
"T_2=-22;//[C]\n",
"// converting temperature in farenheit\n",
"T_2F=T_2*9/5+32;//[F]\n",
"\n",
"//Expressing T_2 in Rankine\n",
"T_2R=460+T_2F;//[R]\n",
"\n",
"//******//\n",
"\n",
"//delta_h = delta_h(fusion)\n",
"delta_h=143.35*778;//[ft*lbf/lbm]\n",
"\n",
"//delta_v = v_water-v_ice\n",
"delta_v=0.01602-0.01747;//[ft^(3)/lbm]\n",
"\n",
"// changing the unit \n",
"delta_v1=delta_v*144;//[ft*in/lbm]\n",
"\n",
"//and\n",
"T_1=460+32;//[R]\n",
"dP_by_dT=delta_h/(T_1*delta_v1);//[psi/R] at 32F\n",
"delta_T=T_2R-T_1;\n",
"\n",
"//This gives the rigorously correct slope of the liquid-solid curve at 32F on a P-T diagram.\n",
"//Here we use P instead of p  because neither phase is a gas, so this is not a vapour pressure. \n",
"//If we further assume that the solid-liquid curve is a straight line, which is equivalent to assuming that delta_h/(T*deta_v)is a constant over the region of interest, then we can estimate the pressure at -22C = -7.6F by\n",
"// delta_P = integrate(dP_by_dT)*dT = (dP_by_dT)*delta_T\n",
"//So\n",
"\n",
"delta_P=(dP_by_dT)*delta_T;//[psi]\n",
"\n",
"// From this we can estimate the final pressure as\n",
"delta_P=delta_P+0.09;//[psi]\n",
"\n",
"printf('Freezing preesure of water at given temperature is %f psi',delta_P);\n",
"// In this case, the experimental pressure is well known, because this temperature corresponds to the tripple point between liquid and water, \n",
"// ice I(the common variety), and ice III, a variety that does not exist at pressure below about 30000 psia (see figure 1.10 in the book). \n",
"// The measured value is 30000 psia, which shows that our assumption of a straight line on a P-T plot (delta_h/(T*delta_v)=constant) is only approximately correct.\n",
""
   ]
   }
],
"metadata": {
		  "kernelspec": {
		   "display_name": "Scilab",
		   "language": "scilab",
		   "name": "scilab"
		  },
		  "language_info": {
		   "file_extension": ".sce",
		   "help_links": [
			{
			 "text": "MetaKernel Magics",
			 "url": "https://github.com/calysto/metakernel/blob/master/metakernel/magics/README.md"
			}
		   ],
		   "mimetype": "text/x-octave",
		   "name": "scilab",
		   "version": "0.7.1"
		  }
		 },
		 "nbformat": 4,
		 "nbformat_minor": 0
}
