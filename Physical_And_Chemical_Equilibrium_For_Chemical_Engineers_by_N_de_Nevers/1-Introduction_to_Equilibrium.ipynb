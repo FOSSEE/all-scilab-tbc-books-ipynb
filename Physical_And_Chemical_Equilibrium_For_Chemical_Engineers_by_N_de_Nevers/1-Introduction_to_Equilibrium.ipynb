{
"cells": [
 {
		   "cell_type": "markdown",
	   "metadata": {},
	   "source": [
       "# Chapter 1: Introduction to Equilibrium"
	   ]
	},
{
		   "cell_type": "markdown",
		   "metadata": {},
		   "source": [
			"## Example 1.1: Units_Conversion_Factors_and_Notations.sce"
		   ]
		  },
  {
"cell_type": "code",
	   "execution_count": null,
	   "metadata": {
	    "collapsed": true
	   },
	   "outputs": [],
"source": [
"\n",
"clear;\n",
"//clc();\n",
"\n",
"// Example 1.1\n",
"// Page: 9\n",
"printf('Example-1.1  Page no.-9\n\n');\n",
"\n",
"//***Data***//\n",
"m_i = 10;//[g]\n",
"m_w = 990;//[g]\n",
"M_i = 342.3;//[g]\n",
"M_w = 18;//[g]\n",
"// The mass fraction is \n",
"// ( mass fraction of sucrose ) = x_i (by mass) = m_i/(sum of all substances)\n",
"x_i = m_i/(m_i+m_w);\n",
"x_i = x_i*100;// [in percentage]\n",
"// This is also the weight fraction.\n",
"// The mole fraction is\n",
"// ( mole fraction of sucrose ) = x_j (by mole) = n_i/(sum of number moles of all the substances)\n",
"n_i = m_i/M_i;// number of moles of sucrose\n",
"n_w = m_w/M_w;// number of moles of water\n",
"x_j = n_i/(n_i+n_w);\n",
"x_j = x_j*100;// [in percentage]\n",
"// The molality, a concentration unit is widely used in equilibrium calculations, is defined as \n",
"// m (molality) = (moles of solute)/(kg of solvent)\n",
"m = n_i/m_w*1000;//[molal]\n",
"// For solutions of solids and liquids (but not gases) ppm almost always means ppm by mass, so \n",
"x_ppm = x_i*10^(6)/100;//[ppm]\n",
"printf(' sucrose concentration in terms of the mass fraction is %f%%\n',x_i);\n",
"printf(' sucrose concentration in terms of the mole fraction is %f%%\n',x_j);\n",
"printf(' sucrose concentration in terms of the molality is      %f molal\n',m);\n",
"printf(' sucrose concentration in terms of the ppm is           %f ppm',x_ppm);"
   ]
   }
,
{
		   "cell_type": "markdown",
		   "metadata": {},
		   "source": [
			"## Example 1.2: Density_dependency_of_concentration.sce"
		   ]
		  },
  {
"cell_type": "code",
	   "execution_count": null,
	   "metadata": {
	    "collapsed": true
	   },
	   "outputs": [],
"source": [
"clear;\n",
"//clc();\n",
"\n",
"// Example 1.2\n",
"// Page: 9\n",
"printf('Example-1.2  Page no.-10\n\n');\n",
"\n",
"//***Data***//\n",
"T = 20;//[C]\n",
"d = 1.038143/1000*10^(6);//[kg/m^(3)]\n",
"m_i = 10;//[g] mass of sucrose\n",
"M_i = 342.3;//[g/mol] molecular weight of sucrose\n",
"// In the previous example i.e. example 1.1 the mass was chosen to be 1.00 kg, so that\n",
"m = 1.00;//[kg]\n",
"V = m/d*1000;//[L]\n",
"// The mass concentration is\n",
"// m_1 ( mass concentration of sucrose ) = (mass of sucrose)/(volume of solution)\n",
"m_1 = m_i/V;//[g/L]\n",
"// The mole concentration is \n",
"// m_2 ( mole concentration of sucrose ) = (moles of sucrose)/(volume of solution)\n",
"m_2 = (m_i/M_i)/V;//[mol/L]\n",
"printf(' Mass concentration of the solution is %f g/L\n',m_1);\n",
"printf(' Mole concentration of the solution is %f mol/L\n',m_2);\n",
"// By the definition of the molarity, molarity is mole concentration of the solute\n",
"// so molarity \n",
"m = m_2;\n",
"printf(' Molarity of the solution is           %f mol/L',m_2);"
   ]
   }
],
"metadata": {
		  "kernelspec": {
		   "display_name": "Scilab",
		   "language": "scilab",
		   "name": "scilab"
		  },
		  "language_info": {
		   "file_extension": ".sce",
		   "help_links": [
			{
			 "text": "MetaKernel Magics",
			 "url": "https://github.com/calysto/metakernel/blob/master/metakernel/magics/README.md"
			}
		   ],
		   "mimetype": "text/x-octave",
		   "name": "scilab",
		   "version": "0.7.1"
		  }
		 },
		 "nbformat": 4,
		 "nbformat_minor": 0
}
