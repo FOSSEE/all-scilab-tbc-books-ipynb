{
"cells": [
 {
		   "cell_type": "markdown",
	   "metadata": {},
	   "source": [
       "# Chapter 7: Fugacity Ideal Solutions Activity Activity Coefficient"
	   ]
	},
{
		   "cell_type": "markdown",
		   "metadata": {},
		   "source": [
			"## Example 7.1: The_fugacity_of_pure_gases.sce"
		   ]
		  },
  {
"cell_type": "code",
	   "execution_count": null,
	   "metadata": {
	    "collapsed": true
	   },
	   "outputs": [],
"source": [
"clear;\n",
"//clc();\n",
"\n",
"// Example 7.1\n",
"// Page: 134\n",
"printf('Example-7.1  Page no.-134\n\n');\n",
"\n",
"//***Data***//\n",
"T = 220+459.67;//[R] Temperature in Rankine\n",
"P = 500;//[psia] Pressure\n",
"R = 10.73;//[(psi*ft^(3)/(lbmol*R))] Gas constant\n",
"\n",
"// We will follow the method 'a' as the book has given the multiple methods to solve this problem\n",
"// From  the equation 7.10 given in the book(page 132), we have \n",
"// (f/P) = exp((-1/(R*T))*intgrate(a*dp)) , with intgration limits from zero to 'P'\n",
"// Where 'a' is known as volume residual\n",
"// Let us say , I = intgrate(a*dp)\n",
"\n",
"// From the table 7.A(page 134) given in the book, the average value of alpha(a) is \n",
"a = 4.256;//[ft^(3)/lbmol]\n",
"// so \n",
"I = integrate('a*p^(0)','p',0,P);\n",
"\n",
"// Now \n",
"f = P*exp((-1/(R*T))*I);//[psia]\n",
"printf('Fugacity of propane gas at the given condition is %f psia',f);"
   ]
   }
,
{
		   "cell_type": "markdown",
		   "metadata": {},
		   "source": [
			"## Example 7.2: Compressibility_factor_and_volume_residual.sce"
		   ]
		  },
  {
"cell_type": "code",
	   "execution_count": null,
	   "metadata": {
	    "collapsed": true
	   },
	   "outputs": [],
"source": [
"clear;\n",
"//clc();\n",
"\n",
"// Example 7.2\n",
"// Page: 138\n",
"printf('Example-7.2  Page no.-138\n\n');\n",
"\n",
"//***Data***//\n",
"T = 100 + 460;//[R] Temperature of the system in Rankine\n",
"P = 1;// [psia]\n",
"R = 10.73;//[(psi*ft^(3)/(lbmol*R))] Gas constant\n",
"\n",
"// From the steam table, the specific volume of the water at 101.7 F, which is nearly equal to 100 F, and 1 psia is\n",
"v = 0.016136*18;//[ft^(3)/lbmol]\n",
"z = (P*v)/(R*T);\n",
"\n",
"// and volume residual is given by\n",
"a = ((R*T)/P)*(1-z);//[ft^(3)/lbmol]\n",
"\n",
"printf(' Compresssibility factor the liquid water at the given condition is %f\n ',z);\n",
"printf('Volume residual for the liquid water at the given condition is     %0.1f cubic feet/lbmol',a)"
   ]
   }
,
{
		   "cell_type": "markdown",
		   "metadata": {},
		   "source": [
			"## Example 7.3: Fugacity_of_pure_liquid.sce"
		   ]
		  },
  {
"cell_type": "code",
	   "execution_count": null,
	   "metadata": {
	    "collapsed": true
	   },
	   "outputs": [],
"source": [
"clear;\n",
"//clc();\n",
"\n",
"// Example 7.3\n",
"// Page: 138\n",
"printf('Example-7.3  Page no.-138\n\n');\n",
"\n",
"//***Data***//\n",
"\n",
"T = 100+460;//[R] Temperature\n",
"P = 1000;//[psia] Pressure\n",
"R = 10.73;//[(psi*ft^(3)/(lbmol*R))] Gas constant\n",
"\n",
"// From the figure 7.3(page 138) we see that as P tends to zero, (f/P) tends to 1, so f tends to 0. Therefore, f_a tends to zero also in the diagram\n",
"// fugacity at point b is calculated by the equation\n",
"// (f/P)_b = exp((-1/(R*T))*integrate(a*dp)), with integration limit of p, 0 and P = 0.9503\n",
"// We have\n",
"f_b = 0.95;//[psia]\n",
"\n",
"// We also can write\n",
"f_c = f_b;//[psia]\n",
"\n",
"// To find the value of f_d, we use the equation \n",
"// integrate(d(logf))_T = integrate((v/(R*T))*dp)_T.................................................(1)\n",
"// here 'v' is practically constant(for a liquid), and\n",
"v = 0.016136*18;//[ft^(3)/lbmol]\n",
"\n",
"// and from the figure 7.3, we have \n",
"P_d = 1000;//[psia]\n",
"P_c = 1;//[psia]\n",
"\n",
"// integrating the left hand side of the equation with the integration limits f_c and f_d and solving, we have\n",
"f_d = f_c*exp((v/(R*T))*integrate('p^(0)','p',P_c,P_d));\n",
"\n",
"printf('Fugacity of the pure liquid water at the given condition is %0.1f psia',f_d);"
   ]
   }
,
{
		   "cell_type": "markdown",
		   "metadata": {},
		   "source": [
			"## Example 7.4: Activity_and_activity_coefficient.sce"
		   ]
		  },
  {
"cell_type": "code",
	   "execution_count": null,
	   "metadata": {
	    "collapsed": true
	   },
	   "outputs": [],
"source": [
"clear;\n",
"//clc();\n",
"\n",
"// Example 7.4\n",
"// Page: 145\n",
"printf('Example-7.4  Page no.-145\n\n');\n",
"\n",
"//***Data***//\n",
"\n",
"T = 78.15;//[C]\n",
"P = 1.0;//[atm]\n",
"// Here we name ethanol as the species 'a', and water as the species 'b', and name the vapor as phase 1 and the liquid as the phase 2. \n",
"// Thus vapor pressures of the pure species at the given temperature are\n",
"p_a_0 = 0.993;//[atm] Pure ethanol vapor pressure at 78.15C\n",
"p_b_0 = 0.434;//[atm] Pure water vapor pressure at 78.15C\n",
"\n",
"// Also composition of the azeotrope is\n",
"x_a = 0.8943;// Amount of ethanol in the liquid phase \n",
"x_b = 0.1057;// Amount of water in liquid phase \n",
"\n",
"// Also, for an azeotrope mixture\n",
"y_a = x_a;// Amount of ethanol in vapor phase \n",
"y_b = x_b;// Amount of water in the vapor phase \n",
"\n",
"// For ideal gas , fugacity is equal to the total pressure of the system, i.e.\n",
"// f_i_0 = P  , (where P is the system pressure)\n",
"// For pure liquid system, fugacity of a species is independent of the total pressure of the system and is equal to the pure species vapor pressure at  this temprature, i.e.\n",
"// f_i_0 = p_i\n",
"\n",
"// Now, fugacity of each species in gaseous phase and liquid phase will be equal \n",
"// so, writing the expression for both liquid and gas phase fugacity and equatinh them, we have\n",
"// f_a_2 = f_a_1 = (y*Y*P)_a_1 = (x*Y*p)_a_2..........................................(1)\n",
"// f_b_2 = f_b_1 = (y*Y*P)_b_1 = (x*Y*p)_b_2..........................................(2)\n",
"\n",
"// We observe that this system has four values of 'Y', one for each of the two species in each of two phases.\n",
"// Mixtures of the ideal gases are all ideal solutions and the value of 'Y' for all the species in ideal gas phase are unity, so for above two equations\n",
"Y_a_1 = 1.0;\n",
"Y_b_1 = 1.0;\n",
"\n",
"// Now putting the values these gaseous phase 'Y's in their respective equations 1 and 2, and solving for the liquid phase 'Y's, we have\n",
"Y_a_2 = ((y_a*P)/(x_a*p_a_0));\n",
"Y_b_2 = ((y_b*P)/(x_b*p_b_0));\n",
"\n",
"// From equations 1 and 2, the fugacity of each species in each phase is given by\n",
"f_a_1 = (y_a*Y_a_1*P);//[atm]\n",
"f_b_1 = (y_b*Y_b_1*P);//[atm]\n",
"// and from the definition we have \n",
"f_a_2 = f_a_1;//[atm]\n",
"f_b_2 = f_b_1;//[atm]\n",
"\n",
"// As we have defined above about the pure species fugacity, so \n",
"// For vapor phase\n",
"f_a_1_0 = P;//[atm]\n",
"f_b_1_0 = P;//[atm]\n",
"\n",
"// For liquid phase\n",
"f_a_2_0 = p_a_0;//[atm]\n",
"f_b_2_0 = p_b_0;//[atm]\n",
"\n",
"printf(' The results are summarized in the following table:\n\n \tPhase\t\t\t\t Etahnol,i=a\t\t\t\t Water,i=b\n\n');\n",
"printf(' \tVAPOR, PHASE 1\n');\n",
"printf('  \t  f_i_1, atm   \t\t\t %f \t\t\t\t %f\n',f_a_1,f_b_1);\n",
"printf('  \t  f_i_1_0, atm \t\t\t %f \t\t\t\t %f\n',f_a_1_0,f_b_1_0);\n",
"printf('  \t  Y_i_1(assumed)  \t\t %f \t\t\t\t %f\n\n',Y_a_1,Y_b_1);\n",
"printf(' \tLIQUID, PHASE 2\n');\n",
"printf('  \t  f_i_2, atm   \t\t\t %f \t\t\t\t %f\n',f_a_2,f_b_2);\n",
"printf('  \t  f_i_2_0, atm \t\t\t %f \t\t\t\t %f\n',f_a_2_0,f_b_2_0);\n",
"printf('  \t  Y_i_2(assumed)  \t\t %f \t\t\t\t %f\n',Y_a_2,Y_b_2);"
   ]
   }
,
{
		   "cell_type": "markdown",
		   "metadata": {},
		   "source": [
			"## Example 7.5: Fugacities_from_gas_PvT_data.sce"
		   ]
		  },
  {
"cell_type": "code",
	   "execution_count": null,
	   "metadata": {
	    "collapsed": true
	   },
	   "outputs": [],
"source": [
"clear;\n",
"//clc();\n",
"\n",
"// Example 7.5\n",
"// Page: 149\n",
"printf('Example-7.5  Page no.-149\n\n');\n",
"\n",
"//***Data***//\n",
"\n",
"T = 220+460;//[R] Temperature in rankine\n",
"P = 1000;//[psia] Pressure\n",
"y_methane = 0.784; // Mol fraction of methane in the given mixture\n",
"y_butane = (1-y_methane);// Mol fraction of n-butane in the given mixture\n",
"R = 10.73;//[(psia*ft^(3)/(lbmol*R))] gas constant\n",
"\n",
"// In this problem, we need the partial molar volume residual.\n",
"// We find its value at 100 psia by plotting the volume resduals at 100 psia as a function of mole fraction, as shown in figure 7.9( page 150 )\n",
"// drawing the tangent to the data points at x_methane = 0.784 and reading its intercept on the 100 mol% methane axis as 0.6 ft^(3)/lbmol\n",
"// similarily volume residual is determined for all other pressures and plot them vs pressure, as shown in Figure 7.10 (page 151). \n",
"// From this plot we find the integral we need by numerical integration ( trapazoid rule ) as 290 ft ^(3)/lbmol.\n",
"\n",
"// Thus, for methane \n",
"// f_i/(P*y_i) = exp((-1/(R*T))*integrate(a_i*dp)) with integral limits 0 to P = 1000 psia\n",
"// Let I = intefrate(a_i*dp))   and  J = f_i/(P*y_i) , so\n",
"Im = 290;//[ft^(3)/lbmol]\n",
"\n",
"// and\n",
"Jm = exp((-1/(R*T))*Im);\n",
"\n",
"// hence \n",
"f_methane = Jm*P*y_methane;//[psia] fugacity of methane\n",
"\n",
"// doing the same process for butane, we find \n",
"Ib = 5859;//[ft^(3)/lbmol]\n",
"// so, for butane we find\n",
"Jb = exp((-1/(R*T))*Ib);\n",
"// hence \n",
"f_butane = Jb*P*y_butane;//[psia] fugacity of butane\n",
"\n",
"printf(' Fugacity of the methane in the gaseous mixture is %0.0f psia\n',f_methane);\n",
"printf(' Fugacity of the butane in the gaseous mixture is  %0.1f psia',f_butane);"
   ]
   }
,
{
		   "cell_type": "markdown",
		   "metadata": {},
		   "source": [
			"## Example 7.6: Fugacities_from_gas_PvT_data.sce"
		   ]
		  },
  {
"cell_type": "code",
	   "execution_count": null,
	   "metadata": {
	    "collapsed": true
	   },
	   "outputs": [],
"source": [
"clear;\n",
"//clc();\n",
"\n",
"// Example 7.6\n",
"// Page: 153\n",
"printf('Example-7.6  Page no.-153\n\n');\n",
"\n",
"//***Data***//\n",
"\n",
"T = 220+460;//[R] Temperature in rankine\n",
"P = 1000;//[psia] Pressure\n",
"x_methane = 0.784; // Mol fraction of methane in the given mixture\n",
"x_butane = (1-x_methane);// Mol fraction of n-butane in the given mixture\n",
"\n",
"// From the example 7.5, we found directly from the PvT data that for methane\n",
"// (f_i/(P*x_i)) = 0.961 = (v_i*Y_i) = phi_cap_i\n",
"// So, we can write that\n",
"v_i_into_Y_i = 0.961;\n",
"phi_cap_i = 0.961;\n",
"\n",
"// From Starling's tables of hydrocarbon properties we read that for pure methane at this T and P,\n",
"// (F_i/P) = v_i = phi_i , from which it follows \n",
"v_i = 0.954;\n",
"phi_i = v_i;\n",
"Y_i = phi_cap_i/v_i;\n",
"\n",
"printf(' The value of v_i is %f\n',v_i);\n",
"printf(' The value of Y_i is %f\n',Y_i);\n",
"printf(' The value of phi_cap_i is %f',phi_cap_i);"
   ]
   }
,
{
		   "cell_type": "markdown",
		   "metadata": {},
		   "source": [
			"## Example 7.7: Fugacities_from_an_EOS_for_gas_mixtures.sce"
		   ]
		  },
  {
"cell_type": "code",
	   "execution_count": null,
	   "metadata": {
	    "collapsed": true
	   },
	   "outputs": [],
"source": [
"clear;\n",
"//clc();\n",
"\n",
"// Example 7.7\n",
"// Page: 154\n",
"printf('Example-7.7  Page no.-154\n\n');\n",
"\n",
"//***Data***//\n",
"\n",
"T_r = 0.889;\n",
"P_r = 1.815;\n",
"\n",
"// Using the properties of n-butane from appendix A.1 and the equation 7.W, we find that\n",
"// (f/P) = v = phi = exp((P_r/T_r)*f(T_r,w))\n",
"// Say,    f(T_r,w) = f_f\n",
"f_f = -0.48553;\n",
"// so\n",
"v = exp((P_r/T_r)*f_f);\n",
"phi = v;\n",
"printf(' The value of v=phi for n-butane at given condition is %f',v);"
   ]
   }
],
"metadata": {
		  "kernelspec": {
		   "display_name": "Scilab",
		   "language": "scilab",
		   "name": "scilab"
		  },
		  "language_info": {
		   "file_extension": ".sce",
		   "help_links": [
			{
			 "text": "MetaKernel Magics",
			 "url": "https://github.com/calysto/metakernel/blob/master/metakernel/magics/README.md"
			}
		   ],
		   "mimetype": "text/x-octave",
		   "name": "scilab",
		   "version": "0.7.1"
		  }
		 },
		 "nbformat": 4,
		 "nbformat_minor": 0
}
