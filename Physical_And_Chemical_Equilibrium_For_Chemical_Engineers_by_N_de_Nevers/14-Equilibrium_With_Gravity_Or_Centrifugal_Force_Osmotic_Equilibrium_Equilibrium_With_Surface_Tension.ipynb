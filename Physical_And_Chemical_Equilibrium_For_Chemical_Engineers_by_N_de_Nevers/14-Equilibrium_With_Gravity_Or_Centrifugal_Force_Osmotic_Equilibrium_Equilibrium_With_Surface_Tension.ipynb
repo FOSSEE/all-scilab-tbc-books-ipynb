{
"cells": [
 {
		   "cell_type": "markdown",
	   "metadata": {},
	   "source": [
       "# Chapter 14: Equilibrium With Gravity Or Centrifugal Force Osmotic Equilibrium Equilibrium With Surface Tension"
	   ]
	},
{
		   "cell_type": "markdown",
		   "metadata": {},
		   "source": [
			"## Example 14.1: Equilibrium_in_the_presence_of_gravity.sce"
		   ]
		  },
  {
"cell_type": "code",
	   "execution_count": null,
	   "metadata": {
	    "collapsed": true
	   },
	   "outputs": [],
"source": [
"clear;\n",
"//clc();\n",
"\n",
"// Example 14.1\n",
"// Page: 379\n",
"printf('Example-14.1  Page no.-379\n\n');\n",
"\n",
"//***Data***//\n",
"T = 300;//[K] Temperature of the natural gas well\n",
"R = 8.314;//[J/(mol*K)] universal gas constant\n",
"z_1 = 0;//[m]\n",
"// At the surface of the well mole fraction of the components are\n",
"y_methane_surf = 85/100;//[mol%]\n",
"y_ethane_surf = 10/100;//[mol%]\n",
"y_propane_surf = 5/100;//[mol%]\n",
"P = 2;//[MPa] Total equilibrium pressure \n",
"z_2 = 1000;//[m] Depth of the well \n",
"\n",
"// Molecular weights of the components are\n",
"M_methane = 16/1000;//[kg/mol]\n",
"M_ethane = 30/1000;//[kg/mol]\n",
"M_propane = 44/1000;//[kg/mol]\n",
"\n",
"// Now, we have the relation between the fugacities of a component at z_1 and z_2 as\n",
"// f_i_2/f_i_1 = exp((-M_i*g*(z_2-z_1))/(R*T))  , where g is gravitational accelaration and its value is\n",
"g = 9.81;//[m/s^(2)]\n",
"\n",
"// Fugacities of the various components at the surface i.e. at z = z_1 is\n",
"f_methane_1 = y_methane_surf*P;//[MPa]\n",
"f_ethane_1 = y_ethane_surf*P;//[MPa]\n",
"f_propane_1 = y_propane_surf*P;//[MPa]\n",
"\n",
"// Now, fugacities at z = z_2 are\n",
"f_methane_2 = f_methane_1*exp((-M_methane*g*(z_1-z_2))/(R*T));;;//[MPa]\n",
"f_ethane_2 = f_ethane_1*exp((-M_ethane*g*(z_1-z_2))/(R*T));//[MPa]\n",
"f_propane_2 = f_propane_1*exp((-M_propane*g*(z_1-z_2))/(R*T));//[MPa]\n",
"\n",
"// Let at z = z_1 total pressure of the gases are P_2\n",
"// Then, fugacities of the ith component is also given as \n",
"// f_i_2 = y_i_2*P_2\n",
"// Writing the expression for all the component ad adding them we get \n",
"// (f_methane_2 + f_ethane_2 + f_propane_2 ) = y_methane_2*P_2 + y_ethane_2*P_2 + y_propane_2*P_2\n",
"// or\n",
"// (f_methane_2 + f_ethane_2 + f_propane_2 ) = P_2*(y_methane_2 + y_ethane_2 + y_propane_2)\n",
"// and\n",
"// (y_methane_2 + y_ethane_2 + y_propane_2) = 1   ,so\n",
"P_2 = (f_methane_2 + f_ethane_2 + f_propane_2 );//[MPa]\n",
"\n",
"// Now the mole fractions of the components are \n",
"// y_i_2 = f_i_2/P_2  , so\n",
"y_methane_2 = f_methane_2/P_2;\n",
"y_ethane_2 = f_ethane_2/P_2;\n",
"y_propane_2 = f_propane_2/P_2;\n",
"\n",
"printf('The mol fraction of the methane at the depth 1000m is %f\n',y_methane_2);\n",
"printf('The mol fraction of the ethane at the depth 1000m is %f\n',y_ethane_2);\n",
"printf('The mol fraction of the propane at the depth 1000m is %f\n',y_propane_2);"
   ]
   }
,
{
		   "cell_type": "markdown",
		   "metadata": {},
		   "source": [
			"## Example 14.2: Equilibrium_in_the_presence_of_gravity.sce"
		   ]
		  },
  {
"cell_type": "code",
	   "execution_count": null,
	   "metadata": {
	    "collapsed": true
	   },
	   "outputs": [],
"source": [
"clear;\n",
"//clc();\n",
"\n",
"// Example 14.2\n",
"// Page: 380\n",
"printf('Example-14.2  Page no.-380\n\n');\n",
"\n",
"//***Data***//\n",
"T = 288;//[K] Atmospheric temperature \n",
"R = 8.314;//[J/(mol*K)] universal gas constant\n",
"z_2 = 15000;//[m] Thickness of the atmosphere\n",
"z_1 = 0;//[m] Surface\n",
"// At the surface, the mole fraction of nitrogen and oxygen are \n",
"y_N2_1 = 0.79;\n",
"y_O2_1 = 0.21;\n",
"M_N2 = 28/1000;//[kg/mol]\n",
"M_O2 = 32/1000;//[kg/mol]\n",
"\n",
"// For an ideal solution of ideal gases with only two species, we have \n",
"// y_i_2/y_i_1 = 1/(y_i_1 + y_j_1/a) , and\n",
"// a = exp(-(M_i-M_j)*g*(z_2-z_1)/(R*T))\n",
"// where 'g' is accelaration due to gravity and its value is\n",
"g = 9.81;//[m/s^(2)]\n",
"\n",
"// So\n",
"a = exp(-(M_N2-M_O2)*g*(z_2-z_1)/(R*T));\n",
"// and\n",
"yi2_by_yi1 = 1/(y_N2_1 + y_O2_1/a);\n",
"\n",
"printf(' Concentration of the nitrogen at the top of atmosphere with respect to the concentration of nitrogen at the surface of the earth is \n        yi2_by_yi1 = %0.2f',yi2_by_yi1);"
   ]
   }
,
{
		   "cell_type": "markdown",
		   "metadata": {},
		   "source": [
			"## Example 14.3: Equilibrium_in_the_presence_of_gravity.sce"
		   ]
		  },
  {
"cell_type": "code",
	   "execution_count": null,
	   "metadata": {
	    "collapsed": true
	   },
	   "outputs": [],
"source": [
"clear;\n",
"//clc();\n",
"\n",
"// Example 14.3\n",
"// Page: 381\n",
"printf('Example-14.3  Page no.-381\n\n');\n",
"\n",
"//***Data***//\n",
"// For this problem all the data are same as in previous Example 14.2 except z_1 and z_2 \n",
"// So\n",
"T = 288;//[K] Atmospheric temperature \n",
"R = 8.314;//[J/(mol*K)] Universal gas constant\n",
"z_2 = 10;//[m] Height of the reactor\n",
"z_1 = 0;//[m] Surface\n",
"g = 9.81;//[m/s^(2)] Accelaration due to gravity\n",
"// At z = z_1, the mole fraction of nitrogen and oxygen are \n",
"y_N2_1 = 0.79;\n",
"y_O2_1 = 0.21;\n",
"M_N2 = 28/1000;//[kg/mol]\n",
"M_O2 = 32/1000;//[kg/mol]\n",
"\n",
"// So\n",
"a = exp(-(M_N2-M_O2)*g*(z_2-z_1)/(R*T));\n",
"// and\n",
"yi2_by_yi1 = 1/(y_N2_1 + y_O2_1/a);\n",
"\n",
"printf(' Concentration of the nitrogen at the top of reactor with respect to the concentration of nitrogen at the bottom of reactor is \n        yi2_by_yi1 = %f',yi2_by_yi1);"
   ]
   }
,
{
		   "cell_type": "markdown",
		   "metadata": {},
		   "source": [
			"## Example 14.4: Centrifuges.sce"
		   ]
		  },
  {
"cell_type": "code",
	   "execution_count": null,
	   "metadata": {
	    "collapsed": true
	   },
	   "outputs": [],
"source": [
"clear;\n",
"//clc();\n",
"\n",
"// Example 14.4\n",
"// Page: 382\n",
"printf('Example-14.4  Page no.-382\n\n');\n",
"\n",
"//***Data***//\n",
"T = 300;//[K] Temperature of the centrifuge\n",
"R = 8.314;//[J/(mol*K)] Universal gas constant\n",
"// Mole fractions of the two components are \n",
"y_UF6_238_1 = 0.993; // Mole fraction of UF6 with 238 isotope of uranium in feed\n",
"y_UF6_235_1 = 0.007;// Mole fraction of UF6 with 235 isotope of uranium in feed\n",
"M_UF6_238 = 352/1000;//[kg/mol] Molecular weight of UF6 with 238 isotope of uranium\n",
"M_UF6_235 = 349/1000;//[kg/mol] Molecular weight of UF6 with 235 isotope of uranium\n",
"r_in = 2/100;//[m] Interanal raddi of the centrifuge\n",
"r_out = 10/100;//[m] outer raddi of the centrifuge\n",
"f = 800;//[revolution/second] Rotational frequency of centrifuge\n",
"\n",
"// Here the accelaration will come due to centrifugal force and is \n",
"// g = w^(2)*r , where 'w' is angular speed and its value is w = 2*pie*f and 'r' is radius \n",
"// But in the present case 'r' is varies as we move away from the axis of centrifuge\n",
"// After making integration by taking small elements at the distance 'r' we find the expression \n",
"a = exp((M_UF6_235-M_UF6_238)*(2*3.141592*f)^(2)*(r_out^(2)-r_in^(2))/(2*R*T));\n",
"\n",
"// Now Let the ratio y_i_2/y_i_1 = A\n",
"// Then we have \n",
"A = 1/(y_UF6_235_1 + y_UF6_238_1/a);\n",
"\n",
"// Now say y_i_1/y_i_2 = 1/A = B  , then\n",
"B = 1/A;\n",
"\n",
"printf('The ratio of the mole fraction of UF6 (with uranium 235 isotope) at the 2 cm radius to that at the 10 cm radius is %0.3f',B);"
   ]
   }
,
{
		   "cell_type": "markdown",
		   "metadata": {},
		   "source": [
			"## Example 14.5: Osmotic_Pressure.sce"
		   ]
		  },
  {
"cell_type": "code",
	   "execution_count": null,
	   "metadata": {
	    "collapsed": true
	   },
	   "outputs": [],
"source": [
"clear;\n",
"//clc();\n",
"\n",
"// Example 14.5\n",
"// Page: 384\n",
"printf('Example-14.5  Page no.-384\n\n');\n",
"\n",
"//***Data***//\n",
"\n",
"// We have two phase system in this problem in which phase 1 is seawater and phase 2 is fresshwater \n",
"// Seawater contains mostly NaCl, Na2SO4, MgCl2, KCl and if they completly ionised then\n",
"x_water_1 = 0.98;// mole fraction of water in phase 1 i.e. in seawater\n",
"x_water_2 = 1;// mole fraction of water in the phase 2 i.e. in water \n",
"R = 10.73;//[(psi*ft^(3))/(lbmol*R)] Universal gas constant\n",
"T = 500;//[R] temperature\n",
"v_water_1 = 18/62.4//[ft^(3)/(lbmol)]\n",
"\n",
"// The effect of the pressure on the fugacity of the liquid is given as\n",
"// f_i = (x_i*Y_i*p)*exp(integrate(v/(R*T)dP)) with integration limit from pure liquid pressure to solution liquid pressure \n",
"\n",
"// Writing this equation twice, oncce for pure water and once for the water in the ocean water, and equating the fugacities, we get \n",
"// ((x_i*Y_i*p)*exp(integrate(v/(R*T)dP)))_pure_water = ((x_i*Y_i*p)*exp(integrate(v/(R*T)dP)))_seawater\n",
"\n",
"// For pure water, x_i and Y_i are unity, and for the water in the solution, with mole fraction 0.98, Raoult's law is certain to be practically obeyed\n",
"// So that Y_i is certain to be practically unity.\n",
"\n",
"// The partial molal volume of water in pure water is practically the same as that in dilute solutions,\n",
"// Tkaing the logarithm of both sides and solving , we get \n",
"\n",
"// -log(x_water_1) = integrate(v_water_1/(R*T)dP)\n",
"// Integrating with the limit P_purewater and P_seawater we have\n",
"// -log(x_water_1) = (v_water_1/(R*T))*( P_seawater - P_purewater )\n",
"// ( P_seawater - P_purewater ) = delta_P\n",
"// So \n",
"delta_P = (-(R*T)*log(x_water_1))/v_water_1;//[psi]\n",
"printf('The pressure difference between the two phases is %0.1f psi',delta_P)"
   ]
   }
,
{
		   "cell_type": "markdown",
		   "metadata": {},
		   "source": [
			"## Example 14.6: Pressure_difference_across_a_droplet.sce"
		   ]
		  },
  {
"cell_type": "code",
	   "execution_count": null,
	   "metadata": {
	    "collapsed": true
	   },
	   "outputs": [],
"source": [
"clear;\n",
"//clc();\n",
"\n",
"// Example 14.6\n",
"// Page: 386\n",
"printf('Example-14.6  Page no.-386\n\n');\n",
"\n",
"//***Data***//\n",
"T = 100;//[C] Temperature of the outside\n",
"P_outside = 1;//[atm]\n",
"// At 100 C, the surface tension between steam and water is \n",
"T = 0.05892;//[N/m] From metric steam table (7, page 267)\n",
"\n",
"// Pressure difference between inside and outside of a drop is given by the expression \n",
"// (P_inside - P_outside) = (4*T)/d_i\n",
"\n",
"// Let (P_inside - P_outside) = delta_P , so\n",
"//delta_P = (4*T)/d_i\n",
"// For the drop of diameter\n",
"d_1 = 0.001;//[m]\n",
"// So \n",
"delta_P_1 = (4*T)/d_1;//[Pa]\n",
"\n",
"// Which is certainly negligible \n",
"// If we reduce the diameter to \n",
"d_2 = 10^(-6);//[m]\n",
"\n",
"// So \n",
"delta_P_2 = (4*T)/d_2;//[Pa]\n",
"\n",
"// If we reduce it to diameter that is smallest sized drop likely to exist \n",
"d_3 = 0.01*10^(-6)//[m]\n",
"// Then the calculated pressure difference is \n",
"delta_P_3 = (4*T)/d_3;//[Pa]\n",
"\n",
"printf('Pressure difference with the change in radius of the drop of the water is given as in the following table\n\n');\n",
"printf('            Diameter of the droplet (d_i)(in meter)                   Pressure difference ( P_inside - P_outside )(in atm)\n');\n",
"printf('                     %0.2e                                                     %0.2e\n',d_1,delta_P_1); \n",
"printf('                     %0.2e                                                     %0.2e\n',d_2,delta_P_2); \n",
"printf('                     %0.2e                                                     %0.2e\n',d_3,delta_P_3); "
   ]
   }
,
{
		   "cell_type": "markdown",
		   "metadata": {},
		   "source": [
			"## Example 14.7: Equilibrium_with_surface_tension.sce"
		   ]
		  },
  {
"cell_type": "code",
	   "execution_count": null,
	   "metadata": {
	    "collapsed": true
	   },
	   "outputs": [],
"source": [
"clear;\n",
"//clc();\n",
"\n",
"// Example 14.7\n",
"// Page: 387\n",
"printf('Example-14.7  Page no.-387\n\n');\n",
"\n",
"//***Data***//\n",
"P_NBP = 1;//[atm]\n",
"Temp =273.15+100;//[C] Temperature\n",
"D = 0.01*10^(-6);//[m] Diameter of the condensation nuclei( due to impurity )\n",
"T = 0.05892;//[N/m] Surface tension between water drops and gas\n",
"R = 8.314;//[J/(mol*K)]\n",
"\n",
"// At equilibrium the Gibb's free energy per pound will be the same inside and outside the drops.\n",
"// From the previous example 14.6, the pressure difference inside and outside of the drop is \n",
"// delta_P = ( P_inside-P_outside) = 4*T/D = 233 atm = 235.7 bar\n",
"\n",
"// Taking the Gibb's free energy at the normal boiling point as g_NBP we have \n",
"// g_small_drop_equilibrium = g_NBP + integrate(v_water_gas)dP  , with integration limits P_NBP and P_gas\n",
"// also\n",
"// g_small_drop_equilibrium = g_NBP + integrate(v_water_liquid)dP  , with integration limits P_NBP and (P_gas + 4*T/D)\n",
"// and\n",
"v_water_liquid = 1/958.39*0.018;//[m^(3)/mol]\n",
"\n",
"// If we assume that the specific volume of the liquid is a constant,and independent of pressure, and that the volume of the vapour is given by the gas law\n",
"// then we can perform the integrations and cancel the g_NBP terms, finding the Kelvin equation \n",
"\n",
"// (R*Temp)*log(P_gas/P_NBP) = v_water_liquid*(P_gas + 4*T/D - P_NBP)\n",
"// For very small drops \n",
"// (P_gas - P_NBP) << 4*T/D\n",
"// So that we can write it approximately as \n",
"\n",
"// P_gas/P_NBP = exp(v_water_liquid*(4*T/D)/(R*Temp)) = I\n",
"// so\n",
"I = exp(v_water_liquid*(4*T/D)/(R*Temp));\n",
"\n",
"// Substracting 1 from both sides in the above equation we have \n",
"// (P_gas-P_NBP)/P_NBP = I-1\n",
"// So \n",
"P_gas_minus_P_NBP = (I-1)*P_NBP;//[atm]\n",
"// Changing into the bar we have \n",
"delta_P = P_gas_minus_P_NBP*1.01325;//[bar]\n",
"\n",
"// Now changing the unit to psi we have \n",
"delta_P_1 = delta_P*100*0.1450377;//[psi]\n",
"\n",
"printf('The equilibrium pressure at which the steam begin to condence at this temperature on the nuclei is %f psi above the normal boiling point.',delta_P_1);\n",
""
   ]
   }
,
{
		   "cell_type": "markdown",
		   "metadata": {},
		   "source": [
			"## Example 14.8: Equilibrium_with_surface_tension.sce"
		   ]
		  },
  {
"cell_type": "code",
	   "execution_count": null,
	   "metadata": {
	    "collapsed": true
	   },
	   "outputs": [],
"source": [
"clear;\n",
"//clc();\n",
"\n",
"// Example 14.8\n",
"// Page: 388\n",
"printf('Example-14.8  Page no.-388\n\n');\n",
"\n",
"//***Data***//\n",
"Temp = 273.15+100;//[K] Temperature of the water drop\n",
"R = 8.314;//[J/(mol*K)] Universal gas constant\n",
"D = 0.01*10^(-6);//[m] Diameter of the water drop\n",
"P_g = 0.15;//[bar] guage pressure\n",
"T = 0.05892;//[N/m] Surface tension between water drop and gas\n",
"\n",
"// The calculation of the pressure difference from inside to outside is the same as done in the example 14.7\n",
"\n",
"// The specific Gibb's free energy of the liquid is thus given as\n",
"// (g_water_liquid - g_NBP) = integrate(v_water_liquid)dP  , with integration limits P_NBP and (P_gas + 4*T/D)\n",
"// Where \n",
"v_water_liquid = 0.018/958.39;//[m^(3)/mol]\n",
"P_NBP = 1.013;//[bar]\n",
"P_gas = 1.013+0.15;//[bar]\n",
"\n",
"// Say\n",
"P_1 = P_gas + 4*T/D;//[bar]\n",
"// and (g_water_liquid - g_NBP) = delta_g_1\n",
"// So\n",
"delta_g_1 = integrate('v_water_liquid*P^(0)','P',P_NBP,P_1);//[J/mol]\n",
"\n",
"// and for the gas, again using equation for Gibb's free energy, we have \n",
"// (g_water_liquid- g_NBP) = integrate(v_water_gas)dP  , with integration limits P_NBP and P_gas\n",
"// Here assuming that the vapour follows the ideal gas law we have \n",
"// v_water_gas = (R*Temp/P)\n",
"// and also let (g_water_liquid- g_NBP) = delta_g_2\n",
"// so\n",
"delta_g_2 = integrate('(R*Temp)/P','P',P_NBP,P_gas);\n",
"\n",
"// Now \n",
"// (g_water_liquid - g_water_gas) = (g_water_liquid - g_NBP)-(g_water_gas - g_NBP) = delta_g\n",
"// So\n",
"delta_g = (delta_g_1 - delta_g_2); \n",
"\n",
"// We have got the value of the delta_g positive, so\n",
"\n",
"printf('The liquid can lower its free energy %0.2f J/mol by Changing to gas,\n',delta_g);\n",
"printf('So that even at 0.15 bar above the normal boiling point, a drop of this small size is unstable and will quickly evaporate.');"
   ]
   }
,
{
		   "cell_type": "markdown",
		   "metadata": {},
		   "source": [
			"## Example 14.9: Equilibrium_with_surface_tension.sce"
		   ]
		  },
  {
"cell_type": "code",
	   "execution_count": null,
	   "metadata": {
	    "collapsed": true
	   },
	   "outputs": [],
"source": [
"clear;\n",
"//clc();\n",
"\n",
"// Example 14.9\n",
"// Page: 390\n",
"printf('Example-14.9  Page no.-390\n\n');\n",
"\n",
"//***Data***//\n",
"Temp = 904.7;//[R] Temperature of the pure liquid water \n",
"P_NBP = 400;//[psia] Saturation pressure of the pure liquid water at the given temperature\n",
"T = 1.76*10^(-4);//[lbf/inch] Surface tension of water\n",
"R = 10.73;//[(psi*ft^(3))/(lbmol*R)]\n",
"\n",
"// In this problem the gas is inside the bubble, at a pressure much higher than that of the sorrounding liquid.\n",
"// The criterion of equilibrium is that the Gibb's free energy of the gas inside the bubble must be the same as that of the liquid outside the bubble.\n",
"// Thus we have \n",
"// g_small_drop_equilibrium = g_NBP + integrate(v_water_liquid)dP  , with integration limits P_NBP and P_liquid\n",
"// also\n",
"// g_small_drop_equilibrium = g_NBP + integrate(v_water_gas)dP  , with integration limits P_NBP and (P_liquid+4*T/D)\n",
"// where\n",
"v_water_liquid = 18*0.01934;//[ft^(3)/lbmol]\n",
"D = 10^(-5);//[inch]\n",
"\n",
"// so \n",
"// g_NBP + integrate(v_water_liquid)dP = g_NBP + integrate(v_water_gas)dP\n",
"\n",
"// Here we assume that the liquid has practically constant density and that the gas behaves as an ideal gas and find \n",
"// (R*Temp)*log((P_liquid+4*T/D)/P_NBP) = v_water_liquid*(P_liquid - P_NBP)\n",
"// let P_liquid = p\n",
"\n",
"// We will solve the above equation for p\n",
"deff('[y]=f(p)','y = v_water_liquid*(p - P_NBP)-(R*Temp)*log((p+4*T/D)/P_NBP)');\n",
"P_liquid = fsolve(300,f);//[psia]\n",
"\n",
"// At this external pressure the pressure inside the bubble is \n",
"P_inside = P_liquid + 4*T/D;//[psia]\n",
"\n",
"printf('The liquid pressure at which these boiling nuclei will begin to grow and intiate boiling is %0.1f psia\n',P_liquid);\n",
"printf('At this external pressure the pressure inside the bubble is %0.1f psia',P_inside);"
   ]
   }
],
"metadata": {
		  "kernelspec": {
		   "display_name": "Scilab",
		   "language": "scilab",
		   "name": "scilab"
		  },
		  "language_info": {
		   "file_extension": ".sce",
		   "help_links": [
			{
			 "text": "MetaKernel Magics",
			 "url": "https://github.com/calysto/metakernel/blob/master/metakernel/magics/README.md"
			}
		   ],
		   "mimetype": "text/x-octave",
		   "name": "scilab",
		   "version": "0.7.1"
		  }
		 },
		 "nbformat": 4,
		 "nbformat_minor": 0
}
