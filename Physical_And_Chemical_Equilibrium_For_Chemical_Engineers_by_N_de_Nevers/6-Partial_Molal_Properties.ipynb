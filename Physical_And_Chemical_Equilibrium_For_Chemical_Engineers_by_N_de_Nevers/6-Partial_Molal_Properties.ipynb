{
"cells": [
 {
		   "cell_type": "markdown",
	   "metadata": {},
	   "source": [
       "# Chapter 6: Partial Molal Properties"
	   ]
	},
{
		   "cell_type": "markdown",
		   "metadata": {},
		   "source": [
			"## Example 6.10: Integral_Heat_of_Mixing.sce"
		   ]
		  },
  {
"cell_type": "code",
	   "execution_count": null,
	   "metadata": {
	    "collapsed": true
	   },
	   "outputs": [],
"source": [
"clear;\n",
"//clc();\n",
"\n",
"// Example 6.10\n",
"// Page: 120\n",
"printf('Example-6.10  Page no.-120\n\n');\n",
"\n",
"//***Data***//\n",
"x_sulph = 0.6;\n",
"x_water = 0.4;\n",
"Temp = 200;//[F]\n",
"// At the 200F we have\n",
"h_water = 25;//[Btu/lbm]\n",
"h_sulph = -100;//[Btu/lbm]\n",
"// From equation 6.16 (as reporated in the book), rewritten for masses instead of moles we have \n",
"h_solution = h_water*x_water+h_sulph*x_sulph;// [Btu/lbm]\n",
"printf('Enthalpy of the solution is %f Btu/lbm',h_solution);"
   ]
   }
,
{
		   "cell_type": "markdown",
		   "metadata": {},
		   "source": [
			"## Example 6.11: Application_of_Gibbs_Duhem_equation.sce"
		   ]
		  },
  {
"cell_type": "code",
	   "execution_count": null,
	   "metadata": {
	    "collapsed": true
	   },
	   "outputs": [],
"source": [
"clear;\n",
"//clc();\n",
"\n",
"// Example 6.11\n",
"// Page: 121\n",
"printf('Example-6.11  Page no.-121\n\n');\n",
"\n",
"//***Data***//\n",
"x_b = 0;\n",
"x_a = 1;\n",
"// We have\n",
"//dv_a/dx_a = 3*x_b^(2)+2*x_b\n",
"// We have the equation \n",
"// dv_b/dx_a = -(dv_a/dx_a)/(x_b/x_a)\n",
"// So\n",
"// dv_b/dx_a = -(x_a/x_b)*(3*x_b^(2)+2*x_b) \n",
"dv_b_by_dx_a = x_a*(-3*x_b-2);\n",
"printf('Value of the dv_b/dx_a at x_b =0 is %0.0f',dv_b_by_dx_a);"
   ]
   }
,
{
		   "cell_type": "markdown",
		   "metadata": {},
		   "source": [
			"## Example 6.12: Application_of_the_gibbs_Duhem_equation.sce"
		   ]
		  },
  {
"cell_type": "code",
	   "execution_count": null,
	   "metadata": {
	    "collapsed": true
	   },
	   "outputs": [],
"source": [
"clear;\n",
"//clc();\n",
"\n",
"// Example 6.12\n",
"// Page: 122\n",
"printf('Example-6.12  Page no.-122\n\n');\n",
"\n",
"//***Data***//\n",
"x_b = 0;\n",
"x_a = 1;\n",
"// We have\n",
"//dv_a/dx_a = 3*x_b^(2)+2*x_b+1\n",
"// We have the equation \n",
"// dv_b/dx_a = -(dv_a/dx_a)/(x_b/x_a)\n",
"// So\n",
"// dv_b/dx_a = -(x_a/x_b)*(3*x_b^(2)+2*x_b+1) \n",
"//dv_b_by_dx_a = -x_a*(3*x_b+2+1)/x_b;\n",
"printf('Value of the dv_b/dx_a at x_b = 0 is minus infinity');"
   ]
   }
,
{
		   "cell_type": "markdown",
		   "metadata": {},
		   "source": [
			"## Example 6.1: Tagent_Slopes.sce"
		   ]
		  },
  {
"cell_type": "code",
	   "execution_count": null,
	   "metadata": {
	    "collapsed": true
	   },
	   "outputs": [],
"source": [
"clear;\n",
"//clc();\n",
"\n",
"// Example 6.1\n",
"// Page: 108\n",
"printf('Example-6.1  Page no.-108\n\n');\n",
"\n",
"//***Data***//\n",
"T = 20;//[C]\n",
"m_1 = 0;//[molal]\n",
"m_2 = 1;//[molal]\n",
"// The data given in the figure 6.2 , as reported in book, can be repersented with excellent accuracy by a simple data fitting equation\n",
"//V = 1.0019+0.054668*m-0.000418*m^(2);\n",
"// Where 'V' is( solution volume, liters per 1000g of water ) and 'm' is the molality of ethanol in water\n",
"//The partial molal volume is obtained by differentiating the expression of the 'V' with respect to 'm'\n",
"// v_ethanol = dV/dm = 0.054668-2*0.000418*m\n",
"// So that at zero molality \n",
"m = 0;//[molal]\n",
"// the partial molal volume is \n",
"v_1 = 0.054668-2*0.000418*m;//[L/mol]\n",
"// and at\n",
"m = 1;//[molal]\n",
"v_2 = 0.054668-2*0.000418*m;//[L/mol]\n",
"v_1 = v_1*1000;//[cm^(3)/mol]\n",
"v_2 = v_2*1000;//[cm^(3)/mol]\n",
"printf('Partial molal volume of ethanol in water at zero molality is  %f cm^(3)/mol\n',v_1);\n",
"printf(' Partial molal volume of ethanol in water at unity molality is %f cm^(3)/mol',v_2);"
   ]
   }
,
{
		   "cell_type": "markdown",
		   "metadata": {},
		   "source": [
			"## Example 6.2: Volume_Change_on_Mixing.sce"
		   ]
		  },
  {
"cell_type": "code",
	   "execution_count": null,
	   "metadata": {
	    "collapsed": true
	   },
	   "outputs": [],
"source": [
"clear;\n",
"//clc();\n",
"\n",
"// Example 6.2\n",
"// Page: 109\n",
"printf('Example-6.2  Page no.-109\n\n');\n",
"\n",
"//***Data***//\n",
"n_eth = 1;//[mol]\n",
"W_water = 1;//[kg]\n",
"Temp = 20;//[C]\n",
"// For pure ethanol at 20C\n",
"v_ethanol = 58.4;//[cm^(3)/mol]\n",
"v_ethanol = v_ethanol/1000;//[L/mol]\n",
"v_water = 1.0019;//[L/1000g]\n",
"// Molality of ethanol in water is\n",
"m = n_eth/W_water;//[molal]\n",
"// We have the equation used in the previous example as\n",
"V_final_mix = 1.0019+0.054668*m-0.000418*m^(2);\n",
"// Where 'V' is( solution volume, liters per 1000g of water ) and 'm' is the molality of ethanol in water\n",
"// V is the final volume of the solution \n",
"// The volume expansion on moxing is \n",
"V_exp = V_final_mix-v_ethanol-v_water;//[L]\n",
"V_exp = V_exp*1000;//[cm^(3)]\n",
"printf('Volume change on mixing etanol and water is %0.3f cubic cm',V_exp);\n",
"// We see that there is a net contraction on mixing of the volume of the ethanol added.\n",
""
   ]
   }
,
{
		   "cell_type": "markdown",
		   "metadata": {},
		   "source": [
			"## Example 6.3: Volume_change_on_mixing.sce"
		   ]
		  },
  {
"cell_type": "code",
	   "execution_count": null,
	   "metadata": {
	    "collapsed": true
	   },
	   "outputs": [],
"source": [
"clear;\n",
"//clc();\n",
"\n",
"// Example 6.3\n",
"// Page: 109\n",
"printf('Example-6.3  Page no.-109\n\n');\n",
"\n",
"//***Data***//\n",
"// All the data are same as in the previous example \n",
"// The equation 6.5 reported in the book is \n",
"// delta_V_mixing = V_solution _final-V_(solution and material to be mixaed) = integrate(v_i-v_i_0)dn\n",
"// Here the integrated average value of v_i over the molality range from 0 to 1 is\n",
"v_i_average = 0.05425;//[L/mol]\n",
"// and\n",
"v_i_0 = 0.0584;//[L/mol]\n",
"delta_n = 1.00;//[mol]\n",
"delta_V_mixing = (v_i_average-v_i_0)*delta_n;//[L]\n",
"delta_V_mixing = delta_V_mixing*1000;//[cm^(3)]\n",
"printf('Volume change on mixing etanol and water is %f cm^(3)',delta_V_mixing);\n",
"// Which is same as the solution in example 6.2"
   ]
   }
,
{
		   "cell_type": "markdown",
		   "metadata": {},
		   "source": [
			"## Example 6.4: Tangent_Intercept_Concept.sce"
		   ]
		  },
  {
"cell_type": "code",
	   "execution_count": null,
	   "metadata": {
	    "collapsed": true
	   },
	   "outputs": [],
"source": [
"clear;\n",
"//clc();\n",
"\n",
"// Example 6.4\n",
"// Page: 113\n",
"printf('Example-6.4  Page no.-113\n\n');\n",
"\n",
"//***Data***//\n",
"m = 1;//[molal] Molality of the solution with respect to ethanol\n",
"M_water = 18;//[g/mol] molecular weight of water\n",
"\n",
"// First we convert molality to mole fraction\n",
"x_ethanol = m/(m + 1000/M_water);\n",
"\n",
"// For the low range of data point on figure 6.5(page 112), we can fit an equation\n",
"// (Specific volume ) = 0.018032 + 0.037002*x_ethanol - 0.039593*x_ethanol^(2) + 0.21787*x_ethanol^(3)\n",
"// This is applicable for (0 < x_ethanol < 0.04 ), which is the case we have\n",
"\n",
"// So\n",
"v_tan = 0.018032 + 0.037002*x_ethanol - 0.039593*x_ethanol^(2) + 0.21787*x_ethanol^(3);//[L/mol]\n",
"\n",
"// Now we will find the derivative of the specific volume with respect to x_ethanol at the known point x_ethanol\n",
"// (dv/dx_ethanol) =  0.037002 - 2*0.039593*x_ethanol + 3*0.21787*x_ethanol^(2)\n",
"// Hence\n",
"v_derv_tan = 0.037002 - 2*0.039593*x_ethanol + 3*0.21787*x_ethanol^(2);//[L/mol]\n",
"\n",
"// By simple geometry from the figure 6.6(page 113) of the book we find\n",
"// a = v_tan + (1-x_tan)*(dv/dx_1)_tan\n",
"// b = v_tan - x_tan*(dv/dx_1)_tan\n",
"\n",
"// We have a = v_ethanol and b = v_water\n",
"x_tan = x_ethanol;\n",
"// So\n",
"v_ethanol = v_tan + (1-x_tan)*(v_derv_tan);//[L/mol]\n",
"v_water = v_tan - x_tan*(v_derv_tan);//[L/mol]\n",
"\n",
"printf(' Partial molar volume of the ethanol in the given solution is %f L/mol\n',v_ethanol);\n",
"printf(' Partial molar volume of the water in the given solution is %f L/mol',v_water);\n",
"\n",
"\n",
"\n",
""
   ]
   }
,
{
		   "cell_type": "markdown",
		   "metadata": {},
		   "source": [
			"## Example 6.5: Tangent_Intercept_concept.sce"
		   ]
		  },
  {
"cell_type": "code",
	   "execution_count": null,
	   "metadata": {
	    "collapsed": true
	   },
	   "outputs": [],
"source": [
"clear;\n",
"//clc();\n",
"\n",
"// Example 6.5\n",
"// Page: 115\n",
"printf('Example-6.5  Page no.-115\n\n');\n",
"\n",
"//***Data***//\n",
"printf('This is a theoratical question and there are no any numerical components. For the derivation, refer to page no 115 of the book.');"
   ]
   }
,
{
		   "cell_type": "markdown",
		   "metadata": {},
		   "source": [
			"## Example 6.6: Idea_of_Tangent_Intercept.sce"
		   ]
		  },
  {
"cell_type": "code",
	   "execution_count": null,
	   "metadata": {
	    "collapsed": true
	   },
	   "outputs": [],
"source": [
"clear;\n",
"//clc();\n",
"\n",
"// Example 6.6\n",
"// Page: 115\n",
"printf('Example-6.6  Page no.-115\n\n');\n",
"\n",
"//***Data***//\n",
"printf('This is a theoratical question and there are no any numerical components. Refer to page no 115 of the book.');"
   ]
   }
,
{
		   "cell_type": "markdown",
		   "metadata": {},
		   "source": [
			"## Example 6.7: Partial_Mass_Properties.sce"
		   ]
		  },
  {
"cell_type": "code",
	   "execution_count": null,
	   "metadata": {
	    "collapsed": true
	   },
	   "outputs": [],
"source": [
"clear;\n",
"//clc();\n",
"\n",
"// Example 6.7\n",
"// Page: 117\n",
"printf('Example-6.7  Page no.-117\n\n');\n",
"\n",
"//***Data***//\n",
"x_sulph = 0.6;\n",
"x_water = 0.4;\n",
"Temp = 200;//[F]\n",
"// In the given figure 6.8 in the book, drawing the tangent to the 200F curve at 60 wt% H2SO4, we find that it intersects the 0%(pure water) axis at      25 Btu/lbm, and the 100% H2SO4 axis at -100Btu/lbm. i.e.\n",
"h_water_per_pound = 25;//[Btu/lbm]\n",
"h_sulph_per_pound = -100;//[Btu/lbm]\n",
"// also molecular weight of water and sulphuric acid are\n",
"M_water = 18;//[lbm/lbmol]\n",
"M_sulph = 98;//[lbm/lbmol]\n",
"// Using equation 6.20 given in the book we have\n",
"h_water = h_water_per_pound*M_water;//[Btu/lbmol]\n",
"h_sulph = h_sulph_per_pound*M_sulph;//[Btu/lbmol]\n",
"printf('Partial molar enthalpy of water in the mixture is  %f Btu/lbmol\n',h_water);\n",
"printf(' Partial molar enthalpy of H2SO4 in the mixture is %f Btu/lbmol',h_sulph);"
   ]
   }
,
{
		   "cell_type": "markdown",
		   "metadata": {},
		   "source": [
			"## Example 6.8: Differential_Heat_of_Mixing.sce"
		   ]
		  },
  {
"cell_type": "code",
	   "execution_count": null,
	   "metadata": {
	    "collapsed": true
	   },
	   "outputs": [],
"source": [
"clear;\n",
"//clc();\n",
"\n",
"// Example 6.8\n",
"// Page: 119\n",
"printf('Example-6.8  Page no.-119\n\n');\n",
"\n",
"//***Data***//\n",
"x_sulph = 0.6;\n",
"x_water = 0.4;\n",
"M_i = 18;//[lbm/lbmol]\n",
"Temp = 200;//[F]\n",
"// From Equation 6.11 as given in the book, we have \n",
"// dQ/dm_in = h_i-h_in\n",
"// where h_i is partial molal enthalpy which is taken from the example 6.7 and h_in is the pure species molar enthalpy which is read from the figure 6.8.\n",
"// So at 200F we have \n",
"h_i = 25;//[Btu/lbm]\n",
"h_in = 168;//[Btu/lbm]\n",
"// hence\n",
"dQ_by_dm_in = h_i-h_in;;//[Btu/lbm]\n",
"// Now \n",
"dQ_by_dn_in = M_i*dQ_by_dm_in;//[Btu/lbmol]\n",
"printf('The amount of heat removed to keep the temperature constant is %f Btu/lbm of water added',dQ_by_dm_in);\n",
"// The negative sign shows that this mixing is exothermic; we must remove 143 Btu/lbm of water added."
   ]
   }
,
{
		   "cell_type": "markdown",
		   "metadata": {},
		   "source": [
			"## Example 6.9: Integral_Heat_of_Mixing.sce"
		   ]
		  },
  {
"cell_type": "code",
	   "execution_count": null,
	   "metadata": {
	    "collapsed": true
	   },
	   "outputs": [],
"source": [
"clear;\n",
"//clc();\n",
"\n",
"// Example 6.9\n",
"// Page: 119\n",
"printf('Example-6.9  Page no.-119\n\n');\n",
"\n",
"//***Data***//\n",
"m_sulph = 0.6;\n",
"m_water = 0.4;\n",
"m = m_sulph+m_water;\n",
"Temp = 200;//[F]\n",
"// Here at 200F we can read the solution enthalpy h_solution and pure H2SO4 enthalpy h_sulph such that\n",
"h_solution = -50;//[Btu/lbm]\n",
"h_sulph = 53;//[Btu/lbm]\n",
"// By energy balance, using h_0_water from example 6.7 in the book i.e.\n",
"h_0_water = 168;//[Btu/lbm]\n",
"// We find \n",
"delta_Q = m*h_solution-(m_sulph*h_sulph+m_water*h_0_water);//[Btu]\n",
"printf('The amount of heat added or removed is %f Btu\n\n',delta_Q);\n",
"// We must remove the given amount of to hold the temperature constant.\n",
"printf('However the book has some mistake in calculation and reporting -172 Btu')"
   ]
   }
],
"metadata": {
		  "kernelspec": {
		   "display_name": "Scilab",
		   "language": "scilab",
		   "name": "scilab"
		  },
		  "language_info": {
		   "file_extension": ".sce",
		   "help_links": [
			{
			 "text": "MetaKernel Magics",
			 "url": "https://github.com/calysto/metakernel/blob/master/metakernel/magics/README.md"
			}
		   ],
		   "mimetype": "text/x-octave",
		   "name": "scilab",
		   "version": "0.7.1"
		  }
		 },
		 "nbformat": 4,
		 "nbformat_minor": 0
}
