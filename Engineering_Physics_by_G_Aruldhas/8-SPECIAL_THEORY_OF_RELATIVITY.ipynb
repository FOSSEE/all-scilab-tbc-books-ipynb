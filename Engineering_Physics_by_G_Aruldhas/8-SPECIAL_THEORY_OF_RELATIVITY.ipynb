{
"cells": [
 {
		   "cell_type": "markdown",
	   "metadata": {},
	   "source": [
       "# Chapter 8: SPECIAL THEORY OF RELATIVITY"
	   ]
	},
{
		   "cell_type": "markdown",
		   "metadata": {},
		   "source": [
			"## Example 8.10: Rate_of_decreasing_mass_of_sun.sci"
		   ]
		  },
  {
"cell_type": "code",
	   "execution_count": null,
	   "metadata": {
	    "collapsed": true
	   },
	   "outputs": [],
"source": [
"// Scilab Code Ex8.10: Page-175 (2010)\n",
"c = 3e+008;    // Speed of light in vacuum, m/s\n",
"dE = 4e+026;    // Energy radiated per second my the sun, J/s\n",
"dm = dE/c^2;    // Rate of decrease of mass of sun, kg/s\n",
"printf('\nThe rate of decrease of mass of sun = %4.2e kg/s', dm);\n",
"\n",
"// Result\n",
"// The rate of decrease of mass of sun = 4.44e+009 kg/s"
   ]
   }
,
{
		   "cell_type": "markdown",
		   "metadata": {},
		   "source": [
			"## Example 8.11: Relativistic_mass_energy_relation.sci"
		   ]
		  },
  {
"cell_type": "code",
	   "execution_count": null,
	   "metadata": {
	    "collapsed": true
	   },
	   "outputs": [],
"source": [
"// Scilab Code Ex8.11: Page-175 (2010)\n",
"c = 1;    // For simplicity assume speed of light to be unity, m/s\n",
"m0 = 9.1e-031;  // Mass of the electron, kg\n",
"E0 = 0.512;    // Rest energy of electron, MeV\n",
"T = 10;    // Kinetic energy of electron, MeV\n",
"E = T + E0;    // Total energy of electron, MeV\n",
"// From Relativistic mass-energy relation\n",
"// E^2 = c^2*p^2 + m0^2*c^4, solving for p\n",
"p = sqrt(E^2-m0^2*c^4)/c;    // Momentum of the electron, MeV\n",
"// As E = E0/sqrt(1-(u/c)^2), solving for u\n",
"u = sqrt(1-(E0/E)^2)*c;    // Velocity of the electron, m/s\n",
"printf('\nThe momentum of the electron = %4.1f/c MeV', p);\n",
"printf('\nThe velocity of the electron = %6.4fc', u);\n",
"\n",
"// Result\n",
"// The momentum of the electron = 10.5/c MeV\n",
"// The velocity of the electron = 0.9988c "
   ]
   }
,
{
		   "cell_type": "markdown",
		   "metadata": {},
		   "source": [
			"## Example 8.13: Mass_from_relativistic_energy.sci"
		   ]
		  },
  {
"cell_type": "code",
	   "execution_count": null,
	   "metadata": {
	    "collapsed": true
	   },
	   "outputs": [],
"source": [
"// Scilab Code Ex8.13: Page-176 (2010)\n",
"c = 3e+008;    // Speed of light in vacuum, m/s\n",
"E = 4.5e+017;    // Total energy of object, J\n",
"px = 3.8e+008;    // X-component of momentum, kg-m/s\n",
"py = 3e+008;    // Y-component of momentum, kg-m/s\n",
"pz = 3e+008;    // Z-component of momentum, kg-m/s\n",
"p = sqrt(px^2+py^2+px^2);    // Total momentum of the object, kg-m/s\n",
"// From Relativistic mass-energy relation\n",
"// E^2 = c^2*p^2 + m0^2*c^4, solving for m0\n",
"m0 = sqrt(E^2/c^4 - p^2/c^2);    // Rest mass of the body, kg\n",
"printf('\nThe rest mass of the body = %4.2f kg', m0);\n",
"\n",
"// Result\n",
"// The rest mass of the body = 4.56 kg "
   ]
   }
,
{
		   "cell_type": "markdown",
		   "metadata": {},
		   "source": [
			"## Example 8.14: Relativistic_momentum_of_high_speed_probe.sci"
		   ]
		  },
  {
"cell_type": "code",
	   "execution_count": null,
	   "metadata": {
	    "collapsed": true
	   },
	   "outputs": [],
"source": [
"// Scilab Code Ex8.14: Page-176 (2010)\n",
"c = 3e+008;    // Speed of light in vacuum, m/s\n",
"m = 50000;    // Mass of high speed probe, kg\n",
"u = 0.8*c;    // Speed of the probe, m/s\n",
"p = m*u/sqrt(1-(u/c)^2);    // Momentum of the probe, kg-m/s\n",
"printf('\nThe momentum of the high speed probe = %1g kg-m/s', p);\n",
"\n",
"// Result\n",
"// The momentum of the high speed probe = 2e+013 kg-m/s "
   ]
   }
,
{
		   "cell_type": "markdown",
		   "metadata": {},
		   "source": [
			"## Example 8.15: Moving_electron_subjected_to_the_electric_field.sci"
		   ]
		  },
  {
"cell_type": "code",
	   "execution_count": null,
	   "metadata": {
	    "collapsed": true
	   },
	   "outputs": [],
"source": [
"// Scilab Code Ex8.15: Page-177 (2010)\n",
"e = 1.6e-019;    // Electronic charge, C = Energy equivalent of 1 eV, J/eV\n",
"m0 = 9.11e-031;    // Rest mass of electron, kg\n",
"c = 3e+008;    // Speed of light in vacuum, m/s\n",
"u1 = 0.98*c;    // Inital speed of electron, m/s\n",
"u2 = 0.99*c;    // Final speed of electron, m/s\n",
"m1 = m0/sqrt(1-(u1/c)^2);    // Initial relativistic mass of electron, kg\n",
"m2 = m0/sqrt(1-(u2/c)^2);    // Final relativistic mass of electron, kg\n",
"dm = m2 - m1;    // Change in relativistic mass of the electron, kg\n",
"W = dm*c^2;    // Work done on the electron to change its velocity, J\n",
"// As W = eV, V = accelerating potential, solving for V\n",
"V = W/e;    // Accelerating potential, volt\n",
"printf('\nThe change in relativistic mass of the electron = %4.1e kg', dm);\n",
"printf('\nThe work done on the electron to change its velocity = %4.2f MeV', W/(e*1e+006));\n",
"printf('\nThe accelerating potential = %4.2e volt', V);\n",
"\n",
"// Result\n",
"// The change in relativistic mass of the electron = 1.9e-030 kg\n",
"// The work done on the electron to change its velocity = 1.06 MeV\n",
"// The accelerating potential = 1.06e+006 volt"
   ]
   }
,
{
		   "cell_type": "markdown",
		   "metadata": {},
		   "source": [
			"## Example 8.1: Relativistic_length_contraction.sci"
		   ]
		  },
  {
"cell_type": "code",
	   "execution_count": null,
	   "metadata": {
	    "collapsed": true
	   },
	   "outputs": [],
"source": [
"// Scilab Code Ex8.1: Page-171 (2010)\n",
"L_0 = 1;    // For simplicity, we assume classical length to be unity, m\n",
"c = 1;    // For simplicity assume speed of light to be unity, m/s\n",
"L = (1-1/100)*L_0;    // Relativistic length, m\n",
"// Relativistic length contraction gives\n",
"// L = L_0*sqrt(1-v^2/c^2), solving for v\n",
"v = sqrt(1-(L/L_0)^2)*c;    // Speed at which relativistic length is 1 percent of the classical length, m/s\n",
"printf('\nThe speed at which relativistic length is 1 percent of the classical length = %5.3fc', v);\n",
"\n",
"// Result\n",
"// The speed at which relativistic length is 1 percent of the classical length = 0.141c "
   ]
   }
,
{
		   "cell_type": "markdown",
		   "metadata": {},
		   "source": [
			"## Example 8.2: Time_Dilatio.sci"
		   ]
		  },
  {
"cell_type": "code",
	   "execution_count": null,
	   "metadata": {
	    "collapsed": true
	   },
	   "outputs": [],
"source": [
"// Scilab Code Ex8.2: Page-171 (2010)\n",
"c = 1;    // For simplicity assume speed of light to be unity, m/s\n",
"v = 0.9*c;    // Speed at which beam of particles travel, m/s\n",
"delta_t = 5e-006;    // Mean lifetime of particles as observed in the Lab. frame, s\n",
"delta_tau = delta_t*sqrt(1-(v/c)^2);    // Proper lifetime of particle as per Time Dilation rule, s\n",
"printf('\nThe proper lifetime of particle = %4.2e s', delta_tau);\n",
"\n",
"// Result\n",
"// The proper lifetime of particle = 2.18e-006 s\n",
""
   ]
   }
,
{
		   "cell_type": "markdown",
		   "metadata": {},
		   "source": [
			"## Example 8.4: Relativistic_velocity_additio.sci"
		   ]
		  },
  {
"cell_type": "code",
	   "execution_count": null,
	   "metadata": {
	    "collapsed": true
	   },
	   "outputs": [],
"source": [
"// Scilab Code Ex8.4: Page-172 (2010)\n",
"c = 1;    // For simplicity assume speed of light to be unity, m/s\n",
"v = 0.6*c;    // Speed with which the rocket leaves the earth, m/s\n",
"u_prime = 0.9*c;    // Relative speed of second rocket w.r.t. the first rocket, m/s\n",
"u = (u_prime+v)/(1+(u_prime*v)/c^2);    // Speed of second rocket for same direction of firing as per Velocity Addition Rule, m/s\n",
"printf('\nThe speed of second rocket for same direction of firing = %5.3fc', u);\n",
"u = (-u_prime+v)/(1-(u_prime*v)/c^2);    // Speed of second rocket for opposite direction of firing as per Velocity Addition Rule, m/s\n",
"printf('\nThe speed of second rocket for opposite direction of firing = %5.3fc', u);\n",
"\n",
"// Result\n",
"// The speed of second rocket for same direction of firing = 0.974c\n",
"// The speed of second rocket for opposite direction of firing = -0.652c"
   ]
   }
,
{
		   "cell_type": "markdown",
		   "metadata": {},
		   "source": [
			"## Example 8.5: Relativistic_effects_as_observed_for_spaceship.sci"
		   ]
		  },
  {
"cell_type": "code",
	   "execution_count": null,
	   "metadata": {
	    "collapsed": true
	   },
	   "outputs": [],
"source": [
"// Scilab Code Ex8.5: Page-172 (2010)\n",
"c = 1;    // For simplicity assume speed of light to be unity, m/s\n",
"L0 = 1;    // For simplicity assume length in spaceship's frame to be unity, m\n",
"L = 1/2*L0;    // Length as observed on earth, m\n",
"// Relativistic length contraction gives\n",
"// L = L_0*sqrt(1-v^2/c^2), solving for v\n",
"v = sqrt(1-(L/L0)^2)*c;    // Speed at which length of spaceship is observed as half from the earth frame, m/s\n",
"tau = 1;    // Unit time in the spaceship's frame, s\n",
"t = tau/sqrt(1-(v/c)^2);    // Time dilation of the spaceship's unit time, s\n",
"printf('\nThe speed at which length of spaceship is observed as half from the earth frame = %5.3fc', v);\n",
"printf('\nThe time dilation of the spaceship unit time = %1g*tau', t);\n",
"\n",
"// Result\n",
"// The speed at which length of spaceship is observed as half from the earth frame = 0.866c\n",
"// The time dilation of the spaceship unit time = 2*tau"
   ]
   }
,
{
		   "cell_type": "markdown",
		   "metadata": {},
		   "source": [
			"## Example 8.6: Time_difference_and_distance_between_the_events.sci"
		   ]
		  },
  {
"cell_type": "code",
	   "execution_count": null,
	   "metadata": {
	    "collapsed": true
	   },
	   "outputs": [],
"source": [
"// Scilab Code Ex8.6: Page-172 (2010)\n",
"c = 3e+008;    // Speed of light in vacuum, m/s\n",
"v = 0.6*c;    // Velocity with which S2 frame moves relative to S1 frame, m/s\n",
"L_factor = 1/sqrt(1-(v/c)^2);    // Lorentz factor\n",
"t1 = 2e-007;    // Time for which first event occurs, s\n",
"t2 = 3e-007;    // Time for which second event occurs, s\n",
"x1 = 10;    // Position at which first event occurs, m\n",
"x2 = 40;    // Position at which second event occurs, m\n",
"delta_t = L_factor*(t2 - t1)+L_factor*v/c^2*(x1 - x2);    // Time difference between the events, s\n",
"delta_x = L_factor*(x2 - x1)-L_factor*v*(t2 - t1);    // Distance between the events, m\n",
"printf('\nThe time difference between the events = %3.1e s', delta_t);\n",
"printf('\nThe distance between the events = %2d m', delta_x);\n",
"\n",
"// Result\n",
"// The time difference between the events = 5.0e-008 s\n",
"// The distance between the events = 15 m"
   ]
   }
,
{
		   "cell_type": "markdown",
		   "metadata": {},
		   "source": [
			"## Example 8.7: Speed_of_unstable_particle_in_the_Laboratory_frame.sci"
		   ]
		  },
  {
"cell_type": "code",
	   "execution_count": null,
	   "metadata": {
	    "collapsed": true
	   },
	   "outputs": [],
"source": [
"// Scilab Code Ex8.7: Page-173 (2010)\n",
"c = 3e+008;    // Speed of light in vacuum, m/s\n",
"tau = 2.6e-008;    // Mean lifetime the particle in its own frame, s\n",
"d = 20;    // Distance which the unstable particle travels before decaying, m\n",
"// As t = d/v and also t = tau/sqrt(1-(v/c)^2), so that\n",
"// d/v = tau/sqrt(1-(v/c)^2), solving for v\n",
"v = sqrt(d^2/(tau^2+(d/c)^2));    // Speed of the unstable particle in Lab. frame, m/s\n",
"printf('\nThe speed of the unstable particle in Lab. frame = %3.1e m/s', v)\n",
"\n",
"// Result\n",
"// The speed of the unstable particle in Lab. frame = 2.8e+008 m/s"
   ]
   }
,
{
		   "cell_type": "markdown",
		   "metadata": {},
		   "source": [
			"## Example 8.8: Relativistic_effects_applied_to_mu_meso.sci"
		   ]
		  },
  {
"cell_type": "code",
	   "execution_count": null,
	   "metadata": {
	    "collapsed": true
	   },
	   "outputs": [],
"source": [
"// Scilab Code Ex8.8: Page-174 (2010)\n",
"c = 1;    // For simplicity assume speed of light to be unity, m/s\n",
"me = 1;    // For simplicity assume mass of electron to be unity, kg\n",
"tau = 2.3e-006;    // Average lifetime of mu-meson in rest frame, s\n",
"t = 6.9e-006;    // Average lifetime of mu-meson in laboratory frame, s\n",
"// Fromm Time Dilation Rule, tau = t*sqrt(1-(v/c)^2), solving for v\n",
"v = sqrt(1-(tau/t)^2)*c;    // Speed of mu-meson in the laboratory frame, m/s\n",
"c\n",
"m0 = 207*me;    // Rest mass of mu-meson, kg\n",
"m = m0/sqrt(1-(v/c)^2);    // Relativistic variation of mass with velocity, kg\n",
"me = 9.1e-031;    // Mass of an electron, kg\n",
"c = 3e+008;    // Speed of light in vacuum, m/s\n",
"e = 1.6e-019;    // Energy equivalent of 1 eV, J/eV\n",
"T = (m*me*c^2 - m0*me*c^2)/e;    // Kinetic energy of mu-meson, J    \n",
"printf('\nThe speed of mu-meson in the laboratory frame = %6.4fc', v);\n",
"printf('\nThe effective mass of mu-meson = %3d me', m);\n",
"printf('\nThe kinetic energy of mu-meson = %5.1f MeV', T/1e+006);\n",
"\n",
"// Result\n",
"// The speed of mu-meson in the laboratory frame = 0.9428c\n",
"// The effective mass of mu-meson = 620 me\n",
"// The kinetic energy of mu-meson = 211.9 MeV "
   ]
   }
,
{
		   "cell_type": "markdown",
		   "metadata": {},
		   "source": [
			"## Example 8.9: Speed_of_moving_mass.sci"
		   ]
		  },
  {
"cell_type": "code",
	   "execution_count": null,
	   "metadata": {
	    "collapsed": true
	   },
	   "outputs": [],
"source": [
"// Scilab Code Ex8.9: Page-174 (2010)\n",
"c = 1;    // For simplicity assume speed of light to be unity, m/s\n",
"m0 = 1;    // For simplicity assume rest mass to be unity, kg\n",
"m = (20/100+1)*m0;    // Mass in motion, kg\n",
"// As m = m0/sqrt(1-(u/c)^2), solving for u\n",
"u = sqrt(1-(m0/m)^2)*c;    // Speed of moving mass, m/s \n",
"printf('\nThe speed of moving body, u = %5.3fc', u);\n",
"\n",
"// Result\n",
"// The speed of moving body, u = 0.553c "
   ]
   }
],
"metadata": {
		  "kernelspec": {
		   "display_name": "Scilab",
		   "language": "scilab",
		   "name": "scilab"
		  },
		  "language_info": {
		   "file_extension": ".sce",
		   "help_links": [
			{
			 "text": "MetaKernel Magics",
			 "url": "https://github.com/calysto/metakernel/blob/master/metakernel/magics/README.md"
			}
		   ],
		   "mimetype": "text/x-octave",
		   "name": "scilab",
		   "version": "0.7.1"
		  }
		 },
		 "nbformat": 4,
		 "nbformat_minor": 0
}
