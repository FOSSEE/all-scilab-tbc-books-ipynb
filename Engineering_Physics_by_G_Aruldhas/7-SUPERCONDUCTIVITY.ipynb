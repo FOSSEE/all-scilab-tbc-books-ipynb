{
"cells": [
 {
		   "cell_type": "markdown",
	   "metadata": {},
	   "source": [
       "# Chapter 7: SUPERCONDUCTIVITY"
	   ]
	},
{
		   "cell_type": "markdown",
		   "metadata": {},
		   "source": [
			"## Example 7.2: Frequency_of_Josephson_current.sci"
		   ]
		  },
  {
"cell_type": "code",
	   "execution_count": null,
	   "metadata": {
	    "collapsed": true
	   },
	   "outputs": [],
"source": [
"// Scilab Code Ex7.2 : Frequency of Josephson current : Page-152 (2010)\n",
"V = 1e-06;    // DC voltage applied across the Josephson junction, volt\n",
"e = 1.6e-019;    // Charge on an electron, C\n",
"h = 6.626e-034;    // Planck's constant, Js\n",
"f = 2*e*V/h;    // Frequency of Josephson current, Hz\n",
"printf('\nThe frequency of Josephson current = %5.1f MHz', f/1e+06);\n",
"\n",
"// Result \n",
"// The frequency of Josephson current = 482.9 MHz "
   ]
   }
,
{
		   "cell_type": "markdown",
		   "metadata": {},
		   "source": [
			"## Example 7.3: Superconducting_energy_gap_at_0K.sci"
		   ]
		  },
  {
"cell_type": "code",
	   "execution_count": null,
	   "metadata": {
	    "collapsed": true
	   },
	   "outputs": [],
"source": [
"// Scilab Code Ex7.3 : Superconducting energy gap at 0K : Page-152 (2010)\n",
"T_c = 0.517;    // Critical temperature for cadmium, K\n",
"k = 1.38e-023;    // Boltzmann constant, J/K\n",
"e = 1.6e-019;    // Energy equivalent of 1 eV, J/eV\n",
"E_g = 3.5*k*T_c/e;    // Superconducting energy gap at absolute zero, eV\n",
"printf('\nThe superconducting energy gap for Cd at absolute zero = %4.2e eV',E_g);\n",
"\n",
"// Result \n",
"// The superconducting energy gap for Cd at absolute zero = 1.56e-004 eV"
   ]
   }
,
{
		   "cell_type": "markdown",
		   "metadata": {},
		   "source": [
			"## Example 7.4: Wavelength_of_photon_to_break_up_a_Cooper_pair.sci"
		   ]
		  },
  {
"cell_type": "code",
	   "execution_count": null,
	   "metadata": {
	    "collapsed": true
	   },
	   "outputs": [],
"source": [
"// Scilab Code Ex7.4 : Wavelength of photon to break up a Cooper-pair: Page-152 (2010)\n",
"e = 1.6e-019;    // Energy equivalent of 1 eV, J/eV\n",
"c = 3e+08;    // Speed of light in free space, m/s\n",
"h = 6.626e-034;    // Planck's constant, Js\n",
"E_g = 1.5e-004;   // Superconducting energy gap for a material, eV\n",
"// As E_g = h*f = h*c/lambda, solving for lambda\n",
"lambda = h*c/(E_g*e);    // Wavelength of photon to break up a Cooper-pair, m\n",
"printf('\nThe wavelength of photon to break up a Cooper-pair = %4.2e m', lambda);\n",
"\n",
"// Result \n",
"// The wavelength of photon to break up a Cooper-pair = 8.28e-003 m "
   ]
   }
,
{
		   "cell_type": "markdown",
		   "metadata": {},
		   "source": [
			"## Example 7.5: Variation_of_London_penetration_depth_with_temperature.sci"
		   ]
		  },
  {
"cell_type": "code",
	   "execution_count": null,
	   "metadata": {
	    "collapsed": true
	   },
	   "outputs": [],
"source": [
"// Scilab Code Ex7.5: Variation of London penetration depth with temperature: Page-153 (2010)\n",
"lambda_0 = 37e-009;    // Penetration depth of lead at 0 kelvin, m\n",
"T_c = 7.193;    // Critical temperature of superconducting transition for lead, kelvin\n",
"T = 5.2;    // Temperature at which penetration depth for lead becomes lambda_T, kelvin   \n",
"lambda_T = lambda_0*(1-(T/T_c)^4)^(-1/2);    // Penetration depth of lead at 5.2 kelvin, m\n",
"printf('\nThe penetration depth of lead at %3.1f K = %4.1f nm',T, lambda_T/1e-009);\n",
"\n",
"// Result\n",
"// The penetration depth of lead at 5.2 K = 43.4 nm "
   ]
   }
,
{
		   "cell_type": "markdown",
		   "metadata": {},
		   "source": [
			"## Example 7.6: Isotope_Effect_in_mercury.sci"
		   ]
		  },
  {
"cell_type": "code",
	   "execution_count": null,
	   "metadata": {
	    "collapsed": true
	   },
	   "outputs": [],
"source": [
"// Scilab Code Ex7.6: Isotope Effect in mercury: Page-153 (2010)\n",
"M1 = 199;    // Mass of an isotope of mercury, amu\n",
"T_C1 = 4.185;    // Transition temperature of the isoptope of Hg, K\n",
"T_C2 = 4.153;    // Transition temperature of another isoptope of Hg, K\n",
"alpha = 0.5;    // Isotope coefficient\n",
"M2 = M1*(T_C1/T_C2)^(1/alpha);    // Mass of another isotope of mercury, amu\n",
"printf('\nThe mass of another isotope of mercury at %5.3f K = %6.2f amu',T_C2, M2);\n",
"\n",
"// Result\n",
"// The mass of another isotope of mercury at 4.153 K = 202.08 amu "
   ]
   }
],
"metadata": {
		  "kernelspec": {
		   "display_name": "Scilab",
		   "language": "scilab",
		   "name": "scilab"
		  },
		  "language_info": {
		   "file_extension": ".sce",
		   "help_links": [
			{
			 "text": "MetaKernel Magics",
			 "url": "https://github.com/calysto/metakernel/blob/master/metakernel/magics/README.md"
			}
		   ],
		   "mimetype": "text/x-octave",
		   "name": "scilab",
		   "version": "0.7.1"
		  }
		 },
		 "nbformat": 4,
		 "nbformat_minor": 0
}
