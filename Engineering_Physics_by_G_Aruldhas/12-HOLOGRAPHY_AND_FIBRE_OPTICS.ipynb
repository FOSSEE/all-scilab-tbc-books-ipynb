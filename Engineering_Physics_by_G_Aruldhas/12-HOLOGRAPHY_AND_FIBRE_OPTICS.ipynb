{
"cells": [
 {
		   "cell_type": "markdown",
	   "metadata": {},
	   "source": [
       "# Chapter 12: HOLOGRAPHY AND FIBRE OPTICS"
	   ]
	},
{
		   "cell_type": "markdown",
		   "metadata": {},
		   "source": [
			"## Example 12.1: Parameters_of_step_index_fibre.sci"
		   ]
		  },
  {
"cell_type": "code",
	   "execution_count": null,
	   "metadata": {
	    "collapsed": true
	   },
	   "outputs": [],
"source": [
"// Scilab Code Ex12.1: Parameters of step index fibre : Page-271 (2010)\n",
"n1 = 1.43;    // Refractive index of fibre core\n",
"n2 = 1.4;    // Refractive index of fibre cladding\n",
"// As sin (alpha_c) = n2/n1, solving for alpha_c\n",
"alpha_c = asind(n2/n1);    // Critical angle for optical fibre, degrees\n",
"// AS cos(theta_c) = n2/n1, solving for theta_c\n",
"theta_c = acosd(n2/n1);    // Critical propagation angle for optical fibre, degrees\n",
"NA = sqrt(n1^2 - n2^2);    // Numerical aperture for optical fibre\n",
"printf('\nThe critical angle for optical fibre = %5.2f degrees', alpha_c);\n",
"printf('\nThe critical propagation angle for optical fibre = %5.2f degrees', theta_c);\n",
"printf('\nNumerical aperture for optical fibre = %4.2f', NA);\n",
"\n",
"// Result\n",
"// The critical angle for optical fibre = 78.24 degrees\n",
"// The critical propagation angle for optical fibre = 11.76 degrees\n",
"// Numerical aperture for optical fibre = 0.29 "
   ]
   }
,
{
		   "cell_type": "markdown",
		   "metadata": {},
		   "source": [
			"## Example 12.2: Parameters_of_optical_fibre.sci"
		   ]
		  },
  {
"cell_type": "code",
	   "execution_count": null,
	   "metadata": {
	    "collapsed": true
	   },
	   "outputs": [],
"source": [
"// Scilab Code Ex12.2: Parameters of optical fibre : Page-271 (2010)\n",
"n1 = 1.45;    // Refractive index of fibre core\n",
"n2 = 1.4;    // Refractive index of fibre cladding\n",
"NA = sqrt(n1^2 - n2^2);    // Numerical aperture for optical fibre\n",
"// As sin(theta_a) = sqrt(n1^2 - n2^2), solving for theta_a\n",
"theta_a = asind(sqrt(n1^2 - n2^2));    // Half of acceptance angle of optical fibre, degrees\n",
"theta_accp = 2*theta_a;    // Acceptance angle of optical fibre\n",
"Delta = (n1 - n2)/n1;    // Relative refractive index difference\n",
"printf('\nNumerical aperture for optical fibre = %5.3f', NA);\n",
"printf('\nThe acceptance angle of optical fibre = %4.1f degrees', theta_accp);\n",
"printf('\nRelative refractive index difference = %5.3f', Delta);\n",
"\n",
"// Result\n",
"// Numerical aperture for optical fibre = 0.377\n",
"// The acceptance angle of optical fibre = 44.4 degrees\n",
"// Relative refractive index difference = 0.034 "
   ]
   }
,
{
		   "cell_type": "markdown",
		   "metadata": {},
		   "source": [
			"## Example 12.3: Numerical_aperture_and_acceptance_angle_of_step_index_fibre.sci"
		   ]
		  },
  {
"cell_type": "code",
	   "execution_count": null,
	   "metadata": {
	    "collapsed": true
	   },
	   "outputs": [],
"source": [
"// Scilab Code Ex12.3: Numerical aperture and acceptance angle of step index fibre : Page-271 (2010)\n",
"n1 = 1.55;    // Refractive index of fibre core\n",
"n2 = 1.53;    // Refractive index of fibre cladding\n",
"n0 = 1.3;    // Refractive index of medium\n",
"NA = sqrt(n1^2 - n2^2);    // Numerical aperture for optical fibre\n",
"// n0*sin(theta_a) = sqrt(n1^2 - n2^2) = NA, solving for theta_a\n",
"theta_a = asind(sqrt(n1^2 - n2^2)/n0);    // Half of acceptance angle of optical fibre, degrees\n",
"theta_accp = 2*theta_a;    // Acceptance angle of optical fibre\n",
"printf('\nNumerical aperture for step index fibre = %5.3f', NA);\n",
"printf('\nThe acceptance angle of step index fibre = %2d degrees', theta_accp);\n",
"\n",
"// Result\n",
"// Numerical aperture for step index fibre = 0.248\n",
"// The acceptance angle of step index fibre = 22 degrees "
   ]
   }
,
{
		   "cell_type": "markdown",
		   "metadata": {},
		   "source": [
			"## Example 12.5: Output_power_in_fibre_optic_communication.sci"
		   ]
		  },
  {
"cell_type": "code",
	   "execution_count": null,
	   "metadata": {
	    "collapsed": true
	   },
	   "outputs": [],
"source": [
"// Scilab Code Ex12.5: Output power in fibre optic communication : Page-272 (2010)\n",
"alpha = 2;    // Power loss through optical fibre, dB/km\n",
"P_in = 500;    // Poer input of optical fibre, micro-watt\n",
"z = 10;    // Length of the optical fibre, km\n",
"// As alpha = 10/z*log10(P_in/P_out), solving for P_out\n",
"P_out = P_in/10^(alpha*z/10);    // Output power in fibre optic communication, W\n",
"printf('\nThe output power in fibre optic communication = %1d micro-watt', P_out);\n",
"\n",
"// Result\n",
"// The output power in fibre optic communication = 5 micro-watt "
   ]
   }
],
"metadata": {
		  "kernelspec": {
		   "display_name": "Scilab",
		   "language": "scilab",
		   "name": "scilab"
		  },
		  "language_info": {
		   "file_extension": ".sce",
		   "help_links": [
			{
			 "text": "MetaKernel Magics",
			 "url": "https://github.com/calysto/metakernel/blob/master/metakernel/magics/README.md"
			}
		   ],
		   "mimetype": "text/x-octave",
		   "name": "scilab",
		   "version": "0.7.1"
		  }
		 },
		 "nbformat": 4,
		 "nbformat_minor": 0
}
