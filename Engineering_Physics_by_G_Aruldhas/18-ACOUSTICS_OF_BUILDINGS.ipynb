{
"cells": [
 {
		   "cell_type": "markdown",
	   "metadata": {},
	   "source": [
       "# Chapter 18: ACOUSTICS OF BUILDINGS"
	   ]
	},
{
		   "cell_type": "markdown",
		   "metadata": {},
		   "source": [
			"## Example 18.1: Output_power_of_the_sound_source.sci"
		   ]
		  },
  {
"cell_type": "code",
	   "execution_count": null,
	   "metadata": {
	    "collapsed": true
	   },
	   "outputs": [],
"source": [
"// Scilab Code Ex18.1: Output power of the sound source : Page-361 (2010)\n",
"r = 200;    // Distance of the point of reduction from the source, m\n",
"I_0 = 1e-012;    // Final intensity of sound, watt per metre square\n",
"I_f = 60;       // Intensity gain of sound at the point of reduction, dB\n",
"// As A_I = 10*log10(I/I_0), solving for I\n",
"I = I_0*10^(I_f/10);    // Initial Intensity of sound, watt per metre square\n",
"P = 4*%pi*r^2*I;    // Output power of the sound source, watt\n",
"printf('\nThe output power of the sound source = %3.1f W', P);\n",
"\n",
"// Result\n",
"// The output power of the sound source = 0.5 W "
   ]
   }
,
{
		   "cell_type": "markdown",
		   "metadata": {},
		   "source": [
			"## Example 18.2: Change_in_sound_level_for_doubling_intensity.sci"
		   ]
		  },
  {
"cell_type": "code",
	   "execution_count": null,
	   "metadata": {
	    "collapsed": true
	   },
	   "outputs": [],
"source": [
"// Scilab Code Ex18.2: Change in sound level for doubling intensity: Page-361 (2010)\n",
"I1 = 1;    // For simplicity assume first intensity level to be unity, W per metre square\n",
"I2 = 2*I1;    // Intensity level after doubling, watt per metre square\n",
"dA_I = 10*log10(I2/I1);    // Difference in gain level, dB\n",
"printf('\nThe sound intensity level is increased by = %1d dB', dA_I);\n",
"\n",
"// Result\n",
"// The sound intensity level is increased by = 3 dB "
   ]
   }
,
{
		   "cell_type": "markdown",
		   "metadata": {},
		   "source": [
			"## Example 18.3: Total_absorption_of_sound_in_the_hall.sci"
		   ]
		  },
  {
"cell_type": "code",
	   "execution_count": null,
	   "metadata": {
	    "collapsed": true
	   },
	   "outputs": [],
"source": [
"// Scilab Code Ex18.3: Total absorption of sound in the hall: Page-361 (2010)\n",
"V = 8000;    // Volume of the hall, metre cube\n",
"T = 1.5;    // Reverbration time of the hall, s\n",
"alpha_s = 0.167*V/T;    // Sabine Formula giving total absorption of sound in the hall, OWU\n",
"printf('\nThe total absorption of sound in the hall = %5.1f OWU', alpha_s);\n",
"\n",
"// Result\n",
"// The total absorption in the hall = 890.7 OWU "
   ]
   }
,
{
		   "cell_type": "markdown",
		   "metadata": {},
		   "source": [
			"## Example 18.4: Average_absorption_coefficient_of_the_surfaces_of_the_hall.sci"
		   ]
		  },
  {
"cell_type": "code",
	   "execution_count": null,
	   "metadata": {
	    "collapsed": true
	   },
	   "outputs": [],
"source": [
"// Scilab Code Ex18.4: Average absorption coefficient of the surfaces of the hall: Page-362 (2010)\n",
"V = 25*20*8;      // Volume of the hall, metre cube\n",
"S = 2*(25*20+25*8+20*8);    // Total surface area of the hall, metre square\n",
"T = 4;    // Reverbration time of the hall, s\n",
"alpha = 0.167*V/(T*S);    // Sabine Formule giving total absorption in the hall, OWU\n",
"printf('\nThe total absorption in the hall = %5.3f OWU per metre square', alpha);\n",
"\n",
"// Result\n",
"// The total absorption in the hall = 0.097 OWU per metre square"
   ]
   }
,
{
		   "cell_type": "markdown",
		   "metadata": {},
		   "source": [
			"## Example 18.5: Reverbration_time_for_the_hall.sci"
		   ]
		  },
  {
"cell_type": "code",
	   "execution_count": null,
	   "metadata": {
	    "collapsed": true
	   },
	   "outputs": [],
"source": [
"// Scilab Code Ex18.5: Reverbration time for the hall : Page-362 (2010)\n",
"V = 475;      // Volume of the hall, metre cube\n",
"s = [200, 100, 100];    // Area of wall, floor and ceiling of the hall resp., metre square\n",
"T = 4;    // Reverbration time of the hall, s\n",
"alpha = [0.025, 0.02, 0.55];    // Absorption coefficients of the wall, ceiling and floor resp., OWU per metre square\n",
"alpha_s = 0;\n",
"for i=1:1:3\n",
"    alpha_s = alpha_s + alpha(i)*s(i);\n",
"end\n",
"T = 0.167*V/alpha_s;    // Sabine Formula for reverbration time, s\n",
"printf('\nThe reverbration time for the hall = %4.2f s', T);\n",
"\n",
"// Result\n",
"// The reverbration time for the hall = 1.28 s "
   ]
   }
,
{
		   "cell_type": "markdown",
		   "metadata": {},
		   "source": [
			"## Example 18.6: Gain_of_resultant_sound_intensity.sci"
		   ]
		  },
  {
"cell_type": "code",
	   "execution_count": null,
	   "metadata": {
	    "collapsed": true
	   },
	   "outputs": [],
"source": [
"// Scilab Code Ex18.6: Gain of resultant sound intensity: Page-362 (2010)\n",
"I0 = 1;    // For simplicity assume initial sound intensity to be unity, watt per metre square\n",
"A_I1 = 80;    // First intensity gain of sound, dB\n",
"A_I2 = 70;    // Second intensity gain of sound, dB\n",
"// As A_I = 10*log10(I/I_0), solving for I1 and I2\n",
"I1 = 10^(A_I1/10)*I0;    // First intensity of sound, watt per metre square\n",
"I2 = 10^(A_I2/10)*I0;    // Second intensity of sound, watt per metre square\n",
"I = I1 + I2;    // Resultant intensity level of sound, watt per metre square\n",
"A_I = 10*log10(I/I0);    // Intensity gain of resultant sound, dB\n",
"printf('\nThe intensity gain of resultant sound = %6.3f dB', A_I);\n",
"\n",
"// Result\n",
"// The intensity gain of resultant sound = 80.414 dB "
   ]
   }
],
"metadata": {
		  "kernelspec": {
		   "display_name": "Scilab",
		   "language": "scilab",
		   "name": "scilab"
		  },
		  "language_info": {
		   "file_extension": ".sce",
		   "help_links": [
			{
			 "text": "MetaKernel Magics",
			 "url": "https://github.com/calysto/metakernel/blob/master/metakernel/magics/README.md"
			}
		   ],
		   "mimetype": "text/x-octave",
		   "name": "scilab",
		   "version": "0.7.1"
		  }
		 },
		 "nbformat": 4,
		 "nbformat_minor": 0
}
