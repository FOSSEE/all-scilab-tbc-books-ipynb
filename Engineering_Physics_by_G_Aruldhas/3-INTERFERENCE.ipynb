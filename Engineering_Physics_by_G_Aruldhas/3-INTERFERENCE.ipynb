{
"cells": [
 {
		   "cell_type": "markdown",
	   "metadata": {},
	   "source": [
       "# Chapter 3: INTERFERENCE"
	   ]
	},
{
		   "cell_type": "markdown",
		   "metadata": {},
		   "source": [
			"## Example 3.10: Shift_in_movable_mirror_of_Michelson_Interferometer.sci"
		   ]
		  },
  {
"cell_type": "code",
	   "execution_count": null,
	   "metadata": {
	    "collapsed": true
	   },
	   "outputs": [],
"source": [
"// Scilab Code Ex3.10 : Page-73 (2010)\n",
"lambda1 = 5896e-008;    // Wavelength of D1 line of sodium, m\n",
"lambda2 = 5890e-008;    // Wavelength of D2 line of sodium, m\n",
"lambda = (lambda1+lambda2)/2;\n",
"// As lambda1 - lambda2 = lambda^2/(2*x), solving for x\n",
"x = lambda^2/(2*(lambda1 - lambda2));    // Shift in movable mirror of Michelson Interferometer, cm\n",
"printf('\nThe shift in movable mirror = %5.3f mm', x/1e-001);\n",
"\n",
"// Result \n",
"// The shift in movable mirror = 0.289 mm "
   ]
   }
,
{
		   "cell_type": "markdown",
		   "metadata": {},
		   "source": [
			"## Example 3.1: Wavelength_of_Light_using_Young_Double_Slit_experiment.sci"
		   ]
		  },
  {
"cell_type": "code",
	   "execution_count": null,
	   "metadata": {
	    "collapsed": true
	   },
	   "outputs": [],
"source": [
"// Scilab Code Ex3.1 : Page-71 (2010)\n",
"beta = 0.51e-02;    // Fringe width, cm\n",
"d = 2.2e-02;       // Distance between the slits, cm\n",
"D = 2e+02;    // Distance between the slits and the screen, cm\n",
"// As beta = D*lambda/d, solving for lambda\n",
"lambda = beta*d/D;    // Wavelength of light, m\n",
"printf('\nThe wavelength of light = %4d angstrom', lambda/1e-010);\n",
"\n",
"// Result \n",
"// The wavelength of light = 5610 angstrom "
   ]
   }
,
{
		   "cell_type": "markdown",
		   "metadata": {},
		   "source": [
			"## Example 3.2: Fringe_shift_due_to_change_in_wavelength.sci"
		   ]
		  },
  {
"cell_type": "code",
	   "execution_count": null,
	   "metadata": {
	    "collapsed": true
	   },
	   "outputs": [],
"source": [
"// Scilab Code Ex3.2 : Page-71 (2010)\n",
"lambda1 = 4250e-010;    // First wavelength emitted by source of light, m\n",
"lambda2 = 5050e-010;    // Second wavelength emitted by source of light, m\n",
"D = 1.5;    // Distance between the source and the screen, m\n",
"d = 0.025e-03;       // Distance between the slits, m\n",
"n = 3;    // Number of fringe from the centre\n",
"x3 = n*lambda1*D/d;    // Position of third bright fringe due to lambda1, m\n",
"x3_prime = n*lambda2*D/d;    // Position of third bright fringe due to lambda2, m\n",
"printf('\nThe separation between the third bright fringe due to the two wavelengths = %4.2f cm', (x3_prime - x3)/1e-02);\n",
"\n",
"// Result \n",
"// The separation between the third bright fringe due to the two wavelengths = 1.44 cm "
   ]
   }
,
{
		   "cell_type": "markdown",
		   "metadata": {},
		   "source": [
			"## Example 3.3: Refractive_index_from_double_slit_experiment.sci"
		   ]
		  },
  {
"cell_type": "code",
	   "execution_count": null,
	   "metadata": {
	    "collapsed": true
	   },
	   "outputs": [],
"source": [
"// Scilab Code Ex3.3 : Page-71 (2010)\n",
"lambda = 5.5e-05;    // Wavelength emitted by source of light, cm\n",
"n = 4;    // Number of fringes shifted\n",
"t = 3.9e-04;    // Thickness of the thin glass sheet, cm\n",
"mu = n*lambda/t+1;    // Refractive index of the sheet of glass\n",
"printf('\nThe refractive index of the sheet of glass = %6.4f', mu);\n",
"\n",
"// Result \n",
"// The refractive index of the sheet of glass = 1.5641 "
   ]
   }
,
{
		   "cell_type": "markdown",
		   "metadata": {},
		   "source": [
			"## Example 3.4: Interference_by_thin_soap_film.sci"
		   ]
		  },
  {
"cell_type": "code",
	   "execution_count": null,
	   "metadata": {
	    "collapsed": true
	   },
	   "outputs": [],
"source": [
"// Scilab Code Ex3.4 : Page-72 (2010)\n",
"lambda = 5893e-010;    // Wavelength of monochromatic lihgt used, m\n",
"n = 1;    // Number of fringe for the least thickness of the film\n",
"r = 0;    // Value of refraction angle for normal incidence, degrees\n",
"mu = 1.42;    // refractive index of the soap film\n",
"// As for constructive interference, \n",
"// 2*mu*t*cos(r) = (2*n-1)*lambda/2, solving for t\n",
"t = (2*n-1)*lambda/(4*mu*cos(r));    // Thickness of the film that appears bright, m\n",
"printf('\nThe thickness of the film that appears bright = %6.1f angstrom', t/1e-010);\n",
"// As for destructive interference, \n",
"// 2*mu*t*cos(r) = n*lambda, solving for t\n",
"t = n*lambda/(2*mu*cos(r));    // Thickness of the film that appears bright, m\n",
"printf('\nThe thickness of the film that appears dark = %4d angstrom', t/1e-010);\n",
"\n",
"// Result \n",
"// The thickness of the film that appears bright = 1037.5 angstrom\n",
"// The thickness of the film that appears dark = 2075 angstrom "
   ]
   }
,
{
		   "cell_type": "markdown",
		   "metadata": {},
		   "source": [
			"## Example 3.5: Interference_due_to_thin_air_wedge.sci"
		   ]
		  },
  {
"cell_type": "code",
	   "execution_count": null,
	   "metadata": {
	    "collapsed": true
	   },
	   "outputs": [],
"source": [
"// Scilab Code Ex3.5 : Page-72 (2010)\n",
"lambda = 5893e-008;    // Wavelength of monochromatic lihgt used, m\n",
"n = 10;    // Number of fringe that are found in the distnace of 1 cm\n",
"d = 1;    // Distance of 10 fringes, cm\n",
"beta = d/n;    // Fringe width, cm\n",
"theta = lambda/(2*beta);    // Angle of the wedge, rad\n",
"printf('\nThe angle of the wedge = %5.3e rad', theta);\n",
"\n",
"// Result \n",
"// The angle of the wedge = 2.946e-004 rad "
   ]
   }
,
{
		   "cell_type": "markdown",
		   "metadata": {},
		   "source": [
			"## Example 3.6: Separation_between_consecutive_bright_fringes_formed_by_an_air_wedge.sci"
		   ]
		  },
  {
"cell_type": "code",
	   "execution_count": null,
	   "metadata": {
	    "collapsed": true
	   },
	   "outputs": [],
"source": [
"// Scilab Code Ex3.6 : Page-72 (2010)\n",
"lambda = 5900e-008;    // Wavelength of monochromatic lihgt used, m\n",
"t = 0.010e-01;    // Spacer thickness, cm\n",
"l = 10;    // Wedge length, cm\n",
"theta = t/l;    // Angle of the wedge, rad\n",
"beta = lambda/(2*theta);    // Fringe width, cm\n",
"printf('\nThe separation between consecutive bright fringes = %5.3e cm', beta);\n",
"\n",
"// Result \n",
"// The separation between consecutive bright fringes = 2.950e-001 cm "
   ]
   }
,
{
		   "cell_type": "markdown",
		   "metadata": {},
		   "source": [
			"## Example 3.7: Newton_Rings_by_reflected_light.sci"
		   ]
		  },
  {
"cell_type": "code",
	   "execution_count": null,
	   "metadata": {
	    "collapsed": true
	   },
	   "outputs": [],
"source": [
"// Scilab Code Ex3.7 : Page-72 (2010)\n",
"D4 = 0.4;    // Diameter of 4th dark ring, cm\n",
"D12 = 0.7;    // Diameter of 12th dark ring, cm\n",
"// We have dn_puls_k^2-Dn^2 = 4*k*R*lambda, so\n",
"// D12^2-D4^2 = 32*R*lambda and D20^2-D12^2 = 32*R*lambda for k = 8, solving for D20\n",
"D20 = sqrt(2*D12^2-D4^2);    // Diameter of 20th dark ring, cm\n",
"printf('\nThe diameter of 20th dark ring = %6.4f cm', D20);\n",
"\n",
"// Result \n",
"// The diameter of 20th dark ring = 0.9055 cm "
   ]
   }
,
{
		   "cell_type": "markdown",
		   "metadata": {},
		   "source": [
			"## Example 3.8: Refractive_index_from_Newton_Rings_arrangement.sci"
		   ]
		  },
  {
"cell_type": "code",
	   "execution_count": null,
	   "metadata": {
	    "collapsed": true
	   },
	   "outputs": [],
"source": [
"// Scilab Code Ex3.8 : Page-73 (2010)\n",
"Dn = 0.30;    // Diameter of nth dark ring with air film, cm\n",
"dn = 0.25;    // Diameter of nth dark ring with liquid film, cm\n",
"mu = (Dn/dn)^2;    // Refractive index of the liquid\n",
"printf('\nThe refractive index of the liquid = %4.2f', mu);\n",
"\n",
"// Result \n",
"// The refractive index of the liquid = 1.44 "
   ]
   }
,
{
		   "cell_type": "markdown",
		   "metadata": {},
		   "source": [
			"## Example 3.9: Wavelength_of_light_using_Michelson_Interferometer.sci"
		   ]
		  },
  {
"cell_type": "code",
	   "execution_count": null,
	   "metadata": {
	    "collapsed": true
	   },
	   "outputs": [],
"source": [
"// Scilab Code Ex3.9 : Page-73 (2010)\n",
"x = 0.002945;    // Distance through which movable mirror is shifted, cm\n",
"N = 100;    // Number of fringes shifted\n",
"lambda = 2*x/N;    // Wavelength of light, m\n",
"printf('\nThe wavelength of light = %4d angstrom', lambda/1e-008);\n",
"\n",
"// Result \n",
"// The wavelength of light = 5890 angstrom"
   ]
   }
],
"metadata": {
		  "kernelspec": {
		   "display_name": "Scilab",
		   "language": "scilab",
		   "name": "scilab"
		  },
		  "language_info": {
		   "file_extension": ".sce",
		   "help_links": [
			{
			 "text": "MetaKernel Magics",
			 "url": "https://github.com/calysto/metakernel/blob/master/metakernel/magics/README.md"
			}
		   ],
		   "mimetype": "text/x-octave",
		   "name": "scilab",
		   "version": "0.7.1"
		  }
		 },
		 "nbformat": 4,
		 "nbformat_minor": 0
}
