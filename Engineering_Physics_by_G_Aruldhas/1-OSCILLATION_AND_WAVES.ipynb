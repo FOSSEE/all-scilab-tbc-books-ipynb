{
"cells": [
 {
		   "cell_type": "markdown",
	   "metadata": {},
	   "source": [
       "# Chapter 1: OSCILLATION AND WAVES"
	   ]
	},
{
		   "cell_type": "markdown",
		   "metadata": {},
		   "source": [
			"## Example 1.1: Time_period_of_SHM.sci"
		   ]
		  },
  {
"cell_type": "code",
	   "execution_count": null,
	   "metadata": {
	    "collapsed": true
	   },
	   "outputs": [],
"source": [
"// Scilab Code Ex1.1 : Page-23 (2010)\n",
"A = 4/2;    // Amplitude of SHM, cm\n",
"x = 0;    // Mean position of oscillating particle, cm\n",
"v = 12;    // Velocity of the particle at the mean position, cm/s\n",
"// As v = omega*sqrt(A^2 - x^2), solving for omega\n",
"omega = v/sqrt(A^2 - x^2);\n",
"printf('\nThe time period of SHM = %5.2f s', (2*%pi)/omega);\n",
"\n",
"// Result \n",
"// The time period of SHM =  1.05 s "
   ]
   }
,
{
		   "cell_type": "markdown",
		   "metadata": {},
		   "source": [
			"## Example 1.2: Accelertion_and_maximum_velocity_in_SHM.sci"
		   ]
		  },
  {
"cell_type": "code",
	   "execution_count": null,
	   "metadata": {
	    "collapsed": true
	   },
	   "outputs": [],
"source": [
"// Scilab Code Ex1.2 : Page-23 (2010)\n",
"T = 0.1;    // Time period of oscillation in SHM, s\n",
"x = 0.2;    // Position of the particle from its mean position, cm\n",
"A = 4;    // Amplitude of the particle executing SHM, cm\n",
"// As T = 2*%pi/omega, solving for omega\n",
"omega = 2*%pi/T;    // Angular speed of particle executing SHM, per sec\n",
"a = omega^2*x;    // Accelertion of particle executing SHM, cm per sec square\n",
"v_max = omega*A;    // Maximum velocity of the particle in SHM, cm per sec\n",
"printf('\nThe accelertion of particle executing SHM = %5.1f cm per sec square', a);\n",
"printf('\nThe maximum velocity of the particle in SHM = %5.1f cm per sec', v_max);\n",
"\n",
"// Result \n",
"// The accelertion of particle executing SHM = 789.6 cm per sec square \n",
"// The maximum velocity of the particle in SHM = 251.3 cm per sec "
   ]
   }
,
{
		   "cell_type": "markdown",
		   "metadata": {},
		   "source": [
			"## Example 1.3: Damped_Vibrating_System.sci"
		   ]
		  },
  {
"cell_type": "code",
	   "execution_count": null,
	   "metadata": {
	    "collapsed": true
	   },
	   "outputs": [],
"source": [
"// Scilab Code Ex1.3 : Page-24 (2010)\n",
"A1 = 40;    // First amplitude of oscillation, cm\n",
"An_plus_1 = 4;    // Amplitude after 100 oscillations, cm\n",
"n = 100;    // Number of oscillations\n",
"T = 2.5;    // Time period of oscillations, s\n",
"t = T/4;    // Time taken to reach the first amplitude from the mean position, s\n",
"// Now A1 = x0*exp(-lambda*t) and An_plus_1 = x0*exp(-lambda*(t+nT))\n",
"// A1/An_plus_1 = exp(n*lambda*T), solving for lambda\n",
"lambda = log(A1/An_plus_1)/(n*T);    // Damping constant. per sec\n",
"printf('\nDamping constant = %3.2e per sec', lambda);\n",
"\n",
"// Result \n",
"// Damping constant = 9.21e-003 per sec "
   ]
   }
,
{
		   "cell_type": "markdown",
		   "metadata": {},
		   "source": [
			"## Example 1.4: Amplitude_and_Time_Period_in_SHM.sci"
		   ]
		  },
  {
"cell_type": "code",
	   "execution_count": null,
	   "metadata": {
	    "collapsed": true
	   },
	   "outputs": [],
"source": [
"// Scilab Code Ex1.4 :  Page-24 (2010)\n",
"v1 = 16;    // Velocity of particle executing SHM at position 3 cm\n",
"v2 = 12;    // Velocity of particle executing SHM at position 4 cm\n",
"x1 = 3;    // First position of the particle, cm\n",
"x2 = 4;    // Second position of the particle, cm\n",
"// As v = omega*sqrt(A^2 - x^2) so\n",
"// (v1/v2)^2 = (A^2 - x1^2)/(A^2 - x2^2), solving for A\n",
"A = poly(0, 'A');    // Declare variable A\n",
"A = roots((A^2 - x1^2)*v2^2-(A^2 - x2^2)*v1^2);\n",
"printf('\nThe amplitude of SHM = %1d cm', A(1));\n",
"// v = omega*sqrt(A^2 - x^2), solving for omega\n",
"omega = v1/sqrt(A(1)^2 - x1^2);    // Angular speed of the particle, rad per sec\n",
"T = 2*%pi/omega;    // Time period of oscillation, sec\n",
"printf('\nThe time period of oscillation = %5.3f sec', T);\n",
"\n",
"// Result \n",
"// The amplitude of SHM = 5 cm\n",
"// The time period of oscillation = 1.571 sec "
   ]
   }
,
{
		   "cell_type": "markdown",
		   "metadata": {},
		   "source": [
			"## Example 1.5: Oscillation_of_a_spring_mass_system.sci"
		   ]
		  },
  {
"cell_type": "code",
	   "execution_count": null,
	   "metadata": {
	    "collapsed": true
	   },
	   "outputs": [],
"source": [
"// Scilab Code Ex1.5 : Page-25 (2010)\n",
"m = 0.3;    // Mass attached to the string, kg\n",
"g = 9.8;    // Acceleration due to gravity, metre per sec square\n",
"x = 0.15;    // Stretchness produced in the spring, m\n",
"F = m*g;    // Restoring force acting on the mass, N\n",
"k = F/x;    // Spring constant, newton per metre\n",
"A = 0.1;    // Amplitude of the string, m\n",
"omega = sqrt(k/m);    // Angular frequency of oscillation, rad per sec\n",
"v0 = omega*A;    // Maximum velocity during the oscillations, m/s\n",
"printf('\nThe spring constant = %4.1f newton per metre', k);\n",
"printf('\nThe amplitude of oscillation = %2.1f m', A);\n",
"printf('\nThe maximum velocity during oscillations = %3.2f m/s', v0);\n",
"\n",
"// Result \n",
"// The spring constant = 19.6 newton per metre\n",
"// The amplitude of oscillation = 0.1 m\n",
"// The maximum velocity during oscillations = 0.81 m/s "
   ]
   }
,
{
		   "cell_type": "markdown",
		   "metadata": {},
		   "source": [
			"## Example 1.6: Frequency_of_visible_region.sci"
		   ]
		  },
  {
"cell_type": "code",
	   "execution_count": null,
	   "metadata": {
	    "collapsed": true
	   },
	   "outputs": [],
"source": [
"// Scilab Code Ex1.6 :  Page-25 (2010)\n",
"lambda1 = 400e-09;    // Lower limit of wavelength of visible region, m\n",
"lambda2 = 700e-09;    // Upper limit of wavelength of visible region, m\n",
"c = 3e+08;    // Speed of light in vacuum, m/s\n",
"f1 = c/lambda1;    // Upper limit of frequency of visible region, m\n",
"f2 = c/lambda2;    // Lower limit of frequency of visible region, m\n",
"printf('\nThe frequency equivalent of %3g nm to %3g nm is %3.1e Hz to %3.1e Hz', lambda1/1e-09, lambda2/1e-09, f1, f2);\n",
"\n",
"// Result \n",
"// The frequency equivalent of 400 nm to 700 nm is 7.5e+014 Hz to 4.3e+014 Hz "
   ]
   }
,
{
		   "cell_type": "markdown",
		   "metadata": {},
		   "source": [
			"## Example 1.7: Characteristics_of_sound_wave.sci"
		   ]
		  },
  {
"cell_type": "code",
	   "execution_count": null,
	   "metadata": {
	    "collapsed": true
	   },
	   "outputs": [],
"source": [
"// Scilab Code Ex1.7 : Page-26 (2010)\n",
"// Comparing the standard equation\n",
"// u(x,t) = A*sin(2*%pi(x/lambda-t/T)) \n",
"// with the given equation, we get\n",
"A = 1.5e-03;    // Amplitude of the sound wave, m\n",
"lambda = 8;    // Wavelength of the sound wave, m\n",
"T = 1/40;    // Time period of the sound wave, s\n",
"nu = 1/T;    // Frequency of the sound wave, Hz\n",
"v = nu*lambda;    // Velocity of the sound wave, m/s\n",
"printf('\nThe amplitude of the sound wave = %3.1e m', A);\n",
"printf('\nThe wavelength of the sound wave = %1d m', lambda);\n",
"printf('\nThe time period of the sound wave = %3.2f s', T);\n",
"printf('\nThe frequency of the sound wave = %2d Hz', nu);\n",
"printf('\nThe velocity of the sound wave = %3d m/s', v);\n",
"\n",
"\n",
"// Result \n",
"// The amplitude of the sound wave = 1.5e-003 m\n",
"// The wavelength of the sound wave = 8 m\n",
"// The time period of the sound wave = 0.03 s\n",
"// The frequency of the sound wave = 40 Hz\n",
"// The velocity of the sound wave = 320 m/s"
   ]
   }
,
{
		   "cell_type": "markdown",
		   "metadata": {},
		   "source": [
			"## Example 1.8: Equation_of_a_wave_moving_along_X_axis.sci"
		   ]
		  },
  {
"cell_type": "code",
	   "execution_count": null,
	   "metadata": {
	    "collapsed": true
	   },
	   "outputs": [],
"source": [
"// Scilab Code Ex1.8 :  Page-26 (2010)\n",
"A = 2;    // Amplitude of the wave, cm\n",
"T = 0.5;    // Time period of the wave, sec\n",
"v = 200;    // Wave velocity, cm/s\n",
"f = 1/0.5;    // Frequency of the wave, Hz\n",
"lambda = v/f;    // Wavelength of the wave, cm\n",
"printf('\nThe Equation of the wave moving along X-axis :');\n",
"printf('u = %1d*sin*2*pi*(x/%3d-t/%2.1f)', A, lambda, T);\n",
"\n",
"\n",
"// Result \n",
"// The Equation of the wave moving along X-axis :u = 2*sin*2*pi*(x/100-t/0.5) "
   ]
   }
,
{
		   "cell_type": "markdown",
		   "metadata": {},
		   "source": [
			"## Example 1.9: Wave_in_the_wire.sci"
		   ]
		  },
  {
"cell_type": "code",
	   "execution_count": null,
	   "metadata": {
	    "collapsed": true
	   },
	   "outputs": [],
"source": [
"// Scilab Code Ex1.9 : Page-27 (2010)\n",
"T = 1000;    // Tension in the wire, N\n",
"m = 15/300;    // Mass per unit length of the wire, kg per metre\n",
"lambda = 0.30;    // Wavelength of wave along wire, m\n",
"v = sqrt(T/m);    // Velocity of wave through wire, m/s\n",
"nu = v/lambda;    // Frequency of wave through string, Hz\n",
"printf('\nThe velocity and frequency of the wave through wire are %5.1f m/s and %5.1f Hz respectively', v, nu);\n",
"\n",
"\n",
"\n",
"// Result \n",
"// The velocity and frequency of the wave through wire are 141.4 m/s and 471.4 Hz respectively "
   ]
   }
],
"metadata": {
		  "kernelspec": {
		   "display_name": "Scilab",
		   "language": "scilab",
		   "name": "scilab"
		  },
		  "language_info": {
		   "file_extension": ".sce",
		   "help_links": [
			{
			 "text": "MetaKernel Magics",
			 "url": "https://github.com/calysto/metakernel/blob/master/metakernel/magics/README.md"
			}
		   ],
		   "mimetype": "text/x-octave",
		   "name": "scilab",
		   "version": "0.7.1"
		  }
		 },
		 "nbformat": 4,
		 "nbformat_minor": 0
}
