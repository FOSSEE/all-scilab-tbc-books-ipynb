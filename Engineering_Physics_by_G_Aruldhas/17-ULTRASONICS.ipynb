{
"cells": [
 {
		   "cell_type": "markdown",
	   "metadata": {},
	   "source": [
       "# Chapter 17: ULTRASONICS"
	   ]
	},
{
		   "cell_type": "markdown",
		   "metadata": {},
		   "source": [
			"## Example 17.1: Thickness_of_vibrating_quartz_at_resonance.sci"
		   ]
		  },
  {
"cell_type": "code",
	   "execution_count": null,
	   "metadata": {
	    "collapsed": true
	   },
	   "outputs": [],
"source": [
"// Scilab Code Ex17.1: Thickness of vibrating quartz at resonance : Page-352 (2010)\n",
"f = 3e+006;    // Fundamental vibrational frequency of quartz crystal, MHz\n",
"Y = 7.9e+010;    // Young's modulus of quartz, newton per metre\n",
"rho = 2650;    // Density of quartz, kg per metre cube\n",
"// We have for resonant frequency\n",
"// f = 1/(2*l)*sqrt(Y/rho), solving for l\n",
"l = 1/(2*f)*sqrt(Y/rho);    // Thickness of vibrating quartz at resonance, m\n",
"printf('\nThe thickness of vibrating quartz at resonance = %3.1f mm', l/1e-003);\n",
"\n",
"// Result\n",
"// The thickness of vibrating quartz at resonance = 0.9 mm"
   ]
   }
],
"metadata": {
		  "kernelspec": {
		   "display_name": "Scilab",
		   "language": "scilab",
		   "name": "scilab"
		  },
		  "language_info": {
		   "file_extension": ".sce",
		   "help_links": [
			{
			 "text": "MetaKernel Magics",
			 "url": "https://github.com/calysto/metakernel/blob/master/metakernel/magics/README.md"
			}
		   ],
		   "mimetype": "text/x-octave",
		   "name": "scilab",
		   "version": "0.7.1"
		  }
		 },
		 "nbformat": 4,
		 "nbformat_minor": 0
}
