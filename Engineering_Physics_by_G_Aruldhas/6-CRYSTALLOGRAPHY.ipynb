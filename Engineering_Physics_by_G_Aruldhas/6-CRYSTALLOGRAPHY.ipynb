{
"cells": [
 {
		   "cell_type": "markdown",
	   "metadata": {},
	   "source": [
       "# Chapter 6: CRYSTALLOGRAPHY"
	   ]
	},
{
		   "cell_type": "markdown",
		   "metadata": {},
		   "source": [
			"## Example 6.10: X_ray_Diffraction_by_crystal_planes.sci"
		   ]
		  },
  {
"cell_type": "code",
	   "execution_count": null,
	   "metadata": {
	    "collapsed": true
	   },
	   "outputs": [],
"source": [
"// Scilab Code Ex6.10 : Lattice parameter for (110) planes of cubic crystal: Page-137 (2010)\n",
"h = 1; k = 1; l = 0; // Miller Indices for planes in a cubic crystal\n",
"n = 1;    // First Order of diffraction \n",
"theta = 25;    // Glancing angle at which Bragg's reflection occurs, degrees\n",
"lambda = 0.7e-010;    // Wavelength of X-rays, m\n",
"// From Bragg's Law, n*lambda = 2*d*sind(theta), solving for d\n",
"d = n*lambda/(2*sind(theta));    // Interplanar spacing of cubic crystal, m\n",
"a = d*(h^2+k^2+l^2)^(1/2);  // The lattice parameter for cubic crystal, m\n",
"printf('\nThe lattice parameter for cubic crystal = %4.2f angstrom', a/1e-010);\n",
"\n",
"// Result\n",
"// The lattice parameter for cubic crystal = 1.17 angstrom "
   ]
   }
,
{
		   "cell_type": "markdown",
		   "metadata": {},
		   "source": [
			"## Example 6.11: Maximum_order_of_diffractio.sci"
		   ]
		  },
  {
"cell_type": "code",
	   "execution_count": null,
	   "metadata": {
	    "collapsed": true
	   },
	   "outputs": [],
"source": [
"// Scilab Code Ex6.11 : Maximum order of diffraction: Page-138 (2010)\n",
"d = 0.31e-009;    // Interplanar spacing, m\n",
"n = 1;    // First Order of diffraction \n",
"theta = 9.25;    // Glancing angle at which Bragg's reflection occurs, degrees\n",
"// From Bragg's Law, n*lambda = 2*d*sind(theta), solving for lambda\n",
"lambda = 2*d*sind(theta)/n;    // Wavelength of X-rays, m (Bragg's Law)\n",
"theta_max = 90;    // Maximum possible angle at which reflection can occur, degrees\n",
"n = 2*d*sind(theta_max)/lambda;    // Maximum possible order of diffraction\n",
"printf('\nThe Maximum possible order of diffraction = %1d',n);\n",
"\n",
"// Result\n",
"// The Maximum possible order of diffraction = 6 "
   ]
   }
,
{
		   "cell_type": "markdown",
		   "metadata": {},
		   "source": [
			"## Example 6.12: Bragg_reflection_angle_for_the_second_order_diffraction.sci"
		   ]
		  },
  {
"cell_type": "code",
	   "execution_count": null,
	   "metadata": {
	    "collapsed": true
	   },
	   "outputs": [],
"source": [
"// Scilab Code Ex6.12 : Bragg reflection angle for the second order diffraction: Page-138 (2010)\n",
"// For (110) planes\n",
"h = 1, k = 1, l = 0;    // Miller indices for (110) planes\n",
"d_110 = 0.195e-009;    // Interplanar spacing between (110) planes, m\n",
"// As d_110 = a/(h^2 + k^2 + l^2)^(1/2), solving for a\n",
"a = d_110*(h^2 + k^2 + l^2)^(1/2);    // Lattice parameter for bcc crystal, m\n",
"// For (210) planes\n",
"h = 2, k = 1, l = 0;    // Miller indices for (110) planes\n",
"d_210 = a/(h^2 + k^2 + l^2)^(1/2);    // Interplanar spacing between (210) planes, m\n",
"n = 2;    // Seconds Order of diffraction \n",
"lambda = 0.072e-009;    // Wavelength of X-rays, m\n",
"// From Bragg's Law, n*lambda = 2*d_210*sind(theta), solving for theta\n",
"theta = asind(n*lambda/(2*d_210));    // Bragg reflection angle for the second order diffraction, degrees\n",
"printf('\nBragg reflection angle for the second order diffraction = %5.2f degrees', theta);\n",
"\n",
"// Result\n",
"// Bragg reflection angle for the second order diffraction = 35.72 degrees "
   ]
   }
,
{
		   "cell_type": "markdown",
		   "metadata": {},
		   "source": [
			"## Example 6.13: Distance_between_nearest_neighbours_of_NaCl.sci"
		   ]
		  },
  {
"cell_type": "code",
	   "execution_count": null,
	   "metadata": {
	    "collapsed": true
	   },
	   "outputs": [],
"source": [
"// Scilab Code Ex6.13 : Distance between nearest neighbours of NaCl: Page-138 (2010)\n",
"M = 23+35.5;        // Molecular weight of NaCl, kg per k-mole\n",
"d = 2.18e+03;    // Density of rock salt, kg per metre cube\n",
"n = 4;    // No. of atoms per unit cell for an fcc lattice of NaCl crystal\n",
"N = 6.023D+26;    // Avogadro's No., atoms/k-mol\n",
"// Volume of the unit cell is given by\n",
"// a^3 = M*n/(N*d)\n",
"// Solving for a\n",
"a = (n*M/(d*N))^(1/3);    // Lattice constant of unit cell of NaCl\n",
"printf('\nThe distance between nearest neighbours of NaCl structure = %5.3e', a/2);\n",
"\n",
"// Result \n",
"// The distance between nearest neighbours of NaCl structure = 2.814e-010 "
   ]
   }
,
{
		   "cell_type": "markdown",
		   "metadata": {},
		   "source": [
			"## Example 6.14: Effect_of_structural_change_on_volume.sci"
		   ]
		  },
  {
"cell_type": "code",
	   "execution_count": null,
	   "metadata": {
	    "collapsed": true
	   },
	   "outputs": [],
"source": [
"// Scilab Code Ex6.14 : Effect of structural change on volume : Page-139 (2010)\n",
"// For bcc structure\n",
"r = 1.258e-010;    // Atomic radius of bcc structure of iron, m\n",
"a = 4*r/sqrt(3);    // Lattice parameter of bcc structure of iron, m\n",
"V = a^3;    // Volume of bcc unit cell, metre cube\n",
"N = 2;    // Number of atoms per unit cell in bcc structure\n",
"V_atom_bcc = V/N;    // Volume occupied by one atom, metre cube\n",
"// For fcc structure\n",
"r = 1.292e-010;    // Atomic radius of fcc structure of iron, m\n",
"a = 2*sqrt(2)*r;    // Lattice parameter of fcc structure of iron, m\n",
"V = a^3;    // Volume of fcc unit cell, metre cube\n",
"N = 4;    // Number of atoms per unit cell in fcc structure\n",
"V_atom_fcc = V/N;    // Volume occupied by one atom, metre cube\n",
"delta_V = (V_atom_bcc-V_atom_fcc)/V_atom_bcc*100;    // Percentage change in volume due to structural change of iron\n",
"printf('\nThe percentage change in volume of iron = %4.2f percent', delta_V);\n",
"\n",
"// Result \n",
"// The percentage change in volume of iron = 0.49 percent "
   ]
   }
,
{
		   "cell_type": "markdown",
		   "metadata": {},
		   "source": [
			"## Example 6.1: Lattice_parameter_of_NaCl_crystal.sci"
		   ]
		  },
  {
"cell_type": "code",
	   "execution_count": null,
	   "metadata": {
	    "collapsed": true
	   },
	   "outputs": [],
"source": [
"// Scilab Code Ex6.1 : Lattice parameter of NaCl crystal : Page-134 (2010)\n",
"M = 23+35.5;        // Molecular weight of NaCl, kg per k-mole\n",
"d = 2.18e+03;    // Density of rock salt, kg per metre cube\n",
"n = 4;    // No. of atoms per unit cell for an fcc lattice of NaCl crystal\n",
"N = 6.023D+26;    // Avogadro's No., atoms/k-mol\n",
"// Volume of the unit cell is given by\n",
"// a^3 = M*n/(N*d)\n",
"// Solving for a\n",
"a = (n*M/(d*N))^(1/3);    // Lattice constant of unit cell of NaCl\n",
"printf('\nLattice parameter for the NaCl crystal = %4.2f angstrom', a/1e-010);\n",
"\n",
"// Result \n",
"// Lattice parameter for the NaCl crystal = 5.63 angstrom "
   ]
   }
,
{
		   "cell_type": "markdown",
		   "metadata": {},
		   "source": [
			"## Example 6.2: Miller_indices_of_the_crystal_plane.sci"
		   ]
		  },
  {
"cell_type": "code",
	   "execution_count": null,
	   "metadata": {
	    "collapsed": true
	   },
	   "outputs": [],
"source": [
"// Scilab Code Ex6.2 : Miller indices of the crystal plane : Page-134 (2010)\n",
"m = 3; n = 2; p = 1; // Coefficients of intercepts along three axes\n",
"m_inv = 1/m;        // Reciprocate the first coefficient\n",
"n_inv = 1/n;        // Reciprocate the second coefficient\n",
"p_inv = 1/p;        // Reciprocate the third coefficient\n",
"mul_fact = double(lcm(int32([m,n,p]))); // Find l.c.m. of m,n and p\n",
"m1 = m_inv*mul_fact;    // Clear the first fraction\n",
"m2 = n_inv*mul_fact;    // Clear the second fraction\n",
"m3 = p_inv*mul_fact;    // Clear the third fraction\n",
"printf('\nThe required miller indices are : (%d %d %d) ', m1,m2,m3);\n",
"\n",
"// Result \n",
"// The required miller indices are : (2 3 6)  "
   ]
   }
,
{
		   "cell_type": "markdown",
		   "metadata": {},
		   "source": [
			"## Example 6.3: Indices_of_lattice_plane.sci"
		   ]
		  },
  {
"cell_type": "code",
	   "execution_count": null,
	   "metadata": {
	    "collapsed": true
	   },
	   "outputs": [],
"source": [
"// Scilab Code Ex6.3 : Indices of lattice plane : Page-135 (2010)\n",
"m = 2; // Coefficient of intercept along x-axis\n",
"n = %inf;    // Coefficient of intercept along y-axis\n",
"p = 3/2;    // Coefficient of intercept along z-axis\n",
"m_inv = 1/m;    // Reciprocate m\n",
"n_inv = 1/n;    // Reciprocate n\n",
"p_inv = 1/p;    // Reciprocate p\n",
"mul_fact = 6;    // multiplicative factor, L.C.M. of 2 and 3 i.e. 6\n",
"m1 = m_inv*mul_fact;    // Clear the first fraction\n",
"m2 = n_inv*mul_fact;    // Clear the second fraction\n",
"m3 = p_inv*mul_fact;    // Clear the third fraction\n",
"printf('\nThe required miller indices are : %d, %d, %d ', m1,m2,m3);\n",
"\n",
"// Result\n",
"// The required miller indices are : 3, 0, 4  "
   ]
   }
,
{
		   "cell_type": "markdown",
		   "metadata": {},
		   "source": [
			"## Example 6.5: Interplanar_spacing_in_cubic_crystal.sci"
		   ]
		  },
  {
"cell_type": "code",
	   "execution_count": null,
	   "metadata": {
	    "collapsed": true
	   },
	   "outputs": [],
"source": [
"// Scilab Code Ex6.5 : Interplanar spacing in cubic crystal: Page-136 (2010)\n",
"\n",
"// For (110) planes\n",
"h = 1; k = 1; l = 0; // Miller Indices for planes in a cubic crystal\n",
"a = 0.43e-009;    // Interatomic spacing, m\n",
"d = a/(h^2+k^2+l^2)^(1/2);  // The interplanar spacing for cubic crystals, m\n",
"printf('\nThe interplanar spacing between consecutive (110) planes = %4.2f angstrom', d/1e-010);\n",
"\n",
"// For (212) planes\n",
"h = 2; k = 1; l = 2; // Miller Indices for planes in a cubic crystal\n",
"a = 4.21D-10;    // Interatomic spacing, m\n",
"d = a/(h^2+k^2+l^2)^(1/2);  // The interplanar spacing for cubic crystals, m\n",
"printf('\nThe interplanar spacing between consecutive (212) planes = %4.3f angstrom', d/1e-010);\n",
"\n",
"// Result\n",
"// The interplanar spacing between consecutive (110) planes = 3.04 angstrom\n",
"// The interplanar spacing between consecutive (212) planes = 1.403 angstrom \n",
""
   ]
   }
,
{
		   "cell_type": "markdown",
		   "metadata": {},
		   "source": [
			"## Example 6.6: Interplanar_spacing_in_cubic_crystal.sci"
		   ]
		  },
  {
"cell_type": "code",
	   "execution_count": null,
	   "metadata": {
	    "collapsed": true
	   },
	   "outputs": [],
"source": [
"// Scilab Code Ex6.6 : Interplanar spacing in cubic crystal: Page-136 (2010)\n",
"h = 2; k = 3; l = 1; // Miller Indices for planes in a cubic crystal\n",
"r = 0.175e-009;    // Atomic radius of fcc lattice, m\n",
"a = 2*sqrt(2)*r;    // Interatomic spacing of fcc lattice, m\n",
"d = a/(h^2+k^2+l^2)^(1/2);  // The interplanar spacing for cubic crystals, m\n",
"printf('\nThe interplanar spacing between consecutive (231) planes = %4.2f ansgtrom', d/1e-010);\n",
"\n",
"// Result\n",
"// The interplanar spacing between consecutive (231) planes = 1.32 ansgtrom \n",
""
   ]
   }
,
{
		   "cell_type": "markdown",
		   "metadata": {},
		   "source": [
			"## Example 6.7: ngle_of_reflection_by_using_wavelength_of_X_ray.sci"
		   ]
		  },
  {
"cell_type": "code",
	   "execution_count": null,
	   "metadata": {
	    "collapsed": true
	   },
	   "outputs": [],
"source": [
"// Scilab Code Ex6.7 : Angle of reflection by using wavelength of X-ray:  Page-136 (2010)\n",
"lambda = 1.440e-010;    // Wavelength of X-rays, m\n",
"d = 2.8e-010;    // Interplanar spacing of rocksalt crystal, m\n",
"// 2*d*sin(theta) = n*lambda    **Bragg's law, n is the order of diffraction\n",
"// Solving for theta, we have\n",
"\n",
"// For Ist Order diffraction\n",
"n = 1;\n",
"theta = asind(n*lambda/(2*d));    // Angle of diffraction, degrees\n",
"printf('\nThe angle of reflection for first order diffraction = %4.1f degrees', theta);\n",
"\n",
"// For IInd Order diffraction\n",
"n = 2;\n",
"theta = asind(n*lambda/(2*d));    // Angle of diffraction, degrees\n",
"printf('\nThe angle of reflection for first order diffraction = %4.1f degrees', theta);\n",
"\n",
"// Result\n",
"// The angle of reflection for first order diffraction = 14.9 degrees\n",
"// The angle of reflection for first order diffraction = 30.9 degrees "
   ]
   }
,
{
		   "cell_type": "markdown",
		   "metadata": {},
		   "source": [
			"## Example 6.8: Actual_volume_occupied_by_the_spheres_in_fcc_structure.sci"
		   ]
		  },
  {
"cell_type": "code",
	   "execution_count": null,
	   "metadata": {
	    "collapsed": true
	   },
	   "outputs": [],
"source": [
"// Scilab Code Ex6.8 : Actual volume occupied by the spheres in fcc structure  Page-136 (2010)\n",
"N = 8*1/8 + 6*1/2;    // total number of spheres in a unit cell\n",
"a = 1;    // For convenience, assume interatomic spacing to be unity, m\n",
"r = a/(2*sqrt(2));    // The atomic radius, m\n",
"V_atom = N*4/3*%pi*r^3;    // Volume of atoms, metre cube\n",
"V_uc = a^3;    // Volume of unit cell, metre cube\n",
"printf('\nThe percentage of actual volume occupied by the spheres in fcc structure = %4.2f percent', V_atom/V_uc*100);\n",
"\n",
"// Result\n",
"// The percentage of actual volume occupied by the spheres in fcc structure = 74.05 percent  "
   ]
   }
,
{
		   "cell_type": "markdown",
		   "metadata": {},
		   "source": [
			"## Example 6.9: X_ray_Diffraction_by_crystal_planes.sci"
		   ]
		  },
  {
"cell_type": "code",
	   "execution_count": null,
	   "metadata": {
	    "collapsed": true
	   },
	   "outputs": [],
"source": [
"// Scilab Code Ex6.9 : X-ray Diffraction by crystal planes: Page-137 (2010)\n",
"// For (221) planes\n",
"h = 2; k = 2; l = 1; // Miller Indices for planes in a cubic crystal\n",
"a = 2.68e-010;    // Interatomic spacing, m\n",
"n = 1;    // First Order of diffraction \n",
"theta = 8.5;    // Glancing angle at which Bragg's reflection occurs, degrees\n",
"d = a/(h^2+k^2+l^2)^(1/2);  // The interplanar spacing for cubic crystal, m\n",
"lambda = 2*d*sind(theta);    // Bragg's Law for wavelength of X-rays, m\n",
"n = 2;    // Second order of diffraction\n",
"theta = asind(n*lambda/(2*d));    // Angle at which second order Bragg reflection occurs, degrees\n",
"printf('\nThe interplanar spacing between consecutive (221) planes = %5.3e', d);\n",
"printf('\nThe wavelength of X-rays = %5.3f angstrom', lambda/1e-010);\n",
"printf('\nThe angle at which second order Bragg reflection occurs = %4.1f degrees', theta);\n",
"\n",
"// Result\n",
"// The interplanar spacing between consecutive (221) planes = 8.933e-011\n",
"// The wavelength of X-rays = 0.264 angstrom\n",
"// The angle at which second order Bragg reflection occurs = 17.2 degrees "
   ]
   }
,
{
		   "cell_type": "markdown",
		   "metadata": {},
		   "source": [
			"## Example 7.1: Variation_of_critical_magnetic_field_with_temperature.sci"
		   ]
		  },
  {
"cell_type": "code",
	   "execution_count": null,
	   "metadata": {
	    "collapsed": true
	   },
	   "outputs": [],
"source": [
"// Scilab Code Ex7.1 : Variation of critical magnetic field with temperature : Page-152 (2010)\n",
"T_c = 3.722;    // Critical temperature of superconducting transition, kelvin\n",
"B_c0 = 0.0306;    // Critical magnetic field to destroy superconductivity, tesla\n",
"T = 2;    // Temperature at which critical magnetic field is to be found out, kelvin\n",
"B_cT = B_c0*(1-(T/T_c)^2);\n",
"printf('\nThe critical magnetic field at %d K = %6.4f T', T, B_cT);\n",
"\n",
"// Result \n",
"// The critical magnetic field at 2 K = 0.0218 T s"
   ]
   }
],
"metadata": {
		  "kernelspec": {
		   "display_name": "Scilab",
		   "language": "scilab",
		   "name": "scilab"
		  },
		  "language_info": {
		   "file_extension": ".sce",
		   "help_links": [
			{
			 "text": "MetaKernel Magics",
			 "url": "https://github.com/calysto/metakernel/blob/master/metakernel/magics/README.md"
			}
		   ],
		   "mimetype": "text/x-octave",
		   "name": "scilab",
		   "version": "0.7.1"
		  }
		 },
		 "nbformat": 4,
		 "nbformat_minor": 0
}
