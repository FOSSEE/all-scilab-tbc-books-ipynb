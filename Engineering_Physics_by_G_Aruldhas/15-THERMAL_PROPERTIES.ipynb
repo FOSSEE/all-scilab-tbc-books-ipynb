{
"cells": [
 {
		   "cell_type": "markdown",
	   "metadata": {},
	   "source": [
       "# Chapter 15: THERMAL PROPERTIES"
	   ]
	},
{
		   "cell_type": "markdown",
		   "metadata": {},
		   "source": [
			"## Example 15.1: Debye_temperature_of_aluminium.sci"
		   ]
		  },
  {
"cell_type": "code",
	   "execution_count": null,
	   "metadata": {
	    "collapsed": true
	   },
	   "outputs": [],
"source": [
"// Scilab Code Ex15.1: Page-323 (2010)\n",
"k = 1.38e-023;    // Boltzmann constant, J/K\n",
"h = 6.626e-034;    // Planck's constant, Js\n",
"f_D = 64e+011;    // Debye frequency for Al, Hz\n",
"theta_D = h*f_D/k;    // Debye temperature, K\n",
"printf('\nThe Debye temperature of aluminium = %5.1f K', theta_D);\n",
"\n",
"// Result\n",
"// The Debye temperature of aluminium = 307.3 K "
   ]
   }
,
{
		   "cell_type": "markdown",
		   "metadata": {},
		   "source": [
			"## Example 15.2: Lattice_specific_heat_of_carbo.sci"
		   ]
		  },
  {
"cell_type": "code",
	   "execution_count": null,
	   "metadata": {
	    "collapsed": true
	   },
	   "outputs": [],
"source": [
"// Scilab Code Ex15.2: Page-323 (2010)\n",
"N = 6.02e+026;    // Avogadro's number, per kmol\n",
"k = 1.38e-023;    // Boltzmann constant, J/K\n",
"h = 6.626e-034;    // Planck's constant, Js\n",
"f_D = 40.5e+012;    // Debye frequency for Al, Hz\n",
"T = 30;    // Temperature of carbon, Ks\n",
"theta_D = h*f_D/k;    // Debye temperature, K\n",
"C_l = 12/5*%pi^4*N*k*(T/theta_D)^3;    // Lattice specific heat of carbon, J/k-mol/K\n",
"printf('\nThe lattice specific heat of carbon = %4.2f J/k-mol/K', C_l);\n",
"\n",
"// Result\n",
"// The lattice specific heat of carbon = 7.13 J/k-mol/K "
   ]
   }
,
{
		   "cell_type": "markdown",
		   "metadata": {},
		   "source": [
			"## Example 15.3: Einstein_frequency_for_Cu.sci"
		   ]
		  },
  {
"cell_type": "code",
	   "execution_count": null,
	   "metadata": {
	    "collapsed": true
	   },
	   "outputs": [],
"source": [
"// Scilab Code Ex15.3: Page-323 (2010)\n",
"k = 1.38e-023;    // Boltzmann constant, J/K\n",
"h = 6.626e-034;    // Planck's constant, Js\n",
"theta_E = 1990;    // Einstein temperature of Cu, K\n",
"f_E = k*theta_E/h;    // Einstein frequency for Cu, K\n",
"printf('\nThe Einstein frequency for Cu = %4.2e Hz', f_E);\n",
"printf('\nThe frequency falls in the near infrared region');\n",
"\n",
"// Result\n",
"// The Einstein frequency for Cu = 4.14e+013 Hz\n",
"// The frequency falls in the near infrared region "
   ]
   }
,
{
		   "cell_type": "markdown",
		   "metadata": {},
		   "source": [
			"## Example 15.4: Electronic_and_lattice_heat_capacities_for_Cu.sci"
		   ]
		  },
  {
"cell_type": "code",
	   "execution_count": null,
	   "metadata": {
	    "collapsed": true
	   },
	   "outputs": [],
"source": [
"// Scilab Code Ex15.4: Page-323 (2010)\n",
"e = 1.6e-019;   // Energy equivalent of 1 eV, J/eV\n",
"N = 6.02e+023;    // Avogadro's number, per mol\n",
"T = 0.05;    // Temperature of Cu, K\n",
"E_F = 7;    // Fermi energy of Cu, eV\n",
"k = 1.38e-023;    // Boltzmann constant, J/K\n",
"h = 6.626e-034;    // Planck's constant, Js\n",
"theta_D = 348;    // Debye temperature of Cu, K\n",
"C_e = %pi^2*N*k^2*T/(2*E_F*e);    // Electronic heat capacity of Cu, J/mol/K\n",
"C_V = 12/5*%pi^4*N*k*(T/theta_D)^3; // Lattice heat capacity of Cu, J/mol/K\n",
"printf('\nThe electronic heat capacity of Cu = %4.2e J/mol/K', C_e);\n",
"printf('\nThe lattice heat capacity of Cu = %4.2e J/mol/K', C_V);\n",
"\n",
"// Result\n",
"// The electronic heat capacity of Cu = 2.53e-005 J/mol/K\n",
"// The lattice heat capacity of Cu = 5.76e-009 J/mol/K "
   ]
   }
,
{
		   "cell_type": "markdown",
		   "metadata": {},
		   "source": [
			"## Example 15.5: Einstein_lattice_specific_heat.sci"
		   ]
		  },
  {
"cell_type": "code",
	   "execution_count": null,
	   "metadata": {
	    "collapsed": true
	   },
	   "outputs": [],
"source": [
"// Scilab Code Ex15.5: Page-324 (2010)\n",
"T = 1;    // For simplicity assume temperature to be unity, K\n",
"R = 1;    // For simplicity assume molar gas constant to be unity, J/mol/K\n",
"theta_E = T;    // Einstein temperature, K\n",
"C_V = 3*R*(theta_E/T)^2*exp(theta_E/T)/(exp(theta_E/T)-1)^2;    // Einstein lattice specific heat, J/mol/K\n",
"printf('\nThe Einstein lattice specific heat, C_v = %4.2f X 3R', C_V/3);\n",
"\n",
"// Result\n",
"// The Einstein lattice specific heat, C_v = 0.92 X 3R"
   ]
   }
,
{
		   "cell_type": "markdown",
		   "metadata": {},
		   "source": [
			"## Example 15.6: Molar_electronic_heat_capacity_of_zinc.sci"
		   ]
		  },
  {
"cell_type": "code",
	   "execution_count": null,
	   "metadata": {
	    "collapsed": true
	   },
	   "outputs": [],
"source": [
"// Scilab Code Ex15.6: Page-324 (2010)\n",
"e = 1.6e-019;    // Energy equivalent of 1 eV, J/eV\n",
"v = 2;    // Valency of Zn atom\n",
"N = v*6.02e+023;    // Avogadro's number, per mol\n",
"T = 300;    // Temperature of Zn, K\n",
"E_F = 9.38;    // Fermi energy of Zn, eV\n",
"k = 1.38e-023;    // Boltzmann constant, J/K\n",
"h = 6.626e-034;    // Planck's constant, Js\n",
"C_e = %pi^2*N*k^2*T/(2*E_F*e);    // Electronic heat capacity of Zn, J/mol/K\n",
"printf('\nThe molar electronic heat capacity of zinc = %5.3f J/mol/K', C_e);\n",
"\n",
"// Result\n",
"// The molar electronic heat capacity of zinc = 0.226 J/mol/K "
   ]
   }
],
"metadata": {
		  "kernelspec": {
		   "display_name": "Scilab",
		   "language": "scilab",
		   "name": "scilab"
		  },
		  "language_info": {
		   "file_extension": ".sce",
		   "help_links": [
			{
			 "text": "MetaKernel Magics",
			 "url": "https://github.com/calysto/metakernel/blob/master/metakernel/magics/README.md"
			}
		   ],
		   "mimetype": "text/x-octave",
		   "name": "scilab",
		   "version": "0.7.1"
		  }
		 },
		 "nbformat": 4,
		 "nbformat_minor": 0
}
