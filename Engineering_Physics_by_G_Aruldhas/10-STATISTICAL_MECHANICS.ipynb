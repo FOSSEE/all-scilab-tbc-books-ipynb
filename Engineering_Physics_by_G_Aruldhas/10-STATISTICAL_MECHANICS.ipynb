{
"cells": [
 {
		   "cell_type": "markdown",
	   "metadata": {},
	   "source": [
       "# Chapter 10: STATISTICAL MECHANICS"
	   ]
	},
{
		   "cell_type": "markdown",
		   "metadata": {},
		   "source": [
			"## Example 10.1: Ratio_of_occupancy_of_two_states.sci"
		   ]
		  },
  {
"cell_type": "code",
	   "execution_count": null,
	   "metadata": {
	    "collapsed": true
	   },
	   "outputs": [],
"source": [
"// Scilab Code Ex10.1: Page-222 (2010)\n",
"k = 1.38e-023;    // Boltzmann constant, J/K\n",
"e = 1.6e-019;    // Energy equivalent of 1 eV, J/eV\n",
"g1 = 2;    // The degeneracy of ground state\n",
"g2 = 8;    // The degeneracy of excited state\n",
"delta_E = 10.2;    // Energy of excited state above the ground state, eV\n",
"T = 6000;    // Temperature of the state, K\n",
"D_ratio = g2/g1;    // Ratio of degeneracy of states\n",
"N_ratio = D_ratio*exp(-delta_E/(k*T/e));    // Ratio of occupancy of the excited to the ground state\n",
"printf('\nThe ratio of occupancy of the excited to the ground state at %d K = %4.2e', T, N_ratio);\n",
"\n",
"// Result\n",
"// The ratio of occupancy of the excited to the ground state at 6000 K = 1.10e-008 "
   ]
   }
,
{
		   "cell_type": "markdown",
		   "metadata": {},
		   "source": [
			"## Example 10.4: Number_density_and_fermi_energy_of_silver.sci"
		   ]
		  },
  {
"cell_type": "code",
	   "execution_count": null,
	   "metadata": {
	    "collapsed": true
	   },
	   "outputs": [],
"source": [
"// Scilab Code Ex10.4: Page-223 (2010)\n",
"e = 1.6e-019;    // Energy equivalent of 1 eV, J/eV\n",
"N_A = 6.023e+023;    // Avogadro's number\n",
"h = 6.626e-034;    // Planck's constant, Js\n",
"me = 9.1e-031;    // Mass of electron, kg\n",
"rho = 10.5;    // Density of silver, g per cm\n",
"m = 108;    // Molecular mass of silver, g/mol\n",
"N_D = rho*N_A/(m*1e-006);    // Number density of conduction electrons, per metre cube\n",
"E_F = h^2/(8*me)*(3/%pi*N_D)^(2/3);\n",
"printf('\nThe number density of conduction electrons = %4.2e per metre cube', N_D);\n",
"printf('\nThe Fermi energy of silver = %4.2f eV', E_F/e);\n",
"\n",
"// Result\n",
"// The number density of conduction electrons = 5.86e+028 per metre cube\n",
"// The Fermi energy of silver = 5.51 eV "
   ]
   }
,
{
		   "cell_type": "markdown",
		   "metadata": {},
		   "source": [
			"## Example 10.5: Electronic_contribution_to_the_molar_heat_capacity_of_silver.sci"
		   ]
		  },
  {
"cell_type": "code",
	   "execution_count": null,
	   "metadata": {
	    "collapsed": true
	   },
	   "outputs": [],
"source": [
"// Scilab Code Ex10.5: Page-224 (2010)\n",
"N_A = 6.023e+023;    // Avogadro's number\n",
"k = 1.38e-023;    // Boltzmann constant, J/K\n",
"T = 293;    // Temperature of sodium, K\n",
"E_F = 3.24;    // Fermi energy of sodium, eV\n",
"e = 1.6e-019;    // Energy equivalent of 1 eV, J/eV\n",
"C_v = %pi^2*N_A*k^2*T/(2*E_F*e);    // Molar specific heat of sodium, J/mole/K\n",
"printf('\nThe molar specific heat of sodium = %4.2f J/mole/K', C_v);\n",
"\n",
"// Result\n",
"// The molar specific heat of sodium = 0.32 J/mole/K"
   ]
   }
,
{
		   "cell_type": "markdown",
		   "metadata": {},
		   "source": [
			"## Example 10.6: Fermi_energy_and_mean_energy_of_aluminium.sci"
		   ]
		  },
  {
"cell_type": "code",
	   "execution_count": null,
	   "metadata": {
	    "collapsed": true
	   },
	   "outputs": [],
"source": [
"// Scilab Code Ex10.6: Page-224 (2010)\n",
"e = 1.6e-019;   // Energy equivalent of 1 eV, J/eV\n",
"h = 6.626e-034;    // Planck's constant, Js\n",
"m = 9.1e-031;    // Mass of the electron, kg\n",
"N_D = 18.1e+028;    // Number density of conduction electrons in Al, per metre cube\n",
"E_F = h^2/(8*m)*(3/%pi*N_D)^(2/3);    // Fermi energy of aluminium, J\n",
"Em_0 = 3/5*E_F;    // Mean energy of  the electron at 0K, J\n",
"printf('\nThe Fermi energy of aluminium = %5.2f eV', E_F/e);\n",
"printf('\nThe mean energy of  the electron at 0K = %4.2f eV', Em_0/e);\n",
"\n",
"// Result\n",
"// The Fermi energy of aluminium = 11.70 eV\n",
"// The mean energy of  the electron at 0K = 7.02 eV "
   ]
   }
],
"metadata": {
		  "kernelspec": {
		   "display_name": "Scilab",
		   "language": "scilab",
		   "name": "scilab"
		  },
		  "language_info": {
		   "file_extension": ".sce",
		   "help_links": [
			{
			 "text": "MetaKernel Magics",
			 "url": "https://github.com/calysto/metakernel/blob/master/metakernel/magics/README.md"
			}
		   ],
		   "mimetype": "text/x-octave",
		   "name": "scilab",
		   "version": "0.7.1"
		  }
		 },
		 "nbformat": 4,
		 "nbformat_minor": 0
}
