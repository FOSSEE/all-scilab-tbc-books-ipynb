{
"cells": [
 {
		   "cell_type": "markdown",
	   "metadata": {},
	   "source": [
       "# Chapter 2: ELECTROMAGNETIC THEORY"
	   ]
	},
{
		   "cell_type": "markdown",
		   "metadata": {},
		   "source": [
			"## Example 2.1: Peak_value_of_displacement_current.sci"
		   ]
		  },
  {
"cell_type": "code",
	   "execution_count": null,
	   "metadata": {
	    "collapsed": true
	   },
	   "outputs": [],
"source": [
"// Scilab Code Ex2.1 :  Page-46 (2010)\n",
"function V = f(t)\n",
"    V = 0.2*sin(120*%pi*t);\n",
"endfunction\n",
"t = 0;    // Time when peak value of current occurs\n",
"C = 10e-012;    // Capacitance of the capacitor, farad\n",
"I = C*derivative(f,t);\n",
"printf('\nThe peak value of displacement current = %6.4e A', I);\n",
"\n",
"// Result \n",
"// The peak value of displacement current = 7.5398e-010 A"
   ]
   }
,
{
		   "cell_type": "markdown",
		   "metadata": {},
		   "source": [
			"## Example 2.2: Displacement_current_density_in_a_good_conductor.sci"
		   ]
		  },
  {
"cell_type": "code",
	   "execution_count": null,
	   "metadata": {
	    "collapsed": true
	   },
	   "outputs": [],
"source": [
"// Scilab Code Ex2.2 : Page-46 (2010)\n",
"function E = fn(t)\n",
"    E = sin(120*%pi*t);\n",
"endfunction\n",
"epsilon_r = 1;    // Relative electrical permittivity of free space\n",
"epsilon_0 = 8.854e-012;    // Absolute electrical permittivity of free space, farad per metre\n",
"t = 0;    // Time when peak value of current occurs\n",
"J2 = epsilon_0*epsilon_r*derivative(fn,t);\n",
"printf('\nThe peak value of displacement current = %4.2e ampere per metre square', J2);\n",
"\n",
"// Result \n",
"// The peak value of displacement current = 3.34e-009 ampere per metre square"
   ]
   }
,
{
		   "cell_type": "markdown",
		   "metadata": {},
		   "source": [
			"## Example 2.4: Poynting_vector.sci"
		   ]
		  },
  {
"cell_type": "code",
	   "execution_count": null,
	   "metadata": {
	    "collapsed": true
	   },
	   "outputs": [],
"source": [
"// Scilab Code Ex2.4 : Page-47 (2010)\n",
"p = 60;    // Power rating of bulb, watt\n",
"d = 0.5;    // Distance from the blb, m\n",
"P = p/(4*%pi*d^2);    // Value of Poynting vector, watt per metre square\n",
"printf('\nThe value of Poynting vector = %4.1f watt per metre square', P);\n",
"\n",
"// Result \n",
"// The value of Poynting vector = 19.1 watt per metre square "
   ]
   }
,
{
		   "cell_type": "markdown",
		   "metadata": {},
		   "source": [
			"## Example 2.5: Plane_electromagnetic_wave_in_a_medium.sci"
		   ]
		  },
  {
"cell_type": "code",
	   "execution_count": null,
	   "metadata": {
	    "collapsed": true
	   },
	   "outputs": [],
"source": [
"// Scilab Code Ex2.5 : Page-47 (2010)\n",
"E_peak = 6;    // Peak value of electric field intensity, V/m\n",
"c = 3e+08;    // Speed of electromagnetic wave in free space, m/s\n",
"mu_0 = 4*%pi*1e-07;    // Absolute permeability of free space, tesla metre per ampere\n",
"epsilon_0 = 8.854e-012;    // Absolute permittivity of free space, farad/m\n",
"mu_r = 1;    // Relative permeability of medium\n",
"epsilon_r = 3;    // Relative permittivity of the medium\n",
"v = c/sqrt(mu_r*epsilon_r);    // Wave velocity, m/s\n",
"eta = sqrt((mu_0/epsilon_0)*(mu_r/epsilon_r));    // Intrinsic impedance of the medium, ohm\n",
"H_P = E_peak*sqrt((epsilon_0*epsilon_r)/(mu_0*mu_r));    // Peak value of the magnetic intensity, ampere per metre\n",
"printf('\nThe wave velocity = %5.3e m/s', v);\n",
"printf('\nThe intrinsic impedance of the medium = %6.2f ohm', eta);\n",
"printf('\nThe peak value of the magnetic intensity = %4.2e A/m', H_P);\n",
"\n",
"// Result \n",
"// The wave velocity = 1.732e+008 m/s\n",
"// The intrinsic impedance of the medium = 217.51 ohm\n",
"// The peak value of the magnetic intensity = 2.76e-002 A/m "
   ]
   }
],
"metadata": {
		  "kernelspec": {
		   "display_name": "Scilab",
		   "language": "scilab",
		   "name": "scilab"
		  },
		  "language_info": {
		   "file_extension": ".sce",
		   "help_links": [
			{
			 "text": "MetaKernel Magics",
			 "url": "https://github.com/calysto/metakernel/blob/master/metakernel/magics/README.md"
			}
		   ],
		   "mimetype": "text/x-octave",
		   "name": "scilab",
		   "version": "0.7.1"
		  }
		 },
		 "nbformat": 4,
		 "nbformat_minor": 0
}
