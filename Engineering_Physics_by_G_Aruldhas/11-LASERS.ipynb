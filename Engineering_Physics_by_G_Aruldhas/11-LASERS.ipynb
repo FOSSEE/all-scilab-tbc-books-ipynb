{
"cells": [
 {
		   "cell_type": "markdown",
	   "metadata": {},
	   "source": [
       "# Chapter 11: LASERS"
	   ]
	},
{
		   "cell_type": "markdown",
		   "metadata": {},
		   "source": [
			"## Example 11.1: Ratio_of_spontaneous_and_stimulated_emission.sci"
		   ]
		  },
  {
"cell_type": "code",
	   "execution_count": null,
	   "metadata": {
	    "collapsed": true
	   },
	   "outputs": [],
"source": [
"// Scilab Code Ex11.1: Page-249 (2010)\n",
"h = 6.626e-034;    // Planck's constant, Js\n",
"c = 3e+08;    // Speed of light in free space, m/s\n",
"k = 1.38e-023;    // Boltzmann constant, J/K\n",
"T = 300;    // Temperature at absolute scale, K\n",
"lambda = 5500e-010;    // Wavelength of visible light, m\n",
"rate_ratio = exp(h*c/(lambda*k*T))-1;    // Ratio of spontaneous emission to stimulated emission\n",
"printf('\nThe ratio of spontaneous emission to stimulated emission for visible region = %1.0e', rate_ratio);\n",
"lambda = 1e-02;    // Wavelength of microwave, m\n",
"rate_ratio = exp(h*c/(lambda*k*T))-1;    // Ratio of spontaneous emission to stimulated emission\n",
"printf('\nThe ratio of spontaneous emission to stimulated emission for microwave region = %6.4f', rate_ratio);\n",
"\n",
"// Result\n",
"// The ratio of spontaneous emission to stimulated emission for visible region = 8e+037\n",
"// The ratio of spontaneous emission to stimulated emission for microwave region = 0.0048"
   ]
   }
,
{
		   "cell_type": "markdown",
		   "metadata": {},
		   "source": [
			"## Example 11.2: Energy_of_excited_state_of_laser_system.sci"
		   ]
		  },
  {
"cell_type": "code",
	   "execution_count": null,
	   "metadata": {
	    "collapsed": true
	   },
	   "outputs": [],
"source": [
"// Scilab Code Ex11.2: Page-250 (2010)\n",
"e = 1.6e-019;   // Energy equivalent of 1 eV, J/eV\n",
"h = 6.626e-034;    // Planck's constant, Js\n",
"c = 3e+08;    // Speed of light in free space, m/s\n",
"lambda = 690e-009;    // Wavelength of laser light, m\n",
"E_lower = 30.5;    // Energy of lower state, eV\n",
"E = h*c/(lambda*e);    // Energy of the laser light, eV\n",
"E_ex = E_lower + E;    // Energy of excited state of laser system, eV\n",
"printf('\nThe energy of excited state of laser system = %4.1f eV', E_ex);\n",
"\n",
"// Result\n",
"// The energy of excited state of laser system = 32.3 eV"
   ]
   }
,
{
		   "cell_type": "markdown",
		   "metadata": {},
		   "source": [
			"## Example 11.3: Condition_of_equivalence_of_stimulated_and_spontaneous_emission.sci"
		   ]
		  },
  {
"cell_type": "code",
	   "execution_count": null,
	   "metadata": {
	    "collapsed": true
	   },
	   "outputs": [],
"source": [
"// Scilab Code Ex11.3: Page-250 (2010)\n",
"h = 6.626e-034;    // Planck's constant, Js\n",
"k = 1.38e-023;    // Boltzmann constant, J/K\n",
"// Stimulated Emission = Spontaneous Emission <=> exp(h*f/(k*T))-1 = 1 i.e.\n",
"// f/T = log(2)*k/h = A\n",
"A =  log(2)*k/h;    // Frequency per unit temperature, Hz/K\n",
"printf('\nThe stimulated emission equals spontaneous emission iff f/T = %4.2e Hz/K', A);\n",
"\n",
"// Result\n",
"// The stimulated emission equals spontaneous emission iff f/T = 1.44e+010 Hz/K "
   ]
   }
,
{
		   "cell_type": "markdown",
		   "metadata": {},
		   "source": [
			"## Example 11.4: Area_and_intensity_of_image_formed_by_laser.sci"
		   ]
		  },
  {
"cell_type": "code",
	   "execution_count": null,
	   "metadata": {
	    "collapsed": true
	   },
	   "outputs": [],
"source": [
"// Scilab Code Ex11.4: Page-250 (2010)\n",
"lambda = 500e-009;    // Wavelength of laser light, m\n",
"f = 15e-02;    // Focal length of the lens, m\n",
"d = 2e-02;    // Diameter of the aperture of source, m\n",
"a = d/2;    // Radius of the aperture of source, m\n",
"P = 5e-003;    // Power of the laser, W\n",
"A = %pi*lambda^2*f^2/a^2;    // Area of the spot at the focal plane, metre square\n",
"I = P/A;    // Intensity at the focus, W per metre square    \n",
"printf('\nThe area of the spot at the focal plane = %4.2e metre square', A);\n",
"printf('\nThe intensity at the focus = %4.2e watt per metre square', I);\n",
"\n",
"// Result\n",
"// The area of the spot at the focal plane = 1.77e-010 metre square\n",
"// The intensity at the focus = 2.83e+007 watt per metre square "
   ]
   }
,
{
		   "cell_type": "markdown",
		   "metadata": {},
		   "source": [
			"## Example 11.5: Rate_of_energy_released_in_a_pulsed_laser.sci"
		   ]
		  },
  {
"cell_type": "code",
	   "execution_count": null,
	   "metadata": {
	    "collapsed": true
	   },
	   "outputs": [],
"source": [
"// Scilab Code Ex11.5: Page-251 (2010)\n",
"h = 6.626e-034;    // Planck's constant, Js\n",
"c = 3e+08;    // Speed of light in free space, m/s\n",
"lambda = 1064e-009;    // Wavelength of laser light, m\n",
"P = 0.8;    // Average power output per laser pulse, W\n",
"dt = 25e-003;    // Pulse width of laser, s\n",
"E = P*dt;    // Energy released per pulse, J\n",
"N = E/(h*c/lambda);    // Number of photons in a pulse\n",
"printf('\nThe energy released per pulse = %2.0e J', E);\n",
"printf('\nThe number of photons in a pulse = %4.2e', N);\n",
"\n",
"// Result\n",
"// The energy released per pulse = 2e-002 J\n",
"// The number of photons in a pulse = 1.07e+017 "
   ]
   }
,
{
		   "cell_type": "markdown",
		   "metadata": {},
		   "source": [
			"## Example 11.6: Angular_and_linear_spread_of_laser_beam.sci"
		   ]
		  },
  {
"cell_type": "code",
	   "execution_count": null,
	   "metadata": {
	    "collapsed": true
	   },
	   "outputs": [],
"source": [
"// Scilab Code Ex11.6:Page-251 (2010)\n",
"lambda = 693e-009;    // Wavelength of laser beam, m\n",
"D = 3e-003;    // Diameter of laser beam, m\n",
"d_theta = 1.22*lambda/D;    // Angular spread of laser beam, rad\n",
"d = 300e+003;    // Height of a satellite above the surface of earth, m\n",
"a = d_theta*d;    // Diameter of the beam on the satellite, m\n",
"printf('\nThe height of a satellite above the surface of earth = %4.2e rad', d_theta);\n",
"printf('\nThe diameter of the beam on the satellite = %4.1f m', a);\n",
"\n",
"// Result\n",
"// The height of a satellite above the surface of earth = 2.82e-004 rad\n",
"// The diameter of the beam on the satellite = 84.5 m "
   ]
   }
],
"metadata": {
		  "kernelspec": {
		   "display_name": "Scilab",
		   "language": "scilab",
		   "name": "scilab"
		  },
		  "language_info": {
		   "file_extension": ".sce",
		   "help_links": [
			{
			 "text": "MetaKernel Magics",
			 "url": "https://github.com/calysto/metakernel/blob/master/metakernel/magics/README.md"
			}
		   ],
		   "mimetype": "text/x-octave",
		   "name": "scilab",
		   "version": "0.7.1"
		  }
		 },
		 "nbformat": 4,
		 "nbformat_minor": 0
}
