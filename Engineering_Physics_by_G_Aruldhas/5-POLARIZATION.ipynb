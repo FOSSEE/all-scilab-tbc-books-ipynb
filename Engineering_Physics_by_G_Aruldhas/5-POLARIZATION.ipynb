{
"cells": [
 {
		   "cell_type": "markdown",
	   "metadata": {},
	   "source": [
       "# Chapter 5: POLARIZATION"
	   ]
	},
{
		   "cell_type": "markdown",
		   "metadata": {},
		   "source": [
			"## Example 5.1: Polarization_by_reflection.sci"
		   ]
		  },
  {
"cell_type": "code",
	   "execution_count": null,
	   "metadata": {
	    "collapsed": true
	   },
	   "outputs": [],
"source": [
"// Scilab Code Ex5.1 : Polarization by reflection: Page-113 (2010)\n",
"mu_g = 1.72;    // Refractive index of glass\n",
"mu_w = 4/3;    // Refractive index of water\n",
"// For polarization to occur on flint glass, tan(i) = mu_g/mu_w\n",
"// Solving for i\n",
"i = atand(mu_g/mu_w);\n",
"printf('\nThe angle of incidence for complete polarization to occur on flint glass = %4.1f degrees', i);\n",
"// For polarization to occur on water, tan(i) = mu_w/mu_g\n",
"// Solving for i\n",
"i = atand(mu_w/mu_g);\n",
"printf('\nThe angle of incidence for complete polarization to occur on water = %5.2f degrees', i);\n",
"\n",
"// Result \n",
"// The angle of incidence for complete polarization to occur on flint glass = 52.2 degrees\n",
"// The angle of incidence for complete polarization to occur on water = 37.78 degrees "
   ]
   }
,
{
		   "cell_type": "markdown",
		   "metadata": {},
		   "source": [
			"## Example 5.2: Percentage_transmission_of_polarized_light.sci"
		   ]
		  },
  {
"cell_type": "code",
	   "execution_count": null,
	   "metadata": {
	    "collapsed": true
	   },
	   "outputs": [],
"source": [
"// Scilab Code Ex5.2 : Percentage transmission of polarized light: Page-113 (2010)\n",
"I0 = 1;    // For simplicity, we assume the intensity of light falling on the second Nicol prism to be unity, watt per metre square\n",
"theta = 30;    // Angle through which the crossed Nicol is rotated, degrees\n",
"I = I0*cosd(90-theta)^2;    // Intensity of the emerging light from second Nicol, watt per metre square\n",
"T = I/(2*I0)*100;    // Percentage transmission of incident light\n",
"printf('\nThe percentage transmission of incident light after emerging through the Nicol prism = %4.1f percent', T);\n",
"\n",
"// Result \n",
"// The percentage transmission of incident light after emerging through the Nicol prism = 12.5 percent "
   ]
   }
,
{
		   "cell_type": "markdown",
		   "metadata": {},
		   "source": [
			"## Example 5.3: Thickness_of_Quarter_Wave_Plate.sci"
		   ]
		  },
  {
"cell_type": "code",
	   "execution_count": null,
	   "metadata": {
	    "collapsed": true
	   },
	   "outputs": [],
"source": [
"// Scilab Code Ex5.3 : Thickness of Quarter Wave Plate : Page-113 (2010)\n",
"lambda = 6000e-008;    // Wavelength of incident light, cm\n",
"mu_e = 1.55;    // Refractive index of extraordinary ray\n",
"mu_o = 1.54;    // Refractive index of ordinary ray\n",
"t = lambda/(4*(mu_e - mu_o));    // Thickness of Quarter Wave plate of positive crystal, cm\n",
"printf('\nThe thickness of Quarter Wave plate = %6.4f cm', t);\n",
"\n",
"// Result \n",
"// The thickness of Quarter Wave plate = 0.0015 cm"
   ]
   }
,
{
		   "cell_type": "markdown",
		   "metadata": {},
		   "source": [
			"## Example 5.4: Behaviour_of_half_wave_plate_for_increased_wavelength.sci"
		   ]
		  },
  {
"cell_type": "code",
	   "execution_count": null,
	   "metadata": {
	    "collapsed": true
	   },
	   "outputs": [],
"source": [
"// Scilab Code Ex5.4 : Behaviour of half wave plate for increased wavelength : Page-114 (2010)\n",
"lambda = 1;    // For simplicity, wavelength of incident light is assumed to be , cm\n",
"mu_e = 1.55;    // Refractive index of extraordinary ray\n",
"mu_o = 1.54;    // Refractive index of ordinary ray\n",
"t = lambda/(2*(mu_e - mu_o));    // Thickness of Half Wave plate for given lambda, cm\n",
"t_prime = 2*lambda/(2*(mu_e - mu_o));  // Thickness of Half Wave plate for twice lambda, cm\n",
"printf('\nThe thickness of half wave plate is %2.1f times that of the quarter wave plate.', t/t_prime);\n",
"printf('\nThe half wave plate behaves as a quarter wave plate for twice the wavelength of incident light.');\n",
"\n",
"// Result \n",
"// The thickness of half wave plate is 0.5 times that of the quarter wave plate.\n",
"// The half wave plate behaves as a quarter wave plate for twice the wavelength of incident light."
   ]
   }
,
{
		   "cell_type": "markdown",
		   "metadata": {},
		   "source": [
			"## Example 5.5: Phase_retardation_for_quartz.sci"
		   ]
		  },
  {
"cell_type": "code",
	   "execution_count": null,
	   "metadata": {
	    "collapsed": true
	   },
	   "outputs": [],
"source": [
"// Scilab Code Ex5.5 : Phase retardation for quartz : Page-114 (2010)\n",
"lambda = 500e-09;    // Wavelength of incident light, m\n",
"mu_e = 1.5508;    // Refractive index of extraordinary ray\n",
"mu_o = 1.5418;    // Refractive index of ordinary ray\n",
"t = 0.032e-03;    // Thickness of quartz plate, m\n",
"dx = (mu_e - mu_o)*t;    // Path difference between E-ray and O-ray, m\n",
"dphi = (2*%pi)/lambda*dx;    // Phase retardation for quartz for given wavelength, rad\n",
"printf('\nThe phase retardation for quartz for given wavelength = %5.3f pi rad', dphi/%pi);\n",
"\n",
"// Result \n",
"// The phase retardation for quartz for given wavelength = 1.152 pi rad"
   ]
   }
,
{
		   "cell_type": "markdown",
		   "metadata": {},
		   "source": [
			"## Example 5.6: Brewster_angle_at_the_boundary_between_two_materials.sci"
		   ]
		  },
  {
"cell_type": "code",
	   "execution_count": null,
	   "metadata": {
	    "collapsed": true
	   },
	   "outputs": [],
"source": [
"// Scilab Code Ex5.6 : Brewster angle at the boundary between two materials : Page-114 (2010)\n",
"C = 52;    // Critical angle for total internal reflection at a boundary between two materials, degrees\n",
"// From Brewster's law, tand(i_B) = 1_mu_2\n",
"// Also sind(C) = 1_mu_2, so that\n",
"// tand(i_B) = sind(C), solving for i_B\n",
"i_B = atand(sind(C));    // Brewster angle at the boundary, degrees\n",
"printf('\nThe Brewster angle at the boundary between two materials = %2d degrees', i_B);\n",
"\n",
"// Result \n",
"// The Brewster angle at the boundary between two materials = 38 degrees "
   ]
   }
],
"metadata": {
		  "kernelspec": {
		   "display_name": "Scilab",
		   "language": "scilab",
		   "name": "scilab"
		  },
		  "language_info": {
		   "file_extension": ".sce",
		   "help_links": [
			{
			 "text": "MetaKernel Magics",
			 "url": "https://github.com/calysto/metakernel/blob/master/metakernel/magics/README.md"
			}
		   ],
		   "mimetype": "text/x-octave",
		   "name": "scilab",
		   "version": "0.7.1"
		  }
		 },
		 "nbformat": 4,
		 "nbformat_minor": 0
}
