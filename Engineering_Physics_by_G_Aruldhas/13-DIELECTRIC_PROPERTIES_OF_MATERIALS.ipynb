{
"cells": [
 {
		   "cell_type": "markdown",
	   "metadata": {},
	   "source": [
       "# Chapter 13: DIELECTRIC PROPERTIES OF MATERIALS"
	   ]
	},
{
		   "cell_type": "markdown",
		   "metadata": {},
		   "source": [
			"## Example 13.1: Electronic_Polarizability_of_atom.sci"
		   ]
		  },
  {
"cell_type": "code",
	   "execution_count": null,
	   "metadata": {
	    "collapsed": true
	   },
	   "outputs": [],
"source": [
"// Scilab Code Ex13.1: Electronic Polarizability of atom : Page-287 (2010)\n",
"epsilon_0 = 8.854e-012;    // Absolute electrical permittivity of free space, farad per metre\n",
"R = 0.52e-010;    // Radius of hydrogen atom, angstrom\n",
"n = 9.7e+026;    // Number density of hydrogen, per metre cube\n",
"alpha_e = 4*%pi*epsilon_0*R^3;    // Electronic polarizability of hydrogen atom, farad-metre square\n",
"printf('\nThe electronic polarizability of hydrogen atom = %4.2e farad-metre square', alpha_e);\n",
"\n",
"// Result\n",
"// The electronic polarizability of hydrogen atom = 1.56e-041 farad-metre square"
   ]
   }
,
{
		   "cell_type": "markdown",
		   "metadata": {},
		   "source": [
			"## Example 13.2: Parallel_plate_capacitor.sci"
		   ]
		  },
  {
"cell_type": "code",
	   "execution_count": null,
	   "metadata": {
	    "collapsed": true
	   },
	   "outputs": [],
"source": [
"// Scilab Code Ex13.2: Parallel plate capacitor: Page-287 (2010)\n",
"epsilon_0 = 8.854e-012;    // Absolute electrical permittivity of free space, farad per metre\n",
"A = 100e-004;    // Area of a plate of parallel plate capacitor, metre square\n",
"d = 1e-002;    // Distance between the plates of the capacitor, m\n",
"V = 100;    // Potential applied to the plates of the capacitor, volt\n",
"C = epsilon_0*A/d;    // Capacitance of parallel plate capacitor, farad\n",
"Q = C/V;    // Charge on the plates of the capacitor, coulomb\n",
"printf('\nThe capacitance of parallel plate capacitor = %5.3e F', C);\n",
"printf('\nThe charge on the plates of the capacitor = %5.3e C', Q);\n",
"\n",
"// Result\n",
"// The capacitance of parallel plate capacitor = 8.854e-012 F\n",
"// The charge on the plates of the capacitor = 8.854e-014 C"
   ]
   }
,
{
		   "cell_type": "markdown",
		   "metadata": {},
		   "source": [
			"## Example 13.3: Dielectric_displacement_of_medium.sci"
		   ]
		  },
  {
"cell_type": "code",
	   "execution_count": null,
	   "metadata": {
	    "collapsed": true
	   },
	   "outputs": [],
"source": [
"// Scilab Code Ex13.3: Dielectric displacement of medium: Page-288 (2010)\n",
"epsilon_0 = 8.854e-012;    // Absolute electrical permittivity of free space, farad per metre\n",
"epsilon_r = 5.0;    // Dielectric constant of the material between the plates of capacitor\n",
"V = 15;    // Potential difference applied between the plates of the capacitor, volt\n",
"d = 1.5e-003;    // Separation between the plates of the capacitor, m\n",
"// Electric displacement, D = epsilon_0*epsilon_r*E, as E = V/d, so \n",
"D = epsilon_0*epsilon_r*V/d;    // Dielectric displacement, coulomb per metre square\n",
"printf('\nThe dielectric displacement = %5.3e coulomb per metre square', D);\n",
"\n",
"// Result\n",
"// The dielectric displacement = 4.427e-007 coulomb per metre square "
   ]
   }
,
{
		   "cell_type": "markdown",
		   "metadata": {},
		   "source": [
			"## Example 13.4: Relative_dielectric_constant.sci"
		   ]
		  },
  {
"cell_type": "code",
	   "execution_count": null,
	   "metadata": {
	    "collapsed": true
	   },
	   "outputs": [],
"source": [
"// Scilab Code Ex13.4: Relative dielectric constant : Page-288 (2010)\n",
"epsilon_0 = 8.854e-012;    // Absolute electrical permittivity of free space, farad per metre\n",
"N = 3.0e+028;    // Number density of solid elemental dielectric, atoms per metre cube\n",
"alpha_e = 1e-040;    // Electronic polarizability, farad metre square\n",
"epsilon_r = 1 + N*alpha_e/epsilon_0;    // Relative dielectric constant of the material\n",
"printf('\nThe Relative dielectric constant of the material = %5.3f', epsilon_r);\n",
"\n",
"// Result\n",
"// The Relative dielectric constant of the material = 1.339 "
   ]
   }
,
{
		   "cell_type": "markdown",
		   "metadata": {},
		   "source": [
			"## Example 13.5: Atomic_polarizability_of_sulphur.sci"
		   ]
		  },
  {
"cell_type": "code",
	   "execution_count": null,
	   "metadata": {
	    "collapsed": true
	   },
	   "outputs": [],
"source": [
"// Scilab Code Ex13.5: Atomic polarizability of sulphur : Page-288 (2010)\n",
"N_A = 6.023e+023;    // Avogadro's number, per mole\n",
"epsilon_0 = 8.854e-012;    // Absolute electrical permittivity of free space, farad per metre\n",
"epsilon_r = 3.75;    // Relative dielectric constant\n",
"d = 2050;    // Density of sulphur, kg per metre cube\n",
"y = 1/3;    // Internal field constant\n",
"M = 32;    // Atomic weight of sulphur, g/mol\n",
"N = N_A*1e+03*d/M;    // Number density of atoms of sulphur, per metre cube\n",
"// Lorentz relation for local fields give\n",
"// E_local = E + P/(3*epsilon_0) which gives\n",
"// (epsilon_r - 1)/(epsilon_r + 2) = N*alpha_e/(3*epsilon_0), solving for alpha_e\n",
"alpha_e = (epsilon_r - 1)/(epsilon_r + 2)*3*epsilon_0/N;    // Electronic polarizability of sulphur, farad metre square\n",
"printf('\nThe electronic polarizability of sulphur = %5.3e farad metre square', alpha_e);\n",
"\n",
"// Result\n",
"// The electronic polarizability of sulphur = 3.292e-040 farad metre square"
   ]
   }
,
{
		   "cell_type": "markdown",
		   "metadata": {},
		   "source": [
			"## Example 13.6: Electronic_polarizability_from_refractive_index.sci"
		   ]
		  },
  {
"cell_type": "code",
	   "execution_count": null,
	   "metadata": {
	    "collapsed": true
	   },
	   "outputs": [],
"source": [
"// Scilab Code Ex13.6: Electronic polarizability from refractive index : Page-289 (2010)\n",
"N = 3e+028;    // Number density of atoms of dielectric material, per metre cube\n",
"epsilon_0 = 8.854e-012;    // Absolute electrical permittivity of free space, farad per metre\n",
"n = 1.6;    // Refractive index of dielectric material\n",
"// As (n^2 - 1)/(n^2 + 2) = N*alpha_e/(3*epsilon_0), solving for alpha_e\n",
"alpha_e = (n^2 - 1)/(n^2 + 2)*3*epsilon_0/N;    // Electronic polarizability of dielectric material, farad metre square\n",
"printf('\nThe electronic polarizability of dielectric material = %4.2e farad metre square', alpha_e);\n",
"\n",
"// Result\n",
"// The electronic polarizability of dielectric material = 3.03e-040 farad metre square "
   ]
   }
,
{
		   "cell_type": "markdown",
		   "metadata": {},
		   "source": [
			"## Example 13.7: Ratio_of_electronic_polarizability_to_ionic_polarizability.sci"
		   ]
		  },
  {
"cell_type": "code",
	   "execution_count": null,
	   "metadata": {
	    "collapsed": true
	   },
	   "outputs": [],
"source": [
"// Scilab Code Ex13.7: Ratio of electronic polarizability to ionic polarizability: Page-289 (2010)\n",
"epsilon_r = 4.9;    // Absolute relative dielectric constant of material, farad per metre\n",
"n = 1.6;    // Refractive index of dielectric material\n",
"// As (n^2 - 1)/(n^2 + 2)*(alpha_e + alpha_i)/alpha_e = N*(alpha_e + alpha_i)/(3*epsilon_0) = (epsilon_r - 1)/(epsilon_r + 2), solving for alpha_i/alpha_e\n",
"alpha_ratio = ((epsilon_r - 1)/(epsilon_r + 2)*(n^2 + 2)/(n^2 - 1) - 1)^(-1);    // Ratio of electronic polarizability to ionic polarizability\n",
"printf('\nThe ratio of electronic polarizability to ionic polarizability = %4.2f', alpha_ratio);\n",
"\n",
"// Result\n",
"// The ratio of electronic polarizability to ionic polarizability = 1.53 "
   ]
   }
],
"metadata": {
		  "kernelspec": {
		   "display_name": "Scilab",
		   "language": "scilab",
		   "name": "scilab"
		  },
		  "language_info": {
		   "file_extension": ".sce",
		   "help_links": [
			{
			 "text": "MetaKernel Magics",
			 "url": "https://github.com/calysto/metakernel/blob/master/metakernel/magics/README.md"
			}
		   ],
		   "mimetype": "text/x-octave",
		   "name": "scilab",
		   "version": "0.7.1"
		  }
		 },
		 "nbformat": 4,
		 "nbformat_minor": 0
}
