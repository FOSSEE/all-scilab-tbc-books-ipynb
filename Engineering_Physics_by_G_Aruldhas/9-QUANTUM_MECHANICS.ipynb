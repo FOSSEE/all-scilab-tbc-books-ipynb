{
"cells": [
 {
		   "cell_type": "markdown",
	   "metadata": {},
	   "source": [
       "# Chapter 9: QUANTUM MECHANICS"
	   ]
	},
{
		   "cell_type": "markdown",
		   "metadata": {},
		   "source": [
			"## Example 9.14: Probability_of_electron_moving_in_1D_box.sci"
		   ]
		  },
  {
"cell_type": "code",
	   "execution_count": null,
	   "metadata": {
	    "collapsed": true
	   },
	   "outputs": [],
"source": [
"// Scilab Code Ex9.14: Probability of electron moving in 1D box : Page-207 (2010)\n",
"a = 2e-010;    // Width of 1D box, m\n",
"x1 = 0;    // Position of first extreme of the box, m\n",
"x2 = 1e-010;    // Position of second extreme of the box, m\n",
"P = integrate('2/a*(sin(2*%pi*x/a))^2', 'x', x1, x2);    // The probability of finding the electron between x = 0 and x = 1e-010\n",
"printf('\nThe probability of finding the electron between x = 0 and x = 1e-010 = %3.1f', P);\n",
"\n",
"// Result\n",
"// The probability of finding the electron between x = 0 and x = 1e-010 = 0.5 "
   ]
   }
,
{
		   "cell_type": "markdown",
		   "metadata": {},
		   "source": [
			"## Example 9.1: De_broglie_wavelength_of_an_electron_from_accelerating_potential.sci"
		   ]
		  },
  {
"cell_type": "code",
	   "execution_count": null,
	   "metadata": {
	    "collapsed": true
	   },
	   "outputs": [],
"source": [
"// Scilab Code Ex9.1: De-broglie wavelength of an electron from accelerating potential : Page-202 (2010)\n",
"V = 100;    // Accelerating potential for electron, volt\n",
"lambda = sqrt(150/V)*1e-010;    // de-Broglie wavelength of electron, m\n",
"printf('\nThe De-Broglie wavelength of electron = %4.2e m', lambda);\n",
"\n",
"// Result\n",
"// The De-Broglie wavelength of electron = 1.22e-010 m "
   ]
   }
,
{
		   "cell_type": "markdown",
		   "metadata": {},
		   "source": [
			"## Example 9.2: De_broglie_wavelength_of_an_electron_from_kinetic_energy.sci"
		   ]
		  },
  {
"cell_type": "code",
	   "execution_count": null,
	   "metadata": {
	    "collapsed": true
	   },
	   "outputs": [],
"source": [
"// Scilab Code Ex9.2: De-broglie wavelength of an electron from kinetic energy : Page-203 (2010)\n",
"e = 1.6e-019;    // Energy equivalent of 1 eV, J/eV\n",
"h = 6.626e-034;    // Planck's constant, Js\n",
"m = 9.1e-031;    // Mass of the electron, kg\n",
"Ek = 10;    // Kinetic energy of electron, eV\n",
"// Ek = p^2/(2*m), solving for p\n",
"p = sqrt(2*m*Ek*e);    // Momentum of the electron, kg-m/s\n",
"lambda = h/p ;    // de-Broglie wavelength of electron from De-Broglie relation, m\n",
"printf('\nThe de-Broglie wavelength of electron = %4.2e nm', lambda/1e-009);\n",
"\n",
"// Result\n",
"// The de-Broglie wavelength of electron = 3.88e-001 nm "
   ]
   }
,
{
		   "cell_type": "markdown",
		   "metadata": {},
		   "source": [
			"## Example 9.4: Uncertainty_principle_for_position_and_momentum.sci"
		   ]
		  },
  {
"cell_type": "code",
	   "execution_count": null,
	   "metadata": {
	    "collapsed": true
	   },
	   "outputs": [],
"source": [
"// Scilab Code Ex9.4: Uncertainty principle for position and momentum: Page-203 (2010)\n",
"h = 6.626e-034;    // Planck's constant, Js\n",
"m = 9.1e-031;    // Mass of the electron, kg\n",
"v = 1.1e+006;    // Speed of the electron, m/s\n",
"p = m*v;    // Momentum of the electron, kg-m/s\n",
"dp = 0.1/100*p;    // Uncertainty in momentum, kg-m/s\n",
"h_bar = h/(2*%pi);    // Reduced Planck's constant, Js\n",
"// From Heisenberg uncertainty principle,\n",
"// dx*dp = h_bar/2, solving for dx\n",
"dx = h_bar/(2*dp);    // Uncertainty in position, m\n",
"printf('\nThe uncertainty in position of electron = %4.2e m', dx);\n",
"\n",
"// Result\n",
"// The uncertainty in position of electron = 5.27e-008 m "
   ]
   }
,
{
		   "cell_type": "markdown",
		   "metadata": {},
		   "source": [
			"## Example 9.5: Uncertainty_principle_for_energy_and_time.sci"
		   ]
		  },
  {
"cell_type": "code",
	   "execution_count": null,
	   "metadata": {
	    "collapsed": true
	   },
	   "outputs": [],
"source": [
"// Scilab Code Ex9.5: Uncertainty principle for energy and time: Page-203 (2010)\n",
"e = 1.6e-019;    // Energy equivalent of 1 eV, J/eV\n",
"h = 6.626e-034;    // Planck's constant, Js\n",
"dt = 1e-008;    // Uncertainty in time, s\n",
"h_bar = h/(2*%pi);    // Reduced Planck's constant, Js\n",
"// From Heisenberg uncertainty principle,\n",
"// dE*dt = h_bar/2, solving for dE\n",
"dE = h_bar/(2*dt*e);    // Uncertainty in energy of the excited state, m\n",
"printf('\nThe uncertainty in energy of the excited state = %4.2e eV', dE);\n",
"\n",
"// Result\n",
"// The uncertainty in energy of the excited state = 3.30e-008 eV"
   ]
   }
,
{
		   "cell_type": "markdown",
		   "metadata": {},
		   "source": [
			"## Example 9.6: Width_of_spectral_line_from_Uncertainty_principle.sci"
		   ]
		  },
  {
"cell_type": "code",
	   "execution_count": null,
	   "metadata": {
	    "collapsed": true
	   },
	   "outputs": [],
"source": [
"// Scilab Code Ex9.6: Width of spectral line from Uncertainty principle: Page-204 (2010)\n",
"c = 3e+008;    // Speed of light, m/s\n",
"dt = 1e-008;    // Average lifetime, s\n",
"lambda = 400e-009;    // Wavelength of spectral line, m\n",
"// From Heisenberg uncertainty principle,\n",
"// dE = h_bar/(2*dt) and also dE = h*c/lambda^2*d_lambda, which give\n",
"// h_bar/(2*dt) = h*c/lambda^2*d_lambda, solving for d_lambda\n",
"d_lambda = lambda^2/(4*%pi*c*dt);    // Width of spectral line, m\n",
"printf('\nThe width of spectral line = %4.2e m', d_lambda);\n",
"\n",
"// Result\n",
"// The width of spectral line = 4.24e-015 m "
   ]
   }
],
"metadata": {
		  "kernelspec": {
		   "display_name": "Scilab",
		   "language": "scilab",
		   "name": "scilab"
		  },
		  "language_info": {
		   "file_extension": ".sce",
		   "help_links": [
			{
			 "text": "MetaKernel Magics",
			 "url": "https://github.com/calysto/metakernel/blob/master/metakernel/magics/README.md"
			}
		   ],
		   "mimetype": "text/x-octave",
		   "name": "scilab",
		   "version": "0.7.1"
		  }
		 },
		 "nbformat": 4,
		 "nbformat_minor": 0
}
