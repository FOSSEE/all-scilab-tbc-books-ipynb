{
"cells": [
 {
		   "cell_type": "markdown",
	   "metadata": {},
	   "source": [
       "# Chapter 14: MAGNETIC PROPERTIES OF MATERIALS"
	   ]
	},
{
		   "cell_type": "markdown",
		   "metadata": {},
		   "source": [
			"## Example 14.1: Spontaneous_magnetisation_of_the_substance.sci"
		   ]
		  },
  {
"cell_type": "code",
	   "execution_count": null,
	   "metadata": {
	    "collapsed": true
	   },
	   "outputs": [],
"source": [
"// Scilab Code Ex14.1: Spontaneous magnetisation of the substance: Page-306 (2010)\n",
"N = 6.023e+023;    // Avogadro's number. per mole\n",
"A = 56;    // Atomic weight of the substance, g/mole\n",
"d = 7.9;    // Density of the substance, gram per cm cube\n",
"m_B = 9.27e-024;    // Bohr's Magneton, joule per tesla\n",
"m = 2.2*m_B;    // Magnetic moment of substance, joule per tesla\n",
"n = d*N/A*1e+006;    // Number of atoms per unit volume of the substance, per metre cube\n",
"M = n*m;    // Spontaneous magnetisation of the substance, ampere per metre\n",
"printf('\nThe spontaneous magnetisation of the substance = %4.2e ampere per metre', M);\n",
"\n",
"// Result\n",
"// The spontaneous magnetisation of the substance = 1.73e+006 ampere per metre "
   ]
   }
,
{
		   "cell_type": "markdown",
		   "metadata": {},
		   "source": [
			"## Example 14.2: Relative_permeability_of_ferromagnetic_material.sci"
		   ]
		  },
  {
"cell_type": "code",
	   "execution_count": null,
	   "metadata": {
	    "collapsed": true
	   },
	   "outputs": [],
"source": [
"// Scilab Code Ex14.2: Relative permeability of ferromagnetic material : Page-307 (2010)\n",
"H = 200;    // Field strength to which the ferromagnetic material is subjected, ampere per metre\n",
"M = 3100;    // Magnetisation of the ferromagnetic material, ampere per metre\n",
"chi = M/H;    // Magnetic susceptibility\n",
"mu_r = 1 + chi;    // Relative permeability of ferromagnetic material\n",
"printf('\nThe relative permeability of ferromagnetic material = %4.1f', mu_r);\n",
"\n",
"// Result\n",
"// The relative permeability of ferromagnetic material = 16.5 "
   ]
   }
,
{
		   "cell_type": "markdown",
		   "metadata": {},
		   "source": [
			"## Example 14.3: Relative_permeability_from_magnetisation.sci"
		   ]
		  },
  {
"cell_type": "code",
	   "execution_count": null,
	   "metadata": {
	    "collapsed": true
	   },
	   "outputs": [],
"source": [
"// Scilab Code Ex14.3: Relative permeability from magnetisation : Page-307 (2010)\n",
"H = 300;    // Field strength to which the ferromagnetic material is subjected, ampere per metre\n",
"M = 4400;    // Magnetisation of the ferromagnetic material, ampere per metre\n",
"chi = M/H;    // Magnetic susceptibility\n",
"mu_r = 1 + chi;    // Relative permeability of ferromagnetic material\n",
"printf('\nThe relative permeability of ferromagnetic material = %5.2f', mu_r);\n",
"\n",
"// Result\n",
"// The relative permeability of ferromagnetic material = 15.67 "
   ]
   }
,
{
		   "cell_type": "markdown",
		   "metadata": {},
		   "source": [
			"## Example 14.4: Magnetic_flux_density_and_magnetisation_of_diamagnetic_material.sci"
		   ]
		  },
  {
"cell_type": "code",
	   "execution_count": null,
	   "metadata": {
	    "collapsed": true
	   },
	   "outputs": [],
"source": [
"// Scilab Code Ex14.4: Magnetic flux density and magnetisation of diamagnetic material : Page-307 (2010)\n",
"mu_0 = 4*%pi*1e-07;    // Magnetic permeability of free space, tesla metre per ampere\n",
"H = 10000;    // Field strength to which the diamagnetic material is subjected, ampere per metre\n",
"chi = -0.4e-005;    // Magnetic susceptibility\n",
"M = chi*H;    // Magnetisation of the diamagnetic material, ampere per metre\n",
"B = mu_0*(H + M);    // Magnetic flux density of diamagnetic material, T\n",
"printf('\nThe magnetisation of diamagnetic material = %4.2f ampere per metre', M);\n",
"printf('\nThe magnetic flux density of diamagnetic material = %6.4f T', B);\n",
"\n",
"// Result\n",
"// The magnetisation of diamagnetic material = -0.04 ampere per metre\n",
"// The Magnetic flux density of diamagnetic material = 0.0126 T "
   ]
   }
,
{
		   "cell_type": "markdown",
		   "metadata": {},
		   "source": [
			"## Example 14.5: EX14_5.sci"
		   ]
		  },
  {
"cell_type": "code",
	   "execution_count": null,
	   "metadata": {
	    "collapsed": true
	   },
	   "outputs": [],
"source": [
"// Scilab Code Ex14.5: Magnetisation-Magnetic flux density-relative permeability of diamagnetic material : Page-307 (2010)\n",
"mu_0 = 4*%pi*1e-07;    // Magnetic permeability of free space, tesla metre per ampere\n",
"H = 1.2e+005;    // Field strength to which the diamagnetic material is subjected, ampere per metre\n",
"chi = -4.2e-006;    // Magnetic susceptibility\n",
"M = chi*H;    // Magnetisation of the diamagnetic material, ampere per metre\n",
"B = mu_0*(H + M);    // Magnetic flux density of diamagnetic material, T\n",
"mu_r = M/H + 1;    // The relative permeability of diamagnetic material\n",
"printf('\nThe magnetisation of diamagnetic material = %5.3f ampere per metre', M);\n",
"printf('\nThe magnetic flux density of diamagnetic material = %5.3f T', B);\n",
"printf('\nThe relative permeability of diamagnetic material = %f T', mu_r);\n",
"// Result\n",
"// The magnetisation of diamagnetic material = -0.504 ampere per metre\n",
"// The magnetic flux density of diamagnetic material = 0.151 T \n",
"// The relative permeability of diamagnetic material = 0.999996 T "
   ]
   }
,
{
		   "cell_type": "markdown",
		   "metadata": {},
		   "source": [
			"## Example 14.6: Mean_radius_of_body_centered_cubic_structure.sci"
		   ]
		  },
  {
"cell_type": "code",
	   "execution_count": null,
	   "metadata": {
	    "collapsed": true
	   },
	   "outputs": [],
"source": [
"// Scilab Code Ex14.6: Mean radius of body centered cubic structure: Page-308 (2010)\n",
"chi = 5.6e-006;    // Magnetic susceptibility of diamagnetic material\n",
"m = 9.1e-031;    // Mass of an electron, kg\n",
"mu_0 = 4*%pi*1e-07;    // Magnetic permeability of free space, tesla metre per ampere\n",
"Z = 1;    /// Atomic number\n",
"e = 1.6e-019;    // Electronic charge, C\n",
"a = 2.53e-010;    // Lattice parameter of bcc structure, m\n",
"N = 2/a^3;    // The number of electrons per unit volume, per metre cube\n",
"r = sqrt(chi*6*m/(mu_0*Z*e^2*N));    // Mean radius of body centered cubic structure as per Langevin relation for Diamagnetic susceptibility, m\n",
"printf('\nThe mean radius of body centered cubic structure = %5.3e angstrom', r/1e-010);\n",
"\n",
"// Result\n",
"// The mean radius of body centered cubic structure = 8.773e-001 angstrom"
   ]
   }
,
{
		   "cell_type": "markdown",
		   "metadata": {},
		   "source": [
			"## Example 14.7: Susceptibility_and_magnetisation_of_paramagnetic_salt.sci"
		   ]
		  },
  {
"cell_type": "code",
	   "execution_count": null,
	   "metadata": {
	    "collapsed": true
	   },
	   "outputs": [],
"source": [
"// Scilab Code Ex14.7: Susceptibility and magnetisation of paramagnetic salt: Page-308 (2010)\n",
"mu_0 = 4*%pi*1e-07;    // Magnetic permeability of free space, tesla metre per ampere\n",
"N_A = 6.02e+026;    // Avogadro's number, per kmol\n",
"rho = 4370;    // Density of paramegnetic salt, kg per metre cube\n",
"M = 168.5;    // Molecular weight of paramagnetic salt, g/mol\n",
"T = 27+273;    // Temperature of paramagnetic salt, K\n",
"H = 2e+005;    // Field strength to which the  paramagnetic salt is subjected, ampere per metre\n",
"mu_B = 9.27e-024;    // Bohr's magneton, ampere metre square\n",
"p = 2;    // Number of Bohr magnetons per molecule\n",
"k = 1.38e-023;    // Boltzmann constant, J/K\n",
"N = rho*N_A/M;    // Total density of atoms in the paramagnetic salt, per metr cube\n",
"chi = mu_0*N*p^2*mu_B^2/(3*k*T);    // Magnetic susceptibility of paramagnetic salt\n",
"M = chi*H;    // Magnetisation of paramagnetic salt, ampere per metre\n",
"printf('\nThe magnetic susceptibility of paramagnetic salt = %4.2e per metre', chi);\n",
"printf('\nThe magnetisation of paramagnetic salt = %4.2e ampere per metre', M);\n",
"\n",
"// Result\n",
"// The magnetic susceptibility of paramagnetic salt = 5.43e-004 per metre\n",
"// The magnetisation of paramagnetic salt = 1.09e+002 ampere per metre"
   ]
   }
],
"metadata": {
		  "kernelspec": {
		   "display_name": "Scilab",
		   "language": "scilab",
		   "name": "scilab"
		  },
		  "language_info": {
		   "file_extension": ".sce",
		   "help_links": [
			{
			 "text": "MetaKernel Magics",
			 "url": "https://github.com/calysto/metakernel/blob/master/metakernel/magics/README.md"
			}
		   ],
		   "mimetype": "text/x-octave",
		   "name": "scilab",
		   "version": "0.7.1"
		  }
		 },
		 "nbformat": 4,
		 "nbformat_minor": 0
}
