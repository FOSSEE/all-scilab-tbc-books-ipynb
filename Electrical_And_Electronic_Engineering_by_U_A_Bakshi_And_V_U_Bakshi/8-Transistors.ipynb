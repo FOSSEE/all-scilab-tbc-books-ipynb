{
"cells": [
 {
		   "cell_type": "markdown",
	   "metadata": {},
	   "source": [
       "# Chapter 8: Transistors"
	   ]
	},
{
		   "cell_type": "markdown",
		   "metadata": {},
		   "source": [
			"## Example 8.1: base_current.sce"
		   ]
		  },
  {
"cell_type": "code",
	   "execution_count": null,
	   "metadata": {
	    "collapsed": true
	   },
	   "outputs": [],
"source": [
"//exmaple8.1\n",
"clc\n",
"disp('Given : I_E=12 mA, I_E= 1.02(I_c)')\n",
"disp('Therefore, 1.02(I_c)=12*10^-3')\n",
"i=(12*10^-3)/1.02\n",
"format(9)\n",
"disp(i,'I_c(in A)=')\n",
"disp('I_E = I_B + I_c')\n",
"b=12-11.765\n",
"disp(b,'Therefore, I_B(in mA) = I_E - I_c = (12-11.765)mA = ')"
   ]
   }
,
{
		   "cell_type": "markdown",
		   "metadata": {},
		   "source": [
			"## Example 8.2: alpha_dc_and_beta_dc.sce"
		   ]
		  },
  {
"cell_type": "code",
	   "execution_count": null,
	   "metadata": {
	    "collapsed": true
	   },
	   "outputs": [],
"source": [
"//example8.2\n",
"clc\n",
"disp('a) (alpha_dc)=(beta_dc)/(1+(beta_dc))')\n",
"b=50/51\n",
"format(7)\n",
"disp(b,'For, (beta_dc)=50, (alpha_dc)=50/(1+50)=')\n",
"b=190/191\n",
"disp(b,'For, (beta_dc)=190, (alpha_dc)=190/(1+190)=')\n",
"disp('b) (beta_dc)=(alpha_dc)/(1-(alpha_dc))')\n",
"a=0.995/(1-0.995)\n",
"disp(a,'For, (alpha_dc)=0.995, (beta_dc)=0.995/(1-0.995)=')\n",
"a=0.9765/(1-0.9765)\n",
"format(6)\n",
"disp(a,'For, (alpha_dc)=0.9765, (beta_dc)=0.9765/(1-0.9765)=')"
   ]
   }
,
{
		   "cell_type": "markdown",
		   "metadata": {},
		   "source": [
			"## Example 8.3: collector_current.sce"
		   ]
		  },
  {
"cell_type": "code",
	   "execution_count": null,
	   "metadata": {
	    "collapsed": true
	   },
	   "outputs": [],
"source": [
"//example8.3\n",
"clc\n",
"disp('Given : I_B=20 uA, I_E=6.4 mA')\n",
"disp('I_E=I_B+I_C=I_B+[(I_B)*(beta_dc)]=(I_B)*(1+(beta_dc))')\n",
"b=(6.4*10^-3)/(20*20^-6)\n",
"disp(b,'(beta_dc)+1=(I_E)/(I_B)=')\n",
"b=320-1\n",
"disp(b,'Therefore, (beta_dc)=')\n",
"a=319/320\n",
"format(7)\n",
"disp(a,'(alpha_dc)=(beta_dc)/(1+(beta_dc))=319/(1+319)=')\n",
"i=319*20\n",
"disp(i,'I_C(in uA)=[(beta_dc)*(I_B)]=')\n",
"c=0.9968*6.4\n",
"disp(c,'Also, (I_C)[in mA]=[(alpha_dc)*(I_E)]=')"
   ]
   }
,
{
		   "cell_type": "markdown",
		   "metadata": {},
		   "source": [
			"## Example 8.4: alpha_dc_and_beta_dc.sce"
		   ]
		  },
  {
"cell_type": "code",
	   "execution_count": null,
	   "metadata": {
	    "collapsed": true
	   },
	   "outputs": [],
"source": [
"//example8.4\n",
"clc\n",
"disp('Given: I_CO=1.1 uA, I_E=21 uA')\n",
"disp('I_CEO=(1+(beta_dc))*(I_CO)')\n",
"disp('1+(beta_dc)=(I_CEO).(I_CO)=(21 uA)/(1.1 uA)=19')\n",
"b=19-1\n",
"disp(b,'Therefore, (beta_dc)=')\n",
"a=18/19\n",
"format(6)\n",
"disp(a,'(alpha_dc)=(beta_dc)/(1+(beta_dc))=18/(1+18)=')"
   ]
   }
,
{
		   "cell_type": "markdown",
		   "metadata": {},
		   "source": [
			"## Example 8.7: alpha_and_beta_and_V0_and_output_power.sce"
		   ]
		  },
  {
"cell_type": "code",
	   "execution_count": null,
	   "metadata": {
	    "collapsed": true
	   },
	   "outputs": [],
"source": [
"//example8.7\n",
"clc\n",
"disp('V_m= Peak value of input =200 V')\n",
"disp('V_BO=100 V with I_G=2 mA and R_L=100 ohm')\n",
"a=asind(1/2)\n",
"disp(a,'i) Firing angle alpha(in degree)=sinh((V_BO)/(V_m))=sinh(100/200)=')\n",
"a=180-30\n",
"disp(a,'ii) Conduction angle beta = 180-(alpha) =')\n",
"v=(200*(1+cosd(30)))/(2*%pi)\n",
"format(7)\n",
"disp(v,'iii) Average output voltage (V_dc)=(V_m*(1+cos30))/(2*pi)=')\n",
"p=(59.39^2)/100\n",
"format(8)\n",
"disp(p,'(P_dc(av))[in W]=(V_dc^2)/R_L=')"
   ]
   }
,
{
		   "cell_type": "markdown",
		   "metadata": {},
		   "source": [
			"## Example 8.8: firing_angle.sce"
		   ]
		  },
  {
"cell_type": "code",
	   "execution_count": null,
	   "metadata": {
	    "collapsed": true
	   },
	   "outputs": [],
"source": [
"//example8.8\n",
"clc\n",
"disp('(V_dc(av))=80 V, (V_rms)=230 V')\n",
"disp('Note that given ac mains voltage is rms unless and otherwise specified to be peak')\n",
"v=230*sqrt(2)\n",
"format(8)\n",
"disp(v,'Therefore, V_m(in V)=sqrt(2)*(V_rms)=')\n",
"disp('Now , (V_dc(av))=(V_m*(1+cos(alpha)))/(2*pi)')\n",
"disp('Therefore, 80=(325.269*(1+cos(alpha)))/(2*pi)')\n",
"disp('Therefore, cos(alpha)=0.5453')\n",
"c=acosd(0.5453)\n",
"format(6)\n",
"disp(c,'Therefore, alpha(in degree)=')"
   ]
   }
,
{
		   "cell_type": "markdown",
		   "metadata": {},
		   "source": [
			"## Example 8.9: time_for_SCR_remains_off.sce"
		   ]
		  },
  {
"cell_type": "code",
	   "execution_count": null,
	   "metadata": {
	    "collapsed": true
	   },
	   "outputs": [],
"source": [
"//example8.9\n",
"clc\n",
"disp('For half wave rectifier, the SCR operates as shown in the Fig. 8.63.')\n",
"disp('V_in = 325*sin(wt)=V_m*sin(wt)')\n",
"disp('Therefore, V_m = 325 V')\n",
"disp('w=100*pi rad/sec')\n",
"disp('V_BO=125 V')\n",
"a=sinh(125/325)\n",
"format(6)\n",
"disp(a,'Therefore, alpha=sinh(V_BO/V_m)=')\n",
"d=(22.619*%pi)/180\n",
"format(7)\n",
"disp(d,'Therefore, alpha=(22.619*pi)/180 radian=')\n",
"t=0.3947/(100*%pi)\n",
"format(8)\n",
"disp(t,'Therefore, Time of alpha(in sec)=alpha/w=0.3947/(100*pi)=')\n",
"disp('For this period SCR remains OFF in positive half cycle.')\n",
"disp('While for entire negative half cycle i.e. for pi radians (180 degree) it remains OFF. Thus corresponding time is (angle/w)')\n",
"a=1/100\n",
"disp(a,'i.e. pi/(100*pi)[in sec]= ')\n",
"t=10+1.25\n",
"disp(t,'Total time for which SCR is OFF(in msec) = 10+1.25= ')"
   ]
   }
],
"metadata": {
		  "kernelspec": {
		   "display_name": "Scilab",
		   "language": "scilab",
		   "name": "scilab"
		  },
		  "language_info": {
		   "file_extension": ".sce",
		   "help_links": [
			{
			 "text": "MetaKernel Magics",
			 "url": "https://github.com/calysto/metakernel/blob/master/metakernel/magics/README.md"
			}
		   ],
		   "mimetype": "text/x-octave",
		   "name": "scilab",
		   "version": "0.7.1"
		  }
		 },
		 "nbformat": 4,
		 "nbformat_minor": 0
}
