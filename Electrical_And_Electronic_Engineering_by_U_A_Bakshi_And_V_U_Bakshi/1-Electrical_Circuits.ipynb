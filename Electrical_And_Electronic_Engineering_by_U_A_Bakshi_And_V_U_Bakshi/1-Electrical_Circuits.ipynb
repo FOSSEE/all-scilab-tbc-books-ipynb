{
"cells": [
 {
		   "cell_type": "markdown",
	   "metadata": {},
	   "source": [
       "# Chapter 1: Electrical Circuits"
	   ]
	},
{
		   "cell_type": "markdown",
		   "metadata": {},
		   "source": [
			"## Example 1.10: find_equivalent_resistance.sce"
		   ]
		  },
  {
"cell_type": "code",
	   "execution_count": null,
	   "metadata": {
	    "collapsed": true
	   },
	   "outputs": [],
"source": [
"//example1.10\n",
"clc\n",
"disp('Redrawing the circuit,')\n",
"r=(21*14)/(21+14)\n",
"format(4)\n",
"disp(r,'R_ab(in ohm)=(21*14)/(21+14)=')"
   ]
   }
,
{
		   "cell_type": "markdown",
		   "metadata": {},
		   "source": [
			"## Example 1.11: find_equivalent_resistance.sce"
		   ]
		  },
  {
"cell_type": "code",
	   "execution_count": null,
	   "metadata": {
	    "collapsed": true
	   },
	   "outputs": [],
"source": [
"//example1.11\n",
"clc\n",
"disp('Redrawing the circuit,')\n",
"disp('R1 and R2 are in series from fig. 1.59(b)')\n",
"r=150/25\n",
"disp(r,'R1(in ohm)=(15*10)/(15+10)=')\n",
"r=24/10\n",
"disp(r,'R2(in ohm)=(6*4)/(6+4)=')\n",
"disp('then, R_ab=R1+R2')\n",
"r=6+2.4\n",
"disp(r,'Therefore, R_ab(in ohm)=6+2.4=')"
   ]
   }
,
{
		   "cell_type": "markdown",
		   "metadata": {},
		   "source": [
			"## Example 1.12: find_current.sce"
		   ]
		  },
  {
"cell_type": "code",
	   "execution_count": null,
	   "metadata": {
	    "collapsed": true
	   },
	   "outputs": [],
"source": [
"//example1.12\n",
"clc\n",
"disp('The various loop are shown in the fig 1.64(a)')\n",
"disp('Apply KVL to the various loops,')\n",
"disp('Loop 1,  -15(I_1)-20(I_1)+20(I_2)+100=0')\n",
"disp('Therefore,  +35(I_1)-20(I_2)=100   ...(1)')\n",
"disp('Loop 2,  -5(I_2)-30(I_2)+30(I_3)-20(I_2)+20(I_1)=0')\n",
"disp('Therefore,  20(I_1)-55(I_2)+30(I_3)=0   ...(2)')\n",
"disp('Loop 3,  -5(I_3)-100-30(I_3)+30(I_2)=0')\n",
"disp('Therefore,  30(I_2)-35(I_3)=0   ...(3)')\n",
"d=35*((55*35)-(30*30))+20*(-35*20)\n",
"format(6)\n",
"disp(d,'D1=[35 -20 0;20 -55 30;0 30 -35]=')\n",
"d=35*(-(100*30))-100*(-35*20)\n",
"disp(d,'D2=[35 100 0;20 0 30;0 100 -35]=')\n",
"d=35*(-55*100)-(-20*(20*100))+100*(30*20)\n",
"disp(d,'D3=[35 -20 100;20 -55 0;0 30 100]=')\n",
"i=(-35000)/21875\n",
"format(4)\n",
"disp(i,'I_2(in amp)=D2/D=')\n",
"i=(-92500)/21875\n",
"format(7)\n",
"disp(i,'I_3(in amp)=D3/D=')\n",
"i=(-1.6)+4.2285\n",
"disp(i,'I_30(in amp)=(I_2)-(I_3)=')\n",
"disp('As (I_2-I_3) is positive, current floes in the assumed direction of I_2')"
   ]
   }
,
{
		   "cell_type": "markdown",
		   "metadata": {},
		   "source": [
			"## Example 1.13: find_power.sce"
		   ]
		  },
  {
"cell_type": "code",
	   "execution_count": null,
	   "metadata": {
	    "collapsed": true
	   },
	   "outputs": [],
"source": [
"//example1.13\n",
"clc\n",
"disp('The various loop current are shown in the fig 1.65(a). The problem consists of current sources hence follow supermesh steps.')\n",
"disp('Loops cannot be defined through current sources.So analyse the branches consisting of current sources first')\n",
"disp('From branch A-B we can write,')\n",
"disp('I_3=2A  ...(1)')\n",
"disp('From branch DG we can write,')\n",
"disp('I_2-I_1=8A  ...(2)')\n",
"disp('Now apply KVL to the loop without current source i.e.')\n",
"disp('loop C-D-E-H-G-F-C,')\n",
"disp('-(I_3)-(I_1)-3(I_3)-3(I_2)-4(I_2)+24=0')\n",
"disp('Therefore,  4(I_3)+7(I_2)+(I_1)=24   ...(3)')\n",
"disp('Using equation (1) and equation (2) in (3) we get,')\n",
"disp('8+7(I_2)+((I_2)-8)=24')\n",
"disp('Therefore  8(I_2)=24')\n",
"i=24/8\n",
"disp(i,'I_2(in amp)=')\n",
"disp('This is current through 4ohm resistor.So power deliverd to the 4ohm resistor is,')\n",
"p=9*4\n",
"disp(p,'P(in W)=((I_2)^2)*4=')"
   ]
   }
,
{
		   "cell_type": "markdown",
		   "metadata": {},
		   "source": [
			"## Example 1.14: find_current.sce"
		   ]
		  },
  {
"cell_type": "code",
	   "execution_count": null,
	   "metadata": {
	    "collapsed": true
	   },
	   "outputs": [],
"source": [
"//example1.14\n",
"clc\n",
"disp('The various node voltages and currents are shown in the fig 1.72(a).')\n",
"disp('At node 1,   -(I_1)-(I_2)-(I_3)=0')\n",
"disp('Therefore,  -[(V_1-15)/1]-[V_1/1]-[(V_1-V_2)/0.5]=0')\n",
"disp('Therefore,  -(V_1)+15-(V_1)-2(V_1)+2(V_2)=0')\n",
"disp('Therefore,  4(V_1)-2(V_2)=15   ..(1)')\n",
"disp('At node 2,  (I_3)-(I_4)-(I_5)=0')\n",
"disp('Therefore,  [(V_1-V_2)/0.5]-[(V_2)/2]-[((V_2)+20)/1]=0')\n",
"disp('Therefore,  2(V_1)-2(V_2)-0.5(V_2)-(V_2)+20=0')\n",
"disp('Therefore,  2(V_1)-3.5(V_2)= -20   ...(2)')\n",
"disp('Multiplying equation (2) by 2 and subtracting from equation (1) we get,')\n",
"disp('5(V_2)=55')\n",
"v=55/5\n",
"disp(v,'V_2(in V)= ')\n",
"v=(-20+(3.5*11))/2\n",
"format(5)\n",
"disp(v,'and,  V_1(in V)= ')\n",
"disp('Hence the various currents are,')\n",
"i=9.25-15\n",
"disp(i,'(I_1)(in A)=[(V_1)-5]/1=')\n",
"disp('i.e I1=5.75A  upward')\n",
"i=9.25/1\n",
"disp(i,'(I_2)(in A)=(V_1)/1=')\n",
"i=(9.25-11)/0.5\n",
"disp(i,'(I_3)(in A)=[(V_1)-(V_2)]/0.5=')\n",
"disp('i.e I3=3.5A to left')\n",
"i=11/2\n",
"disp(i,'(I_4)(in A)=(V_2)/2=')\n",
"i=11-20\n",
"disp(i,'(I_5)(in A)=[(V_2)-20]/1=')\n",
"disp('i.e I5=9A upward')"
   ]
   }
,
{
		   "cell_type": "markdown",
		   "metadata": {},
		   "source": [
			"## Example 1.15: node_voltage.sce"
		   ]
		  },
  {
"cell_type": "code",
	   "execution_count": null,
	   "metadata": {
	    "collapsed": true
	   },
	   "outputs": [],
"source": [
"//example1.15\n",
"clc\n",
"disp('The various node voltage are shown in the fig 1.73(a).')\n",
"disp('THe various braanch currents are shown.Applying KCL at various nodes.')\n",
"disp('Node 1:  9-I1-I2-I3=0   ..(1)')\n",
"disp('Node 1:  I3-I4+4=0   ..(2)')\n",
"disp('Node 1:  I2-4-I5=0   ..(3)')\n",
"disp('Key Point: Nodes V1 and V3 from supernode region and nodes V1 and V2 from super node region.')\n",
"disp('Super node: V1-10=V3  i.e.  V1-V3=10   ..(4)')\n",
"disp('Super node: V1+6=V2  i.e.  V1-V2=-6   ..(5)')\n",
"disp('From equation (2), I3=I4-4 and from equation (3), I2=I5+4')\n",
"disp('Using in equation (1), 9-I1-I5-4-I4+4=0')\n",
"disp('i.e  I1+I4+I5=9   ..(6)')\n",
"disp('I1=V1/4,  I4=V2/10,  I5=V3/5')\n",
"disp('Therefore   (V1/4)+(V2/10)+(V3/5)=9')\n",
"disp('i.e  0.25(V1)+0.1(V2)+0.2(V3)=9    ...(7)')\n",
"disp('Solving equations(4), (5) and (7) simultaneously,we get')\n",
"disp('0.25(V1)+0.1(V1+6)+0.2(V1-10)=9')\n",
"v=10.4/0.55\n",
"format(7)\n",
"disp(v,'Therefore,  V1(in V)=')\n",
"disp('putting V1 in eq.(4) and (5), we get ')\n",
"v=18.909+6\n",
"disp(v,'V2(in V)=')\n",
"v=18.909-10\n",
"disp(v,'V3(in V)=')"
   ]
   }
,
{
		   "cell_type": "markdown",
		   "metadata": {},
		   "source": [
			"## Example 1.16: instantaneous_current.sce"
		   ]
		  },
  {
"cell_type": "code",
	   "execution_count": null,
	   "metadata": {
	    "collapsed": true
	   },
	   "outputs": [],
"source": [
"//example1.16\n",
"clc\n",
"disp('Case 1: R=10ohm')\n",
"disp('V=(V_m)sin(wt)')\n",
"v=150*sqrt(2)\n",
"format(7)\n",
"disp('(V_m)[in V]=sqrt(2)*V_rms=')\n",
"i=212.13/10\n",
"disp(i,'(I_m)[in A]=(V_m)/R=')\n",
"disp('In pure resistive circuit, currents is in phase with the voltage.')\n",
"disp('Therefore,  psi=phase difference= 0 degree')\n",
"disp('Therefore,  i=(I_m)sin(wt)=(I_m)sin(2*pi*f*t)')\n",
"disp('Therefore,  i(in A) = 21.213sin(100*pi*t)')\n",
"disp('The phasor diagram is shown in the fig. 1.85(a)')\n",
"disp('Case 2:  L=0.2 ohm')\n",
"x=2*%pi*50*0.2\n",
"format(6)\n",
"disp(x,'Inductive reactance, (X_L)[in ohm]=wL=(2*pi*f*L)=')\n",
"i=212/13/62.83\n",
"format(5)\n",
"disp('Therefore,  (I_m)[in A]=(V_m)/(X_L)=')\n",
"disp('In pure inductive circuit, current lags voltage by 90 degree.')\n",
"disp('Therefore,  psi=phase difference = -90 degree =(pi/2)rad')\n",
"disp('Therefore,  i=(I_m)sin(wt-psi)  i.e.  i(in A)=3.37sin((100*pi*t)-(pi/2))')\n",
"disp('The phasor dig in shown in the fig 1.85(b).')\n",
"disp('Case 3:  C=50 micro-F')\n",
"c=1/(2*%pi*50*50*10^-6)\n",
"format(6)\n",
"disp(c,'Capacitive reactance,  X_c(in ohm)=1/wC=1/(2*pi*f*C)=')\n",
"i=212.13/63.66\n",
"format(5)\n",
"disp(i,'I_m(in A)=(V_m)/(X_c)=')\n",
"disp('In pure capacitive circuit, current leads voltage by 90 degree.')\n",
"disp('Therefore  psi=phase difference =90 degree= (pi/2)radian')\n",
"disp('Therefore,  i=(I_m)sin(wt+psi)')\n",
"disp('Therefore,  i(in A)=3.33sin((100*pi*t)+(pi/2))')\n",
"disp('The phasor dig is as shown in the fig 1.85(c).')\n",
"disp('All the phasor dig represent r.m.s values of voltage and current')"
   ]
   }
,
{
		   "cell_type": "markdown",
		   "metadata": {},
		   "source": [
			"## Example 1.17: find_voltage.sce"
		   ]
		  },
  {
"cell_type": "code",
	   "execution_count": null,
	   "metadata": {
	    "collapsed": true
	   },
	   "outputs": [],
"source": [
"//example1.17\n",
"clc\n",
"r=10/10\n",
"disp(r,'R1(in ohm)=(2*5)/(2+5+3)=')\n",
"r=6/10\n",
"disp(r,'R2(in ohm)=(3*2)/(2+5+3)=')\n",
"r=15/10\n",
"disp(r,'R3(in ohm)=(5*3)/(2+5+3)=')\n",
"r=50/25\n",
"disp(r,'R1(in ohm)=(10*5)/(10+5+10)=')\n",
"r=100/25\n",
"disp(r,'R2(in ohm)=(10*10)/(10+5+10)=')\n",
"r=50/25\n",
"disp(r,'R3(in ohm)=(5*10)/(10+5+10)=')\n",
"disp('The circuit reduces as shown in the fig 1.86(c)')\n",
"r=0.6+4.2439+2\n",
"format(7)\n",
"disp(r,'R_ab(in ohm)=0.6+4.2439+2=')\n",
"disp('as, I=V/R_ab')\n",
"v=5*6.8439\n",
"format(8)\n",
"disp(v,'Therefore,  V(in V)=I*R_ab=')"
   ]
   }
,
{
		   "cell_type": "markdown",
		   "metadata": {},
		   "source": [
			"## Example 1.18: equivalent_resistance.sce"
		   ]
		  },
  {
"cell_type": "code",
	   "execution_count": null,
	   "metadata": {
	    "collapsed": true
	   },
	   "outputs": [],
"source": [
"//example1.18\n",
"clc\n",
"disp('Rearrange the circuit as shown below.')\n",
"disp('The 3.333ohm and 3.6ohm resistors are in series in fig 1.87(c).')\n",
"r=3.333+3.6\n",
"format(8)\n",
"disp(r,'Therefore, the equivalent resistance R_yz(in ohm)=')"
   ]
   }
,
{
		   "cell_type": "markdown",
		   "metadata": {},
		   "source": [
			"## Example 1.19: find_current.sce"
		   ]
		  },
  {
"cell_type": "code",
	   "execution_count": null,
	   "metadata": {
	    "collapsed": true
	   },
	   "outputs": [],
"source": [
"//example1.19\n",
"clc\n",
"disp('Using the loop analysis, (fig 1.88(a) see on next page)')\n",
"disp('Applying KVL to the three loops,')\n",
"disp('-(I1)-(I1)-2(I1)+2(I3)+5-2(I1)=0  i.e  -6(I1)+2(I3)= -5   ...(1)')\n",
"disp('-2(I3)+2(I1)-2(I3)-5-2(I3)-(I3)+I2=0  i.e   2(I1)+I2-7(I3)=5   ...(2)')\n",
"disp('-2(I2)-(I2)+(I3)-2(I2)+5=0   i.e  -5(I2)+I3= -5  ...(3)')\n",
"disp('Solving equation (1),(2)and (3)')\n",
"disp('so, putting equations(1) and (3) in eq (2),we get')\n",
"disp('10(I3)+25+3(I3)+15-105(I3)=75')\n",
"disp('Therefore, -92(I3)=35')\n",
"i=(-35)/92\n",
"format(7)\n",
"disp(i,'Therefore, I3(in A)=')\n",
"disp('Now, putting value of I3 in equations (1) and (2) :')\n",
"i=((-35/46)+5)/6\n",
"disp(i,'Therefore, I1(in A)=')\n",
"i=((-35/92)+5)/5\n",
"disp(i,'and, I2(in A)=')\n",
"disp('These are the currents in all the sources. I3 is negative hence its direction is opposite to that assumed earlier.')"
   ]
   }
,
{
		   "cell_type": "markdown",
		   "metadata": {},
		   "source": [
			"## Example 1.1: obtain_the_waveform.sce"
		   ]
		  },
  {
"cell_type": "code",
	   "execution_count": null,
	   "metadata": {
	    "collapsed": true
	   },
	   "outputs": [],
"source": [
"//example1.1\n",
"clc\n",
"disp('From the give waveform,')\n",
"s=100/2\n",
"disp(s,'For 0<t<2, i(t) is a straight line slope=')\n",
"disp('Therefore   i(t)=50t and di(t)/dt=50  .. 0<t<2')\n",
"disp('For 2<t<4,   i(t)=100 and di(t)/dt=0')\n",
"s=(-100)/2\n",
"disp(s,'For 4<t<6, i(t) is a straight line slope = ')\n",
"disp('Therefore,   i(t)= -50t and di(t)/dt= -50  ..4<t<6')\n",
"disp('Now   v_l(t)=L*di(t)/dt')\n",
"v=(50)*10^-3\n",
"format(5)\n",
"disp(v,'V_l(t)[in volts   from 0<t<2]=')\n",
"v=0*10^-3\n",
"disp(v,'V_l(t)[in volts   from 2<t<4]=')\n",
"v=(-50)*10^-3\n",
"disp(v,'V_l(t)[in volts   from 4<t<6]=')\n",
"disp('The waveform is shown in the fig. 1.12(a)')"
   ]
   }
,
{
		   "cell_type": "markdown",
		   "metadata": {},
		   "source": [
			"## Example 1.20: calculate_resistance.sce"
		   ]
		  },
  {
"cell_type": "code",
	   "execution_count": null,
	   "metadata": {
	    "collapsed": true
	   },
	   "outputs": [],
"source": [
"//example1.20\n",
"clc\n",
"disp('The various branch currents are shown in the fig. 1.89. The current through branch OC is zero. Applying KVL to the various loops,')\n",
"disp('-4(i2)-(R*i2)-2(i1)+10=0')\n",
"disp('i.e   2(i1)+4(i2)+(R*i2)=10    ..Loop AOBA')\n",
"disp('-(i1-i2)-1.5(i1-i2)-2(i1)+10=0')\n",
"disp('i.e   +4.5(i1)-2.5(i2)=10    ..Loop ACBA')\n",
"disp('-(i1-i2)-1.5(i1-i2)+(R*i2)+4(i2)=0')\n",
"disp('i.e   -2.5(i1)+6.5(i2)+(R*i2)=0    ..Loop ACBOA')\n",
"disp('As current through branch OC is zero, points O and C are equipotential. So drop across AO is same as drop across AC.')\n",
"disp('Therefore,    4(i2)=(i1-i2)   i.e    (i1)=5(i2)')\n",
"disp('Using in loop A-C-B-A, 4.5*5*(i2)-2.5(i2)=10')\n",
"i=10/20\n",
"disp(i,'Therefore,    i2(in A)=')\n",
"i=5*0.5\n",
"disp(i,'and, i1(in A)=')\n",
"disp('Using in loop A-O-B-A, (2*2.5)+(4*0.5)+0.5(R)=10')\n",
"r=3/0.5\n",
"disp(r,'Therefore,   R(in ohm)=')\n",
"disp('And current through R is i2=0.5 A')"
   ]
   }
,
{
		   "cell_type": "markdown",
		   "metadata": {},
		   "source": [
			"## Example 1.21: find_current.sce"
		   ]
		  },
  {
"cell_type": "code",
	   "execution_count": null,
	   "metadata": {
	    "collapsed": true
	   },
	   "outputs": [],
"source": [
"//example1.21\n",
"clc\n",
"disp('Use nodal analysis,')\n",
"disp('Applying KCL at the two nodes,')\n",
"disp('21-I1-I2=0    (1)')\n",
"disp('I2-I3-I4=0    (2)')\n",
"disp('Analysing various branches,')\n",
"disp('I1=(V1-0)/2,  I2=(V1-V2)/3,  I3=(V2-0)/3,  I4=(V2-0)/6')\n",
"disp('Using in the equations (1) and (2),')\n",
"disp('21-(V1/2)-(V1-V2)/3 = 0')\n",
"disp('i.e   0.8333(V1)-0.333(V2) = 21    ...(3)')\n",
"disp('[(V1-V2)/3]-(V2/3)-(V2/6)=0')\n",
"disp('i.e   0.3333(V1)-0.8333(V2) = 21    ...(4)')\n",
"disp('Solving equations (3) and (4),')\n",
"disp('0.8333(V1)-0.333(0.3333/0.8333)V1=21')\n",
"v=(-21*0.8333)/((0.333*0.3333)-(0.8333)^2)\n",
"format(3)\n",
"disp(v,'V1(in V)=')\n",
"v=(0.3333*30)/0.8333\n",
"disp(v,'V2(in V)=')\n",
"i=-12/6\n",
"disp(i,'Therefore, I(in 6ohm)=I4(in A)=')\n",
"disp('The current flows in downward direction in 6ohm resistor.')\n",
"disp('Voltage across current soource is the voltage across 2ohm resistance, which is node voltage V1=30 V.')\n",
"p=30*21\n",
"format(4)\n",
"disp(p,'Therefore, power supplied by source P(in W)=V1*21=30*21=')"
   ]
   }
,
{
		   "cell_type": "markdown",
		   "metadata": {},
		   "source": [
			"## Example 1.22: find_voltage.sce"
		   ]
		  },
  {
"cell_type": "code",
	   "execution_count": null,
	   "metadata": {
	    "collapsed": true
	   },
	   "outputs": [],
"source": [
"//example1.22\n",
"clc\n",
"disp('The arrangment is shown in the fig 1.92')\n",
"disp('P2=(I^2)*R2')\n",
"disp('Therefore, 16= (2^2)*R2')\n",
"r=16/4\n",
"disp(r,'R2(in ohm)=')\n",
"v=4*2\n",
"disp(v,'V2(in ohm)=I*R2=')\n",
"v=2*6\n",
"disp('V3(in V)=I*R3=')\n",
"v=4+8+12\n",
"disp(v,'V(in V)=V1+V2+V3=')"
   ]
   }
,
{
		   "cell_type": "markdown",
		   "metadata": {},
		   "source": [
			"## Example 1.23: find_current.sce"
		   ]
		  },
  {
"cell_type": "code",
	   "execution_count": null,
	   "metadata": {
	    "collapsed": true
	   },
	   "outputs": [],
"source": [
"//example1.23\n",
"clc\n",
"disp('The branch currents are shown in the fig 1.93(a)')\n",
"disp('Applying KVL to the two loops,')\n",
"disp('-2(I1)-5(I2)+12=0')\n",
"disp('i.e   2(I1)+5(I2)=12  ..(1)')\n",
"disp('-4(I1-I2)-6(I1-I2)+5(I2)=0')\n",
"disp('i.e   -10(I1)+15(I2)=0')\n",
"disp('Solving equation (1) and (2),')\n",
"disp('2(I1)+5(10/15)(I1)=12')\n",
"i=9/4\n",
"format(5)\n",
"disp(i,'I1(in A)=')\n",
"disp('put this value of I1 in eq (2),we get')\n",
"i=(10/15)*2.25\n",
"disp(i,'I2(in A)=(10/15)*2.25=')\n",
"disp('   Branch        Current          voltage drop')\n",
"disp('    A-B         I1=2.25A           2(I1)=4.5V')\n",
"disp('    B-C        I1-I2=0.75A        4(I1-I2)=3V')\n",
"disp('    C-D        I1-I2=0.75A        6(I1-I2)=4.5V')\n",
"disp('    B-E          I2=1.5A           5(I2)=7.5V')\n",
"disp('    F-A         I1=2.25A           12V source')"
   ]
   }
,
{
		   "cell_type": "markdown",
		   "metadata": {},
		   "source": [
			"## Example 1.24: find_voltage_drop.sce"
		   ]
		  },
  {
"cell_type": "code",
	   "execution_count": null,
	   "metadata": {
	    "collapsed": true
	   },
	   "outputs": [],
"source": [
"//example1.24\n",
"clc\n",
"i=20/(2+1.2727)\n",
"format(7)\n",
"disp(i,'I(in A)=')\n",
"disp('By current division rule,')\n",
"i=(6.1111*2)/5.5\n",
"format(6)\n",
"disp(i,'I1(in A)=9(I*2)/(2+3.5)=')\n",
"v=2.222*1\n",
"disp(v,'V(1 ohm)=I1*1=')\n",
"i=(6.1111*3.5)/5.5\n",
"disp(i,'I2(in A)=(3.5*I)/(2 +3.5)=')\n",
"p=((3.888)^2)*2\n",
"format(7)\n",
"disp(p,'P(2 ohm)[in W]=(I2^2)*2=')"
   ]
   }
,
{
		   "cell_type": "markdown",
		   "metadata": {},
		   "source": [
			"## Example 1.25: find_inductive_resistance.sce"
		   ]
		  },
  {
"cell_type": "code",
	   "execution_count": null,
	   "metadata": {
	    "collapsed": true
	   },
	   "outputs": [],
"source": [
"//example1.25\n",
"clc\n",
"disp('The arrangement is shown in the fig 1.97.')\n",
"x=110/10\n",
"disp(x,'X_L(in ohm)=V/I=')\n",
"disp('THe inductive reactance is 11 ohm')\n",
"disp('X_L=2*pi*f*L')\n",
"disp('Therefore, 11=2*pi*50*L')\n",
"l=11/(2*%pi*50)\n",
"format(9)\n",
"disp(l,'L(in H)=')"
   ]
   }
,
{
		   "cell_type": "markdown",
		   "metadata": {},
		   "source": [
			"## Example 1.26: find_resistance.sce"
		   ]
		  },
  {
"cell_type": "code",
	   "execution_count": null,
	   "metadata": {
	    "collapsed": true
	   },
	   "outputs": [],
"source": [
"//example1.26\n",
"clc\n",
"disp('For d.c. supply frequency is 0 Hz.')\n",
"disp('X_C=1/(2*pi*f*C)=1/0=infinity')\n",
"disp('So capacitor gives infinite reactance in d.c. supply and acts as an open circuits.')\n",
"disp('In an a.c. supply of 100 Hz,')\n",
"x=1/(2*%pi*100*50*10^-6)\n",
"format(9)\n",
"disp(x,'X_C(in ohm)=1/(2*pi*f*C)=')"
   ]
   }
,
{
		   "cell_type": "markdown",
		   "metadata": {},
		   "source": [
			"## Example 1.27: find_resistance.sce"
		   ]
		  },
  {
"cell_type": "code",
	   "execution_count": null,
	   "metadata": {
	    "collapsed": true
	   },
	   "outputs": [],
"source": [
"//example1.27\n",
"clc\n",
"disp('The circuit can be redrawn as shown in the fig 1.99(a)')\n",
"disp('fig 1.99(a,b) see on next page')\n",
"disp('Therefore, R_eq=[30(10+R)/(30+10+R)]=(300+30R)/(40+R)')\n",
"disp('Therefore, I=V/(R_eq)   i.e   6=30/[(300+30R)/(40+R)]')\n",
"disp('6(300+30R)=50(40+R)   i.e.    1800+180R=2000+50R')\n",
"r=200/130\n",
"format(7)\n",
"disp(r,'R(in ohm)=')\n",
"disp('By current division rule,')\n",
"i=(6*11.5384)/41.5384\n",
"format(6)\n",
"disp(i,'I1(in A)=[(I_t)*(10+R)/(10+R+30)]=')\n",
"i=(6*30)/41.5384\n",
"disp(i,'I2(in A)=[(I_t)*30/(10+R+30)]=')\n",
"disp('Key point: Cross check I1+I2= 6 A')"
   ]
   }
,
{
		   "cell_type": "markdown",
		   "metadata": {},
		   "source": [
			"## Example 1.28: find_resistance.sce"
		   ]
		  },
  {
"cell_type": "code",
	   "execution_count": null,
	   "metadata": {
	    "collapsed": true
	   },
	   "outputs": [],
"source": [
"//example1.28\n",
"clc\n",
"disp('Convert the delta of 2ohm, 3ohm and 5ohm to equivalent star as shown in the fig 1.101(a)')\n",
"r=15/10\n",
"disp(r,'R1(in ohm)=(5*3)/(5+3+2)=')\n",
"r=6/10\n",
"disp(r,'R2(in ohm)=(3*2)/(5+3+2)=')\n",
"r=10/10\n",
"disp(r,'R3(in ohm)=(5*2)/(5+3+2)=')\n",
"disp('Convert the delta of 1ohm, 5.6ohm and 4ohm to equivalent star as shown in the fig 101(c)')\n",
"r=5.6/10.6\n",
"format(7)\n",
"disp(r,'R4(in ohm)=(5.6*1)/(1+5.6+4)=')\n",
"r=(5.6*4)/10.6\n",
"disp(r,'R5(in ohm)=(5.6*4)/(1+5.6+4)=')\n",
"r=4/10.6\n",
"disp(r,'R6(in ohm)=(1*4)/(1+5.6+4)=')\n",
"r=3.4705+0.3773\n",
"disp(r,'Therefore, R_ab(in ohm)=3.4705+0.3773=')"
   ]
   }
,
{
		   "cell_type": "markdown",
		   "metadata": {},
		   "source": [
			"## Example 1.29: find_resistance.sce"
		   ]
		  },
  {
"cell_type": "code",
	   "execution_count": null,
	   "metadata": {
	    "collapsed": true
	   },
	   "outputs": [],
"source": [
"//example1.29\n",
"clc\n",
"disp('Convert the inner delta of 5ohm to equivalent star. As all the resistances of delta are same, all the resistances of equivalent star will be equal of value ')\n",
"r=25/15\n",
"disp(r,'R(in ohm)=(5*5)/(5+5+5)=')\n",
"disp('Convert the delta of 6.667ohm, 5ohm and 11.667ohm')\n",
"r=(6.667*11.667)/(6.667+11.667+5)\n",
"format(7)\n",
"disp(r,'R1(in ohm)=(6.667*11.667)/(6.667+11.667+5)=')\n",
"r=(6.667*5)/(6.667+11.667+5)\n",
"disp(r,'R2(in ohm)=(6.667*5)/(6.667+11.667+5)=')\n",
"r=(5*11.667)/(6.667+11.667+5)\n",
"format(7)\n",
"disp(r,'R3(in ohm)=(5*11.667)/(6.667+11.667+5)=')\n",
"r=5.333+2.612\n",
"format(7)\n",
"disp(r,'Therefore,  R_ab(in ohm)=5.333+2.612=')"
   ]
   }
,
{
		   "cell_type": "markdown",
		   "metadata": {},
		   "source": [
			"## Example 1.2: find_equivalent_resistance.sce"
		   ]
		  },
  {
"cell_type": "code",
	   "execution_count": null,
	   "metadata": {
	    "collapsed": true
	   },
	   "outputs": [],
"source": [
"//example1.2\n",
"clc\n",
"disp('Identify combinations of series and parallel resistances.')\n",
"disp('The resistances 5ohm and 6ohm are in series, as going to carry same current.')\n",
"r=5+6\n",
"disp(r,'So equivalent resistance is(in ohm)=')\n",
"disp('While the resistances 3ohm,4ohm,4ohm are in parallel, as voltage across them same but current divides.')\n",
"r=10/12\n",
"format(4)\n",
"disp(r,'(1/R)=(1/3)+(1/4)+(1/5)=')\n",
"r=12/10\n",
"disp(r,'Therefore,  R(in ohm)=')\n",
"disp('Replacing these combinations redraw the fig. as shown in the fig. 1.28(a)')\n",
"disp('Now again 1.2ohm and 2ohm are in series so equivalent resistance is 2+1.2=3.2 ohm while 11ohm and 7ohm are in parallel.')\n",
"disp('Using formula (R1*R2)/(R1+R2)')\n",
"r=77/18\n",
"format(6)\n",
"disp(r,'equivalent resistance3 is (11*7)/(11+7)[in ohm]=')\n",
"disp('Replacing the respective combination redraw the circuit as shown in the fig 1.28(b).')\n",
"disp('Now 3.2 and 4.277 are in parallel')\n",
"r=(3.2*4.277)/(3.2+4.277)\n",
"format(7)\n",
"disp(r,'Therefore , replacing them by (3.2*4.277)/(3.2+4.277)[in ohm]=')\n",
"r=1+1.8304\n",
"disp(r,'R_ab(in ohm)=')"
   ]
   }
,
{
		   "cell_type": "markdown",
		   "metadata": {},
		   "source": [
			"## Example 1.30: find_current.sce"
		   ]
		  },
  {
"cell_type": "code",
	   "execution_count": null,
	   "metadata": {
	    "collapsed": true
	   },
	   "outputs": [],
"source": [
"//example1.30\n",
"clc\n",
"disp('Let us divide the voltage waveform into two sections.')\n",
"disp('For 0<=t<=2, v(t)=mt  where,')\n",
"m=10/2\n",
"disp(m,'m=(10-0)/(2-0)=')\n",
"disp('Therefore,  i(t)=v(t)/R=5t/40=0.125t A')\n",
"i=0.125*2\n",
"disp(i,'At t=2, v(t)=10 V,  i(t)[in A]=0.125*2=')\n",
"m=(-10)/2\n",
"disp(m,'For 2<=t<=4, v(t)=mt+c    where   m=(0-10)/(4-2)=')\n",
"disp('Therefore,    v(t)= -5t+C')\n",
"c=5*4\n",
"disp(c,'Now at t=4,  v(t)=0  i.e.  0= -5*4+C   i.e    C=')\n",
"disp('Therefore,    v(t)= -5t+20')\n",
"disp('Therefore,    i(t)=v(t)/R= (-5t+20)/40= -0.125t+0.5')\n",
"disp('At t=4, v(t)= -5*4+20=0 V,  i(t)= -0.125*4+0.5= 0 V')\n",
"disp('Hence the waveform of the current passing through the resistance is as shown in the fig 1.105')"
   ]
   }
,
{
		   "cell_type": "markdown",
		   "metadata": {},
		   "source": [
			"## Example 1.31: obtain_current.sce"
		   ]
		  },
  {
"cell_type": "code",
	   "execution_count": null,
	   "metadata": {
	    "collapsed": true
	   },
	   "outputs": [],
"source": [
"//example1.31\n",
"clc\n",
"disp('Method 1: Kirchoffs laws')\n",
"disp('Now apply KVL to the two loops without current source as effect of the currents in various branches.')\n",
"disp('-2(I1-2)-I2+6=0   i.e.    2(I1)+I2=10   ..(1)')\n",
"disp('-3(I1-2-I2)-12+I2=0   i.e.    -3(I1)+4(I2)=6   ..(2)')\n",
"disp('-3(I1)+4(10-2(I1))=6')\n",
"i=34/11\n",
"format(7)\n",
"disp(i,'Therefore,    I1(in A)=')\n",
"i=10-(2*3.0909)\n",
"disp(i,'and,   I2(in A)=')\n",
"disp('Currents through various resistances are,')\n",
"i=3.0909-2\n",
"disp(i,'I(2ohm)[in A]=I1-2=')\n",
"disp('I(1ohm)[in A]=I2=3.8181')\n",
"i=3.0909-2-3.8181\n",
"disp(i,'I(3ohm)[in A]=I1-2-I2=')\n",
"disp('Current through 3ohm is negative i.e. it is flowing in opposite direction to that assumed in the circuit.')\n",
"disp('Method II: Loop analysis')\n",
"disp('From the current source branch,')\n",
"disp('I3= 2 A')\n",
"disp('Applying KVL to the other two loopos without current source,')\n",
"disp('-2(I1)+2(I3)-I1+I2+6=0    i.e.    -3(I1)+I2= -10  ..(1)')\n",
"disp('-3(I2)+3(I3)-12-I2+I1=0   i.e.    I1-4(I2)=6  ..(2)')\n",
"disp('Solving we get,')\n",
"disp('I1-4(-10+3(I1))=6')\n",
"i=34/11\n",
"disp(i,'I1(in A)=')\n",
"i=(3.0909-6)/4\n",
"disp(i,'and,  I2(in A)=')\n",
"disp('Currents through various resistances are,')\n",
"i=3.0909-2\n",
"disp(i,'I(2ohm)[in A]=I1-2=')\n",
"i=3.0909+0.7272\n",
"disp(i,'I(1ohm)[in A]=I1-I2=')\n",
"i=-0.7272-2\n",
"disp(i,'I(3ohm)[in A]=I2-2=')\n",
"disp('The currents are same as obtained by the method 1.')"
   ]
   }
,
{
		   "cell_type": "markdown",
		   "metadata": {},
		   "source": [
			"## Example 1.32: calculate_current.sce"
		   ]
		  },
  {
"cell_type": "code",
	   "execution_count": null,
	   "metadata": {
	    "collapsed": true
	   },
	   "outputs": [],
"source": [
"//example1.32\n",
"clc\n",
"disp('Use the loop analysis')\n",
"disp('From the current source branch,')\n",
"disp('I3=1 A')\n",
"disp('Applying KVL to the loops without current source we get,')\n",
"disp('-6(I1)-4-5(I1)+5(I2)=0    i.e.    -11(I1)+5(I2)=4  ..(1)')\n",
"disp('-5(I2)+5(I1)-6-4(I2)-4(I3)=0  i.e.    5(I1)-9(I2)=10  (2)')\n",
"disp('Solving, we get:')\n",
"disp('-11(I1)+5((5I1-10)/9)=4')\n",
"disp('Therefore,    -99(I1)+25(I1)-50=36')\n",
"i=86/(-74)\n",
"format(7)\n",
"disp(i,'Therefore,      I1(in A)=')\n",
"i=((5*(-1.1621))-10)/9\n",
"disp(i,'and,    I2(in A)=')\n",
"disp('Current through 5ohm in specified direction is,')\n",
"i=(-1.7567+1.1621)\n",
"disp(i,'I(5ohm)[in A]=I2-I1= -1.7567-(-1.1621)=')\n",
"disp('As negative, current through 5ohm flows in opposite direction to that specified in the circuit.')"
   ]
   }
,
{
		   "cell_type": "markdown",
		   "metadata": {},
		   "source": [
			"## Example 1.3: voltage_across_three_resistances.sce"
		   ]
		  },
  {
"cell_type": "code",
	   "execution_count": null,
	   "metadata": {
	    "collapsed": true
	   },
	   "outputs": [],
"source": [
"//example1.3\n",
"clc\n",
"disp('I=v/(R1+R2+R3)  ..... series circuit')\n",
"i=60/60\n",
"disp(i,'I(in amp)=')\n",
"v=1*10\n",
"disp(v,'Therefore,  V_r1(in V)=(I*R1)=(V*R1)/(R1+R2+R3)=')\n",
"v=1*20\n",
"disp(v,'Therefore,  V_r2(in V)=(I*R2)=(V*R2)/(R1+R2+R3)=')\n",
"v=1*30\n",
"disp(v,'and,  V_r3(in V)=(I*R3)=(V*R3)/(R1+R2+R3)=')\n",
"disp('Key point: It can be seen that voltage across any resistance of series circuit is ratio of that resistance to the total resistance, multiplied by the source voltage.')"
   ]
   }
,
{
		   "cell_type": "markdown",
		   "metadata": {},
		   "source": [
			"## Example 1.4: magnitudes_of_total_current.sce"
		   ]
		  },
  {
"cell_type": "code",
	   "execution_count": null,
	   "metadata": {
	    "collapsed": true
	   },
	   "outputs": [],
"source": [
"//example1.4\n",
"clc\n",
"disp('The equivalent resistance of two is,')\n",
"r=(10*20)/30\n",
"format(5)\n",
"disp(r,'R_eq(in ohm)=(R1*R2)/(R1+R2)=')\n",
"i=50/6.67\n",
"format(4)\n",
"disp(i,'I_t(in amp)=V/R_eq=')\n",
"disp('As per the current distribution in parallel circuit,')\n",
"i=(7.5*20)/30\n",
"disp('I_1(in amp)=(I_t*R2)/(R1+R2)=')\n",
"i=75/30\n",
"disp(i,'and,  I_2(in amp)=(I_t*R1)/(R1+R2)=')\n",
"disp('It can be verified that I_t=(I1)+(I2).')"
   ]
   }
,
{
		   "cell_type": "markdown",
		   "metadata": {},
		   "source": [
			"## Example 1.5: find_the_values_of_currents.sce"
		   ]
		  },
  {
"cell_type": "code",
	   "execution_count": null,
	   "metadata": {
	    "collapsed": true
	   },
	   "outputs": [],
"source": [
"//example1.5\n",
"clc\n",
"disp('Application of Kirchhoffs law:')\n",
"disp('Step 1 and 2: Draw the circuit with all values which are same as the given network. Mark all the branch starting from +ve of any of the source, say +ve of 50V source.')\n",
"disp('Step 3: Mark all the polarities for different voltages across the resistances. This is combined with step2 shown in the network below in fig 1.41(a).')\n",
"disp('Step 4: Apply KVL to different loops.')\n",
"disp('Loop 1: A-B-E-F-A , -15(I_1)-20(I_2)+50=0')\n",
"disp('Loop 2: B-C-D-E-B , -30((I_1)-(I_2))-100+20(I_2)=0')\n",
"disp('Rewriting all the equations,taking constants in one side.')\n",
"disp('15(I_1)+20(I_2)=50  ..(1)')\n",
"disp('-30(I_1)+50(I_2)=100  ..(2)')\n",
"disp('Apply cramers rule,')\n",
"d=(15*50)-(-30*20)\n",
"format(5)\n",
"disp(d,'D=[15 20;-30 50]=')\n",
"disp('Calculating D_v')\n",
"d=(50*50)-2000\n",
"disp(d,'D1=[50 20;100 50]=')\n",
"i=500/1350\n",
"disp(i,'I_1(in amp)=(D_1)/D=')\n",
"disp('Calculating D2 ,')\n",
"d=1500+(30*50)\n",
"disp(d,'D2=[15 50;-30 100]=')\n",
"i=3000/1350\n",
"disp(i,'I_2(in amp)=D2/D=')\n",
"disp('For I_1 and I_2, as answer is positive, assumed direction is correct')\n",
"disp('Therefore, for I_1 answer is 0.37 amp. For I_2 answer is 2.22amp')\n",
"i=0.37-2.22\n",
"format(5)\n",
"disp(i,'(I_1)-(I_2)[in amp]=')\n",
"disp('Negative sign indicates assumed direction is wrong.')\n",
"disp('i.e (I_1)-(I_2)=1.85A flowing in opposite direction to that of the assumed direction.')"
   ]
   }
,
{
		   "cell_type": "markdown",
		   "metadata": {},
		   "source": [
			"## Example 1.6: find_i1_and_i2.sce"
		   ]
		  },
  {
"cell_type": "code",
	   "execution_count": null,
	   "metadata": {
	    "collapsed": true
	   },
	   "outputs": [],
"source": [
"//example1.6\n",
"clc\n",
"disp('The current distribution using KCL is as shown,')\n",
"disp('Key Point : KVL should not be applied to the loop consisting current source.')\n",
"disp('From branch DE,')\n",
"disp('(i1)=5+3(i2)  ...(1)')\n",
"disp('Applying KVL to the loop BCDEFGB without current source,')\n",
"disp('-1*(5+3(i2))+5(i2)=0    ...(2)')\n",
"disp('2(i2)=5')\n",
"i=5/2\n",
"disp(i,'i2(in amp)=')\n",
"disp('from eq.(1)')\n",
"i=5+(3*2.5)\n",
"disp(i,'i1(in amp)=')"
   ]
   }
,
{
		   "cell_type": "markdown",
		   "metadata": {},
		   "source": [
			"## Example 1.7: transform_voltage_source_to_current_source.sce"
		   ]
		  },
  {
"cell_type": "code",
	   "execution_count": null,
	   "metadata": {
	    "collapsed": true
	   },
	   "outputs": [],
"source": [
"//example1.7\n",
"clc\n",
"disp('Refer to the fig 1.45(a).')\n",
"i=20/5\n",
"disp(i,'Then current of current source is, I(in A)=V/R_sc=')\n",
"disp('with internal parallel resistance same as R_sc')\n",
"disp('Therefore , Equivalent current is as shown in the fig. 1.45(b).')"
   ]
   }
,
{
		   "cell_type": "markdown",
		   "metadata": {},
		   "source": [
			"## Example 1.8: convert_current_source_to_voltage_source.sce"
		   ]
		  },
  {
"cell_type": "code",
	   "execution_count": null,
	   "metadata": {
	    "collapsed": true
	   },
	   "outputs": [],
"source": [
"//example\n",
"clc\n",
"disp('The given values are, I=50A and R_sh= 10ohm')\n",
"disp('For the equivalent voltage source,')\n",
"v=10*50\n",
"disp(v,'V(in V)=(I*R_sh)=')\n",
"disp('R_se=R_sh=10ohm in series.')\n",
"disp('The equivalent voltage source is shown in the fig 1.46(a)')\n",
"disp('Note the polarities of voltage source, which are such that +ve at top of arrow and -ve at botttom.')"
   ]
   }
,
{
		   "cell_type": "markdown",
		   "metadata": {},
		   "source": [
			"## Example 1.9: convert_delta_to_star.sce"
		   ]
		  },
  {
"cell_type": "code",
	   "execution_count": null,
	   "metadata": {
	    "collapsed": true
	   },
	   "outputs": [],
"source": [
"//example1.9\n",
"clc\n",
"disp('Its equivalent star is as shown in the fig 1.57. where,')\n",
"r=50/30\n",
"format(5)\n",
"disp(r,'R1(in ohm)=(10*50)/(5+10+15)=')\n",
"r=150/30\n",
"disp(r,'R2(in ohm)=(15*10)/(5+10+15)=')\n",
"r=75/(30)\n",
"disp(r,'R3(in ohm)=(15*5)/(5+10+15)')"
   ]
   }
],
"metadata": {
		  "kernelspec": {
		   "display_name": "Scilab",
		   "language": "scilab",
		   "name": "scilab"
		  },
		  "language_info": {
		   "file_extension": ".sce",
		   "help_links": [
			{
			 "text": "MetaKernel Magics",
			 "url": "https://github.com/calysto/metakernel/blob/master/metakernel/magics/README.md"
			}
		   ],
		   "mimetype": "text/x-octave",
		   "name": "scilab",
		   "version": "0.7.1"
		  }
		 },
		 "nbformat": 4,
		 "nbformat_minor": 0
}
