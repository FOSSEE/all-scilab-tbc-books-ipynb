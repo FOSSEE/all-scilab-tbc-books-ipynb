{
"cells": [
 {
		   "cell_type": "markdown",
	   "metadata": {},
	   "source": [
       "# Chapter 2: DC Machines"
	   ]
	},
{
		   "cell_type": "markdown",
		   "metadata": {},
		   "source": [
			"## Example 2.10: induced_emf_and_armature_current_and_stray_losses_and_lost_torque.sce"
		   ]
		  },
  {
"cell_type": "code",
	   "execution_count": null,
	   "metadata": {
	    "collapsed": true
	   },
	   "outputs": [],
"source": [
"//example2.10\n",
"clc\n",
"disp('P=4,  A=P=4')\n",
"disp('Running light it is on no load.')\n",
"disp('Therefore,    N_0=1000 rpm    Z=540   and  psi=25*10^-3 Wb')\n",
"e=(100*540)/240\n",
"disp(e,'Therefore,  E_b0(in V)=(psi*P*N*Z)/(60*A)=')\n",
"disp('i)Induced emf,    E_b0=225 V')\n",
"disp('ii) From voltage equation,    V=(E_b)+[(I_a)*(R_a)]')\n",
"disp('V=(E_b0)+[(I_a0)*(R_a)]')\n",
"disp('230=225+[(I_a0)*0.8]')\n",
"i=5/0.8\n",
"disp(i,'I_a0(in A)=')\n",
"disp('iii) On no load,power developed is fully the power required to overcome stray losses.')\n",
"e=225*6.25\n",
"format(8)\n",
"disp(e,'Stray losses=(E_b0)*(I_a0)=')\n",
"t=(1406.25*60)/(2*%pi*1000)\n",
"format(7)\n",
"disp(t,'T_f(in N-m)=[(E_b0)*(I_a0)]/(w_0)=')"
   ]
   }
,
{
		   "cell_type": "markdown",
		   "metadata": {},
		   "source": [
			"## Example 2.11: speed_of_motor.sce"
		   ]
		  },
  {
"cell_type": "code",
	   "execution_count": null,
	   "metadata": {
	    "collapsed": true
	   },
	   "outputs": [],
"source": [
"//example2.11\n",
"clc\n",
"disp('P=4,  Z=200,  A=2,  psi=25*10^-3 Wb')\n",
"disp('(I_a)=(I_L)=60 A,     R_a=0.15ohm,    R_se=0.2 ohm')\n",
"disp('V=(E_b)+(I_a*R_a)+(I_a*R_se)')\n",
"disp('250=E_b+60(0.15+0.2)')\n",
"b=250-(60*(0.15+0.2))\n",
"disp(b,'E_b(in V)=')\n",
"disp('Now,  E_b=(psi*P*N*Z)/(60*A)')\n",
"disp('Therefore,    229=(25*(10^-3)*4*N*200)/(60*2)')\n",
"n=(229*60*2)/(800*25*10^-3)\n",
"disp(n,'Therefore, N(in rpm)=')"
   ]
   }
,
{
		   "cell_type": "markdown",
		   "metadata": {},
		   "source": [
			"## Example 2.12: armature_current_and_back_emf.sce"
		   ]
		  },
  {
"cell_type": "code",
	   "execution_count": null,
	   "metadata": {
	    "collapsed": true
	   },
	   "outputs": [],
"source": [
"//example2.12\n",
"clc\n",
"disp('V=250 V,  I_L=20 A,   R_s=0.3ohm,  R_sh=200 ohm')\n",
"disp('I_L=(I_a)+(I_sh)')\n",
"s=250/200\n",
"disp(s,'(I_sh)[in A]=V/(R_sh)=')\n",
"disp('Therefore,    I_a=(I_L)-(I_sh)')\n",
"a=20-1.25\n",
"disp(a,'I_a(in A)=20-1.25=')\n",
"disp('Now,  V=(E_b)+(I_a*R_a)')\n",
"disp('Therefore,    E_b=V-[(I_a)*(R_a)]')\n",
"b=250-(18.75*0.3)\n",
"format(8)\n",
"disp(b,'E_b(in V)')"
   ]
   }
,
{
		   "cell_type": "markdown",
		   "metadata": {},
		   "source": [
			"## Example 2.13: speed_on_full_load.sce"
		   ]
		  },
  {
"cell_type": "code",
	   "execution_count": null,
	   "metadata": {
	    "collapsed": true
	   },
	   "outputs": [],
"source": [
"//example2.13\n",
"clc\n",
"disp('Let no load,speed be N_0=1000 rpm')\n",
"disp('I_L0=Line current on no load=6 A')\n",
"disp('I_L0=(I_a0)+(I_sh)')\n",
"s=220/110\n",
"disp(s,'(I_sh)[in A]=V/(R_sh)=')\n",
"a=6-2\n",
"disp(a,'Therefore,  (I_a0)[in A]=(I_L0)-(I_sh)=')\n",
"disp('Therefore, Back emf on no load E_b0 can be determined from the voltage equation.')\n",
"disp('V=(E_b0)+[(I_a0)+(R_a)]')\n",
"disp('Therefore,    220=(E_b0)+(4*0.3)')\n",
"b=220-1.2\n",
"disp(b,'E_b0(in V)=')\n",
"disp('On full load condition,supply voltage is constant and hence,')\n",
"s=220/110\n",
"disp(s,'(I_sh)[in A]=V/(R_sh)=')\n",
"disp('Now,(I_L)=(I_aFL)+(I_sh)')\n",
"disp('Therefore,    50=(I_aFL)+2')\n",
"f=50-2\n",
"disp(f,'Therefore,  (I_aFL)[in A]=')\n",
"disp('And,  V=(E_bFL)+[(I_aFL)*(R_a)]')\n",
"disp('Therefore,    220=(E_bFL+(48*0.3))')\n",
"b=220-(48*0.3)\n",
"disp(b,'Therefore,    (E_bFL)[in V]=')\n",
"disp('From the speed equation,')\n",
"disp('N directly proportional to (E_b)/psi')\n",
"disp('But psi is constant as I_sh is constant for both the load conditions')\n",
"disp('Therefore,    (N_0)/(N_FL)=(E_b0)/(E_bFL)')\n",
"n=(1000*205.6)/218.8\n",
"format(7)\n",
"disp(n,'Therefore,    (N_FL)[in rpm]=[(N_0)*(E_bFL)]/(E_b0)=')"
   ]
   }
,
{
		   "cell_type": "markdown",
		   "metadata": {},
		   "source": [
			"## Example 2.14: speed_of_motor_on_new_load.sce"
		   ]
		  },
  {
"cell_type": "code",
	   "execution_count": null,
	   "metadata": {
	    "collapsed": true
	   },
	   "outputs": [],
"source": [
"//example2.14\n",
"clc\n",
"disp('For load 1, N1=800 rpm,   I1=(I_a1)=20A')\n",
"disp('For load 2,   I2=(I_a2)=50 A,  R_a=0.2 ohm,   R_se=0.3 ohm')\n",
"disp('From voltage equation V=(E_b1)+[(I_a1)*(R_a)]+[(I_se1)*(R_se)]')\n",
"disp('but   I1=(I_a1)=(I_se1)=20 A')\n",
"disp('Therefore,    250=(E_b1)+20(0.2+0.3)')\n",
"b=250-10\n",
"disp(b,'Therefore,    E_b1(in V)=')\n",
"disp('and,  V=(E_b2)+[(I_a2)*R_a]+[(I_se2)+(R_se)]')\n",
"disp('Therefore,    250=(E_b2)+50(0.2+0.3)')\n",
"b=250-25\n",
"disp(b,'E_b2(in V)=')\n",
"disp('From the speed equation,')\n",
"disp('N is directly proportional to (E_b)/psi')\n",
"disp('Now,  psi proportional to (I_se) and (I_a)')\n",
"disp('Therefore,    N1/N2=[(E_b1)*(psi_2)]/[(E_b2)*(psi_1)]')\n",
"disp('Therefore,    N1/N2=[(E_b1)*(I_a2]/[(E_b2)*(I_a1)]')\n",
"n=(800*225*20)/(240*50)\n",
"disp(n,'Therefore,    N2(in rpm)=[(N1)*(E_b2)*(I_a1)]/[(E_b1)*(I_a2)]=')"
   ]
   }
,
{
		   "cell_type": "markdown",
		   "metadata": {},
		   "source": [
			"## Example 2.15: terminal_voltage.sce"
		   ]
		  },
  {
"cell_type": "code",
	   "execution_count": null,
	   "metadata": {
	    "collapsed": true
	   },
	   "outputs": [],
"source": [
"//example2.15\n",
"clc\n",
"disp('Consider the generator as shown in fig 2.61')\n",
"disp('P=4,  A=P=4,  N=750 rpm,  psi=30 mWb=30*10^-3,    Z=720')\n",
"n=(4*750*720*30*10^-3)/(240)\n",
"disp(n,'E(in V)=(psi*P*N*Z)/(60*A)=')\n",
"disp('E=(V_t)+[(I_a)*(R*a)]')\n",
"disp('(V_t)=(I_L)*(R_L)     i.e.    I_L=(V_t)/(R_L)')\n",
"disp('And,  I_sh=(V_t)/(R_sh)')\n",
"disp('I_a=(I_L)+(I_sh)=[(V_t)/(R_L)]+[(V_t)/(R_sh)]')\n",
"disp('Substituting in voltage equation,')\n",
"disp('E=(V_t)+[(V_t)/(R_L)+(V_t)/(R_sh)]*(R_a)')\n",
"disp('Therefore,    270=(V_t)+[(V_t)/(15)+(V_t)/(200)]*(0.4)')\n",
"disp('270=1.0286(V_t)')\n",
"v=270/1.0286\n",
"format(9)\n",
"disp(v,'V_t(in V)=')"
   ]
   }
,
{
		   "cell_type": "markdown",
		   "metadata": {},
		   "source": [
			"## Example 2.16: full_load_output_and_efficiency_of_motor.sce"
		   ]
		  },
  {
"cell_type": "code",
	   "execution_count": null,
	   "metadata": {
	    "collapsed": true
	   },
	   "outputs": [],
"source": [
"//example2.16\n",
"clc\n",
"disp('No load current I=2.5 A,')\n",
"n=440*2.5\n",
"disp(n,'No load input(in W)= (V*I)=')\n",
"s=440/550\n",
"disp(s,'I_sh(in A)=V/R_sh=')\n",
"disp('In dc shunt motor,    I=(I_sh)+(I_a)')\n",
"a=2.5-0.8\n",
"disp(a,'I_a(in A)=I-(I_sh)=')\n",
"p=1.2*(1.7)^2\n",
"format(6)\n",
"disp(p,'No load armature copper loss(in watts)= (R_a)*(I_a)^2=')\n",
"disp('Constant losses= No load input- No lpad armature Cu losses')\n",
"c=1100-3.468\n",
"format(9)\n",
"disp(c,'Therefore,    Constant losses(in Z)=')\n",
"disp('Now, full load line current i.e I=32 A')\n",
"disp('I=(I_sh)+(I_a)')\n",
"a=32-0.8\n",
"disp(a,'I_a(in A)=I-(I_sh)=')\n",
"p=1.2*(31.2)^2\n",
"disp(p,'Full load armature copper loss=(R_a)*(I_a)^2=')\n",
"disp('Total losses= Full load armature Cu loss + Constant losses')\n",
"l=1168.128+1096.532\n",
"disp(l,'Therefore, Total losses(in W)=')\n",
"v=440*32\n",
"disp(v,'Full load motor input(in W)= V*I =')\n",
"v=14080-2264.66\n",
"disp(v,'Full load motor output(in W)= Input-Losses=')\n",
"d=(1181534)/14080\n",
"format(6)\n",
"disp(d,'% efficiency at full load= [(Full load Output)/(full load input)]*100=')\n",
"disp('Therefore,    Efficiency of motor at full load = 83.91%')"
   ]
   }
,
{
		   "cell_type": "markdown",
		   "metadata": {},
		   "source": [
			"## Example 2.17: armature_current_and_back_emf_and_speed_of_motor.sce"
		   ]
		  },
  {
"cell_type": "code",
	   "execution_count": null,
	   "metadata": {
	    "collapsed": true
	   },
	   "outputs": [],
"source": [
"//example2.17\n",
"clc\n",
"disp('R_a=0.08 ohm, E_b1=242 V')\n",
"disp('i)    V=(E_b1)+[(I_a1)*(R_a)]')\n",
"disp('Therefore,    250=242+[(I_a1)*0.08]')\n",
"a=8/0.08\n",
"disp(a,'I_a1(in A)=')\n",
"disp('ii)   At start,   N=0 hence E_b=0')\n",
"a=250/0.08\n",
"disp(a,'(I_a(start))[in A]=V/(R_a)=')\n",
"disp('iii)  If  (I_a2)=120 A then,')\n",
"b=250-(120*0.08)\n",
"disp(b,'E_b2(in V)=V-[(I_a2)*(R_a)]=')\n",
"disp('iv)   Machine is running as a generator, shown in the fig 2.62')\n",
"disp('Let induced emf as generator be E_g')\n",
"g=250+(87*0.08)\n",
"format(7)\n",
"disp(g,'E_g(in V)=(V_t)+[(I_a)*(R_a)]=')\n",
"disp('In both cases as a motor or genrator E is directly prportional to (N*psi)')\n",
"disp('As flux is constant,  E is directly proportional to N')\n",
"disp('Therefore,    (E_b/E_g)=(N_m/N_g)')\n",
"disp('where     N_m= Speed as a motor   and    N_g= Speed as a generator')\n",
"disp('Therefore,    (242/256.96)=(1500/N_g)')\n",
"n=(1500*256.96)/242\n",
"disp(n,'N_g(in rpm)=')"
   ]
   }
,
{
		   "cell_type": "markdown",
		   "metadata": {},
		   "source": [
			"## Example 2.18: extra_resistance_to_be_added.sce"
		   ]
		  },
  {
"cell_type": "code",
	   "execution_count": null,
	   "metadata": {
	    "collapsed": true
	   },
	   "outputs": [],
"source": [
"//example2.18\n",
"clc\n",
"disp('V=200 V, I_a1=30 A')\n",
"disp('Resistance across terminals=(R_a)+(R_se)=1.5 ohm')\n",
"b=200-45\n",
"disp(b,'Therefore,    E_b1(in V)=V-[(I_a1)*(R_a-R_se)]=')\n",
"disp('N2=0.6(N1)')\n",
"disp('Therefore,    (N1/N2)=(1/0.6)')\n",
"disp('Use torque equation,')\n",
"disp('T is directly proportional to (psi*I_a) and (I_a)^2')\n",
"disp('as  ...  psi is directly proportional to I_a')\n",
"disp('Therefore,    (T1/T2)=[(I_a1)/(I_a2)]^2   ..(1)')\n",
"disp('Also T is directly proportional to N^3 given,')\n",
"disp('(T1/T2)=(N1/N2)^3=(1/0.6)^3   ..(2)')\n",
"disp('Equatimg equation (1) and (2),  (1/0.6)^3 = (30/I_a2)^2')\n",
"a=sqrt(900*(0.6^3))\n",
"format(8)\n",
"disp(a,'Therefore,    I_a2(in A)=')\n",
"disp('E_b2=V-[(I_a2)*(R_a+R_se+R_x)]=200-13.9427(1.5+R_x)   ..(3)')\n",
"disp('Use speed equation,   N directly proportional to [(E_b)/psi] and [(E_b)/(I_a)]        ... psi id directly proportional to I_a')\n",
"disp('Therefore,    (N1/N2)=[(E_b1)/(E_b2)]*[(I_a2)/(I_a1)]')\n",
"disp('Therefore,    (1/0.6)=(155/E_b2)*(13.9427/30)')\n",
"b=155*0.139427*2\n",
"format(6)\n",
"disp(b,'E_b2(in V)=')\n",
"disp('Equating equations (3) and (4), 43.22=200-13.9427(1.5+R_x)')\n",
"r=[(200-43.22)/13.9427]-1.5\n",
"disp(r,'R_x(in ohm)=')"
   ]
   }
,
{
		   "cell_type": "markdown",
		   "metadata": {},
		   "source": [
			"## Example 2.19: efficiency_of_motor.sce"
		   ]
		  },
  {
"cell_type": "code",
	   "execution_count": null,
	   "metadata": {
	    "collapsed": true
	   },
	   "outputs": [],
"source": [
"//example2.19\n",
"clc\n",
"disp('No load current = I_L0 = 4 A')\n",
"s=250/250\n",
"disp(s,'I_sh[in A]=V/(R_sh)=')\n",
"a=4-1\n",
"disp(a,'Therefore,  I_a0(in A)=(I_L0)-(I_sh)=')\n",
"r=0.3*(3)^2\n",
"disp(r,'Therefore,    No. load armature copper loss(in W)=[(I_a0)^2*(R_a)]=')\n",
"o=250*4\n",
"disp(o,'No load input(in W) = V*I_L0 =')\n",
"c=1000-2.7\n",
"disp(c,'Constant losses(in W) = No load input-No load armature copper loss=')\n",
"disp('On full load,     I_L=60 A and I_sh=1 A')\n",
"j=60-1\n",
"disp(j,'Therefore,    I_a(in A)=(I_L)-(I_sh)=')\n",
"l=0.3*(59)^2\n",
"disp(l,'Full load armature copper loss(in W)= (I_a^2)*R_a=')\n",
"l=997.3+2041.6\n",
"disp(l,'Total loss on full load=constant losses+ [(I_a)^2*(R_a) loss]=')\n",
"disp('Total input on full load = V*(I_L)')\n",
"l=250*60\n",
"disp(l,'Therefore,    P_in(in W)=')\n",
"p=15000-2041.6\n",
"format(8)\n",
"disp(p,'(P_out)[in W]=(P_in)-Total loss=')\n",
"n=1295840/15000\n",
"format(7)\n",
"disp(n,'% efficiency(n)=[(P_out)*100]/(P_in)=')"
   ]
   }
,
{
		   "cell_type": "markdown",
		   "metadata": {},
		   "source": [
			"## Example 2.1: generated_emf.sce"
		   ]
		  },
  {
"cell_type": "code",
	   "execution_count": null,
	   "metadata": {
	    "collapsed": true
	   },
	   "outputs": [],
"source": [
"//example2.1\n",
"clc\n",
"disp('P=4   Z=440   psi=0.07 Wb   and   N=900 r.p.m.')\n",
"disp('E=(psi*P*N*Z)/(6*A)')\n",
"disp('i)For lap wound,      A=P=4')\n",
"e=(0.07*900*440)/60\n",
"disp(e,'Therefore,    E(in V)=(psi*N*Z)/60=')\n",
"disp('ii)For wave wound,     A=2')\n",
"e=(0.07*900*4*440)/120\n",
"disp(e,'Therefore,    E(in V)=(psi*P*N*Z)/120=')"
   ]
   }
,
{
		   "cell_type": "markdown",
		   "metadata": {},
		   "source": [
			"## Example 2.20: lap_and_wave_wound.sce"
		   ]
		  },
  {
"cell_type": "code",
	   "execution_count": null,
	   "metadata": {
	    "collapsed": true
	   },
	   "outputs": [],
"source": [
"//exmaple1.20\n",
"clc\n",
"disp('P=6, Z=780, E_g=500V, N=1000 rpm')\n",
"disp('a) Lap wound,  A=P=6')\n",
"disp('(E_g)=(psi*P*N*Z)/(60*A)   i.e.   500=(psi*6*1000*780)/(60*6)')\n",
"s=(500*60*6)/(6*1000*780)\n",
"format(8)\n",
"disp(s,'Therefore,  psi(in Wb)=')\n",
"disp('b) Wave wound,  A=2')\n",
"disp('(E_g)=(psi*P*N*Z)/(60*A)   i.e.   500=(psi*6*1000*780)/(60*2)')\n",
"s=(500*60*2)/(6*1000*780)\n",
"disp(s,'Therefore,  psi(in Wb)=')"
   ]
   }
,
{
		   "cell_type": "markdown",
		   "metadata": {},
		   "source": [
			"## Example 2.21: emf_generated.sce"
		   ]
		  },
  {
"cell_type": "code",
	   "execution_count": null,
	   "metadata": {
	    "collapsed": true
	   },
	   "outputs": [],
"source": [
"//example2.21\n",
"clc\n",
"disp('P=6, psi=0.02 Wb, N=1000 rpm, A=P as lap wound')\n",
"z=65*12\n",
"disp(z,'Z=slots*conductors/slot=')\n",
"g=(0.02*6*1000*780)/(60*6)\n",
"disp(g,'E_g(in V)=(psi*P*N*Z)/(60*A)=')"
   ]
   }
,
{
		   "cell_type": "markdown",
		   "metadata": {},
		   "source": [
			"## Example 2.22: speed_of_generator.sce"
		   ]
		  },
  {
"cell_type": "code",
	   "execution_count": null,
	   "metadata": {
	    "collapsed": true
	   },
	   "outputs": [],
"source": [
"//example2.22\n",
"clc\n",
"disp('P=4, A=2, psi=0.0121 Wb, Z=792, E_g=240 V')\n",
"disp('(E_g)=(psi*P*N*Z)/(60*A)   i.e.   240=(0.0121*4*N*792)/(60*2)')\n",
"n=(480*60)/(792*4*0.0121)\n",
"format(9)\n",
"disp(n,'Therefore,      N(in rpm)=')"
   ]
   }
,
{
		   "cell_type": "markdown",
		   "metadata": {},
		   "source": [
			"## Example 2.23: induced_voltage.sce"
		   ]
		  },
  {
"cell_type": "code",
	   "execution_count": null,
	   "metadata": {
	    "collapsed": true
	   },
	   "outputs": [],
"source": [
"//example2.23\n",
"clc\n",
"disp('The generator is shown in the fig 2.64')\n",
"disp('The current through R_se is I_L=80 A as the generator is short shunt.')\n",
"disp('The drop across R_sh is the sum of the drop across R_se and V_t')\n",
"disp('[(I_sh)*(R_sh)]=(V_t)+[(I_L)*(R_se)]')\n",
"disp('i.e   100(I_sh)=250+(80*0.03)')\n",
"p=2.5+(0.8*0.03)\n",
"format(6)\n",
"disp(p,'(I_sh)[in A]=')\n",
"a=80+2.524\n",
"format(7)\n",
"disp(a,'(I_a)[in A]=(I_L)+(I_sh)=')\n",
"g=250+(82.524*0.05)+(80*0.03)+2\n",
"format(9)\n",
"disp(g,'E_g(in V)=(V_t)+[(I_a)*(R_a)]+[(I_L)*(R_se)]+Brush drop')"
   ]
   }
,
{
		   "cell_type": "markdown",
		   "metadata": {},
		   "source": [
			"## Example 2.24: commutator_bars.sce"
		   ]
		  },
  {
"cell_type": "code",
	   "execution_count": null,
	   "metadata": {
	    "collapsed": true
	   },
	   "outputs": [],
"source": [
"//example2.24\n",
"clc\n",
"disp('P=4, Lap hence A=P, N=1150 rpm, E_g=265 V')\n",
"n=56*6\n",
"disp(n,'Total turns=No. of coils*turns/coil=')\n",
"z=2*336\n",
"disp(z,'Therefore,    Z=2*total turns=')\n",
"disp('E_g=(psi*P*N*Z)/(60*A)  i.e  265=(psi*4*1150*672)/(60*A)')\n",
"s=(265*60*4)/(4*1150*672)\n",
"disp(s,'Therefore,  psi(in Wb)=')\n",
"disp('Number of commutator bars=Number of coils=56')"
   ]
   }
,
{
		   "cell_type": "markdown",
		   "metadata": {},
		   "source": [
			"## Example 2.25: induced_emf.sce"
		   ]
		  },
  {
"cell_type": "code",
	   "execution_count": null,
	   "metadata": {
	    "collapsed": true
	   },
	   "outputs": [],
"source": [
"//example2.26\n",
"clc\n",
"disp('For a d.c. generator,')\n",
"disp('E_g=(psi*N*P*Z)/(60*A)    i.e    E_g is directly proportional to (psi*N)      ... (P*Z)/(60*A) is constant')\n",
"disp('N1=1000 rpm, (psi_1)=0.02 Wb, (E_g1)-200 V, N2=1100 rpm, (psi_2)=0.019 Wb')\n",
"disp('[(E_g1)/(E_g2)]=[(N1*psi_1)/(N2*psi_2)]  i.e  [(200)/(E_g2)]=[(1000*0.02)/(1100*0.019)]')\n",
"g=(200*1100*0.019)/(1000*0.02)\n",
"disp(g,'Therefore,  E_g2(in V)=')"
   ]
   }
,
{
		   "cell_type": "markdown",
		   "metadata": {},
		   "source": [
			"## Example 2.26: total_and_useful_torque_and_flux_and_rotational_losses_and_efficiency.sce"
		   ]
		  },
  {
"cell_type": "code",
	   "execution_count": null,
	   "metadata": {
	    "collapsed": true
	   },
	   "outputs": [],
"source": [
"//example2.26\n",
"clc\n",
"disp('P=4, V=240 V, A=2 as wave, N=1000 rpm, P_out=11.19 kW')\n",
"disp('I_a=50 A, I_sh=50 A, R_a=0.1 ohm, Z=540')\n",
"disp('a) E_b=V-[(I_a)(R_a)]-Brush drop')\n",
"b=240-(50*0.1)-2\n",
"disp(b,'E_b(in V)=')\n",
"t=(233*50*60)/(2*%pi*1000)\n",
"format(9)\n",
"disp(t,'Therefore,  T(in Nm)=[(E_b)(I_a)]/w=[(E_b)(I_a)]/[(2*pi*N)/60]=')\n",
"t=(11190*60)/(2*%pi*1000)\n",
"disp(t,'b)  T_sh(in Nm)=useful torque=(P_out)/w=')\n",
"disp('c) E_b=(psi*P*N*Z)/(60*A)    i.e    233=(psi*4*100*540)/(60*2)')\n",
"p=(233*60*2)/(4000*540)\n",
"format(6)\n",
"disp(p,'Therefore,    psi(in Wb)=')\n",
"disp('Rotational losses= (T-T_sh)*w= (T-T_sh)*(2*pi*N)/60')\n",
"i=[(111.2493-106.8566)*(2*%pi*1000)]/60\n",
"format(4)\n",
"disp(i,'Therefore, Rotational losses(in W)=')\n",
"p=240*51\n",
"format(7)\n",
"disp(p,'P_in(in W)=V*(I_L)=V*(I_a+I_sh)=')\n",
"n=(11190*100)/12240\n",
"format(6)\n",
"disp(n,'% efficiency =[(P_out)*100]/(P_in)=')"
   ]
   }
,
{
		   "cell_type": "markdown",
		   "metadata": {},
		   "source": [
			"## Example 2.27: speed.sce"
		   ]
		  },
  {
"cell_type": "code",
	   "execution_count": null,
	   "metadata": {
	    "collapsed": true
	   },
	   "outputs": [],
"source": [
"//example2.27\n",
"clc\n",
"disp('V=250 V, N_0=1000 rpm, I_L0=5 A, R_a=0.2 ohm, R_sh=250 ohm')\n",
"i=250/250\n",
"disp(i,'I_sh(in A)=(V/R_sh)=')\n",
"i=5-1\n",
"disp(i,'Therefore, I_a0(in A)=(I_L0)-(I_sh)=')\n",
"e=250-(4*0.2)\n",
"disp(e,'E_b0(in V)=V-[(I_a0)(R_a)]=')\n",
"disp('on load, I_L1=50 A, (psi_1)=(psi_0)-(3% of (psi_0))=0.97(psi_0)')\n",
"disp('I_sh remains constant as long as V and R_sh are constant.')\n",
"i=50-1\n",
"disp(i,'I_a1(in A)=(I_L1)-(I_sh)=')\n",
"e=250-(49*0.2)\n",
"disp(e,'E_b1(in V)=V-[(I_a1)(R_a)]=')\n",
"disp('N is directly proportional to (E_b/psi)   ...Speed equation')\n",
"disp('[(N_0)/N1]=[(E_b0)*(psi_1)]/[(E_b1)*(psi_0)]  i.e.  [(1000)/N1]=[(249.2)*(0.97*psi_0)]/[(240.2)*(psi_0)]')\n",
"n=(1000*240.2)/(249.2*0.97)\n",
"format(9)\n",
"disp(n,'Therefore,  N(in rpm)=')"
   ]
   }
,
{
		   "cell_type": "markdown",
		   "metadata": {},
		   "source": [
			"## Example 2.28: torque.sce"
		   ]
		  },
  {
"cell_type": "code",
	   "execution_count": null,
	   "metadata": {
	    "collapsed": true
	   },
	   "outputs": [],
"source": [
"//exmaple2.28\n",
"clc\n",
"disp('P=6, A=2 as wave, Z=492, psi=30 mWb, I_a=40 A')\n",
"disp('T=(psi*P*Z*I_a)/(2*pi*A)  Nm')\n",
"t=(40*6*492*30*10^-3)/(2*%pi*2)\n",
"format(9)\n",
"disp(t,'Therefore, T(in Nm)=')\n",
"disp('as 1N=(1/9.81)kg')\n",
"t=281.8952/9.81\n",
"format(8)\n",
"disp(t,'Therefore, T(in kgm)=')"
   ]
   }
,
{
		   "cell_type": "markdown",
		   "metadata": {},
		   "source": [
			"## Example 2.29: induced_emf_and_electrical_power_output.sce"
		   ]
		  },
  {
"cell_type": "code",
	   "execution_count": null,
	   "metadata": {
	    "collapsed": true
	   },
	   "outputs": [],
"source": [
"//example2.29\n",
"clc\n",
"disp('P=4, N=1000 rpm, 80slots, psi=6*10^-2 Wb, 8 conductors/slot')\n",
"disp('A=P=4     ... Lap connected')\n",
"z=80*8\n",
"disp(z,'Z= Slots*conductors/slot=')\n",
"e=(4*100*640*6*10^-2)/240\n",
"disp(e,'E_g(in V)=(psi*P*N*Z)/(60*A)=')\n",
"disp('As coils are lap connected, parallel paths are 4 and all conductors in each parallel path are in series, carrying a current of 50 A')\n",
"a=4*50\n",
"disp(a,'Therefore,  I_a(in A)=A*current per parallel path=4*50=')\n",
"p=640*200\n",
"disp(p,'P(in W)=Electrical power output=[(E_g)*(I_a)]=')"
   ]
   }
,
{
		   "cell_type": "markdown",
		   "metadata": {},
		   "source": [
			"## Example 2.2: generated_emf_and_speed.sce"
		   ]
		  },
  {
"cell_type": "code",
	   "execution_count": null,
	   "metadata": {
	    "collapsed": true
	   },
	   "outputs": [],
"source": [
"//example2.2\n",
"clc\n",
"disp('P=4   psi=21 mWb=21*10^-3 Wb,   N=1120r.p.m')\n",
"disp('Coils = 42 and turns/coil = 8')\n",
"t=42*8\n",
"disp(t,'Total turns = coil * turns/coil = 42*8 =')\n",
"z=2*336\n",
"disp(z,'Z= 2*total turns = 2*336 =')\n",
"disp('i) for lap wound, A=P')\n",
"e=(21*1120*672*10^-3)/60\n",
"format(8)\n",
"disp(e,'Therefore,  E(in V)=(psi*N*Z)/60=')\n",
"disp('ii) For wave wound, A=2')\n",
"disp('and,  E=263.424 V')\n",
"disp('Therefore,    E=(psi*P*N*Z)/120')\n",
"n=263.424*120/(21*4*672*10^-3)\n",
"disp(n,'N(in rpm)=')"
   ]
   }
,
{
		   "cell_type": "markdown",
		   "metadata": {},
		   "source": [
			"## Example 2.30: generated_voltage_and_armature_current.sce"
		   ]
		  },
  {
"cell_type": "code",
	   "execution_count": null,
	   "metadata": {
	    "collapsed": true
	   },
	   "outputs": [],
"source": [
"//exmaple2.30\n",
"clc\n",
"disp('The generator is shown in the fig. 2.66')\n",
"disp('I_L=50 A, V_L=500 V       ...Given')\n",
"i=500/250\n",
"disp(i,'I_sh(in A)=(V_t)/(R_sh)=')\n",
"a=2+50\n",
"disp(a,'Therefore, I_a(in A)=(I_L)+(I_sh)=2+50=')\n",
"disp('This is the armature current')\n",
"e=500+(52*0.05)+(52*0.03)+(2*1)\n",
"disp(e,'Therefore, E_g(in V)=(V_t)+[(I_a)*(R_a)]+[(I_a)*(R_se)]+Brush drop =')\n",
"disp('This is generated voltage.')"
   ]
   }
,
{
		   "cell_type": "markdown",
		   "metadata": {},
		   "source": [
			"## Example 2.31: induced_emf_and_speed.sce"
		   ]
		  },
  {
"cell_type": "code",
	   "execution_count": null,
	   "metadata": {
	    "collapsed": true
	   },
	   "outputs": [],
"source": [
"//example2.31\n",
"clc\n",
"disp('P=8, N=400 rpm, psi=40 mWb, Z=960')\n",
"disp('a) Lap wound, A=P=8')\n",
"e=(8*400*960*40*10^-3)/(60*8)\n",
"disp(e,'E_g(in V)=(psi*P*N*Z)/(60*A)=')\n",
"disp('b) Wave connected, A=2, E_g =400 V')\n",
"disp('Therefore, (E_g)=(psi*P*N*Z)/(60*A)  i.e.  400=[(40*10^-3)*8*N*960]/(60*2)')\n",
"n=(400*60*2)/(0.04*8*960)\n",
"disp(n,'Therefore,  N(in rpm)=')"
   ]
   }
,
{
		   "cell_type": "markdown",
		   "metadata": {},
		   "source": [
			"## Example 2.32: back_emf_and_gross_mechanical_power.sce"
		   ]
		  },
  {
"cell_type": "code",
	   "execution_count": null,
	   "metadata": {
	    "collapsed": true
	   },
	   "outputs": [],
"source": [
"//example2.32\n",
"clc\n",
"disp('V=250 V, (R_a)=0.3 ohm, (I_L)=20 A, (R_sh)=200 ohm')\n",
"s=250/200\n",
"disp(s,'I_sh(in A)=V/(R_sh)=')\n",
"a=20-1.25\n",
"disp(a,'I_a(in A)=(I_L)-(I_sh)=')\n",
"b=250-(18.75*0.3)\n",
"format(8)\n",
"disp(b,'E_b(in V)=V-[(I_a)(R_a)]=')\n",
"m=244.375*18.75\n",
"format(10)\n",
"disp(m,'P_m(in W)=[(E_b)*(I_a)]=')"
   ]
   }
,
{
		   "cell_type": "markdown",
		   "metadata": {},
		   "source": [
			"## Example 2.33: generated_emf_and_copper_and_iron_losses_and_efficiency.sce"
		   ]
		  },
  {
"cell_type": "code",
	   "execution_count": null,
	   "metadata": {
	    "collapsed": true
	   },
	   "outputs": [],
"source": [
"//example2.33\n",
"clc\n",
"disp('The generator is shown in the fig 2.67')\n",
"s=500/200\n",
"disp('I_sh(in A)=(V_t)/(I_sh)=')\n",
"l=(25*10^3)/500\n",
"disp(l,'I_L(in A)=(P_L)/(V_t)=')\n",
"a=50+2.5\n",
"disp(a,'Therefore,  I_a(in A)=(I_L)+(I_sh)=')\n",
"disp('Brush drop is 1V per brush hence total brush drop = 2V')\n",
"e=500+[52.5*(0.03+0.04)]+2\n",
"format(8)\n",
"disp(e,'a)  E_g(in V)=(V_t)+[(I_a)*(R_a)]+[(I_a)*(R_se)]+(V_brush)=500+[52.5*(0.03+0.04)]+2=')\n",
"a=0.03*(52.5)^2\n",
"disp(a,'b)  Armature copper loss(in W) = [(I_a)^2]*(R_a) =[(52.5)^2]*(0.03) =')\n",
"s=0.04*(52.5)^2\n",
"disp(s,'Series field copper loss(in W) =[(I_a)^2]*(R_se) =[(52.5)^2]*(0.04) =')\n",
"c=200*(2.5)^2\n",
"disp(c,'Shunt field copper loss(in W) =[(I_sh)^2]*(R_sh) =[(2.5)^2]*(200) =')\n",
"p=505.675*52.5\n",
"format(11)\n",
"disp(p,'P_in(in W)= (E_g)*(I_a)=')\n",
"disp('P_out = 25W')\n",
"t=26547.9375-25\n",
"format(10)\n",
"disp(t,'Therefore,  Total losses(in W) = (P_in)-(P_out) =')\n",
"disp('Now total losses = Copper losses + Iron losses')\n",
"disp('Therefore,  1547.9375 = 82.6875 + 110.25 + 1250 + Iron losses')\n",
"i=1547.9375-(82.6875+110.25+1250)\n",
"format(4)\n",
"disp(i,'Therefore,  Iron losses(in W)=')\n",
"n=(25000*100)/(26547.9375)\n",
"format(8)\n",
"disp(n,'%efficiency(n) =[(P_out)/(P_in)]*100 =')"
   ]
   }
,
{
		   "cell_type": "markdown",
		   "metadata": {},
		   "source": [
			"## Example 2.34: total_armature_power.sce"
		   ]
		  },
  {
"cell_type": "code",
	   "execution_count": null,
	   "metadata": {
	    "collapsed": true
	   },
	   "outputs": [],
"source": [
"//example2.34\n",
"clc\n",
"disp('i) As a generator')\n",
"disp('(P_out)=20 kW, (V_t)=250 V')\n",
"i=20000/250\n",
"disp(i,'I_L(in A)=(P_out)/(V_t)=')\n",
"s=250/125\n",
"disp(s,'I_sh(in A)=(V_t)/(R_sh)=')\n",
"a=80+2\n",
"disp(a,'Therefore,  I_a(in A)=(I_L)+(I_sh)=')\n",
"e=250+(82*0.1)\n",
"disp(e,'E_g(in V)= (V_t)+[(I_a)*(R_a)]=')\n",
"p=258.2*82\n",
"format(7)\n",
"disp(p,'P_g(in W)=(E_g)*(I_a)=')\n",
"disp('ii) As a motor')\n",
"disp('(P_in)=20 kW, V=250 V')\n",
"i=(20000)/250\n",
"disp(i,'Therefore, I_L(in A)=(P_in)/V=')\n",
"s=250/125\n",
"disp(s,'I_sh(in A)=V/(R_sh)=')\n",
"a=80-2\n",
"disp(a,'Therefore, I_a(in A)=(I_L)-(I_sh)=')\n",
"b=250-(78*0.1)\n",
"disp(b,'Therefore, E_b(in V)=V-[(I_a)*(R_a)]=')\n",
"a=242.2*78\n",
"format(8)\n",
"disp(a,'P_a(in W)=[(E_b)*(I_a)]=')"
   ]
   }
,
{
		   "cell_type": "markdown",
		   "metadata": {},
		   "source": [
			"## Example 2.35: leakage_coefficient.sce"
		   ]
		  },
  {
"cell_type": "code",
	   "execution_count": null,
	   "metadata": {
	    "collapsed": true
	   },
	   "outputs": [],
"source": [
"//example2.25\n",
"clc\n",
"disp('P=4, N=750 rpm, (E_g)=240 V, A=2 as wave, Z=792')\n",
"disp('(E_g)=(psi*P*N*Z)/(60*A)  i.e.  240=(psi*4*750*792)/(60*2)')\n",
"p=(240*60*2)/(4*750*792)\n",
"format(8)\n",
"disp(p,'Therefore, psi(in Wb)=')\n",
"disp('Lamda= Leakage coefficient = (Total flux)/(Useful flux)')\n",
"l=0.0145/0.01212\n",
"format(6)\n",
"disp(l,'Therefore, lamda = 0.0145/0.01212 =')"
   ]
   }
,
{
		   "cell_type": "markdown",
		   "metadata": {},
		   "source": [
			"## Example 2.36: no_load_terminal_voltage_and_area_of_pole.sce"
		   ]
		  },
  {
"cell_type": "code",
	   "execution_count": null,
	   "metadata": {
	    "collapsed": true
	   },
	   "outputs": [],
"source": [
"//exmaple2.26\n",
"clc\n",
"disp('(P_out)=1500 kW, (V_t)=550 V, P=10, A=P as lap, N=150 rpm, Z=2500, (P_cu)=25 kW, B=0.9 Wb/m^2')\n",
"i=(1500*1000)/550\n",
"format(10)\n",
"disp(i,'I_L(in A)=(P_out)/(V_t)=')\n",
"disp('As R_sh is not given, neglect I_sh hence (I_a)=2727.2727 A')\n",
"disp('a)  P_cu = Armature copper loss = [(I_a)^2]*(R_a)')\n",
"disp('25*10^3 = (2727.2727)^2 * (R_a)')\n",
"a=25000/[(2727.2727)^2]\n",
"format(9)\n",
"disp(a,'Therefore, (R_a)[in ohm]=')\n",
"e=550+(2727.2727*3.3611*0.001)\n",
"disp(e,'Therefore, E_g(in V)=(V_t)+[(I_a)*(R_a)]=')\n",
"disp('This is load terminal voltage.')\n",
"disp('b) (E_g)=(psi*P*N*Z)/(60*A)  i.e.  559.1667=(psi*10*150*2500)/(60*10)')\n",
"p=(559.1667*60*10)/(1500*2500)\n",
"format(8)\n",
"disp(p,'Therefore, psi(in Wb)=')\n",
"disp('Now, B=(psi)/A  i.e  0.9=(0.08946)/A')\n",
"a=0.08946/0.9\n",
"disp(a,'Therefore, A(in m^2)=')"
   ]
   }
,
{
		   "cell_type": "markdown",
		   "metadata": {},
		   "source": [
			"## Example 2.3: induced_emf_of_generator.sce"
		   ]
		  },
  {
"cell_type": "code",
	   "execution_count": null,
	   "metadata": {
	    "collapsed": true
	   },
	   "outputs": [],
"source": [
"//example2.3\n",
"clc\n",
"disp('Consider shunt generator as shown in the fig 2.29')\n",
"disp('I_a=(I_L)+(I_sh)')\n",
"disp('I_sh=(V_t)/(R_sh)')\n",
"disp('Now,  V_t=250 V')\n",
"disp('and,  R_sh=100 ohm')\n",
"i=250/100\n",
"disp(i,'Therefore,    I_sh(in A)=')\n",
"disp('Load power=5 kW')\n",
"disp('Therefore,    P=(V_t)*(I_L)')\n",
"i=(5*10^3)/250\n",
"disp(i,'I_L(in A)=P/(V_t)=')\n",
"i=20+2.5\n",
"disp(i,'(I_a)[in A]=(I_L)+(I_sh)=')\n",
"disp('E=(V_t)+((I_a)*(R_a))[neglect V_brush]')\n",
"E=250+(22.5*0.22)\n",
"disp(E,'Therefore,    E(in V)=')\n",
"disp('This is the induced emf to supply the given load.')"
   ]
   }
,
{
		   "cell_type": "markdown",
		   "metadata": {},
		   "source": [
			"## Example 2.4: armature_resistance_of_generator.sce"
		   ]
		  },
  {
"cell_type": "code",
	   "execution_count": null,
	   "metadata": {
	    "collapsed": true
	   },
	   "outputs": [],
"source": [
"//example2.4\n",
"clc\n",
"disp('Consider separately excited generator as shown in the fig 2.30')\n",
"disp('Note that 250V, 10kW generator means the full load capacity of generator is to supply 10kW load at a terminal voltage V_t=250 V')\n",
"disp('Therefore,    V_t=250V    and    P=10kW')\n",
"disp('and,  P=(V_t)*(I_L)')\n",
"i=(10^4)/250\n",
"disp(i,'Therefore,    I_L(in A)=')\n",
"disp('Therefore,    I_a=I_L= 40 A   ...As separately excited')\n",
"disp('Now,  E=(V_t)+[(I_a)*(R_a)]+(V_brush)')\n",
"disp('Now there are two brushes and brush drop is 2V/brush')\n",
"v=2*2\n",
"disp(v,'Therefore,    V_brush(in V)=')\n",
"disp('Therefore,    E=250+40(R_a)+4')\n",
"disp('But,  E=255 V on full load')\n",
"disp('255 = 250 + 40(R_a) + 4')\n",
"r=1/40\n",
"disp(r,'Therefore,    R_a(in ohm)=')"
   ]
   }
,
{
		   "cell_type": "markdown",
		   "metadata": {},
		   "source": [
			"## Example 2.5: terminal_voltage_at_load.sce"
		   ]
		  },
  {
"cell_type": "code",
	   "execution_count": null,
	   "metadata": {
	    "collapsed": true
	   },
	   "outputs": [],
"source": [
"//example2.5\n",
"clc\n",
"disp('Consider the series generator as shown in fig 2.31')\n",
"disp('R_a=0.5 ohm     and    R_se=0.03 ohm')\n",
"disp('V_brush=2 V')\n",
"disp('N=1500 rpm')\n",
"disp('Total coils are 540 with 6 turns/coil.')\n",
"t=540*6\n",
"disp(t,'Therefore,    Total turns =540*6=')\n",
"disp('Total conductors Z= 2* turns')\n",
"z=2*3240\n",
"disp(z,'z=2*3240=')\n",
"disp('Therefore,    E=(psi*P*N*Z)/(60*A)')\n",
"disp('For lap type, A=P')\n",
"disp('psi=2 mWb=2*10^-3 Wb')\n",
"e=(1500*6480*2*10^-3)/60\n",
"disp(e,'Therefore,    E(in V)=')\n",
"disp('E=(V_t)+(I_a)[(R_a)+(R_sc)]+(V_brush)     ..Total V_brush given')\n",
"disp('Where,    I_a=I_L=50 A')\n",
"disp('324=(V_t)+50(0.5+0.03)+2')\n",
"v=322-(50*(0.53))\n",
"disp(v,'V_t(in V)=')"
   ]
   }
,
{
		   "cell_type": "markdown",
		   "metadata": {},
		   "source": [
			"## Example 2.6: generated_voltage.sce"
		   ]
		  },
  {
"cell_type": "code",
	   "execution_count": null,
	   "metadata": {
	    "collapsed": true
	   },
	   "outputs": [],
"source": [
"//example2.6\n",
"clc\n",
"disp('Consider a short shunt generator as shown in the fig 2.32')\n",
"disp('R_a=0.04 ohm,   R_sh=90 ohm,   R_se=0.02 ohm')\n",
"disp('V_t=225 V ,   I_L=75 A')\n",
"disp('I_a = I_L + I_sh')\n",
"disp('Now,      E=(V_t)+[(I_a)*(R_a)]+[(I_L)*(R_se)]')\n",
"disp('and drop across armature terminals is,')\n",
"disp('E-[(I_a)*(R_a)]=(V_t)+[(I_t)*(R_se)]')\n",
"e=225+(75*0.02)\n",
"disp(e,'Therefore,    E-[(I_a)*(R_a)]=')\n",
"disp('Therefore,    I_sh=[E-(I_a)(R_a)]/(R_sh)=[(V_t)+(I_L)(R_se)]/(R_sh)')\n",
"i=226.5/90\n",
"format(7)\n",
"disp(i,'Therefore,    I_sh(in A)=')\n",
"i=75+2.5167\n",
"disp(i,'Therefore,    I_a=I_L+I_sh=')\n",
"disp('Therefore,     E=V_t+[(I_a)*(I_sh)]+[(I_L)*(R_se)]')\n",
"e=225+(77.5167*0.04)+(75*0.02)\n",
"format(6)\n",
"disp(e,'E(in V)=')"
   ]
   }
,
{
		   "cell_type": "markdown",
		   "metadata": {},
		   "source": [
			"## Example 2.7: induced_emf_in_motor.sce"
		   ]
		  },
  {
"cell_type": "code",
	   "execution_count": null,
	   "metadata": {
	    "collapsed": true
	   },
	   "outputs": [],
"source": [
"//example2.7\n",
"clc\n",
"disp('V=200 V, I_a=30 A, R_a=0.75 ohm are the given values.')\n",
"disp('For a motor,  V=(E_b)+[(I_a)*(R_a)]')\n",
"disp('Therefore,    220=(E_b)+(30*0.75)')\n",
"e=220-(30*0.75)\n",
"disp(e,'E_b(in V)=')\n",
"disp('This is the induced emf called back emf in a motor')"
   ]
   }
,
{
		   "cell_type": "markdown",
		   "metadata": {},
		   "source": [
			"## Example 2.8: back_emf_and_speed_of_motor.sce"
		   ]
		  },
  {
"cell_type": "code",
	   "execution_count": null,
	   "metadata": {
	    "collapsed": true
	   },
	   "outputs": [],
"source": [
"//example2.8\n",
"clc\n",
"disp('P=4,  A=P=4 as lap,  V=230 V,  Z=250')\n",
"disp('psi=30mWb=30*10^-3 Wb,     I_a=40 A')\n",
"disp('From voltage equation,    V=E_b+[(I_a)*(R_a)]')\n",
"disp('230=E_b+(40*0.6)')\n",
"e=230-(40*0.6)\n",
"disp(e,'Therefore,    E_b(in V)=')\n",
"disp('E_b=(psi*P*N*Z)/(60*A)')\n",
"disp('Therefore,    206=(4*N*250*30*10^-3)/(60*4)')\n",
"n=(206*240)/(250*4*30*10^-3)\n",
"disp(n,'N(in rpm)=')"
   ]
   }
,
{
		   "cell_type": "markdown",
		   "metadata": {},
		   "source": [
			"## Example 2.9: gross_torque.sce"
		   ]
		  },
  {
"cell_type": "code",
	   "execution_count": null,
	   "metadata": {
	    "collapsed": true
	   },
	   "outputs": [],
"source": [
"//example2.9\n",
"clc\n",
"disp('P=4, A=P=4, Z=480')\n",
"disp('psi=20mWb=20*10^-3 Wb, I_a=50 A')\n",
"t=(0.159*0.02*50*4*480)/4\n",
"format(7)\n",
"disp(t,'Now,  T_a(in N-m)=0.159*(psi)*(I_a)*(P*Z)/A=')"
   ]
   }
],
"metadata": {
		  "kernelspec": {
		   "display_name": "Scilab",
		   "language": "scilab",
		   "name": "scilab"
		  },
		  "language_info": {
		   "file_extension": ".sce",
		   "help_links": [
			{
			 "text": "MetaKernel Magics",
			 "url": "https://github.com/calysto/metakernel/blob/master/metakernel/magics/README.md"
			}
		   ],
		   "mimetype": "text/x-octave",
		   "name": "scilab",
		   "version": "0.7.1"
		  }
		 },
		 "nbformat": 4,
		 "nbformat_minor": 0
}
