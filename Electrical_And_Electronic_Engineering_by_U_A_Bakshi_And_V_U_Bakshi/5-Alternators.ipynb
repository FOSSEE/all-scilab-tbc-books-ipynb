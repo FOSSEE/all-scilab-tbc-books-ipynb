{
"cells": [
 {
		   "cell_type": "markdown",
	   "metadata": {},
	   "source": [
       "# Chapter 5: Alternators"
	   ]
	},
{
		   "cell_type": "markdown",
		   "metadata": {},
		   "source": [
			"## Example 5.10: find_slip.sce"
		   ]
		  },
  {
"cell_type": "code",
	   "execution_count": null,
	   "metadata": {
	    "collapsed": true
	   },
	   "outputs": [],
"source": [
"//Example 5.10 slip, net o/p power, rotor copper loss/phase, efficiency and resistance\n",
"clc\n",
"disp('The given values are,')\n",
"disp('P = 4, f = 50 Hz, T_sh = 300 N-m, T_lost = 50 N-m')\n",
"disp('Rotor frequency  = 120 cycles/min = 120/60 cycles/sec i.e. Hz')\n",
"disp('i.e.  f_r = 2 Hz')\n",
"disp('(i)  f_r = s*f')\n",
"s=2/50\n",
"format(5)\n",
"disp(s,'Therefore,  s = f_r/f =')\n",
"disp('(ii)  P_out = T_sh * omega = T_sh * 2*pi*N/60')\n",
"disp('Now  N = N_s(1-s)    at slip s = 0.04')\n",
"ns=(120*50)/4\n",
"format(5)\n",
"disp(ns,'N_s(in r.p.m) = 120f/P =')\n",
"n=1500*(1-0.04)\n",
"disp(n,'Therefore,  N(in r.p.m) = N_s(1-s) =')\n",
"po=(300*((2*%pi*1440)/60))*10^-3\n",
"format(8)\n",
"disp(po,'Therefore,  P_out(in kW) =')\n",
"disp('Remember that T_sh is not output torque available to load at shaft')\n",
"disp('(iii)  T_lost = 50 Nm in fiction')\n",
"f=50*((2*%pi*1440)/60)\n",
"format(9)\n",
"disp(f,'Therefore,  Frictional loss(in W) = T_lost * omega = T_lost * 2*pi*N/60 =')\n",
"disp('Now  P_out = P_in - frictional loss')\n",
"pin=45.2389+7.539822\n",
"disp(pin,'Therefore,  P_in(in kW) = P_out + frictional loss =')\n",
"disp('  We know, P_2:P_c:P_m  is  1:s:1-s')\n",
"disp('Therefore,  P_c/P_m = s/1-s')\n",
"pc=(52.77872*10^3)*(0.04/(1-0.04))\n",
"format(10)\n",
"disp(pc,'Therefore,  P_c(in W) = P_m * (s/1-s) =')\n",
"disp('These are total rotor copper losses')\n",
"rc=2199.1134/3\n",
"format(9)\n",
"disp(rc,'Therefore,  Rotor copper loss per phase(in W) = P_c/3 =')\n",
"disp('(iv)  Rotor efficiency = (Rotor output P_in / Rotor input P2)*100')\n",
"p2=2199.1134/0.04\n",
"format(12)\n",
"disp(p2,'Now  P2(in W) = P_c/s =')\n",
"re=52778.72*100/54977.83\n",
"format(3)\n",
"disp(re,'Therefore,  % Rotor eta(in percentage) =')\n",
"disp('(v)  I_2r = 60 A     given per phase')\n",
"disp('now  Rotor copper loss/ph = I_2r^2 * R2')\n",
"r2=733.0378/60^2\n",
"format(7)\n",
"disp(r2,'Therefore,  R2(in ohm/ph) =')"
   ]
   }
,
{
		   "cell_type": "markdown",
		   "metadata": {},
		   "source": [
			"## Example 5.11: find_shaft_torque.sce"
		   ]
		  },
  {
"cell_type": "code",
	   "execution_count": null,
	   "metadata": {
	    "collapsed": true
	   },
	   "outputs": [],
"source": [
"//Example 5.11\n",
"clc\n",
"disp('P_out = 24 kW, I_L = 57 A')\n",
"disp('P = 8, N = 720 r.p.m, f = 50 Hz')\n",
"disp('I_L = 415 V, cos(phi) = 0.707')\n",
"ns=(120*50)/8\n",
"format(4)\n",
"disp(ns,'N_s(in r.p.m) = 120f/P =')\n",
"s=(750-720)/750\n",
"format(5)\n",
"disp(s,'Therefore,  s = N_s-N / N_s =')\n",
"disp('P_m - mechanical loss = P_out')\n",
"pin=24000+1000\n",
"format(6)\n",
"disp(pin,'Therefore,  P_in(in W) = P_out + mechanical loss = 24*10^3 + 1000 =')\n",
"disp('For rotor P2:P_c:P_m  is  1:s:1-s')\n",
"disp('Therefore,  P_c/P_m = s/1-s')\n",
"pc=(25000)*(0.04/(1-0.04))\n",
"format(8)\n",
"disp(pc,'Therefore,  P_c(in W) = P_m * (s/1-s) =')\n",
"po=((24*10^3)/((2*%pi*720)/60))\n",
"format(8)\n",
"disp(po,'(i) Shaft torque  T_sh(in Nm) = P_out/omega = P_out / (2*pi*N/60) =')\n",
"t=((25*10^3)/((2*%pi*720)/60))\n",
"disp(t,'(ii) Gross torque T(in Nm) = P_out/omega = P_out / (2*pi*N/60) =')\n",
"disp('(iii) Rotor copper losses = 1041.66 W')\n",
"disp('Now  P2/P_c = 1/s')\n",
"p2=1041.66/0.04\n",
"disp(p2,'Therefore,  P2(in W) = P_c/s =')\n",
"pin=sqrt(3)*415*57*0.707\n",
"format(9)\n",
"disp(pin,'And net input  P_in(in W) = sqrt(3)*V_L*I_L*cos(phi) =')\n",
"disp('Stator current per phase = I_L = 57 A  (as star connected)')\n",
"disp('R_s = Stator resistance per phase  = 0.1 ohm')\n",
"st=3*(57^2)*0.1\n",
"format(6)\n",
"disp(st,'Therefore,  Stator copper losses(in W) = 3*I_s^2*R_s')\n",
"disp('Now  P_in - Stator losses = P_2')\n",
"sl=28966.96-26041.5\n",
"format(8)\n",
"disp(sl,'Therefore,  Stator losses(in W) =')\n",
"disp('But  Stator losses = Stator iron loss + Stator copper loss')\n",
"stp=2925.46-974.7\n",
"disp(stp,'Therefore,  Stator iron losses(in W) =')\n",
"disp('(iv)  Stator copper losses = 974.7 W')\n",
"disp('(v) Stator iron losses = 1950.76 W')\n",
"eta=(100*24*10^3)/28966.96\n",
"format(6)\n",
"disp(eta,'(iv) % eta(in percentage) = P_out/P_in * 100 =')"
   ]
   }
,
{
		   "cell_type": "markdown",
		   "metadata": {},
		   "source": [
			"## Example 5.15: find_starting_torque.sce"
		   ]
		  },
  {
"cell_type": "code",
	   "execution_count": null,
	   "metadata": {
	    "collapsed": true
	   },
	   "outputs": [],
"source": [
"//Example 5.15\n",
"clc\n",
"disp('P = 12, f = 50 Hz, R2 = 0.15 ohm, X2 = 0.25 ohm, E2 = 32 V per phase given')\n",
"disp('Now  T =  (k*s*E2^2*R2 / R2^2+s*X2^2)       where k = 3 / 2*pi*ns')\n",
"ns=(120*50)/12\n",
"format(4)\n",
"disp(ns,'N_s(in r.p.m) = 120f/P =')\n",
"ns=500/60\n",
"format(5)\n",
"disp(ns,'n_s(in r.p.s) = N_s/60 =')\n",
"tf=(3/(2*%pi*8.33))*((0.15*32^2)/((0.15^2)+(0.25^2)))\n",
"format(7)\n",
"disp(tf,'(i) T_st = (k*E2^2*R2 / R2^2+X2^2) = (3/2*pi*ns)*(k*E2^2*R2 / R2^2+X2^2) =')\n",
"disp('(ii) At  N = 480 r.p.m')\n",
"s=(500-480)/500\n",
"format(5)\n",
"disp(s,'s = N_s-N / N_s =')\n",
"tfi=(3/(2*%pi*8.33))*((0.04*0.15*32^2)/((0.15^2)+((0.04*0.25)^2)))\n",
"format(7)\n",
"disp(tfi,'Therefore,  T_F.L(in Nm) = (3/2*pi*ns)*(s*E2^2*R2 / R2^2+s*X2^2) =')\n",
"disp('(iii)  T_m = (3/2*pi*ns)*(E2^2 / 2*X2)   substituting s_m = R2/X2')\n",
"tm=(3/(2*%pi*8.33))*((32^2)/(2*0.25))\n",
"format(8)\n",
"disp(tm,'Therefore,  T_m(in Nm) =')\n",
"sm=0.15/0.25\n",
"format(4)\n",
"disp(sm,'(iv) Slip at T_m is,  s_m = R2/X2 =')\n",
"n=500*(1-0.6)\n",
"format(4)\n",
"disp(n,'Therefore,  N(in r.p.m) = N_s*(1-s_m) =')"
   ]
   }
,
{
		   "cell_type": "markdown",
		   "metadata": {},
		   "source": [
			"## Example 5.18: find_speed_of_motor.sce"
		   ]
		  },
  {
"cell_type": "code",
	   "execution_count": null,
	   "metadata": {
	    "collapsed": true
	   },
	   "outputs": [],
"source": [
"//Example 5.18\n",
"clc\n",
"disp('P = 8, f = 50 Hz, f_s = 1.5 Hz')\n",
"disp('f_s = s*f')\n",
"s=1.5/50\n",
"format(5)\n",
"disp(s,'Therefore,  s =            ...Slip')\n",
"ns=(120*50)/8\n",
"format(4)\n",
"disp(ns,'N_s(in r.p.m) = 120f/P =')\n",
"n=750*(1-0.03)\n",
"format(6)\n",
"disp(n,'N(in r.p.m) = N_s*(1-s_m) =                   ...Speed of the motor')"
   ]
   }
,
{
		   "cell_type": "markdown",
		   "metadata": {},
		   "source": [
			"## Example 5.19: find_rotor_input.sce"
		   ]
		  },
  {
"cell_type": "code",
	   "execution_count": null,
	   "metadata": {
	    "collapsed": true
	   },
	   "outputs": [],
"source": [
"//Example 5.19\n",
"clc\n",
"disp('P = 4, f = 50 Hz, T_sh = 159 Nm, s = 5% = 0.05')\n",
"ns=(120*50)/4\n",
"format(5)\n",
"disp(ns,'N_s(in r.p.m) = 120f/P =')\n",
"n=1500*(1-0.05)\n",
"disp(n,'Therefore,  N(in r.p.m) = N_s*(1-s_m) =')\n",
"po=159*((2*%pi*1425)/60)\n",
"format(11)\n",
"disp(po,'Therefore,  P_out(in W) = T_sh * omega =')\n",
"pm=23726.8785+500\n",
"disp(pm,'Therefore,  P_m(in W) = P_out + Friction and windage loss =')\n",
"disp('(a) P_2:P_c:P_m  is  1:s:1-s')\n",
"p2=24226.8785/(1-0.05)\n",
"disp('Therefore,  P_2/P_m = 1/1-s')\n",
"disp(p2,'Therefore,  P_2(in W) =               ...Rotor input')\n",
"pi=25501.9774+1000\n",
"disp(pi,'(b) P_in(in W) = P_2 + Stator losses =            ...Motor input')\n",
"eta=(23726.8785/26501.9774)*100\n",
"format(7)\n",
"disp(eta,'(e) %eta(in percentage) = P_out/P_in * 100 =')"
   ]
   }
,
{
		   "cell_type": "markdown",
		   "metadata": {},
		   "source": [
			"## Example 5.1: calculate_full_load_slip.sce"
		   ]
		  },
  {
"cell_type": "code",
	   "execution_count": null,
	   "metadata": {
	    "collapsed": true
	   },
	   "outputs": [],
"source": [
"//Example 5.1\n",
"clc\n",
"disp('Given values are,')\n",
"disp('P = 4, f = 50 Hz,  N = 1410 r.p.m')\n",
"ns=(120*50)/4\n",
"disp(ns,'N_s(in r.p.m) = 120*f / P =')\n",
"disp('Full load absolute slip is given by,')\n",
"s=((1500-1410)/1500)\n",
"format(5)\n",
"disp(s,'s = N_s-N / N_s =')\n",
"s=0.06*100\n",
"disp(s,'Therefore,  %s =')"
   ]
   }
,
{
		   "cell_type": "markdown",
		   "metadata": {},
		   "source": [
			"## Example 5.22: find_speeds.sce"
		   ]
		  },
  {
"cell_type": "code",
	   "execution_count": null,
	   "metadata": {
	    "collapsed": true
	   },
	   "outputs": [],
"source": [
"//Example 5.22\n",
"clc\n",
"disp('P = 6, f = 50 Hz, s_0 = 1%, s_a = 3%')\n",
"ns=(120*50)/6\n",
"format(5)\n",
"disp(ns,'(a) N_s(in r.p.m) = 120f/P =                ...Synchronous speed')\n",
"n=1000*(1-0.01)\n",
"format(4)\n",
"disp(n,'(b) N_0(in r.p.m) = N_s*(1-s_0) =                   ...No load speed')\n",
"n=1000*(1-0.03)\n",
"format(6)\n",
"disp(n,'(c) N_ft(in r.p.m) = N_s*(1-s_a) =                   ...Full load speed')\n",
"disp('(d) Frequency of rotor current at standstill = f = 50 Hz')\n",
"sa=0.03*50\n",
"disp(sa,'(e) Frequency of rotor current at full load(in Hz) = s_a*f =')"
   ]
   }
,
{
		   "cell_type": "markdown",
		   "metadata": {},
		   "source": [
			"## Example 5.23: find_resistance.sce"
		   ]
		  },
  {
"cell_type": "code",
	   "execution_count": null,
	   "metadata": {
	    "collapsed": true
	   },
	   "outputs": [],
"source": [
"//Example 5.23\n",
"clc\n",
"disp('P = 6, f = 50 Hz, I_2r = 40 A, N = 960 r.p.m')\n",
"ns=(120*50)/6\n",
"format(5)\n",
"disp(ns,'Therefore,  N_s(in r.p.m) = 120f/P =')\n",
"s=40/1000\n",
"disp(s,'Therefore,  s = N_s-N / N_s =')\n",
"po=50*735.5\n",
"format(6)\n",
"disp(po,'P_out(in W) = 50*H.P =                 ...1 H.P = 735.5 W')\n",
"pin=36775+1200+300\n",
"disp(pin,'P_in(in W) = P_out + Mechanical losses + Gear loss =')\n",
"disp('Now  P_2:P_c:P_m  is  1:s:1-s')\n",
"disp('Therefore,  P_c/P_m = s/1-s')\n",
"pc=(38275*0.04)/(1-0.04)\n",
"format(10)\n",
"disp(pc,'Therefore,  P_c(in W) =               ...Total rotor copper loss')\n",
"r2=1594.7916/(3*40^2)\n",
"format(7)\n",
"disp('Now  P_c = 3 * I_2r^2 * R2')\n",
"disp(r2,'Therefore,  R2(in ohm/ph) =')"
   ]
   }
,
{
		   "cell_type": "markdown",
		   "metadata": {},
		   "source": [
			"## Example 5.2: calculate_full_load_speed.sce"
		   ]
		  },
  {
"cell_type": "code",
	   "execution_count": null,
	   "metadata": {
	    "collapsed": true
	   },
	   "outputs": [],
"source": [
"//Example 5.2\n",
"clc\n",
"disp('Given values are,')\n",
"disp('P = 4, f = 50 Hz,  %s = 4%')\n",
"disp('s = Full load absolute slip = 0.04')\n",
"ns=(120*50)/4\n",
"disp(ns,'N_s(in r.p.m) = 120*f / P =')\n",
"disp('s = N_s-N / N_s    where N_s = full load speed of motor')\n",
"disp('0.04 = 1500-N_s / 1500')\n",
"ns=1500-(1500*0.04)\n",
"disp(ns,'Therefore,  N_s(in r.p.m) =')\n",
"disp('This is the full load speed of the motor')"
   ]
   }
,
{
		   "cell_type": "markdown",
		   "metadata": {},
		   "source": [
			"## Example 5.3: frequency_of_induced_emf.sce"
		   ]
		  },
  {
"cell_type": "code",
	   "execution_count": null,
	   "metadata": {
	    "collapsed": true
	   },
	   "outputs": [],
"source": [
"//Example 5.3. frequency of induced emf in the rotor\n",
"clc\n",
"disp('The given values are,')\n",
"disp('P = 4,  f = 50 Hz,  N = 1470 r.p.m')\n",
"ns=(120*50)/4\n",
"format(5)\n",
"disp(ns,'N_s(in r.p.m) = 120f/P =')\n",
"s=(1500-1470)/1500\n",
"disp(s,'s = N_s-N / N_s =')\n",
"f=0.02*50\n",
"disp(f,'Therefore,  f_r(in Hz) = s*f =')"
   ]
   }
,
{
		   "cell_type": "markdown",
		   "metadata": {},
		   "source": [
			"## Example 5.4: find_full_load_slip.sce"
		   ]
		  },
  {
"cell_type": "code",
	   "execution_count": null,
	   "metadata": {
	    "collapsed": true
	   },
	   "outputs": [],
"source": [
"//Example 5.4\n",
"clc\n",
"disp('The given values are,')\n",
"disp('P = 8,  f = 50 Hz,  f_r = 2 Hz')\n",
"disp('Now    f_r = s*f')\n",
"s=2/50\n",
"format(5)\n",
"disp(s,'Therefore,  s =')\n",
"sp=0.04*100\n",
"disp(sp,'Therefore,  %s =             ...Full load slip')\n",
"disp('The corresponding speed is given by,')\n",
"disp('N = N_s*(1-s)                ...From s = N_s-N / N_s')\n",
"ns=(120*50)/8\n",
"disp(ns,'where    N_s(in r.p.m) = 120f/P =')\n",
"n=750*(1-0.04)\n",
"disp(n,'Therefore,  N(in r.p.m) =           ...Full load speed')"
   ]
   }
,
{
		   "cell_type": "markdown",
		   "metadata": {},
		   "source": [
			"## Example 5.5: calculate_frequency.sce"
		   ]
		  },
  {
"cell_type": "code",
	   "execution_count": null,
	   "metadata": {
	    "collapsed": true
	   },
	   "outputs": [],
"source": [
"//Example 5.6\n",
"clc\n",
"disp('The given values are, K = Rotor turns/Stator turns = 1/2 = 0.5 and')\n",
"disp('P = 4, f = 50 Hz, N = 1455 r.p.m, E_line = 415 V')\n",
"ns=(120*50)/4\n",
"format(5)\n",
"disp(ns,'N_s(in r.p.m) = 120f/P =')\n",
"disp('For a given load, N = 1455 r.p.m')\n",
"s=(1500-1455)/1500\n",
"disp(s,'Therefore,  s = N_s-N / N_s =')\n",
"f=0.03*50\n",
"disp(f,'(i)  f_r(in Hz) = s*f =')\n",
"disp('(ii) At standstill, induction motor acts as a transformer so,')\n",
"disp('E_2ph/E_1ph = rotor turns/stator turns = K')\n",
"disp('But ratio of stator to rotor turns is given as 2, i.e.')\n",
"disp('  N1/N2 = 2      Therefore,  N2/N1 = 1/2 = K')\n",
"disp('and  E_1line = 415 V')\n",
"disp('The given values are always line values unless and until specifically stated as per phase.')\n",
"e1=415/sqrt(3)\n",
"format(6)\n",
"disp(e1,'Therefore,  E_1ph(in V) = E_1/sqrt(3) =              ...As star connection E_line = sqrt(3)*E_ph')\n",
"disp('Therefore,  E_2ph/E_1ph = 1/2')\n",
"e2=239.6/2\n",
"disp(e2,'Therefore,  E_2ph(in V) =            ...Rotor induced e.m.f on standstill')\n",
"disp('(iii) In running condition,')\n",
"er=0.03*119.8\n",
"disp(er,'E_2r(in V) = s*E_2 =')\n",
"disp('The value of rotor induced e.m.f in the running condition is also very very small')"
   ]
   }
,
{
		   "cell_type": "markdown",
		   "metadata": {},
		   "source": [
			"## Example 5.6: find_rotor_current.sce"
		   ]
		  },
  {
"cell_type": "code",
	   "execution_count": null,
	   "metadata": {
	    "collapsed": true
	   },
	   "outputs": [],
"source": [
"//Example 5.6\n",
"clc\n",
"disp('The given values are,')\n",
"disp('P = 4, f = 50 Hz, R2 = 0.2 ohm, X2 = 1 ohm')\n",
"disp('Now open circuit e.m.f between slip rings means rotor induced e.m.f on standstill. As long as rotor is open, there cannot be rotor current rotation of rotor. And between the slip rings means its a line value of E2, for a star connected rotor. The open circuit e.m.f is shown in fig.5.15')\n",
"disp('Therefore,  E_2line = 120 V, for star E_2line = sqrt(3)*E_2ph')\n",
"e2=120/sqrt(3)\n",
"format(6)\n",
"disp(e2,'Therefore,  E_2ph(in V) = E_2/sqrt(3) =')\n",
"ns=(120*50)/4\n",
"format(5)\n",
"disp(ns,'N_s(in r.p.m) = 120f/P =')\n",
"disp('(i) At start,')\n",
"cp=0.2/(sqrt((0.2^2)+1))\n",
"format(6)\n",
"disp(cp,'cos(phi) = R2/Z2 = R2 / sqrt(R2^2+X2^2) =')\n",
"i2=69.28/(sqrt((0.2^2)+1))\n",
"disp(i2,'I2(in A/phase) = E2/Z2 = E2 / sqrt(R2^2+X2^2) =')\n",
"disp('(ii) On full load, N = 1440 r.p.m')\n",
"s=(1500-1440)/1500\n",
"format(5)\n",
"disp(s,'Therefore,  s = N_s-N / N_s =')\n",
"cpr=0.2/(sqrt((0.2^2)+(0.04^2)))\n",
"format(7)\n",
"disp(cpr,'Therefore,  cos(phi)_2r = R2/Z_2r = R2 / sqrt(R2^2+(s*X2)^2) =')\n",
"i2r=(0.04*69.28)/(sqrt((0.2^2)+(0.04^2)))\n",
"disp(i2r,'Therefore,  I_2r(in A) = E_2r/Z_2r = s*E2 / sqrt(R2^2+(s*X2)^2) =')\n",
"disp('It can be observed that current is drastically reduced from its value at start. In the running condition, slip controls and limits the magnitude of the motor current')"
   ]
   }
,
{
		   "cell_type": "markdown",
		   "metadata": {},
		   "source": [
			"## Example 5.7: calculate_torque_developed.sce"
		   ]
		  },
  {
"cell_type": "code",
	   "execution_count": null,
	   "metadata": {
	    "collapsed": true
	   },
	   "outputs": [],
"source": [
"//Example 5.7 calculate torque developed on full load by the motor.\n",
"clc\n",
"disp('P = 4, f = 50 Hz, R2 = 0.1 ohm, X2 = 1 ohm, N = 1440 r.p.m')\n",
"disp('Stator turns/Rotor turns = 2/1')\n",
"disp('Therefore,  K = E2/E1 = Rotor turns/Stator turns = 1/2 = 0.5')\n",
"ns=(120*50)/4\n",
"format(5)\n",
"disp(ns,'N_s(in r.p.m) = 120f/P =')\n",
"disp('E_1line = 400 V              ...Stator line voltage given')\n",
"e1=400/sqrt(3)\n",
"format(7)\n",
"disp(e1,'Therefore,  E_1ph(in V) = E_1line/sqrt(3) =')\n",
"disp('But  E_2ph/E_1ph = 0.5 = K')\n",
"e2=230.94/2\n",
"disp(e2,'Therefore,  E_2ph(in V) =')\n",
"s=(1500-1440)/1500\n",
"format(5)\n",
"disp(s,'Full load slip,  s = N_s-N / N_s =')\n",
"ns=1500/60\n",
"disp('n_s(in r.p.s) = Synchoronous speed in r.p.s')\n",
"disp(ns,'              = N_s/60 =')\n",
"t=(3/(2*%pi*25))*((0.04*0.1*115.47^2)/((0.1^2)+(0.04^2)))\n",
"format(6)\n",
"disp(t,'T(in N-m) = (3 / 2*pi*ns) * (s*E2^2*R2 / R2^2+(s*X2)^2) =')"
   ]
   }
,
{
		   "cell_type": "markdown",
		   "metadata": {},
		   "source": [
			"## Example 5.8: find_torque.sce"
		   ]
		  },
  {
"cell_type": "code",
	   "execution_count": null,
	   "metadata": {
	    "collapsed": true
	   },
	   "outputs": [],
"source": [
"//Example 5.8\n",
"clc\n",
"disp('P = 4, f = 50 Hz, Stator turns/Rotor turns = 4, R2 = 0.01 ohm, X2 = 0.1 ohm')\n",
"disp('E_1line = stator line voltage = 400 V')\n",
"e1=400/sqrt(3)\n",
"format(7)\n",
"disp(e1,'E_1ph(in V) = E_1line/sqrt(3) =          ...star connection')\n",
"disp('K = E_2ph/E_1ph = Rotor turns/stator turns = 1/4')\n",
"e2=230.94/4\n",
"disp(e2,'Therefore,  E_2(in V) = 1/4 * E_1ph =')\n",
"ns=(120*50)/4\n",
"format(5)\n",
"disp(ns,'N_s(in r.p.m) = 120f/P =')\n",
"disp('(i) At start,  s = 1')\n",
"disp('Therefore,  T_st =  (k*E2^2*R2 / R2^2+X2^2)       where k = 3 / 2*pi*ns')\n",
"ns=1500/60\n",
"disp(ns,'n_s(in r.p.s) = N_s/60 =')\n",
"k=3/(2*%pi*25)\n",
"format(8)\n",
"disp(k,'Therefore,  k = 3 / 2*pi*25 =')\n",
"t=((0.01909*0.01*57.735^2)/((0.01^2)+(0.1^2)))\n",
"format(7)\n",
"disp(t,'Therefore,  T_st(in N-m) =')\n",
"disp('(ii) Slip at which maximum torque occurs is,')\n",
"sm=0.01/0.1\n",
"disp(sm,'s_m = R2/X2 =')\n",
"psm=0.1*100\n",
"disp(psm,'%s_m =')\n",
"disp('(iii) Speed at which maximum torque occurs is speed corresponding to s_m,')\n",
"n=1500*(1-0.1)\n",
"format(5)\n",
"disp(n,'N(in r.p.m) = N_s*(1-s_m) =')\n",
"disp('(iv) The maximum torque is,')\n",
"tm=(0.01909*57.735^2)/(2*0.1)\n",
"format(7)\n",
"disp(tm,'T_m(in N-m) = k*E2^2 / 2*X2 =')\n",
"disp('(v) Full load slip, s_f = 0.04    as %s_f = 4%')\n",
"t=((0.01909*0.04*0.01*57.735^2)/((0.01^2)+(0.004^2)))\n",
"format(7)\n",
"disp(t,'T_f.l(in N-m) =(k*s*E2^2*R2 / R2^2+(s_f*X2)^2) =')"
   ]
   }
,
{
		   "cell_type": "markdown",
		   "metadata": {},
		   "source": [
			"## Example 5.9: find_ratio_of_torque.sce"
		   ]
		  },
  {
"cell_type": "code",
	   "execution_count": null,
	   "metadata": {
	    "collapsed": true
	   },
	   "outputs": [],
"source": [
"//Exmaple 5.9\n",
"clc\n",
"disp('Given values are,')\n",
"disp('P = 24, f = 50 Hz, R2 = 0.016 ohm, X2 = 0.265 ohm, N = 247 r.p.m')\n",
"ns=(120*50)/24\n",
"format(5)\n",
"disp(ns,'N_s(in r.p.m) = 120f/P =')\n",
"s=(250-247)/250\n",
"format(6)\n",
"disp(s,'s_f = Full load slip = N_s-N / N_s =')\n",
"sm=0.016/0.265\n",
"format(8)\n",
"disp(sm,'s_m = R2/X2 =')\n",
"tf=(2*0.06037*0.012)/((0.06037^2)+(0.012^2))\n",
"format(7)\n",
"disp(tf,'(i) T_F.L/T_m = 2*s_m*s_f / s_m^2+s_f^2 =')\n",
"ts=(2*0.06037)/((0.06037^2)+(1^2))\n",
"format(7)\n",
"disp(ts,'(ii) T_st/T_m = 2*s_m / 1+s_m^2 =')"
   ]
   }
],
"metadata": {
		  "kernelspec": {
		   "display_name": "Scilab",
		   "language": "scilab",
		   "name": "scilab"
		  },
		  "language_info": {
		   "file_extension": ".sce",
		   "help_links": [
			{
			 "text": "MetaKernel Magics",
			 "url": "https://github.com/calysto/metakernel/blob/master/metakernel/magics/README.md"
			}
		   ],
		   "mimetype": "text/x-octave",
		   "name": "scilab",
		   "version": "0.7.1"
		  }
		 },
		 "nbformat": 4,
		 "nbformat_minor": 0
}
