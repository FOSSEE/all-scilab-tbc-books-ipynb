{
"cells": [
 {
		   "cell_type": "markdown",
	   "metadata": {},
	   "source": [
       "# Chapter 9: Cathode Ray Oscilloscope"
	   ]
	},
{
		   "cell_type": "markdown",
		   "metadata": {},
		   "source": [
			"## Example 9.10: phase_difference.sce"
		   ]
		  },
  {
"cell_type": "code",
	   "execution_count": null,
	   "metadata": {
	    "collapsed": true
	   },
	   "outputs": [],
"source": [
"//example9.10\n",
"clc\n",
"disp('It can be observed from the Lissajous figures that,')\n",
"disp('(y_1)=8 units     and,    (y_2)=10 units')\n",
"s=asind(8/10)\n",
"format(6)\n",
"disp(s,'Therefore, phi (in degree)= asind((y_1)/(y_2))=asind(8/10)=')"
   ]
   }
,
{
		   "cell_type": "markdown",
		   "metadata": {},
		   "source": [
			"## Example 9.11: unknown_frequency_of_vertical_signal.sce"
		   ]
		  },
  {
"cell_type": "code",
	   "execution_count": null,
	   "metadata": {
	    "collapsed": true
	   },
	   "outputs": [],
"source": [
"//example9.11\n",
"clc\n",
"disp('It can be observed that,')\n",
"disp('Number of vertical tangencies = 2')\n",
"disp('Number of horizontal tangencies = 5')\n",
"disp('Now, (f_v/f_H) = 5/2')\n",
"disp('Therefore, f_v = 5/2')\n",
"disp('f_H = 5/2 * 1 kHz')\n",
"f=5/2\n",
"disp(f,'Therefore, f_v(in kHz)=')\n",
"disp('This is the unknown frequency.')"
   ]
   }
,
{
		   "cell_type": "markdown",
		   "metadata": {},
		   "source": [
			"## Example 9.12: deflection_sensitivity_and_angle_of_deflection_and_velocity_of_beam.sce"
		   ]
		  },
  {
"cell_type": "code",
	   "execution_count": null,
	   "metadata": {
	    "collapsed": true
	   },
	   "outputs": [],
"source": [
"//example9.12\n",
"clc\n",
"disp('d=0.5 cm, L=20 cm, l=2 cm, (V_a)=1000 V, (V_d)=25 V')\n",
"d=((2*10^-2)*(20*10^-2)*25)/(2*0.5*1000*10^-2)\n",
"disp(d,'i) D(in m)=(l*L*(V_d))/(2*d*V_a)=')\n",
"s=0.01/25\n",
"disp(s,'Therefore, S(in m/V)=D/(V_d)=')\n",
"disp('ii) tan(theta)=(l*a_y)/(v_ox^2)')\n",
"a=((1.6*10^-19)*25)/((0.5*10^-2)*(9.107*10^-31))\n",
"format(9)\n",
"disp(a,'where, a_y(in m/s^2)=(q*v_d)/(d*m)= ')\n",
"v=sqrt((2*1.6*1000*10^-19)/(9.107*10^-31))\n",
"disp(v,'v_ox(in m/s)=sqrt((2*q*V_a)/m)=')\n",
"t=((2*10^-2)*(8.7844*10^14))/((18.745*10^6)^2)\n",
"format(5)\n",
"disp(t,'Therefore, tan(theta)=t=((2*10^-2)*(8.7844*10^14))/((18.745*10^6)^2)= ')\n",
"a=atand(0.05)\n",
"format(6)\n",
"disp(a,'Therefore, theta(in degree)= ')\n",
"format(9)\n",
"disp(v,'iii) (v_ox)= Velocity of electrons - Velocity of beam =')"
   ]
   }
,
{
		   "cell_type": "markdown",
		   "metadata": {},
		   "source": [
			"## Example 9.15: time_for_electro.sce"
		   ]
		  },
  {
"cell_type": "code",
	   "execution_count": null,
	   "metadata": {
	    "collapsed": true
	   },
	   "outputs": [],
"source": [
"//example9.15\n",
"clc\n",
"disp('The arrangement is shown in the fig. 9.19')\n",
"disp('Negative plate is at x=0')\n",
"disp('Therefore, Positive plate is at x=1*10^-2 m')\n",
"disp('E=V/d=1000/(1*10^-2)      ...d= 1*10^-2 m')\n",
"e=1000/(10^-2)\n",
"disp(e,'Therefore, E(in V/m)=')\n",
"disp('As field is uniform, the electron will move with constant acceleration.')\n",
"disp('Therefore, x = (1/2)*(a_x)*(t^2)')\n",
"a=((1.6*10^-19)*(1*10^5))/(9.107*10^-31)\n",
"disp(a,'where, a_x(in m/s^2)=(q*E)/m=')\n",
"disp('So time for electron to reach positve plate is,')\n",
"disp('(t^2)=(2*x)/(a_x)=(2*1*10^-2)/(1.7568*10^16)')\n",
"t=sqrt((2*1*10^-2)/(1.7568*10^16))\n",
"disp(t,'Therefore, t(in s)=')"
   ]
   }
,
{
		   "cell_type": "markdown",
		   "metadata": {},
		   "source": [
			"## Example 9.16: deflection_sensitivity.sce"
		   ]
		  },
  {
"cell_type": "code",
	   "execution_count": null,
	   "metadata": {
	    "collapsed": true
	   },
	   "outputs": [],
"source": [
"//example9.16\n",
"clc\n",
"disp('l=2 cm, d=4 mm, L=25 cm')\n",
"disp('S=D/(V_d)=(l*L)/(2*d*V_a) m/V     ...Defection sensitivity')\n",
"disp('i) V_a=1000 V')\n",
"s=((2*10^-2)*(25*10^-2))/(2*4*1000*10^-3)\n",
"disp(s,'Therefore, S(in m/V)=((2*10^-2)*(25*10^-2))/(2*4*1000*10^-3)= ')\n",
"disp('ii) V_a=2000 V')\n",
"s=((2*10^-2)*(25*10^-2))/(2*4*2000*10^-3)\n",
"disp(s,'Therefore, S(in m/V)=((2*10^-2)*(25*10^-2))/(2*4*2000*10^-3)= ')\n",
"disp('iii) V_a=3500 V')\n",
"s=((2*10^-2)*(25*10^-2))/(2*4*3500*10^-3)\n",
"disp(s,'Therefore, S(in m/V)=((2*10^-2)*(25*10^-2))/(2*4*13500*10^-3)= ')"
   ]
   }
,
{
		   "cell_type": "markdown",
		   "metadata": {},
		   "source": [
			"## Example 9.17: time_taken_by_electron.sce"
		   ]
		  },
  {
"cell_type": "code",
	   "execution_count": null,
	   "metadata": {
	    "collapsed": true
	   },
	   "outputs": [],
"source": [
"//example9.17\n",
"clc\n",
"disp('D=5 mm, V=250V, v_ox=1*10^6 m/s')\n",
"e=250/(5*10^-3)\n",
"disp(e,'E(in V/m)=V/d=')//answer in text book is wrong\n",
"a=((1.6*10^-19)*(50*10^3))/(9.107*10^-31)\n",
"disp(a,'a_x(in m/s^2)=(q*E)/m= ')\n",
"disp('Now, x= (1/2)*(a_x)*(t^2)+(V_ox)*t+(x_o)  but (x_o)=0 initially')\n",
"disp('Therefore, x= (1/2)*(a_x)*(t^2)+(V_ox)*t')\n",
"disp('When electron reaches to anode, x=5 mm.')\n",
"disp('Therefore, (5*10^-3)=(1/2)*(8.7844*10^15)*(t^2)+(1*10^6)*t')\n",
"disp('Therefore, t(in sec)=9.5916D-10       ...neglecting negative value')\n",
"disp('Thus time taken by electron to reach anode from cathode is 0.95916 ns.')"
   ]
   }
,
{
		   "cell_type": "markdown",
		   "metadata": {},
		   "source": [
			"## Example 9.18: input_voltage.sce"
		   ]
		  },
  {
"cell_type": "code",
	   "execution_count": null,
	   "metadata": {
	    "collapsed": true
	   },
	   "outputs": [],
"source": [
"//example9.18\n",
"clc\n",
"disp('l=2 cm, d=5 mm, L=30 cm, V_a=2000 V, D=3 cm')\n",
"disp('D=(l*L*V_d)/(2*d*V_a)')\n",
"disp('i.e.  (3*10^-2)=((2*10^-2)*(30*10^-2)*(V_d))/((2*5*10^-3)*2000)')\n",
"v=((3*10^-2)*(2*5*10^-3)*2000)/((2*10^-2)*(30*10^-2))\n",
"disp(v,'Therefore, V_d(in V)=')\n",
"disp('But it is applied through amplifier of gain 100')\n",
"g=100/100\n",
"disp(g,'Therefore, Input voltage required = (V_d)/gain = 100/100 =')"
   ]
   }
,
{
		   "cell_type": "markdown",
		   "metadata": {},
		   "source": [
			"## Example 9.19: beam_velocity_and_deflection_sensitivity_and_deflection_factor.sce"
		   ]
		  },
  {
"cell_type": "code",
	   "execution_count": null,
	   "metadata": {
	    "collapsed": true
	   },
	   "outputs": [],
"source": [
"//example9.19\n",
"clc\n",
"disp('l=1.5 cm, d=5 mm, L=50 cm, V_a=2000 V')\n",
"v=sqrt((2*2000*1.6*10^-19)/(9.107*10^-31))\n",
"disp(v,'1.  v_ox(in m/s)=Beam velocity=sqrt((2*q*V_a)/m)=')\n",
"s=((1.5*10^-2)*(50*10^-2))/((2*5*10^-3)*2000)\n",
"disp(s,'S(in m/V)=D/(V_d)=(l*L)/(2*d*V_a)=')\n",
"g=1/(3.75*10^-4)\n",
"disp(g,'G(in V/m)=1/S=')"
   ]
   }
,
{
		   "cell_type": "markdown",
		   "metadata": {},
		   "source": [
			"## Example 9.1: time_for_electo.sce"
		   ]
		  },
  {
"cell_type": "code",
	   "execution_count": null,
	   "metadata": {
	    "collapsed": true
	   },
	   "outputs": [],
"source": [
"//example9.1\n",
"clc\n",
"disp('The arrangement is shown in the Fig. 9.2')\n",
"disp('Let x=0 at negative plate and x=2*10^-2 m at positive plate.')\n",
"disp('The E is constant and its magnitude is given by,')\n",
"e=10/(2*10^-2)\n",
"disp(e,'E(in V/m)=V/d=')\n",
"disp('The electron will move with constant acceleration as field is uniform,')\n",
"a=(1.6*500*10^-19)/(9.107*10^-13)\n",
"disp(a,'a_x(in m/sec^2)=(q*E)/m=')\n",
"disp('The velocity v_x is given by,')\n",
"disp('(v_x)=(a_x)*t+(V_ox)      .. v_ox =0 as electron is at rest')\n",
"disp('and  x=(1/2 *a_x *t^2)+(V_ox *t)+(x_o)....(v_ox)=(x_o)=0')\n",
"x=(1/2)*8.7844*(10^13)*((1*10^-9)^2)\n",
"disp(x,'Therefore, x(in m)=(1/2)*8.7844*(10^13)*((1*10^-9)^2)=')\n",
"disp('ii) When electron reaches to second plate, x=2*10^-2 m')\n",
"disp('Therefore, x=(1/2)*(a_x)*t^2')\n",
"disp('Therefore, 2*10^-2 = (1/2)*(8.7844*10^13)*t^2')\n",
"disp('Therefore, t^2 = 4.5535*10^-16')\n",
"t=sqrt(4.5535*10^-16)\n",
"format(15)\n",
"disp(t,'Therefore, t(in sec)=')"
   ]
   }
,
{
		   "cell_type": "markdown",
		   "metadata": {},
		   "source": [
			"## Example 9.2: final_velocity_pf_electron.sce"
		   ]
		  },
  {
"cell_type": "code",
	   "execution_count": null,
	   "metadata": {
	    "collapsed": true
	   },
	   "outputs": [],
"source": [
"//example9.2\n",
"clc\n",
"disp('Initially electron is at rest and V=200 V')\n",
"disp('Therefore, v(in m/sec)=sqrt(2*q*V/m)=(5.94*10^5)*sqrt(V)')\n",
"v=(5.94*10^5)*sqrt(200)\n",
"format(8)\n",
"disp(v,'= (5.94*10^5)*sqrt(200) = ')"
   ]
   }
,
{
		   "cell_type": "markdown",
		   "metadata": {},
		   "source": [
			"## Example 9.4: velocity_and_deflection_and_deflection_sensitivity.sce"
		   ]
		  },
  {
"cell_type": "code",
	   "execution_count": null,
	   "metadata": {
	    "collapsed": true
	   },
	   "outputs": [],
"source": [
"//example9.4\n",
"clc\n",
"disp('d=1 cm, L=33 cm, l=4.5 cm, (V_a)=300 V, (V_d)=50 V')\n",
"v=sqrt((2*1.6*300*10^-19)/(9.107*10^-31))\n",
"format(9)\n",
"disp(v,'i) (v_ox[in m/s])=sqrt(2*q*(V_a)/m)=sqrt((2*1.6*300*10^-19)/(9.107*10^-13))=')\n",
"d=((4.5*10^-2)*(33*10^-2)*50)/(2*300*10^-2)\n",
"format(7)\n",
"disp(d,'ii) D(in m)=(l*L*(V_d))/(2*d*V_a)= ')\n",
"s=0.1237/50\n",
"format(9)\n",
"disp(s,'iii) S(in m/V)=D/(V_d)= ')"
   ]
   }
,
{
		   "cell_type": "markdown",
		   "metadata": {},
		   "source": [
			"## Example 9.7: speed_of_electron_and_force_on_electron.sce"
		   ]
		  },
  {
"cell_type": "code",
	   "execution_count": null,
	   "metadata": {
	    "collapsed": true
	   },
	   "outputs": [],
"source": [
"//exmaple9.7\n",
"clc\n",
"disp('phi=8 degree, l=3 cm, B=0.6 mT=0.6*10^-3 Wb/m^2')\n",
"disp('a) phi=(l*q*B)/(m*v) where v= velocity of electrons')\n",
"disp('But phi must be in radians')\n",
"p=(8*%pi)/180\n",
"format(7)\n",
"disp(p,'Therefore, phi=8 degree=(8*pi)/180 radians= ')\n",
"disp('Therefore, 0.1396 = ((3*10^-2)*(1.6*10^-19)*(0.6*10^-3))/(9.107*10^-31 *v)')\n",
"v=((3*10^-2)*(1.6*10^-19)*(0.6*10^-3))/(0.1396*9.107*10^-31)\n",
"format(9)\n",
"disp(v,'Therefore, v(in m/s)=')\n",
"disp('b) f_m(in N) = (B*q*v) = force on each electron')\n",
"f=(0.6*10^-3)*(1.6*10^-19)*(22.65*10^6)\n",
"disp(f,'= (0.6*10^-3)*(1.6*10^-19)*(22.65*10^6) = ')"
   ]
   }
,
{
		   "cell_type": "markdown",
		   "metadata": {},
		   "source": [
			"## Example 9.8: amplitude_and_rms_value.sce"
		   ]
		  },
  {
"cell_type": "code",
	   "execution_count": null,
	   "metadata": {
	    "collapsed": true
	   },
	   "outputs": [],
"source": [
"//example9.8\n",
"clc\n",
"disp('It can be observed that the screen is divided such that one part is subdivided into 5 units.')\n",
"disp('Therefore, 1 subdivision = 1/5 = 0.2 units')\n",
"disp('It can be observed that positive peak of signal corresponds to two full divisions and three subdivisions. Hence positive peak is 2+3*0.2=2.6 units while the negative peak also corresponds to 2.6 units.')\n",
"v=2.6+2.6\n",
"disp(v,'Therefore, (V_pp)[in divisions]=Peak to peak=2.6+2.6=')\n",
"v=5.2*2*10^-3\n",
"disp(v,'Therefore, (V_pp)[in V]=Number of divisions*volts/divisions= ')\n",
"a=10.4/2\n",
"disp(a,'Therefore, (V_m)[in mV]=Amplitude=(V_pp)/2=')\n",
"v=5.2/(sqrt(2))\n",
"format(8)\n",
"disp(v,'and, (V_RMS)[in mV]= (V_m)/sqrt(2)= ')"
   ]
   }
],
"metadata": {
		  "kernelspec": {
		   "display_name": "Scilab",
		   "language": "scilab",
		   "name": "scilab"
		  },
		  "language_info": {
		   "file_extension": ".sce",
		   "help_links": [
			{
			 "text": "MetaKernel Magics",
			 "url": "https://github.com/calysto/metakernel/blob/master/metakernel/magics/README.md"
			}
		   ],
		   "mimetype": "text/x-octave",
		   "name": "scilab",
		   "version": "0.7.1"
		  }
		 },
		 "nbformat": 4,
		 "nbformat_minor": 0
}
