{
"cells": [
 {
		   "cell_type": "markdown",
	   "metadata": {},
	   "source": [
       "# Chapter 6: Instruments"
	   ]
	},
{
		   "cell_type": "markdown",
		   "metadata": {},
		   "source": [
			"## Example 6.10: number_of_turns.sce"
		   ]
		  },
  {
"cell_type": "code",
	   "execution_count": null,
	   "metadata": {
	    "collapsed": true
	   },
	   "outputs": [],
"source": [
"//example6.10\n",
"clc\n",
"disp('R_m=2000 ohm, V_m=100 V, N=10000')\n",
"i=100/2000\n",
"disp(i,'Therefore, I_m(in A)=(V_m)/(R_m)=100/2000=')\n",
"i=0.05*10000\n",
"disp(i,'Therefore, AT for full scale deflection = (I_m)*N=0.05*10000')\n",
"disp('For I=20 A, AT=I*N''')\n",
"disp('Therefore, 500=20*N''')\n",
"n=500/20\n",
"disp(n,'Therefore, N''=')"
   ]
   }
,
{
		   "cell_type": "markdown",
		   "metadata": {},
		   "source": [
			"## Example 6.11: shunt_resistance_and_full_scale_deflection.sce"
		   ]
		  },
  {
"cell_type": "code",
	   "execution_count": null,
	   "metadata": {
	    "collapsed": true
	   },
	   "outputs": [],
"source": [
"//example6.11\n",
"clc\n",
"disp('I_m=15 mA, R_m=1.5 ohm at 15 degree celcius, R=3.5 ohm')\n",
"r=1.5+3.5\n",
"disp(r,'Therefore, R_mT(in ohm)= Total meter resistance = 1.5+3.5 = ')\n",
"disp('i) I=20A')\n",
"r=(15*5*10^-3)/(20-(15*10^-3))\n",
"format(10)\n",
"disp(r,'Therefore, R_sh(in ohm)=[(I_m)*(R_mT)]/[I-(I_m)]=')\n",
"disp('ii) V=250 V')\n",
"r=(100/(15*10^-3))-5\n",
"disp(r,'R_s(in ohm)=V/I_m - R_mT =')\n",
"disp('Now at 25 degree celcius, (R_m)'' is the new meter resistance.')\n",
"disp('R_m'' = R_m[1+(alpha_1)*(t2-t1)] where t1=15 degree celcius, t2=25 degree celcius')\n",
"a=(1/234.5)/(1+(15/234.5))\n",
"format(6)\n",
"disp(a,'(alpha_1)[in per degree celcius]=(alpha_0)/(1+[(alpha_0)*t1])=(1/234.5)/(1+(15/234.5))=')\n",
"r=1.5*(1+(0.004*(25-15)))\n",
"format(8)\n",
"disp(r,'Therefore, R_m''(in ohm)=1.5*(1+(0.004*(25-15)))= ')\n",
"r=1.56012+3.5\n",
"format(8)\n",
"disp(r,'Therefore, R_mT''(in ohm)=1.56012+3.5=')\n",
"disp('Error in part(i) : The Fig. 6.19 shows two cases.')\n",
"disp('Therefore, I_m1 at 15 degree celcius = (I*R_sh)/[(R_sh+(R_mT))]=7.4999*10^-4 I')\n",
"disp('Therefore, I_m2 at 25 degree celcius = (I*R_sh)/[(R_sh+(R_mT''))]=7.41092*10^-4 I')\n",
"i=((7.41092*10^-2)-(7.4999*10^-2))/(7.4999*10^-4)\n",
"format(7)\n",
"disp(i,'% error = [(I_m2)-(I_m1)*100]/(I_m1)= ')\n",
"disp('Negative sign indicates that the reading is less than the actual reading.')\n",
"disp('Error in part(ii) : The Fig. 6.19 shows two cases.')\n",
"disp('Therefore, V_m1 = (V*R_mT)/(R_mT+R_s)=(5*V)/(5+16661.67)=2.9999*10^-4 V')\n",
"disp('Therefore, V_m2 = (V*R_mT'')/(R_mT''+R_s)=(5.06012*V)/(5.06012+16661.67)=3.03606*10^-4 V')\n",
"v=((3.03606*10^-2)-(2.9999*10^-2))/(2.9999*10^-4)\n",
"format(7)\n",
"disp(v,'% error = [(V_m2)-(V_m1)*100]/(V_m1)= ')"
   ]
   }
,
{
		   "cell_type": "markdown",
		   "metadata": {},
		   "source": [
			"## Example 6.1: deflectio.sce"
		   ]
		  },
  {
"cell_type": "code",
	   "execution_count": null,
	   "metadata": {
	    "collapsed": true
	   },
	   "outputs": [],
"source": [
"//exmaple6.1\n",
"clc\n",
"disp('The deflecting torque is given by,')\n",
"disp('(T_d)=NBAI=100*15*A*5*10^-3 Nm')\n",
"disp('Now A= Area = 10*8 =80 mm^2= 80*10^-6 m^2')\n",
"t=100*0.15*80*5*10^-9\n",
"disp(t,'Therefore, (T_d)[in Nm]=100*0.15*80*(10^-6)*5*(10^-3)=')\n",
"disp('Now, T_d=T_c=K*(theta)')\n",
"disp('Therefore, 6*10^-6 = 0.2*10^-6 *(theta)')\n",
"t=(6*10^-6)/(0.2*10^-6)\n",
"disp(t,'Therefore, theta(in degree)=(6*10^-6)/(0.2*10^-6)= ')"
   ]
   }
,
{
		   "cell_type": "markdown",
		   "metadata": {},
		   "source": [
			"## Example 6.2: theta.sce"
		   ]
		  },
  {
"cell_type": "code",
	   "execution_count": null,
	   "metadata": {
	    "collapsed": true
	   },
	   "outputs": [],
"source": [
"//example6.2\n",
"clc\n",
"disp('The rate of change of inductance with deflection is,')\n",
"disp('dL/d(theta)=d(12+6(theta)-(theta^2))/d(theta)=6-2(theta) uH/radian= 6-2(theta)*10^-6 H/radians')\n",
"disp('From the torque equation,')\n",
"disp('theta=(I^2)dL/(2*K*d(theta))')\n",
"disp('therefore, theta=(8^2)*[6-2(theta)]*10^-6 /(2*12*10^-6)')\n",
"disp('Therefore, 0.375(theta)=6-2(theta)')\n",
"t=6/2.375\n",
"format(6)\n",
"disp(t,'Therefore, theta[in radians]= ')"
   ]
   }
,
{
		   "cell_type": "markdown",
		   "metadata": {},
		   "source": [
			"## Example 6.3: shunt_resistance.sce"
		   ]
		  },
  {
"cell_type": "code",
	   "execution_count": null,
	   "metadata": {
	    "collapsed": true
	   },
	   "outputs": [],
"source": [
"//example6.3\n",
"clc\n",
"disp('Given values are, (R_m)=100 ohm, (I_m)=2 mA, I=150 mA')\n",
"disp('(R_sh)=[(I_m)*(R_m)]/[I-(I_m)]')\n",
"r=(2*100*10^-3)/((150*10^-3)-(2*10^-3))\n",
"format(6)\n",
"disp(r,'Therefore, (R_sh)[in ohm]=(2*100*10^-3)/((150*10^-3)-(2*10^3))=')"
   ]
   }
,
{
		   "cell_type": "markdown",
		   "metadata": {},
		   "source": [
			"## Example 6.4: current_through_shunt_and_resistance_of_motor.sce"
		   ]
		  },
  {
"cell_type": "code",
	   "execution_count": null,
	   "metadata": {
	    "collapsed": true
	   },
	   "outputs": [],
"source": [
"//example6.4\n",
"clc\n",
"disp('a) The drop across the shunt is same as drop across the coil.')\n",
"disp('Therefore, [(I_sh)*(R_sh)]=400 mV')\n",
"i=(400*10^-3)/0.01\n",
"disp(i,'Therefore, I_sh(in A)=(400*10^-3)/0.01= ')\n",
"disp('b) The voltage across shunt for shunted current of 50 A is,')\n",
"v=50*0.01\n",
"disp(v,'V_sh(in V)=[(I_sh)*(R_sh)]=50*0.01=')\n",
"disp('For this voltage the meter should give full scale deflection. In first case, the current through meter for full deflection was,')\n",
"i=(400*10^-3)/750\n",
"disp(i,'I_m(in A)=(400mV)/(R_m)=(400*10^-3)/750=')\n",
"disp('The same I_m must flow for new voltage across the meter of 0.5 V')\n",
"disp('Therefore, [(I_m)*(R_m)'']=0.5')\n",
"disp('Therefore, [(5.33*10^-4)*(R_m)'']=0.5')\n",
"r=0.5/(5.33*10^-4)\n",
"disp(r,'Therefore, (R_m'')[in ohm]=')\n",
"disp('This is the resistance of the meter required for 50 A shunted current to give full scale defection.')"
   ]
   }
,
{
		   "cell_type": "markdown",
		   "metadata": {},
		   "source": [
			"## Example 6.5: multiplier_resistance.sce"
		   ]
		  },
  {
"cell_type": "code",
	   "execution_count": null,
	   "metadata": {
	    "collapsed": true
	   },
	   "outputs": [],
"source": [
"//example6.5\n",
"clc\n",
"disp('Given values are, R_m=500 ohm, I_m=40 uA and V=10 V')\n",
"r=(10/(40*10^-6))-500\n",
"format(8)\n",
"disp(r,'Now, (R_s)[in ohm]=V/(I_m) - R_m =')\n",
"disp('This is the required multiplier resistance')"
   ]
   }
,
{
		   "cell_type": "markdown",
		   "metadata": {},
		   "source": [
			"## Example 6.6: shunt_required_and_multiplier_required.sce"
		   ]
		  },
  {
"cell_type": "code",
	   "execution_count": null,
	   "metadata": {
	    "collapsed": true
	   },
	   "outputs": [],
"source": [
"//example6.6\n",
"clc\n",
"disp('The meter current (I_m)=20 mA')\n",
"disp('Drop across meter, (V_m)=200 mV')\n",
"disp('Now, (V_m)=[(I_m)*(R_m)]')\n",
"disp('Therefore, 200 mV = (20 mA)(R_m)')\n",
"r=200/20\n",
"disp(r,'Therefore, (R_m)[in ohm]=')\n",
"disp('i) For using it as an ammeter, I=200 A')\n",
"r=(200*10^-3)/(200-(20*20^-3))\n",
"format(6)\n",
"disp(r,'R_sh(in ohm)=[(I_m)*(R_m)]/[I-(I_m)]=')\n",
"disp('This is the required shunt.')\n",
"disp('ii) For using it as a voltmeter, V=500 V')\n",
"disp('Therefore, (R_s)=V/(I_m) - (R_m)')\n",
"r=(500/(20*10^-3))-10\n",
"format(8)\n",
"disp(r,'= (500/(20*10^-3))-10 = ')\n",
"disp('This is the required multiplier.')"
   ]
   }
,
{
		   "cell_type": "markdown",
		   "metadata": {},
		   "source": [
			"## Example 6.7: voltage_induced.sce"
		   ]
		  },
  {
"cell_type": "code",
	   "execution_count": null,
	   "metadata": {
	    "collapsed": true
	   },
	   "outputs": [],
"source": [
"//example6.7\n",
"clc\n",
"disp('The arrangement is shown in the Fig 6.18(a)')\n",
"disp('The voltmeter range = 50 V')\n",
"r=100*50\n",
"disp(r,'Therefore, (R_m)[in ohm] = Voltmeter resistance = 100 ohm/V * 50 =')\n",
"disp('This appears in parallel with 55 ohm resistor as shown in the Fig.6.18(b)')\n",
"r=(55*5000)/(55+5000)\n",
"format(9)\n",
"disp(r,'Therefore, R'' (in ohm)= 55||5000 = (55*5000)/(55+5000)= ')\n",
"i=80/(105+54.40158)\n",
"format(8)\n",
"disp(i,'Therefore, I(in A)=80/(105+R'')=')\n",
"v=0.501877*54.40158\n",
"disp(v,'Therefore, Voltage across R''(in V)=[I*R'']=0.501877*54.40158=')\n",
"disp('The  voltmeter will sense this voltage.')\n",
"disp('Therefore, Voltage indicated = 27.3029 V')"
   ]
   }
,
{
		   "cell_type": "markdown",
		   "metadata": {},
		   "source": [
			"## Example 6.8: resistance.sce"
		   ]
		  },
  {
"cell_type": "code",
	   "execution_count": null,
	   "metadata": {
	    "collapsed": true
	   },
	   "outputs": [],
"source": [
"//example6.8\n",
"clc\n",
"disp('I_m=15 mA, R_m=5 ohm')\n",
"disp('i) I=2A')\n",
"r=(15*5*10^-3)/(2-(15*10^-3))\n",
"format(8)\n",
"disp(r,'R_sh(in ohm)=[(I_m)*(R_m)]/[I-(I_m)]=')\n",
"disp('ii) V=100 V')\n",
"r=(100/(15*10^-3))-5\n",
"format(10)\n",
"disp(r,'R_s(in ohm)=V/I_m - R_m =')"
   ]
   }
,
{
		   "cell_type": "markdown",
		   "metadata": {},
		   "source": [
			"## Example 6.9: ammeter_and_voltmeter.sce"
		   ]
		  },
  {
"cell_type": "code",
	   "execution_count": null,
	   "metadata": {
	    "collapsed": true
	   },
	   "outputs": [],
"source": [
"//example6.9\n",
"clc\n",
"disp('R_m=5 ohm, I_m=15 mA')\n",
"disp('i) I=15A')\n",
"r=(15*5*10^-3)/(15-(15*10^-3))\n",
"format(9)\n",
"disp(r,'R_sh(in ohm)=[(I_m)*(R_m)]/[I-(I_m)]=')\n",
"disp('ii) V=15 V')\n",
"r=(15/(15*10^-3))-5\n",
"format(4)\n",
"disp(r,'R_s(in ohm)=V/I_m - R_m =')"
   ]
   }
],
"metadata": {
		  "kernelspec": {
		   "display_name": "Scilab",
		   "language": "scilab",
		   "name": "scilab"
		  },
		  "language_info": {
		   "file_extension": ".sce",
		   "help_links": [
			{
			 "text": "MetaKernel Magics",
			 "url": "https://github.com/calysto/metakernel/blob/master/metakernel/magics/README.md"
			}
		   ],
		   "mimetype": "text/x-octave",
		   "name": "scilab",
		   "version": "0.7.1"
		  }
		 },
		 "nbformat": 4,
		 "nbformat_minor": 0
}
