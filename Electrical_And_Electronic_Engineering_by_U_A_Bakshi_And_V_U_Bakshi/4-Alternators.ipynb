{
"cells": [
 {
		   "cell_type": "markdown",
	   "metadata": {},
	   "source": [
       "# Chapter 4: Alternators"
	   ]
	},
{
		   "cell_type": "markdown",
		   "metadata": {},
		   "source": [
			"## Example 4.10: calculate_flux.sce"
		   ]
		  },
  {
"cell_type": "code",
	   "execution_count": null,
	   "metadata": {
	    "collapsed": true
	   },
	   "outputs": [],
"source": [
"//Exmaple 4.10\n",
"clc\n",
"disp('N_s = 250 r.p.m.,  f = 50 Hz')\n",
"disp('slots = 288,  E_line = 6600 V')\n",
"disp('N_s = 120*f/P')\n",
"p=(120*50)/250\n",
"format(3)\n",
"disp(p,'Therefore,  P =')\n",
"n=288/24\n",
"disp(n,'n = slots/pole =')\n",
"m=12/3\n",
"disp(m,'m = n/2 =')\n",
"beta=180/12\n",
"disp(beta,'beta = 180/n =')\n",
"kd=sind(30)/(4*sind(7.5))\n",
"format(7)\n",
"disp(kd,'Therefore,  K_d = sin(m*beta/2) / m*sin(beta/2) =')\n",
"disp('Now coil is short pitched by 2 slots')\n",
"al=2*15\n",
"disp(al,'Therefore,  alpha = angle of short pitch = 2 * beta =')\n",
"kc=cosd(15)\n",
"disp(kc,'Therefore,  K_c = cos(alpha/2) =')\n",
"disp('Each coil consists of 16 turns, i.e. in a slot each coil side consists of 16 conductors as shown in the fig.4.42 and in each slot there are 2 coil sides. So each slot consists of 16 per coil side x 2 i.e. 32 conductors.')\n",
"disp('Therefore,  conductors/slot = 32')\n",
"disp('Therefore,  total conductors = slots x conductors/slot')\n",
"z=288*32\n",
"format(5)\n",
"disp(z,'Therefore,  Z =')\n",
"zp=9216/3\n",
"disp(zp,'Therefore,  Z_ph = conductors/phase =')\n",
"tp=3072/2\n",
"disp(tp,'Therefore,  T_ph = Z_ph/2 =               ... 2 conductors -> 1 turn')\n",
"ep=6600/sqrt(3)\n",
"format(8)\n",
"disp(ep,'Now  E_ph(in V) = E_line / sqrt(3) =')\n",
"disp('E_ph = 4.44*K_c*K_d*phi*f*T_ph')\n",
"phi=(3810.51/(4.44*0.9659*0.9576*50*1536))*10^3\n",
"format(3)\n",
"disp(phi,'Therefore,  phi(in mWb) =')"
   ]
   }
,
{
		   "cell_type": "markdown",
		   "metadata": {},
		   "source": [
			"## Example 4.11: find_rms_vlaue.sce"
		   ]
		  },
  {
"cell_type": "code",
	   "execution_count": null,
	   "metadata": {
	    "collapsed": true
	   },
	   "outputs": [],
"source": [
"//Example 4.11\n",
"clc\n",
"disp('P = 12,  N_s = 600 r.p.m')\n",
"f=(12*600)/120\n",
"format(3)\n",
"disp(f,'Therefore,  f(in Hz) = P*N_s/120 =')\n",
"disp('(i) Average value of e.m.f in a conductor = 2*f*phi')\n",
"rms=1.11*2*60*0.05\n",
"format(5)\n",
"disp(rms,'Therefore,  r.m.s value(in V) = 1.11*2*f*phi =')\n",
"disp('(ii) Average value of e.m.f in a turn = 4*f*phi')\n",
"disp('As 2 conductors joined properly form a turn')\n",
"rms=1.11*4*60*0.05\n",
"format(6)\n",
"disp(rms,'Therefore,  r.m.s value(in V) = 1.11*4*f*phi =')\n",
"disp('(iii) Now each slot has 10 conductors and 2 coil sides. So,')\n",
"c=10/2\n",
"disp(c,'conductors/coil side = 10/2 =')\n",
"disp('Such coil sides are connected to another coil sides to form a coil. So in a coil there are 5 turns as shown in fig.4.43')\n",
"rmss=13.32*5\n",
"format(5)\n",
"disp(rmss,'Therefore,  R.M.S value of e.m.f in a coil(in V) = R.M.S value of e.m.f/turn * Number of turns/coil =')\n",
"disp('(iv) Now total conductors  Z = conductors/slots * Number of slots')\n",
"z=10*180\n",
"disp(z,'Therefore,  Z =')\n",
"zph=1800/3\n",
"disp(zph,'Therefore,  Z_ph = Z/3 =')\n",
"tph=600/2\n",
"disp(tph,'T_ph = Z_ph/2 =')\n",
"n=180/12\n",
"disp(n,'And  n = slots/pole =')\n",
"m=15/3\n",
"disp(m,'m = n/3 =')\n",
"beta=180/15\n",
"disp(beta,'beta(in degree) =')\n",
"kd=sind(30)/(5*sind(6))\n",
"format(7)\n",
"disp(kd,'Therefore,  K_d = sin(m*beta/2) / m*sin(beta/2) =')\n",
"disp('E_ph = R.M.S value per turn*T_ph*K_d*K_c')\n",
"ep=13.32*300*0.9566*1\n",
"format(8)\n",
"disp(ep,'Therefore,  E_ph(in V) =')\n",
"disp('or  E_ph = 4.44*K_c*K_d*phi*f*T_ph')\n",
"eph=4.44*0.9566*0.05*60*300\n",
"format(8)\n",
"disp(eph,'Therefore,  E_ph(in V) =')"
   ]
   }
,
{
		   "cell_type": "markdown",
		   "metadata": {},
		   "source": [
			"## Example 4.12: find_induced_emf.sce"
		   ]
		  },
  {
"cell_type": "code",
	   "execution_count": null,
	   "metadata": {
	    "collapsed": true
	   },
	   "outputs": [],
"source": [
"//Example 4.12\n",
"clc\n",
"disp('P = 6,  f = 50 Hz,  n = 12 slots/pole, 4 conductors/slot')\n",
"disp('For full pitch,  n = 12 slots/pole')\n",
"ap=60/6\n",
"format(4)\n",
"disp(ap,'Actual pitch of winding(in slots) = 5/6 * n =')\n",
"ws=12-10\n",
"disp(ws,'so winding shorted by(in slots) =')\n",
"disp('Therefore,  alpha = short pitch angle = 2 slot angle = 2*beta')\n",
"beta=180/12\n",
"disp(beta,'beta(in degree) =')\n",
"alp=2*15\n",
"disp(alp,'Therefore,  alpha(in degree) = 2*beta =')\n",
"kc=cosd(15)\n",
"format(7)\n",
"disp(kc,'Therefore,  K_c = cos(alpha/2) =')\n",
"m=12/3\n",
"disp(m,'m(in slots/pole/phase) = n/3 =')\n",
"kd=sind(30)/(4*sind(7.5))\n",
"format(8)\n",
"disp(kd,'Therefore,  K_d = sin(m*beta/2) / m*sin(beta/2) =')\n",
"ts=12*6\n",
"disp(ts,'Total slots = n*P =')\n",
"z=72*4\n",
"disp(z,'Therefore,  Z = total conductors =')\n",
"zph=288/3\n",
"disp(zph,'Therefore,  Z_ph = Z/3 =')\n",
"tph=96/2\n",
"disp(tph,'T_ph = Z_ph/2 =')\n",
"disp('Therefore,  E_ph = 4.44*K_c*K_d*phi*f*T_ph')\n",
"eph=(4.44*0.9659*0.95766*1.5*50*48)*10^-3\n",
"format(8)\n",
"disp(eph,'Therefore,  E_ph(in kV) =')\n",
"el=sqrt(3)*14.7852\n",
"disp(el,'Therefore,  E_line(in kV) = sqrt(3)*E_ph =')"
   ]
   }
,
{
		   "cell_type": "markdown",
		   "metadata": {},
		   "source": [
			"## Example 4.13: find_chording_factor.sce"
		   ]
		  },
  {
"cell_type": "code",
	   "execution_count": null,
	   "metadata": {
	    "collapsed": true
	   },
	   "outputs": [],
"source": [
"//Example 4.13\n",
"clc\n",
"disp('The coil span of 120 degree is shown in the fig.4.44')\n",
"disp('The angle of shorts pitch is,')\n",
"alp=180-120\n",
"format(3)\n",
"disp(alp,'alpha(in degree) = 180 - coil span =')\n",
"kc=cosd(30)\n",
"format(6)\n",
"disp('The chording factor is,')\n",
"disp(kc,'K_c = cos(alpha/2) =')"
   ]
   }
,
{
		   "cell_type": "markdown",
		   "metadata": {},
		   "source": [
			"## Example 4.14: find_emf.sce"
		   ]
		  },
  {
"cell_type": "code",
	   "execution_count": null,
	   "metadata": {
	    "collapsed": true
	   },
	   "outputs": [],
"source": [
"//Example 4.14\n",
"clc\n",
"disp('V_ph = 200 V, 60 kVA,  R_a = 0.016 ohm,  X_s = 0.07 ohm')\n",
"disp('VA = V_ph*I_ph    i.e. 60*10^3 = 200*I_ph        ...Single phase')\n",
"disp('Therefore,  I_ph = 300 A = I_a              ...Full load current')\n",
"disp('(a) cos(phi) = 1,  sin(phi) = 0')\n",
"eph=sqrt((((200+((300*0.016)))^2)+((300*0.07)^2)))\n",
"disp('Therefore,  E_ph^2 = (V_ph*cos(phi)+I_a*R_a)^2 + (I_a*X_a)^2')\n",
"format(9)\n",
"disp(eph,'E_ph(in V) =')\n",
"disp('(b) cos(phi) = 0.7 lagging,  sin(phi) = 0.714')\n",
"ephi=sqrt(((((200*0.7)+(300*0.016))^2)+(((200*0.7141)+(300*0.07))^2)))\n",
"disp('Therefore,  E_ph^2 = (V_ph*cos(phi)+I_a*R_a)^2 + (V_ph*sin(phi)+I_a*R_a)^2')\n",
"format(9)\n",
"disp(ephi,'E_ph(in V) =')"
   ]
   }
,
{
		   "cell_type": "markdown",
		   "metadata": {},
		   "source": [
			"## Example 4.15: find_reactance.sce"
		   ]
		  },
  {
"cell_type": "code",
	   "execution_count": null,
	   "metadata": {
	    "collapsed": true
	   },
	   "outputs": [],
"source": [
"//Example 4.15\n",
"clc\n",
"disp('V_ph = 550 V, 55 kVA,  R_a = 0.2 ohm')\n",
"disp('I_f = 10 A,  I_ssc = 200 A,  V_oc = 450 V')\n",
"za=450/200\n",
"format(5)\n",
"disp(za,'Therefore,  Z_s(in ohm) = V_oc / I_ssc |same I_f =')\n",
"xs=sqrt((2.25^2)-(0.2^2))\n",
"format(7)\n",
"disp(xs,'(a)  X_s(in ohm) = sqrt(Z_a^2 - R_a^2) =')\n",
"iph=(55*10^3)/550\n",
"disp('VA = V_ph*I_ph           ...As single phase')\n",
"disp(iph,'Therefore,  I_ph(in A) = I_a =        ...Full load armature current')\n",
"disp('(b) cos(phi) = 0.8 lagging,  sin(phi) = 0.6')\n",
"ephi=sqrt(((((550*0.8)+(100*0.2))^2)+(((550*0.6)+(100*2.2411))^2)))\n",
"disp('Therefore,  E_ph^2 = (V_ph*cos(phi)+I_a*R_a)^2 + (V_ph*sin(phi)+I_a*R_a)^2')\n",
"format(9)\n",
"disp(ephi,'E_ph(in V) =')\n",
"r=((720.1652-550)/550)*100\n",
"format(6)\n",
"disp(r,'Therefore,  %R = (E_ph-V_ph / V_ph)*100 = ')"
   ]
   }
,
{
		   "cell_type": "markdown",
		   "metadata": {},
		   "source": [
			"## Example 4.16: find_impedence.sce"
		   ]
		  },
  {
"cell_type": "code",
	   "execution_count": null,
	   "metadata": {
	    "collapsed": true
	   },
	   "outputs": [],
"source": [
"//Example 4.16\n",
"clc\n",
"disp('V_ph = 2200 V,  f = 50 Hz, 440 kVA,  R_a = 0.5 ohm')\n",
"disp('I_aph = 200 A = I_ac,  V_oc = 1160 V,  I_f = 40 A')\n",
"za=1160/200\n",
"format(4)\n",
"disp(za,'(a)  Z_s(in ohm) = V_oc/I_ssc |same I_f =')\n",
"xs=sqrt((5.8^2)-(0.5^2))\n",
"format(7)\n",
"disp(xs,'(b)  X_s(in ohm) = sqrt(Z_a^2 - R_a^2) =')\n",
"disp('(c)  cos(phi) = 0.707 leading,  sin(phi) = 0.707')\n",
"ephi=sqrt(((((2200*0.707)+(200*0.5))^2)+(((2200*0.707)-(200*5.7784))^2)))\n",
"disp('Therefore,  E_ph^2 = (V_ph*cos(phi)+I_a*R_a)^2 + (V_ph*sin(phi)-I_a*R_a)^2')\n",
"format(10)\n",
"disp(ephi,'E_ph(in V) =')\n",
"r=((1702.9754-2200)/2200)*100\n",
"format(7)\n",
"disp(r,'Therefore,  %R(in percentage) = (E_ph-V_ph / V_ph)*100 = ')"
   ]
   }
,
{
		   "cell_type": "markdown",
		   "metadata": {},
		   "source": [
			"## Example 4.17: find_voltage_regulation.sce"
		   ]
		  },
  {
"cell_type": "code",
	   "execution_count": null,
	   "metadata": {
	    "collapsed": true
	   },
	   "outputs": [],
"source": [
"//Example 4.17\n",
"clc\n",
"disp('Assume star connected alternator')\n",
"disp('R_a+R_a = V_dc/I_dc')\n",
"disp('2R_a = 6/10')\n",
"ra=0.6/2\n",
"format(4)\n",
"disp(ra,'Therefore,  R_a(in ohm/ph) =')\n",
"disp('V_oc(line) = 420,  V_L = 1100 V, 100 kVA')\n",
"disp('Therefore,  VA = sqrt(3)*V_L*I_L')\n",
"il=(100*10^3)/(sqrt(3)*1100)\n",
"format(8)\n",
"disp(il,'Therefore,  I_L(in A) = I_aph =')\n",
"disp('Therefore,  Rated armature current = 52.4864 A = I_ssc')\n",
"zs=(420/sqrt(3))/52.4864\n",
"format(5)\n",
"disp(zs,'Therefore,  Z_s(in ohm/ph) = V_oc(ph) / I_ssc(ph) =')\n",
"xs=sqrt((4.62^2)-(0.3^2))\n",
"format(7)\n",
"disp(xs,'Therefore,  X_s(in ohm/ph) = sqrt(Z_a^2 - R_a^2) =')\n",
"disp('For cos(phi) = 0.8 lagging,  sin(phi) = 0.6')\n",
"disp('E_ph^2 = (V_ph*cos(phi)+I_a*R_a)^2 + (V_ph*sin(phi)+I_a*R_a)^2')\n",
"vph=1100/sqrt(3)\n",
"format(8)\n",
"disp(vph,'V_ph(in V) = V_L/sqrt(3) =')\n",
"ephi=sqrt(((((635.085*0.8)+(52.4864*0.3))^2)+(((635.085*0.6)+(52.4864*4.6102))^2)))\n",
"format(9)\n",
"disp(ephi,'Therefore,  E_ph(in V) =')\n",
"r=((813.9654-635.085)/635.085)*100\n",
"format(8)\n",
"disp(r,'Therefore,  %R(in percentage) = (E_ph-V_ph / V_ph)*100 = ')"
   ]
   }
,
{
		   "cell_type": "markdown",
		   "metadata": {},
		   "source": [
			"## Example 4.18: find_regulation.sce"
		   ]
		  },
  {
"cell_type": "code",
	   "execution_count": null,
	   "metadata": {
	    "collapsed": true
	   },
	   "outputs": [],
"source": [
"//Example 4.18\n",
"clc\n",
"disp('2R_a = 2  i.e.  R_a = 1 ohm/ph')\n",
"disp('V_L = 3.6 kVA,  MVA = 1')\n",
"disp('Therefore,  VA = sqrt(3)*V_L*I_L')\n",
"il=(1*10^6)/(sqrt(3)*3.6*10^3)\n",
"format(8)\n",
"disp(il,'Therefore,  I_L(in A) = I_aph =         ...Star')\n",
"disp('From the test results, obtain the open circuit and short circuit characteristics and obtain V_oc for full load I_sc of 160.373 A')\n",
"disp('From the graph, for full load short circuit current of 160.37 A, I_f = 53 A and corresponding V_oc(line) = 2250 V')\n",
"zs=(2250/sqrt(3))/160.37\n",
"format(4)\n",
"disp(zs,'Therefore,  Z_s(in ohm/ph) = V_ocph/I_scph |same I_f =')\n",
"xs=sqrt((8.1^2)-(1^2))\n",
"format(6)\n",
"disp(xs,'Therefore,  X_s(in ohm/ph) = sqrt(Z_a^2 - R_a^2) =')\n",
"vph=(3.6*10^3)/sqrt(3)\n",
"format(8)\n",
"disp(vph,'V_ph(in V) = V_L/sqrt(3) =')\n",
"disp('I_aph = 160.37 A')\n",
"disp('(i)  cos(phi) = 0.707 lagging,  sin(phi) = 0.707')\n",
"disp('Therefore,  E_ph^2 = (V_ph*cos(phi)+I_a*R_a)^2 + (V_ph*sin(phi)+I_a*R_a)^2')\n",
"ephi=sqrt(((((2078.46*0.707)+(160.37*1))^2)+(((2078.46*0.707)+(160.37*8.038))^2)))\n",
"format(10)\n",
"disp(ephi,'Therefore,  E_ph(in V) =')\n",
"r=((3204.0356-2078.46)/2078.46)*100\n",
"format(6)\n",
"disp(r,'Therefore,  %R(in percentage) = (E_ph-V_ph / V_ph)*100 = ')\n",
"disp('(ii)  cos(phi) = 0.8 leading,  sin(phi) = 0.6')\n",
"disp('Therefore,  E_ph^2 = (V_ph*cos(phi)+I_a*R_a)^2 + (V_ph*sin(phi)-I_a*R_a)^2')\n",
"ephi=sqrt(((((2078.46*0.8)+(160.37*1))^2)+(((2078.46*0.6)-(160.37*8.038))^2)))\n",
"format(10)\n",
"disp(ephi,'Substituting the values,  E_ph(in V) =')\n",
"r=((1823.6271-2078.46)/2078.46)*100\n",
"format(6)\n",
"disp(r,'Therefore,  %R(in percentage) = (E_ph-V_ph / V_ph)*100 = ')"
   ]
   }
,
{
		   "cell_type": "markdown",
		   "metadata": {},
		   "source": [
			"## Example 4.19: find_regulation.sce"
		   ]
		  },
  {
"cell_type": "code",
	   "execution_count": null,
	   "metadata": {
	    "collapsed": true
	   },
	   "outputs": [],
"source": [
"//Example 4.19\n",
"clc\n",
"disp('1 MVA,  V_L = 11 kV,  R_a = 0.6 ohm')\n",
"disp('VA = sqrt(3)*V_L*I_L')\n",
"il=(10^6)/(sqrt(3)*11*10^3)\n",
"format(7)\n",
"disp(il,'Therefore,  I_L(in A) = I_aph(full load) =')\n",
"disp('Now I_f = 40 A for I_ssc = 52.486 A. To find Z_s, plot the O.C.C and obtain V_oc for I_f = 40 A')\n",
"disp('From the graph, V_oc(line) = 6600 V for I_f = 40 A')\n",
"zs=(6000/sqrt(3))/52.486\n",
"format(3)\n",
"disp(zs,'Therefore,  Z_s(in ohm) = V_ocph/I_ascph |same I_f =')\n",
"xs=sqrt((66^2)-(0.6^2))\n",
"format(7)\n",
"disp(xs,'Therefore,  X_s(in ohm) = sqrt(Z_s^2 - R_a^2) =')\n",
"disp('(a) cos(phi) = 0.8 lagging,  sin(phi) = 0.6, half load')\n",
"ip=0.5*52.486\n",
"format(7)\n",
"disp(ip,'At half load,  I_aph(in A) = 1/2 * I_aph(FL) =')\n",
"vp=(11*10^3)/sqrt(3)\n",
"format(9)\n",
"disp(vp,'V_ph(in V) = V_L/sqrt(3) =')\n",
"disp('E_ph^2 = (V_ph*cos(phi)+I_a*R_a)^2 + (V_ph*sin(phi)+I_a*R_a)^2')\n",
"ephi=sqrt(((((6350.853*0.8)+(26.243*0.6))^2)+(((6350.853*0.6)+(26.243*65.99))^2)))\n",
"format(10)\n",
"disp(ephi,'Therefore,  E_ph(in V) =')\n",
"r=((7529.3113-6350.853)/6350.853)*100\n",
"format(6)\n",
"disp(r,'Therefore,  %R(in percentage) = (E_ph-V_ph / V_ph)*100 = ')\n",
"disp('(b) cos(phi) = 0.9 leading,  sin(phi) = 0.4358, full load so I_aph = 52.486 A')\n",
"disp('E_ph^2 = (V_ph*cos(phi)+I_a*R_a)^2 + (V_ph*sin(phi)-I_a*R_a)^2')\n",
"ephi=sqrt(((((6350.853*0.9)+(52.486*0.6))^2)+(((6350.853*0.4358)-(52.486*65.99))^2)))\n",
"format(9)\n",
"disp(ephi,'Therefore,  E_ph(in V) =')\n",
"r=((5789.231-6350.853)/6350.853)*100\n",
"format(6)\n",
"disp(r,'Therefore,  %R(in percentage) = (E_ph-V_ph / V_ph)*100 = ')"
   ]
   }
,
{
		   "cell_type": "markdown",
		   "metadata": {},
		   "source": [
			"## Example 4.1: calculate_distribution_factor.sce"
		   ]
		  },
  {
"cell_type": "code",
	   "execution_count": null,
	   "metadata": {
	    "collapsed": true
	   },
	   "outputs": [],
"source": [
"//Example 4.1\n",
"clc\n",
"n=120/8\n",
"format(3)\n",
"disp(n,'n = slots/pole =')\n",
"m=15/3\n",
"disp(m,'m = slots/pole/phase = n/3 =')\n",
"beta=180/15\n",
"disp(beta,'beta(in degree) = 180/n =')\n",
"kd=(sind(30)/(5*sind(6)))\n",
"format(6)\n",
"disp(kd,'Therefore,  K_d = sin(m*beta/2) / m*sin(beta/2) =')"
   ]
   }
,
{
		   "cell_type": "markdown",
		   "metadata": {},
		   "source": [
			"## Example 4.20: find_voltage.sce"
		   ]
		  },
  {
"cell_type": "code",
	   "execution_count": null,
	   "metadata": {
	    "collapsed": true
	   },
	   "outputs": [],
"source": [
"//Example 4.20\n",
"clc\n",
"disp('R_s = 0.6 ohm,  X_s = 6 ohm,  I_aph = 180 A')\n",
"eph=6599/sqrt(3)\n",
"format(10)\n",
"disp(eph,'E_ph(in V) = E_line/sqrt(3) =')\n",
"disp('(a) cos(phi) = 0.9 lagging, sin(phi) = 0.4358')\n",
"disp('Therefore,  E_ph^2 = (V_ph*cos(phi)+I_a*R_a)^2 + (V_ph*sin(phi)+I_a*R_a)^2')\n",
"disp('Therefore,  (3809.9344)^2 = [V_ph*0.9 + 180*0.6]^2 + [V_ph*0.4358 + 180*6]^2')\n",
"disp('Therefore,  14.5156*10^6 = 0.81*V_ph^2 + 194.4*V_ph + 11664 + 0.1899*V_ph^2 + 941.328*V_ph + 1166400')\n",
"disp('Therefore,  V_ph^2 + 1135.728*V_ph - 13337536 = 0')\n",
"disp('Therefore,  V_ph = 3128.08, -4263.808       ...Neglect negative value')\n",
"disp('Therefore,  V_ph = 3128.08 V                  ...Terminal voltage')\n",
"r=((3809.9344-3128.08)/3128.08)*100\n",
"format(8)\n",
"disp(r,'Therefore,  %R(in percentage) = (E_ph-V_ph / V_ph)*100 = ')\n",
"disp('(b) cos(phi) = 0.8 leading, sin(phi) = 0.6')\n",
"disp('Therefore,  E_ph^2 = (V_ph*cos(phi)+I_a*R_a)^2 + (V_ph*sin(phi)+I_a*R_a)^2')\n",
"disp('Therefore,  (3809.9344)^2 = [V_ph*0.8 + 180*0.6]^2 + [V_ph*0.6 + 180*6]^2')\n",
"disp('Therefore,  14.5156*10^6 = 0.64*V_ph^2 + 172.8*V_ph + 11664 + 0.36*V_ph^2 - 1296*V_ph + 1166400')\n",
"disp('Therefore,  V_ph^2 - 1123.2*V_ph - 13337536 = 0')\n",
"disp('Therefore,  V_ph = 4256.5872 V       ...Neglect negative value')\n",
"r=((3809.9344-4256.5872)/4256.5872)*100\n",
"format(7)\n",
"disp(r,'Therefore,  %R(in percentage) = (E_ph-V_ph / V_ph)*100 = ')"
   ]
   }
,
{
		   "cell_type": "markdown",
		   "metadata": {},
		   "source": [
			"## Example 4.21: calculate_regulatio.sce"
		   ]
		  },
  {
"cell_type": "code",
	   "execution_count": null,
	   "metadata": {
	    "collapsed": true
	   },
	   "outputs": [],
"source": [
"//Example 4.21\n",
"clc\n",
"disp('1500 kVA,  V_L = 12 kV,  R_a = 2 ohm,  X_s = 10 ohm')\n",
"vp=(12*10^3)/sqrt(3)\n",
"format(10)\n",
"disp(vp,'  V_ph(in V) =         ...Star')\n",
"disp('P_L = sqrt(3)*V_L*I_L*cos(phi)')\n",
"disp('(a) cos(phi) = 0.8 lagging,  sin(phi) = 0.6')\n",
"il=(1200*10^3)/(sqrt(3)*0.8*12*10^3)\n",
"format(7)\n",
"disp(il,'Therefore,  I_L(in A) = I_aph =         ...Star')\n",
"disp('  E_ph^2 = (V_ph*cos(phi)+I_a*R_a)^2 + (V_ph*sin(phi)+I_a*R_a)^2')\n",
"ephi=sqrt(((((6928.2032*0.8)+(72.168*2))^2)+(((6928.2032*0.6)+(72.168*10))^2)))\n",
"format(9)\n",
"disp(ephi,'Therefore,  E_ph(in V) =')\n",
"r=((7492.768-6928.2032)/6928.2032)*100\n",
"format(6)\n",
"disp(r,'Therefore,  %R(in percentage) = (E_ph-V_ph / V_ph)*100 = ')\n",
"disp('(b) cos(phi) = 0.707 leading,  sin(phi) = 0.707')\n",
"il=(1200*10^3)/(sqrt(3)*0.707*12*10^3)\n",
"format(6)\n",
"disp(il,'Therefore,  I_L(in A) = I_a =         ...Star')\n",
"disp('  E_ph^2 = (V_ph*cos(phi)+I_a*R_a)^2 + (V_ph*sin(phi)+I_a*R_a)^2')\n",
"ephi=sqrt(((((6928.2032*0.707)+(81.66*2))^2)+(((6928.2032*0.707)-(81.66*10))^2)))\n",
"format(10)\n",
"disp(ephi,'Therefore,  E_ph(in V) =')\n",
"r=((6502.2433-6928.2032)/6928.2032)*100\n",
"format(6)\n",
"disp(r,'Therefore,  %R(in percentage) = (E_ph-V_ph / V_ph)*100 = ')"
   ]
   }
,
{
		   "cell_type": "markdown",
		   "metadata": {},
		   "source": [
			"## Example 4.2: calculate_coil_factor.sce"
		   ]
		  },
  {
"cell_type": "code",
	   "execution_count": null,
	   "metadata": {
	    "collapsed": true
	   },
	   "outputs": [],
"source": [
"//Example 4.2\n",
"clc\n",
"n=36/4\n",
"format(3)\n",
"disp(n,'n = slots/pole =')\n",
"beta=180/9\n",
"disp(beta,'beta(in degree) = 180/n =')\n",
"disp('Now coil is shorted by 1 slot i.e. by 20 to full pitch distance.')\n",
"disp('Therefore,  alpha = Angle of short pitch = 20')\n",
"kc=cosd(10)\n",
"format(7)\n",
"disp(kc,'Therefore,  K_c = cos(alpha/2) =')"
   ]
   }
,
{
		   "cell_type": "markdown",
		   "metadata": {},
		   "source": [
			"## Example 4.3: find_induced_emf.sce"
		   ]
		  },
  {
"cell_type": "code",
	   "execution_count": null,
	   "metadata": {
	    "collapsed": true
	   },
	   "outputs": [],
"source": [
"//Example 4.3\n",
"clc\n",
"disp('Ns = 250 r.p.m,  f = 50 Hz')\n",
"disp('Ns = 120f / P')\n",
"p=(120*50)/250\n",
"disp(p,'Therefore,  P = ')\n",
"n=216/24\n",
"format(3)\n",
"disp(n,'n = slots/pole =')\n",
"m=9/3\n",
"disp(m,'m = n/3 =')\n",
"beta=180/9\n",
"disp(beta,'beta(in degree) = 180/n =')\n",
"kd=(sind(30)/(3*sind(10)))\n",
"format(6)\n",
"disp(kd,'Therefore,  K_d = sin(m*beta/2) / m*sin(beta/2) =')\n",
"disp('K_c = 1 as full pitch coils.')\n",
"z=216*5\n",
"format(8)\n",
"disp(z,'Total number of conductors Z = ')\n",
"zph=1080/3\n",
"disp(zph,'Therefore,  Z_ph = Z/3 =')\n",
"tph=360/2\n",
"disp(tph,'Therefore,  T_ph = Z_ph/2 =            ... 2 conductors constitute 1 turn')\n",
"eph=4.44*0.9597*30*50*180*10^-3\n",
"format(8)\n",
"disp(eph,'E_ph(in V) = 4.44*Kc*Kd*f*phi*T_ph =')\n",
"el=sqrt(3)*1150.48\n",
"disp(el,'E_line(in V) = sqrt(3)*E_ph =           ...star connection')"
   ]
   }
,
{
		   "cell_type": "markdown",
		   "metadata": {},
		   "source": [
			"## Example 4.4: find_poles_and_flux.sce"
		   ]
		  },
  {
"cell_type": "code",
	   "execution_count": null,
	   "metadata": {
	    "collapsed": true
	   },
	   "outputs": [],
"source": [
"//Example 4.4\n",
"clc\n",
"disp('E_line = 4000 V,  f = 50 Hz,  N_s = 750 r.p.m,  m = 3,  K_c = 1')\n",
"eph=4000/sqrt(3)\n",
"format(9)\n",
"disp(eph,'E_ph(in V) = E_line/sqrt(3) =')\n",
"p=(120*50)/750\n",
"disp('(i) N_s = 120f / P')\n",
"disp(p,'Therefore,  P =')\n",
"disp('(ii) n = slots/pole = m*3 = 9')\n",
"b=180/9\n",
"disp(b,'beta = 180/n =')\n",
"kd=sind(30)/(3*sind(10))\n",
"format(7)\n",
"disp(kd,'Therefore,  K_d = sin(m*beta/2) / m*sin(beta/2) =')\n",
"ns=9*8\n",
"disp(ns,'Number of slots = n * P =')\n",
"z=72*12\n",
"disp(z,'Z = Slots * counductors/slots =')\n",
"zp=864/3\n",
"disp(zp,'Therefore,  Z_ph = Z/3 =')\n",
"tp=288/2\n",
"disp(tp,'Therefore,  T_ph = Z_ph/2 =')\n",
"phi=2309.401/(4.44*0.9598*50*144)\n",
"format(8)\n",
"disp('Therefore,  E_ph = 4.44*K_c*K_d*phi*f*T_ph')\n",
"disp(phi,'Therefore,  phi(in Wb) =                  ... flux per pole')"
   ]
   }
,
{
		   "cell_type": "markdown",
		   "metadata": {},
		   "source": [
			"## Example 4.5: calculate_emf.sce"
		   ]
		  },
  {
"cell_type": "code",
	   "execution_count": null,
	   "metadata": {
	    "collapsed": true
	   },
	   "outputs": [],
"source": [
"//Example 4.5\n",
"clc\n",
"disp('P = 100 kW,  cos(phi) = 0.8 lagging')\n",
"disp('V_L = 11 kV,  R_a = 0.4 ohm,  X_s = 3 ohm')\n",
"disp('For three phase load,  P = sqrt(3)*V_L*I_L*cos(phi)')\n",
"il=(1000*10^3)/(sqrt(3)*11*0.8*10^3)\n",
"format(5)\n",
"disp(il,'Therefore,  I_L(in A) =')\n",
"disp('Now  I_L = I_a as for star connected alternator I_L = I_ph')\n",
"disp('Therefore,  I_aph = 65.6 A         ... full load per phase armature current')\n",
"disp('For lagging p.f. loads,')\n",
"disp('(E_ph)^2 = (V_ph*cos(phi)+I_a*R_a)^2 + (V_ph*sin(phi)+I_a*X_s)^2')\n",
"vp=(11*10^3)/sqrt(3)\n",
"format(9)\n",
"disp(vp,'Now  V_ph = V_L / sqrt(3) =                 ... as star connected')\n",
"eph=(((6350.853*0.8)+(65.6*0.4))^2)+(((6350.853*0.6)+(65.6*3))^2)\n",
"p=sqrt(eph)\n",
"format(8)\n",
"disp(p,'Therefore,  E_ph(in V) = ')\n",
"el=(sqrt(3)*6491.47)*10^-3\n",
"format(6)\n",
"disp(el,'Therefore,  E_line(in kV) =')\n",
"regu=((6491.47-6350.853)/6350.853)*100\n",
"disp(regu,'and  %Regulation(in percentage) = (E_ph-V_ph / V_ph)*100 =')\n",
"disp('For lagging p.f. loads, regulation is always positive.')"
   ]
   }
,
{
		   "cell_type": "markdown",
		   "metadata": {},
		   "source": [
			"## Example 4.6: calculate_lagging.sce"
		   ]
		  },
  {
"cell_type": "code",
	   "execution_count": null,
	   "metadata": {
	    "collapsed": true
	   },
	   "outputs": [],
"source": [
"//Example 4.6\n",
"clc\n",
"disp('kVA = 1200,  V_L = 6600 V,  R_a = 0.25 ohm,  X_s = 5 ohm')\n",
"disp('Now  kVA = sqrt(3)*V_L*I_L*10^-3')\n",
"il=1200/(sqrt(3)*6600*10^-3)\n",
"format(7)\n",
"disp(il,'Therefore,  I_L(in A) =')\n",
"disp('Therefore,  I_aph = 104.97 A            ... as star connected.')\n",
"disp('This is its full load current')\n",
"vph=6600/sqrt(3)\n",
"format(9)\n",
"disp(vph,'  V_ph(in V) = V_L/3 =')\n",
"disp('(i) For 0.8 lagging p.f. load')\n",
"disp('(E_ph)^2 = (V_ph*cos(phi)+I_a*R_a)^2 + (V_ph*sin(phi)+I_a*X_s)^2')\n",
"eph=(((3810.512*0.8)+(104.97*0.25))^2)+(((3810.512*0.6)+(104.97*5))^2)\n",
"p=sqrt(eph)\n",
"format(8)\n",
"disp(p,'Therefore,  E_ph(in V) = ')\n",
"regu=((4166.06-3810.512)/3810.512)*100\n",
"format(5)\n",
"disp(regu,'Therefore, %Regulation(in percentage) = (E_ph-V_ph / V_ph)*100 =')\n",
"disp('(ii) For 0.8 leading p.f. load')\n",
"disp('(E_ph)^2 = (V_ph*cos(phi)+I_a*R_a)^2 + (V_ph*sin(phi)+I_a*X_s)^2')\n",
"eph=(((3810.512*0.8)+(104.97*0.25))^2)+(((3810.512*0.6)-(104.97*5))^2)\n",
"p=sqrt(eph)\n",
"format(8)\n",
"disp(p,'Therefore,  E_ph(in V) = ')\n",
"regu=((3543.47-3810.512)/3810.512)*100\n",
"format(5)\n",
"disp(regu,'Therefore, %Regulation(in percentage) = (E_ph-V_ph / V_ph)*100 =')\n",
"disp('The regulation is negative for leading p.f. loads')"
   ]
   }
,
{
		   "cell_type": "markdown",
		   "metadata": {},
		   "source": [
			"## Example 4.7: calculate_full_load.sce"
		   ]
		  },
  {
"cell_type": "code",
	   "execution_count": null,
	   "metadata": {
	    "collapsed": true
	   },
	   "outputs": [],
"source": [
"//Example 4.7\n",
"clc\n",
"disp('V_L = 866 V,  kVA = 100')\n",
"disp('Therefore,  kVA = sqrt(3)*V_L*I_L*10^-3')\n",
"il=100/(sqrt(3)*866*10^-3)\n",
"format(6)\n",
"disp(il,'Therefore,  I_L(in A) =')\n",
"disp('Therefore,  I_aph F.L. = I_L = 66.67 A              ... as star connected alternator')\n",
"disp('V_ph = Rated terminal voltage per phase = V_L/3')\n",
"vp=866/sqrt(3)\n",
"disp(vp,'Therefore,  V_ph(in V) =')\n",
"disp('For calculation of Z_s on full load, it is necessary to plot O.C.C. and S.C.C. to the scale')\n",
"disp('Note :  If for same value of I_f, both I_ssc and V_oc can be obtained from the table itself, graph need not be plotted. In some problems, the values of V_oc and I_ssc for same I_f are directly given, in that case too, the graph need not be plotted.')\n",
"disp('In this problem, I_ssc = 25 A for I_f = 1 A')\n",
"disp('But we want to calculate Z_s for I_ssc = its full load value which is 66.67 A. So graph is required to be plotted.')\n",
"disp('For plotting O.C.C. the lines values of open circuit voltage are converted to phase by dividing each value by sqrt(3)')\n",
"disp('From S.C.C.')\n",
"disp('For    I_scc = 66.67 A,  I_f = 2.4 A')\n",
"disp('From O.C.C.')\n",
"disp('For    I_f = 2.4 A,  (V_oc)_ph = 240 V')\n",
"disp('From the graph, Z_s for full load is,')\n",
"disp('Z_s = (V_oc)_ph / (I_scc)_ph |for same excitation')\n",
"zs=240/66.67\n",
"format(4)\n",
"disp(zs,'Therefore,  Z_s(in ohm/phase) =')\n",
"disp('R_a = 0.15 ohm/phase')\n",
"xs=sqrt((3.6^2)-(0.15^2))\n",
"format(6)\n",
"disp(xs,'Therefore,  X_s(in ohm/phase) = sqrt(Z_s^2 - R_a^2) =')\n",
"disp('V_ph F.L = 500 V')\n",
"disp('cos(phi) = 0.8')\n",
"disp('Therefore,  sin(phi) = 0.6 lagging p.f.')\n",
"disp('So E_ph for full load, 0.8 lagging p.f. condition can be calculated as,')\n",
"disp('(E_ph)^2 = (V_ph*cos(phi)+I_a*R_a)^2 + (V_ph*sin(phi)+I_a*X_s)^2')\n",
"eph=(((500*0.8)+(66.67*0.15))^2)+(((500*0.6)+(66.67*3.597))^2)\n",
"p=sqrt(eph)\n",
"format(7)\n",
"disp(p,'Therefore,  E_ph(in V) = ')\n",
"regu=((677.86-500)/500)*100\n",
"format(6)\n",
"disp(regu,'Therefore, %Regulation(in percentage) = (E_ph-V_ph / V_ph)*100 =')"
   ]
   }
,
{
		   "cell_type": "markdown",
		   "metadata": {},
		   "source": [
			"## Example 4.8: find_current.sce"
		   ]
		  },
  {
"cell_type": "code",
	   "execution_count": null,
	   "metadata": {
	    "collapsed": true
	   },
	   "outputs": [],
"source": [
"//Example 4.8\n",
"clc\n",
"disp('V_L = 230 V,  R_a between lines = 1.8 ohm')\n",
"disp('(V_oc)_line = 230 V,  I_scc = 12.5 A for same I_f = 0.38 A')\n",
"disp('The value of open circuit e.m.f is always line value unless and until specifically mentioned to be a phase value')\n",
"disp('Therefore,  Z_s = (V_oc)_ph / (I_scc)_ph |for same I_f')\n",
"voc=230/sqrt(3)\n",
"format(7)\n",
"disp(voc,'  (V_oc)_ph(in V) =')\n",
"zs=132.79/12.5\n",
"disp(zs,'Therefore,  Z_s(in ohm/phase) =')\n",
"disp('R_a between lines = 1.8 ohm')\n",
"disp('For star connection, R_a between the terminals is 2 R_a per ph')\n",
"disp('Therefore,  2R_a per ph = 1.8')\n",
"disp('Therefore,  R_a per ph = 0.9 ohm')\n",
"xs=sqrt((10.623^2)-(0.9^2))\n",
"format(7)\n",
"disp(xs,'Therefore,  X_s(in ohm/phase) = sqrt(Z_s^2 - R_a^2) =')\n",
"disp('Now regulated is asked for I_a = 10 A')\n",
"disp('Now :  The value of Z_s is calculated for I_s = 12.5 A and not at I_s = 10 A. It will be different for I_s = 10 A. But in this problem the test results are not given hence it is not possible to sketch the graphs to detemine Z_s at I_a = 10 A. So value of Z_s calculated is assumed to be same as I_a = 10 A')\n",
"disp('(i) For 0.8 lagging p.f.')\n",
"vph=230/sqrt(3)\n",
"format(7)\n",
"disp(vph,'V_ph(in V) = V_L/sqrt(3) =')\n",
"disp('I_a = 10 A')\n",
"disp('cos(phi) = 0.8    so sin(phi) = 0.6')\n",
"disp('(E_ph)^2 = (V_ph*cos(phi)+I_a*R_a)^2 + (V_ph*sin(phi)+I_a*X_s)^2')\n",
"eph=(((132.79*0.8)+(10*0.9))^2)+(((132.79*0.6)+(10*10.585))^2)\n",
"p=sqrt(eph)\n",
"format(8)\n",
"disp(p,'Therefore,  E_ph(in V) = ')\n",
"regu=((218.39-132.79)/132.79)*100\n",
"format(6)\n",
"disp(regu,'Therefore, %Regulation(in percentage) = (E_ph-V_ph / V_ph)*100 =')\n",
"disp('(ii) For 0.8 leading p.f.')\n",
"disp('(E_ph)^2 = (V_ph*cos(phi)+I_a*R_a)^2 + (V_ph*sin(phi)+I_a*X_s)^2')\n",
"eph=(((132.79*0.8)+(10*0.9))^2)+(((132.79*0.6)-(10*10.585))^2)\n",
"p=sqrt(eph)\n",
"format(8)\n",
"disp(p,'Therefore,  E_ph(in V) = ')\n",
"regu=((118.168-132.79)/132.79)*100\n",
"format(6)\n",
"disp(regu,'Therefore, %Regulation(in percentage) = (E_ph-V_ph / V_ph)*100 =')"
   ]
   }
,
{
		   "cell_type": "markdown",
		   "metadata": {},
		   "source": [
			"## Example 4.9: find_armature_conductors.sce"
		   ]
		  },
  {
"cell_type": "code",
	   "execution_count": null,
	   "metadata": {
	    "collapsed": true
	   },
	   "outputs": [],
"source": [
"//Example 4.9\n",
"clc\n",
"disp('P = 10,  N_a = 600 r.p.m,  slots = 90')\n",
"disp('phi = 16 mWb,  E_line = 11 kW')\n",
"f=6000/120\n",
"format(3)\n",
"disp('N_s = 120f / P')\n",
"disp(f,'Therefore,  f(in Hz) =')\n",
"eph=(11*10^3)/sqrt(3)\n",
"format(9)\n",
"disp(eph,'For star connection, E_ph(in V) = E_line/sqrt(3) =')\n",
"disp('Now  E_ph = 4.44*K_c*K_d*phi*f*T_ph')\n",
"disp('K_c = 1 as no information about short pitching is given')\n",
"n=90/10\n",
"disp(n,'n = slots/pole =')\n",
"m=9/3\n",
"disp(m,'m = slots/pole/phase = n/3 =')\n",
"beta=180/9\n",
"disp(beta,'beta = slot angle = 180/n =')\n",
"kd=sind(30)/(3*sind(10))\n",
"format(7)\n",
"disp(kd,'Therefore,  K_d = sin(m*beta/2) / m*sin(beta/2) =')\n",
"disp('Therefore,  6350.853 = 4.44*1*0.9598*16*10^-3*50*T_ph')\n",
"tph=6350.853/(4.44*1*0.9598*16*50*10^-3)\n",
"format(5)\n",
"disp(tph,'Therefore,  T_ph =')\n",
"zph=2*1862\n",
"disp(zph,'Therefore,  Z_ph = 2*T_ph =')\n",
"disp('These are armature conductors per phase required to be connected in series.')"
   ]
   }
],
"metadata": {
		  "kernelspec": {
		   "display_name": "Scilab",
		   "language": "scilab",
		   "name": "scilab"
		  },
		  "language_info": {
		   "file_extension": ".sce",
		   "help_links": [
			{
			 "text": "MetaKernel Magics",
			 "url": "https://github.com/calysto/metakernel/blob/master/metakernel/magics/README.md"
			}
		   ],
		   "mimetype": "text/x-octave",
		   "name": "scilab",
		   "version": "0.7.1"
		  }
		 },
		 "nbformat": 4,
		 "nbformat_minor": 0
}
