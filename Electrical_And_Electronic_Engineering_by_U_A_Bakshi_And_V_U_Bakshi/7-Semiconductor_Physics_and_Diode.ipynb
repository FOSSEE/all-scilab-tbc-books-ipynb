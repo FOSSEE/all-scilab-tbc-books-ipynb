{
"cells": [
 {
		   "cell_type": "markdown",
	   "metadata": {},
	   "source": [
       "# Chapter 7: Semiconductor Physics and Diode"
	   ]
	},
{
		   "cell_type": "markdown",
		   "metadata": {},
		   "source": [
			"## Example 7.10: forward_bias_current.sce"
		   ]
		  },
  {
"cell_type": "code",
	   "execution_count": null,
	   "metadata": {
	    "collapsed": true
	   },
	   "outputs": [],
"source": [
"//Example 7.10\n",
"clc\n",
"disp('the given values are I_0 = 3 uA, T = 27 C = 27+273 = 300 K, eta =1')\n",
"disp('Now  I_rated = 1 A for diode')\n",
"disp('and  I = 1% of I_rated at 27 C')\n",
"disp('Therefore,  I = 0.01 A')\n",
"vt=300*8.62*10^-5\n",
"format(6)\n",
"disp(vt,'V_T(in V) = k*T =')\n",
"disp('According to diode equation,  I = I_0 * (e^(V/eta*VT) - 1)')\n",
"v=8.112*0.026\n",
"format(7)\n",
"disp(v,'Therefore,  V(in V) =')"
   ]
   }
,
{
		   "cell_type": "markdown",
		   "metadata": {},
		   "source": [
			"## Example 7.11: reverse_saturation_current_and_eta_for_diode.sce"
		   ]
		  },
  {
"cell_type": "code",
	   "execution_count": null,
	   "metadata": {
	    "collapsed": true
	   },
	   "outputs": [],
"source": [
"//Example 7.11\n",
"clc\n",
"disp('At V1 = 0.4 V, I1 = 10 mA and at V2 = 0.42 V, I2 = 2*I1 = 20 mA')\n",
"disp('Now  I = I_0 * (e^(V/eta*VT) - 1)')\n",
"disp('Therefore,  (10*10^-3) = I_0 * (e^(0.4/(eta*26*10^3)) - 1)          ...(1)')\n",
"disp('and  (20*10^-3) = I_0 * (e^(0.42/(eta*26*10^3)) - 1)                ...(2)')\n",
"disp('In forward bias condition 1 << e^(VT/eta*VT),  Therefore, Neglecting 1')\n",
"disp('(10*10^-3) = (I_0)*e^(15.384/eta)     ..(3)')\n",
"disp('and, (20*10^-3) = (I_0)*e^(16.153/eta)')\n",
"disp('Dividing the two equations (3) and (4),')\n",
"disp('(1/2) = (e^(15.384/eta))/(e^(16.153/eta))')\n",
"disp('Therefore, (e^(16.153/eta)) = 2*(e^(15.384/eta))')\n",
"disp('Taking natural logarithm of both sides,')\n",
"disp('Therefore, 16.153/eta = ln2 + 15.384/eta')\n",
"disp('Therefore, (1/eta)*(16.153-15.384) = 0.6931')\n",
"e=(16.153-15.384)/0.6931\n",
"disp(e,'Therefore, eta=')\n",
"disp('Hence (I_0)=9.45 nA')"
   ]
   }
,
{
		   "cell_type": "markdown",
		   "metadata": {},
		   "source": [
			"## Example 7.12: reverse_saturation_current_and_forward_current.sce"
		   ]
		  },
  {
"cell_type": "code",
	   "execution_count": null,
	   "metadata": {
	    "collapsed": true
	   },
	   "outputs": [],
"source": [
"//Example 7.12\n",
"clc\n",
"disp('I_01 = 3 nA at T1 = 27 C, T2 = 82 C')\n",
"dt=82-27\n",
"format(3)\n",
"disp(dt,'(i) deltaT(in degree C) = T2 - T1 =')\n",
"dt1=(2^(55/10))*3\n",
"format(8)\n",
"disp(dt1,'Therefore,  I_02(in nA) = 2^(deltaT/10) * I_01 =')\n",
"disp('(ii) V = 0.25 V, I_02 = 135.764 nA at 82 C')\n",
"disp('Thereforem  I_f = I_0 * (e^(V/eta*VT) - 1)')\n",
"vt=(82+273)/11600\n",
"format(7)\n",
"disp(vt,'V_T(in V) = T/11600 =')\n",
"disp('eta = 2 for Si')\n",
"i0=((135.764*10^-9)*((%e^(0.25/(2*0.0306)))-1))*10^6\n",
"format(6)\n",
"disp(i0,'Therefore,  I_f(in uA) =')"
   ]
   }
,
{
		   "cell_type": "markdown",
		   "metadata": {},
		   "source": [
			"## Example 7.14: dc_output_voltage.sce"
		   ]
		  },
  {
"cell_type": "code",
	   "execution_count": null,
	   "metadata": {
	    "collapsed": true
	   },
	   "outputs": [],
"source": [
"//Example 7.14\n",
"clc\n",
"disp('In the circuit of the fig.7.47(a), the diode will be forward biased during negative half cycle of a.c. input voltage, and d.c output voltage will be negative w.r.t common ground terminal, as shown.')\n",
"disp('(a) For an ideal diode, cut-in voltage V_T = 0, R_T = 0')\n",
"dc=-(15/%pi)\n",
"format(5)\n",
"disp(dc,'D.C. output voltage(in V) = -Maximum value of a.c. input voltage / pi =')\n",
"disp('Negative sign indicates that voltage is negative w.r.t ground.')\n",
"disp('(b) For a silicon diode, V_T = 0.7 V, R_f is assumed to be zero')\n",
"dc1=-((15-0.7)/%pi)\n",
"format(5)\n",
"disp(dc1,'D.C. output voltage(in V) = -[Maximum value of a.c. voltage-V_T] / pi =')"
   ]
   }
,
{
		   "cell_type": "markdown",
		   "metadata": {},
		   "source": [
			"## Example 7.15: dc_voltage_and_load_current.sce"
		   ]
		  },
  {
"cell_type": "code",
	   "execution_count": null,
	   "metadata": {
	    "collapsed": true
	   },
	   "outputs": [],
"source": [
"//Example 7.15\n",
"clc\n",
"disp('Given values are R_L = 1 k-ohm, V_m = 10 V peak')\n",
"disp('case(i) Ideal diode')\n",
"disp('Cut-in voltage V_T = 0 V, R_f = 0 ohm')\n",
"edc=10/%pi\n",
"format(5)\n",
"disp(edc,'Therefore,  E_DC(in V) = V_m/pi =')\n",
"idc=3.18\n",
"disp(idc,'Therefore,  I_DC(in mA) = E_DC/R_L =')\n",
"disp('case(ii) Silicon diode')\n",
"disp('Cut-in voltage V_T = 0.7 V')\n",
"edc=9.3/%pi\n",
"format(5)\n",
"disp(edc,'Therefore,  E_DC(in V) = V_m-V_T / pi =')\n",
"idc=2.96\n",
"disp(idc,'Therefore,  I_DC(in mA) = E_DC/R_L =')"
   ]
   }
,
{
		   "cell_type": "markdown",
		   "metadata": {},
		   "source": [
			"## Example 7.17: power_to_load_and_regulation_and_efficiency_and_TUF_of_secondary.sce"
		   ]
		  },
  {
"cell_type": "code",
	   "execution_count": null,
	   "metadata": {
	    "collapsed": true
	   },
	   "outputs": [],
"source": [
"//example7.17\n",
"clc\n",
"disp('Given: E_s=30 V, R_f=2 ohm, R_s=8 ohm, R_L=1 k-ohm')\n",
"disp('E_s=E_RMS=30 V')\n",
"e=30*sqrt(2)\n",
"disp(7)\n",
"disp(e,'E_sm(in V)=(E_s)*sqrt(2)=')\n",
"i=(30*sqrt(2))/(2+1000+8)\n",
"format(6)\n",
"disp(i,'I_m(in A)=(E_sm)/(R_f+R_L+R_s)=')\n",
"i=(2*42)/(%pi)\n",
"format(6)\n",
"disp(i,'I_DC(in mA)=(2*I_m)/pi=')\n",
"p=1000*(26.74*10^-3)^2\n",
"disp(p,'a) Power delivered to the load = (I_DC^2)*(R_L) = ')\n",
"v=(2*30*sqrt(2))/(%pi)\n",
"format(3)\n",
"disp(v,'V_DC, no load = (2*E_sm)/pi = ')\n",
"v=26.74*1000*10^-3\n",
"format(6)\n",
"disp(v,'V_DC, full load (in V) = (I_DC)*R_L = ')\n",
"r=((27-26.74))/26.74\n",
"format(5)\n",
"disp(r,'% Regulation = ((V_NL-V_FL)*100)/(V_FL)= ')\n",
"e=(8/(%pi)^2)*(1/(1+(10/1000)))\n",
"format(6)\n",
"disp(e,'c) Efficiency of rectification = dc output/ac output =')\n",
"t=(30*42*10^-3)/sqrt(2)\n",
"format(5)\n",
"disp(t,'d) Transformer secondary rating(in W) = (E_RMS)*(I_RMS) = ')\n",
"u=0.715/0.89\n",
"disp(u,'TUF = DC power output/AC rating = ')"
   ]
   }
,
{
		   "cell_type": "markdown",
		   "metadata": {},
		   "source": [
			"## Example 7.1: forbidden_gap.sce"
		   ]
		  },
  {
"cell_type": "code",
	   "execution_count": null,
	   "metadata": {
	    "collapsed": true
	   },
	   "outputs": [],
"source": [
"//Example 7.1\n",
"clc\n",
"disp('Forbidden gap for silicon is given by,')\n",
"disp('E_C = 1.21 - 3.6*10^-4 * T')\n",
"disp('Now  T = 35+273 = 308 K')\n",
"ec=1.21-(308*3.6*10^-4)\n",
"format(6)\n",
"disp(ec,'Therefore,  E_C(in eV) =')\n",
"disp('While forbidden gap for germanium is given by,')\n",
"disp('E_C = 0.785 - 2.23*10^-4 * T')\n",
"ec=0.785-(308*2.23*10^-4)\n",
"format(7)\n",
"disp(ec,'Therefore,  E_C(in eV) =')"
   ]
   }
,
{
		   "cell_type": "markdown",
		   "metadata": {},
		   "source": [
			"## Example 7.20: ac_input_power.sce"
		   ]
		  },
  {
"cell_type": "code",
	   "execution_count": null,
	   "metadata": {
	    "collapsed": true
	   },
	   "outputs": [],
"source": [
"//example7.20\n",
"clc\n",
"disp('P_DC=500 W, Half wave rectifier')\n",
"disp('For half wave rectifier, %eta=40.6%       ...(Assuming maximum)')\n",
"disp('Therefore, 40.6=(P_DC*100)/(P_AC)')\n",
"disp('Therefore, 40.6=(500*100)/(P_AC)')\n",
"p=(500*100)/(40.6)\n",
"format(9)\n",
"disp(p,'Therefore, P_AC(in W)=')\n",
"disp('For the same load, with full wave rectifier the maximum rectifier efficiency is 81.2%')\n",
"disp('Therefore, 81.2=(500*100)/(P_AC)')\n",
"p=(500*100)/81.2\n",
"format(10)\n",
"disp(p,'Therefore, P_AC(in W)=')"
   ]
   }
,
{
		   "cell_type": "markdown",
		   "metadata": {},
		   "source": [
			"## Example 7.21: percentage_eta.sce"
		   ]
		  },
  {
"cell_type": "code",
	   "execution_count": null,
	   "metadata": {
	    "collapsed": true
	   },
	   "outputs": [],
"source": [
"//example7.21\n",
"clc\n",
"disp('The given values are,')\n",
"disp('R_f=0.1 ohm, I_DC=10 A, R_s= 0 ohm, E_s(RMS)=30 V')\n",
"e=30*sqrt(2)\n",
"format(8)\n",
"disp(e,'Now, (E_sm)=E_sm(RMS)*sqrt(2) =')\n",
"disp('(I_DC)=(2*I_m)/pi')\n",
"i=(%pi*10)/2\n",
"disp(i,'I_m(in A)=(pi*I_DC)/2=')\n",
"disp('Now, (I_m)=(E_m)/(2*R_f+R_s+R_L)')\n",
"disp('Therefore, 15.7079 = 42.4264/(2*0.1+R_L)')\n",
"disp('Therefore, R_L+0.2=2.7')\n",
"r=2.7-0.2\n",
"disp(r,'Therefore, R_L(in ohm)=')\n",
"p=(10^2)*2.5\n",
"disp(p,'P_DC(in W)=(I_DC^2)*R_L=')\n",
"disp('P_AC = (I_RMS^2)*(2*R_f+R_s+R_L)')\n",
"i=15.7079/sqrt(2)\n",
"disp(i,'and, (I_RMS)[in A]=(I_m)/sqrt(2)=')\n",
"p=(11.1071^2)*(0.2+2.5)\n",
"disp(p,'Therefore, (P_AC)[in W]=')\n",
"e=(250*100)/333.092\n",
"disp(e,'% eta=(P_DC*100)/(P_AC)=')"
   ]
   }
,
{
		   "cell_type": "markdown",
		   "metadata": {},
		   "source": [
			"## Example 7.22: dc_load_current_and_load_voltage_and_ripple_voltage_and_PIV_rating.sce"
		   ]
		  },
  {
"cell_type": "code",
	   "execution_count": null,
	   "metadata": {
	    "collapsed": true
	   },
	   "outputs": [],
"source": [
"//example7.22\n",
"clc\n",
"disp('R_L =5 k-ohm=5*10^3 ohm, N1:N2 is 2:1')\n",
"disp('E_p = 460V RMS value')\n",
"disp('Therefore, (E_s)/(E_p)=N2/N1=1/2')\n",
"disp('Therefore, E_s = (E_p)/2 = 230 V')\n",
"e=230*sqrt(2)\n",
"format(8)\n",
"disp(e,'Therefore, E_sm(in V)=')\n",
"disp('Now, (I_DC)=(2*I_m)/pi      where (I_m)=(E_sm)/(R_L) neglecting R_f')\n",
"i=(2*325.269)/(%pi*5*10^3)\n",
"format(8)\n",
"disp(i,'Therefore, (I_DC)[in A]=(2*E_sm)/(pi*R_L)=')\n",
"d=41.41*5\n",
"format(8)\n",
"disp(d,'DC load voltage E_DC(in V) = (I_DC)*(R_L) = ')\n",
"disp('Ripple voltage = ripple factor*(V_DC)')\n",
"disp('Ripple factor of bridge rectifier is 0.482')\n",
"r=0.482*207.072\n",
"format(5)\n",
"disp(r,'Therefore, Ripple factor = ')\n",
"disp('PIV rating of each diode = (E_sm) for bridge rectifier = 325.27 V')"
   ]
   }
,
{
		   "cell_type": "markdown",
		   "metadata": {},
		   "source": [
			"## Example 7.23: load_voltage_and_ripple_voltage.sce"
		   ]
		  },
  {
"cell_type": "code",
	   "execution_count": null,
	   "metadata": {
	    "collapsed": true
	   },
	   "outputs": [],
"source": [
"//exmaple7.23\n",
"clc\n",
"disp('E_p(rms) = 230V, N2/N1 = 1/15, R_L=50 ohm')\n",
"disp('R_f = R_s = 0 ohm as ideal')\n",
"disp('Now, E_p(rms)/E_s(rms) = N1/N2')\n",
"e=230/15\n",
"format(7)\n",
"disp(e,'Therefore, E_s(rms)[in V] = N2*E_p(rms)/N1 = 230/15 = ')\n",
"e=15.333*sqrt(2)\n",
"disp(e,'Therefore, E_sm(in V) = ')\n",
"i=21.684/50\n",
"disp(i,'Therefore, (I_m) = (E_sm)/(R_s+2*R_f+R_L)= ')\n",
"i=(2*0.4336)/(%pi)\n",
"disp(i,'I_DC(in A)=(2*I_m)/pi=')\n",
"e=0.276*50\n",
"disp(e,'Therefore, E_DC(in V)=Load voltage=(I_DC)*(R_L)=')\n",
"disp('Ripple factor = 0.482       ..For full wave rectifier')\n",
"disp('Ripple factor = (ac rms output)/(dc output)=(ripple voltage)/E_DC')\n",
"disp('Therefore, 0.482=ripple factor')\n",
"r=13.8*0.482\n",
"disp(r,'Therefore, Ripple voltage = 13.8*0.482 = ')"
   ]
   }
,
{
		   "cell_type": "markdown",
		   "metadata": {},
		   "source": [
			"## Example 7.25: dc_output_voltage.sce"
		   ]
		  },
  {
"cell_type": "code",
	   "execution_count": null,
	   "metadata": {
	    "collapsed": true
	   },
	   "outputs": [],
"source": [
"//example7.25\n",
"clc\n",
"disp('For a half wave rectifier,')\n",
"disp('(I_m) = (E_sm)/(R_f+R_L)')\n",
"disp('and, (I_DC) = (I_m)/pi = (E_sm)/pi*(R_f+R_L)')\n",
"disp('and, (V_DC) = (I_DC)*(R_L)')\n",
"disp('Therefore, (P_DC) = (V_DC)*(I_DC) = (I_DC^2)*(R_L) = ((E_sm^2)*(R_L))/((pi^2)*(R_f+R_L)^2)')\n",
"disp('For this power to be maximum,')\n",
"disp('(dP_DC)/(dR_L) = 0')\n",
"disp('(d/dR_L)*((E_sm^2)*(R_L))/((pi^2)*(R_f+R_L)^2) = ((E_sm^2)/(pi^2))*((R_f+R_L)^2 - R_L*2(R_f+R_L))/(R_f+R_L)^4')\n",
"disp('Therefore,  (R_f+R_L)^2 - 2*R_L*(R_f+R_L) = 0')\n",
"disp('Therefore,  (R_f^2)-(R_L^2) = 0')\n",
"disp('Therefore,  (R_L)^2 = (R_f)^2     i.e.     R_L = R_f')\n",
"disp('Thus the power output is maximum if R_L = R_f')"
   ]
   }
,
{
		   "cell_type": "markdown",
		   "metadata": {},
		   "source": [
			"## Example 7.29: forward_current.sce"
		   ]
		  },
  {
"cell_type": "code",
	   "execution_count": null,
	   "metadata": {
	    "collapsed": true
	   },
	   "outputs": [],
"source": [
"//example7.29\n",
"clc\n",
"disp('For silicon diode, eta=2, (I_0)=10 uA, (V_T)=26 mV')\n",
"disp('I = (I_0)*[e^(V/(eta*V_T))-1]')\n",
"i=(10*10^-6)*(%e^(0.1/(2*26*10^-3))-1)\n",
"format(13)\n",
"disp(i,'i) I(in A)=(10*10^-6)*(e^(0.1/(2*26*10^-3))-1)=')\n",
"i=(10*10^-6)*(%e^(0.2/(2*26*10^-3))-1)\n",
"disp(i,'ii) I(in A)=(10*10^-6)*(e^(0.1/(2*26*10^-3))-1)=')\n",
"i=(10*10^-6)*(%e^(0.3/(2*26*10^-3))-1)\n",
"disp(i,'iii) I(in A)=(10*10^-6)*(e^(0.1/(2*26*10^-3))-1)=')"
   ]
   }
,
{
		   "cell_type": "markdown",
		   "metadata": {},
		   "source": [
			"## Example 7.2: resistivity.sce"
		   ]
		  },
  {
"cell_type": "code",
	   "execution_count": null,
	   "metadata": {
	    "collapsed": true
	   },
	   "outputs": [],
"source": [
"//Example 7.2\n",
"clc\n",
"disp('The given values are, n_i = 1.5*10^10 / cm^3')\n",
"disp('Therefore,  n_i = 1.5*10^10/10^-6 /m^3')\n",
"disp('                = 1.5*10^16 /m^3')\n",
"disp('And  u_n = 1300*10^-4 m^2/V-sec')\n",
"disp('     u_p = 500*10^-4 m^2/V-sec')\n",
"disp('Now  sigma_i = n_i*(u_n + u_p)*e             ...conductivity')\n",
"sig=(1.5*10^16)*(1300+500)*(1.6*10^-23)\n",
"format(9)\n",
"disp(sig,'Therefore  sigma_i(in per ohm-m) =')\n",
"rho=1/0.000432\n",
"format(10)\n",
"disp(rho,'Therefore,  rho(in ohm-m) = 1/sigma_i =')\n",
"disp('This is the required resistivity')"
   ]
   }
,
{
		   "cell_type": "markdown",
		   "metadata": {},
		   "source": [
			"## Example 7.30: temperature.sce"
		   ]
		  },
  {
"cell_type": "code",
	   "execution_count": null,
	   "metadata": {
	    "collapsed": true
	   },
	   "outputs": [],
"source": [
"//example7.30\n",
"clc\n",
"disp('(I_01)=0.1 uA, (T_1)=20 degree celcius, (T_2)=40 degree celcius')\n",
"i=(0.1)*(2^(20/10))\n",
"disp(i,'Therefore, (I_02)[in uA]=(I_01)*(2^(delta(T))/10)')"
   ]
   }
,
{
		   "cell_type": "markdown",
		   "metadata": {},
		   "source": [
			"## Example 7.31: conductivity_of_silicon.sce"
		   ]
		  },
  {
"cell_type": "code",
	   "execution_count": null,
	   "metadata": {
	    "collapsed": true
	   },
	   "outputs": [],
"source": [
"//example7.31\n",
"clc\n",
"disp('As the impurity is accepter, it forms a p-type material.')\n",
"disp('Therefore, N_A = 10^22 /m^3 = p_p')\n",
"disp('Now, (p_p)*(n_p)=(n_i)^2    i.e.   (10^22)*(n_p)=(1.4*10^16)^2')\n",
"n=((1.4*10^16)^2)/(10^22)\n",
"disp(n,'Therefore, n(in /m^3)= ')\n",
"r=((1.96*0.145*10^10)+(0.05*10^22))*(1.6*10^-19)\n",
"disp(r,'rho(in (ohm-m)^-1) = ((n_p*u_n)+(p_p*u_p))*e = ')"
   ]
   }
,
{
		   "cell_type": "markdown",
		   "metadata": {},
		   "source": [
			"## Example 7.3: current_in_the_bar.sce"
		   ]
		  },
  {
"cell_type": "code",
	   "execution_count": null,
	   "metadata": {
	    "collapsed": true
	   },
	   "outputs": [],
"source": [
"//Example 7.3\n",
"clc\n",
"disp('Electron density = n_i = carrier intrinsic concentration')\n",
"disp('Therefore,  n_i = 1.5*10^16 /m^3')\n",
"disp('For intrinsic semiconductor,')\n",
"disp('  sigma_i = n_i*(u_n + u_p)*e')\n",
"disp('where  e = charge on one electron = 1.6*10^-19 C')\n",
"sig=(1.5*10^16)*(0.14+0.05)*(1.6*10^-19)\n",
"format(9)\n",
"disp(sig,'Therefore  sigma_i(in per ohm-m) = Conductivity =')\n",
"rho=1/0.000456\n",
"format(9)\n",
"disp(rho,'Therefore,  rho(in ohm-m) = Resistivity = 1/sigma_i =')\n",
"disp('       Now    R = roh*l/A')\n",
"disp('Therefore,  V/A = roh*l/A')\n",
"l=((9*2.5*10^-4)/(2192.982*1.2*10^-3))*10^3\n",
"format(6)\n",
"disp(l,'Therefore,  l(in mm) =')\n",
"disp('This is the length of the bar')"
   ]
   }
,
{
		   "cell_type": "markdown",
		   "metadata": {},
		   "source": [
			"## Example 7.4: resistivity_of_intrinsic_germanium.sce"
		   ]
		  },
  {
"cell_type": "code",
	   "execution_count": null,
	   "metadata": {
	    "collapsed": true
	   },
	   "outputs": [],
"source": [
"//Example 7.4\n",
"clc\n",
"disp('Given values are')\n",
"disp('  n_i = 2.5*10^13 /cm^3')\n",
"disp('Therefore,  n_i = 2.5*10^13/10^-6 /m^3')\n",
"disp('                = 2.5*10^19 /m^3')\n",
"disp('And  u_n = 3800*10^-4 m^2/V-sec')\n",
"disp('     u_p = 1800*10^-4 m^2/V-sec')\n",
"disp('  sigma_i = n_i*(u_n + u_p)*e')\n",
"sig=(2.5*10^19)*(3800+1800)*(1.6*10^-23)\n",
"format(5)\n",
"disp(sig,'Therefore  sigma_i(in per ohm-m) =')\n",
"rho=1/2.24\n",
"format(7)\n",
"disp(rho,'Therefore,  rho_i(in ohm-cm) = 1/sigma_i =')"
   ]
   }
,
{
		   "cell_type": "markdown",
		   "metadata": {},
		   "source": [
			"## Example 7.7: comparing_two_values.sce"
		   ]
		  },
  {
"cell_type": "code",
	   "execution_count": null,
	   "metadata": {
	    "collapsed": true
	   },
	   "outputs": [],
"source": [
"//Example 7.7\n",
"clc\n",
"disp('Referring to the table 7.2 of properties of germanium has 4.4*10^22 atoms/cm^3')\n",
"disp('For 10^8 germanium atom there is 1 atom impurity added, as given.')\n",
"disp('Thus, for 4.4*10^22 germanium atoms, we have,')\n",
"disp('       = 4.4*10^22 / 10^8 = 4.4*10^14 atoms of impurity/cm^3')\n",
"disp('This is nothing but concentration of donor atoms i.e. N_D')\n",
"disp('Therefore,  N_D = 4.4*10^14 per cm^3 = 4.4*10^14/10^-6 = 4.4*10^20 per m^3')\n",
"disp('Now as donor impurity is added, n-type material will form,')\n",
"disp('Therefore,  sigma_n = n_n*u_n*q = N_D*u_n*q')\n",
"disp('where  n_n ~ N_D and u_n = 3800 cm^2/V-sec = 3800*10^-4 m^2/V-sec')\n",
"sigm=4.4*3800*1.6*10^-3\n",
"format(7)\n",
"disp(sigm,'Therefore,  sigma_n(in per ohm-m) =')\n",
"rho=(1/26.752)*10^2\n",
"format(5)\n",
"disp(rho,'Therefore,  rho_n(in ohm-cm) = Resistivity = 1/sigma_i =')\n",
"disp('Comparing this with resistivity of intrinsic germanium it can be observed that resistivity reduces considerably due to addition of impurity. Hence conductivity of n-type material is much higher and hence it can carry more current as compared to the intrinsic semiconductors. By controlling amount of doping we can control the conductivity.')"
   ]
   }
,
{
		   "cell_type": "markdown",
		   "metadata": {},
		   "source": [
			"## Example 7.9: new_diode_current.sce"
		   ]
		  },
  {
"cell_type": "code",
	   "execution_count": null,
	   "metadata": {
	    "collapsed": true
	   },
	   "outputs": [],
"source": [
"//Example 7.9\n",
"clc\n",
"disp('The current equation of a diode is')\n",
"disp('I = I_0 * (e^(V/eta*VT) - 1)')\n",
"disp('At 300 K,  VT = 26 mV = 26*10^-3 V')\n",
"disp('  V = 0.71 V for I = 2.5 mA  and eta = 2 for silicon')\n",
"i0=(2.5*10^-3)/((%e^(0.71/(2*26*10^-3)))-1)\n",
"format(9)\n",
"disp(i0,'Therefore,  I_0(in A) =')\n",
"disp('Now V = 0.8 V')\n",
"i=((2.93*10^-9)*((%e^(0.8/(2*26*10^-3)))-1))*10^3\n",
"format(6)\n",
"disp(i,'Therefore,  I(in mA) =')"
   ]
   }
],
"metadata": {
		  "kernelspec": {
		   "display_name": "Scilab",
		   "language": "scilab",
		   "name": "scilab"
		  },
		  "language_info": {
		   "file_extension": ".sce",
		   "help_links": [
			{
			 "text": "MetaKernel Magics",
			 "url": "https://github.com/calysto/metakernel/blob/master/metakernel/magics/README.md"
			}
		   ],
		   "mimetype": "text/x-octave",
		   "name": "scilab",
		   "version": "0.7.1"
		  }
		 },
		 "nbformat": 4,
		 "nbformat_minor": 0
}
