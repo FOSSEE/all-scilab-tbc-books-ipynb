{
"cells": [
 {
		   "cell_type": "markdown",
	   "metadata": {},
	   "source": [
       "# Chapter 3: Transformers"
	   ]
	},
{
		   "cell_type": "markdown",
		   "metadata": {},
		   "source": [
			"## Example 3.10: efficiency_and_unity_power_factor.sce"
		   ]
		  },
  {
"cell_type": "code",
	   "execution_count": null,
	   "metadata": {
	    "collapsed": true
	   },
	   "outputs": [],
"source": [
"//example3.10\n",
"clc\n",
"disp('20 kVA, N_max=0.98 at 15 kVA and cos(psi)=1, (P_i)=350 W')\n",
"disp('Load at n_max=kVA*sqrt(P_i/P_cu)')\n",
"disp('Therefore, 15=20*sqrt(350/P_cu)   i.e. ')\n",
"p=350/((15/20)^2)\n",
"format(8)\n",
"disp(p,'P_cu(FL)[in W]=')\n",
"disp('i) %n at cos(psi)=0.8 lag, full load')\n",
"disp('%n(FL)= [VA cos(psi) *100]/[(VA cos(psi))+(P_cu(FL))+(P_i)]=[20*10^3*(0.8) *100]/[(20*10^3*(0.8))+(622.222)+(350)]')\n",
"n=[20000*(0.8)*100]/[(20000*(0.8))+(622.222)+(350)]\n",
"format(7)\n",
"disp(n,'= ')\n",
"disp('ii) %n at cos(psi)=1 , full load')\n",
"n=(20000*100)/(20000+622.222+350)\n",
"format(8)\n",
"disp(n,'%n(FL)=(20*10^3*1*100)/((20*10^3*1)+622.222+350)=')"
   ]
   }
,
{
		   "cell_type": "markdown",
		   "metadata": {},
		   "source": [
			"## Example 3.11: copper_loss_and_full_and_half_load_efficiency_and_regulation.sce"
		   ]
		  },
  {
"cell_type": "code",
	   "execution_count": null,
	   "metadata": {
	    "collapsed": true
	   },
	   "outputs": [],
"source": [
"//Example 3.11\n",
"clc\n",
"disp('From O.C. test we can write,')\n",
"disp('  Wo = P1 = 50 W = Iron loss')\n",
"disp('From S.C. test we can find the parameters of eqivalent circuit. Now S.C. test is conducted on H.V. side i.e. meters are on H.V. side which is tranformer secondary. Hence parameters from S.C. test results will be refered to secondary.')\n",
"disp('V_sc = 15 V,  I_sc = 30 A,  W_sc = 100 W')\n",
"r2e=10/(30^2)\n",
"format(6)\n",
"disp(r2e,'Therefore,  R_2e (in ohm)= W_sc / (I_sc)^2 =')\n",
"z1e=15/30\n",
"format(4)\n",
"disp(z1e,'  Z_1e(in ohm) = V_sc / I_sc =')\n",
"x2e=sqrt((0.5^2)-(0.111^2))\n",
"format(7)\n",
"disp(x2e,'Therefore,  X_2e(in ohm) = sqrt(Z_2e^2 - R_2e^2) =')\n",
"disp('(i) Copper loss on full load')\n",
"i2=(10^4)/250\n",
"format(3)\n",
"disp(i2,'(I2)F.L (in A)= VA rating / V2 =')\n",
"disp('In short circuit test, I_sc = 30 A and not equal to full load value 40 A')\n",
"disp('Hence W_sc does not give copper loss on full load.')\n",
"disp('Therefore,  W_sc = P_cu at 30 A = 100 W')\n",
"disp('Now  P_cu  directly proprotional to  I^2')\n",
"disp('Therefore,  P_cu at 30 A / P_cu at 40 A = (30/40)^2')\n",
"disp('Therefore,  100 / P_cu at 40 A = 900/1600')\n",
"pcu=(1600*100)/900\n",
"format(7)\n",
"disp(pcu,'Therefore,  P_cu at 40 A (in W)= ')\n",
"disp('Therefore,  (P_cu)F.L = 177.78 W')\n",
"disp('(ii) Full load eta,  cos(phi2) = 0.8')\n",
"disp('%eta on full load = V2(I2)F.L.*cos(phi2)*100 / V2(I2)F.L.*cos(phi2)+Pi+(P_cu)F.L')\n",
"n=(250*40*0.8*100)/((250*40*0.8)+50+177.78)\n",
"format(6)\n",
"disp(n,'= (250*40*0.8*100)/((250*40*0.8)+50+177.78) = ')\n",
"disp('iii) Half load eta, cos(phi_2)=0.8')\n",
"disp('n=0.5 as half load,  (I2)[H.L.]=40/2 =20 A')\n",
"disp('Therefore, %eta on full load = V2(I2)H.L.*cos(phi2)*100 / V2(I2)H.L.*cos(phi2)+Pi+(n^2)(P_cu)F.L')\n",
"disp('= n*(VA rating)*cos(phi2)*100 / n*(VA rating)*cos(phi2)+Pi+(P_cu)F.L')\n",
"disp('= 0.5*10*10^3*0.8*100/(0.5*10*10^3*0.8)+50+(0.5^2)*177.78')\n",
"n=(0.5*10*1000*0.8*100)/((0.5*0.8*10^4)+50+(100.78*(0.5^2)))\n",
"disp(n,' = ')\n",
"disp('iv) Regulation at full load, cos(phi)=0.9 leading')\n",
"disp('%R = (I2)F.L.*(R_2e)*cos(phi)-(I2)F.L.*(X_2e)*sin(phi)*100/V2')\n",
"r=(((40*0.111*0.9)-(40*0.4875*0.4358))*100)/250\n",
"format(7)\n",
"disp(r,' = (40*0.111*0.9)-(40*0.4875*0.4358)*100/250 =')"
   ]
   }
,
{
		   "cell_type": "markdown",
		   "metadata": {},
		   "source": [
			"## Example 3.12: voltage_and_power_factor.sce"
		   ]
		  },
  {
"cell_type": "code",
	   "execution_count": null,
	   "metadata": {
	    "collapsed": true
	   },
	   "outputs": [],
"source": [
"//example3.12\n",
"clc\n",
"disp('R1=0.9 ohm, R2=0.03 ohm, X1=5 ohm, X2=0.13 ohm')\n",
"disp('K=N2/N1=1/6 as N1:N2 is 6:1')\n",
"r=0.03+(0.9*(1/6)^2)\n",
"format(6)\n",
"disp(r,'Therefore, (R_2e)[in ohm]=R2+R1''=R2+(K^2)*R1=0.03+(1/6)^2*0.9=')\n",
"x=0.13+(5*(1/6)^2)\n",
"format(8)\n",
"disp(x,'(X_2e)[in ohm]=X2+X1''=X2+(K^2)*X1=0.13+(5*(1/6)^2)=')\n",
"disp('I_sc = 200 A')\n",
"disp('(Z_2e)=(V_sc)/(I_sc)  i.e.  sqrt((R_2e^2)+(X_2e^2))=(V_sc)/200')\n",
"v=200*0.27444\n",
"disp(v,'V_sc(in V)=200*0.27444=')\n",
"v=54.8895*6\n",
"disp(v,'i) V1(in V)=(V_sc)/K=54.8895/(1/6)=')\n",
"disp('(W_sc)=(V_sc)*(I_sc)*cos(phi_sc)    and    (W_sc)=(I_sc^2)*(R_2e)')\n",
"disp('Therefore, (200^2)*0.055 = 54.8895*200*cos(phi_sc)')\n",
"s=((0.055*200)/(54.8895))\n",
"format(4)\n",
"disp(s,'Therefore, cos(phi_sc)[lagging]=')"
   ]
   }
,
{
		   "cell_type": "markdown",
		   "metadata": {},
		   "source": [
			"## Example 3.13: all_day_efficiency.sce"
		   ]
		  },
  {
"cell_type": "code",
	   "execution_count": null,
	   "metadata": {
	    "collapsed": true
	   },
	   "outputs": [],
"source": [
"//exmaple3.13\n",
"clc\n",
"disp('Given values are, P_i=2.5 kW, (P_cu)F.L. = 3.5kW, 400 kVA')\n",
"disp('Iron losses are constant for 24 hours. So energy spent due to iron lossses for 24 hours is,')\n",
"p=2.5*24\n",
"disp(p,'P_i(in kWh)=2.5*24 hours=')\n",
"disp('Total energy output in a day from given load cycle is,')\n",
"e=(300*6)+(200*10)+(100*4)\n",
"disp(e,'Energy output (in kWh)= (300*6 hours)+(200*10 hours)+(100*4 hours)=')\n",
"disp('To calculate energy spent due to copper loass,')\n",
"disp('i)Load 1 of 300 kW at cos(phi)=0.8')\n",
"k=300/0.8\n",
"disp(k,'Therefore, kVA supplied = kW/cos(phi) =300/0.8=')\n",
"n=375/400\n",
"format(7)\n",
"disp(n,'Therefore, n=(load kVA)/(kVA rating)=375/400=')\n",
"disp('Copper losses are proportional to square of kVA ratio i.e. n^2')\n",
"l=3.5*(0.9375)^2\n",
"format(6)\n",
"disp(l,'Therefore, Load 1 P_cu = n^2*(P_cu)F.L. =(0.9375)^2*3.5=')\n",
"e=3.076*6\n",
"format(7)\n",
"disp(e,'Energy spent(in kWh)=3.076*6 hours=')\n",
"disp('ii) Load 2 of 200 kW at cos(phi)=0.7')\n",
"k=200/0.7\n",
"format(9)\n",
"disp(k,'Therefore, kVA supplied=(kW)/cos(phi)=200/0.7=')\n",
"n=285.7142/400\n",
"format(7)\n",
"disp(n,'n=(Load kVA)/(kVA rating)=')\n",
"p=3.5*(0.7142^2)\n",
"disp(p,'Therefore, Load 2 P_cu(in kW)= n^2*(P_cu)F.L.= (0.7142^2)*3.5=')\n",
"p=1.7857*10\n",
"disp(p,'Therefore, Energy spent(in kWh)= 1.7857*10 = ')\n",
"disp('iii) Load 3 of 100 kW at cos(phi)=0.9')\n",
"k=100/0.9\n",
"format(8)\n",
"disp(k,'Therefore, kVA supplied=kW/cos(phi)=100/0.9=')\n",
"n=111.111/400\n",
"format(7)\n",
"disp(n,'Therefore, n=111.111/400=')\n",
"p=3.5*(0.2778^2)\n",
"disp(p,'Therefore, Load 3 P_cu(in kW)= n^2*(P_cu)F.L.=(0.2778^2)*3.5= ')\n",
"e=0.2701*4\n",
"disp(e,'Therefore, Energy spent(in kWh)=0.2701*4=')\n",
"disp('iv) No load hence negligible copper losses.')\n",
"t=60+18.457+17.857+1.0804\n",
"format(8)\n",
"disp(t,'Therefore, Total energy spent = Energy spent due to [Iron losses + Total copper loss]= 60+18.457+17.857+1.0804 = ')\n",
"disp('and Total output = 4200 kWh')\n",
"disp('Therefore, All day eta= (Total output for 24 hours)/(Total output for 24 hours+Total energy spent for 24 hours)')\n",
"n=420000/(4200+97.3944)\n",
"format(6)\n",
"disp(n,'= 4200*100/(4200+97.3944) = ')"
   ]
   }
,
{
		   "cell_type": "markdown",
		   "metadata": {},
		   "source": [
			"## Example 3.14: copper_loss_and_efficiency.sce"
		   ]
		  },
  {
"cell_type": "code",
	   "execution_count": null,
	   "metadata": {
	    "collapsed": true
	   },
	   "outputs": [],
"source": [
"//example3.14\n",
"clc\n",
"disp('eta % =98% ,S= 200 kVA, cos(phi)=0.8, Iron loss=200 W')\n",
"disp('Therefore, eta % = (200*10^3 *0.8*100)/(200*10^3 *0.8+2000+copper loss)')\n",
"disp('0.98[200*10^3 *0.8+2000+copper loss]=200*10^3 *0.8')\n",
"c=((200*800)/0.98)-((200*800)-2000)\n",
"format(9)\n",
"disp(c,'i)Copper loss at full load(in watt)=')\n",
"disp('ii)Half load copper loss(in watt) = (n^2)*(W_cu)full load      where n=0.5 as half load')\n",
"x=(0.5^2)*1265.306\n",
"format(8)\n",
"disp(x,'=(0.5^2)*1265.306 =')\n",
"disp('Efficiency at half load = (100*10^3 *0.8*100)/(100*10^-3 *0.8+2000+316.326)')\n",
"n=(100*800*100)/((0.8*100000)+2000+316.326)\n",
"format(7)\n",
"disp(n,'eta % = ')"
   ]
   }
,
{
		   "cell_type": "markdown",
		   "metadata": {},
		   "source": [
			"## Example 3.15: iron_and_copper_loss.sce"
		   ]
		  },
  {
"cell_type": "code",
	   "execution_count": null,
	   "metadata": {
	    "collapsed": true
	   },
	   "outputs": [],
"source": [
"//example3.15\n",
"clc\n",
"x=250*800\n",
"disp(x,'a)The output power at full load(in watt)=')\n",
"disp('THe input power at full load =(200*10^3)/0.98135')\n",
"disp('The total loss = Input-Output')\n",
"t=((200*10^3)/0.98135)-200000\n",
"format(8)\n",
"disp(t,'= ')\n",
"disp('Therefore, P_i + P_c = 3800.88        (i)')\n",
"disp('where     P_i= Iron loss  ,P_c = Full load copper loss')\n",
"p=125*800\n",
"disp(p,'The power output at half load=125*10^3 *0.8=')\n",
"disp('The power input at half load = (100*10^3)/0.97751')\n",
"x=((100*10^3)/0.9775)\n",
"disp(x,'Total loss = (100*10^3)/0.9775 - 100*10^3 =')\n",
"disp('(P_i)+ (0.5^2)*(P_c) = 2300.74')\n",
"disp('(P_i)+ (0.25)*(P_c) = 2300.74         (ii)')\n",
"disp('From equations (i) and (ii),')\n",
"disp('0.75*(P_i)=3800.88-2300.74')\n",
"p=(3800.88-2300.74)/0.75\n",
"disp(p,'Therefore, P_i(in watt)=')\n",
"z=3800.88-2000.18\n",
"disp(z,'P_c(in watt)=')"
   ]
   }
,
{
		   "cell_type": "markdown",
		   "metadata": {},
		   "source": [
			"## Example 3.16: regulatio.sce"
		   ]
		  },
  {
"cell_type": "code",
	   "execution_count": null,
	   "metadata": {
	    "collapsed": true
	   },
	   "outputs": [],
"source": [
"//example3.16\n",
"clc\n",
"disp('100 kVA, 1000 V/ 10000 V, P_i=1200 W, cos(phi)=0.8, P_cu on I2 = 6A is 500W, X_2e=10 ohm')\n",
"disp('For eta_max, P_cu=(P_i)=1200 W')\n",
"i=(100*10^3)/10000\n",
"disp(i,'(I_2)F.L.[in A] = VA rating/V2 = (100*10^3)/10000 = ')\n",
"disp('Therefore, P_cu on any load/(P_cu)F.L. = [I2 load/I2 F.L]^2   ...As (P_cu) directly proportional I^2')\n",
"disp('Therefore, 500/(P_cu)F.L. = (6/10)^2')\n",
"p=500*(10/6)^2\n",
"format(8)\n",
"disp(p,'Therefore, (P_cu)F.L.[in W] = ')\n",
"k=100*sqrt(1200/1388.88)\n",
"disp(k,'kVA at eta_max = (kVA rating)*sqrt(P_i/(P_cu)F.L) = 100*sqrt(1200/1388.88) =')\n",
"disp('Therefore, % eta_max = (kVA for n_max cos(phi)*100)/(kVA for n_max cos(phi)+2P_i)')\n",
"n=(92951.8*0.8*100)/((92951.8*0.8)+(2*1200))\n",
"disp(n,'= (92951.8*0.8*100)/((92951.8*0.8)+(2*1200)) = ')\n",
"i=10*sqrt(1200/1388.88)\n",
"format(7)\n",
"disp(i,'(I_2m) at eta_max [in A]= (I_2)F.L. * sqrt(P_i/(P_cu)F.L.) = ')\n",
"disp('Therefore, (P_cu) at eta_max = P_i = (I_2m)^2 * R_2e')\n",
"disp('Therefore, 1200 = (9.2951^2)*R_2e')\n",
"r=1200/(9.2951^2)\n",
"disp(r,'Therefore, R_2e[in ohm] = ')\n",
"disp('% R = (I_2m)[R_2e cos(phi)+(X_2e)sin(phi) *100]/V2')\n",
"po=(9.2951*((13.889*0.8)+(10*10*0.6)))/100\n",
"format(5)\n",
"disp(po,'= (9.2951*((13.889*0.8)+(10*10*0.6))*100)/10000 = ') //answer in text book is wrong"
   ]
   }
,
{
		   "cell_type": "markdown",
		   "metadata": {},
		   "source": [
			"## Example 3.17: efficiencies.sce"
		   ]
		  },
  {
"cell_type": "code",
	   "execution_count": null,
	   "metadata": {
	    "collapsed": true
	   },
	   "outputs": [],
"source": [
"//exmaple3.17\n",
"clc\n",
"disp('5 kVA, 2300/230 V, P_i=40 W, (P_cu)F.L. =112 W, cos(phi)=0.8')\n",
"disp('Sr.    kVA      n=Fraction of full load        New P_cu=        %eta=n[Total VA]cos(phi)/n[Total VA]cos(phi)+P_i+New P_cu *100')\n",
"disp('No.   output     =Actual kVA/total kVA       n^2 P_cu(F.L.) ')\n",
"disp('1     1.25        0.25                              7                   95.51%')\n",
"disp('2      2.5        0.5                               28                  96.711%')\n",
"disp('3     3.75        0.75                              63                  96.668%')\n",
"disp('4       5          1                                112                 96.339%')\n",
"disp('5     6.25        1.25                              175                 95.877%')\n",
"disp('6     7.5         1.5                               252                 95.359%')\n",
"disp('')\n",
"disp('The efficiency against kVA output curve is shown in the fig. 3.28')"
   ]
   }
,
{
		   "cell_type": "markdown",
		   "metadata": {},
		   "source": [
			"## Example 3.18: load_impedance_and_maximum_flux.sce"
		   ]
		  },
  {
"cell_type": "code",
	   "execution_count": null,
	   "metadata": {
	    "collapsed": true
	   },
	   "outputs": [],
"source": [
"//example3.18\n",
"clc\n",
"disp('50 kVA, V1=2400 V, V2=240 V, N2=23')\n",
"k=1/10\n",
"disp('K=N2/N1=1/10=')\n",
"i=(50*10^3)/240\n",
"format(8)\n",
"disp(i,'(I_2)F.L. = VA/V2 = (50*10^3)/240 =')\n",
"r=240/208.333\n",
"disp(r,'R_L (in ohm)=V2/(I_2)F.L. = 240/208.333= ')\n",
"disp('From the e.m.f equation,')\n",
"disp('240 = 4.44*50*phi*23')\n",
"p=240/(4.44*50*23)\n",
"format(6)\n",
"disp(p,'Therefore, phi_m(in Wb)=')"
   ]
   }
,
{
		   "cell_type": "markdown",
		   "metadata": {},
		   "source": [
			"## Example 3.19: number_of_primary_and_secondary_turns.sce"
		   ]
		  },
  {
"cell_type": "code",
	   "execution_count": null,
	   "metadata": {
	    "collapsed": true
	   },
	   "outputs": [],
"source": [
"//example3.19\n",
"clc\n",
"disp('E1=2300 V, E2=230 V, f=50 Hz, B_m=1.1 Wb/m^2 , A=0.05 m^2')\n",
"disp('B_m=(phi_m)/A     i.e     1.1=(phi_m)/0.05')\n",
"p=1.1*0.05\n",
"format(6)\n",
"disp(p,'Therefore, (phi_m)[in Wb]=')\n",
"disp('E1=4.44(phi_m)*f*N1   i.e.    2300=4.44*0.055*50*N1')\n",
"n=2300/(4.44*0.055*50)\n",
"format(7)\n",
"disp(n,'Therefore,N1 = ')\n",
"disp('E2=4.44(phi_m)*f*N2   i.e.    230=4.44*0.055*50*N2')\n",
"n=230/(4.44*0.055*50)\n",
"disp(n,'Therefore, N2 = ')"
   ]
   }
,
{
		   "cell_type": "markdown",
		   "metadata": {},
		   "source": [
			"## Example 3.1: primary_and_secondary_turns_and_area_of_core.sce"
		   ]
		  },
  {
"cell_type": "code",
	   "execution_count": null,
	   "metadata": {
	    "collapsed": true
	   },
	   "outputs": [],
"source": [
"//example3.1\n",
"clc\n",
"disp('(B_m)=1 Wb/m^2, E1=240 V, E/turn=8 V, f=50 Hz')\n",
"disp('E1=E/turn * N1        i.e.     240=8*N1')\n",
"disp('Therefore, N1=30')\n",
"disp('Therefore, N1/N2=E1/E2  i.e  30/N2=240/2400')\n",
"disp('N2=300')\n",
"disp('E1=4.44*(psi_m)*f*N1      i.e.     240=4.44*(psi_m)*50*30')\n",
"p=240/(4.44*50*30)\n",
"format(8)\n",
"disp(p,'Therefore, (psi_m)[in Wb]=')\n",
"a=0.03636/1\n",
"disp(a,'(B_m)=(psi_m)/a     i.e.      a(in m^2)=(psi_m)/(B_m)=')"
   ]
   }
,
{
		   "cell_type": "markdown",
		   "metadata": {},
		   "source": [
			"## Example 3.20: maximum_efficiency.sce"
		   ]
		  },
  {
"cell_type": "code",
	   "execution_count": null,
	   "metadata": {
	    "collapsed": true
	   },
	   "outputs": [],
"source": [
"//example3.20\n",
"clc\n",
"disp('150 kVA, P_i=1.4 kW, P_cu(FL)=1.6 kW')\n",
"k=150*sqrt(1.4/1.6)\n",
"format(9)\n",
"disp(k,'a) kVA for eta_max = kVA*sqrt(P_i/P_cu(FL))= ')\n",
"disp('For maximum efficieny, P_cu=P_i=1.4kW and cos(phi)=1')\n",
"disp('Therefore, %eta_max=(VA for eta_max *cos(phi))/(VA for eta_max*cos(phi)+2P_i *100')\n",
"n=(140.3121*1000*100)/(140312.1+(2*1.4*1000))\n",
"format(7)\n",
"disp(n,'= (140.3121*1000*100)/(140312.1+(2*1.4*1000)) = ') \n",
"disp('b) At half load, n=0.5, cos(phi)=0.8')\n",
"disp('Therefore, %eta_HL = (n*VA*cos(phi)*100)/(n*VA*cos(phi)+P_i+[n^2 *P_cu(FL)])')\n",
"n=(0.5*150*1000*0.8*100)/((0.5*150*1000*0.8)+(1.4*10^3)+(1.6*1000*0.5^2))\n",
"disp(n,'= (0.5*150*1000*0.8*100)/((0.5*150*1000*0.8)+(1.4*10^3)+(1.6*1000*0.5^2))) = ')"
   ]
   }
,
{
		   "cell_type": "markdown",
		   "metadata": {},
		   "source": [
			"## Example 3.21: area_of_core.sce"
		   ]
		  },
  {
"cell_type": "code",
	   "execution_count": null,
	   "metadata": {
	    "collapsed": true
	   },
	   "outputs": [],
"source": [
"//exmaple3.21\n",
"clc\n",
"disp('E1=1900 V, E2=240 V, f=50Hz, B_m=1.5 Wb/m^2, emf/turn = E1/N1 = E2/N2')\n",
"disp('Therefore, 1.5=1900/N1=240/N2')\n",
"n=1900/1.5\n",
"format(8)\n",
"disp(n,'Therefore, N1=')\n",
"n=240/1.5\n",
"disp(n,'and, N2=')\n",
"disp('E1=4.44*(phi_m)*f*N1  i.e.  1900=4.44(phi_m)*50*1267')\n",
"p=1900/(4.44*50*1267)\n",
"format(9)\n",
"disp(p,'Therefore, (phi_m)[in Wb]=')\n",
"disp('(B_m)=(phi_m)/A  i.e.  1.5=(6.7567*10^-3)/A')\n",
"a=(6.7567*10^-3)/1.5\n",
"format(10)\n",
"disp(a,'Therefore, A(in m^2)=')\n",
"i=10000/240\n",
"format(7)\n",
"disp(i,'I2(in A)=Output VA/E2 = (10*10^3)/240 = ')"
   ]
   }
,
{
		   "cell_type": "markdown",
		   "metadata": {},
		   "source": [
			"## Example 3.22: efficiency.sce"
		   ]
		  },
  {
"cell_type": "code",
	   "execution_count": null,
	   "metadata": {
	    "collapsed": true
	   },
	   "outputs": [],
"source": [
"//example3.22\n",
"clc\n",
"disp('%eta_FL = 96%, cos(phi)=0.8, %eta_HL =97.2%, cos(phi)=1')\n",
"disp('%eta_FL=(VA *cos(phi))/(VA *cos(phi)+P_i+P_cu(FL))*100    i.e.  0.96=((259*10^3)*0.8)/((250*10^3)*0.8+P_i+P_cu(FL))')\n",
"disp('Therefore, P_i+P_cu(FL)=8333.333      ...(1)')\n",
"disp('%eta_HL=(n*VA*cos(phi))/(n*VA*cos(phi)+P_i+(n^2)*P_cu(FL)) *100       ...n=0.5 for half load')\n",
"disp('Therefore, 97.2=(0.5*250*(10^3)*1)/(0.5*250*(10^3)*1+P_i+(0.5^2)*P_cu(FL)) *100')\n",
"disp('Therefore, P_i+(0.5^2)*P_cu(FL)=3600.823      ..(2)')\n",
"disp('Solving equations (1) and (2),')\n",
"disp('3600.823-(0.5^2)*P_cu(FL)+P_cu(FL)=8333.333')\n",
"disp('0.75*(P_cu)FL=8333.333-3600.823')\n",
"p=(8333.333-3600.823)/0.75\n",
"format(9)\n",
"disp(p,'P_cu(FL)[in W]=')\n",
"p=8333.333-6310.013\n",
"format(9)\n",
"disp(p,'P_i(in W)=')\n",
"disp('At 75% of full load, n=0.75 and cos(phi)=0.8')\n",
"disp('Therefore, %eta=(n*VA*cos(phi))/(n*VA*cos(phi)+P_i+(n^2)*P_cu(FL)) *100')\n",
"disp('=(0.75*2508(10^3)*0.8)/(0.75*250*(10^3)*0.8+2023.319+(0.75^2)*6310.013)) *100')\n",
"n=(0.75*250*(10^3)*0.8*100)/((0.75*250*(10^3)*0.8)+2023.319+((0.75^2)*6310.013))\n",
"format(8)\n",
"disp(n,'= ')"
   ]
   }
,
{
		   "cell_type": "markdown",
		   "metadata": {},
		   "source": [
			"## Example 3.23: turns_ratio_and_magnetizing_and_working_component_and_iron_loss.sce"
		   ]
		  },
  {
"cell_type": "code",
	   "execution_count": null,
	   "metadata": {
	    "collapsed": true
	   },
	   "outputs": [],
"source": [
"//example3.23\n",
"clc\n",
"disp('V_0=220 V, I_0=0.5 A, W_0=30 W, R1=0.6ohm')\n",
"disp('W_0=(V_0)*(I_0)*cos(phi_0)    i.e.    cos(phi_0)=30/(220*0.5)')\n",
"c=30/(220*0.5)\n",
"format(8)\n",
"disp(c,'Therefore, cos(phi_0)=')\n",
"p=acosh(0.27272)\n",
"disp(p,'i.e.  (phi_0)[in degree]=')\n",
"k=110/220\n",
"disp(k,'a) K=Turns ratio=Secondary voltage/Primary voltage=110/220=')\n",
"i=0.5*0.27272\n",
"disp(i,'b) I_m(in A)=(I_0)*cos(phi_0)=0.5*0.27272=')\n",
"i=0.5*sind(74.1733)\n",
"format(6)\n",
"disp(i,'I_c(in A)=(I_0)*sin(phi_0)=0.5*sin(74.1733)=')\n",
"p=30-((0.5^2)*0.6)\n",
"disp(p,'P_i(in W)=Iron loss=(W_0)-No load copper loss=(W_0)-(I_0^2)*R1=')"
   ]
   }
,
{
		   "cell_type": "markdown",
		   "metadata": {},
		   "source": [
			"## Example 3.24: efficiency_and_load.sce"
		   ]
		  },
  {
"cell_type": "code",
	   "execution_count": null,
	   "metadata": {
	    "collapsed": true
	   },
	   "outputs": [],
"source": [
"//example3.24\n",
"clc\n",
"disp('50 kVA, P_i=500 W, P_cu(FL)=600 W')\n",
"disp('a)    cos(phi)=1, Full load')\n",
"n=(50*(10^3)*1*100)/((50*10^3)+500+600)\n",
"format(7)\n",
"disp('Therefore, %eta=(VA*cos(phi))/(VA*cos(phi)+P_i+P_cu(FL)) *100=(50*(10^3)*1*100)/((50*10^3)*1+500+600)= ')\n",
"k=50*sqrt(500/600)\n",
"format(8)\n",
"disp(k,'b) kVA at eta_max= kVA*sqrt(P_i/P_cu(FL))=50*sqrt(500/600)= ')\n",
"i=(50*10^3)/400\n",
"disp(i,'I_2(FL)[in A]=VA/V2=(50*10^3)/400=')\n",
"i=125*sqrt(500/600)\n",
"format(9)\n",
"disp(i,'I_2m(in A)=I_2(FL)*sqrt(P_i/P_cu(FL))=')"
   ]
   }
,
{
		   "cell_type": "markdown",
		   "metadata": {},
		   "source": [
			"## Example 3.25: flux_density_and_transformation_ratio_and_voltage_induced_and.sce"
		   ]
		  },
  {
"cell_type": "code",
	   "execution_count": null,
	   "metadata": {
	    "collapsed": true
	   },
	   "outputs": [],
"source": [
"//example3.25\n",
"clc\n",
"disp('N1=400, N2=1000, A=60 cm^2, f=50 Hz, E1=520 V')\n",
"disp('a) E1=4.44*(phi_m)*f*N1   i.e.    520=4.44*(phi_m)*50*400')\n",
"p=520/(4.44*50*400)\n",
"format(9)\n",
"disp(p,'Therefore, (phi_m)[in Wb]= ')\n",
"b=(5.8558*10^-3)/(60*10^-4)\n",
"format(7)\n",
"disp(b,'Therefore, (B_m)[in Wb/m^2]=(phi_m)/A= ')\n",
"k=1000/400\n",
"disp(k,'b) K=N2/N1=1000/400= ')\n",
"disp('c) N2/N1=E2/E1   i.e.    1000/400=E2/520')\n",
"e=(1000*520)/400\n",
"disp(e,'Therefore, E2(in V)=')\n",
"e=520/400\n",
"disp(e,'d) E1/turns=E1/N1=520/400=')\n",
"e=1300/1000\n",
"disp(e,'E2/turns=E2/N2=1300/1000=')"
   ]
   }
,
{
		   "cell_type": "markdown",
		   "metadata": {},
		   "source": [
			"## Example 3.26: voltage_regulation_and_efficiency.sce"
		   ]
		  },
  {
"cell_type": "code",
	   "execution_count": null,
	   "metadata": {
	    "collapsed": true
	   },
	   "outputs": [],
"source": [
"//example3.26\n",
"clc\n",
"disp('From O.C. test, P_i=Iron losses=75 W')\n",
"disp('From S.C. test, V_sc=9.5 V, I_sc=20A, W_sc=110 W')\n",
"disp('The meters are on H.V. side i.e. primary hence,')\n",
"z=9.5/20\n",
"format(6)\n",
"disp(z,'Z_1e(in ohm)=(V_sc)/(I_sc)=')\n",
"r=110/(20^2)\n",
"disp(r,'R_1e(in ohm)=(W_sc)/(I_sc)^2=')\n",
"x=sqrt((0.475^2)-(0.275^2))\n",
"format(7)\n",
"disp(x,'Therefore, (X_1e)[in ohm]=sqrt((Z_1e^2)-(R_1e^2))=')\n",
"i=(8*10^3)/400\n",
"disp(i,'I1(FL)[in A]=I_sc=VA/V1=(8*10^3)/400=')\n",
"disp('Therefore, (W_sc)[in W]=(P_cu)(FL)=110 W    ...Copper losses on full load')\n",
"disp('For   cos(phi)=0.8,  sin(phi)=0.6')\n",
"disp('Therefore, %R = I1(FL)*100*[R_1e*cos(phi)+X_1e*sin(phi)]')\n",
"r=(20*100*((0.275*0.8)+(0.3873*0.6)))/400\n",
"disp(r,' = 20*100*[0.275*0.8+0.3873*0.6]/400= ')\n",
"disp('%eta_FL= VA*cos(phi)/(VA*cos(phi)+P_i+P_cu(FL))*100')\n",
"n=((8*10^3)*0.8*100)/((8*0.8*10^3)+75+110)\n",
"format(6)\n",
"disp(n,'= ((8*10^3)*0.8*100)/((8*0.8*10^3)+75+110)= ')"
   ]
   }
,
{
		   "cell_type": "markdown",
		   "metadata": {},
		   "source": [
			"## Example 3.27: all_day_efficiency.sce"
		   ]
		  },
  {
"cell_type": "code",
	   "execution_count": null,
	   "metadata": {
	    "collapsed": true
	   },
	   "outputs": [],
"source": [
"//example3.27\n",
"clc\n",
"disp('Load distribution in hours is as give in the table.')\n",
"disp('P_i=Iron loss=1.6 kW, P_cu(FL)=3.02 kW')\n",
"disp('As iron losses are constant for 24 hours, energy spent due to iron losses,')\n",
"p=1.6*24\n",
"disp(p,'P_i(in kWh)=1.6*24= ')\n",
"e=(6*160)+(4*80)+(1*0)\n",
"disp(e,'Energy Output(in kWh)= (6*160)+(4*80)+(1*0) = ')\n",
"disp('To calulate energy spent due to copper loss:')\n",
"disp('Load 1: 160 kW, cos(phi)=0.8')\n",
"k=160/0.8\n",
"disp(k,'Therefore, kVA=kW/cos(phi)=160/0.8=')\n",
"e=3.02*6\n",
"disp(e,'Therefore, E1(in kWh)=P_cu(FL)*hours=3.02*6= ')\n",
"disp('Load 2: 80kW, cos(phi)=1')\n",
"k=80/1\n",
"disp(k,'Therefore, kVA=kW/cos(phi)=80/1=')\n",
"n=80/200\n",
"disp(n,'Therefore, n=Fraction of load=(load kVA)/(kVA rating)=80/200=')\n",
"p=(0.4^2)*3.02\n",
"format(7)\n",
"disp(p,'Therefore, P_cu(in kW)=(n^2)*P_cu(FL)=(0.4^2)*3.02=')\n",
"e=0.4832*4\n",
"disp(e,'Therefore, E2(in kWh)=P_cu*hours=0.4832*4=')\n",
"t=38.4+18.12+1.9328\n",
"format(8)\n",
"disp(t,'Total energy spent(in kWh)=P_i+E1+E2=38.4+18.12+1.9328= ')\n",
"n=(1280*100)/(1280+58.4528)\n",
"disp(n,'Therefore, All day eta=(total energy output in 24 hours*100)/(total energy output for 24 hours+total energy spent)=(1280*100)/(1280+58.4528)=')"
   ]
   }
,
{
		   "cell_type": "markdown",
		   "metadata": {},
		   "source": [
			"## Example 3.2: peak_value_of_flux_in_core_and_secondary_voltage.sce"
		   ]
		  },
  {
"cell_type": "code",
	   "execution_count": null,
	   "metadata": {
	    "collapsed": true
	   },
	   "outputs": [],
"source": [
"//example3.2\n",
"clc\n",
"disp('f=50 Hz, N1=480, N2=20, E1=5400 V')\n",
"disp('E1=4.44*f*(psi_m)*N1      i.e.     5400=4.44*50*(psi_m)*480')\n",
"p=5400/(4.44*50*480)\n",
"format(7)\n",
"disp(p,'Therefore, (psi_m)[in Wb]=')\n",
"disp('E1/E2=N1/N2  i.e.  E2=(N2*E1)/N1=(20*5400)/480')\n",
"e=(20*5400)/480\n",
"disp(e,'Therefore, E2(in V)=')"
   ]
   }
,
{
		   "cell_type": "markdown",
		   "metadata": {},
		   "source": [
			"## Example 3.3: iron_loss_and_maximum_value_of_flux_in_core.sce"
		   ]
		  },
  {
"cell_type": "code",
	   "execution_count": null,
	   "metadata": {
	    "collapsed": true
	   },
	   "outputs": [],
"source": [
"//example3.3\n",
"clc\n",
"disp('The given values are, (I_0)=10 A, cos(psi_0)=0.25, V1=400 V and f=50Hz')\n",
"disp('a) (I_m)=(I_0)*sin(psi_0)=Magnetising component')\n",
"p=acosd(0.25)\n",
"format(7)\n",
"disp(p,'(psi_0)[in degree]=')\n",
"i=10*sind(75.522)\n",
"disp(i,'I_m(in A)=,x')\n",
"disp('(P_i)=Iron loss = Power input on no load')\n",
"disp('= (W_0)= [(V1)*(I_0)*cos(psi_0)]= 400*10*0.25')\n",
"w=4000*0.25\n",
"disp(w,'P_i(in W)=')\n",
"disp('c) On no load, E1=V1=400 V and N1=500')\n",
"disp('E1=4.44*f*(psi_ m)*N1')\n",
"disp('Therefore, 400=4.44*50*(psi_m)*500')\n",
"i=400/(4.44*50*500)\n",
"format(9)\n",
"disp(i,'Therefore, (psi_m)[in Wb]=')"
   ]
   }
,
{
		   "cell_type": "markdown",
		   "metadata": {},
		   "source": [
			"## Example 3.4: primary_current.sce"
		   ]
		  },
  {
"cell_type": "code",
	   "execution_count": null,
	   "metadata": {
	    "collapsed": true
	   },
	   "outputs": [],
"source": [
"//example3.4\n",
"clc\n",
"disp('The given values are,')\n",
"disp('(I_0)=1 A, cos(psi_0)=0.4, I2=50 A, and cos(psi_2)=0.8')\n",
"k=200/400\n",
"disp(k,'K=E2/E1=')\n",
"k=0.5*50\n",
"disp(k,'Therefore, I2''(in A)=K*I2=')\n",
"disp('The angle of (I2'') is to be decided from cos(psi_2)=0.8')\n",
"disp('Now, cos(psi_2)=0.8')\n",
"p=acosd(0.8)\n",
"format(6)\n",
"disp(p,'Therefore, (psi_2)[in degree]=')\n",
"disp('I2'' is in antiphase with I2 which lags E2 by 36.86 degree')\n",
"disp('Consider the phasor diagram shown in the fig 3.18. The fluz (psi) is the reference')\n",
"disp('Now cos(psi_0)=0.4')\n",
"c=acosd(0.4)\n",
"disp(c,'Therefore, psi_0(in degree)')\n",
"disp('vector(I1)=vector(I2'')+vector(I_0)')\n",
"disp('Resolve (I_0) and (I2'') into two components, along reference (psi) and in quadrature with (psi) in phase with V1.')\n",
"x=1*sind(66.42)\n",
"format(7)\n",
"disp(x,'x component of (I_0)=(I_0)*sin(psi_0)=')\n",
"x=1*cosd(66.42)\n",
"format(4)\n",
"disp(x,'y component of (I_0)=(I_0)*(psi_0)=')\n",
"disp('Therefore, vector(I_0)=0.9165+j(0.4) A')\n",
"i=25*sind(36.86)\n",
"format(7)\n",
"disp(i,'x component of I2''(in A)=I2''*sin(psi_2)=')\n",
"i=25*0.8\n",
"disp(i,'y component of I2''(in A)=I2''*cos(psi_2)=')\n",
"disp('Thus the two component of I1 are as shown in the fig 3.18(c)')\n",
"io=sqrt((15.9165^2)+(20.4^2))\n",
"disp(io,'I1(in A)=sqrt[((15.9165)^2)+(20.4)^2]=')\n",
"disp('This is the primary current magnitude.')\n",
"disp('while tan(phi_1)=15.9165/20.4')\n",
"t=atand(15.9165/20.4)\n",
"disp(t,'Therefore, (psi_1)[in degree]=')\n",
"disp('Hence the primary power factor is,')\n",
"i=cosd(37.96)\n",
"disp(i,'cos(psi_1)[lagging]=cos(37.96)=')\n",
"disp('Key point: Remember that (psi_1) is angle between V1 and I1 and as V1 is vertical, (psi_1) is measured with respect V1. So do not convert rectangular to polar as it goes angle with respect to x-axis and we want it with respect to y-axis.')"
   ]
   }
,
{
		   "cell_type": "markdown",
		   "metadata": {},
		   "source": [
			"## Example 3.5: equivalent_resistance.sce"
		   ]
		  },
  {
"cell_type": "code",
	   "execution_count": null,
	   "metadata": {
	    "collapsed": true
	   },
	   "outputs": [],
"source": [
"//example3.5\n",
"clc\n",
"disp('The given values are, R1=2.5 ohm, R2=0.01 ohm')\n",
"k=400/6600\n",
"disp(k,'K=400/6600=')\n",
"disp('While finding eqivalent resistance referred to primary, transfer R2 to primary as R2'',')\n",
"r=0.01/((0.0606)^2)\n",
"disp(r,'R2''(in ohm)=R2/K^2=')\n",
"r=2.5+2.7225\n",
"format(7)\n",
"disp(r,'Therefore, (R_1e)[in ohm]=R1+R2''=')\n",
"disp('It can be observed that primary is high voltage hence high resistance side hence while transferring R2 from low  voltage to R2'' on high voltage, its value increses.')\n",
"disp('To find total equivalent resistance referred to secondary, first calculate R1'',')\n",
"r=2.5*(0.0606)^2\n",
"format(8)\n",
"disp(r,'R1''(in ohm)=(K^2)*R1=(0.0606^2)*2.5=')\n",
"r=0.01+0.00918\n",
"disp(r,'(R_2e)(in ohm)=R2*R1''=0.01*0.00918=')"
   ]
   }
,
{
		   "cell_type": "markdown",
		   "metadata": {},
		   "source": [
			"## Example 3.6: total_resistance_and_equivalent_reactance_and_impedance.sce"
		   ]
		  },
  {
"cell_type": "code",
	   "execution_count": null,
	   "metadata": {
	    "collapsed": true
	   },
	   "outputs": [],
"source": [
"//example3.6\n",
"clc\n",
"disp('R1=1 ohm, R2=2 ohm, X1=3 ohm, X2=5 ohm')\n",
"k=110/220\n",
"disp(k,'K=V2/V1=')\n",
"r=1+(2/((0.5)^2))\n",
"disp(r,'Therefore, (R_1e)[in ohm]=R1+R2''=R1+(R2/K^2)=')\n",
"x=3+(5/((0.5)^2))\n",
"disp(x,'Therefore, (X_1e)[in ohm]=X1+X2=X1+(X2/K^2)=')\n",
"z=sqrt((9^2)+(23^2))\n",
"format(8)\n",
"disp(z,'Therefore, (Z_1e)[in ohm]=sqrt((R_1e^2)+(X_1e^2))=')\n",
"r=9*(0.5^2)\n",
"disp(r,'Therefore, (R_2e)[in ohm]=(K^2)*(R_1e)=')\n",
"x=(0.5^2)*23\n",
"disp(x,'and, (X_2e)[in ohm]=(K^2)*(X_1e)=')\n",
"z=(0.5^2)*24.6981\n",
"format(7)\n",
"disp(z,'Therefore, (Z_2e)[in ohm]=sqrt((R_2e^2)+(X_2e^2))=(K^2)*(Z_1e)=')"
   ]
   }
,
{
		   "cell_type": "markdown",
		   "metadata": {},
		   "source": [
			"## Example 3.7: regulation_and_secondary_terminal_voltage.sce"
		   ]
		  },
  {
"cell_type": "code",
	   "execution_count": null,
	   "metadata": {
	    "collapsed": true
	   },
	   "outputs": [],
"source": [
"//example3.7\n",
"clc\n",
"disp('The given values are, R1=0.2 ohm, R2=0.05 ohm, X1=0.75 ohm, X2=0.2 ohm, cos(psi)=0.8 leading')\n",
"k=125/250\n",
"disp(k,'E2/E1=')\n",
"i=(5*10^3)/125\n",
"disp(i,'(I2)(F.L)[in A]=(kVA)/V2=')\n",
"r=0.05+((0.5^2)*0.2)\n",
"disp(r,'R_2e(in ohm)=R2+(K^2)*R1=')\n",
"x=0.2+((0.5^2)*0.75)\n",
"format(7)\n",
"disp(x,'X_2e(in ohm)=X2+(K^2)*X1=')\n",
"disp('i) Regulation on full load, cos(psi)=0.8 leading')\n",
"disp('sin(psi)=0.6')\n",
"disp('Therefore, %R=[(I2)*(R_2e)*cos(psi)-(I2)*(X_2e)*sin(psi)]/E2 * 100,       ..I2=I2(FL)=40 A')\n",
"disp(' = (40*0.1*0.8-40*0.3875*0.6)/125 * 100')\n",
"r=((40*0.1*0.8)-(40*0.3875*0.6))/1.25\n",
"format(5)\n",
"disp(r,' = ')\n",
"disp('ii) On full load, 0.8 p.f. leading the total voltage drop is,')\n",
"disp('Voltage drop(in V) = I2(FL)[(R_2e)cos(psi)-(X_2e)sin(psi)]')\n",
"v=40*((0.1*0.8)-(0.3875*0.6))\n",
"format(4)\n",
"disp(v,' = ')\n",
"disp('Therefore, E2-V2= -6.1  i.e.  125-V2= -6.1')\n",
"v=125+6.1\n",
"format(6)\n",
"disp(v,'Therefore, V2(in V)= Secondary terminal voltage = 125+ 6.1 =')"
   ]
   }
,
{
		   "cell_type": "markdown",
		   "metadata": {},
		   "source": [
			"## Example 3.8: total_copper_loss_and_efficiency.sce"
		   ]
		  },
  {
"cell_type": "code",
	   "execution_count": null,
	   "metadata": {
	    "collapsed": true
	   },
	   "outputs": [],
"source": [
"//example3.8\n",
"clc\n",
"disp('The given values are, V1=200 V, V2=400 V, S=4 kVA, (R_1e)=0.15 ohm, P1= 60 W')\n",
"k=4/2\n",
"disp(k,'K=400/200=')\n",
"r=(2^2)*0.15\n",
"disp(r,'Therefore, (R_2e)[in ohm]=(K^2)(R_1e)=')\n",
"i=4000/400\n",
"disp(i,'I2(FL)[in A]=(kVA)/V2=')\n",
"disp('i) Total copper losses on full load,')\n",
"p=(10^2)*0.6\n",
"disp(p,'(P_cu)(FL)[in W]=[I2(FL)]^2 * (R_2e) =(10^2)*0.6 =')\n",
"disp('ii) cos(psi)=0.9 lagging and full load')\n",
"disp('Therefore, %n = [(VA rating cos(psi))/(VA rating cos(psi)+(P_i)+(P_cu)FL)]*100')\n",
"n=(4*0.9*10^5)/((4*0.9*10^3)+60+60)\n",
"format(6)\n",
"disp(n,'Therefore, n(% efficiency)=(4*0.9*10^3)/((4*0.9*10^3)+60+60) * 100 =')\n",
"disp('iii) cos(psi)=0.8 leading, half load')\n",
"disp('As half load, n=0.5')\n",
"p=(0.5^2)*60\n",
"disp(p,'(P_cu)(HL)[in W]=(n^2)*[(P_cu)(FL)]=(10.5^2)*60 =')\n",
"disp('Therefore, %n = [n*(VA rating cos(psi))/(n*VA rating cos(psi)+(P_i)+(P_cu)FL)]*100')\n",
"n=(4*0.5*0.8*10^5)/((4*0.8*0.5*10^3)+60+15)\n",
"disp(n,' = ')"
   ]
   }
,
{
		   "cell_type": "markdown",
		   "metadata": {},
		   "source": [
			"## Example 3.9: maximum_efficiency.sce"
		   ]
		  },
  {
"cell_type": "code",
	   "execution_count": null,
	   "metadata": {
	    "collapsed": true
	   },
	   "outputs": [],
"source": [
"//exmaple3.9\n",
"clc\n",
"disp('(P_i)=1.2 kW, (P_cu)(FL)=1.5 kW, kVA=100')\n",
"n=100*sqrt(1.2/1.5)\n",
"format(8)\n",
"disp(n,'i) kVA for (n_max)=kVA*sqrt((P_i)/(P_cu))=')\n",
"disp('ii) For n_max, (P_cu)=(P_i)=-1.2 kW')\n",
"disp('Therefore, %(n_max)=[(kVA for n_max)*cos(psi)]/[(kVA for n_max)*cos(psi)+2(P_i)]*100      ..cos(psi)=1')\n",
"n=(89.4427*10^5)/((89.4427*10^3)+(2*1.2*10^3))\n",
"format(7)\n",
"disp(n,'%eta_max(in percentage) = ')"
   ]
   }
],
"metadata": {
		  "kernelspec": {
		   "display_name": "Scilab",
		   "language": "scilab",
		   "name": "scilab"
		  },
		  "language_info": {
		   "file_extension": ".sce",
		   "help_links": [
			{
			 "text": "MetaKernel Magics",
			 "url": "https://github.com/calysto/metakernel/blob/master/metakernel/magics/README.md"
			}
		   ],
		   "mimetype": "text/x-octave",
		   "name": "scilab",
		   "version": "0.7.1"
		  }
		 },
		 "nbformat": 4,
		 "nbformat_minor": 0
}
