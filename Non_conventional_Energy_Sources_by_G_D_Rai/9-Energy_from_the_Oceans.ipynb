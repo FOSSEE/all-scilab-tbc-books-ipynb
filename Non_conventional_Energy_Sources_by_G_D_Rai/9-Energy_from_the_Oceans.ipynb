{
"cells": [
 {
		   "cell_type": "markdown",
	   "metadata": {},
	   "source": [
       "# Chapter 9: Energy from the Oceans"
	   ]
	},
{
		   "cell_type": "markdown",
		   "metadata": {},
		   "source": [
			"## Example 9.3_5_1: Energy_Generated.sce"
		   ]
		  },
  {
"cell_type": "code",
	   "execution_count": null,
	   "metadata": {
	    "collapsed": true
	   },
	   "outputs": [],
"source": [
"//Ex9.3.5.1.;Calculate Energy generated\n",
"R=12;//unit=m; R is the range\n",
"r=3;//unit=m; the head below turbine stops operating\n",
"time=(44700/2);\n",
"A=30*10^6;\n",
"g=9.80;\n",
"p=1025;\n",
"//The total theoretical work W=integrate('1','w',R,r);\n",
"W=(g*p*A*((R^2)-(r^2)))/2;\n",
"printf(' W=%f ',W);\n",
"//The average power generated\n",
"Pav=W/time;//unit=watts\n",
"printf('\n The average power generated=%f watts',Pav);\n",
"pav=(Pav/1000)*3600;//unit=kWh\n",
"printf('\n The average power generated=%f kWh',pav)\n",
"//the energy generated\n",
"Energy_generated=pav*0.73\n",
"printf('\n Energy generated=%f kWh',Energy_generated);"
   ]
   }
,
{
		   "cell_type": "markdown",
		   "metadata": {},
		   "source": [
			"## Example 9.3_6_1: The_Yearly_Power_Output.sce"
		   ]
		  },
  {
"cell_type": "code",
	   "execution_count": null,
	   "metadata": {
	    "collapsed": true
	   },
	   "outputs": [],
"source": [
"//Ex9.3.6.1;calculate power in h.p. at any instant and the yearly power output\n",
"A=0.5*10^6;//unit=m\n",
"h0=8.5;//unit=m\n",
"t=3*3600//unit=s; since t=3 hr\n",
"p=1025;//unit=kg/m^3\n",
"h=8;//unit=m\n",
"n0=0.70;//efficiency of the generator;70%\n",
"//volume of the basin=Ah0\n",
"volume_of_the_basin=A*h0;\n",
"//Average discharge Q=volume/time period\n",
"Q=(A*h0)/t;\n",
"printf(' volume of the basin=%f m^3 \n Average discharge Q=%f m^3 /s',volume_of_the_basin,Q);\n",
"//power at any instant\n",
"P=((Q*p*h)/75)*n0;\n",
"printf('\n power at any instant P=%f h.p.',P);\n",
"//The total energy in kWh/tidal cycle\n",
"E=P*0.736*3;\n",
"printf('\n The total energy in kWh/tidal cycle E=%f',E);\n",
"//Total number of tidal cycle in a year=705\n",
"printf('\n Total number of tidal cycle in a year=705');\n",
"//Therefore Total output per annum\n",
"Total_output_per_annum=E*705;\n",
"printf('\n Total output per annum=%f kWh/year',Total_output_per_annum);\n",
"\n",
"//The value of 'power of instant' in a text book is misprinted."
   ]
   }
],
"metadata": {
		  "kernelspec": {
		   "display_name": "Scilab",
		   "language": "scilab",
		   "name": "scilab"
		  },
		  "language_info": {
		   "file_extension": ".sce",
		   "help_links": [
			{
			 "text": "MetaKernel Magics",
			 "url": "https://github.com/calysto/metakernel/blob/master/metakernel/magics/README.md"
			}
		   ],
		   "mimetype": "text/x-octave",
		   "name": "scilab",
		   "version": "0.7.1"
		  }
		 },
		 "nbformat": 4,
		 "nbformat_minor": 0
}
