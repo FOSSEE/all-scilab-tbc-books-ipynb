{
"cells": [
 {
		   "cell_type": "markdown",
	   "metadata": {},
	   "source": [
       "# Chapter 14: Thermionic Generation"
	   ]
	},
{
		   "cell_type": "markdown",
		   "metadata": {},
		   "source": [
			"## Example 14.4_1: Efficiency_of_the_generator_and_Carnot_efficiency.sce"
		   ]
		  },
  {
"cell_type": "code",
	   "execution_count": null,
	   "metadata": {
	    "collapsed": true
	   },
	   "outputs": [],
"source": [
"//Ex.14.4.1.;Calculate the efficiency of the generator and also compare with the carnot efficiency\n",
"\n",
"//cathode work funtion \n",
"flux_c=2.5;//unit=volts\n",
"//anode work funtion \n",
"flux_a=2;//unit=volts\n",
"//Temp. of cathode\n",
"Tc=2000;//unit=degree k\n",
"//Temp. of surrounding\n",
"Ts=1000;//unit=degree k\n",
"//plasma potentail drop\n",
"flux_p=0.1;//unit=volts\n",
"//Net output voltage\n",
"V=flux_c-flux_a-flux_p\n",
"printf(' V=%f volt',V);\n",
"//charge of an electron\n",
"e=1.6*10^-19;//unit=coulomb\n",
"//boltzmann constant\n",
"k=1.38*10^-23;//unit=joule/degree kelvin\n",
"A=1.20*10^6;\n",
"//one electron volt=1.6*10^-19 joule\n",
"//The net current in the generator J=J_cathode-J_anode\n",
"//let EC=e^(-flux_c/k*Tc)\n",
"EC=%e^[-(1.6*10^-19*flux_c)/(k*Tc)];\n",
"J_cathode=A*(Tc*Tc)*EC;//J_cathode=A*Tc^2*e^(-flux_c/k*Tc)\n",
"printf('\n J_cathode=%f amp/m^2',J_cathode);\n",
"//let EA=e^(-flux_c/k*Ts)\n",
"EA=%e^[-(1.6*10^-19*flux_a)/(k*Ts)];\n",
"J_anode=A*(Ts^2)*EA;//J_cathode=A*Ts^2*e^(-flux_c/k*Ts)\n",
"printf('\n J_anode=%f amp/m^2',J_anode);\n",
"//The net current can be taken =Jc,as Ja can be neglected in comparison with Jc\n",
"J=J_cathode;\n",
"printf('\n J=%f amp/m^2',J);\n",
"//The heat supplied to the cathode Qc/Ac=J(flux_c+((2*k*Tc)/e))+samestion of sigma*(Tc^4-Ts^4)\n",
"//let QA=Qc/Ac; and\n",
"a=2.5+((2*1.38*10^-23*2000)/(1.6*10^-19));\n",
"b=J*a;\n",
"c=(0.2*5.67*(10^-12)*(10^-4)*((2000^4)-(1000^4)));\n",
"//therefore\n",
"QA=b+c; //since: QA=(J*(2.5+((2*(1.38*10^-23)*2000*)/(1.6*10^-19))))+(0.2*5.67*(10^-12)*(10^-4)*((2000^4)-(1000^4)))\n",
"printf('\n The heat supplied to the cathode Qc/Ac=%f watt/m^2',QA);\n",
"//efficiency of the generator\n",
"ng=((J*V)/(7.026*10^6))*100;\n",
"printf('\n ng=%f persent',ng);\n",
"//carnot efficiency this device\n",
"T1=2000;\n",
"T2=1000;\n",
"T=2000;\n",
"nc=((T1-T2)/T)*100;\n",
"printf('\n nc=%f persent',nc);\n",
"\n",
"\n",
"//Value of 'The heat supplied to the cathode Qc/Ac' is given wrong\n",
"//value of charge e is taken wrong;corrected by giving value 1.6*10^-19\n",
"//value of J anode is differ from calculated value. "
   ]
   }
],
"metadata": {
		  "kernelspec": {
		   "display_name": "Scilab",
		   "language": "scilab",
		   "name": "scilab"
		  },
		  "language_info": {
		   "file_extension": ".sce",
		   "help_links": [
			{
			 "text": "MetaKernel Magics",
			 "url": "https://github.com/calysto/metakernel/blob/master/metakernel/magics/README.md"
			}
		   ],
		   "mimetype": "text/x-octave",
		   "name": "scilab",
		   "version": "0.7.1"
		  }
		 },
		 "nbformat": 4,
		 "nbformat_minor": 0
}
