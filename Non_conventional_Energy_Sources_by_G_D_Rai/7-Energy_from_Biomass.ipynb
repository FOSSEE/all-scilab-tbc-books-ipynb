{
"cells": [
 {
		   "cell_type": "markdown",
	   "metadata": {},
	   "source": [
       "# Chapter 7: Energy from Biomass"
	   ]
	},
{
		   "cell_type": "markdown",
		   "metadata": {},
		   "source": [
			"## Example 7.15_1: Volume_of_biogas_digester_and_power_available_from_the_digester.sce"
		   ]
		  },
  {
"cell_type": "code",
	   "execution_count": null,
	   "metadata": {
	    "collapsed": true
	   },
	   "outputs": [],
"source": [
"//Ex7.15.1; calculate volume of biogas digester and power available from the digester\n",
"//Mass of the dry input\n",
"M0=2*5;//M0=2.5 kg/day * 5\n",
"pm=50;//unit=kg/m^3\n",
"tr=20;//retention time in days\n",
"C=0.24;//unit=m^3 per kg;Biogas yeild.\n",
"n=0.6;//efficiency of burner\n",
"Hm=28;//unit=MJ/m^3//combustion of methane\n",
"Fm=0.8;//methane proportional\n",
"//Fluid volume Vf is =M0/pm\n",
"Vf=M0/pm;\n",
"printf(' Mass of the dry input M0=%f kg/day \n Fluid volume Vf=%f m^3 /day',M0,Vf);\n",
"//for expression Vd=Vftr,the digester volume is\n",
"Vd=Vf*tr;\n",
"printf('\n Vd=%f m^3',Vd);\n",
"//volume of biogas is Vb=C*M0= biogas yield input * mass of dry input\n",
"Vb=C*M0;\n",
"printf('\n volume of biogas is Vb=%f m^3 /day',Vb);\n",
"//The Power available from the digester is\n",
"E=n*Hm*Fm*Vb;\n",
"printf('\n The Power available from the digester=%f Mj/day',E);\n",
"E=E*0.2728;//unit=kWh/day\n",
"printf('=%f kWh/day',E);\n",
"E=E*41.8//unit=W(continuous thermal)\n",
"printf('=%f W(continuous thermal)',E);"
   ]
   }
],
"metadata": {
		  "kernelspec": {
		   "display_name": "Scilab",
		   "language": "scilab",
		   "name": "scilab"
		  },
		  "language_info": {
		   "file_extension": ".sce",
		   "help_links": [
			{
			 "text": "MetaKernel Magics",
			 "url": "https://github.com/calysto/metakernel/blob/master/metakernel/magics/README.md"
			}
		   ],
		   "mimetype": "text/x-octave",
		   "name": "scilab",
		   "version": "0.7.1"
		  }
		 },
		 "nbformat": 4,
		 "nbformat_minor": 0
}
