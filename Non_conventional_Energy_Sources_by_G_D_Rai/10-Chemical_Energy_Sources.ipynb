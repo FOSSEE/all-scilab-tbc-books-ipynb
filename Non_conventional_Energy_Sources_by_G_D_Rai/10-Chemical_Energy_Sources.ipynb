{
"cells": [
 {
		   "cell_type": "markdown",
	   "metadata": {},
	   "source": [
       "# Chapter 10: Chemical Energy Sources"
	   ]
	},
{
		   "cell_type": "markdown",
		   "metadata": {},
		   "source": [
			"## Example 10.2_8_1: Reversible_Voltage_for_Hydrogen_oxygen_fuel_cell.sce"
		   ]
		  },
  {
"cell_type": "code",
	   "execution_count": null,
	   "metadata": {
	    "collapsed": true
	   },
	   "outputs": [],
"source": [
"//Ex10.2.8.1;Find Reversible voltage for hydrogen oxygen fuel cell\n",
"del_G=-237.3*10^3;//Joules/gm-mole of H2\n",
"//Reversible voltafe E of a cell is given by =del_Wrev/nF=-del_G/nF\n",
"//since 2 electrons are transferred per molecule of H2.thus\n",
"n=2;\n",
"F=96500;//Faraday's constant\n",
"E=-del_G/(n*F);\n",
"printf('Reversible voltage=%f volts',E);"
   ]
   }
,
{
		   "cell_type": "markdown",
		   "metadata": {},
		   "source": [
			"## Example 10.2_8_2: Voltage_output_and_efficiency_and_heat_transfer.sce"
		   ]
		  },
  {
"cell_type": "code",
	   "execution_count": null,
	   "metadata": {
	    "collapsed": true
	   },
	   "outputs": [],
"source": [
"//Ex10.2.8.2;calculate voltage output of cell,efficiency,electric work output,heat transfer to the surroundings\n",
"\n",
"//1] voltage output of cell\n",
"del_G=-237.3*10^3;//Joules/gm-mole of H2\n",
"n=2;\n",
"F=96500;//Faraday's constant\n",
"E=-del_G/(n*F);\n",
"printf(' E=%f volts',E);\n",
"//2] Efficiency\n",
"//nmax=del_Wmax/-(del_H)25 degree celcuis = -(del_G)T/(-del_H)25\n",
"del_G_at298k=-56690;//unit=kcal/kg mole\n",
"del_H_at298k=-68317;//unit=kcal/kg mole\n",
"nmax=del_G_at298k/del_H_at298k,\n",
"printf('\n nmax=%f',nmax);\n",
"//3]Electric work output per mole\n",
"F=(96500/4.184);\n",
"del_Wrever=(n*F*E);\n",
"printf('\n Electric work output per mole=%f kcal/kg mole',del_Wrever);\n",
"//4] Heat transfer to the surroundings\n",
"//the heat transfer is Q=T*del-s=del_H_at298k-del_G_at298k\n",
"Q=del_H_at298k-del_G_at298k;\n",
"printf('\n The heat transfer is Q=%f kcal/kg mole',Q);\n",
"//The negative sign indicates that the heat is removed from the cell and transferred to the surrounding\n",
"\n",
"//value of 'Electric work output per mole' is approximate in the text book to the real calculated value"
   ]
   }
,
{
		   "cell_type": "markdown",
		   "metadata": {},
		   "source": [
			"## Example 10.2_8_3: Voltage_output_and_efficiency_and_heat_transferred.sce"
		   ]
		  },
  {
"cell_type": "code",
	   "execution_count": null,
	   "metadata": {
	    "collapsed": true
	   },
	   "outputs": [],
"source": [
"//Ex10.2.8.3;The heat transferred to the surrounding\n",
"del_G_at298k=-237191;//unit=kJ/kg mole\n",
"del_H_at298k=-285838;//unit=kJ/kg mole\n",
"ne=2;\n",
"F=96500;//Faraday's constant\n",
"E=-del_G_at298k/(ne*F);\n",
"printf(' E=%f volts',E);\n",
"nmax=del_G_at298k/del_H_at298k,\n",
"printf('\n nmax=%f',nmax);\n",
"nmax=nmax*100;\n",
"printf('=%f persent',nmax);\n",
"//Electric work output per mole of the fule is We=-del_G kJ/kg mole\n",
"We=del_G_at298k;//kJ/kg mole\n",
"printf('\n Electric work output per mole of the fule is We=%f kJ/kg mole',We);\n",
"//since there is 1 mol os H2O for each mole of fule,there is also a work output of 237191 kJ/kg mole\n",
"//Heat transferred is Q=T*del-s=del_H_at298k-del_G_at298k\n",
"Q=del_H_at298k-del_G_at298k;\n",
"printf('\n The heat transfer is Q=%f kJ/kg mole',Q);\n",
"//The negative sign indicates that the heat is removed from the cell and transferred to the surrounding\n",
"\n",
"//value of 'Electric work output per mole' is misprinted in the text book."
   ]
   }
,
{
		   "cell_type": "markdown",
		   "metadata": {},
		   "source": [
			"## Example 10.2_8_4: Gibbs_free_energy_and_Entropy_change.sce"
		   ]
		  },
  {
"cell_type": "code",
	   "execution_count": null,
	   "metadata": {
	    "collapsed": true
	   },
	   "outputs": [],
"source": [
"//Ex10.2.8.4;calculate del_G,del_S,del_H;\n",
"\n",
"//We have the relation del_G=-n*F*E\n",
"//where,del_G=gibbs free energy of the system at 1 atm and temperature(T)\n",
"n=1;//numbers of electons transferred per molecule of reactant\n",
"E=0.0455;//volts ;e.m.f. of the cell\n",
"F=96500;//Faraday's constant\n",
"//let X=dE/dT\n",
"X=0.000338;\n",
"del_G=-n*F*E;\n",
"printf(' del_G=%f joules',del_G);\n",
"//del_S = Entropy change of the system at temperature T and press p=1 atm in the case\n",
"del_S=n*F*(X);//del_S=n*F*(dE/dT)\n",
"printf('\n del_S=%f joules/deg.',del_S);\n",
"//And entropy change is given by the relation del_H=nF[T(dE/dT)-E]\n",
"T=298;\n",
"del_H=n*F*((T*X)-E);\n",
"printf('\n del_H=%f joule',del_H);\n",
"\n",
"\n",
"//value are taken approximate in the text book to the real calculated value"
   ]
   }
,
{
		   "cell_type": "markdown",
		   "metadata": {},
		   "source": [
			"## Example 10.2_8_5: Heat_transfer_rates.sce"
		   ]
		  },
  {
"cell_type": "code",
	   "execution_count": null,
	   "metadata": {
	    "collapsed": true
	   },
	   "outputs": [],
"source": [
"//Ex10.2.8.5;heat transfer rate would be involved under these circumstances\n",
"\n",
"del_G_at25degree_celcius=-195500;//unit=cal/gm mole\n",
"del_H_at25degree_celcius=-212800;//unit=cal/gm mole\n",
"F=(96500/4.184);//since F=96500 coulombs/gm-mole\n",
"n=8\n",
"E_at25degree_celcius=-del_G_at25degree_celcius/(n*F);//Joules/coulomb\n",
"printf(' E_at25degree_celcius=%f volts=1.060 volts',E_at25degree_celcius);\n",
"//Max. efficiency  nmax=del_Wmax/-(del_H)at25 degree celcuis = -(del_G)T/(-del_H)25\n",
"nmax=del_G_at25degree_celcius/del_H_at25degree_celcius;\n",
"printf('\n nmax=%f',nmax);\n",
"//voltage efficiency nv=on load voltage/open circuit voltage=Operating voltage/Theoretical voltage\n",
"Theoretical_voltage=1.060/0.92;\n",
"printf('\n Theoretical_voltage=%f volts',Theoretical_voltage);\n",
"//power developed=100 kW=100*10^3 W\n",
"power_developed=(100*10^3)*0.86;//unit=kcal/hr; since 1 watt=1 joule/sec=0.86 kcal/hr\n",
"printf('\n power_developed=%f kcal/hr',power_developed);\n",
"del_G=-195500;\n",
"//Required flow rate of Methane\n",
"R_F_R_O_M=(power_developed*16)/del_G;//kg/hr;\n",
"//(methane moles)=16\n",
"printf('\n flow rate of Methane=%f kg/hr',R_F_R_O_M);\n",
"//Heat transfer Q=T8del_s=del_H+del_w=del_H-del_G\n",
"Q=del_H_at25degree_celcius-del_G_at25degree_celcius;\n",
"printf('\n The heat transfer is Q=%f kcal/kg mole',Q);\n",
"\n",
"//The value are approximate in the text book to the real calculated value\n",
"//value of 'Required flow rate of methane' is wrong in the text book.\n",
"//value of 'Heat transfer' is wrong in the text book."
   ]
   }
],
"metadata": {
		  "kernelspec": {
		   "display_name": "Scilab",
		   "language": "scilab",
		   "name": "scilab"
		  },
		  "language_info": {
		   "file_extension": ".sce",
		   "help_links": [
			{
			 "text": "MetaKernel Magics",
			 "url": "https://github.com/calysto/metakernel/blob/master/metakernel/magics/README.md"
			}
		   ],
		   "mimetype": "text/x-octave",
		   "name": "scilab",
		   "version": "0.7.1"
		  }
		 },
		 "nbformat": 4,
		 "nbformat_minor": 0
}
