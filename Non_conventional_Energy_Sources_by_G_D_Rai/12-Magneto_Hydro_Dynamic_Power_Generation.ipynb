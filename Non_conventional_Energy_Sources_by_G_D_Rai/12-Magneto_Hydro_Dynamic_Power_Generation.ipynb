{
"cells": [
 {
		   "cell_type": "markdown",
	   "metadata": {},
	   "source": [
       "# Chapter 12: Magneto Hydro Dynamic Power Generation"
	   ]
	},
{
		   "cell_type": "markdown",
		   "metadata": {},
		   "source": [
			"## Example 12.6_1: Open_circuit_voltage_and_maximum_power_output.sce"
		   ]
		  },
  {
"cell_type": "code",
	   "execution_count": null,
	   "metadata": {
	    "collapsed": true
	   },
	   "outputs": [],
"source": [
"//Ex12.6.1.;calculate open circuit voltage and maximum power output\n",
"B=2;//flux density;unit=Wb/m^2\n",
"u=10^3;//average gas velocity;unit=m/second\n",
"d=0.50;//distance between plates;unit=m\n",
"E0=B*u*d;//Open ccircuit voltage\n",
"printf(' Open ccircuit voltage E0=%f Volts',E0);\n",
"//Generator resistance; Rg=d/sigma*A\n",
"sigma=10;//Gaseous conductivity;unit=Mho/m\n",
"A=0.25;//Plate Area;unit=m^2 \n",
"Rg=d/(sigma*A);\n",
"printf('\n Generator resistance Rg=%f Ohm',Rg);\n",
"//Maximum power\n",
"Maximum_power=(E0^2)/(4*Rg);\n",
"printf('\n Maximum_power=%f watts',Maximum_power);"
   ]
   }
],
"metadata": {
		  "kernelspec": {
		   "display_name": "Scilab",
		   "language": "scilab",
		   "name": "scilab"
		  },
		  "language_info": {
		   "file_extension": ".sce",
		   "help_links": [
			{
			 "text": "MetaKernel Magics",
			 "url": "https://github.com/calysto/metakernel/blob/master/metakernel/magics/README.md"
			}
		   ],
		   "mimetype": "text/x-octave",
		   "name": "scilab",
		   "version": "0.7.1"
		  }
		 },
		 "nbformat": 4,
		 "nbformat_minor": 0
}
