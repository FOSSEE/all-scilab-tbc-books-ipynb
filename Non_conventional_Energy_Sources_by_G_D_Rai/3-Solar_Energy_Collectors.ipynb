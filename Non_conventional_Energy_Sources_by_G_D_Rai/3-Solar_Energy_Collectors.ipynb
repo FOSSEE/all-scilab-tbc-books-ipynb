{
"cells": [
 {
		   "cell_type": "markdown",
	   "metadata": {},
	   "source": [
       "# Chapter 3: Solar Energy Collectors"
	   ]
	},
{
		   "cell_type": "markdown",
		   "metadata": {},
		   "source": [
			"## Example 3.6_1: Solar_altitude_angle_and_Incident_angle_and_Collector_efficiency.sce"
		   ]
		  },
  {
"cell_type": "code",
	   "execution_count": null,
	   "metadata": {
	    "collapsed": true
	   },
	   "outputs": [],
"source": [
"//Ex3.6.1.;calculate: solar altitude anglr,Incident angle,Collector efficiency\n",
"\n",
"//Solar declination :delta\n",
"n=1\n",
"delta=23.45*sin((360/365)*(284+n));\n",
"printf(' Solar declination delta=%f degree',delta);\n",
"fie=22;//degree\n",
"//solar hour angle ws=0,(at mean of 11:30 and 12:30)\n",
"ws=0;\n",
"//Solar altitude anglr alpha is given by\n",
"\n",
"//alpha=asind(((cos(fie)*cos(delta)*cos(ws))+(sin(fie)*sin(delta)))\n",
"//let\n",
"a=cos((22*%pi)/180)*cos((-23*%pi)/180)*cos(0);\n",
"b=sin((22*%pi)/180)*sin((-23*%pi)/180);\n",
"//therefore\n",
"sin_alpha=a+b;\n",
"printf('\n sin_aplha=%f',sin_alpha);\n",
"alpha=asind(sin_alpha);\n",
"printf('\n aplha=%f Degree',alpha);\n",
"//Incident angle\n",
"theta=(180/2)-alpha;\n",
"printf('\n Incident angle=%f Degree',theta);\n",
"//Rb is given by\n",
"Rb=((cos(((22*%pi)/180)-(37*%pi)/180)*cos((-23*%pi)/180)*cos(0))+(sin(((22*%pi)/180)-(37*%pi)/180)* sin((-23*%pi)/180)))/sin_alpha;\n",
"printf('\n Rb=%f',Rb);\n",
"//Effective absorptance product is <t.alpha>=t.alpha/ 1-(1-alpha)*pd\n",
"pd=0.24;//Diffuse reflectance for two glass covers\n",
"//let TA=<t.alpha>\n",
"TA=(0.88*0.90)/(1-(1-0.90)*pd);\n",
"printf('\n Effective absorptance product is <t.alpha>=%f',TA);\n",
"//Solar radiation intensity(consider beam radiation only)\n",
"//Hb=0.5 ly/mm = 0.5 cal/cm^2 * min\n",
"Hb=((0.5*10^4)/10^3)*60;//unit=kcal/m^2 hr\n",
"printf('\n Hb=%f kcal/m^2 hr',Hb);\n",
"Hb=Hb*1.163;//unit=W/m^2 hr;   [since  1 kcal = 1.163 watt]\n",
"printf('\n Hb=%f W/m^2 hr',Hb);\n",
"//S=Hb*Rb*<t.alpha>\n",
"S=Hb*Rb*TA;\n",
"printf('\n S=%f W/m^2 hr',S);\n",
"s=S/1.163;\n",
"printf('\n S=%f kcal/m^2 hr',s);\n",
"//Useful gain\n",
"//qu=FR(S-UL*(Tfi-Ta))\n",
"qu=0.810*(s-(6.80*(60-15)))\n",
"printf('\n qu=%f kcal/m^2 hr',qu);\n",
"//Qu=FR(S-UL*(Tfi-Ta))\n",
"Qu=0.810*(S-(7.88*(60-15)))\n",
"printf('\n qu=%f W/m^2 hr',Qu);\n",
"//Collection Efficiency  : nc=(qu/(Hb*Rb))*100;\n",
"nc=(28.07/(300*Rb))*100;\n",
"printf('\n Collection Efficiency=%f persent',nc);\n",
"\n",
"\n",
"//values of 'sine alpha' in the textbook is taken approximate to the real values"
   ]
   }
,
{
		   "cell_type": "markdown",
		   "metadata": {},
		   "source": [
			"## Example 3.9_1: Useful_gain_and_exit_fluid_temperature_and_collection_efficiency.sce"
		   ]
		  },
  {
"cell_type": "code",
	   "execution_count": null,
	   "metadata": {
	    "collapsed": true
	   },
	   "outputs": [],
"source": [
"//calculate the useful gain,exit fluid temperature and collection efficiency\n",
"//Optical properties are estimated as\n",
"p=0.85;\n",
"//(T. alpha)=0.77;let A=(T. alpha)\n",
"A=0.77\n",
"gama=0.94;\n",
"Do=0.06;\n",
"L=8;//unit=meter,//L=length of concentrator\n",
"W=2;//W=width of concentrator in meter\n",
"dco=0.09;//dco=diameter of transpaarent cover\n",
"Ar= %pi*Do*L;//Ar=area of the receiver pipe\n",
"A_alpha=(W-dco)*L;//aperture area of the concentration\n",
"Cp=0.30;//unit=kcal/kg degree calcius\n",
"m=400;//unit=kg/hr,m=flow rate\n",
"HbRb=600;//unit=kcal/hr m^2\n",
"Tfi=150;//degree calcius\n",
"T_alpha=25;//degree calcius\n",
"//Heat transfer coefficient from fluid inside to surroundings,\n",
"Uo=5.2;//unit=kcal/hr-m^2\n",
"//Heat transfer coefficient from absorber cover surface to surroundings,\n",
"UL=6;//unit=kcal/hr-m^2\n",
"F=(Uo/UL);\n",
"//Heat removed factor FR is\n",
"//FR=((m*Cp)/(Ar*UL))*(1-(%e^-((Ar*UL*F)/(m*Cp))))\n",
"//let X=(m*Cp)/(Ar*UL);Y=(%e^-((Ar*UL*F)/(m*Cp)))\n",
"X=(m*Cp)/(1.51*UL*0.86);\n",
"Y=%e^(-1/X);\n",
"FR=X*0.86*(1-Y);\n",
"//Absorbed solar energy is\n",
"S=HbRb*p*gama*A;\n",
"printf(' Area of the receiver pipe Ar= %f=1.51 m^2 \n A_aplha= %f m^2=collection efficiency factor ',Ar,A_alpha);\n",
"printf('\n value of F= %f',F);\n",
"printf('\n Heat removed factor FR=%f \n Absorbed solar energy is \n S=%f kcal/Hr m^2 .....(MKS) ',FR,S);\n",
"//for unit in S.I.   , 1 kcal/Hr m^2 = 1.16298 W/m^2\n",
"s= S*1.16298; //in W/m^2\n",
"printf('\n S=%f W/m^2.....(SI)',s);\n",
"//the values of F,FR will be same in any unit,since they are factors(dimensionless)\n",
"//Useful Gain=Qu=A_alpha*FR*(S-((Ar*UL)/A_alpha)*(Tfi-T_alpha))\n",
"//In MKS unit\n",
"Qu=A_alpha*FR*(S-((1.51*UL)/A_alpha)*(Tfi-T_alpha))\n",
"printf('\n useful gain in (MKS) Qu=%f kcal/hr',Qu);\n",
"//IN SI unit\n",
"qu=A_alpha*FR*(s-((1.51*6.98)/A_alpha)*(Tfi-T_alpha))//UL=6.98 W/m^2 degree celcius\n",
"printf('\n useful gain in (SI) Qu=%f Watt',qu);\n",
"//the exit fluid temperature can be obtained from\n",
"tci=150;//degree celcius\n",
"tco=tci+(Qu/(m*Cp));//from Qu=mCp(tco-tc);  where, tco=collector fluid temp. at outlet,tci=Fluid inlet temp.\n",
"n=(Qu/(16*HbRb))*100;//ncollector=Qu/(A_alpha*HbRb)*100;\n",
"printf('\n collector fluid temp. at outlet  tco=%f degree celcius \n ncollector = %f percent ',tco,n);\n",
"\n",
"//The values/results/answers is approximate in the text book to the real calculated value"
   ]
   }
],
"metadata": {
		  "kernelspec": {
		   "display_name": "Scilab",
		   "language": "scilab",
		   "name": "scilab"
		  },
		  "language_info": {
		   "file_extension": ".sce",
		   "help_links": [
			{
			 "text": "MetaKernel Magics",
			 "url": "https://github.com/calysto/metakernel/blob/master/metakernel/magics/README.md"
			}
		   ],
		   "mimetype": "text/x-octave",
		   "name": "scilab",
		   "version": "0.7.1"
		  }
		 },
		 "nbformat": 4,
		 "nbformat_minor": 0
}
