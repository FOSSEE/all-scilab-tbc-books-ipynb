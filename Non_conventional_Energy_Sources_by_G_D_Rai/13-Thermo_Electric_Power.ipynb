{
"cells": [
 {
		   "cell_type": "markdown",
	   "metadata": {},
	   "source": [
       "# Chapter 13: Thermo Electric Power"
	   ]
	},
{
		   "cell_type": "markdown",
		   "metadata": {},
		   "source": [
			"## Example 13.2_1: Peltier_heats_absorbed_and_rejected.sce"
		   ]
		  },
  {
"cell_type": "code",
	   "execution_count": null,
	   "metadata": {
	    "collapsed": true
	   },
	   "outputs": [],
"source": [
"//Ex13.2.1.;Peltier heats absorbed and rejected\n",
"//peltier coefficients at these junctions are aplha_p_1-2=alpha_s_1-2*T\n",
"//Let A=alpha_s_1-2 at 373 k=55*10^-6 v/degree_k and B=alpha_s_1-2 at 273 k=50*10^-6 v/degree_k\n",
"A=(55*10^-6);\n",
"B=(50*10^-6);\n",
"T1=373;//k\n",
"T2=273;//k\n",
"I=10*10^-3;//current;unit=Ampere\n",
"alpha_p_1_2_at_373k=A*T1;\n",
"alpha_p_1_2_at_273k=B*T2;\n",
"printf(' alpha_p_1_2_at_373k=%f W/amp \n alpha_p_1_2_at_273k=%f W/amp',alpha_p_1_2_at_373k=A*T1,alpha_p_1_2_at_273k=B*T2);\n",
"//Peltier heats absorned and rejected to be\n",
"q2_peltier=alpha_p_1_2_at_373k*I;\n",
"q1_peltier=alpha_p_1_2_at_273k*I;\n",
"printf('\n q2_peltier=%f w \n q1_peltier=%f W',q2_peltier,q1_peltier);\n",
"c=q2_peltier-q1_peltier;\n",
"printf('\n If no other heat transfer were involved,the difference between these vaues,');\n",
"printf('\n %f-%f=%f W,would be supplied as electric power',q2_peltier,q1_peltier,c);"
   ]
   }
,
{
		   "cell_type": "markdown",
		   "metadata": {},
		   "source": [
			"## Example 13.3_2: Thomson_heat_transferred.sce"
		   ]
		  },
  {
"cell_type": "code",
	   "execution_count": null,
	   "metadata": {
	    "collapsed": true
	   },
	   "outputs": [],
"source": [
"//Ex.13.3.2.;Find the thomson heat transferred\n",
"\n",
"\n",
"//Let D=dalpha_s1/dT;\n",
"D=5.4*10^-3;//unit=micro V/degree k^2\n",
"T1=273;//unit=k\n",
"T2=373;//unit=k\n",
"I=10*10^-3;//unit=A\n",
"//Thomson coefficient sigma,varies with temp. \n",
"//sigma_1_of_T=-T*D;unit=V/degree k\n",
"//The thomson heat is given by equation\n",
"//qth=I*Integration of sigma_1_of_T  w.r.t. T\n",
"Integration=integrate('T','T',T1,T2);\n",
"qth=I*D*Integration;\n",
"printf('The THOMSON HEAT=%f micro W',qth);"
   ]
   }
,
{
		   "cell_type": "markdown",
		   "metadata": {},
		   "source": [
			"## Example 13.4_1: Carnot_Efficiency.sce"
		   ]
		  },
  {
"cell_type": "code",
	   "execution_count": null,
	   "metadata": {
	    "collapsed": true
	   },
	   "outputs": [],
"source": [
"//Ex13.4.1.;Determine the efficiency of the thermoelectric generator.what will be its carnot efficiency\n",
"\n",
"TH=600;//degree k;//temperature of the hot reservior of source\n",
"TC=300;//degree k;//temperature of the sink\n",
"Z=2*(10^-3);//1/degree k;//Figure of merit for the material\n",
"M_optimum=(1+((Z/2)*(TH+TC)))^0.5;\n",
"printf(' M_optimum=%f',M_optimum);\n",
"//Efficiency of the thermoelectric generator is n=(((TH-TC)/TH)*((M_optimum-1)/(M_optimum+(TC/TH)))*100;\n",
"a=((TH-TC)/TH);\n",
"b=(M_optimum-1)/(M_optimum+(TC/TH));\n",
"n=a*b*100;\n",
"printf('\n Efficiency of the thermoelectric generator is n=%f persent',n);\n",
"//where as efficiency of the carnot cycle (reversible) nc=((TH-TC)/TH)*100\n",
"nc=a*100;\n",
"printf('\n Efficiency of the carnot cycle (reversible) nc=%f persent',nc);"
   ]
   }
,
{
		   "cell_type": "markdown",
		   "metadata": {},
		   "source": [
			"## Example 13.4_2: Maximum_generator_efficiency_and_Power_Output.sce"
		   ]
		  },
  {
"cell_type": "code",
	   "execution_count": null,
	   "metadata": {
	    "collapsed": true
	   },
	   "outputs": [],
"source": [
"//Ex13.4.12.;Calculare maximum generator efficiency and the efficiency for maximum power,power output\n",
"\n",
"//seedbeck coefficient(alpha_s);unit=volts/degree celcius\n",
"alpha_s1=-190*10^-6;//n-type\n",
"alpha_s2=190*10^-6;//p-type\n",
"//Specific resistivity(p);unit=Ohm-cm\n",
"p1=1.45*10^-3;//n-type\n",
"p2=1.8*10^-3;//p-type\n",
"//Figure of merit(Z);unit=degree k^-1\n",
"Z1=2*10^-3;//n-type\n",
"Z2=1.7*10^-3;//p-type\n",
"\n",
"\n",
"//conductivity (n-type), \n",
"k1=(alpha_s1^2)/(p1*Z1);\n",
"//similarly\n",
"k2=(alpha_s2^2)/(p2*Z2);\n",
"printf(' Conductivity k1=%f W/cm degree celcius \n Conductivity k2=%f W/cm degree celcius',k1,k2);\n",
"//Z_opt=((alpha_s1-alpha_s2)^2)/[(p1*k1)^2+(p2*k2)^2];\n",
"//let\n",
"a=(alpha_s1-alpha_s2)\n",
"b=(p1*k1)\n",
"c=(p2*k2)\n",
"A=sqrt(b)\n",
"B=sqrt(c)\n",
"C=(A+B);\n",
"///therefore\n",
"Z_opt=(a/C)^2;\n",
"printf('\n Z_opt=%f degree k',Z_opt);\n",
"//Thermal conductance\n",
"A1=2.3;//cm^2\n",
"A2=1.303;//cm^2\n",
"l1=1.5;//cm\n",
"l2=0.653;//cm\n",
"K=((k1*A1)/l1)+((k2*A2)/l2)\n",
"printf('\n Thermal conductance K=%f W/degree celcius',K);\n",
"//R=Resistance of the generator=R1+R2\n",
"R=((p1*l1)/A1)+((p2*l2)/A2);\n",
"printf('\n Resistance of the generator R=%f ohm',R);\n",
"TH=923;//unit=k\n",
"TC=323;//unit=k\n",
"M_opt=(1+((Z_opt/2)*(TH+TC)))^0.5;\n",
"printf('\n M_opt=%f ohm',M_opt);\n",
"RL=M_opt*R;\n",
"printf('\n RL=%f ohms',RL);\n",
"//Optimum efficiency n_opt=(((TH-TC)/TH)*((M_opt-1)/(M_opt+(TC/TH)))*100;\n",
"aa=((TH-TC)/TH);\n",
"//taking M_opt=1.43\n",
"b=(1.43-1)/(1.43+(TC/TH));\n",
"n_opt=aa*b*100;\n",
"printf('\n Optimum efficiency n_opt=%f persent',n_opt);\n",
"//efficiency for max. power output n= (TH-TC)/TH)*m/[((1+m)^2/TH)*(KR/alpha_s_12^2)+(1+m)-(TH-TC)/2TH)]\n",
"//Efficiency power output\n",
"//RL=R i.e. m=1\n",
"// let ab=(1+m)^2/TH;ac=(KR/alpha_s_12^2);ad=(TH-TC)/2TH\n",
"m=1;\n",
"ab=4/TH;\n",
"ac=1/Z_opt;\n",
"ad=aa/2;\n",
"n_max=[aa/(ab*ac+2-ad)]*100;\n",
"printf('\n max. power output n_max %f persent',n_max)\n",
"//Power output P_opt=I^2*RL=alpha_s12^2(TH-TC)*RL/(R+RL)^2=alpha_s12^2(TH-TC)/(1+M_opt)^2*RL\n",
"//let at=alpha_s12^2(TH-TC);mi=(1+M_opt)^2*RL\n",
"at=a*a*(TH-TC)*(TH-TC);\n",
"ml=(1+1.43)*(1+1.43)*2.63*10^-3\n",
"P_opt=at/ml;\n",
"printf('\n Power output P_opt=%f watts',P_opt);\n",
"//for max. power P_max (RL=R)\n",
"//P_max=alpha_s12^2(TH-TC)*RL/(r+RL)^2=alpha_s12^2(TH-TC)RL*4RL\n",
"P_max=at/(4*1.84*10^-3);\n",
"printf('\n max. power P_max=%f watts',P_max);\n",
"\n",
"\n",
"//Many calcuating mistak are there in a following example,which is corrected in program."
   ]
   }
,
{
		   "cell_type": "markdown",
		   "metadata": {},
		   "source": [
			"## Example 13.4_3: EX13_4_3.sce"
		   ]
		  },
  {
"cell_type": "code",
	   "execution_count": null,
	   "metadata": {
	    "collapsed": true
	   },
	   "outputs": [],
"source": [
"//Ex.13.4.3;maximum efficiency,no. of thermocouple in series,open ckt voltage,heat i/p and reject at full load.\n",
"\n",
"kA=0.02;//unit=watt/cm degree kelvin\n",
"kB=0.03;//unit=watt/cm degree kelvin\n",
"pA=0.01;//unit=ohm cm\n",
"pB=0.012;//unit=ohm cm\n",
"TH=1500;//unit=degree kelvin\n",
"TC=1000;//unit=degree kelvin\n",
"AA=43.5;//unit=cm^2\n",
"AB=48.6;//unit=cm^2\n",
"LA=0.49;//unit=cm\n",
"LB=0.49;//unit=cm\n",
"I=20*48.6;//Current density in the element limited to,I=20 amp/cm^2\n",
"output=100;//unit=kW\n",
"//alpha_SAB at 1250 degree kelvin=0.0012 volt/degree kelvin=alpha_SA-alpha_SB\n",
"alpha_SAB=0.0012;//unit=volt/degree kelvin\n",
"//let\n",
"b=(pA*kA);\n",
"c=(pB*kB);\n",
"A=sqrt(b);\n",
"B=sqrt(c);\n",
"C=(A+B);\n",
"//figure of merit\n",
"Z=(alpha_SAB/C)^2;\n",
"printf(' Z=%f degree k^-1',Z);\n",
"M=(1+((Z/2)*(TH+TC)))^0.5;\n",
"printf('\n M=%f',M);\n",
"//let\n",
"aa=((TH-TC)/TH);\n",
"bb=(M-1)/(M+(TC/TH));\n",
"//1] MAx. efficiency of a thermoelectric converter is given by n_max=((TH-TC)/TH)*[(M-1)/(M+(TC/TH))]*100;\n",
"n_max=aa*bb*100;\n",
"printf('\n Maximum efficiency n_max=%f persent',n_max);\n",
"//2] No. of thermocouple in series\n",
"V=alpha_SAB*(TH-TC);\n",
"printf('\n V=%f volt',V);\n",
"R=((pA*LA)/AA)+((pB*LB)/AB);//since  R=RA+RB=((pA*LA)/AA)+((pB*LB)/AB);\n",
"printf('\n R=%f ohm',R);\n",
"VL=V-(R*I);\n",
"printf('\n VL=%f volt',VL);\n",
"//NTCS=total voltage required/voltage required by one couple\n",
"NTCS=115/VL;\n",
"printf('\n No. of thermocouple in series=%f',NTCS);\n",
"//3] Open circuit voltage\n",
"OCV=V*309;\n",
"printf('\n Open circuit voltage=%f volt',OCV)\n",
"//4] Heat input and reject at full load.\n",
"//Heat input at full load.=output/efficency=100/0.091\n",
"HIFL=output/(n_max/100);\n",
"printf('\n Heat input at full load=%f kW',HIFL)\n",
"// Heat reject at full load. =Heat input-Work output\n",
"HRFL=HIFL-output;\n",
"printf('\n Heat reject at full load=%f kW',HRFL)\n",
"\n",
"\n",
"\n",
"//The value of 'pB' is misprinted\n",
"//The values are taken in the text book is approximately equal to calculated values"
   ]
   }
],
"metadata": {
		  "kernelspec": {
		   "display_name": "Scilab",
		   "language": "scilab",
		   "name": "scilab"
		  },
		  "language_info": {
		   "file_extension": ".sce",
		   "help_links": [
			{
			 "text": "MetaKernel Magics",
			 "url": "https://github.com/calysto/metakernel/blob/master/metakernel/magics/README.md"
			}
		   ],
		   "mimetype": "text/x-octave",
		   "name": "scilab",
		   "version": "0.7.1"
		  }
		 },
		 "nbformat": 4,
		 "nbformat_minor": 0
}
