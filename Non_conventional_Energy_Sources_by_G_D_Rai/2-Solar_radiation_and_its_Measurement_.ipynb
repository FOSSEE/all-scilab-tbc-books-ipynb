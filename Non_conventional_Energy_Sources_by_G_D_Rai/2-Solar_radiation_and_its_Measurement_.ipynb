{
"cells": [
 {
		   "cell_type": "markdown",
	   "metadata": {},
	   "source": [
       "# Chapter 2: Solar radiation and its Measurement "
	   ]
	},
{
		   "cell_type": "markdown",
		   "metadata": {},
		   "source": [
			"## Example 2.4_1: Local_solar_time_and_declination.sce"
		   ]
		  },
  {
"cell_type": "code",
	   "execution_count": null,
	   "metadata": {
	    "collapsed": true
	   },
	   "outputs": [],
"source": [
"//Ex2.4.1.;Detremine local solar time and declination\n",
"\n",
"//The local solar time=IST-4(standard time longitude-longitude of location)+Equation of time correstion\n",
"//IST=12h 30min;for the purpose of calculation we are writing it as a=12h,b=29 min 60sec;\n",
"a=12;\n",
"b=29.60;\n",
"//(standard time longitude-longitude of location)=82 degree 30min - 77 degree 30min;\n",
"//for the purpose of calculation we are writing it as\n",
"STL3=82.5-72.5;\n",
"//Equation of time correstion: 1 min 01 sec\n",
"//for the purpose of calculation we are writing it as\n",
"c=1.01;\n",
"//The local solar time=IST-4(standard time longitude-longitude of location)+Equation of time correstion\n",
"LST=b-STL3-c;\n",
"printf(' The local solar time=%f.%f in hr.min.sec',a,LST);\n",
"//Declination delta can be obtain by cooper's eqn : delta=23.45*sin((360/365)*(284+n))\n",
"n=170;//(on June 19)\n",
"//let\n",
"a=(360/365)*(284+n);aa=(a*%pi)/180;\n",
"//therefore\n",
"delta=23.45*sin(aa);\n",
"printf('\n delta=%f degree',delta);\n",
""
   ]
   }
,
{
		   "cell_type": "markdown",
		   "metadata": {},
		   "source": [
			"## Example 2.4_2: Angle_made_by_beam_radiation.sce"
		   ]
		  },
  {
"cell_type": "code",
	   "execution_count": null,
	   "metadata": {
	    "collapsed": true
	   },
	   "outputs": [],
"source": [
"//Ex2.4.2.;Calculate anglr made by beam radiation with the normal to a flat collector.\n",
"gama=0;//since collector is pointing due south.\n",
"//For this case we have equation : cos_(theta_t)=cos(fie-s)*cos(delta)*cos(w)+sin(fie-s)*sin(delta)\n",
"//with the help of cooper eqn on december 1,\n",
"n=335;\n",
"//let\n",
"a=(360/365)*(284+n);aa=(a*%pi)/180;\n",
"//therefore\n",
"delta=23.45*sin(aa);\n",
"printf(' delta=%f degree',delta);\n",
"//Hour angle w corresponding to 9.00 hour=45 Degreew\n",
"w=45;//degree\n",
"//let\n",
"a=cos(((28.58*%pi)/180)-((38.58*%pi)/180))*cos(delta*%pi*180^-1)*cos(w*%pi*180^-1);\n",
"b=sin(delta*%pi*180^-1)*sin(((28.58*%pi)/180)-((38.58*%pi)/180));\n",
"//therefore\n",
"cos_of_theta_t=a+b;\n",
"theta_t=acosd(cos_of_theta_t);\n",
"printf('\n theta_t=%f Degree',theta_t);"
   ]
   }
,
{
		   "cell_type": "markdown",
		   "metadata": {},
		   "source": [
			"## Example 2.7_1: Average_value_of_Solar_radiation_on_a_horizontal_surface.sce"
		   ]
		  },
  {
"cell_type": "code",
	   "execution_count": null,
	   "metadata": {
	    "collapsed": true
	   },
	   "outputs": [],
"source": [
"//Ex2.7.1.;Determine the average values of radiation on a horizontal surface\n",
"\n",
"//Declination delta for June 22=23.5 degree, sunrice hour angle ws\n",
"delta=(23.5*%pi)/180;//unit=radians\n",
"fie=(10*%pi)/180;;//unit=radians\n",
"//Sunrice hour angle ws=acosd(-tan(fie)*tan(delta))\n",
"ws=acosd(-tan(fie)*tan(delta));\n",
"printf(' Sunrice hour angle ws=%f Degree',ws);\n",
"n=172;//=days of the year (for June 22)\n",
"//We have the relation for Average insolation at the top of the atmosphere\n",
"//Ho=(24/%pi)*Isc*[{1+0.033*(360*n/365)}*((cos (fie)*cos(delta)*sin(ws))+(2*%pi*ws/360)*sin(fie)*sin(delta))]\n",
"Isc=1353;//SI unit=W/m^2\n",
"ISC=1165;//MKS unit=kcal/hr m^2\n",
"//let\n",
"a=24/%pi;\n",
"aa=(360*172)/365;aaa=(aa*%pi)/180;\n",
"b=cos(aaa);bb=0.033*b;bbb=1+bb;\n",
"c=(10*%pi)/180;c1=cos(c);\n",
"cc=(23.5*%pi)/180;cc1=cos(cc);\n",
"ccc=(94.39*%pi)/180;ccc1=sin(ccc);\n",
"c=c1*cc1*ccc1;\n",
"d=(2*%pi*ws)/360;\n",
"e=(10*%pi)/180;e1=sin(e);\n",
"ee=(23.5*%pi)/180;ee1=sin(ee);\n",
"e=e1*ee1;\n",
"//therefoe Ho in SI unit\n",
"Ho=a*Isc*(bbb*(c+(d*e)));\n",
"printf('\n SI UNIT->Ho=%f W/m^2',Ho);\n",
"Hac=Ho*(0.3+(0.51*0.55))\n",
"printf('\n SI UNIT->Hac=%f W/m^2 day',Hac);\n",
"ho=a*ISC*(bbb*(c+(d*e)));\n",
"printf('\n MKS UNIT->Ho=%f kcal/m^2',ho);\n",
"hac=ho*0.58;\n",
"printf('\n MKS UNIT->Hac=%f kcal/m^2 day',hac);\n",
"\n",
"//The values are approximately same as in textbook"
   ]
   }
],
"metadata": {
		  "kernelspec": {
		   "display_name": "Scilab",
		   "language": "scilab",
		   "name": "scilab"
		  },
		  "language_info": {
		   "file_extension": ".sce",
		   "help_links": [
			{
			 "text": "MetaKernel Magics",
			 "url": "https://github.com/calysto/metakernel/blob/master/metakernel/magics/README.md"
			}
		   ],
		   "mimetype": "text/x-octave",
		   "name": "scilab",
		   "version": "0.7.1"
		  }
		 },
		 "nbformat": 4,
		 "nbformat_minor": 0
}
