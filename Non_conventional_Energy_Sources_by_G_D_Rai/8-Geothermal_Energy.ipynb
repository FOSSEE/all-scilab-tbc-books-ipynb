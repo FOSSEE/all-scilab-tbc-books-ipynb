{
"cells": [
 {
		   "cell_type": "markdown",
	   "metadata": {},
	   "source": [
       "# Chapter 8: Geothermal Energy"
	   ]
	},
{
		   "cell_type": "markdown",
		   "metadata": {},
		   "source": [
			"## Example 8.5_1: Plant_efficiency_and_Heat_rate.sce"
		   ]
		  },
  {
"cell_type": "code",
	   "execution_count": null,
	   "metadata": {
	    "collapsed": true
	   },
	   "outputs": [],
"source": [
"//Ex8.5.1.;calculate: steam flow rate,cooling water flow,plant efficiency,Heat rate\n",
"\n",
"//Enthalpy at point 1 at (31 kg/cm^2)=669.6 kcal/kg\n",
"//H1=H2=H3,enthalpy remain constant during throttling\n",
"H1=669.7;//unit= kcal/kg\n",
"H2=669.7;//unit= kcal/kg\n",
"H3=669.7;//unit= kcal/kg\n",
"//At point 3,\n",
"P3=9.55;//unit= kg/cm^2\n",
"//specific volume\n",
"vs3=0.22;//unit=m^3/kg\n",
"//Entropy\n",
"S3=1.580\n",
"T3=190;//unit=degree C,(degree of superheat=13 degree C)\n",
"//S4_s at 0.34 kg/cm^2=S3\n",
"//x4_s=0.838\n",
"//and H4_s=hs+xL\n",
"H4_s=72+(0.838*556)\n",
"printf(' H4_s=%f kcal/kg',H4_s)\n",
"//Isentropic turbine work=H3-H4_s\n",
"ITW=H3-H4_s;\n",
"printf('\n Isentropic turbine work=%f kcal/kg',ITW);\n",
"//Actual turbine work\n",
"ATW=0.80*ITW;\n",
"printf('\n Actual turbine work=%f kcal/kg',ATW);\n",
"H4=669.7-ATW;\n",
"printf('\n H4=%f kcal/kg',H4)\n",
"h5_6=72;//unit= kcal/kg; (Ignoring pump work)\n",
"//sensible heat   h7=h5=25 kcal/kg\n",
"h5=25;//unit=kcal/kg\n",
"h7=25;//unit=kcal/kg\n",
"//Turbine steam flow\n",
"TSF=(250*0.860*10^6)/(ATW*0.9);\n",
"printf('\n Turbine steam flow=%f kg/hr',TSF);\n",
"//let\n",
"m4=TSF;\n",
"//Turbine volume flow\n",
"TVF=(TSF/60)*vs3;\n",
"printf('\n Turbine volume flow=%f m^3/min',TVF);\n",
"//cooling water flow m7:m7(h5_6-h7)=m4(H4-h5_6)\n",
"m7=((H4-h5_6)/(h5_6-h7))*m4;\n",
"printf('\n cooling water flow m7=%f kg/hr',m7);\n",
"Heat_added=H1-h5_6;\n",
"printf('\n Heat_added=%f kcal/kg',Heat_added);\n",
"//plant efficiency=(Actual Turbine work*nmg)/Heat added\n",
"//nmg=combined mechanical and electrical efficiency of turbine-generator\n",
"nmg=0.90;\n",
"Plant_efficiency=(ATW*nmg)/Heat_added;\n",
"plant_efficiency=Plant_efficiency*100;\n",
"printf('\n Plant Efficiency nplant=%f persent',plant_efficiency);\n",
"//Plant heat rate=(860*Heat_added)/net_work\n",
"//net_work=105.36*0.90\n",
"Plant_heat_rate=(860/Plant_efficiency);\n",
"printf('\n Plant heat rate=%f kcal/kWH',Plant_heat_rate);\n",
"\n",
"\n",
"//The value of 'turbine steam flow' is wrong due to calculating mistak in textbook,due to which the further value related with it is given wrong\n",
"//The values are corrected in this program"
   ]
   }
,
{
		   "cell_type": "markdown",
		   "metadata": {},
		   "source": [
			"## Example 8.5_2: Cycle_efficiency_and_Plant_Heat_Rate.sce"
		   ]
		  },
  {
"cell_type": "code",
	   "execution_count": null,
	   "metadata": {
	    "collapsed": true
	   },
	   "outputs": [],
"source": [
"//Ex8.5.2.;calculate: hot water flow,condenser cooling water flow,cycle efficiency,plant heat rate.\n",
"H1=669.6;//unit=kcal/kg\n",
"H2=669.6;//unit=kcal/kg\n",
"//pressure at point 2,is 10.5 kg/cm^2;thus,\n",
"T2=195;//unit=degree celcius; (14 degree celcius of superheat)\n",
"s2=1.567;\n",
"vsup=0.27;\n",
"x3s=0.832;\n",
"H3s=535;//unit=kcal/kg\n",
"//Isentropic turbine work\n",
"ITW=H2-H3s;\n",
"printf(' Isentropic turbine work=%f kcal/kg',ITW);\n",
"//Actual turbine work\n",
"ATW=0.65*ITW;\n",
"printf('\n Actual turbine work=%f kcal/kg',ATW);\n",
"H3=669.6-ATW;\n",
"printf('\n H3=%f kcal/kg',H3)\n",
"//h_4-5(ignore bpump work)\n",
"h4=72.4;//unit=kcal/kg\n",
"//h6 at 27 degree c\n",
"h6=27;//unit=kcal/kg\n",
"//Turbine steam flow or hot water flow=power output/actual turbine work\n",
"TSF=(10*10^6*0.86)/ATW;\n",
"printf('\n Turbine steam flow or hot water flow=%f kg/hr',TSF);\n",
"//consider cooling water flow  m4:m3*(H3-h4)=m4(h4-h6)\n",
"//or\n",
"m4=((582.11-72.4)*0.983*10^5)/(72.4-27);\n",
"printf('\n cooling water flow=%f kg/hr',m4);\n",
"Heat_added=H1-h4\n",
"printf('\n Heat_added=%f kcal/kg',Heat_added);\n",
"//plant efficiency=Turbine work/Heat added\n",
"Plant_efficiency=(ATW/Heat_added);\n",
"plant_efficiency=Plant_efficiency*100;\n",
"printf('\n Plant Efficiency=%f persent',plant_efficiency);\n",
"//Plant heat rate=860/Plant Efficiency\n",
"Plant_heat_rate=860/Plant_efficiency;\n",
"printf('\n Plant heat rate=%f kcal/kWh',Plant_heat_rate);\n",
"\n",
"\n",
"//The value of m3=14.03*10^5 is given wrong in the text book;the actual value is m3=11.03*10^5"
   ]
   }
],
"metadata": {
		  "kernelspec": {
		   "display_name": "Scilab",
		   "language": "scilab",
		   "name": "scilab"
		  },
		  "language_info": {
		   "file_extension": ".sce",
		   "help_links": [
			{
			 "text": "MetaKernel Magics",
			 "url": "https://github.com/calysto/metakernel/blob/master/metakernel/magics/README.md"
			}
		   ],
		   "mimetype": "text/x-octave",
		   "name": "scilab",
		   "version": "0.7.1"
		  }
		 },
		 "nbformat": 4,
		 "nbformat_minor": 0
}
