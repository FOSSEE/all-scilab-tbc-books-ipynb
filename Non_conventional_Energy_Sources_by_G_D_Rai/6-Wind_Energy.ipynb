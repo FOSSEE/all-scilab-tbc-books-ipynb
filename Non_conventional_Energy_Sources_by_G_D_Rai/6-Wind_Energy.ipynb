{
"cells": [
 {
		   "cell_type": "markdown",
	   "metadata": {},
	   "source": [
       "# Chapter 6: Wind Energy"
	   ]
	},
{
		   "cell_type": "markdown",
		   "metadata": {},
		   "source": [
			"## Example 6.2_1: Torque_and_axial_thrust.sce"
		   ]
		  },
  {
"cell_type": "code",
	   "execution_count": null,
	   "metadata": {
	    "collapsed": true
	   },
	   "outputs": [],
"source": [
"//Ex.6.2.1. \n",
"//For air,the value of gas constant\n",
"R=0.287 //unit=kj/kg K\n",
"//T=15 in degreecalcius\n",
"T=15+273;//in kalvin\n",
"RT=0.287*10^3*288;\n",
"P=1.01325*10^5;//unit=Pa;at 1 atm\n",
"Vi=15;//unit=m/s\n",
"gc=1;\n",
"D=120;//turbine diameter;unit=m\n",
"N=40/60;\n",
"//Air density\n",
"p=(P/RT);\n",
"printf('Air density p=%f kg/M^3',p);\n",
"//1] Total_power= Ptotal=p*A*Vi^3/2*gc\n",
"//power density =Ptotal/A=p*Vi^3/2*gc\n",
"power_density=(1/(2*gc))*(p*Vi^3);\n",
"//2] Maximum_power_density=Pmax/A=8*p*Vi^3/27*gc\n",
"Maximum_power_density=(8/(27*gc))*(p*Vi^3);\n",
"printf('\n power density =Ptotal/A= %f W/m^2 \n Maximum power density=Pmax/A= %f W/m^2',power_density,Maximum_power_density);\n",
"//3]Assuming n=35%\n",
"n=0.35;\n",
"//let P/A=x\n",
"x=n*(power_density);\n",
"printf('\n P/A=%f W/m^2',x);\n",
"//4]Total power P= power density * Area\n",
"Total_power_P=724*(%pi/4)*(D^2) //Total power P= power density*(%pi/4)*D^2\n",
"printf('\n Total_power_P=%f watt=%f*10^-3 kW',Total_power_P,Total_power_P);\n",
"//5]Torgue at maximum efficiency\n",
"Tmax=(2/(27*gc))*((1.226*D*Vi*Vi*Vi)/N);//Tmax=(2/(27*gc))*((p*D*Vi*Vi*Vi)/N);\n",
"printf('\n Torgue at maximum efficiency=%f Newton',Tmax)\n",
"//and maximum axial thurst\n",
"Fxmax=(3.14/(9*gc))*1.226*D^2*Vi^2;//Fxmax=(%pi/(9*gc))*p*D^2*Vi^2;\n",
"printf('\n maximum axial thurst=%f Newton',Fxmax);"
   ]
   }
],
"metadata": {
		  "kernelspec": {
		   "display_name": "Scilab",
		   "language": "scilab",
		   "name": "scilab"
		  },
		  "language_info": {
		   "file_extension": ".sce",
		   "help_links": [
			{
			 "text": "MetaKernel Magics",
			 "url": "https://github.com/calysto/metakernel/blob/master/metakernel/magics/README.md"
			}
		   ],
		   "mimetype": "text/x-octave",
		   "name": "scilab",
		   "version": "0.7.1"
		  }
		 },
		 "nbformat": 4,
		 "nbformat_minor": 0
}
