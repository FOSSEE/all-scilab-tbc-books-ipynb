{
"cells": [
 {
		   "cell_type": "markdown",
	   "metadata": {},
	   "source": [
       "# Chapter 1: Introduction to Electronic communication "
	   ]
	},
{
		   "cell_type": "markdown",
		   "metadata": {},
		   "source": [
			"## Example 1.1_a: Calculate_the_wavelength_of_given_frequency.sce"
		   ]
		  },
  {
"cell_type": "code",
	   "execution_count": null,
	   "metadata": {
	    "collapsed": true
	   },
	   "outputs": [],
"source": [
"//Example 1-1 a, Page No - 14\n",
"\n",
"clear\n",
"clc\n",
"\n",
"c=300000000\n",
"f=150000000\n",
"\n",
"wavelength = c/f\n",
"\n",
"printf('Wavelength is %.3f meter',wavelength)"
   ]
   }
,
{
		   "cell_type": "markdown",
		   "metadata": {},
		   "source": [
			"## Example 1.1_b: Calculate_the_Wavelength_of_given_frequency.sce"
		   ]
		  },
  {
"cell_type": "code",
	   "execution_count": null,
	   "metadata": {
	    "collapsed": true
	   },
	   "outputs": [],
"source": [
"//Example 1-1 b, Page No - 14\n",
"\n",
"clear\n",
"clc\n",
"\n",
"c=300000000\n",
"f=430000000\n",
"\n",
"wavelength = c/f\n",
"\n",
"printf('Wavelength is %.3f meter',wavelength)"
   ]
   }
,
{
		   "cell_type": "markdown",
		   "metadata": {},
		   "source": [
			"## Example 1.1_c: Calculate_the_Wavelength_of_given_frequency.sce"
		   ]
		  },
  {
"cell_type": "code",
	   "execution_count": null,
	   "metadata": {
	    "collapsed": true
	   },
	   "outputs": [],
"source": [
"//Example 1-1 c, Page No - 14\n",
"\n",
"clear\n",
"clc\n",
"\n",
"c=300000000\n",
"f=8000000\n",
"\n",
"wavelength = c/f\n",
"\n",
"printf('Wavelength is %.3f meter',wavelength)"
   ]
   }
,
{
		   "cell_type": "markdown",
		   "metadata": {},
		   "source": [
			"## Example 1.1_d: Calculate_the_wavelength_of_given_frequency.sce"
		   ]
		  },
  {
"cell_type": "code",
	   "execution_count": null,
	   "metadata": {
	    "collapsed": true
	   },
	   "outputs": [],
"source": [
"//Example 1-1 d, Page No - 14\n",
"\n",
"clear\n",
"clc\n",
"\n",
"c=300000000\n",
"f=750000\n",
"\n",
"wavelength = c/f\n",
"\n",
"printf('Wavelength is %.3f meter',wavelength)\n",
""
   ]
   }
,
{
		   "cell_type": "markdown",
		   "metadata": {},
		   "source": [
			"## Example 1.2: Calculate_the_frequency_of_the_signal_with_given_wavelength.sce"
		   ]
		  },
  {
"cell_type": "code",
	   "execution_count": null,
	   "metadata": {
	    "collapsed": true
	   },
	   "outputs": [],
"source": [
"//Example 1-2, Page No - 15\n",
"\n",
"clear\n",
"clc\n",
"\n",
"c=300000000\n",
"wavelength=1.5\n",
"\n",
"frequency=c/wavelength\n",
"\n",
"printf('Signal frequncy is %.3f Megahertz',frequency/1000000)"
   ]
   }
,
{
		   "cell_type": "markdown",
		   "metadata": {},
		   "source": [
			"## Example 1.3: Calculate_the_frequency_of_the_signal.sce"
		   ]
		  },
  {
"cell_type": "code",
	   "execution_count": null,
	   "metadata": {
	    "collapsed": true
	   },
	   "outputs": [],
"source": [
"//Example 1-3, Page No - 15\n",
"\n",
"clear\n",
"clc\n",
"\n",
"wavelength_feet=75\n",
"wavelength_meter= 75/3.28\n",
"c=300000000\n",
"\n",
"frequency=c/wavelength_meter\n",
"\n",
"printf('The signal frequncy is %.3f Megahertz',frequency/1000000)"
   ]
   }
,
{
		   "cell_type": "markdown",
		   "metadata": {},
		   "source": [
			"## Example 1.4: Calculate_the_frequency_of_the_electromagnetic_wave.sce"
		   ]
		  },
  {
"cell_type": "code",
	   "execution_count": null,
	   "metadata": {
	    "collapsed": true
	   },
	   "outputs": [],
"source": [
"//Example 1-4, Page No - 15\n",
"\n",
"clear\n",
"clc\n",
"\n",
"wavelength_inches=8\n",
"wavelength_meter=  8/39.37\n",
"c=300000000\n",
"\n",
"frequency= c/wavelength_meter\n",
"\n",
"printf('\nThe signal freuency is %.3f Megahertz',frequency/1000000)\n",
"printf('\nThe signnalfrequency is %.3f Gegahertz',frequency/1000000000)"
   ]
   }
,
{
		   "cell_type": "markdown",
		   "metadata": {},
		   "source": [
			"## Example 1.5: Calculate_the_bandwidth.sce"
		   ]
		  },
  {
"cell_type": "code",
	   "execution_count": null,
	   "metadata": {
	    "collapsed": true
	   },
	   "outputs": [],
"source": [
"//Example 1-5, Page No - 18\n",
"\n",
"clear\n",
"clc\n",
"\n",
"f1=902000000\n",
"f2=928000000\n",
"\n",
"bandwidth=f2-f1\n",
"\n",
"printf('Width of the band is %d Megahertz',bandwidth/1000000)"
   ]
   }
,
{
		   "cell_type": "markdown",
		   "metadata": {},
		   "source": [
			"## Example 1.6: Calculate_the_upper_frequency_limit_from_bandwidth.sce"
		   ]
		  },
  {
"cell_type": "code",
	   "execution_count": null,
	   "metadata": {
	    "collapsed": true
	   },
	   "outputs": [],
"source": [
"//Example 1-6, Page No - 19\n",
"\n",
"clear\n",
"clc\n",
"\n",
"bandwidth_megahertz= 6\n",
"f1_megahertz=54\n",
"f2_megahertz=f1_megahertz + bandwidth_megahertz\n",
"\n",
"printf('Upper frequency limit is %.3f Megahertz',f2_megahertz)"
   ]
   }
],
"metadata": {
		  "kernelspec": {
		   "display_name": "Scilab",
		   "language": "scilab",
		   "name": "scilab"
		  },
		  "language_info": {
		   "file_extension": ".sce",
		   "help_links": [
			{
			 "text": "MetaKernel Magics",
			 "url": "https://github.com/calysto/metakernel/blob/master/metakernel/magics/README.md"
			}
		   ],
		   "mimetype": "text/x-octave",
		   "name": "scilab",
		   "version": "0.7.1"
		  }
		 },
		 "nbformat": 4,
		 "nbformat_minor": 0
}
