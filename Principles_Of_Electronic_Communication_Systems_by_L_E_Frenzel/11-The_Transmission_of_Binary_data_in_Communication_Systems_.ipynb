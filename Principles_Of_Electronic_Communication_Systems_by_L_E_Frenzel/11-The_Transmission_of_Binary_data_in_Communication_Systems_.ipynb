{
"cells": [
 {
		   "cell_type": "markdown",
	   "metadata": {},
	   "source": [
       "# Chapter 11: The Transmission of Binary data in Communication Systems "
	   ]
	},
{
		   "cell_type": "markdown",
		   "metadata": {},
		   "source": [
			"## Example 11.1: EX11_1.sce"
		   ]
		  },
  {
"cell_type": "code",
	   "execution_count": null,
	   "metadata": {
	    "collapsed": true
	   },
	   "outputs": [],
"source": [
"//Example 11-1,Page No-392\n",
"\n",
"clear\n",
"clc\n",
"\n",
"t=0.0016\n",
"No_words=256\n",
"bits_word = 12\n",
"\n",
"tword= t/No_words\n",
"tbit = tword/bits_word\n",
"bps =1/tbit\n",
"\n",
"printf('The time duration of the word %.1f microsecond',tword*10^8)\n",
"printf('\n The time duration of the one bit is %.4f microseconds',tbit*10^8)\n",
"printf('\n The speed of transmission is %.1f kbps', bps/10^5)"
   ]
   }
,
{
		   "cell_type": "markdown",
		   "metadata": {},
		   "source": [
			"## Example 11.2: EX11_2.sce"
		   ]
		  },
  {
"cell_type": "code",
	   "execution_count": null,
	   "metadata": {
	    "collapsed": true
	   },
	   "outputs": [],
"source": [
"//Example 11-2, Page no - 400\n",
"\n",
"clear\n",
"clc\n",
"\n",
"B=12.5*10^3\n",
"SN_dB= 25\n",
"\n",
"C_th = 2*B\n",
"SN=316.2\n",
"C =B*3.32*log10(SN+1)\n",
"N= 2^(C/(2*B))\n",
"\n",
"printf('The maximum theorotical data rate is %.1f kbps',C_th/10^3)\n",
"printf('\n  The maximum theorotical capacity of channel is %.1f Kbps',C/10^3)\n",
"printf('\n The number of levels needed to acheive maximum speed are %d',N)"
   ]
   }
,
{
		   "cell_type": "markdown",
		   "metadata": {},
		   "source": [
			"## Example 11.3: Calculate_the_average_number_of_errors_that_can_be_expected_in_the_transmission.sce"
		   ]
		  },
  {
"cell_type": "code",
	   "execution_count": null,
	   "metadata": {
	    "collapsed": true
	   },
	   "outputs": [],
"source": [
"//Example 11-3,Page no - 430\n",
"\n",
"clear\n",
"clc\n",
"\n",
"block =512\n",
"packets =8\n",
"BER = 2*10^-4\n",
" \n",
"avg_errors = block*packets*8*BER\n",
"\n",
"printf('Average number of errors are %.4f',avg_errors) "
   ]
   }
],
"metadata": {
		  "kernelspec": {
		   "display_name": "Scilab",
		   "language": "scilab",
		   "name": "scilab"
		  },
		  "language_info": {
		   "file_extension": ".sce",
		   "help_links": [
			{
			 "text": "MetaKernel Magics",
			 "url": "https://github.com/calysto/metakernel/blob/master/metakernel/magics/README.md"
			}
		   ],
		   "mimetype": "text/x-octave",
		   "name": "scilab",
		   "version": "0.7.1"
		  }
		 },
		 "nbformat": 4,
		 "nbformat_minor": 0
}
