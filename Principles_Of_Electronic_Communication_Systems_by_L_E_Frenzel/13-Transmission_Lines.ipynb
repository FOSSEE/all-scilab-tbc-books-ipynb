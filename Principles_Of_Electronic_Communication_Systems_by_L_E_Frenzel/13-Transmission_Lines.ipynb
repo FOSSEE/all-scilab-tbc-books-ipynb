{
"cells": [
 {
		   "cell_type": "markdown",
	   "metadata": {},
	   "source": [
       "# Chapter 13: Transmission Lines"
	   ]
	},
{
		   "cell_type": "markdown",
		   "metadata": {},
		   "source": [
			"## Example 13.1: 1_Calculate_the_length_of_the_cable_considered_to_be_a_transmission_line.sce"
		   ]
		  },
  {
"cell_type": "code",
	   "execution_count": null,
	   "metadata": {
	    "collapsed": true
	   },
	   "outputs": [],
"source": [
"//Example 13-1, Page No- 483\n",
"\n",
"clear \n",
"clc\n",
"\n",
"f= 450*10^6\n",
"lamda = 984/f\n",
"len =0.1*lamda\n",
"\n",
"printf('%.3f feet long conductors would be considered as the transmission line ',len*10^6)"
   ]
   }
,
{
		   "cell_type": "markdown",
		   "metadata": {},
		   "source": [
			"## Example 13.2: Calculate_the_physical_length_of_the_transmission_line.sce"
		   ]
		  },
  {
"cell_type": "code",
	   "execution_count": null,
	   "metadata": {
	    "collapsed": true
	   },
	   "outputs": [],
"source": [
"//Example 13-2, Page No- 484\n",
"\n",
"clear\n",
"clc\n",
"\n",
"lamda = 2.19\n",
"len = (3/8)*lamda\n",
"\n",
"printf('The pyhsical length of the transmission line  %.2f feet',len)"
   ]
   }
,
{
		   "cell_type": "markdown",
		   "metadata": {},
		   "source": [
			"## Example 13.3: Calculate_the_total_attenuation_and_output_power_of_the_antenna.sce"
		   ]
		  },
  {
"cell_type": "code",
	   "execution_count": null,
	   "metadata": {
	    "collapsed": true
	   },
	   "outputs": [],
"source": [
"//Example 13-3, Page No - 492\n",
"\n",
"clear\n",
"clc\n",
"\n",
"len = 165\n",
"attn_100ft = 5.3\n",
"pin = 100\n",
"attn_ft = 5.3/100\n",
"\n",
"total_attn = attn_ft * len\n",
"pout = pin *0.1335\n",
"\n",
"printf('The total attenuation of the cable is %.3f dB',total_attn)\n",
"printf('\n Output power is %.2f W',pout)"
   ]
   }
,
{
		   "cell_type": "markdown",
		   "metadata": {},
		   "source": [
			"## Example 13.4: EX13_4.sce"
		   ]
		  },
  {
"cell_type": "code",
	   "execution_count": null,
	   "metadata": {
	    "collapsed": true
	   },
	   "outputs": [],
"source": [
"//Example 13-4, Page No- 494\n",
"\n",
"clear\n",
"clc\n",
"\n",
"len =150\n",
"C =13.5\n",
"Z0 =93\n",
"f =2.5*10^6\n",
"attn_100ft =2.8\n",
"\n",
"L =C*Z0^2\n",
"td =(L*C)^0.5\n",
"theta = ((360)*188.3)/(1/f)\n",
"attn_ft = attn_100ft/100\n",
"total_attn = attn_ft*150\n",
"\n",
"printf('The load impedance required to terminate the the line\n  to avoid the reflections is %d ohm',Z0)\n",
"printf('\n The equivalent inductance per feet is %.2f nH',L/10^3)\n",
"printf('\n The time delay introduced by the cable per feet is %.3f ns',td/10^3)\n",
"printf('\n The phase shift occurs in degrees for the 2.5 Mhz sine wave is %.2f',theta/10^9)\n",
"printf('\n The total attenuation is %.1f dB',total_attn)\n",
""
   ]
   }
,
{
		   "cell_type": "markdown",
		   "metadata": {},
		   "source": [
			"## Example 13.5: Calculate_the_SWR_reflection_coefficient_and_value_of_resistive_load.sce"
		   ]
		  },
  {
"cell_type": "code",
	   "execution_count": null,
	   "metadata": {
	    "collapsed": true
	   },
	   "outputs": [],
"source": [
"//Example 13-5,Page No - 501\n",
"\n",
"clear\n",
"clc\n",
"\n",
"vmax= 52\n",
"vmin= 17\n",
"Z0 = 75\n",
"\n",
"SWR = vmax/vmin\n",
"ref_coeff = (vmax-vmin)/(vmax+vmin)\n",
"Zl1 = Z0*SWR\n",
"Zl2 = Z0/SWR\n",
"\n",
"printf('The standing wave ratio is %.2f',SWR)\n",
"printf('\n Reflection coefficient is %.2f',ref_coeff)\n",
"printf('\n The value of resistive load is %.2f or %.2f ohm',Zl1,Zl2)"
   ]
   }
,
{
		   "cell_type": "markdown",
		   "metadata": {},
		   "source": [
			"## Example 13.6: Calculate_the_output_power_of_the_cable.sce"
		   ]
		  },
  {
"cell_type": "code",
	   "execution_count": null,
	   "metadata": {
	    "collapsed": true
	   },
	   "outputs": [],
"source": [
"//Example 13-6,Page No- 503\n",
"\n",
"clear\n",
"clc\n",
"\n",
"SWR =3.05\n",
"ref_pwr =0.2562\n",
"pin =30\n",
"\n",
"pout = pin -(pin*((SWR-1)/(SWR+1))^2)\n",
"\n",
"printf('The output power of the cable is %.3f W',pout)"
   ]
   }
,
{
		   "cell_type": "markdown",
		   "metadata": {},
		   "source": [
			"## Example 13.7: EX13_7.sce"
		   ]
		  },
  {
"cell_type": "code",
	   "execution_count": null,
	   "metadata": {
	    "collapsed": true
	   },
	   "outputs": [],
"source": [
"//Example 13-7,Page no - 508\n",
"\n",
"clear\n",
"clc\n",
"\n",
"C =4*10^-12\n",
"f =800*10^6\n",
"diele = 3.5\n",
"h = 0.0625\n",
"w = 0.13\n",
"t = 0.002\n",
"\n",
"Z0 = 38.8*log(0.374/0.106)\n",
"Xc = 1/(6.28*f*C)\n",
"\n",
"printf('The charecteristics impedance of the transmission line is %.1f ohm',Z0)\n",
"printf('\n The reactance of the capacitor is %.2f ohm',Xc)"
   ]
   }
,
{
		   "cell_type": "markdown",
		   "metadata": {},
		   "source": [
			"## Example 13.8: Calculate_the_length_of_the_transmission_line.sce"
		   ]
		  },
  {
"cell_type": "code",
	   "execution_count": null,
	   "metadata": {
	    "collapsed": true
	   },
	   "outputs": [],
"source": [
"//Example 13-8, Page No - 508\n",
"\n",
"clear \n",
"clc\n",
"\n",
"lamda = (984/800)\n",
"lamda_8 =lamda/8\n",
"\n",
"len = lamda_8*12*(1/3.6^0.5)\n",
"\n",
"printf('The length of the transmission line is %.4f',len)"
   ]
   }
],
"metadata": {
		  "kernelspec": {
		   "display_name": "Scilab",
		   "language": "scilab",
		   "name": "scilab"
		  },
		  "language_info": {
		   "file_extension": ".sce",
		   "help_links": [
			{
			 "text": "MetaKernel Magics",
			 "url": "https://github.com/calysto/metakernel/blob/master/metakernel/magics/README.md"
			}
		   ],
		   "mimetype": "text/x-octave",
		   "name": "scilab",
		   "version": "0.7.1"
		  }
		 },
		 "nbformat": 4,
		 "nbformat_minor": 0
}
