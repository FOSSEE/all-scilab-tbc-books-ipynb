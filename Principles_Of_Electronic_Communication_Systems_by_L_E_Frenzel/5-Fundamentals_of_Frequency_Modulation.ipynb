{
"cells": [
 {
		   "cell_type": "markdown",
	   "metadata": {},
	   "source": [
       "# Chapter 5: Fundamentals of Frequency Modulation"
	   ]
	},
{
		   "cell_type": "markdown",
		   "metadata": {},
		   "source": [
			"## Example 5.1: Calculate_the_maximum_and_minimum_frequencies_that_occur_during_modulation.sce"
		   ]
		  },
  {
"cell_type": "code",
	   "execution_count": null,
	   "metadata": {
	    "collapsed": true
	   },
	   "outputs": [],
"source": [
"//Example 5-1  Page No - 153\n",
"\n",
"clear\n",
"clc\n",
"\n",
"f = 915*10^6\n",
"fm_deviation =12.5*10^3\n",
"\n",
"max_deviation = f + fm_deviation\n",
"min_deviation = f - fm_deviation\n",
"\n",
"printf('Maximum frequency occur during modulation is %.1f Khz',max_deviation/1000)\n",
"printf('\n Minimum frequency occur during modulation is %.1f Khz',min_deviation/1000)\n",
""
   ]
   }
,
{
		   "cell_type": "markdown",
		   "metadata": {},
		   "source": [
			"## Example 5.2: Calculate_the_deviation_of_TV_sound.sce"
		   ]
		  },
  {
"cell_type": "code",
	   "execution_count": null,
	   "metadata": {
	    "collapsed": true
	   },
	   "outputs": [],
"source": [
"//Example 5-2, Page No - 160\n",
"\n",
"clear\n",
"clc\n",
"\n",
"max_deviation = 25*10^3\n",
"fm =15*10^3\n",
"\n",
"mf =max_deviation/fm\n",
"\n",
"printf('The deviation ratio of the TV sound is %.3f',mf)"
   ]
   }
,
{
		   "cell_type": "markdown",
		   "metadata": {},
		   "source": [
			"## Example 5.3: Calculate_the_maximum_modulating_frequency.sce"
		   ]
		  },
  {
"cell_type": "code",
	   "execution_count": null,
	   "metadata": {
	    "collapsed": true
	   },
	   "outputs": [],
"source": [
"//Example 5-3, Page No - 162\n",
"\n",
"clear\n",
"clc\n",
"\n",
"mf = 2.2\n",
"fd = 7.48*10^3\n",
"\n",
"fm = fd/mf\n",
"\n",
"printf('The maximum modulating frequency is %.1f Khz',fm/1000)"
   ]
   }
,
{
		   "cell_type": "markdown",
		   "metadata": {},
		   "source": [
			"## Example 5.4: Sate_the_amplitudes_of_the_carrier_and_four_sidebands_of_FM_signal.sce"
		   ]
		  },
  {
"cell_type": "code",
	   "execution_count": null,
	   "metadata": {
	    "collapsed": true
	   },
	   "outputs": [],
"source": [
"//Example 5-4, Page No - 164\n",
"\n",
"clear\n",
"clc\n",
"\n",
"J0 = -0.4\n",
"J1 = -0.07\n",
"J2 = 0.36\n",
"J3 = 0.43\n",
"J4 = 0.28\n",
"\n",
"printf('The amplitude of the carrier is %.1f',J0)\n",
"printf('\n Amplitudes of the first four sidebands are \n%.2f\t %.2f\t %.2f\t %.2f',J1,J2,J3,J4)"
   ]
   }
,
{
		   "cell_type": "markdown",
		   "metadata": {},
		   "source": [
			"## Example 5.5: Calculate_the_bandwidth_of_the_FM_signal.sce"
		   ]
		  },
  {
"cell_type": "code",
	   "execution_count": null,
	   "metadata": {
	    "collapsed": true
	   },
	   "outputs": [],
"source": [
"//Example 5-5, page No - 165\n",
"\n",
"clear\n",
"clc\n",
"\n",
"fd = 30*10^3\n",
"fm = 5*10^3\n",
"N=9\n",
"\n",
"\n",
"bw1 = 2*fm*N\n",
"bw2 = 2*[fd+fm]\n",
"\n",
"printf('The maximum bandwidth of the fm signal calculated from fig 5.8 is %.1f Khz',bw1/10^3)\n",
"printf('\n The maximum bandwidth using carlos rule is %.1f khz',bw2/10^3)"
   ]
   }
,
{
		   "cell_type": "markdown",
		   "metadata": {},
		   "source": [
			"## Example 5.6: EX5_6.sce"
		   ]
		  },
  {
"cell_type": "code",
	   "execution_count": null,
	   "metadata": {
	    "collapsed": true
	   },
	   "outputs": [],
"source": [
"//Example 5-6, Page No - 167\n",
"\n",
"clear\n",
"clc\n",
"\n",
"S_N = 2.8\n",
"fm = 1.5*10^3\n",
"fd =4*10^3\n",
"\n",
"fi= asin(1/S_N)\n",
"delta = fi*fm\n",
"SN =fd/delta\n",
"\n",
"printf('The frequency deviation caused by the noise %.3f Hz',delta)\n",
"printf('\n The improved output signal to noise ratio is %.1f ',SN)"
   ]
   }
],
"metadata": {
		  "kernelspec": {
		   "display_name": "Scilab",
		   "language": "scilab",
		   "name": "scilab"
		  },
		  "language_info": {
		   "file_extension": ".sce",
		   "help_links": [
			{
			 "text": "MetaKernel Magics",
			 "url": "https://github.com/calysto/metakernel/blob/master/metakernel/magics/README.md"
			}
		   ],
		   "mimetype": "text/x-octave",
		   "name": "scilab",
		   "version": "0.7.1"
		  }
		 },
		 "nbformat": 4,
		 "nbformat_minor": 0
}
