{
"cells": [
 {
		   "cell_type": "markdown",
	   "metadata": {},
	   "source": [
       "# Chapter 19: Optical Communication"
	   ]
	},
{
		   "cell_type": "markdown",
		   "metadata": {},
		   "source": [
			"## Example 19.1: Calculate_the_critical_angle_of_the_fiber_optic_cable.sce"
		   ]
		  },
  {
"cell_type": "code",
	   "execution_count": null,
	   "metadata": {
	    "collapsed": true
	   },
	   "outputs": [],
"source": [
"//Example 19-1,page No - 760\n",
"\n",
"clear\n",
"clc\n",
"\n",
"NA = 0.29\n",
"critical_angle = sin (0.29)\n",
"\n",
"printf('The critical angle is %.2f degree',critical_angle*(180/3.14))\n",
" "
   ]
   }
,
{
		   "cell_type": "markdown",
		   "metadata": {},
		   "source": [
			"## Example 19.2: Calculate_the_bandwidth_of_the_cable.sce"
		   ]
		  },
  {
"cell_type": "code",
	   "execution_count": null,
	   "metadata": {
	    "collapsed": true
	   },
	   "outputs": [],
"source": [
"//Example 19-2,Page No - 767\n",
"\n",
"clear\n",
"clc\n",
"\n",
"B_rating_Mhzkm =600*10^6\n",
"len_ft=500\n",
"\n",
"bandwidth = B_rating_Mhzkm/(len_ft/3274)\n",
"\n",
"printf('The bandwidth of the 500 feetr segment of the ccable is %.1f Mhz',bandwidth/10^6)"
   ]
   }
,
{
		   "cell_type": "markdown",
		   "metadata": {},
		   "source": [
			"## Example 19.3: Calculate_the_dispersion_factor_of_the_fiber_optic_cable.sce"
		   ]
		  },
  {
"cell_type": "code",
	   "execution_count": null,
	   "metadata": {
	    "collapsed": true
	   },
	   "outputs": [],
"source": [
"//Example 19-3,Page No - 780\n",
"\n",
"clear\n",
"clc\n",
"\n",
"R=43*10^6\n",
"D=1200/3274\n",
"\n",
"d=1/(5*R*D)\n",
"\n",
"printf('The dispersion factor is %.1f ns/km',d*10^9)"
   ]
   }
],
"metadata": {
		  "kernelspec": {
		   "display_name": "Scilab",
		   "language": "scilab",
		   "name": "scilab"
		  },
		  "language_info": {
		   "file_extension": ".sce",
		   "help_links": [
			{
			 "text": "MetaKernel Magics",
			 "url": "https://github.com/calysto/metakernel/blob/master/metakernel/magics/README.md"
			}
		   ],
		   "mimetype": "text/x-octave",
		   "name": "scilab",
		   "version": "0.7.1"
		  }
		 },
		 "nbformat": 4,
		 "nbformat_minor": 0
}
