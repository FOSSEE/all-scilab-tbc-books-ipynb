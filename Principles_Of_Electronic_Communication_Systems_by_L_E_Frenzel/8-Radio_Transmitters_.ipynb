{
"cells": [
 {
		   "cell_type": "markdown",
	   "metadata": {},
	   "source": [
       "# Chapter 8: Radio Transmitters "
	   ]
	},
{
		   "cell_type": "markdown",
		   "metadata": {},
		   "source": [
			"## Example 8.1: EX8_1.sce"
		   ]
		  },
  {
"cell_type": "code",
	   "execution_count": null,
	   "metadata": {
	    "collapsed": true
	   },
	   "outputs": [],
"source": [
"//Example 8-1, Page No - 249\n",
"\n",
"clear\n",
"clc\n",
"\n",
"f = 16*10^6\n",
"ppm = 200\n",
"\n",
"frequency_variation = 200 *16 \n",
"\n",
"min_f = f - frequency_variation\n",
"max_f = f + frequency_variation\n",
"\n",
"printf('The minimum and maximum frequencies for the crystal of \n 16 Mhz with stability of 200 are %d Hz and %d Hz respectively',min_f,max_f)"
   ]
   }
,
{
		   "cell_type": "markdown",
		   "metadata": {},
		   "source": [
			"## Example 8.2: EX8_2.sce"
		   ]
		  },
  {
"cell_type": "code",
	   "execution_count": null,
	   "metadata": {
	    "collapsed": true
	   },
	   "outputs": [],
"source": [
"//Example 8-2, Page No - 250\n",
"\n",
"clear\n",
"clc\n",
"\n",
"f =14.9*10^6\n",
"mul_factor = 2*3*3\n",
"stability_ppm =300\n",
"variation = 0.0003\n",
"total_variation = variation* mul_factor\n",
"\n",
"fout = f * mul_factor\n",
"frequency_variation = fout*total_variation\n",
"\n",
"f_lower = fout - frequency_variation\n",
"f_upper = fout + frequency_variation\n",
"\n",
"printf('The output frequency of the transmitter is %.1f Mhz',fout/10^6)\n",
"printf('\n The maximum and minimum frequencies of the transmitter are \n %.2f Mhz and %.2f Mhz ',f_lower/10^6,f_upper/10^6)"
   ]
   }
,
{
		   "cell_type": "markdown",
		   "metadata": {},
		   "source": [
			"## Example 8.3: Calculate_the_output_frequency_of_the_synthesizer.sce"
		   ]
		  },
  {
"cell_type": "code",
	   "execution_count": null,
	   "metadata": {
	    "collapsed": true
	   },
	   "outputs": [],
"source": [
"//Example 8-3, Page No - 259\n",
"\n",
"clear\n",
"clc\n",
"\n",
"f = 10*10^6\n",
"div_factor = 100\n",
"A =63\n",
"N = 285\n",
"M=32\n",
"\n",
"ref = f/div_factor\n",
"R =M*N+A\n",
"fout= R*ref\n",
"\n",
"printf('The output frequency of the synthesizer is %.1f Mhz',fout/10^6)"
   ]
   }
,
{
		   "cell_type": "markdown",
		   "metadata": {},
		   "source": [
			"## Example 8.4: EX8_4.sce"
		   ]
		  },
  {
"cell_type": "code",
	   "execution_count": null,
	   "metadata": {
	    "collapsed": true
	   },
	   "outputs": [],
"source": [
"//Example 8-4, Page No - 259\n",
"\n",
"clear\n",
"clc\n",
"\n",
"f = 10*10^6\n",
"div_factor = 100\n",
"A =64\n",
"N = 285\n",
"M=32\n",
"\n",
"ref = f/div_factor\n",
"R =M*N+A\n",
"fout= R*ref\n",
"\n",
"printf('The output frequency of the synthesizer is %.1f Mhz',fout/10^6)\n",
"printf('\n The step change is %.1f Mhz ',fout/10^6-918.3)"
   ]
   }
],
"metadata": {
		  "kernelspec": {
		   "display_name": "Scilab",
		   "language": "scilab",
		   "name": "scilab"
		  },
		  "language_info": {
		   "file_extension": ".sce",
		   "help_links": [
			{
			 "text": "MetaKernel Magics",
			 "url": "https://github.com/calysto/metakernel/blob/master/metakernel/magics/README.md"
			}
		   ],
		   "mimetype": "text/x-octave",
		   "name": "scilab",
		   "version": "0.7.1"
		  }
		 },
		 "nbformat": 4,
		 "nbformat_minor": 0
}
