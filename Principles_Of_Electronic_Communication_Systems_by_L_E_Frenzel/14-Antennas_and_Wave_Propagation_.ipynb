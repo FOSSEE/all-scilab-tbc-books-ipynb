{
"cells": [
 {
		   "cell_type": "markdown",
	   "metadata": {},
	   "source": [
       "# Chapter 14: Antennas and Wave Propagation "
	   ]
	},
{
		   "cell_type": "markdown",
		   "metadata": {},
		   "source": [
			"## Example 14.1: Calculate_the_length_and_radiation_resistance_for_different_antennas.sce"
		   ]
		  },
  {
"cell_type": "code",
	   "execution_count": null,
	   "metadata": {
	    "collapsed": true
	   },
	   "outputs": [],
"source": [
"//Example 14-1, page No - 544\n",
"\n",
"clear\n",
"clc\n",
"\n",
"f=310*10^6\n",
"\n",
"len1 =(492*0.97)/f\n",
"len2 =(492/f)*0.8\n",
"len3 =(984/f)*0.73\n",
"z1 =120*log(35/2)\n",
"len4 =234/f\n",
"z2  = 73/2\n",
"\n",
"printf('The length and radiation resistance of the dipole \n are %.2f feet and 73 ohm respectively',len1*10^6)\n",
"printf('\n\nThe length of the folded dipole are %.2f feet ',len2*10^6)\n",
"printf('\n\nThe length and radiation resistance of the bow tie antenna \n are %.1f feet and %.1f ohm respectively',len3*10^6,z1)\n",
"printf('\n\nThe length and radiation resistance of the groun plane antenna \n are %.3f feet and %.1f ohmrespectively',len4*10^6,z2)"
   ]
   }
,
{
		   "cell_type": "markdown",
		   "metadata": {},
		   "source": [
			"## Example 14.2: Calculate_the_transmission_line_loss_and_effective_radiated_power.sce"
		   ]
		  },
  {
"cell_type": "code",
	   "execution_count": null,
	   "metadata": {
	    "collapsed": true
	   },
	   "outputs": [],
"source": [
"//Example 14-2,page No - 553\n",
"\n",
"clear\n",
"clc\n",
"\n",
"gain=14\n",
"len=250\n",
"attn_100=3.6\n",
"f =220*10\n",
"pin =50\n",
"p =0.126\n",
"\n",
"pout =pin*p\n",
"line_loss =pin-pout\n",
"pwr_ratio = 25.1\n",
"ERP = pwr_ratio*pout\n",
"printf('The transmission line loss is %.2f',line_loss)\n",
"printf('\n\nEffective raduated power is %.1f W',ERP)\n",
""
   ]
   }
,
{
		   "cell_type": "markdown",
		   "metadata": {},
		   "source": [
			"## Example 14.3: Calculate_the_length_of_the_impedance_matching_section.sce"
		   ]
		  },
  {
"cell_type": "code",
	   "execution_count": null,
	   "metadata": {
	    "collapsed": true
	   },
	   "outputs": [],
"source": [
"//Example 14-3, Page No - 556\n",
"\n",
"clear\n",
"clc\n",
"\n",
"Z0 =50\n",
"Zl =172\n",
"f =460*10^6\n",
"VF =0.86\n",
"\n",
"len =(246/f)*VF\n",
"printf('The length of the impedance matching section \n needed for the Q section is %.2f feet',len*10^6)"
   ]
   }
,
{
		   "cell_type": "markdown",
		   "metadata": {},
		   "source": [
			"## Example 14.4: Calculate_the_length_of_the_impedance_matching_section.sce"
		   ]
		  },
  {
"cell_type": "code",
	   "execution_count": null,
	   "metadata": {
	    "collapsed": true
	   },
	   "outputs": [],
"source": [
"//Example 14-4,Page No - 557\n",
"\n",
"clear\n",
"clc\n",
"\n",
"f = 460*10^6\n",
"VF = 0.66\n",
"len = (246/f)*VF\n",
"\n",
"printf('The length of impedance matching section is %.3f feet',len*10^6)"
   ]
   }
,
{
		   "cell_type": "markdown",
		   "metadata": {},
		   "source": [
			"## Example 14.5: Calculate_the_maximum_transmitting_distance_and_received_power_at_that_distance.sce"
		   ]
		  },
  {
"cell_type": "code",
	   "execution_count": null,
	   "metadata": {
	    "collapsed": true
	   },
	   "outputs": [],
"source": [
"//Example 14-5,Page No - 567\n",
"clear\n",
"clc\n",
"ht =275\n",
"hr =60\n",
"f=224*10^6\n",
"pt=100\n",
"Gt = 26\n",
"Gr = 3.27\n",
"D =((2*ht)^0.5+(2*hr)^0.5)*1.61\n",
"lamda = 300/f\n",
"Pr = (pt*Gt*Gr*lamda^2)/(16*3.14^2*D^2)\n",
"printf('The maximmum transmitting distance is %.1f kilometer',D)\n",
"printf('\n\n The received power is %.1f nW',Pr*10^15)"
   ]
   }
],
"metadata": {
		  "kernelspec": {
		   "display_name": "Scilab",
		   "language": "scilab",
		   "name": "scilab"
		  },
		  "language_info": {
		   "file_extension": ".sce",
		   "help_links": [
			{
			 "text": "MetaKernel Magics",
			 "url": "https://github.com/calysto/metakernel/blob/master/metakernel/magics/README.md"
			}
		   ],
		   "mimetype": "text/x-octave",
		   "name": "scilab",
		   "version": "0.7.1"
		  }
		 },
		 "nbformat": 4,
		 "nbformat_minor": 0
}
