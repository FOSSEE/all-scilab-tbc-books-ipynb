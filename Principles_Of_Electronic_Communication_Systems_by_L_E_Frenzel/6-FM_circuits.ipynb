{
"cells": [
 {
		   "cell_type": "markdown",
	   "metadata": {},
	   "source": [
       "# Chapter 6: FM circuits"
	   ]
	},
{
		   "cell_type": "markdown",
		   "metadata": {},
		   "source": [
			"## Example 6.1: Calculate_the_value_of_the_inductor_required_to_resonate_the_circuit.sce"
		   ]
		  },
  {
"cell_type": "code",
	   "execution_count": null,
	   "metadata": {
	    "collapsed": true
	   },
	   "outputs": [],
"source": [
"//Example 6-1, Page No - 178\n",
"\n",
"clear\n",
"clc\n",
"\n",
"Vc =40*10^-12\n",
"c = 20*10^-12\n",
"f0 = 5.5*10^6\n",
"Ct = Vc+c\n",
"\n",
"L = 1/((6.28*f0)^2*Ct)\n",
"\n",
"printf('The value of the inductance is %.2f microhenry',L*10^6)"
   ]
   }
,
{
		   "cell_type": "markdown",
		   "metadata": {},
		   "source": [
			"## Example 6.2: EX6_2.sce"
		   ]
		  },
  {
"cell_type": "code",
	   "execution_count": null,
	   "metadata": {
	    "collapsed": true
	   },
	   "outputs": [],
"source": [
"//Example 6-2, Page No - 186\n",
"\n",
"clear\n",
"clc\n",
"\n",
"f=168.96*10^6\n",
"multiplier=24\n",
"deviation = 5*10^3\n",
"fm = 2.8*10^3\n",
"f0 =f/multiplier\n",
"fd= deviation/multiplier\n",
"\n",
"phaseshift = fd/fm\n",
"phaseshift_degrees = phaseshift*57.3\n",
"total_phaseshift =2*phaseshift_degrees\n",
"\n",
"printf('The crystal oscillator frequency is %.2f Mhz',f0/10^6)\n",
"printf('\n The total phase shift is %.3f degrees',total_phaseshift)\n",
"\n",
""
   ]
   }
,
{
		   "cell_type": "markdown",
		   "metadata": {},
		   "source": [
			"## Example 6.3: EX6_3.sce"
		   ]
		  },
  {
"cell_type": "code",
	   "execution_count": null,
	   "metadata": {
	    "collapsed": true
	   },
	   "outputs": [],
"source": [
"//Example 6-3, Page No - 187\n",
"\n",
"clear\n",
"clc\n",
"\n",
"R =1*10^3\n",
"phaseshift =4.263\n",
"phaseshift_center= 45\n",
"f =7.04*10^6\n",
"\n",
"phase_l = phaseshift_center - phaseshift\n",
"phase_u = phaseshift_center + phaseshift\n",
"phaserange_total = phase_u - phase_l\n",
"\n",
"Xc1 = 1161\n",
"C1 = 1/(6.28*f*Xc1)\n",
"Xc2 = 861\n",
"C2 = 1/(6.28*f*Xc2)\n",
"\n",
"printf('The two values of the capacitance to achieve total \ndeviation are %.2f to %.2f picofarad',C1*10^12,C2*10^12)"
   ]
   }
],
"metadata": {
		  "kernelspec": {
		   "display_name": "Scilab",
		   "language": "scilab",
		   "name": "scilab"
		  },
		  "language_info": {
		   "file_extension": ".sce",
		   "help_links": [
			{
			 "text": "MetaKernel Magics",
			 "url": "https://github.com/calysto/metakernel/blob/master/metakernel/magics/README.md"
			}
		   ],
		   "mimetype": "text/x-octave",
		   "name": "scilab",
		   "version": "0.7.1"
		  }
		 },
		 "nbformat": 4,
		 "nbformat_minor": 0
}
