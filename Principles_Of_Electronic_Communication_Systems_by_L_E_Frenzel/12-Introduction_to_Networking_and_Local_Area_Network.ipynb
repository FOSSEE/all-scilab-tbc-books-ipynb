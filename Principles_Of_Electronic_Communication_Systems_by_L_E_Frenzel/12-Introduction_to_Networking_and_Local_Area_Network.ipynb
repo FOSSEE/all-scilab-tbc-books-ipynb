{
"cells": [
 {
		   "cell_type": "markdown",
	   "metadata": {},
	   "source": [
       "# Chapter 12: Introduction to Networking and Local Area Network"
	   ]
	},
{
		   "cell_type": "markdown",
		   "metadata": {},
		   "source": [
			"## Example 12.1: EX12_1.sce"
		   ]
		  },
  {
"cell_type": "code",
	   "execution_count": null,
	   "metadata": {
	    "collapsed": true
	   },
	   "outputs": [],
"source": [
"//Example 12-1, page No - 448\n",
"\n",
"clear\n",
"clc\n",
"\n",
"N = 20\n",
"\n",
"L = (N*(N-1))/2\n",
"\n",
"printf('The number of interconnecting wires required are %d',L)"
   ]
   }
,
{
		   "cell_type": "markdown",
		   "metadata": {},
		   "source": [
			"## Example 12.2: EX12_2.sce"
		   ]
		  },
  {
"cell_type": "code",
	   "execution_count": null,
	   "metadata": {
	    "collapsed": true
	   },
	   "outputs": [],
"source": [
"//Example 12-2, Page No - 474\n",
"\n",
"clear\n",
"clc\n",
"\n",
"block = 1500\n",
"ethernet = 10*10^6\n",
"token_ring = 16*10^6\n",
"\n",
"t1_bit = 1/ethernet\n",
"t1_byte = 8*t1_bit\n",
"t1_1526 = 1526 *t1_byte\n",
"t2_bit = 1/token_ring\n",
"t2_byte = 8 * t2_bit\n",
"t2_1521 =1521*t2_byte\n",
"\n",
"printf('Time required for the ethernet with the speed of 10Mbps is %.3f ns',t1_1526*10^6)\n",
"printf('\n Time required for the token ring format with the speed of 16 Mbps is %.3f ns',t2_1521*10^6)\n",
""
   ]
   }
],
"metadata": {
		  "kernelspec": {
		   "display_name": "Scilab",
		   "language": "scilab",
		   "name": "scilab"
		  },
		  "language_info": {
		   "file_extension": ".sce",
		   "help_links": [
			{
			 "text": "MetaKernel Magics",
			 "url": "https://github.com/calysto/metakernel/blob/master/metakernel/magics/README.md"
			}
		   ],
		   "mimetype": "text/x-octave",
		   "name": "scilab",
		   "version": "0.7.1"
		  }
		 },
		 "nbformat": 4,
		 "nbformat_minor": 0
}
