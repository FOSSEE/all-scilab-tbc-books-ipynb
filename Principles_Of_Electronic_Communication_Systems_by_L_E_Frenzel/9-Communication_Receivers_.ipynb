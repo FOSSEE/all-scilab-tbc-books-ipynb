{
"cells": [
 {
		   "cell_type": "markdown",
	   "metadata": {},
	   "source": [
       "# Chapter 9: Communication Receivers "
	   ]
	},
{
		   "cell_type": "markdown",
		   "metadata": {},
		   "source": [
			"## Example 9.1: EX9_1.sce"
		   ]
		  },
  {
"cell_type": "code",
	   "execution_count": null,
	   "metadata": {
	    "collapsed": true
	   },
	   "outputs": [],
"source": [
"//Example 9-1,Page No - 318\n",
"\n",
"clear\n",
"clc\n",
"\n",
"fl =220*10^6\n",
"fm =224*10^6\n",
"IF1 = 10.7*10^6\n",
"IF = 1.5*10^6\n",
"\n",
"IF2 =IF1+IF\n",
"tune_l =fl+IF1\n",
"tune_m = fm+IF1\n",
"\n",
"IF1_imgl = tune_l+IF1\n",
"IF2_imgm = tune_m+IF1\n",
"\n",
"printf('The local oscillatior tuning range is %.1f to %.1f Mhz',tune_l/10^6,tune_m/10^6)\n",
"printf('\n Frequency of the second local oscillator is %.1f Mhz',IF2/10^6)\n",
"printf('\n First IF image range is %.1fto %.1f Mhz',IF1_imgl/10^6,IF2_imgm/10^6)"
   ]
   }
,
{
		   "cell_type": "markdown",
		   "metadata": {},
		   "source": [
			"## Example 9.2: Calculate_the_open_circuit_noise_voltage.sce"
		   ]
		  },
  {
"cell_type": "code",
	   "execution_count": null,
	   "metadata": {
	    "collapsed": true
	   },
	   "outputs": [],
"source": [
"//Example 9-2,Page No - 324\n",
"\n",
"clear\n",
"clc\n",
"\n",
"R = 100*10^3\n",
"T = 273+25\n",
"B = 20*10^3\n",
"k = 1.38*10^-23\n",
"\n",
"Vn=(4*k*T*B*R)^0.5\n",
"\n",
"printf('The noise voltage across 100k resistor is %.2f microvolt',Vn*10^6)"
   ]
   }
,
{
		   "cell_type": "markdown",
		   "metadata": {},
		   "source": [
			"## Example 9.3: What_is_the_input_thermal_noise_voltage_of_a_receiver.sce"
		   ]
		  },
  {
"cell_type": "code",
	   "execution_count": null,
	   "metadata": {
	    "collapsed": true
	   },
	   "outputs": [],
"source": [
"// Example 9-3, Page No - 324\n",
"\n",
"clear\n",
"clc\n",
"\n",
"R=75\n",
"B=6*10^6  \n",
"T = 29+273\n",
"k =1.38*10^-23\n",
"Vn = (4*k*T*B*R)^0.5\n",
"\n",
"printf('The input themal noise is %.2f microvolt',Vn*10^6)"
   ]
   }
,
{
		   "cell_type": "markdown",
		   "metadata": {},
		   "source": [
			"## Example 9.4: Calculate_the_average_noise_power_of_a_device.sce"
		   ]
		  },
  {
"cell_type": "code",
	   "execution_count": null,
	   "metadata": {
	    "collapsed": true
	   },
	   "outputs": [],
"source": [
"//Example 9-4, Page No - 326\n",
"\n",
"clear\n",
"clc\n",
"\n",
"Tc=32.2\n",
"Tk=273+Tc\n",
"B =30*10^3\n",
"k =1.38*10^-23\n",
"\n",
"Pn=k*Tk*B\n",
"\n",
"printf('The average noise power is %.2f*10^-16 W',Pn*10^16)"
   ]
   }
,
{
		   "cell_type": "markdown",
		   "metadata": {},
		   "source": [
			"## Example 9.5: Calculate_the_noise_factor_and_noise_figure_of_the_RF_amplifier.sce"
		   ]
		  },
  {
"cell_type": "code",
	   "execution_count": null,
	   "metadata": {
	    "collapsed": true
	   },
	   "outputs": [],
"source": [
"//Example 9-5, page No- 329\n",
"\n",
"clear\n",
"clc\n",
"\n",
"SN_ip = 8\n",
"SN_op = 6\n",
"\n",
"NR = SN_ip/SN_op\n",
"NF = 10*log10(NR)\n",
"\n",
"printf('The noise factor is %.3f',NR)\n",
"printf('\n The noise figure is %.2f dB',NF)"
   ]
   }
,
{
		   "cell_type": "markdown",
		   "metadata": {},
		   "source": [
			"## Example 9.6: EX9_6.sce"
		   ]
		  },
  {
"cell_type": "code",
	   "execution_count": null,
	   "metadata": {
	    "collapsed": true
	   },
	   "outputs": [],
"source": [
"//Example 9-6,Page No- 330\n",
"\n",
"clear\n",
"clc\n",
"\n",
"R= 75\n",
"T=31+273\n",
"k=1.38*106-23\n",
"B=6*10^6\n",
"Vs = 8.3*10^-6\n",
"NF=2.8\n",
"\n",
"Vn = (4*k*T*B*R)^0.5\n",
"Pn = Vn^2/R\n",
"Ps = Vs^2/R\n",
"SN = (Ps*10^12)/(Pn/10^12)\n",
"\n",
"SN_dB =10*log10(SN)\n",
"NR = 10^0.28\n",
"SN_op = SN/NR\n",
"\n",
"Tn = 290*(NR-1)\n",
"\n",
"printf('The input noise power is %.1f pW',Pn/10^12)\n",
"printf('\n The input signal power is %.3f pW',Ps*10^12)\n",
"printf('\n Signal to noise ratio in decibels %f',SN)\n",
"printf('\n The noise factor is %.1f',NR)\n",
"printf('\n Signal to noise ratio of the amplifier is %f',SN_op)\n",
"printf('\n The noise temperature of the amplifier %.1f K',Tn)"
   ]
   }
],
"metadata": {
		  "kernelspec": {
		   "display_name": "Scilab",
		   "language": "scilab",
		   "name": "scilab"
		  },
		  "language_info": {
		   "file_extension": ".sce",
		   "help_links": [
			{
			 "text": "MetaKernel Magics",
			 "url": "https://github.com/calysto/metakernel/blob/master/metakernel/magics/README.md"
			}
		   ],
		   "mimetype": "text/x-octave",
		   "name": "scilab",
		   "version": "0.7.1"
		  }
		 },
		 "nbformat": 4,
		 "nbformat_minor": 0
}
