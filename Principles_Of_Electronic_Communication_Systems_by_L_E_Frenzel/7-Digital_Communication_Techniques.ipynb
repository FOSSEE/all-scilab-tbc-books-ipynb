{
"cells": [
 {
		   "cell_type": "markdown",
	   "metadata": {},
	   "source": [
       "# Chapter 7: Digital Communication Techniques"
	   ]
	},
{
		   "cell_type": "markdown",
		   "metadata": {},
		   "source": [
			"## Example 7.1: Calculate_the_signal_frequency_fourth_harmonic_and_minimum_sampling_frequency.sce"
		   ]
		  },
  {
"cell_type": "code",
	   "execution_count": null,
	   "metadata": {
	    "collapsed": true
	   },
	   "outputs": [],
"source": [
"//Example 7-1, Page No - 210\n",
"\n",
"clear\n",
"clc\n",
"\n",
"t = 71.4*10^-6\n",
"\n",
"f = 1/t\n",
"fourth_harmonic = f*4\n",
"min_sampling = 2*fourth_harmonic\n",
"\n",
"printf('The frequency of the signal is %.1f Khz',f/10^3)\n",
"printf('\n The fourth harmonic is %.1f Khz ',fourth_harmonic/10^3)\n",
"printf('\n Minimum sampling rate is %.1f khz',min_sampling/10^3)"
   ]
   }
,
{
		   "cell_type": "markdown",
		   "metadata": {},
		   "source": [
			"## Example 7.2: EX7_2.sce"
		   ]
		  },
  {
"cell_type": "code",
	   "execution_count": null,
	   "metadata": {
	    "collapsed": true
	   },
	   "outputs": [],
"source": [
"//Example 7-2, Page no - 222\n",
"\n",
"clear \n",
"clc\n",
"\n",
"N = 14\n",
"discrete_levels = 2^N\n",
"num_vltg_inc =2^N-1\n",
"resolution = 12/discrete_levels \n",
"\n",
"printf('The numbedr of discrete levels that are represented \n using N number of bits are %d',discrete_levels)\n",
"printf('\n the number odf voltage increments required to divide \n the voltage range are %d',num_vltg_inc)\n",
"printf('\n Resolution of the digitization %.1f microvolt',resolution*10^6)"
   ]
   }
,
{
		   "cell_type": "markdown",
		   "metadata": {},
		   "source": [
			"## Example 7.3: Calculate_the_SINAD_and_ENOB.sce"
		   ]
		  },
  {
"cell_type": "code",
	   "execution_count": null,
	   "metadata": {
	    "collapsed": true
	   },
	   "outputs": [],
"source": [
"//Example 7-3, Page No - 225\n",
"\n",
"clear\n",
"clc\n",
"\n",
"N =12\n",
"SINAD1=78\n",
"SINAD2 = 6.02*N + 1.76\n",
"ENOB =(SINAD1 -1.76)/6.02\n",
"\n",
"printf('The SINAD for 12 bit convertre is %d dB',SINAD2)\n",
"printf('\n The ENOB for the converter with SINAD of 78 dB is %.2f bits',ENOB)   "
   ]
   }
,
{
		   "cell_type": "markdown",
		   "metadata": {},
		   "source": [
			"## Example 7.4: Calculate_the_output_voltage_and_gain_of_the_compander.sce"
		   ]
		  },
  {
"cell_type": "code",
	   "execution_count": null,
	   "metadata": {
	    "collapsed": true
	   },
	   "outputs": [],
"source": [
"//Example 7-4,Page No - 233\n",
"\n",
"clear\n",
"clc\n",
"\n",
"Vm = 1\n",
"Vin = 0.25\n",
"mu =255\n",
"\n",
"Vout = (Vm*log(1+mu*(Vin/Vm)))/log(1+mu)\n",
"gain =Vout/Vin\n",
"\n",
"printf('The output voltage of the compander %.2f volt',Vout)\n",
"printf('\n Gain of the compander is %d',gain)"
   ]
   }
,
{
		   "cell_type": "markdown",
		   "metadata": {},
		   "source": [
			"## Example 7.5: Calculate_the_output_voltage_and_gain_of_the_compander.sce"
		   ]
		  },
  {
"cell_type": "code",
	   "execution_count": null,
	   "metadata": {
	    "collapsed": true
	   },
	   "outputs": [],
"source": [
"//Example 7-5, Page No - 234\n",
"\n",
"clear\n",
"clc\n",
"\n",
"Vin = 0.8\n",
"Vm =1\n",
"mu =255\n",
"\n",
"Vout = (Vm*log(1+mu*(Vin/Vm)))/log(1+mu)\n",
"gain =Vout/Vin\n",
"\n",
"printf('The output voltage of the compander %.2f volt',Vout)\n",
"printf('\n Gain of the compander is %.1f',gain)"
   ]
   }
],
"metadata": {
		  "kernelspec": {
		   "display_name": "Scilab",
		   "language": "scilab",
		   "name": "scilab"
		  },
		  "language_info": {
		   "file_extension": ".sce",
		   "help_links": [
			{
			 "text": "MetaKernel Magics",
			 "url": "https://github.com/calysto/metakernel/blob/master/metakernel/magics/README.md"
			}
		   ],
		   "mimetype": "text/x-octave",
		   "name": "scilab",
		   "version": "0.7.1"
		  }
		 },
		 "nbformat": 4,
		 "nbformat_minor": 0
}
