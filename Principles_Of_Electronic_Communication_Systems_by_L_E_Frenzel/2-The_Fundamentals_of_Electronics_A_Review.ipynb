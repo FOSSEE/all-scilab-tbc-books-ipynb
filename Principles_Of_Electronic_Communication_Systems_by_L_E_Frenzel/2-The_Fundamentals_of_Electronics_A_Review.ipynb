{
"cells": [
 {
		   "cell_type": "markdown",
	   "metadata": {},
	   "source": [
       "# Chapter 2: The Fundamentals of Electronics A Review"
	   ]
	},
{
		   "cell_type": "markdown",
		   "metadata": {},
		   "source": [
			"## Example 2.10: Calculate_the_power_gain_for_the_power_amplifier.sce"
		   ]
		  },
  {
"cell_type": "code",
	   "execution_count": null,
	   "metadata": {
	    "collapsed": true
	   },
	   "outputs": [],
"source": [
"//Example 2-10. Page No - 39\n",
"\n",
"clear\n",
"clc\n",
"\n",
"vin=90*10^-3\n",
"R1= 10*10^3\n",
"vout=7.8\n",
"Rout=8\n",
"\n",
"pin= vin^2/R1\n",
"pout=vout^2/Rout\n",
"\n",
"Ap_db = 10*log10 (pout/pin)\n",
"\n",
"printf('The power gain in decibel is %.1f dB',Ap_db)\n",
""
   ]
   }
,
{
		   "cell_type": "markdown",
		   "metadata": {},
		   "source": [
			"## Example 2.11: Calculate_the_output_power_of_the_amplifier.sce"
		   ]
		  },
  {
"cell_type": "code",
	   "execution_count": null,
	   "metadata": {
	    "collapsed": true
	   },
	   "outputs": [],
"source": [
"//Example 2-11, Page No - 40\n",
"\n",
"clear \n",
"clc\n",
"\n",
"gain_db = 28\n",
"pin = 36*10^-3\n",
"\n",
"pout = 10^2.8*pin;\n",
"\n",
"printf('The output power is %.2f watt',pout)"
   ]
   }
,
{
		   "cell_type": "markdown",
		   "metadata": {},
		   "source": [
			"## Example 2.12: Calculate_the_input_voltage_given_to_the_circuit_consisting_of_two_amplifiers.sce"
		   ]
		  },
  {
"cell_type": "code",
	   "execution_count": null,
	   "metadata": {
	    "collapsed": true
	   },
	   "outputs": [],
"source": [
"//Example 2-12, Page No - 40\n",
"\n",
"clear \n",
"clc\n",
"\n",
"gain1 = 6.8 \n",
"gain2 = 14.3\n",
"attenuation1 = -16.4\n",
"attenuation2 = -2.9\n",
"vout = 800*10^-3\n",
"\n",
"At = gain1+gain2+attenuation1+attenuation2\n",
"vin = vout/10^(At/20)\n",
"\n",
"printf('The input voltage is %.1f mV',vin*10^3)"
   ]
   }
,
{
		   "cell_type": "markdown",
		   "metadata": {},
		   "source": [
			"## Example 2.13: Calculate_the_power_in_watts.sce"
		   ]
		  },
  {
"cell_type": "code",
	   "execution_count": null,
	   "metadata": {
	    "collapsed": true
	   },
	   "outputs": [],
"source": [
"//Example 2-13, Page No - 40\n",
"\n",
"clear \n",
"clc\n",
"\n",
"pout_db =12.3\n",
"\n",
"pout_mW = 0.001*10^(12.3/10)\n",
"\n",
"printf('The output power is %.1f mW',pout_mW*10^3)"
   ]
   }
,
{
		   "cell_type": "markdown",
		   "metadata": {},
		   "source": [
			"## Example 2.14: Calculate_the_resonant_frequency_of_the_circuit.sce"
		   ]
		  },
  {
"cell_type": "code",
	   "execution_count": null,
	   "metadata": {
	    "collapsed": true
	   },
	   "outputs": [],
"source": [
"//Example 2-14, Page No - 46\n",
"\n",
"clear\n",
"clc\n",
"\n",
"c = 2.7*10^-12\n",
"l = 33*10^-9\n",
"\n",
"fr= 1/(6.28*(l*c)^0.5)\n",
"\n",
"printf('The resonat frequency is %.1f Mhz',fr/10^6)"
   ]
   }
,
{
		   "cell_type": "markdown",
		   "metadata": {},
		   "source": [
			"## Example 2.15: Calculate_the_value_of_inductor_required_for_the_resonance_of_the_circuit.sce"
		   ]
		  },
  {
"cell_type": "code",
	   "execution_count": null,
	   "metadata": {
	    "collapsed": true
	   },
	   "outputs": [],
"source": [
"//Example 2-15, Page No - 47\n",
"\n",
"clear \n",
"clc\n",
"\n",
"c =12*10^-12\n",
"fr = 49*10^6\n",
"\n",
"l=1/(4*3.14^2*fr^2*c)\n",
"\n",
"printf('The value of inductance is %.1f nH',l*10^9) "
   ]
   }
,
{
		   "cell_type": "markdown",
		   "metadata": {},
		   "source": [
			"## Example 2.16: Calculate_the_bandwidth_of_the_resonant_circuit.sce"
		   ]
		  },
  {
"cell_type": "code",
	   "execution_count": null,
	   "metadata": {
	    "collapsed": true
	   },
	   "outputs": [],
"source": [
"//Example 2-16, page No-49\n",
"\n",
"clear \n",
"clc\n",
"\n",
"fr=28*10^6\n",
"Q=70\n",
"\n",
"bandwidth = fr/Q\n",
"\n",
"printf('The bandwidth is %.3f Khz',bandwidth/10^3)"
   ]
   }
,
{
		   "cell_type": "markdown",
		   "metadata": {},
		   "source": [
			"## Example 2.17: EX2_17.sce"
		   ]
		  },
  {
"cell_type": "code",
	   "execution_count": null,
	   "metadata": {
	    "collapsed": true
	   },
	   "outputs": [],
"source": [
"//Example 2-17, Page No - 50\n",
"\n",
"clear \n",
"clc\n",
"\n",
"f1= 7.93*10^6\n",
"f2= 8.07*10^6\n",
"\n",
"bw= f2-f1\n",
"fr=(f1*f2)^0.5\n",
"Q= fr/bw\n",
"\n",
"printf('\n The bandwidth is %.1f Khz',bw/10^3)\n",
"printf('\n The resonant frequency is %.1f Mhz',fr/10^6)\n",
"printf('\n The Q of resonant circuit is %.2f',Q)"
   ]
   }
,
{
		   "cell_type": "markdown",
		   "metadata": {},
		   "source": [
			"## Example 2.18: Calculate_the_3dB_down_frequencies_for_the_resonant_circuit.sce"
		   ]
		  },
  {
"cell_type": "code",
	   "execution_count": null,
	   "metadata": {
	    "collapsed": true
	   },
	   "outputs": [],
"source": [
"//Example 2-18, Page No - 50\n",
"\n",
"clear\n",
"clc\n",
"\n",
"Q=200\n",
"fr=16*10^6\n",
"\n",
"bw=fr/Q\n",
"f1= fr-(bw/2)\n",
"f2=fr+(bw/2)\n",
"\n",
"printf('The 3 db down frequencies of the resonant circuit are \nf1=%.2f Mhz\t f2=%.2f Mhz',f1/10^6,f2/10^6)"
   ]
   }
,
{
		   "cell_type": "markdown",
		   "metadata": {},
		   "source": [
			"## Example 2.19: Calculate_the_voltage_across_the_capacitor_of_the_resonant_circuit.sce"
		   ]
		  },
  {
"cell_type": "code",
	   "execution_count": null,
	   "metadata": {
	    "collapsed": true
	   },
	   "outputs": [],
"source": [
"//Example 2-19, Page No - 52\n",
"\n",
"clear\n",
"clc\n",
"\n",
"Q= 150\n",
"Vs=3*10^-6\n",
"\n",
"Vc= Q*Vs\n",
"\n",
"printf('The voltage across capacitor is %.1f microvolt',Vc*10^6)"
   ]
   }
,
{
		   "cell_type": "markdown",
		   "metadata": {},
		   "source": [
			"## Example 2.1: Calculate_the_voltage_gain_of_the_amplifier.sce"
		   ]
		  },
  {
"cell_type": "code",
	   "execution_count": null,
	   "metadata": {
	    "collapsed": true
	   },
	   "outputs": [],
"source": [
"clc\n",
"clear\n",
"vout=750*10^-3\n",
"vin = 30*10^-6\n",
"gain=vout/vin\n",
"printf('The Voltage gain of the amplifier is %.1f',gain)"
   ]
   }
,
{
		   "cell_type": "markdown",
		   "metadata": {},
		   "source": [
			"## Example 2.20: Calculate_the_impedance_of_the_parallel_LC_circuit.sce"
		   ]
		  },
  {
"cell_type": "code",
	   "execution_count": null,
	   "metadata": {
	    "collapsed": true
	   },
	   "outputs": [],
"source": [
"//Example 2-20, Page No - 54\n",
"\n",
"clear\n",
"clc\n",
"\n",
"fr= 52*10^6\n",
"Q=12\n",
"L=0.15*10^-6\n",
"\n",
"Rw=(6.28*fr*L)/Q\n",
"Req= Rw*(Q^2+1)\n",
"\n",
"printf('Impedance of the parellel LC circuit is %.1f ohm',Req)"
   ]
   }
,
{
		   "cell_type": "markdown",
		   "metadata": {},
		   "source": [
			"## Example 2.21: Calculate_the_impedance_of_the_circuit.sce"
		   ]
		  },
  {
"cell_type": "code",
	   "execution_count": null,
	   "metadata": {
	    "collapsed": true
	   },
	   "outputs": [],
"source": [
"//Example 2-21, Page no - 54\n",
"clear\n",
"clc\n",
"\n",
"fr= 52*10^6\n",
"Rw= 4.1\n",
"L =0.15*10^-6\n",
"\n",
"Z = L/((1/(4*3.14^2*fr^2*L))*Rw)\n",
"\n",
"printf('the impedance of the circuit is %.1f ohm',Z)\n",
""
   ]
   }
,
{
		   "cell_type": "markdown",
		   "metadata": {},
		   "source": [
			"## Example 2.22: EX2_22.sce"
		   ]
		  },
  {
"cell_type": "code",
	   "execution_count": null,
	   "metadata": {
	    "collapsed": true
	   },
	   "outputs": [],
"source": [
"//Example 2-22, page no - 55\n",
"\n",
"clear\n",
"clc\n",
"\n",
"bw = 1*10^6\n",
"XL = 300\n",
"Rw = 10\n",
"fr =10*10^6\n",
"\n",
"Q1 = XL/Rw\n",
"Rp = Rw*(Q1^2+1) \n",
"\n",
"Q2 = fr/bw\n",
"Rpnew = Q2*XL\n",
"\n",
"Rext = (Rpnew*Rp)/(Rp-Rpnew)\n",
"\n",
"printf('The value of resistor needed to set the bandwidth of \nthe parellel tuned circuit to 1 Mhz is %.1f ohm',Rext)"
   ]
   }
,
{
		   "cell_type": "markdown",
		   "metadata": {},
		   "source": [
			"## Example 2.23: Calculate_the_cutoff_frequency_of_the_single_section_RC_low_pass_filter.sce"
		   ]
		  },
  {
"cell_type": "code",
	   "execution_count": null,
	   "metadata": {
	    "collapsed": true
	   },
	   "outputs": [],
"source": [
"//Example 2-23, Page No - 55\n",
"\n",
"clear\n",
"clc\n",
"\n",
"R = 8.2*10^3\n",
"C =0.0033*10^-6\n",
"\n",
"fco = 1/(6.28* R*C)\n",
"\n",
"printf('The cut off frequency is %.2f Khz',fco/10^3)"
   ]
   }
,
{
		   "cell_type": "markdown",
		   "metadata": {},
		   "source": [
			"## Example 2.24: Calculate_the_closest_resistor_value_for_the_cutoff_frequency.sce"
		   ]
		  },
  {
"cell_type": "code",
	   "execution_count": null,
	   "metadata": {
	    "collapsed": true
	   },
	   "outputs": [],
"source": [
"//Example 2-24, Page No - 57\n",
"\n",
"clear \n",
"clc\n",
"\n",
"fco =3.4*10^3\n",
"C = 0.047*10^-6\n",
"R = 1/(6.28* fco* C)\n",
"\n",
"printf('The value of the resistor is %.1f ohm', R)\n",
"printf('\nThe closest standard value is 1000 ohm ')"
   ]
   }
,
{
		   "cell_type": "markdown",
		   "metadata": {},
		   "source": [
			"## Example 2.25: Calculate_the_value_of_the_capacitor_required_in_RC_twin_T_notch_filter.sce"
		   ]
		  },
  {
"cell_type": "code",
	   "execution_count": null,
	   "metadata": {
	    "collapsed": true
	   },
	   "outputs": [],
"source": [
"//Example 2-25, page no - 61\n",
"\n",
"clear\n",
"clc\n",
"\n",
"fnotch = 120\n",
"R = 220*10^3\n",
"\n",
"C = 1/(6.28*R*fnotch)\n",
"\n",
"printf('The value of capacitance required is %.3f microfarad',2*C*10^6)"
   ]
   }
,
{
		   "cell_type": "markdown",
		   "metadata": {},
		   "source": [
			"## Example 2.26: Calculate_the_frequency_and_rms_value_of_the_fifth_harmonic_of_the_square_wave.sce"
		   ]
		  },
  {
"cell_type": "code",
	   "execution_count": null,
	   "metadata": {
	    "collapsed": true
	   },
	   "outputs": [],
"source": [
"//Example 2-26,Page No - 82\n",
"\n",
"clear\n",
"clc\n",
"\n",
"Vpeak =3\n",
"f=48*10^3\n",
"\n",
"fifth_harmonic = 5*f\n",
"Vrms=(4/3.14)*(3/5)*0.707\n",
"\n",
"printf('The frequency of the fifth harmonic is %.1f Khz',fifth_harmonic/10^3)\n",
"printf('\n The RMS voltage of the fifth harmonic is %.2f',Vrms)"
   ]
   }
,
{
		   "cell_type": "markdown",
		   "metadata": {},
		   "source": [
			"## Example 2.27: EX2_27.sce"
		   ]
		  },
  {
"cell_type": "code",
	   "execution_count": null,
	   "metadata": {
	    "collapsed": true
	   },
	   "outputs": [],
"source": [
"//Example 2-27, page No - 87\n",
"\n",
"clear\n",
"clc\n",
"\n",
"Vpeak = 5\n",
"f = 4*10^6\n",
"duty_cycle=0.3\n",
"\n",
"T = 1/f\n",
"t0 = duty_cycle*T\n",
"Vavg = Vpeak*duty_cycle\n",
"min_bw =1/t0\n",
"\n",
"printf('The average DC value is %.1f volt',Vavg)\n",
"printf('\n The minimum bandwidth required is %.3f Mhz',min_bw/10^6)\n",
"\n",
""
   ]
   }
,
{
		   "cell_type": "markdown",
		   "metadata": {},
		   "source": [
			"## Example 2.28: Calculate_the_bandwidth_required_to_pass_the_pulse_train.sce"
		   ]
		  },
  {
"cell_type": "code",
	   "execution_count": null,
	   "metadata": {
	    "collapsed": true
	   },
	   "outputs": [],
"source": [
"//Example 2-28, Page No - 88\n",
"\n",
"clear\n",
"clc\n",
"\n",
"tr =6*10^-9\n",
"\n",
"min_bw=(35/0.006)\n",
"\n",
"printf('The minimum bandwidth is %.1f Mhz',min_bw/10^2)"
   ]
   }
,
{
		   "cell_type": "markdown",
		   "metadata": {},
		   "source": [
			"## Example 2.29: Calculate_the_fastest_rise_time_that_can_passed_by_the_circuit.sce"
		   ]
		  },
  {
"cell_type": "code",
	   "execution_count": null,
	   "metadata": {
	    "collapsed": true
	   },
	   "outputs": [],
"source": [
"//Example 2-29, Page No - 89\n",
"\n",
"clear \n",
"clc\n",
"\n",
"bw= 200*10^3\n",
"\n",
"tr= 0.35/(bw*10^-3)\n",
"\n",
"printf('The fastest rise time of the circuit is %.2f microseconds',tr*10^3)"
   ]
   }
,
{
		   "cell_type": "markdown",
		   "metadata": {},
		   "source": [
			"## Example 2.2: Calculate_the_input_power_given_to_the_amplifier.sce"
		   ]
		  },
  {
"cell_type": "code",
	   "execution_count": null,
	   "metadata": {
	    "collapsed": true
	   },
	   "outputs": [],
"source": [
"//\n",
"clear\n",
"clc\n",
"\n",
"pout=6\n",
"power_gain=80\n",
"\n",
"pin=pout/power_gain\n",
"\n",
"printf('The input power of the sigmal is %.1f mW',pin*1000)"
   ]
   }
,
{
		   "cell_type": "markdown",
		   "metadata": {},
		   "source": [
			"## Example 2.30: Calculate_the_rise_time_of_the_displayed_square_wave.sce"
		   ]
		  },
  {
"cell_type": "code",
	   "execution_count": null,
	   "metadata": {
	    "collapsed": true
	   },
	   "outputs": [],
"source": [
"//Example 2-30, Page no - 90\n",
"\n",
"clear \n",
"clc\n",
"\n",
"bw_mhz = 60\n",
"tri_ns= 15\n",
"\n",
"tra_osci = 0.35/(bw_mhz)\n",
"tra_comp = 1.1*(tri_ns^2 + (tra_osci*10^3)^2)^0.5\n",
"\n",
"printf('The rise time of the displayed square wave is %.1f ns',tra_comp)"
   ]
   }
,
{
		   "cell_type": "markdown",
		   "metadata": {},
		   "source": [
			"## Example 2.3: Calculate_the_output_power_of_the_three_cascaded_amplifier.sce"
		   ]
		  },
  {
"cell_type": "code",
	   "execution_count": null,
	   "metadata": {
	    "collapsed": true
	   },
	   "outputs": [],
"source": [
"clc;\n",
"clear;\n",
"A1=5;\n",
"A2=2;\n",
"A3=17;\n",
"total_gain=A1*A2*A3;\n",
"pin= 40*10^-3;\n",
"pout=total_gain*pin;\n",
"printf('The output power is %.1f watts',pout);\n",
""
   ]
   }
,
{
		   "cell_type": "markdown",
		   "metadata": {},
		   "source": [
			"## Example 2.4: Calculate_gain_of_the_second_stage_of_two_cascaded_amplifiers.sce"
		   ]
		  },
  {
"cell_type": "code",
	   "execution_count": null,
	   "metadata": {
	    "collapsed": true
	   },
	   "outputs": [],
"source": [
"clc;\n",
"clear;\n",
"pin=25*10^-6;\n",
"pout=1.5*10^-3;\n",
"A1=3;\n",
"total_gain=pout/pin;\n",
"printf('\nTotal gain is %.1f',total_gain);\n",
"A2=total_gain/A1;\n",
"printf('\nThe gain of second stage is %.1f',A2);"
   ]
   }
,
{
		   "cell_type": "markdown",
		   "metadata": {},
		   "source": [
			"## Example 2.5_a: Calculate_the_attenuation.sce"
		   ]
		  },
  {
"cell_type": "code",
	   "execution_count": null,
	   "metadata": {
	    "collapsed": true
	   },
	   "outputs": [],
"source": [
"clc;\n",
"clear;\n",
"R1=10*10^3;\n",
"R2=470;\n",
"attenuation=R2/(R2+R1);\n",
"printf('The attenuation is %.3f',attenuation);"
   ]
   }
,
{
		   "cell_type": "markdown",
		   "metadata": {},
		   "source": [
			"## Example 2.5_b: Calculate_amplifier_gain_need_to_offset_the_loss_for_an_overall_gain_of_1.sce"
		   ]
		  },
  {
"cell_type": "code",
	   "execution_count": null,
	   "metadata": {
	    "collapsed": true
	   },
	   "outputs": [],
"source": [
"clc;\n",
"clear;\n",
"A1=0.045;\n",
"AT=1;\n",
"A2=AT/A1;\n",
"printf('\nThe amplifier gain need to offset the loss for overall gain of 1 is %.1f',A2);"
   ]
   }
,
{
		   "cell_type": "markdown",
		   "metadata": {},
		   "source": [
			"## Example 2.6: Calculate_the_attenuation_factor_for_the_amplifier.sce"
		   ]
		  },
  {
"cell_type": "code",
	   "execution_count": null,
	   "metadata": {
	    "collapsed": true
	   },
	   "outputs": [],
"source": [
"clc;\n",
"clear;\n",
"Vin=20*10^-6;\n",
"Vout=100*10^-3;\n",
"A1=45000;//A1 isAmplifier gain\n",
"AT=Vout/Vin;//AT is Total gain\n",
"printf('\nTotal gain is %.3f',AT);\n",
"A2=AT/A1;//A2 is attenuation factor\n",
"printf('\nThe atenuation factor needed to to keep the output \nvoltage from exceeding 100 mv is %.4f',A2);"
   ]
   }
,
{
		   "cell_type": "markdown",
		   "metadata": {},
		   "source": [
			"## Example 2.7_a: Calculate_the_gain_of_amplifier.sce"
		   ]
		  },
  {
"cell_type": "code",
	   "execution_count": null,
	   "metadata": {
	    "collapsed": true
	   },
	   "outputs": [],
"source": [
"//Example 2-7 a, Page No.36\n",
"\n",
"clear\n",
"clc\n",
"\n",
"Vin=3*10^-3\n",
"Vout=5\n",
"\n",
"gain_dB= 20*log10 (Vout/Vin)\n",
"\n",
"printf('The gain of amplifier in dB is %.1f',gain_dB)\n",
""
   ]
   }
,
{
		   "cell_type": "markdown",
		   "metadata": {},
		   "source": [
			"## Example 2.7_b: Calculate_attenuation_of_the_filter.sce"
		   ]
		  },
  {
"cell_type": "code",
	   "execution_count": null,
	   "metadata": {
	    "collapsed": true
	   },
	   "outputs": [],
"source": [
"//Example 2-7 b, Page No.36\n",
"\n",
"clear\n",
"clc\n",
"\n",
"pin_mW = 50\n",
"pout_mW = 2\n",
"\n",
"gain_dB= 10*log10(pout_mW/pin_mW)\n",
"\n",
"printf('The gain/attenuation of the amplifier is %.2f',gain_dB)"
   ]
   }
,
{
		   "cell_type": "markdown",
		   "metadata": {},
		   "source": [
			"## Example 2.8: Calculate_the_input_power_given_to_amplifier.sce"
		   ]
		  },
  {
"cell_type": "code",
	   "execution_count": null,
	   "metadata": {
	    "collapsed": true
	   },
	   "outputs": [],
"source": [
"//Example 2-8, Page No- 38\n",
"\n",
"clear \n",
"clc\n",
"\n",
"gain_dB = 40\n",
"pout_W= 100\n",
"\n",
"pin_W = pout_W/10^4\n",
"\n",
"printf('The input power is %.2f watt',pin_W);\n",
" "
   ]
   }
,
{
		   "cell_type": "markdown",
		   "metadata": {},
		   "source": [
			"## Example 2.9: Calculate_the_output_voltage_of_the_amplifier.sce"
		   ]
		  },
  {
"cell_type": "code",
	   "execution_count": null,
	   "metadata": {
	    "collapsed": true
	   },
	   "outputs": [],
"source": [
"//Example 2-9, Page No- 38\n",
"\n",
"clear\n",
"clc\n",
"\n",
"gain_db = 60\n",
"vin = 50*10^-6\n",
"\n",
"vout = 10^(60/20)*vin\n",
"\n",
"printf('The output voltage is %.2f volt',vout);"
   ]
   }
],
"metadata": {
		  "kernelspec": {
		   "display_name": "Scilab",
		   "language": "scilab",
		   "name": "scilab"
		  },
		  "language_info": {
		   "file_extension": ".sce",
		   "help_links": [
			{
			 "text": "MetaKernel Magics",
			 "url": "https://github.com/calysto/metakernel/blob/master/metakernel/magics/README.md"
			}
		   ],
		   "mimetype": "text/x-octave",
		   "name": "scilab",
		   "version": "0.7.1"
		  }
		 },
		 "nbformat": 4,
		 "nbformat_minor": 0
}
