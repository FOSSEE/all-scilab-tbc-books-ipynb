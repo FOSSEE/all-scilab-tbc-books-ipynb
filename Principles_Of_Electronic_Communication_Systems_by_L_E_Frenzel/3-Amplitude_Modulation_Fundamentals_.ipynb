{
"cells": [
 {
		   "cell_type": "markdown",
	   "metadata": {},
	   "source": [
       "# Chapter 3: Amplitude Modulation Fundamentals "
	   ]
	},
{
		   "cell_type": "markdown",
		   "metadata": {},
		   "source": [
			"## Example 3.1: Calculate_modulation_index_Vc_and_Vm_for_the_AM_signal.sce"
		   ]
		  },
  {
"cell_type": "code",
	   "execution_count": null,
	   "metadata": {
	    "collapsed": true
	   },
	   "outputs": [],
"source": [
"//Example 3-1, Page No - 99\n",
"\n",
"clear\n",
"clc\n",
"\n",
"Vmax = 5.9\n",
"Vmin = 1.2\n",
"\n",
"m = (Vmax-Vmin)/(Vmax+Vmin)\n",
"Vc = (Vmax+Vmin)/2\n",
"Vm = (Vmax-Vmin)/2\n",
"\n",
"m = Vm/Vc\n",
"printf('The modulation index is %.3f',m)\n",
"printf('\n Vc=%.1f\tVm=%.1f (for 2 volt/div on verticle scale) ',Vc,Vm)"
   ]
   }
,
{
		   "cell_type": "markdown",
		   "metadata": {},
		   "source": [
			"## Example 3.2: EX3_2.sce"
		   ]
		  },
  {
"cell_type": "code",
	   "execution_count": null,
	   "metadata": {
	    "collapsed": true
	   },
	   "outputs": [],
"source": [
"//Example 3-2 ,Page No - 102\n",
"\n",
"clear\n",
"clc\n",
"\n",
"frq =980*10^3\n",
"frq_range = 5*10^3\n",
"\n",
"fusb = frq+frq_range\n",
"flsb = frq-frq_range\n",
"bw=fusb-flsb\n",
"\n",
"printf('The upper sideband is at %.1f Khz\n Lower sideband is at %.1f Khz\n and the babdwidth is %.1f Khz',fusb/10^3,flsb/10^3,bw/10^3)"
   ]
   }
,
{
		   "cell_type": "markdown",
		   "metadata": {},
		   "source": [
			"## Example 3.3: Calculate_the_total_power_and_power_in_one_sideband.sce"
		   ]
		  },
  {
"cell_type": "code",
	   "execution_count": null,
	   "metadata": {
	    "collapsed": true
	   },
	   "outputs": [],
"source": [
"//Example 3-3, Page No - 106\n",
"\n",
"clear \n",
"clc\n",
"\n",
"Pc = 30\n",
"m=0.85\n",
"\n",
"Pt = Pc*(1+ (m^2/2))\n",
"\n",
"Psb_both =Pt-Pc\n",
"Psb_one = Psb_both/2\n",
"\n",
"printf('The total power is %.1f watt \n The power in one sideband is %.1f watt',Pt,Psb_one)"
   ]
   }
,
{
		   "cell_type": "markdown",
		   "metadata": {},
		   "source": [
			"## Example 3.4: Calculate_the_carrier_power_total_powerand_sideband_power.sce"
		   ]
		  },
  {
"cell_type": "code",
	   "execution_count": null,
	   "metadata": {
	    "collapsed": true
	   },
	   "outputs": [],
"source": [
"//Example 3-4, Page No - 108\n",
"\n",
"clear\n",
"clc\n",
"\n",
"R = 40\n",
"I = 4.8\n",
"m=0.9\n",
"\n",
"Pc = I^2*R\n",
"Pt = (I*(1+(m^2/2))^0.5)^2*R\n",
"Psb = Pt-Pc\n",
"\n",
"printf('The carrier power is %.1f watt\n Total power = %.1f watt\n Sideband Power =%.1f watt',Pc,Pt,Psb)"
   ]
   }
,
{
		   "cell_type": "markdown",
		   "metadata": {},
		   "source": [
			"## Example 3.5: Calculate_the_percentage_of_modulation.sce"
		   ]
		  },
  {
"cell_type": "code",
	   "execution_count": null,
	   "metadata": {
	    "collapsed": true
	   },
	   "outputs": [],
"source": [
"//Example 3-5, Page No - 108\n",
"\n",
"clear\n",
"clc\n",
"\n",
"It = 5.1\n",
"Ic =4.8\n",
"\n",
"m=(2*((It/Ic)^2-1))^0.5\n",
"\n",
"printf('The percentage of modulation is %.1f',m*100)"
   ]
   }
,
{
		   "cell_type": "markdown",
		   "metadata": {},
		   "source": [
			"## Example 3.6: Calculate_the_power_in_one_sideband_of_the_transmitter.sce"
		   ]
		  },
  {
"cell_type": "code",
	   "execution_count": null,
	   "metadata": {
	    "collapsed": true
	   },
	   "outputs": [],
"source": [
"// Example 3-6, Page No - 109\n",
"\n",
"clear \n",
"clc\n",
"\n",
"m = 0.9\n",
"Pc = 921.6\n",
"\n",
"Psb = (m^2*Pc)/4\n",
"\n",
"printf('The power in one sideband %.1f watt ',Psb)"
   ]
   }
,
{
		   "cell_type": "markdown",
		   "metadata": {},
		   "source": [
			"## Example 3.7: Calculate_the_Peak_Envelop_Power_for_the_SSB_transmitter.sce"
		   ]
		  },
  {
"cell_type": "code",
	   "execution_count": null,
	   "metadata": {
	    "collapsed": true
	   },
	   "outputs": [],
"source": [
"//Example 3-7,Page No- 113\n",
"\n",
"clear\n",
"clc\n",
"\n",
"Vpp = 178\n",
"R = 75\n",
"\n",
"Vp =Vpp/2\n",
"Vrms = 0.707*Vp\n",
"PEP =(Vrms^2/R)\n",
"\n",
"printf('The peak envelop power is %0.1f watt', PEP)"
   ]
   }
,
{
		   "cell_type": "markdown",
		   "metadata": {},
		   "source": [
			"## Example 3.8: Calculate_the_Peak_Envelope_Power_and_average_power_of_the_transmitter.sce"
		   ]
		  },
  {
"cell_type": "code",
	   "execution_count": null,
	   "metadata": {
	    "collapsed": true
	   },
	   "outputs": [],
"source": [
"//Example 3-8,Page No - 113\n",
"\n",
"clear\n",
"clc\n",
"\n",
"Vs =24\n",
"Im =9.3\n",
"\n",
"PEP = Vs*Im \n",
"Pavg1 = PEP/3\n",
"Pavg2 = PEP/4\n",
"\n",
"printf('The peak envelope power is %.1f watt\n Average power of transmitter is %.1f watt to %.1f watt',PEP,Pavg2,Pavg1)"
   ]
   }
],
"metadata": {
		  "kernelspec": {
		   "display_name": "Scilab",
		   "language": "scilab",
		   "name": "scilab"
		  },
		  "language_info": {
		   "file_extension": ".sce",
		   "help_links": [
			{
			 "text": "MetaKernel Magics",
			 "url": "https://github.com/calysto/metakernel/blob/master/metakernel/magics/README.md"
			}
		   ],
		   "mimetype": "text/x-octave",
		   "name": "scilab",
		   "version": "0.7.1"
		  }
		 },
		 "nbformat": 4,
		 "nbformat_minor": 0
}
