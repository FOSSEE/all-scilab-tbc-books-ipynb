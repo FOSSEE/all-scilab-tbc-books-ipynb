{
"cells": [
 {
		   "cell_type": "markdown",
	   "metadata": {},
	   "source": [
       "# Chapter 10: Multiplexing and Demultiplexing "
	   ]
	},
{
		   "cell_type": "markdown",
		   "metadata": {},
		   "source": [
			"## Example 10.1: Calculate_the_number_of_cahnnels_carried_by_the_cable_TV_service.sce"
		   ]
		  },
  {
"cell_type": "code",
	   "execution_count": null,
	   "metadata": {
	    "collapsed": true
	   },
	   "outputs": [],
"source": [
"//Example 10-1,Page No - 368\n",
"\n",
"clear\n",
"clc\n",
"\n",
"BW_service = 860*10^6\n",
"BW_ch = 6*10^6\n",
"\n",
"total_ch = BW_service/BW_ch\n",
"\n",
"printf('Total number of channels are %d',total_ch)"
   ]
   }
,
{
		   "cell_type": "markdown",
		   "metadata": {},
		   "source": [
			"## Example 10.2: EX10_2.sce"
		   ]
		  },
  {
"cell_type": "code",
	   "execution_count": null,
	   "metadata": {
	    "collapsed": true
	   },
	   "outputs": [],
"source": [
"//Example 10-2, Page No -380\n",
"\n",
"clear \n",
"clc\n",
"\n",
"channels =16\n",
"sampling_rate= 3.5*10^3\n",
"w_len=6\n",
"\n",
"available_ch =channels-1\n",
"bpf =channels*w_len\n",
"data_rate = sampling_rate * bpf\n",
"\n",
"printf('Available channels are %d',available_ch)\n",
"printf('\n Bits Per Frame =%d',bpf)\n",
"printf('\n The serial data rate %.1f Khz',data_rate/10^3)\n",
" "
   ]
   }
],
"metadata": {
		  "kernelspec": {
		   "display_name": "Scilab",
		   "language": "scilab",
		   "name": "scilab"
		  },
		  "language_info": {
		   "file_extension": ".sce",
		   "help_links": [
			{
			 "text": "MetaKernel Magics",
			 "url": "https://github.com/calysto/metakernel/blob/master/metakernel/magics/README.md"
			}
		   ],
		   "mimetype": "text/x-octave",
		   "name": "scilab",
		   "version": "0.7.1"
		  }
		 },
		 "nbformat": 4,
		 "nbformat_minor": 0
}
