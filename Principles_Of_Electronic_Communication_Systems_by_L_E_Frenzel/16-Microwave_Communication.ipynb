{
"cells": [
 {
		   "cell_type": "markdown",
	   "metadata": {},
	   "source": [
       "# Chapter 16: Microwave Communication"
	   ]
	},
{
		   "cell_type": "markdown",
		   "metadata": {},
		   "source": [
			"## Example 16.1: Calculate_the_required_impedance_of_the_microstrip_and_its_length.sce"
		   ]
		  },
  {
"cell_type": "code",
	   "execution_count": null,
	   "metadata": {
	    "collapsed": true
	   },
	   "outputs": [],
"source": [
"//Example 16-1, Page No - 616\n",
"\n",
"clear\n",
"clc\n",
"\n",
"Zsrc =50\n",
"Zld  =136\n",
"f =5800*10^6\n",
"Er =2.4\n",
"Zq =(Zsrc * Zld)^0.5\n",
"Vp =1/(Er)^0.5\n",
"lamda = 300/f\n",
"len = (lamda/4)*38.37*Vp\n",
"\n",
"printf('The required impedance is %.2f ohm',Zq)\n",
"printf('\n\n The length of the microstrip %.2f inches',len*10^6)"
   ]
   }
,
{
		   "cell_type": "markdown",
		   "metadata": {},
		   "source": [
			"## Example 16.2: EX16_2.sce"
		   ]
		  },
  {
"cell_type": "code",
	   "execution_count": null,
	   "metadata": {
	    "collapsed": true
	   },
	   "outputs": [],
"source": [
"//Example 16-2,Page No-623\n",
"\n",
"clear\n",
"clc\n",
"\n",
"w=0.65\n",
"h=0.38\n",
"\n",
"fco = 300/(2*((0.65*2.54)/100))\n",
"f =1.42*fco\n",
"\n",
"printf('The cutoff frequency of the %.3f Ghz',fco/10^3)\n",
"printf('\n\n Operating frequency of the wavwguide is %.2f Ghz',f/10^3)"
   ]
   }
,
{
		   "cell_type": "markdown",
		   "metadata": {},
		   "source": [
			"## Example 16.3: Criterion_for_the_operation_of_rectangular_waveguide_in_the_C_band.sce"
		   ]
		  },
  {
"cell_type": "code",
	   "execution_count": null,
	   "metadata": {
	    "collapsed": true
	   },
	   "outputs": [],
"source": [
"//Example 16-3,Page No- 623\n",
"\n",
"clear\n",
"clc\n",
"\n",
"printf('The c band is approximately 4 to 6 Ghz since a waveguide \n acts as a high pass filter with cut off frequency of \n 9.08 Ghz it will not pass c band signal')"
   ]
   }
,
{
		   "cell_type": "markdown",
		   "metadata": {},
		   "source": [
			"## Example 16.4: EX16_4.sce"
		   ]
		  },
  {
"cell_type": "code",
	   "execution_count": null,
	   "metadata": {
	    "collapsed": true
	   },
	   "outputs": [],
"source": [
"//Example 16-4, page No - 648\n",
"\n",
"clear\n",
"clc\n",
"\n",
"lamda1 =5\n",
"f2 = 15*10^9\n",
"D=1.524\n",
"\n",
"f1=984/lamda1\n",
"lamda2 =300/f2\n",
"G = (6*(D/lamda2)^2)\n",
"B = 70/(D/lamda2)\n",
"\n",
"printf('The lowest possible oprerating frequency is %.1f Mhz ',f1)\n",
"printf('\n\n The gain at 15 Ghz is %.1f ',G/10^12)\n",
"printf('\n\n The beam width at 15Ghz is %.2f degree',B*10^6)"
   ]
   }
,
{
		   "cell_type": "markdown",
		   "metadata": {},
		   "source": [
			"## Example 16.5: Calculate_line_of_sight_distance_to_aircraft_and_the_altitude_of_the_aircraft.sce"
		   ]
		  },
  {
"cell_type": "code",
	   "execution_count": null,
	   "metadata": {
	    "collapsed": true
	   },
	   "outputs": [],
"source": [
"//Example 16-5,Page No - 661\n",
"\n",
"clear\n",
"clc\n",
"\n",
"T = 9.2\n",
"theta = 20\n",
"sin20 = 0.342\n",
"\n",
"D_nautical = T/12.36\n",
"D_statute =D_nautical*0.87\n",
"A = D_statute*0.342\n",
"\n",
"\n",
"printf('\nThe line of distance to the aircraft in \nthe statute miles %.3f ',D_statute)\n",
"printf('\n\nThe altitude of the aircraft is %.2f mi and in feet it is 1161.6',A)"
   ]
   }
],
"metadata": {
		  "kernelspec": {
		   "display_name": "Scilab",
		   "language": "scilab",
		   "name": "scilab"
		  },
		  "language_info": {
		   "file_extension": ".sce",
		   "help_links": [
			{
			 "text": "MetaKernel Magics",
			 "url": "https://github.com/calysto/metakernel/blob/master/metakernel/magics/README.md"
			}
		   ],
		   "mimetype": "text/x-octave",
		   "name": "scilab",
		   "version": "0.7.1"
		  }
		 },
		 "nbformat": 4,
		 "nbformat_minor": 0
}
