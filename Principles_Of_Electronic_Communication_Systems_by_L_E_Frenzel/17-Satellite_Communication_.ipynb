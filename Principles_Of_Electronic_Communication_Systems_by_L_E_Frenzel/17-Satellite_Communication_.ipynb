{
"cells": [
 {
		   "cell_type": "markdown",
	   "metadata": {},
	   "source": [
       "# Chapter 17: Satellite Communication "
	   ]
	},
{
		   "cell_type": "markdown",
		   "metadata": {},
		   "source": [
			"## Example 17.1: Calculate_the_approximate_azimuth_and_elevation_setting_of_the_antenna.sce"
		   ]
		  },
  {
"cell_type": "code",
	   "execution_count": null,
	   "metadata": {
	    "collapsed": true
	   },
	   "outputs": [],
"source": [
"//Example 17-1,Page no - 678\n",
"\n",
"clear\n",
"clc\n",
"\n",
"stn_long = 95\n",
"stn_lat = 30\n",
"sat_long =121\n",
"rad_pos = 137\n",
"printf('The elevation setting for the antenna is 45 degre')\n",
"azimuth = 360-rad_pos\n",
"printf('\nThe azimuth setting for the antenna is %d degree',azimuth)\n",
""
   ]
   }
,
{
		   "cell_type": "markdown",
		   "metadata": {},
		   "source": [
			"## Example 17.2: EX17_2.sce"
		   ]
		  },
  {
"cell_type": "code",
	   "execution_count": null,
	   "metadata": {
	    "collapsed": true
	   },
	   "outputs": [],
"source": [
"//Example 17-2,Page No -681\n",
"\n",
"clear\n",
"clc\n",
"\n",
"flo = 2*10^9\n",
"fd =3840*10^6\n",
"B =36*10^6\n",
"\n",
"fu =fd+flo\n",
"C =2*B\n",
"\n",
"printf('The uplink frequency is %.2f Ghz',fu/10^9)\n",
"printf('\n\nThe data rate is %d Mbps', C/10^6)"
   ]
   }
,
{
		   "cell_type": "markdown",
		   "metadata": {},
		   "source": [
			"## Example 17.3: Calculate_local_oscillator_frequency_to_achieve_the_desired_IF.sce"
		   ]
		  },
  {
"cell_type": "code",
	   "execution_count": null,
	   "metadata": {
	    "collapsed": true
	   },
	   "outputs": [],
"source": [
"//Example 17-3,Page No - 691\n",
"\n",
"clear\n",
"clc\n",
"\n",
"fs = 4.08*10^9\n",
"fIF1 = 770*10^6\n",
"fIF2 = 140*10^6\n",
"\n",
"flo1 = fs - fIF1\n",
"flo2 = fIF1 - fIF2\n",
"\n",
"printf('The local oscillator frequency for first IF is %.1f Mhz',flo1/10^6)\n",
"printf('\n\n The local oscillator frequency for the second IF is %.1f Mhz',flo2/10^6)"
   ]
   }
],
"metadata": {
		  "kernelspec": {
		   "display_name": "Scilab",
		   "language": "scilab",
		   "name": "scilab"
		  },
		  "language_info": {
		   "file_extension": ".sce",
		   "help_links": [
			{
			 "text": "MetaKernel Magics",
			 "url": "https://github.com/calysto/metakernel/blob/master/metakernel/magics/README.md"
			}
		   ],
		   "mimetype": "text/x-octave",
		   "name": "scilab",
		   "version": "0.7.1"
		  }
		 },
		 "nbformat": 4,
		 "nbformat_minor": 0
}
