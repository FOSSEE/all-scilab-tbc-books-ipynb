{
"cells": [
 {
		   "cell_type": "markdown",
	   "metadata": {},
	   "source": [
       "# Chapter 4: Amplitude Modulator and Demodulator circuits"
	   ]
	},
{
		   "cell_type": "markdown",
		   "metadata": {},
		   "source": [
			"## Example 4.1: EX4_1.sce"
		   ]
		  },
  {
"cell_type": "code",
	   "execution_count": null,
	   "metadata": {
	    "collapsed": true
	   },
	   "outputs": [],
"source": [
"//Example 4-1, Page No - 129\n",
"\n",
"clear\n",
"clc\n",
"\n",
"Vcc =48\n",
"I = 3.5\n",
"effi_percent=70\n",
"modulation_percent= 67 \n",
"m = modulation_percent/100\n",
"\n",
"Pi = Vcc*I\n",
"Pc=Pi\n",
"Pm = Pi/2\n",
"Pout = (effi_percent*Pi)/100\n",
"Ps = Pc*((m^2)/4)\n",
"max_swing = 2*Vcc \n",
"\n",
"printf('The input power is %.1f watt \n AF power required for the 100 percent modulation is %.1f watt \n The carrier output power is %.1f watt\n', Pi,Pm,Pout) \n",
"printf('The power in one sideband %.2f watt \n Maximum swing = %.1f volt\n Minimum swing =0.0 volt',Ps,max_swing)"
   ]
   }
,
{
		   "cell_type": "markdown",
		   "metadata": {},
		   "source": [
			"## Example 4.2: EX4_2.sce"
		   ]
		  },
  {
"cell_type": "code",
	   "execution_count": null,
	   "metadata": {
	    "collapsed": true
	   },
	   "outputs": [],
"source": [
"//Example 4-2,Page NO - 145\n",
"\n",
"clear\n",
"clc\n",
"\n",
"fc =4.2*10^6\n",
"voice_f_l = 300\n",
"voice_f_u = 3400\n",
"\n",
"fll_usb = fc + voice_f_l\n",
"ful_usb = fc + voice_f_u\n",
"\n",
"fll_lsb = fc - voice_f_l\n",
"ful_lsb = fc - voice_f_u\n",
"\n",
"flsb = (fll_lsb + ful_lsb)/2\n",
"\n",
"printf('The range for USB is %.1f Hz to %.1f Hz',fll_usb,ful_usb)\n",
"printf('\n The range for LSB is %.1f Hz to %.1f Hz',fll_lsb,ful_lsb)\n",
"printf('\n The approximate center frequency of the filter \n to select the lower sideband is %.1f Hz',flsb)"
   ]
   }
],
"metadata": {
		  "kernelspec": {
		   "display_name": "Scilab",
		   "language": "scilab",
		   "name": "scilab"
		  },
		  "language_info": {
		   "file_extension": ".sce",
		   "help_links": [
			{
			 "text": "MetaKernel Magics",
			 "url": "https://github.com/calysto/metakernel/blob/master/metakernel/magics/README.md"
			}
		   ],
		   "mimetype": "text/x-octave",
		   "name": "scilab",
		   "version": "0.7.1"
		  }
		 },
		 "nbformat": 4,
		 "nbformat_minor": 0
}
