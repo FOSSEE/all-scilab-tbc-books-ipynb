{
"cells": [
 {
		   "cell_type": "markdown",
	   "metadata": {},
	   "source": [
       "# Chapter 14: NUCLEUR FISSION AND FUSION"
	   ]
	},
{
		   "cell_type": "markdown",
		   "metadata": {},
		   "source": [
			"## Example 14.1: COMPUTE_FISSION_ENERGY.sce"
		   ]
		  },
  {
"cell_type": "code",
	   "execution_count": null,
	   "metadata": {
	    "collapsed": true
	   },
	   "outputs": [],
"source": [
"clc;clear;\n",
"//Example 14.1\n",
"\n",
"//given data\n",
"E1=7.8;//avg. B.E per nucleon in MeV\n",
"E2=8.6;//for fissin fragments in MeV\n",
"\n",
"//calculations\n",
"FER=(234*E2)-(236*E1);\n",
"disp(FER,'Fission energy released in MeV')"
   ]
   }
,
{
		   "cell_type": "markdown",
		   "metadata": {},
		   "source": [
			"## Example 14.2: FIND_ELEMENTARY_PARTICLES_RELEASED_IN_BINARY_FISSION_OF_92U235.sce"
		   ]
		  },
  {
"cell_type": "code",
	   "execution_count": null,
	   "metadata": {
	    "collapsed": true
	   },
	   "outputs": [],
"source": [
"clc;clear;\n",
"//Example 14.2\n",
"\n",
"//given data\n",
"m1=235.044;//mass of 92U235 in a.m.u\n",
"m2=97.905;//mass of 42Mo98 in a.m.u\n",
"m3=135.917;//mass of 54Xe136 in a.m.u\n",
"//rxn = 0n1 + 92U235 = 42Mo98 + 54Xe136 + 4 -1e0 + 2 0n1\n",
"\n",
"//calculation\n",
"LHSm=1.009+m1;\n",
"RHSm=m2+m3+(4*0.00055)+(2*1.009);\n",
"dm=LHSm-RHSm;\n",
"disp(dm,'mass defect in a.m.u');\n",
"E=dm*931;\n",
"disp(E,'energy released in MeV')"
   ]
   }
,
{
		   "cell_type": "markdown",
		   "metadata": {},
		   "source": [
			"## Example 14.3: HOW_MUCH_HYDROGEN_MUST_BE_CONVERTED_INTO_HELIUM.sce"
		   ]
		  },
  {
"cell_type": "code",
	   "execution_count": null,
	   "metadata": {
	    "collapsed": true
	   },
	   "outputs": [],
"source": [
"clc;clear;\n",
"//Example 14.3\n",
"\n",
"//given data\n",
"m1=1.00813;//mass of 1H1 in a.m.u\n",
"m2=4.00386;//mass of 2He4 in a.m.u\n",
"SC=1.35;//solar constant in kW/m^2\n",
"d=1.5*10^11;//dist b/w earth and sum in m\n",
"e=1.6*10^-19;//the charge on electron in C\n",
"Na=6.02*10^26;//Avgraodo no. in 1/kg mole\n",
"pi=3.14;//const\n",
"//rxn = 4 1H1 = 2He4 + 2 1e0\n",
"\n",
"//calculations\n",
"dm=(4*m1)-m2\n",
"E=dm*931;//energy produced in MeV\n",
"EP=E/4;//energy produced per atom\n",
"EP=EP*10^6*e;//conversion in J\n",
"EPkg=EP*Na;//energy produced by 1 kg of hydrogen\n",
"SC=SC*1000;//conversion in J/s-m^2\n",
"SA=4*pi*d^2;//surface area of sphere\n",
"ER=SC*SA;//energy recieved per second\n",
"m=ER/EPkg;\n",
"disp((m/10^3),'mass of hydrogen consumed in tonnes/second')"
   ]
   }
,
{
		   "cell_type": "markdown",
		   "metadata": {},
		   "source": [
			"## Example 14.4: CALCULATE_THE_ENERGY_LIBERATED.sce"
		   ]
		  },
  {
"cell_type": "code",
	   "execution_count": null,
	   "metadata": {
	    "collapsed": true
	   },
	   "outputs": [],
"source": [
"clc;clear;\n",
"//Example 14.4\n",
"\n",
"//given data\n",
"m1=2.01478;//mass of 1H2 in a.m.u\n",
"m2=4.00388;//mass of 2He4 in a.m.u\n",
"//rxn 1H2 + 1H2 = 2He4 + Q\n",
"\n",
"//calculations\n",
"Q=2*m1-m2;\n",
"Q=Q*931;//conversion in MeV\n",
"disp(Q,'energy liberated in MeV')"
   ]
   }
],
"metadata": {
		  "kernelspec": {
		   "display_name": "Scilab",
		   "language": "scilab",
		   "name": "scilab"
		  },
		  "language_info": {
		   "file_extension": ".sce",
		   "help_links": [
			{
			 "text": "MetaKernel Magics",
			 "url": "https://github.com/calysto/metakernel/blob/master/metakernel/magics/README.md"
			}
		   ],
		   "mimetype": "text/x-octave",
		   "name": "scilab",
		   "version": "0.7.1"
		  }
		 },
		 "nbformat": 4,
		 "nbformat_minor": 0
}
