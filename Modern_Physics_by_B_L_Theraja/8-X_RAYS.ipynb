{
"cells": [
 {
		   "cell_type": "markdown",
	   "metadata": {},
	   "source": [
       "# Chapter 8: X RAYS"
	   ]
	},
{
		   "cell_type": "markdown",
		   "metadata": {},
		   "source": [
			"## Example 8.10: CALCULATE_ANGLE_OF_THIRD_ORDER_REFLECTION_NOTE_CALCUALTION_MISTAKE_IN_BOOK.sce"
		   ]
		  },
  {
"cell_type": "code",
	   "execution_count": null,
	   "metadata": {
	    "collapsed": true
	   },
	   "outputs": [],
"source": [
"    clc;clear;\n",
"//Example 8.10\n",
"\n",
"//given values\n",
"D=12;//glancing angle in Degree\n",
"n=1;\n",
"d=3.04*10^-10;//grating space in m\n",
"\n",
"//calculation \n",
"W=(2*d*sind(D));\n",
"disp((W/(10^-10)),'the wavelength in Angstrom');\n",
"D3=asind((3*W)/(2*d));\n",
"disp(D3,'the angle for third order reflection in degrees')"
   ]
   }
,
{
		   "cell_type": "markdown",
		   "metadata": {},
		   "source": [
			"## Example 8.11: HOW_MANY_ORDERS_OF_BRAGG_RELFLECTION.sce"
		   ]
		  },
  {
"cell_type": "code",
	   "execution_count": null,
	   "metadata": {
	    "collapsed": true
	   },
	   "outputs": [],
"source": [
"clc;clear;\n",
"//Example 8.11\n",
"\n",
"//given data\n",
"d=1.181;//distance of seperation in Angstrom\n",
"W=1.540;//wavelength in Angstrom\n",
"\n",
"//calculations\n",
"n=2*d/W;//sin(D) = 1 for max value\n",
"disp(n,'the orders of bragg reflection')"
   ]
   }
,
{
		   "cell_type": "markdown",
		   "metadata": {},
		   "source": [
			"## Example 8.12: CALCULATE_INTERPLANAR_SPACING.sce"
		   ]
		  },
  {
"cell_type": "code",
	   "execution_count": null,
	   "metadata": {
	    "collapsed": true
	   },
	   "outputs": [],
"source": [
"clc;clear;\n",
"//Example 8.12\n",
"\n",
"//given data\n",
"W=0.6;//wavelength in angstrom\n",
"D1=6.45;\n",
"D2=9.15;\n",
"D3=13;//angles in degree\n",
"\n",
"//calculation\n",
"d=W/(2*sind(D1));\n",
"disp(d,'interplanar spacing for (a) in angstrom');\n",
"d=W/(2*sind(D2));\n",
"disp(d,'interplanar spacing for (b) in angstrom');\n",
"d=W/(2*sind(D3))*2;//n=2 for (c)\n",
"disp(d,'interplanar spacing for (c) in angstrom')"
   ]
   }
,
{
		   "cell_type": "markdown",
		   "metadata": {},
		   "source": [
			"## Example 8.13: DETERMINE_THE_SPACING.sce"
		   ]
		  },
  {
"cell_type": "code",
	   "execution_count": null,
	   "metadata": {
	    "collapsed": true
	   },
	   "outputs": [],
"source": [
"clc;clear;\n",
"//Example 8.13\n",
"\n",
"//given data\n",
"W=3*10^-10;//wavelength in m\n",
"D=40;//angle in degree\n",
"n=1;\n",
"\n",
"//calculation\n",
"d=n*W/(2*sind(D));\n",
"disp((d/10^-10),'spacing in AU')\n",
"a=2*d;\n",
"v=a^3;\n",
"disp(v,'the volumne in m^3 is')"
   ]
   }
,
{
		   "cell_type": "markdown",
		   "metadata": {},
		   "source": [
			"## Example 8.14: DETERMINE_THE_TYPE_OF_CRYSTAL_POSSESED.sce"
		   ]
		  },
  {
"cell_type": "code",
	   "execution_count": null,
	   "metadata": {
	    "collapsed": true
	   },
	   "outputs": [],
"source": [
"clc;clear;\n",
"//Example 8.14\n",
"\n",
"//given data\n",
"D1=5.4;\n",
"D2=7.6;\n",
"D3=9.4;//angles in degree\n",
"\n",
"//calcualtion\n",
"d1=1/(2*sind(D1));\n",
"d2=1/(2*sind(D2));\n",
"d3=1/(2*sind(D3));\n",
"m=min(d1,d2,d3);\n",
"d1=d1/m;\n",
"d2=d2/m;\n",
"d3=d3/m;\n",
"disp(d1,d2,d3,'d1:d2:d3 =')"
   ]
   }
,
{
		   "cell_type": "markdown",
		   "metadata": {},
		   "source": [
			"## Example 8.15: CALCULATE_SHORT_WAVELENGTH_AND_GALNCING_ANGLE.sce"
		   ]
		  },
  {
"cell_type": "code",
	   "execution_count": null,
	   "metadata": {
	    "collapsed": true
	   },
	   "outputs": [],
"source": [
"clc;clear;\n",
"//Example 8.15\n",
"\n",
"//given data\n",
"V=50000;//applied voltage in V\n",
"p=1.99*10^3;//density in kg/m^3\n",
"n=4;\n",
"Na=6.02*10^26;//Avgraodo no. in 1/kg mole\n",
"M=74.6;//molecular mass\n",
"W=0.248*10^-10;//wavelength in m\n",
"\n",
"//calculation\n",
"Wmin=12400/V;\n",
"disp(Wmin,'short wavelength limit');\n",
"a=(n*M/(Na*p))^(1/3);\n",
"d=a/2;\n",
"D=asind(W/(2*d));\n",
"disp(D,'glancing angle in degree')"
   ]
   }
,
{
		   "cell_type": "markdown",
		   "metadata": {},
		   "source": [
			"## Example 8.16: CALCULATE_LATTICE_SPACING_OF_NaCl.sce"
		   ]
		  },
  {
"cell_type": "code",
	   "execution_count": null,
	   "metadata": {
	    "collapsed": true
	   },
	   "outputs": [],
"source": [
"clc;clear;\n",
"//Example 8.16\n",
"\n",
"//given data\n",
"W=1.54;//wavelength in angstrom\n",
"D=15.9;//angle in degree\n",
"M=58.45//molecular weight\n",
"p=2164*10^3;//density in kg/m^3\n",
"n=2;//for NaCl molecule\n",
"\n",
"//calculation\n",
"d=W/(2*sind(D));\n",
"disp(d,'lattice spacing in angstrom');\n",
"d=d*10^-10;\n",
"Na=M/(2*d^3*p);\n",
"disp(Na,'Avogrado number in 1/gm mole')"
   ]
   }
,
{
		   "cell_type": "markdown",
		   "metadata": {},
		   "source": [
			"## Example 8.17: WHAT_IS_PRIMARY_WAVELENGTH.sce"
		   ]
		  },
  {
"cell_type": "code",
	   "execution_count": null,
	   "metadata": {
	    "collapsed": true
	   },
	   "outputs": [],
"source": [
"clc;clear;\n",
"//Example 8.17\n",
"\n",
"//given data\n",
"D=60;//angle in degree\n",
"W=0.254;//wavelength in angstrom\n",
"\n",
"//calcualtion\n",
"dW=0.024*(1-cosd(D));\n",
"W1=W-dW;\n",
"disp(W1,'primary X-ray wavelength in angstrom')"
   ]
   }
,
{
		   "cell_type": "markdown",
		   "metadata": {},
		   "source": [
			"## Example 8.18: WHAT_IS_LATTICE_PARAMETER.sce"
		   ]
		  },
  {
"cell_type": "code",
	   "execution_count": null,
	   "metadata": {
	    "collapsed": true
	   },
	   "outputs": [],
"source": [
"clc;clear;\n",
"//Example 8.18\n",
"\n",
"//given data\n",
"D=32;//angle in degree\n",
"W=1.54*10^-10;//wavelength in angstrom\n",
"h=2;k=2;l=0;//lattice consts\n",
"\n",
"//calcualtions\n",
"d=W/(2*sind(D));\n",
"a=d*sqrt(h^2+k^2+l^2);\n",
"disp(a,'lattice parameter in m');\n",
"r=sqrt(2)*a/4;\n",
"disp(r,'radius of atom in m')"
   ]
   }
,
{
		   "cell_type": "markdown",
		   "metadata": {},
		   "source": [
			"## Example 8.1: CALCULATE_WAVELENGTH.sce"
		   ]
		  },
  {
"cell_type": "code",
	   "execution_count": null,
	   "metadata": {
	    "collapsed": true
	   },
	   "outputs": [],
"source": [
"clc;clear;\n",
"//Example 8.1\n",
"\n",
"//given data\n",
"V=60000;//working voltage in V\n",
"\n",
"//calculation\n",
"Wmin=12400/V;\n",
"disp(Wmin,'Wavelength emitted in Angstrom')"
   ]
   }
,
{
		   "cell_type": "markdown",
		   "metadata": {},
		   "source": [
			"## Example 8.2: CALCULATE_NUMBER_OF_ELECTRONS_STRIKING_PER_SECOND.sce"
		   ]
		  },
  {
"cell_type": "code",
	   "execution_count": null,
	   "metadata": {
	    "collapsed": true
	   },
	   "outputs": [],
"source": [
"clc;clear;\n",
"//Example 8.2\n",
"\n",
"//given data\n",
"V=12400;//Volatage applied in V\n",
"I=0.002;//current drop in A\n",
"e=1.6*10^-19;//the charge on electron in C\n",
"\n",
"//calculations\n",
"n=I/e;\n",
"disp(n,'No. of electrons');\n",
"v=(5.93*10^5)*(sqrt(V));\n",
"disp(v,'the speed with which they strike in m/s');\n",
"Wmin=12400/V;\n",
"disp(Wmin,'shortest wavelength in Angstrom')"
   ]
   }
,
{
		   "cell_type": "markdown",
		   "metadata": {},
		   "source": [
			"## Example 8.3: CALCULATE_MIN_APPLIED_POTENTIAL.sce"
		   ]
		  },
  {
"cell_type": "code",
	   "execution_count": null,
	   "metadata": {
	    "collapsed": true
	   },
	   "outputs": [],
"source": [
"clc;clear;\n",
"//Example 8.3\n",
"\n",
"//given values\n",
"Wmin=1;//shortest wavelength in Angstrom\n",
"\n",
"//calculations\n",
"V=(12400/Wmin)/1000;\n",
"disp(V,'The minimum applied voltage in kV')"
   ]
   }
,
{
		   "cell_type": "markdown",
		   "metadata": {},
		   "source": [
			"## Example 8.4: CALCULATE_MAX_SPEED.sce"
		   ]
		  },
  {
"cell_type": "code",
	   "execution_count": null,
	   "metadata": {
	    "collapsed": true
	   },
	   "outputs": [],
"source": [
"clc;clear;\n",
"//Exmaple 8.4\n",
"\n",
"//given data\n",
"I=0.005;//current in A\n",
"V=100000;//potential difference in V\n",
"\n",
"//calcualtions\n",
"v=(5.98*10^5)*(sqrt(V));\n",
"disp(v,'Maximum speed in m/s');\n",
"IP=V*I;//incident power in W\n",
"P=.999*IP;//power converted into heat in W\n",
"H=P/4.18;\n",
"disp(H,'The heat produced/second in cal/s');"
   ]
   }
,
{
		   "cell_type": "markdown",
		   "metadata": {},
		   "source": [
			"## Example 8.5: CALCULATE_PLANKS_CONSTANT.sce"
		   ]
		  },
  {
"cell_type": "code",
	   "execution_count": null,
	   "metadata": {
	    "collapsed": true
	   },
	   "outputs": [],
"source": [
"clc;clear;\n",
"//Example 8.5\n",
"\n",
"//given data\n",
"V=30000;//potential difference in V\n",
"Wmin=0.414*10^-10;//short wavelength limit in m\n",
"e=1.602*10^-19;//the charge on electron in C\n",
"c=3*10^8;//speed of light in m/s\n",
"\n",
"//calcualtions\n",
"h=(e*V*Wmin)/c;\n",
"disp(h,'The Plancks const in Js')"
   ]
   }
,
{
		   "cell_type": "markdown",
		   "metadata": {},
		   "source": [
			"## Example 8.6: CALCULATE_SCREENING_CONST.sce"
		   ]
		  },
  {
"cell_type": "code",
	   "execution_count": null,
	   "metadata": {
	    "collapsed": true
	   },
	   "outputs": [],
"source": [
"clc;clear;\n",
"//Example 8.6\n",
"\n",
"//given data\n",
"W=1.43*10^-10;//wavelength in m\n",
"Z=74;//atomic no\n",
"R=10.97*10^6;//Rydberg constant in 1/m\n",
"\n",
"//calcualation\n",
"b=74-sqrt(36/(5*R*W));//Transition from to M to L\n",
"disp(b,'the screening const.')"
   ]
   }
,
{
		   "cell_type": "markdown",
		   "metadata": {},
		   "source": [
			"## Example 8.9: CALCULATE_LINEAR_ADSORPTION_COEFF.sce"
		   ]
		  },
  {
"cell_type": "code",
	   "execution_count": null,
	   "metadata": {
	    "collapsed": true
	   },
	   "outputs": [],
"source": [
"clc;clear;\n",
"//Example 8.9\n",
"\n",
"//given data\n",
"um=0.6;//mass adsoption coeffcient in cm^2/g\n",
"p=2.7;//density of aluminium in g/cm^3\n",
"\n",
"//calculations\n",
"u=p*um;\n",
"disp(u,'linear adsorption coefficent of aluminium in 1/cm');\n",
"T=0.693/u\n",
"disp(T,'the hvl in cm');\n",
"x=(log(20))*(1/u);\n",
"disp(x,'the thickness in cm')"
   ]
   }
],
"metadata": {
		  "kernelspec": {
		   "display_name": "Scilab",
		   "language": "scilab",
		   "name": "scilab"
		  },
		  "language_info": {
		   "file_extension": ".sce",
		   "help_links": [
			{
			 "text": "MetaKernel Magics",
			 "url": "https://github.com/calysto/metakernel/blob/master/metakernel/magics/README.md"
			}
		   ],
		   "mimetype": "text/x-octave",
		   "name": "scilab",
		   "version": "0.7.1"
		  }
		 },
		 "nbformat": 4,
		 "nbformat_minor": 0
}
