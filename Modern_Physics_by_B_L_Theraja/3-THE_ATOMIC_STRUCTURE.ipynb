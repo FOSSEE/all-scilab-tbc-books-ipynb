{
"cells": [
 {
		   "cell_type": "markdown",
	   "metadata": {},
	   "source": [
       "# Chapter 3: THE ATOMIC STRUCTURE"
	   ]
	},
{
		   "cell_type": "markdown",
		   "metadata": {},
		   "source": [
			"## Example 3.1: CALCULATE_DISTANCE_OF_CLOSEST_APPROACH.sce"
		   ]
		  },
  {
"cell_type": "code",
	   "execution_count": null,
	   "metadata": {
	    "collapsed": true
	   },
	   "outputs": [],
"source": [
"clc;clear;\n",
"//Example 3.1\n",
"\n",
"//given values\n",
"Z=79;//atomic number of gold\n",
"e=1.6*10^-19;//electron charge in C\n",
"Eo=8.854*10^-12;//absolute permitivity of free space in F/m\n",
"K=7.68*1.6*10^-13;//kinectic energy in J\n",
"pi=3.14;//standard constant \n",
"\n",
"//calculations\n",
"D=(2*Z*e^2)/(4*pi*Eo*K);\n",
"disp(D,'The closest distance(in m) of approach is')"
   ]
   }
,
{
		   "cell_type": "markdown",
		   "metadata": {},
		   "source": [
			"## Example 3.2: CALCULATE_VELOCITY_RADIUS_TIME_TAKEN_AND_RYDBERG_CONST.sce"
		   ]
		  },
  {
"cell_type": "code",
	   "execution_count": null,
	   "metadata": {
	    "collapsed": true
	   },
	   "outputs": [],
"source": [
"clc;clear;\n",
"//Example 3.2\n",
"\n",
"//given values\n",
"Z=1;//atomic number of hydrogen\n",
"e=1.6*10^-19;//electron charge in C\n",
"pi=3.14;//standard constant\n",
"h=6.625*10^-34;//plank's constant in J-s\n",
"m=9.1*10^-31;//mass of an electron in kg\n",
"Eo=8.854*10^-12;//absolute permitivity of free space in F/m\n",
"c=3*10^8;//speed of light in m/s\n",
"n=1;//ground state\n",
"\n",
"//calculation\n",
"v=9*10^9*(2*pi*Z*e^2)/(n*h);\n",
"disp(v,'velocity(in m/s) of ground state');\n",
"r=(Eo*n^2*h^2)/(pi*m*e^2);\n",
"disp(r,'radius(in m) of Bohr orbit in ground state')\n",
"t=(2*pi*r)/v;\n",
"disp(t,'time taken(in s) by electron to traverse the bohr first orbit');\n",
"R=(m*e^4)/(8*Eo^2*h^3*c);\n",
"disp(R,'Rhydberg contstant (in  m^-1)')"
   ]
   }
,
{
		   "cell_type": "markdown",
		   "metadata": {},
		   "source": [
			"## Example 3.3: CALCULATE_FREQUENCY.sce"
		   ]
		  },
  {
"cell_type": "code",
	   "execution_count": null,
	   "metadata": {
	    "collapsed": true
	   },
	   "outputs": [],
"source": [
"clc;clear;\n",
"//Example 3.3\n",
"\n",
"//given values\n",
"B=2.179*10^-16;//a constant in J\n",
"h=6.625*10^-34;//plank's constant in J-s\n",
"\n",
"//calculation\n",
"E3=-B/3^2;\n",
"E2=-B/2^2;\n",
"f=(E3-E2)/h;\n",
"disp(f,'frequency(in Hz) of radiation')"
   ]
   }
,
{
		   "cell_type": "markdown",
		   "metadata": {},
		   "source": [
			"## Example 3.4: CALCULATE_FREQUENCY_IN_FIRST_ORBIT.sce"
		   ]
		  },
  {
"cell_type": "code",
	   "execution_count": null,
	   "metadata": {
	    "collapsed": true
	   },
	   "outputs": [],
"source": [
"clc;clear;\n",
"//Example 3.4\n",
"\n",
"//given values\n",
"Z=1;//atomic number of hydrogen\n",
"e=1.6*10^-19;//electron charge in C\n",
"h=6.625*10^-34;//plank's constant in J-s\n",
"m=9.1*10^-31;//mass of an electron in kg\n",
"Eo=8.854*10^-12;//absolute permitivity of free space in F/m\n",
"n=1;//ground state\n",
"\n",
"//Calculations\n",
"f=(m*Z^2*e^4)/(4*Eo^2*h^3);\n",
"disp(f,'the frequency(in Hz) is')"
   ]
   }
,
{
		   "cell_type": "markdown",
		   "metadata": {},
		   "source": [
			"## Example 3.5: AT_WHAT_SPEED_MUST_ELECTRON.sce"
		   ]
		  },
  {
"cell_type": "code",
	   "execution_count": null,
	   "metadata": {
	    "collapsed": true
	   },
	   "outputs": [],
"source": [
"clc;clear;\n",
"//Example 3.5\n",
"\n",
"//given data\n",
"Z=1;\n",
"n=1;\n",
"e=1.6*10^-19;//the charge on electron in C\n",
"h=6.625*10^-34;//Plank's constant\n",
"Eo=8.854*10^-12;//absolute permitivity of free space in F/m\n",
"m=9.12*10^-31;//mass of electron in kg\n",
"\n",
"//calculations\n",
"v=Z*e^2/(2*Eo*n*h);\n",
"disp(v,'velcocity in m/s');\n",
"E=-m*Z^2*e^4/(8*(Eo*n*h)^2);\n",
"disp(E,'energy of hydrogen atom in J');\n",
"f=m*Z^2*e^4/(4*Eo^2*(n*h)^3);\n",
"disp(f,'frequecy in Hz')"
   ]
   }
,
{
		   "cell_type": "markdown",
		   "metadata": {},
		   "source": [
			"## Example 3.8: CALCULATE_PRINCIPAL_QUANTUM_NO_AND_WAVELENGTH.sce"
		   ]
		  },
  {
"cell_type": "code",
	   "execution_count": null,
	   "metadata": {
	    "collapsed": true
	   },
	   "outputs": [],
"source": [
"clc;clear;\n",
"//Example 3.8\n",
"\n",
"//given data\n",
"h=6.625*10^-34;//Plank's constant\n",
"c=3*10^8;//speed of light in m/s\n",
"E1=10.2;//in eV energy\n",
"E2=12.09;//in eV energy\n",
"e=1.6*10^-19;//the charge on electron in C\n",
"\n",
"//calcualtion\n",
"//principal quantum no are 2 & 3 respectively\n",
"W=c*h/(E1*e)*10^10;\n",
"disp(W,'wavelength in angstrom is for 10.2 eV');\n",
"W=c*h/(E2*e)*10^10;\n",
"disp(W,'wavelength in angstrom is for 12.09 eV')"
   ]
   }
,
{
		   "cell_type": "markdown",
		   "metadata": {},
		   "source": [
			"## Example 3.9: CALCULATE_WAVELENGTH_FOR_LYMAN_SERIES.sce"
		   ]
		  },
  {
"cell_type": "code",
	   "execution_count": null,
	   "metadata": {
	    "collapsed": true
	   },
	   "outputs": [],
"source": [
"clc;clear;\n",
"//Example 3.9\n",
"\n",
"//given data\n",
"R=10967700;//Rydberg constant in 1/m\n",
"\n",
"//calculation\n",
"W1=4/(3*R);//as n1=1 and n2=2\n",
"disp((W1*10^10),'Long wavelength in angstrom');\n",
"W2=1/R;//as n1=1 and n2=infinity\n",
"disp((W2*10^10),'Short wavelength in angstrom')"
   ]
   }
],
"metadata": {
		  "kernelspec": {
		   "display_name": "Scilab",
		   "language": "scilab",
		   "name": "scilab"
		  },
		  "language_info": {
		   "file_extension": ".sce",
		   "help_links": [
			{
			 "text": "MetaKernel Magics",
			 "url": "https://github.com/calysto/metakernel/blob/master/metakernel/magics/README.md"
			}
		   ],
		   "mimetype": "text/x-octave",
		   "name": "scilab",
		   "version": "0.7.1"
		  }
		 },
		 "nbformat": 4,
		 "nbformat_minor": 0
}
