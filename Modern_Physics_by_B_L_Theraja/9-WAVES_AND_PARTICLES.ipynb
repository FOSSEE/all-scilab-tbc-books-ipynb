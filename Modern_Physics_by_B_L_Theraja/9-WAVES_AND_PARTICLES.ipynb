{
"cells": [
 {
		   "cell_type": "markdown",
	   "metadata": {},
	   "source": [
       "# Chapter 9: WAVES AND PARTICLES"
	   ]
	},
{
		   "cell_type": "markdown",
		   "metadata": {},
		   "source": [
			"## Example 9.1: WHAT_IS_DE_BROGLIE_WAVELENGTH.sce"
		   ]
		  },
  {
"cell_type": "code",
	   "execution_count": null,
	   "metadata": {
	    "collapsed": true
	   },
	   "outputs": [],
"source": [
"clc;clear;\n",
"//Example 9.1\n",
"\n",
"//given data\n",
"V=20000;//applied voltage in V\n",
"\n",
"//calculation\n",
"W=12.25/(sqrt(V));\n",
"disp(W,'de broglie wavelength in angstrom')"
   ]
   }
,
{
		   "cell_type": "markdown",
		   "metadata": {},
		   "source": [
			"## Example 9.2: CALCULATE_MOMENTUM_DE_BROGLIE_WAVELENGTH_AND_WAVE_NUMBER.sce"
		   ]
		  },
  {
"cell_type": "code",
	   "execution_count": null,
	   "metadata": {
	    "collapsed": true
	   },
	   "outputs": [],
"source": [
"clc;clear;\n",
"//Example 9.2\n",
"\n",
"//given data\n",
"V=5000;//applied voltage in V\n",
"e=1.602*10^-19;//the charge on electron in C\n",
"m=9.12*10^-31;//mass of electron in kg\n",
"d=2.04*10^-10;//distance in m\n",
"\n",
"//calculations\n",
"p=sqrt(2*m*e*V);\n",
"disp(p,'momentum in kg-m/s^2');\n",
"W=12.25/sqrt(V);\n",
"disp(W,'de broglie wavelength in angstrom');\n",
"v=1/(W*10^-10);\n",
"disp(v,'the wave number in m');\n",
"D=asind((W*10^-10)/(2*d));\n",
"disp(D,'the Bragg angle in degrees')"
   ]
   }
,
{
		   "cell_type": "markdown",
		   "metadata": {},
		   "source": [
			"## Example 9.3: AN_ELECTRON_INTIALLY_AT_REST.sce"
		   ]
		  },
  {
"cell_type": "code",
	   "execution_count": null,
	   "metadata": {
	    "collapsed": true
	   },
	   "outputs": [],
"source": [
"clc;clear;\n",
"//Example 9.3\n",
"\n",
"//given data\n",
"V=54;//applied voltage in V\n",
"e=1.602*10^-19;//the charge on electron in C\n",
"m=9.12*10^-31;//mass of electron in kg\n",
"h=6.625*10^-34;//Plank's constant\n",
"\n",
"//calcualtions\n",
"v=sqrt(2*e*V/m);\n",
"disp(v,'velocity of electron in m/s');\n",
"W=12.25/sqrt(V);\n",
"disp(W,'de broglie wavelength in angstrom');\n",
"u=h/(2*m*W*10^-10);\n",
"disp(u,'phase velocity in m/s')"
   ]
   }
,
{
		   "cell_type": "markdown",
		   "metadata": {},
		   "source": [
			"## Example 9.4: COMPUTE_DE_BROGLIE_WAVELENGTH.sce"
		   ]
		  },
  {
"cell_type": "code",
	   "execution_count": null,
	   "metadata": {
	    "collapsed": true
	   },
	   "outputs": [],
"source": [
"clc;clear;\n",
"//Example 9.4\n",
"\n",
"//given data\n",
"e=1.6*10^-19;//the charge on electron in C\n",
"m=9.12*10^-31;//mass of electron in kg\n",
"c=3*10^8;//speed of light in m/s\n",
"h=6.625*10^-34;//Plank's constant\n",
"\n",
"//calculations\n",
"E=m*c^2;\n",
"mp=1836*m;\n",
"//(0.5*m*v^2)=E\n",
"mv=sqrt(E*2*mp);\n",
"W=h/mv;\n",
"disp((W/10^-10),'de broglie wavelength in Angstrom')"
   ]
   }
,
{
		   "cell_type": "markdown",
		   "metadata": {},
		   "source": [
			"## Example 9.5: WHAT_IS_DE_BROGLIE_WAVELENGTH_OF_NEUTRON.sce"
		   ]
		  },
  {
"cell_type": "code",
	   "execution_count": null,
	   "metadata": {
	    "collapsed": true
	   },
	   "outputs": [],
"source": [
"clc;clear;\n",
"//Example 9.5\n",
"\n",
"//given data\n",
"e=1.6*10^-19;//the charge on electron in C\n",
"m=1.676*10^-27;//mass of neutron in kg\n",
"c=3*10^8;//speed of light in m/s\n",
"h=6.625*10^-34;//Plank's constant\n",
"\n",
"//calculations\n",
"E=1;//in eV\n",
"E=1*e;//in V\n",
"mv=sqrt(2*E*m);\n",
"W=h/mv;\n",
"disp((W/10^-10),'de broglie wavelength in Angstrom')"
   ]
   }
,
{
		   "cell_type": "markdown",
		   "metadata": {},
		   "source": [
			"## Example 9.6: CALCULATE_THE_SCATTERED_WAVELENGTH.sce"
		   ]
		  },
  {
"cell_type": "code",
	   "execution_count": null,
	   "metadata": {
	    "collapsed": true
	   },
	   "outputs": [],
"source": [
"clc;clear;\n",
"//Example 9.6\n",
"\n",
"//calculations\n",
"W=0.09;//wavelength in Angstrom\n",
"D=54;//scattering angle in degree\n",
"h=6.625*10^-34;//Plank's constant\n",
"c=3*10^8;//speed of light in m/s\n",
"e=1.6*10^-19;//the charge on electron in C\n",
"\n",
"//calculations\n",
"dW=0.0243*(1-cosd(D));\n",
"W1=W+dW;\n",
"disp(W1,'wavelegth of scattered X-ray in Angstrom');\n",
"E=h*c/(W*10^-10);\n",
"disp((E/(e*10^6)),'Energy of incident photon in MeV');\n",
"E=h*c/(W1*10^-10);\n",
"disp((E/(e*10^6)),'Energy of scattered photon in MeV')"
   ]
   }
,
{
		   "cell_type": "markdown",
		   "metadata": {},
		   "source": [
			"## Example 9.7: COMPUTE_ENERGY_DIFFERENCE.sce"
		   ]
		  },
  {
"cell_type": "code",
	   "execution_count": null,
	   "metadata": {
	    "collapsed": true
	   },
	   "outputs": [],
"source": [
"clc;clear;\n",
"//Example 9.7\n",
"\n",
"//given data\n",
"h=6.625*10^-34;//Plank's constant\n",
"m=9.12*10^-31;//mass of electron in kg\n",
"\n",
"//calculations\n",
"//for (a)\n",
"nx=1;\n",
"ny=1;\n",
"nz=1;\n",
"L=1;\n",
"E=h^2*(nx^2+ny^2+nz^2)/(8*m*L^2);\n",
"disp(E,'energy in first quantum state in J');\n",
"//for (b) (nx^2+ny^2+nz^2)=6\n",
"L=1;\n",
"E=h^2*6/(8*m*L^2);\n",
"disp(E,'energy in second quantum state in J')"
   ]
   }
,
{
		   "cell_type": "markdown",
		   "metadata": {},
		   "source": [
			"## Example 9.8: CALCULATE_THE_LOWEST_THREE_PREMISSIBLE_ENERGIES.sce"
		   ]
		  },
  {
"cell_type": "code",
	   "execution_count": null,
	   "metadata": {
	    "collapsed": true
	   },
	   "outputs": [],
"source": [
"clc;clear;\n",
"//Example 9.8\n",
"\n",
"//given data\n",
"h=6.625*10^-34;//Plank's constant\n",
"m=9.12*10^-31;//mass of electron in kg\n",
"L=2.5*10^-10;\n",
"e=1.6*10^-19;//the charge on electron in C\n",
"\n",
"//calcualtions\n",
"n=1;\n",
"E1=n^2*h^2/(8*m*L^2*e);\n",
"disp(E1,'E1 in eV');\n",
"n=2;\n",
"E2=4*E1;\n",
"disp(E2,'E2 in eV');\n",
"n=3;\n",
"E3=9*E1;\n",
"disp(E3,'E3 in eV');"
   ]
   }
],
"metadata": {
		  "kernelspec": {
		   "display_name": "Scilab",
		   "language": "scilab",
		   "name": "scilab"
		  },
		  "language_info": {
		   "file_extension": ".sce",
		   "help_links": [
			{
			 "text": "MetaKernel Magics",
			 "url": "https://github.com/calysto/metakernel/blob/master/metakernel/magics/README.md"
			}
		   ],
		   "mimetype": "text/x-octave",
		   "name": "scilab",
		   "version": "0.7.1"
		  }
		 },
		 "nbformat": 4,
		 "nbformat_minor": 0
}
