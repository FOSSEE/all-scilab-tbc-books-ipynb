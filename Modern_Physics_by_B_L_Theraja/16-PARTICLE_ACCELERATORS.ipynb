{
"cells": [
 {
		   "cell_type": "markdown",
	   "metadata": {},
	   "source": [
       "# Chapter 16: PARTICLE ACCELERATORS"
	   ]
	},
{
		   "cell_type": "markdown",
		   "metadata": {},
		   "source": [
			"## Example 16.1: WHAT_MUST_BE_THE_FLUX_DENSITY.sce"
		   ]
		  },
  {
"cell_type": "code",
	   "execution_count": null,
	   "metadata": {
	    "collapsed": true
	   },
	   "outputs": [],
"source": [
"clc;clear;\n",
"//Example 16.1\n",
"\n",
"//given data\n",
"fo=9*10^6;//frequency in Hz\n",
"m=6.643*10^-27;//mass in kg\n",
"pi=3.14;//constant \n",
"e=1.6*10^-19;//the charge on electron in C\n",
"\n",
"//calculations\n",
"Q=2*e;\n",
"B=fo*2*pi*m/Q;\n",
"disp(B,'magnetic flux density in Wb/m^2')"
   ]
   }
,
{
		   "cell_type": "markdown",
		   "metadata": {},
		   "source": [
			"## Example 16.2: WHAT_IS_FREQUENCY_OF_ALTERNATING_POTENTIAL.sce"
		   ]
		  },
  {
"cell_type": "code",
	   "execution_count": null,
	   "metadata": {
	    "collapsed": true
	   },
	   "outputs": [],
"source": [
"clc;clear;\n",
"//Example 16.2\n",
"\n",
"//given data\n",
"B=0.7;//magnetic flux intensity in Wb/m^2\n",
"m=3.34*10^-27;//mass in Kg\n",
"e=1.6*10^-19;//the charge on electron in C\n",
"pi=3.14;//const\n",
"\n",
"//calculations\n",
"Q=e;\n",
"fo=B*Q/(2*pi*m*10^6);\n",
"disp(fo,'The cyclotron frquency in MHz ')"
   ]
   }
,
{
		   "cell_type": "markdown",
		   "metadata": {},
		   "source": [
			"## Example 16.3: A_CYCLOTRON_OF_DEES_OF_RADIUS_2_METERES.sce"
		   ]
		  },
  {
"cell_type": "code",
	   "execution_count": null,
	   "metadata": {
	    "collapsed": true
	   },
	   "outputs": [],
"source": [
"clc;clear;\n",
"//Example 16.3\n",
"\n",
"//given data\n",
"B=0.75;//magnetic flux intensity in Wb/m^2\n",
"m1=1.67*10^-27;//mass in Kg\n",
"m2=3.31*10^-27;//mass in Kg\n",
"e=1.6*10^-19;//the charge on electron in C\n",
"Rm=2;//radius in m\n",
"\n",
"//calculations\n",
"Q=e;\n",
"Emax=3.12*10^12*B^2*Q^2*Rm^2/m1;\n",
"disp(Emax,'Maximum energies in Mev for proton');\n",
"Emax=3.12*10^12*B^2*Q^2*Rm^2/m2;\n",
"disp(Emax,'Maximum energies in Mev for deuteron')"
   ]
   }
,
{
		   "cell_type": "markdown",
		   "metadata": {},
		   "source": [
			"## Example 16.4: CALCULATE_THE_RATIO.sce"
		   ]
		  },
  {
"cell_type": "code",
	   "execution_count": null,
	   "metadata": {
	    "collapsed": true
	   },
	   "outputs": [],
"source": [
"clc;clear;\n",
"//Example 16.4\n",
"\n",
"//given data\n",
"mo=9.1*10^-31;//mass of electron in kg\n",
"m=1.67*10^-27;//mass of proton in kg\n",
"c=3*10^8;//speed of light in m/s\n",
"E=1;//given energy in MeV\n",
"\n",
"//calculations\n",
"Eo=mo*c^2/(1.6*10^-13);\n",
"mbymo=1+(E/Eo);\n",
"disp(mbymo,'Ratio for electron');\n",
"Eo=m*c^2/(1.6*10^-13);\n",
"mbymo=1+(E/Eo);\n",
"disp(mbymo,'Ratio for proton')"
   ]
   }
,
{
		   "cell_type": "markdown",
		   "metadata": {},
		   "source": [
			"## Example 16.5: IN_A_CERTAIN_BETATRON.sce"
		   ]
		  },
  {
"cell_type": "code",
	   "execution_count": null,
	   "metadata": {
	    "collapsed": true
	   },
	   "outputs": [],
"source": [
"clc;clear;\n",
"//Example 16.5\n",
"\n",
"//given data\n",
"B=0.5;//magnetic field in Wb/m^2\n",
"d=1.5;//diameter in m\n",
"f=59;//frequency in Hz\n",
"e=1.6*10^-19;//the charge on electron in C\n",
"c=3*10^8;//speed of light in m/s\n",
"pi=3.14;//const\n",
"\n",
"//calculations\n",
"R=d/2;\n",
"N=c/(4*(2*pi*50)*R);\n",
"E=B*e*R*c/(1.6*10^-13);\n",
"disp(E,'final energy in MeV');\n",
"AE=E/N*10^6;\n",
"disp(AE,'average energy in eV')"
   ]
   }
,
{
		   "cell_type": "markdown",
		   "metadata": {},
		   "source": [
			"## Example 16.6: CALCULATE_MASS_AND_VELOCITY_OF_ELCTRONS.sce"
		   ]
		  },
  {
"cell_type": "code",
	   "execution_count": null,
	   "metadata": {
	    "collapsed": true
	   },
	   "outputs": [],
"source": [
"clc;clear;\n",
"//Example 16.6\n",
"\n",
"//given data\n",
"E=0.51;//kinetic energy in MeV\n",
"R=0.15;//radius in m\n",
"e=1.6*10^-19;//the charge on electron in C\n",
"mo=9.12*10^-31;//mass of electron in kg\n",
"c=3*10^8;//speed of light in m/s\n",
"\n",
"//calculation\n",
"Eo=E;\n",
"m=mo*(1+(E/Eo));\n",
"b=sqrt(1-(mo/m)^2);\n",
"v=b*c;\n",
"B=mo*v/(e*R);\n",
"disp(B,'magnetic field intensity')"
   ]
   }
,
{
		   "cell_type": "markdown",
		   "metadata": {},
		   "source": [
			"## Example 16.7: DETERMINE_THE_FREQUENCY_OF_GENERATOR.sce"
		   ]
		  },
  {
"cell_type": "code",
	   "execution_count": null,
	   "metadata": {
	    "collapsed": true
	   },
	   "outputs": [],
"source": [
"clc;clear;\n",
"//Example 16.7\n",
"\n",
"//given data\n",
"E=4;//applied voltage in MeV\n",
"m=3.334*10^-27;//mass of deuteron in kg\n",
"R=0.75;//radius in m\n",
"pi=3.14;//const\n",
"e=1.6*10^-19;//the charge on electron in C\n",
"\n",
"//calcualtions\n",
"E=4*10^6*e;\n",
"fo=sqrt(E/(2*m))/(pi*R);\n",
"disp(fo,'frequnecy of generator in Hz')"
   ]
   }
,
{
		   "cell_type": "markdown",
		   "metadata": {},
		   "source": [
			"## Example 16.8: WHAT_WOULD_BE_THE_ENERGY_OF_ELECTRON.sce"
		   ]
		  },
  {
"cell_type": "code",
	   "execution_count": null,
	   "metadata": {
	    "collapsed": true
	   },
	   "outputs": [],
"source": [
"clc;clear;\n",
"//Example 16.8\n",
"\n",
"//given data\n",
"roi=15;//rate of increase in Wb/s\n",
"tr=10^6;//total revolutions\n",
"\n",
"//calcualtion\n",
"IE=roi*10^-6;//increased energy in MeV\n",
"FE=IE*tr;\n",
"disp(FE,'Fianl Energy in MeV')"
   ]
   }
,
{
		   "cell_type": "markdown",
		   "metadata": {},
		   "source": [
			"## Example 16.9: FIND_THE_MAX_ENERGY_AND_CORRESPONDING_WAVELENGTH.sce"
		   ]
		  },
  {
"cell_type": "code",
	   "execution_count": null,
	   "metadata": {
	    "collapsed": true
	   },
	   "outputs": [],
"source": [
"clc;clear;\n",
"//Example 16.9\n",
"\n",
"//given data\n",
"R=0.1;//radius in m\n",
"pi=3.14;//const\n",
"h=6.625*10^-34;//Plank's constant\n",
"c=3*10^8;//speed of light in m/s\n",
"roi=15;//rate of increase in Wb/s\n",
"t=4*10^-4;//period of accerleartion in s\n",
"e=1.6*10^-19;//the charge on electron in C\n",
"\n",
"//calculations\n",
"N=c*t/(2*pi*R);\n",
"IE=roi;//incresed energy in eV\n",
"ME=N*IE*10^-6;\n",
"disp(ME,'Maximum energy in MeV');\n",
"ME=ME*10^6*e;//conversion in V\n",
"p=ME/c;\n",
"Y=h/p;\n",
"disp(Y,'corresponding wavelength of X-rays in m')"
   ]
   }
],
"metadata": {
		  "kernelspec": {
		   "display_name": "Scilab",
		   "language": "scilab",
		   "name": "scilab"
		  },
		  "language_info": {
		   "file_extension": ".sce",
		   "help_links": [
			{
			 "text": "MetaKernel Magics",
			 "url": "https://github.com/calysto/metakernel/blob/master/metakernel/magics/README.md"
			}
		   ],
		   "mimetype": "text/x-octave",
		   "name": "scilab",
		   "version": "0.7.1"
		  }
		 },
		 "nbformat": 4,
		 "nbformat_minor": 0
}
