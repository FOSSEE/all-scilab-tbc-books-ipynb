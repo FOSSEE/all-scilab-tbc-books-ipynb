{
"cells": [
 {
		   "cell_type": "markdown",
	   "metadata": {},
	   "source": [
       "# Chapter 1: ELECTRIC AND MAGNETIC FIELD"
	   ]
	},
{
		   "cell_type": "markdown",
		   "metadata": {},
		   "source": [
			"## Example 1.1: CALCUALTION_OF_ELECTROSTATIC_FORCE.sce"
		   ]
		  },
  {
"cell_type": "code",
	   "execution_count": null,
	   "metadata": {
	    "collapsed": true
	   },
	   "outputs": [],
"source": [
"clc;clear;\n",
"//Example 1.1\n",
"//Comparision of electrostatic force of replusion between two particles with the gravitational forces between them\n",
"\n",
"//given values\n",
"q1=3.2*10^-19;\n",
"q2=q1;//q1 and q2 are the values of charge on alpha-particle in C\n",
"d=10^-13;//distance between two alpha-particles in m\n",
"m1=6.68*10^-27;\n",
"m2=m1;//m1 and m2 are masses of alpha-particles in kg\n",
"G=6.67*10^-11;//Gravitational constant in N-(m^2)/(kg^2)\n",
"\n",
"//calculation\n",
"F1=(9*10^9)*(q1*q2)/(d^2);//calculation of electrostatic force\n",
"disp(F1,'The electrosatic force(in N) is');\n",
"F2=G*(m1*m2)/(d^2);//calculation of electrostatic force\n",
"disp(F2,'The gravitational force (in N) is')"
   ]
   }
,
{
		   "cell_type": "markdown",
		   "metadata": {},
		   "source": [
			"## Example 1.2: CALCUALTION_OF_DISTANCE_OF_SEPARATION.sce"
		   ]
		  },
  {
"cell_type": "code",
	   "execution_count": null,
	   "metadata": {
	    "collapsed": true
	   },
	   "outputs": [],
"source": [
"clc;clear;\n",
"//Example 1.2\n",
"//Calculation of the distance of separation between two electrons\n",
"\n",
"// given values\n",
"m=9.1*10^-31;//mass of elctron in kg\n",
"q=1.6*10^-19;//charge on electron in C\n",
"g=9.81;//acceleration due to gravity in m/(s^2)\n",
"\n",
"//calculation\n",
"Fg=m*g;//gravitational force in N\n",
"d=sqrt((9*10^9*q^2)/Fg);//equating gravitational force with electrosatic force for calculating distance\n",
"disp(d,'The distance of separation(in m) is') "
   ]
   }
,
{
		   "cell_type": "markdown",
		   "metadata": {},
		   "source": [
			"## Example 1.3: CALCULATE_FIELD_INTENSITY_AND_FORCE.sce"
		   ]
		  },
  {
"cell_type": "code",
	   "execution_count": null,
	   "metadata": {
	    "collapsed": true
	   },
	   "outputs": [],
"source": [
"clc;clear;\n",
"//Example 1.3\n",
"//Calculation of electric intensity between plates and force on proton\n",
"\n",
"//given values\n",
"d=0.02//distance between plates in m\n",
"V=400;//potential differnce of plates in V\n",
"q=1.6*10^-19;//charge on a proton in C\n",
"\n",
"//calculation\n",
"E=V/d;//\n",
"disp(E,'The electric field intensity(in V/m) between plates is');\n",
"F=q*E;//\n",
"disp(F,'The force(in N) on proton is') "
   ]
   }
,
{
		   "cell_type": "markdown",
		   "metadata": {},
		   "source": [
			"## Example 1.4: CALCULATE_MASS_OF_OIL_DROP.sce"
		   ]
		  },
  {
"cell_type": "code",
	   "execution_count": null,
	   "metadata": {
	    "collapsed": true
	   },
	   "outputs": [],
"source": [
"clc;clear;\n",
"//Example 1.4\n",
"//calculation of mass of oil drop\n",
"\n",
"//given values\n",
"d=0.02//distance between plates in m\n",
"q=1.6*10^-19;//charge on oil drop in C\n",
"V=6000;//potential differnce of plates in V\n",
"g=9.81;//acceleration due to gravity in m/(s^2)\n",
"\n",
"//calculation\n",
"E=V/d;//electric field intensity between plates in V/m\n",
"F=q*E;//electrostatic force on oil drop in N\n",
"m=F/g;//equating the weight of oil drop to the electrostatic force on it\n",
"disp(m,'The mass(in kg) of oil drop')  "
   ]
   }
,
{
		   "cell_type": "markdown",
		   "metadata": {},
		   "source": [
			"## Example 1.5: CALCULATE_VELOCITY_OF_ELECTRON.sce"
		   ]
		  },
  {
"cell_type": "code",
	   "execution_count": null,
	   "metadata": {
	    "collapsed": true
	   },
	   "outputs": [],
"source": [
"clc;clear;\n",
"//Example 1.5\n",
"//Calculation of velocity of an electron\n",
"\n",
"//given values\n",
"V=150;//potential difference between anode and cathode in V\n",
"m=9.31*10^-31;//mass of an electron in kg\n",
"q=1.6*10^-19;//charge on an electron in C\n",
"\n",
"//Calculation\n",
"E=q*V;//energy(in J) gained by electron during speeding from cathode to anode\n",
"vel=sqrt(E*2/m);//equating with kinetic energy of electron i.e m(v^2)/2\n",
"disp(vel,'The velocity(in m/s) is')"
   ]
   }
,
{
		   "cell_type": "markdown",
		   "metadata": {},
		   "source": [
			"## Example 1.6: CALCULATE_ENERGY.sce"
		   ]
		  },
  {
"cell_type": "code",
	   "execution_count": null,
	   "metadata": {
	    "collapsed": true
	   },
	   "outputs": [],
"source": [
"clc;clear;\n",
"//Example 1.6\n",
"//Calculation of energy in eV,MeV,J\n",
"\n",
"//given values\n",
"V=5*10^6;//potential differnce through which alpha-particle is accelerated\n",
"e=1.6*10^-19;//charge on electron in C\n",
"\n",
"//calculation\n",
"E1=2*V;//electronic charge on alpha-particle is 2e Coulombs\n",
"disp(E1,'The energy in eV is');\n",
"E2=E1/10^6;//energy in MeV\n",
"disp(E2,'The energy in MeV is');\n",
"E3=E1*e;//energy in Joules\n",
"disp(E3,'The energy in J is')"
   ]
   }
,
{
		   "cell_type": "markdown",
		   "metadata": {},
		   "source": [
			"## Example 1.7: CALCULATE_TOTAL_ENERGY.sce"
		   ]
		  },
  {
"cell_type": "code",
	   "execution_count": null,
	   "metadata": {
	    "collapsed": true
	   },
	   "outputs": [],
"source": [
"clc;clear;\n",
"//Example 1.7\n",
"//Calculation of the total energy \n",
"\n",
"//given values\n",
"r=0.528*10^-10;//radius of the orbit in m\n",
"q=-1.6*10^-19;//charge on electron in C\n",
"Q=1.6*10^-19;//charge on Hydrogen nucleus in C\n",
"Eo=8.854*10^-12;//permittivity in free space in F/m\n",
"\n",
"//calculation\n",
"E=(q*Q)/(8*3.14*Eo*r);//\n",
"disp(E,'The total energy(in J) is');\n",
"E1=E/(1.6*10^-19);//\n",
"disp(E1,'The total energy(in eV) is')"
   ]
   }
,
{
		   "cell_type": "markdown",
		   "metadata": {},
		   "source": [
			"## Example 1.8: CALCULATE_FORCE_AND_RADIUS.sce"
		   ]
		  },
  {
"cell_type": "code",
	   "execution_count": null,
	   "metadata": {
	    "collapsed": true
	   },
	   "outputs": [],
"source": [
"clc;clear;\n",
"//Example 1.8\n",
"\n",
"//given values\n",
"Q=3.2*10^-19;//charge on alpha-particle in C\n",
"m=6.68*10^-27;//mass on alpha-particle in kg\n",
"B=1.5;//transverse magnetic field of flux density in Wb/(m^2)\n",
"v=5*10^6;//velocity of alpha-particle in m/s\n",
"\n",
"//Calculation\n",
"F=B*Q*v;//\n",
"disp(F,'The force(in N) on particle is');\n",
"R=m*v/(Q*B);//\n",
"disp(R,'The radius(in m) of its circular path')"
   ]
   }
],
"metadata": {
		  "kernelspec": {
		   "display_name": "Scilab",
		   "language": "scilab",
		   "name": "scilab"
		  },
		  "language_info": {
		   "file_extension": ".sce",
		   "help_links": [
			{
			 "text": "MetaKernel Magics",
			 "url": "https://github.com/calysto/metakernel/blob/master/metakernel/magics/README.md"
			}
		   ],
		   "mimetype": "text/x-octave",
		   "name": "scilab",
		   "version": "0.7.1"
		  }
		 },
		 "nbformat": 4,
		 "nbformat_minor": 0
}
