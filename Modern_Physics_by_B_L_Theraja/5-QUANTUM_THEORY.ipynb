{
"cells": [
 {
		   "cell_type": "markdown",
	   "metadata": {},
	   "source": [
       "# Chapter 5: QUANTUM THEORY"
	   ]
	},
{
		   "cell_type": "markdown",
		   "metadata": {},
		   "source": [
			"## Example 5.10: CALCULATE_MAXIMUM_ENERGY_AND_WORK_FUNCTION.sce"
		   ]
		  },
  {
"cell_type": "code",
	   "execution_count": null,
	   "metadata": {
	    "collapsed": true
	   },
	   "outputs": [],
"source": [
"clc;clear;\n",
"//Example 5.10\n",
"\n",
"//given data\n",
"Wo=2300*10;//threshold wavelength in Angstrom\n",
"W=1800*10;//incident light wavelength in Angstrom\n",
"\n",
"//calculations\n",
"w=124000/Wo;\n",
"disp(w,'The work function in eV is');\n",
"E=124000*((1/W)-(1/Wo));\n",
"disp(E,'The maximum energy in eV')"
   ]
   }
,
{
		   "cell_type": "markdown",
		   "metadata": {},
		   "source": [
			"## Example 5.11: WHAT_IS_THRESHOLD_WAVELENGTH.sce"
		   ]
		  },
  {
"cell_type": "code",
	   "execution_count": null,
	   "metadata": {
	    "collapsed": true
	   },
	   "outputs": [],
"source": [
"clc;clear;\n",
"//Example 5.11\n",
"\n",
"//given data\n",
"W=6000;//wavelegth in Angstrom\n",
"v=4*10^5;//velocity in m/sec\n",
"m=9.12*10^-31;//mass of electron in kg\n",
"e=1.6*10^-19;//the charge on electron in C\n",
"\n",
"//calculations\n",
"KE=0.5*m*v^2/e;\n",
"disp(KE,'The Kinetic energy in eV is');\n",
"WF=12400/W;\n",
"Wo=12400/(WF-KE);\n",
"disp(Wo,'The threshold wavelength in Angstrom is')"
   ]
   }
,
{
		   "cell_type": "markdown",
		   "metadata": {},
		   "source": [
			"## Example 5.12: CALCULATE_THRESHOLD_FREQUENCY.sce"
		   ]
		  },
  {
"cell_type": "code",
	   "execution_count": null,
	   "metadata": {
	    "collapsed": true
	   },
	   "outputs": [],
"source": [
"clc;clear;\n",
"//Example 5.12\n",
"\n",
"//given data\n",
"Wo=4.8;//work function in eV\n",
"W=2220;//wavelength in angstrom\n",
"\n",
"//calculations\n",
"E=12400/W;\n",
"Emax=E-Wo;\n",
"disp(Emax,'The maximum Kinetic energy in eV is')"
   ]
   }
,
{
		   "cell_type": "markdown",
		   "metadata": {},
		   "source": [
			"## Example 5.13: WHEN_VIOLET_LIGHT.sce"
		   ]
		  },
  {
"cell_type": "code",
	   "execution_count": null,
	   "metadata": {
	    "collapsed": true
	   },
	   "outputs": [],
"source": [
"clc;clear;\n",
"//Example 5.13\n",
"\n",
"//given data\n",
"W=4000*10^-10;//wavelength in m\n",
"Vs=0.4;//retarding potential in eV\n",
"h=6.625*10^-34;//Plank's constant\n",
"c=3*10^8;//speed of light in m/s\n",
"e=1.6*10^-19;//the charge on electron in C\n",
"\n",
"//calculations\n",
"f=c/W;\n",
"disp(f,'The light frequency in Hz');\n",
"E=h*f/e;\n",
"disp(E,'The photon energy in eV');\n",
"Wo=E-Vs;\n",
"disp(Wo,'The work function in eV');\n",
"fo=Wo/h*e;\n",
"disp(fo,'The threshold frequency in Hz');\n",
"NE=(E-Wo)*e;\n",
"disp(NE,'The net energy in J')"
   ]
   }
,
{
		   "cell_type": "markdown",
		   "metadata": {},
		   "source": [
			"## Example 5.14: CALCULATE_THRESHOLD_WAVELENGTH_AND_PLANKS_CONSTANT.sce"
		   ]
		  },
  {
"cell_type": "code",
	   "execution_count": null,
	   "metadata": {
	    "collapsed": true
	   },
	   "outputs": [],
"source": [
"clc;clear;\n",
"//Example 5.14\n",
"\n",
"//given data\n",
"W1=3310*10^-10;//photon wavelength in m\n",
"W2=5000*10^-10;//photon wavelength in m\n",
"E1=3*10^-19;//electron energy in J\n",
"E2=0.972*10^-19;//electron energy in J\n",
"c=3*10^8;//speed of light in m/s\n",
"\n",
"//given values\n",
"h=(E1-E2)*(W1*W2)/(c*(W2-W1));\n",
"disp(h,'the plancks const in Js');\n",
"Wo=c*h/E1;\n",
"disp(Wo,'The threshold wavelength in m')"
   ]
   }
,
{
		   "cell_type": "markdown",
		   "metadata": {},
		   "source": [
			"## Example 5.15: A_CERTAIN_METAL.sce"
		   ]
		  },
  {
"cell_type": "code",
	   "execution_count": null,
	   "metadata": {
	    "collapsed": true
	   },
	   "outputs": [],
"source": [
"clc;clear;\n",
"//Example 5.15\n",
"\n",
"//given data\n",
"W=6525;//wavelength in angstrom\n",
"\n",
"//calcualation\n",
"Vo=12400*((1/4000)-(1/W));\n",
"disp(Vo,'Stopping potential in (a) in volts');\n",
"Vo=12400*((1/2000)-(1/W));\n",
"disp(Vo,'Stopping potential in (b) in volts');\n",
"Vo=12400*((1/2000)-(2/W));\n",
"disp(Vo,'Stopping potential in (c) in volts')"
   ]
   }
,
{
		   "cell_type": "markdown",
		   "metadata": {},
		   "source": [
			"## Example 5.16: FIND_UNKNOWN_WAVELENGTH.sce"
		   ]
		  },
  {
"cell_type": "code",
	   "execution_count": null,
	   "metadata": {
	    "collapsed": true
	   },
	   "outputs": [],
"source": [
"clc;clear;\n",
"//EXample 5.16\n",
"\n",
"//given data\n",
"Wo=5000;//wavelength in angstrom\n",
"V=3.1;//stopping potential in V\n",
"\n",
"//calcualtion\n",
"W=1/((V/12400)+(1/Wo));\n",
"disp(W,'The unknown wavelength in Angstrom')"
   ]
   }
,
{
		   "cell_type": "markdown",
		   "metadata": {},
		   "source": [
			"## Example 5.17: LIGHT_OF_WAVELENGTH_2000_ANGSTROM.sce"
		   ]
		  },
  {
"cell_type": "code",
	   "execution_count": null,
	   "metadata": {
	    "collapsed": true
	   },
	   "outputs": [],
"source": [
"clc;clear;\n",
"//Example 5.17\n",
"\n",
"//given values\n",
"W=2000;//wavelength in Angstrom\n",
"Vs=4.2;//Work Function in eV\n",
"e=1.6*10^-19;//the charge on electron in C\n",
"\n",
"//calculations\n",
"E=12400/W;\n",
"Emax=(E-Vs)*e;\n",
"disp(Emax,'KE of fastest photoelectron in J');\n",
"Emin=0;\n",
"disp(Emin,'KE of slowest moving electron in J');\n",
"Vo=Emax/e;\n",
"disp(Vo,'Stopping potential in V');\n",
"Wo=12400/Vs;\n",
"disp(Wo,'The cutoff wavelength in Angstrom')"
   ]
   }
,
{
		   "cell_type": "markdown",
		   "metadata": {},
		   "source": [
			"## Example 5.18: CALCULATE_PLANKS_CONSTANT.sce"
		   ]
		  },
  {
"cell_type": "code",
	   "execution_count": null,
	   "metadata": {
	    "collapsed": true
	   },
	   "outputs": [],
"source": [
"clc;clear;\n",
"//Example 5.18\n",
"\n",
"//given values\n",
"Vs1=4.6;//Stopping Potential in V\n",
"Vs2=12.9;//Stopping Potential in V\n",
"f1=2*10^15;//frequency in Hz\n",
"f2=4*10^15;//frequency in Hz\n",
"e=1.6*10^-19;//the charge on electron in C\n",
"\n",
"//calculations\n",
"h=((Vs2-Vs1)*e)/(f2-f1)\n",
"disp(h,'The Plancks const in Js')"
   ]
   }
,
{
		   "cell_type": "markdown",
		   "metadata": {},
		   "source": [
			"## Example 5.1: CALCULATE_ENERGY.sce"
		   ]
		  },
  {
"cell_type": "code",
	   "execution_count": null,
	   "metadata": {
	    "collapsed": true
	   },
	   "outputs": [],
"source": [
"clc;clear;\n",
"//Example 5.1\n",
"\n",
"//given values\n",
"W1=4;//wavelength in Angstrom\n",
"W2=1;//wavelength in Angstrom\n",
"e=1.6*10^-19;//the charge on electron in C\n",
"m=9.12*10^-31;//mass of electron in kg\n",
"\n",
"//calculation\n",
"disp('Part (i)');\n",
"E=12400/W1;\n",
"disp(E,'The energy in eV is');\n",
"v=sqrt(E*e*2/m);\n",
"disp(v,'The velocity in m/s is');\n",
"disp('Part (ii)');\n",
"E=12400/W2;\n",
"disp(E,'The energy in eV is');\n",
"v=sqrt(E*e*2/m);\n",
"disp(v,'The velocity in m/s is')"
   ]
   }
,
{
		   "cell_type": "markdown",
		   "metadata": {},
		   "source": [
			"## Example 5.2: HOW_MANY_PHOTONS.sce"
		   ]
		  },
  {
"cell_type": "code",
	   "execution_count": null,
	   "metadata": {
	    "collapsed": true
	   },
	   "outputs": [],
"source": [
"clc;clear;\n",
"//Example 5.2\n",
"\n",
"//given values\n",
"f=880*10^3;//frequency in Hz\n",
"P=10*10^3;//Power in W\n",
"h=6.625*10^-34;//Plank's constant\n",
"\n",
"//calculation\n",
"E=h*f;\n",
"n=P/E;\n",
"disp(n,'The number of photons emitted per second are')"
   ]
   }
,
{
		   "cell_type": "markdown",
		   "metadata": {},
		   "source": [
			"## Example 5.3: HOW_MANY_LIGHT_QUANTA.sce"
		   ]
		  },
  {
"cell_type": "code",
	   "execution_count": null,
	   "metadata": {
	    "collapsed": true
	   },
	   "outputs": [],
"source": [
"clc;clear;\n",
"//Example 5.3\n",
"\n",
"//given values\n",
"P=200;//power in W\n",
"W=6123*10^-10;//wavelength in m\n",
"c=3*10^8;//speed of light in m/s\n",
"h=6.625*10^-34;//Plank's constant\n",
"\n",
"//calculation\n",
"Op=0.5*P;//radiant o/p\n",
"E=h*c/W;\n",
"n=2/E;\n",
"disp(n,'No. of Quanta emitted/s')"
   ]
   }
,
{
		   "cell_type": "markdown",
		   "metadata": {},
		   "source": [
			"## Example 5.4: FIND_THE_NO_OF_PHOTOELECTRONS.sce"
		   ]
		  },
  {
"cell_type": "code",
	   "execution_count": null,
	   "metadata": {
	    "collapsed": true
	   },
	   "outputs": [],
"source": [
"clc;clear;\n",
"//Example 5.4\n",
"\n",
"//given values\n",
"N=5*10^4;//no. of photons\n",
"W=3000*10^-10;//wavelength in A\n",
"J=5*10^-3;//senstivity for W in A/W\n",
"h=6.625*10^-34;//Plank's constant\n",
"c=3*10^8;//speed of light in m/s\n",
"e=1.6*10^-19;//the charge on electron in C\n",
"\n",
"//calculation\n",
"E=h*c/W;//energy content of each photon\n",
"TE=N*E;//total energy\n",
"I=J*TE;//current produced\n",
"n=I/e;\n",
"disp(n,'no. photoelectrons emitted are')"
   ]
   }
,
{
		   "cell_type": "markdown",
		   "metadata": {},
		   "source": [
			"## Example 5.5: HOW_MANY_PHOTONS_AND_AT_WHAT_RATE.sce"
		   ]
		  },
  {
"cell_type": "code",
	   "execution_count": null,
	   "metadata": {
	    "collapsed": true
	   },
	   "outputs": [],
"source": [
"clc;clear;\n",
"//Example 5.5\n",
"\n",
"//given values\n",
"W=5*10^-7;//wavelength in m\n",
"F=10^-5;//force in N\n",
"h=6.625*10^-34;//Plank's constant\n",
"m=1.5*10^-3;//mass in kg\n",
"c=3*10^8;//speed of light in m/s\n",
"S=0.1//specific heat\n",
"\n",
"//calculation\n",
"n=F*W/h;\n",
"disp(n,'no. of photons');\n",
"E=F*c/4200;//in kcal/s\n",
"T=E/(m*S);\n",
"disp(T,'the rate of temperature rise')"
   ]
   }
,
{
		   "cell_type": "markdown",
		   "metadata": {},
		   "source": [
			"## Example 5.6: HOW_MANY_PHOTONS_EMITTED_BY_LAMP.sce"
		   ]
		  },
  {
"cell_type": "code",
	   "execution_count": null,
	   "metadata": {
	    "collapsed": true
	   },
	   "outputs": [],
"source": [
"clc;clear;\n",
"//Example 5.6\n",
"\n",
"//given values\n",
"W=4500*10^-10;//wavelength in m\n",
"V=150;//rated voltage in W\n",
"h=6.625*10^-34;//Plank's constant\n",
"c=3*10^8;//speed of light in m/s\n",
"\n",
"//calculation\n",
"P=V*8/100;//lamp power emitted\n",
"E=h*c/W;\n",
"n=P/E;\n",
"disp(n,'No. photons emitted/s')"
   ]
   }
,
{
		   "cell_type": "markdown",
		   "metadata": {},
		   "source": [
			"## Example 5.7: CALCULATE_NUMBER_OF_PHOTONS.sce"
		   ]
		  },
  {
"cell_type": "code",
	   "execution_count": null,
	   "metadata": {
	    "collapsed": true
	   },
	   "outputs": [],
"source": [
"clc;clear;\n",
"//Example 5.7\n",
"\n",
"//given values\n",
"f=1*10^12;//frequency in Hz\n",
"h=6.625*10^-34;//Plank's constant\n",
"\n",
"//calculation\n",
"E=h*f;\n",
"n=E/6.625;\n",
"disp(n,'the no. of photons required')"
   ]
   }
,
{
		   "cell_type": "markdown",
		   "metadata": {},
		   "source": [
			"## Example 5.8: WITH_WHAT_VELOCITY.sce"
		   ]
		  },
  {
"cell_type": "code",
	   "execution_count": null,
	   "metadata": {
	    "collapsed": true
	   },
	   "outputs": [],
"source": [
"clc;clear;\n",
"//Example 5.8\n",
"\n",
"//given values\n",
"W=5200*10^-10;//wavelength in m\n",
"h=6.625*10^-34;//Plank's constant\n",
"m=9.12*10^-31;//mass of electron in kg\n",
"\n",
"//calculations\n",
"p=h/W;\n",
"v=p/m;\n",
"disp(v,'the velocity in m/s')"
   ]
   }
,
{
		   "cell_type": "markdown",
		   "metadata": {},
		   "source": [
			"## Example 5.9: CALCULATE_THRESHOLD_FREQUENCY.sce"
		   ]
		  },
  {
"cell_type": "code",
	   "execution_count": null,
	   "metadata": {
	    "collapsed": true
	   },
	   "outputs": [],
"source": [
"clc;clear;\n",
"//Example 5.9\n",
"\n",
"//given data\n",
"v=7*10^5;//maximum speed in m/sec\n",
"f=8*10^14;//frequency in Hz\n",
"h=6.625*10^-34;//Plank's constant\n",
"c=3*10^8;//speed of light in m/s\n",
"m=9.12*10^-31;//mass of electron in kg\n",
"\n",
"//calulations\n",
"E=0.5*m*v*v;\n",
"fo=f-(E/h);\n",
"disp(fo,'the threshold frequency in Hz is')"
   ]
   }
],
"metadata": {
		  "kernelspec": {
		   "display_name": "Scilab",
		   "language": "scilab",
		   "name": "scilab"
		  },
		  "language_info": {
		   "file_extension": ".sce",
		   "help_links": [
			{
			 "text": "MetaKernel Magics",
			 "url": "https://github.com/calysto/metakernel/blob/master/metakernel/magics/README.md"
			}
		   ],
		   "mimetype": "text/x-octave",
		   "name": "scilab",
		   "version": "0.7.1"
		  }
		 },
		 "nbformat": 4,
		 "nbformat_minor": 0
}
