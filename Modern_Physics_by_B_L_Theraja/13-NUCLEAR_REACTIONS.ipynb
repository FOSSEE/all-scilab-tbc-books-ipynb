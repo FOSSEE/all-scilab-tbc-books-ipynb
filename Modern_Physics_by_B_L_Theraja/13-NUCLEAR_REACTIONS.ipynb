{
"cells": [
 {
		   "cell_type": "markdown",
	   "metadata": {},
	   "source": [
       "# Chapter 13: NUCLEAR REACTIONS"
	   ]
	},
{
		   "cell_type": "markdown",
		   "metadata": {},
		   "source": [
			"## Example 13.1: CALCULATE_THE_ENERGY_AVAILABLE.sce"
		   ]
		  },
  {
"cell_type": "code",
	   "execution_count": null,
	   "metadata": {
	    "collapsed": true
	   },
	   "outputs": [],
"source": [
"clc;clear;\n",
"//Example 13.1\n",
"\n",
"//given data\n",
"m1=7.0183;//mass of 3Li7 in a.m.u\n",
"m2=4.0040;//mass of 2He4 in a.m.u\n",
"m3=1.0082;//mass of 1H1 in a.m.u\n",
"Na=6.02*10^26;//Avgraodo no. in 1/kg mole\n",
"//rxn = 3Li7 + 1H1 = 2He4 + 2He4 \n",
"\n",
"//calculations\n",
"dm=m1+m3-(2*m2);\n",
"E=dm*931;\n",
"n=0.1*Na/7;//no of atoms in 100 gm of lithium\n",
"TE=n*E;\n",
"disp(TE,'Total energy available in MeV')"
   ]
   }
,
{
		   "cell_type": "markdown",
		   "metadata": {},
		   "source": [
			"## Example 13.2: CALCULATE_THE_ENERGY_RELEASED.sce"
		   ]
		  },
  {
"cell_type": "code",
	   "execution_count": null,
	   "metadata": {
	    "collapsed": true
	   },
	   "outputs": [],
"source": [
"clc;clear;\n",
"//Example 13.2\n",
"\n",
"//given data\n",
"m1=6.015126;//mass of 3Li7 in a.m.u\n",
"m2=4.002604;//mass oh 2He4 in a.m.u\n",
"m3=1.00865;//mass of 0n1 in a.m.u\n",
"m4=3.016049;//mass of 1H3 in a.m.u\n",
"//rxn = 3Li7 + 0n1 = 2He4 + 1H3 + Q\n",
"\n",
"//calcualtions\n",
"dm=m1+m3-(m2+m4);\n",
"Q=dm*931;\n",
"disp(Q,'energy released in MeV')"
   ]
   }
,
{
		   "cell_type": "markdown",
		   "metadata": {},
		   "source": [
			"## Example 13.3: WHAT_IS_THE_Q_VALUE_OF_THE_REACTION.sce"
		   ]
		  },
  {
"cell_type": "code",
	   "execution_count": null,
	   "metadata": {
	    "collapsed": true
	   },
	   "outputs": [],
"source": [
"clc;clear;\n",
"//Example 13.3\n",
"\n",
"//given data\n",
"m1=14.007515;//mass of 7N14 in a.m.u\n",
"m2=4.003837;//mass oh 2He4 in a.m.u\n",
"m3=17.004533;//mass of 8O17 in a.m.u\n",
"m4=1.008142;//mass of 1H1 in a.m.u\n",
"//rxn = 7N14 + 2He14 = 8O17 + 1H1\n",
"\n",
"//calculations\n",
"dm=m3+m4-(m1+m2);\n",
"Q=dm*931;\n",
"disp(Q,'energy released in MeV')"
   ]
   }
,
{
		   "cell_type": "markdown",
		   "metadata": {},
		   "source": [
			"## Example 13.4: FIND_THE_MASS.sce"
		   ]
		  },
  {
"cell_type": "code",
	   "execution_count": null,
	   "metadata": {
	    "collapsed": true
	   },
	   "outputs": [],
"source": [
"clc;clear;\n",
"//Example 13.3\n",
"\n",
"//given data\n",
"m1=14.007520;//mass of 7N14 in a.m.u\n",
"m2=1.008986;//mass oh 0n1 in a.m.u\n",
"//m3=mass of 6C14 in a.m.u\n",
"m4=1.008145;//mass of 1H1 in a.m.u\n",
"//rxn = 7N14 + 0n1 = 6C14 + 1H1 + 0.55 MeV\n",
"\n",
"//calculations\n",
"Q=0.55;\n",
"dm=Q/931;\n",
"m3=dm+m1+m2-m4;\n",
"disp(m3,'mass of 6C14 in a.m.u')"
   ]
   }
,
{
		   "cell_type": "markdown",
		   "metadata": {},
		   "source": [
			"## Example 13.6: EXPLAIN_MASS_DEFECT.sce"
		   ]
		  },
  {
"cell_type": "code",
	   "execution_count": null,
	   "metadata": {
	    "collapsed": true
	   },
	   "outputs": [],
"source": [
"clc;clear;\n",
"//Example 13.6\n",
"\n",
"//given data\n",
"m0=11.01280;//mass 5B11 in a.m.u\n",
"m1=4.00387;//mass of alpha particle in a.m.u\n",
"m2=14.00752;//mass of 7N14 in a.m.u\n",
"//m3=mass of neutron \n",
"E1=5.250;//energy of alpha particle in MeV\n",
"E2=2.139;//energy of 7N14 in MeV\n",
"E3=3.260;//energy of 0n1 in MeV\n",
"\n",
"//calculations\n",
"m3=(m0*931)+((m1*931)+E1)-((m2*931)+E2)-E3;\n",
"disp((m3/931),'mass of neutron in a.m.u')"
   ]
   }
],
"metadata": {
		  "kernelspec": {
		   "display_name": "Scilab",
		   "language": "scilab",
		   "name": "scilab"
		  },
		  "language_info": {
		   "file_extension": ".sce",
		   "help_links": [
			{
			 "text": "MetaKernel Magics",
			 "url": "https://github.com/calysto/metakernel/blob/master/metakernel/magics/README.md"
			}
		   ],
		   "mimetype": "text/x-octave",
		   "name": "scilab",
		   "version": "0.7.1"
		  }
		 },
		 "nbformat": 4,
		 "nbformat_minor": 0
}
