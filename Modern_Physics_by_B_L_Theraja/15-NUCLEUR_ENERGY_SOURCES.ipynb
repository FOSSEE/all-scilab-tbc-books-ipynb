{
"cells": [
 {
		   "cell_type": "markdown",
	   "metadata": {},
	   "source": [
       "# Chapter 15: NUCLEUR ENERGY SOURCES"
	   ]
	},
{
		   "cell_type": "markdown",
		   "metadata": {},
		   "source": [
			"## Example 15.1: CALCULATE_THE_MAXIMUM_FRACTION_OF_THE_KE.sce"
		   ]
		  },
  {
"cell_type": "code",
	   "execution_count": null,
	   "metadata": {
	    "collapsed": true
	   },
	   "outputs": [],
"source": [
"clc;clear;\n",
"//Example 15.1\n",
"\n",
"//given data\n",
"ma=1;\n",
"Ma=2;\n",
"mb=1;\n",
"Mb=12;\n",
"mc=1;\n",
"Mc=238;//m is mass of neutron and M is mass of other neucleus\n",
"\n",
"//calculation\n",
"n=(4*ma*Ma/(ma+Ma)^2)*100;\n",
"disp(n,'Maximum fraction of KE lost by a neutron for (a)');\n",
"n=(4*mb*Mb/(mb+Mb)^2)*100;\n",
"disp(n,'Maximum fraction of KE lost by a neutron for (a)');\n",
"n=(4*mc*Mc/(mc+Mc)^2)*100;\n",
"disp(n,'Maximum fraction of KE lost by a neutron for (a)')"
   ]
   }
,
{
		   "cell_type": "markdown",
		   "metadata": {},
		   "source": [
			"## Example 15.2: CALCULATE_THE_FISSION_RATE.sce"
		   ]
		  },
  {
"cell_type": "code",
	   "execution_count": null,
	   "metadata": {
	    "collapsed": true
	   },
	   "outputs": [],
"source": [
"clc;clear;\n",
"//Example 15.2\n",
"\n",
"//given data\n",
"E=200;//energy released per fission in MeV\n",
"e=1.6*10^-19;//the charge on electron in C\n",
"Na=6.02*10^26;//Avgraodo no. in 1/kg mole\n",
"\n",
"//calculations\n",
"CE=E*e*10^6;//conversion in J\n",
"RF=1/CE;\n",
"disp(RF,'fission rate of one watt in fissions/second');\n",
"Ekg=CE*Na/235;\n",
"disp(Ekg,'Energy realeased in complete fission of 1 kg in J')"
   ]
   }
,
{
		   "cell_type": "markdown",
		   "metadata": {},
		   "source": [
			"## Example 15.3: HOW_MANY_KG_OF_U_235.sce"
		   ]
		  },
  {
"cell_type": "code",
	   "execution_count": null,
	   "metadata": {
	    "collapsed": true
	   },
	   "outputs": [],
"source": [
"clc;clear;\n",
"//Example 15.3\n",
"\n",
"//given data\n",
"R=3*10^7;//rate of energy development in J s\n",
"E=200;//energy released per fission in MeV\n",
"e=1.6*10^-19;//the charge on electron in C\n",
"t=1000;//time is hours\n",
"Ekg=8.2*10^13;//energy released per kg of U-235\n",
"\n",
"//calculation\n",
"CE=E*e*10^6;//conversion in J\n",
"n=R/CE;\n",
"disp(n,'no of atoms undergo fission/second ');\n",
"TE=R*t*3600;//energy produced in 1000 hours\n",
"MC=TE/Ekg;\n",
"disp(MC,'mass consumed in kg')"
   ]
   }
,
{
		   "cell_type": "markdown",
		   "metadata": {},
		   "source": [
			"## Example 15.4: HOW_MUCH_U_235_WOULD_BE_CONSUMED_IN_THE_RUN.sce"
		   ]
		  },
  {
"cell_type": "code",
	   "execution_count": null,
	   "metadata": {
	    "collapsed": true
	   },
	   "outputs": [],
"source": [
"clc;clear;\n",
"//Example 15.4\n",
"\n",
"//given data\n",
"EPF=180;//Energy consumed per disintegration in MeV\n",
"E=1200;//average power in kW\n",
"t=10;//time in hours\n",
"Na=6.02*10^26;//Avgraodo no. in 1/kg mole\n",
"e=1.6*10^-19;//the charge on electron in C\n",
"\n",
"//calculation\n",
"TE=E*t;//energy consumed in kWh\n",
"TE=TE*36*10^5;//conversion in J\n",
"EE=TE/0.2;//efficient energy\n",
"CE=EPF*e*10^6;//conversion in J\n",
"n=EE/CE;\n",
"m=235*n/Na*1000;\n",
"disp(m,'mass consumed in gram')"
   ]
   }
,
{
		   "cell_type": "markdown",
		   "metadata": {},
		   "source": [
			"## Example 15.5: NUCLEUR_REACTOR_PRODUCES_200MW.sce"
		   ]
		  },
  {
"cell_type": "code",
	   "execution_count": null,
	   "metadata": {
	    "collapsed": true
	   },
	   "outputs": [],
"source": [
"clc;clear;\n",
"//Example 15.5\n",
"\n",
"//given data\n",
"OE=200;//o/p power in MW\n",
"E=200;//energy released per fission in MeV\n",
"WF=3.1*10^10;//fission rate in fissions/second\n",
"Na=6.02*10^26;//Avgraodo no. in 1/kg mole\n",
"\n",
"//calculations\n",
"IE=OE/0.3*10^6;//reactor input in W\n",
"TFR=WF*IE;\n",
"n=TFR*24*3600;//no. of U-235 for one day\n",
"m=235*n/Na;\n",
"disp((m*100/0.7),'amt of natural uranium conumed/day in kg')"
   ]
   }
,
{
		   "cell_type": "markdown",
		   "metadata": {},
		   "source": [
			"## Example 15.6: A_CITY_REQUIRES_100_MW.sce"
		   ]
		  },
  {
"cell_type": "code",
	   "execution_count": null,
	   "metadata": {
	    "collapsed": true
	   },
	   "outputs": [],
"source": [
"clc;clear;\n",
"//Example 15.6\n",
"\n",
"//given data\n",
"AE=100;//electrical power in MW\n",
"E=200;//energy released per fission in MeV\n",
"e=1.6*10^-19;//the charge on electron in C\n",
"Na=6.02*10^26;//Avgraodo no. in 1/kg mole\n",
"\n",
"//calculations\n",
"TE=AE*10^6*24*3600;//energy consumed in city in one day in J\n",
"EE=TE/0.2;\n",
"CE=E*e*10^6;//conversion in J\n",
"n=EE/CE;\n",
"m=235*n/Na;\n",
"disp(m,'amt of fuel required in kg')"
   ]
   }
,
{
		   "cell_type": "markdown",
		   "metadata": {},
		   "source": [
			"## Example 15.7: BOMBAY_REQUIRES_300_MWh.sce"
		   ]
		  },
  {
"cell_type": "code",
	   "execution_count": null,
	   "metadata": {
	    "collapsed": true
	   },
	   "outputs": [],
"source": [
"clc;clear;\n",
"//Example 15.7\n",
"\n",
"//given data\n",
"OE=3000;//output power in MWh\n",
"E=200;//energy released per fission in MeV\n",
"e=1.6*10^-19;//the charge on electron in C\n",
"Na=6.02*10^26;//Avgraodo no. in 1/kg mole\n",
"\n",
"//calculations\n",
"IE=OE/0.2;\n",
"TE=IE*36*10^8;//conversion in J\n",
"CE=E*e*10^6;//conversion in J\n",
"n=TE/CE;\n",
"m=235*n/Na;\n",
"disp(m,'daily fuel requirement in kg')"
   ]
   }
,
{
		   "cell_type": "markdown",
		   "metadata": {},
		   "source": [
			"## Example 15.8: THE_MOTOR_OF_AN_ATOMIC_ICE_BREAKER.sce"
		   ]
		  },
  {
"cell_type": "code",
	   "execution_count": null,
	   "metadata": {
	    "collapsed": true
	   },
	   "outputs": [],
"source": [
"clc;clear;\n",
"//Example 15.8\n",
"\n",
"//given data\n",
"OP=32824;//o/p power in kW\n",
"E=200;//energy released per fission in MeV\n",
"Ekg=8.2*10^13;//energy released per kg of U-235\n",
"\n",
"//calculations\n",
"DOP=OP*1000*24*3600;//daily o/p power in J\n",
"IP=DOP/0.2;\n",
"DFC=IP/Ekg;//daily fuel cosumption\n",
"disp(DFC,'daily fuel cosumption in kg');\n",
"DI=DOP/(0.8*4186);//daily input at 80% efficiency\n",
"Crqd=DI/(7*10^3);\n",
"disp(Crqd,'Coal reqd/day in tonnes')"
   ]
   }
],
"metadata": {
		  "kernelspec": {
		   "display_name": "Scilab",
		   "language": "scilab",
		   "name": "scilab"
		  },
		  "language_info": {
		   "file_extension": ".sce",
		   "help_links": [
			{
			 "text": "MetaKernel Magics",
			 "url": "https://github.com/calysto/metakernel/blob/master/metakernel/magics/README.md"
			}
		   ],
		   "mimetype": "text/x-octave",
		   "name": "scilab",
		   "version": "0.7.1"
		  }
		 },
		 "nbformat": 4,
		 "nbformat_minor": 0
}
