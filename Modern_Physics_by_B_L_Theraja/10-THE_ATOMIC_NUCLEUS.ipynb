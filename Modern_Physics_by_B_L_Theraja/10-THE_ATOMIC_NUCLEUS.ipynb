{
"cells": [
 {
		   "cell_type": "markdown",
	   "metadata": {},
	   "source": [
       "# Chapter 10: THE ATOMIC NUCLEUS"
	   ]
	},
{
		   "cell_type": "markdown",
		   "metadata": {},
		   "source": [
			"## Example 10.1: COMPARE_DENSITIES_OF_WATER_AND_NUCLEUS.sce"
		   ]
		  },
  {
"cell_type": "code",
	   "execution_count": null,
	   "metadata": {
	    "collapsed": true
	   },
	   "outputs": [],
"source": [
"clc;clear;\n",
"//Example 10.1\n",
"\n",
"//given data\n",
"R=1.2*10^-15;//radius in A^(1/3)-m *A is mass number\n",
"mp=1.008;\n",
"mn=mp;//mass of proton and neutron in a.m.u\n",
"pi=3.14;//const\n",
"Dw=1000;///density of water in kg/m^3\n",
"\n",
"//calculation\n",
"Vn=4/3*pi*R^3;\n",
"mp=mp*1.66*10^-27;//conversion in kg\n",
"mn=mp;\n",
"m=mn;//m is combined mass in A-kg\n",
"Dn=m/Vn;\n",
"R=Dn/Dw;\n",
"disp(R,'the ratio is')"
   ]
   }
,
{
		   "cell_type": "markdown",
		   "metadata": {},
		   "source": [
			"## Example 10.2: CALCULATE_ENERGY_EQUIVALENCE_FOR_MeV.sce"
		   ]
		  },
  {
"cell_type": "code",
	   "execution_count": null,
	   "metadata": {
	    "collapsed": true
	   },
	   "outputs": [],
"source": [
"clc;clear;\n",
"//Example 10.2\n",
"\n",
"//calculations\n",
"amu=1.66*10^-27;//1 amu in kg\n",
"c=3*10^8;//speed of light in m/s\n",
"m=amu;\n",
"E=m*c^2;\n",
"kWh=1.6*10^-13;//conversion of kWh in J\n",
"E=E/kWh;\n",
"disp(E,'energy equivalence in MeV')"
   ]
   }
,
{
		   "cell_type": "markdown",
		   "metadata": {},
		   "source": [
			"## Example 10.3: CALCULATE_ENERGY_EQUIVALENCE_FOR_kWh.sce"
		   ]
		  },
  {
"cell_type": "code",
	   "execution_count": null,
	   "metadata": {
	    "collapsed": true
	   },
	   "outputs": [],
"source": [
"clc;clear;\n",
"//Example 10.3\n",
"\n",
"//calculations\n",
"gm=10^-3;//1 gram in kg\n",
"m=gm;\n",
"c=3*10^8;//speed of light in m/s\n",
"E=m*c^2;\n",
"kWh=36*10^5;//1 kWh in J\n",
"EE=E/kWh;\n",
"disp(EE,'energy equivalence in kWh')"
   ]
   }
,
{
		   "cell_type": "markdown",
		   "metadata": {},
		   "source": [
			"## Example 10.4: CALCULATE_BINDING_ENERGY.sce"
		   ]
		  },
  {
"cell_type": "code",
	   "execution_count": null,
	   "metadata": {
	    "collapsed": true
	   },
	   "outputs": [],
"source": [
"clc;clear;\n",
"//Example 10.4\n",
"\n",
"//given data\n",
"mn=1.00893;//mass of neutron in a.m.u\n",
"mp=1.00813;//mass of proton in a.m.u\n",
"md=2.01473;//mass of deuteron in a.m.u\n",
"ma=4.00389;//mass of alpha-particle in a.m.u\n",
"\n",
"//calculations\n",
"dm=md-(mn+mp);\n",
"disp((-dm*931),'binding energy in MeV');\n",
"dm=ma-2*(mn+mp);\n",
"disp((-dm*931),'binding energy in MeV')"
   ]
   }
,
{
		   "cell_type": "markdown",
		   "metadata": {},
		   "source": [
			"## Example 10.5: CALCULATE_BINDING_ENERGY_OF_17Cl35.sce"
		   ]
		  },
  {
"cell_type": "code",
	   "execution_count": null,
	   "metadata": {
	    "collapsed": true
	   },
	   "outputs": [],
"source": [
"clc;clear;\n",
"//Example 10.5\n",
"\n",
"//given data\n",
"m1=1.008665;//mass of 0n1 in a.m.u\n",
"m2=1.007825;//mass of 1H1 in a.m.u\n",
"m3=34.9800;//mass 17Cl35 in a.m.u\n",
"n=17+18;\n",
"\n",
"//calculations\n",
"dm=(17*m2)+(18*m1)-m3;\n",
"Q=dm*931;\n",
"disp(Q,'Binding energy in MeV');\n",
"BEn=Q/n;\n",
"disp(BEn,'Binding energy per nucleon in MeV')"
   ]
   }
,
{
		   "cell_type": "markdown",
		   "metadata": {},
		   "source": [
			"## Example 10.6: CALCULATE_BINDING_ENERGY_FOR_LITHIUM_NUCLEUS.sce"
		   ]
		  },
  {
"cell_type": "code",
	   "execution_count": null,
	   "metadata": {
	    "collapsed": true
	   },
	   "outputs": [],
"source": [
"clc;clear;\n",
"//Example in 10.6\n",
"\n",
"//given data\n",
"m1=1.00814;//mass of proton in a.m.u\n",
"m2=1.00893;//mass of neutron in a.m.u\n",
"m3=7.01822;//mass of lithium in a.m.u\n",
"\n",
"//calculations\n",
"dm=(3*m1)+(4*m2)-m3;\n",
"Q=dm*931;\n",
"disp(Q,'Binding energy in MeV')"
   ]
   }
],
"metadata": {
		  "kernelspec": {
		   "display_name": "Scilab",
		   "language": "scilab",
		   "name": "scilab"
		  },
		  "language_info": {
		   "file_extension": ".sce",
		   "help_links": [
			{
			 "text": "MetaKernel Magics",
			 "url": "https://github.com/calysto/metakernel/blob/master/metakernel/magics/README.md"
			}
		   ],
		   "mimetype": "text/x-octave",
		   "name": "scilab",
		   "version": "0.7.1"
		  }
		 },
		 "nbformat": 4,
		 "nbformat_minor": 0
}
