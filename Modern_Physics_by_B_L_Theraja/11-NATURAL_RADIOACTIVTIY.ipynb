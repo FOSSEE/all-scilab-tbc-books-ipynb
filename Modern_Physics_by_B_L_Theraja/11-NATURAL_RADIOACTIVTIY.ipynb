{
"cells": [
 {
		   "cell_type": "markdown",
	   "metadata": {},
	   "source": [
       "# Chapter 11: NATURAL RADIOACTIVTIY"
	   ]
	},
{
		   "cell_type": "markdown",
		   "metadata": {},
		   "source": [
			"## Example 11.1: CALCUALTE_HOW_MUCH_RADIUM.sce"
		   ]
		  },
  {
"cell_type": "code",
	   "execution_count": null,
	   "metadata": {
	    "collapsed": true
	   },
	   "outputs": [],
"source": [
"clc;clear;\n",
"//Example 11.1\n",
"\n",
"//given data\n",
"ttg=8378-1898;//total time gap in yrs\n",
"hf=1620;//half life in yrs\n",
"n=ttg/hf;//no of half-periods\n",
"Mo=200;//amt of radium in mg\n",
"\n",
"//calculations\n",
"M=Mo*(0.5)^n;\n",
"disp(M,'radium left in mg')"
   ]
   }
,
{
		   "cell_type": "markdown",
		   "metadata": {},
		   "source": [
			"## Example 11.2: CALCULATE_RADIOACTIVE_DISINTEGRATING_CONST.sce"
		   ]
		  },
  {
"cell_type": "code",
	   "execution_count": null,
	   "metadata": {
	    "collapsed": true
	   },
	   "outputs": [],
"source": [
"clc;clear;\n",
"//Example 11.2\n",
"\n",
"//given data\n",
"hf=30;//half life in days\n",
"//M is intial conc.\n",
"\n",
"//calcualtions\n",
"k=0.693/hf;\n",
"disp(k,'radioactive disintegration constant in 1/day');\n",
"//M/4 is left\n",
"t=-log(1/4)/k;\n",
"disp(t,'time taken for (ii) in days');\n",
"//M/8 is left\n",
"t=-log(1/8)/k;\n",
"disp(t,'time taken for (iii) in days')"
   ]
   }
,
{
		   "cell_type": "markdown",
		   "metadata": {},
		   "source": [
			"## Example 11.3: COMPUTE_DECAY_CONST_AND_HALF_LIFE.sce"
		   ]
		  },
  {
"cell_type": "code",
	   "execution_count": null,
	   "metadata": {
	    "collapsed": true
	   },
	   "outputs": [],
"source": [
"clc;clear;\n",
"//Example 11.3\n",
"\n",
"//given data\n",
"No=4750;\n",
"N=2700;//rate in counts/minute\n",
"t=5;//time in minutes\n",
"\n",
"//calculation \n",
"k=log(No/N)/t;\n",
"disp(k,'radioactive disintegration constant in 1/min');\n",
"hf=0.693/k;\n",
"disp(hf,'half life in minutes')"
   ]
   }
,
{
		   "cell_type": "markdown",
		   "metadata": {},
		   "source": [
			"## Example 11.4: ESTIMATE_HALF_LIFE_OF_PLUTONIUM.sce"
		   ]
		  },
  {
"cell_type": "code",
	   "execution_count": null,
	   "metadata": {
	    "collapsed": true
	   },
	   "outputs": [],
"source": [
"clc;clear;\n",
"//Example 13.4\n",
"\n",
"//given data\n",
"m=4.00387;//mass of alpha particle in a.m.u\n",
"M=10^-6;//mass of Pu-239 in kg \n",
"\n",
"//calculations\n",
"m=m*1.66*10^-24;//conversion in gm\n",
"Mo=2300*m;\n",
"k=(Mo/1)/M;\n",
"hf=0.693/k;\n",
"hf=hf/(365*24*3600);//conversion in yrs\n",
"disp(hf,'half life in yrs')"
   ]
   }
,
{
		   "cell_type": "markdown",
		   "metadata": {},
		   "source": [
			"## Example 11.5: CALCULATE_ACTIVITY.sce"
		   ]
		  },
  {
"cell_type": "code",
	   "execution_count": null,
	   "metadata": {
	    "collapsed": true
	   },
	   "outputs": [],
"source": [
"clc;clear;\n",
"//Example 11.5\n",
"\n",
"//given data\n",
"hf=2.48*10^5;//half life in yrs\n",
"k=8.88*10^-14//decay const in 1/s\n",
"Mo=4;//intial mass in mg\n",
"Na=6.02*10^23;//Avgraodo no. in 1/gm mole\n",
"\n",
"//calculations\n",
"kt=0.693/hf*62000;\n",
"M=Mo*(exp(-kt));\n",
"disp(M,'mass remain unchanged in mg');\n",
"N=M*10^-3*Na/234;\n",
"A=k*N;\n",
"disp(A,'Activity in disintegrations/second ')"
   ]
   }
,
{
		   "cell_type": "markdown",
		   "metadata": {},
		   "source": [
			"## Example 11.6: HALF_LIFE_OF_RADIUM_IS_1620_YRS.sce"
		   ]
		  },
  {
"cell_type": "code",
	   "execution_count": null,
	   "metadata": {
	    "collapsed": true
	   },
	   "outputs": [],
"source": [
"clc;clear;\n",
"//Example 11.6\n",
"\n",
"//given data\n",
"hf=1620;//half life in yrs\n",
"Mo=1/100;//mass in gm\n",
"\n",
"//calculations\n",
"k=0.693/hf;\n",
"M=(1-Mo);\n",
"t=log(1/M)/k;\n",
"disp(t,'time reqd for (i) in yrs');\n",
"M=Mo;\n",
"t=log(1/M)/k;\n",
"disp(t,'time reqd for (ii) in yrs')"
   ]
   }
],
"metadata": {
		  "kernelspec": {
		   "display_name": "Scilab",
		   "language": "scilab",
		   "name": "scilab"
		  },
		  "language_info": {
		   "file_extension": ".sce",
		   "help_links": [
			{
			 "text": "MetaKernel Magics",
			 "url": "https://github.com/calysto/metakernel/blob/master/metakernel/magics/README.md"
			}
		   ],
		   "mimetype": "text/x-octave",
		   "name": "scilab",
		   "version": "0.7.1"
		  }
		 },
		 "nbformat": 4,
		 "nbformat_minor": 0
}
