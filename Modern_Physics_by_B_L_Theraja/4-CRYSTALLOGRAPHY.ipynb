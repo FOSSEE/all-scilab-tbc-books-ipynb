{
"cells": [
 {
		   "cell_type": "markdown",
	   "metadata": {},
	   "source": [
       "# Chapter 4: CRYSTALLOGRAPHY"
	   ]
	},
{
		   "cell_type": "markdown",
		   "metadata": {},
		   "source": [
			"## Example 4.10: CALCULATION_OF_INTERPLANAR_SPACING.sce"
		   ]
		  },
  {
"cell_type": "code",
	   "execution_count": null,
	   "metadata": {
	    "collapsed": true
	   },
	   "outputs": [],
"source": [
"clc;clear;\n",
"//Example 4.10\n",
"\n",
"//given data\n",
"r=1.746;//atomic radius in angstrom\n",
"\n",
"//calulations\n",
"a=4*r/sqrt(2);\n",
"//for (i)\n",
"h=2;k=0;l=0;\n",
"d=a/sqrt(h^2+k^2+l^2);\n",
"disp(d,'distace for (200) in A.U');\n",
"//for (ii)\n",
"h=2;k=2;l=0;\n",
"d=a/sqrt(h^2+k^2+l^2);\n",
"disp(d,'distace for (220) in A.U ')\n",
"//for (iii)\n",
"h=1;k=1;l=1;\n",
"d=a/sqrt(h^2+k^2+l^2);\n",
"disp(d,'distace for (111) in A.U')"
   ]
   }
,
{
		   "cell_type": "markdown",
		   "metadata": {},
		   "source": [
			"## Example 4.11: CALCULATION_OF_ANGLE_BETWEEN_PAIR_OF_PLANES.sce"
		   ]
		  },
  {
"cell_type": "code",
	   "execution_count": null,
	   "metadata": {
	    "collapsed": true
	   },
	   "outputs": [],
"source": [
"clc;clear;\n",
"//Example 4.11\n",
"\n",
"//calculations\n",
"//for (i)\n",
"l=1;m=0;n=0;\n",
"p=0;q=1;r=0;\n",
"d=acosd((l*p+m*q+n*r)/(sqrt(l^2+m^2+n^2)*sqrt(p^2+q^2+r^2)));\n",
"disp(d,'angle b/w pair of miller incdices in (i)');\n",
"//for (ii)\n",
"l=1;m=2;n=1;\n",
"p=1;q=1;r=1;\n",
"d=acosd((l*p+m*q+n*r)/(sqrt(l^2+m^2+n^2)*sqrt(p^2+q^2+r^2)));\n",
"disp(d,'angle b/w pair of miller incdices in (ii)')"
   ]
   }
,
{
		   "cell_type": "markdown",
		   "metadata": {},
		   "source": [
			"## Example 4.13: CALCUALTION_OF_NO_OF_ATOMS_PER_SQMM.sce"
		   ]
		  },
  {
"cell_type": "code",
	   "execution_count": null,
	   "metadata": {
	    "collapsed": true
	   },
	   "outputs": [],
"source": [
"clc;clear;\n",
"//Example 4.13\n",
"\n",
"//given data\n",
"a=3.61*10^-7;//lattice constant in mm\n",
"\n",
"//calcualtions\n",
"//for (i) plane (100)\n",
"SA=a*a;\n",
"tamc=2;//total atoms included according to sketch\n",
"ans=tamc/SA;\n",
"disp(ans,'atoms per mm^2 for (i)');\n",
"//for (ii) plane (110)\n",
"A=a*(sqrt(2)*a);\n",
"tamc=2;//total atoms included according to sketch\n",
"ans=tamc/A;\n",
"disp(ans,'atoms per mm^2 for (ii)');\n",
"//for (iii) plane (111)\n",
"A=0.866*a*a;\n",
"tamc=2;//total atoms included according to sketch\n",
"ans=tamc/A;\n",
"disp(ans,'atoms per mm^2 for (iii)')"
   ]
   }
,
{
		   "cell_type": "markdown",
		   "metadata": {},
		   "source": [
			"## Example 4.2: CALCULATE_DISTANCE_BETWEEN_ADJACENT_ATOMS.sce"
		   ]
		  },
  {
"cell_type": "code",
	   "execution_count": null,
	   "metadata": {
	    "collapsed": true
	   },
	   "outputs": [],
"source": [
"clc;clear;\n",
"//Example 4.2\n",
"\n",
"//given data\n",
"d=2180;//density of NaCl\n",
"M=23.5+35.5;//Molecular weight\n",
"Na=6.02*10^26;//Avgraodo no. in 1/kg mole\n",
"n=4;//for f.c.c\n",
"\n",
"//calculations\n",
"a=(n*M/(Na*d))^(1/3);\n",
"d=a/2;\n",
"disp((d*10^10),'distance between to adajcent atoms in angstrom')"
   ]
   }
,
{
		   "cell_type": "markdown",
		   "metadata": {},
		   "source": [
			"## Example 4.3: CALCULATE_SPACING.sce"
		   ]
		  },
  {
"cell_type": "code",
	   "execution_count": null,
	   "metadata": {
	    "collapsed": true
	   },
	   "outputs": [],
"source": [
"clc;clear;\n",
"//Example 4.3\n",
"\n",
"//given data\n",
"d=2.163;//density in gm/cm^3\n",
"M=58.45;\n",
"Na=6.02*10^23;//Avgraodo no. in 1/gm mole\n",
"\n",
"//calcualtions\n",
"n=Na/M;//no. of molecules/gram\n",
"n=n*d;//no. of molecules/cm^3 \n",
"n=2*n;//no. of atom/cm^3;\n",
"n=n^(1/3);//no. of atoms in a row 1cm long\n",
"d1=1/n;\n",
"disp((d1*10^8),'Spacing in angstrom')"
   ]
   }
,
{
		   "cell_type": "markdown",
		   "metadata": {},
		   "source": [
			"## Example 4.4: CALCULATE_DENSITY_OF_Cu.sce"
		   ]
		  },
  {
"cell_type": "code",
	   "execution_count": null,
	   "metadata": {
	    "collapsed": true
	   },
	   "outputs": [],
"source": [
"clc;clear;\n",
"//Example 4.4\n",
"\n",
"//given data\n",
"r=1.278;//radius in A.U\n",
"n=4;//structure is f.c.c\n",
"M=63.54;\n",
"Na=6.02*10^23;//Avgraodo no. in 1/gm mole\n",
"\n",
"//calculations\n",
"a=4*r/(sqrt(2));\n",
"V=a^3;\n",
"d=n*M/(Na*V);\n",
"disp((d*(10^8)^3),'Density in g/cm^3')"
   ]
   }
],
"metadata": {
		  "kernelspec": {
		   "display_name": "Scilab",
		   "language": "scilab",
		   "name": "scilab"
		  },
		  "language_info": {
		   "file_extension": ".sce",
		   "help_links": [
			{
			 "text": "MetaKernel Magics",
			 "url": "https://github.com/calysto/metakernel/blob/master/metakernel/magics/README.md"
			}
		   ],
		   "mimetype": "text/x-octave",
		   "name": "scilab",
		   "version": "0.7.1"
		  }
		 },
		 "nbformat": 4,
		 "nbformat_minor": 0
}
