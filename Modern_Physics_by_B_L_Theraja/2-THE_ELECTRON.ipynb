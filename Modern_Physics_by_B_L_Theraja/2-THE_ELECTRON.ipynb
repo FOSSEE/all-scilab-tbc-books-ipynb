{
"cells": [
 {
		   "cell_type": "markdown",
	   "metadata": {},
	   "source": [
       "# Chapter 2: THE ELECTRON"
	   ]
	},
{
		   "cell_type": "markdown",
		   "metadata": {},
		   "source": [
			"## Example 2.1: CALCULATE_FORCE_ACCELERATION_AND_KINETIC_ENERGY.sce"
		   ]
		  },
  {
"cell_type": "code",
	   "execution_count": null,
	   "metadata": {
	    "collapsed": true
	   },
	   "outputs": [],
"source": [
"clc;clear;\n",
"//Example 2.1\n",
"\n",
"//given values\n",
"E=2400;//electric field intensity in V/m\n",
"V=90;//potential difference in V\n",
"e=1.6*10^-19;//the charge on electron in C\n",
"m=9.12*10^-31;//mass of electron in kg\n",
"\n",
"//Calculation\n",
"F=e*E;\n",
"disp(F,'The force(in N) on electron is');\n",
"a=F/m;\n",
"disp(a,'Its acceleration (in m/s^2)');\n",
"KE=e*V;\n",
"disp(KE,'The Kinetic Energy(in J) of particle is');\n",
"v=sqrt(2*KE/m);\n",
"disp(v,'The velocity(in m/s) of the electron')"
   ]
   }
,
{
		   "cell_type": "markdown",
		   "metadata": {},
		   "source": [
			"## Example 2.2: CALCULATE_LINEAR_VELOCITY_AND_RADIUS.sce"
		   ]
		  },
  {
"cell_type": "code",
	   "execution_count": null,
	   "metadata": {
	    "collapsed": true
	   },
	   "outputs": [],
"source": [
"clc;clear;\n",
"//Example 2.2\n",
"\n",
"//given values\n",
"V=900;//potential difference in V\n",
"B=0.01;//uniform magnetic field in Wb/m^2\n",
"em=1.76*10^11;//value of e/m in C/kg\n",
"\n",
"//calculation\n",
"v=sqrt(2*em*V);\n",
"disp(v,'The linear velocity(in m/s) of electron is');\n",
"R=v/(em*B);\n",
"disp(R,'The radius(in m) of the circular path is')"
   ]
   }
,
{
		   "cell_type": "markdown",
		   "metadata": {},
		   "source": [
			"## Example 2.3: CALCULATE_MASS.sce"
		   ]
		  },
  {
"cell_type": "code",
	   "execution_count": null,
	   "metadata": {
	    "collapsed": true
	   },
	   "outputs": [],
"source": [
"clc;clear;\n",
"//Example 2.3\n",
"\n",
"//given values\n",
"d=6*10^-3;//distance between plates in m\n",
"V=900;//potential difference in V\n",
"B=0.5;//uniform magnetic field in Wb/m^2\n",
"Q=1.6*10^-19;//the charge on electron in C\n",
"R=10.6*10^-2;//circular track radius in m\n",
"\n",
"//calculation\n",
"v=V/(B*d);\n",
"m=R*Q*B/v;\n",
"disp(m,'The mass(in kg) of particle')"
   ]
   }
,
{
		   "cell_type": "markdown",
		   "metadata": {},
		   "source": [
			"## Example 2.4: CALCULATE_RADIUS_AND_CHARGE_ON_OIL_DROP.sce"
		   ]
		  },
  {
"cell_type": "code",
	   "execution_count": null,
	   "metadata": {
	    "collapsed": true
	   },
	   "outputs": [],
"source": [
"clc;clear;\n",
"//Example 2.4\n",
"\n",
"//given values\n",
"V=6920;//potential difference in V\n",
"d=1.3*10^-3;//distance between in m\n",
"v=1.9*10^-4;//velocity in m/s\n",
"p=0.9*10^3;//density of oil in kg/m^3\n",
"n=1.81*10^-5;//coefficient of viscosity in N-s/m^2\n",
"g=9.81;//accelaration due to gravity in m/s^2\n",
"pi=3.14;//standard constant\n",
"\n",
"//calculation\n",
"a=sqrt((9*n*v)/(2*g*p));\n",
"disp(a,'The radius(in m) of the drop is');\n",
"E=V/d;\n",
"Q=4*pi*(a^3)*p*g/(3*E);\n",
"disp(Q,'The value of charge(in C) on oil drop is')"
   ]
   }
],
"metadata": {
		  "kernelspec": {
		   "display_name": "Scilab",
		   "language": "scilab",
		   "name": "scilab"
		  },
		  "language_info": {
		   "file_extension": ".sce",
		   "help_links": [
			{
			 "text": "MetaKernel Magics",
			 "url": "https://github.com/calysto/metakernel/blob/master/metakernel/magics/README.md"
			}
		   ],
		   "mimetype": "text/x-octave",
		   "name": "scilab",
		   "version": "0.7.1"
		  }
		 },
		 "nbformat": 4,
		 "nbformat_minor": 0
}
