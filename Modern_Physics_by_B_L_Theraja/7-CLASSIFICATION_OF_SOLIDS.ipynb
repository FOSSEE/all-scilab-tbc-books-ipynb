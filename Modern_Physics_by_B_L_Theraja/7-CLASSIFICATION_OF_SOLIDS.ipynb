{
"cells": [
 {
		   "cell_type": "markdown",
	   "metadata": {},
	   "source": [
       "# Chapter 7: CLASSIFICATION OF SOLIDS"
	   ]
	},
{
		   "cell_type": "markdown",
		   "metadata": {},
		   "source": [
			"## Example 7.1: CALCULATE_ENERGY_GAP.sce"
		   ]
		  },
  {
"cell_type": "code",
	   "execution_count": null,
	   "metadata": {
	    "collapsed": true
	   },
	   "outputs": [],
"source": [
"clc;clear;\n",
"//Example 7.1\n",
"\n",
"//given data\n",
"W=11000;//wavelength in angrstrom\n",
"\n",
"//calcuations\n",
"Eg=W/12400;\n",
"disp(Eg,'Energy Gap in eV')"
   ]
   }
,
{
		   "cell_type": "markdown",
		   "metadata": {},
		   "source": [
			"## Example 7.2: FIND_MOBILITY_OF_ELECTRONS.sce"
		   ]
		  },
  {
"cell_type": "code",
	   "execution_count": null,
	   "metadata": {
	    "collapsed": true
	   },
	   "outputs": [],
"source": [
"clc;clear;\n",
"//Example 7.2\n",
"\n",
"//given data\n",
"p=1.7*10^-6;//resistivity in ohm-cm\n",
"d=8.96;//density in gm/cc\n",
"W=63.5;\n",
"Na=6.02*10^23;//Avgraodo no. in 1/g mole\n",
"e=1.6*10^-19;//the charge on electron in C\n",
"\n",
"//calcualtions\n",
"n=8.96*Na/W;\n",
"ue=1/(p*e*n);\n",
"disp(ue,'mobilty of electrons in cm^2/V-s');"
   ]
   }
,
{
		   "cell_type": "markdown",
		   "metadata": {},
		   "source": [
			"## Example 7.3: FIND_RESISTIVITY.sce"
		   ]
		  },
  {
"cell_type": "code",
	   "execution_count": null,
	   "metadata": {
	    "collapsed": true
	   },
	   "outputs": [],
"source": [
"clc;clear;\n",
"//Example 7.3\n",
"\n",
"//given data\n",
"d1=2.5*10^19;//density of charge carries in 1/m^3\n",
"d2=4.2*10^28;//density of germanium atoms\n",
"ue=0.36;//mobilty of electrons in m^2/V-s\n",
"Na=6.02*10^23;//Avgraodo no. in 1/g mole\n",
"e=1.6*10^-19;//the charge on electron in C\n",
"\n",
"//calcualtions\n",
"Nd=d2/10^6;\n",
"cn=Nd*e*ue;\n",
"pn=1/cn;\n",
"disp(pn,'resistivity of doped germanium in ohm-m')"
   ]
   }
,
{
		   "cell_type": "markdown",
		   "metadata": {},
		   "source": [
			"## Example 7.4: CALCULATE_WAVELENGTH.sce"
		   ]
		  },
  {
"cell_type": "code",
	   "execution_count": null,
	   "metadata": {
	    "collapsed": true
	   },
	   "outputs": [],
"source": [
"clc;clear;\n",
"//Example 7.4\n",
"\n",
"//given data\n",
"Eg=0.75;//energy gap in eV\n",
"\n",
"//calcualtions\n",
"W=12400/Eg;\n",
"disp(W,'wavelength in angstrom')"
   ]
   }
],
"metadata": {
		  "kernelspec": {
		   "display_name": "Scilab",
		   "language": "scilab",
		   "name": "scilab"
		  },
		  "language_info": {
		   "file_extension": ".sce",
		   "help_links": [
			{
			 "text": "MetaKernel Magics",
			 "url": "https://github.com/calysto/metakernel/blob/master/metakernel/magics/README.md"
			}
		   ],
		   "mimetype": "text/x-octave",
		   "name": "scilab",
		   "version": "0.7.1"
		  }
		 },
		 "nbformat": 4,
		 "nbformat_minor": 0
}
