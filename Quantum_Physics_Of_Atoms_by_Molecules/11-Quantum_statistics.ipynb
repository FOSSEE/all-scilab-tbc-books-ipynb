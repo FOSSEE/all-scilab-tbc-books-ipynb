{
"cells": [
 {
		   "cell_type": "markdown",
	   "metadata": {},
	   "source": [
       "# Chapter 11: Quantum statistics"
	   ]
	},
{
		   "cell_type": "markdown",
		   "metadata": {},
		   "source": [
			"## Example 11.3: Boltzan_factor.sce"
		   ]
		  },
  {
"cell_type": "code",
	   "execution_count": null,
	   "metadata": {
	    "collapsed": true
	   },
	   "outputs": [],
"source": [
"//Example 11.3, page 410\n",
"clc\n",
"h=6.6*10^-34//in J-s\n",
"v=1*10^7//per sec\n",
"K=1.4*10^-23//in J-K\n",
"T=300//in K\n",
"n=exp(-((h*v)/(K*T)))\n",
"printf('\n The Boltzan factor is  %e  Tesla',1-n)"
   ]
   }
,
{
		   "cell_type": "markdown",
		   "metadata": {},
		   "source": [
			"## Example 11.5: Fermi_energy.sce"
		   ]
		  },
  {
"cell_type": "code",
	   "execution_count": null,
	   "metadata": {
	    "collapsed": true
	   },
	   "outputs": [],
"source": [
"//Example 11.3, page 424\n",
"clc\n",
"disp('Part a')\n",
"A=108//in g/mole\n",
"M=10.5//in g/cm3\n",
"D=6.02*10^23//in atom/mole\n",
"n=(D*M)/A\n",
"h=6.6*10^-34\n",
"printf('\n The fermi energy is  %e electron/cm^3',n)\n",
"m=9.1*10^-31//in kg\n",
"n=5.9*10^28//per m^2\n",
"x=((3*n)/(%pi))^(2/3)\n",
"Ef=(h^2/(8*m))*x\n",
"printf('\n The energy is  %e J',Ef)\n",
"disp('part b')\n",
"K=1.38*10^-23//in J-K\n",
"T=300//in K\n",
"z=(n*h^3)/(2*%pi*m*K*T)^(3/2)\n",
"printf('\n The degeneracy term is  %e ',z)\n",
"//Anser difference is because of round off"
   ]
   }
],
"metadata": {
		  "kernelspec": {
		   "display_name": "Scilab",
		   "language": "scilab",
		   "name": "scilab"
		  },
		  "language_info": {
		   "file_extension": ".sce",
		   "help_links": [
			{
			 "text": "MetaKernel Magics",
			 "url": "https://github.com/calysto/metakernel/blob/master/metakernel/magics/README.md"
			}
		   ],
		   "mimetype": "text/x-octave",
		   "name": "scilab",
		   "version": "0.7.1"
		  }
		 },
		 "nbformat": 4,
		 "nbformat_minor": 0
}
