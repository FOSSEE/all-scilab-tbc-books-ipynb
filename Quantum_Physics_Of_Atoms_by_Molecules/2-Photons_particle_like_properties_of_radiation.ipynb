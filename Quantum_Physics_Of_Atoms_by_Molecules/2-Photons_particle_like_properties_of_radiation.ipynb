{
"cells": [
 {
		   "cell_type": "markdown",
	   "metadata": {},
	   "source": [
       "# Chapter 2: Photons particle like properties of radiation"
	   ]
	},
{
		   "cell_type": "markdown",
		   "metadata": {},
		   "source": [
			"## Example 2.1: Time_to_absorb_energy.sce"
		   ]
		  },
  {
"cell_type": "code",
	   "execution_count": null,
	   "metadata": {
	    "collapsed": true
	   },
	   "outputs": [],
"source": [
"//Example 2.1, page 47\n",
"clc\n",
"P=1//power in j/s\n",
"r=10^-10//Radius in m^2\n",
"R=(P*%pi*r^2)/(4*%pi)//Rate at which energy falls in J/sec\n",
"R_e=3.4*10^-19//in Joule, rate at energy removed\n",
"t=R_e/R\n",
"printf('\n Time required for energy to clear is %e sec',t)"
   ]
   }
,
{
		   "cell_type": "markdown",
		   "metadata": {},
		   "source": [
			"## Example 2.2: Work_function_for_sodium.sce"
		   ]
		  },
  {
"cell_type": "code",
	   "execution_count": null,
	   "metadata": {
	    "collapsed": true
	   },
	   "outputs": [],
"source": [
"//Example 2.2, page 49\n",
"clc\n",
"h=6.63*10^-34//Joule-sec\n",
"vo=5.6*10^14\n",
"w=h*vo\n",
"printf('\npower is %e per sec',w)\n",
"ev=(1/(1.6*10^-19))\n",
"wo=w*ev\n",
"printf('\nEnergy is %f ev',wo)"
   ]
   }
,
{
		   "cell_type": "markdown",
		   "metadata": {},
		   "source": [
			"## Example 2.3: Photons_striking_metal_plate.sce"
		   ]
		  },
  {
"cell_type": "code",
	   "execution_count": null,
	   "metadata": {
	    "collapsed": true
	   },
	   "outputs": [],
"source": [
"//Example 2.3, Page no 50\n",
"p=1//j/s\n",
"r=1//radius in m\n",
"h=6.63*10^-34//Joule-sec\n",
"c=3*10^8//m/sec\n",
"lambda=5.89*10^-7//m\n",
"R=p/(4*%pi*r^2)\n",
"E=(h*c)/lambda\n",
"Rate_R=R*(1/E)\n",
"printf('\nRate at which photons strike unit area of place %e photons/m^2-sec',Rate_R)"
   ]
   }
,
{
		   "cell_type": "markdown",
		   "metadata": {},
		   "source": [
			"## Example 2.4: X_ray_beam.sce"
		   ]
		  },
  {
"cell_type": "code",
	   "execution_count": null,
	   "metadata": {
	    "collapsed": true
	   },
	   "outputs": [],
"source": [
"//Example 2.4, page 57\n",
"clc\n",
"disp('Part a')\n",
"h=6.63*10^-34//Joule-sec\n",
"c=3*10^8//m/sec\n",
"m_o=9.11*10^-31//in kg\n",
"delta_h=(h*(1-cosd(90)))/(m_o*c)\n",
"printf('\n Compton shift is %e m',delta_h)\n",
"disp('Part b')\n",
"delta1=1*10^-10\n",
"K=(h*c*delta_h)/(delta1*(delta1+delta_h))\n",
"printf('\n X-ray beam is  %e Joule',K)\n",
"delta2=1.88*10^-12\n",
"K=(h*c*delta_h)/(delta2*(delta2+delta_h))\n",
"printf('\n X-ray beam is  %e Joule',K)\n",
"disp('Part c')\n",
"E1=(h*c)/delta1\n",
"E1_ev=(6.241509*10^18)*E1\n",
"printf('\n X-ray energy is  %f ev',E1_ev)\n",
"E2=(h*c)/delta2\n",
"E2_ev=(6.241509*10^18)*E2\n",
"printf('\n X-ray energy is  %f ev',E2_ev)\n",
"Per1=(100*.295*10^3)/E1_ev\n",
"Per2=(100*378*10^3)/E2_ev\n",
"printf('\n Energy lost in percentage  %f ',Per1)\n",
"printf('\n Energy lost in percentage  %f ',Per2)"
   ]
   }
,
{
		   "cell_type": "markdown",
		   "metadata": {},
		   "source": [
			"## Example 2.5: Determine_plancks_constant.sce"
		   ]
		  },
  {
"cell_type": "code",
	   "execution_count": null,
	   "metadata": {
	    "collapsed": true
	   },
	   "outputs": [],
"source": [
"//Example2.5, page 61\n",
"clc\n",
"e=1.6*10^-19//in coul\n",
"v=4*10^4//in V\n",
"lambda=3*10^-11//in m\n",
"c=3*10^8//m/sec\n",
"h=(e*v*lambda)/c\n",
"printf('\n Plancks constant is %e Joule-sec',h)"
   ]
   }
,
{
		   "cell_type": "markdown",
		   "metadata": {},
		   "source": [
			"## Example 2.6: Energy_and_wavelength.sce"
		   ]
		  },
  {
"cell_type": "code",
	   "execution_count": null,
	   "metadata": {
	    "collapsed": true
	   },
	   "outputs": [],
"source": [
"//example 2.6, page 62\n",
"clc\n",
"e=1.6*10^-19//in coul\n",
"B=2*10^-1//weber/m2\n",
"r=2.5*10^-2//in m\n",
"p=e*B*r\n",
"printf('\n Momentum of electron %e Kg-m/sec',p)\n",
"x=1.5//in Mev, ie c^2*p^2\n",
"y=.51//in Mev\n",
"E_minus=sqrt(x^2+y^2)\n",
"E=2*E_minus//h*v\n",
"h=6.63*10^-34//Joule-sec\n",
"c=3*10^8//m/sec\n",
"lambda=(h*c)/(10^6*E*1.6*10^-19)\n",
"printf('\n Photons wavelength is %e m',lambda)"
   ]
   }
],
"metadata": {
		  "kernelspec": {
		   "display_name": "Scilab",
		   "language": "scilab",
		   "name": "scilab"
		  },
		  "language_info": {
		   "file_extension": ".sce",
		   "help_links": [
			{
			 "text": "MetaKernel Magics",
			 "url": "https://github.com/calysto/metakernel/blob/master/metakernel/magics/README.md"
			}
		   ],
		   "mimetype": "text/x-octave",
		   "name": "scilab",
		   "version": "0.7.1"
		  }
		 },
		 "nbformat": 4,
		 "nbformat_minor": 0
}
