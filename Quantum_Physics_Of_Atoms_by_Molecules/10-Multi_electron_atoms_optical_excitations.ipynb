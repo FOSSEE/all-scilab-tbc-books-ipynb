{
"cells": [
 {
		   "cell_type": "markdown",
	   "metadata": {},
	   "source": [
       "# Chapter 10: Multi electron atoms optical excitations"
	   ]
	},
{
		   "cell_type": "markdown",
		   "metadata": {},
		   "source": [
			"## Example 10.1: Calculating_wavelength.sce"
		   ]
		  },
  {
"cell_type": "code",
	   "execution_count": null,
	   "metadata": {
	    "collapsed": true
	   },
	   "outputs": [],
"source": [
"//Example 10.1, page 370\n",
"clc\n",
"E3p=-3//in ev\n",
"E3s=-5.1//in ev\n",
"E=E3p-E3s\n",
"E_Joule=E*1.6*10^-19//in Joule\n",
"h=6.6*10^-34//in J-s\n",
"c=3*10^8//in m/s\n",
"disp('Part a')\n",
"lambda=(h*c)/E_Joule\n",
"printf('\n The wavelength is  %e  m',lambda)\n",
"//Part b\n",
"disp('Part b')\n",
"d_lambda=(h*c*E_Joule)/(E_Joule)^2\n",
"printf('\n The magnitude of seperation is  %e  m',d_lambda)\n",
"//Answer given in book for part b is wrong"
   ]
   }
,
{
		   "cell_type": "markdown",
		   "metadata": {},
		   "source": [
			"## Example 10.5: Displace_energy.sce"
		   ]
		  },
  {
"cell_type": "code",
	   "execution_count": null,
	   "metadata": {
	    "collapsed": true
	   },
	   "outputs": [],
"source": [
"//Example 10.5, page 386\n",
"clc\n",
"a=1*(1+1)\n",
"x=a+a-a\n",
"y=2*a\n",
"g=1+(x/y)\n",
"u=9.3*10^-24//amp-m2\n",
"B=1/10//in Tesla\n",
"delta_E=u*B*g\n",
"printf('\n The displace energy is  %e  ev',delta_E)"
   ]
   }
,
{
		   "cell_type": "markdown",
		   "metadata": {},
		   "source": [
			"## Example 10.6: Magnetic_energy.sce"
		   ]
		  },
  {
"cell_type": "code",
	   "execution_count": null,
	   "metadata": {
	    "collapsed": true
	   },
	   "outputs": [],
"source": [
"//Example 10.6, page 387\n",
"clc\n",
"h=6.6*10^-34//in J-s\n",
"v=1*10^10//per sec\n",
"ub=9.3*10^-24//in amp-m2\n",
"B=(h*v)/(2*ub)\n",
"printf('\n The Magentic energy is  %e  Tesla',B)"
   ]
   }
],
"metadata": {
		  "kernelspec": {
		   "display_name": "Scilab",
		   "language": "scilab",
		   "name": "scilab"
		  },
		  "language_info": {
		   "file_extension": ".sce",
		   "help_links": [
			{
			 "text": "MetaKernel Magics",
			 "url": "https://github.com/calysto/metakernel/blob/master/metakernel/magics/README.md"
			}
		   ],
		   "mimetype": "text/x-octave",
		   "name": "scilab",
		   "version": "0.7.1"
		  }
		 },
		 "nbformat": 4,
		 "nbformat_minor": 0
}
