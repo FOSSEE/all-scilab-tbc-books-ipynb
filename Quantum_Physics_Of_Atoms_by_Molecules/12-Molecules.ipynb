{
"cells": [
 {
		   "cell_type": "markdown",
	   "metadata": {},
	   "source": [
       "# Chapter 12: Molecules"
	   ]
	},
{
		   "cell_type": "markdown",
		   "metadata": {},
		   "source": [
			"## Example 12.1: Energy_calculation.sce"
		   ]
		  },
  {
"cell_type": "code",
	   "execution_count": null,
	   "metadata": {
	    "collapsed": true
	   },
	   "outputs": [],
"source": [
"//Example 12.1, page 435\n",
"clc\n",
"c=9*10^9\n",
"cm=1.6*10^-19\n",
"d=2.4*10^-10//in m\n",
"v=(c*cm*cm)/d\n",
"e=v/(1.6*10^-19)//in J\n",
"printf('\n The energy is  %e  ev',e)"
   ]
   }
,
{
		   "cell_type": "markdown",
		   "metadata": {},
		   "source": [
			"## Example 12.3: Calculation_of_energy_and_temperature.sce"
		   ]
		  },
  {
"cell_type": "code",
	   "execution_count": null,
	   "metadata": {
	    "collapsed": true
	   },
	   "outputs": [],
"source": [
"//Example 12.3, page 445\n",
"clc\n",
"h=6.63*10^-34//in J-s\n",
"I=(2*%pi)^2*2.66*10^-47//in kg-m2\n",
"m_H=1/(6.02*10^26)//in kg\n",
"E=(h^2)/I\n",
"printf('\n The energy is  %e  J',E)\n",
"s=.59*10^-19//in J\n",
"k=1.38*10^-23//in j/k\n",
"T=(s)/k\n",
"printf('\n The temperature is  %f  K',T)\n",
"//Answer diffrence is because of round off"
   ]
   }
],
"metadata": {
		  "kernelspec": {
		   "display_name": "Scilab",
		   "language": "scilab",
		   "name": "scilab"
		  },
		  "language_info": {
		   "file_extension": ".sce",
		   "help_links": [
			{
			 "text": "MetaKernel Magics",
			 "url": "https://github.com/calysto/metakernel/blob/master/metakernel/magics/README.md"
			}
		   ],
		   "mimetype": "text/x-octave",
		   "name": "scilab",
		   "version": "0.7.1"
		  }
		 },
		 "nbformat": 4,
		 "nbformat_minor": 0
}
