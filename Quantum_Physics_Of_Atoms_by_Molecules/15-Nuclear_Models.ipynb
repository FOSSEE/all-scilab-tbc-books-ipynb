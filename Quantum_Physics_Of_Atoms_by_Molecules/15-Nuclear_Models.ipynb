{
"cells": [
 {
		   "cell_type": "markdown",
	   "metadata": {},
	   "source": [
       "# Chapter 15: Nuclear Models"
	   ]
	},
{
		   "cell_type": "markdown",
		   "metadata": {},
		   "source": [
			"## Example 15.2: Calculating_wavelength_and_angle.sce"
		   ]
		  },
  {
"cell_type": "code",
	   "execution_count": null,
	   "metadata": {
	    "collapsed": true
	   },
	   "outputs": [],
"source": [
"//Example 15.2, Page 533\n",
"clc;\n",
"c=3*10^8//m/s\n",
"k=500//Mev\n",
"p=(k)/(c*6.2*10^12)\n",
"h=6.63*10^-34//in j-s\n",
"lambda=h/p\n",
"angle=0.53//in rad\n",
"r=lambda/angle\n",
"printf('\n The wavelength is  %e  m',lambda)\n",
"printf('\n The angle is  %e  m',r)"
   ]
   }
,
{
		   "cell_type": "markdown",
		   "metadata": {},
		   "source": [
			"## Example 15.4: Atomic_mass.sce"
		   ]
		  },
  {
"cell_type": "code",
	   "execution_count": null,
	   "metadata": {
	    "collapsed": true
	   },
	   "outputs": [],
"source": [
"//Example 15.4, Page 540\n",
"clc\n",
"kb=4.44//in Mev\n",
"ka=7.70//in Mev\n",
"mb=1\n",
"mB=17\n",
"ma=4\n",
"Q=(kb*(1+(mb/mB)))-(ka*(1-(ma/mB)))\n",
"disp('Part a')\n",
"printf('\n The value of Q is %f  Mev',Q)\n",
"c=3*10^8//m/s\n",
"m=Q/(931.5)\n",
"printf('\n The atomic mass of Q is %e  u',m)"
   ]
   }
,
{
		   "cell_type": "markdown",
		   "metadata": {},
		   "source": [
			"## Example 15.5: Binding_energy.sce"
		   ]
		  },
  {
"cell_type": "code",
	   "execution_count": null,
	   "metadata": {
	    "collapsed": true
	   },
	   "outputs": [],
"source": [
"//Example 15.5, Page 541\n",
"clc\n",
"M_He=4.0026033//*u, Mass of helium\n",
"M1H1=1.00782525//*u, electron mass\n",
"Mon1=1.0086654//*u, neutron mass\n",
"Mass=(2*M1H1)+(2*Mon1)\n",
"delta_M=(Mass)-M_He\n",
"printf('\n The binding energy of helium is  %f  *u',delta_M)"
   ]
   }
,
{
		   "cell_type": "markdown",
		   "metadata": {},
		   "source": [
			"## Example 15.7: Blank.sce"
		   ]
		  },
  {
"cell_type": "code",
	   "execution_count": null,
	   "metadata": {
	    "collapsed": true
	   },
	   "outputs": [],
"source": [
"//Example 15.7, page 547"
   ]
   }
,
{
		   "cell_type": "markdown",
		   "metadata": {},
		   "source": [
			"## Example 15.8: Density_and_potential.sce"
		   ]
		  },
  {
"cell_type": "code",
	   "execution_count": null,
	   "metadata": {
	    "collapsed": true
	   },
	   "outputs": [],
"source": [
"//Example 15.8, page 550\n",
"clc\n",
"N=0.60\n",
"rho=(N)/((4/3))\n",
"printf('\n The density is  %f  /pi*a^3',rho)\n",
"h=6.63*10^-34//in j-s\n",
"a=1.1//F\n",
"M=1\n",
"ef=43//in Mev\n",
"En=7//in Mev\n",
"Vo=ef+En\n",
"printf('\n The depth of the net nuclear potential acting on neutron \n is %d Mev', Vo)"
   ]
   }
],
"metadata": {
		  "kernelspec": {
		   "display_name": "Scilab",
		   "language": "scilab",
		   "name": "scilab"
		  },
		  "language_info": {
		   "file_extension": ".sce",
		   "help_links": [
			{
			 "text": "MetaKernel Magics",
			 "url": "https://github.com/calysto/metakernel/blob/master/metakernel/magics/README.md"
			}
		   ],
		   "mimetype": "text/x-octave",
		   "name": "scilab",
		   "version": "0.7.1"
		  }
		 },
		 "nbformat": 4,
		 "nbformat_minor": 0
}
