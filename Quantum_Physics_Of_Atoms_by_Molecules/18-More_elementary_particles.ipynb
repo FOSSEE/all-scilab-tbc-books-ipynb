{
"cells": [
 {
		   "cell_type": "markdown",
	   "metadata": {},
	   "source": [
       "# Chapter 18: More elementary particles"
	   ]
	},
{
		   "cell_type": "markdown",
		   "metadata": {},
		   "source": [
			"## Example 18.2: Variable_values.sce"
		   ]
		  },
  {
"cell_type": "code",
	   "execution_count": null,
	   "metadata": {
	    "collapsed": true
	   },
	   "outputs": [],
"source": [
"//Example 18.2, Page 694\n",
"clc\n",
"Q=(2/3)-(1/3)-(1/3)\n",
"B=(1/3)+(1/3)+(1/3)\n",
"S=0+0-1\n",
"T=(1/2)+(1/2)+0\n",
"Tz=(1/2)-(1/2)+0\n",
"printf('The value of Q is %f \n',Q)\n",
"printf('The value of B is %f \n',B)\n",
"printf('The value of S is %f \n',S)\n",
"printf('The value of T is %f \n',T)\n",
"printf('The value of Tz is %f \n',Tz)"
   ]
   }
],
"metadata": {
		  "kernelspec": {
		   "display_name": "Scilab",
		   "language": "scilab",
		   "name": "scilab"
		  },
		  "language_info": {
		   "file_extension": ".sce",
		   "help_links": [
			{
			 "text": "MetaKernel Magics",
			 "url": "https://github.com/calysto/metakernel/blob/master/metakernel/magics/README.md"
			}
		   ],
		   "mimetype": "text/x-octave",
		   "name": "scilab",
		   "version": "0.7.1"
		  }
		 },
		 "nbformat": 4,
		 "nbformat_minor": 0
}
