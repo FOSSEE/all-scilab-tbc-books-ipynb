{
"cells": [
 {
		   "cell_type": "markdown",
	   "metadata": {},
	   "source": [
       "# Chapter 16: Nuclear decay and nuclear reactions"
	   ]
	},
{
		   "cell_type": "markdown",
		   "metadata": {},
		   "source": [
			"## Example 16.10: Events_detected.sce"
		   ]
		  },
  {
"cell_type": "code",
	   "execution_count": null,
	   "metadata": {
	    "collapsed": true
	   },
	   "outputs": [],
"source": [
"//Example 16.8, page 615\n",
"clc\n",
"n=(1/10)/(54*1.66*10^-27)\n",
"d_ohm=10^-5/(10^-1)**2\n",
"d_zigma=(1.3*10^-3)*10^-31//m2/nucleus\n",
"P=d_zigma*n\n",
"//disp(P)\n",
"I=(10^-7)/(1.6*10^-19)\n",
"//disp(I)\n",
"dN=I*P\n",
"printf('\n The number of events detected per sec is s %d',dN)\n",
"//The answer differnce is because of round off"
   ]
   }
,
{
		   "cell_type": "markdown",
		   "metadata": {},
		   "source": [
			"## Example 16.11: Free_electro.sce"
		   ]
		  },
  {
"cell_type": "code",
	   "execution_count": null,
	   "metadata": {
	    "collapsed": true
	   },
	   "outputs": [],
"source": [
"//Example 16.11, page 624\n",
"clc\n",
"E=200*1.6*10^-13//j/neutron\n",
"E=10^-11//Rounding off\n",
"p=E/(10^-3)\n",
"P=10^8//in watt\n",
"N=P/p\n",
"printf('\n The number of free electron present is %e',N)"
   ]
   }
,
{
		   "cell_type": "markdown",
		   "metadata": {},
		   "source": [
			"## Example 16.1: Total_energy.sce"
		   ]
		  },
  {
"cell_type": "code",
	   "execution_count": null,
	   "metadata": {
	    "collapsed": true
	   },
	   "outputs": [],
"source": [
"//Example 16.1, page 575\n",
"clc\n",
"r=(4**(1/3)+208**(1/3))*1.07\n",
"printf('\n The sum of radii is  %f  F',r)\n",
"e=1.60*10^-19//in coul\n",
"z=82\n",
"x=1.1*10^-10//coul2/nt-m2\n",
"Vo=(2*z*e*e)/(x*r*10^-15)\n",
"printf('\n The total energy is  %e  J',Vo)"
   ]
   }
,
{
		   "cell_type": "markdown",
		   "metadata": {},
		   "source": [
			"## Example 16.2: Elapsed_time.sce"
		   ]
		  },
  {
"cell_type": "code",
	   "execution_count": null,
	   "metadata": {
	    "collapsed": true
	   },
	   "outputs": [],
"source": [
"//Example 6.2, Page 579\n",
"clc\n",
"x=log(exp(.827))\n",
"t=(log(143))/x\n",
"printf('\n The elapsed time is  %f *10^9  year',t)"
   ]
   }
,
{
		   "cell_type": "markdown",
		   "metadata": {},
		   "source": [
			"## Example 16.4: Life_time.sce"
		   ]
		  },
  {
"cell_type": "code",
	   "execution_count": null,
	   "metadata": {
	    "collapsed": true
	   },
	   "outputs": [],
"source": [
"//Example 16.4, Page 589\n",
"clc\n",
"// Using formula logb(m)=n\n",
"//n=b^n\n",
"F=10^(-5.7)\n",
"Y=12.3 //yr\n",
"d=365//day/yr\n",
"h=24//hr/day\n",
"m=60//min/hr\n",
"s=60//sec/min\n",
"T=(Y*d*h*m*s)/0.693\n",
"printf('\n The life time is  %e  s',T)"
   ]
   }
,
{
		   "cell_type": "markdown",
		   "metadata": {},
		   "source": [
			"## Example 16.5: Value_of_beta.sce"
		   ]
		  },
  {
"cell_type": "code",
	   "execution_count": null,
	   "metadata": {
	    "collapsed": true
	   },
	   "outputs": [],
"source": [
"//Example 16.5, Page 591\n",
"clc\n",
"h=1.05*10^-34//j-s\n",
"F=1.2\n",
"T=10^3//in s\n",
"m=.91*10^-30//in kg\n",
"c=3*10^8//in m/s\n",
"M=1\n",
"beta_square=(2*%pi*%pi*%pi*(h^7))/(F*T*(m^5)*(c^4))\n",
"beta=sqrt(beta_square)\n",
"printf('\n The value of Beta is %e  J^2*m^6',beta)"
   ]
   }
,
{
		   "cell_type": "markdown",
		   "metadata": {},
		   "source": [
			"## Example 16.7: Value_of_delta_and_tou.sce"
		   ]
		  },
  {
"cell_type": "code",
	   "execution_count": null,
	   "metadata": {
	    "collapsed": true
	   },
	   "outputs": [],
"source": [
"//Example 16.7, Page no 603\n",
"clc\n",
"E=0.129//in Mev\n",
"x=931//uc^2\n",
"Del_E=(E)**2/(2*x*191)\n",
"printf('\n The value of delta E is %e  ev',Del_E*10**6)\n",
"h=6.6*10^-16//ev-sec\n",
"T=1.4*10^-10//sec\n",
"Tou=h/T\n",
"printf('\n The value of Tou is %e  ev',Tou)"
   ]
   }
,
{
		   "cell_type": "markdown",
		   "metadata": {},
		   "source": [
			"## Example 16.9: Neutron_produced.sce"
		   ]
		  },
  {
"cell_type": "code",
	   "execution_count": null,
	   "metadata": {
	    "collapsed": true
	   },
	   "outputs": [],
"source": [
"//Example 16.9, page 607\n",
"clc\n",
"Z=0+1+4\n",
"A=1+9-1\n",
"printf('\n The value of z is %d',Z)\n",
"printf('\n The value of A is %d',A)\n",
"ka=50\n",
"kb=48.1\n",
"mB=1\n",
"ma=1/9\n",
"mb=1/9\n",
"x=1/9//ma/mB\n",
"y=1/9//mb/mB\n",
"part1=kb*(1+x)\n",
"part2=ka*(1-y)\n",
"part3=(2*sqrt(ka*kb*ma*mb))\n",
"Q=part1-part2-part3\n",
"printf('\n The value of Q is %f Mev',Q)\n",
"sq_kb_plus=(1.36+sqrt(1.36**2+(4*1.11*42.5)))/(2*1.11)\n",
"sq_kb_minus=(1.36-sqrt(1.36**2+(4*1.11*42.5)))/(2*1.11)\n",
"kb_plus=(sq_kb_plus)**2\n",
"kb_minus=(sq_kb_minus)**2\n",
"printf('\n The maximum neutron produced at angle 30 degree is %f Mev',kb_plus)"
   ]
   }
],
"metadata": {
		  "kernelspec": {
		   "display_name": "Scilab",
		   "language": "scilab",
		   "name": "scilab"
		  },
		  "language_info": {
		   "file_extension": ".sce",
		   "help_links": [
			{
			 "text": "MetaKernel Magics",
			 "url": "https://github.com/calysto/metakernel/blob/master/metakernel/magics/README.md"
			}
		   ],
		   "mimetype": "text/x-octave",
		   "name": "scilab",
		   "version": "0.7.1"
		  }
		 },
		 "nbformat": 4,
		 "nbformat_minor": 0
}
