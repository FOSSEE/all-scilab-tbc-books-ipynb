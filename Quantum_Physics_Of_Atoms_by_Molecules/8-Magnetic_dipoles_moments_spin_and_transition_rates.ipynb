{
"cells": [
 {
		   "cell_type": "markdown",
	   "metadata": {},
	   "source": [
       "# Chapter 8: Magnetic dipoles moments spin and transition rates"
	   ]
	},
{
		   "cell_type": "markdown",
		   "metadata": {},
		   "source": [
			"## Example 8.1: Energy_supplied.sce"
		   ]
		  },
  {
"cell_type": "code",
	   "execution_count": null,
	   "metadata": {
	    "collapsed": true
	   },
	   "outputs": [],
"source": [
"//Example 8.1, page 287\n",
"clc\n",
"u=0.927*10^-23//amp-m2\n",
"B=1//in J/amp-m2\n",
"E=2*u*B\n",
"printf('\n Energy supplied to the dipole  is %e  J ',E)"
   ]
   }
,
{
		   "cell_type": "markdown",
		   "metadata": {},
		   "source": [
			"## Example 8.2: Transverse_deflection.sce"
		   ]
		  },
  {
"cell_type": "code",
	   "execution_count": null,
	   "metadata": {
	    "collapsed": true
	   },
	   "outputs": [],
"source": [
"//Example 8.2, page 293\n",
"//From previous derivation of formula\n",
"clc\n",
"delb_by_delz=10//tesla/m\n",
"u=0.927*10^-23//amp-m2\n",
"x=1///in m\n",
"k=1.38*10^-23//j/k\n",
"T=400//in K\n",
"Z=(delb_by_delz*u*x^2)/(8*k*T)\n",
"printf('\n Transverse deflection that occur  is + %e m or - %e m ',Z,Z)"
   ]
   }
,
{
		   "cell_type": "markdown",
		   "metadata": {},
		   "source": [
			"## Example 8.3: Energy_deflection.sce"
		   ]
		  },
  {
"cell_type": "code",
	   "execution_count": null,
	   "metadata": {
	    "collapsed": true
	   },
	   "outputs": [],
"source": [
"//Example 8.3, page 298\n",
"clc\n",
"m=9*10^-31//in kg\n",
"e=1.6*10^-19//in coul\n",
"c=3*10^8//in m/s2\n",
"four_pi_epsilon=1.1*10^-34//in j-sec\n",
"constant=9*10^9//nt-n2/coul2\n",
"delta_E=(constant^4*m*e^8)/(54*c*c*(four_pi_epsilon)^4)\n",
"printf('\n The energy deflection is %e Joule',delta_E)\n",
"//Answer given in the book is wrong"
   ]
   }
,
{
		   "cell_type": "markdown",
		   "metadata": {},
		   "source": [
			"## Example 8.4: Deflectio.sce"
		   ]
		  },
  {
"cell_type": "code",
	   "execution_count": null,
	   "metadata": {
	    "collapsed": true
	   },
	   "outputs": [],
"source": [
"//Example 8.4, page  299\n",
"clc\n",
"u_s=10^-23//amp-m2\n",
"u_b=10^-23//amp-m2\n",
"B=u_s/u_b\n",
"printf('\n The deflection is  %d  Tesla ',B)"
   ]
   }
],
"metadata": {
		  "kernelspec": {
		   "display_name": "Scilab",
		   "language": "scilab",
		   "name": "scilab"
		  },
		  "language_info": {
		   "file_extension": ".sce",
		   "help_links": [
			{
			 "text": "MetaKernel Magics",
			 "url": "https://github.com/calysto/metakernel/blob/master/metakernel/magics/README.md"
			}
		   ],
		   "mimetype": "text/x-octave",
		   "name": "scilab",
		   "version": "0.7.1"
		  }
		 },
		 "nbformat": 4,
		 "nbformat_minor": 0
}
