{
"cells": [
 {
		   "cell_type": "markdown",
	   "metadata": {},
	   "source": [
       "# Chapter 14: Solids super conductors and magnetic properties"
	   ]
	},
{
		   "cell_type": "markdown",
		   "metadata": {},
		   "source": [
			"## Example 14.1: Calculating_wavelength_and_gap_energy.sce"
		   ]
		  },
  {
"cell_type": "code",
	   "execution_count": null,
	   "metadata": {
	    "collapsed": true
	   },
	   "outputs": [],
"source": [
"//Example 14.1, page 507\n",
"clc\n",
"disp('Part a')\n",
"k=1.4*10^-23//in J/K\n",
"Te=4.2//in K\n",
"eg=3*k*Te\n",
"printf('\n The gap energy is  %e  J',eg)\n",
"h=6.63*10^-34//in j-s\n",
"c=3*10^8//m/s\n",
"disp('Part b')\n",
"lambda=(h*c)/eg\n",
"printf('\n The wavelength is  %e  m',lambda)"
   ]
   }
,
{
		   "cell_type": "markdown",
		   "metadata": {},
		   "source": [
			"## Example 14.3: Unpaired_electrons.sce"
		   ]
		  },
  {
"cell_type": "code",
	   "execution_count": null,
	   "metadata": {
	    "collapsed": true
	   },
	   "outputs": [],
"source": [
"//Example 14.3, Page 514\n",
"clc\n",
"u=9.3*10^-24//in Tesla\n",
"B=1//in Tesla\n",
"Eb=u*B*6.24150934*10^18 \n",
"T=300//in K\n",
"k=8.6*10^-5//ev/k\n",
"x=k*T\n",
"s=(Eb/x)*100\n",
"disp('Part a')\n",
"printf('\n The percentage is  %f',s)\n",
"disp('Part b')\n",
"n=2.0*10^28///m3\n",
"k=1.38*10^-23//in J/k\n",
"uo=4*%pi*10^-7//T-m/amp\n",
"con=(uo*n*u*u)/(k*T)\n",
"printf('\n The number of unpaired electrons is  %e',con)"
   ]
   }
,
{
		   "cell_type": "markdown",
		   "metadata": {},
		   "source": [
			"## Example 14.4: Energy_and_wavelength.sce"
		   ]
		  },
  {
"cell_type": "code",
	   "execution_count": null,
	   "metadata": {
	    "collapsed": true
	   },
	   "outputs": [],
"source": [
"//Example 14.4, Page 516\n",
"clc\n",
"uo=4*%pi*10^-7//T-m/amp\n",
"u=2.2*9.3*10^-24//in Tesla\n",
"x=3*10^-10//in m\n",
"E=(uo*u*u)/(2*%pi*x**3)\n",
"printf('\n The Energy required  is  %e Joule',E)\n",
"k=1.38*10^-23//in J/k\n",
"T=E/k\n",
"printf('\n The temperature  is  %f K',T)"
   ]
   }
],
"metadata": {
		  "kernelspec": {
		   "display_name": "Scilab",
		   "language": "scilab",
		   "name": "scilab"
		  },
		  "language_info": {
		   "file_extension": ".sce",
		   "help_links": [
			{
			 "text": "MetaKernel Magics",
			 "url": "https://github.com/calysto/metakernel/blob/master/metakernel/magics/README.md"
			}
		   ],
		   "mimetype": "text/x-octave",
		   "name": "scilab",
		   "version": "0.7.1"
		  }
		 },
		 "nbformat": 4,
		 "nbformat_minor": 0
}
