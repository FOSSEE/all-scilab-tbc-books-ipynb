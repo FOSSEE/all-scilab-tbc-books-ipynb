{
"cells": [
 {
		   "cell_type": "markdown",
	   "metadata": {},
	   "source": [
       "# Chapter 17: Introduction to elementary particles"
	   ]
	},
{
		   "cell_type": "markdown",
		   "metadata": {},
		   "source": [
			"## Example 17.1: Kinetic_energy.sce"
		   ]
		  },
  {
"cell_type": "code",
	   "execution_count": null,
	   "metadata": {
	    "collapsed": true
	   },
	   "outputs": [],
"source": [
"//Example 17.1, Page 643\n",
"clc\n",
"h=1.05*10^-34//j-s\n",
"M=1.7*10^-27//in kg\n",
"r=2*10^-15//in m\n",
"K=(h**2)/(M*r*r)\n",
"s=K* 6.24150647996E+12//converting to Mev\n",
"K_total_cm=2*s\n",
"k_incident=2*K_total_cm\n",
"printf('\n The kinetic energy of incident nucleon is %d Mev',k_incident)"
   ]
   }
,
{
		   "cell_type": "markdown",
		   "metadata": {},
		   "source": [
			"## Example 17.3: value_of_pi.sce"
		   ]
		  },
  {
"cell_type": "code",
	   "execution_count": null,
	   "metadata": {
	    "collapsed": true
	   },
	   "outputs": [],
"source": [
"//Example 17.3, page 653\n",
"clc\n",
"h=1*10^-34//j-s\n",
"r=2*10^-15//m\n",
"c=3*10^8//m/s\n",
"m_pi=h/(r*c)\n",
"printf('The value of m pi is %e kg', m_pi)\n",
"//Answer difference is because of round off"
   ]
   }
,
{
		   "cell_type": "markdown",
		   "metadata": {},
		   "source": [
			"## Example 17.5: Value_of_K.sce"
		   ]
		  },
  {
"cell_type": "code",
	   "execution_count": null,
	   "metadata": {
	    "collapsed": true
	   },
	   "outputs": [],
"source": [
"//Example 17.5, page no 664\n",
"clc;\n",
"Tz=(1-1)/2\n",
"//For K+\n",
"Q=1\n",
"B=0\n",
"S=1\n",
"Tz=1-0.5\n",
"printf('The value of Tz for K+ is %f \n',Tz)\n",
"//For K-\n",
"Q=-1\n",
"B=0\n",
"S=-1\n",
"Tz=-1+0.5\n",
"printf('The value of Tz for K- is %f\n',Tz)\n",
"//For Ko\n",
"Q=0\n",
"B=0\n",
"S=1\n",
"Tz=-0-0.5\n",
"printf('The value of Tz for Ko is %f \n',Tz)\n",
"//For Ko_dash\n",
"Tz=0+0.5\n",
"printf('The value of Tz for Ko- is %f \n',Tz)"
   ]
   }
],
"metadata": {
		  "kernelspec": {
		   "display_name": "Scilab",
		   "language": "scilab",
		   "name": "scilab"
		  },
		  "language_info": {
		   "file_extension": ".sce",
		   "help_links": [
			{
			 "text": "MetaKernel Magics",
			 "url": "https://github.com/calysto/metakernel/blob/master/metakernel/magics/README.md"
			}
		   ],
		   "mimetype": "text/x-octave",
		   "name": "scilab",
		   "version": "0.7.1"
		  }
		 },
		 "nbformat": 4,
		 "nbformat_minor": 0
}
