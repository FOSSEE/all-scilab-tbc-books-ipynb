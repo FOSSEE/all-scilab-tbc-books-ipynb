{
"cells": [
 {
		   "cell_type": "markdown",
	   "metadata": {},
	   "source": [
       "# Chapter 1: Thermal Radiation and Plancks Postulate"
	   ]
	},
{
		   "cell_type": "markdown",
		   "metadata": {},
		   "source": [
			"## Example 1.1: Surface_temperature_calculatio.sce"
		   ]
		  },
  {
"cell_type": "code",
	   "execution_count": null,
	   "metadata": {
	    "collapsed": true
	   },
	   "outputs": [],
"source": [
"//Example 1.1, page 24\n",
"clear\n",
"//For sun\n",
"sigma=5.67*10^-8//w/m^2-k^4\n",
"T=5700//in K\n",
"ST_sun=sigma*T^4\n",
"printf('\n Surface temperature of sun is %e W/m^2.',ST_sun)\n",
"//For north star\n",
"T=8300//in K\n",
"ST_Northstar=sigma*T^4\n",
"printf('\n Surface temperature of sun is %e W/m^2.',ST_Northstar)"
   ]
   }
,
{
		   "cell_type": "markdown",
		   "metadata": {},
		   "source": [
			"## Example 1.6: Continious_or_dis_continious_energy.sce"
		   ]
		  },
  {
"cell_type": "code",
	   "execution_count": null,
	   "metadata": {
	    "collapsed": true
	   },
	   "outputs": [],
"source": [
"//Example 1.6, apge 39\n",
"clc\n",
"g=9.8//in m/s^2, constant\n",
"l=.1//in m\n",
"m=0.01//in kg\n",
"h=6.63*10^-34//Joule-sec\n",
"theta=0.1//in radians\n",
"v=(1/(2*%pi)*sqrt(g/l))\n",
"printf('\n Oscillation frequency of pendulam %f per sec.',v)\n",
"E=m*g*l*(1-cos(theta))\n",
"printf('\n Energy of pendulum at its maximum potential %e Joule.',E)\n",
"Delta_e=h*v\n",
"printf('\n Delta E %e Joule',Delta_e)"
   ]
   }
],
"metadata": {
		  "kernelspec": {
		   "display_name": "Scilab",
		   "language": "scilab",
		   "name": "scilab"
		  },
		  "language_info": {
		   "file_extension": ".sce",
		   "help_links": [
			{
			 "text": "MetaKernel Magics",
			 "url": "https://github.com/calysto/metakernel/blob/master/metakernel/magics/README.md"
			}
		   ],
		   "mimetype": "text/x-octave",
		   "name": "scilab",
		   "version": "0.7.1"
		  }
		 },
		 "nbformat": 4,
		 "nbformat_minor": 0
}
