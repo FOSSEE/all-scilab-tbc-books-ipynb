{
"cells": [
 {
		   "cell_type": "markdown",
	   "metadata": {},
	   "source": [
       "# Chapter 6: Solutions of time independent schroedinge equations"
	   ]
	},
{
		   "cell_type": "markdown",
		   "metadata": {},
		   "source": [
			"## Example 6.1: Kinetic_energy_and_penetration_distance.sce"
		   ]
		  },
  {
"cell_type": "code",
	   "execution_count": null,
	   "metadata": {
	    "collapsed": true
	   },
	   "outputs": [],
"source": [
"//Example 6.1, Page 208\n",
"clc\n",
"m=4*10^-14//in kg\n",
"v=10^-2//in m/s\n",
"KE=(0.5*m*v^2)\n",
"h=10^-34\n",
"printf('\n Kinetic energy(Vo-E) at %e Joule',KE)\n",
"delta_x=(h)/sqrt(2*m*KE)\n",
"printf('\n Value of penetration distance is  %e m ',delta_x)"
   ]
   }
,
{
		   "cell_type": "markdown",
		   "metadata": {},
		   "source": [
			"## Example 6.2: Penetration_distance.sce"
		   ]
		  },
  {
"cell_type": "code",
	   "execution_count": null,
	   "metadata": {
	    "collapsed": true
	   },
	   "outputs": [],
"source": [
"//Example 6.2, page 210\n",
"clc\n",
"//KE=4ev, convert to joule\n",
"KE=4*1.6*10^-19//in j\n",
"m=9*10^-31//in kg\n",
"h=10^-34//in j-s\n",
"delta_x=(h)/sqrt(2*m*KE)\n",
"printf('\n Value of penetration distance is  %e m ',delta_x)"
   ]
   }
,
{
		   "cell_type": "markdown",
		   "metadata": {},
		   "source": [
			"## Example 6.3: Probablity_of_neutron.sce"
		   ]
		  },
  {
"cell_type": "code",
	   "execution_count": null,
	   "metadata": {
	    "collapsed": true
	   },
	   "outputs": [],
"source": [
"//Example 6.3, page 216\n",
"clc\n",
"v=50//in Mev\n",
"E=55//in Mev\n",
"x=sqrt(1-(v/E))\n",
"//disp(x)\n",
"R=((1-x)/(1+x))^2\n",
"printf('\n Probablity of neutron will be reflected is  %f   ',R)"
   ]
   }
,
{
		   "cell_type": "markdown",
		   "metadata": {},
		   "source": [
			"## Example 6.4: Calculation_of_number.sce"
		   ]
		  },
  {
"cell_type": "code",
	   "execution_count": null,
	   "metadata": {
	    "collapsed": true
	   },
	   "outputs": [],
"source": [
"//Example 6.4, page 220\n",
"clc\n",
"m=9*10^-31//in kg\n",
"h=10^-34//in j-s\n",
"V=10//in ev\n",
"a=1.8*10^-10//in m\n",
"//convert v to joule\n",
"Vo=V*1.6*10^-19//in Joule\n",
"N=(2*m*Vo*a^2)/(h^2)\n",
"printf('\n Numbers given is  %d   ',N)"
   ]
   }
,
{
		   "cell_type": "markdown",
		   "metadata": {},
		   "source": [
			"## Example 6.6: Value_of_energy.sce"
		   ]
		  },
  {
"cell_type": "code",
	   "execution_count": null,
	   "metadata": {
	    "collapsed": true
	   },
	   "outputs": [],
"source": [
"//Example 6.6, page 237\n",
"clc\n",
"h=10^-34//in j-s\n",
"m=10^-30//in kg\n",
"a=10^-14//in m\n",
"c=3*10^8//in m/s\n",
"E=((%pi*h)^2)/(2*m*a*a)\n",
"printf('\n Energy is %e  J ',E)\n",
"//convert to ev\n",
"e=E/(1.6*10^-19)\n",
"printf('\n Energy is %e  ev ',e)\n",
"//Answer difference is due to round off\n",
"E1=(%pi*c*h)/a\n",
"printf('\n Zero level Energy is %e  J ',E1)\n",
"e1=E1/(1.6*10^-19)\n",
"printf('\n Zero level Energy is %e  ev ',e1)\n",
"//Answer difference is due to round off\n",
"//when A=100\n",
"A=100\n",
"r=10^-14//in m\n",
"x=10^-10//in coul2/nt-m2\n",
"ec=1.6*10^-19//in c\n",
"Q=(-(A*ec*ec)/(x*r))*(1/ec)\n",
"printf('\n Typical value Energy is %e  ev ',Q)"
   ]
   }
],
"metadata": {
		  "kernelspec": {
		   "display_name": "Scilab",
		   "language": "scilab",
		   "name": "scilab"
		  },
		  "language_info": {
		   "file_extension": ".sce",
		   "help_links": [
			{
			 "text": "MetaKernel Magics",
			 "url": "https://github.com/calysto/metakernel/blob/master/metakernel/magics/README.md"
			}
		   ],
		   "mimetype": "text/x-octave",
		   "name": "scilab",
		   "version": "0.7.1"
		  }
		 },
		 "nbformat": 4,
		 "nbformat_minor": 0
}
