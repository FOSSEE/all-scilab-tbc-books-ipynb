{
"cells": [
 {
		   "cell_type": "markdown",
	   "metadata": {},
	   "source": [
       "# Chapter 4: Bohrs Model of the Atom"
	   ]
	},
{
		   "cell_type": "markdown",
		   "metadata": {},
		   "source": [
			"## Example 4.10: Double_nucleus_mass_effect.sce"
		   ]
		  },
  {
"cell_type": "code",
	   "execution_count": null,
	   "metadata": {
	    "collapsed": true
	   },
	   "outputs": [],
"source": [
"//Example  4.10, Page 125\n",
"clc\n",
"//For Hydrogen atom\n",
"R_o=109737//in cm\n",
"m=1\n",
"M=1836\n",
"RH=(R_o)/(1+(m/M))\n",
"printf('\n Spectrum line for Hydrogen occur at %f /cm ',RH)\n",
"//For Deuterium atom\n",
"R_o=109737//in cm\n",
"m=1\n",
"M=2*1836\n",
"RD=(R_o)/(1+(m/M))\n",
"printf('\n Spectrum line for Deuterium occur at %f /cm ',RD)"
   ]
   }
,
{
		   "cell_type": "markdown",
		   "metadata": {},
		   "source": [
			"## Example 4.1: Calculating_wavelength.sce"
		   ]
		  },
  {
"cell_type": "code",
	   "execution_count": null,
	   "metadata": {
	    "collapsed": true
	   },
	   "outputs": [],
"source": [
"//Example 4.1, Page 105\n",
"clc\n",
"disp('Part b')\n",
"rho=9*10^9//in nt-m2/coul2\n",
"e=1.6*10^-19//coul\n",
"r=1*10^-10//in m\n",
"k=(rho*e^2)/(r^3)//nt/m\n",
"m=9.11*10^-31//in kg\n",
"c=3*10^8//in m/s\n",
"v=(1/(2*%pi))*sqrt(k/m)\n",
"lambda=c/v\n",
"printf('\n The wavelength is %e m ',lambda)"
   ]
   }
,
{
		   "cell_type": "markdown",
		   "metadata": {},
		   "source": [
			"## Example 4.2: Average_deflectio.sce"
		   ]
		  },
  {
"cell_type": "code",
	   "execution_count": null,
	   "metadata": {
	    "collapsed": true
	   },
	   "outputs": [],
"source": [
"//Example 4.2, page 107\n",
"clc\n",
"disp('Part a')\n",
"N=10^4//in rad, Number of atoms tarversed\n",
"theta=(2*10^-2)/sqrt(N)\n",
"printf('\n Average deflection %e rad ',theta)"
   ]
   }
,
{
		   "cell_type": "markdown",
		   "metadata": {},
		   "source": [
			"## Example 4.6: Binding_energy_of_hydrogen_atom.sce"
		   ]
		  },
  {
"cell_type": "code",
	   "execution_count": null,
	   "metadata": {
	    "collapsed": true
	   },
	   "outputs": [],
"source": [
"//Example 4.6, Page 120\n",
"clc\n",
"rho=9*10^9//in nt-m2/coul2 \n",
"m=9.11*10^-31//in kg\n",
"e=1.6*10^-19//coul\n",
"h=1.05*10^-34//in j-sec\n",
"E=-(rho*m*e^4)/(2*h^2)\n",
"printf('\n Binding energy is %e Joule ',E)\n",
"//Answer given in the book is wrong"
   ]
   }
,
{
		   "cell_type": "markdown",
		   "metadata": {},
		   "source": [
			"## Example 4.9: Muon_nucleus_seperation.sce"
		   ]
		  },
  {
"cell_type": "code",
	   "execution_count": null,
	   "metadata": {
	    "collapsed": true
	   },
	   "outputs": [],
"source": [
"//Example 4.9, page 124\n",
"clc\n",
"disp('Part a')\n",
"mu=207//207*me\n",
"M=1836//183*me\n",
"u=(mu*M)/(mu+M)\n",
"D=(1/u)*5.3*10^-11\n",
"printf('\nMuon nucleus seperation is  %e m ',D)\n",
"disp('Part b')\n",
"E=-u*13.6\n",
"printf('\n Binding energy is %f ev ',E)\n",
"disp('Part c')\n",
"R=109737//in cm\n",
"lambda=(1/u)*(1/0.75)*(1/R)\n",
"printf('\n Wavelength is %e cm ',lambda)"
   ]
   }
],
"metadata": {
		  "kernelspec": {
		   "display_name": "Scilab",
		   "language": "scilab",
		   "name": "scilab"
		  },
		  "language_info": {
		   "file_extension": ".sce",
		   "help_links": [
			{
			 "text": "MetaKernel Magics",
			 "url": "https://github.com/calysto/metakernel/blob/master/metakernel/magics/README.md"
			}
		   ],
		   "mimetype": "text/x-octave",
		   "name": "scilab",
		   "version": "0.7.1"
		  }
		 },
		 "nbformat": 4,
		 "nbformat_minor": 0
}
