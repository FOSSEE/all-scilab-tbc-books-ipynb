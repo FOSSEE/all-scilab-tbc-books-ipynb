{
"cells": [
 {
		   "cell_type": "markdown",
	   "metadata": {},
	   "source": [
       "# Chapter 13: Solids Conductors and semiconductors"
	   ]
	},
{
		   "cell_type": "markdown",
		   "metadata": {},
		   "source": [
			"## Example 13.1: Electron_per_unit_volume.sce"
		   ]
		  },
  {
"cell_type": "code",
	   "execution_count": null,
	   "metadata": {
	    "collapsed": true
	   },
	   "outputs": [],
"source": [
"//Example 13.1, Page no 471\n",
"clc\n",
"m=9.11*10^-31//in kg\n",
"h=6.63*10^-34//in j-s\n",
"ef=4.72*1.60*10^-19//in J\n",
"n=%pi*(((8*m)/h**2)^(3/2))*((ef**(3/2))/3)\n",
"printf('\n The number of electron per unit volume in lithium is  %e  /m^3',n)"
   ]
   }
,
{
		   "cell_type": "markdown",
		   "metadata": {},
		   "source": [
			"## Example 13.3: Angle.sce"
		   ]
		  },
  {
"cell_type": "code",
	   "execution_count": null,
	   "metadata": {
	    "collapsed": true
	   },
	   "outputs": [],
"source": [
"//Example 13.3, page 483\n",
"clc\n",
"m=9.11*10^-31//in kg\n",
"h=6.63*10^-34//in j-s\n",
"c=3*10^8//m/s\n",
"ef=4.72*1.60*10^-19//in J\n",
"pf=sqrt(2*m*ef)\n",
"tf=pf/(m*c)\n",
"printf('\n The angle is  %e  rad',tf)"
   ]
   }
],
"metadata": {
		  "kernelspec": {
		   "display_name": "Scilab",
		   "language": "scilab",
		   "name": "scilab"
		  },
		  "language_info": {
		   "file_extension": ".sce",
		   "help_links": [
			{
			 "text": "MetaKernel Magics",
			 "url": "https://github.com/calysto/metakernel/blob/master/metakernel/magics/README.md"
			}
		   ],
		   "mimetype": "text/x-octave",
		   "name": "scilab",
		   "version": "0.7.1"
		  }
		 },
		 "nbformat": 4,
		 "nbformat_minor": 0
}
