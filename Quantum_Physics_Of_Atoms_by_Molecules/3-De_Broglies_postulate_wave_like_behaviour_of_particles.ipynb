{
"cells": [
 {
		   "cell_type": "markdown",
	   "metadata": {},
	   "source": [
       "# Chapter 3: De Broglies postulate wave like behaviour of particles"
	   ]
	},
{
		   "cell_type": "markdown",
		   "metadata": {},
		   "source": [
			"## Example 3.1: Find_de_broglie_wavelength.sce"
		   ]
		  },
  {
"cell_type": "code",
	   "execution_count": null,
	   "metadata": {
	    "collapsed": true
	   },
	   "outputs": [],
"source": [
"//Example 3.1, page 74\n",
"clc\n",
"m=1//in kg\n",
"h=6.63*10^-34//Joule-sec\n",
"v=10//in m/sec\n",
"lambda=h/(m*v)\n",
"disp('part a')\n",
"printf('\n De broglie wavelength for v=10m/sec %e m',lambda)\n",
"disp('part b')\n",
"//For KE=100ev\n",
"m=9.1*10^-31\n",
"K=100*1.6*10^-19//in Joules\n",
"lambda=h/sqrt(2*m*K)\n",
"printf('\n De broglie wavelength is %e m',lambda)"
   ]
   }
,
{
		   "cell_type": "markdown",
		   "metadata": {},
		   "source": [
			"## Example 3.2: Mass_of_Helium_and_wavelength.sce"
		   ]
		  },
  {
"cell_type": "code",
	   "execution_count": null,
	   "metadata": {
	    "collapsed": true
	   },
	   "outputs": [],
"source": [
"//Example 3.2, Page 80\n",
"clc\n",
"h=6.63*10^-34//Joule-sec\n",
"v=1.635*10^3//m/s\n",
"M=4*10^-3//in kg/mole\n",
"No=6.02*10^23//atom/mole\n",
"m=M/No\n",
"printf('\n Mass of Helium atom is %e kg',m)\n",
"lambda=h/(m*v)\n",
"printf('\n De broglie wavelength is %e m',lambda)"
   ]
   }
,
{
		   "cell_type": "markdown",
		   "metadata": {},
		   "source": [
			"## Example 3.3: Speed_of_the_bullet.sce"
		   ]
		  },
  {
"cell_type": "code",
	   "execution_count": null,
	   "metadata": {
	    "collapsed": true
	   },
	   "outputs": [],
"source": [
"//Example 3.3, Page 87\n",
"clc\n",
"//For electron\n",
"m1=9.1*10^-31//in kg\n",
"v=300//in m/s\n",
"h=6.6*10^-34//in joule-sec\n",
"p1=m1*v//delta v\n",
"delta_p1=.0001*p1//m*delata_v in kg-m/sec\n",
"delta_x1=(h)/(4*%pi*delta_p1)\n",
"printf('\n Position of electron %e  m',delta_x1)\n",
"//For bullet\n",
"m2=0.05//in kg\n",
"p2=m2*v\n",
"delta_p2=0.0001*p2//in kg-m/s\n",
"delta_x2=(h)/(4*%pi*delta_p2)\n",
"printf('\n Position of bullet %e  m',delta_x2)"
   ]
   }
,
{
		   "cell_type": "markdown",
		   "metadata": {},
		   "source": [
			"## Example 3.5: Fractional_width_and_uncertainity.sce"
		   ]
		  },
  {
"cell_type": "code",
	   "execution_count": null,
	   "metadata": {
	    "collapsed": true
	   },
	   "outputs": [],
"source": [
"//Example 3.5, page no 94\n",
"clc\n",
"disp('part b')\n",
"lambda=5890*10^-8//in cm\n",
"c=3*10^10//in cm/s\n",
"v=c/lambda\n",
"del_v=8*10^6//per s\n",
"x=del_v/v\n",
"h=4.14*10^-15//in ev-sec\n",
"printf('\n Fractional width of either line(del_v/v) %e  ',x)\n",
"//Calculate uncertainty\n",
"disp('part c')\n",
"del_t=10^-8\n",
"del_e=(h)/(4*%pi*del_t)\n",
"printf('\n Uncertainty is %e ev ',del_e)"
   ]
   }
],
"metadata": {
		  "kernelspec": {
		   "display_name": "Scilab",
		   "language": "scilab",
		   "name": "scilab"
		  },
		  "language_info": {
		   "file_extension": ".sce",
		   "help_links": [
			{
			 "text": "MetaKernel Magics",
			 "url": "https://github.com/calysto/metakernel/blob/master/metakernel/magics/README.md"
			}
		   ],
		   "mimetype": "text/x-octave",
		   "name": "scilab",
		   "version": "0.7.1"
		  }
		 },
		 "nbformat": 4,
		 "nbformat_minor": 0
}
