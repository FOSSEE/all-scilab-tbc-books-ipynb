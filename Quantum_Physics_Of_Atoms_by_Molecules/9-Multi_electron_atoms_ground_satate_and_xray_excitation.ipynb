{
"cells": [
 {
		   "cell_type": "markdown",
	   "metadata": {},
	   "source": [
       "# Chapter 9: Multi electron atoms ground satate and xray excitation"
	   ]
	},
{
		   "cell_type": "markdown",
		   "metadata": {},
		   "source": [
			"## Example 9.5: Electric_field.sce"
		   ]
		  },
  {
"cell_type": "code",
	   "execution_count": null,
	   "metadata": {
	    "collapsed": true
	   },
	   "outputs": [],
"source": [
"//example 9.5, page 343\n",
"clc\n",
"Z=[16 8 3]\n",
"//Argon numbers\n",
"for n=1:1:3\n",
"E=(-((Z(n))/n)**2)*13.6\n",
"printf('\n The electric field for n=%d is  %f  ev',n, E)\n",
"disp(E)\n",
"end\n",
"//Answer differnce is because of round off"
   ]
   }
,
{
		   "cell_type": "markdown",
		   "metadata": {},
		   "source": [
			"## Example 9.7: ionization_energy.sce"
		   ]
		  },
  {
"cell_type": "code",
	   "execution_count": null,
	   "metadata": {
	    "collapsed": true
	   },
	   "outputs": [],
"source": [
"//Example 9.7, page 355\n",
"clc\n",
"Z=92\n",
"n=2\n",
"E=((Z/n)**2)*13.6//in ev\n",
"printf('\n The ionization energy is  %e  ev',E)\n",
"//Answer difference is because of round off"
   ]
   }
,
{
		   "cell_type": "markdown",
		   "metadata": {},
		   "source": [
			"## Example 9.8: Calculating_wavelength.sce"
		   ]
		  },
  {
"cell_type": "code",
	   "execution_count": null,
	   "metadata": {
	    "collapsed": true
	   },
	   "outputs": [],
"source": [
"//Example 9.8, page 358\n",
"clc\n",
"//Energy of K shell\n",
"z=26\n",
"k=2\n",
"E_k=13.6*(z-k)^2//in ev\n",
"v=7.8*10^3//in V\n",
"//for L shell\n",
"l=10\n",
"E_l=13.6*(z-l)^2//in ev\n",
"h=E_k-E_l\n",
"R_m=1.1*10^7\n",
"x=R_m*(z-2)^2//x=1/lamda\n",
"lambda=1/x\n",
"printf('\n The wavelength is  %e  m',lambda)"
   ]
   }
,
{
		   "cell_type": "markdown",
		   "metadata": {},
		   "source": [
			"## Example 9.9: Energy_of_K_shell.sce"
		   ]
		  },
  {
"cell_type": "code",
	   "execution_count": null,
	   "metadata": {
	    "collapsed": true
	   },
	   "outputs": [],
"source": [
"//example 9.9, page 360\n",
"//Energy of K shell\n",
"clc\n",
"z=82\n",
"k=2\n",
"E_k=13.6*(z-k)^2//in ev\n",
"printf('\n The energy of K shell is  %e  ev',E_k)"
   ]
   }
],
"metadata": {
		  "kernelspec": {
		   "display_name": "Scilab",
		   "language": "scilab",
		   "name": "scilab"
		  },
		  "language_info": {
		   "file_extension": ".sce",
		   "help_links": [
			{
			 "text": "MetaKernel Magics",
			 "url": "https://github.com/calysto/metakernel/blob/master/metakernel/magics/README.md"
			}
		   ],
		   "mimetype": "text/x-octave",
		   "name": "scilab",
		   "version": "0.7.1"
		  }
		 },
		 "nbformat": 4,
		 "nbformat_minor": 0
}
