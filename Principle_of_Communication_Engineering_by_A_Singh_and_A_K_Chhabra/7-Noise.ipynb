{
"cells": [
 {
		   "cell_type": "markdown",
	   "metadata": {},
	   "source": [
       "# Chapter 7: Noise"
	   ]
	},
{
		   "cell_type": "markdown",
		   "metadata": {},
		   "source": [
			"## Example 7.10: Noise_Ex_7_10.sce"
		   ]
		  },
  {
"cell_type": "code",
	   "execution_count": null,
	   "metadata": {
	    "collapsed": true
	   },
	   "outputs": [],
"source": [
"\n",
"\n",
"clc\n",
"//Chapter7\n",
"//Example7.10\n",
"//Given\n",
"SNRam=25// Signal to noise ratio of AM\n",
"PcFM_AM=0.9//\n",
"mf=5\n",
"SNRfm=(10*log10(3*(mf^2)*(PcFM_AM)))+SNRam\n",
"mprintf('S/N ratio for FM is %f dBs',SNRfm)\n",
"// Note :  There are some calculation errors in the solution presented in the book"
   ]
   }
,
{
		   "cell_type": "markdown",
		   "metadata": {},
		   "source": [
			"## Example 7.11: Noise_Ex_7_11.sce"
		   ]
		  },
  {
"cell_type": "code",
	   "execution_count": null,
	   "metadata": {
	    "collapsed": true
	   },
	   "outputs": [],
"source": [
"clc\n",
"//Chapter7\n",
"//Example7.11\n",
"//Given\n",
"ma=0.3\n",
"SNR=20// s/n ratio\n",
"SNR1=10^(0.1*SNR)\n",
"SNR_new=SNR+3\n",
"ma2=0.6// increased new depth of modulation\n",
"Pt_Ni=SNR1*((1+(ma^2))/(ma^2))\n",
"SNR2=10*log10(Pt_Ni*((ma2^2)/(1+((ma2^2)/2))))\n",
"\n",
"mprintf('a)\n  New SNR for 3dB increase in input s/g is %d dBs\nb)  When Modulation depth is increased to 60%c\n SNR becomes %f dBs',SNR_new,'%',SNR2)"
   ]
   }
,
{
		   "cell_type": "markdown",
		   "metadata": {},
		   "source": [
			"## Example 7.12: Noise_Ex_7_12.sce"
		   ]
		  },
  {
"cell_type": "code",
	   "execution_count": null,
	   "metadata": {
	    "collapsed": true
	   },
	   "outputs": [],
"source": [
"clc\n",
"//Chapter7\n",
"//Example7.12\n",
"//Given\n",
"fmax=5e3//max s/g freq\n",
"S_fmin=2*fmax// Min sampling freq\n",
"B_S=6//Binary bits sent per sample\n",
"BTR=B_S*S_fmin//Bit Transmission rate\n",
"Q=2^B_S//No of Quantizable levels\n",
"MQN=0.5/Q//Max Quantization noise\n",
"S_QNR=MQN^-1// Signal to Quantization noise ratio\n",
"//b\n",
"S_QNRreq=0.5*S_QNR// Signal to Quantization noise ratio\n",
"Qreq=0.5*S_QNRreq//No of Quantizable levels\n",
"B_Sreq=log2(Qreq)//Binary bits sent per sample\n",
"mprintf('a)  Bit Transmission rate: %d kbits/s\n    Signal to Quantization noise ratio %d \nb)\n  Bit Transmission rate: %d kbits/sample\n    Signal to Quantization noise ratio: %d',BTR/1000,S_QNR,B_Sreq,S_QNRreq)"
   ]
   }
,
{
		   "cell_type": "markdown",
		   "metadata": {},
		   "source": [
			"## Example 7.2: Noise_Ex_7_2.sce"
		   ]
		  },
  {
"cell_type": "code",
	   "execution_count": null,
	   "metadata": {
	    "collapsed": true
	   },
	   "outputs": [],
"source": [
"clc\n",
"//Chapter7\n",
"//Example7.2, page no 276\n",
"//Given\n",
"mue=25//\n",
"rp=5e3\n",
"Rl=10e3\n",
"C=1e-9\n",
"gm=mue/rp\n",
"Req=2.5/gm\n",
"//disp(Req , gm)\n",
"k=1.381e-23\n",
"T=293\n",
"R1=1e5\n",
"// Power density spectrum for respective res\n",
"d1=2*k*T*R1\n",
"d2=2*k*T*Req\n",
"d3=2*k*T*Rl\n",
"xo=0\n",
"x1=1e14\n",
"w=0:%inf\n",
"//H1(w)=(-gm*rp*Rl)/(rp+Rl+(%i*w*rp*Rl*C))\n",
"Vo=sqrt((20231.65e2/%pi)*integrate('1/(((3e9)^2)+(w^2))','w',xo,x1))\n",
"mprintf('The mean square noise voltage is: %f mV',Vo*1e3)\n",
"\n",
""
   ]
   }
,
{
		   "cell_type": "markdown",
		   "metadata": {},
		   "source": [
			"## Example 7.3: Noise_Ex_7_3.sce"
		   ]
		  },
  {
"cell_type": "code",
	   "execution_count": null,
	   "metadata": {
	    "collapsed": true
	   },
	   "outputs": [],
"source": [
"clc\n",
"//Chapter7\n",
"//Example7.3, page no 279\n",
"//Given\n",
"mue=25\n",
"rp=5e3\n",
"Rs=1e3//input resistance\n",
"//Coupling Capacitors are assumed as short circuit\n",
"Rg=1e5\n",
"gm=25/5e3\n",
"Req=2.5/gm\n",
"F=1+((((Req*(Rs+Rg)^2)+(Rg*Rs^2))/(Rs*Rg^2)))\n",
"xo=0\n",
"x1=1e10\n",
"w=0:%inf\n",
"\n",
"vo=sqrt((30145e-8/%pi)*integrate('1/(((3e5)^2)+(w^2))','w',xo,x1))\n",
"mprintf('The mean square noise voltage is: %f uV',vo*1e6)\n",
""
   ]
   }
,
{
		   "cell_type": "markdown",
		   "metadata": {},
		   "source": [
			"## Example 7.4: Noise_Ex_7_4.sce"
		   ]
		  },
  {
"cell_type": "code",
	   "execution_count": null,
	   "metadata": {
	    "collapsed": true
	   },
	   "outputs": [],
"source": [
"clc\n",
"//Chapter8\n",
"//Example7.4, page no 283\n",
"//Given\n",
"Ap1=10, Ap2=10, Ap3=10;  // Gain of each states\n",
"F_1=6, F_2=6, F_3=6;   //Noise figure of each state\n",
"F1= round(10^(F_1/10)), F2= round(10^(F_2/10)), F3= round(10^(F_3/10));   // approximating the values\n",
"\n",
"F=F1+((F2-1)/Ap1)+((F3-1)/(Ap1*Ap2))\n",
"mprintf('overall noise Figure is: %f',F)\n",
"\n",
"\n",
"\n",
"\n",
"\n",
""
   ]
   }
,
{
		   "cell_type": "markdown",
		   "metadata": {},
		   "source": [
			"## Example 7.5: Noise_Ex_7_5.sce"
		   ]
		  },
  {
"cell_type": "code",
	   "execution_count": null,
	   "metadata": {
	    "collapsed": true
	   },
	   "outputs": [],
"source": [
"clc\n",
"//Chapter7\n",
"//Example7.5, page no 283\n",
"//Given\n",
"Fif=15// Noise figure of IF amplifier\n",
"Ap1=10// Gain of Preamplifier\n",
"Fpa=6//Noise figure of preamplifier\n",
"F2=10^(Fif/10)\n",
"F1=10^(Fpa/10)\n",
"\n",
"F=F1+((F2-1)/Ap1)//overall noise figure\n",
"mprintf('The overall noise figure is: %f',F)"
   ]
   }
,
{
		   "cell_type": "markdown",
		   "metadata": {},
		   "source": [
			"## Example 7.7: Noise_Ex_7_7.sce"
		   ]
		  },
  {
"cell_type": "code",
	   "execution_count": null,
	   "metadata": {
	    "collapsed": true
	   },
	   "outputs": [],
"source": [
"clc\n",
"//Chapter7\n",
"//Example7.6\n",
"//Given\n",
"mue=25// tube parameters\n",
"rp=10e3// tube parameters\n",
"gm=2.5e-3// transconductance\n",
"Req=2.5/gm// equivalent resistance\n",
"Rs=1000\n",
"Rg=1e5\n",
"F1=1+(((Req*((Rs+Rg)^2))+Rg*Rs^2)/(Rs*(Rg^2)))//noise figure of the first stage\n",
"Rg2=9.1e3\n",
"Rs2=10e3\n",
"Es=1// assuming Es=1 for ease of calculation\n",
"Pi=((Es/2e3)^2)*1e3\n",
"Po=1.532e-2*Es^2\n",
"Ap1=Po/Pi\n",
"F2=1+(((Req*((Rs2+Rg2)^2))+Rg2*Rs2^2)/(Rs2*(Rg2^2)))// noise figure of the second stage\n",
"F=(F1)+((F2-1)/Ap1)\n",
"mprintf('Overall Noise figure is:%f',F)\n",
"\n",
""
   ]
   }
,
{
		   "cell_type": "markdown",
		   "metadata": {},
		   "source": [
			"## Example 7.8: Noise_Ex_7_8.sce"
		   ]
		  },
  {
"cell_type": "code",
	   "execution_count": null,
	   "metadata": {
	    "collapsed": true
	   },
	   "outputs": [],
"source": [
"clc\n",
"//Chapter7\n",
"//Example7.8\n",
"//Given\n",
"g01=30// gain of 1st stage\n",
"g02=20//gain of 2nd stage\n",
"g03=40//gain of 3rd stage\n",
"F2=6// Noise factor of stage 2\n",
"F3=12// Noise factor of stage 3\n",
"Te1=4// Eq noise temp of stage 1\n",
"T=290// Room \n",
"G01=round(10^(g01/10))\n",
"G02=round(10^(g02/10))\n",
"G03=round(10^(g03/10))\n",
"F_2=round(10^(F2/10))\n",
"F_3=round(10^(F3/10))\n",
"Te2=round((F_2-1))*T\n",
"Te3=round((F_3-1))*T\n",
"Te=Te1+(Te2/G01)+(Te3/(G01*G02))// Eq overall noise temp\n",
"mprintf('The equivalent noise temp is: %f K',Te)\n",
"\n",
"\n",
"\n",
"\n",
""
   ]
   }
,
{
		   "cell_type": "markdown",
		   "metadata": {},
		   "source": [
			"## Example 7.9: Noise_Ex_7_9.sce"
		   ]
		  },
  {
"cell_type": "code",
	   "execution_count": null,
	   "metadata": {
	    "collapsed": true
	   },
	   "outputs": [],
"source": [
"clc\n",
"//Chapter7\n",
"//Example7.9\n",
"//Given\n",
"g01=round(10^(25/10))//low noise amplifier gain\n",
"Te1=4//low noise amplifier noise temp\n",
"g02=round(10^(1.7))//preamplifier gain\n",
"F2=round(10^0.6)//preamplifier noise figure\n",
"F3=round(10^1.2)//preamplifier noise figure\n",
"T=290// room temp\n",
"Te2=round((F2-1)*T)\n",
"Te3=round((F3-1)*T)\n",
"Te=Te1+(Te2/g01)+(Te3/(g01*g02))//Overall noise Temperature\n",
"mprintf('Equivalent noise temperature is %f K',Te)\n",
"\n",
""
   ]
   }
],
"metadata": {
		  "kernelspec": {
		   "display_name": "Scilab",
		   "language": "scilab",
		   "name": "scilab"
		  },
		  "language_info": {
		   "file_extension": ".sce",
		   "help_links": [
			{
			 "text": "MetaKernel Magics",
			 "url": "https://github.com/calysto/metakernel/blob/master/metakernel/magics/README.md"
			}
		   ],
		   "mimetype": "text/x-octave",
		   "name": "scilab",
		   "version": "0.7.1"
		  }
		 },
		 "nbformat": 4,
		 "nbformat_minor": 0
}
