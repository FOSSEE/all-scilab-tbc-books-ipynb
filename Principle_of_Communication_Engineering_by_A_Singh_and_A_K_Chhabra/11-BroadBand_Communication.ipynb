{
"cells": [
 {
		   "cell_type": "markdown",
	   "metadata": {},
	   "source": [
       "# Chapter 11: BroadBand Communication"
	   ]
	},
{
		   "cell_type": "markdown",
		   "metadata": {},
		   "source": [
			"## Example 11.1: BBC_Ex_11_1.sce"
		   ]
		  },
  {
"cell_type": "code",
	   "execution_count": null,
	   "metadata": {
	    "collapsed": true
	   },
	   "outputs": [],
"source": [
"clc\n",
"//Chapter11\n",
"//Example11.1, page no 435\n",
"//Given\n",
"//a\n",
"c=20// no of signal channels\n",
"s=8e3// Channel sampling rate\n",
"t=1/s// time interval over which ll channels are sampled once\n",
"//b\n",
"g=5e-6// guaed time for each channel sample\n",
"s_duration=t-g// duration of each sample\n",
"//c\n",
"samples_sec=c*s//\n",
"mprintf('The total no of samples per second is:\n %d samples/second',samples_sec)"
   ]
   }
],
"metadata": {
		  "kernelspec": {
		   "display_name": "Scilab",
		   "language": "scilab",
		   "name": "scilab"
		  },
		  "language_info": {
		   "file_extension": ".sce",
		   "help_links": [
			{
			 "text": "MetaKernel Magics",
			 "url": "https://github.com/calysto/metakernel/blob/master/metakernel/magics/README.md"
			}
		   ],
		   "mimetype": "text/x-octave",
		   "name": "scilab",
		   "version": "0.7.1"
		  }
		 },
		 "nbformat": 4,
		 "nbformat_minor": 0
}
