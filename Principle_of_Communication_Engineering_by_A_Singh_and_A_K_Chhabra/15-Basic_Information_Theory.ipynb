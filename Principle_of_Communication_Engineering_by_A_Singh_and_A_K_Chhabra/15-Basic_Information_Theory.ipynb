{
"cells": [
 {
		   "cell_type": "markdown",
	   "metadata": {},
	   "source": [
       "# Chapter 15: Basic Information Theory"
	   ]
	},
{
		   "cell_type": "markdown",
		   "metadata": {},
		   "source": [
			"## Example 15.1: BIT_Ex_15_1.sce"
		   ]
		  },
  {
"cell_type": "code",
	   "execution_count": null,
	   "metadata": {
	    "collapsed": true
	   },
	   "outputs": [],
"source": [
"clc\n",
"//Chapter15\n",
"//Example15.1, page no 533\n",
"//Given\n",
"P_A=0.5// probability of producing symbol 'A'\n",
"P_B=0.25// probability of producing symbol 'B'\n",
"P_C=0.25// probability of producing symbol 'C'\n",
"H=P_A*log2(1/P_A)+P_B*log2(1/P_B)+P_C*log2(1/P_C)// the source entropy\n",
"mprintf('The source entropy is: %f bits/symbol',H)\n",
""
   ]
   }
,
{
		   "cell_type": "markdown",
		   "metadata": {},
		   "source": [
			"## Example 15.2: BIT_Ex_15_2.sce"
		   ]
		  },
  {
"cell_type": "code",
	   "execution_count": null,
	   "metadata": {
	    "collapsed": true
	   },
	   "outputs": [],
"source": [
"clc\n",
"//Chapter15\n",
"//Example15.2, page no 535\n",
"//Given\n",
"P_A=0.5,P_B=0.25,P_C=1/32,P_D=1/8,P_E=1/16,P_F=1/32// probabilities of producing respective symbol\n",
"H=(P_A*log2(1/P_A))+(P_B*log2(1/P_B))+(P_C*log2(1/P_C))+(P_D*log2(1/P_D))+(P_E*log2(1/P_E))+(P_F*log2(1/P_F))// Source Entropy\n",
"n=6,T=1\n",
"mprintf('The source entropy is: %f bits/symbol',round(1000*H)/1000)\n",
"\n",
""
   ]
   }
,
{
		   "cell_type": "markdown",
		   "metadata": {},
		   "source": [
			"## Example 15.3: BIT_Ex_15_3.sce"
		   ]
		  },
  {
"cell_type": "code",
	   "execution_count": null,
	   "metadata": {
	    "collapsed": true
	   },
	   "outputs": [],
"source": [
"// the Answer in the book is wrong.It is printed as 90.4 for SNR3 but it should be 100.59\n",
"clc\n",
"//Chapter15\n",
"//Example15.3, page no 536\n",
"//Given\n",
"//a\n",
"B1=4e3//Channel Bandwidth\n",
"SNR1=31//Channel SNR\n",
"C1=B1*log2(1+SNR1)//Channel Capacity\n",
"SNR2=14//Reduced SNR\n",
"B2=round(C1/log2(1+SNR2))//Bandwidth for reduced SNR with same Channel capacity\n",
"\n",
"//b\n",
"B3=3e3//Reduced Bandwidth\n",
"SNR3=(2^(C1/B3))-1//Signal Power for reduced bandwidth\n",
"mprintf('a)\n  Channel capacity is: %d Kbits/sec\n    Bandwidth: %d KHz\nb)\n  SNR for 3KHz bandwidth: %f',C1*1e-3,B2*1e-3,SNR3)\n",
""
   ]
   }
],
"metadata": {
		  "kernelspec": {
		   "display_name": "Scilab",
		   "language": "scilab",
		   "name": "scilab"
		  },
		  "language_info": {
		   "file_extension": ".sce",
		   "help_links": [
			{
			 "text": "MetaKernel Magics",
			 "url": "https://github.com/calysto/metakernel/blob/master/metakernel/magics/README.md"
			}
		   ],
		   "mimetype": "text/x-octave",
		   "name": "scilab",
		   "version": "0.7.1"
		  }
		 },
		 "nbformat": 4,
		 "nbformat_minor": 0
}
