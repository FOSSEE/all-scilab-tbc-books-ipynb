{
"cells": [
 {
		   "cell_type": "markdown",
	   "metadata": {},
	   "source": [
       "# Chapter 9: Aerials"
	   ]
	},
{
		   "cell_type": "markdown",
		   "metadata": {},
		   "source": [
			"## Example 9.1: Aerials_Ex_9_1.sce"
		   ]
		  },
  {
"cell_type": "code",
	   "execution_count": null,
	   "metadata": {
	    "collapsed": true
	   },
	   "outputs": [],
"source": [
"clc\n",
"//Chapter9\n",
"//Example9.1, page no 397\n",
"//Given\n",
"D=90// directivity\n",
"lambda=2// wavelength\n",
"Ae=(D*(lambda^2))/(4*%pi)//effective aperture\n",
"mprintf('The maximum effective aperture of the\n aerial is %f sq m',Ae)"
   ]
   }
,
{
		   "cell_type": "markdown",
		   "metadata": {},
		   "source": [
			"## Example 9.2: Aerials_Ex_9_2.sce"
		   ]
		  },
  {
"cell_type": "code",
	   "execution_count": null,
	   "metadata": {
	    "collapsed": true
	   },
	   "outputs": [],
"source": [
"clc\n",
"//Chapter9\n",
"//Example9.2, page no 397\n",
"//Given\n",
"n=10//no of aerial elements\n",
"d=0.5//distance in terms of wavelength\n",
"Beam_Width=2/(n*d)//\n",
"Beam_Width_degrees=Beam_Width*180/%pi\n",
"mprintf('Angular beam width is %f degrees\nBeamWidth is %f rad',Beam_Width_degrees,Beam_Width)"
   ]
   }
,
{
		   "cell_type": "markdown",
		   "metadata": {},
		   "source": [
			"## Example 9.3: Aerials_Ex_9_3.sce"
		   ]
		  },
  {
"cell_type": "code",
	   "execution_count": null,
	   "metadata": {
	    "collapsed": true
	   },
	   "outputs": [],
"source": [
"clc\n",
"//Chapter9\n",
"//Example9.3, pageno 397\n",
"//Given\n",
"r=1//assume distance for ease of calculation\n",
"//Pav(theta)=(1000/(3*%pi*r^2))*((sin(theta))^2)\n",
"theta=0:0.1:%pi\n",
"x0=0,x1=%pi\n",
"Pt=(2000/(3*r^2))*integrate('(sin(theta))^3','theta',x0,x1)//Total power radiated \n",
"mprintf('Total power radiated is %f watts',Pt)\n",
""
   ]
   }
,
{
		   "cell_type": "markdown",
		   "metadata": {},
		   "source": [
			"## Example 9.4: Aerials_Ex_9_4.sce"
		   ]
		  },
  {
"cell_type": "code",
	   "execution_count": null,
	   "metadata": {
	    "collapsed": true
	   },
	   "outputs": [],
"source": [
"clc\n",
"//Chapter9\n",
"//Example9.4, page no 398\n",
"//Given\n",
"dl=2// length of wire \n",
"I=6//current in the wire\n",
"f=1e6// operating freq\n",
"r=30e3//distance at which field is to be calculated\n",
"theta=90//right angles to the wire axis\n",
"lambda=300// wavelength\n",
"w=2*%pi*f//angular freq\n",
"c=3e8,t=f^-1\n",
"Phi=w*(t-(r/c))//Phase shift\n",
"Erad=25.13e-5*cos(Phi)//Radiation electric field intensity\n",
"H=Erad/(120*%pi)//Radiation magnetic field intensity\n",
"mprintf('electric field intensity is %f mV/m \n magnetic field intensity is %f uA/m',Erad*1e3,H*1e6)"
   ]
   }
,
{
		   "cell_type": "markdown",
		   "metadata": {},
		   "source": [
			"## Example 9.5: Aerials_Ex_9_5.sce"
		   ]
		  },
  {
"cell_type": "code",
	   "execution_count": null,
	   "metadata": {
	    "collapsed": true
	   },
	   "outputs": [],
"source": [
"clc\n",
"//Chapter9\n",
"//Example9.5\n",
"//Given\n",
"//c\n",
"Rr=73// radition resistance\n",
"Vrms=10//RMS voltage of the signal\n",
"Zin_mod=sqrt((73^2)+(42^2))//absolute input impedance\n",
"Irms=Vrms/Zin_mod//RMS current\n",
"Pt=(Irms^2)*Rr// Radiated power\n",
"mprintf('The radiated power is %f watts',round(100*Pt)/100)"
   ]
   }
,
{
		   "cell_type": "markdown",
		   "metadata": {},
		   "source": [
			"## Example 9.6: Aerials_Ex_9_6.sce"
		   ]
		  },
  {
"cell_type": "code",
	   "execution_count": null,
	   "metadata": {
	    "collapsed": true
	   },
	   "outputs": [],
"source": [
"clc\n",
"//Chapter9\n",
"//Example9.6\n",
"//Given\n",
"//b\n",
"c=3e8\n",
"f=2e9//operating freq\n",
"Ae=100//aperture area\n",
"lambda=c/f// operating wavwlength\n",
"D=((4*3.141*Ae)/(lambda^2))// Directivity\n",
"mprintf('Ideal directive gain is %d',D)\n",
""
   ]
   }
,
{
		   "cell_type": "markdown",
		   "metadata": {},
		   "source": [
			"## Example 9.7: Aerials_Ex_9_7.sce"
		   ]
		  },
  {
"cell_type": "code",
	   "execution_count": null,
	   "metadata": {
	    "collapsed": true
	   },
	   "outputs": [],
"source": [
"clc\n",
"//Chapter9\n",
"//Example9.7, pageno 400\n",
"//Given\n",
"//b\n",
"n=10// no of aerial elements\n",
"lambda_d=2//\n",
"BeamWidth=2*lambda_d/n// Beamwidth\n",
"mprintf('The angular width is %f degrees',BeamWidth)\n",
""
   ]
   }
,
{
		   "cell_type": "markdown",
		   "metadata": {},
		   "source": [
			"## Example 9.8: Aerials_Ex_9_8.sce"
		   ]
		  },
  {
"cell_type": "code",
	   "execution_count": null,
	   "metadata": {
	    "collapsed": true
	   },
	   "outputs": [],
"source": [
"clc\n",
"//Chapter9\n",
"//Example9.8, page no 400\n",
"//Given\n",
"D1=1,D2=1.5*D1 // diameters of the new reflectors   D1=1assumed for ease of calculation\n",
"G_dbs=10*log10((D2/D1)^2)//Gain in dBs\n",
"mprintf('Overall Gain is %f dBs',round(1000*G_dbs)/1000)"
   ]
   }
,
{
		   "cell_type": "markdown",
		   "metadata": {},
		   "source": [
			"## Example 9.9: Aerials_Ex_9_9.sce"
		   ]
		  },
  {
"cell_type": "code",
	   "execution_count": null,
	   "metadata": {
	    "collapsed": true
	   },
	   "outputs": [],
"source": [
"clc\n",
"//Chapter9\n",
"//Example9.9\n",
"//Given\n",
"//b\n",
"c=3e8\n",
"f=800e3// operating freq\n",
"dl=27//effective height\n",
"lambda=c/f\n",
"\n",
"Rr=40*(3.142^2)*(dl/lambda)^2//Radiation Resistance\n",
"mprintf('Radiation resistance is %f ohm',Rr)\n",
""
   ]
   }
],
"metadata": {
		  "kernelspec": {
		   "display_name": "Scilab",
		   "language": "scilab",
		   "name": "scilab"
		  },
		  "language_info": {
		   "file_extension": ".sce",
		   "help_links": [
			{
			 "text": "MetaKernel Magics",
			 "url": "https://github.com/calysto/metakernel/blob/master/metakernel/magics/README.md"
			}
		   ],
		   "mimetype": "text/x-octave",
		   "name": "scilab",
		   "version": "0.7.1"
		  }
		 },
		 "nbformat": 4,
		 "nbformat_minor": 0
}
