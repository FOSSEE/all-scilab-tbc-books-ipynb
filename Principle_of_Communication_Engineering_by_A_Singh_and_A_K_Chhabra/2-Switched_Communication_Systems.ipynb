{
"cells": [
 {
		   "cell_type": "markdown",
	   "metadata": {},
	   "source": [
       "# Chapter 2: Switched Communication Systems"
	   ]
	},
{
		   "cell_type": "markdown",
		   "metadata": {},
		   "source": [
			"## Example 2.2: Chapter_2_Example_2_2.sce"
		   ]
		  },
  {
"cell_type": "code",
	   "execution_count": null,
	   "metadata": {
	    "collapsed": true
	   },
	   "outputs": [],
"source": [
"clc;\n",
"// Chapter 2 Switched communication systems\n",
"//Example 2.2, page no 125\n",
"//given\n",
"Io=4*10^-3 //rqueired operating current\n",
"N1=10000 //no of turns in the main winding\n",
"R1=645 //resistence of the main winding in ohms\n",
"N2=200 //no of turns in auxillary winding\n",
"B=2 //spacing bias\n",
"Iaux=B/N2 //maximum auxillary current\n",
"mprintf('maximum auxillary current is:%f mA\n',Iaux*1e3)\n",
"MMFaux=N2*Iaux //MMF in the auxillary winding\n",
"mprintf('MMF in the auxillary winding is:%fAT \n',MMFaux)\n",
"MMFop=Io*N1 //operating MFF in main winding\n",
"mprintf( ' MMF in main winding is:%f AT \n',MMFop)\n",
"MMFnet=MMFop+(0.1*MMFop) //net MMF required in main winding\n",
"mprintf('net MMF required in main winding is:%f AT \n',MMFnet)\n",
"Iop=MMFnet/N1 //operating current needed\n",
"mprintf('operating current needed is:%f mA \n',Iop*1e3)\n",
"V=Iop*R1 //working voltage in volts\n",
"mprintf('working voltage is:%f volts \n',V)"
   ]
   }
,
{
		   "cell_type": "markdown",
		   "metadata": {},
		   "source": [
			"## Example 2.3: Chapter_2_Example_2_3.sce"
		   ]
		  },
  {
"cell_type": "code",
	   "execution_count": null,
	   "metadata": {
	    "collapsed": true
	   },
	   "outputs": [],
"source": [
"clc;\n",
"// Chapter 2 Switched communication systems\n",
"//Example 2.3,page no 125\n",
"//given\n",
"C=6000//Tatol no of call in busy hour\n",
"SC=5000//no of subscribers\n",
"CR=C/SC//busy hour calling rate\n",
"mprintf('Busy hour calling rate is:%f \n',CR)\n",
"T=2.5/60//avarage duration of calls in hours\n",
"\n",
"A=C*T//rate of traffic flow\n",
"mprintf('Rate of traffic flow is %f traffic unit ',A)"
   ]
   }
,
{
		   "cell_type": "markdown",
		   "metadata": {},
		   "source": [
			"## Example 2.4_0: Chapter_2_Example_2_4_Pg126_Top.sce"
		   ]
		  },
  {
"cell_type": "code",
	   "execution_count": null,
	   "metadata": {
	    "collapsed": true
	   },
	   "outputs": [],
"source": [
"clc;\n",
"// Chapter 2 Switched communication systems\n",
"//Example 2.4,page no 126\n",
"//given\n",
"L=3//relay inductance in henry\n",
"R=1500//relay resistance in ohm\n",
"Io=20e-3//oparating current in amps\n",
"Ir=8e-3//release current in amps\n",
"\n",
"V=50//supply volatage in volts\n",
"Im=V/R//maxixmum current in amps\n",
"mprintf('maxixmum current is %f mamps \n',Im*1e3)\n",
"to=(L/R)*log(1/(1-(Io/Im)))//operate lag in sec\n",
"mprintf('operate lag is %f msec \n',to*1000)\n",
"tr=(L/R)*log(Im/Ir)//release lag in sec\n",
"mprintf('release lag is %f msec \n',tr*1000)"
   ]
   }
,
{
		   "cell_type": "markdown",
		   "metadata": {},
		   "source": [
			"## Example 2.4_1: Chapter_2_Example_2_4_Pg126_Bottom.sce"
		   ]
		  },
  {
"cell_type": "code",
	   "execution_count": null,
	   "metadata": {
	    "collapsed": true
	   },
	   "outputs": [],
"source": [
"clc;\n",
"// Chapter 2 Switched communication systems\n",
"//Example 2.4.1,page no 126\n",
"//given\n",
"//a\n",
"C_S1=20/3//speed in characters per second\n",
"P_C1=1/C_S1//periods per character\n",
"mprintf('(a)\nperiods per character is:%f msec\n',P_C1*1e3)\n",
"E_C1=7.5//elements per character\n",
"P_E1=P_C1/E_C1//period per element\n",
"mprintf('period per element is:%f msec\n',P_E1*1e3)\n",
"Sb1=1/P_E1//speed in bauds\n",
"mprintf('speed is:%f bauds\n\n',Sb1)\n",
"//b\n",
"C_S2=10//speed in characters per second\n",
"P_C2=1/C_S2//periods per character\n",
"mprintf('(b)\nperiods per character is:%f msec\n',P_C2*1e3)\n",
"E_C2=7.5//elements per character\n",
"P_E2=P_C2/E_C2//period per element\n",
"mprintf('period per element is:%f msec\n',P_E2*1e3)\n",
"Sb2=1/P_E2//speed in bauds\n",
"mprintf('speed is %f bauds\n\n', Sb2)\n",
"//c\n",
"C_S3=10//speed in characters per second\n",
"P_C3=1/C_S3//periods per character\n",
"mprintf('(c)\nperiods per character is:%f msec\n',P_C3*1e3)\n",
"E_C3=10//elements per character\n",
"P_E3=P_C3/E_C3//period per element\n",
"mprintf('period per element is:%f msec\n',P_E3*1e3)\n",
"Sb3=1/P_E3//speed in bauds\n",
"mprintf('speed is %f bauds\n',Sb3)"
   ]
   }
,
{
		   "cell_type": "markdown",
		   "metadata": {},
		   "source": [
			"## Example 2.5: Chapter_2_Example_2_5.sce"
		   ]
		  },
  {
"cell_type": "code",
	   "execution_count": null,
	   "metadata": {
	    "collapsed": true
	   },
	   "outputs": [],
"source": [
"clc;\n",
"// Chapter 2 Switched communication systems\n",
"//Example 2.5,page no 127\n",
"//given\n",
"N=1000//no of turns\n",
"L1=5e-8//inductance per turn\n",
"L=N^2*L1//total inductance\n",
"mprintf('total inductance is %f H \n',L)\n",
"R=100//resistance of winding in ohm\n",
"MMF=5//operating MMF in amp. turn\n",
"V=1//voltage of received signal in volts\n",
"Im=V/R//maximum current\n",
"mprintf('maximum current is %f mA \n',Im*1e3)\n",
"Io=MMF/N//operating current\n",
"mprintf('operating current is %f mA \n',Io*1e3)\n",
"to=(L/R)*log(1/(1-(Io/Im)))//operate lag\n",
"mprintf('operate lag is %f msec \n',to*1e3)"
   ]
   }
,
{
		   "cell_type": "markdown",
		   "metadata": {},
		   "source": [
			"## Example 2.6: Chapter_2_Example_2_6.sce"
		   ]
		  },
  {
"cell_type": "code",
	   "execution_count": null,
	   "metadata": {
	    "collapsed": true
	   },
	   "outputs": [],
"source": [
"clc;\n",
"// Chapter 2 Switched communication systems\n",
"//Example 2.6,page no 128\n",
"//given\n",
"S=10000//no of subscribers\n",
"C=16000//Tatol no of call in busy hour\n",
"CR=C/S//busy hour calling rate\n",
"mprintf('Busy hour calling rate is:%f \n',CR)\n",
"T=2.6//avarage duration of calls in min\n",
"\n",
"A=C*(T/60)//rate of traffic flow\n",
"mprintf('Rate of traffic flow is %f traffic unit ',A)"
   ]
   }
,
{
		   "cell_type": "markdown",
		   "metadata": {},
		   "source": [
			"## Example 2.7: Chapter_2_Example_2_7.sce"
		   ]
		  },
  {
"cell_type": "code",
	   "execution_count": null,
	   "metadata": {
	    "collapsed": true
	   },
	   "outputs": [],
"source": [
"clc;\n",
"// Chapter 2 Switched communication systems\n",
"//Example 2.7,page no 135\n",
"//given\n",
"N=7//no of character elements\n",
"E_C=10//elements per character (1+7+1+1)\n",
"To=100e-3//duration of one character\n",
"Te=To/E_C//duration of each element\n",
"mprintf('duration of each element is:%f msec\n',Te*1e3)\n",
"Sb=1/Te//speed in bauds\n",
"mprintf('speed is %f bauds\n',Sb)\n",
"C=2^N//total possible combinations\n",
"mprintf('total possible combinations are:%f',C)"
   ]
   }
,
{
		   "cell_type": "markdown",
		   "metadata": {},
		   "source": [
			"## Example 2.8: Chapter_2_Example_2_8.sce"
		   ]
		  },
  {
"cell_type": "code",
	   "execution_count": null,
	   "metadata": {
	    "collapsed": true
	   },
	   "outputs": [],
"source": [
"clc;\n",
"// Chapter 2 Switched communication systems\n",
"//Example 2.8,page no 129\n",
"//given\n",
"S=1000//no of subscribers\n",
"T=2.4/60//avarage duration of calls in hours\n",
"A=60//rate of traffic flow\n",
"C=A/T//Tatol no of call in busy hour\n",
"mprintf('Total no of call in busy hour is:%f calls per Hour\n',C)\n",
"CR=C/S//busy hour calling rate\n",
"mprintf('Busy hour calling rate is:%f \n',CR)\n",
"SCL=30//no of call lost per hour\n",
"\n",
"B=SCL/(C+SCL)//grade of service\n",
"mprintf('grade of service is: %f',B)"
   ]
   }
,
{
		   "cell_type": "markdown",
		   "metadata": {},
		   "source": [
			"## Example 2.9: Chapter_2_Example_2_9.sce"
		   ]
		  },
  {
"cell_type": "code",
	   "execution_count": null,
	   "metadata": {
	    "collapsed": true
	   },
	   "outputs": [],
"source": [
"clc;\n",
"// Chapter 2 Switched communication systems\n",
"//Example 2.9,page no 129\n",
"//given\n",
"N=5//no of switches\n",
"A=0.9//traffic offered \n",
"//grade of service B=(A^N/N!)/(1+A+A^2/2!+A^3/3!+...+A^N/N!)\n",
"//here\n",
"B=(A^N/factorial(N))/(1+A+(A^2/factorial(2))+(A^3/factorial(3))+(A^4/factorial(4))+(A^5/factorial(5)))\n",
"mprintf('grade of service is: %f\n',B)\n",
"Tl=A*B//traffic lost\n",
"mprintf('traffic lost is:%f',Tl)"
   ]
   }
],
"metadata": {
		  "kernelspec": {
		   "display_name": "Scilab",
		   "language": "scilab",
		   "name": "scilab"
		  },
		  "language_info": {
		   "file_extension": ".sce",
		   "help_links": [
			{
			 "text": "MetaKernel Magics",
			 "url": "https://github.com/calysto/metakernel/blob/master/metakernel/magics/README.md"
			}
		   ],
		   "mimetype": "text/x-octave",
		   "name": "scilab",
		   "version": "0.7.1"
		  }
		 },
		 "nbformat": 4,
		 "nbformat_minor": 0
}
