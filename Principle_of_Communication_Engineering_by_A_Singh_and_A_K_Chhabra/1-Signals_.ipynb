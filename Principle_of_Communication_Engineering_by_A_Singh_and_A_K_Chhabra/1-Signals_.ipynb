{
"cells": [
 {
		   "cell_type": "markdown",
	   "metadata": {},
	   "source": [
       "# Chapter 1: Signals "
	   ]
	},
{
		   "cell_type": "markdown",
		   "metadata": {},
		   "source": [
			"## Example 1.10: Signals_Ex_1_10.sce"
		   ]
		  },
  {
"cell_type": "code",
	   "execution_count": null,
	   "metadata": {
	    "collapsed": true
	   },
	   "outputs": [],
"source": [
"clc\n",
"//Chapter1: Signals\n",
"//Example1.10, page no 38\n",
"//Given\n",
"//a\n",
"A=1,delta=1e-3,T=10e-3\n",
"w0=2*%pi/T,n=0\n",
"for i=0:10\n",
"    if n==0 then\n",
"        Sa=1 \n",
"    else \n",
"        Sa=sin(n*%pi*delta/T)/(n*%pi*delta/T)\n",
"    end\n",
"    \n",
"end\n",
"\n",
"F=(A*delta/T)*Sa//spectral Amplitude\n",
"mprintf('a)\nAt wo,n=0: The spectral amplitude is: F0= %f V\n',F)\n",
"//b\n",
"// displaying the fourier Transform of the given function\n",
"mprintf('b)\nThe Fourier tranform of f(t-delta/2) is given as: '), \n",
"mprintf('\nf(t)=A*delta/T*∑Sa(n*delta*pi/T)*exp(jwo(t-delta/2))')"
   ]
   }
,
{
		   "cell_type": "markdown",
		   "metadata": {},
		   "source": [
			"## Example 1.11_1: Signals_Ex_1_11_Pg_39.sce"
		   ]
		  },
  {
"cell_type": "code",
	   "execution_count": null,
	   "metadata": {
	    "collapsed": true
	   },
	   "outputs": [],
"source": [
"clear ;\n",
"clc ;\n",
"close ;\n",
"//Chapter1\n",
"//Example1.11(1), page no 39\n",
"//Given\n",
"T = 10; //time Tau\n",
"Tg = -T/2 :0.1: T/2; // time period for given Gate Function -tau/2 to tau/2\n",
"G_t0 = 1; //Magnitude of Gate Function (A)\n",
"G_t = G_t0* ones (1, length (Tg));// Gate function G(t)\n",
"f = -%pi: %pi / length (Tg): %pi ;\n",
"Dw = 0.1;\n",
"F_jW =G_t*exp(sqrt(-1)*Tg'*f)*Dw;// fourier Transform of the gate function\n",
"F_jW = real(F_jW);\n",
"// Plotting the Fourier Transform of G(t)\n",
"figure\n",
"subplot (2 ,1 ,1)\n",
"a=gca();\n",
"a.y_location ='origin';\n",
"a.x_location ='origin';\n",
"plot2d(Tg,G_t,2);\n",
"xtitle( ' Given Function (Gate Function) G(t) ' )\n",
"subplot(2 ,1 ,2)\n",
"a= gca();\n",
"a.y_location ='origin';\n",
"a.x_location ='origin';\n",
"plot2d(f,F_jW,5);\n",
"xlabel('Frequency in Radians/Seconds ');\n",
"title('Continuous time Fourier Transform X(jW)' )\n",
"xtitle ( 'Fourier Transform of G(t)=  F(jW) ' )\n",
"mprintf('F(w)= A*t*Sa(w*t/2) ')"
   ]
   }
,
{
		   "cell_type": "markdown",
		   "metadata": {},
		   "source": [
			"## Example 1.11_2: Signals_Ex_1_11_Pg43.sce"
		   ]
		  },
  {
"cell_type": "code",
	   "execution_count": null,
	   "metadata": {
	    "collapsed": true
	   },
	   "outputs": [],
"source": [
"clc\n",
"//Chapter1\n",
"//Example1.11(2), page no 43\n",
"//Given\n",
"clear ;\n",
"close ;\n",
"// CTS Signal\n",
"A=2;// Amplitude\n",
"Dt=0.01;\n",
"T1=49.5; //Time in seconds\n",
"t=-T1/2: Dt:T1 /2;\n",
"for i=1:length(t)\n",
"xt(i)= A;\n",
"end\n",
"// Continuous time Fourier Transform\n",
"Wmax=2*%pi*1;// Analog Frequency = 1Hz\n",
"K =4;\n",
"k=0:(K/1000):K;\n",
"W=k*Wmax/K;\n",
"xt=xt';\n",
"XW =(xt*exp(-sqrt(-1)*t'*W)*Dt)-5;\n",
"XW_Mag =real(XW);\n",
"W =[-mtlb_fliplr(W), W(2:1001)]; // Omega from -Wmax to Wmax\n",
"XW_Mag =[mtlb_fliplr( XW_Mag ), XW_Mag(2:1001)];\n",
"subplot(2 ,1 ,1);\n",
"a =gca();\n",
"a.data_bounds =[ -4 ,0;4 ,2];\n",
"a.y_location ='origin';\n",
"plot2d(t,xt);\n",
"xlabel('t in msec .');\n",
"title(' Contiuous Time Signal x(t) ')\n",
"subplot(2 ,1 ,2);\n",
"a=gca();\n",
"a.y_location ='origin';\n",
"plot2d(W,XW_Mag,5);\n",
"xlabel('Frequency in Radians/Seconds ');\n",
"title('Continuous time Fourier Transform X(jW) = an Impulse Function' )\n",
"mprintf('|F(w)|= 2*pi*A*delta(w), Hence the Fourier Transform of constant is an Impulse Function')\n",
""
   ]
   }
,
{
		   "cell_type": "markdown",
		   "metadata": {},
		   "source": [
			"## Example 1.12: Signals_Ex_1_12.sce"
		   ]
		  },
  {
"cell_type": "code",
	   "execution_count": null,
	   "metadata": {
	    "collapsed": true
	   },
	   "outputs": [],
"source": [
"\n",
"clc\n",
"//Chapter 1\n",
"//Ex1.12, page no 43\n",
"//Given\n",
"mprintf('The given function is:\n sgn(t)=1  (for t>0\n       =-1 (for t<0)\n')// displaying the given function\n",
"disp('sgn(t)=2u(t)-1')\n",
"disp('the fourier transform can be given as:'),disp(' F[sgn[(t)]= 2/j*w')// displaying the fourier Transform of the given function"
   ]
   }
,
{
		   "cell_type": "markdown",
		   "metadata": {},
		   "source": [
			"## Example 1.13: Signals_Ex_1_13.sce"
		   ]
		  },
  {
"cell_type": "code",
	   "execution_count": null,
	   "metadata": {
	    "collapsed": true
	   },
	   "outputs": [],
"source": [
"clear ;\n",
"clc ;\n",
"close ;\n",
"//Chapter 1\n",
"//Ex1.13, page no 44\n",
"// CTS Signal\n",
"A =1; // Amplitude\n",
"Dt = 0.005;\n",
"T1 =0.5; //Time in seconds\n",
"t=0:Dt:T1;\n",
"for i = 1: length(t)\n",
"xt(i)=A;\n",
"end\n",
"// Continuous time Fourier Transform\n",
"Wmax= 2*%pi*1; // Analog Frequency = 1Hz\n",
"K =4;\n",
"k=0:(K/1000):K;\n",
"W =k*Wmax/K;\n",
"xt=xt';\n",
"XW =xt*exp(-sqrt(-1)*t'*W)*Dt;\n",
"XW_Mag =real(XW);\n",
"W =[-mtlb_fliplr(W), W(2:1001)]; // Omega from -Wmax to Wmax\n",
"XW_Mag =[mtlb_fliplr( XW_Mag ), XW_Mag(2:1001)];\n",
"// displaying the given function\n",
"subplot(2 ,1 ,1);\n",
"a =gca();\n",
"a.data_bounds =[ -1,0;1,2];\n",
"a.y_location ='origin';\n",
"plot(t,xt);\n",
"xlabel('t in msec .');\n",
"title(' Contiuous Time Signal x(t) ')\n",
"// displaying the fourier Transform of the given function\n",
"subplot(2 ,1 ,2);\n",
"a=gca();\n",
"mprintf('F(w)= 1/(j*w)+ pi*delta(w)')\n",
"a.y_location ='origin';\n",
"plot(W, XW_Mag);\n",
"xlabel('Frequency in Radians / Seconds ');\n",
"title('Continuous time Fourier Transform X(jW)' )"
   ]
   }
,
{
		   "cell_type": "markdown",
		   "metadata": {},
		   "source": [
			"## Example 1.14: Signals_Ex_1_14.sce"
		   ]
		  },
  {
"cell_type": "code",
	   "execution_count": null,
	   "metadata": {
	    "collapsed": true
	   },
	   "outputs": [],
"source": [
"//Chapter 1\n",
"//Ex1.14, page no 44\n",
"// CTS Signal\n",
"// Continuous Time Fourier Transforms of\n",
"// Sinusoidal waveforms(a)sin(Wot)(b)cos(Wot)\n",
"clear ;\n",
"clc ;\n",
"close ;\n",
"// CTFT\n",
"T1 = 2;\n",
"T = 4* T1;\n",
"Wo = 2* %pi /T;\n",
"W = [-Wo ,0, Wo ];\n",
"ak = (2* %pi *Wo*T1/ %pi )/ sqrt ( -1);\n",
"XW = [-ak ,0, ak ];\n",
"ak1 = (2* %pi*Wo*T1/%pi);\n",
"XW1 =[ ak1 ,0, ak1 ];\n",
"//displaying the given function\n",
"figure\n",
"a =gca();\n",
"a.y_location='origin';\n",
"a.x_location='origin';\n",
"plot2d3('gnn',W,imag(XW),2);\n",
"poly1=a.children(1).children(1) ;\n",
"poly1.thickness =3;\n",
"xlabel('W' );\n",
"title( 'CTFT of sin(Wot ) ')\n",
"//displaying the fourier Transform of the given function\n",
"figure\n",
"a =gca();\n",
"a.y_location='origin';\n",
"a.x_location='origin';\n",
"plot2d3('gnn',W,XW1,5);\n",
"poly1 =a.children(1).children(1) ;\n",
"poly1.thickness = 3;\n",
"xlabel('W' );\n",
"title( 'CTFT of cos (Wot)')"
   ]
   }
,
{
		   "cell_type": "markdown",
		   "metadata": {},
		   "source": [
			"## Example 1.15: Signals_Ex_1_15.sce"
		   ]
		  },
  {
"cell_type": "code",
	   "execution_count": null,
	   "metadata": {
	    "collapsed": true
	   },
	   "outputs": [],
"source": [
"clc\n",
"//Chapter 1\n",
"//Ex1.12, page no 43\n",
"//Given\n",
"mprintf('The given function is:\n f(t)=exp(j*wo*t) (for -inf<t<inf)\n')// Displaying the given function\n",
"disp('exp(j*wo*t)= cos(wo*t)+j*sin(wo*t)')\n",
"disp('F[exp(j*wo*t)]=F[cos(wo*t)]+F[j*sin(wo*t)]')\n",
"disp('f[exp(j*wo*t)]=pi*[d(w-wo)+d(w+wo)-d(w+wo)+d(w-wo)]')\n",
"disp('the fourier transform can be given as:'),disp(' F[exp(j*wo*t)]= 2*pi*d(w-wo)')// displaying the fourier Transform of the given function"
   ]
   }
,
{
		   "cell_type": "markdown",
		   "metadata": {},
		   "source": [
			"## Example 1.16: Signals_Ex_1_16.sce"
		   ]
		  },
  {
"cell_type": "code",
	   "execution_count": null,
	   "metadata": {
	    "collapsed": true
	   },
	   "outputs": [],
"source": [
"clc\n",
"\n",
"//Chapter 1\n",
"//Ex1.16, page no 47\n",
"A=1,delta=50e-3,T=500e-3\n",
"disp('Spectral Amplitude of the given function is given by ')// Displaying the expression for Spectral Amplitude\n",
"disp('Fn= A*delta/2 *[Sa(n*pi*delta/T)]')\n",
"disp('Therefore the fourier transform will be :')\n",
"mprintf('F[f(t)]=%f ∑Sa[n*pi/10]8delta(w-4*n*pi)',2*%pi*A*delta/T)// Displaying the Fourier transform\n",
"\n",
""
   ]
   }
,
{
		   "cell_type": "markdown",
		   "metadata": {},
		   "source": [
			"## Example 1.17: Signals_Ex_1_17.sce"
		   ]
		  },
  {
"cell_type": "code",
	   "execution_count": null,
	   "metadata": {
	    "collapsed": true
	   },
	   "outputs": [],
"source": [
"clc\n",
"//Chapter1: Signals\n",
"//Example1,page no12\n",
"//Given:\n",
"// CTFT\n",
"T = -4:4;;\n",
"T1 = 1; // Sampling Interval\n",
"xt = ones (1, length (T));\n",
"ak = 1/ T1;\n",
"XW = 2* %pi *ak* ones (1, length (T));\n",
"Wo = 2*%pi/T1;\n",
"W = Wo*T;\n",
"// Displaying the given function\n",
"figure\n",
"subplot(2 ,1 ,1)\n",
"a=gca();\n",
"a.y_location='origin';\n",
"a.x_location='origin';\n",
"plot2d3('gnn',T,xt,2) ;\n",
"poly1 =a.children(1).children (1) ;\n",
"poly1.thickness = 3;\n",
"xlabel ( 't ' );\n",
"title('Periodic Impulse Train ')\n",
"// displaying the fourier Transform of the given function\n",
"subplot(2 ,1 ,2)\n",
"a=gca();\n",
"a.y_location='origin';\n",
"a.x_location='origin';\n",
"plot2d3('gnn',W,XW,5) ;\n",
"poly1=a.children(1).children(1) ;\n",
"poly1.thickness =3 ;\n",
"xlabel('t');\n",
"title ( 'CTFT of Periodic Impulse Train')\n",
"\n",
"mprintf('F[∂t(t)]= 2*pi/T*∑∂(w-wo)')\n",
""
   ]
   }
,
{
		   "cell_type": "markdown",
		   "metadata": {},
		   "source": [
			"## Example 1.18: Signals_Ex_1_18.sce"
		   ]
		  },
  {
"cell_type": "code",
	   "execution_count": null,
	   "metadata": {
	    "collapsed": true
	   },
	   "outputs": [],
"source": [
"clear ;\n",
"clc ;\n",
"close ;\n",
"// CTS Signal\n",
"A =1; // Amplitude\n",
"Dt = 0.005;\n",
"T1 = 2; //Time in seconds\n",
"t = 0: Dt:T1 /2;\n",
"for i = 1: length (t)\n",
"xt(i) = A;\n",
"end\n",
"// Continuous time Fourier Transform\n",
"Wmax= 2*%pi*1; // Analog Frequency = 1Hz\n",
"K =4;\n",
"k=0:(K/1000):K;\n",
"W =k*Wmax/K;\n",
"xt=xt';\n",
"XW =xt*exp(-sqrt(-1)*t'*W)*Dt;\n",
"XW_Mag =real(XW);\n",
"W =[-mtlb_fliplr(W), W(2:1001)]; // Omega from  Wmax to Wmax\n",
"XW_Mag =[mtlb_fliplr( XW_Mag ), XW_Mag(2:1001)];\n",
"// displaying the given function\n",
"subplot(2 ,1 ,1);\n",
"a =gca();\n",
"a.data_bounds =[ -4 ,0;4 ,2];\n",
"a.y_location ='origin';\n",
"plot(t,xt);\n",
"xlabel('t in msec .');\n",
"title(' Contiuous Time Signal x(t)  {Gate Function} ')\n",
"// displaying the fourier Transform of the given function\n",
"subplot(2 ,1 ,2);\n",
"a=gca();\n",
"a.y_location ='origin';\n",
"plot(W, XW_Mag);\n",
"xlabel('Frequency in Radians / Seconds ');\n",
"title('Continuous time Fourier Transform X(jW)' )\n",
"mprintf('Hence Fourier transform of given Gate function is:\n A*delta*Sa[w*delta/2]/ exp(-j*w*delta/2)')"
   ]
   }
,
{
		   "cell_type": "markdown",
		   "metadata": {},
		   "source": [
			"## Example 1.1: Signals_Ex_1_1.sce"
		   ]
		  },
  {
"cell_type": "code",
	   "execution_count": null,
	   "metadata": {
	    "collapsed": true
	   },
	   "outputs": [],
"source": [
"clc\n",
"//Chapter1: Signals\n",
"//Example1,page no12\n",
"//Given:\n",
"n=round(rand())//any integers\n",
"m=round(rand())//any integers\n",
"wo=2*(n+m)*%pi//Angular Freq\n",
"t=0:0.01:2*%pi/wo\n",
"to=0,t1=2*%pi/wo\n",
"C= integrate('sin(n*wo*t)*cos(m*wo*t)','t',to,t1)// integrating sin(n*wo*t)*cos(m*wo*t) function\n",
"mprintf('The value of the above integral is:C=%d\n Since C=%d, the two functions: \n  f(t)=sin(n*wo*t)\n  g(t)=cos(n*wo*t) are Orthogonal',C,C)\n",
"\n",
"\n",
"\n",
""
   ]
   }
,
{
		   "cell_type": "markdown",
		   "metadata": {},
		   "source": [
			"## Example 1.2: Signals_Ex_1_2.sce"
		   ]
		  },
  {
"cell_type": "code",
	   "execution_count": null,
	   "metadata": {
	    "collapsed": true
	   },
	   "outputs": [],
"source": [
"clc\n",
"//Chapter1: Signals\n",
"//Example1,page no 12\n",
"//Given:\n",
"// Curve on page no 9....fig 1.6\n",
"t=0:0.1:2*%pi,t0=0,t1=2*%pi\n",
"C=((integrate('sin(t)','t',t0,t1/2)-integrate('sin(t)','t',t1/2,t1))/integrate('(sin(t))^2','t',t0,t1))\n",
"\n",
"mprintf('The optimum value of C to minimise the mean square error is:\n C= %f',C)\n",
"\n",
""
   ]
   }
,
{
		   "cell_type": "markdown",
		   "metadata": {},
		   "source": [
			"## Example 1.3: Signals_Ex_1_3.sce"
		   ]
		  },
  {
"cell_type": "code",
	   "execution_count": null,
	   "metadata": {
	    "collapsed": true
	   },
	   "outputs": [],
"source": [
"clc\n",
"//Chapter1: Signals\n",
"//Example2,page no12\n",
"//Given:\n",
"//a  // Referance Figure on page no 9.. (1.6d)\n",
"t=0:2*3.14,t0=0,t1=2*3.14\n",
"disp('a) The value of constants Cn are:')\n",
"for i=1:7\n",
"    C(i)=((integrate('sin(i*t)','t',t0,t1/2)-integrate('sin(i*t)','t',t1/2,t1))/integrate('(sin(i*t))^2','t',t0,t1))\n",
"    if C(i)<=0.01 then C(i)=0\n",
"    end\n",
"    mprintf('%f    for n= %d\n',C(i),i)\n",
"end\n",
"//b Mean Square error\n",
"\n",
"int1=integrate('(1)^2','t',t0,t1)\n",
"for n=1:7\n",
"    if modulo(n,2)==0 then\n",
"        C(n)=0\n",
"    else\n",
"    C(n)=4/(n*%pi)\n",
"end\n",
"end\n",
"for n=1:7\n",
" \n",
"    K(n)=integrate('(sin(n*t))^2','t',t0,t1)\n",
" \n",
"end\n",
"K(n)=%pi\n",
"\n",
"for n=1:7\n",
"S(1)=0 \n",
"    S(n+1)=S(n)+(((C(n))^2)*K(n))\n",
" \n",
"end\n",
"//Mean Square error\n",
"for n=1:7\n",
"    epsi(n)=(1/(t1-t0)*(int1-S(n+1)))\n",
"end\n",
"disp('b) Mean Square error is')\n",
"for n=1:2:7\n",
"mprintf('epsi(%d)=%f\n',n,round(100*epsi(n))/100)\n",
"\n",
"end\n",
"\n",
""
   ]
   }
,
{
		   "cell_type": "markdown",
		   "metadata": {},
		   "source": [
			"## Example 1.4: Signals_Ex_1_4.sce"
		   ]
		  },
  {
"cell_type": "code",
	   "execution_count": null,
	   "metadata": {
	    "collapsed": true
	   },
	   "outputs": [],
"source": [
"clc\n",
"//Chapter1: Signals\n",
"//Example1,page no12\n",
"//Given:\n",
"t=-1:0.01:1,t0=-1,t1=1\n",
"// Legendre Polynomial\n",
"t=poly(0,'t')\n",
"P0=poly(1,'t','c')\n",
"P1=poly([0,1],'t','c')\n",
"P2=poly([-0.5,0,1.5],'t','c')\n",
"P3=poly([-1.5,0,2.5,0],'t','c')\n",
"disp(P3,'P3=',P2,'P2=',P1,'P1=',P0,'P0=')\n",
"//The Constant coeff (Cn)\n",
"C0=0.5*(integrate('1','t',-1,0)+integrate('-1','t',0,1))\n",
"C1=1.5*(integrate('t','t',-1,0)+integrate('-t','t',0,1))\n",
"C2=2.5*(integrate('(1.5*t^2)-0.5','t',-1,0)+integrate('-(1.5*t^2)+0.5','t',0,1))\n",
"C3=3.5*(integrate('(2.5*t^3)-(1.5*t)','t',-1,0)+integrate('-(2.5*t^3)+(1.5*t)','t',0,1))\n",
"disp('The Constant coeff (Cn) values are :')\n",
"disp(C3,'C3=',C2,'C2=',C1,'C1=',C0,'C0=')\n",
"mprintf('\nf(t)= %d*%s + %f*%s + %d*%s + %f*%s',C0,'P0',C1,'P1',C2,'P2',C3,'P3')\n",
"\n",
"\n",
"\n",
""
   ]
   }
,
{
		   "cell_type": "markdown",
		   "metadata": {},
		   "source": [
			"## Example 1.5: Signals_Ex_1_5.sce"
		   ]
		  },
  {
"cell_type": "code",
	   "execution_count": null,
	   "metadata": {
	    "collapsed": true
	   },
	   "outputs": [],
"source": [
"clc\n",
"//Chapter 1 Signals\n",
"//Example 1.5, page no 19\n",
"//given\n",
"T=1,t0=0,wo=2*%pi\n",
"P=1\n",
"t=0:0.001:1\n",
"f=P*t\n",
"//The trigonometric Fourier series coeff for given function\n",
"a0=(1/T)*inttrap(t,f)\n",
"\n",
"for n=1:10\n",
"    f1=(P*t).*cos(wo*n*t)\n",
"    a(n)=(2/T)*inttrap(t,f1)\n",
"    if a(n)<0.01 then\n",
"        a(n)=0\n",
"    end\n",
"end\n",
"for n=1:10\n",
"    f2=(P*t).*sin(2*%pi*(1/T)*n*t)\n",
"    b(n)=(2/T)*inttrap(t,f2)\n",
"end\n",
"// Displaying trigonometric Fourier series coeff\n",
"mprintf('The value of a0 is: %f\n',a0)\n",
"disp('The values of a(n):   (upto n=10)')\n",
"for n=1:10\n",
"    disp(a(n))\n",
"end\n",
"disp('The values of b(n):    (upto n=10)')\n",
"for n=1:10\n",
"    disp(b(n))\n",
"end\n",
"mprintf('The trigonometric Fourier series for given function\n can be written as:\n')\n",
"mprintf('f(t)=%f%fsin(2*pi*t)%fsin(4*pi*t)\n%fsin(6*pi*t)%fsin(8*pi*t)%fsin(10*pi*t)\n%fsin(12*pi*t)%fsin(14*pi*t).......',b(1),b(2),b(3),b(4),b(5),b(6),b(7),b(8))\n",
""
   ]
   }
,
{
		   "cell_type": "markdown",
		   "metadata": {},
		   "source": [
			"## Example 1.6: Signals_Ex_1_6.sce"
		   ]
		  },
  {
"cell_type": "code",
	   "execution_count": null,
	   "metadata": {
	    "collapsed": true
	   },
	   "outputs": [],
"source": [
"clc\n",
"//Chapter 1 Signals\n",
"//Example 1.6, page no 21\n",
"//given\n",
"\n",
"t0=1,T=1,w0=2*3.14/T,P=1\n",
"t=0:0.1:1\n",
"f=P*t// function f(t)=P*t, 0<t<1\n",
"a=1\n",
"disp('The Exponential Fourier coeff(Fn) are:for n=-5 to 5')\n",
"for n=-5:5// Calculating the fourier coeff\n",
"    fr=f.*cos(%pi*n*t/T)\n",
"    Fr(a)=inttrap(t,fr)\n",
"    fi=f.*sin(%pi*n*t/T)\n",
"    Fi(a)=inttrap(t,fi)\n",
"    if Fr(a)<0.01 then Fr(a)=0\n",
"    end\n",
"    if Fi(a)<0.01 then\n",
"        Fi(a)=0\n",
"    end\n",
"    disp(Fr(a)-%i*Fi(a))\n",
"    a=a+1\n",
"end\n",
"mprintf('The given function in Expo Fourier series can be represented as \n')\n",
"mprintf('f(t)= %f+jP/2*pi* ∑1/n *exp(j2*pi*t)',P/2)"
   ]
   }
,
{
		   "cell_type": "markdown",
		   "metadata": {},
		   "source": [
			"## Example 1.7: Signals_Ex_1_7.sce"
		   ]
		  },
  {
"cell_type": "code",
	   "execution_count": null,
	   "metadata": {
	    "collapsed": true
	   },
	   "outputs": [],
"source": [
"clc\n",
"close\n",
"clear\n",
"//Chapter 1 Signals\n",
"//Example 1.7, page no 22\n",
"//given\n",
"V=1\n",
"t0=1,T=1,w0=2*3.14/T,P=1\n",
"t=0:0.01:3\n",
"f=V*abs(sin(%pi*t))\n",
"//The Expo fourier series coeff\n",
"disp('The Expo fourier series coeff are: for n=-5 to 5')\n",
"a=1\n",
"for n=-5:5\n",
"    fr=f.*cos(%pi*n*t/T)\n",
"    Fr(a)=inttrap(t,fr)\n",
"    fi=f.*sin(%pi*n*t/T)\n",
"    Fi(a)=inttrap(t,fi)\n",
"\n",
"    mag(a)=abs(Fr(a)+%i*Fi(a))\n",
"\n",
"    disp(Fr(a)-(%i*Fi(a)))\n",
"    x(1 ,size(t,2))=0\n",
"    x=x+((Fr(a))-%i*Fi(a)).*(cos(%pi*n*t/T)+%i*sin(%pi*n*t/T))\n",
"    a=a+1\n",
"end\n",
"mprintf('The given function in Expo Fourier series can be represented as \n')\n",
"mprintf('f(t)= 2V/pi -2V*exp(j2*pi*t)/3*pi -2V*exp(j2*pi*t)/15*pi\n      -2V*exp(j2*pi*t)/35*pi ...\n     -2V*exp(-j2*pi*t)/3*pi -2V*exp(-j2*pi*t)/15*pi...')\n",
"n=-5:5\n",
"subplot(2,1,1),plot2d(t,f,style=5)// Rectified sine function Plot\n",
"xlabel('t', 'fontsize', 2);\n",
"ylabel('sin(t)', 'fontsize', 3, 'color', 'blue');\n",
"subplot(2,1,2),plot2d3(n,mag,12,rect=[-11,0,11,1],style=4)//Plot of the magnitude of the Fourier coeff\n",
"xlabel('w', 'fontsize', 2);\n",
"ylabel('Fn', 'fontsize', 3, 'color', 'red');\n",
"legends(['sin(%pi*t)';'Expo Fourier Coeff'],[5,4], with_box=%f, opt='lr' )\n",
""
   ]
   }
,
{
		   "cell_type": "markdown",
		   "metadata": {},
		   "source": [
			"## Example 1.8: Signals_Ex_1_8.sce"
		   ]
		  },
  {
"cell_type": "code",
	   "execution_count": null,
	   "metadata": {
	    "collapsed": true
	   },
	   "outputs": [],
"source": [
"clc\n",
"clear\n",
"close\n",
"//Chapter 1 Signals\n",
"//Example 1.8, page no 24\n",
"//given\n",
"\n",
"T=500e-3,w0=2*%pi/T,d=50e-3,A=10\n",
"t=-d/2:0.01:T-d/2\n",
"t1=-d/2:0.01:d/2\n",
"f1=A\n",
"t2=d/2:0.01:T-(d/2)\n",
"f2=0\n",
"a=1\n",
"disp('The fourier series coeff Fn are:')\n",
"for n=-5:5\n",
"    if n==0 then\n",
"       Fr(a)=1,Fi(a)=0\n",
"    else \n",
"    fa1=f1.*cos(%pi*n*t1/T)\n",
"    fa2=f2.*cos(%pi*n*t2/T)\n",
"     fb1=f1.*sin(%pi*n*t1/T)\n",
"    fb2=f2.*sin(%pi*n*t2/T)\n",
"    end\n",
"    Fr(a)=1/T*(inttrap(t1,fa1)+inttrap(t2,fa2))\n",
"    Fi(a)=1/T*(inttrap(t1,fb1)+inttrap(t2,fb2))\n",
"    mag(a)=abs(Fr(a)+%i*Fi(a))\n",
"    //  disp(mag(a))\n",
"    disp(Fr(a)-%i*Fi(a))\n",
"     x(1,size(t,2))=0\n",
"    x=x+((Fr(a))-%i*Fi(a)).*(cos(%pi*n*t/T)+%i*sin(%pi*n*t/T))\n",
"    a=a+1\n",
"    \n",
"end\n",
"n=-5:5\n",
"subplot(3,1,1),plot(t,f1)\n",
"xlabel('t', 'fontsize', 3);\n",
"ylabel('f(t)', 'fontsize', 3, 'color', 'green');\n",
"subplot(3,1,2),plot2d3(n,mag,2,rect=[-11,0,11,1])// expo fourier series coeff\n",
"xlabel('n', 'fontsize', 3);\n",
"ylabel('Coeff Magnitude', 'fontsize', 3, 'color', 'red');\n",
"subplot(3,1,3),plot2d(t,x,style=3),plot2d(-t,x,style=3) // one sided spectrum with T=500ms\n",
"xlabel('w', 'fontsize', 3);\n",
"ylabel('Fn', 'fontsize', 3, 'color', 'blue');\n",
"legends(['Sampling Function(T=500mS)';'Sampling Function(T=250mS)'],[3,5],opt='lr')\n",
"T1=T/2\n",
"t=-d/2:0.01:T1-d/2\n",
"t1=-d/2:0.01:d/2\n",
"f1=A\n",
"t2=d/2:0.01:T1-(d/2)\n",
"f2=0\n",
"//The Expo fourier series coeff\n",
"for n=-5:5\n",
"    if n==0 then\n",
"       Fr1(a)=1,Fi1(a)=0\n",
"    else \n",
"    fr1=f1.*cos(%pi*n*t1/T1)\n",
"    fr2=f2.*cos(%pi*n*t2/T1)\n",
"     fi1=f1.*sin(%pi*n*t1/T1)\n",
"    fi2=f2.*sin(%pi*n*t2/T1)\n",
"    end\n",
"    Fr1(a)=1/T1*(inttrap(t1,fr1)+inttrap(t2,fr2))\n",
"    Fi1(a)=1/T1*(inttrap(t1,fi1)+inttrap(t2,fi2))\n",
"    mag(a)=abs(Fr1(a)+%i*Fi1(a))\n",
"    disp(Fr1(a)-%i*Fi1(a))\n",
"     y(1,size(t,2))=0\n",
"    y=y+((Fr1(a))-%i*Fi1(a)).*(cos(%pi*n*t/T1)+%i*sin(%pi*n*t/T1))\n",
"     a=a+1\n",
"end\n",
"plot2d(t,y, style=5),plot2d(-t,y,style=5)// double sided spectrum with T=250ms\n",
""
   ]
   }
,
{
		   "cell_type": "markdown",
		   "metadata": {},
		   "source": [
			"## Example 1.9: Signals_Ex_1_9.sce"
		   ]
		  },
  {
"cell_type": "code",
	   "execution_count": null,
	   "metadata": {
	    "collapsed": true
	   },
	   "outputs": [],
"source": [
"clc; clear;close;\n",
"//Chapter1: Signals\n",
"//Example 1.9a,page no12\n",
"//Given:\n",
"// Analog Signal\n",
"A =1; // Amplitude\n",
"Dt = 0.005;\n",
"t = 0: Dt :10;\n",
"xt = exp(-A*t);\n",
"// Continuous time Fourier Transform\n",
"Wmax =2*%pi*1; // Analog Frequency = 1Hz\n",
"K = 4;\n",
"k = 0:(K/1000):K;\n",
"W = k* Wmax /K;\n",
"XW = xt*exp(-sqrt(-1)*t'*W)*Dt\n",
"XW_Mag =abs(XW);\n",
"W = [-mtlb_fliplr(W),W(2:1001)]; // Omega from -Wmax to Wmax\n",
"XW_Mag=[mtlb_fliplr(XW_Mag ),XW_Mag(2:1001)];\n",
"[XW_Phase ,db] = phasemag (XW);\n",
"XW_Phase = [-mtlb_fliplr( XW_Phase ),XW_Phase(2:1001)];\n",
"// Plotting Continuous Time Signal\n",
"figure\n",
"a=gca();\n",
"a.y_location = 'origin';\n",
"plot(t,xt);\n",
"xlabel( 't in sec .');\n",
"ylabel(' x(t) ')\n",
"title(' Continuous Time Signal ' )\n",
"figure\n",
"// Plotting Magnitude Response of CTS\n",
"subplot (2 ,2 ,1);\n",
"a = gca ();\n",
"a.y_location = 'origin';\n",
"plot2d(W, XW_Mag,style=5 );\n",
"xlabel ( ' Frequency in Radians / Seconds---> W' );\n",
"ylabel ( ' abs (X(jW) ) ' )\n",
"title ( 'Magnitude Response (CTFT) ' )\n",
"// Plotting Phase Reponse of CTS\n",
"subplot (2 ,2 ,2);\n",
"a =gca();\n",
"a.y_location='origin';\n",
"a.x_location='origin';\n",
"plot2d(W, XW_Phase *%pi/180,style=3);\n",
"xlabel(' Frequency in Radians / Seconds---> W');\n",
"ylabel('<X(jW) ')\n",
"title(' Phase Response (CTFT)in Radians' )\n",
"mprintf('|F(w)|= 1/sqrt(a^2+w^2) and\n Theta(w)=-atan(w/a)')\n",
"\n",
"//Chapter1: Signals\n",
"//Example 1.9b,page no12\n",
"//Given:\n",
"// Analog Signal\n",
"\n",
"\n",
"A=1;// Amplitude\n",
"Dt=0.005;\n",
"t1=-4.5:Dt:4.5;\n",
"xt1=exp(-A*abs(t1));\n",
"// Continuous time Fourier Transform\n",
"Wmax1 =2*%pi*1;// Analog Frequency = 1Hz\n",
"K=4;\n",
"k=0:(K/1000):K;\n",
"W1=k*Wmax1/K;\n",
"XW1=xt1*exp(-sqrt(-1)*t1'*W1)*Dt;\n",
"XW1=real(XW1);\n",
"W1=[-mtlb_fliplr(W1), W1(2:1001) ]; // Omega from -Wmax to Wmax\n",
"XW1=[ mtlb_fliplr(XW1), XW1(2:1001) ];\n",
"//subplot(1 ,1 ,1)\n",
"subplot(2 ,2 ,3);\n",
"b=gca();\n",
"b.y_location = 'origin';\n",
"plot2d(t,xt,3);\n",
"xlabel('t in sec.');\n",
"ylabel('x(t)')\n",
"title(' Continuous Time Signal')\n",
"subplot(2 ,2 ,4);\n",
"b =gca();\n",
"b.y_location = 'origin';\n",
"plot2d(W1,XW1,5);\n",
"xlabel('Frequency in Radians / Seconds W');\n",
"ylabel('X(jW)')\n",
"title('Continuous time Fourier Transform ')\n",
"\n",
"mprintf('|F(w)|= 2*a/sqrt(a^2+w^2) and\n Theta(w)=0')"
   ]
   }
],
"metadata": {
		  "kernelspec": {
		   "display_name": "Scilab",
		   "language": "scilab",
		   "name": "scilab"
		  },
		  "language_info": {
		   "file_extension": ".sce",
		   "help_links": [
			{
			 "text": "MetaKernel Magics",
			 "url": "https://github.com/calysto/metakernel/blob/master/metakernel/magics/README.md"
			}
		   ],
		   "mimetype": "text/x-octave",
		   "name": "scilab",
		   "version": "0.7.1"
		  }
		 },
		 "nbformat": 4,
		 "nbformat_minor": 0
}
