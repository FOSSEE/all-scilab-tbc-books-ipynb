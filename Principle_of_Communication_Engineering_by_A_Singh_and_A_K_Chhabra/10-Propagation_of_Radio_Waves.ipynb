{
"cells": [
 {
		   "cell_type": "markdown",
	   "metadata": {},
	   "source": [
       "# Chapter 10: Propagation of Radio Waves"
	   ]
	},
{
		   "cell_type": "markdown",
		   "metadata": {},
		   "source": [
			"## Example 10.1: PoRW_Ex_10_1.sce"
		   ]
		  },
  {
"cell_type": "code",
	   "execution_count": null,
	   "metadata": {
	    "collapsed": true
	   },
	   "outputs": [],
"source": [
"clc\n",
"//Chapter10\n",
"//Example10.1\n",
"//Given\n",
"Pt1=100//Radiated power\n",
"Pt2=30// Reduced Power \n",
"r=1//assume distance to be unity for easeof calculation\n",
"E1=300*sqrt(100)/r\n",
"E2=300*sqrt(30)/r\n",
"E=20*log10((E2/E1))// Reduction in field strength in dBs\n",
"mprintf('Field strength will reduce by %f dBs',-E)"
   ]
   }
,
{
		   "cell_type": "markdown",
		   "metadata": {},
		   "source": [
			"## Example 10.2: PoRW_Ex_10_2.sce"
		   ]
		  },
  {
"cell_type": "code",
	   "execution_count": null,
	   "metadata": {
	    "collapsed": true
	   },
	   "outputs": [],
"source": [
"clc\n",
"//Chapter10\n",
"//Example10.2\n",
"//Given\n",
"P=3//Transmitter power\n",
"ht=100// Antenna height\n",
"G=5//Antenna gain\n",
"d=20e3//distance\n",
"lambda=1,hr=1//assumed\n",
"E=((88*G*ht*hr*P^0.5)/(lambda*d^2))//field strength\n",
"mprintf('The field strength at distance 20km is %f uV/m',E*1e6)\n",
""
   ]
   }
,
{
		   "cell_type": "markdown",
		   "metadata": {},
		   "source": [
			"## Example 10.3: PoRW_Ex_10_3.sce"
		   ]
		  },
  {
"cell_type": "code",
	   "execution_count": null,
	   "metadata": {
	    "collapsed": true
	   },
	   "outputs": [],
"source": [
"clc\n",
"//Chapter10\n",
"//Example10.3\n",
"//Given\n",
"ht=152.5,hr=9.15 // Antenna height\n",
"d=4100*(sqrt(ht)+sqrt(hr)) //distance\n",
"mprintf('Direct ray coverage is possible over %f km',d*1e-3)\n",
""
   ]
   }
,
{
		   "cell_type": "markdown",
		   "metadata": {},
		   "source": [
			"## Example 10.4: PoRW_Ex_10_4.sce"
		   ]
		  },
  {
"cell_type": "code",
	   "execution_count": null,
	   "metadata": {
	    "collapsed": true
	   },
	   "outputs": [],
"source": [
"clc\n",
"//Chapter10\n",
"//Example10.4\n",
"//Given\n",
"//b\n",
"ht=3e3,hr=5e3 // Antenna height\n",
"d=4100*(sqrt(ht)+sqrt(hr))//distance\n",
"mprintf('Max possible distance for efective point to point\n communication is %f km',d*1e-3)"
   ]
   }
],
"metadata": {
		  "kernelspec": {
		   "display_name": "Scilab",
		   "language": "scilab",
		   "name": "scilab"
		  },
		  "language_info": {
		   "file_extension": ".sce",
		   "help_links": [
			{
			 "text": "MetaKernel Magics",
			 "url": "https://github.com/calysto/metakernel/blob/master/metakernel/magics/README.md"
			}
		   ],
		   "mimetype": "text/x-octave",
		   "name": "scilab",
		   "version": "0.7.1"
		  }
		 },
		 "nbformat": 4,
		 "nbformat_minor": 0
}
