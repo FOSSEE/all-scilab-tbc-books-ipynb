{
"cells": [
 {
		   "cell_type": "markdown",
	   "metadata": {},
	   "source": [
       "# Chapter 8: Transmission Line"
	   ]
	},
{
		   "cell_type": "markdown",
		   "metadata": {},
		   "source": [
			"## Example 8.15_1: Transmission_Line_Ex_8_15_Pg348.sce"
		   ]
		  },
  {
"cell_type": "code",
	   "execution_count": null,
	   "metadata": {
	    "collapsed": true
	   },
	   "outputs": [],
"source": [
"clc\n",
"//Chapter8\n",
"//Example8.15, page no 348\n",
"//Given\n",
"l=100// Tx-line length\n",
"ZR=200//Terminal resistance\n",
"Zo=600//Characteristic impedance\n",
"a=0.01//attenuation constant\n",
"Beta=0.03//phase constant\n",
"d=0//reflection coeff at load is Zero\n",
"Gamma=a+%i*Beta//propagation constant\n",
"Kd=((ZR-Zo)/(ZR+Zo))*%e^(-2*Gamma*d)//reflection coeff at point D d km from load\n",
"[Kdr,Kdi]=polar(Kd)\n",
"d1=100// distance\n",
"Ks=((ZR-Zo)/(ZR+Zo))*%e^(-2*Gamma*d1)//reflection coeff at the sending end\n",
"[Ksr,Ksi]=polar(Ks)\n",
"Zin=Zo*(((ZR*cosh(Gamma*l))+(Zo*sinh(Gamma*l)))/((Zo*cosh(Gamma*l))+(ZR*sinh(Gamma*l))))//Input impedance\n",
"[Zinr,Zini]=polar(Zin)\n",
"mprintf('The input impedance is %f /_%fdeg\nReflection Coeff is %f /_%fdeg',Zinr,Zini*180/%pi,Ksr,Ksi*180/%pi)\n",
"\n",
"// Note :  There are some calculation errors in the solution presented in the book"
   ]
   }
,
{
		   "cell_type": "markdown",
		   "metadata": {},
		   "source": [
			"## Example 8.15: Transmission_Line_Ex_8_15_Pg334.sce"
		   ]
		  },
  {
"cell_type": "code",
	   "execution_count": null,
	   "metadata": {
	    "collapsed": true
	   },
	   "outputs": [],
"source": [
"clc\n",
"//Chapter8\n",
"//Example8.15, page no 334\n",
"//GivenR=0.01\n",
"x=10//line length\n",
"Zo=100// characteristic impedance\n",
"a=0.1// attenuation constant\n",
"Beta=0.05// phase constant\n",
"Is=20e-3// source current\n",
"Gamma=a+ %i*Beta// propagation constant\n",
"\n",
"I=Is/cosh(Gamma*x)// received current\n",
"\n",
"[I_r,I_i]=polar(I)\n",
"\n",
"mprintf('The current received is= %f mA  at phase%f',1000*I_r,I_i*180/%pi)"
   ]
   }
,
{
		   "cell_type": "markdown",
		   "metadata": {},
		   "source": [
			"## Example 8.16: Transmission_Line_Ex_8_16.sce"
		   ]
		  },
  {
"cell_type": "code",
	   "execution_count": null,
	   "metadata": {
	    "collapsed": true
	   },
	   "outputs": [],
"source": [
"clc\n",
"//Chapter8\n",
"//Example8.16, page no 349\n",
"//Given\n",
"L=1e-3//inductance\n",
"R=40// Resistance\n",
"C=0.1e-6// capacitance\n",
"G=1e-6//conductance\n",
"w=5000// angular freq\n",
"Zo=sqrt(complex(R,(w*L))/complex(G,(w*C)))//Characteristic impedance\n",
"//Zr=sqrt(sqrt(R^2+(w*L)^2)/sqrt(G^2+(w*C)^2))\n",
"[ZoR,ZoI]=polar(Zo)\n",
"mprintf('The characteristic impedance is %f /_%fdeg',ZoR,ZoI*180/%pi)\n",
"\n",
"// Note :  There are some calculation errors in the solution presented in the book"
   ]
   }
,
{
		   "cell_type": "markdown",
		   "metadata": {},
		   "source": [
			"## Example 8.17: Transmission_Line_Ex_8_17.sce"
		   ]
		  },
  {
"cell_type": "code",
	   "execution_count": null,
	   "metadata": {
	    "collapsed": true
	   },
	   "outputs": [],
"source": [
"clc\n",
"//Chapter8\n",
"//Example8.17, page no 349\n",
"//Given\n",
"l=0.5//half line distance\n",
"Vs=10//Excitation voltage\n",
"Gamma=0.7+%i*0.3//propagation constant\n",
"[Vr,Vi]=polar(Vs*(%e^(-Gamma*l)))//vtg at mid point\n",
"mprintf('The voltage at the mid point of the line is %f /_%f ',Vr,Vi*180/%pi)\n",
""
   ]
   }
,
{
		   "cell_type": "markdown",
		   "metadata": {},
		   "source": [
			"## Example 8.18: Transmission_Line_Ex_8_18.sce"
		   ]
		  },
  {
"cell_type": "code",
	   "execution_count": null,
	   "metadata": {
	    "collapsed": true
	   },
	   "outputs": [],
"source": [
"clc\n",
"//Chapter8\n",
"//Example8.18, page no350\n",
"//Given\n",
"Zo=50// characteristic impedance\n",
"P=500e-3//Supplied power\n",
"S=1.4//VSWR on the line\n",
"Emax=sqrt(Zo*S*P)//Max vtg\n",
"\n",
"Emin=sqrt(Zo*P/S)// Min vtg\n",
"mprintf('The max voltage on line is %f V\n The min voltage on line is %f V',Emax,Emin)"
   ]
   }
,
{
		   "cell_type": "markdown",
		   "metadata": {},
		   "source": [
			"## Example 8.19: Transmission_Line_Ex_8_19.sce"
		   ]
		  },
  {
"cell_type": "code",
	   "execution_count": null,
	   "metadata": {
	    "collapsed": true
	   },
	   "outputs": [],
"source": [
"clc\n",
"//Chapter8\n",
"//Example8.19, page no 350\n",
"//Given\n",
"Zo=100// Characteristic Impedance\n",
"P=100e-3//Load power\n",
"Zr=140//Load Resistance\n",
"f=100e3// Operating freq\n",
"//a\n",
"K=(Zr-Zo)/(Zo+Zr)//Vtg Reflection coeff\n",
"\n",
"//b\n",
"S=(1+K)/(1-K)//VSWR\n",
"\n",
"//c+d\n",
"Emax=sqrt(Zr*P)//Max line vltg\n",
"Imin=Emax/Zr//Min line current\n",
"\n",
"Emin=Emax/S// Min line vltg\n",
"Imax=S*Imin//Max line current\n",
"\n",
"//e\n",
"R=14000/40\n",
"\n",
"Zr=(Zo^2)/R//\n",
"mprintf('\nThe voltage reflection coeff is %f\nThe VSWR is %f\n\n\nThe Max and min voltage and crresponding crrent is\n Emax= %fV Imin= %fmA\n Emin= %fV Imax= %fmA\n\n The Termination resistance should be %f ohm',K,S,Emax,Imin*1e3,Emin,Imax*1e3,Zr)\n",
"\n",
"\n",
"\n",
"\n",
"\n",
"\n",
"\n",
"\n",
""
   ]
   }
,
{
		   "cell_type": "markdown",
		   "metadata": {},
		   "source": [
			"## Example 8.1: Transmission_Line_Ex_8_1.sce"
		   ]
		  },
  {
"cell_type": "code",
	   "execution_count": null,
	   "metadata": {
	    "collapsed": true
	   },
	   "outputs": [],
"source": [
"clc\n",
"//Chapter8\n",
"//Example8.1, page no 313\n",
"//Given\n",
"//a\n",
"L=1.2*10^-3//distributed inductance\n",
"C=0.05*10^-6//distributed capacitance\n",
"Zo=sqrt(L/C)//Characteristic Impedance\n",
"mprintf('The characteristic Impedance is Zo= %f ohm',Zo)\n",
"Wo=1// Assumedfor ease of calculation \n",
"G=%i*sqrt(L*C)*Wo\n",
"mprintf('\nPropagation constant is Gama= j%3.2ew',G*-%i)\n",
"//b\n",
"//i\n",
"lambda=0.4e3//wavelength=Line length\n",
"c=3e8\n",
"f=c/lambda\n",
"//ii\n",
"L=L'*0.4\n",
"C=C'*0.4\n",
"v=1/(sqrt(L*C))\n",
"mprintf('\n The freq at which the line length is equal to wavelength is: %d KHz\n The velocity of propagation is: %f km/sec',f*1e-3,v*1e-3)"
   ]
   }
,
{
		   "cell_type": "markdown",
		   "metadata": {},
		   "source": [
			"## Example 8.20: Transmission_Line_Ex_8_20.sce"
		   ]
		  },
  {
"cell_type": "code",
	   "execution_count": null,
	   "metadata": {
	    "collapsed": true
	   },
	   "outputs": [],
"source": [
"clc\n",
"//Chapter8\n",
"//Example8.20, page no 352\n",
"//Given\n",
"V=0.5//receiving vtg\n",
"Vs=2//Source vtg\n",
"al=-log(V/Vs)//attenuation\n",
"\n",
"al2=al*1.5\n",
"V=Vs*%e^-al2//receiving voltage\n",
"mprintf('the receiving voltage will be %f V',V)\n",
"\n",
"\n",
"\n",
"\n",
"\n",
"\n",
"\n",
"\n",
""
   ]
   }
,
{
		   "cell_type": "markdown",
		   "metadata": {},
		   "source": [
			"## Example 8.22: Transmission_Line_Ex_8_22.sce"
		   ]
		  },
  {
"cell_type": "code",
	   "execution_count": null,
	   "metadata": {
	    "collapsed": true
	   },
	   "outputs": [],
"source": [
"clc\n",
"//Chapter8\n",
"//Example8.22, page no352\n",
"//Given\n",
"Zin=25+%i*15// Internal Impedance\n",
"Zr=70-%i*42//load\n",
"f=3e6//operating freq\n",
"v=3e8//light velocity\n",
"L=v/(4*f)//length of the line\n",
"\n",
"Zo=sqrt(Zin*Zr)//Characteristic Impedance\n",
"mprintf('The lrngth should be %d metres\nThe Characteristic Impedance should be %f ohms',L,Zo)\n",
"\n",
"\n",
"\n",
"\n",
"\n",
"\n",
"\n",
""
   ]
   }
,
{
		   "cell_type": "markdown",
		   "metadata": {},
		   "source": [
			"## Example 8.23: Transmission_Line_Ex_8_23.sce"
		   ]
		  },
  {
"cell_type": "code",
	   "execution_count": null,
	   "metadata": {
	    "collapsed": true
	   },
	   "outputs": [],
"source": [
"clc\n",
"//Chapter8\n",
"//Example8.23, page no353\n",
"//Given\n",
"//a\n",
"L=1e-3// inductance\n",
"C=61.25e-9//capacitance\n",
"Ld=44e-3//coil inductance\n",
"d=2//distance intervals after which coils are added\n",
"Lt=(L*2)+(Ld*2)//total inductance\n",
"Ct=C*2//total capacitance\n",
"fc=(%pi*sqrt(Lt*Ct))^-1//cut off freq\n",
"\n",
"//b\n",
"I=100e-3//milliameter range\n",
"R=1//milliameter resistance\n",
"Zo=100//characteristic impedance\n",
"Zin=(Zo^2)/R//input impedance\n",
"\n",
"Er=I*R//\n",
"Es=Er*sqrt(Zin/Zo)\n",
"mprintf('The cut-off freq is %f KHz \n the voltage being measured is %d V',fc*1e-3,Es)\n",
"\n",
""
   ]
   }
,
{
		   "cell_type": "markdown",
		   "metadata": {},
		   "source": [
			"## Example 8.24: Transmission_Line_Ex_8_24.sce"
		   ]
		  },
  {
"cell_type": "code",
	   "execution_count": null,
	   "metadata": {
	    "collapsed": true
	   },
	   "outputs": [],
"source": [
"clc\n",
"//Chapter8\n",
"//Example8.24, page no 354\n",
"//Given\n",
"f=20e6//tuned freq\n",
"ZR=100//Equivalent aerial Resistance\n",
"Zin=500//input impedance\n",
"c=3e8\n",
"lambda=c/f\n",
"l=lambda/4//lambda/4 Transformer\n",
"\n",
"Zo=sqrt(Zin*ZR)//Characteristic impedance\n",
"mprintf('the Length of the transformer(stub) is %f metres\n The characteristic impedance of this transformer is %d ohms',l,round(Zo))"
   ]
   }
,
{
		   "cell_type": "markdown",
		   "metadata": {},
		   "source": [
			"## Example 8.25: Transmission_Line_Ex_8_25.sce"
		   ]
		  },
  {
"cell_type": "code",
	   "execution_count": null,
	   "metadata": {
	    "collapsed": true
	   },
	   "outputs": [],
"source": [
"clc\n",
"//Chapter8\n",
"//Example8.25, page no 354\n",
"//Given\n",
"lambda=5//wavelength\n",
"Zo=200//Characteristic impedance\n",
"Zo1=100//Zo'\n",
"ZL=50+(%i*50)// load impedance\n",
"l1=0.4*lambda\n",
"l2=0.2*lambda\n",
"Beta=(2*%pi/lambda)// phase difference\n",
"Z2=Zo1*(((ZL*cos(Beta*l2))+(%i*Zo1*sin(Beta*l2)))/((Zo1*cos(Beta*l2))+(%i*ZL*sin(Beta*l2))))//I/p Impedance offered by I2toI1\n",
"Z1=Zo*(((Z2*cos(Beta*l1))+(%i*Zo*sin(Beta*l1)))/((Zo*cos(Beta*l1))+(%i*Z2*sin(Beta*l1))))//I/p impedance\n",
"mprintf('The sending end (Source end)impedance (Zl)is: '),disp(Z1)\n",
"\n",
"\n",
""
   ]
   }
,
{
		   "cell_type": "markdown",
		   "metadata": {},
		   "source": [
			"## Example 8.2: Transmission_Line_Ex_8_2.sce"
		   ]
		  },
  {
"cell_type": "code",
	   "execution_count": null,
	   "metadata": {
	    "collapsed": true
	   },
	   "outputs": [],
"source": [
"clc\n",
"//Chapter8\n",
"//Example8.2, page no 314\n",
"//Given\n",
"v=3e8// velocty of light\n",
"f=1.2e6// Operating Freq\n",
"lambda=v/f\n",
"//disp(lambda)\n",
"l=100// length of the Tx-Line\n",
"phi=2*(%pi*l)/(lambda)// Phase shift in degrees\n",
"Zo=500// Characteristic impedance\n",
"//a Open circuited Line\n",
"\n",
"Zin=-%i*Zo*(cos(phi)/sin(phi))\n",
"\n",
"//b Short circuited Line\n",
"Z1in=%i*Zo*tan(phi)\n",
"mprintf('The phase shift is: %d degrees\n Open Circuited line impedance: -j%f ohms\n Short Circuited line impedance -j%f ohms',phi*180/%pi,-Zin*%i,Z1in*%i)"
   ]
   }
,
{
		   "cell_type": "markdown",
		   "metadata": {},
		   "source": [
			"## Example 8.3: Transmission_Line_Ex_8_3.sce"
		   ]
		  },
  {
"cell_type": "code",
	   "execution_count": null,
	   "metadata": {
	    "collapsed": true
	   },
	   "outputs": [],
"source": [
"\n",
"clc\n",
"//Chapter8\n",
"//Example8.3, page no 315\n",
"//Given\n",
"f=1600\n",
"w=1000\n",
"Zoc=2460*exp(%i*-86.5*%pi/180)// Open circuited Line impedance\n",
"Zsc=21.5*exp(%i*14*%pi/180)// Short circuited Line impedance\n",
"Zo=sqrt(Zoc*Zsc)// Characteristic impedance\n",
"A=real(sqrt(Zsc/Zoc))// tan(a+ jBeta) = A + jB\n",
"B=imag(sqrt(Zsc/Zoc))\n",
"l=1/4\n",
"alpha=(1/(4*l))*log(((1+A^2+B)^2)/(((1-A)^2)+B^2)) //Attenuation Constant\n",
"Beta=(1/(2*l))*atan((2*B)/(1-A^2-B))  //phase constant\n",
"\n",
"//the tx-Line parameters\n",
"R=real(Zo*complex(alpha,Beta))\n",
"L=imag(Zo*complex(alpha,Beta))\n",
"G=real(complex(alpha,Beta)/Zo)\n",
"C=imag(complex(alpha,Beta)/Zo)\n",
"mprintf('The Characteristic impedance:Zo= ') ,disp(Zo)\n",
"mprintf('The value of Alpha= %f nepere/km\n',alpha)\n",
"mprintf('The value of Beta= %f \n',Beta)\n",
"mprintf('the tx-Line parameters are\nR= %f ohms\nL= %f mH\nG= %f umhos\nC= %f mF\n',R,L,G*1e6,C*1e3)\n",
"\n",
"// Note :  There are some calculation errors in the solution presented in the book"
   ]
   }
,
{
		   "cell_type": "markdown",
		   "metadata": {},
		   "source": [
			"## Example 8.4: Transmission_Line_Ex_8_4.sce"
		   ]
		  },
  {
"cell_type": "code",
	   "execution_count": null,
	   "metadata": {
	    "collapsed": true
	   },
	   "outputs": [],
"source": [
"clc\n",
"//Chapter8\n",
"//Example8.4, page no 316\n",
"//Given\n",
"d=0.7// distance between two insertions\n",
"Ld_m= (80e-3)*(10/7)//Loading coil inductance\n",
"//disp(Ld_m)\n",
"Rd_m=100/7//Loading coil resistance\n",
"//disp(Rd_m)\n",
"R=20+Rd_m//Line resistance \n",
"L=Ld_m// Line inductance\n",
"C=0.05e-6// Line Capacitance\n",
"alfa=0.5*R*sqrt(C/L)//Attenuation Constant\n",
"//\n",
"fc=(%pi*d*sqrt(L*C))^-1//cut off freq\n",
"mprintf('The atenuation constant is %f nepers/mile\nThe Cut-off Freq is %d KHz',alfa,fc*1e-3)\n",
"\n",
"// Note :  There are some calculation errors in the solution presented in the book"
   ]
   }
,
{
		   "cell_type": "markdown",
		   "metadata": {},
		   "source": [
			"## Example 8.5: Transmission_Line_Ex_8_5.sce"
		   ]
		  },
  {
"cell_type": "code",
	   "execution_count": null,
	   "metadata": {
	    "collapsed": true
	   },
	   "outputs": [],
"source": [
"clc\n",
"//Chapter8\n",
"//Example8.5, page no 317\n",
"//Given\n",
"a=0.7//attenuation constant\n",
"b=0.3//phase constant\n",
"Gamma=a+(%i*b)//propagation constant\n",
"l=0.5// half length of line( for midpoint)\n",
"Vs=10// Excitation voltage\n",
"V_mod=Vs*(%e^(-a*l))//Magnitude of the Vs\n",
"\n",
"phi=b*l*180/%pi//phase shift\n",
"V=V_mod*(%e^(-%i*(phi*%pi/180)))//voltage at the mid point\n",
"mprintf('the voltage at the mid point of the line is \n%f /_-%fdegrees   Volts',V,phi)\n",
"\n",
"// Note :  There are some calculation errors in the solution presented in the book"
   ]
   }
,
{
		   "cell_type": "markdown",
		   "metadata": {},
		   "source": [
			"## Example 8.6: Transmission_Line_Ex_8_6.sce"
		   ]
		  },
  {
"cell_type": "code",
	   "execution_count": null,
	   "metadata": {
	    "collapsed": true
	   },
	   "outputs": [],
"source": [
"clc\n",
"//Chapter8\n",
"//Example8.6, page no 317\n",
"//GivenR=0.01\n",
"R=0.01,l=1e3\n",
"L=1e-6\n",
"G=1e-6\n",
"C=0.001e-6\n",
"f=1.59e3// operating freq\n",
"w=2*%pi*f// angular freq\n",
"//a\n",
"Zo=sqrt((R+(%i*w*L))*0.35/(G+(%i*w*C)))//characteristic impedance\n",
"[Z0r,Z0i]=polar(Zo)\n",
"//b\n",
"\n",
"Beta=sqrt(0.5*(sqrt((((R^2)+(round(w^2)*(L^2)))*(round(G^2)+(round(w^2)*(C^2)))))-(round(R*G)-((w^2)*L*C))))//Phase constant\n",
"\n",
"v=w/Beta//phase velocity\n",
"\n",
"//c\n",
"Alpha=sqrt(0.5*(sqrt((((R^2)+((w^2)*(L^2)))*((G^2)+((w^2)*(C^2)))))+((R*G)-((w^2)*L*C))))//attenuation constant\n",
"Vs=1//Assumed for easeof calculation\n",
"A=(Vs-(Vs*exp(-Alpha*l)))*100\n",
"mprintf('The characteristic impedance Zo= %f /_%f \n',Z0r,Z0i*180/%pi)\n",
"mprintf('The Phase velocity is: v= %3.2e m/sec\n Percent decrease in the voltage is %f%c',v,A,'%')\n",
"\n",
"// Note :  There are some calculation errors in the solution presented in the book"
   ]
   }
],
"metadata": {
		  "kernelspec": {
		   "display_name": "Scilab",
		   "language": "scilab",
		   "name": "scilab"
		  },
		  "language_info": {
		   "file_extension": ".sce",
		   "help_links": [
			{
			 "text": "MetaKernel Magics",
			 "url": "https://github.com/calysto/metakernel/blob/master/metakernel/magics/README.md"
			}
		   ],
		   "mimetype": "text/x-octave",
		   "name": "scilab",
		   "version": "0.7.1"
		  }
		 },
		 "nbformat": 4,
		 "nbformat_minor": 0
}
