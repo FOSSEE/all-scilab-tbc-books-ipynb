{
"cells": [
 {
		   "cell_type": "markdown",
	   "metadata": {},
	   "source": [
       "# Chapter 6: Radio Receivers"
	   ]
	},
{
		   "cell_type": "markdown",
		   "metadata": {},
		   "source": [
			"## Example 6.1: Radio_Receivers_Ex_6_1.sce"
		   ]
		  },
  {
"cell_type": "code",
	   "execution_count": null,
	   "metadata": {
	    "collapsed": true
	   },
	   "outputs": [],
"source": [
"clc\n",
"//Chapter8\n",
"//Example8.15, page no 262\n",
"//Given\n",
"//Vm(t),Vc(t),Vmod(t)\n",
"fm=10e3//modulating freq\n",
"BW=2*fm// Bandwidth\n",
"fc=100*BW//Carrier freq\n",
"mprintf('Carrier freq for the BW to be 1%c of fc is: %d kHz','%',fc/1000)\n",
""
   ]
   }
,
{
		   "cell_type": "markdown",
		   "metadata": {},
		   "source": [
			"## Example 6.2: Radio_Receivers_Ex_6_2.sce"
		   ]
		  },
  {
"cell_type": "code",
	   "execution_count": null,
	   "metadata": {
	    "collapsed": true
	   },
	   "outputs": [],
"source": [
"clc\n",
"//Chapter8\n",
"//Example6.2, page no 262\n",
"//Given\n",
"fmax=1600e3,fmin=500e3,IF=465e3\n",
"//i\n",
"fo1max=fmax+IF,fo1min=fmin+IF\n",
"C1max_C1min=(fo1max/fo1min)^2\n",
"//ii\n",
"fo2max=fmax-IF,fo2min=fmin-IF\n",
"C2max_C2min=(fo2max/fo2min)^2\n",
"mprintf('a)\nTuning capacitor range is: %f\nb)\nTuning capacitor range is: %d',C1max_C1min,C2max_C2min)"
   ]
   }
],
"metadata": {
		  "kernelspec": {
		   "display_name": "Scilab",
		   "language": "scilab",
		   "name": "scilab"
		  },
		  "language_info": {
		   "file_extension": ".sce",
		   "help_links": [
			{
			 "text": "MetaKernel Magics",
			 "url": "https://github.com/calysto/metakernel/blob/master/metakernel/magics/README.md"
			}
		   ],
		   "mimetype": "text/x-octave",
		   "name": "scilab",
		   "version": "0.7.1"
		  }
		 },
		 "nbformat": 4,
		 "nbformat_minor": 0
}
