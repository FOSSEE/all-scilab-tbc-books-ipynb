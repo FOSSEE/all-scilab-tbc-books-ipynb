{
"cells": [
 {
		   "cell_type": "markdown",
	   "metadata": {},
	   "source": [
       "# Chapter 5: Radio Transmission System"
	   ]
	},
{
		   "cell_type": "markdown",
		   "metadata": {},
		   "source": [
			"## Example 5.1: RTS_Ex_5_1.sce"
		   ]
		  },
  {
"cell_type": "code",
	   "execution_count": null,
	   "metadata": {
	    "collapsed": true
	   },
	   "outputs": [],
"source": [
"clc\n",
"//Chapter8\n",
"//Example8.15, page no 230\n",
"//Given\n",
"//b\n",
"fm=1e2//modulation freq\n",
"Phimax=10*%pi/180// Max Phase deviation\n",
"//i\n",
"Freq_dev=Phimax*fm// Freq deviation\n",
"//ii\n",
"Mul_fact=30e3/Freq_dev// Multification factor\n",
"mprintf('Freq deviation is %f Hz\n  Multification factor is %d\n corresponding modified max freq deviation is 30114kHz',Freq_dev,Mul_fact)"
   ]
   }
],
"metadata": {
		  "kernelspec": {
		   "display_name": "Scilab",
		   "language": "scilab",
		   "name": "scilab"
		  },
		  "language_info": {
		   "file_extension": ".sce",
		   "help_links": [
			{
			 "text": "MetaKernel Magics",
			 "url": "https://github.com/calysto/metakernel/blob/master/metakernel/magics/README.md"
			}
		   ],
		   "mimetype": "text/x-octave",
		   "name": "scilab",
		   "version": "0.7.1"
		  }
		 },
		 "nbformat": 4,
		 "nbformat_minor": 0
}
