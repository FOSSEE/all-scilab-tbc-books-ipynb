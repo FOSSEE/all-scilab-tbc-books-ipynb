{
"cells": [
 {
		   "cell_type": "markdown",
	   "metadata": {},
	   "source": [
       "# Chapter 3: Modulation"
	   ]
	},
{
		   "cell_type": "markdown",
		   "metadata": {},
		   "source": [
			"## Example 3.10: Modulation_Ex_3_10.sce"
		   ]
		  },
  {
"cell_type": "code",
	   "execution_count": null,
	   "metadata": {
	    "collapsed": true
	   },
	   "outputs": [],
"source": [
"\n",
"clc\n",
"//Answers from the book are little deviated but the evaluated values in the scilab are correct results\n",
"//Chapter3: Modulation\n",
"//Example3.10, page no 143\n",
"//Given\n",
"//b\n",
"Pc=50e3//Carrier power\n",
"Z=36 + %i*40//base impedance of the antenna\n",
"Ma=1//modulation depth\n",
"Pmod=Pc*(1+((Ma^2)/2))//power delivered to the antenna under 100% modulation\n",
"//i\n",
"R=36//resistance of the antenna \n",
"Irms=sqrt(Pmod/R)//Antenna Current\n",
"\n",
"//ii\n",
"Ic=sqrt(Pc/R)//RMS carrier current \n",
"\n",
"Icm=Ic*sqrt(2)// Peak carrier current \n",
"Imod=2*Icm//Modulated current\n",
"\n",
"Theta=atan(40/36)*180/%pi// from real and imaginary components of Z\n",
"Vbm100=Imod*Z//Peak base output voltage for 100% modulation\n",
"[Re_Vb,Im_Vb]=polar(Vbm100)\n",
"\n",
"//iii\n",
"Ma=0.5\n",
"Imod=Icm*(1+0.5)\n",
"\n",
"Vbm50=Imod*Z\n",
"[Re_Vb1,Im_Vb1]=polar(Vbm50)\n",
"mprintf('Antenna current for full modulation is: %f amp\nPeak base voltage is: %f/_%d volts\nPeak base voltage is: %f/_%d volts',Irms,Re_Vb,Theta,Re_Vb1,Theta)\n",
"// The Ans is little deviated from that of book as the decimal places considered while calculating at different stages might be different "
   ]
   }
,
{
		   "cell_type": "markdown",
		   "metadata": {},
		   "source": [
			"## Example 3.11: Modulation_Ex_3_11.sce"
		   ]
		  },
  {
"cell_type": "code",
	   "execution_count": null,
	   "metadata": {
	    "collapsed": true
	   },
	   "outputs": [],
"source": [
"clf();\n",
"clc\n",
"//Chapter3: Modulation\n",
"//Example3.11, page no 144\n",
"//Given\n",
"deff('[y]=f(x)','y=Ec*(1+ma*(sin(wm*x)))*sin(wc*x)')\n",
"Ec=10,ma=0.5,wm=10000*%pi,wc=2*%pi*1e7\n",
"x=[0:0.01:20]*%pi/10;\n",
"subplot(2,1,1)\n",
"fplot2d(x,f)\n",
"xlabel('t', 'fontsize', 3);\n",
"ylabel('Modulated Wave', 'fontsize', 3, 'color', 'red');\n",
"Fc=wc/(2*%pi)\n",
"Fm=wm/(2*%pi)\n",
"Fusb=(wm+wc)/(2*%pi)\n",
"Flsb=(wm-wc)/(2*%pi)\n",
"mprintf('USB freq=%d k5Hz\nUSB amplitude=%f V\nLSB freq=%d kHz\nLSB amplitude=%f V\nCarrier amplitude=%d V',Fusb*1e-3,2.5,Flsb*-1e-3,2.5,10)\n",
"F=[0,2.5,10,2.5,0]\n",
"T=[-2,-1,0,1,2]\n",
"subplot(2,1,2)\n",
"plot2d3(T,F,5)\n",
"xlabel('Freq', 'fontsize', 3);\n",
"ylabel('Amplitude', 'fontsize', 3, 'color', 'blue');\n",
"xlabel('fc-fm                              fc                                fc+fm', 'fontsize', 2);"
   ]
   }
,
{
		   "cell_type": "markdown",
		   "metadata": {},
		   "source": [
			"## Example 3.12: Modulation_Ex_3_12.sce"
		   ]
		  },
  {
"cell_type": "code",
	   "execution_count": null,
	   "metadata": {
	    "collapsed": true
	   },
	   "outputs": [],
"source": [
"clc\n",
"//Chapter3: Modulation\n",
"//Example3.12 page no 145\n",
"//Given\n",
"Pc=9e3//unmodulated carrier power\n",
"Pt=10.125e3//Modulated carrier power\n",
"Ma=sqrt(2*((Pt/Pc)-1))//depth of modulation\n",
"mprintf('The depth of modulation is: %d%c',Ma*100,'%')"
   ]
   }
,
{
		   "cell_type": "markdown",
		   "metadata": {},
		   "source": [
			"## Example 3.13: Modulation_Ex_3_13.sce"
		   ]
		  },
  {
"cell_type": "code",
	   "execution_count": null,
	   "metadata": {
	    "collapsed": true
	   },
	   "outputs": [],
"source": [
"clc\n",
"//Chapter3: Modulation\n",
"//Example3.13 page no 148\n",
"//Given\n",
"Pt=5e3//carrier power for 95% modulation\n",
"Ma=0.95\n",
"Pc=Pt/(1+((Ma^2)/2))//carrier power\n",
"Ma=0.2//average modulation by speech signal\n",
"Psb=(Ma^2)*Pc/2//the power n the sideband\n",
"Pout=Psb/2// because one of the side band is suppressed\n",
"mprintf('The power output is: %f W',Pout)"
   ]
   }
,
{
		   "cell_type": "markdown",
		   "metadata": {},
		   "source": [
			"## Example 3.14: Modulation_Ex_3_14.sce"
		   ]
		  },
  {
"cell_type": "code",
	   "execution_count": null,
	   "metadata": {
	    "collapsed": true
	   },
	   "outputs": [],
"source": [
"clc\n",
"//Chapter3: Modulation\n",
"//Example3.14 page no 152\n",
"//Given\n",
"//Phi=(wc*t+Mf*sin(wmt))....instantaneous phase of FM\n",
"fm=5000//modulating freq\n",
"deltaf=50e3//freq deviation\n",
"deltaPhi1=deltaf/fm// Advance or retard in phase\n",
"\n",
"fm=100//modulating freq in second signal\n",
"deltaPhi2=deltaf/fm\n",
"mprintf('DeltaPhi1= %d rad\nDeltaPhi2=%d rad\n',deltaPhi1,deltaPhi2)"
   ]
   }
,
{
		   "cell_type": "markdown",
		   "metadata": {},
		   "source": [
			"## Example 3.15: Modulation_Ex_3_15.sce"
		   ]
		  },
  {
"cell_type": "code",
	   "execution_count": null,
	   "metadata": {
	    "collapsed": true
	   },
	   "outputs": [],
"source": [
"clc\n",
"//Chapter3: Modulation\n",
"//Example3.14 page no 157\n",
"//Given\n",
"//e=Ec(1+0.4cos(2pie3*t))*sin(2pie7*t)\n",
"fm=1000//modulating s/g freq\n",
"deltaTheta=2*atan(0.4)//peak phase deviation\n",
"\n",
"deltaF=deltaTheta*fm//Peak freq deviation\n",
"\n",
"Ec=1\n",
"Er=sqrt((Ec^2)*(1+(0.4^2)))\n",
"m=(Er-Ec)/Ec//depth of residual AM \n",
"\n",
"AMFr=2*fm// freq ofresidual AM\n",
"mprintf('Peak Phase Deviation: %f rad\nPeak Freq Deviation: %d Hz\nDepth of residual AM: %f\nResidual AM freq:%d kHz',deltaTheta,deltaF,(round(m*100)/100),AMFr*1e-3)"
   ]
   }
,
{
		   "cell_type": "markdown",
		   "metadata": {},
		   "source": [
			"## Example 3.16: Modulation_Ex_3_16.sce"
		   ]
		  },
  {
"cell_type": "code",
	   "execution_count": null,
	   "metadata": {
	    "collapsed": true
	   },
	   "outputs": [],
"source": [
"clc\n",
"//Chapter3: Modulation\n",
"//Example3.16 page no 170\n",
"//Given\n",
"deltaF=25e3//freq deviation\n",
"//a\n",
"fm=100//modulation signal freq\n",
"mf=deltaF/fm// Max phase deviation\n",
"disp('a)')\n",
"mprintf('Max phase deviation is:%d rad',mf)\n",
"//b\n",
"fm=10e3//modulation signal freq\n",
"mf=deltaF/fm//Max phase deviation\n",
"\n",
"disp('b)')\n",
"mprintf('Max phase deviation is:%f rad',mf)"
   ]
   }
,
{
		   "cell_type": "markdown",
		   "metadata": {},
		   "source": [
			"## Example 3.17: Modulation_Ex_3_17.sce"
		   ]
		  },
  {
"cell_type": "code",
	   "execution_count": null,
	   "metadata": {
	    "collapsed": true
	   },
	   "outputs": [],
"source": [
"clc\n",
"//Chapter3: Modulation\n",
"//Example3.17, page no 171\n",
"//Given\n",
"gm=0.1e-3// trans-conductance variation A/V\n",
"C=0.5e-12// capactance between anode and grid\n",
"R=1e3// resistance\n",
"fo=10e6// oscillator freq\n",
"Vrms=1.414//AF RMS voltage \n",
"Vp=sqrt(2)*Vrms//Peak voltage\n",
"Ct=100e-12//tank capacitance\n",
"deltaC=gm*C*R*Vp\n",
"\n",
"deltaF=fo*(deltaC/(2*Ct))// maximum freq deviation\n",
"mprintf('The maximum freq deviation is: %d kHz',round(deltaF/1000))"
   ]
   }
,
{
		   "cell_type": "markdown",
		   "metadata": {},
		   "source": [
			"## Example 3.18: Modulation_Ex_3_18.sce"
		   ]
		  },
  {
"cell_type": "code",
	   "execution_count": null,
	   "metadata": {
	    "collapsed": true
	   },
	   "outputs": [],
"source": [
"clc\n",
"//Chapter3: Modulation\n",
"//Example3.18, page no 172\n",
"//Given\n",
"deltaF=1e6// max freq deviation\n",
"fm=10e3//modulating freq\n",
"mf=(2*deltaF)/fm// modulation coefficient\n",
"BW=mf*fm// bandwidth\n",
"mprintf('The approximate bandwidth is: %d MHz',BW/1e6)"
   ]
   }
,
{
		   "cell_type": "markdown",
		   "metadata": {},
		   "source": [
			"## Example 3.19: Modulation_Ex_3_19.sce"
		   ]
		  },
  {
"cell_type": "code",
	   "execution_count": null,
	   "metadata": {
	    "collapsed": true
	   },
	   "outputs": [],
"source": [
"clc\n",
"//Chapter3: Modulation\n",
"//Example3.19, page no 172\n",
"//Given\n",
"deltaF=75e3// max freq deviation\n",
"fm=15e3//modulation freq\n",
"mf=(2*deltaF)/fm// freq modulation depth\n",
"BW=mf*fm// Bandwidth\n",
"mprintf('The approximate bandwidth is: %d kHz',BW/1e3)"
   ]
   }
,
{
		   "cell_type": "markdown",
		   "metadata": {},
		   "source": [
			"## Example 3.1: Modulation_Ex_3_1.sce"
		   ]
		  },
  {
"cell_type": "code",
	   "execution_count": null,
	   "metadata": {
	    "collapsed": true
	   },
	   "outputs": [],
"source": [
"clc\n",
"//Chapter3: Modulation\n",
"//Example3.1, page no 135\n",
"//Given\n",
"Ic=10 //carrier current in Amps\n",
"Imod=11.6// Current after modulation\n",
"Rl=1//Assumed load in ohm\n",
"Pmod=Rl*Imod^2//power before modulation\n",
"Ma= sqrt(2*((Pmod/Ic^2)-1))//percentage modulation\n",
"Pc=10\n",
"Pmod=Pc*(1+(Ma^2/2))//power after modulation\n",
"mprintf('percentage modulation is:%f%c\n Power after modulation is:%f watts',Ma*100,'%',Pmod)"
   ]
   }
,
{
		   "cell_type": "markdown",
		   "metadata": {},
		   "source": [
			"## Example 3.21: Modulation_Ex_3_21.sce"
		   ]
		  },
  {
"cell_type": "code",
	   "execution_count": null,
	   "metadata": {
	    "collapsed": true
	   },
	   "outputs": [],
"source": [
"clc\n",
"//Chapter3: Modulation\n",
"//Example3.21, page no 173\n",
"//Given\n",
"deltaF=75e3//freq deviation\n",
"fm=15e3// modulating freq\n",
"mf=deltaF/fm\n",
"BW=2*mf*fm// Bandwidth\n",
"GB=25e3//Guard Band\n",
"BWo=BW+(2*GB)// Overall bandwidth\n",
"mprintf('Overall bandwidth including guard band is %d kHz',BWo/1e3)"
   ]
   }
,
{
		   "cell_type": "markdown",
		   "metadata": {},
		   "source": [
			"## Example 3.25: Modulation_Ex_3_25.sce"
		   ]
		  },
  {
"cell_type": "code",
	   "execution_count": null,
	   "metadata": {
	    "collapsed": true
	   },
	   "outputs": [],
"source": [
"clc\n",
"//Chapter3: Modulation\n",
"//Example3.25, pageno 175\n",
"//Given\n",
"//em=3sin(2*pi*1000t)+5cos(2*pi*3000t)\n",
"//ec=50sin(2*pi*500e3*t)\n",
"m1=0.06//(sine wave amplitude/ peak carrier voltage)\n",
"m2=0.1//(cosine wave amplitude/ peak carrier voltage)\n",
"Vc=50//Carrier voltage\n",
"R=50//load resistance\n",
"Pc=(Vc^2)/(2*R)//Peak carrier power\n",
"Pt=Pc*(1+((m1^2+m2^2)/2))//Total power after modulation\n",
"mprintf('Average power is: %f watts',Pt)\n",
"F=[0,2.5,1.5,50,1.5,2.5,0]\n",
"T=[490,497,499,500,501,503,510]\n",
"plot2d3(T,F,5)\n",
"xlabel('Freq', 'fontsize',3);\n",
"ylabel('Amplitude', 'fontsize',3, 'color', 'blue');"
   ]
   }
,
{
		   "cell_type": "markdown",
		   "metadata": {},
		   "source": [
			"## Example 3.26: Modulation_Ex_3_26.sce"
		   ]
		  },
  {
"cell_type": "code",
	   "execution_count": null,
	   "metadata": {
	    "collapsed": true
	   },
	   "outputs": [],
"source": [
"clc\n",
"//Chapter3: Modulation\n",
"//Example3.26, page no 176\n",
"//Given\n",
"mp=0.1//Modulating index\n",
"fm=400//Modulating signal freq\n",
"deltaF=mp*fm//Max freq deviation\n",
"//disp(deltaF)\n",
"ReqDev=50e3// Required deviation\n",
"MF=ReqDev/deltaF// multiplication factor\n",
"mprintf('Required Deviation is: %d kHz\n',ReqDev/1e3)\n",
"mprintf('Required Multipication Factor is: 5*5*5*5*2')\n",
""
   ]
   }
,
{
		   "cell_type": "markdown",
		   "metadata": {},
		   "source": [
			"## Example 3.27: Modulation_Ex_3_27.sce"
		   ]
		  },
  {
"cell_type": "code",
	   "execution_count": null,
	   "metadata": {
	    "collapsed": true
	   },
	   "outputs": [],
"source": [
"clc\n",
"//Chapter3: Modulation\n",
"//Example3.27, page no 176\n",
"//Given\n",
"Q=100 //Q factor\n",
" fc=1000e3// Carrier freq\n",
"fsb1=999e3//lower Side band freq\n",
"fsb2=1001e3//Upper side Band freq\n",
"ma=0.5//Modulation depth of signal current\n",
"Ma=ma/1.019// Expression for Ma after simplification\n",
"mprintf('The Depth of modulation across the \n circuit is : Ma= %f%c',Ma*100,'%')\n",
"\n",
"// Note :  There are some calculation errors in the solution presented in the book"
   ]
   }
,
{
		   "cell_type": "markdown",
		   "metadata": {},
		   "source": [
			"## Example 3.28: Modulation_Ex_3_28.sce"
		   ]
		  },
  {
"cell_type": "code",
	   "execution_count": null,
	   "metadata": {
	    "collapsed": true
	   },
	   "outputs": [],
"source": [
"clc\n",
"//Chapter3: Modulation\n",
"//Example3.28, page no 177\n",
"//Given\n",
"R=1//Antenna Resistance assumed to be 1 ohm for ease of calculation\n",
"Ic=10.8// current with no modulation\n",
"Pc=Ic^2*R//power with no modulation\n",
"It=12.15//modulated current\n",
"Pt=It^2*R// modulated power\n",
"ma=(sqrt(2*(((It/Ic)^2)-1)))//modulation depth)\n",
"\n",
"mprintf('Depth of modulation:%f %c',round(1000*ma)/10,'%');"
   ]
   }
,
{
		   "cell_type": "markdown",
		   "metadata": {},
		   "source": [
			"## Example 3.29: Modulation_Ex_3_29.sce"
		   ]
		  },
  {
"cell_type": "code",
	   "execution_count": null,
	   "metadata": {
	    "collapsed": true
	   },
	   "outputs": [],
"source": [
"clc\n",
"//Chapter3: Modulation\n",
"//Example3.29, page no 177\n",
"//Given\n",
"Pc=100e3//Carrier power\n",
"ma=0.5//Depth of modulation\n",
"Pt=Pc*(1+((ma^2)/2))//total RF power\n",
"mprintf('Total RF power delivered is:Pt= %f kW',Pt/1e3)"
   ]
   }
,
{
		   "cell_type": "markdown",
		   "metadata": {},
		   "source": [
			"## Example 3.2: Modulation_Ex_3_2.sce"
		   ]
		  },
  {
"cell_type": "code",
	   "execution_count": null,
	   "metadata": {
	    "collapsed": true
	   },
	   "outputs": [],
"source": [
"clc\n",
"//Chapter3: Modulation\n",
"//Example3.2, page no 135\n",
"//Given\n",
"Pc=9e3// Tx Power without modulation\n",
"Pmod=10.125e3//Tx Power after modulation\n",
"Ma= sqrt(2*((Pmod/Pc)-1))//depth of (percentage) modulation\n",
"mprintf('Depth of modulation is:%f',Ma)"
   ]
   }
,
{
		   "cell_type": "markdown",
		   "metadata": {},
		   "source": [
			"## Example 3.30: Modulation_Ex_3_30.sce"
		   ]
		  },
  {
"cell_type": "code",
	   "execution_count": null,
	   "metadata": {
	    "collapsed": true
	   },
	   "outputs": [],
"source": [
"clc\n",
"//Chapter3: Modulation\n",
"//Example3.30, page no 178\n",
"//Given\n",
"Pt=100e3// Total power\n",
"ma=0.9//Depth of modulation\n",
"Pc=Pt/(1+((ma^2)/2))//Carrier power\n",
"Psb=Pt-Pc// Intelligence power i.e sideband power\n",
"mprintf('Carrier power:%f kW\nThe Intelligence power: %f kW',Pc/1000,Psb/1000)"
   ]
   }
,
{
		   "cell_type": "markdown",
		   "metadata": {},
		   "source": [
			"## Example 3.31: Modulation_Ex_3_31.sce"
		   ]
		  },
  {
"cell_type": "code",
	   "execution_count": null,
	   "metadata": {
	    "collapsed": true
	   },
	   "outputs": [],
"source": [
"clc\n",
"//Chapter3: Modulation\n",
"//Example3.19, page no 178\n",
"//Given\n",
"R=1// load resistance\n",
"Eo=100//RF voltage\n",
"Po=Eo^2/R//Carrier power\n",
"E=110//Modulated RMS voltage\n",
"Pt=E^2/R//Total modulated power\n",
"ma=sqrt(2*((Pt/Po)-1))// Depth of modulation\n",
"mprintf('Modulation Index is: %f %c',ma*100,'%')"
   ]
   }
,
{
		   "cell_type": "markdown",
		   "metadata": {},
		   "source": [
			"## Example 3.3: Modulation_Ex_3_3.sce"
		   ]
		  },
  {
"cell_type": "code",
	   "execution_count": null,
	   "metadata": {
	    "collapsed": true
	   },
	   "outputs": [],
"source": [
"clc\n",
"//Chapter3: Modulation\n",
"//Example3.3\n",
"//Given\n",
"M1=0.2//depth of modulation for first tone\n",
"M2=0.4//depth of modulation for second tone\n",
"Pc=1200//Tx Power\n",
"Pmod=Pc*(1+M1^2/2+M2^2/2)//total power radiated after modulation by both the tones\n",
"mprintf('The total power radiated is %d watts',Pmod)"
   ]
   }
,
{
		   "cell_type": "markdown",
		   "metadata": {},
		   "source": [
			"## Example 3.4: Modulation_Ex_3_4.sce"
		   ]
		  },
  {
"cell_type": "code",
	   "execution_count": null,
	   "metadata": {
	    "collapsed": true
	   },
	   "outputs": [],
"source": [
"clc\n",
"//Chapter3: Modulation\n",
"//Example3.4, page no 138\n",
"//Given\n",
"Ebb=2e3//DC plate supply\n",
"Ecc=-500//DC grid bias\n",
"Ib=67e-3//DC plate current\n",
"Ic=30e-3//DC grid current\n",
"Egm=750//RF peak grid voltage\n",
"Pout=75//RF Power output\n",
"Ma=0.75//Depth of modulation\n",
"Paf=(Ma^2*Ebb*Ib)/(2*1)//modulating power required from the audio source\n",
"Pdc=Ebb*Ib//Power supplied by DC source\n",
"Zm=Ebb^2/Pdc//Modulator Impedance\n",
"\n",
"Pd=Pdc+Paf-Pout//Plate dissipation\n",
"mprintf('modulating power required from the audio source\n is:%f watts\n Modulator Impedance is:%f ohm\n Plate dissipation is:%f watts',Paf,Zm,Pd)"
   ]
   }
,
{
		   "cell_type": "markdown",
		   "metadata": {},
		   "source": [
			"## Example 3.5: Modulation_Ex_3_5.sce"
		   ]
		  },
  {
"cell_type": "code",
	   "execution_count": null,
	   "metadata": {
	    "collapsed": true
	   },
	   "outputs": [],
"source": [
"clc\n",
"//Chapter3: Modulation\n",
"//Example3.5b, page no 139\n",
"//Given\n",
"Pd=944//Anode dissipation of the class C amplifier in watts\n",
"Ma=0.6//modulation depth,\n",
"Etta=0.6//efficiency\n",
"Pout=(Etta*Pd/(1-Etta))//power dissipation at 60% modulation\n",
"Pc=Pout/(1+(Ma^2/2))//Tx power\n",
"Psb=Pout-Pc\n",
"Pdc1=Pc/Etta//DC power inputto PA\n",
"Paf=Psb/Etta// modulation power input to PA\n",
"Eff=0.25// efficiency of the modulator\n",
"Pdc2=Paf/Eff//DC power input to modulator\n",
"Pdct=Pdc1+Pdc2//Total DC power to the system\n",
"Effo=Pout/Pdct//Overall Efficiency\n",
"Ma=1// 100% modulation\n",
"Pt=Pc*(1+(Ma^2)/2)\n",
"Psb=(Pc*Ma^2)/2\n",
"Paf=Psb/Etta//modulating input power to PA\n",
"Pdc2=Paf/Eff// DC power input to modulator\n",
"Pd=Pdc2-Paf//Power dissipation at the modulator\n",
"Effo1=Pout/(Pdc1+Pdc2)//Overall Efficiency\n",
"mprintf('Tx power:%f Watts\n Power dissipation at the modulator is: %f Watts\n Overall Efficiency at0.6 modulation is:%f%c ',Pc,Pd,100*Effo,'%')"
   ]
   }
,
{
		   "cell_type": "markdown",
		   "metadata": {},
		   "source": [
			"## Example 3.6: Modulation_Ex_3_6.sce"
		   ]
		  },
  {
"cell_type": "code",
	   "execution_count": null,
	   "metadata": {
	    "collapsed": true
	   },
	   "outputs": [],
"source": [
"clc\n",
"//Chapter3: Modulation\n",
"//Example3.6, page no 141\n",
"//Given\n",
"Pdc=1400//DC power i/p to PA under 100% modulation\n",
"Ptdc=400//Plate dissipation\n",
"Pd=Ptdc*(2/3)//DC plate dissipation\n",
"\n",
"Pdmod=Ptdc*(1/3)//\n",
"Pc=Pdc-Pd//Carrier Power\n",
"\n",
"Psb=Pc/2//side band power\n",
"Paf=Psb+Pdmod//output power of modulator\n",
"\n",
"Mod_Eff=0.6\n",
"Pdc2=Paf/Mod_Eff//DC i/p power to the modulator\n",
"Pd_AF=Pdc2-Paf//Plate dissipation inthe modulator\n",
"mprintf('Carrier Power is: %f watts \n DC plate dissipation is: %f watts\n output power of modulator is: %f watts\n Plate dissipation inthe modulator is:%f watts',Pc,Pd,Paf,Pd_AF)"
   ]
   }
,
{
		   "cell_type": "markdown",
		   "metadata": {},
		   "source": [
			"## Example 3.7: Modulation_Ex_3_7.sce"
		   ]
		  },
  {
"cell_type": "code",
	   "execution_count": null,
	   "metadata": {
	    "collapsed": true
	   },
	   "outputs": [],
"source": [
"clc\n",
"//Chapter3: Modulation\n",
"//Example3.7, page no 141\n",
"//Given\n",
"Paf=500//Modulator output power\n",
"Eff=0.75//Efficiency of the amplifier\n",
"P_lost=Paf*(1-Eff)//modulating power lost in the amplifier\n",
"Psb=Paf*Eff//side band power\n",
"\n",
"m=1\n",
"Pc=2*Psb\n",
"\n",
"Pt=Pc+Psb//Total RF power\n",
"mprintf('Maximum carrier power is: %d watts\n Total RF power is: %d watts',Pc,Pt)"
   ]
   }
,
{
		   "cell_type": "markdown",
		   "metadata": {},
		   "source": [
			"## Example 3.8: Modulation_Ex_3_8.sce"
		   ]
		  },
  {
"cell_type": "code",
	   "execution_count": null,
	   "metadata": {
	    "collapsed": true
	   },
	   "outputs": [],
"source": [
"clc\n",
"//Chapter3: Modulation\n",
"//Example3.8, page no 143\n",
"//Given\n",
"Po=3000// Rating of Power Amplifier\n",
"Pr=750//Push-Pull amplifier rated as\n",
"Paf=2*Pr//Rated power output from Push-Pull modulator\n",
"Eff=0.6\n",
"P_lost=Paf-(Eff*Paf)//Modulation power lost\n",
"Psb=Paf-P_lost//side band power\n",
"\n",
"Pc=Po-Psb//Carrier power\n",
"Ma=sqrt(2*Psb/Pc)*100//Maximum depth of modulation\n",
"mprintf('Carrier power is: %d watts\n Maximum depth of modulation is: %f',Pc,Ma)"
   ]
   }
,
{
		   "cell_type": "markdown",
		   "metadata": {},
		   "source": [
			"## Example 3.9: Modulation_Ex_3_9.sce"
		   ]
		  },
  {
"cell_type": "code",
	   "execution_count": null,
	   "metadata": {
	    "collapsed": true
	   },
	   "outputs": [],
"source": [
"clc\n",
"//Chapter3: Modulation, page no 142\n",
"//Example3.9\n",
"//Given\n",
"t=0:0.001:10\n",
"//e=500*(1+(0.4*sin(3140*t)))*sin(6.28e7*t)\n",
"//a\n",
"wc=6.28e7//Carrier angular frequency\n",
"fc=wc/(2*%pi)// Carrier freq\n",
"//b\n",
"wm=3140//Modulating angular freq\n",
"fm=wm/(2*%pi)//Modulating freq\n",
"//c\n",
"Ec=500///peak carrier voltage\n",
"Pc=(Ec^2)/(2*600)//Carrier power\n",
"//d\n",
"Ma=0.4\n",
"Pt=Pc*(1+(Ma^2 / 2))//Mean output power\n",
"//e\n",
"Rl=600//load resistance\n",
"Ecp=Ec+(Ma*Ec)//Peak output voltage\n",
"Ptm=Ecp^2/(2*Rl)//Peak power\n",
"mprintf('Carrier freq is: %d MHz\nModulating freq is:%d Hz\nCarrier power is: %f watts\nMean output power is: %f watts\nPeak output power is: %f watts',round(fc*1e-6),round(fm),Pc,Pt,Ptm)"
   ]
   }
],
"metadata": {
		  "kernelspec": {
		   "display_name": "Scilab",
		   "language": "scilab",
		   "name": "scilab"
		  },
		  "language_info": {
		   "file_extension": ".sce",
		   "help_links": [
			{
			 "text": "MetaKernel Magics",
			 "url": "https://github.com/calysto/metakernel/blob/master/metakernel/magics/README.md"
			}
		   ],
		   "mimetype": "text/x-octave",
		   "name": "scilab",
		   "version": "0.7.1"
		  }
		 },
		 "nbformat": 4,
		 "nbformat_minor": 0
}
