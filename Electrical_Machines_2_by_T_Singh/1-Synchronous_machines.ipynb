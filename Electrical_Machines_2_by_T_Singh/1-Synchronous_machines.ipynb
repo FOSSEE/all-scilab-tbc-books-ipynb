{
"cells": [
 {
		   "cell_type": "markdown",
	   "metadata": {},
	   "source": [
       "# Chapter 1: Synchronous machines"
	   ]
	},
{
		   "cell_type": "markdown",
		   "metadata": {},
		   "source": [
			"## Example 1.10: Full_load_regulatio.sce"
		   ]
		  },
  {
"cell_type": "code",
	   "execution_count": null,
	   "metadata": {
	    "collapsed": true
	   },
	   "outputs": [],
"source": [
"//Exa 1.10\n",
"clc;\n",
"clear;\n",
"close;\n",
"//given data\n",
"format('v',6);\n",
"RatedPower=50;//in KVA\n",
"RatedPower=50*1000;//in VA\n",
"VL=173;//in Volts\n",
"Ra=0.1;//in Ohm\n",
"VP=VL/sqrt(3);//in Volts\n",
"disp('Some exciting curent on short circuit produces a current of 100 A.');\n",
"OC_PhaseVoltage=100;//in Volt\n",
"SC_Current=100;//in Ampere\n",
"Zs=OC_PhaseVoltage/SC_Current;//n ohm\n",
"Xs=sqrt(Zs^2-Ra^2);//in Ohm\n",
"disp(Xs,'Impedence of the alternator in Ohm : ');\n",
"V=400;//in Volts\n",
"I_FL=RatedPower/(sqrt(3)*V);//in Ampere\n",
"V=400/sqrt(3);//in Volts\n",
"Eo=sqrt((V+I_FL*Ra)^2+(I_FL*Xs)^2);//in Volts\n",
"Regulation=(Eo-V)*100/V;//in %\n",
"disp(Regulation,'Regulation at U.P.F. in % :');"
   ]
   }
,
{
		   "cell_type": "markdown",
		   "metadata": {},
		   "source": [
			"## Example 1.10_p: No_of_Armature_conductor.sce"
		   ]
		  },
  {
"cell_type": "code",
	   "execution_count": null,
	   "metadata": {
	    "collapsed": true
	   },
	   "outputs": [],
"source": [
"// Prob 1.10\n",
"clc;\n",
"clear;\n",
"close;\n",
"format('v',5);\n",
"// Given data\n",
"f=50;//in Hz\n",
"ph=3;//no. of phase\n",
"EL=10000;//in volt\n",
"fi=15*10^-2;//in Wb\n",
"Kd=0.96;//unitless\n",
"Kp=1;//unitless\n",
"P=10;//in KVA\n",
"T=EL/(sqrt(3)*4.44*Kd*Kp*fi*f);//turns/phase\n",
"Zp=2*T;//armature conductor connected in series per phase\n",
"disp(Zp,'Armature conductor connected in series per phase : ');\n",
"//Note : Answer in the book is wrong."
   ]
   }
,
{
		   "cell_type": "markdown",
		   "metadata": {},
		   "source": [
			"## Example 1.11_p: Min_current_and_emf.sce"
		   ]
		  },
  {
"cell_type": "code",
	   "execution_count": null,
	   "metadata": {
	    "collapsed": true
	   },
	   "outputs": [],
"source": [
"// Prob 1.11\n",
"clc;\n",
"clear;\n",
"close;\n",
"format('v',5);\n",
"// Given data\n",
"VL=400;//in volt\n",
"Output=10;//in HP\n",
"Output=Output*735.5;//in watts\n",
"m=3;//no. of phase\n",
"Xo=10;//in ohm/phase\n",
"Eff=85;//in %\n",
"Input=Output/(Eff/100);//in watts\n",
"//Formula : Input=sqrt(3)*VL*IL*cosfi\n",
"ILcosfi=Input/sqrt(3)/VL;//in Ampere\n",
"ILmin=ILcosfi;//in Ampere\n",
"disp(ILcosfi,'Minimum current by putting cosfi=1 in Ampere is :  ');\n",
"ER=ILmin*Xo;//in ohm\n",
"V=VL/sqrt(3);//supply voltage per phase in volt\n",
"E=sqrt(V^2+ER^2);//in volt\n",
"LineEMF=sqrt(3)*E;//in volt\n",
"disp(LineEMF,'Line Induced emf in volt : ');"
   ]
   }
,
{
		   "cell_type": "markdown",
		   "metadata": {},
		   "source": [
			"## Example 1.11: Voltage_regulation_at_Full_load.sce"
		   ]
		  },
  {
"cell_type": "code",
	   "execution_count": null,
	   "metadata": {
	    "collapsed": true
	   },
	   "outputs": [],
"source": [
"//Exa 1.11\n",
"clc;\n",
"clear;\n",
"close;\n",
"//given data\n",
"format('v',7);\n",
"OutputPower=500;//in KVA\n",
"OutputPower=500*1000;//in VA\n",
"VL=3300;//in Volts\n",
"Ra=0.3;//in Ohm\n",
"Xs=4;//in Ohm\n",
"PF=0.8;//Lagging Power factor\n",
"//Formula : outputPower=sqrt(3)*VL*IL\n",
"IL=OutputPower/(sqrt(3)*VL);//in Ampere\n",
"disp('For a star connected alternator, line current is equal to phase current. Therefore Ia=IL');\n",
"Ia=IL;//in Ampere\n",
"//PF=cosd(fi)=0.8 and sind(fi)=0.6\n",
"cos_fi=0.8;//Power factor\n",
"sin_fi=0.6;//Unitless\n",
"VPerPhase=VL/sqrt(3);//in Volts\n",
"E=sqrt((VPerPhase*cos_fi+Ia*Ra)^2+(VPerPhase*sin_fi+Ia*Xs)^2);//in Volts/Phase\n",
"Regulation=(E-VPerPhase)*100/VPerPhase;//in %\n",
"disp(Regulation,'Voltage Regulation at Full Load in % :');"
   ]
   }
,
{
		   "cell_type": "markdown",
		   "metadata": {},
		   "source": [
			"## Example 1.12_p: Line_EMF.sce"
		   ]
		  },
  {
"cell_type": "code",
	   "execution_count": null,
	   "metadata": {
	    "collapsed": true
	   },
	   "outputs": [],
"source": [
"// Prob 1.12\n",
"clc;\n",
"clear;\n",
"close;\n",
"format('v',6);\n",
"// Given data\n",
"P=6;//no. of poles\n",
"phase=3;//no. of phase\n",
"f=50;//in Hz\n",
"S=12;//slots per pole\n",
"C=4;//conductor per slot\n",
"FullPitch=5/6;//unitless\n",
"fi=25;//in mwb\n",
"fi=fi*10^-3;//in wb\n",
"Zph=C*S*P/phase;//no. of conductors in series per phase\n",
"T=Zph/2;//no. of turns per phase\n",
"alfa=180*(1-FullPitch);//in degree\n",
"Kc=cosd(alfa/2);//unitless\n",
"m=S/phase;//no. of slot per pole per phase\n",
"Beta=180/S;//in degree\n",
"Kd=sind(m*Beta/2)/m/sind(Beta/2);//unitless\n",
"Eph=4.44*Kc*Kd*f*fi*T;//in volt\n",
"EL=sqrt(3)*Eph;//in volt\n",
"disp(EL,'Line emf in volt : ');"
   ]
   }
,
{
		   "cell_type": "markdown",
		   "metadata": {},
		   "source": [
			"## Example 1.12: Voltage_regulatio.sce"
		   ]
		  },
  {
"cell_type": "code",
	   "execution_count": null,
	   "metadata": {
	    "collapsed": true
	   },
	   "outputs": [],
"source": [
"//Exa 1.12\n",
"clc;\n",
"clear;\n",
"close;\n",
"//given data\n",
"format('v',7);\n",
"V=2000;//in Volt\n",
"Ia=100;//in Ampere\n",
"OC_Voltage=500;//in Volt\n",
"SC_Current=100;//in Ampere\n",
"Zs=OC_Voltage/SC_Current;//in ohm\n",
"Ra=0.8;//in Ohm\n",
"Xs=sqrt(Zs^2-Ra^2);//in Ohm\n",
"//formula : Induced EMF, E=sqrt((V*cos_fi+Ia*Ra)^2+(V*sin_fi+Ia*Xs)^2)\n",
"//Part (a)  : at unity pf\n",
"cos_fi=1;//Unitless\n",
"sin_fi=0;//Unitless\n",
"E=sqrt((V*cos_fi+Ia*Ra)^2+(V*sin_fi+Ia*Xs)^2)\n",
"Regulation=(E-V)*100/V;//in %\n",
"disp(Regulation,'Regulation at U.P.F. in % :');\n",
"\n",
"//Part (b)  : at 0.71 pf lagging\n",
"cos_fi=0.71;//Unitless\n",
"sin_fi=0.704;//Unitless\n",
"E=sqrt((V*cos_fi+Ia*Ra)^2+(V*sin_fi+Ia*Xs)^2)\n",
"Regulation=(E-V)*100/V;//in %\n",
"disp(Regulation,'Regulation at 0.71 pf lagging in % :');\n",
"\n",
"//Part (c)  : at 0.8 pf leading\n",
"cos_fi=0.8;//Unitless\n",
"sin_fi=0.6;//Unitless\n",
"E=sqrt((V*cos_fi+Ia*Ra)^2+(V*sin_fi-Ia*Xs)^2)\n",
"Regulation=(E-V)*100/V;//in %\n",
"disp(Regulation,'Regulation at 0.8 pf leading in % :');"
   ]
   }
,
{
		   "cell_type": "markdown",
		   "metadata": {},
		   "source": [
			"## Example 1.13: Internal_voltage_drop.sce"
		   ]
		  },
  {
"cell_type": "code",
	   "execution_count": null,
	   "metadata": {
	    "collapsed": true
	   },
	   "outputs": [],
"source": [
"//Exa 1.13\n",
"clc;\n",
"clear;\n",
"close;\n",
"//given data\n",
"Ia=60;//in Ampere\n",
"disp('EMF induced on 900 Volt on open circuit can be ragarded as being responsible for circulationg short circuit current of 150 mA, through the synchronous impedence of the winding when the excitation current is 10 mA.');\n",
"disp('The value of synchronous impedence at this excitation :') ;\n",
"OC_Voltage=900;//in Volt\n",
"SC_Current=150;//in Ampere\n",
"Zs=OC_Voltage/SC_Current;//in ohm\n",
"disp('Zs equals to '+string(Zs)+' Ohm');\n",
"disp('Internal Voltage drop when tthe load current is 60A=Ia*Zs='+string(Ia*Zs)+' Volts');"
   ]
   }
,
{
		   "cell_type": "markdown",
		   "metadata": {},
		   "source": [
			"## Example 1.13_p: Power_current_and_power_factor.sce"
		   ]
		  },
  {
"cell_type": "code",
	   "execution_count": null,
	   "metadata": {
	    "collapsed": true
	   },
	   "outputs": [],
"source": [
"// Prob 1.13\n",
"clc;\n",
"clear;\n",
"close;\n",
"format('v',7);\n",
"// Given data\n",
"V=2300;//in volt\n",
"P=1200//in KW\n",
"IA=200;//in Ampere \n",
"cosfi_a=0.9;//lagging power factor\n",
"PA=V*IA*cosfi_a*10^-3;//in KW\n",
"fi_a=acosd(cosfi_a);//in degree\n",
"Pra=PA*tand(fi_a);//in KVAR\n",
"Pr=0;//because pf is unity\n",
"Prb=Pr-Pra ;//in KVAR\n",
"PB=P-PA;//in KW\n",
"disp(PB,'Power of alternator B in KW : ');\n",
"tanfi_b=Prb/PB;//unitless\n",
"cosfi_b=cosd(atand(tanfi_b));//leading power factor\n",
"disp(cosfi_b,'Leading power factor of alternator B : ');\n",
"IB=PB*10^3/V/cosfi_b;//in Ampere\n",
"disp(IB,'Current in alternator B in Ampere : ');"
   ]
   }
,
{
		   "cell_type": "markdown",
		   "metadata": {},
		   "source": [
			"## Example 1.14: Change_in_terminal_voltage.sce"
		   ]
		  },
  {
"cell_type": "code",
	   "execution_count": null,
	   "metadata": {
	    "collapsed": true
	   },
	   "outputs": [],
"source": [
"//Exa 1.14\n",
"clc;\n",
"clear;\n",
"close;\n",
"//given data\n",
"format('v',5);\n",
"V=6600;//in Volts\n",
"OutputPower=2000;//in KVA\n",
"OutputPower=2000*1000;//in VA\n",
"//Formula : outputPower=sqrt(3)*VL*IL\n",
"IL=OutputPower/(sqrt(3)*V);//in Ampere\n",
"Ia=IL;//in Ampere\n",
"Ra=0.4;//in Ohm\n",
"Xs=4.5;//in Ohm\n",
"//PF=cosd(fi)=0.8 and sind(fi)=0.6\n",
"cos_fi=0.8;//Power factor\n",
"sin_fi=0.6;//Unitless\n",
"VPerPhase=V/sqrt(3);//in Volts\n",
"E=sqrt((VPerPhase*cos_fi+Ia*Ra)^2+(VPerPhase*sin_fi+Ia*Xs)^2);//in Volts/Phase\n",
"Regulation=(E-VPerPhase)*100/VPerPhase;//in %\n",
"disp(Regulation,'Percentage Change in Terminal Voltage :');"
   ]
   }
,
{
		   "cell_type": "markdown",
		   "metadata": {},
		   "source": [
			"## Example 1.14_p: KW_output_and_PF.sce"
		   ]
		  },
  {
"cell_type": "code",
	   "execution_count": null,
	   "metadata": {
	    "collapsed": true
	   },
	   "outputs": [],
"source": [
"// Prob 1.14\n",
"clc;\n",
"clear;\n",
"close;\n",
"format('v',7);\n",
"// Given data\n",
"P1=600//Lightning load in KW\n",
"cosfi_1=1;\n",
"tanfi_1=tand(acosd(cosfi_1));\n",
"P2=800//Inductive load in KW\n",
"cosfi_2=.9;//lagging\n",
"tanfi_2=tand(acosd(cosfi_2));\n",
"P3=800//Capacitive load in KW\n",
"cosfi_3=.8;//leading\n",
"tanfi_3=-tand(acosd(cosfi_3));//taken -ve \n",
"PA=1000;//in KW\n",
"cosfi_A=.85;//lagging pf\n",
"tanfi_A=tand(acosd(cosfi_A));\n",
"Pre=P1*tanfi_1;//in KVAR\n",
"Pri=P2*tanfi_2;//in KVAR\n",
"Prc=P3*tanfi_3;//in KVAR\n",
"P=P1+P2+P3;//in KW\n",
"Pr=Pre+Pri+Prc;//in KVAR\n",
"Pra=PA*tanfi_A;//in KVAR\n",
"PB=P-PA;//in KW\n",
"disp(PB,'Active power supplied by alternator B in KW : ');\n",
"Prb=Pr-Pra;//in KVAR\n",
"tanfi_B=Prb/PB;//unitless\n",
"cosfi_B=cosd(atand(tanfi_B));//unitless\n",
"disp(cosfi_B,'Power factor of alternator B(leading) : ');"
   ]
   }
,
{
		   "cell_type": "markdown",
		   "metadata": {},
		   "source": [
			"## Example 1.15_p: EMF_and_Angular_retardation.sce"
		   ]
		  },
  {
"cell_type": "code",
	   "execution_count": null,
	   "metadata": {
	    "collapsed": true
	   },
	   "outputs": [],
"source": [
"// Prob 1.15\n",
"clc;\n",
"clear;\n",
"close;\n",
"format('v',7);\n",
"// Given data\n",
"P=1000//in KVA\n",
"VL=11000;//in volt\n",
"m=3;//no. of phase\n",
"Ra=3.5;//in ohm/phase\n",
"Xa=40;//in ohm/phase\n",
"Ia=P*1000/(VL*sqrt(3));//in Ampere\n",
"V=VL/sqrt(3);//in volt\n",
"cosfi=0.8;\n",
"fi=acosd(cosfi);//in degree\n",
"Va_resistance=Ia*Ra;//drop in resistance in volt\n",
"Va_reactance=Ia*Xa;//drop in reactance in volt\n",
"ER=sqrt(Va_resistance^2+Va_reactance^2);\n",
"tan_theta=Xa/Ra;//unitless\n",
"theta=atand(tan_theta);//in degree\n",
"//Part (a)\n",
"Eb=sqrt(V^2+ER^2-2*V*ER*cosd(theta));//in V/phase\n",
"Eline=sqrt(3)*Eb;//in Volt\n",
"disp(Eline,'(a) Induced emf(V) : ');\n",
"//Applying sine rule\n",
"alfa=asind(ER/Eb*sind(theta));//in degree\n",
"disp('Angular retardation '+string(floor(alfa))+' degree '+string(floor(60*(alfa-floor(alfa))))+'min');\n",
"//Part (b)\n",
"Eb=sqrt(V^2+ER^2-2*V*ER*cosd(theta-fi));//in V/phase\n",
"Eline=sqrt(3)*Eb;//in Volt\n",
"disp(Eline,'(b) Induced emf(V) : ');\n",
"//Applying sine rule\n",
"alfa=asind(ER/Eb*sind(theta-fi));//in degree\n",
"disp('Angular retardation '+string(floor(alfa))+' degree '+string(floor(60*(alfa-floor(alfa))))+'min');\n",
"//Part (c)\n",
"Eb=sqrt(V^2+ER^2-2*V*ER*cosd(theta+fi));//in V/phase\n",
"Eline=sqrt(3)*Eb;//in Volt\n",
"disp(Eline,'(c) Induced emf(V) : ');\n",
"//Applying sine rule\n",
"alfa=asind(ER/Eb*sind(theta+fi));//in degree\n",
"disp('Angular retardation '+string(floor(alfa))+' degree '+string(floor(60*(alfa-floor(alfa))))+'min');\n",
"//Note : Figure given in this question is not a plot. It is just drawn to represent data and can't be plotted.\n",
"//Note : Answers in the book is not as much accurate as calculated by Scilab."
   ]
   }
,
{
		   "cell_type": "markdown",
		   "metadata": {},
		   "source": [
			"## Example 1.15: Regulation_on_full_load.sce"
		   ]
		  },
  {
"cell_type": "code",
	   "execution_count": null,
	   "metadata": {
	    "collapsed": true
	   },
	   "outputs": [],
"source": [
"//Exa 1.15\n",
"clc;\n",
"clear;\n",
"close;\n",
"//given data\n",
"format('v',7);\n",
"OutputPower=1200;//in KVA\n",
"OutputPower=1200*1000;//in VA\n",
"V=3300;//in Volt\n",
"Ra=0.25;//in Ohm\n",
"//Formula : outputPower=sqrt(3)*VL*IL\n",
"IL=OutputPower/(sqrt(3)*V);//in Ampere\n",
"Ia=IL;//in Ampere\n",
"VPerPhase=V/sqrt(3);//in Volts\n",
"OC_Voltage=1100;//in Volt\n",
"SC_Current=200;//in Ampere\n",
"Zs=OC_Voltage/(sqrt(3)*SC_Current);//in ohmRa\n",
"Xs=sqrt(Zs^2-Ra^2);//in Ohm\n",
"//formula : Induced EMF, E=sqrt((V*cos_fi+Ia*Ra)^2+(V*sin_fi+Ia*Xs)^2)\n",
"\n",
"//Part (a)  : For lagging pf load\n",
"cos_fi=0.8;//Unitless\n",
"sin_fi=0.6;//Unitless\n",
"E=sqrt((VPerPhase*cos_fi+Ia*Ra)^2+(VPerPhase*sin_fi+Ia*Xs)^2);\n",
"Regulation=(E-VPerPhase)*100/VPerPhase;//in %\n",
"disp(Regulation,'Regulation at U.P.F. in % :');\n",
"\n",
"//Part (b)  : For leading pf load\n",
"cos_fi=0.8;//Unitless\n",
"sin_fi=0.6;//Unitless\n",
"E=sqrt((VPerPhase*cos_fi+Ia*Ra)^2+(VPerPhase*sin_fi-Ia*Xs)^2)\n",
"Regulation=(E-VPerPhase)*100/VPerPhase;//in %\n",
"disp(Regulation,'Regulation at 0.71 pf lagging in % :');\n",
"//Note: For leading power factor load, the regulation s negative. "
   ]
   }
,
{
		   "cell_type": "markdown",
		   "metadata": {},
		   "source": [
			"## Example 1.16_p: Terminal_voltage_and_reactive_power.sce"
		   ]
		  },
  {
"cell_type": "code",
	   "execution_count": null,
	   "metadata": {
	    "collapsed": true
	   },
	   "outputs": [],
"source": [
"// Prob 1.16\n",
"clc;\n",
"clear;\n",
"close;\n",
"format('v',7);\n",
"// Given data :\n",
"EP=6000;//in volt\n",
"Em=EP;//in Volt\n",
"Xs=1.5;//in ohm/phase\n",
"IL=1000;//in Ampere\n",
"VT=Em-IL*Xs;//in volt\n",
"disp(VT,'Terminal voltage in volt : ');\n",
"VL=sqrt(3)*VT;//in volt\n",
"sinfi=1;\n",
"Preactive=sqrt(3)*VL*IL*sinfi;//in VAR\n",
"disp(Preactive/10^6,'Reactive Power(MVAR) : ');"
   ]
   }
,
{
		   "cell_type": "markdown",
		   "metadata": {},
		   "source": [
			"## Example 1.16: Terminal_voltage.sce"
		   ]
		  },
  {
"cell_type": "code",
	   "execution_count": null,
	   "metadata": {
	    "collapsed": true
	   },
	   "outputs": [],
"source": [
"//Exa 1.16\n",
"clc;\n",
"clear;\n",
"close;\n",
"//given data\n",
"OutputPower=1500;//in KVA\n",
"OutputPower=1500*1000;//in VA\n",
"V=6600;//in Volt\n",
"Ra=0.4;//in Ohm\n",
"Xs=6;//in Ohm per phase\n",
"pf=0.8;//lagging power factor\n",
"//Formula : outputPower=sqrt(3)*VL*IL\n",
"Ia=OutputPower/(sqrt(3)*V);//in Ampere\n",
"VPerPhase=V/sqrt(3);//in Volts\n",
"//formula : Induced EMF, E=sqrt((V*cos_fi+Ia*Ra)^2+(V*sin_fi+Ia*Xs)^2)\n",
"cos_fi=0.8;//Unitless\n",
"sin_fi=0.6;//Unitless\n",
"E=sqrt((VPerPhase*cos_fi+Ia*Ra)^2+(VPerPhase*sin_fi+Ia*Xs)^2);//in volt\n",
"disp(E,'Induced emf in volt : ');\n",
"disp('As excitation remains constant, E at 4364 volt remains constant.');\n",
"E=4364;//in Volt\n",
"disp('Let the terminal voltage for the same excitation and load current at 0.8 power factor leading be V.');\n",
"disp('4364=sqrt((V*cos_fi+Ia*Ra)^2+(VPerPhase*sin_fi+Ia*Xs)^2)');\n",
"disp('V=4743 Volts');\n",
"V=4743;//in Volts\n",
"TerminalVoltage=sqrt(3)*V;//in Volts\n",
"disp(TerminalVoltage,'Terminal voltage line to line in Volts : ');\n",
"//Note ans of 1st part is wrong in the book.s"
   ]
   }
,
{
		   "cell_type": "markdown",
		   "metadata": {},
		   "source": [
			"## Example 1.17: KW_output_and_pf.sce"
		   ]
		  },
  {
"cell_type": "code",
	   "execution_count": null,
	   "metadata": {
	    "collapsed": true
	   },
	   "outputs": [],
"source": [
"//Exa 1.17\n",
"clc;\n",
"clear;\n",
"close;\n",
"//given data\n",
"OutputPower=2500;//in KVA\n",
"OutputPower=2500*1000;//in VA\n",
"V=6600;//in Volt\n",
"  \n",
"  \n",
"//For first load i.e. Lighting load : \n",
"KW1=2500;//in KWatts\n",
"KVAR1=0;//Kwatts\n",
"//For second load i.e. Motor load : \n",
"KW2=5000;//in KWatts\n",
"cos_fi=0.707;//unitless\n",
"sin_fi=0.707;//unitless\n",
"KVAR2=KW2*sin_fi/cos_fi;//Kwatts\n",
"//For total load\n",
"TotalKW=KW1+KW2;//in KWatts\n",
"TotalKVAR=KVAR1+KVAR2;//Kwatts   \n",
"//For first Machine\n",
"KWm=4000;//in KWatts\n",
"cos_fi=0.8;//unitless\n",
"sin_fi=0.6;//unitless\n",
"KVARm=KWm*sin_fi/cos_fi;//Kwatts\n",
"//so, second machine will be supplying\n",
"KW=TotalKW-KWm;//in Kwatts\n",
"disp(KW,'KW output of second machine : ');\n",
"KVAR=TotalKVAR-KVARm;//in KWatts\n",
"tan_fi=KVAR/KW;//unitless\n",
"fi=atand(tan_fi);//ib degree\n",
"//Power factor of other machine\n",
"pf=cosd(fi);//unitless\n",
"disp('Power factor of other machine : '+string(pf)+' lagging');"
   ]
   }
,
{
		   "cell_type": "markdown",
		   "metadata": {},
		   "source": [
			"## Example 1.17_p: EMF_and_Torque.sce"
		   ]
		  },
  {
"cell_type": "code",
	   "execution_count": null,
	   "metadata": {
	    "collapsed": true
	   },
	   "outputs": [],
"source": [
"// Prob 1.17\n",
"clc;\n",
"clear;\n",
"close;\n",
"format('v',6);\n",
"// Given data :\n",
"Poles=4;//no. of poles\n",
"m=3;//no. of phase\n",
"f=50;//in Hz\n",
"V=7000;//in volt/phase\n",
"I=1400;//in A/phase\n",
"Xs=1.2;//in ohm/phase\n",
"E=sqrt(V^2+(I*Xs)^2);//in volt\n",
"disp(E,'Induced emf in volt : ');\n",
"cosfi=1;//for resistive load\n",
"P=3*V*I*cosfi;//in watts\n",
"P=P/10^6;//in MWatts\n",
"N=120*f/Poles;//in rpm\n",
"w=2*%pi*N/60;//in radian per sec\n",
"T=P*10^6/w;//in Nw-m\n",
"T=T/9.81;//in Kg-m\n",
"disp(T,'Torque in Kg-m : ');\n",
"//Note : Answers in the book is not as much accurate as calculated by Scilab.\n",
"//Note : Figure given in this question is not a plot. It is just drawn to represent data and can't be plotted."
   ]
   }
,
{
		   "cell_type": "markdown",
		   "metadata": {},
		   "source": [
			"## Example 1.18: KW_output_and_pf.sce"
		   ]
		  },
  {
"cell_type": "code",
	   "execution_count": null,
	   "metadata": {
	    "collapsed": true
	   },
	   "outputs": [],
"source": [
"//Exa 1.18\n",
"clc;\n",
"clear;\n",
"close;\n",
"//given data\n",
"//Load1 : \n",
"KW1=500;//in KWatts\n",
"KVAR1=0;//Kwatts\n",
"//Load2 : \n",
"KW2=1000;//in KWatts\n",
"pf=0.9;//lagging\n",
"cos_fi=0.9;//unitless\n",
"fi=acosd(pf);\n",
"sin_fi=sind(fi);//unitless\n",
"KVAR2=KW2*sin_fi/cos_fi;//Kwatts\n",
"//Load3 : \n",
"KW3=800;//in KWatts\n",
"pf=0.8;//lagging\n",
"cos_fi=0.8;//unitless\n",
"fi=acosd(pf);\n",
"sin_fi=sind(fi);//unitless\n",
"KVAR3=KW3*sin_fi/cos_fi;//Kwatts\n",
"//Load4 : \n",
"KW4=500;//in KWatts\n",
"pf=0.9;//lagging\n",
"cos_fi=0.9;//unitless\n",
"fi=acosd(pf);\n",
"sin_fi=sind(fi);//unitless\n",
"KVAR4=-KW4*sin_fi/cos_fi;//Kwatts\n",
"//TOtalKW and TotalKVAR\n",
"TotalKW=KW1+KW2+KW3+KW4;//in KWatts\n",
"TotalKVAR=KVAR1+KVAR2+KVAR3+KVAR4;//in KWAtts\n",
"//For the first Machine :\n",
"KW=1500;//n Kwatts\n",
"cos_fi=0.95;//unitless\n",
"sin_fi=0.3123;//unitless\n",
"KVAR=KW*sin_fi/cos_fi;//Kwatts\n",
"\n",
"KW1=TotalKW-KW;//in KWatts\n",
"KVAR1=TotalKVAR-KVAR;//in Volts\n",
"disp('KW supplied by other machine : '+string(TotalKW-KW));\n",
"disp('KVAR supplied by other machine : '+string(TotalKVAR-KVAR));\n",
"tan_fi=KVAR1/KW1;//unitless\n",
"//fi=atand(tan_fi);//in degree\n",
"cos_fi=cosd(atand(tan_fi));//unitless\n",
"disp('Power factor of the other machine : '+string(cos_fi));"
   ]
   }
,
{
		   "cell_type": "markdown",
		   "metadata": {},
		   "source": [
			"## Example 1.18_p: Current_per_phase.sce"
		   ]
		  },
  {
"cell_type": "code",
	   "execution_count": null,
	   "metadata": {
	    "collapsed": true
	   },
	   "outputs": [],
"source": [
"// Prob 1.18\n",
"clc;\n",
"clear;\n",
"close;\n",
"format('v',6);\n",
"// Given data :\n",
"Poles=2;//no. of poles\n",
"m=3;//no. of phase\n",
"f=50;//in Hz\n",
"Ep=5700;//in volt\n",
"Xs=1.5;//in ohm/phase\n",
"Iphase=Ep/Xs;//in Ampere\n",
"IL=Iphase;//in Ampere\n",
"disp(IL,'Line current in Ampere : ');"
   ]
   }
,
{
		   "cell_type": "markdown",
		   "metadata": {},
		   "source": [
			"## Example 1.19: Load_and_pf.sce"
		   ]
		  },
  {
"cell_type": "code",
	   "execution_count": null,
	   "metadata": {
	    "collapsed": true
	   },
	   "outputs": [],
"source": [
"//Exa 1.19\n",
"clc;\n",
"clear;\n",
"close;\n",
"//given data\n",
"//Lighting Load : \n",
"MW1=20;//load in Mwatts\n",
"KW1=MW1*1000;//in KWatts\n",
"KVAR1=0;//Kwatts\n",
"//Motor Load : \n",
"MW2=40;//load in Mwatts\n",
"KW2=MW2*1000;//in KWatts\n",
"pf=0.8;//unitless\n",
"cos_fi=0.8\n",
"fi=acosd(pf);\n",
"sin_fi=sind(fi);//unitless\n",
"KVAR2=KW2*sin_fi/cos_fi;//Kwatts\n",
"//For Total Load : \n",
"TotalKW=KW1+KW2;//load in Mwatts\n",
"TotalKVAR=KVAR1+KVAR2;//in KWatts\n",
"//For first machine : \n",
"MWm=32;//load in Mwatts\n",
"KWm=MWm*1000;//in KWatts\n",
"cos_fi=0.866;//unitless\n",
"fi=acosd(cos_fi);\n",
"tan_fi=tand(fi);//unitless\n",
"KVARm=KWm*tan_fi;//in KWatts\n",
"//so, load supplied by the second machine\n",
"KW2=TotalKW-KWm;//in Kwatts\n",
"disp('Load of other machine,KW : '+string(KW2));\n",
"KVAR2=TotalKVAR-KVARm;//in Kwatts\n",
"tan_fi=KVAR2/KW2;//unitless\n",
"fi=atand(tan_fi);//in degree\n",
"cos_fi=cosd(atand(tan_fi));//unitless\n",
"disp('Power factor of the other machine : '+string(cos_fi));"
   ]
   }
,
{
		   "cell_type": "markdown",
		   "metadata": {},
		   "source": [
			"## Example 1.19_p: Torque_and_Speed.sce"
		   ]
		  },
  {
"cell_type": "code",
	   "execution_count": null,
	   "metadata": {
	    "collapsed": true
	   },
	   "outputs": [],
"source": [
"// Prob 1.19\n",
"clc;\n",
"clear;\n",
"close;\n",
"format('v',8);\n",
"// Given data :\n",
"Poles=2;//no. of poles\n",
"m=3;//no. of phase\n",
"f=50;//in Hz\n",
"VT=15;//in volt\n",
"Ps=100;//in MVA\n",
"cosfi=0.8;//lagging\n",
"Xs=0.7;//in ohm/phase\n",
"VP=VT/sqrt(3);//in Volt\n",
"AC=VT*cosfi;//in KV\n",
"sinfi=sind(acosd(cosfi));\n",
"BC=VT*sinfi;//in KV\n",
"IL=Ps*10^6/sqrt(3)/(VT*10^3);//in Ampere\n",
"BL=IL*Xs;//voltage drop in volt\n",
"LC=BL+BC;//in volt\n",
"AL=sqrt(AC^2+LC^2);//in volt\n",
"EmLine=AL*sqrt(3);//in volt\n",
"Ns=120*f/Poles;//ion rpm\n",
"P=Ps*10^6*cosfi;//in watts\n",
"T=P*60/2/%pi/Ns;//in Nw-m\n",
"disp(T,'Torque in Nw-m : ');\n",
"disp(Ns,'Speed in rpm is ');\n",
"//Note : Figure given in this question is not a plot. It is just drawn to represent data and can't be plotted."
   ]
   }
,
{
		   "cell_type": "markdown",
		   "metadata": {},
		   "source": [
			"## Example 1.1_p: Distribution_Factor.sce"
		   ]
		  },
  {
"cell_type": "code",
	   "execution_count": null,
	   "metadata": {
	    "collapsed": true
	   },
	   "outputs": [],
"source": [
"// Prob 1.1\n",
"clc;\n",
"clear;\n",
"close;\n",
"format('v',5);\n",
"// Given data\n",
"s=36;//no. of slots\n",
"p=4;//no. of poles\n",
"ph=3;//no. of phase\n",
"s1=s/ph;//no. of slots pe phase\n",
"m=s1/p;//no. of slots per pole per phase\n",
"alfa=180*p/s;//slot angle in degree\n",
"Kd=sind(m*alfa/2)/(m*sind(alfa/2));//distribution factor\n",
"disp(Kd,'Distribution factor for 36 slots : ');"
   ]
   }
,
{
		   "cell_type": "markdown",
		   "metadata": {},
		   "source": [
			"## Example 1.1: Single_Layer_Winding.sce"
		   ]
		  },
  {
"cell_type": "code",
	   "execution_count": null,
	   "metadata": {
	    "collapsed": true
	   },
	   "outputs": [],
"source": [
"//Exa 1.1\n",
"clc;\n",
"clear;\n",
"close;\n",
"//given data\n",
"slots=24;//no. of slotes\n",
"NoOfPhase=3;//no of phase\n",
"MotorSpeed=1450;//in rpm\n",
"N=1500;//Synchonous Speed in rpm\n",
"f=50;//in Hz\n",
"disp('As the winding is in single layer, each slot contains one coil slide only.');\n",
"CoilSlidePerSlot=1;//coil slide per slot\n",
"CoilSlidePerCoil=2;//coil slide per Coil\n",
"TotalCoils=slots*CoilSlidePerSlot/CoilSlidePerCoil;//no. of coils\n",
"disp(TotalCoils,'Total no. of Coils : ');\n",
"P=120*f/N;//no. of poles\n",
"disp(P,'No. of poles : ');\n",
"PolesPitch=slots/P;//unitless\n",
"disp(PolesPitch,'Poles Pitch = ');\n",
"disp('In case of single layer winding, the pole ppitch is generally taken in odd numbers only, such as 5,7.9 etc. One slot will remain unoccupied, if the pitch is taken as even number.');\n",
"disp('let pole pitch = 5(for short pitch winding)');\n",
"PolesPitch=5;//for short pitch winding\n",
"disp('Coil Span or coil through = 1-6');\n",
"CoilsPerPolePerPhase=TotalCoils/(P*NoOfPhase);//No. of Coils/Pole/Phase\n",
"disp(CoilsPerPolePerPhase,'No. of Coils/Pole/Phase = ');\n",
"pair_of_poles=2;//no. of pair of poles\n",
"TotalElectricalDegree=360*pair_of_poles;//in degree \n",
"ElectricalDegreesPerSlot=TotalElectricalDegree/slots;//in degree electrical\n",
"disp(ElectricalDegreesPerSlot,'Electrical Degrees/Slot = ');\n",
"Slots_required=120/ElectricalDegreesPerSlot;//No. of slotes required for proper phase displacement\n",
"disp(Slots_required,'No. of slotes required for proper phase displacement = ');\n",
"disp('Winding Table is as follows :');\n",
"disp('Coil No.     Connection Lead from     Coil Span     Phase and Group No.');\n",
"disp('   1                   A1               1-6                  A1');\n",
"disp('   2                                    3-8                  C4');\n",
"disp('   3                   B1               5-10                 B1');\n",
"disp('   4                                    7-12                 A2');\n",
"disp('   5                   C1               9-14                 C1');\n",
"disp('   6                                   11-16                 B2');\n",
"disp('   7                                   13-18                 A3');\n",
"disp('   8                                   15-20                 C2');\n",
"disp('   9                                   17-22                 B3');\n",
"disp('  10                                   19-24                 A4');\n",
"disp('  11                                   21-2                  C3');\n",
"disp('  12                                   23-4                  B4');"
   ]
   }
,
{
		   "cell_type": "markdown",
		   "metadata": {},
		   "source": [
			"## Example 1.20: pf_of_alternator.sce"
		   ]
		  },
  {
"cell_type": "code",
	   "execution_count": null,
	   "metadata": {
	    "collapsed": true
	   },
	   "outputs": [],
"source": [
"//Exa 1.20\n",
"clc;\n",
"clear;\n",
"close;\n",
"//given data\n",
"cos_fi=0.8;//unitless\n",
"fi=acosd(cos_fi);\n",
"tan_fi=tand(fi);//unitless\n",
"//For Alternator A : \n",
"cos_fi_A=0.9;//unitless\n",
"fi_A=acosd(cos_fi_A);\n",
"tan_fi_A=tand(fi_A);//unitless\n",
"//Formula : Active load, KW=V*I*cos_fi\n",
"//Formula : Reactive load, KVAR=V*I*sin_fi\n",
"ActiveLoad=8000;//in KW\n",
"ReactiveLoad=ActiveLoad*tan_fi;//in KVAR\n",
"//For A:\n",
"ActiveLoadA=5000;//in KW\n",
"ReactiveLoadA=ActiveLoadA*tan_fi_A;//in KVAR\n",
"//For B :\n",
"ActiveLoadB=ActiveLoad-ActiveLoadA;//in KW\n",
"ReactiveLoadB=ReactiveLoad-ReactiveLoadA;//in KVAR\n",
"tan_fi_B=ReactiveLoadB/ActiveLoadB;//unitless\n",
"fi_B=atand(tan_fi_B);//in degree\n",
"cos_fi=cosd(atand(tan_fi_B));//unitless\n",
"disp('Power factor of the other machine : '+string(cos_fi));"
   ]
   }
,
{
		   "cell_type": "markdown",
		   "metadata": {},
		   "source": [
			"## Example 1.21: KVA_rating_Current_Rating_and_Power_Input.sce"
		   ]
		  },
  {
"cell_type": "code",
	   "execution_count": null,
	   "metadata": {
	    "collapsed": true
	   },
	   "outputs": [],
"source": [
"//Exa 1.21\n",
"clc;\n",
"clear;\n",
"close;\n",
"//given data\n",
"format('v',7);\n",
"V=6600;//in Volts\n",
"KW=6000;//in KWatts\n",
"pf=0.8;//unitless\n",
"cos_fi=pf;//unitless\n",
"Eff=90;//in %\n",
"//Part (a) : \n",
"KVA=KW/cos_fi;//in KVAR\n",
"disp('KVA rating of the alternator : '+string(KVA)+' KVA');\n",
"//Part (b) : \n",
"TotalRating=KVA;//in KVA\n",
"VA=TotalRating*1000;//in VA\n",
"I=VA/(sqrt(3)*KW);//in Ampere\n",
"disp(I,'Current Rating in Ampere : ');\n",
"//Part (c) :\n",
"Input=KW/(Eff/100);//in KW\n",
"disp(Input,'Power Input(in KW) :');\n",
"Input=Input*1000/735.5;//in hp\n",
"disp(Input,'Power Input(in hp) :');"
   ]
   }
,
{
		   "cell_type": "markdown",
		   "metadata": {},
		   "source": [
			"## Example 1.22: Line_Volt_Current_Rating_and_Power.sce"
		   ]
		  },
  {
"cell_type": "code",
	   "execution_count": null,
	   "metadata": {
	    "collapsed": true
	   },
	   "outputs": [],
"source": [
"//Exa 1.22\n",
"clc;\n",
"clear;\n",
"close;\n",
"//given data\n",
"format('v',7);\n",
"Ecoil=8000;//in Volts\n",
"Icoil=418;//in Ampere\n",
"pf=80;//in % lgging\n",
"pf=pf/100;//in fraction\n",
"cos_fi=pf;//unitless\n",
"//Part (i) : \n",
"EL=sqrt(3)*Ecoil;//in volt\n",
"disp(EL,'Line volts(in V): ');\n",
"//Part (ii) : \n",
"IL=Icoil;//in Ampere\n",
"disp(IL,'Line Current in Ampere : ');\n",
"//Part (iii) :\n",
"Rating=sqrt(3)*EL*IL/1000;//in KVA\n",
"disp(Rating,'Rating (in KVA) :');\n",
"//Part (iv) :\n",
"FullLoadPower=sqrt(3)*EL*IL*cos_fi/1000;//in KW\n",
"disp(FullLoadPower,'Full Load Power in KW :');"
   ]
   }
,
{
		   "cell_type": "markdown",
		   "metadata": {},
		   "source": [
			"## Example 1.2: Coil_basket_winding.sce"
		   ]
		  },
  {
"cell_type": "code",
	   "execution_count": null,
	   "metadata": {
	    "collapsed": true
	   },
	   "outputs": [],
"source": [
"//Exa 1.2\n",
"clc;\n",
"clear;\n",
"close;\n",
"//given data\n",
"slots=24;//no. of slotes\n",
"P=4;//no. of poles\n",
"CoilPitch=5;//unitless\n",
"NoOfPhase=3;//no of phase\n",
"disp('As the winding is in double layer, each slot contains 2 coils per slide.');\n",
"CoilSlidePerSlot=2;//coil slide per slot\n",
"CoilSlidePerCoil=2;//coil slide per Coil\n",
"TotalCoils=slots*CoilSlidePerSlot/CoilSlidePerCoil;//no. of coils\n",
"disp(TotalCoils,'Total no. of Coils : ');\n",
"PolesPitch=slots/P;//unitless\n",
"disp(PolesPitch,'Pole Pitch = ');\n",
"CoilsPerPolePerPhase=TotalCoils/(P*NoOfPhase);//No. of Coils/Pole/Phase\n",
"disp(CoilsPerPolePerPhase,'No. of Coils/Pole/Phase = ');\n",
"pair_of_poles=2;//no. of pair of poles\n",
"TotalElectricalDegree=360*pair_of_poles;//in degree \n",
"ElectricalDegreesPerSlot=TotalElectricalDegree/slots;//in degree electrical\n",
"disp(ElectricalDegreesPerSlot,'Electrical Degrees/Slot = ');\n",
"Slots_required=120/ElectricalDegreesPerSlot;//No. of slotes required for proper phase displacement\n",
"disp(Slots_required,'No. of slotes required for proper phase displacement = ');\n",
"disp('ie. Phase A1 is brought out from slot no. = 1');\n",
"disp('Phase B1 at slot no. = 1+4 = 5');\n",
"disp('Phase C1 at slot no. = 5+4 = 9');\n",
"disp('Col Connection - end to start to start');\n",
"disp('Winding Table is as follows :');\n",
"disp('Coil No.     Connection Lead from     Coil Span     Phase and Group No.');\n",
"disp('   1                   A1               1-6                  A1');\n",
"disp('   2                                    2-7                    ');\n",
"disp('   3                                    3-8                  C4');\n",
"disp('   4                                    4-9                    ');\n",
"disp('   5                   B1               5-10                 B1');\n",
"disp('   6                                    6-11                   ');\n",
"disp('   7                                    7-12                 A2');\n",
"disp('   8                                    8-13                   ');\n",
"disp('   9                   C1               9-14                 C1');\n",
"disp('  10                                   10-15                   ');\n",
"disp('  11                                   11-16                 B2');\n",
"disp('  12                                   12-17                   ');\n",
"disp('  13                                   13-18                 A3');\n",
"disp('  14                                   14-19                   ');\n",
"disp('  15                                   15-20                 C2');\n",
"disp('  16                                   16-21                   ');\n",
"disp('  17                                   17-22                 B3');\n",
"disp('  18                                   18-23                   ');\n",
"disp('  19                                   19-24                 A4');\n",
"disp('  20                                   20-1                    ');\n",
"disp('  21                                   21-2                  C3');\n",
"disp('  22                                   22-3                    ');\n",
"disp('  23                                   23-4                    ');\n",
"disp('  24                                   24-5                  B4');"
   ]
   }
,
{
		   "cell_type": "markdown",
		   "metadata": {},
		   "source": [
			"## Example 1.2_p: Distribution_and_pitch_factor.sce"
		   ]
		  },
  {
"cell_type": "code",
	   "execution_count": null,
	   "metadata": {
	    "collapsed": true
	   },
	   "outputs": [],
"source": [
"// Prob 1.2\n",
"clc;\n",
"clear;\n",
"close;\n",
"format('v',5);\n",
"// Given data\n",
"s=24;//no. of slots\n",
"p=4;//no. of poles\n",
"ph=3;//no. of phase\n",
"s1=s/p;//no. of slots pe pole\n",
"alfa=180/s1;//slot angle in degree\n",
"m=s1/ph;//no. of slots per pole per phase\n",
"Kd=sind(m*alfa/2)/(m*sind(alfa/2));//distribution factor\n",
"disp(Kd,'Distribution factor : ');\n",
"Beta=alfa;//short pitched angle in degree\n",
"Kc=cosd(Beta/2);//coil span factor\n",
"disp(Kc,'Pitch factor : ');"
   ]
   }
,
{
		   "cell_type": "markdown",
		   "metadata": {},
		   "source": [
			"## Example 1.3: Pitch_factor.sce"
		   ]
		  },
  {
"cell_type": "code",
	   "execution_count": null,
	   "metadata": {
	    "collapsed": true
	   },
	   "outputs": [],
"source": [
"//Exa 1.3\n",
"clc;\n",
"clear;\n",
"close;\n",
"//given data\n",
"format('v',4);\n",
"StatorSlots=36;//No. of stator slots\n",
"Poles=4;//No. of poles\n",
"coilSpan=1:8;//unitless\n",
"SlotsPerPole=StatorSlots/Poles;// no. of slots per pole\n",
"disp(SlotsPerPole,'Slots/Pole = ');\n",
"disp('Here the coil span falls short by, '+string((2/9)*180)+' Degree');\n",
"alfa=40;//short pitch angle in degree\n",
"Kp=cosd(alfa/2);//Coil span Factor\n",
"disp(Kp,'Pitch Factor or coil span factor : ');"
   ]
   }
,
{
		   "cell_type": "markdown",
		   "metadata": {},
		   "source": [
			"## Example 1.3_p: Poles_and_Voltage.sce"
		   ]
		  },
  {
"cell_type": "code",
	   "execution_count": null,
	   "metadata": {
	    "collapsed": true
	   },
	   "outputs": [],
"source": [
"// Prob 1.3\n",
"clc;\n",
"clear;\n",
"close;\n",
"format('v',5);\n",
"// Given data\n",
"VL=11000;//in volt\n",
"N=1500;//in rpm\n",
"f=50;//in Hz\n",
"P=120*f/N;//no. of poles\n",
"disp(P,'No. of poles : ');\n",
"VP=VL/sqrt(3);//voltage per phase in volt\n",
"disp(VP,'Voltage per phase of alternator(in volt) : ');"
   ]
   }
,
{
		   "cell_type": "markdown",
		   "metadata": {},
		   "source": [
			"## Example 1.4: Frequency_phase_and_emf.sce"
		   ]
		  },
  {
"cell_type": "code",
	   "execution_count": null,
	   "metadata": {
	    "collapsed": true
	   },
	   "outputs": [],
"source": [
"//Exa 1.4\n",
"clc;\n",
"clear;\n",
"close;\n",
"//given data\n",
"format('v',8);\n",
"NoOfPhase=3;//no of phase\n",
"P=16;//No. of pole alternator\n",
"Slots=144;//No. of slots\n",
"Conductors=10;//per slot\n",
"fi=0.03;//in Weber\n",
"N=375;//machine speed in rpm\n",
"f=P*N/120;//in Hz\n",
"SlotsPerPole=Slots/P;//unitless\n",
"m=Slots/(P*NoOfPhase);//unitless\n",
"Beta=180/(SlotsPerPole);//in Degree\n",
"Kd=sind(m*Beta/2)/(m*sind(Beta/2));//unitless\n",
"TotalConductors=Conductors*Slots;//no. of conductors\n",
"TotalConductorsPerPhase=Conductors*Slots/NoOfPhase;//no. of conductors/phase\n",
"TurnsPerPhase=TotalConductorsPerPhase/2;//No. of turns per phase\n",
"EMFPerPhase=4.44*Kd*fi*f*TurnsPerPhase;//in Volt\n",
"LineVoltage=sqrt(3)*EMFPerPhase;//in Volt\n",
"disp(f,'Frequency in Hz : ');\n",
"disp(EMFPerPhase,'Phase Electromotive force in Volt : ');\n",
"disp(LineVoltage,'Line Electromotive force in Volt : ');"
   ]
   }
,
{
		   "cell_type": "markdown",
		   "metadata": {},
		   "source": [
			"## Example 1.4_p: Distribution_and_pitch_factor.sce"
		   ]
		  },
  {
"cell_type": "code",
	   "execution_count": null,
	   "metadata": {
	    "collapsed": true
	   },
	   "outputs": [],
"source": [
"// Prob 1.4\n",
"clc;\n",
"clear;\n",
"close;\n",
"format('v',7);\n",
"// Given data\n",
"s=36;//no. of slots\n",
"p=4;//no. of poles\n",
"ph=3;//no. of phase\n",
"CoilSpan=8;//short pitch winding\n",
"alfa=180/(s/p);//slot pitch in degree\n",
"m=s/(p*ph);//no. of slots per pole per phase\n",
"Kd=sind(m*alfa/2)/(m*sind(alfa/2));//distribution factor\n",
"disp(Kd,'Distribution factor : ');\n",
"CoilSpan1=s/p;//coil span for full pitch winding\n",
"slots_sp=CoilSpan1-CoilSpan;//slots by which coil is short pitched\n",
"Beta=slots_sp*alfa;//angle by which coil is short pitched\n",
"Kc=cosd(Beta/2);//Pitch factor\n",
"disp(Kc,'Pitch factor : ');"
   ]
   }
,
{
		   "cell_type": "markdown",
		   "metadata": {},
		   "source": [
			"## Example 1.5: Breadth_factor.sce"
		   ]
		  },
  {
"cell_type": "code",
	   "execution_count": null,
	   "metadata": {
	    "collapsed": true
	   },
	   "outputs": [],
"source": [
"//Exa 1.5\n",
"clc;\n",
"clear;\n",
"close;\n",
"//given data\n",
"format('v',6);\n",
"NoOfPhase=3;//no of phase\n",
"SlotsPerPhase=3;//o. of slots\n",
"m=SlotsPerPhase;//no. of slots\n",
"SlotsPerPolePerPhase=SlotsPerPhase*NoOfPhase;//unitless\n",
"Beta=180/SlotsPerPolePerPhase;//in degree\n",
"disp('The phase difference difference between the induced emf in two coils lying in adjacent slots = '+string(Beta)+' degree');\n",
"Kb=sind(m*Beta/2)/(m*sind(Beta/2));//unitless\n",
"disp(Kb,'The breadth factor :  ');"
   ]
   }
,
{
		   "cell_type": "markdown",
		   "metadata": {},
		   "source": [
			"## Example 1.5_p: Frequency_and_line_emf.sce"
		   ]
		  },
  {
"cell_type": "code",
	   "execution_count": null,
	   "metadata": {
	    "collapsed": true
	   },
	   "outputs": [],
"source": [
"// Prob 1.5\n",
"clc;\n",
"clear;\n",
"close;\n",
"format('v',6);\n",
"// Given data\n",
"ph=3;//no. of phase\n",
"P=16;//no. of poles\n",
"s=144;//no. of slots\n",
"con=10;//no. of conductors per slot\n",
"fi=0.035;//in Wb\n",
"N=375;//in rpm\n",
"f=P*N/120;//in Hz\n",
"disp(f,'Frequency in Hz : ');\n",
"s1=s/P;//no. of slots per pole\n",
"m=s1/ph;//no. of slots per pole per phase\n",
"alfa=180/s1;//slot angle in degree\n",
"Kd=sind(m*alfa/2)/(m*sind(alfa/2));//distribution factor\n",
"TotCon=s*con;//Total no. of conductors\n",
"TotCon1=s*con/ph;//Total no. of conductors\n",
"n=TotCon1/2;//no. of turns per phase\n",
"EMF=4.44*Kd*fi*f*n;//EMF per phase in volt\n",
"disp(EMF,'EMF per phase in volt : ');\n",
"VL=sqrt(3)*EMF;//line voltage in volt\n",
"disp(VL,'Line EMF in volt : ');"
   ]
   }
,
{
		   "cell_type": "markdown",
		   "metadata": {},
		   "source": [
			"## Example 1.6_p: Distribution_factor_and_pitch_factor.sce"
		   ]
		  },
  {
"cell_type": "code",
	   "execution_count": null,
	   "metadata": {
	    "collapsed": true
	   },
	   "outputs": [],
"source": [
"// Prob 1.6\n",
"clc;\n",
"clear;\n",
"close;\n",
"format('v',7);\n",
"// Given data\n",
"ph=3;//no. of phase\n",
"P=4;//no. of poles\n",
"s=36;//no. of slots\n",
"coilspan=8;//short pitch winding\n",
"alfa=180/(s/P);//slot pitch in degree\n",
"m=s/P/ph;//no. of slots per pole per phase\n",
"Kd=sind(m*alfa/2)/(m*sind(alfa/2));//distribution factor\n",
"disp(Kd,'Distribution factor : ');\n",
"coilspan1=s/P;//coil span for full pitch winding\n",
"s1=coilspan1-coilspan;//no. of slots by which the coil is short pitched\n",
"Beta=s1*alfa;//angle by which the coil is short pitched in degree\n",
"Kc=cosd(Beta/2);//pitch factor\n",
"disp(Kc,'Pitch factor : ');"
   ]
   }
,
{
		   "cell_type": "markdown",
		   "metadata": {},
		   "source": [
			"## Example 1.6: Pitch_factor.sce"
		   ]
		  },
  {
"cell_type": "code",
	   "execution_count": null,
	   "metadata": {
	    "collapsed": true
	   },
	   "outputs": [],
"source": [
"//Exa 1.6\n",
"clc;\n",
"clear;\n",
"close;\n",
"//given data\n",
"format('v',7);\n",
"StatorSlots=24//No. of stator slots\n",
"Poles=4;//No. of poles\n",
"SlotsPerPole=StatorSlots/Poles;// no. of slots per pole\n",
"coilSpan=1:6;//unitless\n",
"disp('If the sides of the coil are placed in slots 1 and 7, then it is full pitched, but if the coil slides are placed in 1 and 6 then it is short pitched and the distance equal to 5/6th of pole-pitch.');\n",
"disp('Since it falls short by 1/6th of the pole-pitch, hence it is short by :')\n",
"theta=180/SlotsPerPole;//in Degree\n",
"disp(string(theta)+' Degree.')\n",
"Kp=cosd(theta/2);//unitless\n",
"disp(Kp,'Pitch-factor Kp : ');"
   ]
   }
,
{
		   "cell_type": "markdown",
		   "metadata": {},
		   "source": [
			"## Example 1.7: Flux_per_pole.sce"
		   ]
		  },
  {
"cell_type": "code",
	   "execution_count": null,
	   "metadata": {
	    "collapsed": true
	   },
	   "outputs": [],
"source": [
"//Exa 1.7\n",
"clc;\n",
"clear;\n",
"close;\n",
"//given data\n",
"format('v',7);\n",
"NoOfPhase=3;//no of phase\n",
"Eph=3300/sqrt(3);//in Volts\n",
"f=50;//in Hz\n",
"Poles=12;//No. of poles\n",
"StatorSlots=144//No. of stator slots\n",
"SlotsPerPhase=StatorSlots/NoOfPhase;//no. of slots/phase\n",
"Conductors=5;//per slot\n",
"ConductorsPerphase=SlotsPerPhase*Conductors;//Conductors/Phase\n",
"S=ConductorsPerphase;//Conductors/phase\n",
"SlotsPerPolePerPhase=SlotsPerPhase/Poles;//no. of slots/phase\n",
"Kf=1.11;//Form Factor\n",
"Kb=0.96;//Breadth Factor\n",
"Kp=1;//For concentric winding\n",
"fi=Eph/(2*Kf*Kb*Kp*S*f);//in weber\n",
"disp(fi,'The Flux per pole in weber : ');"
   ]
   }
,
{
		   "cell_type": "markdown",
		   "metadata": {},
		   "source": [
			"## Example 1.7_p: Useful_flux_per_pole.sce"
		   ]
		  },
  {
"cell_type": "code",
	   "execution_count": null,
	   "metadata": {
	    "collapsed": true
	   },
	   "outputs": [],
"source": [
"// Prob 1.7\n",
"clc;\n",
"clear;\n",
"close;\n",
"format('v',6);\n",
"// Given data\n",
"EL=6600;//in volt\n",
"ph=3;//no. of phase\n",
"P=4;//no. of poles\n",
"f=50;//in Hz\n",
"s=60;//no. of slots\n",
"con=2;//no. of conductors/slot\n",
"coilslot=13-1;//\n",
"n=s/P;//Slot per pole\n",
"m=n/ph;//Slot per pole per phase\n",
"Zp=s*con/ph;//no. of conductors connected in series/phase\n",
"Beta=180/n;//in degree\n",
"Kd=sind(m*Beta/2)/(m*sind(Beta/2));//distribution factor\n",
"coilspan=coilslot*180/n;//coil span in degree\n",
"Kp=cosd((180-144)/2);//Coil apan factor\n",
"//formu;a : EL=sqrt(3)*4.44*Kd*Kp*fi*f*T;//in volt\n",
"T=20;//assumed\n",
"fi=EL/(sqrt(3)*4.44*Kd*Kp*f*T);//in Wb\n",
"disp(fi,'Useful flux per pole in Wb : ');\n",
"//Note : Answer in the book is by mistake given in volts."
   ]
   }
,
{
		   "cell_type": "markdown",
		   "metadata": {},
		   "source": [
			"## Example 1.8_p: Regulatio.sce"
		   ]
		  },
  {
"cell_type": "code",
	   "execution_count": null,
	   "metadata": {
	    "collapsed": true
	   },
	   "outputs": [],
"source": [
"// Prob 1.8\n",
"clc;\n",
"clear;\n",
"close;\n",
"format('v',5);\n",
"// Given data\n",
"ph=3;//no. of phase\n",
"P=10;//in KVA\n",
"VL=230;//in volt\n",
"Xs=1.2;//in ohms/phase\n",
"Ra=0.5;//in ohm/phase\n",
"VP=VL/sqrt(3);//in volt\n",
"I=P*10^3/(3*VP);//in Ampere\n",
"cosfi=0.8;//Power factor\n",
"sinfi=sind(acosd(cosfi));//\n",
"//Power factor 0.8 lagging\n",
"Eo=sqrt((VP*cosfi+I*Ra)^2+(VP*sinfi+I*Xs)^2);//in volt\n",
"Regulation=(Eo-VP)/VP*100;//in %\n",
"disp(Regulation,'% regulation when power factor lagging : ');\n",
"//Power factor 0.8 leading\n",
"Eo=sqrt((VP*cosfi+I*Ra)^2+(VP*sinfi-I*Xs)^2);//in volt\n",
"Regulation=(Eo-VP)/VP*100;//in %\n",
"disp(Regulation,'% regulation when power factor leading : ');"
   ]
   }
,
{
		   "cell_type": "markdown",
		   "metadata": {},
		   "source": [
			"## Example 1.8: Speed_and_line_emf.sce"
		   ]
		  },
  {
"cell_type": "code",
	   "execution_count": null,
	   "metadata": {
	    "collapsed": true
	   },
	   "outputs": [],
"source": [
"//Exa 1.8\n",
"clc;\n",
"clear;\n",
"close;\n",
"//given data\n",
"format('v',7);\n",
"Phase=3;//no. of phase\n",
"f=50;//in Hz\n",
"P=16;//No. of pole alternator\n",
"Slots=144;//No. of slots\n",
"conductors=10;//conductors per slot\n",
"fi=2.48*10^-2;//in weber\n",
"n=Slots/P;//No. of slots/pole\n",
"Zr=Slots*conductors/Phase;//No. of conductors/Phase\n",
"T=Zr/2;//N. of turns/phase\n",
"Beta=180/n;//Angular displacement between slots in degree\n",
"m=n/Phase;//No. of slots/pole/Phase\n",
"Kd=sind(m*Beta/2)/(m*sind(Beta/2));//Distribution factor :unitless \n",
"disp('The coil span falls short of 2 slots i.e. '+string(2*180/9)+' degree.');\n",
"alfa=40;//short pitch angle in degree\n",
"Kp=cosd(alfa/2);//Unitless\n",
"//Formula : f=P*N/120;//in Hz\n",
"N=120*f/P;//in rpm\n",
"Ep=4.44*Kd*Kp*fi*f*T;//in Volts\n",
"LineVoltage=sqrt(3)*Ep;//in Volts\n",
"disp('The speed is '+string(N)+' in rpm');\n",
"disp('The line emf is '+string(LineVoltage)+' Volts');\n",
"//Note : Answer in the book is not accurate."
   ]
   }
,
{
		   "cell_type": "markdown",
		   "metadata": {},
		   "source": [
			"## Example 1.9: Full_load_percentage_regulation.sce"
		   ]
		  },
  {
"cell_type": "code",
	   "execution_count": null,
	   "metadata": {
	    "collapsed": true
	   },
	   "outputs": [],
"source": [
"//Exa 1.9\n",
"clc;\n",
"clear;\n",
"close;\n",
"//given data\n",
"format('v',6);\n",
"RatedPower=100;//in KVA\n",
"RatedPower=100*1000;//in VA\n",
"VL=1040;//in Volt\n",
"Phase=3;//Machine phase\n",
"If=40;//in Ampere\n",
"Isc=200;//in Ampere\n",
"EL=1040;//in Volt\n",
"Eph=EL/sqrt(3);//in Volt\n",
"Zs=Eph/Isc;//in Ohm\n",
"Rs=0.2;//in Ohm\n",
"Xs=sqrt(Zs^2-Rs^2);//in Ohm\n",
"IL=19.25;//in Ampere\n",
"V=3000/sqrt(3);//in Volt\n",
"//At 0.8 power factor lagging\n",
"IRa=IL*0.2;//in Volt\n",
"IXs=IL*Xs;//in Volt\n",
"Vsin_fi=V*0.6;//in Volt\n",
"Vcos_fi=V*0.8;//in Volt\n",
"Eo=sqrt((Vcos_fi+IRa)^2+(Vsin_fi+IXs)^2);//in Volts\n",
"Regulation=((Eo-V)/V)*100;//in %\n",
"disp(Regulation,'Full load perentage regulation at a power factor of 0.8 lagging : ');\n",
"\n",
"//At 0.8 power factor leading\n",
"Eo=sqrt((Vcos_fi+IRa)^2+(Vsin_fi-IXs)^2);//in Volts\n",
"Regulation=((Eo-V)/V)*100;//in %\n",
"disp(Regulation,'Full load perentage regulation at a power factor of 0.8 leading : ');\n",
"disp('Negative regulation due to leading power factor.');"
   ]
   }
,
{
		   "cell_type": "markdown",
		   "metadata": {},
		   "source": [
			"## Example 1.9_p: No_of_armature_conductor.sce"
		   ]
		  },
  {
"cell_type": "code",
	   "execution_count": null,
	   "metadata": {
	    "collapsed": true
	   },
	   "outputs": [],
"source": [
"// Prob 1.9\n",
"clc;\n",
"clear;\n",
"close;\n",
"format('v',5);\n",
"// Given data\n",
"f=50;//in Hz\n",
"ph=3;//no. of phase\n",
"EL=10000;//in volt\n",
"fi=15*10^-2;//in Wb\n",
"Kd=0.96;//unitless\n",
"Kp=1;//unitless\n",
"P=10;//in KVA\n",
"T=EL/(sqrt(3)*4.44*Kd*Kp*fi*f);//turns/phase\n",
"Zp=2*T;//armature conductor connected in series per phase\n",
"disp(Zp,'Armature conductor connected in series per phase : ');\n",
"//Note : Answer in the book is wrong."
   ]
   }
],
"metadata": {
		  "kernelspec": {
		   "display_name": "Scilab",
		   "language": "scilab",
		   "name": "scilab"
		  },
		  "language_info": {
		   "file_extension": ".sce",
		   "help_links": [
			{
			 "text": "MetaKernel Magics",
			 "url": "https://github.com/calysto/metakernel/blob/master/metakernel/magics/README.md"
			}
		   ],
		   "mimetype": "text/x-octave",
		   "name": "scilab",
		   "version": "0.7.1"
		  }
		 },
		 "nbformat": 4,
		 "nbformat_minor": 0
}
