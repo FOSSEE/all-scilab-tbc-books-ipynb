{
"cells": [
 {
		   "cell_type": "markdown",
	   "metadata": {},
	   "source": [
       "# Chapter 3: Fractional KW motors"
	   ]
	},
{
		   "cell_type": "markdown",
		   "metadata": {},
		   "source": [
			"## Example 3.1: Capacitor_in_auxiliary_winding.sce"
		   ]
		  },
  {
"cell_type": "code",
	   "execution_count": null,
	   "metadata": {
	    "collapsed": true
	   },
	   "outputs": [],
"source": [
"//Exa 3.1\n",
"clc;\n",
"clear;\n",
"close;\n",
"//Given data :\n",
"format('v',7);\n",
"Za=3+3*%i;//in ohm\n",
"Zm=6+3*%i;//in ohm\n",
"//Phase difference 90 degree : so angle between Im and  V is 90-45 degree\n",
"theta=90-45;//in degree\n",
"f=50;//in Hz\n",
"//Formula : tand(theta)=(Xc-Xl)/R\n",
"Xl=3;//in ohm and Xc=1/(2*%pi*C)\n",
"R=6;//in ohm\n",
"C=1/(2*%pi*f*(tand(theta)*R+Xl));\n",
"disp(C*10^6,'Capacitance(in micro Farad) :');"
   ]
   }
],
"metadata": {
		  "kernelspec": {
		   "display_name": "Scilab",
		   "language": "scilab",
		   "name": "scilab"
		  },
		  "language_info": {
		   "file_extension": ".sce",
		   "help_links": [
			{
			 "text": "MetaKernel Magics",
			 "url": "https://github.com/calysto/metakernel/blob/master/metakernel/magics/README.md"
			}
		   ],
		   "mimetype": "text/x-octave",
		   "name": "scilab",
		   "version": "0.7.1"
		  }
		 },
		 "nbformat": 4,
		 "nbformat_minor": 0
}
