{
"cells": [
 {
		   "cell_type": "markdown",
	   "metadata": {},
	   "source": [
       "# Chapter 4: Special Purpose Machines"
	   ]
	},
{
		   "cell_type": "markdown",
		   "metadata": {},
		   "source": [
			"## Example 4.1: Stepping_angle.sce"
		   ]
		  },
  {
"cell_type": "code",
	   "execution_count": null,
	   "metadata": {
	    "collapsed": true
	   },
	   "outputs": [],
"source": [
"//Exa 4.1\n",
"clc;\n",
"clear;\n",
"close;\n",
"//Given data :\n",
"P=8;//no. of poles\n",
"T=5;//no. of teeteh in each pole\n",
"Nr=50;//no. of teeth in rotor\n",
"Ns=P*T;//no. of teeth\n",
"Beta=(Nr-Ns)*360/(Nr*Ns);//in degree\n",
"disp(Beta,'Stepping Angle(in degree) :');"
   ]
   }
,
{
		   "cell_type": "markdown",
		   "metadata": {},
		   "source": [
			"## Example 4.2: Resolution_steps_and_shaft_speed.sce"
		   ]
		  },
  {
"cell_type": "code",
	   "execution_count": null,
	   "metadata": {
	    "collapsed": true
	   },
	   "outputs": [],
"source": [
"//Exa 4.2\n",
"clc;\n",
"clear;\n",
"close;\n",
"//Given data :\n",
"Beta=2.5;//in degree\n",
"f=3600;//in PPs\n",
"Resolution=360;//in degree\n",
"disp(Resolution,'Resolution : ');\n",
"Beta1=Resolution/Beta;//steps/revolution\n",
"disp(Beta1,'Steps per revolution : ');\n",
"n=Beta*f/360;//in rps\n",
"disp(n,'Steps required for making 25 revolution(in rps) : ');"
   ]
   }
,
{
		   "cell_type": "markdown",
		   "metadata": {},
		   "source": [
			"## Example 4.3: No_of_rotor_and_stator_poles.sce"
		   ]
		  },
  {
"cell_type": "code",
	   "execution_count": null,
	   "metadata": {
	    "collapsed": true
	   },
	   "outputs": [],
"source": [
"//Exa 4.3\n",
"clc;\n",
"clear;\n",
"close;\n",
"//Given data :\n",
"Beta=15;//in degree\n",
"Phase=3;//no. of phase\n",
"//Formula : Beta*Nr=(360/phase)\n",
"Nr=(360/Phase)/Beta;//unitless\n",
"disp(Nr,'No. of rotor :');\n",
"//Case (i) : when Ns>Nr : Formula : Beta=(Ns-Nr)*360/(Ns*Nr)\n",
"Ns=Nr/(1-Beta*Nr/360);\n",
"disp(Ns,'No. of stator poles if Ns>Nr :');\n",
"//Case (ii) : when Nr>Ns : Formula : Beta=(Nr-Ns)*360/(Ns*Nr)\n",
"Ns=Nr/(1+Beta*Nr/360);\n",
"disp(Ns,'No. of stator poles if Nr>Ns :');"
   ]
   }
,
{
		   "cell_type": "markdown",
		   "metadata": {},
		   "source": [
			"## Example 4.4: No_of_rotor_and_stator_teeth.sce"
		   ]
		  },
  {
"cell_type": "code",
	   "execution_count": null,
	   "metadata": {
	    "collapsed": true
	   },
	   "outputs": [],
"source": [
"//Exa 4.4\n",
"clc;\n",
"clear;\n",
"close;\n",
"//Given data :\n",
"Beta=1.8;//in degree\n",
"m=4;//no. of phases\n",
"//Formula : Beta*Nr=(360/m)\n",
"Nr=(360/m)/Beta;//unitless\n",
"disp(Nr,'No. of rotor teeth :');\n",
"disp(Nr,'In multi stack motor rotor teeth equals to stator teeth equals to : ');"
   ]
   }
],
"metadata": {
		  "kernelspec": {
		   "display_name": "Scilab",
		   "language": "scilab",
		   "name": "scilab"
		  },
		  "language_info": {
		   "file_extension": ".sce",
		   "help_links": [
			{
			 "text": "MetaKernel Magics",
			 "url": "https://github.com/calysto/metakernel/blob/master/metakernel/magics/README.md"
			}
		   ],
		   "mimetype": "text/x-octave",
		   "name": "scilab",
		   "version": "0.7.1"
		  }
		 },
		 "nbformat": 4,
		 "nbformat_minor": 0
}
