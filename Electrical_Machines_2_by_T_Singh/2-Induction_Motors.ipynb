{
"cells": [
 {
		   "cell_type": "markdown",
	   "metadata": {},
	   "source": [
       "# Chapter 2: Induction Motors"
	   ]
	},
{
		   "cell_type": "markdown",
		   "metadata": {},
		   "source": [
			"## Example 2.10_p: Resistance_in_series.sce"
		   ]
		  },
  {
"cell_type": "code",
	   "execution_count": null,
	   "metadata": {
	    "collapsed": true
	   },
	   "outputs": [],
"source": [
"//problem 2.10\n",
"clc;\n",
"clear;\n",
"close;\n",
"//given data :\n",
"format('v',6);\n",
"P=4;//No. of poles\n",
"m=3;//No. of phase\n",
"f=50;//in Hz\n",
"Tmax=162.8;//in Nw-m\n",
"R2=0.2;//in ohm per phase\n",
"Speed=1365;//in rpm\n",
"Ns=120*f/P;//in rpm\n",
"S=(Ns-Speed)/Ns;//unitless\n",
"//Max. Torque condition : S=R2/X2\n",
"X2=R2/S;//in ohm/phase\n",
"disp('Tstarting=k*E2^2*R2/(R2^2+X2^2)=Tmax/2');\n",
"disp('and Tmax=k*E2^2/(2*X2^2)');\n",
"disp('This two eqn gives a polynomoial p for R2.');\n",
"p=[Tmax/2 -Tmax*2*X2 Tmax/2*X2^2];\n",
"R2=roots(p);\n",
"disp('Additional resistance is '+string(R2(1))+' ohm or '+string(R2(2))+' ohm');\n",
"disp('Higher value should be neglected. So answer is '+string(R2(2))+' ohm.');"
   ]
   }
,
{
		   "cell_type": "markdown",
		   "metadata": {},
		   "source": [
			"## Example 2.10: Rotor_current_at_various_slip.sce"
		   ]
		  },
  {
"cell_type": "code",
	   "execution_count": null,
	   "metadata": {
	    "collapsed": true
	   },
	   "outputs": [],
"source": [
"//Exa 2.10\n",
"clc;\n",
"clear;\n",
"close;\n",
"//Given data : \n",
"f=50;//in Hz\n",
"R2=0.2;//in ohm\n",
"X2=2;//im ohm\n",
"E2=60;//in volt\n",
"E2perphase=E2/sqrt(3);//in volt\n",
"//case (i) : S=1 \n",
"S=1;//unitless\n",
"Z2=sqrt(R2^2+(S*X2)^2);\n",
"I2=E2perphase*S/Z2;//in Ampere\n",
"disp(I2,'At standstill : Rotor current in Ampere : ');\n",
"//case (ii) : S=0.1 \n",
"S=0.1;//unitless\n",
"Z2=sqrt(R2^2+(S*X2)^2);\n",
"I2=E2perphase*S/Z2;//in Ampere\n",
"disp(I2,'for 10% slip : Rotor current in Ampere : ');\n",
"//case (iii) : S=0.05 \n",
"S=0.05;//unitless\n",
"Z2=sqrt(R2^2+(S*X2)^2);\n",
"I2=E2perphase*S/Z2;//in Ampere\n",
"disp(I2,'for 5% slip : Rotor current in Ampere : ');\n",
"//case (iv) : S=0.01 \n",
"S=0.01;//unitless\n",
"Z2=sqrt(R2^2+(S*X2)^2);\n",
"I2=E2perphase*S/Z2;//in Ampere\n",
"disp(I2,'for 1% slip : Rotor current in Ampere : ');\n",
"//Note : Answer in the book is wrong for S=0.05 and S=0.01"
   ]
   }
,
{
		   "cell_type": "markdown",
		   "metadata": {},
		   "source": [
			"## Example 2.11: Current_in_each_phase_and_power_factor.sce"
		   ]
		  },
  {
"cell_type": "code",
	   "execution_count": null,
	   "metadata": {
	    "collapsed": true
	   },
	   "outputs": [],
"source": [
"//Exa 2.11\n",
"clc;\n",
"clear;\n",
"close;\n",
"//Given data : \n",
"R2=0.5;//in ohm\n",
"X=4.5;//im ohm\n",
"E=50;//line voltage in volt\n",
"Eperphase=E/sqrt(3);//in volt\n",
"//part (a) : Sliprings are short circuited\n",
"Z2=sqrt(R2^2+X^2);//in ohm\n",
"I2=Eperphase/Z2;//in Ampere\n",
"disp(I2,'Sliprings are short circuited, Rotor current in Ampere : ');\n",
"cosfi2=R2/Z2;//unitless\n",
"disp(cosfi2,'Power factor : ');\n",
"//part (b) : Sliprings are connected \n",
"R2=0.4;//in ohm\n",
"Z2=sqrt(R2^2+X^2);//in ohm\n",
"I2=Eperphase/Z2;//in Ampere\n",
"disp(I2,'Sliprings are short circuited, Rotor current in Ampere : ');\n",
"cosfi2=R2/Z2;//unitless\n",
"disp(cosfi2,'Power factor : ');\n",
"//Note : answer of part (a) I2 is not curate in the book."
   ]
   }
,
{
		   "cell_type": "markdown",
		   "metadata": {},
		   "source": [
			"## Example 2.11_p: No_of_poles_and_slip.sce"
		   ]
		  },
  {
"cell_type": "code",
	   "execution_count": null,
	   "metadata": {
	    "collapsed": true
	   },
	   "outputs": [],
"source": [
"//problem 2.11\n",
"clc;\n",
"clear;\n",
"close;\n",
"//given data :\n",
"N=290;//in rpm\n",
"f=50;//in Hz\n",
"disp('Motor running at full load, no. of poles should be 20');\n",
"P=20;//no. of poles\n",
"Ns=120*f/P;//in rpm\n",
"Slip=(Ns-N)/Ns*100;//in %\n",
"disp('T is proportional to S/R2 but T is same');\n",
"Slip=2*Slip;//doubling R2 also doubles the slip\n",
"disp(Slip,'New value of slip is : ');"
   ]
   }
,
{
		   "cell_type": "markdown",
		   "metadata": {},
		   "source": [
			"## Example 2.12: External_Resistance_per_phase.sce"
		   ]
		  },
  {
"cell_type": "code",
	   "execution_count": null,
	   "metadata": {
	    "collapsed": true
	   },
	   "outputs": [],
"source": [
"//Exa 2.11\n",
"clc;\n",
"clear;\n",
"close;\n",
"//Given data : \n",
"R2=0.02;//in ohm\n",
"X2=0.1;//im ohm\n",
"//let external resistance per phase = r then R2=R2+r ohm\n",
"S=1;//slip at starting\n",
"disp('Torque at standing will be maximum if R2/X2=S=1');\n",
"disp('Since at start speed is zero and slip is, therefore, unity or R2=X2');\n",
"r=X2-R2;//in ohm\n",
"disp(r,'External resistance per phase added to the rotor circuit in ohms : ');"
   ]
   }
,
{
		   "cell_type": "markdown",
		   "metadata": {},
		   "source": [
			"## Example 2.12_p: Starting_torque.sce"
		   ]
		  },
  {
"cell_type": "code",
	   "execution_count": null,
	   "metadata": {
	    "collapsed": true
	   },
	   "outputs": [],
"source": [
"//problem 2.12\n",
"clc;\n",
"clear;\n",
"close;\n",
"//given data :\n",
"//Isc=4*If;\n",
"Isc_by_If=4;\n",
"Slip=2.5;//in %\n",
"disp('Ts is proportional to Is^2');\n",
"disp('and Tf is proportional to If^2/S');\n",
"disp('From these eqn we get :')\n",
"Ts_by_Tf=(Isc_by_If)^2*(Slip/100);//ratio\n",
"disp('Starting torque is '+string(Ts_by_Tf*100)+' % of full load torque.');"
   ]
   }
,
{
		   "cell_type": "markdown",
		   "metadata": {},
		   "source": [
			"## Example 2.13: External_Rotor_Resistance_per_phase.sce"
		   ]
		  },
  {
"cell_type": "code",
	   "execution_count": null,
	   "metadata": {
	    "collapsed": true
	   },
	   "outputs": [],
"source": [
"//Exa 2.13\n",
"clc;\n",
"clear;\n",
"close;\n",
"//Given data : \n",
"P=4;//no. of poles\n",
"f=50;//in Hz\n",
"R2=0.03;//in ohm\n",
"X2=0.12;//im ohm\n",
"Smax=R2/X2;//unitless\n",
"Ns=120*f/P;//in rpm\n",
"N=Ns*(1-Smax);//in rpm\n",
"disp(N,'Speed corresponding to maximum torque(in rpm) :');\n",
"disp('Let r be the external resistance introduced per phase in the rotor circuit. Ratio of rotor circuit resistance to rotor standstill resistance=alfa ');\n",
"//alfa=(R2+r)/X2\n",
"//Ratio of starting torque to max torque=75/100=2*alfa/(alfa^2+1)\n",
"//It gives : 3*alfa^2-8*alfa+3=0\n",
"//coefficients :\n",
"a=3;b=-8;c=3;\n",
"alfa1=(-b+sqrt(b^2-4*a*c))/(2*a);alfa2=(-b-sqrt(b^2-4*a*c))/(2*a);\n",
"disp('rejecting higher values, alfa = '+string(alfa2));\n",
"fdash=1.5;//in Hz\n",
"r=alfa2*X2-R2;//in ohm;\n",
"disp(r,'External rotor resistance per phase(in ohm) : ');"
   ]
   }
,
{
		   "cell_type": "markdown",
		   "metadata": {},
		   "source": [
			"## Example 2.13_p: Starting_and_Maximum_Torque.sce"
		   ]
		  },
  {
"cell_type": "code",
	   "execution_count": null,
	   "metadata": {
	    "collapsed": true
	   },
	   "outputs": [],
"source": [
"//problem 2.13\n",
"clc;\n",
"clear;\n",
"close;\n",
"//given data :\n",
"format('v',6);\n",
"m=3;//No. of phase\n",
"P=6;//no. of poles\n",
"f=50;//in Hz\n",
"Xo=6;//in ohm per phase\n",
"R=1;//in ohm per phase\n",
"Eo=62.8;//in volt\n",
"Ns=120*f/P;//in rpm\n",
"Omega_s=2*%pi*Ns/60;//in radians/sec\n",
"K=m/Omega_s;\n",
"S=1;//slip at starting\n",
"Ts=K*S*Eo^2*R/(R^2+(S*Xo)^2);//in Nw-m\n",
"disp(Ts,'Starting torque(Nw-m) : ')\n",
"S=R/Xo;//slip for max torque\n",
"Tmax=K*Eo^2/(2*Xo);//in Nw-m\n",
"disp(Tmax,'Maximum torque(Nw-m) : ')\n",
"//Note  : Answer in the book is wrong due to calculation mistake."
   ]
   }
,
{
		   "cell_type": "markdown",
		   "metadata": {},
		   "source": [
			"## Example 2.14_p: Total_Torque.sce"
		   ]
		  },
  {
"cell_type": "code",
	   "execution_count": null,
	   "metadata": {
	    "collapsed": true
	   },
	   "outputs": [],
"source": [
"//problem 2.14\n",
"clc;\n",
"clear;\n",
"close;\n",
"//given data :\n",
"format('v',6);\n",
"m=3;//No. of phase\n",
"P=4;//no. of poles\n",
"f=50;//in Hz\n",
"VL=200;//in volt\n",
"R=0.1;//in ohm per phase\n",
"Xo=0.9;//in ohm per phase\n",
"TurnsRatio=0.67;//ratio\n",
"S=4;//in %\n",
"Vphase=VL/sqrt(3);//in volt\n",
"Vrotor=Vphase*TurnsRatio;//in volt\n",
"Ns=1500;//in rpm\n",
"Omega_s=2*%pi*Ns/60;//in radians/sec\n",
"K=m/Omega_s;\n",
"S=S/100;//slip unitless\n",
"Ts=K*S*Vrotor^2*R/(R^2+(S*Xo)^2);//in Nw-m\n",
"disp(Ts,'Starting torque(Nw-m) : ')\n",
"//Note : Answer in the book is wrong due to calculation mistake."
   ]
   }
,
{
		   "cell_type": "markdown",
		   "metadata": {},
		   "source": [
			"## Example 2.14: Speed_develop_max_torque.sce"
		   ]
		  },
  {
"cell_type": "code",
	   "execution_count": null,
	   "metadata": {
	    "collapsed": true
	   },
	   "outputs": [],
"source": [
"//Exa 2.14\n",
"clc;\n",
"clear;\n",
"close;\n",
"//Given data :\n",
"P=4;//no. of poles\n",
"f=50;//in Hz\n",
"R2=0.024;//in ohm\n",
"X2=0.6;//in ohm \n",
"disp('Since the torque under running condition is maximum at that value of slip which makes rotor reactance per phase equal to the rotor resistance per phase.')\n",
"Sm=R2/X2;//slip corresponding to max torque\n",
"Ns=120*f/P;//in rpm\n",
"N=Ns*(1-Sm);//in rpm\n",
"disp(N,'Speed corresponding to maximum torque in rpm : ');"
   ]
   }
,
{
		   "cell_type": "markdown",
		   "metadata": {},
		   "source": [
			"## Example 2.15_p: Resistance_and_Power.sce"
		   ]
		  },
  {
"cell_type": "code",
	   "execution_count": null,
	   "metadata": {
	    "collapsed": true
	   },
	   "outputs": [],
"source": [
"//problem 2.15\n",
"clc;\n",
"clear;\n",
"close;\n",
"//given data :\n",
"format('v',7);\n",
"m=3;//No. of phase\n",
"P=8;//no. of poles\n",
"f=50;//in Hz\n",
"Pout=15;//in KW\n",
"S=4;//in %\n",
"R2=0.2;//in ohm per phase\n",
"Xo=1.5;//in ohm per phase\n",
"N=400;//in rpm\n",
"Ns=120*f/P;//in rpm\n",
"Sdash=(Ns-N)/Ns*100;//unitless\n",
"R2dash=R2*Sdash/S;//in ohm/phase\n",
"Radded=R2dash-R2;//in ohm\n",
"disp(Radded,'Resistance to be added in ohm : ');\n",
"Mechpower=Pout;//in KW\n",
"RotorInput=Mechpower/(1-S/100);//in KW\n",
"disp(RotorInput*1000,' Input to the rotor(in watts)  : ');\n",
"RotorCuLoss=Sdash/100*RotorInput;//in KW\n",
"disp(RotorCuLoss*1000,'Rotor Copper Loss(in watts) : ');\n",
"OutPower=RotorInput-RotorCuLoss;//in KW\n",
"disp(OutPower*1000,'Output power(in Watts) : ');\n",
"disp(RotorInput*1000,'Input at a slip of 4%(in Watts) : ');\n",
"//Note  : Answer in the book is wrong due to calculation mistake."
   ]
   }
,
{
		   "cell_type": "markdown",
		   "metadata": {},
		   "source": [
			"## Example 2.15: Speed_and_max_torque_in_terms_of_full_load_torque.sce"
		   ]
		  },
  {
"cell_type": "code",
	   "execution_count": null,
	   "metadata": {
	    "collapsed": true
	   },
	   "outputs": [],
"source": [
"//Exa 2.15\n",
"clc;\n",
"clear;\n",
"close;\n",
"//Given data :\n",
"P=6;//no. of poles\n",
"f=50;//in Hz\n",
"Sf=4;//in %\n",
"R2=0.01;//in ohm\n",
"X2=0.05;//im \n",
"Ratio=((R2/X2)^2+(Sf/100)^2)/(2*R2*(Sf/100)/X2);//ratio of max torque to full load torque\n",
"disp('Maximum torque, Tmax='+string(Ratio)+'Tf');\n",
"disp('Since the torque under running condition is maximum at that value of slip which makes rotor reactance per phase equal to the rotor resistance per phase.')\n",
"Sm=R2/X2;//slip corresponding to max torque\n",
"Ns=120*f/P;//in rpm\n",
"N=Ns*(1-Sm);//in rpm\n",
"disp(N,'Speed corresponding to maximum torque in rpm : ');"
   ]
   }
,
{
		   "cell_type": "markdown",
		   "metadata": {},
		   "source": [
			"## Example 2.16_p: Calculate_Slip.sce"
		   ]
		  },
  {
"cell_type": "code",
	   "execution_count": null,
	   "metadata": {
	    "collapsed": true
	   },
	   "outputs": [],
"source": [
"//problem 2.16\n",
"clc;\n",
"clear;\n",
"close;\n",
"//given data :\n",
"format('v',6);\n",
"Eff=0.8;//unitless\n",
"Load=20;//in HP\n",
"Load=Load*735.5;//in watts\n",
"//IronLoss=K;//assumed\n",
"//MechLoss=K/3;\n",
"//RotorCuLoss=StatorCuLoss=IronLoss=K;\n",
"//TotLoss=K+K+K+K/3=10*K/3;//\n",
"Input=Load/Eff;//in watts\n",
"TotLoss=Input-Load;//in watts\n",
"K=TotLoss*3/10;//in watts\n",
"IronLoss=K;//in watts\n",
"StatorCuLoss=K;//in watts\n",
"RotorCuLoss=K;//in watts\n",
"MechLoss=K/3;//in watts\n",
"RotInput=Load+MechLoss+RotorCuLoss;//in watts\n",
"//Formula : RotorCuLoss=S*RotInput\n",
"S=RotorCuLoss/RotInput;//unitless\n",
"disp(S,'Slip is : ');"
   ]
   }
,
{
		   "cell_type": "markdown",
		   "metadata": {},
		   "source": [
			"## Example 2.16: Speed_and_ratio_of_max_torque_to_full_load_torque.sce"
		   ]
		  },
  {
"cell_type": "code",
	   "execution_count": null,
	   "metadata": {
	    "collapsed": true
	   },
	   "outputs": [],
"source": [
"//Exa 2.16\n",
"clc;\n",
"clear;\n",
"close;\n",
"//Given data :\n",
"P=12;//no. of poles\n",
"f=50;//in Hz\n",
"R2=0.03;//in ohm\n",
"X2=0.5;//im \n",
"S=R2/X2;//unitless\n",
"Ns=120*f/P;//in rpm\n",
"N=Ns*(1-S);//in rpm\n",
"disp(N,'Speed at maximum torque in rpm : ');\n",
"S=(Ns-495)/Ns;//slip at 495 rpm speed\n",
"Ratio=(2*R2*S/X2)/((R2/X2)^2+S^2);//ratio of max torque to full load torque\n",
"disp(Ratio*100,'Ratio of full load torque to max torque(in %) :');"
   ]
   }
,
{
		   "cell_type": "markdown",
		   "metadata": {},
		   "source": [
			"## Example 2.17_p: Motor_current_per_phase.sce"
		   ]
		  },
  {
"cell_type": "code",
	   "execution_count": null,
	   "metadata": {
	    "collapsed": true
	   },
	   "outputs": [],
"source": [
"//problem 2.17\n",
"clc;\n",
"clear;\n",
"close;\n",
"//given data :\n",
"format('v',6);\n",
"m=3;//no. of phase\n",
"P=6;//no. of poles\n",
"f=50;//in Hz\n",
"Pin=20;//in KW\n",
"N=960;//in rpm\n",
"R2=1/3;//in ohm/phase\n",
"Ns=120*f/P;//in rpm\n",
"S=(Ns-N)/Ns;//unitless\n",
"RotCuLoss=S*Pin*1000;//in Watts\n",
"RotCuLoss=S*Pin*1000/m;//in Watts/phase\n",
"//Formula : I2^2*R2=RorCuLoss per phase\n",
"I2=sqrt(RotCuLoss/R2);//in Ampere\n",
"disp(I2,'Rotor current in Ampere : ');"
   ]
   }
,
{
		   "cell_type": "markdown",
		   "metadata": {},
		   "source": [
			"## Example 2.17: Resistance_inserted_in_series.sce"
		   ]
		  },
  {
"cell_type": "code",
	   "execution_count": null,
	   "metadata": {
	    "collapsed": true
	   },
	   "outputs": [],
"source": [
"//Exa 2.17\n",
"clc;\n",
"clear;\n",
"close;\n",
"//Given data :\n",
"P=12;//no. of poles\n",
"f=50;//in Hz\n",
"R2=0.5;//in ohm\n",
"N=475;//in rpm\n",
"Ns=120*f/P;//in rpm\n",
"S=(Ns-N)/Ns;//unitless\n",
"X2=R2/S;//in ohm\n",
"disp('At maximum torque, Tmax is proportional to 1/2*X2 or 1/20');\n",
"disp('Now if a resistance R is to be inserted in series with each phase of the rotor to reduce the starting torque to 1/3 of maximum torque, then');\n",
"disp('Ts is proportional to (R2+R)/((R2+R)^2+X2^2)');\n",
"disp('Also, Ts is proportional to 1(20*3)');\n",
"disp('Equating the two eqn we have : (0.5*R)/(R2+R)^2+X2^2');\n",
"//R^2-59R+70.25=0 : \n",
"//coefficients :\n",
"a=1;b=-59;c=70.25;\n",
"R=(-b-sqrt(b^2-4*a*c))/(2*a);\n",
"disp(R,'Resistance R to be inserted in series (in ohm) :');\n",
"//Note : answer in the book is wrong."
   ]
   }
,
{
		   "cell_type": "markdown",
		   "metadata": {},
		   "source": [
			"## Example 2.18_p: Maximum_Torque.sce"
		   ]
		  },
  {
"cell_type": "code",
	   "execution_count": null,
	   "metadata": {
	    "collapsed": true
	   },
	   "outputs": [],
"source": [
"//problem 2.18\n",
"clc;\n",
"clear;\n",
"close;\n",
"//given data :\n",
"format('v',6);\n",
"P=8;//no. of poles\n",
"f=50;//in Hz\n",
"R2=0.04;//in ohm/phase\n",
"N=645;//in rpm\n",
"Ns=120*f/P;//in rpm\n",
"S=(Ns-N)/Ns*100;//unitless\n",
"S=S/100;//unitless\n",
"//S=R2/X2;//at max torque\n",
"X2=R2/S;//in ohm per phase\n",
"a=R2/X2;//unitless\n",
"TstartBYTmax=2*a/(a^2+1);//ratio\n",
"TstartBYTmax=2*a/(a^2+1)*100;//in %\n",
"disp(round(TstartBYTmax),'% of max torque is : ');\n",
"S=3;//in %\n",
"S=3/100;//unitless\n",
"TflBYTmax=2*a*S/(a^2+S^2);//ratio\n",
"TflBYTmax=2*a*S/(a^2+S^2)*100;//in %\n",
"disp(round(TflBYTmax),'% of max torque at slip 3% is : ');"
   ]
   }
,
{
		   "cell_type": "markdown",
		   "metadata": {},
		   "source": [
			"## Example 2.18: Starting_torquea_as_a_percentage_of_mx_torque.sce"
		   ]
		  },
  {
"cell_type": "code",
	   "execution_count": null,
	   "metadata": {
	    "collapsed": true
	   },
	   "outputs": [],
"source": [
"//Exa 2.18\n",
"clc;\n",
"clear;\n",
"close; \n",
"//Given data :\n",
"P=4;//no. of poles\n",
"f=50;//in Hz\n",
"R2=0.04;//in ohm\n",
"N=1200;//in rpm(speed at max torque)\n",
"Ns=120*f/P;//in rpm(synchronous speed)\n",
"S=(Ns-N)/Ns;//unitless\n",
"X2=R2/S;//in ohm\n",
"//Starting torque is the torque devloped when S=1: Tst=K*R2/(R2^2+X2^2)\n",
"//Let say, m=R2/(R2^2+X2^2) then Tst=K*m\n",
"m=R2/(R2^2+X2^2);//assumed\n",
"disp('Starting torque, Tst='+string(m)+'k');\n",
"disp('Maximum torque, Tm=K/'+string(2*X2));\n",
"disp('Thus, Tst in terms of Tm can be expressed as : ');\n",
"disp('Tst/Tm='+string(0.96*0.4)+' or Tst='+string(0.96*0.4)+'Tm');\n",
"disp('Therefore, staring torque is '+string(0.96*0.4*100)+'% of maximum torque.');"
   ]
   }
,
{
		   "cell_type": "markdown",
		   "metadata": {},
		   "source": [
			"## Example 2.19_p: Current_per_phase_and_power_factor.sce"
		   ]
		  },
  {
"cell_type": "code",
	   "execution_count": null,
	   "metadata": {
	    "collapsed": true
	   },
	   "outputs": [],
"source": [
"//problem 2.19\n",
"clc;\n",
"clear;\n",
"close;\n",
"//given data :\n",
"format('v',5);\n",
"m=3;//no. of phase\n",
"emf=50;//in volt\n",
"E2=emf/sqrt(3);//emf/phase\n",
"R2=0.5;//in ohm/phase\n",
"X2=4.5;//in ohm/phase\n",
"//(a) Sliprings are short circuited\n",
"Z2=sqrt(R2^2+X2^2);//in oghm per phase\n",
"I2=E2/Z2;//in Ampere\n",
"disp(I2,'Rotor current per phase(Ampere) : ');\n",
"cosfi2=R2/Z2;//unitless\n",
"disp(cosfi2,'Rotor power factor : ');\n",
"//(a) Sliprings are connected to star connected rheostat\n",
"R2=4+R2;//in ohm/phase\n",
"Z2=sqrt(R2^2+X2^2);//in oghm per phase\n",
"I2=E2/Z2;//in Ampere\n",
"disp(I2,'Rotor current per phase(Ampere) : ');\n",
"cosfi2=R2/Z2;//unitless\n",
"disp(cosfi2,'Rotor power factor : ');"
   ]
   }
,
{
		   "cell_type": "markdown",
		   "metadata": {},
		   "source": [
			"## Example 2.19: Speed_slip_and_cu_loss.sce"
		   ]
		  },
  {
"cell_type": "code",
	   "execution_count": null,
	   "metadata": {
	    "collapsed": true
	   },
	   "outputs": [],
"source": [
"//Exa 2.19\n",
"clc;\n",
"clear;\n",
"close;\n",
"//Given data :\n",
"P=6;//no. of poles\n",
"f=50;//in Hz\n",
"fr=3;//in Hz\n",
"R2=0.5;//in ohm\n",
"N=475;//in rpm\n",
"RotorInput=111.9;//in KW\n",
"Ns=120*f/P;//in rpm\n",
"S=fr*100/f;//unitless\n",
"disp(S,'% Slip : ');\n",
"N=Ns*(1-S/100);//in rpm\n",
"disp(N,'Speed of motor in rpm : ');\n",
"RotorCopperLoss=RotorInput*S/100;//in KW\n",
"RotorCopperLoss=RotorCopperLoss/3;//in KW/Phase\n",
"disp(RotorCopperLoss,'Rotor Copper Loss per phase(in KW) : ');"
   ]
   }
,
{
		   "cell_type": "markdown",
		   "metadata": {},
		   "source": [
			"## Example 2.1_p: Synchronous_Speed.sce"
		   ]
		  },
  {
"cell_type": "code",
	   "execution_count": null,
	   "metadata": {
	    "collapsed": true
	   },
	   "outputs": [],
"source": [
"//problem 2.1\n",
"clc;\n",
"clear;\n",
"close;\n",
"//given data :\n",
"P=8;//No. of poles\n",
"f=50;//in Hz\n",
"Ns=120*f/P;//in rpm\n",
"disp(Ns,'Synchronous speed in rpm : ');"
   ]
   }
,
{
		   "cell_type": "markdown",
		   "metadata": {},
		   "source": [
			"## Example 2.1: Synchronous_speed_and_slip.sce"
		   ]
		  },
  {
"cell_type": "code",
	   "execution_count": null,
	   "metadata": {
	    "collapsed": true
	   },
	   "outputs": [],
"source": [
"//Exa 2.1\n",
"clc;\n",
"clear;\n",
"close;\n",
"//Given data : \n",
"P=2;//no. of poles\n",
"f=60;//in Hz\n",
"N=3460;//in rpm\n",
"Ns=120*f/P;//in rpm\n",
"Slip=Ns-N;//in rpm\n",
"PercentageSlip=(Ns-N)*100/Ns;//in %\n",
"disp(Ns,'Synchronous speed in rpm : ');\n",
"disp(round(PercentageSlip),'Percentage Slip : ');"
   ]
   }
,
{
		   "cell_type": "markdown",
		   "metadata": {},
		   "source": [
			"## Example 2.20: Mech_power_and_Cu_loss.sce"
		   ]
		  },
  {
"cell_type": "code",
	   "execution_count": null,
	   "metadata": {
	    "collapsed": true
	   },
	   "outputs": [],
"source": [
"//Exa 2.20\n",
"clc;\n",
"clear;\n",
"close;\n",
"//Given data :\n",
"phase=3;//no. of phase\n",
"Pin_stator=60;//Power input of stator in KW\n",
"TotalStatorLosses=1;//in KW\n",
"Pin_rotor=Pin_stator-TotalStatorLosses;//Power input of rotor in KW\n",
"S=3;//slip in %\n",
"RotorCopperLosses=(S/100)*Pin_rotor;//in KW\n",
"RotorCopperLosses=RotorCopperLosses/phase;//in KW per phase\n",
"disp(RotorCopperLosses*10^3,'Rotor Copper Losses per phase(in watts) : ');\n",
"TotalMechPowerDev=Pin_rotor*(1-S/100);//in KW\n",
"disp(TotalMechPowerDev,'Total mechanial power developed(in KW) : ') ;"
   ]
   }
,
{
		   "cell_type": "markdown",
		   "metadata": {},
		   "source": [
			"## Example 2.20_p: Ratio_Tst_and_Tfl.sce"
		   ]
		  },
  {
"cell_type": "code",
	   "execution_count": null,
	   "metadata": {
	    "collapsed": true
	   },
	   "outputs": [],
"source": [
"//problem 2.20\n",
"clc;\n",
"clear;\n",
"close;\n",
"//given data :\n",
"format('v',6);\n",
"m=3;//no. of phase\n",
"TmaxBYTfl=2.5;//ratio\n",
"R2=0.5;//in ohm/phase\n",
"X2=5;//in ohm/phase\n",
"//Formula: Tst=K*E2^2*R2/(R2^2+X2^2) and Tm=K*E2^2/(2*X2)\n",
"TstBYTfl=TmaxBYTfl*2*X2*R2/(R2^2+X2^2);//ratio\n",
"disp(TstBYTfl,'(a) For direct on line starting, ratio starting torque to Full load torque is : ');\n",
"//For star delta starting :\n",
"TstBYTfl=(1/3)*TmaxBYTfl*2*X2*R2/(R2^2+X2^2);//ratio\n",
"disp(TstBYTfl,'(b) For star delta starting, ratio starting torque to Full load torque is : ');\n",
"//For auto transformer starting with tapping at 75 %\n",
"TstBYTfl=(75/100)^2*TmaxBYTfl*2*X2*R2/(R2^2+X2^2);//ratio\n",
"disp(TstBYTfl,'(c) For star delta starting, ratio starting torque to Full load torque is : ');"
   ]
   }
,
{
		   "cell_type": "markdown",
		   "metadata": {},
		   "source": [
			"## Example 2.21: Speed_and_cu_loss.sce"
		   ]
		  },
  {
"cell_type": "code",
	   "execution_count": null,
	   "metadata": {
	    "collapsed": true
	   },
	   "outputs": [],
"source": [
"//Exa 2.21\n",
"clc;\n",
"clear;\n",
"close;\n",
"//Given data :\n",
"P=6;//no. of poles\n",
"S=4;//slip in %\n",
"Output=20;//in KW\n",
"FrictionalLoss=250;//in watts\n",
"f=50;//in Hz\n",
"Ns=120*f/P;//in rpm\n",
"N=Ns-Ns*(S/100);//in rpm\n",
"disp(N,'Speed of motor(in rpm) : ');\n",
"MechPowerDeveloped=Output*10^3+FrictionalLoss;//in Watts\n",
"S=S/100;//unitless\n",
"RotorCopperLoss=(S/(1-S))*MechPowerDeveloped;//in watts\n",
"disp(RotorCopperLoss,'Rotor Copper Loss(in watts) : ');"
   ]
   }
,
{
		   "cell_type": "markdown",
		   "metadata": {},
		   "source": [
			"## Example 2.22: Slip_Speed_Power_Loss_Current.sce"
		   ]
		  },
  {
"cell_type": "code",
	   "execution_count": null,
	   "metadata": {
	    "collapsed": true
	   },
	   "outputs": [],
"source": [
"//Exa 2.22\n",
"clc;\n",
"clear;\n",
"close;\n",
"//Given data :\n",
"format('v',6);\n",
"phase=3;//no. of phase\n",
"P=6;//no. of poles\n",
"Pin_rotor=80;//Power input of rotor in KW\n",
"f=50;//in Hz\n",
"fdash=100;//alternations per minute\n",
"fdash=100/60;//in Hz\n",
"S=fdash/f;//unitless\n",
"disp(S,'Slip : ');\n",
"Ns=120*f/P;//synchronous speed in rpm\n",
"N=Ns-Ns*S;//in rpm\n",
"disp(round(N),'Rotor Speed(in rpm) : ');\n",
"MechPowerDev=Pin_rotor*(1-S)*10^3/735.5;//in H.P.\n",
"disp(MechPowerDev,'Total mechanial power developed(in KW) : ') ;\n",
"RotorCopperLoss=S*Pin_rotor*10^3;//in watts\n",
"disp(RotorCopperLoss,'Rotor Copper Loss(in watts) : ');\n",
"CopperLoss=RotorCopperLoss/phase;//in watts/phase\n",
"disp(CopperLoss,'Copper Loss per phase(in watts) : ');\n",
"I2=60;//in Ampere\n",
"R2=CopperLoss/I2^2;//in ohm\n",
"disp(R2,'Rotorresistance per phase(in ohm) : ');\n",
"//Note : Some answers are not accurate in the book."
   ]
   }
,
{
		   "cell_type": "markdown",
		   "metadata": {},
		   "source": [
			"## Example 2.23: Copper_Loss_and_Efficiency.sce"
		   ]
		  },
  {
"cell_type": "code",
	   "execution_count": null,
	   "metadata": {
	    "collapsed": true
	   },
	   "outputs": [],
"source": [
"//Exa 2.23\n",
"clc;\n",
"clear;\n",
"close;\n",
"//Given data :\n",
"format('v',6);\n",
"UsefulOutput=55;//in H.P.\n",
"MechLosses=2;//in H.P.\n",
"Stator_Losses=13.5;//in KW\n",
"MechPowerDev=UsefulOutput+MechLosses;//in H.P.\n",
"MechPowerDev=MechPowerDev*735.5/1000;//in KW\n",
"S=50;//in %\n",
"Pin_Rotor=MechPowerDev/(1-S/100);//in KW\n",
"RotorCopperLoss=(S/100)*Pin_Rotor;//in KW\n",
"disp(RotorCopperLoss,'Rotor Copper Loss(in KW) : ');\n",
"Pin_Motor=Pin_Rotor+Stator_Losses;//in KW\n",
"Efficiency=UsefulOutput*0.7355/Pin_Motor;///unitless\n",
"disp(Efficiency*100,'Effiiency(in %) :');"
   ]
   }
,
{
		   "cell_type": "markdown",
		   "metadata": {},
		   "source": [
			"## Example 2.24: Slip_speed_Loss_Resistance_Power.sce"
		   ]
		  },
  {
"cell_type": "code",
	   "execution_count": null,
	   "metadata": {
	    "collapsed": true
	   },
	   "outputs": [],
"source": [
"//Exa 2.24\n",
"clc;\n",
"clear;\n",
"close;\n",
"//Given data :\n",
"format('v',6);\n",
"phase=3;//no. of phase\n",
"P=6;//no. of poles\n",
"Pin_rotor=80;//Power input of rotor in KW\n",
"f=50;//in Hz\n",
"fdash=100;//alternations per minute\n",
"fdash=100/60;//in Hz\n",
"S=fdash/f;//unitless\n",
"disp(S,'Slip : ');\n",
"Ns=120*f/P;//synchronous speed in rpm\n",
"N=Ns-Ns*S;//in rpm\n",
"disp(round(N),'Rotor Speed(in rpm) : ');\n",
"RotorCopperLoss=S*Pin_rotor*10^3;//in watts\n",
"//disp(RotorCopperLoss,'Rotor Copper Loss(in watts) : ');\n",
"CopperLoss=RotorCopperLoss/phase;//in watts/phase\n",
"disp(CopperLoss,'Copper Loss per phase(in watts) : ');\n",
"I2=60;//in Ampere\n",
"R2=CopperLoss/I2^2;//in ohm\n",
"disp(R2,'Rotorresistance per phase(in ohm) : ');\n",
"MechPowerDev=Pin_rotor*(1-S)*10^3/735.5;//in H.P.\n",
"disp(MechPowerDev,'Total mechanial power developed(in H.P.) : ') ;\n",
"//Note : Some answers are not accurate in the book."
   ]
   }
,
{
		   "cell_type": "markdown",
		   "metadata": {},
		   "source": [
			"## Example 2.25: Slip.sce"
		   ]
		  },
  {
"cell_type": "code",
	   "execution_count": null,
	   "metadata": {
	    "collapsed": true
	   },
	   "outputs": [],
"source": [
"//Exa 2.25\n",
"clc;\n",
"clear;\n",
"close;\n",
"//Given data :\n",
"format('v',9);\n",
"Efficiency=0.9;//unitless\n",
"Output=50;//in H.P.\n",
"//formula : Efficiency=Output/(Output+Losses) \n",
"Losses=((1-Efficiency)/Efficiency)*Output*735.5;//in watts\n",
"Losses=round(Losses);//round\n",
"//Let, Ststor Cu loss = Rotor Cu los = Iron loss=K\n",
"//Mechanical Loss = Iron Loss/3 = K/3\n",
"//TotalLosses=k+K+K+K/3\n",
"K=Losses*3/10;//in watts\n",
"Pin_rotor=Output*735.5+Losses;//in watts\n",
"Slip=K/Pin_rotor;//unitless\n",
"disp(Slip,'Slip :');\n",
"disp('or '+string(Slip*100)+'%');"
   ]
   }
,
{
		   "cell_type": "markdown",
		   "metadata": {},
		   "source": [
			"## Example 2.26: Motor_current_per_phase.sce"
		   ]
		  },
  {
"cell_type": "code",
	   "execution_count": null,
	   "metadata": {
	    "collapsed": true
	   },
	   "outputs": [],
"source": [
"//Exa 2.26\n",
"clc;\n",
"clear;\n",
"close;\n",
"//Given data :\n",
"format('v',6);\n",
"Pin_rotor=20;//Power input of rotor in KW\n",
"phase=3;//no. of phase\n",
"P=6;//no. of poles\n",
"f=50;//in Hz\n",
"N=960;//in rpm(Actual speed of motor)\n",
"Ns=120*f/P;//synchronous speed in rpm\n",
"S=(Ns-N)/Ns;//unitless\n",
"RotorCuLoss=S*Pin_rotor*10^3;//in watts\n",
"RotorCuLoss=RotorCuLoss/phase;//in watts/phase\n",
"R2=1/3;//in ohm(Rotor resistance per phase)\n",
"I2=sqrt(RotorCuLoss/R2);//in Ampere\n",
"disp(I2,'Motor current per phase(in Ampere) :');"
   ]
   }
,
{
		   "cell_type": "markdown",
		   "metadata": {},
		   "source": [
			"## Example 2.27: Slip_Loss_and_Current.sce"
		   ]
		  },
  {
"cell_type": "code",
	   "execution_count": null,
	   "metadata": {
	    "collapsed": true
	   },
	   "outputs": [],
"source": [
"//Exa 2.27\n",
"clc;\n",
"clear;\n",
"close;\n",
"//Given data :\n",
"format('v',6);\n",
"V=500;//in volt\n",
"Pout_rotor=20;//Power output of rotor in H.P.\n",
"phase=3;//no. of phase\n",
"P=6;//no. of poles\n",
"f=50;//in Hz\n",
"N=995;//in rpm(Actual speed of motor)\n",
"cosfi=0.87;//powerfactor(unitless)\n",
"Ns=120*f/P;//synchronous speed in rpm\n",
"S=(Ns-N)/Ns;//unitless\n",
"disp(S,'Slip : ');\n",
"RotorCuLoss=(S/(1-S))*Pout_rotor*735.5;//in watts\n",
"disp(RotorCuLoss,'Rotor Cu Loss(in watts) : ');\n",
"Pin_rotor=RotorCuLoss/S;//in watts\n",
"disp(Pin_rotor/10^3,'Power input to rotor(in KW) :');\n",
"LineCurrent=Pin_rotor/(sqrt(3)*V*cosfi);//in Ampere\n",
"disp(LineCurrent,'Line Current(in A) :');\n",
"RotorFreq=S*f;//in Hz\n",
"disp(RotorFreq,'Rotor Frequency(in Hz) :');"
   ]
   }
,
{
		   "cell_type": "markdown",
		   "metadata": {},
		   "source": [
			"## Example 2.28: Pull_on_belt.sce"
		   ]
		  },
  {
"cell_type": "code",
	   "execution_count": null,
	   "metadata": {
	    "collapsed": true
	   },
	   "outputs": [],
"source": [
"//Exa 2.28\n",
"clc;\n",
"clear;\n",
"close;\n",
"//Given data :\n",
"format('v',6);\n",
"phase=3;//no. of phase\n",
"Efficiency=90;//in %\n",
"Speed=480;//in rpm\n",
"VL=400;//in volt\n",
"IL=75;//in Ampere\n",
"cosfi=0.77;//powerfactor(unitless)\n",
"d=0.75;//diameter of pulley in meter\n",
"Pin_motor=sqrt(3)*VL*IL*cosfi;//Power input of motor in watts\n",
"OutputPower=Pin_motor*Efficiency/100;//in watts\n",
"Omega=Speed*2*%pi/60;//angular speed in radians/sec\n",
"Torque=OutputPower/Omega;//in N-meter\n",
"Torque=Torque/9.81;//in Kg-meter\n",
"PullOnBelt=Torque/(d/2);//in Kg\n",
"disp(PullOnBelt,'Pull On Belt(in Kg.) : ');"
   ]
   }
,
{
		   "cell_type": "markdown",
		   "metadata": {},
		   "source": [
			"## Example 2.29: Mechanical_Power_output.sce"
		   ]
		  },
  {
"cell_type": "code",
	   "execution_count": null,
	   "metadata": {
	    "collapsed": true
	   },
	   "outputs": [],
"source": [
"//Exa 2.29\n",
"clc;\n",
"clear;\n",
"close;\n",
"//Given data :\n",
"format('v',6);\n",
"//At 3% slip\n",
"OutputPower=24;//in KW(At 3% slip)\n",
"S=3;//in %\n",
"Efficiency=(1-S/100);//unitless\n",
"InputPower=OutputPower/Efficiency;//in KW\n",
"//At 5% slip\n",
"S=5;//in %\n",
"Efficiency=(1-S/100);//unitless\n",
"OutputPower=InputPower*Efficiency;//in KW\n",
"disp(OutputPower,'Mechanical power output at a slip of 5%(in KW) : ');"
   ]
   }
,
{
		   "cell_type": "markdown",
		   "metadata": {},
		   "source": [
			"## Example 2.2_p: Maximum_Speed.sce"
		   ]
		  },
  {
"cell_type": "code",
	   "execution_count": null,
	   "metadata": {
	    "collapsed": true
	   },
	   "outputs": [],
"source": [
"//problem 2.2\n",
"clc;\n",
"clear;\n",
"close;\n",
"//given data :\n",
"P=2;//No. of poles(Assumed for induction motor)\n",
"f=50;//in Hz\n",
"N=120*f/P;//in rpm\n",
"disp(N,'Maximum speed in rpm : ');"
   ]
   }
,
{
		   "cell_type": "markdown",
		   "metadata": {},
		   "source": [
			"## Example 2.2: Synchronous_speed_Rotor_frequency_and_slip.sce"
		   ]
		  },
  {
"cell_type": "code",
	   "execution_count": null,
	   "metadata": {
	    "collapsed": true
	   },
	   "outputs": [],
"source": [
"//Exa 2.2\n",
"clc;\n",
"clear;\n",
"close;\n",
"//Given data : \n",
"P=8;//no. of poles\n",
"f=50;//in Hz\n",
"N=700;//in rpm\n",
"//Part (a) :\n",
"Ns=120*f/P;//in rpm\n",
"disp(Ns,'Synchronous speed in rpm : ');\n",
"//Part (b) :\n",
"S=(Ns-N)*100/Ns;//in %\n",
"disp(S,'Slip(in %) : ');\n",
"//Part (c) :\n",
"//At the time of stsrt S=1;\n",
"fdash=f;//in Hz\n",
"disp(fdash,'Rotor frequeny at the time of starting(in Hz) : ');\n",
"//Part (d) :\n",
"fdash=(S/100)*f;//in Hz\n",
"disp(fdash,'Rotor frequeny at the given speed(in Hz) : ');"
   ]
   }
,
{
		   "cell_type": "markdown",
		   "metadata": {},
		   "source": [
			"## Example 2.30: Cu_loss_and_efficiency.sce"
		   ]
		  },
  {
"cell_type": "code",
	   "execution_count": null,
	   "metadata": {
	    "collapsed": true
	   },
	   "outputs": [],
"source": [
"//Exa 2.30\n",
"clc;\n",
"clear;\n",
"close;\n",
"//Given data :\n",
"format('v',6);\n",
"//At 50% speed of synchronous speed\n",
"S=50;//in %\n",
"UsefulOutput=55;//in H.P.\n",
"MechLoss=2;//in H.P.\n",
"StatorLoss=13.5;//in KW\n",
"Pout_rotor=UsefulOutput+MechLoss;//in H.P.\n",
"Pout_rotor=Pout_rotor*0.7355;//in KW\n",
"Efficiency=(1-S/100);//unitless\n",
"RotorInputPower=Pout_rotor/Efficiency;//in KW\n",
"RotorCuLoss=RotorInputPower-Pout_rotor;//in KW\n",
"disp(RotorCuLoss,'Cu Loss in the rotor circuit(in KW) :');\n",
"TotalLosses=StatorLoss+RotorCuLoss+MechLoss*0.7355;//in KW\n",
"MotorEfficiency=UsefulOutput*0.7355/(UsefulOutput*0.7355+TotalLosses);\n",
"disp(MotorEfficiency*100,'Motor Efficiency(in %) : ');"
   ]
   }
,
{
		   "cell_type": "markdown",
		   "metadata": {},
		   "source": [
			"## Example 2.31: Slip_Torque_Cu_loss_and_line_current.sce"
		   ]
		  },
  {
"cell_type": "code",
	   "execution_count": null,
	   "metadata": {
	    "collapsed": true
	   },
	   "outputs": [],
"source": [
"//Exa 2.31\n",
"clc;\n",
"clear;\n",
"close;\n",
"//Given data :\n",
"format('v',6);\n",
"P=4;//no. of poles\n",
"phase=3;//no. of phase\n",
"N=1440;//in rpm(Actual speed of motor)\n",
"Power_dev=10;//Power developed in H.P.\n",
"VL=400;//in volt\n",
"cosfi=0.8;//powerfactor(unitless)\n",
"f=50;//in Hz\n",
"Ns=120*f/P;//in rpm\n",
"S=(Ns-N)/Ns;//fractional slip(unitless)\n",
"disp(S,'Slip :');\n",
"Omega=N*2*%pi/60;//angular speed in radians/sec\n",
"Torque=Power_dev*735.5/Omega;//in N-meter\n",
"Torque=Torque/9.81;//in Kg-meter\n",
"disp(Torque,'Torque(in Kg-meter) :');\n",
"RotorCuLoss=(S/(1-S))*Power_dev*735.5;//in watts\n",
"disp(RotorCuLoss/3,'Rotor Cu Loss per phase(in watts) : ');\n",
"Pin_rotor=RotorCuLoss/S;//in watts\n",
"disp(Pin_rotor/10^3,'Power input to rotor(in KW) :');\n",
"LineCurrent=Pin_rotor/(sqrt(3)*VL*cosfi);//in Ampere\n",
"disp(LineCurrent,'Line Current(in A) :');"
   ]
   }
,
{
		   "cell_type": "markdown",
		   "metadata": {},
		   "source": [
			"## Example 2.32: Slip_speed_Loss_Resistance_Power.sce"
		   ]
		  },
  {
"cell_type": "code",
	   "execution_count": null,
	   "metadata": {
	    "collapsed": true
	   },
	   "outputs": [],
"source": [
"//Exa 2.32\n",
"clc;\n",
"clear;\n",
"close;\n",
"//Given data :\n",
"format('v',6);\n",
"VL=440;//in volt\n",
"f=50;//in Hz\n",
"P=6;//no. of poles\n",
"phase=3;//no. of phase\n",
"Pin_rotor=80;//in KW\n",
"fr=100;//revolutions/min\n",
"fr=100/60;//in Hz\n",
"S=fr/f;//slip(unitless)\n",
"disp(S,'Slip : ');\n",
"Ns=120*f/P;//in rpm\n",
"N=Ns*(1-S);//in rpm(Speed of Rotor)\n",
"disp(round(N),'Rotor speed(in rpm) : ');\n",
"RotorCuLoss=S*Pin_rotor*10^3;//in watts\n",
"disp(RotorCuLoss/phase,'Rotor Cu Loss per phase(in watts) : ');\n",
"I2=65;//in Ampere\n",
"R2=(RotorCuLoss/phase)/I2^2;//in ohm\n",
"disp(R2,'Rotor resistance per phase(in ohm) : ');\n",
"Pout_rotor=Pin_rotor-RotorCuLoss/10^3;//in KW\n",
"disp(Pout_rotor/0.735,'Output power of rotor(in H.P.) : ');\n",
"//Note : answers of few part are not accurate in the book."
   ]
   }
,
{
		   "cell_type": "markdown",
		   "metadata": {},
		   "source": [
			"## Example 2.33: Motor_current_per_phase.sce"
		   ]
		  },
  {
"cell_type": "code",
	   "execution_count": null,
	   "metadata": {
	    "collapsed": true
	   },
	   "outputs": [],
"source": [
"//Exa 2.33\n",
"clc;\n",
"clear;\n",
"close;\n",
"//Given data :\n",
"format('v',6);\n",
"VL=440;//in volt\n",
"f=50;//in Hz\n",
"P=6;//no. of poles\n",
"phase=3;//no. of phase\n",
"Pin_rotor=20;//in KW\n",
"N=960;//in rpm(Speed of Motor)\n",
"Ns=120*f/P;//in rpm\n",
"S=(Ns-N)/Ns;//slip(unitless)\n",
"RotorCuLoss=S*Pin_rotor*10^3;//in watts\n",
"RotorCuLoss=RotorCuLoss/phase;//in watts/phase\n",
"R2=1/3;//Rotor Resistance in ohm per phase\n",
"I2=sqrt(RotorCuLoss/R2)\n",
"disp(I2,'Motor current per phase(in Ampere) :');"
   ]
   }
,
{
		   "cell_type": "markdown",
		   "metadata": {},
		   "source": [
			"## Example 2.34: Slip_loss_input_Current_and_cycles.sce"
		   ]
		  },
  {
"cell_type": "code",
	   "execution_count": null,
	   "metadata": {
	    "collapsed": true
	   },
	   "outputs": [],
"source": [
"//Exa 2.34\n",
"clc;\n",
"clear;\n",
"close;\n",
"//Given data :\n",
"format('v',7);\n",
"VL=500;//in volt\n",
"f=50;//in Hz\n",
"P=6;//no. of poles\n",
"phase=3;//no. of phase\n",
"Pout_rotor=20;//in H.P.\n",
"cosfi=0.87;//power factor\n",
"N=995;//in rpm(Speed of Motor)\n",
"Ns=120*f/P;//in rpm\n",
"S=(Ns-N)/Ns;//slip(unitless)\n",
"disp(S,'Slip : ');\n",
"RotorCuLoss=(S/(1-S))*Pout_rotor*735.5;//in watts\n",
"disp(RotorCuLoss,'Rotor Cu Loss(in watts) :');\n",
"Pin_rotor=RotorCuLoss/S;//in watts\n",
"disp(Pin_rotor/10^3,'Power input to rotor(in KW) :');\n",
"IL=Pin_rotor/(sqrt(3)*VL*cosfi);//in Ampere\n",
"disp(IL,'Line current (in Ampere) :');\n",
"Rotorfreq=S*f;//in Hz\n",
"disp(Rotorfreq,'Rotor frequency(in Hz) :');"
   ]
   }
,
{
		   "cell_type": "markdown",
		   "metadata": {},
		   "source": [
			"## Example 2.35: Slip_and_Torque.sce"
		   ]
		  },
  {
"cell_type": "code",
	   "execution_count": null,
	   "metadata": {
	    "collapsed": true
	   },
	   "outputs": [],
"source": [
"//Exa 2.35\n",
"clc;\n",
"clear;\n",
"close;\n",
"//Given data :\n",
"format('v',6);\n",
"f=50;//in Hz\n",
"P=4;//no. of poles\n",
"phase=3;//no. of phase\n",
"Efficiency=85;//in %\n",
"OutputPower=17;//in KW\n",
"OutputPower=17*10^3;//in watts\n",
"StatorLosses=900;//in watt\n",
"MechLosses=1100;//in watt\n",
"Pin=OutputPower/(Efficiency/100);//in watts\n",
"//Stator input or rotor input :\n",
"Pin_rotor=Pin-StatorLosses;//in watts\n",
"P_MechDev=OutputPower+MechLosses;//in watts\n",
"RotorCuLosses=Pin_rotor-P_MechDev;//in watts\n",
"S=RotorCuLosses/Pin_rotor;//slip(unitless)\n",
"disp(S,'Slip :');\n",
"Ns=120*f/P\n",
"N=Ns*(1-S);//in rpm(Speed of Motor)\n",
"Omega=2*%pi*N/60;//angular speed in rad/sec\n",
"Torque=P_MechDev/Omega;//in Nm\n",
"disp(Torque,'Torque developed(in Nm) :');\n",
"Tm=OutputPower/Omega;//in Nm\n",
"Tm=Tm/9.81;//in Kg-meter\n",
"disp(Tm,'Torque at the shaft(in Kg-meter) :');"
   ]
   }
,
{
		   "cell_type": "markdown",
		   "metadata": {},
		   "source": [
			"## Example 2.36: power_I2R_loss_and_efficiency.sce"
		   ]
		  },
  {
"cell_type": "code",
	   "execution_count": null,
	   "metadata": {
	    "collapsed": true
	   },
	   "outputs": [],
"source": [
"//Exa 2.36\n",
"clc;\n",
"clear;\n",
"close;\n",
"//Given data :\n",
"format('v',7);\n",
"VL=500;//in volt\n",
"f=50;//in Hz\n",
"P=6;//no. of poles\n",
"phase=3;//no. of phase\n",
"Pin_stator=50;//in KW\n",
"Statorlosses=2;//in KW\n",
"MechLosses=1;//in KW\n",
"Pin_rotor=Pin_stator-Statorlosses;//in KW\n",
"S=3;//in %\n",
"RotorI2RLoss=(S/100)*Pin_rotor;//in KW\n",
"disp(RotorI2RLoss,'Rotor I2R Loss(in KW) :');\n",
"disp('Rotor core loss at 3% slip is very less and can be neglected.');\n",
"Power_dev=Pin_rotor-RotorI2RLoss;//in KW\n",
"disp(Power_dev/0.7355,'Power developed by the rotor(in H.P.) : ');\n",
"Outputpower=Power_dev-MechLosses;//in KW\n",
"Efficiency=Outputpower/Pin_stator;//unitless\n",
"disp(Efficiency*100,'Efficiency of the motor(in %) :');"
   ]
   }
,
{
		   "cell_type": "markdown",
		   "metadata": {},
		   "source": [
			"## Example 2.37: I2R_loss_and_speed.sce"
		   ]
		  },
  {
"cell_type": "code",
	   "execution_count": null,
	   "metadata": {
	    "collapsed": true
	   },
	   "outputs": [],
"source": [
"//Exa 2.37\n",
"clc;\n",
"clear;\n",
"close;\n",
"//Given data :\n",
"format('v',7);\n",
"f=50;//in Hz\n",
"P=4;//no. of poles\n",
"phase=3;//no. of phase\n",
"MotorOutput=20;//in H.P.\n",
"MotorOutput=20*735.5;//in watts\n",
"S=4;//full load slip in %\n",
"MechLosses=500;//in watts\n",
"Pdev_rotor=MotorOutput+MechLosses;//in watts\n",
"S=S/100;//fractional slip\n",
"RotorI2RLoss=(S/(1-S))*Pdev_rotor;//in watts\n",
"disp(RotorI2RLoss,'Rotor I2R Loss(in watts) :');\n",
"Ns=120*f/P;//in rpm\n",
"Nr=Ns-Ns*S;//in rpm\n",
"disp(Nr,'Rotor speed(in rpm) :');"
   ]
   }
,
{
		   "cell_type": "markdown",
		   "metadata": {},
		   "source": [
			"## Example 2.38: Speed_and_external_rotor_resistance.sce"
		   ]
		  },
  {
"cell_type": "code",
	   "execution_count": null,
	   "metadata": {
	    "collapsed": true
	   },
	   "outputs": [],
"source": [
"//Exa 2.38\n",
"clc;\n",
"clear;\n",
"close;\n",
"//Given data :\n",
"format('v',6);\n",
"f=50;//in Hz\n",
"P=6;//no. of poles\n",
"phase=3;//no. of phase\n",
"R2=0.02;//in ohm\n",
"X2=0.1;//in ohm\n",
"S=R2/X2;//slip(unitless)\n",
"Ns=120*f/P;//in rpm\n",
"Nr=Ns-Ns*S;//in rpm\n",
"//At starting S=1\n",
"S=1;//slip\n",
"//Formula : T=K*S*R2/(R2^2+X2^2)\n",
"//Starting torque, Tst=K*R2/(R2^2+S^2*X2^2)\n",
"//Maximum torque, Tm=K/(2*X2)\n",
"//Tst=(2/3)*Tm : gives a equation\n",
"//100*R2^2-30*R2+1=0\n",
"a=100;b=-30;c=1;\n",
"R21=(-b+sqrt(b^2-4*a*c))/(2*a);//in ohm\n",
"R22=(-b-sqrt(b^2-4*a*c))/(2*a);//in ohm\n",
"//This R2 is the value of rotor circuit resistance.\n",
"RotWinResistance=0.02;//in ohm per phase\n",
"Extra_R1=R21-RotWinResistance;//in ohm\n",
"Extra_R2=R22-RotWinResistance;//in ohm\n",
"disp('Extra Resistance(in ohm) : '+string(Extra_R1)+' ohm or '+string(Extra_R2)+' ohm.');"
   ]
   }
,
{
		   "cell_type": "markdown",
		   "metadata": {},
		   "source": [
			"## Example 2.39: I2R_loss_and_torque.sce"
		   ]
		  },
  {
"cell_type": "code",
	   "execution_count": null,
	   "metadata": {
	    "collapsed": true
	   },
	   "outputs": [],
"source": [
"//Exa 2.39\n",
"clc;\n",
"clear;\n",
"close;\n",
"//Given data :\n",
"format('v',7);\n",
"f=50;//in Hz\n",
"P=4;//no. of poles\n",
"phase=3;//no. of phase\n",
"MotorShaftOutput=20;//in H.P.\n",
"MotorShaftOutput=20*735.5;//in watts\n",
"MechLosses=MotorShaftOutput*2/100;//in watts(2% of the output)\n",
"Pdev_rotor=MotorShaftOutput+MechLosses;//in watts\n",
"S=3;//slip in %\n",
"S=S/100;//fractional slip\n",
"RotorI2RLoss=(S/(1-S))*Pdev_rotor;//in watts\n",
"disp(RotorI2RLoss,'Rotor I2R Loss(in watts) :');\n",
"disp('Rotor iron loss at 3% slip is very small and can be neglected.');\n",
"RotorInput=Pdev_rotor+RotorI2RLoss;//in watts\n",
"disp(RotorInput,'Rotor Input(in Watts) :');\n",
"Ns=120*f/P;//in rpm\n",
"Nr=Ns-Ns*S;//in rpm\n",
"Nr=Nr/60;//in rps\n",
"T=MotorShaftOutput/(2*%pi*Nr);//in Nm\n",
"disp(T,'Output torque(in Nm) : ');"
   ]
   }
,
{
		   "cell_type": "markdown",
		   "metadata": {},
		   "source": [
			"## Example 2.3_p: Actual_Motor_Speed.sce"
		   ]
		  },
  {
"cell_type": "code",
	   "execution_count": null,
	   "metadata": {
	    "collapsed": true
	   },
	   "outputs": [],
"source": [
"//problem 2.3\n",
"clc;\n",
"clear;\n",
"close;\n",
"//given data :\n",
"Pa=6;//No. of alternator poles\n",
"N=1000;//in rpm\n",
"Pm=16;//No. of motor poles\n",
"S=2.5;//in %\n",
"//Formula : N=120*f/Pa;//in rpm\n",
"f=N*Pa/120;//in Hz\n",
"Ns=120*f/Pm;//in rpm\n",
"disp(Ns,'Synchronous speed in rpm : ');\n",
"//formula : S=(Ns-Nr)/Ns*100\n",
"Nr=Ns-S/100*Ns;//in rpm\n",
"disp(Nr,'Actual speed of motor in rpm : ');"
   ]
   }
,
{
		   "cell_type": "markdown",
		   "metadata": {},
		   "source": [
			"## Example 2.3: Percentage_slip_and_no_of_poles.sce"
		   ]
		  },
  {
"cell_type": "code",
	   "execution_count": null,
	   "metadata": {
	    "collapsed": true
	   },
	   "outputs": [],
"source": [
"//Exa 2.3\n",
"clc;\n",
"clear;\n",
"close;\n",
"//Given data : \n",
"P=10;//no. of poles\n",
"f=50;//in Hz\n",
"N=600;//in rpm\n",
"Nr=1440;//in rpm\n",
"f=P*N/120;//in Hz\n",
"//When P=2\n",
"P=2;//no. of poles\n",
"Ns=120*f/P;//in rpm\n",
"//When P=4\n",
"P=4;//no. of poles\n",
"Ns=120*f/P;//in rpm\n",
"disp('Induction motor speed is somewhat less than the synchronous speed. In this case indution motor speed, Nr is '+string(Nr)+' rpm.');\n",
"S=(Ns-Nr)*100/Ns;//Slip in %\n",
"disp('Percentage Slip(in %) : '+string(S));\n",
"disp('No. of poles : '+string(S));"
   ]
   }
,
{
		   "cell_type": "markdown",
		   "metadata": {},
		   "source": [
			"## Example 2.40: Slip_loss_and_efficiency.sce"
		   ]
		  },
  {
"cell_type": "code",
	   "execution_count": null,
	   "metadata": {
	    "collapsed": true
	   },
	   "outputs": [],
"source": [
"//Exa 2.40\n",
"clc;\n",
"clear;\n",
"close;\n",
"//Given data :\n",
"format('v',6);\n",
"VL=500;//in volt\n",
"f=50;//in Hz\n",
"P=6;//no. of poles\n",
"phase=3;//no. of phase\n",
"Nr=975;//in rpm\n",
"Ns=120*f/P;//in rpm\n",
"S=(Ns-Nr)/Ns;//slip\n",
"disp(S,'Slip :');\n",
"Pin_stator=40;//in KW\n",
"StatorLosses=1;//in KW\n",
"Pin_rotor=Pin_stator-StatorLosses;//in KW\n",
"RotorCuLosses=S*Pin_rotor;//in KW\n",
"disp(RotorCuLosses,'Rotor Cu Losses(in KW) :');\n",
"RotorOutput=Pin_rotor-RotorCuLosses;//in KW\n",
"OutputHP=RotorOutput/0.735;//in H.P.\n",
"disp(OutputHP,'Output Horse Power : ');\n",
"Efficiency=RotorOutput/Pin_stator;//unitless\n",
"disp(Efficiency*100,'Efficiency(in %) :');"
   ]
   }
,
{
		   "cell_type": "markdown",
		   "metadata": {},
		   "source": [
			"## Example 2.41: Slip_speed_Loss_Resistance_Power.sce"
		   ]
		  },
  {
"cell_type": "code",
	   "execution_count": null,
	   "metadata": {
	    "collapsed": true
	   },
	   "outputs": [],
"source": [
"//Exa 2.41\n",
"clc;\n",
"clear;\n",
"close;\n",
"//Given data :\n",
"format('v',6);\n",
"VL=440;//in volt\n",
"f=50;//in Hz\n",
"P=6;//no. of poles\n",
"phase=3;//no. of phase\n",
"Ns=120*f/P;//in rpm\n",
"fr=120;//alternations per minute\n",
"fr=fr/60;//in Hz\n",
"S=fr/f;//slip\n",
"disp(S,'Slip : ');\n",
"Nr=Ns-S*Ns;//in rpm\n",
"disp(Nr,'Rotor speed(in rpm) :');\n",
"Rotor_input=80;//in KW\n",
"RotorCuLoss=S*Rotor_input;//in KW\n",
"disp(RotorCuLoss*10^3/phase,'Rotor Cu Loss per phase(in watts) :');\n",
"P_Mechdev=Rotor_input*10^3-RotorCuLoss*10^3;//in watts\n",
"P_Mechdev=P_Mechdev/735.5;//in H.P.\n",
"disp(P_Mechdev,'Mechanical power devloped(in H.P.) :');\n",
"Ir=60;//in Ampere\n",
"R2=(RotorCuLoss*10^3/phase)/Ir^2;//in ohm\n",
"disp(R2,'Rotor resistance per phase(in ohm) :');"
   ]
   }
,
{
		   "cell_type": "markdown",
		   "metadata": {},
		   "source": [
			"## Example 2.43: Resistance_to_be_added.sce"
		   ]
		  },
  {
"cell_type": "code",
	   "execution_count": null,
	   "metadata": {
	    "collapsed": true
	   },
	   "outputs": [],
"source": [
"//Exa 2.43\n",
"clc;\n",
"clear;\n",
"close;\n",
"//Given data :\n",
"format('v',6);\n",
"f=50;//in Hz\n",
"P=6;//no. of poles\n",
"R2=0.2;//rotor resistance per phase in ohm\n",
"Nr=960;//in rpm\n",
"Nr_dash=600;//in rpm\n",
"Ns=120*f/P;//in rpm\n",
"S=(Ns-Nr)/Ns;//slip(unitless)\n",
"Sdash=(Ns-Nr_dash)/Ns;//slip(unitless)\n",
"//Let the new value of resistance is R2dash=(R+0.2)\n",
"R=R2*(Sdash/S)-R2;//Resistance to be added in ohm\n",
"disp(R,'Resistance to be added(in ohm) : ');"
   ]
   }
,
{
		   "cell_type": "markdown",
		   "metadata": {},
		   "source": [
			"## Example 2.44: External_Rotor_Resistance_per_phase.sce"
		   ]
		  },
  {
"cell_type": "code",
	   "execution_count": null,
	   "metadata": {
	    "collapsed": true
	   },
	   "outputs": [],
"source": [
"//Exa 2.44\n",
"clc;\n",
"clear;\n",
"close;\n",
"//Given data :\n",
"format('v',6);\n",
"f=50;//in Hz\n",
"P=6;//no. of poles\n",
"phase=3;//no. of phase\n",
"RotorIntResistance=0.1;//in ohm per phase\n",
"X2=1;//in ohm/phase\n",
"Rext=X2-RotorIntResistance;//in ohm\n",
"disp(Rext,'External resistance to be included(in ohm/phase) : ');"
   ]
   }
,
{
		   "cell_type": "markdown",
		   "metadata": {},
		   "source": [
			"## Example 2.45: Additional_Rotor_Resistance.sce"
		   ]
		  },
  {
"cell_type": "code",
	   "execution_count": null,
	   "metadata": {
	    "collapsed": true
	   },
	   "outputs": [],
"source": [
"//Exa 2.45\n",
"clc;\n",
"clear;\n",
"close;\n",
"//Given data :\n",
"format('v',6);\n",
"f=50;//in Hz\n",
"P=6;//no. of poles\n",
"phase=3;//no. of phase\n",
"R2=0.2;//rotor resistance per phase in ohm\n",
"N1=960;//Full load speed in rpm\n",
"Ns=120*f/P;//in rpm\n",
"S1=(Ns-N1)/Ns;//Full load slip(unitless)\n",
"N2=N1*(1-10/100);//New speed in rpm(reduced 10%)\n",
"S2=(Ns-N2)/Ns;//New slip(unitless)\n",
"//Formula : S=RotorCuLoss/Pin_rotor=3*I2^2*R2/Pin_rotor\n",
"//Let the additional resistance is R\n",
"R=R2*S2/S1-R2;//Resistance to be added in ohm\n",
"disp(R,'Additional Rotor Resistance(in ohm) : ');"
   ]
   }
,
{
		   "cell_type": "markdown",
		   "metadata": {},
		   "source": [
			"## Example 2.46: Ratio_of_torque.sce"
		   ]
		  },
  {
"cell_type": "code",
	   "execution_count": null,
	   "metadata": {
	    "collapsed": true
	   },
	   "outputs": [],
"source": [
"//Exa 2.46\n",
"clc;\n",
"clear;\n",
"close;\n",
"//Given data :\n",
"format('v',5);\n",
"R2inner=0.4;//in ohm\n",
"X2inner=2;//in ohm \n",
"R2outer=2;//in ohm\n",
"X2outer=0.4;//in ohm \n",
"//At standstill :\n",
"S=1;//unitless\n",
"Ratio=(R2outer*S/(R2outer^2+S^2*X2outer^2))/(R2inner*S/(R2inner^2+S^2*X2inner^2));//unitless\n",
"disp(Ratio,'Ratio of torque produced by two cages at standstill : ');\n",
"//At Full load :\n",
"S=5;//in %\n",
"S=5/100;//fractional\n",
"Ratio=(R2outer*S/(R2outer^2+S^2*X2outer^2))/(R2inner*S/(R2inner^2+S^2*X2inner^2));//unitless\n",
"disp(Ratio,'Ratio of torque produced by two cages at full load(slip=5%) : ');"
   ]
   }
,
{
		   "cell_type": "markdown",
		   "metadata": {},
		   "source": [
			"## Example 2.47: line_current_at_instant_of_starting.sce"
		   ]
		  },
  {
"cell_type": "code",
	   "execution_count": null,
	   "metadata": {
	    "collapsed": true
	   },
	   "outputs": [],
"source": [
"//Exa 2.47\n",
"clc;\n",
"clear;\n",
"close;\n",
"//Given data :\n",
"format('v',6);\n",
"Output=10;//in H.P.\n",
"Output=Output*735.5;//in watts\n",
"cosfi=0.8;//unitless\n",
"ETA=0.83;//unitless\n",
"ISCbyIFL=3.5;//ratio of SC current to full load current\n",
"VL=500;//in volt\n",
"Input=Output/ETA;//in watts\n",
"IFL=Input/(sqrt(3)*VL*cosfi);//in Ampere\n",
"ISC=IFL*ISCbyIFL;//in Ampere\n",
"Is=ISC/3;//in Ampere\n",
"disp(Is,'Strting current(in Ampere) :');"
   ]
   }
,
{
		   "cell_type": "markdown",
		   "metadata": {},
		   "source": [
			"## Example 2.48: Starting_torque.sce"
		   ]
		  },
  {
"cell_type": "code",
	   "execution_count": null,
	   "metadata": {
	    "collapsed": true
	   },
	   "outputs": [],
"source": [
"//Exa 2.48\n",
"clc;\n",
"clear;\n",
"close;\n",
"//Given data :\n",
"format('v',6);\n",
"ISCbyIFL=5;//ratio of SC current to full load current\n",
"S=0.04;//Full load slip\n",
"//(i) for star delta starter : \n",
"disp('for star delta starter : ');\n",
"Ratio=(1/3)*(ISCbyIFL)^2*S;//Ratio of starting torque to full load torque\n",
"disp('Starting torque is '+string(Ratio*100)+'% of full load torque.');\n",
"//(i) for auto transformer starter :\n",
"disp('for auto transformer starter : ') ;\n",
"K=50/100;//tappings\n",
"Ratio=K^2*(ISCbyIFL)^2*S;//Ratio of starting torque to full load torque\n",
"disp('Starting torque is '+string(Ratio*100)+'% of full load torque.');"
   ]
   }
,
{
		   "cell_type": "markdown",
		   "metadata": {},
		   "source": [
			"## Example 2.49: percentage_Tapping.sce"
		   ]
		  },
  {
"cell_type": "code",
	   "execution_count": null,
	   "metadata": {
	    "collapsed": true
	   },
	   "outputs": [],
"source": [
"//Exa 2.49\n",
"clc;\n",
"clear;\n",
"close;\n",
"//Given data :\n",
"format('v',5);\n",
"ISCbyIFL=4;//ratio of SC current to full load current\n",
"TsBYTf=1/4;//ratio of atarting torque to full load torque\n",
"Slip=3;//in %\n",
"Slip=3/100;//in fraction\n",
"//Formula : TsBYTf=Percent_Tapping^2*ISCbyIFL^2*Slip\n",
"tapping=sqrt(TsBYTf/(Slip*ISCbyIFL^2));//in %\n",
"disp(tapping*100,'Tapping(in %) :');"
   ]
   }
,
{
		   "cell_type": "markdown",
		   "metadata": {},
		   "source": [
			"## Example 2.4: Motor_speed_and_slip.sce"
		   ]
		  },
  {
"cell_type": "code",
	   "execution_count": null,
	   "metadata": {
	    "collapsed": true
	   },
	   "outputs": [],
"source": [
"//Exa 2.4\n",
"clc;\n",
"clear;\n",
"close;\n",
"//Given data : \n",
"P=8;//no. of poles\n",
"f=50;//in Hz\n",
"fr=1.5;//in Hz\n",
"//Formula : fr=S*f\n",
"S=fr/f;//slip(unitless)\n",
"Ns=120*f/P;//in rpm\n",
"//Formula : S=(Ns-Nr)/Ns\n",
"Nr=Ns-S*Ns;//in rpm\n",
"disp(round(Nr),'Motor running speed in rpm : ');\n",
"disp(S*100,'Slip(in %):');"
   ]
   }
,
{
		   "cell_type": "markdown",
		   "metadata": {},
		   "source": [
			"## Example 2.4_p: Frequency_and_slip.sce"
		   ]
		  },
  {
"cell_type": "code",
	   "execution_count": null,
	   "metadata": {
	    "collapsed": true
	   },
	   "outputs": [],
"source": [
"//problem 2.4\n",
"clc;\n",
"clear;\n",
"close;\n",
"//given data :\n",
"format('v',5);\n",
"P=14;//No. of poles\n",
"f=50;//in Hz\n",
"N=415;//in rpm\n",
"Ns=120*f/P;//in rpm\n",
"S=(Ns-N)/Ns*100;//in %\n",
"disp(S,'Slip(%) : ');\n",
"fr=S/100*f;//in Hz\n",
"disp(fr,'Rotor frequency(in Hz) : ');"
   ]
   }
,
{
		   "cell_type": "markdown",
		   "metadata": {},
		   "source": [
			"## Example 2.50: Starting_torque_in_terms_of_full_load_torque.sce"
		   ]
		  },
  {
"cell_type": "code",
	   "execution_count": null,
	   "metadata": {
	    "collapsed": true
	   },
	   "outputs": [],
"source": [
"//Exa 2.50\n",
"clc;\n",
"clear;\n",
"close;\n",
"//Given data :\n",
"format('v',6);\n",
"ISCbyIFL=5;//ratio of SC current to full load current\n",
"Slip=5;//in %\n",
"Slip=5/100;//in fraction\n",
"//Formula : 3*IFL=K^2*ISC\n",
"K=sqrt(1/(ISCbyIFL/3));//unitless\n",
"TsBYTfl=K^2*(ISCbyIFL)^2*Slip;//ratio of starting torque to full load torque\n",
"disp('Starting torque is '+string(TsBYTfl*100)+'% of full load torque.');"
   ]
   }
,
{
		   "cell_type": "markdown",
		   "metadata": {},
		   "source": [
			"## Example 2.51: Starting_torque_of_an_Induction_motor.sce"
		   ]
		  },
  {
"cell_type": "code",
	   "execution_count": null,
	   "metadata": {
	    "collapsed": true
	   },
	   "outputs": [],
"source": [
"//Exa 2.51\n",
"clc;\n",
"clear;\n",
"close;\n",
"//Given data :\n",
"format('v',5);\n",
"disp('Star delta starter :');\n",
"ISCbyIFL=6;//ratio of SC current to full load current\n",
"Slip=4;//in %\n",
"Slip=4/100;//in fraction\n",
"TsBYTfl=(1/3)*(ISCbyIFL)^2*Slip;//ratio of starting torque to full load torque\n",
"disp('Starting torque is '+string(TsBYTfl*100)+'% of full load value.');\n",
"disp('For an auto transformer :');\n",
"K=70.70;//in %\n",
"K=70.70/100;//in fraction\n",
"TsBYTfl=K^2*(ISCbyIFL)^2*Slip;//ratio of starting torque to full load torque\n",
"disp('Starting torque is '+string(TsBYTfl*100)+'% of full load torque.');"
   ]
   }
,
{
		   "cell_type": "markdown",
		   "metadata": {},
		   "source": [
			"## Example 2.52: Necessary_tapping_and_starting_torque.sce"
		   ]
		  },
  {
"cell_type": "code",
	   "execution_count": null,
	   "metadata": {
	    "collapsed": true
	   },
	   "outputs": [],
"source": [
"//Exa 2.52\n",
"clc;\n",
"clear;\n",
"close;\n",
"//Given data :\n",
"format('v',5);\n",
"V=400;//in volt\n",
"S=3.5;//in %\n",
"S=3.5/100;//in fraction\n",
"VL=92;//in volts\n",
"//ISC=(V/VL)*IFL;//in Ampere\n",
"ISCbyIFL=V/VL;//ratio of SC current to full load current\n",
"//2*IFL=K^2*ISC imples that 2*IFL=K^2*(V/VL)*IFL\n",
"K=sqrt(2/(V/VL));//in fraction\n",
"disp(K*100,'Necessary tapping(in %) :');\n",
"TsBYTfl=K^2*(ISCbyIFL)^2*S;//ratio of starting torque to full load torque\n",
"disp('Starting torque is '+string(TsBYTfl*100)+'% of full load value.');"
   ]
   }
,
{
		   "cell_type": "markdown",
		   "metadata": {},
		   "source": [
			"## Example 2.53: Auto_transformer_ratio.sce"
		   ]
		  },
  {
"cell_type": "code",
	   "execution_count": null,
	   "metadata": {
	    "collapsed": true
	   },
	   "outputs": [],
"source": [
"//Exa 2.53\n",
"clc;\n",
"clear;\n",
"close;\n",
"//Given data :\n",
"format('v',5);\n",
"ISCbyIFL=4;//ratio of SC current to full load current\n",
"ISbyIFL=2;//ratio of Supply current to full load current\n",
"S=2.5;//in %\n",
"S=2.5/100;//in fraction\n",
"//Formula : ISbyIFL=(1/K^2)*ISCbyIFL\n",
"K=sqrt(ISCbyIFL/ISbyIFL);//in fraction\n",
"disp(K,'Auto Transormation ratio :');\n",
"TsBYTfl=(1/K^2)*(ISCbyIFL)^2*S;//ratio of starting torque to full load torque\n",
"disp(TsBYTfl,'Ratio of starting torque to full load torque :');\n",
"disp('or Starting torque is '+string(TsBYTfl*100)+'% of full load value.');"
   ]
   }
,
{
		   "cell_type": "markdown",
		   "metadata": {},
		   "source": [
			"## Example 2.54: percentage_Tapping.sce"
		   ]
		  },
  {
"cell_type": "code",
	   "execution_count": null,
	   "metadata": {
	    "collapsed": true
	   },
	   "outputs": [],
"source": [
"//Exa 2.54\n",
"clc;\n",
"clear;\n",
"close;\n",
"//Given data :\n",
"format('v',6);\n",
"ISCbyIFL=4;//ratio of SC current to full load current\n",
"S=3;//in %\n",
"S=3/100;//in fraction\n",
"TsBYTfl=1/4;//ratio of starting torque to full load torque\n",
"//Formula : TsBYTfl=ISCbyIFL^2*K^2*S\n",
"K=sqrt(TsBYTfl/(ISCbyIFL^2*S));//in fraction\n",
"disp(K*100,'Auto Transormation ratio(in %) :');"
   ]
   }
,
{
		   "cell_type": "markdown",
		   "metadata": {},
		   "source": [
			"## Example 2.55: line_current_at_instant_of_starting.sce"
		   ]
		  },
  {
"cell_type": "code",
	   "execution_count": null,
	   "metadata": {
	    "collapsed": true
	   },
	   "outputs": [],
"source": [
"//Exa 2.55\n",
"clc;\n",
"clear;\n",
"close;\n",
"//Given data :\n",
"format('v',6);\n",
"Output=3;//in H.P.\n",
"Output=3*735.5;//in watts\n",
"Efficiency=0.83;//unitless\n",
"cosfi=0.8;//power factor\n",
"Vl=500;//in volt\n",
"Input=Output/Efficiency;//in watts\n",
"//Formula : Input=sqrt(3)*Vl*Il*cosfi\n",
"Il=Input/(sqrt(3)*Vl*cosfi);//in Ampere\n",
"ISCbyIFL=3.5;//ratio of SC current to full load current\n",
"ISC=ISCbyIFL*Il;//in Ampere\n",
"LineCurrent=ISC/3;//in Ampere(for star delta starter)\n",
"disp(LineCurrent,'Line Current(in Ampere) :');\n",
"//Note : Ans in the book is not accurate."
   ]
   }
,
{
		   "cell_type": "markdown",
		   "metadata": {},
		   "source": [
			"## Example 2.56: Ratio_of_starting_to_full_load_current.sce"
		   ]
		  },
  {
"cell_type": "code",
	   "execution_count": null,
	   "metadata": {
	    "collapsed": true
	   },
	   "outputs": [],
"source": [
"//Exa 2.56\n",
"clc;\n",
"clear;\n",
"close;\n",
"//Given data :\n",
"format('v',5);\n",
"Output=15;//in H.P.\n",
"Output=15*735.5;//in watts\n",
"Vl=400;//in volt\n",
"ISCat200=40;//in Ampere(at 200 volt)\n",
"Efficiency=0.88;//unitless\n",
"cosfi=0.85;//power factor\n",
"ISCat400=ISCat200*(400/200);//in Ampere(at 400 volt)\n",
"Input=Output/Efficiency;//in watts\n",
"Ifl=Input/(sqrt(3)*Vl*cosfi);//in Ampere\n",
"//starting line current with star delta starter\n",
"Is=ISCat400/3;//in Ampere\n",
"Ratio=Is/Ifl;//ratio of starting current to full load current\n",
"disp(Ratio,'Ratio of line current at starting to full load current :');"
   ]
   }
,
{
		   "cell_type": "markdown",
		   "metadata": {},
		   "source": [
			"## Example 2.57: Starting_torque_and_current.sce"
		   ]
		  },
  {
"cell_type": "code",
	   "execution_count": null,
	   "metadata": {
	    "collapsed": true
	   },
	   "outputs": [],
"source": [
"//Exa 2.57\n",
"clc;\n",
"clear;\n",
"close;\n",
"//Given data :\n",
"format('v',6);\n",
"//With star delta starter : \n",
"TstBYTfl=0.35;//ratio of starting torque to full load torque\n",
"IstBYIfl=1.75;//ratio of starting current to full load current\n",
"ISCBYIs=sqrt(3);//ratio of SC current to starting current\n",
"ISCBYIfl=sqrt(3)*IstBYIfl;//ratio of SC current to full load current\n",
"//Formula : TstBYTfl=(ISCBYIfl)^2*S\n",
"S=TstBYTfl/(ISCBYIfl)^2;//in fraction\n",
"disp(S,'Full load Slip : ');\n",
"//With auto transformer with winding in delta : \n",
"Ip=sqrt(3)*1.750*0.8;//full voltage phase current in Ampere\n",
"IlBYIf=4.2;//ratio of Line current to full load current\n",
"Ratio=IlBYIf^2*S;//ratio of starting current to full load current\n",
"disp(Ratio,'Ratio of line current at starting to full load current :');"
   ]
   }
,
{
		   "cell_type": "markdown",
		   "metadata": {},
		   "source": [
			"## Example 2.58: Resistance_to_be_added_in_series.sce"
		   ]
		  },
  {
"cell_type": "code",
	   "execution_count": null,
	   "metadata": {
	    "collapsed": true
	   },
	   "outputs": [],
"source": [
"//Exa 2.58\n",
"clc;\n",
"clear;\n",
"close;\n",
"//Given data :\n",
"format('v',6);\n",
"f=50;//in Hz\n",
"P=4;//no. of poles\n",
"phase=3;//no. of phase\n",
"R2=0.25;//in ohm per phase\n",
"S=2;//in %\n",
"S=2/100;//in fraction\n",
"Ns=120*f/P;//in rpm\n",
"Nr=Ns-Ns*S;//in rpm\n",
"//When speed reduced to 10%\n",
"NewSpeed=Nr*90/100;//in rpm\n",
"Sdash=(Ns-NewSpeed)/Ns;//in fraction\n",
"R2dash=(Sdash/S)*R2;//in ohm per phase\n",
"R=R2dash-R2;//in ohm\n",
"disp(R,'Value of resistance to be added(in ohm) :');"
   ]
   }
,
{
		   "cell_type": "markdown",
		   "metadata": {},
		   "source": [
			"## Example 2.59: External_Resistance_per_phase.sce"
		   ]
		  },
  {
"cell_type": "code",
	   "execution_count": null,
	   "metadata": {
	    "collapsed": true
	   },
	   "outputs": [],
"source": [
"//Exa 2.59\n",
"clc;\n",
"clear;\n",
"close;\n",
"//Given data :\n",
"format('v',6);\n",
"f=50;//in Hz\n",
"P=4;//no. of poles\n",
"R2=0.25;//in ohm per phase\n",
"N=1440;//in rpm at full load\n",
"NewSpeed=1200;//in rpm\n",
"Ns=120*f/P;//in rpm\n",
"S=(Ns-N)/Ns;//in %\n",
"NewS=(Ns-NewSpeed)/Ns;//in fraction\n",
"S1=S;S2=NewS;//slip new and old\n",
"//Torque remaining same : S1/R2=S2/(R2+R)\n",
"R=S2*R2/S1-R2;//in ohm\n",
"disp(R,'External resistance per phase(in ohm) :');\n",
"Nr=Ns-Ns*S;//in rpm\n",
"//If S1 is taken as 0.03 and S2 as 0.127\n",
"S1=0.03;//slip in fraction\n",
"S2=0.127;//slip in fraction\n",
"R=S2*R2/S1-R2;//in ohm\n",
"disp(R,'External resistance per phase(in ohm) :');"
   ]
   }
,
{
		   "cell_type": "markdown",
		   "metadata": {},
		   "source": [
			"## Example 2.5_p: Copper_Loss_and_Mechanical_Power.sce"
		   ]
		  },
  {
"cell_type": "code",
	   "execution_count": null,
	   "metadata": {
	    "collapsed": true
	   },
	   "outputs": [],
"source": [
"//problem 2.5\n",
"clc;\n",
"clear;\n",
"close;\n",
"//given data :\n",
"format('v',5);\n",
"MotorInput=50;//in KW\n",
"Slip=3;//in %\n",
"RotCuLoss=MotorInput*Slip/100;//in KW\n",
"disp(RotCuLoss,'Rotor Copper Loss(KW) : ');\n",
"TMechP=MotorInput-RotCuLoss;//in KW\n",
"disp(TMechP,'Total mechanical power devloped(KW) : ');"
   ]
   }
,
{
		   "cell_type": "markdown",
		   "metadata": {},
		   "source": [
			"## Example 2.5: Synchronous_and_actual_speed_and_frequency_and_slip.sce"
		   ]
		  },
  {
"cell_type": "code",
	   "execution_count": null,
	   "metadata": {
	    "collapsed": true
	   },
	   "outputs": [],
"source": [
"//Exa 2.5\n",
"clc;\n",
"clear;\n",
"close;\n",
"//Given data : \n",
"P=2;//no. of poles\n",
"f=50;//in Hz\n",
"S=4;//in %\n",
"//Part (i) : \n",
"Ns=f/P;//in rps\n",
"Ns=Ns*60;//in rpm\n",
"disp(Ns,'Synchronous speed in rpm : ');\n",
"//Part (ii) :\n",
"disp('Slip = '+string(S)+'% or '+string(S/100));\n",
"//Part (iii) :\n",
"N=Ns*(1-S/100);//in rpm\n",
"disp(N,'Actual speed in rpm :');"
   ]
   }
,
{
		   "cell_type": "markdown",
		   "metadata": {},
		   "source": [
			"## Example 2.60: Resistance_in_series_per_phase.sce"
		   ]
		  },
  {
"cell_type": "code",
	   "execution_count": null,
	   "metadata": {
	    "collapsed": true
	   },
	   "outputs": [],
"source": [
"//Exa 2.60\n",
"clc;\n",
"clear;\n",
"close;\n",
"//Given data :\n",
"format('v',6);\n",
"f=50;//in Hz\n",
"P=4;//no. of poles\n",
"phase=3;//no. of phase\n",
"S=4;//in %\n",
"S=4/100;//in fraction\n",
"Ns=120*f/P;//in rpm\n",
"N1=Ns-Ns*S;//in rpm\n",
"//When speed reduced to 10%\n",
"N2=N1*85/100;//in rpm(NewSpeed)\n",
"disp(N2,'New speed(in rpm) :');\n",
"//New speed is reduced by 15 %\n",
"Sdash=(Ns-N2)/Ns;//in fraction\n",
"disp(Sdash,'New Slip : ');"
   ]
   }
,
{
		   "cell_type": "markdown",
		   "metadata": {},
		   "source": [
			"## Example 2.61: Rotor_speed_HP_loss_and_efficiency.sce"
		   ]
		  },
  {
"cell_type": "code",
	   "execution_count": null,
	   "metadata": {
	    "collapsed": true
	   },
	   "outputs": [],
"source": [
"//Exa 2.61\n",
"clc;\n",
"clear;\n",
"close;\n",
"//Given data :\n",
"format('v',6);\n",
"f=50;//in Hz\n",
"P=4;//no. of poles\n",
"phase=3;//no. of phase\n",
"Pin=60;//in KW\n",
"StatorLoss=1.2;//in KW\n",
"WindingLoss=1.8;//in KW\n",
"S=4;//in %\n",
"S=4/100;//in fraction\n",
"Ns=120*f/P;//in rpm\n",
"Nr=Ns-Ns*S;//in rpm\n",
"disp(Nr,'Rotor speed(in rpm) :');\n",
"Pin_rotor=Pin-StatorLoss;//in KW\n",
"RotorCuLoss=S*Pin_rotor;//in KW\n",
"disp(RotorCuLoss,'Rotor Cu Loss(in KW) : ');\n",
"Pout_rotor=Pin_rotor-WindingLoss-RotorCuLoss;//in KW\n",
"Efficiency=(Pout_rotor/Pin)*100;//in %\n",
"disp(round(Efficiency),'Efficiency(in %) :');\n",
"HP=Pout_rotor*10^3/735.5;//in H.P.\n",
"disp(HP,'Horse Power(inH.P.) :');"
   ]
   }
,
{
		   "cell_type": "markdown",
		   "metadata": {},
		   "source": [
			"## Example 2.6: Motor_speed_and_slip.sce"
		   ]
		  },
  {
"cell_type": "code",
	   "execution_count": null,
	   "metadata": {
	    "collapsed": true
	   },
	   "outputs": [],
"source": [
"//Exa 2.6\n",
"clc;\n",
"clear;\n",
"close;\n",
"//Given data : \n",
"P=4;//no. of poles\n",
"f1=50;//in Hz\n",
"fdash=1.5;//in Hz\n",
"S=fdash/f1;//unitless\n",
"disp(S,'Slip : ');\n",
"Ns=120*f1/P;//in rpm\n",
"N=Ns*(1-S);//in rpm\n",
"disp(N,'Speed of motor in rpm :');"
   ]
   }
,
{
		   "cell_type": "markdown",
		   "metadata": {},
		   "source": [
			"## Example 2.6_p: Slip_and_Torque.sce"
		   ]
		  },
  {
"cell_type": "code",
	   "execution_count": null,
	   "metadata": {
	    "collapsed": true
	   },
	   "outputs": [],
"source": [
"//problem 2.6\n",
"clc;\n",
"clear;\n",
"close;\n",
"//given data :\n",
"format('v',6);\n",
"P=4;//No. of poles\n",
"m=3;//No. of phase\n",
"f=50;//in Hz\n",
"Eff=85;//in %\n",
"Pout=17;//useful output power in KW\n",
"StatorLosses=900;//in watts\n",
"Input=Pout/Eff*100;//in KW\n",
"TLosses=Input-Pout;//in KW\n",
"WnF_Losses=1100;//in Watts\n",
"CuLoss=TLosses*1000-StatorLosses-WnF_Losses;//in watts\n",
"RotorInput=Input-StatorLosses/1000;//in KW\n",
"S=CuLoss/1000/RotorInput;//unitless\n",
"disp(S,'Slip : ');\n",
"Ns=120*f/P;//in rpm\n",
"N=Ns-S*Ns;//in rpm\n",
"//Formula : MechPower=Omega*T=2*%pi*N/60*T;\n",
"T=RotorInput*1000/(2*%pi*N/60);//in Newton-meter\n",
"disp(T,'Torque Devloped in Nw-m : ');\n",
"Tavail=Pout*1000/(2*%pi*N/60);//in Newtons\n",
"disp(Tavail,'Torque Available(Nw-m) : ');"
   ]
   }
,
{
		   "cell_type": "markdown",
		   "metadata": {},
		   "source": [
			"## Example 2.7: No_of_poles_slip_and_speed.sce"
		   ]
		  },
  {
"cell_type": "code",
	   "execution_count": null,
	   "metadata": {
	    "collapsed": true
	   },
	   "outputs": [],
"source": [
"//Exa 2.7\n",
"clc;\n",
"clear;\n",
"close;\n",
"//Given data : \n",
"N=1440;//in rpm\n",
"f=50;//in Hz\n",
"disp('For this speed of 1440 rpm the synchronous speed may be either 1500 rpm or 3000 rpm.');\n",
"disp('If the synchronous speed is 3000 rpm then in generl case the speed will not be too slow. o the synchronous speed for this motor is 1500 rpm and and no. of poles corresponding to this speed is 4.');\n",
"Ns=1500;//in rpm\n",
"P=4;//no. of poles\n",
"disp(P,'No. of poles : ');\n",
"Slip=(Ns-N)*100/Ns;//in %\n",
"disp(Slip,'Slip(in %) : ');\n",
"speed1=Ns-N;//Speed of rotor flux with respect to rotor\n",
"disp(speed1,'Speed of rotor flux with respect to rotor in rpm : ');\n",
"speed2=(speed1)+N;//Speed of rotor flux with respect to stator\n",
"disp(speed2,'Speed of rotor flux with respect to stator in rpm :');"
   ]
   }
,
{
		   "cell_type": "markdown",
		   "metadata": {},
		   "source": [
			"## Example 2.7_p: Rotor_input_copper_loss_and_mechanical_power.sce"
		   ]
		  },
  {
"cell_type": "code",
	   "execution_count": null,
	   "metadata": {
	    "collapsed": true
	   },
	   "outputs": [],
"source": [
"//problem 2.7\n",
"clc;\n",
"clear;\n",
"close;\n",
"//given data :\n",
"format('v',5);\n",
"P=6;//No. of poles\n",
"m=3;//No. of phase\n",
"f=60;//in Hz\n",
"Eff=85;//in %\n",
"N=1152;//in rpm\n",
"T=70;//in Nw-m\n",
"Ns=120*f/P;//in rpm\n",
"Twatts=2*%pi*Ns/60*T;//in watts\n",
"RotorInput=Twatts;//in watts\n",
"disp(RotorInput/1000,'Total Input to the rotor(KW) : ');\n",
"S=(Ns-N)/Ns;//unitless\n",
"CuLoss=S*RotorInput;//in watts\n",
"disp(CuLoss,'Rotor Copper Loss(watts) : ');\n",
"Tdev=2*%pi*N/60*T;//in Watts\n",
"disp(Tdev,'Mechanical Power devloped(in Watts)');\n",
"//Note : Answer in the book is calculated right but in the end printed wrong."
   ]
   }
,
{
		   "cell_type": "markdown",
		   "metadata": {},
		   "source": [
			"## Example 2.8_p: Rotor_current_and_slip.sce"
		   ]
		  },
  {
"cell_type": "code",
	   "execution_count": null,
	   "metadata": {
	    "collapsed": true
	   },
	   "outputs": [],
"source": [
"//problem 2.8\n",
"clc;\n",
"clear;\n",
"close;\n",
"//given data :\n",
"format('v',5);\n",
"m=3;//No. of phase\n",
"Vrotor=100;//in volts\n",
"Xo=1;//in ohm/phase\n",
"R2=0.2;//in ohm/phase\n",
"Eo=Vrotor/sqrt(3);//Rotor phase voltage in volts\n",
"S=4;//in %\n",
"I2=S/100*Eo/sqrt(R2^2+(S/100*Xo)^2);//in Ampere\n",
"disp(I2,'Rotor current in Ampere : ');\n",
"//For Max Torque S=R2/Xo\n",
"S=R2/Xo;//unitless\n",
"disp('For developing maximum torque');\n",
"disp(S,'Slip is : ');\n",
"I2=S*Eo/sqrt(R2^2+(S*Xo)^2);//in Ampere\n",
"disp(I2,'Rotor current in Ampere : ');"
   ]
   }
,
{
		   "cell_type": "markdown",
		   "metadata": {},
		   "source": [
			"## Example 2.8: Rotor_current_and_phase_difference.sce"
		   ]
		  },
  {
"cell_type": "code",
	   "execution_count": null,
	   "metadata": {
	    "collapsed": true
	   },
	   "outputs": [],
"source": [
"//Exa 2.8\n",
"clc;\n",
"clear;\n",
"close;\n",
"//Given data : \n",
"E2=100;//in volt\n",
"R2=0.05;//in ohm\n",
"X2=0.1;//im ohm\n",
"E2perphase=E2/sqrt(3);//in volt\n",
"//part (a) : \n",
"S=0.04;//slip\n",
"I2=S*E2perphase/sqrt(R2^2+(S*X2)^2);//in Ampere\n",
"disp(I2,'At 4% slip, Rotor current in Ampere : ');\n",
"fi2=acosd(R2/sqrt(R2^2+(S*X2)^2));//in degree\n",
"disp(fi2,'At 4% slip, Phase angle between rotor voltage and rotor current in degree :');\n",
"//part (b) : \n",
"S=1;//slip\n",
"I2=S*E2perphase/sqrt(R2^2+(S*X2)^2);//in Ampere\n",
"disp(I2,'At 100% slip, Rotor current in Ampere : ');\n",
"fi2=acosd(R2/sqrt(R2^2+(S*X2)^2));//in degree\n",
"disp(fi2,'At 100% slip, Phase angle between rotor voltage and rotor current in degree :');"
   ]
   }
,
{
		   "cell_type": "markdown",
		   "metadata": {},
		   "source": [
			"## Example 2.9_p: External_Rotor_resistance.sce"
		   ]
		  },
  {
"cell_type": "code",
	   "execution_count": null,
	   "metadata": {
	    "collapsed": true
	   },
	   "outputs": [],
"source": [
"//problem 2.9\n",
"clc;\n",
"clear;\n",
"close;\n",
"//given data :\n",
"format('v',5);\n",
"P=6;//No. of poles\n",
"m=3;//No. of phase\n",
"f=50;//in Hz\n",
"Xo_int=1;//in ohm/phase\n",
"Rrotor_int=0.1;//in ohm/phase\n",
"//S=1 for starting\n",
"S=1;//unitless\n",
"disp('Max. Torque condition : R2=X2');\n",
"//Rext+Rrotor_int=Xo_int\n",
"Rext=Xo_int-Rrotor_int;//in ohm/phase\n",
"disp(Rext,'External resistance to be added(ohm/phase) : ');"
   ]
   }
,
{
		   "cell_type": "markdown",
		   "metadata": {},
		   "source": [
			"## Example 2.9: Rotor_current.sce"
		   ]
		  },
  {
"cell_type": "code",
	   "execution_count": null,
	   "metadata": {
	    "collapsed": true
	   },
	   "outputs": [],
"source": [
"//Exa 2.9\n",
"clc;\n",
"clear;\n",
"close;\n",
"//Given data : \n",
"E2=100;//in volt\n",
"R2=0.4;//in ohm\n",
"X2=2.25;//im ohm\n",
"E2perphase=E2/sqrt(3);//in volt\n",
"S=4;//in %\n",
"E=(S/100)*E2perphase;//rotor induced emf at a slip=4% in volt\n",
"Z2=sqrt(R2^2+((S/100)*X2)^2);\n",
"I2=E/Z2;//in Ampere\n",
"disp(I2,'Rotor currentt in Ampere : ');"
   ]
   }
],
"metadata": {
		  "kernelspec": {
		   "display_name": "Scilab",
		   "language": "scilab",
		   "name": "scilab"
		  },
		  "language_info": {
		   "file_extension": ".sce",
		   "help_links": [
			{
			 "text": "MetaKernel Magics",
			 "url": "https://github.com/calysto/metakernel/blob/master/metakernel/magics/README.md"
			}
		   ],
		   "mimetype": "text/x-octave",
		   "name": "scilab",
		   "version": "0.7.1"
		  }
		 },
		 "nbformat": 4,
		 "nbformat_minor": 0
}
