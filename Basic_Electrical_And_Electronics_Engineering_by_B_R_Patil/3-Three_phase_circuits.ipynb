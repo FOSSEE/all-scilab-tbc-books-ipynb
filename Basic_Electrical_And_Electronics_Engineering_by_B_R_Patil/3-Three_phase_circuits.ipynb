{
"cells": [
 {
		   "cell_type": "markdown",
	   "metadata": {},
	   "source": [
       "# Chapter 3: Three phase circuits"
	   ]
	},
{
		   "cell_type": "markdown",
		   "metadata": {},
		   "source": [
			"## Example 3.10: To_find_impedance_in_delta_connected_circuit.sce"
		   ]
		  },
  {
"cell_type": "code",
	   "execution_count": null,
	   "metadata": {
	    "collapsed": true
	   },
	   "outputs": [],
"source": [
"clc\n",
"Vl=400;              //Assigning values to parameters\n",
"Il=34.65;\n",
"P=14.4*10^3;\n",
"Vph=Vl;\n",
"Iph=Il/sqrt(3);\n",
"Zph=Vph/Iph;\n",
"t=acosd(P/(sqrt(3)*Vl*Il))\n",
"Z=complex(Zph,t);\n",
"disp('Ohms',Z,'Impedance');\n",
"disp('Ohms',real(Z),'Resistance');\n",
"disp('Ohms',imag(Z),'Reactance');"
   ]
   }
,
{
		   "cell_type": "markdown",
		   "metadata": {},
		   "source": [
			"## Example 3.11: To_find_various_parameters.sce"
		   ]
		  },
  {
"cell_type": "code",
	   "execution_count": null,
	   "metadata": {
	    "collapsed": true
	   },
	   "outputs": [],
"source": [
"clc\n",
"vl=415           //assigning values to the parameters\n",
"r=15\n",
"l=0.1\n",
"c=0.000000177\n",
"f=50\n",
"vph=vl/sqrt(3)\n",
"xl=2*%pi*f*l\n",
"xc=1/(2*%pi*f*c)\n",
"zph=r+%i*(xl-xc)\n",
"[r1,t]=polar(zph)\n",
"iph=vph/zph\n",
"il=iph\n",
"p=sqrt(3)*vl*il*cos(t)\n",
"q=sqrt(3)*vl*il*sin(t)\n",
"s=sqrt(3)*vl*il\n",
"disp('Amperes',polar(iph),'The phase current is')\n",
"disp('Amperes',polar(il),'The line current is')\n",
"disp('Watts',polar(p),'The power drawn is')\n",
"disp('Watts',polar(q),'The reactive power is')\n",
"disp('VA',polar(s),'The total kVA is')"
   ]
   }
,
{
		   "cell_type": "markdown",
		   "metadata": {},
		   "source": [
			"## Example 3.12: To_find_power_taken_by_resistor.sce"
		   ]
		  },
  {
"cell_type": "code",
	   "execution_count": null,
	   "metadata": {
	    "collapsed": true
	   },
	   "outputs": [],
"source": [
"clc\n",
"vl=400                //assigning values to the parameters\n",
"t=0\n",
"zph=50\n",
"vph=vl/sqrt(3)\n",
"iph=vph/zph\n",
"il=iph\n",
"p=sqrt(3)*vl*il*cos(t)\n",
"disp('Watts',polar(p),'Power taken is')\n",
"iph=4\n",
"il=iph\n",
"p=vl*il*cos(t)\n",
"disp('Watts',polar(p),'Power taken after disconecting one of the resistor is')"
   ]
   }
,
{
		   "cell_type": "markdown",
		   "metadata": {},
		   "source": [
			"## Example 3.13: To_find_power_taken_by_resistor.sce"
		   ]
		  },
  {
"cell_type": "code",
	   "execution_count": null,
	   "metadata": {
	    "collapsed": true
	   },
	   "outputs": [],
"source": [
"clc\n",
"vl=400                  //Assigning values to parameters\n",
"vph=vl\n",
"r=40\n",
"t=0\n",
"iph=vph/r\n",
"il=sqrt(3)*iph\n",
"p=sqrt(3)*vl*il*cos(t)\n",
"disp('Watts',polar(p),'Power taken is')\n",
"i=10\n",
"p=2*i*i*r\n",
"disp('Watts',polar(p),'Power taken after diconnecting one resistor is')"
   ]
   }
,
{
		   "cell_type": "markdown",
		   "metadata": {},
		   "source": [
			"## Example 3.16: To_find_total_power_and_power_factor_after_reversing_the_current_of_the_coil.sce"
		   ]
		  },
  {
"cell_type": "code",
	   "execution_count": null,
	   "metadata": {
	    "collapsed": true
	   },
	   "outputs": [],
"source": [
"clc\n",
"w1=500       //Assigning values to parameters\n",
"w2=2500\n",
"p=w1+w2\n",
"t=atan(sqrt(3)*(w2-w1)/(w1+w2))\n",
"pf=cos(t)\n",
"disp('Watts',p,'Total Power supplied is')\n",
"disp(pf,'Power factor is')\n",
"w2=2500\n",
"w1=-500\n",
"p=w1+w2\n",
"t=atan(sqrt(3)*(w2-w1)/(w1+w2))\n",
"pf=cos(t)\n",
"disp('Watts',p,'Total Power supplied after reversing the connections to the current coil is')\n",
"disp(pf,'Power factor after reversing the connections to the current coil is')"
   ]
   }
,
{
		   "cell_type": "markdown",
		   "metadata": {},
		   "source": [
			"## Example 3.17: To_determine_various_parameters.sce"
		   ]
		  },
  {
"cell_type": "code",
	   "execution_count": null,
	   "metadata": {
	    "collapsed": true
	   },
	   "outputs": [],
"source": [
"clc\n",
"w1=3000        //Assigning values to parameters\n",
"w2=5000\n",
"t=atan(sqrt(3)*(w2-w1)/(w1+w2))\n",
"pf=cos(t)\n",
"p=w1+w2\n",
"il=p/(sqrt(3)*vl*cos(t))\n",
"disp('Watts',p,'Total Power supplied is')\n",
"disp(pf,'Power factor is')\n",
"disp('Amperes',il,'The line current is')"
   ]
   }
,
{
		   "cell_type": "markdown",
		   "metadata": {},
		   "source": [
			"## Example 3.18: To_determine_various_parameters.sce"
		   ]
		  },
  {
"cell_type": "code",
	   "execution_count": null,
	   "metadata": {
	    "collapsed": true
	   },
	   "outputs": [],
"source": [
"clc\n",
"w1=-1000        //Assigning values to parameters\n",
"w2=3000\n",
"vl=400\n",
"t=atan(sqrt(3)*(w2-w1)/(w1+w2))\n",
"pf=cos(t)\n",
"p=w1+w2\n",
"il=p/(sqrt(3)*vl*cos(t))\n",
"disp('Watts',p,'Total Power supplied is')\n",
"disp(pf,'Power factor is')\n",
"disp('Amperes',il,'The line current is')"
   ]
   }
,
{
		   "cell_type": "markdown",
		   "metadata": {},
		   "source": [
			"## Example 3.19: To_determine_various_parameters.sce"
		   ]
		  },
  {
"cell_type": "code",
	   "execution_count": null,
	   "metadata": {
	    "collapsed": true
	   },
	   "outputs": [],
"source": [
"clc\n",
"w1=100000        //Assigning values to parameters\n",
"w2=300000\n",
"vl=2000\n",
"n=0.9\n",
"t=atan(sqrt(3)*(w2-w1)/(w1+w2))\n",
"pf=cos(t)\n",
"p=w1+w2\n",
"il=p/(sqrt(3)*vl*cos(t))\n",
"disp('Watts',p,'Total Power supplied is')\n",
"disp(pf,'Power factor is')\n",
"disp('Amperes',il,'The line current is')"
   ]
   }
,
{
		   "cell_type": "markdown",
		   "metadata": {},
		   "source": [
			"## Example 3.1: To_find_parameters_for_Star_and_Delta_connected_circuits.sce"
		   ]
		  },
  {
"cell_type": "code",
	   "execution_count": null,
	   "metadata": {
	    "collapsed": true
	   },
	   "outputs": [],
"source": [
"clc\n",
"f=50;                   //Assigning values to parameters\n",
"Vl=400;\n",
"Rph=20;\n",
"L=0.5;\n",
"Xl=2*%pi*f*L;\n",
"Zph=20+%i*157;\n",
"[r,t]=polar(Zph);\n",
"Vph=Vl/sqrt(3);        //Star connection\n",
"Iph=Vph/r;\n",
"Il=Iph;\n",
"P=sqrt(3)*Vl*Il*cos(t);\n",
"disp('Amperes',Il,'The line current for Star connection is');\n",
"disp('Watts',polar(P),'The total power absorbed in Star connection is');\n",
"Vph=Vl;              //Delta connection\n",
"Iph=Vph/r;\n",
"Il=sqrt(3)*Iph;\n",
"P=sqrt(3)*Vl*Il*cos(t);\n",
"disp('Amperes',Il,'The line current for Delta connection is');\n",
"disp('Watts',polar(P),'The total power absorbed in Delta connection is');"
   ]
   }
,
{
		   "cell_type": "markdown",
		   "metadata": {},
		   "source": [
			"## Example 3.20: To_find_power_factor.sce"
		   ]
		  },
  {
"cell_type": "code",
	   "execution_count": null,
	   "metadata": {
	    "collapsed": true
	   },
	   "outputs": [],
"source": [
"clc\n",
"vl=220        //Assigning values to parameters\n",
"il=38\n",
"n=0.88\n",
"p=11200\n",
"ip=p/n\n",
"t=acosd(ip/(sqrt(3)*vl*il))\n",
"pf=cosd(t)\n",
"w2=vl*il*cosd(30-t)\n",
"w1=vl*il*cosd(30+t)\n",
"disp('Watts',w2,'The wattmeter reading is')\n",
"disp('Watts',w1,'The wattmeter reading is')\n",
"disp(pf,'Power factor is')"
   ]
   }
,
{
		   "cell_type": "markdown",
		   "metadata": {},
		   "source": [
			"## Example 3.21: To_find_power_factor.sce"
		   ]
		  },
  {
"cell_type": "code",
	   "execution_count": null,
	   "metadata": {
	    "collapsed": true
	   },
	   "outputs": [],
"source": [
"clc\n",
"w1=1        //Assigning values to parameters\n",
"w2=2*w1\n",
"t=atan(sqrt(3)*(w2-w1)/(w1+w2))\n",
"pf=cos(t)\n",
"disp(pf,'Power factor is')"
   ]
   }
,
{
		   "cell_type": "markdown",
		   "metadata": {},
		   "source": [
			"## Example 3.2: To_find_parameters_of_star_connected_circuit.sce"
		   ]
		  },
  {
"cell_type": "code",
	   "execution_count": null,
	   "metadata": {
	    "collapsed": true
	   },
	   "outputs": [],
"source": [
"clc\n",
"f=50          //Assigning values to parameters\n",
"rph=8\n",
"l=0.02\n",
"xl=2*%pi*f*l\n",
"vl=230\n",
"f=50\n",
"vph=vl/sqrt(3)\n",
"zph=8+%i*6.28\n",
"[r,t]=polar(zph)\n",
"iph=vph/r\n",
"il=iph\n",
"p=sqrt(3)*vl*il*cos(t)\n",
"q=sqrt(3)*vl*il*sin(t)\n",
"s=sqrt(3)*vl*il\n",
"disp('Amperes',il,'The line current is')\n",
"disp('Watts',polar(p),'The total Power absorbed is')\n",
"disp('VAR',polar(q),'The reactive volt amperes is')\n",
"disp('Volt Ampere',polar(s),'The Volt amperes is')"
   ]
   }
,
{
		   "cell_type": "markdown",
		   "metadata": {},
		   "source": [
			"## Example 3.3: EX3_3.sce"
		   ]
		  },
  {
"cell_type": "code",
	   "execution_count": null,
	   "metadata": {
	    "collapsed": true
	   },
	   "outputs": [],
"source": [
"clc;\n",
"Vl=230;       //Assigning values to parameters\n",
"f=50;\n",
"Rph=15;\n",
"L=0.03;\n",
"Xl=2*%pi*f*L;\n",
"Zph=15+%i*9.42;\n",
"[r,t]=polar(Zph)\n",
"Vph=Vl;\n",
"Iph=Vph/r;\n",
"Il=sqrt(3)*Iph;\n",
"P=sqrt(3)*Vl*Il*cos(t);\n",
"disp('Amperes',Iph,'Phase current');\n",
"disp('Amperes',Il,'Line current');\n",
"disp('Watts',polar(P),'Power absorbed');"
   ]
   }
,
{
		   "cell_type": "markdown",
		   "metadata": {},
		   "source": [
			"## Example 3.4: To_find_capacitive_reactance_and_Power_consumed.sce"
		   ]
		  },
  {
"cell_type": "code",
	   "execution_count": null,
	   "metadata": {
	    "collapsed": true
	   },
	   "outputs": [],
"source": [
"clc\n",
"f=50           //assigning values to the parameters\n",
"xc=200\n",
"vph=400\n",
"vl=vph\n",
"zph=14.151-%i*200\n",
"[r,t]=polar(zph)\n",
"iph=vph/zph\n",
"il=sqrt(3)*iph\n",
"p=sqrt(3)*vl*il*cos(t)\n",
"pwr=vph*iph*cos(t)\n",
"c=1/(2*%pi*f*xc)\n",
"disp('Watts',polar(pwr),'power consumed in each branch of delta is')\n",
"disp('Farads',c,'capacitive reactance is')"
   ]
   }
,
{
		   "cell_type": "markdown",
		   "metadata": {},
		   "source": [
			"## Example 3.5: To_find_various_parameters.sce"
		   ]
		  },
  {
"cell_type": "code",
	   "execution_count": null,
	   "metadata": {
	    "collapsed": true
	   },
	   "outputs": [],
"source": [
"clc\n",
"l=50                    //Assigning values to parameters\n",
"w=800\n",
"c=50\n",
"xl=w*l\n",
"xc=1/(w*c)\n",
"z1=0+%i*40\n",
"z2=50\n",
"z3=0-%i*25\n",
"zph=z1+z2*z3/(z2+z3)\n",
"[r,t]=polar(zph)\n",
"vl=550\n",
"vph=vl\n",
"iph=vph/zph\n",
"il=sqrt(3)*iph\n",
"p=sqrt(3)*vl*il*cos(t)\n",
"pf=cos(t)\n",
"q=sqrt(3)*vl*il*sin(t)\n",
"s=sqrt(3)*vl*il\n",
"disp('Amperes',polar(iph),'The phase current is')\n",
"disp('Amperes',polar(il),'The line current is')\n",
"disp('watts',polar(p),'The power drawn is')\n",
"disp(polar(pf),'The power factor is')\n",
"disp('watts',polar(q),'The reactive power is')\n",
"disp('KVA',polar(s),'The kva rating of load is')"
   ]
   }
,
{
		   "cell_type": "markdown",
		   "metadata": {},
		   "source": [
			"## Example 3.7: To_find_values_of_circuit_elements.sce"
		   ]
		  },
  {
"cell_type": "code",
	   "execution_count": null,
	   "metadata": {
	    "collapsed": true
	   },
	   "outputs": [],
"source": [
"clc\n",
"p=10000                      //Assigning values to parameters\n",
"t=acos(0.6)\n",
"vl=440\n",
"vph=vl\n",
"il=p/(sqrt(3)*vl*cos(t))\n",
"iph=il/sqrt(3)\n",
"zph=vph/iph\n",
"zph1=20.9-%i*27.87\n",
"[res]=real(zph1)\n",
"[xc]=abs(imag(zph1))\n",
"q=sqrt(3)*vl*il*sin(t)\n",
"disp('ohms',res,'The resistance value of circuit element is')\n",
"disp('ohms',xc,'The capacitive value of circuit element is')\n",
"disp('VAR',q,'The reactive volt-ampere')"
   ]
   }
,
{
		   "cell_type": "markdown",
		   "metadata": {},
		   "source": [
			"## Example 3.8: To_find_values_of_resistance_and_inductance_of_each_coil.sce"
		   ]
		  },
  {
"cell_type": "code",
	   "execution_count": null,
	   "metadata": {
	    "collapsed": true
	   },
	   "outputs": [],
"source": [
"clc\n",
"f=50                     //Assigning values to parameters\n",
"vl=440\n",
"p=1500\n",
"t=acos(0.2)\n",
"vph=vl/sqrt(3)\n",
"il=p/(sqrt(3)*vl*p*cos(t))\n",
"iph=il\n",
"zph=vph/iph\n",
"zph1=5.17+%i*25.3\n",
"[res]=real(zph1)\n",
"[xl]=imag(zph1)\n",
"l=xl/(2*%pi*f)\n",
"disp('ohms',res,'The resistive circuit constant is')\n",
"disp('ohms',l,'The inductive  circuit constant is')"
   ]
   }
,
{
		   "cell_type": "markdown",
		   "metadata": {},
		   "source": [
			"## Example 3.9: To_find_circuit_constants.sce"
		   ]
		  },
  {
"cell_type": "code",
	   "execution_count": null,
	   "metadata": {
	    "collapsed": true
	   },
	   "outputs": [],
"source": [
"clc\n",
"p=100000                   //Assigning values to parameters\n",
"il=80\n",
"vl=1100\n",
"f=50\n",
"vph=vl/sqrt(3)\n",
"iph=il\n",
"zph=vph/iph\n",
"t=acosd(p/(sqrt(3)*vl*il))\n",
"zph1=5.21-%i*6\n",
"[r]=real(zph1)\n",
"[xc]=abs(imag(zph1))\n",
"c=1/(2*%pi*f*xc)\n",
"disp('ohms',r,'The resistive circuit constant is')\n",
"disp('ohms',xc,'The capacitive circuit constant is')\n",
"disp('farads',c,'The capacitance is')"
   ]
   }
],
"metadata": {
		  "kernelspec": {
		   "display_name": "Scilab",
		   "language": "scilab",
		   "name": "scilab"
		  },
		  "language_info": {
		   "file_extension": ".sce",
		   "help_links": [
			{
			 "text": "MetaKernel Magics",
			 "url": "https://github.com/calysto/metakernel/blob/master/metakernel/magics/README.md"
			}
		   ],
		   "mimetype": "text/x-octave",
		   "name": "scilab",
		   "version": "0.7.1"
		  }
		 },
		 "nbformat": 4,
		 "nbformat_minor": 0
}
