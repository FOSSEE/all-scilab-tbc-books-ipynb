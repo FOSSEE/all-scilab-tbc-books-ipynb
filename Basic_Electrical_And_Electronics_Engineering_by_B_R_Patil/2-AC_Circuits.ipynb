{
"cells": [
 {
		   "cell_type": "markdown",
	   "metadata": {},
	   "source": [
       "# Chapter 2: AC Circuits"
	   ]
	},
{
		   "cell_type": "markdown",
		   "metadata": {},
		   "source": [
			"## Example 2.10: To_find_rms_value_of_a_waveform.sce"
		   ]
		  },
  {
"cell_type": "code",
	   "execution_count": null,
	   "metadata": {
	    "collapsed": true
	   },
	   "outputs": [],
"source": [
"Vm=1;        //Assuming Vm=1\n",
"function y=f(t),y=Vm*Vm*sin(t)*sin(t),endfunction      //Defining Voltage Equation\n",
"T=2*%pi;\n",
"Res=sqrt(intg(0,%pi,f)/(T));\n",
"disp('Volts',Res,'Rms value of voltage');"
   ]
   }
,
{
		   "cell_type": "markdown",
		   "metadata": {},
		   "source": [
			"## Example 2.11: To_find_rms_value_of_a_waveform.sce"
		   ]
		  },
  {
"cell_type": "code",
	   "execution_count": null,
	   "metadata": {
	    "collapsed": true
	   },
	   "outputs": [],
"source": [
"Vm=1;            //Assuming Vm=1\n",
"function y=f(t),y=Vm*Vm*sin(t)*sin(t),endfunction      //Defining Voltage Equation\n",
"T=2*%pi;\n",
"Res=sqrt(intg(%pi/4,%pi,f)/(T));\n",
"disp('Volts',Res,'Rms value of voltage');"
   ]
   }
,
{
		   "cell_type": "markdown",
		   "metadata": {},
		   "source": [
			"## Example 2.12: To_find_rms_value_of_a_waveform.sce"
		   ]
		  },
  {
"cell_type": "code",
	   "execution_count": null,
	   "metadata": {
	    "collapsed": true
	   },
	   "outputs": [],
"source": [
"Vm=1;           //Assuming Vm=1\n",
"function y=f(t),y=Vm*Vm*sin(t)*sin(t),endfunction      //Defining Voltage Equation\n",
"function y1=f1(t),y1=0.866*0.866*Vm*Vm*sin(t)*sin(t),endfunction\n",
"T=%pi;\n",
"Res=sqrt(((intg(0,%pi/3,f))+(intg(%pi/3,%pi/2,f1))+(intg(%pi/2,%pi,f)))/T);\n",
"disp('Volts',Res,'Rms voltage value');"
   ]
   }
,
{
		   "cell_type": "markdown",
		   "metadata": {},
		   "source": [
			"## Example 2.13: To_find_rms_value_of_a_waveform.sce"
		   ]
		  },
  {
"cell_type": "code",
	   "execution_count": null,
	   "metadata": {
	    "collapsed": true
	   },
	   "outputs": [],
"source": [
"Vm=1;          //Assuming Vm=1\n",
"function y=f(t),y=10*t*10*t,endfunction        //Defining Current Equation\n",
"T=4;\n",
"Res=sqrt(intg(0,2,f)/(T));\n",
"disp('Amperes',Res,'Rms current value');"
   ]
   }
,
{
		   "cell_type": "markdown",
		   "metadata": {},
		   "source": [
			"## Example 2.14: To_find_rms_value_of_a_waveform.sce"
		   ]
		  },
  {
"cell_type": "code",
	   "execution_count": null,
	   "metadata": {
	    "collapsed": true
	   },
	   "outputs": [],
"source": [
"Vm=1;              //Assuming Vm=1\n",
"function y=f(t),y=sin(t)*sin(t),endfunction          //Defining Voltage Equation\n",
"T=%pi;\n",
"Res=sqrt(intg(%pi/6,%pi,f)/(T));\n",
"disp('Volts',Res,'Rms voltage value');"
   ]
   }
,
{
		   "cell_type": "markdown",
		   "metadata": {},
		   "source": [
			"## Example 2.15: To_find_rms_value_of_a_waveform.sce"
		   ]
		  },
  {
"cell_type": "code",
	   "execution_count": null,
	   "metadata": {
	    "collapsed": true
	   },
	   "outputs": [],
"source": [
"Vm=1;             //Assuming Vm=1\n",
"function y=f(t),y=sin(t+(%pi/3))*sin(t+(%pi/3)),endfunction   //Defining Voltage Equation\n",
"T=2*(%pi/3);\n",
"Res=sqrt(intg(0,T,f)/(T));\n",
"disp('Volts',Res,'Rms voltage value');"
   ]
   }
,
{
		   "cell_type": "markdown",
		   "metadata": {},
		   "source": [
			"## Example 2.16: To_find_effective_value_of_resultant_current.sce"
		   ]
		  },
  {
"cell_type": "code",
	   "execution_count": null,
	   "metadata": {
	    "collapsed": true
	   },
	   "outputs": [],
"source": [
"function y=f(t),y=(10+10*sin(t))*(10+10*sin(t)),endfunction      //Defining Current Equation\n",
"T=2*%pi;\n",
"Res=sqrt(intg(0,2*%pi,f)/(T));\n",
"disp('Amperes',Res,'Rms current value');"
   ]
   }
,
{
		   "cell_type": "markdown",
		   "metadata": {},
		   "source": [
			"## Example 2.17: To_find_parameters_of_an_alternating_current.sce"
		   ]
		  },
  {
"cell_type": "code",
	   "execution_count": null,
	   "metadata": {
	    "collapsed": true
	   },
	   "outputs": [],
"source": [
"Im=62.35;\n",
"w=323;\n",
"function y=f(t),y=Im*sin(w*t),endfunction       //Defining Voltage Equation\n",
"fr=w/(2*%pi);\n",
"Irms=Im/sqrt(2);\n",
"Iavg=0.637*Im;\n",
"formfac=Irms/Iavg;\n",
"disp('Amperes',Im,'Maximum value of current')\n",
"disp('Hertz',fr,'Frequency');\n",
"disp('Amperes',Irms,'Rms value of current');\n",
"disp('Amperes',Iavg,'Average value of current');\n",
"disp(formfac,'Form factor');"
   ]
   }
,
{
		   "cell_type": "markdown",
		   "metadata": {},
		   "source": [
			"## Example 2.19: To_derive_instantaneous_value_of_sum_and_difference_of_voltages.sce"
		   ]
		  },
  {
"cell_type": "code",
	   "execution_count": null,
	   "metadata": {
	    "collapsed": true
	   },
	   "outputs": [],
"source": [
"V1=42.43+%i*0;              //Defining voltage equations in rectangular form\n",
"V2=14.14+%i*24.49;\n",
"Va=V1+V2;\n",
"[Ro,Theta]=polar(Va);\n",
"Vm=Ro*sqrt(2);\n",
"disp('Volts',Vm,'Maximum value of voltage considering addition of voltages')\n",
"function y=f(t), y=Ro*sin(t+Theta),endfunction      //Defining voltage equation\n",
"Vb=V1-V2;\n",
"[Ro1,Theta1]=polar(Vb);\n",
"Vm1=Ro1*sqrt(2);\n",
"function y1=f(t),y1=Ro*sin(t+Theta1),endfunction   //Defining voltage equation\n",
"disp('Volts',Vm1,'Maximum value of voltage considering difference of voltages')"
   ]
   }
,
{
		   "cell_type": "markdown",
		   "metadata": {},
		   "source": [
			"## Example 2.1: To_find_parameters_of_an_alternating_current.sce"
		   ]
		  },
  {
"cell_type": "code",
	   "execution_count": null,
	   "metadata": {
	    "collapsed": true
	   },
	   "outputs": [],
"source": [
"t=3*10^-3;                  //Assigning values to parameters\n",
"w=314;\n",
"Im=141.4*sin(%pi/2);\n",
"f=w/(2*%pi);\n",
"T=1/f;\n",
"t=3*(10^-3);\n",
"i=141.4*sin(w*t);\n",
"disp('Amperes',Im,'Maximum value of current');\n",
"disp('Hertz',f,'Frequency');\n",
"disp('Seconds',T,'Time period');\n",
"disp('Amperes',i,'Instantaneous value of current at t=3 msec');"
   ]
   }
,
{
		   "cell_type": "markdown",
		   "metadata": {},
		   "source": [
			"## Example 2.21: To_find_resultant_of_four_alternating_voltages.sce"
		   ]
		  },
  {
"cell_type": "code",
	   "execution_count": null,
	   "metadata": {
	    "collapsed": true
	   },
	   "outputs": [],
"source": [
"V1=17.68             //Defining voltage equations in rectangular form\n",
"V2=6.12+%i*3.54\n",
"V3=%i*21.21\n",
"V4=10-%i*10;\n",
"V=V1+V2+V3+V4;\n",
"[Ro,Theta]=polar(V);\n",
"function y=f(t), y=Ro*sqrt(2)*sin(t+Theta), endfunction\n",
"disp('Volts',Ro*sqrt(2),'Maximum Voltage value')"
   ]
   }
,
{
		   "cell_type": "markdown",
		   "metadata": {},
		   "source": [
			"## Example 2.22: To_calculate_an_unknown_alternating_voltage.sce"
		   ]
		  },
  {
"cell_type": "code",
	   "execution_count": null,
	   "metadata": {
	    "collapsed": true
	   },
	   "outputs": [],
"source": [
"V1=36.75+%i*21.22             //Defining voltage equations in rectangular form\n",
"V2=-45.93-%i*26.52\n",
"V3=-50+%i*50;\n",
"V=-30.59+%i*94.15;\n",
"V4=V-(V1+V2+V3);\n",
"[Ro,Theta]=polar(V4);\n",
"function y=f(t), y=Ro*sqrt(2)*sin(t+Theta), endfunction\n",
"disp('Volts',Ro*sqrt(2),'Maximum Voltage value')"
   ]
   }
,
{
		   "cell_type": "markdown",
		   "metadata": {},
		   "source": [
			"## Example 2.23: To_find_current_in_wire_s.sce"
		   ]
		  },
  {
"cell_type": "code",
	   "execution_count": null,
	   "metadata": {
	    "collapsed": true
	   },
	   "outputs": [],
"source": [
"I1=2.12+%i*3.67             //Defining current equations in rectangular form\n",
"I2=-3.07+%i*1.77\n",
"I3=-1.84+%i*1.06;\n",
"I4=-(I1+I2+I3);\n",
"[Ro,Theta]=polar(I4);\n",
"function y=f(t), y=Ro*sqrt(2)*sin(t+Theta), endfunction\n",
"disp('Amperes',Ro*sqrt(2),'Maximum current value')"
   ]
   }
,
{
		   "cell_type": "markdown",
		   "metadata": {},
		   "source": [
			"## Example 2.24: To_find_resultant_emf_across_the_series_connected_coils.sce"
		   ]
		  },
  {
"cell_type": "code",
	   "execution_count": null,
	   "metadata": {
	    "collapsed": true
	   },
	   "outputs": [],
"source": [
"V1=230            //Defining voltage equations in rectangular form\n",
"V2=-115+%i*200;\n",
"V3=-115-%i*200;\n",
"V=V1+V2+V3;\n",
"[Ro,Theta]=polar(V);\n",
"function y=f(t), y=Ro*sqrt(2)*sin(t+Theta), endfunction\n",
"disp('Volts',Ro*sqrt(2),'Maximum Voltage value')"
   ]
   }
,
{
		   "cell_type": "markdown",
		   "metadata": {},
		   "source": [
			"## Example 2.25: To_find_potential_difference.sce"
		   ]
		  },
  {
"cell_type": "code",
	   "execution_count": null,
	   "metadata": {
	    "collapsed": true
	   },
	   "outputs": [],
"source": [
"V1=70.71             //Defining voltage equations in rectangular form\n",
"V2=%i*176.78\n",
"V3=91.86+%i*53.04\n",
"V4=100-%i*100;\n",
"V=V1+V2+V3+V4;\n",
"[Ro,Theta]=polar(V);\n",
"function y=f(t), y=Ro*sqrt(2)*sin(t+Theta), endfunction\n",
"disp('Volts',Ro*sqrt(2),'Maximum Voltage value with V2 polarity as it is')\n",
"V=V1-V2+V3+V4;\n",
"[Ro1,Theta1]=polar(V);\n",
"function y1=f(t), y1=Ro1*sqrt(2)*sin(t+Theta), endfunction\n",
"disp('Volts',Ro1*sqrt(2),'Maximum Voltage value with polarity of V2 reversed')"
   ]
   }
,
{
		   "cell_type": "markdown",
		   "metadata": {},
		   "source": [
			"## Example 2.26: To_find_parameters_of_an_AC_circuit.sce"
		   ]
		  },
  {
"cell_type": "code",
	   "execution_count": null,
	   "metadata": {
	    "collapsed": true
	   },
	   "outputs": [],
"source": [
"C=318*10^-6;         //Assignig values to parameters\n",
"V=230;\n",
"f=50;\n",
"Xc=1/(2*%pi*f*C);\n",
"I=V/Xc;\n",
"Vm=sqrt(2)*V;\n",
"Im=sqrt(2)*I;\n",
"function y=f(t), y=Vm*sin(2*%pi*f*t),endfunction\n",
"function y1=f(t), y1=Im*sin(2*%pi*f*t+%pi/2),endfunction\n",
"disp('Volts',Vm,'Peak voltage value');\n",
"disp('Amperes',Im,'Peak currnet value');"
   ]
   }
,
{
		   "cell_type": "markdown",
		   "metadata": {},
		   "source": [
			"## Example 2.27: To_obtain_voltage_across_an_inductor.sce"
		   ]
		  },
  {
"cell_type": "code",
	   "execution_count": null,
	   "metadata": {
	    "collapsed": true
	   },
	   "outputs": [],
"source": [
"clc\n",
"L=10*10^-3;             //ASssigning values to parameters\n",
"Im=5; \n",
"w=2000;\n",
"function y=f(t), y=Im*sin(w*t+%pi/2),endfunction\n",
"I=Im/sqrt(2);\n",
"Xl=2*%pi*L;\n",
"Vm=L*Im*w;\n",
"Vl=Vm/sqrt(2);\n",
"disp('Volts',Vl,'Voltage Vl');"
   ]
   }
,
{
		   "cell_type": "markdown",
		   "metadata": {},
		   "source": [
			"## Example 2.28: To_find_voltage_and_current_in_the_circuit.sce"
		   ]
		  },
  {
"cell_type": "code",
	   "execution_count": null,
	   "metadata": {
	    "collapsed": true
	   },
	   "outputs": [],
"source": [
"clc\n",
"V=150;               //Assigning values to parameters\n",
"f=50;\n",
"L=0.2;\n",
"Xl=2*%pi*f*L;\n",
"Vm=V*sqrt(2);\n",
"I=V/Xl;\n",
"Im=sqrt(2)*I;\n",
"function y=f(t), y=Vm*sin(2*%pi*f*t),endfunction\n",
"function y1=f(t), y1=Im*sin(2*%pi*f*t-(%pi/2)) endfunction\n",
"disp('Volts',Vm,'Maximum voltage value');\n",
"disp('Amperes',Im,'Maximum current value');"
   ]
   }
,
{
		   "cell_type": "markdown",
		   "metadata": {},
		   "source": [
			"## Example 2.29: To_find_parameters_of_an_AC_circuit.sce"
		   ]
		  },
  {
"cell_type": "code",
	   "execution_count": null,
	   "metadata": {
	    "collapsed": true
	   },
	   "outputs": [],
"source": [
"clc\n",
"R=7;             //Assigning values to parametrs\n",
"L=31.8*10^-3;\n",
"V=230;\n",
"f=50;\n",
"Xl=2*%pi*f*L;\n",
"Zcoil=sqrt(R*R+Xl*Xl);\n",
"I=V/Zcoil;\n",
"Phi=atan(Xl/R);\n",
"PF=cos(Phi);\n",
"P=V*I*cos(Phi);\n",
"disp('Amperes',I,'Circuit Current');\n",
"disp('Degrees',Phi,'Phase angle');\n",
"disp(PF,'Power factor');\n",
"disp('Watts',P,'Power consumed');"
   ]
   }
,
{
		   "cell_type": "markdown",
		   "metadata": {},
		   "source": [
			"## Example 2.2: To_find_parameters_of_an_alternating_current.sce"
		   ]
		  },
  {
"cell_type": "code",
	   "execution_count": null,
	   "metadata": {
	    "collapsed": true
	   },
	   "outputs": [],
"source": [
"f=60;               //Assigning values to parameters\n",
"Im=12;\n",
"i=Im*sin(377/360)\n",
"disp('Amperes',i,'Current at t=1/360 sec')\n",
"i1=9.6;\n",
"t=asin(i1/Im)/377;\n",
"disp('Seconds',t,'Time taken to reach i1=9.6');"
   ]
   }
,
{
		   "cell_type": "markdown",
		   "metadata": {},
		   "source": [
			"## Example 2.30: To_find_parameters_of_an_AC_circuit.sce"
		   ]
		  },
  {
"cell_type": "code",
	   "execution_count": null,
	   "metadata": {
	    "collapsed": true
	   },
	   "outputs": [],
"source": [
"clc\n",
"V=200;                //Assigning values to parameters\n",
"R=20;\n",
"f=50;\n",
"L=0.1;\n",
"Xl=2*%pi*f*L;\n",
"C=50*10^-6;\n",
"Xc=1/(2*%pi*f*C);\n",
"X=Xc-Xl;\n",
"Z=R-%i*X;\n",
"[Ro,theta]=polar(Z)\n",
"I=V/Ro;\n",
"PF=cos(theta);\n",
"PA=V*I*PF;\n",
"PR=V*I*sin(theta);\n",
"P=V*I;\n",
"disp('Amperes',I,'Circuit Current');\n",
"disp('Ohms',Z,'Circuit Impedance');\n",
"disp(real(PF),'Power Factor');\n",
"disp('Watts',real(PA),'Active Power');\n",
"disp('VAR',real(PR),'Reactive Power');\n",
"disp('Watts',P,'Apparen Power');"
   ]
   }
,
{
		   "cell_type": "markdown",
		   "metadata": {},
		   "source": [
			"## Example 2.31: To_find_current_and_voltage.sce"
		   ]
		  },
  {
"cell_type": "code",
	   "execution_count": null,
	   "metadata": {
	    "collapsed": true
	   },
	   "outputs": [],
"source": [
"clc\n",
"V=200+%i*0;             //Assigning values to parameters\n",
"R1=10;\n",
"R2=20;\n",
"R=R1+R2;\n",
"L1=0.05;\n",
"L2=0.1;\n",
"f=50;\n",
"Xl1=2*%pi*f*L1;\n",
"Xl2=2*%pi*f*L2;\n",
"Xl=Xl1+Xl2;\n",
"C=50*10^-6;\n",
"Xc=1/(2*%pi*f*C);\n",
"X=Xc-Xl;\n",
"Z=R-%i*X;\n",
"[Ro,theta]=polar(Z);\n",
"I=V/Z;\n",
"Z1=R1+%i*Xl1;\n",
"Z2=R2-%i*(Xc-Xl2)\n",
"[Ro1,Theta1]=polar(Z1);\n",
"[Ro2,Theta2]=polar(Z2);\n",
"[ro,th]=polar(I);\n",
"V1=ro*Ro1;\n",
"V2=ro*Ro2;\n",
"disp('Amperes',ro,'Circuit Current');\n",
"disp('Volts',V1,'Voltage V1');\n",
"disp('Volts',V2,'Voltage V2');"
   ]
   }
,
{
		   "cell_type": "markdown",
		   "metadata": {},
		   "source": [
			"## Example 2.32: To_find_Z2.sce"
		   ]
		  },
  {
"cell_type": "code",
	   "execution_count": null,
	   "metadata": {
	    "collapsed": true
	   },
	   "outputs": [],
"source": [
"clc\n",
"V=100+0*%i;                     //Assignig values to parametrs\n",
"Z1=17.32+10*%i;\n",
"V1=34.64-20*%i;\n",
"V2=V-V1;\n",
"[Ro,Theta]=polar(V2);\n",
"[ro,theta]=polar(Z1);\n",
"[r,t]=polar(V1);\n",
"I=[r,t]/[ro,theta];\n",
"[ro1,t1]=polar(I);\n",
"Z2=[Ro,Theta]/[ro1,t1];\n",
"disp('Ohms',Z2,'Impedance Z2');"
   ]
   }
,
{
		   "cell_type": "markdown",
		   "metadata": {},
		   "source": [
			"## Example 2.33: To_determine_impedance_and_power_consumed.sce"
		   ]
		  },
  {
"cell_type": "code",
	   "execution_count": null,
	   "metadata": {
	    "collapsed": true
	   },
	   "outputs": [],
"source": [
"clc\n",
"V=150+180*%i;          //Assigning values to parameters\n",
"I=5-4*%i;\n",
"Z=V/I;\n",
"disp('Ohms',Z,'Impedance');\n",
"[Ro,Theta]=polar(Z);\n",
"P=V*I*cos(Theta);\n",
"[r,t]=polar(P);\n",
"disp('Watts',r,'Power consumed');"
   ]
   }
,
{
		   "cell_type": "markdown",
		   "metadata": {},
		   "source": [
			"## Example 2.34: To_find_average_power_taken.sce"
		   ]
		  },
  {
"cell_type": "code",
	   "execution_count": null,
	   "metadata": {
	    "collapsed": true
	   },
	   "outputs": [],
"source": [
"clc\n",
"V=127.28+%i*0;             //Assigning values to parameters\n",
"I=1.251-%i*1.251\n",
"Z=V/I;\n",
"[Ro,Theta]=polar(I)\n",
"P=V*I*cos(Theta);\n",
"[r,t]=polar(P)\n",
"disp('Ohms',Z,'Resistive and reactive part of impedance');\n",
"disp('Watts',r,'Average Power taken');"
   ]
   }
,
{
		   "cell_type": "markdown",
		   "metadata": {},
		   "source": [
			"## Example 2.35: To_determine_Z2.sce"
		   ]
		  },
  {
"cell_type": "code",
	   "execution_count": null,
	   "metadata": {
	    "collapsed": true
	   },
	   "outputs": [],
"source": [
"clc\n",
"Z1=12.5+%i*21;          //Assigning values to parameters\n",
"V=50+%i*0;\n",
"I1=V/Z1;\n",
"I2=0.722-0.723*%i;\n",
"Z=V/I2;\n",
"Z2=Z-Z1;\n",
"[r,t]=polar(Z2);\n",
"disp('Ohms',r,'Impedance Z2');"
   ]
   }
,
{
		   "cell_type": "markdown",
		   "metadata": {},
		   "source": [
			"## Example 2.3: To_find_time_taken_by_an_alternating_voltage_to_reach_0.sce"
		   ]
		  },
  {
"cell_type": "code",
	   "execution_count": null,
	   "metadata": {
	    "collapsed": true
	   },
	   "outputs": [],
"source": [
"w=942;            //Assigning values to parameters\n",
"Vm=10;\n",
"V=6;\n",
"t=asin(V/Vm)/w;\n",
"f=w/(2*%pi);\n",
"T=1/f;\n",
"t2=t+T;\n",
"disp('Seconds',t2,'Time taken to reach 6V second time');"
   ]
   }
,
{
		   "cell_type": "markdown",
		   "metadata": {},
		   "source": [
			"## Example 2.40: To_determine_active_and_reactive_and_apparent_Power.sce"
		   ]
		  },
  {
"cell_type": "code",
	   "execution_count": null,
	   "metadata": {
	    "collapsed": true
	   },
	   "outputs": [],
"source": [
"clc\n",
"function v=f(t), v=200*sin(377*t), endfunction         //Defining functions\n",
"function i=f1(t), i=8*sin(377*t-%pi/6), endfunction\n",
"V=200/sqrt(2);              //Assigning values to parameters\n",
"I=8/sqrt(2);\n",
"P=V*I*cos(%pi/6)\n",
"disp('Watts',P,'Active Power');\n",
"Q=V*I*sin(%pi/6);\n",
"disp('VAR',Q,'Reactive Power');\n",
"S=V*I;\n",
"disp('VA',S,'Apparent Power');"
   ]
   }
,
{
		   "cell_type": "markdown",
		   "metadata": {},
		   "source": [
			"## Example 2.43: To_find_impedance_and_Power.sce"
		   ]
		  },
  {
"cell_type": "code",
	   "execution_count": null,
	   "metadata": {
	    "collapsed": true
	   },
	   "outputs": [],
"source": [
"clc\n",
"function i=f(t), i=5*sin(314*t+2*%pi/3), endfunction;   //Defining functions\n",
"function v=f1(t), v=20*sin(314*t+5*%pi/6), endfunction;\n",
"I=-1.77+3.065*%i;\n",
"V=-12.24+7.07*%i;\n",
"Z=V/I;\n",
"[r,t]=polar(Z);\n",
"P=V*I*cos(t);\n",
"[ro,theta]=polar(P);\n",
"disp('Ohms',r,'Impedance');\n",
"disp('Watts',ro,'Average Power');"
   ]
   }
,
{
		   "cell_type": "markdown",
		   "metadata": {},
		   "source": [
			"## Example 2.45: To_find_values_of_R_and_C.sce"
		   ]
		  },
  {
"cell_type": "code",
	   "execution_count": null,
	   "metadata": {
	    "collapsed": true
	   },
	   "outputs": [],
"source": [
"clc\n",
"f=50;\n",
"I=5;\n",
"V=250;\n",
"I1=5.8\n",
"Z=V/I;\n",
"A=[1 (1/(2*%pi*50))^2; 1 (1/(2*%pi*60))^2]\n",
"B=[50^2; 43.1^2];\n",
"res=inv(A)*B;\n",
"r=res(1,1);\n",
"P=I1^2*sqrt(r);\n",
"disp('Watts',P,'Power absorbed');"
   ]
   }
,
{
		   "cell_type": "markdown",
		   "metadata": {},
		   "source": [
			"## Example 2.46: To_find_value_of_L_and_C.sce"
		   ]
		  },
  {
"cell_type": "code",
	   "execution_count": null,
	   "metadata": {
	    "collapsed": true
	   },
	   "outputs": [],
"source": [
"clc\n",
"function vl=f(t), vl=300*sin(1000*t), endfunction;    //Defining functions\n",
"R=20;          //Assigning values to parameters\n",
"w=1000;\n",
"Z=R/cos(%pi/4);\n",
"Xc=sqrt(Z*Z-R*R);\n",
"Xl=2*Xc;\n",
"L=Xl/w;\n",
"C=1/(w*Xc);\n",
"disp('Henry',L,'Inductance Value');\n",
"disp('Farad',C,'Capacitance Value');"
   ]
   }
,
{
		   "cell_type": "markdown",
		   "metadata": {},
		   "source": [
			"## Example 2.47: To_find_value_of_supply_voltage.sce"
		   ]
		  },
  {
"cell_type": "code",
	   "execution_count": null,
	   "metadata": {
	    "collapsed": true
	   },
	   "outputs": [],
"source": [
"clc\n",
"Vr=10;         //Assigning values to parameters\n",
"Vl=15;\n",
"Vc=10;\n",
"V=sqrt(Vr^2+(Vl-Vc)^2);\n",
"V=10+%i*0+0+%i*15+0-%i*10;\n",
"[r,t]=polar(V);\n",
"disp('Volts',r,'Voltage');"
   ]
   }
,
{
		   "cell_type": "markdown",
		   "metadata": {},
		   "source": [
			"## Example 2.48: To_find_R_and_C.sce"
		   ]
		  },
  {
"cell_type": "code",
	   "execution_count": null,
	   "metadata": {
	    "collapsed": true
	   },
	   "outputs": [],
"source": [
"clc;\n",
"L=0.01;         //Assigning value sto parameters\n",
"fr=50;\n",
"function v=f(t), y=400*sin(3000*t-10),endfunction;   //Defining functions\n",
"function i=f1(t),i=10*sqrt(2)*cos(3000*t-55), endfunction;\n",
"V=278.54-%i*49.11;\n",
"I=8.191+5.7*%i;\n",
"Z=V/I;\n",
"R=real(Z);\n",
"Xl=3000*L;\n",
"Xc=50;\n",
"C=1/(2*%pi*fr*Xc);\n",
"disp('Ohms',R,'resistance R');\n",
"disp('Farad',C,'Capacitance C');"
   ]
   }
,
{
		   "cell_type": "markdown",
		   "metadata": {},
		   "source": [
			"## Example 2.49: To_find_coil_resistance_and_supply_voltage.sce"
		   ]
		  },
  {
"cell_type": "code",
	   "execution_count": null,
	   "metadata": {
	    "collapsed": true
	   },
	   "outputs": [],
"source": [
"clc\n",
"Vr=25;              //Assigning values to parameters\n",
"Vcoil=40;\n",
"Vc=55;\n",
"Vrcoil=50;\n",
"I=0.345;\n",
"C=20*10^-6;\n",
"Xc=Vc/I;\n",
"f=1/(2*%pi*C*Xc);\n",
"R=Vr/I;\n",
"Zcoil=Vcoil/I;\n",
"Zrcoil=Vrcoil/I;\n",
"r=(Zrcoil^2-(R^2+Zcoil^2))/(2*R);\n",
"Xl=sqrt(Zcoil^2-r^2);\n",
"Z=sqrt((R+r)^2+(Xc-Xl)^2);\n",
"V=I*Z;\n",
"disp('Volts',V,'Voltage');"
   ]
   }
,
{
		   "cell_type": "markdown",
		   "metadata": {},
		   "source": [
			"## Example 2.4: To_find_average_value_of_a_waveform.sce"
		   ]
		  },
  {
"cell_type": "code",
	   "execution_count": null,
	   "metadata": {
	    "collapsed": true
	   },
	   "outputs": [],
"source": [
"function y=f(t),y=20*sin(t),endfunction    //defining the voltage function\n",
"T=2*%pi;\n",
"Res=intg(0,%pi,f)/(T);\n",
"disp('Volts',Res,'Average voltage value');"
   ]
   }
,
{
		   "cell_type": "markdown",
		   "metadata": {},
		   "source": [
			"## Example 2.50: To_compute_various_parameters.sce"
		   ]
		  },
  {
"cell_type": "code",
	   "execution_count": null,
	   "metadata": {
	    "collapsed": true
	   },
	   "outputs": [],
"source": [
"clc\n",
"R=10;               //Assigning values to parameters\n",
"L=0.014;\n",
"C=100*10^-6;\n",
"wr=1/sqrt(L*C);\n",
"Q=(1/R)*(sqrt(L/C));\n",
"BW=R/L;\n",
"w1=wr-BW/2;\n",
"w2=wr+BW/2;\n",
"Vm=1;\n",
"V=1/sqrt(2);\n",
"Vc=(V/R)*sqrt(L/C);\n",
"disp('rad/sec',wr,'Resonant frequency');\n",
"disp(Q,'Quality factor');\n",
"disp('rad/sec',BW,'Bandwidth');\n",
"disp('rad/sec',w1,'Lower frequency');\n",
"disp('rad/sec',w2,'Upper frequency');\n",
"disp('Volts',Vc,'Maximum value of voltage across capacitor');"
   ]
   }
,
{
		   "cell_type": "markdown",
		   "metadata": {},
		   "source": [
			"## Example 2.51: To_find_parameters.sce"
		   ]
		  },
  {
"cell_type": "code",
	   "execution_count": null,
	   "metadata": {
	    "collapsed": true
	   },
	   "outputs": [],
"source": [
"clc\n",
"V=10/sqrt(2);         //Assigning values to parameters\n",
"Vc=500;\n",
"BW=400/(2*%pi);\n",
"R=100;\n",
"Q=Vc/V;\n",
"fr=BW*Q;\n",
"f1=fr-BW/2;\n",
"f2=fr+BW/2;\n",
"L=R/(2*%pi*BW);\n",
"fr=1/(2*%pi*sqrt(L*C));\n",
"C=1/(fr*fr*4*%pi*%pi*L);\n",
"disp('Hertz',fr,'Resonant frequency');\n",
"disp('Hertz',f1,'Lower frequency');\n",
"disp('Hertz',f2,'Upper frequency');\n",
"disp('Henry',L,'Inductor value');\n",
"disp('Farads',C,'Capacitor value');"
   ]
   }
,
{
		   "cell_type": "markdown",
		   "metadata": {},
		   "source": [
			"## Example 2.52: To_find_resistanca_and_inductance_of_a_coil_and_also_the_Q_factor_of_the_circuit.sce"
		   ]
		  },
  {
"cell_type": "code",
	   "execution_count": null,
	   "metadata": {
	    "collapsed": true
	   },
	   "outputs": [],
"source": [
"clc\n",
"f=1*10^6;              //Assigning values to parameters\n",
"C1=500*10^-12;\n",
"C2=600810^-12;\n",
"Xl=1/(2*%pi*f*C1);\n",
"L=Xl/(2*%pi*f);\n",
"R=30.623;\n",
"Q=(1/R)*sqrt(L/C1);\n",
"disp('Ohms',R,'Resistance');\n",
"disp('Henry',L,'Inductance');\n",
"disp(Q,'Quality Factor');"
   ]
   }
,
{
		   "cell_type": "markdown",
		   "metadata": {},
		   "source": [
			"## Example 2.53: To_find_current_and_voltage_across_capacitor.sce"
		   ]
		  },
  {
"cell_type": "code",
	   "execution_count": null,
	   "metadata": {
	    "collapsed": true
	   },
	   "outputs": [],
"source": [
"clc\n",
"r=2;                  //Assigning values to parameters\n",
"L=0.01\n",
"V=230;\n",
"f=50;\n",
"C=1/(f*f*4*%pi*%pi*L);\n",
"Ir=V/r;\n",
"Vc=(V/r)*sqrt(L/C);\n",
"disp('Amperes',Ir,'Current across capacitor');\n",
"disp('Volts',Vc,'Voltage across the capacitor');"
   ]
   }
,
{
		   "cell_type": "markdown",
		   "metadata": {},
		   "source": [
			"## Example 2.54: To_find_resonant_frequency_and_voltage_at_resonance.sce"
		   ]
		  },
  {
"cell_type": "code",
	   "execution_count": null,
	   "metadata": {
	    "collapsed": true
	   },
	   "outputs": [],
"source": [
"clc\n",
"L=0.1;                   //Assigning values to parameters\n",
"R=10;\n",
"V=230;\n",
"f=50;\n",
"C=200*10^-6;\n",
"Xl=2*%pi*f*L;\n",
"Xc=1/(2*%pi*f*C);\n",
"Z=sqrt(R*R+(Xl-Xc)*(Xl-Xc));\n",
"I=V/Z;\n",
"Zcoil=sqrt(R*R+Xl*Xl);\n",
"Vcoil=I*Zcoil;\n",
"Vc=I*Xc;\n",
"disp('Amperes',I,'Circuit Current');\n",
"disp('Ohms',Zcoil,'Coil impedance');\n",
"disp('Volts',Vcoil,'Coil voltage');\n",
"disp('Volts',Vc,'Capacitor Voltage');\n",
"fr=1/(2*%pi*sqrt(L*C));\n",
"Ir=V/R;\n",
"Xl=2*%pi*fr*L;\n",
"Xc=Xl;\n",
"Zcoil=sqrt(R*R+Xl*Xl);\n",
"Vcoil=Ir*Zcoil;\n",
"Vc=Ir*Xc;\n",
"disp('Amperes',Ir,'Circuit Current at resonance');\n",
"disp('Ohms',Zcoil,'Coil impedance at resonance');\n",
"disp('Volts',Vcoil,'Coil voltage at resonance');\n",
"disp('Volts',Vc,'Capacitor Voltage at resonance');"
   ]
   }
,
{
		   "cell_type": "markdown",
		   "metadata": {},
		   "source": [
			"## Example 2.55: to_determine_R_L_C.sce"
		   ]
		  },
  {
"cell_type": "code",
	   "execution_count": null,
	   "metadata": {
	    "collapsed": true
	   },
	   "outputs": [],
"source": [
"clc\n",
"Vr=200;           //Assiging values to parameters\n",
"P=15.3;\n",
"fr=10000;\n",
"BW=1000;\n",
"R=Vr^2/P;\n",
"Q=fr/BW;\n",
"L=Q*R/(2*%pi*fr);\n",
"C=1/(4*%pi*%pi*fr*fr*L);\n",
"disp('Ohms',R,'resistance');\n",
"disp('henry',L,'inductor');\n",
"disp('Farads',C,'Capacitor');"
   ]
   }
,
{
		   "cell_type": "markdown",
		   "metadata": {},
		   "source": [
			"## Example 2.56: To_find_line_current_and_power_factor_and_power_consumed.sce"
		   ]
		  },
  {
"cell_type": "code",
	   "execution_count": null,
	   "metadata": {
	    "collapsed": true
	   },
	   "outputs": [],
"source": [
"clc\n",
"R=20;             //Assigning values to parameters\n",
"L=31.8*10^-3;\n",
"V=230;\n",
"f=50;\n",
"I1=V/R;\n",
"Xl=2*%pi*f*L;\n",
"I2=V/Xl;\n",
"I=sqrt(I1*I1+I2*I2);\n",
"pf=I1/I;\n",
"P=V*I*pf;\n",
"disp('Amperes',I,'Line current');\n",
"disp(pf,'Power factor');\n",
"disp('Watts',P,'Power consumed');"
   ]
   }
,
{
		   "cell_type": "markdown",
		   "metadata": {},
		   "source": [
			"## Example 2.57: To_determine_parameters.sce"
		   ]
		  },
  {
"cell_type": "code",
	   "execution_count": null,
	   "metadata": {
	    "collapsed": true
	   },
	   "outputs": [],
"source": [
"clc\n",
"V=230+%i*0;            //Assigning values to parameters\n",
"L=10*10^-3;\n",
"f=50;\n",
"R=10;\n",
"Xl=2*%pi*f*L;\n",
"Xc=1/(2*%pi*f*C);\n",
"Z1=10+%i*3.14;\n",
"Z2=10-%i*6.37;\n",
"Z=(Z1*Z2)/(Z1+Z2);\n",
"I=V/Z;\n",
"I1=V/Z1;\n",
"I2=V/Z2;\n",
"[r,t]=polar(Z1);\n",
"[ro,th]=polar(Z2);\n",
"[rot,tt]=polar(Z);\n",
"pf1=cos(t);\n",
"pf2=cos(th);\n",
"pft=cos(tt);\n",
"P1=I1*I1*R;\n",
"P2=I2*I2*R;\n",
"disp('Ohms',polar(Z),'Total Impedance');\n",
"disp('Amperes',polar(I1),'Branch current I1');\n",
"disp('Amperes',polar(I2),'Branch current I2');\n",
"disp(polar(pf1),'Power factor of branch 1');\n",
"disp(polar(pf2),'Power factor of branch 2');\n",
"disp(polar(pft),'Total Power factor');\n",
"disp('Watts',polar(P1),'Power consumed by branch 1');\n",
"disp('Watts',polar(P2),'Power consumed by branch 2');"
   ]
   }
,
{
		   "cell_type": "markdown",
		   "metadata": {},
		   "source": [
			"## Example 2.58: To_determine_branch_currents_and_total_current.sce"
		   ]
		  },
  {
"cell_type": "code",
	   "execution_count": null,
	   "metadata": {
	    "collapsed": true
	   },
	   "outputs": [],
"source": [
"clc\n",
"Vm=100;         //Assigning values to parameters\n",
"w=3;\n",
"function v=f(t), v=Vm*sin(w*t), endfunction   //Defining voltage equation\n",
"V=Vm/sqrt(2)+0*%i;\n",
"L=1/3;\n",
"Xl=w*L;\n",
"C=1/6;\n",
"Xc=1/(w*C);\n",
"Z1=1+%i*1;\n",
"Z2=1-%i*2;\n",
"I1=V/Z1;\n",
"I2=V/Z2;\n",
"I=I1+I2;\n",
"disp('Amperes',polar(I1),'Branch current I1');\n",
"disp('Amperes',polar(I2),'Branch current I2');\n",
"disp('Amperes',polar(I),'Total current');"
   ]
   }
,
{
		   "cell_type": "markdown",
		   "metadata": {},
		   "source": [
			"## Example 2.59: To_determine_power_taken_by_each_branch.sce"
		   ]
		  },
  {
"cell_type": "code",
	   "execution_count": null,
	   "metadata": {
	    "collapsed": true
	   },
	   "outputs": [],
"source": [
"clc\n",
"Z1=10+%i*15;         //Assigning values to parameters\n",
"Z2=6-%i*8;\n",
"I=15;\n",
"Z=(Z1*Z2)/(Z1+Z2);\n",
"V=I*Z;\n",
"I1=V/Z1;\n",
"I2=V/Z2;\n",
"P1=I1^2*real(Z1);\n",
"P2=I2^2*real(Z2);\n",
"disp('Watts',polar(P1),'Power taken by branch 1');\n",
"disp('Watts',polar(P2),'Power taken by branch 2');"
   ]
   }
,
{
		   "cell_type": "markdown",
		   "metadata": {},
		   "source": [
			"## Example 2.5: To_find_average_value_of_a_waveform.sce"
		   ]
		  },
  {
"cell_type": "code",
	   "execution_count": null,
	   "metadata": {
	    "collapsed": true
	   },
	   "outputs": [],
"source": [
"function y=f(t),y=10*t,endfunction          //Defining the current function\n",
"T=4;\n",
"Res=intg(0,2,f)/(T);\n",
"disp('Amperes',Res,'Average current value');"
   ]
   }
,
{
		   "cell_type": "markdown",
		   "metadata": {},
		   "source": [
			"## Example 2.60: To_determine_various_parameters.sce"
		   ]
		  },
  {
"cell_type": "code",
	   "execution_count": null,
	   "metadata": {
	    "collapsed": true
	   },
	   "outputs": [],
"source": [
"clc\n",
"V=200;       //Assigning values to parameters\n",
"f=50;\n",
"Ra=10;\n",
"La=0.12;\n",
"Rb=20;\n",
"Cb=40*10^-6;\n",
"Xla=2*%pi*f*La;\n",
"Xcb=1/(2*%pi*f*Cb);\n",
"Za=Ra+%i*Xla;\n",
"Zb=Rb-%i*Xcb;\n",
"Zeq=(Za*Zb)/(Za+Zb);\n",
"[r,t]=polar(Zeq);\n",
"Ia=V/Za;\n",
"Ib=V/Zb;\n",
"pf=cos(t);\n",
"disp('Amperes',polar(Ia),'Branch current 1');\n",
"disp('Amperes',polar(Ib),'Branch current 2');\n",
"disp(real(pf),'power factor');"
   ]
   }
,
{
		   "cell_type": "markdown",
		   "metadata": {},
		   "source": [
			"## Example 2.61: To_find_the_supply_current.sce"
		   ]
		  },
  {
"cell_type": "code",
	   "execution_count": null,
	   "metadata": {
	    "collapsed": true
	   },
	   "outputs": [],
"source": [
"clc\n",
"Z1=14.14-%i*14.14;            //Assigning values to parameters\n",
"Z2=26+%i*15;\n",
"I=10;\n",
"Zeq=Z1+Z2;\n",
"V=I*Zeq;\n",
"Zeq=(Z1*Z2)/(Z1+Z2);\n",
"I=V/Zeq;\n",
"disp('Amperes',polar(I),'Supply current');"
   ]
   }
,
{
		   "cell_type": "markdown",
		   "metadata": {},
		   "source": [
			"## Example 2.62: To_find_I1_and_I2.sce"
		   ]
		  },
  {
"cell_type": "code",
	   "execution_count": null,
	   "metadata": {
	    "collapsed": true
	   },
	   "outputs": [],
"source": [
"clc\n",
"I=25*%i;           //Assigning values to parameters\n",
"Z1=3-%i*4;\n",
"Z2=10;\n",
"I1=I*Z2/(Z1+Z2);\n",
"I2=I-I1;\n",
"disp('Amperes',polar(I1),'Current I1');\n",
"disp('Amperes',polar(I2),'Current I2');"
   ]
   }
,
{
		   "cell_type": "markdown",
		   "metadata": {},
		   "source": [
			"## Example 2.63: To_determine_kW_kVAR_kVA_and_power_factor.sce"
		   ]
		  },
  {
"cell_type": "code",
	   "execution_count": null,
	   "metadata": {
	    "collapsed": true
	   },
	   "outputs": [],
"source": [
"clc\n",
"V=120+%i*160;       //Assigning values to parameters\n",
"Z1=12+%i*16;\n",
"Z2=10-%i*20;\n",
"I1=V/Z1;\n",
"I2=V/Z2;\n",
"[r,t]=polar(Z1);\n",
"kW1=(V*I1*cos(t))/1000;\n",
"kVAR1=(V*I1*sin(t))/1000;\n",
"kVA1=(V*I1)/1000;\n",
"[ro,th]=polar(Z2);\n",
"kW2=(V*I2*cos(th))/1000;\n",
"kVAR2=(V*I2*sin(th))/1000;\n",
"kVA2=(V*I2)/1000;\n",
"Zeq=(Z1*Z2)/(Z1+Z2);\n",
"[R,T]=polar(Zeq);\n",
"pf=cos(T);\n",
"disp(polar(kW1),'kW1');\n",
"disp(polar(kVAR1),'kVAR1');\n",
"disp(polar(kVA1),'kVA1');\n",
"disp(polar(kW2),'kW2');\n",
"disp(polar(kVAR2),'kVAR2');\n",
"disp(polar(kVA2),'kVA2');\n",
"disp(pf,'Power factor');"
   ]
   }
,
{
		   "cell_type": "markdown",
		   "metadata": {},
		   "source": [
			"## Example 2.65: To_determine_parameters.sce"
		   ]
		  },
  {
"cell_type": "code",
	   "execution_count": null,
	   "metadata": {
	    "collapsed": true
	   },
	   "outputs": [],
"source": [
"clc \n",
"R=30;              //Assigning values to parameters\n",
"I=5;\n",
"V=110;\n",
"f=50;\n",
"I1=V/R;\n",
"I2=sqrt(I^2-I1^2);\n",
"Xc=V/I2;\n",
"C=1/(2*%pi*f*Xc);\n",
"disp('Farads',C,'Unknown capacitance when total current drawn is 5 A');\n",
"Inew=4;\n",
"I2new=sqrt(Inew^2-I1^2);\n",
"Xc=V/I2new;\n",
"f=1/(2*%pi*C*Xc);\n",
"disp('hertz',f,'Frequency when total current drawn is 4 A');"
   ]
   }
,
{
		   "cell_type": "markdown",
		   "metadata": {},
		   "source": [
			"## Example 2.66: To_determine_equivalent_impedance.sce"
		   ]
		  },
  {
"cell_type": "code",
	   "execution_count": null,
	   "metadata": {
	    "collapsed": true
	   },
	   "outputs": [],
"source": [
"clc\n",
"L1=0.0191             //Assigning values to parameters\n",
"f=50;\n",
"Xl1=2*%pi*f*L1;\n",
"C=398*10^-6;\n",
"Xc=1/(2*%pi*f*C);\n",
"L3=0.0318\n",
"Xl3=2*%pi*f*L3;\n",
"Z1=2+%i*Xl1;\n",
"Z2=7-%i*Xc;\n",
"Z3=8+%i*Xl3;\n",
"Zeq=((Z1*Z2)/(Z1+Z2))+Z3;\n",
"disp('Ohms',Zeq,polar(Zeq),'Equivalent Impedance');"
   ]
   }
,
{
		   "cell_type": "markdown",
		   "metadata": {},
		   "source": [
			"## Example 2.68: To_determine_branch_currents.sce"
		   ]
		  },
  {
"cell_type": "code",
	   "execution_count": null,
	   "metadata": {
	    "collapsed": true
	   },
	   "outputs": [],
"source": [
"clc\n",
"Za=10+%i*8;                //Assigning values to parameters\n",
"Zb=9-%i*6;\n",
"Zc=3+%i*2;\n",
"V2=100;\n",
"I=V2/Zc;\n",
"Ia=(I*Zb)/(Za+Zb);\n",
"Ib=I-Ia;\n",
"disp('Amperes',Ia,polar(Ia),'Current Ia');\n",
"disp('Amperes',Ib,polar(Ib),'Current Ib');"
   ]
   }
,
{
		   "cell_type": "markdown",
		   "metadata": {},
		   "source": [
			"## Example 2.69: To_determine_various_parameters.sce"
		   ]
		  },
  {
"cell_type": "code",
	   "execution_count": null,
	   "metadata": {
	    "collapsed": true
	   },
	   "outputs": [],
"source": [
"clc\n",
"Im1=20;           //Assigning values to parameters\n",
"Im2=40;\n",
"Im=25;\n",
"function i1=f(wt), i1=Im1*sin(wt), endfunction\n",
"function i2=f(wt), i2=Im2*sin(wt+%pi/6), endfunction\n",
"function i=f(wt), i=Im*sin(wt+%pi/6), endfunction\n",
"Z=6+%i*8;\n",
"I1=Im1/sqrt(2);\n",
"I2=24.49+%i*14.14;\n",
"I=15.31+%i*8.84;\n",
"I3=I-(I1+I2);\n",
"V=I*Z;\n",
"[r,t]=polar(Z);\n",
"P=V*I*cos(t);\n",
"Z1=V/I1;\n",
"disp('Amperes',I3,polar(I3),'Current I3');\n",
"disp('Volts',V,polar(V),'Supply Voltage');\n",
"disp('Watts',P,polar(P),'Active Power');\n",
"disp('Ohms',Z1,polar(Z1),'Impedance Z1');"
   ]
   }
,
{
		   "cell_type": "markdown",
		   "metadata": {},
		   "source": [
			"## Example 2.6: To_find_average_value_of_a_waveform.sce"
		   ]
		  },
  {
"cell_type": "code",
	   "execution_count": null,
	   "metadata": {
	    "collapsed": true
	   },
	   "outputs": [],
"source": [
"function y=f(t),y=6*t,endfunction           //Defining the voltage equation\n",
"T=3;\n",
"Res=intg(0,3,f)/(T);\n",
"disp('Volts',Res,'Average voltage value');"
   ]
   }
,
{
		   "cell_type": "markdown",
		   "metadata": {},
		   "source": [
			"## Example 2.70: To_calculate_admittance.sce"
		   ]
		  },
  {
"cell_type": "code",
	   "execution_count": null,
	   "metadata": {
	    "collapsed": true
	   },
	   "outputs": [],
"source": [
"clc;\n",
"Z=8.66+%i*5;      //Assigning values to parameters\n",
"Y=1/Z;\n",
"G=real(Y);\n",
"B=imag(Y);\n",
"disp('Mho',G,'G');\n",
"disp('Mho',B,'B');"
   ]
   }
,
{
		   "cell_type": "markdown",
		   "metadata": {},
		   "source": [
			"## Example 2.71: To_determine_various_parameters.sce"
		   ]
		  },
  {
"cell_type": "code",
	   "execution_count": null,
	   "metadata": {
	    "collapsed": true
	   },
	   "outputs": [],
"source": [
"clc\n",
"V=230;            //Assigning value to parameters\n",
"f=50;\n",
"Z1=8.66-5*%i;\n",
"Z2=10+17.32*%i;\n",
"Z3=40;\n",
"Y1=1/Z1;\n",
"Y2=1/Z2;\n",
"Y3=1/Z3;\n",
"Y=Y1+Y2+Y3;\n",
"Z=1/Y;\n",
"[r,t]=polar(Z);\n",
"I=V/Z;\n",
"pf=cos(t);\n",
"P=V*I*pf;\n",
"disp('Mho',Y1,polar(Y1),'Y1');\n",
"disp('Mho',Y2,polar(Y2),'Y2');\n",
"disp('Mho',Y3,polar(Y3),'Y3');\n",
"disp('Ohms',Y,polar(Y),'Equivalent Admittance');\n",
"disp('Ohms',Z,polar(Z),'Equivalent Impedance');\n",
"disp('Amperes',I,polar(I),'Total current');\n",
"disp('Watts',P,polar(P),'Power consumed');\n",
"disp(polar(pf),'Power factor');"
   ]
   }
,
{
		   "cell_type": "markdown",
		   "metadata": {},
		   "source": [
			"## Example 2.72: To_calculate_equivalent_impedance_admittance_and_total_current.sce"
		   ]
		  },
  {
"cell_type": "code",
	   "execution_count": null,
	   "metadata": {
	    "collapsed": true
	   },
	   "outputs": [],
"source": [
"clc\n",
"V=200;               //Assigning values to parameters\n",
"Z1=5*%i;\n",
"Z2=5+%i*8.66;\n",
"Z3=15;\n",
"Z4=-10*%i;\n",
"Y1=1/Z1;\n",
"Y2=1/Z2;\n",
"Y3=1/Z3;\n",
"Y4=1/Z4;\n",
"Yeq=Y1+Y2+Y3+Y4;\n",
"Zeq=1/Yeq;\n",
"I=V/Zeq;\n",
"disp('Amperes',I,polar(I),'Total current');"
   ]
   }
,
{
		   "cell_type": "markdown",
		   "metadata": {},
		   "source": [
			"## Example 2.73: To_calculate_admittance.sce"
		   ]
		  },
  {
"cell_type": "code",
	   "execution_count": null,
	   "metadata": {
	    "collapsed": true
	   },
	   "outputs": [],
"source": [
"clc\n",
"Xl=4;             //Assigning values to parameters\n",
"Xc=8;\n",
"Z1=1;\n",
"Z2=4*%i;\n",
"Z3=-%i*8;\n",
"Zeq=Z1+(Z2*Z3)/(Z2+Z3);\n",
"Y=1/Zeq;\n",
"disp('Mho',Y,polar(Y),'Admittance');\n",
"Xl=10;\n",
"Xc=5;\n",
"Z1=1;\n",
"Z2=10*%i;\n",
"Z3=-%i*5;\n",
"Zeq=Z1+(Z2*Z3)/(Z2+Z3);\n",
"Y=1/Zeq;\n",
"disp('Mho',Y,polar(Y),'Admittance');"
   ]
   }
,
{
		   "cell_type": "markdown",
		   "metadata": {},
		   "source": [
			"## Example 2.74: To_determine_various_parameters.sce"
		   ]
		  },
  {
"cell_type": "code",
	   "execution_count": null,
	   "metadata": {
	    "collapsed": true
	   },
	   "outputs": [],
"source": [
"clc\n",
"Z1=14+%i*5;          //Assigning values to parameters\n",
"Z2=18+%i*10;\n",
"V=200;\n",
"Y1=1/Z1;\n",
"Y2=1/Z2;\n",
"Yeq=Y1+Y2;\n",
"Zeq=1/Yeq;\n",
"I1=V/Z1;\n",
"I2=V/Z2;\n",
"I=V/Zeq;\n",
"P1=I1^2*real(Z1);\n",
"P2=I2^2*real(Z2);\n",
"[r,t]=polar(Zeq);\n",
"[r1,t1]=polar(Z1);\n",
"[r2,t2]=polar(Z2);\n",
"pf1=cos(t1);\n",
"pf2=cos(t2);\n",
"pf=cos(t);\n",
"disp('Mho',Y1,polar(Y1),'Y1');\n",
"disp('Mho',Y2,polar(Y2),'Y2');\n",
"disp('Mho',Yeq,polar(Yeq),'Yeq');\n",
"disp('Amperes',I1,polar(I1),'Branch current I1');\n",
"disp('Amperes',I2,polar(I2),'Branch current I2');\n",
"disp('Amperes',I,polar(I),'Total current I');\n",
"disp('Watts',P1,polar(P1),'Power consumed by branch 1');\n",
"disp('Watts',P2,polar(P2),'Power consumed by branch 2');\n",
"disp(polar(pf1),'Power factor of branch 1');\n",
"disp(polar(pf2),'Power factor of branch 2');\n",
"disp(polar(pf),'Total Power factor');"
   ]
   }
,
{
		   "cell_type": "markdown",
		   "metadata": {},
		   "source": [
			"## Example 2.75: To_determine_various_parameters.sce"
		   ]
		  },
  {
"cell_type": "code",
	   "execution_count": null,
	   "metadata": {
	    "collapsed": true
	   },
	   "outputs": [],
"source": [
"clc\n",
"V=230;         //Assigning values to parameters\n",
"f=50;\n",
"L=0.08;\n",
"Xl=2*%pi*f*L;\n",
"C=200*10^-6;\n",
"Xc=1/(2*%pi*f*C);\n",
"Z1=20+%i*25.13;\n",
"Z2=10-%i*15.92;\n",
"Y1=1/Z1;\n",
"Y2=1/Z2;\n",
"Y=Y1+Y2;\n",
"I=V*Y;\n",
"[r,t]=polar(I);\n",
"pf=cos(t);\n",
"Z=1/Y;\n",
"R=real(Z);\n",
"Xc=-1*imag(Z);\n",
"C=1/(2*%pi*f*Xc);\n",
"disp('Amperes',I,polar(I),'Supply Current');\n",
"disp(pf,polar(pf),'Power factor');\n",
"disp('Ohms',Z,polar(Z),'Total impedance');\n",
"disp('Ohms',R,'Resistance of eequivalent series circuit');\n",
"disp('Farads',C,'Capacitance of eequivalent series circuit');"
   ]
   }
,
{
		   "cell_type": "markdown",
		   "metadata": {},
		   "source": [
			"## Example 2.76: To_determine_total_impedance_current_and_power_factor.sce"
		   ]
		  },
  {
"cell_type": "code",
	   "execution_count": null,
	   "metadata": {
	    "collapsed": true
	   },
	   "outputs": [],
"source": [
"clc\n",
"V=200;          //Assigning values to parameters\n",
"Z1=3+4*%i;\n",
"Z2=4-%i*3;\n",
"Z3=4.57+%i*5.51;\n",
"Y1=1/Z1;\n",
"Y2=1/Z2;\n",
"Yab=Y1+Y2;\n",
"Zab=1/Yab;\n",
"Z=Zab+Z3;\n",
"I=V/Z;\n",
"[r,t]=polar(Z);\n",
"pf=cos(t);\n",
"disp('Ohms',Z,polar(Z),'Total Impedance');\n",
"disp('Amperes',I,polar(I),'Supply current');\n",
"disp(pf,polar(pf),'Power factor');"
   ]
   }
,
{
		   "cell_type": "markdown",
		   "metadata": {},
		   "source": [
			"## Example 2.77: To_determine_various_parameters.sce"
		   ]
		  },
  {
"cell_type": "code",
	   "execution_count": null,
	   "metadata": {
	    "collapsed": true
	   },
	   "outputs": [],
"source": [
"clc\n",
"C=2.5*10^-6;         //Assigning values to parameters\n",
"R=15;\n",
"L=260*10^-3;\n",
"temp=(1/(L*C))-(R^2/L^2);\n",
"fr=(1/20*%pi)*sqrt(temp);\n",
"Q=(2*%pi*fr*L)/R;\n",
"Zr=L/(C*R);\n",
"disp('Hertz',fr,'Resonant frequeny');\n",
"disp(Q,'Quality factor');\n",
"disp('Ohms',Zr,'Dynamic Impedance');"
   ]
   }
,
{
		   "cell_type": "markdown",
		   "metadata": {},
		   "source": [
			"## Example 2.78: To_find_supply_voltage_value_and_total_current.sce"
		   ]
		  },
  {
"cell_type": "code",
	   "execution_count": null,
	   "metadata": {
	    "collapsed": true
	   },
	   "outputs": [],
"source": [
"clc\n",
"C=200*10^-6;         //Assigning values to parameters\n",
"V=230;\n",
"R=20;\n",
"L=0.2;\n",
"temp=(1/(L*C))-(R^2/L^2);\n",
"fr=(1/20*%pi)*sqrt(temp);\n",
"Zr=L/(C*R);\n",
"Ir=V/Zr;\n",
"Zl=sqrt(R^2+(2*%pi*fr*L)^2);\n",
"Il=V/Zl;\n",
"Xc=1/(2*%pi*fr*C);\n",
"Ic=V/Xc;\n",
"phi=atan(2*%pi*fr*L/R);\n",
"disp('Hertz',fr,'Resonant frequency');"
   ]
   }
,
{
		   "cell_type": "markdown",
		   "metadata": {},
		   "source": [
			"## Example 2.79: To_determine_value_of_capacitance.sce"
		   ]
		  },
  {
"cell_type": "code",
	   "execution_count": null,
	   "metadata": {
	    "collapsed": true
	   },
	   "outputs": [],
"source": [
"clc\n",
"pfcoil=0.3;           //Assigning values to parameters\n",
"phi=acos(pfcoil);\n",
"V=100;\n",
"f=50;\n",
"Il=1;\n",
"Ic=Il*sin(phi);\n",
"Xc=V/Ic;\n",
"C=1/(2*%pi*f*Xc);\n",
"Ir=Il*cos(phi);\n",
"Zr=V/Ir;\n",
"disp('Farads',polar(C),'Capacitance');\n",
"disp('Ohms',polar(Zr),'Dynamic impedance');"
   ]
   }
,
{
		   "cell_type": "markdown",
		   "metadata": {},
		   "source": [
			"## Example 2.7: To_find_average_value_of_a_waveform.sce"
		   ]
		  },
  {
"cell_type": "code",
	   "execution_count": null,
	   "metadata": {
	    "collapsed": true
	   },
	   "outputs": [],
"source": [
"Vm=1;                //Assuming Vm=1\n",
"function y=f(t),y=Vm*sin(t),endfunction           //Defining voltage Equation\n",
"function y1=f1(t),y1=0.866*Vm*sin(t),endfunction\n",
"T=%pi;\n",
"Res=((intg(0,%pi/3,f))+(intg(%pi/3,%pi/2,f1))+(intg(%pi/2,%pi,f)))/T;\n",
"disp('Volts',Res,'Average voltage value');"
   ]
   }
,
{
		   "cell_type": "markdown",
		   "metadata": {},
		   "source": [
			"## Example 2.80: To_determine_various_parameters.sce"
		   ]
		  },
  {
"cell_type": "code",
	   "execution_count": null,
	   "metadata": {
	    "collapsed": true
	   },
	   "outputs": [],
"source": [
"clc\n",
"V=200;       //Assigning values to parameters\n",
"f=50;\n",
"L=20;\n",
"R=15;\n",
"Zl=sqrt(R^2+L^2);\n",
"pfcoil=R/Zl;\n",
"phi=acosd(pfcoil);\n",
"Il=V/Zl;\n",
"Ic=Il*sind(phi);\n",
"Xc=V/Ic;\n",
"C=1/(2*%pi*f*Xc);\n",
"Ir=Il*cosd(phi);\n",
"disp(polar(pfcoil),'Power factor');\n",
"disp('Amperes',polar(Il),'Current');\n",
"disp('Farads',C,'Value f shunting capacitance');\n",
"disp('Amperes',polar(Ir),'Circuit current at resonance');"
   ]
   }
,
{
		   "cell_type": "markdown",
		   "metadata": {},
		   "source": [
			"## Example 2.8: To_find_average_value_of_a_waveform.sce"
		   ]
		  },
  {
"cell_type": "code",
	   "execution_count": null,
	   "metadata": {
	    "collapsed": true
	   },
	   "outputs": [],
"source": [
"Vm=1;           Assuming Vm=1;\n",
"function y=f(t),y=Vm*sin(t),endfunction        //Defining voltage equation\n",
"T=%pi;\n",
"Res=intg(%pi/6,%pi,f)/(T);\n",
"disp('Volts',Res,'Average voltage value');"
   ]
   }
],
"metadata": {
		  "kernelspec": {
		   "display_name": "Scilab",
		   "language": "scilab",
		   "name": "scilab"
		  },
		  "language_info": {
		   "file_extension": ".sce",
		   "help_links": [
			{
			 "text": "MetaKernel Magics",
			 "url": "https://github.com/calysto/metakernel/blob/master/metakernel/magics/README.md"
			}
		   ],
		   "mimetype": "text/x-octave",
		   "name": "scilab",
		   "version": "0.7.1"
		  }
		 },
		 "nbformat": 4,
		 "nbformat_minor": 0
}
