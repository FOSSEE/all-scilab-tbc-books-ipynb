{
"cells": [
 {
		   "cell_type": "markdown",
	   "metadata": {},
	   "source": [
       "# Chapter 1: DC Circuits"
	   ]
	},
{
		   "cell_type": "markdown",
		   "metadata": {},
		   "source": [
			"## Example 1.10: To_find_voltage_divided_among_four_resistances_in_series.sce"
		   ]
		  },
  {
"cell_type": "code",
	   "execution_count": null,
	   "metadata": {
	    "collapsed": true
	   },
	   "outputs": [],
"source": [
"V=100;         // Assigning values to the parameters\n",
"R1=5;\n",
"R2=10;\n",
"R3=15;\n",
"R4=20;\n",
"Req=R1+R2+R3+R4;  //Equivalent resistance\n",
"V1=R1*V/Req;\n",
"V2=R2*V/Req;\n",
"V3=R3*V/Req;\n",
"V4=R4*V/Req;\n",
"disp('Ohms',Req,'Equivalent resistance');\n",
"disp('Volts',V1,'Voltage across 5 Ohms resistor');\n",
"disp('Volts',V2,'Voltage across 10 Ohms resistor');\n",
"disp('Volts',V3,'Voltage across 15 Ohms resistor');\n",
"disp('Volts',V4,'Voltage across 20 Ohms resistor');"
   ]
   }
,
{
		   "cell_type": "markdown",
		   "metadata": {},
		   "source": [
			"## Example 1.11: To_determine_the_current_divided_among_three_resistors_in_parallel.sce"
		   ]
		  },
  {
"cell_type": "code",
	   "execution_count": null,
	   "metadata": {
	    "collapsed": true
	   },
	   "outputs": [],
"source": [
"Itot=12;             //Assigning values to parameters\n",
"R1=4;\n",
"R2=12;\n",
"R3=6;\n",
"Req=1/((1/R1)+(1/R2)+(1/R3));        //Equivalent resistance\n",
"V=Itot*Req;\n",
"I1=V/R1;\n",
"I2=V/R2;\n",
"I3=V/R3;\n",
"disp('Volts',V,'Potential Difference across the parallel circuit');\n",
"disp('Amperes',I1,'Current through 4 Ohm resistor')\n",
"disp('Amperes',I2,'Current through 12 Ohm resistor')\n",
"disp('Amperes',I3,'Current through 6 Ohm resistor')"
   ]
   }
,
{
		   "cell_type": "markdown",
		   "metadata": {},
		   "source": [
			"## Example 1.12: EX1_12.sce"
		   ]
		  },
  {
"cell_type": "code",
	   "execution_count": null,
	   "metadata": {
	    "collapsed": true
	   },
	   "outputs": [],
"source": [
"I=5;             //Assigning values to the parameters\n",
"I1=2;\n",
"R2=6;\n",
"I2=I-I1;\n",
"V=R2*I2;\n",
"R1=V/I1;\n",
"P=I1*I1*R1+I2*I2*R2;\n",
"disp('Ohms',R1,'Value of R1')\n",
"disp('Watts',P,'Power absorbed by the circuit')"
   ]
   }
,
{
		   "cell_type": "markdown",
		   "metadata": {},
		   "source": [
			"## Example 1.13: To_calculate_the_effective_resistance_of_a_circuit.sce"
		   ]
		  },
  {
"cell_type": "code",
	   "execution_count": null,
	   "metadata": {
	    "collapsed": true
	   },
	   "outputs": [],
"source": [
"R1=8;                        // Assigning values to resistors\n",
"R2=6;\n",
"R3=3;\n",
"R4=18;\n",
"R5=5;\n",
"R=1/((1/R2)+(1/R3));        //simplifying the network\n",
"Rs1=R+R4;\n",
"Rs2=1/((1/Rs1)+(1/R5));\n",
"Rs3=R1+Rs2;\n",
"V=60;\n",
"I=V/Rs3;                   // Current through the simplified network\n",
"disp('Amperes',I,'Current through 8 Ohm resistor');"
   ]
   }
,
{
		   "cell_type": "markdown",
		   "metadata": {},
		   "source": [
			"## Example 1.14: To_find_the_reading_of_an_Ammeter_in_the_circuit.sce"
		   ]
		  },
  {
"cell_type": "code",
	   "execution_count": null,
	   "metadata": {
	    "collapsed": true
	   },
	   "outputs": [],
"source": [
"R1=1;                     // Assigning values to resistors\n",
"R2=2;\n",
"R3=1;\n",
"R4=1;\n",
"R=R3+R4;                 // Simplifying the network\n",
"Req=1+(1/((1/R2)+(1/R)));\n",
"V=100;\n",
"I=V/Req;\n",
"I2=I*(R/(R+R2));\n",
"disp('Amperes',I2,'Ammeter reading')"
   ]
   }
,
{
		   "cell_type": "markdown",
		   "metadata": {},
		   "source": [
			"## Example 1.15: To_calculate_effective_resistance.sce"
		   ]
		  },
  {
"cell_type": "code",
	   "execution_count": null,
	   "metadata": {
	    "collapsed": true
	   },
	   "outputs": [],
"source": [
"R1=1;               // Assigning values to the parameters\n",
"R2=5;\n",
"R3=4;\n",
"R4=8;\n",
"R5=6;\n",
"R6=2;\n",
"R=R1+R2;           //series connection\n",
"Ra=R5+R6;\n",
"Rb=1/((1/R4)+(1/Ra)) ;\n",
"Rc=R3+Rb;\n",
"Req=1/((1/R)+(1/Rc));\n",
"disp('Ohms',Req,'Effective resistance');"
   ]
   }
,
{
		   "cell_type": "markdown",
		   "metadata": {},
		   "source": [
			"## Example 1.16: To_calculate_battery_current_and_effective_resistance_of_the_network.sce"
		   ]
		  },
  {
"cell_type": "code",
	   "execution_count": null,
	   "metadata": {
	    "collapsed": true
	   },
	   "outputs": [],
"source": [
"V=24;                        //Assigning values to parameters\n",
"R1=4;\n",
"R2=8;\n",
"R3=6;\n",
"R4=12;\n",
"Ra=1/((1/R1)+(1/R4));       // Simplifying the network\n",
"Rb=1/((1/R2)+(1/R3));\n",
"Rc=1/((1/Ra)+(1/Rb));\n",
"I=V/Rc;\n",
"disp('Amperes',I,'Battery current')"
   ]
   }
,
{
		   "cell_type": "markdown",
		   "metadata": {},
		   "source": [
			"## Example 1.17: To_calculate_battery_current.sce"
		   ]
		  },
  {
"cell_type": "code",
	   "execution_count": null,
	   "metadata": {
	    "collapsed": true
	   },
	   "outputs": [],
"source": [
"R1=15;                      //Assigning values to parameters\n",
"R2=6;\n",
"R3=30;\n",
"R4=3;\n",
"R5=4;\n",
"V=10;\n",
"Ra=R1+R2;                  // Simplifying the circuit\n",
"Rb=R3+R4;\n",
"Rc=1/((1/Ra)+(1/Rb));\n",
"Req=Rc+R5;\n",
"I=V/Req;\n",
"disp('Amperes',I,'Battery current')"
   ]
   }
,
{
		   "cell_type": "markdown",
		   "metadata": {},
		   "source": [
			"## Example 1.18: To_calculate_effective_resistance.sce"
		   ]
		  },
  {
"cell_type": "code",
	   "execution_count": null,
	   "metadata": {
	    "collapsed": true
	   },
	   "outputs": [],
"source": [
"R1=15;                          //Assigning parameters\n",
"R2=6;\n",
"R3=4;\n",
"R4=30;\n",
"R5=3;\n",
"Ra=1/((1/R2)+(1/R5));          // Simplifying the circuit\n",
"Rb=R3+Ra;\n",
"Rc=1/((1/R1)+(1/R4));\n",
"Req=Rb+Rc;\n",
"disp('Ohms',Req,'Effective resistance')"
   ]
   }
,
{
		   "cell_type": "markdown",
		   "metadata": {},
		   "source": [
			"## Example 1.19: To_calculate_battery_current.sce"
		   ]
		  },
  {
"cell_type": "code",
	   "execution_count": null,
	   "metadata": {
	    "collapsed": true
	   },
	   "outputs": [],
"source": [
"V=30;                       //Assignign values to parameters\n",
"Rcf=2;\n",
"Ref=2;\n",
"Rec=2.4;\n",
"Rbc=2;\n",
"Rac=4;\n",
"Rae=2;\n",
"Rab=2;\n",
"Rad=2;\n",
"Red=1;\n",
"Rc=Rab+Rbc;               // Simplifying the network\n",
"Re=Rcf+Ref;\n",
"Ra=1/((1/Rac)+(1/Rc));\n",
"Re1=1/((1/Re)+(1/Rec));\n",
"Ra1=Ra+Re1;\n",
"Re2=1/((1/Rae)+(1/Ra1));\n",
"Rd=Red+Re2;\n",
"Req=1/((1/Rd)+(1/Rad));\n",
"I=V/Req;                   // Calculation of battery current\n",
"disp('Ohms',Req,'Effective resistance')\n",
"disp('Amperes',I,'Battery current')"
   ]
   }
,
{
		   "cell_type": "markdown",
		   "metadata": {},
		   "source": [
			"## Example 1.1: Resistance_of_Copper_coil_at_0_deg_C.sce"
		   ]
		  },
  {
"cell_type": "code",
	   "execution_count": null,
	   "metadata": {
	    "collapsed": true
	   },
	   "outputs": [],
"source": [
"alpha0=0.0043;              //Assigning values to the parameters\n",
"t=50;\n",
"R0=40;\n",
"R50=R0*(1+0.0043*50);       // Calculating the risistance at 50 deg C\n",
"disp(R50,'Resistance at 50 deg C');"
   ]
   }
,
{
		   "cell_type": "markdown",
		   "metadata": {},
		   "source": [
			"## Example 1.20: To_calculate_effective_resistance.sce"
		   ]
		  },
  {
"cell_type": "code",
	   "execution_count": null,
	   "metadata": {
	    "collapsed": true
	   },
	   "outputs": [],
"source": [
"R1=4;                       //Assigning values to parameters\n",
"R2=6;\n",
"R3=8;\n",
"R4=2;\n",
"Ra=1/((1/R1)+(1/R2));      // Simplifying the network\n",
"Rb=1/((1/R3)+(1/R4));\n",
"Req=Ra+Rb;\n",
"disp('Ohms',Req,'Effective resistance')"
   ]
   }
,
{
		   "cell_type": "markdown",
		   "metadata": {},
		   "source": [
			"## Example 1.21: To_calculate_effective_resistance.sce"
		   ]
		  },
  {
"cell_type": "code",
	   "execution_count": null,
	   "metadata": {
	    "collapsed": true
	   },
	   "outputs": [],
"source": [
"R1=5;                       //Assigning values to resistors\n",
"R2=15;\n",
"R3=10;\n",
"R4=10;\n",
"R5=40;\n",
"R6=30;\n",
"R7=20;\n",
"R8=8;\n",
"Rc=R2+R3;                  //Simplifying the network\n",
"Re=R4+R5;\n",
"Rf=R6+R7;\n",
"R=1/((1/Re)+(1/Rf));\n",
"Rd=1/((1/R)+(1/Rc));\n",
"Req=Rd+R1+R8;\n",
"disp('Ohms',Req,'Effective resistance');"
   ]
   }
,
{
		   "cell_type": "markdown",
		   "metadata": {},
		   "source": [
			"## Example 1.22: To_find_the_value_of_resistance.sce"
		   ]
		  },
  {
"cell_type": "code",
	   "execution_count": null,
	   "metadata": {
	    "collapsed": true
	   },
	   "outputs": [],
"source": [
"V=20;                   //Assigning values to different parameters\n",
"I=1.5;\n",
"R1=10;\n",
"R2=15;\n",
"R3=15;\n",
"V10=R1*I;\n",
"Vab=V-V10;\n",
"I1=Vab/R2;\n",
"I2=Vab/R3;\n",
"I3=I-I1-I2;\n",
"R=Vab/I3;\n",
"disp('Ohms',R,'Value of unknown resistance');"
   ]
   }
,
{
		   "cell_type": "markdown",
		   "metadata": {},
		   "source": [
			"## Example 1.23: To_find_the_value_of_resistance.sce"
		   ]
		  },
  {
"cell_type": "code",
	   "execution_count": null,
	   "metadata": {
	    "collapsed": true
	   },
	   "outputs": [],
"source": [
"P=36;                      //Assigning values to different parameters\n",
"V=60;\n",
"R1=12;\n",
"R2=18;\n",
"R3=36;\n",
"I1=sqrt(P/R1);\n",
"V12=I1*R1;\n",
"Vr=V-V12;\n",
"I2=V12/R2;\n",
"I3=V12/R3;\n",
"I=I1+I2+I3;\n",
"R=Vr/I;\n",
"disp('Ohms',R,'Value of unknown resistance');"
   ]
   }
,
{
		   "cell_type": "markdown",
		   "metadata": {},
		   "source": [
			"## Example 1.24: To_find_current_and_voltages.sce"
		   ]
		  },
  {
"cell_type": "code",
	   "execution_count": null,
	   "metadata": {
	    "collapsed": true
	   },
	   "outputs": [],
"source": [
"R1=4;                    //Assigning values to parameters\n",
"R2=9;\n",
"R3=18;\n",
"R4=2;\n",
"R5=7;\n",
"R6=15;\n",
"V=125;\n",
"R7=(R2*R3)/(R2+R3);\n",
"Ra=R7+R1;\n",
"Rb=R5+R4;\n",
"R=(1/((1/Ra)+(1/Rb)))+R6;\n",
"I=V/R;\n",
"I1=(Rb/(Ra+Rb))*I;\n",
"IR3=I1*Rb/(Rb+R3);\n",
"VR3=IR3*R3;\n",
"I2=I-I1;\n",
"P4=I2*I2*R5;\n",
"disp('Amperes',I,'Current in 15 Ohm resistor');\n",
"disp('Amperes',IR3,'Current in 18 Ohm resistor')\n",
"disp('Volts',VR3,'Voltage across 18 Ohm resistor');\n",
"disp('Watts',P4,'Power dissipated in 7 Ohm resistor');"
   ]
   }
,
{
		   "cell_type": "markdown",
		   "metadata": {},
		   "source": [
			"## Example 1.26: To_find_current_in_4_Ohm_resistor_using_Source_transformation.sce"
		   ]
		  },
  {
"cell_type": "code",
	   "execution_count": null,
	   "metadata": {
	    "collapsed": true
	   },
	   "outputs": [],
"source": [
"I1=5;                          //Assigning values to parameters\n",
"R1=2;\n",
"V1=6;\n",
"I2=2;\n",
"R2=4;\n",
"V2=I1*R1;                     //Performing source transformation\n",
"V=V2-V1;\n",
"I3=V/R1;\n",
"I=I3+I2;\n",
"IR2=I*R1/(R1+R2);\n",
"disp('Amperes',IR2,'Current in 4 ohm resistor using source transformation');"
   ]
   }
,
{
		   "cell_type": "markdown",
		   "metadata": {},
		   "source": [
			"## Example 1.27: To_find_current_in_3_Ohm_resistor_using_Source_transformation.sce"
		   ]
		  },
  {
"cell_type": "code",
	   "execution_count": null,
	   "metadata": {
	    "collapsed": true
	   },
	   "outputs": [],
"source": [
"V1=6;                             //Assigning values to parameters\n",
"R1=2;\n",
"R2=6;\n",
"R3=2;\n",
"I1=3;\n",
"R4=1;\n",
"R5=3;\n",
"I2=V1/R1;                        //Performing source transformation\n",
"R6=(R2*R3)/(R2+R3);\n",
"V2=I2*R6;\n",
"R7=R6+R1;\n",
"I3=V2/R7;\n",
"I4=I1+I3;\n",
"IR5=I4*R7/(R7+R4+R5);\n",
"disp('Amperes',IR5,'Current in 3 Ohm resistor using source transformation')"
   ]
   }
,
{
		   "cell_type": "markdown",
		   "metadata": {},
		   "source": [
			"## Example 1.28: To_find_current_in_10_Ohm_resistor_using_Source_transformation.sce"
		   ]
		  },
  {
"cell_type": "code",
	   "execution_count": null,
	   "metadata": {
	    "collapsed": true
	   },
	   "outputs": [],
"source": [
"R1=4;                          //Assigning values to parameters\n",
"V1=7;\n",
"R2=2;\n",
"R3=4;\n",
"I1=8;\n",
"R4=6;\n",
"R5=9;\n",
"V2=12;\n",
"R6=10;\n",
"I2=V1/R1;                    //Performing source transformation\n",
"V3=I1*R2;\n",
"I3=V2/R5;\n",
"R7=R2+R3;\n",
"I4=V3/R7;\n",
"R=1/((1/R1)+(1/R7)+(1/R4)+(1/R5));\n",
"I=I2+I3-I4;\n",
"V=I*R;\n",
"IR6=V/(R+R6)\n",
"disp('Amperes',IR6,'Current in 10 Ohm resistor using source transformation');"
   ]
   }
,
{
		   "cell_type": "markdown",
		   "metadata": {},
		   "source": [
			"## Example 1.29: To_find_branch_currents_using_Kirchoff_laws.sce"
		   ]
		  },
  {
"cell_type": "code",
	   "execution_count": null,
	   "metadata": {
	    "collapsed": true
	   },
	   "outputs": [],
"source": [
"R1=3;                   //Assigning values to parameters\n",
"R2=2;\n",
"R3=4;\n",
"V1=35;\n",
"V2=40;\n",
"A=[5,2;3,-4]           //Matrix of I1,I2 by KVL equations\n",
"B=[35;-5]\n",
"[I]=inv(A)*B           // I matrix has I1 and I2 values\n",
"disp('Amperes',I(1,1),'Current in 3 ohm resistor');\n",
"disp('Amperes',I(2,1),'Current in 4 ohm resistor');\n",
"I3=I(1,1)+I(2,1)\n",
"disp(,'Amperes',I3,'Current in 2 ohm resistor');"
   ]
   }
,
{
		   "cell_type": "markdown",
		   "metadata": {},
		   "source": [
			"## Example 1.2: Temperature_coefficient_and_resistance_of_field_winding.sce"
		   ]
		  },
  {
"cell_type": "code",
	   "execution_count": null,
	   "metadata": {
	    "collapsed": true
	   },
	   "outputs": [],
"source": [
"R18=12.7;                            //Assigning values to the parameters\n",
"R50=14.3;\n",
"t1=18;\n",
"t2=50;\n",
"alpha0=(R50-R18)/(t2*R18-t1*R50);\n",
"alpha18=alpha0/(1+t1*alpha0);\n",
"R0=R18/(1+t1*alpha0);               // Calculating resistance at 0 deg C\n",
"disp(alpha0,'Temperature coefficient at 0 deg C');\n",
"disp(alpha18,'temperature coefficient at 18 deg C');\n",
"disp(R0,'Resistance at 0 deg C');"
   ]
   }
,
{
		   "cell_type": "markdown",
		   "metadata": {},
		   "source": [
			"## Example 1.30: To_find_branch_currents_using_Kirchoff_laws.sce"
		   ]
		  },
  {
"cell_type": "code",
	   "execution_count": null,
	   "metadata": {
	    "collapsed": true
	   },
	   "outputs": [],
"source": [
"R1=2;                     //Assigning values to parameters\n",
"R2=3;\n",
"R3=4;\n",
"R4=5;\n",
"R5=1;\n",
"A=[3,-3;9,12]           //Matrix of I1,I2 by KVL equations\n",
"B=[2;4]\n",
"[I]=inv(A)*B           // I matrix has I1 and I2 values\n",
"disp('Amperes',[I],'Current in 1 Ohm resistor:Row 1 and Column 1, Current in 3 Ohm resistor:Row 2,Column 1');\n",
"IR1=1-I(1,1);\n",
"IR3=1-I(1,1)-I(2,1);\n",
"IR4=I(1,1)+I(2,1)\n",
"disp('Amperes',IR1,'Current in 2 Ohm resistor');\n",
"disp('Amperes',IR3,'Current in 4 Ohm resistor');\n",
"disp('Amperes',IR4,'Current in 5 Ohm resistor');"
   ]
   }
,
{
		   "cell_type": "markdown",
		   "metadata": {},
		   "source": [
			"## Example 1.31: To_determine_the_current_supplied_by_the_battery.sce"
		   ]
		  },
  {
"cell_type": "code",
	   "execution_count": null,
	   "metadata": {
	    "collapsed": true
	   },
	   "outputs": [],
"source": [
"A=[1,-5,3;5,-1,-9;7,1,-5]           //Matrix of I1,I2,I3 Coeffecients by KVL equations\n",
"B=[0;0;1];\n",
"[I]=inv(A)*B   \n",
"disp('Amperes',I(1,1)+I(2,1),'Current supplied by the battery');"
   ]
   }
,
{
		   "cell_type": "markdown",
		   "metadata": {},
		   "source": [
			"## Example 1.32: To_determine_current_through_20_Ohm_resistor.sce"
		   ]
		  },
  {
"cell_type": "code",
	   "execution_count": null,
	   "metadata": {
	    "collapsed": true
	   },
	   "outputs": [],
"source": [
"A=[0,6,-2;3,4,1;1,2,-4]           //Matrix of I1,I2,I3 Coeffecients by KVL equations\n",
"B=[9;24;-4];\n",
"[I]=inv(A)*B;\n",
"disp('Amperes',I(2,1),'Current in 20 Ohm resistor');"
   ]
   }
,
{
		   "cell_type": "markdown",
		   "metadata": {},
		   "source": [
			"## Example 1.38: To_find_equivalent_resistance_between_the_terminals_X_and_Y.sce"
		   ]
		  },
  {
"cell_type": "code",
	   "execution_count": null,
	   "metadata": {
	    "collapsed": true
	   },
	   "outputs": [],
"source": [
"R1=2;                         //Assigning values to parameters\n",
"R2=2;\n",
"R3=4;\n",
"R4=6;\n",
"R5=6;\n",
"R6=2;\n",
"R7=7;\n",
"Ra=R6*R3/(R3+R5+R6);         //Converting Delta to Star\n",
"Rb=R5*R6/(R3+R5+R6);\n",
"Rc=R3*R5/(R3+R5+R6);\n",
"R8=Rc+R4;\n",
"R9=Rb+R7;\n",
"R10=(R8*R9)/(R8+R9);\n",
"R=R1+R2+Ra+R10;\n",
"disp('Ohms',R,'Equivalent resistor of the network using Star-Delta transformation')"
   ]
   }
,
{
		   "cell_type": "markdown",
		   "metadata": {},
		   "source": [
			"## Example 1.3: Resistance_at_60_deg_C_of_aluminium_wire.sce"
		   ]
		  },
  {
"cell_type": "code",
	   "execution_count": null,
	   "metadata": {
	    "collapsed": true
	   },
	   "outputs": [],
"source": [
"alpha20=0.00403;                   //Assigning values to the parameters\n",
"t1=20;\n",
"t2=60;\n",
"R20=28.3;\n",
"R60=R20*(1+alpha20*(t2-t1));       // Calculating value of resistance at 60 deg C\n",
"disp(R60,'Resistance at 60 deg C is');"
   ]
   }
,
{
		   "cell_type": "markdown",
		   "metadata": {},
		   "source": [
			"## Example 1.40: To_find_current_I_in_the_network.sce"
		   ]
		  },
  {
"cell_type": "code",
	   "execution_count": null,
	   "metadata": {
	    "collapsed": true
	   },
	   "outputs": [],
"source": [
"R1=6;              //Assigning values to parameters\n",
"R2=8;\n",
"R3=5;\n",
"R4=10;\n",
"R5=5;\n",
"R6=10;\n",
"R7=15;\n",
"V=100;\n",
"Rx=R3+R6+(R3*R6)/R4;      //Converting Star to Delta\n",
"Ry=R4+R6+(R4*R6)/R3;\n",
"Rz=R3+R4+(R3*R4)/R6;\n",
"Ra=(R5*Rx)/(Rx+R5);\n",
"Rb=(Ry*R7)/(Ry+R7);\n",
"Rl=(R1*R2)/(R1+R2+Rz);    //Converting Delta to Star\n",
"Rm=(R1*Rz)/(R1+R2+Rz);\n",
"Rn=(R2*Rz)/(R1+R2+Rz);\n",
"R8=Ra+Rm;\n",
"R9=Rb+Rn;\n",
"R10=(R8*R9)/(R8+R9);\n",
"R=R10+Rl;\n",
"I=V/R;\n",
"disp('Amperes',I,'Current in the circuit');"
   ]
   }
,
{
		   "cell_type": "markdown",
		   "metadata": {},
		   "source": [
			"## Example 1.41: To_find_equivalent_resistance_between_terminals_X_and_Y.sce"
		   ]
		  },
  {
"cell_type": "code",
	   "execution_count": null,
	   "metadata": {
	    "collapsed": true
	   },
	   "outputs": [],
"source": [
"R1=8;                          //Assigning values to parameters\n",
"R2=4;\n",
"R3=12;\n",
"R4=12;\n",
"R5=34;\n",
"R6=30;\n",
"R7=30;\n",
"R8=17;\n",
"R9=13;\n",
"R10=R1+R2;\n",
"R11=R8+R9;\n",
"Ra=(R10*R3)/(R3+R4+R10);       //Converting Delta to Star\n",
"Rb=(R3*R4)/(R3+R4+R10);\n",
"Rc=(R10*R4)/(R3+R4+R10);\n",
"Rx=(R6*R7)/(R6+R7+R11);       //Converting Delta to Star\n",
"Ry=(R7*R11)/(R6+R7+R11);\n",
"Rz=(R6*R11)/(R6+R7+R11);\n",
"Rl=R5+Ra+Rx;\n",
"Rm=Rc+Ry;\n",
"Rn=(Rl*Rm)/(Rl+Rm);\n",
"Req=Rb+Rz+Rn;\n",
"disp('Ohms',Req,'Equivalent resistance of the network');"
   ]
   }
,
{
		   "cell_type": "markdown",
		   "metadata": {},
		   "source": [
			"## Example 1.42: To_find_equivalent_resistance_between_the_terminals_A_and_B.sce"
		   ]
		  },
  {
"cell_type": "code",
	   "execution_count": null,
	   "metadata": {
	    "collapsed": true
	   },
	   "outputs": [],
"source": [
"R1=6;                        //Assigning values to parameters\n",
"R2=6;\n",
"R3=3;\n",
"R4=12;\n",
"R5=12;\n",
"R6=12;\n",
"R7=3;\n",
"Ra=(R4*R5)/(R4+R5+R6);      //Converting Delta to Star\n",
"Rb=(R4*R6)/(R4+R5+R6);\n",
"Rc=(R5*R6)/(R4+R5+R6);\n",
"Rd=R3+Rb;\n",
"Re=R7+Rc;\n",
"Rf=(R1*R2)/(R1+R2);\n",
"Rh=(Rd*Re)/(Rd+Re);\n",
"Req=Ra+Rf+Rh;\n",
"disp('ohms',Req,'Equivalent resistance of the network');"
   ]
   }
,
{
		   "cell_type": "markdown",
		   "metadata": {},
		   "source": [
			"## Example 1.43: To_find_equivalent_resistance_between_the_terminals_A_and_B.sce"
		   ]
		  },
  {
"cell_type": "code",
	   "execution_count": null,
	   "metadata": {
	    "collapsed": true
	   },
	   "outputs": [],
"source": [
"R1=6;                              //Assigning values to parameters\n",
"R2=4;\n",
"R3=3;\n",
"R4=5;\n",
"R5=5;\n",
"R6=2;\n",
"R7=4;\n",
"Rx=R3+R4+(R3*R4)/R6;             //Converting Star to Delta\n",
"Ry=R4+R6+(R4*R6)/R3;\n",
"Rz=R3+R6+(R3*R6)/R4;\n",
"disp(Rx)\n",
"disp(Ry)\n",
"disp(Rz)\n",
"Ra=(R5*Rz)/(R5+Rz);\n",
"Rb=(R7*Ry)/(R7+Ry);\n",
"Rl=(R1*R2)/(R1+R2+Rx);          //Converting Delta to Star\n",
"Rm=(R2*Rx)/(R1+R2+Rx);\n",
"Rn=(R1*Rx)/(R1+R2+Rx);\n",
"Rp=Ra+Rn;\n",
"Rq=Rb+Rm;\n",
"Rr=(Rp*Rq)/(Rp+Rq);\n",
"Req=Rl+Rr;\n",
"disp('Ohms',Req,'Eqivalent resistance of the network');"
   ]
   }
,
{
		   "cell_type": "markdown",
		   "metadata": {},
		   "source": [
			"## Example 1.44: To_find_current_in_1_Ohm_resistor_using_Mesh_analysis.sce"
		   ]
		  },
  {
"cell_type": "code",
	   "execution_count": null,
	   "metadata": {
	    "collapsed": true
	   },
	   "outputs": [],
"source": [
"A=[-6,3;3,-10.5]           //Matrix of I1,I2 Coeffecients by Mesh analysis\n",
"B=[-12.5;0];\n",
"[I]=inv(A)*B;\n",
"disp('Amperes',I(1,1),'Current in 1 Ohm resistor');"
   ]
   }
,
{
		   "cell_type": "markdown",
		   "metadata": {},
		   "source": [
			"## Example 1.45: To_find_I1_I2_I3_using_Mesh_analysis.sce"
		   ]
		  },
  {
"cell_type": "code",
	   "execution_count": null,
	   "metadata": {
	    "collapsed": true
	   },
	   "outputs": [],
"source": [
"A=[7,-1,0;1,-6,3;0,3,-4]           //Matrix of I1,I2,I3 Coeffecients by Mesh analysis\n",
"B=[17;-25;19];\n",
"[I]=inv(A)*B;\n",
"disp('Amperes',I(1,1),'I1');\n",
"disp('Amperes',I(2,1),'I2');\n",
"disp('Amperes',I(3,1),'I3');"
   ]
   }
,
{
		   "cell_type": "markdown",
		   "metadata": {},
		   "source": [
			"## Example 1.47: To_find_current_through_2_Ohm_resistor_using_Mesh_analysis.sce"
		   ]
		  },
  {
"cell_type": "code",
	   "execution_count": null,
	   "metadata": {
	    "collapsed": true
	   },
	   "outputs": [],
"source": [
"I1=6;\n",
"R1=1;\n",
"R2=2;\n",
"R3=5;\n",
"V=10;\n",
"I2=(2*I1-10)/7;\n",
"IR2=(I1-I2);\n",
"disp('Amperes',IR2,'Current in 2 Ohm resistor')"
   ]
   }
,
{
		   "cell_type": "markdown",
		   "metadata": {},
		   "source": [
			"## Example 1.48: To_find_current_in_100_Ohm_resistor_using_Mesh_analysis.sce"
		   ]
		  },
  {
"cell_type": "code",
	   "execution_count": null,
	   "metadata": {
	    "collapsed": true
	   },
	   "outputs": [],
"source": [
"V1=60;\n",
"R1=20;\n",
"I=1;\n",
"R2=30;\n",
"R3=50;\n",
"V2=40;\n",
"R4=100;\n",
"A=[-1,1,0;-20,-80,50;0,50,-150]           //Matrix of I1,I2,I3 Coeffecients by Mesh analysis\n",
"B=[1;-20;-40];\n",
"[I]=inv(A)*B;\n",
"disp('Amperes',I(3,1),'Current in 100 Ohm resistor');"
   ]
   }
,
{
		   "cell_type": "markdown",
		   "metadata": {},
		   "source": [
			"## Example 1.49: To_find_current_in_5_Ohm_resistor_using_Mesh_analysis.sce"
		   ]
		  },
  {
"cell_type": "code",
	   "execution_count": null,
	   "metadata": {
	    "collapsed": true
	   },
	   "outputs": [],
"source": [
"V=50;\n",
"R1=10;\n",
"R2=5;\n",
"R3=3;\n",
"R4=2;\n",
"R5=1;\n",
"I=2;\n",
"A=[0,1,-1;15,-12,-6;-15,10,5]           //Matrix of I1,I2,I3 Coeffecients by Mesh analysis\n",
"B=[2;0;-50];\n",
"[I]=inv(A)*B;\n",
"disp('Amperes',(I(1,1)-I(3,1)),'Current in 5 Ohm resistor');"
   ]
   }
,
{
		   "cell_type": "markdown",
		   "metadata": {},
		   "source": [
			"## Example 1.4: Resistance_at_50_deg_C_of_shunt_winding_of_motor.sce"
		   ]
		  },
  {
"cell_type": "code",
	   "execution_count": null,
	   "metadata": {
	    "collapsed": true
	   },
	   "outputs": [],
"source": [
"R15=80;                   //Assigning values to the parameters\n",
"alpha0=0.004;\n",
"t1=15;\n",
"t2=50;\n",
"R0=R15/(1+alpha0*t1);     // Calculating resistance at 0 deg C\n",
"R50=R0*(1+alpha0*t2);     // Calculating resistance at 50 deg C\n",
"disp(R0,'Resistance value at 0 deg C');\n",
"disp(R50,'Resistance value at 50 deg C');"
   ]
   }
,
{
		   "cell_type": "markdown",
		   "metadata": {},
		   "source": [
			"## Example 1.50: To_find_current_through_15_Ohm_resistor_using_Nodal_analysis.sce"
		   ]
		  },
  {
"cell_type": "code",
	   "execution_count": null,
	   "metadata": {
	    "collapsed": true
	   },
	   "outputs": [],
"source": [
"R1=20;\n",
"R2=10;\n",
"R3=15;\n",
"R4=10;\n",
"R5=10;\n",
"V1=100;\n",
"V2=80;\n",
"A=[13,-4;1,-4];           //Applying KCL at the two nodes\n",
"B=[300;120]\n",
"V=inv(A)*B;\n",
"IR3=(V(1,1)-V(2,1))/R3;\n",
"disp('Amperes',IR3,'Current in 15 Ohm resistor');"
   ]
   }
,
{
		   "cell_type": "markdown",
		   "metadata": {},
		   "source": [
			"## Example 1.51: To_find_currents_I1_I2_I3_using_Nodal_analysis.sce"
		   ]
		  },
  {
"cell_type": "code",
	   "execution_count": null,
	   "metadata": {
	    "collapsed": true
	   },
	   "outputs": [],
"source": [
"R1=0.2;\n",
"R2=0.3;\n",
"R3=0.1;\n",
"V1=120;\n",
"V2=110;\n",
"A=[5,-2;1,-4];                 //Applying KCL at the two nodes\n",
"B=[358.2;-324];\n",
"V=inv(A)*B;\n",
"I1=(120-V(1,1))/R1;\n",
"I2=(V(1,1)-V(2,1))/R2;\n",
"I3=(110-V(2,1))/R3;\n",
"disp('Amperes',I1,'Current I1')\n",
"disp('Amperes',I2,'Current I2')\n",
"disp('Amperes',I3,'Current I3')"
   ]
   }
,
{
		   "cell_type": "markdown",
		   "metadata": {},
		   "source": [
			"## Example 1.52: To_determine_voltages_at_A_and_B_using_Nodal_Analysis.sce"
		   ]
		  },
  {
"cell_type": "code",
	   "execution_count": null,
	   "metadata": {
	    "collapsed": true
	   },
	   "outputs": [],
"source": [
"R1=2;\n",
"R2=4;\n",
"R3=4;\n",
"R4=2;\n",
"I1=2;\n",
"I2=4;\n",
"A=[2,-1;1,-3];                //Applying KCL at the two nodes\n",
"B=[8;-16];\n",
"V=inv(A)*B;\n",
"disp('Volts',V(1,1),'Voltage at node A')\n",
"disp('Volts',V(2,1),'Voltage at node B')"
   ]
   }
,
{
		   "cell_type": "markdown",
		   "metadata": {},
		   "source": [
			"## Example 1.53: To_find_current_in_2_Ohm_and_3_Ohm_resistor_using_Nodal_analysis.sce"
		   ]
		  },
  {
"cell_type": "code",
	   "execution_count": null,
	   "metadata": {
	    "collapsed": true
	   },
	   "outputs": [],
"source": [
"R1=2;\n",
"R2=10;\n",
"R3=5;\n",
"R4=15;\n",
"I1=1/3;\n",
"R5=3;\n",
"V1=10;\n",
"V2=18;\n",
"A=[8,-2;3,-9];                //Applying KCL at the two nodes\n",
"B=[50;-85];\n",
"V=inv(A)*B;\n",
"I1=(V1-V(1,1))/R1;\n",
"I5=(V(2,1)-V2)/R5;\n",
"disp('Amperes',I1,'Current in 2 Ohm resistor');\n",
"disp('Amperes',I5,'Current in 3 Ohm resistor');"
   ]
   }
,
{
		   "cell_type": "markdown",
		   "metadata": {},
		   "source": [
			"## Example 1.54: To_find_currents_in_various_resistors.sce"
		   ]
		  },
  {
"cell_type": "code",
	   "execution_count": null,
	   "metadata": {
	    "collapsed": true
	   },
	   "outputs": [],
"source": [
"R1=2;                                           //Assigning values to parameters\n",
"R2=10;\n",
"R3=2;\n",
"R4=5;\n",
"R5=1;\n",
"R6=4;\n",
"I1=28;\n",
"I2=2;\n",
"A=[11,-5,-1;5,-17,10;1,10,-13.5];               //Applying KCL at the two nodes\n",
"B=[280;0;20];\n",
"V=inv(A)*B;\n",
"I1=V(1,1)/R1;\n",
"I2=(V(1,1)-V(2,1))/R3;\n",
"I3=(V(1,1)-V(3,1))/R2;\n",
"I4=(V(2,1)-V(3,1))/R5;\n",
"I5=V(2,1)/R4;\n",
"I6=V(3,1)/R6;\n",
"disp('Amperes',I1,'Current I1')\n",
"disp('Amperes',I2,'Current I2')\n",
"disp('Amperes',I3,'Current I3')\n",
"disp('Amperes',I4,'Current I4')\n",
"disp('Amperes',I5,'Current I5')\n",
"disp('Amperes',I6,'Current I6')"
   ]
   }
,
{
		   "cell_type": "markdown",
		   "metadata": {},
		   "source": [
			"## Example 1.55: To_find_different_branch_currents_using_Superposition_theorem.sce"
		   ]
		  },
  {
"cell_type": "code",
	   "execution_count": null,
	   "metadata": {
	    "collapsed": true
	   },
	   "outputs": [],
"source": [
"V1=35;                          //Assigning values to parameters\n",
"R1=3;\n",
"R2=2;\n",
"R3=4;\n",
"V2=40;\n",
"Ra=((R2*R3)/(R2+R3))+R1;       // Considering only 35V source\n",
"I=V1/Ra;\n",
"IR1=I;\n",
"IR3=I*(R2)/(R2+R3);\n",
"IR2=I-IR3;\n",
"Rb=((R1*R2)/(R1+R2))+R3;      //Considering only 40V source\n",
"I1=V2/Rb;\n",
"I1R3=I1;\n",
"I1R1=I1*(R2)/(R2+R3);\n",
"I1R2=I1-I1R1;\n",
"Ires3=IR1-I1R1;              // Adding the currents algebraically\n",
"Ires2=IR2+I1R2;\n",
"Ires4=I1R3-IR3;\n",
"disp('Amperes',Ires3,'Current in 3 Ohm resistor using Superposition Theorem');\n",
"disp('Amperes',Ires2,'Current in 2 Ohm resistor using Superposition Theorem');\n",
"disp('Amperes',Ires4,'Current in 4 Ohm resistor using Superposition Theorem');"
   ]
   }
,
{
		   "cell_type": "markdown",
		   "metadata": {},
		   "source": [
			"## Example 1.56: To_find_current_in_1_Ohm_resistor_using_Superposition_theorem.sce"
		   ]
		  },
  {
"cell_type": "code",
	   "execution_count": null,
	   "metadata": {
	    "collapsed": true
	   },
	   "outputs": [],
"source": [
"I1=1;                      //Assigning values to parameters\n",
"R1=3;\n",
"R2=2;\n",
"R3=2;\n",
"R4=2;\n",
"R5=1;\n",
"Ra=(R1*R2)/(R1+R2);\n",
"Rb=(R3*R4)/(R3+R4);\n",
"Iab=(I1*Ra)/(Ra+Rb+R5);\n",
"A=[5,0,-2;0,4,-2;2,2,-5];   //Current coeffecients by applying KVL\n",
"B=[-1;1;0];\n",
"I=inv(A)*B;\n",
"IR5=I(3,1)+Iab;\n",
"disp('Amperes',IR5,'Current in 1 Ohm resistor');"
   ]
   }
,
{
		   "cell_type": "markdown",
		   "metadata": {},
		   "source": [
			"## Example 1.57: To_determine_current_in_20_Ohm_resistor_using_Superposition_theorem.sce"
		   ]
		  },
  {
"cell_type": "code",
	   "execution_count": null,
	   "metadata": {
	    "collapsed": true
	   },
	   "outputs": [],
"source": [
"V1=10;                         //Assigning values to parameters\n",
"R1=10;\n",
"R2=1;\n",
"V2=8;\n",
"R3=8;\n",
"V3=12;\n",
"R4=20;\n",
"I20=V1/(R2+R4);                // Considering only 10V source\n",
"Ia20=V3/(R2+R4);               // Considering only 12V source\n",
"Ib20=V2/(R2+R4);               // Considering only 8V source\n",
"I=Ia20+Ib20-I20;               // Adding the currents algebraically\n",
"disp('Amperes',I,'Current through 20 Ohm resistor using Superposition principle')"
   ]
   }
,
{
		   "cell_type": "markdown",
		   "metadata": {},
		   "source": [
			"## Example 1.58: To_determine_current_in_1_Ohm_resistor_using_Superposition_theorem.sce"
		   ]
		  },
  {
"cell_type": "code",
	   "execution_count": null,
	   "metadata": {
	    "collapsed": true
	   },
	   "outputs": [],
"source": [
"V1=4;                             //Assigning values to parameters\n",
"R1=2;\n",
"I1=1;\n",
"R2=1;\n",
"R3=3;\n",
"I2=3;\n",
"I1a=V1/(R1+R2);                 //Considering the current flow due to 4V voltage source\n",
"I1b=(I2*R1)/(R1+R2);            //Considering the current flow due to 3A current source\n",
"I1c=(I1*R1)/(R2+R1);            //Considering the current flow due to 1A current source\n",
"I=I1a+I1b+I1c;\n",
"disp('Amperes',I,'Current in 1 Ohm resistor using Superposition principle');"
   ]
   }
,
{
		   "cell_type": "markdown",
		   "metadata": {},
		   "source": [
			"## Example 1.59: To_determine_current_in_5_Ohm_resistor_using_Superposition_theorem.sce"
		   ]
		  },
  {
"cell_type": "code",
	   "execution_count": null,
	   "metadata": {
	    "collapsed": true
	   },
	   "outputs": [],
"source": [
"V1=50;                         //Assigning values to parameters\n",
"V2=36;\n",
"R1=5;\n",
"R2=20;\n",
"R3=10;\n",
"I1=4;\n",
"R4=(R2*R3)/(R2+R3);\n",
"R5=R4+R1;\n",
"I5a=V1/R5;                    //Considering only 50V source\n",
"I5b=I1*(R4/(R4+R1));            //Considering only 4A current source\n",
"I2=V2/R3;                     //Converting 36V voltage source to 3.6A current source using source transformation\n",
"I5c=I2*(R4/(R4+R1));            //Considering only 3.6A current source\n",
"I=(I5b+I5c)-I5a;                //Adding the currents algebraically\n",
"disp('Amperes',I,'Current through 5 Ohm resistor using Superposition principle');"
   ]
   }
,
{
		   "cell_type": "markdown",
		   "metadata": {},
		   "source": [
			"## Example 1.5: Temperature_coefficient_of_material.sce"
		   ]
		  },
  {
"cell_type": "code",
	   "execution_count": null,
	   "metadata": {
	    "collapsed": true
	   },
	   "outputs": [],
"source": [
"R10=80;                //Assigning values to the parameters\n",
"R60=96.6;\n",
"t1=10;\n",
"t2=60;\n",
"alpha0=(R60-R10)/(t2*R10-t1*R60);\n",
"disp(alpha0,'temperature coefficient at 0 deg C is');"
   ]
   }
,
{
		   "cell_type": "markdown",
		   "metadata": {},
		   "source": [
			"## Example 1.60: To_determine_current_in_10_Ohm_resistor_using_Superposition_theorem.sce"
		   ]
		  },
  {
"cell_type": "code",
	   "execution_count": null,
	   "metadata": {
	    "collapsed": true
	   },
	   "outputs": [],
"source": [
"V1=80;                          //Assigning values to parametrs\n",
"V2=20;\n",
"I1=20;\n",
"R1=5;\n",
"R2=10;\n",
"R3=50;\n",
"R4=20;\n",
"R5=(R3*R4)/(R3+R4);\n",
"I10a=V1/(R1+R2+R5);           //Considering only 80V voltage source\n",
"I2=V2/R4;                     //Converting 20V voltage source to 1A current source\n",
"I10b=(I2*R5)/(R1+R2+R5);      //Considering only 1A current source\n",
"I10c=(I1*R1)/(R1+R2+R5);      //Considering only 20A current source\n",
"I=I10b+I10c-I10a;                //Adding the currents algebraically\n",
"disp('Amperes',I,'Current through 5 Ohm resistor using Superposition principle');"
   ]
   }
,
{
		   "cell_type": "markdown",
		   "metadata": {},
		   "source": [
			"## Example 1.61: To_determine_current_through_5_Ohm_resistor_using_Thevenin_theorem.sce"
		   ]
		  },
  {
"cell_type": "code",
	   "execution_count": null,
	   "metadata": {
	    "collapsed": true
	   },
	   "outputs": [],
"source": [
"V1=10;                     //Assigning values to parameters\n",
"V2=20;\n",
"R1=6;\n",
"R2=1;\n",
"R3=2;\n",
"R4=3;\n",
"R5=5;\n",
"A=[7,-1;1,-6];          //Mesh current coeffecients\n",
"B=[10;0]\n",
"I=inv(A)*B;\n",
"Vth=V2+R4*I(2,1);       //Calculation of Thevenin vlotage\n",
"Ra=(R1*R2)/(R1+R2);\n",
"Rb=Ra+R3;\n",
"Rth=(R4*Rb)/(R4+Rb);   //Calculation of Thevenin current\n",
"Il=Vth/(R5+Rth);\n",
"disp('Amperes',Il,'Current in 5 Ohm resistor using Thevenin theorem');"
   ]
   }
,
{
		   "cell_type": "markdown",
		   "metadata": {},
		   "source": [
			"## Example 1.62: To_determine_current_using_Thevenin_theorem.sce"
		   ]
		  },
  {
"cell_type": "code",
	   "execution_count": null,
	   "metadata": {
	    "collapsed": true
	   },
	   "outputs": [],
"source": [
"R1=1.5;                         //Assignig values to parameters\n",
"R2=6;\n",
"R3=5;\n",
"R4=7.5;\n",
"R5=9;\n",
"V1=6;\n",
"V2=30;\n",
"A=[-22.5,7.5;7.5,-12.5];      //Current coeffecients\n",
"B=[0;30];\n",
"I=inv(A)*B;\n",
"Vth=(V1+R3*I(2,1)+R2*I(1,1))*-1;   //Thevenin voltage\n",
"Ra=(R3*R4)/(R4+R3);\n",
"Rb=Ra+R2;\n",
"Rth=(Rb*R5)/(R5+Rb);              //Thevenin resistance\n",
"Il=Vth/(R1+Rth);\n",
"disp('Amperes',Il,'Current in 1.5 Ohm resistor');"
   ]
   }
,
{
		   "cell_type": "markdown",
		   "metadata": {},
		   "source": [
			"## Example 1.63: To_determine_current_through_8_Ohm_resistor_using_Thevenin_theorem.sce"
		   ]
		  },
  {
"cell_type": "code",
	   "execution_count": null,
	   "metadata": {
	    "collapsed": true
	   },
	   "outputs": [],
"source": [
"V1=2;\n",
"V2=4;\n",
"R1=5;\n",
"R2=10;\n",
"R3=10;\n",
"R4=8;\n",
"R5=5;\n",
"A=[-15,10;10,-25];\n",
"B=[-2;4];\n",
"I=inv(A)*B;\n",
"Vth=V2+R1*I(2,1);\n",
"Ra=(R1*R2)/(R1+R2);\n",
"Rb=Ra+R3;\n",
"Rth=(Rb*R5)/(Rb+R5);\n",
"Il=Vth/(R4+Rth);\n",
"disp('Amperes',Il,'Current in 8 Ohm resistor');"
   ]
   }
,
{
		   "cell_type": "markdown",
		   "metadata": {},
		   "source": [
			"## Example 1.64: To_determine_current_in_10_Ohm_resistor_by_Thevenin_Theorem.sce"
		   ]
		  },
  {
"cell_type": "code",
	   "execution_count": null,
	   "metadata": {
	    "collapsed": true
	   },
	   "outputs": [],
"source": [
"R1=8;                          //Assigning values to parameters\n",
"R2=4;\n",
"R3=12;\n",
"R4=12;\n",
"R5=34;\n",
"R6=30;\n",
"R7=30;\n",
"R8=17;\n",
"R9=13;\n",
"V=180;\n",
"R10=R1+R2;\n",
"R11=R8+R9;\n",
"Ra=(R10*R3)/(R3+R4+R10);       //Converting Delta to Star\n",
"Rb=(R3*R4)/(R3+R4+R10);\n",
"Rc=(R10*R4)/(R3+R4+R10);\n",
"Rx=(R6*R7)/(R6+R7+R11);       //Converting Delta to Star\n",
"Ry=(R7*R11)/(R6+R7+R11);\n",
"Rz=(R6*R11)/(R6+R7+R11);\n",
"Rp=R5+Ra+Rx;\n",
"Rm=Rc+Ry;\n",
"Rn=(Rp*Rm)/(Rp+Rm);\n",
"Rth=Rb+Rz+Rn;\n",
"I=V/(Rp+Rc+Rz);\n",
"Vth=Rp*I\n",
"Rl=10;\n",
"Il=Vth/(Rl+Rth);\n",
"disp('Amperes',Il,'Current in 10 Ohm load using Thevenin theorem is')"
   ]
   }
,
{
		   "cell_type": "markdown",
		   "metadata": {},
		   "source": [
			"## Example 1.65: To_obtain_power_drawn_by_20_Ohm_resistor_using_Thevenin_Theorem.sce"
		   ]
		  },
  {
"cell_type": "code",
	   "execution_count": null,
	   "metadata": {
	    "collapsed": true
	   },
	   "outputs": [],
"source": [
"V1=12;                     //Assigning values to parameters\n",
"V2=8;\n",
"I1=4;\n",
"R1=2;\n",
"R2=10;\n",
"R3=20;\n",
"R4=5;\n",
"R5=15;\n",
"R6=25;\n",
"R7=5;\n",
"A=[1,-1,0;-12,-20,15;0,15,-45];   //Current coeffecients\n",
"B=[4;-12;8];\n",
"I=inv(A)*B;\n",
"Vth=V1-R1*I(1,1)-R2*I(1,1);     //Thevenin voltage\n",
"Ra=R1+R2;\n",
"Rb=R6+R7;\n",
"Rc=(R5*Rb)/(R5+Rb);\n",
"Rd=R4+Rc;\n",
"Rth=(Ra*Rd)/(Ra+Rd);          //Thevenin resistance\n",
"Il=Vth/(R3+Rth);\n",
"P=Il*Il*R3;\n",
"disp('Watts',P,'Power drawn by 20 Ohm resistor');"
   ]
   }
,
{
		   "cell_type": "markdown",
		   "metadata": {},
		   "source": [
			"## Example 1.66: To_determine_current_in_30_Ohm_resistor_using_Thevenin_Theorem.sce"
		   ]
		  },
  {
"cell_type": "code",
	   "execution_count": null,
	   "metadata": {
	    "collapsed": true
	   },
	   "outputs": [],
"source": [
"V1=150;                  //Assigning values to parameters\n",
"V2=50;\n",
"I1=13;\n",
"R1=15;\n",
"R2=60;\n",
"R3=40;\n",
"R4=30;\n",
"A=[-1,1;-15,-100];      //Current coeffecients\n",
"B=[13;-150];\n",
"I=inv(A)*B;\n",
"Vth=-V2+R3*I(2,1);     //Thevenin voltage\n",
"Ra=R1+R2;\n",
"Rth=(R3*Ra)/(R3+Ra);   //Thevenin resistance\n",
"Il=Vth/(R4+Rth);\n",
"disp('Amperes',Il,' Current flowing in 20 Ohm resistor');"
   ]
   }
,
{
		   "cell_type": "markdown",
		   "metadata": {},
		   "source": [
			"## Example 1.67: To_find_current_in_Rl_using_Thevenin_Theorem.sce"
		   ]
		  },
  {
"cell_type": "code",
	   "execution_count": null,
	   "metadata": {
	    "collapsed": true
	   },
	   "outputs": [],
"source": [
"V=100;                                      //Assigning values to parameters\n",
"R1=20;\n",
"R2=80;\n",
"R3=40;\n",
"R4=50;\n",
"I1=V/(R1+R2);\n",
"I2=V/(R3+R4);\n",
"Vth=R3*I2-R1*I1;                             //Calculating Thevenin voltage\n",
"Rth=((R1*R2)/(R1+R2))+((R3*R4)/(R3+R4));    // Calculating Thevenin resistance\n",
"Rl=5;\n",
"Il=Vth/(Rth+Rl);                            //Calculating Thevenin current\n",
"Rla=10;\n",
"Ila=Vth/(Rth+Rla);\n",
"Rlb=20;\n",
"Ilb=Vth/(Rth+Rlb);\n",
"disp('Amperes',Il,'Current in 5 Ohm load');\n",
"disp('Amperes',Ila,'Current in 10 Ohm load');\n",
"disp('Amperes',Ilb,'Current in 20 Ohm load');"
   ]
   }
,
{
		   "cell_type": "markdown",
		   "metadata": {},
		   "source": [
			"## Example 1.68: To_find_current_in_40_Ohm_resistor_using_Thevenin_Theorem.sce"
		   ]
		  },
  {
"cell_type": "code",
	   "execution_count": null,
	   "metadata": {
	    "collapsed": true
	   },
	   "outputs": [],
"source": [
"R1=10;                     //Assigning values to parameters\n",
"R2=20;\n",
"R3=40;\n",
"R4=30;\n",
"R5=15;\n",
"V=2;\n",
"I1=V/(R1+R4);\n",
"I2=V/(R2+R5);\n",
"Vth=R2*I2-R1*I1;         //Calculation of Thevenin voltage\n",
"Rth=((R1*R4)/(R1+R4))+((R2*R5)/(R2+R5));   //Calculation of Thevenin resistance\n",
"Il=Vth/(Rth+R3);\n",
"disp('Amperes',Il,'Load current')"
   ]
   }
,
{
		   "cell_type": "markdown",
		   "metadata": {},
		   "source": [
			"## Example 1.69: To_find_current_through_20_Ohm_resistor_using_Norton_theorem.sce"
		   ]
		  },
  {
"cell_type": "code",
	   "execution_count": null,
	   "metadata": {
	    "collapsed": true
	   },
	   "outputs": [],
"source": [
"R1=10;                    //Assigning values to parameters\n",
"R2=10;\n",
"R3=15;\n",
"R4=20;\n",
"V=100;\n",
"A=[-20,10;10,-25]        //Current coeffecients by KVL equations\n",
"B=[-100;0];\n",
"I=inv(A)*B;\n",
"IN=I(2,1);              //Norton's current\n",
"RN=(R1*R2)/(R1+R2)+R3;  //Norton's resistance\n",
"Il=(IN*RN)/(RN+RN)\n",
"disp('Amperes',Il,'Current in load of 20 Ohm resistor using Norton theorem ')"
   ]
   }
,
{
		   "cell_type": "markdown",
		   "metadata": {},
		   "source": [
			"## Example 1.6: Average_temperature.sce"
		   ]
		  },
  {
"cell_type": "code",
	   "execution_count": null,
	   "metadata": {
	    "collapsed": true
	   },
	   "outputs": [],
"source": [
"t1=20;               //Assigning values to the parameters\n",
"R1=45;\n",
"R2=48.5;\n",
"alpha0=0.004;\n",
"t2=((R2*(1+alpha0*t1))-45)/(alpha0*R1);      //calculating average temperature\n",
"disp(t2,'Average temperature of winding at the end of the run when the resistance increases');"
   ]
   }
,
{
		   "cell_type": "markdown",
		   "metadata": {},
		   "source": [
			"## Example 1.70: To_find_current_in_4_Ohm_resistor_using_Norton_Theorem.sce"
		   ]
		  },
  {
"cell_type": "code",
	   "execution_count": null,
	   "metadata": {
	    "collapsed": true
	   },
	   "outputs": [],
"source": [
"I1=5;                    //Assigning values to parameters\n",
"I2=2;\n",
"V1=6;\n",
"R1=2;\n",
"R2=4;\n",
"I1=5;\n",
"I2=(R1*I1-6)/R1;\n",
"I3=I2+2;\n",
"IN=I3;                //Calculation of Norton current\n",
"RN=R1;                //Calculation of Norton resistance\n",
"Il=IN*RN/(RN+R2);     //Calculation of load current using Norton theorem\n",
"disp('Amperes',Il,'Current in 4 Ohm resistor by Norton theorem');"
   ]
   }
,
{
		   "cell_type": "markdown",
		   "metadata": {},
		   "source": [
			"## Example 1.71: To_find_current_in_4_Ohm_resistor_using_Norton_Theorem.sce"
		   ]
		  },
  {
"cell_type": "code",
	   "execution_count": null,
	   "metadata": {
	    "collapsed": true
	   },
	   "outputs": [],
"source": [
"I1=6;                             //Assigning values to parameters\n",
"V1=10;\n",
"V2=24;\n",
"R1=2;\n",
"R2=1;\n",
"R3=10;\n",
"R4=3;\n",
"R5=2;\n",
"R6=4;\n",
"A=[-13,10,1;10,-15,3;1,3,-4];   //Current coefficients using KVL equations\n",
"B=[-12;10;-24];\n",
"I=inv(A)*B;\n",
"IN=I(3,1);                      //Norton current\n",
"Rx=R2+R3+(R2*R3)/R4;           //Converting Star to Delta\n",
"Ry=R3+R4+(R3*R4)/R2;\n",
"Rz=R2+R4+(R2*R4)/R3;\n",
"Ra=(R1*Rx)/(R1+Rx);\n",
"Rb=(Ry*R5)/(Ry+R5);\n",
"Rc=Ra+Rb;\n",
"RN=(Rz*Rc)/(Rz+Rc);         //Norton resistance\n",
"Il=(IN*RN)/(R6+RN);\n",
"disp('Amperes',Il,'Current in 4 Ohm resistor using Nortonn Theorem')"
   ]
   }
,
{
		   "cell_type": "markdown",
		   "metadata": {},
		   "source": [
			"## Example 1.72: To_find_current_in_5_Ohm_resistor_using_Norton_theorem.sce"
		   ]
		  },
  {
"cell_type": "code",
	   "execution_count": null,
	   "metadata": {
	    "collapsed": true
	   },
	   "outputs": [],
"source": [
"I1=6;                             //Assigning values to parameters\n",
"I2=2;\n",
"V=10;\n",
"V2=24;\n",
"R1=3;\n",
"R2=5;\n",
"R3=6;\n",
"R4=2;\n",
"R5=10;\n",
"R6=6;\n",
"R7=4;\n",
"R8=3;\n",
"A=[1,0,0;0,-18,10;0,10,-23;];   //Current coefficients using KVL equations\n",
"B=[6;-10;12];\n",
"I=inv(A)*B;\n",
"IN=I(1,1)-I(2,1);                                  //Norton current\n",
"RN=((R5*(R6+R7+R8))/(R5+R6+R7+R8))+R3+R4;         //Norton resistance\n",
"Il=(IN*RN)/(R2+RN);\n",
"disp('Amperes',Il,'Current in 4 Ohm resistor using Nortonn Theorem')"
   ]
   }
,
{
		   "cell_type": "markdown",
		   "metadata": {},
		   "source": [
			"## Example 1.73: EX1_73.sce"
		   ]
		  },
  {
"cell_type": "code",
	   "execution_count": null,
	   "metadata": {
	    "collapsed": true
	   },
	   "outputs": [],
"source": [
"V=120;                     //Assigning values to parameters\n",
"R1=40;\n",
"R2=20;\n",
"R3=60;\n",
"Rth=((R1*R2)/(R1+R2))+R3; //Calculation of Thevenin Resistance\n",
"Rl=Rth;                  //For maximum power,load resistance should be equal to Thevenin resistance\n",
"I=V/(R1+R2);             //Calculation of Circuit Current\n",
"Vth=R2*I;                //Calculation of Thevenin Voltage\n",
"Pmax=(Vth*Vth)/(4*Rth);  //Calculation of Maximum Power\n",
"disp('Watts',Pmax,'Maximum power by Maximum Power transfer theorem');"
   ]
   }
,
{
		   "cell_type": "markdown",
		   "metadata": {},
		   "source": [
			"## Example 1.74: To_find_magnitude_of_Rl_using_Maximum_Power_transfer_theorem.sce"
		   ]
		  },
  {
"cell_type": "code",
	   "execution_count": null,
	   "metadata": {
	    "collapsed": true
	   },
	   "outputs": [],
"source": [
"V=10;\n",
"I=6;\n",
"R1=5;\n",
"R2=2;\n",
"R3=3;\n",
"R4=4;\n",
"Rth=((R1*R2)/(R1+R2))+R3+R4;\n",
"A=[-1,1;-5,-2];   //Current coefficients using KVL equations\n",
"B=[6;-10];\n",
"I=inv(A)*B;\n",
"Vth=R2*I(2,1);\n",
"Pmax=(Vth*Vth)/(4*Rth);\n",
"disp('Watts',Pmax,'Maximum Power');"
   ]
   }
,
{
		   "cell_type": "markdown",
		   "metadata": {},
		   "source": [
			"## Example 1.75: To_determine_maximum_power_delivered_to_Rl.sce"
		   ]
		  },
  {
"cell_type": "code",
	   "execution_count": null,
	   "metadata": {
	    "collapsed": true
	   },
	   "outputs": [],
"source": [
"V=30;                              //Assigning values to parameters\n",
"I1=25;\n",
"I2=10;\n",
"R1=5;\n",
"R2=10;\n",
"R3=2;\n",
"R4=10;\n",
"Rth=((R3*(R1+R2))/(R3+R1+R2))\n",
"A=[-1,1,0;-15,-12,10;0,10,-10];   //Current coefficients using KVL equations\n",
"B=[10;-125;30];\n",
"I=inv(A)*B;\n",
"Vth=V+R3*I(2,1);\n",
"Pmax=(Vth*Vth)/(4*Rth);\n",
"disp('Watts',Pmax,'Maximum Power');"
   ]
   }
,
{
		   "cell_type": "markdown",
		   "metadata": {},
		   "source": [
			"## Example 1.76: EX1_76.sce"
		   ]
		  },
  {
"cell_type": "code",
	   "execution_count": null,
	   "metadata": {
	    "collapsed": true
	   },
	   "outputs": [],
"source": [
"R1=2;                     //Assigning values to parameters\n",
"R2=4;\n",
"R3=1;\n",
"R4=5;\n",
"R5=8;\n",
"V=50;\n",
"Ra=(R1*R2)/(R1+R2+R4);   //Converting Delta to Star\n",
"Rb=(R1*R4)/(R1+R2+R4);\n",
"Rc=(R2*R4)/(R1+R2+R4);\n",
"Rm=R3+Ra;\n",
"Rn=Rb+R5;\n",
"Rth=Rc+((Rm*Rn)/(Rm+Rn)); //Calculating Thevenin resistance\n",
"Rl=Rth;\n",
"Rp=R2+R4;\n",
"Rq=R3+R5;\n",
"Rr=(Rp*Rq)/(Rp+Rq);\n",
"I=V/(R1+Rr);\n",
"I1=I*Rp/(Rp+Rq);\n",
"I2=I*Rq/(Rp+Rq);\n",
"Vth=R3*I2-R2*I1;        //Calculating Thevenin voltage\n",
"Pmax=(Vth*Vth)/(4*Rth); //Calculating Maximum Power\n",
"disp('Watts',Pmax,'Maximum Power');"
   ]
   }
,
{
		   "cell_type": "markdown",
		   "metadata": {},
		   "source": [
			"## Example 1.7: Mean_temperature.sce"
		   ]
		  },
  {
"cell_type": "code",
	   "execution_count": null,
	   "metadata": {
	    "collapsed": true
	   },
	   "outputs": [],
"source": [
"t1=20;                                //Assigning values to the parameters\n",
"R1=18;\n",
"t2=50;\n",
"R2=20;\n",
"R3=21;\n",
"ts=15;\n",
"alpha0=(R2-R1)/(t2*R1-t1*R2);\n",
"t=((R3*(1+alpha0*20))-R1)/(alpha0*R1);\n",
"disp(alpha0,' Temperature Coefficient at 0 deg C');\n",
"trise=t-ts;\n",
"disp(trise,'mean temperature rise');"
   ]
   }
,
{
		   "cell_type": "markdown",
		   "metadata": {},
		   "source": [
			"## Example 1.8: To_determine_current_through_series_connection_of_resistors.sce"
		   ]
		  },
  {
"cell_type": "code",
	   "execution_count": null,
	   "metadata": {
	    "collapsed": true
	   },
	   "outputs": [],
"source": [
"R1=5;                      //Assigning values to the parameters\n",
"R2=7;\n",
"R3=8;\n",
"Req=R1+R2+R3;             // Calculating equivalent resistance\n",
"V=100;\n",
"I=V/Req;\n",
"V1=I*R1;\n",
"V2=I*R2;\n",
"V3=I*R3;\n",
"disp('Volts',V1,'Voltage across 5 Ohm resistor');\n",
"disp('Volts',V2,'Voltage across 7 Ohm resistor');\n",
"disp('Volts',V3,'Voltage across 8 Ohm resistor');"
   ]
   }
,
{
		   "cell_type": "markdown",
		   "metadata": {},
		   "source": [
			"## Example 1.9: To_determine_current_and_voltage_through_parallel_connection_of_resistors.sce"
		   ]
		  },
  {
"cell_type": "code",
	   "execution_count": null,
	   "metadata": {
	    "collapsed": true
	   },
	   "outputs": [],
"source": [
"V=100;                 //Assigning values to the parameters\n",
"R1=5;\n",
"R2=10;\n",
"R3=20;\n",
"I1=V/R1;\n",
"I2=V/R2;\n",
"I3=V/R3;\n",
"Itot=I1+I2+I3;       //Calculating total current\n",
"disp('Amperes',I1,'Current through 5 Ohm resistor');\n",
"disp('Amperes',I2,'Current through 10 Ohm resistor');\n",
"disp('Amperes',I3,'Current through 20 Ohm resistor');\n",
"disp('Amperes',Itot,'Total current');\n",
"P=Itot*V;\n",
"disp('Watts',P,'Power drawn from the source');"
   ]
   }
],
"metadata": {
		  "kernelspec": {
		   "display_name": "Scilab",
		   "language": "scilab",
		   "name": "scilab"
		  },
		  "language_info": {
		   "file_extension": ".sce",
		   "help_links": [
			{
			 "text": "MetaKernel Magics",
			 "url": "https://github.com/calysto/metakernel/blob/master/metakernel/magics/README.md"
			}
		   ],
		   "mimetype": "text/x-octave",
		   "name": "scilab",
		   "version": "0.7.1"
		  }
		 },
		 "nbformat": 4,
		 "nbformat_minor": 0
}
