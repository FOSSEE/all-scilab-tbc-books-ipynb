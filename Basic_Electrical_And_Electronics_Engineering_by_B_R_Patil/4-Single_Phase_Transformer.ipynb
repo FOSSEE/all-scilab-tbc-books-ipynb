{
"cells": [
 {
		   "cell_type": "markdown",
	   "metadata": {},
	   "source": [
       "# Chapter 4: Single Phase Transformer"
	   ]
	},
{
		   "cell_type": "markdown",
		   "metadata": {},
		   "source": [
			"## Example 4.10: To_find_copper_loss_at_75_percent_full_load_condition.sce"
		   ]
		  },
  {
"cell_type": "code",
	   "execution_count": null,
	   "metadata": {
	    "collapsed": true
	   },
	   "outputs": [],
"source": [
"clc\n",
"w7=1200          //Assigning values to parameters\n",
"wf=w7/(0.75*0.75)\n",
"w5=0.5*0.5*wf\n",
"disp('Watts',w5,'The copper loss at 50% full-load condition is');"
   ]
   }
,
{
		   "cell_type": "markdown",
		   "metadata": {},
		   "source": [
			"## Example 4.11: To_determine_various_parameters.sce"
		   ]
		  },
  {
"cell_type": "code",
	   "execution_count": null,
	   "metadata": {
	    "collapsed": true
	   },
	   "outputs": [],
"source": [
"clc;\n",
"V=230;           //Assigning values to parameters\n",
"VA=350;\n",
"loss=110;\n",
"I0=VA/V;\n",
"pf=loss/VA;\n",
"Iw=I0*pf;\n",
"Iu=sqrt(I0^2-Iw^2);\n",
"disp('Amperes',Iw,'Iron loss component of no load current');\n",
"disp('Amperes',Iu,'Magnatizing component of no load current');\n",
"disp(pf,'no load power factor');"
   ]
   }
,
{
		   "cell_type": "markdown",
		   "metadata": {},
		   "source": [
			"## Example 4.13: To_find_percentage_regulation_and_secondary_terminal_voltage.sce"
		   ]
		  },
  {
"cell_type": "code",
	   "execution_count": null,
	   "metadata": {
	    "collapsed": true
	   },
	   "outputs": [],
"source": [
"clc\n",
"r1=0.2          //Assigning values to parameters\n",
"x1=0.75\n",
"r2=0.05\n",
"x2=0.2\n",
"pf=0.8\n",
"e2=125\n",
"e1=250\n",
"t=acosd(0.8)\n",
"k=e2/e1\n",
"kva=5\n",
"i2=kva*1000/e2\n",
"r02=r2+k*k*r1\n",
"x02=x2+k*k*x1\n",
"pr1=(i2*r02*cosd(t)-i2*x02*sind(t))*100/e2\n",
"v2=e2-(e2*pr1/100)\n",
"disp(pr1,'The percentage regulation at full load 0.8 pf leading is');\n",
"disp('Volts',v2,'The secondary terminal voltage is');"
   ]
   }
,
{
		   "cell_type": "markdown",
		   "metadata": {},
		   "source": [
			"## Example 4.14: To_find_efficiency_at_different_conditions.sce"
		   ]
		  },
  {
"cell_type": "code",
	   "execution_count": null,
	   "metadata": {
	    "collapsed": true
	   },
	   "outputs": [],
"source": [
"clc\n",
"r1=2        //Assigning values to parameters\n",
"r2=0.02\n",
"wi=412\n",
"pf=0.8\n",
"x=1\n",
"kva=50\n",
"e1=2300\n",
"e2=230\n",
"i2=kva*1000/e2\n",
"i1=kva*1000/e1\n",
"wcf=(i1*i1*r1)+(i2*i2*r2)\n",
"n1=x*kva*pf*100/((x*kva*pf)+(wi*0.001)+(x*x*wcf*0.001))\n",
"x=0.5\n",
"n2=x*kva*pf*100/((x*kva*pf)+(wi*0.001)+(x*x*wcf*0.001))\n",
"disp('Percent',n1,'Efficiency at full node 0.8pf is')\n",
"disp('Percent',n2,'Efficiency at half full node 0.8pf is')"
   ]
   }
,
{
		   "cell_type": "markdown",
		   "metadata": {},
		   "source": [
			"## Example 4.15: To_find_load_in_KVA_and_maximum_efficiency.sce"
		   ]
		  },
  {
"cell_type": "code",
	   "execution_count": null,
	   "metadata": {
	    "collapsed": true
	   },
	   "outputs": [],
"source": [
"clc\n",
"x=1            //Assigning values to parameters\n",
"kva=25\n",
"pf=0.8\n",
"wi=0.35\n",
"wcf=0.4\n",
"n1=x*kva*pf*100/((x*kva*pf)+(wi*0.001)+(x*x*wcf*0.001))\n",
"kva1=kva*(sqrt(wi/wcf))\n",
"nm=kva1*pf*100/((kva1*pf)+2*wi)\n",
"disp(kva1,'Load in KVA  is')\n",
"disp('Percent',nm,'Maximum Efficency is')"
   ]
   }
,
{
		   "cell_type": "markdown",
		   "metadata": {},
		   "source": [
			"## Example 4.16: To_find_efficiency_and_load_in_KVA.sce"
		   ]
		  },
  {
"cell_type": "code",
	   "execution_count": null,
	   "metadata": {
	    "collapsed": true
	   },
	   "outputs": [],
"source": [
"clc\n",
"x=1        //Assigning values to parameters\n",
"kva=40\n",
"pf=0.8\n",
"wi=450\n",
"wcf=850\n",
"n1=x*kva*pf*100/((x*kva*pf)+(wi*0.001)+(x*x*wcf*0.001))\n",
"x=sqrt(wi/wcf)\n",
"n2=x*kva*pf*100/((x*kva*pf)+(2*wi*0.001))\n",
"kva1=kva*sqrt(wi/wcf)\n",
"disp('Percent',n1,'Efficiency at full node 0.8pf is')\n",
"disp('Percent',n2,'Maximum Efficency is')\n",
"disp(kva1,'Load in KVA at which maximum occurs is')"
   ]
   }
,
{
		   "cell_type": "markdown",
		   "metadata": {},
		   "source": [
			"## Example 4.17: To_find_values_of_resistances.sce"
		   ]
		  },
  {
"cell_type": "code",
	   "execution_count": null,
	   "metadata": {
	    "collapsed": true
	   },
	   "outputs": [],
"source": [
"clc\n",
"e1=2000        //Assigning values to parameters\n",
"e2=200\n",
"r1=2.3\n",
"x1=4.2\n",
"r2=0.025\n",
"x2=0.04\n",
"kva=20\n",
"i1=kva*1000/e1\n",
"i2=kva*1000/e2\n",
"k=e2/e1\n",
"r01=r1+r2/(k*k)\n",
"x01=x1+x2/(k*k)\n",
"r02=r2+k*k*r1\n",
"x02=x2+k*k*x1\n",
"disp('ohms',r01,'The equivalent primary resistance is')\n",
"disp('ohms',x01,'The equivalent primary reactance is')\n",
"disp('ohms',r02,'The equivalent Secondary resistance is')\n",
"disp('ohms',x02,'The equivalent Secondary reactance is')"
   ]
   }
,
{
		   "cell_type": "markdown",
		   "metadata": {},
		   "source": [
			"## Example 4.18: To_find_load_and_maximum_efficiency.sce"
		   ]
		  },
  {
"cell_type": "code",
	   "execution_count": null,
	   "metadata": {
	    "collapsed": true
	   },
	   "outputs": [],
"source": [
"clc\n",
"x=1        //Assigning values to parameters\n",
"kva=20\n",
"pf=0.8\n",
"wi=450\n",
"wcf=900\n",
"n1=x*kva*pf*100/((x*kva*pf)+(wi*0.001)+(x*x*wcf*0.001))\n",
"x=sqrt(wi/wcf)\n",
"n2=x*kva*pf*100/((x*kva*pf)+(2*wi*0.001))\n",
"disp('Percent',n1,'Efficiency at full node 0.8pf is')\n",
"disp('Percent',n2,'Maximum Efficency is')\n",
"disp(x,'Load  at which maximum occurs is')"
   ]
   }
,
{
		   "cell_type": "markdown",
		   "metadata": {},
		   "source": [
			"## Example 4.1: To_determine_secondary_voltage_and_primary_and_secondary_currents.sce"
		   ]
		  },
  {
"cell_type": "code",
	   "execution_count": null,
	   "metadata": {
	    "collapsed": true
	   },
	   "outputs": [],
"source": [
"clc\n",
"n2=40               //Assigning values to parameters\n",
"n1=600\n",
"kva=50\n",
"e1=2200\n",
"e2=e1*n2/n1\n",
"i1=kva*1000/e1\n",
"i2=kva*1000/e2\n",
"disp('Amperes',i1,'The primary full load current is');\n",
"disp('Amperes',i2,'The secondary full load current is');\n",
"disp('Volts',e2,'The secondary voltage at node is');"
   ]
   }
,
{
		   "cell_type": "markdown",
		   "metadata": {},
		   "source": [
			"## Example 4.20: To_find_efficiency.sce"
		   ]
		  },
  {
"cell_type": "code",
	   "execution_count": null,
	   "metadata": {
	    "collapsed": true
	   },
	   "outputs": [],
"source": [
"clc\n",
"nm=98        //Assigning values to parameters\n",
"x=0.5\n",
"kva=200\n",
"pf=1\n",
"wi=1000*((x*kva*pf*100/nm)/2-(x*kva*pf)/2)\n",
"wcu=wi\n",
"wcf=wcu/(0.5*0.5)\n",
"n1=x*kva*pf*100/((x*kva*pf)+(wi*0.001)+(x*x*wcf*0.001))\n",
"x=0.75\n",
"n2=x*kva*pf*100/((x*kva*pf)+(wi*0.001)+(x*x*wcf*0.001))\n",
"disp('Watts',wi,'The core loss is');\n",
"disp(n1,'Efficiency at full node 0.8pf is')\n",
"disp(n2,'Efficiency at 75% full node 0.8pf is')"
   ]
   }
,
{
		   "cell_type": "markdown",
		   "metadata": {},
		   "source": [
			"## Example 4.21: To_find_various_parameters.sce"
		   ]
		  },
  {
"cell_type": "code",
	   "execution_count": null,
	   "metadata": {
	    "collapsed": true
	   },
	   "outputs": [],
"source": [
"clc\n",
"r1=0.3        //Assigning values to parameters\n",
"r2=0.01\n",
"x1=1.1\n",
"x2=0.035\n",
"kva=100\n",
"v1=2200\n",
"e1=v1\n",
"n1=400\n",
"n2=80\n",
"k=n2/n1\n",
"r01=r1+r2/(k*k)\n",
"x01=x1+x2/(k*k)\n",
"z01=sqrt(r01*r01+x01*x01)\n",
"e2=k*e1\n",
"i2=kva*1000/e2\n",
"r02=k*k*r01\n",
"x02=k*k*x01\n",
"pr1=(i2*r02*cosd(t)-i2*x02*sind(t))*100/e2\n",
"v2=e2-(e2*pr1/100)\n",
"disp('ohms',z01,'The equivalent primary resistance is')\n",
"disp(pr1,'The percentage voltage regulation at full load 0.8 pf leading is');\n",
"disp('Volts',v2,'The secondary terminal voltage is')"
   ]
   }
,
{
		   "cell_type": "markdown",
		   "metadata": {},
		   "source": [
			"## Example 4.22: To_find_KVA_at_maximum_efficiency.sce"
		   ]
		  },
  {
"cell_type": "code",
	   "execution_count": null,
	   "metadata": {
	    "collapsed": true
	   },
	   "outputs": [],
"source": [
"clc\n",
"E2=20;         //Assigning values to parameters\n",
"E1=1000;\n",
"kva=5;\n",
"I2=kva*1000/E2;\n",
"K=E2/E1;\n",
"R01=4.4\n",
"R02=K*K*R01;\n",
"X01=8.98\n",
"X02=K*K*X01;\n",
"pf=0.8\n",
"percentreg=(I2*R02*pf+I2*X02*sqrt(1-pf*pf))*100/E2;\n",
"disp(percentreg,'Percentage maximum regulation')\n",
"wi=90\n",
"I1=kva*1000/E1\n",
"Wcf=I1*I1*R01\n",
"kvam=kva*sqrt(wi/Wcf)\n",
"disp(kvam,'kva at maximum Efficency is')"
   ]
   }
,
{
		   "cell_type": "markdown",
		   "metadata": {},
		   "source": [
			"## Example 4.23: To_find_secondary_voltage.sce"
		   ]
		  },
  {
"cell_type": "code",
	   "execution_count": null,
	   "metadata": {
	    "collapsed": true
	   },
	   "outputs": [],
"source": [
"clc\n",
"v1=200                   //Assigning values to parameters\n",
"i0=0.7\n",
"w=70\n",
"k=400/200\n",
"t=acosd(w/(v1*i0))\n",
"iw=i0*cosd(t)\n",
"iu=i0*sind(t)\n",
"r0=v1/iw\n",
"x0=v1/iu\n",
"vsc=15\n",
"i2=10\n",
"w=85\n",
"r02=w/(i2*i2)\n",
"z02=vsc/i2\n",
"x02=sqrt(z02*z02-r02*r02)\n",
"r01=r02/(k*k)\n",
"x01=x02/(k*k)\n",
"e2=400\n",
"i2=5*1000/(0.8*e2)\n",
"v2=e2-i2*r02*cosd(t)-i2*x02*sind(t)\n",
"disp('Volts',v2,'The secondary Voltage is')"
   ]
   }
,
{
		   "cell_type": "markdown",
		   "metadata": {},
		   "source": [
			"## Example 4.24: To_find_various_parameters.sce"
		   ]
		  },
  {
"cell_type": "code",
	   "execution_count": null,
	   "metadata": {
	    "collapsed": true
	   },
	   "outputs": [],
"source": [
"clc\n",
"wi=1000                //Assigning values to parameters\n",
"kva=50\n",
"e1=2200\n",
"ifl=kva*1000/e1\n",
"x=1\n",
"pf=0.8\n",
"wcf=(ifl/20)*(ifl/20)*500\n",
"n1=x*kva*pf*100/((x*kva*pf)+(wi*0.001)+(x*x*wcf*0.001))\n",
"x=sqrt(wi/wcf)\n",
"n2=x*kva*pf*100/((x*kva*pf)+(2*wi*0.001))\n",
"disp(n1,'Efficiency at full node 0.8pf is')\n",
"disp(n2,'Maximum Efficency is')\n",
"disp(x,'Load  at which maximum occurs is')"
   ]
   }
,
{
		   "cell_type": "markdown",
		   "metadata": {},
		   "source": [
			"## Example 4.25: To_find_percentage_regulation.sce"
		   ]
		  },
  {
"cell_type": "code",
	   "execution_count": null,
	   "metadata": {
	    "collapsed": true
	   },
	   "outputs": [],
"source": [
"clc\n",
"kva=5                //Assigning values to parameters\n",
"e2=400\n",
"r02=0.85\n",
"x02=1.236\n",
"i2f=kva*1000/e2\n",
"t=acosd(0.8)\n",
"pr1=(i2f*r02*cosd(t)+i2f*x02*sind(t))*100/e2\n",
"pr2=(i2f*r02*cosd(t)-i2f*x02*sind(t))*100/e2\n",
"disp(pr1,'The percentage regulation at full load 0.8 pf lagging is');\n",
"disp(pr2,'The percentage regulation at full load 0.8 pf leading is');"
   ]
   }
,
{
		   "cell_type": "markdown",
		   "metadata": {},
		   "source": [
			"## Example 4.26: To_find_efficiency.sce"
		   ]
		  },
  {
"cell_type": "code",
	   "execution_count": null,
	   "metadata": {
	    "collapsed": true
	   },
	   "outputs": [],
"source": [
"clc\n",
"cl=(10/12)*(10/12)*100          //Assigning values to parameters\n",
"op=500*10*0.8\n",
"il=80\n",
"eff=op*100/(op+il+cl)\n",
"disp(eff,'The efficiency is')"
   ]
   }
,
{
		   "cell_type": "markdown",
		   "metadata": {},
		   "source": [
			"## Example 4.27: To_find_efficiency.sce"
		   ]
		  },
  {
"cell_type": "code",
	   "execution_count": null,
	   "metadata": {
	    "collapsed": true
	   },
	   "outputs": [],
"source": [
"clc\n",
"kw=15          //Assigning values to parameters\n",
"t=acosd(0.8)\n",
"kva=kw/cosd(t)\n",
"x=kva/25\n",
"wcf=500\n",
"cl1=0.75*0.75*wcf\n",
"kw=20\n",
"t=acosd(0.9)\n",
"kva=kw/cosd(t)\n",
"x=kva/25\n",
"cl2=x*x*500\n",
"kw=10\n",
"t=acosd(0.9)\n",
"kva=kw/cosd(t)\n",
"x=kva/25\n",
"cl3=x*x*500\n",
"tec=cl1*6+cl2*10+cl3*4\n",
"tei=400*24\n",
"eo=330000\n",
"n=eo*100/(eo+tei+tec)\n",
"disp(n,'The efficiency is')"
   ]
   }
,
{
		   "cell_type": "markdown",
		   "metadata": {},
		   "source": [
			"## Example 4.28: To_find_efficiency.sce"
		   ]
		  },
  {
"cell_type": "code",
	   "execution_count": null,
	   "metadata": {
	    "collapsed": true
	   },
	   "outputs": [],
"source": [
"clc\n",
"kw=400          //Assigning values to parameters\n",
"pf=0.8\n",
"kva=kw/pf\n",
"cl1=4.5\n",
"kw=300\n",
"pf=0.75\n",
"kva=kw/pf\n",
"cl2=(kva/500)*(kva/500)*4.5\n",
"kw=400\n",
"pf=0.8\n",
"kva=kw/pf\n",
"cl3=(kva/500)*(kva/500)*4.5\n",
"tec=cl1*6+cl2*10+cl3*4\n",
"tei=84\n",
"eo=5800\n",
"n=eo*100/(eo+tei+tec)\n",
"disp(n,'The efficiency is')"
   ]
   }
,
{
		   "cell_type": "markdown",
		   "metadata": {},
		   "source": [
			"## Example 4.29: To_find_efficiency.sce"
		   ]
		  },
  {
"cell_type": "code",
	   "execution_count": null,
	   "metadata": {
	    "collapsed": true
	   },
	   "outputs": [],
"source": [
"clc\n",
"nm=0.98          //Assigning values to parameters\n",
"kva=15\n",
"x=1\n",
"pf=1\n",
"wi=((x*kva*pf/nm)/2-(x*kva*pf)/2)\n",
"wcu=wi\n",
"kw=2\n",
"pf=0.5\n",
"kva=kw/pf\n",
"cl1=(kva/15)*(kva/15)*wi\n",
"kw=12\n",
"pf=0.8\n",
"kva=kw/pf\n",
"cl2=0.153\n",
"kw=18\n",
"pf=0.9\n",
"kva=kw/pf\n",
"cl3=(kva/15)*(kva/15)*wi\n",
"tec=cl1*12+cl2*6+cl3*6\n",
"tei=3.672\n",
"eo=204\n",
"n=eo*100/(eo+tei+tec)\n",
"disp(n,'The efficiency is')"
   ]
   }
,
{
		   "cell_type": "markdown",
		   "metadata": {},
		   "source": [
			"## Example 4.2: To_determine_various_parameters.sce"
		   ]
		  },
  {
"cell_type": "code",
	   "execution_count": null,
	   "metadata": {
	    "collapsed": true
	   },
	   "outputs": [],
"source": [
"clc\n",
"e1=3200         //Assigning values to parameters\n",
"f=50\n",
"bm=1.2\n",
"e2=400\n",
"n2=111\n",
"kva=80\n",
"n1=e1*n2/e2\n",
"i2=kva*1000/e2\n",
"a=e2/(4.44*f*n2*bm)\n",
"disp(n1,'number of turns on primary windings is');\n",
"disp('Amperes',i2,'The secondary full load current is');\n",
"disp('meter square',a,'The cross-sectional area is');"
   ]
   }
,
{
		   "cell_type": "markdown",
		   "metadata": {},
		   "source": [
			"## Example 4.30: To_find_efficiency.sce"
		   ]
		  },
  {
"cell_type": "code",
	   "execution_count": null,
	   "metadata": {
	    "collapsed": true
	   },
	   "outputs": [],
"source": [
"clc\n",
"cl1=1.5          //Assigning values to parameters\n",
"cl2=0.5*0.5*cl1\n",
"tec=cl1*3+cl2*4\n",
"tei=36\n",
"eo=500\n",
"n=eo*100/(eo+tei+tec)\n",
"disp(n,'The efficiency is')"
   ]
   }
,
{
		   "cell_type": "markdown",
		   "metadata": {},
		   "source": [
			"## Example 4.3: To_find_the_number_of_turns.sce"
		   ]
		  },
  {
"cell_type": "code",
	   "execution_count": null,
	   "metadata": {
	    "collapsed": true
	   },
	   "outputs": [],
"source": [
"clc\n",
"e1=6000        //Assigning values to parameters\n",
"f=50\n",
"e2=250\n",
"fm=0.06\n",
"n1=e1/(4.44*f*fm)\n",
"n2=e2/(4.44*f*fm)\n",
"disp(n1,'number of turns on primary windings is');\n",
"disp(n2,'number of turns on secondary windings is');"
   ]
   }
,
{
		   "cell_type": "markdown",
		   "metadata": {},
		   "source": [
			"## Example 4.4: To_determine_various_parameters.sce"
		   ]
		  },
  {
"cell_type": "code",
	   "execution_count": null,
	   "metadata": {
	    "collapsed": true
	   },
	   "outputs": [],
"source": [
"clc\n",
"n2=50               //Assigning values to parameters\n",
"n1=500\n",
"kva=25\n",
"e1=3000\n",
"k=n2/n1\n",
"i1=kva*1000/e1\n",
"i2=i1/k\n",
"e2=k*e1\n",
"fm=e1/(4.44*f*n1)\n",
"disp('Amperes',i1,'The primary full load current is');\n",
"disp('Amperes',i2,'The secondary full load current is');\n",
"disp('Volts',e2,'The secondary emf is');\n",
"disp('Wb',fm,'The maximum flux is');"
   ]
   }
,
{
		   "cell_type": "markdown",
		   "metadata": {},
		   "source": [
			"## Example 4.5: To_find_maximum_value_of_flux_and_core_loss_and_magnetiizing_current.sce"
		   ]
		  },
  {
"cell_type": "code",
	   "execution_count": null,
	   "metadata": {
	    "collapsed": true
	   },
	   "outputs": [],
"source": [
"clc\n",
"e1=230           //Assigning values to parameters\n",
"v1=e1\n",
"i0=5\n",
"t=acosd(0.25)\n",
"n1=200\n",
"f=50\n",
"fm=e1/(4.44*f*n1)\n",
"w1=v1*i0*cosd(t)\n",
"iu=i0*sind(t)\n",
"disp('Wb',fm,'The maximum flux is');\n",
"disp('Watts',w1,'The core loss is');\n",
"disp('Amperes',iu,'The maximum current is');"
   ]
   }
,
{
		   "cell_type": "markdown",
		   "metadata": {},
		   "source": [
			"## Example 4.6: To_find_value_of_resistance_referred_to_primary.sce"
		   ]
		  },
  {
"cell_type": "code",
	   "execution_count": null,
	   "metadata": {
	    "collapsed": true
	   },
	   "outputs": [],
"source": [
"clc\n",
"k=0.25          //Assigning values to parameters\n",
"sr=50\n",
"pr=sr/(k*k)\n",
"disp('ohms',pr,'The Secondary resistance is')"
   ]
   }
,
{
		   "cell_type": "markdown",
		   "metadata": {},
		   "source": [
			"## Example 4.9: To_find_copper_loss_at_half_load_and_60_percent_full_load_condition.sce"
		   ]
		  },
  {
"cell_type": "code",
	   "execution_count": null,
	   "metadata": {
	    "collapsed": true
	   },
	   "outputs": [],
"source": [
"clc\n",
"wf=2500        //Assigning values to parameters\n",
"w6=0.6*0.6*wf\n",
"w5=0.5*0.5*wf\n",
"disp('Watts',w6,'The copper loss at 60% full-load condition is');\n",
"disp('Watts',w5,'The copper loss at 50% full-load conditionis');"
   ]
   }
],
"metadata": {
		  "kernelspec": {
		   "display_name": "Scilab",
		   "language": "scilab",
		   "name": "scilab"
		  },
		  "language_info": {
		   "file_extension": ".sce",
		   "help_links": [
			{
			 "text": "MetaKernel Magics",
			 "url": "https://github.com/calysto/metakernel/blob/master/metakernel/magics/README.md"
			}
		   ],
		   "mimetype": "text/x-octave",
		   "name": "scilab",
		   "version": "0.7.1"
		  }
		 },
		 "nbformat": 4,
		 "nbformat_minor": 0
}
