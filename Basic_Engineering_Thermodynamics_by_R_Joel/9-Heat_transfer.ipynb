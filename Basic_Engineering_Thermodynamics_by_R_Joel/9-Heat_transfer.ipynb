{
"cells": [
 {
		   "cell_type": "markdown",
	   "metadata": {},
	   "source": [
       "# Chapter 9: Heat transfer"
	   ]
	},
{
		   "cell_type": "markdown",
		   "metadata": {},
		   "source": [
			"## Example 9.1: interface_temperature.sce"
		   ]
		  },
  {
"cell_type": "code",
	   "execution_count": null,
	   "metadata": {
	    "collapsed": true
	   },
	   "outputs": [],
"source": [
"clear;\n",
"clc;\n",
"disp('Example 9.1');\n",
"\n",
"//  aim : To determine \n",
"//  the heat loss per hour through the wall and interface temperature\n",
"\n",
"//  Given values\n",
"x1 = .25;// thickness of brick,[m]\n",
"x2 = .05;// thickness of concrete,[m]\n",
"t1 = 30;// brick face temperature,[C]\n",
"t3 = 5;// concrete face temperature,[C]\n",
"l = 10;// length of the wall, [m]\n",
"h = 5;// height of the wall, [m]\n",
"k1 = .69;// thermal conductivity of brick,[W/m/K]\n",
"k2 = .93;// thermal conductivity of concrete,[W/m/K]\n",
"\n",
"//  solution\n",
"A = l*h;// area of heat transfer,[m^2]\n",
"Q_dot = A*(t1-t3)/(x1/k1+x2/k2);// heat transferred, [J/s]\n",
"\n",
"//  so heat loss per hour is\n",
"Q = Q_dot*3600*10^-3;// [kJ]\n",
"mprintf('\n The heat lost per hour is  =  %f  kJ\n',Q);\n",
"\n",
"//  interface temperature calculation\n",
"//   for  the brick wall, Q_dot=k1*A*(t1-t2)/x1;\n",
"//  hence\n",
"t2 = t1-Q_dot*x1/k1/A;// [C]\n",
"mprintf('\n The interface temperature is  =  %f C\n',t2);\n",
"\n",
"//  End"
   ]
   }
,
{
		   "cell_type": "markdown",
		   "metadata": {},
		   "source": [
			"## Example 9.2: thickness_of_lagging.sce"
		   ]
		  },
  {
"cell_type": "code",
	   "execution_count": null,
	   "metadata": {
	    "collapsed": true
	   },
	   "outputs": [],
"source": [
"clear;\n",
"clc;\n",
"disp('Example 9.2');\n",
"\n",
"//  aim : To determine\n",
"//  the minimum \n",
"//  thickness of the lagging required\n",
"\n",
"//  Given values\n",
"r1 = 75/2;// external radious of the pipe,[mm]\n",
"L = 80;// length of the pipe,[m]\n",
"m_dot = 1000;// flow of steam, [kg/h]\n",
"P = 2;// pressure, [MN/m^2]\n",
"x1 = .98;// inlet dryness fraction\n",
"x2 = .96;// outlet dryness fraction\n",
"k = .08;// thermal conductivity of of pipe, [W/m/K]\n",
"t2 = 27;// outside temperature,[C]\n",
"\n",
"//  solution\n",
"//  using steam table  at 2 MN/m^2 the enthalpy of evaporation of steam is,\n",
"hfg = 1888.6;// [kJ/kg]\n",
"//  so heat loss through the pipe is\n",
"Q_dot = m_dot*(x1-x2)*hfg/3600;// [kJ]\n",
"\n",
"// also from steam table saturation temperature of steam at 2 MN/m^2 is,\n",
"t1 = 212.4;// [C]\n",
"// and for thick pipe, Q_dot=k*2*%pi*L*(t1-t2)/log(r2/r1)\n",
"// hence\n",
"r2 = r1*exp(k*2*%pi*L*(t1-t2)*10^-3/Q_dot);// [mm]\n",
"\n",
"t = r2-r1;// thickness, [mm]\n",
"\n",
"mprintf('\n The minimum thickness of the lagging required is  =  %f  mm\n',t);\n",
"\n",
"//  End"
   ]
   }
,
{
		   "cell_type": "markdown",
		   "metadata": {},
		   "source": [
			"## Example 9.3: heat_lost_and_interface_temperature.sce"
		   ]
		  },
  {
"cell_type": "code",
	   "execution_count": null,
	   "metadata": {
	    "collapsed": true
	   },
	   "outputs": [],
"source": [
"clear;\n",
"clc;\n",
"disp('Example 9.3');\n",
"\n",
"//  aim : To determine the\n",
"//  (a) heat loss per hour\n",
"//   (b) interface temperature og lagging\n",
"\n",
"// Given values\n",
"r1 = 50; // radious of steam main,[mm]\n",
"r2 = 90;// radious with first lagging,[mm]\n",
"r3 = 115;// outside radious os steam main with lagging,[mm]\n",
"k1 = .07;// thermal conductivity of 1st lagging,[W/m/K]\n",
"k2 = .1;// thermal conductivity of 2nd lagging, [W/m/K]\n",
"P = 1.7;// steam pressure,[MN/m^2]\n",
"t_superheat = 30;// superheat of steam, [K]\n",
"t3 = 24;// outside temperature of the lagging,[C]\n",
"L = 20;// length of the steam main,[m]\n",
"\n",
"//  solution\n",
"//  (a)\n",
"//  using steam table saturation temperature of steam at 1.7 MN/m^2 is\n",
"t_sat = 204.3;// [C]\n",
"// hence\n",
"t1 = t_sat+t_superheat;// temperature of steam,[C]\n",
"\n",
"Q_dot = 2*%pi*L*(t1-t3)/(log(r2/r1)/k1+log(r3/r2)/k2);// heat loss,[W]\n",
"//  heat loss in hour is\n",
"Q = Q_dot*3600*10^-3;// [kJ]\n",
"\n",
"mprintf('\n (a) The heat lost per hour is  =  %f kJ\n',Q);\n",
"\n",
"// (b)\n",
"//  using Q_dot=2*%pi*k1*(t1-t1)/log(r2/r1) \n",
"t2 = t1-Q_dot*log(r2/r1)/(2*%pi*k1*L);// interface temperature of lagging,[C]\n",
"\n",
"mprintf('\n (b) The interface temperature of the lagging is  =  %f C\n',t2);\n",
"\n",
"//  There is some calculation mistake in the book so answer is not matching\n",
"\n",
"//  End"
   ]
   }
,
{
		   "cell_type": "markdown",
		   "metadata": {},
		   "source": [
			"## Example 9.4: energy_emitted.sce"
		   ]
		  },
  {
"cell_type": "code",
	   "execution_count": null,
	   "metadata": {
	    "collapsed": true
	   },
	   "outputs": [],
"source": [
"clear;\n",
"clc;\n",
"disp('Example 9.4');\n",
"\n",
"// aim : To determine \n",
"//  the energy emetted from the surface\n",
"\n",
"//  Given values\n",
"h = 3;// height of surface, [m]\n",
"b = 4;// width of surface, [m]\n",
"epsilon_s = .9;// emissivity of the surface\n",
"T = 273+600;// surface temperature ,[K]\n",
"sigma = 5.67*10^-8;// [W/m^2/K^4]\n",
"\n",
"//  solution\n",
"As = h*b;// area of the surface, [m^2]\n",
"\n",
"Q_dot = epsilon_s*sigma*As*T^4*10^-3;// energy emitted, [kW]\n",
"\n",
"mprintf('\n The energy emitted from the surface is  =  %f  kW\n',Q_dot);\n",
"\n",
"//  End"
   ]
   }
,
{
		   "cell_type": "markdown",
		   "metadata": {},
		   "source": [
			"## Example 9.5: Rate_of_heat_transfer.sce"
		   ]
		  },
  {
"cell_type": "code",
	   "execution_count": null,
	   "metadata": {
	    "collapsed": true
	   },
	   "outputs": [],
"source": [
"clear;\n",
"clc;\n",
"disp('Example 9.5');\n",
"\n",
"//  aim : To determine \n",
"//  the rate of energy transfer between furnace and the sphere and its direction\n",
"\n",
"//  Given values\n",
"l = 1.25;// internal side of cubical furnace, [m]\n",
"ti = 800+273;// internal surface temperature of the furnace,[K]\n",
"r = .2;// sphere radious, [m]\n",
"epsilon = .6;// emissivity of sphere\n",
"ts = 300+273;// surface temperature of sphere, [K]\n",
"sigma = 5.67*10^-8;// [W/m^2/K^4]\n",
"\n",
"//  Solution\n",
"Af = 6*l^2;// internal surface area of furnace, [m^2]\n",
"As =4 *%pi*r^2;// surface area of sphere, [m^2]\n",
"\n",
"//  considering internal furnace to be black\n",
"Qf = sigma*Af*ti^4*10^-3;// [kW]\n",
"\n",
"//  radiation emitted by sphere is\n",
"Qs = epsilon*sigma*As*ts^4*10^-3; // [kW]\n",
"\n",
"//  Hence transfer of energy is\n",
"Q = Qf-Qs;// [kW]\n",
"\n",
"mprintf('\n The transfer of energy will be from furnace to sphere and transfer rate is  =  %f kW\n',Q);\n",
"\n",
"//   There is some calculation mistake in the book so answer is not matching\n",
"\n",
"//  End\n",
""
   ]
   }
,
{
		   "cell_type": "markdown",
		   "metadata": {},
		   "source": [
			"## Example 9.6: overall_heat_transfer_coefficient_and_heat_lost.sce"
		   ]
		  },
  {
"cell_type": "code",
	   "execution_count": null,
	   "metadata": {
	    "collapsed": true
	   },
	   "outputs": [],
"source": [
"clear;\n",
"clc;\n",
"disp('Example 9.6');\n",
"\n",
"//  aim : To determine\n",
"//  the overall transfer coefficient and the heat loss per hour\n",
"\n",
"//  Given values\n",
"x1 = 25*10^-3;// Thickness of insulating board, [m]\n",
"x2 = 75*10^-3;// Thickness of fibreglass, [m]\n",
"x3 = 110*10^-3;// Thickness of brickwork, [m]\n",
"k1 = .06;// Thermal conductivity of insulating board, [W/m K]\n",
"k2 = .04;// Thermal conductivity of fibreglass, [W/m K]\n",
"k3 = .6;// Thermal conductivity of brickwork, [W/m K]\n",
"Us1 = 2.5;//  surface heat transfer coefficient of the inside wall,[W/m^2 K]\n",
"Us2 = 3.1;//  surface heat transfer coefficient of the outside wall,[W/m^2 K]\n",
"ta1 = 27;// internal ambient temperature, [C]\n",
"ta2 = 10;// external ambient temperature, [C]\n",
"h = 6;// height of the wall, [m]\n",
"l = 10;// length of the wall, [m]\n",
"\n",
"//  solution\n",
"U = 1/(1/Us1+x1/k1+x2/k2+x3/k3+1/Us2);// overall heta transfer coefficient,[W/m^2 K]\n",
"\n",
"A = l*h;// area ,[m^2]\n",
"\n",
"Q_dot = U*A*(ta1-ta2);// heat loss [W]\n",
"\n",
"//  so heat loss per hour is\n",
"Q = Q_dot*3600*10^-3;// [kJ]\n",
"mprintf('\n The overall heat transfer coefficient for the wall is   =  %f  W/m^2 K\n',U);\n",
"mprintf('\n The heat loss per hour through the wall is  =  %f kJ\n',Q);\n",
"\n",
"//  End"
   ]
   }
,
{
		   "cell_type": "markdown",
		   "metadata": {},
		   "source": [
			"## Example 9.7: heat_lost_and_surafce_temperature_of_lagging.sce"
		   ]
		  },
  {
"cell_type": "code",
	   "execution_count": null,
	   "metadata": {
	    "collapsed": true
	   },
	   "outputs": [],
"source": [
"clear;\n",
"clc;\n",
"disp('Example 9.7');\n",
"\n",
"//  aim : To determine  \n",
"//  the heat loss per hour and the surface temperature of the lagging\n",
"\n",
"//  Given values\n",
"r1 = 75*10^-3;// External radiou of the pipe, [m]\n",
"t_l1 = 40*10^-3;// Thickness of lagging1, [m]\n",
"t_l2 = t_l1;\n",
"k1 = .07;// thermal conductivity of lagging1, [W/m K]\n",
"k2 = .1;// thermal conductivity of lagging2, [W/m K]\n",
"Us = 7;// surface transfer coefficient for outer surface, [W/m^2 K]\n",
"L = 50;// length of the pipe, [m]\n",
"ta = 27;// ambient temperature, [C]\n",
"P = 3.6;// wet steam pressure, [MN/m^2]\n",
"\n",
"//  solution\n",
"//  from steam table saturation temperature of the steam at given pressure is,\n",
"t1 =  244.2;// [C]\n",
"r2 = r1+t_l1;// radious of pipe with lagging1,[m]\n",
"r3 = r2+t_l2;// radious of pipe with both the lagging, [m]\n",
"\n",
"R1 = log(r2/r1)/(2*%pi*L*k1);// resistance due to lagging1,[C/W]\n",
"R2 = log(r3/r2)/(2*%pi*L*k2);// resistance due to lagging2,[C/W]\n",
"R3 = 1/(Us*2*%pi*r3*L);// ambient resistance, [C/W]\n",
"\n",
"//  hence overall resistance is,\n",
"Req = R1+R2+R3;// [C/W]\n",
"tdf = t1-ta;// temperature driving force, [C]\n",
"Q_dot = tdf/Req;// rate of heat loss, [W]\n",
"//  so heat loss per hour is,\n",
"Q = Q_dot*3600*10^-3;// heat loss per hour, [kJ]\n",
"\n",
"//  using eqn [3]\n",
"t3 = ta+Q_dot*R3;// surface temperature of the lagging, [C]\n",
"\n",
"mprintf('\n The heat loss per hour is  =  %f  kJ\n',Q);\n",
"mprintf('\n The surface temperature of the lagging is  =  %f C\n',t3);\n",
"\n",
"//  there is minor variation in the answer\n",
"\n",
"//  End"
   ]
   }
],
"metadata": {
		  "kernelspec": {
		   "display_name": "Scilab",
		   "language": "scilab",
		   "name": "scilab"
		  },
		  "language_info": {
		   "file_extension": ".sce",
		   "help_links": [
			{
			 "text": "MetaKernel Magics",
			 "url": "https://github.com/calysto/metakernel/blob/master/metakernel/magics/README.md"
			}
		   ],
		   "mimetype": "text/x-octave",
		   "name": "scilab",
		   "version": "0.7.1"
		  }
		 },
		 "nbformat": 4,
		 "nbformat_minor": 0
}
