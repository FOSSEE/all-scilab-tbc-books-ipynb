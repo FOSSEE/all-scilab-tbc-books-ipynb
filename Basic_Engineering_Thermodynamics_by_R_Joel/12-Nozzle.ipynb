{
"cells": [
 {
		   "cell_type": "markdown",
	   "metadata": {},
	   "source": [
       "# Chapter 12: Nozzle"
	   ]
	},
{
		   "cell_type": "markdown",
		   "metadata": {},
		   "source": [
			"## Example 12.1: area_and_Mach_number.sce"
		   ]
		  },
  {
"cell_type": "code",
	   "execution_count": null,
	   "metadata": {
	    "collapsed": true
	   },
	   "outputs": [],
"source": [
"clear;\n",
"clc;\n",
"disp('Example 12.1');\n",
"\n",
"//  aim : To determine the\n",
"//  (a) throat area\n",
"//   (b) exit area\n",
"//   (c) Mach number at exit\n",
"\n",
"// Given values\n",
"P1 = 3.5;// inlet pressure of air, [MN/m^2]\n",
"T1 = 273+500;// inlet temperature of air, [MN/m^2]\n",
"P2 = .7;// exit pressure, [MN/m^2]\n",
"m_dot = 1.3;// flow rate of air, [kg/s]\n",
"Gamma = 1.4;// heat capacity ratio\n",
"R = .287;// [kJ/kg K]\n",
"\n",
"// solution\n",
"// given expansion may be considered to be adiabatic and to follow the law PV^Gamma=constant\n",
"// using ideal gas law\n",
"v1 = R*T1/P1*10^-3;// [m^3/kg]\n",
"Pt = P1*(2/(Gamma+1))^(Gamma/(Gamma-1));// critical pressure, [MN/m^2]\n",
"\n",
"//  velocity at throat is\n",
"Ct = sqrt(2*Gamma/(Gamma-1)*P1*10^6*v1*(1-(Pt/P1)^(((Gamma-1)/Gamma))));// [m/s]\n",
"vt = v1*(P1/Pt)^(1/Gamma);// [m^3/kg]\n",
"// using m_dot/At=Ct/vt\n",
"At = m_dot*vt/Ct*10^6;// throat area, [mm^2]\n",
"mprintf('\n (a) The throat area is  =  %f mm^2\n',At);\n",
"\n",
"// (b)\n",
"//  at exit\n",
"C2 = sqrt(2*Gamma/(Gamma-1)*P1*10^6*v1*(1-(P2/P1)^(((Gamma-1)/Gamma))));// [m/s]\n",
"v2 = v1*(P1/P2)^(1/Gamma);// [m^3/kg]\n",
"A2 = m_dot*v2/C2*10^6;// exit area, [mm^2]\n",
"\n",
"mprintf('\n (b) The exit area is  =  %f  mm^2\n',A2);\n",
"\n",
"//  (c)\n",
"M = C2/Ct;\n",
"mprintf('\n (c) The Mach number at exit is  =  %f\n',M);\n",
"\n",
"//  End"
   ]
   }
,
{
		   "cell_type": "markdown",
		   "metadata": {},
		   "source": [
			"## Example 12.2: increases_in_pressure_temperature_and_internal_energy.sce"
		   ]
		  },
  {
"cell_type": "code",
	   "execution_count": null,
	   "metadata": {
	    "collapsed": true
	   },
	   "outputs": [],
"source": [
"clear;\n",
"clc;\n",
"disp('Example 12.2');\n",
"\n",
"//  aim : To determine the increases in pressure, temperature and internal energy per kg of air\n",
"\n",
"//  Given values\n",
"T1 = 273;// [K]\n",
"P1 = 140;// [kN/m^2]\n",
"C1 = 900;// [m/s]\n",
"C2 = 300;// [m/s]\n",
"cp = 1.006;// [kJ/kg K]\n",
"cv =.717;// [kJ/kg K]\n",
"\n",
"// solution\n",
"R = cp-cv;// [kJ/kg K]\n",
"Gamma = cp/cv;// heat capacity ratio\n",
"//  for frictionless adiabatic flow, (C2^2-C1^2)/2=Gamma/(Gamma-1)*R*(T1-T2)\n",
"\n",
"T2 =T1-((C2^2-C1^2)*(Gamma-1)/(2*Gamma*R))*10^-3; //  [K]\n",
"T_inc = T2-T1;// increase in temperature [K]\n",
"\n",
"P2 = P1*(T2/T1)^(Gamma/(Gamma-1));// [MN/m^2]\n",
"P_inc = (P2-P1)*10^-3;// increase in pressure,[MN/m^2]\n",
"\n",
"U_inc = cv*(T2-T1);//  Increase in internal energy per kg,[kJ/kg]\n",
"mprintf('\n The increase in pressure is  =  %f  MN/m^2\n',P_inc);\n",
"mprintf('\n Increase in temperature is  =  %f  K\n',T_inc);\n",
"mprintf('\n Increase in internal energy is  =   %f  kJ/kg\n',U_inc);\n",
"\n",
"// there is minor variation in result\n",
"\n",
"//  End"
   ]
   }
,
{
		   "cell_type": "markdown",
		   "metadata": {},
		   "source": [
			"## Example 12.3: throat_area_and_degree_of_undercooling.sce"
		   ]
		  },
  {
"cell_type": "code",
	   "execution_count": null,
	   "metadata": {
	    "collapsed": true
	   },
	   "outputs": [],
"source": [
"clear;\n",
"clc;\n",
"disp('Example 12.3');\n",
"\n",
"// aim : To determine the \n",
"//  (a) throat and exit areas\n",
"//   (b) degree of undercooling at exit\n",
"// Given values\n",
"P1 = 2;// inlet pressure of air, [MN/m^2]\n",
"T1 = 273+325;// inlet temperature of air, [MN/m^2]\n",
"P2 = .36;// exit pressure, [MN/m^2]\n",
"m_dot = 7.5;// flow rate of air, [kg/s]\n",
"n = 1.3;// polytropic index\n",
"\n",
"// solution\n",
"// (a)\n",
"//  using steam table\n",
"v1 = .132;// [m^3/kg]\n",
"// given expansion following law PV^n=constant\n",
"\n",
"Pt = P1*(2/(n+1))^(n/(n-1));// critical pressure, [MN/m^2]\n",
"\n",
"//velocity at throat is\n",
"Ct = sqrt(2*n/(n-1)*P1*10^6*v1*(1-(Pt/P1)^(((n-1)/n))));// [m/s]\n",
"vt = v1*(P1/Pt)^(1/n);// [m^3/kg]\n",
"// using m_dot/At=Ct/vt\n",
"At = m_dot*vt/Ct*10^6;// throat area, [mm^2]\n",
"mprintf('\n (a) The throat area is =  %f  mm^2\n',At);\n",
"\n",
"// at exit\n",
"C2 = sqrt(2*n/(n-1)*P1*10^6*v1*(1-(P2/P1)^(((n-1)/n))));// [m/s]\n",
"v2 = v1*(P1/P2)^(1/n);// [m^3/kg]\n",
"A2 = m_dot*v2/C2*10^6;// exit area, [mm^2]\n",
"\n",
"mprintf('\n      The exit area is  =  %f  mm^2\n',A2);\n",
"\n",
"//  (b)\n",
"T2 = T1*(P2/P1)^((n-1)/n);//outlet temperature, [K]\n",
"t2 = T2-273;//[C]\n",
"//  at exit pressure saturation temperature is\n",
"ts = 139.9;// saturation temperature,[C]\n",
"Doc = ts-t2;// Degree of undercooling,[C]\n",
"mprintf('\n (b) The Degree of undercooling at exit is  =  %f C\n',Doc);\n",
"\n",
"// There is some calculation mistake in the book so answer is not matching\n",
"\n",
"//  End"
   ]
   }
,
{
		   "cell_type": "markdown",
		   "metadata": {},
		   "source": [
			"## Example 12.4: velocities_and_areas.sce"
		   ]
		  },
  {
"cell_type": "code",
	   "execution_count": null,
	   "metadata": {
	    "collapsed": true
	   },
	   "outputs": [],
"source": [
"clear;\n",
"clc;\n",
"disp('Example 12.4');\n",
"\n",
"// aim : To determine the \n",
"//  (a) throat and exit velocities\n",
"//  (b) throat and exit areas\n",
"\n",
"// Given values\n",
"P1 = 2.2;// inlet pressure, [MN/m^2]\n",
"T1 = 273+260;// inlet temperature, [K]\n",
"P2 = .4;// exit pressure,[MN/m^2]\n",
"eff = .85;// efficiency of the nozzle after throat\n",
"m_dot = 11;// steam flow rate in the nozzle, [kg/s]\n",
"\n",
"// solution\n",
"// (a)\n",
"// assuming steam is following same law as previous question 12.3\n",
"Pt = .546*P1;// critical pressure,[MN/m^2]\n",
"// from Fig. 12.6\n",
"h1 = 2940;// [kJ/kg]\n",
"ht = 2790;// [kJ/kg]\n",
"\n",
"Ct = sqrt(2*(h1-ht)*10^3);// [m/s]\n",
"\n",
"//  again from Fig. 12.6\n",
"h2_prime = 2590;// [kJ/kg]\n",
"// using eff = (ht-h2)/(ht-h2_prime)\n",
"\n",
"h2 = ht-eff*(ht-h2_prime); // [kJ/kg]\n",
"\n",
"C2 = sqrt(2*(h1-h2)*10^3);// [m/s]\n",
"\n",
"// (b)\n",
"// from chart\n",
"vt = .16;// [m^3/kg]\n",
"v2 = .44;// [m^3/kg]\n",
"//  using m_dot*v=A*C\n",
"At = m_dot*vt/Ct*10^6;// throat area, [mm^2]\n",
"\n",
"A2 = m_dot*v2/C2*10^6;// throat area, [mm^2]\n",
"\n",
"mprintf('\n (a) The throat velocity is  =  %f  m/s\n',Ct);\n",
"mprintf('\n      The exit velocity is  =  %f  m/s\n',C2);\n",
"mprintf('\n (b) The throat area is  =  %f  mm^2\n',At);\n",
"mprintf('\n      The throat area is  =  %f  mm^2\n',A2);\n",
"\n",
"//  End"
   ]
   }
],
"metadata": {
		  "kernelspec": {
		   "display_name": "Scilab",
		   "language": "scilab",
		   "name": "scilab"
		  },
		  "language_info": {
		   "file_extension": ".sce",
		   "help_links": [
			{
			 "text": "MetaKernel Magics",
			 "url": "https://github.com/calysto/metakernel/blob/master/metakernel/magics/README.md"
			}
		   ],
		   "mimetype": "text/x-octave",
		   "name": "scilab",
		   "version": "0.7.1"
		  }
		 },
		 "nbformat": 4,
		 "nbformat_minor": 0
}
