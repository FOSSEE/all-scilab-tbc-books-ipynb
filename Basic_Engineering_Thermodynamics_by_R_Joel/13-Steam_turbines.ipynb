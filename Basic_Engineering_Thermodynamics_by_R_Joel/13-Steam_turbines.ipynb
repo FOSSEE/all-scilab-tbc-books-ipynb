{
"cells": [
 {
		   "cell_type": "markdown",
	   "metadata": {},
	   "source": [
       "# Chapter 13: Steam turbines"
	   ]
	},
{
		   "cell_type": "markdown",
		   "metadata": {},
		   "source": [
			"## Example 13.1: power_developed_and_kinetic_energy.sce"
		   ]
		  },
  {
"cell_type": "code",
	   "execution_count": null,
	   "metadata": {
	    "collapsed": true
	   },
	   "outputs": [],
"source": [
"clear;\n",
"clc;\n",
"disp('Example 13.1');\n",
"\n",
"//  aim : To determine \n",
"//  the power developed for a steam flow of 1 kg/s at the blades and the kinetic energy of the steam finally leaving the wheel\n",
"\n",
"//  Given values\n",
"alfa = 20;//  blade angle, [degree]\n",
"Cai = 375;// steam exit velocity in the nozzle,[m/s]\n",
"U = 165;// blade speed, [m/s]\n",
"loss = .15;//  loss of velocity due to friction\n",
"\n",
"//  solution\n",
"//  using Fig13.12,\n",
"Cvw = 320;// change in velocity of whirl, [m/s]\n",
"cae = 132.5;// absolute velocity at exit, [m/s]\n",
"Pds = U*Cvw*10^-3;// Power developed for steam flow of 1 kg/s, [kW]\n",
"Kes = cae^2/2*10^-3;// Kinetic energy change of steam, [kW/kg] \n",
"\n",
"mprintf('\n The power developed for a steam flow of 1 kg/s is  =  %f kW\n',Pds)\n",
"mprintf('\n The energy of steam finally leaving the wheel is  =  %f  kW/kg\n',Kes);\n",
"\n",
"//  End"
   ]
   }
,
{
		   "cell_type": "markdown",
		   "metadata": {},
		   "source": [
			"## Example 13.2: angle_of_blade_work_done_diagram_efficiency_and_end_thrust.sce"
		   ]
		  },
  {
"cell_type": "code",
	   "execution_count": null,
	   "metadata": {
	    "collapsed": true
	   },
	   "outputs": [],
"source": [
"clear;\n",
"clc;\n",
"disp('Example 13.2');\n",
"\n",
"// aim : To determine\n",
"// (a) the entry angle of  the blades\n",
"// (b) the work done per kilogram of steam per second\n",
"// (c) the diagram efficiency\n",
"// (d) the end-thrust per kilogram of steam per second\n",
"\n",
"// given values\n",
"Cai = 600;// steam velocity, [m/s]\n",
"sia = 25;// steam inlet angle with blade, [degree]\n",
"U = 255;// mean blade speed, [m/s]\n",
"sea = 30;// steam exit angle with blade,[degree] \n",
"\n",
"// solution\n",
"// (a)\n",
"// using Fig.13.13(diagram for example 13.2)\n",
"eab = 41.5;// entry angle of blades, [degree]\n",
"mprintf('\n (a) The angle of blades is  =  %f  degree\n',eab);\n",
"\n",
"// (b)\n",
"Cwi_plus_Cwe = 590;// velocity of whirl, [m/s]\n",
"W = U*(Cwi_plus_Cwe);// work done on the blade,[W/kg]\n",
"mprintf('\n (b) The work done on the blade is  =  %f kW/kg\n',W*10^-3);\n",
"\n",
"// (c)\n",
"De = 2*U*(Cwi_plus_Cwe)/Cai^2;// diagram efficiency \n",
"mprintf('\n (c) The diagram efficiency is  =  %f percent\n',De*100);\n",
"\n",
"// (d)\n",
"// again from the diagram\n",
"Cfe_minus_Cfi = -90;// change invelocity of flow, [m/s]\n",
"Eth = Cfe_minus_Cfi;// end-thrust, [N/kg s]\n",
"mprintf('\n (d) The End-thrust is  =  %f  N/kg',Eth);\n",
"\n",
"//  End"
   ]
   }
,
{
		   "cell_type": "markdown",
		   "metadata": {},
		   "source": [
			"## Example 13.3: power_output_and_diagram_efficiency.sce"
		   ]
		  },
  {
"cell_type": "code",
	   "execution_count": null,
	   "metadata": {
	    "collapsed": true
	   },
	   "outputs": [],
"source": [
"clear;\n",
"clc;\n",
"disp('Example 13.3');\n",
"\n",
"// aim : To determine\n",
"// (a) the power output of the turbine\n",
"// (b) the diagram efficiency\n",
"\n",
"// given values\n",
"U = 150;// mean blade speed, [m/s]\n",
"Cai1 = 675;// nozzle speed, [m/s]\n",
"na = 20;// nozzle angle, [degree]\n",
"m_dot = 4.5;// steam flow rate, [kg/s]\n",
"\n",
"// solution\n",
"// from Fig. 13.15(diagram 13.3)\n",
"Cw1 = 915;// [m/s]\n",
"Cw2 = 280;// [m/s]\n",
"\n",
"// (a)\n",
"P = m_dot*U*(Cw1+Cw2);// power of turbine,[W]\n",
"mprintf('\n (a) The power of turbine is  =  %f kW\n',P*10^-3);\n",
"\n",
"// (b)\n",
"De = 2*U*(Cw1+Cw2)/Cai1^2;// diagram efficiency\n",
"mprintf('\n (b) The diagram efficiency is  =  %f percent\n',De*100);\n",
"\n",
"//  End"
   ]
   }
,
{
		   "cell_type": "markdown",
		   "metadata": {},
		   "source": [
			"## Example 13.4: power_output_specific_enthalpy_drop_and_increase_in_relative_velocity.sce"
		   ]
		  },
  {
"cell_type": "code",
	   "execution_count": null,
	   "metadata": {
	    "collapsed": true
	   },
	   "outputs": [],
"source": [
"clear;\n",
"clc;\n",
"disp('Example 13.4');\n",
"\n",
"// aim : To determine\n",
"// (a) the power output of the stage\n",
"// (b) the specific enthalpy drop in the stage\n",
"// (c) the percentage increase in relative velocity in the moving blades due to expansion in the bladse\n",
"\n",
"// given values\n",
"N = 50;// speed, [m/s]\n",
"d = 1;// blade ring diameter, [m]\n",
"nai = 50;// nozzle inlet angle, [degree]\n",
"nae = 30;// nozzle exit angle, [degree]\n",
"m_dot = 600000;// steam flow rate, [kg/h]\n",
"se = .85;// stage efficiency\n",
"\n",
"// solution\n",
"// (a)\n",
"U = %pi*d*N;// mean blade speed, [m/s]\n",
"// from Fig. 13.17(diagram 13.4)\n",
"Cwi_plus_Cwe = 444;// change in whirl speed, [m/s]\n",
"P = m_dot*U*Cwi_plus_Cwe/3600;// power output of the stage, [W]\n",
"mprintf('\n (a) The power output of the stage is  =  %f MW\n',P*10^-6);\n",
"\n",
"// (b)\n",
"h = U*Cwi_plus_Cwe/se;// specific enthalpy,[J/kg]\n",
"mprintf('\n (b) The specific enthalpy drop in the stage is  =  %f  kJ/kg\n ',h*10^-3);\n",
"\n",
"// (c)\n",
"// again from diagram\n",
"Cri = 224;// [m/s]\n",
"Cre = 341;// [m/s]\n",
"Iir = (Cre-Cri)/Cri;// increase in relative velocity\n",
"mprintf('\n (c) The increase in relative velocity is  =  %f  percent\n',Iir*100);\n",
"\n",
"//  End"
   ]
   }
,
{
		   "cell_type": "markdown",
		   "metadata": {},
		   "source": [
			"## Example 13.5: blade_height_power_developed_and_specific_enthalpy_drop.sce"
		   ]
		  },
  {
"cell_type": "code",
	   "execution_count": null,
	   "metadata": {
	    "collapsed": true
	   },
	   "outputs": [],
"source": [
"clear;\n",
"clc;\n",
"disp('Example 13.5');\n",
"\n",
"// aim : To determine\n",
"// (a) the blade height of the stage\n",
"// (b) the power developed in the stage\n",
"// (c) the specific enthalpy drop at the stage\n",
"\n",
"// given values\n",
"U = 60;// mean blade speed, [m/s]\n",
"P = 350;// steam pressure, [kN/m^2]\n",
"T = 175;// steam temperature, [C]\n",
"nai = 30;// stage inlet angle, [degree]\n",
"nae = 20;// stage exit angle, [degree] \n",
"\n",
"// solution\n",
"// (a)\n",
"m_dot = 13.5;// steam flow rate, [kg/s]\n",
"// at given T and P\n",
"v = .589;// specific volume, [m^3/kg]\n",
"// given H=d/10, so\n",
"H = sqrt(m_dot*v/(%pi*10*60));// blade height, [m]\n",
"mprintf('\n (a) The blade height at this stage is  =  %f  mm\n',H*10^3);\n",
"\n",
"// (b)\n",
"Cwi_plus_Cwe = 270;// change in whirl speed, [m/s]\n",
"P = m_dot*U*(Cwi_plus_Cwe);// power developed, [W]\n",
"mprintf('\n (b) The power developed is  =  %f  kW\n',P*10^-3);\n",
"\n",
"// (c)\n",
"s = .85;// stage efficiency\n",
"h = U*Cwi_plus_Cwe/s;// specific enthalpy,[J/kg]\n",
"mprintf('\n (a) The specific enthalpy drop in the stage is  =  %f  kJ/kg',h*10^-3);\n",
"\n",
"//  End"
   ]
   }
],
"metadata": {
		  "kernelspec": {
		   "display_name": "Scilab",
		   "language": "scilab",
		   "name": "scilab"
		  },
		  "language_info": {
		   "file_extension": ".sce",
		   "help_links": [
			{
			 "text": "MetaKernel Magics",
			 "url": "https://github.com/calysto/metakernel/blob/master/metakernel/magics/README.md"
			}
		   ],
		   "mimetype": "text/x-octave",
		   "name": "scilab",
		   "version": "0.7.1"
		  }
		 },
		 "nbformat": 4,
		 "nbformat_minor": 0
}
