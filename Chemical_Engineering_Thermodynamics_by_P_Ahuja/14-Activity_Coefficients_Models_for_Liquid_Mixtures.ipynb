{
"cells": [
 {
		   "cell_type": "markdown",
	   "metadata": {},
	   "source": [
       "# Chapter 14: Activity Coefficients Models for Liquid Mixtures"
	   ]
	},
{
		   "cell_type": "markdown",
		   "metadata": {},
		   "source": [
			"## Example 14.10: Comparision_of_Margules_and_van_Laar_eqations.sce"
		   ]
		  },
  {
"cell_type": "code",
	   "execution_count": null,
	   "metadata": {
	    "collapsed": true
	   },
	   "outputs": [],
"source": [
"clear; \n",
"clc;\n",
"\n",
"//Example - 14.10\n",
"//Page number - 466\n",
"printf('Example - 14.10 and Page number - 466\n\n')\n",
"\n",
"//Given,\n",
"T = 25 +173.15;//[K] - Temperature\n",
"x_1=[0.0115,0.0160,0.0250,0.0300,0.0575,0.1125,0.1775,0.2330,0.4235,0.5760,0.6605,0.7390,0.8605,0.9250,0.9625];\n",
"y_1=[8.0640,7.6260,7.2780,7.2370,5.9770,4.5434,3.4019,2.8023,1.7694,1.3780,1.2302,1.1372,1.0478,1.0145,1.0070];\n",
"y_2=[1.0037,1.0099,1.0102,1.0047,1.0203,1.0399,1.1051,1.1695,1.4462,1.8520,2.2334,2.6886,3.7489,4.8960,5.6040];\n",
"\n",
"x_2 = zeros(1,15);// x_2 = (1 - x_1)\n",
"G_RT = zeros(1,15);// G_RT = G_excess/(R*T)\n",
"x1x2_G_RT = zeros(1,15);// x1x2_G_RT = (x_1*x_2/(G_excess/(R*T)))\n",
"G_RTx1x2 = zeros(1,15);// G_RTx1x1 = G_excess/(R*T*x_1*x_2)\n",
"\n",
"for i=1:15;\n",
"    x_2(1,i)=(1-x_1(i));\n",
"    G_RT(1,i)=(x_1(i)*log(y_1(i)))+(x_2(i)*log(y_2(i)));\n",
"    x1x2_G_RT(1,i)=(x_1(i)*x_2(i))/G_RT(i);\n",
"    G_RTx1x2(1,i)=1/x1x2_G_RT(i);\n",
"    \n",
"end\n",
"\n",
"//From Van Laar equation \n",
"// G_RTx1x2 = (x_1*x_2/(G_excess/(R*T))) = 1/A + (1/B -1/A)*x_1\n",
"//slope = (1/B -1/A) and intercept = 1/A\n",
"\n",
"//Now employing the concept of linear regression of the data ( x_1 , x1x2_G_RT ) to find the value of intercept and slope of the above equation\n",
"//Let slope = slop and intercept = intr\n",
"\n",
"[slop,intr,sig]=reglin(x_1,x1x2_G_RT);\n",
"\n",
"A = 1/intr;\n",
"B = 1/(slop+(1/A));\n",
"printf(' The value of van Laar parameters are\n A = %f and B = %f\n\n',A,B);\n",
"\n",
"// Now from Margules equation\n",
"// G_RTx1x2 = G_excess/(R*T*x_1*x_2) = B1*x_1 + A1*x_1 = A1 + (B1 - A1)*x_1\n",
"//slope = (B1 - A1) and intercept = A1\n",
"\n",
"// Again employing the concept of linear regression of the data ( x_1 , G_RTx1x2 ) to find the value of intercept and slope of the above equation\n",
"//Let slope = slop1 and intercept = intr1\n",
"\n",
"[slop1,intr1,sig1]=reglin(x_1,G_RTx1x2);\n",
"\n",
"A1 = intr1;\n",
"B1 = slop1 + A1;\n",
"printf(' The value of Margules parameters are\n A = %f and B = %f\n\n',A1,B1);\n",
"\n",
"printf(' Because of the higher value of correlation factor for Van Laar model, it fits the data better.');\n",
"\n",
""
   ]
   }
,
{
		   "cell_type": "markdown",
		   "metadata": {},
		   "source": [
			"## Example 14.11: Calculation_of_activity_coefficients.sce"
		   ]
		  },
  {
"cell_type": "code",
	   "execution_count": null,
	   "metadata": {
	    "collapsed": true
	   },
	   "outputs": [],
"source": [
"clear;\n",
"clc;\n",
"\n",
"//Example - 14.11\n",
"//Page number - 470\n",
"printf('Example - 14.11 and Page number - 470\n\n')\n",
"\n",
"//Given,\n",
"T = 60 + 273.15;//[K] - Temperature\n",
"R = 1.987;//[cal/mol*K] - Universal gas constant\n",
"//component 1 = acetone\n",
"//component 2 = water\n",
"x_1 = 0.3;// Mole fraction of component 1\n",
"x_2 = 1 - x_1;//Mole fraction of component 2\n",
"V_mol_1 = 74.05;//[cm^(3)/mol] - Molar volume of pure component 1\n",
"V_mol_2 = 18.07;//[cm^(3)/mol] - Molar volume of pure component 2\n",
"\n",
"//for Wilson equation\n",
"a_12 = 291.27;//[cal/mol]\n",
"a_21 = 1448.01;//[cal/mol]\n",
"\n",
"//For NRTL\n",
"b_12 = 631.05;//[cal/mol]\n",
"b_21 = 1197.41;//[cal/mol]\n",
"alpha = 0.5343;\n",
"\n",
"//Froom wilson equation\n",
"A_12=(V_mol_2/V_mol_1)*(exp(-a_12/(R*T)));\n",
"A_21 = (V_mol_1/V_mol_2)*(exp(-a_21/(R*T)));\n",
"Beta = A_12/(x_1+x_2*A_12) - A_21/(x_2+x_1*A_21);\n",
"//log(Y1) = -log(x_1 + x_2*A_12) + x_2*Beta; \n",
"Y1 = exp(-log(x_1+x_2*A_12)+x_2*Beta);\n",
"//similarly for Y2\n",
"Y2 = exp(-log(x_2+x_1*A_21)-x_1*Beta);\n",
"printf('The value of activity coefficients for Wilson equation are\n Y1 = %f \t and \t Y2 = %f\n\n',Y1,Y2);\n",
"\n",
"//From NRTL equation,\n",
"t_12 = b_12/(R*T);\n",
"t_21 = b_21/(R*T);\n",
"G_12 = exp(-alpha*t_12);\n",
"G_21 = exp(-alpha*t_21);\n",
"\n",
"//log(Y1) = x_1^(2)*[t_12*(G_12/(x_1+x_2*G_12))^(2) + (G_12*t_12)/((G_12/(x_1+x_2*G_12))^(2))]\n",
"Y1_prime = exp(x_2^(2)*(t_21*(G_21/(x_1+x_2*G_21))^(2)+(G_12*t_12)/(((x_2+x_1*G_12))^(2))));\n",
"//Similarly for Y2\n",
"Y2_prime = exp(x_1^(2)*(t_12*(G_12/(x_2+x_1*G_12))^(2)+(G_21*t_21)/(((x_1+x_2*G_21))^(2))));\n",
"\n",
"printf('The value of activity coefficients for NRTL equation are\n Y1 = %f \t and \t Y2 = %f\n\n',Y1_prime,Y2_prime);\n",
"\n",
"\n",
"\n",
""
   ]
   }
,
{
		   "cell_type": "markdown",
		   "metadata": {},
		   "source": [
			"## Example 14.12: Calculation_of_the_value_of_activity_coefficients.sce"
		   ]
		  },
  {
"cell_type": "code",
	   "execution_count": null,
	   "metadata": {
	    "collapsed": true
	   },
	   "outputs": [],
"source": [
"clear;\n",
"clc;\n",
"\n",
"//Example - 14.12\n",
"//Page number - 474\n",
"printf('Example - 14.12 and Page number - 474\n\n');\n",
"\n",
"//Given \n",
"T = 307;//[K]\n",
"x_1 = 0.047;\n",
"x_2 = 1 - x_1;\n",
"\n",
"// The subgroups in the  two components are\n",
"// Acetone (1) : 1 CH3, 1 CH3CO\n",
"// n-pentane (2) : 2 CH3, 3 CH2\n",
"\n",
"//Group volume (Rk) and surface area (Qk) parameters of the subgroup are\n",
"k_CH3 = 1;\n",
"k_CH2 = 2;\n",
"k_CH3CO = 19;\n",
"Rk_CH3 = 0.9011;\n",
"Rk_CH2 = 0.6744;\n",
"Rk_CH3CO = 1.6724;\n",
"Qk_CH3 = 0.848;\n",
"Qk_CH2 = 0.540;\n",
"Qk_CH3CO = 1.4880;\n",
"\n",
"// Interaction parameters of the subgroups in kelvin (K) are\n",
"a_1_1 = 0;\n",
"a_1_2 = 0;\n",
"a_1_19 = 476.40;\n",
"a_2_1 = 0;\n",
"a_2_2 = 0;\n",
"a_2_19 = 476.40;\n",
"a_19_1 = 26.76;\n",
"a_19_2 = 26.76;\n",
"a_19_19 = 0;\n",
"\n",
"r_1 = 1*Rk_CH3 + 1*Rk_CH3CO;\n",
"r_2 = 2*Rk_CH3 + 3*Rk_CH2;\n",
"q_1 = 1*Qk_CH3 + 1*Qk_CH3CO;\n",
"q_2 = 2*Qk_CH3 + 3*Qk_CH2;\n",
"\n",
"J_1 = r_1/(r_1*x_1+r_2*x_2);\n",
"J_2 = r_2/(r_1*x_1+r_2*x_2);\n",
"L_1 = q_1/(q_1*x_1+q_2*x_2);\n",
"L_2 = q_2/(q_1*x_1+q_2*x_2);\n",
"t_1_1 = exp(-a_1_1/T);\n",
"t_1_2 = exp(-a_1_2/T);\n",
"t_1_19 = exp(-a_1_19/T);\n",
"t_2_1 = exp(-a_2_1/T);\n",
"t_2_2 = exp(-a_2_2/T);\n",
"t_2_19 = exp(-a_2_19/T);\n",
"t_19_1 = exp(-a_19_1/T);\n",
"t_19_2 = exp(-a_19_2/T);\n",
"t_19_19 = exp(-a_19_19/T);\n",
"\n",
"e_1_1 = 1*Qk_CH3/q_1;\n",
"e_2_1 = 0;\n",
"e_19_1 = (1*Qk_CH3CO/q_1);\n",
"e_1_2 = 2*Qk_CH3/q_2;\n",
"e_2_2 = 3*Qk_CH2/q_2;\n",
"e_19_2 = 0;\n",
"\n",
"B_1_1 = e_1_1*t_1_1 + e_2_1*t_2_1 + e_19_1*t_19_1;\n",
"B_1_2 = e_1_1*t_1_2 + e_2_1*t_2_2 + e_19_1*t_19_2;\n",
"B_1_19 = e_1_1*t_1_19 + e_2_1*t_2_19 + e_19_1*t_19_19;\n",
"B_2_1 = e_1_2*t_1_1 + e_2_2*t_2_1 + e_19_2*t_19_1;\n",
"B_2_2 = e_1_2*t_1_2 + e_2_2*t_2_2 + e_19_2*t_19_2;\n",
"B_2_19 = e_1_2*t_1_19 + e_2_2*t_2_19 + e_19_2*t_19_19;\n",
"\n",
"theta_1 = (x_1*q_1*e_1_1 + x_2*q_2*e_1_2)/(x_1*q_1 + x_2*q_2);\n",
"theta_2 = (x_1*q_1*e_2_1 + x_2*q_2*e_2_2)/(x_1*q_1 + x_2*q_2);\n",
"theta_19 = (x_1*q_1*e_19_1 + x_2*q_2*e_19_2)/(x_1*q_1 + x_2*q_2);\n",
"\n",
"s_1 = theta_1*t_1_1 + theta_2*t_2_1 + theta_19*t_19_1;\n",
"s_2 = theta_1*t_1_2 + theta_2*t_2_2 + theta_19*t_19_2;\n",
"s_19 = theta_1*t_1_19 + theta_2*t_2_19 + theta_19*t_19_19;\n",
"\n",
"// log(Y1_C) = 1 - J_1 + log(J_1) - 5*q_1*(1- (J_1/L_1) + log(J_1/L_1))\n",
"// log(Y2_C) = 1 - J_2 + log(J_2) - 5*q_2*(1- (J_2/L_2) + log(J_2/L_2))\n",
"Y1_C = exp(1 - J_1 + log(J_1) - 5*q_1*(1- (J_1/L_1) + log(J_1/L_1)));\n",
"Y2_C = exp(1 - J_2 + log(J_2) - 5*q_2*(1- (J_2/L_2) + log(J_2/L_2)));\n",
"\n",
"// For species 1\n",
"summation_theta_k_1 = theta_1*(B_1_1/s_1) + theta_2*(B_1_2/s_2) + theta_19*(B_1_19/s_19);\n",
"summation_e_ki_1 = e_1_1*log(B_1_1/s_1) + e_2_1*log(B_1_2/s_2) + e_19_1*log(B_1_19/s_19);\n",
"\n",
"// For species 2\n",
"summation_theta_k_2 = theta_1*(B_2_1/s_1) + theta_2*(B_2_2/s_2) + theta_19*(B_2_19/s_19);\n",
"summation_e_ki_2 = e_1_2*log(B_2_1/s_1) + e_2_2*log(B_2_2/s_2) + e_19_2*log(B_2_19/s_19);\n",
"\n",
"// log(Y1_R) = q_1(1 - summation_theta_k_1 + summation_e_ki_1)\n",
"// log(Y2_R) = q_2(1 - summation_theta_k_2 + summation_e_ki_2)\n",
"Y1_R = exp(q_1*(1 - summation_theta_k_1 + summation_e_ki_1));\n",
"Y2_R = exp(q_2*(1 - summation_theta_k_2 + summation_e_ki_2));\n",
"\n",
"// log(Y1) = log(Y1_C) + log(Y1_R)\n",
"// log(Y2) = log(Y2_C) + log(Y2_R)\n",
"Y1 = exp(log(Y1_C) + log(Y1_R));\n",
"Y2 = exp(log(Y2_C) + log(Y2_R));\n",
" \n",
"printf(' The activity coefficients are Y1 = %f  and  Y2 = %f\n',Y1,Y2);\n",
" \n",
""
   ]
   }
,
{
		   "cell_type": "markdown",
		   "metadata": {},
		   "source": [
			"## Example 14.13: Calculation_of_the_value_of_activity_coefficients.sce"
		   ]
		  },
  {
"cell_type": "code",
	   "execution_count": null,
	   "metadata": {
	    "collapsed": true
	   },
	   "outputs": [],
"source": [
"clear;\n",
"clc;\n",
"\n",
"//Example - 14.15\n",
"//Page number - 481\n",
"printf('Example - 14.15 and Page number - 481\n\n')\n",
"\n",
"//Given,\n",
"T = 25 + 273.15;//[K] - Temperature\n",
"R = 1.987;//[cal/mol*K] - Universal gas constant\n",
"//component 1 = chloroform\n",
"//component 2 = carbon tetrachloride\n",
"x_1 = 0.5;//Mole fraction of component 1 //Equimolar mixture\n",
"x_2 = 0.5;//Mole fraction of component 2\n",
"V_mol_1 = 81;//[cm^(3)/mol] - Molar volume of pure component 1\n",
"V_mol_2 = 97;//[cm^(3)/mol] - Molar volume of pure component 2\n",
"del_1 = 9.2;//[(cal/cm^(3))^(1/2)] - Mole fraction of component 1\n",
"del_2 = 8.6;//[(cal/cm^(3))^(1/2)] - Mole fraction of component 2\n",
"\n",
"//Scatchard - Hilderbrand model\n",
"phi_1 = (x_1*V_mol_1)/(x_1*V_mol_1+x_2*V_mol_2);\n",
"phi_2 = (x_2*V_mol_2)/(x_1*V_mol_1+x_2*V_mol_2);\n",
"\n",
"//log(Y1) = (V_mol_1/(R*T))*phi_1^(2)*(del_1-del_2)^(2)\n",
"Y1 = exp((V_mol_1/(R*T))*(phi_1^(2))*((del_1-del_2)^(2)));\n",
"\n",
"//Similarly, for Y2\n",
"Y2 = exp((V_mol_2/(R*T))*(phi_2^(2))*((del_1-del_2)^(2)));\n",
"\n",
"printf('The value of activity coefficients for Scatchard-Hilderbrand model are\n Y1 = %f \t and \t Y2 = %f\n\n',Y1,Y2);\n",
""
   ]
   }
,
{
		   "cell_type": "markdown",
		   "metadata": {},
		   "source": [
			"## Example 14.14: Calculation_of_the_value_of_activity_coefficients.sce"
		   ]
		  },
  {
"cell_type": "code",
	   "execution_count": null,
	   "metadata": {
	    "collapsed": true
	   },
	   "outputs": [],
"source": [
"clear;\n",
"clc;\n",
"//Example - 14.14\n",
"//Page number - 485\n",
"printf('Example - 14.14 and Page number - 485\n\n')\n",
"//Given,\n",
"T = 25 + 273.15;//[K] - Temperature\n",
"mol_HCl = 0.001;//[mol/kg] - Molality of HCl\n",
"A = 0.510;//[(kg/mol)^(1/2)]\n",
"Z_positive = 1;//Stoichiometric coefficient of 'H' ion\n",
"Z_negative = -1;//Stoichiometric coefficient of 'Cl' ion\n",
"m_H_positive = mol_HCl;//\n",
"m_Cl_negative = mol_HCl;\n",
"// I = 1/2*[((Z_positive)^(2))*m_H_positive + ((Z_negative)^(2))*m_Cl_negative]\n",
"I = 1/2*(((Z_positive)^(2))*m_H_positive + ((Z_negative)^(2))*m_Cl_negative);\n",
"//Using Debye-Huckel limiting law wee get,\n",
"// log(Y1) = -A*(abs(Z_positive*Z_negative))*(I^(1/2)))\n",
"Y = 10^(-A*(abs(Z_positive*Z_negative))*(I^(1/2)));\n",
"printf('The mean activity coefficient at 25 C using Debye-Huckel limiting law is Y = %f\n\n',Y);\n",
"//Using Debye-Huckel extended model we get\n",
"//log(Y_prime) = (-A*(abs(Z_positive*Z_negative))*(I^(1/2)))/(1 + (I^(1/2)));\n",
"Y_prime = 10^((-A*(abs(Z_positive*Z_negative))*(I^(1/2)))/(1 + (I^(1/2))));\n",
"printf('The mean activity coefficient at 25 C using Debye-Huckel extended model is Y = %f\n\n',Y_prime);"
   ]
   }
,
{
		   "cell_type": "markdown",
		   "metadata": {},
		   "source": [
			"## Example 14.15: Calculation_of_the_value_of_activity_coefficients.sce"
		   ]
		  },
  {
"cell_type": "code",
	   "execution_count": null,
	   "metadata": {
	    "collapsed": true
	   },
	   "outputs": [],
"source": [
"clear;\n",
"clc;\n",
"\n",
"//Example - 14.15\n",
"//Page number - 485\n",
"printf('Example - 14.15 and Page number - 485\n\n')\n",
"\n",
"//Given,\n",
"T = 25 + 273.15;//[K] - Temperature\n",
"mol_CaCl2 = 0.001;//[mol/kg] - Molality of HCl\n",
"A = 0.510;//[(kg/mol)^(1/2)]\n",
"Z_positive = 2;//Stoichiometric coefficient of 'Ca' ion\n",
"Z_negative = -1;//Stoichiometric coefficient of 'Cl' ion\n",
"m_Ca_positive = mol_CaCl2;\n",
"m_Cl_negative = 2*mol_CaCl2;\n",
"\n",
"// I = 1/2*[((Z_positive)^(2))*m_Ca_positive + ((Z_negative)^(2))*m_Cl_negative]\n",
"I = 1/2*(((Z_positive)^(2))*m_Ca_positive + ((Z_negative)^(2))*m_Cl_negative);\n",
"\n",
"//Using Debye-Huckel limiting law wee get,\n",
"// log(Y1) = -A*(abs(Z_positive*Z_negative))*(I^(1/2)))\n",
"Y = 10^(-A*(abs(Z_positive*Z_negative))*(I^(1/2)));\n",
"printf('The mean activity coefficient at 25 C using Debye-Huckel limiting law is Y = %f\n\n',Y);\n",
"\n",
""
   ]
   }
,
{
		   "cell_type": "markdown",
		   "metadata": {},
		   "source": [
			"## Example 14.16: Proving_a_mathematical_relation.sce"
		   ]
		  },
  {
"cell_type": "code",
	   "execution_count": null,
	   "metadata": {
	    "collapsed": true
	   },
	   "outputs": [],
"source": [
"clear;\n",
"clc;\n",
"\n",
"//Example - 14.16\n",
"//Page number - 486\n",
"printf('Example - 14.16 and Page number - 486\n\n');\n",
"\n",
"//This problem involves proving a relation in which no mathematics and no calculations are involved.\n",
"//For prove refer to this example 14.16 on page number 486 of the book.\n",
"printf(' This problem involves proving a relation in which no mathematics and no calculations are involved.\n\n');\n",
"printf(' For prove refer to this example 14.16 on page number 486 of the book.')\n",
""
   ]
   }
,
{
		   "cell_type": "markdown",
		   "metadata": {},
		   "source": [
			"## Example 14.17: Calculation_of_pressure.sce"
		   ]
		  },
  {
"cell_type": "code",
	   "execution_count": null,
	   "metadata": {
	    "collapsed": true
	   },
	   "outputs": [],
"source": [
"clear;\n",
"clc;\n",
"\n",
"//Example - 14.17\n",
"//Page number - 488\n",
"printf('Example - 14.17 and Page number - 488\n\n');\n",
"\n",
"//Given,\n",
"T = 50 + 273.15;//[K] - Temperature\n",
"R=8.314;//[J/mol*K] - Universal gas constant\n",
"x_1 = 0.3;// Mole fraction of component 1\n",
"x_2 = (1-x_1);// Mole fraction of component 2\n",
"//Increment of 1% means Y2 = 1.01*Y1\n",
"\n",
"//Excess volume of the mixture is given by,\n",
"V_excess = 4*x_1*x_2;//[cm^(3)/mol]\n",
"//Amd threfore\n",
"V_1_excess = 4*x_2*x_2*10^(-6);//[m^(3)/mol] - Exces volume of component 1\n",
"V_2_excess = 4*x_1*x_1*10^(-6);//[m^(3)/mol] - Exces volume of component 2\n",
"\n",
"//We have from equation 14.89 of the book,\n",
"//V_i_excess/(R*T) = (del_log(Y_i)/del_P)_T,x\n",
"\n",
"//Rearranging above equation\n",
"//d(log(Y1)) = (V1_excess/(R*T))dP\n",
"//Integrating the above equation at constant 'T' and 'x' in the limit from 'Y1' to '1.01*Y1' in the LHS and from 'P' to 'P+delta_P' in the RHS\n",
"//On simplification we get\n",
"//log(1.01*Y1/Y1) = (V_1_exces/(R*T))*delta_P\n",
"delta_P = log(1.01)/(V_1_excess/(R*T));//[N/m^(2)]\n",
"delta_P = delta_P*10^(-6);//[MPa]\n",
"\n",
"printf('The required pressure to increase the activity coefficient by 1%% is %f MPa',delta_P);"
   ]
   }
,
{
		   "cell_type": "markdown",
		   "metadata": {},
		   "source": [
			"## Example 14.18: Proving_a_mathematical_relation.sce"
		   ]
		  },
  {
"cell_type": "code",
	   "execution_count": null,
	   "metadata": {
	    "collapsed": true
	   },
	   "outputs": [],
"source": [
"clear;\n",
"clc;\n",
"\n",
"//Example - 14.18\n",
"//Page number - 488\n",
"printf('Example - 14.18 and Page number - 488\n\n');\n",
"\n",
"//This problem involves proving a relation in which no mathematics and no calculations are involved.\n",
"//For prove refer to this example 14.18 on page number 488 of the book.\n",
"printf(' This problem involves proving a relation in which no mathematics and no calculations are involved.\n\n');\n",
"printf(' For prove refer to this example 14.18 on page number 488 of the book.')\n",
""
   ]
   }
,
{
		   "cell_type": "markdown",
		   "metadata": {},
		   "source": [
			"## Example 14.19: Determination_of_enthalpy.sce"
		   ]
		  },
  {
"cell_type": "code",
	   "execution_count": null,
	   "metadata": {
	    "collapsed": true
	   },
	   "outputs": [],
"source": [
"clear;\n",
"clc;\n",
"\n",
"//Example - 14.19\n",
"//Page number - 489\n",
"printf('Example - 14.19 and Page number - 489\n\n');\n",
"\n",
"//given\n",
"P = 2;//[bar] - Pressure\n",
"T = 310;//[K] - Temperature\n",
"R=8.314;//[J/mol*K] - Universal gas constant\n",
"A = (0.1665 + 233.74/T);// Margules parameter\n",
"B = (0.5908 + 197.55/T);// Margules parameter\n",
"\n",
"//two parameter Margules equation is given by\n",
"//G_excess/(R*T*x_1*x_2) = B*x_1 + A*x_2\n",
"//On simplification  and putting the values we get\n",
"//G_excess = ((0.5908 + 197.55/T)*x_1^(2)*x_2 + (0.1665 + 233.74/T)*x_2^(2)*x_1)\n",
"\n",
"\n",
"//H_excess/(R*T^(2)) = -[d/dT(G_excess/(R*T*x_1*x_2))]_P,x\n",
"//On simplification  and putting the values we get\n",
"//H_excess/(R*T^(2)) = (197.55/T^(2))*x_1^(2)*x_2 + (233.74/T^(2))*x_1*x_2^(2)\n",
"\n",
"//We know that enthalpy change of mixing is given by\n",
"// delta_H_mix = H - x_1*H_1 - x_2*H_2 = delta_H_id_mix + H_excess\n",
"\n",
"//But, delta_H_id_mix = 0 and H_excess is positive , therefore enthalpy of muxture\n",
"// H > (x_1*H_1 + x_2*H_2)\n",
"//Therefore heat is required during the formation of mixture\n",
"\n",
"printf('Since enthalpy of mixture formation (H) comes out to be positive, threfore steam is required to maintain the constant temperature.');\n",
""
   ]
   }
,
{
		   "cell_type": "markdown",
		   "metadata": {},
		   "source": [
			"## Example 14.1: Determination_of_expression_for_activity_coefficients.sce"
		   ]
		  },
  {
"cell_type": "code",
	   "execution_count": null,
	   "metadata": {
	    "collapsed": true
	   },
	   "outputs": [],
"source": [
"clear;\n",
"clc;\n",
"\n",
"//Example - 14.1\n",
"//Page number - 455\n",
"printf('Example - 14.1 and Page number - 455\n\n');\n",
"\n",
"//This problem involves proving a relation in which no mathematics and no calculations are involved.\n",
"//For prove refer to this example 14.1 on page number 455 of the book.\n",
"printf(' This problem involves proving a relation in which no mathematics and no calculations are involved.\n\n');\n",
"printf(' For prove refer to this example 14.1 on page number 455 of the book.')\n",
""
   ]
   }
,
{
		   "cell_type": "markdown",
		   "metadata": {},
		   "source": [
			"## Example 14.20: Determination_of_an_expression.sce"
		   ]
		  },
  {
"cell_type": "code",
	   "execution_count": null,
	   "metadata": {
	    "collapsed": true
	   },
	   "outputs": [],
"source": [
"clear;\n",
"clc;\n",
"\n",
"//Example - 14.20\n",
"//Page number - 490\n",
"printf('Example - 14.20 and Page number - 490\n\n');\n",
"\n",
"T = 40 + 273.15;//[K]\n",
"P = 101.3;//[kPa]\n",
"\n",
"// G_E/(R*T) = A*x_1*x_2\n",
"\n",
"// The parameter A at 101.3 kPa and various temperatures are\n",
"A_35 = 0.479;// A at 35 C\n",
"A_40 = 0.458;// A at 40 C\n",
"A_45 = 0.439;// A at 45 C\n",
"\n",
"// At 40 C, G_E/(R*T) is given by\n",
"// G_E/(R*T) = A_40*x1*x2\n",
"// Therefore log(Y1) = A_40*x2^(2) and log(Y2) = A_40*x1^(2)\n",
"\n",
"dA_dT = (A_45-A_35)/(45-35);//[K^(-1)] - dA/dT\n",
"// H_E/(R*T^(2)) = -[del(G_E/(R*T))/del(T)]_P,x = (dA/dT)*x1*x2\n",
"// H_E/(R*T) = -T*(dA/dT)*x1*x2 = 1.25*x1*x2\n",
"\n",
"// S_E = (H_E - G_E)/T = (-R*T^(2)*(dA/dT)*x1*x2 - A*R*T*x1*x2)/T = -(R*T*(dA/dT) + A*R)*x1*x2\n",
"// Thus S_E/R = -(T*(dA/dT) + A)*x1*x2 = 0.795*x1*x2\n",
"\n",
"printf(' The expressions are  H_E/(R*T) = 1.25*x1*x2 \n\t\t    S_E/R = 0.795*x1*x2');\n",
"\n",
""
   ]
   }
,
{
		   "cell_type": "markdown",
		   "metadata": {},
		   "source": [
			"## Example 14.21: Calculation_of_enthalpy_entropy_and_Gibbs_free_energy.sce"
		   ]
		  },
  {
"cell_type": "code",
	   "execution_count": null,
	   "metadata": {
	    "collapsed": true
	   },
	   "outputs": [],
"source": [
"clear;\n",
"clc;\n",
"\n",
"//Example - 14.21\n",
"//Page number - 490\n",
"printf('Example - 14.21 and Page number - 490\n\n');\n",
"\n",
"//given\n",
"T = 293.15;//[K] - Temperature\n",
"R=8.314;//[J/mol*K] - Universal gas constant\n",
"A = 1280;//[J/mol]\n",
"\n",
"//(dA/dT)_P,x = del_A (say)\n",
"dA_dT = -7.0;//[J/mol-K]\n",
"\n",
"//For equilomar mixture,\n",
"x_1 = 0.5;// Mole fraction of component 1\n",
"x_2 = 0.5;// Mole fraction of component 2\n",
"\n",
"//log(Y1) =  (A/(R*T))*x_2^(2)\n",
"//log(Y2) =  (A/(R*T))*x_1^(2)\n",
"Y1 = exp((A/(R*T))*x_2^(2));\n",
"Y2 = exp((A/(R*T))*x_1^(2));\n",
"\n",
"//G_excess/(R*T*) = x_1*log(Y1) + x_2*log(Y2) = (A/(R*T))*x_1*x_2\n",
"G_excess = A*x_1*x_2;//[J/mol] - Excess Gibbs free energy\n",
"\n",
"//H_excess/(R*T^(2)) = -[d/dT(G_excess/(R*T))]_P,x\n",
"//H_excess/(R*T^(2)) = -((x_1*x_2)/R)*[d/dT(A/T)]_P,x\n",
"//On simplification  and putting the values we get\n",
"H_excess = A*x_1*x_2 - T*dA_dT*x_1*x_2;//[J/mol] - Excess enthalpy\n",
"\n",
"//Now excess entropy is given by\n",
"S_excess = (H_excess - G_excess)/T;//[J/mol-K] - Excess entropy\n",
"\n",
"printf('For equimolar mixture\n\n');\n",
"printf('Excess Gibbs free energy (G_excess) is %f J/mol\n\n',G_excess);\n",
"printf('Excess enthalpy (H_excess) is %f J/mol\n\n',H_excess);\n",
"printf('Excess entropy (S_excess) is %f J/mol\n\n',S_excess);\n",
"printf('The value of activity coefficient Y1 is %f\n\n',Y1);\n",
"printf('The value of activity coefficient Y2 is %f\n\n',Y2);\n",
"\n",
""
   ]
   }
,
{
		   "cell_type": "markdown",
		   "metadata": {},
		   "source": [
			"## Example 14.22: Determination_of_Gibbs_free_energy_and_enthalpy_change.sce"
		   ]
		  },
  {
"cell_type": "code",
	   "execution_count": null,
	   "metadata": {
	    "collapsed": true
	   },
	   "outputs": [],
"source": [
"clear;\n",
"clc;\n",
"\n",
"// Example - 14.22\n",
"// Page number - 491\n",
"printf('Example - 14.22 and Page number - 491\n\n');\n",
"\n",
"// Given\n",
"T = 60 + 273.15;//[K] - Temperature\n",
"R = 8.314;//[J/mol*K] - Universal gas constant\n",
"\n",
"// log(Y1_inf) = log(Y2_inf) = 0.15 + 10/T\n",
"\n",
"// Since the two liquids are slightly dissimilar , we assume the activity coeffiecients to follow van Laar equation \n",
"// From van Laaar equation \n",
"// A = log(Y1_inf) and B = log(Y2_inf) and since it is given that log(Y1_inf) = log(Y2_inf), therefore A = B\n",
"//(x_1*x_2)/(G_excess/R*T) = x_1/B + x_2/A = X_1/A + x_2/A = 1/A\n",
"// G_excess/(R*T) = A*x_1*x_2\n",
"\n",
"// For equilomar mixture,\n",
"x_1 = 0.5;// Mole fraction of component 1\n",
"x_2 = 0.5;// Mole fraction of component 2\n",
"\n",
"// Expression for A can be written as\n",
"// A = 0.15 + 10/T, where T is in C. Therefore\n",
"A = 0.15 + 10/(T - 273.15);\n",
"// Differentiating it with respect to temprature we get\n",
"dA_dT = - 10/((T-273.15)^(2));\n",
"\n",
"// The excess Gibbs free energy can be calculated as\n",
"G_excess = A*x_1*x_2*(R*T);//[J/mol]\n",
"\n",
"// The ideal Gibbs free energy change can  be calculated as\n",
"delta_G_id_mix = R*T*(x_1*log(x_1) + x_2*log(x_2));//[J/mol]\n",
"\n",
"// Finally we have,\n",
"delta_G_mix = G_excess + delta_G_id_mix;//[J/mol]\n",
"\n",
"printf('The Gibbs free energy change of mixing for equimolar mixture is %f J/mol\n\n',delta_G_mix);\n",
"\n",
"\n",
"// Now let us determine the excess enthalpy. We know that\n",
"// H_excess/(R*T^(2)) = -[d/dT(G_excess/R*T)]_P,x = - x_1*x_2*[d/dT(A)]_P,x\n",
"// Therefore at 'T' = 60 C the excess enthalpy is given by\n",
"H_excess = -R*(T^(2))*x_1*x_2*dA_dT;//[J/mol]\n",
"\n",
"delta_H_id_mix = 0;//[J/mol] - Enthalpy change of mixing for ideal solution is zero.\n",
"\n",
"//Thus enthalpy change of mixing for an equimolar mixture at 333.15 K is given by\n",
"delta_H_mix = delta_H_id_mix + H_excess;//[J/mol]\n",
"\n",
"\n",
"printf('The enthalpy change of mixing for equimolar mixture is %f J/mol',delta_H_mix);"
   ]
   }
,
{
		   "cell_type": "markdown",
		   "metadata": {},
		   "source": [
			"## Example 14.2: Proving_a_mathematical_relation.sce"
		   ]
		  },
  {
"cell_type": "code",
	   "execution_count": null,
	   "metadata": {
	    "collapsed": true
	   },
	   "outputs": [],
"source": [
"clear;\n",
"clc;\n",
"\n",
"//Example - 14.2\n",
"//Page number - 456\n",
"printf('Example - 14.2 and Page number - 456\n\n');\n",
"\n",
"//This problem involves proving a relation in which no mathematics and no calculations are involved.\n",
"//For prove refer to this example 14.2 on page number 456 of the book.\n",
"printf(' This problem involves proving a relation in which no mathematics and no calculations are involved.\n\n');\n",
"printf(' For prove refer to this example 14.2 on page number 456 of the book.')\n",
""
   ]
   }
,
{
		   "cell_type": "markdown",
		   "metadata": {},
		   "source": [
			"## Example 14.3: Proving_a_mathematical_relation.sce"
		   ]
		  },
  {
"cell_type": "code",
	   "execution_count": null,
	   "metadata": {
	    "collapsed": true
	   },
	   "outputs": [],
"source": [
"clear;\n",
"clc;\n",
"\n",
"//Example - 14.3\n",
"//Page number - 458\n",
"printf('Example - 14.3 and Page number - 458\n\n');\n",
"\n",
"//This problem involves proving a relation in which no mathematics and no calculations are involved.\n",
"//For prove refer to this example 14.3 on page number 458 of the book.\n",
"printf(' This problem involves proving a relation in which no mathematics and no calculations are involved.\n\n');\n",
"printf(' For prove refer to this example 14.3 on page number 458 of the book.')\n",
""
   ]
   }
,
{
		   "cell_type": "markdown",
		   "metadata": {},
		   "source": [
			"## Example 14.4: Determination_of_value_of_Gibbs_free_energy_change_and_enthalpy_change.sce"
		   ]
		  },
  {
"cell_type": "code",
	   "execution_count": null,
	   "metadata": {
	    "collapsed": true
	   },
	   "outputs": [],
"source": [
"clear;\n",
"clc;\n",
"\n",
"//Example - 14.4\n",
"//Page number - 461\n",
"printf('Example - 14.4 and Page number - 461\n\n');\n",
"\n",
"//Given,\n",
"T = 300;//[K] - Temperature\n",
"b = 100;//[cal/mol]\n",
"R = 1.987;//[cal/mol*K] - Universal gas constant\n",
"// R*T*log(Y_1) = b*x_2^(2)\n",
"// R*T*log(Y_2) = b*x_1^(2)\n",
"\n",
"//For equimolar mixture\n",
"x_1 = 0.5;//Mole fraction of component 1\n",
"x_2 = 0.5;//Mole fraction of component 2\n",
"\n",
"//The excess Gibbs free energy is given by\n",
"// G_excess = R*T*(x_1*log(Y_1) + x_2*log(Y_2)) = b*x_1*x_2^(2) + b*x_2*x_1^(2) = b*x_1*(x_1 + x_2) = b*x_1*x_2\n",
"G_excess = b*x_1*x_2;//[cal/mol]\n",
"\n",
"//The ideal Gibbs free energy change of mixing is given by,\n",
"delta_G_id_mix = R*T*(x_1*log(x_1)+x_2*log(x_2));//[cal/mol]\n",
"\n",
"//The Gibbs free energy of mixing is given by\n",
"delta_G_mix = delta_G_id_mix + G_excess;//[cal/mol]\n",
"\n",
"//It is given that entropy change of mixing is that of ideal mixture,therefore\n",
"// delta_S_mix = delta_S_id_mix = - R*sum(x_i*log(x_i))\n",
"\n",
"//delta_G_mix = delta_H_mix - T*delta_S_mix = delta_H_mix + R*T*(x_1*log(x_1)+x_2*log(x_2))\n",
"delta_H_mix = b*x_1*x_2;//[cal/mol]\n",
"\n",
"printf('The value of Gibbs free energy change for equimolar mixture formation is %f cal/mol\n\n',delta_G_mix);\n",
"printf('The value of enthalpy change for equimolar mixture formation is %f cal/mol\n\n',delta_H_mix);\n",
"\n",
"//Work required for separation of mixture into pure components is\n",
"W = delta_G_mix;\n",
"printf('The least amount of work required for separation at 300 K is %f cal/mol\n\n',W);"
   ]
   }
,
{
		   "cell_type": "markdown",
		   "metadata": {},
		   "source": [
			"## Example 14.5: Proving_a_mathematical_relation.sce"
		   ]
		  },
  {
"cell_type": "code",
	   "execution_count": null,
	   "metadata": {
	    "collapsed": true
	   },
	   "outputs": [],
"source": [
"clear;\n",
"clc;\n",
"\n",
"//Example - 14.5\n",
"//Page number - 461\n",
"printf('Example - 14.5 and Page number - 461\n\n');\n",
"\n",
"//This problem involves proving a relation in which no mathematics and no calculations are involved.\n",
"//For prove refer to this example 14.5 on page number 461 of the book.\n",
"printf(' This problem involves proving a relation in which no mathematics and no calculations are involved.\n\n');\n",
"printf(' For prove refer to this example 14.5 on page number 461 of the book.')\n",
""
   ]
   }
,
{
		   "cell_type": "markdown",
		   "metadata": {},
		   "source": [
			"## Example 14.6: Proving_a_mathematical_relation.sce"
		   ]
		  },
  {
"cell_type": "code",
	   "execution_count": null,
	   "metadata": {
	    "collapsed": true
	   },
	   "outputs": [],
"source": [
"clear;\n",
"clc;\n",
"\n",
"//Example - 14.6\n",
"//Page number - 463\n",
"printf('Example - 14.6 and Page number - 463\n\n');\n",
"\n",
"//This problem involves proving a relation in which no mathematics and no calculations are involved.\n",
"//For prove refer to this example 14.6 on page number 463 of the book.\n",
"printf(' This problem involves proving a relation in which no mathematics and no calculations are involved.\n\n');\n",
"printf(' For prove refer to this example 14.6 on page number 463 of the book.')\n",
""
   ]
   }
,
{
		   "cell_type": "markdown",
		   "metadata": {},
		   "source": [
			"## Example 14.7: Proving_a_mathematical_relation.sce"
		   ]
		  },
  {
"cell_type": "code",
	   "execution_count": null,
	   "metadata": {
	    "collapsed": true
	   },
	   "outputs": [],
"source": [
"clear;\n",
"clc;\n",
"\n",
"//Example - 14.7\n",
"//Page number - 464\n",
"printf('Example - 14.7 and Page number - 464\n\n');\n",
"\n",
"//This problem involves proving a relation in which no mathematics and no calculations are involved.\n",
"//For prove refer to this example 14.7 on page number 464 of the book.\n",
"printf(' This problem involves proving a relation in which no mathematics and no calculations are involved.\n\n');\n",
"printf(' For prove refer to this example 14.7 on page number 464 of the book.')\n",
""
   ]
   }
,
{
		   "cell_type": "markdown",
		   "metadata": {},
		   "source": [
			"## Example 14.8: Proving_a_mathematical_relation.sce"
		   ]
		  },
  {
"cell_type": "code",
	   "execution_count": null,
	   "metadata": {
	    "collapsed": true
	   },
	   "outputs": [],
"source": [
"clear;\n",
"clc;\n",
"\n",
"//Example - 14.8\n",
"//Page number - 465\n",
"printf('Example - 14.8 and Page number - 465\n\n');\n",
"\n",
"//This problem involves proving a relation in which no mathematics and no calculations are involved.\n",
"//For prove refer to this example 14.8 on page number 465 of the book.\n",
"printf(' This problem involves proving a relation in which no mathematics and no calculations are involved.\n\n');\n",
"printf(' For prove refer to this example 14.8 on page number 465 of the book.')\n",
""
   ]
   }
,
{
		   "cell_type": "markdown",
		   "metadata": {},
		   "source": [
			"## Example 14.9: Proving_a_mathematical_relation.sce"
		   ]
		  },
  {
"cell_type": "code",
	   "execution_count": null,
	   "metadata": {
	    "collapsed": true
	   },
	   "outputs": [],
"source": [
"clear;\n",
"clc;\n",
"\n",
"//Example - 14.9\n",
"//Page number - 465\n",
"printf('Example - 14.9 and Page number - 465\n\n');\n",
"\n",
"//This problem involves proving a relation in which no mathematics and no calculations are involved.\n",
"//For prove refer to this example 14.9 on page number 465 of the book.\n",
"printf(' This problem involves proving a relation in which no mathematics and no calculations are involved.\n\n');\n",
"printf(' For prove refer to this example 14.9 on page number 465 of the book.')\n",
""
   ]
   }
],
"metadata": {
		  "kernelspec": {
		   "display_name": "Scilab",
		   "language": "scilab",
		   "name": "scilab"
		  },
		  "language_info": {
		   "file_extension": ".sce",
		   "help_links": [
			{
			 "text": "MetaKernel Magics",
			 "url": "https://github.com/calysto/metakernel/blob/master/metakernel/magics/README.md"
			}
		   ],
		   "mimetype": "text/x-octave",
		   "name": "scilab",
		   "version": "0.7.1"
		  }
		 },
		 "nbformat": 4,
		 "nbformat_minor": 0
}
