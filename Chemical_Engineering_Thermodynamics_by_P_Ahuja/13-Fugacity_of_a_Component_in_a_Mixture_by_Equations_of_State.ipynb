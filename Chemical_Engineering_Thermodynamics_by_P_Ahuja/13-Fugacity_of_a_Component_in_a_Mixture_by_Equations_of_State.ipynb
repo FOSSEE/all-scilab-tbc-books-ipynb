{
"cells": [
 {
		   "cell_type": "markdown",
	   "metadata": {},
	   "source": [
       "# Chapter 13: Fugacity of a Component in a Mixture by Equations of State"
	   ]
	},
{
		   "cell_type": "markdown",
		   "metadata": {},
		   "source": [
			"## Example 13.1: Proving_a_mathematical_relation.sce"
		   ]
		  },
  {
"cell_type": "code",
	   "execution_count": null,
	   "metadata": {
	    "collapsed": true
	   },
	   "outputs": [],
"source": [
"clear;\n",
"clc;\n",
"//Example - 13.1\n",
"//Page number - 432\n",
"printf('Example - 13.1 and Page number - 432\n\n');\n",
"//This problem involves proving a relation in which no mathematics and no calculations are involved.\n",
"//For prove refer to this example 13.1 on page number 432 of the book.\n",
"printf(' This problem involves proving a relation in which no mathematics and no calculations are involved.\n\n');\n",
"printf(' For prove refer to this example 13.1 on page number 432 of the book.')"
   ]
   }
,
{
		   "cell_type": "markdown",
		   "metadata": {},
		   "source": [
			"## Example 13.2: Caculation_of_fugacity_coefficients.sce"
		   ]
		  },
  {
"cell_type": "code",
	   "execution_count": null,
	   "metadata": {
	    "collapsed": true
	   },
	   "outputs": [],
"source": [
"clear;\n",
"clc;\n",
"\n",
"//Example - 13.2\n",
"//Page number - 433\n",
"printf('Example - 13.2 and Page number - 433\n\n');\n",
"\n",
"//Given\n",
"T = 310.93;//[K] - Temperature\n",
"P = 2.76*10^(6);//[Pa] - Pressure\n",
"y1 = 0.8942;//[mol] - mole fraction of component 1\n",
"y2 = 1 - y1;//[mol] - mole fraction of component 2\n",
"R=8.314;//[J/mol*K] - Universal gas constant\n",
"\n",
"//For component 1 (methane)\n",
"Tc_1 = 190.6;//[K] - Critical temperature\n",
"Pc_1 = 45.99*10^(5);//[N/m^(2)] - Critical pressure\n",
"Vc_1 = 98.6;//[cm^(3)/mol] - Critical molar volume\n",
"Zc_1 = 0.286;// - Critical compressibility factor\n",
"w_1 = 0.012;// - Critical acentric factor\n",
"//Similarly for component 2 (n-Butane)\n",
"Tc_2 = 425.1;//[K]\n",
"Pc_2 = 37.96*10^(5);//[N/m^(2)]\n",
"Vc_2 = 255;//[cm^(3)/mol]\n",
"Zc_2=0.274;\n",
"w_2=0.2;\n",
"\n",
"//For component 1\n",
"Tr_1 = T/Tc_1;//Reduced temperature\n",
"//At reduced temperature\n",
"B1_0 = 0.083-(0.422/(Tr_1)^(1.6));\n",
"B1_1 = 0.139-(0.172/(Tr_1)^(4.2));\n",
"//We know,(B*Pc)/(R*Tc) = B_0+(w*B_1)\n",
"B_11 = ((B1_0+(w_1*B1_1))*(R*Tc_1))/Pc_1;//[m^(3)/mol]\n",
"\n",
"//Similarly for component 2\n",
"Tr_2 = T/Tc_2;//Reduced temperature\n",
"//At reduced temperature Tr_2,\n",
"B2_0 = 0.083-(0.422/(Tr_2)^(1.6));\n",
"B2_1 = 0.139-(0.172/(Tr_2)^(4.2));\n",
"B_22 = ((B2_0+(w_2*B2_1))*(R*Tc_2))/Pc_2;//[m^(3)/mol]\n",
"\n",
"//For cross coeffcient\n",
"Tc_12 = (Tc_1*Tc_2)^(1/2);//[K]\n",
"w_12 = (w_1+w_2)/2;\n",
"Zc_12 = (Zc_1+Zc_2)/2;\n",
"Vc_12 = (((Vc_1)^(1/3)+(Vc_2)^(1/3))/2)^(3);//[cm^(3)/mol]\n",
"Vc_12 = Vc_12*10^(-6);//[m^(3)/mol]\n",
"Pc_12 = (Zc_12*R*Tc_12)/Vc_12;//[N/m^(2)]\n",
"\n",
"//Given, Z = 1 + (B*P)/(R*T)\n",
"//Now we have,(B_12*Pc_12)/(R*Tc_12) = B_0 + (w_12*B_1)\n",
"//where B_0 and B_1 are to be evaluated at Tr_12\n",
"Tr_12 = T/Tc_12;\n",
"//At reduced temperature Tr_12\n",
"B_0 = 0.083-(0.422/(Tr_12)^(1.6));\n",
"B_1 = 0.139-(0.172/(Tr_12)^(4.2));\n",
"B_12 = ((B_0+(w_12*B_1))*R*Tc_12)/Pc_12;//[m^(3)/mol]\n",
"//For the mixture\n",
"B = y1^(2)*B_11+2*y1*y2*B_12+y2^(2)*B_22;//[m^(3)/mol]\n",
"\n",
"//Now del_12 can be calculated as,\n",
"del_12 = 2*B_12 - B_11 - B_22;//[m^(3)/mol]\n",
"\n",
"//We have the relation, log(phi_1) = (P/(R*T))*(B_11 + y2^(2)*del_12), therefore\n",
"phi_1 = exp((P/(R*T))*(B_11 + y2^(2)*del_12));\n",
"//Similarly for component 2\n",
"phi_2 = exp((P/(R*T))*(B_22 + y1^(2)*del_12));\n",
"\n",
"printf(' The value of fugacity coefficient of component 1 (phi_1) is %f\n\n',phi_1);\n",
"printf(' The value of fugacity coefficient of component 2 (phi_2) is %f\n\n',phi_2);\n",
"\n",
"//Finally fugacity coefficient of the mixture is given by\n",
"//log(phi) = y1*log(phi_1) + y2*log(phi_2);\n",
"phi = exp(y1*log(phi_1) + y2*log(phi_2));\n",
"\n",
"printf(' The value of fugacity coefficient of the mixture (phi) is %f ',phi);\n",
"//The fugacity coefficient of the mixture can also be obtained using\n",
"//log(phi) = (B*P)/(R*T)\n",
""
   ]
   }
,
{
		   "cell_type": "markdown",
		   "metadata": {},
		   "source": [
			"## Example 13.3: Proving_a_mathematical_relation.sce"
		   ]
		  },
  {
"cell_type": "code",
	   "execution_count": null,
	   "metadata": {
	    "collapsed": true
	   },
	   "outputs": [],
"source": [
"clear;\n",
"clc;\n",
"\n",
"//Example - 13.3\n",
"//Page number - 435\n",
"printf('Example - 13.3 and Page number - 435\n\n');\n",
"\n",
"//This problem involves proving a relation in which no mathematics and no calculations are involved.\n",
"//For prove refer to this example 13.3 on page number 435 of the book.\n",
"printf(' This problem involves proving a relation in which no mathematics and no calculations are involved.\n\n');\n",
"printf(' For prove refer to this example 13.3 on page number 435 of the book.')\n",
""
   ]
   }
,
{
		   "cell_type": "markdown",
		   "metadata": {},
		   "source": [
			"## Example 13.4: Proving_a_mathematical_relation.sce"
		   ]
		  },
  {
"cell_type": "code",
	   "execution_count": null,
	   "metadata": {
	    "collapsed": true
	   },
	   "outputs": [],
"source": [
"clear;\n",
"clc;\n",
"\n",
"//Example - 13.4\n",
"//Page number - 436\n",
"printf('Example - 13.4 and Page number - 436\n\n');\n",
"\n",
"//This problem involves proving a relation in which no mathematics and no calculations are involved.\n",
"//For prove refer to this example 13.4 on page number 436 of the book.\n",
"printf(' This problem involves proving a relation in which no mathematics and no calculations are involved.\n\n');\n",
"printf(' For prove refer to this example 13.4 on page number 436 of the book.')\n",
""
   ]
   }
,
{
		   "cell_type": "markdown",
		   "metadata": {},
		   "source": [
			"## Example 13.5: Proving_a_mathematical_relation.sce"
		   ]
		  },
  {
"cell_type": "code",
	   "execution_count": null,
	   "metadata": {
	    "collapsed": true
	   },
	   "outputs": [],
"source": [
"clear;\n",
"clc;\n",
"\n",
"//Example - 13.5\n",
"//Page number - 442\n",
"printf('Example - 13.5 and Page number - 442\n\n');\n",
"\n",
"//This problem involves proving a relation in which no mathematics and no calculations are involved.\n",
"//For prove refer to this example 13.5 on page number 442 of the book.\n",
"printf(' This problem involves proving a relation in which no mathematics and no calculations are involved.\n\n');\n",
"printf(' For prove refer to this example 13.5 on page number 442 of the book.')\n",
""
   ]
   }
,
{
		   "cell_type": "markdown",
		   "metadata": {},
		   "source": [
			"## Example 13.6: Proving_a_mathematical_relation.sce"
		   ]
		  },
  {
"cell_type": "code",
	   "execution_count": null,
	   "metadata": {
	    "collapsed": true
	   },
	   "outputs": [],
"source": [
"clear;\n",
"clc;\n",
"\n",
"//Example - 13.6\n",
"//Page number - 446\n",
"printf('Example - 13.6 and Page number - 446\n\n');\n",
"\n",
"//This problem involves proving a relation in which no mathematics and no calculations are involved.\n",
"//For prove refer to this example 13.6 on page number 446 of the book.\n",
"printf(' This problem involves proving a relation in which no mathematics and no calculations are involved.\n\n');\n",
"printf(' For prove refer to this example 13.6 on page number 446 of the book.')\n",
""
   ]
   }
,
{
		   "cell_type": "markdown",
		   "metadata": {},
		   "source": [
			"## Example 13.7: Calculation_of_fugacity_coefficients.sce"
		   ]
		  },
  {
"cell_type": "code",
	   "execution_count": null,
	   "metadata": {
	    "collapsed": true
	   },
	   "outputs": [],
"source": [
"clear;\n",
"clc;\n",
"\n",
"// Example - 13.7\n",
"// Page number - 447\n",
"printf('Example - 13.7 and Page number - 447\n\n');\n",
"\n",
"//Given\n",
"T = 460;//[K] - Temperature\n",
"P = 40*10^(5);//[Pa] - Pressure\n",
"R=8.314;//[J/mol*K] - Universal gas constant\n",
"// component 1 = nitrogen\n",
"// component 2 = n-Butane\n",
"y1 = 0.4974;// Mole percent of nitrogen\n",
"y2 = 0.5026;// Mole percent of n-Butane\n",
"Tc_nit = 126.2;//[K]\n",
"Pc_nit = 34.00*10^(5);//[Pa]\n",
"Tc_but = 425.1;//[K]\n",
"Pc_but = 37.96*10^(5);//[Pa]\n",
"\n",
"// (1). van der Walls equation of state\n",
"\n",
"// The fugacity coefficient of component 1 in a binary mixture following van der Walls equation of state is given by,\n",
"// log(phi_1) = b_1/(V-b) - log(Z-B) -2*(y1*a_11 + y2*a_12)/(R*T*V)\n",
"// and for component 2 is given by,\n",
"// log(phi_2) = b_2/(V-b) - log(Z-B) -2*(y1*a_12 + y2*a_22)/(R*T*V)\n",
"// Where B = (P*b)/(R*T)\n",
"\n",
"// For componenet 1 (nitrogen)\n",
"a_1 = (27*R^(2)*Tc_nit^(2))/(64*Pc_nit);//[Pa-m^(6)/mol^(2)]\n",
"b_1 = (R*Tc_nit)/(8*Pc_nit);//[m^(3)/mol]\n",
"\n",
"// Similarly for componenet 2 (n-Butane)\n",
"a_2 = (27*R^(2)*Tc_but^(2))/(64*Pc_but);//[Pa-m^(6)/mol^(2)]\n",
"b_2 = (R*Tc_but)/(8*Pc_but);//[m^(3)/mol]\n",
"\n",
"// Here\n",
"a_11 = a_1;\n",
"a_22 = a_2;\n",
"// For cross coefficient\n",
"a_12 = (a_1*a_2)^(1/2);//[Pa-m^(6)/mol^(2)]\n",
"\n",
"// For the mixture \n",
"a = y1^(2)*a_11 + y2^(2)*a_22 + 2*y1*y2*a_12;//[Pa-m^(6)/mol^(2)]\n",
"b = y1*b_1 + y2*b_2;//[m^(3)/mol]\n",
"\n",
"// The cubic form of the van der Walls equation of state is given by,\n",
"// V^(3) - (b+(R*T)/P)*V^(2) + (a/P)*V - (a*b)/P = 0\n",
"// Substituting the value and solving for V, we get\n",
"// Solving the cubic equation\n",
"deff('[y]=f(V)','y=V^(3)-(b+(R*T)/P)*V^(2)+(a/P)*V-(a*b)/P');\n",
"V_1=fsolve(-1,f);\n",
"V_2=fsolve(0,f);\n",
"V_3=fsolve(1,f);\n",
"// The molar volume V = V_3, the other two roots are imaginary\n",
"V = V_3;//[m^(3)/mol]\n",
"\n",
"// The comprssibility factor of the mixture is \n",
"Z = (P*V)/(R*T);\n",
"// And B can also be calculated as\n",
"B = (P*b)/(R*T);\n",
"\n",
"// The fugacity coefficient of component 1 in the mixture is\n",
"phi_1 = exp(b_1/(V-b) - log(Z-B) -2*(y1*a_11 + y2*a_12)/(R*T*V));\n",
"// Similarly fugacity coefficient of component 2 in the mixture is \n",
"phi_2 = exp(b_2/(V-b) - log(Z-B) -2*(y1*a_12 + y2*a_22)/(R*T*V));\n",
"\n",
"// The fugacity coefficient of the mixture is given by,\n",
"// log(phi) = y1*log(phi_1) + y2*log(phi_2)\n",
"phi = exp(y1*log(phi_1) + y2*log(phi_2));\n",
"\n",
"// Also the fugacity coefficient of the mixture following van der Walls equation of state is given by,\n",
"// log(phi) = b/(V-b) - log(Z-B) -2*a/(R*T*V)\n",
"phi_dash = exp(b/(V-b) - log(Z-B) -2*a/(R*T*V));\n",
"// The result is same as obtained above\n",
"\n",
"printf(' (1)van der Walls equation of state\n');\n",
"printf('  The value of fugacity coefficient of component 1 (nitrogen) is %f\n',phi_1);\n",
"printf('  The value of fugacity coefficient of component 2 (n-butane) is %f\n',phi_2);\n",
"printf('  The value of fugacity coefficient of the mixture is %f\n',phi);\n",
"printf('  Also the fugacity coefficient of the mixture from van der Walls equation of state is %f (which is same as above)\n\n',phi_dash);\n",
"\n",
"// (2). Redlich-Kwong equation of state\n",
"\n",
"// For component 1,\n",
"a_1_prime = (0.42748*R^(2)*Tc_nit^(2.5))/Pc_nit;//[Pa-m^(6)/mol^(2)]\n",
"b_1_prime = (0.08664*R*Tc_nit)/Pc_nit;//[m^(3)/mol]\n",
"\n",
"//similarly for component 2,\n",
"a_2_prime = (0.42748*R^(2)*Tc_but^(2.5))/Pc_but;//[Pa-m^(6)/mol^(2)]\n",
"b_2_prime = (0.08664*R*Tc_but)/Pc_but;//[m^(3)/mol]\n",
"\n",
"// For cross coefficient\n",
"a_12_prime = (a_1_prime*a_2_prime)^(1/2);//[Pa-m^(6)/mol^(2)]\n",
"// For the mixture\n",
"a_prime = y1^(2)*a_1_prime + y2^(2)*a_2_prime +2*y1*y2*a_12_prime;//[Pa-m^(6)/mol^(2)]\n",
"b_prime = y1*b_1_prime +y2*b_2_prime;//[m^(3)/mol]\n",
"\n",
"\n",
"//The cubic form of Redlich Kwong equation of state is given by,\n",
"//  V^(3)-((R*T)/P)*V^(2)-((b^(2))+((b*R*T)/P)-(a/(T^(1/2)*P))*V-(a*b)/(T^(1/2)*P)=0\n",
"// Solving the cubic equation\n",
"deff('[y]=f1(V)','y=V^(3)-((R*T)/P)*V^(2)-((b_prime^(2))+((b_prime*R*T)/P)-(a_prime/(T^(1/2)*P)))*V-(a_prime*b_prime)/(T^(1/2)*P)');\n",
"V_4=fsolve(1,f1);\n",
"V_5=fsolve(0,f1);\n",
"V_6=fsolve(-1,f1);\n",
"// The molar volume V = V_4, the other two roots are imaginary\n",
"V_prime = V_4;//[m^(3)/mol]\n",
"\n",
"// The compressibility factor of the mixture is\n",
"Z_prime = (P*V_prime)/(R*T);\n",
"// And B can also be calculated as\n",
"B_prime = (P*b_prime)/(R*T);\n",
"\n",
"// The fugacity coefficient of component 1 in the binary mixture is given by\n",
"// log(phi_1) = b_1/(V-b) - log(Z-B) + ((a*b_1)/((b^(2)*R*T^(3/2))))*(log((V+b)/V)-(b/(V+b)))-(2*(y1*a_1+y2*a_12)/(R*T^(3/2)b))*(log(V+b)/b)\n",
"\n",
"phi_1_prime = exp((b_1_prime/(V_prime-b_prime))-log(Z_prime-B_prime)+((a_prime*b_1_prime)/((b_prime^(2))*R*(T^(3/2))))*(log((V_prime+b_prime)/V_prime)-(b_prime/(V_prime+b_prime)))-(2*(y1*a_1_prime+y2*a_12_prime)/(R*(T^(3/2))*b_prime))*(log((V_prime+b_prime)/V_prime)));\n",
"\n",
"\n",
"// Similarly fugacity coefficient of component 2 in the mixture is \n",
"phi_2_prime = exp((b_2_prime/(V_prime-b_prime))-log(Z_prime-B_prime)+((a_prime*b_2_prime)/((b_prime^(2))*R*(T^(3/2))))*(log((V_prime+b_prime)/V_prime)-(b_prime/(V_prime+b_prime)))-(2*(y1*a_12_prime+y2*a_2_prime)/(R*(T^(3/2))*b_prime))*(log((V_prime+b_prime)/V_prime)));\n",
"\n",
"// The fugacity coefficient of the mixture is given by,\n",
"// log(phi) = y1*log(phi_1) + y2*log(phi_2)\n",
"phi_prime = exp(y1*log(phi_1_prime) + y2*log(phi_2_prime));\n",
"\n",
"// Also the fugacity coefficient for the mixture following Redlich-kwong equation of state is also given by\n",
"// log(phi) = b/(V-b) - log(Z-B) - (a/(R*T^(3/2)))*(1/(V+b)+(1/b)*log((V+b)/V))\n",
"phi_prime_dash = exp(b_prime/(V_prime-b_prime) - log(Z_prime-B_prime) - (a_prime/(R*T^(3/2)))*(1/(V_prime+b_prime)+(1/b_prime)*log((V_prime+b_prime)/                   V_prime)));\n",
"\n",
"printf(' (2)Redlich-Kwong equation of state\n');\n",
"printf('  The value of fugacity coefficient of component 1 (nitrogen) is %f\n',phi_1_prime);\n",
"printf('  The value of fugacity coefficient of component 2 (n-butane) is %f\n',phi_2_prime);\n",
"printf('  The value of fugacity coefficient of the mixture is %f\n',phi_prime);\n",
"printf('  Also the fugacity coefficient for the mixture from Redlich-kwong equation of state is %f (which is same as above)\n\n',phi_prime_dash);"
   ]
   }
],
"metadata": {
		  "kernelspec": {
		   "display_name": "Scilab",
		   "language": "scilab",
		   "name": "scilab"
		  },
		  "language_info": {
		   "file_extension": ".sce",
		   "help_links": [
			{
			 "text": "MetaKernel Magics",
			 "url": "https://github.com/calysto/metakernel/blob/master/metakernel/magics/README.md"
			}
		   ],
		   "mimetype": "text/x-octave",
		   "name": "scilab",
		   "version": "0.7.1"
		  }
		 },
		 "nbformat": 4,
		 "nbformat_minor": 0
}
