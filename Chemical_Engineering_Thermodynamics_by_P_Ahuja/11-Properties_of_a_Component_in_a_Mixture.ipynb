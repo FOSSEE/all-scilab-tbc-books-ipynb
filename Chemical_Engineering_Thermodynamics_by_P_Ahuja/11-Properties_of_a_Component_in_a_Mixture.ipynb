{
"cells": [
 {
		   "cell_type": "markdown",
	   "metadata": {},
	   "source": [
       "# Chapter 11: Properties of a Component in a Mixture"
	   ]
	},
{
		   "cell_type": "markdown",
		   "metadata": {},
		   "source": [
			"## Example 11.10: Calculation_of_fugacity_0f_the_mixture.sce"
		   ]
		  },
  {
"cell_type": "code",
	   "execution_count": null,
	   "metadata": {
	    "collapsed": true
	   },
	   "outputs": [],
"source": [
"clear;\n",
"clc;\n",
"\n",
"//Example - 11.10\n",
"//Page number - 400\n",
"printf('Example - 11.10 and Page number - 400\n\n');\n",
"\n",
"//Given\n",
"x_A = 0.20;// Mole fraction of A\n",
"x_B = 0.35;// Mole fraction of B\n",
"x_C = 0.45;// Mole fraction of C\n",
"\n",
"phi_A = 0.7;// Fugacity coefficient of A\n",
"phi_B = 0.6;// Fugacity coefficient of B\n",
"phi_C = 0.9;// Fugacity coefficient of C\n",
"\n",
"P = 6.08;//[MPa] - Pressure\n",
"T = 384;//[K] - Temperature\n",
"\n",
"//We know that\n",
"//log(phi) = x_1*log(phi_) + x_2*log(phi_2) + x_3*log(phi_3)\n",
"log_phi = x_A*log(phi_A) + x_B*log(phi_B) + x_C*log(phi_C);// Fugacity coefficient\n",
"phi = exp(log_phi);\n",
"\n",
"//Thus fugacity is given by,\n",
"f_mixture = phi*P;//[MPa]\n",
"\n",
"printf('The fugacity of the mixture is %f MPa',f_mixture);"
   ]
   }
,
{
		   "cell_type": "markdown",
		   "metadata": {},
		   "source": [
			"## Example 11.11: Proving_a_mathematical_relation.sce"
		   ]
		  },
  {
"cell_type": "code",
	   "execution_count": null,
	   "metadata": {
	    "collapsed": true
	   },
	   "outputs": [],
"source": [
"clear;\n",
"clc;\n",
"\n",
"//Example - 11.11\n",
"//Page number - 400\n",
"printf('Example - 11.11 and Page number - 400\n\n');\n",
"\n",
"//This problem involves proving a relation in which no mathematics and no calculations are involved.\n",
"//For prove refer to this example 11.11 on page number 400 of the book.\n",
"printf(' This problem involves proving a relation in which no mathematics and no calculations are involved.\n\n');\n",
"printf(' For prove refer to this example 11.11 on page number 400 of the book.')\n",
""
   ]
   }
,
{
		   "cell_type": "markdown",
		   "metadata": {},
		   "source": [
			"## Example 11.12: Proving_a_mathematical_relation.sce"
		   ]
		  },
  {
"cell_type": "code",
	   "execution_count": null,
	   "metadata": {
	    "collapsed": true
	   },
	   "outputs": [],
"source": [
"clear;\n",
"clc;\n",
"\n",
"//Example - 11.12\n",
"//Page number - 401\n",
"printf('Example - 11.12 and Page number - 401\n\n');\n",
"\n",
"//This problem involves proving a relation in which no mathematics and no calculations are involved.\n",
"//For prove refer to this example 11.12 on page number 401 of the book.\n",
"printf(' This problem involves proving a relation in which no mathematics and no calculations are involved.\n\n');\n",
"printf(' For prove refer to this example 11.12 on page number 401 of the book.')\n",
""
   ]
   }
,
{
		   "cell_type": "markdown",
		   "metadata": {},
		   "source": [
			"## Example 11.13: Proving_a_mathematical_relation.sce"
		   ]
		  },
  {
"cell_type": "code",
	   "execution_count": null,
	   "metadata": {
	    "collapsed": true
	   },
	   "outputs": [],
"source": [
"clear;\n",
"clc;\n",
"\n",
"//Example - 11.13\n",
"//Page number - 405\n",
"printf('Example - 11.13 and Page number - 405\n\n');\n",
"\n",
"//This problem involves proving a relation in which no mathematics and no calculations are involved.\n",
"//For prove refer to this example 11.13 on page number 405 of the book.\n",
"printf(' This problem involves proving a relation in which no mathematics and no calculations are involved.\n\n');\n",
"printf(' For prove refer to this example 11.13 on page number 405 of the book.')\n",
""
   ]
   }
,
{
		   "cell_type": "markdown",
		   "metadata": {},
		   "source": [
			"## Example 11.1: Determination_of_volumes_of_ethanol_and_water.sce"
		   ]
		  },
  {
"cell_type": "code",
	   "execution_count": null,
	   "metadata": {
	    "collapsed": true
	   },
	   "outputs": [],
"source": [
"clear;\n",
"clc;\n",
"\n",
"//Example - 11.1\n",
"//Page number - 385\n",
"printf('Example - 11.1 and Page number - 385\n\n');\n",
"\n",
"//Given\n",
"Vol_total = 3;//[m^(3)] - Total volume of solution\n",
"x_ethanol = 0.6;//Mole fraction of ethanol\n",
"x_water = 0.4;//Mole fraction of water\n",
"\n",
"//The partial molar volumes of the components in the mixture are\n",
"V_ethanol_bar = 57.5*10^(-6);//[m^(3)/mol]\n",
"V_water_bar = 16*10^(-6);//[m^(3)/mol]\n",
"\n",
"//The molar volumes of the pure components are\n",
"V_ethanol = 57.9*10^(-6);//[m^(3)/mol]\n",
"V_water = 18*10^(-6);//[m^(3)/mol]\n",
"\n",
"//The molar volume of the solution is\n",
"V_sol = x_ethanol*V_ethanol_bar + x_water*V_water_bar;//[m^(3)/mol]\n",
"//Total number of moles can be calculated as \n",
"n_total = Vol_total/V_sol;//[mol]\n",
"\n",
"//Moles of the components are\n",
"n_ethanol = n_total*x_ethanol;//[mol]\n",
"n_water = n_total*x_water;//[mol]\n",
"\n",
"//Finally the volume of the pure components required can be calculated as\n",
"Vol_ethanol = V_ethanol*n_ethanol;\n",
"Vol_water = V_water*n_water;\n",
"\n",
"printf('Required volume of ethanol is %f cubic metre\n\n',Vol_ethanol);\n",
"printf('Required volume of water is %f cubic metre',Vol_water);\n",
""
   ]
   }
,
{
		   "cell_type": "markdown",
		   "metadata": {},
		   "source": [
			"## Example 11.2: Developing_an_expression.sce"
		   ]
		  },
  {
"cell_type": "code",
	   "execution_count": null,
	   "metadata": {
	    "collapsed": true
	   },
	   "outputs": [],
"source": [
"clear;\n",
"clc;\n",
"\n",
"//Example - 11.2\n",
"//Page number - 385\n",
"printf('Example - 11.2 and Page number - 385\n\n');\n",
"\n",
"//Given\n",
"T = 25+273.15;//[K] - Temperature\n",
"P = 1;//[atm]\n",
"//Component 1 = water\n",
"//component 2 = methanol\n",
"a = -3.2;//[cm^(3)/mol] - A constant\n",
"V2 = 40.7;//[cm^(3)/mol] - Molar volume of pure component 2 (methanol)\n",
"//V1_bar = 18.1 + a*x_2^(2)\n",
"\n",
"//From Gibbs-Duhem equation at constant temperature and pressure we have\n",
"//x_1*dV1_bar + x_2*dV2_bar = 0\n",
"//dV2_bar = -(x_1/x_2)*dV1_bar = -(x_1/x_2)*a*2*x_2*dx_2 = -2*a*x_1*dx_2 = 2*a*x_1*dx_1\n",
"\n",
"//At x_1 = 0: x_2 = 1 and thus V2_bar = V2\n",
"//Integrating the above equation from x_1 = 0 to x_1 in the RHS, and from V2_bar = V2 to V2 in the LHS, we get\n",
"//V2_bar = V2 + a*x_1^(2) -  Molar volume of component 2(methanol) in the mixture \n",
"\n",
"printf('The expression for the partial molar volume of methanol(2) is\nV2_bar = V2 + a*x_1^(2) [cm^(3)/mol]\n\n');\n",
"\n",
"//At infinite dilution, x_2 approach 0 and thus x_1 approach 1, therefore\n",
"x_1 = 1;// Mole fraction of component 1(water) at infinite dilution\n",
"V2_bar_infinite = V2 + a*(x_1^(2));//[cm^(3)/mol]\n",
"\n",
"printf('The partial molar volume of methanol at infinite dilution is %f cm^(3)/mol',V2_bar_infinite);\n",
""
   ]
   }
,
{
		   "cell_type": "markdown",
		   "metadata": {},
		   "source": [
			"## Example 11.3: Determination_of_partial_molar_volume.sce"
		   ]
		  },
  {
"cell_type": "code",
	   "execution_count": null,
	   "metadata": {
	    "collapsed": true
	   },
	   "outputs": [],
"source": [
"clear;\n",
"clc;\n",
"\n",
"//Example - 11.3\n",
"//Page number - 386\n",
"printf('Example - 11.3 and Page number - 386\n\n');\n",
"\n",
"//This problem involves proving a relation in which no mathematics and no calculations are involved.\n",
"//For prove refer to this example 11.3 on page number 386 of the book.\n",
"printf(' This problem involves proving a relation in which no mathematics and no calculations are involved.\n\n');\n",
"printf(' For prove refer to this example 11.3 on page number 386 of the book.')\n",
""
   ]
   }
,
{
		   "cell_type": "markdown",
		   "metadata": {},
		   "source": [
			"## Example 11.4: Calculation_of_enthalpies.sce"
		   ]
		  },
  {
"cell_type": "code",
	   "execution_count": null,
	   "metadata": {
	    "collapsed": true
	   },
	   "outputs": [],
"source": [
"clear;\n",
"clc;\n",
"\n",
"//Example - 11.4\n",
"//Page number - 387\n",
"printf('Example - 11.4 and Page number - 387\n\n');\n",
"\n",
"//Given\n",
"//H = a*x_1 + b*x_2 +c*x_1*x_2\n",
"\n",
"//The values of the constants are\n",
"a = 15000;//[J/mol]\n",
"b = 20000;//[J/mol]\n",
"c = -2000;//[J/mol]\n",
"\n",
"//(1)\n",
"//Enthalpy of pure component 1 = H1 is obtained at x_2 = 0, thus \n",
"x_2 = 0;\n",
"x_1 = 1;\n",
"H1 = a*x_1 + b*x_2 +c*x_1*x_2;//[J/mol]\n",
"printf('(a).The enthalpy of pure component 1 is %f J/mol\n',H1);\n",
"\n",
"//Similarly for component 2,\n",
"//Enthalpy of pure component 2 = H2 is obtained at x_1 = 0, thus \n",
"x_1_prime = 0;\n",
"x_2_prime = 1;\n",
"H2 = a*x_1_prime + b*x_2_prime +c*x_1_prime*x_2_prime;//[J/mol]\n",
"printf('    The enthalpy of pure component 2 is %f J/mol\n\n',H2);\n",
"\n",
"//(b)\n",
"//This part involves proving a relation in which no mathematics and no calculations are involved.\n",
"//For prove refer to this example 11.4 on page number 387 of the book.\n",
"\n",
"//(c)\n",
"//From part (b), we have the relation\n",
"//H1_bar = a + c*(x_2^(2))\n",
"//H2_bar = b + c*(x_1^(2))\n",
"\n",
"//For enthalpy of component 1 at infinite dilution, x_1 approach 0 and thus x_2 approach 1, therefore\n",
"x_1_c = 0;\n",
"x_2_c = 1;\n",
"H1_infinite = a + c*(x_2_c^(2));//[cm^(3)/mol]\n",
"printf('(C).The enthalpy of componenet 1 at infinite dilution (at x_1 = 0) is %f J/mol\n',H1_infinite);\n",
"\n",
"//At x_1 = 0.2\n",
"x_1_c1 = 0.2;\n",
"x_2_c1 = 0.8;\n",
"H1_bar_c1 = a + c*(x_2_c1^(2));//[J/mol]\n",
"printf('    The enthalpy of componenet 1 at (at x_1 = 0.2) is %f J/mol\n',H1_bar_c1);\n",
"\n",
"//At x_1 = 0.8\n",
"x_1_c2 = 0.8;\n",
"x_2_c2 = 0.2;\n",
"H1_bar_c2 = a + c*(x_2_c2^(2));//[J/mol]\n",
"printf('    The enthalpy of componenet 1 at (at x_1 = 0.8) is %f J/mol',H1_bar_c2);\n",
"\n",
"//As x_1 increases, 'H1_bar' approaches the value of 'H1' \n",
"\n",
"//(d)\n",
"//This part involves proving a relation in which no mathematics and no calculations are involved.\n",
"//For prove refer to this example 11.4 on page number 387 of the book.\n",
"\n",
""
   ]
   }
,
{
		   "cell_type": "markdown",
		   "metadata": {},
		   "source": [
			"## Example 11.5: Developing_an_expression_and_calculation_for_enthalpy_change_of_mixture.sce"
		   ]
		  },
  {
"cell_type": "code",
	   "execution_count": null,
	   "metadata": {
	    "collapsed": true
	   },
	   "outputs": [],
"source": [
"clear;\n",
"clc;\n",
"\n",
"//Example - 11.5\n",
"//Page number - 389\n",
"printf('Example - 11.5 and Page number - 389\n\n');\n",
"\n",
"//This problem involves proving a relation in which no mathematical components are involved.\n",
"//For prove refer to this example 11.5 on page number 389 of the book.\n",
"printf(' This problem involves proving a relation in which no mathematical components are involved.\n\n');\n",
"printf(' For prove refer to this example 11.5 on page number 389 of the book.')\n",
""
   ]
   }
,
{
		   "cell_type": "markdown",
		   "metadata": {},
		   "source": [
			"## Example 11.6: Proving_a_mathematical_relation.sce"
		   ]
		  },
  {
"cell_type": "code",
	   "execution_count": null,
	   "metadata": {
	    "collapsed": true
	   },
	   "outputs": [],
"source": [
"clear;\n",
"clc;\n",
"\n",
"//Example - 11.6\n",
"//Page number - 390\n",
"printf('Example - 11.6 and Page number - 390\n\n');\n",
"\n",
"//This problem involves proving a relation in which no mathematics and no calculations are involved.\n",
"//For prove refer to this example 11.6 on page number 390 of the book.\n",
"printf(' This problem involves proving a relation in which no mathematics and no calculations are involved.\n\n');\n",
"printf(' For prove refer to this example 11.6 on page number 390 of the book.')\n",
""
   ]
   }
,
{
		   "cell_type": "markdown",
		   "metadata": {},
		   "source": [
			"## Example 11.7: Proving_a_mathematical_relation.sce"
		   ]
		  },
  {
"cell_type": "code",
	   "execution_count": null,
	   "metadata": {
	    "collapsed": true
	   },
	   "outputs": [],
"source": [
"clear;\n",
"clc;\n",
"\n",
"//Example - 11.7\n",
"//Page number - 393\n",
"printf('Example - 11.7 and Page number - 393\n\n');\n",
"\n",
"//This problem involves proving a relation in which no mathematics and no calculations are involved.\n",
"//For prove refer to this example 11.7 on page number 393 of the book.\n",
"printf(' This problem involves proving a relation in which no mathematics and no calculations are involved.\n\n');\n",
"printf(' For prove refer to this example 11.7 on page number 393 of the book.')\n",
""
   ]
   }
,
{
		   "cell_type": "markdown",
		   "metadata": {},
		   "source": [
			"## Example 11.8: Proving_a_mathematical_relation.sce"
		   ]
		  },
  {
"cell_type": "code",
	   "execution_count": null,
	   "metadata": {
	    "collapsed": true
	   },
	   "outputs": [],
"source": [
"clear;\n",
"clc;\n",
"\n",
"//Example - 11.8\n",
"//Page number - 394\n",
"printf('Example - 11.8 and Page number - 394\n\n');\n",
"\n",
"//This problem involves proving a relation in which no mathematics and no calculations are involved.\n",
"//For prove refer to this example 11.8 on page number 394 of the book.\n",
"printf(' This problem involves proving a relation in which no mathematics and no calculations are involved.\n\n');\n",
"printf(' For prove refer to this example 11.8 on page number 394 of the book.')\n",
""
   ]
   }
,
{
		   "cell_type": "markdown",
		   "metadata": {},
		   "source": [
			"## Example 11.9: Calculation_of_minimum_work_required.sce"
		   ]
		  },
  {
"cell_type": "code",
	   "execution_count": null,
	   "metadata": {
	    "collapsed": true
	   },
	   "outputs": [],
"source": [
"clear;\n",
"clc;\n",
"//Example - 11.9\n",
"//Page number - 395\n",
"printf('Example - 11.9 and Page number - 395\n\n');\n",
"//Given\n",
"n = 1*10^(3);//[mol] - No of moles\n",
"P = 0.1;//[MPa] - Pressure of the surrounding\n",
"T = 300;//[K] - Temperature of the surrounding\n",
"x_1 = 0.79;//Mole fraction of N2 in the air\n",
"x_2 = 0.21;//Mole fraction of O2 in the air\n",
"R=8.314;//[J/mol*K]\n",
"//Change in availability when x_1 moles of component 1 goes from pure state to that in the mixture is\n",
"//x_1*(si_1 - si_2) = x_1*[H1 - H1_bar - T_0*(S1 - S1_bar)]\n",
"//Similarly change in availability of x_2 moles of component 2 is\n",
"//x_2*(si_1 - si_2) = x_2*[H2 - H2_bar - T_0*(S2 - S2_bar)]\n",
"//and thus total availability change when 1 mol of mixture is formed from x_1 mol of component 1 and x_2 mol of component 2 is equal to reversible work\n",
"//W_rev = x_1*[H1 - H1_bar - T_0*(S1 - S1_bar)] + x_2*[H2 - H2_bar - T_0*(S2 - S2_bar)]\n",
"//W_rev = -[x_1*(H1_bar - H1) + x_2*(H2_bar - H2)] + T_0*[x_1*(S1_bar - S1) + x_2*(S2_bar - S2)]\n",
"//W_rev =  -[delta_H_mix] +T_0*[delta_S_mix]\n",
"//If T = T_0 that is,temperature of mixing is same as that of surroundings, W_rev = -delta_G_mix.\n",
"//W_rev = -delta_G_mix = R*T*(x_1*log(x_1) + x_2*log(x_2))\n",
"W_rev = R*T*(x_1*log(x_1) + x_2*log(x_2));//[J/mol]\n",
"//Therefore total work transfer is given by\n",
"W_min = (n*W_rev)/1000;//[kJ]\n",
"printf('The minimum work required is %f kJ',W_min);"
   ]
   }
],
"metadata": {
		  "kernelspec": {
		   "display_name": "Scilab",
		   "language": "scilab",
		   "name": "scilab"
		  },
		  "language_info": {
		   "file_extension": ".sce",
		   "help_links": [
			{
			 "text": "MetaKernel Magics",
			 "url": "https://github.com/calysto/metakernel/blob/master/metakernel/magics/README.md"
			}
		   ],
		   "mimetype": "text/x-octave",
		   "name": "scilab",
		   "version": "0.7.1"
		  }
		 },
		 "nbformat": 4,
		 "nbformat_minor": 0
}
