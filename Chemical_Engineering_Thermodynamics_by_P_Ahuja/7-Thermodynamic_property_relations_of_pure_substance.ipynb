{
"cells": [
 {
		   "cell_type": "markdown",
	   "metadata": {},
	   "source": [
       "# Chapter 7: Thermodynamic property relations of pure substance"
	   ]
	},
{
		   "cell_type": "markdown",
		   "metadata": {},
		   "source": [
			"## Example 7.10: Proving_a_mathematical_relation.sce"
		   ]
		  },
  {
"cell_type": "code",
	   "execution_count": null,
	   "metadata": {
	    "collapsed": true
	   },
	   "outputs": [],
"source": [
"clear;\n",
"clc;\n",
"\n",
"//Example - 7.10\n",
"//Page number - 245\n",
"printf('Example - 7.10 and Page number - 245\n\n');\n",
"\n",
"//This problem involves proving a relation in which no numerical components are involved.\n",
"//For prove refer to this example 7.10 on page number 245 of the book.\n",
"printf(' This problem involves proving a relation in which no numerical components are involved.\n\n');\n",
"printf(' For prove refer to this example 7.10 on page number 245 of the book.');"
   ]
   }
,
{
		   "cell_type": "markdown",
		   "metadata": {},
		   "source": [
			"## Example 7.11: Proving_a_mathematical_relation.sce"
		   ]
		  },
  {
"cell_type": "code",
	   "execution_count": null,
	   "metadata": {
	    "collapsed": true
	   },
	   "outputs": [],
"source": [
"clear;\n",
"clc;\n",
"\n",
"//Example - 7.11\n",
"//Page number - 246\n",
"printf('Example - 7.11 and Page number - 246\n\n');\n",
"\n",
"//This problem involves proving a relation in which no numerical components are involved.\n",
"//For prove refer to this example 7.11 on page number 246 of the book.\n",
"printf(' This problem involves proving a relation in which no numerical components are involved.\n\n');\n",
"printf(' For prove refer to this example 7.11 on page number 246 of the book.');\n",
""
   ]
   }
,
{
		   "cell_type": "markdown",
		   "metadata": {},
		   "source": [
			"## Example 7.12: Evaluation_of_beta_and_K_for_nitrogen_gas.sce"
		   ]
		  },
  {
"cell_type": "code",
	   "execution_count": null,
	   "metadata": {
	    "collapsed": true
	   },
	   "outputs": [],
"source": [
"clear;\n",
"clc;\n",
"\n",
"//Example - 7.12\n",
"//Page number - 247\n",
"printf('Example - 7.9 and Page number - 244\n\n');\n",
"\n",
"//given\n",
"T = 25+273.15;//[K] - Temperature\n",
"P = 1;//[atm] - Pressure\n",
"P = P*101325;//[Pa]\n",
"Tc = 126.2;//[K] - Critical temperature\n",
"Pc = 34;//[bar] - Critical pressure\n",
"Pc = Pc*10^(5);//[Pa]\n",
"R=8.314;//[J/mol*K] - Universal gas constant\n",
"\n",
"a = (27*R^(2)*Tc^(2)/(64*Pc));//[Pa-m^(6)/mol^(2)]\n",
"b = (R*Tc)/(8*Pc);//[m^(3)/mol]\n",
"\n",
"\n",
"// the cubic form of van der Walls equation of state is\n",
"// V^(3)-(b+(R*T)/P)*V^(2)+(a/P)*V-(a*b)/P=0\n",
"//Solving the cubic equation\n",
"deff('[y]=f(V)','y=V^(3)-(b+(R*T)/P)*V^(2)+(a/P)*V-(a*b)/P');\n",
"V = fsolve(1,f);\n",
"//The above equation has 1 real and 2 imaginary roots. We consider only real root.\n",
"\n",
"Beta = R/((P*V)-(a/V)+((2*a*b)/V^(2)));//[K^(-1)]\n",
"\n",
"K_t = (V-b)/((P*V)-(a/V)+((2*a*b)/V^(2)));//[Pa^(-1)]\n",
"K_t = K_t*101325;//[atm^(-1)]\n",
"\n",
"printf(' Beta\t = \t %f K^(-1)\n',Beta);\n",
"printf(' K_t\t = \t %f atm^(-1)',K_t);\n",
"\n",
"//For ideal gas, Beta = 1/T = 0.0033354 K^(-1)    and K_t = 1/P = 1 atm^(-1)\n",
"// So results obtained are convergent with those obtained assuming ideal gas.\n",
""
   ]
   }
,
{
		   "cell_type": "markdown",
		   "metadata": {},
		   "source": [
			"## Example 7.13: Calculation_of_temperature_change_and_entropy_change_of_water.sce"
		   ]
		  },
  {
"cell_type": "code",
	   "execution_count": null,
	   "metadata": {
	    "collapsed": true
	   },
	   "outputs": [],
"source": [
"clear;\n",
"clc;\n",
"\n",
"//Example - 7.13\n",
"//Page number - 248\n",
"printf('Example - 7.13 and Page number - 248\n\n');\n",
"\n",
"//Given\n",
"T = 45+273.15;//[K]\n",
"P_1 = 10;//[kPa] - Initial pressure\n",
"P_2 = 8600;//[kPa] - Final pressure\n",
"V = 1010;//[cm^(3)/kg] - Specific volume for saturated liquid water at 45 C\n",
"V = V*10^(-6);//[m^(3)/kg]\n",
"// Beta = (1/V)*(dV/dT)_P\n",
"Beta = 4.25*10^(-4);//[k^(-1)]\n",
"Cp = 4.178;//[kJ/kg-K] - Specific heat at constant pressure\n",
"eff = 0.75;// Efficiency of the pump\n",
"\n",
"//(1)\n",
"//when efficiency of the pump is 100% ,  W = -delta_Hs\n",
"// Now delta_H = T*dS + V*dP, therefore under isentropic conditions, dH = V*dP\n",
"// Since the fluid is liquid, therefore the specific volume can be taken to be constant and integrating the above equaton we get\n",
"// delta_Hs = V*dP\n",
"delta_Hs = V*(P_2 - P_1);//[kJ/kg]\n",
"\n",
"//Actual pumps are not isentropic and therefore not 100% efficient. Therefore actual work done by the pump is given by\n",
"W = -delta_Hs/eff;//[kJ/kg]\n",
"\n",
"printf(' (1).The work done by the pump is %f kJ/kg\n',W);\n",
"\n",
"//(2)\n",
"// We know that dH = Cp*dT + (1 - Beta*T)*V*dP\n",
"// Beta and V are weak functions of pressure in the case of liquids.\n",
"// Integrating the above equation we get\n",
"// delta_H = Cp*delta_T + (1 - Beta*T)*V*(delta_P)\n",
"// Now from energy balance delta_H = q - W . But q = 0. Therefore,\n",
"delta_H = -W;//[kJ/kg]\n",
"// Solving for delta_T\n",
"delta_T = (delta_H - (1 - Beta*T)*V*(P_2-P_1))/Cp;\n",
"\n",
"printf(' (2).The temperature of water change by, delta_T = %f K\n',delta_T);\n",
"\n",
"//(3)\n",
"T_1 = T;//[K]\n",
"T_2 = T + delta_T;//[K]\n",
"// dS = (Cp/T)*dT - Beta*V*dP\n",
"// Beta and V are weak functions of pressure in the case of liquids. Integrating the above equation we get\n",
"delta_S = Cp*log(T_2/T_1) - Beta*V*(P_2-P_1);//[kJ/kg-K]\n",
"\n",
"printf(' (3).The entropy change of water is given by delta_S = %f kJ/kg-K',delta_S);\n",
"\n",
"\n",
"\n",
"\n",
"\n",
"\n",
"\n",
"\n",
"\n",
"\n",
"\n",
""
   ]
   }
,
{
		   "cell_type": "markdown",
		   "metadata": {},
		   "source": [
			"## Example 7.14: Estimation_of_change_in_entropy_and_enthalpy.sce"
		   ]
		  },
  {
"cell_type": "code",
	   "execution_count": null,
	   "metadata": {
	    "collapsed": true
	   },
	   "outputs": [],
"source": [
"clear;\n",
"clc;\n",
"\n",
"//Example - 7.14\n",
"//Page number - 249\n",
"printf('Example - 7.14 and Page number - 249\n\n');\n",
"\n",
"//Given\n",
"T = 270;//[K]\n",
"P_1 = 381;//[kPa] - Initial pressure\n",
"P_2 = 1200;//[kPa] - Final pressure\n",
"V_liq = 1.55*10^(-3);//[m^(3)/kg] - Specific volume for saturated water in liquid phase at 270 C\n",
"Beta = 2.095*10^(-3);//[K^(-1)]\n",
"\n",
"//dH = Cp*dT + [V - T*(dV/dT)_P]*dP\n",
"// dS = (Cp/T)*dT - ((dV/dT)_P)*dP\n",
"// Since isothermal conditions are maintained we get\n",
"// dH = [V - T*(dV/dT)_P]*dP = V*(1 - Beta*T)*dP\n",
"// For the liquid assuming V and Beta to remain constant during pressure change, and since temperature is constant we get\n",
"delta_H = V_liq*(1 - Beta*T)*(P_2 - P_1);//[kJ/kg]\n",
"\n",
"printf('The enthalpy change is given by delta_H = %f kJ/kg\n',delta_H);\n",
"\n",
"// Under isothermal conditions \n",
"// dS = -((dV/dT)_P)*dP = -Beta*V_liq*dP\n",
"// If Beta*V is assumed to remain constant during pressure change we get\n",
"delta_S = -Beta*V_liq*(P_2-P_1);//[kJ/kg-K]\n",
"\n",
"printf('The entropy change is given by delta_S = %e kJ/kg-K',delta_S);\n",
""
   ]
   }
,
{
		   "cell_type": "markdown",
		   "metadata": {},
		   "source": [
			"## Example 7.15: Calculation_of_percentage_change_in_volume.sce"
		   ]
		  },
  {
"cell_type": "code",
	   "execution_count": null,
	   "metadata": {
	    "collapsed": true
	   },
	   "outputs": [],
"source": [
"clear;\n",
"clc;\n",
"\n",
"//Example - 7.15\n",
"//Page number - 249\n",
"printf('Example - 7.15 and Page number - 249\n\n');\n",
"\n",
"//Given\n",
"T_1 = 0;//[C] - Initial tempetaure\n",
"T_2 = 100;//[C] - Final temperature\n",
"// Beta = 1.0414*10^(-3) + 1.5672*10^(-6)*T + 5.148*10^(-8)*T^(2),   where T is in C\n",
"// At constant pressure  (1/V)*(dV/dT) = Beta\n",
"// or, d(log(V)) = Beta*dT\n",
"// Integrating  we get log(V_2/V_1) = integral(Beta*dT) from limit T_1 to T_2\n",
"integral = integrate('1.0414*10^(-3)+1.5672*10^(-6)*T+5.148*10^(-8)*T^(2)','T',T_1,T_2);\n",
"\n",
"// log(V_2/V_1) = integral\n",
"// (V_2/V_1) = exp(integral)\n",
"// (V_2 - V_1)/V_1 = change = exp(integral) - 1;\n",
"change = exp(integral) - 1;\n",
"per_change = 100*change;\n",
"\n",
"printf('The percentage change in volume = %f %%',per_change);\n",
""
   ]
   }
,
{
		   "cell_type": "markdown",
		   "metadata": {},
		   "source": [
			"## Example 7.16: Determination_of_enthalpy_and_entropy_change.sce"
		   ]
		  },
  {
"cell_type": "code",
	   "execution_count": null,
	   "metadata": {
	    "collapsed": true
	   },
	   "outputs": [],
"source": [
"clear;\n",
"clc;\n",
"\n",
"//Example - 7.16\n",
"//Page number - 250\n",
"printf('Example - 7.16 and Page number - 250\n\n');\n",
"\n",
"//Given\n",
"T_1 = 25 + 273.15;//[C] - Initial tempetaure\n",
"T_2 = 50 + 273.15;//[C] - Final temperature\n",
"P_1 = 1;//[bar] - Initial pressure\n",
"P_2 = 1000;//[bar] - Final pressure\n",
"\n",
"Cp_T1_P1 = 75.305;//[J/mol-K]\n",
"Cp_T2_P1 = 75.314;//[J/mol-K]\n",
"V_T1_P1 = 18.071;//[cm^(3)/mol]\n",
"V_T1_P2 = 18.012;//[cm^(3)/mol]\n",
"V_T2_P1 = 18.234;//[cm^(3)/mol]\n",
"V_T2_P2 = 18.174;//[cm^(3)/mol]\n",
"Beta_T1_P1 = 256*10^(-6);//[K^(-1)]\n",
"Beta_T1_P2 = 366*10^(-6);//[K^(-1)]\n",
"Beta_T2_P1 = 458*10^(-6);//[K^(-1)]\n",
"Beta_T2_P2 = 568*10^(-6);//[K^(-1)]\n",
"\n",
"// The entropy change is given by\n",
"// dS = (Cp/T)*dT - ((dV/dT)_P)*dP\n",
"// The mean Cp between 25 and 50 C is \n",
"Cp_mean = (Cp_T1_P1 + Cp_T1_P1)/2;//[J/mol-K]\n",
"\n",
"\n",
"// (dV/dT)_P=1bar = (V_T2_P1 - V_T1_P1)/(50 - 25)\n",
"dV_dT_P1 = ((V_T2_P1 - V_T1_P1)/(50 - 25))*10^(-6);//[m^(-3)/mol-K]\n",
"dV_dT_P2 = ((V_T2_P2 - V_T1_P2)/(50 - 25))*10^(-6);//[m^(-3)/mol-K]\n",
"// The mean value of (dV/dT)_P between 1 and 1000 bar is\n",
"dV_dT_mean = (dV_dT_P1 + dV_dT_P2)/2;//[m^(-3)/mol-K]\n",
"delta_S = Cp_mean*log(T_2/T_1) - dV_dT_mean*(P_2 - P_1)*10^(5);//[J/mol-K]\n",
"\n",
"printf(' The value of entropy change is given by,  delta_S = %f J/mol-K\n',delta_S);\n",
"\n",
"// Now let us determine the enthalpy change. We know that\n",
"// dH = Cp*dT + [V - T*(dV/dT)_P]*dP\n",
"// [V - T*(dV/dT)_P] = (V - T*V*Beta) = val (say)\n",
"// At state 1\n",
"val_1 = ((V_T1_P1)*10^(-6))*(1 - (T_1)*(Beta_T1_P1));//[m^(3)/mol]\n",
"// At state 2\n",
"val_2 = ((V_T2_P2)*10^(-6))*(1 - (T_2)*(Beta_T2_P2));//[m^(3)/mol]\n",
"val_mean = (val_1 + val_2)/2;//[m^(3)/mol]\n",
"\n",
"delta_H = Cp_mean*(T_2 - T_1) + val_mean*(P_2-P_1)*10^(5);//[J/mol]\n",
"\n",
"printf(' The value of enthalpy change is given by,  delta_H = %f J/mol',delta_H);\n",
""
   ]
   }
,
{
		   "cell_type": "markdown",
		   "metadata": {},
		   "source": [
			"## Example 7.17: Proving_a_mathematical_relation.sce"
		   ]
		  },
  {
"cell_type": "code",
	   "execution_count": null,
	   "metadata": {
	    "collapsed": true
	   },
	   "outputs": [],
"source": [
"clear;\n",
"clc;\n",
"\n",
"//Example - 7.17\n",
"//Page number - 253\n",
"printf('Example - 7.17 and Page number - 253\n\n');\n",
"\n",
"//This problem involves proving a relation in which no numerical components are involved.\n",
"//For prove refer to this example 7.17 on page number 253 of the book.\n",
"printf(' This problem involves proving a relation in which no numerical components are involved.\n\n');\n",
"printf(' For prove refer to this example 7.17 on page number 253 of the book.');\n",
""
   ]
   }
,
{
		   "cell_type": "markdown",
		   "metadata": {},
		   "source": [
			"## Example 7.18: Proving_a_mathematical_relation.sce"
		   ]
		  },
  {
"cell_type": "code",
	   "execution_count": null,
	   "metadata": {
	    "collapsed": true
	   },
	   "outputs": [],
"source": [
"clear;\n",
"clc;\n",
"\n",
"//Example - 7.18\n",
"//Page number - 253\n",
"printf('Example - 7.18 and Page number - 253\n\n');\n",
"\n",
"//This problem involves proving a relation in which no numerical components are involved.\n",
"//For prove refer to this example 7.18 on page number 253 of the book.\n",
"printf(' This problem involves proving a relation in which no numerical components are involved.\n\n');\n",
"printf(' For prove refer to this example 7.18 on page number 253 of the book.');\n",
""
   ]
   }
,
{
		   "cell_type": "markdown",
		   "metadata": {},
		   "source": [
			"## Example 7.19: Proving_a_mathematical_relation.sce"
		   ]
		  },
  {
"cell_type": "code",
	   "execution_count": null,
	   "metadata": {
	    "collapsed": true
	   },
	   "outputs": [],
"source": [
"clear;\n",
"clc;\n",
"\n",
"//Example - 7.19\n",
"//Page number - 254\n",
"printf('Example - 7.19 and Page number - 254\n\n');\n",
"\n",
"//This problem involves proving a relation in which no numerical components are involved.\n",
"//For prove refer to this example 7.19 on page number 254 of the book.\n",
"printf(' This problem involves proving a relation in which no numerical components are involved.\n\n');\n",
"printf(' For prove refer to this example 7.19 on page number 254 of the book.');\n",
""
   ]
   }
,
{
		   "cell_type": "markdown",
		   "metadata": {},
		   "source": [
			"## Example 7.1: Proving_a_mathematical_relation.sce"
		   ]
		  },
  {
"cell_type": "code",
	   "execution_count": null,
	   "metadata": {
	    "collapsed": true
	   },
	   "outputs": [],
"source": [
"clear;\n",
"clc;\n",
"\n",
"//Example - 7.1\n",
"//Page number - 235\n",
"printf('Example - 7.1 and Page number - 235\n\n');\n",
"\n",
"//This problem involves proving a relation in which no numerical components are involved.\n",
"//For prove refer to this example 7.1 on page number 235 of the book.\n",
"printf(' This problem involves proving a relation in which no numerical components are involved.\n\n');\n",
"printf(' For prove refer to this example 7.1 on page number 235 of the book.');\n",
""
   ]
   }
,
{
		   "cell_type": "markdown",
		   "metadata": {},
		   "source": [
			"## Example 7.20: Proving_a_mathematical_relation.sce"
		   ]
		  },
  {
"cell_type": "code",
	   "execution_count": null,
	   "metadata": {
	    "collapsed": true
	   },
	   "outputs": [],
"source": [
"clear;\n",
"clc;\n",
"\n",
"//Example - 7.20\n",
"//Page number - 254\n",
"printf('Example - 7.20 and Page number - 254\n\n');\n",
"\n",
"//This problem involves proving a relation in which no numerical components are involved.\n",
"//For prove refer to this example 7.20 on page number 254 of the book.\n",
"printf(' This problem involves proving a relation in which no numerical components are involved.\n\n');\n",
"printf(' For prove refer to this example 7.20 on page number 254 of the book.');\n",
""
   ]
   }
,
{
		   "cell_type": "markdown",
		   "metadata": {},
		   "source": [
			"## Example 7.21: Proving_a_mathematical_relation.sce"
		   ]
		  },
  {
"cell_type": "code",
	   "execution_count": null,
	   "metadata": {
	    "collapsed": true
	   },
	   "outputs": [],
"source": [
"clear;\n",
"clc;\n",
"\n",
"//Example - 7.21\n",
"//Page number - 255\n",
"printf('Example - 7.21 and Page number - 255\n\n');\n",
"\n",
"//This problem involves proving a relation in which no numerical components are involved.\n",
"//For prove refer to this example 7.21 on page number 255 of the book.\n",
"printf(' This problem involves proving a relation in which no numerical components are involved.\n\n');\n",
"printf(' For prove refer to this example 7.21 on page number 255 of the book.');\n",
""
   ]
   }
,
{
		   "cell_type": "markdown",
		   "metadata": {},
		   "source": [
			"## Example 7.22: Calculation_of_volume_expansivity_and_isothermal_compressibility.sce"
		   ]
		  },
  {
"cell_type": "code",
	   "execution_count": null,
	   "metadata": {
	    "collapsed": true
	   },
	   "outputs": [],
"source": [
"clear;\n",
"clc;\n",
"\n",
"//Example - 7.22\n",
"//Page number - 256\n",
"printf('Example - 7.22 and Page number - 256\n\n');\n",
"\n",
"// Given\n",
"T = 100 + 273.15;//[K]\n",
"P = 10;//[MPa]\n",
"\n",
"// The volume expansivity is defined as \n",
"// Beta = (1/V)*(del V/del T)_P = (1/V)*(dV/dT)_P\n",
"// From compressed liquid water tables at 100 C and 10 MPa,\n",
"V = 0.0010385;//[m(3)/kg]\n",
"Beta = (1/V)*((0.0010549 - 0.0010245)/(120 - 80));//[K^(-1)] // The values are obtained from the steam table as reported in the book.\n",
"\n",
"printf('The value of volume expansivity is  Beta = %e K^(-1)\n',Beta);\n",
"\n",
"//Isothermal compressibility is defined as\n",
"// K_t = -(1/V)*(del V/del T)_T = -(1/V)*(dV/dT)_T\n",
"K_t = -(1/V)*((0.0010361 - 0.0010410)/(15 - 5));//[MPa^(-1)]  // The values are obtained from the steam table as reported in the book.\n",
"\n",
"K_t = K_t*10^(-3);//[kPa]\n",
"\n",
"printf('The value of isothermal compressibility is  K_t = %e kPa^(-1)\n',K_t);\n",
"\n",
"// Cp - Cv = (T*V*(Beta^(2)))/K_t\n",
"R = (T*V*(Beta^(2)))/K_t;//[kJ/kg-K]\n",
"\n",
"printf('The value of the difference between Cp and Cv is  Cp-Cv = %f kJ/kg-K',R);\n",
""
   ]
   }
,
{
		   "cell_type": "markdown",
		   "metadata": {},
		   "source": [
			"## Example 7.23: Estimation_of_specific_heat_capacity.sce"
		   ]
		  },
  {
"cell_type": "code",
	   "execution_count": null,
	   "metadata": {
	    "collapsed": true
	   },
	   "outputs": [],
"source": [
"clear;\n",
"clc;\n",
"\n",
"//Example - 7.23\n",
"//Page number - 257\n",
"printf('Example - 7.23 and Page number - 257\n\n');\n",
"\n",
"// Given\n",
"T = 300 + 273.15;//[K]\n",
"P = 4;//[MPa] \n",
"\n",
"Cp_0 = 7.7 + 0.04594*10^(-2)*T + 0.2521*10^(-5)*T^(2) - 0.8587*10^(-9)*T^(3);//[cal/mol-K]\n",
"Cp_0 = (Cp_0*4.186)/18.015;//[kJ/kg-K]\n",
"\n",
"// Cp(T,P) = Cp_0(T,P=0) - T*integral((del^2 V/del T^(2))_P)*dP from limit 0 to P\n",
"// Cp = Cp_0 - T*((del^2 V/del T^2)_Pavg)*(P_2 - P_1)\n",
"\n",
"P_avg = (0+4)/2;//[MPa]\n",
"\n",
"//Using finite difference we get  (del^2 V/del T^(2)) = ((V_(T+delta T) - 2*V_T + V_(T-delta T))/(delta_T^(2))\n",
"//(del^2 V/del T^(2))_Pavg = (V_(350 C) + V_(250 C) - 2*V_(300 C))/(delta_T^(2)) = del_2 (say)\n",
"del_2 = (0.13857 + 0.11144 - 2*0.12547)/(50^(2));//[m^(3)/kg-K^2] // The values are obtained from the steam table as reported in the book.\n",
"\n",
"\n",
"Cp = Cp_0 - T*del_2*4000;//[kJ/kg-K]\n",
"\n",
"printf(' The value of constant pressure specific heat capacity is, Cp = %f kJ/kg-K',Cp);\n",
"\n",
"// At P = 4 MPa\n",
"// Cp = (del H/del T)_P = (H_350 C - H_250 C)/(350 - 250.4)\n",
"// Cp = (3092.5 - 2801.4)/(350 - 250.4) = 2.923 [kJ/kg-K]\n",
""
   ]
   }
,
{
		   "cell_type": "markdown",
		   "metadata": {},
		   "source": [
			"## Example 7.24: Estimation_of_specific_heat_capacity.sce"
		   ]
		  },
  {
"cell_type": "code",
	   "execution_count": null,
	   "metadata": {
	    "collapsed": true
	   },
	   "outputs": [],
"source": [
"clear;\n",
"clc;\n",
"\n",
"//Example - 7.24\n",
"//Page number - 257\n",
"printf('Example - 7.24 and Page number - 257\n\n');\n",
"\n",
"// Given\n",
"T = 300 + 273.15;//[K]\n",
"P = 2.0;//[MPa]\n",
"\n",
"// At 2 MPa and 250 C \n",
"H_1 = 2902.5;//[kJ/kg]\n",
"// At 2 MPa and 350 C \n",
"H_2 = 3137.0;//[kJ/kg]\n",
"\n",
"Cp = (H_2 - H_1)/(350 - 250);//[kJ/kg-K]\n",
"\n",
"printf(' The value of constant pressure specific heat capacity is, Cp = %f kJ/kg-K',Cp);\n",
""
   ]
   }
,
{
		   "cell_type": "markdown",
		   "metadata": {},
		   "source": [
			"## Example 7.25: Calculation_of_volume_expansivity_and_isothermal_compressibility.sce"
		   ]
		  },
  {
"cell_type": "code",
	   "execution_count": null,
	   "metadata": {
	    "collapsed": true
	   },
	   "outputs": [],
"source": [
"clear;\n",
"clc;\n",
"\n",
"//Example - 7.25\n",
"//Page number - 258\n",
"printf('Example - 7.25 and Page number - 258\n\n');\n",
"\n",
"// Given\n",
"T = 80 + 273.15;//[K]\n",
"P = 10;//[MPa] \n",
"\n",
"// Beta = (1/V)*(del V/del T)_P\n",
"\n",
"// Pressure is kept fixed at 10 MPa and (del V/del T)_P is evaluated. Looking in the compressed liquid water tables,at\n",
"// At 80 C and 10 MPa\n",
"V_1 = 0.0010245;//[m^(3)/kg]\n",
"// At 60 C and 10 MPa\n",
"V_2 = 0.0010127;//[m^(3)/kg]\n",
"// At 100 C and 10 MPa\n",
"V_3 = 0.0010385;//[m^(3)/kg]\n",
"\n",
"Beta = (1/V_1)*((V_3 - V_2)/(100 - 60));//[K^(-1)]\n",
"\n",
"printf('The value of volume expansivity is  Beta = %e K^(-1)\n',Beta);\n",
"\n",
"//Isothermal compressibility is given by\n",
"// K_t = -(1/V)*(del V/del P)_T\n",
"\n",
"// Temperature is kept fixed at 80 C and different pressures are taken to calculate (del V/del P)_T\n",
"// At 80 C and 5 MPa\n",
"V_4 = 0.0010268;//[m^(3)/kg]\n",
"// At 80 C and 10 MPa\n",
"V_5 = 0.0010245;//[m^(3)/kg]\n",
"// At 80 C and 15 MPa\n",
"V_6 = 0.0010222;//[m^(3)/kg]\n",
"\n",
"// K_t = -(1/V)*(del V/del T)_P\n",
"K_t = -(1/V_1)*((V_4 - V_6)/(5 - 15));//[MPa^(-1)]\n",
"K_t = K_t*10^(-6);//[Pa^(-1)]\n",
"\n",
"printf('The value of isothermal compressibility is  K_t = %e Pa^(-1)\n',K_t);\n",
"\n",
"// Cp - Cv = (T*V*(Beta^(2)))/K_t\n",
"R = (T*V_1*(Beta^(2)))/K_t;//[J/kg-K]\n",
"R = R*10^(-3);//[kJ/kg-K]\n",
"\n",
"printf('The value of the difference between Cp and Cv is  Cp-Cv = %f kJ/kg-K',R);\n",
""
   ]
   }
,
{
		   "cell_type": "markdown",
		   "metadata": {},
		   "source": [
			"## Example 7.26: Calculation_of_mean_Joule_Thomson_coefficient.sce"
		   ]
		  },
  {
"cell_type": "code",
	   "execution_count": null,
	   "metadata": {
	    "collapsed": true
	   },
	   "outputs": [],
"source": [
"clear;\n",
"clc;\n",
"//Example - 7.26\n",
"//Page number - 260\n",
"printf('Example - 7.26 and Page number - 260\n\n');\n",
"// Given\n",
"P_1 = 150;//[bar]\n",
"P_2 = 1;//[bar]\n",
"T_1 = 300;//[K]\n",
"T_2 = 260;//[K]\n",
"T_3 = 280;//[K]\n",
"T_4 = 200;//[K]\n",
"T_5 = 120;//[K]\n",
"T_6 = 140;//[K]\n",
"H_P1_T1 = 271.8;//[kJ/kg]\n",
"H_P2_T2 = 260.0;//[kJ/kg] \n",
"H_P2_T3 = 280.2;//[kJ/kg]\n",
"H_P1_T4 = 129.2;//[kJ/kg]\n",
"H_P2_T5 = 118.8;//[kJ/kg]\n",
"H_P2_T6 = 139.1;//[kJ/kg]\n",
"//(a)\n",
"// During the Joule-Thomson expansion the enthalpy should remain constant\n",
"// Therefore at 1 bar the exit temperature is such that enthalpy is 271.8 kJ/kg\n",
"// The temperature at which enthalpy is 271.8 kJ/kg is given by,\n",
"T_new = ((H_P1_T1 - H_P2_T2)/(H_P2_T3 - H_P2_T2))*(T_3 - T_2) + T_2;//[K]\n",
"// Therefore Joule-Thomson coefficient is given by,\n",
"meu = (T_1 - T_new)/(P_1 - P_2);//[K/bar]\n",
"printf(' (a).The value of Joule-Thomson coefficient (for initial T = 300 K) is %f J/bar\n',meu);\n",
"//(b)\n",
"// During the Joule-Thomson expansion the enthalpy should remain constant\n",
"// Therefore at 1 bar the exit temperature is such that enthalpy is 129.2 kJ/kg\n",
"// The temperature at which enthalpy is 129.2 kJ/kg is given by,\n",
"T_new_prime = ((H_P1_T4 - H_P2_T5)/(H_P2_T6 - H_P2_T5))*(T_6 - T_5) + T_5;//[K]\n",
"// Therefore Joule-Thomson coefficient is given by,\n",
"meu_prime = (T_4 - T_new_prime)/(P_1 - P_2);//[K/bar]\n",
"printf(' (b).The value of Joule-Thomson coefficient (for initial T = 200 K) is %f J/bar',meu_prime);\n",
"// Therefore the Joule-Thomson coefficient is higher for low initial temperatures and therefore the drop in temperature is more."
   ]
   }
,
{
		   "cell_type": "markdown",
		   "metadata": {},
		   "source": [
			"## Example 7.27: Estimation_of_Joule_Thomson_coefficient.sce"
		   ]
		  },
  {
"cell_type": "code",
	   "execution_count": null,
	   "metadata": {
	    "collapsed": true
	   },
	   "outputs": [],
"source": [
"clear;\n",
"clc;\n",
"\n",
"//Example - 7.27\n",
"//Page number - 261\n",
"printf('Example - 7.27 and Page number - 261\n\n');\n",
"\n",
"//(a)\n",
"//This part involves proving a relation in which no numerical components are involved.\n",
"//For prove refer to this example 7.27 on page number 261 of the book.\n",
"\n",
"//(b)\n",
"//This part involves proving a relation in which no numerical components are involved.\n",
"//For prove refer to this example 7.27 on page number 261 of the book.\n",
"\n",
"//(c)\n",
"T = 300;//[K] - Temperature\n",
"P = 5;//[atm] - Pressure\n",
"P = P*101325;//[Pa]\n",
"Cp_0 = 35.78;//[J/mol-K] - Standard specific heat capacity at constant pressure\n",
"B = -50;//[cm^(3)/mol]\n",
"B = B*10^(-6);//[m^(3)/mol]\n",
"\n",
"// (dB/dT) = 1.0 = dB_dT (say)\n",
"dB_dT = 1.0;//[cm^(3)/mol-K]\n",
"dB_dT = dB_dT*10^(-6);//[m^(3)/mol-K]\n",
"\n",
"// (d^2 B/d T^2) = -0.01 = dB_dT_2 (say)\n",
"dB_dT_2 = -0.01;//[cm^(3)/mol-K^(2)]\n",
"dB_dT_2 = dB_dT_2*10^(-6);//[m^(3)/mol-K^(2)]\n",
"\n",
"Cp = Cp_0 - P*T*(dB_dT_2);//[[J/mol-K]] - Specific heat capacity at constant pressure\n",
"\n",
"//Therefore Joule-Thomson coefficient is given by,\n",
"meu = (1/Cp)*(-B + T*dB_dT);//[K/Pa]\n",
"meu = meu*10^(5);//[K/bar]\n",
"\n",
"printf(' (c).The value of Joule-Thomson coefficient is %f J/bar',meu);\n",
""
   ]
   }
,
{
		   "cell_type": "markdown",
		   "metadata": {},
		   "source": [
			"## Example 7.28: Proving_a_mathematical_relation.sce"
		   ]
		  },
  {
"cell_type": "code",
	   "execution_count": null,
	   "metadata": {
	    "collapsed": true
	   },
	   "outputs": [],
"source": [
"clear;\n",
"clc;\n",
"\n",
"//Example - 7.28\n",
"//Page number - 262\n",
"printf('Example - 7.28 and Page number - 262\n\n');\n",
"\n",
"//This problem involves proving a relation in which no numerical components are involved.\n",
"//For prove refer to this example 7.28 on page number 262 of the book.\n",
"printf(' This problem involves proving a relation in which no numerical components are involved.\n\n');\n",
"printf(' For prove refer to this example 7.28 on page number 262 of the book.');\n",
""
   ]
   }
,
{
		   "cell_type": "markdown",
		   "metadata": {},
		   "source": [
			"## Example 7.29: Proving_a_mathematical_relation.sce"
		   ]
		  },
  {
"cell_type": "code",
	   "execution_count": null,
	   "metadata": {
	    "collapsed": true
	   },
	   "outputs": [],
"source": [
"clear;\n",
"clc;\n",
"\n",
"//Example - 7.29\n",
"//Page number - 263\n",
"printf('Example - 7.29 and Page number - 263\n\n');\n",
"\n",
"//This problem involves proving a relation in which no numerical components are involved.\n",
"//For prove refer to this example 7.29 on page number 263 of the book.\n",
"printf(' This problem involves proving a relation in which no numerical components are involved.\n\n');\n",
"printf(' For prove refer to this example 7.29 on page number 263 of the book.');\n",
""
   ]
   }
,
{
		   "cell_type": "markdown",
		   "metadata": {},
		   "source": [
			"## Example 7.2: Proving_a_mathematical_relation.sce"
		   ]
		  },
  {
"cell_type": "code",
	   "execution_count": null,
	   "metadata": {
	    "collapsed": true
	   },
	   "outputs": [],
"source": [
"clear;\n",
"clc;\n",
"\n",
"//Example - 7.2\n",
"//Page number - 236\n",
"printf('Example - 7.2 and Page number - 236\n\n');\n",
"\n",
"//This problem involves proving a relation in which no numerical components are involved.\n",
"//For prove refer to this example 7.2 on page number 236 of the book.\n",
"printf(' This problem involves proving a relation in which no numerical components are involved.\n\n');\n",
"printf(' For prove refer to this example 7.2 on page number 236 of the book.')\n",
""
   ]
   }
,
{
		   "cell_type": "markdown",
		   "metadata": {},
		   "source": [
			"## Example 7.30: Calculation_of_pressure.sce"
		   ]
		  },
  {
"cell_type": "code",
	   "execution_count": null,
	   "metadata": {
	    "collapsed": true
	   },
	   "outputs": [],
"source": [
"clear;\n",
"clc;\n",
"\n",
"//Example - 7.30\n",
"//Page number - 267\n",
"printf('Example - 7.30 and Page number - 267\n\n');\n",
"\n",
"//Given\n",
"den_liq = 13690;//[kg/m^(3)] - Density of liquid mercury\n",
"den_solid = 14190;//[kg/m^(3)] - Density of solid mercury\n",
"mp = -38.87;//[C] - Melting point of mercury at pressure of 1 bar\n",
"mp = mp + 273.15;//[K]\n",
"T_req = 0;//[C] - Required temperature to which the melting point is to be raised\n",
"T_req = T_req + 273.15;//[K]\n",
"H_fus = 11.62;//[kJ/kg] - Latent heat of fusion of mercury\n",
"\n",
"V_liq = (1/den_liq);//[m^(3)/kg] - Specific volume of liquid mercury\n",
"V_solid = (1/den_solid);//[m^(3)/kg] - Specific volume of solid mercury\n",
"\n",
"// (delta P/delta T) = ((P - 1)*100)/(T_req - mp)\n",
"// delta H/(T*delta V) = (H_liq - H_solid)/(T*(V_liq - V_solid)) = del (say)\n",
"del = (H_fus)/(mp*(V_liq - V_solid));//[kPa/K] - delta H/(T*delta V)\n",
"\n",
"//Equating the two sides and then solving we get\n",
"P = (del*(T_req - mp))/100 + 1;//[bar]\n",
"\n",
"printf(' The required pressure should be %f bar',P);\n",
""
   ]
   }
,
{
		   "cell_type": "markdown",
		   "metadata": {},
		   "source": [
			"## Example 7.31: Calculation_of_enthalpy_change_and_entropy_change.sce"
		   ]
		  },
  {
"cell_type": "code",
	   "execution_count": null,
	   "metadata": {
	    "collapsed": true
	   },
	   "outputs": [],
"source": [
"clear;\n",
"clc;\n",
"\n",
"//Example - 7.31\n",
"//Page number - 268\n",
"printf('Example - 7.31 and Page number - 268\n\n');\n",
"\n",
"// The clapeyron equation is\n",
"// (dP/dT)_sat = delta_H_fus/(T*delta_V_fus)\n",
"\n",
"//(1)\n",
"// At 1 bar\n",
"// Considering the data given at pressure 1 and 1000 bar, we have\n",
"delta_H_fus_1 = ((1000-1)*10^(5)*(273.15-22.6)*3.97*10^(-6))/(14.8+22.6);//[J/mol]\n",
"delta_S_fus_1 = delta_H_fus_1/(273.15-22.6);//[J/mol-K]\n",
"\n",
"printf(' (1).The delta_H_fus at 1 bar is %f J/mol\n',delta_H_fus_1);\n",
"printf('     The delta_S_fus at 1 bar is %f J/mol-K\n\n',delta_S_fus_1);\n",
"\n",
"//(2)\n",
"// At 6000 bar\n",
"T_mean = (128.8+173.6)/2;//[C] - Mean temperature\n",
"T_mean = T_mean + 273.15;//[K]\n",
"delta_V_fus_mean = (1.12+1.55)/2;//[cm^(3)/mol]\n",
"\n",
"// Consider the data at pressure of 5000 and 7000 bar we get,\n",
"delta_H_fus_2 = ((7000-5000)*10^(5)*(T_mean*delta_V_fus_mean*10^(-6)))/(173.6-128.8);//[J/mol]\n",
"delta_S_fus_2 = delta_H_fus_2/T_mean;//[J/mol-K]\n",
"\n",
"printf(' (2).The delta_H_fus at 6000 bar is %f J/mol\n',delta_H_fus_2);\n",
"printf('     The delta_S_fus at 6000 bar is %f J/mol-K\n\n',delta_S_fus_2);\n",
""
   ]
   }
,
{
		   "cell_type": "markdown",
		   "metadata": {},
		   "source": [
			"## Example 7.32: Estimation_of_ratio_of_temperature_change_and_pressure_change.sce"
		   ]
		  },
  {
"cell_type": "code",
	   "execution_count": null,
	   "metadata": {
	    "collapsed": true
	   },
	   "outputs": [],
"source": [
"clear;\n",
"clc;\n",
"\n",
"//Example - 7.32\n",
"//Page number - 268\n",
"printf('Example - 7.32 and Page number - 268\n\n');\n",
"\n",
"//Given\n",
"H_fus = 80;//[cal/g] - Heat of fusion at 0 C and 1 atm pressure\n",
"T = 0+273.15;//[K] - Temperature\n",
"vol_ratio = 1.091;// Ratio of the specific volume of ice and water.\n",
"sp_vol = 0.001;//[m^(3)/kg] - Specific volume of saturated liquid water.\n",
"\n",
"// The clapeyron equation can be written as\n",
"// (dP/dT)_sat = T*delta V_LS/(delta H_LS) = (T*(V_ice - V_water))/(H_ice - H_water)\n",
"dP_dT = (T*(vol_ratio - 1)*10^(-3))/(-H_fus*4.186);//[K/kPa]\n",
"\n",
"printf('The value of (dT/dP)_sat is %e K/kPa',dP_dT);\n",
"\n",
""
   ]
   }
,
{
		   "cell_type": "markdown",
		   "metadata": {},
		   "source": [
			"## Example 7.33: Determination_of_boiling_point_of_water.sce"
		   ]
		  },
  {
"cell_type": "code",
	   "execution_count": null,
	   "metadata": {
	    "collapsed": true
	   },
	   "outputs": [],
"source": [
"clear;\n",
"clc;\n",
"\n",
"//Example - 7.33\n",
"//Page number - 268\n",
"printf('Example - 7.33 and Page number - 268\n\n');\n",
"\n",
"//Given\n",
"P = 2;//[atm] - Surrounding pressure\n",
"bp_water = 100 + 273.15;//[K] - Boiling point of water at 1 atm pressure\n",
"delta_H_vap = 2257;//[kJ/kg] - Enthalpy of vaporization\n",
"delta_H_vap = delta_H_vap*18.015;//[J/mol]\n",
"R = 8.314;//[J/mol*K] - Universal gas constant\n",
"\n",
"// The clapeyron equation is given by\n",
"// log(P_2_sat/P_1_sat) = (-delta H_vap/R)*(1/T_2 - 1/T_1)\n",
"P_1_sat = 1;//[atm]\n",
"P_2_sat = P;\n",
"T_1 = bp_water;\n",
"\n",
"// Solving the above equation\n",
"T_2 = 1/((log(P_2_sat/P_1_sat))/(-delta_H_vap/R) + (1/T_1));//[K]\n",
"T_2 = T_2 - 273.15;//[C]\n",
"\n",
"printf(' The boiling point of water at a pressure of 2 atm is %f C',T_2);\n",
"\n",
""
   ]
   }
,
{
		   "cell_type": "markdown",
		   "metadata": {},
		   "source": [
			"## Example 7.34: Calculation_of_enthalpy_and_entropy_of_vaporization_of_water.sce"
		   ]
		  },
  {
"cell_type": "code",
	   "execution_count": null,
	   "metadata": {
	    "collapsed": true
	   },
	   "outputs": [],
"source": [
"clear;\n",
"clc;\n",
"//Example - 7.34\n",
"//Page number - 269\n",
"printf('Example - 7.34 and Page number - 269\n\n');\n",
"//Given\n",
"T_1 = 0.01 +273.15;//[K]\n",
"T_2 = 1 + 273.15;//[K]\n",
"P_sat_1 = 0.611;//[kPa] - P_sat at temperature T_1\n",
"P_sat_2 = 0.657;//[kPa] - P_sat at temperature T_2\n",
"Mol_wt = 18.015;//[g/mol] - Molecular weight of water\n",
"R = 8.314;//[J/mol*K] - Universal gas constant\n",
"// The clapeyron equation is given by\n",
"// log(P_sat_2/P_sat_1) = (-delta H_LV/R)*(1/T_2 - 1/T_1)\n",
"// Solving the above equation\n",
"delta_H = -(log(P_sat_2/P_sat_1)/(1/T_2 - 1/T_1))*R;//[J/mol]\n",
"delta_H = delta_H/Mol_wt;//[kJ/kg]\n",
"printf(' The enthalpy of vaporization is %f kJ/kg\n',delta_H);\n",
"// Entropy of vaporization is given by\n",
"S_vap = delta_H/T_2;//[kJ/kg-K]\n",
"printf(' The entropy of vaporization is %f kJ/kg-K',S_vap);"
   ]
   }
,
{
		   "cell_type": "markdown",
		   "metadata": {},
		   "source": [
			"## Example 7.35: Estimation_of_heat_of_vaporization_of_water.sce"
		   ]
		  },
  {
"cell_type": "code",
	   "execution_count": null,
	   "metadata": {
	    "collapsed": true
	   },
	   "outputs": [],
"source": [
"clear;\n",
"clc;\n",
"\n",
"//Example - 7.35\n",
"//Page number - 269\n",
"printf('Example - 7.35 and Page number - 269\n\n');\n",
"\n",
"//Given\n",
"T = 100 + 273.15;//[K]\n",
"// (dT/dP)_sat = (1/27.12) K/mm\n",
"dT_dP = (1/27.12);//[K/mm]\n",
"dT_dP = dT_dP*(760/101325);//[K/Pa]\n",
"\n",
"// The clapeyron equation is given by\n",
"// (dP/dT)_sat = (-delta H_LV)/(T*delta V_LV)\n",
"// delta H_LV = T*delta V_LV*(dP/dT)_sat\n",
"\n",
"// (dP/dT)_sat = 1/(dT/dP)_sat\n",
"dP_dT = 1/dT_dP;//[Pa/K]\n",
"\n",
"// From saturated steam table at 100 C\n",
"V_vap = 1.6729;//[m^(3)/kg]\n",
"V_liq = 0.001044;//[m^(3)/kg]\n",
"delta_V = V_vap - V_liq;//[m^(3)/kg]\n",
"\n",
"// Therefore delta_H_LV is given by\n",
"delta_H_LV = T*delta_V*(dP_dT);//[J/kg]\n",
"delta_H_LV = delta_H_LV*10^(-3);//[kJ/kg]\n",
"\n",
"printf(' The heat of vaporization of water is %f kJ/kg\n',delta_H_LV);\n",
""
   ]
   }
,
{
		   "cell_type": "markdown",
		   "metadata": {},
		   "source": [
			"## Example 7.36: Calculation_of_latent_heat_of_vaporization.sce"
		   ]
		  },
  {
"cell_type": "code",
	   "execution_count": null,
	   "metadata": {
	    "collapsed": true
	   },
	   "outputs": [],
"source": [
"clear;\n",
"clc;\n",
"\n",
"//Example - 7.36\n",
"//Page number - 270\n",
"printf('Example - 7.36 and Page number - 270\n\n');\n",
"\n",
"//Given\n",
"T_1 = 100 + 273.15;//[K]\n",
"P_1 = 1.01325;//[bar]\n",
"T_2 = 98 + 273.15;//[K]\n",
"P_2 = 0.943;//[bar]\n",
"V_vap = 1.789;//[m^(3)] - Volume in vapour phase\n",
"vessel_vol = 1.673;//[m^(3)] - Volume of the vessel\n",
"R = 8.314;//[J/mol*K] - Universal gas constant\n",
"\n",
"// The total volume remains constant as the walls are rigid. At 98 C we get\n",
"// vessel_vol = V_liq*(1 - x) + V_vap*x\n",
"// Since V_liq is negligible as compared to V_vap, therefore\n",
"x = vessel_vol/V_vap;\n",
"\n",
"// The quantity is given by x = m_vap/(m_liq + m_vap)\n",
"// Since (m_liq + m_vap) = 1, therefore at 98 C saturated vapour is x and saturated liquid is (1 - x)\n",
"m_vap = x;//[kg] - Mass of saturated vapour\n",
"m_liq = (1 - x);//[kg] - Mass of saturated liquid\n",
"\n",
"printf(' The amount of vapour condensed is %f kg\n',m_liq);\n",
"\n",
"// The clapeyron equation is given by\n",
"// log(P_2_sat/P_1_sat) = (-delta H_LV/R)*(1/T_2 - 1/T_1)\n",
"\n",
"// Solving the above equation\n",
"delta_H = -(log(P_2/P_1)/(1/T_2 - 1/T_1))*R;\n",
"delta_H = delta_H/18.015;//[kJ/kg]\n",
"\n",
"printf(' The latent heat of vaporization is %f kJ/kg\n',delta_H);\n",
""
   ]
   }
,
{
		   "cell_type": "markdown",
		   "metadata": {},
		   "source": [
			"## Example 7.37: Determination_of_temperature_dependence.sce"
		   ]
		  },
  {
"cell_type": "code",
	   "execution_count": null,
	   "metadata": {
	    "collapsed": true
	   },
	   "outputs": [],
"source": [
"clear;\n",
"clc;\n",
"\n",
"//Example - 7.37\n",
"//Page number - 270\n",
"printf('Example - 7.37 and Page number - 270\n\n');\n",
"\n",
"//Given\n",
"T_1 = 298.15;//[K] - Standard reaction temperature\n",
"delta_H_gas = -52.23;//[kcal/mol] - Enthalpy of formation of C2H5OH(gas)\n",
"delta_H_liq = -66.35;//[kcal/mol] - Enthalpy of formation of C2H5OH(liq)\n",
"\n",
"// For ethanol(g) [T is in K and Cp_0 in cal/mol-K]\n",
"// Cp_0 = 4.75 + 5.006*10^(-2)*T - 2.479*10^(-5)*T^(2) + 4.79*10^(-9)*T^(3)\n",
"\n",
"// For ethanol(l) [T is in K and Cp_0 in cal/mol-K]\n",
"// Cp_0 = 67.29 - 0.343*T - 6.94*10^(-4)*T^(2)\n",
"\n",
"// The vaporization of a liquid can be written as C2H5OH(liq) - C2H5OH(gas)\n",
"// Since the pressure is 1 atm therefore the standard data can be used\n",
"delta_H_298 = delta_H_gas - delta_H_liq;//[kcal/mol]\n",
"delta_H_298 = delta_H_298*1000;//[cal/mol]\n",
"delta_a = 4.75 - 67.29;\n",
"delta_b = 5.006*10^(-2) - (-0.343);\n",
"delta_c = -2.479*10^(-5) - 6.94*10^(-4);\n",
"delta_d = 4.79*10^(-9);\n",
"\n",
"// The standard enthalpy of vaporization at a temperature T is given by\n",
"// delta_H_T =  delta_H_298 + integrate('delta_a + delta_b*T + delta_c*T^(2) + delta_d*T^(3)','T',T_1,T);//[cal/mol]\n",
"\n",
"// Therefore the standard enthalpy of vaporization at a temperature T = 283 K is given by\n",
"T_2 = 283;//[K]\n",
"delta_H_283 =  delta_H_298 + integrate('delta_a+delta_b*T+delta_c*T^(2)+delta_d*T^(3)','T',T_1,T_2);//[cal/mol]\n",
"\n",
"// Therefore the standard enthalpy of vaporization at a temperature T = 348 K is given by\n",
"T_3 = 348;//[K]\n",
"delta_H_348 =  delta_H_298 + integrate('delta_a+delta_b*T+delta_c*T^(2)+delta_d*T^(3)','T',T_1,T_3);//[cal/mol]\n",
"\n",
"// From the values of standard enthalpy of vaporization obtained above at 283, 298, and 348 K, it is clear that enthalpy decreases with increase in temperature\n",
"printf(' The value of enthalpy of vaporization at 283 K is %f cal/mol\n',delta_H_283);\n",
"printf(' The value of enthalpy of vaporization at 298.15 K is %f cal/mol\n',delta_H_298);\n",
"printf(' The value of enthalpy of vaporization at 348 K is %f cal/mol\n',delta_H_348);\n",
"printf(' Therefore standard enthalpy of vaporization decrease with the increase in temperature\n\n');\n",
"\n",
"// Solving the above equatio manually we get,\n",
"// delta_H_vap = 1.1975*10^(-9)*T^(4) - 2.396*10^(-4)*T^(3) + 0.1965*T^(2) - 62.54*T + 21639.54 \n",
"// Solving for 'T' at which 'delta_H_vap' = 0\n",
"deff('[y]=f(T)','y=1.1975*10^(-9)*T^(4)-2.396*10^(-4)*T^(3)+0.1965*T^(2)-62.54*T + 21639.54');\n",
"T_0 = fsolve(500,f);//[J/mol]\n",
"\n",
"// We know that at critical point (critical temperature and critical pressure) the enthalpy of vaporization is zero.\n",
"// Here we have made the standard enthalpy of vaporization equal to zero which is at standard pressure of 1 atm.\n",
"// Therefore following conclusions can be drawn\n",
"printf(' The temperature obtained by equating standard enthalpy of vaporization equal to zero is %f K\n',T_0);\n",
"printf(' But the critical temperature of ethanol is 513.9 K, which is far from the temperature obtained above\n')\n",
"printf(' Therefore the temperature obtained by equating standard enthalpy of vaporization equal to zero is not the critical temperature')\n",
"\n",
""
   ]
   }
,
{
		   "cell_type": "markdown",
		   "metadata": {},
		   "source": [
			"## Example 7.38: Calculation_of_fugacity_of_water.sce"
		   ]
		  },
  {
"cell_type": "code",
	   "execution_count": null,
	   "metadata": {
	    "collapsed": true
	   },
	   "outputs": [],
"source": [
"clear;\n",
"clc;\n",
"\n",
"//Example - 7.38\n",
"//Page number - 276\n",
"printf('Example - 7.38 and Page number - 276\n\n');\n",
"\n",
"//Given\n",
"T = 300 + 273.15;//[K] - Temperature\n",
"P = 9000;//[kPa] - Pressure\n",
"P_sat = 8592.7;//[kPa] - Vapour pressure of saturated water at 300 C\n",
"f_sat = 6738.9;//[kPa] - Fugacity of saturated water at 300 C\n",
"V_liq = 25.28;//[cm^(3)/mol] - Molar volume of water in liquid phase\n",
"V_liq = V_liq*10^(-6);// [m^(3)/mol]\n",
"V_vap = 391.1;//[cm^(3)/mol] - Molar volume of water in vapour phase\n",
"V_vap = V_vap*10^(-6);// [m^(3)/mol]\n",
"R = 8.314;//[J/mol*K] - Universal gas constant\n",
"\n",
"// At 300 C and 9000 kPa water is a compressed liquid and its fugacity is given by\n",
"// f = f_sat*exp[V_liq*(P - P_sat)/R*T]\n",
"fugacity = f_sat*exp((V_liq*(P - P_sat)*1000)/(R*T));\n",
"\n",
"printf(' The fugacity of water at 9000 kPa is %f kPa',fugacity);\n",
"\n",
""
   ]
   }
,
{
		   "cell_type": "markdown",
		   "metadata": {},
		   "source": [
			"## Example 7.39: Estimation_of_fugacity_of_saturated_steam.sce"
		   ]
		  },
  {
"cell_type": "code",
	   "execution_count": null,
	   "metadata": {
	    "collapsed": true
	   },
	   "outputs": [],
"source": [
"clear;\n",
"clc;\n",
"\n",
"//Example - 7.39\n",
"//Page number - 276\n",
"printf('Example - 7.39 and Page number - 276\n\n');\n",
"\n",
"//Given\n",
"T = 200 + 273.15;//[K] - Temperature\n",
"R = 8.314;//[J/mol*K] - Universal gas constant\n",
"\n",
"// From steam table at 200 C as reported in the book\n",
"P_sat = 1.5538;//[MPa] - Vapour pressure of saturated steam\n",
"H_vap = 2793.2;//[kJ/kg] - Enthalpy of saturated steam in vapour phase\n",
"S_vap = 6.4323;//[kJ/kg-K] - Entropy of saturated steam in vapour phase\n",
"G_sat = H_vap - T*S_vap;//[kJ/kg] - Gibbs free energy\n",
"G_sat = G_sat*18.015;//[J/mol]\n",
"\n",
"// Now let us calculate the Gibbs free energy at the lowest pressure available in superheated steam tables at 200 C\n",
"// At 200 C and 0.01 MPa as reported in the book\n",
"H = 2879.5;//[kJ/kg] - Enthalpy\n",
"S = 8.9038;//[kJ/kg-K] - Entropy\n",
"G_ig = H - T*S;//[kJ/kg] - Gibbs free energy\n",
"G_ig = G_ig*18.015;//[J/mol]\n",
"\n",
"// Integrating from ideal gas state at 200 C and 0.01 MPa to saturated vapour at 200 C we get\n",
"// G_sat - G_ig = R*T*log(f_sat/f_ig)\n",
"\n",
"// Under the ideal gas condition the pressure is small therefore f_ig = P = 0.01 MPa\n",
"f_ig = 0.01;//[MPa]\n",
"\n",
"// Solving the above equation\n",
"f_sat = f_ig*(exp((G_sat - G_ig)/(R*T)));//[MPa]\n",
"\n",
"printf(' The fugacity of saturated steam at 200 C is %f MPa',f_sat);\n",
"\n",
""
   ]
   }
,
{
		   "cell_type": "markdown",
		   "metadata": {},
		   "source": [
			"## Example 7.3: Proving_a_mathematical_relation.sce"
		   ]
		  },
  {
"cell_type": "code",
	   "execution_count": null,
	   "metadata": {
	    "collapsed": true
	   },
	   "outputs": [],
"source": [
"clear;\n",
"clc;\n",
"\n",
"//Example - 7.3\n",
"//Page number - 236\n",
"printf('Example - 7.2 and Page number - 236\n\n');\n",
"\n",
"//This problem involves proving a relation in which no numerical components are involved.\n",
"//For prove refer to this example 7.3 on page number 236 of the book.\n",
"printf(' This problem involves proving a relation in which no numerical components are involved.\n\n');\n",
"printf(' For prove refer to this example 7.3 on page number 236 of the book.')\n",
""
   ]
   }
,
{
		   "cell_type": "markdown",
		   "metadata": {},
		   "source": [
			"## Example 7.40: Estimation_of_fugacity_of_steam.sce"
		   ]
		  },
  {
"cell_type": "code",
	   "execution_count": null,
	   "metadata": {
	    "collapsed": true
	   },
	   "outputs": [],
"source": [
"clear;\n",
"clc;\n",
"\n",
"//Example - 7.40\n",
"//Page number - 277\n",
"printf('Example - 7.40 and Page number - 277\n\n');\n",
"\n",
"// Given\n",
"T = 320 + 273.15;//[K]\n",
"P_1 = 70;//[bar]\n",
"P_2 = 170;//[bar]\n",
"R = 8.314;//[J/mol*K] - Universal gas constant\n",
"\n",
"//(a)\n",
"// dG = R*T*dlog(f)\n",
"// G - G_ig = R*T*log(f/f_ig)\n",
"\n",
"// From steam table the low pressure that is available is 1 kPa.\n",
"f_ig = 1;//[kPa] - Assuming ideal gas behaviour at such low pressure\n",
"\n",
"// At 1 kPa (under saturated conditions)\n",
"P_sat = 112.891;//[bar]\n",
"// Therefore at both 1 kPa and 70 bar the stem is superheated and byond a pressure of 112.891 bar it is compressed liquid.\n",
"\n",
"// For superheated steam table at 1 kPa and 320 C, as repoted in the book\n",
"H_1 = 3117.08;//[kJ/kg] - Enthalpy\n",
"S_1 = 10.41232;//[kJ/kg-K] - Entropy\n",
"\n",
"// For superheated steam table at 70 bar and 320 C, as repoted in the book\n",
"H_2 = 2916.92;//[kJ/kg] - Enthalpy\n",
"S_2 = 6.0651;//[kJ/kg-K] - Entropy\n",
"\n",
"// At 70 bar and 320 C,\n",
"G = H_2 - T*S_2;//[kJ/kg] - Gibbs free energy\n",
"// At 1 kPa and 320 C\n",
"G_ig = H_1 - T*S_1;//[kJ/kg] - Gibbs free energy\n",
"\n",
"// log(f/f_ig) = (G - G_ig)/(R*T)\n",
"f = f_ig*(exp((G - G_ig)*18/(R*T)));//[kPa]\n",
"f = f*10^(-2);//[bar]\n",
"\n",
"// At 70 bar\n",
"phi = f/P_1;\n",
"\n",
"printf(' (a).The fugacity of steam at 320 C and 70 bar is %f bar\n',f);\n",
"printf('     The fugacity coefficient at 320 C and 70 bar is, phi = %f\n\n',phi);\n",
"\n",
"//(b)\n",
"// Now consider saturated steam at 320 C. We have\n",
"P_sat = 112.891;//[bar]\n",
"V_liquid = 1.5;//[cm^(3)/mol] - Molar vlume of saturated liquid\n",
"V_liquid = V_liquid*10^(-6);//[m^(3)/mol]\n",
"V_vapour = 15.48;//[cm^(3)/mol] - Molar vlume of saturated vapour\n",
"U_liqid = 1445.7;//[Kj/kg] - Internal energy of satuarted liquid\n",
"U_vapour = 2528.9;//[kJ/kg] - Internal energy of satuarted vapour\n",
"H_liquid = 1462.6;//[kJ/kg] - Enthalpy of saturated liquid\n",
"H_vapour = 2703.7;//[kJ/kg] - Enthalpy of saturated vapour\n",
"S_liquid = 3.45;//[kJ/kg-K]  - Entropy of saturated liquid\n",
"S_vapour = 5.5423;//[kJ/kg-K] - Entropy of saturated vapour\n",
"\n",
"// Now let us calculate Gibbs free energy of saturated liquid and saturated vapour\n",
"G_liquid = H_liquid - T*S_liquid;//[kJ/kg]\n",
"G_vapour = H_vapour - T*S_vapour;//[kJ/kg]\n",
"// Note that under saturated conditions\n",
"// G_sat = G_liquid = G_vapour\n",
"G_sat = G_liquid;//[kJ/kg]\n",
"\n",
"// log(f_sat/f_ig) = (G_sat - G_ig)/(R*T)\n",
"f_sat = f_ig*(exp((G_sat - G_ig)*18/(R*T)));//[kPa]\n",
"f_sat = f_sat*10^(-2);//[bar]\n",
"\n",
"phi_sat = f_sat/P_sat;\n",
"\n",
"// And now the fugacity is to be determined at 320 C and P = 170 bar. We know the following relation for compressed liquid.\n",
"// f_CL = f_sat*exp(V_liquid*(P-P_sat)/(R*T))\n",
"f_CL = f_sat*exp(V_liquid*18*(P_2-P_sat)*10^(5)/(R*T));//[bar]\n",
"\n",
"// Therefore the fugacity coefficient at 170 bar and 320 C is given by\n",
"phi_2 = f_CL/P_2;\n",
"\n",
"printf(' (b).The fugacity of steam at 320 C and 170 bar is %f bar\n',f_CL);\n",
"printf('     The fugacity coefficient at 320 C and 170 bar is, phi = %f\n\n',phi_2);\n",
"\n",
""
   ]
   }
,
{
		   "cell_type": "markdown",
		   "metadata": {},
		   "source": [
			"## Example 7.41: Determination_of_fugacities_at_two_states.sce"
		   ]
		  },
  {
"cell_type": "code",
	   "execution_count": null,
	   "metadata": {
	    "collapsed": true
	   },
	   "outputs": [],
"source": [
"clear;\n",
"clc;\n",
"\n",
"//Example - 7.41\n",
"//Page number - 278\n",
"printf('Example - 7.41 and Page number - 278\n\n');\n",
"\n",
"//Given\n",
"T = 300 + 273.15;//[K]\n",
"P_1 = 12500*10^(3);//[Pa]\n",
"P_2 = 8581*10^(3);//[Pa]\n",
"P_3 = 300*10^(3);//[Pa]\n",
"V_liq = 1.404;//[cm^(3)/g] - Specific volume of liquid\n",
"V_liq = (V_liq/10^(6))*18.015;//[m^(3)/mol]\n",
"R = 8.314;//[J/mol*K] - Universal gas constant\n",
"\n",
"// state 1: 300 C, 12500 kPa\n",
"// state 2: 300 C, 8581 kPa\n",
"// state 3: 300 C, 300 kPa\n",
"\n",
"// From state 1 to state 2 the system is liquid water and if the molar volume of liquid is assumed costant we can write\n",
"// G_2 - G_1 = V_liq*(P_2 - P_1)\n",
"// G_2 - G_1 = R*Tlog(f_2/f_1)\n",
"// Comparing the above two equations we get\n",
"// (f_2/f_1) = exp((V_liq*(P_2 - P_1)/(R*T))\n",
"f2_f1 = exp((V_liq*(P_2 - P_1)/(R*T))); // (f_2/f_1) = f2_f1 (say)\n",
"\n",
"// In state 2 the fugacity of liquid is same as that of saturated vapour and for the vapour phase change from state 2 to 3 the fugacity ratio is calculated using \n",
"// G_3 - G_2 = R*Tlog(f_3/f_2)\n",
"\n",
"// At 300 C, 8581 kPa \n",
"H_liq_2 = 2749.0;//[kJ/kg]\n",
"S_vap_2 = 5.7045;//[kJ/kg-K]\n",
"G_vap_2 = -520.53;//[kJ/kg]\n",
"G_vap_2 = G_vap_2*18.015;//[J/mol]\n",
"\n",
"// At 300 C, 300 kPa \n",
"H_3 = 3069.3;//[kJ/kg]\n",
"S_3 = 7.7022;//[kJ/kg-K]\n",
"G_3 = -1345.22;//[kJ/kg]\n",
"G_3 = G_3*18.015;//[J/mol]\n",
"\n",
"// Substituting and solving the equation  G_3 - G_2 = R*Tlog(f_3/f_2)\n",
"f3_f2 = exp((G_3 - G_vap_2)/(R*T));//  (f_3/f_2) = f3_f2 (say)\n",
"\n",
"// (f_3/f_1) = (f_3/f_2)*(f_2/f_1)\n",
"f3_f1 = f3_f2*f2_f1;\n",
"\n",
"printf(' The ratio of fugacity in the final state to that in the initial state is given by f3/f2 = %f',f3_f2);\n",
"\n",
""
   ]
   }
,
{
		   "cell_type": "markdown",
		   "metadata": {},
		   "source": [
			"## Example 7.4: Proving_a_mathematical_relation.sce"
		   ]
		  },
  {
"cell_type": "code",
	   "execution_count": null,
	   "metadata": {
	    "collapsed": true
	   },
	   "outputs": [],
"source": [
"clear;\n",
"clc;\n",
"\n",
"//Example - 7.4\n",
"//Page number - 240\n",
"printf('Example - 7.4 and Page number - 240\n\n');\n",
"\n",
"//This problem involves proving a relation in which no numerical components are involved.\n",
"//For prove refer to this example 7.4 on page number 240 of the book.\n",
"printf(' This problem involves proving a relation in which no numerical components are involved.\n\n');\n",
"printf(' For prove refer to this example 7.4 on page number 240 of the book.')\n",
""
   ]
   }
,
{
		   "cell_type": "markdown",
		   "metadata": {},
		   "source": [
			"## Example 7.5: Proving_a_mathematical_relation.sce"
		   ]
		  },
  {
"cell_type": "code",
	   "execution_count": null,
	   "metadata": {
	    "collapsed": true
	   },
	   "outputs": [],
"source": [
"clear;\n",
"clc;\n",
"\n",
"//Example - 7.5\n",
"//Page number - 240\n",
"printf('Example - 7.5 and Page number - 240\n\n');\n",
"\n",
"//This problem involves proving a relation in which no numerical components are involved.\n",
"//For prove refer to this example 7.5 on page number 240 of the book.\n",
"printf(' This problem involves proving a relation in which no numerical components are involved.\n\n');\n",
"printf(' For prove refer to this example 7.5 on page number 240 of the book.');\n",
""
   ]
   }
,
{
		   "cell_type": "markdown",
		   "metadata": {},
		   "source": [
			"## Example 7.6: Estimation_of_entropy_change.sce"
		   ]
		  },
  {
"cell_type": "code",
	   "execution_count": null,
	   "metadata": {
	    "collapsed": true
	   },
	   "outputs": [],
"source": [
"clear;\n",
"clc;\n",
"\n",
"//Example - 7.6\n",
"//Page number - 241\n",
"printf('Example - 7.6 and Page number - 241\n\n');\n",
"\n",
"//Given\n",
"P_1 = 1;//[MPa] - Initial pressure\n",
"P_2 = 1.4;//[MPa] - Final pressure\n",
"\n",
"//We know that\n",
"// dS = (Cp/T)*dT - (dV/dT)*dP\n",
"// Along an isothermal path,integration of above expression between states 1 and 2 yields\n",
"// S_2 - S_1 = - integral((dV/dT)*dP)_P\n",
"// An estimate can be made by assuming that (dV/dT)_P  remains constant over the range of pressure from P_1 to P_2 and evaluating the derivative at average pressure of 1.2 MPa\n",
"P_avg = P_2;\n",
"// S_2 - S_1 = -integral((dV/dT)*dP)_Pavg*(P_2 - P_1)\n",
"// (dV/dT)_P=1.2MPa = ((V_350 - V_250)/(350 - 250))\n",
"dV_dT = (0.2345 - 0.19234)/100;//[m^(3)/kg-K]\n",
"//Therefore\n",
"delta_S = -dV_dT*(P_2 - P_1)*1000;//[kJ/kg-K] - Entropy change\n",
"\n",
"printf('The change in entropy is given by\n S_2-S_1 = %f kJ/kg-K',delta_S);\n",
"\n",
"//Let us compare this tabulated values. At 1MPA and 300 C, S_1 = 7.1229 kJ/kg-K. At 1.4 MPa and 300 C, S_2 = 6.9534 kJ/kg-K. \n",
"//Therefore  S_2 - S_1 = -0.1695 kJ/kg-K\n",
""
   ]
   }
,
{
		   "cell_type": "markdown",
		   "metadata": {},
		   "source": [
			"## Example 7.7: Determination_of_work_done.sce"
		   ]
		  },
  {
"cell_type": "code",
	   "execution_count": null,
	   "metadata": {
	    "collapsed": true
	   },
	   "outputs": [],
"source": [
"clear;\n",
"clc;\n",
"\n",
"//Example - 7.7\n",
"//Page number - 241\n",
"printf('Example - 7.7 and Page number - 241\n\n');\n",
"\n",
"//Given\n",
"T = 25 + 273.15;//[K] - Temperature of the surrounding\n",
"P_1 = 1;//[atm] - Initial pressure\n",
"P_2 = 1000;//[atm] - Final pressure\n",
"\n",
"// V = 18.066 - 7.15*10^(-4)*P + 4.6*10^(-8)*P^(2)    where, V is in 'cm^(3)/mol' and P is in 'atm\n",
"// (dV/dT)_P = 0.0045 + 1.4*10^(-6)*P    ;//cm^(3)/mol-K\n",
"\n",
"// The work done by 1 mol is given by W = integral(P*dV)\n",
"// Differentiating both sides of the expression for V, we get\n",
"// dV = -7.15*10^(-4)*dP + 9.2*10^(-8)*(P*dP) \n",
"// P*dV = -7.15*10^(-4)*P*dP + 9.2*10^(-8)*(P^(2)*dP)\n",
"\n",
"// The work done is given by\n",
"W = integrate('-7.15*10^(-4)*P + 9.2*10^(-8)*(P^(2))','P',P_1,P_2);//[atm-cm^(3)/mol]\n",
"W = W*101325*10^(-6);//[J/mol]\n",
"\n",
"printf('The necessary work to compress water from 1 atm to 1000 atm is  %f J/mol\n\n',W);\n",
"\n",
"//Let us calculate the amount of heat transfer\n",
"// q = integral(T*dS)\n",
"// dS = ((ds/dT)_P)*dT + ((dS/dP)_T)*dP\n",
"// Since the temperature is constant the first term is zero and\n",
"// dS = ((dS/dP)_T)*dP = -((dV/dT)_P)*dP\n",
"// Thus, q = integral(T*dS) = T*(integral(dS))     ( as temperature is constant )\n",
"// or, q = -T*(integral((dV/dT)_P)*dP)\n",
"\n",
"// Thus the heat transfer is given by\n",
"q = -T*integrate('0.0045+1.4*10^(-6)*P','P',P_1,P_2);//[atm-cm^(3)/mol]\n",
"q = q*101325*10^(-6);//[J/mol]\n",
"\n",
"// q - W = delta_U\n",
"// Thus delta_U is given by\n",
"delta_U = q - W;//[J/mol]\n",
"\n",
"printf('The change in internal energy is  %f J/mol',delta_U);\n",
""
   ]
   }
,
{
		   "cell_type": "markdown",
		   "metadata": {},
		   "source": [
			"## Example 7.8: Proving_a_mathematical_relation.sce"
		   ]
		  },
  {
"cell_type": "code",
	   "execution_count": null,
	   "metadata": {
	    "collapsed": true
	   },
	   "outputs": [],
"source": [
"clear;\n",
"clc;\n",
"\n",
"//Example - 7.8\n",
"//Page number - 243\n",
"printf('Example - 7.8 and Page number - 243\n\n');\n",
"\n",
"//This problem involves proving a relation in which no numerical components are involved.\n",
"//For prove refer to this example 7.8 on page number 243 of the book.\n",
"printf(' This problem involves proving a relation in which no numerical components are involved.\n\n');\n",
"printf(' For prove refer to this example 7.8 on page number 243 of the book.')\n",
""
   ]
   }
,
{
		   "cell_type": "markdown",
		   "metadata": {},
		   "source": [
			"## Example 7.9: Proving_a_mathematical_relation.sce"
		   ]
		  },
  {
"cell_type": "code",
	   "execution_count": null,
	   "metadata": {
	    "collapsed": true
	   },
	   "outputs": [],
"source": [
"clear;\n",
"clc;\n",
"\n",
"//Example - 7.9\n",
"//Page number - 244\n",
"printf('Example - 7.9 and Page number - 244\n\n');\n",
"\n",
"//This problem involves proving a relation in which no numerical components are involved.\n",
"//For prove refer to this example 7.9 on page number 244 of the book.\n",
"printf(' This problem involves proving a relation in which no numerical components are involved.\n\n');\n",
"printf(' For prove refer to this example 7.9 on page number 244 of the book.');\n",
""
   ]
   }
],
"metadata": {
		  "kernelspec": {
		   "display_name": "Scilab",
		   "language": "scilab",
		   "name": "scilab"
		  },
		  "language_info": {
		   "file_extension": ".sce",
		   "help_links": [
			{
			 "text": "MetaKernel Magics",
			 "url": "https://github.com/calysto/metakernel/blob/master/metakernel/magics/README.md"
			}
		   ],
		   "mimetype": "text/x-octave",
		   "name": "scilab",
		   "version": "0.7.1"
		  }
		 },
		 "nbformat": 4,
		 "nbformat_minor": 0
}
