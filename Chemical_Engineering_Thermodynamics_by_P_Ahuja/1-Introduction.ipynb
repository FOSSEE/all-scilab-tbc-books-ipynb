{
"cells": [
 {
		   "cell_type": "markdown",
	   "metadata": {},
	   "source": [
       "# Chapter 1: Introduction"
	   ]
	},
{
		   "cell_type": "markdown",
		   "metadata": {},
		   "source": [
			"## Example 1.10: Calculation_of_pressure_and_temperature_at_triple_point.sce"
		   ]
		  },
  {
"cell_type": "code",
	   "execution_count": null,
	   "metadata": {
	    "collapsed": true
	   },
	   "outputs": [],
"source": [
"clear;\n",
"clc;\n",
"\n",
"//Example - 1.10\n",
"//Page number - 27\n",
"printf('Example - 1.10 and Page number - 27\n\n');\n",
"\n",
"//Given\n",
"// log(P)=-(1640/T)+10.56 (solid)\n",
"// log(P)=-(1159/T)+7.769 (liquid),where T is in K\n",
"// F+P=C+2, at triple point F+3=1+2 or,F=0 i.e,vapour pressure of liquid and solid at triple point are same,we get\n",
"// -(1640/T)+10.56 = -(1159/T)+7.769\n",
"\n",
"T = (1640-1159)/(10.56-7.769);//[K]\n",
"P = 10^((-1640/T)+10.56);//[torr]\n",
"\n",
"printf(' The temperature is %f K\n',T);\n",
"printf(' The pressure is %f torr (or mm Hg)',P);\n",
"\n",
"\n",
""
   ]
   }
,
{
		   "cell_type": "markdown",
		   "metadata": {},
		   "source": [
			"## Example 1.11: Determination_of_value_of_R_Cp0_and_Cv0.sce"
		   ]
		  },
  {
"cell_type": "code",
	   "execution_count": null,
	   "metadata": {
	    "collapsed": true
	   },
	   "outputs": [],
"source": [
"clear;\n",
"clc;\n",
"\n",
"//Example - 1.11\n",
"//Page number - 29\n",
"printf('Example - 1.11 and Page number - 29\n\n');\n",
"\n",
"//Given\n",
"M_O2 = 31.999;//molecular weight of oxygen\n",
"M_N2 = 28.014;//molecular weight of nitrogen\n",
"Y = 1.4;//molar heat capacities ratio for air\n",
"\n",
"//Molecular weight of air(21 vol% O2 and 79 vol% N2)is given by\n",
"M_air = (0.21*M_O2)+(0.79*M_N2);//(vol% = mol%)\n",
"\n",
"R = 8.314;//[J/mol*K] - Universal gas constant\n",
"R = (R*1/M_air);//[kJ/kg*K]\n",
"\n",
"printf(' The value of universal gas constant (R) = %f kJ/kg-K \n',R);\n",
"\n",
"//Y=Cp0/Cv0 and Cp0-Cv0=R\n",
"Cv_0 = R/(Y-1);//[kJ/kg*K] \n",
"Cp_0 = Y*Cv_0;//[kJ/kg*K]\n",
"printf(' The value of Cp_0 for air is %f kJ/kg-K\n',Cp_0);\n",
"printf(' The value of Cv_0 for air is %f kJ/kg-K',Cv_0);\n",
""
   ]
   }
,
{
		   "cell_type": "markdown",
		   "metadata": {},
		   "source": [
			"## Example 1.12: Calculation_of_molar_heat_capacity.sce"
		   ]
		  },
  {
"cell_type": "code",
	   "execution_count": null,
	   "metadata": {
	    "collapsed": true
	   },
	   "outputs": [],
"source": [
"clear;\n",
"clc;\n",
"\n",
"//Example - 1.12\n",
"//Page number - 30\n",
"printf('Example - 1.12 and Page number - 30\n\n');\n",
"\n",
"//Given\n",
"Y = 1.4;//molar heat capacities ratio for air\n",
"R = 8.314;// [J/mol*K] - Universal gas constant\n",
"Cv_0 = R/(Y-1);// [J/mol*K]\n",
"Cp_0 = Y*Cv_0;// [J/mol*K]\n",
"\n",
"printf(' The molar heat capacity at constant volume (Cv_0) is %f J/mol-K\n',Cv_0);\n",
"printf(' The molar heat capacity at constant pressure (Cp_0) is %f J/mol-K',Cp_0);\n",
"\n",
"\n",
""
   ]
   }
,
{
		   "cell_type": "markdown",
		   "metadata": {},
		   "source": [
			"## Example 1.13: Determination_of_mean_heat_capacity.sce"
		   ]
		  },
  {
"cell_type": "code",
	   "execution_count": null,
	   "metadata": {
	    "collapsed": true
	   },
	   "outputs": [],
"source": [
"clear;\n",
"clc;\n",
"\n",
"//Example - 1.13\n",
"//Page number - 30\n",
"printf('Example - 1.13 and Page number - 30\n\n');\n",
"\n",
"//Given\n",
"// Cp0=7.7+(0.04594*10^(-2)*T)+(0.2521*10^(-5)*T^(2))-(0.8587*10^(-9)*T^(3))\n",
"T_1 = 400;//[K]\n",
"T_2 = 500;//[K]\n",
"\n",
"//(C)avg = q/(T_2 - T_1) = 1/(T_2 - T_1)*{(integrate('C','T',T_1,T_2))}\n",
"//(Cp0)avg = 1/(T_2 - T_1)*{(integrate('Cp0','T',T_1,T_2))}\n",
"Cp0_avg = (1/(T_2 - T_1))*integrate('7.7+(0.04594*10^(-2)*T)+(0.2521*10^(-5)*T^(2))-(0.8587*10^(-9)*T^(3))','T',T_1,T_2);\n",
"\n",
"printf(' The mean heat capacity (Cp0_avg) for temerature range of 400 to 500 K is %f cal/mol-K',Cp0_avg);"
   ]
   }
,
{
		   "cell_type": "markdown",
		   "metadata": {},
		   "source": [
			"## Example 1.14: Calculation_of_enthalpy_of_water.sce"
		   ]
		  },
  {
"cell_type": "code",
	   "execution_count": null,
	   "metadata": {
	    "collapsed": true
	   },
	   "outputs": [],
"source": [
"clear;\n",
"clc;\n",
"\n",
"//Example - 1.14\n",
"//Page number - 31\n",
"printf('Example - 1.14 and Page number - 31\n\n');\n",
"\n",
"//Given\n",
"//(a)\n",
"P_1 = 0.2;// [MPa] - pressure\n",
"x_1 = 0.59;// mole fraction\n",
"\n",
"//From saturated steam tables at 0.2 MPa\n",
"H_liq_1 = 504.7;// [kJ/kg] - Enthalpy of saturated liquid\n",
"H_vap_1 = 2706.7;// [kJ/kg]- Enthalpy of saturated vapour\n",
"H_1 = (H_liq_1*(1-x_1))+(x_1*H_vap_1);// [kJ/kg]\n",
"printf(' (a).Enthalpy of 1 kg of water in tank is %f kJ/kg\n',H_1);\n",
"\n",
"//(b)\n",
"T_2 = 120.23;// [C] - temperature\n",
"V_2 = 0.6;// [m^(3)/kg] - specific volume\n",
"\n",
"//From saturated steam tables at 120.23 C, as reported in the book\n",
"V_liq_2=0.001061;// [m^(3)/kg]\n",
"V_vap_2=0.8857;// [m^(3)/kg]\n",
"//since V_2 < Vv_2,dryness factor will be given by, V = ((1-x)*V_liq)+(x*V_vap)\n",
"x_2 = (V_2- V_liq_2)/(V_vap_2 - V_liq_2);\n",
"\n",
"//From steam table,at 120.2 C,the vapour pressure of water is 0.2 MPa.So,enthalpy is given by\n",
"H_2 = (H_liq_1*(1-x_2))+(H_vap_1*x_2);//kJ/kg]\n",
"printf(' (b).Enthalpy of saturated steam is %f kJ/kg\n',H_2);\n",
"\n",
"//(c)\n",
"P_3 = 2.5;//[MPa]\n",
"T_3 = 350;//[C]\n",
"//From steam tables at 2.5 MPa,T_sat = 223.99 C,as reported in the book\n",
"//since,T_3 > Tsat, steam is superheated\n",
"printf(' (c).As steam is superheated,from steam table,enthalpy (H) is 3126.3 kJ/kg\n');\n",
"\n",
"//(d)\n",
"T_4 = 350;//[C]\n",
"V_4 = 0.13857;//[m^(3)/kg]\n",
"//From steam table,at 350 C, V_liq = 0.001740 m^(3)/kg and V_vap = 0.008813 m^(3)/kg.Since,V > V_vap,therefore it is superheated.\n",
"//From steam table at 350 C and 1.6 MPa, V = 0.17456 m^(3)/kg\n",
"//At 350 C and 2.0 MPa, V = 0.13857 m^(3)/kg. So,\n",
"printf(' (d).The enthalpy of superheated steam (H) is 3137.0 kJ/kg\n');\n",
"\n",
"//(e)\n",
"P_4 = 2.0;//[MPa]\n",
"U_4 = 2900;// [kJ/kg] - internal energy\n",
"//From saturated table at 2.0 MPa, U_liq = 906.44kJ and U_vap = 2600.3 kJ/kg\n",
"//scince,U_4 > Uv, it is saturated.\n",
"//From superheated steam table at 2.0 MPa and 350 C, as reported in the book\n",
"U_1 = 2859.8;//[kJ/kg]\n",
"H_1 = 3137.0;//[kJ/kg]\n",
"//At 2.0 MPa and 400 C,\n",
"U_2 = 2945.2;//[kJ/kg]\n",
"H_2 = 3247.6;//[kJ/kg]\n",
"T = (((U_4 - U_1)/(U_2 - U_1))*(400 - 350)) + 350;//[C] - By interpolation\n",
"H = (((T - 350)/(400 - 350))*(H_2 - H_1)) + H_1;//[kJ/kg]\n",
"printf(' (e).The enthalpy value (of superheated steam) obtained after interpolation is %f kJ/kg\n',H);\n",
"\n",
"//(f)\n",
"P_5 = 2.5;//[MPa]\n",
"T_5 = 100;//[C]\n",
"//At 100 C,P_sat=101350 N/m^(2). Since P_5 > P_sat,it is compressed liquid\n",
"P_sat = 0.101350;//[MPa]\n",
"H_liq = 419.04;//[kJ/kg] - At 100 C and 0.10135 MPa\n",
"V_liq = 0.001044;//[m^(3)/kg] - At 100 C and 0.10135 MPa\n",
"H_0 = H_liq + (V_liq*(P_5 - P_sat))*1000;//kJ/kg]\n",
"printf(' (f).The enthalpy of compressed liquid is %f kJ/kg\n',H_0);\n",
""
   ]
   }
,
{
		   "cell_type": "markdown",
		   "metadata": {},
		   "source": [
			"## Example 1.1: Calculation_of_pressure_and_heat_transfer_in_piston_cylinder_assembly.sce"
		   ]
		  },
  {
"cell_type": "code",
	   "execution_count": null,
	   "metadata": {
	    "collapsed": true
	   },
	   "outputs": [],
"source": [
"clear;\n",
"clc;\n",
"\n",
"//Example - 1.1 \n",
"//Page number - 6\n",
"printf('Example - 1.1 and Page number - 6\n\n');\n",
"\n",
"//(a)\n",
"// The pressure in the cylinder is due to the weight of the piston and due to surroundings pressure\n",
"m = 50;//[kg] - Mass of piston\n",
"A = 0.05;//[m^(2)] - Area of piston\n",
"g = 9.81;//[m/s^(2)] - Acceleration due to gravity\n",
"Po = 101325;//[N/m^(2)] - Atmospheric pressure\n",
"P = (m*g/A)+Po;//[N/m^(2)]\n",
"P = P/100000;//[bar]\n",
"printf(' (a).Pressure = %f bar\n',P);\n",
"\n",
"//(b)\n",
"printf(' (b).Since the piston weight and surroundings pressure are the same,the gas pressure in the piston-cylinder assembly remains %f bar',P);\n",
"\n",
"\n",
""
   ]
   }
,
{
		   "cell_type": "markdown",
		   "metadata": {},
		   "source": [
			"## Example 1.2: Calculation_of_mass_of_air_contained_in_a_room.sce"
		   ]
		  },
  {
"cell_type": "code",
	   "execution_count": null,
	   "metadata": {
	    "collapsed": true
	   },
	   "outputs": [],
"source": [
"clear;\n",
"clc;\n",
"\n",
"//Example - 1.2\n",
"//Page number - 8\n",
"printf('Example - 1.2 and Page number - 8\n\n');\n",
"\n",
"// Given\n",
"P = 1;//[atm] - Atmospheric pressure\n",
"P = 101325;//[N/m^(2)]\n",
"R = 8.314;//[J/mol*K] - Universal gas constant\n",
"T = 30;//[C] - Temperature of air\n",
"T = 30+273.15;//[K]\n",
"V = 5*5*5;//[m^(3)] - Volume of the room\n",
"\n",
"//The number of moles of air is given by\n",
"n = (P*V)/(R*T);//[mol]\n",
"\n",
"//Molecular weight of air(21 vol% O2 and 79 vol% N2)=(0.21*32)+(0.79*28)=  28.84 g/mol\n",
"m = n*28.84;//[g]\n",
"m = m/1000;//[kg]\n",
"printf('The mass of air is, m = %f kg',m);\n",
"\n",
""
   ]
   }
,
{
		   "cell_type": "markdown",
		   "metadata": {},
		   "source": [
			"## Example 1.3: Determination_of_work_done.sce"
		   ]
		  },
  {
"cell_type": "code",
	   "execution_count": null,
	   "metadata": {
	    "collapsed": true
	   },
	   "outputs": [],
"source": [
"clear;\n",
"clc;\n",
"\n",
"//Example - 1.3\n",
"//Page number - 13\n",
"printf('Example - 1.3 and Page number - 13\n\n');\n",
"\n",
"// Given\n",
"P1 = 3;// [bar]  - initial pressure\n",
"V1 = 0.5;// [m^(3)] - initial volume\n",
"V2 = 1.0;// [m^(3)] - final volume\n",
"\n",
"//(a)\n",
"n = 1.5;\n",
"\n",
"//Let P*V^(n)=C //Given relation\n",
"//W (work done per mole)= (integrate('P','V',V1,V2))\n",
"//W = (integrate('(C/V^(n))','V',V1,V2)) = (C*((V2^*(1-n))-(V1^*(1-n))))/(1-n)\n",
"//Where   C=P*V^(n)=P1*V1^(n)=P2*V2^(n)\n",
"//Thus  w=((P2*V2^(n)*V2^(1-n))-(P1*V1^(n)*V1^(1-n)))/(1-n)\n",
"//w = ((P2*V2^(n))-(P1*V1^(n)))/(1-n)\n",
"//and thus    W=((P2*V2)-(P1*V1))/(1-n)\n",
"//The above expression is valid for all values of n,except n=1.0\n",
"P2 = (P1*((V1/V2)^(n)));//[bar] //pressure at state 2\n",
"\n",
"//we have,(V1/V2)=(V1t/(V2t),since the number  of moles are constant.Thus\n",
"W = ((P2*V2)-(P1*V1))/(1-n)*10^(5);//[J]\n",
"W = W/1000;//[kJ]\n",
"printf(' (a).The work done (for n=1.5) is %f kJ\n',W);\n",
"\n",
"//(b)\n",
"//For n=1.0,we have, PV=C.\n",
"// w(wok done per mol)= (integrate('P','V',V1,V2)) = (integrate('C/V','V',V1,V2)) = C*ln(V2/V1)=P1*V1*ln(V2/V1)\n",
"W1 = P1*V1*log(V2/V1)*10^(5);//[J]\n",
"W1 = W1/1000;//[kJ]\n",
"printf(' (b).The work done (for n=1.0) is %f kJ\n',W1);\n",
"\n",
"//(c)\n",
"//For n=0,we get P=Constant and thus\n",
"P = P1;//[bar]\n",
"// w =(integrate('P','V',V1,V2)) = P*(V2-V1)\n",
"W2 = P*(V2-V1)*10^(5);//[J]\n",
"W2 = W2/1000;//[kJ]\n",
"printf(' (c).The work done (for n=0) is %f kJ\n\n',W2);"
   ]
   }
,
{
		   "cell_type": "markdown",
		   "metadata": {},
		   "source": [
			"## Example 1.4: Determination_of_wind_energy_per_unit_mass_and_diameter_of_the_wind_turbine.sce"
		   ]
		  },
  {
"cell_type": "code",
	   "execution_count": null,
	   "metadata": {
	    "collapsed": true
	   },
	   "outputs": [],
"source": [
"clear;\n",
"clc;\n",
"\n",
"//Example - 1.4\n",
"//Page number - 17\n",
"printf('Example - 1.4 and Page number - 17\n\n');\n",
"\n",
"//(a)\n",
"//Given\n",
"V = 9;// [m/s] - velocity\n",
"d = 1;//[m] - diameter\n",
"A = 3.14*(d/2)^(2);//[m^(2)] - area\n",
"P = 1;//[atm] - pressure\n",
"P = 101325;// [N/m^(2)]\n",
"T = 300;//[K] - Temperature\n",
"R =  8.314;//[J/mol*K] - Universal gas constant\n",
"\n",
"E = (V^(2))/2;//[J/kg]\n",
"printf(' (a).The wind energy per unit mass of air is %f J/kg\n',E);\n",
"\n",
"//(b)\n",
"// Molecular weight of air(21 vol% O2 and 79 vol% N2)=(0.21*32)+(0.79*28)=  28.84 g/mol\n",
"M = 28.84*10^(-3);//[kg/mol]\n",
"r = (P*M)/(R*T);//[kg/m^(3)] - density\n",
"m = r*V*A;// [kg/s] - mass flow rate of air\n",
"pi = m*E;//[Watt] - power input\n",
"printf(' (b).The wind power input to the turbine is %f Watt',pi);\n",
""
   ]
   }
,
{
		   "cell_type": "markdown",
		   "metadata": {},
		   "source": [
			"## Example 1.5: Determination_of_temperature.sce"
		   ]
		  },
  {
"cell_type": "code",
	   "execution_count": null,
	   "metadata": {
	    "collapsed": true
	   },
	   "outputs": [],
"source": [
"clear;\n",
"clc;\n",
"\n",
"//Example - 1.5\n",
"//Page number - 23\n",
"printf('Example - 1.5 and Page number - 23\n\n');\n",
"\n",
"// Given\n",
"P = 1;// [bar] - atospheric pressure\n",
"P1guz = 0.75;// [bar] - gauze pressure in 1st evaporator\n",
"P2Vguz = 0.25;// [bar] - vaccum gauze pressure in 2nd evaporator\n",
"P1abs = P + P1guz;// [bar] - absolute pressure in 1st evaporator\n",
"P2abs = P - P2Vguz;// [bar] -absolute pressure in 2nd evaporator\n",
"\n",
"//From saturated steam table as reported in the book\n",
"printf(' For P1abs (absolute pressure) = %f bar\n',P1abs);\n",
"printf(' The saturation temperature in first evaporator  is 116.04 C\n\n');\n",
"printf(' For P2abs (absolute pressure) = %f bar\n',P2abs);\n",
"printf(' The saturation temperature in second evaporator  is 91.76 C\n');\n",
"\n",
"\n",
""
   ]
   }
,
{
		   "cell_type": "markdown",
		   "metadata": {},
		   "source": [
			"## Example 1.6: Calculation_of_dryness_fraction_of_steam.sce"
		   ]
		  },
  {
"cell_type": "code",
	   "execution_count": null,
	   "metadata": {
	    "collapsed": true
	   },
	   "outputs": [],
"source": [
"clear;\n",
"clc;\n",
"\n",
"//Example - 1.6\n",
"//Page number - 23\n",
"printf('Example - 1.6 and Page number - 23\n\n');\n",
"\n",
"// Given\n",
"V = 1;// [kg] - volume of tank\n",
"P = 10;// [bar] - pressure\n",
"\n",
"//Here degree of freedom =1(C=1,P=2,threfore F=1)\n",
"//From steam table at 10 bar as reported in the book\n",
"V_liq = 0.001127;// [m^(3)/kg] - volume in liquid phase\n",
"V_vap = 0.19444;// [m^(3)/kg] - volume in vapour phase\n",
"\n",
"//x*Vv=(1-x)*Vl // since two volumes are equal\n",
"x = (V_liq/(V_liq+V_vap));// [kg]\n",
"y = (1-x);//[kg]\n",
"\n",
"printf(' Mass of saturated vapour is %f kg\n',x);\n",
"printf(' Mass of saturated liquid is %f kg',y);"
   ]
   }
,
{
		   "cell_type": "markdown",
		   "metadata": {},
		   "source": [
			"## Example 1.7: Determination_of_pressure_mass_and_volume.sce"
		   ]
		  },
  {
"cell_type": "code",
	   "execution_count": null,
	   "metadata": {
	    "collapsed": true
	   },
	   "outputs": [],
"source": [
"clear;\n",
"clc;\n",
"\n",
"//Example - 1.7\n",
"//Page number - 23\n",
"printf('Example - 1.7 and Page number - 23\n\n');\n",
"\n",
"// Given\n",
"V = 1;// [m^(3)] - volume of tank\n",
"M = 10;// [m^(3)] - total mass\n",
"T = (90+273.15);//[K] - temperature\n",
"\n",
"//From steam table at 90 C as reported in the book\n",
"//vapour pressure(pressure of rigid tank) = 70.14[kPa] = 0.7014[bar]\n",
"printf(' Pressure of tank = 0.7014 bar\n');\n",
"\n",
"V_liq_sat=0.001036;// [m^(3)/kg] - saturated liquid specific volume\n",
"V_vap_sat=2.36056;// [m^(3)/kg] - saturated vapour specific volume\n",
"\n",
"//1=(V_liq_sat*(10-x))+(V_vap_sat*x)\n",
"x = (1-(10*V_liq_sat))/(V_vap_sat-V_liq_sat);//[kg]\n",
"y = (10-x);//[kg]\n",
"\n",
"printf(' The amount of saturated liquid is %f kg\n',y);\n",
"printf(' The amount of saturated vapour is %f kg \n',x);\n",
"\n",
"z = y*V_liq_sat;//[m^(3)] - Volume of saturated liquid \n",
"w = x*V_vap_sat;//[m^(3)] - Volume of saturated vapour\n",
"\n",
"printf(' Total volume of saturated liquid is %f m^(3)\n',z);\n",
"printf(' Total volume of saturated vapour is %f m^(3)',w);\n",
"\n",
""
   ]
   }
,
{
		   "cell_type": "markdown",
		   "metadata": {},
		   "source": [
			"## Example 1.8: Determination_of_heat_supplied.sce"
		   ]
		  },
  {
"cell_type": "code",
	   "execution_count": null,
	   "metadata": {
	    "collapsed": true
	   },
	   "outputs": [],
"source": [
"clear;\n",
"clc;\n",
"\n",
"//Example - 1.8\n",
"//Page number - 24\n",
"printf('Example - 1.8 and Page number - 24\n\n');\n",
"\n",
"// Given\n",
"V = 10;// [m^(3)] - volume of vessel\n",
"P_1 = 1;// [bar] - initial pressure\n",
"V_liq_sat = 0.05;// [m^(3)] - saturated liquid volume\n",
"V_gas_sat = 9.95;// [m^(3)] - saturated vapour volume\n",
"\n",
"//At 1 bar pressure\n",
"V_liq_1 = 0.001043;// [m^(3/kg)] - specific saturated liquid volume\n",
"U_liq_1 = 417.33;// [kJ/kg] - specific internal energy\n",
"V_gas_1 = 1.69400;// [m^(3/kg)] - specific saturated vapour volume\n",
"U_gas_1 = 2506.06;// [kJ/kg]\n",
"\n",
"M_liq_1 = V_liq_sat/V_liq_1;// [kg] - mass of saturated liqid\n",
"M_gas_1 = V_gas_sat/V_gas_1;// [kg] - mass of saturated vapour\n",
"M = (M_liq_1+M_gas_1);// [kg] - total mass\n",
"U_1t = (M_liq_1*U_liq_1)+(M_gas_1*U_gas_1);// [kJ] - initial internal energy\n",
"V_gas_2 = (V/M);//[m^(3/kg)]\n",
"\n",
"//from steam table at 10 bar pressure as reported in the book\n",
"V_vap_2 = 0.19444;// [m^(3/kg)]\n",
"U_vap_2 = 2583.64;// [kJ/kg]\n",
"\n",
"//from steam table at 11 bar pressure as reported in the book\n",
"V_vap_3 = 0.17753;//[m^(3/kg)]\n",
"U_vap_3 = 2586.40;//[kJ/kg]\n",
"\n",
"//Now computing pressure when molar volume of saturated vapour=Vg_2\n",
"//By interpolation (P2-10)/(11-10)=(Vg_2-Vv_2)/(Vv_3-Vv_2)\n",
"P_2 = (((V_gas_2 - V_vap_2)/(V_vap_3 - V_vap_2)*1)+10);// [bar] - final pressure\n",
"\n",
"//By interpolation calculating internal energy at state 2\n",
"//(P2-10)/(11-10)=(U2-Uv_2)/(Uv_3-Uv_2)\n",
"U_2 = (((P_2-10)/(11-10))*(U_vap_3 - U_vap_2))+U_vap_2;//[kJ/kg]\n",
"U_2t = U_2*M;//[kJ]\n",
"H = U_2t - U_1t;//[kJ] - Heat supplied\n",
"H = H/1000;//[MJ]\n",
"\n",
"printf(' Total heat supplied is %f MJ',H);\n",
"// since volume is constant,no work is done by the system and heat supplied is used in increasing the internal energy of the system.\n",
""
   ]
   }
,
{
		   "cell_type": "markdown",
		   "metadata": {},
		   "source": [
			"## Example 1.9: Calculation_of_saturation_temperature.sce"
		   ]
		  },
  {
"cell_type": "code",
	   "execution_count": null,
	   "metadata": {
	    "collapsed": true
	   },
	   "outputs": [],
"source": [
"clear;\n",
"clc;\n",
"\n",
"//Example - 1.9\n",
"//Page number - 26\n",
"printf('Example - 1.9 and Page number - 26\n\n');\n",
"\n",
"//Given\n",
"//Antoine equation for water   ln(Psat)=16.262-(3799.89/(T_sat + 226.35))\n",
"P = 2;//[atm] - Pressure\n",
"P = (2*101325)/1000;//[kPa]\n",
"\n",
"P_sat = P;// Saturation pressure\n",
"T_sat = (3799.89/(16.262-log(P_sat)))-226.35;//[C] - Saturation temperature\n",
"//Thus boiling at 2 atm occurs at Tsat = 120.66 C.\n",
"\n",
"//From steam tables,at 2 bar,Tsat = 120.23 C and at 2.25 bar,Tsat = 124.0 C\n",
"//From interpolation for T_sat = 120.66 C,P = 2.0265 bar\n",
"//For P_= 2.0265 bar,T_sat, from steam table by interpolation is given by\n",
"//((2.0265-2)/(2.25-2))=((Tsat-120.23)/(124.0-120.23))\n",
"T_sat_0 = (((2.0265-2)/(2.25-2))*(124.0-120.23))+120.23;//[C]\n",
"\n",
"printf(' Saturation temperature (Tsat) = %f C which is close to %f C as determined from Antoine equation',T_sat_0,T_sat);\n",
"\n",
"\n",
""
   ]
   }
],
"metadata": {
		  "kernelspec": {
		   "display_name": "Scilab",
		   "language": "scilab",
		   "name": "scilab"
		  },
		  "language_info": {
		   "file_extension": ".sce",
		   "help_links": [
			{
			 "text": "MetaKernel Magics",
			 "url": "https://github.com/calysto/metakernel/blob/master/metakernel/magics/README.md"
			}
		   ],
		   "mimetype": "text/x-octave",
		   "name": "scilab",
		   "version": "0.7.1"
		  }
		 },
		 "nbformat": 4,
		 "nbformat_minor": 0
}
