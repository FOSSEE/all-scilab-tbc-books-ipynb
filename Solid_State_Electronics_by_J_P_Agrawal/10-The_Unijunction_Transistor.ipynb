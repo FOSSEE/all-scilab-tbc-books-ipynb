{
"cells": [
 {
		   "cell_type": "markdown",
	   "metadata": {},
	   "source": [
       "# Chapter 10: The Unijunction Transistor"
	   ]
	},
{
		   "cell_type": "markdown",
		   "metadata": {},
		   "source": [
			"## Example 10.1: stand_off_and_peak_point_voltage.sce"
		   ]
		  },
  {
"cell_type": "code",
	   "execution_count": null,
	   "metadata": {
	    "collapsed": true
	   },
	   "outputs": [],
"source": [
"//Example 10.1: \n",
"clc;\n",
"clear;\n",
"close;\n",
"//given data :\n",
"Vbb=20;// in V\n",
"eta=0.6;// instrinsic stand off ratio \n",
"Vb=0.7;// in V\n",
"sov=eta*Vbb;// Stand off voltage\n",
"format('v',4)\n",
"disp(sov,'(i). Stand off voltage,(V) = ')\n",
"Vp=(eta*Vbb)+Vb;\n",
"format('v',6)\n",
"disp(Vp,'(ii). Peak point voltage,Vp(V) = ')"
   ]
   }
,
{
		   "cell_type": "markdown",
		   "metadata": {},
		   "source": [
			"## Example 10.2: time_period.sce"
		   ]
		  },
  {
"cell_type": "code",
	   "execution_count": null,
	   "metadata": {
	    "collapsed": true
	   },
	   "outputs": [],
"source": [
"//Example 10.2: \n",
"clc;\n",
"clear;\n",
"close;\n",
"format('v',6)\n",
"//given data :\n",
"Vbb=20;// in V\n",
"C=100;//in micro-farad\n",
"R=100;//in kilo-ohms\n",
"Vp=10;// in V\n",
"eta=Vp/Vbb;// instrinsic stand off ratio \n",
"T= ((C*10^-12*R*10^3 *log(1/(1-eta))))*10^7;//in micro-seconds\n",
"format('v',6)\n",
"disp(T,'time period of the saw  tooth waveform generated is ,(micro-seconds)=')"
   ]
   }
,
{
		   "cell_type": "markdown",
		   "metadata": {},
		   "source": [
			"## Example 10.3: resistance.sce"
		   ]
		  },
  {
"cell_type": "code",
	   "execution_count": null,
	   "metadata": {
	    "collapsed": true
	   },
	   "outputs": [],
"source": [
"//Example 10.3: \n",
"clc;\n",
"clear;\n",
"close;\n",
"//given data :\n",
"eta=0.6;// instrinsic stand off ratio \n",
"Rbb=10;// interbase resistance in k-ohm\n",
"Rb1=eta*Rbb;\n",
"Rb2=Rbb-Rb1;\n",
"format('v',4)\n",
"disp(Rb1,'Resistance,Rb1(k-ohm) = ')\n",
"disp(Rb2,'Resistance,Rb1(k-ohm) = ')"
   ]
   }
],
"metadata": {
		  "kernelspec": {
		   "display_name": "Scilab",
		   "language": "scilab",
		   "name": "scilab"
		  },
		  "language_info": {
		   "file_extension": ".sce",
		   "help_links": [
			{
			 "text": "MetaKernel Magics",
			 "url": "https://github.com/calysto/metakernel/blob/master/metakernel/magics/README.md"
			}
		   ],
		   "mimetype": "text/x-octave",
		   "name": "scilab",
		   "version": "0.7.1"
		  }
		 },
		 "nbformat": 4,
		 "nbformat_minor": 0
}
