{
"cells": [
 {
		   "cell_type": "markdown",
	   "metadata": {},
	   "source": [
       "# Chapter 5: Power Amplifiers"
	   ]
	},
{
		   "cell_type": "markdown",
		   "metadata": {},
		   "source": [
			"## Example 5.1: efficiency.sce"
		   ]
		  },
  {
"cell_type": "code",
	   "execution_count": null,
	   "metadata": {
	    "collapsed": true
	   },
	   "outputs": [],
"source": [
"//Example 5.1: \n",
"clc;\n",
"clear;\n",
"close;\n",
"//given data :\n",
"Pac=0.1;//in W\n",
"Vcc=20;//in V\n",
"Ic=20;//in mA\n",
"Pdc=Vcc*Ic*10^-3;//in W\n",
"eta=(Pac/Pdc)*100;//efficiency\n",
"format('v',4)\n",
"disp(eta,'efficiency is ,(%)=')"
   ]
   }
,
{
		   "cell_type": "markdown",
		   "metadata": {},
		   "source": [
			"## Example 5.2: collector_current.sce"
		   ]
		  },
  {
"cell_type": "code",
	   "execution_count": null,
	   "metadata": {
	    "collapsed": true
	   },
	   "outputs": [],
"source": [
"//Example 5.2: \n",
"clc;\n",
"clear;\n",
"close;\n",
"//given data :\n",
"Pac=2;//in W\n",
"Vcc=12;//in V\n",
"Ic=(Pac*sqrt(2)*sqrt(2))/Vcc;//in A\n",
"format('v',5)\n",
"disp(Ic,'maximum collector current is ,(A)=')"
   ]
   }
,
{
		   "cell_type": "markdown",
		   "metadata": {},
		   "source": [
			"## Example 5.3: collector_efficiency_and_power_rating.sce"
		   ]
		  },
  {
"cell_type": "code",
	   "execution_count": null,
	   "metadata": {
	    "collapsed": true
	   },
	   "outputs": [],
"source": [
"//Example 5.3: \n",
"clc;\n",
"clear;\n",
"close;\n",
"//given data :\n",
"Pac=3;//in W\n",
"Pdc=10;//in W\n",
"eta=(Pac/Pdc)*100;//percentage efficieny \n",
"format('v',4)\n",
"disp(eta,'collector efficiency is ,(%)=')\n",
"disp(Pdc,'power rating of transistor is ,(W)=')"
   ]
   }
,
{
		   "cell_type": "markdown",
		   "metadata": {},
		   "source": [
			"## Example 5.4: power.sce"
		   ]
		  },
  {
"cell_type": "code",
	   "execution_count": null,
	   "metadata": {
	    "collapsed": true
	   },
	   "outputs": [],
"source": [
"//Example 5.4: \n",
"clc;\n",
"clear;\n",
"close;\n",
"//given data :\n",
"dIc=100;//in mA\n",
"Rl=6;//in ohm\n",
"mv=dIc*Rl*10^-3;//in V\n",
"pd=mv*dIc;//in mW\n",
"disp(pd,'(i) power developed in loudspeaker is ,(mW)=')\n",
"dVc=10;//in V\n",
"oi=(dVc/dIc)*10^3;//in ohm\n",
"Rl=6;//in ohm\n",
"n=sqrt(oi/Rl);//turn ratio of transformer\n",
"tsv=dVc/n;//om V\n",
"Il=tsv/Rl;//in A\n",
"ptr= Il^2*Rl*10^3;//in mW\n",
"format('v',5)\n",
"disp(ptr,'(ii) power transferred to loudspeaker is ,(mw)=')\n",
"//in textbook in second case there is one point deviation in the answer."
   ]
   }
,
{
		   "cell_type": "markdown",
		   "metadata": {},
		   "source": [
			"## Example 5.5: power.sce"
		   ]
		  },
  {
"cell_type": "code",
	   "execution_count": null,
	   "metadata": {
	    "collapsed": true
	   },
	   "outputs": [],
"source": [
"//Example 5.5: \n",
"clc;\n",
"clear;\n",
"close;\n",
"//given data :\n",
"n=10;//turn ratio\n",
"Rl=10;//ohm\n",
"Rld=n^2*Rl;//in ohm\n",
"Ic=100;//in mA\n",
"Irms=Ic/(sqrt(2));//in mA\n",
"P=Irms^2*Rld;//in W\n",
"format('v',3)\n",
"disp(P*10^-6,'maximum power output is ,(W)=')"
   ]
   }
,
{
		   "cell_type": "markdown",
		   "metadata": {},
		   "source": [
			"## Example 5.6: harmonic_distortions_and_change_in_power.sce"
		   ]
		  },
  {
"cell_type": "code",
	   "execution_count": null,
	   "metadata": {
	    "collapsed": true
	   },
	   "outputs": [],
"source": [
"//Example 5.6: \n",
"clc;\n",
"clear;\n",
"close;\n",
"//given data :\n",
"//ie=15*sin 400*t+1.5*sin 800*t + 1.2*sin 1200*t + 0.5*sin 1600*t  given equation\n",
"I2=1.5;//in A\n",
"I1=15;//in A\n",
"I3=1.2;//in A\n",
"I4=0.5;//in A\n",
"D2=(I2/I1)*100;//Second percentage harmonic distortion\n",
"D3=(I3/I1)*100;//Third percentage harmonic distortion\n",
"//in book I2 is mentioned wrongly in place of I1\n",
"D4=(I4/I1)*100;//Fourth percentage harmonic distortion\n",
"disp('part (i)')\n",
"disp(D2,'Second percentage harmonic distortion (D2) is ,(%)=')\n",
"disp(D3,'Third percentage harmonic distortion (D3) is ,(%)=')\n",
"format('v',5)\n",
"disp(D4,'Fourth percentage harmonic distortion (D4) is ,(%)=')\n",
"disp('part (ii)')\n",
"D=sqrt(D2^2+D3^2+D4^2)/100;//Distortion Factor\n",
"P1=1;//assume\n",
"P=(1+D^2)*P1;//in W\n",
"peri=((P-P1)/P1)*100;//percentage increase in power due to distortion\n",
"disp(peri,'percentage increase in power due to distortion is ,(%)=')"
   ]
   }
,
{
		   "cell_type": "markdown",
		   "metadata": {},
		   "source": [
			"## Example 5.7: power_dissipated.sce"
		   ]
		  },
  {
"cell_type": "code",
	   "execution_count": null,
	   "metadata": {
	    "collapsed": true
	   },
	   "outputs": [],
"source": [
"//Example 5.7: \n",
"clc;\n",
"clear;\n",
"close;\n",
"//given data :\n",
"Vcc=15;//in V\n",
"Vpeak=24/2;//in V\n",
"Rl=100;//in ohm\n",
"Ipeak= Vpeak/Rl;//in A\n",
"Pdc=Vcc*(2/(%pi))*Ipeak;//in W\n",
"pad=(1/2)*(Vpeak^2)/Rl;//in W\n",
"pd=Pdc-pad;//in W\n",
"pde=pd/2;//in W\n",
"disp(pde*10^3,'power dissipated by each transistor is,(mW)=')"
   ]
   }
],
"metadata": {
		  "kernelspec": {
		   "display_name": "Scilab",
		   "language": "scilab",
		   "name": "scilab"
		  },
		  "language_info": {
		   "file_extension": ".sce",
		   "help_links": [
			{
			 "text": "MetaKernel Magics",
			 "url": "https://github.com/calysto/metakernel/blob/master/metakernel/magics/README.md"
			}
		   ],
		   "mimetype": "text/x-octave",
		   "name": "scilab",
		   "version": "0.7.1"
		  }
		 },
		 "nbformat": 4,
		 "nbformat_minor": 0
}
