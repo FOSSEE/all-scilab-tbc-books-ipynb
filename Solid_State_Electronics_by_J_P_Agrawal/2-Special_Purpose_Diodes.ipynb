{
"cells": [
 {
		   "cell_type": "markdown",
	   "metadata": {},
	   "source": [
       "# Chapter 2: Special Purpose Diodes"
	   ]
	},
{
		   "cell_type": "markdown",
		   "metadata": {},
		   "source": [
			"## Example 2.1: maximum_current.sce"
		   ]
		  },
  {
"cell_type": "code",
	   "execution_count": null,
	   "metadata": {
	    "collapsed": true
	   },
	   "outputs": [],
"source": [
"//Example 2.1: \n",
"clc;\n",
"clear;\n",
"close;\n",
"//given data :\n",
"Pmax=364;//dissipation in milliwatt\n",
"Vz=9.1;//in V\n",
"Izmax=Pmax/Vz;//in mA\n",
"format('v',4)\n",
"disp(Izmax,'maximum current the diode can handle is ,(mA)=')"
   ]
   }
,
{
		   "cell_type": "markdown",
		   "metadata": {},
		   "source": [
			"## Example 2.2: resistance.sce"
		   ]
		  },
  {
"cell_type": "code",
	   "execution_count": null,
	   "metadata": {
	    "collapsed": true
	   },
	   "outputs": [],
"source": [
"//Example 2.2: \n",
"clc;\n",
"clear;\n",
"close;\n",
"//given data :\n",
"mip=15;//in volt\n",
"op=6.8;//output potential in volt\n",
"pd=mip-op;//potential difference across series resistor\n",
"Il=5;//load current in mA\n",
"nmip=20;//new maximum input voltage in volt\n",
"pd1=nmip-op;//new potential difference across series resistor\n",
"Il1=20;//new load current in mA\n",
"R=((pd1-pd)/((Il1-Il)*10^-3));//resistance in ohm\n",
"format('v',6)\n",
"disp(R,'value of series resistance is,(ohm)=')"
   ]
   }
,
{
		   "cell_type": "markdown",
		   "metadata": {},
		   "source": [
			"## Example 2.3: current.sce"
		   ]
		  },
  {
"cell_type": "code",
	   "execution_count": null,
	   "metadata": {
	    "collapsed": true
	   },
	   "outputs": [],
"source": [
"//Example 2.3: \n",
"clc;\n",
"clear;\n",
"close;\n",
"//given data :\n",
"V=120;//in V\n",
"Vz=50;//in V\n",
"vd5=V-Vz;//voltage drop across 5 ohm resistor\n",
"R=5;// in ohm\n",
"I5=vd5/R;//current through 5 ohm resistor\n",
"Rl=10;// in k-ohm\n",
"Il=Vz/(Rl*10^3);//current through load resistor\n",
"Iz=I5-Il;//in A\n",
"format('v',7)\n",
"disp(Iz,'current through zener diode is ,(A)=')"
   ]
   }
],
"metadata": {
		  "kernelspec": {
		   "display_name": "Scilab",
		   "language": "scilab",
		   "name": "scilab"
		  },
		  "language_info": {
		   "file_extension": ".sce",
		   "help_links": [
			{
			 "text": "MetaKernel Magics",
			 "url": "https://github.com/calysto/metakernel/blob/master/metakernel/magics/README.md"
			}
		   ],
		   "mimetype": "text/x-octave",
		   "name": "scilab",
		   "version": "0.7.1"
		  }
		 },
		 "nbformat": 4,
		 "nbformat_minor": 0
}
