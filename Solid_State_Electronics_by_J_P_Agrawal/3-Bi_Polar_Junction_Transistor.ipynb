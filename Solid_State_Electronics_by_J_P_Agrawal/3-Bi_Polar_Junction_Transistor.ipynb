{
"cells": [
 {
		   "cell_type": "markdown",
	   "metadata": {},
	   "source": [
       "# Chapter 3: Bi Polar Junction Transistor"
	   ]
	},
{
		   "cell_type": "markdown",
		   "metadata": {},
		   "source": [
			"## Example 3.10: error.sce"
		   ]
		  },
  {
"cell_type": "code",
	   "execution_count": null,
	   "metadata": {
	    "collapsed": true
	   },
	   "outputs": [],
"source": [
"//Example 3.10: \n",
"clc;\n",
"clear;\n",
"close;\n",
"//given data :\n",
"Beta=100;// constant\n",
"Ib=20*10^-6;// in A\n",
"I_co=500*10^-9;// in A\n",
"Ic1=((Beta*Ib)+(1+Beta)*I_co)*10^3;\n",
"Ic2=(Beta*Ib)*10^3;\n",
"Error=(Ic1-Ic2)*100/Ic1;\n",
"format('v',5)\n",
"disp(Error,'The error,(%) = ')\n",
"//answer is wrong in the txtbook"
   ]
   }
,
{
		   "cell_type": "markdown",
		   "metadata": {},
		   "source": [
			"## Example 3.11: change_in_base_current.sce"
		   ]
		  },
  {
"cell_type": "code",
	   "execution_count": null,
	   "metadata": {
	    "collapsed": true
	   },
	   "outputs": [],
"source": [
"//Example 3.11: \n",
"clc;\n",
"clear;\n",
"close;\n",
"//given data :\n",
"alfa=0.98;// \n",
"del_Ie=5;// in mA\n",
"del_Ic=alfa*del_Ie;// in mA\n",
"del_Ib=del_Ie-del_Ic;\n",
"format('v',4)\n",
"disp(del_Ib,'change in base current,(mA) = ')"
   ]
   }
,
{
		   "cell_type": "markdown",
		   "metadata": {},
		   "source": [
			"## Example 3.12: collector_current_base_current_and_alfa.sce"
		   ]
		  },
  {
"cell_type": "code",
	   "execution_count": null,
	   "metadata": {
	    "collapsed": true
	   },
	   "outputs": [],
"source": [
"//Example 3.12: \n",
"clc;\n",
"clear;\n",
"close;\n",
"//given data :\n",
"Ie=8.4; // in mA\n",
"cr=0.8/100;// carriers recombine in base in %\n",
"Ib=cr*Ie;\n",
"format('v',6)\n",
"disp(Ib,'(a). The base current,Ib(mA) = ')\n",
"Ic=Ie-Ib;\n",
"format('v',5)\n",
"disp(Ic,'(b). The collector current,Ic(mA) = ')\n",
"alfa=Ic/Ie;\n",
"format('v',6)\n",
"disp(alfa,'(c). the value of alfa = ')"
   ]
   }
,
{
		   "cell_type": "markdown",
		   "metadata": {},
		   "source": [
			"## Example 3.13: ac_current_gain.sce"
		   ]
		  },
  {
"cell_type": "code",
	   "execution_count": null,
	   "metadata": {
	    "collapsed": true
	   },
	   "outputs": [],
"source": [
"//Example 3.13: \n",
"clc;\n",
"clear;\n",
"close;\n",
"//given data :\n",
"Ie1=20;// in mA\n",
"Ie2=15;// in mA\n",
"Ib1=0.48;// in mA\n",
"Ib2=0.32;// in mA\n",
"del_Ie=(Ie1-Ie2)*10^-3;// in A\n",
"del_Ib=(Ib1-Ib2)*10^-3;// in A\n",
"del_Ic=del_Ie-del_Ib;// in A\n",
"alfa=del_Ic/del_Ie;// \n",
"Beta=del_Ic/del_Ib;\n",
"format('v',5)\n",
"disp(alfa,'ac current gain in common base arrangement, = ')\n",
"format('v',4)\n",
"disp(Beta,'ac current gain in common emitter arrangement, = ')"
   ]
   }
,
{
		   "cell_type": "markdown",
		   "metadata": {},
		   "source": [
			"## Example 3.14: Beta_Iceo_and_collector_current.sce"
		   ]
		  },
  {
"cell_type": "code",
	   "execution_count": null,
	   "metadata": {
	    "collapsed": true
	   },
	   "outputs": [],
"source": [
"//Example 3.14: \n",
"clc;\n",
"clear;\n",
"close;\n",
"//given data :\n",
"alfa=0.992;// constant\n",
"Beta=alfa/(1-alfa);\n",
"format('v',5)\n",
"disp(Beta,'(a) Beta= ')\n",
"I_CBO=48*10^-9;// in A\n",
"I_CEO=(1+Beta)*I_CBO*10^6;\n",
"format('v',3)\n",
"disp(I_CEO,'(a) I_CEO (micro-A) = ')\n",
"Ib=30*10^-6;// in A\n",
"Ic=((Beta*Ib)+(1+Beta)*I_CBO)*10^3;\n",
"format('v',5)\n",
"disp(Ic,'(b) Collector current,Ic(mA) = ')"
   ]
   }
,
{
		   "cell_type": "markdown",
		   "metadata": {},
		   "source": [
			"## Example 3.15: collector_current_alfa_and_beta.sce"
		   ]
		  },
  {
"cell_type": "code",
	   "execution_count": null,
	   "metadata": {
	    "collapsed": true
	   },
	   "outputs": [],
"source": [
"//Example 3.15: \n",
"clc;\n",
"clear;\n",
"close;\n",
"//given data :\n",
"format('v',5)\n",
"Ie=9.6;//emitter current in mA\n",
"Ib=0.08;//base current in mA\n",
"Ic=Ie-Ib;//\n",
"format('v',5)\n",
"disp(Ic,'(a). collector current,Ic(mA) = ')\n",
"alfa=Ic/Ie;\n",
"format('v',5)\n",
"disp(alfa,'(b). alfa = ')\n",
"alfa=0.99;//\n",
"Beta=alfa/(1-alfa)\n",
"format('v',4)\n",
"disp(Beta,'(c). Beta = ')"
   ]
   }
,
{
		   "cell_type": "markdown",
		   "metadata": {},
		   "source": [
			"## Example 3.16: collector_current.sce"
		   ]
		  },
  {
"cell_type": "code",
	   "execution_count": null,
	   "metadata": {
	    "collapsed": true
	   },
	   "outputs": [],
"source": [
"//Example 3.16: \n",
"clc;\n",
"clear;\n",
"close;\n",
"//given data :\n",
"Ib=68*10^-6;// in A\n",
"Ie=30*10^-3;// in A\n",
"Beta=440;// constant\n",
"alfa=Beta/(1+Beta);\n",
"Ic=alfa*Ie*10^3;\n",
"format('v',6)\n",
"disp(Ic,'Collector current,Ic(mA) = ')"
   ]
   }
,
{
		   "cell_type": "markdown",
		   "metadata": {},
		   "source": [
			"## Example 3.1: varitation_in_alpha_and_value_of_beta.sce"
		   ]
		  },
  {
"cell_type": "code",
	   "execution_count": null,
	   "metadata": {
	    "collapsed": true
	   },
	   "outputs": [],
"source": [
"//Example 3.1: \n",
"clc;\n",
"clear;\n",
"close;\n",
"//given data :\n",
"Beta=50;//amlification factor\n",
"dbb=1;//percentage variation in degree celsius\n",
"daa=dbb/50;//variation in degree celsius\n",
"format('v',5)\n",
"disp(daa,'(i) variation in alpha for a silicon BJT is ,(%/degree-Celsius)=')\n",
"temp=325;//in K\n",
"t=25;//degree celsius\n",
"Beta1=dbb*t;//in %\n",
"nBeta=Beta+(Beta1/100)*t;//\n",
"format('v',6)\n",
"disp(nBeta,'new value of Beta is ,=')"
   ]
   }
,
{
		   "cell_type": "markdown",
		   "metadata": {},
		   "source": [
			"## Example 3.2: current_amplification_factor.sce"
		   ]
		  },
  {
"cell_type": "code",
	   "execution_count": null,
	   "metadata": {
	    "collapsed": true
	   },
	   "outputs": [],
"source": [
"//Example 3.2: \n",
"clc;\n",
"clear;\n",
"close;\n",
"format('v',4)\n",
"//given data :\n",
"del_Ic=1*10^-3;// in A\n",
"del_Ib=50*10^-6;// in A\n",
"Beta=del_Ic/del_Ib;\n",
"disp(Beta,'The current amplification factor,Beta = ')"
   ]
   }
,
{
		   "cell_type": "markdown",
		   "metadata": {},
		   "source": [
			"## Example 3.3: base_current.sce"
		   ]
		  },
  {
"cell_type": "code",
	   "execution_count": null,
	   "metadata": {
	    "collapsed": true
	   },
	   "outputs": [],
"source": [
"//Example 3.3: \n",
"clc;\n",
"clear;\n",
"close;\n",
"format('v',5)\n",
"//given data :\n",
"alfa=0.88;\n",
"Ie=1;// in mA\n",
"Ic=alfa*Ie;// in mA\n",
"I_B=Ie-Ic;\n",
"disp(I_B,'Base current,(mA) = ')"
   ]
   }
,
{
		   "cell_type": "markdown",
		   "metadata": {},
		   "source": [
			"## Example 3.4: short_circuit_current_gain.sce"
		   ]
		  },
  {
"cell_type": "code",
	   "execution_count": null,
	   "metadata": {
	    "collapsed": true
	   },
	   "outputs": [],
"source": [
"//Example 3.4: \n",
"clc;\n",
"clear;\n",
"close;\n",
"format('v',5)\n",
"//given data :\n",
"del_Ic=0.95*10^-3;// in A\n",
"del_Ie=1*10^-3;// in A\n",
"alfa=del_Ic/del_Ie;\n",
"disp(alfa,'the short circuit current gain, = ')"
   ]
   }
,
{
		   "cell_type": "markdown",
		   "metadata": {},
		   "source": [
			"## Example 3.5: collector_and_base_current.sce"
		   ]
		  },
  {
"cell_type": "code",
	   "execution_count": null,
	   "metadata": {
	    "collapsed": true
	   },
	   "outputs": [],
"source": [
"//Example 3.5: \n",
"clc;\n",
"clear;\n",
"close;\n",
"//given data :\n",
"format('v',5)\n",
"Ie=5*10^-3;// in A\n",
"alfa=0.95;\n",
"I_co=10*10^-6;// in A\n",
"Ic=((alfa*Ie)+I_co)*10^3;\n",
"Ib=(Ie-(Ic*10^-3))*10^6;\n",
"disp(Ic,'Collector current,(mA) = ')\n",
"disp(Ib,'Base current,(micro-A) = ')"
   ]
   }
,
{
		   "cell_type": "markdown",
		   "metadata": {},
		   "source": [
			"## Example 3.6: Ic_Ib_and_Iceo.sce"
		   ]
		  },
  {
"cell_type": "code",
	   "execution_count": null,
	   "metadata": {
	    "collapsed": true
	   },
	   "outputs": [],
"source": [
"//Example 3.6: \n",
"clc;\n",
"clear;\n",
"close;\n",
"//given data :\n",
"Ie=5;// in mA\n",
"alfa=0.99;\n",
"I_co=0.005;// in mA\n",
"Ic=((alfa*Ie)+I_co);\n",
"Ib=(Ie-Ic);\n",
"Beta=alfa/(1-alfa);\n",
"I_CEO=I_co/(1-alfa);\n",
"format('v',6)\n",
"disp(Ic,'Ic,(mA) = ')\n",
"format('v',4)\n",
"disp(Ib*10^3,'Ib,(micro-A) = ')\n",
"disp(Beta,'Beta = ')\n",
"format('v',6)\n",
"disp(I_CEO*10^3,'I_CEO(micro-A) = ')"
   ]
   }
,
{
		   "cell_type": "markdown",
		   "metadata": {},
		   "source": [
			"## Example 3.7: change_in_collector_current.sce"
		   ]
		  },
  {
"cell_type": "code",
	   "execution_count": null,
	   "metadata": {
	    "collapsed": true
	   },
	   "outputs": [],
"source": [
"//Example 3.7: \n",
"clc;\n",
"clear;\n",
"close;\n",
"//given data :\n",
"alfa=0.9;// constant\n",
"Beta=alfa/(1-alfa);\n",
"Del_Ib=4;// in mA\n",
"Del_Ic=Beta*Del_Ib;\n",
"format('v',4)\n",
"disp(Del_Ic,'the change in the collector current,(mA) = ')"
   ]
   }
,
{
		   "cell_type": "markdown",
		   "metadata": {},
		   "source": [
			"## Example 3.8: emitter_current.sce"
		   ]
		  },
  {
"cell_type": "code",
	   "execution_count": null,
	   "metadata": {
	    "collapsed": true
	   },
	   "outputs": [],
"source": [
"//Example 3.8: \n",
"clc;\n",
"clear;\n",
"close;\n",
"//given data :\n",
"Beta=40;\n",
"Ib=25;// base current in micro-A\n",
"Ic=Beta*Ib;\n",
"Ie=(Ib+Ic)*10^-3;\n",
"format('v',6)\n",
"disp(Ie,'Ie,(mA) = ')"
   ]
   }
,
{
		   "cell_type": "markdown",
		   "metadata": {},
		   "source": [
			"## Example 3.9: beta.sce"
		   ]
		  },
  {
"cell_type": "code",
	   "execution_count": null,
	   "metadata": {
	    "collapsed": true
	   },
	   "outputs": [],
"source": [
"//Example 3.9: \n",
"clc;\n",
"clear;\n",
"close;\n",
"//given data :\n",
"alfa=0.98;// constant\n",
"Beta=alfa/(1-alfa);\n",
"format('v',4)\n",
"disp(Beta,'Beta =  ')"
   ]
   }
],
"metadata": {
		  "kernelspec": {
		   "display_name": "Scilab",
		   "language": "scilab",
		   "name": "scilab"
		  },
		  "language_info": {
		   "file_extension": ".sce",
		   "help_links": [
			{
			 "text": "MetaKernel Magics",
			 "url": "https://github.com/calysto/metakernel/blob/master/metakernel/magics/README.md"
			}
		   ],
		   "mimetype": "text/x-octave",
		   "name": "scilab",
		   "version": "0.7.1"
		  }
		 },
		 "nbformat": 4,
		 "nbformat_minor": 0
}
