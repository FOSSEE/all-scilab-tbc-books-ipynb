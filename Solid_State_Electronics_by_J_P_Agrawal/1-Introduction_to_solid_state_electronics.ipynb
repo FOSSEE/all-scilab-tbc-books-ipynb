{
"cells": [
 {
		   "cell_type": "markdown",
	   "metadata": {},
	   "source": [
       "# Chapter 1: Introduction to solid state electronics"
	   ]
	},
{
		   "cell_type": "markdown",
		   "metadata": {},
		   "source": [
			"## Example 1.10: hole_concentration_and_conductivity.sce"
		   ]
		  },
  {
"cell_type": "code",
	   "execution_count": null,
	   "metadata": {
	    "collapsed": true
	   },
	   "outputs": [],
"source": [
"//Example 1.10: \n",
"clc;\n",
"clear;\n",
"close;\n",
"//given data :\n",
"nh=2*10^21;// acceptor atoms in atoms/m^3\n",
"Na=nh;\n",
"format('e',8)\n",
"disp(Na,'(i). hole concentration,Na(atoms/m^3) = ')\n",
"mu_h=0.17;// mobility of holes in m^2/V-s\n",
"e=1.6*10^-19;// in C\n",
"sigma=nh*mu_h*e;\n",
"format('v',6)\n",
"disp(sigma,'conductivity,(ohm^-1-m^-1) = ')\n",
"//conductivity is calculated wrong in the book"
   ]
   }
,
{
		   "cell_type": "markdown",
		   "metadata": {},
		   "source": [
			"## Example 1.11: donor_concentration.sce"
		   ]
		  },
  {
"cell_type": "code",
	   "execution_count": null,
	   "metadata": {
	    "collapsed": true
	   },
	   "outputs": [],
"source": [
"//Example 1.11: \n",
"clc;\n",
"clear;\n",
"close;\n",
"//given data :\n",
"p=0.15;// in ohm-m\n",
"mu_e=0.39;// mobility of electron in m^2/V-s\n",
"e=1.6*10^-19;// in C\n",
"Na=1/(e*mu_e*p);\n",
"format('e',9)\n",
"disp(Na,'The value of donor concentration,Na(m^-3) = ')"
   ]
   }
,
{
		   "cell_type": "markdown",
		   "metadata": {},
		   "source": [
			"## Example 1.12: resistivity.sce"
		   ]
		  },
  {
"cell_type": "code",
	   "execution_count": null,
	   "metadata": {
	    "collapsed": true
	   },
	   "outputs": [],
"source": [
"//Example 1.12: \n",
"clc;\n",
"clear;\n",
"close;\n",
"//given data :\n",
"mu_n=0.13;// in m^2/V-s\n",
"mu_p=0.05;// in m^2/V-s\n",
"ni=1.5*10^16;// in m^-3\n",
"e=1.6*10^-19;// in C\n",
"p=1/((e*ni)*(mu_n+mu_p));\n",
"format('v',7)\n",
"disp(p,'The resistivity,p(ohm-m) = ')"
   ]
   }
,
{
		   "cell_type": "markdown",
		   "metadata": {},
		   "source": [
			"## Example 1.13: current.sce"
		   ]
		  },
  {
"cell_type": "code",
	   "execution_count": null,
	   "metadata": {
	    "collapsed": true
	   },
	   "outputs": [],
"source": [
"//Example 1.13: \n",
"clc;\n",
"clear;\n",
"close;\n",
"//given data :\n",
"e=1.6*10^-19;// electron charge in coulombs\n",
"k=1.38*10^-23;//Boltzmann constant in m^2-kg/s^2-K^-1\n",
"T=300;//in Kelvin\n",
"Vt=(k*T)/e;//in V\n",
"I=240;//in mA\n",
"eta=2;//\n",
"Ve=0.8;//in V\n",
"V=0.7;//in V\n",
"Id=I*exp((V-Ve)/(eta*Vt));//in mA\n",
"format('v',5)\n",
"disp(round(Id),'(i) Current is ,(mA)=')\n",
"Ir=(I/((exp(Ve/(eta*Vt)))-1))*10^6;//\n",
"format('v',4)\n",
"disp(round(Ir),'(ii) reverse saturation current is ,(nA)=')\n",
"//reverse saturation current is calculated wrong in the textbook"
   ]
   }
,
{
		   "cell_type": "markdown",
		   "metadata": {},
		   "source": [
			"## Example 1.14: diode_current_and_voltage.sce"
		   ]
		  },
  {
"cell_type": "code",
	   "execution_count": null,
	   "metadata": {
	    "collapsed": true
	   },
	   "outputs": [],
"source": [
"//Example 1.14: \n",
"clc;\n",
"clear;\n",
"close;\n",
"//given data :\n",
"e=1.6*10^-19;// electron charge in coulombs\n",
"k=1.38*10^-23;//Boltzmann constant in m^2-kg/s^2-K^-1\n",
"T=300;//in Kelvin\n",
"Vt=(k*T)/e;//in V\n",
"Ir1=10^-10;//in A\n",
"Ir2=10^-12;//in A\n",
"V21=((Vt)*log10(Ir1/Ir2))*2.3026;//in V\n",
"V211=0.5;//in V\n",
"V2=(1/2)*(V21+V211);//in V\n",
"V1=(1/2)*(V211-V21);//in V\n",
"I1=Ir2*exp(V2/Vt)*10^6;//in micro-A\n",
"I2=I1;//\n",
"format('v',8)\n",
"disp(V2,'diode voltage V2 is ,(V)=')\n",
"disp(V1,'diode voltage V1 is ,(V)=')\n",
"format('v',7)\n",
"disp(I1,'diode current is,(micro-A)=')\n",
"//diode current is calculated wrong in the textbook"
   ]
   }
,
{
		   "cell_type": "markdown",
		   "metadata": {},
		   "source": [
			"## Example 1.15: voltage.sce"
		   ]
		  },
  {
"cell_type": "code",
	   "execution_count": null,
	   "metadata": {
	    "collapsed": true
	   },
	   "outputs": [],
"source": [
"//Example 1.15: \n",
"clc;\n",
"clear;\n",
"close;\n",
"//given data :\n",
"e=1.6*10^-19;// electron charge in coulombs\n",
"k=1.38*10^-23;//Boltzmann constant in m^2-kg/s^2-K^-1\n",
"T=300;//in Kelvin\n",
"Vt=(k*T)/e;//in V\n",
"Ir1=10^-12;//in A\n",
"Ir2=10^-10;//in A\n",
"I21=Ir2/Ir1;//\n",
"It=2;//mA\n",
"I1=It/(1+I21)*10^3;//in micro-A\n",
"I2=It*10^3-I1;//in micro-A\n",
"I1=I2/I21;//in micro-A\n",
"x=((I1*10^-6)/Ir1);//\n",
"V=Vt*log10(x)*2.3026;//in V\n",
"format('v',6)\n",
"disp(V,'diode voltage is ,(V)=')"
   ]
   }
,
{
		   "cell_type": "markdown",
		   "metadata": {},
		   "source": [
			"## Example 1.16: voltage.sce"
		   ]
		  },
  {
"cell_type": "code",
	   "execution_count": null,
	   "metadata": {
	    "collapsed": true
	   },
	   "outputs": [],
"source": [
"//Example 1.16: \n",
"clc;\n",
"clear;\n",
"close;\n",
"//given data :\n",
"format('v',5)\n",
"T=27;//degree Celsius\n",
"Tk=273+T;//in Kelvin\n",
"e=1.6*10^-19;// electron charge in coulombs\n",
"k=1.38*10^-23;//Boltzmann constant in m^2-kg/s^2-K^-1\n",
"J=10^4;//in Amp/m^2\n",
"Jo=200;//in mA/m^2\n",
"x=(J/(Jo*10^-3));//\n",
"Ve=((log(x))*k*Tk)/e;//in V\n",
"disp(Ve,'voltage to be applied is ,(V)=')"
   ]
   }
,
{
		   "cell_type": "markdown",
		   "metadata": {},
		   "source": [
			"## Example 1.17: resistance.sce"
		   ]
		  },
  {
"cell_type": "code",
	   "execution_count": null,
	   "metadata": {
	    "collapsed": true
	   },
	   "outputs": [],
"source": [
"//Example 1.17: \n",
"clc;\n",
"clear;\n",
"close;\n",
"format('v',5)\n",
"V=3;//in V\n",
"I=55;//in mA\n",
"Rdc=V/(I*10^-3);//in ohm\n",
"V2=26;//in mV\n",
"Rac=V2/I;//in ohm\n",
"disp(Rdc,'static resistance is ,(ohm)=')\n",
"disp(Rac,'dynamic resistance is ,(ohm)=')"
   ]
   }
,
{
		   "cell_type": "markdown",
		   "metadata": {},
		   "source": [
			"## Example 1.18: resistance.sce"
		   ]
		  },
  {
"cell_type": "code",
	   "execution_count": null,
	   "metadata": {
	    "collapsed": true
	   },
	   "outputs": [],
"source": [
"//Example 1.18: \n",
"clc;\n",
"clear;\n",
"close;\n",
"//given data :\n",
"format('v',5)\n",
"k=1.38*10^-23;// constant\n",
"T=27+273;// in K\n",
"eta=2;\n",
"e=1.6*10^-19;// in C\n",
"Vt=(k*T/e);// in V\n",
"V=0.5;// in V\n",
"Ir=10^-6;// in A\n",
"I=(Ir*10^3*(exp(V/(eta*Vt))-1));// in A\n",
"R_dc=V*10^3/I;\n",
"disp(R_dc,'static resistance,R_dc(ohm) = ')\n",
"R_ac=(eta*k*T)/(e*I*10^-3);\n",
"format('v',5)\n",
"disp(R_ac,'Dynamic resistance,R_ac(ohm) = ')\n",
"// answer is wrong in textbook"
   ]
   }
,
{
		   "cell_type": "markdown",
		   "metadata": {},
		   "source": [
			"## Example 1.19: resistance.sce"
		   ]
		  },
  {
"cell_type": "code",
	   "execution_count": null,
	   "metadata": {
	    "collapsed": true
	   },
	   "outputs": [],
"source": [
"//Example 1.19: \n",
"clc;\n",
"clear;\n",
"close;\n",
"//given data :\n",
"V=1.2;// in V\n",
"Vk=0.7;// in V\n",
"I_F=100;// in mA\n",
"R_B=(V-Vk)/(I_F*10^-3);\n",
"V_R=10;// in V\n",
"I_R=1;// in micro-A\n",
"R_R=V_R/I_R;\n",
"format('v',3)\n",
"disp(R_B,'the bulk resistance,R_B(ohm) = ')\n",
"disp(R_R,'the reverse resistance,R_R(M-ohm) = ')\n",
"eta=2;\n",
"I=5;// in  mA\n",
"R_ac=eta*26/I;\n",
"format('v',5)\n",
"disp(R_ac,'ac resistance,R_ac(ohm) = ')"
   ]
   }
,
{
		   "cell_type": "markdown",
		   "metadata": {},
		   "source": [
			"## Example 1.1: ne.sce"
		   ]
		  },
  {
"cell_type": "code",
	   "execution_count": null,
	   "metadata": {
	    "collapsed": true
	   },
	   "outputs": [],
"source": [
"//Example 1.1: \n",
"clc;\n",
"clear;\n",
"close;\n",
"//given data :\n",
"ni=1.5*10^16;// in m^-3\n",
"nh=4.5*10^22;// in m^-3\n",
"ne=ni^2/nh;\n",
"format('e',8)\n",
"disp(ne,' ne in the doped silicon is,(m^-3) = ')"
   ]
   }
,
{
		   "cell_type": "markdown",
		   "metadata": {},
		   "source": [
			"## Example 1.20: capacitance.sce"
		   ]
		  },
  {
"cell_type": "code",
	   "execution_count": null,
	   "metadata": {
	    "collapsed": true
	   },
	   "outputs": [],
"source": [
"//Example 1.20: \n",
"clc;\n",
"clear;\n",
"close;\n",
"//given data :\n",
"epsilon_0=8.85*10^-12;// in farada/m\n",
"K=12;// constant for silicon\n",
"epsilon=epsilon_0*K\n",
"A=1*10^-8;// in m^2\n",
"W=5*10^-7;// in m\n",
"Ct=epsilon*A*10^14/W;\n",
"format('v',6)\n",
"disp(Ct,'the transition capacitance,Ct(PF)  = ')"
   ]
   }
,
{
		   "cell_type": "markdown",
		   "metadata": {},
		   "source": [
			"## Example 1.21: resistance.sce"
		   ]
		  },
  {
"cell_type": "code",
	   "execution_count": null,
	   "metadata": {
	    "collapsed": true
	   },
	   "outputs": [],
"source": [
"//Example 1.21: \n",
"clc;\n",
"clear;\n",
"close;\n",
"//given data :\n",
"V=0.2;// in V\n",
"I=1;// in micro-A\n",
"R_dc=V*10^3/I;\n",
"R_ac=26/(I*10^3);\n",
"format('v',5)\n",
"disp(R_dc,'The static resistance,R_ac(k-ohm) = ')\n",
"format('v',6)\n",
"disp(R_ac,'the dynamic resistance,R_ac(ohm) = ')"
   ]
   }
,
{
		   "cell_type": "markdown",
		   "metadata": {},
		   "source": [
			"## Example 1.2: resistivity.sce"
		   ]
		  },
  {
"cell_type": "code",
	   "execution_count": null,
	   "metadata": {
	    "collapsed": true
	   },
	   "outputs": [],
"source": [
"//Example 1.2: \n",
"clc;\n",
"clear;\n",
"close;\n",
"//given data :\n",
"ne=8*10^19;// in m^-3\n",
"nh=5*10^18;// in m^-3\n",
"mu_e=2.3;// in m^2/V-s\n",
"mu_h=.01;// in m^2/V-s\n",
"e=1.6*10^-19;// in V\n",
"p=1/(e*((ne*mu_e)+(nh*mu_h)));\n",
"format('e',8)\n",
"disp(p,'(b) the resistivity,p(ohm-m)=')"
   ]
   }
,
{
		   "cell_type": "markdown",
		   "metadata": {},
		   "source": [
			"## Example 1.3: density.sce"
		   ]
		  },
  {
"cell_type": "code",
	   "execution_count": null,
	   "metadata": {
	    "collapsed": true
	   },
	   "outputs": [],
"source": [
"//Example 1.3: \n",
"clc;\n",
"clear;\n",
"close;\n",
"//given data :\n",
"sigma=500;// in ohm^-1 m^-1\n",
"mu_e=.39;// m^2/V-s\n",
"e=1.6*10^-19;// in V\n",
"ne=sigma/(e*mu_e);\n",
"format('e',9)\n",
"disp(ne,'number density of donor,ne(m^-3) = ')"
   ]
   }
,
{
		   "cell_type": "markdown",
		   "metadata": {},
		   "source": [
			"## Example 1.4: density.sce"
		   ]
		  },
  {
"cell_type": "code",
	   "execution_count": null,
	   "metadata": {
	    "collapsed": true
	   },
	   "outputs": [],
"source": [
"//Example 1.4: \n",
"clc;\n",
"clear;\n",
"close;\n",
"//given data :\n",
"e=1.6*10^-19;// in V\n",
"Pp=10^-2;// p-type silicon in ohm-m\n",
"Pn=10^-2;// n-type silicon in ohm-m\n",
"mu_p=0.048;// holes mobilities in m^2/V-s\n",
"mu_n=0.135;// electrons mobilities in m^2/V-s\n",
"Na=1/(e*mu_p*Pp);\n",
"Nd=1/(e*mu_n*Pn);\n",
"format('e',8)\n",
"disp(Na,'(i). the density of impurity,Na (m^-3) = ')\n",
"format('e',9)\n",
"disp(Nd,'(ii). the density of impurity,Nd (m^-3) = ')"
   ]
   }
,
{
		   "cell_type": "markdown",
		   "metadata": {},
		   "source": [
			"## Example 1.5: resistivity.sce"
		   ]
		  },
  {
"cell_type": "code",
	   "execution_count": null,
	   "metadata": {
	    "collapsed": true
	   },
	   "outputs": [],
"source": [
"//Example 1.5: \n",
"clc;\n",
"clear;\n",
"close;\n",
"//given data :\n",
"format('v',5)\n",
"e=1.6*10^-19;// in V\n",
"n=2.5*10^19;//m^3\n",
"p=n;//\n",
"ni=n;//\n",
"mu_p=0.17;// holes mobilities in m^2/V-s\n",
"mu_n=0.36;// electrons mobilities in m^2/V-s\n",
"sgint=e*(ni*(mu_p+mu_n));//electrical conductivity in mho/metre\n",
"pint=1/sgint;//resistivity in ohm-meter\n",
"disp(sgint,'electrical conductivity is ,(mho/metre)=')\n",
"disp(pint,'resistivity is ,(ohm-metre)=')"
   ]
   }
,
{
		   "cell_type": "markdown",
		   "metadata": {},
		   "source": [
			"## Example 1.6: conductivity.sce"
		   ]
		  },
  {
"cell_type": "code",
	   "execution_count": null,
	   "metadata": {
	    "collapsed": true
	   },
	   "outputs": [],
"source": [
"//Example 1.6: \n",
"clc;\n",
"clear;\n",
"close;\n",
"//given data :\n",
"format('e',9)\n",
"e=1.6*10^-19;// in V\n",
"ni=1.5*10^16;//in m^3\n",
"mu_p=0.13;// holes mobilities in m^2/V-s\n",
"mu_n=0.05;// electrons mobilities in m^2/V-s\n",
"sgint=e*(ni*(mu_p+mu_n));//electrical conductivity in mho/m\n",
"siat=10^8;//number of silicon atoms\n",
"ta=5*10^28;//silicon atoms in atoms/m^3\n",
"Nd=ta/siat;// in atoms/m^3\n",
"p= ni^2/Nd;//holes concentration in holes/m^3\n",
"n=Nd;//\n",
"mu_n=0.13;// electrons mobilities in m^2/V-s\n",
"sntype=e*n*mu_n;// in mho/m\n",
"disp(sgint,'(i) electrical conductivity is ,(mhos/m)=')\n",
"format('e',8)\n",
"disp(p,'(ii) holes concentration is, (holes/m^3)=')\n",
"format('v',5)\n",
"disp(sntype,'(ii) conductivity is ,(mho/m)=')\n",
"siat=10^8;//number of silicon atoms\n",
"ta=5*10^28;//silicon atoms in atoms/m^3\n",
"Na=ta/siat;// in atoms/m^3\n",
"n= ni^2/Na;//holes concentration in holes/m^3\n",
"p=Na;//\n",
"mu_p=0.05;//holes mobilities in m^2/V-s\n",
"sptype=e*p*mu_p;// in mho/m\n",
"format('e',8)\n",
"disp(n,'(iii) electron concentration is, (holes/m^3)=')\n",
"format('v',3)\n",
"disp(sptype,'(iii) conductivity is ,(mho/m)=')"
   ]
   }
,
{
		   "cell_type": "markdown",
		   "metadata": {},
		   "source": [
			"## Example 1.7: fremi_level.sce"
		   ]
		  },
  {
"cell_type": "code",
	   "execution_count": null,
	   "metadata": {
	    "collapsed": true
	   },
	   "outputs": [],
"source": [
"//Example 1.7: \n",
"clc;\n",
"clear;\n",
"close;\n",
"//given data :\n",
"format('v',6)\n",
"//Nd1=Nc*exp^-(Ec-Ef1)/kT ...Formula Used\n",
"Nc=1;//assume\n",
"kT=0.03;//eV\n",
"EcEf1=0.5;//position of Fermi level in V\n",
"Nd=1;//assume\n",
"Nd1=3*Nd;//After tripling the donor concentration\n",
"EcEf2=(EcEf1-(kT*(log(Nd1/Nd))));//in eV\n",
"disp(EcEf2,'new position of Fermi-level is ,(eV)=')"
   ]
   }
,
{
		   "cell_type": "markdown",
		   "metadata": {},
		   "source": [
			"## Example 1.8: density.sce"
		   ]
		  },
  {
"cell_type": "code",
	   "execution_count": null,
	   "metadata": {
	    "collapsed": true
	   },
	   "outputs": [],
"source": [
"//Example 1.8: \n",
"clc;\n",
"clear;\n",
"close;\n",
"//given data :\n",
"e=1.6*10^-19;// in V\n",
"Pp=10^-1;// p-type silicon in ohm-m\n",
"Pn=10^-1;// n-type silicon in ohm-m\n",
"mu_h=0.05;// holes mobilities in m^2/V-s\n",
"mu_e=0.13;// electrons mobilities in m^2/V-s\n",
"Na=1/(e*mu_h*Pp);\n",
"Nd=1/(e*mu_e*Pn);\n",
"format('e',9)\n",
"disp(Na,'(i). the density of impurity,Na (m^-3) = ')\n",
"format('e',8)\n",
"disp(Nd,'(ii). the density of impurity,Nd (m^-3) = ')"
   ]
   }
,
{
		   "cell_type": "markdown",
		   "metadata": {},
		   "source": [
			"## Example 1.9: current.sce"
		   ]
		  },
  {
"cell_type": "code",
	   "execution_count": null,
	   "metadata": {
	    "collapsed": true
	   },
	   "outputs": [],
"source": [
"//Example 1.9: \n",
"clc;\n",
"clear;\n",
"close;\n",
"//given data :\n",
"e=1.6*10^-19;// in V\n",
"Pp=10^-1;// p-type silicon in ohm-m\n",
"Pn=10^-1;// n-type silicon in ohm-m\n",
"mu_hsi=0.048;// holes mobilities in m^2/V-s\n",
"mu_esi=0.135;// electrons mobilities in m^2/V-s\n",
"nisi=1.5*10^16;//in m^-3\n",
"nesi=nisi;//\n",
"nhsi=nisi;//\n",
"mu_hge=0.19;// holes mobilities in m^2/V-s\n",
"mu_ege=0.39;// electrons mobilities in m^2/V-s\n",
"A=1*10^-4;//area in m^2\n",
"nige=2.4*10^19;//in m^-3\n",
"V=2;//in V\n",
"l=0.1;//in m\n",
"Isi= e*A*(V/l)*((nesi*mu_esi)+(nhsi*mu_hsi));//in A\n",
"format('e',8)\n",
"disp(Isi,'Total current for silicon is,(A)=')\n",
"//Current for silicon is calculated wrong in the textbook\n",
"nege=nige;//\n",
"nhge=nige;//\n",
"Ige= e*A*(V/l)*((nege*mu_ege)+(nhge*mu_hge));//in A\n",
"format('e',9)\n",
"disp(Ige,'Total current for germanium is,(A)=')"
   ]
   }
],
"metadata": {
		  "kernelspec": {
		   "display_name": "Scilab",
		   "language": "scilab",
		   "name": "scilab"
		  },
		  "language_info": {
		   "file_extension": ".sce",
		   "help_links": [
			{
			 "text": "MetaKernel Magics",
			 "url": "https://github.com/calysto/metakernel/blob/master/metakernel/magics/README.md"
			}
		   ],
		   "mimetype": "text/x-octave",
		   "name": "scilab",
		   "version": "0.7.1"
		  }
		 },
		 "nbformat": 4,
		 "nbformat_minor": 0
}
