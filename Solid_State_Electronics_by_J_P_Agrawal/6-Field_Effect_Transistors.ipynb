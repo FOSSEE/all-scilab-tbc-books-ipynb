{
"cells": [
 {
		   "cell_type": "markdown",
	   "metadata": {},
	   "source": [
       "# Chapter 6: Field Effect Transistors"
	   ]
	},
{
		   "cell_type": "markdown",
		   "metadata": {},
		   "source": [
			"## Example 6.1: drain_resistance_transconductance_and_amplification_factor.sce"
		   ]
		  },
  {
"cell_type": "code",
	   "execution_count": null,
	   "metadata": {
	    "collapsed": true
	   },
	   "outputs": [],
"source": [
"//Example 6.1: \n",
"clc;\n",
"clear;\n",
"close;\n",
"//given data :\n",
"Vgs= [0;0;0.3];//in V\n",
"Vds=[5;10;10];//in V\n",
"Id=[8;8.2;7.6];//in mA\n",
"dVds=Vds(2)-Vds(1);//in V\n",
"dId=Id(2)-Id(1);//in mA\n",
"rd=(dVds/dId);//in kilo-ohm\n",
"format('v',4)\n",
"disp(rd,'(i) A.C. Drain resistance is ,(kilo-ohm)=')\n",
"dVgs=Vgs(3)-Vgs(2);//in V\n",
"dId1=Id(2)-Id(3);//in mA\n",
"gm=dId1/dVgs;//in mA/volt\n",
"format('v',3)\n",
"disp(gm,'(ii) Transconductance is ,(mS)=')\n",
"mu=gm*rd;//A/V\n",
"format('v',4)\n",
"disp(mu,'(iii) Amplification factor is ,=')\n",
"//Transconductance and Amplification factor are calculated wrong in the textbook"
   ]
   }
,
{
		   "cell_type": "markdown",
		   "metadata": {},
		   "source": [
			"## Example 6.2: mutual_conductance.sce"
		   ]
		  },
  {
"cell_type": "code",
	   "execution_count": null,
	   "metadata": {
	    "collapsed": true
	   },
	   "outputs": [],
"source": [
"//Example 6.2: \n",
"clc;\n",
"clear;\n",
"close;\n",
"//given data :\n",
"I1=1;// in mA\n",
"I2=1.2;// in mA\n",
"del_ID=(I2-I1);\n",
"V1=-3;// in V\n",
"V2=-2.9;// in V\n",
"del_VGS=V2-V1;// in V\n",
"gm=del_ID/del_VGS;\n",
"format('v',4)\n",
"disp(gm,'mutual conductance,gm(mS) = ')"
   ]
   }
,
{
		   "cell_type": "markdown",
		   "metadata": {},
		   "source": [
			"## Example 6.3: pinch_off_voltage.sce"
		   ]
		  },
  {
"cell_type": "code",
	   "execution_count": null,
	   "metadata": {
	    "collapsed": true
	   },
	   "outputs": [],
"source": [
"//Example 6.3: \n",
"clc;\n",
"clear;\n",
"close;\n",
"//given data :\n",
"format('v',4)\n",
"a=5.6*10^-6/2;// channel width in m\n",
"epsilon0=8.86*10^-12;// in F/m\n",
"epsilon=12*epsilon0;// in F/m\n",
"Nd=10^21;// in m^-3\n",
"e=1.6*10^-19;// in V\n",
"Vp=e*Nd*a^2/(2*epsilon);\n",
"disp(Vp,'Pinch off voltage,Vp(V) = ')"
   ]
   }
,
{
		   "cell_type": "markdown",
		   "metadata": {},
		   "source": [
			"## Example 6.4: ID_gm_and_gmo.sce"
		   ]
		  },
  {
"cell_type": "code",
	   "execution_count": null,
	   "metadata": {
	    "collapsed": true
	   },
	   "outputs": [],
"source": [
"//Example 6.4: \n",
"clc;\n",
"clear;\n",
"close;\n",
"//given data :\n",
"I_DES=8.7;// in mA\n",
"V1=-3;// in V\n",
"V_GS=-1;// in V\n",
"ID=I_DES*(1-(V_GS/V1))^2;\n",
"format('v',6)\n",
"disp(ID,'(i). ID(mA) = ')\n",
"gmo=-(2*I_DES/V1);\n",
"format('v',4)\n",
"disp(gmo,'(ii). gmo(mS) = ')\n",
"gm=gmo*(1-(V_GS/V1));\n",
"format('v',6)\n",
"disp(gm,'(iii). gm(mA) = ')"
   ]
   }
,
{
		   "cell_type": "markdown",
		   "metadata": {},
		   "source": [
			"## Example 6.5: Vgs.sce"
		   ]
		  },
  {
"cell_type": "code",
	   "execution_count": null,
	   "metadata": {
	    "collapsed": true
	   },
	   "outputs": [],
"source": [
"//Example 6.5: \n",
"clc;\n",
"clear;\n",
"close;\n",
"//given data :\n",
"format('v',4)\n",
"ID=3;// in mA\n",
"I_DSS=9;// in mA\n",
"Vp=-4.5;// in V\n",
"Vgs=-Vp*(sqrt(ID/I_DSS)-1);\n",
"disp(Vgs,'Vgs(V) = ')"
   ]
   }
,
{
		   "cell_type": "markdown",
		   "metadata": {},
		   "source": [
			"## Example 6.6: voltage_amplificatio.sce"
		   ]
		  },
  {
"cell_type": "code",
	   "execution_count": null,
	   "metadata": {
	    "collapsed": true
	   },
	   "outputs": [],
"source": [
"//Example 6.6: \n",
"clc;\n",
"clear;\n",
"close;\n",
"//given data :\n",
"gm=3;//Transconductance in mS\n",
"rl=10;//load resistance in kilo-ohm\n",
"av=gm*rl;//\n",
"format('v',4)\n",
"disp(av,'the voltage aplification is ,=')"
   ]
   }
,
{
		   "cell_type": "markdown",
		   "metadata": {},
		   "source": [
			"## Example 6.7: output_voltage.sce"
		   ]
		  },
  {
"cell_type": "code",
	   "execution_count": null,
	   "metadata": {
	    "collapsed": true
	   },
	   "outputs": [],
"source": [
"//Example 6.7: \n",
"clc;\n",
"clear;\n",
"close;\n",
"//given data :\n",
"Rl=20;//in kilo-ohm\n",
"Rs=1;//in kilo-ohm\n",
"Rg=1;//in M-ohm\n",
"Cs=25;//in micro-F\n",
"mu=20;//amplification factor\n",
"rd=100;//in kilo-ohm\n",
"vi=2;//in V\n",
"f=1;//in kilo-Hz\n",
"Xc=((1/(2*%pi*f*10^3*Cs*10^-6)));//in ohm\n",
"A=((mu*Rl*10^3)/((rd+Rl)*10^3));//Voltage gain\n",
"Vo=A*vi;//in V\n",
"format('v',5)\n",
"disp(Vo,'amplifier output signal voltage is ,(V)=')"
   ]
   }
],
"metadata": {
		  "kernelspec": {
		   "display_name": "Scilab",
		   "language": "scilab",
		   "name": "scilab"
		  },
		  "language_info": {
		   "file_extension": ".sce",
		   "help_links": [
			{
			 "text": "MetaKernel Magics",
			 "url": "https://github.com/calysto/metakernel/blob/master/metakernel/magics/README.md"
			}
		   ],
		   "mimetype": "text/x-octave",
		   "name": "scilab",
		   "version": "0.7.1"
		  }
		 },
		 "nbformat": 4,
		 "nbformat_minor": 0
}
