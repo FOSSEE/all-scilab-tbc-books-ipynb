{
"cells": [
 {
		   "cell_type": "markdown",
	   "metadata": {},
	   "source": [
       "# Chapter 9: Silicon Controlled Rectifier"
	   ]
	},
{
		   "cell_type": "markdown",
		   "metadata": {},
		   "source": [
			"## Example 9.1: average_voltage.sce"
		   ]
		  },
  {
"cell_type": "code",
	   "execution_count": null,
	   "metadata": {
	    "collapsed": true
	   },
	   "outputs": [],
"source": [
"//Example 9.1: \n",
"clc;\n",
"clear;\n",
"close;\n",
"//given data :\n",
"Vm=200;// in V\n",
"theta=30;//firing angle in degree\n",
"vdc=((Vm/%pi)*(1+cosd(theta)));//in V\n",
"format('v',5)\n",
"disp(round(vdc),'average value of voltage is ,(V)=')"
   ]
   }
,
{
		   "cell_type": "markdown",
		   "metadata": {},
		   "source": [
			"## Example 9.2: dc_load_current_rms_load_current_amd_power_dissipiated.sce"
		   ]
		  },
  {
"cell_type": "code",
	   "execution_count": null,
	   "metadata": {
	    "collapsed": true
	   },
	   "outputs": [],
"source": [
"//Example 9.2: \n",
"clc;\n",
"clear;\n",
"close;\n",
"//given data :\n",
"Va=300;// in V\n",
"Vm=300*sqrt(2);//in V\n",
"Rl=50;//in ohm\n",
"theta1=90;//firing angle in degree\n",
"idc=((Vm/(2*%pi*Rl))*(1+cosd(theta1)));//in A\n",
"format('v',6)\n",
"disp((idc),'(i) the dc load current is ,(A)=')\n",
"irms=Va/(2*Rl);//in A\n",
"format('v',4)\n",
"disp(round(irms),'(ii) the rms load current is ,(A)=')\n",
"P=irms^2*Rl;//in W\n",
"format('v',5)\n",
"disp(round(P),'(iii) the power dissipated by the load is ,(W)=')"
   ]
   }
,
{
		   "cell_type": "markdown",
		   "metadata": {},
		   "source": [
			"## Example 9.3: firing_angle_conducting_angle_and_average_current.sce"
		   ]
		  },
  {
"cell_type": "code",
	   "execution_count": null,
	   "metadata": {
	    "collapsed": true
	   },
	   "outputs": [],
"source": [
"//Example 9.3: \n",
"clc;\n",
"clear;\n",
"close;\n",
"//given data :\n",
"Ih=0;//in A\n",
"Vi=100;// in V\n",
"Vm=200;//in V\n",
"Rl=100;//in ohm\n",
"theta1=asind(Vi/Vm);//firing angle in degree\n",
"ca=180-theta1;//conducting angle in dehree\n",
"format('v',4)\n",
"disp(theta1,'(i) firing angle is ,(degree)=')\n",
"format('v',5)\n",
"disp(ca,'(ii) conducting angle is ,(degree)=')\n",
"av=((Vm/(2*%pi))*(1+cosd(theta1)));//in V\n",
"ac=av/Rl;//in A\n",
"format('v',7)\n",
"disp(ac,'(iii) average current is ,(A)=')\n",
"//average current is wrong in the textbook"
   ]
   }
],
"metadata": {
		  "kernelspec": {
		   "display_name": "Scilab",
		   "language": "scilab",
		   "name": "scilab"
		  },
		  "language_info": {
		   "file_extension": ".sce",
		   "help_links": [
			{
			 "text": "MetaKernel Magics",
			 "url": "https://github.com/calysto/metakernel/blob/master/metakernel/magics/README.md"
			}
		   ],
		   "mimetype": "text/x-octave",
		   "name": "scilab",
		   "version": "0.7.1"
		  }
		 },
		 "nbformat": 4,
		 "nbformat_minor": 0
}
