{
"cells": [
 {
		   "cell_type": "markdown",
	   "metadata": {},
	   "source": [
       "# Chapter 15: Vapor cycles and processes"
	   ]
	},
{
		   "cell_type": "markdown",
		   "metadata": {},
		   "source": [
			"## Example 15.1: Efficiency_calculation.sce"
		   ]
		  },
  {
"cell_type": "code",
	   "execution_count": null,
	   "metadata": {
	    "collapsed": true
	   },
	   "outputs": [],
"source": [
"clc\n",
"clear\n",
"//Initialization of variables\n",
"p1=600 //psia\n",
"p2=0.2563 //psia\n",
"t1=486.21 //F\n",
"t2=60 //F\n",
"fur=0.75\n",
"//calculations\n",
"disp('from steam tables,')\n",
"h1=1203.2\n",
"hf1=471.6\n",
"hfg1=731.6\n",
"h2=1088\n",
"hf2=28.06\n",
"hfg2=1059.9\n",
"s1=1.4454\n",
"sf1=0.6720\n",
"sfg1=0.7734\n",
"s2=2.0948\n",
"sf2=0.0555\n",
"sfg2=2.0393\n",
"xd=(s1-sf2)/sfg2\n",
"hd=hf2+xd*hfg2\n",
"xa=0.3023\n",
"ha=hf2+xa*hfg2\n",
"wbc=0\n",
"wda=0\n",
"wcd=h1-hd\n",
"wab=ha-hf1\n",
"W=wab+wcd+wbc+wda\n",
"Wrev=hfg1- (t2+459.7)*sfg1\n",
"etat=(t1-t2)/(t1+459.7)\n",
"eta=fur*etat\n",
"//results\n",
"printf('Thermal efficiency = %d percent',etat*100)\n",
"printf('\n Furnace efficiency = %.1f percent',eta*100)\n",
""
   ]
   }
,
{
		   "cell_type": "markdown",
		   "metadata": {},
		   "source": [
			"## Example 15.2: Efficiency_calculation.sce"
		   ]
		  },
  {
"cell_type": "code",
	   "execution_count": null,
	   "metadata": {
	    "collapsed": true
	   },
	   "outputs": [],
"source": [
"clc\n",
"clear\n",
"//Initialization of variables\n",
"dhab=-123.1\n",
"etac=0.5\n",
"ha=348.5\n",
"etaf=0.75\n",
"eta=0.85\n",
"hf=471.6\n",
"hfg=731.6\n",
"hc=1203.2\n",
"dhcd=452.7\n",
"//calculations\n",
"dwabs=dhab/etac\n",
"hbd=ha-dwabs\n",
"dwcds=dhcd*eta\n",
"dqa=hc-hbd\n",
"etat=(dwcds+dwabs)/dqa\n",
"eta=etat*etaf\n",
"//results\n",
"printf('Thermal efficiency = %.1f percent',etat*100)\n",
"printf('\n Overall efficiency = %.1f percent',eta*100)"
   ]
   }
,
{
		   "cell_type": "markdown",
		   "metadata": {},
		   "source": [
			"## Example 15.3: Efficiency_calculation.sce"
		   ]
		  },
  {
"cell_type": "code",
	   "execution_count": null,
	   "metadata": {
	    "collapsed": true
	   },
	   "outputs": [],
"source": [
"clc\n",
"clear\n",
"//Initialization of variables\n",
"t=60 //F\n",
"J=778.16\n",
"p1=600 //psia\n",
"p2=0.2563 //psia\n",
"etaf=0.85 \n",
"//calculations\n",
"disp('From steam tables,')\n",
"vf=0.01604 //ft^3/lbm\n",
"dw=-vf*(p1-p2)*144/J\n",
"ha=28.06 //Btu/lbm\n",
"hb=29.84 //Btu/lbm\n",
"hd=1203.2 //Btu/lbm\n",
"he=750.5 //Btu/lbm\n",
"dqa=hd-hb\n",
"dqr=ha-he\n",
"dw=dqa+dqr\n",
"dwturb=hd-he\n",
"dwpump=ha-hb\n",
"etat=dw/dqa\n",
"eta=etat*etaf\n",
"//results\n",
"printf('Thermal efficiency = %.1f percent',etat*100)\n",
"printf('\n Overall efficiency = %.1f percent',eta*100)\n",
"    "
   ]
   }
,
{
		   "cell_type": "markdown",
		   "metadata": {},
		   "source": [
			"## Example 15.4: Efficiency_calculation.sce"
		   ]
		  },
  {
"cell_type": "code",
	   "execution_count": null,
	   "metadata": {
	    "collapsed": true
	   },
	   "outputs": [],
"source": [
"clc\n",
"clear\n",
"//Initialization of variables\n",
"dhab=-1.78\n",
"etac=0.5\n",
"ha=28.06\n",
"eta=0.85\n",
"hf=471.6\n",
"hfg=731.6\n",
"hd=1203.2\n",
"dhcd=452.7\n",
"//calculations\n",
"dwabs=dhab/etac\n",
"hbd=ha-dwabs\n",
"dwcds=dhcd*eta\n",
"dqa=hd-hbd\n",
"etat=(dwcds+dwabs)/dqa\n",
"eta=etat*eta\n",
"//results\n",
"printf('Thermal efficiency = %.1f percent',etat*100)\n",
"printf('\n Overall efficiency = %.1f percent',eta*100)\n",
""
   ]
   }
,
{
		   "cell_type": "markdown",
		   "metadata": {},
		   "source": [
			"## Example 15.5: Efficiency_calculation.sce"
		   ]
		  },
  {
"cell_type": "code",
	   "execution_count": null,
	   "metadata": {
	    "collapsed": true
	   },
	   "outputs": [],
"source": [
"clc\n",
"clear\n",
"//Initialization of variables\n",
"p2=600 //psia\n",
"p1=44 //psia\n",
"te=486.21 //F\n",
"tb=273.1 //F\n",
"J=778.16\n",
"p3=0.25 //psia\n",
"//calculations\n",
"hc=241.9\n",
"hj=834.6\n",
"y=1-0.805\n",
"v1=0.0172\n",
"v2=0.016\n",
"ha=28.06\n",
"hd=hc+v1*(p2-p1)*144/J\n",
"hb=ha+v2*(p1-p3)*144/J\n",
"hh=1374\n",
"Qa=hh-hd\n",
"Qr=(ha-hj)*(1-y)\n",
"etat=(Qa+Qr)/Qa\n",
"//results\n",
"printf('thermal efficiency = %.1f percent',etat*100)\n",
""
   ]
   }
],
"metadata": {
		  "kernelspec": {
		   "display_name": "Scilab",
		   "language": "scilab",
		   "name": "scilab"
		  },
		  "language_info": {
		   "file_extension": ".sce",
		   "help_links": [
			{
			 "text": "MetaKernel Magics",
			 "url": "https://github.com/calysto/metakernel/blob/master/metakernel/magics/README.md"
			}
		   ],
		   "mimetype": "text/x-octave",
		   "name": "scilab",
		   "version": "0.7.1"
		  }
		 },
		 "nbformat": 4,
		 "nbformat_minor": 0
}
