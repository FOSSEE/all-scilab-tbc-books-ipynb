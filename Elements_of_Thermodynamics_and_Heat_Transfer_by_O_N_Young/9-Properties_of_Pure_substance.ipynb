{
"cells": [
 {
		   "cell_type": "markdown",
	   "metadata": {},
	   "source": [
       "# Chapter 9: Properties of Pure substance"
	   ]
	},
{
		   "cell_type": "markdown",
		   "metadata": {},
		   "source": [
			"## Example 9.10: Quality_calculations.sce"
		   ]
		  },
  {
"cell_type": "code",
	   "execution_count": null,
	   "metadata": {
	    "collapsed": true
	   },
	   "outputs": [],
"source": [
"clc\n",
"clear\n",
"//Initialization of variables\n",
"pb=14.696 //psia\n",
"pa=150 //psia\n",
"tb=300 //F\n",
"//calculations\n",
"disp('From steam tables,')\n",
"hb=1192.8 //Btu/lbm\n",
"ha=hb\n",
"hf=330.51 //Btu/lbm\n",
"hfg=863.6 //Btu/lbm\n",
"x=(ha-hf)/hfg\n",
"//results\n",
"printf('Quality of wet steam = %.1f percent',x*100)"
   ]
   }
,
{
		   "cell_type": "markdown",
		   "metadata": {},
		   "source": [
			"## Example 9.1: Internal_energy_calculation.sce"
		   ]
		  },
  {
"cell_type": "code",
	   "execution_count": null,
	   "metadata": {
	    "collapsed": true
	   },
	   "outputs": [],
"source": [
"clc\n",
"clear\n",
"//Initialization of variables\n",
"T=32 //F\n",
"m=1 //lbm\n",
"J=778.16\n",
"//calculations\n",
"disp('From steam tables,')\n",
"hf=0 \n",
"p=0.08854 //psia\n",
"vf=0.01602 //ft^3/lbm\n",
"u=hf-p*144*vf/J\n",
"//results\n",
"printf('Internal energy = %.7f Btu/lbm',u)"
   ]
   }
,
{
		   "cell_type": "markdown",
		   "metadata": {},
		   "source": [
			"## Example 9.2: Entropy_calculation.sce"
		   ]
		  },
  {
"cell_type": "code",
	   "execution_count": null,
	   "metadata": {
	    "collapsed": true
	   },
	   "outputs": [],
"source": [
"clc\n",
"clear\n",
"//Initialization of variables\n",
"P=40 //psia\n",
"//calculations\n",
"disp('from steam tables,')\n",
"hf=200.8 //Btu/lbm\n",
"hg=27 //Btu/lbm\n",
"T=495  //R\n",
"ds=(hf-hg)/T\n",
"//results\n",
"printf('Change in entropy = %.3f Btu/lbm R',ds)"
   ]
   }
,
{
		   "cell_type": "markdown",
		   "metadata": {},
		   "source": [
			"## Example 9.3: Enthalpy_calculation.sce"
		   ]
		  },
  {
"cell_type": "code",
	   "execution_count": null,
	   "metadata": {
	    "collapsed": true
	   },
	   "outputs": [],
"source": [
"clc\n",
"clear\n",
"//Initialization of variables\n",
"x=0.35\n",
"T=18 //F\n",
"//calculations\n",
"disp('From table B-14,')\n",
"hf=12.12 //Btu/lbm\n",
"hg=80.27 //Btu.lbm\n",
"hfg=-hf+hg\n",
"h=hf+x*hfg\n",
"//results\n",
"printf('specific enthalpy = %.1f Btu/lbm',h)"
   ]
   }
,
{
		   "cell_type": "markdown",
		   "metadata": {},
		   "source": [
			"## Example 9.4: Heat_calculatio.sce"
		   ]
		  },
  {
"cell_type": "code",
	   "execution_count": null,
	   "metadata": {
	    "collapsed": true
	   },
	   "outputs": [],
"source": [
"clc\n",
"clear\n",
"//Initialization of variables\n",
"x=0.35\n",
"T=18 //F\n",
"T2=55.5 //F\n",
"//calculations\n",
"disp('From table B-14,')\n",
"hf=12.12 //Btu/lbm\n",
"hg=80.27 //Btu.lbm\n",
"hfg=-hf+hg\n",
"h=hf+x*hfg\n",
"h2=85.68 //Btu/lbm\n",
"dh=h2-h\n",
"//results\n",
"printf('Heat required = %.2f Btu/lbm',dh)"
   ]
   }
,
{
		   "cell_type": "markdown",
		   "metadata": {},
		   "source": [
			"## Example 9.5: Enthalpy_and_quality_calculation.sce"
		   ]
		  },
  {
"cell_type": "code",
	   "execution_count": null,
	   "metadata": {
	    "collapsed": true
	   },
	   "outputs": [],
"source": [
"clc\n",
"clear\n",
"//Initialization of variables\n",
"P=1460 //psia\n",
"T=135 //F\n",
"P2=700 //psia\n",
"//calculations\n",
"disp('From mollier chart,')\n",
"h=120 //Btu/lbm\n",
"x=0.83\n",
"//results\n",
"printf('enthalpy = %d Btu/lbm',h)\n",
"printf('\n Qulaity = %.2f',x)"
   ]
   }
,
{
		   "cell_type": "markdown",
		   "metadata": {},
		   "source": [
			"## Example 9.6: Heat_transferred_calculation.sce"
		   ]
		  },
  {
"cell_type": "code",
	   "execution_count": null,
	   "metadata": {
	    "collapsed": true
	   },
	   "outputs": [],
"source": [
"clc\n",
"clear\n",
"//Initialization of variables\n",
"m=1 //lbm\n",
"P1=144 //psia\n",
"P2=150 //psia\n",
"T1=360 //F\n",
"J=778.16\n",
"//calculations\n",
"disp('From table 3,')\n",
"v1=3.160 //ft^3/lbm\n",
"h1=1196.5 //Btu/lbm\n",
"u1=h1-P1*144*v1/J\n",
"h2=1211.4 //Btu/lbm\n",
"u2=h2-P2*144*v1/J\n",
"dq=u2-u1\n",
"//results\n",
"printf('Heat transferred = %.1f Btu/lbm',dq)"
   ]
   }
,
{
		   "cell_type": "markdown",
		   "metadata": {},
		   "source": [
			"## Example 9.7: Work_done_calculation.sce"
		   ]
		  },
  {
"cell_type": "code",
	   "execution_count": null,
	   "metadata": {
	    "collapsed": true
	   },
	   "outputs": [],
"source": [
"clc\n",
"clear\n",
"//Initialization of variables\n",
"T1=100 //F\n",
"P2=1000 //psia\n",
"x=0.6\n",
"J=778.16\n",
"//calculations\n",
"disp('From table 3,')\n",
"v=0.01613 //ft^3/lbm\n",
"P1=0.9 //psia\n",
"wrev=-v*(P2-P1)*144/J\n",
"dv=0.000051 //ft^3/lbm\n",
"wcomp=(P2+P1)/2 *dv*144/J\n",
"wact=wrev/x\n",
"//results\n",
"printf('Work done = %.1f Btu/lbm',wrev)\n",
"printf('\n In case 2, work required = %.1f Btu/lbm',wact)"
   ]
   }
,
{
		   "cell_type": "markdown",
		   "metadata": {},
		   "source": [
			"## Example 9.8: Heat_calculatio.sce"
		   ]
		  },
  {
"cell_type": "code",
	   "execution_count": null,
	   "metadata": {
	    "collapsed": true
	   },
	   "outputs": [],
"source": [
"clc\n",
"clear\n",
"//Initialization of variables\n",
"pa=1000 //atm\n",
"ta=100 //F\n",
"//calculations\n",
"hf=67.97 //Btu/lbm\n",
"w=3 //Btu/lbm\n",
"ha=hf+w\n",
"disp('from steam table 2,')\n",
"hc=1191.8 //Btu/lbm\n",
"qrev=hc-ha\n",
"//results\n",
"printf('Heat transferred = %.1f Btu/lbm',qrev)"
   ]
   }
,
{
		   "cell_type": "markdown",
		   "metadata": {},
		   "source": [
			"## Example 9.9: Work_done_and_pressure_calculation.sce"
		   ]
		  },
  {
"cell_type": "code",
	   "execution_count": null,
	   "metadata": {
	    "collapsed": true
	   },
	   "outputs": [],
"source": [
"clc\n",
"clear\n",
"//Initialization of variables\n",
"P1=144 //psia\n",
"T1=400 //F\n",
"y=0.7\n",
"//calculations\n",
"disp('From steam tables,')\n",
"h1=1220.4 //Btu/lbm\n",
"s1=1.6050 //Btu/lbm R\n",
"s2=1.6050 //Btu/lbm R\n",
"P2=3 //psia\n",
"sf=0.2008 //Btu/lbm R\n",
"sfg=1.6855 //Btu/lbm R\n",
"x=(s1-sf)/sfg\n",
"hf=109.37 //Btu/lbm\n",
"hfg=1013.2 //Btu/;bm\n",
"h2=hf+x*hfg\n",
"work=h1-h2\n",
"dw=y*work\n",
"h2d=h1-dw\n",
"//results\n",
"printf('Work done = %d Btu/lbm',work)\n",
"printf('\n work done in case 2 = %.1f Btu/lbm',dw)\n",
"printf('\n Final state pressure = %d psia',P2)"
   ]
   }
],
"metadata": {
		  "kernelspec": {
		   "display_name": "Scilab",
		   "language": "scilab",
		   "name": "scilab"
		  },
		  "language_info": {
		   "file_extension": ".sce",
		   "help_links": [
			{
			 "text": "MetaKernel Magics",
			 "url": "https://github.com/calysto/metakernel/blob/master/metakernel/magics/README.md"
			}
		   ],
		   "mimetype": "text/x-octave",
		   "name": "scilab",
		   "version": "0.7.1"
		  }
		 },
		 "nbformat": 4,
		 "nbformat_minor": 0
}
