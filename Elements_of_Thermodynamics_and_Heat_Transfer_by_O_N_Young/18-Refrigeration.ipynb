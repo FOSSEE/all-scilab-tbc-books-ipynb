{
"cells": [
 {
		   "cell_type": "markdown",
	   "metadata": {},
	   "source": [
       "# Chapter 18: Refrigeration"
	   ]
	},
{
		   "cell_type": "markdown",
		   "metadata": {},
		   "source": [
			"## Example 18.1: cop_and_work_calculations.sce"
		   ]
		  },
  {
"cell_type": "code",
	   "execution_count": null,
	   "metadata": {
	    "collapsed": true
	   },
	   "outputs": [],
"source": [
"clc\n",
"clear\n",
"//Initialization of variables\n",
"Ta=500 //R\n",
"Tr=540 //R\n",
"//calculations\n",
"cop=Ta/(Tr-Ta)\n",
"hp=4.71/cop\n",
"disp('From steam tables,')\n",
"ha=48.02\n",
"hb=46.6\n",
"hc=824.1\n",
"hd=886.9\n",
"Wc=-(hd-hc)\n",
"We=-(hb-ha)\n",
"//results\n",
"printf('Coefficient of performance = %.1f ',cop)\n",
"printf('\n horsepower required per ton of refrigeration = %.3f hp/ton refrigeration',hp)\n",
"printf('\n Work of compression = %.1f Btu/lbm',Wc)\n",
"printf('\n Work of expansion = %.2f Btu/lbm',We)\n",
""
   ]
   }
,
{
		   "cell_type": "markdown",
		   "metadata": {},
		   "source": [
			"## Example 18.2: cop_calculatio.sce"
		   ]
		  },
  {
"cell_type": "code",
	   "execution_count": null,
	   "metadata": {
	    "collapsed": true
	   },
	   "outputs": [],
"source": [
"clc\n",
"clear\n",
"//Initialization of variables\n",
"x=0.8\n",
"he=26.28 //Btu/lbm\n",
"hb=26.28 //Btu/lbm\n",
"pe=98.76 //psia\n",
"pc=51.68 //psia\n",
"hc=82.71 //Btu/lbm\n",
"hf=86.80+0.95\n",
"//calculations\n",
"dwisen=-(hf-hc)\n",
"dwact=dwisen/x\n",
"hd=hc-dwact\n",
"cop=(hc-hb)/(hd-hc)\n",
"//results\n",
"printf('Coefficient of performance = %.2f',cop)"
   ]
   }
,
{
		   "cell_type": "markdown",
		   "metadata": {},
		   "source": [
			"## Example 18.3: work_done_and_hp_calculation.sce"
		   ]
		  },
  {
"cell_type": "code",
	   "execution_count": null,
	   "metadata": {
	    "collapsed": true
	   },
	   "outputs": [],
"source": [
"clc\n",
"clear\n",
"//Initialization of variables\n",
"hc=613.3//btu/lbm\n",
"hb=138.9//btu/lbm\n",
"ha=138.9//btu/lbm\n",
"hd=713.4 //btu/lbm\n",
"ta=464.7 //R\n",
"t0=545.7 //R\n",
"v=8.150 //ft^3/lbm\n",
"//calculations\n",
"Qa=hc-hb\n",
"Qr=ha-hd\n",
"Wcd=Qa+Qr\n",
"cop=abs(Qa/Wcd)\n",
"hp=abs(4.71/cop)\n",
"carnot=abs(ta/(t0-ta))\n",
"rel=abs(cop/carnot)\n",
"mass=200/Qa\n",
"C=mass*v\n",
"//results\n",
"printf('Work done = %.1f Btu/lbm',Wcd)\n",
"printf('\n horsepower required per ton of refrigeration = %.3f hp/ton refrigeration',hp)\n",
"printf('\n Coefficient of performance actual = %.2f ',cop)\n",
"printf('\n Ideal cop = %.3f',carnot)\n",
"printf('\n relative efficiency = %.3f',rel)\n",
"printf('\n Mass flow rate = %.3f lbm/min ton',mass)\n",
"printf('\n Compressor capacity = %.2f cfm/ton',C)"
   ]
   }
,
{
		   "cell_type": "markdown",
		   "metadata": {},
		   "source": [
			"## Example 18.4: Pressure_calculatio.sce"
		   ]
		  },
  {
"cell_type": "code",
	   "execution_count": null,
	   "metadata": {
	    "collapsed": true
	   },
	   "outputs": [],
"source": [
"clc\n",
"clear\n",
"//Initialization of variables\n",
"pc=0.6982 //psia\n",
"pe=0.1217 //psia\n",
"m=200 //gal/min\n",
"qual=0.98\n",
"h1=23.07 //Btu/lbm\n",
"h2=8.05  //Btu/lbm\n",
"hw=1071.3\n",
"//calculations\n",
"rp=pc/pe\n",
"m2=m/0.01602 *0.1388 //Conversion of units \n",
"m2=1670\n",
"dh=15.02\n",
"Qa=m2*(h1-h2)\n",
"h3=h2 + qual*hw\n",
"m3=Qa/(h3-h1)\n",
"v=0.016+ qual*2444\n",
"C=m3*v\n",
"//results\n",
"printf('Pressure ratio = %.2f',rp)\n",
"printf('\n Heat = %d Btu/min',Qa)\n",
"printf('\n Water make up required = %.2f lbm/min',m3)\n",
"printf('\n Volume of vapor entering ejector = %d cfm',C)\n",
"//The answers are a bit different due to rounding off error in textbook\n",
""
   ]
   }
],
"metadata": {
		  "kernelspec": {
		   "display_name": "Scilab",
		   "language": "scilab",
		   "name": "scilab"
		  },
		  "language_info": {
		   "file_extension": ".sce",
		   "help_links": [
			{
			 "text": "MetaKernel Magics",
			 "url": "https://github.com/calysto/metakernel/blob/master/metakernel/magics/README.md"
			}
		   ],
		   "mimetype": "text/x-octave",
		   "name": "scilab",
		   "version": "0.7.1"
		  }
		 },
		 "nbformat": 4,
		 "nbformat_minor": 0
}
