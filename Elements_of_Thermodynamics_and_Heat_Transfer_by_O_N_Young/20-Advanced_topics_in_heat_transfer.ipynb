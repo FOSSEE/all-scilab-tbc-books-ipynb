{
"cells": [
 {
		   "cell_type": "markdown",
	   "metadata": {},
	   "source": [
       "# Chapter 20: Advanced topics in heat transfer"
	   ]
	},
{
		   "cell_type": "markdown",
		   "metadata": {},
		   "source": [
			"## Example 20.1: Temperature_and_heat_calculation.sce"
		   ]
		  },
  {
"cell_type": "code",
	   "execution_count": null,
	   "metadata": {
	    "collapsed": true
	   },
	   "outputs": [],
"source": [
"clc\n",
"clear\n",
"//Initialization of variables\n",
"heat=54.5 //Btu/hr ft\n",
"d=0.811 //in\n",
"h=2.5 //Btu/hr ft^2 F\n",
"ts=100 //F\n",
"km=220 //Btu/hr ft F\n",
"//calculations\n",
"t2=heat*12/(h*%pi*d) +ts\n",
"w=heat*4*144/(%pi*d^2)\n",
"t1=w*(d/2)^2 /(4*144*km) + t2\n",
"//results\n",
"printf('Surface temperature of transmission line = %.1f F',t2)\n",
"printf('\n Rate of heat generaton per unit volume of wire = %d Btu/hr ft^2',w)\n",
"printf('\n Max. temperature in the line = %.2f F',t1)\n",
"disp('The answers in the textbook are a bit different due to rounding off errors')"
   ]
   }
,
{
		   "cell_type": "markdown",
		   "metadata": {},
		   "source": [
			"## Example 20.2: Heat_rate_calculatio.sce"
		   ]
		  },
  {
"cell_type": "code",
	   "execution_count": null,
	   "metadata": {
	    "collapsed": true
	   },
	   "outputs": [],
"source": [
"clc\n",
"clear\n",
"//Initialization of variables\n",
"d1=1 //in\n",
"l=1 //ft\n",
"r=0.5 //ft\n",
"L=0.5 //in\n",
"Ts=430 //F\n",
"Ta=170 //F\n",
"del=0.0125 //ft\n",
"h=10 //Btu/hr ft^2 F\n",
"eta=0.77\n",
"eta2=0.94\n",
"n=60 //fins\n",
"thick=0.025 //in\n",
"k2=132 //Btu/hr ft F\n",
"//calculations\n",
"Q=h*%pi*d1^2 *(Ts-Ta)/12\n",
"rate=(r+L)/r\n",
"k=26 //Btu/hr ft F\n",
"Lt=L/12 *(h*12/(k*del))^(1/2)\n",
"dtm=eta*(Ts-Ta)\n",
"As=2*%pi*((2*d1)^2 -d1^2)/4\n",
"Q1=h*n*As*dtm/144\n",
"Q2=h*%pi*d1*(12-60*thick)*(Ts-Ta)/144\n",
"Qt=Q1+Q2\n",
"al=0.8\n",
"tl=Ta+(Ts-Ta)/cosh(al)\n",
"al2=r/12 *(h*12*2/(k2*thick))\n",
"dtm2=eta2*(Ts-Ta)\n",
"Q12=h*n*As*dtm2/144\n",
"Qt2=Q12+Q2\n",
"//results\n",
"printf('Heat rate per foot of bare tube = %.1f Btu/hr',Q)\n",
"printf('\n Total hourly heat loss per foot of finned tube = %.1f Btu/hr',Qt)\n",
"printf('\n Approx. temp for tip of the fin = %d F',tl)\n",
"printf('\n In case of Al, Total beat loss = %.1f Btu/hr',Qt2)\n",
"disp('The answers in the textbook are a bit different due to rounding off errors')"
   ]
   }
,
{
		   "cell_type": "markdown",
		   "metadata": {},
		   "source": [
			"## Example 20.3: Length_calculation.sce"
		   ]
		  },
  {
"cell_type": "code",
	   "execution_count": null,
	   "metadata": {
	    "collapsed": true
	   },
	   "outputs": [],
"source": [
"clc\n",
"clear\n",
"//Initialization of variables\n",
"tl=125 //F\n",
"t0=80 //F\n",
"t1=1000 //F\n",
"d=1 //in\n",
"k=25 //Btu/hr ft F\n",
"k2=0.0208\n",
"Nu=18\n",
"//calculations\n",
"byal=(tl-t0)/(t1-t0)\n",
"al=acosh(1/byal)\n",
"b=%pi*d/12\n",
"A=%pi*d^2 /(4*144)\n",
"tm=(tl+t1)/2 +460\n",
"hr=0.79*0.1714*((tm/100)^4 - ((t0+460)/100)^4)/(tm-460-t0)\n",
"hc=Nu*k2*12/d\n",
"a=((hc+hr)*b/(k*A))^(0.5)\n",
"L=al/a\n",
"//results\n",
"printf('Length required = %.2f ft',L)"
   ]
   }
,
{
		   "cell_type": "markdown",
		   "metadata": {},
		   "source": [
			"## Example 20.5: Time_required.sce"
		   ]
		  },
  {
"cell_type": "code",
	   "execution_count": null,
	   "metadata": {
	    "collapsed": true
	   },
	   "outputs": [],
"source": [
"clc\n",
"clear\n",
"//Initialization of variables\n",
"c=0.0947 //Btu/lbm F\n",
"rho=0.0551 //lbm/ft^3\n",
"mu=0.0553 //lbm/hr ft\n",
"t1=440 //F\n",
"ts=400 //F\n",
"t2=80 //F\n",
"d=0.1 //in\n",
"k=0.0194 //Btu/hr ft^2 F\n",
"rho2=558 //lbm/ft^3\n",
"v=10 //ft/s\n",
"//calculations\n",
"Re=d*3600*v*rho/(12*mu)\n",
"Nu=0.37*Re^0.6\n",
"hc=k*Nu*12/d\n",
"ex=log((t1-ts)/(t1-t2))\n",
"tau=-ex*d*rho2*c/(12*6*hc)\n",
"time=tau*3600\n",
"//results\n",
"printf('Time required = %d sec',time)"
   ]
   }
,
{
		   "cell_type": "markdown",
		   "metadata": {},
		   "source": [
			"## Example 20.6: cooling_rate.sce"
		   ]
		  },
  {
"cell_type": "code",
	   "execution_count": null,
	   "metadata": {
	    "collapsed": true
	   },
	   "outputs": [],
"source": [
"clc\n",
"clear\n",
"//Initialization of variables\n",
"h=2 //Btu/hr ft^2 F\n",
"delta=1/6\n",
"t=125 //F\n",
"t0=100 //F\n",
"ti=350 //F\n",
"k=0.167 //Btu/hr ft F\n",
"rho=80 //lbm/ft^3\n",
"c=0.4 //Btu/lbm F\n",
"//calculations\n",
"Bi=h*delta/k\n",
"tr=(t-t0)/(ti-t0)\n",
"tau=1.5*delta^2 *rho*c/k\n",
"tr2=0.21\n",
"tc=tr2*(ti-t0) + t0\n",
"//results\n",
"printf('Cooling time = %.2f hr',tau)\n",
"printf('\n Center temperature = %d F',tc)"
   ]
   }
,
{
		   "cell_type": "markdown",
		   "metadata": {},
		   "source": [
			"## Example 20.7: Heat_dissipatio.sce"
		   ]
		  },
  {
"cell_type": "code",
	   "execution_count": null,
	   "metadata": {
	    "collapsed": true
	   },
	   "outputs": [],
"source": [
"clc\n",
"clear\n",
"//Initialization of variables\n",
"h=2.5 //Btu/hr ft^2 F\n",
"kc=0.1 //Btu/hr ft F\n",
"r1=0.811/2\n",
"//calculations\n",
"r2c=kc/h *12\n",
"//results\n",
"if r2c>=r1 then\n",
"    printf('Thin layer of insulation would increase the heat dissipation from wire, r2c = %.2f in',r2c)\n",
"else\n",
"        printf('Thin layer of insulation would decrease the heat dissipation from wire. r2c=%.2f in',r2c)\n",
"end\n",
""
   ]
   }
,
{
		   "cell_type": "markdown",
		   "metadata": {},
		   "source": [
			"## Example 20.8: Heat_transfer_rate.sce"
		   ]
		  },
  {
"cell_type": "code",
	   "execution_count": null,
	   "metadata": {
	    "collapsed": true
	   },
	   "outputs": [],
"source": [
"clc\n",
"clear\n",
"//Initialization of variables\n",
"F12=0.19\n",
"F13=F12\n",
"FR3=F13\n",
"F2R=0.38\n",
"J1=1714\n",
"Wb2=0.1714\n",
"//calculations\n",
"disp('Upon solving the simultaneous equations')\n",
"Q1=1774 //Btu/hr ft\n",
"Q2=-547 //Btu/r ft\n",
"Q3=-1227 //Btu/hr ft\n",
"J2=548 //Btu/hr ft^2\n",
"Tr=909 //R\n",
"//results\n",
"printf('Heat transfer rate from surface 1 = %d Btu/hr ft',Q1)\n",
"printf('\n Heat transfer rate from surface 2 = %d Btu/hr ft',Q2)\n",
"printf('\n Heat transfer rate from surface 3 = %d Btu/hr ft',Q3)\n",
"printf('\n Temperature of surface R = %d R',Tr)"
   ]
   }
],
"metadata": {
		  "kernelspec": {
		   "display_name": "Scilab",
		   "language": "scilab",
		   "name": "scilab"
		  },
		  "language_info": {
		   "file_extension": ".sce",
		   "help_links": [
			{
			 "text": "MetaKernel Magics",
			 "url": "https://github.com/calysto/metakernel/blob/master/metakernel/magics/README.md"
			}
		   ],
		   "mimetype": "text/x-octave",
		   "name": "scilab",
		   "version": "0.7.1"
		  }
		 },
		 "nbformat": 4,
		 "nbformat_minor": 0
}
