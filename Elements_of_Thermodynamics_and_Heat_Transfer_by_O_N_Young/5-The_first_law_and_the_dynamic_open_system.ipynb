{
"cells": [
 {
		   "cell_type": "markdown",
	   "metadata": {},
	   "source": [
       "# Chapter 5: The first law and the dynamic open system"
	   ]
	},
{
		   "cell_type": "markdown",
		   "metadata": {},
		   "source": [
			"## Example 5.1: work_done_and_power_calculation.sce"
		   ]
		  },
  {
"cell_type": "code",
	   "execution_count": null,
	   "metadata": {
	    "collapsed": true
	   },
	   "outputs": [],
"source": [
"clc\n",
"clear\n",
"//Initialization of variables\n",
"rate= 5 //lbm/sec\n",
"Q=50 //Btu/s\n",
"h2=1020 //Btu/lbm\n",
"h1=1000 //Btu/lbm\n",
"V2=50 //ft/s\n",
"V1=100 //ft/s\n",
"J=778\n",
"g=32.2 //ft/s^2\n",
"gc=g\n",
"Z2=0\n",
"Z1=100 //ft\n",
"//calculations\n",
"dw=Q/rate -(h2-h1) -(V2^2- V1^2)/(2*gc*J) -g/gc *(Z2-Z1)/J\n",
"power=dw*rate\n",
"//results\n",
"printf('work done by the system = %.1f Btu/lbm',dw)\n",
"printf('\n Power = %.1f Btu/s',power)"
   ]
   }
,
{
		   "cell_type": "markdown",
		   "metadata": {},
		   "source": [
			"## Example 5.2: Area_calculatio.sce"
		   ]
		  },
  {
"cell_type": "code",
	   "execution_count": null,
	   "metadata": {
	    "collapsed": true
	   },
	   "outputs": [],
"source": [
"clc\n",
"clear\n",
"//Initialization of variables\n",
"V=100 //ft/s\n",
"v=15 //lbm/ft^3\n",
"m=5 //lbm/s\n",
"//calculations\n",
"A=m*v/V\n",
"//results\n",
"printf('Area of inlet pipe = %.2f ft^2',A)"
   ]
   }
,
{
		   "cell_type": "markdown",
		   "metadata": {},
		   "source": [
			"## Example 5.3: Temperature_calculatio.sce"
		   ]
		  },
  {
"cell_type": "code",
	   "execution_count": null,
	   "metadata": {
	    "collapsed": true
	   },
	   "outputs": [],
"source": [
"clc\n",
"clear\n",
"//Initialization of variables\n",
"P=100 //psia\n",
"//calculations\n",
"disp('From table B-4')\n",
"h=1187.2 //Btu/lbm\n",
"t1=328 //F\n",
"t2=540 //F\n",
"dt=t2-t1\n",
"//results\n",
"printf('Final temperature of the steam = %d F',t2)\n",
"printf('\n Change in temperature = %d F',dt)"
   ]
   }
],
"metadata": {
		  "kernelspec": {
		   "display_name": "Scilab",
		   "language": "scilab",
		   "name": "scilab"
		  },
		  "language_info": {
		   "file_extension": ".sce",
		   "help_links": [
			{
			 "text": "MetaKernel Magics",
			 "url": "https://github.com/calysto/metakernel/blob/master/metakernel/magics/README.md"
			}
		   ],
		   "mimetype": "text/x-octave",
		   "name": "scilab",
		   "version": "0.7.1"
		  }
		 },
		 "nbformat": 4,
		 "nbformat_minor": 0
}
