{
"cells": [
 {
		   "cell_type": "markdown",
	   "metadata": {},
	   "source": [
       "# Chapter 14: Psychrometrics"
	   ]
	},
{
		   "cell_type": "markdown",
		   "metadata": {},
		   "source": [
			"## Example 14.10: cooling_range_calculation.sce"
		   ]
		  },
  {
"cell_type": "code",
	   "execution_count": null,
	   "metadata": {
	    "collapsed": true
	   },
	   "outputs": [],
"source": [
"clc\n",
"clear\n",
"//Initialization of variables\n",
"m=1 //lbm\n",
"t1=100 //F\n",
"t2=75 //F\n",
"db=65 //F\n",
"disp('From psychrometric charts,')\n",
"t11=82 //F\n",
"phi1=0.4\n",
"H1=30 //Btu/lbm dry air\n",
"w1=65 //grains/lbm dry air\n",
"w2=250 //grains/lbm dry air\n",
"//calculations\n",
"cr=t1-t2\n",
"appr=t2-db\n",
"dmf3=(w2-w1)*0.0001427\n",
"hf3=68\n",
"hf4=43\n",
"H2=62.2\n",
"H1=30\n",
"mf4= (H1-H2+ dmf3*hf3)/(hf4-hf3)\n",
"per=dmf3/(dmf3+mf4)\n",
"//results\n",
"printf('cooling range = %d F',cr)\n",
"printf('\n Approach = %d F',appr)\n",
"printf('\n amount of water cooled per pound of dry air = %.3f lbm dry air/lbm dry air',mf4)\n",
"printf('\n percentage of water lost by evaporation = %.2f percent',per*100)\n",
""
   ]
   }
,
{
		   "cell_type": "markdown",
		   "metadata": {},
		   "source": [
			"## Example 14.1: Pressure_calculatio.sce"
		   ]
		  },
  {
"cell_type": "code",
	   "execution_count": null,
	   "metadata": {
	    "collapsed": true
	   },
	   "outputs": [],
"source": [
"clc\n",
"clear\n",
"//Initialization of variables\n",
"t1=80+460 //R\n",
"ps=0.5069 //psia\n",
"disp('from steam tables,')\n",
"vs=633.1 //ft^3/lbm\n",
"phi=0.3\n",
"R=85.6\n",
"Ra=53.3\n",
"p=14.696\n",
"//calculations\n",
"tdew=46 //F\n",
"pw=phi*ps\n",
"rhos=1/vs\n",
"rhow=phi*rhos\n",
"rhow2= pw*144/(R*t1)\n",
"pa=p-pw\n",
"rhoa= pa*144/(Ra*t1)\n",
"w=rhow/rhoa\n",
"mu=phi*(p-ps)/(p-pw)\n",
"Ws=0.622*(ps/(p-ps))\n",
"mu2=w/Ws\n",
"//results\n",
"disp('part a')\n",
"printf('partial pressure of water = %.5f psia',pw)\n",
"printf('\n dew temperature = %d F',tdew)\n",
"disp('part b')\n",
"printf('density of water = %.6f lbm/ft^3',rhow)\n",
"printf('\n in case 2, density of water = %.6f lbm/ft^3',rhow2)\n",
"printf('\n density of air = %.6f lbm/ft^3',rhoa)\n",
"disp('part c')\n",
"printf('specific humidity  = %.4f lbm steam/lbm air',w)\n",
"disp('part d')\n",
"printf('In method 1, Degree of saturation = %.3f',mu)\n",
"printf('\n In method 2, Degree of saturation = %.3f',mu2)"
   ]
   }
,
{
		   "cell_type": "markdown",
		   "metadata": {},
		   "source": [
			"## Example 14.2: Moisture_content_calculation.sce"
		   ]
		  },
  {
"cell_type": "code",
	   "execution_count": null,
	   "metadata": {
	    "collapsed": true
	   },
	   "outputs": [],
"source": [
"clc\n",
"clear\n",
"//Initialization of variables\n",
"p=14.696 //psia\n",
"ps=0.0808  //psia\n",
"ps2=0.5069 //psia\n",
"phi2=0.5\n",
"phi=0.6\n",
"grain=7000\n",
"//calculations\n",
"pw=phi*ps\n",
"w1=0.622*pw/(p-pw)\n",
"pw2=phi2*ps2\n",
"w2=0.622*pw2/(p-pw2)\n",
"dw=w2-w1\n",
"dwg=dw*grain\n",
"//results\n",
"printf('change in moisture content = %.6f lbm water/lbm dry air',dw)\n",
"printf('\n in grains, change = %.2f grains water/lbm dry air',dwg)\n",
"disp('The answers are a bit different due to rounding off error in textbook')"
   ]
   }
,
{
		   "cell_type": "markdown",
		   "metadata": {},
		   "source": [
			"## Example 14.3: Humidity_calculatio.sce"
		   ]
		  },
  {
"cell_type": "code",
	   "execution_count": null,
	   "metadata": {
	    "collapsed": true
	   },
	   "outputs": [],
"source": [
"clc\n",
"clear\n",
"//Initialization of variables\n",
"t1=80 //F\n",
"t2=60 //F\n",
"p=14.696 //psia\n",
"ps=0.507 //psia\n",
"pss=0.256 //psia\n",
"cp=0.24\n",
"//calculations\n",
"ws=0.622*pss/(p-pss)\n",
"w=(cp*(t2-t1) + ws*1060)/(1060+ 0.45*(t1-t2))\n",
"pw=w*p/(0.622+w)\n",
"phi=pw/ps\n",
"td=46 //F\n",
"//results\n",
"printf('\n humidity ratio = %.4f lbm/lbm dry air',w)\n",
"printf('\n relative humidity  = %.1f percent',phi*100)\n",
"printf('\n Dew point = %d F',td)\n",
""
   ]
   }
,
{
		   "cell_type": "markdown",
		   "metadata": {},
		   "source": [
			"## Example 14.4: Enthalpy_and_sigma_function_calculation.sce"
		   ]
		  },
  {
"cell_type": "code",
	   "execution_count": null,
	   "metadata": {
	    "collapsed": true
	   },
	   "outputs": [],
"source": [
"clc\n",
"clear\n",
"//Initialization of variables\n",
"W=0.0065  //lbm/lbm of dry air\n",
"t=80 //F\n",
"td=60 //F\n",
"//calculations\n",
"H=0.24*t+W*(1060+0.45*t)\n",
"sig=H-W*(td-32)\n",
"Ws=0.0111\n",
"H2=0.24*td+Ws*(1060+0.45*td)\n",
"sig2=H2-Ws*(td-32)\n",
"//results\n",
"printf('In case 1, enthalpy = %.2f Btu/lbm dry air',H)\n",
"printf('\n In case 1, sigma function = %.2f Btu/lbm dry air',sig)\n",
"printf('\n In case 2, enthalpy = %.2f Btu/lbm dry air',H2)\n",
"printf('\n In case 2, sigma function = %.2f Btu/lbm dry air',sig2)"
   ]
   }
,
{
		   "cell_type": "markdown",
		   "metadata": {},
		   "source": [
			"## Example 14.5: Enthalpy_calculation.sce"
		   ]
		  },
  {
"cell_type": "code",
	   "execution_count": null,
	   "metadata": {
	    "collapsed": true
	   },
	   "outputs": [],
"source": [
"clc\n",
"clear\n",
"//Initialization of variables\n",
"t1=30 //F\n",
"t2=60 //F\n",
"t3=80 //F\n",
"W1=0.00206\n",
"W2=0.01090\n",
"//calculations\n",
"cm1=0.24+0.45*W1\n",
"H1=cm1*t1+W1*1060\n",
"cm2=0.24+0.45*W2\n",
"H2=cm2*t3+W2*1060\n",
"hf=t2-32\n",
"dq=H2-H1-(W2-W1)*hf\n",
"//results\n",
"printf('In case 1, Enthalpy = %.2f Btu/lbm dry air',H1)\n",
"printf('\n In case 2, Enthalpy = %.2f Btu/lbm dry air',H2)\n",
"printf('\n Heat added = %.2f Btu/lbm dry air',dq)"
   ]
   }
,
{
		   "cell_type": "markdown",
		   "metadata": {},
		   "source": [
			"## Example 14.6: Partial_pressure_calculatio.sce"
		   ]
		  },
  {
"cell_type": "code",
	   "execution_count": null,
	   "metadata": {
	    "collapsed": true
	   },
	   "outputs": [],
"source": [
"clc\n",
"clear\n",
"//Initialization of variables\n",
"pw=0.15//psia\n",
"disp('using psychrometric charts,')\n",
"tdew=46 //F\n",
"//calculations\n",
"va=13.74 //ft^3/lbm dry air\n",
"rhoa=1/va\n",
"V=13.74\n",
"mw=46/7000\n",
"rhow=mw/V\n",
"w=0.00657\n",
"//results\n",
"disp('part a')\n",
"printf('partial pressure of water = %.2f psia',pw)\n",
"printf('\n dew temperature = %d F',tdew)\n",
"disp('part b')\n",
"printf('density of water = %.6f lbm/ft^3',rhow)\n",
"printf('\n density of air = %.4f lbm/ft^3',rhoa)\n",
"disp('part c')\n",
"printf('specific humidity  = %.5f lbm steam/lbm air',w)"
   ]
   }
,
{
		   "cell_type": "markdown",
		   "metadata": {},
		   "source": [
			"## Example 14.7: Enthalpy_calculation.sce"
		   ]
		  },
  {
"cell_type": "code",
	   "execution_count": null,
	   "metadata": {
	    "collapsed": true
	   },
	   "outputs": [],
"source": [
"clc\n",
"clear\n",
"//Initialization of variables\n",
"W1=0.00206 //lbm/lbm dry air\n",
"W2=0.01090 //lbm/lbm dry air\n",
"t=60 //F\n",
"//calculations\n",
"dw=W1-W2\n",
"\n",
"hs=144.4\n",
"hs2=66.8-32\n",
"w1=14.4 //Btu/lbm\n",
"ws1=20 //Btu/lbm\n",
"w2=76.3 //Btu/lbm\n",
"ws2=98.5 //Btu/lbm\n",
"dwh1=-(w1-ws1)/7000 *hs\n",
"H1=9.3+dwh1\n",
"dwh2=(w2-ws2)/7000 *hs2\n",
"H2=31.3+dwh2\n",
"dwc=dw*(t-32)\n",
"dq=H2-H1+dwc\n",
"//results\n",
"printf('Enthalpy change = %.2f Btu/lbm dry air',dq)"
   ]
   }
,
{
		   "cell_type": "markdown",
		   "metadata": {},
		   "source": [
			"## Example 14.8: Humidity_calculatio.sce"
		   ]
		  },
  {
"cell_type": "code",
	   "execution_count": null,
	   "metadata": {
	    "collapsed": true
	   },
	   "outputs": [],
"source": [
"clc\n",
"clear\n",
"//Initialization of variables\n",
"disp('From psychrometric charts,')\n",
"va1=13 //ft^3/lbm dry air\n",
"va2=13.88 //ft^3/lbm dry air\n",
"flow=2000 //cfm\n",
"//calculations\n",
"ma1= flow/va1\n",
"ma2=flow/va2\n",
"t=62.5// F\n",
"phi=0.83 //percent\n",
"//results\n",
"printf('humidity = %.2f ',phi)\n",
"printf('\n Temperature = %.1f F',t)"
   ]
   }
,
{
		   "cell_type": "markdown",
		   "metadata": {},
		   "source": [
			"## Example 14.9: Dry_bulb_calculatio.sce"
		   ]
		  },
  {
"cell_type": "code",
	   "execution_count": null,
	   "metadata": {
	    "collapsed": true
	   },
	   "outputs": [],
"source": [
"clc\n",
"clear\n",
"//Initialization of variables\n",
"t=90 //F\n",
"ts=67.2 //F\n",
"phi=0.3\n",
"per=0.8\n",
"//calculations\n",
"dep=t-ts\n",
"dt=dep*per\n",
"tf=t-dt\n",
"disp('from psychrometric charts,')\n",
"phi2=0.8\n",
"//results\n",
"printf('Dry bulb temperature = %.2f F',tf)\n",
"printf('\n percent humidity  = %.2f',phi2)"
   ]
   }
],
"metadata": {
		  "kernelspec": {
		   "display_name": "Scilab",
		   "language": "scilab",
		   "name": "scilab"
		  },
		  "language_info": {
		   "file_extension": ".sce",
		   "help_links": [
			{
			 "text": "MetaKernel Magics",
			 "url": "https://github.com/calysto/metakernel/blob/master/metakernel/magics/README.md"
			}
		   ],
		   "mimetype": "text/x-octave",
		   "name": "scilab",
		   "version": "0.7.1"
		  }
		 },
		 "nbformat": 4,
		 "nbformat_minor": 0
}
