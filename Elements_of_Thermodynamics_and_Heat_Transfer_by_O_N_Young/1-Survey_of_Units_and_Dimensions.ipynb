{
"cells": [
 {
		   "cell_type": "markdown",
	   "metadata": {},
	   "source": [
       "# Chapter 1: Survey of Units and Dimensions"
	   ]
	},
{
		   "cell_type": "markdown",
		   "metadata": {},
		   "source": [
			"## Example 1.1: Force_calculatio.sce"
		   ]
		  },
  {
"cell_type": "code",
	   "execution_count": null,
	   "metadata": {
	    "collapsed": true
	   },
	   "outputs": [],
"source": [
"clc\n",
"clear\n",
"//Initialization of variables\n",
"gc=32.1739 //lbm ft/lbf s^2\n",
"m=10 //lbm\n",
"a=10 //ft/s^2\n",
"//calculations\n",
"F=m*a/gc\n",
"//results\n",
"printf('Force to accelerate = %.3f lbf',F)"
   ]
   }
,
{
		   "cell_type": "markdown",
		   "metadata": {},
		   "source": [
			"## Example 1.2: Force_calculatio.sce"
		   ]
		  },
  {
"cell_type": "code",
	   "execution_count": null,
	   "metadata": {
	    "collapsed": true
	   },
	   "outputs": [],
"source": [
"clc\n",
"clear\n",
"//Initialization of variables\n",
"gc=32.1739 //lbm ft/lbf s^2\n",
"m=10 //lbm\n",
"a=gc //ft/s^2\n",
"//calculations\n",
"F=m*a/gc\n",
"//results\n",
"printf('Force to accelerate = %d lbf',F)"
   ]
   }
,
{
		   "cell_type": "markdown",
		   "metadata": {},
		   "source": [
			"## Example 1.3: Force_calculatio.sce"
		   ]
		  },
  {
"cell_type": "code",
	   "execution_count": null,
	   "metadata": {
	    "collapsed": true
	   },
	   "outputs": [],
"source": [
"clc\n",
"clear\n",
"//Initialization of variables\n",
"gc=32.1739 //lbm ft/lbf s^2\n",
"F=5.00e-9 //lbf hr/ft^2\n",
"//calculations\n",
"F2=F*3600*gc\n",
"//results\n",
"printf('Force required = %.2e lbm/ft sec',F2)"
   ]
   }
,
{
		   "cell_type": "markdown",
		   "metadata": {},
		   "source": [
			"## Example 1.4: velocity_calculatio.sce"
		   ]
		  },
  {
"cell_type": "code",
	   "execution_count": null,
	   "metadata": {
	    "collapsed": true
	   },
	   "outputs": [],
"source": [
"clc\n",
"clear\n",
"//Initialization of variables\n",
"v=88 //ft/s\n",
"//calculations\n",
"v2=v*3600/5280\n",
"//results\n",
"printf('velocity = %d mph',v2)"
   ]
   }
,
{
		   "cell_type": "markdown",
		   "metadata": {},
		   "source": [
			"## Example 1.5: velocity_calculatio.sce"
		   ]
		  },
  {
"cell_type": "code",
	   "execution_count": null,
	   "metadata": {
	    "collapsed": true
	   },
	   "outputs": [],
"source": [
"clc\n",
"clear\n",
"//Initialization of variables\n",
"v=88 //ft/s\n",
"//calculations\n",
"v2=v*1/5280*3600\n",
"//results\n",
"printf('velocity = %d mph',v2)"
   ]
   }
,
{
		   "cell_type": "markdown",
		   "metadata": {},
		   "source": [
			"## Example 1.6: Density_calculation.sce"
		   ]
		  },
  {
"cell_type": "code",
	   "execution_count": null,
	   "metadata": {
	    "collapsed": true
	   },
	   "outputs": [],
"source": [
"clc\n",
"clear\n",
"//Initialization of variables\n",
"rho=62.305 //lbf/ft^2\n",
"g=32.1739 //ft/s^2\n",
"//calculations\n",
"gam=rho/g\n",
"//results\n",
"printf('Density of water in this system = %.3f lbf/ft^2',gam)\n",
"printf('\n Specific weight = %.3f lbf/ft^2',rho)"
   ]
   }
],
"metadata": {
		  "kernelspec": {
		   "display_name": "Scilab",
		   "language": "scilab",
		   "name": "scilab"
		  },
		  "language_info": {
		   "file_extension": ".sce",
		   "help_links": [
			{
			 "text": "MetaKernel Magics",
			 "url": "https://github.com/calysto/metakernel/blob/master/metakernel/magics/README.md"
			}
		   ],
		   "mimetype": "text/x-octave",
		   "name": "scilab",
		   "version": "0.7.1"
		  }
		 },
		 "nbformat": 4,
		 "nbformat_minor": 0
}
