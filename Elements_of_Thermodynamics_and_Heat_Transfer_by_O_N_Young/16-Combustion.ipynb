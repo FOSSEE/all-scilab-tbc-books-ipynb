{
"cells": [
 {
		   "cell_type": "markdown",
	   "metadata": {},
	   "source": [
       "# Chapter 16: Combustion"
	   ]
	},
{
		   "cell_type": "markdown",
		   "metadata": {},
		   "source": [
			"## Example 16.10: Lower_heating_value.sce"
		   ]
		  },
  {
"cell_type": "code",
	   "execution_count": null,
	   "metadata": {
	    "collapsed": true
	   },
	   "outputs": [],
"source": [
"clc\n",
"clear\n",
"//Initialization of variables\n",
"y=13\n",
"x=12\n",
"M2=18\n",
"M=170\n",
"p=0.4593\n",
"vfg=694.9\n",
"J=778.2\n",
"m=9*18\n",
"u1=-2363996 //Btu\n",
"//calculations\n",
"z=y*M2/M\n",
"hfg=1050.4 //Btu/lbm\n",
"ufg= hfg- p*vfg*144/J\n",
"dU=ufg*m \n",
"Lhv=u1+dU\n",
"//results\n",
"printf('Lower heating value = %d Btu/lbm',Lhv)"
   ]
   }
,
{
		   "cell_type": "markdown",
		   "metadata": {},
		   "source": [
			"## Example 16.11: Heat_calculatio.sce"
		   ]
		  },
  {
"cell_type": "code",
	   "execution_count": null,
	   "metadata": {
	    "collapsed": true
	   },
	   "outputs": [],
"source": [
"clc\n",
"clear\n",
"//Initialization of variables\n",
"n1=8\n",
"n2=9\n",
"n3=1\n",
"n4=12.5\n",
"U11=3852\n",
"U12=115\n",
"U21=3009\n",
"U22=101\n",
"U31=24773\n",
"U32=640\n",
"U41=2539\n",
"U42=83\n",
"H=-2203389\n",
"//calculations\n",
"dU1=n1*(U11-U12)+n2*(U21-U22)\n",
"dU2=n3*(U31-U32)+n4*(U41-U42)\n",
"Q=H+dU1-dU2\n",
"//results\n",
"printf('Heat of reaction = %d Btu',Q)\n",
""
   ]
   }
,
{
		   "cell_type": "markdown",
		   "metadata": {},
		   "source": [
			"## Example 16.12: Temperature_calculatio.sce"
		   ]
		  },
  {
"cell_type": "code",
	   "execution_count": null,
	   "metadata": {
	    "collapsed": true
	   },
	   "outputs": [],
"source": [
"clc\n",
"clear\n",
"//Initialization of variables\n",
"n1=8\n",
"n2=9\n",
"n3=47\n",
"h1=118\n",
"h2=104\n",
"h3=82.5\n",
"Q=2203279 //Btu\n",
"//calculations\n",
"U11=n1*h1+n2*h2+n3*h3\n",
"U12=U11+Q\n",
"T2=5271 //R\n",
"//results\n",
"printf('Upon interpolating, T2 = %d R',T2)\n",
""
   ]
   }
,
{
		   "cell_type": "markdown",
		   "metadata": {},
		   "source": [
			"## Example 16.13: Degree_of_dissociatio.sce"
		   ]
		  },
  {
"cell_type": "code",
	   "execution_count": null,
	   "metadata": {
	    "collapsed": true
	   },
	   "outputs": [],
"source": [
"clc\n",
"clear\n",
"//Initialization of variables\n",
"kp=5 \n",
"//calculations\n",
"x=poly(0,'x')\n",
"vec=roots(24*x^3 + 3*x-2)\n",
"x=vec(3)\n",
"y=poly(0,'y')\n",
"vec2=roots(249*y^3 +3*y-2)\n",
"y=vec2(3)\n",
"//results\n",
"printf('percentage of dissociation = %.1f percent',x*100)\n",
"printf('\n If pressure =10 . degree of dissociation = %d percent',y*100)\n",
""
   ]
   }
,
{
		   "cell_type": "markdown",
		   "metadata": {},
		   "source": [
			"## Example 16.14: Extent_of_the_reaction.sce"
		   ]
		  },
  {
"cell_type": "code",
	   "execution_count": null,
	   "metadata": {
	    "collapsed": true
	   },
	   "outputs": [],
"source": [
"clc\n",
"clear\n",
"//Initialization of variables\n",
"x=poly(0,'x')\n",
"vec=roots(24*x^3 +48*x^2 + 7*x -4)\n",
"x=vec(3) *100\n",
"//results\n",
"printf('Extent of reaction= %d percent',100-x)\n",
""
   ]
   }
,
{
		   "cell_type": "markdown",
		   "metadata": {},
		   "source": [
			"## Example 16.1: Molecule_formulatio.sce"
		   ]
		  },
  {
"cell_type": "code",
	   "execution_count": null,
	   "metadata": {
	    "collapsed": true
	   },
	   "outputs": [],
"source": [
"clc\n",
"clear\n",
"//Initialization of variables\n",
"per=85\n",
"//calculations\n",
"a=per/12\n",
"b=100-per\n",
"ad=1.13*a\n",
"bd=1.13*b\n",
"//results\n",
"printf('Molecule is C %d H %d',ad,bd+1)"
   ]
   }
,
{
		   "cell_type": "markdown",
		   "metadata": {},
		   "source": [
			"## Example 16.2: Molecule_formulatio.sce"
		   ]
		  },
  {
"cell_type": "code",
	   "execution_count": null,
	   "metadata": {
	    "collapsed": true
	   },
	   "outputs": [],
"source": [
"clc\n",
"clear\n",
"//Initialization of variables\n",
"per=0.071\n",
"//calculations\n",
"O2=8.74\n",
"N2=per/2 + 3.76*O2\n",
"//results\n",
"printf('Oxygen = %.2f and Nitrogen = %.2f',O2,N2)"
   ]
   }
,
{
		   "cell_type": "markdown",
		   "metadata": {},
		   "source": [
			"## Example 16.4: Air_fuel_ratio.sce"
		   ]
		  },
  {
"cell_type": "code",
	   "execution_count": null,
	   "metadata": {
	    "collapsed": true
	   },
	   "outputs": [],
"source": [
"clc\n",
"clear\n",
"//Initialization of variables\n",
"N2=78.1\n",
"M=29\n",
"co2=8.7\n",
"co=8.9\n",
"x4=0.3\n",
"x5=3.7\n",
"x6=14.7\n",
"//calculations\n",
"O2=N2/3.76\n",
"Z=(co2+co+x4)/8\n",
"AF=(O2+N2)*M/(Z*113)\n",
"//results\n",
"printf('Air fuel ratio = %.1f lbm air/lbm fuel',AF)"
   ]
   }
,
{
		   "cell_type": "markdown",
		   "metadata": {},
		   "source": [
			"## Example 16.5: Air_fuel_ratio.sce"
		   ]
		  },
  {
"cell_type": "code",
	   "execution_count": null,
	   "metadata": {
	    "collapsed": true
	   },
	   "outputs": [],
"source": [
"clc\n",
"clear\n",
"//Initialization of variables\n",
"N2=78.1\n",
"M=29\n",
"ba=2.12\n",
"x4=0.3\n",
"x5=3.7\n",
"x6=14.7\n",
"//calculations\n",
"O2=N2/3.76\n",
"O2=N2/3.76\n",
"Z=(x4*4+x5*2+x6*2)/17\n",
"AF=(O2+N2)*M/(Z*113)\n",
"//results\n",
"printf('Air fuel ratio = %.1f lbm air/lbm fuel',AF)\n",
""
   ]
   }
,
{
		   "cell_type": "markdown",
		   "metadata": {},
		   "source": [
			"## Example 16.6: Air_fuel_ratio.sce"
		   ]
		  },
  {
"cell_type": "code",
	   "execution_count": null,
	   "metadata": {
	    "collapsed": true
	   },
	   "outputs": [],
"source": [
"clc\n",
"clear\n",
"//Initialization of variables\n",
"N2=78.1\n",
"M=29\n",
"ba=2.12\n",
"x4=0.3\n",
"x5=3.7\n",
"x6=14.7\n",
"//calculations\n",
"O2=N2/3.76\n",
"c=14.7\n",
"b= x4*4 + x5*2 + x6*2\n",
"a=b/ba\n",
"AF=(O2+N2)*M/(a*12 + b)\n",
"//results\n",
"printf('Air fuel ratio = %.1f lbm air/lbm fuel',AF)"
   ]
   }
,
{
		   "cell_type": "markdown",
		   "metadata": {},
		   "source": [
			"## Example 16.7: Air_fuel_ratio.sce"
		   ]
		  },
  {
"cell_type": "code",
	   "execution_count": null,
	   "metadata": {
	    "collapsed": true
	   },
	   "outputs": [],
"source": [
"clc\n",
"clear\n",
"//Initialization of variables\n",
"N2=78.1\n",
"M=29\n",
"ba=2.12\n",
"co2=8.7\n",
"co=8.9\n",
"x4=0.3\n",
"x5=3.7\n",
"x6=14.7\n",
"//calculations\n",
"O2=N2/3.76\n",
"c=14.7\n",
"Z=2.238\n",
"X=(Z*17-x4*4-x5*2)/2\n",
"a=co2+co/2+x4+x6/2\n",
"b=3.764*a\n",
"AF=(O2+N2)*M/(Z*113)\n",
"//results\n",
"printf('Air fuel ratio = %.1f lbm air/lbm fuel',AF)\n",
""
   ]
   }
,
{
		   "cell_type": "markdown",
		   "metadata": {},
		   "source": [
			"## Example 16.8: Air_fuel_ratio.sce"
		   ]
		  },
  {
"cell_type": "code",
	   "execution_count": null,
	   "metadata": {
	    "collapsed": true
	   },
	   "outputs": [],
"source": [
"clc\n",
"clear\n",
"//Initialization of variables\n",
"x1=8.7\n",
"x2=8.9\n",
"x3=0.3\n",
"N=78.1\n",
"z=113\n",
"M=29\n",
"//calculations\n",
"co2=(x1+x2+x3)*100/(N+x1+x2+x3)\n",
"a=2.325\n",
"AF=103*M/(a*z)\n",
"//results\n",
"printf('Air fuel ratio = %.2f',AF)"
   ]
   }
,
{
		   "cell_type": "markdown",
		   "metadata": {},
		   "source": [
			"## Example 16.9: Higher_heating_value.sce"
		   ]
		  },
  {
"cell_type": "code",
	   "execution_count": null,
	   "metadata": {
	    "collapsed": true
	   },
	   "outputs": [],
"source": [
"clc\n",
"clear\n",
"//Initialization of variables\n",
"dH=-2369859 //Btu\n",
"r=1.986\n",
"dn=5.5\n",
"T=536.7 //R\n",
"//calculations\n",
"dQ=dH+dn*r*T\n",
"//results\n",
"printf('Higher heating value = %d Btu',dQ)"
   ]
   }
],
"metadata": {
		  "kernelspec": {
		   "display_name": "Scilab",
		   "language": "scilab",
		   "name": "scilab"
		  },
		  "language_info": {
		   "file_extension": ".sce",
		   "help_links": [
			{
			 "text": "MetaKernel Magics",
			 "url": "https://github.com/calysto/metakernel/blob/master/metakernel/magics/README.md"
			}
		   ],
		   "mimetype": "text/x-octave",
		   "name": "scilab",
		   "version": "0.7.1"
		  }
		 },
		 "nbformat": 4,
		 "nbformat_minor": 0
}
