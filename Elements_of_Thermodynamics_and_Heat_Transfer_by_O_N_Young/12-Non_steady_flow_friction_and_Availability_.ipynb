{
"cells": [
 {
		   "cell_type": "markdown",
	   "metadata": {},
	   "source": [
       "# Chapter 12: Non steady flow friction and Availability "
	   ]
	},
{
		   "cell_type": "markdown",
		   "metadata": {},
		   "source": [
			"## Example 12.1: Work_done_calculation.sce"
		   ]
		  },
  {
"cell_type": "code",
	   "execution_count": null,
	   "metadata": {
	    "collapsed": true
	   },
	   "outputs": [],
"source": [
"clc\n",
"clear\n",
"//Initialization of variables\n",
"p1=100 //psia\n",
"p2=14.7 //psia\n",
"k=1.4\n",
"T1=700 //R\n",
"R=10.73/29\n",
"V=50\n",
"cv=0.171\n",
"cp=0.24\n",
"R2=1.986/29\n",
"//calculations\n",
"T2=T1/ (p1/p2)^((k-1)/k)\n",
"m1=p1*V/(R*T1)\n",
"m2=p2*V/(R*T2)\n",
"Wrev= cv*(m1*T1 - m2*T2) - (m1-m2)*(T2)*cp\n",
"//results\n",
"printf('Work done in case 1 = %d Btu',Wrev)"
   ]
   }
,
{
		   "cell_type": "markdown",
		   "metadata": {},
		   "source": [
			"## Example 12.2: Efficiency_calculation.sce"
		   ]
		  },
  {
"cell_type": "code",
	   "execution_count": null,
	   "metadata": {
	    "collapsed": true
	   },
	   "outputs": [],
"source": [
"clc\n",
"clear\n",
"//Initialization of variables\n",
"p1=400 //psia\n",
"t1=600 //F\n",
"h1=1306.9 //Btu/lbm\n",
"b1=480.9 //Btu/lbm\n",
"p2=50 //psia\n",
"h2=1122 //Btu/lbm\n",
"h3=1169.5 //Btu/lbm\n",
"b3=310.9 //Btu/lbm\n",
"//calculations\n",
"disp('All the values are obtained from Mollier chart,')\n",
"dw13=h1-h3\n",
"dw12=h1-h2\n",
"dasf=b3-b1\n",
"etae=dw13/dw12\n",
"eta=abs(dw13/dasf)\n",
"dq=dw13+dasf\n",
"//results\n",
"printf('Engine efficiency = %.1f percent',etae*100)\n",
"printf('\n Effectiveness = %.1f percent',eta*100)\n",
"printf('\n Loss of available energy  = %.1f Btu/lbm',dq)"
   ]
   }
,
{
		   "cell_type": "markdown",
		   "metadata": {},
		   "source": [
			"## Example 12.3: Friction_calculation.sce"
		   ]
		  },
  {
"cell_type": "code",
	   "execution_count": null,
	   "metadata": {
	    "collapsed": true
	   },
	   "outputs": [],
"source": [
"clc\n",
"clear\n",
"//Initialization of variables\n",
"p1=100 //psia\n",
"p2=10 //psia\n",
"n=1.3\n",
"T1=800 //R\n",
"cv=0.172\n",
"R=1.986/29\n",
"//calculations\n",
"T2=T1*(p2/p1)^((n-1)/n)\n",
"dwir=cv*(T1-T2)\n",
"dwr=R*(T2-T1)/(1-n)\n",
"dq=dwr-dwir\n",
"//results\n",
"printf('The friction of the process per pound of air = %.1f Btu/lbm',dq)"
   ]
   }
,
{
		   "cell_type": "markdown",
		   "metadata": {},
		   "source": [
			"## Example 12.4: Friction_calculation.sce"
		   ]
		  },
  {
"cell_type": "code",
	   "execution_count": null,
	   "metadata": {
	    "collapsed": true
	   },
	   "outputs": [],
"source": [
"clc\n",
"clear\n",
"//Initialization of variables\n",
"ms=10 //lbm\n",
"den=62.3 //lbm/ft^3\n",
"A1=0.0218 //ft^2\n",
"A2=0.00545 //ft^2\n",
"p2=50 //psia\n",
"p1=100 //psia\n",
"gc=32.2 //ft/s^2\n",
"dz=30 //ft\n",
"//calculations\n",
"V1=ms/(A1*den)\n",
"V2=ms/(A2*den)\n",
"df=-144/den*(p2-p1) - (V2^2 -V1^2)/(2*gc) - dz\n",
"//results\n",
"printf('Friction = %.1f ft-lbf/lbm',df)"
   ]
   }
],
"metadata": {
		  "kernelspec": {
		   "display_name": "Scilab",
		   "language": "scilab",
		   "name": "scilab"
		  },
		  "language_info": {
		   "file_extension": ".sce",
		   "help_links": [
			{
			 "text": "MetaKernel Magics",
			 "url": "https://github.com/calysto/metakernel/blob/master/metakernel/magics/README.md"
			}
		   ],
		   "mimetype": "text/x-octave",
		   "name": "scilab",
		   "version": "0.7.1"
		  }
		 },
		 "nbformat": 4,
		 "nbformat_minor": 0
}
