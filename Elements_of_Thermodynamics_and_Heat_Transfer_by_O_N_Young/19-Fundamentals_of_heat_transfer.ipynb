{
"cells": [
 {
		   "cell_type": "markdown",
	   "metadata": {},
	   "source": [
       "# Chapter 19: Fundamentals of heat transfer"
	   ]
	},
{
		   "cell_type": "markdown",
		   "metadata": {},
		   "source": [
			"## Example 19.10: Percentage_change_calculation.sce"
		   ]
		  },
  {
"cell_type": "code",
	   "execution_count": null,
	   "metadata": {
	    "collapsed": true
	   },
	   "outputs": [],
"source": [
"clc\n",
"clear\n",
"//Initialization of variables\n",
"em=0.79\n",
"sigma=0.1714\n",
"T1=660 //R\n",
"T2=540 //R\n",
"T3=860 //R\n",
"//calculations\n",
"Q1=em*sigma*((T1/100)^4 -(T2/100)^4)\n",
"Q2=em*sigma*((T3/100)^4 -(T2/100)^4)\n",
"Qh1=129+Q1\n",
"Qh2=419+Q2\n",
"per=100*(Qh2-Qh1)/Qh1\n",
"//results\n",
"printf('Percentage change in total heat trasnfer = %.1f percent',per)\n",
"disp('The answer in the textbook is a bit different due to rounding off error in textbook.')"
   ]
   }
,
{
		   "cell_type": "markdown",
		   "metadata": {},
		   "source": [
			"## Example 19.11: Error_in_probe_reading.sce"
		   ]
		  },
  {
"cell_type": "code",
	   "execution_count": null,
	   "metadata": {
	    "collapsed": true
	   },
	   "outputs": [],
"source": [
"clc\n",
"clear\n",
"//Initialization of variables\n",
"Tp=12.57\n",
"Tw=10.73\n",
"ep=0.8\n",
"sig=0.1714\n",
"hc=7\n",
"//calculations\n",
"dt=ep*sig*(Tp^4-Tw^4)/hc\n",
"//results\n",
"printf('Error in probe reading = %d F',dt)"
   ]
   }
,
{
		   "cell_type": "markdown",
		   "metadata": {},
		   "source": [
			"## Example 19.12: Heat_transfer.sce"
		   ]
		  },
  {
"cell_type": "code",
	   "execution_count": null,
	   "metadata": {
	    "collapsed": true
	   },
	   "outputs": [],
"source": [
"clc\n",
"clear\n",
"//Initialization of variables\n",
"l=6 //ft\n",
"d1=0.55 //in\n",
"d2=0.75 //in\n",
"h1=280 //Btu/hr ft^2 F\n",
"h2=2000 //Btu/fr ft^2 F\n",
"k=220 //Btu/hr ft F\n",
"t2=212 //F\n",
"t1=60 //F\n",
"f=500 //Btu/hr ft^2 F\n",
"//calculations\n",
"A2=%pi*d1*l/12\n",
"A3=%pi*d2*l/12\n",
"Rt=1/(h1*A2) + 1/(h2*A3) +log(d2/d1) /(2*%pi*k*l)\n",
"Q=(t2-t1)/Rt\n",
"Rt2=Rt+ 1/(f*A2)\n",
"Q2=(t2-t1)/Rt2\n",
"//results\n",
"printf('Heat transfer = %d Btu/hr',Q)\n",
"printf('\n Heat transfer in case 2= %d Btu/hr',Q2)\n",
"disp('The answer in the textbook is a bit different due to rounding off error in textbook.')"
   ]
   }
,
{
		   "cell_type": "markdown",
		   "metadata": {},
		   "source": [
			"## Example 19.13: Overall_heat_transfer_calculation.sce"
		   ]
		  },
  {
"cell_type": "code",
	   "execution_count": null,
	   "metadata": {
	    "collapsed": true
	   },
	   "outputs": [],
"source": [
"clc\n",
"clear\n",
"//Initialization of variables\n",
"l=6 //ft\n",
"d1=0.55 //in\n",
"d2=0.75 //in\n",
"h1=280 //Btu/hr ft^2 F\n",
"h2=2000 //Btu/fr ft^2 F\n",
"k=220 //Btu/hr ft F\n",
"t2=212 //F\n",
"t1=60 //F\n",
"//calculations\n",
"A2=%pi*d1*l/12\n",
"A3=%pi*d2*l/12\n",
"Rt=1/(h1*A2) + 1/(h2*A3) +log(d2/d1) /(2*%pi*k*l)\n",
"U3=1/(A3*Rt)\n",
"//results\n",
"printf('Overall Heat transfer coefficient = %.1f Btu/hr ft^2 F',U3)\n",
"disp('The answer in the textbook is a bit different due to rounding off error in textbook.')\n",
""
   ]
   }
,
{
		   "cell_type": "markdown",
		   "metadata": {},
		   "source": [
			"## Example 19.14: X_and_Y_calculation.sce"
		   ]
		  },
  {
"cell_type": "code",
	   "execution_count": null,
	   "metadata": {
	    "collapsed": true
	   },
	   "outputs": [],
"source": [
"clc\n",
"clear\n",
"//Initialization of variables\n",
"t1=300 //F\n",
"t2=260 //F\n",
"t3=200 //F\n",
"t4=160 //F\n",
"//calculations\n",
"X=(t2-t4)/(t1-t4)\n",
"Z=(t1-t3)/(t2-t4)\n",
"//results\n",
"printf('Parameters X and Z are %.3f and %.1f respectively',X,Z)"
   ]
   }
,
{
		   "cell_type": "markdown",
		   "metadata": {},
		   "source": [
			"## Example 19.1: Thermal_conductivity_and_temperature_calculations.sce"
		   ]
		  },
  {
"cell_type": "code",
	   "execution_count": null,
	   "metadata": {
	    "collapsed": true
	   },
	   "outputs": [],
"source": [
"clc\n",
"clear\n",
"//Initialization of variables\n",
"r1=1.12 //in\n",
"r2=3.06 //in\n",
"t1=203 //F\n",
"t2=184 //F\n",
"r3=2.09 //in\n",
"pow=11.1 //watts\n",
"//calculations\n",
"km=pow*3.413*(12/r1-12/r2)/(4*%pi*(t1-t2))\n",
"dt=pow*3.413*(12/r1-12/r3)/(4*%pi*km)\n",
"t3d=t1-dt\n",
"//rewsults\n",
"printf('The experimental value of thermal conductivity = %.2f Btu/hr ft F',km)\n",
"printf('\n Required temperature = %.1f F',t3d)"
   ]
   }
,
{
		   "cell_type": "markdown",
		   "metadata": {},
		   "source": [
			"## Example 19.2: Heat_loss_calculations.sce"
		   ]
		  },
  {
"cell_type": "code",
	   "execution_count": null,
	   "metadata": {
	    "collapsed": true
	   },
	   "outputs": [],
"source": [
"clc\n",
"clear\n",
"//Initialization of variables\n",
"r1=4.035 //in\n",
"r2=4.312 //in\n",
"r3=5.312 //in\n",
"r4=6.812 //in\n",
"k12=25 //Btu/hr ft F\n",
"k23=0.05 //Btu/hr ft F\n",
"k34=0.04 //Btu/hr ft F\n",
"t1=625 //F\n",
"t4=125 //F\n",
"l=100 //ft\n",
"hr=1.7 //Btu/hr ft^2 F\n",
"//calculations\n",
"Rs=1/(2*%pi*l) *(log(r2/r1) /k12+log(r3/r2) /k23 +log(r4/r3) /k34)\n",
"Qd=(t1-t4)/Rs\n",
"dt=Qd*12/(hr*%pi*2*l*6.812)\n",
"t0=t4-dt\n",
"//results\n",
"printf('Heat loss = %d Btu/hr',Qd)\n",
"printf('\n Temperature required = %d F',t0)\n",
"disp('The answers given in the textbook are a bit different due to rounding off error')"
   ]
   }
,
{
		   "cell_type": "markdown",
		   "metadata": {},
		   "source": [
			"## Example 19.3: coefficient_of_heat_transfer.sce"
		   ]
		  },
  {
"cell_type": "code",
	   "execution_count": null,
	   "metadata": {
	    "collapsed": true
	   },
	   "outputs": [],
"source": [
"clc\n",
"clear\n",
"//Initialization of variables\n",
"dout=1 //in\n",
"d1=0.049 //in\n",
"t1=70 //F\n",
"t2=80 //F\n",
"rho=62.2 //lbm/ft^3\n",
"mum=2.22 //lbm/ft hr\n",
"k=0.352 //Btu/hr ft F\n",
"cp=1 //Btu/lbm F\n",
"vel=500000 //lbm/hr\n",
"n=100 //tubes\n",
"//calculations\n",
"D=dout-2*d1\n",
"t=(t1+t2)/2\n",
"V=vel/n *4*144/(%pi*D^2 *rho)\n",
"Re=rho*V*D/(mum*12)\n",
"Pr=cp*mum/k\n",
"Nu=0.023*Re^0.8 *Pr^0.4\n",
"hc=Nu*k*12/D\n",
"//results\n",
"printf('Coefficient of heat transfer = %d Btu/hr ft^2 F',hc)"
   ]
   }
,
{
		   "cell_type": "markdown",
		   "metadata": {},
		   "source": [
			"## Example 19.4: coefficient_of_heat_transfer.sce"
		   ]
		  },
  {
"cell_type": "code",
	   "execution_count": null,
	   "metadata": {
	    "collapsed": true
	   },
	   "outputs": [],
"source": [
"clc\n",
"clear\n",
"//Initialization of variables\n",
"d1=0.5 //ft\n",
"t1=200 //F\n",
"t2=80 //F\n",
"ta=400 //F\n",
"rho=0.0662 //lbm/ft^3\n",
"mum=0.0483 //lbm/ft hr\n",
"k=0.0167 //Btu/hr ft F\n",
"cp=0.2408 //Btu/lbm F\n",
"rho2=0.0567 //lbm/ft^3\n",
"mum2=0.0542 //lbm/ft hr\n",
"k2=0.0190 //Btu/hr ft F\n",
"cp2=0.2419 //Btu/lbm F\n",
"g=32.17\n",
"//calculations\n",
"ti=(t1+t2)/2\n",
"bet=1/(460+ti)\n",
"Pr1=cp*mum/k\n",
"Gr1=d1^3 *rho^2 *3600^2 *g*bet*(t1-t2)/mum^2\n",
"Gr1pr1=Gr1*Pr1\n",
"hc1=k/d1 *0.53*(Gr1pr1)^0.25\n",
"Q1=hc1*(t1-t2)\n",
"tf=(ta+t2)/2\n",
"bet2=1/(460+tf)\n",
"Pr2=cp2*mum2/k2\n",
"Gr2=d1^3 *rho2^2 *3600^2 *g*bet2*(ta-t2)/mum2^2\n",
"Gr2pr2=Gr2*Pr2\n",
"hc2=k2/d1 *0.53*(Gr2pr2)^0.25\n",
"Q2=hc2*(ta-t2)\n",
"per=100*(Q2-Q1)/Q1\n",
"//results\n",
"printf('Coefficient of heat transfer in case 1= %.3f Btu/hr ft^2 F',hc1)\n",
"printf('\n Coefficient of heat transfer in case 2 = %.3f Btu/hr ft^2 F',hc2)\n",
"printf('\n Percentage change = %d percent',per)"
   ]
   }
,
{
		   "cell_type": "markdown",
		   "metadata": {},
		   "source": [
			"## Example 19.5: Temperature_and_heat_calculations.sce"
		   ]
		  },
  {
"cell_type": "code",
	   "execution_count": null,
	   "metadata": {
	    "collapsed": true
	   },
	   "outputs": [],
"source": [
"clc\n",
"clear\n",
"//Initialization of variables\n",
"chord=40 //ft\n",
"v=1200 //mph\n",
"t1=80 //F\n",
"t2=200 //F\n",
"mu=0.0447 //lbm/ft hr\n",
"rho=5280 //lbm/ft^3\n",
"cp=0.2404 //Btu/lbm F\n",
"k=0.0152 //Btu/hr ft F\n",
"J=778\n",
"gc=32.17 //ft/s^2\n",
"mu2=0.0514 //lbm/ft hr\n",
"k2=0.0179 //Btu/hr ft F\n",
"cp2=0.2414 //Btu/lbm F\n",
"//calculations\n",
"Re=rho*v*chord*0.0735/mu\n",
"r=(mu*cp/k)^(1/3)\n",
"tav=t1+ r*v^2 *rho^2 /(2*gc*J*cp*3600^2)\n",
"ts=t1+ 0.5*(t2-t1)+ 0.22*(tav-t1)\n",
"Re2=v*rho*chord*0.0610/mu2\n",
"Pr2=cp2*mu2/k2\n",
"hc=cp2*v*rho*0.0610 *0.037*Re2^(-0.2) *Pr2^(-0.667)\n",
"Q2=hc*(t2-tav)\n",
"//results\n",
"printf('Temperature of wing surface = %.1f F',tav)\n",
"printf('\n Heat transfer convective = %d Btu/hr ft^2',Q2)\n",
"disp('The answers are a bit different due to rounding off error in textbook')"
   ]
   }
,
{
		   "cell_type": "markdown",
		   "metadata": {},
		   "source": [
			"## Example 19.6: Radiation_calculation.sce"
		   ]
		  },
  {
"cell_type": "code",
	   "execution_count": null,
	   "metadata": {
	    "collapsed": true
	   },
	   "outputs": [],
"source": [
"clc\n",
"clear\n",
"//Initialization of variables\n",
"r1=1 //in\n",
"r2=5 //in\n",
"F12=1\n",
"//calculations\n",
"F21=4*%pi*r1^2 *F12/(4*%pi*r2^2)\n",
"F22=1-F21\n",
"//results\n",
"printf('Percent of radiation emitted by surface 2 on small sphere = %d percent',F21*100)\n",
"printf('\n Remaining %d percent is absorbed by inner surface of larger sphere',F22*100)"
   ]
   }
,
{
		   "cell_type": "markdown",
		   "metadata": {},
		   "source": [
			"## Example 19.7: Radiation_exchange_calculation.sce"
		   ]
		  },
  {
"cell_type": "code",
	   "execution_count": null,
	   "metadata": {
	    "collapsed": true
	   },
	   "outputs": [],
"source": [
"clc\n",
"clear\n",
"//Initialization of variables\n",
"short=2 //ft\n",
"apart=3 //ft\n",
"long=4 //ft\n",
"T1=2260 //R\n",
"T2=530 //R\n",
"sigma=0.1714\n",
"//calculations\n",
"A1=short*long\n",
"ratio=short/apart\n",
"disp('from curve 3')\n",
"F=0.165\n",
"Q12=A1*F*sigma*((T1/100)^4 -(T2/100)^4)\n",
"//results\n",
"printf('Net exchange of radiation = %d Btu/hr',Q12)\n",
"disp('The answer in the textbook is a bit different due to rounding off error in textbook.')"
   ]
   }
,
{
		   "cell_type": "markdown",
		   "metadata": {},
		   "source": [
			"## Example 19.8: Radiation_exchange_calculation.sce"
		   ]
		  },
  {
"cell_type": "code",
	   "execution_count": null,
	   "metadata": {
	    "collapsed": true
	   },
	   "outputs": [],
"source": [
"clc\n",
"clear\n",
"//Initialization of variables\n",
"F=0.51\n",
"A1=8 //ft^2\n",
"sigma=0.1714\n",
"T1=2260 //R\n",
"T2=530 //R\n",
"//calculations\n",
"Q12=A1*F*sigma*((T1/100)^4 -(T2/100)^4)\n",
"//results\n",
"printf('Net exchange of radiation = %d Btu/hr',Q12)\n",
"disp('The answer in the textbook is a bit different due to rounding off error in textbook.')"
   ]
   }
,
{
		   "cell_type": "markdown",
		   "metadata": {},
		   "source": [
			"## Example 19.9: Radiation_exchange_calculation.sce"
		   ]
		  },
  {
"cell_type": "code",
	   "execution_count": null,
	   "metadata": {
	    "collapsed": true
	   },
	   "outputs": [],
"source": [
"clc\n",
"clear\n",
"//Initialization of variables\n",
"F=0.51\n",
"A1=8 //ft^2\n",
"sigma=0.1714\n",
"T1=2260 //R\n",
"T2=530 //R\n",
"//calculations\n",
"F12=1/(1/0.51 +(1/0.9 -1) +(1/0.6 -1))\n",
"Q12=A1*F12*sigma*((T1/100)^4 -(T2/100)^4)\n",
"//results\n",
"printf('Net exchange of radiation = %d Btu/hr',Q12)\n",
"disp('The answer in the textbook is a bit different due to rounding off error in textbook.')"
   ]
   }
],
"metadata": {
		  "kernelspec": {
		   "display_name": "Scilab",
		   "language": "scilab",
		   "name": "scilab"
		  },
		  "language_info": {
		   "file_extension": ".sce",
		   "help_links": [
			{
			 "text": "MetaKernel Magics",
			 "url": "https://github.com/calysto/metakernel/blob/master/metakernel/magics/README.md"
			}
		   ],
		   "mimetype": "text/x-octave",
		   "name": "scilab",
		   "version": "0.7.1"
		  }
		 },
		 "nbformat": 4,
		 "nbformat_minor": 0
}
