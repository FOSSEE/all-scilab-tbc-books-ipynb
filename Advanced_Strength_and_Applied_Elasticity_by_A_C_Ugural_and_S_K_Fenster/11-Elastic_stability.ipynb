{
"cells": [
 {
		   "cell_type": "markdown",
	   "metadata": {},
	   "source": [
       "# Chapter 11: Elastic stability"
	   ]
	},
{
		   "cell_type": "markdown",
		   "metadata": {},
		   "source": [
			"## Example 11.1: Buckling_load_of_the_column.sce"
		   ]
		  },
  {
"cell_type": "code",
	   "execution_count": null,
	   "metadata": {
	    "collapsed": true
	   },
	   "outputs": [],
"source": [
"clc\n",
"\n",
"E=210*10^9 //Pa\n",
"d=100 //mm\n",
"t=50 //mm\n",
"A=0.005\n",
"Iz=0.05*(0.1^3)/12\n",
"disp(Iz)\n",
"Iy=0.1*(0.05^3)/12\n",
"disp(Iy)\n",
"//r=sqrt(Iy/A)\n",
"r= sqrt(Iy/A)\n",
"disp(r)//mm\n",
"L=2.75\n",
"\n",
"//P=W/tand(15)=3.732\n",
"Pcr=(%pi^2*E*Iz)/L^2\n",
"disp(Pcr,'into W is= ')\n",
"W=Pcr/3.732\n",
"disp(W,'in N is= ')\n",
"\n",
"Pcr=(%pi^2*E*Iy)/L^2\n",
"disp(Pcr,'into W is= ')\n",
"W=Pcr/3.732\n",
"disp(W,'in N is= ')\n",
"\n",
"// Ans varies due to round of error"
   ]
   }
],
"metadata": {
		  "kernelspec": {
		   "display_name": "Scilab",
		   "language": "scilab",
		   "name": "scilab"
		  },
		  "language_info": {
		   "file_extension": ".sce",
		   "help_links": [
			{
			 "text": "MetaKernel Magics",
			 "url": "https://github.com/calysto/metakernel/blob/master/metakernel/magics/README.md"
			}
		   ],
		   "mimetype": "text/x-octave",
		   "name": "scilab",
		   "version": "0.7.1"
		  }
		 },
		 "nbformat": 4,
		 "nbformat_minor": 0
}
