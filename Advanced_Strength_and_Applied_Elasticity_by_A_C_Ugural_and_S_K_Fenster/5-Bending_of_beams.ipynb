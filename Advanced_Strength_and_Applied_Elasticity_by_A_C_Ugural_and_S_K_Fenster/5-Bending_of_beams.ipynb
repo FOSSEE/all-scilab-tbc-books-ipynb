{
"cells": [
 {
		   "cell_type": "markdown",
	   "metadata": {},
	   "source": [
       "# Chapter 5: Bending of beams"
	   ]
	},
{
		   "cell_type": "markdown",
		   "metadata": {},
		   "source": [
			"## Example 5.1: Determine_neutral_axis.sce"
		   ]
		  },
  {
"cell_type": "code",
	   "execution_count": null,
	   "metadata": {
	    "collapsed": true
	   },
	   "outputs": [],
"source": [
"clc\n",
"\n",
"Mz=11000 //Nm\n",
"A1=0.13*0.02 //m\n",
"A2=0.15*0.02 //m\n",
"z1=0.01 //m\n",
"z2=0.075 //m\n",
"yA=0.043 //m\n",
"zA=-0.106 //m\n",
"yB=-0.063 //m\n",
"zB=0\n",
"\n",
"//location of the centroid\n",
"z=(A1*z1+A2*z2)/(A1+A2)\n",
"disp(z,'in meter is= ')\n",
"\n",
"Iz=(0.02*(0.13)^3)/12+ (0.13*0.02*(0.04)^2)+(0.15*(0.02)^3)/12+ (0.15*0.02*(0.035)^2)\n",
"disp(Iz,'Iz in meter^4 is= ')\n",
"Iy=(0.02*(0.13)^3)/12+ (0.13*0.02*(0.04)^2)+(0.15*(0.02)^3)/12+ (0.15*0.02*(0.035)^2)\n",
"disp(Iy,'Iy in meter^4 is= ')\n",
"Iyz=0+A1*0.04*(-0.035)+0+A2*(-0.035)*0.03\n",
"disp(Iyz,'Iyz in meter^4 is= ')\n",
"//thetap=(atand((-2*Iyz)/(Iz-Iy)))/2\n",
"//disp(thetap)\n",
"I1=(Iz+sqrt(0+(6.79*10^-6)^2))\n",
"disp(I1,'I1 in meter^4 is= ')\n",
"I2=(Iz-sqrt(0+(6.79*10^-6)^2))\n",
"disp(I2,'I2 in meter^4 is= ')\n",
"My1=11000*sind(45)\n",
"disp(My1,'My1 in Nm is')\n",
"Mz1=11000*sind(45)\n",
"disp(Mz1,'Mz1 in Nm is')\n",
"\n",
"sigmaxA=((My1*(zA))/I1)-((Mz1*yA)/I2)\n",
"disp(sigmaxA,'sigmaxA in MPa is')\n",
"sigmaxB=0-((My1*yB)/I2)\n",
"disp(sigmaxB,'sigmaxB in MPa is')\n",
"\n",
"My=0\n",
"y=((Mz*Iyz)*z)/(Mz*Iy) //.......equal to z=-1.71y\n",
"disp(y)\n",
"\n",
""
   ]
   }
,
{
		   "cell_type": "markdown",
		   "metadata": {},
		   "source": [
			"## Example 5.4: Determine_flange.sce"
		   ]
		  },
  {
"cell_type": "code",
	   "execution_count": null,
	   "metadata": {
	    "collapsed": true
	   },
	   "outputs": [],
"source": [
"clc\n",
"\n",
"t=1.25 //mm\n",
"y=15.87 //mm\n",
"z=5.28 //mm\n",
"Iy=4765.62 //mm^4\n",
"Iz=21054.69 //mm^4\n",
"Iyz=3984.37 //mm^4\n",
"thetap=13.05 //degree\n",
"Iy1=3828.12 //mm^4\n",
"Iz1=21953.12//mm^4\n",
"s=12.5\n",
"\n",
"//tau=(Vy/Iz1*t)*s*t(19.55+s*asind(13.05)/2)....equation 1\n",
"//F1=integrate((tau*t)ds)\n",
"x=integrate('(0)','s',0,1)\n",
"//F1=0.0912*Vy1                   substituting the value of tau we get F1\n",
"//Vy1*ez1=37.5*F1                 substituting the value of F1 we get ez1\n",
"ez1=37.5*0.0912\n",
"disp(ez1,'the distance in mm is= ')\n",
"\n",
"//tau=(Vz1/Iy1*t)*s*t(12.05-s*asind(13.05)/2)....equation 2\n",
"//F1=integrate((tau*t)ds)\n",
"x=integrate('(0)','s',0,1)\n",
"//F1=0.204*Vz1                   substituting the value of tau we get F1\n",
"//Vz1*ey1=37.5*F1                 substituting the value of F1 we get ez1\n",
"ey1=37.5*0.204\n",
"disp(ey1,'the distance in mm is= ')\n",
""
   ]
   }
,
{
		   "cell_type": "markdown",
		   "metadata": {},
		   "source": [
			"## Example 5.5: Determine_area_and_tangential_stress.sce"
		   ]
		  },
  {
"cell_type": "code",
	   "execution_count": null,
	   "metadata": {
	    "collapsed": true
	   },
	   "outputs": [],
"source": [
"clc\n",
"\n",
"P=70 //kN\n",
"c=0.05//m\n",
"c1=c\n",
"c2=c\n",
"R=0.1+0.05\n",
"A=0.005\n",
"\n",
"//m=(-1/(2*c))*integrate((y/R+y)dy)\n",
"x=integrate('(-c)','c',0,1)\n",
"m=-1+(R/2*c)*log((R+c)/(R-c))\n",
"disp(m)\n",
"//m=(-1/(2*c))*integrate((y/R)-(y^2/R^2)+(y^3/R^3)-(y^4/R^4)+.....)dy)\n",
"m=-1+(3/2)*log(2)\n",
"disp(m)\n",
"\n",
"M=P*R\n",
"disp(M)\n",
"sigmatheta1=(-P*c2)/(m*A*(R-c1))\n",
"disp(sigmatheta1,'stress in Pa is= ')\n",
"sigmatheta2=(P*c2)/(m*A*(R+c2))\n",
"disp(sigmatheta2,'stress in Pa is= ')"
   ]
   }
],
"metadata": {
		  "kernelspec": {
		   "display_name": "Scilab",
		   "language": "scilab",
		   "name": "scilab"
		  },
		  "language_info": {
		   "file_extension": ".sce",
		   "help_links": [
			{
			 "text": "MetaKernel Magics",
			 "url": "https://github.com/calysto/metakernel/blob/master/metakernel/magics/README.md"
			}
		   ],
		   "mimetype": "text/x-octave",
		   "name": "scilab",
		   "version": "0.7.1"
		  }
		 },
		 "nbformat": 4,
		 "nbformat_minor": 0
}
