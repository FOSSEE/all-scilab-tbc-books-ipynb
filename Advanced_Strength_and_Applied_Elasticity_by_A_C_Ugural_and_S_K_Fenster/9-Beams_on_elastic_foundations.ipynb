{
"cells": [
 {
		   "cell_type": "markdown",
	   "metadata": {},
	   "source": [
       "# Chapter 9: Beams on elastic foundations"
	   ]
	},
{
		   "cell_type": "markdown",
		   "metadata": {},
		   "source": [
			"## Example 9.1: Calculate_maxi_deflections_and_force_per_unit_length.sce"
		   ]
		  },
  {
"cell_type": "code",
	   "execution_count": null,
	   "metadata": {
	    "collapsed": true
	   },
	   "outputs": [],
"source": [
"clc\n",
"\n",
"w=0.1 //m\n",
"d=0.115 //m\n",
"l=4 //m\n",
"p=175 //kN/m\n",
"k=14*10^6 //Pa\n",
"E=200*10^9 //Pa\n",
"I=(0.1*(0.15)^3)\n",
"\n",
"//deltav=(p/2*k)*derivative(x)*beta*exp^(betax)*(cos beta(x)+sin beta(x))\n",
"//vA=(p/2k)*(2-exp^(betaa)*cos betaa - exp^(betab)*cos betab)\n",
"\n",
"beta=(k/(4*E*I/12))^(0.25)\n",
"disp(beta,'in meter inverse is= ')\n",
"\n",
"vmax=(p*(2-(-0.0345)-(0.0345)))/(2*14000)\n",
"disp(vmax,'in meter is= ')\n",
"z=k*vmax\n",
"disp(z,'maxi force per unit of length between beam & foundation in kN/m is= ')\n",
"\n",
"// Ans varies due to round of error"
   ]
   }
,
{
		   "cell_type": "markdown",
		   "metadata": {},
		   "source": [
			"## Example 9.4: Find_maxi_moment_and_deflection.sce"
		   ]
		  },
  {
"cell_type": "code",
	   "execution_count": null,
	   "metadata": {
	    "collapsed": true
	   },
	   "outputs": [],
"source": [
"clc\n",
"\n",
"a=1.5 //m\n",
"E=206.8*10^9 //Pa\n",
"K=10000 //N/m\n",
"I=6*10^-6 //m^4\n",
"P=6700 //N\n",
"c=0.05\n",
"\n",
"k=K/a\n",
"disp(k,'foundation modulus of the equivalent continuous elastic support in Pa is=')\n",
"\n",
"beta=(k/(4*E*I))^(1/4)\n",
"disp(beta)\n",
"\n",
"//sigmamax=(M*c/I)=(P*c/4*beta*I)\n",
"sigmamax=((P*c)/(4*beta*I))\n",
"disp(sigmamax,'in Pa is=')\n",
"\n",
"vmax=(P*beta)/(2*k)\n",
"disp(vmax,'in meter is=')"
   ]
   }
],
"metadata": {
		  "kernelspec": {
		   "display_name": "Scilab",
		   "language": "scilab",
		   "name": "scilab"
		  },
		  "language_info": {
		   "file_extension": ".sce",
		   "help_links": [
			{
			 "text": "MetaKernel Magics",
			 "url": "https://github.com/calysto/metakernel/blob/master/metakernel/magics/README.md"
			}
		   ],
		   "mimetype": "text/x-octave",
		   "name": "scilab",
		   "version": "0.7.1"
		  }
		 },
		 "nbformat": 4,
		 "nbformat_minor": 0
}
