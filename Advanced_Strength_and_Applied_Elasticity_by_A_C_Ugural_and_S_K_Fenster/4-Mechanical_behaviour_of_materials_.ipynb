{
"cells": [
 {
		   "cell_type": "markdown",
	   "metadata": {},
	   "source": [
       "# Chapter 4: Mechanical behaviour of materials "
	   ]
	},
{
		   "cell_type": "markdown",
		   "metadata": {},
		   "source": [
			"## Example 4.1: Calculate_diameter.sce"
		   ]
		  },
  {
"cell_type": "code",
	   "execution_count": null,
	   "metadata": {
	    "collapsed": true
	   },
	   "outputs": [],
"source": [
"clc;\n",
"\n",
"sigmayp=350 //MPa\n",
"sigma3=0\n",
"M=8 //kN\n",
"Mt=24 //kNm\n",
"N=2\n",
"v=0.3\n",
"\n",
"// sigma= My/I ==32M/%pid^3\n",
"// tau= Mt*r/J ==16Mt/%pid^3\n",
"//sigma1=(16*(M+sqrt(M^2+Mt^2)))/(%pi*d^3)\n",
"//sigma2=(16*(M-sqrt(M^2+Mt^2)))/(%pi*d^3)\n",
"\n",
"//solution a: max principal stress theory\n",
"//(16*(M+sqrt(M^2+Mt^2)))/(%pi*d^3)=sigmayp/N\n",
"\n",
"a=(16*(M+sqrt(M^2+Mt^2)))/%pi\n",
"disp(a)\n",
"b=sigmayp*10^6/N\n",
"disp(b)\n",
"d=(a/b)^(1/3)\n",
"disp(d,'diameter of the bar in meter is= ')\n",
"\n",
"//solution b:max shearing stress theory\n",
"\n",
"c=(32*sqrt(M^2+Mt^2))/%pi\n",
"disp(c)\n",
"d=(c/b)^(1/3)\n",
"disp(d,'diameter of the bar in meter is= ')\n",
"\n",
"//solution c:max principal strain theory\n",
"//epsilon1=(sigma1-v(sigma2+sigma3))/E=epsilonyp/N=sigmayp/EN    Or\n",
"//sigma1-v(sigma2+sigma3)=b    given\n",
"//sigma1=b+v(sigma2+sigma3)    substituting the values of the sigma 1,2 and 3 we get\n",
"//(16*(M+sqrt(M^2+Mt^2)-vM-v*sqrt(M^2+Mt^2)))/(%pi*d^3)=b\n",
"e=(16*(M+sqrt(M^2+Mt^2)-v*M-v*sqrt(M^2+Mt^2)))/%pi\n",
"disp(e)\n",
"d=(e/b)^(1/3)\n",
"disp(d,'diameter of the bar in meter is= ')\n",
"\n",
"//solution d:max energy of distortion theory\n",
"\n",
"f=(16*sqrt(4*M^2+3*Mt^2))/%pi\n",
"disp(f)\n",
"d=(f/b)^(1/3)\n",
"disp(d,'diameter of the bar in meter is= ')"
   ]
   }
,
{
		   "cell_type": "markdown",
		   "metadata": {},
		   "source": [
			"## Example 4.3: Calculate_limiting_torque.sce"
		   ]
		  },
  {
"cell_type": "code",
	   "execution_count": null,
	   "metadata": {
	    "collapsed": true
	   },
	   "outputs": [],
"source": [
"clc\n",
"\n",
"sigmau1=300  //MPa\n",
"sigmau2=700  //MPa\n",
"b=0.105 //m outer diameter\n",
"a=0.100 //m inner diameter\n",
"\n",
"//sigma1==(-sigma2)==tau\n",
"\n",
"sigma3=0\n",
"\n",
"//Mt=J*tau/r= (%pi*(b^2-a^2))/2*b\n",
"//Mt=((%pi*(b^4-a^4))/(2*b))*tau         equation a\n",
"q=(%pi*(b^4-a^4))/(2*b)\n",
"\n",
"//solution a: max principal stress theory\n",
"tau=sigmau1\n",
"Mt=q*tau*10^6\n",
"disp(Mt,'max principal stress in Nm is= ')\n",
"\n",
"//solution b:max shearing stress theory\n",
"// |sigma1-sigma2|=sigmau1\n",
"// 2*sigma1==sigmau1==2*tau  or\n",
"\n",
"Mt=q*tau*10^6\n",
"disp(Mt,'max shearing stress in Nm is= ')\n",
"\n",
"//solution c:Coulomb- mohr theory\n",
"//(tau/sigmau1)-(-tau/sigmau2)=1\n",
"tau=1*((sigmau1*sigmau2)/(sigmau1+sigmau2))\n",
"disp(tau,'tau in MPa is= ')\n",
"Mt=q*tau*10^6\n",
"disp(Mt,'Coulomb- mohr in Nm is= ')\n",
"\n",
"\n",
"\n",
"\n",
"\n",
"\n",
"\n",
"\n",
"\n",
""
   ]
   }
,
{
		   "cell_type": "markdown",
		   "metadata": {},
		   "source": [
			"## Example 4.4: Determine_reversed_axial_load.sce"
		   ]
		  },
  {
"cell_type": "code",
	   "execution_count": null,
	   "metadata": {
	    "collapsed": true
	   },
	   "outputs": [],
"source": [
"clc\n",
"\n",
"a=0.05 // m\n",
"Fm=90 //kN\n",
"sigmacr=210 // MPa\n",
"sigmayp=280 // MPa\n",
"\n",
"//sigmaa=Ma*c/I         equation 1\n",
"//Ma=0.025*Fa\n",
"c=0.025\n",
"I=(a^4)/12\n",
"disp(I)\n",
"//sigmaa=((0.025*Fa)*c)/I  substituting the values\n",
"\n",
"\n",
"//sigmam=Fm/A           equation 2\n",
"sigmam=Fm/(a*a)\n",
"disp(sigmam,'in kilo Pa is= ')\n",
"\n",
"//(((1200*Fa)/sigmacr)+(sigmam/sigmayp))=1\n",
"Fa=(1-(sigmam/sigmayp))*(sigmacr/1200)\n",
"disp(Fa,'load Fa in N is= ')                         //wrong ans in textbook"
   ]
   }
,
{
		   "cell_type": "markdown",
		   "metadata": {},
		   "source": [
			"## Example 4.5: Compute_the_value_of_p.sce"
		   ]
		  },
  {
"cell_type": "code",
	   "execution_count": null,
	   "metadata": {
	    "collapsed": true
	   },
	   "outputs": [],
"source": [
"clc\n",
"\n",
"r=0.04 //m\n",
"t=5 //mm\n",
"sigmae=250 //MPa\n",
"sigmay=300 //MPa\n",
"\n",
"//sigmathetamax=(p*r)/t =8*p        max values of tangential stresses\n",
"//sigmathetamin=((-p/4)*r)/t =-2*p   min values of tangential stresses\n",
"//sigmazamax=(p*r)/2*t =4*p       axial principal stresses\n",
"//sigmazmin=((-p/4)*r)/2*t =-p\n",
"\n",
"//sigmathetaa=(sigmathetamax-sigmathetamin)/2= 5p    alternating and mean stresses\n",
"//sigmathetam=(sigmathetamax+sigmathetamin)/2= 3p\n",
"//sigmaza=(sigmazamax-sigmazmin)/2 =2.5p\n",
"//sigmazm=(sigmazamax+sigmazmin)/2 =1.5p\n",
"\n",
"//sqrt(sigmathetaa^2-sigmathetaa*sigmaza+sigmaza^2)=sigmaea\n",
"//sqrt(sigmathetam^2-sigmathetam*sigmazm+sigmazm^2)=sigmaem\n",
"\n",
"//sqrt(25p^2-12.3p^2+6.25p^2)=sigmaea\n",
"//sqrt(9p^2-4.5p^2+2.25p^2)=sigmaem           solving this equation we get\n",
"sigmaea=4.33 //p\n",
"sigmaem=2.60 //p\n",
"\n",
"p=1/((sigmaea/sigmae)+(sigmaem/sigmay))\n",
"disp(p,'the value of p in MPa is= ')"
   ]
   }
,
{
		   "cell_type": "markdown",
		   "metadata": {},
		   "source": [
			"## Example 4.6: Determine_fatigue.sce"
		   ]
		  },
  {
"cell_type": "code",
	   "execution_count": null,
	   "metadata": {
	    "collapsed": true
	   },
	   "outputs": [],
"source": [
"clc\n",
"\n",
"a=[700 14 0; 14 -350 0; 0 0 -350]\n",
"disp(a)\n",
"c=[-660 -7 0; -7 -350 0; 0 0 -350]\n",
"disp(c)\n",
"sigmau=2400 //MPa\n",
"K=1\n",
"sigmae=800 //MPa\n",
"Nf=1 //cycles for SAE\n",
"Nff=10^3 //cycles for Gerber\n",
"Ne=10^8 //cycles\n",
"\n",
"sigmaxa=(700+660)/2\n",
"disp(sigmaxa,'alternating and mean values of stresses in MPa is= ')\n",
"sigmaxm=(700-660)/2\n",
"disp(sigmaxm,'alternating and mean values of stresses in MPa is= ')\n",
"sigmaya=(-350+350)/2\n",
"disp(sigmaya,'alternating and mean values of stresses in MPa is= ')\n",
"sigmaym=(-350-350)/2\n",
"disp(sigmaym,'alternating and mean values of stresses in MPa is= ')\n",
"sigmazm=(-350-350)/2\n",
"disp(sigmazm,'alternating and mean values of stresses in MPa is= ')\n",
"tauxya=(14+7)/2\n",
"disp(tauxya,'alternating and mean values of stresses in MPa is= ')\n",
"tauxym=(14-7)/2\n",
"disp(tauxym,'alternating and mean values of stresses in MPa is= ')\n",
"\n",
"sigmaea=sqrt(((sigmaxa-sigmaya)^2+(sigmaya-sigmaxa)^2+6*(tauxya)^2)/2)\n",
"disp(sigmaea,'in MPa is =')\n",
"sigmaem=sqrt(((sigmaxm-sigmaym)^2+(sigmaym-sigmaxm)^2+6*(tauxym)^2)/2)\n",
"disp(sigmaem,'in MPa is= ')\n",
"\n",
"//solution a: \n",
"sigmacr=sigmaea/(1-(sigmaem/2400))\n",
"disp(sigmacr)\n",
"b=log(sigmau/sigmae)/log(1/Ne)\n",
"disp(b)\n",
"\n",
"Ncr=1*(sigmacr/2400)^(1/b)\n",
"disp(Ncr,'in cycles is= ')\n",
"\n",
"//solution b:\n",
"sigmacr=sigmaea/(1-(sigmaem/sigmau)^2)\n",
"disp(sigmacr,'in MPa is= ')\n",
"b=log(0.9*2400/sigmae)/log(Nff/Ne)\n",
"disp(b)\n",
"\n",
"Ncr=Nff*(sigmacr/(0.9*2400))^(-11.587)\n",
"disp(Ncr,'in cycles is= ')"
   ]
   }
,
{
		   "cell_type": "markdown",
		   "metadata": {},
		   "source": [
			"## Example 4.7: Determine_instantaneous_maxi_deflection.sce"
		   ]
		  },
  {
"cell_type": "code",
	   "execution_count": null,
	   "metadata": {
	    "collapsed": true
	   },
	   "outputs": [],
"source": [
"clc\n",
"\n",
"W=180 //N\n",
"h=0.1 //m\n",
"L=1.16 //m\n",
"w=0.025 //m\n",
"d=0.075 //m\n",
"E=200 //GPa\n",
"k=180 //kN/m\n",
"\n",
"I=w*d^3\n",
"disp(I)\n",
"//deltast=(W*L^3)/(48*E*I)       equation 1\n",
"deltast=(W*L^3*12)/(48*E*10^9*I)\n",
"disp(deltast,'deflection of a point in meter is= ')\n",
"\n",
"//deltastmax=Mc/I                equation 2\n",
"deltastmax=(W*L*12*0.0375)/(4*I)\n",
"disp(deltastmax,'deflection of a point in Pa is= ')\n",
"\n",
"//solution a:\n",
"a=1+sqrt(1+((2*h)/deltast))\n",
"disp(a,'imapct factor is= ')\n",
"deltamax=deltast*a\n",
"disp(deltamax,'in meter is =')\n",
"sigmamax=deltastmax*a\n",
"disp(sigmamax,'in Pa is= ')\n",
"\n",
"//solution b:\n",
"deltast=deltast+(90/180000)\n",
"disp(deltast,'static deflection of the beam in meter is= ')\n",
"a=1+sqrt(1+((2*h)/deltast))\n",
"disp(a,'imapct factor is= ')\n",
"deltamax=deltast*a\n",
"disp(deltamax,'in meter is =')\n",
"sigmamax=deltastmax*a\n",
"disp(sigmamax,'in Pa is= ')\n",
"\n",
"\n",
"\n",
"\n",
"\n",
""
   ]
   }
],
"metadata": {
		  "kernelspec": {
		   "display_name": "Scilab",
		   "language": "scilab",
		   "name": "scilab"
		  },
		  "language_info": {
		   "file_extension": ".sce",
		   "help_links": [
			{
			 "text": "MetaKernel Magics",
			 "url": "https://github.com/calysto/metakernel/blob/master/metakernel/magics/README.md"
			}
		   ],
		   "mimetype": "text/x-octave",
		   "name": "scilab",
		   "version": "0.7.1"
		  }
		 },
		 "nbformat": 4,
		 "nbformat_minor": 0
}
