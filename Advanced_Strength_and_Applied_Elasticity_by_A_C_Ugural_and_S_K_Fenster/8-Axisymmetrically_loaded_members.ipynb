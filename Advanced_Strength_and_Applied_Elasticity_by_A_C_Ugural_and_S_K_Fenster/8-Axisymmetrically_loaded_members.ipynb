{
"cells": [
 {
		   "cell_type": "markdown",
	   "metadata": {},
	   "source": [
       "# Chapter 8: Axisymmetrically loaded members"
	   ]
	},
{
		   "cell_type": "markdown",
		   "metadata": {},
		   "source": [
			"## Example 8.1: Determine_maxi_internal_and_external_pressure.sce"
		   ]
		  },
  {
"cell_type": "code",
	   "execution_count": null,
	   "metadata": {
	    "collapsed": true
	   },
	   "outputs": [],
"source": [
"clc\n",
"\n",
"di=0.3 //m\n",
"de=0.4 //m\n",
"v=0.3\n",
"sigmathetamax=250*10^6 //Pa\n",
"p0=0\n",
"pi=0\n",
"\n",
"//solution a:\n",
"a=0.15\n",
"b=0.2\n",
"r=a\n",
"//sigmathetamax=pi*((b^2+a^2)/(b^2-a^2))\n",
"pi=sigmathetamax*((b^2-a^2)/(b^2+a^2))\n",
"disp(pi,'in Pa is= ')\n",
"\n",
"//solution b:\n",
"r=a\n",
"//sigmathetamax=-2*p0*(b^2/(b^2-a^2))\n",
"p0=-(-sigmathetamax)*((b^2-a^2)/(2*b^2))\n",
"disp(p0,'in Pa is= ')\n",
"\n",
"//solution c:\n",
"u=((a^3*pi)/(b^2-a^2))*(0.7+1.3*(b^2/a^2))\n",
"disp(u,'in per E meter is= ')\n",
"sigmaz=(pi*a^2-p0*b^2)/(b^2-a^2)\n",
"disp(sigmaz,'for longitudinal stress is')\n",
""
   ]
   }
,
{
		   "cell_type": "markdown",
		   "metadata": {},
		   "source": [
			"## Example 8.2: Calculate_internal_pressure.sce"
		   ]
		  },
  {
"cell_type": "code",
	   "execution_count": null,
	   "metadata": {
	    "collapsed": true
	   },
	   "outputs": [],
"source": [
"clc\n",
"\n",
"sigmayp=340 //MPa\n",
"tauyp=sigmayp/2 //MPa\n",
"disp(tauyp,'in MPa is=')\n",
"a=0.1 //m\n",
"b=0.15 //m\n",
"v=0.3 \n",
"//pi=4*p0\n",
"//sigmatheta=(pi*(a^2+b^2)-2*p0*b^2)/(b^2-a^2)\n",
"//sigmatheta=1.7*pi\n",
"\n",
"//sloution a: maxi principal stress theory\n",
"sigmatheta=1.7\n",
"pi=sigmayp/sigmatheta\n",
"disp(pi,'in MPa is= ')\n",
"\n",
"//sloution b: maxi shearing stress theory\n",
"//(sigmatheta-sigmar)/2=1.35*pi\n",
"pi=tauyp/1.35\n",
"disp(pi,'in MPa is= ')\n",
"\n",
"//solution c: energy of distortion theory\n",
"sigmar=-1\n",
"sigmayp1=sqrt(sigmatheta^2+sigmar^2-sigmatheta*sigmar)//*pi\n",
"disp(sigmayp1)\n",
"pi=sigmayp/sigmayp1\n",
"disp(pi,'in MPa is=')\n",
"\n",
"//solution d: maxi principal strain theory\n",
"//(sigmatheta-v*sigmar)/E=sigmayp/E\n",
"pi=sigmayp/(sigmatheta-v*sigmar)\n",
"disp(pi,'in MPa is= ')\n",
"\n",
"//solution e: octahedral shearing stress theory:\n",
"pi=(sqrt(2)*sigmayp)/sqrt((sigmatheta-sigmar)^2+sigmar^2+(-sigmatheta)^2)\n",
"disp(pi,'in MPa is= ')\n",
"\n",
"\n",
"\n",
"\n",
"\n",
""
   ]
   }
,
{
		   "cell_type": "markdown",
		   "metadata": {},
		   "source": [
			"## Example 8.3: Distribution_of_tangential_stress.sce"
		   ]
		  },
  {
"cell_type": "code",
	   "execution_count": null,
	   "metadata": {
	    "collapsed": true
	   },
	   "outputs": [],
"source": [
"clc\n",
"\n",
"a=0.15 //m\n",
"b=0.2 //m\n",
"c=0.25 //m\n",
"E=200*10^9 //Pa\n",
"delta=0.0001 //m\n",
"140 //MPa\n",
"\n",
"p=((E*delta)/8)*(((b^2-a^2)*(c^2-b^2))/(2*(b^2)*(c^2-a^2)))\n",
"disp(p,'the contact pressure in Pa is= ') // textbook ans is wrong\n",
"\n",
"p=12.3*10^6\n",
"sigmatheta=p*((b^2+c^2)/(c^2-b^2)) // where r=0.2\n",
"disp(sigmatheta,'tangential stresses in the outer cylinder in Pa is= ')\n",
"sigmatheta1=(2*p*b^2)/(c^2-b^2) // where r=0.25\n",
"disp(sigmatheta1,'tangential stresses in the outer cylinder in Pa is= ')\n",
"sigmatheta3=-(2*p*b^2)/(b^2-a^2) // where r=0.15\n",
"disp(sigmatheta3,'tangential stresses in the inner cylinder in Pa is= ')\n",
"sigmatheta4=-p*((b^2+a^2)/(b^2-a^2)) // where r=0.2\n",
"disp(sigmatheta4,'tangential stresses in the inner cylinder in Pa is= ')\n",
"\n",
""
   ]
   }
,
{
		   "cell_type": "markdown",
		   "metadata": {},
		   "source": [
			"## Example 8.4: Determine_shrinking_allowance_and_maxi_stress.sce"
		   ]
		  },
  {
"cell_type": "code",
	   "execution_count": null,
	   "metadata": {
	    "collapsed": true
	   },
	   "outputs": [],
"source": [
"clc\n",
"\n",
"dn=0.1 //m\n",
"do=0.5 //m\n",
"t=0.08 //m\n",
"w=6900*(2*%pi/60) //rpm\n",
"row=7.8*10^3//Ns^2/m^4\n",
"E=200*10^9 //Pa\n",
"v=0.3\n",
"b=0.05\n",
"c=0.25\n",
"\n",
"\n",
"//solution a:\n",
"//ud=((0.05*3.3*0.7)*(0.0025+0.0625-(1.3/3.3)*0.0025+(1.3/0.7)*0.0625)*row*w^2)/(8*E)\n",
"ud=((0.05*3.3*0.7)*(b^2+c^2-(1.3/3.3)*b^2+(1.3/0.7)*c^2))/(8)\n",
"disp(ud,'radial displacement of the disk in meter is= ')\n",
"\n",
"//us=((0.05*0.7)*(3.3*0.0025-1.3*0.0025)*row*w^2)/(8*E)\n",
"us=((0.05*0.7)*(3.3*b^2-1.3*b^2))/(8)\n",
"disp(us,'radial displacement of the shaft in meter is= ')\n",
"delta=(ud-us)*row*w^2/E\n",
"disp(delta)\n",
"\n",
"//solution b:\n",
"//p=E*delta*(c^2-b^2)/(2*b*c^2)\n",
"p=E*delta*(c^2-b^2)/(2*b*c^2)\n",
"disp(p,'in Pa is= ')\n",
"sigmathetamax=p*(c^2+b^2)/(c^2-b^2)\n",
"disp(sigmathetamax,'in Pa is= ')\n",
"\n",
"//solution c:\n",
"sigmathetamax=3.3*(b^2+c^2-(1.9/3.3)*b^2+c^2)*row*w^2/8\n",
"disp(sigmathetamax,'in Pa is= ')"
   ]
   }
,
{
		   "cell_type": "markdown",
		   "metadata": {},
		   "source": [
			"## Example 8.5: Determine_maxi_stress_and_radial_displacement.sce"
		   ]
		  },
  {
"cell_type": "code",
	   "execution_count": null,
	   "metadata": {
	    "collapsed": true
	   },
	   "outputs": [],
"source": [
"clc\n",
"\n",
"ti=0.075 //m\n",
"to=0.015//m\n",
"a=0.05//m\n",
"b=0.25//m\n",
"delta=0.05 //mm\n",
"w=6900*(2*%pi/60) //rpm\n",
"s=1\n",
"row=7.8*10^3//Ns^2/m^4\n",
"E=200 //GPa\n",
"\n",
"//solution a:\n",
"t1=ti*a^s\n",
"disp(t1,'t1 is=')\n",
"t1=to*b^2\n",
"disp(t1,'t1 is=')\n",
"//(ti/to)=(t1*a^-s)/(t1*b^-s)=(b/a)^s\n",
"c=(b/a)^s\n",
"\n",
"(ti/to)==c\n",
"disp(ti/to,'ti/t0 is=')\n",
"m1=-0.5+sqrt((0.5)^2+(1+0.3*1))\n",
"disp(m1,'m1 is=')\n",
"m2=-0.5-sqrt((0.5)^2+(1+0.3*1))\n",
"disp(m2,'m2 is=')\n",
"\n",
"//sigmar=0=(c1/t1)*(0.05)^m1+(c2/t1)*(0.05)^(m2)-0.00176*row*w^2     // r=0.05\n",
"//sigmar=0=(c1/t1)*(0.25)^m1+(c2/t1)*(0.25)^(m2)-0.0439*row*w^2     // r=0.25\n",
"\n",
"c1=t1*0.12529*row*w^2\n",
"disp(c1,'c1 is=')\n",
"c2=t1*-6.272*10^-5*row*w^2\n",
"disp(c2,'c2 is=')\n",
"\n",
"r=0.05\n",
"sigmar=(0.12529*r^0.745-6.272*10^-5*r^(-1.745)-0.70*r^2)//*row*w^2\n",
"disp(sigmar,'sigmar is= ')\n",
"\n",
"sigmatheta=(0.09334*r^0.745+1.095*10^-4*r^(-1.745)-0.40*r^2)//*row*w^2\n",
"disp(sigmatheta,'sigmatheta is= ')\n",
"\n",
"//solution b:\n",
"r=0.05\n",
"//ur=(r*sigmatheta)/E\n",
"ur=(r*sigmatheta)\n",
"disp(ur,'ur is= ')\n",
""
   ]
   }
,
{
		   "cell_type": "markdown",
		   "metadata": {},
		   "source": [
			"## Example 8.6: Distribution_stress_and_disk_profile.sce"
		   ]
		  },
  {
"cell_type": "code",
	   "execution_count": null,
	   "metadata": {
	    "collapsed": true
	   },
	   "outputs": [],
"source": [
"clc\n",
"\n",
"b=0.25 //m\n",
"w=6900*(2*%pi/60) //rpm\n",
"t1=0.075 //m\n",
"t2=0.015 //m\n",
"row=7.8*10^3//Ns^2/m^4\n",
"c1=t1\n",
"\n",
"x=t2/t1\n",
"disp(x)\n",
"\n",
"//(t2/t1)==(c1*exp(-(row*w^2/2*sigma)*b^2))/c1\n",
"//exp(-(row*w^2/2*sigma)*b^2)=x\n",
"//log(x)=-(row*w^2*b^2/2*sigma)\n",
"y=2*log(x)\n",
"disp(y)\n",
"sigma=-(row*w^2*b^2)/y\n",
"disp(sigma,'in Pa is= ')\n",
"\n",
"//t=c1*exp(-row*(w^2/2*sigma)*r^2)\n",
"z=row*(w^2/(2*sigma))\n",
"disp(z)"
   ]
   }
],
"metadata": {
		  "kernelspec": {
		   "display_name": "Scilab",
		   "language": "scilab",
		   "name": "scilab"
		  },
		  "language_info": {
		   "file_extension": ".sce",
		   "help_links": [
			{
			 "text": "MetaKernel Magics",
			 "url": "https://github.com/calysto/metakernel/blob/master/metakernel/magics/README.md"
			}
		   ],
		   "mimetype": "text/x-octave",
		   "name": "scilab",
		   "version": "0.7.1"
		  }
		 },
		 "nbformat": 4,
		 "nbformat_minor": 0
}
