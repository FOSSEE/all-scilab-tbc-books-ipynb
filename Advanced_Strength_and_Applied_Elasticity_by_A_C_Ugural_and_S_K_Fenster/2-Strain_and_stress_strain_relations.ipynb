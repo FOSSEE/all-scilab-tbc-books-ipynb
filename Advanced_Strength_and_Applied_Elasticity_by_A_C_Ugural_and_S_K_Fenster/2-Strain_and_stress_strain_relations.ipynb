{
"cells": [
 {
		   "cell_type": "markdown",
	   "metadata": {},
	   "source": [
       "# Chapter 2: Strain and stress strain relations"
	   ]
	},
{
		   "cell_type": "markdown",
		   "metadata": {},
		   "source": [
			"## Example 2.1: Principal_strains.sce"
		   ]
		  },
  {
"cell_type": "code",
	   "execution_count": null,
	   "metadata": {
	    "collapsed": true
	   },
	   "outputs": [],
"source": [
"clc;\n",
"\n",
"radius=((sqrt(195^2+130^2))*10^(-6));\n",
"disp(radius,'radius of the circle in degree = ')\n",
"theta1=(atand(130/195))\n",
"disp(theta1,'pricipal stresses in degree');// displaying result\n",
"epsilonx=510*10^(-6)\n",
"epsilony=120*10^(-6)\n",
"epsilon=(epsilonx+epsilony)/2\n",
"disp(epsilon,'distance between O and c=')\n",
"\n",
"//solution a\n",
"angle=60- theta1\n",
"disp(angle,'angle of ACA1 in degree = ')// displaying result\n",
"epsilonx1=epsilon+radius*cosd(26.3)\n",
"disp(epsilonx1,'strains in x axis= ')// displaying result\n",
"epsilony1=epsilon-radius*cosd(26.3)\n",
"disp(epsilony1,'strains in y axis= ')// displaying result\n",
"gammaxy=-2*(radius*sind(26.3))\n",
"disp(gammaxy,'shear strain')// displaying result\n",
"\n",
"//solution b\n",
"epsilon1=epsilon+radius\n",
"disp(epsilon1,'strains in x axis= ')// displaying result\n",
"epsilon2=epsilon-radius\n",
"disp(epsilon2,'strains in x axis= ')// displaying result\n",
"\n",
"//solution c\n",
"gammamax=-+468*10^(-6)\n",
"disp(gammamax,'maxi shear stress= ')"
   ]
   }
,
{
		   "cell_type": "markdown",
		   "metadata": {},
		   "source": [
			"## Example 2.2: Principal_stresses_and_their_directions.sce"
		   ]
		  },
  {
"cell_type": "code",
	   "execution_count": null,
	   "metadata": {
	    "collapsed": true
	   },
	   "outputs": [],
"source": [
"clc;\n",
"\n",
"epsilon0=190*10^(-6)\n",
"epsilon60=200*10^(-6)\n",
"epsilon120=-300*10^(-6)\n",
"E=200// GPa\n",
"v=0.3\n",
"epsilonx=epsilon0\n",
"disp(epsilonx,'value of epsilonx is= ')\n",
"\n",
"// epsilon60=((epsilonx+epsilony)/2)-((epsilonx-epsilony)/4)+(gammaxy*sqrt(3))/4 eqn 1\n",
"// epsilon120=((epsilonx+epsilony)/2)-((epsilonx-epsilony)/4)-(gammaxy*sqrt(3))/4 eqn 2\n",
"\n",
"epsilony=(2*(epsilon60+epsilon120)-epsilon0)/3\n",
"disp(epsilony,'value of epsilony is= ')\n",
"gammaxy=(2/sqrt(3))*(epsilon60-epsilon120)// from eqn 1 and eqn 2\n",
"disp(gammaxy,'value of gammaxy is= ')\n",
"epsilon1=((epsilonx+epsilony)/2)+sqrt(((epsilonx-epsilony)/2)^2+(gammaxy/2)^2)// epsilony value is in negative so the sign changes in the eqn\n",
"disp(epsilon1,'value of epsilon1 is= ')\n",
"epsilon2=((epsilonx+epsilony)/2)-sqrt(((epsilonx-epsilony)/2)^2+(gammaxy/2)^2)//epsilony value is in negative so the sign changes in the eqn\n",
"disp(epsilon2,'value of epsilon2 is= ')\n",
"\n",
"gammamax=(2*10^-6)*sqrt(((epsilonx-epsilony)/2)^2+(gammaxy/2)^2)\n",
"disp(gammamax,'max shear strain is= ')\n",
"thetap=atand(577/320)/2\n",
"disp(thetap,'orientations of principal axes is= ') // or\n",
"thetap1=atand(577/320)*2\n",
"disp(thetap1,'orientations of principal axes is= ')\n",
"sigma1=(200*10^9/(1-0.09))*(epsilon1+0.3*epsilon2)\n",
"disp(sigma1,'plane stresss is Pa= ')\n",
"sigma2=(200*10^3/(1-0.09))*(epsilon2+0.3*epsilon1)\n",
"disp(sigma2,'plane stresss is MPa= ')\n",
"\n",
"taumax=(200*10^9/(2*(1+0.3)))*gammamax\n",
"disp(taumax,'plane stresss is MPa= ')\n",
"\n",
""
   ]
   }
],
"metadata": {
		  "kernelspec": {
		   "display_name": "Scilab",
		   "language": "scilab",
		   "name": "scilab"
		  },
		  "language_info": {
		   "file_extension": ".sce",
		   "help_links": [
			{
			 "text": "MetaKernel Magics",
			 "url": "https://github.com/calysto/metakernel/blob/master/metakernel/magics/README.md"
			}
		   ],
		   "mimetype": "text/x-octave",
		   "name": "scilab",
		   "version": "0.7.1"
		  }
		 },
		 "nbformat": 4,
		 "nbformat_minor": 0
}
