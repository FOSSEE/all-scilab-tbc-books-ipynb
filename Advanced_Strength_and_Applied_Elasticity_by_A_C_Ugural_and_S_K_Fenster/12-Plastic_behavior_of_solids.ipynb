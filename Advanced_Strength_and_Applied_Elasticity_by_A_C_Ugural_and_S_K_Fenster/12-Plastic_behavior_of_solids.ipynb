{
"cells": [
 {
		   "cell_type": "markdown",
	   "metadata": {},
	   "source": [
       "# Chapter 12: Plastic behavior of solids"
	   ]
	},
{
		   "cell_type": "markdown",
		   "metadata": {},
		   "source": [
			"## Example 12.1: Determine_maxi_plastic_stress_and_strain.sce"
		   ]
		  },
  {
"cell_type": "code",
	   "execution_count": null,
	   "metadata": {
	    "collapsed": true
	   },
	   "outputs": [],
"source": [
"clc\n",
"\n",
"alpha=45\n",
"sigmayp=35*10^6 //Pa\n",
"k=840//MPa\n",
"n=0.2\n",
"L0=3 //m\n",
"Aad=10*10^-5 //m^2\n",
"Acd=10*10^-5 //m^2\n",
"Abd=15*10^-5 //m^2\n",
"\n",
"P=sigmayp*Abd+2*sigmayp*Aad*cosd(45)\n",
"disp(P,'plastic yeilding in N is= ')\n",
"sigma=k*n^n\n",
"disp(sigma,'maxi allowable stress in MPa is= ')\n",
"epsilon1=n\n",
"disp(epsilon1,'axial stress is= ')\n",
"epsilon2=-0.1\n",
"disp(epsilon2,'transverse stress is= ')\n",
"epsilon3=-0.1\n",
"disp(epsilon3,'transverse stress is= ')\n",
"z=3*n\n",
"disp(z,'total elongation for stability in meter is= ')"
   ]
   }
],
"metadata": {
		  "kernelspec": {
		   "display_name": "Scilab",
		   "language": "scilab",
		   "name": "scilab"
		  },
		  "language_info": {
		   "file_extension": ".sce",
		   "help_links": [
			{
			 "text": "MetaKernel Magics",
			 "url": "https://github.com/calysto/metakernel/blob/master/metakernel/magics/README.md"
			}
		   ],
		   "mimetype": "text/x-octave",
		   "name": "scilab",
		   "version": "0.7.1"
		  }
		 },
		 "nbformat": 4,
		 "nbformat_minor": 0
}
