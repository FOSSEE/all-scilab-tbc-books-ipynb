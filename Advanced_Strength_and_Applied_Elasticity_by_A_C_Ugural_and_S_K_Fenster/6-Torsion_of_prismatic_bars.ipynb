{
"cells": [
 {
		   "cell_type": "markdown",
	   "metadata": {},
	   "source": [
       "# Chapter 6: Torsion of prismatic bars"
	   ]
	},
{
		   "cell_type": "markdown",
		   "metadata": {},
		   "source": [
			"## Example 6.2: Shearing_stress_and_angle_of_twist.sce"
		   ]
		  },
  {
"cell_type": "code",
	   "execution_count": null,
	   "metadata": {
	    "collapsed": true
	   },
	   "outputs": [],
"source": [
"clc\n",
"\n",
"G=28 //GPa\n",
"t1=0.012\n",
"t2=0.006\n",
"t3=0.01\n",
"t4=0.006\n",
"A=0.125\n",
"h=226000 //N/m\n",
"Mt=2*A*h\n",
"disp(Mt,'applied torque in Nm is=')\n",
"\n",
"tau1=(h/t1)\n",
"disp(tau1,'shearing stress in Pa is= ')\n",
"tau2=(h/t2)\n",
"disp(tau2,'shearing stress in Pa is= ')\n",
"tau3=(h/t3)\n",
"disp(tau3,'shearing stress in Pa is= ')\n",
"tau4=(h/t4)\n",
"disp(tau4,'shearing stress in Pa is= ')\n",
"\n",
"//theta=(h/2*G*A)intc((1/t)ds)\n",
"theta=(h/(2*G*10^9*A))*((0.25/t1)+2*(0.5/t2)+(0.25/t3))\n",
"disp(theta,'angle of twist per unit length in rad/m is= ')\n",
""
   ]
   }
,
{
		   "cell_type": "markdown",
		   "metadata": {},
		   "source": [
			"## Example 6.4: Maxi_longitudinal_stress_and_angle_of_twist.sce"
		   ]
		  },
  {
"cell_type": "code",
	   "execution_count": null,
	   "metadata": {
	    "collapsed": true
	   },
	   "outputs": [],
"source": [
"clc\n",
"\n",
"G=80 //GPa\n",
"E=200 //GPa\n",
"tf=10 //mm\n",
"tw=0.007 //m\n",
"t1=tw\n",
"t2=0.01\n",
"h=0.2 //m\n",
"b=0.1 //m\n",
"b2=b\n",
"b1=0.19\n",
"L=2.4 //m\n",
"If=0.01*0.1^3\n",
"Mt=1200\n",
"L=2.4\n",
"\n",
"//solution a:\n",
"//C=Mt/theta\n",
"//C=(b1*t1^3+2*b2*t2^3)*(G/3)\n",
"C=((b1*t1^3+2*b2*t2^3)/3)//    without substituting the value of G we get C\n",
"disp(C,'torsional rigidity of the beam is= ')\n",
"\n",
"//a=(If*E)/12\n",
"a=If/12//                 without substituting the value of E we get a\n",
"disp(a)\n",
"//alpha=1/(h*sqrt((E*If)/(2*C)))\n",
"y=sqrt((2.5*a)/(2*C))//   without substituting the value of h\n",
"disp(y)\n",
"//(1/alpha)==y\n",
"//sigmafmax=(Mfmax*x)/If\n",
"sigmafmax=(3.43*Mt*0.05)/a\n",
"disp(sigmafmax,'maxi longitudinal bending stress in the flange in MPa is= ')\n",
"\n",
"//soluton b:\n",
"si=(Mt/(C*G*10^9))*(L-y*h)\n",
"disp(si,'the angle of twist at the free end in radian is =')\n",
"si1=(Mt*L)/(C*G*10^9)\n",
"disp(si1,'total angle of twist in radians is= ')\n",
"\n",
""
   ]
   }
],
"metadata": {
		  "kernelspec": {
		   "display_name": "Scilab",
		   "language": "scilab",
		   "name": "scilab"
		  },
		  "language_info": {
		   "file_extension": ".sce",
		   "help_links": [
			{
			 "text": "MetaKernel Magics",
			 "url": "https://github.com/calysto/metakernel/blob/master/metakernel/magics/README.md"
			}
		   ],
		   "mimetype": "text/x-octave",
		   "name": "scilab",
		   "version": "0.7.1"
		  }
		 },
		 "nbformat": 4,
		 "nbformat_minor": 0
}
