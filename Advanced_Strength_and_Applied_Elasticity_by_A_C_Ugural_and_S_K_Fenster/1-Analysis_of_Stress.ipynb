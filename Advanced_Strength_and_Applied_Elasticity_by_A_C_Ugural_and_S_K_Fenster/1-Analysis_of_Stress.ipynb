{
"cells": [
 {
		   "cell_type": "markdown",
	   "metadata": {},
	   "source": [
       "# Chapter 1: Analysis of Stress"
	   ]
	},
{
		   "cell_type": "markdown",
		   "metadata": {},
		   "source": [
			"## Example 1.1: Find_stress.sce"
		   ]
		  },
  {
"cell_type": "code",
	   "execution_count": null,
	   "metadata": {
	    "collapsed": true
	   },
	   "outputs": [],
"source": [
"//Mohr's circle\n",
"\n",
"clc;\n",
"sigma=((40+80)/2)\n",
"disp(sigma,'center of the circle in MPa = ')\n",
"\n",
"//solution a\n",
"x=((80-40)^2);\n",
"y=30^2;\n",
"sigma1=60+sqrt((.25*x)+y)\n",
"disp(sigma1,'maxi pricipal stress in MPa = ');// displaying result\n",
"sigma2=60-sqrt((.25*x)+y)\n",
"disp(sigma2,'mini pricipal stress in MPa = ');// displaying result\n",
"theta1=((atand(30/20))/2)\n",
"disp(theta1,'pricipal stresses in degree');// displaying result\n",
"theta2=(((atand(30/20))+180)/2)\n",
"disp(theta2,'pricipal stresses in degree');// displaying result\n",
"\n",
"//solution b\n",
"tau=sqrt((.25*x)+y)\n",
"disp(tau,'maxi shearing stress in MPa = ');// displaying result\n",
"theta3=theta1+45\n",
"disp(theta3,'stress in MPa = ');// displaying result\n",
"theta4=theta2+45\n",
"disp(theta4,'stress in MPa = ');// displaying result\n",
"\n",
"//final solution in matrix form\n",
"p=[80 30 ;30 40]\n",
"disp(p) \n",
"q=[sigma1 0 ; 0 sigma2]\n",
"disp(q)\n",
"r=[sigma -tau ; -tau sigma]\n",
"disp(r)"
   ]
   }
,
{
		   "cell_type": "markdown",
		   "metadata": {},
		   "source": [
			"## Example 1.2: Normal_and_shear_stresses.sce"
		   ]
		  },
  {
"cell_type": "code",
	   "execution_count": null,
	   "metadata": {
	    "collapsed": true
	   },
	   "outputs": [],
"source": [
"//Mohr's circle\n",
"\n",
"clc;\n",
"radius=((14+28)/2)\n",
"disp(radius,'radius of the circle in degree = ')\n",
"sigma1=(7+radius *cosd(60))\n",
"disp(sigma1,' the circle in MPa = ')\n",
"sigma2=(7-radius *cosd(60))\n",
"disp(sigma2,' the circle in MPa = ')\n",
"tau1=radius*sind(60)\n",
"disp(tau1,' orientation of the stresses in MPa = ')"
   ]
   }
],
"metadata": {
		  "kernelspec": {
		   "display_name": "Scilab",
		   "language": "scilab",
		   "name": "scilab"
		  },
		  "language_info": {
		   "file_extension": ".sce",
		   "help_links": [
			{
			 "text": "MetaKernel Magics",
			 "url": "https://github.com/calysto/metakernel/blob/master/metakernel/magics/README.md"
			}
		   ],
		   "mimetype": "text/x-octave",
		   "name": "scilab",
		   "version": "0.7.1"
		  }
		 },
		 "nbformat": 4,
		 "nbformat_minor": 0
}
