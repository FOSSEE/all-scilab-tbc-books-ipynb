{
"cells": [
 {
		   "cell_type": "markdown",
	   "metadata": {},
	   "source": [
       "# Chapter 3: Two dimensional problems in elasticity"
	   ]
	},
{
		   "cell_type": "markdown",
		   "metadata": {},
		   "source": [
			"## Example 3.5: Size_of_the_contact_area_and_maxi_contact_pressure.sce"
		   ]
		  },
  {
"cell_type": "code",
	   "execution_count": null,
	   "metadata": {
	    "collapsed": true
	   },
	   "outputs": [],
"source": [
"clc;\n",
"\n",
"E=210 //GPa\n",
"v=0.3\n",
"r1=0.4 //m radius\n",
"r2=0.3 //m cross radius\n",
"P=90 //kN compression load\n",
"1/r1'==1/r2'==0\n",
"\n",
"m=4/((1/r1)+(1/r2))\n",
"disp(m)\n",
"A=(1/2)*((1/r1)+(1/r2))\n",
"disp(A)\n",
"B=(1/2)*((1/r1)-(1/r2))\n",
"disp(B)\n",
"coss=(((1/r1)-(1/r2))/((1/r1)+(1/r2)))\n",
"disp(coss,'cos aplha is= ')\n",
"n=(4*E*10^9)/(3*(1-v^2))\n",
"disp(n,'n is ')\n",
"s=acosd(coss)\n",
"disp(s,' s is alpha value = ') // ans is 81.79degree but here since cosa is in negative we get ans as 98.21\n",
"ca=1.1040 // from the interpolating table\n",
"cb=0.9112 // from the interpolating table\n",
"a=ca*(90000*m/n)^(0.33)\n",
"disp(a,'semiaxes of the elliptical contact area in meter is= ')\n",
"b=cb*(90000*m/n)^(0.33)\n",
"disp(b,'semiaxes of the elliptical contact area in meter is= ')\n",
"sigmac=1.5*(90000/(%pi*a*b))\n",
"disp(sigmac,'max contact pressure in Pa is= ') // text book ans is wrong"
   ]
   }
],
"metadata": {
		  "kernelspec": {
		   "display_name": "Scilab",
		   "language": "scilab",
		   "name": "scilab"
		  },
		  "language_info": {
		   "file_extension": ".sce",
		   "help_links": [
			{
			 "text": "MetaKernel Magics",
			 "url": "https://github.com/calysto/metakernel/blob/master/metakernel/magics/README.md"
			}
		   ],
		   "mimetype": "text/x-octave",
		   "name": "scilab",
		   "version": "0.7.1"
		  }
		 },
		 "nbformat": 4,
		 "nbformat_minor": 0
}
