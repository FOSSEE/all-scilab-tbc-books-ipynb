{
"cells": [
 {
		   "cell_type": "markdown",
	   "metadata": {},
	   "source": [
       "# Chapter 8: Image Compression"
	   ]
	},
{
		   "cell_type": "markdown",
		   "metadata": {},
		   "source": [
			"## Example 8.2: Image_Entropy_Estimation.sce"
		   ]
		  },
  {
"cell_type": "code",
	   "execution_count": null,
	   "metadata": {
	    "collapsed": true
	   },
	   "outputs": [],
"source": [
"//Ex8_2\n",
"//Image Entropy Estimation\n",
"// Version : Scilab 5.4.1\n",
"// Operating System : Window-xp, Window-7\n",
"//Toolbox: Image Processing Design 8.3.1-1\n",
"//Toolbox: SIVP 0.5.3.1-2\n",
"//Reference book name : Digital Image Processing\n",
"//book author: Rafael C. Gonzalez and Richard E. Woods\n",
"\n",
"clc;\n",
"close;\n",
"clear;\n",
"xdel(winsid())//to close all currently open figure(s).\n",
"A=imread('Ex8_2.tif');\n",
"\n",
"figure,ShowImage(A,'Original Image');\n",
"title('Original Image','color','blue','fontsize',4);\n",
"[nr nc]=size(A);\n",
"[Count Cell]=imhist(A);\n",
"//figure,bar(Cell,Count);\n",
"[r c]=find(Count>0);\n",
"Probablity=Count(r)/(nr*nc); //Probablity Calculation\n",
"//disp(Probablity);\n",
"Intensity=Cell(r);\n",
"//disp(Intensity);\n",
"\n",
"Sum=0;\n",
"for i=1:length(r)\n",
"    p=Probablity(i);\n",
"    Sum=Sum+(-p*log2(p));\n",
"end\n",
"\n",
"disp('Entropy')\n",
"disp(Sum);\n",
"\n",
""
   ]
   }
],
"metadata": {
		  "kernelspec": {
		   "display_name": "Scilab",
		   "language": "scilab",
		   "name": "scilab"
		  },
		  "language_info": {
		   "file_extension": ".sce",
		   "help_links": [
			{
			 "text": "MetaKernel Magics",
			 "url": "https://github.com/calysto/metakernel/blob/master/metakernel/magics/README.md"
			}
		   ],
		   "mimetype": "text/x-octave",
		   "name": "scilab",
		   "version": "0.7.1"
		  }
		 },
		 "nbformat": 4,
		 "nbformat_minor": 0
}
