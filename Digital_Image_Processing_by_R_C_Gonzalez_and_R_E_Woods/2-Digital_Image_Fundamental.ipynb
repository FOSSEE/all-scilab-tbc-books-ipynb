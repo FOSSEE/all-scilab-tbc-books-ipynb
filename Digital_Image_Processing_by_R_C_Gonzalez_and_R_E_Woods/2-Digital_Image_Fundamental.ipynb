{
"cells": [
 {
		   "cell_type": "markdown",
	   "metadata": {},
	   "source": [
       "# Chapter 2: Digital Image Fundamental"
	   ]
	},
{
		   "cell_type": "markdown",
		   "metadata": {},
		   "source": [
			"## Example 2.12: Standard_Deviation.sce"
		   ]
		  },
  {
"cell_type": "code",
	   "execution_count": null,
	   "metadata": {
	    "collapsed": true
	   },
	   "outputs": [],
"source": [
"//Ex2_12\n",
"// Standard Deviation\n",
"// Version : Scilab 5.4.1\n",
"// Operating System : Window-xp, Window-7\n",
"//Toolbox: Image Processing Design 8.3.1-1\n",
"//Toolbox: SIVP 0.5.3.1-2\n",
"//Reference book name : Digital Image Processing\n",
"//book author: Rafael C. Gonzalez and Richard E. Woods\n",
"\n",
"clc;\n",
"close;\n",
"clear;\n",
"xdel(winsid())//to close all currently open figure(s).\n",
"\n",
"//////////////////  Image Rotation /////////////////////\n",
"gray1=imread('Ex2_12.tif');\n",
"gray1=im2double(gray1); //Convert the data type into double range\n",
"figure,ShowImage(gray1,'Gray Image');\n",
"title('Original Image');\n",
"gray2=imread('Ex2_12_1.tif');\n",
"gray2=im2double(gray2); ///Convert the data type into double range\n",
"figure,ShowImage(gray2,'Gray Image');\n",
"title('Original Image');\n",
"gray3=imread('Ex2_12_2.tif');\n",
"gray3=im2double(gray3); //Convert the data type into double range\n",
"figure,ShowImage(gray3,'Gray Image');\n",
"title('Original Image');\n",
"\n",
"y=variance(gray1);  // calculate variance \n",
"disp('Variance of Image 1:')\n",
"disp(y);\n",
"y=variance(gray2);   // calculate variance \n",
"disp('Variance of Image 2:')\n",
"disp(y);\n",
"y=variance(gray3);    // calculate variance \n",
"disp('Variance of Image 3:')\n",
"disp(y);\n",
""
   ]
   }
,
{
		   "cell_type": "markdown",
		   "metadata": {},
		   "source": [
			"## Example 2.2: Illustration_of_the_Effects_of_Reducing_Image_Spatial_Resolution.sce"
		   ]
		  },
  {
"cell_type": "code",
	   "execution_count": null,
	   "metadata": {
	    "collapsed": true
	   },
	   "outputs": [],
"source": [
"//Ex2_2\n",
"//Illustration of the Effects of Reducing Image Spatial Resolution\n",
"// Version : Scilab 5.4.1\n",
"// Operating System : Window-xp, Window-7\n",
"//Toolbox: Image Processing Design 8.3.1-1\n",
"//Toolbox: SIVP 0.5.3.1-2\n",
"//Reference book name : Digital Image Processing\n",
"//book author: Rafael C. Gonzalez and Richard E. Woods\n",
"\n",
"clc;\n",
"close;\n",
"clear;\n",
"xdel(winsid())//to close all currently open figure(s).\n",
"gray=imread('Ex2_2.tif');\n",
"figure,ShowImage(gray,'Gray Image');\n",
"title('Original Image (1250 DPI)');\n",
"[M,N]=size(gray);\n",
"a1=imresize(gray,[443 337],'nearest');\n",
"figure,ShowImage(a1,'Resize Image');\n",
"title('Resize Image (300 DPI)');\n",
"\n",
"a2=imresize(gray,[886 675],'nearest');\n",
"figure,ShowImage(a2,'Resize Image');\n",
"title('Resize Image (150 DPI)');\n",
"\n",
"a3=imresize(gray,[213 162],'nearest');\n",
"figure,ShowImage(a3,'Resize Image');\n",
"title('Resize Image (72 DPI)');"
   ]
   }
,
{
		   "cell_type": "markdown",
		   "metadata": {},
		   "source": [
			"## Example 2.3: Typical_Effects_of_Varying_the_Number_of_Intensity_Levels_in_a_Digital_Image.sce"
		   ]
		  },
  {
"cell_type": "code",
	   "execution_count": null,
	   "metadata": {
	    "collapsed": true
	   },
	   "outputs": [],
"source": [
"//Ex2_3 \n",
"//Typical Effects of Varying the Number of Intensity Levels in a digital Image\n",
"// Version : Scilab 5.4.1\n",
"// Operating System : Window-xp, Window-7\n",
"//Toolbox: Image Processing Design 8.3.1-1\n",
"//Toolbox: SIVP 0.5.3.1-2\n",
"//Reference book name : Digital Image Processing\n",
"//book author: Rafael C. Gonzalez and Richard E. Woods\n",
"\n",
"clc;\n",
"close;\n",
"clear;\n",
"xdel(winsid())//to close all currently open figure(s).\n",
"gray=rgb2gray(imread('Ex2_3.png'));\n",
"figure,ShowImage(gray,'Gray Image');\n",
"title('Original Image');\n",
"[nr nc]=size(gray);\n",
"b=gray;\n",
"level=[128 64 32 16 8 4 2];\n",
"for x=1:length(level)\n",
"k=level(x);\n",
"for y=1:k    \n",
"for i=1:nr\n",
"    for j=1:nc\n",
"        if(gray(i,j)>=((255/k)*(y-1)) & gray(i,j)<((255/k)*y))\n",
"            b(i,j)=((255/k)*(y-1))+((255/k)/2);\n",
"         end\n",
"    end\n",
"end\n",
"end\n",
"figure,ShowImage(b,'OutPut Image');\n",
"title('Image With Less Number of Gray Level');\n",
"end\n",
""
   ]
   }
,
{
		   "cell_type": "markdown",
		   "metadata": {},
		   "source": [
			"## Example 2.4: Comparision_of_Interpolation_Approaches_for_Image_Shrinking_and_Zooming.sce"
		   ]
		  },
  {
"cell_type": "code",
	   "execution_count": null,
	   "metadata": {
	    "collapsed": true
	   },
	   "outputs": [],
"source": [
"//Ex2_4\n",
"//Comparision of Interpolation Approaches for Image Shrinking and Zooming\n",
"// Version : Scilab 5.4.1\n",
"// Operating System : Window-xp, Window-7\n",
"//Toolbox: Image Processing Design 8.3.1-1\n",
"//Toolbox: SIVP 0.5.3.1-2\n",
"//Reference book name : Digital Image Processing\n",
"//book author: Rafael C. Gonzalez and Richard E. Woods\n",
"\n",
"clc;\n",
"close;\n",
"clear;\n",
"xdel(winsid())//to close all currently open figure(s).\n",
"gray=imread('Ex2_4.tif');\n",
"figure,ShowImage(gray,'Gray Image');\n",
"title('Original Image (1250 DPI)');\n",
"[M,N]=size(gray);\n",
"\n",
"a2=imresize(gray,[213 162],'nearest');  //nearest neigubour Interpolation\n",
"figure,ShowImage(a2,'Resize Image');\n",
"title('Resize Image (72 DPI) nearest neigubour Interpolation');\n",
"a2=imresize(gray,[213 162],'bilinear');   ///bilinear Interpolation\n",
"figure,ShowImage(a2,'Resize Image');\n",
"title('Resize Image (72 DPI) with bilinear Interpolation');\n",
"a2=imresize(gray,[213 162],'bicubic');   //bicubic Interpolation\n",
"figure,ShowImage(a2,'Resize Image');\n",
"title('Resize Image (72 DPI) with bicubic Interpolation');\n",
"\n",
"a3=imresize(gray,[886 675],'nearest');   //nearest neigubour Interpolation\n",
"figure,ShowImage(a3,'Resize Image');\n",
"title('Resize Image (150 DPI) with nearest neigubour Interpolation');\n",
"a3=imresize(gray,[886 675],'nearest');   ///bilinear Interpolation\n",
"figure,ShowImage(a3,'Resize Image');\n",
"title('Resize Image (150 DPI) with bilinear Interpolation');\n",
"a3=imresize(gray,[886 675],'nearest');    //bicubic Interpolation\n",
"figure,ShowImage(a3,'Resize Image');\n",
"title('Resize Image (150 DPI) with bicubic Interpolation');\n",
"\n",
""
   ]
   }
,
{
		   "cell_type": "markdown",
		   "metadata": {},
		   "source": [
			"## Example 2.5: Addition_of_Noisy_Images_for_Noise_Reduction.sce"
		   ]
		  },
  {
"cell_type": "code",
	   "execution_count": null,
	   "metadata": {
	    "collapsed": true
	   },
	   "outputs": [],
"source": [
"//Ex2_5\n",
"//Addition of Noisy Images for Noise Reduction\n",
"// Version : Scilab 5.4.1\n",
"// Operating System : Window-xp, Window-7\n",
"//Toolbox: Image Processing Design 8.3.1-1\n",
"//Toolbox: SIVP 0.5.3.1-2\n",
"//Reference book name : Digital Image Processing\n",
"//book author: Rafael C. Gonzalez and Richard E. Woods\n",
"\n",
"clc;\n",
"close;\n",
"clear;\n",
"xdel(winsid())//to close all currently open figure(s).\n",
"gray=imread('Ex2_5.tif');\n",
"//gray=rgb2gray(a);\n",
"gray=im2double(gray);\n",
"\n",
"figure,ShowImage(gray,'Gray Image');\n",
"title('Original Image');\n",
"[nr nc]=size(gray);\n",
"noise_image=gray;\n",
"\n",
"out_image=double(zeros(nr,nc));\n",
"level=[5 10 20 50 100];\n",
"for i=1:length(level)\n",
"No=level(i);\n",
"disp(No);\n",
"for k=1:No\n",
"    noisy_image=imnoise(noise_image,'gaussian',0,0.02);\n",
"//    figure,ShowImage(noisy_image,'Image corrupted by salt & pepper noise');//ShowImage() is used to sho     w image, figure is command to view images in separate window.\n",
"//    title('Image corrupted by  Gaussian noise');//title() is used for providing  a title to an image.\n",
"//    disp(size(noise_image));\n",
"    out_image=imadd(out_image,noisy_image);\n",
"end\n",
"out_image=out_image/No;\n",
"out_image=mat2gray(out_image);\n",
"\n",
"figure,ShowImage(out_image,'Image Recoverd from the Noise');//ShowImage() is used to show image, figure is command to view images in separate window.\n",
"    title('Image Recoverd from the Noise');//title() is used for providing  a title to an image.\n",
"//Recoverd_Image=0.5*out_image.^0.15;//Gamma Transformation\n",
"//figure,ShowImage(Recoverd_Image,'Recoverd Image after Gamma Transormation');//ShowImage() is used to show image, figure is command to view images in separate window.\n",
"//title('Image Recoverd from the Noise');//title() is used for providing  a title to an image.\n",
"end"
   ]
   }
,
{
		   "cell_type": "markdown",
		   "metadata": {},
		   "source": [
			"## Example 2.6: Image_Subtraction_for_Enhancing_differences.sce"
		   ]
		  },
  {
"cell_type": "code",
	   "execution_count": null,
	   "metadata": {
	    "collapsed": true
	   },
	   "outputs": [],
"source": [
"//Ex2_6\n",
"//Image Subtraction for Enhancing differences\n",
"// Version : Scilab 5.4.1\n",
"// Operating System : Window-xp, Window-7\n",
"//Toolbox: Image Processing Design 8.3.1-1\n",
"//Toolbox: SIVP 0.5.3.1-2\n",
"//Reference book name : Digital Image Processing\n",
"//book author: Rafael C. Gonzalez and Richard E. Woods\n",
"\n",
"clc;\n",
"close;\n",
"clear;\n",
"xdel(winsid())//to close all currently open figure(s).\n",
"gray=imread('Ex2_6.tif');\n",
"gray=imresize(gray,0.25,'bicubic'); //Resize the Image with bicubic Interpolation\n",
"figure,ShowImage(gray,'Gray Image');\n",
"title('Original Image');\n",
"[nr nc]=size(gray);\n",
"for i=1:8\n",
"    c(:,:,i)=mtlb_logical(bitget(gray,9-i)); // Separate bit Planes from the Gray Scale Image \n",
"    \n",
"end\n",
"c(:,:,8)=zeros(nr,nc);  // Set Zeros to LSB\n",
"//c(:,:,7)=zeros(nr,nc);  // Set Zeros to LSB\n",
"\n",
"for i=1:nr\n",
"    for j=1:nc\n",
"        mask(i,j)=(2^7)*c(i,j,1)+(2^6)*c(i,j,2)+(2^5)*c(i,j,3)+(2^4)*c(i,j,4)+(2^3)*c(i,j,5)+(2^2)*c(i,j,6)+(2^1)*c(i,j,7)+(2^0)*c(i,j,8);\n",
"    end\n",
"end\n",
"figure;ShowImage(mask,'Modified Image');\n",
"title('Image Obtained by Setting Zeros to LSB ');\n",
"mask=uint8(mask);  //Convert the Image to uint8 Data Type\n",
"Diff_image=imsubtract(gray,mask);  //Subtract two Images\n",
"Diff_image=mat2gray(Diff_image);\n",
"figure;ShowImage(Diff_image,'Modified Image');\n",
"title('Difference of two images');"
   ]
   }
,
{
		   "cell_type": "markdown",
		   "metadata": {},
		   "source": [
			"## Example 2.7: Image_Multiplication_for_Shadding_Correction.sce"
		   ]
		  },
  {
"cell_type": "code",
	   "execution_count": null,
	   "metadata": {
	    "collapsed": true
	   },
	   "outputs": [],
"source": [
"//Ex2_7\n",
"// Image Multiplication for Shadding Correction.\n",
"// Version : Scilab 5.4.1\n",
"// Operating System : Window-xp, Window-7\n",
"//Toolbox: Image Processing Design 8.3.1-1\n",
"//Toolbox: SIVP 0.5.3.1-2\n",
"//Reference book name : Digital Image Processing\n",
"//book author: Rafael C. Gonzalez and Richard E. Woods\n",
"\n",
"clc;\n",
"close;\n",
"clear;\n",
"xdel(winsid())//to close all currently open figure(s).\n",
"\n",
"//////////////////  Image Division /////////////////////\n",
"gray=imread('Ex2_7.tif');\n",
"shade=imread('Ex2_7_1.tif');\n",
"gray=im2double(imresize(gray,0.5,'bicubic')); //Resize the Image with Bicubic Interpolation\n",
"shade=im2double(imresize(shade,0.5,'bicubic')); //Resize the Image with Bicubic Interpolation\n",
"figure,ShowImage(gray,'Gray Image');\n",
"title('Original Image');\n",
"figure,ShowImage(shade,'Sahde Image');\n",
"title('Shading Pattern Image');\n",
"[nr nc]=size(gray);\n",
"Enhance_image=imdivide(gray,shade);\n",
"Enhance_image=mat2gray(Enhance_image);\n",
"figure,ShowImage(Enhance_image,'Enhance Image');\n",
"title('Enhance Image after Shading Correction');\n",
"\n",
"//////////////////  Image Multiplication /////////////////////\n",
"gray=imread('Ex2_7_2.tif');\n",
"mask=imread('Ex2_7_3.tif');\n",
"gray=im2double(imresize(gray,0.5,'bicubic')); //Resize the Image with Bicubic Interpolation\n",
"mask=im2double(imresize(mask,0.5,'bicubic')); //Resize the Image with Bicubic Interpolation\n",
"figure,ShowImage(gray,'Gray Image');\n",
"title('Original Image');\n",
"figure,ShowImage(mask,'mask Image');\n",
"title('mask Pattern Image(ROI)');\n",
"[nr nc]=size(gray);\n",
"Enhance_image=immultiply(gray,mask);\n",
"Enhance_image=mat2gray(Enhance_image);\n",
"figure,ShowImage(Enhance_image,'Enhance Image');\n",
"title('ROI Selection');\n",
""
   ]
   }
],
"metadata": {
		  "kernelspec": {
		   "display_name": "Scilab",
		   "language": "scilab",
		   "name": "scilab"
		  },
		  "language_info": {
		   "file_extension": ".sce",
		   "help_links": [
			{
			 "text": "MetaKernel Magics",
			 "url": "https://github.com/calysto/metakernel/blob/master/metakernel/magics/README.md"
			}
		   ],
		   "mimetype": "text/x-octave",
		   "name": "scilab",
		   "version": "0.7.1"
		  }
		 },
		 "nbformat": 4,
		 "nbformat_minor": 0
}
