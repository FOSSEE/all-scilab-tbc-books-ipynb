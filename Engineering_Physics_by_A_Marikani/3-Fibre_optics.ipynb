{
"cells": [
 {
		   "cell_type": "markdown",
	   "metadata": {},
	   "source": [
       "# Chapter 3: Fibre optics"
	   ]
	},
{
		   "cell_type": "markdown",
		   "metadata": {},
		   "source": [
			"## Example 3.1: Numerical_aperture_of_the_fibre.sce"
		   ]
		  },
  {
"cell_type": "code",
	   "execution_count": null,
	   "metadata": {
	    "collapsed": true
	   },
	   "outputs": [],
"source": [
"\n",
"//Example No. 3.1.\n",
"//Page No.98.\n",
"//To find numerical aperture.\n",
"clc;clear;\n",
"n1 = 1.6;//Refractive index of core.\n",
"n2 = 1.5;// Refractive index of cladding.\n",
"NA = sqroot((n1^(2))-(n2^(2)));//Numerical Aperture.\n",
"printf('\nThe numerical aperture of the fibre is %.4f',NA);"
   ]
   }
,
{
		   "cell_type": "markdown",
		   "metadata": {},
		   "source": [
			"## Example 3.2: Numerical_aperture_and_acceptance_angle.sce"
		   ]
		  },
  {
"cell_type": "code",
	   "execution_count": null,
	   "metadata": {
	    "collapsed": true
	   },
	   "outputs": [],
"source": [
"\n",
"//Example No.3.2.\n",
"// Page No.98.\n",
"//To calculate numerical aperture and acceptance angle.\n",
"clc;clear;\n",
"n1 = 1.54;//Refractive index of core.\n",
"n2 = 1.5;// Refractive index of cladding.\n",
"no = 1;\n",
"NA = sqroot((n1^(2))-(n2^(2)));//Numerical Aperture.\n",
"printf('\nThe numerical aperture of the fibre is %.4f',NA);\n",
"t = asind(NA/no);// Acceptance angle.\n",
"printf('\nThe acceptance angle of the fibre is %.4f degree',t);"
   ]
   }
,
{
		   "cell_type": "markdown",
		   "metadata": {},
		   "source": [
			"## Example 3.3: critical_angle.sce"
		   ]
		  },
  {
"cell_type": "code",
	   "execution_count": null,
	   "metadata": {
	    "collapsed": true
	   },
	   "outputs": [],
"source": [
"\n",
"//Example No.3.3.\n",
"//Page No. 99.\n",
"//To find critical angle.\n",
"clc;clear;\n",
"n1 = 1.6;//Refractive index of core.\n",
"n2 = 1.49;// Refractive index of cladding.\n",
"Qc = asind((n2)/(n1));//Critical angle.\n",
"printf('\nThe critical angle of the fibre is %.2f degree',Qc);"
   ]
   }
,
{
		   "cell_type": "markdown",
		   "metadata": {},
		   "source": [
			"## Example 3.4: Refractive_index_and_acceptance_angle.sce"
		   ]
		  },
  {
"cell_type": "code",
	   "execution_count": null,
	   "metadata": {
	    "collapsed": true
	   },
	   "outputs": [],
"source": [
"\n",
"\n",
"\n",
"//Example No.3.4.\n",
"//Page No. 99.\n",
"//To find refractive index of core and acceptance angle.\n",
"clc;clear;\n",
"NA = 0.15;//Numerical aperture.\n",
"n2 = 1.55;//Refractive index of cladding.\n",
"n0 = 1.33;//Refractive index of water.\n",
"n1 = sqroot((NA^(2))+(n2^(2)));// Refractive index of core.\n",
"printf('\nThe refractive index of the core is %.4f',n1);\n",
"t = asind(NA/n0);// Acceptance angle.\n",
"mprintf('\nThe acceptance angle of the fibre is %.3f degree',t);"
   ]
   }
,
{
		   "cell_type": "markdown",
		   "metadata": {},
		   "source": [
			"## Example 3.5: Refractive_index_of_the_core.sce"
		   ]
		  },
  {
"cell_type": "code",
	   "execution_count": null,
	   "metadata": {
	    "collapsed": true
	   },
	   "outputs": [],
"source": [
"\n",
"\n",
"//Example No.3.5.\n",
"//Page No. 100.\n",
"//To find refractive index of cladding.\n",
"clc;clear;\n",
"d = 100;//Core diameter.\n",
"NA = 0.26;//Numerical aperture.\n",
"n1 = 1.5;//Refractive index of core.\n",
"n2 = sqroot((n1^(2))-(NA^(2)));// Refractive index of cladding.\n",
"printf('\nThe refractive index of the cladding is %.3f',n2);"
   ]
   }
,
{
		   "cell_type": "markdown",
		   "metadata": {},
		   "source": [
			"## Example 3.6: Refractive_indices_of_core_and_cladding.sce"
		   ]
		  },
  {
"cell_type": "code",
	   "execution_count": null,
	   "metadata": {
	    "collapsed": true
	   },
	   "outputs": [],
"source": [
"\n",
"\n",
"//Example No.3.6.\n",
"// Page No.100.\n",
"//To find refractive idex.\n",
"clc;clear;\n",
"NA = 0.26;//Numerical aperture.\n",
"del = 0.015;//Refractive index difference of the fibre.\n",
"n1 = sqroot((((NA)^(2))/(2*del)));//Refractive index of the core\n",
"printf('\nThe refractive index of the core is %.2f',n1);\n",
"n2 = sqroot((n1^(2))-(NA^(2)));// Refractive index of cladding.\n",
"printf('\nThe refractive index of cladding is %.3f',n2);\n",
""
   ]
   }
],
"metadata": {
		  "kernelspec": {
		   "display_name": "Scilab",
		   "language": "scilab",
		   "name": "scilab"
		  },
		  "language_info": {
		   "file_extension": ".sce",
		   "help_links": [
			{
			 "text": "MetaKernel Magics",
			 "url": "https://github.com/calysto/metakernel/blob/master/metakernel/magics/README.md"
			}
		   ],
		   "mimetype": "text/x-octave",
		   "name": "scilab",
		   "version": "0.7.1"
		  }
		 },
		 "nbformat": 4,
		 "nbformat_minor": 0
}
