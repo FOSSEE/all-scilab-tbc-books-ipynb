{
"cells": [
 {
		   "cell_type": "markdown",
	   "metadata": {},
	   "source": [
       "# Chapter 1: Ultrasonics"
	   ]
	},
{
		   "cell_type": "markdown",
		   "metadata": {},
		   "source": [
			"## Example 1.1: Fundamental_frequency_of_vibration.sce"
		   ]
		  },
  {
"cell_type": "code",
	   "execution_count": null,
	   "metadata": {
	    "collapsed": true
	   },
	   "outputs": [],
"source": [
"\n",
"\n",
"// Example No.1.1.\n",
"// Page No.28.\n",
"clc;clear;\n",
"t = 0.15*10^(-2);//Thickness of the quartz crystal -[m].\n",
"Y = 7.9* 10^(10);//Young's modulus of quartz -[N/m^2].\n",
"d = 2650;//Density of quartz -[kg/m^3].\n",
"f = (1/(2*t))*(sqrt(Y/d));//'f' is fndamental frequency of vibration.\n",
"f = f*10^(-6);//fundamental frequency of vibration.\n",
"printf('\nThe fundamental frequency of vibration of the crystal is %.4f MHz',f);\n",
""
   ]
   }
,
{
		   "cell_type": "markdown",
		   "metadata": {},
		   "source": [
			"## Example 1.2: Fundamental_frequency_and_first_overtone.sce"
		   ]
		  },
  {
"cell_type": "code",
	   "execution_count": null,
	   "metadata": {
	    "collapsed": true
	   },
	   "outputs": [],
"source": [
"\n",
"\n",
"// Example No.1.2.\n",
"// Page No. 28.\n",
"clc;clear;\n",
"t = 1*10^(-3);//Thickness of the quartz crystal -[m].\n",
"Y = 7.9* 10^(10);//Young's modulus of quartz -[N/m^2].\n",
"d = 2650;//Density of quartz -[kg/m^3].\n",
"p = 1;\n",
"f1 = (p/(2*t))*(sqroot(Y/d));//For fundamental frequency  p=1.\n",
"printf('\nThe fundamental frequency of vibration of the crystal is %3.3e Hz',f1);\n",
"p = 2;\n",
"f2 = (p/(2*t))*(sqroot(Y/d));// f2 is frequency of first overtone and for the first overtone P=2.\n",
"printf('\nThe frequency of the first overtone of the crystal is %3.3e Hz',f2);"
   ]
   }
,
{
		   "cell_type": "markdown",
		   "metadata": {},
		   "source": [
			"## Example 1.3: Velocity_of_ultrasonic_wave.sce"
		   ]
		  },
  {
"cell_type": "code",
	   "execution_count": null,
	   "metadata": {
	    "collapsed": true
	   },
	   "outputs": [],
"source": [
"\n",
"\n",
"// Example No.1.3.\n",
"// Page No.29.\n",
"clc;clear;\n",
"w = 5.893*10^(-7);//Wavelength of the light -[m].\n",
"f = 1*10^(8);//Frequency of the ultrasonic transducer -[Hz].\n",
"n = 1;//Order of diffraction.\n",
"d = 7.505*10^(-6);\n",
"w = 2*d;//wavelength of the ultrasonic wave.\n",
"printf('\nThe wavelength of the ultrasonic wave is %3.3e m',w);\n",
"v = f*w;//Velocity of the ultrasonic wave.\n",
"printf('\nThe velocity of ultrasonic wave is %.f m/s',v);"
   ]
   }
,
{
		   "cell_type": "markdown",
		   "metadata": {},
		   "source": [
			"## Example 1.4: Doppler_shifted_frequency.sce"
		   ]
		  },
  {
"cell_type": "code",
	   "execution_count": null,
	   "metadata": {
	    "collapsed": true
	   },
	   "outputs": [],
"source": [
"\n",
"// Example No.1.4.\n",
"// Page No.29.\n",
"clc;clear;\n",
"f = 2*10^(6);//frequency of transducer -[Hz].\n",
"cosq = cosd(30);//Angle of inclination of the probe -[degree].\n",
"c = 800;//Velocity of ultrasonic wave -[m/s].\n",
"v = 3;//Speed of blood -[m/s].\n",
"delf = ((2*f*v*cosq)/c);//Doppler shifted frequency.\n",
"printf('\nThe Doppler shifted frequency is %3.3e Hz',delf);"
   ]
   }
,
{
		   "cell_type": "markdown",
		   "metadata": {},
		   "source": [
			"## Example 1.5: Velocity_of_ultrasonic_waves.sce"
		   ]
		  },
  {
"cell_type": "code",
	   "execution_count": null,
	   "metadata": {
	    "collapsed": true
	   },
	   "outputs": [],
"source": [
"\n",
"// Example No.1.5.\n",
"// Page No.30.\n",
"clc;clear;\n",
"Y = 7.9*10^(10);//Young's modulus of quartz -[N/m^2].\n",
"d = 2650;//Density of quartz -[kg/m^3].\n",
"v = sqroot(Y/d);//Velocity of ultrasonic wave.\n",
"printf('\nThe velocity of the ultrasonic waves is %.2f m/s',v);"
   ]
   }
],
"metadata": {
		  "kernelspec": {
		   "display_name": "Scilab",
		   "language": "scilab",
		   "name": "scilab"
		  },
		  "language_info": {
		   "file_extension": ".sce",
		   "help_links": [
			{
			 "text": "MetaKernel Magics",
			 "url": "https://github.com/calysto/metakernel/blob/master/metakernel/magics/README.md"
			}
		   ],
		   "mimetype": "text/x-octave",
		   "name": "scilab",
		   "version": "0.7.1"
		  }
		 },
		 "nbformat": 4,
		 "nbformat_minor": 0
}
