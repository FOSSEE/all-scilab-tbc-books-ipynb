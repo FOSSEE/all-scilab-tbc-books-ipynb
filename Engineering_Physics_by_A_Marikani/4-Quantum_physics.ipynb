{
"cells": [
 {
		   "cell_type": "markdown",
	   "metadata": {},
	   "source": [
       "# Chapter 4: Quantum physics"
	   ]
	},
{
		   "cell_type": "markdown",
		   "metadata": {},
		   "source": [
			"## Example 4.10: Probability_of_finding_the_practicle.sce"
		   ]
		  },
  {
"cell_type": "code",
	   "execution_count": null,
	   "metadata": {
	    "collapsed": true
	   },
	   "outputs": [],
"source": [
"\n",
"\n",
"//Example No.4.10\n",
"// Page No.138.\n",
"//To find the probability.\n",
"clc;clear;\n",
"L = 25*10^(-10);//Width of the potential well -[m].\n",
"delx = 0.05*10^(-10);//Interval -[m].\n",
"x = int(1);\n",
"P = (((2*delx)/L)*x);//'P' is the probability of finding the practicle at an interval of 0.05 .\n",
"printf('\nThe probability of finding the particle is %.3f',P);"
   ]
   }
,
{
		   "cell_type": "markdown",
		   "metadata": {},
		   "source": [
			"## Example 4.11: Lowest_energy_of_the_electron.sce"
		   ]
		  },
  {
"cell_type": "code",
	   "execution_count": null,
	   "metadata": {
	    "collapsed": true
	   },
	   "outputs": [],
"source": [
"\n",
"//Example No.4.11.\n",
"//Page No.138.\n",
"clc;clear;\n",
"n = 1;//For the lowest energy value n=1.\n",
"h = 6.626*10^(-34);//Planck's constant.\n",
"L = 1*10^(-10);//Width of the potential well -[m].\n",
"m = 9.1*10^(-31);//Mass of the electron.\n",
"E = ((n^(2)*h^(2))/(8*m*L^(2)));\n",
"E = ((h^(2))/(8*m*L^(2)));// For the lowest energy value n=1.\n",
"printf('\nThe lowest energy of the electron in joules is %3.3e J',E);;// Lowest energy of the electron in joules.\n",
"E = (E/(1.6*10^(-19)));\n",
"printf('\nThe lowest energy of the electron in eV is %.2f eV',E);// Lowest energy of the electron in eV.\n",
""
   ]
   }
,
{
		   "cell_type": "markdown",
		   "metadata": {},
		   "source": [
			"## Example 4.12: Lowest_energy_of_the_electron.sce"
		   ]
		  },
  {
"cell_type": "code",
	   "execution_count": null,
	   "metadata": {
	    "collapsed": true
	   },
	   "outputs": [],
"source": [
"\n",
"\n",
"//Example No.4.12.\n",
"//Page No.139.\n",
"//To find lowest energy of the electron.\n",
"clc;clear;\n",
"n = 1;//For the lowest energy value n=1.\n",
"h = 6.626*10^(-34);//Planck's constant.\n",
"L = 1*10^(-10);//Width of the potential well -[m].\n",
"m = 9.1*10^(-31);//Mass of the electron.\n",
"E = (2*(n^(2)*h^(2))/(8*m*L^(2)));\n",
"//'E' is the Lowest energy of the system.\n",
"printf('\nThe lowest energy of the system in joules is %3.3e J',E);\n",
"E = (E/(1.6*10^(-19)));\n",
"printf('\nThe lowest energy of the system in eV is %.2f eV',E);// Lowest energy of the electron in eV."
   ]
   }
,
{
		   "cell_type": "markdown",
		   "metadata": {},
		   "source": [
			"## Example 4.13: Lowest_energy_of_the_system.sce"
		   ]
		  },
  {
"cell_type": "code",
	   "execution_count": null,
	   "metadata": {
	    "collapsed": true
	   },
	   "outputs": [],
"source": [
"\n",
"\n",
"//Example No.4.13.\n",
"//Page No.139.\n",
"clc;clear;\n",
"h = 6.626*10^(-34);//Planck's constant.\n",
"L = 1*10^(-10);//Width of the potential well -[m].\n",
"m = 9.1*10^(-31);//Mass of the electron.\n",
"E = ((6*h^(2))/(8*m*L^(2)));\n",
"printf('\n 1) The lowest energy of the system in joules is %3.3e eV',E);\n",
"E = (E/(1.6*10^(-19)));\n",
"printf('\n 2) The lowest energy of the system is  %.2f eV',E);\n",
"disp('3) Quantum numbers are,');\n",
"n = 1;\n",
"l = 0;\n",
"ml = 0;\n",
"ms = 0.5;\n",
"ms1 = -0.5;\n",
"printf('\ni)n = %.0f',n);\n",
"printf(' , l = %.0f',l);\n",
"printf(' , ml = %.0f',ml);\n",
"printf(' , ms = %.1f',ms);\n",
"printf('\nii)n = %.0f',n);\n",
"printf(' , l = %.0f',l);\n",
"printf(' , ml = %.0f',ml);\n",
"printf(' , ms1 = %.1f',ms1);\n",
"n=2;\n",
"printf('\niii)n = %.0f',n);\n",
"printf(' , l = %.0f',l);\n",
"printf(' , ml = %.0f',ml);\n",
"printf(' , ms = %.1f',ms);"
   ]
   }
,
{
		   "cell_type": "markdown",
		   "metadata": {},
		   "source": [
			"## Example 4.14: mass_of_the_alpha_practical.sce"
		   ]
		  },
  {
"cell_type": "code",
	   "execution_count": null,
	   "metadata": {
	    "collapsed": true
	   },
	   "outputs": [],
"source": [
"\n",
"\n",
"//Example No.4.14.\n",
"//Page No.140.\n",
"//The mass of the particle.\n",
"clc;clear;\n",
"E = 0.025*1.6*10^(-19);//Lowest energy.\n",
"h = 6.626*10^(-34);//Planck's constant.\n",
"L = 100*10^(-10);//Width of the well -[m].\n",
"m = ((h^(2))/(8*E*L^(2)));\n",
"printf('\nThe mass of the particle is %3.3e kg',m);"
   ]
   }
,
{
		   "cell_type": "markdown",
		   "metadata": {},
		   "source": [
			"## Example 4.15: Energy_density.sce"
		   ]
		  },
  {
"cell_type": "code",
	   "execution_count": null,
	   "metadata": {
	    "collapsed": true
	   },
	   "outputs": [],
"source": [
"\n",
"\n",
"//Example No.4.15.\n",
"//Page No.141.\n",
"//To find energy density.\n",
"clc;clear;\n",
"T = 6000;//Temperature -[K].\n",
"k = 1.38*10^(-23);//Boltzman's constant.\n",
"w1 = 450*10^(-9);//wavelength -[m].\n",
"w2 = 460*10^(-9);//wavelength -[m].\n",
"c = 3*10^(8);//Velcity of light.\n",
"v1=(c/w1);\n",
"printf('\nThe velocity for wavelength 450 nm is %3.3e Hz',v1);\n",
"v2 = (c/w2);\n",
"printf('\nThe velocity for wavelength 460 nm is %3.3e Hz',v2);\n",
"v = ((v1+v2)/2);\n",
"printf('\nThe average value of v is %3.3e Hz',v);\n",
"h = 6.626*10^(-34);//Planck's constant.\n",
"d = (8*%pi*h*v^(3))/(c^(3));\n",
"dv = d*(1/(exp((h*v)/(k*T))-1));//Energy density.\n",
"printf('\nThe energy density of the black body is %3.3e J/m^3',dv);"
   ]
   }
,
{
		   "cell_type": "markdown",
		   "metadata": {},
		   "source": [
			"## Example 4.1: change_in_wavelength.sce"
		   ]
		  },
  {
"cell_type": "code",
	   "execution_count": null,
	   "metadata": {
	    "collapsed": true
	   },
	   "outputs": [],
"source": [
"\n",
"\n",
"//Example No 133.\n",
"//Page No 4.1.\n",
"//To find change in wavelength.\n",
"clc;clear;\n",
"h = 6.63*10^(-34);//Planck's constant -[J-s].\n",
"m0 = 9.1*10^(-31);//mass of electron -[kg].\n",
"c = 3*10^(8);//Velocity of ligth -[m/s].\n",
"cosq = cosd(135);//Angle of scattering -[degree].\n",
"delW = (h/(m0*c))*(1-cosq);//change in wavelength.\n",
"printf('\nThe change in wavelength is %3.3e m',delW);"
   ]
   }
,
{
		   "cell_type": "markdown",
		   "metadata": {},
		   "source": [
			"## Example 4.2: comptom_shift_and_w_and_energy.sce"
		   ]
		  },
  {
"cell_type": "code",
	   "execution_count": null,
	   "metadata": {
	    "collapsed": true
	   },
	   "outputs": [],
"source": [
"\n",
"\n",
"//Example No.4.2.\n",
"//Page No.134.\n",
"clc;clear;\n",
"h = 6.626*10^(-34);//Planck's constant.\n",
"m0 = 9.1*10^(-31);//mass of electron.\n",
"c = 3*10^(8);//Velocity of ligth.\n",
"cosq = cosd(90);//Scattering angle -[degree].\n",
"delW = (h/(m0*c))*(1-cosq);//Compton's shift\n",
"delW = delW*10^(10);\n",
"printf('\na)The Comptons  shift is  %.5f A',delW);\n",
"w = 2;//Wavelength -[A]\n",
"W = (delW+w);// Wavelength of the scattered photon.\n",
"printf('\nb)The wavelength of the scattered photon is % 5f A',W);\n",
"E = (h*c)*((1/(w*10^(-10)))-(1/(W*10^(-10))));//Energy of the recoiling electron in joules.\n",
"printf('\nc)The energy of the recoiling electron in joules is %3.3e J',E);\n",
"E = (E/(1.6*10^(-19)));//Energy of the recoiling electron in eV.\n",
"printf('\nc)The energy of the recoiling electron in eV is %3.3e eV',E);\n",
"sinq = sind(90);\n",
"Q = (((h*c)/w)*sinq)/(((h*c)/w)-((h*c)/W)*cosq);\n",
"theta = atand(Q);\n",
"printf('\ne)The angle at which the recoiling electron appears is %.0f degree',theta); "
   ]
   }
,
{
		   "cell_type": "markdown",
		   "metadata": {},
		   "source": [
			"## Example 4.3: comptom_shift_and_wavelength.sce"
		   ]
		  },
  {
"cell_type": "code",
	   "execution_count": null,
	   "metadata": {
	    "collapsed": true
	   },
	   "outputs": [],
"source": [
"\n",
"\n",
"//Example No.4.3.\n",
"//Page NO.135.\n",
"clc;clear;\n",
"h = 6.626*10^(-34);//Planck's constant.\n",
"mo = 9.1*10^(-31);//mass of electron.\n",
"c = 3*10^(8);//Velocity of ligth.\n",
"w = (1*1.6*10^(-19)*10^(6));//wavelength.\n",
"cosq = cosd(60);\n",
"delw = ((h/(mo*c))*(1-cosq));//Compton shift\n",
"delw = delw*10^(10);\n",
"printf('\n1)The Comptons shift = %.3f A',delw);\n",
"E = ((h*c)/w);//energy of the incident photon.\n",
"W = (delw+E);//Wavelength of the scattered photon.\n",
"W = (0.012)+(1.242);\n",
"printf('\n3)The wavelength of the scattered photon = %.3f A',W);"
   ]
   }
,
{
		   "cell_type": "markdown",
		   "metadata": {},
		   "source": [
			"## Example 4.4: Number_of_photons_emitted.sce"
		   ]
		  },
  {
"cell_type": "code",
	   "execution_count": null,
	   "metadata": {
	    "collapsed": true
	   },
	   "outputs": [],
"source": [
"\n",
"\n",
"//Example No 135.\n",
"//Page No 4.4.\n",
"//To find number of photons.\n",
"clc;clear;\n",
"h = 6.63*10^(-34);//Planck's constant.\n",
"c = 3*10^(8);//Velocity of ligth.\n",
"w = 5893*10^(-10);//wavelength.\n",
"Op = 60;//output power -[W].\n",
"E  =((h*c)/w);\n",
"printf('\nEnergy of photon in joules is %3.3e J',E);//Energy of photon in joules.\n",
"hv = (E/(1.6*10^(-19)));//Energy of photon in eV.\n",
"printf('\nEnergy of photon in eV is %.3f eV',hv);\n",
"Ps = ((Op)/(E));\n",
"Ps = ((60)/(E));// Number of photons emitted per second.\n",
"printf('\nThe number of photons emitted per second is %3.3e photons per second',Ps);"
   ]
   }
,
{
		   "cell_type": "markdown",
		   "metadata": {},
		   "source": [
			"## Example 4.5: Mass_and_energy.sce"
		   ]
		  },
  {
"cell_type": "code",
	   "execution_count": null,
	   "metadata": {
	    "collapsed": true
	   },
	   "outputs": [],
"source": [
"\n",
"\n",
"//Example No 136.\n",
"//Page No 4.5.\n",
"//To find mass,momentum & energy of photon.\n",
"clc;clear;\n",
"h = 6.63*10^(-34);//Planck's constant.\n",
"c = 3*10^(8);//Velocity of ligth.\n",
"w = 10*10^(-10);//wavelength.\n",
"E = ((h*c)/w);//Energy.\n",
"printf('\n1)The energy of photon in joules is %3.3e J',E);\n",
"E = E/(1.6*10^(-19)*10^(3));\n",
"printf('\n2)The energy of photon in eV is %.3f Kev',E);\n",
"p = (h/w);//Momentum.\n",
"p = ((6.63*10^(-34))/(10*10^(-10)));\n",
"printf('\n3)The momentum of the photon is %3.3e kg.m/s',p)\n",
"m = (h/(w*c));\n",
"printf('\n4)The mass of the photon is %3.3e kg',m);"
   ]
   }
,
{
		   "cell_type": "markdown",
		   "metadata": {},
		   "source": [
			"## Example 4.6: DeBroglie_wavelength.sce"
		   ]
		  },
  {
"cell_type": "code",
	   "execution_count": null,
	   "metadata": {
	    "collapsed": true
	   },
	   "outputs": [],
"source": [
"\n",
"\n",
"//Example No 136.\n",
"//Page No 4.6.\n",
"//To find de-Broglie wavelength.\n",
"clc;clear;\n",
"V=1.25*10^(3);//Potential difference applied -[V].\n",
"w=((12.27)/sqroot(V));//de-Broglie wavelength of electron.\n",
"printf('\nThe de-Broglie wavelength of electron is %.3f A',w);"
   ]
   }
,
{
		   "cell_type": "markdown",
		   "metadata": {},
		   "source": [
			"## Example 4.7: wavelength.sce"
		   ]
		  },
  {
"cell_type": "code",
	   "execution_count": null,
	   "metadata": {
	    "collapsed": true
	   },
	   "outputs": [],
"source": [
"\n",
"\n",
"//Example No.136 .\n",
"//Page No. 4.7.\n",
"//To find de-Broglie wavelength.\n",
"clc;clear;\n",
"E = 45*1.6*10^(-19);//Energy of the electron.\n",
"h = 6.63*10^(-34);//Planck's constant\n",
"m = 9.1*10^(-31);//Mass of the electron.\n",
"w = h/(sqrt(2*m*E));//de-Broglie wavelength.\n",
"printf('\nThe de-Broglie wavelength of the photon is %3.3e m',w);\n",
""
   ]
   }
,
{
		   "cell_type": "markdown",
		   "metadata": {},
		   "source": [
			"## Example 4.8: De_Broglie_wavelength.sce"
		   ]
		  },
  {
"cell_type": "code",
	   "execution_count": null,
	   "metadata": {
	    "collapsed": true
	   },
	   "outputs": [],
"source": [
"\n",
"\n",
"//Example No.4.8.\n",
"//Page No.137.\n",
"//To find de-Broglie wavelength.\n",
"clc;clear;\n",
"h=6.626*10^(-34);//Planck's constant.\n",
"v=10^(7);//Velocity of the electron -[m/s].\n",
"m=9.1*10^(-31);//Mass of the electron.\n",
"w=(h/(m*v));//de-Broglie wavelength\n",
"printf('\nThe de-Broglie wavelength is %3.3e m',w);"
   ]
   }
,
{
		   "cell_type": "markdown",
		   "metadata": {},
		   "source": [
			"## Example 4.9: Wavelength_of_alpha_practical.sce"
		   ]
		  },
  {
"cell_type": "code",
	   "execution_count": null,
	   "metadata": {
	    "collapsed": true
	   },
	   "outputs": [],
"source": [
"\n",
"\n",
"//Example No 137.\n",
"//Page No 4.9.\n",
"//The de-Broglie wavelength of alpha particle.\n",
"clc;clear;\n",
"V = 1000;//Potential difference applied -[V].\n",
"h = (6.626*10^(-34));//Planck's constant -[J-s].\n",
"m = (1.67*10^(-27));//Mass of a proton -[kg].\n",
"e = (1.6*10^(-19));//charge of electron -[J].\n",
"w = h/sqrt(2*m*e*V);//de-Broglie wavelength\n",
"printf('\nThe de-Broglie wavelength of alpha particle = %3.3e m',w);"
   ]
   }
],
"metadata": {
		  "kernelspec": {
		   "display_name": "Scilab",
		   "language": "scilab",
		   "name": "scilab"
		  },
		  "language_info": {
		   "file_extension": ".sce",
		   "help_links": [
			{
			 "text": "MetaKernel Magics",
			 "url": "https://github.com/calysto/metakernel/blob/master/metakernel/magics/README.md"
			}
		   ],
		   "mimetype": "text/x-octave",
		   "name": "scilab",
		   "version": "0.7.1"
		  }
		 },
		 "nbformat": 4,
		 "nbformat_minor": 0
}
