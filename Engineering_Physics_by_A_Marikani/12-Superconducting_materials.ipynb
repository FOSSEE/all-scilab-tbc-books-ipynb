{
"cells": [
 {
		   "cell_type": "markdown",
	   "metadata": {},
	   "source": [
       "# Chapter 12: Superconducting materials"
	   ]
	},
{
		   "cell_type": "markdown",
		   "metadata": {},
		   "source": [
			"## Example 12.1: Critical_field.sce"
		   ]
		  },
  {
"cell_type": "code",
	   "execution_count": null,
	   "metadata": {
	    "collapsed": true
	   },
	   "outputs": [],
"source": [
"\n",
"//Example NO.12.1\n",
"//Page No.356\n",
"//To find critical field.\n",
"clc;clear;\n",
"Tc = 3.7;//Critical temperature of tin -[K].\n",
"Ho = 0.0306;//Magnetic field -[T].\n",
"T = 2;//Temperature -[K].\n",
"Hc = Ho*(1-((T^(2))/(Tc^(2))));//Critical magnetic field\n",
"printf('\nCritical field at 2K is %.4f T',Hc);"
   ]
   }
,
{
		   "cell_type": "markdown",
		   "metadata": {},
		   "source": [
			"## Example 12.2: Critical_field.sce"
		   ]
		  },
  {
"cell_type": "code",
	   "execution_count": null,
	   "metadata": {
	    "collapsed": true
	   },
	   "outputs": [],
"source": [
"\n",
"\n",
"//Example NO.12.2\n",
"//Page No.356\n",
"//To find critical field.\n",
"clc;clear;\n",
"Tc = 7.26;//Critical temperature of lead -[K].\n",
"Ho = 6.4*10^3;//Magnetic field -[A/m^3].\n",
"T = 5;//Temperature -[K].\n",
"Hc = Ho*(1-((T^(2))/(Tc^(2))));//Critical magnetic field\n",
"printf('\nCritical field at 5K is %.2f T',Hc);\n",
""
   ]
   }
,
{
		   "cell_type": "markdown",
		   "metadata": {},
		   "source": [
			"## Example 12.3: value_of_Tc.sce"
		   ]
		  },
  {
"cell_type": "code",
	   "execution_count": null,
	   "metadata": {
	    "collapsed": true
	   },
	   "outputs": [],
"source": [
"\n",
"//Example NO.12.3\n",
"//Page No.357\n",
"//To find the value of Tc.\n",
"clc;clear;\n",
"M1 = (199.5^(1/2));//Atomic mass. \n",
"M2 = (203.4^(1/2));//Atomic mass.\n",
"Tc1 = (4.185);//Critical temperature of Hg -[K].\n",
"Tc = (Tc1*M1/M2);//Critical temperature\n",
"printf('\nCritical temperature of Hg with atomic mass,203.4 is %.5f K',Tc);"
   ]
   }
,
{
		   "cell_type": "markdown",
		   "metadata": {},
		   "source": [
			"## Example 12.4: critical_current_density.sce"
		   ]
		  },
  {
"cell_type": "code",
	   "execution_count": null,
	   "metadata": {
	    "collapsed": true
	   },
	   "outputs": [],
"source": [
"\n",
"//Example NO.12.4\n",
"//Page No.357\n",
"//To find critical current density.\n",
"clc;clear;\n",
"D=1*10^(-3);//Diameter of the wire -[m].\n",
"Tc = 7.18;//Critical temperature -[K].\n",
"Ho = 6.5*10^4;//Critical field -[A/m].\n",
"T = 4.2;//Temperature -[K].\n",
"R = 0.5*10^-3;//Radius.\n",
"I = 134.33;//Current.\n",
"Hc = Ho*(1-((T^(2))/(Tc^(2))));\n",
"printf('\nCritical magnetic field is %3.3e A/m',Hc);\n",
"ic = (2*%pi*R*Hc);\n",
"printf('\nCritical current is %.2f A',ic);\n",
"J = (I/(%pi*R^2));\n",
"printf('\nCritical current density is %3.3e A/m^2',J);"
   ]
   }
,
{
		   "cell_type": "markdown",
		   "metadata": {},
		   "source": [
			"## Example 12.5: frequency_of_radiation.sce"
		   ]
		  },
  {
"cell_type": "code",
	   "execution_count": null,
	   "metadata": {
	    "collapsed": true
	   },
	   "outputs": [],
"source": [
"\n",
"//Example NO.12.5\n",
"//Page No.358\n",
"//To find frequency.\n",
"clc;clear;\n",
"e = (1.6*10^-19);//value of electron.\n",
"V = (6*10^-6);//Voltage applied across the junction -[V]\n",
"h = (6.626*10^-34);//Planck's constant\n",
"v = ((2*e*V)/h);//Frequency of ac signal\n",
"printf('\nFrequency of ac signal is %3.3e Hz',v);\n",
""
   ]
   }
,
{
		   "cell_type": "markdown",
		   "metadata": {},
		   "source": [
			"## Example 12.6: Band_gap.sce"
		   ]
		  },
  {
"cell_type": "code",
	   "execution_count": null,
	   "metadata": {
	    "collapsed": true
	   },
	   "outputs": [],
"source": [
"\n",
"//Example NO.12.6\n",
"//Page No.358\n",
"//To find band gap of superconducting lead \n",
"clc;clear;\n",
"KB = (1.38*10^-23);//Boltzman's constant.\n",
"Tc = (7.19);//Critical temperature of lead -[K].\n",
"Eg = (3.5*KB*Tc);//Energy gap of semiconductor.\n",
"printf('\nBand gap of superconducting lead is %3.3e J',Eg);\n",
"Eg = (Eg/(1.6*10^-19*10^(-3)));\n",
"printf('\nBand gap of superconducting lead is %.2f meV',Eg);\n",
""
   ]
   }
],
"metadata": {
		  "kernelspec": {
		   "display_name": "Scilab",
		   "language": "scilab",
		   "name": "scilab"
		  },
		  "language_info": {
		   "file_extension": ".sce",
		   "help_links": [
			{
			 "text": "MetaKernel Magics",
			 "url": "https://github.com/calysto/metakernel/blob/master/metakernel/magics/README.md"
			}
		   ],
		   "mimetype": "text/x-octave",
		   "name": "scilab",
		   "version": "0.7.1"
		  }
		 },
		 "nbformat": 4,
		 "nbformat_minor": 0
}
