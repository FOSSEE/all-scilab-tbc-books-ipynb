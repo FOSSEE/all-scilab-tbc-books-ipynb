{
"cells": [
 {
		   "cell_type": "markdown",
	   "metadata": {},
	   "source": [
       "# Chapter 10: Magnetic materials"
	   ]
	},
{
		   "cell_type": "markdown",
		   "metadata": {},
		   "source": [
			"## Example 10.1: Magnetization_and_flux_density.sce"
		   ]
		  },
  {
"cell_type": "code",
	   "execution_count": null,
	   "metadata": {
	    "collapsed": true
	   },
	   "outputs": [],
"source": [
"\n",
"//Example NO.10.1\n",
"//Page No.305\n",
"//To find magnetization & flux density.\n",
"clc;clear;\n",
"H = (10^6);//Magnetic field strength -[A/m].\n",
"x = (0.5*10^-5);//Magnetic suceptibility.\n",
"M = (x*H);//Magnetization.\n",
"printf('\nMagnetization of the material is %.0f A/m',M);\n",
"u0 = (4*%pi*10^-7);\n",
"B = (u0*(M+H));//Flux density.\n",
"printf('\nFlux density of the material is %.3f Wb/m^2',B);"
   ]
   }
,
{
		   "cell_type": "markdown",
		   "metadata": {},
		   "source": [
			"## Example 10.2: Magnetic_moment_of_nickel_atom.sce"
		   ]
		  },
  {
"cell_type": "code",
	   "execution_count": null,
	   "metadata": {
	    "collapsed": true
	   },
	   "outputs": [],
"source": [
"\n",
"\n",
"//Example NO.10.2\n",
"//Page No.306\n",
"clc;clear;\n",
"B = 0.65;//Saturation magnetic induction -[Wb/m^2].\n",
"p = 8906;//Density -[kg/m^3].\n",
"Mat = 58.7;//Atomic weight of Ni\n",
"A = (6.022*10^26);//Avagadro's constant.\n",
"N = ((p*A)/Mat);//Number of atoms per m^-3.\n",
"printf('\nNumber of atoms per m^-3 are %3.3e m^-3',N);\n",
"u0 = (4*%pi*10^-7);\n",
"um = (B/(N*u0));\n",
"printf('\nMagnetic moment is %3.3e ',um);\n",
"Mni = (um/(9.27*10^-24));\n",
"printf('\nMagnetic moment of nickel atom is %.2f uB',Mni);"
   ]
   }
,
{
		   "cell_type": "markdown",
		   "metadata": {},
		   "source": [
			"## Example 10.3: Relative_permiability.sce"
		   ]
		  },
  {
"cell_type": "code",
	   "execution_count": null,
	   "metadata": {
	    "collapsed": true
	   },
	   "outputs": [],
"source": [
"\n",
"//Example NO.10.3\n",
"//Page No.306\n",
"clc;clear;\n",
"H = 1800;//Magnetic field -[A/m].\n",
"F = (3*10^-5);//Magnetic flux -[Wb].\n",
"A = 0.2*10^-4;//Area of cross section -[m].\n",
"u0 = (4*%pi*10^-7);\n",
"B = (F/A);//Magnetic flux density.\n",
"printf('\nMagnetic flux density is %.1f Wb/m^2',B);\n",
"ur = (B/(u0*H));//Relative permeability.\n",
"printf('\nRelative permeability of the material is %.2f',ur);"
   ]
   }
,
{
		   "cell_type": "markdown",
		   "metadata": {},
		   "source": [
			"## Example 10.4: Saturation_magnetization.sce"
		   ]
		  },
  {
"cell_type": "code",
	   "execution_count": null,
	   "metadata": {
	    "collapsed": true
	   },
	   "outputs": [],
"source": [
"\n",
"//Example NO.10.4\n",
"//Page No.307\n",
"clc;clear;\n",
"u = 18.4;//Magnetic moment -[uB].\n",
"uB = (9.27*10^-24);\n",
"a = (0.835*10^-9);//Lattice parameter-[m].\n",
"M = (u*uB/a^3);//Magnetization.\n",
"printf('\nSaturation magnetization for Ni ferrite is %3.3e A/m',M);"
   ]
   }
,
{
		   "cell_type": "markdown",
		   "metadata": {},
		   "source": [
			"## Example 10.5: Magnetization_and_magnetic_flux_density.sce"
		   ]
		  },
  {
"cell_type": "code",
	   "execution_count": null,
	   "metadata": {
	    "collapsed": true
	   },
	   "outputs": [],
"source": [
"\n",
"//Example NO.10.5\n",
"//Page No.307\n",
"clc;clear;\n",
"H = (2*10^5);//Magnetic field strength -[A/m].\n",
"ur = 1.01;//Relative permeability.\n",
"u0 = (4*%pi*10^-7);\n",
"B = (u0*ur*H);//Magnetic flux density.\n",
"printf('\nMagnetic flux density is %.4f Wb/m^2',B);\n",
"M = ((0.2538/u0)-(H));//Magnetization\n",
"printf('\nMagnetization of the material is %.2f A/m',M);"
   ]
   }
,
{
		   "cell_type": "markdown",
		   "metadata": {},
		   "source": [
			"## Example 10.6: Succeptibility_and_magnetic_flux.sce"
		   ]
		  },
  {
"cell_type": "code",
	   "execution_count": null,
	   "metadata": {
	    "collapsed": true
	   },
	   "outputs": [],
"source": [
"\n",
"//Example NO.10.6\n",
"//Page No.307\n",
"clc;clear;\n",
"H = (500);//Magnetic field strength -[A/m].\n",
"x = (1.2);//Suceptibility.\n",
"M = (x*H);//Magnetization.\n",
"printf('\nMagnetization of the material is %.0f A/m',M);\n",
"u0 = (4*%pi*10^-7);\n",
"B = (u0*(M+H));//Magnetic flux density.\n",
"printf('\nMagnetic flux density inside the material is %3.3e Wb/m^2',B);"
   ]
   }
],
"metadata": {
		  "kernelspec": {
		   "display_name": "Scilab",
		   "language": "scilab",
		   "name": "scilab"
		  },
		  "language_info": {
		   "file_extension": ".sce",
		   "help_links": [
			{
			 "text": "MetaKernel Magics",
			 "url": "https://github.com/calysto/metakernel/blob/master/metakernel/magics/README.md"
			}
		   ],
		   "mimetype": "text/x-octave",
		   "name": "scilab",
		   "version": "0.7.1"
		  }
		 },
		 "nbformat": 4,
		 "nbformat_minor": 0
}
