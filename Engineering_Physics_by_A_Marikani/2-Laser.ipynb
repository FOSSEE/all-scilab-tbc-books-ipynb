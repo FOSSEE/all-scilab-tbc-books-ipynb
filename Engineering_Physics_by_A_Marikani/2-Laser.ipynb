{
"cells": [
 {
		   "cell_type": "markdown",
	   "metadata": {},
	   "source": [
       "# Chapter 2: Laser"
	   ]
	},
{
		   "cell_type": "markdown",
		   "metadata": {},
		   "source": [
			"## Example 2.10: angular_spread_and_divergence.sce"
		   ]
		  },
  {
"cell_type": "code",
	   "execution_count": null,
	   "metadata": {
	    "collapsed": true
	   },
	   "outputs": [],
"source": [
"\n",
"//Example No.2.10.\n",
"// Page No.62.\n",
"clc;clear;\n",
"w = 632.8*10^(-9);//wavelength -[m]\n",
"D = 5;//Distance -[m].\n",
"d = 1*10^(-3);//Diameter -[m].\n",
"deltheta = (w/d);//Angular Spread.\n",
"printf('\nThe angular spread is %3.3e radian',deltheta);\n",
"r = (D*(deltheta));\n",
"r = (5*(deltheta));//Radius of the spread\n",
"printf('\nThe radius of the spread is %3.3e m',r); //Radius of the spread.\n",
"As = ((%pi)*r^(2));//Area of the spread\n",
"printf('\nThe area of the spread is %3.3e m^2',As);//Area of the spread.\n",
""
   ]
   }
,
{
		   "cell_type": "markdown",
		   "metadata": {},
		   "source": [
			"## Example 2.1: number_of_photons_emitted_per_second.sce"
		   ]
		  },
  {
"cell_type": "code",
	   "execution_count": null,
	   "metadata": {
	    "collapsed": true
	   },
	   "outputs": [],
"source": [
"\n",
"//Example No.2.1.\n",
"// Page No.59.\n",
"clc;clear;\n",
"p = 5*10^(-3);// output power -[W].\n",
"w = 632.8*10^(-9);//wavelength -[m].\n",
"h = 6.626*10^(-34);//Planck's constant.\n",
"c = (3*10^(8));//Velocity of light.\n",
"hv = ((h*c)/(w));// Energy of one photon\n",
"printf('\nThe energy of one photon in joules is %3.3e J', hv);\n",
"hv = hv/(1.6*10^(-19));\n",
"printf('\nThe energy of one photon in eV is %.2f eV',hv);\n",
"Np = (p/(3.14*10^(-19)));//Number of photons emitted\n",
"printf('\nThe number of photons emitted per second by He-Ne laser are %3.3e photons per second',Np);\n",
""
   ]
   }
,
{
		   "cell_type": "markdown",
		   "metadata": {},
		   "source": [
			"## Example 2.2: Energy_of_the_photon.sce"
		   ]
		  },
  {
"cell_type": "code",
	   "execution_count": null,
	   "metadata": {
	    "collapsed": true
	   },
	   "outputs": [],
"source": [
"\n",
"//Example No.2.2.\n",
"// Page No.60.\n",
"clc;clear;\n",
"w = 632.8*10^(-9);//wavelength -[m].\n",
"h = 6.626*10^(-34);//Planck's constant.\n",
"c = (3*10^(8));//Velocity of light.\n",
"E = ((h*c)/(w));// Energy of one photon\n",
"printf('\nThe energy of emitted photon in joules is %3.3e J',E);\n",
"E = E/(1.6*10^(-19));\n",
"printf('\nThe energy of emitted photon in eV is %.2f eV',E);"
   ]
   }
,
{
		   "cell_type": "markdown",
		   "metadata": {},
		   "source": [
			"## Example 2.3: Energy_of_E3.sce"
		   ]
		  },
  {
"cell_type": "code",
	   "execution_count": null,
	   "metadata": {
	    "collapsed": true
	   },
	   "outputs": [],
"source": [
"\n",
"//Example No.2.3.\n",
"// Page No.60.\n",
"clc;clear;\n",
"w = 1.15*10^(-6);//wavelength -[m].\n",
"h = 6.626*10^(-34);\n",
"c = (3*10^(8));\n",
"hv = ((h*c)/(w));// Energy of one photon\n",
"printf('\n The energy of emitted photon is  %3.3e J',hv);\n",
"E = ((hv)/(1.6*10^(-19)));\n",
"printf('\n The energy of emitted photon is  %.3f eV',E);\n",
"E1 = 0,'eV';//Value of first energy level.\n",
"E2 = 1.4,'eV';//Value of second energy level.\n",
"E3 = (E2+E);//Energy value of 'E3'.\n",
"E3 = ((1.4)+E);\n",
"printf('\n The value of E3 energy level is %.3f eV',E3);"
   ]
   }
,
{
		   "cell_type": "markdown",
		   "metadata": {},
		   "source": [
			"## Example 2.4: wavelength_of_the_photon.sce"
		   ]
		  },
  {
"cell_type": "code",
	   "execution_count": null,
	   "metadata": {
	    "collapsed": true
	   },
	   "outputs": [],
"source": [
"\n",
"//Example No.2.4;\n",
"//Page No.60;\n",
"clc;clear;\n",
"E1 = 3.2;//Value of higher energy level E1 -[eV].\n",
"E2 = 1.6;//Value of lower energy level E2 -[eV].\n",
"E = (E1-E2);//Energy difference.\n",
"printf('\nThe energy difference is %.1f eV', E);\n",
"h = 6.626*10^(-34);//Planck's constant\n",
"c = 3*10^(8);//Velocity of light.\n",
"E = 1.6*1.6*10^(-19);\n",
"w = ((h*c)/(E));\n",
"printf('\nThe wavelength of the photon is %3.3e m', w);"
   ]
   }
,
{
		   "cell_type": "markdown",
		   "metadata": {},
		   "source": [
			"## Example 2.5: wavelength_of_the_laser.sce"
		   ]
		  },
  {
"cell_type": "code",
	   "execution_count": null,
	   "metadata": {
	    "collapsed": true
	   },
	   "outputs": [],
"source": [
"\n",
"//Example No.2.5.\n",
"// Page No.60.\n",
"clc;clear;\n",
"E = 1.42;//Bandgap of Ga-As -[eV]\n",
"h = 6.626*10^(-34);//Planck's constant.\n",
"c = 3*10^(8);//Velocity of light.\n",
"w = ((h*c)/(E*1.6*10^(-19)));\n",
"printf('\nThe wavelength of the laser emitted by GaAs is %3.3e m',w);"
   ]
   }
,
{
		   "cell_type": "markdown",
		   "metadata": {},
		   "source": [
			"## Example 2.6: Relative_population_between.sce"
		   ]
		  },
  {
"cell_type": "code",
	   "execution_count": null,
	   "metadata": {
	    "collapsed": true
	   },
	   "outputs": [],
"source": [
"\n",
"//Example No.2.6.\n",
"// Page No.61.\n",
"clc;clear;\n",
"T = 300;//Temperature -[K]\n",
"K = 1.38*10^(-23);//Boltzman's constant.\n",
"w = 500*10^(-9);//wavelength -[m].\n",
"h = 6.626*10^(-34);//Planck's constant.\n",
"c = (3*10^(8));//velocity of light.\n",
"//By Maxwell's and Boltzman's law.\n",
"N = exp((h*c)/(w*K*T)); //Relative population.\n",
"printf('\nThe relative population between energy levels N1 and N2 is %3.3e',N);//(Relative population between N1 & N2)."
   ]
   }
,
{
		   "cell_type": "markdown",
		   "metadata": {},
		   "source": [
			"## Example 2.7: Ratio_between_stimulated_and_spontaneous_emission.sce"
		   ]
		  },
  {
"cell_type": "code",
	   "execution_count": null,
	   "metadata": {
	    "collapsed": true
	   },
	   "outputs": [],
"source": [
"\n",
"//Example No.2.7.\n",
"// Page No.61.\n",
"clc;clear;\n",
"T = 300;//Temperature -[K]\n",
"K = 1.38*10^(-23);//Boltzman's constant\n",
"w = 600*10^(-9);//wavelength-[m]\n",
"h = 6.626*10^(-34);\n",
"v = (3*10^(8));//velocity.\n",
"S = (1/((exp((h*v)/(w*K*T)))-1));//Se=stimulated emission & SPe= spontaneous emission\n",
"printf('\nThe ratio between stimulated emission and spontaneous emission is %3.3e.\nTherefore, the stimulated emission is not possible in this condition.',S);"
   ]
   }
,
{
		   "cell_type": "markdown",
		   "metadata": {},
		   "source": [
			"## Example 2.8: Efficiency_of_laser.sce"
		   ]
		  },
  {
"cell_type": "code",
	   "execution_count": null,
	   "metadata": {
	    "collapsed": true
	   },
	   "outputs": [],
"source": [
"\n",
"//Example No.2.8.\n",
"// Page No.62.\n",
"clc;clear;\n",
"Op = 5*10^(-3);//Output power -[W].\n",
"I = 10*10^(-3);//Current -[A].\n",
"V = 3*10^(3);//Voltage -[V].\n",
"Ip = (10*10^(-3)*3*10^(3));//Input power.\n",
"Eff = (((Op)/(Ip))*(100));//Efficiency of the laser.\n",
"printf('\nThe efficiency of the laser is %.6f percent',Eff);"
   ]
   }
,
{
		   "cell_type": "markdown",
		   "metadata": {},
		   "source": [
			"## Example 2.9: Intensity_of_the_laser.sce"
		   ]
		  },
  {
"cell_type": "code",
	   "execution_count": null,
	   "metadata": {
	    "collapsed": true
	   },
	   "outputs": [],
"source": [
"\n",
"//Example No.2.9.\n",
"// Page No.62.\n",
"clc;clear;\n",
"P = 1*10^(-3);//Output power -[W].\n",
"D = 1*10^(-6);//Diameter -[m].\n",
"r = 0.5*10^(-6);//Radius -[m]\n",
"I = (P/(%pi*r^(2)));// Intensity of laser.\n",
"printf('\nThe intensity of the laser is %3.3e W/m^2',I);"
   ]
   }
],
"metadata": {
		  "kernelspec": {
		   "display_name": "Scilab",
		   "language": "scilab",
		   "name": "scilab"
		  },
		  "language_info": {
		   "file_extension": ".sce",
		   "help_links": [
			{
			 "text": "MetaKernel Magics",
			 "url": "https://github.com/calysto/metakernel/blob/master/metakernel/magics/README.md"
			}
		   ],
		   "mimetype": "text/x-octave",
		   "name": "scilab",
		   "version": "0.7.1"
		  }
		 },
		 "nbformat": 4,
		 "nbformat_minor": 0
}
