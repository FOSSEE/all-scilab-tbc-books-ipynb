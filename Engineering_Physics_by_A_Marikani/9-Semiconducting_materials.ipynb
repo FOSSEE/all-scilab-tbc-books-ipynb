{
"cells": [
 {
		   "cell_type": "markdown",
	   "metadata": {},
	   "source": [
       "# Chapter 9: Semiconducting materials"
	   ]
	},
{
		   "cell_type": "markdown",
		   "metadata": {},
		   "source": [
			"## Example 9.10: Intrinsic_carrier_concentration.sce"
		   ]
		  },
  {
"cell_type": "code",
	   "execution_count": null,
	   "metadata": {
	    "collapsed": true
	   },
	   "outputs": [],
"source": [
"\n",
"//Example No.9.10.\n",
"//Page No 272.\n",
"clc;clear;\n",
"d = 10^(-6);//Electrical conductivity -[ohm^-1 m^-1].\n",
"e = 1.6*10^(-19);//Electron charge.\n",
"ue = 0.85;//Electron mobility -[m^2 V^-1 s^-1].\n",
"uh = 0.04;//hole mobility -[m^2 V^-1 s^-1].\n",
"Ni = (d/(e*(ue+uh)));//intrinsic carrier concentration\n",
"printf('\nThe intrinsic carrier concentration of GaAs is %3.3e m^-3',Ni);"
   ]
   }
,
{
		   "cell_type": "markdown",
		   "metadata": {},
		   "source": [
			"## Example 9.11: Concentrations.sce"
		   ]
		  },
  {
"cell_type": "code",
	   "execution_count": null,
	   "metadata": {
	    "collapsed": true
	   },
	   "outputs": [],
"source": [
"\n",
"\n",
"\n",
"//Example No.9.11.\n",
"//Page No 272.\n",
"clc;clear;\n",
"p = 0.1;//Resistivity of P-type and N-type -[ohm m].\n",
"e = 1.6*10^(-19);//Electron charge.\n",
"Uh = 0.48;//Hole mobility -[m^2 V^-1 s^-1].\n",
"Ue = 1.35;//Electron mobility -[m^2 V^-1 s^-1].\n",
"ni = 1.5*10^(16);\n",
"d = (1/p);//Electrical conductivity\n",
"disp('For P-type material')\n",
"printf('\n1)The electrical conductivity is %.1f ohm^-1 m^-1',d);\n",
"Na = (d/(e*Uh));//Acceptor concentration.\n",
"printf('\n2)The acceptor concentration is %3.3e m^-3',Na);\n",
"n1 = (((ni)^(2))/(Na));//Minority carriers concentration.\n",
"printf('\n3)The minority carriers concentration is %3.3e m^-3',n1);\n",
"disp('For N-type semiconductor')\n",
"d = (1/p);//Electrical conductivity.\n",
"printf('\n2)The electrical conductivity is %.1f ohm^-1 m^-1',d);\n",
"Nd = (d/(e*Ue));//Donor concentration.\n",
"printf('\n2)The donor concentration is %3.3e m^-3',Nd);\n",
"n2 = (((ni)^(2))/(Nd));//Minority carriers concentration.\n",
"printf('\n3)The minority carriers concentration  is %3.3e m^-3',n2);"
   ]
   }
,
{
		   "cell_type": "markdown",
		   "metadata": {},
		   "source": [
			"## Example 9.1: Number_of_charge_carrier.sce"
		   ]
		  },
  {
"cell_type": "code",
	   "execution_count": null,
	   "metadata": {
	    "collapsed": true
	   },
	   "outputs": [],
"source": [
"\n",
"//Example No.9.1.\n",
"//Page No.266.\n",
"//To find number of charge carrier.\n",
"clc;clear;\n",
"d = 2.2;//Conductivity -[ohm^-1 m^-1].\n",
"e = 1.6*10^(-19);//Value of electron.\n",
"u1 = 0.36;//Mobility of the electrons -[m^2 V^-1 s^-1].\n",
"u2 = 0.14;//Mobility of the holes -[m^2 V^-1 s^-1].\n",
"T = 300;//Temperature -[K].\n",
"n = (d/(e*(u1+u2)));//Number of charge carriers\n",
"printf('\nThe carrier concentration of an intrinsic semiconductor is %3.3e m^3',n);"
   ]
   }
,
{
		   "cell_type": "markdown",
		   "metadata": {},
		   "source": [
			"## Example 9.2: Band_gap.sce"
		   ]
		  },
  {
"cell_type": "code",
	   "execution_count": null,
	   "metadata": {
	    "collapsed": true
	   },
	   "outputs": [],
"source": [
"\n",
"//Example No.9.2.\n",
"//Page No.266.\n",
"//To find conductivity of semiconductor.\n",
"clc;clear;\n",
"d20 = 250;//Conductivity at 20 degree celcius -[ohm^-1 m^-1].\n",
"d100 = 1100;//Conductivity at 100 degree celcius -[ohm^-1 m^-1].\n",
"k = 1.38*10^(-23);//Boltzman's constant.\n",
"Eg = (2*k*((1/373)-(1/293))^(-1)*log((d20/d100)*(373/293)^(3/2)));//Band gap in joules.\n",
"printf('\nBand gap of semiconductor in joules is %3.3e J',Eg);\n",
"Eg = Eg/(1.6*10^(-19));//band gap in eV.\n",
"printf('\nBand gap of semiconductor in eV is %.4f eV',Eg);"
   ]
   }
,
{
		   "cell_type": "markdown",
		   "metadata": {},
		   "source": [
			"## Example 9.3: Hall_voltage.sce"
		   ]
		  },
  {
"cell_type": "code",
	   "execution_count": null,
	   "metadata": {
	    "collapsed": true
	   },
	   "outputs": [],
"source": [
"\n",
"//Example No.9.3.\n",
"//Page No.267.\n",
"clc;clear;\n",
"B = 0.5;//Magnetic field -[Wb/m^2].\n",
"I = 10^(-2);//Current -[A].\n",
"l = 100;//Length -[mm].\n",
"d = 1;//Thickness -[mm].\n",
"Rh = 3.66*10^(-4);//Hall coefficient -[m^3/C].\n",
"w = 10*10^(-3);//Breadth -[mm].\n",
"Vh = ((B*I*Rh)/w);//Hall voltage.\n",
"printf('\nThe Hall voltage is %3.3e V',Vh);"
   ]
   }
,
{
		   "cell_type": "markdown",
		   "metadata": {},
		   "source": [
			"## Example 9.4: Concentration_of_holes_and_electrons.sce"
		   ]
		  },
  {
"cell_type": "code",
	   "execution_count": null,
	   "metadata": {
	    "collapsed": true
	   },
	   "outputs": [],
"source": [
"\n",
"//Example No.9.4.\n",
"//Page No.268.\n",
"clc;clear;\n",
"d = 3*10^(4);//Conductivity -[S/m].\n",
"e = 1.6*10^(-19);//Value of electron.\n",
"ue = 0.13;\n",
"uh = 0.05;\n",
"ni = 1.5*10^(16);\n",
"disp('For N-type semiconductor')\n",
"Nd = (d/(e*ue));\n",
"printf('\ni)The concentration of electron is %3.3e m^-3',Nd);\n",
"p = ((ni)^(2)/(Nd));\n",
"printf('\nii)The concentration of holes is %3.3e m^-3',p);\n",
"disp('For P-type semiconductor')\n",
"Na = (d/(e*uh));\n",
"printf('\ni)The concentration of holes is %3.3e m^-3',Na);\n",
"n = ((ni)^(2)/(Na));\n",
"printf('\nii)The concentration of electron is %3.3e m^-3',n);"
   ]
   }
,
{
		   "cell_type": "markdown",
		   "metadata": {},
		   "source": [
			"## Example 9.5: carrier_concentration_and_type_of_carrier.sce"
		   ]
		  },
  {
"cell_type": "code",
	   "execution_count": null,
	   "metadata": {
	    "collapsed": true
	   },
	   "outputs": [],
"source": [
"\n",
"//Example No.9.5.\n",
"//Page No.269.\n",
"//To calculate carrier concentration.\n",
"clc;clear;\n",
"Rh = 3.68*10^(-5);//Hall coefficient -[m^3/C].\n",
"e = 1.6*10^(-19);//Electron charge -[C].\n",
"disp('1)Since the hall voltage is negative,charge carriers of the semiconductors are electrons')\n",
"n = ((3*%pi)/(8*Rh*e));//Carrier concentration.\n",
"printf('\n2)The carrier concentration is %3.3e m^-3',n);"
   ]
   }
,
{
		   "cell_type": "markdown",
		   "metadata": {},
		   "source": [
			"## Example 9.6: Intrinsic_carrier_densities.sce"
		   ]
		  },
  {
"cell_type": "code",
	   "execution_count": null,
	   "metadata": {
	    "collapsed": true
	   },
	   "outputs": [],
"source": [
"\n",
"//Example No.9.6.\n",
"//Page No.269.\n",
"clc;clear;\n",
"Eg1 = 0.36;//Energy gap of the first material -[eV].\n",
"Eg2 = 0.72//Energy gap of the second material -[eV].\n",
"me = 9.1*10^(-31);// -[kg].\n",
"A = 0.052;//'A'  is (2*k*T).\n",
"T = 300;//Temperature -[K].\n",
"a = -0.36;\n",
"b = 0.72;\n",
"N = (exp(a/A)*exp(b/A));//Ratio of intrinsic carrier densities of material A & B.\n",
"printf('\nThe ratio of intrinsic carrier densities of the materials A & B is %3.3e',N);\n",
"\n",
""
   ]
   }
,
{
		   "cell_type": "markdown",
		   "metadata": {},
		   "source": [
			"## Example 9.7: Mobility_of_electro.sce"
		   ]
		  },
  {
"cell_type": "code",
	   "execution_count": null,
	   "metadata": {
	    "collapsed": true
	   },
	   "outputs": [],
"source": [
"\n",
"//Example No.9.7.\n",
"//Page No.270.\n",
"//To find mobility of the electron.\n",
"clc;clear;\n",
"d = 112;//Conductivity -[ohm^-1 m^-1].\n",
"Nd = 2*10^(22);//Concentration of electrons -[m^-3].\n",
"e = 1.6*10^(-19);//Electron charge.\n",
"u = (d/(Nd*e));//Mobility of electrons.\n",
"printf('\nMobility of the electron is %.3f m^2 V^-1 s^-1',u);"
   ]
   }
,
{
		   "cell_type": "markdown",
		   "metadata": {},
		   "source": [
			"## Example 9.8: hall_voltage.sce"
		   ]
		  },
  {
"cell_type": "code",
	   "execution_count": null,
	   "metadata": {
	    "collapsed": true
	   },
	   "outputs": [],
"source": [
"\n",
"//Example No.9.8.\n",
"//Page No.270.\n",
"clc;clear;\n",
"Bz = 10*10^(-4);//Magnetic field -[Wb/m^2].\n",
"I = 1;//Current -[A].\n",
"W = 500*10^(-6);//Thickness of the sample -[m].\n",
"n = 10^(16);//Donor concentration.\n",
"e = 1.6*10^(-19);//Electron charge.\n",
"VH = ((Bz*I*3*%pi)/(8*n*e*W));//Hall voltage in the sample.\n",
"printf('\nThe Hall voltage in the sample is %3.3e V',VH);"
   ]
   }
,
{
		   "cell_type": "markdown",
		   "metadata": {},
		   "source": [
			"## Example 9.9: Ratio_between_the_conductivity_of_the_material.sce"
		   ]
		  },
  {
"cell_type": "code",
	   "execution_count": null,
	   "metadata": {
	    "collapsed": true
	   },
	   "outputs": [],
"source": [
"\n",
"//Example No.9.9.\n",
"//Page No 271.\n",
"clc;clear;\n",
"Eg = 1.2*1.6*10^(-19);//Energy gap.\n",
"T1 = 300;//Temperature T1 -[K].\n",
"T2 = 600;//Temperature T2 -[K].\n",
"k = 1.38*10^(-23);//Boltzman's constant.\n",
"N = ((T2/T1)^(3/2))*exp((Eg/(2*k))*((1/T1)-(1/T2)))*10^(-3);//Ratio between  the conductivity of the material.\n",
"printf('\nRatio between  the conductivity of the material at 600 K and 300 K is %.2f',N);"
   ]
   }
],
"metadata": {
		  "kernelspec": {
		   "display_name": "Scilab",
		   "language": "scilab",
		   "name": "scilab"
		  },
		  "language_info": {
		   "file_extension": ".sce",
		   "help_links": [
			{
			 "text": "MetaKernel Magics",
			 "url": "https://github.com/calysto/metakernel/blob/master/metakernel/magics/README.md"
			}
		   ],
		   "mimetype": "text/x-octave",
		   "name": "scilab",
		   "version": "0.7.1"
		  }
		 },
		 "nbformat": 4,
		 "nbformat_minor": 0
}
