{
"cells": [
 {
		   "cell_type": "markdown",
	   "metadata": {},
	   "source": [
       "# Chapter 7: Crystal imperfection"
	   ]
	},
{
		   "cell_type": "markdown",
		   "metadata": {},
		   "source": [
			"## Example 7.1: Number_of_vacancies_and_vacancy_fraction.sce"
		   ]
		  },
  {
"cell_type": "code",
	   "execution_count": null,
	   "metadata": {
	    "collapsed": true
	   },
	   "outputs": [],
"source": [
"\n",
"\n",
"//Example No.7.1\n",
"//Page No.207\n",
"//To find number of vacancies.\n",
"clc;clear;\n",
"Av = 6.022*10^(26);//Avogadro's constant.\n",
"d = 18630;//Density.\n",
"Aw = 196.9;//Atomic weight -[g/mol].\n",
"k = 1.38*10^(-23);//Boltzman's constant.\n",
"T = 900;//Temperature.\n",
"Ev = 0.98*1.6*10^(-19);//Energy of formation.\n",
"N = ((Av*d)/Aw);//Concentration of atoms.\n",
"printf('\nConcentration of atoms = %3.3e m^-3',N);\n",
"n = N*exp(-(Ev)/(k*T));//'n' is number of vacancy.\n",
"printf('\nThe number of vacancies for gold at 900 degree celcius is %3.3e vacancies per m^3',n);\n",
"T1 = 1000;\n",
"Vf = exp((-Ev)/(k*T1));//p=(n/N) is the vacancy fraction.\n",
"printf('\nVacancy fraction = %3.3e',Vf);\n",
""
   ]
   }
,
{
		   "cell_type": "markdown",
		   "metadata": {},
		   "source": [
			"## Example 7.2: Energy_for_vacancy_information.sce"
		   ]
		  },
  {
"cell_type": "code",
	   "execution_count": null,
	   "metadata": {
	    "collapsed": true
	   },
	   "outputs": [],
"source": [
"\n",
"\n",
"//Example No.7.2\n",
"//Page No.208.\n",
"//To find energy for vacancy information.\n",
"clc;clear;\n",
"Av = 6.022*10^(26);//Avogadro's constant.\n",
"d = 9500;//Density.\n",
"Aw = 107.9;//Atomic weight -[g/mol].\n",
"k = 1.38*10^(-23);//Boltzman's constant.\n",
"T = 1073;//Temperature -[K]\n",
"n = 3.6*10^(23);//Number of vacancies -[per m^3].\n",
"N = ((Av*d)/Aw);//Concentration of atoms.\n",
"printf('\nConcentration of atoms is %3.3e m^-3',N);\n",
"Ev = k*T*log(N/n);\n",
"printf('\nThe energy for vacancy formation in joules is %3.3e J',Ev);\n",
"Ev = Ev/1.6*10^(19);\n",
"printf('\nThe energy for vacancy formation in eV is %3.3e eV',Ev);"
   ]
   }
,
{
		   "cell_type": "markdown",
		   "metadata": {},
		   "source": [
			"## Example 7.3: number_of_schottky_defected.sce"
		   ]
		  },
  {
"cell_type": "code",
	   "execution_count": null,
	   "metadata": {
	    "collapsed": true
	   },
	   "outputs": [],
"source": [
"\n",
"\n",
"//Example No.7.3\n",
"//Page No.209.\n",
"//To find number of Schottky defected.\n",
"clc;clear;\n",
"Av = 6.022*10^(26);//Avogadro's constant.\n",
"d = 1955;//Density.\n",
"Aw = (39.1+35.45);//Atomic weight.\n",
"k = 1.38*10^(-23);//Boltzman's constant.\n",
"T = 773;//Temperature -[K]\n",
"Es = 2.6*1.6*10^(-19);//Energy formation.\n",
"N = ((Av*d)/Aw);//Concentration of atoms.\n",
"printf('\nConcentration of atoms is %3.3e m^-3',N);\n",
"n = N*exp(-(Es)/(2*k*T));\n",
"printf('\nThe number of Schottky defect for KCl at 500 degree celcius is %3.3e Schottky defect per m^-3',n);\n",
""
   ]
   }
],
"metadata": {
		  "kernelspec": {
		   "display_name": "Scilab",
		   "language": "scilab",
		   "name": "scilab"
		  },
		  "language_info": {
		   "file_extension": ".sce",
		   "help_links": [
			{
			 "text": "MetaKernel Magics",
			 "url": "https://github.com/calysto/metakernel/blob/master/metakernel/magics/README.md"
			}
		   ],
		   "mimetype": "text/x-octave",
		   "name": "scilab",
		   "version": "0.7.1"
		  }
		 },
		 "nbformat": 4,
		 "nbformat_minor": 0
}
