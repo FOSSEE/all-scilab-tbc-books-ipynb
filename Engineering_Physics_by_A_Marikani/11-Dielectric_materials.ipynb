{
"cells": [
 {
		   "cell_type": "markdown",
	   "metadata": {},
	   "source": [
       "# Chapter 11: Dielectric materials"
	   ]
	},
{
		   "cell_type": "markdown",
		   "metadata": {},
		   "source": [
			"## Example 11.1: Dielectric_constant.sce"
		   ]
		  },
  {
"cell_type": "code",
	   "execution_count": null,
	   "metadata": {
	    "collapsed": true
	   },
	   "outputs": [],
"source": [
"\n",
"//Example NO.11.1\n",
"//Page No.335\n",
"//To find dielectric constant of the material \n",
"clc;clear;\n",
"C = (10^-9);//Capacitance -[F].\n",
"d = (2*10^-3);//Distance of separation -[m].\n",
"E0 = (8.854*10^-12);\n",
"A = (10^-4);//Area of capacitor -[m^2]\n",
"Er = ((C*d)/(E0*A));//Dielectric constant.\n",
"printf('\nThe dielectric constant of the material is %.2f',Er);"
   ]
   }
,
{
		   "cell_type": "markdown",
		   "metadata": {},
		   "source": [
			"## Example 11.2: Electronic_polarizability.sce"
		   ]
		  },
  {
"cell_type": "code",
	   "execution_count": null,
	   "metadata": {
	    "collapsed": true
	   },
	   "outputs": [],
"source": [
"\n",
"//Example NO.11.2\n",
"//Page No.335\n",
"//To find electronic polarizability of He gas.\n",
"clc;clear;\n",
"E0 = (8.854*10^-12);\n",
"Er = (1.0000684);//Dielectric constant of He-gas\n",
"N = (2.7*10^25);//Concentration of dipoles -[per m^3].\n",
"P = (E0*(Er-1));\n",
"a = (P/(N));\n",
"a = (P/(2.7*10^25));//Electronic polarizability.\n",
"printf('\nElectronic polarizability of He gas is %3.3e F m^2',a);"
   ]
   }
,
{
		   "cell_type": "markdown",
		   "metadata": {},
		   "source": [
			"## Example 11.3: Polarizatio.sce"
		   ]
		  },
  {
"cell_type": "code",
	   "execution_count": null,
	   "metadata": {
	    "collapsed": true
	   },
	   "outputs": [],
"source": [
"\n",
"\n",
"//Example NO.11.3\n",
"//Page No.336\n",
"clc;clear;\n",
"E0 = (8.854*10^-12);\n",
"Er = (6);//Dielectric constant.\n",
"E = 100;//Electric field intensity -[V/m].\n",
"P = (E0*(Er-1)*E);//Polarization.\n",
"printf('\nPolarization produced in a dielectric medium is %3.3e C/m^2',P);"
   ]
   }
,
{
		   "cell_type": "markdown",
		   "metadata": {},
		   "source": [
			"## Example 11.4: Electronic_polarizability.sce"
		   ]
		  },
  {
"cell_type": "code",
	   "execution_count": null,
	   "metadata": {
	    "collapsed": true
	   },
	   "outputs": [],
"source": [
"\n",
"\n",
"//Example NO.11.4\n",
"//Page No.336\n",
"clc;clear;\n",
"E0 = (8.854*10^-12);\n",
"R = (0.158*10^-9);//Radius of neon -[m].\n",
"a = (4*%pi*E0*R^3);//Electronic polarizability.\n",
"printf('\nElectronic polarizability of neon is %3.3e F m^2',a);"
   ]
   }
,
{
		   "cell_type": "markdown",
		   "metadata": {},
		   "source": [
			"## Example 11.5: Area_of_metal_sheet_required.sce"
		   ]
		  },
  {
"cell_type": "code",
	   "execution_count": null,
	   "metadata": {
	    "collapsed": true
	   },
	   "outputs": [],
"source": [
"\n",
"//Example NO.11.5\n",
"//Page No.336\n",
"clc;clear;\n",
"E0 = (8.854*10^-12);// [C^2/N.m^2].\n",
"Er = 6;//Dielectric constant.\n",
"C = (0.02*10^-6);//Capacitance -[F].\n",
"d = (0.002*10^-2);//Thickness of mica -[m].\n",
"A = ((C*d)/(E0*Er));//Area of the metal sheet.\n",
"printf('\nArea of the metal sheet required is %3.3e m^2',A);"
   ]
   }
,
{
		   "cell_type": "markdown",
		   "metadata": {},
		   "source": [
			"## Example 11.6: Relative_permittivity_of_the_crystal.sce"
		   ]
		  },
  {
"cell_type": "code",
	   "execution_count": null,
	   "metadata": {
	    "collapsed": true
	   },
	   "outputs": [],
"source": [
"\n",
"//Example NO.11.6\n",
"//Page No.337\n",
"clc;clear;\n",
"E0 = (8.854*10^-12);\n",
"P = (4.3*10^-8);//polarization -[C/m^2].\n",
"E = 1000;//Electric field -[V/m].\n",
"Er = ((P/(E0*E))+1);//Relative permittivity of the crystal.\n",
"printf('\nRelative permittivity of the crystal is %.3f',Er);\n",
"\n",
"//Last statement of this numerical is wrong in the textbook.Here we have to find relative permittivity of the crystal and not the dielectric constant.//"
   ]
   }
,
{
		   "cell_type": "markdown",
		   "metadata": {},
		   "source": [
			"## Example 11.7: Polarizability_of_the_material.sce"
		   ]
		  },
  {
"cell_type": "code",
	   "execution_count": null,
	   "metadata": {
	    "collapsed": true
	   },
	   "outputs": [],
"source": [
"\n",
"//Example NO.11.7\n",
"//Page No.337\n",
"clc;clear;\n",
"E0 = (8.854*10^-12);\n",
"x = (4.94);//Relative suceptibility.\n",
"N = (10^28);//Number of dipoles per unit volume [per m^3].\n",
"a = ((E0*x)/N);//Polarizability of the material\n",
"printf('\nPolarizability of the material is %3.3e F m^-2',a);"
   ]
   }
],
"metadata": {
		  "kernelspec": {
		   "display_name": "Scilab",
		   "language": "scilab",
		   "name": "scilab"
		  },
		  "language_info": {
		   "file_extension": ".sce",
		   "help_links": [
			{
			 "text": "MetaKernel Magics",
			 "url": "https://github.com/calysto/metakernel/blob/master/metakernel/magics/README.md"
			}
		   ],
		   "mimetype": "text/x-octave",
		   "name": "scilab",
		   "version": "0.7.1"
		  }
		 },
		 "nbformat": 4,
		 "nbformat_minor": 0
}
