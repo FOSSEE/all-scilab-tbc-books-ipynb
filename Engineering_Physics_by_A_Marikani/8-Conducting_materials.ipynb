{
"cells": [
 {
		   "cell_type": "markdown",
	   "metadata": {},
	   "source": [
       "# Chapter 8: Conducting materials"
	   ]
	},
{
		   "cell_type": "markdown",
		   "metadata": {},
		   "source": [
			"## Example 8.10: Lorentz_number.sce"
		   ]
		  },
  {
"cell_type": "code",
	   "execution_count": null,
	   "metadata": {
	    "collapsed": true
	   },
	   "outputs": [],
"source": [
"\n",
"//Example No.8.10.\n",
"//Page No.234.\n",
"clc;clear;\n",
"K = 387;//Thermal conductivity of copper -[W m^-1 K^-1].\n",
"d = 5.82*10^(7);//Electrical conductivity of copper -[ohm^-1 m^-1].\n",
"T = 300;//Temperature -[K].\n",
"L = (K/(d*T));\n",
"printf('\nThe Lorentz number is %3.3e W ohm K^-2',L);"
   ]
   }
,
{
		   "cell_type": "markdown",
		   "metadata": {},
		   "source": [
			"## Example 8.11: conductivity_and_Larentz_number.sce"
		   ]
		  },
  {
"cell_type": "code",
	   "execution_count": null,
	   "metadata": {
	    "collapsed": true
	   },
	   "outputs": [],
"source": [
"\n",
"//Example No.8.11.\n",
"//Page No.235.\n",
"clc;clear;\n",
"n = 8.49*10^(28);//Concentration of electrons in copper -[m^-3].\n",
"e = 1.6*10^(-19);//Value of electron.\n",
"Tr = 2.44*10^(-14);//Relaxation time of electron -[s]\n",
"m = 9.1*10^(-31);//mass of electron.\n",
"k = 1.38*10^(-23);//Boltzman's constant.\n",
"T = 293;//Temperature -[K].\n",
"d = ((n*e^(2)*Tr)/(m));\n",
"printf('\n1)The electrical conductivity is %3.3e per ohm meter',d);\n",
"K = ((n*(%pi)^(2)*k^(2)*T*Tr)/(3*m));\n",
"printf('\n 2)The thermal conductivity is %.2f W m^-1.K^-1',K);\n",
"L = K/(d*T);\n",
"printf('\n3)The Lorentz number is %3.3e W ohm K^-2',L);"
   ]
   }
,
{
		   "cell_type": "markdown",
		   "metadata": {},
		   "source": [
			"## Example 8.1: Resistivity_of_sodium.sce"
		   ]
		  },
  {
"cell_type": "code",
	   "execution_count": null,
	   "metadata": {
	    "collapsed": true
	   },
	   "outputs": [],
"source": [
"\n",
"//Example No.8.1\n",
"//Page No.231.\n",
"clc;clear;\n",
"m = 9.1*10^(-31);//mass\n",
"n = 2.533*10^(28);//concentration of electrons -[per m^3]\n",
"e = 1.6*10^(-19);//Value of electron.\n",
"Tr = 3.1*10^(-14);//Relaxation time -[s].\n",
"d = m/(n*e^(2)*Tr);//The resistivity of sodium at 0 degree celcius.\n",
"printf('\nThe resistivity of sodium at 0 degree celcius is %3.3e ohm m',d);"
   ]
   }
,
{
		   "cell_type": "markdown",
		   "metadata": {},
		   "source": [
			"## Example 8.2: Band_gap.sce"
		   ]
		  },
  {
"cell_type": "code",
	   "execution_count": null,
	   "metadata": {
	    "collapsed": true
	   },
	   "outputs": [],
"source": [
"\n",
"//Example No.8.2.\n",
"//Page No.231.\n",
"clc;clear;\n",
"k = 1.38*10^(-23);//Boltzman's constant.\n",
"slope = 3.75*10^(3);\n",
"Eg = ((2*k)*slope)/(1.6*10^(-19));//The band gap of the semiconductor.\n",
"printf('\nThe band gap of the semiconductor is %.3f eV',Eg);"
   ]
   }
,
{
		   "cell_type": "markdown",
		   "metadata": {},
		   "source": [
			"## Example 8.3: Probability_of_electro.sce"
		   ]
		  },
  {
"cell_type": "code",
	   "execution_count": null,
	   "metadata": {
	    "collapsed": true
	   },
	   "outputs": [],
"source": [
"\n",
"//Example No.8.3.\n",
"//Page No.231.\n",
"clc;clear;\n",
"T = 1262;//Temperature -[K].\n",
"k = 1.38*10^(-23);//Boltzman's constant.\n",
"E = 0.5*1.6*10^(-19);//Here E= E-Ef.\n",
"f = 1/(1+exp(E/(k*T)));//'f' is the probability  of occupation of electron at 989 degree celcius.\n",
"printf('\nThe probability  of occupation of electron at 989 degree celcius is %.2f',f);"
   ]
   }
,
{
		   "cell_type": "markdown",
		   "metadata": {},
		   "source": [
			"## Example 8.4: Drift_velocity.sce"
		   ]
		  },
  {
"cell_type": "code",
	   "execution_count": null,
	   "metadata": {
	    "collapsed": true
	   },
	   "outputs": [],
"source": [
"//Example No.8.4.\n",
"//Page No.232.\n",
"clc;clear;\n",
"ue = 0.0035*10^(3);// mobility of electron\n",
"E = 0.5;//Electric field strength\n",
"vd = ue*E;\n",
"printf('\nThe drift velocity of the electron is %.2f m/s',vd);\n",
""
   ]
   }
,
{
		   "cell_type": "markdown",
		   "metadata": {},
		   "source": [
			"## Example 8.5: mobility_of_electro.sce"
		   ]
		  },
  {
"cell_type": "code",
	   "execution_count": null,
	   "metadata": {
	    "collapsed": true
	   },
	   "outputs": [],
"source": [
"//Example No.8.6.\n",
"//Page No.232.\n",
"clc;clear;\n",
"n = 18.1*10^(28);\n",
"h = 6.62*10^(-34);//Planck's constant.\n",
"m = 9.1*10^(-31);//mass\n",
"Efo = (h^(2)/(8*m))*(((3*n)/(%pi))^(2/3));//The fermi energy level at 0 k.\n",
"printf('\nThe Fermi energy of Al at 0 k in joules is %3.3e J',Efo);\n",
"Efo = (Efo/(1.6*10^(-19)));\n",
"printf('\nThe Fermi energy of Al at 0 k in eV is %3.3e eV',Efo);"
   ]
   }
,
{
		   "cell_type": "markdown",
		   "metadata": {},
		   "source": [
			"## Example 8.6: Fermi_energy_level.sce"
		   ]
		  },
  {
"cell_type": "code",
	   "execution_count": null,
	   "metadata": {
	    "collapsed": true
	   },
	   "outputs": [],
"source": [
"\n",
"//Example No.8.6.\n",
"//Page No.232.\n",
"clc;clear;\n",
"n = 18.1*10^(28);\n",
"h = 6.62*10^(-34);//Planck's constant.\n",
"m = 9.1*10^(-31);//mass of electron\n",
"Efo = (h^(2)/(8*m))*(((3*n)/(%pi))^(2/3));//The fermi energy level at 0 k.\n",
"printf('\nFermi energy of Al at 0 k in joules = %3.3e J',Efo);\n",
"Efo = (Efo/(1.6*10^(-19)));\n",
"printf('\nFermi energy of Al at 0 k in eV = %.2fe eV',Efo);"
   ]
   }
,
{
		   "cell_type": "markdown",
		   "metadata": {},
		   "source": [
			"## Example 8.7: concentration_of_electrons.sce"
		   ]
		  },
  {
"cell_type": "code",
	   "execution_count": null,
	   "metadata": {
	    "collapsed": true
	   },
	   "outputs": [],
"source": [
"//Example No.8.7.\n",
"//Page No.233.\n",
"clc;clear;\n",
"h = 6.62*10^(-34);//Planck's constant -[J s].\n",
"m = 9.1*10^(-31);//mass -[kg].\n",
"Efo = 5.5*1.6*10^(-19);//Fermi energy.\n",
"n = ((2*m*Efo)^(3/2))*(8*(%pi))/(3*(h^(3)));\n",
"printf('\nThe concentration of free electrons per unit volume of silver is %3.3e m^-3',n);"
   ]
   }
,
{
		   "cell_type": "markdown",
		   "metadata": {},
		   "source": [
			"## Example 8.8: probability_of_electro.sce"
		   ]
		  },
  {
"cell_type": "code",
	   "execution_count": null,
	   "metadata": {
	    "collapsed": true
	   },
	   "outputs": [],
"source": [
"//Example No.8.8.\n",
"//Page No.233.\n",
"clc;clear;\n",
"T = 298;//Temperature -[K].\n",
"k = 1.38*10^(-23);//Boltzman's constant.\n",
"Eg = 1.07*1.6*10^(-19);//Here E= E-Eg.\n",
"f = 1/(1+exp(Eg/(2*k*T)));//probability of an electron to the conduction band at 25 degree celcius.\n",
"printf('\nThe probability of an electron thermlly excited to the conduction band at 25 degree celcius is %3.3e',f);"
   ]
   }
,
{
		   "cell_type": "markdown",
		   "metadata": {},
		   "source": [
			"## Example 8.9: fermi_energy_and_fermi_temperature.sce"
		   ]
		  },
  {
"cell_type": "code",
	   "execution_count": null,
	   "metadata": {
	    "collapsed": true
	   },
	   "outputs": [],
"source": [
"\n",
"//Example No.8.9.\n",
"//Page No.234.\n",
"clc;clear;\n",
"m = 9.1*10^(-31);//mass of electron.\n",
"k = 1.38*10^(-23);//Boltzman's constant.\n",
"vf = 0.86*10^(6);//Fermi velocity -[m s^-1].\n",
"Ef = 0.5*m*vf^(2);//Fermi energy \n",
"printf('\nThe Fermi energy of the metal in joules is %3.3e J',Ef);\n",
"Ef = Ef/(1.6*10^(-19));\n",
"printf('\nThe Fermi energy o the metal in eV is %.2f eV',Ef);\n",
"Tf = ((Ef)/k);//Fermi temperature.\n",
"Tf = ((3.365*10^(-19))/k);\n",
"printf('\nThe Fermi temperature of the metal is %3.3e K',Tf);"
   ]
   }
],
"metadata": {
		  "kernelspec": {
		   "display_name": "Scilab",
		   "language": "scilab",
		   "name": "scilab"
		  },
		  "language_info": {
		   "file_extension": ".sce",
		   "help_links": [
			{
			 "text": "MetaKernel Magics",
			 "url": "https://github.com/calysto/metakernel/blob/master/metakernel/magics/README.md"
			}
		   ],
		   "mimetype": "text/x-octave",
		   "name": "scilab",
		   "version": "0.7.1"
		  }
		 },
		 "nbformat": 4,
		 "nbformat_minor": 0
}
