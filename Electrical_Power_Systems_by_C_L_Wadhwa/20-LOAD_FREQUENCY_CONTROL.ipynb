{
"cells": [
 {
		   "cell_type": "markdown",
	   "metadata": {},
	   "source": [
       "# Chapter 20: LOAD FREQUENCY CONTROL"
	   ]
	},
{
		   "cell_type": "markdown",
		   "metadata": {},
		   "source": [
			"## Example 20.1: EX20_1.sce"
		   ]
		  },
  {
"cell_type": "code",
	   "execution_count": null,
	   "metadata": {
	    "collapsed": true
	   },
	   "outputs": [],
"source": [
"//Determine the load taken by the set C and indicate the direction in which the energy is flowing\n",
"clear \n",
"clc;\n",
"//let x MW flows from A to B\n",
"//Load on station A=75+x\n",
"//%drop in speed =5*(75+x)/200\n",
"//load on station B =(30-x)\n",
"//%drp in speed=(30-x)*4/75\n",
"x=(1.6-1.875)/(.025+.12+.0533);//by manipulating equation : 5*(75+x)/200 + 3*x/25 =(30-x)*4/75 \n",
"mprintf('x=%.2f MW\n',x);\n",
"mprintf('which means power of magnitude %.2f MW will be from B to A',abs(x));"
   ]
   }
,
{
		   "cell_type": "markdown",
		   "metadata": {},
		   "source": [
			"## Example 20.2: Determine_the_load_shared_by_each_machine.sce"
		   ]
		  },
  {
"cell_type": "code",
	   "execution_count": null,
	   "metadata": {
	    "collapsed": true
	   },
	   "outputs": [],
"source": [
"// Determine the load shared by each machine .\n",
"clear\n",
"clc;\n",
"//Let x be the power supplied by 110 MW unit\n",
"// the percent drop in speed = 5x/110\n",
"x=(250*11)/(21+11);// by manipulating equation : 5x/110=5x(250-x)/210\n",
"P=250-x;//Power shared by 210 MW unit \n",
"mprintf('Power supplied by 210 MW unit = %.2f MW \n',P);"
   ]
   }
,
{
		   "cell_type": "markdown",
		   "metadata": {},
		   "source": [
			"## Example 20.3: EX20_3.sce"
		   ]
		  },
  {
"cell_type": "code",
	   "execution_count": null,
	   "metadata": {
	    "collapsed": true
	   },
	   "outputs": [],
"source": [
"// Determine the frequency to which the generated voltage drops before the steam flow commences to increase to meet the new load\n",
"clear \n",
"clc;\n",
"E=4.5*100;//Energy stored at no load(MJ)\n",
"E1=25*.6;//Energy lost by rotor(MJ)\n",
"fnew=sqrt((E-E1)/E)*50;\n",
"mprintf('new frequency will be %.2f Hz',fnew);"
   ]
   }
],
"metadata": {
		  "kernelspec": {
		   "display_name": "Scilab",
		   "language": "scilab",
		   "name": "scilab"
		  },
		  "language_info": {
		   "file_extension": ".sce",
		   "help_links": [
			{
			 "text": "MetaKernel Magics",
			 "url": "https://github.com/calysto/metakernel/blob/master/metakernel/magics/README.md"
			}
		   ],
		   "mimetype": "text/x-octave",
		   "name": "scilab",
		   "version": "0.7.1"
		  }
		 },
		 "nbformat": 4,
		 "nbformat_minor": 0
}
