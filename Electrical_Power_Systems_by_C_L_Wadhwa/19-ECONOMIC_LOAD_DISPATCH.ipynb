{
"cells": [
 {
		   "cell_type": "markdown",
	   "metadata": {},
	   "source": [
       "# Chapter 19: ECONOMIC LOAD DISPATCH"
	   ]
	},
{
		   "cell_type": "markdown",
		   "metadata": {},
		   "source": [
			"## Example 19.1: EX19_1.sce"
		   ]
		  },
  {
"cell_type": "code",
	   "execution_count": null,
	   "metadata": {
	    "collapsed": true
	   },
	   "outputs": [],
"source": [
"// To Determine the economic operating schedule and the corresponding cost of generation.(b)Determine the savings obtained by loading the units.\n",
"clear \n",
"clc;\n",
"//dF1/dP1=.4*P1+40 per MWhr\n",
"//dF2/dP2=.5*P1+30 per MWhr\n",
"mprintf('two equations are :\n');\n",
"mprintf('%.1f P1 %.1f P2 = %.1f\n',.4,-.5,-10);\n",
"mprintf('%.1f P1+ %.1fP2 = %.1f\n',1,1,180);\n",
"A=[.4 -.5;1 1];\n",
"B=[-10;180];\n",
"P=(inv(A))*B;\n",
"P1=P(1,1);\n",
"P2=P(2,1);\n",
"F1=.2*(P1)^2 +40*P1+120;\n",
"F2=.25*(P2)^2+30*P2+150;\n",
"Total=F1+F2;//Total cost\n",
"mprintf('(a)Cost of Generation=Rs %.2f /hr\n',Total);\n",
"P1=90;\n",
"P2=90;\n",
"F1=.2*(P1)^2 +40*P1+120;\n",
"F2=.25*(P2)^2+30*P2+150;\n",
"Total2=F1+F2;//Total cost\n",
"savings=Total2-Total\n",
"mprintf('(b)Savings=Rs %.2f /hr\n',savings)"
   ]
   }
,
{
		   "cell_type": "markdown",
		   "metadata": {},
		   "source": [
			"## Example 19.2: Determine_the_incremental_cost_of_recieved_power_and_penalty_factor_of_the_plant.sce"
		   ]
		  },
  {
"cell_type": "code",
	   "execution_count": null,
	   "metadata": {
	    "collapsed": true
	   },
	   "outputs": [],
"source": [
"//Determine the incremental cost of recieved power and penalty factor of the plant\n",
"clear \n",
"clc;\n",
"pf=10/8;//penalty factor\n",
"cost=(.1*10+3)*pf;//Cost of recieved power=dF1/dP1\n",
"mprintf('Penalty Factor=%.1f\n',pf);\n",
"mprintf('Cost of recieved Power=Rs %.1f /MWhr',cost);"
   ]
   }
,
{
		   "cell_type": "markdown",
		   "metadata": {},
		   "source": [
			"## Example 19.4: Determine_the_minimum_cost_of_generation.sce"
		   ]
		  },
  {
"cell_type": "code",
	   "execution_count": null,
	   "metadata": {
	    "collapsed": true
	   },
	   "outputs": [],
"source": [
"//Determine the minimum cost of generation .\n",
"clear \n",
"clc;\n",
"//dF1/dP1=.048*P1+8\n",
"//dF2/dP2=.08*P1+6\n",
"mprintf('two equations are :\n');\n",
"mprintf('%.3f P1 %.2f P2 = %.1f\n',.048,-.08,-2);\n",
"mprintf('%.1f P1+ %.1fP2 = %.1f\n',1,1,50);\n",
"A=[.048 -.08;1 1];\n",
"B=[-2;50];\n",
"P=(inv(A))*B;\n",
"P1=P(1,1);\n",
"P2=P(2,1);\n",
"F1=(.024*(P1)^2 +8*P1+80)*(10^6);\n",
"F2=(.04*(P2)^2+6*P2+120)*(10^6);\n",
"mprintf('when load is 150MW , equations are: :\n');\n",
"mprintf('%.3f P1 %.2f P2 = %.1f\n',.048,-.08,-2);\n",
"mprintf('%.1f P1+ %.1fP2 = %.1f\n',1,1,150);\n",
"A=[.048 -.08;1 1];\n",
"B=[-2;150];\n",
"P=(inv(A))*B;\n",
"P1=P(1,1);\n",
"P2=P(2,1);\n",
"f1=(.024*(P1)^2 +8*P1+80)*(10^6);\n",
"f2=(.04*(P2)^2+6*P2+120)*(10^6);\n",
"Total=(F1+F2+f1+f2)*12*2/(10^6);\n",
"mprintf('Total cost=Rs. %.2f',Total)"
   ]
   }
],
"metadata": {
		  "kernelspec": {
		   "display_name": "Scilab",
		   "language": "scilab",
		   "name": "scilab"
		  },
		  "language_info": {
		   "file_extension": ".sce",
		   "help_links": [
			{
			 "text": "MetaKernel Magics",
			 "url": "https://github.com/calysto/metakernel/blob/master/metakernel/magics/README.md"
			}
		   ],
		   "mimetype": "text/x-octave",
		   "name": "scilab",
		   "version": "0.7.1"
		  }
		 },
		 "nbformat": 4,
		 "nbformat_minor": 0
}
