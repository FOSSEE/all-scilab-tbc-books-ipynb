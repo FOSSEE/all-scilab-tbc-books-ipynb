{
"cells": [
 {
		   "cell_type": "markdown",
	   "metadata": {},
	   "source": [
       "# Chapter 14: PROTECTIVE RELAYS"
	   ]
	},
{
		   "cell_type": "markdown",
		   "metadata": {},
		   "source": [
			"## Example 14.10: To_determine_the_kneepoint_voltage_and_cross_section_of_core.sce"
		   ]
		  },
  {
"cell_type": "code",
	   "execution_count": null,
	   "metadata": {
	    "collapsed": true
	   },
	   "outputs": [],
"source": [
"// To determine the kneepoint voltage and cross section of core\n",
"clear \n",
"clc;\n",
"Ic=5*.25;// operating current(amp)\n",
"Vsec=5/1.25;// secondary voltage(V)\n",
"Bm=1.4;\n",
"f=50;\n",
"N=50;\n",
"V=15*Vsec;\n",
"A=60/(4.44*Bm*f*N);\n",
"mprintf(' the knee point must be slightly higher than =%.3f V\n',V);\n",
"mprintf('area of cross section=%.6f m_2\n',A);"
   ]
   }
,
{
		   "cell_type": "markdown",
		   "metadata": {},
		   "source": [
			"## Example 14.11: To_determine_the_VA_output_of_CT.sce"
		   ]
		  },
  {
"cell_type": "code",
	   "execution_count": null,
	   "metadata": {
	    "collapsed": true
	   },
	   "outputs": [],
"source": [
"// To determine the VA output of CT .\n",
"clear \n",
"clc;\n",
"o.p=5*5*(.1+.1) +5;\n",
"mprintf(' VA output of CT =%.0f VA\n ',o.p);"
   ]
   }
,
{
		   "cell_type": "markdown",
		   "metadata": {},
		   "source": [
			"## Example 14.1: To_determine_the_time_of_operation_of_relay.sce"
		   ]
		  },
  {
"cell_type": "code",
	   "execution_count": null,
	   "metadata": {
	    "collapsed": true
	   },
	   "outputs": [],
"source": [
"// To determine the time of operation of relay .\n",
"clear\n",
"clc;\n",
"If=4000;// fault current \n",
"I=5*1.25;// operating current of relay \n",
"CT=400/5;// CT ratio\n",
"PSM=If/(I*CT);// plug setting multiplier\n",
"mprintf('PSM=%.3f\n',PSM);\n",
"mprintf('operating time for PSM=8 is 3.2sec.\n');\n",
"mprintf('actual operating time = 1.92 sec.');"
   ]
   }
,
{
		   "cell_type": "markdown",
		   "metadata": {},
		   "source": [
			"## Example 14.2: To_determine_the_phase_shifting_network_to_be_used.sce"
		   ]
		  },
  {
"cell_type": "code",
	   "execution_count": null,
	   "metadata": {
	    "collapsed": true
	   },
	   "outputs": [],
"source": [
"// To determine the phase shifting network to be used.\n",
"clear\n",
"clc;\n",
"Z=1000*(cosd(60) + %i*sind(60));//impedence\n",
"X=tand(50)*1000*cosd(60);\n",
"Xl=1000*sind(60);\n",
"Xc=Xl-X;\n",
"C=1000000/(314*Xc);\n",
"//Answers don't match due to difference in rounding off of digits\n",
"disp(X,'X=');\n",
"disp(Xc,'Xc=');\n",
"disp(C,'C(micro farads)=');"
   ]
   }
,
{
		   "cell_type": "markdown",
		   "metadata": {},
		   "source": [
			"## Example 14.3: To_provide_time_current_grading.sce"
		   ]
		  },
  {
"cell_type": "code",
	   "execution_count": null,
	   "metadata": {
	    "collapsed": true
	   },
	   "outputs": [],
"source": [
"//To provide time current grading .\n",
"clear \n",
"clc;\n",
"Isec1=4000/40;// secondary current(amps)\n",
"PSM=100/5;// PSM if 100% setting is used\n",
"Isec2=4000/40;\n",
"PSM2=100/6.25;//PSM if setting used is 125%\n",
"TMSb=.72/2.5;\n",
"PSM1=5000/(6.25*40);\n",
"to=2.2;\n",
"tb=to*TMSb;\n",
"PSMa=5000/(6.25*80);\n",
"TMS=1.138/3;\n",
"PSMa1=6000/(6.25*80);\n",
"ta=(2.6*.379);\n",
"mprintf('Actual operating time of realy at b=%.3f sec. \n',tb);\n",
"mprintf('Actual operating time of realy at a=%.3f sec. \n',ta);"
   ]
   }
,
{
		   "cell_type": "markdown",
		   "metadata": {},
		   "source": [
			"## Example 14.4: EX14_4.sce"
		   ]
		  },
  {
"cell_type": "code",
	   "execution_count": null,
	   "metadata": {
	    "collapsed": true
	   },
	   "outputs": [],
"source": [
"// To determine the proportion of the winding which remains unprotected against earth fault.\n",
"clear\n",
"clc;\n",
"Vph=6600/(sqrt(3));\n",
"Ifull=5000/(sqrt(3)*6.6);\n",
"Ib=Ifull*.25;\n",
"x=Ib*800/Vph;\n",
"mprintf('percent of the winding remains unprotected=%.2f  \n',x);"
   ]
   }
,
{
		   "cell_type": "markdown",
		   "metadata": {},
		   "source": [
			"## Example 14.5: EX14_5.sce"
		   ]
		  },
  {
"cell_type": "code",
	   "execution_count": null,
	   "metadata": {
	    "collapsed": true
	   },
	   "outputs": [],
"source": [
"// To determine (i) % winding which remains unprotected (ii)min. value of earthing resistance required to protect 80% of winding \n",
"clear \n",
"clc;\n",
"Iph=10000/sqrt(3);// phase voltage of alternator(V)\n",
"x=1.8*100*10*1000/(5*Iph);\n",
"mprintf('(i) percent winding which remains unprotected=%.2f  \n',x);\n",
"Ip=Iph*.2;\n",
"R=1.8*1000/(5*Ip);\n",
"mprintf('(ii)minimum  value of earthing resistance required to protect 80 percent of winding =%.4f ohms \n',R)"
   ]
   }
,
{
		   "cell_type": "markdown",
		   "metadata": {},
		   "source": [
			"## Example 14.6: To_determine_whether_relay_will_operate_or_not.sce"
		   ]
		  },
  {
"cell_type": "code",
	   "execution_count": null,
	   "metadata": {
	    "collapsed": true
	   },
	   "outputs": [],
"source": [
"//To determine whether relay will operate or not.\n",
"clear \n",
"clc;\n",
"Ic=360-320;// the difference current (amp)\n",
"Io=40*5/400;\n",
"Avg=(360+320)/2;// average sum of two currents\n",
"Iavg=340*5/400;\n",
"Ioc=.1*Iavg + .2;\n",
"mprintf('operating current=%.3f amp. \n',Ioc);\n",
"mprintf('since current through  operating coil is %.3f amp. \n ',Io);\n",
"mprintf('therefore Relay will not operate ');"
   ]
   }
,
{
		   "cell_type": "markdown",
		   "metadata": {},
		   "source": [
			"## Example 14.7: To_determine_the_ratio_of_CT_on_HV_side.sce"
		   ]
		  },
  {
"cell_type": "code",
	   "execution_count": null,
	   "metadata": {
	    "collapsed": true
	   },
	   "outputs": [],
"source": [
"// To determine the ratio of CT on HV side\n",
"clear\n",
"clc;\n",
"Il=400*6.6/33;// line current on star side of PT(amps)\n",
"Ic=5/sqrt(3);// current in CT secondary \n",
"mprintf(' the CT ratio on HT will be %d : %.3f',Il,Ic);"
   ]
   }
,
{
		   "cell_type": "markdown",
		   "metadata": {},
		   "source": [
			"## Example 14.8: To_determine_the_number_of_turns_each_current_transformer_should_have.sce"
		   ]
		  },
  {
"cell_type": "code",
	   "execution_count": null,
	   "metadata": {
	    "collapsed": true
	   },
	   "outputs": [],
"source": [
"// To determine the number of turns each current transformer should have .\n",
"clear \n",
"clc;\n",
"Il=10000/((sqrt(3))*132);\n",
"ILV=10000/((sqrt(3))*6.6);\n",
"a=5/sqrt(3);\n",
"mprintf('ratio of CT on LV side is %.3f : %.3f\n',ILV,a);\n",
"mprintf('ratio of CT on HT side is %.3f : %d',Il,5);"
   ]
   }
,
{
		   "cell_type": "markdown",
		   "metadata": {},
		   "source": [
			"## Example 14.9: To_determine_the_R1_R2_and_C_also_The_potential_across_relays.sce"
		   ]
		  },
  {
"cell_type": "code",
	   "execution_count": null,
	   "metadata": {
	    "collapsed": true
	   },
	   "outputs": [],
"source": [
"//To determine the R1, R2 and C. also The potential across relays\n",
"clear \n",
"clc;\n",
"Vs=110;\n",
"I=1;\n",
"R2=Vs/((3-%i*sqrt(3))*I);\n",
"c=abs(R2);\n",
"mprintf('R2=%.2f ohms\n',c);\n",
"R1=2*c;\n",
"d=abs(R1);\n",
"C=(10^6)/(.866*d*314);\n",
"mprintf('R1=%.2f ohms\n',R1);\n",
"mprintf('C=%.1f micro farads\n',C);\n",
"Vt=d*(-.5 - %i*.866) + (c - %i*55 );\n",
"disp(Vt,' Voltage across the terminals of the relay will be (V)=');"
   ]
   }
],
"metadata": {
		  "kernelspec": {
		   "display_name": "Scilab",
		   "language": "scilab",
		   "name": "scilab"
		  },
		  "language_info": {
		   "file_extension": ".sce",
		   "help_links": [
			{
			 "text": "MetaKernel Magics",
			 "url": "https://github.com/calysto/metakernel/blob/master/metakernel/magics/README.md"
			}
		   ],
		   "mimetype": "text/x-octave",
		   "name": "scilab",
		   "version": "0.7.1"
		  }
		 },
		 "nbformat": 4,
		 "nbformat_minor": 0
}
