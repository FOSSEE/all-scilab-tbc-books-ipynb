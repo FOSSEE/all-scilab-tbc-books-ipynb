{
"cells": [
 {
		   "cell_type": "markdown",
	   "metadata": {},
	   "source": [
       "# Chapter 6: CORONA"
	   ]
	},
{
		   "cell_type": "markdown",
		   "metadata": {},
		   "source": [
			"## Example 6.1: EX6_1.sce"
		   ]
		  },
  {
"cell_type": "code",
	   "execution_count": null,
	   "metadata": {
	    "collapsed": true
	   },
	   "outputs": [],
"source": [
"//To determine the critical disruptive voltage and critical voltage for local and general corona.\n",
"clear\n",
"clc;\n",
"t=21;// air temperature\n",
"b=73.6;// air pressure\n",
"do=3.92*73.6/(273+t);\n",
"m=.85;\n",
"r=.52;\n",
"d=250;\n",
"Vd=21.1*m *do*r*log(250/.52);\n",
"vd=sqrt(3)*Vd;\n",
"m=.7;\n",
"vv=21.1*m*do*r*(1+ (.3/sqrt(r*do)))*log(250/.52);\n",
"Vv=vv*sqrt(3);\n",
"Vvg=Vv*.8/.7;\n",
"mprintf('critical disruptive line to line voltage=%.2f kV \n',vd);\n",
"mprintf('visual critical voltage for local corona=%.2f kV \n',vv);\n",
"mprintf('visual critical voltage for general corona=%.2f kV \n',Vvg);"
   ]
   }
,
{
		   "cell_type": "markdown",
		   "metadata": {},
		   "source": [
			"## Example 6.2: To_determine_whether_corona_will_be_present_in_the_air_space_round_the_conductor.sce"
		   ]
		  },
  {
"cell_type": "code",
	   "execution_count": null,
	   "metadata": {
	    "collapsed": true
	   },
	   "outputs": [],
"source": [
"// To determine whether corona will be present in the air space round the conductor\n",
"clear\n",
"clc;\n",
"d=2.5;\n",
"di=3;// internal diameter\n",
"do=9;// external diameter\n",
"ri=di/2;// internal radius\n",
"ro=do/2;// external diameter\n",
"g1max=20/(1.25*log(ri/(d/2))+ .208*1.5*log(ro/ri));\n",
"mprintf('g1max=%.0f kV/cm \n',g1max);\n",
"mprintf('Since the gradient exceeds 21.1/kV/cm , corona will be present.')"
   ]
   }
,
{
		   "cell_type": "markdown",
		   "metadata": {},
		   "source": [
			"## Example 6.3: To_determine_the_critical_disruptive_voltage_and_corona_loss.sce"
		   ]
		  },
  {
"cell_type": "code",
	   "execution_count": null,
	   "metadata": {
	    "collapsed": true
	   },
	   "outputs": [],
"source": [
"// To determine the critical disruptive voltage and corona loss \n",
"clear\n",
"clc;\n",
"m=1.07;\n",
"r=.625\n",
"V=21*m *r*log(305/.625);\n",
"Vl=V*sqrt(3);\n",
"mprintf('critical disruptive voltage=%.0f kV\n',V);\n",
"mprintf('since operating voltage is 110 kV , corona loss= 0 ');"
   ]
   }
,
{
		   "cell_type": "markdown",
		   "metadata": {},
		   "source": [
			"## Example 6.4: To_determine_the_voltage_for_which_corona_will_commence_on_the_line.sce"
		   ]
		  },
  {
"cell_type": "code",
	   "execution_count": null,
	   "metadata": {
	    "collapsed": true
	   },
	   "outputs": [],
"source": [
"//To determine the voltage for which corona will commence on the line\n",
"clear\n",
"clc;\n",
"r=.5;\n",
"V=21*r*log(100/.5);\n",
"mprintf('critical disruptive voltage=%.1f kV',V);"
   ]
   }
,
{
		   "cell_type": "markdown",
		   "metadata": {},
		   "source": [
			"## Example 6.5: To_determine_the_corona_characterstics.sce"
		   ]
		  },
  {
"cell_type": "code",
	   "execution_count": null,
	   "metadata": {
	    "collapsed": true
	   },
	   "outputs": [],
"source": [
"//To determine the corona characterstics\n",
"clear\n",
"clc;\n",
"D=1.036;// conductor diameter(cm)\n",
"d=2.44;//delta spacing(m)\n",
"r=D/2;//radius(cm)\n",
"Ratio=d*100/r;\n",
"j=r/(d*100);\n",
"Rat2=sqrt(j);\n",
"t=26.67;//temperature\n",
"b=73.15;// barometric pressure\n",
"mv=.72;\n",
"V=63.5;\n",
"f=50;//frequency\n",
"do=3.92*b/(273+t);//do=dell\n",
"vd=21.1*.85*do*r*log(Ratio);\n",
"mprintf('critical disruptive voltage=%.2f kV\n',vd);\n",
"Vv=21.1*mv*do*r*(1+ (.3/sqrt(r*do)))*log(Ratio);\n",
"Pl=241*(10^-5)*(f+25)*Rat2*((V-vd)^2)/do;//power loss\n",
"Vd=.8*vd;\n",
"Pl2=241*(10^-5)*(f+25)*Rat2*((V-Vd)^2)*160/do;//loss per phase /km\n",
"Total= 3*Pl2;\n",
"mprintf('visual critical voltage=%.0f kV\n',Vv);\n",
"mprintf('Power loss=%.3f kW/phase/km\n',Pl);\n",
"mprintf('under foul weather condition ,\n');\n",
"mprintf('critical disruptive voltage=%.2f kV\n',Vd);\n",
"mprintf('Total loss=%.0f kW\n',Total);"
   ]
   }
],
"metadata": {
		  "kernelspec": {
		   "display_name": "Scilab",
		   "language": "scilab",
		   "name": "scilab"
		  },
		  "language_info": {
		   "file_extension": ".sce",
		   "help_links": [
			{
			 "text": "MetaKernel Magics",
			 "url": "https://github.com/calysto/metakernel/blob/master/metakernel/magics/README.md"
			}
		   ],
		   "mimetype": "text/x-octave",
		   "name": "scilab",
		   "version": "0.7.1"
		  }
		 },
		 "nbformat": 4,
		 "nbformat_minor": 0
}
