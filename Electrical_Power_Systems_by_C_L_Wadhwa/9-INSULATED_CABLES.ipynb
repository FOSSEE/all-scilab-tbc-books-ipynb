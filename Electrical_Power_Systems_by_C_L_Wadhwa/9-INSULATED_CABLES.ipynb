{
"cells": [
 {
		   "cell_type": "markdown",
	   "metadata": {},
	   "source": [
       "# Chapter 9: INSULATED CABLES"
	   ]
	},
{
		   "cell_type": "markdown",
		   "metadata": {},
		   "source": [
			"## Example 9.1: To_determine_the_economic_overall_diameter_of_a_1core_cable_metal_sheathead.sce"
		   ]
		  },
  {
"cell_type": "code",
	   "execution_count": null,
	   "metadata": {
	    "collapsed": true
	   },
	   "outputs": [],
"source": [
"// To determine the economic overall diameter of a 1- core cable metal sheathead.\n",
"clear\n",
"clc;\n",
"V=85;// working voltage (kV)\n",
"gmax=65;// dielectric strength of insulating material (kV/cm)\n",
"r=V/gmax;\n",
"d=2*r;\n",
"D=2.6*%e;\n",
"mprintf('Diameter of the sheath =%.2f cm\n',D);"
   ]
   }
,
{
		   "cell_type": "markdown",
		   "metadata": {},
		   "source": [
			"## Example 9.2: To_determine_the_minimum_internal_diameter_of_the_lead_sheath.sce"
		   ]
		  },
  {
"cell_type": "code",
	   "execution_count": null,
	   "metadata": {
	    "collapsed": true
	   },
	   "outputs": [],
"source": [
"// To determine the minimum internal diameter of the lead sheath\n",
"clear\n",
"clc;\n",
"e1=4;\n",
"e2=4;\n",
"e3=2.5;\n",
"g1max=50;\n",
"g2max=40;\n",
"g3max=30;\n",
"r=.5;// radius (cm)\n",
"r1=r*e1*g1max/(e2*g2max);\n",
"r2=r1*e2*g2max/(e3*g3max);\n",
"V=66;\n",
"lnc=(V-((r*g1max*log(r1/r))+(r1*g2max*log(r2/r1))));\n",
"m=lnc/(r2*g3max);\n",
"R=r2*(%e^m);\n",
"D=2*R;\n",
"mprintf('minimum internal diameter of the lead sheath,D=%.2f cms\n',D);"
   ]
   }
,
{
		   "cell_type": "markdown",
		   "metadata": {},
		   "source": [
			"## Example 9.3: To_determine_the_maximum_safe_working_voltage.sce"
		   ]
		  },
  {
"cell_type": "code",
	   "execution_count": null,
	   "metadata": {
	    "collapsed": true
	   },
	   "outputs": [],
"source": [
"// To determine the maximum safe working voltage\n",
"clear\n",
"clc;\n",
"r=.5;//radius of conductor(cm)\n",
"g1max=34;\n",
"er=5;\n",
"r1=1;\n",
"R=7/2;//external dia(cm)\n",
"g2max=(r*g1max)/(er*r1);\n",
"V=((r*g1max*log(r1/r))+(r1*g2max*log(R/r1)));\n",
"V=V/(sqrt(2));\n",
"mprintf('Maximum safe working volltage ,V =%.2f kV r.m.s\n',V);"
   ]
   }
,
{
		   "cell_type": "markdown",
		   "metadata": {},
		   "source": [
			"## Example 9.4: To_determine_the_maximum_stresses_in_each_of_the_three_layers.sce"
		   ]
		  },
  {
"cell_type": "code",
	   "execution_count": null,
	   "metadata": {
	    "collapsed": true
	   },
	   "outputs": [],
"source": [
"//To determine the maximum stresses in each of the three layers .\n",
"clear\n",
"clc;\n",
"r=.9;\n",
"r1=1.25\n",
"r2=r1+.35;\n",
"r3=r2+.35;// radius of outermost layer\n",
"Vd=20;// voltage difference (kV)\n",
"g1max=Vd/(r*log(r1/r));\n",
"g2max=Vd/(r1*log(r2/r1));\n",
"g3max=(66-40)/(r2*log(r3/r2));\n",
"mprintf('g1max =%.1f kV/cm\n',g1max);\n",
"mprintf('g2max =%.2f kV/cm\n',g2max);\n",
"mprintf('g3max =%.0f kV/cm\n',g3max);"
   ]
   }
,
{
		   "cell_type": "markdown",
		   "metadata": {},
		   "source": [
			"## Example 9.5: o_dtermine_the_equivalent_star_connected_capacity_and_the_kVA_required.sce"
		   ]
		  },
  {
"cell_type": "code",
	   "execution_count": null,
	   "metadata": {
	    "collapsed": true
	   },
	   "outputs": [],
"source": [
"//To dtermine the equivalent star connected capacity and the kVA required.\n",
"clear\n",
"clc;\n",
"V=20;//voltage (kV)\n",
"w=314;\n",
"C=2*3.04*10^-6;//capacitance per phase(micro-farad)\n",
"KVA=V*V*w*C*1000;\n",
"mprintf('3-phase kVA required =%.0f kVA',KVA); //Answer don't match due to difference in rounding off of digits"
   ]
   }
,
{
		   "cell_type": "markdown",
		   "metadata": {},
		   "source": [
			"## Example 9.6: EX9_6.sce"
		   ]
		  },
  {
"cell_type": "code",
	   "execution_count": null,
	   "metadata": {
	    "collapsed": true
	   },
	   "outputs": [],
"source": [
"// Determine the capacitance (a)between any two conductors (b)between any two bunched conductors and the third conductor (c)Also calculate the charging current per phase per km\n",
"clear\n",
"clc;\n",
"C1=.208;\n",
"C2=.096;\n",
"Cx=3*C1;\n",
"w=314;\n",
"V=10;\n",
"Cy=(C1+ 2*C2);\n",
"Co=((1.5*Cy)-(Cx/6));\n",
"C=Co/2;\n",
"mprintf('(i)Capacitance between any two conductors=%.3f micro-Farad/km\n',C);\n",
"c=((2*C2 + ((2/3)*C1)));\n",
"mprintf('(ii)Capacitance between any two bunched conductors and the third conductor=%.2f micro-Farad/km\n',c);\n",
"I=V*w*Co*1000*(10^-6)/sqrt(3);\n",
"mprintf('(iii)the charging current per phase per km =%.3f A\n',I);"
   ]
   }
,
{
		   "cell_type": "markdown",
		   "metadata": {},
		   "source": [
			"## Example 9.7: To_calculate_the_induced_emf_in_each_sheath.sce"
		   ]
		  },
  {
"cell_type": "code",
	   "execution_count": null,
	   "metadata": {
	    "collapsed": true
	   },
	   "outputs": [],
"source": [
"// To calculate the induced emf in each sheath .\n",
"clear\n",
"clc;\n",
"rm=(2.28/2)-(.152/2);// mean radius of sheath (cm)\n",
"d=5.08;\n",
"a=d/rm;\n",
"w=314;\n",
"Xm=2*(10^-7)*log(a);// mutual inductance (H/m)\n",
"Xm2=2000*Xm;\n",
"V=w*Xm2*400;\n",
"mprintf('Voltage induced =%.2f volts \n',V);//Answer don't match exactly due to difference in rounding off of digits i between calculations"
   ]
   }
,
{
		   "cell_type": "markdown",
		   "metadata": {},
		   "source": [
			"## Example 9.8: To_determine_the_ratio_of_sheath_loss_to_core_loss_of_the_cable.sce"
		   ]
		  },
  {
"cell_type": "code",
	   "execution_count": null,
	   "metadata": {
	    "collapsed": true
	   },
	   "outputs": [],
"source": [
"//To determine the ratio of sheath loss to core loss of the cable\n",
"clear\n",
"clc;\n",
"R=2*.1625;\n",
"Rs=2*2.14;\n",
"M=314;\n",
"w=6.268*10^-4;\n",
"r=Rs*M*M*w*w/(R*((Rs^2)+(M*M*w*w)));\n",
"mprintf('ratio=%.4f \n',r);"
   ]
   }
],
"metadata": {
		  "kernelspec": {
		   "display_name": "Scilab",
		   "language": "scilab",
		   "name": "scilab"
		  },
		  "language_info": {
		   "file_extension": ".sce",
		   "help_links": [
			{
			 "text": "MetaKernel Magics",
			 "url": "https://github.com/calysto/metakernel/blob/master/metakernel/magics/README.md"
			}
		   ],
		   "mimetype": "text/x-octave",
		   "name": "scilab",
		   "version": "0.7.1"
		  }
		 },
		 "nbformat": 4,
		 "nbformat_minor": 0
}
