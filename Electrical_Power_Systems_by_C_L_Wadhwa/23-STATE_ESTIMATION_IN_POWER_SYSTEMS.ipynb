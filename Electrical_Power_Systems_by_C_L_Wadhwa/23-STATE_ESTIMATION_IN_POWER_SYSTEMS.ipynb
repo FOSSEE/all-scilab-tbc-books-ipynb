{
"cells": [
 {
		   "cell_type": "markdown",
	   "metadata": {},
	   "source": [
       "# Chapter 23: STATE ESTIMATION IN POWER SYSTEMS"
	   ]
	},
{
		   "cell_type": "markdown",
		   "metadata": {},
		   "source": [
			"## Example 23.1: To_determine_the_state_vector_at_the_end_of_first_iteration.sce"
		   ]
		  },
  {
"cell_type": "code",
	   "execution_count": null,
	   "metadata": {
	    "collapsed": true
	   },
	   "outputs": [],
"source": [
"// To determine the state vector at the end of first iteration\n",
"clear\n",
"clc;\n",
"C1=.02*100;\n",
"C2=.05;\n",
"Fs=100;\n",
"S1=.41 -%i*.11;\n",
"S2=-.4 +%i*.10;\n",
"S3=-.105 +%i*.11;\n",
"S4=-.105 +%i*.11;\n",
"S5=.14 -%i*.14;\n",
"S6=-.7 +%i*.35;\n",
"Z12=.08+%i*.24;\n",
"Z23=.06+%i*.18;\n",
"Z31=.02+%i*.06;\n",
"Z21=Z12;\n",
"Z32=Z23;\n",
"Z13=Z31;\n",
"W1=(50*10^(-6))/((C1*abs(S1)+(C2*(Fs)))^2);\n",
"W2=(50*10^(-6))/((C1*abs(S2)+C2*(Fs))^2);\n",
"W3=(50*10^(-6))/((C1*abs(S3)+C2*(Fs))^2);\n",
"W4=(50*10^(-6))/((C1*abs(S4)+C2*(Fs))^2);\n",
"W5=(50*10^(-6))/((C1*abs(S5)+C2*(Fs))^2);\n",
"W6=(50*10^(-6))/((C1*abs(S6)+C2*(Fs))^2);\n",
"disp(W1,'W1=');//Answers for W1,W2,W3,W4,W5,W6 in the book is wrongly Calculated\n",
"disp(W2,'W2=');\n",
"disp(W3,'W3=');\n",
"disp(W4,'W4=');\n",
"disp(W5,'W5=');\n",
"disp(W6,'W6=');\n",
"a1=W1/(abs(13)^2)\n",
"[D]=diag([W1/(abs(Z13)^2);W2/(abs(Z31)^2);W3/(abs(Z12)^2);W4/(abs(Z21)^2);W5/(abs(Z23)^2);W6/(abs(Z32)^2)]);\n",
"A=[-1 0 1;1 0 -1;1 -1 0;-1 1 0;0 1 -1;0 -1 1];\n",
"B=[-1 0;1 0;1 -1;-1 1;0 1;0 -1];\n",
"b=[1;-1;0;0;-1;1];\n",
"C=(B')*D;//Assuming Transpose(B)D=C\n",
"F=(B')*D*B;//Assuming Transpose(B)*D*B=F\n",
"G=(inv(F))*C;//Assuming(BTDB)-1*(BT)*D=F\n",
"E1=1.05;\n",
"E2=E1;\n",
"E3=E1;\n",
"invH=diag([Z31/E3;Z13/E1;Z12/E1;Z21/E2;Z23/E2;Z32/E2]);\n",
"Sm=[.41+%i*.11;-.4-%i*.1;-.105-%i*.11;.14+%i*.14;.72+%i*.37;-.7+%i*.35];\n",
"EMo=invH*Sm;\n",
"a=EMo-b*E1;\n",
"E=G*a;\n",
"disp(E,'E=');  //Answers differs due to wrong calculation of W1,W2,W3,W4,W5,W6\n",
""
   ]
   }
,
{
		   "cell_type": "markdown",
		   "metadata": {},
		   "source": [
			"## Example 23.2: Determine_The_States_of_the_systems_at_the_end_of_first_iteration.sce"
		   ]
		  },
  {
"cell_type": "code",
	   "execution_count": null,
	   "metadata": {
	    "collapsed": true
	   },
	   "outputs": [],
"source": [
"// Determine The States of the systems at the end of first iteration.\n",
"clear\n",
"clc\n",
"Qm1=-.24;\n",
"Qm2=-.24;\n",
"Qm3=.5;\n",
"do=0;\n",
"Pm1=.12;\n",
"Pm2=.21;\n",
"Pm3=-.30;\n",
"W1=3;\n",
"r1=W1;//assuming r1=Inverse(R1)\n",
"W2=5;\n",
"r2=W2;//assuming r2=Inverse(R1)\n",
"W3=2;\n",
"r3=W3;//assuming r3=Inverse(R1)\n",
"X12=%i*.03;\n",
"X13=%i*.01;\n",
"X23=%i*.02;\n",
"X21=X12;\n",
"X31=X13;\n",
"X32=X23;\n",
"Vo=[1.05;1.05];\n",
"H=[-1/.03 -1/.01;((1/.03)+(1/.02)) -1/.02;-1/.02 ((1/.01)+1/.02)];//assuming dh/dl=H\n",
"A1=[3327+34700+5000 9990-20825-15000;-25835 30000+12500+45000];\n",
"V=Vo+inv(A1)*(H')*(diag([W1;W2;W3]))*[Qm1;Qm2;Qm3];\n",
"d=do+inv(A1)*(H')*(diag([W1;W2;W3]))*[Pm1;Pm2;Pm3];//assuming d=dell matrix and do=intial matrix=0\n",
"disp(V,'V=');\n",
"disp(d,'d=');"
   ]
   }
,
{
		   "cell_type": "markdown",
		   "metadata": {},
		   "source": [
			"## Example 23.3: Problem_on_State_Estimator_Linear_Model.sce"
		   ]
		  },
  {
"cell_type": "code",
	   "execution_count": null,
	   "metadata": {
	    "collapsed": true
	   },
	   "outputs": [],
"source": [
"//Problem on State Estimator Linear Model\n",
"\n",
"clear\n",
"clc;\n",
"A=[-3.33 0;0 10;5 -5];\n",
"R=[10^-4 0 0;0 10^-4 0;0 0 10^-4];\n",
"O=inv(((A')*(inv(R))*(A)))*((A')*(inv(R))*[.12;.21;-.30]);//assuming theat matrix=0\n",
"f12=-3.33*(O(1,1));\n",
"f31=10*(O(2,1));\n",
"f23=5*(O(1,1)-O(2,1));\n",
"J=(((.12-f12)^2)+((.21-f31)^2)+((-.3-f23)^2))/(10^-4);\n",
"disp(O,'O=');//Answer does not match due to difference in rounding off of digits\n",
"disp(J,'J=');//Answer does not match due to difference in rounding off of digits\n",
""
   ]
   }
,
{
		   "cell_type": "markdown",
		   "metadata": {},
		   "source": [
			"## Example 23.4: Determine_theta1_Theta2.sce"
		   ]
		  },
  {
"cell_type": "code",
	   "execution_count": null,
	   "metadata": {
	    "collapsed": true
	   },
	   "outputs": [],
"source": [
"//Determine theta1 Theta2\n",
"clear\n",
"clc;\n",
"A=[5 -5;2.5 0;4 -4];\n",
"R=[10^-4 0 0;0 10^-4 0;0 0 10^-4];\n",
"O=inv(((A')*(inv(R))*(A)))*((A')*(inv(R))*[.60;.05;.35]);//assuming theat matrix=0\n",
"f12=5*(O(1,1)-O(2,1));\n",
"f13=2.5*(O(1,1));\n",
"f32=-4*(O(2,1));\n",
"J=(((.6-f12)^2)+((.05-f13)^2)+((.35-f32)^2))/(10^-4);\n",
"//Answer does not match due to difference in rounding off of digits\n",
"disp(O(1,1),'Theta1=');\n",
"disp(O(2,1),'Theta2=');\n",
""
   ]
   }
],
"metadata": {
		  "kernelspec": {
		   "display_name": "Scilab",
		   "language": "scilab",
		   "name": "scilab"
		  },
		  "language_info": {
		   "file_extension": ".sce",
		   "help_links": [
			{
			 "text": "MetaKernel Magics",
			 "url": "https://github.com/calysto/metakernel/blob/master/metakernel/magics/README.md"
			}
		   ],
		   "mimetype": "text/x-octave",
		   "name": "scilab",
		   "version": "0.7.1"
		  }
		 },
		 "nbformat": 4,
		 "nbformat_minor": 0
}
