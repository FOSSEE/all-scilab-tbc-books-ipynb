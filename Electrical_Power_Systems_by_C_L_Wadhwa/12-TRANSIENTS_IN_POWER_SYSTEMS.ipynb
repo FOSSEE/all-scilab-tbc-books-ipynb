{
"cells": [
 {
		   "cell_type": "markdown",
	   "metadata": {},
	   "source": [
       "# Chapter 12: TRANSIENTS IN POWER SYSTEMS"
	   ]
	},
{
		   "cell_type": "markdown",
		   "metadata": {},
		   "source": [
			"## Example 12.1: EX12_1.sce"
		   ]
		  },
  {
"cell_type": "code",
	   "execution_count": null,
	   "metadata": {
	    "collapsed": true
	   },
	   "outputs": [],
"source": [
"// To determine the (i)the neutral impedence of line (ii)line current (iii)rate of energy absorption , rate of reflection and state form of reflection (iv) terminating resistance (v)amount of reflected and transmitted power \n",
"clear\n",
"clc;\n",
"L=2*(10^-7)*log(100/.75);//inductance per unit length\n",
"C=2*%pi*(10^-9)/(36*%pi*log(100/.75));//Capacitance per phase per unit length (F/m)\n",
"Z1=sqrt(L/C);\n",
"E=11000;\n",
"mprintf('(i)the natural impedence of line=%.0f ohms\n',Z1);\n",
"Il=E/(sqrt(3)*Z1);//line current(amps)\n",
"mprintf('(ii)line current =%.1f amps\n',Il);\n",
"R=1000;\n",
"Z2=R;\n",
"E1=2*Z2*E/((Z1+Z2)*sqrt(3));\n",
"Pr=3*E1*E1/(R*1000);//Rate of power consumption\n",
"Vr=(Z2-Z1)*E/(sqrt(3)*(Z2+Z1)*1000);//Reflected voltage\n",
"Er=3*Vr*Vr*1000/Z1//rate of reflected voltage\n",
"mprintf('(iii)rate of energy absorption =%.1f kW\n',Pr);\n",
"mprintf('rate of reflected energy =%.1f kW\n',Er);\n",
"mprintf('(iv)Terminating resistance should be equal to surge impedence of line  =%.0f ohms\n',Z1);\n",
"L=.5*(10^-8);\n",
"C=10^-12;\n",
"Z=sqrt(L/C);// surge impedence\n",
"VR=2*Z*11/((Z1+Z)*sqrt(3));\n",
"Vrl=(Z-Z1)*11/((Z1+Z)*sqrt(3));\n",
"PR1=3*VR*VR*1000/(Z);\n",
"d=abs(Vrl);\n",
"Prl=3*d*d*1000/Z1;\n",
"mprintf('(v)Refracted power =%.1f kW\n',PR1);\n",
"mprintf('Reflected power =%.1f kW\n',Prl);\n",
"////Answer don't match exactly due to difference in rounding off of digits i between calculations"
   ]
   }
,
{
		   "cell_type": "markdown",
		   "metadata": {},
		   "source": [
			"## Example 12.2: Find_the_voltage_rise_at_the_junction_due_to_surge.sce"
		   ]
		  },
  {
"cell_type": "code",
	   "execution_count": null,
	   "metadata": {
	    "collapsed": true
	   },
	   "outputs": [],
"source": [
"//Find the voltage rise at the junction due to surge \n",
"clear\n",
"clc;\n",
"Xlc=.3*(10^-3);// inductance of cable(H)\n",
"Xcc=.4*(10^-6);// capacitance of cable (F)\n",
"Xlo=1.5*(10^-3);//inductance of overhead line(H)\n",
"Xco=.012*(10^-6);// capacitance of overhead line (F)\n",
"Znc=sqrt((Xlc/Xcc));\n",
"Znl=sqrt((Xlo/Xco));\n",
"mprintf('Natural impedence of cable=%.2f ohms \n',Znc);\n",
"mprintf('Natural impedence of overhead line=%.1f ohms \n',Znl);\n",
"E=2*Znl*15/(353+27);\n",
"mprintf('voltage rise at the junction due to surge =%.2f kV \n',E);"
   ]
   }
,
{
		   "cell_type": "markdown",
		   "metadata": {},
		   "source": [
			"## Example 12.3: To_find_the_surge_voltages_and_currents_transmitted_into_branch_line.sce"
		   ]
		  },
  {
"cell_type": "code",
	   "execution_count": null,
	   "metadata": {
	    "collapsed": true
	   },
	   "outputs": [],
"source": [
"// To find the surge voltages and currents transmitted into branch line\n",
"clear\n",
"clc;\n",
"Z1=600;\n",
"Z2=800;\n",
"Z3=200;\n",
"E=100;\n",
"E1=2*E/(Z1*((1/Z1)+(1/Z2)+(1/Z3)));\n",
"Iz2=E1*1000/Z2;\n",
"Iz3=E1*1000/Z3;\n",
"mprintf('Transmitted voltage =%.2f kV \n',E1);\n",
"mprintf('The transmitted current in line Z2=%.2f amps \n',Iz2);\n",
"mprintf('The transmitted current in line Z3=%.1f amps \n',Iz3);\n",
"////Answer don't match exactly due to difference in rounding off of digits i between calculations"
   ]
   }
,
{
		   "cell_type": "markdown",
		   "metadata": {},
		   "source": [
			"## Example 12.4: Determine_the_maximum_value_of_transmitted_wave.sce"
		   ]
		  },
  {
"cell_type": "code",
	   "execution_count": null,
	   "metadata": {
	    "collapsed": true
	   },
	   "outputs": [],
"source": [
"//Determine the maximum value of transmitted wave\n",
"clear\n",
"clc;\n",
"Z=350;//surge impedencr (ohms)\n",
"C=3000*(10^-12);// earth capacitance(F) \n",
"t=2*(10^-6);\n",
"E=500;\n",
"E1=2*E*(1-exp((-1*t/(Z*C))));\n",
"mprintf('the maximum value of transmitted voltage=%.0f kV \n',E1);\n",
""
   ]
   }
,
{
		   "cell_type": "markdown",
		   "metadata": {},
		   "source": [
			"## Example 12.5: Determine_the_maximum_value_of_transmitted_surge.sce"
		   ]
		  },
  {
"cell_type": "code",
	   "execution_count": null,
	   "metadata": {
	    "collapsed": true
	   },
	   "outputs": [],
"source": [
"//Determine the maximum value of transmitted surge\n",
"clear\n",
"clc;\n",
"Z=350;//surge impedencr (ohms)\n",
"L=800*(10^-6); \n",
"t=2*(10^-6);\n",
"E=500;\n",
"E1=E*(1-exp((-1*t*2*Z/L)));\n",
"mprintf('The maximum value of transmitted voltage=%.1f kV \n',E1);\n",
""
   ]
   }
,
{
		   "cell_type": "markdown",
		   "metadata": {},
		   "source": [
			"## Example 12.6: EX12_6.sce"
		   ]
		  },
  {
"cell_type": "code",
	   "execution_count": null,
	   "metadata": {
	    "collapsed": true
	   },
	   "outputs": [],
"source": [
"// Determine (i)the value of the Voltage wave when it has travelled through a distance 50 Km. (ii) Power loss and Heat loss.\n",
"\n",
"clear\n",
"clc;\n",
"eo=50;\n",
"x=50;\n",
"R=6;\n",
"Z=400;\n",
"G=0;\n",
"v=3*(10^5);\n",
"e=2.68;\n",
"e1=(eo*(e^((-1/2)*R*x/Z)));\n",
"// answess does not match due to the difference in rounding off of digits. \n",
"mprintf('(i)the value of the Voltage wave when it has travelled through a distance 50 Km=%.1f kV \n',e1);\n",
"Pl=e1*e1*1000/400;\n",
"io=eo*1000/Z;\n",
"t=x/v;\n",
"H=-(50*125*400*((e^-.75)-1))/(6*3*10^5)\n",
"mprintf('(ii)Power loss=%.3fkW  \n heat loss=%.3f kJ',Pl,H);"
   ]
   }
],
"metadata": {
		  "kernelspec": {
		   "display_name": "Scilab",
		   "language": "scilab",
		   "name": "scilab"
		  },
		  "language_info": {
		   "file_extension": ".sce",
		   "help_links": [
			{
			 "text": "MetaKernel Magics",
			 "url": "https://github.com/calysto/metakernel/blob/master/metakernel/magics/README.md"
			}
		   ],
		   "mimetype": "text/x-octave",
		   "name": "scilab",
		   "version": "0.7.1"
		  }
		 },
		 "nbformat": 4,
		 "nbformat_minor": 0
}
