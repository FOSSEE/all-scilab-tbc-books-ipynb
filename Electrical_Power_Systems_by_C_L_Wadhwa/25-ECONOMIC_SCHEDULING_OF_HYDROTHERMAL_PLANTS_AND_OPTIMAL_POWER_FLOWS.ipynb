{
"cells": [
 {
		   "cell_type": "markdown",
	   "metadata": {},
	   "source": [
       "# Chapter 25: ECONOMIC SCHEDULING OF HYDROTHERMAL PLANTS AND OPTIMAL POWER FLOWS"
	   ]
	},
{
		   "cell_type": "markdown",
		   "metadata": {},
		   "source": [
			"## Example 25.1: illustrating_the_procedure_for_economic_scheduling_clear_all.sce"
		   ]
		  },
  {
"cell_type": "code",
	   "execution_count": null,
	   "metadata": {
	    "collapsed": true
	   },
	   "outputs": [],
"source": [
"// illustrating the procedure for economic scheduling\n",
"clear\n",
"clc;\n",
"q2=25;\n",
"q3=25\n",
"q1=70-(q2+q3);\n",
"Wo=120;\n",
"W3=50;\n",
"Wi1=0;\n",
"Wi2=0;\n",
"W1=Wo+Wi1-q1;\n",
"W2=W1+Wi2-q2\n",
"PH1=9.81*(10^-3)*20*[1+(.5*.006*(120+100))]*(20-2);\n",
"PH2=9.81*(10^-3)*20*[1+(.5*.006*(100+75))]*(23);// Answer in the book is not Correct due to wrong calculation\n",
"PH3=9.81*(10^-3)*20*[1+(.5*.006*(75+50))]*(23);\n",
"PT1=8-PH1;\n",
"PT2=12-PH2;\n",
"PT3=7-PH3;\n",
"L11=20+PT1;//dFT/dPT=PT+20\n",
"L12=20+PT2;//dF/dp=PT+20\n",
"L13=20+PT3;//dF/dp=PT+20\n",
"//dPL/dPH=0\n",
"L31=L11;\n",
"L32=L12;\n",
"L33=L13;\n",
"e=.006;\n",
"ho=.1962\n",
"Rho=2;\n",
"L21=L31*ho*[1+(.5*e*(2*Wo+Wi1-2*q1+Rho))]\n",
"L22=L21-L31*[.5*ho*e*(q1-Rho)]-L32*[.5*ho*e*(q2-Rho)]//for m=1\n",
"L23=L22-L32*[.5*ho*e*(q2-Rho)]-L33*[.5*ho*e*(q3-Rho)]//for m=2\n",
"G1=L22-L32*ho*[1+.5*.006*(2*100-2*25+2)]//G1=dF/dq2 Answer doent match due to wrong calculation of PH2 in a book;\n",
"G2=L23-L33*ho*[1+.5*.006*(2*W2+0-2*q3+Rho)]//G1=dF/dq3;\n",
"a=0.4;\n",
"qnew2=q2-a*G1;// Answer differs due to wrong calculation of PH2 in the book\n",
"qnew3=q3-a*G2;\n",
"q1=120-50-(qnew2+qnew3);\n",
"mprintf('Let q2=%.0f   q3=%.0f    q1=%.0f\n',q2,q3,q1);\n",
"mprintf('W1=%.0f    W2=%.0f\n',W1,W2);\n",
"mprintf('PH1=%.2f     PH2=%.3f    PH3=%.1f\n',PH1,PH2,PH3);\n",
"mprintf('Thermal generation during Three Intervals \n PT1=%.2f     PT2=%.2f    PT3=%.1f\n',PT1,PT2,PT3);\n",
"mprintf('Value of L1 for the three intervals, \n L11=%.2f    L12=%.2f    L13=%.1f\n',L11,L12,L13);\n",
"mprintf('Neglecting transmission losses we get\n L11=L31   L12=L32   L13=L33\n');\n",
"mprintf('L21=%.3f\n',L21)\n",
"mprintf('For m=1 and 2 we get \n L22=%.1f \n L23=%.1f\n',L22,L23);\n",
"mprintf('Gradient Vectors \n dF/dq2=%.2f\n dF/dq3=%.1f\n',G1,G2)\n",
"mprintf('q2new=%.3f \n q3new=%.1f\n q1=%.0f',qnew2,qnew3,q1)"
   ]
   }
],
"metadata": {
		  "kernelspec": {
		   "display_name": "Scilab",
		   "language": "scilab",
		   "name": "scilab"
		  },
		  "language_info": {
		   "file_extension": ".sce",
		   "help_links": [
			{
			 "text": "MetaKernel Magics",
			 "url": "https://github.com/calysto/metakernel/blob/master/metakernel/magics/README.md"
			}
		   ],
		   "mimetype": "text/x-octave",
		   "name": "scilab",
		   "version": "0.7.1"
		  }
		 },
		 "nbformat": 4,
		 "nbformat_minor": 0
}
