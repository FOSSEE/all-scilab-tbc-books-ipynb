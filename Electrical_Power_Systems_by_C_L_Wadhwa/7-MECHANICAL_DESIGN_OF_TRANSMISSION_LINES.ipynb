{
"cells": [
 {
		   "cell_type": "markdown",
	   "metadata": {},
	   "source": [
       "# Chapter 7: MECHANICAL DESIGN OF TRANSMISSION LINES"
	   ]
	},
{
		   "cell_type": "markdown",
		   "metadata": {},
		   "source": [
			"## Example 7.1: Calculate_the_sag.sce"
		   ]
		  },
  {
"cell_type": "code",
	   "execution_count": null,
	   "metadata": {
	    "collapsed": true
	   },
	   "outputs": [],
"source": [
"//Calculate the sag \n",
"clear\n",
"clc;\n",
"sf=5;//Factor of safety\n",
"d=.95;// conductor dia(cm)\n",
"Ws=4250/sf;// working stress(kg/cm_2)\n",
"A=%pi*(d^2)/4;// area (cm_2)\n",
"Wp=40*d*(10^-2);//wind pressure (kg/cm)\n",
"W=sqrt((.65^2) +(.38^2));// Total effective weight(kg/m)\n",
"T=850*A;// working tension (kg)\n",
"c=T/W;\n",
"l=160;\n",
"d=l^2/(8*800);\n",
"mprintf('sag,d=%.0f metres\n',d);"
   ]
   }
,
{
		   "cell_type": "markdown",
		   "metadata": {},
		   "source": [
			"## Example 7.2: To_calculate_the_maximum_Sag.sce"
		   ]
		  },
  {
"cell_type": "code",
	   "execution_count": null,
	   "metadata": {
	    "collapsed": true
	   },
	   "outputs": [],
"source": [
"// To calculate the maximum Sag\n",
"clear\n",
"clc;\n",
"D=1.95 + 2.6;// overall diameter(cm)\n",
"A=4.55*(10^-2);// area(m_2)\n",
"d=19.5;//diameter of conductor(mm)\n",
"r=d/2;//radius of conductor(mm)\n",
"Wp=A*39;//wind pressure(kg/m_2)\n",
"t=13;//ice coating(mm)\n",
"US=8000;// ultimate strength(kg)\n",
"Aice=%pi*(10^-6)*((r+t)^2 - r^2);//area section of ice (m_2)\n",
"Wice=Aice*910;\n",
"W=(sqrt((.85+Wice)^2 + Wp^2));// total weight of ice (kg/m)\n",
"T=US/2;// working teansion (kg)\n",
"c=T/W;\n",
"l=275;//length of span(m)\n",
"Smax=l*l/(8*c);\n",
"mprintf('Maximum sag=%.1f metres\n',Smax);"
   ]
   }
,
{
		   "cell_type": "markdown",
		   "metadata": {},
		   "source": [
			"## Example 7.3: To_determine_the_Sag.sce"
		   ]
		  },
  {
"cell_type": "code",
	   "execution_count": null,
	   "metadata": {
	    "collapsed": true
	   },
	   "outputs": [],
"source": [
"//To determine the Sag\n",
"clear\n",
"clc;\n",
"A=13.2;// cross section of conductor (mm_2)\n",
"Ar=4.1*(10^-3);// projected area\n",
"Wp=Ar*48.82;// wind loadind /m(kg/m)\n",
"w=.115;\n",
"W=sqrt((.1157^2) + (Wp^2));// effective loading per metre(kg)\n",
"q1=W/.115;\n",
"b=w/A;\n",
"f1=21;//working stress\n",
"T1=f1*A;\n",
"c=T1/W;\n",
"l=45.7;\n",
"S=l*l/(8*c);\n",
"dT=32.2-4.5;// difference in temperature\n",
"E=1.26*(10000);\n",
"a=16.6*(10^-6);\n",
"d=8.765*(10^-3);\n",
"K=f1-((l*d*q1)^2)*E/(24*f1*f1);\n",
"p=poly([-84.23 0 -14.44 1], 'f2', 'c');\n",
"r=roots(p);\n",
"f2= 14.823332;// accepted value of f2\n",
"T=f2*A;\n",
"c=T/w;\n",
"d1=l*l/(8*c);\n",
"mprintf('sag at 32.2 Celsius , d=%.4f metres',d1);"
   ]
   }
,
{
		   "cell_type": "markdown",
		   "metadata": {},
		   "source": [
			"## Example 7.4: To_determine_the_clearence_between_the_conductor_and_water_level.sce"
		   ]
		  },
  {
"cell_type": "code",
	   "execution_count": null,
	   "metadata": {
	    "collapsed": true
	   },
	   "outputs": [],
"source": [
"// To determine the clearence between the conductor and water level\n",
"clear\n",
"clc;\n",
"T=2000;// working tension (kg)\n",
"w=1;\n",
"c=T/w;\n",
"h=90-30;\n",
"l=300;//span(m)\n",
"a=(l/2)-(c*h/l);\n",
"b=550;\n",
"d1=a*a/(2*c);\n",
"d2=(400^2)/(2*c);// sag at 400 metres(m)\n",
"Hm=d2-d1;//height of mid point with respect to A\n",
"Cl=30+Hm;\n",
"mprintf('the clearence between the conductor and water level midway between the towers= %.3f metres \n',Cl);"
   ]
   }
],
"metadata": {
		  "kernelspec": {
		   "display_name": "Scilab",
		   "language": "scilab",
		   "name": "scilab"
		  },
		  "language_info": {
		   "file_extension": ".sce",
		   "help_links": [
			{
			 "text": "MetaKernel Magics",
			 "url": "https://github.com/calysto/metakernel/blob/master/metakernel/magics/README.md"
			}
		   ],
		   "mimetype": "text/x-octave",
		   "name": "scilab",
		   "version": "0.7.1"
		  }
		 },
		 "nbformat": 4,
		 "nbformat_minor": 0
}
