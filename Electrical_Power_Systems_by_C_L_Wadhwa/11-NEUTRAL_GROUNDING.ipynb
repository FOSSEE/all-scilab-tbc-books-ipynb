{
"cells": [
 {
		   "cell_type": "markdown",
	   "metadata": {},
	   "source": [
       "# Chapter 11: NEUTRAL GROUNDING"
	   ]
	},
{
		   "cell_type": "markdown",
		   "metadata": {},
		   "source": [
			"## Example 11.1: To_find_the_inductance_and_KVA_rating_of_the_arc_suppressor_coil_in_the_system.sce"
		   ]
		  },
  {
"cell_type": "code",
	   "execution_count": null,
	   "metadata": {
	    "collapsed": true
	   },
	   "outputs": [],
"source": [
"// To find the inductance and KVA rating of the arc suppressor coil in the system \n",
"clear\n",
"clc;\n",
"C1=2*%pi*(10^-9)/(36*%pi*log((4*4*8)^(1/3)/(10*(10^-3))));\n",
"C=C1*192*(10^9);// capacitance per phase (micro farad)\n",
"L=(10)^6/(3*314*314*C);\n",
"V=132;//voltage (kV)\n",
"MVA=V*V/(3*314*L);\n",
"mprintf('inductance ,L=%.2f H\n',L);\n",
"mprintf('MVA rating of suppressor  coil =%.3f MVA per coil',MVA);"
   ]
   }
,
{
		   "cell_type": "markdown",
		   "metadata": {},
		   "source": [
			"## Example 11.2: EX11_2.sce"
		   ]
		  },
  {
"cell_type": "code",
	   "execution_count": null,
	   "metadata": {
	    "collapsed": true
	   },
	   "outputs": [],
"source": [
"// Determine the reactance to neutralize the capacitance of (i)100% of the length of line (ii)90% of the length of line (iii)80% of the length of line\n",
"clear\n",
"clc;\n",
"wL=1/(3*314*(10)^-6);\n",
"mprintf('(i)inductive reactance for 100 percent of the length of line=%.1f ohms\n',wL);\n",
"wL=10^6/(3*314*.9);\n",
"mprintf('(ii)inductive reactance for 90percent of the length of line=%.1f ohms\n',wL);\n",
"wL=1/(3*314*(10)^-6)/.8;\n",
"mprintf('(iii)inductive reactance for 80 percent of the length of line=%.1f ohms\n',wL);"
   ]
   }
],
"metadata": {
		  "kernelspec": {
		   "display_name": "Scilab",
		   "language": "scilab",
		   "name": "scilab"
		  },
		  "language_info": {
		   "file_extension": ".sce",
		   "help_links": [
			{
			 "text": "MetaKernel Magics",
			 "url": "https://github.com/calysto/metakernel/blob/master/metakernel/magics/README.md"
			}
		   ],
		   "mimetype": "text/x-octave",
		   "name": "scilab",
		   "version": "0.7.1"
		  }
		 },
		 "nbformat": 4,
		 "nbformat_minor": 0
}
