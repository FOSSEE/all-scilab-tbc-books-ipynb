{
"cells": [
 {
		   "cell_type": "markdown",
	   "metadata": {},
	   "source": [
       "# Chapter 13: SYMMETRICAL COMPONENTS AND FAULT CALCULATIONS"
	   ]
	},
{
		   "cell_type": "markdown",
		   "metadata": {},
		   "source": [
			"## Example 13.10: To_determine_the_short_circuit_capacity_of_each_station.sce"
		   ]
		  },
  {
"cell_type": "code",
	   "execution_count": null,
	   "metadata": {
	    "collapsed": true
	   },
	   "outputs": [],
"source": [
"// To determine the short circuit capacity of each station\n",
"clear\n",
"clc;\n",
"X=1200*100/800;// percent reactance of other  generating station\n",
"Xc=.5*1200/(11*11);\n",
"Sc=1200*100/86.59;// short circuit MVA of the bus\n",
"Xf=119.84;// equivalent fault impedence between F and neutral bus \n",
"MVA=1200*100/Xf;\n",
"mprintf('short circuit capacity of each station=%.0f MVA\n',MVA);"
   ]
   }
,
{
		   "cell_type": "markdown",
		   "metadata": {},
		   "source": [
			"## Example 13.11: Determine_the_Fault_MVA.sce"
		   ]
		  },
  {
"cell_type": "code",
	   "execution_count": null,
	   "metadata": {
	    "collapsed": true
	   },
	   "outputs": [],
"source": [
"// Determine the Fault MVA \n",
"clear\n",
"clc;\n",
"Sb=100;// base power (MVA)\n",
"SC=Sb/.14;\n",
"mprintf('S.C. MVA =%.2f MVA\n ',SC);"
   ]
   }
,
{
		   "cell_type": "markdown",
		   "metadata": {},
		   "source": [
			"## Example 13.12: To_Determine_the_subtransient_current_in_the_alternator_motor_and_the_fault.sce"
		   ]
		  },
  {
"cell_type": "code",
	   "execution_count": null,
	   "metadata": {
	    "collapsed": true
	   },
	   "outputs": [],
"source": [
"// To Determine the subtransient current in the alternator , motor and the fault\n",
"clear\n",
"clc;\n",
"Ib=50*1000/(sqrt(3)*13.2);// base current (amps.)\n",
"Vf=12.5/13.5;// the Prefault Voltage (p.u)\n",
"Xf=(%i*.3)*(%i*.2)/(%i*.5);// Fault impedence(p.u)\n",
"If=.9469/(Xf);//Fault current (p.u)\n",
"Ifl=30*1000/((sqrt(3)*12.5*.8));//full load current (amps)\n",
"Il=1732*(cosd(36.8)+%i*sind(36.8))/2186;//load current(p.u)\n",
"Ifm=3*(If)/5;// fault current supplied by motor (p.u)\n",
"Ifg=2*(If)/5;// fault current supplied by generator (p.u)\n",
"Ig=abs(Ifg +Il);//Net current supplied by generator during fault(p.u)\n",
"Im=abs(Ifm-Il);//Net current supplied by motor during fault(p.u)\n",
"Igf=Ig*2186;\n",
"Imf=Im*2186;\n",
"Ifc=2186*If;\n",
"mprintf('Fault current from the generator =%.3f amps\n',Igf);\n",
"mprintf('Fault current from the motor =%.3f amps\n',Imf);\n",
"disp(Ifc,'Fault current (amps)=');\n",
" "
   ]
   }
,
{
		   "cell_type": "markdown",
		   "metadata": {},
		   "source": [
			"## Example 13.13: EX13_13.sce"
		   ]
		  },
  {
"cell_type": "code",
	   "execution_count": null,
	   "metadata": {
	    "collapsed": true
	   },
	   "outputs": [],
"source": [
"//To Determine the reactance of the reactor to prevent the brakers being overloaded\n",
"clear \n",
"clc;\n",
"Sb=75;// Base MVA\n",
"Xpu=.15*Sb/15;// p.u reactance of the generator\n",
"Xt=-%i*.08;//p.u reactanceof the transformer\n",
"X=9.75/112;\n",
"Xa=X*33*33/75;\n",
"mprintf('the reactance of the reactor =%.3f ohms\n',Xa);"
   ]
   }
,
{
		   "cell_type": "markdown",
		   "metadata": {},
		   "source": [
			"## Example 13.14: EX13_14.sce"
		   ]
		  },
  {
"cell_type": "code",
	   "execution_count": null,
	   "metadata": {
	    "collapsed": true
	   },
	   "outputs": [],
"source": [
"// Determine the subtransient currents in all phases of machine-1 , the fault current and the voltages of machine 1 and voltage at the fault point.\n",
"clear\n",
"clc;\n",
"Z1eq= %i*(((8+5)*(8+5+12))/(100*(13+25)));\n",
"Z2eq=Z1eq;\n",
"Zoeq=%i*(5*45)*(10^-2)/(5+45);\n",
"Ea=1;\n",
"Ia1=Ea/(Z1eq+ ((Zoeq*Z2eq)/(Zoeq+Z2eq)));\n",
"Ia2=(-Ia1*Zoeq)/(Zoeq+Z2eq);\n",
"Iao=(-Ia1*Z2eq)/(Zoeq+Z2eq);\n",
"Va1=Ea-(Ia1*Z1eq);\n",
"Va2=-Ia2*Z2eq;\n",
"Vao=Va2;\n",
"Ia=0;\n",
"Ib=(-.5 - %i*.866)*Ia1 + ((-.5 + %i*.866)*Ia2) + Iao;\n",
"Ic=(-.5 + %i*.866)*Ia1 + (-.5 - %i*.866)*Ia2 + Iao;\n",
"ia1=Ia1*25/38;\n",
"IA1=%i*ia1;\n",
"ia2=Ia2*25/38;\n",
"IA2=-%i*ia2;\n",
"IA=IA1 + IA2;\n",
"IB=IA1*(-.5 - %i*.866) + IA2*(-.5 + %i*.866);\n",
"IC=IA1*(-.5 + %i*.866) + IA2*(-.5 - %i*.866);\n",
"Va=Va1+Va2+Vao;\n",
"Vb=0;\n",
"Vc=0;\n",
"Vab=.2564-Vb;\n",
"Vbc=Vb-Vc;\n",
"Vca=Vc-.2564;\n",
"VA1=Ea-IA1*(%i*.05);\n",
"VA2=-IA2*(%i*.05);\n",
"VA=VA1+VA2;\n",
"VB=(((-.5 - %i*.866)*VA1) +((-.5 + %i*.866)*VA2));\n",
"VC=VA1*(-.5 + %i*.866) + VA2*(-.5 - %i*.866);\n",
"VAB=VA-VB;\n",
"VBC=VB-VC;\n",
"VCA=VC-VA;\n",
"//Answers don't match due to difference in rounding off of digits\n",
"disp(Ia,'fault currents ,Ia=');\n",
"disp(Ib,'Ib=');\n",
"disp(Ic,'Ic=');//Calculation in book is wrong.\n",
"disp(IA,'IA=');\n",
"disp(IB,'IB');\n",
"disp(IC,'IC');\n",
"disp('Voltages at fault point');\n",
"disp(Vab,'Vab(p.u)=');\n",
"disp(Vbc,'Vbc(p.u)=');\n",
"disp(Vca,'Vca(p.u)=');\n",
"disp(VAB,'VAB=');\n",
"disp(VBC,'VBC=');\n",
"disp(VCA,'VCA=');"
   ]
   }
,
{
		   "cell_type": "markdown",
		   "metadata": {},
		   "source": [
			"## Example 13.15: EX13_15.sce"
		   ]
		  },
  {
"cell_type": "code",
	   "execution_count": null,
	   "metadata": {
	    "collapsed": true
	   },
	   "outputs": [],
"source": [
"// To determine the (i) pre- fault current in line a (ii) the subtransient current in p.u (iii) the subtransient current in each phase of generator in p.u \n",
"clear\n",
"clc;\n",
"Ia1=-.8 -%i*2.6 + .8 -%i*.4;\n",
"Ia2=-%i*3;\n",
"Iao=-%i*3;\n",
"A=-.8 -%i*2.6 + .8 +%i*2;\n",
"a=.8;\n",
"b=.6;\n",
"Ipf=a + %i*b;\n",
"Isfc=3*Ia1;\n",
"iA1=.8- %i*.4;\n",
"iA2=-%i*1;\n",
"iAo=0;\n",
"IA1=%i*iA1;\n",
"IA2=-%i*iA2;\n",
"IA=IA1 + IA2;\n",
"L=cosd(120)+ %i*sind(120);\n",
"IB=(L^2)*IA1 + IA2*L;\n",
"IC=(L^2)*IA2 + IA1*L;\n",
"disp(Ipf,'(i) pre- fault current in line a=');\n",
"disp(Isfc,'(ii) the subtransient fault current in p.u=');\n",
"disp(IA,'IA=');\n",
"disp(IB,'IB=');\n",
"disp(IC,'IC=');"
   ]
   }
,
{
		   "cell_type": "markdown",
		   "metadata": {},
		   "source": [
			"## Example 13.16: Determine_the_shorrt_circuit_MVA_of_the_transformer.sce"
		   ]
		  },
  {
"cell_type": "code",
	   "execution_count": null,
	   "metadata": {
	    "collapsed": true
	   },
	   "outputs": [],
"source": [
"// Determine the shorrt circuit MVA of the transformer \n",
"clear\n",
"clc;\n",
"S.C.MVA=.5/.05;\n",
"mprintf('S.C.MVA=%.0f MVA',S.C.MVA);"
   ]
   }
,
{
		   "cell_type": "markdown",
		   "metadata": {},
		   "source": [
			"## Example 13.17: EX13_17.sce"
		   ]
		  },
  {
"cell_type": "code",
	   "execution_count": null,
	   "metadata": {
	    "collapsed": true
	   },
	   "outputs": [],
"source": [
"//To determine the line voltages and currents in per unit on delta side of the transformer\n",
"clear\n",
"clc;\n",
"vab=2000;\n",
"vbc=2800;\n",
"vca=2500;\n",
"vb=2500;// base voltage (V)\n",
"Vab=vab/vb;// per unit voltages \n",
"Vbc=vbc/vb;\n",
"Vca=vca/vb;\n",
"a=acosd(((1.12^2)-((.8^2)+1))/(2*.8));\n",
"b=acosd(((.8^2)-((1.12^2)+1))/(2*1.12));\n",
"Vlab=Vab*(cosd(76.06)+%i*sind(76.06));// line voltage \n",
"Vlca=Vca*(cosd(180)+%i*sind(180));// line voltage \n",
"Vlbc=Vbc*(cosd(-43.9)+%i*sind(-43.9));// line voltage \n",
"L=1*(cosd(120) + %i*sind(120));\n",
"Vab1=(Vlab +(L*Vlbc) + ((L^2)*Vlca))/3;// symmetrical component of line voltage \n",
"Vab2=(Vlab +(L*Vlca) + ((L^2)*Vlbc))/3;// symmetrical component of line voltage \n",
"Vabo=0;// symmetrical component of line voltage \n",
"Van1=Vab1*(cosd(-30)+ %i*sind(-30));\n",
"Van2=Vab2*(cosd(30)+ %i*sind(30));\n",
"Ia1=Van1/(1*(cosd(0) + %i*sind(0)));\n",
"Ia2=Van2/(1*(cosd(0) + %i*sind(0)));\n",
"VA1=-%i*Van1;\n",
"VA2=%i*Van2;\n",
"VA=VA1+ VA2;\n",
"VB1=(L^2)*VA1;\n",
"VB2=(L)*VA2;\n",
"VB=VB1 + VB2;\n",
"VC2=(L^2)*VA2;\n",
"VC1=(L)*VA1;\n",
"VC=VC1 + VC2;\n",
"VAB=VA-VB;\n",
"VBC=VB-VC;\n",
"VCA=VC-VA;\n",
"IA=VA;\n",
"IB=VB;\n",
"IC=VC;\n",
"phase_IA=atand(imag(IA)/real(IA));\n",
"phase_IB=atand(imag(IB)/real(IB));\n",
"phase_IC=atand(imag(IC)/real(IC));\n",
"disp(VAB,'VAB(p.u)=');\n",
"disp(VBC,'VBC(p.u)=');\n",
"disp(VCA,'VCA(p.u)=');\n",
"mprintf('IA(p.u)=%.2f at an agle of %.1f\n',abs(IA),phase_IA);\n",
"mprintf('IB(p.u)=%.2f at an agle of %.1f\n',abs(IB),phase_IB);\n",
"mprintf('IC(p.u)=%.2f at an agle of %.1f',abs(IC),phase_IC);"
   ]
   }
,
{
		   "cell_type": "markdown",
		   "metadata": {},
		   "source": [
			"## Example 13.1: Determine_the_symmetrical_components_of_voltages.sce"
		   ]
		  },
  {
"cell_type": "code",
	   "execution_count": null,
	   "metadata": {
	    "collapsed": true
	   },
	   "outputs": [],
"source": [
"// Determine the symmetrical components of voltages.\n",
"clear\n",
"clc;\n",
"Va=100*(cosd(0) + %i*sind(0));\n",
"Vb=33*(cosd(-100) + %i*sind(-100));\n",
"Vc=38*(cosd(176.5) + %i*sind(176.5));\n",
"L=1*(cosd(120) + %i*sind(120));\n",
"Va1=((Va + L*Vb + (L^2)*Vc))/3;\n",
"Va2=((Va + L*Vc + (L^2)*Vb))/3;\n",
"Vco=((Va + Vb + Vc))/3;\n",
"disp(Va1,'Va1=');\n",
"disp(Va2,'Va2=');\n",
"disp(Vco,'Vco=');"
   ]
   }
,
{
		   "cell_type": "markdown",
		   "metadata": {},
		   "source": [
			"## Example 13.2: Find_the_symmetrical_component_of_currents.sce"
		   ]
		  },
  {
"cell_type": "code",
	   "execution_count": null,
	   "metadata": {
	    "collapsed": true
	   },
	   "outputs": [],
"source": [
"// Find the symmetrical component of currents\n",
"clear\n",
"clc;\n",
"Ia=500+ %i*150;// Line current in phase a\n",
"Ib=100- %i*600;// Line current in phase b\n",
"Ic=-300+ %i*600;// Line current in phase c\n",
"L=(cosd(120)+ %i*sind(120));\n",
"Iao=(Ia+Ib+Ic)/3;\n",
"Ia1=(Ia+Ib*L+(L^2)*Ic)/3;\n",
"Ia2=(Ia + (L^2)*Ib +(L*Ic))/3;\n",
"disp(Iao,'Iao(amps)=');\n",
"disp(Ia1,'Ia1(amps)=');\n",
"disp(Ia2,'Ia2(amps)=');// Answer in the book is not correct.wrong calculation in the book\n",
""
   ]
   }
,
{
		   "cell_type": "markdown",
		   "metadata": {},
		   "source": [
			"## Example 13.3: Determine_the_fault_current_and_line_to_line_voltages.sce"
		   ]
		  },
  {
"cell_type": "code",
	   "execution_count": null,
	   "metadata": {
	    "collapsed": true
	   },
	   "outputs": [],
"source": [
"// Determine the fault current and line to line voltages \n",
"clear\n",
"clc;\n",
"Ea=1;\n",
"Z1=.25*%i;\n",
"Z2=.35*%i;\n",
"Zo=.1*%i;\n",
"Ia1=Ea/(Z1+Z2+Zo);\n",
"L=-.5+%i*.866;\n",
"Ia2=Ia1;\n",
"Iao=Ia2;\n",
"Ia=Ia1+Ia2+Iao;\n",
"Ib=25*1000/((sqrt(3)*13.2));\n",
"If=Ib*abs(Ia);\n",
"Va1=Ea-(Ia1*Z1);\n",
"Va2=-Ia2*Z2;\n",
"Va0=-Iao*Zo;\n",
"Va=Va1+Va2+Va0;\n",
"Vb1=(L^2)*Va1;\n",
"Vb2=L*Va2;\n",
"Vbo=Va0;\n",
"Vco=Va0;\n",
"Vc1=L*Va1;\n",
"Vc2=(L^2)*Va2;\n",
"Vb=Vb1 + Vb2+Vbo;\n",
"Vc=Vco+Vc1+Vc2;\n",
"Vab=Va-Vb;\n",
"Vac=Va-Vc;\n",
"Vbc=Vb-Vc;\n",
"vab=(13.2*abs(Vab))/sqrt(3);\n",
"vac=(13.2*abs(Vac))/sqrt(3);\n",
"vbc=(13.2*abs(Vbc))/sqrt(3);\n",
"disp(If,'fault current (amps)=');//Answer don't match due to difference in rounding off of digits\n",
"disp(Vab,'Vab(kV)=');//Answer don't match due to difference in rounding off of digits\n",
"disp(Vac,'Vac(kV)=');//Answer don't match due to difference in rounding off of digits\n",
"disp(Vbc,'Vbc(kV)=');//Answer don't match due to difference in rounding off of digits"
   ]
   }
,
{
		   "cell_type": "markdown",
		   "metadata": {},
		   "source": [
			"## Example 13.4: determine_the_fault_current_and_line_to_line_voltages_at_the_fault.sce"
		   ]
		  },
  {
"cell_type": "code",
	   "execution_count": null,
	   "metadata": {
	    "collapsed": true
	   },
	   "outputs": [],
"source": [
"//Determine the fault current and line to line voltage at the fault .\n",
"clear\n",
"clc;\n",
"Ea=1;\n",
"L=(cosd(120)+ %i*sind(120));\n",
"Z1=%i*.25;\n",
"Z2=%i*.35;\n",
"Ia1=Ea/(Z1+Z2);\n",
"Ia2=-Ia1;\n",
"Iao=0;\n",
"Ib1=(L^2)*Ia1;\n",
"Ib2=L*Ia2;\n",
"Ibo=0;\n",
"Ib=Ib1+Ib2 +Ibo;\n",
"Iba=1093;\n",
"If=Iba*abs(Ib);\n",
"Va1=Ea-(Ia1*Z1);\n",
"Va2=-Ia2*Z2;\n",
"Vao=0;\n",
"Va=Va1+Va2+Vao;\n",
"Vb=(L^2)*Va1 + L*Va2;\n",
"Vc=Vb;\n",
"Vab=Va-Vb;\n",
"Vac=Va-Vc;\n",
"Vbc=Vb-Vc;\n",
"mprintf('Fault current =%.2f amps\n',If);//Answer don't match due to difference in rounding off of digits\n",
"vab=(abs(Vab)*13.2)/sqrt(3);\n",
"vbc=(abs(Vbc)*13.2)/sqrt(3);\n",
"vac=(abs(Vac)*13.2)/sqrt(3);\n",
"mprintf('Vab=%.2f kV\n',vab);\n",
"mprintf('Vac=%.2f kV\n',vac);\n",
"mprintf('Vbc=%.2f kV\n',vbc);"
   ]
   }
,
{
		   "cell_type": "markdown",
		   "metadata": {},
		   "source": [
			"## Example 13.5: determine_the_fault_current_and_line_to_line_voltages_at_the_fault.sce"
		   ]
		  },
  {
"cell_type": "code",
	   "execution_count": null,
	   "metadata": {
	    "collapsed": true
	   },
	   "outputs": [],
"source": [
"// determine the fault current and line to line voltages at the fault \n",
"clear\n",
"clc;\n",
"Ea=1+ 0*%i;\n",
"Zo=%i*.1;\n",
"Z1=%i*.25;\n",
"Z2=%i*.35;\n",
"Ia1=Ea/(Z1+(Zo*Z2/(Zo+Z2)));\n",
"Va1=Ea-Ia1*Z1;\n",
"Va2=Va1;\n",
"Vao=Va2;\n",
"Ia2=-Va2/Z2;\n",
"Iao=-Vao/Zo;\n",
"I=Ia2+Iao;\n",
"If=3*Iao;// fault current\n",
"Ib=1093;// base current\n",
"Ifl=abs(If*Ib);\n",
"disp(Ifl,'Fault current(amps) =');//Answer don't match due to difference in rounding off of digits\n",
"Va=3*Va1\n",
"Vb=0;\n",
"Vc=0;\n",
"Vab=abs(Va)*13.2/sqrt(3);\n",
"Vac=abs(Va)*13.2/sqrt(3);\n",
"Vbc=abs(Vb)*13.2/sqrt(3);\n",
"mprintf('Vab=%.3f kV\n',Vab);\n",
"mprintf('Vac=%.3f kV\n',Vac);\n",
"mprintf('Vbc=%.3f kV\n',Vbc);\n",
""
   ]
   }
,
{
		   "cell_type": "markdown",
		   "metadata": {},
		   "source": [
			"## Example 13.6: Determine_the_fault_current_when_i_LG_ii_LL_iii_LLG_fault_takes_place_at_P.sce"
		   ]
		  },
  {
"cell_type": "code",
	   "execution_count": null,
	   "metadata": {
	    "collapsed": true
	   },
	   "outputs": [],
"source": [
"//Determine the fault current when (i)L-G (ii)L-L (iii)L-L-G fault takes place at P.\n",
"clear\n",
"clc;\n",
"Vbl=13.8*115/13.2;// base voltage on the line side of transformer(kV)\n",
"Vbm=120*13.2/115;// base voltage on the motor side of transformer(kV)\n",
"Xt=10*((13.2/13.8)^2)*30/35;// percent reactance of transformer\n",
"Xm=20*((12.5/13.8)^2)*30/20;// percent reactance of motor\n",
"Xl=80*30*100/(120*120);//percent reactance of line \n",
"Xn=2*3*30*100/(13.8*13.8);// neutral reactance\n",
"Xz=200*30*100/(120*120);\n",
"Zn=%i*.146;// negative sequence impedence\n",
"Zo=.06767;// zero sequence impedence\n",
"Z=%i*.3596;//total impedence\n",
"Ia1=1/Z;\n",
"Ia2=Ia1;\n",
"Iao=Ia2;\n",
"If1=3*Ia1;\n",
"Ib=30*1000/(sqrt(3)*13.8);\n",
"Ibl=30*1000/(sqrt(3)*120);\n",
"Ifc=Ibl*abs(If1);\n",
"Z1=%i*.146;\n",
"Z2=Z1;\n",
"IA1=1/(Z1+Z2)\n",
"IA2=-IA1\n",
"L=(cosd(120)+ %i*sind(120));\n",
"IAo=0;\n",
"IB=(L^2)*IA1 + L*IA2;\n",
"IC=-IB;\n",
"IF=abs(IB)*Ibl;\n",
"Zo=%i*.06767;\n",
"ia1=1/(Z1+(Zo*Z2/(Zo+Z2)));\n",
"ia2=ia1*Zo/(Z2+Zo);\n",
"iao=%i*3.553;\n",
"If2=3*iao;\n",
"IF2=abs(If2*Ibl);\n",
"mprintf('Fault Current (i)L-G fault, If=%.0f amps\n ',Ifc);\n",
"mprintf('(ii)L-L fault ,If=%.1f amps\n',IF);\n",
"mprintf('(iii)L-L-G, If =%.0f amps\n',IF2);"
   ]
   }
,
{
		   "cell_type": "markdown",
		   "metadata": {},
		   "source": [
			"## Example 13.8: Determine_the_percent_increase_of_busbar_voltage.sce"
		   ]
		  },
  {
"cell_type": "code",
	   "execution_count": null,
	   "metadata": {
	    "collapsed": true
	   },
	   "outputs": [],
"source": [
"//Determine the percent increase of busbar voltage \n",
"clear\n",
"clc;\n",
"vx=3;// percent reactance of the series element\n",
"sinr=.6;\n",
"V=vx*sinr;\n",
"mprintf('Percent drop of volts=%.1f percent\n',V);"
   ]
   }
,
{
		   "cell_type": "markdown",
		   "metadata": {},
		   "source": [
			"## Example 13.9: Determine_the_short_circuit_capacity_of_the_breaker.sce"
		   ]
		  },
  {
"cell_type": "code",
	   "execution_count": null,
	   "metadata": {
	    "collapsed": true
	   },
	   "outputs": [],
"source": [
"//Determine the short circuit capacity of the breaker\n",
"clear \n",
"clc;\n",
"Sb=8;// Base MVA\n",
"Zeq=(%i*.15)*(%i*.315)/(%i*.465);\n",
"Scc=abs(Sb/Zeq);\n",
"mprintf('short circuit capacity=%.2f MVA\n',Scc);"
   ]
   }
],
"metadata": {
		  "kernelspec": {
		   "display_name": "Scilab",
		   "language": "scilab",
		   "name": "scilab"
		  },
		  "language_info": {
		   "file_extension": ".sce",
		   "help_links": [
			{
			 "text": "MetaKernel Magics",
			 "url": "https://github.com/calysto/metakernel/blob/master/metakernel/magics/README.md"
			}
		   ],
		   "mimetype": "text/x-octave",
		   "name": "scilab",
		   "version": "0.7.1"
		  }
		 },
		 "nbformat": 4,
		 "nbformat_minor": 0
}
