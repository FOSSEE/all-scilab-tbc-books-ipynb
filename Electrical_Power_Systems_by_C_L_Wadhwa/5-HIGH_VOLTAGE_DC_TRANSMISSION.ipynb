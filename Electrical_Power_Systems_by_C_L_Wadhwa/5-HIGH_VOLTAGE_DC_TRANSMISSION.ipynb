{
"cells": [
 {
		   "cell_type": "markdown",
	   "metadata": {},
	   "source": [
       "# Chapter 5: HIGH VOLTAGE DC TRANSMISSION"
	   ]
	},
{
		   "cell_type": "markdown",
		   "metadata": {},
		   "source": [
			"## Example 5.1: To_determine_the_dc_output_voltage_when_delay_anglw_a0_b30_c45.sce"
		   ]
		  },
  {
"cell_type": "code",
	   "execution_count": null,
	   "metadata": {
	    "collapsed": true
	   },
	   "outputs": [],
"source": [
"//To determine the d.c. output voltage when delay anglw (a)0 (b)30 (c)45\n",
"clear\n",
"clc;\n",
"Vo=3*sqrt(2)*110/%pi;\n",
"Vd=Vo*(cosd(0) + cosd(15))/2;\n",
"Vd1=Vo*(cosd(30) + cosd(45))/2;\n",
"Vd2=Vo*(cosd(45) + cosd(60))/2;\n",
"mprintf('(a)For a=0, Vd=%.2f kV\n',Vd);\n",
"mprintf('(b)For a=30,Vd=%.2f kV\n',Vd1);\n",
"mprintf('(c)For a=45,Vd=%.2f kV\n',Vd2);"
   ]
   }
,
{
		   "cell_type": "markdown",
		   "metadata": {},
		   "source": [
			"## Example 5.2: To_determine_the_necessary_line_secondary_voltage_and_tap_ratio_required.sce"
		   ]
		  },
  {
"cell_type": "code",
	   "execution_count": null,
	   "metadata": {
	    "collapsed": true
	   },
	   "outputs": [],
"source": [
"// To determine the necessary line secondary voltage and tap ratio required.\n",
"clear\n",
"clc;\n",
"VL=100*2*%pi/(3*sqrt(2)*(cosd(30) + cosd(45)));\n",
"mprintf('VL=%.2f kV\n',VL);//Answers don't match due to difference in rounding off of digits\n",
"Tr=VL/110;\n",
"mprintf('tap ratio=%.2f \n',Tr);"
   ]
   }
,
{
		   "cell_type": "markdown",
		   "metadata": {},
		   "source": [
			"## Example 5.3: To_determine_the_effective_reactance_per_phase.sce"
		   ]
		  },
  {
"cell_type": "code",
	   "execution_count": null,
	   "metadata": {
	    "collapsed": true
	   },
	   "outputs": [],
"source": [
"// To determine the effective reactance per phase\n",
"clear\n",
"clc;\n",
"Vd=100000;\n",
"Id=800;// current\n",
"X=((3*sqrt(2)*94.115*.866*1000/%pi)-Vd)*%pi/(3*Id);\n",
"mprintf('effective reactance per phase , X=%.2f ohm\n',X);//Answer don't match due to difference in rounding off of digits"
   ]
   }
,
{
		   "cell_type": "markdown",
		   "metadata": {},
		   "source": [
			"## Example 5.4: Calculate_the_direct_current_delivered.sce"
		   ]
		  },
  {
"cell_type": "code",
	   "execution_count": null,
	   "metadata": {
	    "collapsed": true
	   },
	   "outputs": [],
"source": [
"//Calculate the direct current delivered\n",
"clear\n",
"clc;\n",
"a=15;\n",
"d0=10;\n",
"y=15;\n",
"X=15;\n",
"R=10;\n",
"Id=(3*sqrt(2)*120*(cosd(a)-cosd(d0+y))*1000)/((R + (3*2*X)/%pi)*%pi);\n",
"mprintf('Id=%.2f amp.\n',Id);"
   ]
   }
],
"metadata": {
		  "kernelspec": {
		   "display_name": "Scilab",
		   "language": "scilab",
		   "name": "scilab"
		  },
		  "language_info": {
		   "file_extension": ".sce",
		   "help_links": [
			{
			 "text": "MetaKernel Magics",
			 "url": "https://github.com/calysto/metakernel/blob/master/metakernel/magics/README.md"
			}
		   ],
		   "mimetype": "text/x-octave",
		   "name": "scilab",
		   "version": "0.7.1"
		  }
		 },
		 "nbformat": 4,
		 "nbformat_minor": 0
}
