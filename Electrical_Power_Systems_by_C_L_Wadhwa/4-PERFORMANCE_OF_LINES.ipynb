{
"cells": [
 {
		   "cell_type": "markdown",
	   "metadata": {},
	   "source": [
       "# Chapter 4: PERFORMANCE OF LINES"
	   ]
	},
{
		   "cell_type": "markdown",
		   "metadata": {},
		   "source": [
			"## Example 4.10: EX4_10.sce"
		   ]
		  },
  {
"cell_type": "code",
	   "execution_count": null,
	   "metadata": {
	    "collapsed": true
	   },
	   "outputs": [],
"source": [
"// To determine the sending end voltage and current , power and power factor. Evaluate A, B , C, D parameters.\n",
"clear\n",
"clc;\n",
"R=.1557*160\n",
"GMD=(3.7*6.475*7.4)^(1/3);\n",
"Z1=2*(10^-7)*log(560/.978)*160*1000;\n",
"XL=63.8;\n",
"C=(10^-9)*2*(10^6)*%pi*160*1000/(36*%pi*log(560/.978));\n",
"Z=sqrt((.1557^2) + .39875^2)*(cosd(68.67)+ %i*sind(68.67));\n",
"jwC=%i*314*1.399*(10^-6)/160;\n",
"Zc=sqrt(Z/jwC);\n",
"y=sqrt(Z*jwC);\n",
"yl=y*160;\n",
"A=cosh(yl);\n",
"B=Zc*sinh(yl)\n",
"C=sinh(yl)/Zc;\n",
"Ir=50000/(sqrt(3)*132);\n",
"Vs=(A*76.208) +(B*(10^-3)*Ir*(cosd(-36.87)+%i*sind(-36.87)));\n",
"VS=152.34;\n",
"Is=C*76.208*(10^3) +(A*Ir*(cosd(-36.87)+%i*sind(-36.87)));\n",
"Ps=3*abs(Vs)*abs(Is)*cosd(33.96);\n",
"pf=cosd(33.96);\n",
"Vnl=abs(Vs)/abs(A);\n",
"reg=(Vnl-76.208)*100/76.208;\n",
"n=50000*.8*100/abs(Ps);\n",
"mprintf(' Vs line to line =%.2f kV\n',VS);\n",
"disp(Is,'sending end current Is(A)=');//Answer don't match due to difference in rounding off of digits\n",
"mprintf('sending end power=%.0f kW\n',Ps);\n",
"mprintf('sending end p.f =%.3f\n',pf);\n",
"mprintf('percent regulation=%.1f \n',reg);\n",
"mprintf('percent efficency=%.1f ',n);"
   ]
   }
,
{
		   "cell_type": "markdown",
		   "metadata": {},
		   "source": [
			"## Example 4.1: EX4_1.sce"
		   ]
		  },
  {
"cell_type": "code",
	   "execution_count": null,
	   "metadata": {
	    "collapsed": true
	   },
	   "outputs": [],
"source": [
"//To detremine the the voltage at the generating station and efficiency of transmission\n",
"clear\n",
"clc;\n",
"R=0.496;// resistance\n",
"X=1.536;\n",
"Vr=2000;\n",
"Z=(10*2*2/(11*11)) + %i*30*2*2/(11*11);\n",
"Zt=(.04+(1.3*2*2/(11*11))) + %i*(.125 + (4.5*2*2/(11*11)));//Transformer impedence\n",
"Il=250*1000/2000;// line current(amps.)\n",
"Pl=Il*Il*R;//line loss(kW)\n",
"Po=250*0.8;// output(kW)\n",
"cosr=0.8;// power factor\n",
"sinr=.6;\n",
"%n=200*100/(200+7.7);\n",
"Vs=(Vr*cosr+Il*R)+%i*(Vr*sinr+Il*X);\n",
"V=sqrt((1662^2)+ (1392^2));\n",
"mprintf('efficiency= %.1f percent \n',%n);\n",
"mprintf('Sending end voltage,|Vs|=%.0f volts',V);"
   ]
   }
,
{
		   "cell_type": "markdown",
		   "metadata": {},
		   "source": [
			"## Example 4.2: To_determine_power_input_and_output_i_star_connected_ii_delta_connected.sce"
		   ]
		  },
  {
"cell_type": "code",
	   "execution_count": null,
	   "metadata": {
	    "collapsed": true
	   },
	   "outputs": [],
"source": [
"//To determine power input and output (i) star connected (ii)delta connected\n",
"clear\n",
"clc;\n",
"mprintf('when load is star connected\n');\n",
"Vln=400/sqrt(3);// Line to neutral voltage(V)\n",
"Z=7+ %i*11;//Impedence per phase\n",
"Il=231/Z;// line current(amp.)\n",
"I=abs(231/Z);\n",
"Pi=3*I*I*7;\n",
"Po=3*I*I*6;\n",
"mprintf('power input =%.0f watts\n',Pi);//Answers don't match due to difference in rounding off of digits\n",
"mprintf('power output=%.0f watts\n',Po);//Answers don't match due to difference in rounding off of digits\n",
"mprintf('when load is delta connected\n');\n",
"Ze=2+ %i*3;// equivalent impedence(ohm)\n",
"Zp=3+%i*5;// impedence per phase\n",
"il=231/Zp;//Line current(amps.)\n",
"IL=abs(il);\n",
"pi=3*IL*IL*3;\n",
"po=3*IL*IL*2;\n",
"mprintf('power input=%.1f watts\n',pi);//Answers don't match due to difference in rounding off of digits\n",
"mprintf('power output = %.0f watts \n',po);//Answers don't match due to difference in rounding off of digits"
   ]
   }
,
{
		   "cell_type": "markdown",
		   "metadata": {},
		   "source": [
			"## Example 4.3: To_determine_efficiency_and_regulation_of_line.sce"
		   ]
		  },
  {
"cell_type": "code",
	   "execution_count": null,
	   "metadata": {
	    "collapsed": true
	   },
	   "outputs": [],
"source": [
"// To determine efficiency and regulation of line\n",
"clear\n",
"clc;\n",
"a=100/.5\n",
"Xl=2*(10^-7)*log(100/.5);//inductance(H/meter)\n",
"XL=20*(1000)*Xl;// inductance of 20 km length \n",
"R=6.65;// resistance(ohm)\n",
"Rc=20*1000/(58*90);// resistance of copper(ohm)\n",
"I=10*1000/(33*.8*sqrt(3));// the current(amps.)\n",
"Pl=3*I*I*Rc/(10^6);//loss (MW)\n",
"n=10/(10+Pl);\n",
"mprintf('efficiency=%.4f percent \n',n);\n",
"Vr=19052;\n",
"cosr=.8;//power factor\n",
"sinr=.6;\n",
"Vs=abs(((Vr*cosr+I*Rc) +%i*(Vr*sinr+ I*R)));\n",
"mprintf('Vs =%.0f volts\n',Vs);//Answer don't match due to difference in rounding off of digits\n",
"Reg=(Vs-Vr)*100/Vr;\n",
"mprintf(' regulation =%.2f percent',Reg)"
   ]
   }
,
{
		   "cell_type": "markdown",
		   "metadata": {},
		   "source": [
			"## Example 4.4: To_calculate_the_voltage_across_each_load_impedence_and_current_in_the_nuetral.sce"
		   ]
		  },
  {
"cell_type": "code",
	   "execution_count": null,
	   "metadata": {
	    "collapsed": true
	   },
	   "outputs": [],
"source": [
"//To calculate the voltage across each load impedence and current in the nuetral\n",
"clear\n",
"clc;\n",
"IR=(400)/((sqrt(3)*(6.3+%i*9)));\n",
"IY=231*(cosd(-120) + %i*sind(-120))/8.3;\n",
"IB=231*(cosd(120) + %i*sind(120))/(6.3-%i*8);\n",
"In=abs((IR +IY +IB));//Neutral current\n",
"mprintf('Neutral current =%.2f amps\n',In);\n",
"VR=abs(IR*(6+ %i*9));\n",
"VY=abs(IY*(8));\n",
"VB=abs(IB*(6-%i*8));\n",
"mprintf('Voltage across Phase R =%.1f volts \n',VR);\n",
"mprintf('Voltage across Phase Y =%.2f volts \n',VY);\n",
"mprintf('Voltage across Phase B =%.0f volts \n',VB);"
   ]
   }
,
{
		   "cell_type": "markdown",
		   "metadata": {},
		   "source": [
			"## Example 4.5: To_determine_efficiency_and_regulation_of_3_phase_line.sce"
		   ]
		  },
  {
"cell_type": "code",
	   "execution_count": null,
	   "metadata": {
	    "collapsed": true
	   },
	   "outputs": [],
"source": [
"// To determine efficiency and regulation of 3 phase line\n",
"clear\n",
"clc;\n",
"R=100*.1;//Resistance of line (ohm)\n",
"Xl=2*(10^-7)*100*1000*log(200/.75);//inductance of line\n",
"X2=Xl*314;//inductive reactance\n",
"C=2*(%pi*100)*8.854*(10^-12)*100*1000*(10^6)/(log(200/.75));// capacitance per phase (micro farad)\n",
"mprintf('Using Nominal-T method\n');\n",
"Ir=20*1000/(sqrt(3)*66*.8);\n",
"Vr=66*1000/sqrt(3);\n",
"Vc=(38104*.8+ Ir*5) +%i*(38104*.6+ Ir*17.55);// voltage across condenser\n",
"Ic=%i*314*(Vc)*.9954*(10^-6);\n",
"is=Ir+Ic;\n",
"Is=abs(Ir+Ic);\n",
"Vs=abs(Vc + (is*(5 + %i*17.53)));\n",
"VR=abs(Vs*(-%i*3199)/(5-%i*3181));// no load recieving end voltage\n",
"Reg=(VR-Vr)*100/Vr;\n",
"Pl=3*(Ir*Ir*5 + Is*Is*5)/1000000;\n",
"%n=20*100/(20+Pl);\n",
"mprintf('percent regulation=%.1f  \n',Reg);\n",
"mprintf('percent efficiency=%.1f  \n\n',%n);\n",
"mprintf('Using Nominal-pi method\n');\n",
"Ir1=218.68*(.8-%i*.6);\n",
"Ic1=%i*314*.4977*(10^-6)*Vr;\n",
"Il=Ir1+Ic1;\n",
"vs1=Vr+Il*(10+%i*35.1);\n",
"Vs1=abs(vs1);\n",
"Vr1=Vs1*(-%i*6398)/(10-%i*6363);\n",
"VR1=abs(Vr1);// no load recieving end voltage\n",
"Reg2=(VR1-Vr)*100/Vr;\n",
"IL=abs(Ir1+Ic1);\n",
"Loss=3*IL*IL*10;\n",
"%n=20*100/21.388;\n",
"mprintf('percent regulation=%.2f  \n',Reg2);\n",
"mprintf('percent efficiency=%.1f  \n',%n);\n",
"\n",
"\n",
""
   ]
   }
,
{
		   "cell_type": "markdown",
		   "metadata": {},
		   "source": [
			"## Example 4.6: EX4_6.sce"
		   ]
		  },
  {
"cell_type": "code",
	   "execution_count": null,
	   "metadata": {
	    "collapsed": true
	   },
	   "outputs": [],
"source": [
"//To find the rms value and phase values (i)The incident voltage to neutral at the recieving end (ii)The reflected voltage to neutral at the recieving end (iii)The incident and reflected voltage to neutral at 120 km from the recieving end.\n",
"clear\n",
"clc;\n",
"R=0.2;\n",
"L=1.3;\n",
"C=0.01*(10^-6);\n",
"z=R+%i*L*314*(10^-3);// serie impedence\n",
"y=%i*314*C;// shunt admittance\n",
"Zc=sqrt(z/y);// characterstic impedence\n",
"Y=sqrt(y*z);\n",
"Vr=132*1000/sqrt(3);\n",
"Ir=0;\n",
"Vin=(Vr + Ir*Zc)/2;// incident voltage to neutral at the recieving end\n",
"mprintf('Vr =%.3f volts \n',Vr);//Answer don't match due to difference in rounding off of digits\n",
"mprintf('(i)The incident voltage to neutral at the recieving end =%.3f volts \n',Vin);//Answer don't match due to difference in rounding off of digits\n",
"Vin2=(Vr - Ir*Zc)/2;// The reflected voltage to neutral at the recieving end\n",
"mprintf('(ii)The reflected voltage to neutral at the recieving end=%.3f volts \n',Vin2);//Answer don't match due to difference inrounding off of digits\n",
"Vrp=Vr*exp(.2714*120*(10^-3))*exp(%i*1.169*120*(10^-3))/1000;//Taking Vrp=Vr+\n",
"Vrm=Vr*exp(-0.0325)*exp(-%i*.140)/1000;//Taking Vrm=Vr-\n",
"v1=Vrm/2;// reflected voltage to neutral at 120 km from the recieving end\n",
"phase_v1=atand(imag(v1)/real(v1));//Phase angle of v1\n",
"v2=Vrp/2;//incident voltage to neutral at 120 km from the recieving end\n",
"phase_v2=atand(imag(v2)/real(v2));//Phase angle of v2\n",
"mprintf('(iii) reflected voltage to neutral at 120 km from the recieving end =%.2f at angle of %.2f \n',abs(v1),phase_v1);\n",
"mprintf('incident voltage to neutral at 120 km from the recieving end = %.2f at angle of %.2f\n',abs(v2),phase_v2);"
   ]
   }
,
{
		   "cell_type": "markdown",
		   "metadata": {},
		   "source": [
			"## Example 4.7: To_determine_of_efficiency_of_line.sce"
		   ]
		  },
  {
"cell_type": "code",
	   "execution_count": null,
	   "metadata": {
	    "collapsed": true
	   },
	   "outputs": [],
"source": [
"//To determine of efficiency of line\n",
"clear\n",
"clc;\n",
"Ir=40*1000/(sqrt(3)*132*.8);\n",
"Vr=132*1000/sqrt(3);\n",
"Zc=380*(cosd(-13.06)+ %i*sind(-13.06));\n",
"IR=Ir*(cosd(-36.8)+ %i*sind(-36.8));\n",
"Vsp=(Vr+IR*Zc)*(1.033*(cosd(8.02)+ %i*sind(8.02)))/2;\n",
"Vsm=(Vr-IR*Zc)*(.968*(cosd(-8.02)+ %i*sind(-8.02)))/2;\n",
"vs=Vsp+ Vsm;\n",
"Vs=abs(vs);\n",
"is=(Vsp-Vsm)/Zc;\n",
"Is=abs(is)\n",
"P=3*Vs*Is*cosd(33.72)/10^6;\n",
"n=40*100/P;\n",
"mprintf('efficiency=%.1f',n);//Answer don't match due to difference in rounding off of digits\n",
""
   ]
   }
,
{
		   "cell_type": "markdown",
		   "metadata": {},
		   "source": [
			"## Example 4.8: To_determine_the_ABCD_parameters_of_Line.sce"
		   ]
		  },
  {
"cell_type": "code",
	   "execution_count": null,
	   "metadata": {
	    "collapsed": true
	   },
	   "outputs": [],
"source": [
"//To determine the ABCD parameters of Line\n",
"clear\n",
"clc;\n",
"yl=(0.2714+ %i*1.169)*120*(10^-3);\n",
"Ir=40*1000/(sqrt(3)*132*.8)\n",
"A=cosh(yl);\n",
"phase_A=atand(imag(A)/real(A));//Phase angle of A\n",
"IR=Ir*(cosd(-36.8)+ %i*sind(-36.8))\n",
"Vr=132*1000/sqrt(3);\n",
"Zc=380*(cosd(-13.06)+ %i*sind(-13.06));\n",
"B=Zc*sinh(yl);\n",
"phase_B=atand(imag(B)/real(B));//Phase angle of B\n",
"Vs=(A*Vr+B*IR);\n",
"f=abs(B);\n",
"d=abs(Vs);\n",
"C=sinh(yl)/Zc;\n",
"phase_C=atand(imag(C)/real(C));//Phase angle of C\n",
"D=cosh(yl);\n",
"phase_D=atand(imag(D)/real(D));//Phase angle of D\n",
"mprintf('A=%.2f at an angle of %.2f \n',abs(A),phase_A)\n",
"mprintf('B=%.1f at an angle of %.0f \n',abs(B),phase_B)\n",
"mprintf('C=%.2f at an angle of %.2f \n',abs(C),phase_C)\n",
"mprintf('D=%.2f at an angle of %.2f \n',abs(D),phase_D)"
   ]
   }
,
{
		   "cell_type": "markdown",
		   "metadata": {},
		   "source": [
			"## Example 4.9: EX4_9.sce"
		   ]
		  },
  {
"cell_type": "code",
	   "execution_count": null,
	   "metadata": {
	    "collapsed": true
	   },
	   "outputs": [],
"source": [
"//To determine the sending end voltage and efficiency using Nominal_pi and Nominal-T method\n",
"clear\n",
"clc;\n",
"Ir=218.7*(.8-%i*.6);\n",
"Ic1=%i*314*.6*(10^-6)*76200;\n",
"Il=Ic1+Ir;\n",
"Vs=76200 + Il*(24+ %i*48.38);\n",
"phase_Vs=atand(imag(Vs)/real(Vs));//phase angle of VS\n",
"Pl=3*24*abs(Il)*abs(Il)/1000000;//The Loss(MW)\n",
"n=40*100/(40+Pl);\n",
"mprintf('Using Nominal- pi method\n ');\n",
"mprintf('Vs=%.0f volts at an angle of %.2f \n',abs(Vs),phase_Vs)\n",
"mprintf('efficiency=%.2f percent\n',n);\n",
"mprintf('\nUsing Nominal-T method\n');\n",
"Vc=76200*(.8+%i*.6) + 218.7*(12+ %i*24.49);\n",
"Ic=%i*314*1.2*(10^-6)*(63584+ %i*51076);\n",
"Is=199.46+ %i*23.95;\n",
"Vs=(Vc + Is*(12+ %i*24.49))/1000;\n",
"phase_Vs=atand(imag(Vs)/real(Vs));//Phase angle of Vs\n",
"Pl1=3*12*((200.89^2)+ 218.7^2)/1000000;//The loss(MW)\n",
"n1=40*100/(40+Pl1);\n",
"mprintf('Vs=%.2f  at an angle of %.2f \n',abs(Vs),phase_Vs)\n",
"mprintf('efficiency=%.2f percent\n',n1);\n",
""
   ]
   }
],
"metadata": {
		  "kernelspec": {
		   "display_name": "Scilab",
		   "language": "scilab",
		   "name": "scilab"
		  },
		  "language_info": {
		   "file_extension": ".sce",
		   "help_links": [
			{
			 "text": "MetaKernel Magics",
			 "url": "https://github.com/calysto/metakernel/blob/master/metakernel/magics/README.md"
			}
		   ],
		   "mimetype": "text/x-octave",
		   "name": "scilab",
		   "version": "0.7.1"
		  }
		 },
		 "nbformat": 4,
		 "nbformat_minor": 0
}
