{
"cells": [
 {
		   "cell_type": "markdown",
	   "metadata": {},
	   "source": [
       "# Chapter 3: CAPACITANCE OF TRANSMISSION LINES"
	   ]
	},
{
		   "cell_type": "markdown",
		   "metadata": {},
		   "source": [
			"## Example 3.1: To_determine_the_capacitance_and_charging_current.sce"
		   ]
		  },
  {
"cell_type": "code",
	   "execution_count": null,
	   "metadata": {
	    "collapsed": true
	   },
	   "outputs": [],
"source": [
"//To determine the capacitance and charging current \n",
"clear\n",
"clc;\n",
"Dm=2.015;// mutual GMD of conductors(m)\n",
"r=.4;// radius of conductor(cm)\n",
"C=10^-9*1000/(18*log(201.5/.4));\n",
"Ic=132*1000*8.928*314*(10^-9)/sqrt(3);\n",
"mprintf('capacitance =%.13f F/km\n',C);//Answers don't match due to different reprentation\n",
"mprintf('charging current=%.4f amp/km',Ic);"
   ]
   }
,
{
		   "cell_type": "markdown",
		   "metadata": {},
		   "source": [
			"## Example 3.2: To_determine_the_capacitance_and_charging_current.sce"
		   ]
		  },
  {
"cell_type": "code",
	   "execution_count": null,
	   "metadata": {
	    "collapsed": true
	   },
	   "outputs": [],
"source": [
"//To determine the capacitance and charging current \n",
"clear\n",
"clc;\n",
"GMDm=6.61;//mutual GMD(m)\n",
"Ds1=sqrt(1.25*(10^-2)*10.965);\n",
"Ds3=Ds1;\n",
"Ds2=sqrt(1.25*(10^-2)*9);\n",
"Ds=((Ds1*Ds2*Ds3)^.333333);\n",
"C=1/(18*log(GMDm/Ds));\n",
"Ic=220*1000*314*.01905*(10^-6)/sqrt(3);\n",
"mprintf('capacitance =%.6f micro-Farad/km\n',C);\n",
"mprintf('charging current =%.2f amp/km',Ic);"
   ]
   }
,
{
		   "cell_type": "markdown",
		   "metadata": {},
		   "source": [
			"## Example 3.3: To_determine_the_capacitance_and_charging_current.sce"
		   ]
		  },
  {
"cell_type": "code",
	   "execution_count": null,
	   "metadata": {
	    "collapsed": true
	   },
	   "outputs": [],
"source": [
"//To determine the capacitance and charging current \n",
"clear\n",
"clc;\n",
"GMD=8.19;\n",
"Ds=sqrt(2.25*(10^-2)*.4);\n",
"C=1/(18*log(GMD/Ds));\n",
"Ic=220*1000*314*C*(10^-6)/sqrt(3);\n",
"mprintf('capacitance per km =%.5f micro-Farad\n',C);\n",
"mprintf('charging current =%.3f amp',Ic);"
   ]
   }
],
"metadata": {
		  "kernelspec": {
		   "display_name": "Scilab",
		   "language": "scilab",
		   "name": "scilab"
		  },
		  "language_info": {
		   "file_extension": ".sce",
		   "help_links": [
			{
			 "text": "MetaKernel Magics",
			 "url": "https://github.com/calysto/metakernel/blob/master/metakernel/magics/README.md"
			}
		   ],
		   "mimetype": "text/x-octave",
		   "name": "scilab",
		   "version": "0.7.1"
		  }
		 },
		 "nbformat": 4,
		 "nbformat_minor": 0
}
