{
"cells": [
 {
		   "cell_type": "markdown",
	   "metadata": {},
	   "source": [
       "# Chapter 15: CIRCUIT BREAKERS"
	   ]
	},
{
		   "cell_type": "markdown",
		   "metadata": {},
		   "source": [
			"## Example 15.1: EX15_1.sce"
		   ]
		  },
  {
"cell_type": "code",
	   "execution_count": null,
	   "metadata": {
	    "collapsed": true
	   },
	   "outputs": [],
"source": [
"// To determine the voltage appearing across the pole of C.B. also determine the value of resistance to be used across contacts\n",
"clear \n",
"clc;\n",
"i=5;\n",
"L=5*(10^6);\n",
"C=.01;\n",
"e=i*sqrt(L/C);\n",
"mprintf('the voltage appearing across the pole of C.B.=%.0f V\n',e);\n",
"R=.5*sqrt(L/C);\n",
"mprintf('the value of resistance to be used across contacts, R=%.0f ohms\n',R);"
   ]
   }
,
{
		   "cell_type": "markdown",
		   "metadata": {},
		   "source": [
			"## Example 15.2: To_determine_the_rate_of_rise_of_restriking_voltage.sce"
		   ]
		  },
  {
"cell_type": "code",
	   "execution_count": null,
	   "metadata": {
	    "collapsed": true
	   },
	   "outputs": [],
"source": [
"// To determine the rate of rise of restriking voltage\n",
"clear \n",
"clc;\n",
"Vnl=132*sqrt(2)/sqrt(3);//peak value of peak to neutral voltage(kV)\n",
"Vr1=Vnl*.95;//recovery voltage (kV)\n",
"Vr=102.4*.916;// active recovery voltage(kV)\n",
"Vrmax=2*Vr;\n",
"fn=16*(10^3);\n",
"t=1/(2*fn);\n",
"RRRV=Vrmax*(10^-6)/t;\n",
"mprintf('rate of rise of restriking voltage, RRRV=%.0f kV/micro-sec',RRRV);"
   ]
   }
,
{
		   "cell_type": "markdown",
		   "metadata": {},
		   "source": [
			"## Example 15.3: To_Determine_the_average_rate_of_rise_of_restriking_voltage.sce"
		   ]
		  },
  {
"cell_type": "code",
	   "execution_count": null,
	   "metadata": {
	    "collapsed": true
	   },
	   "outputs": [],
"source": [
"// To Determine the average rate of rise of restriking voltage\n",
"clear \n",
"clc;\n",
"Vm=132*sqrt(2)/sqrt(3);\n",
"K1=.9;\n",
"K2=1.5\n",
"K=K1*K2;\n",
"sinq=.92;\n",
"Vr=K*Vm*sinq;\n",
"fn=16*(10^3);\n",
"RRRV=2*Vr*(10^-6)*fn*2;\n",
"mprintf('average rate of rise of restriking voltage,RRRV=%.3f kV/micro-sec\n',RRRV);"
   ]
   }
,
{
		   "cell_type": "markdown",
		   "metadata": {},
		   "source": [
			"## Example 15.4: EX15_4.sce"
		   ]
		  },
  {
"cell_type": "code",
	   "execution_count": null,
	   "metadata": {
	    "collapsed": true
	   },
	   "outputs": [],
"source": [
"// To determine the rated normal current , breaking current , making current and short time rating (current)\n",
"clear \n",
"clc;\n",
"In=1500;\n",
"mprintf('rated normal current=%.0f amps\n',In);\n",
"Ib=2000/(sqrt(3)*33);\n",
"mprintf('breaking current=%.2f KA\n',Ib);\n",
"Im=2.55*Ib;\n",
"mprintf('making current =%.2f kA\n',Im);\n",
"Is=Ib;\n",
"mprintf('short time rating  for 3 sec=%.2f kA\n',Is);"
   ]
   }
,
{
		   "cell_type": "markdown",
		   "metadata": {},
		   "source": [
			"## Example 15.5: EX15_5.sce"
		   ]
		  },
  {
"cell_type": "code",
	   "execution_count": null,
	   "metadata": {
	    "collapsed": true
	   },
	   "outputs": [],
"source": [
"//TO Determine (i)sustained short circuit current in the breaker (ii)initial symmetrical r.m.s current in the breaker (iii)maximum possible d.c component of the short circuit current in the breaker (iv)momentary current rating of the breaker (v)the current to be interrupted by the breaker (vi)the interupting kVA.\n",
"clear\n",
"clc;\n",
"MVA=10;\n",
"Is=MVA*1000/(sqrt(3)*13.8);\n",
"mprintf('(i)sustained short circuit current in the breaker =%.0f amps\n',Is);\n",
"MVA1=100;\n",
"Isc=MVA1*1000/(sqrt(3)*13.8);\n",
"mprintf('(ii)initial symmetrical r.m.s current in the breaker r.m.s=%.0f amps\n',Isc);\n",
"Im=sqrt(2)*Isc;\n",
"mprintf('(iii)maximum possible d.c component of the short circuit current in the breaker =%.0f amps\n',Im);\n",
"Im2=1.6*Isc;\n",
"mprintf('(iv)momentary current rating of the breaker=%.0f amps\n',Im2);\n",
"Ib=1.2*Isc;\n",
"mprintf('(v)the current to be interrupted by the breaker =%.0f amps\n',Ib);\n",
"KVA=sqrt(3)*13.8*5016;\n",
"mprintf('(vi)the interupting =%.0f KVA\n',KVA);\n",
"//Answers don't match due to difference in rounding off of digits"
   ]
   }
],
"metadata": {
		  "kernelspec": {
		   "display_name": "Scilab",
		   "language": "scilab",
		   "name": "scilab"
		  },
		  "language_info": {
		   "file_extension": ".sce",
		   "help_links": [
			{
			 "text": "MetaKernel Magics",
			 "url": "https://github.com/calysto/metakernel/blob/master/metakernel/magics/README.md"
			}
		   ],
		   "mimetype": "text/x-octave",
		   "name": "scilab",
		   "version": "0.7.1"
		  }
		 },
		 "nbformat": 4,
		 "nbformat_minor": 0
}
