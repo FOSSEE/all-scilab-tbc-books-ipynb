{
"cells": [
 {
		   "cell_type": "markdown",
	   "metadata": {},
	   "source": [
       "# Chapter 2: LINE CONSTANT CALCULATIONS"
	   ]
	},
{
		   "cell_type": "markdown",
		   "metadata": {},
		   "source": [
			"## Example 2.2: To_dtermine_inductance_of_a_3_phase_line.sce"
		   ]
		  },
  {
"cell_type": "code",
	   "execution_count": null,
	   "metadata": {
	    "collapsed": true
	   },
	   "outputs": [],
"source": [
"//To dtermine inductance of a 3 phase line \n",
"clear\n",
"clc;\n",
"GMD=0.7788*0.8/(2*100);\n",
"Mgmd=((1.6*3.2*1.6)^(1/3));\n",
"Z=2*(10^-4)*1000*log(2.015/.003115);\n",
"mprintf('The self GMD of the conductor =%.6f metres\n',GMD);\n",
"mprintf('The mutual GMD of the conductor =%.3f metres\n ',Mgmd);\n",
"mprintf('Inductance =%.3f mH/km\n',Z);"
   ]
   }
,
{
		   "cell_type": "markdown",
		   "metadata": {},
		   "source": [
			"## Example 2.3: EX2_3.sce"
		   ]
		  },
  {
"cell_type": "code",
	   "execution_count": null,
	   "metadata": {
	    "collapsed": true
	   },
	   "outputs": [],
"source": [
"//What will be the equivalent radius of bundle conductor having its part conductors 'r' on the periphery of circle  of dia'd' if the number of conductors is 2,3,4 ,6 ?\n",
"\n",
"clear\n",
"clc;\n",
"r=poly(0,'r');\n",
"D11=r^1;\n",
"D12=2*r;\n",
"D14=4*r\n",
"D13=sqrt(16-4)*r;\n",
"Ds1=((1*2*2*sqrt(3)*4*2*sqrt(3)*2*2)^(1/7))*r;\n",
"Ds7=((2*1*2*2**2*2*2)^(1/7))*r;//we get this after Taking r outside the 1/7th root\n",
"Ds=((((1*2*2*sqrt(3)*4*2*sqrt(3)*2*2)^(1/7))^6)*((2*1*2*2**2*2*2)^(1/7)))^(1/7)*r;\n",
"Dseq=((.7788)^(1/7))*Ds;\n",
"disp(Dseq,'Dseq.= ');"
   ]
   }
,
{
		   "cell_type": "markdown",
		   "metadata": {},
		   "source": [
			"## Example 2.4: To_determine_the_inductance_of_single_phase_Transmission_line.sce"
		   ]
		  },
  {
"cell_type": "code",
	   "execution_count": null,
	   "metadata": {
	    "collapsed": true
	   },
	   "outputs": [],
"source": [
"// To determine the inductance of single phase Transmission line\n",
"clear\n",
"clc;\n",
"GMDa=0.001947;// GMD of conductor in group A\n",
"DSA=((.001947*6*12*.001947*6*6*0.001947*6*12)^(1/9));\n",
"DSB=sqrt(5*(10^-3)*.7788*6);\n",
"Dae=sqrt((9^2)+6^2);\n",
"Dcd=sqrt((12^2)+9^2);\n",
"DMA=((9*10.81*10.81*9*15*10.81)^(1/6));\n",
"LA=2*(10^-7)*(10^6)*log(DMA/DSA);\n",
"LB=2*(10^-7)*(10^6)*log(DMA/DSB);\n",
"Tot=LA+LB;\n",
"mprintf('inductance of line A,LA=%.3f mH/km\n',LA);//Answers don't match due to difference in rounding off of digits\n",
"mprintf('inductance of line B,LB=%.1f mH/km\n',LB);//Answers don't match due to difference in rounding off of digits\n",
"mprintf('total inductance of line =%.2f mH/km\n',Tot);//Answers don't match due to difference in rounding off of digits"
   ]
   }
,
{
		   "cell_type": "markdown",
		   "metadata": {},
		   "source": [
			"## Example 2.5: To_determine_the_inductance_per_Km_of_3_phase_line.sce"
		   ]
		  },
  {
"cell_type": "code",
	   "execution_count": null,
	   "metadata": {
	    "collapsed": true
	   },
	   "outputs": [],
"source": [
"// To determine the inductance per Km of  3-phase line\n",
"clear\n",
"clc;\n",
"GMDc=1.266*0.7788*(10^-2);// self GMD of each conductor\n",
"Dbc=sqrt((4^2)+(.75^2));\n",
"Dab=Dbc;\n",
"Dab`=sqrt((4^2)+(8.25^2));\n",
"Daa=sqrt((8^2)+(7.5^2));\n",
"Dm1=(Dbc*8*7.5*9.1685)^(1/4);\n",
"Dm2=(Dbc*Dbc*9.1685*9.1685)^(1/4);\n",
"Dm3=Dm1;\n",
"Dm=((Dm1*Dm2*Dm3)^(1/3));\n",
"Ds1=sqrt(GMDc*Daa);// self GMD of each phase\n",
"Ds3=Ds1;\n",
"Ds2=sqrt(GMDc*9);\n",
"Ds=((Ds1*Ds2*Ds3)^(1/3));\n",
"Z=2*(10^-4)*(1000)*log(Dm/Ds);\n",
"mprintf('inductance=%.3f mH/km/phase\n',Z);"
   ]
   }
,
{
		   "cell_type": "markdown",
		   "metadata": {},
		   "source": [
			"## Example 2.6: To_determine_the_inductance_of_double_circuit_line.sce"
		   ]
		  },
  {
"cell_type": "code",
	   "execution_count": null,
	   "metadata": {
	    "collapsed": true
	   },
	   "outputs": [],
"source": [
"// To determine the inductance of double circuit line \n",
"clear\n",
"clc;\n",
"GMDs=.0069;//self GMD of the conductor\n",
"Dab=sqrt((3^2)+.5^2);\n",
"Dbc=Dab;\n",
"Dac=6;\n",
"Dab`=sqrt((3^2)+6^2);\n",
"Daa=sqrt((6^2)+5.5^2);\n",
"Dm1=((3.04*6*5.5*6.708)^.25);\n",
"Dm2=((3.04*3.04*6.708*6.708)^.25);\n",
"Dm=4.89;\n",
"Ds1=sqrt(GMDs*Daa);\n",
"Ds2=0.2217;\n",
"Ds=.228;\n",
"Z=2*(10^-7)*(10^6)*log(Dm/Ds);\n",
"mprintf('inductance =%.3f mH/km',Z);"
   ]
   }
,
{
		   "cell_type": "markdown",
		   "metadata": {},
		   "source": [
			"## Example 2.7: To_determine_the_inductance_per_Km_per_phase_of_single_circuit.sce"
		   ]
		  },
  {
"cell_type": "code",
	   "execution_count": null,
	   "metadata": {
	    "collapsed": true
	   },
	   "outputs": [],
"source": [
"// // To determine the inductance per Km per phase of single circuit\n",
"clear\n",
"clc;\n",
"Ds=sqrt(0.025*.4*.7788);\n",
"Dm=((6.5*13.0*6.5)^(1/3));\n",
"Z=2*(10^-4)*1000*log(Dm/Ds);\n",
"mprintf('inductance =%.3f mH/km/phase',Z);"
   ]
   }
],
"metadata": {
		  "kernelspec": {
		   "display_name": "Scilab",
		   "language": "scilab",
		   "name": "scilab"
		  },
		  "language_info": {
		   "file_extension": ".sce",
		   "help_links": [
			{
			 "text": "MetaKernel Magics",
			 "url": "https://github.com/calysto/metakernel/blob/master/metakernel/magics/README.md"
			}
		   ],
		   "mimetype": "text/x-octave",
		   "name": "scilab",
		   "version": "0.7.1"
		  }
		 },
		 "nbformat": 4,
		 "nbformat_minor": 0
}
