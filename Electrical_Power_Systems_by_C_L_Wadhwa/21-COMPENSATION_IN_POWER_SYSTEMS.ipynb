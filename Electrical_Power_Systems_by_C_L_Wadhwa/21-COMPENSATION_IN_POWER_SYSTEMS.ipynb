{
"cells": [
 {
		   "cell_type": "markdown",
	   "metadata": {},
	   "source": [
       "# Chapter 21: COMPENSATION IN POWER SYSTEMS"
	   ]
	},
{
		   "cell_type": "markdown",
		   "metadata": {},
		   "source": [
			"## Example 21.1: Determine_the_load_bus_voltage.sce"
		   ]
		  },
  {
"cell_type": "code",
	   "execution_count": null,
	   "metadata": {
	    "collapsed": true
	   },
	   "outputs": [],
"source": [
"//Determine the load bus voltage\n",
"clear \n",
"clc;\n",
"load1=10+%i*15;//load per phase(MVA)\n",
"SCC=250/3;\n",
"V=11/sqrt(3);\n",
"P=30;\n",
"Q=45;\n",
"Z=(11/sqrt(3))^2/(250/3);//Equivalent short circuit impedence\n",
"dsc=atand(5);\n",
"R=.0949;\n",
"X=.4746;\n",
"//Using equation: V^2= (Vcosd+PR/V)^2 + (Vsind+QX/V)^2, we get \n",
"y=poly([51.7 0 -27.5 0 1],'V','c');\n",
"disp(y,'we get equation :');\n",
"X=roots(y);\n",
"disp(X,'Roots of above equation are ');\n",
"V=5.046;\n",
"mprintf('V=%.3f\n',V);\n",
"dV=6.35-V;\n",
"Ssc=250;\n",
"//using expression ,a=dV/v=1(Pcos(dsc)+Qsin(dsc))/Ssc +j(Psin(dsc)-Qcos(dsc))/Ssc\n",
"a=(P*cosd(dsc)+Q*sind(dsc))/Ssc +%i*(P*sind(dsc)-Q*cosd(dsc))/Ssc;\n",
"disp(abs(a),'dV/V= ');"
   ]
   }
],
"metadata": {
		  "kernelspec": {
		   "display_name": "Scilab",
		   "language": "scilab",
		   "name": "scilab"
		  },
		  "language_info": {
		   "file_extension": ".sce",
		   "help_links": [
			{
			 "text": "MetaKernel Magics",
			 "url": "https://github.com/calysto/metakernel/blob/master/metakernel/magics/README.md"
			}
		   ],
		   "mimetype": "text/x-octave",
		   "name": "scilab",
		   "version": "0.7.1"
		  }
		 },
		 "nbformat": 4,
		 "nbformat_minor": 0
}
