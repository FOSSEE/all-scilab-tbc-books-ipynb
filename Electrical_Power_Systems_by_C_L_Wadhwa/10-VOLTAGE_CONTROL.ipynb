{
"cells": [
 {
		   "cell_type": "markdown",
	   "metadata": {},
	   "source": [
       "# Chapter 10: VOLTAGE CONTROL"
	   ]
	},
{
		   "cell_type": "markdown",
		   "metadata": {},
		   "source": [
			"## Example 10.1: EX10_1.sce"
		   ]
		  },
  {
"cell_type": "code",
	   "execution_count": null,
	   "metadata": {
	    "collapsed": true
	   },
	   "outputs": [],
"source": [
"// To determine the total power , active and reactive , supplied by the generator and the p.f at which the generator must operate .\n",
"clear\n",
"clc;\n",
"V=1;//voltage (p.u)\n",
"Pa=.5;//active power at A (p.u)\n",
"Pr=.375;// reactive power at A(p.u)\n",
"Xca=0.075+0.04;// reactance between C and A \n",
"Pl=((Pa^2)+(Pr^2))*Xca/(V^2);\n",
"pac=1.5;\n",
"prc=2;\n",
"Pta=.5+1.5;// total active power between E and C \n",
"Ptr=Pr+Pl+2;// reactive power between E and C \n",
"Xt=.05+.025;//total reactance beteween E an C \n",
"Pl2=((2*2) + (2.4199^2));// loss (p.u)\n",
"Pat=200;\n",
"Prt=315.9;\n",
"pf=.5349;\n",
"mprintf('Total active power supplied by generator =%.0f MW\n',Pat);\n",
"mprintf('Total reactive power supplied by generator =%.1f MW \n',Prt);\n",
"mprintf('p.f of the generator =%.4f \n',pf);"
   ]
   }
,
{
		   "cell_type": "markdown",
		   "metadata": {},
		   "source": [
			"## Example 10.2: EX10_2.sce"
		   ]
		  },
  {
"cell_type": "code",
	   "execution_count": null,
	   "metadata": {
	    "collapsed": true
	   },
	   "outputs": [],
"source": [
"// Determine the settings of the tap changers required to maintain the voltage of load bus bar \n",
"clear\n",
"clc;\n",
"l1=150;\n",
"tstr=1;\n",
"load2=72.65;\n",
"R=30;\n",
"P=(l1*(10^6))/3;\n",
"X=80;\n",
"Q=(load2*(10^6))/3;\n",
"Vs=(230*(10^3))/sqrt(3);\n",
"Vr=Vs;\n",
"ts2=1/(1-(((R*P)+(X*Q))/(Vs*Vr)));\n",
"ts=sqrt(ts2);\n",
"mprintf('ts=%.2f p.u\n',ts);"
   ]
   }
,
{
		   "cell_type": "markdown",
		   "metadata": {},
		   "source": [
			"## Example 10.3: EX10_3.sce"
		   ]
		  },
  {
"cell_type": "code",
	   "execution_count": null,
	   "metadata": {
	    "collapsed": true
	   },
	   "outputs": [],
"source": [
"// (i) Find the sending end Voltage and the regulation of line (ii) Determine the reactance power supplied by the line and by synchronous capacotor and p.f of line (iii)Determine the maximum power transmitted \n",
"clear\n",
"clc;\n",
"A=.895;\n",
"Vr=215;\n",
"B=182.5;\n",
"x=A*(Vr^2)/B;\n",
"y=78.6-1.4;//b-a\n",
"p=acosd(.9);\n",
"X1=x/50;\n",
"Vs=265*182.5/215;\n",
"Vr1=Vs/A;\n",
"Reg=100*(Vr1-Vr)/Vr;\n",
"mprintf('(i) sending end voltage (kV)=%.1f kV\n',Vs);\n",
"mprintf('recieving end voltage =%.0f kV\n',Vr1);\n",
"mprintf('Regulation = %.2f percent\n',Reg);\n",
"Vs1=236;\n",
"Q=Vs1*Vr/B;\n",
"QP=.25*50;\n",
"PR=.50*50;\n",
"cosQ=.958;\n",
"mprintf('\n(ii)QP(MVAr)=%.1f MV Ar\n',QP);\n",
"mprintf(' PR(MVAr)=%.0f MV Ar\n',PR);\n",
"mprintf('CosQ=%.3f \n',cosQ);\n",
"MN=4.55;\n",
"Sbmax=MN*50;\n",
"mprintf('maximum power transmitted =%.1f MW\n',Sbmax);"
   ]
   }
,
{
		   "cell_type": "markdown",
		   "metadata": {},
		   "source": [
			"## Example 10.4: Determine_the_KV_Ar_of_the_Modifier_and_the_maximum_load_that_can_be_transmitted.sce"
		   ]
		  },
  {
"cell_type": "code",
	   "execution_count": null,
	   "metadata": {
	    "collapsed": true
	   },
	   "outputs": [],
"source": [
"// Determine the KV Ar of the Modifier and the maximum load that can be transmitted \n",
"clear\n",
"clc;\n",
"a=0;\n",
"b=73.3\n",
"A=1;\n",
"B=20.88;\n",
"Vs=66;\n",
"Vr=66;\n",
"Load=75;\n",
"p=poly([14624 400 1],'Qr','c');\n",
"r=roots(p);\n",
"Qr=- 40.701538;\n",
"C=-Qr + (75*.6/.8);\n",
"Smax=(Vr^2)*(1-cosd(b))/B;\n",
"mprintf('The phase modifier capacity =%.2f MV Ar\n',C);\n",
"mprintf('Maximum power transmitted ,Pmax =%.2f MW',Smax);\n",
""
   ]
   }
],
"metadata": {
		  "kernelspec": {
		   "display_name": "Scilab",
		   "language": "scilab",
		   "name": "scilab"
		  },
		  "language_info": {
		   "file_extension": ".sce",
		   "help_links": [
			{
			 "text": "MetaKernel Magics",
			 "url": "https://github.com/calysto/metakernel/blob/master/metakernel/magics/README.md"
			}
		   ],
		   "mimetype": "text/x-octave",
		   "name": "scilab",
		   "version": "0.7.1"
		  }
		 },
		 "nbformat": 4,
		 "nbformat_minor": 0
}
