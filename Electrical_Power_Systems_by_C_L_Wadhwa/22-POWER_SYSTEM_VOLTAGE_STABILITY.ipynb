{
"cells": [
 {
		   "cell_type": "markdown",
	   "metadata": {},
	   "source": [
       "# Chapter 22: POWER SYSTEM VOLTAGE STABILITY"
	   ]
	},
{
		   "cell_type": "markdown",
		   "metadata": {},
		   "source": [
			"## Example 22.2: EX22_2.sce"
		   ]
		  },
  {
"cell_type": "code",
	   "execution_count": null,
	   "metadata": {
	    "collapsed": true
	   },
	   "outputs": [],
"source": [
"// To Determine the source voltage when the load is disconnectedto load p.f (i) unity (ii).8 lag.\n",
"clear \n",
"clc;\n",
"Vb=500;\n",
"Sb=1000;\n",
"Zb=Vb^2/Sb;\n",
"Xpu=.35*100/Zb;\n",
"Zth=1000/5000;\n",
"X=Xpu+Zth;\n",
"V=1;\n",
"Q=0;\n",
"P=1;\n",
"Eth=V+(Q*X/V)+%i*(P*X/V);\n",
"Q=.75;\n",
"Eth1=V+(Q*X/V)+%i*(P*X/V);\n",
"printf('(i) For p.f unity , Eth=%.2f V',Eth);\n",
"disp(Eth1,'(i) For p.f .8 , Eth=');"
   ]
   }
,
{
		   "cell_type": "markdown",
		   "metadata": {},
		   "source": [
			"## Example 22.3: EX22_3.sce"
		   ]
		  },
  {
"cell_type": "code",
	   "execution_count": null,
	   "metadata": {
	    "collapsed": true
	   },
	   "outputs": [],
"source": [
"// To determine thee Ac system voltage when the dc system is disconnected or shutdown\n",
"clear \n",
"clc;\n",
"\n",
"X=.625;\n",
"P=1;\n",
"Q=.6;\n",
"V=1;\n",
"Eth=V+(Q*X/V)+%i*(P*X/V);\n",
"Phase_Eth=atand(imag(Eth)/real(Eth));\n",
"mprintf('Eth=%.2f at an angle %.0f degrees',abs(Eth),Phase_Eth);"
   ]
   }
,
{
		   "cell_type": "markdown",
		   "metadata": {},
		   "source": [
			"## Example 22.4: To_Calculate_the_new_on_and_off_times_for_constant_energy.sce"
		   ]
		  },
  {
"cell_type": "code",
	   "execution_count": null,
	   "metadata": {
	    "collapsed": true
	   },
	   "outputs": [],
"source": [
"// To Calculate the new on and off times for constant energy.\n",
"clear \n",
"clc;\n",
"\n",
"P=.5;\n",
"toff=4;\n",
"ton=(P*toff-0*toff)/(.8-P);\n",
"mprintf('toff= 4min.\n')\n",
"mprintf('ton(min.)=%.3f min.\n',ton);"
   ]
   }
,
{
		   "cell_type": "markdown",
		   "metadata": {},
		   "source": [
			"## Example 22.6: To_discuss_the_effect_of_tap_changing.sce"
		   ]
		  },
  {
"cell_type": "code",
	   "execution_count": null,
	   "metadata": {
	    "collapsed": true
	   },
	   "outputs": [],
"source": [
"// To discuss the effect of tap changing\n",
"clear \n",
"clc;\n",
"V=1;\n",
"Qload=1*V\n",
"Qcap=-.75*V^2;\n",
"Qnet=Qload+Qcap;\n",
"VS=1-.75*2*V;// voltage sensitivity\n",
"mprintf('Voltage sensitivity=%.3f\n',VS);\n",
"mprintf('since the voltage sensitivity is negative ,\n voltage regulation by tap changing will reduce net reactive load and improive voltage stability ');"
   ]
   }
,
{
		   "cell_type": "markdown",
		   "metadata": {},
		   "source": [
			"## Example 22.7: To_determine_the_effect_of_tapping_to_raise_the_secondary_voltage_by_10percent.sce"
		   ]
		  },
  {
"cell_type": "code",
	   "execution_count": null,
	   "metadata": {
	    "collapsed": true
	   },
	   "outputs": [],
"source": [
"//To determine the effect of tapping to raise the secondary voltage by 10%\n",
"clear \n",
"clc;\n",
"\n",
"Y=-%i*10;\n",
"n=1+.1;\n",
"Y1=n*(n-1)*Y;\n",
"Y2=(1-n)*Y;\n",
"disp(Y1,'Y1=');\n",
"disp(Y2,'Y2=');\n",
"disp('The shunt elements equal to a reactor of 1.1V1^2 size oin the primary side and a capacitive of sixe 1V2^2 on the secondary side');"
   ]
   }
,
{
		   "cell_type": "markdown",
		   "metadata": {},
		   "source": [
			"## Example 22.8: Calculate_the_additional_reactive_power_capability_at_full_load.sce"
		   ]
		  },
  {
"cell_type": "code",
	   "execution_count": null,
	   "metadata": {
	    "collapsed": true
	   },
	   "outputs": [],
"source": [
"//Calculate the additional reactive power capability at full load\n",
"clear;\n",
"clc;\n",
"P=1;//assuming\n",
"S1=P/.95;//For pf .95\n",
"S2=P/.8;//For pf .8\n",
"dMVA=(S2-S1)*100/P;//Increase in MVA rating \n",
"Q1=P*tand(acosd(.95));//Q for pf .95\n",
"Q2=P*tand(acosd(.8));//Q for pf .8\n",
"dPc=(Q2-Q1)*100/Q1//Percent additional Reactive Power Capability \n",
"mprintf('Percent additional Reactive Power Capability is %.0f',dPc)\n",
"\n",
"\n",
"\n",
""
   ]
   }
],
"metadata": {
		  "kernelspec": {
		   "display_name": "Scilab",
		   "language": "scilab",
		   "name": "scilab"
		  },
		  "language_info": {
		   "file_extension": ".sce",
		   "help_links": [
			{
			 "text": "MetaKernel Magics",
			 "url": "https://github.com/calysto/metakernel/blob/master/metakernel/magics/README.md"
			}
		   ],
		   "mimetype": "text/x-octave",
		   "name": "scilab",
		   "version": "0.7.1"
		  }
		 },
		 "nbformat": 4,
		 "nbformat_minor": 0
}
