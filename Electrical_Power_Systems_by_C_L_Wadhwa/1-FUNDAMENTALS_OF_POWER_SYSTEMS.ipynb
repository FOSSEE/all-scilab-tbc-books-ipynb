{
"cells": [
 {
		   "cell_type": "markdown",
	   "metadata": {},
	   "source": [
       "# Chapter 1: FUNDAMENTALS OF POWER SYSTEMS"
	   ]
	},
{
		   "cell_type": "markdown",
		   "metadata": {},
		   "source": [
			"## Example 1.1: To_determine_the_Base_values_and_pu_values.sce"
		   ]
		  },
  {
"cell_type": "code",
	   "execution_count": null,
	   "metadata": {
	    "collapsed": true
	   },
	   "outputs": [],
"source": [
"// To determine the Base values and p.u values\n",
"clear\n",
"clc;\n",
"Sb=100;// base value of power(MVA)\n",
"Vb=33;// base value of voltage (Kv)\n",
"Vbl=Vb*110/32;\n",
"Vbm=Vbl*32/110;\n",
"Zp.ut=0.08*100*32*32/(110*33*33);\n",
"Zp.u.l=50*100/(Vbl^2);\n",
"Zp.um1=.2*100*30*30/(30*33*33);\n",
"Zp.um2=.2*100*30*30/(20*33*33);\n",
"Zp.um3=.2*100*30*30/(50*33*33);\n",
"mprintf('Base value of voltage in line = %.2f kV\n',Vbl);\n",
"mprintf('Base value of voltage in motor circuit=%.0f kV\n',Vbm);\n",
"mprintf('p.u value of reactance transformer =%.5f p.u\n',Zp.ut);\n",
"mprintf('p.u value of impedence of line=%.4f p.u\n',Zp.u.l);\n",
"mprintf('p.u value of reactance of motor 1 =%.4f p.u\n',Zp.um1);\n",
"mprintf('p.u value of reactance of motor 2 =%.3f p.u\n',Zp.um2);\n",
"mprintf('p.u value of reactance of motor 3 =%.4f p.u\n',Zp.um3);\n",
""
   ]
   }
],
"metadata": {
		  "kernelspec": {
		   "display_name": "Scilab",
		   "language": "scilab",
		   "name": "scilab"
		  },
		  "language_info": {
		   "file_extension": ".sce",
		   "help_links": [
			{
			 "text": "MetaKernel Magics",
			 "url": "https://github.com/calysto/metakernel/blob/master/metakernel/magics/README.md"
			}
		   ],
		   "mimetype": "text/x-octave",
		   "name": "scilab",
		   "version": "0.7.1"
		  }
		 },
		 "nbformat": 4,
		 "nbformat_minor": 0
}
