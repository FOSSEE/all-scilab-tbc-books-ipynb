{
"cells": [
 {
		   "cell_type": "markdown",
	   "metadata": {},
	   "source": [
       "# Chapter 7: Air Conditioning"
	   ]
	},
{
		   "cell_type": "markdown",
		   "metadata": {},
		   "source": [
			"## Example 7.1: Heating_capacity_of_coil_and_Surface_temperature_and_Capacity.sce"
		   ]
		  },
  {
"cell_type": "code",
	   "execution_count": null,
	   "metadata": {
	    "collapsed": true
	   },
	   "outputs": [],
"source": [
"//Chapter-7, Illustration 1, Page 345\n",
"//Title: Air Conditioning\n",
"//=============================================================================\n",
"clc\n",
"clear\n",
"\n",
"//INPUT DATA\n",
"DBTo=10;//Out door Dry bulb temperature in oC\n",
"WBTo=8;//Out door Wet bulb temperature in oC\n",
"DBTi=20;//In door Dry bulb temperature in oC\n",
"RH=0.6;//Re-Heat factor\n",
"a=0.3;//amount of air circulated in (m^3)/min/person\n",
"S=50;//Seating capacity of office\n",
"BPF=0.32;//ByPass factor\n",
"ha=25;//Enthalpy at point a from Psychrometric chart shown in Page 346 in kJ/kg\n",
"hb=42.5;//Enthalpy at point b from Psychrometric chart shown in Page 346 in kJ/kg\n",
"hc=42.5;//Enthalpy at point c from Psychrometric chart shown in Page 346 in kJ/kg\n",
"Wa=0.006;//Specific humidity at point a from Psychrometric chart shown in Page 346 in kg/kg dry air\n",
"Wc=0.009;//Specific humidity at point c from Psychrometric chart shown in Page 346 in kg/kg dry air\n",
"Tb=27;//Temperature at point b in oC\n",
"na=0.81;//Specific Volume from Psychrometric chart shown in page 346 in (m^3)/kg\n",
"\n",
"//CALCULATIONS\n",
"ma=(a*S)/(na*60);//mass of air circulated per second in kg/s\n",
"Hc=ma*(hb-ha);//Heating capacity of coil in kW\n",
"Ts=(Tb-(BPF*DBTo))/(1-BPF);//Heating coil surface temperature in oC\n",
"C=(ma*3600)*(Wc-Wa);//Capacity of humidifier in kg/hr\n",
"\n",
"//OUTPUT\n",
"mprintf('Heating capacity of coil is %3.2f kW \n Surface temperature of coil is %3.0f oC \n Capacity of humidifier is %3.2f kg/hr',Hc,Ts,C)"
   ]
   }
,
{
		   "cell_type": "markdown",
		   "metadata": {},
		   "source": [
			"## Example 7.2: Capacity_of_coils_and_Amount_of_water_vapour_removed_and_by_pass_factor.sce"
		   ]
		  },
  {
"cell_type": "code",
	   "execution_count": null,
	   "metadata": {
	    "collapsed": true
	   },
	   "outputs": [],
"source": [
"//Chapter-7, Illustration 2, Page 346\n",
"//Title: Air Conditioning\n",
"//=============================================================================\n",
"clc\n",
"clear\n",
"\n",
"//INPUT DATA\n",
"S=60;//No. of staff\n",
"DBTo=30;//Out door Dry bulb temperature in oC\n",
"RHo=0.7;//Re-Heat factor at out-door\n",
"a=0.4;//amount of air circulated in (m^3)/min/person\n",
"DBTi=20;//In door Dry bulb temperature in oC\n",
"RHi=0.6;//Re-Heat factor at indoor\n",
"Td=25;//Heating coil surface temperature in oC\n",
"ha=82.5;//Enthalpy at point a from Psychrometric chart shown in Page 347 in kJ/kg\n",
"hb=34.5;//Enthalpy at point b from Psychrometric chart shown in Page 347 in kJ/kg\n",
"hc=42.5;//Enthalpy at point c from Psychrometric chart shown in Page 347 in kJ/kg\n",
"Wa=0.020;//Specific humidity at point a from Psychrometric chart shown in Page 347 in kg/kg dry air\n",
"Wb=0.009;//Specific humidity at point b from Psychrometric chart shown in Page 347 in kg/kg dry air\n",
"Tb=12;//Temperature at point b in oC\n",
"na=0.89;//Specific Volume from Psychrometric chart shown in page 346 in (m^3)/kg\n",
"\n",
"//CALCULATIONS\n",
"ma=(a*S)/(na*60);//mass of air circulated per second in kg/s\n",
"Hc=(ma*(ha-hb))/3.5;//Heating capacity of cooling coil in tonnes\n",
"Hh=ma*(hc-hb);//Heating capacity of heating coil in kW\n",
"W=(ma*3600)*(Wa-Wb);//Amount of water vapour removed per hour in kg/hr\n",
"BPF=(Td-DBTi)/(Td-Tb);//By-Pass factor\n",
"\n",
"//OUTPUT\n",
"mprintf('Capacity of cooling coil is %3.2f tonnes \n Capacity of heating coil is %3.1f kW \n Amount of water vapour removed per hour is %3.2f kg/hr \n Bypass factor is %3.3f',Hc,Hh,W,BPF)"
   ]
   }
,
{
		   "cell_type": "markdown",
		   "metadata": {},
		   "source": [
			"## Example 7.3: EX7_3.sce"
		   ]
		  },
  {
"cell_type": "code",
	   "execution_count": null,
	   "metadata": {
	    "collapsed": true
	   },
	   "outputs": [],
"source": [
"//Chapter-7, Illustration 3, Page 347\n",
"//Title: Air Conditioning\n",
"//=============================================================================\n",
"clc\n",
"clear\n",
"\n",
"//INPUT DATA\n",
"RSH=10;//Room sensible heat in kW\n",
"RLH=10;//Room latent heat in kW\n",
"td1=25;//Inside temperature in oC\n",
"RH1=0.5;//Inside Re-Heat factor\n",
"h1=50.4;//Enthalpy at point 1 in kJ/kg\n",
"td2=35;//Out door Dry bulb temperature in oC\n",
"tw2=28;//Out door Wet bulb temperature in oC\n",
"CR=4;//Cooling coil ratio\n",
"BPF=0.1;//Cooling coil bypass factor\n",
"tADP=10;//Apparatus dew point temperature in oC\n",
"RH3=0.55;//Re-Heat factor at point 3\n",
"h3=58.2;//Enthalpy at point 3 in kJ/kg\n",
"RH4=0.95;//Re-Heat factor at point 4\n",
"h4=32.2;//Enthalpy at point 4 in kJ/kg\n",
"RH5=0.81;//Re-Heat factor at point 5\n",
"h5=36.8;//Enthalpy at point 5 in kJ/kg\n",
"RH6=0.54;//Re-Heat factor at point 6\n",
"h6=43.1;//Enthalpy at point 5 in kJ/kg\n",
"td6=22;//Temperature at point 6 in oC\n",
"\n",
"//CALCULATIONS\n",
"td3=((td2-td1)/5)+td1;//Temperature at point 3 from Psychrometric chart shown in Page 348 in oC\n",
"td4=(BPF*(td3-tADP))+tADP;//Temperature at point 4 from Psychrometric chart shown in Page 348 in oC\n",
"td5=td4+((td1-td4)/5);//Temperature at point 5 from Psychrometric chart shown in Page 348 in oC\n",
"RSHF=RSH/(RSH+RLH);//Room Sensible Heat Factor\n",
"QR=h1-h6;//Total heat removed in kJ/kg\n",
"S=(RSH+RLH)/QR;//Supply air quantity in kg/s\n",
"R=(S*(h6-h5))/3.5;//Refrigeration load due to reheat in ton\n",
"D=(S*4)/5;//Dehumidified air quantity in kg/s\n",
"T=(D*(h3-h4))/3.5;//Total refrigerating capacity in ton\n",
"Q=(D/5)/1.2;//Quantity of fresh air supplied in (m^3)/s\n",
"\n",
"//OUTPUT\n",
"mprintf('Supply air condition to the room is %3.2f kg/s \n Refrigeration load due to reheat is %3.2f ton \n Total refrigerating capacity is %3.2f ton \n Quantity of fresh air supplied is %3.3f (m^3)/s',S,R,T,Q)"
   ]
   }
],
"metadata": {
		  "kernelspec": {
		   "display_name": "Scilab",
		   "language": "scilab",
		   "name": "scilab"
		  },
		  "language_info": {
		   "file_extension": ".sce",
		   "help_links": [
			{
			 "text": "MetaKernel Magics",
			 "url": "https://github.com/calysto/metakernel/blob/master/metakernel/magics/README.md"
			}
		   ],
		   "mimetype": "text/x-octave",
		   "name": "scilab",
		   "version": "0.7.1"
		  }
		 },
		 "nbformat": 4,
		 "nbformat_minor": 0
}
