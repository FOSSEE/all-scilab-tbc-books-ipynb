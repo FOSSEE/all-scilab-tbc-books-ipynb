{
"cells": [
 {
		   "cell_type": "markdown",
	   "metadata": {},
	   "source": [
       "# Chapter 2: Gas Power Cycles"
	   ]
	},
{
		   "cell_type": "markdown",
		   "metadata": {},
		   "source": [
			"## Example 2.10: Thermal_efficiency_and_MEP.sce"
		   ]
		  },
  {
"cell_type": "code",
	   "execution_count": null,
	   "metadata": {
	    "collapsed": true
	   },
	   "outputs": [],
"source": [
"//Chapter-2, Illustration 10, Page 66\n",
"//Title: Gas Power Cycles\n",
"//=============================================================================\n",
"clc\n",
"clear\n",
"\n",
"//INPUT DATA\n",
"rv=20;//Compression ratio\n",
"P1=95;//Pressure at point 1 in kPa\n",
"T1=293;//Temperature at point 1 in K\n",
"T3=2200;//Temperature at point 3 in K\n",
"y=1.4;//Ratio of specific heats\n",
"R=287;//Universal gas constant in J/kg-K\n",
"Cp=1.005;//Specific heat at constant pressure in kJ/kg-K\n",
"\n",
"//CALCULATIONS\n",
"P2=P1*(rv^y);//Pressure at point 2 in kPa\n",
"T2=T1*(rv^(y-1));//Temperature at point 2 in K\n",
"v2=(R*T2)/(P2*1000);//Specific volume at point 2 in (m^3)/kg\n",
"v3=v2*(T3/T2);//Specific volume at point 3 in (m^3)/kg\n",
"rc=v3/v2;//Cut-off ratio\n",
"nth=(1-(((rc^y)-1)/((rv^(y-1))*y*(rc-1))))*100;//Thermal efficiency\n",
"q23=Cp*(T3-T2);//Heat flow between points 2 and 3 in kJ/kg\n",
"wnet=(nth*q23)/100;//Net workdone in kJ/kg\n",
"MEP=wnet/(v2*(rv-1));//Mean effective pressure in kPa\n",
"\n",
"//OUTPUT\n",
"mprintf('Thermal efficiency is %3.1f percent \n Mean effective pressure is %3.2f kPa',nth,MEP)\n",
"\n",
"\n",
"\n",
"\n",
"\n",
"\n",
"//==============================END OF PROGRAM================================="
   ]
   }
,
{
		   "cell_type": "markdown",
		   "metadata": {},
		   "source": [
			"## Example 2.11: Cutoff_ratio_and_air_standard_efficiency.sce"
		   ]
		  },
  {
"cell_type": "code",
	   "execution_count": null,
	   "metadata": {
	    "collapsed": true
	   },
	   "outputs": [],
"source": [
"//Chapter-2, Illustration 11, Page 68\n",
"//Title: Gas Power Cycles\n",
"//=============================================================================\n",
"clc\n",
"clear\n",
"\n",
"//INPUT DATA\n",
"rv=21;//Compression ratio\n",
"re=10.5;//Expansion ratio\n",
"y=1.4;//Ratio of specific heats\n",
"\n",
"//CALCULATIONS\n",
"rc=rv/re;//Cut-off ratio\n",
"nth=(1-(((rc^y)-1)/((rv^(y-1))*y*(rc-1))))*100;//Air standard efficiency\n",
"\n",
"//OUTPUT\n",
"mprintf('Cut-off ratio is %3.0f \n Air standard efficiency is %3.2f percent',rc,nth)\n",
"\n",
"\n",
"\n",
"\n",
"\n",
"\n",
"\n",
"\n",
"//==============================END OF PROGRAM================================="
   ]
   }
,
{
		   "cell_type": "markdown",
		   "metadata": {},
		   "source": [
			"## Example 2.12: Ideal_efficiency_of_cycle.sce"
		   ]
		  },
  {
"cell_type": "code",
	   "execution_count": null,
	   "metadata": {
	    "collapsed": true
	   },
	   "outputs": [],
"source": [
"//Chapter-2, Illustration 12, Page 69\n",
"//Title: Gas Power Cycles\n",
"//=============================================================================\n",
"clc\n",
"clear\n",
"\n",
"//INPUT DATA\n",
"rv=16;//Compression ratio\n",
"rp=1.5;//Pressure ratio\n",
"y=1.4;//Ratio of specific heats\n",
"cp=8;//Cut-off percentage\n",
"\n",
"//CALCULATIONS\n",
"rc=2.2;//Cut-off ratio\n",
"ntd=(1-((rp*(rc^y)-1)/((rv^(y-1)*((rp-1)+(y*rp*(rc-1)))))))*100;//Dual cycle efficiency\n",
"\n",
"//OUTPUT\n",
"mprintf('Ideal efficiency of engine is %3.1f percent',ntd)\n",
"\n",
"\n",
"\n",
"\n",
"\n",
"\n",
"//==============================END OF PROGRAM================================="
   ]
   }
,
{
		   "cell_type": "markdown",
		   "metadata": {},
		   "source": [
			"## Example 2.13: Ideal_efficiency_of_engine.sce"
		   ]
		  },
  {
"cell_type": "code",
	   "execution_count": null,
	   "metadata": {
	    "collapsed": true
	   },
	   "outputs": [],
"source": [
"//Chapter-2, Illustration 13, Page 69\n",
"//Title: Gas Power Cycles\n",
"//=============================================================================\n",
"clc\n",
"clear\n",
"\n",
"//INPUT DATA\n",
"d=0.2;//Bore in m\n",
"L=0.5;//Stroke in m\n",
"c=0.06;//Cut-off percentage\n",
"y=1.4;//Ratio of specific heats\n",
"rv=15;//Compression ratio\n",
"rp=1.4;//Pressure ratio\n",
"\n",
"//CALCULATIONS\n",
"Vs=(3.147/4)*(d^2)*L;//Stroke volume in m^3\n",
"DV=c*Vs;//Difference in volumes at points 4 and 3\n",
"V3=Vs/(rv-1);//Specific volume at point 3 in m^3\n",
"V4=V3+DV;//Specific volume at point 4 in m^3\n",
"rc=V4/V3;//Cut-off ratio\n",
"ntd=(1-((rp*(rc^y)-1)/((rv^(y-1)*((rp-1)+(y*rp*(rc-1)))))))*100;//Ideal efficiency\n",
"\n",
"//OUTPUT\n",
"mprintf('Ideal efficiency of the engine is %3.1f percent',ntd)\n",
"\n",
"\n",
"\n",
"\n",
"\n",
"//==============================END OF PROGRAM================================="
   ]
   }
,
{
		   "cell_type": "markdown",
		   "metadata": {},
		   "source": [
			"## Example 2.14: Amount_of_heat_added_and_rejected_and_Work_done_and_Thermal_efficiency.sce"
		   ]
		  },
  {
"cell_type": "code",
	   "execution_count": null,
	   "metadata": {
	    "collapsed": true
	   },
	   "outputs": [],
"source": [
"//Chapter-2, Illustration 14, Page 70\n",
"//Title: Gas Power Cycles\n",
"//=============================================================================\n",
"clc\n",
"clear\n",
"\n",
"//INPUT DATA\n",
"d=0.2;//Bore in m\n",
"L=0.3;//Stroke in m\n",
"c=0.04;//Cut-off percentage\n",
"y=1.4;//Ratio of specific heats\n",
"rv=8;//Compression ratio\n",
"P1=1;//Pressure at point 1 in bar\n",
"P3=60;//Pressure at point 3 in bar\n",
"T1=298;//Temperature at point 1 in K\n",
"R=287;//Universal gas constant in J/kg\n",
"Cv=0.718;//Speific heat at constant volume in kJ/kg-K\n",
"Cp=1.005;//Speific heat at constant pressure in kJ/kg-K\n",
"\n",
"//CALCULATIONS\n",
"Vs=(3.147/4)*(d^2)*L;//Stroke volume in m^3\n",
"V2=Vs/(rv-1);//Specific volume at point 2 in m^3\n",
"V3=V2;//Specific volume at point 3 in m^3\n",
"V1=V2+Vs;//Specific volume at pont 1 in m^3\n",
"V5=V1;//Specific volume at pont 5 in m^3\n",
"P2=P1*(rv^y);//Pressure at point 2 in bar\n",
"T2=T1*(rv^(y-1));//Temperature at point 2 in K\n",
"T3=T2*(P3/P2);//Temperature at point 3 in K\n",
"V4=V3+(c*(V1-V2));//Specific volume at point 4 in m^3\n",
"T4=T3*(V4/V3);//Temperature at point 4 in K\n",
"T5=T4*((V4/V5)^(y-1));//Temperature at point 5 in K\n",
"q1=(Cv*(T3-T2))+(Cp*(T4-T3));//Heat added in kJ/kg\n",
"q2=Cv*(T5-T1);//Heat rejected in kJ/kg\n",
"nth=(1-(q2/q1))*100;//Thermal efficiency\n",
"m=(P1*V1*(10^5))/(R*T1);//Mass of air supplied in kg\n",
"W=m*(q1-q2);//Workdone in kJ/cycle\n",
"\n",
"//OUTPUT\n",
"mprintf('Amount of heat added is %3.1f kJ/kg \n Amount of heat rejected is %3.2f kJ/kg \n Workdone per cycle is %3.2f kJ/cycle \n Thermal efficiency is %3.2f percent',q1,q2,W,nth)\n",
"\n",
"\n",
"\n",
"\n",
"\n",
"\n",
"\n",
"//==============================END OF PROGRAM================================="
   ]
   }
,
{
		   "cell_type": "markdown",
		   "metadata": {},
		   "source": [
			"## Example 2.15: MEP_and_Thermal_efficiency.sce"
		   ]
		  },
  {
"cell_type": "code",
	   "execution_count": null,
	   "metadata": {
	    "collapsed": true
	   },
	   "outputs": [],
"source": [
"//Chapter-2, Illustration 15, Page 72\n",
"//Title: Gas Power Cycles\n",
"//=============================================================================\n",
"clc\n",
"clear\n",
"\n",
"//INPUT DATA\n",
"P1=1;//Pressure at point 1 in bar\n",
"P3=70;//Pressure at point 3 in bar\n",
"T1=310;//Temperature at point 1 in K\n",
"rv=10;//Compression ratio\n",
"y=1.4;//Ratio of specific heats\n",
"qin=2805;//Heat added in kJ/kg\n",
"m=1;//Mass of air in kg\n",
"R=287;//Universal gas constant in J/kg\n",
"Cv=0.718;//Speific heat at constant volume in kJ/kg-K\n",
"Cp=1.005;//Speific heat at constant pressure in kJ/kg-K\n",
"\n",
"//CALCULATIONS\n",
"V1=(m*R*T1)/(P1*(10^5));//Volume at point 1 in m^3\n",
"T2=T1*(rv^(y-1));//Temperature at point 2 in K\n",
"P2=P1*(rv^y);//Pressure at point 2 in K\n",
"T3=T2*(P3/P2);//Temperature at point 3 in K\n",
"q23=Cv*(T3-T2);//Heat supplied at constant volume in kJ/kg\n",
"q34=qin-q23;//Heat supplied at constant pressure in kJ/kg\n",
"T4=(q34/Cp)+T3;//Temperature at point 4 in K\n",
"V2=V1/rv;//Volume at point 2 in m^3\n",
"V4=V2*(T4/T3);//Volume at point 4 in m^3\n",
"V5=V1;//Volume at point 5 in m^3\n",
"T5=T4*((V4/V5)^(y-1));//Temperature at point 5 in K\n",
"qout=Cv*(T5-T1);//Heat rejected in kJ/kg\n",
"nth=(1-(qout/qin))*100;//Thermal efficiency\n",
"W=qin-qout;//Workdone in kJ/kg\n",
"Vs=V1*(1-(1/rv));//Swept volume in (m^3)/kg\n",
"MEP=(W/Vs)/100;//Mean effective pressure in bar\n",
"\n",
"//OUTPUT\n",
"mprintf('Mean effective pressure is %3.2f bar \n Thermal efficiency is %3.2f percent',MEP,nth)\n",
"\n",
"\n",
"\n",
"\n",
"\n",
"\n",
"//==============================END OF PROGRAM================================="
   ]
   }
,
{
		   "cell_type": "markdown",
		   "metadata": {},
		   "source": [
			"## Example 2.16: EX2_16.sce"
		   ]
		  },
  {
"cell_type": "code",
	   "execution_count": null,
	   "metadata": {
	    "collapsed": true
	   },
	   "outputs": [],
"source": [
"//Chapter-2, Illustration 16, Page 74\n",
"//Title: Gas Power Cycles\n",
"//=============================================================================\n",
"clc\n",
"clear\n",
"\n",
"//INPUT DATA\n",
"P1=1;//Pressure at point 1 in bar\n",
"T1=298;//Temperature at point 1 in K\n",
"P2=3;//Pressure at point 2 in bar\n",
"T3=923;//Temperature at point 3 in K\n",
"y=1.4;//Ratio of specific heats\n",
"Cp=1.005;//Speific heat at constant pressure in kJ/kg-K\n",
"\n",
"//CALCULATIONS\n",
"x=(y-1)/y;//Ratio\n",
"rp=P2/P1;//Pressure ratio\n",
"nth=(1-(1/(rp^x)))*100;//Cycle efficiency\n",
"T2=T1*(rp^x);//Temperature at point 2 in K\n",
"q1=Cp*(T3-T2);//Heat supplied in kJ/kg\n",
"Wout=(nth*q1)/100;//Work output in kJ/kg\n",
"q2=q1-Wout;//Heat rejected in kJ/kg\n",
"T4=T3*((1/rp)^x);//Temperature at point 4 in K\n",
"\n",
"//OUTPUT\n",
"mprintf('Cycle efficiency is %3.2f percent \n Heat supplied to air is %3.1f kJ/kg \n Work available at the shaft is %3.2f kJ/kg \n Heat rejected in the cooler is %3.2f kJ/kg \n Turbine exit temperature is %3.2f K',nth,q1,Wout,q2,T4)\n",
"\n",
"\n",
"\n",
"\n",
"\n",
"\n",
"//==============================END OF PROGRAM================================="
   ]
   }
,
{
		   "cell_type": "markdown",
		   "metadata": {},
		   "source": [
			"## Example 2.17: EX2_17.sce"
		   ]
		  },
  {
"cell_type": "code",
	   "execution_count": null,
	   "metadata": {
	    "collapsed": true
	   },
	   "outputs": [],
"source": [
"//Chapter-2, Illustration 17, Page 75\n",
"//Title: Gas Power Cycles\n",
"//=============================================================================\n",
"clc\n",
"clear\n",
"\n",
"//INPUT DATA\n",
"T1=283;//Temperature at point 1 in K\n",
"T3=1353;//Temperature at point 3 in K\n",
"y=1.41;//Ratio of specific heats\n",
"Cp=1.007;//Specific heat constant pressure in kJ/kg-K\n",
"\n",
"//CALCULATIONS\n",
"x=(y-1)/y;//Ratio\n",
"rpmax=((T3/T1)^(1/x));//Maximum pressure ratio\n",
"rpopt=sqrt(rpmax);//Optimum pressure ratio\n",
"T2=T1*(rpopt^x);//Temperature at point 2 in K\n",
"T4=T2;//Maximum temperature at point 4 in K\n",
"Wmax=Cp*((T3-T4)-(T2-T1));//Maximum net specific work output in kJ/kg\n",
"nth=(Wmax/(Cp*(T3-T2)))*100;//Thermal efficiency\n",
"WR=nth/100;//Work ratio\n",
"nc=((T3-T1)/T3)*100;//Carnot efficiency\n",
"\n",
"//OUTPUT\n",
"mprintf('Optimum pressure ratio is %3.2f \n Maximum net specific work output %3.0f kJ/kg \n Thermal efficiency %3.0f percent \n Work ratio is %3.2f \n Carnot efficiency is %3.0f percent',rpopt,Wmax,nth,WR,nc)\n",
"\n",
"\n",
"\n",
"\n",
"\n",
"\n",
"//==============================END OF PROGRAM================================="
   ]
   }
,
{
		   "cell_type": "markdown",
		   "metadata": {},
		   "source": [
			"## Example 2.18: Maximum_work_output_and_Cycle_efficiency_and_Comparison_with_carnot_efficiency.sce"
		   ]
		  },
  {
"cell_type": "code",
	   "execution_count": null,
	   "metadata": {
	    "collapsed": true
	   },
	   "outputs": [],
"source": [
"//Chapter-2, Illustration 18, Page 76\n",
"//Title: Gas Power Cycles\n",
"//=============================================================================\n",
"clc\n",
"clear\n",
"\n",
"//INPUT DATA\n",
"Tmin=300;//Minimum temperature in K\n",
"Tmax=1073;//Maximum temperature in K\n",
"Cp=1.005;//Specific heat at constant pressure in kJ/kg-K\n",
"\n",
"//CALCULATIONS\n",
"Wmax=Cp*((sqrt(Tmax)-sqrt(Tmin))^2);//Maximum work output in kJ/kg\n",
"nB=(1-sqrt(Tmin/Tmax))*100;//Brayton cycle efficiency\n",
"nC=(1-(Tmin/Tmax))*100;//Carnot efficiency\n",
"r=nB/nC;//Ratio of brayton cycle efficiency to carnot efficieny\n",
"\n",
"//OUTPUT\n",
"mprintf('Maximum work per kg of air is %3.2f kJ/kg \n Cycle efficiency is %3.0f percent \n Ratio of brayton cycle efficiency to carnot efficieny is %3.3f',Wmax,nB,r)\n",
"\n",
"\n",
"\n",
"\n",
"\n",
"\n",
"//==============================END OF PROGRAM================================="
   ]
   }
,
{
		   "cell_type": "markdown",
		   "metadata": {},
		   "source": [
			"## Example 2.19: Net_power_output_and_Thermal_efficiency_and_Work_ratio.sce"
		   ]
		  },
  {
"cell_type": "code",
	   "execution_count": null,
	   "metadata": {
	    "collapsed": true
	   },
	   "outputs": [],
"source": [
"//Chapter-2, Illustration 19, Page 77\n",
"//Title: Gas Power Cycles\n",
"//=============================================================================\n",
"clc\n",
"clear\n",
"\n",
"//INPUT DATA\n",
"T1=291;//Temperature at point 1 in K\n",
"P1=100;//Pressure at point 1 in kN/(m^2)\n",
"nC=0.85;//Isentropic efficiency of compressor\n",
"nT=0.88;//Isentropic effficiency of turbine\n",
"rp=8;//Pressure ratio\n",
"T3=1273;//Temperature at point 3 in K\n",
"m=4.5;//Mass flow rate of air in kg/s\n",
"y=1.4;//Ratio of speciifc heats\n",
"Cp=1.006;//Specific heat at constant pressure in kJ/kg-K\n",
"\n",
"//CALCULATIONS\n",
"x=(y-1)/y;//Ratio\n",
"T2s=T1*(rp^x);//Temperature at point 2s in K\n",
"T2=T1+((T2s-T1)/nC);//Temperature at point 2 in K\n",
"t2=T2-273;//Temperature at point 2 in oC\n",
"T4s=T3*((1/rp)^x);//Temperature at point 4s in K\n",
"T4=T3-((T3-T4s)*nT);//Temperature at point 4 in K\n",
"t4=T4-273;//Temperature at point 4 in oC\n",
"W=m*Cp*((T3-T4)-(T2-T1));//Net power output in kW\n",
"nth=(((T3-T4)-(T2-T1))/(T3-T2))*100;//Thermal efficiency\n",
"WR=W/(m*Cp*(T3-T4));//Work ratio\n",
"\n",
"//OUTPUT\n",
"mprintf('Net power output of the turbine is %3.0f kW \n Thermal efficiency of the plant is %3.0f percent \n Work ratio is %3.3f',W,nth,WR)\n",
"\n",
"\n",
"\n",
"\n",
"\n",
"\n",
"//==============================END OF PROGRAM================================="
   ]
   }
,
{
		   "cell_type": "markdown",
		   "metadata": {},
		   "source": [
			"## Example 2.1: EX2_1.sce"
		   ]
		  },
  {
"cell_type": "code",
	   "execution_count": null,
	   "metadata": {
	    "collapsed": true
	   },
	   "outputs": [],
"source": [
"//Chapter-2, Illustration 1, Page 55\n",
"//Title: Gas Power Cycles\n",
"//=============================================================================\n",
"clc\n",
"clear\n",
"\n",
"//INPUT DATA\n",
"P1=0.1;//Pressure of air supplied in MPa\n",
"T1=308;//Temperature of air supplied in K\n",
"rv=8;//Compression ratio\n",
"q1=2100;//Heat supplied in kJ/kg\n",
"Cp=1.005;//Specific heat at constant pressure in kJ/kg-K\n",
"Cv=0.718;//Specific heat at constant volume in kJ/kg-K\n",
"R=0.287;//Universal gas constant in kJ/kg-K\n",
"\n",
"//CALCULATIONS\n",
"y=Cp/Cv;//Ratio of specific heats\n",
"n=(1-(1/(rv^(y-1))))*100;//Cycle efficiency\n",
"v1=(R*T1)/(P1*1000);//Specific volume at point 1 in (m^3)/kg\n",
"v2=v1/rv;//Specific volume at point 2 in (m^3)/kg\n",
"T2=T1*(rv^(y-1));//Temperature at point 2 in K\n",
"T3=(q1/Cv)+T2;//Temperature at point 3 in K\n",
"P2=P1*(rv^y);//Pressure at point 2 in MPa\n",
"P3=P2*(T3/T2);//Pressure at point 3 in MPa\n",
"wnet=(q1*n)/100;//Net workdone in J/kg\n",
"MEP=(wnet/(v1-v2))/1000;//Mean effective pressure in MPa\n",
"\n",
"//OUTPUT\n",
"mprintf('Maximum pressure of the cycle is %3.3f MPa \n Maximum temperature of the cycle is %3.0f K \n Cycle efficiency is %3.1f percent \n Mean effective pressure is %3.3f MPa',P3,T3,n,MEP)\n",
"\n",
"\n",
"\n",
"\n",
"\n",
"//==============================END OF PROGRAM================================="
   ]
   }
,
{
		   "cell_type": "markdown",
		   "metadata": {},
		   "source": [
			"## Example 2.20: Percentage_increase_in_cycle_efficiency.sce"
		   ]
		  },
  {
"cell_type": "code",
	   "execution_count": null,
	   "metadata": {
	    "collapsed": true
	   },
	   "outputs": [],
"source": [
"//Chapter-2, Illustration 20, Page 79\n",
"//Title: Gas Power Cycles\n",
"//=============================================================================\n",
"clc\n",
"clear\n",
"\n",
"//INPUT DATA\n",
"P1=0.1;//Pressure at point 1 in MPa\n",
"T1=303;//Temperature at point 1 in K\n",
"T3=1173;//Temperature at point 3 in K\n",
"rp=6;//Pressure ratio\n",
"nC=0.8;//Compressor efficiency\n",
"nT=nC;//Turbine efficiency\n",
"e=0.75;//Regenerator effectiveness\n",
"y=1.4;//Ratio of specific heats\n",
"Cp=1.005;//Specific heat at constant pressure in kJ/kg-K\n",
"\n",
"//CALCULATIONS\n",
"x=(y-1)/y;//Ratio\n",
"T2s=T1*(rp^x);//Temperature at point 2s in K\n",
"T4s=T3/(rp^x);//Temperature at point 4s in K\n",
"DTa=(T2s-T1)/nC;//Difference in temperatures at point 2 and 1 in K\n",
"DTb=(T3-T4s)*nT;//Difference in temperatures at point 3 and 4 in K\n",
"wT=Cp*DTb;//Turbine work in kJ/kg\n",
"wC=Cp*DTa;//Compressor work in kJ/kg\n",
"T2=DTa+T1;//Temperature at point 2 in K\n",
"q1=Cp*(T3-T2);//Heat supplied in kJ/kg\n",
"nth1=((wT-wC)/q1)*100;//Cycle efficiency without regenerator\n",
"T4=T3-DTb;//Temperature at point 4 in K\n",
"T5=T2+(e*(T4-T2));//Temperature at point 5 in K\n",
"q2=Cp*(T3-T5);//Heat supplied with regenerator in kJ/kg\n",
"nth2=((wT-wC)/q2)*100;//Cycle efficiency with regenerator\n",
"p=((nth2-nth1)/nth1)*100;//Percentage increase due to regeneration\n",
"\n",
"//OUTPUT\n",
"mprintf('Percentage increase in the cycle efficiency due to regeneration is %3.2f percent',p)\n",
"\n",
"\n",
"\n",
"\n",
"\n",
"\n",
"\n",
"\n",
"//==============================END OF PROGRAM================================="
   ]
   }
,
{
		   "cell_type": "markdown",
		   "metadata": {},
		   "source": [
			"## Example 2.21: Velocity_of_air_leaving_nozzle.sce"
		   ]
		  },
  {
"cell_type": "code",
	   "execution_count": null,
	   "metadata": {
	    "collapsed": true
	   },
	   "outputs": [],
"source": [
"//Chapter-2, Illustration 21, Page 80\n",
"//Title: Gas Power Cycles\n",
"//=============================================================================\n",
"clc\n",
"clear\n",
"\n",
"//INPUT DATA\n",
"P1=1;//Pressure at point 1 in atm\n",
"P3=5;//Pressure at point 3 in atm\n",
"T1=288;//Temperature at point 1 in K\n",
"T4=1143;//Temperature at point 4 in K\n",
"y=1.4;//Ratio of specific heats\n",
"Cp=1.005;//Specific heat at constant pressure in kJ/kg-K\n",
"\n",
"//CALCULATIONS\n",
"rp=P3/P1;//Pressure ratio\n",
"x=(y-1)/y;//Ratio\n",
"T3=T1*(rp^x);//Temperature at point 3 in K\n",
"T5=T4-(T3-T1);//Temperature at point 5 in K\n",
"T6=T4/(rp^x);//Temperature at point 6 in K\n",
"C6=sqrt(2000*Cp*(T5-T6));//Velocity of air leaving the nozzle in m/s\n",
"\n",
"//OUTPUT\n",
"mprintf('Velocity of air leaving the nozzle is %3.1f m/s',C6)\n",
"\n",
"\n",
"\n",
"\n",
"\n",
"\n",
"//==============================END OF PROGRAM================================="
   ]
   }
,
{
		   "cell_type": "markdown",
		   "metadata": {},
		   "source": [
			"## Example 2.22: Turbine_exit_pressure_and_Velocity_of_exhaust_gases_and_Propulsive_efficiency.sce"
		   ]
		  },
  {
"cell_type": "code",
	   "execution_count": null,
	   "metadata": {
	    "collapsed": true
	   },
	   "outputs": [],
"source": [
"//Chapter-2, Illustration 22, Page 81\n",
"//Title: Gas Power Cycles\n",
"//=============================================================================\n",
"clc\n",
"clear\n",
"\n",
"//INPUT DATA\n",
"C1=280;//Velocity of aircraft in m/s\n",
"P1=48;//Pressure at point 1 kPa\n",
"T1=260;//Temperature at point 1 in K\n",
"rp=13;//Pressure ratio\n",
"T4=1300;//Temperature at point 4 in K\n",
"Cp=1005;//Specific heat at constant pressure in J/kg\n",
"y=1.4;//Ratio of specific heats\n",
"\n",
"//CALCULATIONS\n",
"x=(y-1)/y;//Ratio\n",
"T2=T1+((C1^2)/(2*Cp));//Temperature at point 2 in K\n",
"P2=P1*((T2/T1)^(1/x));//Pressure at point 2 in kPa\n",
"P3=rp*P2;//Pressure at point 3 in kPa\n",
"P4=P3;//Pressure at point 4 in kPa\n",
"T3=T2*(rp^x);//Temperature at point 3 in K\n",
"T5=T4-T3+T2;//Temperature at point 5 in K\n",
"P5=P4*((T5/T4)^(1/x));//Pressure at point 5 in kPa\n",
"P6=P1;//Pressure at point 6 in kPa\n",
"T6=T5*((P6/P5)^x);//Temperature at point 6 in K\n",
"C6=sqrt(2*Cp*(T5-T6));//Velocity of air at nozzle exit in m/s\n",
"W=(C6-C1)*C1;//Propulsive power in J/kg\n",
"Q=Cp*(T4-T3);//Total heat transfer rate in J/kg\n",
"nP=(W/Q)*100;//Propulsive efficiency\n",
"\n",
"//OUTPUT\n",
"mprintf('Pressure at the turbine exit is %3.1f kPa \n Velocity of exhaust gases are %3.1f m/s \n Propulsive efficiency is %3.1f percent',P5,C6,nP)\n",
"\n",
"\n",
"\n",
"\n",
"\n",
"\n",
"\n",
"\n",
"\n",
"\n",
"\n",
"//==============================END OF PROGRAM================================="
   ]
   }
,
{
		   "cell_type": "markdown",
		   "metadata": {},
		   "source": [
			"## Example 2.2: Relative_efficiency_of_engine.sce"
		   ]
		  },
  {
"cell_type": "code",
	   "execution_count": null,
	   "metadata": {
	    "collapsed": true
	   },
	   "outputs": [],
"source": [
"//Chapter-2, Illustration 2, Page 57\n",
"//Title: Gas Power Cycles\n",
"//=============================================================================\n",
"clc\n",
"clear\n",
"\n",
"//INPUT DATA\n",
"d=80;//Bore in mm\n",
"L=85;//Stroke in mm\n",
"Vc=0.06;//Clearance volume in litre\n",
"n=0.22;//Actual thermal efficiency\n",
"y=1.4;//Ratio of specific heats\n",
"\n",
"//CALCULATIONS\n",
"Vs=(3.147/4)*(d^2)*L;//Stroke volume in mm^3\n",
"Vt=Vs+(Vc*(10^6));//Total volume in mm^3\n",
"rv=Vt/(Vc*(10^6));//Compression ratio\n",
"ni=(1-(1/(rv^(y-1))));//Ideal thermal efficiency\n",
"nr=(n/ni)*100;//Relative efficiency\n",
"\n",
"//OUTPUT\n",
"mprintf('Relative efficiency of the engine is %3.1f percent',nr)\n",
"\n",
"\n",
"\n",
"\n",
"\n",
"\n",
"\n",
"//==============================END OF PROGRAM================================="
   ]
   }
,
{
		   "cell_type": "markdown",
		   "metadata": {},
		   "source": [
			"## Example 2.3: Air_standard_efficiency.sce"
		   ]
		  },
  {
"cell_type": "code",
	   "execution_count": null,
	   "metadata": {
	    "collapsed": true
	   },
	   "outputs": [],
"source": [
"//Chapter-2, Illustration 3, Page 57\n",
"//Title: Gas Power Cycles\n",
"//=============================================================================\n",
"clc\n",
"clear\n",
"\n",
"//INPUT DATA\n",
"d=0.137;//Bore in m\n",
"L=0.13;//Stroke in m\n",
"Vc=280*(10^-6);//Clearance volume in m^3\n",
"y=1.4;//Ratio of specific heats\n",
"\n",
"//CALCULATIONS\n",
"Vs=(3.147/4)*(d^2)*L;//Stroke volume in m^3\n",
"rv=(Vc/Vs)*100;//Compression ratio\n",
"rvf=(Vs+Vc)/Vc;//final compression ratio\n",
"n=(1-(1/rvf^(y-1)))*100;//Cycle efficiency\n",
"\n",
"//OUTPUT\n",
"mprintf('Clearance volume is %3.1f percent of swept volume \n Otto cycle efficiency is %3.2f percent',rv,n)\n",
"\n",
"\n",
"\n",
"\n",
"\n",
"\n",
"//==============================END OF PROGRAM================================="
   ]
   }
,
{
		   "cell_type": "markdown",
		   "metadata": {},
		   "source": [
			"## Example 2.4: EX2_4.sce"
		   ]
		  },
  {
"cell_type": "code",
	   "execution_count": null,
	   "metadata": {
	    "collapsed": true
	   },
	   "outputs": [],
"source": [
"//Chapter-2, Illustration 4, Page 58\n",
"//Title: Gas Power Cycles\n",
"//=============================================================================\n",
"clc\n",
"clear\n",
"\n",
"//INPUT DATA\n",
"rv=9.5;//Compression ratio\n",
"P1=100;//Air pressure in kPa\n",
"T1=290;//Air temperature in K\n",
"V1=600*(10^-6);//Volume of air in m^3\n",
"T4=800;//Final temperature in K\n",
"R=287;//Universal gas constan in J/kg.K\n",
"Cv=0.718;//Specific heat at constant volume in kJ/kg.K\n",
"y=1.4;//Ratio of specific heats\n",
"\n",
"//CALCULATIONS\n",
"T3=T4*(rv^(y-1));//Temperature at the end of constant volume heat addition in K\n",
"P2=P1*(rv^y);//Pressure at point 2 in kPa\n",
"T2=T1*(rv^(y-1));//Temperature at point 2 in K\n",
"P3=P2*(T3/T2);//Pressure at point 3 in kPa\n",
"m=(P1*1000*V1)/(R*T1);//Specific mass in kg/s\n",
"Q=m*Cv*(T3-T2);//Heat transferred in kJ\n",
"n=(1-(1/rv^(y-1)))*100;//Thermal efficiency\n",
"Wnet=(n*Q)/100;//Net workdone in kJ\n",
"MEP=Wnet/(V1*(1-(1/rv)));//Mean effective pressure in kPa\n",
"\n",
"//OUTPUT\n",
"mprintf('Maximum pressure of the cycle is %3.2f kPa \n Maximum temperature of the cycle is %3.1f K \n Amount of heat transferred is %3.2f kJ \n Thermal efficiency is %3.1f percent \n Mean effective pressure is %3.1f kPa',P3,T3,Q,n,MEP)\n",
"\n",
"\n",
"\n",
"\n",
"\n",
"\n",
"\n",
"//==============================END OF PROGRAM================================="
   ]
   }
,
{
		   "cell_type": "markdown",
		   "metadata": {},
		   "source": [
			"## Example 2.5: EX2_5.sce"
		   ]
		  },
  {
"cell_type": "code",
	   "execution_count": null,
	   "metadata": {
	    "collapsed": true
	   },
	   "outputs": [],
"source": [
"//Chapter-2, Illustration 5, Page 60\n",
"//Title: Gas Power Cycles\n",
"//=============================================================================\n",
"clc\n",
"clear\n",
"\n",
"//INPUT DATA\n",
"rv=8;//Compression ratio\n",
"P1=95;//Pressure at point 1 in kPa\n",
"T1=300;//Temperature at point 1 in K\n",
"q23=750;//Heat transferred during constant volume heat addition process in kJ/kg\n",
"y=1.4;//Ratio of specific heats\n",
"Cv=0.718;//Specific heat at constant volume in kJ/kg-K\n",
"R=287;//Universal gas constant in J/kg-K\n",
"\n",
"//CALCULATIONS\n",
"T2=T1*(rv^(y-1));//Temperature at point 2 in K\n",
"P2=P1*(rv^y);//Pressure at point 2 in kPa\n",
"T3=(q23/Cv)+T2;//Temperature at point 3 in K\n",
"P3=P2*(T3/T2);//Pressure at point 3 in kPa\n",
"nth=(1-(1/(rv^(y-1))))*100;//Thermal efficiency\n",
"Wnet=(nth*q23)/100;//Net work output in kJ/kg\n",
"v1=(R*T1)/(P1*1000);//Speific volume at point 1 in (m^3)/kg\n",
"MEP=Wnet/(v1*(1-(1/rv)));//Mean effective pressure in kPa\n",
"\n",
"//OUTPUT\n",
"mprintf('Pressure at the end of heat addition process is %3.1f kPa \n Temperature at the end of heat addition process is %3.1f K \n Net work output is %3.2f kJ/kg \n Thermal efficiency is %3.2f percent \n Mean effective pressure is %3.0f kPa',P3,T3,Wnet,nth,MEP)\n",
"\n",
"\n",
"\n",
"\n",
"\n",
"\n",
"\n",
"//==============================END OF PROGRAM================================="
   ]
   }
,
{
		   "cell_type": "markdown",
		   "metadata": {},
		   "source": [
			"## Example 2.6: Air_standard_efficiency.sce"
		   ]
		  },
  {
"cell_type": "code",
	   "execution_count": null,
	   "metadata": {
	    "collapsed": true
	   },
	   "outputs": [],
"source": [
"//Chapter-2, Illustration 6, Page 61\n",
"//Title: Gas Power Cycles\n",
"//=============================================================================\n",
"clc\n",
"clear\n",
"\n",
"//INPUT DATA\n",
"rv=14;//Compression ratio\n",
"c=0.06;//Cut-off percentage\n",
"y=1.4;//Ratio of specific heats\n",
"\n",
"//CALCULATIONS\n",
"rc=1.78;//Cut-off ratio\n",
"nth=(1-(((rc^y)-1)/((rv^(y-1))*y*(rc-1))))*100;//Thermal efficiency\n",
"\n",
"//OUTPUT\n",
"mprintf('Air standard efficiency is %3.1f percent',nth)\n",
"\n",
"\n",
"\n",
"\n",
"\n",
"\n",
"\n",
"//==============================END OF PROGRAM================================="
   ]
   }
,
{
		   "cell_type": "markdown",
		   "metadata": {},
		   "source": [
			"## Example 2.7: Cutoff_ratio_and_Heat_supplied_and_Cycle_efficiency_and_MEP.sce"
		   ]
		  },
  {
"cell_type": "code",
	   "execution_count": null,
	   "metadata": {
	    "collapsed": true
	   },
	   "outputs": [],
"source": [
"//Chapter-2, Illustration 7, Page 62\n",
"//Title: Gas Power Cycles\n",
"//=============================================================================\n",
"clc\n",
"clear\n",
"\n",
"//INPUT DATA\n",
"rv=16;//Compression ratio\n",
"P1=0.1;//Pressure at point 1 in MPa\n",
"T1=288;//Temperature at point 1 in K\n",
"T3=1753;//Temperature at point 3 in K\n",
"y=1.4;//Ratio of specific heats\n",
"Cp=1.005;//Specific heat at constant pressure in kJ/kg-K\n",
"R=0.287;//Universal gas constant in kJ/kg-K\n",
"\n",
"//CALCULATIONS\n",
"T2=T1*(rv^(y-1));//Temperature at point 2 in K\n",
"rc=T3/T2;//Cut-off ratio\n",
"q1=Cp*(T3-T2);//Heat supplied in kJ/kg\n",
"nth=(1-(((rc^y)-1)/((rv^(y-1))*y*(rc-1))))*100;//Cycle efficiency\n",
"wnet=(q1*nth)/100;//Net work done in kJ/kg\n",
"v1=(R*T1)/(P1*1000);//Speific volume at point 1 in (m^3)/kg\n",
"v2=v1/rv;//Speific volume at point 2 in (m^3)/kg\n",
"MEP=wnet/(v1-v2);//Mean effective pressure in kPa\n",
"\n",
"//OUTPUT\n",
"mprintf('Cut-off ratio is %3.2f \n Heat supplied is %3.1f kJ/kg \n Cycle efficiency is %3.1f percent \n Mean effective pressure is %3.2f kPa',rc,q1,nth,MEP)\n",
"\n",
"\n",
"\n",
"\n",
"//==============================END OF PROGRAM================================="
   ]
   }
,
{
		   "cell_type": "markdown",
		   "metadata": {},
		   "source": [
			"## Example 2.8: Air_standard_efficiency_and_percentage_loss_in_efficiency.sce"
		   ]
		  },
  {
"cell_type": "code",
	   "execution_count": null,
	   "metadata": {
	    "collapsed": true
	   },
	   "outputs": [],
"source": [
"//Chapter-2, Illustration 8, Page 64\n",
"//Title: Gas Power Cycles\n",
"//=============================================================================\n",
"clc\n",
"clear\n",
"\n",
"//INPUT DATA\n",
"d=0.15;//Bore in m\n",
"L=0.25;//Stroke in m\n",
"Vc=400*(10^-6);//Clearance volume in m^3\n",
"V2=Vc;//Clearance volume in m^3\n",
"c1=0.05;//Cut-off percentage 1\n",
"c2=0.08;//Cut-off percentage 2\n",
"y=1.4;//Ratio of specific heats\n",
"\n",
"//CALCULATIONS\n",
"Vs=(3.147/4)*(d^2)*L;//Stroke volume in m^3\n",
"V31=V2+(c1*Vs);//Volume at the point of cut-off in m^3\n",
"rc1=V31/V2;//Cut-off ratio 1\n",
"rv=(Vc+Vs)/Vc;//Compression ratio\n",
"nth1=(1-(((rc1^y)-1)/((rv^(y-1))*y*(rc1-1))))*100;//Air standard efficiency 1\n",
"V32=V2+(c2*Vs);//Volume at the point of cut-off in m^3\n",
"rc2=V32/V2;//Cut-off ratio 2\n",
"nth2=(1-(((rc2^y)-1)/((rv^(y-1))*y*(rc2-1))))*100;//Air standard efficiency 2\n",
"pl=nth1-nth2;//Percentage loss in efficiency\n",
"\n",
"//OUTPUT\n",
"mprintf('Air standard efficiency at 5 percent cut-off is %3.2f percent \n Air standard efficiency at 8 percent cut-off is %3.2f percent \n Percentage loss in efficiency is %3.2f percent',nth1,nth2,pl)\n",
"\n",
"\n",
"\n",
"\n",
"\n",
"//==============================END OF PROGRAM================================="
   ]
   }
,
{
		   "cell_type": "markdown",
		   "metadata": {},
		   "source": [
			"## Example 2.9: Maximum_temperature_and_Thermal_efficiency_of_cycle.sce"
		   ]
		  },
  {
"cell_type": "code",
	   "execution_count": null,
	   "metadata": {
	    "collapsed": true
	   },
	   "outputs": [],
"source": [
"//Chapter-2, Illustration 9, Page 65\n",
"//Title: Gas Power Cycles\n",
"//=============================================================================\n",
"clc\n",
"clear\n",
"\n",
"//INPUT DATA\n",
"e=7.5;//Expansion ratio\n",
"c=15;//Compression ratio\n",
"P1=98;//Pressure at point 1 in kN/(m^2)\n",
"P4=258;//Pressure at point 4 in kN/(m^2)\n",
"T1=317;//Temperature at point 1 in K\n",
"y=1.4;//Ratio of specific heats\n",
"\n",
"//CALCULATIONS\n",
"T4=T1*(P4/P1);//Temperature at point 4 in K\n",
"T3=T4*(e^(y-1));//Temperature at point 3 in K\n",
"t3=T3-273;//Temperature at point 3 in oC\n",
"T2=T1*(c^(y-1));//Temperature at point 2 in K\n",
"n=(1-((T4-T1)/(y*(T3-T2))))*100;//Thermal efficiency\n",
"\n",
"//OUTPUT\n",
"mprintf('Maximum temperature attained during the cycle is %3.1f oC \n Thermal efficiency of the cycle is %3.1f percent',t3,n)\n",
"\n",
"\n",
"\n",
"\n",
"\n",
"\n",
"//==============================END OF PROGRAM================================="
   ]
   }
],
"metadata": {
		  "kernelspec": {
		   "display_name": "Scilab",
		   "language": "scilab",
		   "name": "scilab"
		  },
		  "language_info": {
		   "file_extension": ".sce",
		   "help_links": [
			{
			 "text": "MetaKernel Magics",
			 "url": "https://github.com/calysto/metakernel/blob/master/metakernel/magics/README.md"
			}
		   ],
		   "mimetype": "text/x-octave",
		   "name": "scilab",
		   "version": "0.7.1"
		  }
		 },
		 "nbformat": 4,
		 "nbformat_minor": 0
}
