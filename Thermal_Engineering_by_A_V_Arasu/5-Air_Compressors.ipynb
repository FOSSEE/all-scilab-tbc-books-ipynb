{
"cells": [
 {
		   "cell_type": "markdown",
	   "metadata": {},
	   "source": [
       "# Chapter 5: Air Compressors"
	   ]
	},
{
		   "cell_type": "markdown",
		   "metadata": {},
		   "source": [
			"## Example 5.10: EX5_10.sce"
		   ]
		  },
  {
"cell_type": "code",
	   "execution_count": null,
	   "metadata": {
	    "collapsed": true
	   },
	   "outputs": [],
"source": [
"//Chapter-5, Illustration 10, Page 259\n",
"//Title: Air Compressors\n",
"//=============================================================================\n",
"clc\n",
"clear\n",
"\n",
"//INPUT DATA\n",
"P1=0.98;//Pressure at point 1 in bar\n",
"P4=P1;//Pressure at point 4 in bar\n",
"P2=7;//Pressure at point 2 in bar\n",
"P3=P2;//Pressure at point 3 in bar\n",
"n=1.3;//Adiabatic gas constant\n",
"Ta=300;//Air temperature in K\n",
"Pa=1.013;//Air pressure in bar\n",
"T1=313;//Temperature at point 1 in K\n",
"c=0.04;//Ratio of clearance volume to swept volume\n",
"Va=15;//Volume of air delivered in m^3\n",
"R=0.287;//Universal gas constant in kJ/kg-K\n",
"\n",
"//CALCULATIONS\n",
"x=(n-1)/n;//Ratio\n",
"r=(P2/P1)^(1/n);//Ratio of volumes\n",
"a=r*c;//Ratio of volume at point 4 to swept volume\n",
"DV=1+c-a;//Difference in volumes\n",
"V=(P1*DV*Ta)/(T1*Pa);//Volume of air delivered per cycle\n",
"nv=V*100;//Volumetric efficiency\n",
"DV1=(Pa*Va*T1)/(Ta*P1);//Difference in volumes\n",
"T2=T1*((P2/P1)^x);//Temperature at point 2 in K\n",
"ma=(Pa*100*Va)/(R*Ta);//Mass of air delivered in kg/min\n",
"IP=(ma*R*(T2-T1))/(x*60);//Indicated power in kW\n",
"Piso=(ma*R*T1*log(P2/P1))/60;//Isothermal indicated power in kW\n",
"niso=(Piso/IP)*100;//Isothermal efficiency\n",
"\n",
"//OUTPUT\n",
"mprintf('Volumetric efficiency is %3.1f percent \n Indicated power is %3.2f kW \n Isothermal efficiency is %3.0f percent',nv,IP,niso)\n",
"\n",
"\n",
"\n",
"\n",
"\n",
"\n",
"\n",
"\n",
"\n",
"\n",
"\n",
"\n",
"\n",
"\n",
"//==============================END OF PROGRAM================================="
   ]
   }
,
{
		   "cell_type": "markdown",
		   "metadata": {},
		   "source": [
			"## Example 5.11: Power_required.sce"
		   ]
		  },
  {
"cell_type": "code",
	   "execution_count": null,
	   "metadata": {
	    "collapsed": true
	   },
	   "outputs": [],
"source": [
"//Chapter-5, Illustration 11, Page 261\n",
"//Title: Air Compressors\n",
"//=============================================================================\n",
"clc\n",
"clear\n",
"\n",
"//INPUT DATA\n",
"V1=7*(10^-3);//Volume of air in (m^3)/s\n",
"P1=1.013;//Pressure of air in bar\n",
"T1=288;//Air temperature in K\n",
"P2=14;//Pressure at point 2 in bar\n",
"n=1.3;//Adiabatic gas constant\n",
"nm=0.82;//Mechanical efficiency\n",
"\n",
"//CALCULATIONS\n",
"x=(n-1)/n;//Ratio\n",
"W=(P1*100*V1*(((P2/P1)^x)-1))/x;//Work done by compressor in kW\n",
"P=W/nm;//Power requred to drive compressor in kW\n",
"\n",
"//OUTPUT\n",
"mprintf('Power requred to drive compressor is %3.2f kW',P)\n",
"\n",
"\n",
"\n",
"\n",
"\n",
"\n",
"\n",
"\n",
"//==============================END OF PROGRAM================================="
   ]
   }
,
{
		   "cell_type": "markdown",
		   "metadata": {},
		   "source": [
			"## Example 5.12: EX5_12.sce"
		   ]
		  },
  {
"cell_type": "code",
	   "execution_count": null,
	   "metadata": {
	    "collapsed": true
	   },
	   "outputs": [],
"source": [
"//Chapter-5, Illustration 12, Page 261\n",
"//Title: Air Compressors\n",
"//=============================================================================\n",
"clc\n",
"clear\n",
"\n",
"//INPUT DATA\n",
"L=0.15;//Stroke in mm\n",
"D=0.15;//Bore in mm\n",
"N=8;//Speed in rps\n",
"P1=100;//Pressure at point 1 in kN/(m^2)\n",
"P2=550;//Pressure at point 2 in kN/(m^2)\n",
"n=1.32;//Adiabatic gas constant\n",
"C=0.06;//Ratio of clearance volume to swept volume\n",
"\n",
"//CALCULATIONS\n",
"x=(n-1)/n;//Ratio\n",
"nv=(1+C-(C*((P2/P1)^(1/n))))*100;//Volumetric efficiency\n",
"DV=(3.147*(D^2)*L)/4;//Difference in volumes at points 1 and 3\n",
"DV1=(nv*DV)/100;//Difference in volumes at points 1 and 4\n",
"V2=DV1*((P1/P2)^(1/n))*N;//Volume of air delivered per second\n",
"W=(P1*DV1*(((P2/P1)^x)-1))*N/x;//Power of compressor in kW\n",
"\n",
"//OUTPUT\n",
"mprintf('Theoretical volume efficiency is %3.1f percent \n Volume of air delivered is %3.5f (m^3)/s \n Power of compressor is %3.3f kW',nv,V2,W)\n",
"\n",
"\n",
"\n",
"\n",
"\n",
"\n",
"\n",
"\n",
"\n",
"//==============================END OF PROGRAM================================="
   ]
   }
,
{
		   "cell_type": "markdown",
		   "metadata": {},
		   "source": [
			"## Example 5.13: EX5_13.sce"
		   ]
		  },
  {
"cell_type": "code",
	   "execution_count": null,
	   "metadata": {
	    "collapsed": true
	   },
	   "outputs": [],
"source": [
"//Chapter-5, Illustration 13, Page 262\n",
"//Title: Air Compressors\n",
"//=============================================================================\n",
"clc\n",
"clear\n",
"\n",
"//INPUT DATA\n",
"V=16;//Volume of air compresssed in m^3\n",
"P1=1;//Pressure at point 1 in bar\n",
"P3=10.5;//Pressure at point 3 in bar\n",
"T1=294;//Temperature at point 1 in K\n",
"Tc=25;//Temperature of cooling water in oC\n",
"n=1.35;//Adiabatics gas constant\n",
"R=0.287;//Universal gas constant in kJ/kg-K\n",
"Cp=1.005;//Specific heat at constant pressure in kJ/kg-K\n",
"Cw=4.187;//Specific heat of water in kJ/kg-K\n",
"\n",
"//CALCULATIONS\n",
"x=(n-1)/n;//Ratio\n",
"P2=sqrt(P1*P3);//Pressure at point 2 in bar\n",
"W1=(2*P1*100*V*(((P2/P1)^x)-1))/(x*60);//Indicated power of compressor from P1 to P2 in kW\n",
"W2=(P1*100*V*(((P3/P1)^x)-1))/(x*60);//Indicated power of compressor from P1 to P3 in kW\n",
"T4=T1*((P2/P1)^x);//Maximum temperature for two stage compression in K\n",
"T2=T1*((P3/P1)^x);//Maximum temperature for single stage compression in K\n",
"m=(P1*100*V)/(R*T1);//Mass of air compressed in kg/min\n",
"Q=m*Cp*(T4-T1);//Heat rejected by air in kJ/min\n",
"mc=Q/(Cw*Tc);//Mass of cooling water in kg/min\n",
"\n",
"//OUTPUT\n",
"mprintf('Minimum indicated power required for 2 stage compression is %3.1f kW \n Power required for single stage compression is 18 percent more than that for two stage compression with perfect intercooling \n Maximum temperature for two stage compression is %3.1f K \n Maximum temperature for single stage compression is %3.1f K \n Heat rejected by air is %3.1f kJ/min \n Mass of cooling water required is %3.1f kg/min',W1,T4,T2,Q,mc)\n",
"\n",
"\n",
"\n",
"\n",
"\n",
"\n",
"\n",
"\n",
"\n",
"\n",
"\n",
"\n",
"\n",
"\n",
"//==============================END OF PROGRAM================================="
   ]
   }
,
{
		   "cell_type": "markdown",
		   "metadata": {},
		   "source": [
			"## Example 5.14: Intermediate_pressure_and_Total_volume_of_each_cylinder_and_Cycle_power.sce"
		   ]
		  },
  {
"cell_type": "code",
	   "execution_count": null,
	   "metadata": {
	    "collapsed": true
	   },
	   "outputs": [],
"source": [
"//Chapter-5, Illustration 14, Page 264\n",
"//Title: Air Compressors\n",
"//=============================================================================\n",
"clc\n",
"clear\n",
"\n",
"//INPUT DATA\n",
"V=0.2;//Air flow rate in (m^3)/s\n",
"P1=0.1;//Intake pressure in MN/(m^2)\n",
"P3=0.7;//Final pressure in MN/(m^2)\n",
"T1=289;//Intake temperature in K\n",
"n=1.25;//Adiabatic gas constant\n",
"N=10;//Compressor speed in rps\n",
"\n",
"//CALCULATIONS\n",
"x=(n-1)/n;//Ratio\n",
"P2=sqrt(P1*P3);//Intermediate pressure in MN/(m^2)\n",
"V1=(V/N)*1000;//Total volume of LP cylinder in litres\n",
"V2=((P1*V1)/P2);//Total volume of HP cylinder in litres\n",
"W=((2*P1*V*(((P2/P1)^x)-1))/x)*1000;//Cycle power in kW\n",
"\n",
"//OUTPUT\n",
"mprintf('Intermediate pressure is %3.3f MN/(m^2) \n Total volume of LP cylinder is %3.0f litres \n Total volume of HP cylinder is %3.1f litres \n Cycle power is %3.0f kW',P2,V1,V2,W)\n",
"\n",
"\n",
"\n",
"\n",
"\n",
"\n",
"\n",
"\n",
"//==============================END OF PROGRAM================================="
   ]
   }
,
{
		   "cell_type": "markdown",
		   "metadata": {},
		   "source": [
			"## Example 5.15: Power_of_compressor.sce"
		   ]
		  },
  {
"cell_type": "code",
	   "execution_count": null,
	   "metadata": {
	    "collapsed": true
	   },
	   "outputs": [],
"source": [
"//Chapter-5, Illustration 15, Page 265\n",
"//Title: Air Compressors\n",
"//=============================================================================\n",
"clc\n",
"clear\n",
"\n",
"//INPUT DATA\n",
"P1=1;//Pressure at point 1 in bar\n",
"T1=290;//Temperature at point 1 in K\n",
"P3=60;//Pressure at point 3 in bar\n",
"P2=8;//Pressure at point 2 in bar\n",
"T2=310;//Temperature at point 2 in K\n",
"L=0.2;//Stroke in m\n",
"D=0.15;//Bore in m\n",
"n=1.35;//Adiabatic gas constant\n",
"N=200;//Speed in rpm\n",
"\n",
"//CALCULATIONS\n",
"x=(n-1)/n;//Ratio\n",
"V1=(3.147*(D^2)*L)/4;//Volume at point 1 in m^3\n",
"V2=(P1*V1*T2)/(T1*P2);//Volume of air entering LP cylinder in m^3\n",
"W=((P1*(10^5)*V1*(((P2/P1)^x)-1))/x)+((P2*(10^5)*V2*(((P3/P2)^x)-1))/x);//Workdone by compressor per cycle in J\n",
"P=(W*N)/(60*1000);//Power of compressor in kW\n",
"\n",
"//OUTPUT\n",
"mprintf('Power of compressor is %3.2f kW',P)\n",
"\n",
"\n",
"\n",
"\n",
"\n",
"\n",
"\n",
"\n",
"//==============================END OF PROGRAM================================="
   ]
   }
,
{
		   "cell_type": "markdown",
		   "metadata": {},
		   "source": [
			"## Example 5.16: Heat_rejected_and_Diameter_of_HP_cylinder_and_Power_required.sce"
		   ]
		  },
  {
"cell_type": "code",
	   "execution_count": null,
	   "metadata": {
	    "collapsed": true
	   },
	   "outputs": [],
"source": [
"//Chapter-5, Illustration 16, Page 265\n",
"//Title: Air Compressors\n",
"//=============================================================================\n",
"clc\n",
"clear\n",
"\n",
"//INPUT DATA\n",
"N=220;//Speed of compressor in rpm\n",
"P1=1;//Pressure entering LP cylinder in bar\n",
"T1=300;//Temperature at point 1 in K\n",
"Dlp=0.36;//Bore of LP cylinder in m\n",
"Llp=0.4;//Stroke of LP cylinder in m\n",
"Lhp=0.4;//Stoke of HP cylinder in m\n",
"C=0.04;//Ratio of clearance volumes of both cylinders\n",
"P2=4;//Pressure leaving LP cylinder in bar\n",
"P5=3.8;//Pressure entering HP cylinder in bar\n",
"T3=300;//Temperature entering HP cylinder in K\n",
"P6=15.2;//Dicharge pressure in bar\n",
"n=1.3;//Adiabatic gas constant\n",
"Cp=1.0035;//Specific heat at constant pressure in kJ/kg-K\n",
"R=0.287;//Universal gas constant in kJ/kg-K\n",
"T5=T1;//Temperature at point 5 in K\n",
"\n",
"//CALCULATIONS\n",
"x=(n-1)/n;//Ratio\n",
"Vslp=(3.147*(Dlp^2)*Llp*N*2)/4;//Swept volume of LP cylinder in m^3/min\n",
"nv=1+C-(C*((P2/P1)^(1/n)));//Volumetric efficiency\n",
"V1=nv*Vslp;//Volume of air drawn at point 1 in (m^3)/min\n",
"m=(P1*100*V1)/(R*T1);//Mass of air in kg/min\n",
"T2=T1*((P2/P1)^x);//Temperature at point 2 in K\n",
"QR=m*Cp*(T2-T5);//Heat rejected in kJ/min\n",
"V5=(m*R*T5)/(P5*100);//Volume of air drawn in HP cylinder M^3/min\n",
"Plp=P2/P1;//Pressure ratio of LP cylinder\n",
"Php=P6/P5;//Pressure ratio of HP cylinder\n",
"Vshp=V5/nv;//Swept volume of HP cylinder in m^3/min\n",
"Dhp=sqrt((Vshp*4)/(3.147*Lhp*N*2));//Bore of HP cylinder in m\n",
"P=(m*R*(T2-T1))/(x*60);//Power required for HP cylinder in kW\n",
"\n",
"//OUTPUT\n",
"mprintf('Heat rejected in intercooler is %3.1f kJ/min \n Diameter of HP cylinder is %3.4f m \n Power required for HP cylinder is %3.0f kW',QR,Dhp,P)\n",
"\n",
"\n",
"\n",
"\n",
"\n",
"\n",
"\n",
"\n",
"\n",
"//==============================END OF PROGRAM================================="
   ]
   }
,
{
		   "cell_type": "markdown",
		   "metadata": {},
		   "source": [
			"## Example 5.17: Ratio_of_cylinder_diameters.sce"
		   ]
		  },
  {
"cell_type": "code",
	   "execution_count": null,
	   "metadata": {
	    "collapsed": true
	   },
	   "outputs": [],
"source": [
"//Chapter-5, Illustration 17, Page 267\n",
"//Title: Air Compressors\n",
"//=============================================================================\n",
"clc\n",
"clear\n",
"\n",
"//INPUT DATA\n",
"P1=1;//Pressure at point 1 in bar\n",
"P3=30;//Pressure at point 3 in bar\n",
"T1=300;//Temperature at point 1 in K\n",
"n=1.3;//Adiabatics gas constant\n",
"\n",
"//CALCULATIONS\n",
"P2=sqrt(P1*P3);//Intermediate pressure in bar\n",
"rD=sqrt(P2/P1);//Ratio of cylinder diameters\n",
"\n",
"//OUTPUT\n",
"mprintf('Ratio of cylinder diameters is %3.2f',rD)\n",
"\n",
"\n",
"\n",
"\n",
"\n",
"\n",
"\n",
"//==============================END OF PROGRAM================================="
   ]
   }
,
{
		   "cell_type": "markdown",
		   "metadata": {},
		   "source": [
			"## Example 5.18: EX5_18.sce"
		   ]
		  },
  {
"cell_type": "code",
	   "execution_count": null,
	   "metadata": {
	    "collapsed": true
	   },
	   "outputs": [],
"source": [
"//Chapter-5, Illustration 18, Page 268\n",
"//Title: Air Compressors\n",
"//=============================================================================\n",
"clc\n",
"clear\n",
"\n",
"//INPUT DATA\n",
"P1=1.013;//Pressure at point 1 in bar\n",
"T1=288;//Temperaturea at point 1 in K\n",
"v1=8.4;//free air delivered by compressor in m^3\n",
"P4=70;//Pressure at point 4 in bar\n",
"n=1.2;//Adiabatic gas constant\n",
"Cp=1.0035;//Specific heat at constant pressure in kJ/kg-K\n",
"\n",
"//CALCULATIONS\n",
"x=(n-1)/n;//Ratio\n",
"P2=P1*((P4/P1)^(1/3));//LP cylinder delivery pressure in bar\n",
"P3=P2*((P4/P1)^(1/3));//IP cylinder delivery pressure in bar\n",
"r=P2/P1;//Ratio of cylinder volumes\n",
"r1=P3/P2;//Ratio of cylinder volumes\n",
"r2=r*r1;//Ratio of cylinder volumes\n",
"V3=1;//Volume at point 3 in m^3\n",
"T4=T1*((P2/P1)^x);//Three stage outlet temperature in K\n",
"QR=Cp*(T4-T1);//Heat rejected in intercooler in kJ/kg of air\n",
"W=((3*P1*100*v1*(((P4/P1)^(x/3))-1))/(x*60));//Total indiacted power in kW\n",
"\n",
"//OUTPUT\n",
"mprintf('LP cylinder delivery pressure is %3.3f bar \n IP cylinder delivery pressure is %3.2f bar \n Ratio of cylinder volumes is %3.2f:%3.1f:%3.0f \n Temperature at end of each stage is %3.2f K \n Heat rejected in each intercooler is %3.1f kJ/kg of air \n Total indicated power is %3.2f kW',P2,P3,r2,r1,V3,T4,QR,W)\n",
"\n",
"\n",
"\n",
"\n",
"\n",
"\n",
"\n",
"\n",
"\n",
"\n",
"\n",
"\n",
"//==============================END OF PROGRAM================================="
   ]
   }
,
{
		   "cell_type": "markdown",
		   "metadata": {},
		   "source": [
			"## Example 5.19: EX5_19.sce"
		   ]
		  },
  {
"cell_type": "code",
	   "execution_count": null,
	   "metadata": {
	    "collapsed": true
	   },
	   "outputs": [],
"source": [
"//Chapter-5, Illustration 19, Page 269\n",
"//Title: Air Compressors\n",
"//=============================================================================\n",
"clc\n",
"clear\n",
"\n",
"//INPUT DATA\n",
"D=0.45;//Bore in m\n",
"L=0.3;//Stroke in m\n",
"C=0.05;//Ratio of clearance volume to swept volume\n",
"P1=1;//Pressure at point 1 inn bar\n",
"T1=291;//Temperature at point 1 in K\n",
"P4=15;//Pressure at point 4 in bar\n",
"n=1.3;//Adiabatic gas constant\n",
"R=0.29;//Universal gas constant in kJ/kg-K\n",
"\n",
"//CALCULATIONS\n",
"x=(n-1)/n;//Ratio\n",
"k=(P4/P1)^(1/3);//Pressure ratio\n",
"P2=k*P1;//Pressure at point 2 in bar\n",
"P3=k*P2;//Pressure at point 1 in bar\n",
"Vslp=(3.147*(D^2)*L)/4;//Swept volume of LP cylinder\n",
"V7=C*Vslp;//Volume at point 7 in m^3\n",
"V1=Vslp+V7;//Volume at point 1 in m^3\n",
"V8=V7*(k^(1/n));//Volume at point 8 in m^3\n",
"EVs=(V1-V8)*1000;//Effective swept volume in litres\n",
"T4=T1*(k^x);//Temperature at point 4 in K\n",
"t4=T4-273;//Delivery temperature in oC\n",
"DV=((P1*T4*(V1-V8))/(P4*T1))*1000;//Delivery volume per stroke in litres\n",
"W=(3*R*T1*((k^x)-1))/x;//Workdone per kg of air in kJ\n",
"\n",
"//OUTPUT\n",
"mprintf('Intermediate pressures are %3.3f bar and %3.3f bar \n Effective swept volume of LP cylinder is %3.2f litres \n Temperature of air delivered per stroke is %3.1f oC \n Volume of air delivered per stroke is %3.2f litres \n Work done per kg of air is %3.1f kJ',P2,P3,EVs,t4,DV,W)\n",
"\n",
"\n",
"\n",
"\n",
"\n",
"\n",
"\n",
"\n",
"\n",
"\n",
"\n",
"//==============================END OF PROGRAM================================="
   ]
   }
,
{
		   "cell_type": "markdown",
		   "metadata": {},
		   "source": [
			"## Example 5.1: Indicated_power_and_Mass_of_air_and_Temperature_delivered_by_compressor.sce"
		   ]
		  },
  {
"cell_type": "code",
	   "execution_count": null,
	   "metadata": {
	    "collapsed": true
	   },
	   "outputs": [],
"source": [
"//Chapter-5, Illustration 1, Page 250\n",
"//Title: Air Compressors\n",
"//=============================================================================\n",
"clc\n",
"clear\n",
"\n",
"//INPUT DATA\n",
"D=0.2;//Cylinder diameter in m\n",
"L=0.3;//Cylinder Stroke in m\n",
"P1=1;//Pressure at entry in bar\n",
"T1=300;//Temperature at entry in K\n",
"P2=8;//Pressure at exit in bar\n",
"n=1.25;//Adiabatic gas constant\n",
"N=100;//Speed in rpm\n",
"R=287;//Universal gas constant in J/kg-K\n",
"\n",
"//CALCULATIONS\n",
"x=(n-1)/n;//Ratio\n",
"V1=(3.147*L*(D^2))/4;//Volume of cylinder in m^3/cycle\n",
"W=(P1*(10^5)*V1*(((P2/P1)^x)-1))/x;//Work done in J/cycle\n",
"Pc=(W*100)/(60*1000);//Indicated power of compressor in kW\n",
"m=(P1*(10^5)*V1)/(R*T1);//Mass of air delivered in kg/cycle\n",
"md=m*N;//Mass delivered per minute in kg\n",
"T2=T1*((P2/P1)^x);//Temperature of air delivered in K\n",
"\n",
"//OUTPUT\n",
"mprintf('Indicated power of compressor is %3.2f kW \n Mass of air delivered by compressor per minute is %3.2f kg \n Temperature of air delivered is %3.1fK',Pc,md,T2)\n",
"\n",
"\n",
"\n",
"\n",
"//==============================END OF PROGRAM================================="
   ]
   }
,
{
		   "cell_type": "markdown",
		   "metadata": {},
		   "source": [
			"## Example 5.20: Number_of_stages_and_Exact_stage_pressure_ratio_and_Intermediate_pressures.sce"
		   ]
		  },
  {
"cell_type": "code",
	   "execution_count": null,
	   "metadata": {
	    "collapsed": true
	   },
	   "outputs": [],
"source": [
"//Chapter-5, Illustration 20, Page 271\n",
"//Title: Air Compressors\n",
"//=============================================================================\n",
"clc\n",
"clear\n",
"\n",
"//INPUT DATA\n",
"P1=1;//Pressure at point 1 in bar\n",
"Pns=100;//Maximum pressure in bar\n",
"p=4;//Pressure ratio\n",
"\n",
"//CALCULATIONS\n",
"Ns=log(Pns)/log(p);//Number of stages\n",
"y=ceil(Ns);//Rounding off to next higher integer\n",
"ps=(Pns/P1)^(1/y);//Exact stage pressure ratio\n",
"P2=ps*P1;//Pressure at point 2 in bar\n",
"P3=ps*P2;//Pressure at point 3 in bar\n",
"P4=ps*P3;//Pressure at point 4 in bar\n",
"\n",
"//OUTPUT\n",
"mprintf('Number of stages are %3.0f \n Exact stage pressure ratio is %3.3f \n Intermediate pressures are %3.3f bar,%3.2f bar,%3.2f bar',y,ps,P2,P3,P4)\n",
"\n",
"\n",
"\n",
"\n",
"\n",
"\n",
"\n",
"\n",
"//==============================END OF PROGRAM================================="
   ]
   }
,
{
		   "cell_type": "markdown",
		   "metadata": {},
		   "source": [
			"## Example 5.2: Size_of_cylinder.sce"
		   ]
		  },
  {
"cell_type": "code",
	   "execution_count": null,
	   "metadata": {
	    "collapsed": true
	   },
	   "outputs": [],
"source": [
"//Chapter-5, Illustration 2, Page 251\n",
"//Title: Air Compressors\n",
"//=============================================================================\n",
"clc\n",
"clear\n",
"\n",
"//INPUT DATA\n",
"IP=37;//Indicated power in kW\n",
"P1=0.98;//Pressure at entry in bar\n",
"T1=288;//Temperature at entry in K\n",
"P2=5.8;//Pressure at exit in bar\n",
"n=1.2;//Adiabatic gas constant\n",
"N=100;//Speed in rpm\n",
"Ps=151.5;//Piston speed in m/min\n",
"a=2;//For double acting compressor\n",
"\n",
"//CALCULATIONS\n",
"L=Ps/(2*N);//Stroke length in m\n",
"x=(n-1)/n;//Ratio\n",
"r=(3.147*L)/4;//Ratio of volume to bore\n",
"D=sqrt((IP*1000*60*x)/(N*a*r*P1*(10^5)*(((P2/P1)^x)-1)));//Cylinder diameter in m\n",
"\n",
"//OUTPUT\n",
"mprintf('Stroke length of cylinder is %3.4f m \n Cylinder diameter is %3.4f m',L,D)\n",
"\n",
"\n",
"\n",
"\n",
"\n",
"\n",
"//==============================END OF PROGRAM================================="
   ]
   }
,
{
		   "cell_type": "markdown",
		   "metadata": {},
		   "source": [
			"## Example 5.3: Cylinder_dimensions.sce"
		   ]
		  },
  {
"cell_type": "code",
	   "execution_count": null,
	   "metadata": {
	    "collapsed": true
	   },
	   "outputs": [],
"source": [
"//Chapter-5, Illustration 3, Page 251\n",
"//Title: Air Compressors\n",
"//=============================================================================\n",
"clc\n",
"clear\n",
"\n",
"//INPUT DATA\n",
"IP=11;//Indicated power in kW\n",
"P1=1;//Pressure at entry in bar\n",
"P2=7;//Pressure at exit in bar\n",
"n=1.2;//Adiabatic gas constant\n",
"Ps=150;//Piston speed in m/s\n",
"a=2;//For double acting compressor\n",
"r=1.5;//Storke to bore ratio\n",
"\n",
"//CALCULATIONS\n",
"x=(n-1)/n;//Ratio\n",
"y=3.147/(4*(r^2));//Ratio of volume to the cube of stroke\n",
"z=(P1*(10^2)*y*(((P2/P1)^x)-1))/x;//Ratio of workdone to the cube of stroke\n",
"L=(sqrt(IP/(z*Ps)))*1000;//Stroke in mm\n",
"D=(L/r);//Bore in mm\n",
"\n",
"//OUTPUT\n",
"mprintf('Stroke length of cylinder is %3.0f mm \n Bore diameter of cylinder is %3.0f mm',L,D)\n",
"\n",
"\n",
"\n",
"\n",
"\n",
"\n",
"//==============================END OF PROGRAM================================="
   ]
   }
,
{
		   "cell_type": "markdown",
		   "metadata": {},
		   "source": [
			"## Example 5.4: EX5_4.sce"
		   ]
		  },
  {
"cell_type": "code",
	   "execution_count": null,
	   "metadata": {
	    "collapsed": true
	   },
	   "outputs": [],
"source": [
"//Chapter-5, Illustration 4, Page 252\n",
"//Title: Air Compressors\n",
"//=============================================================================\n",
"clc\n",
"clear\n",
"\n",
"//INPUT DATA\n",
"x=0.05;//Ratio of clearance volume to swept volume\n",
"P1=1;//Pressure at point 1 in bar\n",
"T1=310;//Temperature at point 1 in K\n",
"n=1.2;//Adiabatic gas constant\n",
"P2=7;//Pressure at point 2 in bar\n",
"Pa=1.01325;//Atmospheric pressure in bar\n",
"Ta=288;//Atmospheric temperature in K\n",
"\n",
"//CALCULATIONS\n",
"V1=1+x;//Ratio of volume of air sucked to stroke volume\n",
"V4=((P2/P1)^(1/n))/20;//Ratio of volume delivered to stroke volume\n",
"DV=V1-V4;//Difference in volumes\n",
"nv1=DV*100;//Volumetric efficiency\n",
"V=(P1*DV*Ta)/(T1*Pa);//Ratio of volumes referred to atmospheric conditions\n",
"nv2=V*100;//Volumetric efficiency referred to atmospheric conditions\n",
"W=(n*0.287*T1*((P2/P1)^((n-1)/n)-1))/(n-1);//Work required in kJ/kg\n",
"\n",
"//OUTPUT\n",
"mprintf('Volumetric efficiency is %3.1f percent \n Volumetric efficiency referred to atmospheric conditions is %3.1f percent \n Work required is %3.1f kJ/kg',nv1,nv2,W)\n",
"\n",
"\n",
"\n",
"\n",
"\n",
"\n",
"\n",
"\n",
"//==============================END OF PROGRAM================================="
   ]
   }
,
{
		   "cell_type": "markdown",
		   "metadata": {},
		   "source": [
			"## Example 5.5: Theoretical_volume_of_air_take.sce"
		   ]
		  },
  {
"cell_type": "code",
	   "execution_count": null,
	   "metadata": {
	    "collapsed": true
	   },
	   "outputs": [],
"source": [
"//Chapter-5, Illustration 5, Page 253\n",
"//Title: Air Compressors\n",
"//=============================================================================\n",
"clc\n",
"clear\n",
"\n",
"//INPUT DATA\n",
"D=0.2;//Bore in m\n",
"L=0.3;//Stroke in m\n",
"lc=0.015;//Linear clearance in m\n",
"P1=1;//Pressure at point 1 in bar\n",
"P2=7;//Pressure at point 2 in bar\n",
"n=1.25;//Adiabatic gas constant\n",
"\n",
"//CALCULATIONS\n",
"V3=(3.147*(D^2)*lc)/4;//Clearance volume in m^3\n",
"Vs=(3.147*(D^2)*L)/4;//Stoke volume in m^3\n",
"C=V3/Vs;//Clearance ratio\n",
"nv=(1+C-(C*((P2/P1)^(1/n))))*100;//Volumetric efficiency\n",
"DV=(nv*Vs)/100;//Volume of air taken in (m^3)/stroke\n",
"\n",
"//OUTPUT\n",
"mprintf('Theoretical volume of air taken in per stroke is %3.6f (m^3)/stroke',DV)\n",
"\n",
"\n",
"\n",
"\n",
"\n",
"\n",
"\n",
"\n",
"//==============================END OF PROGRAM================================="
   ]
   }
,
{
		   "cell_type": "markdown",
		   "metadata": {},
		   "source": [
			"## Example 5.6: Mean_effective_pressure_and_Power_required.sce"
		   ]
		  },
  {
"cell_type": "code",
	   "execution_count": null,
	   "metadata": {
	    "collapsed": true
	   },
	   "outputs": [],
"source": [
"//Chapter-5, Illustration 6, Page 254\n",
"//Title: Air Compressors\n",
"//=============================================================================\n",
"clc\n",
"clear\n",
"\n",
"//INPUT DATA\n",
"D=0.2;//Bore in m\n",
"L=0.3;//Stroke in m\n",
"r=0.05;//Ratio of clearance volume to stroke volume\n",
"P1=1;//Pressure at point 1 in bar\n",
"T1=293;//Temperature at point 1 in K\n",
"P2=5.5;//Pressure at point 2 in bar\n",
"n=1.3;//Adiabatic gas constant\n",
"N=500;//Speed of compressor in rpm\n",
"\n",
"//CALCULATIONS\n",
"x=(n-1)/n;//Ratio\n",
"Vs=(3.147*L*(D^2))/4;//Stroke volume in m^3\n",
"Vc=r*Vs;//Clearance volume in m^3\n",
"V1=Vc+Vs;//Volume at point 1 in m^3\n",
"V4=Vc*((P2/P1)^(1/n));//Volume at point 4 in m^3\n",
"EVs=V1-V4;//Effective swept volume in m^3\n",
"W=(P1*(10^5)*EVs*(((P2/P1)^x)-1))/x;//Work done in J/cycle\n",
"MEP=(W/Vs)/(10^5);//Mean effective pressure in bar\n",
"P=(W*N)/(60*1000);//Power required in kW\n",
"\n",
"//OUTPUT\n",
"mprintf('Mean effective pressure is %3.2f bar \n Power required is %3.2f kW',MEP,P)\n",
"\n",
"\n",
"\n",
"\n",
"\n",
"\n",
"//==============================END OF PROGRAM================================="
   ]
   }
,
{
		   "cell_type": "markdown",
		   "metadata": {},
		   "source": [
			"## Example 5.7: EX5_7.sce"
		   ]
		  },
  {
"cell_type": "code",
	   "execution_count": null,
	   "metadata": {
	    "collapsed": true
	   },
	   "outputs": [],
"source": [
"//Chapter-5, Illustration 7, Page 255\n",
"//Title: Air Compressors\n",
"//=============================================================================\n",
"clc\n",
"clear\n",
"\n",
"//INPUT DATA\n",
"D=0.2;//Bore in m\n",
"L=0.3;//Stroke in m\n",
"r=0.05;//Ratio of clearance volume to stroke volume\n",
"P1=97;//Pressure at entry in kN/(m^2)\n",
"P4=P1;//Pressure at point 4 in kN/(m^2)\n",
"T1=293;//Temperature at point 1 in K\n",
"P2=550;//Compression Pressure in kN/(m^2)\n",
"P3=P2;//Pressure at point 3 in kN/(m^2)\n",
"n=1.3;//Adiabatic gas constant\n",
"N=500;//Speed of compressor in rpm\n",
"Pa=101.325;//Air pressure in kN/(m^2)\n",
"Ta=288;//Air temperature in K\n",
"\n",
"//CALCULATIONS\n",
"x=(n-1)/n;//Ratio\n",
"DV=(3.147*L*(D^2))/4;//Difference in volumes in m^3\n",
"V3=r*DV;//Clearance volume in m^3\n",
"V1=V3+DV;//Volume at point 1 in m^3\n",
"V4=V3*((P3/P4)^(1/n));//Volume at point 4 in m^3\n",
"Vs=V1-V4;//Effective swept volume in m^3\n",
"EVs=Vs*N;//Effective swept volume per min\n",
"Va=(P1*EVs*Ta)/(Pa*T1);//Free air delivered in (m^3)/min\n",
"nV=((V1-V4)/(V1-V3))*100;//Volumetric effciency\n",
"T2=T1*((P2/P1)^x);//Air delivery temperature in K\n",
"t2=T2-273;//Air delivery temperature in oC\n",
"W=(n*P1*(V1-V4)*(((P2/P1)^x)-1))*N/((n-1)*60);//Cycle power in kW\n",
"Wiso=P1*V1*(log(P2/P1));//Isothermal workdone\n",
"P=(n*P1*V1*(((P2/P1)^x)-1))/(n-1);//Cycle power neglecting clearance\n",
"niso=(Wiso/P)*100;//Isothermal efficiency\n",
"\n",
"//OUTPUT\n",
"mprintf('Free air delivered is %3.3f (m^3)/min \n Volumetric efficiency is %3.0f percent \n Air delivery temperature is %3.1f oC \n Cycle power is %3.0f kW \n Isothermal efficiency is %3.1f percent',Va,nV,t2,W,niso)\n",
"\n",
"\n",
"\n",
"\n",
"\n",
"\n",
"\n",
"\n",
"\n",
"\n",
"//==============================END OF PROGRAM================================="
   ]
   }
,
{
		   "cell_type": "markdown",
		   "metadata": {},
		   "source": [
			"## Example 5.8: Mean_effective_pressure_and_Brake_power.sce"
		   ]
		  },
  {
"cell_type": "code",
	   "execution_count": null,
	   "metadata": {
	    "collapsed": true
	   },
	   "outputs": [],
"source": [
"//Chapter-5, Illustration 8, Page 257\n",
"//Title: Air Compressors\n",
"//=============================================================================\n",
"clc\n",
"clear\n",
"\n",
"//INPUT DATA\n",
"Ve=30;//Volume of air entering compressor per hour in m^3\n",
"P1=1;//Presure of air entering compressor in bar\n",
"N=450;//Speed in rpm\n",
"P2=6.5;//Pressure at point 2 in bar\n",
"nm=0.8;//Mechanical efficiency\n",
"nv=0.75;//Volumetric efficiency\n",
"niso=0.76;//Isothermal efficiency\n",
"\n",
"//CALCULATIONS\n",
"Vs=Ve/(nv*3600);//Swept volume per sec in (m^3)/s\n",
"V=(Vs*60)/N;//Swept volume per cycle in m^3\n",
"V1=(Ve*60)/(3600*N);//Volume at point 1 in m^3\n",
"Wiso=P1*100*V1*log(P2/P1);//Isothermal workdone per cycle\n",
"Wact=Wiso/niso;//Actual workdone per cycle on air\n",
"MEP=(Wact/V)/100;//Mean effective pressure in bar\n",
"IP=(Wact*N)/60;//Indicated power in kW\n",
"BP=IP/nm;//Brake power in kW\n",
"\n",
"//OUTPUT\n",
"mprintf('Mean effective pressure is %3.3f bar \n Brake power is %3.2f kW',MEP,BP)\n",
"\n",
"\n",
"\n",
"\n",
"\n",
"\n",
"\n",
"//==============================END OF PROGRAM================================="
   ]
   }
,
{
		   "cell_type": "markdown",
		   "metadata": {},
		   "source": [
			"## Example 5.9: Cylinder_dimensions.sce"
		   ]
		  },
  {
"cell_type": "code",
	   "execution_count": null,
	   "metadata": {
	    "collapsed": true
	   },
	   "outputs": [],
"source": [
"//Chapter-5, Illustration 9, Page 258\n",
"//Title: Air Compressors\n",
"//=============================================================================\n",
"clc\n",
"clear\n",
"\n",
"//INPUT DATA\n",
"Va=15;//Volume of air in (m^3)/min\n",
"Pa=1.01325;//Pressure of air in bar\n",
"Ta=302;//Air temperature in K\n",
"P1=0.985;//Pressure at point 1 in bar\n",
"T1=313;//Temperature at point 1 in K\n",
"r=0.04;//Ratio of clearance volume to swept volume\n",
"y=1.3;//Ratio of stroke to bore diameter\n",
"N=300;//Speed in rpm\n",
"n=1.3;//Adiabatic gas constant\n",
"P2=7.5;//Pressure at point 2 in bar\n",
"\n",
"//CALCULATIONS\n",
"x=((P2/P1)^(1/n))-1;//Ratio of volume at point 4 to clearance volume\n",
"a=x*r;//Ratio of volume at point 4 to swept volume\n",
"nv=1-a;//Volumetric efficiency\n",
"V1=(Pa*Va*T1)/(Ta*P1);//Volume at point 1 in (m^3)/min\n",
"Vs=V1/(nv*N*2);//Swept volume in m^3\n",
"D=((Vs*4)/(3.147*y))^(1/3);//Bore in m\n",
"L=y*D;//Stroke in m\n",
"\n",
"//OUTPUT\n",
"mprintf('Cylinder bore in %3.3f m \n Cylinder stroke %3.3f m',D,L)\n",
"\n",
"\n",
"\n",
"\n",
"\n",
"\n",
"//==============================END OF PROGRAM================================="
   ]
   }
],
"metadata": {
		  "kernelspec": {
		   "display_name": "Scilab",
		   "language": "scilab",
		   "name": "scilab"
		  },
		  "language_info": {
		   "file_extension": ".sce",
		   "help_links": [
			{
			 "text": "MetaKernel Magics",
			 "url": "https://github.com/calysto/metakernel/blob/master/metakernel/magics/README.md"
			}
		   ],
		   "mimetype": "text/x-octave",
		   "name": "scilab",
		   "version": "0.7.1"
		  }
		 },
		 "nbformat": 4,
		 "nbformat_minor": 0
}
