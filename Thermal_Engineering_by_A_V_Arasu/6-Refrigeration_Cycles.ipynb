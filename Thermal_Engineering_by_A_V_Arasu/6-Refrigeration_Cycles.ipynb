{
"cells": [
 {
		   "cell_type": "markdown",
	   "metadata": {},
	   "source": [
       "# Chapter 6: Refrigeration Cycles"
	   ]
	},
{
		   "cell_type": "markdown",
		   "metadata": {},
		   "source": [
			"## Example 6.10: Ideal_COP_of_system.sce"
		   ]
		  },
  {
"cell_type": "code",
	   "execution_count": null,
	   "metadata": {
	    "collapsed": true
	   },
	   "outputs": [],
"source": [
"//Chapter-6, Illustration 10, Page 309\n",
"//Title: Refrigeration cycles\n",
"//=============================================================================\n",
"clc\n",
"clear\n",
"\n",
"//INPUT DATA\n",
"Tg=470;//Heating temperature in K\n",
"T0=290;//Cooling temperature in K\n",
"TL=270;//Refrigeration temperature in K\n",
"\n",
"//CALCULATIONS\n",
"COP=((Tg-T0)/Tg)*(TL/(T0-TL));//Ideal COP of absorption refrigeration system\n",
"\n",
"//OUTPUT\n",
"mprintf('Ideal COP of absorption refrigeration system is %3.2f',COP)\n",
"\n",
"\n",
"\n",
"//==============================END OF PROGRAM================================="
   ]
   }
,
{
		   "cell_type": "markdown",
		   "metadata": {},
		   "source": [
			"## Example 6.11: Maximum_and_minimum_temperature_in_cycle_and_COP_and_Rate_of_refrigeration.sce"
		   ]
		  },
  {
"cell_type": "code",
	   "execution_count": null,
	   "metadata": {
	    "collapsed": true
	   },
	   "outputs": [],
"source": [
"//Chapter-6, Illustration 11, Page 317\n",
"//Title: Refrigeration cycles\n",
"//=============================================================================\n",
"clc\n",
"clear\n",
"\n",
"//INPUT DATA\n",
"T1=-18;//Temperature at point 1 in oC\n",
"T3=27;//Temperature at point 3 in oC\n",
"rp=4;//Pressure ratio\n",
"m=0.045;//mass flow rate in kg/s\n",
"y=1.4;//Ratio of specific heats\n",
"Cp=1.005;//Specific heat at constant pressure in kJ/kg-K\n",
"\n",
"//CALCULATIONS\n",
"x=(y-1)/y;//Ratio\n",
"T2=(rp^x)*(273+T1);//Temperature at point 2 in K\n",
"Tmax=T2-273;//Maximum temperature in oC\n",
"T4=((1/rp)^x)*(273+T3);//Temperature at point 4 in K\n",
"Tmin=T4-273;//Minimum temperature in oC\n",
"qL=Cp*(T1-Tmin);//Heat rejected\n",
"Wcin=Cp*(Tmax-T1);//Compressor work\n",
"Wtout=Cp*(T3-Tmin);//Turbine work\n",
"Wnet=Wcin-Wtout;//Net work done\n",
"COP=qL/Wnet;//Co-efficient of performance\n",
"Qref=m*qL;//Rate of refrigeration in kW\n",
"\n",
"//OUTPUT\n",
"mprintf('Maximum temperature in the cycle is %3.0foC \n Minimum temperature in the cycle is %3.0foC \n COP is %3.2f \n Rate of refrigeration is %3.2f kW',Tmax,Tmin,COP,Qref)\n",
"\n",
"\n",
"\n",
"\n",
"\n",
"//==============================END OF PROGRAM================================="
   ]
   }
,
{
		   "cell_type": "markdown",
		   "metadata": {},
		   "source": [
			"## Example 6.12: Work_developed_and_Refrigerating_effect_and_COP.sce"
		   ]
		  },
  {
"cell_type": "code",
	   "execution_count": null,
	   "metadata": {
	    "collapsed": true
	   },
	   "outputs": [],
"source": [
"//Chapter-6, Illustration 12, Page 318\n",
"//Title: Refrigeration cycles\n",
"//=============================================================================\n",
"clc\n",
"clear\n",
"\n",
"//INPUT DATA\n",
"P1=1;//Pressure at point 1 in bar\n",
"T1=268;//Temperature at point 1 in K\n",
"P2=5;//Pressure at point 2 in bar\n",
"T3=288;//Temperature at point 3 in K\n",
"n=1.3;//Adiabatic gas constant\n",
"Cp=1.005;//Specific heat at constant pressure in kJ/kg-K\n",
"\n",
"//CALCULATIONS\n",
"x=(n-1)/n;//Ratio\n",
"T2=((P2/P1)^x)*T1;//Temperature at point 2 in K\n",
"T4=((P1/P2)^x)*T3;//Temperature at point 4 in K\n",
"W=Cp*(T3-T4);//Work developed per kg of air in kJ/kg\n",
"Re=Cp*(T1-T4);//Refrigerating effect per kg of air in kJ/kg\n",
"Wnet=Cp*((T2-T1)-(T3-T4));//Net work output in kJ/kg\n",
"COP=Re/Wnet;//Co-efficient of performance\n",
"\n",
"//OUTPUT\n",
"mprintf('Work developed per kg of air is %3.3f kJ/kg \n Refrigerating effect per kg of air is %3.3f kJ/kg \n COP of the cycle is %3.2f',W,Re,COP)\n",
"\n",
"\n",
"\n",
"\n",
"\n",
"//==============================END OF PROGRAM================================="
   ]
   }
,
{
		   "cell_type": "markdown",
		   "metadata": {},
		   "source": [
			"## Example 6.13: COP_of_refrigerator_and_Driving_power_required_and_Air_mass_flow_rate.sce"
		   ]
		  },
  {
"cell_type": "code",
	   "execution_count": null,
	   "metadata": {
	    "collapsed": true
	   },
	   "outputs": [],
"source": [
"//Chapter-6, Illustration 13, Page 319\n",
"//Title: Refrigeration cycles\n",
"//=============================================================================\n",
"clc\n",
"clear\n",
"\n",
"//INPUT DATA\n",
"T1=277;//Temperature at point 1 in K\n",
"T3=328;//Temperature at point 3 in K\n",
"P1=0.1;//Pressure at point 1 in MPa\n",
"P2=0.3;//Pressure at point 2 in MPa\n",
"nc=0.72;//Isentropic efficiency of compressor\n",
"nt=0.78;//Isentropic efficiency of turbine\n",
"y=1.4;//Adiabatic gas constant\n",
"Cp=1.005;//Specific heat at constant pressure in kJ/kg-K\n",
"m=3;//Cooling load in tonnes\n",
"\n",
"//CALCULATIONS\n",
"x=(y-1)/y;//Ratio\n",
"T2s=T1*((P2/P1)^x);//Temperature at point 2s in K\n",
"T2=((T2s-T1)/nc)+T1;//Temerature at point 2 in K\n",
"T4s=T3*((P1/P2)^x);//Temperature at point 4s in K\n",
"T4=T3-((T3-T4s)*nt);//Temperature at point 4 in K\n",
"Re=Cp*(T1-T4);//Refrigerating effect in kJ/kg\n",
"Wnet=Cp*((T2-T1)-(T3-T4));//Net work output in kJ/kg\n",
"COP=Re/Wnet;//Co-efficient of performance\n",
"P=(m*3.52)/COP;//Driving power required in kW\n",
"ma=(m*3.52)/Re;//Mass flow rate of air in kg/s\n",
"\n",
"//OUTPUT\n",
"mprintf('COP of refrigerator is %3.2f \n Driving power required is %3.0f kW \n Mass flow rate of air is %3.3f kg/s',COP,P,ma)\n",
"\n",
"\n",
"\n",
"\n",
"//==============================END OF PROGRAM================================="
   ]
   }
,
{
		   "cell_type": "markdown",
		   "metadata": {},
		   "source": [
			"## Example 6.14: Theoretical_COP_and_Net_cooling_produced.sce"
		   ]
		  },
  {
"cell_type": "code",
	   "execution_count": null,
	   "metadata": {
	    "collapsed": true
	   },
	   "outputs": [],
"source": [
"//Chapter-6, Illustration 14, Page 321\n",
"//Title: Refrigeration cycles\n",
"//=============================================================================\n",
"clc\n",
"clear\n",
"\n",
"//INPUT DATA\n",
"P1=2.5;//Pressure at point 1 in bar\n",
"P3=9;//Pressure at point 3 in bar\n",
"COPr=0.65;//Ratio of actual COP to the theoretical COP\n",
"m=5;//Refrigerant flow in kg/min\n",
"T1=309;//Temperature at point 1 in K\n",
"T2s=300;//Temperature at point 2s in K\n",
"h1=570.3;//Enthalpy at P1 from the given tables in kJ/kg\n",
"h4=456.4;//Enthalpy at P3 from the given tables in kJ/kg\n",
"h2g=585.3;//Enthalpy at P3 from the given tables in kJ/kg\n",
"s2=4.76;//Entropy at P1 from the given tables in kJ/kg-K\n",
"s2g=4.74;//Entropy at P3 from the given tables in kJ/kg-K\n",
"Cp=0.67;//Specific heat at P3 in kJ/kg-K\n",
"\n",
"//CALCULATIONS\n",
"T2=(2.718^((s2-s2g)/Cp))*T2s;//Temperature at point 2 in K\n",
"h2=h2g+(Cp*(T2-T2s));//Enthalpy at point 2 in kJ/kg\n",
"COPR=(h1-h4)/(h2-h1);//Refrigerant COP\n",
"COPact=COPr*COPR;//Actual COP\n",
"qL=COPact*(h2-h1);//Heat rejected in kJ/kg\n",
"QL=((m*qL*60)/3600)/3.516;//Cooling produced per kg of refrigerant in tonnes of refrigeration\n",
"\n",
"//OUTPUT\n",
"mprintf('Theoretical COP is %3.2f \n Net cooling produced per hour is %3.2f TR',COPR,QL)\n",
"\n",
"\n",
"\n",
"\n",
"//==============================END OF PROGRAM================================="
   ]
   }
,
{
		   "cell_type": "markdown",
		   "metadata": {},
		   "source": [
			"## Example 6.15: Theoretical_COP_of_machine.sce"
		   ]
		  },
  {
"cell_type": "code",
	   "execution_count": null,
	   "metadata": {
	    "collapsed": true
	   },
	   "outputs": [],
"source": [
"//Chapter-6, Illustration 15, Page 322\n",
"//Title: Refrigeration cycles\n",
"//=============================================================================\n",
"clc\n",
"clear\n",
"\n",
"//INPUT DATA\n",
"T2=298;//Temperature at point 2 in K\n",
"T1=268;//Temperature at point 1 in K\n",
"hf1=-7.54;//Liquid Enthalpy at T1 in kJ/kg\n",
"x1=0.6;//Quality factor 1\n",
"hfg1=245.3;//Latent heat at T1 in kJ/kg\n",
"sf1=0.251;//Liquid Entropy at T1 in kJ/kg-K\n",
"s1=0.507;//Entropy at point 1 in kJ/kg-K\n",
"hfg2=121.4;//Latent heat at T2 in kJ/kg\n",
"hf2=81.3;//Liquid Enthalpy at T2 in kJ/kg\n",
"h4=hf2;//Enthalpy at point 4 in kJ/kg\n",
"\n",
"//CALCULATIONS\n",
"h1=hf1+(x1*hfg1);//Enthalpy at point 1 in kJ/kg\n",
"x2=((s1-sf1)*T2)/hfg2;//Quality factor 2\n",
"h2=hf2+(x2*hfg2);//Enthalpy at point 2 in kJ/kg\n",
"COP=(h1-h4)/(h2-h1);//COP of the machine\n",
"\n",
"//OUTPUT\n",
"mprintf('COP of the machine is %3.2f',COP)\n",
"\n",
"\n",
"\n",
"\n",
"//==============================END OF PROGRAM================================="
   ]
   }
,
{
		   "cell_type": "markdown",
		   "metadata": {},
		   "source": [
			"## Example 6.16: Theoretical_COP_of_refrigerator_and_Capacity_of_refrigerator.sce"
		   ]
		  },
  {
"cell_type": "code",
	   "execution_count": null,
	   "metadata": {
	    "collapsed": true
	   },
	   "outputs": [],
"source": [
"//Chapter-6, Illustration 16, Page 323\n",
"//Title: Refrigeration cycles\n",
"//=============================================================================\n",
"clc\n",
"clear\n",
"\n",
"//INPUT DATA\n",
"P1=25;//Pressure at point 1 in bar\n",
"P2=60;//Pressure at point 2 in bar\n",
"h2=208.1;//Vapour enthalpy at P2 in kJ/kg\n",
"h3=61.9;//Liquid enthalpy at P2 in kJ/kg\n",
"h4=h3;//Liquid enthalpy at P2 in kJ/kg\n",
"s2=0.703;//Vapour entropy at P2 in kJ/kg-K\n",
"sf1=-0.075;//Liquid entropy at P1 in kJ/kg-K\n",
"sfg1=0.971;//Entropy in kJ/kg-K\n",
"hf1=-18.4;//Liquid Enthalpy at P1 in kJ/kg\n",
"hfg1=252.9;//Latent heat at P1 in kJ/kg\n",
"m=5;//Refrigerant flow in kg/min\n",
"\n",
"//CALCULATIONS\n",
"x1=(s2-sf1)/sfg1;//Quality factor 1\n",
"h1=hf1+(x1*hfg1);//Enthalpy at point 1 in kJ/kg\n",
"COP=(h1-h4)/(h2-h1);//Co-efficient of performance\n",
"QL=(m*(h1-h4))/60;//Capacity of the refrigerator in kW\n",
"\n",
"//OUTPUT\n",
"mprintf('COP of refrigerator is %3.2f \n Capacity of refrigerator is %3.2f kW',COP,QL)\n",
"\n",
"\n",
"\n",
"//==============================END OF PROGRAM================================="
   ]
   }
,
{
		   "cell_type": "markdown",
		   "metadata": {},
		   "source": [
			"## Example 6.17: COP_and_Theoretical_power_required.sce"
		   ]
		  },
  {
"cell_type": "code",
	   "execution_count": null,
	   "metadata": {
	    "collapsed": true
	   },
	   "outputs": [],
"source": [
"//Chapter-6, Illustration 17, Page 324\n",
"//Title: Refrigeration cycles\n",
"//=============================================================================\n",
"clc\n",
"clear\n",
"\n",
"//INPUT DATA\n",
"T1=271;//Temperature at point 1 in K\n",
"T=265;//Temperature at point 1' in K\n",
"Ta=303;//Temperature at point 2' in K\n",
"Cpv=0.733;//Specific heat of vapour in kJ/kg\n",
"Cpl=1.235;//Specific heat of liquid in kJ/kg\n",
"h=184.07;//Liquid enthalpy at T in kJ/kg\n",
"s=0.7;//Entropy at point 1' in kJ/kg-K\n",
"sa=0.685;//Vapour entropy at Ta in kJ/kg-K\n",
"ha=199.62;//Enthalpy at point 2' in kJ/kg\n",
"hfb=64.59;//Liquid enthalpy at Ta in kJ/kg\n",
"DT3=5;//Temperature difference in oC\n",
"Q=2532;//Refrigeration capacity in kJ/min\n",
"\n",
"//CALCULATIONS\n",
"s2=s+(Cpv*((log(T1/T))/(log(2.718))));//Entropy at point 1 in kJ/kg-K\n",
"h1=h+(Cpv*(T1-T));//Enthalpy at point 1 in kJ/kg-K\n",
"T2=(2.718^((s2-sa)/Cpv))*Ta;//Temperature at point 2 in K\n",
"h2=ha+(Cpv*(T2-Ta));//Enthalpy at point 2 in kJ/kg\n",
"h4=hfb-(Cpl*DT3);//Enthalpy at point 4 in kJ/kg\n",
"COP=(h1-h4)/(h2-h1);//Co-efficient of performance\n",
"m=Q/(h1-h4);//Mass flow rate of refrigerant in kJ/min\n",
"P=(m*(h2-h1))/(60*12);//Power required in kW/TR\n",
"\n",
"//OUTPUT\n",
"mprintf('COP is %3.2f \n Theoretical power required per tonne of refrigeration is %3.3f kW/TR',COP,P)\n",
"\n",
"\n",
"\n",
"\n",
"\n",
"\n",
"\n",
"\n",
"\n",
"\n",
"\n",
"\n",
"//==============================END OF PROGRAM================================="
   ]
   }
,
{
		   "cell_type": "markdown",
		   "metadata": {},
		   "source": [
			"## Example 6.1: Claim_is_correct_or_not.sce"
		   ]
		  },
  {
"cell_type": "code",
	   "execution_count": null,
	   "metadata": {
	    "collapsed": true
	   },
	   "outputs": [],
"source": [
"//Chapter-6, Illustration 1, Page 308\n",
"//Title: Refrigeration cycles\n",
"//=============================================================================\n",
"clc\n",
"clear\n",
"\n",
"//INPUT DATA\n",
"COP=8.5;//Co-efficient of performance\n",
"T1=300;//Room temperature in K\n",
"T2=267;//Refrigeration temperature in K\n",
"\n",
"//CALCULATIONS\n",
"COPmax=T2/(T1-T2);//Maximum COP possible\n",
"\n",
"//OUTPUT\n",
"mprintf('Maximum COP possible is %3.2f \n Since the COP claimed by the inventor is more than the maximum possible COP his claim is not correct',COPmax)\n",
"\n",
"\n",
"\n",
"//==============================END OF PROGRAM================================="
   ]
   }
,
{
		   "cell_type": "markdown",
		   "metadata": {},
		   "source": [
			"## Example 6.2: Weight_of_ice_formed_and_Minimum_power_required.sce"
		   ]
		  },
  {
"cell_type": "code",
	   "execution_count": null,
	   "metadata": {
	    "collapsed": true
	   },
	   "outputs": [],
"source": [
"//Chapter-6, Illustration 2, Page 309\n",
"//Title: Refrigeration cycles\n",
"//=============================================================================\n",
"clc\n",
"clear\n",
"\n",
"//INPUT DATA\n",
"TL=268;//Low temperature in K\n",
"TH=293;//High temperature in K\n",
"t=24;//time in hrs\n",
"C=2100;//Capacity of refrigerator in kJ/s\n",
"Tw=10;//Water temperature in oC\n",
"L=335;//Latent heat of ice in kJ/kg\n",
"\n",
"//CALCULATIONS\n",
"COP=TL/(TH-TL);//Co-efficient of performance\n",
"Pmin=C/COP;//Minimum power required in kW\n",
"Qr=(4.187*(Tw-0))+L;//Heat removed from water in kJ/kg\n",
"m=C/Qr;//mass of ice formed in kg/s\n",
"W=(m*t*3600)/1000;//Weight of ice formed in tons\n",
"\n",
"//OUTPUT\n",
"mprintf('Minimum power required is %3.2f kW \n Weight of ice formed in 24 hours is %3.2f tons',Pmin,W)\n",
"\n",
"\n",
"\n",
"\n",
"\n",
"\n",
"//==============================END OF PROGRAM================================="
   ]
   }
,
{
		   "cell_type": "markdown",
		   "metadata": {},
		   "source": [
			"## Example 6.3: Mass_of_ice_formed.sce"
		   ]
		  },
  {
"cell_type": "code",
	   "execution_count": null,
	   "metadata": {
	    "collapsed": true
	   },
	   "outputs": [],
"source": [
"//Chapter-6, Illustration 3, Page 309\n",
"//Title: Refrigeration cycles\n",
"//=============================================================================\n",
"clc\n",
"clear\n",
"\n",
"//INPUT DATA\n",
"TL=-10;//Temperature of brine in oC\n",
"TH=20;//Temperature of water in oC\n",
"L=335;//Latent heat of ice in kJ/kg\n",
"\n",
"//CALCULATIONS\n",
"Qr=(4.187*(TH-0))+L;//Heat removed from water in kJ/kg\n",
"COP=(TL+273)/(TH-TL);//Co-efficient of performance\n",
"mi=(COP*3600)/Qr;//mass of ice formed per kWh in kg\n",
"\n",
"//OUTPUT\n",
"mprintf('Mass of ice formed per kWh is %3.1f kg',mi)\n",
"\n",
"\n",
"\n",
"\n",
"\n",
"\n",
"//==============================END OF PROGRAM================================="
   ]
   }
,
{
		   "cell_type": "markdown",
		   "metadata": {},
		   "source": [
			"## Example 6.4: EX6_4.sce"
		   ]
		  },
  {
"cell_type": "code",
	   "execution_count": null,
	   "metadata": {
	    "collapsed": true
	   },
	   "outputs": [],
"source": [
"//Chapter-6, Illustration 4, Page 310\n",
"//Title: Refrigeration cycles\n",
"//=============================================================================\n",
"clc\n",
"clear\n",
"\n",
"//INPUT DATA\n",
"P1=1.2;//Pressure at point 1 in bar\n",
"P2=7;//Pressure at point 2 in bar\n",
"m=0.05;//mass flow rate of refrigerant in kg/s\n",
"h1=340.1;//Enthalpy at point 1 from refrigerant-12 tables in kJ/kg\n",
"s1=1.57135;//Entropy at point 1 from refrigerant-12 tables in kJ/kg-K\n",
"s2=1.57135;//Entropy at point 2 from refrigerant-12 tables in kJ/kg-K\n",
"h2=372;//Enthalpy at point 2 from refrigerant-12 tables in kJ/kg\n",
"h3=226.575;//Enthalpy at point 3 from refrigerant-12 tables in kJ/kg\n",
"h4=226.575;//Enthalpy at point 4 from refrigerant-12 tables in kJ/kg\n",
"\n",
"//CALCULATIONS\n",
"Q2=m*(h1-h4);//Rate of heat removed from the refrigerated space in kW\n",
"W=m*(h2-h1);//Power input to the compressor in kW\n",
"Q1=m*(h2-h3);//Rate of heat rejection to the environment in kW\n",
"COP=Q2/W;//Co-efficient of performance\n",
"\n",
"//OUTPUT\n",
"mprintf('Rate of heat removed from the refrigerated space is %3.2f kW \n Power input to the compressor is %3.3f kW \n Rate of heat rejection to the environment is %3.2f kW \n Co-efficient of performance is %3.2f',Q2,W,Q1,COP)\n",
"\n",
"\n",
"\n",
"\n",
"//==============================END OF PROGRAM================================="
   ]
   }
,
{
		   "cell_type": "markdown",
		   "metadata": {},
		   "source": [
			"## Example 6.5: COP_of_system.sce"
		   ]
		  },
  {
"cell_type": "code",
	   "execution_count": null,
	   "metadata": {
	    "collapsed": true
	   },
	   "outputs": [],
"source": [
"//Chapter-6, Illustration 5, Page 311\n",
"//Title: Refrigeration cycles\n",
"//=============================================================================\n",
"clc\n",
"clear\n",
"\n",
"//INPUT DATA\n",
"T2=40;//Temperature at point 2 in oC\n",
"T1=-10;//Temperature at point 1 in oC\n",
"h2=367.155;//Enthalpy at point 2 from refrigerant-12 tables in kJ/kg\n",
"s2=1.54057;//Entropy at point 2 from refrigerant-12 tables in kJ/kg-K\n",
"s1=1.54057;//Entropy at point 1 from refrigerant-12 tables in kJ/kg-K\n",
"sg=1.56004;//Entropy from refrigerant-12 tables in kJ/kg-K\n",
"sf=0.96601;//Entropy from refrigerant-12 tables in kJ/kg-K\n",
"hf=190.822;//Enthalpy from refrigerant-12 tables in kJ/kg-K\n",
"hfg=156.319;//Enthalpy from refrigerant-12 tables in kJ/kg-K\n",
"h3=238.533;//Enthalpy at point 3 from refrigerant-12 tables in kJ/kg-K\n",
"h4=h3;//Enthalpy at point 4 from refrigerant-12 tables in kJ/kg-K\n",
"\n",
"//CALCULATIONS\n",
"x1=(s1-sf)/(sg-sf);//Quality factor\n",
"h1=hf+(x1*hfg);//Enthalpy at point 1 from refrigerant-12 tables in kJ/kg\n",
"COP=(h1-h4)/(h2-h1);//Co-efficient of performance\n",
"\n",
"//OUTPUT\n",
"mprintf('COP of the system is %3.2f',COP)\n",
"\n",
"\n",
"\n",
"//==============================END OF PROGRAM================================="
   ]
   }
,
{
		   "cell_type": "markdown",
		   "metadata": {},
		   "source": [
			"## Example 6.6: EX6_6.sce"
		   ]
		  },
  {
"cell_type": "code",
	   "execution_count": null,
	   "metadata": {
	    "collapsed": true
	   },
	   "outputs": [],
"source": [
"//Chapter-6, Illustration 6, Page 311\n",
"//Title: Refrigeration cycles\n",
"//=============================================================================\n",
"clc\n",
"clear\n",
"\n",
"//INPUT DATA\n",
"Tc=35;//Temperature of condenser in oC\n",
"Te=-15;//Temperature of evaporator in oC\n",
"m=10;//Mass of ice per day in tons\n",
"Tw=30;//Temperature of water in oC\n",
"Ti=-5;//Temperature of ice in oC\n",
"nv=0.65;//Volumetric efficiency\n",
"N=1200;//Speed in rpm\n",
"x=1.2;//Stroke to bore ratio\n",
"na=0.85;//Adiabatic efficiency\n",
"nm=0.95;//Mechanical efficiency\n",
"S=4.187;//Specific heat of water in kJ/kg\n",
"L=335;//Latent heat of ice in kJ/kg\n",
"h1=1667.24;//Enthalpy at Te from Ammonia chart in kJ/kg\n",
"h2=1925;//Enthalpy at Te from Ammonia chart in kJ/kg\n",
"h4=586.41;//Enthalpy at Tc from Ammonia chart in kJ/kg\n",
"v1=0.508;//Specific humidity at Te from Ammonia chart in (m^3)/kg\n",
"\n",
"//CALCULATIONS\n",
"Qr=(((m*1000)/24)*((S*(Tw-0))+L+(1.94*(0-Ti))))/3600;//Refrigerating capacity in kW\n",
"mr=Qr/(h1-h4);//Refrigerant mass flow rate in kg/s\n",
"T2=112;//Discharge temperature in oC\n",
"D=((mr*v1*4*60)/(nv*3.14*x*N))^(1/3);//Cylinder diameter in m\n",
"L=x*D;//Stroke length in m\n",
"W=(mr*(h2-h1))/(na*nm);//Compressor motor power in kW\n",
"COPth=(h1-h4)/(h2-h1);//Theoretical COP\n",
"COPact=Qr/W;//Actual COP\n",
"\n",
"//OUTPUT\n",
"mprintf('Refrigerating capacity of plant is %3.2f kW \n Refrigerant mass flow rate is %3.4f kg/s \n Discharge temperature is %3.0f oC \n Cylinder diameter is %3.3f m \n Stroke length is %3.3f m \n Compressor motor power is %3.2f kW \n Theoretical COP is %3.2f \n Actual COP is %3.2f',Qr,mr,T2,D,L,W,COPth,COPact)\n",
"\n",
"\n",
"\n",
"\n",
"//==============================END OF PROGRAM================================="
   ]
   }
,
{
		   "cell_type": "markdown",
		   "metadata": {},
		   "source": [
			"## Example 6.7: Circulation_rate_of_ammonia_and_Power_required_and_COP.sce"
		   ]
		  },
  {
"cell_type": "code",
	   "execution_count": null,
	   "metadata": {
	    "collapsed": true
	   },
	   "outputs": [],
"source": [
"//Chapter-6, Illustration 7, Page 313\n",
"//Title: Refrigeration cycles\n",
"//=============================================================================\n",
"clc\n",
"clear\n",
"\n",
"//INPUT DATA\n",
"T1=-5;//Temperature at point 1 in oC\n",
"T2=30;//Temperature at point 2 in oC\n",
"m=13500;//mass of ice per day in kg\n",
"Tw=20;//Temperature of water in oC\n",
"COP=0.6;//Co-efficient of performance\n",
"h2=1709.33;//Enthalpy at point 2 in kJ/kg\n",
"s2=6.16259;//Entropy at point 2 in kJ/kg-K\n",
"s1=6.16259;//Entropy at point 1 in kJ/kg-K\n",
"sf=1.8182;//Entropy in kJ/kg-K\n",
"sg=6.58542;//Entropy in kJ/kg-K\n",
"hf=400.98;//Enthalpy in kJ/kg\n",
"hfg=1278.35;//Enthalpy in kJ/kg\n",
"h4=562.75;//Enthalpy at point 4 in kJ/kg\n",
"S=4.187;//Specific heat of water in kJ/kg\n",
"L=336;//Latent heat of ice in kJ/kg\n",
"\n",
"//CALCULATIONS\n",
"x1=(s1-sf)/(sg-sf);//Quality factor\n",
"h1=hf+(x1*hfg);//Enthalpy at point 1 from refrigerant-12 tables in kJ/kg\n",
"COPi=(h1-h4)/(h2-h1);//Ideal COP\n",
"COPact=COP*COPi;//Actual COP\n",
"Qr=((m*S*(Tw-0))+(m*L))/(24*3600);//Total amount of heat removed in kJ/s\n",
"mr=Qr/(h1-h4);//Circulation rate of ammonia in kg/s\n",
"W=mr*(h2-h1);//Power required in kW\n",
"\n",
"//OUTPUT\n",
"mprintf('Circulation rate of ammonia is %3.3f kg/s \n Power required is %3.3f kW \n COP is %3.3f',mr,W,COPact)\n",
"\n",
"\n",
"\n",
"\n",
"\n",
"//==============================END OF PROGRAM================================="
   ]
   }
,
{
		   "cell_type": "markdown",
		   "metadata": {},
		   "source": [
			"## Example 6.8: EX6_8.sce"
		   ]
		  },
  {
"cell_type": "code",
	   "execution_count": null,
	   "metadata": {
	    "collapsed": true
	   },
	   "outputs": [],
"source": [
"//Chapter-6, Illustration 8, Page 314\n",
"//Title: Refrigeration cycles\n",
"//=============================================================================\n",
"clc\n",
"clear\n",
"\n",
"//INPUT DATA\n",
"Tc=20;//Temperature of condenser in oC\n",
"Te=-25;//Temperature of evaporator in oC\n",
"m=15;//Mass of ice per day in tons\n",
"Ts=5;//Subcooled temperature in oC\n",
"Tsh=10;//Superheated temperature in oC\n",
"n=6;//No. of cylinders\n",
"N=950;//Speed of compressor in rpm\n",
"x=1;//Stroke to bore ratio\n",
"h1=402;//Enthalpy at point 1 from R-22 tables in kJ/kg\n",
"h2=442;//Enthalpy at point 2 from R-22 tables in kJ/kg\n",
"h3=216;//Enthalpy at point 3 from R-22 tables in kJ/kg\n",
"h4=216;//Enthalpy at point 4 from R-22 tables in kJ/kg\n",
"v1=2.258;//Specific volume at point 1 in (m^3)/min\n",
"\n",
"//CALCULATIONS\n",
"Re=h1-h4;//Refrigerating effect in kJ/kg\n",
"mr=(m*14000)/(Re*60);//Mass flow of refrigerant in kg/min\n",
"Pth=(mr*(h2-h1))/60;//Theoretical power in kW\n",
"COP=(h1-h4)/(h2-h1);//Co-efficient of performance\n",
"Dth=v1/n;//Theoretical displacement per cylinder\n",
"D=(((Dth*4)/(3.147*N))^(1/3))*1000;//Theoretical bore of compressor in mm\n",
"L=D;//Theoretical stroke of compressor in mm\n",
"\n",
"//OUTPUT\n",
"mprintf('Refrigerating effect is %3.0f kJ/kg \n Mass flow of refrigerant per minute is %3.2f kg/min \n Theoretical input power is %3.2f kW \n COP is %3.2f \n Theoretical bore of compressor is %3.2f mm \n Theoretical stroke of compressor is %3.2f mm',Re,mr,Pth,COP,D,L)\n",
"\n",
"\n",
"\n",
"\n",
"\n",
"\n",
"\n",
"//==============================END OF PROGRAM================================="
   ]
   }
,
{
		   "cell_type": "markdown",
		   "metadata": {},
		   "source": [
			"## Example 6.9: COP_when_there_is_no_subcooling_and_when_there_is_subcooling.sce"
		   ]
		  },
  {
"cell_type": "code",
	   "execution_count": null,
	   "metadata": {
	    "collapsed": true
	   },
	   "outputs": [],
"source": [
"//Chapter-6, Illustration 9, Page 316\n",
"//Title: Refrigeration cycles\n",
"//=============================================================================\n",
"clc\n",
"clear\n",
"\n",
"//INPUT DATA\n",
"T2=40;//Temperature at point 2 in oC\n",
"T1=-5;//Temperature at point 1 in oC\n",
"h2=367.155;//Enthalpy at point 2 from F-12 tables in kJ/kg\n",
"sg=1.55717;//Entropy from F-12 tables in kJ/kg-K\n",
"s1=1.54057;//Entropy at point 1 from F-12 tables in kJ/kg-K\n",
"sf=0.98311;//Entropy from F-12 tables in kJ/kg-K\n",
"hf=195.394;//Enthalpy from F-12 tables in kJ/kg\n",
"hfg=153.934;//Enthalpy from F-12 tables in kJ/kg\n",
"h4=238.533;//Enthalpy at point 4 from F-12 tables in kJ/kg\n",
"h4s=218;//Enthalpy at point 4 with subcooling from F-12 tables in kJ/kg\n",
"\n",
"//CALCULATIONS\n",
"x1=(s1-sf)/(sg-sf);//Quality factor\n",
"h1=hf+(x1*hfg);//Enthalpy at point 1 from refrigerant-12 tables in kJ/kg\n",
"COPns=(h1-h4)/(h2-h1);//Co-efficient of performance with no subcooling\n",
"COPs=(h1-h4s)/(h2-h1);//Co-efficient of performance with subcooling\n",
"\n",
"//OUTPUT\n",
"mprintf('COP with no subcooling is %3.3f \n COP with subcooling is %3.3f',COPns,COPs)\n",
"\n",
"\n",
"\n",
"\n",
"\n",
"\n",
"\n",
"\n",
"//==============================END OF PROGRAM================================="
   ]
   }
],
"metadata": {
		  "kernelspec": {
		   "display_name": "Scilab",
		   "language": "scilab",
		   "name": "scilab"
		  },
		  "language_info": {
		   "file_extension": ".sce",
		   "help_links": [
			{
			 "text": "MetaKernel Magics",
			 "url": "https://github.com/calysto/metakernel/blob/master/metakernel/magics/README.md"
			}
		   ],
		   "mimetype": "text/x-octave",
		   "name": "scilab",
		   "version": "0.7.1"
		  }
		 },
		 "nbformat": 4,
		 "nbformat_minor": 0
}
