{
"cells": [
 {
		   "cell_type": "markdown",
	   "metadata": {},
	   "source": [
       "# Chapter 4: Steam nozzles and Steam turbines"
	   ]
	},
{
		   "cell_type": "markdown",
		   "metadata": {},
		   "source": [
			"## Example 4.10: Throat_velocity_and_Mass_flow_rate_of_steam.sce"
		   ]
		  },
  {
"cell_type": "code",
	   "execution_count": null,
	   "metadata": {
	    "collapsed": true
	   },
	   "outputs": [],
"source": [
"//Chapter-4, Illustration 10, Page 173\n",
"//Title: Steam Nozzles and Steam Turbines\n",
"//=============================================================================\n",
"clc\n",
"clear\n",
"\n",
"//INPUT DATA\n",
"P1=10.5;//Pressure at point 1 in bar\n",
"x1=0.95;//Dryness fraction\n",
"n=1.135;//Adiabatic gas constant\n",
"P2=0.85;//Pressure at point 2 in bar\n",
"vg=0.185;//Specific volume in m^3/kg\n",
"\n",
"\n",
"//CALCULATIONS\n",
"c=n/(n-1);//Ratio\n",
"Pt=((2/(n+1))^c)*P1;//Throat pressure in MN/(m^2)\n",
"v1=x1*vg;//Specific volume at point 1 in m^3/kg\n",
"Ct=sqrt((2*n*P1*v1*(10^5)/(n+1)));//Velocity at throat in m/s\n",
"vt=((P1/Pt)*(v1^n))^(1/1.135);//Specific volume at throat in m^3/kg\n",
"m=Ct/vt;//Mass flow rate per unit throat area in kg/(m^2)\n",
"\n",
"//OUTPUT\n",
"mprintf('Throat velocity is %3.2f m/s \n Mass flow rate of steam is %3.2f kg/(m^2)',Ct,m)\n",
"\n",
"\n",
"\n",
"\n",
"\n",
"//==============================END OF PROGRAM================================="
   ]
   }
,
{
		   "cell_type": "markdown",
		   "metadata": {},
		   "source": [
			"## Example 4.11: Degree_of_undercooling_and_supersaturation.sce"
		   ]
		  },
  {
"cell_type": "code",
	   "execution_count": null,
	   "metadata": {
	    "collapsed": true
	   },
	   "outputs": [],
"source": [
"//Chapter-4, Illustration 11, Page 174\n",
"//Title: Steam Nozzles and Steam Turbines\n",
"//=============================================================================\n",
"clc\n",
"clear\n",
"\n",
"//INPUT DATA\n",
"P1=10;//Pressure at point 1 in bar\n",
"T1=452.9;//Temperature at point 1 in K\n",
"P2=4;//Pressure at point 2 in bar\n",
"n=1.3;//Adiabatic gas constant\n",
"Ps=0.803;//Saturation pressure at T2 in bar\n",
"Ts=143.6;//Saturation temperature at P2 in oC\n",
"//CALCULATIONS\n",
"x=(n-1)/n;//Ratio\n",
"T2=((P2/P1)^x)*T1;//Temperature at point 2 in K\n",
"Ds=P2/Ps;//Degree of supersaturation\n",
"Du=Ts-(T2-273);//Degree of undercooling\n",
"\n",
"//OUTPUT\n",
"mprintf('Degree of supersaturation is %3.2f \n Degree of undercooling %3.0f oC',Ds,Du)\n",
"\n",
"\n",
"\n",
"\n",
"\n",
"\n",
"\n",
"//==============================END OF PROGRAM================================="
   ]
   }
,
{
		   "cell_type": "markdown",
		   "metadata": {},
		   "source": [
			"## Example 4.12: Quantity_of_steam_used_and_Exit_velocity_of_steam.sce"
		   ]
		  },
  {
"cell_type": "code",
	   "execution_count": null,
	   "metadata": {
	    "collapsed": true
	   },
	   "outputs": [],
"source": [
"//Chapter-4, Illustration 12, Page 174\n",
"//Title: Steam Nozzles and Steam Turbines\n",
"//=============================================================================\n",
"clc\n",
"clear\n",
"\n",
"//INPUT DATA\n",
"P1=9;//Pressure at point 1 in bar\n",
"P2=1;//Pressure at point 2 in bar\n",
"Dt=0.0025;//Throat diameter in m\n",
"nN=0.9;//Nozzle efficiency\n",
"n=1.135;//Adiabatic gas consstant\n",
"h1=2770;//Enthalpy at point 1 in kJ/kg\n",
"ht=2670;//Throat enthlapy in kJ/kg\n",
"h3=2400;//Enthlapy at point 2 in kJ/kg\n",
"x2=0.96;//Dryness fraction 2\n",
"vg2=0.361;//Specific volume in m^3/kg\n",
"\n",
"//CALCULATIONS\n",
"x=n/(n-1);//Ratio\n",
"Pt=((2/(n+1))^x)*P1;//Throat pressure in bar\n",
"Ct=sqrt(2000*(h1-ht)*nN);//Throat velocity in m/s\n",
"At=(3.147*2*(Dt^2))/4;//Throat area in m^2\n",
"vt=x2*vg2;//Specific volume at throat in m^3/kg\n",
"m=(At*Ct)/vt;//Mass flow rate of steam in kg/s\n",
"hact=nN*(h1-h3);//Actual enthalpy drop in kJ/kg\n",
"C2=sqrt(2000*hact);//Exit velocity of steam in m/s\n",
"\n",
"//OUTPUT\n",
"mprintf('Quantity of steam used per second is %3.3f kg/s \n Exit velocity of steam is %3.2f m/s',m,C2)\n",
"\n",
"\n",
"\n",
"\n",
"//==============================END OF PROGRAM================================="
   ]
   }
,
{
		   "cell_type": "markdown",
		   "metadata": {},
		   "source": [
			"## Example 4.13: EX4_13.sce"
		   ]
		  },
  {
"cell_type": "code",
	   "execution_count": null,
	   "metadata": {
	    "collapsed": true
	   },
	   "outputs": [],
"source": [
"//Chapter-4, Illustration 13, Page 202\n",
"//Title: Steam Nozzles and Steam Turbines\n",
"//=============================================================================\n",
"clc\n",
"clear\n",
"\n",
"//INPUT DATA\n",
"C1=1000;//Steam velocity in m/s\n",
"a1=20;//Nozzle angle in degrees\n",
"U=400;//Mean blade speed in m/s\n",
"m=0.75;//Mass flow rate of steam in kg/s\n",
"b1=33;//Blade angle at inlet from the velocity triangle in degrees\n",
"b2=b1;//Blade angle at exit from the velocity triangle in degrees\n",
"Cx=1120;//Change in whirl velocity from the velocity triangle in m/s\n",
"Ca=0;//Change in axial velocity from the velocity triangle in m/s\n",
"\n",
"//CALCULATIONS\n",
"Fx=m*Cx;//Tangential force on blades in N\n",
"Fy=m*Ca;//Axial thrust in N\n",
"W=(m*Cx*U)/1000;//Diagram power in kW\n",
"ndia=((2*U*Cx)/(C1^2))*100;//Diagram efficiency\n",
"\n",
"//OUTPUT\n",
"mprintf('Blade angles are %3.0f degrees,%3.0f degrees \n Tangential force on blades is %3.0f N \n Axial thrust is %3.0f \n Diagram power is %3.0f kW \n Diagram efficiency %3.1f percent',b1,b2,Fx,Fy,W,ndia)\n",
"\n",
"\n",
"\n",
"\n",
"\n",
"//==============================END OF PROGRAM================================="
   ]
   }
,
{
		   "cell_type": "markdown",
		   "metadata": {},
		   "source": [
			"## Example 4.14: Power_developed_and_Blade_efficiency_and_Steam_consumption.sce"
		   ]
		  },
  {
"cell_type": "code",
	   "execution_count": null,
	   "metadata": {
	    "collapsed": true
	   },
	   "outputs": [],
"source": [
"//Chapter-4, Illustration 14, Page 203\n",
"//Title: Steam Nozzles and Steam Turbines\n",
"//=============================================================================\n",
"clc\n",
"clear\n",
"\n",
"//INPUT DATA\n",
"D=2.5;//Mean diameter of blade ring in m\n",
"N=3000;//Speed in rpm\n",
"a1=20;//Nozzle angle in degrees\n",
"r=0.4;//Ratio blade velocity to steam velocity\n",
"Wr=0.8;//Blade friction factor\n",
"m=10;//Steam flow in kg/s\n",
"x=3;//Sum in blade angles in degrees\n",
"b1=32.5;//Blade angle at inlet from the velocity triangle in degrees\n",
"W1=626.7;//Relative velocity at inlet from the velocity triangle in m/s\n",
"Cx=967;//Change in whirl velocity from the velocity triangle in m/s\n",
"\n",
"//CALCULATIONS\n",
"U=(3.147*D*N)/60;//Blade velocity in m/s\n",
"C1=U/r;//Steam velocity in m/s\n",
"b2=b1-x;//Blade angle at exit in degrees\n",
"W2=Wr*W1;//Relative velocity at outlet from the velocity triangle in m/s\n",
"W=(m*Cx*U)/1000;//Power developed in kW\n",
"ndia=((2*U*Cx)/(C1^2))*100;//Blade efficiency\n",
"sc=(m*3600)/W;//Steam consumption in kg/kWh\n",
"\n",
"//OUTPUT\n",
"mprintf('Power developed is %3.0f kW \n Blade efficiency is %3.1f percent \n Steam consumed is %3.2f kg/kWh',W,ndia,sc)\n",
"\n",
"\n",
"\n",
"\n",
"//==============================END OF PROGRAM================================="
   ]
   }
,
{
		   "cell_type": "markdown",
		   "metadata": {},
		   "source": [
			"## Example 4.15: Blading_efficiency_and_Blade_velocity_coefficient.sce"
		   ]
		  },
  {
"cell_type": "code",
	   "execution_count": null,
	   "metadata": {
	    "collapsed": true
	   },
	   "outputs": [],
"source": [
"//Chapter-4, Illustration 15, Page 204\n",
"//Title: Steam Nozzles and Steam Turbines\n",
"//=============================================================================\n",
"clc\n",
"clear\n",
"\n",
"//INPUT DATA\n",
"m=3;//Mass flow rate of steam in kg/s\n",
"C1=425;//Steam velocity in m/s\n",
"r=0.4;//Ratio of blade speed to jet speed\n",
"W=170;//Stage output in kW\n",
"IL=15;//Internal losses in kW\n",
"a1=16;//Nozzle angle in degrees\n",
"b2=17;//Blade angle at exit in degrees\n",
"W1=265;//Relative velocity at inlet from the velocity triangle in m/s\n",
"W2=130;//Relative velocity at outlet from the velocity triangle in m/s\n",
"\n",
"//CALCULATIONS\n",
"U=C1*r;//Blade speed in m/s\n",
"P=(W+IL)*1000;//Total power developed in W\n",
"Cx=P/(m*W);//Change in whirl velocity in m/s\n",
"ndia=((2*U*Cx)/(C1^2))*100;//Blading efficiency\n",
"Wr=W2/W1;//Blade velocity co-efficient\n",
"\n",
"//OUTPUT\n",
"mprintf('Blading efficiency is %3.1f percent \n Blade velocity co-efficient is %3.2f',ndia,Wr)\n",
"\n",
"\n",
"\n",
"\n",
"//==============================END OF PROGRAM================================="
   ]
   }
,
{
		   "cell_type": "markdown",
		   "metadata": {},
		   "source": [
			"## Example 4.16: Blade_angles_and_Turbine_power.sce"
		   ]
		  },
  {
"cell_type": "code",
	   "execution_count": null,
	   "metadata": {
	    "collapsed": true
	   },
	   "outputs": [],
"source": [
"//Chapter-4, Illustration 16, Page 205\n",
"//Title: Steam Nozzles and Steam Turbines\n",
"//=============================================================================\n",
"clc\n",
"clear\n",
"\n",
"//INPUT DATA\n",
"C1=375;//Steam velocity in m/s\n",
"a1=20;//Nozzle angle\n",
"U=165;//Blade speed in m/s\n",
"m=1;//Mass flow rate of steam in kg/s\n",
"Wr=0.85;//Blade friction factor\n",
"Ca1=130;//Axial velocity at inlet from the velocity triangle in m/s\n",
"Ca2=Ca1;//Axial velocity at outlet in m/s\n",
"W1=230;//Relative velocity at inlet from the velocity triangle in m/s\n",
"Cx=320;//Change in whirl velocity from the velocity triangle in m/s\n",
"\n",
"//CALCULATIONS\n",
"b2=41;//Blade angle at exit from the velocity triangle in degrees\n",
"b1=34;//Blade angle at exit from the velocity triangle in degrees\n",
"W=(m*Cx*U)/1000;//Power developed by turbine in kW\n",
"\n",
"//OUTPUT\n",
"mprintf('Blade angles assumed are %3.0f degrees,%3.0f degrees \n Power developed by turbine is %3.1f kW',b1,b2,W)\n",
"\n",
"\n",
"\n",
"\n",
"//==============================END OF PROGRAM================================="
   ]
   }
,
{
		   "cell_type": "markdown",
		   "metadata": {},
		   "source": [
			"## Example 4.17: Nozzle_angle_and_Blade_angle_at_entry_and_exit.sce"
		   ]
		  },
  {
"cell_type": "code",
	   "execution_count": null,
	   "metadata": {
	    "collapsed": true
	   },
	   "outputs": [],
"source": [
"//Chapter-4, Illustration 17, Page 206\n",
"//Title: Steam Nozzles and Steam Turbines\n",
"//=============================================================================\n",
"clc\n",
"clear\n",
"\n",
"//INPUT DATA\n",
"m=2;//Mass flow rate of steam in kg/s\n",
"W=130;//Turbine power in kW\n",
"U=175;//Blade velocity in m/s\n",
"C1=400;//Steam velocity in m/s\n",
"Wr=0.9;//Blade friction factor\n",
"W1=240;//Realtive velocity at inlet from the velocity triangle in m/s\n",
"\n",
"//CALCULATIONS\n",
"Cx1=(W*1000)/(m*U);//Whirl velocity at inlet in m/s\n",
"W2=Wr*W1;//Realtive velocity at outlet from the velocity triangle in m/s\n",
"a1=19;//Nozzle angle from the velocity triangle in degrees\n",
"b1=33;//Blade angle at inlet from the velocity triangle in degrees\n",
"b2=36;//Blade angle at outlet from the velocity triangle in degrees\n",
"\n",
"//OUTPUT\n",
"mprintf('Nozzle angle is %3.0f degrees \n Blade angles are %3.0f degrees,%3.0f degrees',a1,b1,b2)\n",
"\n",
"\n",
"\n",
"\n",
"\n",
"//==============================END OF PROGRAM================================="
   ]
   }
,
{
		   "cell_type": "markdown",
		   "metadata": {},
		   "source": [
			"## Example 4.18: Diagram_efficiency.sce"
		   ]
		  },
  {
"cell_type": "code",
	   "execution_count": null,
	   "metadata": {
	    "collapsed": true
	   },
	   "outputs": [],
"source": [
"//Chapter-4, Illustration 18, Page 207\n",
"//Title: Steam Nozzles and Steam Turbines\n",
"//=============================================================================\n",
"clc\n",
"clear\n",
"\n",
"//INPUT DATA\n",
"U=150;//Blade speed in m/s\n",
"m=3;//Mass flow rate of steam in kg/s\n",
"P=10.5;//Pressure in bar\n",
"r=0.21;//Ratio blade velocity to steam velocity\n",
"a1=16;//Nozzle angle in first stage in degrees\n",
"b2=20;//Blade angle at exit in first stage in degrees\n",
"a3=24;//Nozzle angle in second stage in degrees\n",
"b4=32;//Blade angle at exit in second stage in degrees\n",
"Wr=0.79;//Blade friction factor for first stage\n",
"Wr2=0.88;//Blade friction factor for second stage\n",
"Cr=0.83;//Blade velocity coefficient\n",
"W1=570;//Relative velocity at inlet from the velocity triangle for first stage in m/s\n",
"C2=375;//Velocity in m/s\n",
"W3=185;//Relative velocity at inlet from the velocity triangle for second stage in m/s\n",
"\n",
"//CALCULATIONS\n",
"C1=U/r;//Steam speed at exit in m/s\n",
"W2=Wr*W1;//Relative velocity at outlet for first stage in m/s\n",
"C3=Cr*C2;//Steam velocity at inlet for second stage in m/s\n",
"W4=Wr2*W3;//Relative velocity at exit for second stage in m/s\n",
"DW1=W1+W2;//Change in relative velocity for first stage in m/s\n",
"DW2=275;//Change in relative velocity from the velocity triangle for second stage in m/s\n",
"ndia=((2*U*(DW1+DW2))/(C1^2))*100;//Diagram efficiency\n",
"\n",
"//OUTPUT\n",
"mprintf('Diagram efficiency is %3.1f percent',ndia)\n",
"\n",
"\n",
"\n",
"\n",
"//==============================END OF PROGRAM================================="
   ]
   }
,
{
		   "cell_type": "markdown",
		   "metadata": {},
		   "source": [
			"## Example 4.19: Blade_speed_and_Blade_tip_angles_and_Diagram_efficiency.sce"
		   ]
		  },
  {
"cell_type": "code",
	   "execution_count": null,
	   "metadata": {
	    "collapsed": true
	   },
	   "outputs": [],
"source": [
"//Chapter-4, Illustration 19, Page 208\n",
"//Title: Steam Nozzles and Steam Turbines\n",
"//=============================================================================\n",
"clc\n",
"clear\n",
"\n",
"//INPUT DATA\n",
"b1=30;//Blade angle at inlet in first stage in degrees\n",
"b2=30;//Blade angle at exit in first stage in degrees\n",
"b3=30;//Blade angle at inlet in second stage in degrees\n",
"b4=30;//Blade angle at exit in second stage in degrees\n",
"t1=240;//Temperature at entry in oC\n",
"P1=11.5;//Pressure at entry in bar\n",
"P2=5;//Pressure in wheel chamber in bar\n",
"vl=10;//Loss in velocity in percent\n",
"h=155;//Enthalpy at P2 in kJ/kg\n",
"W4=17.3;//Relative velocity at exit from the velocity triangle for second stage in m/s\n",
"a4=90;//Nozzle angle in second stage in degrees\n",
"C3=33;//Steam velocity at inlet from the velocity triangle for second stage in m/s\n",
"W2=49;//Relative velocity at outlet from the velocity triangle for first stage in m/s\n",
"x=15;//Length of AB assumed for drawing velocity triangle in mm\n",
"y=67;//Length of BC from the velocity triangle in mm\n",
"\n",
"//CALCULATIONS\n",
"C1=sqrt(2000*h);//Velocity of steam in m/s\n",
"W3=W4/0.9;//Relative velocity at inlet for second stage in m/s\n",
"C2=C3/0.9;//Velocity in m/s\n",
"W1=W2/0.9;//Relative velocity at inlet for first stage in m/s\n",
"C1n=C1/y;//Velocity of steam in m/s\n",
"U=x*C1n;//Blade speed in m/s\n",
"a3=17;//Nozzle angle in second stage from the velocity triangle in degrees\n",
"a2=43;//Nozzle angle from the velocity triangle in degrees\n",
"DW1=731.5;//Change in relative velocity from the velocity triangle for first stage in m/s\n",
"DW2=257.5;//Change in relative velocity from the velocity triangle for second stage in m/s\n",
"ndia=((2*U*(DW1+DW2))/(C1^2))*100;//Diagram efficiency\n",
"\n",
"//OUTPUT\n",
"mprintf('Blade speed is %3.1f m/s \n Blade tip angles of the fixed blade are %3.0f degrees and %3.0f degrees \n Diagram efficiency is %3.1f percent',U,a3,a2,ndia)\n",
"\n",
"\n",
"\n",
"\n",
"\n",
"\n",
"\n",
"//==============================END OF PROGRAM================================="
   ]
   }
,
{
		   "cell_type": "markdown",
		   "metadata": {},
		   "source": [
			"## Example 4.1: Throat_area_and_Exit_area_and_Mach_number_at_exit.sce"
		   ]
		  },
  {
"cell_type": "code",
	   "execution_count": null,
	   "metadata": {
	    "collapsed": true
	   },
	   "outputs": [],
"source": [
"//Chapter-4, Illustration 1, Page 161\n",
"//Title: Steam Nozzles and Steam Turbines\n",
"//=============================================================================\n",
"clc\n",
"clear\n",
"\n",
"//INPUT DATA\n",
"P1=3.5;//Pressure at entry in MN/(m^2)\n",
"T1=773;//Temperature at entry in K\n",
"P2=0.7;//Pressure at exit in MN/(m^2)\n",
"ma=1.3;//mass flow rate of air in kg/s\n",
"y=1.4;//Ratio of specific heats\n",
"R=0.287;//Universal gas constant in KJ/Kg-K\n",
"\n",
"//CALCULATIONS\n",
"c=y/(y-1);//Ratio\n",
"Pt=((2/(y+1))^c)*P1;//Throat pressure in MN/(m^2)\n",
"v1=(R*T1)/(P1*1000);//Specific volume at entry in (m^3)/kg\n",
"Ct=((2*c*P1*v1*(1-((Pt/P1)^(1/c))))^0.5)*1000;//Velocity at throat in m/s\n",
"vt=v1*((P1/Pt)^(1/y));//Specific volume at throat in (m^3)/kg\n",
"At=((ma*vt)/Ct)*(10^6);//Area of throat in (mm^2)\n",
"C2=((2*c*P1*v1*(1-((P2/P1)^(1/c))))^0.5)*1000;//Velocity at exit in m/s\n",
"v2=v1*((P1/P2)^(1/y));//Specific volume at exit in (m^3)/kg\n",
"A2=((ma*v2)/C2)*(10^6);//Area of exit in (mm^2)\n",
"M=C2/Ct;//Mach number at exit\n",
"\n",
"//OUTPUT\n",
"mprintf('Throat area is %3.0f (mm^2) \n Exit area is %3.0f (mm^2) \n Mach number at exit is %3.2f',At,A2,M)\n",
"\n",
"\n",
"\n",
"\n",
"\n",
"\n",
"//==============================END OF PROGRAM================================="
   ]
   }
,
{
		   "cell_type": "markdown",
		   "metadata": {},
		   "source": [
			"## Example 4.20: Blade_speed_and_Turbine_power.sce"
		   ]
		  },
  {
"cell_type": "code",
	   "execution_count": null,
	   "metadata": {
	    "collapsed": true
	   },
	   "outputs": [],
"source": [
"//Chapter-4, Illustration 20, Page 210\n",
"//Title: Steam Nozzles and Steam Turbines\n",
"//=============================================================================\n",
"clc\n",
"clear\n",
"\n",
"//INPUT DATA\n",
"C1=600;//Steam velocity in m/s\n",
"b1=30;//Blade angle at inlet in first stage in degrees\n",
"b2=30;//Blade angle at exit in first stage in degrees\n",
"b3=30;//Blade angle at inlet in second stage in degrees\n",
"b4=30;//Blade angle at exit in second stage in degrees\n",
"a4=90;//Nozzle angle in second stage in degrees\n",
"m=3;//Mass of steam in kg/s\n",
"x=15;//Length for drawing velocity triangle in mm\n",
"y=56;//Length of BC from the velocity triangle in mm\n",
"\n",
"//CALCUALTIONS\n",
"C1n=C1/y;//Velocity of steam in m/s\n",
"U=x*C1n;//Blade speed in m/s\n",
"l=103;//Length from velocity triangle in mm\n",
"P=(m*l*C1n*U)/1000;//Power developed in kW\n",
"\n",
"//OUTPUT\n",
"mprintf('Blade speed is %3.1f m/s \n Power developed by the turbine is %3.2f kW',U,P)\n",
"\n",
"\n",
"\n",
"\n",
"\n",
"\n",
"//==============================END OF PROGRAM================================="
   ]
   }
,
{
		   "cell_type": "markdown",
		   "metadata": {},
		   "source": [
			"## Example 4.21: Mean_diameter_of_drum_and_Volume_of_steam.sce"
		   ]
		  },
  {
"cell_type": "code",
	   "execution_count": null,
	   "metadata": {
	    "collapsed": true
	   },
	   "outputs": [],
"source": [
"//Chapter-4, Illustration 21, Page 211\n",
"//Title: Steam Nozzles and Steam Turbines\n",
"//=============================================================================\n",
"clc\n",
"clear\n",
"\n",
"//INPUT DATA\n",
"N=400;//Speed in rpm\n",
"m=8.33;//Mass of steam in kg/s\n",
"P=1.6;//Pressure of steam in bar\n",
"x=0.9;//Dryness fraction\n",
"W=10;//Stage power in kW\n",
"r=0.75;//Ratio of axial flow velocity to blade velocity\n",
"a1=20;//Nozzle angle at inlet in degrees\n",
"a2=35;//Nozzle angle at exit in degrees\n",
"b1=a2;//Blade tip angle at exit in degrees\n",
"b2=a1;//Blade tip angle at inlet in degrees\n",
"a=25;//Length of AB from velocity triangle in mm\n",
"vg=1.091;//Specific volume of steam from steam tables in (m^3)/kg\n",
"\n",
"//CALCULATIONS\n",
"Cx=73.5;//Change in whirl velocity from the velocity triangle by measurement in mm\n",
"y=Cx/a;//Ratio of change in whirl velocity to blade speed\n",
"U=sqrt((W*1000)/(m*y));//Blade speed in m/s\n",
"D=((U*60)/(3.147*N))*1000;//Mean diameter of drum in mm\n",
"v=m*x*vg;//Volume flow rate of steam in (m^3)/s\n",
"\n",
"//OUTPUT\n",
"mprintf('Mean diameter of drum is %3.0f mm \n Volume of steam flowing per second is %3.2f m^3/s',D,v)\n",
"\n",
"\n",
"\n",
"\n",
"\n",
"\n",
"\n",
"\n",
"\n",
"\n",
"//==============================END OF PROGRAM================================="
   ]
   }
,
{
		   "cell_type": "markdown",
		   "metadata": {},
		   "source": [
			"## Example 4.22: Drum_diameter_and_Blade_height.sce"
		   ]
		  },
  {
"cell_type": "code",
	   "execution_count": null,
	   "metadata": {
	    "collapsed": true
	   },
	   "outputs": [],
"source": [
"//Chapter-4, Illustration 22, Page 212\n",
"//Title: Steam Nozzles and Steam Turbines\n",
"//=============================================================================\n",
"clc\n",
"clear\n",
"\n",
"//INPUT DATA\n",
"N=300;//Speed in rpm\n",
"m=4.28;//Mass of steam in kg/s\n",
"P=1.9;//Pressure of steam in bar\n",
"x=0.93;//Dryness fraction\n",
"W=3.5;//Stage power in kW\n",
"r=0.72;//Ratio of axial flow velocity to blade velocity\n",
"a1=20;//Nozzle angle at inlet in degrees\n",
"b2=a1;//Blade tip angle at inlet in degrees\n",
"l=0.08;//Tip leakage steam\n",
"vg=0.929;//Specific volume of steam from steam tables in (m^3)/kg\n",
"\n",
"//CALCULATIONS\n",
"mact=m-(m*l);//Actual mass of steam in kg/s\n",
"a=(3.147*N)/60;//Ratio of blade velocity to mean dia\n",
"b=r*a;//Ratio of axial velocity to mean dia\n",
"c=46;//Ratio of change in whirl velocity to mean dia\n",
"D=sqrt((W*1000)/(mact*c*a));//Mean dia in m\n",
"Ca=b*D;//Axial velocity in m/s\n",
"h=((mact*x*vg)/(3.147*D*Ca))*1000;//Blade height in mm\n",
"D1=D-(h/1000);//Drum dia in m\n",
"\n",
"//OUTPUT\n",
"mprintf('Drum diameter is %3.3f m \n Blade height is %3.0f mm',D1,h)\n",
"\n",
"\n",
"\n",
"\n",
"\n",
"\n",
"\n",
"\n",
"\n",
"//==============================END OF PROGRAM================================="
   ]
   }
,
{
		   "cell_type": "markdown",
		   "metadata": {},
		   "source": [
			"## Example 4.23: EX4_23.sce"
		   ]
		  },
  {
"cell_type": "code",
	   "execution_count": null,
	   "metadata": {
	    "collapsed": true
	   },
	   "outputs": [],
"source": [
"//Chapter-4, Illustration 23, Page 214\n",
"//Title: Steam Nozzles and Steam Turbines\n",
"//=============================================================================\n",
"clc\n",
"clear\n",
"\n",
"//INPUT DATA\n",
"P0=800;//Steam pressure in kPa\n",
"P2=100;//Pressure at point 2 in kPa\n",
"T0=973;//Steam temperature in K\n",
"a1=73;//Nozzle angle in degrees\n",
"ns=0.9;//Steam efficiency\n",
"m=35;//Mass flow rate in kg/s\n",
"Cp=1.005;//Specific heat at constant pressure in kJ/kg-K\n",
"y=1.4;//Ratio of specific heats\n",
"\n",
"//CALCULATIONS\n",
"b1=atand(tand(a1)/2);//Blade angle at inlet in degrees\n",
"b2=b1;//Blade angle at exit in degrees\n",
"p=2/tand(a1);//Flow coefficient\n",
"s=p*(tand(b1)+tand(b2));//Blade loading coefficient\n",
"Dh=ns*Cp*T0*(1-((P2/P0)^((y-1)/y)));//Difference in enthalpies in kJ/kg\n",
"W=(m*Dh)/1000;//Power developed in MW\n",
"\n",
"//OUTPUT\n",
"mprintf('Rotor blade angles are %3.2f degrees and %3.2f degrees \n Flow coefficient is %3.3f \n Blade loading coefficient is %3.0f \n Power developed is %3.1f MW',b1,b2,p,s,W)\n",
"\n",
"\n",
"\n",
"\n",
"\n",
"\n",
"\n",
"\n",
"\n",
"\n",
"\n",
"\n",
"\n",
"//==============================END OF PROGRAM================================="
   ]
   }
,
{
		   "cell_type": "markdown",
		   "metadata": {},
		   "source": [
			"## Example 4.24: Rotor_blade_angles_and_Power_developed_and_Final_state_of_steam_and_Blade_height.sce"
		   ]
		  },
  {
"cell_type": "code",
	   "execution_count": null,
	   "metadata": {
	    "collapsed": true
	   },
	   "outputs": [],
"source": [
"//Chapter-4, Illustration 24, Page 215\n",
"//Title: Steam Nozzles and Steam Turbines\n",
"//=============================================================================\n",
"clc\n",
"clear\n",
"\n",
"//INPUT DATA\n",
"P0=100;//Steam pressure in bar\n",
"T0=773;//Steam temperature in K\n",
"a1=70;//Nozzle angle in degrees\n",
"ns=0.78;//Steam efficiency\n",
"m=100;//Mass flow rate of steam in kg/s\n",
"D=1;//Turbine diameter in m\n",
"N=3000;//Turbine speed in rpm\n",
"h0=3370;//Steam enthalpy from Moiller chart in kJ/kg\n",
"v2=0.041;//Specific volume at P2 from steam tables in (m^3)/kg\n",
"v4=0.05;//Specific volume at P4 from steam tables in (m^3)/kg\n",
"\n",
"//CALCULATIONS\n",
"U=(3.147*D*N)/60;//Blade speed in m/s\n",
"C1=(2*U)/sind(a1);//Steam speed in m/s\n",
"b1=atand(tand(a1)/2);//Blade angle at inlet for first stage in degrees\n",
"b2=b1;//Blade angle at exit for first stage in degrees\n",
"b3=b1;//Blade angle at inlet for second stage in degrees\n",
"b4=b2;//Blade angle at exit for second stage in degrees\n",
"Wt=(4*m*(U^2))/(10^6);//Total workdone in MW\n",
"Dh=(2*(U^2))/1000;//Difference in enthalpies in kJ/kg\n",
"Dhs=Dh/ns;//Difference in enthalpies in kJ/kg\n",
"h2=h0-Dh;//Enthalpy at point 2 in kJ/kg\n",
"h2s=h0-Dhs;//Enthalpy at point 2s in kJ/kg\n",
"Dh2=(2*(U^2))/1000;//Difference in enthalpies in kJ/kg\n",
"Dh2s=Dh2/ns;//Difference in enthalpies in kJ/kg\n",
"h4=h2-Dh2;//Enthalpy at point 4 in kJ/kg\n",
"h4s=h2-Dh2s;//Enthalpy at point 4s in kJ/kg\n",
"Ca=C1*cosd(a1);//Axial velocity in m/s\n",
"hI=(m*v2)/(3.147*D*Ca);//Blade height at first stage in m/s\n",
"hII=(m*v4)/(3.147*D*Ca);//Blade height at second stage in m/s\n",
"\n",
"//OUTPUT\n",
"mprintf('Rotor blade angles for first stage are %3.2f degrees and %3.2f degrees \n Rotor blade angles for second stage are %3.2f degrees and %3.2f degrees \n Power developed is %3.2f MW \n Final state of steam at first stage is %3.2f kJ/kg \n Final state of steam at second stage is %3.2f kJ/kg \n Blade height at first stage is %3.4f m \n Blade height at second stage is %3.4f m',b1,b2,b3,b4,Wt,h2s,h4s,hI,hII)\n",
"\n",
"\n",
"\n",
"\n",
"\n",
"\n",
"\n",
"\n",
"\n",
"\n",
"\n",
"\n",
"\n",
"\n",
"//==============================END OF PROGRAM================================="
   ]
   }
,
{
		   "cell_type": "markdown",
		   "metadata": {},
		   "source": [
			"## Example 4.25: Rotor_blade_angles_and_Power_developed_and_Final_state_of_steam_and_Blade_height.sce"
		   ]
		  },
  {
"cell_type": "code",
	   "execution_count": null,
	   "metadata": {
	    "collapsed": true
	   },
	   "outputs": [],
"source": [
"//Chapter-4, Illustration 25, Page 218\n",
"//Title: Steam Nozzles and Steam Turbines\n",
"//=============================================================================\n",
"clc\n",
"clear\n",
"\n",
"//INPUT DATA\n",
"P0=100;//Steam pressure in bar\n",
"T0=773;//Steam temperature in K\n",
"a1=70;//Nozzle angle in degrees\n",
"ns=0.78;//Steam efficiency\n",
"m=100;//Mass flow rate of steam in kg/s\n",
"D=1;//Turbine diameter in m\n",
"N=3000;//Turbine speed in rpm\n",
"h0=3370;//Steam enthalpy from Moiller chart in kJ/kg\n",
"P4=27;//Pressure at point 4 in bar\n",
"T4=638;//Temperature at point 4 in K\n",
"v4=0.105;//Specific volume at P4 from mollier chart in (m^3)/kg\n",
"ns=0.65;//Stages efficiency\n",
"\n",
"//CALCULATIONS\n",
"U=(3.147*D*N)/60;//Blade speed in m/s\n",
"C1=(4*U)/sind(a1);//Steam speed in m/s\n",
"Ca=C1*cosd(a1);//Axial velocity in m/s\n",
"b1=atand((3*U)/Ca);//Blade angle at inlet for first stage in degrees\n",
"b2=b1;//Blade angle at exit for first stage in degrees\n",
"b4=atand(U/Ca);//Blade angle at exit for second stage in degrees\n",
"b3=b4;//Blade angle at inlet for second stage in degrees\n",
"WI=m*6*(U^2);//Power developed in first stage in MW\n",
"WII=m*2*(U^2);//Power developed in second stage in MW\n",
"W=(WI+WII)/(10^6);//Total power developed in MW\n",
"Dh=(W*1000)/100;//Difference in enthalpies in kJ/kg\n",
"Dhs=(W*1000)/(ns*100);//Difference in enthalpies in kJ/kg\n",
"h4=h0-Dh;//Enthalpy at point 4 in kJ/kg\n",
"h4s=h0-Dhs;//Enthalpy at point 4s in kJ/kg\n",
"h=(m*v4)/(3.147*D*Ca);//Rotor blade height in m\n",
"\n",
"//OUTPUT\n",
"mprintf('Rotor blade angles for first stage are %3.2f degrees and %3.2f degrees \n Rotor blade angles for second stage are %3.2f degrees and %3.2f degrees \n Power developed is %3.2f MW \n Final state of steam at first stage is %3.1f kJ/kg \n Final state of steam at second stage is %3.2f kJ/kg \n Rotor blade height is %3.4f m',b1,b2,b3,b4,W,h4,h4s,h)\n",
"\n",
"\n",
"\n",
"\n",
"\n",
"\n",
"\n",
"\n",
"\n",
"\n",
"//==============================END OF PROGRAM================================="
   ]
   }
,
{
		   "cell_type": "markdown",
		   "metadata": {},
		   "source": [
			"## Example 4.26: Rotor_blade_angles.sce"
		   ]
		  },
  {
"cell_type": "code",
	   "execution_count": null,
	   "metadata": {
	    "collapsed": true
	   },
	   "outputs": [],
"source": [
"//Chapter-4, Illustration 26, Page 221\n",
"//Title: Steam Nozzles and Steam Turbines\n",
"//=============================================================================\n",
"clc\n",
"clear\n",
"\n",
"//INPUT DATA\n",
"a1=30;//Nozzle angle in degrees\n",
"Ca=180;//Axial velocity in m/s\n",
"U=280;//Rotor blade speed in m/s\n",
"R=0.5;//Degree of reaction\n",
"\n",
"//CALCULATIONS\n",
"a1n=90-a1;//Nozzle angle measured from axial direction in degrees\n",
"Cx1=Ca*tand(a1n);//Whirl velocity in m/s\n",
"b1=atand((Cx1-U)/Ca);//Blade angle at inlet in degrees\n",
"b2=a1n;//Blade angle at exit in degrees\n",
"\n",
"//OUTPUT\n",
"mprintf('Blade angle at inlet is %3.0f degrees \n Blade angle at exit is %3.0f degrees',b1,b2)\n",
"\n",
"\n",
"\n",
"\n",
"\n",
"\n",
"\n",
"\n",
"\n",
"//==============================END OF PROGRAM================================="
   ]
   }
,
{
		   "cell_type": "markdown",
		   "metadata": {},
		   "source": [
			"## Example 4.27: Rotor_blade_angles_and_Power_developed_and_Isentropic_enthalpy_drop.sce"
		   ]
		  },
  {
"cell_type": "code",
	   "execution_count": null,
	   "metadata": {
	    "collapsed": true
	   },
	   "outputs": [],
"source": [
"//Chapter-4, Illustration 27, Page 222\n",
"//Title: Steam Nozzles and Steam Turbines\n",
"//=============================================================================\n",
"clc\n",
"clear\n",
"\n",
"//INPUT DATA\n",
"P0=800;//Steam pressure in kPa\n",
"T0=900;//Steam temperature in K\n",
"a1=70;//Nozzle angle in degrees\n",
"ns=0.85;//Steam efficiency\n",
"m=75;//Mass flow rate of steam in kg/s\n",
"R=0.5;//Degree of reaction\n",
"U=160;//Blade speed in m/s\n",
"\n",
"//CALCULATIONS\n",
"C1=U/sind(a1);//Steam speed in m/s\n",
"Ca=C1*cosd(a1);//Axial velocity in m/s\n",
"b1=0;//Blade angle at inlet from velocity triangle in degrees\n",
"b2=a1;//Blade angle at exit in degrees\n",
"a2=b1;//Nozzle angle in degrees\n",
"W=(m*(U^2))/(10^6);//Power developed in MW\n",
"Dhs=(W*1000)/(ns*m);//Isentropic enthalpy drop in kJ/kg\n",
"\n",
"//OUTPUT\n",
"mprintf('Rotor blade angles are %3.0f degrees and %3.0f degrees \n Power developed is %3.2f MW \n Isentropic enthalpy drop is %3.2f kJ/kg',b1,b2,W,Dhs)\n",
"\n",
"\n",
"\n",
"\n",
"\n",
"\n",
"\n",
"\n",
"//==============================END OF PROGRAM================================="
   ]
   }
,
{
		   "cell_type": "markdown",
		   "metadata": {},
		   "source": [
			"## Example 4.2: Increase_in_pressure_and_temperature_and_internal_energy.sce"
		   ]
		  },
  {
"cell_type": "code",
	   "execution_count": null,
	   "metadata": {
	    "collapsed": true
	   },
	   "outputs": [],
"source": [
"//Chapter-4, Illustration 2, Page 163\n",
"//Title: Steam Nozzles and Steam Turbines\n",
"//=============================================================================\n",
"clc\n",
"clear\n",
"\n",
"//INPUT DATA\n",
"T1=273;//Temperature at section 1 in K\n",
"P1=140;//Pressure at section 1 in KN/(m^2)\n",
"v1=900;//Velocity at section 1 in m/s\n",
"v2=300;//Velocity at section 2 in m/s\n",
"Cp=1.006;//Specific heat at constant pressure in kJ/kg-K\n",
"Cv=0.717;//Specific heat at constant volume in kJ/kg-K\n",
"y=1.4;//Ratio of specific heats\n",
"\n",
"//CALCULATIONS\n",
"c=y/(y-1);//Ratio\n",
"R=Cp-Cv;//Universal gas constant in KJ/Kg-K\n",
"T2=T1-(((v2)^2-(v1)^2)/(2000*c*R));//Temperature at section 2 in K\n",
"DT=T2-T1;//Increase in temperature in K\n",
"P2=P1*((T2/T1)^c);//Pressure at section 2 in KN/(m^2)\n",
"DP=(P2-P1)/1000;//Increase in pressure in MN/(m^2)\n",
"IE=Cv*(T2-T1);//Increase in internal energy in kJ/kg\n",
"\n",
"//OUTPUT\n",
"mprintf('Increase in temperature is %3.0f K \n Increase in pressure is %3.2f MN/(m^2) \n Increase in internal energy is %3.0f kJ/kg',DT,DP,IE)\n",
"\n",
"\n",
"\n",
"\n",
"\n",
"//==============================END OF PROGRAM================================="
   ]
   }
,
{
		   "cell_type": "markdown",
		   "metadata": {},
		   "source": [
			"## Example 4.3: Throat_area_and_exit_area_and_Degree_of_undercooling_at_exit.sce"
		   ]
		  },
  {
"cell_type": "code",
	   "execution_count": null,
	   "metadata": {
	    "collapsed": true
	   },
	   "outputs": [],
"source": [
"//Chapter-4, Illustration 3, Page 163\n",
"//Title: Steam Nozzles and Steam Turbines\n",
"//=============================================================================\n",
"clc\n",
"clear\n",
"\n",
"//INPUT DATA\n",
"P1=2;//Pressure at entry in MN/(m^2)\n",
"T1=598;//Temperature at entry in K\n",
"P2=0.36;//Pressure at exit in MN/(m^2)\n",
"m=7.5;//mass flow rate of steam in kg/s\n",
"n=1.3;//Adiabatic gas constant\n",
"v1=0.132;//Volume at entry in (m^3)/kg from steam table\n",
"Ts=412.9;//Saturation temperature in K\n",
"\n",
"//CALCULATIONS\n",
"c=n/(n-1);//Ratio\n",
"Pt=((2/(n+1))^c)*P1;//Throat pressure in MN/(m^2)\n",
"Ct=((2*c*P1*v1*(1-((Pt/P1)^(1/c))))^0.5)*1000;//Velocity at throat in m/s\n",
"vt=v1*((P1/Pt)^(1/n));//Specific volume at throat in (m^3)/kg\n",
"At=((m*vt)/Ct)*(10^6);//Area of throat in (mm^2)\n",
"C2=((2*c*P1*v1*(1-((P2/P1)^(1/c))))^0.5)*1000;//Velocity at exit in m/s\n",
"v2=v1*((P1/P2)^(1/n));//Specific volume at exit in (m^3)/kg\n",
"A2=((m*v2)/C2)*(10^6);//Area of exit in (mm^2)\n",
"T2=T1*((P2/P1)^(1/c));//Temperature at exit in K\n",
"D=Ts-T2;//Degree of undercooling at exit in K\n",
"\n",
"//OUTPUT\n",
"mprintf('Throat area is %3.0f (mm^2) \n Exit area is %3.0f (mm^2) \n Degree of undercooling at exit is %3.1f K',At,A2,D)\n",
"\n",
"\n",
"\n",
"\n",
"//==============================END OF PROGRAM================================="
   ]
   }
,
{
		   "cell_type": "markdown",
		   "metadata": {},
		   "source": [
			"## Example 4.4: Throat_and_exit_velocities_and_Throat_and_exit_areas.sce"
		   ]
		  },
  {
"cell_type": "code",
	   "execution_count": null,
	   "metadata": {
	    "collapsed": true
	   },
	   "outputs": [],
"source": [
"//Chapter-4, Illustration 4, Page 165\n",
"//Title: Steam Nozzles and Steam Turbines\n",
"//=============================================================================\n",
"clc\n",
"clear\n",
"\n",
"//INPUT DATA\n",
"P1=2.2;//Pressure at entry in MN/(m^2)\n",
"T1=533;//Temperature at entry in K\n",
"P2=0.4;//Pressure at exit in MN/(m^2)\n",
"m=11;//mass flow rate of steam in kg/s\n",
"n=0.85;//Efficiency of expansion\n",
"h1=2940;//Enthalpy at entrance in kJ/kg from Moiller chart\n",
"ht=2790;//Enthalpy at throat in kJ/kg from Moiller chart\n",
"h2s=2590;//Enthalpy below exit level in kJ/kg from Moiller chart\n",
"vt=0.16;//Throat volume in (m^3)/kg\n",
"v2=0.44;//Volume at exit in (m^3)/kg\n",
"\n",
"//CALCULATIONS\n",
"Ct=(2000*(h1-ht))^0.5;//Throat velocity in m/s\n",
"h2=ht-(0.85*(ht-h2s));//Enthalpy at exit in kJ/kg\n",
"C2=(2000*(h1-h2))^0.5;//Exit velocity in m/s\n",
"At=((m*vt)/Ct)*(10^6);//Area of throat in (mm^2)\n",
"A2=((m*v2)/C2)*(10^6);//Area of exit in (mm^2)\n",
"\n",
"//OUTPUT\n",
"mprintf('Throat velocity is %3.0f m/s \n Exit velocity is %3.0f m/s \n Throat area is %3.0f (mm^2) \n Exit area is %3.0f (mm^2) \n',Ct,C2,At,A2)\n",
"\n",
"\n",
"\n",
"\n",
"//==============================END OF PROGRAM================================="
   ]
   }
,
{
		   "cell_type": "markdown",
		   "metadata": {},
		   "source": [
			"## Example 4.5: EX4_5.sce"
		   ]
		  },
  {
"cell_type": "code",
	   "execution_count": null,
	   "metadata": {
	    "collapsed": true
	   },
	   "outputs": [],
"source": [
"//Chapter-4, Illustration 5, Page 166\n",
"//Title: Steam Nozzles and Steam Turbines\n",
"//=============================================================================\n",
"clc\n",
"clear\n",
"\n",
"//INPUT DATA\n",
"P1=35;//Pressure at entry in bar\n",
"T1=573;//Temperature at entry in K\n",
"P2=8;//Pressure at exit in bar\n",
"Ts=443.4;//Saturation temperature in K\n",
"Ps=3.1;//Saturation pressure in bar\n",
"m=5.2;//mass flow rate of steam in kg/s\n",
"n=1.3;//Adiabatic gas constant\n",
"v1=0.06842;//Specific volume at entry in (m^3)/kg from steam table\n",
"v3=0.2292;//Specific volume at exit in (m^3)/kg from steam table\n",
"h1=2979;//Enthalpy in kJ/kg from Moiller chart\n",
"h3=2673.3;//Enthalpy in kJ/kg from Moiller chart\n",
"\n",
"//CALCULATIONS\n",
"c=n/(n-1);//Ratio\n",
"C2=((2*c*P1*(10^5)*v1*(1-((P2/P1)^(1/c))))^0.5);//Velocity at exit in m/s\n",
"v2=v1*((P1/P2)^(1/n));//Specific volume at exit in (m^3)/kg\n",
"A2=((m*v2)/C2)*(10^4);//Area of exit in (cm^2)\n",
"a=((A2/18)^0.5)*10;//Length in mm\n",
"b=3*a;//Breadth in mm\n",
"T2=T1*((P2/P1)^(1/c));//Temperature at exit in K\n",
"D=Ts-T2;//Degree of undercooling in K\n",
"Ds=P2/Ps;//Degree of supersaturation\n",
"hI=h1-h3;//Isentropic enthalpy drop in kJ/kg\n",
"ha=(C2^2)/2000;//Actual enthalpy drop in kJ/kg\n",
"QL=hI-ha;//Loss in available heat in kJ/kg\n",
"DS=QL/Ts;//Increase in entropy in kJ/kg-K\n",
"C3=(2000*(h1-h3))^0.5;//Exit velocity from nozzle\n",
"mf=((A2*C3*(10^-4))/v3);//Mass flow rate in kg/s\n",
"Rm=m/mf;//Ratio of mass rate\n",
"\n",
"//OUTPUT\n",
"mprintf('Cross section of nozzle is %3.1f mm * %3.1f mm \n Degree of undercooling is %3.1f K and Degree of supersaturation is %3.2f \n Loss in available heat drop due to irreversibility is %3.2f kJ/kg \n Increase in entropy is %3.5f kJ/kg-K \n Ratio of mass flow rate with metastable expansion to the thermal expansion is %3.3f',b,a,D,Ds,QL,DS,Rm)\n",
"\n",
"\n",
"\n",
"\n",
"\n",
"//==============================END OF PROGRAM================================="
   ]
   }
,
{
		   "cell_type": "markdown",
		   "metadata": {},
		   "source": [
			"## Example 4.6: Nozzle_efficiency_and_Exit_area_and_Throat_velocity.sce"
		   ]
		  },
  {
"cell_type": "code",
	   "execution_count": null,
	   "metadata": {
	    "collapsed": true
	   },
	   "outputs": [],
"source": [
"//Chapter-4, Illustration 6, Page 169\n",
"//Title: Steam Nozzles and Steam Turbines\n",
"//=============================================================================\n",
"clc\n",
"clear\n",
"\n",
"//INPUT DATA\n",
"m=14;//Mass flow rate of steam in kg/s\n",
"P1=3;//Pressure of Steam in MN/(m^2)\n",
"T1=300;//Steam temperature in oC\n",
"h1=2990;//Enthalpy at point 1 in kJ/kg\n",
"h2s=2630;//Enthalpy at point 2s in kJ/kg\n",
"ht=2850;//Enthalpy at point t in kJ/kg\n",
"n=1.3;//Adiabatic gas constant\n",
"C2=800;//Exit velocity in m/s\n",
"v2=0.4;//Specific volume at exit in (m^3)/kg\n",
"\n",
"//CALCULATIONS\n",
"x=n/(n-1);//Ratio\n",
"Pt=((2/(n+1))^x)*P1;//Temperature at point t in MN/(m^2)\n",
"h2=h1-((C2^2)/2000);//Exit enthalpy in kJ/kg\n",
"nN=((h1-h2)/(h1-h2s))*100;//Nozzle efficiency\n",
"A2=((m*v2)/C2)*(10^6);//Exit area in (mm^2)\n",
"Ct=sqrt(2000*(h1-ht));//Throat velocity in m/s\n",
"\n",
"//OUTPUT\n",
"mprintf('Nozzle efficiency is %3.1f percent \n Exit area is %3.0f (mm^2) \n Throat velocity is %3.0f m/s',nN,A2,Ct)\n",
"\n",
"\n",
"\n",
"\n",
"//==============================END OF PROGRAM================================="
   ]
   }
,
{
		   "cell_type": "markdown",
		   "metadata": {},
		   "source": [
			"## Example 4.7: Areas_at_throat_and_exit_and_Steam_quality_at_exit.sce"
		   ]
		  },
  {
"cell_type": "code",
	   "execution_count": null,
	   "metadata": {
	    "collapsed": true
	   },
	   "outputs": [],
"source": [
"//Chapter-4, Illustration 7, Page 170\n",
"//Title: Steam Nozzles and Steam Turbines\n",
"//=============================================================================\n",
"clc\n",
"clear\n",
"\n",
"//INPUT DATA\n",
"P1=10;//Pressure at point 1 in bar\n",
"P2=0.5;//Pressure at point 2 in bar\n",
"h1=3050;//Enthalpy at point 1 in kJ/kg\n",
"h2s=2480;//Enthalpy at point 2s in kJ/kg\n",
"ht=2910;//Enthalpy at throat in kJ/kg\n",
"n=1.3;//Adiabatic gas constant\n",
"r=0.1;//Total available heat drop\n",
"v1=0.258;//Specific volume at point 1 in (m^3)/kg\n",
"h2f=340.6;//Enthalpy for exit pressure from steam tables in kJ/kg\n",
"hfg=2305.4;//Enthalpy for exit pressure from steam tables in kJ/kg\n",
"m=0.5;//Mass flow rate in kg/s\n",
"\n",
"//CALCULATIONS\n",
"x=n/(n-1);//Ratio\n",
"Pt=((2/(n+1))^x)*P1;//Temperature at throat in bar\n",
"h2=h2s+(r*(h1-h2s));//Enthalpy at point 2 in kJ/kg\n",
"vt=((P1/Pt)^(1/n))*v1;//Specific volume at throat in (m^3)/kg\n",
"v2=((P1/P2)^(1/n))*v1;//Specific volume at point 2 in (m^3)/kg\n",
"Ct=sqrt(2000*(h1-ht));//Throat velocity in m/s\n",
"At=((m*vt)/Ct)*(10^6);//Throat area in (mm^2)\n",
"C2=sqrt(2000*(h1-h2));//Exit velocity in m/s\n",
"A2=((m*v2)/C2)*(10^6);//Exit area in (mm^2)\n",
"x2=((h2-h2f)/hfg)*100;//Steam quality at exit\n",
"\n",
"//OUTPUT\n",
"mprintf('Throat area is %3.0f (mm^2) \n Exit area is %3.0f (mm^2) \n Steam quality at exit is %3.0f percent',At,A2,x2)\n",
"\n",
"\n",
"\n",
"\n",
"\n",
"\n",
"//==============================END OF PROGRAM================================="
   ]
   }
,
{
		   "cell_type": "markdown",
		   "metadata": {},
		   "source": [
			"## Example 4.8: Maximum_discharge_and_Area_of_nozzle_at_exit.sce"
		   ]
		  },
  {
"cell_type": "code",
	   "execution_count": null,
	   "metadata": {
	    "collapsed": true
	   },
	   "outputs": [],
"source": [
"//Chapter-4, Illustration 8, Page 171\n",
"//Title: Steam Nozzles and Steam Turbines\n",
"//=============================================================================\n",
"clc\n",
"clear\n",
"\n",
"//INPUT DATA\n",
"P1=3.5;//Dry saturated steam in bar\n",
"P2=1.1;//Exit pressure in bar\n",
"At=4.4;//Throat area in cm^2\n",
"h1=2731.6;//Enthalpy at P1 in kJ/kg\n",
"v1=0.52397;//Specific volume at P1 in m^3/kg\n",
"n=1.135;//Adiabatic gas constant\n",
"ht=2640;//Enthalpy at Pt in kJ/kg\n",
"vt=0.85;//Specific volume at throat in m^3/kg\n",
"h2=2520;//Enthalpy at P2 in kJ/kg\n",
"v2=1.45;//Specific volume at P2 in m^3/kg\n",
"\n",
"//CALCULATIONS\n",
"x=n/(n-1);//Ratio\n",
"Pt=((2/(n+1))^x)*P1;//Throat pressure in bar\n",
"Ct=sqrt(2000*(h1-ht));//Throat velocity in m/s\n",
"mmax=((At*Ct*(10^-4))/vt)*60;//Maximum discharge in kg/min\n",
"C2=sqrt(2000*(h1-h2));//Exit velocity in m/s\n",
"A2=((mmax*v2)/(C2*60))*(10^6);//Exit area in mm^2\n",
"\n",
"//OUTPUT\n",
"mprintf('Maximum discharge is %3.3f kg/min \n Exit area is %3.2f mm^2',mmax,A2)\n",
"\n",
"\n",
"\n",
"\n",
"//==============================END OF PROGRAM================================="
   ]
   }
,
{
		   "cell_type": "markdown",
		   "metadata": {},
		   "source": [
			"## Example 4.9: Type_of_nozzle_and_Minimum_area_of_nozzle.sce"
		   ]
		  },
  {
"cell_type": "code",
	   "execution_count": null,
	   "metadata": {
	    "collapsed": true
	   },
	   "outputs": [],
"source": [
"//Chapter-4, Illustration 9, Page 172\n",
"//Title: Steam Nozzles and Steam Turbines\n",
"//=============================================================================\n",
"clc\n",
"clear\n",
"\n",
"//INPUT DATA\n",
"P1=10;//Pressure at point 1 in bar\n",
"T1=200;//Temperature at point 1 in oC\n",
"P2=5;//Pressure at point 2 in bar\n",
"n=1.3;//Adiabatic gas constant\n",
"h1=2830;//Enthalpy at P1 in kJ/kg\n",
"ht=2710;//Enthalpy at point Pt in kJ/kg\n",
"vt=0.35;//Specific volume at Pt in m^3/kg\n",
"m=3;//Nozzle flow in kg/s\n",
"\n",
"//CALCULATIONS\n",
"x=n/(n-1);//Ratio\n",
"Pt=((2/(n+1))^x)*P1;//Throat pressure in bar\n",
"Ct=sqrt(2000*(h1-ht));//Throat velocity in m/s\n",
"At=(m*vt)/Ct;//Throat area in m^2\n",
"\n",
"//OUTPUT\n",
"mprintf('Since throat pressure is greater than exit pressure,nozzle used is convergent-divergent nozzle \n Minimum area of nozzle required is %3.5f m^2',At)\n",
"\n",
"\n",
"\n",
"\n",
"\n",
"//==============================END OF PROGRAM================================="
   ]
   }
],
"metadata": {
		  "kernelspec": {
		   "display_name": "Scilab",
		   "language": "scilab",
		   "name": "scilab"
		  },
		  "language_info": {
		   "file_extension": ".sce",
		   "help_links": [
			{
			 "text": "MetaKernel Magics",
			 "url": "https://github.com/calysto/metakernel/blob/master/metakernel/magics/README.md"
			}
		   ],
		   "mimetype": "text/x-octave",
		   "name": "scilab",
		   "version": "0.7.1"
		  }
		 },
		 "nbformat": 4,
		 "nbformat_minor": 0
}
