{
"cells": [
 {
		   "cell_type": "markdown",
	   "metadata": {},
	   "source": [
       "# Chapter 3: Internal Combustion Engines"
	   ]
	},
{
		   "cell_type": "markdown",
		   "metadata": {},
		   "source": [
			"## Example 3.1: Air_standard_efficiency_and_Indicated_Power_and_Indicated_thermal_efficiency.sce"
		   ]
		  },
  {
"cell_type": "code",
	   "execution_count": null,
	   "metadata": {
	    "collapsed": true
	   },
	   "outputs": [],
"source": [
"//Chapter-3, Illustration 1, Page 139\n",
"//Title: Internal Combustion Engines\n",
"//=============================================================================\n",
"clc\n",
"clear\n",
"\n",
"//INPUT DATA\n",
"d=200;//diameter of cylinder in mm\n",
"L=300;//stroke of cylinder in mm\n",
"Vc=1.73;//Clearance volume in litres\n",
"imep=650;//indicated mean effective pressure in kN/(m^2)\n",
"g=6.2;//gas consumption in (m^3)/h\n",
"CV=38.5;//Calorific value in MJ/(m^3)\n",
"y=1.4;//Ratio of specific heats\n",
"N=150;//No. of firing cycles per minute\n",
"\n",
"//CALCULATIONS\n",
"Vs=((3.1415/4)*(d^2)*L)*(10^-6);//Stroke volume in litres\n",
"Vt=Vs+Vc;//Total volume in litres\n",
"rv=(Vt/Vc);//Compression ratio\n",
"n=(1-(1/rv^(y-1)))*100;//Air standard efficiency\n",
"IP=imep*(Vs*10^-3)*(N/60);//Indicated power in kW\n",
"F=(g*CV*1000)/3600;//Fuel energy input in kW\n",
"nT=(IP/F)*100;//Indicated thermal efficiency\n",
"\n",
"//OUTPUT\n",
"mprintf('Air Standard Efficiency is %3.1f percent \n Indicated Power is %3.1f kW \n Indicated thermal efficiency is %3.0f percent',n,IP,nT)\n",
"\n",
"\n",
"\n",
"\n",
"//==============================END OF PROGRAM================================="
   ]
   }
,
{
		   "cell_type": "markdown",
		   "metadata": {},
		   "source": [
			"## Example 3.2: Relative_efficiency_of_engine.sce"
		   ]
		  },
  {
"cell_type": "code",
	   "execution_count": null,
	   "metadata": {
	    "collapsed": true
	   },
	   "outputs": [],
"source": [
"//Chapter-3, Illustration 2, Page 140\n",
"//Title: Internal Combustion Engines\n",
"//=============================================================================\n",
"clc\n",
"clear\n",
"\n",
"//INPUT DATA\n",
"Vs=0.0008;//Swept volume in m^3\n",
"Vc=0.00015;//Clearance volume in m^3\n",
"CV=38;//Calorific value in MJ/(m^3)\n",
"v=0.45;//volume in m^3\n",
"IP=81.5;//Indicated power in kW\n",
"y=1.4;//Ratio of specific heats\n",
"\n",
"//CALCULATIONS\n",
"rv=(Vs+Vc)/Vc;//Compression ratio\n",
"n=(1-(1/rv^(y-1)));//Air standard efficiency\n",
"Ps=(v*CV*1000)/60;//Power supplied in kW\n",
"nact=IP/Ps;//Actual efficiency\n",
"nr=(nact/n)*100;//Relative efficiency\n",
"\n",
"//OUTPUT\n",
"mprintf('Relative Efficiency is %3.2f percent',nr)\n",
"\n",
"\n",
"\n",
"//==============================END OF PROGRAM================================="
   ]
   }
,
{
		   "cell_type": "markdown",
		   "metadata": {},
		   "source": [
			"## Example 3.3: EX3_3.sce"
		   ]
		  },
  {
"cell_type": "code",
	   "execution_count": null,
	   "metadata": {
	    "collapsed": true
	   },
	   "outputs": [],
"source": [
"//Chapter-3, Illustration 3, Page 141\n",
"//Title: Internal Combustion Engines\n",
"//=============================================================================\n",
"clc\n",
"clear\n",
"\n",
"//INPUT DATA\n",
"n=6;//No. of cylinders\n",
"d=0.61;//Diameter in m\n",
"L=1.25;//Stroke in m\n",
"N=2;//No.of revolutions per second\n",
"m=340;//mass of fuel oil in kg\n",
"CV=44200;//Calorific value in kJ/kg\n",
"T=108;//Torque in kN-m\n",
"imep=775;//Indicated mean efective pressure in kN/(m^2)\n",
"\n",
"//CALCULATIONS\n",
"IP=(imep*L*3.1415*(d^2)*N)/(8);//Indicated power in kW\n",
"TotalIP=(n*IP);//Total indicated power in kW\n",
"BP=(2*3.1415*N*T);//Brake power in kW\n",
"PI=(m*CV)/3600;//Power input in kW\n",
"nB=(BP/PI)*100;//Brake thermal efficiency\n",
"bmep=(BP*8)/(n*L*3.1415*(d^2)*2);//Brake mean effective pressure in kN/(m^2)\n",
"nM=(BP/TotalIP)*100;//Mechanical efficiency\n",
"bsfc=m/BP;//Brake specific fuel consumption in kg/kWh\n",
"\n",
"//OUTPUT\n",
"mprintf('Total Indicated Power is %3.1f kW \n Brake Power is %3.1f kW \n Brake thermal efficiency is %3.1f percent \n Brake mean effective pressure is %3.1f kN/(m^2) \n Mechanical efficiency is %3.1f percent \n Brake specific fuel consumption is %3.3f kg/kW.h',TotalIP,BP,nB,bmep,nM,bsfc)\n",
"\n",
"\n",
"\n",
"//==============================END OF PROGRAM================================="
   ]
   }
,
{
		   "cell_type": "markdown",
		   "metadata": {},
		   "source": [
			"## Example 3.4: EX3_4.sce"
		   ]
		  },
  {
"cell_type": "code",
	   "execution_count": null,
	   "metadata": {
	    "collapsed": true
	   },
	   "outputs": [],
"source": [
"//Chapter-3, Illustration 4, Page 142\n",
"//Title: Internal Combustion Engines\n",
"//=============================================================================\n",
"clc\n",
"clear\n",
"\n",
"//INPUT DATA\n",
"Hm=21;//Mean height of indicator diagram in mm\n",
"isn=27;//indicator spring number in kN/(m^2)/mm\n",
"Vs=14;//Swept volume in litres\n",
"N=6.6;//Speed of engine in rev/s\n",
"Pe=77;//Effective brake load in kg\n",
"Re=0.7;//Effective vrake radius in m\n",
"mf=0.002;//fuel consumed in kg/s\n",
"CV=44000;//Calorific value of fuel in kJ/kg\n",
"mc=0.15;//cooling water circulation in kg/s\n",
"Ti=311;//cooling water inlet temperature in K\n",
"To=344;//cooling water outlet temperature in K\n",
"C=4.18;//specific heat capacity of water in kJ/kg-K\n",
"Ee=33.6;//Energy to exhaust gases in kJ/s\n",
"g=9.81;//Acceleration due to geravity in m/(s^2)\n",
"\n",
"//CALCULATIONS\n",
"imep=isn*Hm;//Indicated mean efective pressure in kN/(m^2)\n",
"IP=(imep*Vs*N)/(2000);//Indicated Power in kW\n",
"BP=(2*3.1415*N*g*Pe*Re)/1000;//Brake Power in kW\n",
"nM=(BP/IP)*100;//Mechanical efficiency\n",
"Ef=mf*CV;//Eneergy from fuel in kJ/s\n",
"Ec=mc*C*(To-Ti);//Energy to cooling water in kJ/s\n",
"Es=Ef-(BP+Ec+Ee);//Energy to surroundings in kJ/s\n",
"p=(BP*100)/Ef;//Energy to BP in %\n",
"q=(Ec*100)/Ef;//Energy to coolant in %\n",
"r=(Ee*100)/Ef;//Energy to exhaust in %\n",
"w=(Es*100)/Ef;//Energy to surroundings in %\n",
"\n",
"//OUTPUT\n",
"mprintf('Indicated Power is %3.1f kW \n Brake Power is %3.0f kW \n Mechanical Efficiency is %3.0f percent \n \nENERGY BALANCE                    kJ/s      Percentage \nEnergy from fuel                 %3.0f          100\nEnergy to BP                     %3.0f         %3.0f\nEnergy to coolant                 %3.01f        %3.1f\nEnergy to exhaust                 %3.1f        %3.1f\nEnergy to surroundings, etc       %3.1f        %3.1f',IP,BP,nM,Ef,BP,p,Ec,q,Ee,r,Es,w)\n",
"\n",
"\n",
"\n",
"\n",
"//==============================END OF PROGRAM================================="
   ]
   }
,
{
		   "cell_type": "markdown",
		   "metadata": {},
		   "source": [
			"## Example 3.5: EX3_5.sce"
		   ]
		  },
  {
"cell_type": "code",
	   "execution_count": null,
	   "metadata": {
	    "collapsed": true
	   },
	   "outputs": [],
"source": [
"//Chapter-3, Illustration 5, Page 143\n",
"//Title: Internal Combustion Engines\n",
"//=============================================================================\n",
"clc\n",
"clear\n",
"\n",
"//INPUT DATA\n",
"t=30;//duration of trial in minutes\n",
"N=1750;//speed in rpm\n",
"T=330;//brake torque in Nm\n",
"m=9.35;//mass of fuel in kg\n",
"CV=42300;//Calorific value in kJ/kg\n",
"mj=483;//jacket cooling water circulation in kg\n",
"Ti=290;//inlet temperature in K\n",
"T0=350;//outlet temperature in K\n",
"ma=182;//air consumption in kg\n",
"Te=759;//exhaust temperature in K\n",
"Ta=256;//atmospheric temperature in K\n",
"nM=0.83;//Mechanical efficiency\n",
"ms=1.25;//mean specific heat capacity of exhaust gas in kJ/kg-K\n",
"Cw=4.18;//specific heat capacity of water in kJ/kg-K\n",
"\n",
"//CALCULATIONS\n",
"BP=(2*3.1415*T*N)/(60*1000);//Brake power in kW\n",
"sfc=(m*2)/BP;//specific fuel consumption in kg/kWh\n",
"IP=BP/nM;//Indicated power in kW\n",
"nIT=((IP*3600)/(m*CV*2))*100;//Indicated thermal efficiency\n",
"Ef=(m*CV)/t;//Eneergy from fuel in kJ/min\n",
"EBP=BP*60;//Energy to BP in kJ/min\n",
"Ec=(mj*Cw*(T0-Ti))/t;//Energy to cooling water in kJ/min\n",
"Ee=((ma+m)*ms*(Te-Ti))/30;//Energy to exhaust in kJ/min\n",
"Es=Ef-(EBP+Ec+Ee);//Energy to surroundings in kJ/min\n",
"\n",
"//OUTPUT\n",
"mprintf('Brake power is %3.1f kW \n Specific fuel consumption is %3.3f kg/kWh \n Indicated thermal efficiency is %3.1f percent \n Energy from fuel is %3.0f kJ/min \n Energy to BP is %3.0f kJ/min \n Energy to cooling water is %3.0f kJ/min \n Energy to exhaust is %3.0f kJ/min \n Energy to surroundings is %3.0f kJ/min',BP,sfc,nIT,Ef,EBP,Ec,Ee,Es)\n",
"\n",
"\n",
"\n",
"\n",
"\n",
"\n",
"//==============================END OF PROGRAM================================="
   ]
   }
,
{
		   "cell_type": "markdown",
		   "metadata": {},
		   "source": [
			"## Example 3.6: Indicated_power_and_Mechanical_efficiency_of_engine.sce"
		   ]
		  },
  {
"cell_type": "code",
	   "execution_count": null,
	   "metadata": {
	    "collapsed": true
	   },
	   "outputs": [],
"source": [
"//Chapter-3, Illustration 6, Page 144\n",
"//Title: Internal Combustion Engines\n",
"//=============================================================================\n",
"clc\n",
"clear\n",
"\n",
"//INPUT DATA\n",
"BP0=12;//Brake Power output in kW\n",
"BP1=40.5;//Brake Power in trial 1 in kW\n",
"BP2=40.2;//Brake Power in trial 2 in kW\n",
"BP3=40.1;//Brake Power in trial 3 in kW\n",
"BP4=40.6;//Brake Power in trial 4 in kW\n",
"BP5=40.7;//Brake Power in trial 5 in kW\n",
"BP6=40.0;//Brake Power in trial 6 in kW\n",
"\n",
"//CALCULATIONS\n",
"BPALL=BP0+BP6;//Total Brake Power in kW\n",
"IP1=BPALL-BP1;//Indicated Power in trial 1 in kW\n",
"IP2=BPALL-BP2;//Indicated Power in trial 2 in kW\n",
"IP3=BPALL-BP3;//Indicated Power in trial 3 in kW\n",
"IP4=BPALL-BP4;//Indicated Power in trial 4 in kW\n",
"IP5=BPALL-BP5;//Indicated Power in trial 5 in kW\n",
"IP6=BPALL-BP6;//Indicated Power in trial 6 in kW\n",
"IPALL=IP1+IP2+IP3+IP4+IP5+IP6;//Total Indicated Power in kW\n",
"nM=(BPALL/IPALL)*100;//Mechanical efficiency\n",
"\n",
"//OUTPUT\n",
"mprintf('Indicated Power of the engine is %3.1f kW \n Mechanical efficiency of the engine is %3.1f percent',IPALL,nM)\n",
"\n",
"\n",
"\n",
"//==============================END OF PROGRAM================================="
   ]
   }
,
{
		   "cell_type": "markdown",
		   "metadata": {},
		   "source": [
			"## Example 3.7: Engine_dimensions_and_Brake_power.sce"
		   ]
		  },
  {
"cell_type": "code",
	   "execution_count": null,
	   "metadata": {
	    "collapsed": true
	   },
	   "outputs": [],
"source": [
"//Chapter-3, Illustration 7, Page 145\n",
"//Title: Internal Combustion Engines\n",
"//=============================================================================\n",
"clc\n",
"clear\n",
"\n",
"//INPUT DATA\n",
"n=2;//No. of cylinders\n",
"N=4000;//speed of engine in rpm\n",
"nV=0.77;//Volumetric efficiency\n",
"nM=0.75;//Mechanical efficiency\n",
"m=10;//fuel consumed in lit/h\n",
"g=0.73;//spcific gravity of fuel\n",
"Raf=18;//air-fuel ratio\n",
"Np=600;//piston speed in m/min\n",
"imep=5;//Indicated mean efective pressure in bar\n",
"R=281;//Universal gas constant in J/kg-K\n",
"T=288;//Standard temperature in K\n",
"P=1.013;//Standard pressure in bar\n",
"\n",
"//CALCULATIONS\n",
"L=Np/(2*N);//Piston stroke in m\n",
"mf=m*g;//mass of fuel in kg/h\n",
"ma=mf*Raf;//mass of air required in kg/h\n",
"Va=(ma*R*T)/(P*60*(10^5));//volume of air required in (m^3)/min\n",
"D=sqrt((2*Va)/(nV*L*N*3.1415));//Diameter in m\n",
"IP=(2*imep*100*L*3.1415*(D^2)*N)/(4*60);//Indicated Power in kW\n",
"BP=nV*IP;//Brake Power in kW\n",
"\n",
"//OUTPUT\n",
"mprintf('Piston Stroke is %3.3f m \n Bore diameter is %3.4f m \n Brake power is %3.1f kW',L,D,BP)\n",
"\n",
"\n",
"\n",
"//==============================END OF PROGRAM================================="
   ]
   }
],
"metadata": {
		  "kernelspec": {
		   "display_name": "Scilab",
		   "language": "scilab",
		   "name": "scilab"
		  },
		  "language_info": {
		   "file_extension": ".sce",
		   "help_links": [
			{
			 "text": "MetaKernel Magics",
			 "url": "https://github.com/calysto/metakernel/blob/master/metakernel/magics/README.md"
			}
		   ],
		   "mimetype": "text/x-octave",
		   "name": "scilab",
		   "version": "0.7.1"
		  }
		 },
		 "nbformat": 4,
		 "nbformat_minor": 0
}
