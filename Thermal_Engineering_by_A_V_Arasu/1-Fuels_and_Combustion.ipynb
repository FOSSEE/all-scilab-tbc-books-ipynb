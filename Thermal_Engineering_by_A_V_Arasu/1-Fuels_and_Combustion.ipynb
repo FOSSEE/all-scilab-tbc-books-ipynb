{
"cells": [
 {
		   "cell_type": "markdown",
	   "metadata": {},
	   "source": [
       "# Chapter 1: Fuels and Combustion"
	   ]
	},
{
		   "cell_type": "markdown",
		   "metadata": {},
		   "source": [
			"## Example 1.10: Volume_of_air_required.sce"
		   ]
		  },
  {
"cell_type": "code",
	   "execution_count": null,
	   "metadata": {
	    "collapsed": true
	   },
	   "outputs": [],
"source": [
"//Chapter-1, Illustration 10, Page 23\n",
"//Title: Fuels and Combustion\n",
"//=============================================================================\n",
"clc\n",
"clear\n",
"\n",
"//INPUT DATA\n",
"H2=0.27;//Percentage composition of H2 by volume\n",
"CO2=0.18;//Percentage composition of CO2 by volume\n",
"CO=0.125;//Percentage composition of CO by volume\n",
"CH4=0.025;//Percentage composition of CH4 by volume\n",
"N2=0.4;//Percentage composition of N2 by volume\n",
"\n",
"//CALCULATIONS\n",
"v=(2.38*(H2+CO))+(9.52*CH4);//Volume of air required for complete combustion in (m^3)\n",
"\n",
"//OUTPUT\n",
"mprintf('Volume of air required for complete combustion is %3.3f (m^3)',v)\n",
"\n",
"\n",
"\n",
"\n",
"\n",
"\n",
"//==============================END OF PROGRAM================================="
   ]
   }
,
{
		   "cell_type": "markdown",
		   "metadata": {},
		   "source": [
			"## Example 1.11: Air_fuel_ratio.sce"
		   ]
		  },
  {
"cell_type": "code",
	   "execution_count": null,
	   "metadata": {
	    "collapsed": true
	   },
	   "outputs": [],
"source": [
"//Chapter-1, Illustration 11, Page 24\n",
"//Title: Fuels and Combustion\n",
"//=============================================================================\n",
"clc\n",
"clear\n",
"\n",
"//INPUT DATA\n",
"H2=0.5;//Percentage composition of H2 by volume\n",
"CO2=0.1;//Percentage composition of CO2 by volume\n",
"CO=0.05;//Percentage composition of CO by volume\n",
"CH4=0.25;//Percentage composition of CH4 by volume\n",
"N2=0.1;//Percentage composition of N2 by volume\n",
"pCO2=8;//Percentage volumetric analysis of CO2\n",
"pO2=6;//Percentage volumetric analysis of O2\n",
"pN2=86;//Percentage volumetric analysis of N2\n",
"\n",
"\n",
"//CALCULATIONS\n",
"v=(2.38*(H2+CO))+(9.52*CH4);//Volume of air required for complete combustion in (m^3)\n",
"vN2=v*0.79;//Volume of nitrogen in the air in m^3\n",
"a=CO+CH4+CO2;//CO2 formed per m^3 of fuel gas burnt\n",
"b=vN2+N2;//N2 formed per m^3 of fuel gas burnt\n",
"vt=a+b;//Total volume of dry flue gas formed in m^3\n",
"ve=(pO2*vt)/(21-pO2);//Excess air supplied in m^3\n",
"V=v+ve;//Total quantity of air supplied in m^3\n",
"\n",
"//OUTPUT\n",
"mprintf('Air-fuel ratio by volume is %3.3f:1',V)\n",
"\n",
"\n",
"\n",
"\n",
"//==============================END OF PROGRAM================================="
   ]
   }
,
{
		   "cell_type": "markdown",
		   "metadata": {},
		   "source": [
			"## Example 1.12: Volume_and_analysis_of_products_of_combustion.sce"
		   ]
		  },
  {
"cell_type": "code",
	   "execution_count": null,
	   "metadata": {
	    "collapsed": true
	   },
	   "outputs": [],
"source": [
"//Chapter-1, Illustration 12, Page 24\n",
"//Title: Fuels and Combustion\n",
"//=============================================================================\n",
"clc\n",
"clear\n",
"\n",
"//INPUT DATA\n",
"H2=0.14;//Percentage composition of H2 by volume\n",
"CO2=0.05;//Percentage composition of CO2 by volume\n",
"CO=0.22;//Percentage composition of CO by volume\n",
"CH4=0.02;//Percentage composition of CH4 by volume\n",
"O2=0.02;//Percentage composition of O2 by volume\n",
"N2=0.55;//Percentage composition of N2 by volume\n",
"e=0.4;//Excess air supplied\n",
"//CALCULATIONS\n",
"v=(2.38*(H2+CO))+(9.52*CH4)-(4.76*O2);//Volume of air required for complete combustion in (m^3)\n",
"ve=v*e;//Volume of excess air supplied in m^3\n",
"vtN2=v-(v*0.21);//Volume of N2 in theoretical air in m^3\n",
"veN2=ve-(ve*0.21);//Volume of N2 in excess air in m^3\n",
"vt=vtN2+veN2;//Total volume of N2 in air supplied in m^3\n",
"vCO2=CO+CH4+CO2;//CO2 formed per m^3 of fuel gas\n",
"vN2=vt+N2;//N2 formed per m^3 of fuel gas\n",
"veO2=ve*0.21;//Volume of excess O2 per m^3 of fuel gas\n",
"vT=vCO2+vN2+veO2;//Total volume of dry combustion products\n",
"pCO2=(vCO2*100)/vT;//Percentage volume of CO2\n",
"pN2=(vN2*100)/vT;//Percentage volume of N2\n",
"pO2=(veO2*100)/vT;//Percentage volume of O2\n",
"\n",
"//OUTPUT\n",
"mprintf('Volume of air required for complete combustion is %3.3f (m^3) \n Volume of CO2 per m^3 of gas fuel is %3.2f m^3/m^3 of gas fuel \n Volume of N2 per m^3 of gas fuel is %3.3f m^3/m^3 of gas fuel \n Volume of excess O2 per m^3 of gas fuel is %3.2f m^3/m^3 of gas fuel \n Total volume of dry combustion products is %3.3f m^3/m^3 of gas fuel \n Percentage volume of CO2 is %3.1f percent \n Percentage volume of N2 is %3.2f percent \n Percentage volume of O2 is %3.2f percent',v,vCO2,vN2,veO2,vT,pCO2,pN2,pO2)\n",
"\n",
"\n",
"\n",
"\n",
"\n",
"\n",
"\n",
"\n",
"\n",
"//==============================END OF PROGRAM================================="
   ]
   }
,
{
		   "cell_type": "markdown",
		   "metadata": {},
		   "source": [
			"## Example 1.1: Minimum_mass_of_air_required.sce"
		   ]
		  },
  {
"cell_type": "code",
	   "execution_count": null,
	   "metadata": {
	    "collapsed": true
	   },
	   "outputs": [],
"source": [
"//Chapter-1, Illustration 1, Page 15\n",
"//Title: Fuels and Combustion\n",
"//=============================================================================\n",
"clc\n",
"clear\n",
"\n",
"//INPUT DATA\n",
"C=0.91;//Percentage composition of Carbon\n",
"H=0.03;//Percentage composition of Hydrogen\n",
"O=0.02;//Percentage composition of Oxygen\n",
"N=0.008;//Percentage composition of Nitrogen\n",
"S=0.008;//Percentage composition of Sulphur\n",
"\n",
"//CALCULATIONS\n",
"m=(11.5*C)+(34.5*(H-(O/8)))+(4.3*S);//Mass of air per kg of coal in kg\n",
"\n",
"//OUTPUT\n",
"mprintf('Minimum mass of air per kg of coal is %3.2f kg',m)\n",
"\n",
"\n",
"\n",
"\n",
"\n",
"//==============================END OF PROGRAM================================="
   ]
   }
,
{
		   "cell_type": "markdown",
		   "metadata": {},
		   "source": [
			"## Example 1.2: Theoretical_volume_of_air_required.sce"
		   ]
		  },
  {
"cell_type": "code",
	   "execution_count": null,
	   "metadata": {
	    "collapsed": true
	   },
	   "outputs": [],
"source": [
"//Chapter-1, Illustration 2, Page 16\n",
"//Title: Fuels and Combustion\n",
"//=============================================================================\n",
"clc\n",
"clear\n",
"\n",
"//INPUT DATA\n",
"C=0.86;//Percentage composition of Carbon\n",
"H=0.12;//Percentage composition of Hydrogen\n",
"O=0.01;//Percentage composition of Oxygen\n",
"S=0.01;//Percentage composition of Sulphur\n",
"v=0.773;//Specific volume of air at N.T.P in (m^3)/kg\n",
"\n",
"//CALCULATIONS\n",
"m=(11.5*C)+(34.5*(H-(O/8)))+(4.3*S);//Theoretical mass of air per kg of coal in kg\n",
"vth=m*v;//Theoretical volume of air at N.T.P per kg fuel in (m^3)/kg of fuel\n",
"\n",
"//OUTPUT\n",
"mprintf('Theoretical volume of air at N.T.P per kg fuel is %3.2f (m^3)/kg of fuel',vth)\n",
"\n",
"\n",
"\n",
"\n",
"\n",
"//==============================END OF PROGRAM================================="
   ]
   }
,
{
		   "cell_type": "markdown",
		   "metadata": {},
		   "source": [
			"## Example 1.3: Minimum_quantity_of_air_and_Total_mass_of_products_of_combustion.sce"
		   ]
		  },
  {
"cell_type": "code",
	   "execution_count": null,
	   "metadata": {
	    "collapsed": true
	   },
	   "outputs": [],
"source": [
"//Chapter-1, Illustration 3, Page 16\n",
"//Title: Fuels and Combustion\n",
"//=============================================================================\n",
"clc\n",
"clear\n",
"\n",
"//INPUT DATA\n",
"C=0.78;//Percentage composition of Carbon\n",
"H=0.06;//Percentage composition of Hydrogen\n",
"O=0.078;//Percentage composition of Oxygen\n",
"N=0.012;//Percentage composition of Nitrogen\n",
"S=0.03;//Percentage composition of Sulphur\n",
"\n",
"//CALCULATIONS\n",
"m=(11.5*C)+(34.5*(H-(O/8)))+(4.3*S);//Minimum quantity of air required in kg\n",
"mt=((11*C)/3)+(9*H)+(2*S)+(8.32+N);//Total mass of products of combustion in kg\n",
"\n",
"//OUTPUT\n",
"mprintf('Minimum quantity of air required for complete combustion is %3.2f kg \n Total mass of products of combustion is %3.3f kg',m,mt)\n",
"\n",
"\n",
"\n",
"\n",
"\n",
"//==============================END OF PROGRAM================================="
   ]
   }
,
{
		   "cell_type": "markdown",
		   "metadata": {},
		   "source": [
			"## Example 1.4: Mass_of_dry_flue_gas.sce"
		   ]
		  },
  {
"cell_type": "code",
	   "execution_count": null,
	   "metadata": {
	    "collapsed": true
	   },
	   "outputs": [],
"source": [
"//Chapter-1, Illustration 4, Page 17\n",
"//Title: Fuels and Combustion\n",
"//=============================================================================\n",
"clc\n",
"clear\n",
"\n",
"//INPUT DATA\n",
"C=0.84;//Percentage composition of Carbon\n",
"H=0.09;//Percentage composition of Hydrogen\n",
"CO2=0.0875;//Volumetric composition of CO2\n",
"CO=0.0225;//Volumetric composition of CO\n",
"O2=0.08;//Volumetric composition of Oxygen\n",
"N2=0.81;//Volumetric composition of Nitrogen\n",
"M1=44;//Molecular mass of CO2\n",
"M2=28;//Molecular mass of CO\n",
"M3=32;//Molecular mass of O2\n",
"M4=28;//Molecular mass of N2\n",
"\n",
"//CALCULATIONS\n",
"c1=CO2*M1;//Proportional mass of CO2\n",
"c2=CO*M2;//Proportional mass of CO\n",
"c3=O2*M3;//Proportional mass of O2\n",
"c4=N2*M4;//Proportional mass of N2\n",
"c=c1+c2+c3+c4;//Total proportional mass of constituents\n",
"m1=c1/c;//Mass of CO2 per kg of flue gas in kg\n",
"m2=c2/c;//Mass of CO per kg of flue gas in kg\n",
"m3=c3/c;//Mass of O2 per kg of flue gas in kg\n",
"m4=c4/c;//Mass of N2 per kg of flue gas in kg\n",
"d1=m1*100;//Mass analysis of CO2\n",
"d2=m2*100;//Mass analysis of CO\n",
"d3=m3*100;//Mass analysis of O2\n",
"d4=m4*100;//Mass analysis of N2\n",
"m=((3*m1)/11)+((3*m2)/7);//Mass of carbon in kg\n",
"md=C/m;//Mass of dry flue gas in kg\n",
"\n",
"//OUTPUT\n",
"mprintf('Mass of dry flue gases per kg of coal burnt is %3.1f kg',md)\n",
"\n",
"\n",
"\n",
"\n",
"\n",
"//==============================END OF PROGRAM================================="
   ]
   }
,
{
		   "cell_type": "markdown",
		   "metadata": {},
		   "source": [
			"## Example 1.5: EX1_5.sce"
		   ]
		  },
  {
"cell_type": "code",
	   "execution_count": null,
	   "metadata": {
	    "collapsed": true
	   },
	   "outputs": [],
"source": [
"//Chapter-1, Illustration 5, Page 17\n",
"//Title: Fuels and Combustion\n",
"//=============================================================================\n",
"clc\n",
"clear\n",
"\n",
"//INPUT DATA\n",
"C=0.624;//Percentage composition of Carbon\n",
"H=0.042;//Percentage composition of Hydrogen\n",
"O=0.045;//Percentage composition of Oxygen\n",
"CO2=0.13;//Volumetric composition of CO2\n",
"CO=0.003;//Volumetric composition of CO\n",
"O2=0.06;//Volumetric composition of Oxygen\n",
"N2=0.807;//Volumetric composition of Nitrogen\n",
"M1=44;//Molecular mass of CO2\n",
"M2=28;//Molecular mass of CO\n",
"M3=32;//Molecular mass of O2\n",
"M4=28;//Molecular mass of N2\n",
"mw=0.378;//Mass of H2O in kg\n",
"\n",
"//CALCULATIONS\n",
"m=(11.5*C)+(34.5*(H-(O/8)));//Minimum air required in kg\n",
"c1=CO2*M1;//Proportional mass of CO2\n",
"c2=CO*M2;//Proportional mass of CO\n",
"c3=O2*M3;//Proportional mass of O2\n",
"c4=N2*M4;//Proportional mass of N2\n",
"c=c1+c2+c3+c4;//Total proportional mass of constituents\n",
"m1=c1/c;//Mass of CO2 per kg of flue gas in kg\n",
"m2=c2/c;//Mass of CO per kg of flue gas in kg\n",
"m3=c3/c;//Mass of O2 per kg of flue gas in kg\n",
"m4=c4/c;//Mass of N2 per kg of flue gas in kg\n",
"d1=m1*100;//Mass analysis of CO2\n",
"d2=m2*100;//Mass analysis of CO\n",
"d3=m3*100;//Mass analysis of O2\n",
"d4=m4*100;//Mass analysis of N2\n",
"mC=((3*m1)/11)+((3*m2)/7);//Mass of carbon in kg\n",
"md=C/mC;//Mass of dry flue gas in kg\n",
"mact=(md+mw)-(C+H+O);//Actual air supplied per kg of fuel in kg\n",
"me=mact-m;//Mass of excess air per kg of fuel in kg\n",
"\n",
"//OUTPUT\n",
"mprintf('Minimum air required to burn 1 kg of coal is %3.2f kg \n Mass of air actually supplied per kg of coal is %3.3f kg \n Amount of excess air supplied per kg of coal burnt is %3.3f kg',m,mact,me)\n",
"\n",
"\n",
"\n",
"\n",
"\n",
"//==============================END OF PROGRAM================================="
   ]
   }
,
{
		   "cell_type": "markdown",
		   "metadata": {},
		   "source": [
			"## Example 1.6: Mass_of_air_to_be_supplied_and_Mass_of_gaseous_products.sce"
		   ]
		  },
  {
"cell_type": "code",
	   "execution_count": null,
	   "metadata": {
	    "collapsed": true
	   },
	   "outputs": [],
"source": [
"//Chapter-1, Illustration 6, Page 19\n",
"//Title: Fuels and Combustion\n",
"//=============================================================================\n",
"clc\n",
"clear\n",
"\n",
"//INPUT DATA\n",
"C=0.78;//Percentage composition of Carbon\n",
"H=0.03;//Percentage composition of Hydrogen\n",
"O=0.03;//Percentage composition of Oxygen\n",
"S=0.01;//Percentage composition of Sulphur\n",
"me=0.3;//Mass of excess air supplied\n",
"\n",
"//CALCULATIONS\n",
"m=(11.5*C)+(34.5*(H-(O/8)))+(4.3*S);//Mass of air per kg of coal in kg\n",
"mec=me*m;//Excess air supplied per kg of coal in kg\n",
"mact=m+mec;//Actual mass of air supplied per kg of coal in kg\n",
"mCO2=(11*C)/3;//Mass of CO2 produced per kg of coal in kg\n",
"mHw=9*H;//Mass of H2O produced per kg of coal in kg\n",
"mSO2=2*S;//Mass of SO2 produced per kg of coal in kg\n",
"mO2=0.232*mec;//Mass of excess O2 produced per kg of coal in kg\n",
"mN2=0.768*mact;//Mass of N2 produced per kg of coal in kg\n",
"\n",
"//OUTPUT\n",
"mprintf('Mass of air to be supplied is %3.2f kg \n Mass of CO2 produced per kg of coal is %3.2f kg \n Mass of H2O produced per kg of coal is %3.2f kg \n Mass of SO2 produced per kg of coal is %3.2f kg \n Mass of excess O2 produced per kg of coal is %3.2f kg \n Mass of N2 produced per kg of coal is %3.2f kg \n',m,mCO2,mHw,mSO2,mO2,mN2)\n",
"\n",
"\n",
"\n",
"\n",
"//==============================END OF PROGRAM================================="
   ]
   }
,
{
		   "cell_type": "markdown",
		   "metadata": {},
		   "source": [
			"## Example 1.7: EX1_7.sce"
		   ]
		  },
  {
"cell_type": "code",
	   "execution_count": null,
	   "metadata": {
	    "collapsed": true
	   },
	   "outputs": [],
"source": [
"//Chapter-1, Illustration 7, Page 20\n",
"//Title: Fuels and Combustion\n",
"//=============================================================================\n",
"clc\n",
"clear\n",
"\n",
"//INPUT DATA\n",
"C=0.9;//Percentage composition of Carbon\n",
"H=0.033;//Percentage composition of Hydrogen\n",
"O=0.03;//Percentage composition of Oxygen\n",
"N=0.008;//Percentage composition of Nitrogen\n",
"S=0.009;//Percentage composition of Sulphur\n",
"M1=44;//Molecular mass of CO2\n",
"M2=64;//Molecular mass of SO2\n",
"M3=32;//Molecular mass of O2\n",
"M4=28;//Molecular mass of N2\n",
"\n",
"//CALCULATIONS\n",
"m=(11.5*C)+(34.5*(H-(O/8)))+(4.3*S);//Minimum mass of air per kg of coal in kg\n",
"mCO2=(11*C)/3;//Mass of CO2 produced per kg of coal in kg\n",
"mHw=9*H;//Mass of H2O produced per kg of coal in kg\n",
"mSO2=2*S;//Mass of SO2 produced per kg of coal in kg\n",
"mt=11.5*1.5;//Total mass of air supplied per kg of coal in kg\n",
"me=mt-m;//Excess air supplied in kg\n",
"mO2=0.232*me;//Mass of excess O2 produced per kg of coal in kg\n",
"mN2=0.768*mt;//Mass of N2 produced per kg of coal in kg\n",
"mtN2=mN2+N;//Total mass of Nitrogen in exhaust in kg\n",
"md=mCO2+mSO2+mO2+mtN2;//Total mass of dry flue gases per kg of fuel in kg\n",
"CO2=(mCO2/md)*100;//Percentage composition of CO2 by mass in percent\n",
"SO2=(mSO2/md)*100;//Percentage composition of SO2 by mass in percent\n",
"O2=(mO2/md)*100;//Percentage composition of O2 by mass in percent\n",
"N2=(mN2/md)*100;//Percentage composition of N2 by mass in percent\n",
"c1=CO2/M1;//Proportional volume of CO2\n",
"c2=SO2/M2;//Proportional volume of SO2\n",
"c3=O2/M3;//Proportional volume of O2\n",
"c4=N2/M4;//Proportional volume of N2\n",
"c=c1+c2+c3+c4;//Total proportional volume of constituents\n",
"m1=c1/c;//Volume of CO2 in 1 (m^3) of flue gas\n",
"m2=c2/c;//Volume of SO2 in 1 (m^3) of flue gas\n",
"m3=c3/c;//Volume of O2 in 1 (m^3) of flue gas\n",
"m4=c4/c;//Volume of N2 in 1 (m^3) of flue gas\n",
"d1=m1*100;//Volume analysis of CO2\n",
"d2=m2*100;//Volume analysis of SO2\n",
"d3=m3*100;//Volume analysis of O2\n",
"d4=m4*100;//Volume analysis of N2\n",
"\n",
"//OUTPUT\n",
"mprintf('Minimum mass of air required is %3.1f kg \n Total mass of dry flue gases per kg of fuel is %3.2f kg \n Percentage composition of CO2 by volume is %3.2f percent \n Percentage composition of SO2 by volume is %3.3f percent \n Percentage composition of O2 by volume is %3.1f percent \n Percentage composition of N2 by volume is %3.2f percent',m,md,d1,d2,d3,d4)\n",
"\n",
"\n",
"\n",
"\n",
"\n",
"\n",
"//==============================END OF PROGRAM================================="
   ]
   }
,
{
		   "cell_type": "markdown",
		   "metadata": {},
		   "source": [
			"## Example 1.8: Mass_of_air_actually_supplied_and_Percentage_of_excess_air_supplied.sce"
		   ]
		  },
  {
"cell_type": "code",
	   "execution_count": null,
	   "metadata": {
	    "collapsed": true
	   },
	   "outputs": [],
"source": [
"//Chapter-1, Illustration 8, Page 21\n",
"//Title: Fuels and Combustion\n",
"//=============================================================================\n",
"clc\n",
"clear\n",
"\n",
"//INPUT DATA\n",
"C=0.88;//Percentage composition of Carbon\n",
"H=0.036;//Percentage composition of Hydrogen\n",
"O=0.048;//Percentage composition of oxygen\n",
"CO2=0.109;//Volumetric composition of CO2\n",
"CO=0.01;//Volumetric composition of CO\n",
"O2=0.071;//Volumetric composition of Oxygen\n",
"N2=0.81;//Volumetric composition of Nitrogen\n",
"M1=44;//Molecular mass of CO2\n",
"M2=28;//Molecular mass of CO\n",
"M3=32;//Molecular mass of O2\n",
"M4=28;//Molecular mass of N2\n",
"\n",
"//CALCULATIONS\n",
"m=(11.5*C)+(34.5*(H-(O/8)));//Theoretical air required in kg\n",
"c1=CO2*M1;//Proportional mass of CO2\n",
"c2=CO*M2;//Proportional mass of CO\n",
"c3=O2*M3;//Proportional mass of O2\n",
"c4=N2*M4;//Proportional mass of N2\n",
"c=c1+c2+c3+c4;//Total proportional mass of constituents\n",
"m1=c1/c;//Mass of CO2 per kg of flue gas in kg\n",
"m2=c2/c;//Mass of CO per kg of flue gas in kg\n",
"m3=c3/c;//Mass of O2 per kg of flue gas in kg\n",
"m4=c4/c;//Mass of N2 per kg of flue gas in kg\n",
"mC=((3*m1)/11)+((3*m2)/7);//Mass of carbon in kg\n",
"md=C/mC;//Mass of dry flue gas in kg\n",
"hc=H*9;//Hydrogen combustion in kg of H2O\n",
"mair=(md+hc)-(C+H+O);//Mass of air supplied per kg of coal in kg\n",
"me=mair-m;//Excess air per kg of coal in kg\n",
"mN2=m4*md;//Mass of nitrogen per kg of coal in kg\n",
"mact=mN2/0.768;//Actual mass of air per kg of coal in kg\n",
"pe=(me/m)*100;//Perccentage excess air in percent\n",
"\n",
"//OUTPUT\n",
"mprintf('Mass of air actually supplied per kg of coal is %3.2f kg \n Percentage of excess air is %3.2f percent',mact,pe)\n",
"\n",
"\n",
"\n",
"\n",
"\n",
"\n",
"\n",
"//==============================END OF PROGRAM================================="
   ]
   }
,
{
		   "cell_type": "markdown",
		   "metadata": {},
		   "source": [
			"## Example 1.9: Mass_of_excess_air_supplied_and_air_fuel_ratio.sce"
		   ]
		  },
  {
"cell_type": "code",
	   "execution_count": null,
	   "metadata": {
	    "collapsed": true
	   },
	   "outputs": [],
"source": [
"//Chapter-1, Illustration 9, Page 22\n",
"//Title: Fuels and Combustion\n",
"//=============================================================================\n",
"clc\n",
"clear\n",
"\n",
"//INPUT DATA\n",
"C=0.84;//Percentage composition of Carbon\n",
"H=0.14;//Percentage composition of Hydrogen\n",
"O=0.02;//Percentage composition of oxygen\n",
"CO2=8.85;//Volumetric composition of CO2\n",
"CO=1.2;//Volumetric composition of CO\n",
"O2=6.8;//Volumetric composition of Oxygen\n",
"N2=83.15;//Volumetric composition of Nitrogen\n",
"M1=44;//Molecular mass of CO2\n",
"M2=28;//Molecular mass of CO\n",
"M3=32;//Molecular mass of O2\n",
"M4=28;//Molecular mass of N2\n",
"a=8/3;//O2 required per kg C\n",
"b=8;//O2 required per kg H2\n",
"mair=0.23;//Mass of air\n",
"\n",
"//CALCULATIONS\n",
"c=C*a;//O2 required per kg of fuel for C\n",
"d=H*b;//O2 required per kg of fuel for H2\n",
"tO2=c+d+O;//Theoreticcal O2 required in kg/kg of fuel\n",
"tm=tO2/mair;//Theoretical mass of air in kg/kg of fuel\n",
"c1=CO2*M1;//Proportional mass of CO2 by Volume\n",
"c2=CO*M2;//Proportional mass of CO by Volume\n",
"c3=O2*M3;//Proportional mass of O2 by Volume\n",
"c4=N2*M4;//Proportional mass of N2 by Volume\n",
"c=c1+c2+c3+c4;//Total proportional mass of constituents\n",
"m1=c1/c;//Mass of CO2 per kg of flue gas in kg\n",
"m2=c2/c;//Mass of CO per kg of flue gas in kg\n",
"m3=c3/c;//Mass of O2 per kg of flue gas in kg\n",
"m4=c4/c;//Mass of N2 per kg of flue gas in kg\n",
"mC=((m1*12)/M1)+((m2*12)/M2);//Mass of carbon per kg of dry flue gas in kg\n",
"md=C/mC;//Mass of dry flue per kg of fuel in kg\n",
"p=(4*m2)/7;//Oxygen required to burn CO in kg\n",
"meO2=md*(m3-p);//Mass of excess O2 per kg of fuel in kg\n",
"me=meO2/mair;//Mass of excess air in kg/kg fuel\n",
"mt=tm+me;//Total air required per kg fuel\n",
"\n",
"//OUTPUT\n",
"mprintf('Mass of excess air supplied per kg of fuel burnt is %3.1f kg/kg of fuel \n Air-fuel ratio is %3.1f:1',me,mt)\n",
"\n",
"\n",
"\n",
"\n",
"\n",
"//==============================END OF PROGRAM=================================\n",
""
   ]
   }
],
"metadata": {
		  "kernelspec": {
		   "display_name": "Scilab",
		   "language": "scilab",
		   "name": "scilab"
		  },
		  "language_info": {
		   "file_extension": ".sce",
		   "help_links": [
			{
			 "text": "MetaKernel Magics",
			 "url": "https://github.com/calysto/metakernel/blob/master/metakernel/magics/README.md"
			}
		   ],
		   "mimetype": "text/x-octave",
		   "name": "scilab",
		   "version": "0.7.1"
		  }
		 },
		 "nbformat": 4,
		 "nbformat_minor": 0
}
