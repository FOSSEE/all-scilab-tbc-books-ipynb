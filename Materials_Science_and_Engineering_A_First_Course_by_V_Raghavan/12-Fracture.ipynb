{
"cells": [
 {
		   "cell_type": "markdown",
	   "metadata": {},
	   "source": [
       "# Chapter 12: Fracture"
	   ]
	},
{
		   "cell_type": "markdown",
		   "metadata": {},
		   "source": [
			"## Example 12.1: Estimate_fracture_strength.sce"
		   ]
		  },
  {
"cell_type": "code",
	   "execution_count": null,
	   "metadata": {
	    "collapsed": true
	   },
	   "outputs": [],
"source": [
"// Estimate fracture strength\n",
"clc\n",
"c = 2 // crack of half length in micro meter\n",
"Y = 70 // young’s modulus in GN m^-2\n",
"Gamma = 1 // specific surface energy \n",
"printf('\n Example 12.1')\n",
"sigma_f = sqrt(2*Gamma*Y*1e9/(%pi*c*1e-6))/1e6\n",
"r = Y*1e3/sigma_f\n",
"printf('\n Fracture strength of %d MN m^-2 is 1/%dth of young’s modulus. ',ceil(sigma_f),ceil(r/100)*100)\n",
"printf('\n Thus Griffiths criterion bridges the gap between the \n observed and ideal strengths of brittle material')\n",
""
   ]
   }
,
{
		   "cell_type": "markdown",
		   "metadata": {},
		   "source": [
			"## Example 12.2: Estimate_the_brittle_fracture_strength_at_low_temperatures.sce"
		   ]
		  },
  {
"cell_type": "code",
	   "execution_count": null,
	   "metadata": {
	    "collapsed": true
	   },
	   "outputs": [],
"source": [
"// Estimate the brittle fracture strength at low temperatures\n",
"clc\n",
"Gamma = 1.5// specific surface energy in J/m^2\n",
"Y = 200 // Young’s modulus in GN/m^2\n",
"c = 2 // half length of crack\n",
"\n",
"printf('\n Example 12.2')\n",
"sigma_f = sqrt(2*Gamma*Y*1e9/(%pi*c*1e-6))\n",
"\n",
"printf('\n Brittle fracture strength at low temperatures is %d MNm^-2 ',sigma_f/1e6)// answer in book is 310MNm^-2\n",
""
   ]
   }
,
{
		   "cell_type": "markdown",
		   "metadata": {},
		   "source": [
			"## Example 12.3: EX12_3.sce"
		   ]
		  },
  {
"cell_type": "code",
	   "execution_count": null,
	   "metadata": {
	    "collapsed": true
	   },
	   "outputs": [],
"source": [
"// Estimate the temperature at which the ductility of brittle transition occurs at given strain rates\n",
"clc\n",
"Gamma = 2// specific surface energy in J/m^2\n",
"Y = 350 // Young’s modulus in GN/m^2\n",
"c = 2 // half length of crack\n",
"de_dt1 = 1e-2 // strain rate\n",
"de_dt2 = 1e-5 // strain rate\n",
"printf('\n Example 12.3')\n",
"printf('\n Part A:')\n",
"sigma_f = sqrt(2*Gamma*Y*1e9/(%pi*c*1e-6))\n",
"sigma_y = sigma_f/1e6\n",
"T = 173600/(sigma_y-20.6-61.3*log10(de_dt1))// temperature calculation\n",
"\n",
"printf('\n Transition temperature for strain rate %.0e s^-1 is %d K',de_dt1,T)// answer in book is 300 K\n",
"printf('\n\n Part B:')\n",
"\n",
"T = 173600/(sigma_y-20.6-61.3*log10(de_dt2))// temperature calculation\n",
"\n",
"printf('\n Transition temperature for strain rate %.0e s^-1 is %d K',de_dt2,T)// answer in book is 230 K\n",
"// Solution in book for two parts is divided into three parts\n",
""
   ]
   }
],
"metadata": {
		  "kernelspec": {
		   "display_name": "Scilab",
		   "language": "scilab",
		   "name": "scilab"
		  },
		  "language_info": {
		   "file_extension": ".sce",
		   "help_links": [
			{
			 "text": "MetaKernel Magics",
			 "url": "https://github.com/calysto/metakernel/blob/master/metakernel/magics/README.md"
			}
		   ],
		   "mimetype": "text/x-octave",
		   "name": "scilab",
		   "version": "0.7.1"
		  }
		 },
		 "nbformat": 4,
		 "nbformat_minor": 0
}
