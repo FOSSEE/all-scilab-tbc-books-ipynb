{
"cells": [
 {
		   "cell_type": "markdown",
	   "metadata": {},
	   "source": [
       "# Chapter 11: Plastic Deformation and Creep in Crystalline Materials"
	   ]
	},
{
		   "cell_type": "markdown",
		   "metadata": {},
		   "source": [
			"## Example 11.2: Calculate_the_stress_required_to_move_the_dislocation_at_given_temperature.sce"
		   ]
		  },
  {
"cell_type": "code",
	   "execution_count": null,
	   "metadata": {
	    "collapsed": true
	   },
	   "outputs": [],
"source": [
"// Calculate the stress required to move the dislocation at given temperature\n",
"clc\n",
"b = 2 // burger vector in angstrom\n",
"v = 20*b^3 // activation volume \n",
"tau_pn = 1000 // P-N stress of crystal in MNm^-2\n",
"k = 1.38e-23 // physical constant\n",
"t1 = 0 // temperature in K\n",
"t2 = 100// temperature in K \n",
"t3 = 300// temperature in K\n",
"t4 = 500// temperature in K\n",
"printf('\n Example 11.2')\n",
"printf('\n\n Part A:')\n",
"T = t1\n",
"tau_app = tau_pn - 40*k*T/(v*1e-30)\n",
"printf('\n The stress required to move the dislocation at temperature %dK is %d MNm^-2',T,tau_app)\n",
"printf('\n\n Part B:')\n",
"T = t2\n",
"tau_app = tau_pn - 40*k*T/(v*1e-30*1e6)\n",
"printf('\n The stress required to move the dislocation at temperature %dK is %d MNm^-2',T,tau_app)\n",
"printf('\n\n Part C:')\n",
"T = t3\n",
"tau_app = tau_pn - 40*k*T/(v*1e-30*1e6)\n",
"if tau_app<0 then\n",
"    printf('\n Stress to be applied is zero')\n",
"    printf('\n The stress required to move the dislocation at temperature %dK entirely overcome by thermal fluctuations', T)\n",
"end\n",
"printf('\n\n Part D:')\n",
"T = t4\n",
"tau_app = tau_pn - 40*k*T/(v*1e-30*1e6)\n",
"if tau_app<0 then\n",
"    printf('\n Stress to be applied is zero')\n",
"    printf('\n The stress required to move the dislocation at temperature %dK entirely overcome by thermal fluctuations', T)\n",
"end\n",
""
   ]
   }
,
{
		   "cell_type": "markdown",
		   "metadata": {},
		   "source": [
			"## Example 11.3: Calculate_the_dislocation_density_in_copper.sce"
		   ]
		  },
  {
"cell_type": "code",
	   "execution_count": null,
	   "metadata": {
	    "collapsed": true
	   },
	   "outputs": [],
"source": [
"// Calculate the dislocation density in copper\n",
"clc\n",
"mu = 44 // shear modulus of copper in GN m^-2\n",
"b = 2.55 // burgers vector in angstrom\n",
"tau = 35 // shear stress in MN m^-2\n",
"printf('Example 11.3')\n",
"l = mu*1e9*b*1e-10/(tau*1e6)\n",
"rho = 1/l^2\n",
"\n",
"printf('\n Dislocation density in copper is %.1e  m^-2',rho)\n",
"// Answer in book is 1e12 m^-2"
   ]
   }
,
{
		   "cell_type": "markdown",
		   "metadata": {},
		   "source": [
			"## Example 11.4: Find_the_yield_stress_for_a_grain_size_of_ASTM_9.sce"
		   ]
		  },
  {
"cell_type": "code",
	   "execution_count": null,
	   "metadata": {
	    "collapsed": true
	   },
	   "outputs": [],
"source": [
"//  Find the yield stress for a grain size of ASTM 9\n",
"clc\n",
"sigma1 = 120 // initial yield strength of material in MNm^-2\n",
"sigma2 = 220 // Final yield strength of material in MN m^-2\n",
"d1 = 0.04 // initial diameter in mm\n",
"d2 = 0.01 // final diameter in mm\n",
"n = 9 // astm number\n",
"printf('Example 11.4')\n",
"k = (sigma2-sigma1)*1e6/(1/sqrt(d2*1e-3)-1/sqrt(d1*1e-3))\n",
"sigma_i = sigma1*1e6 -k/sqrt((d1*1e-3))\n",
"d = 1/sqrt(2^(n-1)*1e4/645)\n",
"sigma_y = sigma_i+k*(d*1e-3)^(-0.5)\n",
"\n",
"printf('\n Yield stress for a grain size of ASTM 9 is %d MN m^-2',ceil(sigma_y/1e6))\n",
""
   ]
   }
,
{
		   "cell_type": "markdown",
		   "metadata": {},
		   "source": [
			"## Example 11.5: Estimate_the_change_in_yield_strength.sce"
		   ]
		  },
  {
"cell_type": "code",
	   "execution_count": null,
	   "metadata": {
	    "collapsed": true
	   },
	   "outputs": [],
"source": [
"// Estimate the change in yield strength \n",
"clc\n",
"n1 = 1e6 // initial number of particles\n",
"n2 = 1e3 // final number of particle\n",
"printf('\n Example 11.5')\n",
"k = (n1/n2)^(1/3)\n",
"printf('\n Yield strength would have decreased to %d%% of its initial value.',100/k)"
   ]
   }
],
"metadata": {
		  "kernelspec": {
		   "display_name": "Scilab",
		   "language": "scilab",
		   "name": "scilab"
		  },
		  "language_info": {
		   "file_extension": ".sce",
		   "help_links": [
			{
			 "text": "MetaKernel Magics",
			 "url": "https://github.com/calysto/metakernel/blob/master/metakernel/magics/README.md"
			}
		   ],
		   "mimetype": "text/x-octave",
		   "name": "scilab",
		   "version": "0.7.1"
		  }
		 },
		 "nbformat": 4,
		 "nbformat_minor": 0
}
