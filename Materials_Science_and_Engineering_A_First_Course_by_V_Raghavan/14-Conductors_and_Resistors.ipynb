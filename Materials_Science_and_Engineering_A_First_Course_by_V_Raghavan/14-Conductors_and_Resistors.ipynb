{
"cells": [
 {
		   "cell_type": "markdown",
	   "metadata": {},
	   "source": [
       "# Chapter 14: Conductors and Resistors"
	   ]
	},
{
		   "cell_type": "markdown",
		   "metadata": {},
		   "source": [
			"## Example 14.1: Calculate_energy_difference.sce"
		   ]
		  },
  {
"cell_type": "code",
	   "execution_count": null,
	   "metadata": {
	    "collapsed": true
	   },
	   "outputs": [],
"source": [
"// Calculate energy difference\n",
"clc\n",
"n_x1 = 1 // atomic level\n",
"n_y1 = 1// atomic level\n",
"n_z1 = 1// atomic level\n",
"n_x2 = 2// atomic level\n",
"L = 10 // lattice parameter in mm\n",
"h = 6.626e-34 // plank constant\n",
"m_e = 9.109e-31 // mass of electron in kg\n",
"printf('\n Example 14.1')\n",
"E1 = h^2*(n_x1^2+n_y1^2+n_z1^2)/(8*m_e*(L*1e-3)^2)\n",
"E2 = h^2*(n_x2^2+n_y1^2+n_z1^2)/(8*m_e*(L*1e-3)^2)\n",
"E = E2-E1 // energy difference \n",
"printf('\n Energy difference is %.2e J ',E)"
   ]
   }
,
{
		   "cell_type": "markdown",
		   "metadata": {},
		   "source": [
			"## Example 14.2: Calculate_conductivity_of_copper_at_300_K.sce"
		   ]
		  },
  {
"cell_type": "code",
	   "execution_count": null,
	   "metadata": {
	    "collapsed": true
	   },
	   "outputs": [],
"source": [
"// Calculate conductivity of copper at 300 K\n",
"clc\n",
"tau = 2e-14 // collision time of electron in s\n",
"e = 1.602e-19 // charge on electron\n",
"m_e = 9.1e-31 // mass of electron in kg\n",
"\n",
"printf('\n Example 14.2')\n",
"n = 6.023e23*8960/0.06354\n",
"\n",
"sigma= n*e^2*tau/m_e\n",
"printf('\n Conductivity of copper at 300 K is %.1e ohm^-1 m^-1 ',sigma)"
   ]
   }
,
{
		   "cell_type": "markdown",
		   "metadata": {},
		   "source": [
			"## Example 14.3: EX14_3.sce"
		   ]
		  },
  {
"cell_type": "code",
	   "execution_count": null,
	   "metadata": {
	    "collapsed": true
	   },
	   "outputs": [],
"source": [
"// Estimation of resistivity due to impurity scattering of 1% of Nickel in copper lattice\n",
"clc\n",
"r_cu = 1.8e-8 // resistivity of pure copper in ohm-m\n",
"r_Ni_cu = 7e-8 //resistivity of copper 4% Ni in ohm-m\n",
"per1 = 4//impurity in percent\n",
"per2 = 1 // impurity in percent\n",
"printf('\n Example 14.3')\n",
"r = (r_Ni_cu-r_cu)*per2/per1 // resistivity of copper 1% Ni in ohm-m\n",
"printf('\n Resistivity due to impurity scattering of 1 %% of Nickel in copper lattice is %.1e ohm-m',r)"
   ]
   }
],
"metadata": {
		  "kernelspec": {
		   "display_name": "Scilab",
		   "language": "scilab",
		   "name": "scilab"
		  },
		  "language_info": {
		   "file_extension": ".sce",
		   "help_links": [
			{
			 "text": "MetaKernel Magics",
			 "url": "https://github.com/calysto/metakernel/blob/master/metakernel/magics/README.md"
			}
		   ],
		   "mimetype": "text/x-octave",
		   "name": "scilab",
		   "version": "0.7.1"
		  }
		 },
		 "nbformat": 4,
		 "nbformat_minor": 0
}
