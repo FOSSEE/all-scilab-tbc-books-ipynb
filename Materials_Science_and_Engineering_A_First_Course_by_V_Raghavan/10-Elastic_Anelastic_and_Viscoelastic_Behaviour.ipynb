{
"cells": [
 {
		   "cell_type": "markdown",
	   "metadata": {},
	   "source": [
       "# Chapter 10: Elastic Anelastic and Viscoelastic Behaviour"
	   ]
	},
{
		   "cell_type": "markdown",
		   "metadata": {},
		   "source": [
			"## Example 10.1: Estimate_Youngs_modulus_of_material.sce"
		   ]
		  },
  {
"cell_type": "code",
	   "execution_count": null,
	   "metadata": {
	    "collapsed": true
	   },
	   "outputs": [],
"source": [
"// Estimate young’s modulus of material\n",
"clc\n",
"n = 1\n",
"m = 9\n",
"A = 7.68e-29 // Constant having unit J m \n",
"r_0 = 2.5e-10 // bonding distance in m\n",
"printf('\n Example 10.1')\n",
"B = A*r_0^8/9\n",
"\n",
"Y = (90*B/(r_0)^11-2*A/(r_0)^3)/r_0\n",
"\n",
"printf('\n Young’s modulus of material is %d GN m^-2',Y/1e9)\n",
""
   ]
   }
,
{
		   "cell_type": "markdown",
		   "metadata": {},
		   "source": [
			"## Example 10.2: Calculation_of_stress_in_fibers.sce"
		   ]
		  },
  {
"cell_type": "code",
	   "execution_count": null,
	   "metadata": {
	    "collapsed": true
	   },
	   "outputs": [],
"source": [
"// Calculation of stress in fibers\n",
"clc\n",
"Y_f = 440\n",
"Y_m = 71 \n",
"sigma_total= 100 // total load\n",
"printf('\n Example 10.2')\n",
"r = Y_f/Y_m\n",
"sigma_f = r*(sigma_total/0.7)/(1+r*3/7)\n",
"printf('\n Part A:')\n",
"printf('\n When load is applied parallel to fiber then, stress in fiber is %d MN m^-2',sigma_f)\n",
"\n",
"printf('\n\n Part B:')\n",
"printf('\n When load is applied perpendicular to fiber then, stress in fiber and matrix is same i.e. %d MN m^-2',sigma_total)\n",
""
   ]
   }
,
{
		   "cell_type": "markdown",
		   "metadata": {},
		   "source": [
			"## Example 10.3: Estimate_diffusion_coefficient.sce"
		   ]
		  },
  {
"cell_type": "code",
	   "execution_count": null,
	   "metadata": {
	    "collapsed": true
	   },
	   "outputs": [],
"source": [
"// Estimate diffusion coefficient\n",
"clc\n",
"t_r = 100 // relaxation time in s\n",
"d = 2.5 // distance in angstrom\n",
"printf('\n Example 10.3')\n",
"f = 1/t_r // jump frequency\n",
"D = (d*1e-10)^2*f\n",
"printf('\n Diffusion coefficient is %.2e m^2 s^-1',D)\n",
""
   ]
   }
],
"metadata": {
		  "kernelspec": {
		   "display_name": "Scilab",
		   "language": "scilab",
		   "name": "scilab"
		  },
		  "language_info": {
		   "file_extension": ".sce",
		   "help_links": [
			{
			 "text": "MetaKernel Magics",
			 "url": "https://github.com/calysto/metakernel/blob/master/metakernel/magics/README.md"
			}
		   ],
		   "mimetype": "text/x-octave",
		   "name": "scilab",
		   "version": "0.7.1"
		  }
		 },
		 "nbformat": 4,
		 "nbformat_minor": 0
}
