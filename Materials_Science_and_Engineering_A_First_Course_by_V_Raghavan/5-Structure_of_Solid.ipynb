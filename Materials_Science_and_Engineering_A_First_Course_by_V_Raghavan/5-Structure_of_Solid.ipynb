{
"cells": [
 {
		   "cell_type": "markdown",
	   "metadata": {},
	   "source": [
       "# Chapter 5: Structure of Solid"
	   ]
	},
{
		   "cell_type": "markdown",
		   "metadata": {},
		   "source": [
			"## Example 5.1: Calculate_packing_efficiency_and_density_of_diamond.sce"
		   ]
		  },
  {
"cell_type": "code",
	   "execution_count": null,
	   "metadata": {
	    "collapsed": true
	   },
	   "outputs": [],
"source": [
"// Calculate packing efficiency and density of diamond\n",
"clc\n",
"n_c = 1/8 // sharing of corner atom in a unit cell\n",
"N_c = 8 // Number of corner atoms in unit cell\n",
"n_b = 1 // sharing of body centered atom in a unit cell\n",
"N_b = 4 // Number of body centered atoms in unit cell\n",
"n_f = 0.5// sharing of face centered atom in a unit cell\n",
"N_f = 6// Number of face centered atoms in unit cell\n",
"a = 1 // let lattice parameter\n",
"m = 12 // mass of carbon\n",
"printf('\n Example 5.1')\n",
"printf('\n Part A:')\n",
"N = n_c*N_c+n_b*N_b+n_f*N_f // effective number of atoms\n",
"r = a*sqrt(3)/8\n",
"p_e = N*4/3*%pi*r^3/a^3 // packing efficiency\n",
"\n",
"printf('\n Packing efficiency of diamond is %.2f',p_e)\n",
"printf('\n\n Part B:')\n",
"a = 3.57 // lattice parameter in angstrom\n",
"d = m*1.66e-27*N/(a*1e-10)^3\n",
"printf('\n Density of diamond is %d Kg/m^3',d)// numerical answer in book is 3500\n",
"printf('\n Density of diamond is %.1f g/cm^3',d/1000)"
   ]
   }
,
{
		   "cell_type": "markdown",
		   "metadata": {},
		   "source": [
			"## Example 5.3: Calculate_the_cation_to_anion_ratio_for_an_ideally_close_packed_HCP_crystal.sce"
		   ]
		  },
  {
"cell_type": "code",
	   "execution_count": null,
	   "metadata": {
	    "collapsed": true
	   },
	   "outputs": [],
"source": [
"// calculate the c/a ratio for an ideally close packed HCP crystal\n",
"clc\n",
"a = 1 // let\n",
"PR = a\n",
"printf('\ Example 5.3')\n",
"RT = a/sqrt(3)\n",
"PT = sqrt(PR^2-RT^2)\n",
"c_a = 2*PT/PR\n",
"// Calculations are made on the crystal structure drawn in book\n",
"printf('\n c/a ratio for an ideally close packed HCP crystal is %0.3f ',c_a)\n",
""
   ]
   }
,
{
		   "cell_type": "markdown",
		   "metadata": {},
		   "source": [
			"## Example 5.4: find_the_size_of_largest_sphere_that_can_fit_into_a_tetrahedral_void.sce"
		   ]
		  },
  {
"cell_type": "code",
	   "execution_count": null,
	   "metadata": {
	    "collapsed": true
	   },
	   "outputs": [],
"source": [
"// find the size of largest sphere that can fit into a tetrahedral void\n",
"clc\n",
"r = 1 // let\n",
"a = 3/4 \n",
"printf('\n Example 5.4')\n",
"pt = 2*sqrt(2/3)*r\n",
"s = a*pt-r // size of sphere\n",
"printf('\n Size of largest sphere that can fit into a tetrahedral void is %.3fr',s)\n",
""
   ]
   }
,
{
		   "cell_type": "markdown",
		   "metadata": {},
		   "source": [
			"## Example 5.5: Find_critical_radius_ratio_for_triangular_coordination.sce"
		   ]
		  },
  {
"cell_type": "code",
	   "execution_count": null,
	   "metadata": {
	    "collapsed": true
	   },
	   "outputs": [],
"source": [
"// find critical radius ratio for triangular coordination\n",
"clc\n",
"theta = 60 // angle in degree\n",
"printf('\n Example 5.5')\n",
"r_c_a = (2/3*2*sin(theta*%pi/180))-1 // ratio calculation\n",
"printf('\n Critical radius ratio for triangular coordination is %0.3f ',r_c_a)"
   ]
   }
,
{
		   "cell_type": "markdown",
		   "metadata": {},
		   "source": [
			"## Example 5.6: Calculate_density_of_MgO.sce"
		   ]
		  },
  {
"cell_type": "code",
	   "execution_count": null,
	   "metadata": {
	    "collapsed": true
	   },
	   "outputs": [],
"source": [
"// Calculate density of MgO\n",
"clc\n",
"r_mg = 0.78 // radius of magnesium cation in angstrom\n",
"r_o = 1.32 // radius of oxygen anion in angstrom\n",
"n = 4 // effective number of unit cell\n",
"m_o = 16 // mass of oxygen\n",
"m_mg = 24.3 // mass of magnesium\n",
"printf('\n Example 5.6')\n",
"a = 2*(r_mg+r_o)// lattice parameter\n",
"d = (m_o+m_mg)*1.66e-27*n/(a*1e-10)^3// density \n",
"printf('\n Density of MgO is %d Kg/m^3',d) // answer is 3610 kg/m^3\n",
"printf('\n Density of MgO is %0.2f g/cm^3',d/1000)"
   ]
   }
],
"metadata": {
		  "kernelspec": {
		   "display_name": "Scilab",
		   "language": "scilab",
		   "name": "scilab"
		  },
		  "language_info": {
		   "file_extension": ".sce",
		   "help_links": [
			{
			 "text": "MetaKernel Magics",
			 "url": "https://github.com/calysto/metakernel/blob/master/metakernel/magics/README.md"
			}
		   ],
		   "mimetype": "text/x-octave",
		   "name": "scilab",
		   "version": "0.7.1"
		  }
		 },
		 "nbformat": 4,
		 "nbformat_minor": 0
}
