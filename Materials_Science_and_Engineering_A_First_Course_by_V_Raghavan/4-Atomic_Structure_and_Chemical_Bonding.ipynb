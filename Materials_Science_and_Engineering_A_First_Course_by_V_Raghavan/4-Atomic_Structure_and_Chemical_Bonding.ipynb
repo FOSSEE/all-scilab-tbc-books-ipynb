{
"cells": [
 {
		   "cell_type": "markdown",
	   "metadata": {},
	   "source": [
       "# Chapter 4: Atomic Structure and Chemical Bonding"
	   ]
	},
{
		   "cell_type": "markdown",
		   "metadata": {},
		   "source": [
			"## Example 4.1: Calculate_frequency_and_wavelength_of_radiation.sce"
		   ]
		  },
  {
"cell_type": "code",
	   "execution_count": null,
	   "metadata": {
	    "collapsed": true
	   },
	   "outputs": [],
"source": [
"// Calculate frequency and wavelength of radiation\n",
"clc\n",
"E = 1.64e-18 // energy difference between two states in J\n",
"h= 6.626e-34 // planks constant\n",
"c = 2.998e8 // speed of light in m/s\n",
"printf('\n Example 4.1')\n",
"nu = E/h\n",
"lambda = c/nu\n",
"printf('\n Frequency of emitted radiation is %.2e Hz',nu)\n",
"printf('\n Wavelength of emitted radiation is %.2e m \n\t \tor\t\t %d angstrom',lambda,lambda*1e10)// answer in book is 1210 angstrom\n",
""
   ]
   }
,
{
		   "cell_type": "markdown",
		   "metadata": {},
		   "source": [
			"## Example 4.3: Reconcile_the_difference_of_energy.sce"
		   ]
		  },
  {
"cell_type": "code",
	   "execution_count": null,
	   "metadata": {
	    "collapsed": true
	   },
	   "outputs": [],
"source": [
"// Reconcile the difference of energy\n",
"clc\n",
"e_a = 713 // enthalpy of atomization in kJ/mol\n",
"e_b = 347 // bond energy in kJ/mol\n",
"a = 4 // total number of atoms in single crystal structure\n",
"b = 2 // number of atoms in a bond\n",
"printf('\n Example 4.3')\n",
"k = a/b // effective number of bond per atom\n",
"e = k*e_b\n",
"printf('\n %d kJ should be the enthalpy of atomization of diamond', e)\n",
"printf('\n However, %d kJ is very close to %d kJ',e,e_a)\n",
""
   ]
   }
,
{
		   "cell_type": "markdown",
		   "metadata": {},
		   "source": [
			"## Example 4.4: Calculation_of_fraction_of_hydrogen_bonds_which_breaks_during_ice_melting.sce"
		   ]
		  },
  {
"cell_type": "code",
	   "execution_count": null,
	   "metadata": {
	    "collapsed": true
	   },
	   "outputs": [],
"source": [
"// Calculation of fraction of hydrogen bonds which breaks during ice melting\n",
"clc\n",
"del_h = 6.02 // enthalpy of fusion in kJ/mol\n",
"n = 2 // number of hydrogen atom in 1 water atom\n",
"del_b = 20.5 // hydrogen bond energy in kJ/mol\n",
"printf('\n Example 4.4')\n",
"f = del_h/(n*del_b)\n",
"printf('\n Fraction of hydrogen bonds which broken is %.2f',f)\n",
""
   ]
   }
],
"metadata": {
		  "kernelspec": {
		   "display_name": "Scilab",
		   "language": "scilab",
		   "name": "scilab"
		  },
		  "language_info": {
		   "file_extension": ".sce",
		   "help_links": [
			{
			 "text": "MetaKernel Magics",
			 "url": "https://github.com/calysto/metakernel/blob/master/metakernel/magics/README.md"
			}
		   ],
		   "mimetype": "text/x-octave",
		   "name": "scilab",
		   "version": "0.7.1"
		  }
		 },
		 "nbformat": 4,
		 "nbformat_minor": 0
}
