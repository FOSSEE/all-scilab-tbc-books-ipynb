{
"cells": [
 {
		   "cell_type": "markdown",
	   "metadata": {},
	   "source": [
       "# Chapter 16: Magnetic Materials"
	   ]
	},
{
		   "cell_type": "markdown",
		   "metadata": {},
		   "source": [
			"## Example 16.1: Calculate_the_net_magnetic_moment_per_iron_atom_in_crystal.sce"
		   ]
		  },
  {
"cell_type": "code",
	   "execution_count": null,
	   "metadata": {
	    "collapsed": true
	   },
	   "outputs": [],
"source": [
"// Calculate the net magnetic moment per iron atom in crystal\n",
"clc\n",
"a = 2.87 // lattice parameter in angstrom\n",
"n = 2 // number of atoms per unit cell\n",
"m = 1750 // Saturation magnetization in kAm^-1\n",
"mu = 9.273e-24 // bohr magneton \n",
"printf('\n Example 16.1')\n",
"m_atom = m*1e3*(a*1e-10)^3 /n\n",
"mu_b = m_atom/mu\n",
"\n",
"printf('\n Net magnetic moment per iron atom in crystal is %.3e Am^2',m_atom)\n",
"printf('\n In unit of mu_b, Net magnetic moment per iron atom in crystal is %.1f ',mu_b)\n",
""
   ]
   }
,
{
		   "cell_type": "markdown",
		   "metadata": {},
		   "source": [
			"## Example 16.2: Comparison_of_saturation_temperatures.sce"
		   ]
		  },
  {
"cell_type": "code",
	   "execution_count": null,
	   "metadata": {
	    "collapsed": true
	   },
	   "outputs": [],
"source": [
"// Comparison of saturation temperatures\n",
"clc\n",
"t1 = 0 // temperature in kelvin\n",
"t2 = 300 // temperature in kelvin\n",
"m_net_Gd = 7 // net magnetic moment of gadolinium\n",
"m_net_Co = 1.7 // net magnetic moment of cobalt\n",
"t_c_Gd = 289 // curie temperature for Gd\n",
"printf('\n Example 16.2')\n",
"printf('\n Part A:')\n",
"if m_net_Gd> m_net_Co then\n",
"printf('\n At %d K, Net magnetic moment of gadolinium i.e. %d is greater than net magnetic moment of cobalt i.e. %.1f ',t1,m_net_Gd,m_net_Co)\n",
"printf('\n So, Gd will have higher saturation magnetization')\n",
"end\n",
"printf('\n\n Part B:')\n",
"if t_c_Gd<t2 then\n",
"    printf('\n At temperature %d K, Gd is above its curie temperature of %dK',t2,t_c_Gd)\n",
"    printf('\n Gd will be paramagnetic at %d K and will have negligible magnetization\n as compared to Co, which has higher curie temperature',t2)\n",
"end\n",
""
   ]
   }
,
{
		   "cell_type": "markdown",
		   "metadata": {},
		   "source": [
			"## Example 16.4: Calculation_of_hysteresis_loss.sce"
		   ]
		  },
  {
"cell_type": "code",
	   "execution_count": null,
	   "metadata": {
	    "collapsed": true
	   },
	   "outputs": [],
"source": [
"// Calculation of hysteresis loss\n",
"clc\n",
"v = 0.01 // volume in m^3\n",
"x = 1e-4 // axis intercept\n",
"y = 1e2 // axis intercept\n",
"a = 60000 // Hysteresis loop area\n",
"f = 50 // frequency in Hz\n",
"printf('\n Example 16.4')\n",
"e = x*y*a // Energy loss in one loop\n",
"E = e*v // energy loss in core in one cycle\n",
"P = E*f // Power loss\n",
"printf('\n Power loss due to hysteresis is %d W',P)"
   ]
   }
,
{
		   "cell_type": "markdown",
		   "metadata": {},
		   "source": [
			"## Example 16.5: Calculation_of_eddy_current_loss_at_normal_voltage_and_frequency.sce"
		   ]
		  },
  {
"cell_type": "code",
	   "execution_count": null,
	   "metadata": {
	    "collapsed": true
	   },
	   "outputs": [],
"source": [
"// Calculation of eddy current loss at normal voltage and frequency\n",
"clc\n",
"Total1 = 2300 // total iron loss in W at 440 V and 50 Hz\n",
"Total2 = 750 // total iron loss in W at 220 V and 25 Hz\n",
"printf('\n Example 16.5')\n",
"W_e = 1/2*(Total1-2*Total2)\n",
"printf('\n Eddy current loss at normal voltage and frequency is %dW',4*W_e)\n",
""
   ]
   }
],
"metadata": {
		  "kernelspec": {
		   "display_name": "Scilab",
		   "language": "scilab",
		   "name": "scilab"
		  },
		  "language_info": {
		   "file_extension": ".sce",
		   "help_links": [
			{
			 "text": "MetaKernel Magics",
			 "url": "https://github.com/calysto/metakernel/blob/master/metakernel/magics/README.md"
			}
		   ],
		   "mimetype": "text/x-octave",
		   "name": "scilab",
		   "version": "0.7.1"
		  }
		 },
		 "nbformat": 4,
		 "nbformat_minor": 0
}
