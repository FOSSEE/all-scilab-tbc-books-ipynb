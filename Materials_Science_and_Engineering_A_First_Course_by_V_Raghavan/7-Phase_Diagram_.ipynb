{
"cells": [
 {
		   "cell_type": "markdown",
	   "metadata": {},
	   "source": [
       "# Chapter 7: Phase Diagram "
	   ]
	},
{
		   "cell_type": "markdown",
		   "metadata": {},
		   "source": [
			"## Example 7.1: Find_degrees_of_freedom_of_a_system_of_two_components.sce"
		   ]
		  },
  {
"cell_type": "code",
	   "execution_count": null,
	   "metadata": {
	    "collapsed": true
	   },
	   "outputs": [],
"source": [
"// Find degrees of freedom of a system of two components\n",
"clc\n",
"c = 2 // number of components\n",
"printf('\n Example 7.1')\n",
"for n = 1:4\n",
"    p = (c-1) +2 // Total variables\n",
"    f = c-n+2 // degree of freedom\n",
"    printf('\n\n Degree of freedom for two components when \n number of phases is %d is %d',n,f)\n",
"end"
   ]
   }
,
{
		   "cell_type": "markdown",
		   "metadata": {},
		   "source": [
			"## Example 7.2: Find_minimum_number_of_component_in_system.sce"
		   ]
		  },
  {
"cell_type": "code",
	   "execution_count": null,
	   "metadata": {
	    "collapsed": true
	   },
	   "outputs": [],
"source": [
"// Find minimum number of component in system\n",
"clc\n",
"p = 4 // number of phases of system\n",
"f = 0 // number of degree of system\n",
"\n",
"printf('\n Example 7.2')\n",
"C = f+p-1 // components number\n",
"printf('\n Minimum number of components in system is %d',C)"
   ]
   }
,
{
		   "cell_type": "markdown",
		   "metadata": {},
		   "source": [
			"## Example 7.3: Calculate_amount_of_pure_water_that_can_be_extracted_from_sea_water.sce"
		   ]
		  },
  {
"cell_type": "code",
	   "execution_count": null,
	   "metadata": {
	    "collapsed": true
	   },
	   "outputs": [],
"source": [
"// Calculate amount of pure water that can be extracted from sea water\n",
"clc\n",
"L = 23.3 // % composition of L\n",
"a = 3.5 // concentration of Nacl in sea water\n",
"ice = 0 // % composition of ice\n",
"printf('\n Example 7.3')\n",
"f_ice = (L-a)/(L-ice)\n",
"printf('\n Fractional amount of pure water that can be extracted from sea water is %0.2f',f_ice)"
   ]
   }
,
{
		   "cell_type": "markdown",
		   "metadata": {},
		   "source": [
			"## Example 7.5: Calculate_proeutectoid_ferrite_and_eutectoid_ferrite_in_6_tenth_percent_steel.sce"
		   ]
		  },
  {
"cell_type": "code",
	   "execution_count": null,
	   "metadata": {
	    "collapsed": true
	   },
	   "outputs": [],
"source": [
"// Calculate proeutectoid ferrite and eutectoid ferrite in 0.6% steel\n",
"clc\n",
"a = 0 // limiting value\n",
"b = 0.8 // limiting value\n",
"c = 0.6 // percentage composition of carbon\n",
"f = 0.88 // fraction of ferrite in a eutectoid steel\n",
"printf('\n Example 7.5')\n",
"f_pro_alpha = (b-c)/(b-a)\n",
"f_perlite = 1 - f_pro_alpha\n",
"f_eut = f*f_perlite\n",
"printf('\n Composition of proeutectoid ferrite is %0.2f',f_pro_alpha)\n",
"printf('\n Composition of eutectoid ferrite is %0.2f',f_eut)"
   ]
   }
],
"metadata": {
		  "kernelspec": {
		   "display_name": "Scilab",
		   "language": "scilab",
		   "name": "scilab"
		  },
		  "language_info": {
		   "file_extension": ".sce",
		   "help_links": [
			{
			 "text": "MetaKernel Magics",
			 "url": "https://github.com/calysto/metakernel/blob/master/metakernel/magics/README.md"
			}
		   ],
		   "mimetype": "text/x-octave",
		   "name": "scilab",
		   "version": "0.7.1"
		  }
		 },
		 "nbformat": 4,
		 "nbformat_minor": 0
}
