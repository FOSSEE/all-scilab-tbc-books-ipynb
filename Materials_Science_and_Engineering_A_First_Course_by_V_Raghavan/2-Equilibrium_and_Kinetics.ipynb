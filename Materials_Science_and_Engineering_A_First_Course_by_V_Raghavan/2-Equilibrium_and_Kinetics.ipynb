{
"cells": [
 {
		   "cell_type": "markdown",
	   "metadata": {},
	   "source": [
       "# Chapter 2: Equilibrium and Kinetics"
	   ]
	},
{
		   "cell_type": "markdown",
		   "metadata": {},
		   "source": [
			"## Example 2.1: Calculate_the_entropy_increase.sce"
		   ]
		  },
  {
"cell_type": "code",
	   "execution_count": null,
	   "metadata": {
	    "collapsed": true
	   },
	   "outputs": [],
"source": [
"// Calculate the entropy increase\n",
"clc\n",
"del_h = 6.02 // Heat added in kJ/mol\n",
"t_m = 273.15 // mean temperature in kelvin\n",
"printf('\n Example 2.1')\n",
"del_s = del_h*1e3/t_m\n",
"printf('\n Increase in entropy is %.2f J mol^-1 K^-1',del_s)"
   ]
   }
,
{
		   "cell_type": "markdown",
		   "metadata": {},
		   "source": [
			"## Example 2.2: EX2_2.sce"
		   ]
		  },
  {
"cell_type": "code",
	   "execution_count": null,
	   "metadata": {
	    "collapsed": true
	   },
	   "outputs": [],
"source": [
"// Calculation of fraction of atoms with energy equal to or greater than 1eV at temperatures\n",
"clc\n",
"E = 1 // energy in electron volt\n",
"e = 1.6e-19 // charge on electron\n",
"k = 1.38e-23 // constant\n",
"t1 = 300 // temperature in K\n",
"t2 = 1500 // temperature in K\n",
"printf('\n Example 2.2')\n",
"printf('\n\n Part A:')\n",
"n_N = exp(-(e/(k*t1)))\n",
"printf('\n Fraction of atoms with energy equal to or greater than 1eV at temperature %d K is %.2e ',t1,n_N) // numerical value of answer in book is 2e-17\n",
"printf('\n\n Part B:')\n",
"n_N = exp(-(e/(k*t2)))\n",
"printf('\n Fraction of atoms with energy equal to or greater than 1eV at temperature %d K is %.2e ',t2,n_N) // numerical value of answer in book is 4.3e4\n",
"\n",
""
   ]
   }
],
"metadata": {
		  "kernelspec": {
		   "display_name": "Scilab",
		   "language": "scilab",
		   "name": "scilab"
		  },
		  "language_info": {
		   "file_extension": ".sce",
		   "help_links": [
			{
			 "text": "MetaKernel Magics",
			 "url": "https://github.com/calysto/metakernel/blob/master/metakernel/magics/README.md"
			}
		   ],
		   "mimetype": "text/x-octave",
		   "name": "scilab",
		   "version": "0.7.1"
		  }
		 },
		 "nbformat": 4,
		 "nbformat_minor": 0
}
