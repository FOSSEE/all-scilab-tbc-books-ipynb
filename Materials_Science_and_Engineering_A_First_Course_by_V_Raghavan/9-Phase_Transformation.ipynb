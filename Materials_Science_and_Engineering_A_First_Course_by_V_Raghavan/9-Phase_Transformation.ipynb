{
"cells": [
 {
		   "cell_type": "markdown",
	   "metadata": {},
	   "source": [
       "# Chapter 9: Phase Transformation"
	   ]
	},
{
		   "cell_type": "markdown",
		   "metadata": {},
		   "source": [
			"## Example 9.1: EX9_1.sce"
		   ]
		  },
  {
"cell_type": "code",
	   "execution_count": null,
	   "metadata": {
	    "collapsed": true
	   },
	   "outputs": [],
"source": [
"// Calculate the critical free energy of nucleation of ice from water and critical radius\n",
"clc\n",
"del_t1 = 0// temperature difference in degree Celsius\n",
"del_t2 = -5 // temperature difference in degree Celsius\n",
"del_t3 = -40 // temperature difference in degree Celsius\n",
"del_h = 6.02 // enthalpy of fusion in kJ/mol\n",
"T_m = 273 // mean temperature\n",
"Gamma = 0.076 // energy of ice water interface in J /m^2\n",
"v = 19 // molar volume of ice\n",
"printf('\n Example 9.1')\n",
"printf('\n Part A')\n",
"printf('\n At del_t = %d, there is no supercooling. So there is no critical radius',del_t1)\n",
"printf('\n\n Part B')\n",
"del_f = 16/3*%pi*(Gamma)^3*T_m^2/((del_h*1e3*1e6/v)^2*del_t2^2)\n",
"r = 2*T_m*Gamma/(-del_h*1e3*1e6/v*del_t2)\n",
"printf('\n Critical free energy of nucleation is %.1eJ',del_f)\n",
"printf('\n Critical radius is %d angstrom',ceil(r*1e10))\n",
"printf('\n\n Part C')\n",
"temp_r = del_t3/del_t2\n",
"del_f_ = del_f/temp_r^2\n",
"r_ = r/temp_r\n",
"\n",
" printf('\n Critical free energy of nucleation is %.1eJ',del_f_)\n",
"printf('\n Critical radius is %d angstrom.', ceil(r_*1e10))\n",
""
   ]
   }
,
{
		   "cell_type": "markdown",
		   "metadata": {},
		   "source": [
			"## Example 9.2: Calculate_the_change_in_delta_f_required_to_increase_nucleation_rate.sce"
		   ]
		  },
  {
"cell_type": "code",
	   "execution_count": null,
	   "metadata": {
	    "collapsed": true
	   },
	   "outputs": [],
"source": [
"// Calculate the change in del_f required to increase nucleation rate\n",
"clc\n",
"T= 300 // temperature in kelvin\n",
"R = 8.314 // universal gas constant\n",
"k = 2.303 // conversion factor\n",
"a1 = 1e42\n",
"a2 = 1e6 // nucleation rate\n",
"a3 = 1e10 // nucleation rate\n",
"printf('Example 9.2')\n",
"I1 = (log10(a1)-log10(a2))*k*R*T // exponent factor\n",
"I2 = (log10(a1)-log10(a3))*k*R*T// exponent factor\n",
"del_f = I1-I2 // difference \n",
"a = 10^(log10(a3)-log10(a2))\n",
"\n",
"printf('\n  A change of %d KJ mol^-1 energy is required to increase nucleation factor from \n  %.0e m^-3 s^-1  to  %.0e m^-3 s^-1 ',ceil(del_f/1e3),a,a3)"
   ]
   }
,
{
		   "cell_type": "markdown",
		   "metadata": {},
		   "source": [
			"## Example 9.4: Calculate_delta_f_of_heterogeneous_as_a_fraction_of_delta_f_of_homogeneous.sce"
		   ]
		  },
  {
"cell_type": "code",
	   "execution_count": null,
	   "metadata": {
	    "collapsed": true
	   },
	   "outputs": [],
"source": [
"// Calculate del_f_het as a fraction of del_f_homo\n",
"clc\n",
"Gamma_alpha_del = 0.5 // in J m^-2\n",
"Gamma_alpha_beta = 0.5 // in J m^-2\n",
"Gamma_beta_del = 0.01 // in J m^-2\n",
"\n",
"printf('\n Example 9.4') \n",
"theta = acos((Gamma_alpha_del -Gamma_beta_del)/Gamma_alpha_beta)\n",
"del_f_ratio = 1/4*(2-3*cos(theta)+(cos(theta))^3)\n",
"\n",
"\n",
"printf('\n del_f_het is %0.4fth fraction of  del_f_homo.',del_f_ratio)\n",
""
   ]
   }
,
{
		   "cell_type": "markdown",
		   "metadata": {},
		   "source": [
			"## Example 9.6: Calculate_the_free_energy_change_during_recrystallization.sce"
		   ]
		  },
  {
"cell_type": "code",
	   "execution_count": null,
	   "metadata": {
	    "collapsed": true
	   },
	   "outputs": [],
"source": [
"// Calculate the free energy change during recrystallization\n",
"clc\n",
"mu = 45.5e9\n",
"b = 2.55e-10\n",
"n1 = 1e9 // initial dislocation density\n",
"n2 = 1e13 // final dislocation density\n",
"printf('\n Example 9.6') \n",
"E = 1/2*mu*b^2*n2\n",
"del_g = E // as difference between initial and final dislocation energy is four order magnitude\n",
"printf('\n Free energy change during recrystallization is %d J m^-3',-del_g)\n",
"// Numerical value of answer in book is 14800\n",
""
   ]
   }
],
"metadata": {
		  "kernelspec": {
		   "display_name": "Scilab",
		   "language": "scilab",
		   "name": "scilab"
		  },
		  "language_info": {
		   "file_extension": ".sce",
		   "help_links": [
			{
			 "text": "MetaKernel Magics",
			 "url": "https://github.com/calysto/metakernel/blob/master/metakernel/magics/README.md"
			}
		   ],
		   "mimetype": "text/x-octave",
		   "name": "scilab",
		   "version": "0.7.1"
		  }
		 },
		 "nbformat": 4,
		 "nbformat_minor": 0
}
