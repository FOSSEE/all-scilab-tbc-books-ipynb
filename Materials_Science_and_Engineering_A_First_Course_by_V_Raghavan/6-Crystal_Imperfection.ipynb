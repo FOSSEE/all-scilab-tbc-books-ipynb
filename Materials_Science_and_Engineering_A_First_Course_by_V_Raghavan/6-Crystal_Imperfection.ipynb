{
"cells": [
 {
		   "cell_type": "markdown",
	   "metadata": {},
	   "source": [
       "# Chapter 6: Crystal Imperfection"
	   ]
	},
{
		   "cell_type": "markdown",
		   "metadata": {},
		   "source": [
			"## Example 6.1: Find_equilibrium_concentration_of_vacancies_in_metals_at_given_temperature.sce"
		   ]
		  },
  {
"cell_type": "code",
	   "execution_count": null,
	   "metadata": {
	    "collapsed": true
	   },
	   "outputs": [],
"source": [
"// Find equilibrium concentration of vacancies in metals at given temperature\n",
"clc\n",
"t1 = 0 // temperature in kelvin\n",
"t2 = 300 // temperature in kelvin\n",
"t3 = 900// temperature in kelvin\n",
"R = 8.314 // universal gas constant\n",
"del_hf_al = 68 // Enthalpy of formation of aluminium crystal in KJ\n",
"del_hf_ni = 168 // Enthalpy of formation of nickel crystal in KJ\n",
"printf('\n Example 6.1')\n",
"\n",
"printf('\n Equilibrium concentration of vacancies of aluminium at %dK is 0',t1)\n",
"n_N = exp(-del_hf_al*1e3/(R*t2))\n",
"printf('\n Equilibrium concentration of vacancies of aluminium at %dK is %.2e',t2,n_N) // answer in book is 1.45e-12\n",
"n_N = exp(-del_hf_al*1e3/(R*t3))\n",
"printf('\n Equilibrium concentration of vacancies of aluminium at %dK is %.2e',t3,n_N) // answer in book is 1.12e-4\n",
"\n",
"printf('\n\n Equilibrium concentration of vacancies of Nickel at %dK is 0',t1) \n",
"n_N = exp(-del_hf_ni*1e3/(R*t2))\n",
"printf('\n Equilibrium concentration of vacancies of Nickel at %dK is %.2e',t2,n_N)\n",
"n_N = exp(-del_hf_ni*1e3/(R*t3))\n",
"printf('\n Equilibrium concentration of vacancies of Nickel at %dK is %.2e',t3,n_N) // answer in book is 1.78e-10\n",
""
   ]
   }
,
{
		   "cell_type": "markdown",
		   "metadata": {},
		   "source": [
			"## Example 6.2: Compute_the_line_energy_of_dislocation.sce"
		   ]
		  },
  {
"cell_type": "code",
	   "execution_count": null,
	   "metadata": {
	    "collapsed": true
	   },
	   "outputs": [],
"source": [
"// Compute the line energy of dislocation\n",
"clc\n",
"a = 2.87 // lattice parameter in angstrom\n",
"b= 2.49 // magnitude of burgers vector in angstrom\n",
"G = 80.2 // shear modulus in GN\n",
"printf('\n Example 6.2')\n",
"E = G*1e9*(b*1e-10)^2*1/2 \n",
"printf('\n Line energy of dislocation is %.2e J m^-1',E)\n",
""
   ]
   }
,
{
		   "cell_type": "markdown",
		   "metadata": {},
		   "source": [
			"## Example 6.4: Calculation_of_down_climb_of_crystal_on_heating.sce"
		   ]
		  },
  {
"cell_type": "code",
	   "execution_count": null,
	   "metadata": {
	    "collapsed": true
	   },
	   "outputs": [],
"source": [
"// calculation of down climb of crystal on heating\n",
"clc\n",
"a = 1e10// total number of edge dislocation \n",
"N = 6.023e23 // Avogadro number\n",
"R = 8.314 // Universal gas constant\n",
"t1 = 0 // initial temperature in K\n",
"t2 = 1000 // Final temperature in K\n",
"del_hf = 100 // Enthalpy of vacancy formation in KJ\n",
"d = 2 // length of one step in angstrom\n",
"v = 5.5e-6 // volume of one mole crystal\n",
"printf('\n Example 6.4')\n",
"n = N*exp(-(del_hf*1e3)/(R*(t2-t1)))/v\n",
"k = 1/(d*1e-10) // atoms required for 1 m climb\n",
"b = n/(k*a)// average amount of climb\n",
"c = b*d*1e-10\n",
"\n",
"printf('\n Average down climb of crystal is %.2em',c)\n",
""
   ]
   }
,
{
		   "cell_type": "markdown",
		   "metadata": {},
		   "source": [
			"## Example 6.5: Calculate_surface_energy_of_copper_crystal_of_type_111.sce"
		   ]
		  },
  {
"cell_type": "code",
	   "execution_count": null,
	   "metadata": {
	    "collapsed": true
	   },
	   "outputs": [],
"source": [
"// Calculate surface energy of copper crystal of type {111}\n",
"clc\n",
"E = 56.4 // bond energy in KJ\n",
"N_a = 6.023e23 // Avogadro’s number\n",
"n = 12 // number of bonds\n",
"m = 3 // number of broken bonds \n",
"N = 1.77e19 // number of atoms in copper crystal of type {111} per m^2\n",
"printf('\n Example 6.5')\n",
"b_e = 1/2*E*1e3*n/N_a // bond energy per atom\n",
"e_b = b_e*m/n // energy of broken bond at surface\n",
"s_e = e_b*N // surface enthalpy of copper\n",
"printf('\n Surface enthalpy of copper is %0.2f J m^-2',s_e)\n",
"printf('\n Surface enthalpy of copper is %d erg cm^-2',s_e*1e3)\n",
"// Answer in book is 2490 erg cm^-2\n",
""
   ]
   }
,
{
		   "cell_type": "markdown",
		   "metadata": {},
		   "source": [
			"## Example 6.6: Compute_the_angle_at_the_bottom_of_groove_of_a_boundary.sce"
		   ]
		  },
  {
"cell_type": "code",
	   "execution_count": null,
	   "metadata": {
	    "collapsed": true
	   },
	   "outputs": [],
"source": [
"// Compute the angle at the bottom of groove of a boundary\n",
"clc\n",
"Gamma_gb = 1 // let, energy of grain boundary\n",
"Gamma_s = 3* Gamma_gb// energy of free surface\n",
"printf('\n Example 6.6')\n",
"theta = 2*acos(1/2*Gamma_gb/Gamma_s)\n",
"printf('\n Angle at the bottom of groove of a boundary is %d degrees.',ceil(theta*180/%pi))\n",
""
   ]
   }
],
"metadata": {
		  "kernelspec": {
		   "display_name": "Scilab",
		   "language": "scilab",
		   "name": "scilab"
		  },
		  "language_info": {
		   "file_extension": ".sce",
		   "help_links": [
			{
			 "text": "MetaKernel Magics",
			 "url": "https://github.com/calysto/metakernel/blob/master/metakernel/magics/README.md"
			}
		   ],
		   "mimetype": "text/x-octave",
		   "name": "scilab",
		   "version": "0.7.1"
		  }
		 },
		 "nbformat": 4,
		 "nbformat_minor": 0
}
