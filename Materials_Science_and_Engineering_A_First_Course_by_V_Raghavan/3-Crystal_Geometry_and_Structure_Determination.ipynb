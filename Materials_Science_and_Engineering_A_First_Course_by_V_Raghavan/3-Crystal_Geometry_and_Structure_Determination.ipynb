{
"cells": [
 {
		   "cell_type": "markdown",
	   "metadata": {},
	   "source": [
       "# Chapter 3: Crystal Geometry and Structure Determination"
	   ]
	},
{
		   "cell_type": "markdown",
		   "metadata": {},
		   "source": [
			"## Example 3.2: Calculate_effective_number_of_lattice_point_in_three_cubic_space_lattice.sce"
		   ]
		  },
  {
"cell_type": "code",
	   "execution_count": null,
	   "metadata": {
	    "collapsed": true
	   },
	   "outputs": [],
"source": [
"// Calculate effective number of lattice point in three cubic space lattice\n",
"clc\n",
"sc_n = 1/8 // sharing of one lattice point in a unit cell\n",
"sc_N = 8 // Number of lattice points in Simple cubic \n",
"bcc_n_e = 1/4// sharing of one edge lattice point in a BCC \n",
"bcc_N_e = 4// Number of edge lattice point in a BCC \n",
"bcc_n_c  = 1// sharing of one body center lattice point in a BCC \n",
"bcc_N_c = 1// Number of body center lattice point in a BCC \n",
"fcc_n_e = 1/8 // sharing of one corner lattice point in a FCC \n",
"fcc_N_e = 8// Number of corner lattice point in a FCC \n",
"fcc_n_f = 1/2 // sharing of one face center lattice point in a FCC \n",
"fcc_N_f = 6// Number of face center lattice point in a FCC \n",
"printf('\n Example 3.2 ')\n",
"sc_net = sc_n*sc_N\n",
"bcc_net = bcc_n_e*bcc_N_e+bcc_n_c*bcc_N_c\n",
"fcc_net = fcc_n_e*fcc_N_e+fcc_n_f*fcc_N_f\n",
"printf('\n Effective number of lattice points are as:')\n",
"printf('\n\n Space lattice \t Abbreviation \t Effective number of lattice point in unit cell \n')\n",
"printf('\n Simple cubic \t\tSC \t\t\t\t %d\n Body center cubic\tBCC \t\t\t\t %d\n Face centered cubic\tFCC \t\t\t\t %d ',sc_net,bcc_net,fcc_net)\n",
""
   ]
   }
,
{
		   "cell_type": "markdown",
		   "metadata": {},
		   "source": [
			"## Example 3.7: Determine_interplanar_spacing_and_miller_indices.sce"
		   ]
		  },
  {
"cell_type": "code",
	   "execution_count": null,
	   "metadata": {
	    "collapsed": true
	   },
	   "outputs": [],
"source": [
"//  Determine Interplanar spacing and miller indices\n",
"clc\n",
"a = 3.16 // lattice parameter in angstrom\n",
"l1 = 1 // line number\n",
"l2 = 2 // line number\n",
"l3 = 3 // line number\n",
"l4 = 4 // line number\n",
"theta1 = 20.3 // angle for line 1\n",
"theta2 = 29.2// angle for line 2\n",
"theta3 = 36.7// angle for line 3\n",
"theta4 = 43.6// angle for line 4\n",
"n = 1 // order \n",
"lambda = 1.54 // wavelength in angstrom\n",
"printf('\n Example 3.7')\n",
"d1 = lambda/(2*sin(theta1*%pi/180))\n",
"d2 = lambda/(2*sin(theta2*%pi/180))\n",
"d3 = lambda/(2*sin(theta3*%pi/180))\n",
"d4 = lambda/(2*sin(theta4*%pi/180))\n",
"x1 = a^2/d1^2  \n",
"x2 = a^2/d2^2  \n",
"x3 = a^2/d3^2  \n",
"x4 = a^2/d4^2 // where x is function of h,k and l\n",
"printf('\n Interplanar spacing is  %.3f angstrom ',x1) // answer in book is 2.220 angstrom\n",
"if  floor(x1) == 2 then\n",
"    printf('\n\n For a^2/d^2 = %d \t Reflection plane is {110}',x1)\n",
"end\n",
"\n",
"if floor(x2) == 4 then\n",
"        printf('\n For a^2/d^2 = %d \t Reflection plane is {200}',x2)\n",
"end\n",
"\n",
" if floor(x3) == 6 then\n",
"    printf('\n For a^2/d^2 = %d \t Reflection plane is {211}',x3) \n",
"end\n",
"\n",
" if floor(x4) == 8 then\n",
"    printf('\n For a^2/d^2 = %d \t Reflection plane is {220}',x4) \n",
"end\n",
""
   ]
   }
,
{
		   "cell_type": "markdown",
		   "metadata": {},
		   "source": [
			"## Example 3.8: Determine_structure_and_lattice_parameter_of_material.sce"
		   ]
		  },
  {
"cell_type": "code",
	   "execution_count": null,
	   "metadata": {
	    "collapsed": true
	   },
	   "outputs": [],
"source": [
"// Determine structure and lattice parameter of material\n",
"clc\n",
"d = 114.6 // diameter of power camera in angstrom\n",
"lambda = 1.54 // wavelength in angstrom\n",
"s1 = 86\n",
"s2 = 100\n",
"s3 = 148\n",
"s4 = 180\n",
"s5 = 188\n",
"s6 = 232 \n",
"s7 = 272\n",
"printf('\n Example 3.8')\n",
"R = d/2      // Radius \n",
"if R==57.3 then\n",
"    k = 1/4 // Bragg angle factor\n",
"end\n",
"a1 = (sin(s1*k*%pi/180))^2\n",
"a2 = (sin(s2*k*%pi/180))^2\n",
"a3 = (sin(s3*k*%pi/180))^2\n",
"a4 = (sin(s4*k*%pi/180))^2\n",
"a5 = (sin(s5*k*%pi/180))^2\n",
"a6 = (sin(s6*k*%pi/180))^2\n",
"a7 = (sin(s7*k*%pi/180))^2\n",
"c = 22 // constant to convert into integral number\n",
"\n",
"printf('\n Within experimental error, values are as in integral ratio are as: \n %d:%d:%d:%d:%d:%d:%d',ceil(c*a1),ceil(c*a2),ceil(c*a3),ceil(c*a4),ceil(c*a5),ceil(c*a6),ceil(c*a7))\n",
"printf('\n So, this structure is FCC and material is copper with 3.62 angstrom lattice parameter')\n",
""
   ]
   }
],
"metadata": {
		  "kernelspec": {
		   "display_name": "Scilab",
		   "language": "scilab",
		   "name": "scilab"
		  },
		  "language_info": {
		   "file_extension": ".sce",
		   "help_links": [
			{
			 "text": "MetaKernel Magics",
			 "url": "https://github.com/calysto/metakernel/blob/master/metakernel/magics/README.md"
			}
		   ],
		   "mimetype": "text/x-octave",
		   "name": "scilab",
		   "version": "0.7.1"
		  }
		 },
		 "nbformat": 4,
		 "nbformat_minor": 0
}
