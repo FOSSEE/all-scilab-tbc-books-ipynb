{
"cells": [
 {
		   "cell_type": "markdown",
	   "metadata": {},
	   "source": [
       "# Chapter 13: Oxidation and Corrosion"
	   ]
	},
{
		   "cell_type": "markdown",
		   "metadata": {},
		   "source": [
			"## Example 13.2: Calculation_of_required_quantity_of_magnesium.sce"
		   ]
		  },
  {
"cell_type": "code",
	   "execution_count": null,
	   "metadata": {
	    "collapsed": true
	   },
	   "outputs": [],
"source": [
"// Calculation of required quantity of magnesium\n",
"clc\n",
"j = 15 // current density in mA m^-2\n",
"m = 0.0243 // molar mass of magnesium\n",
"F = 96490 // farad charge\n",
"n = 2 // charge on ion\n",
"t = 10 // time in years\n",
"printf('\n Example 13.2')\n",
"a = m*j*1e-3*(t*365*24*3600)/(n*F)\n",
"printf('\n Amount of magnesium required is %0.1f kg m^-2',a)"
   ]
   }
],
"metadata": {
		  "kernelspec": {
		   "display_name": "Scilab",
		   "language": "scilab",
		   "name": "scilab"
		  },
		  "language_info": {
		   "file_extension": ".sce",
		   "help_links": [
			{
			 "text": "MetaKernel Magics",
			 "url": "https://github.com/calysto/metakernel/blob/master/metakernel/magics/README.md"
			}
		   ],
		   "mimetype": "text/x-octave",
		   "name": "scilab",
		   "version": "0.7.1"
		  }
		 },
		 "nbformat": 4,
		 "nbformat_minor": 0
}
