{
"cells": [
 {
		   "cell_type": "markdown",
	   "metadata": {},
	   "source": [
       "# Chapter 15: Semiconductors"
	   ]
	},
{
		   "cell_type": "markdown",
		   "metadata": {},
		   "source": [
			"## Example 15.1: Calculate_intrinsic_carrier_density.sce"
		   ]
		  },
  {
"cell_type": "code",
	   "execution_count": null,
	   "metadata": {
	    "collapsed": true
	   },
	   "outputs": [],
"source": [
"// Calculate intrinsic carrier density\n",
"clc\n",
"rho = 3000 // resistivity in ohm m\n",
"mu_e = 0.14\n",
"mu_h = 0.05 \n",
"e = 1.602e-19 // charge on electron\n",
"printf('\n Example 15.1')\n",
"sigma = 1/rho\n",
"n = sigma/((mu_e+mu_h)*e)\n",
"printf('\n Intrinsic carrier density is %.3e m^-3',n)"
   ]
   }
],
"metadata": {
		  "kernelspec": {
		   "display_name": "Scilab",
		   "language": "scilab",
		   "name": "scilab"
		  },
		  "language_info": {
		   "file_extension": ".sce",
		   "help_links": [
			{
			 "text": "MetaKernel Magics",
			 "url": "https://github.com/calysto/metakernel/blob/master/metakernel/magics/README.md"
			}
		   ],
		   "mimetype": "text/x-octave",
		   "name": "scilab",
		   "version": "0.7.1"
		  }
		 },
		 "nbformat": 4,
		 "nbformat_minor": 0
}
