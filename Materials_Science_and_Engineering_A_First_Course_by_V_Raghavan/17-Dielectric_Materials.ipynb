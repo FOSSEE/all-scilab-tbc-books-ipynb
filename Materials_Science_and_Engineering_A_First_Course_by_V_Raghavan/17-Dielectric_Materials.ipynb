{
"cells": [
 {
		   "cell_type": "markdown",
	   "metadata": {},
	   "source": [
       "# Chapter 17: Dielectric Materials"
	   ]
	},
{
		   "cell_type": "markdown",
		   "metadata": {},
		   "source": [
			"## Example 17.1: Calculation_of_relative_dielectric_constant.sce"
		   ]
		  },
  {
"cell_type": "code",
	   "execution_count": null,
	   "metadata": {
	    "collapsed": true
	   },
	   "outputs": [],
"source": [
"// calculation of relative dielectric constant\n",
"clc\n",
"l= 10// length of capacitor in mm\n",
"b = 10 // width of capacitor in mm\n",
"d = 2 // distance of separation in mm\n",
"c = 1e-9 // capacitance in farad\n",
"epsilon_0 = 8.85e-12 // permittivity of free space\n",
"printf('\n Example 17.1')\n",
"epsilon_r = c*d*1e-3/(epsilon_0*l*1e-3*b*1e-3)\n",
"\n",
"printf('\n Relative dielectric constant is %d',epsilon_r)\n",
""
   ]
   }
,
{
		   "cell_type": "markdown",
		   "metadata": {},
		   "source": [
			"## Example 17.2: Calculate_the_polarization_of_a_BaTio3_crystal.sce"
		   ]
		  },
  {
"cell_type": "code",
	   "execution_count": null,
	   "metadata": {
	    "collapsed": true
	   },
	   "outputs": [],
"source": [
"// calculate the polarization of a BaTio3 crystal\n",
"clc\n",
"Ti_shift= 0.06 // shift of TI ion in angstrom\n",
"O_shift = 0.06 // shift of oxygen ion of side face in angstrom\n",
"o_shift = 0.08 //shift of oxygen ion of top and bottom faces in angstrom\n",
"O_charge  = 2 // unit charge on oxygen ion of side face\n",
"o_charge  = 2 // unit charge on oxygen ion of top and bottom faces\n",
"Ti_charge  = 4 // unit charge on titanium ion \n",
"n_O = 2 // number of oxygen ion of side face\n",
"n_o = 1 // number of oxygen ion of top and bottom face\n",
"n_Ti = 1 // number of titanium ion \n",
"e = 1.6e-19 // amount of one unit charge in coulomb\n",
"printf('\n Example 17.2')\n",
"p_Ti = n_Ti*Ti_charge *e*Ti_shift*1e-10\n",
"p_O = n_O*O_charge*e*O_shift*1e-10\n",
"p_o = n_o*o_charge*e*o_shift*1e-10\n",
"Total = p_Ti+p_O+p_o\n",
"P = Total/(4.03*3.98^2*1e-30)\n",
"printf('\n Polarization of BaTiO3 crystal is %.2f Cm^-2 ', P)\n",
""
   ]
   }
],
"metadata": {
		  "kernelspec": {
		   "display_name": "Scilab",
		   "language": "scilab",
		   "name": "scilab"
		  },
		  "language_info": {
		   "file_extension": ".sce",
		   "help_links": [
			{
			 "text": "MetaKernel Magics",
			 "url": "https://github.com/calysto/metakernel/blob/master/metakernel/magics/README.md"
			}
		   ],
		   "mimetype": "text/x-octave",
		   "name": "scilab",
		   "version": "0.7.1"
		  }
		 },
		 "nbformat": 4,
		 "nbformat_minor": 0
}
