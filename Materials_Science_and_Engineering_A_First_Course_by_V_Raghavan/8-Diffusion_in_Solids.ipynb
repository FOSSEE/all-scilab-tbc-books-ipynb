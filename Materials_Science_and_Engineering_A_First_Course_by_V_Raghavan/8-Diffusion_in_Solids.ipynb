{
"cells": [
 {
		   "cell_type": "markdown",
	   "metadata": {},
	   "source": [
       "# Chapter 8: Diffusion in Solids"
	   ]
	},
{
		   "cell_type": "markdown",
		   "metadata": {},
		   "source": [
			"## Example 8.1: Calculate_the_rate_at_which_hydrogen_escapes_through_the_walls_of_the_steel_tank.sce"
		   ]
		  },
  {
"cell_type": "code",
	   "execution_count": null,
	   "metadata": {
	    "collapsed": true
	   },
	   "outputs": [],
"source": [
"// calculate the rate at which hydrogen escapes through the walls of the steel tank\n",
"clc\n",
"t = 5 // thickness in mm\n",
"c = 10 // concentration\n",
"D = 1e-9 // diffusion coefficient\n",
"printf('\n Example 8.1')\n",
"j  = D*c/(t*1e-3)\n",
"printf('\n Outward flux is %.0e kg m^-2 s^-1',j)\n",
""
   ]
   }
,
{
		   "cell_type": "markdown",
		   "metadata": {},
		   "source": [
			"## Example 8.2: Calculate_maximum_time_till_which_material_can_be_kept_at_550_degree_Celsius.sce"
		   ]
		  },
  {
"cell_type": "code",
	   "execution_count": null,
	   "metadata": {
	    "collapsed": true
	   },
	   "outputs": [],
"source": [
"// Calculate maximum time till which material can be kept at 550 degree Celsius\n",
"clc\n",
"D_0 = 0.24e-4 // diffusion coefficient\n",
"Q = 121e3\n",
"R = 8.314// Universal gas constant\n",
"T = 550 // temperature in Celsius\n",
"k = 0.2 // thickness of pure Al sheet in mm\n",
"d = 0.1 // penetration depth in mm\n",
"c_x = 0.4 // concentration in percentage\n",
"A  = 2 // Constant in percentage\n",
"B = 2// Constant in percentage\n",
"printf('\n Example 8.2')\n",
"x = d-k\n",
"D_cu_al = D_0*exp(-Q/(R*(T+273))) \n",
"k = (A-c_x)/B\n",
"if k ==0.8 then\n",
"    z = 0.9 // from table\n",
"end\n",
"t = (x*1e-3)^2/(z^2*4*D_cu_al)// time in sec\n",
"\n",
"printf('\n Material can be kept at %d degree Celsius for nearly %d minute',T,t/60)// answer in book is 100 min\n",
""
   ]
   }
,
{
		   "cell_type": "markdown",
		   "metadata": {},
		   "source": [
			"## Example 8.3: Calculate_minimum_depth_up_to_which_post_machining_is_to_be_done.sce"
		   ]
		  },
  {
"cell_type": "code",
	   "execution_count": null,
	   "metadata": {
	    "collapsed": true
	   },
	   "outputs": [],
"source": [
"// Calculate minimum depth up to which post machining is to be done\n",
"clc\n",
"D_0 = 0.7e-4 // diffusion coefficient\n",
"Q = 157 // Energy in kJ mol^-1, considered from table 8.2\n",
"R = 8.314// Universal gas constant\n",
"T = 950 // temperature in Celsius\n",
"c2 = 0.8 // concentration in percentage\n",
"cs = 0 // concentration in percentage\n",
"c_x = 0.6// concentration in percentage\n",
"t = 4 // time in hours\n",
"a = 1 //let\n",
"printf('\n Example 8.3')\n",
"A = cs\n",
"B = c2-cs \n",
"D = D_0*exp(-Q*1e3/(R*(T+273)))\n",
"k = erf(((A-c_x)/B))*-1\n",
"if k >0.7 then\n",
"    if k<0.712 then\n",
"           z = 0.81 // from table\n",
"    end\n",
" \n",
"end\n",
"x = z*2*sqrt(D*t*3600)\n",
"\n",
"printf('\n Depth up to which machining is required is nearly %.2f mm',x*1e3)\n",
"// numerical value of answer in book is 0.75\n",
""
   ]
   }
,
{
		   "cell_type": "markdown",
		   "metadata": {},
		   "source": [
			"## Example 8.4: Calculate_time_required_to_get_required_boron_concentration.sce"
		   ]
		  },
  {
"cell_type": "code",
	   "execution_count": null,
	   "metadata": {
	    "collapsed": true
	   },
	   "outputs": [],
"source": [
"// Calculate time required to get required boron concentration\n",
"clc\n",
"D = 4e-17 // diffusion coefficient\n",
"c1 = 0\n",
"cs = 3e26\n",
"c_x = 1e23 // number of atoms\n",
"x = 2e-6 // depth in m\n",
"printf('\n Example 8.4')\n",
"A = cs\n",
"B = cs - c1\n",
"k = (A-c_x)/B\n",
"if k >0.99966 then\n",
"    if k< 0.9997 then\n",
"        z = 2.55 // from table\n",
"    end\n",
"end\n",
"t = x^2/(z^2*4*D)// time in sec\n",
"\n",
"printf('\n Time required to get required boron concentration is %d sec',t)// answer in book is 3845 sec\n",
""
   ]
   }
,
{
		   "cell_type": "markdown",
		   "metadata": {},
		   "source": [
			"## Example 8.5: Calculate_ratio_of_cross_sectional_areas.sce"
		   ]
		  },
  {
"cell_type": "code",
	   "execution_count": null,
	   "metadata": {
	    "collapsed": true
	   },
	   "outputs": [],
"source": [
"// Calculate ratio of cross sectional areas\n",
"clc\n",
"r = 10 // radius in mm\n",
"t = 4 // thickness in angstrom\n",
"printf('\n Example 8.5')\n",
"r = 2*%pi*r*1e-3*t*1e-10/(%pi*(r*1e-3)^2)\n",
"printf('\n Ratio of cross sectional areas is %.0e ',r)\n",
""
   ]
   }
],
"metadata": {
		  "kernelspec": {
		   "display_name": "Scilab",
		   "language": "scilab",
		   "name": "scilab"
		  },
		  "language_info": {
		   "file_extension": ".sce",
		   "help_links": [
			{
			 "text": "MetaKernel Magics",
			 "url": "https://github.com/calysto/metakernel/blob/master/metakernel/magics/README.md"
			}
		   ],
		   "mimetype": "text/x-octave",
		   "name": "scilab",
		   "version": "0.7.1"
		  }
		 },
		 "nbformat": 4,
		 "nbformat_minor": 0
}
