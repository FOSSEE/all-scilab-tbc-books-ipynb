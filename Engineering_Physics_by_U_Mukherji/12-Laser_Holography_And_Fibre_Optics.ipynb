{
"cells": [
 {
		   "cell_type": "markdown",
	   "metadata": {},
	   "source": [
       "# Chapter 12: Laser Holography And Fibre Optics"
	   ]
	},
{
		   "cell_type": "markdown",
		   "metadata": {},
		   "source": [
			"## Example 12.1: normalised_frequency_and_guided_modes.sce"
		   ]
		  },
  {
"cell_type": "code",
	   "execution_count": null,
	   "metadata": {
	    "collapsed": true
	   },
	   "outputs": [],
"source": [
"//chapter12,Example12_1,pg 357\n",
"\n",
"n1=1.53//refractive index\n",
"\n",
"n2=1.5\n",
"\n",
"lam=1*10^-6//wavelength\n",
"\n",
"a=50*10^-6\n",
"\n",
"NA=sqrt((n1^2)-(n2^2))\n",
"\n",
"V=((2*%pi*a)*NA)/lam\n",
"\n",
"printf('normalised frequency\n')\n",
"\n",
"printf('V=%.2f ',V)\n",
"\n",
"M=(V^2)/2\n",
"\n",
"printf('\ntotal no. of guided mode\n')\n",
"\n",
"printf('M=%.2f',M)"
   ]
   }
,
{
		   "cell_type": "markdown",
		   "metadata": {},
		   "source": [
			"## Example 12.2: find_core_radius.sce"
		   ]
		  },
  {
"cell_type": "code",
	   "execution_count": null,
	   "metadata": {
	    "collapsed": true
	   },
	   "outputs": [],
"source": [
"//chapter12,Example12_2,pg 357\n",
"\n",
"lam=1*10^-6//wavelength\n",
"\n",
"n1=1.53\n",
"\n",
"n2=1.5\n",
"\n",
"NA=sqrt((n1^2)-(n2^2))\n",
"\n",
"a=(2.405*lam)/(2*%pi*NA)\n",
"\n",
"printf('core radius\n')\n",
"\n",
"printf('a=%.8f m',a)"
   ]
   }
,
{
		   "cell_type": "markdown",
		   "metadata": {},
		   "source": [
			"## Example 12.3: calculate_relative_change_in_core_cladding_RI.sce"
		   ]
		  },
  {
"cell_type": "code",
	   "execution_count": null,
	   "metadata": {
	    "collapsed": true
	   },
	   "outputs": [],
"source": [
"//chapter12,Example12_3,pg 357\n",
"\n",
"NA=0.5\n",
"\n",
"n1=1.54\n",
"\n",
"n2=sqrt((n1^2)-(NA^2))\n",
"\n",
"printf('refractive index of cladding\n')\n",
"\n",
"printf('n2=%.2f ',n2)\n",
"\n",
"n=(n1-n2)/n1//relative change in refractive index of core\n",
"\n",
"printf('\nrelative change refractive index of core\n')\n",
"\n",
"printf('n=%.2f ',n)"
   ]
   }
,
{
		   "cell_type": "markdown",
		   "metadata": {},
		   "source": [
			"## Example 12.4: find_cladding_RI_and_acceptance_angle.sce"
		   ]
		  },
  {
"cell_type": "code",
	   "execution_count": null,
	   "metadata": {
	    "collapsed": true
	   },
	   "outputs": [],
"source": [
"//chapter12,Example12_4,pg 358\n",
"\n",
"NA=0.5\n",
"\n",
"n1=1.48\n",
"\n",
"n2=sqrt((n1^2)-(NA^2))\n",
"\n",
"printf('refractive index of cladding\n')\n",
"\n",
"printf('n2=%.2f ',n2)\n",
"\n",
"alpha=asin(NA)\n",
"\n",
"alpha=alpha*(180/%pi)\n",
"\n",
"printf('\nacceptance angle\n')\n",
"\n",
"printf('alpha=%.2f deg',alpha)"
   ]
   }
],
"metadata": {
		  "kernelspec": {
		   "display_name": "Scilab",
		   "language": "scilab",
		   "name": "scilab"
		  },
		  "language_info": {
		   "file_extension": ".sce",
		   "help_links": [
			{
			 "text": "MetaKernel Magics",
			 "url": "https://github.com/calysto/metakernel/blob/master/metakernel/magics/README.md"
			}
		   ],
		   "mimetype": "text/x-octave",
		   "name": "scilab",
		   "version": "0.7.1"
		  }
		 },
		 "nbformat": 4,
		 "nbformat_minor": 0
}
