{
"cells": [
 {
		   "cell_type": "markdown",
	   "metadata": {},
	   "source": [
       "# Chapter 5: Acoustics"
	   ]
	},
{
		   "cell_type": "markdown",
		   "metadata": {},
		   "source": [
			"## Example 5.1: find_absorption_coefficient.sce"
		   ]
		  },
  {
"cell_type": "code",
	   "execution_count": null,
	   "metadata": {
	    "collapsed": true
	   },
	   "outputs": [],
"source": [
"//chapter5,Example5_1,pg 97\n",
"\n",
"T1=1.5\n",
"\n",
"T2=1\n",
"\n",
"A=20\n",
"\n",
"V=10*8*6\n",
"\n",
"a=((0.161*V)/(2*A))*((1/T2)-(1/T1))\n",
"\n",
"printf('absorption coefficient\n')\n",
"\n",
"printf('a=%.3f Sabines',a)"
   ]
   }
,
{
		   "cell_type": "markdown",
		   "metadata": {},
		   "source": [
			"## Example 5.2: find_area_of_wall_covered_by_curtain.sce"
		   ]
		  },
  {
"cell_type": "code",
	   "execution_count": null,
	   "metadata": {
	    "collapsed": true
	   },
	   "outputs": [],
"source": [
"//chapter5,Example5_2,pg 97\n",
"\n",
"V=3000\n",
"\n",
"T1=3.5//reverberation time\n",
"\n",
"A=(0.161*V)/T1\n",
"\n",
"l=20\n",
"\n",
"b=15\n",
"\n",
"h=10\n",
"\n",
"S=2*((l*b)+(b*h)+(h*l))\n",
"\n",
"sum_a=A/S\n",
"\n",
"am=0.5\n",
"\n",
"a=0.106\n",
"\n",
"T2=2.5//reverberation time after cloth use\n",
"\n",
"S1=(((0.161*V)/(am-a))*((1/T2)-(1/T1)))\n",
"\n",
"printf('area of wall covered by curtain cloth\n')\n",
"\n",
"printf('S1=%.3f sq.m',S1)"
   ]
   }
,
{
		   "cell_type": "markdown",
		   "metadata": {},
		   "source": [
			"## Example 5.3: find_reverberation_time.sce"
		   ]
		  },
  {
"cell_type": "code",
	   "execution_count": null,
	   "metadata": {
	    "collapsed": true
	   },
	   "outputs": [],
"source": [
"//chapter5,Example5_3,pg 98\n",
"\n",
"V=1450\n",
"\n",
"A1=112*0.03//absorption due to plastered wall\n",
"\n",
"A2=130*0.06//absorption due to wooden floor\n",
"\n",
"A3=170*0.04//absorption due to plastd. celing\n",
"\n",
"A4=20*0.06//absorption due to wooden door\n",
"\n",
"A5=100*1//absorption due to cushioned chairs\n",
"\n",
"sum_as=A1+A2+A3+A4+A5\n",
"\n",
"T1=(0.161*V)/sum_as//reverberation time case-1\n",
"\n",
"T2=(0.161*V)/(sum_as+(60*4.7))//persons=60,A=4.7  case-2\n",
"\n",
"T3=(0.161*V)/(sum_as+(100*4.7))//seat cushioned=100 rev. case-3\n",
"\n",
"printf('rev. time for case-1\n')\n",
"\n",
"printf('T1=%.3f sec',T1)\n",
"\n",
"printf('\nrev. time for case-2\n')\n",
"\n",
"printf('T2=%.3f sec',T2)\n",
"\n",
"printf('\nrev. time for case-3\n')\n",
"\n",
"printf('T3=%.3f sec',T3)"
   ]
   }
],
"metadata": {
		  "kernelspec": {
		   "display_name": "Scilab",
		   "language": "scilab",
		   "name": "scilab"
		  },
		  "language_info": {
		   "file_extension": ".sce",
		   "help_links": [
			{
			 "text": "MetaKernel Magics",
			 "url": "https://github.com/calysto/metakernel/blob/master/metakernel/magics/README.md"
			}
		   ],
		   "mimetype": "text/x-octave",
		   "name": "scilab",
		   "version": "0.7.1"
		  }
		 },
		 "nbformat": 4,
		 "nbformat_minor": 0
}
