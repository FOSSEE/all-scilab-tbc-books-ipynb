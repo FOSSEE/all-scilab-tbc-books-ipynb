{
"cells": [
 {
		   "cell_type": "markdown",
	   "metadata": {},
	   "source": [
       "# Chapter 1: Crystallography And Crystal Imperfection"
	   ]
	},
{
		   "cell_type": "markdown",
		   "metadata": {},
		   "source": [
			"## Example 1.1: density_of_metal.sce"
		   ]
		  },
  {
"cell_type": "code",
	   "execution_count": null,
	   "metadata": {
	    "collapsed": true
	   },
	   "outputs": [],
"source": [
"//chapter-1,Example1_1,pg 40\n",
"\n",
"n=4\n",
"\n",
"M=65.34\n",
"\n",
"N=6.023*10^23\n",
"\n",
"d111=2.08*10^-8//interplannar spacing\n",
"\n",
"a=d111*sqrt((1^2)+(1^2)+(1^2))\n",
"\n",
"D=(n*M)/(N*(a^3))\n",
"\n",
"printf('density of Cu-metal\n')\n",
"\n",
"printf('D=%.2f g/cc',D)"
   ]
   }
,
{
		   "cell_type": "markdown",
		   "metadata": {},
		   "source": [
			"## Example 1.2: find_intercepts_along_crystal_axis.sce"
		   ]
		  },
  {
"cell_type": "code",
	   "execution_count": null,
	   "metadata": {
	    "collapsed": true
	   },
	   "outputs": [],
"source": [
"//chapter-1,Example1_2,pg 40\n",
"\n",
"//miller plane 231\n",
"\n",
"a=1.2*10^-10\n",
"\n",
"b=1.8*10^-10\n",
"\n",
"c=2*10^-10//primitives of crystal\n",
"\n",
"//intercepts of ABC plane\n",
"\n",
"a1=a/2\n",
"\n",
"b1=b/3\n",
"\n",
"c1=c/1\n",
"\n",
"//intercept of ABC plane along X-axis =0.6*10^-10\n",
"\n",
"//ABC is not the reqd. plane\n",
"\n",
"//intercept of DEF plane parallel to ABC\n",
"\n",
"a2=a\n",
"\n",
"b2=(2*b)/3\n",
"\n",
"c2=2*c\n",
"\n",
"//miller indices for DEF\n",
"\n",
"//1:(3/2):(1/2)\n",
"\n",
"printf('intercept of DEF plane\n')\n",
"\n",
"printf('along x-axis=%.11f\n',a2)\n",
"\n",
"printf('along y-axis=%.11f\n',b2)\n",
"\n",
"printf('\nalong z-axis=%.11f',c2)\n",
"\n",
"printf('\nDEF is the reqd. plane')"
   ]
   }
],
"metadata": {
		  "kernelspec": {
		   "display_name": "Scilab",
		   "language": "scilab",
		   "name": "scilab"
		  },
		  "language_info": {
		   "file_extension": ".sce",
		   "help_links": [
			{
			 "text": "MetaKernel Magics",
			 "url": "https://github.com/calysto/metakernel/blob/master/metakernel/magics/README.md"
			}
		   ],
		   "mimetype": "text/x-octave",
		   "name": "scilab",
		   "version": "0.7.1"
		  }
		 },
		 "nbformat": 4,
		 "nbformat_minor": 0
}
