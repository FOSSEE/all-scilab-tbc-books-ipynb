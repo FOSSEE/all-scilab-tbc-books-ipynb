{
"cells": [
 {
		   "cell_type": "markdown",
	   "metadata": {},
	   "source": [
       "# Chapter 8: Interference Diffraction And Polarisation"
	   ]
	},
{
		   "cell_type": "markdown",
		   "metadata": {},
		   "source": [
			"## Example 8.10: calculate_change_in_thickness.sce"
		   ]
		  },
  {
"cell_type": "code",
	   "execution_count": null,
	   "metadata": {
	    "collapsed": true
	   },
	   "outputs": [],
"source": [
"//chapter8,Example8_10,pg 185\n",
"\n",
"//condition for dark fringe is 2*t=n*lam\n",
"\n",
"//refer to fig.(e) pg 185\n",
"\n",
"//but B=(lam/(2*alpha*u))\n",
"\n",
"//delt=alpha*x\n",
"\n",
"lam=6000*10^-8\n",
"\n",
"u=1.5\n",
"\n",
"delt=(10*lam)/(2*u)//alpha=lam/(2*B*u), B=x/10\n",
"\n",
"printf('difference t2-t1 from fig.\n')\n",
"\n",
"printf('delt=%.4f cm',delt)"
   ]
   }
,
{
		   "cell_type": "markdown",
		   "metadata": {},
		   "source": [
			"## Example 8.11: calculate_min_thickness_of_glass_plate.sce"
		   ]
		  },
  {
"cell_type": "code",
	   "execution_count": null,
	   "metadata": {
	    "collapsed": true
	   },
	   "outputs": [],
"source": [
"//chapter8,Example8_11,pg 185\n",
"\n",
"//condition for dark is 2*u*t*cos(r)=n*lam\n",
"\n",
"lam=5890*10^-8\n",
"\n",
"u=1.5\n",
"\n",
"r=60*(%pi/180)\n",
"\n",
"//for n=1\n",
"\n",
"t=(lam)/(2*u*cos(r))\n",
"\n",
"printf('smallest thickness of glass plate\n')\n",
"\n",
"printf('t=%.8f cm',t)"
   ]
   }
,
{
		   "cell_type": "markdown",
		   "metadata": {},
		   "source": [
			"## Example 8.12: position_of_brightest_and_darkest_spot.sce"
		   ]
		  },
  {
"cell_type": "code",
	   "execution_count": null,
	   "metadata": {
	    "collapsed": true
	   },
	   "outputs": [],
"source": [
"//chapter8,Example8_12,pg 193\n",
"\n",
"//for brightest spot R1=sqrt(b*lam)\n",
"\n",
"R1=0.05\n",
"\n",
"lam=5*10^-5\n",
"\n",
"bb=(R1^2)/lam//brightest spot\n",
"\n",
"//for darkest spot\n",
"\n",
"bd=(R1^2)/(2*lam)//darkest spot\n",
"\n",
"printf('position of brightest spot\n')\n",
"\n",
"printf('b=%.2f cm',bb)\n",
"\n",
"printf('\nposition of darkest spot\n')\n",
"\n",
"printf('b=%.2f cm',bd)"
   ]
   }
,
{
		   "cell_type": "markdown",
		   "metadata": {},
		   "source": [
			"## Example 8.13: zone_plate_for_point_source.sce"
		   ]
		  },
  {
"cell_type": "code",
	   "execution_count": null,
	   "metadata": {
	    "collapsed": true
	   },
	   "outputs": [],
"source": [
"//chapter8,Example8_13,pg 193\n",
"\n",
"lam=6000*10^-10\n",
"\n",
"b1=30//for m=1\n",
"\n",
"b2=6//for m=2\n",
"\n",
"//(1/b)-(1/a)=(n*lam)/(R1^2), b=b1,b2\n",
"\n",
"//from b1,b2 equations \n",
"\n",
"a=((5*b2)-(3*b1))/2\n",
"\n",
"R1=sqrt(lam/((1/b1)-(1/a)))\n",
"\n",
"F1=(R1^2)/lam\n",
"\n",
"printf('distance of source from zone plate\n')\n",
"\n",
"printf('a=%.2f cm',a)\n",
"\n",
"printf('\nradius of 1st zone plate\n')\n",
"\n",
"printf('R1=%.4f cm',R1)\n",
"\n",
"printf('\nprincipal focal length\n')\n",
"\n",
"printf('F1=%.2f cm',F1)"
   ]
   }
,
{
		   "cell_type": "markdown",
		   "metadata": {},
		   "source": [
			"## Example 8.14: wavelength_of_spectral_line.sce"
		   ]
		  },
  {
"cell_type": "code",
	   "execution_count": null,
	   "metadata": {
	    "collapsed": true
	   },
	   "outputs": [],
"source": [
"//chapter8,Example8_14,pg 209\n",
"\n",
"grat=1/1250//transmission grating\n",
"\n",
"n=2\n",
"\n",
"theta=30*(%pi/180)//deviation angle\n",
"\n",
"//(a+b)sin(theta)=n*lam\n",
"\n",
"//grat=(a+b)\n",
"\n",
"lam=(grat*sin(theta))/n//wavelength of spectral line\n",
"\n",
"printf('wavelength of spectral line\n')\n",
"\n",
"printf('lam=%.6f cm',lam)"
   ]
   }
,
{
		   "cell_type": "markdown",
		   "metadata": {},
		   "source": [
			"## Example 8.15: max_orders_visible.sce"
		   ]
		  },
  {
"cell_type": "code",
	   "execution_count": null,
	   "metadata": {
	    "collapsed": true
	   },
	   "outputs": [],
"source": [
"//chapter8,Example8_15,pg 209\n",
"\n",
"lam=5893*10^-8\n",
"\n",
"grat=2.54/2540//converting into cm\n",
"\n",
"//(a+b)=grat\n",
"\n",
"//(a+b)sin(theta)=n*lam\n",
"\n",
"//n=nmax, if sin(theta)=1\n",
"\n",
"nmax=(grat/lam)\n",
"\n",
"printf('maximum order\n')\n",
"\n",
"printf('nmax=%.2f ',nmax)\n",
"\n",
"printf('so maximum order=16\n')"
   ]
   }
,
{
		   "cell_type": "markdown",
		   "metadata": {},
		   "source": [
			"## Example 8.16: linear_separation_of_Na_lines.sce"
		   ]
		  },
  {
"cell_type": "code",
	   "execution_count": null,
	   "metadata": {
	    "collapsed": true
	   },
	   "outputs": [],
"source": [
"//chapter8,Example8_16,pg 209\n",
"\n",
"n=2\n",
"\n",
"grat=1/5000//transmission grating\n",
"\n",
"lam=5893*10^-8\n",
"\n",
"dtheta=(2.5*3.14)/(180*60)//change in angular displacement(in radian)\n",
"\n",
"//(a+b)=grat\n",
"\n",
"//dlam=((a+b)cos(theta)/n)dtheta\n",
"\n",
"cos(theta)=sqrt(1-(((n*lam)/grat)^2))\n",
"\n",
"dlam=(dtheta*grat*cos(theta))/n//difference in wavelength\n",
"\n",
"f=30//focal length\n",
"\n",
"dl=f*dtheta//linear separation\n",
"\n",
"printf('difference between two yellow lines (in cm)\n')\n",
"\n",
"disp(dlam)\n",
"\n",
"printf('\nlinear separation\n')\n",
"\n",
"printf('dl=%.4f cm',dl)"
   ]
   }
,
{
		   "cell_type": "markdown",
		   "metadata": {},
		   "source": [
			"## Example 8.17: linear_separation_of_spectra_lines.sce"
		   ]
		  },
  {
"cell_type": "code",
	   "execution_count": null,
	   "metadata": {
	    "collapsed": true
	   },
	   "outputs": [],
"source": [
"//chapter8,Example8_17,pg 210\n",
"\n",
"grat=1/6000\n",
"\n",
"f=30\n",
"\n",
"n=2\n",
"\n",
"lam1=5770*10^-8\n",
"\n",
"lam2=5460*10^-8\n",
"\n",
"dlam=lam1-lam2\n",
"\n",
"lam=lam2\n",
"\n",
"cos(theta)=sqrt(1-(((n*lam)/grat)^2))\n",
"\n",
"dl=((n*f)/(grat*cos(theta)))*dlam\n",
"\n",
"printf('linear separation of two spectral lines\n')\n",
"\n",
"printf('dl=%.4f cm',dl)"
   ]
   }
,
{
		   "cell_type": "markdown",
		   "metadata": {},
		   "source": [
			"## Example 8.18: calculate_lines_per_cm_in_grating.sce"
		   ]
		  },
  {
"cell_type": "code",
	   "execution_count": null,
	   "metadata": {
	    "collapsed": true
	   },
	   "outputs": [],
"source": [
"//chapter8,Example8_18,pg 210\n",
"\n",
"//nth order of lam1 is superimposed on (n+1)th order of lam2 for theta=30\n",
"\n",
"//(a+b)sin(30)=n*5400*10^-8=(n+1)*4050*10^-8\n",
"\n",
"lam1=5400*10^-8\n",
"\n",
"lam2=4050*10^-8\n",
"\n",
"n=(lam2/(lam1-lam2))\n",
"\n",
"theta=30*(%pi/180)\n",
"\n",
"N=sin(theta)/(n*lam1)\n",
"\n",
"printf('lines/cm in grating\n')\n",
"\n",
"printf('N=%.2f lines/cm',N)"
   ]
   }
,
{
		   "cell_type": "markdown",
		   "metadata": {},
		   "source": [
			"## Example 8.1: distance_of_fringe_from_wedge.sce"
		   ]
		  },
  {
"cell_type": "code",
	   "execution_count": null,
	   "metadata": {
	    "collapsed": true
	   },
	   "outputs": [],
"source": [
"//chapter8,Example8_1,pg 180\n",
"\n",
"alpha=0.01\n",
"\n",
"n=10\n",
"\n",
"lam=6000*10^-8\n",
"\n",
"u=1.5\n",
"\n",
"//for dark fringe 2*u*t*cos(alpha)=n*lam\n",
"\n",
"//t=xtan(alpha)\n",
"\n",
"//2*u*x*sin(alpha)=2*u*x*alpha=n*lam ->alpha is small, sin(alpha)=alpha\n",
"\n",
"x=(n*lam)/(2*u*alpha)\n",
"\n",
"printf('distance of 10th fringe from edge of wedge\n')\n",
"\n",
"printf('x=%.2f cm',x)"
   ]
   }
,
{
		   "cell_type": "markdown",
		   "metadata": {},
		   "source": [
			"## Example 8.2: light_reflected_in_visible_spectrum.sce"
		   ]
		  },
  {
"cell_type": "code",
	   "execution_count": null,
	   "metadata": {
	    "collapsed": true
	   },
	   "outputs": [],
"source": [
"//chapter8,Example8_2,pg 181\n",
"\n",
"//for constructive interference of reflected light\n",
"\n",
"//2*u*t*cos(r)=(2*n+1)(lam/2), where n=0,1,2,3\n",
"\n",
"//for normal incidence\n",
"\n",
"//r=0, cos(r)=1\n",
"\n",
"t=5*10^-5\n",
"\n",
"u=1.33\n",
"\n",
"//for n=0 lam=lam1\n",
"\n",
"lam1=4*u*t\n",
"\n",
"//for n=1 lam=lam2\n",
"\n",
"lam2=4*u*t*(1/3)\n",
"\n",
"//for n=2 lam=lam3\n",
"\n",
"lam3=4*u*t*(1/5)\n",
"\n",
"//for n=3 lam=lam4\n",
"\n",
"lam4=4*u*t*(1/7)\n",
"\n",
"printf('wavelength that is strongly reflected in visible spectrum\n')\n",
"\n",
"disp(lam3)"
   ]
   }
,
{
		   "cell_type": "markdown",
		   "metadata": {},
		   "source": [
			"## Example 8.3: radius_of_50th_dark_ring.sce"
		   ]
		  },
  {
"cell_type": "code",
	   "execution_count": null,
	   "metadata": {
	    "collapsed": true
	   },
	   "outputs": [],
"source": [
"//chapter8,Example8_3,pg 181\n",
"\n",
"n=10\n",
"\n",
"D10=0.5\n",
"\n",
"lam=5000*10^-8\n",
"\n",
"R=(D10^2)/(4*n*lam)\n",
"\n",
"D50=sqrt(4*50*R*lam)\n",
"\n",
"r50=D50/2\n",
"\n",
"printf('radius of 50th dark ring\n')\n",
"\n",
"printf('r50=%.2f cm',r50)"
   ]
   }
,
{
		   "cell_type": "markdown",
		   "metadata": {},
		   "source": [
			"## Example 8.4: thickness_of_film.sce"
		   ]
		  },
  {
"cell_type": "code",
	   "execution_count": null,
	   "metadata": {
	    "collapsed": true
	   },
	   "outputs": [],
"source": [
"//chapter8,Example8_4,pg 182\n",
"\n",
"i=45*(%pi/180)\n",
"\n",
"u=1.33\n",
"\n",
"r=asin(sin(i)/u)\n",
"\n",
"r=r*(180/%pi)\n",
"\n",
"//for bright fringe 2*u*t*cos(r)=(2*n+1)(lam/2)\n",
"\n",
"//for minimum thickness n=0\n",
"\n",
"lam=5000*10^-8\n",
"\n",
"t=lam/(4*u*t*cos(r))\n",
"\n",
"printf('min. thickness of film\n')\n",
"\n",
"disp(t)"
   ]
   }
,
{
		   "cell_type": "markdown",
		   "metadata": {},
		   "source": [
			"## Example 8.5: find_RI_of_oil.sce"
		   ]
		  },
  {
"cell_type": "code",
	   "execution_count": null,
	   "metadata": {
	    "collapsed": true
	   },
	   "outputs": [],
"source": [
"//chapter8,Example8_5,pg 182\n",
"\n",
"//since both reflections occur at surface of denser medium\n",
"\n",
"//condition for brightness for min thickness, n=1\n",
"\n",
"//for normal incidence r=0, cos(r)=1\n",
"\n",
"lam=5500*10^-8\n",
"\n",
"V=0.2\n",
"\n",
"A=100*100//converting into cm2\n",
"\n",
"t=V/A\n",
"\n",
"u=lam/(2*t)\n",
"\n",
"printf('RI of oil\n')\n",
"\n",
"printf('u=%.2f',u)"
   ]
   }
,
{
		   "cell_type": "markdown",
		   "metadata": {},
		   "source": [
			"## Example 8.6: change_in_film_thickness.sce"
		   ]
		  },
  {
"cell_type": "code",
	   "execution_count": null,
	   "metadata": {
	    "collapsed": true
	   },
	   "outputs": [],
"source": [
"//chapter8,Example8_6,pg 183\n",
"\n",
"lam=6300*10^-10\n",
"\n",
"u=1.5\n",
"\n",
"//condition for dark 2*u*t=n*lam\n",
"\n",
"//condition for bright 2*u*t=(2*n-1)(lam/2)\n",
"\n",
"//when t=0 n=0 order dark band will come and at edge 10th bright band will come \n",
"\n",
"n=10\n",
"\n",
"t=(((2*n)-1)*(lam))/(4*u)\n",
"\n",
"printf('thickness of air film\n')\n",
"\n",
"printf('t=%.12f cm',t)"
   ]
   }
,
{
		   "cell_type": "markdown",
		   "metadata": {},
		   "source": [
			"## Example 8.7: thickness_of_layer.sce"
		   ]
		  },
  {
"cell_type": "code",
	   "execution_count": null,
	   "metadata": {
	    "collapsed": true
	   },
	   "outputs": [],
"source": [
"//chapter8,Example8_7,pg 183\n",
"\n",
"ug=1.5\n",
"\n",
"uo=1.3\n",
"\n",
"//here reflection occurs both time at surface of denser medium\n",
"\n",
"//condition for distructive interference in reflected side\n",
"\n",
"//2*u*t*cos(r)=(2*n-1)(lam1/2), for nth min.\n",
"\n",
"r=0\n",
"\n",
"//for nth min.\n",
"\n",
"//2*u*t=(2*n+1)(lam1/2), n=0,1,2,3\n",
"\n",
"//for (n+1)th min.\n",
"\n",
"////2*u*t=(2*(n+1)+1)(lam2/2), n=0,1,2,3\n",
"\n",
"lam1=7000*10^-10\n",
"\n",
"lam2=5000*10^-10\n",
"\n",
"//from eq. of nth and (n+1)th min.\n",
"\n",
"t=(2/(4*uo))*((lam1*lam2)/(lam1-lam2))\n",
"\n",
"printf('thickness of layer\n')\n",
"\n",
"printf('t=%.12f m',t)"
   ]
   }
,
{
		   "cell_type": "markdown",
		   "metadata": {},
		   "source": [
			"## Example 8.8: calculate_RI_of_liquid.sce"
		   ]
		  },
  {
"cell_type": "code",
	   "execution_count": null,
	   "metadata": {
	    "collapsed": true
	   },
	   "outputs": [],
"source": [
"//chapter8,Example8_8,pg 184\n",
"\n",
"Dn=1.40\n",
"\n",
"D=1.27\n",
"\n",
"//when u=1\n",
"\n",
"//(Dn^2)=4*n*lam*R=(1.40^2)\n",
"\n",
"//when u=u1\n",
"\n",
"//(D^2)=(4*n*lam*R)/u1=(1.27^2)\n",
"\n",
"//from above eqn's\n",
"\n",
"u1=((Dn^2)/(D^2))\n",
"\n",
"printf('RI of liquid\n')\n",
"\n",
"printf('u=%.2f',u1)"
   ]
   }
,
{
		   "cell_type": "markdown",
		   "metadata": {},
		   "source": [
			"## Example 8.9: calculate_wavelength_of_light.sce"
		   ]
		  },
  {
"cell_type": "code",
	   "execution_count": null,
	   "metadata": {
	    "collapsed": true
	   },
	   "outputs": [],
"source": [
"//chapter8,Example8_9,pg 184\n",
"\n",
"alpha=((%pi*10)/(60*60*180))//converting into radian\n",
"\n",
"B=0.5//fringe width\n",
"\n",
"u=1.4\n",
"\n",
"lam=2*B*alpha*u\n",
"\n",
"printf('wavelength of light used\n')\n",
"\n",
"printf('lam=%.12f m',lam)"
   ]
   }
],
"metadata": {
		  "kernelspec": {
		   "display_name": "Scilab",
		   "language": "scilab",
		   "name": "scilab"
		  },
		  "language_info": {
		   "file_extension": ".sce",
		   "help_links": [
			{
			 "text": "MetaKernel Magics",
			 "url": "https://github.com/calysto/metakernel/blob/master/metakernel/magics/README.md"
			}
		   ],
		   "mimetype": "text/x-octave",
		   "name": "scilab",
		   "version": "0.7.1"
		  }
		 },
		 "nbformat": 4,
		 "nbformat_minor": 0
}
