{
"cells": [
 {
		   "cell_type": "markdown",
	   "metadata": {},
	   "source": [
       "# Chapter 11: Quantum Physics And Schrodinger Wave Equation"
	   ]
	},
{
		   "cell_type": "markdown",
		   "metadata": {},
		   "source": [
			"## Example 11.1: uncertainity_in_velocity.sce"
		   ]
		  },
  {
"cell_type": "code",
	   "execution_count": null,
	   "metadata": {
	    "collapsed": true
	   },
	   "outputs": [],
"source": [
"//chapter11,Example11_1,pg 298\n",
"\n",
"me=9.1*10^-31//masss of electron\n",
"\n",
"h=6.62*10^-34//planck's const.\n",
"\n",
"delx=10^-8//uncertainity in position\n",
"\n",
"delp=(h/(2*%pi*delx))//uncertainity principle\n",
"\n",
"delv=(delp/me)//uncertainity in velocity\n",
"\n",
"printf('uncertainity in velocity\n')\n",
"\n",
"printf('delv=%.2f m/sec',delv)"
   ]
   }
,
{
		   "cell_type": "markdown",
		   "metadata": {},
		   "source": [
			"## Example 11.2: find_KE_and_velocity_of_proton.sce"
		   ]
		  },
  {
"cell_type": "code",
	   "execution_count": null,
	   "metadata": {
	    "collapsed": true
	   },
	   "outputs": [],
"source": [
"//chapter11,Example11_2,pg 298\n",
"\n",
"lam=0.2865*10^-10//wavelength\n",
"\n",
"mp=1.67*10^-27//mass of proton\n",
"\n",
"h=6.625*10^-34\n",
"\n",
"v=(h/(mp*lam))//debroglie's equation\n",
"\n",
"KE=0.5*mp*(v^2)//kinetic energy of proton(J)\n",
"\n",
"KE=KE/(1.6*10^-19)//converting into ev\n",
"\n",
"printf('kinetic energy of proton\n')\n",
"\n",
"printf('KE=%.2f ev',KE)"
   ]
   }
,
{
		   "cell_type": "markdown",
		   "metadata": {},
		   "source": [
			"## Example 11.3: momentum_and_energy_of_electron_and_photon.sce"
		   ]
		  },
  {
"cell_type": "code",
	   "execution_count": null,
	   "metadata": {
	    "collapsed": true
	   },
	   "outputs": [],
"source": [
"//chapter11,Example11_3,pg 299\n",
"\n",
"KEnu=0.025*1.6*10^-19//kinetic energy of neutron\n",
"\n",
"mn=1.676*10^-27//mass of neutron\n",
"\n",
"v=sqrt((2*KEnu)/mn)\n",
"\n",
"h=6.626*10^-34\n",
"\n",
"lamn=h/(mn*v)//debroglie wavelength of neutron \n",
"\n",
"printf('wavelength of beam of neutron\n')\n",
"\n",
"printf('lamn=%.12f m',lamn)\n",
"\n",
"p=(h/lamn)\n",
"\n",
"printf('\nmomentum of electron and photon\n')\n",
"\n",
"printf('p=%.26f kgm/sec',p)\n",
"\n",
"me=9.1*10^-31//mass of electron\n",
"\n",
"ve=(p/me)//velocity of electron\n",
"\n",
"Ee=0.5*p*ve//energy of electron\n",
"\n",
"Ee=Ee/(1.6*10^-19)//convering into ev\n",
"\n",
"printf('\nenergy of electron\n')\n",
"\n",
"printf('Ee=%.2f ev',Ee)\n",
"\n",
"Ep=(h*3*10^8)/lamn//energy of photon\n",
"\n",
"Ep=Ep/(1.6*10^-19)\n",
"\n",
"printf('\nenergy of photon\n')\n",
"\n",
"printf('Ep=%.2f ev',Ep)"
   ]
   }
,
{
		   "cell_type": "markdown",
		   "metadata": {},
		   "source": [
			"## Example 11.4: find_mass_of_particle.sce"
		   ]
		  },
  {
"cell_type": "code",
	   "execution_count": null,
	   "metadata": {
	    "collapsed": true
	   },
	   "outputs": [],
"source": [
"//chapter11,Example11_4,pg 300\n",
"\n",
"e=1.6*10^-19\n",
"\n",
"V=200\n",
"\n",
"lam=0.0202*10^-10//debroglie wavelength\n",
"\n",
"h=6.625*10^-34\n",
"\n",
"//eV=0.5*m*(v^2)\n",
"\n",
"//mv=sqrt(2*m*eV)\n",
"\n",
"m=((h^2)/(2*(lam^2)*e*V))//mass of particle\n",
"\n",
"printf('mass of particle\n')\n",
"\n",
"disp(m)"
   ]
   }
,
{
		   "cell_type": "markdown",
		   "metadata": {},
		   "source": [
			"## Example 11.5: calculate_debroglie_wavelength_of_neutron.sce"
		   ]
		  },
  {
"cell_type": "code",
	   "execution_count": null,
	   "metadata": {
	    "collapsed": true
	   },
	   "outputs": [],
"source": [
"//chapter11,Example11_5,pg 300\n",
"\n",
"mn=1.676*10^-27//mass of neutron\n",
"\n",
"h=6.625*10^-34\n",
"\n",
"En=1.6*10^-19//energy of neutron\n",
"\n",
"v=sqrt((2*En)/mn)\n",
"\n",
"lam=(h/(mn*v))//de-broglie wavelength\n",
"\n",
"printf('de-broglie wavelength\n')\n",
"\n",
"disp(lam)"
   ]
   }
,
{
		   "cell_type": "markdown",
		   "metadata": {},
		   "source": [
			"## Example 11.6: existence_of_electron_within_nucleus.sce"
		   ]
		  },
  {
"cell_type": "code",
	   "execution_count": null,
	   "metadata": {
	    "collapsed": true
	   },
	   "outputs": [],
"source": [
"//chapter11,Example11_6,pg 300\n",
"\n",
"//acc. to uncertainity principle\n",
"\n",
"//delx*delp >= (h/2*%pi)\n",
"\n",
"rad=10^-14\n",
"\n",
"delx=2*rad\n",
"\n",
"h=6.625*10^-34\n",
"\n",
"delp=(h/(2*%pi*delx))\n",
"\n",
"//from einstein's relavistic relation\n",
"\n",
"//E=mc2=KE+rest mass energy=0.5mv2+moc2\n",
"\n",
"//when velocity of particle is very high\n",
"\n",
"//m=(mo/sqrt(1-((v/c)^2)))\n",
"\n",
"//m-mass of particle with velocity v\n",
"\n",
"//mo-rest mass of particle\n",
"\n",
"//c-velocity of particle\n",
"\n",
"p=delp//assume\n",
"\n",
"c=3*10^8\n",
"\n",
"mo=9.1*10^-31\n",
"\n",
"E=sqrt(((p*c)^2)+((mo*(c^2))^2))\n",
"\n",
"E=E/(1.6*10^-19)\n",
"\n",
"printf('E=%.2f ev',E)\n",
"\n",
"printf('\nthis value is much higher than experimentally obtained values of energy of electron\n')\n",
"\n",
"printf('of a radioactive nuclei i.e 4 Mev this proves that electron cannot reside within nucleus')"
   ]
   }
,
{
		   "cell_type": "markdown",
		   "metadata": {},
		   "source": [
			"## Example 11.7: calculate_debroglie_wavelength.sce"
		   ]
		  },
  {
"cell_type": "code",
	   "execution_count": null,
	   "metadata": {
	    "collapsed": true
	   },
	   "outputs": [],
"source": [
"//chapter11,Example11_7,pg 302\n",
"\n",
"m1=60*10^-9\n",
"\n",
"v1=80\n",
"\n",
"p1=m1*v1\n",
"\n",
"h=6.625*10^-34\n",
"\n",
"lam1=h/p1//de-broglie wavelength case-1\n",
"\n",
"m2=8*10^-27\n",
"\n",
"v2=1.3\n",
"\n",
"p2=m2*v2\n",
"\n",
"lam2=h/p2//de-broglie wavelength case-2\n",
"\n",
"printf('de-broglie wavelength for case-1\n')\n",
"\n",
"disp(lam1)\n",
"\n",
"printf('\nde-broglie wavelength for case-2\n')\n",
"\n",
"disp(lam2)\n",
"\n",
"printf('\nfrom case-1 it is clear that for normal particles de-broglie wavelength is not visible it is very small')"
   ]
   }
,
{
		   "cell_type": "markdown",
		   "metadata": {},
		   "source": [
			"## Example 11.8: calculate_KE_of_electro.sce"
		   ]
		  },
  {
"cell_type": "code",
	   "execution_count": null,
	   "metadata": {
	    "collapsed": true
	   },
	   "outputs": [],
"source": [
"//chapter11,Example11_8,pg 302\n",
"\n",
"h=6.634*10^-34\n",
"\n",
"c=3*10^8\n",
"\n",
"e=1.6*10^-19\n",
"\n",
"m=9.1*10^-31\n",
"\n",
"Ep=100*10^3*e//energy of photon\n",
"\n",
"lamp=((h*c)/Ep)//wavelength of photon\n",
"\n",
"lame=lamp//wavelength of electron\n",
"\n",
"v=h/(m*lame)\n",
"\n",
"KEe=0.5*m*(v^2)//kinetic energy of electron\n",
"\n",
"KEe=KEe/(1.6*10^-19)\n",
"\n",
"printf('kinetic energy of electron\n')\n",
"\n",
"printf('KEe=%.2f ev',KEe)"
   ]
   }
],
"metadata": {
		  "kernelspec": {
		   "display_name": "Scilab",
		   "language": "scilab",
		   "name": "scilab"
		  },
		  "language_info": {
		   "file_extension": ".sce",
		   "help_links": [
			{
			 "text": "MetaKernel Magics",
			 "url": "https://github.com/calysto/metakernel/blob/master/metakernel/magics/README.md"
			}
		   ],
		   "mimetype": "text/x-octave",
		   "name": "scilab",
		   "version": "0.7.1"
		  }
		 },
		 "nbformat": 4,
		 "nbformat_minor": 0
}
