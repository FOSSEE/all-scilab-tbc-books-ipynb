{
"cells": [
 {
		   "cell_type": "markdown",
	   "metadata": {},
	   "source": [
       "# Chapter 3: Thermionic Emission"
	   ]
	},
{
		   "cell_type": "markdown",
		   "metadata": {},
		   "source": [
			"## Example 3.1: Richardson_Dushman_Equation.sce"
		   ]
		  },
  {
"cell_type": "code",
	   "execution_count": null,
	   "metadata": {
	    "collapsed": true
	   },
	   "outputs": [],
"source": [
"//chapter-3,Example3_1,pg 67\n",
"\n",
"S=2*10^-6\n",
"\n",
"T=2000\n",
"\n",
"A=60.2*10^4\n",
"\n",
"b=52400//Q/K\n",
"\n",
"e=1.6*10^-19\n",
"\n",
"I=A*S*(T^2)*(%e^(-(b/T)))\n",
"\n",
"J=A*(T^2)*(%e^(-(b/T)))\n",
"\n",
"no=J/e\n",
"\n",
"printf('maximum obtainable electronic emission current\n')\n",
"\n",
"disp(I)\n",
"\n",
"printf('\nemission current density\n')\n",
"\n",
"printf('J=%.3f A/m2',J)\n",
"\n",
"printf('\nno. of electrons emitted per unit area per sec.\n')\n",
"\n",
"disp(no)"
   ]
   }
,
{
		   "cell_type": "markdown",
		   "metadata": {},
		   "source": [
			"## Example 3.2: calculate_plate_voltage.sce"
		   ]
		  },
  {
"cell_type": "code",
	   "execution_count": null,
	   "metadata": {
	    "collapsed": true
	   },
	   "outputs": [],
"source": [
"//chapter-3,Example3_2,pg 67\n",
"\n",
"Ip1=20*10^-3\n",
"\n",
"Ip2=30*10^-3\n",
"\n",
"Vp1=80\n",
"\n",
"//Ip=K*(Vp^(3/2))\n",
"\n",
"Vp2=((((Vp1)^(3/2))*Ip2)/Ip1)^(2/3)\n",
"\n",
"printf('plate voltage for 30mA current\n')\n",
"\n",
"printf('Vp2=%.2f volts',Vp2)"
   ]
   }
],
"metadata": {
		  "kernelspec": {
		   "display_name": "Scilab",
		   "language": "scilab",
		   "name": "scilab"
		  },
		  "language_info": {
		   "file_extension": ".sce",
		   "help_links": [
			{
			 "text": "MetaKernel Magics",
			 "url": "https://github.com/calysto/metakernel/blob/master/metakernel/magics/README.md"
			}
		   ],
		   "mimetype": "text/x-octave",
		   "name": "scilab",
		   "version": "0.7.1"
		  }
		 },
		 "nbformat": 4,
		 "nbformat_minor": 0
}
