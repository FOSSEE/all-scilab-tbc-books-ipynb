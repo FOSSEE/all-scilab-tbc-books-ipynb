{
"cells": [
 {
		   "cell_type": "markdown",
	   "metadata": {},
	   "source": [
       "# Chapter 2: Thermoelectricity"
	   ]
	},
{
		   "cell_type": "markdown",
		   "metadata": {},
		   "source": [
			"## Example 2.1: find_out_inversion_temperature.sce"
		   ]
		  },
  {
"cell_type": "code",
	   "execution_count": null,
	   "metadata": {
	    "collapsed": true
	   },
	   "outputs": [],
"source": [
"//chapter-2,Example2_1,pg 54\n",
"\n",
"Tn=285\n",
"\n",
"Tc1=20\n",
"\n",
"Ti1=(2*Tn)-Tc1\n",
"\n",
"Tc2=-20\n",
"\n",
"Ti2=(2*Tn)-Tc2\n",
"\n",
"printf('higher temperature\n')\n",
"\n",
"printf('Ti1=%.f deg. C',Ti1)\n",
"\n",
"printf('\ntemperature of inversion\n')\n",
"\n",
"printf('Ti2=%.f deg. C',Ti2)"
   ]
   }
,
{
		   "cell_type": "markdown",
		   "metadata": {},
		   "source": [
			"## Example 2.2: thermo_emf_of_thermocouple.sce"
		   ]
		  },
  {
"cell_type": "code",
	   "execution_count": null,
	   "metadata": {
	    "collapsed": true
	   },
	   "outputs": [],
"source": [
"//chapter-2,Example2_2,pg 54\n",
"\n",
"aFe=16.65\n",
"\n",
"aAg=2.86\n",
"\n",
"bFe=-0.095\n",
"\n",
"bAg=0.017\n",
"\n",
"aFe_Ag=aFe-aAg\n",
"\n",
"bFe_Ag=bFe-bAg\n",
"\n",
"a=aFe_Ag\n",
"\n",
"b=bFe_Ag\n",
"\n",
"Tn=-(a/b)\n",
"\n",
"t=100\n",
"\n",
"EFe_Ag=(a*t)+0.5*(b*(t^2))\n",
"\n",
"printf('neutral temp. of Fe-Ag thermocouple\n')\n",
"\n",
"printf('Tn=%.3f deg. C',Tn)\n",
"\n",
"printf('\nthermo e.m.f of thermocouple\n')\n",
"\n",
"printf('EFe_Ag=%.f volts',EFe_Ag)"
   ]
   }
,
{
		   "cell_type": "markdown",
		   "metadata": {},
		   "source": [
			"## Example 2.3: emf_of_thermocouple.sce"
		   ]
		  },
  {
"cell_type": "code",
	   "execution_count": null,
	   "metadata": {
	    "collapsed": true
	   },
	   "outputs": [],
"source": [
"//chapter-2,Example2_3,pg 54\n",
"\n",
"//P=(dE/dt)Fe=a+b*t=1734-4.87*t\n",
"\n",
"//P=(dE/dt)Cu=a+b*t=136+0.95*t\n",
"\n",
"aFe_Pb=1734*10^-6\n",
"\n",
"aFe_Cu=(1734-136)*10^-6\n",
"\n",
"aCu_Pb=136*10^-6\n",
"\n",
"bFe_Pb=-4.87*10^-6\n",
"\n",
"bFe_Cu=(-4.87-0.95)*10^-6\n",
"\n",
"bCu_Pb=0.95*10^-6\n",
"\n",
"a=aFe_Cu\n",
"\n",
"b=bFe_Cu\n",
"\n",
"t=100\n",
"\n",
"EFe_Cu=(a*t)+0.5*(b*(t^2))\n",
"\n",
"printf('e.m.f of termocouple\n')\n",
"\n",
"printf('EFe_Cu=%.4f Volt',EFe_Cu)"
   ]
   }
],
"metadata": {
		  "kernelspec": {
		   "display_name": "Scilab",
		   "language": "scilab",
		   "name": "scilab"
		  },
		  "language_info": {
		   "file_extension": ".sce",
		   "help_links": [
			{
			 "text": "MetaKernel Magics",
			 "url": "https://github.com/calysto/metakernel/blob/master/metakernel/magics/README.md"
			}
		   ],
		   "mimetype": "text/x-octave",
		   "name": "scilab",
		   "version": "0.7.1"
		  }
		 },
		 "nbformat": 4,
		 "nbformat_minor": 0
}
