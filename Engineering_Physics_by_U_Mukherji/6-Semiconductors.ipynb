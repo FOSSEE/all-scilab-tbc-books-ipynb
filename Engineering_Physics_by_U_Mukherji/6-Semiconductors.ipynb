{
"cells": [
 {
		   "cell_type": "markdown",
	   "metadata": {},
	   "source": [
       "# Chapter 6: Semiconductors"
	   ]
	},
{
		   "cell_type": "markdown",
		   "metadata": {},
		   "source": [
			"## Example 6.10: Hall_Effect.sce"
		   ]
		  },
  {
"cell_type": "code",
	   "execution_count": null,
	   "metadata": {
	    "collapsed": true
	   },
	   "outputs": [],
"source": [
"//chapter6,Example6_10,pg 124\n",
"\n",
"Rhp=3.66*10^-4\n",
"\n",
"rho=8.93*10^-3\n",
"\n",
"e=1.6*10^-19\n",
"\n",
"p=1/(Rhp*e)\n",
"\n",
"Uhp=Rhp/rho\n",
"\n",
"Bz=0.5\n",
"\n",
"theta=atan(Uhp*Bz)\n",
"\n",
"theta=theta*(180/%pi)\n",
"\n",
"printf('density of charge carrier\n')\n",
"\n",
"disp(p)\n",
"\n",
"printf('\nhall angle\n')\n",
"\n",
"printf('theta=%.2f deg.',theta)\n",
"\n",
"printf('\nhall mobility\n')\n",
"\n",
"printf('Uhp=%.4f m2/VS',Uhp)"
   ]
   }
,
{
		   "cell_type": "markdown",
		   "metadata": {},
		   "source": [
			"## Example 6.11: effect_of_external_impurity.sce"
		   ]
		  },
  {
"cell_type": "code",
	   "execution_count": null,
	   "metadata": {
	    "collapsed": true
	   },
	   "outputs": [],
"source": [
"//chapter6,Example6_11,pg 124\n",
"\n",
"ni=2.5*10^13\n",
"\n",
"e=1.6*10^-19\n",
"\n",
"un=3900\n",
"\n",
"up=1900\n",
"\n",
"sigin=ni*e*(un+up)//intrinsic conductivity\n",
"\n",
"//1 donor atom/10^8 Ge atom dropped\n",
"\n",
"rhoGe=4.42*10^22//no. of Ge atom/cc\n",
"\n",
"Nd=rhoGe/10^8\n",
"\n",
"sigex=Nd*e*un//extrinsic conductivity\n",
"\n",
"printf('extrinsic conductivity\n')\n",
"\n",
"printf('sigex=%.4f ohm cm',sigex)"
   ]
   }
,
{
		   "cell_type": "markdown",
		   "metadata": {},
		   "source": [
			"## Example 6.12: probability_of_electron_in_CB.sce"
		   ]
		  },
  {
"cell_type": "code",
	   "execution_count": null,
	   "metadata": {
	    "collapsed": true
	   },
	   "outputs": [],
"source": [
"//chapter6,Example6_12,pg 124\n",
"\n",
"//permeability of electron to be in C.B=F(Ec)\n",
"\n",
"e=1.6*10^-19\n",
"\n",
"Eg=5.6\n",
"\n",
"Ef=Eg/2\n",
"\n",
"Ec=Eg\n",
"\n",
"K=1.38*10^-23\n",
"\n",
"T=27+273//converting in Kelvin\n",
"\n",
"KT=K*T\n",
"\n",
"KT=KT/e\n",
"\n",
"//e^(Ec-Ef/KT)>>1\n",
"\n",
"Fermi_F=e^((Ef-Ec)/KT)//fermi factor\n",
"\n",
"printf('probability of electron on CB\n')\n",
"\n",
"disp(Fermi_F)\n",
"\n",
"printf('\nit is infinite in negative direction for an insulator like diamond, so diamond cannot take part in conduction')"
   ]
   }
,
{
		   "cell_type": "markdown",
		   "metadata": {},
		   "source": [
			"## Example 6.13: Hall_Effect.sce"
		   ]
		  },
  {
"cell_type": "code",
	   "execution_count": null,
	   "metadata": {
	    "collapsed": true
	   },
	   "outputs": [],
"source": [
"//chapter6,Example6_13,pg 125\n",
"\n",
"e=1.6*10^-19\n",
"\n",
"n=7*10^21\n",
"\n",
"ue=0.39\n",
"\n",
"V=10^-3\n",
"\n",
"A=10^-6\n",
"\n",
"L=10*10^-3\n",
"\n",
"I=(n*e*ue*V*A)/L\n",
"\n",
"Rhe=-(1/(n*e))\n",
"\n",
"Bz=0.2\n",
"\n",
"d=10^-3\n",
"\n",
"Vhe=(Rhe*I*Bz)/d\n",
"\n",
"printf('current through bar I=%.7f A\n',I)\n",
"\n",
"printf('\nhall coeff. Rhe=%.6f m3/c\n',Rhe)\n",
"\n",
"printf('\nhall voltage Vhe=%.8f volt\n',Vhe)"
   ]
   }
,
{
		   "cell_type": "markdown",
		   "metadata": {},
		   "source": [
			"## Example 6.14: find_forward_bias_current_flow.sce"
		   ]
		  },
  {
"cell_type": "code",
	   "execution_count": null,
	   "metadata": {
	    "collapsed": true
	   },
	   "outputs": [],
"source": [
"//chapter6,Example6_14,pg 136\n",
"\n",
"J2=0.2*10^-6\n",
"\n",
"e=1.6*10^-19\n",
"\n",
"V=0.1\n",
"\n",
"K=1.38*10^-23\n",
"\n",
"T=300\n",
"\n",
"J=J2*(e^((e*V)/(K*T)))//as e^((e*v)/KT)>>1\n",
"\n",
"printf('forward bias current flow\n')\n",
"\n",
"disp(J)"
   ]
   }
,
{
		   "cell_type": "markdown",
		   "metadata": {},
		   "source": [
			"## Example 6.15: find_static_and_dynamic_resistance.sce"
		   ]
		  },
  {
"cell_type": "code",
	   "execution_count": null,
	   "metadata": {
	    "collapsed": true
	   },
	   "outputs": [],
"source": [
"//chapter6,Example6_15,pg 148\n",
"\n",
"V1=1.4\n",
"\n",
"I1=60*10^-3\n",
"\n",
"V2=1.5\n",
"\n",
"I2=85*10^-3\n",
"\n",
"Rs1=V1/I1\n",
"\n",
"Rs2=V2/I2\n",
"\n",
"dV=V2-V1\n",
"\n",
"dI=I2-I1\n",
"\n",
"Rd=dV/dI\n",
"\n",
"printf('static resistance\n')\n",
"\n",
"printf('Rs1=%.2f ohm\n',Rs1)\n",
"\n",
"printf('Rs2=%.2f ohm\n',Rs2)\n",
"\n",
"printf('dynamic resistance\n')\n",
"\n",
"printf('Rd=%.2f ohm',Rd)"
   ]
   }
,
{
		   "cell_type": "markdown",
		   "metadata": {},
		   "source": [
			"## Example 6.16: find_alpha_and_beta.sce"
		   ]
		  },
  {
"cell_type": "code",
	   "execution_count": null,
	   "metadata": {
	    "collapsed": true
	   },
	   "outputs": [],
"source": [
"//chapter6,Example6_16,pg 148\n",
"\n",
"Ie=1*10^-3\n",
"\n",
"Ib=0.02*10^-3\n",
"\n",
"Ic=Ie-Ib\n",
"\n",
"B=Ic/Ib\n",
"\n",
"alpha=Ic/Ie\n",
"\n",
"printf('alpha=%.2f \n',alpha)\n",
"\n",
"printf('B=%.2f \n',B)"
   ]
   }
,
{
		   "cell_type": "markdown",
		   "metadata": {},
		   "source": [
			"## Example 6.17: find_leakage_current_Iceo.sce"
		   ]
		  },
  {
"cell_type": "code",
	   "execution_count": null,
	   "metadata": {
	    "collapsed": true
	   },
	   "outputs": [],
"source": [
"//chapter6,Example6_17,pg 148\n",
"\n",
"alpha=0.99\n",
"\n",
"Icbo=0.5*10^-6\n",
"\n",
"B=alpha/(1-alpha)\n",
"\n",
"Iceo=(1/(1-alpha))*Icbo\n",
"\n",
"printf('B=%.f \n',B)\n",
"\n",
"printf('Iceo=%.8f A',Iceo)"
   ]
   }
,
{
		   "cell_type": "markdown",
		   "metadata": {},
		   "source": [
			"## Example 6.18: find_alpha_and_beta.sce"
		   ]
		  },
  {
"cell_type": "code",
	   "execution_count": null,
	   "metadata": {
	    "collapsed": true
	   },
	   "outputs": [],
"source": [
"//chapter6,Example6_18,pg 148\n",
"\n",
"delIc=2.5*10^-3\n",
"\n",
"delIb=40*10^-6\n",
"\n",
"B=delIc/delIb\n",
"\n",
"alpha=B/(1+B)\n",
"\n",
"printf('alpha=%.5f\n',alpha)\n",
"\n",
"printf('B=%.2f',B)"
   ]
   }
,
{
		   "cell_type": "markdown",
		   "metadata": {},
		   "source": [
			"## Example 6.19: find_current_gain.sce"
		   ]
		  },
  {
"cell_type": "code",
	   "execution_count": null,
	   "metadata": {
	    "collapsed": true
	   },
	   "outputs": [],
"source": [
"//chapter6,Example6_19,pg 148\n",
"\n",
"Ie=1*10^-3\n",
"\n",
"Ib=0.04*10^-3\n",
"\n",
"Ic=Ie-Ib\n",
"\n",
"alpha=Ic/Ie\n",
"\n",
"printf('current gain\n')\n",
"\n",
"printf('alpha=%.2f',alpha)"
   ]
   }
,
{
		   "cell_type": "markdown",
		   "metadata": {},
		   "source": [
			"## Example 6.1: final_velocity_of_electron.sce"
		   ]
		  },
  {
"cell_type": "code",
	   "execution_count": null,
	   "metadata": {
	    "collapsed": true
	   },
	   "outputs": [],
"source": [
"//chapter6,Example6_1,pg 121\n",
"\n",
"e=1.6*10^-19\n",
"\n",
"V=1000\n",
"\n",
"m=9.1*10^-31\n",
"\n",
"v=sqrt((2*e*V)/m)\n",
"\n",
"printf('final velocity of electron\n')\n",
"\n",
"printf('v=%.f m/sec',v)"
   ]
   }
,
{
		   "cell_type": "markdown",
		   "metadata": {},
		   "source": [
			"## Example 6.20: find_base_current.sce"
		   ]
		  },
  {
"cell_type": "code",
	   "execution_count": null,
	   "metadata": {
	    "collapsed": true
	   },
	   "outputs": [],
"source": [
"//chapter6,Example6_20,pg 149\n",
"\n",
"V=1.5\n",
"\n",
"R=10^3\n",
"\n",
"Ic=V/R\n",
"\n",
"alpha=0.96\n",
"\n",
"Ie=Ic/alpha\n",
"\n",
"Ib=Ie-Ic\n",
"\n",
"printf('base current\n')\n",
"\n",
"printf('Ib=%.6f A',Ib)"
   ]
   }
,
{
		   "cell_type": "markdown",
		   "metadata": {},
		   "source": [
			"## Example 6.2: find_electric_field.sce"
		   ]
		  },
  {
"cell_type": "code",
	   "execution_count": null,
	   "metadata": {
	    "collapsed": true
	   },
	   "outputs": [],
"source": [
"//chapter6,Example6_2,pg 121\n",
"\n",
"Jc=1\n",
"\n",
"sig=5.8*10^7\n",
"\n",
"E=(Jc)/sig\n",
"\n",
"printf('electric field established\n')\n",
"\n",
"disp(E)"
   ]
   }
,
{
		   "cell_type": "markdown",
		   "metadata": {},
		   "source": [
			"## Example 6.3: electric_field_intensity_for_silver.sce"
		   ]
		  },
  {
"cell_type": "code",
	   "execution_count": null,
	   "metadata": {
	    "collapsed": true
	   },
	   "outputs": [],
"source": [
"//chapter6,Example6_3,pg 121\n",
"\n",
"vd=1*10^-3\n",
"\n",
"sig=6.17*10^7\n",
"\n",
"ue=0.0056\n",
"\n",
"rhoe=-(sig/ue)\n",
"\n",
"Jc1=-rhoe*vd\n",
"\n",
"E1=(Jc1)/sig\n",
"\n",
"I=80\n",
"\n",
"A=9*10^-6\n",
"\n",
"Jc2=I/A\n",
"\n",
"E2=Jc2/sig\n",
"\n",
"V=0.5*10^-3\n",
"\n",
"d=3*10^-3\n",
"\n",
"E3=V/d\n",
"\n",
"printf('E-field due to Jc1\n')\n",
"\n",
"printf('E1=%.6f V/m',E1)\n",
"\n",
"printf('\nE-field due to Jc2\n')\n",
"\n",
"printf('E2=%.6f V/m',E2)\n",
"\n",
"printf('\nE-field due to cube\n')\n",
"\n",
"printf('E3=%.6f V/m',E3)"
   ]
   }
,
{
		   "cell_type": "markdown",
		   "metadata": {},
		   "source": [
			"## Example 6.4: find_current_density_current_and_power_out.sce"
		   ]
		  },
  {
"cell_type": "code",
	   "execution_count": null,
	   "metadata": {
	    "collapsed": true
	   },
	   "outputs": [],
"source": [
"//chapter6,Example6_4,pg 122\n",
"\n",
"sig=3.82*10^7\n",
"\n",
"L=1000*12*2.54*10^-2//converting into m\n",
"\n",
"r=0.4*2.54*10^-2\n",
"\n",
"V=1.2\n",
"\n",
"Jc=sig*(V/L)\n",
"\n",
"A=3.14*(r^2)\n",
"\n",
"Ic=Jc*A\n",
"\n",
"P=Ic*V\n",
"\n",
"printf('current density\n')\n",
"\n",
"printf('Jc=%.f A/m2',Jc)\n",
"\n",
"printf('\ntotal current\n')\n",
"\n",
"printf('Ic=%.2f A',Ic)\n",
"\n",
"printf('\npower dissipation\n')\n",
"\n",
"printf('P=%.2f watt',P)"
   ]
   }
,
{
		   "cell_type": "markdown",
		   "metadata": {},
		   "source": [
			"## Example 6.5: conductivity_due_to_holes_and_electrons.sce"
		   ]
		  },
  {
"cell_type": "code",
	   "execution_count": null,
	   "metadata": {
	    "collapsed": true
	   },
	   "outputs": [],
"source": [
"//chapter6,Example6_5,pg 122\n",
"\n",
"ni=2.5*10^19\n",
"\n",
"um=0.39\n",
"\n",
"up=0.19\n",
"\n",
"e=1.6*10^-19\n",
"\n",
"L=6*10^-3\n",
"\n",
"R=120\n",
"\n",
"A=0.5*10^-6\n",
"\n",
"sigp=L/(R*A)\n",
"\n",
"p=sigp/(e*up)\n",
"\n",
"Na=p\n",
"\n",
"n=(ni^2)/Na\n",
"\n",
"sigm=n*e*um\n",
"\n",
"ratio=sigp/sigm\n",
"\n",
"printf('p-type impurity concentration\n')\n",
"\n",
"disp(p)\n",
"\n",
"printf('\nproportion of conductivity due to hole and electron\n')\n",
"\n",
"printf('ratio=%.f',ratio);printf(':1')"
   ]
   }
,
{
		   "cell_type": "markdown",
		   "metadata": {},
		   "source": [
			"## Example 6.6: calculate_current_due_to_Ge_plate.sce"
		   ]
		  },
  {
"cell_type": "code",
	   "execution_count": null,
	   "metadata": {
	    "collapsed": true
	   },
	   "outputs": [],
"source": [
"//chapter6,Example6_6,pg 123\n",
"\n",
"ni=2*10^19\n",
"\n",
"e=1.6*10^-19\n",
"\n",
"up=0.17\n",
"\n",
"un=0.36\n",
"\n",
"V=2\n",
"\n",
"A=10^-4\n",
"\n",
"d=0.3*10^-3\n",
"\n",
"I=(ni*e*(up+un)*V*A)/d\n",
"\n",
"printf('current produced in Ge-plate\n')\n",
"\n",
"printf('I=%.4f A',I)"
   ]
   }
,
{
		   "cell_type": "markdown",
		   "metadata": {},
		   "source": [
			"## Example 6.7: find_intrinsic_carrier_density.sce"
		   ]
		  },
  {
"cell_type": "code",
	   "execution_count": null,
	   "metadata": {
	    "collapsed": true
	   },
	   "outputs": [],
"source": [
"//chapter6,Example6_7,pg 123\n",
"\n",
"rho=6.3*10^4\n",
"\n",
"e=1.6*10^-19\n",
"\n",
"up=0.14\n",
"\n",
"un=0.05\n",
"\n",
"ni=1/(rho*e*(up+un))\n",
"\n",
"printf('intrinsic carrier concentration\n')\n",
"\n",
"disp(ni)"
   ]
   }
,
{
		   "cell_type": "markdown",
		   "metadata": {},
		   "source": [
			"## Example 6.8: Hall_Effect.sce"
		   ]
		  },
  {
"cell_type": "code",
	   "execution_count": null,
	   "metadata": {
	    "collapsed": true
	   },
	   "outputs": [],
"source": [
"//chapter6,Example6_8,pg 123\n",
"\n",
"L=10^-3\n",
"\n",
"R=1.5\n",
"\n",
"A=10^-6\n",
"\n",
"Ey=0.6\n",
"\n",
"w=10^-3\n",
"\n",
"d=10^-3\n",
"\n",
"I=120*10^-3\n",
"\n",
"Bz=0.05\n",
"\n",
"e=1.6*10^-19\n",
"\n",
"sigp=L/(R*A)\n",
"\n",
"Vhp=Ey*w\n",
"\n",
"Rhp=(Vhp*d)/(I*Bz)\n",
"\n",
"Uhp=sigp*Rhp\n",
"\n",
"theta=atan(Uhp*Bz)\n",
"\n",
"theta=theta*(180/%pi)\n",
"\n",
"p=1/(Rhp*e)\n",
"\n",
"printf('hall voltage :Vhp=%.4f Volt\n',Vhp)\n",
"\n",
"printf('\nhall coeff. :Rhp=%.5f m3/e\n',Rhp)\n",
"\n",
"printf('\nhall mobility :Uhp=%.4f m2/VS\n',Uhp)\n",
"\n",
"printf('\nhall angle :theta=%.2f deg.\n',theta)\n",
"\n",
"printf('\ndensity of charge carrier\n')\n",
"\n",
"disp(p)"
   ]
   }
,
{
		   "cell_type": "markdown",
		   "metadata": {},
		   "source": [
			"## Example 6.9: concentration_of_holes_in_Si.sce"
		   ]
		  },
  {
"cell_type": "code",
	   "execution_count": null,
	   "metadata": {
	    "collapsed": true
	   },
	   "outputs": [],
"source": [
"//chapter6,Example6_9,pg 123\n",
"\n",
"n=1.4*10^24\n",
"\n",
"ni=1.4*10^19\n",
"\n",
"Nd=n\n",
"\n",
"p=(ni^2)/Nd\n",
"\n",
"nbyp=n/p\n",
"\n",
"printf('electron-hole concentration ratio\n')\n",
"\n",
"disp(nbyp)"
   ]
   }
],
"metadata": {
		  "kernelspec": {
		   "display_name": "Scilab",
		   "language": "scilab",
		   "name": "scilab"
		  },
		  "language_info": {
		   "file_extension": ".sce",
		   "help_links": [
			{
			 "text": "MetaKernel Magics",
			 "url": "https://github.com/calysto/metakernel/blob/master/metakernel/magics/README.md"
			}
		   ],
		   "mimetype": "text/x-octave",
		   "name": "scilab",
		   "version": "0.7.1"
		  }
		 },
		 "nbformat": 4,
		 "nbformat_minor": 0
}
