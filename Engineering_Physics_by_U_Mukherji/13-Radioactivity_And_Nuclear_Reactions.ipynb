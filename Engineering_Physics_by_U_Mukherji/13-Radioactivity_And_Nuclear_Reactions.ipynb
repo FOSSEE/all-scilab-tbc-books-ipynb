{
"cells": [
 {
		   "cell_type": "markdown",
	   "metadata": {},
	   "source": [
       "# Chapter 13: Radioactivity And Nuclear Reactions"
	   ]
	},
{
		   "cell_type": "markdown",
		   "metadata": {},
		   "source": [
			"## Example 13.1: energy_of_incident_particle.sce"
		   ]
		  },
  {
"cell_type": "code",
	   "execution_count": null,
	   "metadata": {
	    "collapsed": true
	   },
	   "outputs": [],
"source": [
"//chapter13,Example13_1,pg 391\n",
"\n",
"//xMy -> x-mass no., M-element, y-atomic no.\n",
"\n",
"M7Li3=7.018232//mass of 7li3 (amu)\n",
"\n",
"Malpha=4.003874//mass of alpha particle (amu)\n",
"\n",
"Mpr=1.008145//mass of proton (amu)\n",
"\n",
"//reaction:- 7li3 + 1H1-> 4He2 + 4He2\n",
"\n",
"delM=M7Li3+Mpr-2*Malpha//mass defect\n",
"\n",
"Q=delM*931//1 amu= 931 Mev\n",
"\n",
"Ey=9.15//K.E energy of product nucleus\n",
"\n",
"Ex=2*Ey-Q//K.E of incident particle\n",
"\n",
"printf('kinetic energy of incident proton\n')\n",
"\n",
"printf('Ex=%.2f Mev',Ex)"
   ]
   }
,
{
		   "cell_type": "markdown",
		   "metadata": {},
		   "source": [
			"## Example 13.2: power_of_explosio.sce"
		   ]
		  },
  {
"cell_type": "code",
	   "execution_count": null,
	   "metadata": {
	    "collapsed": true
	   },
	   "outputs": [],
"source": [
"//chapter13,Example13_2,pg 391\n",
"\n",
"M235U=235//at.mass of 235U\n",
"\n",
"m=10^-3\n",
"\n",
"N=6.023*10^23\n",
"\n",
"Eperfi=200*10^6//energy per fission\n",
"\n",
"E=Eperfi*1.6*10^-19//energy per fission (in joules)\n",
"\n",
"T=10^-6\n",
"\n",
"A=M235U\n",
"\n",
"P=((m*N)/A)*(E/T)//power output\n",
"\n",
"printf('power of explosion\n')\n",
"\n",
"printf('P=%.2f watt',P)"
   ]
   }
,
{
		   "cell_type": "markdown",
		   "metadata": {},
		   "source": [
			"## Example 13.4: mass_of_uranium_consumed.sce"
		   ]
		  },
  {
"cell_type": "code",
	   "execution_count": null,
	   "metadata": {
	    "collapsed": true
	   },
	   "outputs": [],
"source": [
"//chapter13,Example13_4,pg 392\n",
"\n",
"n=0.4//efficiency\n",
"\n",
"N=6.023*10^23\n",
"\n",
"Eperfi=200*10^6//energy per fission\n",
"\n",
"E=Eperfi*1.6*10^-19\n",
"\n",
"P=100*10^6\n",
"\n",
"A=235\n",
"\n",
"T=24*60*60\n",
"\n",
"m=(P*A*T)/(n*N*E)\n",
"\n",
"printf('mass of 235U consumed/day\n')\n",
"\n",
"printf('m=%.2f gm',m)"
   ]
   }
,
{
		   "cell_type": "markdown",
		   "metadata": {},
		   "source": [
			"## Example 13.5: energy_liberated_per_reaction.sce"
		   ]
		  },
  {
"cell_type": "code",
	   "execution_count": null,
	   "metadata": {
	    "collapsed": true
	   },
	   "outputs": [],
"source": [
"//chapter13,Example13_5,pg 392\n",
"\n",
"M2H1=2.01474\n",
"\n",
"M3H1=3.01700\n",
"\n",
"M1n0=1.008986\n",
"\n",
"M4He2=4.003880\n",
"\n",
"//thermonuclear reaction in hydrogen bomb explosion \n",
"\n",
"//2H1 + 3H1 -> 4He2 + 1n0\n",
"\n",
"Mreac=M2H1+M3H1//mass of reactants\n",
"\n",
"Mprod=M4He2+M1n0//mass of products\n",
"\n",
"Q=Mreac-Mprod\n",
"\n",
"Q=Q*931//converting in Mev\n",
"\n",
"printf('energy/reaction\n')\n",
"\n",
"printf('Q=%.2f Mev',Q)"
   ]
   }
,
{
		   "cell_type": "markdown",
		   "metadata": {},
		   "source": [
			"## Example 13.6: calculate_binding_energy.sce"
		   ]
		  },
  {
"cell_type": "code",
	   "execution_count": null,
	   "metadata": {
	    "collapsed": true
	   },
	   "outputs": [],
"source": [
"//chapter13,Example13_6,pg 393\n",
"\n",
"M7Li3=7.01818\n",
"\n",
"M1H1=1.0081\n",
"\n",
"M1n0=1.009\n",
"\n",
"BEpernu=(1/7)*((3*M1H1)+(4*M1n0)-M7Li3)//binding energy per nucleon\n",
"\n",
"BEpernu=BEpernu*931//converting in Mev\n",
"\n",
"printf('binding energy per nucleon\n')\n",
"\n",
"printf('BE=%.2f Mev',BEpernu)"
   ]
   }
,
{
		   "cell_type": "markdown",
		   "metadata": {},
		   "source": [
			"## Example 13.7: calculate_power_output.sce"
		   ]
		  },
  {
"cell_type": "code",
	   "execution_count": null,
	   "metadata": {
	    "collapsed": true
	   },
	   "outputs": [],
"source": [
"//chapter13,Example13_7,pg 394\n",
"\n",
"m=10*10^3\n",
"\n",
"N=6.023*10^23\n",
"\n",
"Eperfi=200*10^6//energy per fission\n",
"\n",
"E=Eperfi*1.6*10^-19//energy in joules\n",
"\n",
"A=235\n",
"\n",
"T=24*60*60\n",
"\n",
"P=((m*N)/A)*(E/T)\n",
"\n",
"printf('power output\n')\n",
"\n",
"printf('P=%.2f watt',P)"
   ]
   }
],
"metadata": {
		  "kernelspec": {
		   "display_name": "Scilab",
		   "language": "scilab",
		   "name": "scilab"
		  },
		  "language_info": {
		   "file_extension": ".sce",
		   "help_links": [
			{
			 "text": "MetaKernel Magics",
			 "url": "https://github.com/calysto/metakernel/blob/master/metakernel/magics/README.md"
			}
		   ],
		   "mimetype": "text/x-octave",
		   "name": "scilab",
		   "version": "0.7.1"
		  }
		 },
		 "nbformat": 4,
		 "nbformat_minor": 0
}
