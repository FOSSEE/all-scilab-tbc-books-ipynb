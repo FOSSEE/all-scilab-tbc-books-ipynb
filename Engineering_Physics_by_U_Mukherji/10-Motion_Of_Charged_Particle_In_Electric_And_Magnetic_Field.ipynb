{
"cells": [
 {
		   "cell_type": "markdown",
	   "metadata": {},
	   "source": [
       "# Chapter 10: Motion Of Charged Particle In Electric And Magnetic Field"
	   ]
	},
{
		   "cell_type": "markdown",
		   "metadata": {},
		   "source": [
			"## Example 10.10: charge_on_drop.sce"
		   ]
		  },
  {
"cell_type": "code",
	   "execution_count": null,
	   "metadata": {
	    "collapsed": true
	   },
	   "outputs": [],
"source": [
"//chapter10,Example10_10,pg 275\n",
"\n",
"//F=mg=qE\n",
"\n",
"E=250\n",
"\n",
"R=10^-8\n",
"\n",
"rho=10^3//density\n",
"\n",
"m=(4/3)*%pi*(R^3)*rho//m=volume*density\n",
"\n",
"W=m*9.8//weight of drop(mg)\n",
"\n",
"q=W/E\n",
"\n",
"printf('charge on water drop\n')\n",
"\n",
"disp(q)"
   ]
   }
,
{
		   "cell_type": "markdown",
		   "metadata": {},
		   "source": [
			"## Example 10.11: bainbridge_mass_spectograph.sce"
		   ]
		  },
  {
"cell_type": "code",
	   "execution_count": null,
	   "metadata": {
	    "collapsed": true
	   },
	   "outputs": [],
"source": [
"//chapter10,Example10_11,pg 275\n",
"\n",
"e=1.6*10^-19\n",
"\n",
"v=5*10^5\n",
"\n",
"B=0.3\n",
"\n",
"N=6.025*10^26\n",
"\n",
"M72=72/N\n",
"\n",
"R72=(M72*v)/(B*e)\n",
"\n",
"M74=74\n",
"\n",
"R74=(R72/72)*M74\n",
"\n",
"S=2*(R74-R72)//linear separation of two line\n",
"\n",
"printf('linear separation of two line\n')\n",
"\n",
"printf('S=%.2f m',S)"
   ]
   }
,
{
		   "cell_type": "markdown",
		   "metadata": {},
		   "source": [
			"## Example 10.12: calculate_flux_density.sce"
		   ]
		  },
  {
"cell_type": "code",
	   "execution_count": null,
	   "metadata": {
	    "collapsed": true
	   },
	   "outputs": [],
"source": [
"//chapter10,Example10_12,pg 276\n",
"\n",
"l=5*10^-2\n",
"\n",
"d=0.3//distance of screen from end of mag. field\n",
"\n",
"D=d+(l/2)\n",
"\n",
"y=0.01\n",
"\n",
"m=9.1*10^-31\n",
"\n",
"e=1.6*10^-19\n",
"\n",
"Va=1000\n",
"\n",
"B=(y/(D*l))*sqrt((2*m*Va)/e)\n",
"\n",
"printf('flux density\n')\n",
"\n",
"printf('B=%.8f Wb/m2',B)"
   ]
   }
,
{
		   "cell_type": "markdown",
		   "metadata": {},
		   "source": [
			"## Example 10.13: electron_in_transverse_electric_field.sce"
		   ]
		  },
  {
"cell_type": "code",
	   "execution_count": null,
	   "metadata": {
	    "collapsed": true
	   },
	   "outputs": [],
"source": [
"//chapter10,Example10_13,pg 276\n",
"\n",
"e=1.6*10^-19\n",
"\n",
"Va=150\n",
"\n",
"m=9.1*10^-31\n",
"\n",
"vx=sqrt((2*e*Va)/m)\n",
"\n",
"V=20\n",
"\n",
"d=10^-2\n",
"\n",
"ay=(e/m)*(V/d)\n",
"\n",
"l=10*10^-2\n",
"\n",
"vy=ay*(l/vx)\n",
"\n",
"theta=atan(vy/vx)\n",
"\n",
"theta=theta*(180/%pi)//converting into degree\n",
"\n",
"theta=theta*(%pi/180)//converting into radian\n",
"\n",
"Y=D*tan(theta)\n",
"\n",
"S=(Y/V)\n",
"\n",
"printf('velocity of electron reaching field vx=%.2f m/sec\n',vx)\n",
"\n",
"printf('\nacceleration due to electric field ay=%.2f m/sec2\n',ay)\n",
"\n",
"printf('\nfinal velocity attained by deflecting field vy=%.2f m/sec\n',vy)\n",
"\n",
"printf('\nangle of deflection theta=%.2f deg.\n',theta)\n",
"\n",
"printf('\ndeflection on screen Y=%.2f m\n',Y)\n",
"\n",
"printf('\ndeflection senstivity S=%.2f m/volt\n',S)"
   ]
   }
,
{
		   "cell_type": "markdown",
		   "metadata": {},
		   "source": [
			"## Example 10.1: find_KE_of_particle.sce"
		   ]
		  },
  {
"cell_type": "code",
	   "execution_count": null,
	   "metadata": {
	    "collapsed": true
	   },
	   "outputs": [],
"source": [
"//chapter10,Example10_1,pg 270\n",
"\n",
"L=1.33*10^-22\n",
"\n",
"B=0.025\n",
"\n",
"m=6.68*10^-27\n",
"\n",
"q=3.2*10^-19\n",
"\n",
"w=(B*q)/m\n",
"\n",
"E=0.5*L*w//E=0.5I(w^2),Iw=L\n",
"\n",
"E=E/(1.6*10^-19)//converting into ev\n",
"\n",
"printf('KE of particle\n')\n",
"\n",
"printf('E=%.2f ev',E)"
   ]
   }
,
{
		   "cell_type": "markdown",
		   "metadata": {},
		   "source": [
			"## Example 10.2: frequency_of_oscillation_and_maximum_energy_of_particle.sce"
		   ]
		  },
  {
"cell_type": "code",
	   "execution_count": null,
	   "metadata": {
	    "collapsed": true
	   },
	   "outputs": [],
"source": [
"//chapter10,Example10_2,pg 271\n",
"\n",
"R=0.35\n",
"\n",
"n=1.38*10^7\n",
"\n",
"m=1.67*10^-27\n",
"\n",
"q=1.6*10^-19\n",
"\n",
"B=(2*%pi*n*m)/q\n",
"\n",
"E=((B^2)*(q^2)*(R^2))/(2*m)\n",
"\n",
"E=E/q\n",
"\n",
"printf('magnetic field induction\n')\n",
"\n",
"printf('B=%.2f wb/m2',B)\n",
"\n",
"printf('\nmaximum energy of proton\n')\n",
"\n",
"printf('E=%.2f ev',E)"
   ]
   }
,
{
		   "cell_type": "markdown",
		   "metadata": {},
		   "source": [
			"## Example 10.3: radius_of_electron_trajectory_and_angular_momentum.sce"
		   ]
		  },
  {
"cell_type": "code",
	   "execution_count": null,
	   "metadata": {
	    "collapsed": true
	   },
	   "outputs": [],
"source": [
"//chapter10,Example10_3,pg 271\n",
"\n",
"m=9.1*10^-31\n",
"\n",
"e=1.6*10^-19\n",
"\n",
"//due to potential difference V, electron is accelerated\n",
"\n",
"//eV=0.5*m*(v^2)\n",
"\n",
"//due to transverse magnetic field B electron moves in circular path of radius R\n",
"\n",
"//(m*(v^2))/R=BeV\n",
"\n",
"B=1.19*10^-3\n",
"\n",
"V=1000\n",
"\n",
"v=sqrt((2*e*V)/m)\n",
"\n",
"R=(m*v)/(B*e)\n",
"\n",
"L=m*v*R\n",
"\n",
"printf('radius of electron trajectory\n')\n",
"\n",
"printf('R=%.2f m',R)\n",
"\n",
"printf('\nangular momentum of electron\n')\n",
"\n",
"disp(L)"
   ]
   }
,
{
		   "cell_type": "markdown",
		   "metadata": {},
		   "source": [
			"## Example 10.4: vertical_displacement_and_magnetic_field_of_electron.sce"
		   ]
		  },
  {
"cell_type": "code",
	   "execution_count": null,
	   "metadata": {
	    "collapsed": true
	   },
	   "outputs": [],
"source": [
"//chapter10,Example10_4,pg 272\n",
"\n",
"vx=1.7*10^7\n",
"\n",
"Ey=3.4*10^4\n",
"\n",
"x=3*10^-2\n",
"\n",
"t=x/vx\n",
"\n",
"//y=0.5*ay*(t^2)\n",
"\n",
"ay=(e*Ey)/m\n",
"\n",
"y=0.5*ay*(t^2)\n",
"\n",
"Bz=Ey/vx\n",
"\n",
"printf('verical displacement of electron \n')\n",
"\n",
"printf('y=%.2f m',y)\n",
"\n",
"printf('\nmagnitude of magnetic field\n')\n",
"\n",
"printf('B=%.4f wb/m2',B)\n",
"\n",
"printf('\ndirection of field is upward as Ey is downward')"
   ]
   }
,
{
		   "cell_type": "markdown",
		   "metadata": {},
		   "source": [
			"## Example 10.5: resonance_frequency_and_maximum_energy_of_proton.sce"
		   ]
		  },
  {
"cell_type": "code",
	   "execution_count": null,
	   "metadata": {
	    "collapsed": true
	   },
	   "outputs": [],
"source": [
"//chapter10,Example10_5,pg 272\n",
"\n",
"m=1.67*10^-27\n",
"\n",
"q=1.6*10^-19\n",
"\n",
"B=0.5\n",
"\n",
"n=((B*q)/(2*%pi*m))\n",
"\n",
"R=1\n",
"\n",
"E=((B^2)*(q^2)*(R^2))/(2*m)\n",
"\n",
"E=E/(1.6*10^-19)\n",
"\n",
"printf('frequency of oscillation voltage\n')\n",
"\n",
"printf('n=%.2f Hz',n)\n",
"\n",
"printf('\nmaximum energy of proton\n')\n",
"\n",
"printf('E=%.2f ev',E)"
   ]
   }
,
{
		   "cell_type": "markdown",
		   "metadata": {},
		   "source": [
			"## Example 10.6: calculate_force_periodic_time_and_resonance_frequency.sce"
		   ]
		  },
  {
"cell_type": "code",
	   "execution_count": null,
	   "metadata": {
	    "collapsed": true
	   },
	   "outputs": [],
"source": [
"//chapter10,Example10_6,pg 273\n",
"\n",
"q=3.2*10^-19\n",
"\n",
"m=6.68*10^-27\n",
"\n",
"B=1.5\n",
"\n",
"v=7.263*10^6\n",
"\n",
"F=B*q*v\n",
"\n",
"printf('force on particle\n')\n",
"\n",
"disp(F)\n",
"\n",
"T=(2*%pi*m)/(B*q)\n",
"\n",
"n=1/T\n",
"\n",
"printf('\nperiodic time\n')\n",
"\n",
"disp(T)\n",
"\n",
"printf('\nresonance frequency\n')\n",
"\n",
"printf('n=%.2f Hz',n)"
   ]
   }
,
{
		   "cell_type": "markdown",
		   "metadata": {},
		   "source": [
			"## Example 10.7: calculate_flux_density_and_radius_of_cyclotron_for_proton_and_alpha_particle.sce"
		   ]
		  },
  {
"cell_type": "code",
	   "execution_count": null,
	   "metadata": {
	    "collapsed": true
	   },
	   "outputs": [],
"source": [
"//chapter10,Example10_7,pg 273\n",
"\n",
"n=1.2*10^7\n",
"\n",
"mp=1.67*10^-27\n",
"\n",
"qp=1.6*10^-19\n",
"\n",
"Bp=(2*%pi*mp*n)/qp\n",
"\n",
"R=0.5\n",
"\n",
"Ep=((Bp^2)*(qp^2)*(R^2))/(2*mp)\n",
"\n",
"Ep=Ep/qp\n",
"\n",
"malp=6.68*10^-27\n",
"\n",
"qalp=2*1.6*10^-19\n",
"\n",
"Balp=(2*%pi*malp*n)/qalp\n",
"\n",
"Ealp=((Balp^2)*(qalp^2)*(R^2))/(2*malp)\n",
"\n",
"Ealp=Ealp/qp\n",
"\n",
"printf('flux density for proton\n')\n",
"\n",
"printf('Bp=%.2f Wb/m2',Bp)\n",
"\n",
"printf('\nflux density for alpha particle\n')\n",
"\n",
"printf('Balp=%.2f Wb/m2',Balp)\n",
"\n",
"printf('\nenergy of proton\n')\n",
"\n",
"printf('Ep=%.2f ev',Ep)\n",
"\n",
"printf('\nenergy of alpha particle\n') \n",
"\n",
"printf('Ealp=%.2f ev',Ealp)"
   ]
   }
,
{
		   "cell_type": "markdown",
		   "metadata": {},
		   "source": [
			"## Example 10.8: linear_separation_of_electron_beam.sce"
		   ]
		  },
  {
"cell_type": "code",
	   "execution_count": null,
	   "metadata": {
	    "collapsed": true
	   },
	   "outputs": [],
"source": [
"//chapter10,Example10_8,pg 274\n",
"\n",
"e=1.6*10^-19\n",
"\n",
"me=9.1*10^-31//mass of electron\n",
"\n",
"q=3.2*10^-19\n",
"\n",
"malp=6.68*10^-27//mass of alpha particle\n",
"\n",
"B=0.05\n",
"\n",
"V=20*10^3\n",
"\n",
"//v=sqrt((2*q*V)/m)\n",
"\n",
"//R=(1/B)*sqrt((2*m*V)/q)\n",
"\n",
"Re=(1/B)*sqrt((2*me*V)/e)\n",
"\n",
"Ralp=(1/B)*sqrt((2*malp*V)/q)\n",
"\n",
"S=2*Ralp-2*Re//linear separation between two particles on common boundary wall\n",
"\n",
"printf('linear separation between two particles on common boundary wall\n')\n",
"\n",
"printf('S=%.2f m',S)"
   ]
   }
,
{
		   "cell_type": "markdown",
		   "metadata": {},
		   "source": [
			"## Example 10.9: find_potential_difference.sce"
		   ]
		  },
  {
"cell_type": "code",
	   "execution_count": null,
	   "metadata": {
	    "collapsed": true
	   },
	   "outputs": [],
"source": [
"//chapter10,Example10_9,pg 274\n",
"\n",
"V1=200\n",
"\n",
"//electrostatic focusing condition\n",
"\n",
"//(sini/sinr)=(v2/v1)=sqrt(V2/V1)\n",
"\n",
"//0.5mv2=eV\n",
"\n",
"i=60*(%pi/180)//converting into radian\n",
"\n",
"r=45*(%pi/180)//converting into radian\n",
"\n",
"V2=200*((sin(i)/sin(r))^2)\n",
"\n",
"pd=V2-V1//potential difference\n",
"\n",
"printf('potential difference between two region\n')\n",
"\n",
"printf('\npd=%.2f Volts',pd)"
   ]
   }
],
"metadata": {
		  "kernelspec": {
		   "display_name": "Scilab",
		   "language": "scilab",
		   "name": "scilab"
		  },
		  "language_info": {
		   "file_extension": ".sce",
		   "help_links": [
			{
			 "text": "MetaKernel Magics",
			 "url": "https://github.com/calysto/metakernel/blob/master/metakernel/magics/README.md"
			}
		   ],
		   "mimetype": "text/x-octave",
		   "name": "scilab",
		   "version": "0.7.1"
		  }
		 },
		 "nbformat": 4,
		 "nbformat_minor": 0
}
