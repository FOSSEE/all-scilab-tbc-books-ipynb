{
"cells": [
 {
		   "cell_type": "markdown",
	   "metadata": {},
	   "source": [
       "# Chapter 4: Ultrasonic"
	   ]
	},
{
		   "cell_type": "markdown",
		   "metadata": {},
		   "source": [
			"## Example 4.1: find_distance_between_two_ships.sce"
		   ]
		  },
  {
"cell_type": "code",
	   "execution_count": null,
	   "metadata": {
	    "collapsed": true
	   },
	   "outputs": [],
"source": [
"//chapter4,Example4_1,pg 84\n",
"\n",
"V1=343\n",
"\n",
"//S=V1*t1\n",
"\n",
"V2=1372\n",
"\n",
"//S=V2*t2\n",
"\n",
"dt=3//time difference\n",
"\n",
"S=((V1*V2)*(dt))/(V2-V1)\n",
"\n",
"printf('distance between two ships\n')\n",
"\n",
"printf('S=%.f m',S)"
   ]
   }
,
{
		   "cell_type": "markdown",
		   "metadata": {},
		   "source": [
			"## Example 4.2: calculate_depth_of_sea.sce"
		   ]
		  },
  {
"cell_type": "code",
	   "execution_count": null,
	   "metadata": {
	    "collapsed": true
	   },
	   "outputs": [],
"source": [
"//chapter4,Example4_2,pg 84\n",
"\n",
"V=1700\n",
"\n",
"t=0.65\n",
"\n",
"d=(V*t)/2\n",
"\n",
"n=0.07*10^6\n",
"\n",
"lam=V/n\n",
"\n",
"printf('depth of sea\n')\n",
"\n",
"printf('d=%.1f m',d)\n",
"\n",
"printf('\nwavelength of pulse\n')\n",
"\n",
"printf('lam=%.4f m',lam)"
   ]
   }
,
{
		   "cell_type": "markdown",
		   "metadata": {},
		   "source": [
			"## Example 4.3: calculate_natural_frequency.sce"
		   ]
		  },
  {
"cell_type": "code",
	   "execution_count": null,
	   "metadata": {
	    "collapsed": true
	   },
	   "outputs": [],
"source": [
"//chapter4,Example4_3,pg 84\n",
"\n",
"P=1\n",
"\n",
"l=40*10^-3\n",
"\n",
"E=115*10^9\n",
"\n",
"D=7.25*10^3\n",
"\n",
"n=(P/(2*l))*sqrt(E/D)\n",
"\n",
"printf('natural frequency\n')\n",
"\n",
"printf('n=%.2f Hz',n)\n",
"\n",
"printf('\nfrequency of rod is more than audible range, rod cannot be used in magnetostriction oscillator\n')"
   ]
   }
],
"metadata": {
		  "kernelspec": {
		   "display_name": "Scilab",
		   "language": "scilab",
		   "name": "scilab"
		  },
		  "language_info": {
		   "file_extension": ".sce",
		   "help_links": [
			{
			 "text": "MetaKernel Magics",
			 "url": "https://github.com/calysto/metakernel/blob/master/metakernel/magics/README.md"
			}
		   ],
		   "mimetype": "text/x-octave",
		   "name": "scilab",
		   "version": "0.7.1"
		  }
		 },
		 "nbformat": 4,
		 "nbformat_minor": 0
}
