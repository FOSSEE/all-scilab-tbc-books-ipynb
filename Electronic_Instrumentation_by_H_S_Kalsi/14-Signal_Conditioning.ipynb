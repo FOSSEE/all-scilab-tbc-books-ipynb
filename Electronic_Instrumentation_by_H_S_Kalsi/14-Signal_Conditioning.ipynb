{
"cells": [
 {
		   "cell_type": "markdown",
	   "metadata": {},
	   "source": [
       "# Chapter 14: Signal Conditioning"
	   ]
	},
{
		   "cell_type": "markdown",
		   "metadata": {},
		   "source": [
			"## Example 14.1: To_design_a_differentiator_and_draw_its_output_waveform.sce"
		   ]
		  },
  {
"cell_type": "code",
	   "execution_count": null,
	   "metadata": {
	    "collapsed": true
	   },
	   "outputs": [],
"source": [
"// Exa 14.1\n",
"\n",
" clc;\n",
"clear all;\n",
"\n",
"\n",
"// Given data\n",
"\n",
"fa=800; // The highest frequency(Hz)\n",
"Vp=2; //Volts\n",
"\n",
"\n",
"// Solution\n",
"disp('Let C1=0.1 micro farads')\n",
"C1=0.1; // micro farads\n",
"// Then Rf is given as\n",
"Rf=1/(2*%pi*C1*10^-6*fa);// Ohms\n",
"printf(' Calculated value of Rf = %.3f k Ohms. selecting nearest higher value of 2.2 k Ohms \n ',Rf/1000);\n",
"\n",
"fb=20*fa;\n",
"R1=1/(2*%pi*C1*10^-6*fb);// Ohms\n",
"printf('The calculated value of R1 = %.1f Ohms. Let R1=100 Ohms \n',R1);\n",
"\n",
"// Since R1*C1=Rf*Cf\n",
"Cf=R1*C1*10^-6/2200;//Rf is taken as 2.2 k Ohms as stated above\n",
"printf(' The value of Cf = %.5f micro farads. Let Cf=0.0047 micro farads \n',Cf*10^6);\n",
"\n",
"Rom=(1/100+1/2200)^-1;\n",
"printf(' Rom = %.1f Ohms \n',Rom);\n",
"\n",
"t=0:0.1*10^-3:1.5*2.50*10^-3;\n",
"\n",
"Vin=Vp*sin(2*%pi*fa*t);//Input Voltage equation\n",
"xlabel('Time(sec)');\n",
"ylabel('Voltage(V)');\n",
"title('Input Voltage');\n",
"plot2d(t,Vin);\n",
"figure(1);\n",
"\n",
"Vo=-2200*0.1*10^-6*Vp*2*%pi*fa*cos(2*%pi*800*t);//Output voltage equation\n",
"xlabel('Time(sec)');\n",
"ylabel('Voltage(V)');\n",
"title('Output Voltage');\n",
"plot2d(t,Vo);\n",
"// The answers vary due to round off error"
   ]
   }
,
{
		   "cell_type": "markdown",
		   "metadata": {},
		   "source": [
			"## Example 14.2: To_determine_the_output_voltage_of_opamp.sce"
		   ]
		  },
  {
"cell_type": "code",
	   "execution_count": null,
	   "metadata": {
	    "collapsed": true
	   },
	   "outputs": [],
"source": [
"// Exa 14.2\n",
"\n",
"clc;\n",
"clear all;\n",
"\n",
"// Given data\n",
"\n",
"Va=2;// Volts\n",
"Vb=1;// Volts\n",
"Vc=3; // Volts\n",
"Ra=3;// k Ohms\n",
"Rb=3;// k Ohms\n",
"Rc=3;// k Ohms\n",
"Rf=1;// k Ohms\n",
"Rom=270;// Ohms\n",
"Supply=15;// Volts\n",
"\n",
"// Solution\n",
"\n",
"disp(' Assuming that the opamp is initially nulled');\n",
"// Using equation 14.8 to determine the output voltage\n",
"Vo=-(Rf/Ra *Va+Rf/Rb *Vb+Rf/Rc *Vc);\n",
"printf('  The output voltage = %d Volts \n',Vo);"
   ]
   }
,
{
		   "cell_type": "markdown",
		   "metadata": {},
		   "source": [
			"## Example 14.3: To_determine_the_output_voltage_at_0_degree_celsius_and_100_degree_celsius.sce"
		   ]
		  },
  {
"cell_type": "code",
	   "execution_count": null,
	   "metadata": {
	    "collapsed": true
	   },
	   "outputs": [],
"source": [
"// Exa 14.3\n",
"\n",
"clc;\n",
"clear all;\n",
"\n",
"// Given data\n",
"\n",
"R1=2.2;// k Ohms\n",
"Rf=10;// k Ohms\n",
"R=120;// (Ra=Rb=Rc) k Ohms\n",
"E=5; // Volts\n",
"Vcc=15; // Volts\n",
"Rt=120; //  k Ohms at reference temperature of 25 degree celsius\n",
"Tco=- 1; // Temperature co-efficient in  K/degree celsius\n",
"\n",
"// Given data\n",
"\n",
"disp(' At 25 degree celsius, Ra=Rb=Rc=120 K. Therefore, the bridge is balanced  and Va=Vb.Therefore, Vo=0.');\n",
"Delta_R=Tco*(0-25);\n",
"// For 0 degree celsius\n",
"printf('  At 0 degree celsius the change delta_R in the resistance of the thermistor is %d k Ohms \n ',Delta_R);\n",
"\n",
"Vo=-(Delta_R)*E*Rf/(2*(2*R+Delta_R)*R1);\n",
"printf(' The output voltage at 0 degree celsius = %.2f Volts \n ',Vo);\n",
"// For 100 degree celsius\n",
"Delta_R1=Tco*(100-25);\n",
"Vo1=-(Delta_R1)*E*Rf/(2*(2*R+Delta_R1)*R1);\n",
"\n",
"printf(' The output voltage at 100 degree celsius = %.2f Volts \n ',Vo1);"
   ]
   }
,
{
		   "cell_type": "markdown",
		   "metadata": {},
		   "source": [
			"## Example 14.4: To_determine_the_change_in_resistance_of_each_gauge_element.sce"
		   ]
		  },
  {
"cell_type": "code",
	   "execution_count": null,
	   "metadata": {
	    "collapsed": true
	   },
	   "outputs": [],
"source": [
"// Exa 14.4\n",
"// Refer circuit 14.25 given on page no. 484\n",
"\n",
"clc;\n",
"clear all;\n",
"\n",
"// Given data\n",
"\n",
"E=10;// Volts\n",
"R=50;// Unstrained gauge resistance(Ohms)\n",
"Gain=100;// Amplifier gain\n",
"Vo=1.5;// Output Voltage\n",
"\n",
"// Solution\n",
"\n",
"// Using the formula: Vo=E*(Delta_R/R)*gain\n",
"\n",
"Delta_R=Vo*R/(E*Gain);// Change in resistance\n",
"\n",
"printf('The change in resistance =%.2f Ohms\n This means that Rt1 and Rt3 decrease by 0.07 ohms \n and Rt2 and Rt4 increase by 0.07 ohms when a certain weight is placed on the scale platform\n',Delta_R);\n",
"// The answer mentioned in the textbook is incorrect as R=50 Ohms and not 100 Ohms."
   ]
   }
],
"metadata": {
		  "kernelspec": {
		   "display_name": "Scilab",
		   "language": "scilab",
		   "name": "scilab"
		  },
		  "language_info": {
		   "file_extension": ".sce",
		   "help_links": [
			{
			 "text": "MetaKernel Magics",
			 "url": "https://github.com/calysto/metakernel/blob/master/metakernel/magics/README.md"
			}
		   ],
		   "mimetype": "text/x-octave",
		   "name": "scilab",
		   "version": "0.7.1"
		  }
		 },
		 "nbformat": 4,
		 "nbformat_minor": 0
}
