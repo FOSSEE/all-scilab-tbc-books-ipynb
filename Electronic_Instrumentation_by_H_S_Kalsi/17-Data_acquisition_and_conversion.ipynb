{
"cells": [
 {
		   "cell_type": "markdown",
	   "metadata": {},
	   "source": [
       "# Chapter 17: Data acquisition and conversion"
	   ]
	},
{
		   "cell_type": "markdown",
		   "metadata": {},
		   "source": [
			"## Example 17.1: EX17_1.sce"
		   ]
		  },
  {
"cell_type": "code",
	   "execution_count": null,
	   "metadata": {
	    "collapsed": true
	   },
	   "outputs": [],
"source": [
"// Exa 17.1\n",
"\n",
"clc;\n",
"clear all;\n",
"\n",
"// Given data\n",
"// A 5 bit resistive divider\n",
"\n",
"n=5;// since 5 bit resistive divider\n",
"Ip1=[1 1 0 1 1];// Digital input 1(1st element of array is MSB)\n",
"Ip2=[1 0 1 1 0];//Digital input 2(1st element of array is MSB)\n",
"V1=10;// Voltage corresponding to binary 1\n",
"V0=0;// Voltage corresponding to binary 0\n",
"\n",
"// Solution\n",
"\n",
"LSB_weight=1/(2^n - 1);\n",
"printf('The LSB weight = %.4f \n ',LSB_weight);\n",
"LSB2_weight=2^(2-1)/(2^n-1);\n",
"printf('The 2nd LSB weight = %.4f \n ',LSB2_weight');\n",
"LSB3_weight=2^(3-1)/(2^n-1);\n",
"printf('The 3rd LSB weight = %.4f \n ',LSB3_weight');\n",
"LSB_op=V1*LSB_weight;// Change in output voltage due to change in LSB\n",
"printf('The change in output voltage due to change in LSB = %.4f V \n ',LSB_op);\n",
"LSB2_op=V1*LSB2_weight;\n",
"printf('THe 2nd LSB causes a change in output voltage of %.4f V \n ',LSB2_op);\n",
"LSB3_op=V1*LSB3_weight;\n",
"printf('THe 3rd LSB causes a change in output voltage of %.4f V \n ',LSB3_op);\n",
"Va=(V1*2^4+V1*2^3+V0*2^2+V1*2^1+V1*2^0)/(2^n-1);// output voltage for digital Ip1\n",
"Vb=(V1*2^4+V0*2^3+V1*2^2+V1*2^1+V0*2^0)/(2^n-1);\n",
"printf('The output voltage for a digital input 1 and 2 are %.2f V and %.3f V respectively \n ',Va,Vb);"
   ]
   }
,
{
		   "cell_type": "markdown",
		   "metadata": {},
		   "source": [
			"## Example 17.2: To_determine_the_output_voltages_for_each_bit.sce"
		   ]
		  },
  {
"cell_type": "code",
	   "execution_count": null,
	   "metadata": {
	    "collapsed": true
	   },
	   "outputs": [],
"source": [
"\n",
"// Exa17.2\n",
"\n",
"clc;\n",
"clear all;\n",
"\n",
"// Given data\n",
"\n",
"n=5;// 5 bit ladder\n",
"V=10;// For binary 1\n",
"\n",
"// Solution\n",
"// refering table 17.4(page no. 615)-Various Output voltage for corresponding MSB\n",
"\n",
"disp('The output voltage for each bit is as follows:');\n",
"disp('');\n",
"for i=1:n\n",
"MSB(i)=V/2^i; //voltage corresponding to MSB i\n",
"printf('  %d MSB          Va = V/2^%d = %.4f V \n ',i,i, MSB(i));\n",
"end"
   ]
   }
,
{
		   "cell_type": "markdown",
		   "metadata": {},
		   "source": [
			"## Example 17.3: To_calculate_the_output_voltage.sce"
		   ]
		  },
  {
"cell_type": "code",
	   "execution_count": null,
	   "metadata": {
	    "collapsed": true
	   },
	   "outputs": [],
"source": [
"// Exa 17.3\n",
"\n",
"clc;\n",
"clear all;\n",
"\n",
"// Given data\n",
"\n",
"Vin=5;// Input voltage(Volts)\n",
"Rin=2.5;// k Ohms\n",
"Rf=1;//k Ohms\n",
"\n",
"// Solution\n",
"\n",
"Iin=Vin/Rin;//Input current(mA)\n",
"If=Iin;\n",
"Vout=-If*Rf;\n",
"\n",
"printf('The output voltage = %d Volts \n',Vout);"
   ]
   }
,
{
		   "cell_type": "markdown",
		   "metadata": {},
		   "source": [
			"## Example 17.4: To_determine_the_output_current_for_various_4_bit_combinations.sce"
		   ]
		  },
  {
"cell_type": "code",
	   "execution_count": null,
	   "metadata": {
	    "collapsed": true
	   },
	   "outputs": [],
"source": [
"// Exa 17.4\n",
"\n",
"clc;\n",
"clear all;\n",
"\n",
"// Given data\n",
"Vref=5;//Reference voltage(V)\n",
"R=5;// k Ohms\n",
"\n",
"// Solution\n",
"\n",
"disp('From fig. 17.18(c) , for a 4-bit D/A converter I=Vref/R* (D3+D2*2^-1+D1*2^-2+D0*^-3)');\n",
"//16-input combinations are as follows\n",
"Ip={[0 0 0 0];[0 0 0 1];[0 0 1 0];[0 0 1 1];[0 1 0 0];[0 1 0 1];[0 1 1 0];[0 1 1 1];[1 0 0 0];[1 0 0 1];\n",
"[1 0 1 0];[1 0 1 1];[1 1 0 0];[1 1 0 1];[1 1 1 0];[1 1 1 1]};//[D3 D2 D1 D0 bits]\n",
"\n",
"disp('  Input Bits       Output Current(mA)    percent Fraction of maximum ');\n",
"for i=1:16\n",
"Iout(i)=Vref/R * (Ip(i,1)+Ip(i,2)*2^-1+Ip(i,3)*2^-2+Ip(i,4)*2^-3);\n",
"\n",
"printf('   %d  %d  %d  %d             %.3f            %.3f     \n',Ip(i,1),Ip(i,2),Ip(i,3),Ip(i,4),Iout(i),(Iout(i)/1.875)*100);//1.875(mA) is the highest output current\n",
"end"
   ]
   }
],
"metadata": {
		  "kernelspec": {
		   "display_name": "Scilab",
		   "language": "scilab",
		   "name": "scilab"
		  },
		  "language_info": {
		   "file_extension": ".sce",
		   "help_links": [
			{
			 "text": "MetaKernel Magics",
			 "url": "https://github.com/calysto/metakernel/blob/master/metakernel/magics/README.md"
			}
		   ],
		   "mimetype": "text/x-octave",
		   "name": "scilab",
		   "version": "0.7.1"
		  }
		 },
		 "nbformat": 4,
		 "nbformat_minor": 0
}
