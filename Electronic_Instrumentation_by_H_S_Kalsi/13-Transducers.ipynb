{
"cells": [
 {
		   "cell_type": "markdown",
	   "metadata": {},
	   "source": [
       "# Chapter 13: Transducers"
	   ]
	},
{
		   "cell_type": "markdown",
		   "metadata": {},
		   "source": [
			"## Example 13.1: To_find_the_value_of_output_voltage.sce"
		   ]
		  },
  {
"cell_type": "code",
	   "execution_count": null,
	   "metadata": {
	    "collapsed": true
	   },
	   "outputs": [],
"source": [
"// Exa 13.1\n",
"\n",
"clc;\n",
"clear all;\n",
"\n",
"// Given data\n",
"// Refer circuit given in Fig no.13.2(b) given on page no.381\n",
"\n",
"Shaft=3; // Shaft stroke in inches\n",
"Wiper=0.9;// in inches\n",
"R=5; // Total resistance(R1+R2) in K ohms\n",
"Vt=5; // Applied voltage in volts\n",
"\n",
"// Solution\n",
"\n",
"R2=Wiper/Shaft * R ;// in k Ohms\n",
"// Since Vo/Vt=R2/(R1+R2);\n",
"// Therefore\n",
"Vo=R2/(R) *Vt; // Output Voltage(R1+R2)\n",
"printf(' The output voltage = %.1f V \n',Vo);"
   ]
   }
,
{
		   "cell_type": "markdown",
		   "metadata": {},
		   "source": [
			"## Example 13.2: To_find_the_new_value_of_Vc.sce"
		   ]
		  },
  {
"cell_type": "code",
	   "execution_count": null,
	   "metadata": {
	    "collapsed": true
	   },
	   "outputs": [],
"source": [
"// Exa 13.2\n",
"\n",
"clc;\n",
"clear all;\n",
"\n",
"// Given data\n",
"Ra=5; // (R1+R2) in k Ohms\n",
"Rb=5;// (R3+R4) in k Ohms\n",
"Vt=5; // Applied voltage (V)\n",
"Shaft=5; // Shaft distance in inches\n",
"\n",
"// Solution\n",
"\n",
"disp(' As given, wiper moves 0.5 inch towards A from the centre, it will have moved 3 inches from B');\n",
"Wiper=3; // Wiper movement from B in inches\n",
"Wiper1=2.5;//Wiper movement from A in inches\n",
"R2=Wiper/Shaft * R; // in k Ohms\n",
"R4=Wiper1/Shaft * R; // in k Ohms\n",
"//Ve=VR2-VR4\n",
"Vc=(R2/(Ra)) *Vt - (R4/(Rb)) * Vt;\n",
"\n",
"printf(' The new value of Vc= %.1f V \n',Vc);\n",
""
   ]
   }
,
{
		   "cell_type": "markdown",
		   "metadata": {},
		   "source": [
			"## Example 13.3: To_calculate_the_change_in_resistance.sce"
		   ]
		  },
  {
"cell_type": "code",
	   "execution_count": null,
	   "metadata": {
	    "collapsed": true
	   },
	   "outputs": [],
"source": [
"// Exa 13.3\n",
"\n",
"clc;\n",
"clear all;\n",
"\n",
"// Given data\n",
"\n",
"K=2; // Gauge factor\n",
"strain=1*10^-6; // Ratio of change in length to original length\n",
"R=130; // Resistance in Ohms\n",
"\n",
"// Solution\n",
"\n",
"// As K = ratio of dell R/R to dell L/L\n",
"Dell_R =K*R*strain ; // Change in resistance\n",
"printf(' The change in resistance = %d micro Ohms \n',Dell_R*10^6);"
   ]
   }
,
{
		   "cell_type": "markdown",
		   "metadata": {},
		   "source": [
			"## Example 13.4: To_find_the_meter_reading_at_77_degree_fahrenheit_and_at_150_degree_fahrenheit.sce"
		   ]
		  },
  {
"cell_type": "code",
	   "execution_count": null,
	   "metadata": {
	    "collapsed": true
	   },
	   "outputs": [],
"source": [
"// Exa 13.4\n",
"\n",
"clc;\n",
"clear all;\n",
"\n",
"// Given data\n",
"\n",
"R= 4;// Resistance of thermistor in k Ohms\n",
"R1=0.003;// Meter resistance in k Ohms\n",
"Rc=0.017; // in k Ohms\n",
"Vt=15;// in Volts\n",
"\n",
"// Solution\n",
"\n",
"// From fig. 13.2(b)- graph of Temp vs Resistance we find that,thermistor resistance at 25 degree Celsius is 4  K ohms and at 65.5556 degree Celsius it is 950 ohms.\n",
"R_25= 4;// in k Ohms\n",
"R_65=0.95; // in k Ohms\n",
"\n",
"I1=Vt/(R_25+R1+Rc); // current at 25 degree Celsius(A)\n",
"I2=Vt/(R_65+R1+Rc); // current at 65.556 degree Celsius(A)\n",
"\n",
"printf(' The current meter reading at 25 degree Celsius = %.2f mA and at 150 degree fahrenheit = %.1f mA \n', I1,I2);"
   ]
   }
,
{
		   "cell_type": "markdown",
		   "metadata": {},
		   "source": [
			"## Example 13.5: To_calculate_the_output_voltage_vs_core_position_for_various_core_movements.sce"
		   ]
		  },
  {
"cell_type": "code",
	   "execution_count": null,
	   "metadata": {
	    "collapsed": true
	   },
	   "outputs": [],
"source": [
"// Exa 13.5\n",
"\n",
"clc;\n",
"clear all;\n",
"\n",
"// Given data\n",
"\n",
"Input=6.3; // V\n",
"Output=5.2; // V\n",
"Range= 9.5; // inches\n",
"\n",
"// Solution\n",
"\n",
"// 0.5 inches core displacement produces 5.2 V\n",
"// Therefore, a 0.45 inch movement produces voltage as\n",
"V1=0.45*5.2/0.5; \n",
"// Similarly - 0.30 inches core movement produces voltage as\n",
"V2=-0.30*-5.2/(-0.5); // V\n",
"// Also -0.25 inch core movement produces voltage as\n",
"V3=-0.25*-5.2/(-0.5); // V\n",
"\n",
"printf('The core movement of 0.45 inch produces voltage of %.2f V  and\n movement of -0.30 inch produces voltage of %.2f V \n' ,V1,V2);\n",
"printf(' The core movement of -0.25 inch from the centre produces voltage of %.1f V \n',V3);\n",
"\n",
""
   ]
   }
,
{
		   "cell_type": "markdown",
		   "metadata": {},
		   "source": [
			"## Example 13.6: To_calculate_the_amount_of_electrical_energy_to_be_applied.sce"
		   ]
		  },
  {
"cell_type": "code",
	   "execution_count": null,
	   "metadata": {
	    "collapsed": true
	   },
	   "outputs": [],
"source": [
"// Exa 13.6\n",
"\n",
"clc;\n",
"clear all;\n",
"\n",
"// Given data\n",
"\n",
"K=0.32; // Coupling co efficient\n",
"Op=1;// Output in oz.in.\n",
"\n",
"// Solution\n",
"\n",
"// 1 oz.in.= 1 oz.in. * (1 ft/12 in.) * (1 lb/16 oz) * (1.3561/1 ft lb) = 7.06*10^-3 J ;\n",
"\n",
"Elec_mech= 7.06*10^-3; // Electrical energy converted to mechanical energy(J)\n",
"Ee=Elec_mech/K; // Applied Electrical energy\n",
"printf(' The electrical energy of %.2f mJ must be applied \n',Ee*10^3);\n",
"// The answer mentioned in the book is incorrect"
   ]
   }
,
{
		   "cell_type": "markdown",
		   "metadata": {},
		   "source": [
			"## Example 13.7: To_calculate_the_required_series_resistance_along_with_the_dark_current_level.sce"
		   ]
		  },
  {
"cell_type": "code",
	   "execution_count": null,
	   "metadata": {
	    "collapsed": true
	   },
	   "outputs": [],
"source": [
"// Exa 13.7\n",
"\n",
"clc; \n",
"clear all;\n",
"\n",
"// Given data\n",
"// Refering circuit in fig. 13.7(a) and graph in fig.13.7(b) on page no.422\n",
"\n",
"I=10; // mA\n",
"V=30;// Volts\n",
"Illumination=400;// in l/m^2\n",
"\n",
"// Solution\n",
"\n",
"disp(' From graph(13.7(b) , cell resistance at 400 l/m^2 is 1 K ohms');\n",
"Rcell=1; // K ohms\n",
"\n",
"R1=V/I - Rcell; //Required series resistance\n",
"\n",
"Rdark=100;//Cells dark resistance in K ohms\n",
"Idark=V/(R1+Rdark); // Dark current\n",
"printf('  The required series resistance and dark current level are %d K ohms amd %.1f mA respectively \n',R1,Idark);"
   ]
   }
],
"metadata": {
		  "kernelspec": {
		   "display_name": "Scilab",
		   "language": "scilab",
		   "name": "scilab"
		  },
		  "language_info": {
		   "file_extension": ".sce",
		   "help_links": [
			{
			 "text": "MetaKernel Magics",
			 "url": "https://github.com/calysto/metakernel/blob/master/metakernel/magics/README.md"
			}
		   ],
		   "mimetype": "text/x-octave",
		   "name": "scilab",
		   "version": "0.7.1"
		  }
		 },
		 "nbformat": 4,
		 "nbformat_minor": 0
}
