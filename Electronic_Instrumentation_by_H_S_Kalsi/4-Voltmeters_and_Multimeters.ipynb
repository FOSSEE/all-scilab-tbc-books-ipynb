{
"cells": [
 {
		   "cell_type": "markdown",
	   "metadata": {},
	   "source": [
       "# Chapter 4: Voltmeters and Multimeters"
	   ]
	},
{
		   "cell_type": "markdown",
		   "metadata": {},
		   "source": [
			"## Example 4.10: To_calculate_the_value_of_multiplier_resistance.sce"
		   ]
		  },
  {
"cell_type": "code",
	   "execution_count": null,
	   "metadata": {
	    "collapsed": true
	   },
	   "outputs": [],
"source": [
"// Exa 4.10\n",
"\n",
"clc;\n",
"clear all;\n",
"\n",
"// Given data\n",
"\n",
"Vin=10; // Input RMS voltage(V)\n",
"Ifsd=1; // Full scale deflection current(mA)\n",
"Rm=250;// Internal resistance of voltmeter(ohms)\n",
"\n",
"// Solution\n",
"\n",
"Sdc=1/(Ifsd*10^-3); // DC sensitivity(K ohm/V)\n",
"Sac=0.9*Sdc; //AC sensitivity(k Ohm/V)\n",
"Rs=Sac*Vin-Rm;// Multiplier resistor(Ohm)\n",
"printf(' The value of multiplier resistor = %.2f k Ohms \n',Rs/1000);"
   ]
   }
,
{
		   "cell_type": "markdown",
		   "metadata": {},
		   "source": [
			"## Example 4.11: To_find_the_value_of_R1_and_R2_along_with_max_value_of_R2_to_compensate_a_drop.sce"
		   ]
		  },
  {
"cell_type": "code",
	   "execution_count": null,
	   "metadata": {
	    "collapsed": true
	   },
	   "outputs": [],
"source": [
"// Exa 4.11\n",
"\n",
"clc;\n",
"clear all;\n",
"\n",
"// Given data\n",
"Rm=100; // Meter resistance(Ohms)\n",
"Ifsd=1; // Full scale deflection current(mA)\n",
"Rh=2000; // Half of full scale deflection resistance(Ohms)\n",
"V=3; // Internal battery voltage(V)\n",
"\n",
"// Solution\n",
"// Using equations 4.1 and 4.2 given on page no. 104\n",
"\n",
"R1=Rh-Ifsd*10^-3*Rh/V ;// Current limiting resistance(Ohms)\n",
"R2= Ifsd*10^-3*Rm*Rh/(V-Ifsd*10^-3*Rh); // Zero adjust resistance(Ohms)\n",
" V1= V-0.05*V; // Voltage after 5 percent drop in battery voltage\n",
"R3=Ifsd*10^-3*Rh*Rm/(V1-Ifsd*10^-3*Rh);// Maximum value of R2 to compensate drop in battery\n",
"\n",
"printf(' The values of R1 and R2 are %.1f Ohms and %d Ohms respectively \n ',R1,R2);\n",
"printf('The maximum value of R2 to compensate for a 5 percentage drop \n in battery voltage is =%.2f Ohms \n',R3);\n",
""
   ]
   }
,
{
		   "cell_type": "markdown",
		   "metadata": {},
		   "source": [
			"## Example 4.1: To_calculate_the_sensitivity.sce"
		   ]
		  },
  {
"cell_type": "code",
	   "execution_count": null,
	   "metadata": {
	    "collapsed": true
	   },
	   "outputs": [],
"source": [
"// Exa 4.1\n",
"\n",
"clc;\n",
"clear all;\n",
"\n",
"// Given data\n",
"\n",
"Iful = 200; // Fullscale deflection current in micro Amperes\n",
"Sen= 1/(Iful*10^-3) ; // Sensitivity of Voltmeter(K Ohms/V)\n",
"\n",
"// Solution\n",
"\n",
"printf(' The sensitivity of the voltmeter = %d k Ohms/V \n',Sen);"
   ]
   }
,
{
		   "cell_type": "markdown",
		   "metadata": {},
		   "source": [
			"## Example 4.2: Determine_the_value_of_multiplier_resistance.sce"
		   ]
		  },
  {
"cell_type": "code",
	   "execution_count": null,
	   "metadata": {
	    "collapsed": true
	   },
	   "outputs": [],
"source": [
"// Exa 4.2\n",
"\n",
"clc;\n",
"clear all;\n",
"\n",
"// Given data\n",
"\n",
"Iful= 50; // Fullscale deflection current in micro Amperes\n",
"Rm= 500; // Internal resistance in Ohms\n",
"V= 10; // Full range voltage of instrument(Volts)\n",
"\n",
"// Solution\n",
"\n",
"Rs= V/(Iful *10^-6)-Rm; // Multiplier resistance \n",
"\n",
"printf('The value of multiplier resistance = %.1f k Ohms\n',Rs/1000);"
   ]
   }
,
{
		   "cell_type": "markdown",
		   "metadata": {},
		   "source": [
			"## Example 4.3: To_convert_a_basic_D_Arsonval_movement_into_a_multirange_dc_voltmeter.sce"
		   ]
		  },
  {
"cell_type": "code",
	   "execution_count": null,
	   "metadata": {
	    "collapsed": true
	   },
	   "outputs": [],
"source": [
"// Exa 4.3\n",
"\n",
"clc;\n",
"clear all;\n",
"\n",
"// Given data\n",
"// Refer Fig. 4.3 on page no. 77\n",
"\n",
"Rm=50; // Internal resistance of Voltmeter(ohms)\n",
"Ifsd=2; // full sclae deflection current(mA)\n",
"\n",
"//Solution\n",
"\n",
"// For 10V range(V4 position of switch)\n",
"V1=10;//Volts\n",
"Rt1=V1/(Ifsd*10^-3); //total resistance in  k Ohms\n",
"R4=Rt1-Rm;\n",
"printf('The value of R4 = %d Ohms \n',R4);\n",
"// For a 50V range(V3 position of switch)\n",
"V2=50;//Volts\n",
"Rt2=V2/(Ifsd*10^-3);\n",
"R3=Rt2-(R4+Rm);\n",
"printf(' The value of R3 = %d k Ohms \n',R3/1000);\n",
"\n",
"// For 100V range(V2 position of switch)\n",
"V3=100;//Volts\n",
"Rt3=V3/(Ifsd*10^-3); //total resistance in  k Ohms\n",
"R2=Rt3-(R3+R4+Rm);\n",
"printf(' The value of R2 = %d k Ohms \n',R2/1000);\n",
"// For a 250V range(V3 position of switch)\n",
"V4=250;//Volts\n",
"Rt4=V4/(Ifsd*10^-3);\n",
"R1=Rt4-(R2+R3+R4+Rm);\n",
"printf(' The value of R1 = %d k Ohms \n',R1/1000);\n",
"\n",
"\n",
""
   ]
   }
,
{
		   "cell_type": "markdown",
		   "metadata": {},
		   "source": [
			"## Example 4.4: To_calculate_the_value_of_multiplier_resistance.sce"
		   ]
		  },
  {
"cell_type": "code",
	   "execution_count": null,
	   "metadata": {
	    "collapsed": true
	   },
	   "outputs": [],
"source": [
"// Exa 4.4\n",
"\n",
"clc;\n",
"clear all;\n",
"\n",
"// Given data\n",
"\n",
"Iful= 200; // Full scale deflection current in micro Amperes\n",
"Rm= 100;// Internal resistance of the movement in Ohms\n",
"Range= 50; // Voltage range\n",
"\n",
"// Solution\n",
"\n",
"S= 1/(Iful * 10^-6); // Sensitivity of voltmeter is ohms/volt\n",
"// Rs=S*Range-Rm ;\n",
"Rs=S*Range-Rm; // Multiplier resistance\n",
"\n",
"printf(' The value of multiplier resistance = %.1f K Ohms \n', Rs/1000);"
   ]
   }
,
{
		   "cell_type": "markdown",
		   "metadata": {},
		   "source": [
			"## Example 4.5: To_calculate_the_value_of_multiplier_resistance_for_multiple_range_dc_voltmeter.sce"
		   ]
		  },
  {
"cell_type": "code",
	   "execution_count": null,
	   "metadata": {
	    "collapsed": true
	   },
	   "outputs": [],
"source": [
"// Exa 4.5\n",
"\n",
"clc;\n",
"clear all;\n",
"// Refer circuit diagram in  Fig. 4.5  page no.79\n",
"\n",
"// Given data\n",
"\n",
"Ifsd=50; // Full scale deflection current (micro Amp)\n",
"Rm= 1000; // Internal resistance in Ohms\n",
"V1= 5; // Range of voltmeter 1 (V)\n",
"V2=10; //Range of voltmeter 2 (V)\n",
"V3=50;// Range of voltmeter 3 (V)\n",
"\n",
"// Solution\n",
"\n",
"S= 1/(Ifsd*10^-6);  // Sensitivity of voltmeter in Ohms/V\n",
" // The value of multiplier resistance for different ranges\n",
"\n",
"// For 5V range\n",
"Rs1= S*V1-Rm;\n",
"\n",
"// For 10V range\n",
"Rs2= S*V2-Rm;\n",
"// For 50V range\n",
"Rs3=S*V3-Rm;\n",
"\n",
"printf(' The value of multiplier resistance for 0-5V , 0-10V and 0-50V range are \n  %d k Ohms, %d k Ohms, %d k Ohms respectively \n ',Rs1/1000,Rs2/1000,Rs3/1000);"
   ]
   }
,
{
		   "cell_type": "markdown",
		   "metadata": {},
		   "source": [
			"## Example 4.6: To_determine_which_voltmeter_can_give_accurate_value_of_voltage_measured.sce"
		   ]
		  },
  {
"cell_type": "code",
	   "execution_count": null,
	   "metadata": {
	    "collapsed": true
	   },
	   "outputs": [],
"source": [
"// Exa 4.6\n",
"\n",
"clc;\n",
"clear all;\n",
"// Referring Fig. 4.6- Example on loading effect from page no.81\n",
"\n",
"// Given data\n",
"R1=10000; // Ohms\n",
"R2=10000;// Ohms\n",
"V=100; // Applied Voltage\n",
"\n",
"// Solution\n",
"\n",
"VR2= R2/(R1+R2)* V;// True Voltage across R2 resistance\n",
"printf('True voltage across R2 = %d V \n ',VR2);\n",
"\n",
"// Case-1 : Using a voltmeter 1 having sensitivity of 1000 Ohms/V\n",
"\n",
"S1=1000;  // Sensitivity in Ohms/volt\n",
"R21=S1*VR2; //R2 resistance on its 50 V range(Ohms)\n",
"Req1=R21*R2/(R21+R2);// Equivalent resistance across R2(ohms)\n",
"printf('Connecting the meter 1 across R2 causes an equivalent parallel resistance given by %.2f k Ohms \n ',Req1/1000);\n",
"V21=Req1/(Req1+R2) * V; \n",
"printf('Now the voltage across the total combination is given by %.2f V \n ',V21);\n",
"\n",
"// Case-2 : Using a voltmeter having sensitivity of 20,000 Ohms/V\n",
"\n",
"S22=20000; // Sensitivity in Ohms/volt\n",
"R22=S22*VR2;// R2 resistance on its 50V range(Ohms)\n",
"Req2=R22*R2/(R22+R2);// Equivalent resistance across R2(ohms)\n",
"printf('Connecting the meter 2 across R2 causes an equivalent parallel resistance given by %.2f k Ohms \n ',Req2/1000);\n",
"V22=Req2/(Req2+R2) * V; \n",
"printf('Now the voltage across the total combination is given by %.2f V \n ',V22);\n",
"\n",
"disp(' This example shows that a high sensitivity voltmeter(i.e voltmeter 2 in  this case) should be used to get accurate readings');\n",
"// The answers vary due to riund off error."
   ]
   }
,
{
		   "cell_type": "markdown",
		   "metadata": {},
		   "source": [
			"## Example 4.7: EX4_7.sce"
		   ]
		  },
  {
"cell_type": "code",
	   "execution_count": null,
	   "metadata": {
	    "collapsed": true
	   },
	   "outputs": [],
"source": [
"// Exa 4.7\n",
"\n",
"clc;\n",
"clear all;\n",
"// Referring circuit given in fig. 4.7 on page no.81\n",
"\n",
"S1=1000; // Sensitivity of meter 1 (Ohms/volt)\n",
"S2=20000;// Sensitivity of meter 2(Ohms/volt)\n",
"Rm1=200;// Meter resistance(Ohms)\n",
"Rm2=1500;// Meter resistance(Ohms)\n",
"V1=10; // Range of voltmeter 1(Volts)\n",
"V2=10;\n",
"Ra=25000; // in Ohms\n",
"Rb=5000;// in Ohms\n",
"V=30; // Applied Voltage(V)\n",
"\n",
"//Solution\n",
"\n",
"VRb= Rb/(Ra+Rb) * V; // Voltage across Rb\n",
"printf('The voltage across the resistance Rb, without either meter connected = %d V\n ',VRb);\n",
"\n",
"// For meter 1\n",
"Rt1=S1* V1; // Total resistance of meter1\n",
"\n",
"Req1= Rb*Rt1/(Rb+Rt1); // Total resistance across Rb\n",
"VRb1= Req1/(Req1+Ra) * V; // Voltage reading across Rb with meter1\n",
"printf('The voltage across Rb when meter 1 is used is = %.2f V \n',VRb1);\n",
"Err1=(VRb-VRb1)/VRb *100; // Voltmeter 1 error\n",
"printf(' Voltmeter 1  error in percentage = %.1f  \n ',Err1);\n",
"\n",
"// For meter 2\n",
"\n",
"Rt2=S2* V2; // Total resistance of meter 2\n",
"\n",
"Req2= Rb*Rt2/(Rb+Rt2); // Total resistance across Rb\n",
"VRb2= Req2/(Req2+Ra) * V; // Voltage reading across Rb with meter2\n",
"printf('The voltage across Rb when meter 2 is used is = %.1f V \n',VRb2);\n",
"\n",
"Err2=(VRb-VRb2)/VRb *100; // Voltmeter 2 error\n",
"printf(' Voltmeter 2  error in percentage = %d \n ',Err2);"
   ]
   }
,
{
		   "cell_type": "markdown",
		   "metadata": {},
		   "source": [
			"## Example 4.8: To_calculate_voltage_reading_and_percentage_error_on_different_voltage_ranges.sce"
		   ]
		  },
  {
"cell_type": "code",
	   "execution_count": null,
	   "metadata": {
	    "collapsed": true
	   },
	   "outputs": [],
"source": [
"// Exa 4.8\n",
"\n",
"clc;\n",
"clear all;\n",
"\n",
"// Given data\n",
"\n",
"Ra= 45; // in k Ohms\n",
"Rb=5; // in k Ohms\n",
"V=50; // Supplied Voltage(V)\n",
"S=20; // sensitivity in k Ohms/V\n",
"\n",
"// Solution\n",
"\n",
"VRb=Rb/(Ra+Rb) * V;\n",
"printf('The voltage drop across Rb without the voltmeter connected is = %d V\n',VRb);\n",
"\n",
"// On the 5V range\n",
"Range1 = 5; // Volts\n",
"\n",
"Rm1=S*Range1;// k Ohms\n",
"Req1=Rm1*Rb/(Rm1+Rb);  // k Ohms\n",
"VRb1=Req1/(Req1+Ra) *V; // Voltage across Rb on 5V range\n",
"printf(' The voltmeter reading on 5V range is = %.3f V\n',VRb1);\n",
"Err1=(VRb-VRb1)/VRb * 100;\n",
"printf(' Percentage error on 5V range in percentage = %.2f \n',Err1);\n",
"\n",
"// On 10V range\n",
"\n",
"Range2 = 10; // Volts\n",
"\n",
"Rm2=S*Range2;// k Ohms\n",
"Req2=Rm2*Rb/(Rm2+Rb);  // k Ohms\n",
"VRb2=Req2/(Req2+Ra) *V; // Voltage across Rb on 10V range\n",
"printf(' The voltmeter reading on 10V range is = %.3f V\n',VRb2);\n",
"Err2=(VRb-VRb2)/VRb * 100;\n",
"printf(' Percentage error on 10V range in percentage = %.3f \n',Err2);\n",
"\n",
"// On 30V range\n",
"\n",
"Range3 = 30; // Volts\n",
"\n",
"Rm3=S*Range3;// k Ohms\n",
"Req3=Rm3*Rb/(Rm3+Rb);  // k Ohms\n",
"VRb3=Req3/(Req3+Ra) *V; // Voltage across Rb on 30V range\n",
"printf(' The voltmeter reading on 30V range is = %.3f V \n',VRb3);\n",
"Err3=(VRb-VRb3)/VRb * 100;\n",
"printf(' Percentage error on 30V range in percentage = %.1f \n',round(Err3));\n",
"\n",
"disp(' In this example, the 30V range introduces the least error due to loading. However, the voltage being measured causes only a 10% full scale deflection, whereas on the 10V range the applied voltage causes approximately a one third of the fullscale deflection with less than 3% error.');\n",
"//The answers vary due to round off error"
   ]
   }
,
{
		   "cell_type": "markdown",
		   "metadata": {},
		   "source": [
			"## Example 4.9: To_calculate_the_value_of_multiplier_resistance.sce"
		   ]
		  },
  {
"cell_type": "code",
	   "execution_count": null,
	   "metadata": {
	    "collapsed": true
	   },
	   "outputs": [],
"source": [
"// Exa 4.9\n",
"\n",
"clc;\n",
"clear all;\n",
"\n",
"// Given data\n",
"// As per values given in Fig.4.19(page no.94)\n",
"\n",
"ein=10; // Input RMS voltage(V)\n",
"Ifsd=1; // Full scale deflection current(mA)\n",
"Rm=200;// Internal resistance of voltmeter(Ohms)\n",
"\n",
"// Solution\n",
"\n",
"Range=0.45*ein; // Range of Voltmeter\n",
"Sdc=1/(Ifsd*10^-3); // DC Sensitivity of meter movement(k Ohm/V)\n",
"Rs=Sdc* Range-Rm;// Multiplier resistance(Ohm)\n",
"printf(' The value of the multiplier resistor = %.1f k Ohms\n',Rs/1000);"
   ]
   }
],
"metadata": {
		  "kernelspec": {
		   "display_name": "Scilab",
		   "language": "scilab",
		   "name": "scilab"
		  },
		  "language_info": {
		   "file_extension": ".sce",
		   "help_links": [
			{
			 "text": "MetaKernel Magics",
			 "url": "https://github.com/calysto/metakernel/blob/master/metakernel/magics/README.md"
			}
		   ],
		   "mimetype": "text/x-octave",
		   "name": "scilab",
		   "version": "0.7.1"
		  }
		 },
		 "nbformat": 4,
		 "nbformat_minor": 0
}
