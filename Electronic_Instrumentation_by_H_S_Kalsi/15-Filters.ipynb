{
"cells": [
 {
		   "cell_type": "markdown",
	   "metadata": {},
	   "source": [
       "# Chapter 15: Filters"
	   ]
	},
{
		   "cell_type": "markdown",
		   "metadata": {},
		   "source": [
			"## Example 15.10: To_determine_the_values_of_the_external_components.sce"
		   ]
		  },
  {
"cell_type": "code",
	   "execution_count": null,
	   "metadata": {
	    "collapsed": true
	   },
	   "outputs": [],
"source": [
"// Exa 15.10\n",
"\n",
"clc;\n",
"clear all;\n",
"\n",
"// Given data\n",
"// Second order inverting Butterworth low pass filter\n",
"// Refering Table 15.1 and 15.3 in page no 517 and 538 respectively\n",
"\n",
"Af=6;// DC gain\n",
"Fc=1.5;// KHz\n",
"Q=10;\n",
"\n",
"// Solution\n",
"\n",
"disp(' According to Table 15.1, the inverting configurations would normally be used to give an inverting low pass output. However, to obtain a gain of 6, an inverting uncommitted opamp has to br used, hence the non-inverting filter configuration must be used.');\n",
"\n",
"// From table 15.4 given on page no 538\n",
"R2=316/Q;\n",
"R3=100/(3.16*Q-1);\n",
"// R1 treated as open circuit\n",
"printf(' \n The R1 is open while R2 and R3 are %.1f ,k Ohms %.1f k Ohms respectively \n',R2,R3);\n",
"// From equations 15.54 given on page no 538 we get R4 and R5\n",
"R4=(5.03)*10^7/(Fc*10^3);//Ohms\n",
"R5=R4;\n",
"printf(' \n The calculated value of R4=R5=%.2f k Ohms \n',R4/1000);\n",
"disp('  use R4=R5=33 k Ohms');\n",
"\n",
"disp(' Let R6=1.8 K ohms');\n",
"R6=1.8; // K ohms\n",
"R7=R6*Af;\n",
"R8=(1/R6 + 1/R7)^-1;\n",
"\n",
"printf(' The values of R6 and R7 are %.1f k Ohms, %.3f K ohms respectively \n',R6,R7);\n",
"printf(' The value of R8 = %.3f k Ohms \n ',R8);"
   ]
   }
,
{
		   "cell_type": "markdown",
		   "metadata": {},
		   "source": [
			"## Example 15.11: Using_FLT_U2_design_a_notch_filter.sce"
		   ]
		  },
  {
"cell_type": "code",
	   "execution_count": null,
	   "metadata": {
	    "collapsed": true
	   },
	   "outputs": [],
"source": [
"// Exa 15.11\n",
"\n",
"clc;\n",
"clear all;\n",
"\n",
"// Given data\n",
"\n",
"Fc=4;// kHz\n",
"Q=8;\n",
"\n",
"// Solution\n",
"\n",
"disp(' The FLT-U2 can be used as a notch filter by summing the inverted output of the bandpass filter designed with the input signal by means of the uncommitted opamp.');\n",
"\n",
"// From table 15.3 given on page no 538\n",
"R2=100;// k Ohms\n",
"R3=100/((3.40*Q)-1);\n",
"// R1 treated as open circuit\n",
"printf(' The R1 is open while R2 and R3 are %.1f , %.2f K ohms respectively \n',R2,R3);\n",
"\n",
"// From equations 15.54 given on page no 538 we get R4 and R5\n",
"R4=(5.03)*10^7/(Fc*10^3);\n",
"R5=R4;\n",
"printf(' The calculated value of R4=R5=%.2f k Ohms(12 k Ohms) \n',R4/1000);\n",
"disp(' Let R6=R7=R8=10 K ohms ');\n",
"R=10000;//R=R6=R7=R8=10 k Ohms\n",
"R9=(1/R+1/R+1/R)^-1;\n",
"printf(' The value of R9 =%.2f K ohms \n',R9/1000);\n",
"disp(' The complete circuit diagram is shown in fig. 15.26 on page no. 541.');\n",
"// The value of R3 vary due to round off error."
   ]
   }
,
{
		   "cell_type": "markdown",
		   "metadata": {},
		   "source": [
			"## Example 15.1: To_design_a_low_pass_filter.sce"
		   ]
		  },
  {
"cell_type": "code",
	   "execution_count": null,
	   "metadata": {
	    "collapsed": true
	   },
	   "outputs": [],
"source": [
"//Exa 15.1\n",
"\n",
"clc;\n",
"clear all;\n",
"\n",
"\n",
"// Given data\n",
"Fh=2;// kHz\n",
"Af=2;// Pass band gain\n",
"\n",
"// Solution\n",
"\n",
"disp(' Let C1= 0.01 micro farads ');\n",
"C=0.01;//micro farads\n",
"R=1/(2*%pi*Fh*C);// k Ohms\n",
"printf(' The calculated value of R is %.3f K ohms. Nearest practical value for R1 is 8.2 k Ohms\n',R);\n",
"//Af=1+Rf/R1;\n",
"// As Af=2. So, Rf=R1\n",
"disp(' In this case , Rf=R1= 10 k Ohms is selected ');"
   ]
   }
,
{
		   "cell_type": "markdown",
		   "metadata": {},
		   "source": [
			"## Example 15.2: To_calculate_the_value_of_resistance.sce"
		   ]
		  },
  {
"cell_type": "code",
	   "execution_count": null,
	   "metadata": {
	    "collapsed": true
	   },
	   "outputs": [],
"source": [
"// Exa 15.2\n",
"\n",
"clc;\n",
"clear all;\n",
"\n",
"// Given data\n",
"\n",
"Wc=20*10^3; // Angular cutoff frequency in rad/s\n",
"C=0.01*10^-6; //in  farads\n",
"\n",
"// Solution\n",
"\n",
"// As Wc=1/(R*C);\n",
"R=1/(Wc*C);\n",
"\n",
"printf(' The value of resistance required = %d k Ohms \n',R/1000);"
   ]
   }
,
{
		   "cell_type": "markdown",
		   "metadata": {},
		   "source": [
			"## Example 15.3: To_design_a_second_order_low_pass_filter.sce"
		   ]
		  },
  {
"cell_type": "code",
	   "execution_count": null,
	   "metadata": {
	    "collapsed": true
	   },
	   "outputs": [],
"source": [
"// Exa 15.3\n",
"\n",
"clc;\n",
"clear all;\n",
"\n",
"// Given data\n",
"\n",
"Fh= 2*10^3;// Cutoff frequency in Hz\n",
"	\n",
"// Solution\n",
"\n",
"disp(' Let C2=C3=0.0033 micro farads ');\n",
"\n",
"// Fh=1/(2*%pi*R*C); where R=R2=R3 and C2=C3=C;\n",
"C=0.0033*10^-6; // farads\n",
"// Therefore\n",
"R=1/(2*%pi*Fh*C);\n",
"printf('  Calculated value of R = %.1f K ohms. Let, R=R2=R3=22 k Ohms is selected\n',R/1000);\n",
"// Since Rf/R1=0.586, therefore Rf=0.586*R1;\n",
"// Let fix value of R1 as\n",
"R1=10*10^3; // Ohms\n",
"Rf=0.586*R1;\n",
"printf('  The remaining components after calculation comes out to be as Rf= %.2f k Ohms and R1= %d k Ohms \n',Rf/1000,R1/1000);"
   ]
   }
,
{
		   "cell_type": "markdown",
		   "metadata": {},
		   "source": [
			"## Example 15.4: EX15_4.sce"
		   ]
		  },
  {
"cell_type": "code",
	   "execution_count": null,
	   "metadata": {
	    "collapsed": true
	   },
	   "outputs": [],
"source": [
"// Exa 15.4\n",
"\n",
"clc;\n",
"clear all;\n",
"\n",
"// Given data\n",
"// Second order filter\n",
"\n",
"R=47*10^3; // Ohms(R2=R3=R)\n",
"C=0.0022*10^-6; // farads(C2=C3=C)\n",
"\n",
"// Solution\n",
"\n",
"Fl=1/(2*%pi*R*C); //low cutoff frequency(Hz)\n",
"printf(' The low cutoff frequency for a high pass filter =%.2f kHz\n',Fl/1000);\n",
""
   ]
   }
,
{
		   "cell_type": "markdown",
		   "metadata": {},
		   "source": [
			"## Example 15.5: Design_a_wide_band_pass_filter_and_to_calculate_the_value_of_Q_for_this_filter.sce"
		   ]
		  },
  {
"cell_type": "code",
	   "execution_count": null,
	   "metadata": {
	    "collapsed": true
	   },
	   "outputs": [],
"source": [
"// Exa 15.5\n",
"\n",
"clc;\n",
"clear all;\n",
"\n",
"// Given data\n",
"\n",
"Fl=100;// lower cutoff frequency in Hz\n",
"Fh=1000;// higher cutoff frequency in Hz\n",
"Af=4;// pass band gain\n",
"\n",
"// Solution\n",
"\n",
"// Wide bandpass filter design\n",
"// 1. For a low pass filter Fh=1 KHz =1/(2*%pi*R*C);\n",
"\n",
"disp(' For a low pass filter section');\n",
"disp(' Let C1=0.01 micro farads ');\n",
"C1=0.01;// micro farads\n",
"R1=1/(2*%pi*Fh*C1*10^-6);\n",
"printf('The value of resistor = %.1f K ohms \n',R1/1000);\n",
"\n",
"// 2. For a high pass filter Fl=100 Hz=1/(2*%pi*R*C);\n",
"disp(' For a high pass filter section');\n",
"disp(' Let C2=0.01 micro farads ');\n",
"C2=0.01;// micro farads\n",
"R2=1/(2*%pi*Fl*C2*10^-6);\n",
"printf(' The value of resistor = %d K ohms \n',R2/1000);\n",
"\n",
"disp(' Since the pass band gain is 4, the gain of the high pass and low pass filter sections are set each equal to 2. Therefore, R1=Rf=10 K ohms for both sections.');\n",
"\n",
"// Q for filter\n",
"Fc=sqrt(Fl*Fh);\n",
"\n",
"Q=Fc/(Fh-Fl);\n",
"printf(' The value of Q =%.2f which is less than 10, as expected for a wide band pass filter\n',Q);"
   ]
   }
,
{
		   "cell_type": "markdown",
		   "metadata": {},
		   "source": [
			"## Example 15.6: Design_a_narrow_band_pass_filter.sce"
		   ]
		  },
  {
"cell_type": "code",
	   "execution_count": null,
	   "metadata": {
	    "collapsed": true
	   },
	   "outputs": [],
"source": [
"// Exa 15.6\n",
"\n",
"clc;\n",
"clear all;\n",
"\n",
"//Given data\n",
"// Refering fig. 15.17- Narrow band pass filter\n",
"\n",
"Fc=1; // kHz\n",
"Q=5; //Quality factor\n",
"Avo=8; //Voltage gain\n",
"Fc1=1.5;//New centre frequency(kHz)\n",
"\n",
"// Solution\n",
"\n",
"disp(' Let C1=C2=C3=C(say)=0.01 micro farads');\n",
"C=0.01;//micro farads\n",
"// But\n",
"R1=Q/(2*%pi*Fc*10^3*C*10^-6*Avo); // From eqn. 15.45 on page no.530\n",
"R2=Q/(2*%pi*Fc*10^3*C*10^-6*(2*Q^2-Avo));// From eqn. 15.47 on page no. 530\n",
"R3=Q/(%pi*Fc*10^3*C*10^-6); // From eqn. 15.46 on agr no. 530\n",
"printf(' The Values of R1, R2 and R3 are %.3f k Ohms(approx 10 k Ohms), %.3f k Ohms(approx 2 k Ohms and %.3f k Ohms(aprox 159 k Ohms) respectively\n',R1/1000,R2/1000,R3/1000); \n",
"// To change Fc to Fc1 we simply have to change R2 to R21 given as \n",
"R21=2000*(Fc/Fc1)^2;// since R2=2 k Ohms(approx)\n",
"printf('  The calculated value of new R2 to change Fc from 1 kHz to 1.5 kHz keeping Avo(Voltage gain) and BW constant is = %.2f ohms (approx 820 Ohms) \n',R21);\n",
""
   ]
   }
,
{
		   "cell_type": "markdown",
		   "metadata": {},
		   "source": [
			"## Example 15.7: Design_a_wide_band_reject_filter.sce"
		   ]
		  },
  {
"cell_type": "code",
	   "execution_count": null,
	   "metadata": {
	    "collapsed": true
	   },
	   "outputs": [],
"source": [
"// Exa 15.7\n",
"\n",
"clc;\n",
"clear all;\n",
"\n",
"// Given data\n",
"// Refering fig. 15.20- Wide band reject filter\n",
"\n",
"Fl=100;// Hz\n",
"Fh=1000;// Hz\n",
"\n",
"// Solution\n",
"// 1. For a high pass filter Fh=1 KHz =1/(2*%pi*R*C);\n",
"disp(' For a high pass filter section');\n",
"disp(' Let C1=0.01 micro farads ');\n",
"C1=0.01;// micro farads\n",
"R1=1/(2*%pi*Fh*C1*10^-6);\n",
"printf('  The value of resistor = %.1f k Ohms \n',R1/1000);\n",
"\n",
"// 2. For a low pass filter Fl=100 Hz=1/(2*%pi*R*C);\n",
"disp(' For a low pass filter section');\n",
"disp(' Let C2=0.01 micro farads ');\n",
"C2=0.01;// micro farads\n",
"R2=1/(2*%pi*Fl*C2*10^-6);\n",
"printf('  The value of resistor = %.1f k Ohms \n',R2/1000);\n",
"\n",
"disp(' Since the pass band gain is 4, the gain of the high pass and low pass filter sections are set each equal to 2. Therefore, R1=Rf=10 k Ohmss for both section');\n",
"disp(' Further, the gain of the summing amplifier is set to 1, therefore R2=R3=R4=10 k Ohms'); // K ohms\n",
"R=10000;//Ohms(R=R2=R3=R4)\n",
"Rom=(1/R+1/R+1/R)^-1;\n",
"printf('  The value of Rom = %.1f k Ohms\n',Rom/1000);\n",
"// There is a printing mistake as c=0.1 micro fard is printed instead of 0.01 micro farad."
   ]
   }
,
{
		   "cell_type": "markdown",
		   "metadata": {},
		   "source": [
			"## Example 15.8: Design_a_50_Hz_active_notch_filter.sce"
		   ]
		  },
  {
"cell_type": "code",
	   "execution_count": null,
	   "metadata": {
	    "collapsed": true
	   },
	   "outputs": [],
"source": [
"// Exa 15.8\n",
"\n",
"clc;\n",
"clear all;\n",
"\n",
"// Given data\n",
"// Active notch filter\n",
" \n",
"Fn=50; //Notch out frequency(Hz)\n",
"\n",
"// Solution\n",
"\n",
"disp(' Let C=0.047 micro farads');\n",
"C=0.047; // micro farads\n",
"R=1/(2*%pi*Fn*C*10^-6);\n",
"\n",
"printf('  The value of R is calculated as %d k Ohms \n',round(R/1000));\n",
"disp('For R/2, two 68 k Ohms resistors connected in parallel are used and for the 2C components, two 0.047 micro farad capacitors connected in parallel are used.');\n",
""
   ]
   }
,
{
		   "cell_type": "markdown",
		   "metadata": {},
		   "source": [
			"## Example 15.9: To_determine_the_phase_angle_for_the_all_pass_filter.sce"
		   ]
		  },
  {
"cell_type": "code",
	   "execution_count": null,
	   "metadata": {
	    "collapsed": true
	   },
	   "outputs": [],
"source": [
"// Exa 15.9\n",
"\n",
"clc;\n",
"clear all;\n",
"\n",
"// Given data\n",
"// Refering Fig. 15.2(a)- All pass filter\n",
"f=2.5;// Input frequency in kHz\n",
"\n",
"// Solution\n",
"\n",
"disp(' Let C=0.01 micro farads and R= 15 k Ohms');\n",
"C=0.01;// micro farads\n",
"R=15;// k Ohms\n",
"Phi=2*atan(2*%pi*f*C*R); // phase angle in radians\n",
"\n",
"printf(' This means that the output voltage Vo has the same frequency and amplitude as the input voltage but lags it by - %d degrees\n',Phi*180/%pi);\n",
""
   ]
   }
],
"metadata": {
		  "kernelspec": {
		   "display_name": "Scilab",
		   "language": "scilab",
		   "name": "scilab"
		  },
		  "language_info": {
		   "file_extension": ".sce",
		   "help_links": [
			{
			 "text": "MetaKernel Magics",
			 "url": "https://github.com/calysto/metakernel/blob/master/metakernel/magics/README.md"
			}
		   ],
		   "mimetype": "text/x-octave",
		   "name": "scilab",
		   "version": "0.7.1"
		  }
		 },
		 "nbformat": 4,
		 "nbformat_minor": 0
}
