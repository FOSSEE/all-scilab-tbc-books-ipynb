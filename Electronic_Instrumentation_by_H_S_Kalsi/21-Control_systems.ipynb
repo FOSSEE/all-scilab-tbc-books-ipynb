{
"cells": [
 {
		   "cell_type": "markdown",
	   "metadata": {},
	   "source": [
       "# Chapter 21: Control systems"
	   ]
	},
{
		   "cell_type": "markdown",
		   "metadata": {},
		   "source": [
			"## Example 21.1: To_find_the_percentage_error_in_measurement.sce"
		   ]
		  },
  {
"cell_type": "code",
	   "execution_count": null,
	   "metadata": {
	    "collapsed": true
	   },
	   "outputs": [],
"source": [
"// Exa 21.1\n",
"\n",
"clc;\n",
"clear all;\n",
"\n",
"// Given data\n",
"Emax=20; //Max value of variable(mA)\n",
"Emin=4;//Min value of variable(mA)\n",
"Em=13;//Measured value of variable\n",
"Eref=10;//Set(ref) point of variable(mA)\n",
"\n",
"// Solution\n",
"//Ep=(Em-Eref)/(Emax-Emin)*100; // Percentage error from page no.(703)\n",
"//Therefore\n",
"Ep=(Em-Eref)/(Emax-Emin)*100;\n",
"printf('The value of Ep = %.2f percent. Since Ep is positive, the measurement is above the set point \n ',Ep);"
   ]
   }
],
"metadata": {
		  "kernelspec": {
		   "display_name": "Scilab",
		   "language": "scilab",
		   "name": "scilab"
		  },
		  "language_info": {
		   "file_extension": ".sce",
		   "help_links": [
			{
			 "text": "MetaKernel Magics",
			 "url": "https://github.com/calysto/metakernel/blob/master/metakernel/magics/README.md"
			}
		   ],
		   "mimetype": "text/x-octave",
		   "name": "scilab",
		   "version": "0.7.1"
		  }
		 },
		 "nbformat": 4,
		 "nbformat_minor": 0
}
