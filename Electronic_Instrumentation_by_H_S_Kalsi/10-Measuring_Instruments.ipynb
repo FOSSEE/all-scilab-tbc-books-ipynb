{
"cells": [
 {
		   "cell_type": "markdown",
	   "metadata": {},
	   "source": [
       "# Chapter 10: Measuring Instruments"
	   ]
	},
{
		   "cell_type": "markdown",
		   "metadata": {},
		   "source": [
			"## Example 10.1: To_finf_the_value_of_distributed_capacitance_and_value_of_inductor.sce"
		   ]
		  },
  {
"cell_type": "code",
	   "execution_count": null,
	   "metadata": {
	    "collapsed": true
	   },
	   "outputs": [],
"source": [
"// Exa 10.1\n",
"\n",
"clc;\n",
"clear all;\n",
"\n",
"// Given data\n",
"\n",
"// 1st measurement\n",
"f1=1; //  in MHZ\n",
"C1=500; // in pf\n",
"// 2nd measurement\n",
"f2=2; //in MHz\n",
"C2=110; // in pf\n",
"\n",
"// Solution\n",
"// Using equation 10.2(page no. 278) to calculate distributed Capacitance\n",
"\n",
"Cs=(C1-4*C2)/3; // Distributed capacitance in pf\n",
"printf('The value of distributed capacitance = %d pf \n',Cs);\n",
"// using equation of resonant frequency given as f1=1/(2*%pi*sqrt(L*(C1+Cs));\n",
"// Therefore\n",
"L=1/(4*(%pi)^2*f1^2*(C1+Cs)); // Inductor value\n",
"\n",
"printf(' The value of L(inductor) is =%.3f micro H \n',L*10^6); "
   ]
   }
,
{
		   "cell_type": "markdown",
		   "metadata": {},
		   "source": [
			"## Example 10.2: To_determine_the_value_of_self_capacitance.sce"
		   ]
		  },
  {
"cell_type": "code",
	   "execution_count": null,
	   "metadata": {
	    "collapsed": true
	   },
	   "outputs": [],
"source": [
"// Exa 10.2\n",
"\n",
"clc;\n",
"clear all;\n",
"\n",
"// Given data\n",
"\n",
"f1=2; // in MHz\n",
"f2=6; // in MHz\n",
"C1=500; // in pf\n",
"C2=50; // in pf\n",
"\n",
"// Solution\n",
"\n",
"disp('Given that f2=3*f1');\n",
"disp('Therefore by using equation 10.1');\n",
"disp(' 1/(2*%pi*sqrt(L*(C2+Cs)) = 3/(2*%pi*sqrt(L*(C1+Cs))');\n",
"disp('Therefore');\n",
"disp('C1+Cs=9(C2+Cs)');\n",
"//Therefore Cs is given as\n",
"Cs=(C1-9*C2)/8;// Self capacitance in pf\n",
"printf(' \nThe value of the self capacitance is = %.2f pf \n', Cs);\n",
"\n",
""
   ]
   }
],
"metadata": {
		  "kernelspec": {
		   "display_name": "Scilab",
		   "language": "scilab",
		   "name": "scilab"
		  },
		  "language_info": {
		   "file_extension": ".sce",
		   "help_links": [
			{
			 "text": "MetaKernel Magics",
			 "url": "https://github.com/calysto/metakernel/blob/master/metakernel/magics/README.md"
			}
		   ],
		   "mimetype": "text/x-octave",
		   "name": "scilab",
		   "version": "0.7.1"
		  }
		 },
		 "nbformat": 4,
		 "nbformat_minor": 0
}
