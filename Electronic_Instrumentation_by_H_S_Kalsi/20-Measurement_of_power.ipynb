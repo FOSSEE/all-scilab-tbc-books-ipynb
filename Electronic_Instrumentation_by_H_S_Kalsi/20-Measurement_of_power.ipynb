{
"cells": [
 {
		   "cell_type": "markdown",
	   "metadata": {},
	   "source": [
       "# Chapter 20: Measurement of power"
	   ]
	},
{
		   "cell_type": "markdown",
		   "metadata": {},
		   "source": [
			"## Example 20.1: To_calculate_the_Rf_test_power.sce"
		   ]
		  },
  {
"cell_type": "code",
	   "execution_count": null,
	   "metadata": {
	    "collapsed": true
	   },
	   "outputs": [],
"source": [
"// Exa 20.1\n",
"\n",
"clc;\n",
"clear all;\n",
"\n",
"// Given data\n",
"\n",
"V1=20;// superimposed small AF voltage(V)\n",
"V2=30;//Bridge balance voltage(V)\n",
"R1=100;// Bridge arm resistor(ohms)\n",
"\n",
"// Solution\n",
"\n",
"RF_pwr=(V2^2-V1^2)/(4*R1);\n",
"printf('RF test power = %.2f W \n',RF_pwr);"
   ]
   }
,
{
		   "cell_type": "markdown",
		   "metadata": {},
		   "source": [
			"## Example 20.2: To_calculate_the_power_radiated_by_a_transmission_line.sce"
		   ]
		  },
  {
"cell_type": "code",
	   "execution_count": null,
	   "metadata": {
	    "collapsed": true
	   },
	   "outputs": [],
"source": [
"// Exa 20.2\n",
"\n",
"clc;\n",
"clear all;\n",
"\n",
"// Given data\n",
"\n",
"M=200;// mass in grams\n",
"Heat =1;//Sp. Heat of water(cal/gm degree)\n",
"T1=30;//Initial temperature (degree Celsius)\n",
"T2=40;//Final temperature (degree Celsius)\n",
"\n",
"// Solution\n",
"\n",
"Pwr_rad=4.18*M*Heat*(T2-T1); // in Watt\n",
"printf(' The power radiated = %.2f kW \n',Pwr_rad/1000);\n",
"\n",
"// The answer in the textbook is mentioned as 8.3 kW but by calculation it comes out to be 8.36 kW."
   ]
   }
,
{
		   "cell_type": "markdown",
		   "metadata": {},
		   "source": [
			"## Example 20.3: To_determine_the_standing_wave_ratio.sce"
		   ]
		  },
  {
"cell_type": "code",
	   "execution_count": null,
	   "metadata": {
	    "collapsed": true
	   },
	   "outputs": [],
"source": [
"// Exa 20.3\n",
"\n",
"clc;\n",
"clear all;\n",
"\n",
"// Given data\n",
"\n",
"Vmax=8;//Maximum value of voltage\n",
"Vmin=2;//minimum value of voltage\n",
"\n",
"//Solution\n",
"SWR=(Vmax+Vmin)/(Vmax-Vmin);//Standing wave ratio\n",
"printf('Standing Wave Ratio = %.2f \n ',SWR);"
   ]
   }
],
"metadata": {
		  "kernelspec": {
		   "display_name": "Scilab",
		   "language": "scilab",
		   "name": "scilab"
		  },
		  "language_info": {
		   "file_extension": ".sce",
		   "help_links": [
			{
			 "text": "MetaKernel Magics",
			 "url": "https://github.com/calysto/metakernel/blob/master/metakernel/magics/README.md"
			}
		   ],
		   "mimetype": "text/x-octave",
		   "name": "scilab",
		   "version": "0.7.1"
		  }
		 },
		 "nbformat": 4,
		 "nbformat_minor": 0
}
