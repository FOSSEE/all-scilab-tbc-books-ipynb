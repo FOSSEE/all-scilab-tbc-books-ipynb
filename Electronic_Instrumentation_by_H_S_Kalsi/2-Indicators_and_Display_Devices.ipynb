{
"cells": [
 {
		   "cell_type": "markdown",
	   "metadata": {},
	   "source": [
       "# Chapter 2: Indicators and Display Devices"
	   ]
	},
{
		   "cell_type": "markdown",
		   "metadata": {},
		   "source": [
			"## Example 2.1: To_calculate_the_deflecting_torque_and_deflection_angle.sce"
		   ]
		  },
  {
"cell_type": "code",
	   "execution_count": null,
	   "metadata": {
	    "collapsed": true
	   },
	   "outputs": [],
"source": [
"// Exa 2.1\n",
"\n",
"clc;\n",
"clear all;\n",
"\n",
"// Given data\n",
"\n",
"N= 100; //  Number of turns\n",
"W=20; // Width of coil(mm)\n",
"D= 30; // Depth of coil(mm)\n",
"B= 0.1; // Flux density (wb/m^2)\n",
"I= 10; // Current in coil(mA)\n",
"K= 2*10^-6; // Spring constant(Nm/degree)\n",
"\n",
"// Solution\n",
"A= W*10^-3*D*10^-3; // Area of coil(m^2)\n",
"Td= B*N*A*I*10^-3; // Deflecting torque(Nm)\n",
"disp('As deflecting torque = restoring torque(K*Theta)');\n",
"Theta= Td/K;\n",
"printf(' The defecting torque = %.1f * 10^-6 Nm \n ', Td*10^6);\n",
"printf('Therefore, the deflection = %d degrees \n ' , Theta);"
   ]
   }
],
"metadata": {
		  "kernelspec": {
		   "display_name": "Scilab",
		   "language": "scilab",
		   "name": "scilab"
		  },
		  "language_info": {
		   "file_extension": ".sce",
		   "help_links": [
			{
			 "text": "MetaKernel Magics",
			 "url": "https://github.com/calysto/metakernel/blob/master/metakernel/magics/README.md"
			}
		   ],
		   "mimetype": "text/x-octave",
		   "name": "scilab",
		   "version": "0.7.1"
		  }
		 },
		 "nbformat": 4,
		 "nbformat_minor": 0
}
