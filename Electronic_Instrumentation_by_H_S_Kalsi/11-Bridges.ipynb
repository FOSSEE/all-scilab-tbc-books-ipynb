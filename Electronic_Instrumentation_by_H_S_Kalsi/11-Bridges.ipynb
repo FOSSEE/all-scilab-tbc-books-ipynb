{
"cells": [
 {
		   "cell_type": "markdown",
	   "metadata": {},
	   "source": [
       "# Chapter 11: Bridges"
	   ]
	},
{
		   "cell_type": "markdown",
		   "metadata": {},
		   "source": [
			"## Example 11.10: To_find_the_equivalent_parallel_resistance_and_capacitance_of_the_Wien_bridge.sce"
		   ]
		  },
  {
"cell_type": "code",
	   "execution_count": null,
	   "metadata": {
	    "collapsed": true
	   },
	   "outputs": [],
"source": [
"// Exa 11.10\n",
"\n",
"clc;\n",
"clear all;\n",
"\n",
"// Given data\n",
"\n",
"// Wien's bridge\n",
"R1=3.1; // k Ohms\n",
"C1=5.2; // micro farads\n",
"R2=25; // k Ohms\n",
"f=2.5; // kHz\n",
"R4=100;// k Ohms\n",
"\n",
"// Solution\n",
"\n",
"w=2*%pi*f; // Angular frequency\n",
"// Substituting the value of C3 from Eq. 11.22(page no. 330) in Eq.11.21(pagr no. 330) to get value of R3 as follows\n",
"R3=R4/R2 *(R1+1/(w^2*R1*C1^2));\n",
"// Also we can get C3 from Eq. 11.22(page no. 330)\n",
"C3=1/(w^2*C1*R1*R3);\n",
"printf(' The parallel resistance of %.1f K ohms and capacitance of %.1f pf\n     causes a Wien bridge to null with values of given component values. \n',R3,C3*10^6);\n",
""
   ]
   }
,
{
		   "cell_type": "markdown",
		   "metadata": {},
		   "source": [
			"## Example 11.1: To_find_the_unknown_resistance_Rx.sce"
		   ]
		  },
  {
"cell_type": "code",
	   "execution_count": null,
	   "metadata": {
	    "collapsed": true
	   },
	   "outputs": [],
"source": [
"// Exa 11.1\n",
"\n",
"clc;\n",
"clear all;\n",
"\n",
"// Given data\n",
"\n",
"// Wheatstone's bridge  circuit\n",
"R1=10; // k Ohms\n",
"R2=15; // k Ohms\n",
"R3=40; // k Ohms\n",
"\n",
"// Solution\n",
"// From the equation (11.4) of balanced bridge we have\n",
"\n",
"Rx=R2*R3/R1; // Unknown resistance Rx\n",
"printf(' The unknown resistance Rx is = %d k Ohms \n',Rx);"
   ]
   }
,
{
		   "cell_type": "markdown",
		   "metadata": {},
		   "source": [
			"## Example 11.2: To_calculate_the_current_through_galvanometer.sce"
		   ]
		  },
  {
"cell_type": "code",
	   "execution_count": null,
	   "metadata": {
	    "collapsed": true
	   },
	   "outputs": [],
"source": [
"// Exa 11.2\n",
"\n",
"clc;\n",
"clear all;\n",
"\n",
"// Given data\n",
"//Refering fig. 11.5 - Unbalanced Wheatstone bridge\n",
"\n",
"R1=1; // in k Ohms\n",
"R2= 2.5; // in k Ohms\n",
"R3=3.5; // in k Ohms\n",
"R4=10; // in k Ohms\n",
"V= 6; // Applied Voltage(V)\n",
"Rg=0.3; // Galvanometer resistance in k Ohms\n",
"\n",
"// Solution\n",
"\n",
"// Eth=Ea-Eb ; \\ Thevenin's equivalent voltage\n",
"Eth=V*(R4/(R2+R4) - R3/(R1+R3));\n",
"Rth=(R1*R3/(R1+R3)) + (R2*R4/(R2+R4)) ;\n",
"// Refering the equivalent circuit connected along with the galvanometer as shown in fig. 11.6\n",
"Ig=Eth/(Rth+Rg) ; // Current through galvanometer\n",
"printf(' The current through galvanometer is = %.2f micro Amp \n',round(Ig*10^3));\n",
"//The answer vary due to round off error"
   ]
   }
,
{
		   "cell_type": "markdown",
		   "metadata": {},
		   "source": [
			"## Example 11.3: To_calculate_the_current_through_galvanometer_by_approximation_mehtod.sce"
		   ]
		  },
  {
"cell_type": "code",
	   "execution_count": null,
	   "metadata": {
	    "collapsed": true
	   },
	   "outputs": [],
"source": [
"// Exa 11.3\n",
"\n",
"clc;\n",
"clear all;\n",
"	\n",
"// Given data\n",
"\n",
"// Refering Fig. 11.9(page no.311) - slightly unbalanced Wheatstone bridge\n",
"R= 700; // in Ohms\n",
"Dell_R= 35; // in Ohms\n",
"E=10; // Supplied voltage(V)\n",
"Rg=125;//Internal resistance of galvanometer(Ohms)\n",
"    \n",
"// Solution\n",
"\n",
"Eth= E*Dell_R/(4*R) ; // Thevenin's equivalent voltage(V)\n",
"Rth=R; // Thevenin's equivalent resistance(Ohms)\n",
"Ig= Eth/(Rth+Rg); // Current through galvanometer(Amp)\n",
"printf(' The current through galvanometer by the approximation method is %.1f micro Amp \n',Ig*10^6);"
   ]
   }
,
{
		   "cell_type": "markdown",
		   "metadata": {},
		   "source": [
			"## Example 11.4: To_find_value_of_Rx.sce"
		   ]
		  },
  {
"cell_type": "code",
	   "execution_count": null,
	   "metadata": {
	    "collapsed": true
	   },
	   "outputs": [],
"source": [
"// Exa 11.4\n",
"\n",
"clc;\n",
"clear all;\n",
"\n",
"// Given data\n",
"// Refering Fig. 11.12(page no.315)- Kelvin's bridge\n",
"\n",
"Ra_b=1000;// The ratio of Ra to Rb\n",
"R1= 5; // in Ohms\n",
"\n",
"// Solution\n",
"\n",
"// We have R1=0.5*R2\n",
"R2=R1/0.5;\n",
"\n",
"//From the eqation for Kelvin'd bridge- Rx*Ra=Rb*R2\n",
"Rx=R2*(1/1000); // Unknown resistance\n",
"printf(' The value of Rx = %.2f Ohm \n ',Rx);"
   ]
   }
,
{
		   "cell_type": "markdown",
		   "metadata": {},
		   "source": [
			"## Example 11.5: EX11_5.sce"
		   ]
		  },
  {
"cell_type": "code",
	   "execution_count": null,
	   "metadata": {
	    "collapsed": true
	   },
	   "outputs": [],
"source": [
"// Exa 11.5\n",
"\n",
"clc;\n",
"clear all;\n",
"\n",
"// Given data\n",
"// Refering circuit in Fig. 11.15(a) and graph in 11.15(b) on page no.317\n",
"\n",
"R1=5; // k Ohms\n",
"R2=5; //k Ohms\n",
"R3= 5; // k Ohms\n",
"E=6; // Applied voltage(V)\n",
"\n",
"// Solution\n",
"\n",
"// The value of Rv when bridge is balanced is calculated as\n",
"Rv=R2*R3/R1;\n",
"printf(' The value of Rv = %d K Ohms \n' , Rv);\n",
"disp(' From the graph, the temperature at which bridge is balanced is = 80      degree celsius');\n",
"disp(' From the graph, the resistance Rv for balancing bridge at 60 degree celcius comes out to be 4.5 k Ohms ');\n",
"// Therefore\n",
"Rv1=4.5; // Resistance Rv at 60 degree celcius(K ohms)\n",
"es=E*(R3/(R1+R3) - Rv1/(R2+Rv1) ); // Error signal\n",
"printf(' The amplitude of error signal at 60 degree celsius is = %.3f V \n',es);"
   ]
   }
,
{
		   "cell_type": "markdown",
		   "metadata": {},
		   "source": [
			"## Example 11.6: To_find_the_equivalent_series_circuit_of_the_unknown_impedance.sce"
		   ]
		  },
  {
"cell_type": "code",
	   "execution_count": null,
	   "metadata": {
	    "collapsed": true
	   },
	   "outputs": [],
"source": [
"// Exa 11.6\n",
"\n",
"clc;\n",
"clear all;\n",
"\n",
"// Given data\n",
"f=2; // kHz\n",
"C3=100; // micro farads\n",
"R1=10; // k Ohms\n",
"R2=50; // k Ohms\n",
"R3=100; // k Ohms\n",
"\n",
"// Solution\n",
"\n",
"// Using equations 11.12(a) and 11.12(b) (page no. 321)to find values of Rx and Cx\n",
"\n",
"Rx=R2*R3/R1;\n",
"Cx=R1/R2 *C3;\n",
"\n",
"printf(' The equivalent circuit consist of  resistance Rx of %d K ohms \n  in series with a capacitor Cx of %d micro farads \n',Rx,Cx);"
   ]
   }
,
{
		   "cell_type": "markdown",
		   "metadata": {},
		   "source": [
			"## Example 11.7: To_find_the_equivalent_series_circuit_of_the_unknown_impedance.sce"
		   ]
		  },
  {
"cell_type": "code",
	   "execution_count": null,
	   "metadata": {
	    "collapsed": true
	   },
	   "outputs": [],
"source": [
"// Exa 11.7\n",
"\n",
"clc;\n",
"clear all;\n",
"\n",
"// Given data\n",
"\n",
"C1=0.01; // micro farads\n",
"R1=470; // k Ohms\n",
"R2=5.1; // k Ohms\n",
"R3=100; // k Ohms\n",
"\n",
"// Solution\n",
"// Using equation 11.15 given on page no. 324 to find Rx and Lx\n",
"\n",
"Rx=R2*R3/R1; \n",
"Lx=R2*R3*C1;\n",
"\n",
"printf(' The series equivalent of the unknown impedence consist of series combination\n  of Rx = %.2f k Ohms and Lx= %.1f H \n' , Rx, Lx);"
   ]
   }
,
{
		   "cell_type": "markdown",
		   "metadata": {},
		   "source": [
			"## Example 11.8: To_find_the_series_equivalent_inductance_and_resistance_of_the_nework.sce"
		   ]
		  },
  {
"cell_type": "code",
	   "execution_count": null,
	   "metadata": {
	    "collapsed": true
	   },
	   "outputs": [],
"source": [
"// Exa 11.8\n",
"\n",
" clc;\n",
"clear all;\n",
"\n",
"// Given data\n",
"\n",
"w=3000; // Angular frequency in rad/s\n",
"R2=10*10^3; // Ohms\n",
"R1= 2*10^3; // Ohms\n",
"C1=1*10^-6; // farads\n",
"R3=1*10^3; // Ohms\n",
"\n",
"// Solution\n",
"\n",
"// Using equations 11.19 and 11.18 (page no.326)to find values of Rx and Lx\n",
"\n",
"Rx=w^2*R1*R2*R3*C1^2/(1+w^2*R1^2*C1^2);\n",
"Lx=R2*R3*C1/(1+w^2*R1^2*C1^2);\n",
"\n",
"printf(' The series equivalent inductance and resistance of the network consist of\n  Rx of %.2f k Ohms and Lx of %d mH \n',Rx/1000,Lx*10^3);"
   ]
   }
,
{
		   "cell_type": "markdown",
		   "metadata": {},
		   "source": [
			"## Example 11.9: To_determine_the_unknown_capacitance_and_dissipation_factor.sce"
		   ]
		  },
  {
"cell_type": "code",
	   "execution_count": null,
	   "metadata": {
	    "collapsed": true
	   },
	   "outputs": [],
"source": [
"// Exa 11.9\n",
"\n",
"clc; \n",
"clear all;\n",
"\n",
"// Given data\n",
"\n",
"// Refering Fig. 11.26(page no.328) - an AC bridge(SCHERING'S BRIDGE)\n",
"\n",
"R1= 1; // k Ohms\n",
"C1=0.5; // micro farads\n",
"R2=2; // k Ohms\n",
"C3=0.5; // micro farads\n",
"f= 1000; // Hz\n",
"\n",
"// Solution\n",
"// Using Equations 11.20(a) and 11.20(b) given on page no. 328 we get value Rx and Cx\n",
"\n",
"Rx=C1/C3*R2;// in k Ohms\n",
"Cx=R1/R2 * C3; // in micro farads\n",
"\n",
"D=2*%pi*f*Cx*10^-6*Rx*10^3; // Dissipation factor\n",
"\n",
"printf(' The unknown capacitance Cx is equal to %.2f micro farads\n ',Cx);\n",
"printf(' The dissipation factor = %.4f \n ',D);\n",
""
   ]
   }
],
"metadata": {
		  "kernelspec": {
		   "display_name": "Scilab",
		   "language": "scilab",
		   "name": "scilab"
		  },
		  "language_info": {
		   "file_extension": ".sce",
		   "help_links": [
			{
			 "text": "MetaKernel Magics",
			 "url": "https://github.com/calysto/metakernel/blob/master/metakernel/magics/README.md"
			}
		   ],
		   "mimetype": "text/x-octave",
		   "name": "scilab",
		   "version": "0.7.1"
		  }
		 },
		 "nbformat": 4,
		 "nbformat_minor": 0
}
