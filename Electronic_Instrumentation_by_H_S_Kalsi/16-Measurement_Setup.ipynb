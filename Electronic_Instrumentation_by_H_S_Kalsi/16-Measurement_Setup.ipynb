{
"cells": [
 {
		   "cell_type": "markdown",
	   "metadata": {},
	   "source": [
       "# Chapter 16: Measurement Setup"
	   ]
	},
{
		   "cell_type": "markdown",
		   "metadata": {},
		   "source": [
			"## Example 16.1: To_calculate_modulation_index.sce"
		   ]
		  },
  {
"cell_type": "code",
	   "execution_count": null,
	   "metadata": {
	    "collapsed": true
	   },
	   "outputs": [],
"source": [
"// Exa 16.1\n",
"\n",
"clc;\n",
"clear all;\n",
"\n",
"// Given data\n",
"\n",
"fd=75; // Frequency deviation in KHz\n",
"fm=5;// Frequency of modulating signal in kHz\n",
"\n",
"// Solution\n",
"\n",
"// From equation 16.5 (page no. 590) we calculate Mi as\n",
"Mi=fd/fm; // Modulation index\n",
"\n",
"printf(' The modulation index =%d \n',Mi);"
   ]
   }
],
"metadata": {
		  "kernelspec": {
		   "display_name": "Scilab",
		   "language": "scilab",
		   "name": "scilab"
		  },
		  "language_info": {
		   "file_extension": ".sce",
		   "help_links": [
			{
			 "text": "MetaKernel Magics",
			 "url": "https://github.com/calysto/metakernel/blob/master/metakernel/magics/README.md"
			}
		   ],
		   "mimetype": "text/x-octave",
		   "name": "scilab",
		   "version": "0.7.1"
		  }
		 },
		 "nbformat": 4,
		 "nbformat_minor": 0
}
