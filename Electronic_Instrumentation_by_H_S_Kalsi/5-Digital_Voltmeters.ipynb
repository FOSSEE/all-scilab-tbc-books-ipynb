{
"cells": [
 {
		   "cell_type": "markdown",
	   "metadata": {},
	   "source": [
       "# Chapter 5: Digital Voltmeters"
	   ]
	},
{
		   "cell_type": "markdown",
		   "metadata": {},
		   "source": [
			"## Example 5.1: To_determine_the_voltage_at_ouptut_of_integrator_after_1_sec.sce"
		   ]
		  },
  {
"cell_type": "code",
	   "execution_count": null,
	   "metadata": {
	    "collapsed": true
	   },
	   "outputs": [],
"source": [
"// Exa 5.1\n",
"\n",
"clc;\n",
"clear all;\n",
"\n",
"// Given data\n",
"\n",
"R=100; //  in k Ohms\n",
"C=1;  //in micro farads\n",
"ei=1;// Applied voltage to integrator(V)\n",
"t1=1; // time in Sec\n",
"\n",
"// Solution\n",
"\n",
"// Using equation 5.1 from page no. 118\n",
"eo=ei*t1/(R*10^3*C*10^-6); // Output voltage from integrator\n",
"printf(' The voltage at output of integrator after 1 sec is = %d Volts \n',eo);\n",
""
   ]
   }
,
{
		   "cell_type": "markdown",
		   "metadata": {},
		   "source": [
			"## Example 5.2: To_find_the_time_interval_of_t2.sce"
		   ]
		  },
  {
"cell_type": "code",
	   "execution_count": null,
	   "metadata": {
	    "collapsed": true
	   },
	   "outputs": [],
"source": [
"// Exa 5.2\n",
"\n",
"clc;\n",
"clear all;\n",
"\n",
"// Given data\n",
"// With reference to data given in Exa 5.1\n",
"\n",
"ei=1; // Applied input voltage to integrator(V)\n",
"t1=1; // sec\n",
"\n",
"// Given data\n",
"\n",
"er=5;// Reference voltage applied at time t1 to integrator(V)\n",
"\n",
"//  Solution\n",
"// Using equation 5.3 from page no. 118\n",
"\n",
"t2=ei/er * t1;// Time interval t2(sec)\n",
"printf(' The time interval of t2 is = %.1f sec \n',t2);"
   ]
   }
,
{
		   "cell_type": "markdown",
		   "metadata": {},
		   "source": [
			"## Example 5.3: To_find_resolution_of_a_three_and_half_digit_display_on_1V_and_10V_ranges.sce"
		   ]
		  },
  {
"cell_type": "code",
	   "execution_count": null,
	   "metadata": {
	    "collapsed": true
	   },
	   "outputs": [],
"source": [
"// Exa 5.3\n",
"\n",
"clc;\n",
"clear all;\n",
"\n",
"// Given data\n",
"// 3 1/2 digit display\n",
"\n",
"V1=1; // Volts\n",
"V2=10;//Volts\n",
"\n",
"// Solution\n",
"disp('Number of full digits is 3.');\n",
"n=3;//Full digits\n",
"Reso=1/10^n;\n",
"printf(' Resolution = %.3f . Hence, meter cannot distinguish two values if their difference is less than %.3f \n ',Reso,Reso);\n",
"printf('For full scale reading of 1V, the resolution is %.3f V \n ',V1*Reso);\n",
"printf('For full scale reading of 10V, the resolution is %.2f V \n ',V2*Reso);"
   ]
   }
,
{
		   "cell_type": "markdown",
		   "metadata": {},
		   "source": [
			"## Example 5.4: To_find_the_resolution_and_how_output_will_be_displayed_on_1V_and_10V_ranges.sce"
		   ]
		  },
  {
"cell_type": "code",
	   "execution_count": null,
	   "metadata": {
	    "collapsed": true
	   },
	   "outputs": [],
"source": [
"// Exa 5.4\n",
"\n",
"clc;\n",
"clear all;\n",
"\n",
"// Given data\n",
"\n",
"n=4; // Number of full digits\n",
"V1=12.98;//Reading 1 to be measured(V)\n",
"V2=0.6973;//Reading 2 to be measured(V)\n",
"\n",
"// Solution\n",
"\n",
"Reso=1/10^n; //Resolution\n",
"printf(' Resolution is %.4f \n ',Reso);\n",
"disp('There are 5 digit places in 4 and 1/2 digits display, therefore 12.98     would be displayed as 12.980');\n",
"disp('');\n",
"printf(' Resolution on 1V range = %.4f. Any reading upto the 4th decimal can be displayed \n ',1*Reso);\n",
"disp('Therefore. 12.98 would be displayed as 12.980 and 0.6973 will be displayed as 0.6973');\n",
"disp('');\n",
"printf(' Resolution on 10V range = %.3f. Therefore. 12.98 would be dislayed as 12.98 \n ',10*Reso);\n",
"disp('Therefore on a 10V range,the reading of 0.6973 would be displayed as o.697 instead of 0.6973');"
   ]
   }
],
"metadata": {
		  "kernelspec": {
		   "display_name": "Scilab",
		   "language": "scilab",
		   "name": "scilab"
		  },
		  "language_info": {
		   "file_extension": ".sce",
		   "help_links": [
			{
			 "text": "MetaKernel Magics",
			 "url": "https://github.com/calysto/metakernel/blob/master/metakernel/magics/README.md"
			}
		   ],
		   "mimetype": "text/x-octave",
		   "name": "scilab",
		   "version": "0.7.1"
		  }
		 },
		 "nbformat": 4,
		 "nbformat_minor": 0
}
