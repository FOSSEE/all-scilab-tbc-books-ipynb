{
"cells": [
 {
		   "cell_type": "markdown",
	   "metadata": {},
	   "source": [
       "# Chapter 1: Qualities of Measurements"
	   ]
	},
{
		   "cell_type": "markdown",
		   "metadata": {},
		   "source": [
			"## Example 1.1: EX1_1.sce"
		   ]
		  },
  {
"cell_type": "code",
	   "execution_count": null,
	   "metadata": {
	    "collapsed": true
	   },
	   "outputs": [],
"source": [
"//Exa 1.1a\n",
"\n",
"clc;\n",
"clear all;\n",
"\n",
"Yn=80;//voltage across a resistor(Volts)\n",
"Xn=79;//Measured voltage (Volts)\n",
"\n",
"//solution\n",
"e=Yn-Xn; //absolute error\n",
"Pe=(Yn-Xn)/Yn *100;//% error\n",
"A=1-abs((Yn-Xn)/Yn); //relative accuracy\n",
"a=100*A;\n",
"printf('Absolute Error = %d V \n Percentage Error = %.2f percent\n Relative accuracy = %.4f \n Percentage of accuracy = %0.2f percent \n',e,Pe,A,a);\n",
"disp('');"
   ]
   }
,
{
		   "cell_type": "markdown",
		   "metadata": {},
		   "source": [
			"## Example 1.2: To_calculate_the_precision_of_the_6th_measurement.sce"
		   ]
		  },
  {
"cell_type": "code",
	   "execution_count": null,
	   "metadata": {
	    "collapsed": true
	   },
	   "outputs": [],
"source": [
"//Exa 1.2\n",
"\n",
"clc;\n",
"clear all;\n",
"\n",
"//Refering to table 1.1- Set of 10 measurements that were recorded in the laboratory.\n",
"\n",
"X={98;101;102;97;101;100;103;98;106;99}; //From table 1.1\n",
"\n",
"//solution\n",
"X_n= mean(X); //Average value\n",
"Prec=1-abs((X(6)-X_n)/X_n);//precision of 6th reading\n",
"printf('The precision of 6th measurement = %0.3f \n',Prec);"
   ]
   }
,
{
		   "cell_type": "markdown",
		   "metadata": {},
		   "source": [
			"## Example 1.3: EX1_3.sce"
		   ]
		  },
  {
"cell_type": "code",
	   "execution_count": null,
	   "metadata": {
	    "collapsed": true
	   },
	   "outputs": [],
"source": [
"// Exa 1.3a\n",
"\n",
"clc;\n",
"clear all;\n",
"\n",
"Sv=1000; //voltmeter sensitivity(ohm/V)\n",
"Vt=80; //Voltage across unknown resistance (V)\n",
"It=10; //Current through unknown resistance (mA)\n",
"Scale=150; //Volts\n",
"\n",
"//solution\n",
"\n",
"//Neglecting milliammeter resistance\n",
"Rt=Vt/It; //Total circuit resistance(K  ohm)\n",
"Rv=Sv*Scale/1000; //Voltmeter resistance(K ohm/V)\n",
"Rx=Rt*Rv/(Rv-Rt); //actual value of unknown resistance(K ohm)\n",
"err=(Rx-Rt)/Rx *100;\n",
"printf('Apparent value of resistance = %d K ohm \n Actual value of resistance = %.2f K ohm \n Percentage error = %.1f percent \n',Rt,Rx,err);\n",
"disp('');\n",
"\n",
"// Exa 1.3b\n",
"\n",
"Sv=1000; //voltmeter sensitivity(ohm/V)\n",
"Vt=30; //Voltage across unknown resistance (V)\n",
"It=600; //Current through unknown resistance (mA)\n",
"Scale=150; //Volts\n",
"\n",
"//solution\n",
"\n",
"//Neglecting milliammeter resistance\n",
"Rt=Vt/(It*10^-3); //Total circuit resistance(ohm)\n",
"Rv=Sv*Scale; //Voltmeter resistance(ohm/V)\n",
"Rx=Rt*Rv/(Rv-Rt); //actual value of unknown resistance(ohm)\n",
"err=(Rx-Rt)/Rx *100;\n",
"printf('Apparent value of resistance = %d ohm \n Actual value of resistance = %.3f ohm \n Percentage error = %.3f \n',Rt,Rx,err);\n",
"disp('In Example1.3a, a well calibrated voltmeter may give a misleading resistance when connected across two points in a high resistance circuit.')\n",
"disp('The same voltmeter, when connected in a low resistance circuit(Examole 1.3b) may give a more dependable reading. This shows that voltmeters have a loading effect in the circuit during measurement.');\n",
"// In the 1.3b example, the answer mentioned in the textbook for Rx and percent error is isncorrect.\n",
""
   ]
   }
,
{
		   "cell_type": "markdown",
		   "metadata": {},
		   "source": [
			"## Example 1.4: EX1_4.sce"
		   ]
		  },
  {
"cell_type": "code",
	   "execution_count": null,
	   "metadata": {
	    "collapsed": true
	   },
	   "outputs": [],
"source": [
"// Exa 1.4\n",
"\n",
"clc;\n",
"clear all;\n",
"\n",
"// Given data\n",
"x1= 49.7;\n",
"x2= 50.1;\n",
"x3= 50.2;\n",
"x4= 49.6;\n",
"x5= 49.7;\n",
"\n",
"// solution\n",
"\n",
"X_mean= (x1+x2+x3+x4+x5)/5; // Arithmatic mean\n",
"\n",
"d1= x1-X_mean;\n",
"d2= x2-X_mean; // deviation from each value\n",
"d3= x3-X_mean;\n",
"d4=x4-X_mean;\n",
"d5=x5-X_mean;\n",
"\n",
"d_total= d1+d2+d3+d4+d5; //Algebraic sum of deviations\n",
"\n",
"printf('The arithmatic mean is %.2f \n \n',X_mean);\n",
"printf(' Deviation from x1 is %.2f \n ',d1);\n",
"printf('Deviation from x2 is %.2f \n ',d2);\n",
"printf('Deviation from x3 is %.2f \n ',d3);\n",
"printf('Deviation from x4 is %.2f \n ',d4);\n",
"printf('Deviation from x5 is %.2f \n \n',d5);\n",
"printf(' The algebraic sum of deviation is %d \n',d_total);"
   ]
   }
,
{
		   "cell_type": "markdown",
		   "metadata": {},
		   "source": [
			"## Example 1.5: To_find_the_average_deviation_for_given_data.sce"
		   ]
		  },
  {
"cell_type": "code",
	   "execution_count": null,
	   "metadata": {
	    "collapsed": true
	   },
	   "outputs": [],
"source": [
"// Exa 1.5\n",
"//Data taken from Exa 1.4 as stated\n",
"\n",
"clc;\n",
"clear all;\n",
"\n",
"// Given data\n",
"\n",
"x1= 49.7;\n",
"x2= 50.1;\n",
"x3= 50.2;\n",
"x4= 49.6;\n",
"x5= 49.7;\n",
"n= 5; // number of x values\n",
"\n",
"// solution\n",
"\n",
"X_mean= (x1+x2+x3+x4+x5)/5; // Arithmatic Mean\n",
"d1= x1-X_mean;\n",
"d2= x2-X_mean; // deviation from each value\n",
"d3= x3-X_mean;\n",
"d4=x4-X_mean;\n",
"d5=x5-X_mean;\n",
"\n",
"D_av= (abs(d1)+abs(d2)+abs(d3)+abs(d4)+abs(d5))/n;  //Average deviation\n",
"printf('The average deviation = %.3f \n',D_av);"
   ]
   }
,
{
		   "cell_type": "markdown",
		   "metadata": {},
		   "source": [
			"## Example 1.6: To_find_the_standard_deviation_for_the_data_given.sce"
		   ]
		  },
  {
"cell_type": "code",
	   "execution_count": null,
	   "metadata": {
	    "collapsed": true
	   },
	   "outputs": [],
"source": [
"// Exa 1.6\n",
"//Data taken from Eg 1.4 as stated\n",
"\n",
"clc;\n",
"clear all;\n",
"\n",
"// Given data\n",
"\n",
"x1= 49.7;\n",
"x2= 50.1;\n",
"x3= 50.2;\n",
"x4= 49.6;\n",
"x5= 49.7;\n",
"n= 5; // number of x values\n",
"\n",
"// solution\n",
"\n",
"X_mean= (x1+x2+x3+x4+x5)/5; // Arithmatic Mean\n",
"d1= x1-X_mean;\n",
"d2= x2-X_mean; // deviation from each value\n",
"d3= x3-X_mean;\n",
"d4=x4-X_mean;\n",
"d5=x5-X_mean;\n",
"\n",
"Std_dev= sqrt((d1^2+d2^2+d3^2+d4^2+d5^2)/(n-1));  //Standard deviation \n",
"printf('The standard deviation = %.2f \n',Std_dev);\n",
""
   ]
   }
,
{
		   "cell_type": "markdown",
		   "metadata": {},
		   "source": [
			"## Example 1.7: To_calculate_the_limiting_error.sce"
		   ]
		  },
  {
"cell_type": "code",
	   "execution_count": null,
	   "metadata": {
	    "collapsed": true
	   },
	   "outputs": [],
"source": [
"// Exa 1.7\n",
"\n",
"clc;\n",
"clear all;\n",
"\n",
"// Given data\n",
"\n",
"Range= 600; //volgmeter range(volts)\n",
"Accu= 0.02; //Accuracy \n",
"X= 250; //voltage to be measured(volts)\n",
"\n",
"// Solution\n",
"\n",
"Mag= Accu * Range; //magnitude of limiting error\n",
"X_mag = Mag/X * 100; // limiting error at 250V inpercentag\n",
"\n",
"printf('Limiting error when instrument is used to measure at 250V = %.1f percentage \n',X_mag);\n",
"\n",
"    "
   ]
   }
,
{
		   "cell_type": "markdown",
		   "metadata": {},
		   "source": [
			"## Example 1.8: To_determine_the_limiting_error_of_the_power.sce"
		   ]
		  },
  {
"cell_type": "code",
	   "execution_count": null,
	   "metadata": {
	    "collapsed": true
	   },
	   "outputs": [],
"source": [
"// Exa 1.8\n",
"\n",
"clc;\n",
"clear all;\n",
"\n",
"// Given data\n",
"\n",
"X= 100; // Range of voltmeter(V)\n",
"x= 70; // Measured value on voltmeter(V)\n",
"Y= 150; // Range of milliammeter\n",
"y= 80; // Measurex  d value on milliammeter\n",
"Accu= 0.015; // Accuracy of instruments\n",
"\n",
"// Solution\n",
"\n",
"X_mag= Accu*X; //Magnitude of limiting error for voltmeter\n",
"Y_mag= Accu*Y; // Magnitude of limiting error for milliammeter\n",
"x_mag= X_mag/x; // limiting error at 70V\n",
"y_mag= Y_mag/y; // limiting error at 80mA\n",
"\n",
"disp('Limiting error for the power calculation is the sum of the individual limiting errors involved');\n",
"printf(' Therefore, limiting error = %.3f percentage \n',(x_mag+y_mag)*100);\n",
"// The answer vary due to round off error"
   ]
   }
],
"metadata": {
		  "kernelspec": {
		   "display_name": "Scilab",
		   "language": "scilab",
		   "name": "scilab"
		  },
		  "language_info": {
		   "file_extension": ".sce",
		   "help_links": [
			{
			 "text": "MetaKernel Magics",
			 "url": "https://github.com/calysto/metakernel/blob/master/metakernel/magics/README.md"
			}
		   ],
		   "mimetype": "text/x-octave",
		   "name": "scilab",
		   "version": "0.7.1"
		  }
		 },
		 "nbformat": 4,
		 "nbformat_minor": 0
}
