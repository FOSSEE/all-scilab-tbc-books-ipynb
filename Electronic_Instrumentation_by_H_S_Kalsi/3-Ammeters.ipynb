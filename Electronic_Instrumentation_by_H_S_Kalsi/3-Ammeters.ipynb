{
"cells": [
 {
		   "cell_type": "markdown",
	   "metadata": {},
	   "source": [
       "# Chapter 3: Ammeters"
	   ]
	},
{
		   "cell_type": "markdown",
		   "metadata": {},
		   "source": [
			"## Example 3.1: To_calculate_the_value_of_shunt_resistance.sce"
		   ]
		  },
  {
"cell_type": "code",
	   "execution_count": null,
	   "metadata": {
	    "collapsed": true
	   },
	   "outputs": [],
"source": [
"//  Exa 3.1\n",
"\n",
"clc;\n",
"clear all;\n",
"\n",
"// Given data\n",
"\n",
"Rm= 100; // Internal resistance in Ohm's\n",
"Im= 1; // Full scale deflecfion current in milliAmpere\n",
"I= 100; // Total current in milli Ampere\n",
"\n",
"// Solution\n",
"\n",
"Rsh= (Im*Rm)/(I-Im); // Shunt resistance \n",
"printf('The value of shunt resistance = %.2f  Ohm \n', Rsh);\n",
""
   ]
   }
,
{
		   "cell_type": "markdown",
		   "metadata": {},
		   "source": [
			"## Example 3.2: To_design_an_Aryton_shunt.sce"
		   ]
		  },
  {
"cell_type": "code",
	   "execution_count": null,
	   "metadata": {
	    "collapsed": true
	   },
	   "outputs": [],
"source": [
"// Exa 3.2\n",
"\n",
"clc;\n",
"clear all;\n",
"\n",
"// Given data\n",
"\n",
"//Refer fig. 3.4\n",
"Rm=100;//Ohms\n",
"Im=50; ///micro Amp\n",
"\n",
"// Solution\n",
"\n",
"//For 0-1mA range\n",
" // Ish*Rsh=Im*Rm;\n",
" disp('The four linear equations are as follows:');\n",
" printf(' R1+R2+R3+R4 = %.2f \n ',50*100/950);  //say-equaion (3.1)\n",
" \n",
" //For 0-10 mA range\n",
" printf('R1+R2+R3-(50/9950)*R4= % .3f \n ',100*50/9950); //say-equation(3.2)\n",
" \n",
" //For 0-50 mA range\n",
" printf('R1+R2-(50/49950)*R3-(50/49950)*R4 = %.3f \n ',100*50/49950); //say-equation(3.3)\n",
" \n",
" //For 0-100mA range\n",
" printf('R1-(50/99950)*R2-(50/99950)*R3-(50/99950)*R4 = %.3f \n ',50*100/99950);//say-equation(3.4)\n",
" \n",
" //converting it into matrix form\n",
" A=[1 1 1 1;1 1 1 -(50/9950);1 1 -(50/49950) -(50/49950);1 (-50/99950)  (-50/99950) (-50/99950)];\n",
" \n",
" B=[-50*100/950 ; -100*50/9950  ; -100*50/49950 ;  -50*100/99950];\n",
" \n",
" [R,y]=linsolve(A,B);A*R+B;//linear equaion solving function\n",
" \n",
" disp('The value of R1,R2 R4 and R4 are given as follows-');\n",
" printf(' R1 = %.5f Ohms \n R2= %.5f Ohms \n R3= %.5f Ohms \n R4= %.5f Ohms \n ',R(1),R(2),R(3),R(4));\n",
" \n",
" // The value of R3 vary due to round off errors"
   ]
   }
],
"metadata": {
		  "kernelspec": {
		   "display_name": "Scilab",
		   "language": "scilab",
		   "name": "scilab"
		  },
		  "language_info": {
		   "file_extension": ".sce",
		   "help_links": [
			{
			 "text": "MetaKernel Magics",
			 "url": "https://github.com/calysto/metakernel/blob/master/metakernel/magics/README.md"
			}
		   ],
		   "mimetype": "text/x-octave",
		   "name": "scilab",
		   "version": "0.7.1"
		  }
		 },
		 "nbformat": 4,
		 "nbformat_minor": 0
}
