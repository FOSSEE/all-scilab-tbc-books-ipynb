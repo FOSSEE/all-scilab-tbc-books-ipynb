{
"cells": [
 {
		   "cell_type": "markdown",
	   "metadata": {},
	   "source": [
       "# Chapter 7: Oscilloscope"
	   ]
	},
{
		   "cell_type": "markdown",
		   "metadata": {},
		   "source": [
			"## Example 7.1: To_determine_the_peak_to_peak_amplitude_of_the_signal.sce"
		   ]
		  },
  {
"cell_type": "code",
	   "execution_count": null,
	   "metadata": {
	    "collapsed": true
	   },
	   "outputs": [],
"source": [
"// Exa 7.1\n",
"\n",
"clc;\n",
"clear all;\n",
"\n",
"// Given data\n",
"// Referring to waveform shown in fig 7.50 on page 211\n",
"\n",
"V_attn= 0.5; // Vertical attenuator(V/div)\n",
"div=3; // No of vertical divisions\n",
"\n",
"// Solution\n",
"\n",
"// Using equation : Vp-p=(volts/div) * (no. Of div/1);\n",
"\n",
"Vp_p=V_attn * div/1 ;\n",
"\n",
"printf(' The peak to peak amplitude of the signal = %.1f Volts \n',Vp_p);\n",
""
   ]
   }
,
{
		   "cell_type": "markdown",
		   "metadata": {},
		   "source": [
			"## Example 7.2: To_determine_the_frequency_of_the_signal.sce"
		   ]
		  },
  {
"cell_type": "code",
	   "execution_count": null,
	   "metadata": {
	    "collapsed": true
	   },
	   "outputs": [],
"source": [
"// Exa 7.2\n",
"\n",
"clc;\n",
"clear all;\n",
"\n",
"//Given data\n",
"// Refering waveform shown in fig 7.50 on page no. 211\n",
"\n",
"div=4; // No of horizontal divisions for One cycle\n",
"// Given data\n",
"time_div= 2; // Time per div control in micro sec/div\n",
"\n",
"// Solution\n",
"\n",
"// The period of signal is given as T=(time/div) *(No of div/ cycle);\n",
"T=time_div *10^-6 * div/1 ; // Time period is calculated over 1 cycle\n",
"F= 1/T; // Frequency is inverse of time period\n",
"\n",
"printf(' The frequency of signal = %d kHz \n',F/1000);"
   ]
   }
],
"metadata": {
		  "kernelspec": {
		   "display_name": "Scilab",
		   "language": "scilab",
		   "name": "scilab"
		  },
		  "language_info": {
		   "file_extension": ".sce",
		   "help_links": [
			{
			 "text": "MetaKernel Magics",
			 "url": "https://github.com/calysto/metakernel/blob/master/metakernel/magics/README.md"
			}
		   ],
		   "mimetype": "text/x-octave",
		   "name": "scilab",
		   "version": "0.7.1"
		  }
		 },
		 "nbformat": 4,
		 "nbformat_minor": 0
}
