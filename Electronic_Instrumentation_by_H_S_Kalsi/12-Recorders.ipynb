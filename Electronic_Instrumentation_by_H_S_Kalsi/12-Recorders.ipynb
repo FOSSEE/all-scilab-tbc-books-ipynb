{
"cells": [
 {
		   "cell_type": "markdown",
	   "metadata": {},
	   "source": [
       "# Chapter 12: Recorders"
	   ]
	},
{
		   "cell_type": "markdown",
		   "metadata": {},
		   "source": [
			"## Example 12.1: To_determine_the_frequency_of_the_signal.sce"
		   ]
		  },
  {
"cell_type": "code",
	   "execution_count": null,
	   "metadata": {
	    "collapsed": true
	   },
	   "outputs": [],
"source": [
"// Exa 12.1\n",
"\n",
"clc;\n",
"clear all;\n",
"\n",
"// Given data\n",
"\n",
"Chart_speed=40; // in mm/sec\n",
"Time_base=5; // in mm\n",
"\n",
"// Solution\n",
"\n",
"Period= Time_base/Chart_speed;\n",
"frequ=1/Period;\n",
"printf(' The frequency of the signal = %d cycles/sec \n',frequ);"
   ]
   }
,
{
		   "cell_type": "markdown",
		   "metadata": {},
		   "source": [
			"## Example 12.2: To_find_chart_speed_to_record_on_5mm_of_recording_paper.sce"
		   ]
		  },
  {
"cell_type": "code",
	   "execution_count": null,
	   "metadata": {
	    "collapsed": true
	   },
	   "outputs": [],
"source": [
"// Exa 12.2\n",
"\n",
"clc;\n",
"clear all;\n",
"\n",
"// Given data\n",
"\n",
"fre=20; // in Hz\n",
"Time_base=5*10^-3; // in \n",
"\n",
"// Solution\n",
"\n",
"Period=1/fre;  // in sec\n",
"// Since period= timebase/ chart speed;\n",
"Chart_speed=Time_base/Period; // in mm/sec\n",
"\n",
"printf(' The chart speed used to record one complete cycle on 5mm of recording paper  =%.1f mm/sec \n',Chart_speed*10^3);"
   ]
   }
],
"metadata": {
		  "kernelspec": {
		   "display_name": "Scilab",
		   "language": "scilab",
		   "name": "scilab"
		  },
		  "language_info": {
		   "file_extension": ".sce",
		   "help_links": [
			{
			 "text": "MetaKernel Magics",
			 "url": "https://github.com/calysto/metakernel/blob/master/metakernel/magics/README.md"
			}
		   ],
		   "mimetype": "text/x-octave",
		   "name": "scilab",
		   "version": "0.7.1"
		  }
		 },
		 "nbformat": 4,
		 "nbformat_minor": 0
}
