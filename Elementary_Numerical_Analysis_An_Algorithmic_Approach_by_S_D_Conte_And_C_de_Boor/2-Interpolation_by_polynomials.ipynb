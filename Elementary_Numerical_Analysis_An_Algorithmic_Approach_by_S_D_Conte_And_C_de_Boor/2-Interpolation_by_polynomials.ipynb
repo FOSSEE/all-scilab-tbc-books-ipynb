{
"cells": [
 {
		   "cell_type": "markdown",
	   "metadata": {},
	   "source": [
       "# Chapter 2: Interpolation by polynomials"
	   ]
	},
{
		   "cell_type": "markdown",
		   "metadata": {},
		   "source": [
			"## Example 2.1: shifted_power_form.sce"
		   ]
		  },
  {
"cell_type": "code",
	   "execution_count": null,
	   "metadata": {
	    "collapsed": true
	   },
	   "outputs": [],
"source": [
"//Example 2.1\n",
"// Given   p(6000)=1/3  , p(6001)=-2/3\n",
"// From p(x)=a0+a1*x , by substituting x=6000 & x=6001\n",
"// we get equations a0+a1*(6000)=1/3 & a0+a1*(6001)=-2/3\n",
"//solving the above equations we get\n",
"a0=6000.3\n",
"a1=-1\n",
"deff('[y]=f(x)','y=6000.3-x')\n",
"f(6000)\n",
"f(6001)\n",
"// y=6000.3-x , equation recovers only only the first digit of the \n",
"  // given function values,a loss of four decimal digits \n",
"  // remedy for such loss of significance is the use of SHIFTED POWER FORM\n",
"  //p(x)=a0 + a1*(x-c) + a2*(x-c)^2 + .......+an*(x-c)^n\n",
"  //if we choose the center c to be 6000\n",
"  \n",
"  deff('[y]=p(x)','y=0.33333-(x-6000)')\n",
"  p(6000)\n",
"  p(6001)"
   ]
   }
,
{
		   "cell_type": "markdown",
		   "metadata": {},
		   "source": [
			"## Example 2.2: second_degree_interpolating_polynomial.sce"
		   ]
		  },
  {
"cell_type": "code",
	   "execution_count": null,
	   "metadata": {
	    "collapsed": true
	   },
	   "outputs": [],
"source": [
"//Example 2.2\n",
" \n",
" K(1)=1.5709\n",
" K(4)=1.5727\n",
" K(6)=1.5751\n",
" l0(3.5)=[(3.5-4)*(3.5-6)]/[(1-4)*(1-6)]\n",
" l1(3.5)=[(3.5-1)*(3.5-6)]/[(4-1)*(4-6)]\n",
" l2(3.5)=[(3.5-1)*(3.5-4)]/[(6-1)*(6-4)]\n",
" K(3.5)=l0(3.5)*K(1)+l1(3.5)*K(4)+l2(3.5)*K(6);\n",
" K(3.5)\n",
" "
   ]
   }
,
{
		   "cell_type": "markdown",
		   "metadata": {},
		   "source": [
			"## Example 2.3: determine_polynomial_by_newton_formula.sce"
		   ]
		  },
  {
"cell_type": "code",
	   "execution_count": null,
	   "metadata": {
	    "collapsed": true
	   },
	   "outputs": [],
"source": [
"//Example 2.3\n",
"         //Using Newton formula\n",
"x0=1\n",
"x1=4\n",
"x2=6\n",
" P2(1)=1.5709\n",
" P2(4)=1.5727\n",
" P2(6)=1.5751\n",
" K1=[P2(1)-P2(4)]/(1-4)\n",
" K2=[P2(4)-P2(6)]/(4-6)\n",
" K3={K1-K2}/(1-6)\n",
"           // Where as K1 = K[1,4] , K2 =[4,6] ,K3 = [1,4,6]\n",
"            deff('[y]=f(x)','y=P2(x0)+K1*(x-x0)+K3*(x-x0)*(x-x1)')\n",
"            funcprot(0)\n",
"x=poly(0,'x')\n",
"y=P2(x0)+K1*(x-x0)+K3*(x-x0)*(x-x1)\n",
"x=3.5\n",
"f"
   ]
   }
,
{
		   "cell_type": "markdown",
		   "metadata": {},
		   "source": [
			"## Example 2.5: Newtons_formula.sce"
		   ]
		  },
  {
"cell_type": "code",
	   "execution_count": null,
	   "metadata": {
	    "collapsed": true
	   },
	   "outputs": [],
"source": [
"//Example 2.5\n",
" x0=1\n",
" x1=4\n",
" x2=6\n",
" x3=0\n",
"  x4=3.5\n",
"   K(1)=1.5709\n",
" K(4)=1.5727\n",
" K(6)=1.5751\n",
"  P2(1)=1.5709\n",
" P2(4)=1.5727\n",
" P2(6)=1.5751\n",
" \n",
"  p0=K(1)\n",
"  U0=1    //U0=U0(x')\n",
" K1=[P2(1)-P2(4)]/(1-4)\n",
" // Where as K1 = K[1,4]\n",
" U1=(x4-x0)*U0      //U1=U1(x')\n",
" p1=p0+U1*K1         //p1=p1(x')\n",
" \n",
" //adding the point x2=6\n",
" K2=[P2(4)-P2(6)]/(4-6)\n",
"        // Where as K2 =K[4,6]\n",
"        \n",
" K3={K1-K2}/(1-6)\n",
"        // Where as K1 = K[1,4] , K2 =K[4,6] ,K3 = K[1,4,6]\n",
"   U2=(x4-x0)*(x4-x1)        //U2=U2(x')\n",
"   p2=p1+U2*K3      //p2=p2(x')\n",
" \n",
"   // to check error approximation for k(3.5) we add point x3=0\n",
"  // K(0)=1.5708=a\n",
"  // p2(0)=1.5708=K(0)\n",
"  a=1.5708\n",
"   K4=[P2(6)-a]/(6-0)\n",
" //K4=K[x2,x3]=[6,0]\n",
"K5=-0.000001\n",
" //K5=K[x0,x1,x2,x3]\n",
" U3=(x4-x2)*(x4-x1)*(x4-x0)      //U3=U3(x')\n",
" \n",
" p3=p2+U3*K5\n",
" //p3=p3(x')"
   ]
   }
,
{
		   "cell_type": "markdown",
		   "metadata": {},
		   "source": [
			"## Example 2.7: find_N.sce"
		   ]
		  },
  {
"cell_type": "code",
	   "execution_count": null,
	   "metadata": {
	    "collapsed": true
	   },
	   "outputs": [],
"source": [
"//Example 2.7\n",
"deff('[y]=f(x)','y=(x)^(1/2)')\n",
"x0=1\n",
"x1=2\n",
"//abs(f(x')-p2(x')) <= ((x1-x0)^2)*M/8\n",
"//  abs(f(x')-p2(x')) <= 2*((h)^3)/(3*(3)^(1/3))\n",
"h=(5*((10)^(-8))*24*((3)^(1/2)))^(1/3)\n",
"//h is approximately 0.0128\n",
"//h=(x1-x0)/N\n",
"N={(x1-x0)/h}\n",
"//N is aproximately 79"
   ]
   }
],
"metadata": {
		  "kernelspec": {
		   "display_name": "Scilab",
		   "language": "scilab",
		   "name": "scilab"
		  },
		  "language_info": {
		   "file_extension": ".sce",
		   "help_links": [
			{
			 "text": "MetaKernel Magics",
			 "url": "https://github.com/calysto/metakernel/blob/master/metakernel/magics/README.md"
			}
		   ],
		   "mimetype": "text/x-octave",
		   "name": "scilab",
		   "version": "0.7.1"
		  }
		 },
		 "nbformat": 4,
		 "nbformat_minor": 0
}
