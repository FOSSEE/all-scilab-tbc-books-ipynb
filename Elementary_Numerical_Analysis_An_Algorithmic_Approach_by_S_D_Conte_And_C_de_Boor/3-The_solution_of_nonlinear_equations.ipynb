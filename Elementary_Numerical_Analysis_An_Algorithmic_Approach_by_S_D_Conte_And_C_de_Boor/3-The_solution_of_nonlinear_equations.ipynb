{
"cells": [
 {
		   "cell_type": "markdown",
	   "metadata": {},
	   "source": [
       "# Chapter 3: The solution of nonlinear equations"
	   ]
	},
{
		   "cell_type": "markdown",
		   "metadata": {},
		   "source": [
			"## Example 3.10: Roots_of_polynomial_equation.sce"
		   ]
		  },
  {
"cell_type": "code",
	   "execution_count": null,
	   "metadata": {
	    "collapsed": true
	   },
	   "outputs": [],
"source": [
"//example(3.10)\n",
" c=[-3 1 0 1]]\n",
" p3=poly(c,'x','coeff')\n",
" roots(p3)\n",
" //here\n",
"  xset('window',0);                                   \n",
"x=-2:.01:2.5;                                             // defining the range of x.\n",
"deff('[y]=f(x)','y=x^3+x-3');                  //defining the cunction \n",
"y=feval(x,f);\n",
" \n",
"a=gca(); \n",
" \n",
"a.y_location = 'origin';\n",
" \n",
"a.x_location = 'origin'; \n",
"plot(x,y)                                                  // instruction to plot the graph\n",
"title(' y =x^3+x-3')"
   ]
   }
,
{
		   "cell_type": "markdown",
		   "metadata": {},
		   "source": [
			"## Example 3.11: Roots_of_polynomial_equation.sce"
		   ]
		  },
  {
"cell_type": "code",
	   "execution_count": null,
	   "metadata": {
	    "collapsed": true
	   },
	   "outputs": [],
"source": [
"//example(3.11)\n",
" c=[-6.8 10.8 -10.8 7.4 -3.7 1]\n",
" p5=poly(c,'y','coeff')\n",
" roots(p5)"
   ]
   }
,
{
		   "cell_type": "markdown",
		   "metadata": {},
		   "source": [
			"## Example 3.12: Roots_of_polynomial_equation.sce"
		   ]
		  },
  {
"cell_type": "code",
	   "execution_count": null,
	   "metadata": {
	    "collapsed": true
	   },
	   "outputs": [],
"source": [
"//example(3.12)\n",
" c=[-5040 13068 -13132 6769 -1960 322 -28 1]\n",
" p7=poly(c,'y','coeff')\n",
" roots(p7)\n",
" \n",
" \n",
" "
   ]
   }
,
{
		   "cell_type": "markdown",
		   "metadata": {},
		   "source": [
			"## Example 3.14: Roots_of_a_polynomial_equation.sce"
		   ]
		  },
  {
"cell_type": "code",
	   "execution_count": null,
	   "metadata": {
	    "collapsed": true
	   },
	   "outputs": [],
"source": [
"//example(3.14)\n",
" c=[-3 1 0 1]\n",
" p3=poly(c,'y','coeff')\n",
" roots(p3)\n",
" "
   ]
   }
,
{
		   "cell_type": "markdown",
		   "metadata": {},
		   "source": [
			"## Example 3.15: Roots_of_a_polynomial_equation.sce"
		   ]
		  },
  {
"cell_type": "code",
	   "execution_count": null,
	   "metadata": {
	    "collapsed": true
	   },
	   "outputs": [],
"source": [
"//example(3.15)\n",
"c=[-6.8 10.8 -10.8 7.4 -3.7 1]\n",
"p5=poly(c,'x','coeff')\n",
"roots(p5)"
   ]
   }
,
{
		   "cell_type": "markdown",
		   "metadata": {},
		   "source": [
			"## Example 3.16: Roots_of_polynomial_equation.sce"
		   ]
		  },
  {
"cell_type": "code",
	   "execution_count": null,
	   "metadata": {
	    "collapsed": true
	   },
	   "outputs": [],
"source": [
"//example(3.16)\n",
"c=[-5040 13068 -13132 6769 -1960 322 -28 1]\n",
"p7=poly(c,'x','coeff')\n",
"roots(p7)"
   ]
   }
,
{
		   "cell_type": "markdown",
		   "metadata": {},
		   "source": [
			"## Example 3.17_a: Roots_of_a_polynomial_equation.sce"
		   ]
		  },
  {
"cell_type": "code",
	   "execution_count": null,
	   "metadata": {
	    "collapsed": true
	   },
	   "outputs": [],
"source": [
"//example(3.17)\n",
" c=[51200 0 -39712 0 7392 0 -170 0 1 ]\n",
" p8=poly(c,'x','coeff')\n",
"roots(p8)\n",
" xset('window',0);                                   \n",
"x=-11:01:11;                                             // defining the range of x.\n",
"deff('[y]=f(x)','y=x^8-170*x^6+7392*x^4-39712*x^2+51200');                  //defining the cunction \n",
"y=feval(x,f);\n",
" \n",
"a=gca(); \n",
" \n",
"a.y_location = 'origin';\n",
" \n",
"a.x_location = 'origin'; \n",
"plot(x,y)                                                  // instruction to plot the graph\n",
"title(' y =x^8-170*x^6+7392*x^4-39712*x^2+51200')"
   ]
   }
,
{
		   "cell_type": "markdown",
		   "metadata": {},
		   "source": [
			"## Example 3.1: Root_finding.sce"
		   ]
		  },
  {
"cell_type": "code",
	   "execution_count": null,
	   "metadata": {
	    "collapsed": true
	   },
	   "outputs": [],
"source": [
"   // Example(3.1)\n",
"// finding roots using bisection method\n",
"    \n",
"     deff('[y]=f(x)','y=x-0.2*sin(x)-0.5')\n",
"     bisection(0.5,1.0,f)\n",
"//regula falsi method\n",
"deff('[y]=f(x)','y=x-0.2*sin(x)-0.5')\n",
"regularfalsi(0.5,1.0,f)\n",
"//secant method\n",
"deff('[y]=f(x)','y=x-0.2*sin(x)-0.5')\n",
"secant(0.5,1.0,f)\n",
"//newton rapson method\n",
"x=(0.5+1)/2\n",
"deff('[y]=f(x)','y=x-0.2*sin(x)-0.5')\n",
"deff ('[y]=g(x)','y=1-0.2*cos(x)')\n",
"x=newton(x,f,g)"
   ]
   }
,
{
		   "cell_type": "markdown",
		   "metadata": {},
		   "source": [
			"## Example 3.2_a: finding_roots.sce"
		   ]
		  },
  {
"cell_type": "code",
	   "execution_count": null,
	   "metadata": {
	    "collapsed": true
	   },
	   "outputs": [],
"source": [
"//example(3.2a) \n",
"//bisection method\n",
"deff('[y]=f(x)','y=x^3-x-1')\n",
"bisection(1.0,1.5,f)\n",
"//regula falsi method\n",
"deff('[y]=f(x)','y=x^3-x-1')\n",
"regularfalsi(1.0,1.5,f)\n",
"//secant method\n",
"deff('[y]=f(x)','y=x^3-x-1')\n",
"secant(1.0,1.5,f)\n",
"//newton rapson method\n",
"x=(0.5+1)/2\n",
"deff('[y]=f(x)','y=x^3-x-1')\n",
"deff('[y]=g(x)','y=1-0.2*cos(x)')\n",
"newton(x,f,g)"
   ]
   }
,
{
		   "cell_type": "markdown",
		   "metadata": {},
		   "source": [
			"## Example 3.3: Fixed_point_iteration.sce"
		   ]
		  },
  {
"cell_type": "code",
	   "execution_count": null,
	   "metadata": {
	    "collapsed": true
	   },
	   "outputs": [],
"source": [
"//example(3.3)\n",
"                //here f(x)=e^(-x)-sin(x) ,according to fixed point iteration we take g(x)=x=x+e^(-x)-sin(x);\n",
"                   // so, xn=g(xn)\n",
"deff('[y]=g(x)','y=x+(2.718)^(-x)-sin(x)')\n",
"x=0.6\n",
"for n=1:1:18\n",
" g(x);\n",
"   x=g(x)\n",
"end"
   ]
   }
,
{
		   "cell_type": "markdown",
		   "metadata": {},
		   "source": [
			"## Example 3.4: Fixed_point_iteration.sce"
		   ]
		  },
  {
"cell_type": "code",
	   "execution_count": null,
	   "metadata": {
	    "collapsed": true
	   },
	   "outputs": [],
"source": [
"//example(3.4)\n",
"    //here f(x)=1.5*x-tan(x)-0.1=0, according to fixed point iteration we get x=(0.1+tan(x))/1.5\n",
"   //where g(x)=x=(0.1+tan(x))/1.5\n",
"   //& xn=g(xn)\n",
"deff('[y]=g(x)','y=(0.1+tan(x))/1.5')\n",
"x=0\n",
"for n=1:1:10\n",
"    g(x);\n",
"    x=g(x)\n",
"end"
   ]
   }
,
{
		   "cell_type": "markdown",
		   "metadata": {},
		   "source": [
			"## Example 3.5: Secant_method.sce"
		   ]
		  },
  {
"cell_type": "code",
	   "execution_count": null,
	   "metadata": {
	    "collapsed": true
	   },
	   "outputs": [],
"source": [
"//example(3.5)  \n",
"deff ('[y]=f(x)','y=x^3-x-1')\n",
"secant(1.0,1.5,f)"
   ]
   }
,
{
		   "cell_type": "markdown",
		   "metadata": {},
		   "source": [
			"## Example 3.8_a: Roots_of_a_polynomial_equation.sce"
		   ]
		  },
  {
"cell_type": "code",
	   "execution_count": null,
	   "metadata": {
	    "collapsed": true
	   },
	   "outputs": [],
"source": [
"//example(pg no.111)\n",
"//a,b & f are the modulus coeff of x^0,x^1,x^5\n",
" c=[-6.8 10.8 -10.8 7.4 -3.7 1]\n",
" a=6.8;\n",
" b=10.8;\n",
" f=1;\n",
"  n=5\n",
" p5=poly(c,'x','coeff')\n",
"  p=n*a/b\n",
"  q=a/f^(1/n)\n",
" roots(p4)\n",
" \n",
" xset('window',0);                                   \n",
"x=-2:.01:2.5;                                             // defining the range of x.\n",
"deff('[y]=f(x)','y=x^5-3.7*x^4+7.4*x^3-10.8*x^2+10.8*x-6.8');                  //defining the cunction \n",
"y=feval(x,f);\n",
" \n",
"a=gca(); \n",
" \n",
"a.y_location = 'origin';\n",
" \n",
"a.x_location = 'origin'; \n",
"plot(x,y)                                                  // instruction to plot the graph\n",
"title(' y = 8*x^3-12*x^2-2*x+3')"
   ]
   }
,
{
		   "cell_type": "markdown",
		   "metadata": {},
		   "source": [
			"## Example 3.8: Polynomial_equations_real_roots.sce"
		   ]
		  },
  {
"cell_type": "code",
	   "execution_count": null,
	   "metadata": {
	    "collapsed": true
	   },
	   "outputs": [],
"source": [
"//example(3.8)\n",
"  //a,b & e are the modulus coeff of x^0,x^1,x^4\n",
" c=[-1 1 -1 -1 1]\n",
"a=1;\n",
"b=1;\n",
"e=1;\n",
" n=4\n",
" p4=poly(c,'x','coeff')\n",
"  p=n*a/b\n",
"  q=(a/e)^(1/n)\n",
" roots(p4)\n",
"      //from here we found that only 2 real roots,other two are complex roots\n",
" xset('window',0);                                   \n",
"x=-2:0.1:3;                                             // defining the range of x.\n",
"deff('[y]=f(x)','y=x^4-x^3-x^2+x-1');                  //defining the function \n",
"y=feval(x,f);\n",
" \n",
"a=gca(); \n",
" \n",
"a.y_location = 'origin';\n",
" \n",
"a.x_location = 'origin'; \n",
"plot(x,y)                                                  // instruction to plot the graph\n",
"title(' y =x^4-x^3-x^2+x-1')\n",
" \n",
" \n",
" "
   ]
   }
],
"metadata": {
		  "kernelspec": {
		   "display_name": "Scilab",
		   "language": "scilab",
		   "name": "scilab"
		  },
		  "language_info": {
		   "file_extension": ".sce",
		   "help_links": [
			{
			 "text": "MetaKernel Magics",
			 "url": "https://github.com/calysto/metakernel/blob/master/metakernel/magics/README.md"
			}
		   ],
		   "mimetype": "text/x-octave",
		   "name": "scilab",
		   "version": "0.7.1"
		  }
		 },
		 "nbformat": 4,
		 "nbformat_minor": 0
}
