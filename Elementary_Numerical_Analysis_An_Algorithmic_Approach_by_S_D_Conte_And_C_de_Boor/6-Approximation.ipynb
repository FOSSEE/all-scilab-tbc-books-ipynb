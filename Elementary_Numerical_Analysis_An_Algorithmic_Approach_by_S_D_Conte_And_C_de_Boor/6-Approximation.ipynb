{
"cells": [
 {
		   "cell_type": "markdown",
	   "metadata": {},
	   "source": [
       "# Chapter 6: Approximation"
	   ]
	},
{
		   "cell_type": "markdown",
		   "metadata": {},
		   "source": [
			"## Example 6.11: polynomial_of_degree_lessthan_3.sce"
		   ]
		  },
  {
"cell_type": "code",
	   "execution_count": null,
	   "metadata": {
	    "collapsed": true
	   },
	   "outputs": [],
"source": [
" \n",
"//Example 6.11\n",
"x0=-1\n",
"x1=18\n",
"         //pi=<f,pi>\n",
"p0=integrate('exp(x)','x',x0,x1)\n",
"p1=integrate('x*exp(x)','x',x0,x1)\n",
"p2=integrate('(exp(x))*((x^2)-(1/3))','x',x0,x1)\n",
"p3=integrate('(exp(x))*((x^3)-3*x/5)','x',x0,x1)\n",
"//for legendre polynomials one can show\n",
"//si= <pi,pi> = 2/(2*i+1)\n",
"s0=2/(2*0+1)\n",
"s1=2/(2+1)\n",
"s2=2/(2*2+1)\n",
"s3=2/(2*3+1)\n",
"//di*=<f,pi>/si\n",
"//p*(x)=y=d0*1+d1*x+d2*(3/2)*((x^2)-(1/3))+d3*((x^3)-3*x/5)*(5/2)\n",
"//p*(x)=y=(p0/s0)*1+(p1/s1)*x+(p2/s2)*(3/2)*((x^2)-(1/3))+(p3/s3)*((x^3)-3*x/5)*(5/2)\n",
"poly(0,'x')\n",
"y=1.17552011*(1)+(1.103638324)*(x)+(0.3578143506)*(3/2)*((x^2)-(1/3))+(0.07045563367)*((x^3)-3*x/5)*(5/2)\n",
"//On (-1,1) ,this polynomial a maximum deviation from exp(x) of about 0.01"
   ]
   }
,
{
		   "cell_type": "markdown",
		   "metadata": {},
		   "source": [
			"## Example 6.12: Least_squares_approximatio.sce"
		   ]
		  },
  {
"cell_type": "code",
	   "execution_count": null,
	   "metadata": {
	    "collapsed": true
	   },
	   "outputs": [],
"source": [
"/Example 6.12\n",
"//Least squares approximation\n",
"deff('[y]=f(x)','y=10-2*x+((x^2)/10)')\n",
"//we seek the polynomial of degree <= 2 which minimizes\n",
"//sum(n=1 to 9)[fn-p(xn)]^2\n",
"//we are dealing with scalar product with w(x)=1\n",
"P0(x)=1\n",
"//hence\n",
"s0=0;\n",
"B=0;\n",
"A1=0;\n",
"s1=0;\n",
"for n=1:1:6\n",
"s0=s0+1\n",
"B=[10+(n-1)/5]+B\n",
"A1=[10+[n-1]/5]*{[((n-1)/5)-0.5]^2}+A1\n",
"s1={[((n-1)/5)-0.5]^2}+s1\n",
"end\n",
"B0=B/s0\n",
"B1=A1/s1\n",
"C1=s1/s0\n",
"x=poly(0,'x')\n",
"y1=x-B0\n",
"x=poly(0,'x')\n",
"y2=((x-B0)^2)-0.1166667\n",
"//similarly calculate s2\n",
"s2=0.05973332\n",
"//p*(x)=(d0*)*P0(x)+(d1*)*P1(x)+(d2*)*P2(x)\n",
"//d0*=d0,d1*=d1,d2*=d2 are least squares approximation\n",
"//d0*=d0=sigma(n=1 to 6)[fn/6]      where fn=f(xn)\n",
"d0=0.03666667\n",
"d1=0.1\n",
"d2=0.0999999\n",
"x=poly(0,'x')\n",
"p=d0+d1*(x-B0)+d2*{[(x-B0)^2]-C1}\n",
" //c1=c1* ,c2=c2*,c3=c3*\n",
" c1=9.99998\n",
"c2=-1.9999998\n",
"c3=0.0999999\n",
" "
   ]
   }
,
{
		   "cell_type": "markdown",
		   "metadata": {},
		   "source": [
			"## Example 6.1: uniform_aproximation.sce"
		   ]
		  },
  {
"cell_type": "code",
	   "execution_count": null,
	   "metadata": {
	    "collapsed": true
	   },
	   "outputs": [],
"source": [
"//Example 6.1\n",
"deff('[y]=f(x)','y=exp(x)')\n",
"x0=-1\n",
"x1=0\n",
"x2=1\n",
"//  F=f(x0,x1,x2)=f(-1,0,1)\n",
"F=f(x0)/[(x1-x0)*(x2-x0)]+f(x1)/[(x0-x1)*(x2-x1)]+f(x2)/[(x0-x2)*(x1-x2)]\n",
"   // W(-1,0,1)=2 and so, for a<= -1,1 <=b\n",
"  // |f[-1,0,1]|/2 <= dist(at infinity)(f,pi1)*****\n",
"  // dist(exp(x),pi1) >= 0.27154"
   ]
   }
,
{
		   "cell_type": "markdown",
		   "metadata": {},
		   "source": [
			"## Example 6.2: distance_at_infinity.sce"
		   ]
		  },
  {
"cell_type": "code",
	   "execution_count": null,
	   "metadata": {
	    "collapsed": true
	   },
	   "outputs": [],
"source": [
"//Example 6.2\n",
" deff('[y]=f(x)','y =tan((%pi/4)*x)')\n",
" \n",
" // on std interval -1 <= x <= 1 from pi3\n",
" // this is an odd function f(-x)=f(x)\n",
" n=4\n",
"p= (1/(2*(n+1)))*(f(1)-2*f(cos(%pi/(n+1)))+2*f(cos(2*%pi/(n+1)))-2*f(cos(3*%pi/(n+1)))+2*f(cos(4*%pi/(n+1)))-f(-1))\n",
"     // 0.00203 <= dist(at infinity)(f,pi4)=p=0.0041"
   ]
   }
,
{
		   "cell_type": "markdown",
		   "metadata": {},
		   "source": [
			"## Example 6.3: aproximatio.sce"
		   ]
		  },
  {
"cell_type": "code",
	   "execution_count": null,
	   "metadata": {
	    "collapsed": true
	   },
	   "outputs": [],
"source": [
"//Example 6.3\n",
"deff('[y]=f(x)','y=exp(x)')\n",
"xset('window',0);\n",
"x=-1:.01:1;                // defining the range of x.\n",
"y=feval(x,f);\n",
" \n",
"a=gca(); \n",
" \n",
"a.y_location = 'origin';\n",
" \n",
"a.x_location = 'origin'; \n",
"plot(x,y)                // instruction to plot the graph\n",
"//    possible approximation\n",
"//        y = q1(x)\n",
"//    Let e(x) = exp(x) - [a0+a1*x]\n",
"//    q1(x) & exp(x) must be equal at two points in [-1,1], say at x1 & x2\n",
"//    sigma1 = max(abs(e(x)))\n",
"//    e(x1) = e(x2) = 0.\n",
"//    By another argument based on shifting the graph of y = q1(x),\n",
"//    we conclude that the maximum error sigma1 is attained at exactly 3 points.\n",
"//    e(-1) = sigma1\n",
"//    e(1) = sigma1\n",
"//    e(x3) = -sigma1\n",
"//    x1 < x3 < x2\n",
"//    Since e(x) has a relative minimum at x3, we have e'(x) = 0\n",
"//    Combining these 4 equations, we have..\n",
"//    exp(-1) - [a0-a1] = sigma1 ------------------(i)\n",
"//    exp(1) - [a0+a1] = p1 -----------------------(ii)\n",
"//    exp(x3) - [a0+a1*x3] = -sigma1 --------------(iii)\n",
"//    exp(x3) - a1 = 0 ----------------------------(iv)\n",
"//    These have the solution\n",
"a1 = (exp(1) - exp(-1))/2\n",
"x3 = log(a1)\n",
"sigma1 = 0.5*exp(-1) + x3*(exp(1) - exp(-1))/4\n",
"a0 = sigma1 + (1-x3)*a1\n",
"x = poly(0,'x');\n",
"//    Thus,\n",
"q1 = a0 + a1*x\n",
"deff('[y1]=f(x)','y1=1.2643+1.1752*x')\n",
"xset('window',0);\n",
"x=-1:.01:1;                // defining the range of x.\n",
"y=feval(x,f);\n",
" \n",
"a=gca(); \n",
" \n",
"a.y_location = 'origin';\n",
" \n",
"a.x_location = 'origin'; \n",
"plot(x,y)                // instruction to plot the graph"
   ]
   }
,
{
		   "cell_type": "markdown",
		   "metadata": {},
		   "source": [
			"## Example 6.5: approximate.sce"
		   ]
		  },
  {
"cell_type": "code",
	   "execution_count": null,
	   "metadata": {
	    "collapsed": true
	   },
	   "outputs": [],
"source": [
"//Example 6.5\n",
"//xn=10+(n-1)/5\n",
"//Accordingly we choose\n",
"//phi1(x)=1 , phi2(x)=x ,phi3(x)=(x)^3\n",
"A=[6 63 662.2; 63 662.2 6967.8; 662.2 6967.8 73393.5664]\n",
"norm(A,'inf')\n",
"x=[10.07 -2 0.099]'\n",
"A*x\n",
"norm(A*x,'inf')\n",
"norm(A*x)\n",
"a=(norm(x))/norm((A)^(-1))\n",
"//norm(A*x) >=norm(x)/norm((A)^(-1))\n",
"// norm(A^(-1),'inf') >= 7.8\n",
"cond(A)\n",
"//the condition number of A is much larger than 10^5, so we take\n",
"deff('[y]=f(x)','y=10-2*x+(((x)^2))/2')\n",
"//f(x) is a polynomial of degree 2 ,F*(x) should be f(x) itself\n",
"c1=10\n",
"c2=-2\n",
"c3=0.1\n",
"// by using elimination algorithm (Gauss elimination), we get\n",
"c1=9.99999997437\n",
"c2=-1.999999951\n",
"c3=0.099999976\n",
" // by 14-decimal digit floating point arith metic method\n",
" c1=6.035\n",
" c2=-1.243\n",
" c3=0.0639\n",
" //calculation carried out in seven decimal digit floating point arithmetic\n",
" c1=8.492\n",
" c2=-1.712\n",
" c3=0.0863\n",
" "
   ]
   }
],
"metadata": {
		  "kernelspec": {
		   "display_name": "Scilab",
		   "language": "scilab",
		   "name": "scilab"
		  },
		  "language_info": {
		   "file_extension": ".sce",
		   "help_links": [
			{
			 "text": "MetaKernel Magics",
			 "url": "https://github.com/calysto/metakernel/blob/master/metakernel/magics/README.md"
			}
		   ],
		   "mimetype": "text/x-octave",
		   "name": "scilab",
		   "version": "0.7.1"
		  }
		 },
		 "nbformat": 4,
		 "nbformat_minor": 0
}
