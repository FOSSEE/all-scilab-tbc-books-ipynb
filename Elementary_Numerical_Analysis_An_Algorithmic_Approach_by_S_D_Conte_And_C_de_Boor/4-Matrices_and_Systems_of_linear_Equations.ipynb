{
"cells": [
 {
		   "cell_type": "markdown",
	   "metadata": {},
	   "source": [
       "# Chapter 4: Matrices and Systems of linear Equations"
	   ]
	},
{
		   "cell_type": "markdown",
		   "metadata": {},
		   "source": [
			"## Example 4.14: norm.sce"
		   ]
		  },
  {
"cell_type": "code",
	   "execution_count": null,
	   "metadata": {
	    "collapsed": true
	   },
	   "outputs": [],
"source": [
"//example(3.14)\n",
" c=[-3 1 0 1]\n",
" p3=poly(c,'y','coeff')\n",
" roots(p3)\n",
" "
   ]
   }
,
{
		   "cell_type": "markdown",
		   "metadata": {},
		   "source": [
			"## Example 4.16: determinant.sce"
		   ]
		  },
  {
"cell_type": "code",
	   "execution_count": null,
	   "metadata": {
	    "collapsed": true
	   },
	   "outputs": [],
"source": [
"//Example (pg no.186)\n",
"//(1)\n",
"         A=[1 4;2 3]\n",
"         det(A)\n",
"//(2)\n",
"         A=[4 1;3 2]\n",
"         det(A)"
   ]
   }
,
{
		   "cell_type": "markdown",
		   "metadata": {},
		   "source": [
			"## Example 4.17: determinant.sce"
		   ]
		  },
  {
"cell_type": "code",
	   "execution_count": null,
	   "metadata": {
	    "collapsed": true
	   },
	   "outputs": [],
"source": [
"//Example (pg no.186)\n",
"        A=[3.1 4;3.2 3]\n",
"        det(A)"
   ]
   }
,
{
		   "cell_type": "markdown",
		   "metadata": {},
		   "source": [
			"## Example 4.18: determinant.sce"
		   ]
		  },
  {
"cell_type": "code",
	   "execution_count": null,
	   "metadata": {
	    "collapsed": true
	   },
	   "outputs": [],
"source": [
"//Example (pg no.186)\n",
"         A=[1 2;2 2]\n",
"         B=[1 2;1 1]\n",
"         det(A)+det(B)\n",
"         C=[1 2; 3 3]\n",
"         det(C)\n",
"           //det(A)+det(B)=det(C)"
   ]
   }
,
{
		   "cell_type": "markdown",
		   "metadata": {},
		   "source": [
			"## Example 4.19: Eigen_values.sce"
		   ]
		  },
  {
"cell_type": "code",
	   "execution_count": null,
	   "metadata": {
	    "collapsed": true
	   },
	   "outputs": [],
"source": [
"//Example(4.11) (pg no.191)\n",
"          B=[1 2 0;2 1 0;0 0 -1]\n",
"          lam = spec(B)"
   ]
   }
,
{
		   "cell_type": "markdown",
		   "metadata": {},
		   "source": [
			"## Example 4.1: matrix_multiplicatio.sce"
		   ]
		  },
  {
"cell_type": "code",
	   "execution_count": null,
	   "metadata": {
	    "collapsed": true
	   },
	   "outputs": [],
"source": [
"//Example (pg no.130)\n",
"          A=[3 0 2;1 2 0;0 1 1]\n",
"          B=[2 1;0 1;1 0]\n",
"            A*B"
   ]
   }
,
{
		   "cell_type": "markdown",
		   "metadata": {},
		   "source": [
			"## Example 4.20: Eigen_values.sce"
		   ]
		  },
  {
"cell_type": "code",
	   "execution_count": null,
	   "metadata": {
	    "collapsed": true
	   },
	   "outputs": [],
"source": [
"//Example(4.14) (pg no.201)\n",
"B=[1 2 0;2 1 0;0 0 -1]\n",
"lam = spec(B)\n",
"norm(B)\n",
"        //Each eigen value of the matrix must have absolute value\n",
"        //      no bigger than the norm of that matrix "
   ]
   }
,
{
		   "cell_type": "markdown",
		   "metadata": {},
		   "source": [
			"## Example 4.21: determinant.sce"
		   ]
		  },
  {
"cell_type": "code",
	   "execution_count": null,
	   "metadata": {
	    "collapsed": true
	   },
	   "outputs": [],
"source": [
"//Example(4.15) (pgno 202)\n",
"B=[1 2 0;2 1 0;0 0 -1]\n",
"I=[1 0 0;0 1 0;0 0 1]\n",
"         //here we are taking lamda=a\n",
"         //det(B-a)*I=0 is characteristic equation to get lamda\n",
"deff('[y]=p(a)','p(a)=det(B-a)*I')\n",
"p(a)=0"
   ]
   }
,
{
		   "cell_type": "markdown",
		   "metadata": {},
		   "source": [
			"## Example 4.22: eigen_values.sce"
		   ]
		  },
  {
"cell_type": "code",
	   "execution_count": null,
	   "metadata": {
	    "collapsed": true
	   },
	   "outputs": [],
"source": [
"//Example(4.16)(page no.203)\n",
"A=[4 -1 -1 -1;-1 4 -1 -1;-1 -1 4 -1;-1 -1 -1 4]\n",
"spec(A)"
   ]
   }
,
{
		   "cell_type": "markdown",
		   "metadata": {},
		   "source": [
			"## Example 4.2: matrix_multiplicatio.sce"
		   ]
		  },
  {
"cell_type": "code",
	   "execution_count": null,
	   "metadata": {
	    "collapsed": true
	   },
	   "outputs": [],
"source": [
"//Example (pg no.130)\n",
"       A=[2 1;1 3]\n",
"       B=[2 1;0 1]\n",
"       A*B\n",
"       B*A\n",
"//matrix multiplication is not commutative\n",
"            //so A*B!=B*A"
   ]
   }
,
{
		   "cell_type": "markdown",
		   "metadata": {},
		   "source": [
			"## Example 4.3: properties_of_matrices.sci"
		   ]
		  },
  {
"cell_type": "code",
	   "execution_count": null,
	   "metadata": {
	    "collapsed": true
	   },
	   "outputs": [],
"source": [
"//Example (pg no.133)    \n",
"       A=[1 1;0 1]\n",
"       inv(A)\n",
"       B=[1 0;1 1]\n",
"       inv(B)\n",
"       A*B\n",
"       inv(A*B)\n",
"       inv(A)*inv(B)\n",
"                                       //inv(A*B)=inv(B)*inv(A)\n",
"       inv(B)*inv(A)\n",
"                                         //Hence inv(A)*inv(B) = inv(A)*inv(B)\n",
"        I=eye(3,3)\n",
"        C=(A*B)*(inv(A)*inv(B))\n",
"                                        //C!=I \n",
"                                         //so, inv(A)*inv(B) cannot be the inverse of (A*B)"
   ]
   }
,
{
		   "cell_type": "markdown",
		   "metadata": {},
		   "source": [
			"## Example 4.4: matrix.sce"
		   ]
		  },
  {
"cell_type": "code",
	   "execution_count": null,
	   "metadata": {
	    "collapsed": true
	   },
	   "outputs": [],
"source": [
" //Example (pg no.136)\n",
" \n",
" // x1 + 2(x2) = 3\n",
" //2(x1) + 4(x2) = 6\n",
" \n",
"        A=[1 2;2 4]\n",
"            //coefficient matrix of above equations\n",
"        b=[3 6]'\n",
"        x=A\b\n",
"     //for corresponding homogenous system\n",
"             //  x1 + 2(x2) = 0\n",
"            //2(x1) + 4(x2) = 0\n",
"         A=[1 2;2 4]\n",
"             //coefficient matrix of above equations\n",
"        b=[0 0]'\n",
"        x=A\b"
   ]
   }
,
{
		   "cell_type": "markdown",
		   "metadata": {},
		   "source": [
			"## Example 4.6: determinant.sce"
		   ]
		  },
  {
"cell_type": "code",
	   "execution_count": null,
	   "metadata": {
	    "collapsed": true
	   },
	   "outputs": [],
"source": [
"//Example (pg no.140)\n",
"         A=[1 2;2 4]\n",
"         det(A)\n",
"                        // Here A is a singular matrix i.e, det(A)=0\n",
"                        //inv(A)=(adj(A))/det(A)\n",
"                        //so A is not invertible"
   ]
   }
,
{
		   "cell_type": "markdown",
		   "metadata": {},
		   "source": [
			"## Example 4.7: matrix.sce"
		   ]
		  },
  {
"cell_type": "code",
	   "execution_count": null,
	   "metadata": {
	    "collapsed": true
	   },
	   "outputs": [],
"source": [
"//Example (pg no.144)\n",
"A = [1 2 3;4 5 6;7 8 9]\n",
"[L,U,E] = lu(A)\n",
"       // L is lower triangular matrix(mxn)\n",
"       // U is upper triangular matrix(mxmin(m,n))\n",
"      // E is permutation matrix(min(m,n)xn)\n",
"A*E"
   ]
   }
,
{
		   "cell_type": "markdown",
		   "metadata": {},
		   "source": [
			"## Example 4.8: Backward_substitutio.sce"
		   ]
		  },
  {
"cell_type": "code",
	   "execution_count": null,
	   "metadata": {
	    "collapsed": true
	   },
	   "outputs": [],
"source": [
"//example 4.1 (pg 149)\n",
"     //2x1 + 3x2 - x3 = 5\n",
"    //-2x2 - x3 = -7\n",
"   //-5x3 = -15\n",
"A = [2 3 -1;0 -2 -1;0 0 -5]\n",
"b = [5 -7 -15]'\n",
"a=[A b]\n",
"[nA,mA]=size(A)\n",
"n=nA\n",
"     //Backward substitution\n",
"x(3) = a(n,n+1)/a(n,n);\n",
"for i = n-1:-1:1\n",
"	sumk=0;\n",
"	for k=i+1:n\n",
"		sumk=sumk+a(i,k)*x(k);\n",
"	end\n",
"	x(i)=(a(i,n+1)-sumk)/a(i,i); \n",
"end\n",
"    disp(x)"
   ]
   }
],
"metadata": {
		  "kernelspec": {
		   "display_name": "Scilab",
		   "language": "scilab",
		   "name": "scilab"
		  },
		  "language_info": {
		   "file_extension": ".sce",
		   "help_links": [
			{
			 "text": "MetaKernel Magics",
			 "url": "https://github.com/calysto/metakernel/blob/master/metakernel/magics/README.md"
			}
		   ],
		   "mimetype": "text/x-octave",
		   "name": "scilab",
		   "version": "0.7.1"
		  }
		 },
		 "nbformat": 4,
		 "nbformat_minor": 0
}
