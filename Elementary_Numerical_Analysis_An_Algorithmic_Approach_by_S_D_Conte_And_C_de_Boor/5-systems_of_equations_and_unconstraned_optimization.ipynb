{
"cells": [
 {
		   "cell_type": "markdown",
	   "metadata": {},
	   "source": [
       "# Chapter 5: systems of equations and unconstraned optimization"
	   ]
	},
{
		   "cell_type": "markdown",
		   "metadata": {},
		   "source": [
			"## Example 5.1: gradient.sce"
		   ]
		  },
  {
"cell_type": "code",
	   "execution_count": null,
	   "metadata": {
	    "collapsed": true
	   },
	   "outputs": [],
"source": [
"//Example 5.1\n",
"deff('y=f(x)','y=((x1)^3)+((x2)^3)-2*((x1)^2)+3*((x2)^2)-8')\n",
"funcprot(0)\n",
"deff('y=g(x)','y=3*((x1)^2)-4*(x1)+3*((x2)^2)+6*(x2)')\n",
"       // f1=(df/dx1)(x)=0 , f2=(df/dx2)(x)=0\n",
"  deff('y=fp(x)','y=3*((x1)^2)-4*(x1)')\n",
"  deff('y=fpp(x)','y=3*((x2)^2)+6*(x2)')\n",
"       x1=poly(0,'x1')\n",
" fp=(3*((x1)^2)-4*(x1))\n",
" p=roots(fp)\n",
" \n",
" x2=poly(0,'x12')\n",
" fpp=3*((x2)^2)+6*(x2)\n",
" p=roots(fpp)\n",
"       "
   ]
   }
,
{
		   "cell_type": "markdown",
		   "metadata": {},
		   "source": [
			"## Example 5.2: Steep_descent.sce"
		   ]
		  },
  {
"cell_type": "code",
	   "execution_count": null,
	   "metadata": {
	    "collapsed": true
	   },
	   "outputs": [],
"source": [
"//Example 5.2\n",
" \n",
" deff('[y]=f(x1,x2)','y=((x1)^3)+((x2)^3)-2*((x1)^2)+3*((x2)^2)-8')\n",
"   //x1=1 , x2=-1\n",
"    //(del)f(X(0))=[3*((x1)^2)-4*x1,3*((x2)^2)+6*x2]'=[-1,-3]'\n",
"    //Thus , in the first step of steep descent ,\n",
"    // we look for a minimum of the function\n",
" funcprot(0)\n",
"deff('[y]= g(t)','y=((1+t)^3)+((-1+3*t)^3)-2*((1+t)^2)+3*((-1+3*t)^2)-8')\n",
"   //g'(t)=3*((1+t)^2)+3*3*((-1+3*t)^2)-4*(1+t)+3*2*(-1+3*t)\n",
"  t=poly(0,'t') \n",
"y=3*((1+t)^2)+3*3*((-1+3*t)^2)-4*(1+t)+3*2*3*(-1+3*t)\n",
"p=roots(y)\n",
"   // We choose the positive root t=1/3\n",
"   t=1/3;\n",
"   x1=1+t\n",
"   x2=-1+3*t\n",
"   a=3*((x1)^2)-4*x1\n",
"   b=3*((x2)^2)+6*x2\n",
"   funcprot(0)\n",
" deff('[y]=fp(x1)','y=(3*((x1)^2)-4*(x1))')\n",
"  x1=poly(0,'x1')\n",
" fp=(3*((x1)^2)-4*(x1))\n",
" p=roots(fp)\n",
" "
   ]
   }
],
"metadata": {
		  "kernelspec": {
		   "display_name": "Scilab",
		   "language": "scilab",
		   "name": "scilab"
		  },
		  "language_info": {
		   "file_extension": ".sce",
		   "help_links": [
			{
			 "text": "MetaKernel Magics",
			 "url": "https://github.com/calysto/metakernel/blob/master/metakernel/magics/README.md"
			}
		   ],
		   "mimetype": "text/x-octave",
		   "name": "scilab",
		   "version": "0.7.1"
		  }
		 },
		 "nbformat": 4,
		 "nbformat_minor": 0
}
