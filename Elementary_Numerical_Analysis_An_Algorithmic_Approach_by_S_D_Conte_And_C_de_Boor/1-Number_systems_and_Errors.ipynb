{
"cells": [
 {
		   "cell_type": "markdown",
	   "metadata": {},
	   "source": [
       "# Chapter 1: Number systems and Errors"
	   ]
	},
{
		   "cell_type": "markdown",
		   "metadata": {},
		   "source": [
			"## Example 1.1: number_system.sce"
		   ]
		  },
  {
"cell_type": "code",
	   "execution_count": null,
	   "metadata": {
	    "collapsed": true
	   },
	   "outputs": [],
"source": [
"//Example (pg no.20)\n",
"   //the number %pi/4 is the value of infinite series \n",
"//sum(((-1)^i)/(2*i+1))=1-sum(2/(16*(j)^2)-1)\n",
"  // The sequence alpha1,alpha2,........is monotone-decreasing\n",
"  // to its limit %pi/4\n",
"  //  0< =(alpha)n - %pi/4 <= (1/(4*n+3))   n=1,2,.....\n",
"  // To calculate %pi/4 correct to within 10^(-6) using this sequence \n",
"  // we would need 10^(6)<=4*n+3\n",
"  n=(10^(6)-3)/4\n",
"       // roughly n=250,000"
   ]
   }
],
"metadata": {
		  "kernelspec": {
		   "display_name": "Scilab",
		   "language": "scilab",
		   "name": "scilab"
		  },
		  "language_info": {
		   "file_extension": ".sce",
		   "help_links": [
			{
			 "text": "MetaKernel Magics",
			 "url": "https://github.com/calysto/metakernel/blob/master/metakernel/magics/README.md"
			}
		   ],
		   "mimetype": "text/x-octave",
		   "name": "scilab",
		   "version": "0.7.1"
		  }
		 },
		 "nbformat": 4,
		 "nbformat_minor": 0
}
