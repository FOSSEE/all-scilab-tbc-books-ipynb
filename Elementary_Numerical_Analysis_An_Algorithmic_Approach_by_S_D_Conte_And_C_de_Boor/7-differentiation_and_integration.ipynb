{
"cells": [
 {
		   "cell_type": "markdown",
	   "metadata": {},
	   "source": [
       "# Chapter 7: differentiation and integration"
	   ]
	},
{
		   "cell_type": "markdown",
		   "metadata": {},
		   "source": [
			"## Example 7.1: integration.sce"
		   ]
		  },
  {
"cell_type": "code",
	   "execution_count": null,
	   "metadata": {
	    "collapsed": true
	   },
	   "outputs": [],
"source": [
"//I=integral(exp^(-x^2) dx)\n",
"deff('y=f(x)','y=exp(-(x^2))')\n",
"a=0,b=1\n",
"c=(a+b)/2\n",
"deff('y=g(x)','y=-2*x*exp(-(x^2))')\n",
"f(a)\n",
"f(b)\n",
"f(c)\n",
"g(a)\n",
"g(b)\n",
"g(c)\n",
"R=(b-a)*f(a)\n",
"M=(b-a)*f(c)\n",
"T=(b-a)*[f(a)+f(b)]/2\n",
"S=(b-a)*{f(a)+4*f(c)+f(b)}/6\n",
"CT=[(b-a)/2]*[f(a)+f(b)]+[(b-a^2)/12]*[g(a)-g(b)]"
   ]
   }
,
{
		   "cell_type": "markdown",
		   "metadata": {},
		   "source": [
			"## Example 7.8: adaptive_quadrature.sce"
		   ]
		  },
  {
"cell_type": "code",
	   "execution_count": null,
	   "metadata": {
	    "collapsed": true
	   },
	   "outputs": [],
"source": [
"//Example 7.8\n",
"// True value of the integral\n",
"x0=0\n",
"x1=1\n",
"I=integrate('sqrt(x)','x',0,1)\n",
"//using adaptive quadrature based on simpsons rule\n",
"deff('[y]=f(x)','y=[(x)^(1/2)]')\n",
"x=1:1:10\n",
" plot(x,f)\n",
" \n",
"x2=(x0+x1)/2;\n",
"h=1/2\n",
"//considering the interval [x2,x1]=[1/2,1]\n",
"s=h/6.*{f(x2)+4*f((x2)+h/2)+f(x1)}\n",
"p=h/12*{f(x2)+4*f((x2)+h/4)+2*f((x2)+h/2)+4*f(x2+3*h/4)+f(x1)}\n",
"E=(1/15)*(p-s)\n",
"////Error criterion is clearly satisfied , hence we put value of p to SUM register to obtain partial approximation\n",
"//considering the interval  [x2,x1]=[0,1/2]\n",
"s1=h/6.*{f(x0)+4*f((x0)+h/2)+f(x2)}\n",
"p1=h/12.*{f(x0)+4*f((x0)+h/4)+2*f((x0)+h/2)+4*f(x0+3*h/4)+f(x2)}\n",
"E1=1/15.*[p1-s1]\n",
"// Here since error is not less than 0.00025 we have to divide interval[0,1/2] to [0,1/4]& [1/4,1/2]\n",
"h=1/4\n",
"//considering interval [1/4,1/2]\n",
"x3=1/4\n",
"s2=h/6.*{f(x3)+4*f((x3)+h/2)+f(x2)}\n",
"p2=h/12.*{f(x3)+4*f((x3)+h/4)+2*f((x3)+h/2)+4*f(x3+3*h/4)+f(x2)}\n",
"E2=1/15.*[p2-s2]\n",
"// E2 < (0.0005)/4\n",
"//Error criterion is clearly satisfied , hence we add value of p2 to SUM register to obtain partial approximation\n",
"sum=p+p2\n",
"funcprot(0)\n",
"//Applying again above basic formulas\n",
"//with h=1/4  , in  interval [0.1/4]\n",
"// we get\n",
"s3=0.07975890\n",
"p3=0.08206578\n",
"E3=0.0001537922\n",
" // Here since error is not less than 0.000125 we have to divide interval\n",
"// [0,1/4] in to [0,1/8]& [1/8,1/4] with h=1/8\n",
"h=1/8\n",
"// for interval [1/8,1/4]\n",
"s4=0.05386675\n",
"p4=0.05387027\n",
"E4=0.0000002346\n",
" \n",
"// E4 < (0.0005)*h =(0.0005)/8 =0.0000625  \n",
"//Error criterion is clearly satisfied , hence we add value of p4 to \n",
"//SUM register to obtain partial approximation\n",
" sum=p+p2+p4\n",
" \n",
" \n",
"// consider interval [0,1/8] \n",
"s5=0.02819903\n",
"p5=0.02901464\n",
"E5=0.00005437\n",
"// E5 < 0.0000625  \n",
"//Since the error test is passed on both intervals , we can add these values in to sUM register to get\n",
"sum=p+p2+p4+p5\n",
"// since the exact value of I is 0.666666666\n",
"abs(sum-I) <0.0005  // over the interval [0,1]"
   ]
   }
],
"metadata": {
		  "kernelspec": {
		   "display_name": "Scilab",
		   "language": "scilab",
		   "name": "scilab"
		  },
		  "language_info": {
		   "file_extension": ".sce",
		   "help_links": [
			{
			 "text": "MetaKernel Magics",
			 "url": "https://github.com/calysto/metakernel/blob/master/metakernel/magics/README.md"
			}
		   ],
		   "mimetype": "text/x-octave",
		   "name": "scilab",
		   "version": "0.7.1"
		  }
		 },
		 "nbformat": 4,
		 "nbformat_minor": 0
}
