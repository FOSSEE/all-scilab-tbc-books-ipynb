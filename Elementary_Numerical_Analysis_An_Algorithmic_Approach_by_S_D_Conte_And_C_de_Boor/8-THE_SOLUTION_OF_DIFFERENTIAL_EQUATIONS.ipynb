{
"cells": [
 {
		   "cell_type": "markdown",
	   "metadata": {},
	   "source": [
       "# Chapter 8: THE SOLUTION OF DIFFERENTIAL EQUATIONS"
	   ]
	},
{
		   "cell_type": "markdown",
		   "metadata": {},
		   "source": [
			"## Example 8.1: Taylor_series.sce"
		   ]
		  },
  {
"cell_type": "code",
	   "execution_count": null,
	   "metadata": {
	    "collapsed": true
	   },
	   "outputs": [],
"source": [
"// Example 8.1\n",
"deff('[v]=f(x,y)','v=1-(y/x)')\n",
"funcprot(0)\n",
"deff('[v]=fp(x,y)','v=-(f(x)/x)+(y/(x^2))')\n",
"funcprot(0)\n",
"deff('[v]=fpp(x,y)','v=-(fp(x)/x)+2*(f(x)/(x^2))-2*(y/(x^3))')\n",
"funcprot(0)\n",
"deff('[v]=g(x,y)','v=-(fpp(x)/x)+3*(fp(x)/(x^2))-6*(f(x)/(x^3))+6*(y/(x^4))')\n",
"funcprot(0)\n",
"x1=2\n",
"y1=2\n",
"x=2.1\n",
"y2=y1+(x-2)*f(x1,y1)+((x-2)^2)*fp(x1,y1)/factorial(2)+((x-2)^3)*fpp(x1,y1)/factorial(3)+((x-2)^4)*g(x1,y1)/factorial(4)"
   ]
   }
,
{
		   "cell_type": "markdown",
		   "metadata": {},
		   "source": [
			"## Example 8.5: Adamsbashforth3.sce"
		   ]
		  },
  {
"cell_type": "code",
	   "execution_count": null,
	   "metadata": {
	    "collapsed": true
	   },
	   "outputs": [],
"source": [
"// Example 8.5\n",
" \n",
" deff('[v]=f(x,y)','v=x+y')\n",
" [y,x]= adamsbashforth3(0,0,1,1/32,f)"
   ]
   }
,
{
		   "cell_type": "markdown",
		   "metadata": {},
		   "source": [
			"## Example 8.6: Modified_euler_method.sce"
		   ]
		  },
  {
"cell_type": "code",
	   "execution_count": null,
	   "metadata": {
	    "collapsed": true
	   },
	   "outputs": [],
"source": [
"// Example 8.6\n",
"  \n",
"  // Modified Eulers method\n",
"  \n",
"  deff('[v]=f(x,y)','v=x-(1/y)')\n",
"  \n",
" [y,x] = modifiedeuler(1,0,0.2,0.1,f)"
   ]
   }
],
"metadata": {
		  "kernelspec": {
		   "display_name": "Scilab",
		   "language": "scilab",
		   "name": "scilab"
		  },
		  "language_info": {
		   "file_extension": ".sce",
		   "help_links": [
			{
			 "text": "MetaKernel Magics",
			 "url": "https://github.com/calysto/metakernel/blob/master/metakernel/magics/README.md"
			}
		   ],
		   "mimetype": "text/x-octave",
		   "name": "scilab",
		   "version": "0.7.1"
		  }
		 },
		 "nbformat": 4,
		 "nbformat_minor": 0
}
