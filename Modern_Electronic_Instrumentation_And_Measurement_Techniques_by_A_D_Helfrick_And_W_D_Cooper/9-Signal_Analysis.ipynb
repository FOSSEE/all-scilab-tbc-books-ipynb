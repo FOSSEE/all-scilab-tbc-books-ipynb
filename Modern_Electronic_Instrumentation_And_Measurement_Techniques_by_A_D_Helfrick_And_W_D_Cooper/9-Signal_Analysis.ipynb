{
"cells": [
 {
		   "cell_type": "markdown",
	   "metadata": {},
	   "source": [
       "# Chapter 9: Signal Analysis"
	   ]
	},
{
		   "cell_type": "markdown",
		   "metadata": {},
		   "source": [
			"## Example 9.1: To_find_dynamic_range_of_spectrum_analyser.sce"
		   ]
		  },
  {
"cell_type": "code",
	   "execution_count": null,
	   "metadata": {
	    "collapsed": true
	   },
	   "outputs": [],
"source": [
"// To find dynamic range of spectrum analyser\n",
"// Modern Electronic Instrumentation And Measurement Techniques\n",
"// By Albert D. Helfrick, William D. Cooper\n",
"// First Edition Second Impression, 2009\n",
"// Dorling Kindersly Pvt. Ltd. India\n",
"// Example 9-1 in Page 277\n",
"\n",
"\n",
"clear; clc; close;\n",
"\n",
"// Given data\n",
"I_p = +25; //Third order intercept point in dBm\n",
"MDS = -85; //noise level in dBm\n",
"\n",
"//Calculations\n",
"\n",
"dynamic_range = 2/3*(I_p -MDS);\n",
"printf('The dynamic range of the spectrum analyser = %d dB',dynamic_range);\n",
"\n",
"//Result\n",
"// The dynamic range of the spectrum analyser = 73 dB "
   ]
   }
,
{
		   "cell_type": "markdown",
		   "metadata": {},
		   "source": [
			"## Example 9.2: To_find_minimum_detectable_signal.sce"
		   ]
		  },
  {
"cell_type": "code",
	   "execution_count": null,
	   "metadata": {
	    "collapsed": true
	   },
	   "outputs": [],
"source": [
"// To find minimum detectable signal\n",
"// Modern Electronic Instrumentation And Measurement Techniques\n",
"// By Albert D. Helfrick, William D. Cooper\n",
"// First Edition Second Impression, 2009\n",
"// Dorling Kindersly Pvt. Ltd. India\n",
"// Example 9-2 in Page 277\n",
"\n",
"\n",
"clear; clc; close;\n",
"\n",
"// Given data\n",
"NF = 20; //Noise figure in dB\n",
"BW = 1*10^3; //Bandwidth in Hz\n",
"\n",
"//Calculations\n",
"MDS = -114 +10* log10 ([BW/(1*10^6)]) +NF;\n",
"printf('The minimum detectable signal of the spectrum analyser = %d dBm',MDS);\n",
"\n",
"//Result\n",
"// The minimum detectable signal of the spectrum analyser = -124 dBm \n",
""
   ]
   }
,
{
		   "cell_type": "markdown",
		   "metadata": {},
		   "source": [
			"## Example 9.3: To_find_dynamic_range_and_total_frequency_display.sce"
		   ]
		  },
  {
"cell_type": "code",
	   "execution_count": null,
	   "metadata": {
	    "collapsed": true
	   },
	   "outputs": [],
"source": [
"// To find dynamic range and total frequency display\n",
"// Modern Electronic Instrumentation And Measurement Techniques\n",
"// By Albert D. Helfrick, William D. Cooper\n",
"// First Edition Second Impression, 2009\n",
"// Dorling Kindersly Pvt. Ltd. India\n",
"// Example 9-3 in Page 285\n",
"\n",
"\n",
"clear; clc; close;\n",
"\n",
"// Given data\n",
"T = 4; //Sample window in s\n",
"f_s = 20*10^3; // sample frequency in Hz\n",
"N = 10; //no of bits\n",
"\n",
"//Calculations\n",
"f_r = 1/T;\n",
"f_h = f_s/2; \n",
"R_d = 20*log10(2^N);\n",
"\n",
"printf('The ratio of the spectral calculation = %0.2f Hz\n',f_r);\n",
"printf('The maximum calculated spectral frequency = %d Hz\n',f_h);\n",
"printf('The dynamic range = %d dB',R_d);\n",
"\n",
"//Result\n",
"// The ratio of the spectral calculation = 0.25 Hz\n",
"// The maximum calculated spectral frequency = 10000 Hz\n",
"// The dynamic range = 60 dB "
   ]
   }
],
"metadata": {
		  "kernelspec": {
		   "display_name": "Scilab",
		   "language": "scilab",
		   "name": "scilab"
		  },
		  "language_info": {
		   "file_extension": ".sce",
		   "help_links": [
			{
			 "text": "MetaKernel Magics",
			 "url": "https://github.com/calysto/metakernel/blob/master/metakernel/magics/README.md"
			}
		   ],
		   "mimetype": "text/x-octave",
		   "name": "scilab",
		   "version": "0.7.1"
		  }
		 },
		 "nbformat": 4,
		 "nbformat_minor": 0
}
