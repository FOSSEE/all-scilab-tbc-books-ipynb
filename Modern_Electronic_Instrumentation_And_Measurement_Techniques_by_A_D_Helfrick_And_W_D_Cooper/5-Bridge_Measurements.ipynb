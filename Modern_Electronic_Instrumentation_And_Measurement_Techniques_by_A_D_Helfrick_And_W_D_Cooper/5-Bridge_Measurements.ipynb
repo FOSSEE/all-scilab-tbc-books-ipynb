{
"cells": [
 {
		   "cell_type": "markdown",
	   "metadata": {},
	   "source": [
       "# Chapter 5: Bridge Measurements"
	   ]
	},
{
		   "cell_type": "markdown",
		   "metadata": {},
		   "source": [
			"## Example 5.1: To_find_deflection_caused_by_the_given_unbalance.sce"
		   ]
		  },
  {
"cell_type": "code",
	   "execution_count": null,
	   "metadata": {
	    "collapsed": true
	   },
	   "outputs": [],
"source": [
"// To find deflection caused by the given unbalance\n",
"// Modern Electronic Instrumentation And Measurement Techniques\n",
"// By Albert D. Helfrick, William D. Cooper\n",
"// First Edition Second Impression, 2009\n",
"// Dorling Kindersly Pvt. Ltd. India\n",
"// Example 5-1 in Page 101\n",
"\n",
"\n",
"clear; clc; close;\n",
"\n",
"// Given data\n",
"// Resistances of the 4 arms in ohm\n",
"R_1 = 1000;\n",
"R_2 = 100;\n",
"R_3 = 200;\n",
"R_4 = 2005;\n",
"\n",
"E = 5; // battery EMF in volt\n",
"S_I = 10*(10^-3)/(10^-6); //Current sensitivity in m/A\n",
"R_g = 100; //Internal resistance of galvanometer in ohm\n",
"\n",
"//Calculations\n",
"\n",
"//Calculations are made wrt fig 5-3 in page 103\n",
"//Bridge balance occurs if arm BC has a resistance of 2000 ohm. The diagram shows arm BC has as a resistance of 2005 ohm\n",
"\n",
"//To calculate the current in the galvanometer, the ckt is thevenised wrt terminals B and D.\n",
"//The potenttial from B to D, with the galvanometer removed is the Thevenin voltage\n",
"\n",
"// E_TH = E_AD - E_AB \n",
"\n",
"E_TH = E * ((R_2/(R_2+R_3)) - (R_1/ (R_1+R_4)));\n",
"R_TH = ((R_2 * R_3/(R_2+R_3)) + (R_1 * R_4/ (R_1+R_4)));\n",
"\n",
"//When the galvanometer is now connected to the output terminals, The current through the galvanometer is\n",
"\n",
"I_g = E_TH /(R_TH +R_g);\n",
"d = I_g * S_I;\n",
"printf('The deflection of the galvanometer = %0.2f mm',(d*1000));\n",
"\n",
"//Result\n",
"// The deflection of the galvanometer = 33.26 mm \n",
"\n",
"\n",
""
   ]
   }
,
{
		   "cell_type": "markdown",
		   "metadata": {},
		   "source": [
			"## Example 5.2: To_check_the_capability_of_detecting_unbalance.sce"
		   ]
		  },
  {
"cell_type": "code",
	   "execution_count": null,
	   "metadata": {
	    "collapsed": true
	   },
	   "outputs": [],
"source": [
"// To check the capability of detecting unbalance\n",
"// Modern Electronic Instrumentation And Measurement Techniques\n",
"// By Albert D. Helfrick, William D. Cooper\n",
"// First Edition Second Impression, 2009\n",
"// Dorling Kindersly Pvt. Ltd. India\n",
"// Example 5-2 in Page 102\n",
"\n",
"\n",
"clear; clc; close;\n",
"\n",
"// Given data\n",
"// Resistances of the 4 arms in ohm\n",
"R_1 = 1000;\n",
"R_2 = 100;\n",
"R_3 = 200;\n",
"R_4 = 2005;\n",
"\n",
"E = 5; // battery EMF in volt\n",
"S_I = 1*(10^-3)/(10^-6); //Current sensitivity in m/A\n",
"R_g = 500; //Internal resistance of galvanometer in ohm\n",
"\n",
"\n",
"\n",
"\n",
"//Calculations\n",
"\n",
"//Calculations are made wrt fig 5-3 in page 103\n",
"//Bridge balance occurs if arm BC has a resistance of 2000 ohm. The diagram shows arm BC has as a resistance of 2005 ohm\n",
"\n",
"//To calculate the current in the galvanometer, the ckt is thevenised wrt terminals B and D.\n",
"//The potenttial from B to D, with the galvanometer removed is the Thevenin voltage\n",
"\n",
"// E_TH = E_AD - E_AB \n",
"\n",
"E_TH = E * ((R_2/(R_2+R_3)) - (R_1/ (R_1+R_4)));\n",
"R_TH = ((R_2 * R_3/(R_2+R_3)) + (R_1 * R_4/ (R_1+R_4)));\n",
"\n",
"//When the galvanometer is now connected to the output terminals, The current through the galvanometer is\n",
"\n",
"I_g = E_TH /(R_TH +R_g);\n",
"d = I_g * S_I;\n",
"printf('The deflection of the galvanometer = %0.3f mm',d*1000);\n",
"disp('Given that galvanometer is capable of detecting a deflection of 1mm');\n",
"disp('Hence looking at the result,it can be seen that this galvanometer produces a deflection that can be easily observed');\n",
"\n",
"//Result\n",
"// The deflection of the galvanometer = 2.247 mm \n",
"// Given that galvanometer is capable of detecting a deflection of 1mm   \n",
" \n",
"// Hence looking at the result,it can be seen that this galvanometer produces a deflection that can be easily observed   \n",
" \n",
"\n",
"\n",
""
   ]
   }
,
{
		   "cell_type": "markdown",
		   "metadata": {},
		   "source": [
			"## Example 5.3: To_find_the_unknown_impedence.sce"
		   ]
		  },
  {
"cell_type": "code",
	   "execution_count": null,
	   "metadata": {
	    "collapsed": true
	   },
	   "outputs": [],
"source": [
"// To find the unknown impedence\n",
"// Modern Electronic Instrumentation And Measurement Techniques\n",
"// By Albert D. Helfrick, William D. Cooper\n",
"// First Edition Second Impression, 2009\n",
"// Dorling Kindersly Pvt. Ltd. India\n",
"// Example 5-3 in Page 111\n",
"\n",
"\n",
"clear; clc; close;\n",
"\n",
"// Given data\n",
"// The given polar forms in textbook is represented in rect form\n",
"Z_1 = 17.36482 +%i *98.48078;\n",
"Z_2 = 250;\n",
"Z_3 = 346.4102 +%i *200;\n",
"\n",
"//Calculations\n",
"//The first condition for bridge balance is Z_1*Z_4 = Z_2*Z_3\n",
"mod_Z_4 = (abs(Z_2) *abs(Z_3)/abs(Z_1));\n",
"\n",
"//The second condition for bridge balance requires that sum of the phase angles of opposite arms be equal\n",
"theta_Z_4 = (atan(imag(Z_2),real(Z_2)) +atan(imag(Z_3),real(Z_3)) -atan(imag(Z_1),real(Z_1)))*180/%pi;\n",
"\n",
"printf('The impedence of the unknown arm = %d ohm /_ %d deg\n',mod_Z_4,theta_Z_4);\n",
"printf('Here the magnitude of impedence is 1000 and phase angle is 50 in degrees\n');\n",
"printf('The above value indicates that we are dealing with a capacitive element, possibly consisting of a series combination of a resistor and capacitance');\n",
"\n",
"//Result\n",
"// The impedence of the unknown arm = 1000 ohm /_ -50 deg\n",
"// Here the magnitude of impedence is 1000 and phase angle is 50 in degrees\n",
"// The above value indicates that we are dealing with a capacitive element, possibly consisting of a series combination of a resistor and capacitance \n",
" \n",
"\n",
"\n",
""
   ]
   }
,
{
		   "cell_type": "markdown",
		   "metadata": {},
		   "source": [
			"## Example 5.4: To_find_the_unknown_impedence.sce"
		   ]
		  },
  {
"cell_type": "code",
	   "execution_count": null,
	   "metadata": {
	    "collapsed": true
	   },
	   "outputs": [],
"source": [
"// To find the unknown impedence\n",
"// Modern Electronic Instrumentation And Measurement Techniques\n",
"// By Albert D. Helfrick, William D. Cooper\n",
"// First Edition Second Impression, 2009\n",
"// Dorling Kindersly Pvt. Ltd. India\n",
"// Example 5-4 in Page 112\n",
"\n",
"\n",
"clear; clc; close;\n",
"\n",
"// Given data\n",
"// The notations are wrt to the figure 5-10 in page 109\n",
"\n",
"//Arm AB\n",
"R_1 = 450;\n",
"//Arm BC\n",
"R_2 = 300;\n",
"C = 0.265 *(10^-6);\n",
"//Arm DA\n",
"R_3 = 200;\n",
"L = 15.9*(10^-3);\n",
"f = 1000;\n",
"\n",
"//Calculations\n",
"w = 2*%pi*f;\n",
"Z_1 = 450;\n",
"Z_2 = R_2 - %i *floor(1/(w*C));\n",
"Z_3 = R_3 + %i*ceil(w*L);\n",
"\n",
"Z_4 = Z_1*Z_3/Z_2;\n",
"printf('The impedence of the unknown arm = %di ohm\n',imag(Z_4));\n",
"printf('The result indicates that Z_4 is a pure inductance with an inductive reactance of 150 ohm at a frequency of 1 khz.\n')\n",
"\n",
"L_ans = imag(Z_4)/w;\n",
"printf('The inductance present in the arm CD = %0.1fm H',L_ans*1000);\n",
"\n",
"//Result\n",
"// The impedence of the unknown arm = 150i ohm\n",
"// The result indicates that Z_4 is a pure inductance with an inductive reactance of 150 ohm at a frequency of 1 khz.\n",
"// The inductance present in the arm CD = 23.9m H \n",
"\n",
"\n",
"\n",
"\n",
""
   ]
   }
,
{
		   "cell_type": "markdown",
		   "metadata": {},
		   "source": [
			"## Example 5.5: To_balance_the_unbalanced_bridge.sce"
		   ]
		  },
  {
"cell_type": "code",
	   "execution_count": null,
	   "metadata": {
	    "collapsed": true
	   },
	   "outputs": [],
"source": [
"// To balance the unbalanced bridge\n",
"// Modern Electronic Instrumentation And Measurement Techniques\n",
"// By Albert D. Helfrick, William D. Cooper\n",
"// First Edition Second Impression, 2009\n",
"// Dorling Kindersly Pvt. Ltd. India\n",
"// Example 5-5 in Page 119\n",
"\n",
"\n",
"clear; clc; close;\n",
"\n",
"// Given data\n",
"Z_1 = -1000*%i;\n",
"Z_2 = 500;\n",
"Z_3 = 1000;\n",
"Z_4 = 100+500*%i;\n",
"\n",
"// The balance is not possible with this condition as theta_1+theta_4 will be slightly negative than theta_2+theta3\n",
"// Balance can be achieved by 2 methods:\n",
"disp('First option is to modify Z_1 so that its phase angle is decreased to less than 90deg by placing a resistor in parallel with the capacitor.')\n",
"// The resistance R_1 can be determined by the standard approach\n",
"\n",
"//Calculations\n",
"Y_1 = Z_4/(Z_2*Z_3);\n",
"//Also,\n",
"// Y_1 = (1/R) + %i/1000;\n",
"// equating both the equations and solving for R_1\n",
"\n",
"R_1 = 1/(Y_1-(%i/1000 ));\n",
"printf('The value of the resistor R_1 in parallel with capacitor = %d ohm\n',R_1);\n",
"\n",
"// It should be noted that the addition of R_1 upsets the first balance condition as the magnitude of Z_1 is changed\n",
"// Hence the variable R_3 should be adjusted to compensate this effect\n",
"\n",
"disp('The second option is to modify the phase angle of arm 2 or arm 3 by adding series capacitor');\n",
"Z_3_1 = Z_1 *Z_4/Z_2;\n",
"// substituting for the component values and solving for X_C yeilds\n",
"\n",
"X_C = abs(1000- Z_3_1)/-%i;\n",
"printf('The value of the reactance of the capacitor used, X_C = %d ohm',imag(X_C));\n",
"\n",
"\n",
"//In this case the magnitude of the Z_3 is increased so that the first balance condition is changed\n",
"//A small adjustment of R_3 is necessary to restore balance\n",
"\n",
"//Result\n",
"// First option is to modify Z_1 so that its phase angle is decreased to less than 90deg by placing a resistor in parallel with the capacitor.   \n",
"// The value of the resistor R_1 in parallel with capacitor = 5000 ohm\n",
" \n",
"// The second option is to modify the phase angle of arm 2 or arm 3 by adding series capacitor   \n",
"// The value of the reactance of the capacitor used, X_C = 200 ohm \n",
"\n",
"\n",
"\n",
""
   ]
   }
],
"metadata": {
		  "kernelspec": {
		   "display_name": "Scilab",
		   "language": "scilab",
		   "name": "scilab"
		  },
		  "language_info": {
		   "file_extension": ".sce",
		   "help_links": [
			{
			 "text": "MetaKernel Magics",
			 "url": "https://github.com/calysto/metakernel/blob/master/metakernel/magics/README.md"
			}
		   ],
		   "mimetype": "text/x-octave",
		   "name": "scilab",
		   "version": "0.7.1"
		  }
		 },
		 "nbformat": 4,
		 "nbformat_minor": 0
}
