{
"cells": [
 {
		   "cell_type": "markdown",
	   "metadata": {},
	   "source": [
       "# Chapter 4: Electromechanical Indicating Instruments"
	   ]
	},
{
		   "cell_type": "markdown",
		   "metadata": {},
		   "source": [
			"## Example 4.10: To_find_voltmeter_sensitivity_on_AC_range.sce"
		   ]
		  },
  {
"cell_type": "code",
	   "execution_count": null,
	   "metadata": {
	    "collapsed": true
	   },
	   "outputs": [],
"source": [
"// To find voltmeter sensitivity on AC range\n",
"// Modern Electronic Instrumentation And Measurement Techniques\n",
"// By Albert D. Helfrick, William D. Cooper\n",
"// First Edition Second Impression, 2009\n",
"// Dorling Kindersly Pvt. Ltd. India\n",
"// Example 4-10 in Page 81\n",
"\n",
"\n",
"clear; clc; close;\n",
"\n",
"// Given data\n",
"R_m = 100; //Internal resistance of the movement in ohm\n",
"R_sh = 100;\n",
"I_fsd = 1*(10^-3); //current for full scale deflection\n",
"R_D1 = 400;\n",
"R_D2 = 400;\n",
"E_rms = 10; //AC range of the voltmeter\n",
"\n",
"//Calculations\n",
"disp('Assuming infinite reverse resistance');\n",
"I_t = 2 *I_fsd;\n",
"E_dc = 0.45 * E_rms;\n",
"R_t = E_dc / I_t;\n",
"R_p = R_m *R_sh/(R_m+R_sh);\n",
"R_s = R_t - (R_D1 + R_p);\n",
"printf('(a)  The value of the multiplier resistor required, R_s = %d ohm\n',R_s);\n",
"S = R_t / E_rms;\n",
"printf('(b)  The sensitivity of the voltmeter on ac range, S = %d ohm/V',S);\n",
"\n",
"//Result\n",
"// Assuming infinite reverse resistance   \n",
"// (a)  The value of the multiplier resistor required, R_s = 1800 ohm\n",
"// (b)  The sensitivity of the voltmeter on ac range, S = 225 ohm/V \n",
"\n",
"\n",
"\n",
"\n",
""
   ]
   }
,
{
		   "cell_type": "markdown",
		   "metadata": {},
		   "source": [
			"## Example 4.1: To_find_Shunt_resistance_required.sce"
		   ]
		  },
  {
"cell_type": "code",
	   "execution_count": null,
	   "metadata": {
	    "collapsed": true
	   },
	   "outputs": [],
"source": [
"// To find Shunt resistance required\n",
"// Modern Electronic Instrumentation And Measurement Techniques\n",
"// By Albert D. Helfrick, William D. Cooper\n",
"// First Edition Second Impression, 2009\n",
"// Dorling Kindersly Pvt. Ltd. India\n",
"// Example 4-1 in Page 56\n",
"\n",
"\n",
"clear; clc; close;\n",
"\n",
"// Given data\n",
"I_m = 1*(10^-3); //Full scale deflection of the movement in ampere\n",
"R_m = 100; //Internal resistance of the movement(the coil) in ohm\n",
"I = 100*(10^-3); //Full scale of the ammeter including the shunt in Ampere\n",
"\n",
"//Calculations\n",
"I_s = I - I_m; // calculating current through shunt\n",
"R_s = I_m * R_m/ I_s; //calculating shunt to be added\n",
"printf('The value of the shunt resistance required, R_s = %0.2f ohm',R_s);\n",
"\n",
"//Result\n",
"// The value of the shunt resistance required, R_s = 1.01 ohm"
   ]
   }
,
{
		   "cell_type": "markdown",
		   "metadata": {},
		   "source": [
			"## Example 4.2: To_design_Ayrton_shunt.sce"
		   ]
		  },
  {
"cell_type": "code",
	   "execution_count": null,
	   "metadata": {
	    "collapsed": true
	   },
	   "outputs": [],
"source": [
"// To design Ayrton shunt\n",
"// Modern Electronic Instrumentation And Measurement Techniques\n",
"// By Albert D. Helfrick, William D. Cooper\n",
"// First Edition Second Impression, 2009\n",
"// Dorling Kindersly Pvt. Ltd. India\n",
"// Example 4-2 in Page 57\n",
"\n",
"\n",
"clear; clc; close;\n",
"\n",
"// Given data\n",
"I_1 = 1; //Full scale currents of the ammeter in amp\n",
"I_2 = 5;\n",
"I_3 = 10;\n",
"R_m = 50; //Internal resistance of the movement(the coil) in ohm\n",
"I_m = 1*(10^-3); //Full scale deflection of the movement in ampere\n",
"\n",
"//Calculations\n",
"// On the 1-A range: \n",
"I_s1 = I_1 - I_m; // calculating current through shunt\n",
"//Using the eq. R_s = I_m * R_m/ I_s\n",
"//1                       R_a +R_b +R_c = I_m * R_m/ I_s; // As (R_a +R_b +R_c) are parallel with R_m\n",
"\n",
"// On the 5-A range\n",
"I_s2 = I_2 - I_m;\n",
"//2                       R_a +R_b = I_m * (R_c +R_m)/ I_s; // As (R_a+R_b) in parallel with (R_c+R_m)\n",
"\n",
"// On the 10-A range\n",
"I_s3 = I_3 - I_m;\n",
"//3                       R_a = I_m * (R_b +R_c +R_m)/ I_s; // As R_a is parallel with (R_b +R_c +R_m)\n",
"\n",
"\n",
"//Solving the 3 simultaneous linear equations\n",
"function y = rr(R);\n",
"y(1)= R(1) +R(2) +R(3) - (I_m * R_m/ I_s1);\n",
"y(2)= R(1) +R(2) -(I_m * (R(3) +R_m)/ I_s2);\n",
"y(3)= R(1) -(I_m * (R(2) +R(3) +R_m)/ I_s3);\n",
"endfunction\n",
"\n",
"answer = fsolve([0.1;0.1;0.1],rr);\n",
"R_a = answer([1]);\n",
"R_b = answer([2]);\n",
"R_c = answer([3]);\n",
"\n",
"disp('The different resistors used for the ayrton shunt for different ranges are:');\n",
"printf('R_a = %f ohm\n',R_a);\n",
"printf('R_b = %f ohm\n',R_b);\n",
"printf('R_c = %f ohm',R_c);\n",
"\n",
"//Result\n",
"// The different resistors used for the ayrton shunt for different ranges are:   \n",
"// R_a = 0.005005 ohm\n",
"// R_b = 0.005005 ohm\n",
"// R_c = 0.040040 ohm \n",
""
   ]
   }
,
{
		   "cell_type": "markdown",
		   "metadata": {},
		   "source": [
			"## Example 4.3: To_design_multirange_dc_voltmeter.sce"
		   ]
		  },
  {
"cell_type": "code",
	   "execution_count": null,
	   "metadata": {
	    "collapsed": true
	   },
	   "outputs": [],
"source": [
"// To design multirange dc voltmeter\n",
"// Modern Electronic Instrumentation And Measurement Techniques\n",
"// By Albert D. Helfrick, William D. Cooper\n",
"// First Edition Second Impression, 2009\n",
"// Dorling Kindersly Pvt. Ltd. India\n",
"// Example 4-3 in Page 60\n",
"\n",
"\n",
"clear; clc; close;\n",
"\n",
"// Given data\n",
"R_m = 100; // internal resistance of movement\n",
"I_fsd = 1*(10^-3); //full-scale current in Amp\n",
"V_1 = 10; //different ranges in volt\n",
"V_2 = 50;\n",
"V_3 = 250;\n",
"V_4 = 500;\n",
"\n",
"//Calculations\n",
"\n",
"//For the 10-V range\n",
"R_T = V_1 / I_fsd;\n",
"R_4 = R_T - R_m;\n",
"printf('The value of the resistance R_4 = %d ohm\n',R_4);\n",
"\n",
"//For the 50-V range\n",
"R_T = V_2 / I_fsd;\n",
"R_3 = R_T - (R_4 +R_m);\n",
"printf('The value of the resistance R_3 = %dk ohm\n',R_3/1000);\n",
"\n",
"//For the 250-V range\n",
"R_T = V_3 / I_fsd;\n",
"R_2 = R_T -(R_3 +R_4 +R_m);\n",
"printf('The value of the resistance R_2 = %dk ohm\n',R_2/1000);\n",
"\n",
"//For the 500-V range\n",
"R_T = V_4 / I_fsd;\n",
"R_1 = R_T - (R_2 +R_3 +R_4 +R_m);\n",
"printf('The value of the resistance R_1 = %dk ohm',R_1/1000);\n",
"\n",
"//Result\n",
"// The value of the resistance R_4 = 9900 ohm\n",
"// The value of the resistance R_3 = 40k ohm\n",
"// The value of the resistance R_2 = 200k ohm\n",
"// The value of the resistance R_1 = 250k ohm "
   ]
   }
,
{
		   "cell_type": "markdown",
		   "metadata": {},
		   "source": [
			"## Example 4.4: To_design_multirange_dc_voltmeter.sce"
		   ]
		  },
  {
"cell_type": "code",
	   "execution_count": null,
	   "metadata": {
	    "collapsed": true
	   },
	   "outputs": [],
"source": [
"// To design multirange dc voltmeter \n",
"// Modern Electronic Instrumentation And Measurement Techniques\n",
"// By Albert D. Helfrick, William D. Cooper\n",
"// First Edition Second Impression, 2009\n",
"// Dorling Kindersly Pvt. Ltd. India\n",
"// Example 4-4 in Page 62\n",
"\n",
"\n",
"clear; clc; close;\n",
"\n",
"// Given data\n",
"// This is a repitition of example_4-3 with sensitivity method\n",
"R_m = 100; // internal resistance of movement\n",
"I_fsd = 1*(10^-3); //full-scale current in Amp\n",
"V_1 = 10; //different ranges in volt\n",
"V_2 = 50;\n",
"V_3 = 250;\n",
"V_4 = 500;\n",
"\n",
"//Calculations\n",
"S = 1/ I_fsd; // sensitivity in ohm/V\n",
"R_4 = (S * V_1)-R_m;\n",
"R_3 = (S * V_2)-(R_4 +R_m);\n",
"R_2 = (S * V_3)-(R_3 +R_4 +R_m);\n",
"R_1 = (S * V_4)-(R_2 +R_3 +R_4 +R_m);\n",
"\n",
"printf('The value of the resistance R_4 = (%dohm/V *%dV)- %dohm  = %d ohm\n',S,V_1,R_m,R_4);\n",
"printf('The value of the resistance R_3 = (%dohm/V *%dV)- %dohm  = %dK ohm\n',S,V_2,(R_4+R_m),R_3/1000);\n",
"printf('The value of the resistance R_2 = (%dohm/V *%dV)- %dohm  = %dK ohm\n',S,V_3,(R_3 +R_4 +R_m),R_2/1000);\n",
"printf('The value of the resistance R_1 = (%dohm/V *%dV)- %dohm  = %dK ohm',S,V_4,(R_2 +R_3 +R_4 +R_m),R_1/1000);\n",
"\n",
"//Result\n",
"// The value of the resistance R_4 = (1000ohm/V *10V)- 100ohm  = 9900 ohm\n",
"// The value of the resistance R_3 = (1000ohm/V *50V)- 10000ohm  = 40K ohm\n",
"// The value of the resistance R_2 = (1000ohm/V *250V)- 50000ohm  = 200K ohm\n",
"// The value of the resistance R_1 = (1000ohm/V *500V)- 250000ohm  = 250K ohm "
   ]
   }
,
{
		   "cell_type": "markdown",
		   "metadata": {},
		   "source": [
			"## Example 4.5: To_find_voltage_reading_and_Error.sce"
		   ]
		  },
  {
"cell_type": "code",
	   "execution_count": null,
	   "metadata": {
	    "collapsed": true
	   },
	   "outputs": [],
"source": [
"// To find voltage reading and Error\n",
"// Modern Electronic Instrumentation And Measurement Techniques\n",
"// By Albert D. Helfrick, William D. Cooper\n",
"// First Edition Second Impression, 2009\n",
"// Dorling Kindersly Pvt. Ltd. India\n",
"// Example 4-5 in Page 62\n",
"\n",
"clear; clc; close;\n",
"\n",
"// Given data\n",
"// resistances in series\n",
"R_1 = 100 * 10^3; \n",
"R_2 = 50 *10^3;\n",
"// sensitivity of two voltmeters\n",
"S_1 = 1000;\n",
"S_2 = 20000;\n",
"V = 50; // range of the voltmeters\n",
"E = 150; // voltage of battery in volt\n",
"\n",
"//Calculations\n",
"//By voltage divider rule\n",
"V_true = R_2 /(R_1+R_2)*E;\n",
"printf('The true voltage across resistor R_2 = %d V\n',V_true);\n",
"\n",
"//Reading of the first voltmeter\n",
"R_T1 = S_1 * V; // resistance of voltmeter = sensitivity * range\n",
"R_p =(R_2 *R_T1)/(R_2 +R_T1)// effective parallel resistance\n",
"R_c1 = R_1+R_p  // The total circuit resistance\n",
"V_1 = 25*10^3/R_c1 *E;\n",
"printf('The reading of the first voltmeter = %d V\n',V_1);\n",
"\n",
"//Reading of the second voltmeter \n",
"R_T2 = S_2 * V; // resistance of voltmeter = sensitivity * range\n",
"R_p =(R_2 *R_T2)/(R_2 +R_T2)\n",
"R_c2 = R_1 +R_p // The total circuit resistance\n",
"V_2 = 47.6*10^3/R_c2 *E;\n",
"printf('The reading of the second voltmeter = %0.2f V\n',V_2);\n",
"\n",
"%error_1 = (V_true - V_1)/V_true *100;\n",
"printf('The error in the reading due to voltmeter 1 =%d%%\n',%error_1);\n",
"%error_2 = (V_true - V_2)/V_true *100;\n",
"printf('The error in the reading due to voltmeter 2 =%0.2f%%',%error_2);\n",
"\n",
"//Results\n",
"// The true voltage across resistor R_2 = 50 V\n",
"// The reading of the first voltmeter = 30 V\n",
"// The reading of the second voltmeter = 48.37 V\n",
"// The error in the reading due to voltmeter 1 =40%\n",
"// The error in the reading due to voltmeter 2 =3.26% \n",
"\n",
"//The answers are varying as approximation is not done\n",
"\n",
""
   ]
   }
,
{
		   "cell_type": "markdown",
		   "metadata": {},
		   "source": [
			"## Example 4.6: To_find_the_value_of_unknown_resistor.sce"
		   ]
		  },
  {
"cell_type": "code",
	   "execution_count": null,
	   "metadata": {
	    "collapsed": true
	   },
	   "outputs": [],
"source": [
"// To find the value of unknown resistor\n",
"// Modern Electronic Instrumentation And Measurement Techniques\n",
"// By Albert D. Helfrick, William D. Cooper\n",
"// First Edition Second Impression, 2009\n",
"// Dorling Kindersly Pvt. Ltd. India\n",
"// Example 4-6 in Page 64\n",
"\n",
"\n",
"clear; clc; close;\n",
"\n",
"// Given data\n",
"S = 100; //Sensitivity of the voltmeter\n",
"// Three ranges of the voltmeter\n",
"V_1 = 50;\n",
"V_2 = 150;\n",
"V_3 = 300;\n",
"V_p = 4.65; //Reading of the meter on its 50-V scale\n",
"R_s = 100*10^3;\n",
"E = 100; //emf applied in volt\n",
"//Calculations\n",
"R_V = S * V_1;\n",
"R_p = ceil(V_p *R_s/ (E -V_p)); //R_p is the parallel resistance of R_x and R_v\n",
"R_x = R_p *R_V/ (R_V -R_p);\n",
"printf('The value of the unknown resistance R_x = %0.1e ohm',ceil(R_x));\n",
"\n",
"//Result\n",
"// The value of the unknown resistance R_x = 2.0e+005 ohm "
   ]
   }
,
{
		   "cell_type": "markdown",
		   "metadata": {},
		   "source": [
			"## Example 4.7: To_find_the_scale_error.sce"
		   ]
		  },
  {
"cell_type": "code",
	   "execution_count": null,
	   "metadata": {
	    "collapsed": true
	   },
	   "outputs": [],
"source": [
"// To find the scale error\n",
"// Modern Electronic Instrumentation And Measurement Techniques\n",
"// By Albert D. Helfrick, William D. Cooper\n",
"// First Edition Second Impression, 2009\n",
"// Dorling Kindersly Pvt. Ltd. India\n",
"// Example 4-7 in Page 67\n",
"\n",
"\n",
"clear; clc; close;\n",
"\n",
"// Given data\n",
"R_h = 2000; //The desired scale marking for the half scale deflection\n",
"E = 3; //The internal battery voltage in volt\n",
"I_fsd = 1 *(10^-3); //Current for full scale deflection in ampere\n",
"R_m = 50; //resistance of the basic movement in ohm\n",
"\n",
"//Calculations\n",
"I_t = E / R_h; //Total battery current at FSD\n",
"I_2 = I_t - I_fsd; // Current through zero-adjust resistor R_2\n",
"R_2 = I_fsd * R_m/I_2;\n",
"R_p = R_2*R_m/(R_2 + R_m);\n",
"R_1 = R_h - R_p;\n",
"printf('(a)  The value of R_1 and R_2 is')\n",
"printf('The value of zero-adjust resistor R2 =%0.1f ohm\n',R_2);\n",
"printf('The value of current-limiting resistor R1 =%0.1f ohm\n',R_1);\n",
"\n",
"//At a 10% drop in battery voltage\n",
"E = 3- 0.3;\n",
"I_t = E / R_h; //Total battery current in A\n",
"I_2 = I_t - I_fsd; //Shunt current in A\n",
"R_2 = ceil(I_fsd * R_m/I_2);\n",
"R_p = R_2 *R_m/(R_2+R_m);\n",
"R_h = R_1 + R_p;\n",
"%error = (2000-2003.7)/2003.7*100;\n",
"printf('\n(b)  The maximum value of R2 to compensate the drop in battery voltage = %d ohm\n',R_2);\n",
"printf('The true value of the half-scale mark on the meter is = %0.3f ohm\n',R_h);\n",
"printf('\n(c)  The percentage error = %0.3f%%\n',%error);\n",
"disp('The negative sign indicates that the meter reading is low');\n",
"\n",
"//Result\n",
"// (a)  The value of R_1 and R_2 isThe value of zero-adjust resistor R2 =100.0 ohm\n",
"// The value of current-limiting resistor R1 =1966.7 ohm\n",
"\n",
"// (b)  The maximum value of R2 to compensate the drop in battery voltage = 143 ohm\n",
"// The true value of the half-scale mark on the meter is = 2003.713 ohm\n",
"\n",
"// (c)  The percentage error = -0.185%\n",
" \n",
"// The negative sign indicates that the meter reading is low    \n",
"\n",
"\n",
"\n",
"\n",
""
   ]
   }
,
{
		   "cell_type": "markdown",
		   "metadata": {},
		   "source": [
			"## Example 4.8: To_find_shunt_and_current_limiting_resistor.sce"
		   ]
		  },
  {
"cell_type": "code",
	   "execution_count": null,
	   "metadata": {
	    "collapsed": true
	   },
	   "outputs": [],
"source": [
"// To find shunt and current limiting resistor\n",
"// Modern Electronic Instrumentation And Measurement Techniques\n",
"// By Albert D. Helfrick, William D. Cooper\n",
"// First Edition Second Impression, 2009\n",
"// Dorling Kindersly Pvt. Ltd. India\n",
"// Example 4-8 in Page 70\n",
"\n",
"\n",
"clear; clc; close;\n",
"\n",
"// Given data\n",
"I_fsd = 10*(10^-3); // current for full scale deflection in ampere\n",
"R_m = 5; //internal resistance of the d'Arsonval movement in ohm\n",
"E = 3; //Battery voltage in volt\n",
"R_h = 0.5; //The desired scale marking for the half scale deflection in ohm\n",
"\n",
"//Calculations\n",
"I_m = 0.5 * I_fsd; // Current for half scale deflection of movement\n",
"E_m = I_m * R_m; //The voltage across movement\n",
"I_x = E_m / R_h; // Voltage across unknown resistor R_x\n",
"I_sh = I_x - I_m; //As I_x = I_sh + I_m\n",
"R_sh = E_m / I_sh;\n",
"I_t = I_m +I_sh +I_x; //The total battery current\n",
"R_1 = (E - E_m)/I_t; \n",
"printf('(a)  The value of the shunt resistor, R_sh = %0.3f ohm\n',R_sh);\n",
"printf('(b)  The value of the current limiting resistor, R_1 = %0.2f ohm',R_1);\n",
"\n",
"//Result\n",
"// (a)  The value of the shunt resistor, R_sh = 0.556 ohm\n",
"// (b)  The value of the current limiting resistor, R_1 = 29.75 ohm \n",
""
   ]
   }
,
{
		   "cell_type": "markdown",
		   "metadata": {},
		   "source": [
			"## Example 4.9: To_find_multiplier_resistor.sce"
		   ]
		  },
  {
"cell_type": "code",
	   "execution_count": null,
	   "metadata": {
	    "collapsed": true
	   },
	   "outputs": [],
"source": [
"// To find multiplier resistor\n",
"// Modern Electronic Instrumentation And Measurement Techniques\n",
"// By Albert D. Helfrick, William D. Cooper\n",
"// First Edition Second Impression, 2009\n",
"// Dorling Kindersly Pvt. Ltd. India\n",
"// Example 4-9 in Page 79\n",
"\n",
"\n",
"clear; clc; close;\n",
"\n",
"// Given data\n",
"R_m = 50; //Internal resistance of the movement in ohm\n",
"I_fsd = 1 *(10^-3); //current for full scale deflection in ampere\n",
"E_rms = 10; // AC voltage applied to input terminals in volt\n",
"\n",
"//Calculation\n",
"disp('Assuming zero forward resistance and infinite reverse resistance');\n",
"E_dc = round(2 *sqrt(2)*E_rms/%pi);\n",
"R_t = E_dc / I_fsd; //Total circuit resistance\n",
"R_s = R_t - R_m; //Calculating multiplier resistor\n",
"printf('The value of the multiplier resistor, R_s = %d ohm',R_s);\n",
"\n",
"//Result\n",
"// Assuming zero forward resistance and infinite reverse resistance   \n",
"// The value of the multiplier resistor, R_s = 8950 ohm \n",
""
   ]
   }
],
"metadata": {
		  "kernelspec": {
		   "display_name": "Scilab",
		   "language": "scilab",
		   "name": "scilab"
		  },
		  "language_info": {
		   "file_extension": ".sce",
		   "help_links": [
			{
			 "text": "MetaKernel Magics",
			 "url": "https://github.com/calysto/metakernel/blob/master/metakernel/magics/README.md"
			}
		   ],
		   "mimetype": "text/x-octave",
		   "name": "scilab",
		   "version": "0.7.1"
		  }
		 },
		 "nbformat": 4,
		 "nbformat_minor": 0
}
