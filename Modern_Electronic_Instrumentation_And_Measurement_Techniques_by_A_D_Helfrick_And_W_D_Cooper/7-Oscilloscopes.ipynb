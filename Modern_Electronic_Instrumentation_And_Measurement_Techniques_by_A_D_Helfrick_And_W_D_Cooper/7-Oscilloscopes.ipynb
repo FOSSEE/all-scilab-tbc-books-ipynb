{
"cells": [
 {
		   "cell_type": "markdown",
	   "metadata": {},
	   "source": [
       "# Chapter 7: Oscilloscopes"
	   ]
	},
{
		   "cell_type": "markdown",
		   "metadata": {},
		   "source": [
			"## Example 7.1: To_find_minimum_distance.sce"
		   ]
		  },
  {
"cell_type": "code",
	   "execution_count": null,
	   "metadata": {
	    "collapsed": true
	   },
	   "outputs": [],
"source": [
"// To find minimum distance\n",
"// Modern Electronic Instrumentation And Measurement Techniques\n",
"// By Albert D. Helfrick, William D. Cooper\n",
"// First Edition Second Impression, 2009\n",
"// Dorling Kindersly Pvt. Ltd. India\n",
"// Example 7-1 in Page 184\n",
"\n",
"\n",
"clear; clc; close;\n",
"\n",
"// Given data\n",
"D = 4*10^-2; //Deflection on the screen in m\n",
"G = 100*100; // Deflection factor in V/m\n",
"E_a = 2000; //Accelarating potential in V\n",
"\n",
"//Calculations\n",
"// wkt. L = 2*d*E_a/(G*I_d)\n",
"\n",
"//Also L/D = I_d / d\n",
"//Therefore\n",
"\n",
"L = sqrt(2*D*E_a/G);\n",
"printf('The distance from the deflection plates to the oscilloscope tube screen = %0.3f m',L);\n",
"\n",
"//Result\n",
"// The distance from the deflection plates to the oscilloscope tube screen = 0.126 m \n",
""
   ]
   }
],
"metadata": {
		  "kernelspec": {
		   "display_name": "Scilab",
		   "language": "scilab",
		   "name": "scilab"
		  },
		  "language_info": {
		   "file_extension": ".sce",
		   "help_links": [
			{
			 "text": "MetaKernel Magics",
			 "url": "https://github.com/calysto/metakernel/blob/master/metakernel/magics/README.md"
			}
		   ],
		   "mimetype": "text/x-octave",
		   "name": "scilab",
		   "version": "0.7.1"
		  }
		 },
		 "nbformat": 4,
		 "nbformat_minor": 0
}
