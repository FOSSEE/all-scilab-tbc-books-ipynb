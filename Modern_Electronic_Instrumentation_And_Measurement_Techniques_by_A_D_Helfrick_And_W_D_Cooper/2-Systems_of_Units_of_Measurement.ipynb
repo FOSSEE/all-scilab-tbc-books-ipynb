{
"cells": [
 {
		   "cell_type": "markdown",
	   "metadata": {},
	   "source": [
       "# Chapter 2: Systems of Units of Measurement"
	   ]
	},
{
		   "cell_type": "markdown",
		   "metadata": {},
		   "source": [
			"## Example 2.1: To_convert_area_in_metre_to_feet.sce"
		   ]
		  },
  {
"cell_type": "code",
	   "execution_count": null,
	   "metadata": {
	    "collapsed": true
	   },
	   "outputs": [],
"source": [
"// To convert area in metre to feet\n",
"// Modern Electronic Instrumentation And Measurement Techniques\n",
"// By Albert D. Helfrick, William D. Cooper\n",
"// First Edition Second Impression, 2009\n",
"// Dorling Kindersly Pvt. Ltd. India\n",
"// Example 2-1 in Page 29\n",
"\n",
"clear; clc; close;\n",
"\n",
"// Given data\n",
"A_m = 5000; // area in metre^2 unit\n",
"\n",
"//Calculation\n",
"A_ft = A_m * (1/0.3048)^2; // As 1ft = 0.3048m\n",
"printf('The area in feet = %d sq.ft',round(A_ft));\n",
"\n",
"//Result\n",
"// The area in feet = 53820 sq.ft "
   ]
   }
,
{
		   "cell_type": "markdown",
		   "metadata": {},
		   "source": [
			"## Example 2.2: To_convert_flux_density_to_different_units.sce"
		   ]
		  },
  {
"cell_type": "code",
	   "execution_count": null,
	   "metadata": {
	    "collapsed": true
	   },
	   "outputs": [],
"source": [
"// To convert flux density to different units\n",
"// Modern Electronic Instrumentation And Measurement Techniques\n",
"// By Albert D. Helfrick, William D. Cooper\n",
"// First Edition Second Impression, 2009\n",
"// Dorling Kindersly Pvt. Ltd. India\n",
"// Example 2-2 in Page 29\n",
"\n",
"clear; clc; close;\n",
"\n",
"// Given data\n",
"B_cm = 20; // flux density in maxwell/sq.cm\n",
"\n",
"//Calculations\n",
"\n",
"B_in = B_cm *2.54^2; // converting to lines/sq.inch\n",
"printf('The flux density in lines/sq.in = %d lines/(in^2)',B_in);\n",
"\n",
"//Result\n",
"// The flux density in lines/sq.in = 129 lines/(in^2) \n",
"\n",
""
   ]
   }
,
{
		   "cell_type": "markdown",
		   "metadata": {},
		   "source": [
			"## Example 2.3: To_convert_velocity_to_a_different_unit.sce"
		   ]
		  },
  {
"cell_type": "code",
	   "execution_count": null,
	   "metadata": {
	    "collapsed": true
	   },
	   "outputs": [],
"source": [
"// To convert velocity to a different unit\n",
"// Modern Electronic Instrumentation And Measurement Techniques\n",
"// By Albert D. Helfrick, William D. Cooper\n",
"// First Edition Second Impression, 2009\n",
"// Dorling Kindersly Pvt. Ltd. India\n",
"// Example 2-3 in Page 29\n",
"\n",
"clear; clc; close;\n",
"\n",
"// Given data\n",
"c_s = 2.997925 * 10^8; // velocity in m/s\n",
"\n",
"//Calculations\n",
"c_hr = 2.997925 *10^8* 1/10^3* 3.6*10^3; // velocity in km/hr\n",
"printf('The velocity of light in km/hr = %0.3e km/hr',c_hr);\n",
"\n",
"//Result \n",
"// The velocity of light in km/hr = 1.079e+009 km/hr "
   ]
   }
,
{
		   "cell_type": "markdown",
		   "metadata": {},
		   "source": [
			"## Example 2.4: To_convert_density_to_a_different_unit.sce"
		   ]
		  },
  {
"cell_type": "code",
	   "execution_count": null,
	   "metadata": {
	    "collapsed": true
	   },
	   "outputs": [],
"source": [
"// To convert density to a different unit\n",
"// Modern Electronic Instrumentation And Measurement Techniques\n",
"// By Albert D. Helfrick, William D. Cooper\n",
"// First Edition Second Impression, 2009\n",
"// Dorling Kindersly Pvt. Ltd. India\n",
"// Example 2-4 in Page 29\n",
"\n",
"clear; clc; close;\n",
"\n",
"// Given data\n",
"Density_ft = 62.5;\n",
"\n",
"//Calcualtions\n",
"Density_in = 62.5 * (1/12)^3;\n",
"Density_cm = Density_in * 453.6 * (1/2.54)^3;\n",
"printf('(a)  The density of water in lb/cubic inch = %f lb/(in^3).\n',Density_in);\n",
"printf('(b)  The density of water in g/cubic cm = %f g/(cm^3).',Density_cm);\n",
"\n",
"//Result\n",
"// (a)  The density of water in lb/cubic inch = 0.036169 lb/(in^3).\n",
"// (b)  The density of water in g/cubic cm = 1.001171 g/(cm^3). "
   ]
   }
,
{
		   "cell_type": "markdown",
		   "metadata": {},
		   "source": [
			"## Example 2.5: To_convert_speed_limit_to_a_different_unit.sce"
		   ]
		  },
  {
"cell_type": "code",
	   "execution_count": null,
	   "metadata": {
	    "collapsed": true
	   },
	   "outputs": [],
"source": [
"// To convert speed limit to a different unit\n",
"// Modern Electronic Instrumentation And Measurement Techniques\n",
"// By Albert D. Helfrick, William D. Cooper\n",
"// First Edition Second Impression, 2009\n",
"// Dorling Kindersly Pvt. Ltd. India\n",
"// Example 2-5 in Page 30\n",
"\n",
"clear; clc; close;\n",
"\n",
"// Given data\n",
"speed_km = 60; // speed limit in km/hr\n",
"\n",
"//Calculations\n",
"speed_m = 60 *10^3 *10^2 *(1/2.54) *(1/12)*(1/5280);\n",
"speed_ft = 37.3 *5280 *(1/(3.6*10^3));\n",
"\n",
"printf('(a)  The speed limit in m/hr = %0.1f mi/hr\n',speed_m);\n",
"printf('(b)  The speed limit in ft/s = %0.1f ft/s',speed_ft);\n",
"\n",
"//Result\n",
"// (a)  The speed limit in m/hr = 37.3 mi/hr\n",
"// (b)  The speed limit in ft/s = 54.7 ft/s \n",
"\n",
"\n",
"//The answer given in textbook is printed incorrectly and does not match with calculated answer\n",
"\n",
""
   ]
   }
],
"metadata": {
		  "kernelspec": {
		   "display_name": "Scilab",
		   "language": "scilab",
		   "name": "scilab"
		  },
		  "language_info": {
		   "file_extension": ".sce",
		   "help_links": [
			{
			 "text": "MetaKernel Magics",
			 "url": "https://github.com/calysto/metakernel/blob/master/metakernel/magics/README.md"
			}
		   ],
		   "mimetype": "text/x-octave",
		   "name": "scilab",
		   "version": "0.7.1"
		  }
		 },
		 "nbformat": 4,
		 "nbformat_minor": 0
}
