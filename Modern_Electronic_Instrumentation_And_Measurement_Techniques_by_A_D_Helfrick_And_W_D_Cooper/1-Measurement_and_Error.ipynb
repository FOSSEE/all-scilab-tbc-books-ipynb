{
"cells": [
 {
		   "cell_type": "markdown",
	   "metadata": {},
	   "source": [
       "# Chapter 1: Measurement and Error"
	   ]
	},
{
		   "cell_type": "markdown",
		   "metadata": {},
		   "source": [
			"## Example 1.10: To_find_Average_deviation.sce"
		   ]
		  },
  {
"cell_type": "code",
	   "execution_count": null,
	   "metadata": {
	    "collapsed": true
	   },
	   "outputs": [],
"source": [
"// To find Average deviation\n",
"// Modern Electronic Instrumentation And Measurement Techniques\n",
"// By Albert D. Helfrick, William D. Cooper\n",
"// First Edition Second Impression, 2009\n",
"// Dorling Kindersly Pvt. Ltd. India\n",
"// Example 1-10 in Page 10\n",
"\n",
"\n",
"clear; clc; close;\n",
"\n",
"// Given data\n",
"// These are the data found out from the example_1-9\n",
"d_1 = 0.000150;\n",
"d_2 = -0.000450;\n",
"d_3 = -0.000150;\n",
"d_4 = 0.000450;\n",
"d_5 = 0.000250;\n",
"d_6 = -0.000250;\n",
"\n",
"//Calculation\n",
"D = (abs(d_1) +abs(d_2) +abs(d_3) +abs(d_4) +abs(d_5) +abs(d_6))/6;\n",
"printf('The average deviation, D = %0.2e A',D);\n",
"\n",
"//Result\n",
"//  The average deviation, D = 2.83e-004 A "
   ]
   }
,
{
		   "cell_type": "markdown",
		   "metadata": {},
		   "source": [
			"## Example 1.11: To_find_Std_deviation_and_Probable_error.sce"
		   ]
		  },
  {
"cell_type": "code",
	   "execution_count": null,
	   "metadata": {
	    "collapsed": true
	   },
	   "outputs": [],
"source": [
"// To find Std deviation and Probable error \n",
"// Modern Electronic Instrumentation And Measurement Techniques\n",
"// By Albert D. Helfrick, William D. Cooper\n",
"// First Edition Second Impression, 2009\n",
"// Dorling Kindersly Pvt. Ltd. India\n",
"// Example 1-11 in Page 14\n",
"\n",
"\n",
"clear; clc; close;\n",
"\n",
"// Given data\n",
"// let the 10 resistance measurements in ohm be taken as elements of matrix\n",
"x = [101.2 101.7 101.3 101.0 101.5 101.3 101.2 101.4 101.3 101.1];\n",
"\n",
"//Calculations\n",
"arithmatic_mean = mean(x);\n",
"sigma = st_deviation(x);\n",
"probable_error = 0.6745 * sigma;\n",
"printf('(a)  The arithmatic mean of the readings = %0.1f ohm\n',arithmatic_mean);\n",
"printf('(b)  The standard deviation of the readings = %0.1f ohm\n',sigma);\n",
"printf('(c)  The probable error of the readings = %0.4f ohm',probable_error);\n",
"\n",
"//Result\n",
"// (a)  The arithmatic mean of the readings = 101.3 ohm\n",
"// (b)  The standard deviation of the readings = 0.2 ohm\n",
"// (c)  The probable error of the readings = 0.1349 ohm "
   ]
   }
,
{
		   "cell_type": "markdown",
		   "metadata": {},
		   "source": [
			"## Example 1.12: To_find_Limiting_error.sce"
		   ]
		  },
  {
"cell_type": "code",
	   "execution_count": null,
	   "metadata": {
	    "collapsed": true
	   },
	   "outputs": [],
"source": [
"// To find Limiting error \n",
"// Modern Electronic Instrumentation And Measurement Techniques\n",
"// By Albert D. Helfrick, William D. Cooper\n",
"// First Edition Second Impression, 2009\n",
"// Dorling Kindersly Pvt. Ltd. India\n",
"// Example 1-12 in Page 14\n",
"\n",
"\n",
"clear; clc; close;\n",
"\n",
"// Given data\n",
"scale = 150;\n",
"percentage_accuracy = 1/100; // accuracy of 1% full scale reading\n",
"V = 83; //voltage measured by instrument = 83 volt \n",
"\n",
"//Calculations\n",
"limiting_error = percentage_accuracy * scale;\n",
"printf('The magnitude of the limiting error = %0.1f V\n',limiting_error);\n",
"\n",
"percentage_error = limiting_error/V * 100;\n",
"printf('The percentage limiting error = %0.2f percent',percentage_error);\n",
"\n",
"//Result\n",
"// The magnitude of the limiting error = 1.5 V\n",
"// The percentage limiting error = 1.81 percent "
   ]
   }
,
{
		   "cell_type": "markdown",
		   "metadata": {},
		   "source": [
			"## Example 1.13: To_find_the_maximum_error.sce"
		   ]
		  },
  {
"cell_type": "code",
	   "execution_count": null,
	   "metadata": {
	    "collapsed": true
	   },
	   "outputs": [],
"source": [
"// To find the maximum error\n",
"// Modern Electronic Instrumentation And Measurement Techniques\n",
"// By Albert D. Helfrick, William D. Cooper\n",
"// First Edition Second Impression, 2009\n",
"// Dorling Kindersly Pvt. Ltd. India\n",
"// Example 1-13 in Page 15\n",
"\n",
"\n",
"clear; clc; close;\n",
"\n",
"// Given data\n",
"// For the given tolerence of 0.1% \n",
"// highest value of resistor is 1.001 times the nominal value\n",
"// lowest value of resistor is 0.999 times the nominal value\n",
"\n",
"//Calculations\n",
"V_out_max = 1.001 * 1.001/ 0.999;\n",
"V_out_min = 0.999 * 0.999/ 1.003;\n",
"total_var = 0.1 * 3; // total variation of the resultant voltage is sum of tolerences\n",
"printf('The total variation of the resultant voltage = +/- %0.1f %%',total_var);\n",
"\n",
"//Result\n",
"// The total variation of the resultant voltage = +/- 0.3 %\n",
""
   ]
   }
,
{
		   "cell_type": "markdown",
		   "metadata": {},
		   "source": [
			"## Example 1.14: To_find_limiting_error.sce"
		   ]
		  },
  {
"cell_type": "code",
	   "execution_count": null,
	   "metadata": {
	    "collapsed": true
	   },
	   "outputs": [],
"source": [
"// To find limiting error\n",
"// Modern Electronic Instrumentation And Measurement Techniques\n",
"// By Albert D. Helfrick, William D. Cooper\n",
"// First Edition Second Impression, 2009\n",
"// Dorling Kindersly Pvt. Ltd. India\n",
"// Example 1-14 in Page 16\n",
"\n",
"\n",
"clear; clc; close;\n",
"\n",
"// Given data\n",
"// let I = X_1 +/- Y_1\n",
"//     R = X_2 +/- Y_2\n",
"X_1 = 2.00;\n",
"Y_1 = 0.5;\n",
"X_2 = 100;\n",
"Y_2 = 0.2;\n",
"\n",
"//Calculations\n",
"P_1 = ((1+0.005)^2)*(1+0.002);\n",
"printf('For the worst possible combination of the values of current and resistance,\nThe highest power dissipation becomes,\n');\n",
"printf('P = %0.3f (I^2)*R Watts\n',P_1);\n",
"P_2 = ((1-0.005)^2)*(1-0.002);\n",
"printf('For the lowest power dissipation.\nP = %0.3f (I^2)*R Watts\n',P_2)\n",
"lim_error = 2 * Y_1 + Y_2;\n",
"printf('The limiting error = +/- %0.1f%%',lim_error);\n",
"\n",
"//Result\n",
"// For the worst possible combination of the values of current and resistance,\n",
"// The highest power dissipation becomes,\n",
"// P = 1.012 (I^2)*R Watts\n",
"// For the lowest power dissipation.\n",
"// P = 0.988 (I^2)*R Watts\n",
"// The limiting error = +/- 1.2% "
   ]
   }
,
{
		   "cell_type": "markdown",
		   "metadata": {},
		   "source": [
			"## Example 1.1: To_find_Average_voltage_Range_of_error.sce"
		   ]
		  },
  {
"cell_type": "code",
	   "execution_count": null,
	   "metadata": {
	    "collapsed": true
	   },
	   "outputs": [],
"source": [
"// To find Average voltage Range of error\n",
"// Modern Electronic Instrumentation And Measurement Techniques\n",
"// By Albert D. Helfrick, William D. Cooper\n",
"// First Edition Second Impression, 2009\n",
"// Dorling Kindersly Pvt. Ltd. India\n",
"// Example 1-1 in Page 3\n",
"\n",
"\n",
"clear; clc; close;\n",
"\n",
"// Given data\n",
"E_1 = 117.02; // Voltage observed by 1st observer is 117.02V\n",
"E_2 = 117.11; // Voltage observed by 2nd observer is 117.11V\n",
"E_3 = 117.08; // Voltage observed by 3rd observer is 117.08V\n",
"E_4 = 117.03; // Voltage observed by 4th observer is 117.03V\n",
"\n",
"//Calculations\n",
"E_av = (E_1+E_2+E_3+E_4)/4;\n",
"printf('(a)  The average voltage, E_av = %0.2f V\n ',E_av);\n",
"\n",
"E_max = max (E_1,E_2,E_3,E_4); // Maximum value among the 4 nos\n",
"E_min = min (E_1,E_2,E_3,E_4); // Minimum value among the 4 nos\n",
"\n",
"range_1 = E_max - E_av; // Range calculated using two different formulae\n",
"range_2 = E_av - E_min; // Range calculated using two different formulae\n",
"\n",
"avg_range = (range_1+range_2)/2\n",
"printf('(b)  The average range of error = +/- %0.2f V',avg_range);\n",
"\n",
"//Result\n",
"// (a)  The average voltage, E_av = 117.06 V\n",
"// (b)  The average range of error = +/- 0.05 V \n",
"\n",
"\n",
"\n",
"\n",
"\n",
"\n",
"\n",
""
   ]
   }
,
{
		   "cell_type": "markdown",
		   "metadata": {},
		   "source": [
			"## Example 1.2: To_find_Total_resistance.sce"
		   ]
		  },
  {
"cell_type": "code",
	   "execution_count": null,
	   "metadata": {
	    "collapsed": true
	   },
	   "outputs": [],
"source": [
"// To find Total resistance\n",
"// Modern Electronic Instrumentation And Measurement Techniques\n",
"// By Albert D. Helfrick, William D. Cooper\n",
"// First Edition Second Impression, 2009\n",
"// Dorling Kindersly Pvt. Ltd. India\n",
"// Example 1-2 in Page 4\n",
"\n",
"\n",
"clear; clc; close;\n",
"\n",
"// Given data\n",
"R_1 = 18.7; // The first resistance is 18.7ohm\n",
"R_2 = 3.624; // The second resistance is 3.624ohm\n",
"\n",
"// Calculations\n",
"R_T = R_1 + R_2; // formula to calculate total resistance in series\n",
"printf('The total resistance connected in series = %0.3f ohm\n',R_T);\n",
"printf('As one of the resistance is accurate to only tenths of an ohm, The result should be reduced to the nearest tenth. \n Hence ')\n",
"printf('the total resistance is = %0.1f ohm',R_T);\n",
"\n",
"//Result\n",
"// The total resistance connected in series = 22.324 ohm\n",
"// As one of the resistance is accurate to only tenths of an ohm, The result should be reduced to the nearest tenth. \n",
"// Hence the total resistance is = 22.3 ohm \n",
"\n",
""
   ]
   }
,
{
		   "cell_type": "markdown",
		   "metadata": {},
		   "source": [
			"## Example 1.3: To_find_voltage_drop_across_resistor.sce"
		   ]
		  },
  {
"cell_type": "code",
	   "execution_count": null,
	   "metadata": {
	    "collapsed": true
	   },
	   "outputs": [],
"source": [
"// To find voltage drop across resistor\n",
"// Modern Electronic Instrumentation And Measurement Techniques\n",
"// By Albert D. Helfrick, William D. Cooper\n",
"// First Edition Second Impression, 2009\n",
"// Dorling Kindersly Pvt. Ltd. India\n",
"// Example 1-3 in Page 4\n",
"\n",
"\n",
"clear; clc; close;\n",
"\n",
"// Given data\n",
"I = 3.18; //Current flowing through the resistor = 3.18A\n",
"R = 35.68; // The value of resistor = 35.68ohm\n",
"\n",
"// Calculations\n",
"E = I*R;\n",
"printf('The voltage drop across the resistor = %0.4f volts',E);\n",
"disp('Since there are 3 significant figures involved in the multiplication, the result can be written only to a max of 3 significant figures');\n",
"printf('Hence the voltage drop across the resistor = %0.0f volts',E);\n",
"\n",
"//Result\n",
"// The voltage drop across the resistor = 113.4624 volts \n",
"// Since there are 3 significant figures involved in the multiplication, the result can be written only to a max of 3 significant figures   \n",
"// Hence the voltage drop across the resistor = 113 volts "
   ]
   }
,
{
		   "cell_type": "markdown",
		   "metadata": {},
		   "source": [
			"## Example 1.4: To_find_sum_with_range_of_doubt.sce"
		   ]
		  },
  {
"cell_type": "code",
	   "execution_count": null,
	   "metadata": {
	    "collapsed": true
	   },
	   "outputs": [],
"source": [
"// To find sum with range of doubt\n",
"// Modern Electronic Instrumentation And Measurement Techniques\n",
"// By Albert D. Helfrick, William D. Cooper\n",
"// First Edition Second Impression, 2009\n",
"// Dorling Kindersly Pvt. Ltd. India\n",
"// Example 1-4 in Page 5\n",
"\n",
"\n",
"clear; clc; close;\n",
"\n",
"// Given data\n",
"// let N_1 = X_1 +/- Y_1\n",
"//     N_2 = X_2 +/- Y_2\n",
"X_1 = 826;\n",
"Y_1 = 5;\n",
"X_2 = 628;\n",
"Y_2 = 3;\n",
"\n",
"//Calculations\n",
"X = (X_1 + X_2);\n",
"Y = (Y_1 + Y_2);\n",
"printf('SUM = %d +/- %d\n',X,Y);\n",
"%doubt = Y/X*100;\n",
"printf('The percentage range of doubt = +/-%0.2f%%',%doubt);\n",
"\n",
"//Result\n",
"// SUM = 1454 +/- 8\n",
"// The percentage range of doubt = +/-0.55% \n",
"\n",
"\n",
""
   ]
   }
,
{
		   "cell_type": "markdown",
		   "metadata": {},
		   "source": [
			"## Example 1.5: To_find_difference_with_range_of_doubt.sce"
		   ]
		  },
  {
"cell_type": "code",
	   "execution_count": null,
	   "metadata": {
	    "collapsed": true
	   },
	   "outputs": [],
"source": [
"// To find difference with range of doubt\n",
"// Modern Electronic Instrumentation And Measurement Techniques\n",
"// By Albert D. Helfrick, William D. Cooper\n",
"// First Edition Second Impression, 2009\n",
"// Dorling Kindersly Pvt. Ltd. India\n",
"// Example 1-5 in Page 5\n",
"\n",
"\n",
"clear; clc; close;\n",
"\n",
"// Given data\n",
"// let N_1 = X_1 +/- Y_1\n",
"//     N_2 = X_2 +/- Y_2\n",
"X_1 = 826;\n",
"Y_1 = 5;\n",
"X_2 = 628;\n",
"Y_2 = 3;\n",
"\n",
"//Calculations\n",
"X = (X_1 - X_2);\n",
"Y = (Y_1 + Y_2);\n",
"printf('Difference = %d +/- %d\n',X,Y);\n",
"%doubt = Y/X*100;\n",
"printf('The percentage range of doubt = +/-%0.2f%%',%doubt);\n",
"\n",
"//Result\n",
"// Difference = 198 +/- 8\n",
"// The percentage range of doubt = +/-4.04% "
   ]
   }
,
{
		   "cell_type": "markdown",
		   "metadata": {},
		   "source": [
			"## Example 1.6: To_find_difference_with_range_of_doubt.sce"
		   ]
		  },
  {
"cell_type": "code",
	   "execution_count": null,
	   "metadata": {
	    "collapsed": true
	   },
	   "outputs": [],
"source": [
"// To find difference with range of doubt\n",
"// Modern Electronic Instrumentation And Measurement Techniques\n",
"// By Albert D. Helfrick, William D. Cooper\n",
"// First Edition Second Impression, 2009\n",
"// Dorling Kindersly Pvt. Ltd. India\n",
"// Example 1-6 in Page 5\n",
"\n",
"\n",
"clear; clc; close;\n",
"\n",
"// Given data\n",
"// let N_1 = X_1 +/- Y_1\n",
"//     N_2 = X_2 +/- Y_2\n",
"X_1 = 462;\n",
"Y_1 = 4;\n",
"X_2 = 437;\n",
"Y_2 = 4;\n",
"\n",
"//Calculations\n",
"X = (X_1 - X_2);\n",
"Y = (Y_1 + Y_2);\n",
"printf('Difference = %d +/- %d\n',X,Y);\n",
"%doubt = Y/X*100;\n",
"printf('The percentage range of doubt = +/-%0.2f%%',%doubt);\n",
"\n",
"//Result\n",
"// Difference = 25 +/- 8\n",
"// The percentage range of doubt = +/-32.00% "
   ]
   }
,
{
		   "cell_type": "markdown",
		   "metadata": {},
		   "source": [
			"## Example 1.7: To_find_Apparent_and_actual_resistance.sce"
		   ]
		  },
  {
"cell_type": "code",
	   "execution_count": null,
	   "metadata": {
	    "collapsed": true
	   },
	   "outputs": [],
"source": [
"// To find Apparent and actual resistance \n",
"// Modern Electronic Instrumentation And Measurement Techniques\n",
"// By Albert D. Helfrick, William D. Cooper\n",
"// First Edition Second Impression, 2009\n",
"// Dorling Kindersly Pvt. Ltd. India\n",
"// Example 1-7 in Page 6\n",
"\n",
"\n",
"clear; clc; close;\n",
"\n",
"// Given data\n",
"I_T = 5*(10^-3); // Reading of the milliammeter in ampere\n",
"V_T = 100; // Reading of the voltmeter in volt\n",
"sensitivity = 1000; // sensitivity of voltmeter in ohm/volt\n",
"scale = 150; // scale of the voltmeter\n",
"\n",
"//Calculations\n",
"R_T = V_T / I_T; // formula to calculate total circuit resistance\n",
"printf('(a)  The apparent circuit resistance neglecting the resistance of milliammeter, R_T = %d ohm\n',R_T);\n",
"\n",
"R_V = sensitivity * scale; // calculating resistance of voltmeter\n",
"R_X = (R_T * R_V)/(R_V - R_T); // effective circuit resistance due to loading effect\n",
"printf('(b)  The actual circuit resistance with the loading effect of voltmeter, R_X = %0.2f ohm\n', R_X);\n",
"\n",
"percentage_error = (R_X - R_T)*100/ R_X;\n",
"// %error = (actual-apparent)/ actual\n",
"printf('(c)  The percentage error due to loading effect of voltmeter = %0.2f%%',percentage_error);\n",
"\n",
"//result\n",
"// (a)  The apparent circuit resistance neglecting the resistance of milliammeter, R_T = 20000 ohm\n",
"// (b)  The actual circuit resistance with the loading effect of voltmeter, R_X = 23076.92 ohm\n",
"// (c)  The percentage error due to loading effect of voltmeter = 13.33% \n",
"\n",
"\n",
"// The result shown in the textbook is printed incorrectly and does not match with the correct result\n",
"\n",
"\n",
"\n",
"\n",
""
   ]
   }
,
{
		   "cell_type": "markdown",
		   "metadata": {},
		   "source": [
			"## Example 1.8: To_find_Apparent_and_actual_resistance.sce"
		   ]
		  },
  {
"cell_type": "code",
	   "execution_count": null,
	   "metadata": {
	    "collapsed": true
	   },
	   "outputs": [],
"source": [
"// To find Apparent and actual resistance \n",
"// Modern Electronic Instrumentation And Measurement Techniques\n",
"// By Albert D. Helfrick, William D. Cooper\n",
"// First Edition Second Impression, 2009\n",
"// Dorling Kindersly Pvt. Ltd. India\n",
"// Example 1-8 in Page 7\n",
"\n",
"\n",
"clear; clc; close;\n",
"\n",
"// Given data\n",
"I_T = 800*(10^-3); // Reading of the milliammeter in ampere\n",
"V_T = 40; // Reading of the voltmeter in volt\n",
"sensitivity = 1000; // sensitivity of voltmeter in ohm/volt\n",
"scale = 150; // scale of the voltmeter\n",
"\n",
"//Calculations\n",
"R_T = V_T / I_T; // formula to calculate total circuit resistance\n",
"printf('(a)  The apparent circuit resistance neglecting the resistance of milliammeter, R_T = %0.2f ohm\n',R_T);\n",
"\n",
"R_V = sensitivity * scale; // calculating resistance of voltmeter\n",
"R_X = (R_T * R_V)/(R_V - R_T); // effective circuit resistance due to loading effect\n",
"printf('(b)  The actual circuit resistance with the loading effect of voltmeter, R_X = %0.2f ohm\n', R_X);\n",
"\n",
"percentage_error = (R_X - R_T)*100/ R_X;\n",
"// %error = (actual-apparent)/ actual\n",
"printf('(c)  The percentage error due to loading effect of voltmeter = %0.2f%%',percentage_error);\n",
"\n",
"//result\n",
"// (a)  The apparent circuit resistance neglecting the resistance of milliammeter, R_T = 50.00 ohm\n",
"// (b)  The actual circuit resistance with the loading effect of voltmeter, R_X = 50.02 ohm\n",
"// (c)  The percentage error due to loading effect of voltmeter = 0.03% \n",
"\n",
"\n",
"// The result shown in the textbook is printed incorrectly and does not match with the correct result\n",
""
   ]
   }
,
{
		   "cell_type": "markdown",
		   "metadata": {},
		   "source": [
			"## Example 1.9: To_find_Arithmatic_mean_and_deviation_from_mean.sce"
		   ]
		  },
  {
"cell_type": "code",
	   "execution_count": null,
	   "metadata": {
	    "collapsed": true
	   },
	   "outputs": [],
"source": [
"// To find Arithmatic mean and deviation from mean\n",
"// Modern Electronic Instrumentation And Measurement Techniques\n",
"// By Albert D. Helfrick, William D. Cooper\n",
"// First Edition Second Impression, 2009\n",
"// Dorling Kindersly Pvt. Ltd. India\n",
"// Example 1-9 in Page 9\n",
"\n",
"\n",
"clear; clc; close;\n",
"\n",
"// Given data\n",
"// Independent current measurements taken by six observers\n",
"I_1 = 12.8*(10^-3);\n",
"I_2 = 12.2*(10^-3);\n",
"I_3 = 12.5*(10^-3);\n",
"I_4 = 13.1*(10^-3);\n",
"I_5 = 12.9*(10^-3);\n",
"I_6 = 12.4*(10^-3);\n",
"\n",
"//Calculations\n",
"arithmatic_mean = (I_1 +I_2 +I_3 +I_4 +I_5 +I_6)/6;\n",
"printf('(a)  The arithmatic mean of the observations =%0.5f A',arithmatic_mean);\n",
"\n",
"d_1 = I_1 - arithmatic_mean;\n",
"d_2 = I_2 - arithmatic_mean;\n",
"d_3 = I_3 - arithmatic_mean;\n",
"d_4 = I_4 - arithmatic_mean;\n",
"d_5 = I_5 - arithmatic_mean;\n",
"d_6 = I_6 - arithmatic_mean;\n",
"\n",
"//deviation calculated using the formula d_n = x_n - arithmatic_mean\n",
"disp('(b)  The deviations from the mean are:' );\n",
"printf('d_1 = %0.5f A\n d_2 = %0.5f A\n d_3 = %0.5f A\n d_4 = %0.5f A\n d_5 = %0.5f A\n d_6 = %0.5f A\n',d_1, d_2, d_3, d_4, d_5, d_6);\n",
"\n",
"//Result\n",
"// (a)  The arithmatic mean of the observations =0.01265 A \n",
"// (b)  The deviations from the mean are:   \n",
"// d_1 = 0.00015 A\n",
"// d_2 = -0.00045 A\n",
"// d_3 = -0.00015 A\n",
"// d_4 = 0.00045 A\n",
"// d_5 = 0.00025 A\n",
"// d_6 = -0.00025 A\n",
" "
   ]
   }
],
"metadata": {
		  "kernelspec": {
		   "display_name": "Scilab",
		   "language": "scilab",
		   "name": "scilab"
		  },
		  "language_info": {
		   "file_extension": ".sce",
		   "help_links": [
			{
			 "text": "MetaKernel Magics",
			 "url": "https://github.com/calysto/metakernel/blob/master/metakernel/magics/README.md"
			}
		   ],
		   "mimetype": "text/x-octave",
		   "name": "scilab",
		   "version": "0.7.1"
		  }
		 },
		 "nbformat": 4,
		 "nbformat_minor": 0
}
