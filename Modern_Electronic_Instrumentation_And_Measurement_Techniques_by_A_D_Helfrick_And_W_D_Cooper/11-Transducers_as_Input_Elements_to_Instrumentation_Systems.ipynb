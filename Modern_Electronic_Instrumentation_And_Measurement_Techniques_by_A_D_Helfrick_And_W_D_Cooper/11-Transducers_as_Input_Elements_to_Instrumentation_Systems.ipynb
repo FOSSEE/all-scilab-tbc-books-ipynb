{
"cells": [
 {
		   "cell_type": "markdown",
	   "metadata": {},
	   "source": [
       "# Chapter 11: Transducers as Input Elements to Instrumentation Systems"
	   ]
	},
{
		   "cell_type": "markdown",
		   "metadata": {},
		   "source": [
			"## Example 11.1: To_find_change_in_resistance.sce"
		   ]
		  },
  {
"cell_type": "code",
	   "execution_count": null,
	   "metadata": {
	    "collapsed": true
	   },
	   "outputs": [],
"source": [
"// To find change in resistance\n",
"// Modern Electronic Instrumentation And Measurement Techniques\n",
"// By Albert D. Helfrick, William D. Cooper\n",
"// First Edition Second Impression, 2009\n",
"// Dorling Kindersly Pvt. Ltd. India\n",
"// Example 11-1 in Page 317\n",
"\n",
"\n",
"clear; clc; close;\n",
"\n",
"// Given data\n",
"K =2; //Gauge factor \n",
"s = 1050; //stress in kg/cm^2\n",
"E = 2.1*10^6; //modulus of elasticity of steel in kg/cm^2\n",
"\n",
"//Calculations\n",
"strain = s/E; //Hooke's law\n",
"change_in_resistance = K*strain;\n",
"%change = change_in_resistance * 100;\n",
"\n",
"printf('The change in resistance = %0.3f\n',change_in_resistance);\n",
"printf('The percentage change in resistance = %0.1f %%',%change);\n",
"\n",
"//Result\n",
"// The change in resistance = 0.001\n",
"// The percentage change in resistance = 0.1 % "
   ]
   }
],
"metadata": {
		  "kernelspec": {
		   "display_name": "Scilab",
		   "language": "scilab",
		   "name": "scilab"
		  },
		  "language_info": {
		   "file_extension": ".sce",
		   "help_links": [
			{
			 "text": "MetaKernel Magics",
			 "url": "https://github.com/calysto/metakernel/blob/master/metakernel/magics/README.md"
			}
		   ],
		   "mimetype": "text/x-octave",
		   "name": "scilab",
		   "version": "0.7.1"
		  }
		 },
		 "nbformat": 4,
		 "nbformat_minor": 0
}
