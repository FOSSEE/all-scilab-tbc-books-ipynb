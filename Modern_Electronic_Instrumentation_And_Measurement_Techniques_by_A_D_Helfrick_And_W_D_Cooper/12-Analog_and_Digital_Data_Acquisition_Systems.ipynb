{
"cells": [
 {
		   "cell_type": "markdown",
	   "metadata": {},
	   "source": [
       "# Chapter 12: Analog and Digital Data Acquisition Systems"
	   ]
	},
{
		   "cell_type": "markdown",
		   "metadata": {},
		   "source": [
			"## Example 12.1: To_find_percentage_error.sce"
		   ]
		  },
  {
"cell_type": "code",
	   "execution_count": null,
	   "metadata": {
	    "collapsed": true
	   },
	   "outputs": [],
"source": [
"// To find percentage error\n",
"// Modern Electronic Instrumentation And Measurement Techniques\n",
"// By Albert D. Helfrick, William D. Cooper\n",
"// First Edition Second Impression, 2009\n",
"// Dorling Kindersly Pvt. Ltd. India\n",
"// Example 12-1 in Page 360\n",
"\n",
"\n",
"clear; clc; close;\n",
"\n",
"// Given data\n",
"R = 1; //Resistance of the wire in ohm\n",
"R_L = 10*10^3; //Load resistance in ohm\n",
"I_supply = 50*10^-3; //power supply current in A\n",
"V_out = 1; //output of the amplifier in V\n",
"\n",
"//Calculations\n",
"V_L = (V_out+(I_supply*R))*R_L/(2*R+R_L);\n",
"printf('The load voltage calculated = %0.2f\n',V_L);\n",
"\n",
"%error = ceil((V_L -V_out)/V_L*100);\n",
"printf('The percentage error is about %d %%, which is unacceptable in most systems',%error);\n",
"\n",
"//Result\n",
"// The load voltage calculated = 1.05\n",
"// The percentage error is about 5 %, which is unacceptable in most systems \n",
"\n",
"\n",
""
   ]
   }
],
"metadata": {
		  "kernelspec": {
		   "display_name": "Scilab",
		   "language": "scilab",
		   "name": "scilab"
		  },
		  "language_info": {
		   "file_extension": ".sce",
		   "help_links": [
			{
			 "text": "MetaKernel Magics",
			 "url": "https://github.com/calysto/metakernel/blob/master/metakernel/magics/README.md"
			}
		   ],
		   "mimetype": "text/x-octave",
		   "name": "scilab",
		   "version": "0.7.1"
		  }
		 },
		 "nbformat": 4,
		 "nbformat_minor": 0
}
