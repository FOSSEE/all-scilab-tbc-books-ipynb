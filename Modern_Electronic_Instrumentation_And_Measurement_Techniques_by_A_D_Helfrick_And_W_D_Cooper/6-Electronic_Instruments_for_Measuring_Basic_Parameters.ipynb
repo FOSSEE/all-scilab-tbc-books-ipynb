{
"cells": [
 {
		   "cell_type": "markdown",
	   "metadata": {},
	   "source": [
       "# Chapter 6: Electronic Instruments for Measuring Basic Parameters"
	   ]
	},
{
		   "cell_type": "markdown",
		   "metadata": {},
		   "source": [
			"## Example 6.1: To_find_the_form_factor_and_error.sce"
		   ]
		  },
  {
"cell_type": "code",
	   "execution_count": null,
	   "metadata": {
	    "collapsed": true
	   },
	   "outputs": [],
"source": [
"// To find the form factor and error\n",
"// Modern Electronic Instrumentation And Measurement Techniques\n",
"// By Albert D. Helfrick, William D. Cooper\n",
"// First Edition Second Impression, 2009\n",
"// Dorling Kindersly Pvt. Ltd. India\n",
"// Example 6-1 in Page 131\n",
"\n",
"\n",
"clear; clc; close;\n",
"\n",
"// Given data\n",
"//let\n",
"E_m = 10; //Let the peak amplitude of the square wave be 10V\n",
"T = 1; //Let the time period of the square wave be 1s\n",
"\n",
"function y= f(t),y=(E_m)^2 ,endfunction\n",
"E_rms = sqrt(1/T * intg(0,T,f));\n",
"printf('(a)  The rms value of the square wave = %d V \n',E_rms);\n",
"\n",
"function x = ff(t),x =(E_m) ,endfunction\n",
"E_av = (2/T * intg(0,T/2,ff));\n",
"printf('  The average value of the square wave = %d V\n',E_av);\n",
"\n",
"k = E_rms/E_av;\n",
"printf('  The form factor of the square wave =%d\n',k);\n",
"\n",
"k_sine = 1.11;\n",
"k_square = 1;\n",
"%error = (k_sine - k_square)/k_square*100;\n",
"printf('(b)  The percentage error in meter indication = %d %%',%error);\n",
"\n",
"//Result\n",
"// (a)  The rms value of the square wave = 10 V \n",
"//  The average value of the square wave = 10 V\n",
"//  The form factor of the square wave =1\n",
"// (b)  The percentage error in meter indication = 11 % \n",
"\n",
""
   ]
   }
,
{
		   "cell_type": "markdown",
		   "metadata": {},
		   "source": [
			"## Example 6.2: To_find_the_form_factor_and_error.sce"
		   ]
		  },
  {
"cell_type": "code",
	   "execution_count": null,
	   "metadata": {
	    "collapsed": true
	   },
	   "outputs": [],
"source": [
"// To find the form factor and error\n",
"// Modern Electronic Instrumentation And Measurement Techniques\n",
"// By Albert D. Helfrick, William D. Cooper\n",
"// First Edition Second Impression, 2009\n",
"// Dorling Kindersly Pvt. Ltd. India\n",
"// Example 6-2 in Page 132\n",
"\n",
"\n",
"clear; clc; close;\n",
"\n",
"// Given data\n",
"E_m = 150; //Let the peak amplitude of the sawtooth wave be 150V\n",
"T = 3; //Let the time period of the sawtooth wave be 3s\n",
"// e = 50*t; As seen from the figure 6-7b in page 131\n",
"\n",
"//Calculations\n",
"function y= f(t),y=(50*t)^2 ,endfunction\n",
"E_rms = sqrt(1/T * intg(0,T,f));\n",
"printf('(a)  The rms value of the sawtooth wave = %d V \n',E_rms);\n",
"\n",
"function x = ff(t),x =(50*t) ,endfunction\n",
"E_av = (1/T * intg(0,T,ff));\n",
"printf('The average value of the sawtooth wave = %d V\n',E_av);\n",
"\n",
"k_st = E_rms/E_av;\n",
"printf('The form factor of the sawtooth wave =%0.3f\n',k_st);\n",
"\n",
"k_sine = 1.11;\n",
"r = k_sine/k_st;\n",
"printf('(b)  The ratio of the two form factors = %0.3f\n',r);\n",
"\n",
"printf('The meter indication is low by a factor of %0.3f\n',r);\n",
"%error = (r - 1)/1*100;\n",
"printf('The percentage error in meter indication = %0.1f %%',%error);\n",
"\n",
"//Result\n",
"// (a)  The rms value of the sawtooth wave = 86 V \n",
"// The average value of the sawtooth wave = 75 V\n",
"// The form factor of the sawtooth wave =1.155\n",
"// (b)  The ratio of the two form factors = 0.961\n",
"// The meter indication is low by a factor of 0.961\n",
"// The percentage error in meter indication = -3.9 % "
   ]
   }
,
{
		   "cell_type": "markdown",
		   "metadata": {},
		   "source": [
			"## Example 6.3: To_find_the_maximum_time.sce"
		   ]
		  },
  {
"cell_type": "code",
	   "execution_count": null,
	   "metadata": {
	    "collapsed": true
	   },
	   "outputs": [],
"source": [
"// To find the maximum time \n",
"// Modern Electronic Instrumentation And Measurement Techniques\n",
"// By Albert D. Helfrick, William D. Cooper\n",
"// First Edition Second Impression, 2009\n",
"// Dorling Kindersly Pvt. Ltd. India\n",
"// Example 6-3 in Page 144\n",
"\n",
"\n",
"clear; clc; close;\n",
"\n",
"// Given data\n",
"R = 100*(10^3); // Value of resistance in ohm\n",
"C = 0.1*(10^-6); // The value of integrating capacitor in F\n",
"V_ref = 2; // The reference voltage in V\n",
"V_out = 10; // The maximum limit of the output in V\n",
"\n",
"//Calculations\n",
"T = R*C;\n",
"printf('The integrator time constant = %0.3f s\n',T);\n",
"V_s = V_ref/T; //Unit is V/s\n",
"V = 1/V_s;\n",
"printf('Therefore the integrator output = %0.3f s/V',V)\n",
"disp('Therefore to integrate 10V');\n",
"T_max = V*V_out; //The max time the ref voltage can be integrated\n",
"printf('The time required = %0.4f s',T_max);\n",
"\n",
"//Result\n",
"// The integrator time constant = 0.010 s\n",
"// Therefore the integrator output = 0.005 s/V \n",
"// Therefore to integrate 10V   \n",
"// The time required = 0.0500 s \n",
""
   ]
   }
,
{
		   "cell_type": "markdown",
		   "metadata": {},
		   "source": [
			"## Example 6.4: To_find_the_distributed_capacitance.sce"
		   ]
		  },
  {
"cell_type": "code",
	   "execution_count": null,
	   "metadata": {
	    "collapsed": true
	   },
	   "outputs": [],
"source": [
"// To find the distributed capacitance\n",
"// Modern Electronic Instrumentation And Measurement Techniques\n",
"// By Albert D. Helfrick, William D. Cooper\n",
"// First Edition Second Impression, 2009\n",
"// Dorling Kindersly Pvt. Ltd. India\n",
"// Example 6-4 in Page 162\n",
"\n",
"\n",
"clear; clc; close;\n",
"\n",
"// Given data\n",
"// Frequency measurements in Hz\n",
"f_1 = 2*10^6;\n",
"f_2 = 4*10^6;\n",
"// Value of tuning capacitor in F\n",
"C_1 = 460*10^-12;\n",
"C_2 = 100*10^-12;\n",
"\n",
"//Calculations\n",
" C_d = (C_1- (4*C_2))/3;\n",
"printf('C_d = %0.0E F\n',C_d);\n",
"printf('i.e The value of the distributed capacitance = %d pF',(C_d*10^12));\n",
"\n",
"//Result\n",
"// C_d = 2E-011 F\n",
"// i.e The value of the distributed capacitance = 20 pF \n",
""
   ]
   }
,
{
		   "cell_type": "markdown",
		   "metadata": {},
		   "source": [
			"## Example 6.5: To_find_the_self_capacitance.sce"
		   ]
		  },
  {
"cell_type": "code",
	   "execution_count": null,
	   "metadata": {
	    "collapsed": true
	   },
	   "outputs": [],
"source": [
"// To find the self capacitance\n",
"// Modern Electronic Instrumentation And Measurement Techniques\n",
"// By Albert D. Helfrick, William D. Cooper\n",
"// First Edition Second Impression, 2009\n",
"// Dorling Kindersly Pvt. Ltd. India\n",
"// Example 6-5 in Page 162\n",
"\n",
"\n",
"clear; clc; close;\n",
"\n",
"// Given data\n",
"// Values of frequencies in Hz\n",
"f_1 = 2*10^6;\n",
"f_2 = 5*10^6;\n",
"// Values of the tuning capacitors in F\n",
"C_1 = 450*10^-12;\n",
"C_2 = 60*10^-12;\n",
"\n",
"//Calculations\n",
"\n",
"//Using the equation f = 1/(2*%pi*sqrt(L*(C_2+C_d)));\n",
"//Since f_2 = 2.5*f_1\n",
"//Equating & reducing the equations\n",
"// 1/(C_2 +C_d) = 6.25/(C_1 +C_d)\n",
"\n",
"C_d = (C_1 -6.25*C_2)/5.25\n",
"printf('C_d = %0.2E F\n',C_d);\n",
"printf('i.e The value of the distributed capacitance = %0.1f pF',(C_d*10^12));\n",
"\n",
"//Result\n",
"// C_d = 1.43E-011 F\n",
"// i.e The value of the distributed capacitance = 14.3 pF \n",
"\n",
""
   ]
   }
,
{
		   "cell_type": "markdown",
		   "metadata": {},
		   "source": [
			"## Example 6.6: To_find_percentage_error.sce"
		   ]
		  },
  {
"cell_type": "code",
	   "execution_count": null,
	   "metadata": {
	    "collapsed": true
	   },
	   "outputs": [],
"source": [
"// To find percentage error\n",
"// Modern Electronic Instrumentation And Measurement Techniques\n",
"// By Albert D. Helfrick, William D. Cooper\n",
"// First Edition Second Impression, 2009\n",
"// Dorling Kindersly Pvt. Ltd. India\n",
"// Example 6-6 in Page 163\n",
"\n",
"\n",
"clear; clc; close;\n",
"\n",
"// Given data\n",
"R = 10; //Resistance of the coil in ohm\n",
"f = 1*10^6; //The oscillator frequency in Hz\n",
"C = 65*10^-12; //The value of resonating capacitor in F\n",
"R_i = 0.02; //The value of the insertion resistor in ohm\n",
"\n",
"//Calculations\n",
"w = 2*%pi*f;\n",
"Q_e = 1/(w*C*R);\n",
"printf('The effective Q of the coil = %0.1f\n',Q_e);\n",
"Q_i = 1/(w*C*(R+R_i));\n",
"printf('The indicated Q of the coil = %0.1f\n',Q_i);\n",
"%error = (Q_e - Q_i)/Q_e*100;\n",
"printf('The percentage error is = %0.1f %%',%error);\n",
"\n",
"//Result\n",
"// The effective Q of the coil = 244.9\n",
"// The indicated Q of the coil = 244.4\n",
"// The percentage error is = 0.2 % \n",
""
   ]
   }
,
{
		   "cell_type": "markdown",
		   "metadata": {},
		   "source": [
			"## Example 6.7: To_find_percentage_error.sce"
		   ]
		  },
  {
"cell_type": "code",
	   "execution_count": null,
	   "metadata": {
	    "collapsed": true
	   },
	   "outputs": [],
"source": [
"// To find percentage error\n",
"// Modern Electronic Instrumentation And Measurement Techniques\n",
"// By Albert D. Helfrick, William D. Cooper\n",
"// First Edition Second Impression, 2009\n",
"// Dorling Kindersly Pvt. Ltd. India\n",
"// Example 6-7 in Page 163\n",
"\n",
"\n",
"clear; clc; close;\n",
"\n",
"// Given data\n",
"R = 0.1; //Resistance of the coil in ohm\n",
"f = 40*10^6; //The frequency at resonance in Hz\n",
"C = 135*10^-12; //The value of tuning capacitor in F\n",
"R_i = 0.02; //The value of the insertion resistor in ohm\n",
"\n",
"\n",
"//Calculations\n",
"w = 2*%pi*f;\n",
"Q_e = 1/(w*C*R);\n",
"printf('The effective Q of the coil = %d\n',ceil(Q_e));\n",
"Q_i = 1/(w*C*(R+R_i));\n",
"printf('The indicated Q of the coil = %d\n',ceil(Q_i));\n",
"%error = (Q_e - Q_i)/Q_e*100;\n",
"printf('The percentage error is = %d %%',ceil(%error));\n",
"\n",
"//Result\n",
"// The effective Q of the coil = 295\n",
"// The indicated Q of the coil = 246\n",
"// The percentage error is = 17 % \n",
" "
   ]
   }
],
"metadata": {
		  "kernelspec": {
		   "display_name": "Scilab",
		   "language": "scilab",
		   "name": "scilab"
		  },
		  "language_info": {
		   "file_extension": ".sce",
		   "help_links": [
			{
			 "text": "MetaKernel Magics",
			 "url": "https://github.com/calysto/metakernel/blob/master/metakernel/magics/README.md"
			}
		   ],
		   "mimetype": "text/x-octave",
		   "name": "scilab",
		   "version": "0.7.1"
		  }
		 },
		 "nbformat": 4,
		 "nbformat_minor": 0
}
