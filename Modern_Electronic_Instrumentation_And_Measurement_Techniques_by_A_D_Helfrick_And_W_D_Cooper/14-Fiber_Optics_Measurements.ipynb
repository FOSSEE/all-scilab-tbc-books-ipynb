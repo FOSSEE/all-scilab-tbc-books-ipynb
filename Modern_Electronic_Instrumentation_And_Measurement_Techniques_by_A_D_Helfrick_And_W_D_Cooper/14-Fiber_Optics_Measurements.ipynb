{
"cells": [
 {
		   "cell_type": "markdown",
	   "metadata": {},
	   "source": [
       "# Chapter 14: Fiber Optics Measurements"
	   ]
	},
{
		   "cell_type": "markdown",
		   "metadata": {},
		   "source": [
			"## Example 14.1: To_find_acceptance_angle_and_numerical_aperture.sce"
		   ]
		  },
  {
"cell_type": "code",
	   "execution_count": null,
	   "metadata": {
	    "collapsed": true
	   },
	   "outputs": [],
"source": [
"// To find acceptance angle and numerical aperture\n",
"// Modern Electronic Instrumentation And Measurement Techniques\n",
"// By Albert D. Helfrick, William D. Cooper\n",
"// First Edition Second Impression, 2009\n",
"// Dorling Kindersly Pvt. Ltd. India\n",
"// Example 14-1 in Page 392\n",
"\n",
"\n",
"clear; clc; close;\n",
"\n",
"// Given data\n",
"n_2 = 1.45; //Core index of refraction\n",
"n_1 = 1.47; //Cladding index of refraction\n",
"\n",
"//Calculation\n",
"theta_c = acos(n_2/n_1);\n",
"theta_A = 2*asin(n_1*sin(theta_c));\n",
"NA = sqrt(n_1^2 -n_2^2);\n",
"\n",
"printf('The critical angle of the fiber = %0.2f degree\n',theta_c*180/%pi);\n",
"printf('The acceptance angle of the fiber = %0.2f degree\n',theta_A*180/%pi);\n",
"printf('The numerical aperture of the fiber = %0.3f ',NA);\n",
"\n",
"//Result\n",
"// The critical angle of the fiber = 9.46 degree\n",
"// The acceptance angle of the fiber = 27.97 degree\n",
"// The numerical aperture of the fiber = 0.242  \n",
"\n",
""
   ]
   }
,
{
		   "cell_type": "markdown",
		   "metadata": {},
		   "source": [
			"## Example 14.2: To_find_loss_in_the_fiber.sce"
		   ]
		  },
  {
"cell_type": "code",
	   "execution_count": null,
	   "metadata": {
	    "collapsed": true
	   },
	   "outputs": [],
"source": [
"// To find loss in the fiber\n",
"// Modern Electronic Instrumentation And Measurement Techniques\n",
"// By Albert D. Helfrick, William D. Cooper\n",
"// First Edition Second Impression, 2009\n",
"// Dorling Kindersly Pvt. Ltd. India\n",
"// Example 14-2 in Page 393\n",
"\n",
"\n",
"clear; clc; close;\n",
"\n",
"// Given data\n",
"NA_1 = 0.3; // numerical apertures of Source fiber\n",
"NA_2 = 0.242; //numerical apertures of receiving fiber\n",
"\n",
"//Calculations\n",
"loss = 20*log10(NA_1/NA_2);\n",
"printf('The energy that is lost through the cladding of the receiving fiber = %0.2f dB',loss);\n",
"\n",
"//Result\n",
"// The energy that is lost through the cladding of the receiving fiber = 1.87 dB "
   ]
   }
,
{
		   "cell_type": "markdown",
		   "metadata": {},
		   "source": [
			"## Example 14.3: To_find_current_developed_in_photodiode.sce"
		   ]
		  },
  {
"cell_type": "code",
	   "execution_count": null,
	   "metadata": {
	    "collapsed": true
	   },
	   "outputs": [],
"source": [
"// To find current developed in photodiode\n",
"// Modern Electronic Instrumentation And Measurement Techniques\n",
"// By Albert D. Helfrick, William D. Cooper\n",
"// First Edition Second Impression, 2009\n",
"// Dorling Kindersly Pvt. Ltd. India\n",
"// Example 14-3 in Page 395\n",
"\n",
"\n",
"clear; clc; close;\n",
"\n",
"// Given data\n",
"h = 6.63*10^-34; //Planck's constant\n",
"c = 3*10^8; //Speed of light in m/s\n",
"lambda = 1.3*10^-6; // photon wavelength in m\n",
"QE = 0.82; //Quantum efficiency\n",
"p = 75*10^-6; //Power in W\n",
"q = 1.6*10^-19; //Charge of an electron\n",
"\n",
"//Calculations\n",
"e = h*c/lambda;\n",
"N = p/e;\n",
"N_QE= QE*N;\n",
"I = N_QE*q;\n",
"printf('The current developed in a PIN photodiode = %0.2e A',I);\n",
"\n",
"//Result\n",
"// The current developed in a PIN photodiode = 6.43e-005 A \n",
"\n",
"\n",
""
   ]
   }
,
{
		   "cell_type": "markdown",
		   "metadata": {},
		   "source": [
			"## Example 14.4: To_find_elapsed_time.sce"
		   ]
		  },
  {
"cell_type": "code",
	   "execution_count": null,
	   "metadata": {
	    "collapsed": true
	   },
	   "outputs": [],
"source": [
"// To find elapsed time\n",
"// Modern Electronic Instrumentation And Measurement Techniques\n",
"// By Albert D. Helfrick, William D. Cooper\n",
"// First Edition Second Impression, 2009\n",
"// Dorling Kindersly Pvt. Ltd. India\n",
"// Example 14-4 in Page 401\n",
"\n",
"\n",
"clear; clc; close;\n",
"\n",
"// Given data\n",
"n = 1.55; //index of refraction \n",
"c = 3*10^8; //speed of light in m/s\n",
"d = 1.4*10^3; //Distance in m\n",
"\n",
"//Calculations\n",
"v = c/n;\n",
"t = d/v;\n",
"printf('t = %0.1e s',t);\n",
"disp('Since twice the time to reach the break is required for the reflection to arrive at the reflectometer,' )\n",
"printf('Hence the total elapsed time = %0.3e s',2*t);\n",
"\n",
"//Result\n",
"// t = 7.2e-006 s \n",
"// Since twice the time to reach the break is required for the reflection to arrive at the reflectometer,   \n",
"// Hence the total elapsed time = 1.447e-005 s "
   ]
   }
],
"metadata": {
		  "kernelspec": {
		   "display_name": "Scilab",
		   "language": "scilab",
		   "name": "scilab"
		  },
		  "language_info": {
		   "file_extension": ".sce",
		   "help_links": [
			{
			 "text": "MetaKernel Magics",
			 "url": "https://github.com/calysto/metakernel/blob/master/metakernel/magics/README.md"
			}
		   ],
		   "mimetype": "text/x-octave",
		   "name": "scilab",
		   "version": "0.7.1"
		  }
		 },
		 "nbformat": 4,
		 "nbformat_minor": 0
}
