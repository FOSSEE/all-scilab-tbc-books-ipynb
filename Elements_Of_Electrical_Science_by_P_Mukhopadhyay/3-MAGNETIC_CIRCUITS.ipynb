{
"cells": [
 {
		   "cell_type": "markdown",
	   "metadata": {},
	   "source": [
       "# Chapter 3: MAGNETIC CIRCUITS"
	   ]
	},
{
		   "cell_type": "markdown",
		   "metadata": {},
		   "source": [
			"## Example 3.1: ampere_turns.sce"
		   ]
		  },
  {
"cell_type": "code",
	   "execution_count": null,
	   "metadata": {
	    "collapsed": true
	   },
	   "outputs": [],
"source": [
"// Example 3.1;amper-turns\n",
"clc;\n",
"close;\n",
"clear;\n",
"// given :\n",
"format('v',7)\n",
"bt=[2;2.5;3.0];//making equations from Table\n",
"H=[400 ;600;800];//making equations from Tble\n",
"fsl=10^-3;//Flux in Wb\n",
"cal=4*10^-4;//area in m^2\n",
"fdl=fsl/cal;//magnetic field in Tesla\n",
"hl=H(2);//AT/m \n",
"pll=0.57;//lenth in meter (path length 2345)\n",
"at2345=pll*hl;//ampere turns\n",
"fcl=2*10^-3;//magnetic field in Wb\n",
"fdcl=fcl/cal;//in Tesla\n",
"hcl=H(1);//in AT/m\n",
"lcl=169;//length in mm\n",
"atcl=(lcl*10^-3)*hcl;//ampere turns\n",
"l=1;//length mm\n",
"Hl=((4*%pi))*10^-7;//AT/m\n",
"atrg=fcl/Hl;//AT\n",
"tat=at2345+atcl+atrg;//total ampere turns\n",
"disp(tat,'total ampere-turns required is, (AT)=')"
   ]
   }
,
{
		   "cell_type": "markdown",
		   "metadata": {},
		   "source": [
			"## Example 3.2: kb_and_ke_and_hysteresis_and_eddy_current_loss.sce"
		   ]
		  },
  {
"cell_type": "code",
	   "execution_count": null,
	   "metadata": {
	    "collapsed": true
	   },
	   "outputs": [],
"source": [
"// Example 3.2;Kb , Ke and hystresis and eddy current loss\n",
"clc;\n",
"close;\n",
"clear;\n",
"// given :\n",
"format('v',7)\n",
"f1=50;//frequency in Hz\n",
"f2=25;//frequency in Hz\n",
"p1=30.1;//power in W\n",
"p2=12.4;//power in W\n",
"A=[f1 f1^2;f2 f2^2];//making equations\n",
"B=[p1;p2];////making equations\n",
"X=A\B;//calculating parameters\n",
"disp('part (a) Kb and Ke')\n",
"disp(X(1,1),'Kh is')\n",
"disp(X(2,1),'Ke is')\n",
"h25=X(1,1)*f2;//calculating parameters\n",
"e25=X(2,1)*f2^2;//calculating parameters\n",
"h50=X(1,1)*f1;//calculating parameters\n",
"e50=X(2,1)*f1^2;//calculating parameters\n",
"disp('part (b) hystresis and eddy current loss ')\n",
"disp(h25,'hysteresis loss at 25 Hz is , (W)=')\n",
"disp(e25,'eddy current loss at 25 Hz is ,(W)=')\n",
"disp(h50,'hysteresis loss at 50 Hz is ,(W)=')\n",
"disp(e50,'eddy current loss at 50 Hz is ,(W)=')\n",
"W=40;//kg\n",
"h50=X(1,1)*f1;//calculating parameters\n",
"e50=X(2,1)*f1^2;//calculating parameters\n",
"disp('part (c) hystresis and eddy current loss ')\n",
"disp(h50/W,'hysteresis loss per kg at 50 Hz is ,(W)=')\n",
"disp(e50/W,'eddy current loss per kg at 50 Hz is ,(W)=')"
   ]
   }
,
{
		   "cell_type": "markdown",
		   "metadata": {},
		   "source": [
			"## Example 3.3: hysteresis_loss.sce"
		   ]
		  },
  {
"cell_type": "code",
	   "execution_count": null,
	   "metadata": {
	    "collapsed": true
	   },
	   "outputs": [],
"source": [
"// Example 3.3;hystresis  loss per Kg\n",
"clc;\n",
"close;\n",
"clear;\n",
"// given :\n",
"format('v',7)\n",
"l=10;//lengh in mm\n",
"atm=200;//AT/m\n",
"a=4800;//area in m^2\n",
"loss=atm*(l*10^-2)*(a/100);//loss in J/m^3/cycle\n",
"d=7.8*10^3;//kg/m^3\n",
"vikg=1/d;//m^3\n",
"loss1=loss*vikg;//J/cycle\n",
"f=50;//Hz\n",
"tl=loss1*f;//J/s\n",
"disp(tl,'hystersis loss is ,(W/kg)=')"
   ]
   }
,
{
		   "cell_type": "markdown",
		   "metadata": {},
		   "source": [
			"## Example 3.4: ampere_turns.sce"
		   ]
		  },
  {
"cell_type": "code",
	   "execution_count": null,
	   "metadata": {
	    "collapsed": true
	   },
	   "outputs": [],
"source": [
"// Example 3.4;amper-turns\n",
"clc;\n",
"close;\n",
"clear;\n",
"// given :\n",
"format('v',7)\n",
"r=150;//length in mm\n",
"t=12;//torque in N-m\n",
"f=t/(r*10^-3);//force in N\n",
"np=2;//no. of poles\n",
"fp=f/np;//force per pole in N\n",
"A=400;//area mm^2\n",
"mu=4*%pi*10^-7;//\n",
"b=sqrt((fp*2*mu)/(A*10^-6));//magnetic field in Tesla\n",
"H=b/mu;//in AT/m\n",
"tar=2*0.6*10^-3;//length in meter\n",
"atr=H*tar;//AT\n",
"disp(atr,'ampere turn required is, (AT)=')\n",
"//answer is wrong in the textbook"
   ]
   }
],
"metadata": {
		  "kernelspec": {
		   "display_name": "Scilab",
		   "language": "scilab",
		   "name": "scilab"
		  },
		  "language_info": {
		   "file_extension": ".sce",
		   "help_links": [
			{
			 "text": "MetaKernel Magics",
			 "url": "https://github.com/calysto/metakernel/blob/master/metakernel/magics/README.md"
			}
		   ],
		   "mimetype": "text/x-octave",
		   "name": "scilab",
		   "version": "0.7.1"
		  }
		 },
		 "nbformat": 4,
		 "nbformat_minor": 0
}
