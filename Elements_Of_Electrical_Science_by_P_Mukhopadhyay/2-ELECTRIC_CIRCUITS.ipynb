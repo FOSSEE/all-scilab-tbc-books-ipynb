{
"cells": [
 {
		   "cell_type": "markdown",
	   "metadata": {},
	   "source": [
       "# Chapter 2: ELECTRIC CIRCUITS"
	   ]
	},
{
		   "cell_type": "markdown",
		   "metadata": {},
		   "source": [
			"## Example 2.10: current.sce"
		   ]
		  },
  {
"cell_type": "code",
	   "execution_count": null,
	   "metadata": {
	    "collapsed": true
	   },
	   "outputs": [],
"source": [
"// Example 2.10 :current equation\n",
"clc;\n",
"close;\n",
"clear;\n",
"// given :\n",
"format('v',5)\n",
"v=100;//volts\n",
"r=50;//in ohms\n",
"l=0.1;//henry\n",
"c=50;//mf\n",
"d=poly(0,'d')\n",
"p=2*10^5+500*d+d^2;\n",
"x=roots(p)\n",
"c1=0;//at t=0 i=0\n",
"c2=1000/imag(x(1,1));//\n",
"disp('it= '+string(c2)+'*e^'+string(real(x(1,1)))+'t*sin'+string(imag(x(1,1)))+'t A')"
   ]
   }
,
{
		   "cell_type": "markdown",
		   "metadata": {},
		   "source": [
			"## Example 2.11: average_and_rms_value_of_current.sce"
		   ]
		  },
  {
"cell_type": "code",
	   "execution_count": null,
	   "metadata": {
	    "collapsed": true
	   },
	   "outputs": [],
"source": [
"// Example 2.11 :average & rms value\n",
"clc;\n",
"close;\n",
"format('v',6)\n",
"clear;\n",
"// given :\n",
"vm=10;//voltage in volts\n",
"e=vm/2;//voltage in volts\n",
"t=0:2;//time range\n",
"x=intsplin(t,(5*t)^2);//variab;e\n",
"rms=sqrt(x/2);//rms value of voltage in volts\n",
"av=vm/2;//average value of voltage in volts\n",
"disp('parts (a) saw tooth wave')\n",
"disp(rms,'rms value of e is ,(V)=')\n",
"disp(av,'average value of e is ,(V)=')\n",
"t1=0;//initial time in seconds\n",
"t2=%pi;//final time in seconds\n",
"t3=2*%pi;//time interval\n",
"x=integrate('(sin(t))^2','t',t1,t2);//variable\n",
"rms=sqrt((1/(2*%pi))*x*vm^2);//rms value of voltage in volts\n",
"av=(10/(2*%pi))*integrate('sin(t)','t',t1,t2);//average value of voltage in volts\n",
"disp('parts (b) half wave rectified sine wave form')\n",
"disp(rms,'rms value of e is ,(V)=')\n",
"disp(av,'average value of e is ,(V)=')"
   ]
   }
,
{
		   "cell_type": "markdown",
		   "metadata": {},
		   "source": [
			"## Example 2.12: circuit_elements.sce"
		   ]
		  },
  {
"cell_type": "code",
	   "execution_count": null,
	   "metadata": {
	    "collapsed": true
	   },
	   "outputs": [],
"source": [
"// Example 2.12 :Circuit constants\n",
"clc;\n",
"close;\n",
"format('v',6)\n",
"clear;\n",
"// given :\n",
"//v=194*cos(800*t+150)V Voltage equation\n",
"//I=11.6*cos(800*t+140)A Current equation\n",
"vm=194/sqrt(2);//voltage in volts\n",
"va=150;//angle in degree\n",
"im=11.6/sqrt(2);//current in amperes\n",
"ia=140;//angle in degree\n",
"zm=vm/im;//resistance in ohms\n",
"za=va-ia;//resistance in ohms\n",
"z1=zm*cosd(za);//reactance in ohms\n",
"z2=zm*sind(za);//reactance in ohms\n",
"z=z1+%i*z2;//resistance in ohms\n",
"disp('part (a)')\n",
"disp(z,'Impedance is ,(Ohm)=')\n",
"disp('part (b)')\n",
"//v=6*sin(1000*t+45)V  Voltage equation\n",
"//I=12*cos(1000t-90)A current equation\n",
"vm1=60/sqrt(2);//voltage in volts\n",
"va1=45;//angle in degree\n",
"im1=12/sqrt(2);//current in amperes\n",
"ia1=0;//angle in degree\n",
"zm1=vm1/im1;//resistance in ohms\n",
"za1=va1-ia1;//resistance in ohms\n",
"z11=zm1*cosd(za1);//reactance in ohms\n",
"z21=zm1*sind(za1);//reactance in ohms\n",
"z22=z11+%i*z21;//impedance in ohms\n",
"disp(z22,'Impedance is ,(Ohm)=')"
   ]
   }
,
{
		   "cell_type": "markdown",
		   "metadata": {},
		   "source": [
			"## Example 2.13: voltmeter_reading.sce"
		   ]
		  },
  {
"cell_type": "code",
	   "execution_count": null,
	   "metadata": {
	    "collapsed": true
	   },
	   "outputs": [],
"source": [
"// Example 2.13 :reading\n",
"clc;\n",
"close;\n",
"format('v',8)\n",
"clear;\n",
"// given :\n",
"v1=230;//voltage in volts\n",
"v2=100;//voltage in volts\n",
"v2=sqrt(v1^2-v2^2);//voltage in volts\n",
"v3=300;//voltage in volts\n",
"disp(v2,'reading V2 is,(V)')\n",
"disp('reading V4 is '+string(v3+v2)+' V or '+string(v3-v2)+' V')"
   ]
   }
,
{
		   "cell_type": "markdown",
		   "metadata": {},
		   "source": [
			"## Example 2.14: circuit_elements.sce"
		   ]
		  },
  {
"cell_type": "code",
	   "execution_count": null,
	   "metadata": {
	    "collapsed": true
	   },
	   "outputs": [],
"source": [
"// Example 2.14 :circuit elements\n",
"clc;\n",
"close;\n",
"format('v',6)\n",
"// given :\n",
"//v=311*sin(2500*t+170) V voltage equation\n",
"//I=15.5*sin(2500*t-145)A current equation\n",
"vm=311/sqrt(2);//voltage in volts\n",
"va=170;//angle in degree\n",
"im=15.5/sqrt(2);//current in amperes\n",
"ia=-145;//angle in degree\n",
"zm=vm/im;//resistance in ohms\n",
"za=(va-ia)-360;//resistance ohms\n",
"z1=zm*cosd(za);//resistance in ohms\n",
"z2=zm*sind(za);//resistance in ohms\n",
"z=z1+%i*z2;//resistance in ohms\n",
"t=2500;//time in seconds\n",
"c=(1/(real(z)*t));//capacitance in farads\n",
"disp(z,'Impedance is ,(Ohm)=')\n",
"disp(c*10^6,'capacitance is ,(micro-farads)=')"
   ]
   }
,
{
		   "cell_type": "markdown",
		   "metadata": {},
		   "source": [
			"## Example 2.15: circuit_constants.sce"
		   ]
		  },
  {
"cell_type": "code",
	   "execution_count": null,
	   "metadata": {
	    "collapsed": true
	   },
	   "outputs": [],
"source": [
"// Example 2.15 :parameters\n",
"clc;\n",
"close;\n",
"format('v',6)\n",
"// given :\n",
"z=40+%i*30;//resistance in ohms\n",
"zph=sqrt(real(z)^2+imag(z)^2);//resistance in ohms\n",
"pf=real(z)/zph;//power factor\n",
"v=400;//voltage in volts\n",
"vp=v/(sqrt(3));//voltage in volts\n",
"pc=vp/zph;//current in amperes\n",
"lv=v;//voltage in volts\n",
"lc=pc;//current om amperes\n",
"p=sqrt(3)*v*lc*pf;//power in watts\n",
"disp('part (a) Star')\n",
"disp(round(vp),'phase voltage,(V)=')\n",
"disp(round(pc),'phase current,(A)=')\n",
"disp(lv,'line voltage ,(V)=')\n",
"disp(lc,'line current,(A)=')\n",
"disp(p,'power ,(W)=')\n",
"z1=40+%i*30;//ohms\n",
"zph1=sqrt(real(z1)^2+imag(z1)^2);//ohms\n",
"pf1=real(z1)/zph1;//power factor\n",
"v1=400;//volts\n",
"vp1=v1;//volts\n",
"pc1=vp1/zph1;//amperes\n",
"lv1=v1;//volts\n",
"lc1=pc1*sqrt(3);//amperes\n",
"p1=sqrt(3)*v1*lc1*pf1;//watts\n",
"disp('part (b) Delta')\n",
"disp(round(vp1),'phase voltage,(V)=')\n",
"disp(round(pc1),'phase current,(A)=')\n",
"disp(lv1,'line voltage ,(V)=')\n",
"disp(lc1,'line current,(A)=')\n",
"disp(p1,'power ,(W)=')"
   ]
   }
,
{
		   "cell_type": "markdown",
		   "metadata": {},
		   "source": [
			"## Example 2.1: current.sce"
		   ]
		  },
  {
"cell_type": "code",
	   "execution_count": null,
	   "metadata": {
	    "collapsed": true
	   },
	   "outputs": [],
"source": [
"// Example 2.1 :current\n",
"clc;\n",
"close;\n",
"clear;\n",
"format('v',7)\n",
"// given :\n",
"//15*I1-5*I2=10 loop 1 equation\n",
"//20*I2-5*I1-5*I3=0 loop 2 equation\n",
"//10*I3-5*I2=0 loop 3 equation\n",
"vs=10;//voltage in volts\n",
"R1=10;//resistance in ohm\n",
"R2=5;//resistance in ohm\n",
"R3=10;//resistance in ohm\n",
"R4=5;//resistance in ohm\n",
"R5=4;//resistance in ohm\n",
"Ra=1;//resistance in ohm\n",
"A=[R1+R2 R2-R1 0;R2-R1 R2+R3+R4 -R4;R4-(R5+Ra) -R4 R4+R5+Ra];//making equations\n",
"nb=7;//number of branches\n",
"nn=5;//number of nodes\n",
"nl=nb-(nn-1);//number of loops\n",
"nvs=1;//number of voltage sources\n",
"nivs=nn-1-nvs;//number of independent voltage variables\n",
"B=[vs;0;0];//making equations\n",
"X=A\B;//solving equations\n",
"I3=X(3,1);//calculating currrent\n",
"disp(I3,'current in resistance Ra=1.0 ohm is ,(A)=')\n",
"//directions of the current are 2 to 3 and 3 to 4 respectively"
   ]
   }
,
{
		   "cell_type": "markdown",
		   "metadata": {},
		   "source": [
			"## Example 2.2: current.sce"
		   ]
		  },
  {
"cell_type": "code",
	   "execution_count": null,
	   "metadata": {
	    "collapsed": true
	   },
	   "outputs": [],
"source": [
"// Example 2.2 :current\n",
"clc;\n",
"close;\n",
"clear;\n",
"// given :\n",
"vs1=72;//voltage in volts\n",
"vs2=40;//voltage in volts\n",
"R1=36;//resistance in ohm\n",
"R2=10;//resistance in ohm\n",
"ig=2;//current in amperes\n",
"Rx=8;//resistance in ohm\n",
"//(va-72)/36+(va-40)/10 -2 +va/8=0 node equation at 1\n",
"va=((R2*Rx*vs1)+(R1*Rx*vs2)+(R1*R2*Rx*ig))/((R2*Rx)+(R1*Rx)+(R1*R2));//voltage in volts\n",
"ix1=va/Rx;//current in amperes\n",
"//(R1+R2)*I1-R2*I2+vs2=vs1 loop equation 1\n",
"//R2*I2-R2*I1+Ix*Rx=vs2 loop equation 2\n",
"//Ix=I2+2\n",
"A=[R1+R2 -R2;-R2 R2+Rx];//making equations\n",
"B=[vs1-vs2;vs2-2*Rx];//making equations\n",
"X=A\B;//solving equations\n",
"ix2=X(2,1)+ig;//current in amperes\n",
"disp(ix1,'current through Rx is(by node voltage method), (A)=')\n",
"disp(ix2,'current through Rx is (by loop current method),(A) =')"
   ]
   }
,
{
		   "cell_type": "markdown",
		   "metadata": {},
		   "source": [
			"## Example 2.3: current.sce"
		   ]
		  },
  {
"cell_type": "code",
	   "execution_count": null,
	   "metadata": {
	    "collapsed": true
	   },
	   "outputs": [],
"source": [
"// Example 2.3 :current\n",
"clc;\n",
"close;\n",
"clear;\n",
"format('v',7)\n",
"// given :\n",
"vs1=10;//voltage in volts\n",
"i5=2;//current in amperes\n",
"i2=i5;//current\n",
"r1=1;//resistance in ohms\n",
"r2=5;//resistance in ohms\n",
"r3=5;//resistance in ohms\n",
"rl=10;//resistance in ohms\n",
"r4=5;//resistance ohms\n",
"//(r1+r2+r3)*i1-r2*i2-r3*i3=vs1 loop equaion 1\n",
"//-r2*i1-(r1+r2)*i2+(rl+r2+r3)*i3=0 loop equation 2\n",
"A=[4*(r1+r2+r3) -r2*4;-r2 (rl+r2+r3)];//making equations\n",
"B=[4*(vs1+r2*i2) ; i2*(r2+r3)];//making equations\n",
"X=A\B;//solving equations\n",
"il=i2-X(2,1);//calculating current\n",
"disp(il,'current through Rl is (from b to a),(A)=')"
   ]
   }
,
{
		   "cell_type": "markdown",
		   "metadata": {},
		   "source": [
			"## Example 2.4: current.sce"
		   ]
		  },
  {
"cell_type": "code",
	   "execution_count": null,
	   "metadata": {
	    "collapsed": true
	   },
	   "outputs": [],
"source": [
"// Example 2.4 :current\n",
"clc;\n",
"close;\n",
"clear;\n",
"format('v',7)\n",
"// given :\n",
"vs1=72;//voltage in volts\n",
"vs2=40;//voltage in volts\n",
"R1=36;//resistance in ohms\n",
"R2=10;//resistance in ohms\n",
"ig=2;//current in amperes\n",
"Rx=8;//resistance in ohms\n",
"disp('Applying Thevenins Theorem ')\n",
"//(vs1-voc)/R1+(v40-voc)/R2 +2 =0 node equation at 1\n",
"voc=(R2*vs1+R1*vs2+R1*R2*ig)/(R1+R2);//voltage in volts\n",
"req=(R1*R2)/(R1+R2);//resistance in ohms\n",
"ix1=(voc)/(req+Rx);//resistance in ohms\n",
"disp(ix1,'current through Rx is, (A)')\n",
"disp('Applying Nortons Theorem ')\n",
"Is=(vs1/R1)+(vs2/R2)+ig;//current in amperes\n",
"ix2=(req*(Is/(Rx+req)));//current in amperes\n",
"disp(ix2,'current through Rx is, (A) =')"
   ]
   }
,
{
		   "cell_type": "markdown",
		   "metadata": {},
		   "source": [
			"## Example 2.5: Norton_and_Thevenine_Euivalent_Components.sce"
		   ]
		  },
  {
"cell_type": "code",
	   "execution_count": null,
	   "metadata": {
	    "collapsed": true
	   },
	   "outputs": [],
"source": [
"// Example 2.5 :Thevenin's and Norton's Equivalent\n",
"clc;\n",
"close;\n",
"format('v',7)\n",
"clear;\n",
"// given :\n",
"vs1=10;//voltage in volts\n",
"R1=50;//resistance in ohms\n",
"R2=50;//resistance in ohms\n",
"R3=25;//resistance in ohms\n",
"disp('(a) Applying Thevenins Theorem ')\n",
"voc=(R1/(R1+R2))*vs1;//voltage in volts\n",
"req=((R1*R2)/(R1+R2))+R3;//resistance in ohms\n",
"disp(voc,'Thevenin equivalent open circuit voltage is, (V)=')\n",
"disp(t=req,'Thevenin equivalent resistance is,(Ohm)=')\n",
"disp('(b) Applying Nortons Theorem ')\n",
"Isc=((vs1)/(R1+(R1*R3)/(R1+R3)))*(R1/(R1+R3));//\n",
"req=((R1*R2)/(R1+R2))+R3;//resistance in ohms\n",
"disp(Isc,'Norton short circuit current is,(A)=')\n",
"disp(t=req,'Norton equivalent resistance is,(Ohm)=')"
   ]
   }
,
{
		   "cell_type": "markdown",
		   "metadata": {},
		   "source": [
			"## Example 2.6: current.sce"
		   ]
		  },
  {
"cell_type": "code",
	   "execution_count": null,
	   "metadata": {
	    "collapsed": true
	   },
	   "outputs": [],
"source": [
"// Example 2.6 :current\n",
"clc;\n",
"close;\n",
"format('v',7)\n",
"clear;\n",
"// given :\n",
"vs1=10;//voltage volts\n",
"r1=100;//resistance in ohms\n",
"r2=600;//resistance in ohms\n",
"r3=150;//resistance in ohms\n",
"r4=850;//resistance in ohms\n",
"rx=50;//resistance in ohms\n",
"voc=vs1*((r3/(r1+r3))-(r4/(r2+r4)));//open circuit voltage in volts\n",
"req=((r1*r3)/(r1+r3))+((r2*r4)/(r2+r4));//equivalent resistance in ohms\n",
"ix=voc/(req+rx)*10^3;//current in amperes\n",
"disp(ix,'current through Rx is (from A to B),(mA)=')"
   ]
   }
,
{
		   "cell_type": "markdown",
		   "metadata": {},
		   "source": [
			"## Example 2.7: Nortoan_Euivalent_Components.sce"
		   ]
		  },
  {
"cell_type": "code",
	   "execution_count": null,
	   "metadata": {
	    "collapsed": true
	   },
	   "outputs": [],
"source": [
"// Example 2.7 :Norton's Equivalent\n",
"clc;\n",
"close;\n",
"clear;\n",
"// given :\n",
"vs1=40;//volts\n",
"vs2=20;//volts\n",
"r1=2;//resistance in ohms\n",
"r2=6;//resistance in ohms\n",
"r3=2;//resistance in ohms\n",
"r4=2;//resistance in ohms\n",
"iab=((r1*vs1)/(r2+(r1/2))*((r1+(r3/2))/(r1+r3)));//current in amperes\n",
"iab1=-vs2/r1;//current amperes\n",
"it=iab+iab1;//current amperes\n",
"req1=r1+((r1*r2)/(r1+r2));//equivalent resistance in ohms\n",
"req=(req1*r3)/(req1+r3);//equivalent resistance in ohms\n",
"disp(it,'current is,(A)')\n",
"disp(req,'equivalent resistance is,(ohm)=')"
   ]
   }
,
{
		   "cell_type": "markdown",
		   "metadata": {},
		   "source": [
			"## Example 2.8: current_equation_and_time.sce"
		   ]
		  },
  {
"cell_type": "code",
	   "execution_count": null,
	   "metadata": {
	    "collapsed": true
	   },
	   "outputs": [],
"source": [
"// Example 2.8:equation of current and time\n",
"clc;\n",
"close;\n",
"clear;\n",
"format('v',6)\n",
"// given :\n",
"v=100;//voltage in volts\n",
"r=100;//resistance in ohms\n",
"l=0.2;//inductance in henrty\n",
"T=1/(l/r);//calculating time in seconds\n",
"t=500;//time in micro seconds\n",
"i1=1-exp(-T*t*10^-6);//current in amperes\n",
"disp(i1,'current is (when t=500 micro seconds),(A)=')\n",
"v2=50;//voltage in volts\n",
"x=v2/r;//variab;e\n",
"x1=x*((v2/r)+i1);//variable \n",
"t1=t+(10^6*(x1/500));//time in seconds\n",
"disp(ceil(t1),'time at which current will be zero is,(micro-seconds)=')\n",
"//time is caluclated wrong in the textbook as they had not added the values"
   ]
   }
,
{
		   "cell_type": "markdown",
		   "metadata": {},
		   "source": [
			"## Example 2.9: time.sce"
		   ]
		  },
  {
"cell_type": "code",
	   "execution_count": null,
	   "metadata": {
	    "collapsed": true
	   },
	   "outputs": [],
"source": [
"// Example 2.9 :time\n",
"clc;\n",
"close;\n",
"format('v',6)\n",
"clear;\n",
"// given :\n",
"v=10;//voltage in volts\n",
"r1=500;//resistance in ohms\n",
"is=0;//current in amperes\n",
"r=700;//resistance in ohms\n",
"c=100;//capacitance in micro farads\n",
"x=1/(r*c*10^-6);//variable\n",
"i=30;//current in mA\n",
"y=(i*10^-3)-(v/r1);//variable\n",
"t=-((log(y*(r/v))));//time in seconds\n",
"t1=t/x;//time in seconds\n",
"disp(t1,'time is ,(seconds)=')"
   ]
   }
],
"metadata": {
		  "kernelspec": {
		   "display_name": "Scilab",
		   "language": "scilab",
		   "name": "scilab"
		  },
		  "language_info": {
		   "file_extension": ".sce",
		   "help_links": [
			{
			 "text": "MetaKernel Magics",
			 "url": "https://github.com/calysto/metakernel/blob/master/metakernel/magics/README.md"
			}
		   ],
		   "mimetype": "text/x-octave",
		   "name": "scilab",
		   "version": "0.7.1"
		  }
		 },
		 "nbformat": 4,
		 "nbformat_minor": 0
}
