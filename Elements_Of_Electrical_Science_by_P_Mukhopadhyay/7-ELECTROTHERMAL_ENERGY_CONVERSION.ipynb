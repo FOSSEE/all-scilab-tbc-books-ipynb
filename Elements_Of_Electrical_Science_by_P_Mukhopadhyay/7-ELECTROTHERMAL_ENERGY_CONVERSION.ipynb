{
"cells": [
 {
		   "cell_type": "markdown",
	   "metadata": {},
	   "source": [
       "# Chapter 7: ELECTROTHERMAL ENERGY CONVERSION"
	   ]
	},
{
		   "cell_type": "markdown",
		   "metadata": {},
		   "source": [
			"## Example 7.1: length_and_width.sce"
		   ]
		  },
  {
"cell_type": "code",
	   "execution_count": null,
	   "metadata": {
	    "collapsed": true
	   },
	   "outputs": [],
"source": [
"//Example  7.1// width and length\n",
"clc;\n",
"clear;\n",
"close;\n",
"format('v',6)\n",
"vph=400;//phase voltage in volts\n",
"n=3;//number of phase\n",
"kw=36;//power in kW\n",
"r=((vph^2)/(n*((kw*10^3)/n)));//resistance in ohms\n",
"p=1.016*10^-6;//resitivity\n",
"t=0.3;//thickness in mm\n",
"x=(((r*t*10^-3)/(p)));//variable\n",
"t1=1000;//initial temperature in degree celsius\n",
"t1k=273+t1;//initial temperature in kelvin\n",
"t2=650;//final temperature in degree celsius\n",
"t2k=273+t2;//final temperature in kelvin\n",
"h=((3*10^4)*((t1k/1000)^4-(t2k/1000)^4));//W/m^2\n",
"y=((kw*10^3)/(3*2*h));//variable\n",
"l=sqrt(x*y);//length in meter\n",
"w=y/l;//width in meter\n",
"disp(l,'length is,(m)=')\n",
"disp(w*10^3,'width is,(mm)=')"
   ]
   }
,
{
		   "cell_type": "markdown",
		   "metadata": {},
		   "source": [
			"## Example 7.2: power_required.sce"
		   ]
		  },
  {
"cell_type": "code",
	   "execution_count": null,
	   "metadata": {
	    "collapsed": true
	   },
	   "outputs": [],
"source": [
"//Example  7.2// power required\n",
"clc;\n",
"clear;\n",
"close;\n",
"format('v',6)\n",
"l=0.2;//length in meter\n",
"w=0.1;//width in meter\n",
"th=25;//thickness in mm\n",
"vw=l*w*th*10^-3;//volume in m^3\n",
"ww=600;//weight of wood in kg/m^3\n",
"ww1=vw*ww;//weight of wood kg\n",
"shw=1500;//specific heat of wood in J/kg/degree celsius\n",
"t=200;//temperature in degree celsius\n",
"rg=t*shw*ww1;//energy in joules\n",
"h=(rg/(3.6*10^3));//Wh\n",
"t=15;//time in minutes\n",
"pr=h*(60/t);//power required in Watt\n",
"disp(pr,'power required is,(W)=')"
   ]
   }
,
{
		   "cell_type": "markdown",
		   "metadata": {},
		   "source": [
			"## Example 7.3: voltage_and_current.sce"
		   ]
		  },
  {
"cell_type": "code",
	   "execution_count": null,
	   "metadata": {
	    "collapsed": true
	   },
	   "outputs": [],
"source": [
"//Example  7.3// voltage and current\n",
"clc;\n",
"clear;\n",
"close;\n",
"l=0.2;//length meter\n",
"w=0.1;//width in meter\n",
"th=25;//thickness in mm\n",
"vw=l*w*th*10^-3;//volume of wood in m^3\n",
"ww=600;//weight of wood in kg/m^3\n",
"ww1=vw*ww;//weight of wood kg\n",
"shw=1500;//specific heat of wood  in J/kg/degree celsius\n",
"t=200;//temperature in degree celsius\n",
"rg=t*shw*ww1;//energy in joules\n",
"h=(rg/(3.6*10^3));//Wh\n",
"t=15;//time in minutes\n",
"pr=h*(60/t);//power required in Watt\n",
"eo=8.854*10^-12;//permittivity constant\n",
"er=5;//permittivity of wood\n",
"c=((eo*er*l*w)/(th*10^-3));//capacitance in Farads\n",
"f=50;//frequency in MHz\n",
"pf=0.5;//power factor \n",
"ph=acosd(pf);//phase angle degree\n",
"v=sqrt((pr)/(c*2*%pi*f*10^6*0.05));//voltage in volts\n",
"disp(round(v),'voltage is ,(V)=')\n",
"ic=v*2*%pi*f*10^6*c;//current in amperes\n",
"disp(ic,'current is,(A)=')"
   ]
   }
],
"metadata": {
		  "kernelspec": {
		   "display_name": "Scilab",
		   "language": "scilab",
		   "name": "scilab"
		  },
		  "language_info": {
		   "file_extension": ".sce",
		   "help_links": [
			{
			 "text": "MetaKernel Magics",
			 "url": "https://github.com/calysto/metakernel/blob/master/metakernel/magics/README.md"
			}
		   ],
		   "mimetype": "text/x-octave",
		   "name": "scilab",
		   "version": "0.7.1"
		  }
		 },
		 "nbformat": 4,
		 "nbformat_minor": 0
}
