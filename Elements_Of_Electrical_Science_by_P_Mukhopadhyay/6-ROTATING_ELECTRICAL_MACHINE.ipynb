{
"cells": [
 {
		   "cell_type": "markdown",
	   "metadata": {},
	   "source": [
       "# Chapter 6: ROTATING ELECTRICAL MACHINE"
	   ]
	},
{
		   "cell_type": "markdown",
		   "metadata": {},
		   "source": [
			"## Example 6.10: speed_and_frequency.sce"
		   ]
		  },
  {
"cell_type": "code",
	   "execution_count": null,
	   "metadata": {
	    "collapsed": true
	   },
	   "outputs": [],
"source": [
"//Example 6.10// Speed ,motor speed,and frequency \n",
"clc;\n",
"clear;\n",
"close;\n",
"format ('v',8)\n",
"//given data :\n",
"disp('part (a)')\n",
"f=50;//frquency  in Hz\n",
"P=4;// number of pole\n",
"Ns=(120*f)/P;//speed in rom\n",
"disp(Ns,' The speed of rotating magnetic field,(rpm) = ')\n",
"disp('part (b)')\n",
"S=0.035;// slip\n",
"N=Ns*(1-S);//motor speed in rpm\n",
"disp(N,'Motor speed,(rpm) = ')\n",
"disp('part (c)')\n",
"S=0.04;// slip\n",
"F=S*f;//frequency in Hz\n",
"disp('Frequency '+string (F)+' Hz or '+string(120)+' rpm ')\n",
"disp('part (d)')\n",
"f=50;// in Hz\n",
"F=f;//frequency in Hz\n",
"disp(F,'Frequency of rotor current,(Hz) = ')"
   ]
   }
,
{
		   "cell_type": "markdown",
		   "metadata": {},
		   "source": [
			"## Example 6.11: current_per_phase_and_power_factor.sce"
		   ]
		  },
  {
"cell_type": "code",
	   "execution_count": null,
	   "metadata": {
	    "collapsed": true
	   },
	   "outputs": [],
"source": [
"//Example 6.11// current per phase and power factor\n",
"clc;\n",
"clear;\n",
"close;\n",
"format('v',6)\n",
"v1=100;//emf in volts\n",
"vi=v1/sqrt(3);//induced emf in volts\n",
"r1=1;//rotor resistance ohms per phase\n",
"r2=4;//rotor reactance ohms per phase\n",
"r=sqrt(r1^2+r2^2);//rotor impedence per phase\n",
"rcp=(vi/r);//rotor current per phase\n",
"pf=(1/r);//power factor\n",
"disp('part (a)')\n",
"disp(rcp,'rotor current per phase is,(A)=')\n",
"disp(pf,'power factor is,=')\n",
"r3=3;//ohms\n",
"r4=r1+r3;//rotor resistance ohms per phase\n",
"r2=4;//rotor reactance ohms per phase\n",
"r=sqrt(r4^2+r2^2);//rotor impedence per phase\n",
"rcp=(vi/r);//rotor current per phase\n",
"pf=(r4/r);//power factor\n",
"disp('part (b)')\n",
"disp(rcp,'rotor current per phase is,(A)=')\n",
"disp(pf,'power factor is,=')"
   ]
   }
,
{
		   "cell_type": "markdown",
		   "metadata": {},
		   "source": [
			"## Example 6.12: emf.sce"
		   ]
		  },
  {
"cell_type": "code",
	   "execution_count": null,
	   "metadata": {
	    "collapsed": true
	   },
	   "outputs": [],
"source": [
"//Example 6.12// emf\n",
"clc;\n",
"clear;\n",
"close;\n",
"format('v',7)\n",
"disp('part (a) generator ')\n",
"kva=4;//kVA\n",
"v=110;//volts\n",
"re=3;//syncronous reacrance in ohms\n",
"ip=((kva*10^3)/(sqrt(3)*v));//phase current in Amperes\n",
"ep=v/(sqrt(3));//phase voltage in volts\n",
"e1=ep+%i*(ip*3);//line voltage in volts\n",
"e11=sqrt((real(e1)^2)+imag(e1)^2);//line voltage per phase in volts\n",
"pf=0.8;//power factor\n",
"e12=(sqrt((real(e1)*pf)^2+(((imag(e1)*sqrt(1-pf^2))+imag(e1)))^2));//\n",
"e13=(sqrt((real(e1)*pf)^2+(((imag(e1)*sqrt(1-pf^2))-imag(e1)))^2));//\n",
"disp(e11,'emf  when the armature current is full load unit pf is,(V)=')\n",
"disp(e12,'emf  when the armature current is full load 0.8 pf (lag) is,(V)=')\n",
"disp(e13,'emf  when the armature current is full load 0.8 pf (lead) is,(V)=')\n",
"disp('part (b) motor')\n",
"kva=4;//kVa\n",
"v=110;//volts\n",
"re=3;//syncronous reacrance in ohms\n",
"ip=((kva*10^3)/(sqrt(3)*v));//phase current in Amperes\n",
"ep=v/(sqrt(3));//phase voltage in volts\n",
"e1=ep-%i*(ip*3);//line voltage in volts\n",
"e11=sqrt((real(e1)^2)+imag(e1)^2);//line voltage per phase in volts\n",
"pf=0.8;//power factor\n",
"e12=(sqrt((real(e1)*pf)^2+(((imag(e1)*sqrt(1-pf^2))-imag(e1)))^2));//\n",
"e13=(sqrt((real(e1)*pf)^2+(((imag(e1)*sqrt(1-pf^2))+imag(e1)))^2));//\n",
"disp(e11,'emf  when the armature current is full load unit pf is,(V)=')\n",
"disp(e12,'emf  when the armature current is full load 0.8 pf (lag) is,(V)=')\n",
"disp(e13,'emf  when the armature current is full load 0.8 pf (lead) is,(V)=')"
   ]
   }
,
{
		   "cell_type": "markdown",
		   "metadata": {},
		   "source": [
			"## Example 6.1: terminal_voltage.sce"
		   ]
		  },
  {
"cell_type": "code",
	   "execution_count": null,
	   "metadata": {
	    "collapsed": true
	   },
	   "outputs": [],
"source": [
"//Example  6.1// Terminal voltage \n",
"clc;\n",
"clear;\n",
"close;\n",
"//given data :\n",
"format('v',7)\n",
"Z=440;// number of lap\n",
"N=900;// revolutions in rpm\n",
"fi=0.07;//fluxin Wb\n",
"P=4;// number of pole\n",
"A=4;//constant\n",
"Ia=50;// armature current in Amperes\n",
"E=462;//voltage in V\n",
"E=(P*fi*Z*N)/(60*A);//general voltage in volts\n",
"R=0.002;// resistance in ohm\n",
"C=110;// conductors\n",
"Re=C*R;//resistance of each path in ohm\n",
"Ra=Re/A;//armature resistance in ohm\n",
"V=E-(Ia*Ra);//terminal voltage in volts\n",
"disp(V,'Terminal voltage,(V) = ')"
   ]
   }
,
{
		   "cell_type": "markdown",
		   "metadata": {},
		   "source": [
			"## Example 6.2: induced_emf.sce"
		   ]
		  },
  {
"cell_type": "code",
	   "execution_count": null,
	   "metadata": {
	    "collapsed": true
	   },
	   "outputs": [],
"source": [
"//Example  6.2// e.m.f \n",
"clc;\n",
"clear;\n",
"close;\n",
"format('v',6)\n",
"//given data :\n",
"V=200;//voltage\n",
"Ra=0.1;//resistance in ohm\n",
"Ia=50;//armature current in Amperes\n",
"E=V+(Ia*Ra);//generator voltage in volts\n",
"Eb=V-(Ia*Ra);//motor voltage in volts\n",
"disp(E,'emf when machine acts as generator,(V) = ')\n",
"disp(Eb,'emf when machine acts as motor,(V) = ')"
   ]
   }
,
{
		   "cell_type": "markdown",
		   "metadata": {},
		   "source": [
			"## Example 6.3: speed_torque_and_efficiency.sce"
		   ]
		  },
  {
"cell_type": "code",
	   "execution_count": null,
	   "metadata": {
	    "collapsed": true
	   },
	   "outputs": [],
"source": [
"//Example  6.3// spped ,torque and efficiency\n",
"clc;\n",
"clear;\n",
"close;\n",
"format('v',6)\n",
"v=200;//voltage in volts\n",
"r=100;//resistance in ohms\n",
"ish=v/r;//shunt current in amperes\n",
"i=4;//current in amperes\n",
"nla=i-ish;//no load armature current in amperes\n",
"w=8;//powerin kW\n",
"ifl=(w*10^3)/v;//full load current in amperes\n",
"fla=ifl-ish;//full load armature current in amperes\n",
"r1=0.6;//internal resistance in ohms\n",
"ebo=(v-(ish*r1));//voltage in volts\n",
"eb=(v-(fla*r1));//voltage in volts\n",
"no=700;//number of rpm\n",
"n=no*(eb/ebo);//number of rpm\n",
"ta=((eb*fla*60)/(2*n));//armature torque in N-m\n",
"nlpi=v*i;//no load power input in watts\n",
"cl=(ish^2*r1);//copper losses in watts\n",
"cl=nlpi-cl;//total copper lossses in Watts\n",
"flacl=(fla^2*r1);//full load armmature copper losses in Watts\n",
"tfll=flacl+cl;//total full load losses in Watts\n",
"flo=(w*10^3)-tfll;//full load output in Watts\n",
"ef=((flo)/(w*10^3))*100;//efficiency\n",
"disp(n,'speed  is,(rpm)=')\n",
"disp(ta,'armature torque is, (N-m)=')\n",
"disp(ef,'full load motor efficiency is ,(%)=')\n",
"//armature torque is calculated wrong in the textbook"
   ]
   }
,
{
		   "cell_type": "markdown",
		   "metadata": {},
		   "source": [
			"## Example 6.4: speed.sce"
		   ]
		  },
  {
"cell_type": "code",
	   "execution_count": null,
	   "metadata": {
	    "collapsed": true
	   },
	   "outputs": [],
"source": [
"//Example  6.4//  speed\n",
"clc;\n",
"clear;\n",
"close;\n",
"//given data :\n",
"format('v',6)\n",
"fi=0.02// flux in Wb\n",
"P=4;// number of poles\n",
"A=2;//constant\n",
"Z=151*A;//turns\n",
"V=200;// in volts\n",
"Rsh=50;//shunt resistance in ohm\n",
"Ra=0.01;// armature resistance in ohm\n",
"Pr=40000;//power required  in Watts\n",
"Il=Pr/V;//load current in amperes\n",
"Ish=V/Rsh;//shunt current in amperes\n",
"Ia=Il+Ish;//armature current in amperes\n",
"E=V+(Ia*Ra);//generated voltage\n",
"N=(60*A*E)/(fi*P*Z);//rpm\n",
"disp(N,'The speed of the machine,(rpm) = ')\n",
"//answer is wrong in the textbook"
   ]
   }
,
{
		   "cell_type": "markdown",
		   "metadata": {},
		   "source": [
			"## Example 6.5: power_absorbed.sce"
		   ]
		  },
  {
"cell_type": "code",
	   "execution_count": null,
	   "metadata": {
	    "collapsed": true
	   },
	   "outputs": [],
"source": [
"//Example  6.5//  Power\n",
"clc;\n",
"clear;\n",
"close;\n",
"//given data :\n",
"format('v',6)\n",
"fp=0.024;// flux per pole\n",
"lf=1.2;// leakage factor\n",
"fi=fp/lf;// in Wb\n",
"Z=756;//turns\n",
"P=4;// number of pole\n",
"N=1000;// in rpm\n",
"A=4;//constant\n",
"E=(fi*Z*N*P)/(60*A);//generated voltage\n",
"il=1/10;//load current in amperes\n",
"ish=1/100;//shunt current in amperes\n",
"ra=1;//armature resistance in ohms\n",
"is=il+ish;//current in amperes\n",
"v=((E)/(1+(ra*is)));//volts\n",
"r2=10;//ohms\n",
"il=v/r2;//amperes\n",
"pc=il*v;//Watts\n",
"disp(pc,'Power consumed is,(W)=')\n",
"//answer is wrong in the textbook"
   ]
   }
,
{
		   "cell_type": "markdown",
		   "metadata": {},
		   "source": [
			"## Example 6.6: EX6_6.sce"
		   ]
		  },
  {
"cell_type": "code",
	   "execution_count": null,
	   "metadata": {
	    "collapsed": true
	   },
	   "outputs": [],
"source": [
"//Example  6.6: e.m.f ,copper losses ,output of the prime mover ,commercial, mechanical and electrical efficiencies\n",
"clc;\n",
"clear;\n",
"close;\n",
"format('v',6)\n",
"//given data :\n",
"Il=190;//load current in Amperes\n",
"V=250;// voltage in volts\n",
"Ra=0.02;//armature resistance in ohm\n",
"Rsh=25;//shunt resistance in ohm\n",
"Ish=V/Rsh;//shunt current in amperes\n",
"Ia=Ish+Il;//armature current in amperes\n",
"E=V+(Ia*Ra);//generated voltage\n",
"disp('part (a)')\n",
"disp(E,'emf genereted,(V) = ')\n",
"Cl=(Ia^2*Ra);// armeture copper losses\n",
"Sl=Ish*V;// shunt copper losses\n",
"T=(Cl+Sl)*10^-3;//copper losses in k-Watt\n",
"disp('part (b)')\n",
"disp(T,'Total copper losses,(kW) = ')\n",
"Eo=V*Il;//output voltage in volts\n",
"I_l=950;//iron loss in watt\n",
"O=Eo+I_l+(T*10^3);//output in watt\n",
"disp(O,'Output of the prime mover,(W) = ')\n",
"Ep=O-I_l;// electrical power in W\n",
"Me=(Ep/O)*100;//Mechanical efficiency\n",
"disp('part (c)')\n",
"disp(Me,'Mechanical efficiency,(%) = ')\n",
"Ee=(Eo/Ep)*100;//Electrical efficiency\n",
"disp(Ee,'Electrical efficiency,(%) = ')\n",
"Ce=(Eo/O)*100;//Commercial efficiency\n",
"disp(Ce,'Commercial efficiency,(%) = ')"
   ]
   }
,
{
		   "cell_type": "markdown",
		   "metadata": {},
		   "source": [
			"## Example 6.7: resistance.sce"
		   ]
		  },
  {
"cell_type": "code",
	   "execution_count": null,
	   "metadata": {
	    "collapsed": true
	   },
	   "outputs": [],
"source": [
"//Example  6.7// resistance \n",
"clc;\n",
"clear;\n",
"close;\n",
"format('v',6)\n",
"n=1000;//turns in rpm\n",
"ra=0.3;//armature resistance in ohms\n",
"rf=40;//field resistance in ohms\n",
"it=5;//field current in amperes\n",
"if1=4;//field current in amperes\n",
"e1=220;//emf in volts\n",
"e2=200;//emf in volts\n",
"ia=35;//armature current in amperes\n",
"eb=(e1-(ia*ra));//emf in volts\n",
"x=((eb-e2)/(it*if1));//additional field current in amperes\n",
"ce=e1-e2;//change in emf in volts\n",
"ix=if1+x;//total current in amperes\n",
"rt=(e1/ix);//total resistance in ohms\n",
"adr=rt-rf;//additional resistance required in ohms\n",
"disp(adr,'additional resistance required is,(Ohm)=')"
   ]
   }
,
{
		   "cell_type": "markdown",
		   "metadata": {},
		   "source": [
			"## Example 6.8: resistance_and_speed.sce"
		   ]
		  },
  {
"cell_type": "code",
	   "execution_count": null,
	   "metadata": {
	    "collapsed": true
	   },
	   "outputs": [],
"source": [
"//Example  6.8// resistance and speed\n",
"clc;\n",
"clear;\n",
"close;\n",
"format('v',7)\n",
"v1=240;//primary voltage\n",
"r1=0.2;//primary resistance in ohm\n",
"i1=40;//primary current in volts\n",
"eb1=(v1-i1*r1);//primary emf\n",
"n11=1800;//number of turns on primary side in rpm\n",
"n21=1600;//number of turns on secondary side in rpm\n",
"i2=10;//secondary current in amperes\n",
"x=((n21/n11)*(i2/i1)*eb1);//variable\n",
"r=((v1-(i2*r1))-x)/i2;//resistance in ohm\n",
"disp('part (a)')\n",
"disp(r,'resistance to be added is,(Ohm)=')\n",
"disp('part (b)')\n",
"n11=1800;//number of turns on primary side\n",
"n21=900;//number of turns on secondary side in rpm\n",
"i2=60;//secondary current in amperes\n",
"x=((n21/n11)*(1.18)*eb1);//variable\n",
"r=((v1-(i2*r1))-x)/i2;//resistance in ohms\n",
"disp(r,'resistance to be added is,(Ohm)=')\n",
"eb2=228;//secondary emf in volts\n",
"eb1=232;//primary emf in volts\n",
"p1=100;//primary power in watt\n",
"p2=118;//secondary power in watt\n",
"n2=((eb2/eb1)*(p1/p2)*n11);//speed in rpm\n",
"disp(ceil(n2),'speed is,(rpm)=')"
   ]
   }
,
{
		   "cell_type": "markdown",
		   "metadata": {},
		   "source": [
			"## Example 6.9: speed.sce"
		   ]
		  },
  {
"cell_type": "code",
	   "execution_count": null,
	   "metadata": {
	    "collapsed": true
	   },
	   "outputs": [],
"source": [
"//Example  6.9// speed\n",
"clc;\n",
"clear;\n",
"close;\n",
"format('v',6)\n",
"i1=50;//primary current in amperes\n",
"i2=i1/(sqrt(2));//secondary current in amperes\n",
"r1=0.2;//primary resistance in ohms\n",
"v1=220;//primary voltage in volts\n",
"eb1=((v1-(i1*r1)));//primary emf in volts\n",
"eb2=((v1-(i2*r1)));//secondary emf in volts\n",
"n1=1000//primary speed in rpm\n",
"n2=(n1*(eb2/eb1)*(i1/i2));//seconadry speed in rpm\n",
"disp(n2,'speed is,(rpm)=')"
   ]
   }
],
"metadata": {
		  "kernelspec": {
		   "display_name": "Scilab",
		   "language": "scilab",
		   "name": "scilab"
		  },
		  "language_info": {
		   "file_extension": ".sce",
		   "help_links": [
			{
			 "text": "MetaKernel Magics",
			 "url": "https://github.com/calysto/metakernel/blob/master/metakernel/magics/README.md"
			}
		   ],
		   "mimetype": "text/x-octave",
		   "name": "scilab",
		   "version": "0.7.1"
		  }
		 },
		 "nbformat": 4,
		 "nbformat_minor": 0
}
