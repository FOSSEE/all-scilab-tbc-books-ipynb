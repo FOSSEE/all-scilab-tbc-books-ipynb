{
"cells": [
 {
		   "cell_type": "markdown",
	   "metadata": {},
	   "source": [
       "# Chapter 5: ELECTRICAL MEASUREMENTS"
	   ]
	},
{
		   "cell_type": "markdown",
		   "metadata": {},
		   "source": [
			"## Example 5.10: true_resistance_of_the_unknown_resistor_percentage_error_and_reading_voltmeter.sce"
		   ]
		  },
  {
"cell_type": "code",
	   "execution_count": null,
	   "metadata": {
	    "collapsed": true
	   },
	   "outputs": [],
"source": [
"// Example 5.10;true resistance of the unknown resistor  , percentage error and reading voltmeter\n",
"clc;\n",
"clear;\n",
"// given :\n",
"format('v',7)\n",
"disp('part (i)')\n",
"ra=0.1;//ohms\n",
"vr=18;//voltage in volts\n",
"am=0.2;//current in amperes\n",
"apr=vr/am;//in ohms\n",
"rv=5000;//ohms\n",
"im=vr/rv;//amperes\n",
"rxi=am-(im);//in amperes\n",
"rx=vr/rxi;//ohms\n",
"disp(rx,'true value of resistance is,(Ohm)=')\n",
"per=((rx-apr)/rx)*100;//percentage error\n",
"disp('part (ii)')\n",
"disp(per,'percentage error is,(%)=')\n",
"rvv=am*(ra+rx);//reading of voltmeter\n",
"disp('part (iii)')\n",
"disp(rvv,'reading of voltmeter is,(V)=')"
   ]
   }
,
{
		   "cell_type": "markdown",
		   "metadata": {},
		   "source": [
			"## Example 5.11: resistance.sce"
		   ]
		  },
  {
"cell_type": "code",
	   "execution_count": null,
	   "metadata": {
	    "collapsed": true
	   },
	   "outputs": [],
"source": [
"// Example 5.11;resistance\n",
"clc;\n",
"clear;\n",
"// given :\n",
"format('v',6)\n",
"im=10;//mA\n",
"i=100;//mA\n",
"m=i/im;//multiplying factor\n",
"rm=50;//ohms\n",
"rsh=rm/(m-1);//in ohms\n",
"disp('part (i)')\n",
"disp(rsh,'resistance of shunt (range 0-100mA) Rsh1 is,(Ohm)=')\n",
"i1=500;//mA\n",
"m1=i1/im;//multiplying factor\n",
"rm1=50;//ohms\n",
"rsh1=rm1/(m1-1);//in ohms\n",
"disp('part (ii)')\n",
"disp(rsh1,'resistance of shunt (range 0-500mA) Rsh2 is,(Ohm)=')\n",
"im2=1;//A\n",
"i2=100;//A\n",
"m2=i2/im2;//multiplying factor\n",
"rm2=50;//ohms\n",
"rsh2=rm2/(m2-1);//in ohms\n",
"disp('part (iii)')\n",
"disp(rsh2,'resistance of shunt (range 0-1A) Rsh2 is,(Ohm)=')\n",
"im3=1;//A\n",
"i3=500;//A\n",
"m3=i3/im3;//multiplying factor\n",
"rm3=50;//ohms\n",
"rsh3=rm3/(m3-1);//in ohms\n",
"disp('part (iv)')\n",
"disp(rsh3,'resistance of shunt (range 0-5A) Rsh2 is,(Ohm)=')"
   ]
   }
,
{
		   "cell_type": "markdown",
		   "metadata": {},
		   "source": [
			"## Example 5.12: load.sce"
		   ]
		  },
  {
"cell_type": "code",
	   "execution_count": null,
	   "metadata": {
	    "collapsed": true
	   },
	   "outputs": [],
"source": [
"// Example 5.12;load power\n",
"clc;\n",
"clear;\n",
"format('v',6)\n",
"// given :\n",
"k=600;//in rev./kwh.\n",
"nr=5;//number of revolutions\n",
"t=20;//time in seconds\n",
"lp=(1/k)*nr*((60*60)/t);//power in kW\n",
"disp(lp,'load power is,(kW)=')"
   ]
   }
,
{
		   "cell_type": "markdown",
		   "metadata": {},
		   "source": [
			"## Example 5.1: resistance.sce"
		   ]
		  },
  {
"cell_type": "code",
	   "execution_count": null,
	   "metadata": {
	    "collapsed": true
	   },
	   "outputs": [],
"source": [
"// Example 5.1 : resistance\n",
"clc;\n",
"clear;\n",
"// given :\n",
"format('v',9)\n",
"n=50;//number of turns\n",
"B=1;//magnetic field in tesla\n",
"I=1;//current in amperes\n",
"L=4;//length in cm\n",
"d=3;//dia in cm\n",
"Td=n*B*I*L*d*10^-4;//torque in N-m\n",
"cd1=2.4*10^-4;//controlling torque\n",
"id=cd1/Td;//current in amperes\n",
"fsv=100;//full scale voltage\n",
"trv=fsv/id;//ohms\n",
"adr=10000;//ohms\n",
"r=trv-adr;//ohms\n",
"disp(r,'required resistance is,(ohm)=')"
   ]
   }
,
{
		   "cell_type": "markdown",
		   "metadata": {},
		   "source": [
			"## Example 5.2: resistance.sce"
		   ]
		  },
  {
"cell_type": "code",
	   "execution_count": null,
	   "metadata": {
	    "collapsed": true
	   },
	   "outputs": [],
"source": [
"// Example 5.2 : resistance\n",
"clc;\n",
"clear;\n",
"// given :\n",
"format('v',9)\n",
"fsf=20;//full scale deflection current in mA\n",
"v=200;//voltage in mV\n",
"ri=v/fsf;//resistance in ohms\n",
"x=199.98;//current in amperes\n",
"rsh=(v*10^-3)/x;//ohms\n",
"fs2=1000;//volts\n",
"trv=fs2/(fsf*10^-3);//ohms\n",
"rse=trv-ri;//reqquired resistance in ohms\n",
"disp(rse,'total resistance of the voltmeter is,(ohm)=')\n",
"//in the text book approximately value of resistance is taken as 50000 ohm"
   ]
   }
,
{
		   "cell_type": "markdown",
		   "metadata": {},
		   "source": [
			"## Example 5.3: power_factor.sce"
		   ]
		  },
  {
"cell_type": "code",
	   "execution_count": null,
	   "metadata": {
	    "collapsed": true
	   },
	   "outputs": [],
"source": [
"// Example 5.3 : power factor\n",
"clc;\n",
"clear;\n",
"// given :\n",
"format('v',6)\n",
"w1=2000;//power in watts\n",
"w2=500;//power in watts\n",
"an=atand(sqrt(3)*(((w1-w2)/(w1+w2))));//angle in degree\n",
"disp('part (a)')\n",
"pf=cosd(an);//power factor\n",
"disp(pf,'power factor is ,=')\n",
"disp('part (b)')\n",
"w1=2000;//power in watts\n",
"w2=-500;//power in watts\n",
"an=atand(sqrt(3)*(((w1-w2)/(w1+w2))));//angle in degree\n",
"pf=cosd(an);//power factor\n",
"disp(pf,'power factor is ,=')"
   ]
   }
,
{
		   "cell_type": "markdown",
		   "metadata": {},
		   "source": [
			"## Example 5.4: current.sce"
		   ]
		  },
  {
"cell_type": "code",
	   "execution_count": null,
	   "metadata": {
	    "collapsed": true
	   },
	   "outputs": [],
"source": [
"// Example 5.4;reading\n",
"clc;\n",
"clear;\n",
"disp('part (i)')\n",
"// given :\n",
"format('v',6)\n",
"vm=100;//volts\n",
"rc=10;//ohms\n",
"im=vm/rc;//amperes\n",
"t=0:2*%pi;//time rane\n",
"x=intsplin(t,(sin(t))^2);//variable\n",
"Irms=sqrt((1/(2*%pi))*im^2*x);//current in amperes\n",
"disp(Irms,'indication of moving iron instrument is,(A)=')\n",
"disp('part (ii)')\n",
"t1=0;//time interval\n",
"t2=%pi;//time inerval\n",
"x=integrate('sin(t)','t',t1,t2);//variable\n",
"Iav=(1/%pi)*x*(im/2);//current in amperes\n",
"disp(Iav,'indication of moving coil instrument is,(A)=')\n",
"//answer of part a is calculated wrong in the textbook"
   ]
   }
,
{
		   "cell_type": "markdown",
		   "metadata": {},
		   "source": [
			"## Example 5.5: resistance_and_readings.sce"
		   ]
		  },
  {
"cell_type": "code",
	   "execution_count": null,
	   "metadata": {
	    "collapsed": true
	   },
	   "outputs": [],
"source": [
"// Example 5.5;reading\n",
"clc;\n",
"clear;\n",
"format('v',5)\n",
"// given :\n",
"fsd=100;//full scale division in amperes\n",
"fsd1=100;//full scale division in mA\n",
"csh=fsd-(fsd*10^-3);//difference in currents in amperes\n",
"rx=0.8;//resistance in ohms\n",
"r1=((fsd1*10^-3*rx)/csh);//resistance in ohms\n",
"rx1=1;//resistance in ohms\n",
"r2=((fsd1*10^-3*rx1)/csh);//resistance in ohms\n",
"em1=((rx*r1)/(rx+r1));//resistance in ohms\n",
"em2=((rx1*r2)/(rx1+r2));//resistance in ohms\n",
"crm1=((em2*10^4*fsd)/((em2*10^4)+(em1*10^4)));//current in amperes\n",
"crm2=((em1*10^4*fsd)/((em1*10^4)+(em2*10^4)));//current in amperes\n",
"disp(crm1,'current read by meter 1 is,(A)=')\n",
"disp(crm2,'current read by meter 2 is,(A)=')"
   ]
   }
,
{
		   "cell_type": "markdown",
		   "metadata": {},
		   "source": [
			"## Example 5.6: multiplier_resistance_and_voltmeter_sensivity.sce"
		   ]
		  },
  {
"cell_type": "code",
	   "execution_count": null,
	   "metadata": {
	    "collapsed": true
	   },
	   "outputs": [],
"source": [
"// Example 5.6;multiplier and sensivity\n",
"clc;\n",
"clear;\n",
"// given :\n",
"format('v',6)\n",
"rm=50;//resistance in ohms\n",
"rsh=rm;//shunt resistance in ohms\n",
"it=2;//current in mA\n",
"erms=10;//rms voltage in volts\n",
"ede=0.45*erms;//voltage in volts\n",
"rd1=400;//resistance in ohms\n",
"x=(rm*rsh)/(rm+rsh);//resistance in ohms\n",
"r1=ede/(it*10^-3);//resistance in ohms\n",
"rs=r1-x-rd1;//resistance in ohms\n",
"disp('part (a)')\n",
"disp(rs,'multiplier resistance Rs is,(Ohm)=')\n",
"S=r1/erms;//sensivity in ohms/V\n",
"disp('part (b)')\n",
"disp(S,'sensivity is,(Ohm/V)=')"
   ]
   }
,
{
		   "cell_type": "markdown",
		   "metadata": {},
		   "source": [
			"## Example 5.7: apparent_resistance_actual_resistance_and_error.sce"
		   ]
		  },
  {
"cell_type": "code",
	   "execution_count": null,
	   "metadata": {
	    "collapsed": true
	   },
	   "outputs": [],
"source": [
"// Example 5.7;apparent resistance of the unknown resistor,actual resistance of the unknown resistor and percentage error\n",
"clc;\n",
"clear;\n",
"// given :\n",
"format('v',7)\n",
"v=200;//voltage in volts\n",
"i=5;//current in mA\n",
"tr=v/i;//resistance in kilo ohms\n",
"disp('part (a)')\n",
"disp(tr,'apparent resistance of unknown resistor is,(kilo-Ohm)=')\n",
"S=1000;//sensivity in ohms/V\n",
"V1=250;//voltage in volts\n",
"rv=V1*S*10^-3;//resistance in kilo ohms\n",
"rx=(V1*tr)/(V1-tr);//resistance in kilo ohms\n",
"disp('part (b)')\n",
"disp(rx,'actual resistance of unknown resistor is,(kilo-Ohm)=')\n",
"per=(rx-tr)/rx;//percentage error\n",
"disp('part (c)')\n",
"disp(per*100,'percentage error is,(%)=')"
   ]
   }
,
{
		   "cell_type": "markdown",
		   "metadata": {},
		   "source": [
			"## Example 5.8: resolutio.sce"
		   ]
		  },
  {
"cell_type": "code",
	   "execution_count": null,
	   "metadata": {
	    "collapsed": true
	   },
	   "outputs": [],
"source": [
"// Example 5.8;resolution\n",
"clc;\n",
"clear;\n",
"format('v',6)\n",
"// given :\n",
"fsr=200;//full scale reading in volts\n",
"d=100;//number of divisions\n",
"sc=1/10;//scale\n",
"sd1=fsr/d;//one sccale divisions\n",
"R=sc*sd1;//resolution\n",
"disp(R,'resolution is, (V)=')"
   ]
   }
,
{
		   "cell_type": "markdown",
		   "metadata": {},
		   "source": [
			"## Example 5.9: resolutio.sce"
		   ]
		  },
  {
"cell_type": "code",
	   "execution_count": null,
	   "metadata": {
	    "collapsed": true
	   },
	   "outputs": [],
"source": [
"// Example 5.9;resolution\n",
"clc;\n",
"clear;\n",
"format('v',6)\n",
"// given :\n",
"fsr=9.999;//full scale reading in volts\n",
"d=9999;//number of divisions\n",
"R=(1/d)*fsr*10^3;//resolution\n",
"disp(R,'resolution is ,(mV)=')"
   ]
   }
],
"metadata": {
		  "kernelspec": {
		   "display_name": "Scilab",
		   "language": "scilab",
		   "name": "scilab"
		  },
		  "language_info": {
		   "file_extension": ".sce",
		   "help_links": [
			{
			 "text": "MetaKernel Magics",
			 "url": "https://github.com/calysto/metakernel/blob/master/metakernel/magics/README.md"
			}
		   ],
		   "mimetype": "text/x-octave",
		   "name": "scilab",
		   "version": "0.7.1"
		  }
		 },
		 "nbformat": 4,
		 "nbformat_minor": 0
}
