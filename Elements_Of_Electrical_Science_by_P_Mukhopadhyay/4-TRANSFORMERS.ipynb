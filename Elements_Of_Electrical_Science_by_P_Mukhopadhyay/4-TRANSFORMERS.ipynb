{
"cells": [
 {
		   "cell_type": "markdown",
	   "metadata": {},
	   "source": [
       "# Chapter 4: TRANSFORMERS"
	   ]
	},
{
		   "cell_type": "markdown",
		   "metadata": {},
		   "source": [
			"## Example 4.1: number_of_turns.sce"
		   ]
		  },
  {
"cell_type": "code",
	   "execution_count": null,
	   "metadata": {
	    "collapsed": true
	   },
	   "outputs": [],
"source": [
"// Example 4.1;NUMBER OF TURNS\n",
"clc;\n",
"close;\n",
"clear;\n",
"// given :\n",
"format('v',7)\n",
"e1=2200;//voltage in volts\n",
"f=50;//frequency in Hz\n",
"e2=220;//voltage in volts\n",
"fd=1.6;//magnetic field in Tesla\n",
"a=3600;//area in mm^2\n",
"n1=(e1/(4.44*f*fd*a*10^-6));//number  of turns\n",
"n2=(e2/(4.44*f*fd*a*10^-6));//number of turns\n",
"disp(round(n1),'number of primary winding turns are')\n",
"disp(round(n2),'number of secondary winding turns are')"
   ]
   }
,
{
		   "cell_type": "markdown",
		   "metadata": {},
		   "source": [
			"## Example 4.2: EX4_2.sce"
		   ]
		  },
  {
"cell_type": "code",
	   "execution_count": null,
	   "metadata": {
	    "collapsed": true
	   },
	   "outputs": [],
"source": [
"// Example 4.2;components of no load currents,magnetising and working components of exciting current\n",
"clc;\n",
"close;\n",
"clear;\n",
"// given \n",
"format('v',6)\n",
"disp('part (a)')\n",
"nlw=2000;//no load input watts\n",
"pv=11000;//primary voltage\n",
"Iw=nlw/pv;//current in amperes\n",
"Io=0.6;//current in amperes\n",
"Imu=sqrt(Io^2-Iw^2);//current in amperes\n",
"disp(Iw,'iron loss current is, (A)=')\n",
"disp(Imu,'magnetising component is, (A)=')\n",
"pf=0.2;//power factpr\n",
"Io=0.5;//current in amperes\n",
"Iw=Io*(pf);//current in amperes\n",
"Imu=Io*sqrt(1-pf^2);//magnetising component in amperes\n",
"disp(' part (b)')\n",
"disp(Iw,'iron loss current is, (A)=')\n",
"disp(Imu,'magnetising component  is, (A)=')"
   ]
   }
,
{
		   "cell_type": "markdown",
		   "metadata": {},
		   "source": [
			"## Example 4.3: current.sce"
		   ]
		  },
  {
"cell_type": "code",
	   "execution_count": null,
	   "metadata": {
	    "collapsed": true
	   },
	   "outputs": [],
"source": [
"// Example 4.3;current\n",
"clc;\n",
"close;\n",
"clear;\n",
"// given \n",
"format('v',6)\n",
"pf1=0.866;//power factor\n",
"pf2=0.1736;//power factor\n",
"ph1=acosd(pf1);//phase angle in degree\n",
"ph2=acosd(pf2);//phase angle in degree\n",
"ir=120;//current in amperes\n",
"n2=110;//number of turns\n",
"n1=440;//number of turns\n",
"i2d=(n2/n1)*ir;//current in amperes\n",
"io=5;//current in amperes\n",
"aioi2=ph2-ph1;//change in angle in degree\n",
"i1=sqrt(io^2+i2d^2+(2*io*i2d*cosd(aioi2)));//current in amperes\n",
"disp(i1,'current is, (A)=')"
   ]
   }
,
{
		   "cell_type": "markdown",
		   "metadata": {},
		   "source": [
			"## Example 4.4: core_losses.sce"
		   ]
		  },
  {
"cell_type": "code",
	   "execution_count": null,
	   "metadata": {
	    "collapsed": true
	   },
	   "outputs": [],
"source": [
"// Example 4.4;core losses\n",
"clc;\n",
"close;\n",
"clear;\n",
"format('v',6)\n",
"// given \n",
"f=50;//frquency in Hz\n",
"hl=650;//hystresis loss\n",
"edl=400;//eddy current loss\n",
"A=hl/f;//parameter\n",
"B=edl/f^2;//parameter\n",
"Ph=A*2*f;//loss in watts\n",
"Pe=B*(2*f)^2;//loss in watts\n",
"pt=Ph+Pe;//total loss in watts\n",
"disp(pt,'total core losses is,(W)')"
   ]
   }
,
{
		   "cell_type": "markdown",
		   "metadata": {},
		   "source": [
			"## Example 4.5: efficiency_and_percentage_of_full_load.sce"
		   ]
		  },
  {
"cell_type": "code",
	   "execution_count": null,
	   "metadata": {
	    "collapsed": true
	   },
	   "outputs": [],
"source": [
"// Example 4.5;efficiency and load for maximum efficiency\n",
"clc;\n",
"close;\n",
"clear;\n",
"format('v',5)\n",
"// given \n",
"cl=125;//copper losses\n",
"fcl=2^2*cl;//full load copper losses\n",
"il=457;//iron losses\n",
"pf=0.8;//power factor\n",
"kba=30;//loss\n",
"disp('part (a)')\n",
"fle=((kba*pf)/((kba*pf)+(fcl+il)*10^-3))*100;//full load efficiency  in %\n",
"disp(fle,'full load efficiency at 0.8 pf is,(%)=')\n",
"lme=kba*sqrt(il/fcl);//variable\n",
"pfl=(lme/kba)*100;//percentage of full load on which efficiency will be maximum \n",
"disp('part (b)')\n",
"disp(pfl,'percentage of full load on which efficiency will be maximum is,(%)=')"
   ]
   }
,
{
		   "cell_type": "markdown",
		   "metadata": {},
		   "source": [
			"## Example 4.6: all_day_efficiency.sce"
		   ]
		  },
  {
"cell_type": "code",
	   "execution_count": null,
	   "metadata": {
	    "collapsed": true
	   },
	   "outputs": [],
"source": [
"// Example 4.6;all day efficiency\n",
"clc;\n",
"close;\n",
"clear;\n",
"//given\n",
"format('v',5)\n",
"ef=0.98;//efficiency in %\n",
"kva=15;//kVA\n",
"pf=1;//power factor\n",
"op=kva*pf;//output power in kW\n",
"ip=op/ef;//input power in kW\n",
"loss=ip-op;//loss in kW\n",
"cl=(loss*10^3)/2;//copper loss in W\n",
"il=cl;//iron loss in W\n",
"t1=12;//time in hours\n",
"p1=2;//power in kW\n",
"pf1=0.5;//power factor\n",
"y1=(p1)/pf1;//kVA\n",
"il1=il*t1;//loss in Wh\n",
"cl1=cl*((y1)/kva)^2*t1;//copper loss in Wh\n",
"top1=p1*t1;//kWht1=12;//time in hours\n",
"t2=6;//time in hours\n",
"p2=12;//power in kW\n",
"pf2=0.8;//power factor\n",
"y2=(p2)/pf2;//kVA\n",
"il2=il*t2;//iron loss in Wh\n",
"cl2=cl*((y2/kva)^2)*t2;//copper loss in Wh\n",
"top2=p2*t2;//kWh\n",
"t3=6;//time in hours\n",
"il3=il*t3;//iron loss Wh\n",
"tol=top1+top2;//iron loss kWh\n",
"til=(il1+il2+il3)*10^-3;//total iron loss in kWh\n",
"tcl=(cl1+cl2)*10^-3;//total copper loss in kWh\n",
"ade=((tol)/(tol+til+tcl))*100;//efficiency in %\n",
"disp(ade,'all day efficiency is,(%)=')"
   ]
   }
,
{
		   "cell_type": "markdown",
		   "metadata": {},
		   "source": [
			"## Example 4.7: iron_losses.sce"
		   ]
		  },
  {
"cell_type": "code",
	   "execution_count": null,
	   "metadata": {
	    "collapsed": true
	   },
	   "outputs": [],
"source": [
"// Example 4.7;iron losses\n",
"clc;\n",
"close;\n",
"clear;\n",
"//given\n",
"format('v',6)\n",
"kva=200;//kVA\n",
"pf=0.8;//power factor\n",
"rflo=kva*pf;//kW\n",
"ef=0.96;//efficiency\n",
"ip=rflo/ef;//kW\n",
"tl=ip-rflo;//kW\n",
"e2=800;//volts\n",
"e1=6600;//volts\n",
"n21=((e2/sqrt(3))/e1);//turn ratiom\n",
"r1=4;//ohms\n",
"r2=0.05;//ohms\n",
"roe=(r1)*n21^2+r2;//ohms\n",
"fli=((kva*10^3)/(sqrt(3)*e2));//amperes\n",
"fcl=3*fli^2*roe;//kW\n",
"il=tl-(fcl)*10^-3;//kW\n",
"disp(il,'iron losses is,(kW)=')"
   ]
   }
,
{
		   "cell_type": "markdown",
		   "metadata": {},
		   "source": [
			"## Example 4.8: EX4_8.sce"
		   ]
		  },
  {
"cell_type": "code",
	   "execution_count": null,
	   "metadata": {
	    "collapsed": true
	   },
	   "outputs": [],
"source": [
"// Example 4.8;resistance,reactances and impedances and copper losses\n",
"clc;\n",
"close;\n",
"clear;\n",
"//given\n",
"r1=3.45;//ohms\n",
"r2=0.009;//ohms\n",
"x1=5.2;//ohms\n",
"x2=0.015;//ohms\n",
"kva=100;//kVA\n",
"e1=8800;//volts\n",
"e2=440;//volts\n",
"i1=(kva*10^3)/e1;//in amperes\n",
"i2=(kva*10^3)/e2;//in amperes\n",
"k=e2/e1;//transformation ratio\n",
"ro1=r1+(r2/k^2);//ohms\n",
"xo1=x1+(x2/k^2);//ohms\n",
"ro2=r2+(k^2*r1);//ohms\n",
"xo2=k^2*xo1;//ohms\n",
"zo1=sqrt(ro1^2+xo1^2);//ohms\n",
"zo2=sqrt(ro2^2+xo2^2);//ohms\n",
"disp('part (a) ')\n",
"disp(ro1,'equivalent resistance referred to the primary is,(Ohm)=')\n",
"disp(xo1,'equivalent reactance referred to the primary is,(Ohm)=')\n",
"disp(ro2,'equivalent resistance referred to the secondary is,(Ohm)=')\n",
"disp(xo2,'equivalent reactance referred to the secondary is,(Ohm)=')\n",
"disp(zo1,'equivalent impedance referred to the primary is,(Ohm)=')\n",
"disp(zo2,'equivalent impedance referred to the secondary is,(Ohm)=')\n",
"disp('part (b) ')\n",
"tcl=i1^2*r1+i2^2*r2;//in watts\n",
"tcl1=i1^2*ro1;//in watts\n",
"tcl2=i2^2*ro2;//in watts\n",
"disp(tcl,'total copper losses considering individual resistance is,(W)=')\n",
"disp(tcl1,'total copper losses consdering equivalent resistance (for primary) is,(W)=')\n",
"disp(tcl2,'total copper losses consdering equivalent resistance (for secondary) is,(W)=')\n",
"//copper losses are caculated wrong in the textbook"
   ]
   }
,
{
		   "cell_type": "markdown",
		   "metadata": {},
		   "source": [
			"## Example 4.9: equivalent_circuit_components_regulation_of_transformer_and_efficiency.sce"
		   ]
		  },
  {
"cell_type": "code",
	   "execution_count": null,
	   "metadata": {
	    "collapsed": true
	   },
	   "outputs": [],
"source": [
"// Example 4.9;parameter of primary side ,regulation and efficiency\n",
"clc;\n",
"close;\n",
"clear;\n",
"//given\n",
"format('v',6)\n",
"po=100;//watts\n",
"v1=200;//volts\n",
"io=1;//amperes\n",
"ocpf=po/(v1*io);//open circuit power factor\n",
"sinpf=sqrt(1-ocpf^2);//\n",
"im=io*sinpf;//in amperes\n",
"iw=io*ocpf;//current in amperes\n",
"rm=v1/iw;//ohms\n",
"xm=v1/im;//in ohms\n",
"vs=15;//volts\n",
"ia=10;//amperes\n",
"zo2=vs/ia;//in ohms\n",
"wa=85;//watts\n",
"ro2=wa/(ia)^2;//ohms\n",
"e2=400;//volts\n",
"e1=200;//volts\n",
"k=e2/e1;//transformation ratio\n",
"zo1=zo2/k^2;//ohms\n",
"ro1=ro2/k^2;//ohms\n",
"xo1=sqrt(zo1^2-ro1^2);//ohms\n",
"disp(' part (a)')\n",
"disp(im,'magnetising component of no load current (Im) is,(A)=')\n",
"disp(iw,'working component of no load current (Iw) is,(A)=')\n",
"disp(rm,'resistance for primary side  (Rm) is,(Ohm)=')\n",
"disp(xm,'reactance for primary ohms (Xm) is,(Ohm)=')\n",
"disp(xo1,'impedence for primary side (X01) is,(Ohm)=')\n",
"disp('part (b)')\n",
"kva=4000;//kVA\n",
"i2=kva/e2;//in amperes\n",
"xo2=sqrt(zo2^2-ro2^2);//ohms\n",
"pf=0.8;// power factor\n",
"vlag=i2*(ro2*pf+xo2*sqrt(1-pf^2));//in volts\n",
"prld=(vlag*po)/e2;//\n",
"vlag1=i2*(ro2*pf-xo2*sqrt(1-pf^2));//in volts\n",
"prld1=(vlag1*po)/e2;//\n",
"disp(prld,'percentage regulation on lagging load is,(%)=')\n",
"disp(prld1,'percentage regulation on leading load is,(%)=')\n",
"disp('part (c)')\n",
"cl=85;//copper losses\n",
"nloss=100;//no load losses\n",
"fll=cl+nloss;//full load losses\n",
"pf=0.8;//power factor\n",
"flo=kva*pf;//efficiency \n",
"effl=flo/(flo+fll);//efficiency \n",
"hll=(1/2)^2*cl+nloss;//loss in watts\n",
"op=(1/2)*kva*pf;//ouput power in watts\n",
"efhl=op/(hll+op);//efficiency at half load\n",
"disp(effl*100,'efficiency at full load is,(%)=')\n",
"disp(efhl*100,'efficiency at half load is,(%)=')"
   ]
   }
],
"metadata": {
		  "kernelspec": {
		   "display_name": "Scilab",
		   "language": "scilab",
		   "name": "scilab"
		  },
		  "language_info": {
		   "file_extension": ".sce",
		   "help_links": [
			{
			 "text": "MetaKernel Magics",
			 "url": "https://github.com/calysto/metakernel/blob/master/metakernel/magics/README.md"
			}
		   ],
		   "mimetype": "text/x-octave",
		   "name": "scilab",
		   "version": "0.7.1"
		  }
		 },
		 "nbformat": 4,
		 "nbformat_minor": 0
}
