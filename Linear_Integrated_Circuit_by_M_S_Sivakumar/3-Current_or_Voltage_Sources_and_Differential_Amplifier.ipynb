{
"cells": [
 {
		   "cell_type": "markdown",
	   "metadata": {},
	   "source": [
       "# Chapter 3: Current or Voltage Sources and Differential Amplifier"
	   ]
	},
{
		   "cell_type": "markdown",
		   "metadata": {},
		   "source": [
			"## Example 3.1: EX3_1.sce"
		   ]
		  },
  {
"cell_type": "code",
	   "execution_count": null,
	   "metadata": {
	    "collapsed": true
	   },
	   "outputs": [],
"source": [
"//Example 3.1  // Determine the collector current Ic1 and collector-emitter voltage Vce1 for the difference amplifier circuit\n",
"clc;\n",
"clear;\n",
"close;\n",
"V1 = 0 ;    // volt\n",
"V2 = -5 ;   //volt\n",
"Vcm =  5 ;   //volt\n",
"Vcc = 10;   //volt\n",
"Vee = -10 ;  //volt\n",
"Ie =  1 ;  //mA\n",
"Rc =  10 ;  //kilo ohm\n",
"\n",
"// Transistor parameters\n",
"// base current are negligible\n",
"Vbe = 0.7 ;  // volt\n",
"\n",
"// The collector current of difference amplifier is\n",
"Ic1 = Ie/2 ; \n",
"disp('  The  collector  current  of  difference  amplifier  Ic1 = Ic2 = '+string(Ic1)+' mA ');\n",
"\n",
"// The collector voltages of transistors Q1 and Q2 are expressed as\n",
"\n",
"Vc1  = Vcc-Ic1*Rc ;\n",
"disp(' The collector voltages of transistors Q1 and Q2 are  Vc1 = Vc2 = '+string(Vc1)+' volt ');\n",
"\n",
"// We know common mode voltage (Vcm) , from this the emitter voltage can be identified as follows\n",
"// For the common mode voltage Vcm = 0 V , the emitter voltage is Ve = -0.7 V\n",
"// For the common mode voltage Vcm = 5 V , the emitter voltage is Ve =  4.3 V\n",
"// For the common mode voltage Vcm = -5 V , the emitter voltage is Ve = -5.7 V\n",
"\n",
"// For the different emitter voltages the collector-emitter voltage can be calculated as\n",
"\n",
"Ve = -0.7 ;  // volt\n",
"Vce1 = Vc1-Ve;\n",
"disp('For Ve = -0.7 Volt  the  collector - emitter  voltage  Vce1  =  ' +string(Vce1)+' Volt');\n",
"\n",
"Ve = 4.3 ;  // volt\n",
"Vce1 = Vc1-Ve;\n",
"disp('For Ve = 4.3 Volt  the  collector - emitter  voltage  Vce1  =  ' +string(Vce1)+' Volt');\n",
"\n",
"Ve = -5.7 ;  // volt\n",
"Vce1 = Vc1-Ve;\n",
"disp('For Ve = -5.7 Volt  the  collector - emitter  voltage  Vce1  =  ' +string(Vce1)+' Volt');"
   ]
   }
,
{
		   "cell_type": "markdown",
		   "metadata": {},
		   "source": [
			"## Example 3.2: EX3_2.sce"
		   ]
		  },
  {
"cell_type": "code",
	   "execution_count": null,
	   "metadata": {
	    "collapsed": true
	   },
	   "outputs": [],
"source": [
"//Example3.2 // To determine the difference-mode and common-mode gain of the difference amplifier\n",
"clc;\n",
"clear;\n",
"close;\n",
"Vcc = 10 ; // volt\n",
"Vee = -10 ;  //volt\n",
"Iq  =  0.8 ;  //mA\n",
"Ie  =  0.8 ;  //mA\n",
"Rc = 12 ;  //kilo-Ohm\n",
"Vt = 0.026 ;  // volt\n",
"\n",
"// Transistor parameter\n",
"beta = 100 ;\n",
"Rs = 0 ;  //Ohm\n",
"Ro = 25 ;  //kilo-Ohm \n",
"// The differential mode gain Ad\n",
"gm = (Ie/ 2*Vt) ;\n",
"// Ad = (gm*r*Rc/r+Rc) ;   // where r is r-pi\n",
"// For Rb=0 , the differential mode gain is\n",
"\n",
"Ad = (Ie/(2*Vt))*Rc;\n",
"//But\n",
"disp(' The differential mode gain Ad = ' +string(Ad)+ '   ' );\n",
"\n",
"//The common mode gain Acm\n",
"// Acm = - (gm*Rc/1+2*gm*Re+2*Re/r)\n",
"Acm =-(Ad/(1+(((1+beta)*Ie*Ro)/(beta*Vt))));\n",
"disp(' The common mode gain Acm = ' +string(Acm)+ '   ' );"
   ]
   }
,
{
		   "cell_type": "markdown",
		   "metadata": {},
		   "source": [
			"## Example 3.3: EX3_3.sce"
		   ]
		  },
  {
"cell_type": "code",
	   "execution_count": null,
	   "metadata": {
	    "collapsed": true
	   },
	   "outputs": [],
"source": [
"//Example 3.3 // To find the output of a difference amplifier when only common mode signal is applied\n",
"clc;\n",
"clear;\n",
"close;\n",
"// V1 = V2 = Vcm = 200*sin(wt) ;   // micro volt (uV)\n",
"Acm  = -0.237 ;\n",
"\n",
"// When the common mode input signal is applied to the difference amplifier , the difference mode gain is zero\n",
"Vcm = 200 ;\n",
"Vo = Acm*Vcm ;\n",
"disp('       The output of a difference amplifier is  Vo  = '+string(Vo)+'sinwt uV ');  // multiply by sinwt because it is in Vcm"
   ]
   }
,
{
		   "cell_type": "markdown",
		   "metadata": {},
		   "source": [
			"## Example 3.4: Determine_the_common_mode_rejection_ratio_CMRR_of_the_difference_amplifier.sce"
		   ]
		  },
  {
"cell_type": "code",
	   "execution_count": null,
	   "metadata": {
	    "collapsed": true
	   },
	   "outputs": [],
"source": [
"//Example 3.4 //Determine the common mode rejection ratio(CMRR) of the difference amplifier\n",
"clc;\n",
"clear;\n",
"close;\n",
"Vcc = 10 ; // volt\n",
"Vee = -10 ;  //volt\n",
"Iq  =  0.8 ;  //mA\n",
"Ie  =  0.8 ;  //mA\n",
"Rc = 12 ;  //kilo-Ohm\n",
"Vt = 0.026 ;  // volt\n",
"\n",
"// Transistor parameter\n",
"beta = 100 ;\n",
"Rs = 0 ;  //Ohm\n",
"Ro = 25 ;  //kilo-Ohm\n",
" \n",
"// The differential mode gain Ad\n",
"gm = (Ie/ 2*Vt) ;\n",
"// Ad = (gm*r*Rc/r+Rc) ;   // where r is r-pi\n",
"// For Rb=0 , the differential mode gain is\n",
"\n",
"Ad = (Ie/(2*Vt))*Rc;\n",
"//But\n",
"disp(' The differential mode gain Ad = ' +string(Ad)+ '   ' );\n",
"\n",
"//The common mode gain Acm\n",
"// Acm = - (gm*Rc/1+2*gm*Re+2*Re/r)\n",
"Acm =-(Ad/(1+(((1+beta)*Ie*Ro)/(beta*Vt))));\n",
"disp(' The common mode gain Acm = ' +string(Acm)+ '   ' );\n",
"\n",
"// The CMRR of difference amplifier is given as\n",
"Ad = Ad/2 ;\n",
"CMRR = abs(Ad/Acm);\n",
"disp(' The CMRR of difference amplifier is = ' +string(CMRR)+ '  ' );\n",
"\n",
"// In decibel it can be expressed as\n",
"CMRRdb = 20*log10(CMRR);\n",
"disp(' In decibel CMRR is = ' +string(CMRRdb)+ '  ' );"
   ]
   }
,
{
		   "cell_type": "markdown",
		   "metadata": {},
		   "source": [
			"## Example 3.5: To_determine_emitter_resistance_of_the_difference_amplifier.sce"
		   ]
		  },
  {
"cell_type": "code",
	   "execution_count": null,
	   "metadata": {
	    "collapsed": true
	   },
	   "outputs": [],
"source": [
"//Example3.5 // To determine emitter resistance of the difference amplifier\n",
"clc;\n",
"clear;\n",
"close;\n",
"Vcc = 10 ; // volt\n",
"Vee = -10 ;  //volt\n",
"Iq  =  0.8 ;  //mA\n",
"Ie  =  0.8 ;  //mA\n",
"CMRRdb = 90 ;  //dB\n",
"Vt = 0.026 ;\n",
"\n",
"// Transistor parameter\n",
"beta = 100 ;\n",
"\n",
"// CMRR = abs(Ad/Acm);\n",
"// the CMRR of the difference amplifier is defined as\n",
"//CMRR = ((1/2)*(1+((1+beta)*Ie*Re)/beta*Vt))\n",
"\n",
"// CMRRdb = 20*log10(CMRR)\n",
"CMRR = 10^(CMRRdb/20);\n",
"disp(' The CMRR of difference amplifier is = ' +string(CMRR)+ '  ' );\n",
"\n",
"// The resistance RE is calculated as\n",
"\n",
"RE = (((2*CMRR)-1)/((1+beta)*Ie))*(beta*Vt)\n",
"disp(' The value of resistance RE is = ' +string(RE)+ ' K ohm ' );"
   ]
   }
,
{
		   "cell_type": "markdown",
		   "metadata": {},
		   "source": [
			"## Example 3.6: determine_the_differential_mode_gain_when_load_resistance_RL_is_given.sce"
		   ]
		  },
  {
"cell_type": "code",
	   "execution_count": null,
	   "metadata": {
	    "collapsed": true
	   },
	   "outputs": [],
"source": [
"//Example3.6  // determine the differential mode gain when load resistance RL = 100 k ohm\n",
"clc;\n",
"clear;\n",
"close;\n",
"RL = 100*10^3 ; // k ohm  // load resistance\n",
"IE = 0.20*10^-3 ; // mA  // biasing current\n",
"VA = 100 ; // V // early voltage\n",
"VT = 0.026 ;  // threshold volt\n",
"\n",
"// the differential gain of differential amplifier with an active load circuit\n",
"//Ad = Vo/Vd  = gm(ro2 || ro4 || RL  )\n",
"ro2 = (2*VA)/IE;\n",
"ro4 = ro2 ;\n",
"gm = IE/(2*VT) ;\n",
"\n",
"Ad = gm/((1/ro2)+(1/ro4)+(1/RL));\n",
"disp(' The differential mode gain Ad is = ' +string(Ad)+ '   ' );"
   ]
   }
],
"metadata": {
		  "kernelspec": {
		   "display_name": "Scilab",
		   "language": "scilab",
		   "name": "scilab"
		  },
		  "language_info": {
		   "file_extension": ".sce",
		   "help_links": [
			{
			 "text": "MetaKernel Magics",
			 "url": "https://github.com/calysto/metakernel/blob/master/metakernel/magics/README.md"
			}
		   ],
		   "mimetype": "text/x-octave",
		   "name": "scilab",
		   "version": "0.7.1"
		  }
		 },
		 "nbformat": 4,
		 "nbformat_minor": 0
}
