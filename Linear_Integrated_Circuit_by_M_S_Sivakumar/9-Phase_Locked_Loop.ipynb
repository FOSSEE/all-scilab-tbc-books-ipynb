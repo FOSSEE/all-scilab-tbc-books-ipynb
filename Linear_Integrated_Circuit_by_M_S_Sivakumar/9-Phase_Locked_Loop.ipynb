{
"cells": [
 {
		   "cell_type": "markdown",
	   "metadata": {},
	   "source": [
       "# Chapter 9: Phase Locked Loop"
	   ]
	},
{
		   "cell_type": "markdown",
		   "metadata": {},
		   "source": [
			"## Example 9.1: to_find_output_voltage_for_a_constant_input_signal_frequency_of_200_KHz.sce"
		   ]
		  },
  {
"cell_type": "code",
	   "execution_count": null,
	   "metadata": {
	    "collapsed": true
	   },
	   "outputs": [],
"source": [
"//Example9.1  // to find output voltage for a constant input signal frequency of 200 KHz\n",
"clc;\n",
"clear;\n",
"close;\n",
"fo = 2*%pi*1*10^3 ; // KHz/V  // VCO sensitivity range 4.1\n",
"fc = 500  ; // Hz a free running frequency\n",
"f1 = 200 ; // Hz  input frequency\n",
"f2 = 2*10^3 ; // Hz  input frequency\n",
"\n",
"// the output voltage of PLL is defined as\n",
"//Vo = (wo-wc)/ko\n",
"ko = fo ;\n",
"// when i/p locked with o/p wo=wi\n",
"// Vo = (wi-wc)/ko ;\n",
"\n",
"//for the i/p frequency fi = 200 Hz\n",
"fi = 200 ;  // Hz\n",
"Vo = (((2*%pi*fi)-(2*%pi*fc))/ko);\n",
"disp('The output voltage of switching regulator circuit is = '+string(Vo)+' V '); \n",
"\n",
"//for the i/p frequency fi = 200 Hz\n",
"fi = 2*10^3 ;  // Hz\n",
"Vo = (((2*%pi*fi)-(2*%pi*fc))/ko);\n",
"disp('The output voltage of switching regulator circuit is = '+string(Vo)+' V '); "
   ]
   }
,
{
		   "cell_type": "markdown",
		   "metadata": {},
		   "source": [
			"## Example 9.2: to_find_VCO_output_frequency.sce"
		   ]
		  },
  {
"cell_type": "code",
	   "execution_count": null,
	   "metadata": {
	    "collapsed": true
	   },
	   "outputs": [],
"source": [
"//Example9.2  // to find VCO output frequency\n",
"clc;\n",
"clear;\n",
"close;\n",
"fc = 400  ; // KHz a free running frequency\n",
"f = 10 ;  // KHz  low pass filter bandwidth\n",
"fi = 500 ; // KHz  input frequency\n",
"\n",
"// In PLL a phase detector produces the sum and difference frequencies are defined as\n",
"\n",
"sum = fi+fc ;\n",
"disp('The sum frequency produce by phase detector is = '+string(sum)+' KHz '); \n",
"\n",
"difference = fi-fc ;\n",
"disp('The difference frequency produce by phase detector is = '+string(difference)+' KHz '); \n",
"\n",
"disp('The phase detector frequencies are outside of the low pass filter');\n",
"\n",
"disp('The VCO will be in its free running frequency ');"
   ]
   }
,
{
		   "cell_type": "markdown",
		   "metadata": {},
		   "source": [
			"## Example 9.3: to_determine_the_lock_range_of_PLL.sce"
		   ]
		  },
  {
"cell_type": "code",
	   "execution_count": null,
	   "metadata": {
	    "collapsed": true
	   },
	   "outputs": [],
"source": [
"//Example9.3   // to determine the lock range of PLL\n",
"clc;\n",
"clear;\n",
"close;\n",
"Ko = 25 ; // KHz\n",
"fo = 50 ; // KHz\n",
"A = 2 ;\n",
"Vd = 0.7 ;\n",
"AL = 1 ;\n",
"\n",
"// the amximum output swing of phase detector \n",
"// Vd = Kd*(%pi/2) ;\n",
"\n",
"// the sensitivity of phase detector Kd is\n",
"Kd = Vd*(2/%pi) ;\n",
"disp('The sensitivity of phase detector Kd is = '+string(Kd)+''); \n",
"\n",
"// The maximum control voltage of VCO Vfmax\n",
"Vfmax = (%pi/2)*Kd*A ;\n",
"disp('The maximum control voltage of VCO Vfmax = '+string(Vfmax)+' V'); \n",
"\n",
"// the maximum frequency swing of VCO\n",
"fL = (Ko*Vfmax);\n",
"disp('The maximum frequency swing of VCO = '+string(fL)+' KHz'); \n",
"\n",
"// The maximum range of frequency which lock a PLL are\n",
"fi = fo-fL ;\n",
"disp('The maximum range of frequency which lock a PLL is = '+string(fi)+ ' KHz ');\n",
"\n",
"fi = fo+fL ;\n",
"disp('The maximum range of frequency which lock a PLL is = '+string(fi)+ ' KHz ');\n",
"\n",
"disp('The maximum and minimum rage between 15 KHz to 85 KHZ ')\n",
"\n",
"\n",
"// the lock range is\n",
"fLock = 2*fL ;\n",
"disp('The lock range is = '+string(fLock)+ ' KHz ');"
   ]
   }
,
{
		   "cell_type": "markdown",
		   "metadata": {},
		   "source": [
			"## Example 9.4: to_determine_the_output_frequency_capacitor_charging_time_of_VCO.sce"
		   ]
		  },
  {
"cell_type": "code",
	   "execution_count": null,
	   "metadata": {
	    "collapsed": true
	   },
	   "outputs": [],
"source": [
"//Example9.4   // to determine the output frequency capacitor charging time of VCO\n",
"clc;\n",
"clear;\n",
"close;\n",
"Vcc = 12 ;\n",
"Vcs = 6\n",
"R = 10 ; // K ohm\n",
"C = 1 ; // uF\n",
"\n",
"// the current through the control resistor R\n",
"i =(Vcc-Vcs)/R ;\n",
"disp('The current through the control resistor R is = '+string(i)+ ' mA ');\n",
"\n",
"// The charging time of capacitor \n",
"t = (0.25*Vcc*C)/i ;\n",
"disp('The charging time of capacitor is = '+string(t)+ ' msec ');\n",
"\n",
"// In VCO the capacitor charging and discharging time period are equal ,so the total time period of tringular and square wave forms can be written as 2*t ;\n",
"t = ((0.5*Vcc*C)/i);\n",
"disp('The total time period of tringular and square wave is = '+string(t)+ ' msec ');\n",
"\n",
"// the output frequency of VCO is\n",
"fo = 1/t ;\n",
"disp('The output frequency of VCO is = '+string(fo)+ ' KHz ');"
   ]
   }
,
{
		   "cell_type": "markdown",
		   "metadata": {},
		   "source": [
			"## Example 9.5: to_design_VCO_with_output_square_wave_pulse_time_of_50_msec.sce"
		   ]
		  },
  {
"cell_type": "code",
	   "execution_count": null,
	   "metadata": {
	    "collapsed": true
	   },
	   "outputs": [],
"source": [
"//Example9.5  // to design VCO with output square wave pulse time of 50 msec\n",
"clc;\n",
"clear;\n",
"close;\n",
"Vcc =6 ;\n",
"Vcs = 5 ;\n",
"R = 22 ; //K ohm\n",
"C = 0.02 ; // uF\n",
"t = 50*10^-3 ; // sec   output square wave pluse\n",
"\n",
"// In VCO the capacitor charging and discharging time period are equal ,so the total time period of tringular and square wave forms can be written as 2*t ;\n",
"\n",
"\n",
"// the charging or discharging time of capacitor \n",
"tcap = t/2 ;\n",
"disp('The charging or discharging time of capacitor is = '+string(tcap)+ ' msec ');\n",
"\n",
"// the output frequency of VCO is\n",
"fo = 1/t ;\n",
"disp('The output frequency of VCO is is = '+string(fo)+ ' Hz ');\n",
"\n",
"// the output frequency of VCO\n",
" // fo = (1/4*R*C);\n",
" R = 1/(4*fo*C) ;\n",
"disp('The output frequency of VCO is = '+string(R)+ ' ohm');\n",
"\n",
"// the current through the control resistor R\n",
"i =(Vcc-Vcs)/R ;\n",
"disp('The current through the control resistor R is = '+string(i)+ ' uA ');\n",
"\n",
"// the capacitor charging current \n",
"// (V/t)=(i/C) ;\n",
"V = (i/C)*tcap ;\n",
"disp('The capacitor charging current is = '+string(V)+ ' V = 0.33Vcc ');"
   ]
   }
,
{
		   "cell_type": "markdown",
		   "metadata": {},
		   "source": [
			"## Example 9.6: to_determine_the_center_frequency_of_VCO_lock_and_capture_range_of_PLL.sce"
		   ]
		  },
  {
"cell_type": "code",
	   "execution_count": null,
	   "metadata": {
	    "collapsed": true
	   },
	   "outputs": [],
"source": [
"//Example9.6  // to determine the center frequency of VCO lock and capture range of PLL\n",
"clc;\n",
"clear;\n",
"close;\n",
"R = 15 ; // K ohm\n",
"C = 0.12 ; // uF\n",
"Vcc = 12 ;\n",
"\n",
"// the center frequency of VCO fo\n",
"fo = (1.2/4*R*C);\n",
"disp('The center frequency of VCO is is = '+string(fo)+ ' Hz ');\n",
"\n",
"fo = 4 ; // KHz\n",
"// the lock range of PLL\n",
"fL = (8*fo/Vcc) ;\n",
"disp('The lock range of PLL is = '+string(fL)+ ' KHz/V ');\n",
"\n",
"// the capture range of PLL\n",
"fc = ((fo-fL)/(2*%pi*3.6*10^3*C)^(1/2)) ;\n",
"disp('The lock range of PLL is = '+string(fc)+ ' Hz/V ');"
   ]
   }
,
{
		   "cell_type": "markdown",
		   "metadata": {},
		   "source": [
			"## Example 9.7: determine_the_lock_range_of_the_FSK_demodulator.sce"
		   ]
		  },
  {
"cell_type": "code",
	   "execution_count": null,
	   "metadata": {
	    "collapsed": true
	   },
	   "outputs": [],
"source": [
"//Example9.7  // determine the lock range of the FSK demodulator\n",
"clc;\n",
"clear;\n",
"close;\n",
"Vcc = 12 ;\n",
"Fvco = 0.25*Vcc ;\n",
"f = 200*10^3 ; // KHz\n",
"\n",
"\n",
"// the total time period of VCO \n",
"t = 1/f ;\n",
"disp('The total time period of VCO is = '+string(t)+ ' sec ');\n",
"\n",
"// In VCO the capacitor charging and discharging time period are equal ,so the total time period of tringular and square wave forms can be written as 2*t ;\n",
"\n",
"\n",
"// the charging or discharging time of capacitor \n",
"tcap = t/2 ;\n",
"disp('The charging or discharging time of capacitor is = '+string(tcap)+ ' sec ');\n",
"\n",
"// the voltage swing of VCO for 12 V supply\n",
"Fvco = 0.25*Vcc ;\n",
"disp('The voltage swing of VCO for 12 V supply is = '+string(Fvco)+ ' V ');\n",
"\n",
"// The lock range of PLL \n",
"//FL = (1/2*%pi*f)*(Fvco/tcap);\n",
"FL = (3/(2*%pi*f*tcap));\n",
"disp('The lock range of PLL FL is = '+string(FL)+ ' Hz ');\n",
"\n",
"// the capture range \n",
"fcap = sqrt(f*FL);\n",
"disp('The capture range is = '+string(fcap)+ ' Hz ');"
   ]
   }
],
"metadata": {
		  "kernelspec": {
		   "display_name": "Scilab",
		   "language": "scilab",
		   "name": "scilab"
		  },
		  "language_info": {
		   "file_extension": ".sce",
		   "help_links": [
			{
			 "text": "MetaKernel Magics",
			 "url": "https://github.com/calysto/metakernel/blob/master/metakernel/magics/README.md"
			}
		   ],
		   "mimetype": "text/x-octave",
		   "name": "scilab",
		   "version": "0.7.1"
		  }
		 },
		 "nbformat": 4,
		 "nbformat_minor": 0
}
