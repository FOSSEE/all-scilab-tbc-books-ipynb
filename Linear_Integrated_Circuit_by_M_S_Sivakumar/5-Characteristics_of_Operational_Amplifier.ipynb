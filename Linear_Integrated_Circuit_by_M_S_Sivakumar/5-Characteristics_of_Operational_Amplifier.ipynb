{
"cells": [
 {
		   "cell_type": "markdown",
	   "metadata": {},
	   "source": [
       "# Chapter 5: Characteristics of Operational Amplifier"
	   ]
	},
{
		   "cell_type": "markdown",
		   "metadata": {},
		   "source": [
			"## Example 5.10: EX5_10.sce"
		   ]
		  },
  {
"cell_type": "code",
	   "execution_count": null,
	   "metadata": {
	    "collapsed": true
	   },
	   "outputs": [],
"source": [
"//Example5.10  // To Determine the percent of change in the closed loop gain Af of feedback op-amp circuit\n",
"clc;\n",
"clear;\n",
"close;\n",
"A = 10^5 ;  // open loop gain\n",
"Af = 50 ;  // close loop gain\n",
"beta = 0.01999 ;  // feedback transfer function\n",
"dA = 10^4 ;  // the change in the open llop gain \n",
"\n",
"// close loop gain\n",
"dAf = ((dA)/(1+dA*beta));\n",
"disp('close loop gain dAf is = '+string(dAf)+'');\n",
"\n",
"// the percent change of closed loop gain \n",
"%dAf = (((Af-dAf)/(Af))*100);\n",
"disp('the percent change of closed loop gain dAf is = '+string(%dAf)+'%');"
   ]
   }
,
{
		   "cell_type": "markdown",
		   "metadata": {},
		   "source": [
			"## Example 5.11: To_Determine_the_bandwidth_of_feedback_amplifier.sce"
		   ]
		  },
  {
"cell_type": "code",
	   "execution_count": null,
	   "metadata": {
	    "collapsed": true
	   },
	   "outputs": [],
"source": [
"//Example5.11  // To Determine the bandwidth of feedback amplifier\n",
"clc;\n",
"clear;\n",
"close;\n",
"A = 10^4 ;  // open loop gain\n",
"Af = 50 ;  // close loop gain\n",
"wH = 628 ; //(2*%pi*100)  // rad/sec // open loop bandwidth\n",
"\n",
"// close loop gain of an op-amp is defined as\n",
"// Af = ((A)/(1+A*beta)); \n",
"\n",
"// the feedback transfer function is given as\n",
" beta = (1/Af)-(1/A) ;\n",
" disp('the feedback transfer function beta is = '+string(beta)+'');\n",
"\n",
"// closed loop bandwidth\n",
"wfH = wH*(1+beta*A);\n",
"disp('the closed loop bandwidth wfH is = '+string(wfH)+'');"
   ]
   }
,
{
		   "cell_type": "markdown",
		   "metadata": {},
		   "source": [
			"## Example 5.12: To_calculate_unity_gain_bandwidth_and_maximum_close_loop_gain.sce"
		   ]
		  },
  {
"cell_type": "code",
	   "execution_count": null,
	   "metadata": {
	    "collapsed": true
	   },
	   "outputs": [],
"source": [
"//Example5.12  // To calculate unity gain bandwidth and maximum close loop gain\n",
"clc;\n",
"clear;\n",
"close;\n",
"A = 10^5 ;  // open loop gain\n",
"fo = 10 ; // Hz  // dominant pole frequency\n",
"fdb = 20*10^3 ; //Hz  // 3-db frequency\n",
"\n",
"// the unity gain bandwidth\n",
"f1 = fo*A ;\n",
" disp('the unity gain bandwidth is = '+string(f1)+'Hz');\n",
"\n",
"// the maximum close loop gain\n",
"ACL = (f1/fdb) ;\n",
"disp('the maximum close loop gain ACL is = '+string(ACL)+'');"
   ]
   }
,
{
		   "cell_type": "markdown",
		   "metadata": {},
		   "source": [
			"## Example 5.13: To_calculate_unity_gain_bandwidth_and_maximum_close_loop_gain.sce"
		   ]
		  },
  {
"cell_type": "code",
	   "execution_count": null,
	   "metadata": {
	    "collapsed": true
	   },
	   "outputs": [],
"source": [
"//Example5.13  // To calculate unity gain bandwidth and maximum close loop gain\n",
"clc;\n",
"clear;\n",
"close;\n",
"A = 10^3 ;  // open loop gain\n",
"fo = 60 ; // Hz  // dominant pole frequency\n",
"fdb = 12*10^3 ; //Hz  // 3-db frequency\n",
"\n",
"// the unity gain bandwidth\n",
"f1 = fo*A ;\n",
" disp('the unity gain bandwidth is = '+string(f1)+'Hz');\n",
"\n",
"// the maximum close loop gain\n",
"ACL = (f1/fdb) ;\n",
"disp('the maximum close loop gain ACL is = '+string(ACL)+'');\n",
""
   ]
   }
,
{
		   "cell_type": "markdown",
		   "metadata": {},
		   "source": [
			"## Example 5.14: To_determine_the_dominant_pole_frequency_of_an_op_amp.sce"
		   ]
		  },
  {
"cell_type": "code",
	   "execution_count": null,
	   "metadata": {
	    "collapsed": true
	   },
	   "outputs": [],
"source": [
"//Example5.14  // To determine the dominant pole frequency of an op-amp\n",
"clc;\n",
"clear;\n",
"close;\n",
"Ao = 2*10^5 ;  // low frequency open loop gain\n",
"f = 5*10^6 ; // Hz  // pole frequency\n",
"ACL = 100 ;  // low frequency closed lkoop gain\n",
"p_margin = 80 ; \n",
"\n",
"// the dominant pole frequency of an op-amp\n",
"fPD = (ACL)*(f/Ao);\n",
" disp('the dominant pole frequency (fPD) of an op-amp is = '+string(fPD)+'Hz');\n",
""
   ]
   }
,
{
		   "cell_type": "markdown",
		   "metadata": {},
		   "source": [
			"## Example 5.15: Determine_the_loop_gain_of_compensated_network.sce"
		   ]
		  },
  {
"cell_type": "code",
	   "execution_count": null,
	   "metadata": {
	    "collapsed": true
	   },
	   "outputs": [],
"source": [
"//Example5.15  // Determine the loop gain of compensated network\n",
"clc;\n",
"clear;\n",
"close;\n",
"\n",
"C = 0.0025*10^-6 ; // farad\n",
"R = 10*10^3 ; //  ohm\n",
"F = 1*10^6 ; // Hz\n",
"Ac1 = 100 ;  \n",
"angle1 = 90 ;\n",
"\n",
"// the close loop gain of a compensated network is defined as\n",
"// Ac = Acl*Acom ;\n",
"\n",
"//Acom = 1/(1+%(F/FL));\n",
"\n",
"FL = 1/(2*3.14*R*C);\n",
"disp('FL = '+string(FL/1000)+' KHz ');   // Round Off Error\n",
"\n",
"//  Acom = 1/(1+%j(F/FL));\n",
"// After putting value of F ,FL we get\n",
"\n",
"//  Acom = 1/(1+%j(158.7));  //  1+%j(158.7)  Rectangular Form   where real part is 1 and imaginary part is 158.7\n",
"\n",
"// After converting  rectangular from into polar from we get\n",
" \n",
"disp('Acom =  [ magnitude = 6.3*10^-3   angle = -89.6 degree ]');\n",
"\n",
"//   Ac = Ac1*Acom ;         equation 1\n",
"\n",
"// after putting Ac1 and Acom value in equation 1  we get   Ac1 = 100 angle 90  and Acom = 6.3*10^-3  angle = -89.6    \n",
"\n",
"disp('Ac =  [ magnitude = 0.68   angle = 0.4 degree ]');"
   ]
   }
,
{
		   "cell_type": "markdown",
		   "metadata": {},
		   "source": [
			"## Example 5.16: Determine_the_loop_gain_of_compensated_network.sce"
		   ]
		  },
  {
"cell_type": "code",
	   "execution_count": null,
	   "metadata": {
	    "collapsed": true
	   },
	   "outputs": [],
"source": [
"//Example5.16  // Determine the loop gain of compensated network\n",
"clc;\n",
"clear;\n",
"close;\n",
"\n",
"C = 0.01*10^-6 ; // farad\n",
"R = 15*10^3 ; //  ohm\n",
"F = 1*10^6 ; // Hz\n",
"\n",
"// the close loop gain of a compensated network is defined as\n",
"// Ac = Acl*Acom ;\n",
"\n",
"//Acom = 1/(1+%(F/FL));\n",
"\n",
"FL = 1/(2*3.14*R*C);\n",
"disp('FL = '+string(FL/1000)+' KHz ');   // Round Off Error\n",
"\n",
"//  Acom = 1/(1+%j(F/FL));\n",
"// After putting value of F ,FL we get\n",
"\n",
"//  Acom = 1/(1+%j(0.9));  //  1+%j(0.9)  Rectangular Form   where real part is 1 and imaginary part is 0.9\n",
"\n",
"// After converting  rectangular from into polar from we get\n",
" \n",
"disp('Acom =  [ magnitude = 0.68   angle = -47.7 degree ]');"
   ]
   }
,
{
		   "cell_type": "markdown",
		   "metadata": {},
		   "source": [
			"## Example 5.17: Determine_the_loop_gain_of_compensated_network.sce"
		   ]
		  },
  {
"cell_type": "code",
	   "execution_count": null,
	   "metadata": {
	    "collapsed": true
	   },
	   "outputs": [],
"source": [
"//Example5.17  // Determine the loop gain of compensated network\n",
"clc;\n",
"clear;\n",
"close;\n",
"\n",
"C = 0.5*10^-6 ; // farad\n",
"R = 75 ; //  ohm\n",
"F = 1*10^6 ; // Hz\n",
"Ac1 = 150 ;  \n",
"angle1 = 85 ;\n",
"\n",
"// the close loop gain of a compensated network is defined as\n",
"// Ac = Acl*Acom ;\n",
"\n",
"//Acom = 1/(1+%(F/FL));\n",
"\n",
"FL = 1/(2*3.14*R*C);\n",
"disp('FL = '+string(FL/1000)+' KHz ');   // Round Off Error\n",
"\n",
"//  Acom = 1/(1+%j(F/FL));\n",
"\n",
"// After putting value of  FL we get\n",
"\n",
"//  Acom = 1/(1+%j(F/4.24*10^3));       equation 1\n",
"\n",
"// As F is unknown in above equation 1 \n",
"//  by putting different value of F we get Acom for different frequency\n",
"\n",
"\n",
"// If F = 0 KHz\n",
"\n",
"// Acom = 1/(1+%j(0/4.24*10^3));  \n",
"\n",
"// After solving and converting  rectangular from into polar from we get\n",
" \n",
"disp('Acom for F = 0 KHz =   [ magnitude = 150   angle = 85 degree ]');\n",
"\n",
"\n",
"// If F = 2 KHz\n",
"\n",
"// Acom = 1/(1+%j(2*10^3/4.24*10^3));  \n",
"\n",
"// After solving and converting  rectangular from into polar from we get\n",
" \n",
"disp('Acom for F = 2 KHz=  [  magnitude = 136.4   angle = 64.5 degree ]');\n",
"\n",
"\n",
"// If F = 4 KHz\n",
"\n",
"// Acom = 1/(1+%j(4*10^3/4.24*10^3));  \n",
"\n",
"// After solving and converting  rectangular from into polar from we get\n",
" \n",
"disp('Acom for F = 4 KHz = [ magnitude = 107.14   angle = 41.7 degree ]');\n",
"\n",
"\n",
"// If F = 6 KHz\n",
"\n",
"// Acom = 1/(1+%j(6*10^3/4.24*10^3));  \n",
"\n",
"// After solving and converting  rectangular from into polar from we get\n",
" \n",
"disp('Acom for F = 6 KHz =  [ magnitude = 88.24   angle = 30.25 degree ]');\n",
"\n",
"\n",
"\n",
"// If F = 8 KHz\n",
"\n",
"// Acom = 1/(1+%j(8*10^3/4.24*10^3));  \n",
"\n",
"// After solving and converting  rectangular from into polar from we get\n",
" \n",
"disp('Acom for F = 8 KHz  =  [ magnitude = 71.4   angle = 23 degree ]');\n",
"\n",
"\n",
"\n",
"// If F = 10 KHz\n",
"\n",
"// Acom = 1/(1+%j(10*10^3/4.24*10^3));  \n",
"\n",
"// After solving and converting  rectangular from into polar from we get\n",
" \n",
"disp('Acom  for F = 10 KHz =   [ magnitude = 58.59  angle = 18 degree ]');\n",
"\n",
"\n",
"\n",
"// If F = 20 KHz\n",
"\n",
"// Acom = 1/(1+%j(20*10^3/4.24*10^3));  \n",
"\n",
"// After solving and converting  rectangular from into polar from we get\n",
" \n",
"disp('Acom for F = 20 KHz =  [ magnitude = 31.12   angle = 7 degree ]');\n",
"\n",
"\n",
"\n",
"// If F = 40 KHz\n",
"\n",
"// Acom = 1/(1+%j(40*10^3/4.24*10^3));  \n",
"\n",
"// After solving and converting  rectangular from into polar from we get\n",
" \n",
"disp('Acom  for F = 40 KHz =  [ magnitude = 15.9   angle = 1.1 degree ]');\n",
"\n",
"\n",
"\n",
"\n",
"\n",
"// If F = 80 KHz\n",
"\n",
"// Acom = 1/(1+%j(80*10^3/4.24*10^3));  \n",
"\n",
"// After solving and converting  rectangular from into polar from we get\n",
" \n",
"disp('Acom for F = 80 KHz =  [ magnitude = 7.9  angle = -2 degree ]');\n",
"\n",
"\n",
"\n",
"\n",
"// If F = 100 KHz\n",
"\n",
"// Acom = 1/(1+%j(100*10^3/4.24*10^3));  \n",
"\n",
"// After solving and converting  rectangular from into polar from we get\n",
" \n",
"disp('Acom for F = 100 KHz =  [ magnitude = 6.4   angle = -2.6 degree ]');\n",
"\n",
"\n",
"\n",
"\n",
"// If F = 200 KHz\n",
"\n",
"// Acom = 1/(1+%j(200*10^3/4.24*10^3));  \n",
"\n",
"// After solving and converting  rectangular from into polar from we get\n",
" \n",
"disp('Acom for F = 200 KHz =  [ magnitude = 3.18  angle = -3.8 degree ]');\n",
"\n",
"\n",
"\n",
"// If F = 400 KHz\n",
"\n",
"// Acom = 1/(1+%j(400*10^3/4.24*10^3));  \n",
"\n",
"// After solving and converting  rectangular from into polar from we get\n",
" \n",
"disp('Acom for F = 400 KHz =  [ magnitude = 1.59   angle = -4.4 degree ]');\n",
"\n",
"\n",
"// If F = 800 KHz\n",
"\n",
"// Acom = 1/(1+%j(800*10^3/4.24*10^3));  \n",
"\n",
"// After solving and converting  rectangular from into polar from we get\n",
" \n",
"disp('Acom for F = 800 KHz =  [ magnitude = 0.79   angle = -4.7 degree ]');\n",
"\n",
"\n",
"// If F = 1 MHz\n",
"\n",
"// Acom = 1/(1+%j(1*10^6/4.24*10^3));  \n",
"\n",
"// After solving and converting  rectangular from into polar from we get\n",
" \n",
"disp('Acom for F = 1 MHz =  [ magnitude = 0.64   angle = -4.7 degree ]');\n",
"\n",
"\n",
"// If F = 1.2 MHz\n",
"\n",
"// Acom = 1/(1+%j(1.2*10^6/4.24*10^3));  \n",
"\n",
"// After solving and converting  rectangular from into polar from we get\n",
" \n",
"disp('Acom for F = 1.2 MHz =  [ magnitude = 0.52   angle = -4.7 degree ]');\n",
"\n",
"\n",
"\n",
"// If F = 1.4 MHz\n",
"\n",
"// Acom = 1/(1+%j(1.4*10^6/4.24*10^3));  \n",
"\n",
"// After solving and converting  rectangular from into polar from we get\n",
" \n",
"disp('Acom for F = 1.4 MHz =  [ magnitude = 0.45   angle = -4.7 degree ]');\n",
"\n",
"\n",
"// If F = 1.6 MHz\n",
"\n",
"// Acom = 1/(1+%j(1.6*10^6/4.24*10^3));  \n",
"\n",
"// After solving and converting  rectangular from into polar from we get\n",
" \n",
"disp('Acom for F = 1.6 MHz =  [ magnitude = 0.4   angle = -4.7 degree ]');"
   ]
   }
,
{
		   "cell_type": "markdown",
		   "metadata": {},
		   "source": [
			"## Example 5.18: to_design_compensating_network.sce"
		   ]
		  },
  {
"cell_type": "code",
	   "execution_count": null,
	   "metadata": {
	    "collapsed": true
	   },
	   "outputs": [],
"source": [
"//Example5.18  // to design compensating network\n",
"clc;\n",
"clear;\n",
"close;\n",
"fp = 500*10^3 ;  // pole frequency\n",
"C = 0.02*10^-6 ; // F  // we choose\n",
"// loop gain of compensated network\n",
"\n",
"// ACom =(1)/(1+j(f/fp))\n",
"// fp = (1/2*pie*R*C)\n",
"R = (1/(2*3.14*C*fp));\n",
"disp('The compensating resistor value is = '+string(R)+' ohm ');\n",
"\n",
""
   ]
   }
,
{
		   "cell_type": "markdown",
		   "metadata": {},
		   "source": [
			"## Example 5.19: Determine_the_loop_gain_of_compensated_network.sce"
		   ]
		  },
  {
"cell_type": "code",
	   "execution_count": null,
	   "metadata": {
	    "collapsed": true
	   },
	   "outputs": [],
"source": [
"//Example5.19  // Determine the loop gain of compensated network\n",
"clc ;\n",
"clear ;\n",
"close ;\n",
"\n",
"C = 0.0025*10^-6 ; // farad\n",
"R1 = 10*10^3 ; //  ohm\n",
"R2 = 20*10^3 ; //  ohm\n",
"F = 1*10^6 ; // Hz\n",
"Ac1 = 100 ;  \n",
"angle1 = 90 ;\n",
"\n",
"// the close loop gain of a compensated network is defined as\n",
"\n",
"// Ac = Acl*Acom ;\n",
"\n",
"//Acom = (1+%(F/FH))/(1+%(F/FL));\n",
"\n",
"FH = 1/(2*3.14*R1*C);\n",
"disp('FH = '+string(FH/1000)+' KHz ');   // Round Off Error\n",
"\n",
"\n",
"FL = 1/(2*3.14*(R1+R2)*C);\n",
"disp('FL = '+string(FL/1000)+' KHz ');   // Round Off Error\n",
"\n",
"\n",
"//Acom = (1+%(F/FH))/(1+%(F/FL));\n",
"\n",
"// After putting value of FH ,FL we get\n",
"\n",
"//  Acom = (1+%j(158.7))/(1+%j(471.7) \n",
"\n",
"// After converting  rectangular from into polar from we get\n",
" \n",
"disp('Acom =  [ magnitude = 0.34   angle = -0.24 degree ]');\n",
"\n",
"//   Ac = Ac1*Acom ;         equation 1\n",
"\n",
"// after putting Ac1 and Acom value in equation 1  we get   Ac1 = 100 angle 90  and Acom = 0.34  angle = -0.24    \n",
"\n",
"disp('Ac = [ magnitude = 34   angle = 89.76 degree ]');"
   ]
   }
,
{
		   "cell_type": "markdown",
		   "metadata": {},
		   "source": [
			"## Example 5.1: find_the_total_offset_voltage_of_feedback_op_amp.sce"
		   ]
		  },
  {
"cell_type": "code",
	   "execution_count": null,
	   "metadata": {
	    "collapsed": true
	   },
	   "outputs": [],
"source": [
"//Example5.1 // find the total offset voltage of feedback op-amp\n",
"clc;\n",
"clear; \n",
"close;\n",
"Vos = 4 ; //mV  // input offset volt\n",
"Ios = 150*10^-3 ; // input offset current\n",
"R1 = 5 ; //kilo ohm  // input resistance\n",
"R2 = 500 ; //kilo ohm  // feedback resistance\n",
"\n",
"// the output voltage (Vo) of an op-amp circuit due to input offset voltage (Vos) is\n",
"Vo1 = ((R1+R2)/(R1)*Vos) ;\n",
"disp(' the output voltage (Vo) of an op-amp circuit due to input offset voltage (Vos) is = '+string(Vo1)+' mV ');\n",
"\n",
"// the output voltage (Vo) of an op-amp circuit due to input offset current (Ios) is\n",
"Vo2 = R2*Ios ;\n",
"disp(' the output voltage (Vo) of an op-amp circuit due to input offset current (Ios) is = '+string(Vo2)+' mV ');\n",
"\n",
"// the total offset voltage is\n",
"Vo = Vo1+Vo2 ;\n",
"disp(' the total offset voltage (Vo) of an op-amp circuit is = '+string(Vo)+' mV ');"
   ]
   }
,
{
		   "cell_type": "markdown",
		   "metadata": {},
		   "source": [
			"## Example 5.20: Determine_the_loop_gain_of_compensated_network.sce"
		   ]
		  },
  {
"cell_type": "code",
	   "execution_count": null,
	   "metadata": {
	    "collapsed": true
	   },
	   "outputs": [],
"source": [
"\n",
"//Example5.20  // Determine the loop gain of compensated network\n",
"clc ;\n",
"clear ;\n",
"close ;\n",
"\n",
"C = 0.01*10^-6 ; // farad\n",
"R1 = 10*10^3 ; //  ohm\n",
"R2 = 15*10^3 ; //  ohm\n",
"F = 1*10^6 ; // Hz\n",
"\n",
"\n",
"// the close loop gain of a compensated network is defined as\n",
"\n",
"//Acom = (1+%(F/FH))/(1+%(F/FL));\n",
"\n",
"FH = 1/(2*3.14*R1*C);\n",
"disp('FH = '+string(FH/1000)+' KHz ');   // Round Off Error\n",
"\n",
"\n",
"FL = 1/(2*3.14*(R1+R2)*C);\n",
"disp('FL = '+string(FL/1000)+' KHz ');   // Round Off Error\n",
"\n",
"\n",
"//Acom = (1+%(F/FH))/(1+%(F/FL));\n",
"\n",
"// After putting value of FH ,FL we get\n",
"\n",
"//  Acom = (1+%j(658.9))/(1+%j(1.56*10^3) \n",
"\n",
"// After converting  rectangular from into polar from we get\n",
" \n",
"disp('Acom =   [magnitude = 0.4]  ');"
   ]
   }
,
{
		   "cell_type": "markdown",
		   "metadata": {},
		   "source": [
			"## Example 5.21: to_design_compensating_network.sce"
		   ]
		  },
  {
"cell_type": "code",
	   "execution_count": null,
	   "metadata": {
	    "collapsed": true
	   },
	   "outputs": [],
"source": [
"//Example5.21  // to design compensating network\n",
"clc;\n",
"clear;\n",
"close;\n",
"fH = 10 ; //k ohm // break frequency initiated by a zero\n",
"fL = 1 ;  //k ohm // break frequency initiated by a pole\n",
"C = 0.02; // uF  // we choose\n",
"// loop gain of compensated network\n",
"\n",
"// ACom =(1+j(f/fH))/(1+j(f/fL))\n",
"// fH = (1/2*pie*R1*C)\n",
"// fL = (1/2*pie*(R1+R2)*C)\n",
"R1 = (1/(2*3.14*C*fH));\n",
"disp('The compensating first resistor R1 value is = '+string(R1)+' K ohm ');\n",
"R2 = ((1)/(2*3.14*C*fL))-(R1);\n",
"disp('The compensating second resistor R2 value is = '+string(R2)+' K ohm ');"
   ]
   }
,
{
		   "cell_type": "markdown",
		   "metadata": {},
		   "source": [
			"## Example 5.22: To_determine_input_output_miller_capacitances.sce"
		   ]
		  },
  {
"cell_type": "code",
	   "execution_count": null,
	   "metadata": {
	    "collapsed": true
	   },
	   "outputs": [],
"source": [
"//Example5.22 // To determine input output miller capacitances\n",
"clc;\n",
"clear;\n",
"close;\n",
"A = 100 ; //gain\n",
"Cm = 0.1 ;  // uF // compensated capacitor\n",
"\n",
"// the input output miller capacitance are defined as\n",
"Cin = Cm*(A+1);\n",
"disp('The input miller capacitance Cin value is = '+string(Cin)+'uF ');\n",
"Cout = (Cm*((A+1)/A)); \n",
"disp('The output miller capacitance Cout value is = '+string(Cout)+'uF ');"
   ]
   }
,
{
		   "cell_type": "markdown",
		   "metadata": {},
		   "source": [
			"## Example 5.23: To_determine_input_output_miller_capacitances.sce"
		   ]
		  },
  {
"cell_type": "code",
	   "execution_count": null,
	   "metadata": {
	    "collapsed": true
	   },
	   "outputs": [],
"source": [
"//Example5.23  // To determine input output miller capacitances\n",
"clc;\n",
"clear;\n",
"close;\n",
"A = 150 ; //gain\n",
"Cm = 0.02 ;  // uF // compensated capacitor\n",
"\n",
"// the input output miller capacitance are defined as\n",
"Cin = Cm*(A+1);\n",
"disp('The input miller capacitance Cin value is = '+string(Cin)+'uF ');\n",
"Cout = (Cm*((A+1)/A)); \n",
"disp('The output miller capacitance Cout value is = '+string(Cout)+'uF ');\n",
"\n",
"// In the miller compensating network input capacitance introduce a pole . The initiated frequency of miller compensating network by pole is define as\n",
"\n",
"// fp = 1/(2*%pi*R*Cin);\n",
"R = 1 ; // K ohm\n",
"fp = 1/(2*%pi*R*Cout);\n",
"disp('The initiated frequency of miller compensating network by pole is = '+string(fp)+' KHz ');"
   ]
   }
,
{
		   "cell_type": "markdown",
		   "metadata": {},
		   "source": [
			"## Example 5.24: To_determine_the_slew_rate_of_an_op_amp.sce"
		   ]
		  },
  {
"cell_type": "code",
	   "execution_count": null,
	   "metadata": {
	    "collapsed": true
	   },
	   "outputs": [],
"source": [
"//Example5.24  // To determine the slew rate of an op-amp\n",
"clc;\n",
"clear;\n",
"close;\n",
"f = 1 ; // MHz // unity frequency\n",
"Ic = 1*10^-6 ;  // uA // capacitor current\n",
"Vt = 0.7 ; // V  // threshold voltage\n",
"\n",
"// the slew rate of an op-amp is defined as\n",
"// Slew rate = (dVo/dt)\n",
"Slewrate = 8*3.14*Vt*f ;\n",
"disp('the slew rate of an op-amp is = '+string(Slewrate)+' V/u sec ');\n",
"\n",
"// The compansated capacitance Cm is\n",
"gm = (Ic/Vt);\n",
"Cm = (gm/4*3.14*f) ;\n",
"disp('The compansated capacitance value is = '+string(Cm)+'F ');\n",
"\n",
""
   ]
   }
,
{
		   "cell_type": "markdown",
		   "metadata": {},
		   "source": [
			"## Example 5.25: To_determine_the_cut_off_frequency_of_an_op_amp.sce"
		   ]
		  },
  {
"cell_type": "code",
	   "execution_count": null,
	   "metadata": {
	    "collapsed": true
	   },
	   "outputs": [],
"source": [
"//Example5.25  // To determine the cut off frequency of an op-amp\n",
"clc;\n",
"clear;\n",
"close;\n",
"f = 1*10^3 ; // Hz // unity frequency\n",
"Av = 200 ; // V/mV  // dc gain\n",
"\n",
"// the unity gain frequency of an op-amp is defined as\n",
"// f = Av*fc ;\n",
"\n",
"// cut off frequency\n",
"fc = (f/Av);\n",
"disp('Cut -off frequency of an op-amp is = '+string(fc)+' Hz ');"
   ]
   }
,
{
		   "cell_type": "markdown",
		   "metadata": {},
		   "source": [
			"## Example 5.26: To_find_the_maximum_frequency_of_input_signal_in_op_amp_circuit.sce"
		   ]
		  },
  {
"cell_type": "code",
	   "execution_count": null,
	   "metadata": {
	    "collapsed": true
	   },
	   "outputs": [],
"source": [
"\n",
"//Example5.26  // To find the maximum frequency of input signal in op-amp circuit\n",
"clc;\n",
"clear;\n",
"close;\n",
"Vin = 25*10^-3 ; // V  // input voltage\n",
"Slewrate = 0.8/10^-6 ;  // V/uV   // Slew rate of an op-amp\n",
"R2 = 350*10^3 ;  //  ohm  // feedback resistance\n",
"R1 = 10*10^3 ;  // ohm  // input resistance\n",
"\n",
"// the closed loop gain\n",
"// ACL = (mod (Vo/Vin)) = (mod(R2/R1));\n",
"ACL = abs(R2/R1);\n",
"disp('the closed loop gain ACL is = '+string(ACL)+' ');\n",
"\n",
"// the output gain factor K is given as\n",
"K = ACL*Vin ;\n",
"disp('The output gain factor K is = '+string(K)+' V');\n",
"\n",
"// the maximum frequency of an op-amp is\n",
"wmax = (Slewrate/K);\n",
"fmax = wmax/(2*3.14);\n",
"disp('The maximum frequency of an op-amp fmax = '+string(fmax/1000)+' KHz');"
   ]
   }
,
{
		   "cell_type": "markdown",
		   "metadata": {},
		   "source": [
			"## Example 5.27: To_find_the_maximum_frequency_of_op_amp_circuit.sce"
		   ]
		  },
  {
"cell_type": "code",
	   "execution_count": null,
	   "metadata": {
	    "collapsed": true
	   },
	   "outputs": [],
"source": [
"//Example5.27  // To find the maximum frequency of op-amp circuit\n",
"clc;\n",
"clear;\n",
"close;\n",
"Vin = 0.015 ; // V  // input voltage\n",
"Slewrate = 0.8 ;  // V/uV   // Slew rate of an op-amp\n",
"R2 = 120*10^3 ;  //  ohm  // feedback resistance\n",
"R1 = 5*10^3 ;  // ohm  // input resistance\n",
"\n",
"// the closed loop gain\n",
"// ACL = (mod (Vo/Vin)) = (mod(R2/R1));\n",
"ACL = abs(R2/R1);\n",
"disp('the closed loop gain ACL is = '+string(ACL)+' ');\n",
"\n",
"// the output gain factor K is given as\n",
"K = ACL*Vin ;\n",
"disp('The output gain factor K is = '+string(K)+' V');\n",
"\n",
"// the maximum frequency of an op-amp is\n",
"wmax = (Slewrate/K);\n",
"disp('The wmax is = '+string(wmax)+'*10^6 rad/sec'); // *10^6 because Slewrate is V/uV \n",
"\n",
"// the signal frequency may be w = 500*10^3 rad/sec  that is less than the maximum frequency value"
   ]
   }
,
{
		   "cell_type": "markdown",
		   "metadata": {},
		   "source": [
			"## Example 5.28: To_determine_the_compensated_capacitance_of_an_op_amp.sce"
		   ]
		  },
  {
"cell_type": "code",
	   "execution_count": null,
	   "metadata": {
	    "collapsed": true
	   },
	   "outputs": [],
"source": [
"//Example5.28  // To determine the compensated capacitance of an op-amp\n",
"clc;\n",
"clear;\n",
"close;\n",
"Slewrate = 10 ; // V/u sec\n",
"Ic = 1*10^-3 ;  // mA // capacitor current\n",
"Vt = 0.7 ; // V  // threshold voltage\n",
"\n",
"// the slew rate of an op-amp is defined as\n",
"// Slew rate = (dVo/dt)\n",
"// the unity frequency f is\n",
"f =(Slewrate/(8*3.14*Vt));\n",
"f = f*10^6;  // *10^6 because Slew rate is V/uV \n",
"disp('the unity frequency f is = '+string(f)+' Hz ');\n",
"\n",
"// The compansated capacitance Cm is\n",
"gm = (Ic/Vt);\n",
"Cm = (gm)/(4*3.14*f) ;\n",
"disp('The compansated capacitance Cm value is = '+string(Cm)+' F ');\n",
"\n",
"\n",
""
   ]
   }
,
{
		   "cell_type": "markdown",
		   "metadata": {},
		   "source": [
			"## Example 5.29: To_find_Slew_rate_of_an_op_amp.sce"
		   ]
		  },
  {
"cell_type": "code",
	   "execution_count": null,
	   "metadata": {
	    "collapsed": true
	   },
	   "outputs": [],
"source": [
"//Example5.29  // To find Slew rate of an op-amp\n",
"clc;\n",
"clear;\n",
"close;\n",
"Iq = 15 ; // uA  // bias current\n",
"Cm = 30  ; // pF  // internal frequency compensated capacitor\n",
"Slewrate = (Iq/Cm);\n",
"disp('the Slew rate of an op-amp is = '+string(Slewrate)+' V/u sec');"
   ]
   }
,
{
		   "cell_type": "markdown",
		   "metadata": {},
		   "source": [
			"## Example 5.2: find_the_total_offset_voltage_of_feedback_op_amp.sce"
		   ]
		  },
  {
"cell_type": "code",
	   "execution_count": null,
	   "metadata": {
	    "collapsed": true
	   },
	   "outputs": [],
"source": [
"//Example5.2 // find the total offset voltage of feedback op-amp\n",
"clc;\n",
"clear; \n",
"close;\n",
"Vos = 2 ; //mV  // input offset volt\n",
"Ios = 20*10^-3 ; // input offset current\n",
"R1 = 10 ; //kilo ohm  // input resistance\n",
"R2 = 250 ; //kilo ohm  // feedback resistance\n",
"\n",
"// the output voltage (Vo) of an op-amp circuit due to input offset voltage (Vos) is\n",
"Vo1 = ((R1+R2)/(R1)*Vos) ;\n",
"disp(' the output voltage (Vo) of an op-amp circuit due to input offset voltage (Vos) is = '+string(Vo1)+' mV ');\n",
"\n",
"// the output voltage (Vo) of an op-amp circuit due to input offset current (Ios) is\n",
"Vo2 = R2*Ios ;\n",
"disp(' the output voltage (Vo) of an op-amp circuit due to input offset current (Ios) is = '+string(Vo2)+' mV ');\n",
"\n",
"// the total offset voltage is\n",
"Vo = Vo1+Vo2 ;\n",
"disp(' the total offset voltage (Vo) of an op-amp circuit is = '+string(Vo)+' mV ');\n",
""
   ]
   }
,
{
		   "cell_type": "markdown",
		   "metadata": {},
		   "source": [
			"## Example 5.30: To_find_Slew_rate_of_an_op_amp.sce"
		   ]
		  },
  {
"cell_type": "code",
	   "execution_count": null,
	   "metadata": {
	    "collapsed": true
	   },
	   "outputs": [],
"source": [
"//Example5.30 // To find Slew rate of an op-amp\n",
"clc;\n",
"clear;\n",
"close;\n",
"Iq = 21 ; // uA  // bias current\n",
"Cm = 31  ; // pF  // internal frequency compensated capacitor\n",
"Slewrate = (Iq/Cm);\n",
"disp('the Slew rate of an op-amp is = '+string(Slewrate)+' V/u sec');\n",
""
   ]
   }
,
{
		   "cell_type": "markdown",
		   "metadata": {},
		   "source": [
			"## Example 5.31: To_determine_full_power_and_small_signal_bandwidth_of_an_op_amp_with_unity_gain.sce"
		   ]
		  },
  {
"cell_type": "code",
	   "execution_count": null,
	   "metadata": {
	    "collapsed": true
	   },
	   "outputs": [],
"source": [
"//Example5.31  // To determine full power and small signal bandwidth of an op-amp with unity gain\n",
"clc;\n",
"clear;\n",
"close;\n",
"f = 100*10^6 ; // Hz  unity gain bandwidth\n",
"ACL = 10^4 ; // maximum closed loop gain\n",
"Slewrate = 0.51 ; // V/u sec\n",
"Vp = 10 ; // V peak volt\n",
"\n",
"// The full power bandwidth\n",
"FPBW = (Slewrate/(2*3.14*Vp));\n",
"FPBW = FPBW*10^6 ;  // *10^6 because Slew rate is V/uV \n",
"disp('The full power bandwidth FPBW is = '+string(FPBW)+' Hz ');\n",
"\n",
"// the 3-db frequency or small signal band width \n",
"f3db = (f/ACL);\n",
"disp('The 3-db frequency or small signal band width f3db is = '+string(f3db)+' Hz ');\n",
"\n",
"\n",
"\n",
""
   ]
   }
,
{
		   "cell_type": "markdown",
		   "metadata": {},
		   "source": [
			"## Example 5.32: To_determine_full_power_and_small_signal_bandwidth_of_an_op_amp_with_unity_gain.sce"
		   ]
		  },
  {
"cell_type": "code",
	   "execution_count": null,
	   "metadata": {
	    "collapsed": true
	   },
	   "outputs": [],
"source": [
"//Example5.32  // To determine full power and small signal bandwidth of an op-amp with unity gain\n",
"clc;\n",
"clear;\n",
"close;\n",
"f = 100*10^6 ; // Hz  unity gain bandwidth\n",
"ACL = 10^4 ; // maximum closed loop gain\n",
"Slewrate = 0.51 ; // V/u sec\n",
"Vp = 10 ; // V peak volt\n",
"\n",
"// The full power bandwidth\n",
"FPBW = (Slewrate/(2*3.14*Vp));\n",
"FPBW = FPBW*10^6 ;  // *10^6 because Slew rate is V/uV \n",
"disp('The full power bandwidth FPBW is = '+string(FPBW)+' Hz ');\n",
"\n",
"// the 3-db frequency or small signal band width \n",
"f3db = (f/ACL);\n",
"disp('The 3-db frequency or small signal band width f3db is = '+string(f3db)+' Hz ');\n",
"\n",
"\n",
"\n",
"\n",
""
   ]
   }
,
{
		   "cell_type": "markdown",
		   "metadata": {},
		   "source": [
			"## Example 5.33: To_find_Slew_rate_and_closed_loop_gain_of_an_op_amp.sce"
		   ]
		  },
  {
"cell_type": "code",
	   "execution_count": null,
	   "metadata": {
	    "collapsed": true
	   },
	   "outputs": [],
"source": [
"//Example5.33 // To find Slew rate and closed loop gain of an op-amp\n",
"clc;\n",
"clear;\n",
"close;\n",
"fu = 1*10^6 ; // Hz  // unity gain bandwidth\n",
"fmax = 5*10^3 ; // KHz  // full power bandwidth\n",
"F3db = 12*10^3 ; // Hz  // small signal bandwidth\n",
"Vp = 10 ; // V  // peak volt\n",
"\n",
"// the full power bandwidth of an op-amp\n",
"// fmax=FPBW = (Slew rate/2*3.14*Vp);\n",
"Slewrate = 2*3.14*Vp*fmax;\n",
"Slewrate = Slewrate*(10^-6);  // *10^-6 because Slewrate is V/u \n",
"disp('the Slew rate of an op-amp is = '+string(Slewrate)+' V/u sec ');\n",
"\n",
"// // the 3-db frequency or small signal band width \n",
"//f3db = (f/ACL);\n",
"//the closed loop gain ACL\n",
"ACL = fu/F3db ;\n",
"disp('The closed loop gain ACL is = '+string(ACL)+' ');"
   ]
   }
,
{
		   "cell_type": "markdown",
		   "metadata": {},
		   "source": [
			"## Example 5.3: find_the_input_offset_voltage_of_an_op_amp_circuit.sce"
		   ]
		  },
  {
"cell_type": "code",
	   "execution_count": null,
	   "metadata": {
	    "collapsed": true
	   },
	   "outputs": [],
"source": [
"//Example5.3 // find the input offset voltage of an op-amp circuit\n",
"clc;\n",
"clear; \n",
"close;\n",
"Vo = 90.2 ; //mV  // output voltage\n",
"R1 = 2 ; //kilo ohm  // input resistence\n",
"R2 = 150 ; //kilo ohm  // feedback resistence\n",
"\n",
"// the input offset voltage (Vos) of an op-amp circuit is defined as\n",
"Vos = ((R1)/(R1+R2)*Vo) ;\n",
"disp('the input offset voltage (Vos) of an op-amp circuit is = '+string(Vos)+' mV ');"
   ]
   }
,
{
		   "cell_type": "markdown",
		   "metadata": {},
		   "source": [
			"## Example 5.4: find_the_output_voltage_of_an_op_amp_circuit.sce"
		   ]
		  },
  {
"cell_type": "code",
	   "execution_count": null,
	   "metadata": {
	    "collapsed": true
	   },
	   "outputs": [],
"source": [
"//Example5.4 // find the output voltage of an op-amp circuit\n",
"clc;\n",
"clear; \n",
"close;\n",
"Vos = 1 ; //mV  // input offset volt\n",
"R1 = 10 ; //kilo ohm  // input resistance\n",
"R2 = 350 ; //kilo ohm  // feedback resistance\n",
"\n",
"// the output voltage due to the input offset voltage of the op-amp circuit is defined by\n",
"Vo1 = ((R1+R2)/(R1)*Vos) ;\n",
"disp('the output voltage due to the input offset voltage  is = '+string(Vo1)+' mV ');"
   ]
   }
,
{
		   "cell_type": "markdown",
		   "metadata": {},
		   "source": [
			"## Example 5.5: Determine_the_bias_current_effect_with_and_without_current_compensation_method.sce"
		   ]
		  },
  {
"cell_type": "code",
	   "execution_count": null,
	   "metadata": {
	    "collapsed": true
	   },
	   "outputs": [],
"source": [
"//Example5.5 // Determine the bias current effect with and without current compensation method\n",
"clc;\n",
"clear; \n",
"close;\n",
"R1 = 10 ; //kilo ohm\n",
"R2 = 100 ; //kilo ohm\n",
"Ib1 = 1.1*10^-3 ;\n",
"Ib2 = 1*10^-3 ; \n",
"// the output voltage of the circuit due to bias current is\n",
"Vo = Ib1*R2 ;\n",
"disp('the output voltage of the circuit due to bias current is = '+string(Vo)+' V ');\n",
"\n",
"//Bias compensated resistor is given by\n",
"R3 = (R1*R2)/(R1+R2) ;\n",
"disp('Bias compensated resistor is = '+string(R3)+' kilo ohm ');\n",
"\n",
"//Bias compensated output voltage is given by\n",
"Vo = R2*(Ib1-Ib2);\n",
"disp('Bias compensated output voltage is = '+string(Vo)+' V ');"
   ]
   }
,
{
		   "cell_type": "markdown",
		   "metadata": {},
		   "source": [
			"## Example 5.6: find_the_input_offset_current_of_an_op_amp_circuit.sce"
		   ]
		  },
  {
"cell_type": "code",
	   "execution_count": null,
	   "metadata": {
	    "collapsed": true
	   },
	   "outputs": [],
"source": [
"//Example5.6 // find the input offset current of an op-amp circuit\n",
"clc;\n",
"clear; \n",
"close;\n",
"Vo = 12*10^-3; // V  // output voltage\n",
"R1 = 2*10^3 ; // ohm  // input resistence\n",
"R2 = 150*10^3; // ohm  // feedback resistence\n",
"\n",
"// the output voltage (Vo) of an op-amp circuit due to input offset current (Ios) is\n",
"// Vo = R2*Ios ;\n",
"Ios = Vo/R2;\n",
"disp('the output voltage (Vo) of an op-amp circuit due to input offset current (Ios) is = '+string(Ios)+' A ');\n",
""
   ]
   }
,
{
		   "cell_type": "markdown",
		   "metadata": {},
		   "source": [
			"## Example 5.7: Determine_the_bias_current_of_inverting_and_non_inverting.sce"
		   ]
		  },
  {
"cell_type": "code",
	   "execution_count": null,
	   "metadata": {
	    "collapsed": true
	   },
	   "outputs": [],
"source": [
"//Example5.7 // Determine the bias current of inverting and non-inverting\n",
"clc;\n",
"clear;\n",
"close;\n",
"Ios = 5 ; //nA // input offset current\n",
"Ib = 30 ; //nA // input bias current\n",
"\n",
"// the input bias current of an op-amp is \n",
"\n",
"//Ib =(Ib1+Ib2)/(2);\n",
"\n",
"// the offset current Ios is define as\n",
"\n",
"//Ios = abs(Ib1-Ib2) ;\n",
"\n",
"Ib1=Ib-(Ios/2);\n",
"disp('The current in the inverting input terminal is = '+string(Ib1)+' nA ');\n",
"\n",
"Ib2 =Ib+(Ios/2);\n",
"disp('The current in the non-inverting input terminal is= '+string(Ib2)+' nA ');"
   ]
   }
,
{
		   "cell_type": "markdown",
		   "metadata": {},
		   "source": [
			"## Example 5.8: EX5_8.sce"
		   ]
		  },
  {
"cell_type": "code",
	   "execution_count": null,
	   "metadata": {
	    "collapsed": true
	   },
	   "outputs": [],
"source": [
"//Example5.8 //determine the feedback transfer function of an op-amp for the following condition\n",
"clc;\n",
"clear;\n",
"close;\n",
"// a) When open loop gain of 10^5 and the closed loop gain of 100\n",
"A = 10^5 ; // open loop gain\n",
"Af = 100 ; //closed loop gain\n",
"// Feedback transfer function is\n",
"beta =(1/Af)-(1/A);\n",
"disp('Feedback transfer function is = '+string(beta)+'');\n",
"beta = 1/beta ;\n",
"disp('OR 1/Beta  is = '+string(beta)+'');\n",
"\n",
"// For an open loop gain of -10^5 and closed loop gain of -100\n",
"A = -10^5 ; // open loop gain\n",
"Af = -100 ; //closed loop gain\n",
"// Feedback transfer function is\n",
"beta =(1/Af)-(1/A);\n",
"disp('Feedback transfer function is = '+string(beta)+'');\n",
"beta = 1/beta ;\n",
"disp('OR 1/Beta  is = '+string(beta)+'');\n",
""
   ]
   }
,
{
		   "cell_type": "markdown",
		   "metadata": {},
		   "source": [
			"## Example 5.9: to_determine_open_loop_gain.sce"
		   ]
		  },
  {
"cell_type": "code",
	   "execution_count": null,
	   "metadata": {
	    "collapsed": true
	   },
	   "outputs": [],
"source": [
"//Example5.9 //to determine open loop gain\n",
"clc;\n",
"clear;\n",
"close;\n",
"beta = 0.0120 ; // Feedback transfer function\n",
"Af = 80 ; //closed loop gain\n",
"A = (Af)/(1-beta*Af) ;\n",
"disp('open loop gain is = '+string(A)+'');"
   ]
   }
],
"metadata": {
		  "kernelspec": {
		   "display_name": "Scilab",
		   "language": "scilab",
		   "name": "scilab"
		  },
		  "language_info": {
		   "file_extension": ".sce",
		   "help_links": [
			{
			 "text": "MetaKernel Magics",
			 "url": "https://github.com/calysto/metakernel/blob/master/metakernel/magics/README.md"
			}
		   ],
		   "mimetype": "text/x-octave",
		   "name": "scilab",
		   "version": "0.7.1"
		  }
		 },
		 "nbformat": 4,
		 "nbformat_minor": 0
}
