{
"cells": [
 {
		   "cell_type": "markdown",
	   "metadata": {},
	   "source": [
       "# Chapter 13: Wave Form Generators"
	   ]
	},
{
		   "cell_type": "markdown",
		   "metadata": {},
		   "source": [
			"## Example 13.10: Determine_the_frequency_of_the_monostable_multivibrator.sce"
		   ]
		  },
  {
"cell_type": "code",
	   "execution_count": null,
	   "metadata": {
	    "collapsed": true
	   },
	   "outputs": [],
"source": [
"//Example13.10  // Determine the frequency of the monostable multivibrator\n",
"clc;\n",
"clear;\n",
"close;\n",
"R1 = 5*10^3 ;\n",
"R2 =15*10^3 ;\n",
"C = 0.01*10^-6 ;\n",
"R = 12*10^3 ;\n",
"\n",
"// the output of monostable multivibrator is defined as\n",
"f = 1/(R*C*(log(1+(R2/R1))));\n",
"disp('the output of monostable multivibrator is = ' +string(f)+ ' Hz');"
   ]
   }
,
{
		   "cell_type": "markdown",
		   "metadata": {},
		   "source": [
			"## Example 13.11: Determine_the_frequency_of_the_monostable_multivibrator.sce"
		   ]
		  },
  {
"cell_type": "code",
	   "execution_count": null,
	   "metadata": {
	    "collapsed": true
	   },
	   "outputs": [],
"source": [
"//Example13.11  // Determine the frequency of the monostable multivibrator\n",
"clc;\n",
"clear;\n",
"close;\n",
"R1 = 5*10^3 ;\n",
"R2 =15*10^3 ;\n",
"C = 0.01 ;\n",
"R = 25 ;\n",
"\n",
"// the output of monostable multivibrator is defined as\n",
"f = 1/(R*C);\n",
"disp('the output of monostable multivibrator is = ' +string(f)+ ' KHz');"
   ]
   }
,
{
		   "cell_type": "markdown",
		   "metadata": {},
		   "source": [
			"## Example 13.1: to_design_RC_phase_shift_oscillator_for_the_oscillation_frequency_f_is_1_KHz.sce"
		   ]
		  },
  {
"cell_type": "code",
	   "execution_count": null,
	   "metadata": {
	    "collapsed": true
	   },
	   "outputs": [],
"source": [
"//Example13.1  // to design RC phase shift oscillator for the oscillation frequency f = 1 KHz\n",
"clc;\n",
"clear;\n",
"close;\n",
"f =1 ; // KHz\n",
"C = 0.01 ; // uF\n",
"\n",
"// The oscillation frequency of practical RC phase shift oscillator is defined as\n",
"//w = 1/(sqrt(6)*R*C);\n",
"\n",
"// gain of practical RC phase shift oscillator is\n",
"//A = R1/R = 29                                           equation 1\n",
"// the frequency selective element resistor\n",
"//R = 1/(sqrt(6)*w*C);\n",
"R = 1/(sqrt(6)*2*%pi*f*C);\n",
"disp('the frequency selective element resistor is = '+string(R)+ ' K ohm ');\n",
"\n",
"// The feedback resistance\n",
"R1 = 29*R ;                                                // from equation 1\n",
"disp('The feedback resistance is = '+string(R1)+ ' K ohm');"
   ]
   }
,
{
		   "cell_type": "markdown",
		   "metadata": {},
		   "source": [
			"## Example 13.2: to_determine_the_oscillaton_frequency_of_the_phase_shift_oscillator.sce"
		   ]
		  },
  {
"cell_type": "code",
	   "execution_count": null,
	   "metadata": {
	    "collapsed": true
	   },
	   "outputs": [],
"source": [
"//Example13.2  // to determine the oscillaton frequency of the phase shift oscillator\n",
"clc;\n",
"clear;\n",
"close;\n",
"C = 0.05 ;  // uF\n",
"R = 2.5 ;  // K ohm\n",
"\n",
"// the oscillator frequency of practical RC phase shift oscillator f\n",
"f = 1/(2*%pi*(sqrt(6)*(R*C)));\n",
"disp('the oscillator frequency of practical RC phase shift oscillator f is = '+string(f)+ ' KHz ');"
   ]
   }
,
{
		   "cell_type": "markdown",
		   "metadata": {},
		   "source": [
			"## Example 13.3: to_calculate_the_frequency_of_a_wein_bridge_oscillator.sce"
		   ]
		  },
  {
"cell_type": "code",
	   "execution_count": null,
	   "metadata": {
	    "collapsed": true
	   },
	   "outputs": [],
"source": [
"//Example13.3  // to calculate the frequency of a wein bridge oscillator\n",
"clc;\n",
"clear;\n",
"close;\n",
"C = 2400*10^-12 ;  // F\n",
"R = 10*10^3 ;  // ohm\n",
"\n",
"// the oscillator frequency of practical RC phase shift oscillator f\n",
"f = 1/(2*%pi*R*C);\n",
"disp('the oscillator frequency of practical RC phase shift oscillator f is = '+string(f)+ ' Hz ');\n",
""
   ]
   }
,
{
		   "cell_type": "markdown",
		   "metadata": {},
		   "source": [
			"## Example 13.4: to_design_the_wien_bridge_oscillator_for_the_oscillation_frequency_f_is_1_KHz.sce"
		   ]
		  },
  {
"cell_type": "code",
	   "execution_count": null,
	   "metadata": {
	    "collapsed": true
	   },
	   "outputs": [],
"source": [
"//Example13.4  // to design the wien bridge oscillator for the oscillation frequency f = 1 KHz\n",
"clc;\n",
"clear;\n",
"close;\n",
"f = 1 ; // K ohm\n",
"C = 0.01 ;  // uF\n",
"\n",
"\n",
"// the frequency f is define as\n",
"// f = 1/(2*%pi*R*C);\n",
"\n",
"// the resistor R is\n",
"R = 1/(2*%pi*f*C);\n",
"disp('the resistor R is = '+string(R)+ ' K ohm ');\n",
"\n",
"// the loop gain of the wien bridge oscillator is unity which is defined as\n",
"// A = (1+(R2/R1))*(1/3) = 1 ;\n",
"//  R2/R1 = 2 ;\n",
"R1 = 10 ;  // K ohm we assume\n",
"R2 = 2*R1 ;\n",
"disp('The resistor R2 value is = '+string(R2)+ ' K ohm '); "
   ]
   }
,
{
		   "cell_type": "markdown",
		   "metadata": {},
		   "source": [
			"## Example 13.5: to_calculate_the_frequency_of_a_wein_bridge_oscillator.sce"
		   ]
		  },
  {
"cell_type": "code",
	   "execution_count": null,
	   "metadata": {
	    "collapsed": true
	   },
	   "outputs": [],
"source": [
"//Example13.5  // to calculate the frequency of a wein bridge oscillator\n",
"clc;\n",
"clear;\n",
"close;\n",
"C = 0.05*10^-6 ;  // F\n",
"R = 20*10^3 ;  // ohm\n",
"R1 = 10*10^3 ;  // ohm\n",
"R2 = 20*10^3 ;  //ohm\n",
"\n",
"// the frequency of wien bridge oscillator f\n",
"f = 1/(2*%pi*R*C);\n",
"disp('the frequency of wien bridge oscillator f is = '+string(f)+ ' Hz ');\n",
"\n",
""
   ]
   }
,
{
		   "cell_type": "markdown",
		   "metadata": {},
		   "source": [
			"## Example 13.6: Determine_the_frequency_response_of_the_astable_multivibrator_circuit.sce"
		   ]
		  },
  {
"cell_type": "code",
	   "execution_count": null,
	   "metadata": {
	    "collapsed": true
	   },
	   "outputs": [],
"source": [
"//Example13.6  // Determine the frequency response of the astable multivibrator circuit\n",
"clc;\n",
"clear;\n",
"close;\n",
"Vsat = 2.5 ;\n",
"VT = 0.7 ;\n",
"\n",
"// The frequency of the astable multivibrator is\n",
"//f = (1/(2*R*C*log((Vsat+VT)/(Vsat-VT))));\n",
"\n",
"disp('The frequency of the astable multivibrator is= 0.87/RC ');"
   ]
   }
,
{
		   "cell_type": "markdown",
		   "metadata": {},
		   "source": [
			"## Example 13.7: Design_astable_multivibrator_for_the_frequency_f_is_10_KHz.sce"
		   ]
		  },
  {
"cell_type": "code",
	   "execution_count": null,
	   "metadata": {
	    "collapsed": true
	   },
	   "outputs": [],
"source": [
"//Example13.7  // Design astable multivibrator for the frequency f = 10 KHz\n",
"clc;\n",
"clear;\n",
"close\n",
"f = 10 ; // K ohm\n",
"Vsat = 3 ;\n",
"VT = 0.7 ;\n",
"\n",
"// The saturation voltage of an astable multivibrator is defined as\n",
"//  Vsat = (R1+R2/R1)+VT ;\n",
"R1 = 10 ;  // K ohm  we choose\n",
"R2 = ((Vsat/VT)-1)*R1 ;\n",
"disp('The value of resistance R2 is = '+string(R2)+  ' K ohm ');\n",
"\n",
"// The frequency of an astable multivibrator is defined as\n",
"C = 0.01 ;  // uF\n",
"// f = (1/(2*R*C*log(1+(2*R1/R2))));\n",
"\n",
"R = 1/(2*f*C*log(1+2*R1/R2));\n",
"disp('The value of resistor R is = '+string(R)+ ' K ohm');"
   ]
   }
,
{
		   "cell_type": "markdown",
		   "metadata": {},
		   "source": [
			"## Example 13.8: to_design_astable_multivibrator.sce"
		   ]
		  },
  {
"cell_type": "code",
	   "execution_count": null,
	   "metadata": {
	    "collapsed": true
	   },
	   "outputs": [],
"source": [
"//Example13.8  // to design astable multivibrator \n",
"clc;\n",
"clear;\n",
"close;\n",
"f = 25*10^3 ;\n",
"\n",
"// The output frequency of practical astable multivibrator is defined as\n",
"//  f = 1/(2*R*C);\n",
"C = 0.1*10^-6 ; // uF   we choose\n",
"R = 1/(2*f*C);\n",
"disp('The value of resistor R is = '+string(R)+ ' ohm ' );"
   ]
   }
,
{
		   "cell_type": "markdown",
		   "metadata": {},
		   "source": [
			"## Example 13.9: Design_a_monostable_circuit_with_frequency_25KHz.sce"
		   ]
		  },
  {
"cell_type": "code",
	   "execution_count": null,
	   "metadata": {
	    "collapsed": true
	   },
	   "outputs": [],
"source": [
"\n",
"//Example13.9   // Design a monostable circuit with frequency f = 25 KHz\n",
"clc;\n",
"clear;\n",
"close;\n",
"f =25*10^3 ; // Hz\n",
"\n",
"// The output frequency of monostable multivibrator is defined as \n",
"//  f = 1/(0.69*R*C);\n",
"C = 0.1*10^-6 ;\n",
"R = 1/(0.69*f*C);\n",
"disp('The value of resistance R is = '+string(R)+ ' ohm ');\n",
"\n",
"// In the practical monostable multivibrator\n",
"//  ln(1+(R2/R1))= 0.69 ;\n",
"R1 = 10*10^3 ;  // we choose\n",
"R2 = R1*(1.99372-1);\n",
"disp('The value of resistance R2 is = '+string(R2/1000)+  ' K ohm ');  // Round Off Error "
   ]
   }
],
"metadata": {
		  "kernelspec": {
		   "display_name": "Scilab",
		   "language": "scilab",
		   "name": "scilab"
		  },
		  "language_info": {
		   "file_extension": ".sce",
		   "help_links": [
			{
			 "text": "MetaKernel Magics",
			 "url": "https://github.com/calysto/metakernel/blob/master/metakernel/magics/README.md"
			}
		   ],
		   "mimetype": "text/x-octave",
		   "name": "scilab",
		   "version": "0.7.1"
		  }
		 },
		 "nbformat": 4,
		 "nbformat_minor": 0
}
