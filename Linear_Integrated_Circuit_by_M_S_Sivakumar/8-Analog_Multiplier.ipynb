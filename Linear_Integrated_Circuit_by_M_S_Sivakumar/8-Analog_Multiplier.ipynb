{
"cells": [
 {
		   "cell_type": "markdown",
	   "metadata": {},
	   "source": [
       "# Chapter 8: Analog Multiplier"
	   ]
	},
{
		   "cell_type": "markdown",
		   "metadata": {},
		   "source": [
			"## Example 8.1: to_determine_the_output_voltage_of_inverting_amplifier.sce"
		   ]
		  },
  {
"cell_type": "code",
	   "execution_count": null,
	   "metadata": {
	    "collapsed": true
	   },
	   "outputs": [],
"source": [
"//Example8.1  // to determine the output voltage of inverting amplifier (V2)\n",
"clc;\n",
"clear;\n",
"close;\n",
"Vin = 18 ; // V\n",
"V1 = -6 ;  // V\n",
"\n",
"// in the op-amp due to the infinite i/p resiostance the input current is = 0\n",
"// i1+i2 = 0\n",
"// it gives relation\n",
"Vo = -Vin ;\n",
"\n",
"// the output of multiplier is defined as\n",
"//Vo = K*V1*V2\n",
"\n",
"K = 1 ; // we assume\n",
"\n",
"V2 = (Vo/(K*V1));\n",
"disp('the output voltage of inverting amplifier (V2) is = '+string(V2)+' V '); "
   ]
   }
,
{
		   "cell_type": "markdown",
		   "metadata": {},
		   "source": [
			"## Example 8.2: to_determine_the_output_voltage_of_multiplier.sce"
		   ]
		  },
  {
"cell_type": "code",
	   "execution_count": null,
	   "metadata": {
	    "collapsed": true
	   },
	   "outputs": [],
"source": [
"//Example8.2  // to determine the output voltage of multiplier\n",
"clc;\n",
"clear;\n",
"close;\n",
"Vin = 15 ; // V\n",
"\n",
"// the output of multiplier is defined as\n",
"//Vo = K*V1*V2\n",
"// because of i/p terminal the circuit performs mathematical operation squaring\n",
"// i.e  V1 = V2 = Vin\n",
"K = 1 ; // we assume\n",
"Vo = K*(Vin)^2;\n",
"disp('the output voltage of multiplier is = '+string(Vo)+' V '); "
   ]
   }
,
{
		   "cell_type": "markdown",
		   "metadata": {},
		   "source": [
			"## Example 8.3: to_determine_the_output_voltage_of_multiplier_and_inverting_amplifier.sce"
		   ]
		  },
  {
"cell_type": "code",
	   "execution_count": null,
	   "metadata": {
	    "collapsed": true
	   },
	   "outputs": [],
"source": [
"// Example8.3   // to determine the output voltage of multiplier and inverting amplifier\n",
"clc;\n",
"clear;\n",
"close;\n",
"Vin = 16 ;\n",
"// the output of the inverting amplifier\n",
"K =1 ;   // we assume\n",
"Vos = sqrt(abs(Vin)/K) ;\n",
"disp('the output voltage of inverting amplifier is = '+string(Vos)+' V '); \n",
"\n",
"// the output of the multiplier\n",
"Vo = K*Vos^2 ;\n",
"disp('the output voltage of multiplier is = '+string(Vo)+' V '); "
   ]
   }
,
{
		   "cell_type": "markdown",
		   "metadata": {},
		   "source": [
			"## Example 8.4: determine_the_output_of_balanced_demodulator.sce"
		   ]
		  },
  {
"cell_type": "code",
	   "execution_count": null,
	   "metadata": {
	    "collapsed": true
	   },
	   "outputs": [],
"source": [
"//Example8.4  //determine the output of balanced demodulator\n",
"clc;\n",
"clear;\n",
"close;\n",
"// Vc1 = 10*cos*wc*t ;\n",
"// Vm2 = 20*cos*wm*t*cos*wc*t\n",
"\n",
"// the amplitude of carrier and modulated signal \n",
"Ac1 = 10 ;  // V\n",
"// K*Am2*Ac2 = 20 ; // V\n",
"\n",
"// the output of multiplier \n",
"// Vo1 = K*Vc1*Vm2 ;\n",
"disp('          The output voltage of multiplier is  =      (K^2*Ac1*Ac2*Am2)/2*(cos*wm*t+cos*wm*t*cos*2*w*t)'); \n",
"\n",
"\n",
"//the output of low pass filter\n",
"// Vo = ((K^2*Ac1*Ac2*Acm)/2)*cos*wm*t ;\n",
"disp('          The output voltage of low pass filter is  =   100coswmt'); "
   ]
   }
,
{
		   "cell_type": "markdown",
		   "metadata": {},
		   "source": [
			"## Example 8.5: Output_voltage_of_of_RMS_detector.sce"
		   ]
		  },
  {
"cell_type": "code",
	   "execution_count": null,
	   "metadata": {
	    "collapsed": true
	   },
	   "outputs": [],
"source": [
"//Example8.5  // output voltage of of RMS detector\n",
"clc;\n",
"clear;\n",
"close;\n",
"Vin = 10 ; \n",
"T = 1 ;  // we assume that the charging and discharging period of capacitor\n",
"\n",
"// the output voltage of RMS detector\n",
"// Vo =sqrt(1/T*)integrate(Vin^2*(t),t,0,1 [,atol [,rtol]])  ;\n",
"Vo = 10 ;\n",
"disp('output voltage of RMS detector is = '+string(Vo)+' V '); "
   ]
   }
],
"metadata": {
		  "kernelspec": {
		   "display_name": "Scilab",
		   "language": "scilab",
		   "name": "scilab"
		  },
		  "language_info": {
		   "file_extension": ".sce",
		   "help_links": [
			{
			 "text": "MetaKernel Magics",
			 "url": "https://github.com/calysto/metakernel/blob/master/metakernel/magics/README.md"
			}
		   ],
		   "mimetype": "text/x-octave",
		   "name": "scilab",
		   "version": "0.7.1"
		  }
		 },
		 "nbformat": 4,
		 "nbformat_minor": 0
}
