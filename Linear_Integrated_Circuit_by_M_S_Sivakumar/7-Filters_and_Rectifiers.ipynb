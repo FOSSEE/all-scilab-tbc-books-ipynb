{
"cells": [
 {
		   "cell_type": "markdown",
	   "metadata": {},
	   "source": [
       "# Chapter 7: Filters and Rectifiers"
	   ]
	},
{
		   "cell_type": "markdown",
		   "metadata": {},
		   "source": [
			"## Example 7.10: EX7_10.sce"
		   ]
		  },
  {
"cell_type": "code",
	   "execution_count": null,
	   "metadata": {
	    "collapsed": true
	   },
	   "outputs": [],
"source": [
"//Example7.10  // to design an active band pass filter with lower cut-off frequency 10 KHz an upper 50 KHZ\n",
"clc;\n",
"clear;\n",
"close;\n",
"fL = 10 ; // KHz\n",
"fH = 50 ; // KHz\n",
"C1 = 0.002 ; // nF\n",
"C2 = 0.002 ;  // nF\n",
"\n",
"// the lower cut-off frequency of band pass filter is\n",
"// fL = 1/(2*%pi*R3*C1);\n",
"R3 = 1/(2*%pi*fL*C1);\n",
"disp('The resistance R3 Value is = '+string(R3)+' M ohm ');\n",
"\n",
"// The upper cut-off frequency of band pass filter is\n",
"// fH = 1/(2*%pi*R6*C2);\n",
"R6 = 1/(2*%pi*fH*C2);\n",
"disp('The resistance R6 value is = '+string(R6)+' M ohm ');"
   ]
   }
,
{
		   "cell_type": "markdown",
		   "metadata": {},
		   "source": [
			"## Example 7.11: EX7_11.sce"
		   ]
		  },
  {
"cell_type": "code",
	   "execution_count": null,
	   "metadata": {
	    "collapsed": true
	   },
	   "outputs": [],
"source": [
"//Example7.11  // to design an active band pass filter with lower cut-off frequency 20 KHz an upper 40 KHZ\n",
"clc;\n",
"clear;\n",
"close;\n",
"fL = 20 ; // KHz\n",
"fH = 40 ; // KHz\n",
"// the inverting terminal resistance 2R1=R2 and 4R4=R5\n",
"C1 = 0.001 ; // nF\n",
"C2 = 0.001 ;  // nF\n",
"\n",
"// the lower cut-off frequency of band pass filter is\n",
"// fL = 1/(2*%pi*R3*C1);\n",
"R3 = 1/(2*%pi*fL*C1);\n",
"disp('The resistance R3 Value is = '+string(R3)+' M ohm ');\n",
"\n",
"// The upper cut-off frequency of band pass filter is\n",
"// fH = 1/(2*%pi*R6*C2);\n",
"R6 = 1/(2*%pi*fH*C2);\n",
"disp('The resistance R6 value is = '+string(R6)+' M ohm ');\n",
"\n",
"// the desire pass band gain of filter is defined as\n",
"R1 = 1 ; // M ohm we assume\n",
"//we define inverting terminal resistance 2R1=R2\n",
"R2 = 2 ; // M ohm\n",
"// then\n",
"R4 = 1 ; //M ohm\n",
"R5 = 4 ; // M ohm\n",
"Af = (1+(R2/R1))*(1+(R5/R4));\n",
"disp('The desire pass band gain of filter is = '+string(Af)+' ');"
   ]
   }
,
{
		   "cell_type": "markdown",
		   "metadata": {},
		   "source": [
			"## Example 7.12: EX7_12.sce"
		   ]
		  },
  {
"cell_type": "code",
	   "execution_count": null,
	   "metadata": {
	    "collapsed": true
	   },
	   "outputs": [],
"source": [
"\n",
"//Example7.12  // to design an active band pass filter with lower cut-off frequency 20 KHz an upper 80 KHZ\n",
"clc;\n",
"clear;\n",
"close;\n",
"f = 100 ; // KHz  the frequency of band pass filter\n",
"fL = 20 ; // KHz\n",
"fH = 80 ; // KHz\n",
"// the inverting terminal resistance R1=0.5*R2 and R4=0.25*R5\n",
"C1 = 0.001 ; // nF\n",
"C2 = 0.001 ;  // nF\n",
"\n",
"// the lower cut-off frequency of band pass filter is\n",
"// fL = 1/(2*%pi*R3*C1);\n",
"R3 = 1/(2*%pi*fL*C1);\n",
"disp('The resistance R3 Value is = '+string(R3)+' M ohm ');\n",
"\n",
"// The upper cut-off frequency of band pass filter is\n",
"// fH = 1/(2*%pi*R6*C2);\n",
"R6 = 1/(2*%pi*fH*C2);\n",
"disp('The resistance R6 value is = '+string(R6)+' M ohm ');  // Round Off Error\n",
"\n",
"// the desire pass band gain of filter is defined as\n",
"R1 = 1 ; // M ohm we assume\n",
"//we define inverting terminal resistance R1=0.5*R2\n",
"R2 = 2 ; // M ohm\n",
"// then\n",
"R4 = 1 ; //M ohm\n",
"R5 = 4 ; // M ohm\n",
"Af = (1+(R2/R1))*(1+(R5/R4));\n",
"disp('The desire pass band gain of filter is = '+string(Af)+' ');\n",
"\n",
"// the magnitude of gain of band pass filter is given as\n",
"A = Af*(f^2/(fL*fH))/((sqrt(1+(f/fL)^2))*(sqrt(1+(f/fH)^2)));\n",
"disp('The magnitude of gain of band pass filter  is = '+string(A)+' ');  // Round Off Error\n",
"\n",
"//the phase angle of the filter\n",
"Angle = 2*atand(%inf)-atand(f/fL)-atand(f/fH);\n",
"disp('The phase angle of gain of band pass filter  is = '+string(Angle)+' degree');  // Round Off Error"
   ]
   }
,
{
		   "cell_type": "markdown",
		   "metadata": {},
		   "source": [
			"## Example 7.13: to_determine_the_output_voltage_of_the_precision_rectifier_circuit.sce"
		   ]
		  },
  {
"cell_type": "code",
	   "execution_count": null,
	   "metadata": {
	    "collapsed": true
	   },
	   "outputs": [],
"source": [
"//Example7.13  // to determine the output voltage of the precision rectifier circuit\n",
"clc;\n",
"clear;\n",
"close;\n",
"Vi = 10 ; //V i/p volt\n",
"R1 = 20 ; // K ohm\n",
"R2 = 40 ; // K ohm\n",
"Vd = 0.7 ; // V   the diode voltage drop\n",
"\n",
"// the output of the half wave precision rectifier is defined as\n",
"// Vo = -(R2/R1)*Vi ; for Vi < 0\n",
"//    = 0 otherwise\n",
"// i.e for Vi > 0\n",
"//              Vo = 0\n",
"// for Vi < 0\n",
"Vo = -(R2/R1)*Vi\n",
"disp('The output of the half wave precision rectifier Vo is = '+string(Vo)+' V ');"
   ]
   }
,
{
		   "cell_type": "markdown",
		   "metadata": {},
		   "source": [
			"## Example 7.14: EX7_14.sce"
		   ]
		  },
  {
"cell_type": "code",
	   "execution_count": null,
	   "metadata": {
	    "collapsed": true
	   },
	   "outputs": [],
"source": [
"//Example7.14  // to determine the output voltage of the precision rectifier circuit for i/p voltage a) Vi = 5 b) Vi = -5\n",
"clc;\n",
"clear;\n",
"close;\n",
"Vi = 5 ; //V i/p volt\n",
"R1 = 5 ; // K ohm\n",
"R2 = 15 ; // K ohm\n",
"Vd = 0.7 ; // V   the diode voltage drop\n",
"\n",
"// the output of the half wave precision rectifier is defined as\n",
"// Vo = -(R2/R1)*Vi ; for Vi < 0\n",
"//    = 0 otherwise\n",
"\n",
"// for Vi = 5 V\n",
"// i.e for Vi > 0\n",
"//              Vo = 0\n",
"// for Vi < 0\n",
"Vo = -(R2/R1)*Vi;\n",
"disp('The output of the half wave precision rectifier Vo is = '+string(Vo)+' V ');\n",
"\n",
"// for Vi = -5 V\n",
"// i.e for Vi > 0\n",
"//              Vo = 0\n",
"// for Vi < 0\n",
"Vi =-5 ; // V\n",
"Vo = -(R2/R1)*Vi;\n",
"disp('The output of the half wave precision rectifier Vo is = '+string(Vo)+' V ');"
   ]
   }
,
{
		   "cell_type": "markdown",
		   "metadata": {},
		   "source": [
			"## Example 7.15: EX7_15.sce"
		   ]
		  },
  {
"cell_type": "code",
	   "execution_count": null,
	   "metadata": {
	    "collapsed": true
	   },
	   "outputs": [],
"source": [
"//Example7.15  // to determine the output voltage of the precision rectifier circuit for i/p voltage a) Vi = 7 b) Vi = -7\n",
"clc;\n",
"clear;\n",
"close;\n",
"Vi = 7 ; //V i/p volt\n",
"R1 = 5 ; // K ohm\n",
"R3 = 5 ; // K ohm\n",
"R4 = 5 ; // K ohm\n",
"R2 = 15 ; // K ohm\n",
"R5 = 15 ; // K ohm\n",
"Vd = 0.7 ; // V   the diode voltage drop\n",
"\n",
"// the output of the full wave precision rectifier is defined as\n",
"// Vo = -A*Vi ;      for Vi < 0                      equation 1\n",
"//    = A*Vi  ;      otherwise                       equation 2\n",
"\n",
"// or  Vo = abs(A*Vi) ;\n",
"\n",
"// The gain of precision full wave rectifier\n",
"A = (((R2*R5)/(R1*R3))-(R5/R4)) ;\n",
"disp('The gain of precision full wave rectifier A is = '+string(A)+' ');\n",
"\n",
"\n",
"// for Vi = 7 V           the output voltage is\n",
"Vi = 7 ;\n",
"      Vo = -A*Vi ;      // from equation 1\n",
"      Vo =  A*Vi ;      // from equation 2\n",
"Vo = abs(A*Vi) ;\n",
"disp('The output voltage Vo is = '+string(Vo)+' V ');\n",
"\n",
"// for Vi = -7 V           the output voltage is\n",
"Vi = -7 ;\n",
"      Vo = -A*Vi ;      // from equation 1\n",
"      Vo =  A*Vi ;      // from equation 2\n",
"Vo = abs(A*Vi) ;\n",
"disp('The output voltage Vo is = '+string(Vo)+' V ');"
   ]
   }
,
{
		   "cell_type": "markdown",
		   "metadata": {},
		   "source": [
			"## Example 7.1: Design_active_low_filter_with_cut_off_frequency_10_KHz.sce"
		   ]
		  },
  {
"cell_type": "code",
	   "execution_count": null,
	   "metadata": {
	    "collapsed": true
	   },
	   "outputs": [],
"source": [
"//Example7.1  // Design active low filter with cut-off frequency 10 KHz\n",
"clc;\n",
"clear;\n",
"close;\n",
"fc = 10 ; // KHz\n",
"C = 0.01 ; //uF // we assume\n",
"\n",
"// the cut-off frequency of active low pass filter is defined as\n",
"// fc = (1/2*%pi*R3*C);\n",
"\n",
"// R3 can be calculated as\n",
"R3 = (1/(2*%pi*fc*C));\n",
"disp('The resistor value is = '+string(R3)+' k ohm ');"
   ]
   }
,
{
		   "cell_type": "markdown",
		   "metadata": {},
		   "source": [
			"## Example 7.2: Design_active_low_filter_with_cut_off_frequency_15_KHz.sce"
		   ]
		  },
  {
"cell_type": "code",
	   "execution_count": null,
	   "metadata": {
	    "collapsed": true
	   },
	   "outputs": [],
"source": [
"//Example7.2  // Design active low filter with cut-off frequency 15 KHz\n",
"clc;\n",
"clear;\n",
"close;\n",
"fc = 15*10^3 ; // Hz \n",
"C = 0.1*10^-6 ; //F // we assume\n",
"\n",
"// the cut-off frequency of active low pass filter is defined as\n",
"// fc = (1/2*%pi*R3*C);\n",
"\n",
"// R3 can be calculated as\n",
"R3 = (1/(2*%pi*fc*C));\n",
"disp('The resistor value is = '+string(R3)+' ohm ');\n",
"\n",
"// the pass band gain of filter is given by\n",
"// Af = 1+(R2/R1);\n",
"// assume that the inverting terminal resistor R2=0.5*R1;\n",
"// in Af equation if we put R2=0.5R1 in R1 R1 cancellout each other \n",
"Af = 1+(0.5)\n",
"disp('The pass band gain is = '+string(Af)+' ');"
   ]
   }
,
{
		   "cell_type": "markdown",
		   "metadata": {},
		   "source": [
			"## Example 7.3: Design_active_low_filter_with_cut_off_frequency_20_KHz.sce"
		   ]
		  },
  {
"cell_type": "code",
	   "execution_count": null,
	   "metadata": {
	    "collapsed": true
	   },
	   "outputs": [],
"source": [
"//Example7.3  // Design active low filter with cut-off frequency 20 KHz\n",
"clc;\n",
"clear;\n",
"close;\n",
"fc = 20 ; // KHz \n",
"f = 100 ; // frequency of filter\n",
"Af = 10 ;  // desired pass band gain\n",
"C = 0.05 ; //nF // we assume\n",
"\n",
"// the cut-off frequency of active low pass filter is defined as\n",
"// fc = (1/2*%pi*R3*C);\n",
"\n",
"// R3 can be calculated as\n",
"R3 = (1/(2*%pi*fc*C));\n",
"disp('The resistor value is = '+string(R3)+' ohm ');\n",
"\n",
"// the pass band gain of filter is given by\n",
"// Af = 1+(R2/R1);\n",
"// assume that the inverting terminal resistor R1= 100 k ohm;\n",
"R1 = 100 ; // k ohm\n",
"R2 = (Af*R1)-R1;\n",
"disp('The resistor R2 value is = '+string(R2)+' k ohm ');\n",
"\n",
"// the magnitude of an active low pass filter is given as\n",
"A = Af/(sqrt(1+(f/fc)^2));\n",
"disp('The magnitude of an active low pass filter is = '+string(A)+' ');\n",
"\n",
"//the phase angle of the filter\n",
"Angle = -atand(f/fc);\n",
"disp('The phase angle of the filter is = '+string(Angle)+' ');\n",
"\n",
""
   ]
   }
,
{
		   "cell_type": "markdown",
		   "metadata": {},
		   "source": [
			"## Example 7.4: to_determine_the_cut_off_frequency_and_pass_band_gain_Af.sce"
		   ]
		  },
  {
"cell_type": "code",
	   "execution_count": null,
	   "metadata": {
	    "collapsed": true
	   },
	   "outputs": [],
"source": [
"//Example7.4  // to determine the cut-off frequency and pass band gain Af\n",
"clc;\n",
"clear;\n",
"close;\n",
"R1 = 1 ; // k ohm\n",
"R2 = 12 ; // k ohm\n",
"R3 = 1.2 ;  // k ohm\n",
"C = 0.05 ; //uF // we assume\n",
"\n",
"// the frequency of the first order low pass filter is defined as\n",
"fc = (1/(2*%pi*R3*C));\n",
"disp('The frequency of the first order low pass filter is = '+string(fc)+' KHz ');\n",
"\n",
"// the pass band gain of filter is given by\n",
"Af =(1+R2/R1);\n",
"disp('The pass band gain of filter is = '+string(Af)+'');"
   ]
   }
,
{
		   "cell_type": "markdown",
		   "metadata": {},
		   "source": [
			"## Example 7.5: to_design_a_first_order_high_pass_filter_with_cut_off_frequency_2KHz.sce"
		   ]
		  },
  {
"cell_type": "code",
	   "execution_count": null,
	   "metadata": {
	    "collapsed": true
	   },
	   "outputs": [],
"source": [
"//Example7.5  // to design a first order high pass filter with cut-off frequency 2KHz\n",
"clc;\n",
"clear;\n",
"close;\n",
"Af = 10 ;\n",
"fc = 2 ; // KHz \n",
"R3 = 2 ; //K ohm // we assume\n",
"R1 = 10 ; // k ohm\n",
"// the capacitor of high pass filter is given by\n",
"C = 2*%pi*R3*fc;\n",
"disp('The capacitor of high pass filter is = '+string(C)+' uF ');\n",
"\n",
"// the voltage gain of the high pass filter is\n",
"// Af = 1+(R2/R1);\n",
"R2 = R1*(Af-1);\n",
"disp('The second resistor value is = '+string(R2)+' K ohm ');\n",
"\n",
"\n",
""
   ]
   }
,
{
		   "cell_type": "markdown",
		   "metadata": {},
		   "source": [
			"## Example 7.6: to_design_an_active_high_pass_filter_with_cut_off_frequency_10KHz.sce"
		   ]
		  },
  {
"cell_type": "code",
	   "execution_count": null,
	   "metadata": {
	    "collapsed": true
	   },
	   "outputs": [],
"source": [
"//Example7.6  // to design an active high pass filter with cut-off frequency 10KHz\n",
"clc;\n",
"clear;\n",
"close;\n",
"fc = 10 ; // KHz \n",
"C = 0.01 ; //uF // we assume\n",
"// the cut-off frequency of active high pass filter is given by\n",
"// fc = 2*%pi*R3*C;\n",
"// R3 can be calculated as\n",
"R3 = (1/(2*%pi*fc*C));\n",
"disp('The resistance R3 is = '+string(R3)+' K ohm ');"
   ]
   }
,
{
		   "cell_type": "markdown",
		   "metadata": {},
		   "source": [
			"## Example 7.7: to_design_an_active_high_pass_filter_with_cut_off_frequency_25KHz.sce"
		   ]
		  },
  {
"cell_type": "code",
	   "execution_count": null,
	   "metadata": {
	    "collapsed": true
	   },
	   "outputs": [],
"source": [
"//Example7.7  // to design an active high pass filter with cut-off frequency 25KHz\n",
"clc;\n",
"clear;\n",
"close;\n",
"fc = 25 ; // KHz \n",
"C = 0.1 ; //nF // we assume\n",
"// the cut-off frequency of active high pass filter is given by\n",
"// fc = 2*%pi*R3*C;\n",
"// R3 can be calculated as\n",
"R3 = (1/(2*%pi*fc*C));\n",
"disp('The resistance R3 is = '+string(R3)+' ohm ');\n",
"\n",
"// the desire pass band gain of filter is given by \n",
"//Af = 1+(R2/R1);\n",
"// assume that the inverting terminal resistor R2=0.2*R1;\n",
"// in Af equation if we put R2=0.2R1 in R1 R1 cancellout each other \n",
"Af = 1+(0.2)\n",
"disp('The pass band gain is = '+string(Af)+' ');"
   ]
   }
,
{
		   "cell_type": "markdown",
		   "metadata": {},
		   "source": [
			"## Example 7.8: to_design_an_active_high_pass_filter_with_cut_off_frequency_20KHz.sce"
		   ]
		  },
  {
"cell_type": "code",
	   "execution_count": null,
	   "metadata": {
	    "collapsed": true
	   },
	   "outputs": [],
"source": [
"\n",
"//Example7.8  // to design an active high pass filter with cut-off frequency 20KHz \n",
"clc;\n",
"clear;\n",
"close;\n",
"Af = 15 ;\n",
"fc = 20 ; //KHz\n",
"f = 80 ; // KHz  the frequency of filter \n",
"C = 0.05 ; //nF // we assume\n",
"// the cut-off frequency of active high pass filter is given by\n",
"// fc = 2*%pi*R3*C;\n",
"// R3 can be calculated as\n",
"R3 = (1/(2*%pi*fc*C));\n",
"disp('The resistance R3 is = '+string(R3*1000)+' K ohm ');  // Round Off Error\n",
"\n",
"// the desire pass band gain of filter is given by \n",
"//Af = 1+(R2/R1);\n",
"// assume that the inverting terminal resistor R1=50 K ohm;\n",
"R1 = 50 ; // K ohm\n",
"R2 = (R1*Af)-(R1)\n",
"disp('The resistance R2 is = '+string(R2)+' K ohm ');\n",
"\n",
"// the magnitude of an active high pass filter is given as\n",
"A = Af*(f/fc)/(sqrt(1+(f/fc)^2));\n",
"disp('The magnitude of an active high pass filter is = '+string(A)+' ');\n",
"\n",
"//the phase angle of the filter\n",
"Angle = -atand(f/fc)+atand(%inf);\n",
"disp('The phase angle of the filter is = '+string(Angle)+' degree');  // Round Off Error"
   ]
   }
,
{
		   "cell_type": "markdown",
		   "metadata": {},
		   "source": [
			"## Example 7.9: to_calculate_upper_and_lower_cut_off_frequency_of_the_band_pass_filter.sce"
		   ]
		  },
  {
"cell_type": "code",
	   "execution_count": null,
	   "metadata": {
	    "collapsed": true
	   },
	   "outputs": [],
"source": [
"//Example7.9  // to calculate upper and lower cut-off frequency of the band pass filter\n",
"clc;\n",
"clear;\n",
"close;\n",
"R1 = 10*10^3 ; //K ohm\n",
"R2 = 10 ; //K ohm\n",
"C1 = 0.1*10^-6 ; // uF\n",
"C2 = 0.001 ;  //uF\n",
"\n",
"// the lower cut-off frequency of band pass filter is\n",
"fLC = 1/(2*%pi*R1*C1);\n",
"disp('The lower cut-off frequency FLC of band pass filter is = '+string(fLC)+' Hz ');\n",
"\n",
"// The upper cut-off frequency of band pass filter is\n",
"fUC = 1/(2*%pi*R2*C2);\n",
"disp('The upper cut-off frequency FUC of band pass filter is = '+string(fUC)+' KHz ');"
   ]
   }
],
"metadata": {
		  "kernelspec": {
		   "display_name": "Scilab",
		   "language": "scilab",
		   "name": "scilab"
		  },
		  "language_info": {
		   "file_extension": ".sce",
		   "help_links": [
			{
			 "text": "MetaKernel Magics",
			 "url": "https://github.com/calysto/metakernel/blob/master/metakernel/magics/README.md"
			}
		   ],
		   "mimetype": "text/x-octave",
		   "name": "scilab",
		   "version": "0.7.1"
		  }
		 },
		 "nbformat": 4,
		 "nbformat_minor": 0
}
