{
"cells": [
 {
		   "cell_type": "markdown",
	   "metadata": {},
	   "source": [
       "# Chapter 12: Analog to Digital converter"
	   ]
	},
{
		   "cell_type": "markdown",
		   "metadata": {},
		   "source": [
			"## Example 12.2: Determine_the_different_parameter_of_8_bit_Analog_to_Digital_converter.sce"
		   ]
		  },
  {
"cell_type": "code",
	   "execution_count": null,
	   "metadata": {
	    "collapsed": true
	   },
	   "outputs": [],
"source": [
"//Examle12.2  // Determine the following parameter of 8-bit A/D converter a) Normalized step size b) Actual step size  c) Normalized maximum quantization level  d) Actual maximum quantization  e) Normalized peak quantization error  f) Actual peak quantization error  g) Percentage of quantization error\n",
"clc;\n",
"clear;\n",
"close;\n",
"N = 8 ;\n",
"Vin = 12 ;\n",
"\n",
"//a) Normalized step size of A/D converter\n",
"Ns = 2^-N ;\n",
"disp('Normalized step size of A/D converter is = '+string(Ns)+ ' '); \n",
"\n",
"// b) Actual step size of A/D converter\n",
"As = Vin*Ns ;\n",
"disp('Actual step size of A/D converter is = '+string(As)+ ' ');\n",
"\n",
"// c) Normalized maximum quantization level of A/D converter\n",
"Qmax = 1-2^-N ;\n",
"disp('Normalized maximum quantization level of A/D converter is = '+string(Qmax)+ ' ');\n",
"\n",
"// d) Actual maximum quantization level of A/D converter\n",
"QAmax = Qmax*Vin ;\n",
"disp('Actual maximum quantization level of A/D converter is = '+string(QAmax)+ ' ');\n",
"\n",
"// e) Normalized peak quantization error of A/D converter\n",
"Qp = 2^-(N+1);\n",
"disp('Normalized peak quantization error of A/D converter is = '+string(Qp)+ ' ' );\n",
"\n",
"// f) Actual peak quantization error of A/D converter\n",
"Qe = Qp*Vin ;\n",
"disp('Actual peak quantization error of A/D converter is = '+string(Qe)+ ' V ');\n",
"\n",
"// g) Percentage of quantization error of A/D converter\n",
"%Qp = 2^-(N+1)*100 ;\n",
"disp('Percentage of quantization error of A/D converter is = '+string(%Qp)+ ' ') ;"
   ]
   }
,
{
		   "cell_type": "markdown",
		   "metadata": {},
		   "source": [
			"## Example 12.3: EX12_3.sce"
		   ]
		  },
  {
"cell_type": "code",
	   "execution_count": null,
	   "metadata": {
	    "collapsed": true
	   },
	   "outputs": [],
"source": [
"//Example12.3   // to determine the binary output of the 8-bit dual slope A/D converter\n",
"clc;\n",
"clear;\n",
"close;\n",
"Vin = 8.5 ;\n",
"VR = 10 ;\n",
"f = 2 ;  //MHz\n",
"N = 8 ;\n",
"C = 0.1*10^-6 ;\n",
"R = 2*10^3 ;\n",
"\n",
"// the output of integrator is defined as \n",
"// Viao(T1) = -(Vin/R*C)*T1 ;\n",
"\n",
"// charging time of capacitor \n",
"T1 = 2^N/f ;\n",
"disp('charging time of capacitor  is = '+string(T1)+ ' u sec');\n",
"\n",
"// the integrator output\n",
"T1 = T1*10^-6 ;\n",
"Viao =-(Vin/(R*C))*T1;\n",
"disp('the integrator output is = '+string(Viao)+ ' V');\n",
"\n",
"// the binary output of a dual slope A/D converter\n",
"Bn = (2^N*Vin)/VR;\n",
"disp('the decimal output of a dual slope A/D converter is = '+string(Bn)+ '   = 218' );\n",
"\n",
"Bn=218;\n",
"Bn = dec2bin(Bn) ;\n",
"disp('  The binary output of a dual slope A/D converter is = '+string(Bn)+ ' ' );"
   ]
   }
,
{
		   "cell_type": "markdown",
		   "metadata": {},
		   "source": [
			"## Example 12.4: to_determine_the_resolution_of_12_bit_Analog_to_Digital_converter.sce"
		   ]
		  },
  {
"cell_type": "code",
	   "execution_count": null,
	   "metadata": {
	    "collapsed": true
	   },
	   "outputs": [],
"source": [
"//Example12.4  // to determine the resolution of 12-bit A/D converter\n",
"clc;\n",
"clear;\n",
"close;\n",
"N =12 ;\n",
"Vin = 15 ;\n",
"\n",
"// Resolution of an A/D converter\n",
"Resolution = Vin/(2^N-1);\n",
"disp('Resolution of an A/D converter is = '+string(Resolution)+ ' V ');\n",
";"
   ]
   }
,
{
		   "cell_type": "markdown",
		   "metadata": {},
		   "source": [
			"## Example 12.5: to_determine_the_output_time_and_duty_cycle_of_V_to_T_converter.sce"
		   ]
		  },
  {
"cell_type": "code",
	   "execution_count": null,
	   "metadata": {
	    "collapsed": true
	   },
	   "outputs": [],
"source": [
"// Example12.5  // to determine the output time and duty cycle of V/T converter\n",
"clc;\n",
"clear;\n",
"close;\n",
"Vin = 5 ;\n",
"C = 0.1*10^-6 ; \n",
"R = 10*10^3 ;\n",
"C1 = 100*10^-6 ;\n",
"\n",
"// The output time of a V/T converter is given as\n",
"T = (7.5*C1)/(Vin) ;\n",
"disp('The output time of a V/T converter is =' +string(T)+ ' sec');\n",
"\n",
"TH = 0.075 ;\n",
"TL=TH ; // we consider\n",
"// The duty cycle of V?T converter\n",
"D = (TL+TH)/(TH) ;\n",
"disp('The duty cycle of V?T converter is = '+string(D)+ ' ');\n",
"\n",
"// The output voltage of an integrator is define as\n",
"Vio = -(Vin)/(R*C)*T ;\n",
"disp('The output voltage of an integrator is is = '+string(Vio)+ ' V');"
   ]
   }
],
"metadata": {
		  "kernelspec": {
		   "display_name": "Scilab",
		   "language": "scilab",
		   "name": "scilab"
		  },
		  "language_info": {
		   "file_extension": ".sce",
		   "help_links": [
			{
			 "text": "MetaKernel Magics",
			 "url": "https://github.com/calysto/metakernel/blob/master/metakernel/magics/README.md"
			}
		   ],
		   "mimetype": "text/x-octave",
		   "name": "scilab",
		   "version": "0.7.1"
		  }
		 },
		 "nbformat": 4,
		 "nbformat_minor": 0
}
