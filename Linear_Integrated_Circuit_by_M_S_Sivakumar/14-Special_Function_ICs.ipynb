{
"cells": [
 {
		   "cell_type": "markdown",
	   "metadata": {},
	   "source": [
       "# Chapter 14: Special Function ICs"
	   ]
	},
{
		   "cell_type": "markdown",
		   "metadata": {},
		   "source": [
			"## Example 14.10: Design_a_video_amplifier_of_IC_1550_circuit.sce"
		   ]
		  },
  {
"cell_type": "code",
	   "execution_count": null,
	   "metadata": {
	    "collapsed": true
	   },
	   "outputs": [],
"source": [
"\n",
"// Example14.10  // Design a video amplifier of IC 1550 circuit\n",
"clc;\n",
"clear;\n",
"close;\n",
"Vcc = 12 ; // V\n",
"Av = -10 ;\n",
"Vagc = 0 ; // at bandwidth of 20 MHz\n",
"hfe = 50 ; // forward emitter parameter\n",
"rbb = 25 ;  // ohm  // base resistor\n",
"Cs = 1*10^-12 ;  // F  // source capacitor\n",
"Cl = 1*10^-12 ;  // F  // load capacitor\n",
"Ie1 = 1*10^-3 ; // A // emitter current of Q1\n",
"f = 1000*10^6 ; // Hz\n",
"Vt = 52*10^-3 ;\n",
"Vt1 = 0.026 ;\n",
"\n",
"// When Vagc =0 the transistor Q2 is cut-off and the collector current of transistor Q2 flow through the transistor Q3\n",
"// i.e Ic1=Ie1=Ie3\n",
"Ie3 = 1*10^-3 ; // A // emitter current of Q3\n",
"Ic1 = 1*10^-3 ;  // A  // collector current of the transistor Q1\n",
"\n",
"// it indicates that the emitter current of Q2 is zero Ie2 = 0 then the emitter resistor of Q2 is infinite\n",
"re2 = %inf ;\n",
"\n",
"// emitter resistor of Q3 \n",
"re3 = (Vt/Ie1);\n",
"disp('The emitter resistor of Q3 is = '+string(re3)+' ohm ( at temperature 25 degree celsius) ');\n",
"\n",
"// the trans conductance of transistor is\n",
"gm = (Ie1/Vt1);\n",
"disp('The trans conductance of transistor is = '+string(gm*1000)+' mA/V ');  // Round Off Error\n",
"\n",
"// the base emitter resistor rbe\n",
"rbe = (hfe/gm);\n",
"disp('The base emitter resistor rbe is = '+string(rbe/1000)+' K ohm ');  // Round Off Error\n",
"\n",
"// the emitter capacitor Ce \n",
"Ce = (gm/(2*%pi*f));\n",
"disp('The emitter capacitor Ce = '+string(Ce)+' F ');  // Round Off Error\n",
"\n",
"// the voltage gain of video amplifier is\n",
"// Av = (Vo/Vin) ;\n",
"// Av = -((alpha3*gm)/(rbb*re3)*((1/rbb)+(1/rbe)+sCe)*((1/re2)+(1/re3)+sC3)*((1/Rl)+(s(Cs+Cl)))) \n",
" // At Avgc = 0 i.e s=0 in the above Av equation\n",
"alpha3 = 1 ;\n",
"s = 0 ;\n",
"// Rl = -((alpha3*gm)/(rbb*re3)*(((1/rbb)+(1/rbe))*((1/re2)+(1/re3))*(Av))); \n",
"\n",
"// After solving above equation for Rl We get Rl Equation as\n",
"Rl = 10/(37.8*10^-3);\n",
"disp('The value of resistance RL is = '+string(Rl)+' ohm ');\n",
"\n",
"// there are three poles present in the transfer function of video amplifier each pole generate one 3-db frequency \n",
"Rl = 675 ;\n",
"// fa = 1/(2*%pi*Rl*(Cs+Cl));\n",
"// after putting value of Rl ,Cs and Cl we get\n",
"fa = 1/(2*3.14*264.55*1*10^-12);\n",
"disp('The pole frequency fa is = '+string(fa*10^-3/1000)+' M Hz '); // Round Off Error\n",
"\n",
"\n",
"//fb = 1/(2*%pi*Ce*((rbb*rbe)/(rbb+rbe)));\n",
"// after putting value of Ce rbb and rbe we get\n",
"fb = 1/(2*%pi*6.05*10^-12*24.5);\n",
"disp('The pole frequency fb is = '+string(fb*10^-3/1000)+' M Hz ');\n",
"\n",
"fc = 1/(2*%pi*Cs*re3);\n",
"disp('The pole frequency fc is = '+string(fc*10^-3/1000)+' M Hz ');\n",
"\n",
"disp(' Hence fa is a dominant pole frequency ');"
   ]
   }
,
{
		   "cell_type": "markdown",
		   "metadata": {},
		   "source": [
			"## Example 14.11: Design_a_video_amplifier_of_IC_1550_circuit.sce"
		   ]
		  },
  {
"cell_type": "code",
	   "execution_count": null,
	   "metadata": {
	    "collapsed": true
	   },
	   "outputs": [],
"source": [
"// Example14.11  // Design a video amplifier of IC 1550 circuit\n",
"clc;\n",
"clear;\n",
"close;\n",
"Vcc = 12 ; // V\n",
"Av = -10 ;\n",
"Vagc = 0 ; // at bandwidth of 20 MHz\n",
"hfe = 50 ; // forward emitter parameter\n",
"rbb = 25 ;  // ohm  // base resistor\n",
"Cs = 1*10^-12 ;  // F  // source capacitor\n",
"Cl = 1*10^-12 ;  // F  // load capacitor\n",
"Ie1 = 1*10^-3 ; // A // emitter current of Q1\n",
"f = 1000*10^6 ; // Hz\n",
"Vt = 52*10^-3 ;\n",
"Vt1 = 0.026 ;\n",
"\n",
"// When Vagc =0 the transistor Q2 is cut-off and the collector current of transistor Q2 flow through the transistor Q3\n",
"// i.e Ic1=Ie1=Ie3\n",
"Ie3 = 1*10^-3 ; // A // emitter current of Q3\n",
"Ic1 = 1*10^-3 ;  // A  // collector current of the transistor Q1\n",
"\n",
"// it indicates that the emitter current of Q2 is zero Ie2 = 0 then the emitter resistor of Q2 is infinite\n",
"re2 = %inf ;\n",
"\n",
"// emitter resistor of Q3 \n",
"re3 = (Vt/Ie1);\n",
"disp('The emitter resistor of Q3 is = '+string(re3)+' ohm ');\n",
"\n",
"// the trans conductance of transistor is\n",
"gm = (Ie1/Vt1);\n",
"disp('The trans conductance of transistor is = '+string(gm)+' A/V ');\n",
"\n",
"// the base emitter resistor rbe\n",
"rbe = (hfe/gm);\n",
"disp('The base emitter resistor rbe is = '+string(rbe)+' ohm ');\n",
"\n",
"// the emitter capacitor Ce \n",
"Ce = (gm/(2*%pi*f));\n",
"disp('The emitter capacitor is = '+string(Ce)+' F ');\n",
"\n",
"// the voltage gain of video amplifier is\n",
"// Av = (Vo/Vin) ;\n",
"// Av = -((alpha3*gm)/(rbb*re3)*((1/rbb)+(1/rbe)+sCe)*((1/re2)+(1/re3)+sC3)*((1/Rl)+(s(Cs+Cl)))) \n",
" // At Avgc = 0 i.e s=0 in the above Av equation\n",
"alpha3 = 1 ;\n",
"s = 0 ;\n",
"Av =-10 ;\n",
"Rl = -((alpha3*gm)/((rbb*re3)*(((1/rbb)+(1/rbe))*((1/re2)+(1/re3))*(Av)))); \n",
"Rl = (1/Rl);\n",
"disp('The value of resistance RL is = '+string(Rl)+' ohm ');\n",
"\n",
"// there are three poles present in the transfer function of video amplifier each pole generate one 3-db frequency \n",
"Rl = 265\n",
"fa = 1/(2*%pi*Rl*(Cs));\n",
"disp('The pole frequency fa is = '+string(fa)+' Hz ');\n",
"\n",
"\n",
"fb = 1/(2*%pi*Ce*((rbb*rbe)/(rbb+rbe)));\n",
"disp('The pole frequency fb is = '+string(fb)+' Hz ');\n",
"\n",
"fc = 1/(2*%pi*Cs*re3);\n",
"disp('The pole frequency fc is = '+string(fc)+' Hz ');\n",
"\n",
"disp(' Hence fa is a dominant pole frequency ');\n",
""
   ]
   }
,
{
		   "cell_type": "markdown",
		   "metadata": {},
		   "source": [
			"## Example 14.12: Determine_the_output_voltage_of_an_isolation_amplifier_IC_ISO100.sce"
		   ]
		  },
  {
"cell_type": "code",
	   "execution_count": null,
	   "metadata": {
	    "collapsed": true
	   },
	   "outputs": [],
"source": [
"// Example14.12  // Determine the output voltage of an isolation amplifier IC ISO100\n",
"clc;\n",
"clear;\n",
"close;\n",
"Vin = 5 ; // V\n",
"Rin = 10*10^3 ; \n",
"Rf = 55*10^3 ; // ohm // feedback resistance\n",
"\n",
"// the input voltage of an amplifier 1\n",
"// Vin = Rin*Iin\n",
"Iin = Vin/Rin ; \n",
"disp('The input current is = '+string(Iin)+' A ');\n",
"\n",
"// In isolation amplifier ISO 100 the input current Iin is equal to the output current Iout , but both are opposite in direction\n",
"// Iin = -Iout\n",
"// the output of an op-amp\n",
"// Vo = -Rf*Iout\n",
"Vo = Rf*Iin;\n",
"disp('The output of an op-amp is = '+string(Vo)+' V ');"
   ]
   }
,
{
		   "cell_type": "markdown",
		   "metadata": {},
		   "source": [
			"## Example 14.13: Determine_the_output_voltage_of_an_isolation_amplifier_IC_ISO100.sce"
		   ]
		  },
  {
"cell_type": "code",
	   "execution_count": null,
	   "metadata": {
	    "collapsed": true
	   },
	   "outputs": [],
"source": [
"// Example14.13  // Determine the output voltage of an isolation amplifier IC ISO100\n",
"clc;\n",
"clear;\n",
"close;\n",
"Vin = 12 ; // V\n",
"Rin = 1*10^3 ; \n",
"Rf = 17*10^3 ; // ohm // feedback resistance\n",
"\n",
"// the input voltage of an amplifier 1\n",
"// Vin = Rin*Iin\n",
"Iin = Vin/Rin ; \n",
"disp('The input current is = '+string(Iin)+' A ');\n",
"\n",
"// In isolation amplifier ISO 100 the input current Iin is equal to the output current Iout , but both are opposite in direction\n",
"// Iin = -Iout\n",
"// the output of an op-amp\n",
"// Vo = -Rf*Iout\n",
"Vo = Rf*Iin;\n",
"disp('The output of an op-amp is = '+string(Vo)+' V ');\n",
""
   ]
   }
,
{
		   "cell_type": "markdown",
		   "metadata": {},
		   "source": [
			"## Example 14.1: to_determine_the_regulated_voltage.sce"
		   ]
		  },
  {
"cell_type": "code",
	   "execution_count": null,
	   "metadata": {
	    "collapsed": true
	   },
	   "outputs": [],
"source": [
"//Example14.1 // to determine the regulated voltage \n",
"clc;\n",
"clear;\n",
"close;\n",
"R1 = 250 ; //ohm \n",
"R2 = 2500 ; // ohm \n",
"Vref = 2 ; //V //reference voltage\n",
"Iadj = 100*10^-6; // A  // adjacent current\n",
"\n",
"//the output voltage of the adjustable voltage regulator is defined by\n",
"Vo = (Vref*((R2/R1)+1)+(Iadj*R2)) ;\n",
"disp('the output voltage of the adjustable voltage regulator is = '+string(Vo)+' V ');"
   ]
   }
,
{
		   "cell_type": "markdown",
		   "metadata": {},
		   "source": [
			"## Example 14.2: to_determine_the_current_drawn_from_the_dual_power_supply.sce"
		   ]
		  },
  {
"cell_type": "code",
	   "execution_count": null,
	   "metadata": {
	    "collapsed": true
	   },
	   "outputs": [],
"source": [
"//Example14.2 // to determine the current drawn from the dual power supply \n",
"clc;\n",
"clear;\n",
"close;\n",
"V = 10 ;  // V\n",
"P = 500 ; // mW\n",
"\n",
"// we assume that  each power supply provides half power supply to IC\n",
"P1 = (P/2);\n",
"\n",
"// the total power dissipation of the IC\n",
"// P1 = V*I ;\n",
"I = P1/V ;\n",
"disp('the total power dissipation of the IC is = '+string(I)+' mA ');"
   ]
   }
,
{
		   "cell_type": "markdown",
		   "metadata": {},
		   "source": [
			"## Example 14.3: to_determine_the_output_voltage.sce"
		   ]
		  },
  {
"cell_type": "code",
	   "execution_count": null,
	   "metadata": {
	    "collapsed": true
	   },
	   "outputs": [],
"source": [
"//Example14.3 // to determine the output voltage \n",
"clc;\n",
"clear;\n",
"close;\n",
"R1 = 100*10^3 ; //ohm \n",
"R2 = 500*10^3 ; // ohm \n",
"Vref = 1.25 ; //V //reference voltage\n",
"\n",
"//the output voltage of the adjustable voltage regulator is defined by\n",
"Vo = Vref*(R1+R2)/R1;\n",
"disp('the output voltage of the adjustable voltage regulator is = '+string(Vo)+' V ');"
   ]
   }
,
{
		   "cell_type": "markdown",
		   "metadata": {},
		   "source": [
			"## Example 14.4: determine_the_output_voltage_of_the_switching_regulator_circuit.sce"
		   ]
		  },
  {
"cell_type": "code",
	   "execution_count": null,
	   "metadata": {
	    "collapsed": true
	   },
	   "outputs": [],
"source": [
"//Example14.4 // determine the output voltage of the switching regulator circuit\n",
"clc;\n",
"clear;\n",
"close;\n",
"d = 0.7 ;  // duty cycle\n",
"Vin = 5 ; // V // input voltage\n",
"\n",
"// The output voltage of switching regulator circuit is given by\n",
"Vo = d*Vin ;\n",
"disp('The output voltage of switching regulator circuit is = '+string(Vo)+' V ');"
   ]
   }
,
{
		   "cell_type": "markdown",
		   "metadata": {},
		   "source": [
			"## Example 14.5: determine_the_duty_cycle_of_the_switching_regulator_circuit.sce"
		   ]
		  },
  {
"cell_type": "code",
	   "execution_count": null,
	   "metadata": {
	    "collapsed": true
	   },
	   "outputs": [],
"source": [
"//Example14.5 // determine the duty cycle of the switching regulator circuit\n",
"clc;\n",
"clear;\n",
"close;\n",
"Vo = 4.8 ; // V // output voltage\n",
"Vin = 5 ; // V // input voltage\n",
"\n",
"// The output voltage of switching regulator circuit is given by\n",
"// Vo = d*Vin ;\n",
"\n",
"// Duty cycle is given as\n",
"d =Vo/Vin ;\n",
"disp('The output voltage of switching regulator circuit is = '+string(d)+'  ');"
   ]
   }
,
{
		   "cell_type": "markdown",
		   "metadata": {},
		   "source": [
			"## Example 14.6: determine_the_duty_cycle_of_the_switching_regulator_circuit.sce"
		   ]
		  },
  {
"cell_type": "code",
	   "execution_count": null,
	   "metadata": {
	    "collapsed": true
	   },
	   "outputs": [],
"source": [
"//Example14.6 // determine the duty cycle of the switching regulator circuit\n",
"clc;\n",
"clear;\n",
"close;\n",
"T =120 ; //msec // total pulse time\n",
"// T = ton + toff ;\n",
"ton = T/2 ;\n",
"\n",
"// The duty cycle of switching regulator circuit is given by\n",
"d = ton/T;\n",
"disp('The output voltage of switching regulator circuit is = '+string(d)+'  ');"
   ]
   }
,
{
		   "cell_type": "markdown",
		   "metadata": {},
		   "source": [
			"## Example 14.7: determine_the_duty_cycle_of_the_switching_regulator_circuit.sce"
		   ]
		  },
  {
"cell_type": "code",
	   "execution_count": null,
	   "metadata": {
	    "collapsed": true
	   },
	   "outputs": [],
"source": [
"//Example14.7 // determine the duty cycle of the switching regulator circuit\n",
"clc;\n",
"clear;\n",
"close;\n",
"ton = 12 ; //msec // on time of pulse\n",
"// ton = 2*toff ;  given\n",
"// T = ton + toff ;\n",
"toff = ton/2 ;\n",
"T = ton+toff ;  // total time\n",
"\n",
"// The duty cycle of switching regulator circuit is given by\n",
"d = ton/T;\n",
"disp('The output voltage of switching regulator circuit is = '+string(d)+'  ');"
   ]
   }
,
{
		   "cell_type": "markdown",
		   "metadata": {},
		   "source": [
			"## Example 14.8: determine_the_output_voltage_of_the_audio_power_amplifier_IC_LM380.sce"
		   ]
		  },
  {
"cell_type": "code",
	   "execution_count": null,
	   "metadata": {
	    "collapsed": true
	   },
	   "outputs": [],
"source": [
"// Example14.8  // determine the output voltage of the audio power amplifier IC LM380\n",
"clc;\n",
"clear;\n",
"close;\n",
"Vcc = 12 ; // V\n",
"Ic3 = 12*10^-6 ;  // A  // collector current of the transistor Q3\n",
"Ic4 = 12*10^-6 ;  // A  // collector current of the transistor Q4\n",
"R11 = 25*10^3 ; // ohm\n",
"R12 = 25*10^3 ;  // ohm\n",
"\n",
"// the collector current of Q3 is defined as\n",
" // Ic3 = (Vcc-3*Veb)/(R11+R12);\n",
"Veb = (Vcc-(R11+R12)*Ic3)/3 ;\n",
"disp('The emitter bias voltage is = '+string(Veb)+' V ');\n",
"\n",
"// the output voltage of the IC LM380\n",
"Vo = (1/2)*Vcc+(1/2)*Veb;\n",
"disp('The output voltage of the IC LM380 is = '+string(Vo)+' V ');"
   ]
   }
,
{
		   "cell_type": "markdown",
		   "metadata": {},
		   "source": [
			"## Example 14.9: determine_the_output_voltage_of_the_audio_power_amplifier_IC_LM380.sce"
		   ]
		  },
  {
"cell_type": "code",
	   "execution_count": null,
	   "metadata": {
	    "collapsed": true
	   },
	   "outputs": [],
"source": [
"// Example14.9  // determine the output voltage of the audio power amplifier IC LM380\n",
"clc;\n",
"clear;\n",
"close;\n",
"Vcc = 10 ; // V\n",
"Ic3 = 0.01*10^-6 ;  // A  // collector current of the transistor Q3\n",
"Ic4 = 0.01*10^-6 ;  // A  // collector current of the transistor Q4\n",
"R11 = 25*10^3 ; // ohm\n",
"R12 = 25*10^3 ;  // ohm\n",
"\n",
"// the collector current of Q3 is defined as\n",
" // Ic3 = (Vcc-3*Veb)/(R11+R12);\n",
"Veb = (Vcc-(R11+R12)*Ic3)/3 ;\n",
"disp('The emitter bias voltage is = '+string(Veb)+' V ');\n",
"\n",
"// the output voltage of the IC LM380\n",
"Vo = (1/2)*Vcc+(1/2)*Veb;\n",
"disp('The output voltage of the IC LM380 is = '+string(Vo)+' V ');"
   ]
   }
],
"metadata": {
		  "kernelspec": {
		   "display_name": "Scilab",
		   "language": "scilab",
		   "name": "scilab"
		  },
		  "language_info": {
		   "file_extension": ".sce",
		   "help_links": [
			{
			 "text": "MetaKernel Magics",
			 "url": "https://github.com/calysto/metakernel/blob/master/metakernel/magics/README.md"
			}
		   ],
		   "mimetype": "text/x-octave",
		   "name": "scilab",
		   "version": "0.7.1"
		  }
		 },
		 "nbformat": 4,
		 "nbformat_minor": 0
}
