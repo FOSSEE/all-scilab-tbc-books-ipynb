{
"cells": [
 {
		   "cell_type": "markdown",
	   "metadata": {},
	   "source": [
       "# Chapter 18: Magnetic Properties"
	   ]
	},
{
		   "cell_type": "markdown",
		   "metadata": {},
		   "source": [
			"## Example 18.1: Calculation_of_saturation_magnetization_and_flux_density_for_Nickel.sce"
		   ]
		  },
  {
"cell_type": "code",
	   "execution_count": null,
	   "metadata": {
	    "collapsed": true
	   },
	   "outputs": [],
"source": [
"\n",
"clc\n",
"// Given that\n",
"b_m=9.27*10^-24 // Bohr Magneton in ampere*m^2 \n",
"Na=6.023*10^23  //Avogadro's Number\n",
"d=8.9*10^6  // density in g/m^3  \n",
"uo=4*%pi*10^-7  //Permittivity of free space\n",
"A=58.71  // Atomic weight of Nickel g/mol \n",
"printf('Example 18.1\n')\n",
"N=d*Na/A  //No. of atoms per cubic meter\n",
"M=0.6*b_m*N  //0.6= Bohr Magneton/atom\n",
"printf('\n Part A:')\n",
"printf('\n Saturation Magnetization is %.1e Ampere/m',M)\n",
"M=0.6*b_m*N  //0.6= Bohr Magneton/atom\n",
"printf('\n\n Part B:')\n",
"B=uo*M\n",
"printf('\n Saturation Flux Density is %.2f Tesla\n',B);\n",
""
   ]
   }
,
{
		   "cell_type": "markdown",
		   "metadata": {},
		   "source": [
			"## Example 18.2: Calculation_of_saturation_magnetization_of_Fe3O4.sce"
		   ]
		  },
  {
"cell_type": "code",
	   "execution_count": null,
	   "metadata": {
	    "collapsed": true
	   },
	   "outputs": [],
"source": [
"\n",
"\n",
"clc\n",
"// Given that\n",
"a=0.839*10^-9 //a is edge length in m\n",
"b_m=9.27*10^-24 //  Bohr Magneton in ampere*m^2\n",
"n_b=8*4    //8 is no. of Fe++ ions per unit cell and 4 is Bohr magnetons per Fe++ ion\n",
"printf('Example 18.2\n')\n",
"M=n_b*b_m/a^3  //M is Saturation magnetisation\n",
"printf('\n Saturation Magnetization is %.1e Ampere/m\n',M)\n",
"\n",
""
   ]
   }
,
{
		   "cell_type": "markdown",
		   "metadata": {},
		   "source": [
			"## Example 18.3: Designing_a_cubic_mixed_ferrite_magnetic_material.sce"
		   ]
		  },
  {
"cell_type": "code",
	   "execution_count": null,
	   "metadata": {
	    "collapsed": true
	   },
	   "outputs": [],
"source": [
"\n",
"//page no 692\n",
"clc\n",
"// Given that\n",
"Ms_Fe=5.25*10^5;  //Required saturation Magnetisation in A/m\n",
"b_m=9.27*10^-24; //Bohr Magneton in ampere*m^2 \n",
"a=0.839*10^-9; //a is edge length in m\n",
"M=5*10^5;  //From previous question result\n",
"printf(' Design Example 18.1\n');\n",
"y=poly([0],'y')  // Defining X\n",
"nb=Ms_Fe*a^3/b_m;\n",
"// 'x' represent fraction of Mn++ that have substituted Fe++\n",
"n=roots(8*[5*y+4*(1-y)]-nb);  //5 is Bohr magnetons per Fe++ ion\n",
"                              //4 is Bohr magnetons per Mn++ ion\n",
"printf('\n Replacing %.1f%% of Fe++ with Mn++ would produce \n the required saturation magnetisation of %.2e A/m\n',n*100,Ms_Fe);\n",
""
   ]
   }
],
"metadata": {
		  "kernelspec": {
		   "display_name": "Scilab",
		   "language": "scilab",
		   "name": "scilab"
		  },
		  "language_info": {
		   "file_extension": ".sce",
		   "help_links": [
			{
			 "text": "MetaKernel Magics",
			 "url": "https://github.com/calysto/metakernel/blob/master/metakernel/magics/README.md"
			}
		   ],
		   "mimetype": "text/x-octave",
		   "name": "scilab",
		   "version": "0.7.1"
		  }
		 },
		 "nbformat": 4,
		 "nbformat_minor": 0
}
