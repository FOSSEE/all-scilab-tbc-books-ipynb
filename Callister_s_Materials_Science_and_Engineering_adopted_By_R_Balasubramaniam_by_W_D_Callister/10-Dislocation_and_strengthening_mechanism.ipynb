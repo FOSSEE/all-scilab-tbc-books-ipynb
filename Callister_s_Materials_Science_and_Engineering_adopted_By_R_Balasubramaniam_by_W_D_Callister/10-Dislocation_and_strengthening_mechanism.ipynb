{
"cells": [
 {
		   "cell_type": "markdown",
	   "metadata": {},
	   "source": [
       "# Chapter 10: Dislocation and strengthening mechanism"
	   ]
	},
{
		   "cell_type": "markdown",
		   "metadata": {},
		   "source": [
			"## Example 10.1: Resolved_shear_stress_and_stress_to_initiate_yielding_computations.sce"
		   ]
		  },
  {
"cell_type": "code",
	   "execution_count": null,
	   "metadata": {
	    "collapsed": true
	   },
	   "outputs": [],
"source": [
"\n",
"\n",
"\n",
"clc\n",
"u1 = 0 // Bravais index\n",
"v1 = 1// Bravais index\n",
"w1 = 0// Bravais index\n",
"u2 = 1// Bravais index\n",
"v2 = 1// Bravais index\n",
"w2 = 0// Bravais index\n",
"u3 = -1// Bravais index\n",
"v3 = 1// Bravais index\n",
"w3 = 1// Bravais index\n",
"tau_r1 = 30 // Critical resolved shear stress\n",
"sigma = 52// Tensile strength in MPa\n",
"printf('Example 10.1\n')\n",
"printf('\n Part A:')\n",
"phi = acos((u1*u2+v1*v2+w1*w2)/sqrt((u1^2+v1^2+w1^2)*(u2^2+v2^2+w2^2)))\n",
"lambda = acos((u3*u1+v3*v1+w3*w1)/sqrt((u1^2+v1^2+w1^2)*(u3^2+v3^2+w3^2)))\n",
"tau_r = sigma*cos(phi)*cos(lambda)\n",
"printf('\n Resolved shear stress is %.1f MPa',tau_r)\n",
"// Answer in book is 21.3 MPa which is due to approximation\n",
"printf('\n\n Part B:')\n",
"sigma1 = tau_r1/(cos(phi)*cos(lambda))\n",
"printf('\n Applied tensile force to initiate yielding is %.1f MPa',sigma1)\n",
"// Answer in book is 73.4 MPa which is due to approximation\n",
""
   ]
   }
,
{
		   "cell_type": "markdown",
		   "metadata": {},
		   "source": [
			"## Example 10.2: Tensile_strength_and_ductility_Determination_for_cold_worked_copper.sce"
		   ]
		  },
  {
"cell_type": "code",
	   "execution_count": null,
	   "metadata": {
	    "collapsed": true
	   },
	   "outputs": [],
"source": [
"\n",
"\n",
"clc\n",
"// Given that\n",
"d1 = 15.2 // Initial diameter in mm\n",
"d2 = 12.2 // Final diameter in mm\n",
"printf('Example 10.2\n')\n",
"per_CW = (d1^2 - d2^2)*100/d1^2 \n",
"printf('\n The tensile strength is read directly from the curve for copper(figure 10.9b) \n as 340 MPa From figure 10.19c, the Ductility at %0.1f CW is about 7%% EL.',per_CW)\n",
"\n",
"// Some values are deduced from figures"
   ]
   }
,
{
		   "cell_type": "markdown",
		   "metadata": {},
		   "source": [
			"## Example 10.3: Tensile_strength_and_ductility_Determination_for_cold_worked_copper.sce"
		   ]
		  },
  {
"cell_type": "code",
	   "execution_count": null,
	   "metadata": {
	    "collapsed": true
	   },
	   "outputs": [],
"source": [
"\n",
"\n",
"//page no 371\n",
"clc\n",
"// Given that\n",
"d1 = 6.4 // Initial diameter in mm for first drawing\n",
"sigma = 345 // tensile strength in MPa\n",
"el = 20 // ductility in percent\n",
"d2 = 5.1 // Final diameter in mm\n",
"per_cw = 21.5 // deformation\n",
"printf('Design Example 10.1\n')\n",
"per_CW = (d1^2 - d2^2)*100/d1^2 \n",
"d0 = sqrt((d2^2*100)/(100-el))\n",
"printf('\n Theoretical %% Cold Work is %.1f',per_CW)\n",
"printf('\n Original Diameter for second drawing is %.1f mm',d0)\n",
"// Answer in book is 5.8 mm which is due to approximation at intermediate steps\n",
"\n",
""
   ]
   }
],
"metadata": {
		  "kernelspec": {
		   "display_name": "Scilab",
		   "language": "scilab",
		   "name": "scilab"
		  },
		  "language_info": {
		   "file_extension": ".sce",
		   "help_links": [
			{
			 "text": "MetaKernel Magics",
			 "url": "https://github.com/calysto/metakernel/blob/master/metakernel/magics/README.md"
			}
		   ],
		   "mimetype": "text/x-octave",
		   "name": "scilab",
		   "version": "0.7.1"
		  }
		 },
		 "nbformat": 4,
		 "nbformat_minor": 0
}
