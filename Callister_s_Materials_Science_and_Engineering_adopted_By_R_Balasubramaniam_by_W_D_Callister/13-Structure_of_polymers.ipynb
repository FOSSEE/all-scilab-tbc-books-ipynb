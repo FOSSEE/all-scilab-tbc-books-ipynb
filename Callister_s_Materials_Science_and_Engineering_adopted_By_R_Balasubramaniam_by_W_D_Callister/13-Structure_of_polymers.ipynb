{
"cells": [
 {
		   "cell_type": "markdown",
	   "metadata": {},
	   "source": [
       "# Chapter 13: Structure of polymers"
	   ]
	},
{
		   "cell_type": "markdown",
		   "metadata": {},
		   "source": [
			"## Example 13.1: Computation_of_Average_molecular_weights_and_degree_of_polymerization.sce"
		   ]
		  },
  {
"cell_type": "code",
	   "execution_count": null,
	   "metadata": {
	    "collapsed": true
	   },
	   "outputs": [],
"source": [
"\n",
"\n",
"clc\n",
"// Given that\n",
"m1 = 7500 // Mean molecular weight in g/mol\n",
"m2 = 12500 // Mean molecular weight in g/mol\n",
"m3 = 17500 // Mean molecular weight in g/mol\n",
"m4 = 22500 // Mean molecular weight in g/mol\n",
"m5 = 27500 // Mean molecular weight in g/mol\n",
"m6 = 32500 // Mean molecular weight in g/mol\n",
"m7 = 37500 // Mean molecular weight in g/mol\n",
"x1 = 0.05 // Mole fraction\n",
"x2 = 0.16 // Mole fraction\n",
"x3 = 0.22 // Mole fraction\n",
"x4 = 0.27 // Mole fraction\n",
"x5 = 0.20 // Mole fraction\n",
"x6 = 0.08 // Mole fraction\n",
"x7 = 0.02 // Mole fraction\n",
"w1 = 0.02 // weight fraction\n",
"w2 = 0.10// weight fraction\n",
"w3 = 0.18// weight fraction\n",
"w4 = 0.29// weight fraction\n",
"w5 = 0.26// weight fraction\n",
"w6 = 0.13// weight fraction\n",
"w7 = 0.02// weight fraction\n",
"m_c = 12.01 // molar mass of carbon in gram/mole\n",
"m_h = 1.01 // molar mass of hydrogen in gram/mole\n",
"m_cl = 35.45 // molar mass of chlorine in gram/mole\n",
"\n",
"printf('\n Problem 13.1')\n",
"printf('\n Part A:')\n",
"M_n = m1*x1+m2*x2+m3*x3+m4*x4+m5*x5+m6*x6+m7*x7\n",
"printf('\n The number average molecular weight is %d gram/mol',M_n)\n",
"printf('\n\n Part B:')\n",
"m = 2*m_c+3*m_h+1*m_cl // Mass of repeating unit\n",
"DP = M_n/m\n",
"printf('\n The degree of polimarization is %d ',DP)\n",
"printf('\n\n Part C:')\n",
"M_w = m1*w1+m2*w2+m3*w3+m4*w4+m5*w5+m6*w6+m7*w7\n",
"printf('\n The weight average molecular weight is %d gram/mol',M_w)\n",
""
   ]
   }
],
"metadata": {
		  "kernelspec": {
		   "display_name": "Scilab",
		   "language": "scilab",
		   "name": "scilab"
		  },
		  "language_info": {
		   "file_extension": ".sce",
		   "help_links": [
			{
			 "text": "MetaKernel Magics",
			 "url": "https://github.com/calysto/metakernel/blob/master/metakernel/magics/README.md"
			}
		   ],
		   "mimetype": "text/x-octave",
		   "name": "scilab",
		   "version": "0.7.1"
		  }
		 },
		 "nbformat": 4,
		 "nbformat_minor": 0
}
