{
"cells": [
 {
		   "cell_type": "markdown",
	   "metadata": {},
	   "source": [
       "# Chapter 3: Fundamentals of structure of crystalline solids"
	   ]
	},
{
		   "cell_type": "markdown",
		   "metadata": {},
		   "source": [
			"## Example 3.1: Location_of_point_having_specified_coordinates.sce"
		   ]
		  },
  {
"cell_type": "code",
	   "execution_count": null,
	   "metadata": {
	    "collapsed": true
	   },
	   "outputs": [],
"source": [
"clc\n",
"// Given\n",
"a = 0.48// let side of a unit cell\n",
"b = 0.46 //  let side of a unit cell\n",
"c = 0.40 // let side of a unit cell\n",
"p_x = 1/4\n",
"p_y = 1\n",
"p_z = 1/2\n",
"printf('Example 3.1')\n",
"qa = a*p_x // distance of point along x axis from origin in nm\n",
"rb = b*p_y // distance of point along y axis from origin in nm\n",
"sc = c*p_z // distance of point along z axis from origin\n",
"printf('\n Point P (%.2f,%.2f,%.2f) corresponds to',p_x,p_y,p_z)\n",
"printf(' %.2fnm,%.2fnm,%.2fnm ',qa,rb,sc)"
   ]
   }
,
{
		   "cell_type": "markdown",
		   "metadata": {},
		   "source": [
			"## Example 3.2: Specification_of_point_coordinates.sce"
		   ]
		  },
  {
"cell_type": "code",
	   "execution_count": null,
	   "metadata": {
	    "collapsed": true
	   },
	   "outputs": [],
"source": [
"\n",
"clc\n",
"//given that\n",
"// unit cell is BCC\n",
"printf('Example 3.2')\n",
"printf('\n\nPoint \t Fractional Length\t Point \n')\n",
"printf('Number \t x axix\t y axix\ z axix \t Coordinate\n')\n",
"n = 1 // serial number\n",
"\n",
"for x = 0:1\n",
"    for y = 0:1\n",
"        for z = 0:1\n",
"             \n",
"            printf('%d\t   %d       %d      %d \t %d %d %d \n',n,x,y,z,x,y,z)\n",
"           n = n+1\n",
"        end\n",
"    end\n",
"end\n",
"x = 0.5// x coordinate for center point\n",
"y = 0.5// y coordinate for center point\n",
"z = 0.5// y coordinate for center point\n",
"printf('%d\t  %.1f     %0.1f    %.1f   %.1f %.1f %.1f \n',n,x,y,z,x,y,z)\n",
"// sequence of point number is changed to make problem programable "
   ]
   }
,
{
		   "cell_type": "markdown",
		   "metadata": {},
		   "source": [
			"## Example 3.3: Specification_of_support_Post_Diameter.sce"
		   ]
		  },
  {
"cell_type": "code",
	   "execution_count": null,
	   "metadata": {
	    "collapsed": true
	   },
	   "outputs": [],
"source": [
"\n",
"clc \n",
"// Given\n",
"a = 1 // let side of a unit cell\n",
"b = 1 // let side of a unit cell\n",
"c = 1 // let side of a unit cell\n",
"x_proj = 0.5*a // x coordinate of point\n",
"y_proj = 1*b // y coordinate of point\n",
"z_proj = 0*c // z coordinate of point\n",
"\n",
"printf(' Example 3.3\n')\n",
"k = 1/x_proj\n",
"x_reduction = x_proj*k // reduction in x direction\n",
"y_reduction = y_proj*k // reduction in x direction\n",
"z_reduction = z_proj*k // reduction in x direction\n",
"\n",
"printf('\n Indices of direction are as [%d %d %d]\n',x_reduction,y_reduction,z_reduction)"
   ]
   }
,
{
		   "cell_type": "markdown",
		   "metadata": {},
		   "source": [
			"## Example 3.4: Construction_of_specified_crystallographic_direction.sce"
		   ]
		  },
  {
"cell_type": "code",
	   "execution_count": null,
	   "metadata": {
	    "collapsed": true
	   },
	   "outputs": [],
"source": [
"clc\n",
"printf(' Example 3.4\n')\n",
"printf('\n It is a diagram based theoretically solved example\n')\n",
""
   ]
   }
,
{
		   "cell_type": "markdown",
		   "metadata": {},
		   "source": [
			"## Example 3.5: Determination_of_directional_indices_for_a_hexagonal_unit_cell.sce"
		   ]
		  },
  {
"cell_type": "code",
	   "execution_count": null,
	   "metadata": {
	    "collapsed": true
	   },
	   "outputs": [],
"source": [
"\n",
"\n",
"clc \n",
"// Given\n",
"u1 = 1 // Unit cell parameter\n",
"v1 = 1 // Unit cell parameter\n",
"w1 = 1 // Unit cell parameter\n",
"\n",
"printf(' Example 3.5\n')\n",
"u_1 = 1/3*(2*u1-v1)\n",
"v_1 = 1/3*(2*v1-u1)\n",
"t_1 = -(u_1+v_1)\n",
"w_1 = w1\n",
"k = 1/u_1\n",
"u = u_1*k\n",
"v = v_1*k\n",
"w = w_1*k\n",
"t = t_1*k\n",
"printf('\n Indices of direction are as [%d %d %d %d]\n',u,v,t,w)\n",
"// while in notation negative value is indicated by a bar over it"
   ]
   }
,
{
		   "cell_type": "markdown",
		   "metadata": {},
		   "source": [
			"## Example 3.6: Specification_of_support_Post_Diameter.sce"
		   ]
		  },
  {
"cell_type": "code",
	   "execution_count": null,
	   "metadata": {
	    "collapsed": true
	   },
	   "outputs": [],
"source": [
"\n",
"\n",
"clc \n",
"// Given\n",
"a = 1// let side of a unit cell\n",
"b = 1 //  let side of a unit cell\n",
"c = 1 // let side of a unit cell\n",
"\n",
"printf(' Example 3.6\n')\n",
"x_proj = 0 // x coordinate of point\n",
"y_proj = -1*b // y coordinate of point\n",
"z_proj = 0.5*c // z coordinate of point\n",
"x_reduction = x_proj*a // reduction in x direction\n",
"y_reduction = 1/y_proj// reduction in x direction\n",
"z_reduction = 1/z_proj // reduction in x direction\n",
"\n",
"printf('\n Indices of direction are as [%d %d %d]\n',x_reduction,y_reduction,z_reduction)\n",
"// while in notation negative value is indicated by a bar over it"
   ]
   }
,
{
		   "cell_type": "markdown",
		   "metadata": {},
		   "source": [
			"## Example 3.7: Construction_of_specified_crystallographic_plane.sce"
		   ]
		  },
  {
"cell_type": "code",
	   "execution_count": null,
	   "metadata": {
	    "collapsed": true
	   },
	   "outputs": [],
"source": [
"\n",
"clc\n",
"printf(' Example 3.7 \n')\n",
"printf('\n It is a diagram based theoretically solved example\n')"
   ]
   }
,
{
		   "cell_type": "markdown",
		   "metadata": {},
		   "source": [
			"## Example 3.8: Determination_of_directional_indices_for_a_hexagonal_unit_cell.sce"
		   ]
		  },
  {
"cell_type": "code",
	   "execution_count": null,
	   "metadata": {
	    "collapsed": true
	   },
	   "outputs": [],
"source": [
"\n",
"\n",
"clc \n",
"// Given\n",
"u1 = 1 // Unit cell parameter\n",
"v1 = -1 // Unit cell parameter\n",
"w1 = 1 // Unit cell parameter\n",
"\n",
"printf(' Example 3.8\n')\n",
"u_1 = 1/3*(2*u1-v1)\n",
"v_1 = 1/3*(2*v1-u1)\n",
"t_1 = -(u_1+v_1)\n",
"w_1 = w1\n",
"k = 1/u_1\n",
"u = u_1*k\n",
"v = v_1*k\n",
"w = w_1*k\n",
"t = t_1*k\n",
"printf('\n Indices of direction are as [%d %d %d %d]\n',u,v,t,w)\n",
"// while in notation negative value is indicated by a bar over it"
   ]
   }
],
"metadata": {
		  "kernelspec": {
		   "display_name": "Scilab",
		   "language": "scilab",
		   "name": "scilab"
		  },
		  "language_info": {
		   "file_extension": ".sce",
		   "help_links": [
			{
			 "text": "MetaKernel Magics",
			 "url": "https://github.com/calysto/metakernel/blob/master/metakernel/magics/README.md"
			}
		   ],
		   "mimetype": "text/x-octave",
		   "name": "scilab",
		   "version": "0.7.1"
		  }
		 },
		 "nbformat": 4,
		 "nbformat_minor": 0
}
