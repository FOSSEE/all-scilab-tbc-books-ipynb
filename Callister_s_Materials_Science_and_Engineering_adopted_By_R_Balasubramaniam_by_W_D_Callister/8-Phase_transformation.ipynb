{
"cells": [
 {
		   "cell_type": "markdown",
	   "metadata": {},
	   "source": [
       "# Chapter 8: Phase transformation"
	   ]
	},
{
		   "cell_type": "markdown",
		   "metadata": {},
		   "source": [
			"## Example 8.1: Computation_of_Critical_Nuclear_Radius_and_Activation_energy.sce"
		   ]
		  },
  {
"cell_type": "code",
	   "execution_count": null,
	   "metadata": {
	    "collapsed": true
	   },
	   "outputs": [],
"source": [
"\n",
"\n",
"clc\n",
"// Given that\n",
"Hf=-1.16*10^9  //  Latent heat of fusion in J/m^3 \n",
"Y=0.132  //   Surface energy in J/m^2\n",
"Tm=1064+273  // Melting point of gold in K  \n",
"T=1064+273-230  //  230 is supercoiling value in K \n",
"a=0.413*10^-9  //  Unit Cell edge length in m \n",
"n = 4 // Number of atoms in a FCC unit cell\n",
"printf('Example 8.1\n');\n",
"\n",
"printf('\n Part A');\n",
"\n",
"r=-2*Y*Tm/(Hf*(Tm-T));\n",
"\n",
"printf('\n Critical Radius is : %.2f nm\n',r/10^-9);\n",
"\n",
"G=16*%pi*Y^3*Tm^2/(3*Hf^2*(Tm-T)^2);\n",
"\n",
"printf(' Activation free energy is : %.2e J\n',G) // Answer in book is 9.64e-19 J. It is due to approximation at intermediate stage\n",
"\n",
"printf('\n Part B')\n",
"u_c=4*%pi*r^3/(3*a^3)\n",
"\n",
"printf('\n Unit cells per paricle are : %d',u_c);\n",
"tot_uc = n*int(u_c) // Total no. of atoms per critical nucleus\n",
"printf('\n Total no. of atoms per critical nucleus are : %d\n',tot_uc);\n",
""
   ]
   }
,
{
		   "cell_type": "markdown",
		   "metadata": {},
		   "source": [
			"## Example 8.2: Microstructure_determination_for_three_isothermal_heat_transfer.sce"
		   ]
		  },
  {
"cell_type": "code",
	   "execution_count": null,
	   "metadata": {
	    "collapsed": true
	   },
	   "outputs": [],
"source": [
"clc\n",
"printf(' Example 8.2 \n')\n",
"printf('\n It is a diagram based theoretically solved example\n')\n",
""
   ]
   }
],
"metadata": {
		  "kernelspec": {
		   "display_name": "Scilab",
		   "language": "scilab",
		   "name": "scilab"
		  },
		  "language_info": {
		   "file_extension": ".sce",
		   "help_links": [
			{
			 "text": "MetaKernel Magics",
			 "url": "https://github.com/calysto/metakernel/blob/master/metakernel/magics/README.md"
			}
		   ],
		   "mimetype": "text/x-octave",
		   "name": "scilab",
		   "version": "0.7.1"
		  }
		 },
		 "nbformat": 4,
		 "nbformat_minor": 0
}
