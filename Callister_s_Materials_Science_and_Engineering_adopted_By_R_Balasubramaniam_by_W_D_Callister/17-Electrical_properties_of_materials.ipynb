{
"cells": [
 {
		   "cell_type": "markdown",
	   "metadata": {},
	   "source": [
       "# Chapter 17: Electrical properties of materials"
	   ]
	},
{
		   "cell_type": "markdown",
		   "metadata": {},
		   "source": [
			"## Example 17.1: EX17_1.sce"
		   ]
		  },
  {
"cell_type": "code",
	   "execution_count": null,
	   "metadata": {
	    "collapsed": true
	   },
	   "outputs": [],
"source": [
"\n",
"clc\n",
"// Given that\n",
"sigma=10^-6  // ( Electrical Conductivity in Ohm-m)^-1 \n",
"e=1.6*10^-19  // Charge on electron in Coulomb \n",
"m_e=0.85 //Mobility of electron in m^2/V-s  \n",
"m_h=0.04 // Mobility of holes in m^2/V-s \n",
" \n",
"printf(' Example 17.1\n')\n",
"n_i=sigma/(e*(m_e+m_h))//n_i is Intrinsic carrier concentration\n",
"\n",
"printf('\n Intrinsic Carrier Concentration is %.1e m^-3\n',n_i);"
   ]
   }
,
{
		   "cell_type": "markdown",
		   "metadata": {},
		   "source": [
			"## Example 17.2: Electrical_Conductivity_Determination_for_Intrinsic_Silicon_at_150_degree_C.sce"
		   ]
		  },
  {
"cell_type": "code",
	   "execution_count": null,
	   "metadata": {
	    "collapsed": true
	   },
	   "outputs": [],
"source": [
"\n",
"clc\n",
"// Given that\n",
"e=1.6*10^-19  //Charge on electron in Coulomb \n",
"ni=4*10^19 //  number of electron per unit volume for Si at 423 K   (m^-3)\n",
"//Values of m_e and m_h are deduced from graphs at page No.689\n",
"m_e=0.06  //Mobility of electron in m^2/V-s  \n",
"m_h=0.022  //  Mobility of holes in m^2/V-s\n",
"printf(' Example 17.2\n')\n",
"sigma=ni*e*(m_e+m_h) // electrical conductivity\n",
"\n",
"printf('\n Electrical Conductivity is %.2f (Ohm-m)^-1\n',sigma)\n",
""
   ]
   }
,
{
		   "cell_type": "markdown",
		   "metadata": {},
		   "source": [
			"## Example 17.3: Room_Temperature_for_Extrinsic_Silicon.sce"
		   ]
		  },
  {
"cell_type": "code",
	   "execution_count": null,
	   "metadata": {
	    "collapsed": true
	   },
	   "outputs": [],
"source": [
"\n",
"clc\n",
"// given that\n",
"n=10^23 //  Carrier Concentration in m^-3\n",
"e=1.6*10^-19  //Charge on electron in Coulomb  \n",
"//From graph 18.18 m_e is calculated corresponding to n=10^23\n",
"m_e=0.07  // Mobility of electron in m^2/V-s \n",
"m_e2=0.04  //  Mobility of electron m^2/V-s\n",
"printf(' Example 17.3\n')\n",
"printf('\n Part A:\n ')\n",
"printf('\n Material is n-type \n ')\n",
"printf('\n Part B\n ')\n",
"sigma=n*e*m_e // electrical conductivity calculation for extrinsic n-type\n",
"printf('\n Conductivity is just %d (Ohm-m)^-1\n',sigma)\n",
"printf('\n Part C\n');\n",
"//From graph 18.19a m_e2 is calculated corresponding to 373 K\n",
"sigma2=n*e*m_e2\n",
"printf('\n Conductivity at T=373 K becomes %d (Ohm-m)^-1\n',sigma2);\n",
""
   ]
   }
,
{
		   "cell_type": "markdown",
		   "metadata": {},
		   "source": [
			"## Example 17.4: Hall_Voltage_Computatio.sce"
		   ]
		  },
  {
"cell_type": "code",
	   "execution_count": null,
	   "metadata": {
	    "collapsed": true
	   },
	   "outputs": [],
"source": [
"\n",
"clc\n",
"// given that\n",
"sigma=3.8*10^7  // Electrical Conductivity in (Ohm-m)^-1  \n",
"m_e=0.0012  // Mobility of electron in m^2/V-s \n",
"I_x=25  // Current in Ampere(A)\n",
"d=15*10^-3 //Thickness in m \n",
"B_z=0.6  // Magnetic field in Tesla \n",
"printf('Example 17.4\n')\n",
"Rh=-m_e/sigma  //Hall coefficient\n",
"printf('\n Hall coefficient is %.2e V-m/A-Tesla\n',Rh)\n",
"Vh=Rh*I_x*B_z/d\n",
"printf('\n Hall Voltage is %.2e V\n',Vh)\n",
"\n",
""
   ]
   }
,
{
		   "cell_type": "markdown",
		   "metadata": {},
		   "source": [
			"## Example 17.5: Computation_of_Capacitor_properties.sce"
		   ]
		  },
  {
"cell_type": "code",
	   "execution_count": null,
	   "metadata": {
	    "collapsed": true
	   },
	   "outputs": [],
"source": [
"\n",
"clc\n",
"// given that\n",
"A = 6.45e-4 // Area of plat in m^2\n",
"l = 2e-3 // separation between plates in m\n",
"epsilon_r = 6 //dielectric constant of material\n",
"epsilon_0 = 8.85e-12 // universal constant\n",
"V = 10 // Applied voltage in Volt\n",
"printf('\n Example 17.5')\n",
"printf('\n Part A:')\n",
"C = epsilon_0*epsilon_r*A/l // Capacitance of a parallel plat capacitor\n",
"printf('\n Capacitance of capacitor is %.2e F',C)\n",
"printf('\n\n Part B:')\n",
"Q = C*V // Stored charge calculation\n",
"printf('\n Stored charge in capacitor is %.2e C',Q)\n",
"printf('\n\n Part C:')\n",
"D = epsilon_0*epsilon_r*V/l // Dielectric displacement\n",
"printf('\n Dielectric displacement in capacitor is %.2e C/m^2',ceil(D*1e9)/1e9)\n",
"printf('\n\n Part D:')\n",
"P = D - epsilon_0*V/l // Polarisation \n",
"printf('\n Polarization is %.2e C/m^2', ceil(P*1e9)/1e9)\n",
"\n",
"\n",
""
   ]
   }
,
{
		   "cell_type": "markdown",
		   "metadata": {},
		   "source": [
			"## Example 17.6: Acceptor_impurity_doping_in_Silicon.sce"
		   ]
		  },
  {
"cell_type": "code",
	   "execution_count": null,
	   "metadata": {
	    "collapsed": true
	   },
	   "outputs": [],
"source": [
"\n",
"\n",
"\n",
"//page no 649\n",
"clc\n",
"// given that\n",
"p1 = 1e22 // Number of electrons per unit volume\n",
"e = 1.6e-19 // Charge on electron in coulomb\n",
"mu_h1 = 0.04 // concentration of holes mobility in m^/Vs\n",
"sigma_d = 50 // Desired conductivity in (ohm-m)^-1\n",
"p2 = 1e21// Number of electrons per unit volume\n",
"mu_h2 = 0.045// concentration of holes mobility in m^/Vs\n",
"p3 = 8e21// Number of electrons per unit volume\n",
"mu_h3 = mu_h1// concentration of holes mobility in m^/Vs\n",
"N_a = 6.023e23 // Avogadro’s constant\n",
"rho_si = 2.33e6 // density of silicon in g/m^3\n",
"A_si = 28.09 // molecular weight in g/mol\n",
"printf('\n Design Example 17.1\n')\n",
"sigma1 = p1*e*mu_h1\n",
"sigma2 = p2*e*mu_h2\n",
"sigma3 = p3*e*mu_h3\n",
"N_Si = N_a*rho_si/A_si\n",
"Ca  = p3*100/(p3+N_Si)\n",
"printf('\n Silicon material of p-type of conductivity %d (ohm-m)^-1 \n must have %.2e%% doping material',sigma_d,Ca)\n",
""
   ]
   }
],
"metadata": {
		  "kernelspec": {
		   "display_name": "Scilab",
		   "language": "scilab",
		   "name": "scilab"
		  },
		  "language_info": {
		   "file_extension": ".sce",
		   "help_links": [
			{
			 "text": "MetaKernel Magics",
			 "url": "https://github.com/calysto/metakernel/blob/master/metakernel/magics/README.md"
			}
		   ],
		   "mimetype": "text/x-octave",
		   "name": "scilab",
		   "version": "0.7.1"
		  }
		 },
		 "nbformat": 4,
		 "nbformat_minor": 0
}
