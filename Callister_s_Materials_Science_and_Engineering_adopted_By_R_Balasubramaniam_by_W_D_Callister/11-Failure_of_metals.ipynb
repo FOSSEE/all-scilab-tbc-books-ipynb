{
"cells": [
 {
		   "cell_type": "markdown",
	   "metadata": {},
	   "source": [
       "# Chapter 11: Failure of metals"
	   ]
	},
{
		   "cell_type": "markdown",
		   "metadata": {},
		   "source": [
			"## Example 11.1: Maximum_Flaw_Length_Computation.sce"
		   ]
		  },
  {
"cell_type": "code",
	   "execution_count": null,
	   "metadata": {
	    "collapsed": true
	   },
	   "outputs": [],
"source": [
"\n",
"\n",
"\n",
"clc\n",
"// given that\n",
"\n",
"sigma=40*10^6 // in Pa  Tensile stress\n",
"E=69*10^9  //Modulus of elasticity  in pa\n",
"Ys=0.3  //Specific surface energy  in N/m^2\n",
"printf(' Example 11.1\n');\n",
"\n",
"a=2*E*Ys/(%pi*sigma^2) //Maximum length of surface flaw\n",
"\n",
"printf('\n Maximum length of surface flaw without fracture is %.1f micro meter \n',a*1e6);\n",
"\n",
""
   ]
   }
,
{
		   "cell_type": "markdown",
		   "metadata": {},
		   "source": [
			"## Example 11.2: Materials_specification_for_a_pressurized_steel_tank.sce"
		   ]
		  },
  {
"cell_type": "code",
	   "execution_count": null,
	   "metadata": {
	    "collapsed": true
	   },
	   "outputs": [],
"source": [
"clc\n",
"//page no 399\n",
"printf(' Design Example 11.1\n')\n",
"printf('\n It is a diagram and table based theoretically solved example\n')"
   ]
   }
,
{
		   "cell_type": "markdown",
		   "metadata": {},
		   "source": [
			"## Example 11.3: Rupture_Lifetime_Predictio.sce"
		   ]
		  },
  {
"cell_type": "code",
	   "execution_count": null,
	   "metadata": {
	    "collapsed": true
	   },
	   "outputs": [],
"source": [
"\n",
"//page no 421\n",
"clc\n",
"// Given that\n",
"T=800+273;  // Ambient temperature  in K\n",
"//stress is 140 MPa\n",
"L_M=24*10^3 // Larson - miller parameter \n",
"//From Graph of Fig. 8.32 Larson-Miller Parameter is deduced\n",
"printf('\n Design Example 11.2\n')\n",
"t=10^((L_M/T)-20)\n",
"printf('\n Time to rupture for a component is %d hours(%.1f days)\n',t,t/(24))\n",
"// Answer in book is 233 hours. it is because of approximation at intermediate stage\n",
""
   ]
   }
],
"metadata": {
		  "kernelspec": {
		   "display_name": "Scilab",
		   "language": "scilab",
		   "name": "scilab"
		  },
		  "language_info": {
		   "file_extension": ".sce",
		   "help_links": [
			{
			 "text": "MetaKernel Magics",
			 "url": "https://github.com/calysto/metakernel/blob/master/metakernel/magics/README.md"
			}
		   ],
		   "mimetype": "text/x-octave",
		   "name": "scilab",
		   "version": "0.7.1"
		  }
		 },
		 "nbformat": 4,
		 "nbformat_minor": 0
}
