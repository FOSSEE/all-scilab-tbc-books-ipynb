{
"cells": [
 {
		   "cell_type": "markdown",
	   "metadata": {},
	   "source": [
       "# Chapter 16: Corrosion and degradation"
	   ]
	},
{
		   "cell_type": "markdown",
		   "metadata": {},
		   "source": [
			"## Example 16.1: Determination_of_Electrochemical_Cell_Characteristics.sce"
		   ]
		  },
  {
"cell_type": "code",
	   "execution_count": null,
	   "metadata": {
	    "collapsed": true
	   },
	   "outputs": [],
"source": [
"\n",
"\n",
"clc\n",
"// Given that\n",
"\n",
"V_Cd=-0.403  //Half Cell Potential of Cd++|Cd in volt\n",
"V_Ni=-0.250  //Half Cell Potential of Ni++|Ni volt\n",
"C_Ni=10^-3\n",
"C_Cd=0.5\n",
"n=2  //Net electron exchange in Redox reaction\n",
"printf(' Example 16.1\n')\n",
"printf('\n Part A:')\n",
"dV=V_Ni-V_Cd // Potential difference in volts\n",
"printf('\n Standard Cell potential is : %.3f V\n',dV)\n",
"printf('\n Part B:')\n",
"\n",
"V=-dV-(0.0592*log10(C_Ni/C_Cd)/n)\n",
"printf('\n Net EMF is : %.3f V\n',V)\n",
"printf('\n That is,')\n",
"\n",
"if V<0 then \n",
"    printf('\t Cd is oxidised & Ni is reduced \n')\n",
"else\n",
"    printf('\t Cd is reduced & Ni is oxidised\n')\n",
"end"
   ]
   }
,
{
		   "cell_type": "markdown",
		   "metadata": {},
		   "source": [
			"## Example 16.2: Rate_of_Oxidation_Computation.sce"
		   ]
		  },
  {
"cell_type": "code",
	   "execution_count": null,
	   "metadata": {
	    "collapsed": true
	   },
	   "outputs": [],
"source": [
"\n",
"clc\n",
"// given that\n",
"VH_H2=0 // half cell voltage \n",
"VZn_Zn2=-0.763 // half cell voltage \n",
"iZn=10^-7 // current density in A/cm^2\n",
"iH2=10^-10 // current density in A/cm^2\n",
"beta_Zn=0.09\n",
"beta_H2=-0.08\n",
"n=2 //Exchange of 2 electrons\n",
"F=96500//Faradays constant\n",
"\n",
"printf(' Example 16.2\n')\n",
"printf('\n Part A')\n",
"i_c=10^[(VH_H2-VZn_Zn2-(beta_H2*log10(iH2))+(beta_Zn*log10(iZn)))/(beta_Zn-beta_H2)]\n",
"printf('\n  Rate of oxidation with zinc is %.2e A/cm^2',i_c)\n",
"r=i_c/(n*F)\n",
"printf('\n  Rate of oxidation is %.2e mol/cm^2-s\n',floor(r*1e12)/1e12)\n",
"printf('\n Part B')\n",
"Vc=VH_H2+(beta_H2*log10(i_c/iH2))\n",
"printf('\n Corrosion potential is %.3f V\n',Vc)"
   ]
   }
],
"metadata": {
		  "kernelspec": {
		   "display_name": "Scilab",
		   "language": "scilab",
		   "name": "scilab"
		  },
		  "language_info": {
		   "file_extension": ".sce",
		   "help_links": [
			{
			 "text": "MetaKernel Magics",
			 "url": "https://github.com/calysto/metakernel/blob/master/metakernel/magics/README.md"
			}
		   ],
		   "mimetype": "text/x-octave",
		   "name": "scilab",
		   "version": "0.7.1"
		  }
		 },
		 "nbformat": 4,
		 "nbformat_minor": 0
}
