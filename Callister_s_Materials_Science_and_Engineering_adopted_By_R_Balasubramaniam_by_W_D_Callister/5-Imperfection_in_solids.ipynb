{
"cells": [
 {
		   "cell_type": "markdown",
	   "metadata": {},
	   "source": [
       "# Chapter 5: Imperfection in solids"
	   ]
	},
{
		   "cell_type": "markdown",
		   "metadata": {},
		   "source": [
			"## Example 5.1: Number_of_Vacancies_Computation_at_a_Specified_temperature.sce"
		   ]
		  },
  {
"cell_type": "code",
	   "execution_count": null,
	   "metadata": {
	    "collapsed": true
	   },
	   "outputs": [],
"source": [
"\n",
"\n",
"clc\n",
"// given that\n",
"Na=6.023*10^23 //Avogadro No.\n",
"rho=8.4e6 //Density of Copper in g/m^3\n",
"A=63.5 //Atomic weight of Copper\n",
"Qv=0.9 //Activation energy in eV\n",
"k=8.62*10^-5 //Boltzmann Constant in eV/K\n",
"T=1000+273//Temperature in K\n",
"printf('Example 5.1\n');\n",
"N=Na*rho/A //No. of atomic site per cubic meter\n",
"Nv=N*exp(-Qv/(k*T))\n",
"printf('\n Equilibrium number of vacancies/m^3 is %.1e for 1273K',Nv)\n",
""
   ]
   }
,
{
		   "cell_type": "markdown",
		   "metadata": {},
		   "source": [
			"## Example 5.2: Derivation_of_composition_conversion_equation.sce"
		   ]
		  },
  {
"cell_type": "code",
	   "execution_count": null,
	   "metadata": {
	    "collapsed": true
	   },
	   "outputs": [],
"source": [
"\n",
"clc\n",
"printf(' Example 5.2 \n')\n",
"printf('\n It is a derivational problem \n')\n",
""
   ]
   }
,
{
		   "cell_type": "markdown",
		   "metadata": {},
		   "source": [
			"## Example 5.3: Composition_Conversion_From_weight_percent_to_Atom_percent.sce"
		   ]
		  },
  {
"cell_type": "code",
	   "execution_count": null,
	   "metadata": {
	    "collapsed": true
	   },
	   "outputs": [],
"source": [
"\n",
"\n",
"clc\n",
"// given that\n",
"C_Al=97 //Aluminium wt%\n",
"C_Cu=3 //Copper wt%\n",
"A_Al=26.98 //Atomic wt of Aluminium\n",
"A_Cu=63.55 //Atomic wt of Copper\n",
"\n",
"printf(' Example 5.3\n')\n",
"    CAl=C_Al*A_Cu*100/((C_Al*A_Cu)+(C_Cu*A_Al))\n",
"    CCu=C_Cu*A_Al*100/((C_Cu*A_Al)+(C_Al*A_Cu))\n",
"printf('\n Atomic %% of Al is %.1f%%',CAl);\n",
"printf('\n Atomic %% of Cu is %.1f%%\n',CCu)"
   ]
   }
,
{
		   "cell_type": "markdown",
		   "metadata": {},
		   "source": [
			"## Example 5.4: Computation_of_Number_of_Scotty_Defect_in_KCl.sce"
		   ]
		  },
  {
"cell_type": "code",
	   "execution_count": null,
	   "metadata": {
	    "collapsed": true
	   },
	   "outputs": [],
"source": [
"\n",
"\n",
"\n",
"clc\n",
"// given that\n",
"Na=6.023*10^23 //Avogadro No.\n",
"rho=1.955 //Density of KCl in g/cm^3\n",
"A_k= 39.10 //Atomic weight of potassium in g/mol\n",
"A_cl= 35.45 //Atomic weight of Chlorine in g/mol\n",
"Qs=2.6 //Activation energy in eV\n",
"k=8.62*10^-5 //Boltzmann Constant in eV/K\n",
"T=500+273 //Temperature in K\n",
"\n",
"printf('Example 5.4\n')\n",
"A = A_k+A_cl // Molar mass of KCl in gram\n",
"N=Na*rho*1e6/A //No. of atomic site per cubic meter\n",
"Ns=N*exp(-Qs/(2*k*T))\n",
"printf('\n Number of Schottky defects are %.2e defects/m^3.',Ns)\n",
""
   ]
   }
,
{
		   "cell_type": "markdown",
		   "metadata": {},
		   "source": [
			"## Example 5.5: Determination_of_possible_point_defect_types_in_Nacl_due_to_presence_of_Ca_ions.sce"
		   ]
		  },
  {
"cell_type": "code",
	   "execution_count": null,
	   "metadata": {
	    "collapsed": true
	   },
	   "outputs": [],
"source": [
"\n",
"clc\n",
"printf(' Example 5.5\n')\n",
"printf('\n It is a theoretically solved example\n')\n",
""
   ]
   }
,
{
		   "cell_type": "markdown",
		   "metadata": {},
		   "source": [
			"## Example 5.6: Computations_of_ASTM_Grain_Size_Number_of_Grains_per_Unit_Area.sce"
		   ]
		  },
  {
"cell_type": "code",
	   "execution_count": null,
	   "metadata": {
	    "collapsed": true
	   },
	   "outputs": [],
"source": [
"\n",
"\n",
"clc\n",
"// given that \n",
"N=45 //Number of grains per square inch\n",
"M=85 // magnification\n",
"\n",
"printf('Example 5.6\n');\n",
"printf('\n Part A');\n",
"n=(log(N)/log(2))+1 //calculation for grain size no.  N=2^(n-1)\n",
"printf('\n Grain size number is %.1f\n',n)\n",
"printf('\n Part B')\n",
"Nm=(100/M)^2*2^(n-1)\n",
"printf('\n At magnification of 85x\n')\n",
"printf(' Number of grains per inch square are %.2f\n',Nm)\n",
"// answer in book is 62.6. It is because of rounding off at intermediate stages"
   ]
   }
],
"metadata": {
		  "kernelspec": {
		   "display_name": "Scilab",
		   "language": "scilab",
		   "name": "scilab"
		  },
		  "language_info": {
		   "file_extension": ".sce",
		   "help_links": [
			{
			 "text": "MetaKernel Magics",
			 "url": "https://github.com/calysto/metakernel/blob/master/metakernel/magics/README.md"
			}
		   ],
		   "mimetype": "text/x-octave",
		   "name": "scilab",
		   "version": "0.7.1"
		  }
		 },
		 "nbformat": 4,
		 "nbformat_minor": 0
}
