{
"cells": [
 {
		   "cell_type": "markdown",
	   "metadata": {},
	   "source": [
       "# Chapter 4: Structure of crystalline solids"
	   ]
	},
{
		   "cell_type": "markdown",
		   "metadata": {},
		   "source": [
			"## Example 4.1: Determination_of_FCC_Unit_Cell_Volume.sce"
		   ]
		  },
  {
"cell_type": "code",
	   "execution_count": null,
	   "metadata": {
	    "collapsed": true
	   },
	   "outputs": [],
"source": [
"\n",
"\n",
"clc\n",
"//given that\n",
"R = 1 // let radius of an atom is unity\n",
"printf('Example 4.1\n')\n",
"//For FCC a=2*R*sqrt(2)\n",
"\n",
"a=2*R*sqrt(2) //Edge Length\n",
"V=a^3 //Volume determination\n",
"printf('\n Volume of an FCC unit cell is %fR^3  \n\n',V)"
   ]
   }
,
{
		   "cell_type": "markdown",
		   "metadata": {},
		   "source": [
			"## Example 4.2: Computation_of_the_Atomic_Packing_Factor_for_FCC.sce"
		   ]
		  },
  {
"cell_type": "code",
	   "execution_count": null,
	   "metadata": {
	    "collapsed": true
	   },
	   "outputs": [],
"source": [
"\n",
"\n",
"clc\n",
"//given that\n",
"R = 1 // let radius of an atom to be unity \n",
"n=4 // no. of atoms for FCC are 4\n",
"printf('Example 4.2\n');\n",
"a=2*R*sqrt(2) // edge length for FCC\n",
"Vc=a^3 //Volume of cube\n",
"Vs=n*4*%pi*R^3/3 //Volume of sphere\n",
"APF=Vs/Vc //Atomic packing Fraction\n",
"\n",
"printf('\n Atomic packing factor is %.2f',APF)"
   ]
   }
,
{
		   "cell_type": "markdown",
		   "metadata": {},
		   "source": [
			"## Example 4.3: Theoretical_Density_Computation_for_Copper.sce"
		   ]
		  },
  {
"cell_type": "code",
	   "execution_count": null,
	   "metadata": {
	    "collapsed": true
	   },
	   "outputs": [],
"source": [
"\n",
"\n",
"clc\n",
"// given that\n",
"R=1.28D-08//Atomic radius in cm\n",
"A_Cu=63.5 //Atomic wt of copper\n",
"n=4   //For FCC\n",
"Na=6.023D23 //Avogadro no.\n",
"printf('Example 4.3\n')\n",
"\n",
"a=2*R*sqrt(2)\n",
"Vc=a^3\n",
"rho=n*A_Cu/(Vc*Na)\n",
"printf('\n Density of copper is %.2f g/cm^3.\n',rho)\n",
""
   ]
   }
,
{
		   "cell_type": "markdown",
		   "metadata": {},
		   "source": [
			"## Example 4.4: EX4_4.sce"
		   ]
		  },
  {
"cell_type": "code",
	   "execution_count": null,
	   "metadata": {
	    "collapsed": true
	   },
	   "outputs": [],
"source": [
"clc\n",
"//given that\n",
"theta = 30 // angle between a line joining centres of anion with their median in degree\n",
"printf('Example 4.4\n')\n",
"r_ratio = (1- cos(theta*%pi/180))/ cos(theta*%pi/180)\n",
"printf('\n Minimum cation to anion radius ratio is %.3f',r_ratio)\n",
""
   ]
   }
,
{
		   "cell_type": "markdown",
		   "metadata": {},
		   "source": [
			"## Example 4.5: Ceramic_crystal_structure_predictio.sce"
		   ]
		  },
  {
"cell_type": "code",
	   "execution_count": null,
	   "metadata": {
	    "collapsed": true
	   },
	   "outputs": [],
"source": [
"clc\n",
"// given that\n",
"r_fe2 = 0.077 // radius of Iron ion in nm\n",
"r_o2 = 0.14 // radius of oxygen ion in nm\n",
"r_ratio = r_fe2 /r_o2 // cation - anion radius ratio for FeO\n",
"printf('Example 4.5\n')\n",
"if r_ratio > 0.414 & r_ratio < 0.732 then\n",
"    printf('\n  As ratio lies between 0.414 and 0.732 and coordination number 6 \n so it is of AX crystal structure.')\n",
"end\n",
"\n",
"// coordination number 6 is taken from table"
   ]
   }
,
{
		   "cell_type": "markdown",
		   "metadata": {},
		   "source": [
			"## Example 4.6: Theoretical_density_calculation_for_Sodium_chloride.sce"
		   ]
		  },
  {
"cell_type": "code",
	   "execution_count": null,
	   "metadata": {
	    "collapsed": true
	   },
	   "outputs": [],
"source": [
"\n",
"\n",
"clc\n",
"//given that\n",
"n = 4 // number of crystals per unit cell\n",
"A_c = 22.99 // molar mass of cation i.e. sodium\n",
"A_a = 35.45 // molar mass of cation i.e. chlorine\n",
"r_c = 1.02e-8 // radius of sodium atom in cm\n",
"r_a = 1.81e-8 // radius of sodium atom in cm\n",
"N_a = 6.023e23 // Avogadro constant\n",
"\n",
"printf('Example 4.6\n')\n",
"a = 2*(r_c+r_a)// edge length of Nacl molecule\n",
"V_c = a^3 // Volume of unit cell\n",
"rho = (n*(A_c+A_a))/(V_c*N_a)\n",
"printf('\n Theoretical density of crystal is %0.2f g/cm^3 .',rho)\n",
"printf('\n\n This result compares very favourable with \n experimental value of 2.16 g/cm^3 .')\n",
""
   ]
   }
,
{
		   "cell_type": "markdown",
		   "metadata": {},
		   "source": [
			"## Example 4.7: Computation_of_density_and_percentage_crystallinity_of_polyethylene.sce"
		   ]
		  },
  {
"cell_type": "code",
	   "execution_count": null,
	   "metadata": {
	    "collapsed": true
	   },
	   "outputs": [],
"source": [
"\n",
"\n",
"clc\n",
"// given that\n",
"n = 2 // number of repeated units within unit cell\n",
"A_c = 12.01  // molar mass of carbon\n",
"A_h = 1.008 // molar mass of hydrogen\n",
"a = 0.741 // edge length in x axis in nm\n",
"b = 0.494 // edge length in y axis in nm\n",
"c = 0.255 // edge length in z axis in nm\n",
"N_a = 6.023e23 // Avogadro constant\n",
"rho_s = 0.925 // density of branched polyethylene in g/cm^3\n",
"rho_a = 0.870 // density of totally amorphous polyethylene in g/cm^3\n",
"printf('Example 4.7\n')\n",
"printf(' \n Part A:')\n",
"A = 2*A_c+4*A_h // Molar mass of polyethylene\n",
"V_c = a*b*c*(1e-7)^3 // Volume of unit cell\n",
"rho_c = (n*A)/(V_c*N_a)\n",
"\n",
"printf('\n Density of totally crystalline polyethylene is %0.3f g/cm^3 .',rho_c)\n",
"printf(' \n\n Part B:')\n",
"per_cry = (rho_c*(rho_s-rho_a))*100/(rho_s*(rho_c-rho_a))\n",
"printf('\n Percentage crystallinity is %0.1f%%', per_cry)\n",
"\n",
""
   ]
   }
,
{
		   "cell_type": "markdown",
		   "metadata": {},
		   "source": [
			"## Example 4.8: Inter_planer_angle_and_Diffraction_Angle_Computations.sce"
		   ]
		  },
  {
"cell_type": "code",
	   "execution_count": null,
	   "metadata": {
	    "collapsed": true
	   },
	   "outputs": [],
"source": [
"\n",
"\n",
"clc\n",
"//given that\n",
"a = 0.2866 // lattice parameter in nm\n",
"h = 2 // component of set of plane\n",
"k = 2// component of set of plane\n",
"l = 0// component of set of plane\n",
"n = 1 // order of detraction\n",
"lambda = 0.1790 // wavelength of light in nm\n",
"\n",
"printf('Example 4.8\n')\n",
"d_hkl=a/(sqrt(h^2+k^2+l^2))\n",
"theta=asind(n*lambda/(2*d_hkl))\n",
"printf('\n Answer A:')\n",
"printf('\n Interplanar spacing is %.4f nm.',d_hkl)\n",
"printf('\n\n Answer B:')\n",
"printf('\n Diffraction angle is %0.2f degree.\n',2*theta);\n",
"// Answer in book is 124.26 degree. It is so because of consideration of different number of significant figures in calculation.\n",
""
   ]
   }
],
"metadata": {
		  "kernelspec": {
		   "display_name": "Scilab",
		   "language": "scilab",
		   "name": "scilab"
		  },
		  "language_info": {
		   "file_extension": ".sce",
		   "help_links": [
			{
			 "text": "MetaKernel Magics",
			 "url": "https://github.com/calysto/metakernel/blob/master/metakernel/magics/README.md"
			}
		   ],
		   "mimetype": "text/x-octave",
		   "name": "scilab",
		   "version": "0.7.1"
		  }
		 },
		 "nbformat": 4,
		 "nbformat_minor": 0
}
