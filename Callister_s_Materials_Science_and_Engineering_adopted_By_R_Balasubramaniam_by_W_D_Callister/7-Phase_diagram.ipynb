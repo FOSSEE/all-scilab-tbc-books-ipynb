{
"cells": [
 {
		   "cell_type": "markdown",
	   "metadata": {},
	   "source": [
       "# Chapter 7: Phase diagram"
	   ]
	},
{
		   "cell_type": "markdown",
		   "metadata": {},
		   "source": [
			"## Example 7.1: Derive_Lever_rule.sce"
		   ]
		  },
  {
"cell_type": "code",
	   "execution_count": null,
	   "metadata": {
	    "collapsed": true
	   },
	   "outputs": [],
"source": [
"clc\n",
"printf(' Example 7.1 \n')\n",
"printf('\n It is a derivational problem \n')"
   ]
   }
,
{
		   "cell_type": "markdown",
		   "metadata": {},
		   "source": [
			"## Example 7.2: Relative_phase_amount_determination_mass_and_volume_fraction.sce"
		   ]
		  },
  {
"cell_type": "code",
	   "execution_count": null,
	   "metadata": {
	    "collapsed": true
	   },
	   "outputs": [],
"source": [
"\n",
"clc\n",
"printf(' Example 7.2\n')\n",
"printf('\n It is a diagram based theoretically solved example\n')"
   ]
   }
,
{
		   "cell_type": "markdown",
		   "metadata": {},
		   "source": [
			"## Example 7.3: Determination_of_phase_present_and_computation_of_phase_composition.sce"
		   ]
		  },
  {
"cell_type": "code",
	   "execution_count": null,
	   "metadata": {
	    "collapsed": true
	   },
	   "outputs": [],
"source": [
"\n",
"clc\n",
"// given that\n",
"C1=40  // Overall alloy composition\n",
"Cb=98\n",
"Ca=10\n",
"rho_Sn=7.24 //  density in g/cm^3  density of tin\n",
"rho_Pb=11.23  // density in g/cm^3  density of lead\n",
"Ca_Sn=10\n",
"Ca_Pb=90\n",
"Cb_Sn=98\n",
"Cb_Pb=2\n",
"printf('Example 7.3\n')\n",
"\n",
"printf('\n Part A:')\n",
"\n",
"Wa=(Cb-C1)/(Cb-Ca)\n",
"Wb=(C1-Ca)/(Cb-Ca)\n",
"\n",
"printf('\n Mass fraction for alpha and beta phases is %.2f and %.2f respectively\n',Wa,Wb);\n",
"printf('\n Part B:');\n",
"\n",
"rho_a=100/((Ca_Sn/rho_Sn)+(Ca_Pb/rho_Pb));\n",
"rho_b=100/((Cb_Sn/rho_Sn)+(Cb_Pb/rho_Pb));\n",
"\n",
"printf('\n Density of alpha phase is : %.2f g/cm^3',rho_a);\n",
"printf('\n Density of beta phase is : %.2f g/cm^3',rho_b);\n",
"\n",
"Va=Wa/(rho_a*((Wa/rho_a)+(Wb/rho_b)));\n",
"Vb=Wb/(rho_b*((Wa/rho_a)+(Wb/rho_b)));\n",
"printf('\n Volume fraction of alpha phase : %.2f',Va);\n",
"printf('\n Volume fraction of beta phase : %.2f',Vb);\n",
"\n",
""
   ]
   }
,
{
		   "cell_type": "markdown",
		   "metadata": {},
		   "source": [
			"## Example 7.4: Determining_ferrite_and_cementite_phase.sce"
		   ]
		  },
  {
"cell_type": "code",
	   "execution_count": null,
	   "metadata": {
	    "collapsed": true
	   },
	   "outputs": [],
"source": [
"\n",
"\n",
"clc\n",
"// given that\n",
"C0=0.35 // given composition\n",
"C_a=0.022 // given composition\n",
"C_Fe3C=6.7 // given composition\n",
"C_p=0.76 \n",
"printf('Example 7.4\n')\n",
"\n",
"printf('\n Part A: ')\n",
"W_a=(C_Fe3C-C0)/(C_Fe3C-C_a)\n",
"W_Fe3C=(C0-C_a)/(C_Fe3C-C_a)\n",
"\n",
"printf('\n Mass fraction of total ferrite phase  is %.2f',W_a)\n",
"printf('\n Mass fraction of cementide phase is %.2f\n',W_Fe3C)\n",
"\n",
"printf('\n Part B:')\n",
"Wp=(C0-C_a)/(C_p-C_a)\n",
"W_a1=(C_p-C0)/(C_p-C_a)\n",
"\n",
"printf('\n Mass fraction of Pearlite is %.2f',Wp)\n",
"printf('\n Mass fraction of proeutectoid ferrite is %.2f\n',W_a1)\n",
"\n",
"printf('\n Part C:')\n",
"\n",
"Wae=W_a-W_a1\n",
"printf('\n Mass fraction of eutectoid ferrite : %.3f\n',Wae)\n",
"// Answer in book is 0.39. It is due to considering different number of significant figure at intermediate steps\n",
"\n",
""
   ]
   }
],
"metadata": {
		  "kernelspec": {
		   "display_name": "Scilab",
		   "language": "scilab",
		   "name": "scilab"
		  },
		  "language_info": {
		   "file_extension": ".sce",
		   "help_links": [
			{
			 "text": "MetaKernel Magics",
			 "url": "https://github.com/calysto/metakernel/blob/master/metakernel/magics/README.md"
			}
		   ],
		   "mimetype": "text/x-octave",
		   "name": "scilab",
		   "version": "0.7.1"
		  }
		 },
		 "nbformat": 4,
		 "nbformat_minor": 0
}
