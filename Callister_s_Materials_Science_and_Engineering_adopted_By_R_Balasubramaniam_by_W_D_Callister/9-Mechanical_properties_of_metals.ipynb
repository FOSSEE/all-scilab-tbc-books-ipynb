{
"cells": [
 {
		   "cell_type": "markdown",
	   "metadata": {},
	   "source": [
       "# Chapter 9: Mechanical properties of metals"
	   ]
	},
{
		   "cell_type": "markdown",
		   "metadata": {},
		   "source": [
			"## Example 9.1: Elongation_or_Elastic_Computation.sce"
		   ]
		  },
  {
"cell_type": "code",
	   "execution_count": null,
	   "metadata": {
	    "collapsed": true
	   },
	   "outputs": [],
"source": [
"\n",
"\n",
"clc\n",
"// given that\n",
"E=110*10^3  //Young's modulus of Copper in MPa\n",
"sigma=276   //Applied stress in MPa\n",
"l_o=305     //Original length in mm\n",
"printf('Example 9.1\n')\n",
"\n",
"del_l=sigma*l_o/E //Deformation\n",
"\n",
"printf('\n Elongation obtained is %.2f mm \n',del_l)\n",
""
   ]
   }
,
{
		   "cell_type": "markdown",
		   "metadata": {},
		   "source": [
			"## Example 9.2: Computation_of_Load_to_Produce_Specified_Diameter_Change.sce"
		   ]
		  },
  {
"cell_type": "code",
	   "execution_count": null,
	   "metadata": {
	    "collapsed": true
	   },
	   "outputs": [],
"source": [
"\n",
"clc\n",
"// given that\n",
"del_d=-2.5*10^-3 //Deformation in diameter in mm\n",
"d_0=10   //Initial diameter in mm\n",
"v=0.34 //Poisson ratio for brass\n",
"E=97*10^3 //Modulus of elasticity in MPa\n",
"printf('Example 9.2\n')\n",
"\n",
"e_x=del_d/d_0 // Strain in x-direction\n",
"printf('\n Strain in x-direction is %.1e',e_x) \n",
"\n",
"e_z=-e_x/v \n",
"printf('\n Strain in z-direction is %.2e',e_z)\n",
"      \n",
"sigma=e_z*E      // Stress produced\n",
"F=sigma*%pi*(d_0^2)/4\n",
"\n",
"printf('\n Applied force is %d N',F)\n",
"// Answer in book is 5600N. It is due to rounding off at intermediate steps\n",
""
   ]
   }
,
{
		   "cell_type": "markdown",
		   "metadata": {},
		   "source": [
			"## Example 9.3: Mechanical_property_determination_from_stress_stain_curve.sce"
		   ]
		  },
  {
"cell_type": "code",
	   "execution_count": null,
	   "metadata": {
	    "collapsed": true
	   },
	   "outputs": [],
"source": [
"\n",
"clc\n",
"// given that\n",
"\n",
"sigma_2=150 // Stress at a point in MPa\n",
"sigma_1=0 // Stress at a point in MPa\n",
"epsilon_2=0.0016 // Strain at a point in MPa\n",
"epsilon_1=0 // Strain at a point in MPa\n",
"d_0=12.8*10^-3 //Initial Diameter in m\n",
"sigma=450*10^6     //tensile strength in MPa\n",
"l0=250;     //Initial length in mm\n",
"e=0.06;     //strain\n",
"printf('Example 9.3\n')\n",
"\n",
"printf('\n Part A')\n",
"E=(sigma_2-sigma_1)/(epsilon_2-epsilon_1) //Young's Modulus = stress/strain\n",
"printf('\n Modulus of elasticity is %.1f GPa \n which is very close to its true value 97 GPa',E/10^3)\n",
"\n",
"printf('\n\n Part C')\n",
"A_0=%pi*d_0^2/4\n",
"\n",
"F=sigma*A_0\n",
"printf('\n Maximum load sustained is %d N\n',floor(F/10)*10)\n",
"printf('\n Part D')\n",
"dl=e*l0\n",
"printf('\n Change in length is %d mm',dl);\n",
"\n",
""
   ]
   }
,
{
		   "cell_type": "markdown",
		   "metadata": {},
		   "source": [
			"## Example 9.4: Ductile_and_true_stress_at_fracture_composition.sce"
		   ]
		  },
  {
"cell_type": "code",
	   "execution_count": null,
	   "metadata": {
	    "collapsed": true
	   },
	   "outputs": [],
"source": [
"clc\n",
"// given that\n",
"\n",
"di=12.8 //Initial diameter in mm\n",
"df=10.7 //Final diameter  in mm\n",
"sigma=460*10^6     //Tensile strength\n",
"printf('Example 9.4\n')\n",
"\n",
"printf('\n Part A') \n",
"\n",
"RA = ((di^2-df^2)/di^2)*100 //Ductility in terms of Reduction Area \n",
"printf('\n Percent reduction in area is %d%%\n',RA)\n",
"\n",
"printf('\n Part B')\n",
"A_o=%pi*di^2*10^-6/4\n",
"\n",
"F=sigma*A_o \n",
"Af=%pi*df^2/4 \n",
"sigma_t=F/Af \n",
"printf('\n True stress at failure is %d MPa',sigma_t) \n",
"// Answer in book is 660. It is due to founding off at intermediate stage\n",
""
   ]
   }
,
{
		   "cell_type": "markdown",
		   "metadata": {},
		   "source": [
			"## Example 9.5: Calculation_of_Strain_Hardening_Exponent.sce"
		   ]
		  },
  {
"cell_type": "code",
	   "execution_count": null,
	   "metadata": {
	    "collapsed": true
	   },
	   "outputs": [],
"source": [
"\n",
"\n",
"clc\n",
"//Given that\n",
"\n",
"sigma_t=415 //True stress in MPa\n",
"et=0.1 //True strain\n",
"K=1035 // Bulk modulus in MPa\n",
"\n",
"printf(' Example 9.5\n')\n",
"\n",
"n=log(sigma_t/K)/log(et)\n",
"\n",
"printf('\n Strain hardening coefficient is %.2f',n);"
   ]
   }
,
{
		   "cell_type": "markdown",
		   "metadata": {},
		   "source": [
			"## Example 9.6: Average_Computations.sce"
		   ]
		  },
  {
"cell_type": "code",
	   "execution_count": null,
	   "metadata": {
	    "collapsed": true
	   },
	   "outputs": [],
"source": [
"\n",
"\n",
"clc\n",
"// given that\n",
"n=[0 1 2 3 4 5]\n",
"T_S=[510 520 512 515 522 530]\n",
"\n",
"printf(' Example 9.6 \n')\n",
"\n",
"//First and Last points are arbitrary to plot the required points\n",
"\n",
"printf('\n Part A:')\n",
"plot(n,T_S,'+')\n",
"xtitle('Tensile strength data','Sample no.','Tensile strength');\n",
"\n",
"//Mean Tensile strength\n",
"i=2;\n",
"TS_mean=0;\n",
"\n",
"for i=2:5\n",
"    TS_mean=TS_mean+(T_S(i)/4);\n",
"end\n",
"printf('\n Average tensile strength is %d MPa.\n',TS_mean);\n",
"//Standard Deviation\n",
"printf('\n\n Part B:')\n",
"j=0\n",
"std=0\n",
"\n",
"for i=2:5\n",
"    std=std+((T_S(i)-TS_mean)^2/(4-1))\n",
"end\n",
"\n",
"printf('\n Standard deviation is %.1f MPa\n',sqrt(std))\n",
""
   ]
   }
,
{
		   "cell_type": "markdown",
		   "metadata": {},
		   "source": [
			"## Example 9.7: Specification_of_support_Post_Diameter.sce"
		   ]
		  },
  {
"cell_type": "code",
	   "execution_count": null,
	   "metadata": {
	    "collapsed": true
	   },
	   "outputs": [],
"source": [
"\n",
"\n",
"// Page no 334\n",
"clc\n",
"// Given\n",
"f = 220000 // Maximum load in N\n",
"sigma_y = 310 // Minimum field strength in MPa\n",
"sigma_t = 565 // Tensile strength strength in MPa\n",
"N= 5 // Factor of safety\n",
"printf('Design Example 9.1\n')\n",
"sigma_w = sigma_y*1e6/N\n",
"d = 2*sqrt (f/(2*%pi*sigma_w))// Calculation of diameter\n",
"printf('\n Diameter of each of two rods should be %.1f mm\n',d*1e3)\n",
""
   ]
   }
],
"metadata": {
		  "kernelspec": {
		   "display_name": "Scilab",
		   "language": "scilab",
		   "name": "scilab"
		  },
		  "language_info": {
		   "file_extension": ".sce",
		   "help_links": [
			{
			 "text": "MetaKernel Magics",
			 "url": "https://github.com/calysto/metakernel/blob/master/metakernel/magics/README.md"
			}
		   ],
		   "mimetype": "text/x-octave",
		   "name": "scilab",
		   "version": "0.7.1"
		  }
		 },
		 "nbformat": 4,
		 "nbformat_minor": 0
}
