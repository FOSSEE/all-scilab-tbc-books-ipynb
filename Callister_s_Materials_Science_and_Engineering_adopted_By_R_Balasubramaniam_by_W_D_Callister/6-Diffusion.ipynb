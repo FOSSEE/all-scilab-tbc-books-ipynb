{
"cells": [
 {
		   "cell_type": "markdown",
	   "metadata": {},
	   "source": [
       "# Chapter 6: Diffusion"
	   ]
	},
{
		   "cell_type": "markdown",
		   "metadata": {},
		   "source": [
			"## Example 6.1: Diffusion_Flux_Computation.sce"
		   ]
		  },
  {
"cell_type": "code",
	   "execution_count": null,
	   "metadata": {
	    "collapsed": true
	   },
	   "outputs": [],
"source": [
"\n",
"\n",
"clc\n",
"Ca=1.2 //Concentration at A in  kg/m^3\n",
"Cb=0.8 //Concentration at B in  kg/m^3\n",
"xa=5*10^-3//Position 1 in m\n",
"xb=10*10^-3//Position 2 in m\n",
"D=3*10^-11//Diffusion coefficient in m^2/s\n",
"printf('\Example 6.1\n')\n",
"J=-D*(Ca-Cb)/(xa-xb)\n",
"printf('\n Diffusion flux is %.1e kg/m^2-s',J)\n",
""
   ]
   }
,
{
		   "cell_type": "markdown",
		   "metadata": {},
		   "source": [
			"## Example 6.2: Nonsteady_State_Diffusion_Time_Computation_I.sce"
		   ]
		  },
  {
"cell_type": "code",
	   "execution_count": null,
	   "metadata": {
	    "collapsed": true
	   },
	   "outputs": [],
"source": [
"\n",
"\n",
"clc\n",
"// given that\n",
"x=5*10^-4     //Position in m\n",
"D=1.6*10^-11  //Diffusion coefficient  in m^2/s\n",
"Co=0.25//Initial Concentration in wt%\n",
"Cs=1.2 //Surface concentration in wt%\n",
"Cx=0.8 //Concentration at any x  in wt%\n",
"z1 = 0.35 // tabular data\n",
"z2 = 0.4 // tabular data\n",
"erf_z1 = 0.3794 // tabular data\n",
"erf_z2 = 0.4284 // tabular data\n",
"printf('Example 6.2\n')\n",
"C=1-((Cx-Co)/(Cs-Co))\n",
"z = (C-erf_z1)/(erf_z2-erf_z1) * (z2-z1) + z1 //  Calculation by interpolation\n",
"t= ((x/(2*sqrt(D)))/z)^2 // calculation of time\n",
"printf('\n Time required is %d s or %.2f h\n',t,t/3600);\n",
"// Answer in book is 25400 sec or 7.1 h. It is because of considering different number of significant figure\n",
""
   ]
   }
,
{
		   "cell_type": "markdown",
		   "metadata": {},
		   "source": [
			"## Example 6.3: Nonsteady_State_Diffusion_Time_Computation_II.sce"
		   ]
		  },
  {
"cell_type": "code",
	   "execution_count": null,
	   "metadata": {
	    "collapsed": true
	   },
	   "outputs": [],
"source": [
"\n",
"\n",
"\n",
"clc\n",
"// Given that\n",
"D_500=4.8*10^-14 //Diffusion coefficient at 500 C\n",
"D_600=5.3*10^-13 //Diffusion coefficient at 600 C\n",
"t_600=10 //Time in hours to diffuse\n",
"printf('Example 6.3\n')\n",
"t_500=D_600*t_600/D_500\n",
"printf('\n Time to diffuse at 500 degree Celsius is %.1f h\n',t_500)"
   ]
   }
,
{
		   "cell_type": "markdown",
		   "metadata": {},
		   "source": [
			"## Example 6.4: Diffusion_Coefficient_Determination.sce"
		   ]
		  },
  {
"cell_type": "code",
	   "execution_count": null,
	   "metadata": {
	    "collapsed": true
	   },
	   "outputs": [],
"source": [
"\n",
"\n",
"clc\n",
"//given that\n",
"T=550+273 // temperature of aluminium in K\n",
"D_0=1.2*10^-4 //Temperature independent preexponential in m^2/s\n",
"Q_d=131000 //Activation energy in J/mol-K\n",
"R=8.31  //Universal Gas constant\n",
"printf('Example 6.4\n');\n",
"D=D_0*exp(-Q_d/(R*T));\n",
"\n",
"printf('\n Diffusion coefficient is %.1e m^2/s\n',D);\n",
""
   ]
   }
,
{
		   "cell_type": "markdown",
		   "metadata": {},
		   "source": [
			"## Example 6.5: Diffusion_Coefficient_Activation_Energy_and_Preexponential_Calculations.sce"
		   ]
		  },
  {
"cell_type": "code",
	   "execution_count": null,
	   "metadata": {
	    "collapsed": true
	   },
	   "outputs": [],
"source": [
"\n",
"\n",
"clc\n",
"//From graph log D ad 1/T are deducted\n",
"inv_T1=0.8*10^-3//Reciprocal of temp.  in K^-1\n",
"inv_T2=1.1*10^-3 //Reciprocal of temp.  in K^-1\n",
"logD1=-12.4\n",
"logD2=-15.45\n",
"\n",
"R=8.31 //Gas law Constant in J/mol-K\n",
"\n",
"printf('Example 6.5\n')\n",
"Q_d=-2.3*R*(logD1-logD2)/(inv_T1-inv_T2)\n",
"printf('\n Activation energy is %d kJ/mol',Q_d/1000)\n",
"D_0=10^(logD2+(Q_d*inv_T2/(2.3*R)))//For calculating Preexponential factor\n",
"printf('\n Preexponential factor D_0 is %.1e m^2/s\n',D_0)\n",
"// Answer in book is 5.2e-5 m^2/s. It is because of consideration of different number of significant figures\n",
""
   ]
   }
,
{
		   "cell_type": "markdown",
		   "metadata": {},
		   "source": [
			"## Example 6.6: EX6_6.sce"
		   ]
		  },
  {
"cell_type": "code",
	   "execution_count": null,
	   "metadata": {
	    "collapsed": true
	   },
	   "outputs": [],
"source": [
"\n",
"\n",
"clc\n",
"//given that\n",
"P_m = 2.3e-14 // permissibility coefficient of CO2 through PET\n",
"P_1 = 400// Pressure inside bottle in KPa\n",
"P_2 = 0.4 // Pressure outside bottle in KPa\n",
"A = 500 // Surface area of bottle in cm^2\n",
"x = 0.05 // wall thickness of bottle in cm\n",
"V = 750 // volume in cm^3\n",
"printf('\Example 6.6\n')\n",
"J = -P_m*(P_2-P_1)*1e3/x // calculation of diffusion flux\n",
"printf('\n Part A:')\n",
"printf('\n Diffusion flux is %0.1e cm^3 STP/(cm^2-s)',J)\n",
"printf('\n\n Part B:')\n",
"V_co2 = J*A \n",
"t = V/V_co2 // calculation of self life\n",
"printf('\n Self life for bottle of pop is %d days (or about %d months).', t/(60*60*24),t/(60*60*24*30))\n",
"// Answer in book is 97 days. It is because of considering different number of significant figure"
   ]
   }
],
"metadata": {
		  "kernelspec": {
		   "display_name": "Scilab",
		   "language": "scilab",
		   "name": "scilab"
		  },
		  "language_info": {
		   "file_extension": ".sce",
		   "help_links": [
			{
			 "text": "MetaKernel Magics",
			 "url": "https://github.com/calysto/metakernel/blob/master/metakernel/magics/README.md"
			}
		   ],
		   "mimetype": "text/x-octave",
		   "name": "scilab",
		   "version": "0.7.1"
		  }
		 },
		 "nbformat": 4,
		 "nbformat_minor": 0
}
