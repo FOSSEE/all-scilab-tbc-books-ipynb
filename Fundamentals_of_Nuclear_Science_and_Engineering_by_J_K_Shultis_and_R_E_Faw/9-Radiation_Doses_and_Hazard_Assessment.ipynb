{
"cells": [
 {
		   "cell_type": "markdown",
	   "metadata": {},
	   "source": [
       "# Chapter 9: Radiation Doses and Hazard Assessment"
	   ]
	},
{
		   "cell_type": "markdown",
		   "metadata": {},
		   "source": [
			"## Example 9.1: Iron_kerma_and_absorbed_dose_rates.sce"
		   ]
		  },
  {
"cell_type": "code",
	   "execution_count": null,
	   "metadata": {
	    "collapsed": true
	   },
	   "outputs": [],
"source": [
"//Chapter 9, Example 9.1, Page 241\n",
"clc\n",
"clear\n",
"// Iron kerma and absorbed dose rates\n",
"Sp = 10**14\n",
"r = 100\n",
"mew = 0.03031\n",
"mtr = 0.02112 // mew/pro\n",
"men = 0.01983 // mew/pro\n",
"p0 = 10**-6*Sp*exp(-mew*r)/(4*%pi*r**2)\n",
"K0 = 1.602*10**-10*mtr*p0\n",
"D0 = 1.602*10**-10*men*p0\n",
"printf('p0 = %f cm^-2s^-1\n',p0)\n",
"printf(' K0 = %e Gy/s\n',K0)\n",
"printf(' D0 = %e Gy/s\n',D0)\n",
"// Answers may vary due to round off error"
   ]
   }
,
{
		   "cell_type": "markdown",
		   "metadata": {},
		   "source": [
			"## Example 9.2: Kerma_rate.sce"
		   ]
		  },
  {
"cell_type": "code",
	   "execution_count": null,
	   "metadata": {
	    "collapsed": true
	   },
	   "outputs": [],
"source": [
"//Chapter 9, Example 9.2, Page 242\n",
"clc\n",
"clear\n",
"// kerma rate \n",
"fsMs = (0.6022/18)*((2*12.8*0.5)+(3.5*0.1107))\n",
"K = 1.602*10**-10*fsMs*10**10*0.1\n",
"printf('fsUs/p = %f cm^2/g\n',fsMs)\n",
"printf(' K = %f Gy/s\n',K)\n",
"// Answers may vary due to round off error"
   ]
   }
,
{
		   "cell_type": "markdown",
		   "metadata": {},
		   "source": [
			"## Example 9.3: Find_fluence_and_H.sce"
		   ]
		  },
  {
"cell_type": "code",
	   "execution_count": null,
	   "metadata": {
	    "collapsed": true
	   },
	   "outputs": [],
"source": [
"//Chapter 9, Example 9.3, Page 245\n",
"clc\n",
"clear\n",
"//Find fluence and H\n",
"Sp = 10**9\n",
"dt = 600\n",
"r = 1500\n",
"E = 0.03103\n",
"phi = Sp*dt/(4*%pi*r**2)\n",
"H = 1.602*10**-10*E*phi\n",
"printf('fluence = %e cm^2\n',phi)\n",
"printf(' H = %f microSv\n',H*10**8)\n",
"// Answer may vary due to round off error"
   ]
   }
],
"metadata": {
		  "kernelspec": {
		   "display_name": "Scilab",
		   "language": "scilab",
		   "name": "scilab"
		  },
		  "language_info": {
		   "file_extension": ".sce",
		   "help_links": [
			{
			 "text": "MetaKernel Magics",
			 "url": "https://github.com/calysto/metakernel/blob/master/metakernel/magics/README.md"
			}
		   ],
		   "mimetype": "text/x-octave",
		   "name": "scilab",
		   "version": "0.7.1"
		  }
		 },
		 "nbformat": 4,
		 "nbformat_minor": 0
}
