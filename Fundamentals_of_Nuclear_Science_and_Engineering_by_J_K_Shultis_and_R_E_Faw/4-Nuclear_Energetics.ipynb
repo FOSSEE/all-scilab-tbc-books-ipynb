{
"cells": [
 {
		   "cell_type": "markdown",
	   "metadata": {},
	   "source": [
       "# Chapter 4: Nuclear Energetics"
	   ]
	},
{
		   "cell_type": "markdown",
		   "metadata": {},
		   "source": [
			"## Example 4.1: Binding_energy.sce"
		   ]
		  },
  {
"cell_type": "code",
	   "execution_count": null,
	   "metadata": {
	    "collapsed": true
	   },
	   "outputs": [],
"source": [
"//Chapter 4, Example 4.1, Page 86\n",
"clc\n",
"clear\n",
"//Binding energy\n",
"mn = 1.0078250\n",
"mp = 1.0086649\n",
"M = 4.0026032 // mass of He\n",
"MD = 2*mn+2*mp-M //Mass defect\n",
"BE = MD*931.5\n",
"printf('\n Mass defect = %f u',MD);\n",
"printf('\n Nuclear binding energy = %f MeV',BE); // answer provided in the textbook is wrong\n",
"//Answer may vary due to round off error"
   ]
   }
,
{
		   "cell_type": "markdown",
		   "metadata": {},
		   "source": [
			"## Example 4.2: Binding_energy.sce"
		   ]
		  },
  {
"cell_type": "code",
	   "execution_count": null,
	   "metadata": {
	    "collapsed": true
	   },
	   "outputs": [],
"source": [
"//Chapter 4, Example 4.2, Page 89\n",
"clc\n",
"clear\n",
"//Binding energy\n",
"O15 = 15.0030654 // atomic mass of O15 isotope\n",
"mn = 1.00866492\n",
"O16 = 15.9949146 // atomic mass of O16 isotope\n",
"c2 = 931.5 // C^2 in MeV\n",
"S = (O15+mn-O16)*c2\n",
"printf('\n Binding energy = %f MeV',S); \n",
"//Answer may vary due to round off error"
   ]
   }
,
{
		   "cell_type": "markdown",
		   "metadata": {},
		   "source": [
			"## Example 4.3: Endothermic_and_exothermic_reaction.sce"
		   ]
		  },
  {
"cell_type": "code",
	   "execution_count": null,
	   "metadata": {
	    "collapsed": true
	   },
	   "outputs": [],
"source": [
"//Chapter 4, Example 4.3, Page 94\n",
"clc\n",
"clear\n",
"// Q value of an endothermic and exothermic reaction\n",
"//Exothermic reaction\n",
"Be = 9.012182 //Reactants\n",
"He = 4.002603 //Reactants\n",
"C12 = 12 //Product\n",
"n = 1.008664 //Product\n",
"C2 = 931.5 // C^2 in MeV\n",
"Exo1 = Be+He\n",
"Exo2 = C12+n\n",
"Dif1 = Exo1-Exo2\n",
"Q1 = Dif1*C2\n",
"printf('\n Q of the exothermic reaction = %f MeV',Q1); \n",
"//Endothermic reaction\n",
"O = 15.994915 //Reactants\n",
"n = 1.008664 //Reactant\n",
"C13 = 13.003354 //Product\n",
"He = 4.002603 //product\n",
"End1 = O+n\n",
"End2 = C13+He\n",
"Dif2 = End1-End2\n",
"Q2 = Dif2*C2\n",
"printf('\n Q of the exothermic reaction = %f MeV',Q2); \n",
"//Answer may vary due to round off error "
   ]
   }
,
{
		   "cell_type": "markdown",
		   "metadata": {},
		   "source": [
			"## Example 4.4: Q_value_in_a_reaction.sce"
		   ]
		  },
  {
"cell_type": "code",
	   "execution_count": null,
	   "metadata": {
	    "collapsed": true
	   },
	   "outputs": [],
"source": [
"//Chapter 4, Example 4.4, Page 95\n",
"clc\n",
"clear\n",
"// Q value in a reaction\n",
"MH = 1.00782503\n",
"MD = 2.01410178\n",
"me = 0.00054858\n",
"C2 = 931.5\n",
"Q = (2*MH-MD-2*me)*C2\n",
"printf('\n Q of the reaction = %f MeV',Q);// Answer provided in the text is wrong \n",
"//Answer may vary due to round off error "
   ]
   }
,
{
		   "cell_type": "markdown",
		   "metadata": {},
		   "source": [
			"## Example 4.5: Q_value_of_the_reactio.sce"
		   ]
		  },
  {
"cell_type": "code",
	   "execution_count": null,
	   "metadata": {
	    "collapsed": true
	   },
	   "outputs": [],
"source": [
"//Chapter 4, Example 4.5, Page 96\n",
"clc\n",
"clear\n",
"// Q value of the reaction\n",
"mn = 1.0086649\n",
"MB = 10.0129370\n",
"MHe = 4.0026032\n",
"MLi = 7.0160040\n",
"C2 = 931.5\n",
"Q = (mn+MB-MHe-MLi)*C2 -0.48\n",
"printf('\n Q of the reaction = %f MeV',Q);\n",
"//Answer may vary due to round off error "
   ]
   }
],
"metadata": {
		  "kernelspec": {
		   "display_name": "Scilab",
		   "language": "scilab",
		   "name": "scilab"
		  },
		  "language_info": {
		   "file_extension": ".sce",
		   "help_links": [
			{
			 "text": "MetaKernel Magics",
			 "url": "https://github.com/calysto/metakernel/blob/master/metakernel/magics/README.md"
			}
		   ],
		   "mimetype": "text/x-octave",
		   "name": "scilab",
		   "version": "0.7.1"
		  }
		 },
		 "nbformat": 4,
		 "nbformat_minor": 0
}
