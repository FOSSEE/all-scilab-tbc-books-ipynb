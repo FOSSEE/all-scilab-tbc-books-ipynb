{
"cells": [
 {
		   "cell_type": "markdown",
	   "metadata": {},
	   "source": [
       "# Chapter 1: Fundamental Concepts"
	   ]
	},
{
		   "cell_type": "markdown",
		   "metadata": {},
		   "source": [
			"## Example 1.1: Find_Atomic_weight_of_Boron.sce"
		   ]
		  },
  {
"cell_type": "code",
	   "execution_count": null,
	   "metadata": {
	    "collapsed": true
	   },
	   "outputs": [],
"source": [
"//Chapter 1, Example 1.1, Page 21\n",
"clc\n",
"clear\n",
"//Find Atomic weight of Boron\n",
"I10 = 0.199 // Isotopic abundance of B10 (Value used in question is wrong)\n",
"A10 = 10.012937 //Atomic weight of B10\n",
"I11 = 0.801 // Isotopic abundance of B11\n",
"A11 = 11.009306 //Atomic weight of B11\n",
"//Calculation\n",
"W = (I10*A10)+(I11*A11)\n",
"printf('The atomic weight of Boron = %f',W);\n",
"//Answers may vary due to round off error"
   ]
   }
,
{
		   "cell_type": "markdown",
		   "metadata": {},
		   "source": [
			"## Example 1.2: Number_of_10B_molecules_in_5g_of_Boron.sce"
		   ]
		  },
  {
"cell_type": "code",
	   "execution_count": null,
	   "metadata": {
	    "collapsed": true
	   },
	   "outputs": [],
"source": [
"//Chapter 1, Example 1.2, Page 22\n",
"clc\n",
"clear\n",
"//Find number of 10B molecules in 5g of Boron\n",
"m = 5 //g\n",
"Na = 0.6022*10**24 //atoms/mol\n",
"AB = 10.811 //Atomic weight of 10B , g/mol\n",
"NB = (m*Na)/(AB)\n",
"printf('The number of Boron atoms = %e atoms',NB);\n",
"//Answers may vary due to round off error"
   ]
   }
,
{
		   "cell_type": "markdown",
		   "metadata": {},
		   "source": [
			"## Example 1.3: Estimate_the_mass_on_an_atom_of_U_238.sce"
		   ]
		  },
  {
"cell_type": "code",
	   "execution_count": null,
	   "metadata": {
	    "collapsed": true
	   },
	   "outputs": [],
"source": [
"//Chapter 1, Example 1.3, Page 22\n",
"clc\n",
"clear\n",
"//Estimate the mass on an atom of U 238. From Eq. (1.3)\n",
"//Calculating the approximate weight\n",
"Mapprox = 238/(6.022*10**23)\n",
"//Calculating the precise weight\n",
"M = 238.050782/(6.022142*10**23)\n",
"printf('The approximate mass on an atom of U 238 = %e g/atom',Mapprox);\n",
"printf('\n The precise mass on an atom of U 238 = %e g/atom',M);\n",
"printf('Varies by a negligible error')\n",
"//Answers may vary due to round off error\n",
" \n",
" "
   ]
   }
,
{
		   "cell_type": "markdown",
		   "metadata": {},
		   "source": [
			"## Example 1.4: Density_of_Hydrogen_atom_in_water.sce"
		   ]
		  },
  {
"cell_type": "code",
	   "execution_count": null,
	   "metadata": {
	    "collapsed": true
	   },
	   "outputs": [],
"source": [
"//Chapter 1, Example 1.4, Page 23\n",
"clc\n",
"clear\n",
"//Density of Hydrogen atom in water\n",
"p = 1 // density of water in g cm^-3\n",
"Na = 6.022*10^23 // molucules/mol\n",
"A = 18 // atomic weight of water in g/mol\n",
"N = (p*Na)/A\n",
"NH = 2*N\n",
"printf('The density of water = %e molecules/cm3',N);\n",
"printf('\n The density of hydrogen atoms = %e atoms/cm3',NH);\n",
"//Answers may vary due to round off error"
   ]
   }
],
"metadata": {
		  "kernelspec": {
		   "display_name": "Scilab",
		   "language": "scilab",
		   "name": "scilab"
		  },
		  "language_info": {
		   "file_extension": ".sce",
		   "help_links": [
			{
			 "text": "MetaKernel Magics",
			 "url": "https://github.com/calysto/metakernel/blob/master/metakernel/magics/README.md"
			}
		   ],
		   "mimetype": "text/x-octave",
		   "name": "scilab",
		   "version": "0.7.1"
		  }
		 },
		 "nbformat": 4,
		 "nbformat_minor": 0
}
