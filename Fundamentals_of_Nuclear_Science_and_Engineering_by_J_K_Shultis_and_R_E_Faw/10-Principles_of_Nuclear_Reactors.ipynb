{
"cells": [
 {
		   "cell_type": "markdown",
	   "metadata": {},
	   "source": [
       "# Chapter 10: Principles of Nuclear Reactors"
	   ]
	},
{
		   "cell_type": "markdown",
		   "metadata": {},
		   "source": [
			"## Example 10.1: Thermal_utilization_factor.sce"
		   ]
		  },
  {
"cell_type": "code",
	   "execution_count": null,
	   "metadata": {
	    "collapsed": true
	   },
	   "outputs": [],
"source": [
"//Chapter 10, Example 10.1, Page 280\n",
"clc\n",
"clear\n",
"// Thermal utilization factor\n",
"Summation = ((0.0055*103.4)+(0.720*687)+(99.2745*2.73))/100\n",
"sigma = 0.0034\n",
"f = 7.662/(7.662+(sigma*450))\n",
"printf('Total thermal macroscopic = %f N^U cm^1\n',Summation)\n",
"printf(' f = %f \n',f)\n",
"// Answer may vary due to round off error"
   ]
   }
,
{
		   "cell_type": "markdown",
		   "metadata": {},
		   "source": [
			"## Example 10.2: Thermal_fission_factor.sce"
		   ]
		  },
  {
"cell_type": "code",
	   "execution_count": null,
	   "metadata": {
	    "collapsed": true
	   },
	   "outputs": [],
"source": [
"//Chapter 10, Example 10.2, Page 280\n",
"clc\n",
"clear\n",
"// Thermal fission factor\n",
"neeta = (2.42*587)/(687 +(2.73*0.98/0.02))\n",
"printf(' Thermal fission factor = %f \n',neeta)\n",
"// Answer may vary due to round off error"
   ]
   }
,
{
		   "cell_type": "markdown",
		   "metadata": {},
		   "source": [
			"## Example 10.3: Find_the_probability.sce"
		   ]
		  },
  {
"cell_type": "code",
	   "execution_count": null,
	   "metadata": {
	    "collapsed": true
	   },
	   "outputs": [],
"source": [
"//Chapter 10, Example 10.3, Page 282\n",
"clc\n",
"clear\n",
"// Find the probability\n",
"P = exp(-6.85*10**-4*368)\n",
"Pnl = 1/(1+(578*6.85*10**-4))\n",
"printf('Fast-neutron nonleakage probability = %f \n',P)\n",
"printf(' Thermal-neutron nonleakage probability = %f \n',Pnl)\n",
"// Answer may vary due to round off error"
   ]
   }
,
{
		   "cell_type": "markdown",
		   "metadata": {},
		   "source": [
			"## Example 10.4: Find_the_value_of_K.sce"
		   ]
		  },
  {
"cell_type": "code",
	   "execution_count": null,
	   "metadata": {
	    "collapsed": true
	   },
	   "outputs": [],
"source": [
"//Chapter 10, Example 10.4, Page 283\n",
"clc\n",
"clear\n",
"// k of a homogeneous\n",
"f = 687/(687 +(0.0034*40000))\n",
"k = 2.07*f\n",
"printf('f = %f \n',f)\n",
"printf(' k = %f \n',k)\n",
"//Answer may vary due to round off error"
   ]
   }
,
{
		   "cell_type": "markdown",
		   "metadata": {},
		   "source": [
			"## Example 10.5: Calculate_radius_R.sce"
		   ]
		  },
  {
"cell_type": "code",
	   "execution_count": null,
	   "metadata": {
	    "collapsed": true
	   },
	   "outputs": [],
"source": [
"//Chapter 10, Example 10.5, Page 284\n",
"clc\n",
"clear\n",
"//Calculate radius R \n",
"L = 578\n",
"T = 368\n",
"Bc = 6.358*10**-4\n",
"R = sqrt(%pi^2/Bc)\n",
"printf(' R = %f cm \n',R)\n",
"//Answer may vary due to round off error"
   ]
   }
,
{
		   "cell_type": "markdown",
		   "metadata": {},
		   "source": [
			"## Example 10.6: mass_of_U235.sce"
		   ]
		  },
  {
"cell_type": "code",
	   "execution_count": null,
	   "metadata": {
	    "collapsed": true
	   },
	   "outputs": [],
"source": [
"//Chapter 10, Example 10.6, Page 285\n",
"clc\n",
"clear\n",
"// mass of U235\n",
"m = (((4/3)*%pi*125**3*1.60)*235)/(40000*12)\n",
"printf(' m = %f kg \n',m*10**-3)\n",
"//Answer may vary due to round off error"
   ]
   }
,
{
		   "cell_type": "markdown",
		   "metadata": {},
		   "source": [
			"## Example 10.7: Value_of_Keff.sce"
		   ]
		  },
  {
"cell_type": "code",
	   "execution_count": null,
	   "metadata": {
	    "collapsed": true
	   },
	   "outputs": [],
"source": [
"//Chapter 10, Example 10.7, Page 285\n",
"clc\n",
"clear\n",
"// Keff\n",
"Keff = 1/(1-0.0065*0.1)\n",
"printf(' Keff = %f \n',Keff)\n",
"//Answer may vary due to round off error"
   ]
   }
,
{
		   "cell_type": "markdown",
		   "metadata": {},
		   "source": [
			"## Example 10.8: Resulting_reactor_period.sce"
		   ]
		  },
  {
"cell_type": "code",
	   "execution_count": null,
	   "metadata": {
	    "collapsed": true
	   },
	   "outputs": [],
"source": [
"//Chapter 10, Example 10.8, Page 293\n",
"clc\n",
"clear\n",
"//Resulting reactor period\n",
"bt = 0.0065\n",
"dt = 0.00065\n",
"T = (bt*12.8)/dt\n",
"Pt = 10000\n",
"P0 = 10\n",
"t = T*log(Pt/P0)\n",
"printf(' Resulting reactor period = %f sec \n',T)\n",
"printf(' t = %f sec\n',t)\n",
"//Answer may vary due to round off error"
   ]
   }
],
"metadata": {
		  "kernelspec": {
		   "display_name": "Scilab",
		   "language": "scilab",
		   "name": "scilab"
		  },
		  "language_info": {
		   "file_extension": ".sce",
		   "help_links": [
			{
			 "text": "MetaKernel Magics",
			 "url": "https://github.com/calysto/metakernel/blob/master/metakernel/magics/README.md"
			}
		   ],
		   "mimetype": "text/x-octave",
		   "name": "scilab",
		   "version": "0.7.1"
		  }
		 },
		 "nbformat": 4,
		 "nbformat_minor": 0
}
