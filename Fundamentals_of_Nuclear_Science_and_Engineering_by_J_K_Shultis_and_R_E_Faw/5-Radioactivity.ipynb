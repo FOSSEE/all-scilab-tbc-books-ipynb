{
"cells": [
 {
		   "cell_type": "markdown",
	   "metadata": {},
	   "source": [
       "# Chapter 5: Radioactivity"
	   ]
	},
{
		   "cell_type": "markdown",
		   "metadata": {},
		   "source": [
			"## Example 5.1: Initial_Kinetic_energy.sce"
		   ]
		  },
  {
"cell_type": "code",
	   "execution_count": null,
	   "metadata": {
	    "collapsed": true
	   },
	   "outputs": [],
"source": [
"//Chapter 5, Example 5.1, Page 103\n",
"clc\n",
"clear\n",
"// Initial Kinetic energy \n",
"MRa = 226.025402\n",
"MRn = 222.017571\n",
"MHe = 4.00260325\n",
"C2 = 931.5\n",
"Ad = 222\n",
"Aa = 4\n",
"Q = (MRa-MRn-MHe)*C2\n",
"E = Q*(Ad/(Ad+Aa))\n",
"R = Q-E\n",
"printf('\n Q of the reaction = %f MeV',Q);\n",
"printf('\n Kinetic Enerfy of the reaction = %f MeV',E);\n",
"printf('\n The reminder of Q is the kinetic energy of the product nucleus,Rn = %f MeV',R);\n",
"// Answer may vary due to round off error"
   ]
   }
,
{
		   "cell_type": "markdown",
		   "metadata": {},
		   "source": [
			"## Example 5.2: Probablility_of_decay_by_positron_emission.sce"
		   ]
		  },
  {
"cell_type": "code",
	   "execution_count": null,
	   "metadata": {
	    "collapsed": true
	   },
	   "outputs": [],
"source": [
"//Chapter 5, Example 5.2, Page 117\n",
"clc\n",
"clear\n",
"//Probablility of decay by positron emission\n",
"//3 decay modes \n",
"LBp = 0.009497\n",
"LBm = 0.02129\n",
"LEC = 0.02381\n",
"L = LBp+LBm+LEC\n",
"P = LBp/L\n",
"printf('\n Probability of decay = %f ',P);\n",
"//Answer may vary due to round off error"
   ]
   }
,
{
		   "cell_type": "markdown",
		   "metadata": {},
		   "source": [
			"## Example 5.4: Time_takes_for_the_activity.sce"
		   ]
		  },
  {
"cell_type": "code",
	   "execution_count": null,
	   "metadata": {
	    "collapsed": true
	   },
	   "outputs": [],
"source": [
"//Chapter 5, Example 5.4, Page 127\n",
"clc\n",
"clear\n",
"//Time takes for the activity of daughter is within 5% of that of parent\n",
"t = -log(1-0.95)/(1.083*10^-2)\n",
"printf('\n Time = %f h ',t); \n",
"printf('\n Time = %f d ',t/24);\n",
"//Answer may vary due to round off error"
   ]
   }
,
{
		   "cell_type": "markdown",
		   "metadata": {},
		   "source": [
			"## Example 5.6: Age_of_the_wood.sce"
		   ]
		  },
  {
"cell_type": "code",
	   "execution_count": null,
	   "metadata": {
	    "collapsed": true
	   },
	   "outputs": [],
"source": [
"//Chapter 5, Example 5.6, Page 129\n",
"clc\n",
"clear\n",
"// Age of the wood\n",
"//based on eq 5.74\n",
"t = -(5730/log(2))*log(1.2/6.4)\n",
"printf('\n Time = %f y ',t);\n",
"//Answer may vary due to round off error"
   ]
   }
,
{
		   "cell_type": "markdown",
		   "metadata": {},
		   "source": [
			"## Example 5.7: Calculate_the_time.sce"
		   ]
		  },
  {
"cell_type": "code",
	   "execution_count": null,
	   "metadata": {
	    "collapsed": true
	   },
	   "outputs": [],
"source": [
"//Chapter 5, Example 5.7, Page 129\n",
"clc\n",
"clear\n",
"// Calculate the time\n",
"//based on eq 5.74\n",
"t = (14.05*10**9/log(2))*log(1+(0.31232/1.37208))\n",
"printf('\n Time = %e y ',t);\n",
"//Answer may vary due to round off error"
   ]
   }
,
{
		   "cell_type": "markdown",
		   "metadata": {},
		   "source": [
			"## Example 5.8: Calculate_the_time.sce"
		   ]
		  },
  {
"cell_type": "code",
	   "execution_count": null,
	   "metadata": {
	    "collapsed": true
	   },
	   "outputs": [],
"source": [
"//Chapter 5, Example 5.8, Page 130\n",
"clc\n",
"clear\n",
"// Calculate the time\n",
"//based on eq 5.74\n",
"t = (4.88*10**10/log(2))*log(1+((0.80-0.710)/1.37208))\n",
"printf('\n Time = %e y ',t);\n",
"//Answer may vary due to round off error"
   ]
   }
],
"metadata": {
		  "kernelspec": {
		   "display_name": "Scilab",
		   "language": "scilab",
		   "name": "scilab"
		  },
		  "language_info": {
		   "file_extension": ".sce",
		   "help_links": [
			{
			 "text": "MetaKernel Magics",
			 "url": "https://github.com/calysto/metakernel/blob/master/metakernel/magics/README.md"
			}
		   ],
		   "mimetype": "text/x-octave",
		   "name": "scilab",
		   "version": "0.7.1"
		  }
		 },
		 "nbformat": 4,
		 "nbformat_minor": 0
}
