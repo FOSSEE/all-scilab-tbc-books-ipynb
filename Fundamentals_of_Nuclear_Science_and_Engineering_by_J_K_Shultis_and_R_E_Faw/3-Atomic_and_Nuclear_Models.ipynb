{
"cells": [
 {
		   "cell_type": "markdown",
	   "metadata": {},
	   "source": [
       "# Chapter 3: Atomic and Nuclear Models"
	   ]
	},
{
		   "cell_type": "markdown",
		   "metadata": {},
		   "source": [
			"## Example 3.1: Energy_required_to_remove_electron_in_the_ground_state.sce"
		   ]
		  },
  {
"cell_type": "code",
	   "execution_count": null,
	   "metadata": {
	    "collapsed": true
	   },
	   "outputs": [],
"source": [
"//Chapter 3, Example 3.1, Page 66\n",
"clc\n",
"clear\n",
"//Energy required to remove electron in the ground state\n",
"//Obtaining values from table 1.5\n",
"h = 6.626*10**-34 // J s\n",
"m = 9.109*10**-31 // kg\n",
"e = 1.6022*10**-19 // C\n",
"E0 = 8.854*10**-12 // F m^-1\n",
"E1 = -(m*(2*e**2)**2)/(8*E0**2*h**2)\n",
"EJ = E1/(1.6022*10**-19) // converting to eV\n",
"printf('\n E1 in Joules = %e J',E1);\n",
"printf('\n E1 in eV = %f EV',EJ);\n",
"//Answer may vary due to round off error"
   ]
   }
,
{
		   "cell_type": "markdown",
		   "metadata": {},
		   "source": [
			"## Example 3.2: Estimate_the_mass_of_Ga.sce"
		   ]
		  },
  {
"cell_type": "code",
	   "execution_count": null,
	   "metadata": {
	    "collapsed": true
	   },
	   "outputs": [],
"source": [
"//Chapter 3, Example 3.2, Page 79\n",
"clc\n",
"clear\n",
"// Estimate the mass of Ga\n",
"//Based on equation 3.16\n",
"av = 15.835 // MeV\n",
"as = 18.33 // MeV\n",
"ac = 0.714 // MeV\n",
"aa = 23.30 // MeV\n",
"ap = 11.2 // MeV\n",
"A = 70\n",
"c2 = (1/931.5)\n",
"mn = 1.0072765\n",
"mp = 1.0086649\n",
"me = 0.00054858\n",
"a = av*A\n",
"b = as*A**(2/3)\n",
"c = ac*(31**2/A**(1/3))\n",
"d = aa*((A-62)**2/A)\n",
"c = ap/sqrt(A)\n",
"BE = (a-b-c-d)*c2 // BE/C^2\n",
"M = 31*mn+39*mp-BE+31*me\n",
"printf('\n Nuclear binding energy = %f u',BE); // answer provided in the textbook is wrong\n",
"printf('\n Atomic mass = %f u',M);\n",
"//Answer may vary due to round off error"
   ]
   }
],
"metadata": {
		  "kernelspec": {
		   "display_name": "Scilab",
		   "language": "scilab",
		   "name": "scilab"
		  },
		  "language_info": {
		   "file_extension": ".sce",
		   "help_links": [
			{
			 "text": "MetaKernel Magics",
			 "url": "https://github.com/calysto/metakernel/blob/master/metakernel/magics/README.md"
			}
		   ],
		   "mimetype": "text/x-octave",
		   "name": "scilab",
		   "version": "0.7.1"
		  }
		 },
		 "nbformat": 4,
		 "nbformat_minor": 0
}
