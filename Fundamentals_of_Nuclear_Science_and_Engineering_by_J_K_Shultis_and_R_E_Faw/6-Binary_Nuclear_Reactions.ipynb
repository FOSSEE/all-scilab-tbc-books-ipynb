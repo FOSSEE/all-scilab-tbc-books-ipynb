{
"cells": [
 {
		   "cell_type": "markdown",
	   "metadata": {},
	   "source": [
       "# Chapter 6: Binary Nuclear Reactions"
	   ]
	},
{
		   "cell_type": "markdown",
		   "metadata": {},
		   "source": [
			"## Example 6.1: Minimum_Kinetic_energy.sce"
		   ]
		  },
  {
"cell_type": "code",
	   "execution_count": null,
	   "metadata": {
	    "collapsed": true
	   },
	   "outputs": [],
"source": [
"//Chapter 6, Example 6.1, Page 142\n",
"clc\n",
"clear\n",
"// Minimum Kinetic energy\n",
"Q = [1.311 -0.6259 -0.1582] //Q in MeV of all the reactions\n",
"Ex = [1.994 2.11 0.1695]\n",
"KE = Q+Ex\n",
"printf('Kinetic Energy for 13C(d,t)12C = %f \n',KE(1))\n",
"printf(' Kinetic Energy for 14C(p,n)14N = %f \n',KE(2))\n",
"printf(' Kinetic Energy for 14C(n,a)11B = %f',KE(3))"
   ]
   }
,
{
		   "cell_type": "markdown",
		   "metadata": {},
		   "source": [
			"## Example 6.2: Maximum_Energy_loss.sce"
		   ]
		  },
  {
"cell_type": "code",
	   "execution_count": null,
	   "metadata": {
	    "collapsed": true
	   },
	   "outputs": [],
"source": [
"//Chapter 6, Example 6.2, Page 145\n",
"clc\n",
"clear\n",
"// Maximum Energy loss\n",
"me = 0.0005486\n",
"M = 4.003\n",
"EM = 4\n",
"Emax = 4*(me/M)*EM\n",
"printf('Emax = %f keV',Emax*10^3)\n",
"//Answers may vary due to round off error"
   ]
   }
,
{
		   "cell_type": "markdown",
		   "metadata": {},
		   "source": [
			"## Example 6.4: Initail_fragment_of_KE.sce"
		   ]
		  },
  {
"cell_type": "code",
	   "execution_count": null,
	   "metadata": {
	    "collapsed": true
	   },
	   "outputs": [],
"source": [
"//Chapter 6, Example 6.4, Page 155\n",
"clc\n",
"clear\n",
"// Initail fragment of KE\n",
"MU = 235.043923\n",
"mn = 1.008665 \n",
"MXE = 138.918787\n",
"MSr = 94.919358\n",
"Ep = abs(MU+mn-MXE-MSr-(2*mn*931.5)) \n",
"printf('Ep = %f keV',Ep)// Answer provided in the textbook is wrong\n",
"//Answers may vary due to round off error"
   ]
   }
,
{
		   "cell_type": "markdown",
		   "metadata": {},
		   "source": [
			"## Example 6.5: Energy_released.sce"
		   ]
		  },
  {
"cell_type": "code",
	   "execution_count": null,
	   "metadata": {
	    "collapsed": true
	   },
	   "outputs": [],
"source": [
"//Chapter 6, Example 6.5, Page 158\n",
"clc\n",
"clear\n",
"// Energy released\n",
"MLa = 138.906348\n",
"MMo = 94.905842\n",
"MXE = 138.918787\n",
"MSr = 94.919358\n",
"Ep = (MXE+MSr-MLa-MMo)*(931.5)\n",
"printf('Ep = %f MeV',Ep)\n",
"//Answers may vary due to round off error"
   ]
   }
],
"metadata": {
		  "kernelspec": {
		   "display_name": "Scilab",
		   "language": "scilab",
		   "name": "scilab"
		  },
		  "language_info": {
		   "file_extension": ".sce",
		   "help_links": [
			{
			 "text": "MetaKernel Magics",
			 "url": "https://github.com/calysto/metakernel/blob/master/metakernel/magics/README.md"
			}
		   ],
		   "mimetype": "text/x-octave",
		   "name": "scilab",
		   "version": "0.7.1"
		  }
		 },
		 "nbformat": 4,
		 "nbformat_minor": 0
}
