{
"cells": [
 {
		   "cell_type": "markdown",
	   "metadata": {},
	   "source": [
       "# Chapter 7: Radiation Interactions with Matter"
	   ]
	},
{
		   "cell_type": "markdown",
		   "metadata": {},
		   "source": [
			"## Example 7.1: Thickness_of_shield.sce"
		   ]
		  },
  {
"cell_type": "code",
	   "execution_count": null,
	   "metadata": {
	    "collapsed": true
	   },
	   "outputs": [],
"source": [
"//Chapter 7, Example 7.1, Page 177\n",
"clc\n",
"clear\n",
"// Thickness of shield\n",
"Wmu = 0.07066 // meu of water\n",
"Lmu = 0.7721 // meu of lead\n",
"Wx= log(10)*(1/Wmu)\n",
"Lx= log(10)*(1/Lmu)\n",
"printf('Thickness of water shield = %f cm\n',Wx)\n",
"printf(' Thickness of lead shield = %f cm',Lx)\n",
"//Answers may vary due to round off error"
   ]
   }
,
{
		   "cell_type": "markdown",
		   "metadata": {},
		   "source": [
			"## Example 7.2: Total_interaction_coefficient.sce"
		   ]
		  },
  {
"cell_type": "code",
	   "execution_count": null,
	   "metadata": {
	    "collapsed": true
	   },
	   "outputs": [],
"source": [
"//Chapter 7, Example 7.2, Page 179\n",
"clc\n",
"clear\n",
"// Total interaction coefficient\n",
"Femu = 0.05951 // meu/p of iron \n",
"Pbmu = 0.06803 // meu/p of lead\n",
"w = 0.5\n",
"mew= (w*Femu)+(w*Pbmu)\n",
"Pmix = 2*(1/((1/7.784)+(1/11.35)))\n",
"mmix = mew*Pmix\n",
"printf('(mew/p)^mix = %f cm^2/g\n',mew)\n",
"printf(' (mew)^mix = %f cm^-1',mmix)\n",
"//Answers may vary due to round off error"
   ]
   }
,
{
		   "cell_type": "markdown",
		   "metadata": {},
		   "source": [
			"## Example 7.3: Absorption_coefficient.sce"
		   ]
		  },
  {
"cell_type": "code",
	   "execution_count": null,
	   "metadata": {
	    "collapsed": true
	   },
	   "outputs": [],
"source": [
"//Chapter 7, Example 7.3, Page 180\n",
"clc\n",
"clear\n",
"// Absorption coefficient\n",
"AbsC = 0.03343*((2*0.99985*0.333)+(2*0.00015*0.000506)+(0.99756*0.000190)+(0.00039*0.239)+(0.000160*0.00205))\n",
"printf(' Absorption coefficient = %f cm^-1',AbsC)\n",
"//Answers may vary due to round off error"
   ]
   }
,
{
		   "cell_type": "markdown",
		   "metadata": {},
		   "source": [
			"## Example 7.4: Flux_density.sce"
		   ]
		  },
  {
"cell_type": "code",
	   "execution_count": null,
	   "metadata": {
	    "collapsed": true
	   },
	   "outputs": [],
"source": [
"//Chapter 7, Example 7.4, Page 186\n",
"clc\n",
"clear\n",
"// Flux density\n",
"Sp = 1.295*10**13\n",
"r = 100\n",
"mew = 0.3222\n",
"phimax = 2*10**3\n",
"phi = Sp*10^-2/(4*%pi*r**2)\n",
"t = -(1/mew)*log(phimax/phi)\n",
"printf('phi = %e cm^-2/s^-1\n',phi)\n",
"printf(' t = %f cm^-1',t)\n",
"//Answers may vary due to round off error"
   ]
   }
,
{
		   "cell_type": "markdown",
		   "metadata": {},
		   "source": [
			"## Example 7.5: Activity_of_the_sample.sce"
		   ]
		  },
  {
"cell_type": "code",
	   "execution_count": null,
	   "metadata": {
	    "collapsed": true
	   },
	   "outputs": [],
"source": [
"//Chapter 7, Example 7.5, Page 199\n",
"clc\n",
"clear\n",
"// Activity of the sample\n",
"lambda = 7.466*10**-5\n",
"m = 2\n",
"Na = 0.6022*10**24\n",
"A = 55\n",
"sigma  = 13.3*10**-24\n",
"delta = 10**13\n",
"t = 120\n",
"Activity= lambda*(m*Na/A)*sigma*delta*t\n",
"printf('Activity = %e Bq\n',Activity)\n",
"//Answers may vary due to round off error"
   ]
   }
,
{
		   "cell_type": "markdown",
		   "metadata": {},
		   "source": [
			"## Example 7.6: Energy_required.sce"
		   ]
		  },
  {
"cell_type": "code",
	   "execution_count": null,
	   "metadata": {
	    "collapsed": true
	   },
	   "outputs": [],
"source": [
"//Chapter 7, Example 7.6, Page 206\n",
"clc\n",
"clear\n",
"// Energy required\n",
"Z = 79\n",
"E = 700/Z\n",
"printf('E = %f MeV\n',E)\n",
"//Answers may vary due to round off error"
   ]
   }
,
{
		   "cell_type": "markdown",
		   "metadata": {},
		   "source": [
			"## Example 7.7: Range_in_water.sce"
		   ]
		  },
  {
"cell_type": "code",
	   "execution_count": null,
	   "metadata": {
	    "collapsed": true
	   },
	   "outputs": [],
"source": [
"//Chapter 7, Example 7.7, Page 209\n",
"clc\n",
"clear\n",
"// Range in water\n",
"x = poly([-2.5839, 1.3767, 0.20954],'x','c')\n",
"r = log10(2)\n",
"pow = horner(x,r)\n",
"Rp = 10**pow\n",
"RT = 3*Rp\n",
"printf('Rp = %f cm\n',Rp)\n",
"printf('RT = %f cm\n',RT)\n",
"//Answers may vary due to round off error"
   ]
   }
],
"metadata": {
		  "kernelspec": {
		   "display_name": "Scilab",
		   "language": "scilab",
		   "name": "scilab"
		  },
		  "language_info": {
		   "file_extension": ".sce",
		   "help_links": [
			{
			 "text": "MetaKernel Magics",
			 "url": "https://github.com/calysto/metakernel/blob/master/metakernel/magics/README.md"
			}
		   ],
		   "mimetype": "text/x-octave",
		   "name": "scilab",
		   "version": "0.7.1"
		  }
		 },
		 "nbformat": 4,
		 "nbformat_minor": 0
}
