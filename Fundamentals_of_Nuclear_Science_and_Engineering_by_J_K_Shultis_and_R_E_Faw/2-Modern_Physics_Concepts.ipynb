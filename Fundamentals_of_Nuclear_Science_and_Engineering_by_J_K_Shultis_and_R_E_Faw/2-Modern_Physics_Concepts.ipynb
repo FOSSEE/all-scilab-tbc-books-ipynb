{
"cells": [
 {
		   "cell_type": "markdown",
	   "metadata": {},
	   "source": [
       "# Chapter 2: Modern Physics Concepts"
	   ]
	},
{
		   "cell_type": "markdown",
		   "metadata": {},
		   "source": [
			"## Example 2.1: Find_the_inscrease_in_mass_of_the_satellite.sce"
		   ]
		  },
  {
"cell_type": "code",
	   "execution_count": null,
	   "metadata": {
	    "collapsed": true
	   },
	   "outputs": [],
"source": [
"//Chapter 2, Example 2.1, Page 29\n",
"clc\n",
"clear\n",
"//Find the inscrease in mass of the Satellite\n",
"v = 7.5*10**3\n",
"c = 2.998*10**8\n",
"//Calculating the expression using the taylor series\n",
"FMI = (1/2)*(v**2/c**2)\n",
"printf('The fractional mass increase = %e',FMI); \n",
"//Answers may vary due to round off error"
   ]
   }
,
{
		   "cell_type": "markdown",
		   "metadata": {},
		   "source": [
			"## Example 2.2: Find_the_energy_equivalent_in_MeV_of_the_electron_rest_mass.sce"
		   ]
		  },
  {
"cell_type": "code",
	   "execution_count": null,
	   "metadata": {
	    "collapsed": true
	   },
	   "outputs": [],
"source": [
"//Chapter 2, Example 2.2, Page 33\n",
"clc\n",
"clear\n",
"//Find the energy equivalent in MeV of the electron rest mass\n",
"m1 = 9.109*10**-31 // kg\n",
"m2 = 5.486*10**-4 // atomic mass units\n",
"c1 = 2.998*10**8 // m/s\n",
"c2 = 931.49 // MeV/u\n",
"E1 = (m1*c1*c1)/(1.602*10**-13)\n",
"E2 = m2*c2\n",
"printf('E = %f MeV',E1);\n",
"printf('\n E measured in atomic mass unit and appropriate conversion factor= %f MeV',E2);\n",
"//Answers may vary due to round off error"
   ]
   }
,
{
		   "cell_type": "markdown",
		   "metadata": {},
		   "source": [
			"## Example 2.3: Maximum_wavelength_of_light_required_to_liberate_photoelectrons.sce"
		   ]
		  },
  {
"cell_type": "code",
	   "execution_count": null,
	   "metadata": {
	    "collapsed": true
	   },
	   "outputs": [],
"source": [
"//Chapter 2, Example 2.3, Page 37\n",
"clc\n",
"clear\n",
"//maximum wavelength of light required to liberate photoelectrons \n",
"A = 2.35 //eV\n",
"h = 4.136*10**-15 // eV/s^-1\n",
"c = 2.998*10**8 // m/s\n",
"v = A/h\n",
"w = c/v\n",
"printf('v-min = %e s^-1',v);\n",
"printf('\n Maximum wavelength = %f nm which corresponds to green',w*10**9);\n",
"//Answers may vary due to round off error"
   ]
   }
,
{
		   "cell_type": "markdown",
		   "metadata": {},
		   "source": [
			"## Example 2.4: Recoil_Kinetic_Energy.sce"
		   ]
		  },
  {
"cell_type": "code",
	   "execution_count": null,
	   "metadata": {
	    "collapsed": true
	   },
	   "outputs": [],
"source": [
"//Chapter 2, Example 2.4, Page 39\n",
"clc\n",
"clear\n",
"//Recoil Kinetic Energy\n",
"m1 = 9.109*10**-31 // kg\n",
"c1 = 2.998*10**8 // m/s\n",
"E = 3 //Mev\n",
"mc2 = (m1*c1*c1)/(1.602*10**-13) // converting to MeV\n",
"E1 = 1/((1/E)+(1/mc2)*(1-cos(%pi/4))) \n",
"printf('\n Recoil kinetic energy = %f MeV',E1);\n",
"//Answers may vary due to round off error"
   ]
   }
],
"metadata": {
		  "kernelspec": {
		   "display_name": "Scilab",
		   "language": "scilab",
		   "name": "scilab"
		  },
		  "language_info": {
		   "file_extension": ".sce",
		   "help_links": [
			{
			 "text": "MetaKernel Magics",
			 "url": "https://github.com/calysto/metakernel/blob/master/metakernel/magics/README.md"
			}
		   ],
		   "mimetype": "text/x-octave",
		   "name": "scilab",
		   "version": "0.7.1"
		  }
		 },
		 "nbformat": 4,
		 "nbformat_minor": 0
}
