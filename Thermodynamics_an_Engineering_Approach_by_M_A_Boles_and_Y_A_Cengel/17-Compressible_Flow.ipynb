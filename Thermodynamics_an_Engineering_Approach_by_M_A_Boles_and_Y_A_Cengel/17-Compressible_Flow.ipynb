{
"cells": [
 {
		   "cell_type": "markdown",
	   "metadata": {},
	   "source": [
       "# Chapter 17: Compressible Flow"
	   ]
	},
{
		   "cell_type": "markdown",
		   "metadata": {},
		   "source": [
			"## Example 17.10: Estimation_of_the_Mach_Number_from_Mach_Lines.sce"
		   ]
		  },
  {
"cell_type": "code",
	   "execution_count": null,
	   "metadata": {
	    "collapsed": true
	   },
	   "outputs": [],
"source": [
"clc;clear;\n",
"//Example 17.10\n",
"\n",
"//given data\n",
"//using protactor frpm Fig 17-36\n",
"u=19;//u stands for angle of the mach lines\n",
"\n",
"//calculations\n",
"//by Eq. 17-47\n",
"//i.e u= asin(1/Ma)\n",
"Ma=1/sind(u);\n",
"disp(Ma,'The Mach number is')"
   ]
   }
,
{
		   "cell_type": "markdown",
		   "metadata": {},
		   "source": [
			"## Example 17.11: Oblique_Shock_Calculations.sce"
		   ]
		  },
  {
"cell_type": "code",
	   "execution_count": null,
	   "metadata": {
	    "collapsed": true
	   },
	   "outputs": [],
"source": [
"clc;clear;\n",
"//Example 17.11\n",
"\n",
"//given data\n",
"Ma1=2;\n",
"P1=75;\n",
"O=10;//angle b/w shock wave and normal\n",
"\n",
"//constants used\n",
"k=1.4;\n",
"\n",
"//calcualtions\n",
"//with given values of Ma1 and O from Eq 17-46\n",
"Bweak=39.3;\n",
"Bstrong=83.7;\n",
"//Weak shock\n",
"Ma1w=Ma1*sind(Bweak);\n",
"//Strong shock\n",
"Ma1s=Ma1*sind(Bstrong);\n",
"//from second part Eq 17-40\n",
"Ma2w=0.8032;\n",
"Ma2s=0.5794;\n",
"//pressure ratio = (2*k*Ma^2 - k + 1)/(k + 1 )\n",
"//Weak shock\n",
"P2w=P1*(2*k*Ma1w^2 - k + 1)/(k + 1 );\n",
"P2w=ceil(P2w);\n",
"disp(P2w,'pressure for weak shock in kPa');\n",
"//Strong shock\n",
"P2s=P1*(2*k*Ma1s^2 - k + 1)/(k + 1 );\n",
"P2s=floor(P2s);\n",
"disp(P2s,'pressure for strong shock in kPa');\n",
"//Weak shock\n",
"Ma2=Ma2w/sind(Bweak-O);\n",
"disp(Ma2,'Mach number downstream for weak shock');\n",
"//Strong shock\n",
"Ma2=Ma2s/sind(Bstrong-O);\n",
"disp(Ma2,'Mach number downstream for strong shock');"
   ]
   }
,
{
		   "cell_type": "markdown",
		   "metadata": {},
		   "source": [
			"## Example 17.12: Prandtl_Meyer_Expansion_Wave_Calculations.sce"
		   ]
		  },
  {
"cell_type": "code",
	   "execution_count": null,
	   "metadata": {
	    "collapsed": true
	   },
	   "outputs": [],
"source": [
"clc;clear;\n",
"//Example 17.12\n",
"\n",
"//given data\n",
"Ma1=2;\n",
"P1=230;\n",
"O=10;//O stands for angle of the mach lines\n",
"\n",
"//constants used\n",
"k=1.4;\n",
"\n",
"//calculations\n",
"//Eq. 17–49 for the upstream Prandtl–Meyer function\n",
"vMa1=sqrt((k+1)/(k-1))*atand(sqrt((k-1)*(Ma1^2-1)/(k+1)))-atand(sqrt(Ma1^2-1));\n",
"//Eq. 17–48 to calculate the downstream Prandtl–Meyer function\n",
"vMa2=O+vMa1;\n",
"//using equation solver as implict nature of Eq 17-49\n",
"Ma2=2.385;\n",
"disp(Ma2,'downstream Mach number Ma2 is');\n",
"//P2 = (P2/P0)/(P1/P0) * P1\n",
"P2= (1 + (k-1)*Ma2^2/2 )^(-k/(k-1)) / (1 + (k-1)*Ma1^2/2 )^(-k/(k-1)) * P1;\n",
"P2=floor(P2);\n",
"disp(P2,'downstream pressure in kPa')"
   ]
   }
,
{
		   "cell_type": "markdown",
		   "metadata": {},
		   "source": [
			"## Example 17.15: Rayleigh_Flow_in_a_Tubular_Combustor.sce"
		   ]
		  },
  {
"cell_type": "code",
	   "execution_count": null,
	   "metadata": {
	    "collapsed": true
	   },
	   "outputs": [],
"source": [
"clc;clear;\n",
"//Example 17.15\n",
"\n",
"//given data\n",
"P1=480;\n",
"T1=550;\n",
"V1=80;\n",
"d1=15/100;//diameter in m\n",
"AF=40;//air to fuel ratio\n",
"HV=40000;//heating value in kJ/kg\n",
"\n",
"//from Table A-2a\n",
"R=0.287;//in kJ/kg-K\n",
"cp=1.005;//in kJ/kg-K\n",
"k=1.4;\n",
"\n",
"//calculations\n",
"p1=P1/(R*T1);\n",
"A1=%pi*d1^2/4;\n",
"mair=p1*A1*V1;\n",
"mfuel=mair/AF;\n",
"Q=mfuel*HV;\n",
"q=Q/mair;\n",
"T01=T1+V1^2/(2*cp);\n",
"c1=sqrt(k*R*T1*1000);//factor of 1000 to convert kJ to J\n",
"Ma1=V1/c1;\n",
"//exit stagnation energy equation q= Cp (T02 - T01)\n",
"T02=T01+q/cp;\n",
"//from Table A–34\n",
"//at Ma1\n",
"//s stands for * symbol\n",
"T0s=0.1291;//T0/Ts\n",
"Ts0=T01/T0s;\n",
"T2s=T02/Ts0;//T02/T*0\n",
"//from Table A–34 at this ratio\n",
"Ma2=0.3142;\n",
"//Rayleigh flow relations corresponding to the inlet and exit Mach no\n",
"//at Ma1\n",
"T1s=0.1541;//T1/Ts\n",
"P1s=2.3065;//P1/Ps\n",
"V1s=0.0668;//V1/Vs\n",
"//at Ma2\n",
"T2s=0.4389;//T2/Ts\n",
"P2s=2.1086;//P2/Ps\n",
"V2s=0.2082;//V2/Vs\n",
"T2=T2s/T1s*T1;\n",
"T2=floor(T2);\n",
"P2=P2s/P1s*P1;\n",
"P2=ceil(P2);\n",
"V2=V2s/V1s*V1;\n",
"V2=floor(V2);    \n",
"disp(Ma2,'Mach Number at exit');\n",
"disp(T2,'Temperature in K');\n",
"disp(P2,'Pressure in kPa');\n",
"disp(V2,'Velocity in m/s')"
   ]
   }
,
{
		   "cell_type": "markdown",
		   "metadata": {},
		   "source": [
			"## Example 17.16: Steam_Flow_through_a_Converging_Diverging_Nozzle.sce"
		   ]
		  },
  {
"cell_type": "code",
	   "execution_count": null,
	   "metadata": {
	    "collapsed": true
	   },
	   "outputs": [],
"source": [
"clc;clear;\n",
"//Example 17.16\n",
"\n",
"//given data\n",
"P01=2*1000;//factor of 1000 to convert MPa to kPa\n",
"T1=400;\n",
"V1=0;//negligible\n",
"nN=0.93;\n",
"m=2.5;\n",
"P2=300;\n",
"\n",
"//calculations\n",
"\n",
"//part - a\n",
"P201=P2/P01;\n",
"//critical pressure ratio at this values is 0.546\n",
"Pt=0.546*P01;\n",
"//at inlet\n",
"h1=3248.4;\n",
"h01=h1;\n",
"s1=7.1292;\n",
"//at throat\n",
"st=s1;\n",
"ht=3076.8;\n",
"vt=0.24196;\n",
"Vt=sqrt(2*(h01-ht)*1000);//factor of 1000 to convert kJ to J\n",
"At=m*vt/Vt;\n",
"//at state 2s\n",
"s2s=s1;\n",
"h2s=2783.6;\n",
"//nN = (h01 - h2)/ (h01 - h2s)\n",
"h2=h01-nN*(h01-h2s);\n",
"//at P2 and h2\n",
"v2=0.67723;\n",
"s2=7.2019;\n",
"V2=sqrt(2*(h01-h2)*1000);//factor of 1000 to convert kJ to J\n",
"A2=m*v2/V2;\n",
"disp((At*10000),'throat area in cm^2');\n",
"disp((A2*10000),'exit area in cm^2');\n",
"\n",
"//part - b\n",
"// at st=7.1292\n",
"//pressures of 1.115 and 1.065 MPa\n",
"//c calculated using tables\n",
"c=sqrt((1115-1065)/(1/0.23776 - 1/0.24633)*1000);//factor of 1000 to convert kPa to Pa\n",
"Ma=Vt/c;\n",
"disp(Ma,'the Mach number at the throat');\n",
"// at s2=7.2019\n",
"//pressures of 325 and 275 kPa\n",
"c=sqrt((325-276)/(1/0.63596 - 1/0.72245)*1000);//factor of 1000 to convert kPa to Pa\n",
"Ma=V2/c;\n",
"disp(Ma,'the Mach number at the nozzle exit')"
   ]
   }
,
{
		   "cell_type": "markdown",
		   "metadata": {},
		   "source": [
			"## Example 17.1: Compression_of_High_Speed_Air_in_an_Aircraft.sce"
		   ]
		  },
  {
"cell_type": "code",
	   "execution_count": null,
	   "metadata": {
	    "collapsed": true
	   },
	   "outputs": [],
"source": [
"clc;clear;\n",
"//Example 17.1\n",
"\n",
"//given data\n",
"V1=250;\n",
"T1=255.07;\n",
"P1=54.05;\n",
"h=5000;\n",
"\n",
"//from Table A-2a\n",
"cp=1.005;//in kJ/kg-K\n",
"k=1.4;\n",
"\n",
"//calculations\n",
"T01=T1+V1^2/(2*cp*1000);//factor of 1000 to convert kJ to J\n",
"P01=P1*(T01/T1)^(k/(k-1));\n",
"//given pressure ratio in compressor *\n",
"// T02 = T01*(P02/P01)^((k-1)/k)\n",
"T02 = T01*(8)^((k-1)/k);\n",
"win=cp*(T02-T01);\n",
"disp(P01,'the stagnation pressure at the compressor inlet in kPa');\n",
"disp(win,'the required compressor work per unit mass in kJ/kg')"
   ]
   }
,
{
		   "cell_type": "markdown",
		   "metadata": {},
		   "source": [
			"## Example 17.2: Mach_Number_of_Air_Entering_a_Diffuser.sce"
		   ]
		  },
  {
"cell_type": "code",
	   "execution_count": null,
	   "metadata": {
	    "collapsed": true
	   },
	   "outputs": [],
"source": [
"clc;clear;\n",
"//Example 17.2\n",
"\n",
"//given data\n",
"V=200;\n",
"T=30+273;//converted in K\n",
"\n",
"//from Table A-2a\n",
"R=0.287;//in kJ/kg-K\n",
"k=1.4;\n",
"\n",
"//calculations\n",
"c=sqrt(k*R*T*1000);//factor of 1000 to convert kJ to J\n",
"c=ceil(c);\n",
"disp(c,'the speed of sound in m/s');\n",
"Ma=V/c;\n",
"disp(Ma,'the Mach number at the diffuser inlet')"
   ]
   }
,
{
		   "cell_type": "markdown",
		   "metadata": {},
		   "source": [
			"## Example 17.3: Gas_Flow_through_a_Converging_Diverging_Duct.sce"
		   ]
		  },
  {
"cell_type": "code",
	   "execution_count": null,
	   "metadata": {
	    "collapsed": true
	   },
	   "outputs": [],
"source": [
"clc;clear;\n",
"//Example 17.3\n",
"\n",
"//given data\n",
"T0=200+273;//converted in K\n",
"P0=1400;\n",
"//stagnant temp. & pressure is same as inlet due to small inlet velocity\n",
"P=1200;\n",
"m=3;\n",
"\n",
"//from Table A-2a\n",
"cp=0.846;//in kJ/kg-K\n",
"R=0.1889;//in kJ/kg-K\n",
"k=1.289;\n",
"\n",
"//calculations\n",
"T=T0*(P/P0)^((k-1)/k);\n",
"V=sqrt(2*cp*(T0-T)*1000);//factor of 1000 to convert kJ to J\n",
"p=P/(R*T);\n",
"A=m/(p*V);\n",
"c=sqrt(k*R*T*1000);//factor of 1000 to convert kJ to J\n",
"Ma=V/c;\n",
"disp(V,'velocity in m/s');\n",
"disp(p,'density in kg/m^3');\n",
"disp((A*10000),'flow area in cm^2');\n",
"disp(Ma,'Mach number');"
   ]
   }
,
{
		   "cell_type": "markdown",
		   "metadata": {},
		   "source": [
			"## Example 17.4: Critical_Temperature_and_Pressure_in_Gas_Flow.sce"
		   ]
		  },
  {
"cell_type": "code",
	   "execution_count": null,
	   "metadata": {
	    "collapsed": true
	   },
	   "outputs": [],
"source": [
"clc;clear;\n",
"//Example 17.4\n",
"\n",
"//given data\n",
"T0=200+273;//converted in K\n",
"P0=1400;\n",
"\n",
"//from Table A-2a\n",
"k=1.289;\n",
"\n",
"//calculations\n",
"//Tc & Tr stands for critical temp and ratio respectively\n",
"//Pc & Pr stands for critical temp and ratio respectively\n",
"Tr=2/(k+1);\n",
"Pr=(2/(k+1))^(k/(k-1));\n",
"Tc=Tr*T0;\n",
"Pc=Pr*P0;\n",
"Tc=floor(Tc);\n",
"Pc=ceil(Pc);\n",
"disp(Tc,'critical temperature in K');\n",
"disp(Pc,'critical pressure on kPa')"
   ]
   }
,
{
		   "cell_type": "markdown",
		   "metadata": {},
		   "source": [
			"## Example 17.5: Effect_of_Back_Pressure_on_Mass_Flow_Rate.sce"
		   ]
		  },
  {
"cell_type": "code",
	   "execution_count": null,
	   "metadata": {
	    "collapsed": true
	   },
	   "outputs": [],
"source": [
"clc;clear;\n",
"//Example 17.5\n",
"\n",
"//given data\n",
"Vi=150;\n",
"Ti=600+273;\n",
"Pi=1;\n",
"At=50/10000;//converted into m^2\n",
"\n",
"//from Table A-2a\n",
"R=0.287;//in kJ/kg-K\n",
"cp=1.005;//in kJ/kg-K\n",
"k=1.4;\n",
"\n",
"//calculations\n",
"Toi=Ti+Vi^2/(2*cp*1000);//factor of 1000 to convert kJ to J\n",
"Poi=Pi*(Toi/Ti)^(k/(k-1));\n",
"//flow is isentropic \n",
"//stagnation temp. and pressure values remain constant\n",
"To=Toi;\n",
"Po=Poi;\n",
"//from Table 17–2\n",
"//The critical-pressure ratio is 0.5283\n",
"\n",
"//Part a\n",
"Pb=0.7;\n",
"Pca=Pb/Po;\n",
"// Pca > 0.5283\n",
"//exit plane pressure is equal to the back pressure\n",
"Pt=Pb;\n",
"//from Table A–32\n",
"Mat=0.778;\n",
"//Tt/To = 0.892\n",
"Tt=0.892*To;\n",
"pt=Pt*1000/(R*Tt);//factor of 1000 to convert MPa to kPa\n",
"Vt=Mat*sqrt(k*R*Tt*1000);//factor of 1000 to convert kJ to J\n",
"ma=pt*At*Vt;\n",
"disp(ma,'the mass flow rate through the nozzle when the back pressure is 0.7 MPa in kg/s');\n",
"\n",
"//Part b\n",
"Pb=0.4;\n",
"Pca=Pb/Po;\n",
"// Pca < 0.5283\n",
"//sonic conditions exists at the exit\n",
"Ma=1;\n",
"mb=At*(Po*1000)*(sqrt(k*1000/(R*To)))*(2/(k+1))^((k+1)/(2*(k-1)));//factor of 1000 to convert MPa to kPa and kJ to J\n",
"disp(mb,'the mass flow rate through the nozzle when the back pressure is 0.4 MPa in kg/s');"
   ]
   }
,
{
		   "cell_type": "markdown",
		   "metadata": {},
		   "source": [
			"## Example 17.6: Gas_Flow_through_a_Converging_Nozzle.sce"
		   ]
		  },
  {
"cell_type": "code",
	   "execution_count": null,
	   "metadata": {
	    "collapsed": true
	   },
	   "outputs": [],
"source": [
"clc;clear;\n",
"//Example 17.6\n",
"\n",
"//given data\n",
"T1=400;\n",
"P1=100;\n",
"Ma1=0.3;\n",
"A21=0.8;//A2/A1\n",
"\n",
"//assumption\n",
"k=1.4;\n",
"\n",
"//from Table A–32\n",
"//at Ma1=0.3\n",
"//s stands for * symbol\n",
"A1s = 2.0351;//A1/As\n",
"T10 = 0.9823;//T1/T0\n",
"P10 = 0.9305;//P1/P0\n",
"A2s = A21*A1s;//A2/As\n",
"//at this value of A2/As\n",
"T20=0.9701;//T2/T0\n",
"P20=0.8993;//P2/P0\n",
"Ma2=0.391;\n",
"\n",
"//calculations\n",
"T2=T1*T20/T10;\n",
"T2=floor(T2);\n",
"P2=P1*P20/P10;\n",
"disp(Ma2,'Ma2 is ');\n",
"disp(T2,'T2 in K is');\n",
"disp(P2,'P2 in kPa is')"
   ]
   }
,
{
		   "cell_type": "markdown",
		   "metadata": {},
		   "source": [
			"## Example 17.7: Airflow_through_a_Converging_Diverging_Nozzle.sce"
		   ]
		  },
  {
"cell_type": "code",
	   "execution_count": null,
	   "metadata": {
	    "collapsed": true
	   },
	   "outputs": [],
"source": [
"clc;clear;\n",
"//Example 17.7\n",
"\n",
"//given data \n",
"T0=800;\n",
"P0=1;\n",
"Vi=0;//negligible \n",
"At=20;\n",
"Mae=2\n",
"\n",
"//from Table A-2a\n",
"R=0.287;//in kJ/kg-K\n",
"k=1.4;\n",
"\n",
"//calculations\n",
"\n",
"//part - a\n",
"// Mach no. at exit is 2 hence sonic conditions at throat\n",
"p0=P0*1000/(R*T0);//factor of 1000 to convert MPa to kPa\n",
"//from Table A-32 at Mat=1\n",
"//s stands for * symbol\n",
"Ps0 = 0.5283;//Ts/T0\n",
"Ts0 = 0.8333;//Ps/P0\n",
"ps0=0.6339;//ps/p0\n",
"Ps=Ps0*P0;\n",
"Ts=Ts0*T0;\n",
"ps=ps0*p0;\n",
"As=At;\n",
"Vs=sqrt(k*R*Ts*1000);//factor of 1000 to convert kJ to J\n",
"disp('the throat conditions');\n",
"disp(Ps,'Presssure in MPa');\n",
"disp(Ts,'Temperature in K');\n",
"disp(ps,'density in kg/m^3');\n",
"disp(As,'area in cm^2');\n",
"disp(Vs,'velocity in m/s');\n",
"\n",
"//part - b\n",
"//from Table A-32\n",
"//at Mae=2\n",
"Te0 = 0.5556;//Te/T0\n",
"Pe0 = 0.1278;//Pe/P0\n",
"pe0= 0.2300;//pe/p0\n",
"Ae0= 1.6875;//Ae/Ao\n",
"Pe=Pe0*P0;\n",
"Te=Te0*T0;\n",
"pe=pe0*p0;\n",
"Ae=Ae0*At;\n",
"Ve=Mae*sqrt(k*R*Te*1000);//factor of 1000 to convert kJ to J\n",
"disp('the exit plane conditions, including the exit area');\n",
"disp(Pe,'Presssure in MPa');\n",
"disp(Te,'Temperature in K');\n",
"disp(pe,'density in kg/m^3');\n",
"disp(Ae,'area in cm^2');\n",
"disp(Ve,'velocity in m/s');\n",
"\n",
"//part - c\n",
"m=ps*As*Vs/10000;//factor of 10000 to convert cm^2 to m^2\n",
"disp(m,'the mass flow rate through the nozzle in kg/s');"
   ]
   }
,
{
		   "cell_type": "markdown",
		   "metadata": {},
		   "source": [
			"## Example 17.9: Shock_Wave_in_a_Converging_Diverging_Nozzle.sce"
		   ]
		  },
  {
"cell_type": "code",
	   "execution_count": null,
	   "metadata": {
	    "collapsed": true
	   },
	   "outputs": [],
"source": [
"clc;clear;\n",
"//Example 17.9\n",
"\n",
"//given data\n",
"m=2.86;\n",
"Ma1=2;\n",
"P01=1;\n",
"P1=0.1278;\n",
"T1=444.5;\n",
"p1=1.002;\n",
"\n",
"//from Table A-2a\n",
"R=0.287;//in kJ/kg-K\n",
"cp=1.005;//in kJ/kg-K\n",
"k=1.4;\n",
"\n",
"//calculations\n",
"\n",
"//part - a\n",
"//from Table A-33 at Ma1=2.0\n",
"Ma2=0.5774;\n",
"P0201=0.7209;//P02/P01\n",
"P21=4.5;//P2/P1;\n",
"T21=1.6875;//T2/T1\n",
"p21=2.6667;//p2/p1\n",
"P02=P0201*P01;\n",
"P2=P21*P1;\n",
"T2=T21*T1;\n",
"p2=p21*p1;\n",
"disp(P02,'the stagnation pressure in MPa');\n",
"disp(P2,'the static pressure in MPa');\n",
"disp(T2,'static temperature in K');\n",
"disp(p2,'static density in kg/m^3');\n",
"\n",
"//part - b\n",
"//s21 = s2 - s1\n",
"s21=cp*log(T2/T1)-R*log(P2/P1);\n",
"disp(s21,'the entropy change across the shock in kJ/kg-K');\n",
"\n",
"//part - c\n",
"V2=Ma2*sqrt(k*R*T2*1000);//factor of 1000 to convert kJ to J\n",
"V2=ceil(V2);\n",
"disp(V2,'the exit velocity in m/s');\n",
"\n",
"//part - d\n",
"disp('flow rate is not affected by presence of shock waves amd remains 2.86 kg/sec')"
   ]
   }
],
"metadata": {
		  "kernelspec": {
		   "display_name": "Scilab",
		   "language": "scilab",
		   "name": "scilab"
		  },
		  "language_info": {
		   "file_extension": ".sce",
		   "help_links": [
			{
			 "text": "MetaKernel Magics",
			 "url": "https://github.com/calysto/metakernel/blob/master/metakernel/magics/README.md"
			}
		   ],
		   "mimetype": "text/x-octave",
		   "name": "scilab",
		   "version": "0.7.1"
		  }
		 },
		 "nbformat": 4,
		 "nbformat_minor": 0
}
