{
"cells": [
 {
		   "cell_type": "markdown",
	   "metadata": {},
	   "source": [
       "# Chapter 6: The Second Law of Thermodynamics"
	   ]
	},
{
		   "cell_type": "markdown",
		   "metadata": {},
		   "source": [
			"## Example 6.1: Net_Power_Production_of_a_Heat_Engine.sce"
		   ]
		  },
  {
"cell_type": "code",
	   "execution_count": null,
	   "metadata": {
	    "collapsed": true
	   },
	   "outputs": [],
"source": [
"clc;clear;\n",
"//Example 6.1\n",
"\n",
"//givrn data\n",
"QH=80;\n",
"QL=50;\n",
"\n",
"//calculations\n",
"Wnet=QH-QL;\n",
"disp(Wnet,'net power output in MW')\n",
"nth=Wnet/QH;\n",
"disp(nth,'the thermal efficiency')"
   ]
   }
,
{
		   "cell_type": "markdown",
		   "metadata": {},
		   "source": [
			"## Example 6.2: Fuel_Consumption_Rate_of_a_Car.sce"
		   ]
		  },
  {
"cell_type": "code",
	   "execution_count": null,
	   "metadata": {
	    "collapsed": true
	   },
	   "outputs": [],
"source": [
"clc;clear;\n",
"//Example 6.2\n",
"\n",
"//given data\n",
"Wnet=65;\n",
"nth=0.24;\n",
"HV=19000;\n",
"\n",
"//calculations\n",
"QH=Wnet/nth*2545;//factor of 2545 to convert to Btu/h\n",
"m=QH/HV;\n",
"disp(m,'the engine must burn at fuel rate in lbm/h')"
   ]
   }
,
{
		   "cell_type": "markdown",
		   "metadata": {},
		   "source": [
			"## Example 6.3: Heat_Rejection_by_a_Refrigerator.sce"
		   ]
		  },
  {
"cell_type": "code",
	   "execution_count": null,
	   "metadata": {
	    "collapsed": true
	   },
	   "outputs": [],
"source": [
"clc;clear;\n",
"//Example 6.3\n",
"\n",
"//given data\n",
"Wnet=2;\n",
"QL=360;\n",
"\n",
"//calculations\n",
"COPR=QL/Wnet/60;//factor of 60 to convert kW to kJ/min\n",
"disp(COPR,'coefficient of performance of refrigerator');\n",
"QH=QL+Wnet*60;//factor of 60 to convert kW to kJ/min\n",
"disp(QH,'heat rejection rate in kJ/min')"
   ]
   }
,
{
		   "cell_type": "markdown",
		   "metadata": {},
		   "source": [
			"## Example 6.4: Heating_a_House_by_a_Heat_Pump.sce"
		   ]
		  },
  {
"cell_type": "code",
	   "execution_count": null,
	   "metadata": {
	    "collapsed": true
	   },
	   "outputs": [],
"source": [
"clc;clear;\n",
"//Example 6.4\n",
"\n",
"//given data\n",
"COP=2.5;\n",
"QH=80000;\n",
"\n",
"//calculations\n",
"Wnet=QH/COP;\n",
"disp(Wnet,'the power consumed in kJ/h')\n",
"QL=QH-Wnet;\n",
"disp(QL,'the rate at which heat is absorbed in kJ/h')"
   ]
   }
,
{
		   "cell_type": "markdown",
		   "metadata": {},
		   "source": [
			"## Example 6.5: Analysis_of_a_Carnot_Heat_Engine.sce"
		   ]
		  },
  {
"cell_type": "code",
	   "execution_count": null,
	   "metadata": {
	    "collapsed": true
	   },
	   "outputs": [],
"source": [
"clc;clear;\n",
"//Example 6.5\n",
"\n",
"//given data\n",
"QH=500;\n",
"TL=30+273;//in C\n",
"TH=652+273;//in C\n",
"\n",
"//calculations\n",
"nth=1-TL/TH;\n",
"disp(nth,'the thermal efficiency of carnot engine');\n",
"QL=TL*QH/TH;\n",
"QL=round(QL);\n",
"disp(QL,'the amount of heat rejected to the sink per cycle in kJ')"
   ]
   }
,
{
		   "cell_type": "markdown",
		   "metadata": {},
		   "source": [
			"## Example 6.6: A_Questionable_Claim_for_a_Refrigerator.sce"
		   ]
		  },
  {
"cell_type": "code",
	   "execution_count": null,
	   "metadata": {
	    "collapsed": true
	   },
	   "outputs": [],
"source": [
"clc;clear;\n",
"//Example 6.6\n",
"\n",
"//given data\n",
"COP=13.5;\n",
"TH=75+460;//in R\n",
"TL=35+460;//in R\n",
"\n",
"//calculations\n",
"COPR=1/(TH/TL-1);\n",
"if(COPR>=COP)\n",
"    disp('claim is true');\n",
"else\n",
"    disp('claim is false')"
   ]
   }
,
{
		   "cell_type": "markdown",
		   "metadata": {},
		   "source": [
			"## Example 6.7: Heating_a_House_by_a_Carnot_Heat_Pump.sce"
		   ]
		  },
  {
"cell_type": "code",
	   "execution_count": null,
	   "metadata": {
	    "collapsed": true
	   },
	   "outputs": [],
"source": [
"clc;clear;\n",
"//Example 6.7\n",
"\n",
"//given data\n",
"TL=-5+273;//in C\n",
"TH=21+273;//in C\n",
"QH=37.5;\n",
"\n",
"//calculations\n",
"COPHP=1/(1-TL/TH);\n",
"Wnet=QH/COPHP;\n",
"disp(Wnet,'minimum power required in kW')"
   ]
   }
,
{
		   "cell_type": "markdown",
		   "metadata": {},
		   "source": [
			"## Example 6.8: Malfunction_of_a_Refrigerator_Light_Switch.sce"
		   ]
		  },
  {
"cell_type": "code",
	   "execution_count": null,
	   "metadata": {
	    "collapsed": true
	   },
	   "outputs": [],
"source": [
"clc;clear;\n",
"//Example 6.8\n",
"\n",
"//given data\n",
"Qrefrig=40;\n",
"COPR=1.3;\n",
"Wlight=40;\n",
"\n",
"//calculation\n",
"Wrefrig=Qrefrig/COPR;\n",
"Wt=Wrefrig+Wlight;\n",
"AnHr=365*24;//annual hours\n",
"NOH=20*30/3600*365;//normal operating hours\n",
"AOP=AnHr-NOH;//addtional operating hours\n",
"APC=Wt*AOP/1000;//additional power consumption; fator of 1000 to convert to kW\n",
"APC=round(APC);\n",
"disp(APC,'increase in power consumption in kWh/yr');\n",
"disp((APC)*0.08,'increase in cost in Dollar/yr')"
   ]
   }
],
"metadata": {
		  "kernelspec": {
		   "display_name": "Scilab",
		   "language": "scilab",
		   "name": "scilab"
		  },
		  "language_info": {
		   "file_extension": ".sce",
		   "help_links": [
			{
			 "text": "MetaKernel Magics",
			 "url": "https://github.com/calysto/metakernel/blob/master/metakernel/magics/README.md"
			}
		   ],
		   "mimetype": "text/x-octave",
		   "name": "scilab",
		   "version": "0.7.1"
		  }
		 },
		 "nbformat": 4,
		 "nbformat_minor": 0
}
