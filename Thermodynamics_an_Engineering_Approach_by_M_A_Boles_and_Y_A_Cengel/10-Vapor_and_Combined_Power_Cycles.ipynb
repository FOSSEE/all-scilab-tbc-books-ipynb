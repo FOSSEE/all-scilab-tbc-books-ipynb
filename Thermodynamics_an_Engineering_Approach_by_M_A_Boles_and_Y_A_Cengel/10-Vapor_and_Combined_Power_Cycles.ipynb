{
"cells": [
 {
		   "cell_type": "markdown",
	   "metadata": {},
	   "source": [
       "# Chapter 10: Vapor and Combined Power Cycles"
	   ]
	},
{
		   "cell_type": "markdown",
		   "metadata": {},
		   "source": [
			"## Example 10.1: The_Simple_Ideal_Rankine_Cycle.sce"
		   ]
		  },
  {
"cell_type": "code",
	   "execution_count": null,
	   "metadata": {
	    "collapsed": true
	   },
	   "outputs": [],
"source": [
"clc;clear;\n",
"//Example 10.1\n",
"\n",
"//given data\n",
"P1=75;\n",
"P2=3000;//in kPa\n",
"P3=P2;\n",
"T3=350;\n",
"P4=P1;\n",
"\n",
"//from steam tables\n",
"//at state 1\n",
"v1=0.001037;\n",
"h1=384.44;\n",
"//at state 3\n",
"h3=3116.1;\n",
"s3=6.7450;\n",
"//at state 4\n",
"s4=s3;\n",
"sf=1.2132;\n",
"sfg=6.2426;\n",
"hf=384.44;\n",
"hfg=2278;\n",
"\n",
"//calculations\n",
"win=v1*(P2-P1);\n",
"h2=h1+win;\n",
"x4=(s4-sf)/sfg;\n",
"h4=hf+x4*hfg;\n",
"qin=h3-h2;\n",
"qout=h4-h1;\n",
"nth=1-(qout/qin);\n",
"disp(nth*100,'thermal efficency % is')"
   ]
   }
,
{
		   "cell_type": "markdown",
		   "metadata": {},
		   "source": [
			"## Example 10.2: An_Actual_Steam_Power_Cycle.sce"
		   ]
		  },
  {
"cell_type": "code",
	   "execution_count": null,
	   "metadata": {
	    "collapsed": true
	   },
	   "outputs": [],
"source": [
"clc;clear;\n",
"//Example 10.2\n",
"\n",
"//given data\n",
"P1=9;\n",
"T1=38;\n",
"P2=16000;\n",
"P3=15.9;\n",
"T3=35;\n",
"P4=15.2;\n",
"T4=625;\n",
"P5=15;\n",
"T5=600;\n",
"nT=0.87;\n",
"nP=0.85;\n",
"m=15;\n",
"\n",
"//from steam tables\n",
"v1=0.001009;\n",
"h5=3583.1;\n",
"h6s=2115.3;\n",
"h4=3647.6;\n",
"h3=160.1;\n",
"\n",
"//calculations\n",
"Win=v1*(P2-P1)/nP;\n",
"Wout=nT*(h5-h6s);\n",
"qin=h4-h3;\n",
"Wnet=Wout-Win;\n",
"nth=Wnet/qin;\n",
"disp(nth,'thermal efficiency is');\n",
"Wnet=m*Wnet;\n",
"disp(Wnet/1000,'power output in MW')"
   ]
   }
,
{
		   "cell_type": "markdown",
		   "metadata": {},
		   "source": [
			"## Example 10.3: Effect_of_Boiler_Pressure_and_Temperature_on_Efficiency.sce"
		   ]
		  },
  {
"cell_type": "code",
	   "execution_count": null,
	   "metadata": {
	    "collapsed": true
	   },
	   "outputs": [],
"source": [
"clc;clear;\n",
"//Example 10.3\n",
"\n",
"//given data\n",
"P1=10;\n",
"P2=3000;\n",
"P3=3000;\n",
"T3=350;\n",
"P4=10;\n",
"\n",
"//from steam tables\n",
"//at state 1\n",
"h1=191.81;\n",
"v1=0.00101;\n",
"//at state 2\n",
"//s2=s1\n",
"//at state 3\n",
"h3=3116.1;\n",
"s3=6.7450;\n",
"//at state 4\n",
"s4=s3;\n",
"sf=0.6492;\n",
"sfg=7.4996;\n",
"hf=191.81;\n",
"hfg=2392.1;\n",
"\n",
"//calculations\n",
"//part - a\n",
"win=v1*(P2-P1);\n",
"h2=h1+win;\n",
"x4=(s4-sf)/sfg;\n",
"h4=hf+x4*hfg;\n",
"qin=h3-h2;\n",
"qout=h4-h1;\n",
"nth=1-(qout/qin);\n",
"disp(nth,'the thermal efficiency of this power plant');\n",
"//part - b\n",
"//States 1 and 2 remain the same in this case, and the enthalpies at state 3 (3 MPa and 600°C) and state 4 (10 kPa and s4=s3) are determined to be\n",
"h3=3682.8;\n",
"h4=2380.3;\n",
"x4=0.915;\n",
"qin=h3-h2;\n",
"qout=h4-h1;\n",
"nth=1-(qout/qin);\n",
"disp(nth,'the thermal efficiency if steam is superheated to 600° instead of 350°C');\n",
"//part - c\n",
"//State 1 remains the same in this case, but the other states change. The enthalpies at state 2 (15 MPa and s2  s1), state 3 (15 MPa and 600°C),and state 4 (10 kPa and s4  s3) are determined in a similar manner to be\n",
"h2=206.95;\n",
"h3=3583.1;\n",
"h4=2115.3;\n",
"x4=0.804;\n",
"qin=h3-h2;\n",
"qout=h4-h1;\n",
"nth=1-(qout/qin);\n",
"disp(nth,'the thermal efficiency if the boiler pressure is raised to 15 MPa while the turbine inlet temperature is maintained at 600°C');\n",
""
   ]
   }
,
{
		   "cell_type": "markdown",
		   "metadata": {},
		   "source": [
			"## Example 10.4: The_Ideal_Reheat_Rankine_Cycle.sce"
		   ]
		  },
  {
"cell_type": "code",
	   "execution_count": null,
	   "metadata": {
	    "collapsed": true
	   },
	   "outputs": [],
"source": [
"clc;clear;\n",
"//Example 10.4\n",
"\n",
"//given data\n",
"P1=10;\n",
"P2=15000;\n",
"P3=15000;\n",
"T3=600;\n",
"P4=4000;\n",
"T5=600;\n",
"P6=10;\n",
"x6=0.896;\n",
"\n",
"//from steam table\n",
"//at state 1\n",
"h1=191.81;\n",
"v1=0.00101;\n",
"//at state 3\n",
"h3=3593.1;\n",
"s3=6.6796;\n",
"//at state 4\n",
"h4=3155;\n",
"T4=375.5;\n",
"//at state 6\n",
"sf=0.6492;\n",
"sfg=7.4996;\n",
"hf=191.81;\n",
"hfg=2392.1;\n",
"\n",
"//calculations\n",
"s6=sf+x6*sfg;\n",
"h6=hf+x6*hfg;\n",
"//s5 = s6\n",
"//from tables\n",
"P5=4000;//in kPa\n",
"h5=3674.9;\n",
"disp(P5/1000,'the pressure at which the steam should be reheated in MPa');\n",
"//s2 = s1\n",
"win=v1*(P2-P1);\n",
"h2=h1+win;\n",
"qin=(h3-h2)+(h5-h4);\n",
"qout=h6-h1;\n",
"nth=1-(qout/qin);\n",
"disp(nth,'thermal efficiency is')"
   ]
   }
,
{
		   "cell_type": "markdown",
		   "metadata": {},
		   "source": [
			"## Example 10.5: The_Ideal_Regenerative_Rankine_Cycle.sce"
		   ]
		  },
  {
"cell_type": "code",
	   "execution_count": null,
	   "metadata": {
	    "collapsed": true
	   },
	   "outputs": [],
"source": [
"clc;clear;\n",
"//Example 10.5\n",
"\n",
"//given data\n",
"P1=10;\n",
"P2=1200;\n",
"P3=1200;\n",
"P4=15000;\n",
"P5=15000;\n",
"T5=600;\n",
"P6=1200;\n",
"P7=10;\n",
"\n",
"//from steam table\n",
"//at state 1\n",
"h1=191.81;\n",
"v1=0.00101;\n",
"//at state 3\n",
"h3=798.33;\n",
"v3=0.001138;\n",
"//at state 4\n",
"h4=3155;\n",
"T4=375.5;\n",
"//at state 5\n",
"h5=3583.1;\n",
"s5=6.6796;\n",
"//at state 6\n",
"h6=2860.2;\n",
"T6=218.4;\n",
"//at state 7\n",
"P7=10;\n",
"sf=0.6492;\n",
"sfg=7.4996;\n",
"hf=191.81;\n",
"hfg=2392.1;\n",
"\n",
"//calculations\n",
"//s2 = s1\n",
"win=v1*(P2-P1);\n",
"h2=h1+win;\n",
"//s4 = s3\n",
"win=v3*(P4-P3);\n",
"h4=h3+win;\n",
"s7=s5;\n",
"x7=(s7-sf)/sfg;\n",
"h7=hf+(x7*hfg);\n",
"//y is the fraction of steam extracted from the turbine\n",
"y=(h3-h2)/(h6-h2);\n",
"qin=h5-h4;\n",
"qout=(1-y)*(h7-h1);\n",
"nth=1-(qout/qin);\n",
"disp(y,'fraction of steam extracted');\n",
"disp(nth,'thermal efficiency is')"
   ]
   }
,
{
		   "cell_type": "markdown",
		   "metadata": {},
		   "source": [
			"## Example 10.6: The_Ideal_Reheat_Regenerative_Rankine_Cycle.sce"
		   ]
		  },
  {
"cell_type": "code",
	   "execution_count": null,
	   "metadata": {
	    "collapsed": true
	   },
	   "outputs": [],
"source": [
"clc;clear;\n",
"//Example 10.6\n",
"\n",
"//given data\n",
"P1=10;\n",
"P2=500;\n",
"P3=500;\n",
"P4=15000;\n",
"P5=P4;\n",
"P6=4000;\n",
"P7=P5;\n",
"P8=P7;\n",
"P9=P7;\n",
"P10=P6;\n",
"P11=P10;\n",
"P12=P3;\n",
"P13=10;\n",
"\n",
"//enthalpies at the various states and the pump work per unit mass of fluid flowing through them are\n",
"h1=191.81;\n",
"h2=192.30;\n",
"h3=640.09;\n",
"h4=643.92;\n",
"h5=1087.4;\n",
"h6=h5;\n",
"h7=1101.2;\n",
"h8=1089.8;\n",
"h9=3583.1;\n",
"h10=3155;\n",
"h11=3679.9;\n",
"h12=3014.8;\n",
"h13=2335.7;\n",
"wIin=0.49;\n",
"wIIin=3.83;\n",
"wIIIin=13.77;\n",
"\n",
"//calculations\n",
"y=(h5-h4)/((h10-h6)+(h5-h4));\n",
"z=(1-y)*(h3-h2)/(h12-h2);\n",
"h8=(1-y)*h5+(y*h7);\n",
"qin=(h9-h8)+(1-y)*(h11-h10);\n",
"qout=(1-y-z)*(h13-h1);\n",
"nth=1-(qout/qin);\n",
"disp(y,'fraction of steam extracted from closed feedwater');\n",
"disp(z,'fraction of steam extracted from open feedwater');\n",
"disp(nth,'thermal efficiency is')"
   ]
   }
,
{
		   "cell_type": "markdown",
		   "metadata": {},
		   "source": [
			"## Example 10.7: Second_Law_Analysis_of_an_Ideal_Rankine_Cycle.sce"
		   ]
		  },
  {
"cell_type": "code",
	   "execution_count": null,
	   "metadata": {
	    "collapsed": true
	   },
	   "outputs": [],
"source": [
"clc;clear;\n",
"//Example 10.7\n",
"\n",
"//given data\n",
"T0=290;\n",
"Tsource=1600;\n",
"Tsink=T0;\n",
"//from Ex 10.1\n",
"qin=2728.6;\n",
"qout=2018.6;\n",
"h4=2403;\n",
"\n",
"//from steam tables\n",
"s1=1.2132;\n",
"s3=6.7450;\n",
"\n",
"//calculations\n",
"s2=s1;s4=s3;//isentropic processes\n",
"xdest12=0;\n",
"xdest34=0;\n",
"xdest23=T0*(s3-s2-(qin/Tsource));\n",
"xdest41=T0*(s1-s4+(qout/Tsink));\n",
"disp(xdest12,'exergy destruction in 1-2 in kJ/kg');\n",
"disp(round(xdest23),'exergy destruction in 2-3 in kJ/kg');\n",
"disp(xdest34,'exergy destruction in 3-4 in kJ/kg');\n",
"disp(round(xdest41),'exergy destruction in 4-1 in kJ/kg');\n",
"xdestcy=xdest12+xdest23+xdest34+xdest41;\n",
"disp(round(xdestcy),'exergy destruction in cycle in kJ/kg');\n",
"//from steam tables\n",
"//at 290 K and 100 kPa\n",
"h0=71.355;\n",
"s0=0.2533;\n",
"X4=(h4-h0)-T0*(s4-s0);\n",
"disp(round(X4),'exergy of the leaving steam in kJ/kg')"
   ]
   }
,
{
		   "cell_type": "markdown",
		   "metadata": {},
		   "source": [
			"## Example 10.8: An_Ideal_Cogeneration_Plant.sce"
		   ]
		  },
  {
"cell_type": "code",
	   "execution_count": null,
	   "metadata": {
	    "collapsed": true
	   },
	   "outputs": [],
"source": [
"clc;clear;\n",
"//Example 10.8\n",
"\n",
"//given data\n",
"m1=15;\n",
"P1=7000;\n",
"P2=P1;\n",
"P3=P1;\n",
"P4=500;\n",
"P5=P4;\n",
"P6=5;\n",
"P7=500;\n",
"P8=5;\n",
"P9=7000;\n",
"P10=7000;\n",
"\n",
"//from steam tables\n",
"v7=0.001005;\n",
"v8=0.001093;\n",
"h1=3411.4;\n",
"h2=h1;\n",
"h3=h1;\n",
"h4=h1;\n",
"h5=2739.3;\n",
"h6=2073.0;\n",
"h7=640.09;\n",
"h8=137.75;\n",
"h11=144.78;\n",
"\n",
"//calculations\n",
"wIin=v8*(P9-P8);\n",
"wIIin=v7*(P10-P7);\n",
"h9=h8+wIin;\n",
"h10=h7+wIIin;\n",
"Qmax=m1*(h1-h7);\n",
"disp(Qmax,'the maximum rate in kW');\n",
"Wtout=m1*(h3-h6);//turbine\n",
"Wpin=m1*wIin;//pump\n",
"Wnet=Wtout-Wpin;\n",
"disp(round(Wnet/1000),'the power produced in MW');\n",
"Qp=0;\n",
"Qin=m1*(h1-h11);\n",
"Eu=(Wnet+Qp)/Qin;\n",
"disp(Eu,'the utilization factor');\n",
"m4=0.1*m1;\n",
"m5=0.7*m1;\n",
"m7=m4+m5;\n",
"Qout=m4*h4+m5*h5-m7*h7;\n",
"disp(Qout/1000,'the rate of process heat supply in MW')"
   ]
   }
,
{
		   "cell_type": "markdown",
		   "metadata": {},
		   "source": [
			"## Example 10.9: A_Combined_Gas_Steam_Power_Cycle.sce"
		   ]
		  },
  {
"cell_type": "code",
	   "execution_count": null,
	   "metadata": {
	    "collapsed": true
	   },
	   "outputs": [],
"source": [
"clc;clear;\n",
"//Example 10.9\n",
"\n",
"//given data\n",
"P1=5;\n",
"P2=7000;\n",
"P3=P2;\n",
"T3=500;\n",
"P4=P1;\n",
"\n",
"//gas cycle from Ex9-6\n",
"//d stands for '\n",
"h4d=880.36;\n",
"T4d=853;\n",
"qin=790.58;\n",
"wnetg=210.41;\n",
"nth=0.266\n",
"h5d=451.80;\n",
"//steam cycle\n",
"h2=144.78;\n",
"T2=33;\n",
"h3=3411.4;\n",
"T3=500;\n",
"wnets=1331.4;\n",
"nth=0.408;\n",
"\n",
"//calculations\n",
"//Ein = Eout\n",
"//y is the ratio of ms/mg\n",
"y=(h4d-h5d)/(h3-h2);\n",
"disp(y,'the ratio of the mass flow rates of the steam and the combustion gases');\n",
"wnet=wnetg+y*wnets\n",
"nth=wnet/qin;\n",
"disp(nth,'the thermal efficiency of the combined cycle')"
   ]
   }
],
"metadata": {
		  "kernelspec": {
		   "display_name": "Scilab",
		   "language": "scilab",
		   "name": "scilab"
		  },
		  "language_info": {
		   "file_extension": ".sce",
		   "help_links": [
			{
			 "text": "MetaKernel Magics",
			 "url": "https://github.com/calysto/metakernel/blob/master/metakernel/magics/README.md"
			}
		   ],
		   "mimetype": "text/x-octave",
		   "name": "scilab",
		   "version": "0.7.1"
		  }
		 },
		 "nbformat": 4,
		 "nbformat_minor": 0
}
