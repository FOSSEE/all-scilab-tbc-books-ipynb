{
"cells": [
 {
		   "cell_type": "markdown",
	   "metadata": {},
	   "source": [
       "# Chapter 14: Gas Vapor Mixtures and Air Conditioning"
	   ]
	},
{
		   "cell_type": "markdown",
		   "metadata": {},
		   "source": [
			"## Example 14.1: The_Amount_of_Water_Vapor_in_Room_Air.sce"
		   ]
		  },
  {
"cell_type": "code",
	   "execution_count": null,
	   "metadata": {
	    "collapsed": true
	   },
	   "outputs": [],
"source": [
"clc;clear;\n",
"//Example 14.1\n",
"\n",
"//given data\n",
"V=5*5*3;//volume of the room\n",
"RH=0.75;\n",
"P=100;\n",
"T=25;\n",
"\n",
"//constants used\n",
"Ra=0.287;//in kPa.m^3 / kg.k\n",
"Rv=0.4615;//in kPa.m^3 / kg.k\n",
"\n",
"//from Table A-2a and A-4\n",
"cp=1.005;\n",
"Psat=3.1698;\n",
"hg=2564.6;\n",
"\n",
"//calculation\n",
"Pv=RH*Psat;\n",
"Pa=P-Pv;\n",
"w=0.622*Pv/(P-Pv);\n",
"h=cp*T+w*hg;\n",
"ma=V*Pa/(Ra*(T+273));\n",
"mv=V*Pv/(Rv*(T+273));\n",
"disp(Pa,'the partial pressure of dry air in kPa');\n",
"disp(w,'the specific humidity in kg water/kg of dry air');\n",
"disp(h,'the enthalpy per unit mass of the dry air in kJ');\n",
"disp(ma,'mass of air in kg');\n",
"disp(mv,'mass of water vapour in kg');"
   ]
   }
,
{
		   "cell_type": "markdown",
		   "metadata": {},
		   "source": [
			"## Example 14.2: Fogging_of_the_Windows_in_a_House.sce"
		   ]
		  },
  {
"cell_type": "code",
	   "execution_count": null,
	   "metadata": {
	    "collapsed": true
	   },
	   "outputs": [],
"source": [
"clc;clear;\n",
"//Example 14.2\n",
"\n",
"//given data\n",
"T=20;\n",
"RH=0.75;\n",
"\n",
"//from Table A-4\n",
"Psat=2.3392;\n",
"Pv=RH*Psat;\n",
"//thus at this from Eq 14-13\n",
"Tdp=15.4;\n",
"disp(Tdp,'window temperature in C')"
   ]
   }
,
{
		   "cell_type": "markdown",
		   "metadata": {},
		   "source": [
			"## Example 14.3: The_Specific_and_Relative_Humidity_of_Air.sce"
		   ]
		  },
  {
"cell_type": "code",
	   "execution_count": null,
	   "metadata": {
	    "collapsed": true
	   },
	   "outputs": [],
"source": [
"clc;clear;\n",
"//Example 14.3\n",
"\n",
"//given data\n",
"T1=25;\n",
"T2=15;\n",
"P2=101.325;\n",
"\n",
"//from Table A-2a & A-4\n",
"//at T1\n",
"Psat1=3.1698;\n",
"hg1=2546.5;\n",
"//at T2\n",
"Psat2=1.7057;\n",
"hfg2=2465.4;\n",
"hf2=62.982;\n",
"cp=1.005;\n",
"\n",
"//calculations\n",
"w2=0.622*Psat2/(P2-Psat2);\n",
"w1=(cp*(T2-T1)+w2*hfg2)/(hg1-hf2);\n",
"disp(w1,'the specific humidity in kg water/kg of dry ai');\n",
"RH1=w1*P2/((0.622+w1)*Psat1);\n",
"disp(RH1,'the relative humidity');\n",
"h=cp*T1+w1*hg1;\n",
"disp(h,'the enthalpy of the air in kJ/kg of dry air')"
   ]
   }
,
{
		   "cell_type": "markdown",
		   "metadata": {},
		   "source": [
			"## Example 14.5: Heating_and_Humidification_of_Air.sce"
		   ]
		  },
  {
"cell_type": "code",
	   "execution_count": null,
	   "metadata": {
	    "collapsed": true
	   },
	   "outputs": [],
"source": [
"clc;clear;\n",
"//Example 14.5\n",
"//difference in first part is due to selective roundingoff to particular decimals in h1 and h2\n",
"\n",
"//given data\n",
"RH1=0.3;\n",
"P1=100;\n",
"V1=45;\n",
"T1=10;\n",
"T2=22;\n",
"RH3=0.6;\n",
"T3=25;\n",
"\n",
"//from Table A-2a & A-4\n",
"cp=1.005;\n",
"Ra=0.287;\n",
"Pg1=1.2281;\n",
"hg1=2519.2;\n",
"hg2=2541.0;\n",
"Pg3=3.1698;\n",
"\n",
"//calculations\n",
"Pv1=RH1*Pg1;\n",
"Pa1=P1-Pv1;\n",
"v1=Ra*(T1+273)/Pa1;\n",
"ma=V1/v1;\n",
"w1=0.622*Pv1/(P1-Pv1);\n",
"h1=cp*T1+w1*hg1;\n",
"w2=w1;\n",
"h2=cp*T2+w2*hg2;\n",
"Q=ma*(h2-h1);\n",
"// ma2*w2 + mw = ma3*w3\n",
"//which reduces to mw = ma * (w3 - w2)\n",
"w3=0.622*RH3*Pg3/(P1-(RH3*Pg3));\n",
"mw=ma*(w3-w2);\n",
"disp(Q,'the rate of heat supply in the heating section in kJ/min');\n",
"disp(mw,'the mass flow rate of the steam required in the humidifying section in kg/min')"
   ]
   }
,
{
		   "cell_type": "markdown",
		   "metadata": {},
		   "source": [
			"## Example 14.6: Cooling_and_Dehumidification_of_Air.sce"
		   ]
		  },
  {
"cell_type": "code",
	   "execution_count": null,
	   "metadata": {
	    "collapsed": true
	   },
	   "outputs": [],
"source": [
"clc;clear;\n",
"//Example 14.6\n",
"\n",
"//given data\n",
"V1=10;\n",
"T1=30;\n",
"RH1=0.8;\n",
"T2=14;\n",
"RH2=1;\n",
"\n",
"//from Table A-4\n",
"hw=58.8;\n",
"h1=85.4;\n",
"h2=39.3;\n",
"w1=0.0216;\n",
"w2=0.0100;\n",
"v1=0.889;\n",
"\n",
"//calculations\n",
"//mw= ma*(w1-w2)\n",
"//Qout=ma*(h1-h2) - mw*hw\n",
"ma=V1/v1;\n",
"mw= ma*(w1-w2);\n",
"Qout=ma*(h1-h2) - mw*hw;\n",
"disp(mw,'rates of moisture removal from the air in kg/min');\n",
"disp(Qout,'rate of moisture removal from the air in kJ/min');"
   ]
   }
,
{
		   "cell_type": "markdown",
		   "metadata": {},
		   "source": [
			"## Example 14.8: Mixing_of_Conditioned_Air_with_Outdoor_Air.sce"
		   ]
		  },
  {
"cell_type": "code",
	   "execution_count": null,
	   "metadata": {
	    "collapsed": true
	   },
	   "outputs": [],
"source": [
"clc;clear;\n",
"//Example 14.8\n",
"\n",
"//given values\n",
"V1=50;\n",
"T1=14;\n",
"V2=20;\n",
"T2=32;\n",
"RH2=60;\n",
"\n",
"//from psychrometric chart\n",
"h1=39.4;\n",
"w1=0.010;\n",
"v1=0.826;\n",
"h2=79;\n",
"w2=0.0182;\n",
"v2=0.889;\n",
"\n",
"//calculations\n",
"ma1=V1/v1;\n",
"ma2=V2/v2;\n",
"ma3=ma1+ma2;\n",
"//from Eq 14-24\n",
"w3=(w2*ma2+w1*ma1)/(ma1+ma2);\n",
"h3=(h2*ma2+h1*ma1)/(ma1+ma2);\n",
"disp(w3,'the specific humidity in kg of water/kg of dry air');\n",
"//from psychrometric chart\n",
"T3=19;\n",
"RH3=0.89;\n",
"v3=0.844;\n",
"V3=ma3*v3;\n",
"disp(RH3,'the relative humidity');\n",
"disp(T3,'the dry-bulb temperature in C');\n",
"disp(V3,'the volume flow rate of the mixture in m^3/min ')"
   ]
   }
,
{
		   "cell_type": "markdown",
		   "metadata": {},
		   "source": [
			"## Example 14.9: Cooling_of_a_Power_Plant_by_a_Cooling_Tower.sce"
		   ]
		  },
  {
"cell_type": "code",
	   "execution_count": null,
	   "metadata": {
	    "collapsed": true
	   },
	   "outputs": [],
"source": [
"clc;clear;\n",
"//Example 14.9\n",
"\n",
"//given data \n",
"m=100;\n",
"T1=20;\n",
"P1=1;\n",
"RH1=60;\n",
"T2=30;\n",
"RH2=1;\n",
"T3=35;\n",
"T4=22;\n",
"\n",
"//from Table A-4\n",
"h1=42.2;\n",
"w1=0.0087;\n",
"v1=0.842;\n",
"h2=100;\n",
"w2=0.0273;\n",
"h3=146.64;\n",
"h4=92.28;\n",
"\n",
"//calculations\n",
"//Dry air balane = ma1 = ma2 = ma\n",
"//Water balance = m3 - m4 = ma*(w2 - w1)\n",
"//Energy balance = ma1*h1 + m3*h3 = ma2*h2 + m4*h4\n",
"ma= m*(h3-h4)/(h2-h1-(w2-w1)*h4);\n",
"V1=ma*v1;\n",
"mmakeup=ma*(w2-w1);\n",
"disp(V1,'the volume flow rate of air into the cooling tower in m^3/s');\n",
"disp(mmakeup,'the mass flow rate of the required makeup water in kg/s')"
   ]
   }
],
"metadata": {
		  "kernelspec": {
		   "display_name": "Scilab",
		   "language": "scilab",
		   "name": "scilab"
		  },
		  "language_info": {
		   "file_extension": ".sce",
		   "help_links": [
			{
			 "text": "MetaKernel Magics",
			 "url": "https://github.com/calysto/metakernel/blob/master/metakernel/magics/README.md"
			}
		   ],
		   "mimetype": "text/x-octave",
		   "name": "scilab",
		   "version": "0.7.1"
		  }
		 },
		 "nbformat": 4,
		 "nbformat_minor": 0
}
