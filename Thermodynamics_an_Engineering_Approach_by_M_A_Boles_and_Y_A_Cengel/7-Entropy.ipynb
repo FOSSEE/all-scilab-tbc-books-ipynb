{
"cells": [
 {
		   "cell_type": "markdown",
	   "metadata": {},
	   "source": [
       "# Chapter 7: Entropy"
	   ]
	},
{
		   "cell_type": "markdown",
		   "metadata": {},
		   "source": [
			"## Example 7.10: Isentropic_Compression_of_Air_in_a_Car_Engine.sce"
		   ]
		  },
  {
"cell_type": "code",
	   "execution_count": null,
	   "metadata": {
	    "collapsed": true
	   },
	   "outputs": [],
"source": [
"clc;clear;\n",
"//Example 7.10\n",
"\n",
"//given data\n",
"P1=95;\n",
"T1=295;\n",
"r=8;//ratio of V1/V2\n",
"\n",
"//calculations\n",
"//for closed systems V2/V1 = v2/v1\n",
"//At T1\n",
"vr1=647.9;\n",
"vr2=vr1/r;\n",
"//at vr2\n",
"T2=662.7;\n",
"disp(T2,'the final temperature in K')"
   ]
   }
,
{
		   "cell_type": "markdown",
		   "metadata": {},
		   "source": [
			"## Example 7.11: Isentropic_Compression_of_an_Ideal_Gas.sce"
		   ]
		  },
  {
"cell_type": "code",
	   "execution_count": null,
	   "metadata": {
	    "collapsed": true
	   },
	   "outputs": [],
"source": [
"clc;clear;\n",
"//Example 7.11\n",
"\n",
"//given data\n",
"P1=14;\n",
"T1=50+460;\n",
"T2=320+460;\n",
"\n",
"//constants used\n",
"k=1.667;\n",
"\n",
"//calculations\n",
"P2=P1*(T2/T1)^(k/(k-1));\n",
"disp(P2,'exit pressure in psia')"
   ]
   }
,
{
		   "cell_type": "markdown",
		   "metadata": {},
		   "source": [
			"## Example 7.12: Compressing_a_Substance_in_the_Liquid_versus_Gas_Phases.sce"
		   ]
		  },
  {
"cell_type": "code",
	   "execution_count": null,
	   "metadata": {
	    "collapsed": true
	   },
	   "outputs": [],
"source": [
"clc;clear;\n",
"//Example 7.12\n",
"\n",
"//given data\n",
"P2=1000;\n",
"P1=100;\n",
"\n",
"//from Table A-5\n",
"//At P2\n",
"v1=0.001043;\n",
"\n",
"//calculations\n",
"Wrev=v1*(P2-P1);\n",
"disp(Wrev,'compressor work as saturated liquid at inlet in kJ/kg')\n",
"//from Table A-5\n",
"//at P1 as sat. vapour\n",
"h1=2675.0;\n",
"s1=7.3589;\n",
"s2=s1\n",
"//from Table A-6\n",
"//at P2 and s2\n",
"h2=3194.5;\n",
"Wrev=h2-h1;\n",
"disp(Wrev,'compressor work as saturated vapor at inlet in kJ/kg')"
   ]
   }
,
{
		   "cell_type": "markdown",
		   "metadata": {},
		   "source": [
			"## Example 7.13: Work_Input_for_Various_Compression_Processes.sce"
		   ]
		  },
  {
"cell_type": "code",
	   "execution_count": null,
	   "metadata": {
	    "collapsed": true
	   },
	   "outputs": [],
"source": [
"clc;clear;\n",
"//Example 7.13\n",
"\n",
"//given data\n",
"P1=100;\n",
"T1=300;\n",
"P2=900;\n",
"\n",
"//constants used\n",
"R=0.287;//in kJ/kg -K\n",
"\n",
"//calculations\n",
"//part - a\n",
"k=1.4;\n",
"Wcomp=k*R*T1/(k-1)*((P2/P1)^((k-1)/k)-1);\n",
"disp(Wcomp,'compression work in case of isentropic compression in kJ/kg');\n",
"//part - b\n",
"n=1.3;\n",
"Wcomp=n*R*T1/(n-1)*((P2/P1)^((n-1)/n)-1);\n",
"disp(Wcomp,'compression work in case of polytropic compression in kJ/kg');\n",
"//part - c\n",
"Wcomp=R*T1*log(P2/P1);\n",
"disp(Wcomp,'compression work in case of isothermal compression in kJ/kg');\n",
"//part - d\n",
"Ps=sqrt(P1*P2);\n",
"Wcomp=2*n*R*T1/(n-1)*((Ps/P1)^((n-1)/n)-1);\n",
"disp(Wcomp,'compression work in case of two-stage compression with intercooling in kJ/kg');"
   ]
   }
,
{
		   "cell_type": "markdown",
		   "metadata": {},
		   "source": [
			"## Example 7.14: Isentropic_Efficiency_of_a_Steam_Turbine.sce"
		   ]
		  },
  {
"cell_type": "code",
	   "execution_count": null,
	   "metadata": {
	    "collapsed": true
	   },
	   "outputs": [],
"source": [
"clc;clear;\n",
"//Example 7.14\n",
"\n",
"//given data\n",
"P1=3000;// in kPa\n",
"T1=400;\n",
"P2=50;\n",
"T2=100;\n",
"Wout=2000;//in kW\n",
"\n",
"//from Table A-6\n",
"//at P1\n",
"h1=3231.7;\n",
"s1=6.9235;\n",
"//at 2a\n",
"h2a=2682.4;\n",
"//from Table A-6\n",
"//at 2s\n",
"s2s=s1;\n",
"sf=1.0912;\n",
"sg=7.5937;\n",
"hf=340.54;\n",
"hfg=2304.7\n",
"x2s=(s2s-sf)/(sg-sf);\n",
"h2s=hf+x2s*hfg;\n",
"nT=(h1-h2a)/(h1-h2s);\n",
"disp(nT,'isentropic efficiency is')\n",
"//Ein = Eout\n",
"m=Wout/(h1-h2a);\n",
"disp(m,'mass flow rate in kg/s')"
   ]
   }
,
{
		   "cell_type": "markdown",
		   "metadata": {},
		   "source": [
			"## Example 7.15: Effect_of_Efficiency_on_Compressor_Power_Input.sce"
		   ]
		  },
  {
"cell_type": "code",
	   "execution_count": null,
	   "metadata": {
	    "collapsed": true
	   },
	   "outputs": [],
"source": [
"clc;clear;\n",
"//Example 7.15\n",
"\n",
"//given data\n",
"P1=100;\n",
"T1=285;\n",
"P2=800;\n",
"m=0.2;\n",
"nc=0.8;\n",
"\n",
"//from Table A-17\n",
"//at T1\n",
"h1=285.14;\n",
"Pr1=1.1584;\n",
"\n",
"//calcualtions\n",
"Pr2=Pr1*(P2/P1);\n",
"//at Pr2\n",
"h2s=517.05;\n",
"h2a=(h2s-h1)/nc+h1;\n",
"//at h2a\n",
"T2a=569.5;\n",
"disp(T2a,'exit temperature of air in K');\n",
"//Ein = Eout\n",
"Wa=m*(h2a-h1);\n",
"disp(round(Wa),'required power input in kW')"
   ]
   }
,
{
		   "cell_type": "markdown",
		   "metadata": {},
		   "source": [
			"## Example 7.16: Effect_of_Efficiency_on_Nozzle_Exit_Velocity.sce"
		   ]
		  },
  {
"cell_type": "code",
	   "execution_count": null,
	   "metadata": {
	    "collapsed": true
	   },
	   "outputs": [],
"source": [
"clc;clear;\n",
"//Example 7.16\n",
"\n",
"//given data\n",
"P1=200;\n",
"T1=950;\n",
"P2=80;\n",
"nN=0.92;\n",
"\n",
"//from Table A-2b\n",
"cp=1.099;\n",
"k=1.354;\n",
"\n",
"//calculations\n",
"T2s=T1*(P2/P1)^((k-1)/k);\n",
"//ein = eout\n",
"V2s=sqrt(2*cp*(T1-T2s)*1000);//factor of 1000 for conversion to m^2/s^2\n",
"disp(floor(V2s),'maximum possible exit velocity in m/s');\n",
"T2a=T1-nN*(T1-T2s);\n",
"disp(round(T2a),'exit temperature in K');\n",
"V2a=sqrt(nN*V2s^2);\n",
"disp(floor(V2a),'actual exit velocity in m/s')"
   ]
   }
,
{
		   "cell_type": "markdown",
		   "metadata": {},
		   "source": [
			"## Example 7.17: Entropy_Generation_in_a_Wall.sce"
		   ]
		  },
  {
"cell_type": "code",
	   "execution_count": null,
	   "metadata": {
	    "collapsed": true
	   },
	   "outputs": [],
"source": [
"clc;clear;\n",
"//Example 7.17\n",
"\n",
"//given data\n",
"Qin=1035;\n",
"Tin=20+273;//in K\n",
"Qout=Qin;\n",
"Tout=5+273;//in K\n",
"\n",
"//calculations\n",
"// Sin - Sout + Sgen = dSsystem/dt\n",
"Sgen=(Qout/Tout)-(Qin/Tin);\n",
"disp(Sgen,'entropy generation in the wall in W/K');\n",
"Ts1=300;Ts2=273;//Boundary temperatures\n",
"Sgen=(Qout/Ts2)-(Qin/Ts1);\n",
"disp(Sgen,'total entropy generation in W/K');"
   ]
   }
,
{
		   "cell_type": "markdown",
		   "metadata": {},
		   "source": [
			"## Example 7.18: Entropy_Generation_during_a_Throttling_Process.sce"
		   ]
		  },
  {
"cell_type": "code",
	   "execution_count": null,
	   "metadata": {
	    "collapsed": true
	   },
	   "outputs": [],
"source": [
"clc;clear;\n",
"//Example 7.18\n",
"\n",
"//given data\n",
"P1=7;\n",
"T1=450;\n",
"P2=3;\n",
"\n",
"//from steam tables\n",
"//at P1 and T1\n",
"h1=3288.3;\n",
"s1=6.6353;\n",
"//at P2\n",
"h2=h1;\n",
"s2=7.0046;\n",
"\n",
"//calculations\n",
"// Sin - Sout + Sgen = dSsystem/dt\n",
"Sgen=s2-s1;\n",
"disp(Sgen,'the entropy generated in kJ/kg-K')"
   ]
   }
,
{
		   "cell_type": "markdown",
		   "metadata": {},
		   "source": [
			"## Example 7.19: Entropy_Generated_when_a_Hot_Block_Is_Dropped_in_a_Lake.sce"
		   ]
		  },
  {
"cell_type": "code",
	   "execution_count": null,
	   "metadata": {
	    "collapsed": true
	   },
	   "outputs": [],
"source": [
"clc;clear;\n",
"//Example 7.19\n",
"\n",
"//given data\n",
"m=50;\n",
"T1=500;\n",
"T2=285;\n",
"\n",
"//from Table A-3\n",
"Cavg=0.45;\n",
"\n",
"//calculations\n",
"dSiron=m*Cavg*log(T2/T1);\n",
"disp(dSiron,'entropy change of the iron block in kJ/K');\n",
"// Ein - Eout = dEsystem\n",
"Qout=m*Cavg*(T1-T2);\n",
"dSlake=Qout/T2;\n",
"disp(dSlake,'entropy change of the lake in kJ/K');\n",
"// Sin - Sout + Sgen = dSsystem/dt\n",
"Sgen=(Qout/T2)+dSiron;\n",
"disp(Sgen,'entropy change in the process in kJ/K')"
   ]
   }
,
{
		   "cell_type": "markdown",
		   "metadata": {},
		   "source": [
			"## Example 7.1: Entropy_Change_during_an_Isothermal_Process.sce"
		   ]
		  },
  {
"cell_type": "code",
	   "execution_count": null,
	   "metadata": {
	    "collapsed": true
	   },
	   "outputs": [],
"source": [
"clc;clear;\n",
"//Example 7.1\n",
"\n",
"//given data\n",
"Q=750;\n",
"Tsys=300;\n",
"\n",
"//calculations\n",
"dSsys=Q/Tsys;\n",
"disp(dSsys,'Entropy change in the process in kJ/K')"
   ]
   }
,
{
		   "cell_type": "markdown",
		   "metadata": {},
		   "source": [
			"## Example 7.20: Entropy_Generation_in_a_Mixing_Chamber.sce"
		   ]
		  },
  {
"cell_type": "code",
	   "execution_count": null,
	   "metadata": {
	    "collapsed": true
	   },
	   "outputs": [],
"source": [
"clc;clear;\n",
"//Example 7.20\n",
"\n",
"//given data\n",
"P=20;\n",
"T1=50+460;//in R\n",
"T2=240;\n",
"T3=130;\n",
"m1=300;\n",
"Qout=180;\n",
"\n",
"//from steam tables\n",
"//at P and T1\n",
"h1=18.07;\n",
"s1=0.03609;\n",
"//at P and T2\n",
"h2=1162.3;\n",
"s2=1.7406;\n",
"//at P and T3\n",
"h3=97.99;\n",
"s3=0.18174;\n",
"\n",
"//calculations\n",
"// Qout = m1*h1 + m2*h2 - (m1+m2)*h3\n",
"m2= (Qout-m1*h1+m1*h3)/(h2-h3);\n",
"m3=m1+m2;\n",
"// Sin - sout + Sgen = dSsystem/dt\n",
"Sgen=m3*s3-m1*s1-m2*s2+Qout/T1;\n",
"disp(Sgen,'the rate of entropy generation in Btu/min R')"
   ]
   }
,
{
		   "cell_type": "markdown",
		   "metadata": {},
		   "source": [
			"## Example 7.21: Entropy_Generation_Associated_with_Heat_Transfer.sce"
		   ]
		  },
  {
"cell_type": "code",
	   "execution_count": null,
	   "metadata": {
	    "collapsed": true
	   },
	   "outputs": [],
"source": [
"clc;clear;\n",
"//Example 7.21\n",
"\n",
"//given data\n",
"T=100+273;//in K\n",
"Q=-600;\n",
"Tb=25+273;//in K\n",
"\n",
"//calculation\n",
"dSsys=Q/T;\n",
"disp(dSsys,'entropy change of water in kJ/K');\n",
"// Sin - sout + Sgen = dSsystem\n",
"Sgen= -Q/Tb + dSsys;\n",
"disp(Sgen,'total entropy generation in kJ/K')"
   ]
   }
,
{
		   "cell_type": "markdown",
		   "metadata": {},
		   "source": [
			"## Example 7.22: Energy_and_Cost_Savings_by_Fixing_Air_Leaks.sce"
		   ]
		  },
  {
"cell_type": "code",
	   "execution_count": null,
	   "metadata": {
	    "collapsed": true
	   },
	   "outputs": [],
"source": [
"clc;clear;\n",
"//Example 7.22\n",
"//difference in answers is arised due the fact the Energy savings have been rounded to the multiple of 100\n",
"\n",
"//given data\n",
"T1=20+273;\n",
"T2=24+273;\n",
"P1=101;\n",
"P2=801;\n",
"D=3/1000;//in m\n",
"Cdischarge=0.65;\n",
"ncomp=0.8;\n",
"nmotor=0.92;\n",
"UC=0.078;//unit cost\n",
"\n",
"//constants used\n",
"R=0.287;//in kJ/kg K\n",
"k=1.4;\n",
"n=1.4;\n",
"\n",
"//calculations\n",
"Win=n*R*T1/(ncomp*(n-1))*((P2/P1)^((n-1)/n)-1);\n",
"A=%pi*D^2/4;\n",
"mair=Cdischarge*(2/(k+1))^(1/(k-1))*P2*A/(R*T2)*sqrt(k*R*1000*2/(k+1)*T2);//factor of 1000 to m^2/s^2\n",
"PW=mair*Win;//Power wasted\n",
"ES=PW*4200/nmotor;//4200 is operating hours ES stands for Energy savings\n",
"disp(ES,'Energy savings in kWh/yr');\n",
"CS=ES*UC;\n",
"disp(ceil(CS),'cost savings in Dollar/yr')"
   ]
   }
,
{
		   "cell_type": "markdown",
		   "metadata": {},
		   "source": [
			"## Example 7.23: Reducing_the_Pressure_Setting_to_Reduce_Cost.sce"
		   ]
		  },
  {
"cell_type": "code",
	   "execution_count": null,
	   "metadata": {
	    "collapsed": true
	   },
	   "outputs": [],
"source": [
"clc;clear;\n",
"//Example 7.23\n",
"\n",
"//given data\n",
"P1=85.6;\n",
"P2=985.6;\n",
"P2r=885.6;\n",
"CC=12000;//current cost\n",
"\n",
"//constants used\n",
"n=1.4;\n",
"\n",
"//calulation\n",
"freduction=1-(((P2r/P1)^((n-1)/n)-1)/((P2/P1)^((n-1)/n)-1));\n",
"CS=CC*freduction;\n",
"disp(round(CS),'cost savings in Dollar/yr')"
   ]
   }
,
{
		   "cell_type": "markdown",
		   "metadata": {},
		   "source": [
			"## Example 7.2: Entropy_Generation_during_Heat_Transfer_Processes.sce"
		   ]
		  },
  {
"cell_type": "code",
	   "execution_count": null,
	   "metadata": {
	    "collapsed": true
	   },
	   "outputs": [],
"source": [
"clc;clear;\n",
"//Example 7.2\n",
"\n",
"//given data\n",
"Qsink=2000;\n",
"Qsource=-Qsink;\n",
"Tsource=800;\n",
"\n",
"//calculations\n",
"//part - a\n",
"Tsink=500;\n",
"dSsource=Qsource/Tsource;\n",
"dSsink=Qsink/Tsink;\n",
"Sgena=dSsource+dSsink;\n",
"disp(Sgena,'entropy generated in part a in kJ/K is ');\n",
"//part - b\n",
"Tsink=750;\n",
"dSsource=Qsource/Tsource;\n",
"dSsink=Qsink/Tsink;\n",
"Sgenb=dSsource+dSsink;\n",
"disp(Sgenb,'entropy generated in part b in kJ/K is ');\n",
"if(Sgena>Sgenb)\n",
"    disp('part a is more irreversible');\n",
"elseif(Sgena == Sgenb)\n",
"    disp('heat transfer is equally irreversible');\n",
"else\n",
"    disp('part b is more irreversible');\n",
"end,"
   ]
   }
,
{
		   "cell_type": "markdown",
		   "metadata": {},
		   "source": [
			"## Example 7.3: Entropy_Change_of_a_Substance_in_a_Tank.sce"
		   ]
		  },
  {
"cell_type": "code",
	   "execution_count": null,
	   "metadata": {
	    "collapsed": true
	   },
	   "outputs": [],
"source": [
"clc;clear;\n",
"//Example 7.3\n",
"\n",
"//given data\n",
"m=5;\n",
"P1=140;\n",
"T1=20;\n",
"P2=100;\n",
"\n",
"//from refrigerant-134a data\n",
"//at P1 and T1\n",
"s1=1.0624;\n",
"v1=0.16544;\n",
"//at P2\n",
"v2=v1;\n",
"vf=0.0007529;\n",
"vg=0.19254;\n",
"sf=0.07188;\n",
"sfg=0.87995;\n",
"\n",
"//calculations\n",
"// vf < v2 <vg\n",
"x2=(v2-vf)/(vg-vf);\n",
"s2=sf+x2*sfg;\n",
"dS=m*(s2-s1);\n",
"disp(dS,'entropy change in the process in kJ/k')"
   ]
   }
,
{
		   "cell_type": "markdown",
		   "metadata": {},
		   "source": [
			"## Example 7.4: Entropy_Change_of_a_Substance_in_a_Tank.sce"
		   ]
		  },
  {
"cell_type": "code",
	   "execution_count": null,
	   "metadata": {
	    "collapsed": true
	   },
	   "outputs": [],
"source": [
"clc;clear;\n",
"//Example 7.4\n",
"\n",
"//given data\n",
"m=3;\n",
"P1=20;\n",
"T1=70+460;//in R\n",
"Qin=3450;\n",
"\n",
"//from Table A-6E\n",
"//at P1 and T1\n",
"s1=0.07459;\n",
"h1=38.08;\n",
"\n",
"//calculations\n",
"//Ein - Eout = dEsystem\n",
"//Qin = m*(h2 - h1)\n",
"h2=Qin/m+h1;\n",
"//from Table A-6E\n",
"//At P2 and h2\n",
"s2=1.7761;\n",
"dS=m*(s2-s1);\n",
"disp(dS,'entropy change in Btu/R');"
   ]
   }
,
{
		   "cell_type": "markdown",
		   "metadata": {},
		   "source": [
			"## Example 7.5: Isentropic_Expansion_of_Steam_in_a_Turbine.sce"
		   ]
		  },
  {
"cell_type": "code",
	   "execution_count": null,
	   "metadata": {
	    "collapsed": true
	   },
	   "outputs": [],
"source": [
"clc;clear;\n",
"//Example 7.5\n",
"\n",
"//given data\n",
"P1=5;\n",
"T1=450;\n",
"P2=1.4;\n",
"\n",
"//calculations\n",
"//Ein - Eout = dEsystem/dt\n",
"//Ein = Eout\n",
"//Wout = m*(h1-h2)\n",
"//At P1 and T1\n",
"h1=3317.2;\n",
"s1=6.8210;\n",
"s2=s1;\n",
"//At P2 and s2\n",
"h2=2967.4;\n",
"Wout=h1-h2;\n",
"disp(Wout,'work output per unit mass in kJ/kg')"
   ]
   }
,
{
		   "cell_type": "markdown",
		   "metadata": {},
		   "source": [
			"## Example 7.7: Effect_of_Density_of_a_Liquid_on_Entropy.sce"
		   ]
		  },
  {
"cell_type": "code",
	   "execution_count": null,
	   "metadata": {
	    "collapsed": true
	   },
	   "outputs": [],
"source": [
"clc;clear;\n",
"//Example 7.7\n",
"\n",
"//given data\n",
"P1=1;\n",
"T1=110;\n",
"P2=5;\n",
"T2=120;\n",
"\n",
"//from Table \n",
"//At P1 and T1\n",
"s1=4.875;\n",
"cp1=3.471;\n",
"//at P2 and T2\n",
"s2=5.145;\n",
"cp2=3.486;\n",
"\n",
"//calculations\n",
"//part - a\n",
"dSa=s2-s1;\n",
"disp(dSa,'change in entropy in kJ/kg K using tabulated properties');\n",
"//part - b\n",
"cavg=(cp1+cp2)/2;\n",
"dSb=cavg*log(T2/T1);\n",
"disp(dSb,'change in entropy in kJ/kg K approximating liquid methane as an incompressible substance');\n",
"E=(dSb-dSa)/dSa*100;\n",
"disp(E,'Error % is')"
   ]
   }
,
{
		   "cell_type": "markdown",
		   "metadata": {},
		   "source": [
			"## Example 7.8: Economics_of_Replacing_a_Valve_by_a_Turbine.sce"
		   ]
		  },
  {
"cell_type": "code",
	   "execution_count": null,
	   "metadata": {
	    "collapsed": true
	   },
	   "outputs": [],
"source": [
"clc;clear;\n",
"//Example 7.8\n",
"\n",
"//given data\n",
"P1=5;\n",
"V1=0.280;\n",
"T1=115;\n",
"P2=1;\n",
"dt=8760;//time in h/yr\n",
"UC=0.075;//unit cost in dollar\n",
"\n",
"//from Table\n",
"//at P1 and T1\n",
"h1=232.3;\n",
"s1=4.9945;\n",
"p1=422.15;\n",
"s2=s1;\n",
"//at P2 and s2\n",
"h2=222.8;\n",
"\n",
"//calculations\n",
"m=p1*V1;\n",
"//Ein - Eout = dEsystem/dt\n",
"//Ein = Eout\n",
"//Wout = m*(h1-h2)\n",
"Wout = m*(h1-h2);\n",
"disp(round(Wout),'maximum amount of power that can be produced in kW')\n",
"APP=Wout*dt;//annual power production\n",
"APS=APP*UC;//annual power savings\n",
"disp(APS,'Annual power savings in $/year') "
   ]
   }
,
{
		   "cell_type": "markdown",
		   "metadata": {},
		   "source": [
			"## Example 7.9: Entropy_Change_of_an_Ideal_Gas.sce"
		   ]
		  },
  {
"cell_type": "code",
	   "execution_count": null,
	   "metadata": {
	    "collapsed": true
	   },
	   "outputs": [],
"source": [
"clc;clear;\n",
"//Example 7.9\n",
"\n",
"//given data\n",
"P1=100;\n",
"T1=290;\n",
"P2=600;\n",
"T2=330;\n",
"\n",
"//from Table A-17\n",
"s02=1.79783;\n",
"s01=1.66802;\n",
"//Table A-2b\n",
"cpavg=1.006;\n",
"\n",
"//constants used\n",
"R=0.287;//in kJ/kg -K\n",
"\n",
"//calculations\n",
"//part-a\n",
"s21=s02-s01-R*log(P2/P1);//stands for s2 - s1\n",
"disp(s21,'entropy change using property values from air table in kJ/kg-K');\n",
"s21=cpavg*log(T2/T1)-R*log(P2/P1);//stands for s2 - s1\n",
"disp(s21,'entropy change using average specific heat in kJ/kg-K')"
   ]
   }
],
"metadata": {
		  "kernelspec": {
		   "display_name": "Scilab",
		   "language": "scilab",
		   "name": "scilab"
		  },
		  "language_info": {
		   "file_extension": ".sce",
		   "help_links": [
			{
			 "text": "MetaKernel Magics",
			 "url": "https://github.com/calysto/metakernel/blob/master/metakernel/magics/README.md"
			}
		   ],
		   "mimetype": "text/x-octave",
		   "name": "scilab",
		   "version": "0.7.1"
		  }
		 },
		 "nbformat": 4,
		 "nbformat_minor": 0
}
