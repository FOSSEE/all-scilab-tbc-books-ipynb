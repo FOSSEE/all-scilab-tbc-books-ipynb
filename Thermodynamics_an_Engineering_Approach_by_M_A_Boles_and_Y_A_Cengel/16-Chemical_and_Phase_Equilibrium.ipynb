{
"cells": [
 {
		   "cell_type": "markdown",
	   "metadata": {},
	   "source": [
       "# Chapter 16: Chemical and Phase Equilibrium"
	   ]
	},
{
		   "cell_type": "markdown",
		   "metadata": {},
		   "source": [
			"## Example 16.10: Diffusion_of_Hydrogen_Gas_into_a_Nickel_Plate.sce"
		   ]
		  },
  {
"cell_type": "code",
	   "execution_count": null,
	   "metadata": {
	    "collapsed": true
	   },
	   "outputs": [],
"source": [
"clc;clear;\n",
"//Example 16.10\n",
"\n",
"//given data\n",
"T=358;\n",
"P=300/100;//in bar\n",
"\n",
"//constants used\n",
"M=2;\n",
"s=0.00901;//solubility in kmol/m^3 bar\n",
"p=0.027;\n",
"\n",
"//calculations\n",
"pH2=s*P;\n",
"disp(pH2,'molar density of H2 in kmol/m^3');\n",
"pH2=p*M;\n",
"disp(pH2,'mass density of H2 in kg/m^3')"
   ]
   }
,
{
		   "cell_type": "markdown",
		   "metadata": {},
		   "source": [
			"## Example 16.11: Composition_of_Different_Phases_of_a_Mixture.sce"
		   ]
		  },
  {
"cell_type": "code",
	   "execution_count": null,
	   "metadata": {
	    "collapsed": true
	   },
	   "outputs": [],
"source": [
"clc;clear;\n",
"//Example 16.11\n",
"\n",
"//given data\n",
"yw=0.30;//w for water\n",
"ya=0.70;//a for ammonia\n",
"T=40;\n",
"\n",
"//saturation pressure\n",
"pw=7.3851;\n",
"pa=1554.33;\n",
"//calulations\n",
"Pw=yw*pw;\n",
"Pa=ya*pa;\n",
"Pt=Pw+Pa;\n",
"yw=Pw/Pt;\n",
"ya=Pa/Pt;\n",
"disp(yw,'mole fraction of water vapour');\n",
"disp(ya,'mole fraction of ammonia')"
   ]
   }
,
{
		   "cell_type": "markdown",
		   "metadata": {},
		   "source": [
			"## Example 16.1: Equilibrium_Constant_of_a_Dissociation_Process.sce"
		   ]
		  },
  {
"cell_type": "code",
	   "execution_count": null,
	   "metadata": {
	    "collapsed": true
	   },
	   "outputs": [],
"source": [
"clc;clear;\n",
"//Example 16.1\n",
"//round off error\n",
"\n",
"//given data\n",
"T=298.15;\n",
"\n",
"//from Table A-26\n",
"g=455510;\n",
"\n",
"//constants used\n",
"R=8.314;//in kJ/kmol K\n",
"\n",
"//calculations\n",
"// N2 = 2N\n",
"dG=2*g;\n",
"lnKp=-dG/(R*T);\n",
"disp(lnKp,'in comparison to Table A-28 ln Kp value of -367.5 our result is');\n",
"Kp=exp(lnKp);\n",
"disp(Kp,'the equilibrium constant is')"
   ]
   }
,
{
		   "cell_type": "markdown",
		   "metadata": {},
		   "source": [
			"## Example 16.2: Dissociation_Temperature_of_Hydrogen.sce"
		   ]
		  },
  {
"cell_type": "code",
	   "execution_count": null,
	   "metadata": {
	    "collapsed": true
	   },
	   "outputs": [],
"source": [
"clc;clear;\n",
"//Example 16.2\n",
"\n",
"//given data\n",
"vH2=1;\n",
"vH=2;\n",
"P=10;\n",
"\n",
"//calculations\n",
"// H2 = 0.9H2 + 0.2H\n",
"NH=0.2;\n",
"NH2=0.9;\n",
"Nt=NH+NH2;\n",
"//from Eq. 16-15\n",
"Kp=((NH^vH)/(NH2^vH2))*(P/Nt)^(vH-vH2);\n",
"//at this value of Kp from Table A-28\n",
"T=3535;\n",
"disp(T,'temperature in K is')"
   ]
   }
,
{
		   "cell_type": "markdown",
		   "metadata": {},
		   "source": [
			"## Example 16.6: The_Enthalpy_of_Reaction_of_a_Combustion_Process.sce"
		   ]
		  },
  {
"cell_type": "code",
	   "execution_count": null,
	   "metadata": {
	    "collapsed": true
	   },
	   "outputs": [],
"source": [
"clc;clear;\n",
"//Example 16.6\n",
"\n",
"//reaction\n",
"// H2 + 0.5O2 = H2O\n",
"//enthalpy data\n",
"//of H2\n",
"hfH=-241820;\n",
"h2000H=82593;\n",
"h298H=9904;\n",
"//of O2\n",
"hfO=0;\n",
"h2000O=61400;\n",
"h298O=8468;\n",
"//of H2O\n",
"hfw=0;\n",
"h2000w=67881;\n",
"h298w=8682;\n",
"//Kp data from A-28\n",
"Kp2=869.6;\n",
"Kp1=18509;\n",
"T1=1800;\n",
"T2=2200;\n",
"\n",
"//constants used\n",
"Ru=8.314;//in kJ/kmol K\n",
"\n",
"//calculations\n",
"//part - a\n",
"hR=1*(hfH+h2000H-h298H)-1*(hfO+h2000O-h298O)-0.5*(hfw+h2000w-h298w);\n",
"disp(floor(hR),'enthalpy of the reaction in kJ/kmol using enthalpy data');\n",
"//part - b\n",
"hR=Ru*(T1*T2)/(T2-T1)*log(Kp2/Kp1);\n",
"disp(round(hR),'enthalpy of the reaction in kJ/kmol using Kp data');"
   ]
   }
,
{
		   "cell_type": "markdown",
		   "metadata": {},
		   "source": [
			"## Example 16.7: Phase_Equilibrium_for_a_Saturated_Mixture.sce"
		   ]
		  },
  {
"cell_type": "code",
	   "execution_count": null,
	   "metadata": {
	    "collapsed": true
	   },
	   "outputs": [],
"source": [
"clc;clear;\n",
"//Example 16.7\n",
"\n",
"//given data\n",
"T=120+273.15;//in K\n",
"\n",
"//from Table A-4\n",
"hf=503.81;\n",
"hg=2706;\n",
"sf=1.5279;\n",
"sg=7.1292;\n",
"\n",
"//calculations\n",
"disp('liquid phase');\n",
"gf=hf-T*sf;\n",
"disp(gf,'gf value in kJ/kg');\n",
"disp('vapour phase');\n",
"gg=hg-T*sg;\n",
"disp(gg,'gg value in kJ/kg');"
   ]
   }
,
{
		   "cell_type": "markdown",
		   "metadata": {},
		   "source": [
			"## Example 16.8: Mole_Fraction_of_Water_Vapor_Just_over_a_Lake.sce"
		   ]
		  },
  {
"cell_type": "code",
	   "execution_count": null,
	   "metadata": {
	    "collapsed": true
	   },
	   "outputs": [],
"source": [
"clc;clear;\n",
"//Example 16.8\n",
"\n",
"//given data\n",
"T=15;\n",
"P=92;\n",
"\n",
"//from Table A-4\n",
"Pv=1.7057;\n",
"\n",
"//calculations\n",
"yv=Pv/P;\n",
"disp(yv,'mole fraction of water vapor at the surface');\n",
"yw=1-yv;\n",
"yw=round(yw)\n",
"disp(yw,'mole fraction of water in the lake')"
   ]
   }
,
{
		   "cell_type": "markdown",
		   "metadata": {},
		   "source": [
			"## Example 16.9: The_Amount_of_Dissolved_Air_in_Water.sce"
		   ]
		  },
  {
"cell_type": "code",
	   "execution_count": null,
	   "metadata": {
	    "collapsed": true
	   },
	   "outputs": [],
"source": [
"clc;clear;\n",
"//Example 16.9\n",
"\n",
"//given data\n",
"T=17;\n",
"P=92;\n",
"\n",
"//from Table A-4\n",
"Pv=1.96;\n",
"\n",
"//constants from Table 16-2\n",
"H=62000;\n",
"\n",
"//calculations\n",
"Pda=P-Pv;//dry air\n",
"yda=Pda/H/100;//in bar\n",
"disp(yda,'mole fraction of air')"
   ]
   }
],
"metadata": {
		  "kernelspec": {
		   "display_name": "Scilab",
		   "language": "scilab",
		   "name": "scilab"
		  },
		  "language_info": {
		   "file_extension": ".sce",
		   "help_links": [
			{
			 "text": "MetaKernel Magics",
			 "url": "https://github.com/calysto/metakernel/blob/master/metakernel/magics/README.md"
			}
		   ],
		   "mimetype": "text/x-octave",
		   "name": "scilab",
		   "version": "0.7.1"
		  }
		 },
		 "nbformat": 4,
		 "nbformat_minor": 0
}
