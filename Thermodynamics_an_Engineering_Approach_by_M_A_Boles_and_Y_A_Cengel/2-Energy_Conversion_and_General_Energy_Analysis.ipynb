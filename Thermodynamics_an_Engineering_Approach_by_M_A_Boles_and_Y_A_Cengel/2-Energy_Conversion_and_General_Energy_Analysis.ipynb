{
"cells": [
 {
		   "cell_type": "markdown",
	   "metadata": {},
	   "source": [
       "# Chapter 2: Energy Conversion and General Energy Analysis"
	   ]
	},
{
		   "cell_type": "markdown",
		   "metadata": {},
		   "source": [
			"## Example 2.10: Cooling_of_a_Hot_Fluid_in_a_Tank.sce"
		   ]
		  },
  {
"cell_type": "code",
	   "execution_count": null,
	   "metadata": {
	    "collapsed": true
	   },
	   "outputs": [],
"source": [
"clc;clear;\n",
"//Example 2.10\n",
"\n",
"//given values\n",
"Win=100;\n",
"Qout=500;\n",
"U1=800;\n",
"\n",
"//calculationu\n",
"// Win - Qout = U2- U1 i.e change in internal energy \n",
"U2=U1-Qout+Win\n",
"disp(U2,'final internal of the system in kJ-')"
   ]
   }
,
{
		   "cell_type": "markdown",
		   "metadata": {},
		   "source": [
			"## Example 2.11: Acceleration_of_Air_by_a_Fan.sce"
		   ]
		  },
  {
"cell_type": "code",
	   "execution_count": null,
	   "metadata": {
	    "collapsed": true
	   },
	   "outputs": [],
"source": [
"clc;clear;\n",
"//Example 2.11\n",
"\n",
"//given values\n",
"Win=20;\n",
"mair=0.25;\n",
"\n",
"//calculation\n",
"v=sqrt(Win/2/mair)//Win = 1/2*m*v^2\n",
"if(v >= 8)\n",
"    disp('True');\n",
"else\n",
"    disp('False')"
   ]
   }
,
{
		   "cell_type": "markdown",
		   "metadata": {},
		   "source": [
			"## Example 2.12: Heating_Effect_of_a_Fan.sce"
		   ]
		  },
  {
"cell_type": "code",
	   "execution_count": null,
	   "metadata": {
	    "collapsed": true
	   },
	   "outputs": [],
"source": [
"clc;clear;\n",
"//Example 2.12\n",
"\n",
"//given values\n",
"Win=200;\n",
"U=6;\n",
"A=30;\n",
"To=25;\n",
"\n",
"//calculation\n",
"Ti= (Win/U/A)+To;// Win = Qout = U*A*(Ti - To)\n",
"disp(Ti,'the indoor air temperature in Celcius')"
   ]
   }
,
{
		   "cell_type": "markdown",
		   "metadata": {},
		   "source": [
			"## Example 2.13: Annual_Lighting_Cost_of_a_Classroom.sce"
		   ]
		  },
  {
"cell_type": "code",
	   "execution_count": null,
	   "metadata": {
	    "collapsed": true
	   },
	   "outputs": [],
"source": [
"clc;clear;\n",
"//Example 2.13\n",
"\n",
"//given values\n",
"Plamp=80;\n",
"N=30;//no of lamps\n",
"t=12;\n",
"y=250;//days in a year\n",
"UC=0.07;//unit cost in USD\n",
"\n",
"//calculation\n",
"LP=Plamp * N/1000;//Lighting power in kW\n",
"OpHrs=t*y;//Operating hours\n",
"LE=LP * OpHrs;//Lighting energy in kW\n",
"LC=LE*UC;//Lighting cost\n",
"disp(LC ,'the annual energy cost in USD is ')"
   ]
   }
,
{
		   "cell_type": "markdown",
		   "metadata": {},
		   "source": [
			"## Example 2.15: Cost_of_Cooking_with_Electric_and_Gas_Ranges.sce"
		   ]
		  },
  {
"cell_type": "code",
	   "execution_count": null,
	   "metadata": {
	    "collapsed": true
	   },
	   "outputs": [],
"source": [
"clc;clear;\n",
"//Example 2.15\n",
"\n",
"//given values\n",
"Ein=2;\n",
"n1=0.73;\n",
"n2=0.38;//efficency n1 and n2\n",
"CinH=0.09;\n",
"CinB=0.55;//unit cost of electricity and natural gas\n",
"\n",
"//calculation\n",
"QutH= Ein * n1;\n",
"disp(QutH,'rate of energy consumption by the heater in kW');\n",
"CutH= CinH / n1;\n",
"disp(CutH,'the unit cost of utilized energy for heater in USD');\n",
"QutB= QutH / n2 ;\n",
"disp(QutB,'rate of energy consumption by the burner in kW');\n",
"CutB= CinB / n2 / 29.3; // 1 therm = 29.3 kWh\n",
"disp(CutB,'the unit cost of utilized energy for burner in USD')"
   ]
   }
,
{
		   "cell_type": "markdown",
		   "metadata": {},
		   "source": [
			"## Example 2.16: Performance_of_a_Hydraulic_Turbine_Generator.sce"
		   ]
		  },
  {
"cell_type": "code",
	   "execution_count": null,
	   "metadata": {
	    "collapsed": true
	   },
	   "outputs": [],
"source": [
"clc;clear;\n",
"//Example 2.16\n",
"//answers vary due to round off error\n",
"\n",
"//constants used\n",
"g=9.81;//acceleration due to gravity in m/s^2;\n",
"\n",
"//given values\n",
"h=50;\n",
"m=5000;\n",
"Wout=1862;\n",
"ngen=0.95;//efficiency of turbine\n",
"\n",
"//calculation\n",
"X=g*h/1000;// X stands for the differnce b/w change in mechanical energy per unit mass\n",
"R=m*X;//rate at which mech. energy is supplied to turbine in kW\n",
"nov=Wout/R;//overall efficiency i.e turbine and generator\n",
"disp(nov,'overall efficiency is');\n",
"ntu=nov/ngen;//efficiency of turbine\n",
"disp(ntu,'efficiency of turbine is');\n",
"Wsh=ntu*R;//shaft output work\n",
"disp(Wsh,'shaft power output in kW')"
   ]
   }
,
{
		   "cell_type": "markdown",
		   "metadata": {},
		   "source": [
			"## Example 2.17: Cost_Savings_Associated_with_High_Efficiency_Motors.sce"
		   ]
		  },
  {
"cell_type": "code",
	   "execution_count": null,
	   "metadata": {
	    "collapsed": true
	   },
	   "outputs": [],
"source": [
"clc;clear;\n",
"//Example 2.17\n",
"\n",
"//given values\n",
"Pstd=4520;\n",
"Phem=5160;//prices of std and high eff motor in USD\n",
"R=60*0.7457;//rated power in kW from hp\n",
"OpHrs=3500;//Operating hours\n",
"Lf=1;//Load Factor\n",
"nsh=0.89;\n",
"nhem=0.932;//efficiency of shaft and high eff. motor\n",
"CU=0.08;//per unit cost in USD\n",
"\n",
"//calculation\n",
"PS=R*Lf*(1/nsh-1/nhem);//Power savings = W electric in,standard -  W electric in,efficient\n",
"ES=PS*OpHrs;//Energy savings = Power savings * Operating hours\n",
"ES=floor(ES);//rounding off\n",
"disp(ES,'Energy savings in kWh/year');\n",
"CS=ES*CU;\n",
"CS=floor(CS);//rounding off\n",
"disp(CS,'Cost savings per year in USD');\n",
"EIC=Phem-Pstd;//excess intial cost\n",
"Y=EIC/CS;\n",
"disp(Y,'simple payback period in years')"
   ]
   }
,
{
		   "cell_type": "markdown",
		   "metadata": {},
		   "source": [
			"## Example 2.18: Reducing_Air_Pollution_by_Geothermal_Heating.sce"
		   ]
		  },
  {
"cell_type": "code",
	   "execution_count": null,
	   "metadata": {
	    "collapsed": true
	   },
	   "outputs": [],
"source": [
"clc;clear;\n",
"//Example 2.18\n",
"\n",
"//given values\n",
"//NOx details\n",
"m1=0.0047;\n",
"N1=18*10^6;\n",
"//CO2 details\n",
"m2=6.4;\n",
"N2=18*10^6;\n",
"\n",
"//calculation\n",
"NOxSav=m1*N1;\n",
"disp(NOxSav,'NOx savings in kg/year');\n",
"CO2Sav=m2*N2;\n",
"disp(CO2Sav,'CO2 savings in kg/year')"
   ]
   }
,
{
		   "cell_type": "markdown",
		   "metadata": {},
		   "source": [
			"## Example 2.19: Heat_Transfer_from_a_Person.sce"
		   ]
		  },
  {
"cell_type": "code",
	   "execution_count": null,
	   "metadata": {
	    "collapsed": true
	   },
	   "outputs": [],
"source": [
"clc;clear;\n",
"//Example 2.19\n",
"\n",
"//constants used\n",
"e=.95;//Emissivity\n",
"tc=5.67*10^-8;//thermal conductivity in W/m^2 K^4\n",
"\n",
"//given values\n",
"h=6;\n",
"A=1.6;\n",
"Ts=29;\n",
"Tf=20;\n",
"\n",
"//calculation\n",
"//convection rate\n",
"Q1=h*A*(Ts-Tf);\n",
"//radiation rate\n",
"Q2=e*tc*A*((Ts+273)^4-(Tf+273)^4)\n",
"Qt=Q1+Q2;\n",
"disp(Qt,'the total rate of heat transfer in W')"
   ]
   }
,
{
		   "cell_type": "markdown",
		   "metadata": {},
		   "source": [
			"## Example 2.1: A_Car_Powered_by_Nuclear_Fuel.sce"
		   ]
		  },
  {
"cell_type": "code",
	   "execution_count": null,
	   "metadata": {
	    "collapsed": true
	   },
	   "outputs": [],
"source": [
"clc;clear;\n",
"//Example 2.1\n",
"\n",
"//constants used\n",
"Hu=6.73*10^10;//Energy liberated by 1 kg of uranium\n",
"\n",
"//given values\n",
"p=0.75;//assuming the avg density of gasoline in kg/L\n",
"V=5;\n",
"Hv=44000;\n",
"mu=0.1;//mass of uranium used\n",
"\n",
"//calculation\n",
"mgas=p*V;//mass of gasoline required per day\n",
"Egas=mgas*Hv;\n",
"Eu=mu*Hu;\n",
"d=Eu/Egas;\n",
"d=ceil(d);\n",
"disp(d,'the numnber of days the car can run with uranium')"
   ]
   }
,
{
		   "cell_type": "markdown",
		   "metadata": {},
		   "source": [
			"## Example 2.2: Wind_Energy.sce"
		   ]
		  },
  {
"cell_type": "code",
	   "execution_count": null,
	   "metadata": {
	    "collapsed": true
	   },
	   "outputs": [],
"source": [
"clc;clear;\n",
"//Example 2.2\n",
"\n",
"//given values\n",
"v=8.5;\n",
"m=10;\n",
"mf=1154;\n",
"\n",
"//calculation\n",
"e=v^2/2;\n",
"disp(e,'wind energy per unit mass J/kg');\n",
"E=m*e;\n",
"disp(E,'wind energy for 10kg mass in J');\n",
"E=mf*e/1000;\n",
"disp(E,'wind energy for mass flow are of 1154kg/s in kW')"
   ]
   }
,
{
		   "cell_type": "markdown",
		   "metadata": {},
		   "source": [
			"## Example 2.7: Power_Transmission_by_the_Shaft_of_a_Car.sce"
		   ]
		  },
  {
"cell_type": "code",
	   "execution_count": null,
	   "metadata": {
	    "collapsed": true
	   },
	   "outputs": [],
"source": [
"clc;clear;\n",
"//Example 2.7\n",
"\n",
"//given values\n",
"T=200;\n",
"n=4000/60;//converting rpm into rps\n",
"\n",
"//calculation\n",
"Wsh=2*3.14*n*T/1000;\n",
"disp(Wsh,'Power transmitted in kW')"
   ]
   }
,
{
		   "cell_type": "markdown",
		   "metadata": {},
		   "source": [
			"## Example 2.8: Power_Needs_of_a_Car_to_Climb_a_Hill.sce"
		   ]
		  },
  {
"cell_type": "code",
	   "execution_count": null,
	   "metadata": {
	    "collapsed": true
	   },
	   "outputs": [],
"source": [
" clc;clear;\n",
"//Example 2.8\n",
"\n",
"//constants used\n",
"g=9.81;//acceleration due to gravity in m/s^2;\n",
"\n",
"//given values\n",
"m=1200;\n",
"V=90/3.6;//converting km/h into m/s\n",
"d=30;\n",
"\n",
"//calculation\n",
"Vver=V*sind(d);//velocity in vertical direction\n",
"Wg=m*g*Vver/1000;\n",
"disp(Wg,'the addtional power in kW')"
   ]
   }
,
{
		   "cell_type": "markdown",
		   "metadata": {},
		   "source": [
			"## Example 2.9: Power_Needs_of_a_Car_to_Accelerate.sce"
		   ]
		  },
  {
"cell_type": "code",
	   "execution_count": null,
	   "metadata": {
	    "collapsed": true
	   },
	   "outputs": [],
"source": [
"clc;clear;\n",
"//Example 2.9\n",
"\n",
"//given values\n",
"m=900;\n",
"v1=0;\n",
"v2=80/3.6;//converting km/h into m/s\n",
"t=20;\n",
"\n",
"//calculation\n",
"Wa=m*(v2^2-v1^2)/2/1000;\n",
"Wavg=Wa/t;\n",
"disp(Wavg,'the average power in kW')"
   ]
   }
],
"metadata": {
		  "kernelspec": {
		   "display_name": "Scilab",
		   "language": "scilab",
		   "name": "scilab"
		  },
		  "language_info": {
		   "file_extension": ".sce",
		   "help_links": [
			{
			 "text": "MetaKernel Magics",
			 "url": "https://github.com/calysto/metakernel/blob/master/metakernel/magics/README.md"
			}
		   ],
		   "mimetype": "text/x-octave",
		   "name": "scilab",
		   "version": "0.7.1"
		  }
		 },
		 "nbformat": 4,
		 "nbformat_minor": 0
}
