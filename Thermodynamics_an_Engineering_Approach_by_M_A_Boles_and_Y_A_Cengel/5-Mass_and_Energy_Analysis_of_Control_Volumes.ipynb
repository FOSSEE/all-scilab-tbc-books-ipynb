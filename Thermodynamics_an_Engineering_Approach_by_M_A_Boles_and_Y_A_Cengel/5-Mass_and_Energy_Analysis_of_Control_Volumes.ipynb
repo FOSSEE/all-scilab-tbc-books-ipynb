{
"cells": [
 {
		   "cell_type": "markdown",
	   "metadata": {},
	   "source": [
       "# Chapter 5: Mass and Energy Analysis of Control Volumes"
	   ]
	},
{
		   "cell_type": "markdown",
		   "metadata": {},
		   "source": [
			"## Example 5.10: Cooling_of_Refrigerant_134a_by_Water.sce"
		   ]
		  },
  {
"cell_type": "code",
	   "execution_count": null,
	   "metadata": {
	    "collapsed": true
	   },
	   "outputs": [],
"source": [
"clc;clear;\n",
"//Example 5.10\n",
"\n",
"//given data\n",
"T1=15;\n",
"P1=300;\n",
"T2=25;\n",
"T3=70;\n",
"P3=1000;//in kPa\n",
"T4=35;\n",
"mr=6;\n",
"\n",
"//from Table A-4, A-13 and A-11\n",
"h1=62.982;\n",
"h2=104.83;\n",
"h3=303.85;\n",
"h4=100.87;\n",
"\n",
"//calculations\n",
"//mass balance m1=m2=mw and m3=m4=mr\n",
"//energy balance m1*h1 + m3*h3 =  m2*h2 + m4*h4\n",
"//combining them mw*(h1-h2) = mr*(h4-h3)\n",
"mw= mr*(h4-h3)/(h1-h2);\n",
"disp(mw,'mass flow rate of cooling water in kg/min');\n",
"Qin=mw*(h2-h1);\n",
"Qin=round(Qin);\n",
"disp(Qin,'heat transfer rate in kJ/min')"
   ]
   }
,
{
		   "cell_type": "markdown",
		   "metadata": {},
		   "source": [
			"## Example 5.11: Electric_Heating_of_Air_in_a_House.sce"
		   ]
		  },
  {
"cell_type": "code",
	   "execution_count": null,
	   "metadata": {
	    "collapsed": true
	   },
	   "outputs": [],
"source": [
"clc;clear;\n",
"//Example 5.11\n",
"\n",
"//giaven data\n",
"T1=17+273;//in K\n",
"P1=100;\n",
"V1=150;\n",
"Win=15;\n",
"Qout=200/1000;//in kJ/s\n",
"\n",
"//constants used\n",
"R=0.287;//in kPa-m^3/kg-K\n",
"cp=1.005;//in kJ/kg C\n",
"\n",
"//calculations\n",
"v1=R*T1/P1;\n",
"m=V1/v1/60;//factor of 6 to convert to s\n",
"// Win - Qout = m*cp*(T2-T1)\n",
"T2= T1 + (Win - Qout)/(m*cp);\n",
"disp((T2-273),'exit temperature in C')"
   ]
   }
,
{
		   "cell_type": "markdown",
		   "metadata": {},
		   "source": [
			"## Example 5.12: Charging_of_a_Rigid_Tank_by_Steam.sce"
		   ]
		  },
  {
"cell_type": "code",
	   "execution_count": null,
	   "metadata": {
	    "collapsed": true
	   },
	   "outputs": [],
"source": [
"clc;clear;\n",
"//Example 5.12\n",
"\n",
"//given data\n",
"Pi=1;\n",
"Ti=300;\n",
"P2=1;\n",
"\n",
"//from Table A-6\n",
"hi=3051.6;\n",
"\n",
"//calculations\n",
"//mass balance mi=m2\n",
"//energy balance mi*hi= m2*u2\n",
"//combining them we get,\n",
"u2=hi;\n",
"//from Table A-6\n",
"//we know P2 and u2, so\n",
"T2=456.1;\n",
"disp(T2,'final temperature in tank in C')"
   ]
   }
,
{
		   "cell_type": "markdown",
		   "metadata": {},
		   "source": [
			"## Example 5.13: Cooking_with_a_Pressure_Cooker.sce"
		   ]
		  },
  {
"cell_type": "code",
	   "execution_count": null,
	   "metadata": {
	    "collapsed": true
	   },
	   "outputs": [],
"source": [
"clc;clear;\n",
"//Example 5.13\n",
"\n",
"//given data\n",
"V=6/1000;//in m^3\n",
"Pgage=75;\n",
"Patm=100;\n",
"m1=1;\n",
"Qind=0.5;//d stands for .\n",
"t=30*60;//in s\n",
"\n",
"//calculation\n",
"Pabs=Pgage+Patm;\n",
"//from Table A-5, ths saturation temp \n",
"T=116.04;\n",
"disp(T,'the temperature at which cooking takes plac in C');\n",
"//mass balance me=(m1-m2)cv\n",
"//energy balance Qin - mehe = (m2u2 - m1u1)cv\n",
"Qin=Qind*t;\n",
"//from Table A-5\n",
"he=2700.2;\n",
"vf=0.001;\n",
"vg=1.004;\n",
"uf=486.82;\n",
"ufg=2037.7;\n",
"v1=V/m1;\n",
"x1=(v1-vf)/(vg-vf);\n",
"u1=uf+x1*ufg;\n",
"U=m1*u1;\n",
"//Qin = (m1 - V/v2)*he + (V/v2*u2 - m1*u1)\n",
"//v2=vf + x2*(vg-vf)\n",
"//u2=uf +  x2*ufg\n",
"//combining these equations we get\n",
"//solved using EES\n",
"x2=0.009;\n",
"v2=vf + x2*(vg-vf);\n",
"m2=V/v2;\n",
"disp(m2,'amount of water left in kg')"
   ]
   }
,
{
		   "cell_type": "markdown",
		   "metadata": {},
		   "source": [
			"## Example 5.1: Water_Flow_through_a_Garden_Hose_Nozzle.sce"
		   ]
		  },
  {
"cell_type": "code",
	   "execution_count": null,
	   "metadata": {
	    "collapsed": true
	   },
	   "outputs": [],
"source": [
"clc;clear;\n",
"//Example 5.1\n",
"\n",
"//given data\n",
"V=10;\n",
"t=50;\n",
"p=1;//in kg/L\n",
"re=0.8/2/100;//in m\n",
"\n",
"//calculations\n",
"Vd=V/t*3.7854;//factor 0f 3.7854 for gal to L\n",
"disp(Vd,'volumne flow rate through hose in L/s');\n",
"m=p*Vd;\n",
"disp(m,'mass flow rate through hose in kg/s');\n",
"Ae=%pi*re^2;\n",
"Ve=Vd/Ae/1000;//factor of 1000 for L to m^3\n",
"disp(Ve,'average velocity at the nozzle in m/s');"
   ]
   }
,
{
		   "cell_type": "markdown",
		   "metadata": {},
		   "source": [
			"## Example 5.2: Discharge_of_Water_from_a_Tank.sce"
		   ]
		  },
  {
"cell_type": "code",
	   "execution_count": null,
	   "metadata": {
	    "collapsed": true
	   },
	   "outputs": [],
"source": [
"clc;clear;\n",
"//Example 5.2\n",
"\n",
"//given data\n",
"Dtank=3*12;//in inches\n",
"Djet=0.5;\n",
"h0=2;\n",
"h1=4;\n",
"\n",
"//constants used \n",
"g=32.2;//in ft/s^2\n",
"\n",
"//calculations\n",
"//min - mout = dmCV/dt\n",
"//mout = p*(2*g*h*Ajet)^2\n",
"//mCV = p*Atank*h\n",
"//from these we get dt = Dtank^2/Djet^2 * (dh/(2*g*h)^2)\n",
"t=integrate('Dtank^2/Djet^2*(1/sqrt(2*g*h))','h',h0,h1);\n",
"t=(t/60);//in min\n",
"disp(t,'time taken to drop to 2ft in min')"
   ]
   }
,
{
		   "cell_type": "markdown",
		   "metadata": {},
		   "source": [
			"## Example 5.3: Energy_Transport_by_Mass.sce"
		   ]
		  },
  {
"cell_type": "code",
	   "execution_count": null,
	   "metadata": {
	    "collapsed": true
	   },
	   "outputs": [],
"source": [
"clc;clear;\n",
"//Example 5.3\n",
"\n",
"//given data\n",
"P=150;\n",
"Vliquid=0.6/1000;//im m^3\n",
"t=40*60;//in sec\n",
"Ac=8*10^-6;\n",
"\n",
"//from Table A-5\n",
"//from P = 150 kPa\n",
"h=2693.1;\n",
"ug=2519.2;\n",
"vf=0.001053;\n",
"vg=1.1594;\n",
"\n",
"//calculations\n",
"m=Vliquid/vf;\n",
"md=m/t;\n",
"disp(md,'mass flow rate in kg/s');\n",
"V=md*vg/(Ac);\n",
"disp(V,'exit velocity in m/s');\n",
"Eflow=h-ug;\n",
"Et=h;\n",
"disp(Eflow,'flow energy in kJ/kg');\n",
"disp(Et,'total energy in kJ/kg');\n",
"Emass=md*Et;\n",
"disp(Emass,'rate at which energy leaves the cooker in kW')"
   ]
   }
,
{
		   "cell_type": "markdown",
		   "metadata": {},
		   "source": [
			"## Example 5.4: Deceleration_of_Air_in_a_Diffuser.sce"
		   ]
		  },
  {
"cell_type": "code",
	   "execution_count": null,
	   "metadata": {
	    "collapsed": true
	   },
	   "outputs": [],
"source": [
"clc;clear;\n",
"//Example 5.4\n",
"\n",
"//given data\n",
"T1=283;//in K\n",
"P1=80;\n",
"V1=200;\n",
"A1=0.4;\n",
"\n",
"//constants used\n",
"R=0.287;//in kPa-m^3/kg-K\n",
"\n",
"//calulations\n",
"v1=R*T1/P1;\n",
"m=V1*A1/v1;\n",
"disp(m,'mass flow rate of air in kg/s');\n",
"// Ein - Eout = dEsystem / dt\n",
"//from Table A-17\n",
"h1=283.14;\n",
"V2=0;\n",
"h2=h1-(V2^2 - V1^2)/2/1000;//factor of 1000 to convert to kJ/kg\n",
"//from Table A-17 at this value of h2\n",
"T2=303;\n",
"disp(T2,'the temperature in K is');"
   ]
   }
,
{
		   "cell_type": "markdown",
		   "metadata": {},
		   "source": [
			"## Example 5.5: Acceleration_of_Steam_in_a_Nozzle.sce"
		   ]
		  },
  {
"cell_type": "code",
	   "execution_count": null,
	   "metadata": {
	    "collapsed": true
	   },
	   "outputs": [],
"source": [
"clc;clear;\n",
"//Example 5.5\n",
"\n",
"//given data\n",
"P1=250;\n",
"T1=700;\n",
"A1=0.2;\n",
"qout=1.2;\n",
"m=10;\n",
"P2=200;\n",
"V2=900;\n",
"\n",
"//from Table A-6E\n",
"v1=2.6883;\n",
"h1=1371.4;\n",
"\n",
"//calculations\n",
"V1=m*v1/A1;\n",
"disp(V1,'the inlet velocity in ft/s');\n",
"// Ein - Eout = dEsystem / dt\n",
"h2=h1-qout-(V2^2 - V1^2)/2/25037;//factor of 25037 to convert to Btu/lbm\n",
"//at this value h2, from Tablw A-6E\n",
"T2=662;\n",
"disp(T2,'exit temperature in F')"
   ]
   }
,
{
		   "cell_type": "markdown",
		   "metadata": {},
		   "source": [
			"## Example 5.6: Compressing_Air_by_a_Compressor.sce"
		   ]
		  },
  {
"cell_type": "code",
	   "execution_count": null,
	   "metadata": {
	    "collapsed": true
	   },
	   "outputs": [],
"source": [
"clc;clear;\n",
"//Example 5.6\n",
"\n",
"//given data\n",
"T1=280;\n",
"P1=100;\n",
"m=0.02;\n",
"qout=16;\n",
"P2=600;\n",
"T2=400;\n",
"\n",
"//from Table A-17\n",
"h1=280.13;\n",
"h2=400.98;\n",
"\n",
"//calculations\n",
"// Ein - Eout = dEsystem / dt\n",
"Win=m*qout+m*(h2-h1);\n",
"disp(Win,'the input power of compressor in kW')"
   ]
   }
,
{
		   "cell_type": "markdown",
		   "metadata": {},
		   "source": [
			"## Example 5.7: Power_Generation_by_a_Steam_Turbine.sce"
		   ]
		  },
  {
"cell_type": "code",
	   "execution_count": null,
	   "metadata": {
	    "collapsed": true
	   },
	   "outputs": [],
"source": [
"clc;clear;\n",
"//Example 5.7\n",
"\n",
"//given data\n",
"P1=2;\n",
"T1=400;\n",
"V1=50;\n",
"z1=10;\n",
"P2=15;\n",
"x2=0.9;\n",
"V2=180;\n",
"z2=6;\n",
"Wout=5*1000;//in kJ\n",
"\n",
"//from Table A-6\n",
"h1=3248.4;\n",
"//similarly for P2\n",
"hf=225.94;\n",
"hfg=2372.3;\n",
"\n",
"//constants used \n",
"g=9.8;//in m/s^2\n",
"\n",
"//calcualtions\n",
"h2=hf+x2*hfg;\n",
"disp((h2-h1),'difference in enthalpies in kJ/kg');\n",
"disp((V2^2-V1^2)/2/1000,'difference in kinetic energy in kJ/kg');//factor of 1000 to convert to kJ/kg\n",
"disp(g*(z2-z1)/1000,'difference in potential energy in kJ/kg');//factor of 1000 to convert to kJ/kg\n",
"wout=-((h2-h1)+(V2^2-V1^2)/2/1000+g*(z2-z1)/1000);//factor of 1000 to convert to kJ/kg\n",
"disp(wout,'work done per unit of mass in kJ/kg');\n",
"m=Wout/wout;\n",
"disp(m,'mass flow rate in kg/s')"
   ]
   }
,
{
		   "cell_type": "markdown",
		   "metadata": {},
		   "source": [
			"## Example 5.8: Expansion_of_Refrigerant_134a_in_a_Refrigerator.sce"
		   ]
		  },
  {
"cell_type": "code",
	   "execution_count": null,
	   "metadata": {
	    "collapsed": true
	   },
	   "outputs": [],
"source": [
"clc;clear;\n",
"//Example 5.8\n",
"\n",
"//given data\n",
"P1=0.8;\n",
"P2=0.12;\n",
"\n",
"//from Table A-12\n",
"//sat. liq at P1\n",
"T1=31.31;\n",
"h1=95.47;\n",
"//since process is insentropic and at  P2\n",
"h2=h1;\n",
"hf=22.49;\n",
"hg=236.97;\n",
"T2=-22.32;\n",
"\n",
"//calculations\n",
"x2=(h2-hf)/(hg-hf);\n",
"disp(x2,'the final state is');\n",
"dT=T2-T1;\n",
"disp(dT,'temperature drop in C')"
   ]
   }
,
{
		   "cell_type": "markdown",
		   "metadata": {},
		   "source": [
			"## Example 5.9: Mixing_of_Hot_and_Cold_Waters_in_a_Shower.sce"
		   ]
		  },
  {
"cell_type": "code",
	   "execution_count": null,
	   "metadata": {
	    "collapsed": true
	   },
	   "outputs": [],
"source": [
"clc;clear;\n",
"//Example 5.9\n",
"\n",
"//given data\n",
"T1=140;\n",
"T2=50;\n",
"T3=110;\n",
"P=20;\n",
"\n",
"//for a compressed liq at given temp\n",
"h1=107.99;\n",
"h2=18.07;\n",
"h3=78.02;\n",
"\n",
"//calculations\n",
"//Mass balance min =  mout So, m1+m2 = m3\n",
"//Energy balance Ein = Eout So, m1*h1 + m2*h2 = m3*h3\n",
"//combining realations\n",
"//m1*h1 + m2*h2 = (m1+m2)*h3\n",
"//dividing by m2 and y=m1/m2\n",
"//we get, yh1 + h2 = (y+1)*h3\n",
"y=(h3-h2)/(h1-h3);\n",
"y=round(y);\n",
"disp(y,'the ratio of mass flow rates')"
   ]
   }
],
"metadata": {
		  "kernelspec": {
		   "display_name": "Scilab",
		   "language": "scilab",
		   "name": "scilab"
		  },
		  "language_info": {
		   "file_extension": ".sce",
		   "help_links": [
			{
			 "text": "MetaKernel Magics",
			 "url": "https://github.com/calysto/metakernel/blob/master/metakernel/magics/README.md"
			}
		   ],
		   "mimetype": "text/x-octave",
		   "name": "scilab",
		   "version": "0.7.1"
		  }
		 },
		 "nbformat": 4,
		 "nbformat_minor": 0
}
