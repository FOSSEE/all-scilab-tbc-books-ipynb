{
"cells": [
 {
		   "cell_type": "markdown",
	   "metadata": {},
	   "source": [
       "# Chapter 4: Energy Analysis Of Closed Systems"
	   ]
	},
{
		   "cell_type": "markdown",
		   "metadata": {},
		   "source": [
			"## Example 4.10: Heating_of_a_Gas_at_Constant_Pressure.sce"
		   ]
		  },
  {
"cell_type": "code",
	   "execution_count": null,
	   "metadata": {
	    "collapsed": true
	   },
	   "outputs": [],
"source": [
"clc;clear;\n",
"//Example 4.10\n",
"\n",
"//given data\n",
"P1=150;\n",
"P2=350;\n",
"T1=27+273;//in K\n",
"V1=400/1000;// in m^3\n",
"R=0.287;\n",
"\n",
"//from Table A–17\n",
"u1=214.07;\n",
"u2=1113.52;\n",
"\n",
"//calculations\n",
"\n",
"//part a\n",
"V2=2*V1;\n",
"//using ideal gas eqn\n",
"// P1 * V1 / T1 = P2 * T2 /V2\n",
"T2=P2*V2*T1/(P1*V1);\n",
"disp(T2,'the final temperature in K');\n",
"\n",
"//part b\n",
"// Work done is Pdv\n",
"W=P2*(V2-V1);\n",
"disp(W,'the work done by the air im kPa');\n",
"\n",
"//part c\n",
"//Ein - Eout = Esystem\n",
"//Qin - Wout = dU = m(u2 - u1)\n",
"m= P1* V1 /(T1 * R);\n",
"Q= m*(u2 - u1)+ W;\n",
"Q=ceil(Q);\n",
"disp(Q,'the total heat transferred to the air in kJ')"
   ]
   }
,
{
		   "cell_type": "markdown",
		   "metadata": {},
		   "source": [
			"## Example 4.11: Enthalpy_of_Compressed_Liquid.sce"
		   ]
		  },
  {
"cell_type": "code",
	   "execution_count": null,
	   "metadata": {
	    "collapsed": true
	   },
	   "outputs": [],
"source": [
"clc;clear;\n",
"//Example 4.11\n",
"\n",
"//given data\n",
"T=100;\n",
"P=15;\n",
"\n",
"//from Table A–7\n",
"//at P=15 mPa and T = 100 C\n",
"hg=430.39;\n",
"hf=419.17\n",
"vf=0.001;\n",
"Psat=101.42;//in kPa\n",
"\n",
"//calculations\n",
"\n",
"//part a\n",
"h=hg;\n",
"disp(h,'enthalpy of liquid water by using compressed liquid tables in kJ/kg');\n",
"\n",
"//part b\n",
"//Approximating the compressed liquid as a saturated liquid at 100°C\n",
"h=hf;\n",
"disp(h,'enthalpy of liquid water by approximating it as a saturated liquid in kJ/kg');\n",
"\n",
"//part c\n",
"h=hf + vf*(P*1000 - Psat );\n",
"disp(h,'enthalpy of liquid water by using the correction given by Eq. 4–38 in kJ/kg');"
   ]
   }
,
{
		   "cell_type": "markdown",
		   "metadata": {},
		   "source": [
			"## Example 4.12: Cooling_of_an_Iron_Block_by_Water.sce"
		   ]
		  },
  {
"cell_type": "code",
	   "execution_count": null,
	   "metadata": {
	    "collapsed": true
	   },
	   "outputs": [],
"source": [
"clc;clear;\n",
"//Example 4.12\n",
"\n",
"//given dara\n",
"mi=50;\n",
"T1i=80;//suffix i for iron\n",
"Vw=0.5;\n",
"T1w=25;//suffix w for water\n",
"v=0.001;//specific volume of liquid water at or about room temperature\n",
"\n",
"//from Table A–3\n",
"ci=0.45;\n",
"cw=4.18;\n",
"\n",
"//calculations\n",
"mw=Vw/v;\n",
"//Ein - Eout = Esystem\n",
"// du = 0 i.e (mcdT)iron + (mcdT)water = 0\n",
"// mi * ci * (T - T1i) + mw *cw * (T-T1w)\n",
"//on rearranging above equn\n",
"T= (mi*ci*T1i + mw*cw*T1w)/(mi*ci+mw*cw);\n",
"disp(T,'the temperature when thermal equilibrium is reached in C')"
   ]
   }
,
{
		   "cell_type": "markdown",
		   "metadata": {},
		   "source": [
			"## Example 4.13: Temperature_Rise_due_to_Slapping.sce"
		   ]
		  },
  {
"cell_type": "code",
	   "execution_count": null,
	   "metadata": {
	    "collapsed": true
	   },
	   "outputs": [],
"source": [
"clc;clear;\n",
"//Example 4.13\n",
"\n",
"//given data\n",
"maf=0.15;\n",
"caf=3.8;\n",
"dTaf=1.8;//suffix af for affected tissue\n",
"mh=1.2;///suffix h for hand\n",
"\n",
"//calculations\n",
"//Ein - Eout = Esystem\n",
"//dUaffected tissue - KEhand = 0\n",
"//from above equation we can deduce that\n",
"Vhand= sqrt(2*maf*caf*dTaf*1000/mh);//for conversion factor mutiplying by 1000 to get m^2/s^2\n",
"disp(Vhand,'the velocity of the hand just before impact in m/s');"
   ]
   }
,
{
		   "cell_type": "markdown",
		   "metadata": {},
		   "source": [
			"## Example 4.14: Burning_Off_Lunch_Calories.sce"
		   ]
		  },
  {
"cell_type": "code",
	   "execution_count": null,
	   "metadata": {
	    "collapsed": true
	   },
	   "outputs": [],
"source": [
"clc;clear;\n",
"//Example 4.14\n",
"\n",
"//given data\n",
"m=90;\n",
"\n",
"//from Tables 4–1 and 4–2\n",
"Ehb=275;//hamburger\n",
"Ef=250;//fries\n",
"Ec=87;//cola\n",
"\n",
"//calculation\n",
"\n",
"//part a\n",
"Ein=2*Ehb+Ef+Ec;\n",
"//The rate of energy output for a 68-kg man watching TV is to be 72 Calories/h\n",
"Eout=m*72/68;\n",
"t=Ein/Eout;\n",
"disp(t,'by watching TV in hours');\n",
"\n",
"//part b\n",
"//The rate of energy output for a 68-kg man watching TV is to be 860 Calories/h\n",
"Eout=m*860/68;\n",
"t=Ein/Eout*60//converting in min\n",
"t=ceil(t);\n",
"disp(t,'by fast swimming in mins');\n",
"\n",
"//for last question\n",
"disp('answers be for a 45-kg man energy takes twice as long in each case');"
   ]
   }
,
{
		   "cell_type": "markdown",
		   "metadata": {},
		   "source": [
			"## Example 4.15: Losing_Weight_by_Switching_to_Fat_Free_Chips.sce"
		   ]
		  },
  {
"cell_type": "code",
	   "execution_count": null,
	   "metadata": {
	    "collapsed": true
	   },
	   "outputs": [],
"source": [
"clc;clear;\n",
"//Example 4.15\n",
"\n",
"//given data\n",
"E=75;//in Cal/day\n",
"\n",
"//calculation\n",
"Ereduced=E*365;\n",
"//The metabolizable energy content of 1 kg of body fat is 33,100 kJ\n",
"Ec=33100;\n",
"mfat=Ereduced/Ec*4.1868;\n",
"disp(mfat,'weight this person will lose in one year in kg')"
   ]
   }
,
{
		   "cell_type": "markdown",
		   "metadata": {},
		   "source": [
			"## Example 4.2: Boundary_Work_for_a_Constant_Pressure_Process.sce"
		   ]
		  },
  {
"cell_type": "code",
	   "execution_count": null,
	   "metadata": {
	    "collapsed": true
	   },
	   "outputs": [],
"source": [
"clc;clear;\n",
"//Example 4.2\n",
"\n",
"//given values\n",
"m=10;\n",
"Po=60;\n",
"T1=320;\n",
"T2=400;\n",
"\n",
"//from Table A–6E\n",
"v1=7.4863;//at 60 psia and 320 F\n",
"v2=8.3548;//at 60 psia and 400 F\n",
"\n",
"//calculations\n",
"//W = P dV which on integrating gives W = m * P * (V2 - V1)\n",
"W=m*Po*(v2-v1)/5.404;//coverting into Btu from psia-ft^3\n",
"disp(W,'work done by the steam during this process in Btu')"
   ]
   }
,
{
		   "cell_type": "markdown",
		   "metadata": {},
		   "source": [
			"## Example 4.3: Isothermal_Compression_of_an_Ideal_Gas.sce"
		   ]
		  },
  {
"cell_type": "code",
	   "execution_count": null,
	   "metadata": {
	    "collapsed": true
	   },
	   "outputs": [],
"source": [
"clc;clear;\n",
"//Example 4.3\n",
"\n",
"//given data\n",
"P1=100;\n",
"V1=0.4;\n",
"V2=0.1;\n",
"\n",
"//calculations\n",
"//for isothermal W = P1*V1* ln(V2/V1)\n",
"W=P1*V1*log(V2/V1);\n",
"disp(W,'the work done during this process in kJ')"
   ]
   }
,
{
		   "cell_type": "markdown",
		   "metadata": {},
		   "source": [
			"## Example 4.4: Expansion_of_a_Gas_against_a_Spring.sce"
		   ]
		  },
  {
"cell_type": "code",
	   "execution_count": null,
	   "metadata": {
	    "collapsed": true
	   },
	   "outputs": [],
"source": [
"clc;clear;\n",
"//Example 4.4\n",
"\n",
"//given data\n",
"V1=0.05;\n",
"P1=200;\n",
"k=150;\n",
"A=0.25;\n",
"\n",
"//calculations\n",
"\n",
"//Part - a\n",
"V2=2*V1;\n",
"x2=(V2-V1)/A;//displacement of spring\n",
"F=k*x2;//compression force\n",
"P2=P1+F/A;//additional pressure is equivalent the compression of spring\n",
"disp(P2,'the final pressure inside the cylinder in kPa');\n",
"\n",
"//Part - b\n",
"//work done is equivalent to the area of the P-V curve of Fig 4-10\n",
"W=(P1+P2)/2*(V2-V1);//area of trapezoid = 1/2 * sum of parallel sides * dist. b/w them\n",
"disp(W,'the total work done by the gas in kJ');\n",
"\n",
"//Part - c\n",
"x1=0;//intial compression of spring\n",
"Wsp=0.5*k*(x2^2-x1^2);\n",
"disp(Wsp,'the fraction of this work done against the spring to compress it in kJ')"
   ]
   }
,
{
		   "cell_type": "markdown",
		   "metadata": {},
		   "source": [
			"## Example 4.5: Electric_Heating_of_a_Gas_at_Constant_Pressure.sce"
		   ]
		  },
  {
"cell_type": "code",
	   "execution_count": null,
	   "metadata": {
	    "collapsed": true
	   },
	   "outputs": [],
"source": [
"clc;clear;\n",
"//Example 4.5\n",
"\n",
"//given values\n",
"m=0.025;\n",
"V=120;\n",
"I=0.2;\n",
"t=300;//total time taken in sec\n",
"P1=300;\n",
"Qout=3.7;\n",
"\n",
"//from Table A–5\n",
"//at P1 the conditon is sat. vap\n",
"h1=2724.9;\n",
"\n",
"//Calculations\n",
"\n",
"//Part - a\n",
"//therotical proving\n",
"\n",
"//Part - b\n",
"We=V*I*t/1000;//electrical work in kJ\n",
"//from eqn 4 -18 i.e derived in earler part\n",
"//it states it Ein - Eout = Esystem\n",
"// it applies as Win - Qout = H = m (h2 - h1)\n",
"h2=(We-Qout)/m+h1;\n",
"////from Table A–5\n",
"//at h2 we get\n",
"P2=300;\n",
"T=200;\n",
"disp(T,'the final temperature of the steam in C')"
   ]
   }
,
{
		   "cell_type": "markdown",
		   "metadata": {},
		   "source": [
			"## Example 4.6: Unrestrained_Expansion_of_Water.sce"
		   ]
		  },
  {
"cell_type": "code",
	   "execution_count": null,
	   "metadata": {
	    "collapsed": true
	   },
	   "outputs": [],
"source": [
"clc;clear;\n",
"//Example 4.6\n",
"\n",
"//given data\n",
"m=5;\n",
"P1=200;\n",
"T=25;\n",
"\n",
"//from Table A–4\n",
"//the liq. is in compressed state at 200 kPa and 25 C\n",
"vf=0.001;\n",
"vg=43.340;\n",
"uf=104.83;\n",
"ufg=2304.3;\n",
"v1=vf;\n",
"u1=uf;\n",
"\n",
"//calculations\n",
"\n",
"//Part - a\n",
"V1=m*v1;\n",
"Vtank=2*V1;\n",
"disp(Vtank,'the volume of the tank in m^3');\n",
"\n",
"//Part - b\n",
"V2=Vtank;\n",
"v2=V2/m;\n",
"//from Table A–4 \n",
"// at T=25 vf=0.101003 m^3/kg and vg=43.340 m^3/kg\n",
"// vf<v2<vg therefore it is saturated liquid–vapor mixture\n",
"P2=3.1698;\n",
"disp(P2,'the final pressure in kPa');\n",
"\n",
"//Part - c\n",
"//Ein - Eout = Esystem\n",
"//Qin= dU = m(u2 - u1)\n",
"x2=(v2-vf)/(vg-vf);\n",
"u2=uf+x2*ufg;\n",
"Qin=m*(u2 - u1);\n",
"disp(Qin,'the heat transfer for this process in kJ')"
   ]
   }
,
{
		   "cell_type": "markdown",
		   "metadata": {},
		   "source": [
			"## Example 4.7: Evaluation_of_the_du_of_an_Ideal_Gas.sce"
		   ]
		  },
  {
"cell_type": "code",
	   "execution_count": null,
	   "metadata": {
	    "collapsed": true
	   },
	   "outputs": [],
"source": [
"clc;clear;\n",
"//Example 4.7\n",
"\n",
"//given data\n",
"T1=300;\n",
"P=200;\n",
"T2=600;\n",
"M=28.97;\n",
"Ru=8.314;\n",
"\n",
"//Part - a\n",
"//from Table A–17\n",
"u1=214.07;\n",
"u2=434.78;\n",
"du=u2-u1;//change in internal energy\n",
"disp(du,'change in internal energy from data from the air table in kJ/kg');\n",
"\n",
"//Part - b\n",
"//from Table A–2c\n",
"a=28.11;\n",
"b=0.1967*10^-2;\n",
"c=0.4802*10^-5;\n",
"d=-1.966*10^-9;\n",
"//  by equation Cp(T)=a+bT+cT^2+dT^3\n",
"dubar=integrate('(a-Ru)+b*T+c*T^2+d*T^3','T',T1,T2);//integrant\n",
"du=dubar/M;\n",
"disp(du,'change in internal energy the functional form of the specific heat in kJ/kg'); \n",
"\n",
"//Part - c\n",
"//from Table A–2b\n",
"Cavg=0.733;\n",
"du=Cavg*(T2-T1);\n",
"du=ceil(du);\n",
"disp(du,'change in internal energy the functional form the average specific heat value in kJ/kg'); "
   ]
   }
,
{
		   "cell_type": "markdown",
		   "metadata": {},
		   "source": [
			"## Example 4.8: Heating_of_a_Gas_in_a_Tank_by_Stirring.sce"
		   ]
		  },
  {
"cell_type": "code",
	   "execution_count": null,
	   "metadata": {
	    "collapsed": true
	   },
	   "outputs": [],
"source": [
"clc;clear;\n",
"//Example 4.8\n",
"\n",
"//given data\n",
"m=1.5;\n",
"T1=80;\n",
"P1=50;\n",
"W=0.02;\n",
"t=30/60;//convertinginto hrs from min\n",
"\n",
"//from Table A–2Ea\n",
"Cv=0.753;\n",
"\n",
"//calculations\n",
"\n",
"//part a\n",
"Wsh=W*t*2545;//in Btu\n",
"//Ein - Eout = Esystem\n",
"//Wsh = dU = m (u2 - u1) = m * Cv * (T2 - T1)\n",
"T2= Wsh/(m*Cv)+T1;\n",
"disp(T2,'the final temperature in F');\n",
"\n",
"//part b\n",
"//using ideal gas eqn\n",
"// P1 * V1 / T1 = P2 * T2 /V2\n",
"P2= 50 * (T2 +460)/ (T1+460);\n",
"// temp should in R therefore + 460\n",
"disp(P2,'the final pressure in psia')"
   ]
   }
,
{
		   "cell_type": "markdown",
		   "metadata": {},
		   "source": [
			"## Example 4.9: Heating_of_a_Gas_by_a_Resistance_Heater.sce"
		   ]
		  },
  {
"cell_type": "code",
	   "execution_count": null,
	   "metadata": {
	    "collapsed": true
	   },
	   "outputs": [],
"source": [
"clc;clear;\n",
"//Example 4.9\n",
"\n",
"//given data\n",
"V1=0.5;\n",
"P=400;\n",
"T1=27;\n",
"I=2;\n",
"t=5*60;//converting into s from min\n",
"V=120;\n",
"Qout=2800/1000;//in kJ\n",
"R=0.297;\n",
"\n",
"//from Table A–2a\n",
"Cp=1.039;\n",
" \n",
"//calculations\n",
"P1=P;\n",
"We=V*I*t/1000;//in kJ\n",
"m=P1*V1/(R*(T1+273));\n",
"//Ein - Eout = Esystem\n",
"// We,in - Qout = dH =  m (h2 - h1) = m * Cp * (T2 - T1)\n",
"T2=(We-Qout)/(m*Cp)+T1;\n",
"disp(T2,'the final temperature of nitrogen in C')"
   ]
   }
],
"metadata": {
		  "kernelspec": {
		   "display_name": "Scilab",
		   "language": "scilab",
		   "name": "scilab"
		  },
		  "language_info": {
		   "file_extension": ".sce",
		   "help_links": [
			{
			 "text": "MetaKernel Magics",
			 "url": "https://github.com/calysto/metakernel/blob/master/metakernel/magics/README.md"
			}
		   ],
		   "mimetype": "text/x-octave",
		   "name": "scilab",
		   "version": "0.7.1"
		  }
		 },
		 "nbformat": 4,
		 "nbformat_minor": 0
}
