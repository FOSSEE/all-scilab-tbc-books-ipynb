{
"cells": [
 {
		   "cell_type": "markdown",
	   "metadata": {},
	   "source": [
       "# Chapter 3: Properties of Pure Substances"
	   ]
	},
{
		   "cell_type": "markdown",
		   "metadata": {},
		   "source": [
			"## Example 3.10: Mass_of_Air_in_a_Room.sce"
		   ]
		  },
  {
"cell_type": "code",
	   "execution_count": null,
	   "metadata": {
	    "collapsed": true
	   },
	   "outputs": [],
"source": [
"clc;clear;\n",
"//Example 3.10\n",
"\n",
"//constants used\n",
"R=0.287// in kPa m^3/kg K\n",
"\n",
"//given values\n",
"l=4;\n",
"b=5;\n",
"h=6;\n",
"P=100;\n",
"T=25+273;//in Kelvin\n",
"\n",
"//calculation\n",
"V=l*b*h;\n",
"m=P*V/R/T;\n",
"disp(m,'the mass of the air in kg')"
   ]
   }
,
{
		   "cell_type": "markdown",
		   "metadata": {},
		   "source": [
			"## Example 3.11: The_Use_of_Generalized_Charts.sce"
		   ]
		  },
  {
"cell_type": "code",
	   "execution_count": null,
	   "metadata": {
	    "collapsed": true
	   },
	   "outputs": [],
"source": [
"clc;clear;\n",
"//Example 3.11\n",
"\n",
"//given values\n",
"P=1;\n",
"T=50+273;//converting into Kelvin\n",
"vgiv=0.021796;//specific vol. given\n",
"\n",
"//from Table A-1\n",
"R=0.0815;\n",
"Pcr=4.059;\n",
"Tcr=374.2;\n",
"\n",
"//calculation\n",
"\n",
"//Part A\n",
"v1=R*T/(P*1000);\n",
"disp(v1,'specific volume of refrigerant-134a under the ideal-gas assumption in m^3/kg');\n",
"e=(v1-vgiv)/vgiv;\n",
"disp(e,'an error of');\n",
"\n",
"//Part B\n",
"//determine Z from the compressibility chart, we will calculate the reduced pressure and temperature\n",
"Pr=P/Pcr;\n",
"Tr=T/Tcr;\n",
"//from chart\n",
"Z=0.84;\n",
"v=Z*v1;\n",
"disp(v,'specific volume of refrigerant-134a under the generalized compressibility chart in m^3/kg');\n",
"e=(v-vgiv)/vgiv;\n",
"disp(e,'an error of');"
   ]
   }
,
{
		   "cell_type": "markdown",
		   "metadata": {},
		   "source": [
			"## Example 3.12: Using_Generalized_Charts_to_Determine_Pressure.sce"
		   ]
		  },
  {
"cell_type": "code",
	   "execution_count": null,
	   "metadata": {
	    "collapsed": true
	   },
	   "outputs": [],
"source": [
"clc;clear;\n",
"//Example 3.12\n",
"\n",
"//given values\n",
"v=0.51431;\n",
"T=600;\n",
"\n",
"//from Table A-1E\n",
"R=0.5956;\n",
"Pcr=3200;\n",
"Tcr=1164.8;\n",
"\n",
"//calculation\n",
"\n",
"//Part A\n",
"//from Table A-6E\n",
"P=1000;//in psia\n",
"disp(P,'from the steam tables in psia');\n",
"\n",
"//Part B\n",
"T=1060;//converted into R from F\n",
"P=R*T/v;\n",
"disp(P,'from the ideal-gas equation in psia');\n",
"\n",
"//Part C\n",
"//calculating the pseudo-reduced specific volume and the reduced temperature\n",
"Vr=v/(R*Tcr/Pcr);\n",
"Tr=T/Tcr;\n",
"//from the compressibility chart\n",
"Pr=0.33;\n",
"P=Pr*Pcr;\n",
"disp(P,'from the generalized compressibility chart. in psia')"
   ]
   }
,
{
		   "cell_type": "markdown",
		   "metadata": {},
		   "source": [
			"## Example 3.13: Different_Methods_of_Evaluating_Gas_Pressure.sce"
		   ]
		  },
  {
"cell_type": "code",
	   "execution_count": null,
	   "metadata": {
	    "collapsed": true
	   },
	   "outputs": [],
"source": [
"clc;clear;\n",
"//Example 3.13\n",
"//Answer of part c-d are having slight difference due to approximation in molar volumne in the textbook which here is caluculated to the approximation of 7 decimal digits\n",
"\n",
"//given values\n",
"T=175;\n",
"v=0.00375;\n",
"Pex=10000;//experimentaion determination\n",
"\n",
"//from Table A-1\n",
"R=0.2968// in kPa m^3/kg K\n",
"\n",
"//calculating\n",
"\n",
"//Part-a\n",
"P=R*T/v;\n",
"disp(round(P),'using the ideal-gas equation of state in kPa')\n",
"e=(P-Pex)/Pex*100;\n",
"disp(e,'error is');\n",
"\n",
"\n",
"//Part-b\n",
"//van der Waals constants from Eq. 3-23\n",
"a=0.175;\n",
"b=0.00138;\n",
"//from van der waal eq.\n",
"P=R*T/(v-b)-a/v^2;\n",
"disp(round(P),'using the van der Waals equation of state,');\n",
"e=(P-Pex)/Pex*100;\n",
"disp(e,'error is');\n",
"\n",
"//Part-c\n",
"//constants in the Beattie-Bridgeman equation from Table 3–4\n",
"A=102.29;\n",
"B=0.05378;\n",
"c=4.2*10^4;\n",
"Ru=8.314;//in kPa m^3/kmol K\n",
"M=28.013;//molecular weight in kg/mol\n",
"vb=M*v;//molar vol.\n",
"P=(Ru*T)/(vb^2)*(1-((c)/(vb*T^3)))*(vb+B)-(A/vb^2);\n",
"disp(round(P),'using the Beattie-Bridgeman equation');\n",
"e=(P-Pex)/Pex*100;\n",
"disp(e,'error is');\n",
"\n",
"//Part-d\n",
"//constants of Benedict-Webb-Rubin equation from Table 3–4\n",
"a=2.54;\n",
"b=0.002328;\n",
"c=7.379*10^4;\n",
"alp=1.272*10^-4;\n",
"Ao=106.73;\n",
"Bo=0.040704;\n",
"Co=8.164*10^5;\n",
"gam=0.0053;\n",
"P= ((Ru*T)/vb) + ( (Bo*Ru*T) - Ao - Co/T^2 )/ vb^2 + (b*Ru*T-a)/vb^3 +( a*alp/vb^6) + (c/(vb^3*T^2)) * (1 + (gam/vb^2)) * exp(-gam/vb^2);\n",
"disp(round(P),'using Benedict-Webb-Rubin equation');\n",
"e=(P-Pex)/Pex*100;\n",
"disp(e,'error is')"
   ]
   }
,
{
		   "cell_type": "markdown",
		   "metadata": {},
		   "source": [
			"## Example 3.14: Temperature_Drop_of_a_Lake_Due_to_Evaporatio.sce"
		   ]
		  },
  {
"cell_type": "code",
	   "execution_count": null,
	   "metadata": {
	    "collapsed": true
	   },
	   "outputs": [],
"source": [
"clc;clear;\n",
"//Example 3.14\n",
"\n",
"//given value\n",
"T=25;\n",
"\n",
"//from table 3-1\n",
"Psat=3.17;//on kPa\n",
"\n",
"//calculations\n",
"\n",
"//Relative Humidity 10%\n",
"Pv1=0.1*Psat\n",
"//Relative Humidity 80%\n",
"Pv2=0.8*Psat\n",
"//Relative Humidity 100%\n",
"Pv3=1*Psat\n",
"\n",
"// from table 3-1 Tsat at these Pressures are\n",
"T1=-8;\n",
"T2=21.2;\n",
"T3=25;\n",
"disp(T1,'With relative humidity 10%the water temp in celcius is');\n",
"disp(T2,'With relative humidity 80% the water temp in celcius is');\n",
"disp(T3,'With relative humidity 100% the water temp in celcius is')"
   ]
   }
,
{
		   "cell_type": "markdown",
		   "metadata": {},
		   "source": [
			"## Example 3.1: Pressure_of_Saturated_Liquid_in_a_Tank.sce"
		   ]
		  },
  {
"cell_type": "code",
	   "execution_count": null,
	   "metadata": {
	    "collapsed": true
	   },
	   "outputs": [],
"source": [
"clc;clear;\n",
"//Example 3.1\n",
"\n",
"//given values\n",
"m=50;\n",
"T=90;\n",
"\n",
"//Values from Table A-4\n",
"P=70.183;//in kPa\n",
"v=0.001036;//in m^3/kg\n",
"\n",
"//calculation\n",
"disp(P,'pressure in the tank in kPa')\n",
"V=m*v;//equating dimensions\n",
"disp(V,'total volumne of tank becomes in m^3')"
   ]
   }
,
{
		   "cell_type": "markdown",
		   "metadata": {},
		   "source": [
			"## Example 3.2: Temperature_of_Saturated_Vapor_in_a_Cylinder.sce"
		   ]
		  },
  {
"cell_type": "code",
	   "execution_count": null,
	   "metadata": {
	    "collapsed": true
	   },
	   "outputs": [],
"source": [
"clc;clear;\n",
"//Example 3.2\n",
"\n",
"//given values\n",
"V=2;\n",
"P=50;\n",
"\n",
"//Values from Table A-5E\n",
"T=280.99;//in F\n",
"v=8.5175;//in ft^3/lbm\n",
"\n",
"//caluclation\n",
"m=V/v;//dimension analysis\n",
"disp(m,'mass of vapour inside cylinder in lbm');\n",
"disp(T,'temp inside cylinder in F')"
   ]
   }
,
{
		   "cell_type": "markdown",
		   "metadata": {},
		   "source": [
			"## Example 3.3: Volume_and_Energy_Change_during_Evaporation.sce"
		   ]
		  },
  {
"cell_type": "code",
	   "execution_count": null,
	   "metadata": {
	    "collapsed": true
	   },
	   "outputs": [],
"source": [
"clc;clear;\n",
"//Example 3.3\n",
"\n",
"// constants used\n",
"Hfg=2257.5;//enthalpy of vaporization in kJ/kg\n",
"\n",
"//given values\n",
"m=200/1000;//converting in kg\n",
"P=100;\n",
"\n",
"//Values from Table A-5\n",
"vg=1.6941;\n",
"vf=0.001043;//specific vol of sat liq and vapor\n",
"\n",
"//caluclation\n",
"vfg=vg-vf;\n",
"V=m*vfg;\n",
"disp(V,'the volume change in m^3');\n",
"E=m*Hfg;\n",
"disp(E,'amount of energy transferred to the water in kJ')"
   ]
   }
,
{
		   "cell_type": "markdown",
		   "metadata": {},
		   "source": [
			"## Example 3.4: Pressure_and_Volume_of_a_Saturated_Mixture.sce"
		   ]
		  },
  {
"cell_type": "code",
	   "execution_count": null,
	   "metadata": {
	    "collapsed": true
	   },
	   "outputs": [],
"source": [
"clc;clear;\n",
"//Example 3.4\n",
"\n",
"//given values\n",
"mt=10;\n",
"mf=8;\n",
"T=90;\n",
"\n",
"//Values from Table A-4\n",
"P=70.183;//in kPa\n",
"vf=0.001036;\n",
"vg=2.3593;\n",
"\n",
"//caluclation\n",
"mg=mt-mf;\n",
"V=mf*vf+mg*vg;// V= Vg + Vf\n",
"disp(V,'the volume of the tank in m^3');\n",
"disp(P,'the pressure in the tank in kPa')"
   ]
   }
,
{
		   "cell_type": "markdown",
		   "metadata": {},
		   "source": [
			"## Example 3.5: Properties_of_Saturated_Liquid_Vapor_Mixture.sce"
		   ]
		  },
  {
"cell_type": "code",
	   "execution_count": null,
	   "metadata": {
	    "collapsed": true
	   },
	   "outputs": [],
"source": [
"clc;clear;\n",
"//Example 3.5\n",
"\n",
"//given values\n",
"m=4;\n",
"V=80/1000;//converting into m^3\n",
"P=160;\n",
"\n",
"//Values from Table A-12\n",
"vf=0.0007437;\n",
"vg=0.12348;\n",
"T=-15.60;\n",
"hf=31.21;\n",
"hfg=209.90;\n",
"\n",
"//caluclation\n",
"v=V/m;\n",
"//vg>v>vf therefore it is a saturated mix\n",
"//hence temp will same as saturation temp\n",
"disp(T,'the temperature in celcius')\n",
"x=(v-vf)/(vg-vf);//x=vg/vfg i.e the dryness fraction\n",
"disp(x,'the quality');\n",
"h=hf+x*hfg;\n",
"disp(h,'the enthalpy of the refrigerant in kJ/kg');\n",
"mg=x*m;\n",
"Vg=mg*vg;\n",
"disp(Vg,'the volume occupied by the vapor phase in m^3')"
   ]
   }
,
{
		   "cell_type": "markdown",
		   "metadata": {},
		   "source": [
			"## Example 3.7: Temperature_of_Superheated_Vapor.sce"
		   ]
		  },
  {
"cell_type": "code",
	   "execution_count": null,
	   "metadata": {
	    "collapsed": true
	   },
	   "outputs": [],
"source": [
"clc;clear;\n",
"//Example 3.7\n",
"\n",
"//given values\n",
"P=0.5;\n",
"h=2890;\n",
"\n",
"//from Table A–6\n",
"//at P=0.5 MPa\n",
"T1=200;\n",
"h1=2855.8;\n",
"T2=250;\n",
"h2=2961.0;\n",
"// we need linear interpolation \n",
"\n",
"//calculatiom\n",
"//by interpolation we cab say that\n",
"//h=h1+(T-T1)/(T2-T1)*(h2-h1)\n",
"//we have to find T\n",
"T=(h-h1)/(h2-h1)*(T2-T1)+T1;\n",
"disp(T,'temperature of water in celcius')"
   ]
   }
,
{
		   "cell_type": "markdown",
		   "metadata": {},
		   "source": [
			"## Example 3.8: Approximating_Compressed_Liquid_as_Saturated_Liquid.sce"
		   ]
		  },
  {
"cell_type": "code",
	   "execution_count": null,
	   "metadata": {
	    "collapsed": true
	   },
	   "outputs": [],
"source": [
"clc;clear;\n",
"//Example 3.8\n",
"\n",
"//given values\n",
"T=80;\n",
"P=5;\n",
"\n",
"//from Table A–7\n",
"//at compressed liq given conditions\n",
"u=333.82;\n",
"\n",
"//from Tablw A-4\n",
"//at saturation\n",
"usat=334.97;\n",
"\n",
"//calcualtion\n",
"e=(usat-u)/u*100;\n",
"disp(u,'internal energy of compressed liquid water using data from the compressed liquid table in kJ/kg ');\n",
"disp(usat,'internal energy of compressed liquid water using saturated liquid data in kJ/kg ');\n",
"disp(e,'the % error involved in the second case is ')"
   ]
   }
,
{
		   "cell_type": "markdown",
		   "metadata": {},
		   "source": [
			"## Example 3.9: The_Use_of_Steam_Tables_to_Determine_Properties.sce"
		   ]
		  },
  {
"cell_type": "code",
	   "execution_count": null,
	   "metadata": {
	    "collapsed": true
	   },
	   "outputs": [],
"source": [
"clc;clear;\n",
"//Example 3.9\n",
"\n",
"//part a\n",
"disp('Part a');\n",
"\n",
"//given values\n",
"P=200;\n",
"x=0.6;\n",
"\n",
"//from Table A-5\n",
"T=120.21;\n",
"uf=504.50;\n",
"ufg=2024.6;\n",
"\n",
"//calcualtions\n",
"u=uf+(x*ufg);\n",
"disp(T,'temperature in Celcius ');\n",
"disp(u,'internal energy in kJ/kg');\n",
"disp('saturated liquid–vapor mixture at a pressure of 200 kPa');\n",
"\n",
"\n",
"//part b\n",
"disp('Part b');\n",
"\n",
"//given values\n",
"T=125;\n",
"u=1600;\n",
"\n",
"//from Table A–4\n",
"uf=524.83;\n",
"ug=2534.3;\n",
"//ug>u>ufg so its aturated liquid–vapor mixture\n",
"P=232.23;\n",
"\n",
"//calculation\n",
"ufg=ug-uf;\n",
"x=(u-uf)/ufg;\n",
"disp(P,'Pressure in kPa');\n",
"disp(x,'x is');\n",
"disp('saturated liquid–vapor mixture at a temp of 125 of celcius');\n",
"\n",
"\n",
"//part c\n",
"disp('Part c');\n",
"\n",
"//given values\n",
"P=1000;\n",
"u=2950;\n",
"\n",
"//from Table A–6\n",
"uf=761.39;\n",
"ug=2582.8;\n",
"//u>ug so its superheated steam\n",
"T=395.2;\n",
"\n",
"//calculation\n",
"disp(T,'temperature in Celcius');\n",
"disp('superheated vapor at 1MPa ');\n",
"\n",
"//part d\n",
"disp('Part d');\n",
"\n",
"//given values\n",
"T=75;\n",
"P=100;\n",
"\n",
"//from Table A–5\n",
"Tsat=151.83;\n",
"//T<Tsat so it is a compressed liquid\n",
"//the given pressure is much lower than the lowest pressure value in the compressed liquid table i.e 5 MPa\n",
"//assuming, the compressed liquid as saturated liquid at the given temperature\n",
"\n",
"//from Table A-4\n",
"u=313.99;\n",
"disp(u,'Internal energy in kJ/kg');\n",
"disp('the compressed liquid condition');\n",
"\n",
"\n",
"//Part e\n",
"disp('Part e');\n",
"\n",
"//given values\n",
"P=850;\n",
"x=0;\n",
"\n",
"//x=0 therefore it is a saturateed liquid condition\n",
"//from Table A-5\n",
"T=172.94;\n",
"u=731.00;\n",
"disp(T,'temperature in Celcius');\n",
"disp(u,'Internal energy in kJ/kg');\n",
"disp('saturateed liquid condition')"
   ]
   }
],
"metadata": {
		  "kernelspec": {
		   "display_name": "Scilab",
		   "language": "scilab",
		   "name": "scilab"
		  },
		  "language_info": {
		   "file_extension": ".sce",
		   "help_links": [
			{
			 "text": "MetaKernel Magics",
			 "url": "https://github.com/calysto/metakernel/blob/master/metakernel/magics/README.md"
			}
		   ],
		   "mimetype": "text/x-octave",
		   "name": "scilab",
		   "version": "0.7.1"
		  }
		 },
		 "nbformat": 4,
		 "nbformat_minor": 0
}
