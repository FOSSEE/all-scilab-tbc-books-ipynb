{
"cells": [
 {
		   "cell_type": "markdown",
	   "metadata": {},
	   "source": [
       "# Chapter 11: Refrigeration Cycles"
	   ]
	},
{
		   "cell_type": "markdown",
		   "metadata": {},
		   "source": [
			"## Example 11.1: The_Ideal_Vapor_Compression_Refrigeration_Cycle.sce"
		   ]
		  },
  {
"cell_type": "code",
	   "execution_count": null,
	   "metadata": {
	    "collapsed": true
	   },
	   "outputs": [],
"source": [
"clc;clear;\n",
"//Example 11.1\n",
"\n",
"//given values\n",
"P1=0.14;\n",
"P2=0.8;\n",
"m=0.05;\n",
"\n",
"//from refrigerant-134a tables\n",
"h1=239.16;\n",
"s1=0.94456;\n",
"h2=275.39;\n",
"h3=95.47;\n",
"\n",
"//calculation\n",
"s2=s1;//isentropic process \n",
"h4=h3;//throttling\n",
"QL=(h1-h4)*m;\n",
"Wm=m*(h2-h1);\n",
"Qh=m*(h2-h3);\n",
"Qh=ceil(Qh);\n",
"COPR=QL/Wm;\n",
"disp(QL,'the rate of heat removal from the refrigerated space in kW');\n",
"disp(Wm,'the power input to the compressor in kW');\n",
"disp(Qh,'the rate of heat rejection to the environment in kW');\n",
"disp(COPR,'the COP of the refrigerator');"
   ]
   }
,
{
		   "cell_type": "markdown",
		   "metadata": {},
		   "source": [
			"## Example 11.2: The_Actual_Vapor_Compression_Refrigeration_Cycle.sce"
		   ]
		  },
  {
"cell_type": "code",
	   "execution_count": null,
	   "metadata": {
	    "collapsed": true
	   },
	   "outputs": [],
"source": [
"clc;clear;\n",
"//Example 11.2\n",
"\n",
"//given data\n",
"m=0.05;\n",
"P1=0.14;\n",
"T1=-10;\n",
"P2=0.8;\n",
"T2=50;\n",
"P3=0.72;\n",
"T3=26;\n",
"\n",
"//from refrigerant tables\n",
"h1=246.36;\n",
"h2=286.69;\n",
"h3=87.83;\n",
"h2S=284.21;//at isentropic conditions\n",
"\n",
"//calculations\n",
"h4=h3;//throttling\n",
"QL=m*(h1-h4);\n",
"Wm=m*(h2-h1);\n",
"nC=(h2S-h1)/(h2-h1);\n",
"COPR=QL/Wm;\n",
"disp(QL,'the rate of heat removal from the refrigerated space in kW');\n",
"disp(Wm,'the power input to the compressor in kW');\n",
"disp(nC,'the isentropic efficiency of the compressor');\n",
"disp(COPR,'he coefficient of performance of the refrigerator');"
   ]
   }
,
{
		   "cell_type": "markdown",
		   "metadata": {},
		   "source": [
			"## Example 11.3: A_Two_Stage_Cascade_Refrigeration_Cycle.sce"
		   ]
		  },
  {
"cell_type": "code",
	   "execution_count": null,
	   "metadata": {
	    "collapsed": true
	   },
	   "outputs": [],
"source": [
"clc;clear;\n",
"//Example 11.3\n",
"\n",
"//given data\n",
"mA=0.05;\n",
"P1=0.14;\n",
"P5=0.32;\n",
"P7=0.8;\n",
"h1=239.16;\n",
"h2=255.93;\n",
"h3=55.16;\n",
"h5=251.88;\n",
"h6=270.92;\n",
"h7=95.47;\n",
"\n",
"//calculations\n",
"h4=h3;//throttling\n",
"h8=h7;//throttling\n",
"// E out = E in\n",
"// mA*h5 + mB*h3 = mA*h8 + mB*h2\n",
"mB=mA*(h5-h8)/(h2-h3);\n",
"QL=mB*(h1-h4);\n",
"// W in = Wcomp I,in + Wcomp II,in\n",
"Win=mA*(h6-h5)+mB*(h2-h1);\n",
"COPR=QL/Win;\n",
"disp(mB,'the mass flow rate of the refrigerant through the lower cycle in kg/s');\n",
"disp(QL,'the rate of heat removal from the refrigerated space in kW');\n",
"disp(Win,'the power input to the compressor in kW');\n",
"disp(COPR,'the coefficient of performance of this cascade refrigerator');"
   ]
   }
,
{
		   "cell_type": "markdown",
		   "metadata": {},
		   "source": [
			"## Example 11.4: A_Two_Stage_Refrigeration_Cycle_with_a_Flash_Chamber.sce"
		   ]
		  },
  {
"cell_type": "code",
	   "execution_count": null,
	   "metadata": {
	    "collapsed": true
	   },
	   "outputs": [],
"source": [
"clc;clear;\n",
"//Example 11.4\n",
"\n",
"//given data\n",
"P1=0.14;\n",
"P5=0.32;\n",
"P7=0.8;\n",
"h1=239.16;\n",
"h2=255.93;\n",
"h3=251.88;\n",
"h5=95.47;\n",
"h7=55.16;\n",
"\n",
"//from saturated liquid-vapour table\n",
"//at P=0.32 MPa\n",
"hf=55.16;\n",
"hfg=196.71;\n",
"\n",
"//calculations\n",
"h8=h7;//throttling\n",
"h6=h5;//throttling\n",
"//the quality at state 6\n",
"x6=(h6-hf)/hfg;\n",
"qL=(1-x6)*(h1-h8);\n",
"// W in = Wcomp I,in + Wcomp II,in\n",
"//enthalaoy at state 9\n",
"// E out = E in\n",
"h9=x6*h3+(1-x6)*h2;\n",
"// s9 = s4 i.e isentropic process\n",
"//at 0.8MPa and s4=0.9416 kJ/kg\n",
"h4=274.48;\n",
"Win=(1-x6)*(h2-h1)+(1)*(h4-h9);\n",
"COPR=qL/Win;\n",
"disp(x6,'the fraction of the refrigerant that evaporates as it is throttled to the flash chamber');\n",
"disp(qL,'the amount of heat removed from the refrigerated space in kJ/kg');\n",
"disp(Win,'the compressor work per unit mass of refrigerant flowing through the condensor in kJ/kg');\n",
"disp(COPR,'the coefficient of performance');"
   ]
   }
,
{
		   "cell_type": "markdown",
		   "metadata": {},
		   "source": [
			"## Example 11.5: The_Simple_Ideal_Gas_Refrigeration_Cycle.sce"
		   ]
		  },
  {
"cell_type": "code",
	   "execution_count": null,
	   "metadata": {
	    "collapsed": true
	   },
	   "outputs": [],
"source": [
"clc;clear;\n",
"//Example 11.5\n",
"\n",
"//given data\n",
"m=0.1;\n",
"T1=0+460;\n",
"T3=80+460;//converting into R from F\n",
"\n",
"//from Table A–17E\n",
"// at T1\n",
"h1=109.90;\n",
"Pr1=.7913;\n",
"//pressure ratio at compressor is 4\n",
"Pr2=4*Pr1;\n",
"//at Pr2\n",
"h2=163.5;\n",
"T2=683;\n",
"//at T3\n",
"h3=129.06;\n",
"Pr3=1.3860;\n",
"//pressure ratio at compressor is 4\n",
"Pr4=Pr3/4;\n",
"//at Pr4\n",
"h4=86.7;\n",
"T4=363;\n",
"\n",
"//calculations\n",
"qL=h1-h4;\n",
"Wout=h3-h4;\n",
"Win=h2-h1;\n",
"COPR=qL/(Win-Wout);\n",
"Qrefrig=m*qL;\n",
"disp((T4-460),'the minimum temperatures in the cycle in F');\n",
"disp((T2-460),'the maximum temperatures in the cycle in F');\n",
"disp(COPR,'the coefficient of performance');\n",
"disp(Qrefrig,'the rate of refrigeration for a mass flow rate of 0.1 lbm/s. in Btu/s')"
   ]
   }
,
{
		   "cell_type": "markdown",
		   "metadata": {},
		   "source": [
			"## Example 11.6: Cooling_of_a_Canned_Drink_by_a_Thermoelectric_Refrigerator.sce"
		   ]
		  },
  {
"cell_type": "code",
	   "execution_count": null,
	   "metadata": {
	    "collapsed": true
	   },
	   "outputs": [],
"source": [
"clc;clear;\n",
"//Example 11.6\n",
"\n",
"//given data\n",
"COPR=0.1;\n",
"T1=20;\n",
"T2=4;\n",
"t=30*60;//converted in sec\n",
"V=0.350;\n",
"\n",
"//constants used\n",
"p=1;//on kg/L\n",
"c=4.18;//in kJ/kg-C from Table A-3\n",
"\n",
"//calculations\n",
"m=p*V;\n",
"Qcooling=m*c*(T1-T2)/t*1000;//converted in W by multiplying by 1000\n",
"Win=Qcooling/COPR;\n",
"Win=floor(Win);\n",
"disp(Win,'the average electric power consumed by the thermoelectric refrigerator in W')"
   ]
   }
],
"metadata": {
		  "kernelspec": {
		   "display_name": "Scilab",
		   "language": "scilab",
		   "name": "scilab"
		  },
		  "language_info": {
		   "file_extension": ".sce",
		   "help_links": [
			{
			 "text": "MetaKernel Magics",
			 "url": "https://github.com/calysto/metakernel/blob/master/metakernel/magics/README.md"
			}
		   ],
		   "mimetype": "text/x-octave",
		   "name": "scilab",
		   "version": "0.7.1"
		  }
		 },
		 "nbformat": 4,
		 "nbformat_minor": 0
}
