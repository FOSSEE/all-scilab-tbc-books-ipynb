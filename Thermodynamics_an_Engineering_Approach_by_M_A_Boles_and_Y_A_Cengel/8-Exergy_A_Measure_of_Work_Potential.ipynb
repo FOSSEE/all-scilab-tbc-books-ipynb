{
"cells": [
 {
		   "cell_type": "markdown",
	   "metadata": {},
	   "source": [
       "# Chapter 8: Exergy A Measure of Work Potential"
	   ]
	},
{
		   "cell_type": "markdown",
		   "metadata": {},
		   "source": [
			"## Example 8.10: Exergy_Destruction_during_Heat_Conduction.sce"
		   ]
		  },
  {
"cell_type": "code",
	   "execution_count": null,
	   "metadata": {
	    "collapsed": true
	   },
	   "outputs": [],
"source": [
"clc;clear;\n",
"//Example 8.10\n",
"\n",
"//given values\n",
"Q=1035;\n",
"T0=273;\n",
"Tin=293;\n",
"Tout=278;\n",
"T1=300;\n",
"\n",
"//calculations\n",
"//Xin - Xout - Xdestroyed = dX/dt\n",
"Xdestroyed=Q*(1-T0/Tin)-Q*(1-T0/Tout);\n",
"Xdestroyed=round(Xdestroyed);\n",
"disp(Xdestroyed,'the rate of exergy destroyed in W');\n",
"//the total rate of exergy destroyed\n",
"Xdestroyed=Q*(1-T0/T1)-Q*(1-T0/T0);\n",
"disp(Xdestroyed,'the otal total of exergy destroyed in W');"
   ]
   }
,
{
		   "cell_type": "markdown",
		   "metadata": {},
		   "source": [
			"## Example 8.11: Exergy_Destruction_during_Expansion_of_Steam.sce"
		   ]
		  },
  {
"cell_type": "code",
	   "execution_count": null,
	   "metadata": {
	    "collapsed": true
	   },
	   "outputs": [],
"source": [
"clc;clear;\n",
"//Example 8.11\n",
"\n",
"//given data\n",
"m=0.05;\n",
"P1=1000;\n",
"T1=300+273;//in K\n",
"P2=200;\n",
"T2=150+273;//in K\n",
"P0=100;\n",
"T0=25+273;//in K\n",
"Qout=2;\n",
"\n",
"//from Table A-6 & A-4\n",
"u1=2793.7;\n",
"v1=0.25799;\n",
"s1=7.1246;\n",
"u2=2577.1;\n",
"v2=0.95986;\n",
"s2=7.2810;\n",
"u0=104.83;\n",
"v0=0.00103;\n",
"s0=0.3672;\n",
"\n",
"//calculations\n",
"X1=m*(u1-u0-T0*(s1-s0)+P0*(v1-v0));\n",
"X2=m*(u2-u0-T0*(s2-s0)+P0*(v2-v0));\n",
"disp(X1,'exergy of intial state in kJ');\n",
"disp(X2,'exergy of final state in kJ');\n",
"dX=X2-X1;\n",
"disp(dX,'exergy change in system in kJ');\n",
"Wout=-Qout-m*(u2-u1);\n",
"Wu=Wout-P0*m*(v2-v1);\n",
"Xdestroyed=X1-X2-Wu;\n",
"disp(Xdestroyed,'the exergy destroyed in kJ');\n",
"nII=Wu/(X1-X2);\n",
"disp(nII,'second law efficiency of this process')"
   ]
   }
,
{
		   "cell_type": "markdown",
		   "metadata": {},
		   "source": [
			"## Example 8.12: Exergy_Destroyed_during_Stirring_of_a_Gas.sce"
		   ]
		  },
  {
"cell_type": "code",
	   "execution_count": null,
	   "metadata": {
	    "collapsed": true
	   },
	   "outputs": [],
"source": [
"clc;clear;\n",
"//Example 8.12\n",
"\n",
"//given data\n",
"m=2;\n",
"T0=70+460;//in R\n",
"P1=20;\n",
"T1=70+460;//in R\n",
"T2=130+460;//in R\n",
"\n",
"//constants used\n",
"Cv=0.172;//in Btu/lbm - F\n",
"\n",
"//calculations\n",
"Xdestroyed=T0*m*Cv*log(T2/T1);\n",
"disp(Xdestroyed,'exergy destroyed in Btu');\n",
"Wrev=integrate('(1-T0/T)*m*Cv','T',T1,T2);\n",
"Wrev=round(Wrev);\n",
"disp(Wrev,'the reversible work in Btu')"
   ]
   }
,
{
		   "cell_type": "markdown",
		   "metadata": {},
		   "source": [
			"## Example 8.13: Dropping_a_Hot_Iron_Block_into_Water.sce"
		   ]
		  },
  {
"cell_type": "code",
	   "execution_count": null,
	   "metadata": {
	    "collapsed": true
	   },
	   "outputs": [],
"source": [
"clc;clear;\n",
"//Example 8.13\n",
"\n",
"//given data\n",
"T0=20+273;//in K\n",
"P0=100;\n",
"Tiw=30+273;//in K\n",
"mw=100;\n",
"Tii=350+273;//in K\n",
"mi=5;\n",
"\n",
"//constants used(Table A-3)\n",
"cw=4.18;//in kJ/kg C\n",
"ci=0.45;//in kJ/kg C\n",
"\n",
"//calculations\n",
"Tfk=(mi*ci*Tii+mw*cw*Tiw)/(mw*cw+mi*ci);\n",
"Tfc=Tfk-273;//in C\n",
"disp(Tfc,'the final equilibrium temperature in C');\n",
"X1i=mi*ci*(Tii-T0-T0*log(Tii/T0));\n",
"X1w=mw*cw*(Tiw-T0-T0*log(Tiw/T0));\n",
"X1t=X1i+X1w;//total exergy \n",
"disp(X1t,'intial exergy of combined systems in kJ');\n",
"X2i=mi*ci*(Tfk-T0-T0*log(Tfk/T0));\n",
"X2w=mw*cw*(Tfk-T0-T0*log(Tfk/T0));\n",
"X2t=X2i+X2w;//total exergy \n",
"disp(X2t,'intial exergy of combined systems in kJ');\n",
"Xdestroyed=X1t-X2t;\n",
"disp(Xdestroyed,'the wasted work in kJ')"
   ]
   }
,
{
		   "cell_type": "markdown",
		   "metadata": {},
		   "source": [
			"## Example 8.14: Exergy_Destruction_during_Heat_Transfer_to_a_Gas.sce"
		   ]
		  },
  {
"cell_type": "code",
	   "execution_count": null,
	   "metadata": {
	    "collapsed": true
	   },
	   "outputs": [],
"source": [
"clc;clear;\n",
"//Example 8.14\n",
"\n",
"//given data\n",
"TR=1200;\n",
"T0=300;\n",
"P0=100;\n",
"Tsys=400;\n",
"P1=350;\n",
"V1=0.01;\n",
"V2=2*V1;    \n",
"\n",
"//calculations\n",
"W=P1*V1*log(V2/V1);\n",
"Wsurr=P0*(V2-V1);\n",
"Wu=W-Wsurr;\n",
"disp(Wu,'the useful work output in kJ');\n",
"// Qin - W = m*Cv*dT, Since dt=0\n",
"Q=W;\n",
"Sgen=Q/Tsys-Q/TR;\n",
"Xdestroyed=T0*Sgen;\n",
"disp(Xdestroyed,'the exergy destroyed in kJ/K');\n",
"Wrev=T0*Q/Tsys-Wsurr+(1-T0/TR)*Q;\n",
"disp(Wrev,'the reversible work is done in the process in kJ');"
   ]
   }
,
{
		   "cell_type": "markdown",
		   "metadata": {},
		   "source": [
			"## Example 8.15: Second_Law_Analysis_of_a_Steam_Turbine.sce"
		   ]
		  },
  {
"cell_type": "code",
	   "execution_count": null,
	   "metadata": {
	    "collapsed": true
	   },
	   "outputs": [],
"source": [
"clc;clear;\n",
"//Example 8.15\n",
"//calculation error in textbook in part - b which changes all the following answers\n",
"\n",
"//given data\n",
"m=8;\n",
"T0=25+273;//in K\n",
"P0=100;\n",
"P1=3000;\n",
"T1=450;\n",
"P2=200;\n",
"T2=150;\n",
"Qout=300;\n",
"\n",
"//from Table A-6 and A-4\n",
"h1=3344.9;\n",
"s1=7.0856;\n",
"h2=2769.1;\n",
"s2=7.2810;\n",
"h0=104.83;\n",
"s0=0.3672;\n",
"\n",
"//calculations\n",
"// Ein = Eout\n",
"Wout=m*(h1-h2)-Qout;\n",
"disp(Wout,'the actual power output in kW');\n",
"// Xin = Xout\n",
"Wrev=m*((h1-h2)-T0*(s1-s2));\n",
"disp(Wrev,'the maximum possible work output in kW');\n",
"nII=Wout/Wrev;\n",
"disp(nII,'second law efficiency');\n",
"Xdestroyed=Wrev-Wout;\n",
"disp(Xdestroyed,'the exergy destroyed in kW');\n",
"X1=h1-h0-T0*(s1-s0);\n",
"disp(X1,'the exergy of the steam at inlet conditions in kJ/kg')"
   ]
   }
,
{
		   "cell_type": "markdown",
		   "metadata": {},
		   "source": [
			"## Example 8.16: Exergy_Destroyed_during_Mixing_of_Fluid_Streams.sce"
		   ]
		  },
  {
"cell_type": "code",
	   "execution_count": null,
	   "metadata": {
	    "collapsed": true
	   },
	   "outputs": [],
"source": [
"clc;clear;\n",
"//Example 18.16\n",
"\n",
"//given data\n",
"T0=70+460;\n",
"T1=50;\n",
"T2=240;\n",
"T3=130;\n",
"//as dicussed in example 7-20\n",
"m1=300;\n",
"m2=22.7;\n",
"m3=322.7;\n",
"\n",
"//from steam tables\n",
"h1=18.07;\n",
"s1=0.03609;\n",
"h2=1162.3;\n",
"s2=1.7406;\n",
"h3=97.99;\n",
"s3=0.18174;\n",
"\n",
"//calculations\n",
"Wrev=m1*(h1-T0*s1)+m2*(h2-T0*s2)-m3*(h3-T0*s3);\n",
"Wrev=round(Wrev);\n",
"disp(Wrev,'the reversible power in Btu/min')\n",
"Xdestroyed=Wrev;\n",
"disp(Xdestroyed,'the rate of exergy destruction in Btu/min')"
   ]
   }
,
{
		   "cell_type": "markdown",
		   "metadata": {},
		   "source": [
			"## Example 8.17: Charging_a_Compressed_Air_Storage_System.sce"
		   ]
		  },
  {
"cell_type": "code",
	   "execution_count": null,
	   "metadata": {
	    "collapsed": true
	   },
	   "outputs": [],
"source": [
"clc;clear;\n",
"//Example 8.17\n",
"//given data\n",
"V=200;\n",
"P1=100;\n",
"P2=1000;\n",
"P0=100;\n",
"T=300;\n",
"//constants used\n",
"R=0.287;//in kPa m^3/kg K\n",
"//calculations\n",
"//Xin - Xout = Xdestroyed = X2 - X1\n",
"m2=P2*V/(R*T);\n",
"X2=R*T*(log(P2/P0)+P0/P2-1);\n",
"Wrev=m2*X2/1000;\n",
"Wrev=round(Wrev);\n",
"disp(Wrev,'Work requirement in MJ')"
   ]
   }
,
{
		   "cell_type": "markdown",
		   "metadata": {},
		   "source": [
			"## Example 8.1: Maximum_Power_Generation_by_a_Wind_Turbine.sce"
		   ]
		  },
  {
"cell_type": "code",
	   "execution_count": null,
	   "metadata": {
	    "collapsed": true
	   },
	   "outputs": [],
"source": [
"clc;clear;\n",
"// Example 8.1\n",
"\n",
"// given data\n",
"D=12;\n",
"V=10;\n",
"\n",
"// density of air at 25C & 1atm\n",
"p=1.18;\n",
"\n",
"//calculations\n",
"ke=(V^2)/2/1000;//factor of 1000 for converting J into kJ\n",
"m=p*%pi*[D ^2]*V/4; \n",
"MP=m*(ke);\n",
"disp(MP,'Maximum power in kW')"
   ]
   }
,
{
		   "cell_type": "markdown",
		   "metadata": {},
		   "source": [
			"## Example 8.2: Exergy_Transfer_from_a_Furnace.sce"
		   ]
		  },
  {
"cell_type": "code",
	   "execution_count": null,
	   "metadata": {
	    "collapsed": true
	   },
	   "outputs": [],
"source": [
"clc;clear;\n",
"//Example 8.2\n",
"\n",
"//given values\n",
"TH=2000;\n",
"T0=77+460;//in R\n",
"Qin=3000;\n",
"\n",
"//calculation\n",
"nth=1-(T0/TH);\n",
"Wmax=nth*Qin;\n",
"Wmax=round(Wmax)\n",
"disp(Wmax,'the rate of energy flow in Btu/s')"
   ]
   }
,
{
		   "cell_type": "markdown",
		   "metadata": {},
		   "source": [
			"## Example 8.3: The_Rate_of_Irreversibility_of_a_Heat_Engine.sce"
		   ]
		  },
  {
"cell_type": "code",
	   "execution_count": null,
	   "metadata": {
	    "collapsed": true
	   },
	   "outputs": [],
"source": [
"clc;clear;\n",
"//Example 8.3\n",
"\n",
"//given data\n",
"Tsink=300;\n",
"Tsource=1200;\n",
"Qin=500;\n",
"Wuout=180;\n",
"\n",
"//calculations\n",
"Wrev=(1-Tsink/Tsource)*Qin;\n",
"disp(Wrev,'The reversible power in kW');\n",
"I=Wrev-Wuout;\n",
"disp(I,'the irreversiblity rate in kW')"
   ]
   }
,
{
		   "cell_type": "markdown",
		   "metadata": {},
		   "source": [
			"## Example 8.4: Irreversibility_during_the_Cooling_of_an_Iron_Block.sce"
		   ]
		  },
  {
"cell_type": "code",
	   "execution_count": null,
	   "metadata": {
	    "collapsed": true
	   },
	   "outputs": [],
"source": [
"clc;clear;\n",
"//Example 8.4\n",
"\n",
"//given data\n",
"m=500;\n",
"T1=473;\n",
"T0=300;\n",
"Wu=0;\n",
"\n",
"//from Table A-3\n",
"cavg=0.45;\n",
"\n",
"//calculations\n",
"Wrev=integrate('(1-T0/T)*(-m*cavg)','T',T1,T0);//intergrant\n",
"Wrev=floor(Wrev);\n",
"disp(Wrev,'The reversible power in kJ');\n",
"I=Wrev-Wu;\n",
"disp(I,'the irreversiblity rate in kJ');"
   ]
   }
,
{
		   "cell_type": "markdown",
		   "metadata": {},
		   "source": [
			"## Example 8.5: Heating_Potential_of_a_Hot_Iron_Block.sce"
		   ]
		  },
  {
"cell_type": "code",
	   "execution_count": null,
	   "metadata": {
	    "collapsed": true
	   },
	   "outputs": [],
"source": [
"clc;clear;\n",
"//Example 8.5\n",
"\n",
"//given data\n",
"Wrev=8191;\n",
"Wtotal=38925;\n",
"TL=278;\n",
"TH=300;\n",
"\n",
"//calculations\n",
"Wrm=Wtotal-Wrev;//work remaining\n",
"COPHP=1/(1-TL/TH);\n",
"Wd=COPHP*Wrev;//work delivered\n",
"PS=Wd+Wrm;\n",
"PS=round(PS/1000);//factor of 1000 for converting kJ into MJ\n",
"disp(PS,'Maximum amount of heat in MJ')"
   ]
   }
,
{
		   "cell_type": "markdown",
		   "metadata": {},
		   "source": [
			"## Example 8.6: Second_Law_Efficiency_of_Resistance_Heaters.sce"
		   ]
		  },
  {
"cell_type": "code",
	   "execution_count": null,
	   "metadata": {
	    "collapsed": true
	   },
	   "outputs": [],
"source": [
"clc;clear;\n",
"//Example 8.6\n",
"\n",
"//given data\n",
"COP=1;\n",
"TL=283;//in K\n",
"TH=294;//in K\n",
"\n",
"//calculations\n",
"COPHP=1/(1-TL/TH);\n",
"nII=COP/COPHP;\n",
"disp(nII,'the second law efficiency')"
   ]
   }
,
{
		   "cell_type": "markdown",
		   "metadata": {},
		   "source": [
			"## Example 8.7: Work_Potential_of_Compressed_Air_in_a_Tank.sce"
		   ]
		  },
  {
"cell_type": "code",
	   "execution_count": null,
	   "metadata": {
	    "collapsed": true
	   },
	   "outputs": [],
"source": [
"clc;clear;\n",
"//Example 8.7\n",
"\n",
"//given data\n",
"P1=1000;\n",
"V=200;\n",
"T1=300;\n",
"T0=T1;\n",
"P0=100;\n",
"\n",
"//constants used\n",
"R=0.287;//in kPa m^3/kg K\n",
"\n",
"//calculations\n",
"m1=P1*V/(R*T1);\n",
"O1=R*T0*(P0/P1-1)+R*T0*log(P1/P0);// O refers to exergy\n",
"X1=m1*O1/1000;//factor of 1000 for converting kJ into MJ\n",
"X1=round(X1);\n",
"disp(X1,'work obtained in MJ')"
   ]
   }
,
{
		   "cell_type": "markdown",
		   "metadata": {},
		   "source": [
			"## Example 8.8: Exergy_Change_during_a_Compression_Process.sce"
		   ]
		  },
  {
"cell_type": "code",
	   "execution_count": null,
	   "metadata": {
	    "collapsed": true
	   },
	   "outputs": [],
"source": [
"clc;clear;\n",
"//Example 8.8\n",
"\n",
"//given data\n",
"T0=20+273;//in K\n",
"P1=0.14;\n",
"T1=-10;\n",
"P2=0.8;\n",
"T2=50;\n",
"\n",
"//the properties of refrigerant\n",
"//at inlet\n",
"h1=246.36;\n",
"s1=0.9724;\n",
"//at outlet\n",
"h2=286.69;\n",
"s2=0.9802;\n",
"dO=h2-h1-T0*(s2-s1);// O refers to exergy\n",
"dO=round(dO);\n",
"disp(dO,'the exergy change of the refrigerant in kJ/kg')\n",
"wmin=dO;\n",
"disp(wmin,'the minimum work input that needs to be supplied is in kJ/kg')"
   ]
   }
],
"metadata": {
		  "kernelspec": {
		   "display_name": "Scilab",
		   "language": "scilab",
		   "name": "scilab"
		  },
		  "language_info": {
		   "file_extension": ".sce",
		   "help_links": [
			{
			 "text": "MetaKernel Magics",
			 "url": "https://github.com/calysto/metakernel/blob/master/metakernel/magics/README.md"
			}
		   ],
		   "mimetype": "text/x-octave",
		   "name": "scilab",
		   "version": "0.7.1"
		  }
		 },
		 "nbformat": 4,
		 "nbformat_minor": 0
}
