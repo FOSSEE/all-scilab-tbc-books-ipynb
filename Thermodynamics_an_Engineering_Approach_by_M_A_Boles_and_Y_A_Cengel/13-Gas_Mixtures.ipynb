{
"cells": [
 {
		   "cell_type": "markdown",
	   "metadata": {},
	   "source": [
       "# Chapter 13: Gas Mixtures"
	   ]
	},
{
		   "cell_type": "markdown",
		   "metadata": {},
		   "source": [
			"## Example 13.1: Mass_and_Mole_Fractions_of_a_Gas_Mixture.sce"
		   ]
		  },
  {
"cell_type": "code",
	   "execution_count": null,
	   "metadata": {
	    "collapsed": true
	   },
	   "outputs": [],
"source": [
"clc;clear;\n",
"//Example  13.1\n",
"\n",
"//given data\n",
"mO2=3;\n",
"mN2=5;\n",
"mCH4=12;\n",
"//molecular masses\n",
"MO2=32;\n",
"MN2=28;\n",
"MCH4=16;\n",
"\n",
"//constants used\n",
"Ru=8.314;//in kJ/kg - K\n",
"\n",
"//calculations\n",
"\n",
"//part - a\n",
"mm=mO2+mN2+mCH4;\n",
"mfO2=mO2/mm;\n",
"mfN2=mN2/mm;\n",
"mfCH4=mCH4/mm;\n",
"disp(mfO2,'mass fraction of oxygen is');\n",
"disp(mfN2,'mass fraction of nitrogen is');\n",
"disp(mfCH4,'mass fraction of methane is');\n",
"\n",
"//part - b\n",
"NO2=mO2/MO2;\n",
"NN2=mN2/MN2;\n",
"NCH4=mCH4/MCH4;\n",
"Nm=NO2+NN2+NCH4;\n",
"yO2=NO2/Nm;\n",
"yN2=NN2/Nm;\n",
"yCH4=NCH4/Nm;\n",
"disp(yO2,'mole fraction of oxygen is');\n",
"disp(yN2,'mole fraction of nitrogen is');\n",
"disp(yCH4,'mole fraction of methane is');\n",
"\n",
"//part - c\n",
"Mm=mm/Nm;\n",
"disp(Mm,'average molecular mass in kg/kmol');\n",
"Rm=Ru/Mm;\n",
"disp(Rm,'gas constant of mixture in kJ/kg - K')"
   ]
   }
,
{
		   "cell_type": "markdown",
		   "metadata": {},
		   "source": [
			"## Example 13.2: P_v_T_Behavior_of_Nonideal_Gas_Mixtures.sce"
		   ]
		  },
  {
"cell_type": "code",
	   "execution_count": null,
	   "metadata": {
	    "collapsed": true
	   },
	   "outputs": [],
"source": [
"clc;clear;\n",
"//Example 13.2\n",
"\n",
"//given data\n",
"NN2=2;\n",
"NCO2=6;\n",
"Tm=300;\n",
"Pm=15000;\n",
"\n",
"//constants used\n",
"Ru=8.314;//in kJ/kmol - K\n",
"\n",
"//calculations\n",
"\n",
"//part - a\n",
"Nm=NN2+NCO2;\n",
"Vm=Nm*Ru*Tm/Pm;\n",
"disp(Vm,'the volume of the tank on the basis of the ideal-gas equation of state in m^3');\n",
"\n",
"//part - b\n",
"//from Table A-1\n",
"//for nitrogen\n",
"TcrN=126.2;\n",
"PcrN=3390;\n",
"//for Carbondioxide\n",
"TcrC=304.2;\n",
"PcrC=7390;\n",
"yN2=NN2/Nm;\n",
"yCO2=NCO2/Nm;\n",
"Tcr=yN2*TcrN+yCO2*TcrC;\n",
"Pcr=yN2*PcrN+yCO2*PcrC;\n",
"Tr=Tm/Tcr;\n",
"Pr=Pm/Pcr;\n",
"//from Fig A-15b\n",
"Zm=0.49;\n",
"Vm=Zm*Nm*Ru*Tm/Pm;\n",
"disp(Vm,'the volume of the tank on the basis Kay’s rule in m^3');\n",
"\n",
"//part - c\n",
"//for nitrogen\n",
"TrN=Tm/TcrN;\n",
"PrN=Pm/PcrN;\n",
"//from Fig A-15b\n",
"Zn=1.02;\n",
"//for Carbondioxide\n",
"TrC=Tm/TcrC;\n",
"PcrC=Pm/PcrC;\n",
"//from Fig A-15b\n",
"Zc=0.3;\n",
"Zm=yN2*Zn+yCO2*Zc;\n",
"Vm=Zm*Nm*Ru*Tm/Pm;\n",
"disp(Vm,'the volume of the tank on the basis compressibility factors and Amagat’s law in m^3');\n",
"\n",
"//part - d\n",
"VRN=(Vm/NN2)/(Ru*TcrN/PcrN);\n",
"VRC=(Vm/NCO2)/(Ru*TcrC/PcrC);\n",
"//from Fig A-15b\n",
"Zn=0.99;\n",
"Zc=0.56;\n",
"Zm=yN2*Zn+yCO2*Zc;\n",
"Vm=Zm*Nm*Ru*Tm/Pm;\n",
"//When the calculations are repeated we obtain 0.738 m3 after the second iteration, 0.678 m3 after the third iteration, and 0.648 m3 after the fourth iteration.\n",
"Vm=0.648;\n",
"disp(Vm,'compressibility factors and Dalton’s law the volume of the tank on the basis in m^3');"
   ]
   }
,
{
		   "cell_type": "markdown",
		   "metadata": {},
		   "source": [
			"## Example 13.3: Mixing_Two_Ideal_Gases_in_a_Tank.sce"
		   ]
		  },
  {
"cell_type": "code",
	   "execution_count": null,
	   "metadata": {
	    "collapsed": true
	   },
	   "outputs": [],
"source": [
"clc;clear;\n",
"//Example 13.3\n",
"\n",
"//given data\n",
"mN=4;\n",
"T1N=20;\n",
"P1N=150;\n",
"mO=7;\n",
"T1O=40;\n",
"P1O=100;\n",
"//molecular masses\n",
"MO=32;\n",
"MN=28;\n",
"\n",
"//constants used\n",
"Ru=8.314;//in kJ/kg - K\n",
"\n",
"\n",
"//from Table A-2a\n",
"CvN=0.743;\n",
"CvO=0.658;\n",
"\n",
"//calculations\n",
"\n",
"//part - a\n",
"//Ein - Eout = dEsystem\n",
"// (m*cv*dT)N2 + (m*cv*dT)= 0;\n",
"Tm= (mN*CvN*T1N+ mO*CvO*T1O)/(mN*CvN+mO*CvO);\n",
"disp(Tm,'the mixture temperature in C');\n",
"\n",
"//part - b\n",
"NO=mO/MO;\n",
"NN=mN/MN;\n",
"Nm=NO+NN;\n",
"VO=NO*Ru*(T1O+273)/P1O;\n",
"VN=NN*Ru*(T1N+273)/P1N;\n",
"Vm=VO+VN;\n",
"Pm=Nm*Ru*(Tm+273)/Vm;  \n",
"disp(Pm,'the mixture pressure after equilibrium has been established in kPa')"
   ]
   }
,
{
		   "cell_type": "markdown",
		   "metadata": {},
		   "source": [
			"## Example 13.4: EX13_4.sce"
		   ]
		  },
  {
"cell_type": "code",
	   "execution_count": null,
	   "metadata": {
	    "collapsed": true
	   },
	   "outputs": [],
"source": [
"clc;clear;\n",
"//Example 13.4\n",
"\n",
"//given data\n",
"NO=3;\n",
"NC=5;//moles of oxygen and carbondioxide repesctively\n",
"T0=25+273;//in K\n",
"\n",
"//constants used\n",
"Ru=8.314;//in kJ/kg - K\n",
"\n",
"//calculations\n",
"Nm=NO+NC;\n",
"yO=NO/Nm;\n",
"yC=NC/Nm;\n",
"//dSm= -Ru*(NO*log(yO)+NC*log(yC))\n",
"Sm=-Ru*(NO*log(yO)+NC*log(yC));\n",
"disp(Sm,'the entropy change in kJ/K');\n",
"Xdestroyed=T0*Sm/1000;\n",
"disp(Xdestroyed,'exergy destruction associated in MJ')"
   ]
   }
,
{
		   "cell_type": "markdown",
		   "metadata": {},
		   "source": [
			"## Example 13.5: Cooling_of_a_Nonideal_Gas_Mixture.sce"
		   ]
		  },
  {
"cell_type": "code",
	   "execution_count": null,
	   "metadata": {
	    "collapsed": true
	   },
	   "outputs": [],
"source": [
"clc;clear;\n",
"//Example 13.5\n",
"\n",
"//given data\n",
"T1=220;\n",
"T2=160;\n",
"Pm=10;\n",
"yN=0.79;\n",
"yO=0.21;//mole fractions of nitrogen and oxygen repesctively\n",
"//critical properties\n",
"//for Nitrogen\n",
"TcrN=126.2;\n",
"PcrN=3.39;\n",
"//for Oxygen\n",
"TcrO=154.8;\n",
"PcrO=5.08;\n",
"\n",
"//constants used\n",
"Ru=8.314;//in kJ/kg - K\n",
"\n",
"//from Tables A-18 & 19\n",
"//at T1\n",
"h1N=6391;\n",
"h1O=6404;\n",
"//for T2\n",
"h2N=4648;\n",
"h2O=4657;\n",
"\n",
"//calculations\n",
"//part - a\n",
"qouti=yN*(h1N-h2N)+yO*(h1O-h2O);\n",
"qouti=ceil(qouti);\n",
"disp(qouti,'the heat transfer during this process using the ideal-gas approximation in kJ/kmol');\n",
"\n",
"//part - b\n",
"Tcrm=yN*TcrN+yO*TcrO;\n",
"Pcrm=yN*PcrN+yO*PcrO;\n",
"Tr1=T1/Tcrm;\n",
"Tr2=T2/Tcrm;\n",
"Pr=Pm/Pcrm;\n",
"//at these values we get\n",
"Zh1=1;\n",
"Zh2=2.6;\n",
"qout=qouti-Ru*Tcrm*(Zh1-Zh2);\n",
"qout=ceil(qout);\n",
"disp(qout,'the heat transfer during this process using Kay’s rule in kJ/kmol');\n",
"\n",
"//part - c\n",
"//for nitrogen\n",
"TrN1=T1/TcrN;\n",
"TrN2=T2/TcrN;\n",
"PrN=Pm/PcrN;\n",
"//from Fig A-15b\n",
"Zh1n=0.9;\n",
"Zh2n=2.4;\n",
"//for Oxygen\n",
"TrO1=T1/TcrO;\n",
"TrO2=T2/TcrO;\n",
"PcrO=Pm/PcrO;\n",
"//from Fig A-15b\n",
"Zh1O=1.3;\n",
"Zh2O=4.0;\n",
"//from Eq 12-58\n",
"h12N=h1N-h2N-Ru*TcrN*(Zh1n-Zh2n);// h1 - h2 for nitrogen\n",
"h12O=h1O-h2O-Ru*TcrO*(Zh1O-Zh2O);// h1 - h2 for oxygen\n",
"qout=yN*h12N+yO*h12O;\n",
"qout=ceil(qout);\n",
"disp(qout,'the heat transfer during this process using Amagat’s law in kJ/kmol');"
   ]
   }
,
{
		   "cell_type": "markdown",
		   "metadata": {},
		   "source": [
			"## Example 13.6: Obtaining_Fresh_Water_from_Seawater.sce"
		   ]
		  },
  {
"cell_type": "code",
	   "execution_count": null,
	   "metadata": {
	    "collapsed": true
	   },
	   "outputs": [],
"source": [
"clc;clear;\n",
"//Example 13.6\n",
"//13.6 (d) answer not matching as float datatype is giving more accurate answer in comparison to textbook that has given approximate due to rounding off to two decimal places\n",
"\n",
"//given data\n",
"mfs=0.0348;\n",
"mfw=0.9652;\n",
"T0=288.15;\n",
"\n",
"//constants used\n",
"Mw=18;\n",
"Ms=58.44;\n",
"Rw=0.4615;\n",
"pm=1028;\n",
"Ru=8.314;\n",
"\n",
"//calculations\n",
"//part - a\n",
"Mm=1/((mfs/Ms)+(mfw/Mw));\n",
"yw=mfw*Mm/Mw;\n",
"ys=1-yw;\n",
"disp(yw,'the mole fraction of the water');\n",
"disp(ys,'the mole fraction of the saltwater');\n",
"\n",
"//part - b\n",
"wmin=-Ru*T0*(ys*log(ys)+yw*log(yw));\n",
"wm=wmin/Mm;\n",
"disp(wm,'the minimum work input required to separate 1 kg of seawater completely into pure water and pure salts in kJ');\n",
"\n",
"//part - c\n",
"wmin=Rw*T0*log(1/yw);\n",
"disp(wmin,'the minimum work input required to obtain 1 kg of fresh water from the sea in kJ');\n",
"\n",
"//part - d\n",
"Pmin=pm*Rw*T0*log(1/yw);\n",
"disp(Pmin,'the minimum gauge pressure that the seawater must be raised if fresh water is to be obtained by reverse osmosis using semipermeable membranes in kPa')"
   ]
   }
],
"metadata": {
		  "kernelspec": {
		   "display_name": "Scilab",
		   "language": "scilab",
		   "name": "scilab"
		  },
		  "language_info": {
		   "file_extension": ".sce",
		   "help_links": [
			{
			 "text": "MetaKernel Magics",
			 "url": "https://github.com/calysto/metakernel/blob/master/metakernel/magics/README.md"
			}
		   ],
		   "mimetype": "text/x-octave",
		   "name": "scilab",
		   "version": "0.7.1"
		  }
		 },
		 "nbformat": 4,
		 "nbformat_minor": 0
}
