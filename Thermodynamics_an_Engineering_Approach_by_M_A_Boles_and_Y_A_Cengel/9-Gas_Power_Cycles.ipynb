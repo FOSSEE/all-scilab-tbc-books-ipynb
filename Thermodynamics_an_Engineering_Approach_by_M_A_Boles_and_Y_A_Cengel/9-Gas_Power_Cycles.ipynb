{
"cells": [
 {
		   "cell_type": "markdown",
	   "metadata": {},
	   "source": [
       "# Chapter 9: Gas Power Cycles"
	   ]
	},
{
		   "cell_type": "markdown",
		   "metadata": {},
		   "source": [
			"## Example 9.10: Second_Law_Analysis_of_an_Otto_Cycle.sce"
		   ]
		  },
  {
"cell_type": "code",
	   "execution_count": null,
	   "metadata": {
	    "collapsed": true
	   },
	   "outputs": [],
"source": [
"clc;clear;\n",
"//Example 9.10\n",
"\n",
"//from 9.2\n",
"r=8;\n",
"T0=290;\n",
"T1=290;\n",
"T2=652.4;\n",
"T3=1575.1;\n",
"P2=1.7997;\n",
"P3=4.345;\n",
"qin=800;\n",
"qout=381.83;\n",
"wnet=418.17;\n",
"Tsource=1700;\n",
"\n",
"//constants used\n",
"R=0.287;//in kPa-m^3/kg-K\n",
"\n",
"//calculations\n",
"//s1=s2 ; s3=s4\n",
"s03=3.5045;\n",
"s02=2.4975;\n",
"s32=(s03-s02)-R*log(P3/P2);//s32 stands for s3-s2\n",
"xdest23=T0*(s32-qin/Tsource);\n",
"Tsink=T1;\n",
"xdest41=T0*(-s32+qout/Tsink);\n",
"xdestcycle=xdest23+xdest41;\n",
"disp(xdestcycle,'exergy destrustion associated with Otto cycle inkJ/kg');\n",
"// X4 = (u4 - u0 )- T0*(s4 - s0) + P0(v4 - v0)\n",
"// s4 - s0 = s4 - s1 = s32\n",
"// u4 - u0 = u4 - u1 = qout\n",
"// v4 - v0 = v4 - v1 = 0\n",
"//hence x4 is\n",
"X4=qout-T0*s32;\n",
"disp(X4,'exergy destruction of purge stream in kJ/kg')"
   ]
   }
,
{
		   "cell_type": "markdown",
		   "metadata": {},
		   "source": [
			"## Example 9.2: The_Ideal_Otto_Cycle.sce"
		   ]
		  },
  {
"cell_type": "code",
	   "execution_count": null,
	   "metadata": {
	    "collapsed": true
	   },
	   "outputs": [],
"source": [
"clc;clear;\n",
"//Example 9.2\n",
"\n",
"//given data\n",
"T1=17+273;//in K\n",
"P1=100;\n",
"r=8;//compression ratio i.e v1/v2\n",
"qin=800;\n",
"\n",
"//constants used\n",
"R=0.287;//in kPa-m^3/kg-K\n",
"\n",
"//from Table A-17\n",
"//at T1\n",
"u1=206.91;\n",
"vr1=676.1;\n",
"\n",
"//calculations\n",
"//Process 1-2\n",
"vr2=vr1/r;\n",
"//at this vr2\n",
"T2=652.4;\n",
"u2=475.11;\n",
"P2=P1*(T2/T1)*(r);\n",
"//Process 2-3\n",
"u3=qin+u2;\n",
"//at this u3\n",
"T3=1575.1;\n",
"vr3=6.108;\n",
"P3=P2*(T3/T2)*1;//factor of 1 as v3=v2\n",
"disp(T3,'maximum temperature in the cycle in K');\n",
"disp(P3/1000,'maximum pressure in MPa');//factor of 1000 to convert into MPa\n",
"//Process 3-4\n",
"vr4=r*vr3;\n",
"//at this vr4 \n",
"T4=795.6;\n",
"u4=588.74;\n",
"//Process 4-1\n",
"qout=u4-u1;\n",
"Wnet=qin-qout;\n",
"disp(Wnet,'net work output in kJ/kg');\n",
"nth=Wnet/qin;\n",
"disp(nth,'thermal efficiency');\n",
"v1=R*T1/P1;\n",
"MEP=Wnet/(v1*(1-1/r));\n",
"MEP=round(MEP);\n",
"disp(MEP,'mean effective pressure in kPa')"
   ]
   }
,
{
		   "cell_type": "markdown",
		   "metadata": {},
		   "source": [
			"## Example 9.3: The_Ideal_Diesel_Cycle.sce"
		   ]
		  },
  {
"cell_type": "code",
	   "execution_count": null,
	   "metadata": {
	    "collapsed": true
	   },
	   "outputs": [],
"source": [
"clc;clear;\n",
"//Example 9.3\n",
"\n",
"//given data\n",
"V1=117;\n",
"T1=80+460;//in R\n",
"P1=14.7;\n",
"r=18;\n",
"rc=2;\n",
"\n",
"//constants used\n",
"R=0.3704;//in psia ft^3/lbm R\n",
"cp=0.240;//in Btu/lbm R\n",
"cv=0.171;//in Btu/lbm R\n",
"\n",
"//from Table A-2Ea\n",
"k=1.4;\n",
"\n",
"//calculations\n",
"V2=V1/r;\n",
"V3=rc*V2;\n",
"V4=V1;\n",
"//Process 1-2\n",
"T2=T1*(V1/V2)^(k-1);\n",
"P2=P1*(V1/V2)^k;\n",
"T2=round(T2);\n",
"P2=round(P2);\n",
"disp('Process 1-2');\n",
"disp(T2,'temperature in R');\n",
"disp(P2,'pressure in psia');\n",
"//Process 2-3\n",
"P3=P2;\n",
"T3=T2*(V3/V2);\n",
"T3=round(T3);\n",
"P3=round(P3);\n",
"disp('Process 2-3');\n",
"disp(T3,'temperature in R');\n",
"disp(P3,'pressure in psia');\n",
"//Process 3-4\n",
"T4=T3*(V3/V4)^(k-1);\n",
"P4=P3*(V3/V4)^k;\n",
"T4=round(T4);\n",
"P4=round(P4);\n",
"disp('Process 3-4');\n",
"disp(T4,'temperature in R');\n",
"disp(P4,'pressure in psia');\n",
"m=P1*V1/(R*T1)/1728;//factor of 1728 to covert to ft^3 from in^3\n",
"Qin=m*cp*(T3-T2);\n",
"Qout=m*cv*(T4-T1);\n",
"Wnet=Qin-Qout ;\n",
"disp(Wnet,'work output in Btu');\n",
"nth=Wnet/Qin;\n",
"disp(nth,'thermal efficiency');\n",
"MEP=Wnet/(V1-V2)*778.17*12;//factor of 778.17 and 12 to convert to lbf ft and in from Btu and ft respectively\n",
"MEP=round(MEP);\n",
"disp(MEP,'mean effective pressure in psia')"
   ]
   }
,
{
		   "cell_type": "markdown",
		   "metadata": {},
		   "source": [
			"## Example 9.5: The_Simple_Ideal_Brayton_Cycle.sce"
		   ]
		  },
  {
"cell_type": "code",
	   "execution_count": null,
	   "metadata": {
	    "collapsed": true
	   },
	   "outputs": [],
"source": [
"clc;clear;\n",
"//Example 9.5\n",
"\n",
"//given data\n",
"T1=300;\n",
"r=8;\n",
"T3=1300;\n",
"\n",
"//calcualtions\n",
"//Process 1-2\n",
"//at T1\n",
"h1=300.19;\n",
"Pr1=1.386;\n",
"Pr2=r*Pr1;\n",
"//at Pr2\n",
"T2=540;\n",
"h2=544.35;\n",
"disp(T2,'temperature at exit of compressor in K');\n",
"//Process 3-4\n",
"//at T3\n",
"h3=1395.97;\n",
"Pr3=330.9;\n",
"Pr4=Pr3/r;\n",
"//at Pr4\n",
"T4=770;\n",
"h4=789.37;\n",
"disp(T4,'temperature at turbine exit in K');\n",
"Win=h2-h1;\n",
"Wout=h3-h4;\n",
"rbw=Win/Wout;\n",
"disp(rbw,'back work ratio');\n",
"qin=h3-h2;\n",
"Wnet=Wout-Win;\n",
"nth=Wnet/qin;\n",
"disp(nth,'thermal efficeincy')"
   ]
   }
,
{
		   "cell_type": "markdown",
		   "metadata": {},
		   "source": [
			"## Example 9.6: An_Actual_Gas_Turbine_Cycle.sce"
		   ]
		  },
  {
"cell_type": "code",
	   "execution_count": null,
	   "metadata": {
	    "collapsed": true
	   },
	   "outputs": [],
"source": [
"clc;clear;\n",
"//Example 9.6\n",
"\n",
"//from 9.5\n",
"Wsc=244.16;//compressor\n",
"Wst=606.60;//turbine\n",
"h1=300.19;\n",
"h3=1395.17;\n",
"\n",
"//given data\n",
"nC=0.8;\n",
"nT=0.85;\n",
"\n",
"//calculations\n",
"Win=Wsc/nC;\n",
"Wout=nT*Wst;\n",
"rbw=Win/Wout;\n",
"disp(rbw,'back work ratio is');\n",
"h2a=h1+Win;\n",
"qin=h3-h2a;\n",
"Wnet=Wout-Win;\n",
"nth=Wnet/qin;\n",
"disp(nth,'thermal efficency is');\n",
"h4a=h3-Wout;\n",
"//from A-17 at h4a\n",
"T4a=853;\n",
"disp(T4a,'turbine exit temperature in K is')"
   ]
   }
,
{
		   "cell_type": "markdown",
		   "metadata": {},
		   "source": [
			"## Example 9.7: Actual_Gas_Turbine_Cycle_with_Regeneration.sce"
		   ]
		  },
  {
"cell_type": "code",
	   "execution_count": null,
	   "metadata": {
	    "collapsed": true
	   },
	   "outputs": [],
"source": [
"clc;clear;\n",
"//Example 9.7\n",
"\n",
"//from 9.6\n",
"h2a=605.39;\n",
"h4a=880.36;\n",
"h3=1395.97;\n",
"Wnet=210.41;\n",
"\n",
"//given data\n",
"n=0.80;\n",
"\n",
"//calculations\n",
"// n = (h5 - h2a) / (h4a - h2a)\n",
"h5=(h4a - h2a)*n+h2a;\n",
"qin=h3-h5;\n",
"nth=Wnet/qin;\n",
"disp(nth,'thermal efficiency is')"
   ]
   }
,
{
		   "cell_type": "markdown",
		   "metadata": {},
		   "source": [
			"## Example 9.8: A_Gas_Turbine_with_Reheating_and_Intercooling.sce"
		   ]
		  },
  {
"cell_type": "code",
	   "execution_count": null,
	   "metadata": {
	    "collapsed": true
	   },
	   "outputs": [],
"source": [
"clc;clear;\n",
"//Example 9.8\n",
"\n",
"//given data\n",
"T1=300;\n",
"T6=1300;\n",
"r=8;//overall compression ratio\n",
"\n",
"//calculations\n",
"//as it is case of intercoolimg\n",
"ri=sqrt(r);//ri stands for P2/P1 = P4/P3 = P6/P7 = P8/P9\n",
"//from A-17 at T1\n",
"h1=300.19;\n",
"Pr1=1.386;\n",
"Pr2=ri*Pr1;\n",
"//from A-17 at Pr2\n",
"T2=403.3;\n",
"h2=403.31;\n",
"//from A-17 at T6\n",
"h6=1395.97;\n",
"Pr6=330.9;\n",
"Pr7=Pr6/ri;\n",
"//from A-17 at Pr7\n",
"T7=1006.4;\n",
"h7=1053.33;\n",
"//at inlets\n",
"T3=T1;h3=h1;T8=T6;h8=h6;\n",
"//et exits\n",
"T4=T2;h4=h2;T9=T7;h9=h7;h5=h7;\n",
"Win=2*(h2-h1);\n",
"Wout=2*(h6-h7);\n",
"Wnet=Wout-Win;\n",
"qin=(h6-h4)+(h8-h7);\n",
"rbw=Win/Wout;\n",
"disp(rbw,'back work ratio');\n",
"nth=Wnet/qin;\n",
"disp(nth,'thermal efficiency is')\n",
"//part - b\n",
"disp('part - b');\n",
"qin=(h6-h5)+(h8-h7);\n",
"nth=Wnet/qin;\n",
"disp(nth,'thermal efficiency is')"
   ]
   }
,
{
		   "cell_type": "markdown",
		   "metadata": {},
		   "source": [
			"## Example 9.9: The_Ideal_Jet_Propulsion_Cycle.sce"
		   ]
		  },
  {
"cell_type": "code",
	   "execution_count": null,
	   "metadata": {
	    "collapsed": true
	   },
	   "outputs": [],
"source": [
"clc;clear;\n",
"//Example 9.9\n",
"\n",
"//given data\n",
"m=100;\n",
"P1=5;\n",
"T1=-40+460;//in R\n",
"T4=2000+460;//in R\n",
"V1=850;\n",
"rp=10;\n",
"\n",
"//constants used\n",
"cp=0.240;//in Btu/lbm F\n",
"k=1.4;\n",
"\n",
"//calculations\n",
"//Process 1-2\n",
"T2=T1+V1^2/(2*cp)/25037;//factor of 25037 to covert to Btu/lbm\n",
"P2=P1*(T2/T1)^(k/(k-1));\n",
"//Process 2-3 \n",
"P3=rp*P2;\n",
"P4=P3;\n",
"T3=T2*(P3/P2)^((k-1)/k);\n",
"//Win=Wout\n",
"T5=T4-T3+T2;\n",
"P5=P4*(T5/T4)^(k/(k-1));\n",
"T5=round(T5);\n",
"disp(T5,'temperature at turbine exit in R');\n",
"disp(P5,'pressure at turbine exit in psia');\n",
"//Process 5-6\n",
"P6=P1;\n",
"T6=T5*(P6/P5)^((k-1)/k);\n",
"T6=floor(T6);//round off\n",
"V6=sqrt(2*cp*(T5-T6)*25037);//factor of 25037 to covert to (ft/s)^2\n",
"disp(round(V6),'the velocity of nozzle exit in ft/s');\n",
"Wp=m*(V6-V1)*V1/25037;//factor of 25037 to covert to Btu/lbm\n",
"Qin=m*cp*(T4-T3);\n",
"nP=Wp/Qin;\n",
"disp(nP*100,'propulsive efficiency % is')"
   ]
   }
],
"metadata": {
		  "kernelspec": {
		   "display_name": "Scilab",
		   "language": "scilab",
		   "name": "scilab"
		  },
		  "language_info": {
		   "file_extension": ".sce",
		   "help_links": [
			{
			 "text": "MetaKernel Magics",
			 "url": "https://github.com/calysto/metakernel/blob/master/metakernel/magics/README.md"
			}
		   ],
		   "mimetype": "text/x-octave",
		   "name": "scilab",
		   "version": "0.7.1"
		  }
		 },
		 "nbformat": 4,
		 "nbformat_minor": 0
}
