{
"cells": [
 {
		   "cell_type": "markdown",
	   "metadata": {},
	   "source": [
       "# Chapter 1: Introduction and Basic Concepts"
	   ]
	},
{
		   "cell_type": "markdown",
		   "metadata": {},
		   "source": [
			"## Example 1.10: Hydrostatic_Pressure_in_a_Solar_Pond_with_Variable_Density.sce"
		   ]
		  },
  {
"cell_type": "code",
	   "execution_count": null,
	   "metadata": {
	    "collapsed": true
	   },
	   "outputs": [],
"source": [
"clc;clear;\n",
"//Example 1.10\n",
"\n",
"//constants used\n",
"g=9.81;//acceleration due to gravity in m/s^2;\n",
"\n",
"//given values\n",
"p=1040;\n",
"h1=0.8;\n",
"H=4;\n",
"x0=0;\n",
"x1=4;// x0 & x1 are limits of integration\n",
"\n",
"//calculation\n",
"P1=p*g*h1/1000;//standard  pressure determination formula\n",
"P2=integrate('p*g*(sqrt(1+(tan(3.14*z/4/H)^2)))','z',x0,x1);//integrant\n",
"P2=P2/1000;//converting into kPa\n",
"P=P1+P2;\n",
"P=ceil(P);//roundingoff to match answer\n",
"disp(P,'the gage pressure at the bottom of gradient zone in kPa is')"
   ]
   }
,
{
		   "cell_type": "markdown",
		   "metadata": {},
		   "source": [
			"## Example 1.2: Obtaining_Formulas_from_Unit_Considerations.sce"
		   ]
		  },
  {
"cell_type": "code",
	   "execution_count": null,
	   "metadata": {
	    "collapsed": true
	   },
	   "outputs": [],
"source": [
"clc;clear;\n",
"//Example 1.2\n",
"\n",
"//given values\n",
"p=850;\n",
"V=2;\n",
"\n",
"//calculation\n",
"m=p*V;//mass, density and volumne corealtion\n",
"disp(m,'the amount of oil in tank is (in kg)')"
   ]
   }
,
{
		   "cell_type": "markdown",
		   "metadata": {},
		   "source": [
			"## Example 1.3: The_Weight_of_One_Pound_Mass.sce"
		   ]
		  },
  {
"cell_type": "code",
	   "execution_count": null,
	   "metadata": {
	    "collapsed": true
	   },
	   "outputs": [],
"source": [
"clc;clear;\n",
"//Example 1.3\n",
"\n",
"//constants used\n",
"g=32.174;//gravitational constant in ft/s^2\n",
"\n",
"//given values\n",
"m=1;\n",
"\n",
"//calculation\n",
"w=(m*g)/g;//weight is mass times the local value of gravitational acceleration\n",
"disp(m,'the weight on earth is (in lbf)')"
   ]
   }
,
{
		   "cell_type": "markdown",
		   "metadata": {},
		   "source": [
			"## Example 1.4: Expressing_Temperature_Rise_in_Different_Units.sce"
		   ]
		  },
  {
"cell_type": "code",
	   "execution_count": null,
	   "metadata": {
	    "collapsed": true
	   },
	   "outputs": [],
"source": [
"clc;clear;\n",
"//Example 1.4\n",
"\n",
"//given values\n",
"Tc=10;//change in temp in Celcius\n",
"\n",
"//calculation\n",
"Tk=Tc;\n",
"Tr=1.8*Tk;\n",
"Tf=Tr;\n",
"//calculated using the corealtions b/w these scales\n",
"disp(Tk,'the corresponding change in K');\n",
"disp(Tr,'the corresponding change in R');\n",
"disp(Tf,'the corresponding change in F')"
   ]
   }
,
{
		   "cell_type": "markdown",
		   "metadata": {},
		   "source": [
			"## Example 1.5: Absolute_Pressure_of_a_Vacuum_Chamber.sce"
		   ]
		  },
  {
"cell_type": "code",
	   "execution_count": null,
	   "metadata": {
	    "collapsed": true
	   },
	   "outputs": [],
"source": [
"clc;clear;\n",
"//Example 1.5\n",
"\n",
"//given values\n",
"Patm=14.5;\n",
"Pvac=5.8;\n",
"\n",
"//calculation\n",
"Pabs=Patm-Pvac;//pressure in vaccumm is always treated to be negative\n",
"disp(Pabs,'the absolute pressure in the chamber in psi is')"
   ]
   }
,
{
		   "cell_type": "markdown",
		   "metadata": {},
		   "source": [
			"## Example 1.6: Measuring_Pressure_with_a_Manometer.sce"
		   ]
		  },
  {
"cell_type": "code",
	   "execution_count": null,
	   "metadata": {
	    "collapsed": true
	   },
	   "outputs": [],
"source": [
"clc;clear;\n",
"//Example 1.6\n",
"\n",
"//constants used\n",
"pw=1000;//density of water in kg/m^3;\n",
"g=9.81;//acceleration due to gravity in m/s^2;\n",
" \n",
"//given values\n",
"SG=0.85;\n",
"h=55/100;//converting height from cm to m\n",
"Patm=96;\n",
"\n",
"//calculation\n",
"p=SG*pw;\n",
"Ptank=Patm+(p*g*h/1000);//calculating pressure using liquid at same height have same pressure\n",
"disp(Ptank,'absolute pressure in tank in kPa is')"
   ]
   }
,
{
		   "cell_type": "markdown",
		   "metadata": {},
		   "source": [
			"## Example 1.7: Measuring_Pressure_with_a_Multifluid_Manometer.sce"
		   ]
		  },
  {
"cell_type": "code",
	   "execution_count": null,
	   "metadata": {
	    "collapsed": true
	   },
	   "outputs": [],
"source": [
"clc;clear;\n",
"//Example 1.7\n",
"\n",
"//constants used\n",
"g=9.81;//acceleration due to gravity in m/s^2;\n",
"\n",
"//given values\n",
"h1=0.1;\n",
"h2=0.2;\n",
"h3=0.35;//respective heights in m\n",
"pw=1000;\n",
"pHg=13600;\n",
"poil=800;//density of water, mercury and oil in kg/m^3\n",
"Patm=85.6;\n",
"\n",
"//calculation\n",
"P1=Patm-(pw*g*h1+poil*g*h2-pHg*g*h3)/1000;//calculating pressure using liquid at same height have same pressure\n",
"disp(P1,'the air pressure in tank in kPa is ')"
   ]
   }
,
{
		   "cell_type": "markdown",
		   "metadata": {},
		   "source": [
			"## Example 1.8: Measuring_Atmospheric_Pressure_with_a_Barometer.sce"
		   ]
		  },
  {
"cell_type": "code",
	   "execution_count": null,
	   "metadata": {
	    "collapsed": true
	   },
	   "outputs": [],
"source": [
"clc;clear;\n",
"//Example 1.8\n",
"\n",
"//constants used\n",
"g=9.81;//acceleration due to gravity in m/s^2;\n",
"\n",
"//given values\n",
"pHg=13570;\n",
"h=74/100;//converting height into m from mm\n",
"\n",
"//calculation\n",
"Patm=pHg*g*h/1000;//standard  pressure formula\n",
"disp(Patm,'the atmospheric pressure in kPa is')"
   ]
   }
,
{
		   "cell_type": "markdown",
		   "metadata": {},
		   "source": [
			"## Example 1.9: Effect_of_Piston_Weight_on_Pressure_in_a_Cylinder.sce"
		   ]
		  },
  {
"cell_type": "code",
	   "execution_count": null,
	   "metadata": {
	    "collapsed": true
	   },
	   "outputs": [],
"source": [
"clc;clear;\n",
"//Example 1.9\n",
"\n",
"//constants used\n",
"g=9.81;//acceleration due to gravity in m/s^2;\n",
"\n",
"//given values\n",
"m=60;\n",
"Patm=0.97;\n",
"A=0.04;\n",
"\n",
"//calculation\n",
"P=Patm+(m*g/A)/10^5;//standard  pressure formula\n",
"disp(P,'the pressure inside the cylinder in bar is')"
   ]
   }
],
"metadata": {
		  "kernelspec": {
		   "display_name": "Scilab",
		   "language": "scilab",
		   "name": "scilab"
		  },
		  "language_info": {
		   "file_extension": ".sce",
		   "help_links": [
			{
			 "text": "MetaKernel Magics",
			 "url": "https://github.com/calysto/metakernel/blob/master/metakernel/magics/README.md"
			}
		   ],
		   "mimetype": "text/x-octave",
		   "name": "scilab",
		   "version": "0.7.1"
		  }
		 },
		 "nbformat": 4,
		 "nbformat_minor": 0
}
