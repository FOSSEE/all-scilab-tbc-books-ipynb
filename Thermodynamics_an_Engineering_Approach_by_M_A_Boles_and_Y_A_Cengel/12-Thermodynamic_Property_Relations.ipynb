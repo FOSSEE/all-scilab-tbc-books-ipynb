{
"cells": [
 {
		   "cell_type": "markdown",
	   "metadata": {},
	   "source": [
       "# Chapter 12: Thermodynamic Property Relations"
	   ]
	},
{
		   "cell_type": "markdown",
		   "metadata": {},
		   "source": [
			"## Example 12.11: The_dh_and_ds_of_Oxygen_at_High_Pressures.sce"
		   ]
		  },
  {
"cell_type": "code",
	   "execution_count": null,
	   "metadata": {
	    "collapsed": true
	   },
	   "outputs": [],
"source": [
"clc;clear;\n",
"//Example 12.11\n",
"\n",
"//given data\n",
"T1=220;\n",
"P1=5;\n",
"T2=300;\n",
"P2=10;\n",
"\n",
"//constants used\n",
"Ru=8.314;//on kJ/kmol- K\n",
"\n",
"//from Table A–1\n",
"Tcr=154.8;\n",
"Pcr=5.08;\n",
"\n",
"//calculations\n",
"\n",
"//part - a\n",
"disp('part - a');\n",
"//by assuming ideal-gas behavior\n",
"//from Table A–19\n",
"h1=6404;\n",
"h2=8736;\n",
"s2=205.213;\n",
"s1=196.171;\n",
"h21i=h2-h1;//h2 - h1 ideal\n",
"s21i=(s2-s1)-Ru*log(P2/P1);//s2 - s1 ideal\n",
"disp(h21i,'the enthalpy change in kJ/kmol');\n",
"disp(s21i,'the entropy change in kJ/kmol-K');\n",
"\n",
"//part - b\n",
"disp('part - b');\n",
"//by accounting for the deviation from ideal-gas behavior\n",
"TR1=T1/Tcr;\n",
"Pr1=P1/Pcr;\n",
"//from the generalized charts at each state\n",
"Zh1=0.53;\n",
"Zs1=0.25;\n",
"TR2=T2/Tcr;\n",
"Pr2=P2/Pcr;\n",
"//from the generalized charts at each state\n",
"Zh2=0.48;\n",
"Zs2=0.20;\n",
"h21=h21i-Ru*Tcr*(Zh2-Zh1);\n",
"s21=s21i-Ru*(Zs2-Zs1);\n",
"disp(h21,'the enthalpy change in kJ/kmol');\n",
"disp(s21,'the entropy change in kJ/kmol-K');"
   ]
   }
,
{
		   "cell_type": "markdown",
		   "metadata": {},
		   "source": [
			"## Example 12.1: Approximating_Differential_Quantities_by_Differences.sce"
		   ]
		  },
  {
"cell_type": "code",
	   "execution_count": null,
	   "metadata": {
	    "collapsed": true
	   },
	   "outputs": [],
"source": [
"clc;clear;\n",
"//Example 12.1\n",
"\n",
"//given data\n",
"h1=305.22;\n",
"T1=305;\n",
"h2=295.17;\n",
"T2=295;\n",
"\n",
"//calculations\n",
"//from the given equation we can calculate\n",
"cp=(h1-h2)/(T1-T2);\n",
"disp(cp,'the cp of air at 300 K in kJ/ kg - K')"
   ]
   }
,
{
		   "cell_type": "markdown",
		   "metadata": {},
		   "source": [
			"## Example 12.2: Total_Differential_versus_Partial_Differential.sce"
		   ]
		  },
  {
"cell_type": "code",
	   "execution_count": null,
	   "metadata": {
	    "collapsed": true
	   },
	   "outputs": [],
"source": [
"clc;clear;\n",
"//Example 12.2\n",
"\n",
"//given data\n",
"dT=302-300;\n",
"dv=0.87-0.86;\n",
"T=(302+300)/2;\n",
"v=(0.87+0.86)/2;//average values\n",
"\n",
"//constants used\n",
"R=0.287;//in kJ/kg-K\n",
"\n",
"//calculations\n",
"//using eq 12-3 by diffrentiating P= R*T/v\n",
"dP= R*dT/v - R*T*dv/v^2;\n",
"disp(dP,'the change in the pressure of air in kPa');"
   ]
   }
,
{
		   "cell_type": "markdown",
		   "metadata": {},
		   "source": [
			"## Example 12.5: Evaluating_the_hfg_of_a_Substance_from_the_P_v_T_Data.sce"
		   ]
		  },
  {
"cell_type": "code",
	   "execution_count": null,
	   "metadata": {
	    "collapsed": true
	   },
	   "outputs": [],
"source": [
"clc;clear;\n",
"//Example 12.5\n",
"\n",
"//given data\n",
"T=20+273.15;//converted into K\n",
"\n",
"//from Table A–11\n",
"vf=0.0008161;\n",
"vg=0.035969;\n",
"\n",
"//calculations\n",
"//using Eq 12-22\n",
"// hfg= T*vfg*(dP/dT)sat\n",
"//(dP/dT)sat b/w 24 C - 16 C \n",
"dPT=(646.18-504.58)/(24-16);//dP/dT ; values from Table A–11\n",
"vfg=vg-vf;\n",
"hfg=T*vfg*dPT;\n",
"disp(hfg,'the value of the enthalpy of vaporization of refrigerant-134a in kJ/kg')"
   ]
   }
,
{
		   "cell_type": "markdown",
		   "metadata": {},
		   "source": [
			"## Example 12.6: Extrapolating_Tabular_Data_with_the_Clapeyron_Equation.sce"
		   ]
		  },
  {
"cell_type": "code",
	   "execution_count": null,
	   "metadata": {
	    "collapsed": true
	   },
	   "outputs": [],
"source": [
"clc;clear;\n",
"//Example 12.6\n",
"\n",
"//given data\n",
"T1=-40+460;\n",
"T2=-50+460;//converted into R from F\n",
"R=0.01946;\n",
"\n",
"//from Table A-11E\n",
"P1=7.432;\n",
"hfg=97.100;\n",
"\n",
"//calcualation\\n",
"//using Equation 12–24\n",
"//ln(P2/P1)= hfg/R *(1/T1 - 1/T2)\n",
"P2=P1*exp(hfg/R *(1/T1 - 1/T2));\n",
"disp(P2,'the saturation pressure of refrigerant-134a in psia')"
   ]
   }
],
"metadata": {
		  "kernelspec": {
		   "display_name": "Scilab",
		   "language": "scilab",
		   "name": "scilab"
		  },
		  "language_info": {
		   "file_extension": ".sce",
		   "help_links": [
			{
			 "text": "MetaKernel Magics",
			 "url": "https://github.com/calysto/metakernel/blob/master/metakernel/magics/README.md"
			}
		   ],
		   "mimetype": "text/x-octave",
		   "name": "scilab",
		   "version": "0.7.1"
		  }
		 },
		 "nbformat": 4,
		 "nbformat_minor": 0
}
