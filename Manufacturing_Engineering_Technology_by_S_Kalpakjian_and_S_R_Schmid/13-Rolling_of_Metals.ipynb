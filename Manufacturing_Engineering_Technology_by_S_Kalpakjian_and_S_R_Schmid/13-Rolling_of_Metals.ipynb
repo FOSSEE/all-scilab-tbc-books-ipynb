{
"cells": [
 {
		   "cell_type": "markdown",
	   "metadata": {},
	   "source": [
       "# Chapter 13: Rolling of Metals"
	   ]
	},
{
		   "cell_type": "markdown",
		   "metadata": {},
		   "source": [
			"## Example 13.1: Calculation_of_Roll_Force_and_Torque.sce"
		   ]
		  },
  {
"cell_type": "code",
	   "execution_count": null,
	   "metadata": {
	    "collapsed": true
	   },
	   "outputs": [],
"source": [
"clc \n",
"// Given that\n",
"w=9 //in inch width of thee strip\n",
"ho=1 //in inch initial thickness of the strip\n",
"hf=0.80 //in inch thickness of the strip after one pass\n",
"r=12 //in inch roll radius\n",
"N=100 //in rpm\n",
"\n",
"// Sample Problem on page no. 323\n",
"\n",
"printf('\n #Calculation of roll force and torque# \n')\n",
"\n",
"L=(r*(ho-hf))^(1/2)\n",
"\n",
"E=log(1/hf)//absolute value of true strain\n",
"\n",
"Y=26000 //in psi average stress from the data in the book \n",
"F=L*w*Y // roll force\n",
"F1=F*4.448/(10^6)//in mega newton\n",
"printf('\n\nRoll force = %f MN ',F1)\n",
"\n",
"//answer in the book is round off and given 363000lb\n",
"\n",
"P=(2*3.14*F*L*N)/(33000*12)\n",
"P1=P*7.457*(10^2)/(10^3)//in KW\n",
"printf('\n\npower per roll = %f KW ',P1)\n",
"\n",
"//answer in the book is 670 KW due to round off of the roll force\n",
"\n",
"Tp=2*P1//total power\n",
"printf('\n\nTotal power = %f KW ',Tp)\n",
"\n",
"//answer in the book is 1340KW due to round off of the roll force"
   ]
   }
],
"metadata": {
		  "kernelspec": {
		   "display_name": "Scilab",
		   "language": "scilab",
		   "name": "scilab"
		  },
		  "language_info": {
		   "file_extension": ".sce",
		   "help_links": [
			{
			 "text": "MetaKernel Magics",
			 "url": "https://github.com/calysto/metakernel/blob/master/metakernel/magics/README.md"
			}
		   ],
		   "mimetype": "text/x-octave",
		   "name": "scilab",
		   "version": "0.7.1"
		  }
		 },
		 "nbformat": 4,
		 "nbformat_minor": 0
}
