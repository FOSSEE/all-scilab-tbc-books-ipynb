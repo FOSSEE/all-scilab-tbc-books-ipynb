{
"cells": [
 {
		   "cell_type": "markdown",
	   "metadata": {},
	   "source": [
       "# Chapter 20: Machining Processes Used to Produce Round Shape"
	   ]
	},
{
		   "cell_type": "markdown",
		   "metadata": {},
		   "source": [
			"## Example 20.1: Calculation_of_Energy_used_as_friction_In_cutting.sce"
		   ]
		  },
  {
"cell_type": "code",
	   "execution_count": null,
	   "metadata": {
	    "collapsed": true
	   },
	   "outputs": [],
"source": [
"clc \n",
"// Given that\n",
"to=0.005//in inch depth of cut\n",
"V=400//in ft/min cutting speed\n",
"X=10//in degree rake angle\n",
"w=0.25//in inch width of cut\n",
"tc=0.009//in inch chip thickness\n",
"Fc=125//in lb Cutting force\n",
"Ft=50//in lb thrust force\n",
"\n",
"// Sample Problem on page no. 548\n",
"\n",
"printf('\n # Relative Energies in cutting # \n')\n",
"\n",
"r=to/tc//cutting ratio\n",
"R=sqrt((Ft^2)+(Fc^2))\n",
"B=acosd(Fc/R)+X//friction angle\n",
"F=R*sind(B)\n",
"P=((F*r)/Fc)*100\n",
"printf('\n\n Percentage of total energy going into overcoming friction =%d pecrent',P)\n",
"\n",
"//Answer in the book is approximated to 32 due to approximation in calculation of R and B"
   ]
   }
,
{
		   "cell_type": "markdown",
		   "metadata": {},
		   "source": [
			"## Example 20.2: Change_in_Tool_Life_by_Changing_the_Cutting_Speed.sce"
		   ]
		  },
  {
"cell_type": "code",
	   "execution_count": null,
	   "metadata": {
	    "collapsed": true
	   },
	   "outputs": [],
"source": [
"clc \n",
"// Given that\n",
"n=0.5//exponent that depends on tool and workpiece material\n",
"C=400//constant\n",
"\n",
"// Sample Problem on page no. 555\n",
"\n",
"printf('\n # Increasing tool life by Reducing the Cutting Speed # \n')\n",
"\n",
"V1=poly(0,'V1')\n",
"r=0.5// it is the ratio of V2/V1 where V1 and V2 are the initial and final cutting speed of the tool\n",
"//let t=T2/T1 where T1 and T2 are the initial and final tool life\n",
"t=1/(r^(1/n))//from the relation V1*(T1^n)=V2*(T2^n)\n",
"P=(t-1)*100\n",
"printf('\n\n Percent increase in tool life  =%d Percent',P)\n",
"\n",
""
   ]
   }
],
"metadata": {
		  "kernelspec": {
		   "display_name": "Scilab",
		   "language": "scilab",
		   "name": "scilab"
		  },
		  "language_info": {
		   "file_extension": ".sce",
		   "help_links": [
			{
			 "text": "MetaKernel Magics",
			 "url": "https://github.com/calysto/metakernel/blob/master/metakernel/magics/README.md"
			}
		   ],
		   "mimetype": "text/x-octave",
		   "name": "scilab",
		   "version": "0.7.1"
		  }
		 },
		 "nbformat": 4,
		 "nbformat_minor": 0
}
