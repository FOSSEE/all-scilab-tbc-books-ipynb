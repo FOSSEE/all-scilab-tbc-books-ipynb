{
"cells": [
 {
		   "cell_type": "markdown",
	   "metadata": {},
	   "source": [
       "# Chapter 15: Extrusion and Drawing of Metals"
	   ]
	},
{
		   "cell_type": "markdown",
		   "metadata": {},
		   "source": [
			"## Example 15.1: Calculation_of_Force_in_Hot_Extrusion.sce"
		   ]
		  },
  {
"cell_type": "code",
	   "execution_count": null,
	   "metadata": {
	    "collapsed": true
	   },
	   "outputs": [],
"source": [
"clc \n",
"// Given that\n",
"di=5//in inch Diameter of the round billet\n",
"df=2//in inch Diameter of the round billet after extrusion\n",
"\n",
"// Sample Problem on page no. 372\n",
"\n",
"printf('\n # Calculation of force in Hot Extrusion# \n')\n",
"\n",
"//As 70-30 Brass is given, so the value of the extrusion constant is 35000psi from the diagram given in the book\n",
"k=35000//in psi\n",
"F=3.14*(di/2)^2*k*log((3.14*(di^2))/(3.14*(df^2)))\n",
"F1=F*4.448/(10^6)\n",
"printf('\n\n Extrusion force=%f MN',F1)\n",
"\n",
"//Answer in the book is approximated to 5.5MN"
   ]
   }
],
"metadata": {
		  "kernelspec": {
		   "display_name": "Scilab",
		   "language": "scilab",
		   "name": "scilab"
		  },
		  "language_info": {
		   "file_extension": ".sce",
		   "help_links": [
			{
			 "text": "MetaKernel Magics",
			 "url": "https://github.com/calysto/metakernel/blob/master/metakernel/magics/README.md"
			}
		   ],
		   "mimetype": "text/x-octave",
		   "name": "scilab",
		   "version": "0.7.1"
		  }
		 },
		 "nbformat": 4,
		 "nbformat_minor": 0
}
