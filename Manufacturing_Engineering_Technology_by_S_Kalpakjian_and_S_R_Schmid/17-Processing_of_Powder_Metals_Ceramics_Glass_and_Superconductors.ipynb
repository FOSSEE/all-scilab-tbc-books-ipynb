{
"cells": [
 {
		   "cell_type": "markdown",
	   "metadata": {},
	   "source": [
       "# Chapter 17: Processing of Powder Metals Ceramics Glass and Superconductors"
	   ]
	},
{
		   "cell_type": "markdown",
		   "metadata": {},
		   "source": [
			"## Example 17.1: Calculation_of_Dimensional_Changes_During_Shaping_of_Ceramic_Components.sce"
		   ]
		  },
  {
"cell_type": "code",
	   "execution_count": null,
	   "metadata": {
	    "collapsed": true
	   },
	   "outputs": [],
"source": [
"clc \n",
"// Given that\n",
"L=20//in mm Final length of the ceramic part\n",
"//Linear shrinkage during drying and firing is 7% and 6% respectively\n",
"Sd=0.070//Linear shrinkage during drying\n",
"Sf=0.06//Linear shrinkage during firing\n",
"\n",
"// Sample Problem on page no. 466\n",
"\n",
"printf('\n # Dimensional changes during the shaping of ceramic components # \n')\n",
"\n",
"//part (a)\n",
"\n",
"Ld=L/(1-Sf)//dried length\n",
"Lo=(1+Sd)*Ld//initial length\n",
"printf('\n\n Initial Length=%f mm',Lo)\n",
"\n",
"//Answer in the book is approximated to 22.77mm\n",
"\n",
"//part(b)\n",
"\n",
"Pf=0.03//Fired Porosity\n",
"r = (1-Pf)// Where r = Va/Vf\n",
"R = 1/((1-Sf)^3)// Where R = Vd/Vf\n",
"Pd = (1-r/R)\n",
"printf('\n\nDried porosity is %d percent',Pd*100)\n",
""
   ]
   }
],
"metadata": {
		  "kernelspec": {
		   "display_name": "Scilab",
		   "language": "scilab",
		   "name": "scilab"
		  },
		  "language_info": {
		   "file_extension": ".sce",
		   "help_links": [
			{
			 "text": "MetaKernel Magics",
			 "url": "https://github.com/calysto/metakernel/blob/master/metakernel/magics/README.md"
			}
		   ],
		   "mimetype": "text/x-octave",
		   "name": "scilab",
		   "version": "0.7.1"
		  }
		 },
		 "nbformat": 4,
		 "nbformat_minor": 0
}
