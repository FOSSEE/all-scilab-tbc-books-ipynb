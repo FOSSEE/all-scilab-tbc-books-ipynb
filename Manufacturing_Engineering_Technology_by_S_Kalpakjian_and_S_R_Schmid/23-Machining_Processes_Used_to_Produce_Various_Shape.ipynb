{
"cells": [
 {
		   "cell_type": "markdown",
	   "metadata": {},
	   "source": [
       "# Chapter 23: Machining Processes Used to Produce Various Shape"
	   ]
	},
{
		   "cell_type": "markdown",
		   "metadata": {},
		   "source": [
			"## Example 23.1: EX23_1.sce"
		   ]
		  },
  {
"cell_type": "code",
	   "execution_count": null,
	   "metadata": {
	    "collapsed": true
	   },
	   "outputs": [],
"source": [
"clc \n",
"// Given that\n",
"l=12//in inch Length of block\n",
"w=4//in inch width\n",
"f=0.01//in inch/tooth feed  \n",
"d=1/8//in inch depth of cut\n",
"D=2//in inch diameter of cutter\n",
"n=20//no. of teeth\n",
"N=100//in rpm spindle rotation\n",
"Vt=8//in inch/minute axial speed of the tool\n",
"\n",
"// Sample Problem on page no. 600\n",
"\n",
"printf('\n # Material Removal Rate , Power required and Cutting Time in slab milling # \n')\n",
"\n",
"v=f*N*n\n",
"MRR=w*d*v \n",
"printf('\n\n Material Removal Rate = %d in^3/min',MRR)\n",
"\n",
"//for annealed mild steel unit power is taken as 1.1 hp min/in3\n",
"P=1.1*MRR\n",
"printf('\n\n Cutting power=%d hp',P)\n",
"\n",
"T=P*33000/(N*2*3.14)\n",
"printf('\n\n Cutting torque=%d lb-ft',T)\n",
"\n",
"lc=sqrt(d*D)\n",
"t=((l+lc)/20)*60\n",
"printf('\n\n Cutting time=%f sec',t)\n",
"\n",
"\n",
"\n",
"\n",
""
   ]
   }
,
{
		   "cell_type": "markdown",
		   "metadata": {},
		   "source": [
			"## Example 23.2: EX23_2.sce"
		   ]
		  },
  {
"cell_type": "code",
	   "execution_count": null,
	   "metadata": {
	    "collapsed": true
	   },
	   "outputs": [],
"source": [
"clc \n",
"// Given that\n",
"l=500//in mm Length\n",
"w=60//in mm width\n",
"v=0.6//in m/min  \n",
"d=3//in mm depth of cut\n",
"D=150//in mm diameter of cutter\n",
"n=10//no. of inserts\n",
"N=100//in rpm spindle rotation\n",
"\n",
"// Sample Problem on page no. 655\n",
"\n",
"printf('\n # Material Removal Rate , Power Required and Cutting Time in Face Milling # \n')\n",
"\n",
"MRR=w*d*v*1000 \n",
"printf('\n\n Material Removal Rate = %d mm3/min',MRR)\n",
"\n",
"lc=D/2\n",
"t=((l+(2*lc))/((v*1000)/60)) // velocity is converted into mm/sec\n",
"t1=t/60\n",
"printf('\n\n Cutting time= %ff min',t1)\n",
"\n",
"f=(v*1000*60)/(60*N*n) // N is converted into rev/sec by dividing by 60 , velocity is converted into mm/sec\n",
"printf('\n\n Feed per Tooth= %f mm/tooth',f)\n",
"\n",
"//for high strength aluminium alloy unit power is taken as 1.1 W s/mm3\n",
"P=(1.1*MRR)/60 // MRR is converted into mm3/sec by dividing by 60\n",
"P1=P/(1000)//in KW\n",
"printf('\n\n Cutting power=%f KW',P1)\n",
"\n",
"\n",
"\n",
"\n",
""
   ]
   }
],
"metadata": {
		  "kernelspec": {
		   "display_name": "Scilab",
		   "language": "scilab",
		   "name": "scilab"
		  },
		  "language_info": {
		   "file_extension": ".sce",
		   "help_links": [
			{
			 "text": "MetaKernel Magics",
			 "url": "https://github.com/calysto/metakernel/blob/master/metakernel/magics/README.md"
			}
		   ],
		   "mimetype": "text/x-octave",
		   "name": "scilab",
		   "version": "0.7.1"
		  }
		 },
		 "nbformat": 4,
		 "nbformat_minor": 0
}
