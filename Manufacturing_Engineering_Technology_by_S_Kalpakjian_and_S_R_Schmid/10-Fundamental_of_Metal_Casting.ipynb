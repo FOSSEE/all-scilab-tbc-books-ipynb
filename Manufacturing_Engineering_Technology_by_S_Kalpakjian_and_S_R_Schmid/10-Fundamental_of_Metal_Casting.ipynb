{
"cells": [
 {
		   "cell_type": "markdown",
	   "metadata": {},
	   "source": [
       "# Chapter 10: Fundamental of Metal Casting"
	   ]
	},
{
		   "cell_type": "markdown",
		   "metadata": {},
		   "source": [
			"## Example 10.1: solidification_time_for_various_shapes.sce"
		   ]
		  },
  {
"cell_type": "code",
	   "execution_count": null,
	   "metadata": {
	    "collapsed": true
	   },
	   "outputs": [],
"source": [
"clc \n",
"// Given that\n",
"//three metal piece being cast have the same volume but different shapes\n",
"//shapes are sphere,cube,cylinder(height=diameter)\n",
"\n",
"// Sample Problem on page no. 252\n",
"\n",
"printf('\n #solidification time for various shapes# \n')\n",
"\n",
"//solidification time is inversely proportional to the square of surface area\n",
"\n",
"//for sphere\n",
"r=(3/(4*3.14))^(1/3)//radius of the sphere from volume of sphere v=(4*3.14*r^3)/3\n",
"A=4*3.14*((r)^2)\n",
"time1=1/(A)^2\n",
"printf('\n the solidification time for the sphere is %fC',time1)\n",
"\n",
"//for cube\n",
"a=1//edge of the cube\n",
"A=6*a^2\n",
"time2=1/(A)^2\n",
"printf('\n the solidification time for the cube is %fC',time2)\n",
"\n",
"//for cylinder\n",
"//given height =diameter \n",
"//radius=2*height\n",
"r=(1/(2*3.14))^(1/3)//radius of the cylinder from volume of the cylinder v=3.14*r^2*h\n",
"A=(6*3.14*(r^2)) //area of the cylinder = (2*3.14*radius^2) + (2*3.14*radius*height)\n",
"time3=1/(A)^2\n",
"printf('\n the solidification time for the sphere is %fC',time3)"
   ]
   }
],
"metadata": {
		  "kernelspec": {
		   "display_name": "Scilab",
		   "language": "scilab",
		   "name": "scilab"
		  },
		  "language_info": {
		   "file_extension": ".sce",
		   "help_links": [
			{
			 "text": "MetaKernel Magics",
			 "url": "https://github.com/calysto/metakernel/blob/master/metakernel/magics/README.md"
			}
		   ],
		   "mimetype": "text/x-octave",
		   "name": "scilab",
		   "version": "0.7.1"
		  }
		 },
		 "nbformat": 4,
		 "nbformat_minor": 0
}
