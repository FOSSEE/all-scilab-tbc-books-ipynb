{
"cells": [
 {
		   "cell_type": "markdown",
	   "metadata": {},
	   "source": [
       "# Chapter 36: Quality Assurance Testing And Inspection"
	   ]
	},
{
		   "cell_type": "markdown",
		   "metadata": {},
		   "source": [
			"## Example 36.1: Calculation_of_Loss_Function_and_Payback_Period_in_Polymer_Tubing.sce"
		   ]
		  },
  {
"cell_type": "code",
	   "execution_count": null,
	   "metadata": {
	    "collapsed": true
	   },
	   "outputs": [],
"source": [
"\n",
"clc \n",
"// Given that\n",
"T=2.6//in mm wall thickness\n",
"USL=3.2//in mm upper specification limit \n",
"LSL=2//in mm lower specification limit \n",
"Y=2.6//in mm mean\n",
"s=0.2//in mm standard deviation\n",
"C1=10//in dollar shipping included cost\n",
"C2=50000//in dollars improvement cost\n",
"n=10000//sections of tube per month\n",
"// Sample Problem on page no. 978\n",
"\n",
"printf('\n # Production of Polymer Tubing # \n')\n",
"\n",
"k=C1/(USL-T)^2\n",
"LossCost=k*(((Y-T)^2)+(s^2))\n",
"//after improvement the variation is half\n",
"s1=0.2/2\n",
"LossCost1=k*(((Y-T)^2)+(s1^2))\n",
"printf('\n\n Taguchi Loss Function = $ %f per unit ',LossCost1)\n",
"//answer in the book is approximated to $0.28 per unit \n",
"\n",
"savings=(LossCost-LossCost1)*n\n",
"paybackperiod=C2/savings\n",
"printf('\n\n Payback Period = %f months',paybackperiod)\n",
"//answer in the book is 6.02 months due to approximation savings \n",
"\n",
"\n",
"\n",
"\n",
""
   ]
   }
,
{
		   "cell_type": "markdown",
		   "metadata": {},
		   "source": [
			"## Example 36.2: Calculation_of_Control_Limits_and_Standard_Deviation.sce"
		   ]
		  },
  {
"cell_type": "code",
	   "execution_count": null,
	   "metadata": {
	    "collapsed": true
	   },
	   "outputs": [],
"source": [
"clc \n",
"// Given that\n",
"n=5// in inch sample size\n",
"m=10// in inch number of samples\n",
"// The table of the queston is given of page no.990 Table 36.3\n",
"\n",
"// Sample Problem on page no. 990\n",
"\n",
"printf('\n # Calculation of Control Limits and Standard Deviation# \n')\n",
"avgx=44.296 //from the table 36.3 by adding values of mean of x\n",
"x = avgx/m\n",
"avgR=1.03 //from the table 36.3 by adding values of R\n",
"R = avgR/m\n",
"//from the data in the book \n",
"A2=0.577\n",
"D4=2.115\n",
"D3=0\n",
"UCLx = x+(A2*R)\n",
"LCLx = x-(A2*R)\n",
"printf('\n\n Control Limits for Averages are =\n UCLx =  %f in \n UCLy =  %f in',UCLx,LCLx) \n",
"\n",
"UCLR =D3*R\n",
"LCLR =D4*R\n",
"\n",
"printf('\n\n Control Limits for Ranges are =\n UCLR =  %f in \n UCLR =  %f in',UCLR,LCLR) \n",
"\n",
"//from table\n",
"d2=2.326\n",
"sigma= R/d2\n",
"printf('\n\n Standard Deviation = %f in',sigma) \n",
"\n",
"\n",
"\n",
"\n",
"\n",
"\n",
"\n",
"\n",
""
   ]
   }
],
"metadata": {
		  "kernelspec": {
		   "display_name": "Scilab",
		   "language": "scilab",
		   "name": "scilab"
		  },
		  "language_info": {
		   "file_extension": ".sce",
		   "help_links": [
			{
			 "text": "MetaKernel Magics",
			 "url": "https://github.com/calysto/metakernel/blob/master/metakernel/magics/README.md"
			}
		   ],
		   "mimetype": "text/x-octave",
		   "name": "scilab",
		   "version": "0.7.1"
		  }
		 },
		 "nbformat": 4,
		 "nbformat_minor": 0
}
