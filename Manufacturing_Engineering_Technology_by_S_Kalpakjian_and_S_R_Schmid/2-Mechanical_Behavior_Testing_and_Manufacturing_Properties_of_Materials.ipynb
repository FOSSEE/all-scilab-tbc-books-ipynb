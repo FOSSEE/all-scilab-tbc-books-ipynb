{
"cells": [
 {
		   "cell_type": "markdown",
	   "metadata": {},
	   "source": [
       "# Chapter 2: Mechanical Behavior Testing and Manufacturing Properties of Materials"
	   ]
	},
{
		   "cell_type": "markdown",
		   "metadata": {},
		   "source": [
			"## Example 2.1: Calculation_of_Ultimate_Tensile_Strength.sce"
		   ]
		  },
  {
"cell_type": "code",
	   "execution_count": null,
	   "metadata": {
	    "collapsed": true
	   },
	   "outputs": [],
"source": [
"\n",
"clc \n",
"// Given that\n",
"//True stress=100000*(True strain)^0.5\n",
"\n",
"// Sample Problem on page no. 63\n",
"\n",
"printf('\n # Calculation of Ultimate Tensile Strength # \n')\n",
"//from the data given\n",
"n=0.5\n",
"E=0.5\n",
"K=100000\n",
"Truestress=K*((E)^n)\n",
"//let An(area of neck)/Ao=t\n",
"//from log(Ao/An)=n\n",
"t=exp(-n)\n",
"UTS=Truestress*exp(-n)//from the expression UTS= P/Ao where P(Maximum Load)=Truestress*An\n",
"printf('\n\n Ultimate Tensile Strength = %f psi',UTS)\n",
"//answer in the book is approximated to 42850 psi \n",
"\n",
"\n",
"\n",
"\n",
""
   ]
   }
],
"metadata": {
		  "kernelspec": {
		   "display_name": "Scilab",
		   "language": "scilab",
		   "name": "scilab"
		  },
		  "language_info": {
		   "file_extension": ".sce",
		   "help_links": [
			{
			 "text": "MetaKernel Magics",
			 "url": "https://github.com/calysto/metakernel/blob/master/metakernel/magics/README.md"
			}
		   ],
		   "mimetype": "text/x-octave",
		   "name": "scilab",
		   "version": "0.7.1"
		  }
		 },
		 "nbformat": 4,
		 "nbformat_minor": 0
}
