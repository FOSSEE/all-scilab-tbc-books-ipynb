{
"cells": [
 {
		   "cell_type": "markdown",
	   "metadata": {},
	   "source": [
       "# Chapter 25: Abrasive Machining and Finishing Operations"
	   ]
	},
{
		   "cell_type": "markdown",
		   "metadata": {},
		   "source": [
			"## Example 25.1: Calculation_of_Chip_Dimensions_in_Surface_Grinding.sce"
		   ]
		  },
  {
"cell_type": "code",
	   "execution_count": null,
	   "metadata": {
	    "collapsed": true
	   },
	   "outputs": [],
"source": [
"clc \n",
"// Given that\n",
"D=200//in mm Grinding Wheel diameter \n",
"d=0.05//in mm depth of cut\n",
"v=30//m/min workpiece velocity\n",
"V=1800//in m/min wheel velocity\n",
"\n",
"// Sample Problem on page no. 713\n",
"\n",
"printf('\n # Chip Dimensions in Surface Grinding # \n')\n",
"\n",
"l=sqrt(D*d)\n",
"l1=l/2.54*(10^-1)\n",
"printf('\n\n Undeformed Chip Length = %f mm',l1)\n",
"\n",
"//the answer in the book is approximated to 0.13 in\n",
"\n",
"//assume\n",
"C=2//in mm\n",
"r=15\n",
"t=sqrt(((4*v)/(V*C*r))*sqrt(d/D))\n",
"t1=t/2.54*(10^-1)\n",
"printf('\n\n Undeformed chip Thickness = %f in',t1)\n",
"\n",
"//the answer in the book is approximated to 0.00023in\n",
"\n",
"\n",
""
   ]
   }
,
{
		   "cell_type": "markdown",
		   "metadata": {},
		   "source": [
			"## Example 25.2: Calculation_of_Force_in_Surface_Grinding.sce"
		   ]
		  },
  {
"cell_type": "code",
	   "execution_count": null,
	   "metadata": {
	    "collapsed": true
	   },
	   "outputs": [],
"source": [
"clc \n",
"// Given that\n",
"D=10//in inch Grinding Wheel diameter\n",
"N=4000//in rpm \n",
"w=1//in inch \n",
"d=0.002//in inch depth of cut\n",
"v=60//inch/min feed rate of the workpiece\n",
"\n",
"// Sample Problem on page no. 715\n",
"\n",
"printf('\n # force in Surface Grinding # \n')\n",
"\n",
"Mrr=d*w*v//material removal rate\n",
"//for low carbon steel , the specific energy is 15hp min/in3\n",
"u=15//in hp min/in3\n",
"P=u*Mrr*396000//in lb/min\n",
"Fc = P/(2*3.14*N*(D/2))\n",
"\n",
"printf('\n\n Cutting Force = %f lb',Fc)\n",
"// Answer in the book is approximated to 5.7 lb\n",
"\n",
"// from the experimental data in book thrust force is taken as 30% higher than cutting force\n",
"Fn = Fc+(30/100)*Fc\n",
"\n",
"printf('\n\n Thrust Force = %f lb',Fn)\n",
"// Answer in the book is approximated to 7.4 lb\n",
"\n",
"\n",
"\n",
"\n",
"\n",
""
   ]
   }
],
"metadata": {
		  "kernelspec": {
		   "display_name": "Scilab",
		   "language": "scilab",
		   "name": "scilab"
		  },
		  "language_info": {
		   "file_extension": ".sce",
		   "help_links": [
			{
			 "text": "MetaKernel Magics",
			 "url": "https://github.com/calysto/metakernel/blob/master/metakernel/magics/README.md"
			}
		   ],
		   "mimetype": "text/x-octave",
		   "name": "scilab",
		   "version": "0.7.1"
		  }
		 },
		 "nbformat": 4,
		 "nbformat_minor": 0
}
