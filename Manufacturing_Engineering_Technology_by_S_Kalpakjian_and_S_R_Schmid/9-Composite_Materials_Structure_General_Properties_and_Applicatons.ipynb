{
"cells": [
 {
		   "cell_type": "markdown",
	   "metadata": {},
	   "source": [
       "# Chapter 9: Composite Materials Structure General Properties and Applicatons"
	   ]
	},
{
		   "cell_type": "markdown",
		   "metadata": {},
		   "source": [
			"## Example 9.1: Calculation_of_fraction_of_load_supported_by_fibre.sce"
		   ]
		  },
  {
"cell_type": "code",
	   "execution_count": null,
	   "metadata": {
	    "collapsed": true
	   },
	   "outputs": [],
"source": [
"clc \n",
"// Given that\n",
"x=0.2// Area fraction of the fibre in the composite \n",
"Ef= 300 // Elastic modulus of the fibre in GPa\n",
"Em= 100 // Elastic modulus of the matrix in GPa\n",
"// Sample Problem on page no. 229\n",
"printf('\n # application of reinforced plastics # \n')\n",
"Ec = x*Ef + (1-x)*Em\n",
"printf('\n\n The Elastic Modulus of the composite is = %d GPa',Ec)\n",
"//Let Pf/Pm be r\n",
"r=x*Ef/((1-x)*Em) \n",
" \n",
"//Let Pc/Pf be R\n",
"R=1+(1/r) // from the relation  Pc = Pf + Pm\n",
"P=(1*100)/R\n",
"printf('\n\n The Fraction of load supported by Fibre is = %f Percent',P)\n",
"// Answer in the book is approximated to 43 %"
   ]
   }
],
"metadata": {
		  "kernelspec": {
		   "display_name": "Scilab",
		   "language": "scilab",
		   "name": "scilab"
		  },
		  "language_info": {
		   "file_extension": ".sce",
		   "help_links": [
			{
			 "text": "MetaKernel Magics",
			 "url": "https://github.com/calysto/metakernel/blob/master/metakernel/magics/README.md"
			}
		   ],
		   "mimetype": "text/x-octave",
		   "name": "scilab",
		   "version": "0.7.1"
		  }
		 },
		 "nbformat": 4,
		 "nbformat_minor": 0
}
