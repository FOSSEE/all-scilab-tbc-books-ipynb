{
"cells": [
 {
		   "cell_type": "markdown",
	   "metadata": {},
	   "source": [
       "# Chapter 18: Forming and Shaping Plastics And Composite Materials"
	   ]
	},
{
		   "cell_type": "markdown",
		   "metadata": {},
		   "source": [
			"## Example 18.1: Calculation_of_Diameter_of_Die_in_Extrusion.sce"
		   ]
		  },
  {
"cell_type": "code",
	   "execution_count": null,
	   "metadata": {
	    "collapsed": true
	   },
	   "outputs": [],
"source": [
"clc \n",
"// Given that\n",
"W=400//in mm Lateral(width) Dimension of a plastic shopping bag \n",
"\n",
"// Sample Problem on page no. 484\n",
"\n",
"printf('\n # Blown Film # \n')\n",
"\n",
"//part(a)\n",
"\n",
"P=2*W//in mm Perimeter of bag\n",
"D=P/3.14//in mm blown diameter calculated from Permeter=3.14*diameter\n",
"//Given in this process, a tube is expanded to form 1.5 to 2.5 in times the extrusion die diameter, so take maximum value 2.5\n",
"Dd=D/2.5//Extrusion die diameter\n",
"printf('\n\n Extrusion Die Diameter =%d mm',Dd)\n",
"\n",
"//Answer in the book is approximated to 100mm\n",
"\n",
"//part(b) is theoritical"
   ]
   }
,
{
		   "cell_type": "markdown",
		   "metadata": {},
		   "source": [
			"## Example 18.2: Calculation_of_number_of_Gears_In_Injection_Moulding.sce"
		   ]
		  },
  {
"cell_type": "code",
	   "execution_count": null,
	   "metadata": {
	    "collapsed": true
	   },
	   "outputs": [],
"source": [
"clc \n",
"// Given that\n",
"W=250//in ton Weight of injection moulding machine\n",
"d=4.5//in inch diameter of spur gear\n",
"t=0.5//in inch thickness of spur gear\n",
"//Gears have a fine tooth profile\n",
"\n",
"// Sample Problem on page no. 488\n",
"\n",
"printf('\n # Injection Molding of Parts # \n')\n",
"\n",
"//because of fine tooth profile pressure required in the mould cavity is assumed to be of the order 100MPa or 15Ksi\n",
"p=15//inKsi\n",
"A=(3.14*(d^2))/4//in inch^2 area of the gear\n",
"F=A*15*1000\n",
"n=(W*2000)/F //weight is converted into lb by multiplying it by 2000\n",
"printf('\n\n Number of gears that can be injected =%d',n)\n",
"\n",
"// Second part of this question is theoritical"
   ]
   }
],
"metadata": {
		  "kernelspec": {
		   "display_name": "Scilab",
		   "language": "scilab",
		   "name": "scilab"
		  },
		  "language_info": {
		   "file_extension": ".sce",
		   "help_links": [
			{
			 "text": "MetaKernel Magics",
			 "url": "https://github.com/calysto/metakernel/blob/master/metakernel/magics/README.md"
			}
		   ],
		   "mimetype": "text/x-octave",
		   "name": "scilab",
		   "version": "0.7.1"
		  }
		 },
		 "nbformat": 4,
		 "nbformat_minor": 0
}
