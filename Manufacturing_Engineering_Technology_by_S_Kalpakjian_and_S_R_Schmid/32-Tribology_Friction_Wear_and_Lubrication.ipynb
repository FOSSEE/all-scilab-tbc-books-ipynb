{
"cells": [
 {
		   "cell_type": "markdown",
	   "metadata": {},
	   "source": [
       "# Chapter 32: Tribology Friction Wear and Lubrication"
	   ]
	},
{
		   "cell_type": "markdown",
		   "metadata": {},
		   "source": [
			"## Example 32.1: Calculation_of_Cofficient_of_Friction.sce"
		   ]
		  },
  {
"cell_type": "code",
	   "execution_count": null,
	   "metadata": {
	    "collapsed": true
	   },
	   "outputs": [],
"source": [
"clc \n",
"// Given that\n",
"hi=10//in mm height of specimen\n",
"ODi=30//in mm outside diameter \n",
"IDi=15//in mm inside diameter \n",
"ODf=38//in mm outside diameter after deformaton\n",
"//Specimen is reduced in thickness by 50%\n",
"hf=(50/100)*hi\n",
"\n",
"// Sample Problem on page no. 886\n",
"\n",
"printf('\n # Determination of Cofficient of Friction # \n')\n",
"\n",
"IDf=sqrt((ODf^2)-((((ODi^2)-(IDi^2))*hi)/hf)) //new internal diameter calculated , by comparing the volume before and after deformation (3.14/4)*(ODi^2-IDi^2)*hi=(3.14/4)*(ODf^2-IDf^2)*hf\n",
"ID=((IDi-IDf)/IDi)*100//change in internal diameter \n",
"\n",
"printf('\n\n With a 50 percent reduction in height and a %d reduction in internal diameter, from the book data Cofficient of Friction = 0.21',ID) \n",
"\n",
"\n",
"\n",
"\n",
""
   ]
   }
],
"metadata": {
		  "kernelspec": {
		   "display_name": "Scilab",
		   "language": "scilab",
		   "name": "scilab"
		  },
		  "language_info": {
		   "file_extension": ".sce",
		   "help_links": [
			{
			 "text": "MetaKernel Magics",
			 "url": "https://github.com/calysto/metakernel/blob/master/metakernel/magics/README.md"
			}
		   ],
		   "mimetype": "text/x-octave",
		   "name": "scilab",
		   "version": "0.7.1"
		  }
		 },
		 "nbformat": 4,
		 "nbformat_minor": 0
}
