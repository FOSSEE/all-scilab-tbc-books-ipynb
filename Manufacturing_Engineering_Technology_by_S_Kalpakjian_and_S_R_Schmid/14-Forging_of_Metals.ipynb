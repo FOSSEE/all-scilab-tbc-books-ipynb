{
"cells": [
 {
		   "cell_type": "markdown",
	   "metadata": {},
	   "source": [
       "# Chapter 14: Forging of Metals"
	   ]
	},
{
		   "cell_type": "markdown",
		   "metadata": {},
		   "source": [
			"## Example 14.1: Calculation_of_Forging_Force.sce"
		   ]
		  },
  {
"cell_type": "code",
	   "execution_count": null,
	   "metadata": {
	    "collapsed": true
	   },
	   "outputs": [],
"source": [
"clc \n",
"// Given that\n",
"d=150//in mm Diameter of the solid cylinder \n",
"Hi=100 //in mm Height of the cylinder\n",
"u=0.2 // Cofficient of friction\n",
"\n",
"// Sample Problem on page no. 344\n",
"\n",
"printf('\n # Calculation of forging force # \n')\n",
"\n",
"//cylinder is reduced in height by 50%\n",
"Hf=100/2\n",
"//Volume before deformation= Volume after deformation\n",
"r=sqrt((3.14*75^2*100)/(3.14*50))//r is the final radius of the cylinder\n",
"E=log(Hi/Hf)//absolute value of true strain\n",
"//given that cylinder is made of 304 stainless steel\n",
"Yf=1000 //in Mpa flow stress of the material from data in the book\n",
"F = Yf*(10^6)*3.14*(r^2)*10^-6*(1+((2*u*r)/(3*Hf)))//Forging Force\n",
"F1=F/(10^6)\n",
"printf('\n\n Forging force = %d MN',F1)\n",
"\n",
""
   ]
   }
],
"metadata": {
		  "kernelspec": {
		   "display_name": "Scilab",
		   "language": "scilab",
		   "name": "scilab"
		  },
		  "language_info": {
		   "file_extension": ".sce",
		   "help_links": [
			{
			 "text": "MetaKernel Magics",
			 "url": "https://github.com/calysto/metakernel/blob/master/metakernel/magics/README.md"
			}
		   ],
		   "mimetype": "text/x-octave",
		   "name": "scilab",
		   "version": "0.7.1"
		  }
		 },
		 "nbformat": 4,
		 "nbformat_minor": 0
}
