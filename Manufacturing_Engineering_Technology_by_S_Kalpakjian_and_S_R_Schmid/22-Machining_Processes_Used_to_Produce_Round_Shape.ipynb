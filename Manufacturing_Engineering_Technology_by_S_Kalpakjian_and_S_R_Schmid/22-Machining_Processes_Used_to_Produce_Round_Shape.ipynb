{
"cells": [
 {
		   "cell_type": "markdown",
	   "metadata": {},
	   "source": [
       "# Chapter 22: Machining Processes Used to Produce Round Shape"
	   ]
	},
{
		   "cell_type": "markdown",
		   "metadata": {},
		   "source": [
			"## Example 22.1: Calculation_of_Material_Removal_Rate_and_Cutting_Force_in_Turning.sce"
		   ]
		  },
  {
"cell_type": "code",
	   "execution_count": null,
	   "metadata": {
	    "collapsed": true
	   },
	   "outputs": [],
"source": [
"clc \n",
"// Given that\n",
"l=6//in inch Length of rod  \n",
"di=1/2//in inch initial diameter of rod\n",
"df=0.480//in inch final diameter of rod\n",
"N=400//in rpm spindle rotation\n",
"Vt=8//in inch/minute axial speed of the tool\n",
"\n",
"// Sample Problem on page no. 600\n",
"\n",
"printf('\n # Material Removal Rate and Cutting Force in Turning # \n')\n",
"\n",
"V=3.14*di*N\n",
"printf('\n\n Cutting speed=%d in/min',V)\n",
"\n",
"v1=3.14*df*N//cutting speed from machined diameter\n",
"d=(di-df)/2//depth of cut\n",
"f=Vt/N//feed\n",
"Davg=(di+df)/2\n",
"MRR=3.14*Davg*d*f*N \n",
"printf('\n\n Material Removal Rate %f=in^3/min',MRR)\n",
"\n",
"t=l/(f*N)\n",
"printf('\n\n Cutting time=%f min',t)\n",
"\n",
"P=(4/2.73)*MRR//average value of stainless steel is taken as 4 ws/mm3 or 4/2.73 hpmin/mm3\n",
"printf('\n\n Cutting power=%f hp',P)\n",
"\n",
"Fc=((P*396000)/(N*2*3.14))/(Davg/2)\n",
"printf('\n\n Cutting force=%d lb',Fc)\n",
"\n",
"//answer in the book is given 118 lb due to approximation\n",
"\n",
"\n",
"\n",
""
   ]
   }
,
{
		   "cell_type": "markdown",
		   "metadata": {},
		   "source": [
			"## Example 22.2: Calculation_of_Material_Removal_Rate_and_Torque_in_Drlling.sce"
		   ]
		  },
  {
"cell_type": "code",
	   "execution_count": null,
	   "metadata": {
	    "collapsed": true
	   },
	   "outputs": [],
"source": [
"clc \n",
"// Given that  \n",
"d=10//in mm diameter of drill bit\n",
"f=0.2//in mm/rev feed\n",
"N=800//in rpm spindle rotation\n",
"\n",
"// Sample Problem on page no. 632\n",
"\n",
"printf('\n # Material Removal Rate and Torque in Drilling # \n')\n",
"\n",
"MRR=[((3.14*(d^2))/4)*f*N]/60\n",
"printf('\n\n Material Removal Rate %d=mm^3/sec',MRR)\n",
"\n",
"//Answer in the book is given 210 mm^3/sec\n",
"\n",
"//from the book data an average unit power of 0.5Ws/mm2 for magnesium is taken\n",
"T=(MRR*0.5)/((N*2*3.14)/60)\n",
"printf('\n\n Torque on the drill %f=Nm',T)\n",
"\n",
""
   ]
   }
],
"metadata": {
		  "kernelspec": {
		   "display_name": "Scilab",
		   "language": "scilab",
		   "name": "scilab"
		  },
		  "language_info": {
		   "file_extension": ".sce",
		   "help_links": [
			{
			 "text": "MetaKernel Magics",
			 "url": "https://github.com/calysto/metakernel/blob/master/metakernel/magics/README.md"
			}
		   ],
		   "mimetype": "text/x-octave",
		   "name": "scilab",
		   "version": "0.7.1"
		  }
		 },
		 "nbformat": 4,
		 "nbformat_minor": 0
}
