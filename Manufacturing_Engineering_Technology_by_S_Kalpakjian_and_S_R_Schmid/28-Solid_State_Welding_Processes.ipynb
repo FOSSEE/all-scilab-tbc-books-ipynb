{
"cells": [
 {
		   "cell_type": "markdown",
	   "metadata": {},
	   "source": [
       "# Chapter 28: Solid State Welding Processes"
	   ]
	},
{
		   "cell_type": "markdown",
		   "metadata": {},
		   "source": [
			"## Example 28.1: Calculation_of_Heat_Generated_in_Spot_Welding.sce"
		   ]
		  },
  {
"cell_type": "code",
	   "execution_count": null,
	   "metadata": {
	    "collapsed": true
	   },
	   "outputs": [],
"source": [
"clc \n",
"// Given that\n",
"t=1//in mm thickness of chip\n",
"I=5000//in Ampere current\n",
"T=0.1//in sec\n",
"d=5//in mm diameter of electrode\n",
"\n",
"\n",
"// Sample Problem on page no. 805\n",
"\n",
"printf('\n # Heat Generated in Spot Welding # \n')\n",
"\n",
"//It is assumed in the book that effective restiance = 200 micro ohm\n",
"R=200*(10^-6)\n",
"H=(I^2)*R*T\n",
"\n",
"printf('\n\n Heat Generated = %d J',H)\n",
"\n",
"// It is assumed in the book that \n",
"V=30//in mm3 volume\n",
"D=0.008//in g/mm3 density\n",
"M=D*V\n",
"//Heat required to melt 1 g of steel is about 1400J\n",
"m1=1400*M\n",
"printf('\n\n Heat Required to melt weld nugget = %d J',m1)\n",
"\n",
"m2=H-m1\n",
"printf('\n\n Heat Dissipitated into the metal surrounding the nugget = %d J',m2)\n",
"\n",
"\n",
"\n",
"\n",
"\n",
""
   ]
   }
],
"metadata": {
		  "kernelspec": {
		   "display_name": "Scilab",
		   "language": "scilab",
		   "name": "scilab"
		  },
		  "language_info": {
		   "file_extension": ".sce",
		   "help_links": [
			{
			 "text": "MetaKernel Magics",
			 "url": "https://github.com/calysto/metakernel/blob/master/metakernel/magics/README.md"
			}
		   ],
		   "mimetype": "text/x-octave",
		   "name": "scilab",
		   "version": "0.7.1"
		  }
		 },
		 "nbformat": 4,
		 "nbformat_minor": 0
}
