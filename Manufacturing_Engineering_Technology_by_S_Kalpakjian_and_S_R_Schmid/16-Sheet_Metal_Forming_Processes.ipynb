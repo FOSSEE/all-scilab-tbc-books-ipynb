{
"cells": [
 {
		   "cell_type": "markdown",
	   "metadata": {},
	   "source": [
       "# Chapter 16: Sheet Metal Forming Processes"
	   ]
	},
{
		   "cell_type": "markdown",
		   "metadata": {},
		   "source": [
			"## Example 16.1: Calculation_of_Punch_Force.sce"
		   ]
		  },
  {
"cell_type": "code",
	   "execution_count": null,
	   "metadata": {
	    "collapsed": true
	   },
	   "outputs": [],
"source": [
"clc \n",
"// Given that\n",
"d=1//in inch Diameter of the hole\n",
"T=(1/8)//in inch thickness of the sheet\n",
"\n",
"// Sample Problem on page no. 396\n",
"\n",
"printf('\n # Calculation of Punch Force# \n')\n",
"\n",
"UTS=140000//in psi Ultimate Tensile Strength of the titanium alloy Ti-6Al-4V\n",
"L=3.14*d//total length sheared which is the perimeter of the hole\n",
"F=0.7*T*L*UTS\n",
"F1=F*4.448/(10^6)\n",
"printf('\n\n Extrusion force=%f MN',F1)\n",
"\n",
"//Answer in the book is approximated to 0.17MN"
   ]
   }
],
"metadata": {
		  "kernelspec": {
		   "display_name": "Scilab",
		   "language": "scilab",
		   "name": "scilab"
		  },
		  "language_info": {
		   "file_extension": ".sce",
		   "help_links": [
			{
			 "text": "MetaKernel Magics",
			 "url": "https://github.com/calysto/metakernel/blob/master/metakernel/magics/README.md"
			}
		   ],
		   "mimetype": "text/x-octave",
		   "name": "scilab",
		   "version": "0.7.1"
		  }
		 },
		 "nbformat": 4,
		 "nbformat_minor": 0
}
