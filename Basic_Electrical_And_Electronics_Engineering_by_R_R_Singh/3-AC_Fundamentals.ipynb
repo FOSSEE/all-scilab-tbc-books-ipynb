{
"cells": [
 {
		   "cell_type": "markdown",
	   "metadata": {},
	   "source": [
       "# Chapter 3: AC Fundamentals"
	   ]
	},
{
		   "cell_type": "markdown",
		   "metadata": {},
		   "source": [
			"## Example 3.10: Time_at_which_current_attain_a_particular_value.sci"
		   ]
		  },
  {
"cell_type": "code",
	   "execution_count": null,
	   "metadata": {
	    "collapsed": true
	   },
	   "outputs": [],
"source": [
"//Example 10,Chapter 3\n",
"//(i)\n",
"clc;\n",
"Ieff=7.071/sqrt(2)\n",
"Irms=Ieff\n",
"Im=5*sqrt(2)\n",
"//(ii)\n",
"f=(157.08)/(2*%pi)\n",
"T=(1/f)\n",
"printf('\n T=%.2f s \n',T)\n",
"//(iii)\n",
"t=(asin((7.071/7.071))+0.785)/157.08\n",
"printf('\n t=%.3f s \n',t)\n",
"\n",
""
   ]
   }
,
{
		   "cell_type": "markdown",
		   "metadata": {},
		   "source": [
			"## Example 3.15: Form_factor_Frequence_and_Crest_Factor.sci"
		   ]
		  },
  {
"cell_type": "code",
	   "execution_count": null,
	   "metadata": {
	    "collapsed": true
	   },
	   "outputs": [],
"source": [
"//Example 15,Chapter 3\n",
"clc;\n",
"f=(314/(2*%pi))\n",
"printf('\n f=%.0f Hz \n',f)\n",
"disp('For a sinusoidal waveform')\n",
"disp('Vavg=2Vm/pi')\n",
"disp('Vrms=Vm/sqrt(2)')\n",
"//(ii)\n",
"disp('kf=Vrms/Vavg')\n",
"kf=%pi/(2*sqrt(2))\n",
"printf('\n kf=%.2f \n',kf)\n",
"//(iii)\n",
"disp('kp=Vm/Vrms')\n",
"kp=sqrt(2)\n",
"printf('\n kp=%.3f \n',kp)\n",
""
   ]
   }
,
{
		   "cell_type": "markdown",
		   "metadata": {},
		   "source": [
			"## Example 3.16: RMS_value_and_maximum_value.sci"
		   ]
		  },
  {
"cell_type": "code",
	   "execution_count": null,
	   "metadata": {
	    "collapsed": true
	   },
	   "outputs": [],
"source": [
"//Example 16,Chapter 3\n",
"kf=1.2 //Form factor\n",
"kp=1.5 //Peak factor\n",
"Vavg=10\n",
"//(i)\n",
"Vrms=kf*Vavg\n",
"printf('\n Vrms=%.0f V \n',Vrms)\n",
"//(ii)\n",
"Vm=kp*Vrms\n",
"printf('\n Vm=%.0f V \n',Vm)\n",
""
   ]
   }
,
{
		   "cell_type": "markdown",
		   "metadata": {},
		   "source": [
			"## Example 3.17: Average_value_and_RMS_value_of_voltage.sci"
		   ]
		  },
  {
"cell_type": "code",
	   "execution_count": null,
	   "metadata": {
	    "collapsed": true
	   },
	   "outputs": [],
"source": [
"//Example 17,Chapter 3\n",
"kf=1.15\n",
"kp=1.5\n",
"Vm=4500\n",
"//(i)\n",
"Vrms=Vm/kp\n",
"printf('\n Vrms=%.0f V \n',Vrms)\n",
"//(ii)\n",
"Vavg=Vrms/kf\n",
"printf('\n Vavg=%.1f V \n',Vavg)"
   ]
   }
,
{
		   "cell_type": "markdown",
		   "metadata": {},
		   "source": [
			"## Example 3.1: Mean_value_of_current.sci"
		   ]
		  },
  {
"cell_type": "code",
	   "execution_count": null,
	   "metadata": {
	    "collapsed": true
	   },
	   "outputs": [],
"source": [
"//Chapter 3,Ex3.1,Pg3.4\n",
"clc;\n",
"Im=15/(sin(2*%pi*3.375*0.001*40))\n",
"printf('\n Im=%.0f A \n',Im)\n",
""
   ]
   }
,
{
		   "cell_type": "markdown",
		   "metadata": {},
		   "source": [
			"## Example 3.2: Time_at_which_current_attain_a_particular_value.sce"
		   ]
		  },
  {
"cell_type": "code",
	   "execution_count": null,
	   "metadata": {
	    "collapsed": true
	   },
	   "outputs": [],
"source": [
"//Chapter 3,Ex3.2,Pg3.4\n",
"clc;\n",
"//(a)\n",
"//Given that f=50c/s and Im=100A\n",
"i=100*sin(2*%pi*50*(1/600))\n",
"printf('\n Instantaneous value of current i=%.0f A \n',i)\n",
"//(b)\n",
"t=(asin(60*%pi)/180)/(100*180)\n",
"printf('\n t=%.4f sec \n',t)"
   ]
   }
,
{
		   "cell_type": "markdown",
		   "metadata": {},
		   "source": [
			"## Example 3.3: Time_at_which_current_attain_a_particular_value.sci"
		   ]
		  },
  {
"cell_type": "code",
	   "execution_count": null,
	   "metadata": {
	    "collapsed": true
	   },
	   "outputs": [],
"source": [
"clc;\n",
"f=50 //Frequence in hertz\n",
"Irms=20 //Rms current in amperes\n",
"Im=Irms*sqrt(2)\n",
"disp('(i)')\n",
"printf('\n Im=%02f A \n',Im)\n",
"t=0.0025 //Time in seconds\n",
"i=Im*sin(2*%pi*f*t)\n",
"disp('(ii)')\n",
"printf('\n i=%.0f \n',i)\n",
"t=0.0125\n",
"i=Im*sin(2*%pi*f*t)\n",
"disp('(iii)')\n",
"printf('\n i=%.0f \n',i)\n",
"i1=14.14/Im\n",
"disp(i1)\n",
"i2=asin(i1)\n",
"i2=i2*180/%pi\n",
"disp(i2)\n",
"i=i2/(2*180*f)\n",
"printf('\n i=%.2f \n ms',i*10^3)\n",
""
   ]
   }
,
{
		   "cell_type": "markdown",
		   "metadata": {},
		   "source": [
			"## Example 3.4: Time_at_which_current_attain_a_particular_value.sce"
		   ]
		  },
  {
"cell_type": "code",
	   "execution_count": null,
	   "metadata": {
	    "collapsed": true
	   },
	   "outputs": [],
"source": [
"clc;\n",
"f=60\n",
"Im=110\n",
"disp('(i)')\n",
"t1=90/Im\n",
"t2=asin(t1)\n",
"disp(t2)\n",
"t2=t1*180/%pi\n",
"disp(t2)\n",
"t=t1/21600\n",
"printf('\n t=%.2f ms \n',t*10^3)"
   ]
   }
,
{
		   "cell_type": "markdown",
		   "metadata": {},
		   "source": [
			"## Example 3.5: Time_at_which_current_attain_a_particular_value.sci"
		   ]
		  },
  {
"cell_type": "code",
	   "execution_count": null,
	   "metadata": {
	    "collapsed": true
	   },
	   "outputs": [],
"source": [
"//Example 5,Chapter 3\n",
"clc;\n",
"f=50 //Frequency in hertz\n",
"Im=9.2 //Current in amperes\n",
"//(i)\n",
"t=0.002\n",
"i=Im*sin(2*%pi*f*t)\n",
"printf('\n Instantaneous value of current=%.2f A \n',i)\n",
"//(ii)\n",
"t=0.0045\n",
"t=(1/(4*f))+0.0045\n",
"i=Im*sin(2*%pi*f*t)\n",
"printf('\n Instantaneous Value=%.2f A \n',i)"
   ]
   }
,
{
		   "cell_type": "markdown",
		   "metadata": {},
		   "source": [
			"## Example 3.6: Time_at_which_current_attain_a_particular_value.sci"
		   ]
		  },
  {
"cell_type": "code",
	   "execution_count": null,
	   "metadata": {
	    "collapsed": true
	   },
	   "outputs": [],
"source": [
"//Example6, Chapter 3\n",
"clc;\n",
"f=50\n",
"Irms=20\n",
"//(i)\n",
"Im=Irms*sqrt(2)\n",
"i=10*sqrt(2)\n",
"ans=asin(i/Im)\n",
"ans=ans*180/%pi\n",
"t= ans/(2*180*f)\n",
"printf('\n t=%.0f ms \n',t*10^3)\n",
"//(ii)\n",
"t=(1/(4*f))+t\n",
"printf('\n t=%.2f ms \n',t)"
   ]
   }
,
{
		   "cell_type": "markdown",
		   "metadata": {},
		   "source": [
			"## Example 3.8: Time_at_which_current_attain_a_particular_value.sci"
		   ]
		  },
  {
"cell_type": "code",
	   "execution_count": null,
	   "metadata": {
	    "collapsed": true
	   },
	   "outputs": [],
"source": [
"//Example 8,Chapter 3\n",
"clc;\n",
"f=50\n",
"Irms=10 //Current in amperes\n",
"//(i)\n",
"Im=Irms*sqrt(2)\n",
"disp('14.14sin(18000t)')\n",
"//(ii)\n",
"t=0.0025\n",
"t=(1/(4*f)) + t\n",
"printf('\n t=%.1f ms \n',t*10^3)\n",
"i=14.14*sin(18000*7.5*10^-3)\n",
"printf('\n i=%.0f A \n',i)\n",
"//(ii)\n",
"t=0.0075\n",
"t=(1/(2*f))+t\n",
"printf('\n t=%.1f ms \n',t*10^3)\n",
"i=14.14*sin(18000*t*10^-3)\n",
"printf('\n i=%.0f A \n',i)\n",
"\n",
"\n",
"\n",
""
   ]
   }
],
"metadata": {
		  "kernelspec": {
		   "display_name": "Scilab",
		   "language": "scilab",
		   "name": "scilab"
		  },
		  "language_info": {
		   "file_extension": ".sce",
		   "help_links": [
			{
			 "text": "MetaKernel Magics",
			 "url": "https://github.com/calysto/metakernel/blob/master/metakernel/magics/README.md"
			}
		   ],
		   "mimetype": "text/x-octave",
		   "name": "scilab",
		   "version": "0.7.1"
		  }
		 },
		 "nbformat": 4,
		 "nbformat_minor": 0
}
