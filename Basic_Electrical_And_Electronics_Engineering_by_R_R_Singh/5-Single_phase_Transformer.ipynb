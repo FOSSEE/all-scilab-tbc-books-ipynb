{
"cells": [
 {
		   "cell_type": "markdown",
	   "metadata": {},
	   "source": [
       "# Chapter 5: Single phase Transformer"
	   ]
	},
{
		   "cell_type": "markdown",
		   "metadata": {},
		   "source": [
			"## Example 5.11: Example_number_11.sci"
		   ]
		  },
  {
"cell_type": "code",
	   "execution_count": null,
	   "metadata": {
	    "collapsed": true
	   },
	   "outputs": [],
"source": [
"//Chapter 5,Ex5.10,Pg5.13\n",
"clc;\n",
"E1=6600 //Primary voltage\n",
"E2=400 //Secondary voltage\n",
"R1=2.5 //Primary resistance\n",
"X1=3.9 //Primary reactance\n",
"X2=0.025 //Secondary reactance\n",
"R2=0.01 //Secondary resistance\n",
"K=E2/E1 \n",
"//Equivalent resistance referred to primary\n",
"R01=R1+(R2/(K^2))\n",
"printf('\n Equivalent resistance referred to primary=%.2f ohms \n',R01)\n",
"//Equivalent reactance referred to primary\n",
"X01=X1+(X2/(K^2))\n",
"printf('\n Equivalent reactance referred to secondary =%.2f ohms \n',X01)\n",
"//Equivalent resistance referred to secondary\n",
"R02=R2+((K^2)*R1)\n",
"printf('\n Equivalent resistance referred to secondary=%.2f ohms \n',R02)\n",
"//Equivalent resistance referred to secondary\n",
"X02=X2+((K^2)*X2)\n",
"printf('\n Equivalent resistance referred to secondary=%.2f ohms \n',X02)\n",
""
   ]
   }
,
{
		   "cell_type": "markdown",
		   "metadata": {},
		   "source": [
			"## Example 5.12: Example_number_12.sci"
		   ]
		  },
  {
"cell_type": "code",
	   "execution_count": null,
	   "metadata": {
	    "collapsed": true
	   },
	   "outputs": [],
"source": [
"//Chapter 5,Ex5.12,Pg5.14\n",
"clc;\n",
"E1=4400 //Primary EMF\n",
"R1=3.45 //Primary resistance in ohms\n",
"X1=5.2 //Primary reactance in ohms\n",
"E2=220 //Secondary EMF\n",
"R2=0.009 //Secondary resistance in ohms\n",
"X2=0.015 //Secondary reactance in ohms\n",
"K=E2/E1\n",
"I1=50*1000/E1 //Using the formula I1=kVA rating*1000/E\n",
"printf('\n Full load Primary current I1=%.2f A \n',I1)\n",
"I2=50*1000/220\n",
"printf('\n Full load secondary current I2=%.2f A \n',I2)\n",
"R01=R1+(R2/(K*K))\n",
"printf('\n Equivalent resistance referred to primary=%.2f ohms \n',R01)\n",
"X01=X1+(X2/(K*K))\n",
"printf('\n Equivalent reactance referred to primary =%.1f ohms \n',X01)\n",
"Z01=sqrt((R01^2)+(X01*X01))\n",
"printf('\n Equivalent impedance referred to primary=%.2f ohms \n',Z01)\n",
"R02=(K^2)*R01\n",
"printf('\n Equivalent resistance referred to secondary=%.2f ohms \n',R02)\n",
"X02=(K^2)*X01\n",
"printf('\n Equivalent reactance referred to secondary=%.3f ohms \n',X02)\n",
"Z02=(K^2)*Z01\n",
"printf('\n Equivalent impedance referred to secondary=%.2f ohms \n',Z02)\n",
"CL1=(I1^2)*R1 + (I2^2)*R2\n",
"printf('\n Copper losses with individual resistances=%.2f W \n',CL1)\n",
"CL2=(I1^2)*R01\n",
"printf('\n Copper loss with equivalent resistances=%.1f W \n',CL2)\n",
""
   ]
   }
,
{
		   "cell_type": "markdown",
		   "metadata": {},
		   "source": [
			"## Example 5.13: Example_number_13.sci"
		   ]
		  },
  {
"cell_type": "code",
	   "execution_count": null,
	   "metadata": {
	    "collapsed": true
	   },
	   "outputs": [],
"source": [
"//Chapter 5,Ex5.13,Pg5.17\n",
"clc;\n",
"E2=440 //Secondary voltage\n",
"V2=400 //voltage at full load\n",
"//Given that power factor=0.8(lagging)\n",
"percentreg=((E2-V2)/E2)*100\n",
"printf('\n Percentage regulation=%.2f percent\n',percentreg)"
   ]
   }
,
{
		   "cell_type": "markdown",
		   "metadata": {},
		   "source": [
			"## Example 5.15: Example_number_15.sci"
		   ]
		  },
  {
"cell_type": "code",
	   "execution_count": null,
	   "metadata": {
	    "collapsed": true
	   },
	   "outputs": [],
"source": [
"//Chapter 5,Ex5.16,Pg5.18\n",
"clc;\n",
"//Let x=cos(phi) and y=sin(phi)\n",
"x=0.8\n",
"y=0.6\n",
"vr=1\n",
"vx=5\n",
"//For 0.8 lagging power factor\n",
"percentreg=vr*x+vx*y\n",
"printf('\n Percentage regulation=%.1f percent \n',percentreg)\n",
"//For unity power factor\n",
"x=1\n",
"y=0\n",
"percentreg=vr*x+vx*y\n",
"printf('\n Percent regulation=%.0f percent \n',percentreg)\n",
"//For 0.8 leading pf\n",
"x=0.8\n",
"y=0.6\n",
"percentreg=vr*x-vx*y\n",
"printf('\n Percent regulation=%.1f percent \n',percentreg)"
   ]
   }
,
{
		   "cell_type": "markdown",
		   "metadata": {},
		   "source": [
			"## Example 5.17: Example_number_17.sci"
		   ]
		  },
  {
"cell_type": "code",
	   "execution_count": null,
	   "metadata": {
	    "collapsed": true
	   },
	   "outputs": [],
"source": [
"//Chapter5,Ex5.17,Pg5.19\n",
"clc;\n",
"E1=230 //EMF in primary winding\n",
"E2=460 //EMF in secondary winding\n",
"R1=0.2 //Primary resistance\n",
"R2=0.75 //Secondary resistance\n",
"X1=0.5 //Reactance in ohms\n",
"X2=1.8 //Secondary reactance in ohms\n",
"I2=10 //secondary current in amperes\n",
"pf=0.8 //cos(phi)=0.8\n",
"K=E2/E1 \n",
"printf('K=%.0f \n',K)\n",
"R02=R2+(K^2)*R1 //Effective secondary resistance\n",
"X02=X2+(K^2)*X1 //Effective secondary reactance\n",
"y=sqrt(1-(pf^2)) //sin(phi)=y\n",
"V2=E2-I2*((R02*pf)+(X02*y))\n",
"printf('\n Secondary terminal voltage=%.1f V \n',V2)\n",
""
   ]
   }
,
{
		   "cell_type": "markdown",
		   "metadata": {},
		   "source": [
			"## Example 5.18: Example_number_18.sci"
		   ]
		  },
  {
"cell_type": "code",
	   "execution_count": null,
	   "metadata": {
	    "collapsed": true
	   },
	   "outputs": [],
"source": [
"//Example 5.18,Pg5.20\n",
"clc;\n",
"//Given Full load kVA=100kVA\n",
"//Wi=600W(iron loss)\n",
"//WCu=1.5kW(copper loss)\n",
"//(i)\n",
"x=1 //Full load\n",
"pf=0.8\n",
"n=(x*100*pf/((x*100*pf)+0.6+((x^2)*1.5)))*100\n",
"printf('\n Efficiency=%.2f percent \n',n)\n",
"//(ii)\n",
"x=0.5\n",
"pf=1\n",
"n=(x*100*pf/((x*100*pf)+0.6+((x^2)*1.5)))*100\n",
"printf('\n Efficiency=%.2f percent \n',n)"
   ]
   }
,
{
		   "cell_type": "markdown",
		   "metadata": {},
		   "source": [
			"## Example 5.19: Example_number_19.sci"
		   ]
		  },
  {
"cell_type": "code",
	   "execution_count": null,
	   "metadata": {
	    "collapsed": true
	   },
	   "outputs": [],
"source": [
"//Ex5.19,Pg5.21\n",
"clc;\n",
"flkva=25 //Full load kVA\n",
"R1=1.8 //Primary resistance in ohms\n",
"R2=0.02 //Secondary resistance in ohms\n",
"E1=2200 //Primary EMF in volts\n",
"E2=220 //Secondary EMF in volts\n",
"Wi=1000 //Iron loss in watts\n",
"I2=flkva*1000/220\n",
"printf('\n I2=%.2f A \n',I2)\n",
"K=E2/E1\n",
"printf('\n K=%.1f \n',K)\n",
"R02=R2+(K^2)*R1\n",
"printf('\n Effective secondary resistance=%.3f ohms \n',R02)\n",
"Wcu=(I2^2)*R02\n",
"printf('\n Copper loss=%.2f W \n',Wcu)\n",
"//(i)\n",
"x=1 //Full load\n",
"pf=1\n",
"n=(x*flkva*pf/((x*flkva*pf)+Wi/1000+((x^2)*Wcu/1000)))*100\n",
"printf('\n Efficiency=%.2f percent \n',n)\n",
"//(ii)\n",
"x=0.5\n",
"pf=0.8\n",
"n=(x*flkva*pf/((x*flkva*pf)+Wi/1000+((x^2)*Wcu/1000)))*100\n",
"printf('\n Efficiency=%.2f percent \n',n)"
   ]
   }
,
{
		   "cell_type": "markdown",
		   "metadata": {},
		   "source": [
			"## Example 5.1: Example_number_1.sci"
		   ]
		  },
  {
"cell_type": "code",
	   "execution_count": null,
	   "metadata": {
	    "collapsed": true
	   },
	   "outputs": [],
"source": [
"//Chapter5,Ex5.1,Pg5.4\n",
"clc;\n",
"//(i)\n",
"V2=110*110/220 // V2/V1 = E2/E1\n",
"printf('\n V2=%.0f V \n',V2)\n",
"//(ii)\n",
"printf('\n V2=%.0f V \n',0)\n",
"\n",
""
   ]
   }
,
{
		   "cell_type": "markdown",
		   "metadata": {},
		   "source": [
			"## Example 5.20: Example_number_20.sci"
		   ]
		  },
  {
"cell_type": "code",
	   "execution_count": null,
	   "metadata": {
	    "collapsed": true
	   },
	   "outputs": [],
"source": [
"//Ex5.20,Pg5.22\n",
"clc;\n",
"n1=98.135 //Given efficiency\n",
"n2=97.751 //Given efficiency\n",
"x=1 //Full load\n",
"pf=0.8 //Power factor\n",
"//Using the above data we have to solve 2 simultaneous equations by substituting the values in the formula for calculating the efficiency\n",
"A=[1 1;1 0.25]\n",
"B=[3.8; 2.3]\n",
"W=A\B\n",
"printf('\n Full load copper loss =%.0f kW \n',W(2))\n",
"printf('\n Iron loss =%.1f kW \n',W(1))\n",
""
   ]
   }
,
{
		   "cell_type": "markdown",
		   "metadata": {},
		   "source": [
			"## Example 5.21: Example_number_21.sci"
		   ]
		  },
  {
"cell_type": "code",
	   "execution_count": null,
	   "metadata": {
	    "collapsed": true
	   },
	   "outputs": [],
"source": [
"//Ex5.21,Pg5.23\n",
"clc;\n",
"//Given x=1 and pf=1 we obtain the first equation\n",
"//With x=0.5 and pf=1 we obtain the second equation\n",
"A=[1 1;1 0.25]\n",
"B=[52.2;26.1]\n",
"W=A\B\n",
"printf('\n Copper loss=%.1f kW \n',W(2))\n",
"printf('\n Iron loss=%.1f kW \n',W(1))\n",
"//Now if x=0.6 and pf=1\n",
"n= (0.6*600*1/((0.6*600*1)+W(1)+((0.6^2)*W(2))))*100\n",
"printf('\n Efficiency=%.2f percent \n',n)\n",
" "
   ]
   }
,
{
		   "cell_type": "markdown",
		   "metadata": {},
		   "source": [
			"## Example 5.22: Example_number_22.sci"
		   ]
		  },
  {
"cell_type": "code",
	   "execution_count": null,
	   "metadata": {
	    "collapsed": true
	   },
	   "outputs": [],
"source": [
"//Ex5.22,Pg5.23\n",
"clc;\n",
"flkva=150 //Given\n",
"Wi=1.4 //Iron loss in kW\n",
"Wcu=1.6 //Copper loss in kW\n",
"//(a)\n",
"lkva=flkva*sqrt(Wi/Wcu)\n",
"printf('\n Load kVA=%.2f kVA \n',lkva)\n",
"//For maximum efficiency Wi=Wcu=1.4kW and pf=0.8\n",
"n= (lkva*0.8/((lkva*0.8)+Wi+Wcu))*100\n",
"printf('\n Efficiency=%.2f percent \n',n)\n",
"//(b)\n",
"n= (0.5*flkva*0.8/((0.5*flkva*0.8)+Wi+(0.5^2)*Wcu))*100\n",
"printf('\n Efficiency=%.2f percent \n',n)\n",
" "
   ]
   }
,
{
		   "cell_type": "markdown",
		   "metadata": {},
		   "source": [
			"## Example 5.23: Example_number_23.sce"
		   ]
		  },
  {
"cell_type": "code",
	   "execution_count": null,
	   "metadata": {
	    "collapsed": true
	   },
	   "outputs": [],
"source": [
"//Example5.23,Pg5.24\n",
"clc;\n",
"flkva=100 //Full load kVA given\n",
"x=1 //Full load\n",
"pf=0.8 //Power factor lagging\n",
"A=[1 1;1 -0.64]\n",
"B=[2.474;0]\n",
"W=A\B\n",
"n= (x*flkva*pf/((x*flkva*pf) + W(1) +(x^2)*W(2)))*100\n",
"printf('\n Efficiency=%.2f percent \n',n)\n",
""
   ]
   }
,
{
		   "cell_type": "markdown",
		   "metadata": {},
		   "source": [
			"## Example 5.28: Example_number_28.sci"
		   ]
		  },
  {
"cell_type": "code",
	   "execution_count": null,
	   "metadata": {
	    "collapsed": true
	   },
	   "outputs": [],
"source": [
"//Example5.28,Pg5.28\n",
"clc;\n",
"Wi=1 //Iron loss in kW\n",
"op=50*0.8*10+25*0.6*10+0*4\n",
"Wcu=1.2 //Copper loss in kW\n",
"Culoss=1*1.2*10+(25/50)*1.2*10+0 //Copper loss in the entire day considering the load cycle for a day as given in the question\n",
"Iloss=1*24\n",
"nallday= (op/(op+Iloss+Culoss))*100\n",
"printf('\n All day efficiency=%.2f percent \n',nallday)"
   ]
   }
,
{
		   "cell_type": "markdown",
		   "metadata": {},
		   "source": [
			"## Example 5.2: Example_number_2.sci"
		   ]
		  },
  {
"cell_type": "code",
	   "execution_count": null,
	   "metadata": {
	    "collapsed": true
	   },
	   "outputs": [],
"source": [
"//Chapter5,Ex5.2,Pg5.5\n",
"clc;\n",
"//Given data: Flux required=4.13mWb,V1=110V f=50,\n",
"N1=110/(4.44*50*0.001*4.13) //No. of turns= Voltage of operation/(Flux required*4.44*frequency of input signal)\n",
"printf('\n No. of turns=%.0f turns \n',N1)"
   ]
   }
,
{
		   "cell_type": "markdown",
		   "metadata": {},
		   "source": [
			"## Example 5.3: Example_number_3.sci"
		   ]
		  },
  {
"cell_type": "code",
	   "execution_count": null,
	   "metadata": {
	    "collapsed": true
	   },
	   "outputs": [],
"source": [
"//Chapter 5,Ex5.3,Pg5.5\n",
"clc;\n",
"//Given f=50Hz V1=240V N1=80 N2=280 A=200sq cm\n",
"//V1 is approximately equal to E1 for a transformer\n",
"//(i)\n",
"B=240/(4.44*50*200*0.0001*80) //E1=4.44fBmAN1\n",
"printf('\n Maximum flux density Bm=%.2f Wb/m2 \n',B)\n",
"//(ii)\n",
"E2=(280/80)*240 //Induced Emf E2=N2/N1*E1\n",
"printf('\n Induced EMF E2=%.0f V \n',E2)\n",
"\n",
""
   ]
   }
,
{
		   "cell_type": "markdown",
		   "metadata": {},
		   "source": [
			"## Example 5.4: Example_number_4.sci"
		   ]
		  },
  {
"cell_type": "code",
	   "execution_count": null,
	   "metadata": {
	    "collapsed": true
	   },
	   "outputs": [],
"source": [
"//Chapter 5,Ex5.4,Pg5.5\n",
"clc;\n",
"//Given E1=3200V E2=400V f=50Hz N2=111\n",
"//Part(i)\n",
"N1=(3200/400)*111 //E2/E1=N2/N1\n",
"printf('\n No of turns in primary=%.0f turns \n',N1)\n",
"//Part(ii)\n",
"I2=80*1000/400 //I2=KVA Rating*1000/V2 where I2=secondary current\n",
"printf('\n Secondary current I2=%.0f A \n',I2)\n",
"//Part(iii)\n",
"A=400/(4.44*50*1.2*111) //Using the formula E=4.44BmAfN2\n",
"printf('\n Cross sectional area=%.4f sq m \n',A)\n",
"\n",
""
   ]
   }
,
{
		   "cell_type": "markdown",
		   "metadata": {},
		   "source": [
			"## Example 5.5: Example_number_5.sci"
		   ]
		  },
  {
"cell_type": "code",
	   "execution_count": null,
	   "metadata": {
	    "collapsed": true
	   },
	   "outputs": [],
"source": [
"//Chapter5,Ex5.5,Pg5.6\n",
"clc;\n",
"//Given: kVA rating=5kVA E1=240V E2=2400V f=50Hz Bm=1.2Tesla\n",
"N1=240/8 //Since it is given that EMF per turn is 8\n",
"//(i)\n",
"printf('\n No. of turns in primary=%.0f \n',N1)\n",
"//(ii)\n",
"N2=(2400/240)*N1 //E2/E1=N2/N1\n",
"A=2400/(4.44*50*1.2*300) //using the formula E=4.44BmAfN2\n",
"printf('\n Cross sectional area=%.2f sq m \n',A)\n",
"//(iii)\n",
"I1=5*1000/240 //Using the formula I=kVA rating*1000/V1\n",
"printf('\n I1=%.2f A \n',I1)\n",
"I2=5*1000/2400\n",
"printf('\n I2=%.2f A \n',I2)"
   ]
   }
,
{
		   "cell_type": "markdown",
		   "metadata": {},
		   "source": [
			"## Example 5.6: Example_6.sci"
		   ]
		  },
  {
"cell_type": "code",
	   "execution_count": null,
	   "metadata": {
	    "collapsed": true
	   },
	   "outputs": [],
"source": [
"//Chapter5,Ex5.6,Pg5.6\n",
"clc;\n",
"//Given: kVA rating=250kVA f=50Hz N2/N1=0.1 E2=240V\n",
"//(i)\n",
"E1=240/0.1 //E2/E1=N2/N1\n",
"printf('\n Primary EMF E1=%.0f V \n',E1)\n",
"//(ii)\n",
"I1=250*1000/2400 //Using the formula I=kVA rating*1000/V\n",
"printf('\n I1=%.2f A \n',I1)\n",
"I2=250*1000/240 \n",
"printf('\n I2=%.2f A \n',I2)"
   ]
   }
,
{
		   "cell_type": "markdown",
		   "metadata": {},
		   "source": [
			"## Example 5.7: Example_7.sci"
		   ]
		  },
  {
"cell_type": "code",
	   "execution_count": null,
	   "metadata": {
	    "collapsed": true
	   },
	   "outputs": [],
"source": [
"//Chapter 5,Ex5.7,Pg 5.8\n",
"clc;\n",
"W0=200 //Power\n",
"R1=3.5 //Primary resistance\n",
"V1=2300 //Primary voltage\n",
"I0=0.3 //no load current\n",
"cl=(I0^2)*R1\n",
"printf('\n Copper loss=%.3f W \n',cl)\n",
"coreloss=W0-cl //Core loss=Input power-copper loss\n",
"printf('\n Core loss=%.3f W \n',coreloss)\n",
"pf=W0/(V1*I0)\n",
"printf('\n Power factor = %.2f (lagging) \n',pf)\n",
""
   ]
   }
,
{
		   "cell_type": "markdown",
		   "metadata": {},
		   "source": [
			"## Example 5.8: Example_number_8.sci"
		   ]
		  },
  {
"cell_type": "code",
	   "execution_count": null,
	   "metadata": {
	    "collapsed": true
	   },
	   "outputs": [],
"source": [
"//Chapter 5,Ex5.8,Pg 5.8\n",
"clc;\n",
"//Primary voltage=230V no-load primary current=5A pf=0.25 N1=200 f=50Hz\n",
"//(i)\n",
"fluxm=230/(4.44*50*200) //Using E=4.44fN1*fluxm\n",
"printf('\n Max flux in the core=%.5f Wb \n',fluxm)\n",
"//(ii)\n",
"W=230*5*0.25 //Using the formula W=V1*I0*powerfactor\n",
"printf('\n Core loss =%.1f W \n',W)\n",
"//(iii)\n",
"x=sqrt(1-(0.25^2)) //x=sin(phi)\n",
"Iu=5*x\n",
"printf('\n Magnetising current=%.2f A \n',Iu)"
   ]
   }
,
{
		   "cell_type": "markdown",
		   "metadata": {},
		   "source": [
			"## Example 5.9: Example_number_9.sci"
		   ]
		  },
  {
"cell_type": "code",
	   "execution_count": null,
	   "metadata": {
	    "collapsed": true
	   },
	   "outputs": [],
"source": [
"//Chapter 5,Ex5.9,Pg 5.13\n",
"clc;\n",
"tr=4 //tr=N1/N2=4 which is given in the question\n",
"K=1/tr\n",
"Rp=50/(K^2) // Using the formula Equivalent resistance referred to primary=R'=R/(K^2)\n",
"printf('\n Rp=%.0f ohms \n',Rp)"
   ]
   }
],
"metadata": {
		  "kernelspec": {
		   "display_name": "Scilab",
		   "language": "scilab",
		   "name": "scilab"
		  },
		  "language_info": {
		   "file_extension": ".sce",
		   "help_links": [
			{
			 "text": "MetaKernel Magics",
			 "url": "https://github.com/calysto/metakernel/blob/master/metakernel/magics/README.md"
			}
		   ],
		   "mimetype": "text/x-octave",
		   "name": "scilab",
		   "version": "0.7.1"
		  }
		 },
		 "nbformat": 4,
		 "nbformat_minor": 0
}
