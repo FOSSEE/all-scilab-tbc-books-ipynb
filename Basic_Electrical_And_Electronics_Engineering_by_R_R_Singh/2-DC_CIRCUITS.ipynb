{
"cells": [
 {
		   "cell_type": "markdown",
	   "metadata": {},
	   "source": [
       "# Chapter 2: DC CIRCUITS"
	   ]
	},
{
		   "cell_type": "markdown",
		   "metadata": {},
		   "source": [
			"## Example 2.10: Find_current_through_2ohm_resistor.sci"
		   ]
		  },
  {
"cell_type": "code",
	   "execution_count": null,
	   "metadata": {
	    "collapsed": true
	   },
	   "outputs": [],
"source": [
"//Chapter 2,Ex2.10,Pg 2.19\n",
"clc;\n",
"disp('Refer to the diagram shown in the figure')\n",
"A=[7 -1 0 ;-1 6 -3; 0 -3 13]\n",
"B=[10; 0; -20]\n",
"I=A\B\n",
"printf('\n Current through the 2 ohms resistor=%.2f A\n',I(2))\n",
""
   ]
   }
,
{
		   "cell_type": "markdown",
		   "metadata": {},
		   "source": [
			"## Example 2.11: Determine_current_through_5_ohm_resistor.sce"
		   ]
		  },
  {
"cell_type": "code",
	   "execution_count": null,
	   "metadata": {
	    "collapsed": true
	   },
	   "outputs": [],
"source": [
"//Chapter 2,Ex2.11,Pg 2.20\n",
"clc;\n",
"disp('Refer to the diagram shown in the figure')\n",
"A=[3 -1 -2 ;-1 8 -3; -2 -3 10]\n",
"B=[8; 10; 12]\n",
"I=A\B\n",
"printf('\n Current through the 5 ohms resistor=%.2f A\n',I(3))"
   ]
   }
,
{
		   "cell_type": "markdown",
		   "metadata": {},
		   "source": [
			"## Example 2.12: Find_current_supplied_by_the_battery.sci"
		   ]
		  },
  {
"cell_type": "code",
	   "execution_count": null,
	   "metadata": {
	    "collapsed": true
	   },
	   "outputs": [],
"source": [
"//Chapter 2,Ex2.12,Pg 2.21\n",
"clc;\n",
"disp('Refer to the diagram shown in the figure')\n",
"A=[8 -1 -4 ;-1 8 -5; -4 -5 15]\n",
"B=[4; 0; 0]\n",
"I=A\B\n",
"printf('\n Current supplied by battery=%.2f A\n',I(1))"
   ]
   }
,
{
		   "cell_type": "markdown",
		   "metadata": {},
		   "source": [
			"## Example 2.13: Determine_voltage.sce"
		   ]
		  },
  {
"cell_type": "code",
	   "execution_count": null,
	   "metadata": {
	    "collapsed": true
	   },
	   "outputs": [],
"source": [
"//Chapter 2,Ex2.13,Pg 2.22\n",
"clc;\n",
"disp('Refer to the diagram shown in the figure')\n",
"A=[1 -2 -5 ;0 -6 1; 1 1 -10]\n",
"B=[20; 0; 0]\n",
"VI=A\B\n",
"printf('\n Current supplied by battery=%.1f A\n',VI(1))"
   ]
   }
,
{
		   "cell_type": "markdown",
		   "metadata": {},
		   "source": [
			"## Example 2.14: Find_current_through_2ohm_resistor.sce"
		   ]
		  },
  {
"cell_type": "code",
	   "execution_count": null,
	   "metadata": {
	    "collapsed": true
	   },
	   "outputs": [],
"source": [
"//Chapter 2,Ex2.14,Pg 2.22\n",
"clc;\n",
"disp('Refer to the diagram shown in the figure')\n",
"A=[1 0 0 ;0 18 -6; 0 6 -11]\n",
"B=[6; 108; 9]\n",
"I=A\B\n",
"printf('\n Current through 2 ohms resistor=%.0f A\n',I(3))"
   ]
   }
,
{
		   "cell_type": "markdown",
		   "metadata": {},
		   "source": [
			"## Example 2.15: Find_current_through_10_ohm_resistor.sce"
		   ]
		  },
  {
"cell_type": "code",
	   "execution_count": null,
	   "metadata": {
	    "collapsed": true
	   },
	   "outputs": [],
"source": [
"//Chapter 2,Ex2.15,Pg2.23\n",
"clc;\n",
"disp('Refer to the diagram shown in the figure')\n",
"a=[11 -10 0;0 -1 1;2 -3 -3]\n",
"b=[2;4;0]\n",
"i=a\b\n",
"printf('\n I1 = %.2f A\n',i(1))\n",
"printf('\n I2 = %.2f A\n',i(2))\n",
"printf('\ I3=%.2f A\n',i(3))\n",
"printf('\n Current through 10 ohms resistor = %.2f A\n',i(1)-i(2))"
   ]
   }
,
{
		   "cell_type": "markdown",
		   "metadata": {},
		   "source": [
			"## Example 2.16: Find_current_in_3_ohm_resistor.sci"
		   ]
		  },
  {
"cell_type": "code",
	   "execution_count": null,
	   "metadata": {
	    "collapsed": true
	   },
	   "outputs": [],
"source": [
"//Chapter 2,Ex2.16,Pg2.24\n",
"clc;\n",
"disp('Refer to the diagram shown in the figure')\n",
"a=[1 0 -1;-1 4 -4;1 -6 3]\n",
"b=[7;-7;0]\n",
"i=a\b\n",
"printf('\n I1 = %.1f A\n',i(1))\n",
"printf('\n I2 = %.1f A\n',i(2))\n",
"printf('\ I3=%.0f A\n',i(3))\n",
"printf('\n Current through 3 ohms resistor = %.1f A\n',i(2)-i(3))"
   ]
   }
,
{
		   "cell_type": "markdown",
		   "metadata": {},
		   "source": [
			"## Example 2.17: Find_current_in_5_ohm_resistor.sci"
		   ]
		  },
  {
"cell_type": "code",
	   "execution_count": null,
	   "metadata": {
	    "collapsed": true
	   },
	   "outputs": [],
"source": [
"//Chapter 2,Ex2.16,Pg2.24\n",
"clc;\n",
"disp('Refer to the diagram shown in the figure')\n",
"a=[15 -10 -5;0 1 -1;-15 12 6]\n",
"b=[50;2;0]\n",
"i=a\b\n",
"printf('\n I1 = %.0f A\n',i(1))\n",
"printf('\n I2 = %.2f A\n',i(2))\n",
"printf('\ I3=%.2f A\n',i(3))\n",
"printf('\n Current through 5 ohms resistor = %.1f A\n',i(1)-i(3))"
   ]
   }
,
{
		   "cell_type": "markdown",
		   "metadata": {},
		   "source": [
			"## Example 2.19: Find_voltage_at_nodes_1_and_2.sci"
		   ]
		  },
  {
"cell_type": "code",
	   "execution_count": null,
	   "metadata": {
	    "collapsed": true
	   },
	   "outputs": [],
"source": [
"//Chapter2,Ex2.20,Pg 2.26\n",
"clc;\n",
"disp('Refer to the diagram shown in the figure')\n",
"a=[2 -1;-1 3]\n",
"b=[2;4]\n",
"v=a\b\n",
"printf('\n V1=%.0f V\n',v(1))\n",
"printf('\n V2=%.0f V\n',v(2))"
   ]
   }
,
{
		   "cell_type": "markdown",
		   "metadata": {},
		   "source": [
			"## Example 2.1: Equivalent_resistance.sci"
		   ]
		  },
  {
"cell_type": "code",
	   "execution_count": null,
	   "metadata": {
	    "collapsed": true
	   },
	   "outputs": [],
"source": [
"//Chapter 2,Ex 2.1,Pg 2.4\n",
"function [resistance_1] = deltatostar(R)\n",
"    resistance1=R1\n",
"    resistance2=R2\n",
"    resistance_1= (resistance1*resistance2)/R\n",
"endfunction\n",
"clc;\n",
"disp('Refer to the diagram shown in the figure')\n",
"R1=4.5 //Resistance in ohms\n",
"R2=7.5 //Resistance in ohms\n",
"R3=3 //Resistance in ohms\n",
"R=R1+R2+R3\n",
"Ra=deltatostar(R) //Converting the given delta network to star network\n",
"R2=3 //Resistance in ohms\n",
"Rb=deltatostar(R) //Converting delta network to star network\n",
"R1=7.5\n",
"Rc=deltatostar(R) //Converting delta network to star network\n",
"R_1= 1/((1/(Rb+Rb+4)) + (1/(Rc+Rc+3)))\n",
"R_eq=(2*Ra) + R_1 // Equivalent resistance of the entire network\n",
"printf('\n The equivalent resistance R = %.2f ohms \n',R_eq)"
   ]
   }
,
{
		   "cell_type": "markdown",
		   "metadata": {},
		   "source": [
			"## Example 2.20: Find_Va_and_Vb.sci"
		   ]
		  },
  {
"cell_type": "code",
	   "execution_count": null,
	   "metadata": {
	    "collapsed": true
	   },
	   "outputs": [],
"source": [
"//Chapter2,Ex2.20,Pg2.27\n",
"clc;\n",
"disp('Refer to the diagram shown in the figure')\n",
"a=[8 -2;-3 9]\n",
"b=[50;85]\n",
"v=a\b\n",
"printf('\n Va=%.2f V\n',v(1))\n",
"printf('\n Vb=%.2f V\n',v(2))"
   ]
   }
,
{
		   "cell_type": "markdown",
		   "metadata": {},
		   "source": [
			"## Example 2.21: Calculate_the_current_through_the_5_ohm_resistor.sci"
		   ]
		  },
  {
"cell_type": "code",
	   "execution_count": null,
	   "metadata": {
	    "collapsed": true
	   },
	   "outputs": [],
"source": [
"//Chapter2,Ex2.21,Pg2.27\n",
"clc;\n",
"disp('Refer to the diagram shown in the figure')\n",
"a=[5 -2 0;10 -31 6;0 -4 9]\n",
"b=[-24;300;160]\n",
"v=a\b\n",
"printf('\n V1=%.2f V\n',v(1))\n",
"printf('\n V2=%.2f V\n',v(2))\n",
"printf('\n V3=%.2f V\n',v(3))\n",
"printf('\n Current through 5 ohms resistor = %.2f A\n',(v(3)-v(2))/5)"
   ]
   }
,
{
		   "cell_type": "markdown",
		   "metadata": {},
		   "source": [
			"## Example 2.23: Find_Va_and_Vb.sce"
		   ]
		  },
  {
"cell_type": "code",
	   "execution_count": null,
	   "metadata": {
	    "collapsed": true
	   },
	   "outputs": [],
"source": [
"//Chapter 23,Ex 2.23,Pg2.29\n",
"clc;\n",
"disp('Refer to the diagram given in the question')\n",
"A=[4 -2;-2 3]\n",
"B=[5;4]\n",
"V=A\B\n",
"printf('\n Va=%.2f V\n',V(1))\n",
"printf('\n Vb=%.2f V\n',V(2))\n",
""
   ]
   }
,
{
		   "cell_type": "markdown",
		   "metadata": {},
		   "source": [
			"## Example 2.24: Find_voltage_across_5_ohm_resistor.sci"
		   ]
		  },
  {
"cell_type": "code",
	   "execution_count": null,
	   "metadata": {
	    "collapsed": true
	   },
	   "outputs": [],
"source": [
"//Chapter 2,Example 2.24,Pg 2.30\n",
"clc;\n",
"disp('Refer to the diagram shown in the figure')\n",
"A=[4 -2 -1;-50 71 -20;-5 -4 10]\n",
"B=[-24;0;180]\n",
"V=A\B\n",
"printf('\n Va=%.2f V\n',V(1))\n",
"printf('\n Vb=%.2f V\n',V(2))\n",
"printf('\n Vc=%.2f \n',V(3))\n",
"printf('\n Voltage across 5 ohms resistor=%.2f \n',V(3)-V(2))"
   ]
   }
,
{
		   "cell_type": "markdown",
		   "metadata": {},
		   "source": [
			"## Example 2.25: Find_currents_I1_I2_and_I3.sci"
		   ]
		  },
  {
"cell_type": "code",
	   "execution_count": null,
	   "metadata": {
	    "collapsed": true
	   },
	   "outputs": [],
"source": [
"//Chapter2,Ex2.25,Pg2.30\n",
"clc;\n",
"disp('Refer to the diagram shown in the figure')\n",
"A=[8 -1;-2 17]\n",
"B=[50;-500]\n",
"V=A\B\n",
"printf('\n V1=%.2f V \n',V(1))\n",
"printf('\n V2=%.2f V \n',V(2))\n",
"printf('\n I1=%.2f \n',-V(1)/2)\n",
"printf('\n I2=%.2f \n',(V(1)-V(2))/10)\n",
"printf('\n I3=%.2f \n',(V(2)+50)/2)"
   ]
   }
,
{
		   "cell_type": "markdown",
		   "metadata": {},
		   "source": [
			"## Example 2.26: Find_currents_and_voltages.sce"
		   ]
		  },
  {
"cell_type": "code",
	   "execution_count": null,
	   "metadata": {
	    "collapsed": true
	   },
	   "outputs": [],
"source": [
"//Chapter 2,Ex2.26,Pg 2.31\n",
"clc;\n",
"disp('Refer to the diagram shown in the figure')\n",
"A=[0.5 -0.2;0.1 -0.4]\n",
"B=[34.2;-32.4]\n",
"V=A\B\n",
"printf('\n Va=%.2f V \n',V(1))\n",
"printf('\n Vb=%.2f V \n',V(2))\n",
"printf('\n I1=%.0f A \n',(120-V(1))/0.2)\n",
"printf('\n I2=%.0f A \n',(V(1)-V(2))/0.3)\n",
"printf('\n I3=%.0f A \n',(110-V(2))/0.1)"
   ]
   }
,
{
		   "cell_type": "markdown",
		   "metadata": {},
		   "source": [
			"## Example 2.27: Find_current_in_the_10_ohm_resistor.sci"
		   ]
		  },
  {
"cell_type": "code",
	   "execution_count": null,
	   "metadata": {
	    "collapsed": true
	   },
	   "outputs": [],
"source": [
"//Chapter 2,Ex2.27,Pg 2.33\n",
"clc;\n",
"disp('Refer to the diagram shown in the figure')\n",
"A=[1 0;-2 17]\n",
"B=[50;50]\n",
"V=A\B\n",
"printf('\n V1=%.0f V \n',V(1))\n",
"printf('\n V2=%.2f V \n',V(2))\n",
"printf('\n Current in the 10 ohms resistor = %.2f A\n',V(2)/10)"
   ]
   }
,
{
		   "cell_type": "markdown",
		   "metadata": {},
		   "source": [
			"## Example 2.28: Find_V1_and_V2.sci"
		   ]
		  },
  {
"cell_type": "code",
	   "execution_count": null,
	   "metadata": {
	    "collapsed": true
	   },
	   "outputs": [],
"source": [
"//Chapter 2,Example 2.28,Pg 2.33\n",
"clc;\n",
"disp('Refer to diagram shown in the diagram')\n",
"A=[6 -5 0;-10 17 -5;0 0 1]\n",
"B=[-20;0;20]\n",
"V=A\B\n",
"printf('\n Va=%.2f V \n',V(1))\n",
"printf('\n Vb=%.2f V \n',V(2))\n",
"printf('\n Vc=%.0f V \n',V(3))\n",
"printf('\n V1=%.2f V \n',V(1)-V(2))\n",
"printf('\n V2=%.2f V \n',V(2)-V(3))"
   ]
   }
,
{
		   "cell_type": "markdown",
		   "metadata": {},
		   "source": [
			"## Example 2.29: Find_voltage_across_the_100_ohm_resistor.sci"
		   ]
		  },
  {
"cell_type": "code",
	   "execution_count": null,
	   "metadata": {
	    "collapsed": true
	   },
	   "outputs": [],
"source": [
"//Chapter 2,Ex2.29,Pg 2.33\n",
"clc;\n",
"disp('Refer to the figure shown in the diagram')\n",
"A=[1 0 0;-1 3 -1;-2 -5 10]\n",
"B=[60;12;24]\n",
"V=A\B\n",
"printf('\n Voltage across the 100 ohms resistor=%.2f V\n',V(3))"
   ]
   }
,
{
		   "cell_type": "markdown",
		   "metadata": {},
		   "source": [
			"## Example 2.2: Equivalent_resistance.sci"
		   ]
		  },
  {
"cell_type": "code",
	   "execution_count": null,
	   "metadata": {
	    "collapsed": true
	   },
	   "outputs": [],
"source": [
"//Chapter 2,Ex 2.2,Pg 2.5\n",
"function [resistance_1] = deltatostar(R)\n",
"resistance1=R1\n",
"resistance2=R2\n",
"resistance_1= (resistance1*resistance2)/R\n",
"endfunction\n",
"clc;\n",
"disp('Refer to the diagram shown in the problem')\n",
"R1=10 //Resistance in ohms\n",
"R2=10 //Resistance in ohms\n",
"R3=10 //Resistance in ohms\n",
"R=R1+R2+R3\n",
"Ra=deltatostar(R) //Converting the delta network to star network of resistances. All the resistances in the star network will be the same as the resistances in the delta network have the same value\n",
"R_1= 1/(1/(Ra+10) + 1/(Ra+10))\n",
"R_eq=Ra+R_1\n",
"printf('\n The equivalent resistance R= %.0f ohms\n',R_eq)"
   ]
   }
,
{
		   "cell_type": "markdown",
		   "metadata": {},
		   "source": [
			"## Example 2.30: Find_current_through_the_4_ohm_resistor.sci"
		   ]
		  },
  {
"cell_type": "code",
	   "execution_count": null,
	   "metadata": {
	    "collapsed": true
	   },
	   "outputs": [],
"source": [
"//Chapter 2,Ex2.30,Pg2.34\n",
"clc;\n",
"disp('Refer to the figure shown in the diagram')\n",
"A=[1 -1;2 1]\n",
"B=[6;28]\n",
"V=A\B\n",
"printf('\n V1=%.2f V\n',V(1))\n",
"printf('\n V2=%.2f V\n',V(2))\n",
"printf('\n Current through the 4 ohms resistor=%.2f\n',V(2)/4)"
   ]
   }
,
{
		   "cell_type": "markdown",
		   "metadata": {},
		   "source": [
			"## Example 2.31: Find_current_through_the_4_ohm_resistor.sci"
		   ]
		  },
  {
"cell_type": "code",
	   "execution_count": null,
	   "metadata": {
	    "collapsed": true
	   },
	   "outputs": [],
"source": [
"//Chapter 2,Example 2.31,Pg2.35\n",
"clc;\n",
"disp('Refer to the figure shown question')\n",
"A=[1 0 -1;2 -2 1;-5 7 0]\n",
"B=[8; -12; 80]\n",
"V=A\B\n",
"printf('\n V1=%.0f V \n',V(1))\n",
"printf('\n V2=%.0f V \n',V(2))\n",
"printf('\n V3=%.0f V \n',V(3))\n",
"printf('\n Current through the 4 ohms resistor= %.0f A \n',V(3)/4)\n",
""
   ]
   }
,
{
		   "cell_type": "markdown",
		   "metadata": {},
		   "source": [
			"## Example 2.3: Equivalent_resistance.sce"
		   ]
		  },
  {
"cell_type": "code",
	   "execution_count": null,
	   "metadata": {
	    "collapsed": true
	   },
	   "outputs": [],
"source": [
"//Chapter 2,Ex 2.3,Pg 2.7\n",
"function [resistance_1] = startodelta(R)\n",
"    resistance_1= (R1*R + R2*R + R1*R2)/R\n",
"endfunction\n",
"clc;\n",
"disp('Refer to the diagram shown in the figure')\n",
"R1=6 //One of the Resistances of the star network to be converted into delta\n",
"R2=4 //One of the Resistances of the star network to be converted into delta \n",
"R3=3\n",
"//To find out individual resistances of the star network\n",
"Ra=startodelta(R3)\n",
"R3=4\n",
"R2=3\n",
"Rb=startodelta(R3)\n",
"R3=6\n",
"R1=4\n",
"Rc=startodelta(R3)\n",
"R_1= 1/((1/Ra) + (1/9))\n",
"R_2= 1/((1/Rb)+(1/1.5))\n",
"R_eq= 1/((1/6) + (1/(R_2+0.9)))\n",
"printf('\n Equivalent resistance R= %.2f ohms\n',R_eq) //Equivalent resistance of the circuit\n",
""
   ]
   }
,
{
		   "cell_type": "markdown",
		   "metadata": {},
		   "source": [
			"## Example 2.42: Find_the_current_between_the_2_ohm_resistor_connected_btw_A_and_B.sci"
		   ]
		  },
  {
"cell_type": "code",
	   "execution_count": null,
	   "metadata": {
	    "collapsed": true
	   },
	   "outputs": [],
"source": [
"//Chapter 2,Ex2.42,Pg2.53\n",
"clc;\n",
"disp('Refer to the diagram shown in the question')\n",
"A=[14 -12;-12 16] //Apply KVL theorem to obtain the required result\n",
"B=[2;-4]\n",
"I=A\B\n",
"Vth=3*I(2)+4 //Thevenin voltage\n",
"printf('\n Vth=%.1f \n',Vth)\n",
"R1=((2*12)/(2+12))+1\n",
"Rth=R1*3/(R1+3)\n",
"Iload=Vth/(Rth+2)\n",
"printf('\n Il=%.2f \n',Iload)\n",
""
   ]
   }
,
{
		   "cell_type": "markdown",
		   "metadata": {},
		   "source": [
			"## Example 2.43: Find_the_current_through_the_10_ohm_resistor.sci"
		   ]
		  },
  {
"cell_type": "code",
	   "execution_count": null,
	   "metadata": {
	    "collapsed": true
	   },
	   "outputs": [],
"source": [
"//Chapter 2,Example2.43,Pg 2.54\n",
"clc;\n",
"disp('Refer to the diagram shown in the question')\n",
"A=[7 -1;1 -6]\n",
"B=[10;0]\n",
"I=A\B\n",
"Vth=(3*I(2))-20\n",
"printf('\n Vth=%.2f V \n',Vth)\n",
"R1=[((6*1)/(6+1))+2]\n",
"Rth=R1*3/(R1+3)\n",
"printf('\n Rth=%.2f A \n',Rth)\n",
"Il=Vth/(Rth+10)\n",
"printf('\n The value of load current = %.2f A \n',Il)"
   ]
   }
,
{
		   "cell_type": "markdown",
		   "metadata": {},
		   "source": [
			"## Example 2.44: Find_the_current_through_the_10_ohm_resistor.sci"
		   ]
		  },
  {
"cell_type": "code",
	   "execution_count": null,
	   "metadata": {
	    "collapsed": true
	   },
	   "outputs": [],
"source": [
"//Chapter 2,Example 2.44<pg2.55\n",
"clc;\n",
"disp('Refer to the diagram shown in the question')\n",
"//It can found out by looking at the figure that I1=10A\n",
"I2=100/50 //Applying KVL\n",
"Vth=(5*10)-(20*I2)\n",
"Rth=5+(20*30/(20+30))\n",
"Iload=10/(Rth+10)\n",
"printf('\n Rth=%.0f ohms\n',Rth)\n",
"printf('\n Il=%.2f A\n',Iload)"
   ]
   }
,
{
		   "cell_type": "markdown",
		   "metadata": {},
		   "source": [
			"## Example 2.45: Find_the_current_through_the_40_ohm_resistor.sci"
		   ]
		  },
  {
"cell_type": "code",
	   "execution_count": null,
	   "metadata": {
	    "collapsed": true
	   },
	   "outputs": [],
"source": [
"//Chapter 2,Ex45,Pg2.56\n",
"//Since the 20 ohms resistor is connected across the 25V source,the resistor becomes redundant\n",
"I=35/60\n",
"Vth=(10*I)-10\n",
"printf('\n Vth=%.1f V \n',Vth)\n",
"Rth=50*10/(50+10)\n",
"printf('\n Rth=%.2f ohms \n',Rth)\n",
"Il=Vth/(Rth+40)\n",
"printf('\n Iload=%.2f A \n',Il)"
   ]
   }
,
{
		   "cell_type": "markdown",
		   "metadata": {},
		   "source": [
			"## Example 2.46: Find_the_current_through_the_10_ohm_resistor.sci"
		   ]
		  },
  {
"cell_type": "code",
	   "execution_count": null,
	   "metadata": {
	    "collapsed": true
	   },
	   "outputs": [],
"source": [
"//Chapter 2,Ex2.46,Pg2.57\n",
"clc;\n",
"disp('Refer to the diagram shown in the question')\n",
"I1=50/10\n",
"I2=20/20\n",
"Vth=(4*I1)+2-(15*I2)\n",
"printf('\n Vth=%.0f V \n',Vth)\n",
"Rth=(6*4/(6+4))+(5*15/(5+15))\n",
"printf('\n Rth=%.2f ohms \n',Rth)\n",
"Il=7/(Rth+10)\n",
"printf('\n Iload=%.2f \n',Il)"
   ]
   }
,
{
		   "cell_type": "markdown",
		   "metadata": {},
		   "source": [
			"## Example 2.47: Find_current_through_the_24_ohm_resistor.sci"
		   ]
		  },
  {
"cell_type": "code",
	   "execution_count": null,
	   "metadata": {
	    "collapsed": true
	   },
	   "outputs": [],
"source": [
"//Chapter2,Ex2.47,Pg2.58\n",
"clc;\n",
"disp('Refer to the diagram shown in the question')\n",
"I1=220/(30+50)\n",
"I2=220/(20+5)\n",
"printf('\n I1=%.2f A \n',I1)\n",
"printf('\n I2=%.2f A \n',I2)\n",
"Vth=(20*I2)-(30*I1)\n",
"printf('\n Vth=%.1f V \n',Vth)\n",
"Rth=(30*50/(30+50))+(20*5/(20+5))\n",
"printf('\n Rth=%.2f ohms \n',Rth)\n",
"Il=Vth/(Rth+24)\n",
"printf('\n Iload=%.0f A \n',Il)"
   ]
   }
,
{
		   "cell_type": "markdown",
		   "metadata": {},
		   "source": [
			"## Example 2.49: Find_the_current_through_the_20_ohm_resistor.sci"
		   ]
		  },
  {
"cell_type": "code",
	   "execution_count": null,
	   "metadata": {
	    "collapsed": true
	   },
	   "outputs": [],
"source": [
"//Chapter 2,Ex2.49,Pg2.61\n",
"clc;\n",
"disp('Refer to the diagram shown in the question')\n",
"A=[30 -15;-15 20]\n",
"B=[-75;20]\n",
"I=A\B\n",
"printf('\n I1=%.1f A \n',I(1))\n",
"printf('\n I2=%.1f A \n',I(2))\n",
"Vth=45-(10*(I(1)-I(2))) //Thevenin Voltage\n",
"printf('\n Vth =%.0f V \n',Vth)\n",
"//Converting the delta formed by the resistances into star network\n",
"R1=10*5/(10+5+5)\n",
"R2=10*5/(10+5+5)\n",
"R3=5*5/(10+5+5)\n",
"Rth=((R3+15)*2.5/(R3+15+2.5))+2.5\n",
"printf('\n Rth=%.2f ohms \n',Rth)\n",
"Il=Vth/(Rth+20)\n",
"printf('\n Iload=%.2f A \n',Il)\n",
""
   ]
   }
,
{
		   "cell_type": "markdown",
		   "metadata": {},
		   "source": [
			"## Example 2.4: Equivalent_resistance.sci"
		   ]
		  },
  {
"cell_type": "code",
	   "execution_count": null,
	   "metadata": {
	    "collapsed": true
	   },
	   "outputs": [],
"source": [
"//Chapter 2,Ex2.4,Pg 2.8\n",
"clc;\n",
"disp('Refer to the diagram shown in the figure')\n",
"R=6+6+6 //Total resistance of the delta network in the left part of the circuit\n",
"r1=6*6/(R) //Delta to star conversion\n",
"R=15+15+15 //Total resistance of the delta network in the right part of the circuit\n",
"r2=15*15/R\n",
"R_1=1/(1/(r1+41+r2) + 1/(r1+17+r2))\n",
"R_eq=R_1+r1+r2\n",
"printf('\n The equivalent resistance R = %.0f ohms\n',R_eq)\n",
""
   ]
   }
,
{
		   "cell_type": "markdown",
		   "metadata": {},
		   "source": [
			"## Example 2.50: Find_the_current_through_the_3_ohm_resistor.sci"
		   ]
		  },
  {
"cell_type": "code",
	   "execution_count": null,
	   "metadata": {
	    "collapsed": true
	   },
	   "outputs": [],
"source": [
"//Chapter 2.Ex2.50,Pg 2.63\n",
"clc;\n",
"disp('Refer to the diagram shown in the figure')\n",
"//Simultaneous equations have been found by applying Kirchoff's Laws to the meshes\n",
"A=[1 0;-12 18]\n",
"B=[6;42]\n",
"I=A\B\n",
"Vth=6*I(2)\n",
"printf('\n Vth=%.0f V \n ',Vth)\n",
"Rth=6*12/(6+12) //Thevenin resistance of the network\n",
"Il=Vth/(Rth+3)\n",
"printf('\n Iload= %.2f A \n',Il)"
   ]
   }
,
{
		   "cell_type": "markdown",
		   "metadata": {},
		   "source": [
			"## Example 2.51: Find_the_current_through_the_30_ohm_resistor.sci"
		   ]
		  },
  {
"cell_type": "code",
	   "execution_count": null,
	   "metadata": {
	    "collapsed": true
	   },
	   "outputs": [],
"source": [
"//Chapter2,Ex2.51,Pg2.64\n",
"clc;\n",
"disp('Refer to the diagram shown in the figure')\n",
"A=[-1 1;15 100]\n",
"B=[13;150]\n",
"I=A\B\n",
"printf('\n I1=%.0f A \n',I(1))\n",
"printf('\n I2=%.0f A \n',I(2))\n",
"Vth=(40*I(2))-50\n",
"printf('\n Vth=%.0f V \n',Vth)\n",
"Rth=75*40/(75+40)\n",
"printf('\n Rth=%.2f ohms \n',Rth)\n",
"Il=Vth/(Rth+30)\n",
"printf('\n Iload=%.2f A \n',Il)"
   ]
   }
,
{
		   "cell_type": "markdown",
		   "metadata": {},
		   "source": [
			"## Example 2.53: Find_the_current_through_the_20_ohm_resistor.sci"
		   ]
		  },
  {
"cell_type": "code",
	   "execution_count": null,
	   "metadata": {
	    "collapsed": true
	   },
	   "outputs": [],
"source": [
"//Chapter 2,Ex2.53,Pg2.66\n",
"clc;\n",
"disp('Refer to the diagram shown in the figure')\n",
"//Applying Kirchoff's laws to mesh 1 and mesh 2 we can state the following\n",
"I1=10/(10+4) //Current in amperes\n",
"I2=2 //Current in amperes\n",
"printf('\n I1=%.2f A \n',I1)\n",
"printf('\n I2=%.0f \n',I2)\n",
"vth=(4*I1)+(8*I2)\n",
"printf('Vth=%.2f V \n',vth)\n",
"//Calculation of Rth\n",
"//From the figure it can be seen that Rth can be easily calculated to be the following \n",
"Rth=(10*4/(10+4))+8\n",
"printf('\n Rth=%.2f ohms \n',Rth)\n",
"//Calculation of load current\n",
"Il=vth/(Rth+20)\n",
"printf('\n Iload=%.2f A \n',Il)"
   ]
   }
,
{
		   "cell_type": "markdown",
		   "metadata": {},
		   "source": [
			"## Example 2.54: Find_the_current_through_the_5_ohm_resistor.sci"
		   ]
		  },
  {
"cell_type": "code",
	   "execution_count": null,
	   "metadata": {
	    "collapsed": true
	   },
	   "outputs": [],
"source": [
"//Chapter 2,Ex2.54,Pg2.67\n",
"clc;\n",
"disp('Refer to the diagram shown in the figure')\n",
"//Remove the 5 ohms resistor from the network and apply Kirchoff's laws\n",
"A=[14 -2;-2 5]\n",
"B=[150;50]\n",
"I=A\B\n",
"printf('\n I1=%.2f A \n',I(1))\n",
"printf('\n I2=%.2f A \n',I(2))\n",
"//Calculation of Thevenin Voltage\n",
"Vth=100-(10*I(1))\n",
"printf('\n Vth=%.2f V \n',Vth)\n",
"//Calculation of Thevenin Current\n",
"Rth=10*3.2/(10+3.2)\n",
"printf('\n Rth=%.2f ohms \n',Rth)\n",
"//Calculation of load current\n",
"Il=Vth/(Rth+5)\n",
"printf('\n Iload =%.2f A \n',Il)"
   ]
   }
,
{
		   "cell_type": "markdown",
		   "metadata": {},
		   "source": [
			"## Example 2.55: Find_the_current_through_the_10_ohm_resistor.sci"
		   ]
		  },
  {
"cell_type": "code",
	   "execution_count": null,
	   "metadata": {
	    "collapsed": true
	   },
	   "outputs": [],
"source": [
"//Chapter 2,Ex2.55,Pg2.68\n",
"clc;\n",
"disp('Refer to the diagram shown in the figure')\n",
"//Calculation of Vth\n",
"//The network is divided into meshes and Kirchoff's laws are applied to the meshes to obtain simultaneous equations\n",
"A=[4 -2;-1 4]\n",
"B=[-25;10]\n",
"I=A\B\n",
"printf('\n I1=%.0f A \n',I(1))\n",
"printf('\n I2=%.0f A \n',I(2))\n",
"Vth=(2*I(1))+(2*I(2))\n",
"printf('\n Vth=%.0f V \n',Vth)\n",
"//Calculation of Rth\n",
"//Convert star resistances formed by 2 ohms, 2 ohms and 1 ohm into an equivalent delta network\n",
"R1=2*2/(2+2+1)\n",
"R2=R1 //R1=R2 since the resistances are of equal value\n",
"R3=2*1/(2+1+2)\n",
"Rth=8*(2*(4*1/(4+1)))/(8+(2*(4*1/(4+1))))\n",
"printf('\n Rth=%.2f ohms \n',Rth)\n",
"//Calculation of load current\n",
"Il=Vth/(Rth+10)\n",
"printf('\n Il=%.2f A \n',Il)"
   ]
   }
,
{
		   "cell_type": "markdown",
		   "metadata": {},
		   "source": [
			"## Example 2.56: Find_current_through_the_1_ohm_resistor.sci"
		   ]
		  },
  {
"cell_type": "code",
	   "execution_count": null,
	   "metadata": {
	    "collapsed": true
	   },
	   "outputs": [],
"source": [
"//Chapter 2,Ex2.56,Pg2.71\n",
"clc;\n",
"disp('Refer to the diagram shown in the question')\n",
"//Remove the 1 ohm resistor from the meshes 1 and 2, then we can say the following about the current\n",
"I1=-3 //Current in amperes\n",
"I2=1 //Current in amperes\n",
"printf('\n I1=%.0f A \n',I1)\n",
"printf('\n I2=%.0f A \n',I2)\n",
"//Calculation of Vth\n",
"Vth=4-2*(I1-I2)\n",
"printf('\n Vth=%.2f V \n',Vth)\n",
"//Calculation of Rth\n",
"//It can be easily deduced by looking at the diagram that Rth=2 ohms\n",
"Rth=2\n",
"//Calculation of load current\n",
"Il=Vth/(Rth+1)\n",
"printf('\n Il=%.0f A \n',Il)\n",
"\n",
""
   ]
   }
,
{
		   "cell_type": "markdown",
		   "metadata": {},
		   "source": [
			"## Example 2.57: Find_current_in_the_10_ohm_resistor.sci"
		   ]
		  },
  {
"cell_type": "code",
	   "execution_count": null,
	   "metadata": {
	    "collapsed": true
	   },
	   "outputs": [],
"source": [
"//Chapter2,Ex2.57,Pg2.73\n",
"clc;\n",
"disp('Refer to the diagram shown in the question')\n",
"A=[1 0 0;0 -1 1;0 -5 -15]\n",
"B=[2;4;0]\n",
"I=A\B\n",
"printf('\n I1=%.0f A \n',I(1))\n",
"printf('\n I2=%.0f A \n',I(2))\n",
"printf('\n I3=%.0f A \n',I(3))\n",
"printf('\n In=%.0f A \n',(I(1)-I(2)))\n",
"//Calculation of Rn\n",
"//Replace the voltage sources by open circuit and current sources by short circuit\n",
"Rn=1*(5+15)/(1+5+15)\n",
"printf('\n Rn=%.2f ohms \n',Rn)\n",
"Il=(5*Rn)/(10+Rn) //Using current division formula\n",
"printf('\n Il = %.2f A \n',Il)"
   ]
   }
,
{
		   "cell_type": "markdown",
		   "metadata": {},
		   "source": [
			"## Example 2.58: Find_current_in_the_10_ohm_resistor.sci"
		   ]
		  },
  {
"cell_type": "code",
	   "execution_count": null,
	   "metadata": {
	    "collapsed": true
	   },
	   "outputs": [],
"source": [
"//Chapter 2,Ex2.58,Pg 2.74\n",
"clc;\n",
"disp('Refer to the diagram shown in the figure')\n",
"A=[7 -2;-2 10]\n",
"B=[20;-12]\n",
"I=A\B\n",
"printf('\n I2= %.2f A \n',I(2))\n",
"printf('\n In=%.2f A \n',-I(2))\n",
"//Calculation of Rn\n",
"Rn=(5*2/(5+2))+8\n",
"printf('\n Rn=%.2f ohms \n',Rn)\n",
"//Calculation of Il\n",
"Il=0.67*(Rn/(Rn+10)) //Current is short circuit current calculated\n",
"printf('\n Il=%.2f A \n',Il)\n",
""
   ]
   }
,
{
		   "cell_type": "markdown",
		   "metadata": {},
		   "source": [
			"## Example 2.59: Find_the_current_through_the_10_ohm_resistor.sci"
		   ]
		  },
  {
"cell_type": "code",
	   "execution_count": null,
	   "metadata": {
	    "collapsed": true
	   },
	   "outputs": [],
"source": [
"//Chapter 2,Ex2.59,Pg2.75\n",
"clc;\n",
"disp('Refer to the diagram shown in the figure')\n",
"A=[70 -20;-20 20]\n",
"B=[40;0]\n",
"I=A\B\n",
"printf('\n I1=%.0f A \n',I(1))\n",
"printf('\n I2 =%.1f A \n',I(2))\n",
"printf('\n In = %.1f A \n',I(2))\n",
"//Calculation of Rn\n",
"Rn=(50*20/(50+20)) //Resistance of 40 ohms gets shorted because it is connected across a short circuit\n",
"printf('\n Rn=%.2f ohms \n',Rn)\n",
"//Calculation of Il\n",
"Il=(1.5*14.28/(14.28+10))\n",
"printf('\n Il=%.2f A \n',Il)\n",
""
   ]
   }
,
{
		   "cell_type": "markdown",
		   "metadata": {},
		   "source": [
			"## Example 2.60: Find_current_through_10_ohm_resistor.sci"
		   ]
		  },
  {
"cell_type": "code",
	   "execution_count": null,
	   "metadata": {
	    "collapsed": true
	   },
	   "outputs": [],
"source": [
"//Chapter 2,Ex2.60,Pg2.76\n",
"clc;\n",
"disp('Refer to diagram shown in the question')\n",
"A=[-7 1 0;-1 6 -3;0 3 -3]\n",
"B=[-10;0;20]\n",
"I=A\B\n",
"printf('\n I3=%.2f A \n',I(3))\n",
"printf('\n In= %.2f A \n',-I(3))\n",
"Rn=[(6*1/(6+1)+2)]*3/(3+[(6*1/(6+1)+2)])\n",
"printf('\n Rn=%.2f A \n',Rn)\n",
"//Calculation of Il\n",
"Il=13.17*(1.46/(1.46+10))\n",
"printf('\n Il=%.2f A \n',Il)"
   ]
   }
,
{
		   "cell_type": "markdown",
		   "metadata": {},
		   "source": [
			"## Example 2.61: Find_current_in_the_10_ohm_resistor.sci"
		   ]
		  },
  {
"cell_type": "code",
	   "execution_count": null,
	   "metadata": {
	    "collapsed": true
	   },
	   "outputs": [],
"source": [
"//Chapter2,Ex2.61,Pg2.77\n",
"clc;\n",
"disp('Refer to the diagram shown in the figure')\n",
"A=[20 -20 0;-20 60 -20;0 -20 50]\n",
"B=[10;40;-100]\n",
"I=A\B\n",
"printf('\n I1=%.2f A \n',I(1))\n",
"printf('\n In=%.2f A \n',I(1))\n",
"//Calculation of Rn\n",
"Rn=[(20*30/(20+30))+20]*20/(20+[(20*30/(20+30))+20])\n",
"printf('\n Rn=%.1f ohms \n',Rn)\n",
"//Calculation of Il\n",
"Il=I(1)*Rn/(Rn+10)\n",
"printf('\n Il=%.2f A \n',Il)"
   ]
   }
,
{
		   "cell_type": "markdown",
		   "metadata": {},
		   "source": [
			"## Example 2.62: Nortons_equivalent.sci"
		   ]
		  },
  {
"cell_type": "code",
	   "execution_count": null,
	   "metadata": {
	    "collapsed": true
	   },
	   "outputs": [],
"source": [
"//Chapter 2,Ex2.62,Pg2.77\n",
"clc;\n",
"disp('Refer to the diagram shown in the figure')\n",
"A=[90 -60 0;-60 100 -30;0 30 -30]\n",
"B=[120;40;-10]\n",
"I=A\B\n",
"printf('\n I3=%.2f A \n',I(3))\n",
"printf('\n In=%.2f A \n',-I(3))\n",
"//Calculation of RN\n",
"Rn=[(30*60/(30+60))+10]*30/(30+[(30*60/(30+60))+10])\n",
"printf('\n Rn=%.0f ohms \n',Rn)"
   ]
   }
,
{
		   "cell_type": "markdown",
		   "metadata": {},
		   "source": [
			"## Example 2.63: Find_current_through_the_8_ohm_resistor.sci"
		   ]
		  },
  {
"cell_type": "code",
	   "execution_count": null,
	   "metadata": {
	    "collapsed": true
	   },
	   "outputs": [],
"source": [
"//Chapter 2,Ex2.63,Pg2.79\n",
"clc;\n",
"disp('Refer to the diagram shown in the figure')\n",
"A=[-1 1;12 0]\n",
"B=[2;55]\n",
"I=A\B\n",
"printf('\n I1=%.2f A \n',I(1))\n",
"printf('\n I2=%.2f A \n',I(2))\n",
"printf('\n In=%.2f A \n',I(2))\n",
"//Calculation of Rn\n",
"Rn=12*4/(12+4)\n",
"printf('\n Rn=%.0f ohms \n',Rn)\n",
"//Calcuation of Il\n",
"Il=6.58*Rn/(Rn+8)\n",
"printf('\n Il=%.2f A \n',Il)"
   ]
   }
,
{
		   "cell_type": "markdown",
		   "metadata": {},
		   "source": [
			"## Example 2.64: Find_current_through_the_1_ohm_resistor.sci"
		   ]
		  },
  {
"cell_type": "code",
	   "execution_count": null,
	   "metadata": {
	    "collapsed": true
	   },
	   "outputs": [],
"source": [
"//Chapter 2,Ex2.64,Pg2.80\n",
"clc;\n",
"disp('Refer to the diagram shown in the figure')\n",
"A=[0 -5 -2;0 4 -2;-2 -2 4]\n",
"B=[-2;-1;0]\n",
"I=A\B\n",
"printf('\n I1=%.2f A \n',I(1))\n",
"printf('\n I2=%.2f A \n',I(2))\n",
"printf('\n I3=%.2f A \n',I(3))\n",
"printf('\n In=%.2f A \n',I(3))\n",
"//Calculation of Rn\n",
"Rn=(2*3/(2+3))+(2*2/(2+2))\n",
"printf('\n Rn=%.1f ohms \n',Rn)"
   ]
   }
,
{
		   "cell_type": "markdown",
		   "metadata": {},
		   "source": [
			"## Example 2.65: Find_max_power.sci"
		   ]
		  },
  {
"cell_type": "code",
	   "execution_count": null,
	   "metadata": {
	    "collapsed": true
	   },
	   "outputs": [],
"source": [
"//Chapter 2,Ex2.65,Pg2.82\n",
"clc;\n",
"disp('Refer to the diagram shown in the figure')\n",
"I=-3/4\n",
"printf('\n I=%.2f A \n',I)\n",
"Vth=6+2*I-10\n",
"printf('\n Vth=%.1f V \n',Vth)\n",
"//Calculations Rth\n",
"Rth=(2*2/(2+2))+2\n",
"printf('\n Rth=%.0f ohms \n',Rth)\n",
"//Value of Rl\n",
"Pmax=(Vth*Vth/(4*Rth))\n",
"printf('\n Pmax=%.2f W \n',Pmax)"
   ]
   }
,
{
		   "cell_type": "markdown",
		   "metadata": {},
		   "source": [
			"## Example 2.66: Find_max_power.sci"
		   ]
		  },
  {
"cell_type": "code",
	   "execution_count": null,
	   "metadata": {
	    "collapsed": true
	   },
	   "outputs": [],
"source": [
"//Chapter 2,Ex2.66,Pg2.83\n",
"clc;\n",
"disp('Refer to the diagram shown in the question')\n",
"//Calculation og Vth\n",
"A=[-1 1;-6 -5]\n",
"B=[4;2]\n",
"I=A\B\n",
"printf('\n I1=%.0f A \n',I(1))\n",
"printf('\n I2=%.0f A \n',I(2))\n",
"Vth=8-I(1)\n",
"printf('\n Vth=%.0f V \n',Vth)"
   ]
   }
,
{
		   "cell_type": "markdown",
		   "metadata": {},
		   "source": [
			"## Example 2.67: Find_max_power.sci"
		   ]
		  },
  {
"cell_type": "code",
	   "execution_count": null,
	   "metadata": {
	    "collapsed": true
	   },
	   "outputs": [],
"source": [
"//Chapter 2,Ex2.67,Pg2.84\n",
"clc;\n",
"disp('Refer to the diagram shown in the question')\n",
"A=[1 0;5 -10]\n",
"B=[50;0]\n",
"I=A\B\n",
"printf('\n I1=%.0f A \n',I(1))\n",
"printf('\n I2=%.0f A \n',I(2))\n",
"Vth=3*I(2)\n",
"printf('\n Vth=%.0f V \n',Vth)\n",
"//Calculation of Rth\n",
"Rth=(7*3/(7+3))\n",
"printf('\n Rth=%.1f \n',Rth)\n",
"//For maximum power transfer the value of the load resistance should be equal to the value of the Thevenin resistance\n",
"Pmax=(Vth*Vth)/(4*Rth)\n",
"printf('\n Pmax=%.2f W \n',Pmax)"
   ]
   }
,
{
		   "cell_type": "markdown",
		   "metadata": {},
		   "source": [
			"## Example 2.68: Find_Rl_and_calculate_maximum_power.sci"
		   ]
		  },
  {
"cell_type": "code",
	   "execution_count": null,
	   "metadata": {
	    "collapsed": true
	   },
	   "outputs": [],
"source": [
"//Chapter 2,Example2.68,Pg2.85\n",
"clc;\n",
"disp('Refer to the diagram shown in the figure')\n",
"A=[-1 1;5 2]\n",
"B=[6;10]\n",
"I=A\B\n",
"printf('\n I1=%.2f A \n',I(1))\n",
"printf('\n I2=%.2f A \n',I(2))\n",
"//Calculation of Vth\n",
"Vth=2*I(2)\n",
"printf('\n Vth=%.2f V \n',Vth)\n",
"//Calculation of Rth\n",
"Rth=(5*2/(5+2))+3+4\n",
"printf('\n Rth=%.2f ohms \n',Rth)\n",
"//For maximum power transfer the load resistance should be equal to the Thevenin resistance\n",
"Pmax=(Vth*Vth/(4*Rth))\n",
"printf('\n Pmax=%.2f W \n',Pmax)"
   ]
   }
,
{
		   "cell_type": "markdown",
		   "metadata": {},
		   "source": [
			"## Example 2.69: Find_Rl_and_calculate_max_power.sci"
		   ]
		  },
  {
"cell_type": "code",
	   "execution_count": null,
	   "metadata": {
	    "collapsed": true
	   },
	   "outputs": [],
"source": [
"//Chapter 2, Example2.69,Pg2.85\n",
"clc;\n",
"disp('Refer to the diagram shown in the figure')\n",
"A=[15 -5;0 1]\n",
"B=[120;-6]\n",
"I=A\B\n",
"printf('\n I1=%.0f A \n',I(1))\n",
"printf('\n I2=%.0f A \n',I(2))\n",
"Vth=120-10*I(1)  //Thevenin Voltage\n",
"printf('\n Vth =%.0f V \n',Vth)\n",
"//Calculation of Rth\n",
"Rth=(10*5/(10+5))\n",
"printf('\n Rth=%.2f ohms \n',Rth)\n",
"//For maximum power transfer load resistance should be equal to thevenin resistance\n",
"Pmax=(Vth*Vth/(4*Rth))\n",
"printf('\n Pmax=%.2f W \n',Pmax)\n",
""
   ]
   }
,
{
		   "cell_type": "markdown",
		   "metadata": {},
		   "source": [
			"## Example 2.6: Equivalent_resistance.sce"
		   ]
		  },
  {
"cell_type": "code",
	   "execution_count": null,
	   "metadata": {
	    "collapsed": true
	   },
	   "outputs": [],
"source": [
"//Chapter2, Ex2.6,Pg 2.11\n",
"function [R] = deltatostar(R1,R2,R3,n)\n",
"    Rtotal=R1+R2+R3\n",
"    if(n==1)then\n",
"        R=R1*R2/Rtotal\n",
"    elseif(n==2)\n",
"        R=R2*R3/Rtotal\n",
"    else\n",
"        R=R1*R3/Rtotal\n",
"            end\n",
"endfunction\n",
"clc;\n",
"disp('Refer to the diagram shown in the figure')\n",
"\n",
"r1=deltatostar(20,5,15,1) //Converting delta network to star network\n",
"r3=deltatostar(20,5,15,2)\n",
"r2=deltatostar(20,5,15,3)\n",
"r1'=r1\n",
"R1=r3+2\n",
"R2=r2+30\n",
"r1=deltatostar(R1,R2,30,1)\n",
"r2=deltatostar(R1,R2,30,2)\n",
"r3=deltatostar(R1,R2,30,3)\n",
"Req=1/(1/(r1'+r1+10) + 1/(15+r3)) + r2\n",
"printf('\n The equivalent resistance R= %.2f ohms\n',Req)\n",
""
   ]
   }
,
{
		   "cell_type": "markdown",
		   "metadata": {},
		   "source": [
			"## Example 2.70: Find_Rl_and_max_power.sci"
		   ]
		  },
  {
"cell_type": "code",
	   "execution_count": null,
	   "metadata": {
	    "collapsed": true
	   },
	   "outputs": [],
"source": [
"//Chapter 2,Ex2.70,Pg2.87\n",
"clc;\n",
"disp('Refer to the diagram shown in the question')\n",
"A=[1 0;-25 41]\n",
"B=[3;0]\n",
"I=A\B\n",
"printf('\n I1= %.0f A \n',I(1))\n",
"printf('\n I2= %.0f A \n',I(2))\n",
"Vth=-20+10*I(2)+6*I(2)\n",
"printf('\n Vth=%.2f V \n',Vth)\n",
"//Calculation of Rth\n",
"Rth=(25*16/(25+16))\n",
"printf('\n Rth= %.2f ohms \n',Rth)\n",
"//For maximum power transfer the load resistance should be equal to the Thevenin resistance\n",
"Pmax=(Vth*Vth/(4*Rth))\n",
"printf('\n Pmax=%.2f W \n',Pmax)"
   ]
   }
,
{
		   "cell_type": "markdown",
		   "metadata": {},
		   "source": [
			"## Example 2.71: Max_power.sci"
		   ]
		  },
  {
"cell_type": "code",
	   "execution_count": null,
	   "metadata": {
	    "collapsed": true
	   },
	   "outputs": [],
"source": [
"//Chapter 2,Ex2.71,Pg2.88\n",
"clc;\n",
"disp('Refer to the diagram shown in the question')\n",
"A=[-1 1 0;1 10 -10;0 -10 15]\n",
"B=[1;5;0]\n",
"I=A\B\n",
"printf('\n I1=%.2f A \n',I(1))\n",
"printf('\n I2=%.2f A \n',I(2))\n",
"printf('\n I3=%.2f A \n',I(3))\n",
"//Calculation of Vth\n",
"Vth=3*I(3)\n",
"printf('\n Vth=%.2f V \n',Vth)\n",
"//Calculation of Rth\n",
"Rth=[(10*1/(10+1))+2]*3/(3+[(10*1/(10+1))+2]) + 5\n",
"printf('\n Rth=%.2f ohms \n',Rth)\n",
"//Calculation of Pmax\n",
"Pmax=(Vth*Vth/(4*Rth))\n",
"printf('\n Pmax=%.2f W \n',Pmax)"
   ]
   }
,
{
		   "cell_type": "markdown",
		   "metadata": {},
		   "source": [
			"## Example 2.7: Equivalent_resistance.sci"
		   ]
		  },
  {
"cell_type": "code",
	   "execution_count": null,
	   "metadata": {
	    "collapsed": true
	   },
	   "outputs": [],
"source": [
"//Chapter 2,Ex2.7,Pg2.13\n",
"function [r_1] = startodelta(r1,r2,r3) //Function that converts star network to equivalent delta network\n",
"    r_1=ones(1:3)\n",
"    Rtotal=(r1*r3 + r2*r3 + r1*r2)\n",
"    r_1(1)=Rtotal/r1\n",
"    r_1(2)=Rtotal/r2\n",
"    r_1(3)=Rtotal/r3\n",
"endfunction\n",
"function[r_2]=deltatostar(r1,r2,r3) //Function that converts delta network to equivalent star network\n",
"    Rtotal=r1+r2+r3\n",
"    r_2=ones(1:3)\n",
"    r_2(1)=r1*r2/Rtotal\n",
"    r_2(2)=r2*r3/Rtotal\n",
"    r_2(3)=r1*r3/Rtotal\n",
"    endfunction\n",
"clc;\n",
"disp('refer to the figure shown in the diagram')\n",
"R=startodelta(8,5,3)\n",
"R_1=R(2)*5/(R(2)+5) //Parallel combination of resistances\n",
"R_2=R(3)*4/(R(3)+4) //Parallel combination of resistances\n",
"R1=deltatostar(R_1,R(1),R_2)\n",
"Req=1/(1/(6+R1(1)) + 1/(4+R1(2))) +R1(3)\n",
"printf('\n The equivalent resistance R= %.2f ohms\n',Req) "
   ]
   }
,
{
		   "cell_type": "markdown",
		   "metadata": {},
		   "source": [
			"## Example 2.9: Find_current.sci"
		   ]
		  },
  {
"cell_type": "code",
	   "execution_count": null,
	   "metadata": {
	    "collapsed": true
	   },
	   "outputs": [],
"source": [
"//Chapter 2,Ex2.9,Pg 2.18\n",
"clc;\n",
"disp('Refer to the diagram shown in the figure')\n",
"A=[10 -3 -6;-3 10 0;-6 0 10]\n",
"B=[10; -5; 25]\n",
"I=A\B\n",
"printf('\n Current through the 5 ohms resistor=%.2f A\n',I(2))\n",
""
   ]
   }
],
"metadata": {
		  "kernelspec": {
		   "display_name": "Scilab",
		   "language": "scilab",
		   "name": "scilab"
		  },
		  "language_info": {
		   "file_extension": ".sce",
		   "help_links": [
			{
			 "text": "MetaKernel Magics",
			 "url": "https://github.com/calysto/metakernel/blob/master/metakernel/magics/README.md"
			}
		   ],
		   "mimetype": "text/x-octave",
		   "name": "scilab",
		   "version": "0.7.1"
		  }
		 },
		 "nbformat": 4,
		 "nbformat_minor": 0
}
