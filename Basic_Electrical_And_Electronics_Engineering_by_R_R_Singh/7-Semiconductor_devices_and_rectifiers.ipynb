{
"cells": [
 {
		   "cell_type": "markdown",
	   "metadata": {},
	   "source": [
       "# Chapter 7: Semiconductor devices and rectifiers"
	   ]
	},
{
		   "cell_type": "markdown",
		   "metadata": {},
		   "source": [
			"## Example 7.13: Calculation_of_Idc.sci"
		   ]
		  },
  {
"cell_type": "code",
	   "execution_count": null,
	   "metadata": {
	    "collapsed": true
	   },
	   "outputs": [],
"source": [
"//Chapter 7,Ex7.13,Pg7.30\n",
"clc;\n",
"Vrms=66.64 \n",
"Rl=15\n",
"Vm=sqrt(2)*Vrms\n",
"printf('\n Vm=%.2f V \n',Vm)\n",
"Im=Vm/Rl\n",
"printf('\n Im=%.2f A \n',Im)\n",
"Idc=Im/%pi\n",
"printf('\n Idc=%.0f A \n',Idc)"
   ]
   }
,
{
		   "cell_type": "markdown",
		   "metadata": {},
		   "source": [
			"## Example 7.14: Calculation_of_peak_value_of_current.sci"
		   ]
		  },
  {
"cell_type": "code",
	   "execution_count": null,
	   "metadata": {
	    "collapsed": true
	   },
	   "outputs": [],
"source": [
"//Chapter 7,Ex7.14,Pg7.30\n",
"clc;\n",
"Vdc=300\n",
"Rl=3000\n",
"Vm=Vdc*%pi/2 //For full wave rectifier\n",
"printf('\n Vm=%.2f V \n',Vm)\n",
"Vrms=Vm/sqrt(2) //RMS value of secondary voltage\n",
"Im=Vm/Rl //Peak diode current\n",
"printf('\n Im=%.2f A \n',Im)"
   ]
   }
,
{
		   "cell_type": "markdown",
		   "metadata": {},
		   "source": [
			"## Example 7.16: Calculation_of_Vrms.sci"
		   ]
		  },
  {
"cell_type": "code",
	   "execution_count": null,
	   "metadata": {
	    "collapsed": true
	   },
	   "outputs": [],
"source": [
"//Chapter 7,Ex7.16,Pg7.30\n",
"clc;\n",
"Vdc=50\n",
"Rl=800\n",
"Rf=25\n",
"Vm=(Vdc*%pi*(Rf+Rl))/Rl\n",
"printf('\n Vm=%.0f \n',Vm)\n",
"Vrms=Vm/sqrt(2)\n",
"printf('\n Vrms=%.2f V \n',Vrms)"
   ]
   }
,
{
		   "cell_type": "markdown",
		   "metadata": {},
		   "source": [
			"## Example 7.17: Calculation_of_percent_regulation.sci"
		   ]
		  },
  {
"cell_type": "code",
	   "execution_count": null,
	   "metadata": {
	    "collapsed": true
	   },
	   "outputs": [],
"source": [
"//Chapter 7,Ex 7.17,Pg 7.31\n",
"clc;\n",
"Rf=1\n",
"Idc=100\n",
"Vrms=12.6\n",
"Rs=3 \n",
"Vm=sqrt(2)*Vrms\n",
"printf('\n Vm=%.2f V \n',Vm)\n",
"Im=Idc*%pi\n",
"printf('\n Im=%.3f mA \n',Im)\n",
"//Let us use the formula Im=Vm/(Rs+Rf+Rl) to obtain the value of Rl\n",
"Rl=(17.82-Im*(Rs+Rf))/Im\n",
"printf('\n Rl=%.2f V \n',Rl)\n",
"Vdc=Idc*Rl\n",
"printf('\n Vdc=%.3f V \n',Vdc)\n",
"Vnl=Vm/%pi\n",
"Vfl=Idc*Rl\n",
"percentreg=((Vnl-Vfl)/Vnl)*100\n",
"printf('\n Percent regulation=%.2f \n',percentreg*10^-3)"
   ]
   }
,
{
		   "cell_type": "markdown",
		   "metadata": {},
		   "source": [
			"## Example 7.18: To_find_out_voltage_across_conducting_diode.sci"
		   ]
		  },
  {
"cell_type": "code",
	   "execution_count": null,
	   "metadata": {
	    "collapsed": true
	   },
	   "outputs": [],
"source": [
"//Chapter7,Example 7.18,Pg 7.32\n",
"clc;\n",
"Vrms=20 //Root mean square voltage\n",
"Rl=500 //Load resistance in ohms\n",
"Rf=20 //diode forward resistance\n",
"Vm=sqrt(2)*Vrms\n",
"printf('\n Vm=%.2f V \n',Vm)\n",
"Im=Vm/(Rf+Rl)\n",
"printf('\n Im=%.5f A \n',Im)\n",
"Idc=2*Im/%pi\n",
"printf('\n Idc=%.2f mA \n',Idc*10^3)\n",
"Vdc=(2*Vm/%pi)-Idc*Rf\n",
"printf('\n Vdc=%.2f V \n',Vdc)\n",
"Irms=Im/sqrt(2)\n",
"printf('\n Irms=%.2f mA \n',Irms*10^3)\n",
"Pi=(Irms^2)*(Rf+Rl)\n",
"printf('\n Input power=%.3f W \n',Pi)\n",
"r=sqrt(((Irms/Idc)^2)-1)\n",
"printf('\n Ripple factor=%.3f \n',r)\n",
"vcd=Idc*Rf\n",
"printf('\n Voltage across conducting diode=%.4f V \n',vcd)\n",
"disp('Voltage across non conducting diode=20V')"
   ]
   }
,
{
		   "cell_type": "markdown",
		   "metadata": {},
		   "source": [
			"## Example 7.19: Percentage_regulation.sci"
		   ]
		  },
  {
"cell_type": "code",
	   "execution_count": null,
	   "metadata": {
	    "collapsed": true
	   },
	   "outputs": [],
"source": [
"//Chapter7.19,Ex7.19,Pg7.33\n",
"clc;\n",
"Vrms=40\n",
"Rf=1 //Diode forward resistance in ohms\n",
"Rl=19 //load resistance\n",
"Vm=sqrt(2)*Vrms\n",
"printf('\n Vm=%.2f V \n',Vm)\n",
"Im=Vm/(Rf+Rl)\n",
"Idc=(2*Im)/%pi\n",
"printf('\n Idc=%.1f A \n',Idc)\n",
"Pdc=(Idc^2)*Rl\n",
"printf('\n DC load power=%.1f W \n',Pdc)\n",
"Pac=((Im/sqrt(2))^2)*(Rf+Rl)\n",
"printf('\n Pac=%.2f W \n',Pac)\n",
"n=(Pdc/Pac)*100\n",
"printf('\n Efficiency=%.2f percent \n',n)\n",
"Vnl=(2*Vm)/%pi\n",
"Vfl=Idc*Rl\n",
"printf('\n Vfl=%.1f V \n',Vfl)\n",
"percentreg=((Vnl-Vfl)/Vnl)*100\n",
"printf('\n Percentage Regulation=%.2f percent \n',percentreg)"
   ]
   }
,
{
		   "cell_type": "markdown",
		   "metadata": {},
		   "source": [
			"## Example 7.1: Calculation_of_base_current.sci"
		   ]
		  },
  {
"cell_type": "code",
	   "execution_count": null,
	   "metadata": {
	    "collapsed": true
	   },
	   "outputs": [],
"source": [
"//Chapter7,Pg7.4,Ex1\n",
"clc;\n",
"I=(20-4)/2.2*10^3 //Diode D1 will be forward biased and diode D2 will be reverse biased\n",
"printf('\n I=%.2f mA \n',I*10^-3)\n",
""
   ]
   }
,
{
		   "cell_type": "markdown",
		   "metadata": {},
		   "source": [
			"## Example 7.21: Peak_inverse_voltage.sci"
		   ]
		  },
  {
"cell_type": "code",
	   "execution_count": null,
	   "metadata": {
	    "collapsed": true
	   },
	   "outputs": [],
"source": [
"//Chapter7,Ex7.21,Pg7.36\n",
"clc;\n",
"Vrms=250 \n",
"Rl=3000\n",
"IdcRf=1\n",
"Vm=Vrms*sqrt(2)\n",
"printf('\n Vm=%.2f V \n',Vm)\n",
"Vdc=(2*Vm/%pi)-IdcRf\n",
"printf('\n Vdc=%.3f V \n',Vdc)\n",
"Idc=Vdc/Rl\n",
"printf('\n Idc=%.4f A \n',Idc)\n",
"Pdc=(Idc^2)*Rl\n",
"printf('\n Pdc=%.2f W \n',Pdc)\n",
"Rf=1/Idc\n",
"printf('\n Rf=%.2f ohms \n',Rf)\n",
"Irms=Vm/((Rf+Rl)*sqrt(2))\n",
"printf('\n Irms=%.3f A \n',Irms)\n",
"Pac=(Irms^2)*(Rf+Rl)\n",
"printf('\n Pac=%.2f W \n',Pac)\n",
"PIV=2*Vm //Peak inverse voltage\n",
"printf('\n PIV=%.1f V \n',PIV)"
   ]
   }
,
{
		   "cell_type": "markdown",
		   "metadata": {},
		   "source": [
			"## Example 7.2: Calculation_of_alpha_dc.sci"
		   ]
		  },
  {
"cell_type": "code",
	   "execution_count": null,
	   "metadata": {
	    "collapsed": true
	   },
	   "outputs": [],
"source": [
"//Chapter7,Pg7.4,Ex7.2\n",
"clc;\n",
"Bdc=90 //\n",
"Ic=15 //Collector current\n",
"Ib=Ic/Bdc\n",
"printf('\n Ib=%.2f uA \n',Ib*10^3)\n",
"Ie=Ib+Ic\n",
"printf('\n Emitter current Ie=%.2f mA \n',Ie)\n",
"Adc=Bdc/(Bdc+1)\n",
"printf('\n Adc=%.2f \n',Adc)"
   ]
   }
,
{
		   "cell_type": "markdown",
		   "metadata": {},
		   "source": [
			"## Example 7.4: Calculation_of_collector_current.sci"
		   ]
		  },
  {
"cell_type": "code",
	   "execution_count": null,
	   "metadata": {
	    "collapsed": true
	   },
	   "outputs": [],
"source": [
"//Chapter 7,Ex7.4,Pg7.15\n",
"clc;\n",
"B=100\n",
"Icbo=4 //current in microamperes\n",
"Ib=40 //Current in microamperes\n",
"Ic=B*Ib+(B+1)*Icbo\n",
"printf('\n Ic=%.1f mA \n',Ic*10^-3)"
   ]
   }
,
{
		   "cell_type": "markdown",
		   "metadata": {},
		   "source": [
			"## Example 7.5: Calculation_of_emitter_current.sci"
		   ]
		  },
  {
"cell_type": "code",
	   "execution_count": null,
	   "metadata": {
	    "collapsed": true
	   },
	   "outputs": [],
"source": [
"//Chapter7,Ex7.5,Pg7.15\n",
"clc;\n",
"B=50\n",
"Ib=20 //Base current in microamperes\n",
"Ic=B*Ib\n",
"printf('\n Ic=%.0f mA \n',Ic*10^-3)\n",
"Ie=Ic+Ib\n",
"printf('\n Ie=%.2f mA \n',Ie*10^-3)"
   ]
   }
,
{
		   "cell_type": "markdown",
		   "metadata": {},
		   "source": [
			"## Example 7.6: Calculation_of_base_current.sci"
		   ]
		  },
  {
"cell_type": "code",
	   "execution_count": null,
	   "metadata": {
	    "collapsed": true
	   },
	   "outputs": [],
"source": [
"//Chapter 7,Ex7.6,Pg 7.15\n",
"clc;\n",
"a=0.9 \n",
"Ie=10^-3\n",
"Ic=a*Ie //a=Ic/Ie\n",
"Ib=Ie-Ic\n",
"printf('\n Ib=%.1f mA \n',Ib*10^3)"
   ]
   }
,
{
		   "cell_type": "markdown",
		   "metadata": {},
		   "source": [
			"## Example 7.7: Calculation_of_base_current.sci"
		   ]
		  },
  {
"cell_type": "code",
	   "execution_count": null,
	   "metadata": {
	    "collapsed": true
	   },
	   "outputs": [],
"source": [
"//Chapter 7,Ex 7.7,Pg 7.15\n",
"clc;\n",
"a=0.98\n",
"Vce=0.2 \n",
"Ic=2*10^-3\n",
"Vcc=12\n",
"Rc=4\n",
"b=a/(1-a)\n",
"printf('\n Beta=%.0f \n',b)\n",
"Ice=(Vcc-Vce)/Rc\n",
"printf('\n Ic=%.2f mA \n',Ic*10^3)\n",
"Ib=Ic/b\n",
"printf('\n Ib(sat)=%.2f uA \n',Ib*10^6)\n",
""
   ]
   }
],
"metadata": {
		  "kernelspec": {
		   "display_name": "Scilab",
		   "language": "scilab",
		   "name": "scilab"
		  },
		  "language_info": {
		   "file_extension": ".sce",
		   "help_links": [
			{
			 "text": "MetaKernel Magics",
			 "url": "https://github.com/calysto/metakernel/blob/master/metakernel/magics/README.md"
			}
		   ],
		   "mimetype": "text/x-octave",
		   "name": "scilab",
		   "version": "0.7.1"
		  }
		 },
		 "nbformat": 4,
		 "nbformat_minor": 0
}
