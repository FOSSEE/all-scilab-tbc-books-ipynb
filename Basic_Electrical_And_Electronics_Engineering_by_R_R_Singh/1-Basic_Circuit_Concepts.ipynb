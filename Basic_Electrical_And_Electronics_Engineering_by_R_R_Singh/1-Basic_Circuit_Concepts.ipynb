{
"cells": [
 {
		   "cell_type": "markdown",
	   "metadata": {},
	   "source": [
       "# Chapter 1: Basic Circuit Concepts"
	   ]
	},
{
		   "cell_type": "markdown",
		   "metadata": {},
		   "source": [
			"## Example 1.10: Resistance.sce"
		   ]
		  },
  {
"cell_type": "code",
	   "execution_count": null,
	   "metadata": {
	    "collapsed": true
	   },
	   "outputs": [],
"source": [
"//Chapter 1,Example 1.10,Pg1.13\n",
"clc;\n",
"Ra0=120\n",
"Rb0=180\n",
"Aa=0.0035\n",
"Ab=0.008\n",
"A=(Ra0*Aa+Rb0*Ab)/(Ra0+Rb0)\n",
"printf('\n The series combination of the two = %.4f per degree C\n',A)"
   ]
   }
,
{
		   "cell_type": "markdown",
		   "metadata": {},
		   "source": [
			"## Example 1.11: Resistance.sce"
		   ]
		  },
  {
"cell_type": "code",
	   "execution_count": null,
	   "metadata": {
	    "collapsed": true
	   },
	   "outputs": [],
"source": [
"//Chapter1,Example1.11,Pg1.14\n",
"function [R2] = myfunction(R1)\n",
"    temp1=t1\n",
"    temp2=t2\n",
"    a=a0\n",
"    R2=R1*(1+a0*(temp2-temp1))\n",
"endfunction\n",
"function[alpha]=coefficient(a1)\n",
"    temp1=t1\n",
"    temp2=t2\n",
"    alpha=a1/(1+a1*(temp2-temp1))\n",
"    endfunction\n",
"clc;\n",
"t1=30\n",
"t2=50\n",
"a0=0.003\n",
"A1=coefficient(a0)\n",
"r1=myfunction(150)\n",
"a0=0.002\n",
"A2=coefficient(a0)\n",
"r2=myfunction(350)\n",
"printf('\n Series combination=%.0f ohms \n',r1+r2)\n",
"printf('\n Parallel combination=%.2f ohms \n',r1*r2/(r1+r2))\n",
"printf('\n For first coil a50=%.4f per degree C \n',A1)\n",
"printf('\n For second coil a50=%.5f per degree C \n',A2)\n",
""
   ]
   }
,
{
		   "cell_type": "markdown",
		   "metadata": {},
		   "source": [
			"## Example 1.12: Resistance.sce"
		   ]
		  },
  {
"cell_type": "code",
	   "execution_count": null,
	   "metadata": {
	    "collapsed": true
	   },
	   "outputs": [],
"source": [
"//Chapter1,Example1.12,Pg1.17\n",
"clc;\n",
"disp('When a wire is bent in the form of a circle,its resistance gets divided between any two points on its diameter as the resistance is directly proportional to its length. The two parts can be considered as two resistors of 6ohms in parallel')\n",
"R=6*6/(6+6)\n",
"printf('\n Hence equivalent resistance R=%.0f ohms \n',R)"
   ]
   }
,
{
		   "cell_type": "markdown",
		   "metadata": {},
		   "source": [
			"## Example 1.14: Resistance.sce"
		   ]
		  },
  {
"cell_type": "code",
	   "execution_count": null,
	   "metadata": {
	    "collapsed": true
	   },
	   "outputs": [],
"source": [
"//Chapter1,Example 1.14,Pg1.18\n",
"clc;\n",
"disp('Refer to the figure shown in the problem')\n",
"R=1/((1/25)+(1/50)+(1/50))+2+8\n",
"printf('\n Equivalent resistance between A and B = %.1f ohms \n',R)"
   ]
   }
,
{
		   "cell_type": "markdown",
		   "metadata": {},
		   "source": [
			"## Example 1.15: Resistance.sce"
		   ]
		  },
  {
"cell_type": "code",
	   "execution_count": null,
	   "metadata": {
	    "collapsed": true
	   },
	   "outputs": [],
"source": [
"//Chapter1,Example1.15,Pg1.19\n",
"clc;\n",
"disp('Refer to the figure shown in the problem')\n",
"R1=4*4/(4+4) //Equivalent resistance of the upper triangular network\n",
"R2=3*3/(3+3) //Equivalent resistance of the triangular network on right\n",
"R3=2*(R1+R2)/(2+R1+R2)\n",
"R=2*(R3+1)/(2+R3+1)\n",
"printf('\n Equivalent resistance =%.2f ohms \n',R)\n",
"I=30/R\n",
"printf('\n Current=%.1f A \n',I)\n",
"\n",
"  "
   ]
   }
,
{
		   "cell_type": "markdown",
		   "metadata": {},
		   "source": [
			"## Example 1.16: Resistance.sce"
		   ]
		  },
  {
"cell_type": "code",
	   "execution_count": null,
	   "metadata": {
	    "collapsed": true
	   },
	   "outputs": [],
"source": [
"//Chapter1,Example 1.16,Pg1.20\n",
"clc;\n",
"disp('Refer to the figure given in the problem')\n",
"R1=4*4/(4+4) //Equivalent resistance of the upper triangle shown in the figure obtained by the reduction of the upper left and right triangular resistance networks\n",
"R2=3*3/(3+3)\n",
"R3=(2*(R1+R2))/(2+R1+R2)\n",
"R=1/((1/5)+(1/2)+(1/(R3+1)))\n",
"printf('\n Equivalent resistance =%.2f ohms \n',R)\n",
"I=50/R\n",
"printf('\n Current = %.2f A \n',I)"
   ]
   }
,
{
		   "cell_type": "markdown",
		   "metadata": {},
		   "source": [
			"## Example 1.18: Resistance.sce"
		   ]
		  },
  {
"cell_type": "code",
	   "execution_count": null,
	   "metadata": {
	    "collapsed": true
	   },
	   "outputs": [],
"source": [
"//Chapter1,Example 1.18,Pg 1.23\n",
"clc;\n",
"I=30/15\n",
"disp('Refer to the diagram given in the question')\n",
"printf('\n Current through the 15 ohm resistor is given by I= 30/15 = %.0f A \n',I)\n",
"printf('Current through the 5 ohm resistance = 5+2= %.0f A',5+2)\n",
"disp('Applying KVL to the closed path and thus obtaining the result we can say')\n",
"disp('-5(7)-R(I)+100-30=0')\n",
"R=(100-30-35)/2\n",
"printf('\n R= %.1f ohms \n',R)\n",
"\n",
""
   ]
   }
,
{
		   "cell_type": "markdown",
		   "metadata": {},
		   "source": [
			"## Example 1.19: Resistance.sce"
		   ]
		  },
  {
"cell_type": "code",
	   "execution_count": null,
	   "metadata": {
	    "collapsed": true
	   },
	   "outputs": [],
"source": [
"//Chapter 1,Example 1.19,Pg 1.24\n",
"clc;\n",
"disp('Refer to the figure shown in the diagram')\n",
"disp('Assign branch currents as shown in the figure')\n",
"disp('I2-I3=13')\n",
"disp('-20I1+8I2=0')\n",
"disp('-12I1-16I2=0')\n",
"disp('By solving the equations we can obtain the result as follows')\n",
"A=[0 1 -1;-20 8 0;-12 0 -16]\n",
"B=[13;0;0]\n",
"I=A\B\n",
"printf('\n I1= %.0f A \n',I(1,:))\n",
"printf('\n I2= %.0f A \n',I(2,:))\n",
"printf('\n I3= %.0f A \n',I(3,:))"
   ]
   }
,
{
		   "cell_type": "markdown",
		   "metadata": {},
		   "source": [
			"## Example 1.21: Resistance.sce"
		   ]
		  },
  {
"cell_type": "code",
	   "execution_count": null,
	   "metadata": {
	    "collapsed": true
	   },
	   "outputs": [],
"source": [
"//Chapter 1,Example 1.21,Pg1.26\n",
"clc;\n",
"disp('Refer to the figure shown in the question')\n",
"disp('Let the branch current be as follows')\n",
"disp('IOA=x')\n",
"disp('IOB=1-x')\n",
"disp('IAB=y')\n",
"disp('IBC=1-x-y')\n",
"disp('IAC=x+y')\n",
"A=[3 -3;9 12]\n",
"B=[2;4]\n",
"XY= A\B \n",
"x=XY(1,1)\n",
"y=XY(2,1)\n",
"IOA=x\n",
"IOB=1-x\n",
"IAB=y\n",
"IBC=1-x-y\n",
"IAC=x+y\n",
"printf('\n IOA=%.2f A \n',IOA)\n",
"printf('\n IOB=%.2f A \n',IOB)\n",
"printf('\n IAB=%.3f A \n',IAB)\n",
"printf('\n IBC=%.3f A \n',IBC)\n",
"printf('\n IAC=%.3f A \n',IAC)"
   ]
   }
,
{
		   "cell_type": "markdown",
		   "metadata": {},
		   "source": [
			"## Example 1.22: Resistance.sce"
		   ]
		  },
  {
"cell_type": "code",
	   "execution_count": null,
	   "metadata": {
	    "collapsed": true
	   },
	   "outputs": [],
"source": [
"//Chapter 1,Example1.26,Pg1.22\n",
"clc;\n",
"disp('Refer to the figure shown in the question')\n",
"I1=2/5\n",
"I2=4/8\n",
"printf('\n I1= %.1f A \n',I1)\n",
"printf('\n I2=%.1f A \n',I2)\n",
"Vxy=3*I2-3*I1-4\n",
"printf('\n Vxy=%.1f V',Vxy)\n",
"\n",
""
   ]
   }
,
{
		   "cell_type": "markdown",
		   "metadata": {},
		   "source": [
			"## Example 1.23: Resistance.sce"
		   ]
		  },
  {
"cell_type": "code",
	   "execution_count": null,
	   "metadata": {
	    "collapsed": true
	   },
	   "outputs": [],
"source": [
"//Chapter 1,Example 1.23,Pg1.27\n",
"clc;\n",
"disp('Refer to the figure shown in the diagram')\n",
"I1=20/15 //Voltage in the loop divided by the sum of resistances\n",
"I2=15/10 //Voltage in the loop divided by the sum of resistances\n",
"printf('\n I1=%.2f A \n',I1)\n",
"printf('\n I2=%.1f A \n',I2)\n",
"Vab=5*I1-6*I2+5+15 //By applying KVL to the loop\n",
"printf('\n Vab=%.2f V',Vab)"
   ]
   }
,
{
		   "cell_type": "markdown",
		   "metadata": {},
		   "source": [
			"## Example 1.24: Resistance.sce"
		   ]
		  },
  {
"cell_type": "code",
	   "execution_count": null,
	   "metadata": {
	    "collapsed": true
	   },
	   "outputs": [],
"source": [
"//Chapter 1,Example1.24,Pg1.27\n",
"clc;\n",
"disp('Refer to the figure shown in the problem')\n",
"I1=5/2 //The 3ohms resistance gets shorted hence current flows only through the 2 ohms resistor\n",
"I2=2\n",
"printf('\n I1=%.1f A \n',I1)\n",
"printf('\n I2=%.0f A \n',I2)\n",
"Vab=2*I1-8+5*I2\n",
"printf('\n Vab=%.0f V \n',Vab)"
   ]
   }
,
{
		   "cell_type": "markdown",
		   "metadata": {},
		   "source": [
			"## Example 1.25: Resistance.sce"
		   ]
		  },
  {
"cell_type": "code",
	   "execution_count": null,
	   "metadata": {
	    "collapsed": true
	   },
	   "outputs": [],
"source": [
"//Chapter 1,Example1.25,Pg1.28\n",
"clc;\n",
"disp('Refer to the figure shown in the problem')\n",
"I1=10/8 //Voltage divided by the sum of the resistances\n",
"I2=5 //Current in the second loop is indicated by a current source of 5A\n",
"printf('\n I1=%.2f A \n',I1)\n",
"printf('\n I2=%.0f A \n',I2)\n",
"//Apply KVL to the path from A to B\n",
"Vab=3*I1+8-3*I2\n",
"printf('\n Vab=%.2f V \n',Vab)"
   ]
   }
,
{
		   "cell_type": "markdown",
		   "metadata": {},
		   "source": [
			"## Example 1.26: Resistance.sce"
		   ]
		  },
  {
"cell_type": "code",
	   "execution_count": null,
	   "metadata": {
	    "collapsed": true
	   },
	   "outputs": [],
"source": [
"//Chapter1,Ex1.26,Pg1.29\n",
"function [current1] = voltagetocurrent(voltage1)\n",
"    resistance1=R\n",
"    current1=voltage1/resistance1\n",
"endfunction\n",
"function[voltage2]=currenttovoltage(current2)\n",
"    resistance2=R\n",
"    voltage2=current2*resistance2\n",
"endfunction\n",
"clc;\n",
"disp('Refer to the figure shown in the question')\n",
"R=5 //Resistance in ohms\n",
"I1=voltagetocurrent(20) //Converting voltage source with series resistance to current source with parallel resistance\n",
"I=I1+3 //Total of the current sources in the circuit\n",
"R=1/((1/30)+(1/50)+(1/5)+(1/6)) //Equivalent resistance in the circuit\n",
"V1=currenttovoltage(I) //Converting current source with parallel resistance to voltage source with series resistance\n",
"printf('\n Equivalent resistance in network = %.2f ohms \n',R)\n",
"printf('\n Equivalent voltage source in network = %.2f V \n',V1)\n",
"\n",
"\n",
""
   ]
   }
,
{
		   "cell_type": "markdown",
		   "metadata": {},
		   "source": [
			"## Example 1.27: Resistance.sce"
		   ]
		  },
  {
"cell_type": "code",
	   "execution_count": null,
	   "metadata": {
	    "collapsed": true
	   },
	   "outputs": [],
"source": [
"//Chapter1,Example1.27,Pg1.30\n",
"clc;\n",
"disp('Since the 5 ohms resistor is connected in parallel with 20V source,it becomes redundant')\n",
"I=20.00/6.00 //Converting 20V in series with 6 ohms to current source in parallel with 6 ohms\n",
"I=I+10\n",
"printf('\n Total current in circuit = %.2f A \n',I)\n",
"printf('Equivalent resistance = %.0f ohms \n',6)"
   ]
   }
,
{
		   "cell_type": "markdown",
		   "metadata": {},
		   "source": [
			"## Example 1.28: Resistance.sce"
		   ]
		  },
  {
"cell_type": "code",
	   "execution_count": null,
	   "metadata": {
	    "collapsed": true
	   },
	   "outputs": [],
"source": [
"//Chapter1,Example1.28,Pg30\n",
"function [current1] = voltagetocurrent(voltage1)\n",
"    resistance1=R\n",
"    current1=voltage1/resistance1\n",
"endfunction\n",
"function[voltage2]=currenttovoltage(current2)\n",
"    resistance2=R\n",
"    voltage2=current2*resistance2\n",
"endfunction\n",
"clc;\n",
"disp('Refer to the figure shown in the diagram')\n",
"R=3 //Resistance in ohms\n",
"I1=voltagetocurrent(6) //Converting voltage source with series resistance to current source with parallel resistance\n",
"R=2\n",
"I2=voltagetocurrent(4)\n",
"R=1\n",
"I3=voltagetocurrent(3)\n",
"R1=2*2/(2+2) //Equivalent resistance of upper portion\n",
"R2=3*1/(3+1) //Equivalent resistance of lower portion\n",
"I11=1+I2 //Total current of upper portion\n",
"I12=-I1+I3 //Total current of lower portion\n",
"R=R1\n",
"V1=currenttovoltage(I11)\n",
"R=R2\n",
"V2=currenttovoltage(I12)\n",
"V=V1+V2\n",
"R=R1+R2\n",
"printf('\n Total voltage source = %.2f V \n',V)\n",
"printf('\n Total equivalent resistance = %.2f ohms \n',R)\n",
""
   ]
   }
,
{
		   "cell_type": "markdown",
		   "metadata": {},
		   "source": [
			"## Example 1.29: Resistance.sce"
		   ]
		  },
  {
"cell_type": "code",
	   "execution_count": null,
	   "metadata": {
	    "collapsed": true
	   },
	   "outputs": [],
"source": [
"//Chapter1,Example1.29,Pg1.32\n",
"function [current1] = voltagetocurrent(voltage1)\n",
"    resistance1=R\n",
"    current1=voltage1/resistance1\n",
"endfunction\n",
"function[voltage2]=currenttovoltage(current2)\n",
"    resistance2=R\n",
"    voltage2=current2*resistance2\n",
"endfunction\n",
"clc;\n",
"disp('Refer to the diagram shown in the figure')\n",
"R=3 //Resistance in ohms\n",
"I=voltagetocurrent(10)\n",
"I=I+10 //Total current in the circuit\n",
"R=3*2/(3+2)\n",
"V=currenttovoltage(13.33)\n",
"I=(50-16)/(5+1.2) //Current in the circuit\n",
"P=50*I //Power delivered by the 50V source\n",
"printf('\n Power delivered by the 50V source=%.0f W \n',P)"
   ]
   }
,
{
		   "cell_type": "markdown",
		   "metadata": {},
		   "source": [
			"## Example 1.2: Find_Resistance.sci"
		   ]
		  },
  {
"cell_type": "code",
	   "execution_count": null,
	   "metadata": {
	    "collapsed": true
	   },
	   "outputs": [],
"source": [
"//Chapter 1,Example 1.2,Pg 1.10\n",
"clc;\n",
"l=2000*10^3 //length of the cable in metres\n",
"d=0.7*10^-2 //diameter of the cable in metres\n",
"p=(1/58)*10^-6 //ohms per m for 1sq mm cross sectional area\n",
"A=(%pi*d^2)/4\n",
"R=(p*l)/A\n",
"printf('\n Resistance = %.2f ohms \n',R)\n",
""
   ]
   }
,
{
		   "cell_type": "markdown",
		   "metadata": {},
		   "source": [
			"## Example 1.30: Resistance.sce"
		   ]
		  },
  {
"cell_type": "code",
	   "execution_count": null,
	   "metadata": {
	    "collapsed": true
	   },
	   "outputs": [],
"source": [
"//Chapter1,Example1.30,Pg1.32\n",
"function [current1] = voltagetocurrent(voltage1)\n",
"    resistance1=R\n",
"    current1=voltage1/resistance1\n",
"endfunction\n",
"function[voltage2]=currenttovoltage(current2)\n",
"    resistance2=R\n",
"    voltage2=current2*resistance2\n",
"endfunction\n",
"clc;\n",
"disp('Refer to the figure shown in the problem')\n",
"R=2 //Resistance in ohms\n",
"V=currenttovoltage(5) //Converting current source with parallel resistance to voltage source with series resistance\n",
"V=V-6 //Equivalent resistance in the closed path\n",
"I=voltagetocurrent(V) //Converting voltage source with series resistance to current source with parallel resistance\n",
"I=I+2 //Total current provided by combination of current sources in circuit\n",
"I4=I*2/(2+4) //Current through the 4 ohm resistance\n",
"printf('\n Current through the 4 ohm resistance = %.2f A \n',I4)"
   ]
   }
,
{
		   "cell_type": "markdown",
		   "metadata": {},
		   "source": [
			"## Example 1.31: Resistance.sce"
		   ]
		  },
  {
"cell_type": "code",
	   "execution_count": null,
	   "metadata": {
	    "collapsed": true
	   },
	   "outputs": [],
"source": [
"//Chapter1,Example1.31,Pg1.33\n",
"function [current1] = voltagetocurrent(voltage1)\n",
"    resistance1=R\n",
"    current1=voltage1/resistance1\n",
"endfunction\n",
"function[voltage2]=currenttovoltage(current2)\n",
"    resistance2=R\n",
"    voltage2=current2*resistance2\n",
"endfunction\n",
"clc;\n",
"disp('Refer to the figure shown in the diagram')\n",
"disp('Since nodes 1 and 2 are maintained at the same voltage by the sources, the connection between nodes 1 and nodes 2 is removed. Now the two voltage sources have resistors in series and source transformation can be applied')\n",
"R=4 //Resistance in ohms\n",
"I=voltagetocurrent(18) //Converting voltage source with series resistance to current source with parallel resistance\n",
"R=4*2/(4+2) //Since the 4 ohm and 2 ohm resistances are in parallel\n",
"V=currenttovoltage(I) //Converting current source with parallel resistance to voltage source with series resistance\n",
"Va=(6+(5.985/2.33))/((1/3)+(1/2.33)+(1/6))\n",
"printf('\n Voltage at node A = %.2f V \n',Va)"
   ]
   }
,
{
		   "cell_type": "markdown",
		   "metadata": {},
		   "source": [
			"## Example 1.3: Resistance.sce"
		   ]
		  },
  {
"cell_type": "code",
	   "execution_count": null,
	   "metadata": {
	    "collapsed": true
	   },
	   "outputs": [],
"source": [
"//Chapter1,Example1.3,Pg1.10\n",
"printf('\n Diameter of wire=d\n')\n",
"printf('\n Length of wire=l\n')\n",
"printf('\n Resistance of wire = 4pl/A\n')\n",
"printf('\n For another wire diameter =2d\n')\n",
"printf('\n length =4l\n')\n",
"printf('\n Hence Resistance = 4pl/A')\n",
"printf('\n Hence Resistance = R\n')"
   ]
   }
,
{
		   "cell_type": "markdown",
		   "metadata": {},
		   "source": [
			"## Example 1.4: Resistance.sce"
		   ]
		  },
  {
"cell_type": "code",
	   "execution_count": null,
	   "metadata": {
	    "collapsed": true
	   },
	   "outputs": [],
"source": [
"//Chapter1,Example1.4,Pg1.10\n",
"clc;\n",
"l1=100 //length of the wire in metres\n",
"A1=0.1*10^-6 //area of the wire in metres\n",
"p=50*10^-8 //resistivity of the wire in ohm metre\n",
"R1=p*l1/A1\n",
"printf('\n Resistance before drawing out the wire = %1f ohms\n',R1)\n",
"printf('\n Volume of the wire before drawing out=Volume of the wire after drawing out \n')\n",
"A2=A1/3\n",
"l2=3*l1\n",
"R2=p*l2/A2\n",
"printf('\n Resistance after drawing out = %1f ohms \n',R2)\n",
"a=R2/R1\n",
"printf('\n The Ratio of the resistances is = %1f \n',a) "
   ]
   }
,
{
		   "cell_type": "markdown",
		   "metadata": {},
		   "source": [
			"## Example 1.5: Resistance.sce"
		   ]
		  },
  {
"cell_type": "code",
	   "execution_count": null,
	   "metadata": {
	    "collapsed": true
	   },
	   "outputs": [],
"source": [
"clc;\n",
"//Chapter 1,Example 1.5,Pg 1.11\n",
"printf('\n For silver wire R1 = (p1 X l1)/A1 \n')\n",
"printf('\n For Manganin wire R2= (p1 X l2)/A2 \n')\n",
"printf('R2/R1 = (p2 X l2 X A1)/(p1 X l1 X A2)\n')\n",
"R1=2 //resistance of silver wire in ohms\n",
"d1=1 //assuming the diameter of the silver wire to be 1 unit\n",
"d2=d1/3\n",
"l1=1 //assuming the length of the silver wire to be 1 unit\n",
"l2=l1/3\n",
"p1=1 //assuming the resistivity of silver wire is 1 unit\n",
"p2=30*p1\n",
"A1=%pi*d1^2/4\n",
"A2=%pi*d2^2/4\n",
"R2=p2*l2/A2\n",
"Rone=p1*l1/A1\n",
"R=R2/Rone\n",
"R2=R1*R\n",
"printf('\n Resistance of manganin wire = %.0f ohms\n',R2)"
   ]
   }
,
{
		   "cell_type": "markdown",
		   "metadata": {},
		   "source": [
			"## Example 1.6: Resistance.sce"
		   ]
		  },
  {
"cell_type": "code",
	   "execution_count": null,
	   "metadata": {
	    "collapsed": true
	   },
	   "outputs": [],
"source": [
"//Chapter 1,Example 1.6,Pg 1.11\n",
"clc;\n",
"R10=80 //Resistance at 10 degrees Celsius\n",
"R60=96.6 //Resistance at 60 degrees Celsius\n",
"disp('R10=R0(1 + 10a0)')\n",
"disp('R60=R0(1 + 60a0)')\n",
"disp('Divide both the equations')\n",
"disp('96.6/80 = (1 +60a0)/(1+10a0)')\n",
"a0=(96.6-80)/(4800-966)\n",
"at=a0/(1+a0*60)\n",
"printf('\n Temp coeff at 60 degrees= %1f  per degree C\n',at)"
   ]
   }
,
{
		   "cell_type": "markdown",
		   "metadata": {},
		   "source": [
			"## Example 1.7: Resistance.sce"
		   ]
		  },
  {
"cell_type": "code",
	   "execution_count": null,
	   "metadata": {
	    "collapsed": true
	   },
	   "outputs": [],
"source": [
"//Chapter1,Example 1.7,Pg1.12\n",
"function[at]=a0toat(a0)\n",
"    t=temp;\n",
"    at=a0/(1+a0*t)\n",
"endfunction\n",
"function[a0]=attoa0(at)\n",
"    t=temp;\n",
"    a0=at/(1-at*t)\n",
"endfunction\n",
"clc;\n",
"at=1/254.5 //given\n",
"temp=20 //temperature\n",
"a00=attoa0(at) //storing the returned temperature coefficient in variable a00\n",
"printf('\n Temp coeff = %.6f per degree C \n',a00)\n",
"temp=60\n",
"at1=a0toat(a00)\n",
"printf('\n Temp coeff at 60 degress = %8f per degree C \n',at1)"
   ]
   }
,
{
		   "cell_type": "markdown",
		   "metadata": {},
		   "source": [
			"## Example 1.8: Resistance.sce"
		   ]
		  },
  {
"cell_type": "code",
	   "execution_count": null,
	   "metadata": {
	    "collapsed": true
	   },
	   "outputs": [],
"source": [
"//Chapter 1,Example 1.8,Pg 1.12\n",
"clc;\n",
"disp('We know that R1 = R0(1+a0t)')\n",
"disp('At t1=20 degree C, R1=45 ohms')\n",
"R0=45/(1+0.004*20)\n",
"disp('At t2, R2=48.5 ohms')\n",
"disp('Therefore, we can calculate t2 as follows')\n",
"disp('45/48.5 = (1+0.004*20)/(1+0.004t2)')\n",
"t2=(48.5-R0)/(0.004*R0)\n",
"printf('\n Therefore t2= %.0f degree C \n',t2)"
   ]
   }
,
{
		   "cell_type": "markdown",
		   "metadata": {},
		   "source": [
			"## Example 1.9: Resistance.sce"
		   ]
		  },
  {
"cell_type": "code",
	   "execution_count": null,
	   "metadata": {
	    "collapsed": true
	   },
	   "outputs": [],
"source": [
"//Chapter 1, Example 1.9,Pg 1.13\n",
"clc;\n",
"disp('We know that Rt = R0(1+a0*t)')\n",
"disp('At t1=20 degree C, R1=18 ohms')\n",
"disp('18=R0(1+20*a0)')\n",
"disp('At t2=50 degree C R2=20 ohms')\n",
"disp('20=R0(1+50a0)')\n",
"a0=20-18/(900-400) //Divide both the equations\n",
"printf('\n a0=%.3f per degree c \n',a0)\n",
"t=(21+1.68-18)/0.072\n",
"printf('\n Therefore temp t = %.0f degrees C \n',t)\n",
""
   ]
   }
],
"metadata": {
		  "kernelspec": {
		   "display_name": "Scilab",
		   "language": "scilab",
		   "name": "scilab"
		  },
		  "language_info": {
		   "file_extension": ".sce",
		   "help_links": [
			{
			 "text": "MetaKernel Magics",
			 "url": "https://github.com/calysto/metakernel/blob/master/metakernel/magics/README.md"
			}
		   ],
		   "mimetype": "text/x-octave",
		   "name": "scilab",
		   "version": "0.7.1"
		  }
		 },
		 "nbformat": 4,
		 "nbformat_minor": 0
}
