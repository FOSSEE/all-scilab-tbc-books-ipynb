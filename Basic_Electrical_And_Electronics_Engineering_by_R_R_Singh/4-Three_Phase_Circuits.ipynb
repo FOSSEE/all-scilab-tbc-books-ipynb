{
"cells": [
 {
		   "cell_type": "markdown",
	   "metadata": {},
	   "source": [
       "# Chapter 4: Three Phase Circuits"
	   ]
	},
{
		   "cell_type": "markdown",
		   "metadata": {},
		   "source": [
			"## Example 4.11: Calculation_of_phase_resistance_and_phase_impedance.sci"
		   ]
		  },
  {
"cell_type": "code",
	   "execution_count": null,
	   "metadata": {
	    "collapsed": true
	   },
	   "outputs": [],
"source": [
"funcprot(0)\n",
"function [polar] = rect2polar(x,y) //Function to convert rectangular coordinates to polar coordinates\n",
"    polar=ones(1,2)\n",
"    polar(1)=sqrt((x^2)+(y^2))\n",
"    polar(2)=atan(y/x)\n",
"    polar(2)=(polar(2)*180)/%pi\n",
"endfunction\n",
"clc\n",
"//Refer to the data given in the question\n",
"Vl=208 //Line voltage\n",
"P=1800 //Active power\n",
"Il=10 //Line current\n",
"Vph=Vl/sqrt(3)\n",
"printf('\n Vph=%.2f V \n',Vph)\n",
"Iph=Il \n",
"Zph=Vph/Iph\n",
"printf('\n Zph=%.2f ohms \n',Zph)\n",
"//Since the active power,line voltage and line current are given, the power factor can be calculated easily\n",
"pf=P/(sqrt(3)*Vl*Il)\n",
"printf('\n Power factor=%.2f \n',pf)\n",
"phi=acos(pf)\n",
"phi=phi*180/%pi\n",
"printf('\n phi=%.0f degrees \n',phi)\n",
"Rph=Zph*pf\n",
"printf('\n Rph=%.2f ohms \n',Rph)\n",
"Xph=Zph*sqrt(1-pf^2)\n",
"printf('\n Xph=%.2f ohms \n',Xph)"
   ]
   }
,
{
		   "cell_type": "markdown",
		   "metadata": {},
		   "source": [
			"## Example 4.13: Calculation_of_phase_resistance_and_phase_reactance.sci"
		   ]
		  },
  {
"cell_type": "code",
	   "execution_count": null,
	   "metadata": {
	    "collapsed": true
	   },
	   "outputs": [],
"source": [
"//Chapter 4,Ex4.1,Pg 4.8\n",
"funcprot(0)\n",
"function [polar] = rect2polar(x,y) //Function to convert rectangular coordinates to polar coordinates\n",
"    polar=ones(1,2)\n",
"    polar(1)=sqrt((x^2)+(y^2))\n",
"    polar(2)=atan(y/x)\n",
"    polar(2)=(polar(2)*180)/%pi\n",
"endfunction\n",
"clc;\n",
"//Refer to the data given in the question\n",
"Vl=400 //Supply voltage\n",
"Il=34.65 //Current in Amperes\n",
"P=14.4*10^3 //Active power in volts\n",
"Vph=Vl\n",
"Iph=Il/sqrt(3)\n",
"printf('\n Iph=%.0f A \n',Iph)\n",
"Zph=Vph/Iph\n",
"printf('\n Zph=%.0f ohms \n',Zph)\n",
"//We can calculate the power factor easily from the given data\n",
"pf=P/(sqrt(3)*400*34.65)\n",
"printf('\n Power factor=%.1f \n',pf)\n",
"phi=acos(pf)\n",
"phi=phi*180/%pi\n",
"printf('\n phi=%.2f degrees \n',phi)\n",
"Rph=Zph*pf\n",
"printf('\n Rph=%.0f ohms \n',Rph)\n",
"Xph=Zph*sqrt(1-pf^2)\n",
"printf('\n Xph=%.0f ohms \n',Xph)"
   ]
   }
,
{
		   "cell_type": "markdown",
		   "metadata": {},
		   "source": [
			"## Example 4.14: Calculation_of_Q.sci"
		   ]
		  },
  {
"cell_type": "code",
	   "execution_count": null,
	   "metadata": {
	    "collapsed": true
	   },
	   "outputs": [],
"source": [
"funcprot(0)\n",
"function [polar] = rect2polar(x,y) //Function to convert rectangular coordinates to polar coordinates\n",
"    polar=ones(1,2)\n",
"    polar(1)=sqrt((x^2)+(y^2))\n",
"    polar(2)=atan(y/x)\n",
"    polar(2)=(polar(2)*180)/%pi\n",
"endfunction\n",
"clc\n",
"//Refer to the data given in the question\n",
"P=10.44*10^3 //Power in kWh\n",
"Vl=200 //Line voltage\n",
"pf=0.5 //Leading power factor\n",
"Vph=Vl //For delta connected load\n",
"//Since we have the value of active power,line voltage and power factor we can easily calculate the value of line current\n",
"Il=P/(sqrt(3)*Vl*pf)\n",
"printf('\n Il=%.2f A \n',Il)\n",
"Iph=Il/sqrt(3)\n",
"printf('\n Iph=%.1f A \n',Iph)\n",
"Zph=Vph/Iph\n",
"printf('\n Zph=%.2f ohms \n',Zph)\n",
"Rph=Zph*pf\n",
"printf('\n Rph=%.3f ohms \n',Rph)\n",
"Xph=Zph*(sqrt(1-pf^2))\n",
"printf('\n Xph=%.2f ohms \n',Xph)\n",
"Q=sqrt(3)*Vl*Il*sqrt(1-pf^2)\n",
"printf('\n Q=%.2f kVAR \n',Q*10^-3)"
   ]
   }
,
{
		   "cell_type": "markdown",
		   "metadata": {},
		   "source": [
			"## Example 4.17: Calculation_of_active_and_reactive_components_of_phase_current.sci"
		   ]
		  },
  {
"cell_type": "code",
	   "execution_count": null,
	   "metadata": {
	    "collapsed": true
	   },
	   "outputs": [],
"source": [
"funcprot(0)\n",
"function [polar] = rect2polar(x,y) //Function to convert rectangular coordinates to polar coordinates\n",
"    polar=ones(1,2)\n",
"    polar(1)=sqrt((x^2)+(y^2))\n",
"    polar(2)=atan(y/x)\n",
"    polar(2)=(polar(2)*180)/%pi\n",
"endfunction\n",
"clc\n",
"Po=200*10^3 //Output Power \n",
"f=50 //frequency in hertz\n",
"Vl=440\n",
"n=91 //efficiency\n",
"pf=0.86\n",
"Vph=Vl //For a delta connected load\n",
"//Since the efficiency and output power have been given in the question, the input power can be easily calculated\n",
"Pi=(Po/n)*100\n",
"printf('\n Input power=%.2f kW \n',Pi*10^-3)\n",
"//Since the input power is now known we can calculate the line current\n",
"Il=Pi/(sqrt(3)*Vl*pf)\n",
"printf('\n Il=%.1f A \n',Il)\n",
"Iph=Il/sqrt(3)\n",
"printf('\n Iph=%.1f A \n',Iph)\n",
"apc=Iph*pf //Active component of phase current\n",
"printf('\n Active component of phase current=%.1f A \n',apc)\n",
"rpc=Iph*sqrt(1-pf^2)\n",
"printf('\n Reactive component of phase current=%.1f A \n',rpc)"
   ]
   }
,
{
		   "cell_type": "markdown",
		   "metadata": {},
		   "source": [
			"## Example 4.1: Calculation_of_Z.sce"
		   ]
		  },
  {
"cell_type": "code",
	   "execution_count": null,
	   "metadata": {
	    "collapsed": true
	   },
	   "outputs": [],
"source": [
"//Chapter 4,Ex4.1,Pg 4.8\n",
"funcprot(0)\n",
"function [polar] = rect2polar(x,y) //Function to convert rectangular coordinates to polar coordinates\n",
"    polar=ones(1,2)\n",
"    polar(1)=sqrt((x^2)+(y^2))\n",
"    polar(2)=atan(y/x)\n",
"    polar(2)=(polar(2)*180)/%pi\n",
"endfunction\n",
"function [rect] = polar2rect(r,theta) //Function to convert polar coordinates to rectangular coordinates\n",
"    rect=ones(1,2)\n",
"    theta=(theta*%pi)/180\n",
"    rect(1)=r*cos(theta)\n",
"    rect(2)=r*sin(theta)\n",
"endfunction\n",
"clc;\n",
"//Refer to the data given in the question\n",
"Vl=440 //Supply voltage\n",
"f=50 //Freq in hertz\n",
"Vph=Vl/sqrt(3) //Phase voltage\n",
"printf('\n Vph=%.2f V \n',Vph)\n",
"Zbarph=rect2polar(8,10) //Converting Zbarph from rectangular coordinates to polar coordinates\n",
"printf('\n r=%.2f \n',Zbarph(1))\n",
"printf('\n theta=%.2f \n',Zbarph(2))\n",
"Iph=Vph/Zbarph(1) //Phase current\n",
"printf('\n Iph=%.2f A \n',Iph)\n",
"Il=Iph //Line current\n",
"P=sqrt(3)*Il*Vl*cos(Zbarph(2)*%pi/180)\n",
"P=P*(10^-3) //Active power\n",
"Q=sqrt(3)*Vl*Il*sin(Zbarph(2)*%pi/180)\n",
"Q=Q*(10^-3) //Reactive power\n",
"printf('\n P=%.2f kW \n',P)\n",
"printf('\n Q=%.2f kVAR \n',Q)\n",
""
   ]
   }
,
{
		   "cell_type": "markdown",
		   "metadata": {},
		   "source": [
			"## Example 4.20: Calculation_of_P.sci"
		   ]
		  },
  {
"cell_type": "code",
	   "execution_count": null,
	   "metadata": {
	    "collapsed": true
	   },
	   "outputs": [],
"source": [
"clc\n",
"Vl=400 //Three phase supply voltage\n",
"Zph=100 //Impedance in ohms\n",
"Vph=Vl/sqrt(3) //For a star connected load\n",
"printf('\n Vph=%.2f V \n',Vph)\n",
"Iph=Vph/Zph\n",
"printf('\n Iph=%.2f A \n',Iph)\n",
"Il=Iph\n",
"pf=1\n",
"P=sqrt(3)*Vl*Il*pf\n",
"printf('\n P=%.1f W \n',P)\n",
"Vph=Vl //For a delta connected load\n",
"Iph=Vph/Zph\n",
"printf('\n Iph=%.0f A \n',Iph)\n",
"Il=sqrt(3)*Iph\n",
"printf('\n Il=%.2f A \n',Il)\n",
"P=sqrt(3)*Vl*Il*pf\n",
"printf('\n P=%.2f W \n',P)\n",
""
   ]
   }
,
{
		   "cell_type": "markdown",
		   "metadata": {},
		   "source": [
			"## Example 4.2: Calculation_of_Z.sci"
		   ]
		  },
  {
"cell_type": "code",
	   "execution_count": null,
	   "metadata": {
	    "collapsed": true
	   },
	   "outputs": [],
"source": [
"funcprot(0)\n",
"function [polar] = rect2polar(x,y)\n",
"    polar=ones(1,2)\n",
"    polar(1)=sqrt((x^2)+(y^2))\n",
"    polar(2)=atan(y/x)\n",
"    polar(2)=(polar(2)*180)/%pi\n",
"endfunction\n",
"function [rect] = polar2rect(r,theta)\n",
"    rect=ones(1,2)\n",
"    theta=(theta*%pi)/180\n",
"    rect(1)=r*cos(theta)\n",
"    rect(2)=r*sin(theta)\n",
"endfunction\n",
"//Refer to the data given in the question\n",
"clc;\n",
"Vl=230 //Line voltage in volts\n",
"f=50 //freq in hertz\n",
"Vph=Vl\n",
"Zbarph=rect2polar(8,-6)\n",
"r=Zbarph(1)\n",
"printf('\n r=%.0f \n',r)\n",
"phi=Zbarph(2)\n",
"printf('\n phi=%.2f degrees \n',Zbarph(2))\n",
"pf=cos(phi*%pi/180)\n",
"printf('\n Power factor=%.1f (leading) \n',pf)\n",
"Iph=Vph/Zbarph(1)\n",
"printf('\n Iph=%.0f A \n',Iph)\n",
"Il=sqrt(3)*Iph\n",
"printf('\n Il=%.2f A \n',Il)\n",
"Q=sqrt(3)*Vl*Il*sin(phi*%pi/180)\n",
"Q=Q*(10^-3)\n",
"printf('\n Reactive power Q=%.2f kVAR \n',Q)"
   ]
   }
,
{
		   "cell_type": "markdown",
		   "metadata": {},
		   "source": [
			"## Example 4.3: Calculation_of_active_power_reactive_power_and_total_power.sci"
		   ]
		  },
  {
"cell_type": "code",
	   "execution_count": null,
	   "metadata": {
	    "collapsed": true
	   },
	   "outputs": [],
"source": [
"//Chapter4,Ex4.3,Pg4.9\n",
"funcprot(0)\n",
"function [polar] = rect2polar(x,y)\n",
"    polar=ones(1,2)\n",
"    polar(1)=sqrt((x^2)+(y^2))\n",
"    polar(2)=atan(y/x)\n",
"    polar(2)=(polar(2)*180)/%pi\n",
"endfunction\n",
"function [rect] = polar2rect(r,theta)\n",
"    rect=ones(1,2)\n",
"    theta=(theta*%pi)/180\n",
"    rect(1)=r*cos(theta)\n",
"    rect(2)=r*sin(theta)\n",
"endfunction\n",
"//Refer to the data given in the question\n",
"clc;\n",
"R=8 //Resistance in ohms\n",
"L=0.02 //Inductance in Henry\n",
"Vl=230 //Line voltage in volts\n",
"f=50\n",
"Vph=Vl/sqrt(3) //Phase voltage\n",
"printf('\n Vph=%.2f V \n',Vph)\n",
"Xl=2*%pi*f*L \n",
"Zbarph=rect2polar(R,Xl) //Converting rectangular coordinates to polar coordinates\n",
"r=Zbarph(1)\n",
"phi=Zbarph(2)\n",
"printf('\n Zph=%.2f ohms \n',r)\n",
"printf('\n phi=%.2f degrees \n',phi)\n",
"phi=phi*%pi/180 //Converting degrees to radians\n",
"printf('\n Power factor =%.2f (lagging) \n',cos(phi))\n",
"Iph=Vph/r\n",
"printf('\n Iph=%.2f A \n',Iph)\n",
"Il=Iph\n",
"P=sqrt(3)*Vl*Il*cos(phi)\n",
"P=P*(10^-3)\n",
"printf('\n Active power =%.2f kW \n',P)\n",
"Q=sqrt(3)*Vl*Il*sin(phi)\n",
"Q=Q*(10^-3)\n",
"printf('\n Reactive power Q=%.2f kVAR \n',Q)\n",
"S=sqrt(3)*Vl*Il\n",
"S=S*(10^-3)\n",
"printf('\n Total power =%.3f kVA \n',S)\n",
"\n",
""
   ]
   }
,
{
		   "cell_type": "markdown",
		   "metadata": {},
		   "source": [
			"## Example 4.4: Calculation_of_P.sci"
		   ]
		  },
  {
"cell_type": "code",
	   "execution_count": null,
	   "metadata": {
	    "collapsed": true
	   },
	   "outputs": [],
"source": [
"funcprot(0)\n",
"function [polar] = rect2polar(x,y) //Function to convert rectangular coordinates to polar coordinates\n",
"    polar=ones(1,2)\n",
"    polar(1)=sqrt((x^2)+(y^2))\n",
"    polar(2)=atan(y/x)\n",
"    polar(2)=(polar(2)*180)/%pi\n",
"endfunction\n",
"function [rect] = polar2rect(r,theta) //Function to convert polar coordinates to rectangular coordinates\n",
"    rect=ones(1,2)\n",
"    theta=(theta*%pi)/180\n",
"    rect(1)=r*cos(theta)\n",
"    rect(2)=r*sin(theta)\n",
"endfunction\n",
"clc\n",
"R=8 //Resistance in ohms\n",
"L=0.02 //Inductance in henry\n",
"Vl=400 //Line voltage \n",
"f=50 //Freq in hertz\n",
"Xl=2*%pi*f*L\n",
"Zbarph=rect2polar(R,Xl)\n",
"r=Zbarph(1)\n",
"phi=Zbarph(2)\n",
"printf('\n Zph=%.2f ohms \n',r)\n",
"printf('\n phi=%.2f degrees \n',phi)\n",
"phi=phi*%pi/180 //Converting degrees to radians\n",
"Iph=Vl/r\n",
"printf('\n Iph=%.2f A \n',Iph)\n",
"Il=sqrt(3)*Iph\n",
"printf('\n Il=%.2f A \n',Il)\n",
"P=sqrt(3)*Vl*Il*cos(phi) //Active power\n",
"printf('\n P=%.2f kW \n',P*(10^-3))"
   ]
   }
,
{
		   "cell_type": "markdown",
		   "metadata": {},
		   "source": [
			"## Example 4.5: Calculation_of_different_powers_for_line_and_phase_voltages.sci"
		   ]
		  },
  {
"cell_type": "code",
	   "execution_count": null,
	   "metadata": {
	    "collapsed": true
	   },
	   "outputs": [],
"source": [
"funcprot(0)\n",
"function [polar] = rect2polar(x,y) //Function to convert rectangular coordinates to polar coordinates\n",
"    polar=ones(1,2)\n",
"    polar(1)=sqrt((x^2)+(y^2))\n",
"    polar(2)=atan(y/x)\n",
"    polar(2)=(polar(2)*180)/%pi\n",
"endfunction\n",
"function [rect] = polar2rect(r,theta) //Function to convert polar coordinates to rectangular coordinates\n",
"    rect=ones(1,2)\n",
"    theta=(theta*%pi)/180\n",
"    rect(1)=r*cos(theta)\n",
"    rect(2)=r*sin(theta)\n",
"endfunction\n",
"clc;\n",
"//Refer to the data given in the question\n",
"R=9 //resistance in ohms\n",
"Xl=12 //Reactance in ohms\n",
"f= 50// Frequence of supply in hertz\n",
"Vl=440 //Supply voltage in V\n",
"Vph=Vl //For delta connected load \n",
"Zbarph=rect2polar(9,12)\n",
"r=Zbarph(1)\n",
"phi=Zbarph(2)\n",
"printf('\n Zph=%.2f ohms \n',r)\n",
"printf('\n phi=%.2f degrees \n',phi)\n",
"phi=phi*%pi/180 //Converting degrees to radians\n",
"Iph=Vph/r\n",
"printf('\n Iph=%.2f A \n',Iph)\n",
"Il=sqrt(3)*Iph\n",
"printf('\n Il=%.1f A \n',Il)\n",
"printf('\n Power factor =%.1f (lagging) \n',cos(phi))\n",
"S=sqrt(3)*Vl*Il //Total power\n",
"printf('\n S=%.2f kVA \n',S*(10^-3))\n",
"P=sqrt(3)*Vl*Il*cos(phi)\n",
"printf('\n P=%.2f kW \n',P*(10^-3))\n",
"Q=sqrt(3)*Vl*Il*sin(phi)\n",
"printf('\n Q=%.2f kVAR \n',Q*(10^-3))\n",
"//If the coils were in star connection\n",
"Vph=Vl/sqrt(3)\n",
"printf('\n Vph=%.2f V \n',Vph)\n",
"Iph=Vph/r\n",
"Il=Iph\n",
"printf('\n Iph=%.2f A \n',Iph)\n",
"pf=cos(phi)\n",
"printf('\n Power factor=%.1f (lagging) \n',pf)\n",
"S=sqrt(3)*Vl*Il\n",
"printf('\n total power=%.2f kVA \n',S*(10^-3))\n",
"P=sqrt(3)*Iph*pf\n",
"printf('\n P=%.2f kVA \n',P*(10^-3))\n",
"Q=sqrt(3)*Vl*Iph*(sqrt(1-pf^2))\n",
"printf('\n Q=%.2f kVAR \n',Q*(10^-3))"
   ]
   }
,
{
		   "cell_type": "markdown",
		   "metadata": {},
		   "source": [
			"## Example 4.6: Calculation_of_different_powers_for_line_and_phase_voltages.sci"
		   ]
		  },
  {
"cell_type": "code",
	   "execution_count": null,
	   "metadata": {
	    "collapsed": true
	   },
	   "outputs": [],
"source": [
"funcprot(0)\n",
"function [polar] = rect2polar(x,y) //Function to convert rectangular coordinates to polar coordinates\n",
"    polar=ones(1,2)\n",
"    polar(1)=sqrt((x^2)+(y^2))\n",
"    polar(2)=atan(y/x)\n",
"    polar(2)=(polar(2)*180)/%pi\n",
"endfunction\n",
"function [rect] = polar2rect(r,theta) //Function to convert polar coordinates to rectangular coordinates\n",
"    rect=ones(1,2)\n",
"    theta=(theta*%pi)/180\n",
"    rect(1)=r*cos(theta)\n",
"    rect(2)=r*sin(theta)\n",
"endfunction\n",
"clc\n",
"//Refer to the data given in the question\n",
"Vl=415\n",
"R=15\n",
"L=0.1\n",
"f=50\n",
"C=177*(10^-6)\n",
"Vph=Vl/sqrt(3)\n",
"Xl=2*%pi*f*L\n",
"Xc=1/(2*%pi*f*C)\n",
"Zbarph=rect2polar(R,(Xl-Xc))\n",
"r=Zbarph(1)\n",
"printf('\n Zph=%.2f ohms \n',Zbarph(1))\n",
"phi=Zbarph(2)\n",
"printf('\n phi=%.2f degrees \n',Zbarph(2))\n",
"phi=phi*%pi/180\n",
"pf=cos(phi)\n",
"printf('\n Power factor=%.3f (lagging) \n',pf)\n",
"Iph=Vph/r\n",
"printf('\n Iph=%.1f A \n',Iph)\n",
"P=sqrt(3)*Vl*Il*cos(phi)\n",
"printf('\n P=%.2f kW \n',P*(10^-3))\n",
"Q=sqrt(3)*Vl*Il*sin(phi)\n",
"printf('\n Q=%.2f kVAR \n',Q*(10^-3))\n",
"S=sqrt(3)*Vl*Il\n",
"printf('\n Total power =%.2f kVA \n',S*(10^-3))\n",
"//If the same impedance is connected in delta\n",
"Vph=Vl\n",
"Iph=Vph/r\n",
"printf('\n Iph=%.2f A \n',Iph)\n",
"Il=sqrt(3)*Iph\n",
"printf('\n Il=%.2f A \n',Il)\n",
"P=sqrt(3)*Vl*Il*cos(phi)\n",
"printf('\n P=%.2f kW \n',P*(10^-3)) "
   ]
   }
,
{
		   "cell_type": "markdown",
		   "metadata": {},
		   "source": [
			"## Example 4.7: Calculation_of_different_powers_for_line_and_phase_voltages.sci"
		   ]
		  },
  {
"cell_type": "code",
	   "execution_count": null,
	   "metadata": {
	    "collapsed": true
	   },
	   "outputs": [],
"source": [
"funcprot(0)\n",
"function [polar] = rect2polar(x,y) //Function to convert rectangular coordinates to polar coordinates\n",
"    polar=ones(1,2)\n",
"    polar(1)=sqrt((x^2)+(y^2))\n",
"    polar(2)=atan(y/x)\n",
"    polar(2)=(polar(2)*180)/%pi\n",
"endfunction\n",
"function [rect] = polar2rect(r,theta) //Function to convert polar coordinates to rectangular coordinates\n",
"    rect=ones(1,2)\n",
"    theta=(theta*%pi)/180\n",
"    rect(1)=r*cos(theta)\n",
"    rect(2)=r*sin(theta)\n",
"endfunction\n",
"clc\n",
"//Refer to the data given in the question\n",
"L=50*(10^-3) //load inductance in mH\n",
"R=50 //Resistance in ohms\n",
"C=50*(10^-6) //Capacitance in microfarads\n",
"Vl=550 //Line voltage in volts\n",
"w=800 //Angular frequency\n",
"Vph=Vl //For delta connected load,phase voltage=line voltage\n",
"Xl=w*L\n",
"Xc=1/(w*C)\n",
"printf('\n Xl=%.0f ohms \n',Xl)\n",
"printf('\n Xc=%.0f ohms \n',Xc)\n",
"Zbarph=rect2polar(10,20)\n",
"r=Zbarph(1)\n",
"printf('\n Zph=%.2f \n',r)\n",
"printf('\n phi=%.2f \n',Zbarph(2))\n",
"Iph=Vph/r\n",
"printf('\n Iph=%.2f A \n',Iph)\n",
"pf=cos(Zbarph(2)*%pi/180)\n",
"printf('\n Power factor=%.3f (lagging) \n',pf)\n",
"Il=sqrt(3)*Iph\n",
"P=sqrt(3)*Vl*Il*pf\n",
"printf('\n P=%.2f kW \n',P*(10^-3))\n",
"Q=sqrt(3)*Vl*Il*sin(Zbarph(2)*%pi/180)\n",
"printf('\n Q=%.1f kVAR \n',Q*(10^-3))\n",
"S=sqrt(3)*Vl*Il\n",
"printf('\n S=%.2f kVA \n',S*(10^-3))"
   ]
   }
,
{
		   "cell_type": "markdown",
		   "metadata": {},
		   "source": [
			"## Example 4.8: Calculation_of_P.sci"
		   ]
		  },
  {
"cell_type": "code",
	   "execution_count": null,
	   "metadata": {
	    "collapsed": true
	   },
	   "outputs": [],
"source": [
"funcprot(0)\n",
"function [polar] = rect2polar(x,y) //Function to convert rectangular coordinates to polar coordinates\n",
"    polar=ones(1,2)\n",
"    polar(1)=sqrt((x^2)+(y^2))\n",
"    polar(2)=atan(y/x)\n",
"    polar(2)=(polar(2)*180)/%pi\n",
"endfunction\n",
"function [rect] = polar2rect(r,theta) //Function to convert polar coordinates to rectangular coordinates\n",
"    rect=ones(1,2)\n",
"    theta=(theta*%pi)/180\n",
"    rect(1)=r*cos(theta)\n",
"    rect(2)=r*sin(theta)\n",
"endfunction\n",
"clc\n",
"//Refer to the data given in the question\n",
"Vl=440 //Line voltage\n",
"P=50*(10^3) //Active power in watts\n",
"Il=90 //Load current in amperes\n",
"Vph=Vl //For delta connected load phase voltage=line voltage\n",
"Iph=Il/sqrt(3)\n",
"printf('\n Iph=%.2f A \n',Iph)\n",
"//Since P, Il and Vl have been given, the power factor can be calculated easily\n",
"pf=P/(sqrt(3)*Vl*Il)\n",
"printf('\n Power factor=%.2f (lagging) \n',pf)\n",
"S=sqrt(3)*Vl*Il\n",
"printf('\n S=%.2f kVA \n',S*(10^-3))"
   ]
   }
,
{
		   "cell_type": "markdown",
		   "metadata": {},
		   "source": [
			"## Example 4.9: Calculation_of_active_power_reactive_power_and_total_power.sci"
		   ]
		  },
  {
"cell_type": "code",
	   "execution_count": null,
	   "metadata": {
	    "collapsed": true
	   },
	   "outputs": [],
"source": [
"funcprot(0)\n",
"function [polar] = rect2polar(x,y) //Function to convert rectangular coordinates to polar coordinates\n",
"    polar=ones(1,2)\n",
"    polar(1)=sqrt((x^2)+(y^2))\n",
"    polar(2)=atan(y/x)\n",
"    polar(2)=(polar(2)*180)/%pi\n",
"endfunction\n",
"function [rect] = polar2rect(r,theta) //Function to convert polar coordinates to rectangular coordinates\n",
"    rect=ones(1,2)\n",
"    theta=(theta*%pi)/180\n",
"    rect(1)=r*cos(theta)\n",
"    rect(2)=r*sin(theta)\n",
"endfunction\n",
"clc\n",
"//Refer to the data given in the question\n",
"Il=15 //Current in amperes\n",
"P=11*(10^3) //Active power in kilowatts\n",
"S=15*(10^3)\n",
"Vl=S/(sqrt(3)*Il)\n",
"printf('\n Vl=%.2f V \n',Vl)\n",
"Vph=Vl/sqrt(3)\n",
"printf('\n Vph=%.2f V \n',Vph)\n",
"pf=P/S //Power factor\n",
"printf('\n Power factor=%.3f \n',pf)\n",
"phi=acos(pf)\n",
"phi=phi*180/%pi\n",
"printf('\n phi=%.2f degrees \n',phi)\n",
"Q=sqrt(3)*Vl*Il*sin(phi*%pi/180)\n",
"printf('\n Q=%.1f kVAR \n',Q*10^-3)\n",
"//For star connected load,Il=Iph\n",
"Zph=Vph/Il\n",
"printf('\n Zph=%.2f ohms \n',Zph)\n",
"R=Zph*pf\n",
"printf('\n R=%.2f ohms \n',R)\n",
"Xl=Zph*sqrt(1-(pf^2))\n",
"printf('\n Xl=%.2f ohms \n',Xl)\n",
"Vph=Vl //If the coils are connected in delta\n",
"Iph=Vph/Zph\n",
"Il=sqrt(3)*Iph\n",
"printf('\n Il=%.0f A \n',Il)\n",
"P=sqrt(3)*Vl*Il*pf\n",
"printf('\n P=%.2f kW \n',P*(10^-3))\n",
"Q=sqrt(3)*Vl*Il*sqrt(1-(pf^2))\n",
"printf('\n Q=%.2f kVAR \n',Q*(10^-3))"
   ]
   }
],
"metadata": {
		  "kernelspec": {
		   "display_name": "Scilab",
		   "language": "scilab",
		   "name": "scilab"
		  },
		  "language_info": {
		   "file_extension": ".sce",
		   "help_links": [
			{
			 "text": "MetaKernel Magics",
			 "url": "https://github.com/calysto/metakernel/blob/master/metakernel/magics/README.md"
			}
		   ],
		   "mimetype": "text/x-octave",
		   "name": "scilab",
		   "version": "0.7.1"
		  }
		 },
		 "nbformat": 4,
		 "nbformat_minor": 0
}
