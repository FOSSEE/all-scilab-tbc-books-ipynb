{
"cells": [
 {
		   "cell_type": "markdown",
	   "metadata": {},
	   "source": [
       "# Chapter 6: Electrical Machines"
	   ]
	},
{
		   "cell_type": "markdown",
		   "metadata": {},
		   "source": [
			"## Example 6.1: Example_1.sci"
		   ]
		  },
  {
"cell_type": "code",
	   "execution_count": null,
	   "metadata": {
	    "collapsed": true
	   },
	   "outputs": [],
"source": [
"//Chapter6,Pg6.6,Ex6.1\n",
"clc;\n",
"P=6 //Number of poles in armature\n",
"phi=0.018 //Flux per pole in Wb\n",
"N=600 //Angular velocity in rpm\n",
"Z=840 //Number of conductors\n",
"A=P //For lap wound armature, number of parallel paths=number of poles\n",
"Eg=(phi*Z*N*P)/(60*A)\n",
"printf('\n Eg=%.1f V \n',Eg)"
   ]
   }
,
{
		   "cell_type": "markdown",
		   "metadata": {},
		   "source": [
			"## Example 6.2: Example_number_2.sci"
		   ]
		  },
  {
"cell_type": "code",
	   "execution_count": null,
	   "metadata": {
	    "collapsed": true
	   },
	   "outputs": [],
"source": [
"//Pg6.6,Ex6.2\n",
"clc;\n",
"P=6 //Number of poles\n",
"A=2 //No of parallel paths\n",
"Z=300 //Number of conductors\n",
"N=1000 //Angular velocity\n",
"Eg=400 //Generated Emf\n",
"phi=(60*Eg*A)/(Z*N*P)\n",
"printf('\n phi=%.4f Wb\n',phi)"
   ]
   }
,
{
		   "cell_type": "markdown",
		   "metadata": {},
		   "source": [
			"## Example 6.3: Example_number_3.sci"
		   ]
		  },
  {
"cell_type": "code",
	   "execution_count": null,
	   "metadata": {
	    "collapsed": true
	   },
	   "outputs": [],
"source": [
"//Pg6.7,Ex6.3\n",
"clc;\n",
"n=80 //Number of slots on armature\n",
"cps=10 //number of conductors per slot\n",
"Eg=400 //Generated EMF\n",
"N=1000 //Angular velocity\n",
"//part(i)\n",
"ctotal=n*cps\n",
"phi=(Eg*60)/(N*ctotal) //Since A=P\n",
"printf('\n phi=%.2f Wb \n',phi)\n",
"//part(ii)\n",
"Eg=220\n",
"N=(Eg*60)/(phi*ctotal)\n",
"printf('\n N=%.0f rpm \n',N)"
   ]
   }
,
{
		   "cell_type": "markdown",
		   "metadata": {},
		   "source": [
			"## Example 6.4: Example_number_4.sci"
		   ]
		  },
  {
"cell_type": "code",
	   "execution_count": null,
	   "metadata": {
	    "collapsed": true
	   },
	   "outputs": [],
"source": [
"//Pg 6.7,Ex6.4\n",
"clc;\n",
"P=4 //Number of poles\n",
"V=200 //Supply voltage\n",
"Rf=80 //field resistance in ohms\n",
"Ra=0.1 //Armature resistance in ohms\n",
"Il=100 //Load current in amperes\n",
"//part(i)\n",
"If=V/Rf\n",
"printf('\n Il=%.1f A \n',Il)\n",
"Ia=Il+If\n",
"printf('\n Ia=%.1f A \n',Ia)\n",
"//part(ii)\n",
"A=P //For lap wound generator\n",
"cpp=Ia/4 \n",
"printf('\n Current per armature path=%.3f A \n',cpp)\n",
"//Current per armature path=total current divided by total number of conductors\n",
"///part(iii)\n",
"Eg=V+(Ia*Ra)+(0.1*2) //Where the last term in the addition is brush drop\n",
"printf('\n Eg=%.2f V \n',Eg)\n",
""
   ]
   }
,
{
		   "cell_type": "markdown",
		   "metadata": {},
		   "source": [
			"## Example 6.5: Example_number_5.sci"
		   ]
		  },
  {
"cell_type": "code",
	   "execution_count": null,
	   "metadata": {
	    "collapsed": true
	   },
	   "outputs": [],
"source": [
"//Pg 6.5,ex6.8\n",
"clc;\n",
"V=250 //Terminal voltage\n",
"Il=450 //Load current\n",
"Rf=50 //Field resistance in ohms\n",
"Ra=0.05 //Armature resistance in ohms\n",
"P=4 //Number of poles\n",
"phi=0.05 //Flux per pole in Wb\n",
"If=V/Rf\n",
"printf('\n If=%.0f A \n',If)\n",
"Ia=Il+If\n",
"printf('\n Ia=%.0f A \n',Ia)\n",
"Eg=V+(Ia*Ra)\n",
"printf('\n Eg=%.2f V \n',Eg)\n",
"n=120 //Number of slots in armature\n",
"cpp=4 //Conductors per slot\n",
"Z=n*cpp //Total number of conductors on armature\n",
"A=P //For lap wound generator\n",
"N=(Eg*60*A)/(phi*Z*P)\n",
"printf('\n N=%.0f rpm \n',N)\n",
"\n",
""
   ]
   }
,
{
		   "cell_type": "markdown",
		   "metadata": {},
		   "source": [
			"## Example 6.6: Example_number_6.sci"
		   ]
		  },
  {
"cell_type": "code",
	   "execution_count": null,
	   "metadata": {
	    "collapsed": true
	   },
	   "outputs": [],
"source": [
"//Ex6.6,Pg6.8\n",
"clc;\n",
"V=230 //Supply voltage\n",
"Il=40 //Current in amperes\n",
"Ra=0.5 //Armature winding\n",
"Rf=115 //Resistance in ohms\n",
"//Generator operation\n",
"disp('Generator operation')\n",
"Il=40 //Load current in amperes\n",
"If=V/Rf\n",
"printf('\n If=%.0f A \n',If)\n",
"Ia=Il+If\n",
"printf('\n Ia=%.0f A \n',Ia)\n",
"Eg=V+(Ia*Ra)\n",
"printf('\n Eg=%.0f V \n',Eg)\n",
"//Motor operation\n",
"disp('Motor operation')\n",
"Il=40\n",
"If=2\n",
"Ia=Il-If\n",
"printf('\n Ia=%.0f A \n',Ia)\n",
"Eb=V-(Ia*Ra)\n",
"printf('\n Eb=%.0f V \n',Eb)\n",
"n=Eb/Eg\n",
"printf('\n N2/N1=% .4f \n',n)"
   ]
   }
,
{
		   "cell_type": "markdown",
		   "metadata": {},
		   "source": [
			"## Example 6.7: Example_number_7.sci"
		   ]
		  },
  {
"cell_type": "code",
	   "execution_count": null,
	   "metadata": {
	    "collapsed": true
	   },
	   "outputs": [],
"source": [
"//Ex6.7\n",
"clc;\n",
"V=100\n",
"Il=200\n",
"Rs=0.03\n",
"Rf=60\n",
"Ra=0.04\n",
"Vsfw=Il*Rs\n",
"printf('\n Voltage drop in series field winding =%.0f V \n',Vsfw)\n",
"If=(V+(Il*Rs))/Rf\n",
"printf('\n If=%.2f A \n',If)\n",
"Ia=Il+If\n",
"printf('\n Ia=%.2f A \n',Ia)\n",
"Eg=V+(Il*Rs)+(Ia*Ra)\n",
"printf('\n Generated EMF=%.2f V \n',Eg)"
   ]
   }
],
"metadata": {
		  "kernelspec": {
		   "display_name": "Scilab",
		   "language": "scilab",
		   "name": "scilab"
		  },
		  "language_info": {
		   "file_extension": ".sce",
		   "help_links": [
			{
			 "text": "MetaKernel Magics",
			 "url": "https://github.com/calysto/metakernel/blob/master/metakernel/magics/README.md"
			}
		   ],
		   "mimetype": "text/x-octave",
		   "name": "scilab",
		   "version": "0.7.1"
		  }
		 },
		 "nbformat": 4,
		 "nbformat_minor": 0
}
