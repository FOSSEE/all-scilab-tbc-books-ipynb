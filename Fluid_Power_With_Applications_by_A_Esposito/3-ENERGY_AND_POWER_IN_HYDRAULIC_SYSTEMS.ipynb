{
"cells": [
 {
		   "cell_type": "markdown",
	   "metadata": {},
	   "source": [
       "# Chapter 3: ENERGY AND POWER IN HYDRAULIC SYSTEMS"
	   ]
	},
{
		   "cell_type": "markdown",
		   "metadata": {},
		   "source": [
			"## Example 3.10_a: find_pressure_available_at_motor_inlet.sci"
		   ]
		  },
  {
"cell_type": "code",
	   "execution_count": null,
	   "metadata": {
	    "collapsed": true
	   },
	   "outputs": [],
"source": [
"// Aim:Refer Example 3-10 for Problem Description. \n",
"// Given:\n",
"// Pump Power:\n",
"HHP=5; //HP\n",
"// Pump flow:\n",
"Q=30; //gpm\n",
"// Pipe Diameter:\n",
"D=1; //in\n",
"// specific gravity of oil:\n",
"SG=0.9;\n",
"// Pressure at Station 1:\n",
"p1=0; //psig (It is atmospheric pressure.)\n",
"// Head Loss due to friction between Station 1 and 2 of oil:\n",
"Hl=30; //ft"
   ]
   }
,
{
		   "cell_type": "markdown",
		   "metadata": {},
		   "source": [
			"## Example 3.10_b: SOLUTION_pressure_available_at_motor_inlet.sce"
		   ]
		  },
  {
"cell_type": "code",
	   "execution_count": null,
	   "metadata": {
	    "collapsed": true
	   },
	   "outputs": [],
"source": [
"clc;\n",
"pathname=get_absolute_file_path('3_10_soln.sce')\n",
"filename=pathname+filesep()+'3_10_data.sci'\n",
"exec(filename)\n",
"// Solution:\n",
"// Acceleration due to gravity,\n",
"g=32.2; //ft/s^2\n",
"// Energy Equation between Station 1 and Station 2 is given by,\n",
"// (Z1+P1+K1+Hp-Hm-Hl)=(Z2+P2+K2)\n",
"// since, There is no Hydraulic motor between Station 1 and 2,\n",
"// Therefore Motor Head,\n",
"Hm=0; //ft\n",
"// also, cross section of oil tank is very large, as a result oil is at rest,\n",
"v1=0; //ft/s\n",
"// Kinetic Energy Head at inlet,\n",
"K1=(v1^2)/(2*g); //ft\n",
"// Height of Station 1 from Datum,\n",
"Z1=0; //ft\n",
"// Height of Station 2 from Datum,\n",
"Z2=20; //ft\n",
"// Pressure Head at inlet,\n",
"P1=p1/SG; //ft\n",
"// Pump Head,\n",
"Hp=ceil((3950*HHP)/(Q*SG)); //ft\n",
"// Pump flow,\n",
"Q_1=Q/449; //ft^3/s\n",
"// Area of pipe,\n",
"A=((%pi)*((D/12)^2))/4; //ft^2\n",
"// Therefore, velocity in pipe,\n",
"v2=Q_1/A; //ft/s\n",
"// Kinetic Energy head at Station 2,\n",
"K2=(v2^2)/(2*g); //ft\n",
"// Therefore, Pressure Head at outlet,\n",
"P2=Z1+P1+K1+Hp-Hm-Hl-Z2-K2; //ft\n",
"// specific weight of oil,\n",
"gamma1=SG*62.4; //lb/ft^3\n",
"// Pressure available at inlet of hydraulic motor at station 2,\n",
"p2=P2*gamma1; // lb/ft^2\n",
"p2=floor(p2/144); //psi\n",
"// Results:\n",
"printf('\n  Results:  ')  \n",
"printf('\n The Pressure available at inlet of hydraulic motor at Station 2 is %.0f psig.',p2)"
   ]
   }
,
{
		   "cell_type": "markdown",
		   "metadata": {},
		   "source": [
			"## Example 3.11_a: find_jet_velocity_and_flow_rate.sci"
		   ]
		  },
  {
"cell_type": "code",
	   "execution_count": null,
	   "metadata": {
	    "collapsed": true
	   },
	   "outputs": [],
"source": [
"// Aim:Refer Example 3-11 for Problem Description. \n",
"// Given:\n",
"// Fluid Head:\n",
"h=36; //ft\n",
"// Diameter of opening:\n",
"d=2; //in\n",
"// Frictional Head Losses:\n",
"Hl=10; //ft"
   ]
   }
,
{
		   "cell_type": "markdown",
		   "metadata": {},
		   "source": [
			"## Example 3.11_b: SOLUTION_jet_velocity_and_flow_rate.sce"
		   ]
		  },
  {
"cell_type": "code",
	   "execution_count": null,
	   "metadata": {
	    "collapsed": true
	   },
	   "outputs": [],
"source": [
"clc;\n",
"pathname=get_absolute_file_path('3_11_soln.sce')\n",
"filename=pathname+filesep()+'3_11_data.sci'\n",
"exec(filename)\n",
"// Solution:\n",
"// Acceleration due to gravity,\n",
"g=32.2; //ft/s^2\n",
"// Assuming ideal fluid, Jet velocity,\n",
"v2=sqrt(2*g*h); //ft/s\n",
"// Area of the opening,\n",
"A=(%pi/4)*((d/12)^2); //ft^2\n",
"// flow rate,\n",
"Q=A*v2; //ft^3/s\n",
"Q_gpm=floor(449*Q); //gpm\n",
"// Jet velocity considering friction losses,\n",
"v2l=sqrt(64.4*(h-Hl)); //ft/s\n",
"// since, flow rate is proportional to velocity,\n",
"Ql=((v2l/v2)*Q_gpm); //gpm\n",
"// Results:\n",
"printf('\n  Results:  ')  \n",
"printf('\n The Jet velocity is %.1f ft/s.',v2)\n",
"printf('\n The answer in the program is different than that in textbook. It may be due to no.s of significant digit in data and calculation')\n",
"printf('\n The Flow rate is %.0f gpm.',Q_gpm)\n",
"printf('\n The Jet velocity considering friction losses is %.1f ft/s.',v2l)\n",
"printf('\n The Flow rate considering friction losses is %.0f gpm.',Ql)\n",
"printf('\n The answer in the program is different than that in textbook. It may be due to no.s of significant digit in data and calculation')"
   ]
   }
,
{
		   "cell_type": "markdown",
		   "metadata": {},
		   "source": [
			"## Example 3.12_a: find_velocity_and_flowrate_through_siphon.sci"
		   ]
		  },
  {
"cell_type": "code",
	   "execution_count": null,
	   "metadata": {
	    "collapsed": true
	   },
	   "outputs": [],
"source": [
"// Aim:Refer Example 3-12 for Problem Description. \n",
"// Given:\n",
"// Fluid Head:\n",
"h=30; //ft\n",
"// Frictional Head Losses:\n",
"Hl=10; //ft\n",
"// U-tube inside diameter:\n",
"d=1; //in"
   ]
   }
,
{
		   "cell_type": "markdown",
		   "metadata": {},
		   "source": [
			"## Example 3.12_b: SOLUTION_velocity_and_flowrate_through_siphon.sce"
		   ]
		  },
  {
"cell_type": "code",
	   "execution_count": null,
	   "metadata": {
	    "collapsed": true
	   },
	   "outputs": [],
"source": [
"clc;\n",
"pathname=get_absolute_file_path('3_12_soln.sce')\n",
"filename=pathname+filesep()+'3_12_data.sci'\n",
"exec(filename)\n",
"// Solution:\n",
"// Acceleration due to gravity,\n",
"g=32.2; //ft/s^2\n",
"// Jet velocity through siphon,\n",
"v2=sqrt(2*g*(h-Hl)); //ft/s\n",
"// rounding off the above answer\n",
"v2=fix(v2)+(fix(floor((v2-fix(v2))*10))/10); //ft/s\n",
"// Area of the U tube,\n",
"A=(%pi/4)*((d/12)^2); //ft^2\n",
"// flow rate through siphon,\n",
"Q=A*v2; //ft^3/s\n",
"Q_gpm=449*Q; //gpm\n",
"// rounding off the above answer\n",
"Q_gpm=fix(Q_gpm)+(fix(floor((Q_gpm-fix(Q_gpm))*10))/10); //gpm\n",
"// Results:\n",
"printf('\n  Results:  ')  \n",
"printf('\n The velocity through siphon is %.1f ft/s.',v2)\n",
"printf('\n The Flow rate through siphon is %.1f gpm.',Q_gpm)"
   ]
   }
,
{
		   "cell_type": "markdown",
		   "metadata": {},
		   "source": [
			"## Example 3.13_a: determine_force_and_displacement_for_piston2.sci"
		   ]
		  },
  {
"cell_type": "code",
	   "execution_count": null,
	   "metadata": {
	    "collapsed": true
	   },
	   "outputs": [],
"source": [
"// Aim:Refer Example 3-13 for Problem Description\n",
"// Given:For the Hydraulic Jack,\n",
"// Area of Piston 1:\n",
"A1=25; //cm^2\n",
"// Area of Piston 2:\n",
"A2=100; //cm^2\n",
"// Input force downward:\n",
"F1=200; //N\n",
"// downward movement of piston 1:\n",
"S1=5; //cm"
   ]
   }
,
{
		   "cell_type": "markdown",
		   "metadata": {},
		   "source": [
			"## Example 3.13_b: SOLUTION_force_and_displacement_for_piston2.sce"
		   ]
		  },
  {
"cell_type": "code",
	   "execution_count": null,
	   "metadata": {
	    "collapsed": true
	   },
	   "outputs": [],
"source": [
"clc;\n",
"pathname=get_absolute_file_path('3_13_soln.sce')\n",
"filename=pathname+filesep()+'3_13_data.sci'\n",
"exec(filename)\n",
"// Solution:\n",
"// Pascal law states, (F1*A1 = F2*A2) \n",
"// Similarly, (S1*A1 = S2*A2)\n",
"// Output force upward,\n",
"F2=(A2/A1)*F1; //N\n",
"// upward movement of piston 2,\n",
"S2=(A1/A2)*S1; //cm\n",
"// Results:\n",
"printf('\n  Results:  ')   \n",
"printf('\n The Output force upward is %.0f N',F2)\n",
"printf('\n The upward movement of piston 2 is %.2f cm',S2)"
   ]
   }
,
{
		   "cell_type": "markdown",
		   "metadata": {},
		   "source": [
			"## Example 3.14_a: find_velocity_of_oil_through_pipe.sci"
		   ]
		  },
  {
"cell_type": "code",
	   "execution_count": null,
	   "metadata": {
	    "collapsed": true
	   },
	   "outputs": [],
"source": [
"// Aim:To Determine velocity through pipe. \n",
"// Given:\n",
"// Diameter of pipe:\n",
"D=30; //mm\n",
"// Flow through pipe:\n",
"Q=60; //lpm"
   ]
   }
,
{
		   "cell_type": "markdown",
		   "metadata": {},
		   "source": [
			"## Example 3.14_b: SOLUTION_velocity_of_oil_through_pipe.sce"
		   ]
		  },
  {
"cell_type": "code",
	   "execution_count": null,
	   "metadata": {
	    "collapsed": true
	   },
	   "outputs": [],
"source": [
"clc;\n",
"pathname=get_absolute_file_path('3_14_soln.sce')\n",
"filename=pathname+filesep()+'3_14_data.sci'\n",
"exec(filename)\n",
"// Solution:\n",
"// Pump flow in m^3/s,\n",
"Q_si=0.0000167*Q; //m^3/s\n",
"// Diameter of pipe,\n",
"D_m=D/1000; //m\n",
"// Area of pipe,\n",
"A=(%pi*(D_m^2))/4; //m^2\n",
"// velocity,\n",
"v=Q_si/A; //m/s\n",
"// rounding off the above answer\n",
"v=fix(v)+(fix(floor((v-fix(v))*100))/100); //m/s\n",
"// Results:\n",
"printf('\n  Results:  ')   \n",
"printf('\n The velocity through pipe is %.2f m/s.',v)"
   ]
   }
,
{
		   "cell_type": "markdown",
		   "metadata": {},
		   "source": [
			"## Example 3.15_a: find_hydraulic_power_delivered_by_pump.sci"
		   ]
		  },
  {
"cell_type": "code",
	   "execution_count": null,
	   "metadata": {
	    "collapsed": true
	   },
	   "outputs": [],
"source": [
"// Aim:To Determine Hydraulic power delivered by pump. \n",
"// Given:\n",
"// Pump flow:\n",
"Q=50; //lpm\n",
"// Pressure delivered by pump:\n",
"p=10000; //kPa"
   ]
   }
,
{
		   "cell_type": "markdown",
		   "metadata": {},
		   "source": [
			"## Example 3.15_b: SOLUTION_hydraulic_power_delivered_by_pump.sce"
		   ]
		  },
  {
"cell_type": "code",
	   "execution_count": null,
	   "metadata": {
	    "collapsed": true
	   },
	   "outputs": [],
"source": [
"clc;\n",
"pathname=get_absolute_file_path('3_15_soln.sce')\n",
"filename=pathname+filesep()+'3_15_data.sci'\n",
"exec(filename)\n",
"// Solution:\n",
"// Pump flow in m^3/s,\n",
"Q_si=0.0000167*Q; //m^3/s\n",
"// Hydraulic Power,\n",
"HP=p*Q_si; //kW\n",
"// Results:\n",
"printf('\n  Results:  ')   \n",
"printf('\n The Hydraulic power delivered by pump is %.2f kW.',HP)"
   ]
   }
,
{
		   "cell_type": "markdown",
		   "metadata": {},
		   "source": [
			"## Example 3.16_a: find_torque_delivered_by_motor_SI.sci"
		   ]
		  },
  {
"cell_type": "code",
	   "execution_count": null,
	   "metadata": {
	    "collapsed": true
	   },
	   "outputs": [],
"source": [
"// Aim:To determine torque delivered by hydraulic motor\n",
"// Given:\n",
"// Mechanical Output Power:\n",
"OP=10; //kW\n",
"// Speed of the Hydraulic motor: \n",
"N=1450; //rpm"
   ]
   }
,
{
		   "cell_type": "markdown",
		   "metadata": {},
		   "source": [
			"## Example 3.16_b: SOLUTION_torque_delivered_by_motor_SI.sce"
		   ]
		  },
  {
"cell_type": "code",
	   "execution_count": null,
	   "metadata": {
	    "collapsed": true
	   },
	   "outputs": [],
"source": [
"clc;\n",
"pathname=get_absolute_file_path('3_16_soln.sce')\n",
"filename=pathname+filesep()+'3_16_data.sci'\n",
"exec(filename)\n",
"// Solution:\n",
"// Power(kW)=(Torque*Speed)/9550\n",
"// Therefore,Torque\n",
"T=(OP*9550)/N; //Nm\n",
"   \n",
"// Results:\n",
"printf('\n  Results:  ')  \n",
"printf('\n The Torque delivered by Hydraulic motor is %.1f Nm.',T)"
   ]
   }
,
{
		   "cell_type": "markdown",
		   "metadata": {},
		   "source": [
			"## Example 3.17_a: find_pressure_at_hydraulicmotor_inlet_SI.sci"
		   ]
		  },
  {
"cell_type": "code",
	   "execution_count": null,
	   "metadata": {
	    "collapsed": true
	   },
	   "outputs": [],
"source": [
"// Aim:Refer Example 3-17 for Problem Description. \n",
"// Given:\n",
"// Pump Power:\n",
"HHP=3.73; //kW\n",
"// Pump flow:\n",
"Q=0.001896; //m^3/s\n",
"// Pipe Diameter:\n",
"D=0.0254; //m\n",
"// specific gravity of oil:\n",
"SG=0.9;\n",
"// Pressure at Station 1:\n",
"p1=0; //Pa (It is atmospheric pressure.)\n",
"// Elevation Between Station 1 and 2:\n",
"// Z=Z1-Z2\n",
"Z=-6.096; //m   -ve sign indicates Station 2 is above Station 1\n",
"// Head Loss due to friction between Station 1 and 2 of oil:\n",
"Hl=9.144; //m"
   ]
   }
,
{
		   "cell_type": "markdown",
		   "metadata": {},
		   "source": [
			"## Example 3.17_b: SOLUTION_pressure_at_hydraulicmotor_inlet_SI.sce"
		   ]
		  },
  {
"cell_type": "code",
	   "execution_count": null,
	   "metadata": {
	    "collapsed": true
	   },
	   "outputs": [],
"source": [
"clc;\n",
"pathname=get_absolute_file_path('3_17_soln.sce')\n",
"filename=pathname+filesep()+'3_17_data.sci'\n",
"exec(filename)\n",
"// Solution:\n",
"// Acceleration due to gravity,\n",
"g=9.81; //m/s^2\n",
"// Energy Equation between Station 1 and Station 2 is given by,\n",
"// (Z+P1+K1+Hp-Hm-Hl)=(P2+K2)\n",
"// since, There is no Hydraulic motor between Station 1 and 2,\n",
"// Therefore Motor Head,\n",
"Hm=0; //m\n",
"// also, cross section of oil tank is very large, as a result oil is at rest,\n",
"v1=0; //m/s\n",
"// Kinetic Energy Head at inlet,\n",
"K1=(v1^2)/(2*g); //m\n",
"// Pressure Head at inlet,\n",
"P1=p1/SG; //m\n",
"// specific weight of oil,\n",
"gamma1=round(SG*9797); //N/m^3\n",
"// Pump Power,\n",
"W=HHP*1000; //W\n",
"// Pump Head,\n",
"Hp=(W/(Q*gamma1)); //m\n",
"// Area of pipe,\n",
"A=((%pi)*(D^2))/4; //m^2\n",
"// Therefore, velocity in pipe,\n",
"v2=Q/A; //m/s\n",
"// Kinetic Energy head at Station 2,\n",
"K2=(v2^2)/(2*g); //m\n",
"// Therefore, Pressure Head at outlet,\n",
"P2=Z+P1+K1+Hp-Hm-Hl-K2; //m\n",
"// Pressure available at inlet of hydraulic motor at station 2,\n",
"p2=floor((P2*gamma1)/1000); // kPa gage\n",
"// Results:\n",
"printf('\n  Results:  ')  \n",
"printf('\n The Pressure available at inlet of hydraulic motor at Station 2 is %.0f kPa gage.',p2)"
   ]
   }
,
{
		   "cell_type": "markdown",
		   "metadata": {},
		   "source": [
			"## Example 3.1_a: find_work_done_and_power_delivered.sci"
		   ]
		  },
  {
"cell_type": "code",
	   "execution_count": null,
	   "metadata": {
	    "collapsed": true
	   },
	   "outputs": [],
"source": [
"// Aim:To find work done and power deliver\n",
"// Given:\n",
"// Force excerted by the person:\n",
"F=30; //lb\n",
"// Distance moved by hand truck: \n",
"S=100; //ft\n",
"// time taken:\n",
"t=60; //s"
   ]
   }
,
{
		   "cell_type": "markdown",
		   "metadata": {},
		   "source": [
			"## Example 3.1_b: SOLUTION_work_done_and_power_delivered.sce"
		   ]
		  },
  {
"cell_type": "code",
	   "execution_count": null,
	   "metadata": {
	    "collapsed": true
	   },
	   "outputs": [],
"source": [
"clc;\n",
"pathname=get_absolute_file_path('3_1_soln.sce')\n",
"filename=pathname+filesep()+'3_1_data.sci'\n",
"exec(filename)\n",
"// Solution:\n",
"// we know,Work done=Force * Displacement,\n",
"W=F*S; //ft.lb\n",
"// Now,Power,\n",
"P=W/t; //(ft.lb/s)\n",
"P=P/550; //HP\n",
"   \n",
"// Results:\n",
"printf('\n  Results:  ')   \n",
"printf('\n The work done by the person is %.1f ft.lb',W)\n",
"printf('\n The power delivered by the person is %.3f HP',P)"
   ]
   }
,
{
		   "cell_type": "markdown",
		   "metadata": {},
		   "source": [
			"## Example 3.2_a: find_torque_delivered_by_hydraulic_motor.sci"
		   ]
		  },
  {
"cell_type": "code",
	   "execution_count": null,
	   "metadata": {
	    "collapsed": true
	   },
	   "outputs": [],
"source": [
"clc;\n",
"// Aim:To determine torque required by hydraulic motor\n",
"// Given:\n",
"// Power Supplied:\n",
"HP=2; //HP\n",
"// Speed of the Hydraulic motor: \n",
"N=1800; //rpm"
   ]
   }
,
{
		   "cell_type": "markdown",
		   "metadata": {},
		   "source": [
			"## Example 3.2_b: SOLUTION_torque_delivered_by_hydraulic_motor.sce"
		   ]
		  },
  {
"cell_type": "code",
	   "execution_count": null,
	   "metadata": {
	    "collapsed": true
	   },
	   "outputs": [],
"source": [
"clc;\n",
"pathname=get_absolute_file_path('3_2_soln.sce')\n",
"filename=pathname+filesep()+'3_2_data.sci'\n",
"exec(filename)\n",
"// Solution:\n",
"// Power (HP)=(Torque*Speed)/63000\n",
"// Therefore,Torque\n",
"T=(HP*63000)/N; //in.lb\n",
"   \n",
"// Results:\n",
"printf('\n  Results:  ')  \n",
"printf('\n The Torque delivered by Hydraulic motor is %.1f in.lb',T)"
   ]
   }
,
{
		   "cell_type": "markdown",
		   "metadata": {},
		   "source": [
			"## Example 3.3_a: find_input_horsepower_required_by_elevator.sci"
		   ]
		  },
  {
"cell_type": "code",
	   "execution_count": null,
	   "metadata": {
	    "collapsed": true
	   },
	   "outputs": [],
"source": [
"// Aim: Refer Example 3-3 for Problem Description\n",
"// Given:\n",
"// Load to be raised:\n",
"F=3000; //lb\n",
"// Distance: \n",
"S=50; //ft\n",
"// time required:\n",
"t=10; //s\n",
"//efficiency of the system:\n",
"eta=80; //%"
   ]
   }
,
{
		   "cell_type": "markdown",
		   "metadata": {},
		   "source": [
			"## Example 3.3_b: SOLUTION_input_horsepower_required_by_elevator.sce"
		   ]
		  },
  {
"cell_type": "code",
	   "execution_count": null,
	   "metadata": {
	    "collapsed": true
	   },
	   "outputs": [],
"source": [
"clc;\n",
"pathname=get_absolute_file_path('3_3_soln.sce')\n",
"filename=pathname+filesep()+'3_3_data.sci'\n",
"exec(filename)\n",
"// Solution:\n",
"// we know,output power=(Force * Displacement)/time,\n",
"outpw=(F*S)/t; //ft.lb/s\n",
"outpw_HP=outpw/550; //HP\n",
"// Efficiency=output power/input power\n",
"inpw=outpw_HP/(eta*0.01); //HP\n",
"   \n",
"// Results:\n",
"printf('\n  Results:  ')    \n",
"printf('\n The Input Horsepower required by elevator hoist motor is %.1f HP',inpw)"
   ]
   }
,
{
		   "cell_type": "markdown",
		   "metadata": {},
		   "source": [
			"## Example 3.4_a: find_force_and_energy_for_jack.sci"
		   ]
		  },
  {
"cell_type": "code",
	   "execution_count": null,
	   "metadata": {
	    "collapsed": true
	   },
	   "outputs": [],
"source": [
"// Aim:Refer Example 3-4 for Problem Description\n",
"// Given:For the Hydraulic Jack,\n",
"// Area of Piston 1:\n",
"A1=2; //in^2\n",
"// Area of Piston 2:\n",
"A2=20; //in^2\n",
"// Input force downward:\n",
"F1=100; //lb\n",
"// downward movement of piston 1:\n",
"S1=1; //in"
   ]
   }
,
{
		   "cell_type": "markdown",
		   "metadata": {},
		   "source": [
			"## Example 3.4_b: SOLUTION_force_and_energy_for_jack.sce"
		   ]
		  },
  {
"cell_type": "code",
	   "execution_count": null,
	   "metadata": {
	    "collapsed": true
	   },
	   "outputs": [],
"source": [
"clc;\n",
"pathname=get_absolute_file_path('3_4_soln.sce')\n",
"filename=pathname+filesep()+'3_4_data.sci'\n",
"exec(filename)\n",
"// Solution:\n",
"// Pascal law states, (F1*A1 = F2*A2) \n",
"// Similarly, (S1*A1 = S2*A2)\n",
"// Output force upward,\n",
"F2=(A2/A1)*F1; //lb\n",
"// upward movement of piston 2,\n",
"S2=(A1/A2)*S1; //in\n",
"// Energy Input,\n",
"E1=F1*S1; //in.lb\n",
"// Energy Output,\n",
"E2=F2*S2; //in.lb\n",
"// Results:\n",
"printf('\n  Results:  ')   \n",
"printf('\n The Output force upward is %.1f lb',F2)\n",
"printf('\n The upward movement of piston 2 is %.1f in',S2)\n",
"printf('\n The Energy Input is %.1f in.lb',E1)\n",
"printf('\n The Energy Output is %.1f in.lb',E2)"
   ]
   }
,
{
		   "cell_type": "markdown",
		   "metadata": {},
		   "source": [
			"## Example 3.5_a: what_is_output_horsepower.sci"
		   ]
		  },
  {
"cell_type": "code",
	   "execution_count": null,
	   "metadata": {
	    "collapsed": true
	   },
	   "outputs": [],
"source": [
"// Aim:Refer Example 3-5 for Problem Description. \n",
"// Given:\n",
"// Diameter of piston of pump cylinder:\n",
"Dp=1; //in\n",
"// Diameter of piston of load cylinder:\n",
"Dl=3.25; //in\n",
"// Average hand force:\n",
"Fh=25; //lb\n",
"// Load piston stroke:\n",
"Sl=10; //in\n",
"// Pump piston stroke:\n",
"Sp=2; //in"
   ]
   }
,
{
		   "cell_type": "markdown",
		   "metadata": {},
		   "source": [
			"## Example 3.5_b: SOLUTION_output_horsepower.sce"
		   ]
		  },
  {
"cell_type": "code",
	   "execution_count": null,
	   "metadata": {
	    "collapsed": true
	   },
	   "outputs": [],
"source": [
"clc;\n",
"pathname=get_absolute_file_path('3_5_soln.sce')\n",
"filename=pathname+filesep()+'3_5_data.sci'\n",
"exec(filename)\n",
"// Solution:\n",
"// Therfore, Force acting on rod of pump cylinder,\n",
"F_rod=(8/2)*Fh; //lb\n",
"// Area of piston of pump cylinder,\n",
"Ap=(%pi/4)*Dp^2;//in^2\n",
"// Area of piston of load cylinder,\n",
"Al=(%pi/4)*Dl^2; //in^2\n",
"// Pump cylinder discharge pressure,\n",
"p=round(F_rod/Ap); //psi\n",
"// Load carrying capacity,\n",
"F_load=p*Al; //lb\n",
"// Therefore, No.s of Cycles,\n",
"Noc=(Al*Sl)/(Ap*Sp);\n",
"// Output power,\n",
"outpw=((F_load*(Sl/12))/Noc); //ft.lb/s\n",
"outpw_HP=outpw/550; //HP\n",
"// Assuming efficiency 80 %\n",
"eta=0.8;\n",
"outpw_HP2=eta*outpw_HP; //HP\n",
"// Results:\n",
"printf('\n  Results:  ') \n",
"printf('\n Therefore %.0f lb of load can be lifted',F_load)\n",
"printf('\n The answer in the program is different than that in textbook. It may be due to no.s of significant digit in data and calculation')\n",
"printf('\n Therefore %.1f no.s of cycles are required to lift the load 10 in.',Noc)\n",
"printf('\n The answer in the program is different than that in textbook. It may be due to no.s of significant digit in data and calculation')\n",
"printf('\n Input power when efficiency is 100 percent is %.3f HP',outpw_HP)\n",
"printf('\n Input power when efficiency is 80 percent is %.3f HP',outpw_HP2)"
   ]
   }
,
{
		   "cell_type": "markdown",
		   "metadata": {},
		   "source": [
			"## Example 3.6_a: find_load_carrying_capacity_of_system.sci"
		   ]
		  },
  {
"cell_type": "code",
	   "execution_count": null,
	   "metadata": {
	    "collapsed": true
	   },
	   "outputs": [],
"source": [
"// Aim:Refer Example 3-6 for Problem Description. \n",
"// Given:\n",
"// inlet air pressure:\n",
"p1=100; //psi\n",
"// air piston area:\n",
"A1=20; //in^2\n",
"// oil piston area:\n",
"A2=1; //in^2\n",
"// load piston area:\n",
"A3=25; //in^2\n",
"// load piston diameter:\n",
"d3=5.64; //in"
   ]
   }
,
{
		   "cell_type": "markdown",
		   "metadata": {},
		   "source": [
			"## Example 3.6_b: SOLUTION_load_carrying_capacity_of_system.sce"
		   ]
		  },
  {
"cell_type": "code",
	   "execution_count": null,
	   "metadata": {
	    "collapsed": true
	   },
	   "outputs": [],
"source": [
"clc;\n",
"pathname=get_absolute_file_path('3_6_soln.sce')\n",
"filename=pathname+filesep()+'3_6_data.sci'\n",
"exec(filename)\n",
"// Solution:\n",
"// booster input force = booster output force\n",
"// p1*A1 = p2*A2\n",
"p2=(A1/A2)*p1; //psi\n",
"// As per pascal law,\n",
"p3=p2; // where p3=outlet pressure\n",
"// Therefore load carrying capacity of system,\n",
"F=p3*A3; //lb\n",
"// Results:\n",
"printf('\n  Results:  ')  \n",
"printf('\n The load carrying capacity of system is %.0f lb.',F)"
   ]
   }
,
{
		   "cell_type": "markdown",
		   "metadata": {},
		   "source": [
			"## Example 3.7_a: find_flow_rate_and_fluid_velocity.sci"
		   ]
		  },
  {
"cell_type": "code",
	   "execution_count": null,
	   "metadata": {
	    "collapsed": true
	   },
	   "outputs": [],
"source": [
"// Aim:Refer Example 3-7 for Problem Description. \n",
"// Given:\n",
"// inlet diameter:\n",
"D1=4; //in\n",
"// outlet diameter:\n",
"D2=2; //in\n",
"// inlet velocity:\n",
"v1=4; //ft/s"
   ]
   }
,
{
		   "cell_type": "markdown",
		   "metadata": {},
		   "source": [
			"## Example 3.7_b: SOLUTION_flow_rate_and_fluid_velocity.sce"
		   ]
		  },
  {
"cell_type": "code",
	   "execution_count": null,
	   "metadata": {
	    "collapsed": true
	   },
	   "outputs": [],
"source": [
"clc;\n",
"pathname=get_absolute_file_path('3_7_soln.sce')\n",
"filename=pathname+filesep()+'3_7_data.sci'\n",
"exec(filename)\n",
"// Solution:\n",
"// we know, Discharge=Area*Velocity\n",
"A1=(%pi/4)*(D1/12)^2; //ft^2\n",
"Q=A1*v1; //ft^3/s\n",
"// Since, for hydraulic system, volume flow rate is always constant\n",
"// we get,outlet velocity,\n",
"v2=((D1/D2)^2)*v1; //ft/s\n",
"// Results:\n",
"printf('\n  Results:  ')  \n",
"printf('\n The Volume flow rate of the system is %.3f ft^3/s.',Q)\n",
"printf('\n The fluid velocity at station 2 is %.0f ft/s.',v2)"
   ]
   }
,
{
		   "cell_type": "markdown",
		   "metadata": {},
		   "source": [
			"## Example 3.8_a: calculate_output_HP_delivered_by_cylinder.sci"
		   ]
		  },
  {
"cell_type": "code",
	   "execution_count": null,
	   "metadata": {
	    "collapsed": true
	   },
	   "outputs": [],
"source": [
"// Aim:Refer Example 3-8 for Problem Description. \n",
"// Given:\n",
"// Time period of operations:\n",
"t=10; //s\n",
"// Stroke of hydraulic cylinder:\n",
"S=10; //ft\n",
"// Load required to compress car:\n",
"F_load=8000; //lb\n",
"// Pump pressure:\n",
"p=1000; //psi\n",
"// Efficiency of cylinder:100 %\n",
"eta=1;"
   ]
   }
,
{
		   "cell_type": "markdown",
		   "metadata": {},
		   "source": [
			"## Example 3.8_b: SOLUTION_output_HP_delivered_by_cylinder.sce"
		   ]
		  },
  {
"cell_type": "code",
	   "execution_count": null,
	   "metadata": {
	    "collapsed": true
	   },
	   "outputs": [],
"source": [
"clc;\n",
"pathname=get_absolute_file_path('3_8_soln.sce')\n",
"filename=pathname+filesep()+'3_8_data.sci'\n",
"exec(filename)\n",
"// Solution:\n",
"// The required piston area,\n",
"A=round(F_load/p); //in^2\n",
"// The necessary pump flow rate,\n",
"Q=((A/144)*S)/t; //ft^3/s\n",
"Q_gpm=Q*449; //gpm\n",
"// The Hydraulic Horsepower delivered to cylinder,\n",
"HHP=(p*Q_gpm)/1714; //HP\n",
"// rounding off the above answer\n",
"HHP=fix(HHP)+(fix(floor((HHP-fix(HHP))*10))/10); //HP\n",
"// The output horsepower delivered by cylinder to load,\n",
"OHP=HHP*eta; //HP\n",
"// Results:\n",
"printf('\n  Results:  ')   \n",
"printf('\n The Required piston area is %.0f in^2.',A)\n",
"printf('\n The necessary pump flow rate is %.1f gpm.',Q_gpm)\n",
"printf('\n The Hydraulic Horsepower delivered to cylinder is %.1f HP.',HHP)\n",
"printf('\n The output horsepower delivered by cylinder to load is %.1f HP.',OHP)"
   ]
   }
,
{
		   "cell_type": "markdown",
		   "metadata": {},
		   "source": [
			"## Example 3.9_a: calculate_efficiency_of_cylinder_assuming_leakage.sci"
		   ]
		  },
  {
"cell_type": "code",
	   "execution_count": null,
	   "metadata": {
	    "collapsed": true
	   },
	   "outputs": [],
"source": [
"// Aim:Refer Example 3-9 for Problem Description. \n",
"// Given:\n",
"// Time period of operations:\n",
"t=10; //s\n",
"// Stroke of hydraulic cylinder:\n",
"S=10; //ft\n",
"// Load required to compress car:\n",
"F_load=8000; //lb\n",
"// Pump pressure:\n",
"p=1000; //psi\n",
"// Frictional Force:\n",
"F_fric=100; //lb\n",
"// Leakage:\n",
"Q_leak=0.2; //gpm"
   ]
   }
,
{
		   "cell_type": "markdown",
		   "metadata": {},
		   "source": [
			"## Example 3.9_b: SOLUTION_efficiency_of_cylinder_assuming_leakage.sce"
		   ]
		  },
  {
"cell_type": "code",
	   "execution_count": null,
	   "metadata": {
	    "collapsed": true
	   },
	   "outputs": [],
"source": [
"clc;\n",
"pathname=get_absolute_file_path('3_9_soln.sce')\n",
"filename=pathname+filesep()+'3_9_data.sci'\n",
"exec(filename)\n",
"// Solution:\n",
"// The required piston area,\n",
"A=(F_load+F_fric)/p; //in^2\n",
"// The Theoretical pump flow rate,\n",
"Q_theo=((A/144)*S)/t; //ft^3/s\n",
"Q_gpm=(Q_theo*449); //gpm\n",
"// The Actual pump flow rate,\n",
"Q_act=Q_gpm+Q_leak; //gpm\n",
"// rounding off the above answer\n",
"Q_act=fix(Q_act)+(fix(floor((Q_act-fix(Q_act))*10))/10); //gpm\n",
"// The Hydraulic Horsepower delivered to cylinder,\n",
"HHP=(p*Q_gpm)/1714; //HP\n",
"// rounding off the above answer\n",
"HHP=fix(HHP)+(fix(ceil((HHP-fix(HHP))*10))/10); //HP\n",
"// The output horsepower delivered by cylinder to load,\n",
"OHP=(F_load*(S/t))/550; //HP\n",
"// The Efficiency of System,\n",
"eta=floor((OHP/HHP)*100); //%\n",
"// Results:\n",
"printf('\n  Results:  ')   \n",
"printf('\n The Required piston area is %.2f in^2.',A)\n",
"printf('\n The necessary pump flow rate is %.1f gpm.',Q_act)\n",
"printf('\n The Hydraulic Horsepower delivered to cylinder is %.1f HP.',HHP)\n",
"printf('\n The output horsepower delivered by cylinder to load is %.1f HP.',OHP)"
   ]
   }
],
"metadata": {
		  "kernelspec": {
		   "display_name": "Scilab",
		   "language": "scilab",
		   "name": "scilab"
		  },
		  "language_info": {
		   "file_extension": ".sce",
		   "help_links": [
			{
			 "text": "MetaKernel Magics",
			 "url": "https://github.com/calysto/metakernel/blob/master/metakernel/magics/README.md"
			}
		   ],
		   "mimetype": "text/x-octave",
		   "name": "scilab",
		   "version": "0.7.1"
		  }
		 },
		 "nbformat": 4,
		 "nbformat_minor": 0
}
