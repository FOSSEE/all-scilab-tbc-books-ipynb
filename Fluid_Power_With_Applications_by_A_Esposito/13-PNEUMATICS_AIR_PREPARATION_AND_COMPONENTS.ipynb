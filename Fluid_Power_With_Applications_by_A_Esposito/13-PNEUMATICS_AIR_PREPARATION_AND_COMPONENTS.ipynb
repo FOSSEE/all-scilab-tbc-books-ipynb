{
"cells": [
 {
		   "cell_type": "markdown",
	   "metadata": {},
	   "source": [
       "# Chapter 13: PNEUMATICS AIR PREPARATION AND COMPONENTS"
	   ]
	},
{
		   "cell_type": "markdown",
		   "metadata": {},
		   "source": [
			"## Example 13.10_a: determine_air_maximum_flowrate_in_scfm.sci"
		   ]
		  },
  {
"cell_type": "code",
	   "execution_count": null,
	   "metadata": {
	    "collapsed": true
	   },
	   "outputs": [],
"source": [
"// Aim:To determine maximum flow-rate in units of scfm of air\n",
"// Given:\n",
"// upstream temperature:\n",
"T1=80; //deg F\n",
"// upstream pressure:\n",
"p1=80; //psi\n",
"// flow capacity constant:\n",
"Cv=7.4; \n",
"// diameter of orifice:\n",
"d=0.5; //in"
   ]
   }
,
{
		   "cell_type": "markdown",
		   "metadata": {},
		   "source": [
			"## Example 13.10_b: SOLUTION_air_maximum_flowrate_in_scfm.sce"
		   ]
		  },
  {
"cell_type": "code",
	   "execution_count": null,
	   "metadata": {
	    "collapsed": true
	   },
	   "outputs": [],
"source": [
"clc;\n",
"pathname=get_absolute_file_path('13_10_soln.sce')\n",
"filename=pathname+filesep()+'13_10_data.sci'\n",
"exec(filename)\n",
"// Solution:\n",
"// upstream temperature in Rankine,\n",
"T1=T1+460; //deg R\n",
"// absolute upstream pressure,\n",
"p1=p1+14.7; //psia\n",
"// for maximum flow-rate,\n",
"// absolute downstream pressure,\n",
"p2=0.53*p1; //psia\n",
"// volume flow-rate,\n",
"Q=floor(22.7*Cv*sqrt(((p1-p2)*p2)/T1)); //scfm\n",
"// Results:\n",
"printf('\n  Results:  ')   \n",
"printf('\n The maximum flow-rate is %.0f scfm of air.',Q)"
   ]
   }
,
{
		   "cell_type": "markdown",
		   "metadata": {},
		   "source": [
			"## Example 13.11_a: determine_flow_capacity_constant_of_system.sci"
		   ]
		  },
  {
"cell_type": "code",
	   "execution_count": null,
	   "metadata": {
	    "collapsed": true
	   },
	   "outputs": [],
"source": [
"// Aim:To determine size valve (Cv) for pneumatically powered impact tool\n",
"// Given:\n",
"// volume flow-rate of air:\n",
"Q=50; //scfm\n",
"// downstream pressure:\n",
"p2=100; //psi\n",
"// pressure drop across valve:\n",
"del_p=12; //psi\n",
"// upstream air temperature:\n",
"T1=80; //deg F"
   ]
   }
,
{
		   "cell_type": "markdown",
		   "metadata": {},
		   "source": [
			"## Example 13.11_b: SOLUTION_flow_capacity_constant_of_system.sce"
		   ]
		  },
  {
"cell_type": "code",
	   "execution_count": null,
	   "metadata": {
	    "collapsed": true
	   },
	   "outputs": [],
"source": [
"clc;\n",
"pathname=get_absolute_file_path('13_11_soln.sce')\n",
"filename=pathname+filesep()+'13_11_data.sci'\n",
"exec(filename)\n",
"// Solution:\n",
"// upstream temperature in Rankine,\n",
"T1=T1+460; //deg R\n",
"// absolute downstream pressure,\n",
"p2=p2+14.7; //psia\n",
"// flow capacity constant,\n",
"Cv=(Q/22.7)*sqrt(T1/(p2*del_p));\n",
"// Results:\n",
"printf('\n  Results:  ')   \n",
"printf('\n The flow capacity constant is %.2f.',Cv)"
   ]
   }
,
{
		   "cell_type": "markdown",
		   "metadata": {},
		   "source": [
			"## Example 13.12_a: determine_air_consumption_rate_in_scfm.sci"
		   ]
		  },
  {
"cell_type": "code",
	   "execution_count": null,
	   "metadata": {
	    "collapsed": true
	   },
	   "outputs": [],
"source": [
"// Aim:To determine the air-consumption rate in scfm\n",
"// Given:\n",
"// piston diameter of pneumatic cylinder:\n",
"d=1.75; //in\n",
"// stroke length of cylinder:\n",
"L=6; //in\n",
"// number of cycles per minute:\n",
"N=30; //cycles/min\n",
"// atmospheric temperature:\n",
"T1=68; //deg F\n",
"// atmospheric pressure:\n",
"p1=14.7; //psia\n",
"// temperature of air in pneumatic cylinder:\n",
"T2=80; //deg F\n",
"// pneumatic cylinder pressure:\n",
"p2=100; //psig"
   ]
   }
,
{
		   "cell_type": "markdown",
		   "metadata": {},
		   "source": [
			"## Example 13.12_b: SOLUTION_air_consumption_rate_in_scfm.sce"
		   ]
		  },
  {
"cell_type": "code",
	   "execution_count": null,
	   "metadata": {
	    "collapsed": true
	   },
	   "outputs": [],
"source": [
"clc;\n",
"pathname=get_absolute_file_path('13_12_soln.sce')\n",
"filename=pathname+filesep()+'13_12_data.sci'\n",
"exec(filename)\n",
"// Solution:\n",
"// atmospheric temperature in deg Rankine,\n",
"T1=T1+460; //deg R\n",
"// temperature of air in deg Rankine in pneumatic cylinder,\n",
"T2=T2+460; //deg R\n",
"// absolute pneumatic cylinder pressure,\n",
"p2=p2+14.7; //psia\n",
"// the volume per minute of air consumed by cylinder,\n",
"Q2=(%pi/4)*(d/12)^2*(L/12)*N; //ft^3/min\n",
"// air consumption rate,\n",
"Q1=Q2*(p2/p1)*(T1/T2); //scfm\n",
"// Results:\n",
"printf('\n  Results:  ')   \n",
"printf('\n The air consumption rate in scfm is %.2f.',Q1)"
   ]
   }
,
{
		   "cell_type": "markdown",
		   "metadata": {},
		   "source": [
			"## Example 13.13_a: find_reciprocation_rate_of_pneumatic_cylinder.sci"
		   ]
		  },
  {
"cell_type": "code",
	   "execution_count": null,
	   "metadata": {
	    "collapsed": true
	   },
	   "outputs": [],
"source": [
"// Aim:To determine the piston reciprocation rate\n",
"// Given:\n",
"// piston diameter of pneumatic cylinder:\n",
"d=44.5; //mm\n",
"// stroke length of cylinder:\n",
"L=152; //mm\n",
"// atmospheric temperature:\n",
"T1=20; //deg C\n",
"// atmospheric pressure:\n",
"p1=101; //kPa\n",
"// temperature of air in pneumatic cylinder:\n",
"T2=27; //deg C\n",
"// pneumatic cylinder pressure:\n",
"p2=687; //kPa\n",
"// air consumption rate:\n",
"Q1=0.0555; //m^3/min"
   ]
   }
,
{
		   "cell_type": "markdown",
		   "metadata": {},
		   "source": [
			"## Example 13.13_b: SOLUTION_reciprocation_rate_of_pneumatic_cylinder.sce"
		   ]
		  },
  {
"cell_type": "code",
	   "execution_count": null,
	   "metadata": {
	    "collapsed": true
	   },
	   "outputs": [],
"source": [
"clc;\n",
"pathname=get_absolute_file_path('13_13_soln.sce')\n",
"filename=pathname+filesep()+'13_13_data.sci'\n",
"exec(filename)\n",
"// Solution:\n",
"// atmospheric temperature in kelvin,\n",
"T1=T1+273; //K\n",
"// temperature of air in kelvin in pneumatic cylinder,\n",
"T2=T2+273; //K\n",
"// absolute pneumatic cylinder pressure,\n",
"p2=p2+101; //kPa abs\n",
"// flow-rate of air consumed by cylinder,\n",
"Q2=Q1*(p1/p2)*(T2/T1); //m^3/min\n",
"// reciprocation rate of piston,\n",
"N=floor(Q2/((%pi/4)*(d/1000)^2*(L/1000))); //cycles/min\n",
"// Results:\n",
"printf('\n  Results:  ')   \n",
"printf('\n The reciprocation rate of piston is %.0f cycles/min.',N)"
   ]
   }
,
{
		   "cell_type": "markdown",
		   "metadata": {},
		   "source": [
			"## Example 13.1_a: find_final_pressure_at_constant_temperature.sci"
		   ]
		  },
  {
"cell_type": "code",
	   "execution_count": null,
	   "metadata": {
	    "collapsed": true
	   },
	   "outputs": [],
"source": [
"// Aim:To find new pressure in cylinder when its blank end is blocked\n",
"// Given:\n",
"// diameter of pneumatic piston:\n",
"D=2; //in\n",
"// length of retraction of piston:\n",
"l_ret=4; //in\n",
"// blank side pressure:\n",
"p1=20; //psig\n",
"// volume of cylinder for extension stroke:\n",
"V1=20; //in^3"
   ]
   }
,
{
		   "cell_type": "markdown",
		   "metadata": {},
		   "source": [
			"## Example 13.1_b: SOLUTION_final_pressure_at_constant_temperature.sce"
		   ]
		  },
  {
"cell_type": "code",
	   "execution_count": null,
	   "metadata": {
	    "collapsed": true
	   },
	   "outputs": [],
"source": [
"clc;\n",
"pathname=get_absolute_file_path('13_1_soln.sce')\n",
"filename=pathname+filesep()+'13_1_data.sci'\n",
"exec(filename)\n",
"// Solution:\n",
"// volume of cylinder during retraction stroke,\n",
"V2=(V1-((%pi * D^2 * l_ret)/4)); //in^3\n",
"// absolute pressure on blank side,\n",
"p1=p1+14.7; //psia\n",
"// new pressure when blank side port is blocked,\n",
"// Boyle's Law,\n",
"p2=(p1*V1)/V2; //psia\n",
"p2=p2-14.7; //psig\n",
"// Results:\n",
"printf('\n  Results:  ')   \n",
"printf('\n The new pressure when blank side port is blocked is %.1f psig.',p2)"
   ]
   }
,
{
		   "cell_type": "markdown",
		   "metadata": {},
		   "source": [
			"## Example 13.2_a: find_final_volume_at_constant_pressure.sci"
		   ]
		  },
  {
"cell_type": "code",
	   "execution_count": null,
	   "metadata": {
	    "collapsed": true
	   },
	   "outputs": [],
"source": [
"// Aim:To find new volume of air at the blank end of cylinder\n",
"// Given:\n",
"// initial volume:\n",
"V1=20; //in^3\n",
"// constant load:\n",
"p=20; //psi\n",
"// initial temperature of air:\n",
"T1=60; //deg F\n",
"// final temperature of air:\n",
"T2=120; //degF"
   ]
   }
,
{
		   "cell_type": "markdown",
		   "metadata": {},
		   "source": [
			"## Example 13.2_b: SOLUTION_final_volume_at_constant_pressure.sce"
		   ]
		  },
  {
"cell_type": "code",
	   "execution_count": null,
	   "metadata": {
	    "collapsed": true
	   },
	   "outputs": [],
"source": [
"clc;\n",
"pathname=get_absolute_file_path('13_2_soln.sce')\n",
"filename=pathname+filesep()+'13_2_data.sci'\n",
"exec(filename)\n",
"// Solution:\n",
"// initial temperature of air in Rankine,\n",
"T1=T1+460; //deg R\n",
"// final temperature of air in Rankine,\n",
"T2=T2+460; //deg R\n",
"// final volume of air,\n",
"// Charle's Law,\n",
"V2=(T2/T1)*V1; //in^3\n",
"// Results:\n",
"printf('\n  Results:  ')   \n",
"printf('\n The final volume of air is %.1f in^3.',V2)"
   ]
   }
,
{
		   "cell_type": "markdown",
		   "metadata": {},
		   "source": [
			"## Example 13.3_a: find_final_pressure_at_constant_volume.sci"
		   ]
		  },
  {
"cell_type": "code",
	   "execution_count": null,
	   "metadata": {
	    "collapsed": true
	   },
	   "outputs": [],
"source": [
"// Aim:To find new pressure in cylinder when it is at locked position\n",
"// Given:\n",
"// initial pressure:\n",
"p1=20; //psig\n",
"// initial temperature of air:\n",
"T1=60; //deg F\n",
"// final temperature of air:\n",
"T2=160; //degF"
   ]
   }
,
{
		   "cell_type": "markdown",
		   "metadata": {},
		   "source": [
			"## Example 13.3_b: SOLUTION_final_pressure_at_constant_volume.sce"
		   ]
		  },
  {
"cell_type": "code",
	   "execution_count": null,
	   "metadata": {
	    "collapsed": true
	   },
	   "outputs": [],
"source": [
"clc;\n",
"pathname=get_absolute_file_path('13_3_soln.sce')\n",
"filename=pathname+filesep()+'13_3_data.sci'\n",
"exec(filename)\n",
"// Solution:\n",
"// initial temperature of air in Rankine,\n",
"T1=T1+460; //deg R\n",
"// final temperature of air in Rankine,\n",
"T2=T2+460; //deg R\n",
"// absolute initial pressure,\n",
"p1=p1+14.7; //psia\n",
"// final pressure of air,\n",
"// Gay-Lussac's Law,\n",
"p2=(T2/T1)*p1; //psia\n",
"p2=p2-14.7; //psig\n",
"// Results:\n",
"printf('\n  Results:  ')   \n",
"printf('\n The final pressure of air at constant volume is %.1f psig.',p2)"
   ]
   }
,
{
		   "cell_type": "markdown",
		   "metadata": {},
		   "source": [
			"## Example 13.4_a: find_final_pressure_general_gas_law.sci"
		   ]
		  },
  {
"cell_type": "code",
	   "execution_count": null,
	   "metadata": {
	    "collapsed": true
	   },
	   "outputs": [],
"source": [
"// Aim:To find final pressure in the cylinder\n",
"// Given:\n",
"// initial gas pressure:\n",
"p1=1000; //psig\n",
"// initial volume of cylinder:\n",
"V1=2000; //in^3\n",
"// initial temperature of cylinder:\n",
"T1=100; //deg F\n",
"// final volume of cylinder:\n",
"V2=1500; //in^3\n",
"// final temperature of cylinder:\n",
"T2=200; //deg F"
   ]
   }
,
{
		   "cell_type": "markdown",
		   "metadata": {},
		   "source": [
			"## Example 13.4_b: SOLUTION_final_pressure_general_gas_law.sce"
		   ]
		  },
  {
"cell_type": "code",
	   "execution_count": null,
	   "metadata": {
	    "collapsed": true
	   },
	   "outputs": [],
"source": [
"clc;\n",
"pathname=get_absolute_file_path('13_4_soln.sce')\n",
"filename=pathname+filesep()+'13_4_data.sci'\n",
"exec(filename)\n",
"// Solution:\n",
"// final pressure in the cylinder,\n",
"// General Gas Law, \n",
"p2=((p1+14.7)*V1*(T2+460))/(V2*(T1+460))-14.7; //psig\n",
"// Results:\n",
"printf('\n  Results:  ')   \n",
"printf('\n The final pressure in the cylinder is %.1f psig.',p2)"
   ]
   }
,
{
		   "cell_type": "markdown",
		   "metadata": {},
		   "source": [
			"## Example 13.5_a: find_final_pressure_general_law_SI.sci"
		   ]
		  },
  {
"cell_type": "code",
	   "execution_count": null,
	   "metadata": {
	    "collapsed": true
	   },
	   "outputs": [],
"source": [
"// Aim:To find final pressure in the cylinder in SI units\n",
"// Given:\n",
"// initial gas pressure:\n",
"p1=70; //bar\n",
"// initial volume of cylinder:\n",
"V1=12900; //cm^3\n",
"// initial temperature of cylinder:\n",
"T1=37.8; //deg C\n",
"// final volume of cylinder:\n",
"V2=9680; //cm^3\n",
"// final temperature of cylinder:\n",
"T2=93.3; //deg C"
   ]
   }
,
{
		   "cell_type": "markdown",
		   "metadata": {},
		   "source": [
			"## Example 13.5_b: SOLUTION_final_pressure_general_law_SI.sce"
		   ]
		  },
  {
"cell_type": "code",
	   "execution_count": null,
	   "metadata": {
	    "collapsed": true
	   },
	   "outputs": [],
"source": [
"clc;\n",
"pathname=get_absolute_file_path('13_5_soln.sce')\n",
"filename=pathname+filesep()+'13_5_data.sci'\n",
"exec(filename)\n",
"// Solution:\n",
"// final pressure in the cylinder in absolute units,\n",
"// General Gas Law, \n",
"p2=(((p1+1)*10^5*V1*(T2+273))/(V2*(T1+273)))/10^5; //bars\n",
"// Results:\n",
"printf('\n  Results:  ')   \n",
"printf('\n The final pressure in the cylinder is %.1f bars absolute.',p2)"
   ]
   }
,
{
		   "cell_type": "markdown",
		   "metadata": {},
		   "source": [
			"## Example 13.6_a: how_much_air_compressor_must_provide.sci"
		   ]
		  },
  {
"cell_type": "code",
	   "execution_count": null,
	   "metadata": {
	    "collapsed": true
	   },
	   "outputs": [],
"source": [
"// Aim:To find how many cfm of free air compressor must be provided\n",
"// Given:\n",
"// flow-rate of air from receiver:\n",
"Q2=30; //cfm\n",
"// temperature of air from receiver:\n",
"T2=90; //deg F\n",
"// pressure of air coming from receiver:\n",
"p2=125; //psig\n",
"// atmospheric temperature:\n",
"T1=70; //deg F\n",
"// atmospheric pressure:\n",
"p1=14.7; //psig "
   ]
   }
,
{
		   "cell_type": "markdown",
		   "metadata": {},
		   "source": [
			"## Example 13.6_b: SOLUTION_air_compressor_must_provide.sce"
		   ]
		  },
  {
"cell_type": "code",
	   "execution_count": null,
	   "metadata": {
	    "collapsed": true
	   },
	   "outputs": [],
"source": [
"clc;\n",
"pathname=get_absolute_file_path('13_6_soln.sce')\n",
"filename=pathname+filesep()+'13_6_data.sci'\n",
"exec(filename)\n",
"// Solution:\n",
"// cfm of free air compressor must be provided,\n",
"Q1=Q2*((p2+14.7)/14.7)*((T1+460)/(T2+460)); //cfm\n",
"// Results:\n",
"printf('\n  Results:  ')   \n",
"printf('\n The cfm of free air compressor must be provided is %.0f cfm of free air.',Q1)"
   ]
   }
,
{
		   "cell_type": "markdown",
		   "metadata": {},
		   "source": [
			"## Example 13.7_a: find_receiver_size_for_pneumatic_system.sci"
		   ]
		  },
  {
"cell_type": "code",
	   "execution_count": null,
	   "metadata": {
	    "collapsed": true
	   },
	   "outputs": [],
"source": [
"// Aim:Refer Example 13-7 for Problem Description\n",
"// Given:\n",
"// maximum pressure level in receiver:\n",
"p_max=100; //psi\n",
"// minimum pressure level in receiver:\n",
"p_min=80; //psi\n",
"// time that receiver can supply required amount of air:\n",
"t=6; //min\n",
"// consumption rate of pneumatic system:\n",
"Qr=20; //scfm\n",
"// output flow-rate of compressor:\n",
"Qc=5; //scfm"
   ]
   }
,
{
		   "cell_type": "markdown",
		   "metadata": {},
		   "source": [
			"## Example 13.7_b: SOLUTION_receiver_size_for_pneumatic_system.sce"
		   ]
		  },
  {
"cell_type": "code",
	   "execution_count": null,
	   "metadata": {
	    "collapsed": true
	   },
	   "outputs": [],
"source": [
"clc;\n",
"pathname=get_absolute_file_path('13_7_soln.sce')\n",
"filename=pathname+filesep()+'13_7_data.sci'\n",
"exec(filename)\n",
"// Solution:\n",
"// required size of a receiver before compressor resumes operation,\n",
"Vr=((14.7*t*(Qr-0))/(p_max-p_min))*7.48; //gal\n",
"// required size of a receiver when compressor is running,\n",
"Vr_run=((14.7*t*(Qr-Qc))/(p_max-p_min))*7.48; //gal\n",
"// Results:\n",
"printf('\n  Results:  ')   \n",
"printf('\n The required size of a receiver before compressor resumes operation is %.0f gal.',Vr)\n",
"printf('\n The required size of a receiver when compressor is running %.0f gal.',Vr_run)"
   ]
   }
,
{
		   "cell_type": "markdown",
		   "metadata": {},
		   "source": [
			"## Example 13.8_a: determine_actual_power_required_for_compressor.sci"
		   ]
		  },
  {
"cell_type": "code",
	   "execution_count": null,
	   "metadata": {
	    "collapsed": true
	   },
	   "outputs": [],
"source": [
"// Aim:To determine actual power required to drive a compressor\n",
"// Given:\n",
"// input flow-rate of air through compressor:\n",
"Q=100; //scfm\n",
"// inlet atmospheric pressure:\n",
"p_in=14.7; //psig\n",
"// outlet pressure:\n",
"p_out=114.7; //psig\n",
"// overall efficiency of compressor:\n",
"eff=75; //%"
   ]
   }
,
{
		   "cell_type": "markdown",
		   "metadata": {},
		   "source": [
			"## Example 13.8_b: SOLUTION_actual_power_required_for_compressor.sce"
		   ]
		  },
  {
"cell_type": "code",
	   "execution_count": null,
	   "metadata": {
	    "collapsed": true
	   },
	   "outputs": [],
"source": [
"clc;\n",
"pathname=get_absolute_file_path('13_8_soln.sce')\n",
"filename=pathname+filesep()+'13_8_data.sci'\n",
"exec(filename)\n",
"// Solution:\n",
"// theoretical horsepower,\n",
"HP_theo=((p_in*Q)/65.4)*((p_out/p_in)^0.286-1); //HP\n",
"// actual horsepower,\n",
"HP_act=HP_theo/(eff/100); //HP\n",
"// Results:\n",
"printf('\n  Results:  ')   \n",
"printf('\n The actual power required to drive a compressor is %.0f HP.',HP_act)"
   ]
   }
,
{
		   "cell_type": "markdown",
		   "metadata": {},
		   "source": [
			"## Example 13.9_a: find_moisture_received_by_pneumatic_system.sci"
		   ]
		  },
  {
"cell_type": "code",
	   "execution_count": null,
	   "metadata": {
	    "collapsed": true
	   },
	   "outputs": [],
"source": [
"// Aim:Refer Example 13-9 for Problem Description\n",
"// Given:\n",
"// output flow-rate of compressor:\n",
"Qc=100; //scfm\n",
"// pressure at compressor outlet:\n",
"p_out=100; //psig\n",
"// temperature of saturated air at compressor inlet:\n",
"T_in=80; //deg F\n",
"// operation time of compressor per day:\n",
"t=8; //hr/day"
   ]
   }
,
{
		   "cell_type": "markdown",
		   "metadata": {},
		   "source": [
			"## Example 13.9_b: SOLUTION_moisture_received_by_pneumatic_system.sce"
		   ]
		  },
  {
"cell_type": "code",
	   "execution_count": null,
	   "metadata": {
	    "collapsed": true
	   },
	   "outputs": [],
"source": [
"clc;\n",
"pathname=get_absolute_file_path('13_9_soln.sce')\n",
"filename=pathname+filesep()+'13_9_data.sci'\n",
"exec(filename)\n",
"// Solution:\n",
"// from fig 13-29,\n",
"// entering moistue content at 80 deg F,\n",
"moist_in=1.58/1000; //lb/ft^3\n",
"// moisture rate which enters the compressor,\n",
"moist_rate=moist_in*Qc; //lb/min\n",
"// number of gallons/day received by pneumatic system,\n",
"gal_per_day=(moist_rate*60*t)/8.34; //gal/day\n",
"// moisture received by pneumatic system if aftercooler is installed,\n",
"// from fig 13-29,\n",
"moist_after=(1-((1.58-0.2)/1.58))*gal_per_day; //gal/day\n",
"// moisture received by pneumatic system if air dryer is installed,\n",
"// from fig 13-29,\n",
"moist_air_dryer=(1-((1.58-0.05)/1.58))*gal_per_day; //gal/day\n",
"// Results:\n",
"printf('\n  Results:  ')   \n",
"printf('\n The number of gallons/day received by pneumatic system is %.2f gal/day.',gal_per_day)\n",
"printf('\n The moisture received by pneumatic system if aftercooler is installed is %.2f gal/day.',moist_after)\n",
"printf('\n The moisture received by pneumatic system if air dryer is installed is %.2f gal/day.',moist_air_dryer)"
   ]
   }
],
"metadata": {
		  "kernelspec": {
		   "display_name": "Scilab",
		   "language": "scilab",
		   "name": "scilab"
		  },
		  "language_info": {
		   "file_extension": ".sce",
		   "help_links": [
			{
			 "text": "MetaKernel Magics",
			 "url": "https://github.com/calysto/metakernel/blob/master/metakernel/magics/README.md"
			}
		   ],
		   "mimetype": "text/x-octave",
		   "name": "scilab",
		   "version": "0.7.1"
		  }
		 },
		 "nbformat": 4,
		 "nbformat_minor": 0
}
