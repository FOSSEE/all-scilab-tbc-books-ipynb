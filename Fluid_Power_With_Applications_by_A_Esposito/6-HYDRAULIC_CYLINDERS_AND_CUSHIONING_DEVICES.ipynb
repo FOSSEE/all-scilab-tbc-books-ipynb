{
"cells": [
 {
		   "cell_type": "markdown",
	   "metadata": {},
	   "source": [
       "# Chapter 6: HYDRAULIC CYLINDERS AND CUSHIONING DEVICES"
	   ]
	},
{
		   "cell_type": "markdown",
		   "metadata": {},
		   "source": [
			"## Example 6.1_a: find_pressure_velocity_and_horsepower.sci"
		   ]
		  },
  {
"cell_type": "code",
	   "execution_count": null,
	   "metadata": {
	    "collapsed": true
	   },
	   "outputs": [],
"source": [
"// Aim:Refer Example 6-1 for Problem Description \n",
"// Given:\n",
"// Flow rate of pump:\n",
"Q_in=20; //gpm\n",
"// Bore diameter of Cylinder:\n",
"D=2; //in\n",
"// Load during extending and retracting:\n",
"F_ext=1000; //lb\n",
"F_ret=1000; //lb\n",
"// Rod diameter of cylinder:\n",
"d=1; //in"
   ]
   }
,
{
		   "cell_type": "markdown",
		   "metadata": {},
		   "source": [
			"## Example 6.1_b: SOLUTION_pressure_velocity_and_horsepower.sce"
		   ]
		  },
  {
"cell_type": "code",
	   "execution_count": null,
	   "metadata": {
	    "collapsed": true
	   },
	   "outputs": [],
"source": [
"clc;\n",
"pathname=get_absolute_file_path('6_1_soln.sce')\n",
"filename=pathname+filesep()+'6_1_data.sci'\n",
"exec(filename)\n",
"// Solution:\n",
"// Area of blank end of piston,\n",
"Ap=(%pi/4)*(D^2); //in^2\n",
"// Area of rod end of piston,\n",
"Ar=(%pi/4)*(d^2); //in^2\n",
"// hydraulic pressure during the extending stroke,\n",
"p_ext=F_ext/Ap; //psi\n",
"// piston velocity during the extending stroke,\n",
"v_ext=(Q_in/449)/(Ap/144); //ft/s\n",
"// rounding off the above answer\n",
"v_ext=fix(v_ext)+(fix(ceil((v_ext-fix(v_ext))*100))/100); //ft/s\n",
"// cylinder horsepower during the extending stroke,\n",
"HP_ext=(v_ext*F_ext)/550; //HP\n",
"// rounding off the above answer\n",
"HP_ext=fix(HP_ext)+(fix(floor((HP_ext-fix(HP_ext))*100))/100); //HP\n",
"// hydraulic pressure during the retraction stroke,\n",
"p_ret=ceil(F_ret/(Ap-Ar)); //psi\n",
"// piston velocity during the retraction stroke,\n",
"v_ret=(Q_in/449)/((Ap-Ar)/144); //ft/s;\n",
"// rounding off the above answer\n",
"v_ret=fix(v_ret)+(fix(ceil((v_ret-fix(v_ret))*100))/100); //ft/s\n",
"// cylinder horsepower during the retraction stroke,\n",
"HP_ret=(v_ret*F_ret)/550; //HP\n",
"// Results:\n",
"printf('\n  Results:  ')   \n",
"printf('\n The hydraulic pressure during the extending stroke is %.0f psi.',p_ext)\n",
"printf('\n The piston velocity during the extending stroke is %.2f ft/s.',v_ext)\n",
"printf('\n The cylinder horsepower during the extending stroke is %.2f HP.',HP_ext)\n",
"printf('\n The hydraulic pressure during the retraction stroke is %.0f psi.',p_ret)\n",
"printf('\n The piston velocity during the retraction stroke is %.2f ft/s.',v_ret)\n",
"printf('\n The cylinder horsepower during the retraction stroke is %.2f HP.',HP_ret)"
   ]
   }
,
{
		   "cell_type": "markdown",
		   "metadata": {},
		   "source": [
			"## Example 6.2_a: find_cylinder_force_to_move_6000lb.sci"
		   ]
		  },
  {
"cell_type": "code",
	   "execution_count": null,
	   "metadata": {
	    "collapsed": true
	   },
	   "outputs": [],
"source": [
"// Aim:Refer Example 6-2 for Problem Description \n",
"// Given:\n",
"// Weight of Body:\n",
"W=6000; //lb\n",
"// coefficient of friction between weight and horizontal support:\n",
"CF=0.14; "
   ]
   }
,
{
		   "cell_type": "markdown",
		   "metadata": {},
		   "source": [
			"## Example 6.2_b: SOLUTION_cylinder_force_to_move_6000lb.sce"
		   ]
		  },
  {
"cell_type": "code",
	   "execution_count": null,
	   "metadata": {
	    "collapsed": true
	   },
	   "outputs": [],
"source": [
"clc;\n",
"pathname=get_absolute_file_path('6_2_soln.sce')\n",
"filename=pathname+filesep()+'6_2_data.sci'\n",
"exec(filename)\n",
"// Solution:\n",
"// Cylinder Force,\n",
"F=CF*W; //lb\n",
"// Results:\n",
"printf('\n  Results:  ')   \n",
"printf('\n The Cylinder Force at constant velocity is %.0f lb.',F)"
   ]
   }
,
{
		   "cell_type": "markdown",
		   "metadata": {},
		   "source": [
			"## Example 6.3_a: find_force_to_move_inclined_weight.sci"
		   ]
		  },
  {
"cell_type": "code",
	   "execution_count": null,
	   "metadata": {
	    "collapsed": true
	   },
	   "outputs": [],
"source": [
"// Aim:Refer Example 6-3 for Problem Description \n",
"// Given:\n",
"// Weight of Body:\n",
"W=6000; //lb\n",
"// Inclination of Weight:\n",
"theta=30; //deg"
   ]
   }
,
{
		   "cell_type": "markdown",
		   "metadata": {},
		   "source": [
			"## Example 6.3_b: SOLUTION_force_to_move_inclined_weight.sce"
		   ]
		  },
  {
"cell_type": "code",
	   "execution_count": null,
	   "metadata": {
	    "collapsed": true
	   },
	   "outputs": [],
"source": [
"clc;\n",
"pathname=get_absolute_file_path('6_3_soln.sce')\n",
"filename=pathname+filesep()+'6_3_data.sci'\n",
"exec(filename)\n",
"// Solution:\n",
"// Inclination of Weight,\n",
"theta=(theta*%pi)/180; //rad\n",
"// Cylinder Force,\n",
"F=W*sin(theta); //lb\n",
"// Results:\n",
"printf('\n  Results:  ')   \n",
"printf('\n The Cylinder Force at constant velocity is %.0f lb.',F)"
   ]
   }
,
{
		   "cell_type": "markdown",
		   "metadata": {},
		   "source": [
			"## Example 6.4_a: find_cylinder_force_to_accelerate_weight.sci"
		   ]
		  },
  {
"cell_type": "code",
	   "execution_count": null,
	   "metadata": {
	    "collapsed": true
	   },
	   "outputs": [],
"source": [
"// Aim:Refer Example 6-4 for Problem Description \n",
"// Given:\n",
"// Weight of Body:\n",
"W=6000; //lb\n",
"// initial velocity:\n",
"u=0; //ft/s\n",
"// final velocity:\n",
"v=8; //ft/s\n",
"// Time taken:\n",
"t=0.5; //s"
   ]
   }
,
{
		   "cell_type": "markdown",
		   "metadata": {},
		   "source": [
			"## Example 6.4_b: SOLUTION_cylinder_force_to_accelerate_weight.sce"
		   ]
		  },
  {
"cell_type": "code",
	   "execution_count": null,
	   "metadata": {
	    "collapsed": true
	   },
	   "outputs": [],
"source": [
"clc;\n",
"pathname=get_absolute_file_path('6_4_soln.sce')\n",
"filename=pathname+filesep()+'6_4_data.sci'\n",
"exec(filename)\n",
"// Solution:\n",
"// For constant velocity,Cylinder Force,\n",
"F=W; //lb\n",
"// Rate of change of velocity,\n",
"a=(v-u)/t; //ft/s^2\n",
"// Force required to accelerate the weight,\n",
"F_acc=(F/32.2)*a; //lb\n",
"// Therefore, Cylinder Force,\n",
"F_cyl=(F+F_acc); //lb\n",
"// Results:\n",
"printf('\n  Results:  ')   \n",
"printf('\n The Cylinder Force at constant velocity is %.0f lb.',F)\n",
"printf('\n The Cylinder Force required to accelerate the Body is %.0f lb.',F_cyl)\n",
"printf('\n The answer in the program is different than that in textbook. It may be due to no.s of significant digit in data and calculation')"
   ]
   }
,
{
		   "cell_type": "markdown",
		   "metadata": {},
		   "source": [
			"## Example 6.5_a: find_cylinder_force_using_lever_system.sci"
		   ]
		  },
  {
"cell_type": "code",
	   "execution_count": null,
	   "metadata": {
	    "collapsed": true
	   },
	   "outputs": [],
"source": [
"// Aim:Refer Example 6-5 for Problem Description\n",
"// Given:\n",
"L1=10; //in\n",
"L2=10; //in\n",
"// Inclination of cylinder axis with vertical axis:\n",
"phi=0; //deg\n",
"// cylinder load:\n",
"F_load=1000; //lb"
   ]
   }
,
{
		   "cell_type": "markdown",
		   "metadata": {},
		   "source": [
			"## Example 6.5_b: SOLUTION_cylinder_force_using_lever_system.sce"
		   ]
		  },
  {
"cell_type": "code",
	   "execution_count": null,
	   "metadata": {
	    "collapsed": true
	   },
	   "outputs": [],
"source": [
"clc;\n",
"pathname=get_absolute_file_path('6_5_soln.sce')\n",
"filename=pathname+filesep()+'6_5_data.sci'\n",
"exec(filename)\n",
"// Solution:\n",
"// Inclination of cylinder axis with vertical axis,\n",
"phi=(phi*%pi)/180; //rad\n",
"// cylinder force required to overcome load using First Class Lever Sytem,\n",
"F_cyl_1=(L2*F_load)/(L1*cos(phi)); //lb\n",
"// cylinder force required to overcome load using Second Class Lever Sytem,\n",
"F_cyl_2=(L2*F_load)/((L1+L2)*cos(phi)); //lb\n",
"// cylinder force required to overcome load using Third Class Lever Sytem,\n",
"F_cyl_3=((L1+L2)*F_load)/(L2*cos(phi)); //lb\n",
"// Results:\n",
"printf('\n  Results:  ')   \n",
"printf('\n The Cylinder Force using First Class lever System is %.0f lb.',F_cyl_1)\n",
"printf('\n The Cylinder Force using Second Class lever System is %.0f lb.',F_cyl_2)\n",
"printf('\n The Cylinder Force using Third Class lever System is %.0f lb.',F_cyl_3)"
   ]
   }
,
{
		   "cell_type": "markdown",
		   "metadata": {},
		   "source": [
			"## Example 6.6_a: find_maximum_pressure_developed_by_cushion.sci"
		   ]
		  },
  {
"cell_type": "code",
	   "execution_count": null,
	   "metadata": {
	    "collapsed": true
	   },
	   "outputs": [],
"source": [
"// Aim:Refer Example 6-6 for Problem Description \n",
"// Given:\n",
"// Flow rate of pump:\n",
"Q_pump=18.2; //gpm\n",
"// Diameter of blank end of piston:\n",
"D=3; //in\n",
"// Diameter of cushion plunger:\n",
"D_cush=1; //in\n",
"// Stroke of cushion plunger:\n",
"L_cush=0.75; //in\n",
"// Distance Piston decelerates at the end of extending stroke:\n",
"L=0.75; //in\n",
"// Weight of Body:\n",
"W=1500; //lb\n",
"// coefficient of friction:\n",
"CF=0.12;\n",
"// Pressure relief valve settings:\n",
"p_relf=750; //psi\n",
"// maximum pressure at the Blank end:\n",
"p1=750; //psi"
   ]
   }
,
{
		   "cell_type": "markdown",
		   "metadata": {},
		   "source": [
			"## Example 6.6_b: SOLUTION_maximum_pressure_developed_by_cushio.sce"
		   ]
		  },
  {
"cell_type": "code",
	   "execution_count": null,
	   "metadata": {
	    "collapsed": true
	   },
	   "outputs": [],
"source": [
"clc;\n",
"pathname=get_absolute_file_path('6_6_soln.sce')\n",
"filename=pathname+filesep()+'6_6_data.sci'\n",
"exec(filename)\n",
"// Solution:\n",
"// Area of blank end of piston,\n",
"A_piston=(%pi/4)*(D^2); //in^2\n",
"// piston velocity prior to deceleration,\n",
"v=(Q_pump/449)/(A_piston/144); //ft/s\n",
"// deceleration of piston at the end of extending stroke,\n",
"a=(v^2)/(2*(L/12)); //ft/s^2\n",
"// Area of cushion plunger,\n",
"A_cush=(%pi/4)*(D_cush^2); //in^2\n",
"// maximum pressure developed by the cushion,\n",
"p2=(((W*a)/32.2)+(p1*A_piston)-(CF*W))/(A_piston-A_cush); //psi\n",
"// Results:\n",
"printf('\n  Results:  ')   \n",
"printf('\n The maximum pressure developed by the cushion is %.0f psi.',p2)"
   ]
   }
],
"metadata": {
		  "kernelspec": {
		   "display_name": "Scilab",
		   "language": "scilab",
		   "name": "scilab"
		  },
		  "language_info": {
		   "file_extension": ".sce",
		   "help_links": [
			{
			 "text": "MetaKernel Magics",
			 "url": "https://github.com/calysto/metakernel/blob/master/metakernel/magics/README.md"
			}
		   ],
		   "mimetype": "text/x-octave",
		   "name": "scilab",
		   "version": "0.7.1"
		  }
		 },
		 "nbformat": 4,
		 "nbformat_minor": 0
}
