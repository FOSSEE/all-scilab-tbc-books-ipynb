{
"cells": [
 {
		   "cell_type": "markdown",
	   "metadata": {},
	   "source": [
       "# Chapter 9: HYDRAULIC CIRCUIT DESIGN AND ANALYSIS"
	   ]
	},
{
		   "cell_type": "markdown",
		   "metadata": {},
		   "source": [
			"## Example 9.1_a: determine_speed_power_for_regenerative_circuit.sci"
		   ]
		  },
  {
"cell_type": "code",
	   "execution_count": null,
	   "metadata": {
	    "collapsed": true
	   },
	   "outputs": [],
"source": [
"// Aim:Refer Example 9-1 for Problem Description \n",
"// Given:\n",
"// cracking pressure of relief valve:\n",
"p=1000; //psi\n",
"// piston area:\n",
"Ap=25; //in^2\n",
"// rod area:\n",
"Ar=7; //in^2\n",
"// pump flow:\n",
"Qp=20; //gpm"
   ]
   }
,
{
		   "cell_type": "markdown",
		   "metadata": {},
		   "source": [
			"## Example 9.1_b: SOLUTION_speed_power_for_regenerative_circuit.sce"
		   ]
		  },
  {
"cell_type": "code",
	   "execution_count": null,
	   "metadata": {
	    "collapsed": true
	   },
	   "outputs": [],
"source": [
"clc;\n",
"pathname=get_absolute_file_path('9_1_soln.sce')\n",
"filename=pathname+filesep()+'9_1_data.sci'\n",
"exec(filename)\n",
"// Solution:\n",
"// cylinder speed during extending stroke,\n",
"vp_ext=(Qp*231)/(Ar*60); //in/s\n",
"// load carrying capacity during extending stroke,\n",
"Fload_ext=p*Ar; //lb\n",
"// power delivered to load during extending stroke,\n",
"Power_ext=(Fload_ext*vp_ext)/(550*12); //HP\n",
"// cylinder speed during retracting stroke,\n",
"vp_ret=(Qp*231)/((Ap-Ar)*60); //in/s\n",
"// load carrying capacity during retracting stroke,\n",
"Fload_ret=p*(Ap-Ar); //lb\n",
"// power delivered to load during retracting stroke,\n",
"Power_ret=(Fload_ext*vp_ext)/(550*12); //HP\n",
"// Results:\n",
"printf('\n  Results:  ')   \n",
"printf('\n The cylinder speed during extending stroke is %.1f in/s.',vp_ext)\n",
"printf('\n The load carrying capacity during extending stroke is %.0f lb.',Fload_ext)\n",
"printf('\n The power delivered to load during extending stroke is %.1f HP.',Power_ext)\n",
"printf('\n The cylinder speed during retracting stroke is %.2f in/s.',vp_ret)\n",
"printf('\n The load carrying capacity during retracting stroke is %.0f lb.',Fload_ret)\n",
"printf('\n The power delivered to load during retracting stroke is %.1f HP.',Power_ret)"
   ]
   }
,
{
		   "cell_type": "markdown",
		   "metadata": {},
		   "source": [
			"## Example 9.2_a: find_unloading_relief_valve_pressure_settings.sci"
		   ]
		  },
  {
"cell_type": "code",
	   "execution_count": null,
	   "metadata": {
	    "collapsed": true
	   },
	   "outputs": [],
"source": [
"// Aim:Refer Example 9-2 for Problem Description \n",
"// Given:\n",
"// force required for sheet metal punching operations:\n",
"F_load=2000; //lb\n",
"// piston diameter:\n",
"Dp=1.5; //in\n",
"// rod diameter:\n",
"Dr=0.5; //in\n",
"// frictional pressure loss in line from high-flow pump to blank end during rapid extension:\n",
"p_loss1=100; //psi\n",
"// frictional pressure loss in return line from rod end to oil tank during rapid extension:\n",
"p_loss2=50; //psi "
   ]
   }
,
{
		   "cell_type": "markdown",
		   "metadata": {},
		   "source": [
			"## Example 9.2_b: SOLUTION_unloading_relief_valve_pressure_settings.sce"
		   ]
		  },
  {
"cell_type": "code",
	   "execution_count": null,
	   "metadata": {
	    "collapsed": true
	   },
	   "outputs": [],
"source": [
"clc;\n",
"pathname=get_absolute_file_path('9_2_soln.sce')\n",
"filename=pathname+filesep()+'9_2_data.sci'\n",
"exec(filename)\n",
"// Solution:\n",
"// Unloading Valve:\n",
"// load due to back pressure force on cylinder,\n",
"F_back_pressure=(p_loss2*%pi*((Dp^2)-(Dr^2)))/4; //psi\n",
"// back pressure force on cylinder,\n",
"P_cyl_blank_end=F_back_pressure/((%pi*(Dp^2))/4); //psi\n",
"// pressure setting of the unloading valve,\n",
"p_unload=1.5*(P_cyl_blank_end+p_loss1); //psi\n",
"// Pressure Relief Valve:\n",
"// pressure to overcome punching operations,\n",
"P_punching=F_load/((%pi*(Dp^2))/4); //psi\n",
"// pressure setting of the pressure relief valve,\n",
"p_prv=1.5*P_punching; //psi\n",
"// Results:\n",
"printf('\n  Results:  ')   \n",
"printf('\n The pressure setting of unloading valve is %.0f psi.',p_unload)\n",
"printf('\n The pressure setting of pressure relief valve is %.0f psi.',p_prv)"
   ]
   }
,
{
		   "cell_type": "markdown",
		   "metadata": {},
		   "source": [
			"## Example 9.3_a: find_spring_constant_of_PRV_valve.sci"
		   ]
		  },
  {
"cell_type": "code",
	   "execution_count": null,
	   "metadata": {
	    "collapsed": true
	   },
	   "outputs": [],
"source": [
"// Aim:Refer Example 9-3 for Problem Description \n",
"// Given:\n",
"// poppet area:\n",
"A_poppet=0.75; //in^2\n",
"// hydraulic pressure:\n",
"p_hydraulic=1698; //psi\n",
"// full poppet stroke:\n",
"l_stroke=0.10; //in\n",
"// cracking pressure:\n",
"p_cracking=1.1*1132; //psi"
   ]
   }
,
{
		   "cell_type": "markdown",
		   "metadata": {},
		   "source": [
			"## Example 9.3_b: SOLUTION_spring_constant_of_PRV_valve.sce"
		   ]
		  },
  {
"cell_type": "code",
	   "execution_count": null,
	   "metadata": {
	    "collapsed": true
	   },
	   "outputs": [],
"source": [
"clc;\n",
"pathname=get_absolute_file_path('9_3_soln.sce')\n",
"filename=pathname+filesep()+'9_3_data.sci'\n",
"exec(filename)\n",
"// Solution:\n",
"// spring force at full pump flow pressure,\n",
"F_spr_full=round(p_hydraulic*A_poppet); //lb\n",
"// spring force at cracking pressure,\n",
"F_spr_crack=round(p_cracking*A_poppet); //lb\n",
"// spring constant of compression spring,\n",
"k=(F_spr_full-F_spr_crack)/l_stroke; //lb/in\n",
"// initial compression of spring,\n",
"l=F_spr_crack/k; //in\n",
"// Results:\n",
"printf('\n  Results:  ')   \n",
"printf('\n The spring constant of compression spring is %.0f lb/in.',k)\n",
"printf('\n The initial compression of spring is %.3f in.',l)"
   ]
   }
,
{
		   "cell_type": "markdown",
		   "metadata": {},
		   "source": [
			"## Example 9.4_a: determine_cylinder_speed_of_meterin_circuit.sci"
		   ]
		  },
  {
"cell_type": "code",
	   "execution_count": null,
	   "metadata": {
	    "collapsed": true
	   },
	   "outputs": [],
"source": [
"// Aim:To determine cylinder speed for given meter-in circuit\n",
"// Given:\n",
"// valve capacity coefficient:\n",
"Cv=1.0; //gpm/sqrt(psi)\n",
"// cylinder piston diameter and area:\n",
"D=2; //in\n",
"A_piston=3.14; //in^2\n",
"// cylinder load:\n",
"F_load=4000; //lb\n",
"// specific gravity of oil:\n",
"SG=0.9;\n",
"// pressure relief valve setting:\n",
"p_PRV=1400; //psi"
   ]
   }
,
{
		   "cell_type": "markdown",
		   "metadata": {},
		   "source": [
			"## Example 9.4_b: SOLUTION_cylinder_speed_of_meterin_circuit.sce"
		   ]
		  },
  {
"cell_type": "code",
	   "execution_count": null,
	   "metadata": {
	    "collapsed": true
	   },
	   "outputs": [],
"source": [
"clc;\n",
"pathname=get_absolute_file_path('9_4_soln.sce')\n",
"filename=pathname+filesep()+'9_4_data.sci'\n",
"exec(filename)\n",
"// Solution:\n",
"// flow-rate through valve,\n",
"Q=Cv*sqrt((p_PRV-(F_load/A_piston))/SG); //gpm\n",
"// flow-rate through valve in in^3/s,\n",
"Q=(Q*231)/60; //in^3/s\n",
"// cylinder speed,\n",
"v_cyl=Q/A_piston; //in/s\n",
"// Results:\n",
"printf('\n  Results:  ')   \n",
"printf('\n The cylinder speed is %.1f in/s.',v_cyl)"
   ]
   }
,
{
		   "cell_type": "markdown",
		   "metadata": {},
		   "source": [
			"## Example 9.5_a: find_overall_efficiency_of_given_system.sci"
		   ]
		  },
  {
"cell_type": "code",
	   "execution_count": null,
	   "metadata": {
	    "collapsed": true
	   },
	   "outputs": [],
"source": [
"// Aim:Refer Example 9-5 for Problem Description \n",
"// Given:\n",
"// Pump:\n",
"// mechanical efficiency:\n",
"eff_m_pump=92; //%\n",
"// volumetric efficiency:\n",
"eff_v_pump=94; //%\n",
"// volumetric displacement:\n",
"V_D_pump=10; //in^3\n",
"// speed of pump:\n",
"Np=1000; //rpm\n",
"// inlet pressure:\n",
"pi=-4; //psi\n",
"// Hydraulic Motor:\n",
"// mechanical efficiency:\n",
"eff_m_motor=92; //%\n",
"// volumetric efficiency:\n",
"eff_v_motor=90; //%\n",
"// volumetric displacement:\n",
"V_D_motor=8; //in^3\n",
"// inlet pressure required to drive load:\n",
"p2=500; //psi\n",
"// motor discharge pressure:\n",
"po=5; //psi\n",
"// Pipe and Fittings:\n",
"// inside diameter of pipe:\n",
"D=1.040; //in\n",
"// Length of pipe between station 1 and 2:\n",
"L_pipe=50; //ft\n",
"// K factor of standard 90 deg elbow:\n",
"K_elbow=0.75;\n",
"// K factor of check valve:\n",
"K_check=4.0;\n",
"// Oil:\n",
"// kinematic viscosity of oil:\n",
"nu=125; //cS\n",
"// specific gravity of oil:\n",
"SG=0.9;"
   ]
   }
,
{
		   "cell_type": "markdown",
		   "metadata": {},
		   "source": [
			"## Example 9.5_b: SOLUTION_overall_efficiency_of_given_system.sce"
		   ]
		  },
  {
"cell_type": "code",
	   "execution_count": null,
	   "metadata": {
	    "collapsed": true
	   },
	   "outputs": [],
"source": [
"clc;\n",
"pathname=get_absolute_file_path('9_5_soln.sce')\n",
"filename=pathname+filesep()+'9_5_data.sci'\n",
"exec(filename)\n",
"// Solution:\n",
"// acceleration due to gravity,\n",
"g=32.2; //ft/s^2\n",
"// pump's theoretical flow-rate,\n",
"Q_T_pump=(V_D_pump*Np)/231; //gpm\n",
"// pump's actual flow-rate,\n",
"Q_A_pump=(Q_T_pump*eff_v_pump)/100; //gpm\n",
"// velocity of oil,\n",
"v=((Q_A_pump)/449)/((%pi*((D/12)^2))/4); //ft/s\n",
"// Reynolds number,\n",
"N_R=(7740*v*D)/nu; \n",
"// friction factor,\n",
"f=64/N_R; \n",
"// equivalent length of 90 deg standard elbow,\n",
"Le_elbow=(K_elbow*(D/12))/f; //ft\n",
"// equivalent length of check valve,\n",
"Le_check_valve=(K_check*(D/12))/f; //ft\n",
"// total length of pipe,\n",
"LeTOT=L_pipe+(2*Le_elbow)+Le_check_valve; //ft\n",
"// head loss due to friction,\n",
"H_L=(f*LeTOT*(v^2))/(2*g*(D/12)); //ft\n",
"// head developed due to hydraulic motor and pump,\n",
"Hp=0; //ft\n",
"Hm=0; //ft\n",
"// height difference between station 1 and station 2,\n",
"Z=20; //ft\n",
"// pump discharge pressure,\n",
"p1=(((Z+H_L+Hm+Hp)*SG*62.4)/144)+p2; //psi\n",
"// input HP required to drive pump,\n",
"HP_pump=((p1-pi)*Q_A_pump)/(1714*(eff_m_pump/100)*(eff_v_pump/100)); //Hp\n",
"// motor theoretical power,\n",
"Q_T_motor=Q_A_pump*(eff_v_motor/100); //gpm\n",
"// speed of motor,\n",
"N_motor=floor((Q_T_motor*231)/V_D_motor); //rpm\n",
"// motor input horsepower,\n",
"HP_input_motor=((p2-po)*Q_A_pump)/1714; //HP\n",
"// rounding off the above answer\n",
"HP_input_motor=fix(HP_input_motor)+(fix(ceil((HP_input_motor-fix(HP_input_motor))*10))/10); //HP\n",
"// motor output horsepower,\n",
"HP_output_motor=(HP_input_motor*(eff_m_motor/100)*(eff_v_motor/100)); //HP\n",
"// motor output torque,\n",
"T_output_motor=(HP_output_motor*63000)/N_motor; //in.lb\n",
"// overall efficiency of system,\n",
"eff_overall=(HP_output_motor/HP_pump)*100; //%\n",
"// rounding off the above answer\n",
"eff_overall=fix(eff_overall)+(fix(ceil((eff_overall-fix(eff_overall))*10))/10); //%\n",
"// Results:\n",
"printf('\n  Results:  ')   \n",
"printf('\n The Pump flow-rate is %.1f gpm.',Q_A_pump)\n",
"printf('\n The Pump discharge pressure is %.0f psi.',p1)\n",
"printf('\n The Input HP required to drive the pump is %.1f HP.',HP_pump)\n",
"printf('\n The Motor Speed is %.0f rpm.',N_motor)\n",
"printf('\n The Motor output torque is %.0f in.lb.',T_output_motor)\n",
"printf('\n The Overall efficiency of system is %.1f percent.',eff_overall)"
   ]
   }
],
"metadata": {
		  "kernelspec": {
		   "display_name": "Scilab",
		   "language": "scilab",
		   "name": "scilab"
		  },
		  "language_info": {
		   "file_extension": ".sce",
		   "help_links": [
			{
			 "text": "MetaKernel Magics",
			 "url": "https://github.com/calysto/metakernel/blob/master/metakernel/magics/README.md"
			}
		   ],
		   "mimetype": "text/x-octave",
		   "name": "scilab",
		   "version": "0.7.1"
		  }
		 },
		 "nbformat": 4,
		 "nbformat_minor": 0
}
