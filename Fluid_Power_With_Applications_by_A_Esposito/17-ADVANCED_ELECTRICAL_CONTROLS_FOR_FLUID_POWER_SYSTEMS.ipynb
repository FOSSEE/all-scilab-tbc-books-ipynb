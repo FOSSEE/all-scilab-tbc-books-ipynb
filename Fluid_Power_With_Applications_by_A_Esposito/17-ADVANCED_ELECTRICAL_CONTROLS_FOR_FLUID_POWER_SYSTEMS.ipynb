{
"cells": [
 {
		   "cell_type": "markdown",
	   "metadata": {},
	   "source": [
       "# Chapter 17: ADVANCED ELECTRICAL CONTROLS FOR FLUID POWER SYSTEMS"
	   ]
	},
{
		   "cell_type": "markdown",
		   "metadata": {},
		   "source": [
			"## Example 17.1_a: determine_system_accuracy_of_electrohydraulic_system.sci"
		   ]
		  },
  {
"cell_type": "code",
	   "execution_count": null,
	   "metadata": {
	    "collapsed": true
	   },
	   "outputs": [],
"source": [
"// Aim:To determine the system accuracy of electrohydraulic servo system\n",
"// Given:\n",
"// servo valve gain:\n",
"G_SV=0.15; //(in^3/s)/mA\n",
"// cylinder gain:\n",
"G_cyl=0.20; //in/in^3\n",
"// feedback transducer gain:\n",
"H=4; //V/in\n",
"// weight of load:\n",
"W=1000; //lb\n",
"// mass of load:\n",
"M=2.59; //lb.(s^2)/in\n",
"// volume of oil under compression:\n",
"V=50; //in^3\n",
"// system deadband:\n",
"SD=4; //mA\n",
"// bulk modulus of oil:\n",
"beta1=175000; //lb/in^2\n",
"// cylinder piston area:\n",
"A=5; //in^2"
   ]
   }
,
{
		   "cell_type": "markdown",
		   "metadata": {},
		   "source": [
			"## Example 17.1_b: SOLUTION_system_accuracy_of_electrohydraulic_system.sce"
		   ]
		  },
  {
"cell_type": "code",
	   "execution_count": null,
	   "metadata": {
	    "collapsed": true
	   },
	   "outputs": [],
"source": [
"clc;\n",
"pathname=get_absolute_file_path('17_1_soln.sce')\n",
"filename=pathname+filesep()+'17_1_data.sci'\n",
"exec(filename)\n",
"// Solutions:\n",
"// natural frequency of the oil,\n",
"om_H=A*sqrt((2*beta1)/(V*M)); //rad/s\n",
"// value of open-loop gain,\n",
"open_loop=om_H/3; ///s\n",
"// amplifier gain,\n",
"G_A=open_loop/(G_SV*G_cyl*H); //mA/V\n",
"// repeatable error,\n",
"RE=SD/(G_A*H); //in\n",
"// Results:\n",
"printf('\n  Results:  ')\n",
"printf('\n The repeatable error of system is %.5f in.',RE)"
   ]
   }
,
{
		   "cell_type": "markdown",
		   "metadata": {},
		   "source": [
			"## Example 17.2_a: determine_system_accuracy_in_SI.sci"
		   ]
		  },
  {
"cell_type": "code",
	   "execution_count": null,
	   "metadata": {
	    "collapsed": true
	   },
	   "outputs": [],
"source": [
"// Aim:To determine the system accuracy of in SI units\n",
"// Given:\n",
"// servo valve gain:\n",
"G_SV=2.46; //(cm^3/s)/mA\n",
"// cylinder gain:\n",
"G_cyl=0.031; //cm/cm^3\n",
"// feedback transducer gain:\n",
"H=4; //V/cm\n",
"// mass of load:\n",
"M=450; //kg\n",
"// volume of oil:\n",
"V=819; //cm^3\n",
"// system deadband:\n",
"SD=4; //mA\n",
"// bulk modulus of oil:\n",
"beta1=1200; //MPa\n",
"// cylinder piston area:\n",
"A=32.3; //cm^2"
   ]
   }
,
{
		   "cell_type": "markdown",
		   "metadata": {},
		   "source": [
			"## Example 17.2_b: SOLUTION_system_accuracy_in_SI.sce"
		   ]
		  },
  {
"cell_type": "code",
	   "execution_count": null,
	   "metadata": {
	    "collapsed": true
	   },
	   "outputs": [],
"source": [
"clc;\n",
"pathname=get_absolute_file_path('17_2_soln.sce')\n",
"filename=pathname+filesep()+'17_2_data.sci'\n",
"exec(filename)\n",
"// Solutions:\n",
"// natural frequency of the oil,\n",
"om_H=(A*10^-4)*sqrt((2*beta1*10^6)/(V*10^-6*M)); //rad/s\n",
"// value of open-loop gain,\n",
"open_loop=om_H/3; ///s\n",
"// amplifier gain,\n",
"G_A=open_loop/(G_SV*G_cyl*H); //mA/V\n",
"// repeatable error,\n",
"RE=SD/(G_A*H); //cm\n",
"// rounding off the above answer,\n",
"RE=fix(RE)+(fix(ceil((RE-fix(RE))*100000))/100000); //cm\n",
"// Results:\n",
"printf('\n  Results:  ')\n",
"printf('\n The repeatable error of system is %.5f cm.',RE)"
   ]
   }
,
{
		   "cell_type": "markdown",
		   "metadata": {},
		   "source": [
			"## Example 17.3_a: find_maximum_tracking_error.sci"
		   ]
		  },
  {
"cell_type": "code",
	   "execution_count": null,
	   "metadata": {
	    "collapsed": true
	   },
	   "outputs": [],
"source": [
"// Aim:Refer Example 14-3 for Problem Description\n",
"// Given:\n",
"// servo valve current saturation:\n",
"I=300; //mA\n",
"// amplifier gain:\n",
"G_A=724; //mA/V\n",
"// feedback transducer gain:\n",
"H=4; //V/in\n",
"// feedback transducer gain in metric units\n",
"H1=1.57; //V/cm"
   ]
   }
,
{
		   "cell_type": "markdown",
		   "metadata": {},
		   "source": [
			"## Example 17.3_b: SOLUTION_maximum_tracking_error.sce"
		   ]
		  },
  {
"cell_type": "code",
	   "execution_count": null,
	   "metadata": {
	    "collapsed": true
	   },
	   "outputs": [],
"source": [
"clc;\n",
"pathname=get_absolute_file_path('17_3_soln.sce')\n",
"filename=pathname+filesep()+'17_3_data.sci'\n",
"exec(filename)\n",
"// Solutions:\n",
"// tracking error,\n",
"TE=I/(G_A*H); //in\n",
"// tracking error,\n",
"TE1=I/(G_A*H1); //cm\n",
"// Results:\n",
"printf('\n  Results:  ')\n",
"printf('\n The tracking error of system is %.3f in.',TE)\n",
"printf('\n The tracking error of system in SI Unit is %.3f cm.',TE1)"
   ]
   }
],
"metadata": {
		  "kernelspec": {
		   "display_name": "Scilab",
		   "language": "scilab",
		   "name": "scilab"
		  },
		  "language_info": {
		   "file_extension": ".sce",
		   "help_links": [
			{
			 "text": "MetaKernel Magics",
			 "url": "https://github.com/calysto/metakernel/blob/master/metakernel/magics/README.md"
			}
		   ],
		   "mimetype": "text/x-octave",
		   "name": "scilab",
		   "version": "0.7.1"
		  }
		 },
		 "nbformat": 4,
		 "nbformat_minor": 0
}
