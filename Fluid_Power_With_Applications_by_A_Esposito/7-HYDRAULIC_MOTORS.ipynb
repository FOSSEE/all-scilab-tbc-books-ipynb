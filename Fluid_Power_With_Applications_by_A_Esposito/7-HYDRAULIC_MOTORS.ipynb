{
"cells": [
 {
		   "cell_type": "markdown",
	   "metadata": {},
	   "source": [
       "# Chapter 7: HYDRAULIC MOTORS"
	   ]
	},
{
		   "cell_type": "markdown",
		   "metadata": {},
		   "source": [
			"## Example 7.1_a: find_pressure_developed_to_overcome_load.sci"
		   ]
		  },
  {
"cell_type": "code",
	   "execution_count": null,
	   "metadata": {
	    "collapsed": true
	   },
	   "outputs": [],
"source": [
"// Aim:To determine pressure developed to overcome load\n",
"// Given:\n",
"// outer radius of rotor:\n",
"R_R=0.5; //in\n",
"// outer radius of vane:\n",
"R_V=1.5; //in\n",
"// width of vane:\n",
"L=1; //in\n",
"// Torque Load:\n",
"T=1000; //in.lb"
   ]
   }
,
{
		   "cell_type": "markdown",
		   "metadata": {},
		   "source": [
			"## Example 7.1_b: SOLUTION_pressure_developed_to_overcome_load.sce"
		   ]
		  },
  {
"cell_type": "code",
	   "execution_count": null,
	   "metadata": {
	    "collapsed": true
	   },
	   "outputs": [],
"source": [
"clc;\n",
"pathname=get_absolute_file_path('7_1_soln.sce')\n",
"filename=pathname+filesep()+'7_1_data.sci'\n",
"exec(filename)\n",
"// Solution:\n",
"// volumetric displacement,\n",
"V_D=%pi*((R_V^2)-(R_R^2))*L; //in^3\n",
"// pressure developed to overcome load,\n",
"p=2*%pi*T/V_D; //psi\n",
"// Results:\n",
"printf('\n  Results:  ')   \n",
"printf('\n The pressure developed to overcome load is %.0f psi.',p)"
   ]
   }
,
{
		   "cell_type": "markdown",
		   "metadata": {},
		   "source": [
			"## Example 7.2_a: determine_theoretical_horsepower_of_hydraulic_motor.sci"
		   ]
		  },
  {
"cell_type": "code",
	   "execution_count": null,
	   "metadata": {
	    "collapsed": true
	   },
	   "outputs": [],
"source": [
"// Aim:Refer Example 7-2 for Problem Description \n",
"// Given:\n",
"// volumetric displacement:\n",
"V_D=5; //in^3\n",
"// pressure rating:\n",
"p=1000; //psi\n",
"// theoretical flow-rate of pump:\n",
"Q_T=10; //gpm"
   ]
   }
,
{
		   "cell_type": "markdown",
		   "metadata": {},
		   "source": [
			"## Example 7.2_b: SOLUTION_theoretical_horsepower_of_hydraulic_motor.sce"
		   ]
		  },
  {
"cell_type": "code",
	   "execution_count": null,
	   "metadata": {
	    "collapsed": true
	   },
	   "outputs": [],
"source": [
"clc;\n",
"pathname=get_absolute_file_path('7_2_soln.sce')\n",
"filename=pathname+filesep()+'7_2_data.sci'\n",
"exec(filename)\n",
"// Solution:\n",
"// motor speed,\n",
"N=231*Q_T/V_D; //rpm\n",
"// Theoretical torque,\n",
"T_T=floor(V_D*p/(2*%pi)); //in.lb\n",
"// Theoretical horsepower,\n",
"HP_T=T_T*N/63000; //HP\n",
"// Results:\n",
"printf('\n  Results:  ')   \n",
"printf('\n The motor Speed is %.0f rpm.',N)\n",
"printf('\n The motor Theoretical torque is %.0f in.lb.',T_T)\n",
"printf('\n The motor Theoretical horsepower is %.2f HP.',HP_T)"
   ]
   }
,
{
		   "cell_type": "markdown",
		   "metadata": {},
		   "source": [
			"## Example 7.3_a: find_actual_horsepower_delivered_by_motor.sci"
		   ]
		  },
  {
"cell_type": "code",
	   "execution_count": null,
	   "metadata": {
	    "collapsed": true
	   },
	   "outputs": [],
"source": [
"// Aim:Refer Example 7-3 for Problem Description \n",
"// Given:\n",
"// volumetric displacement:\n",
"V_D=10; //in^3\n",
"// pressure rating:\n",
"p=1000; //psi\n",
"// speed of motor:\n",
"N=2000; //rpm\n",
"// actual flow-rate of motor:\n",
"Q_A=95; //gpm\n",
"// actual torque delivered by motor:\n",
"T_A=1500; //in.lb"
   ]
   }
,
{
		   "cell_type": "markdown",
		   "metadata": {},
		   "source": [
			"## Example 7.3_b: SOLUTION_actual_horsepower_delivered_by_motor.sce"
		   ]
		  },
  {
"cell_type": "code",
	   "execution_count": null,
	   "metadata": {
	    "collapsed": true
	   },
	   "outputs": [],
"source": [
"clc;\n",
"pathname=get_absolute_file_path('7_3_soln.sce')\n",
"filename=pathname+filesep()+'7_3_data.sci'\n",
"exec(filename)\n",
"// Solution:\n",
"// theoretical flow-rate,\n",
"Q_T=V_D*N/231; //gpm\n",
"// volumetric efficiency,\n",
"eta_v=(Q_T/Q_A)*100; //%\n",
"// theoretical torque,\n",
"T_T=(V_D*p/(2*%pi)); //in.lb\n",
"// mechanical efficiency,\n",
"eta_m=(T_A/T_T)*100; //%\n",
"// overall efficiency,\n",
"eta_o=(eta_v/100)*(eta_m/100)*100; //%\n",
"eta_o=fix(eta_o)+(fix(floor((eta_o-fix(eta_o))*10))/10); //% ,rounding off the answer\n",
"// actual horsepower delivered by motor,\n",
"HP_A=T_A*N/63000; //HP\n",
"// Results:\n",
"printf('\n  Results:  ')   \n",
"printf('\n The volumetric efficiency is %.1f percent.',eta_v)\n",
"printf('\n The mechanical efficiency is %.1f percent.',eta_m)\n",
"printf('\n The overall efficiency is %.1f percent.',eta_o)\n",
"printf('\n The actual horsepower delivered by the motor is %.1f HP.',HP_A)"
   ]
   }
,
{
		   "cell_type": "markdown",
		   "metadata": {},
		   "source": [
			"## Example 7.4_a: find_motor_displacement_and_output_torque.sci"
		   ]
		  },
  {
"cell_type": "code",
	   "execution_count": null,
	   "metadata": {
	    "collapsed": true
	   },
	   "outputs": [],
"source": [
"// Aim:Refer Example 7-4 for Problem Description \n",
"// Given:\n",
"// operating pressure:\n",
"p=1000; //psi\n",
"// volumetric displacement of pump:\n",
"V_D_pump=5; //in^3\n",
"// speed of pump:\n",
"N_pump=500; //rpm\n",
"// volumetric efficiency of pump:\n",
"eta_v_pump=82; //%\n",
"// mechanical efficiency of pump:\n",
"eta_m_pump=88; //%\n",
"// speed of motor:\n",
"N_motor=400; //rpm\n",
"// volumetric efficiency of motor:\n",
"eta_v_motor=92; //%\n",
"// mechanical efficiency of motor:\n",
"eta_m_motor=90; //%"
   ]
   }
,
{
		   "cell_type": "markdown",
		   "metadata": {},
		   "source": [
			"## Example 7.4_b: SOLUTION_motor_displacement_and_output_torque.sce"
		   ]
		  },
  {
"cell_type": "code",
	   "execution_count": null,
	   "metadata": {
	    "collapsed": true
	   },
	   "outputs": [],
"source": [
"clc;\n",
"pathname=get_absolute_file_path('7_4_soln.sce')\n",
"filename=pathname+filesep()+'7_4_data.sci'\n",
"exec(filename)\n",
"// Solution:\n",
"// pump theoretical flow-rate,\n",
"Q_T_pump=V_D_pump*N_pump/231; //gpm\n",
"// pump actual flow rate,\n",
"Q_A_pump=Q_T_pump*(eta_v_pump/100); //gpm\n",
"// motor theoretical flow-rate,\n",
"Q_T_motor=Q_A_pump*(eta_v_motor/100); //gpm ,motor actual flow-rate = pump actual flow rate\n",
"// motor displacement,\n",
"V_D_motor=Q_T_motor*231/N_motor; //in^3\n",
"// hydraulic HP delivered to motor,\n",
"HHP_motor=p*Q_A_pump/1714; //HP\n",
"// brake HP delivered by motor,\n",
"BHP_motor=HHP_motor*(eta_v_motor/100)*(eta_m_motor/100); //HP\n",
"BHP_motor=fix(BHP_motor)+(fix(floor((BHP_motor-fix(BHP_motor))*100))/100); //HP ,rounding off the answer\n",
"// torque delivered by motor,\n",
"T_motor=(BHP_motor*63000/N_motor); //in.lb\n",
"// Results:\n",
"printf('\n  Results:  ')   \n",
"printf('\n The Displacement of motor is %.2f in^3.',V_D_motor)\n",
"printf('\n The Motor output torque is %.0f in.lb.',T_motor)"
   ]
   }
,
{
		   "cell_type": "markdown",
		   "metadata": {},
		   "source": [
			"## Example 7.5_a: find_motor_theoretical_power_in_SI.sci"
		   ]
		  },
  {
"cell_type": "code",
	   "execution_count": null,
	   "metadata": {
	    "collapsed": true
	   },
	   "outputs": [],
"source": [
"// Aim:Refer Example 7-5 for Problem Description \n",
"// Given:\n",
"// volumetric displacement:\n",
"V_D=0.082; //L\n",
"// pressure rating:\n",
"p=70; //bar\n",
"// theoretical flow-rate of pump:\n",
"Q_T=0.0006; //m^3/s"
   ]
   }
,
{
		   "cell_type": "markdown",
		   "metadata": {},
		   "source": [
			"## Example 7.5_b: SOLUTION_motor_theoretical_power_in_SI.sce"
		   ]
		  },
  {
"cell_type": "code",
	   "execution_count": null,
	   "metadata": {
	    "collapsed": true
	   },
	   "outputs": [],
"source": [
"clc;\n",
"pathname=get_absolute_file_path('7_5_soln.sce')\n",
"filename=pathname+filesep()+'7_5_data.sci'\n",
"exec(filename)\n",
"// Solution:\n",
"// motor speed,\n",
"N=(Q_T*60)/(V_D*10^-3); //rpm\n",
"// Theoretical torque,\n",
"T_T=((V_D*10^-3)*(p*10^5))/(2*%pi); //Nm\n",
"// Theoretical power,\n",
"HP_T=T_T*N*2*%pi/(60*1000); //kW\n",
"// Results:\n",
"printf('\n  Results:  ')   \n",
"printf('\n The motor Speed is %.0f rpm.',N)\n",
"printf('\n The motor Theoretical torque is %.1f Nm.',T_T)\n",
"printf('\n The motor Theoretical power is %.2f kW.',HP_T)"
   ]
   }
,
{
		   "cell_type": "markdown",
		   "metadata": {},
		   "source": [
			"## Example 7.6_a: find_actual_KW_delivered_by_motor.sci"
		   ]
		  },
  {
"cell_type": "code",
	   "execution_count": null,
	   "metadata": {
	    "collapsed": true
	   },
	   "outputs": [],
"source": [
"// Aim:Refer Example 7-6 for Problem Description \n",
"// Given:\n",
"// volumetric displacement:\n",
"V_D=164; //cm^3\n",
"// pressure rating:\n",
"p=70; //bar\n",
"// speed of motor:\n",
"N=2000; //rpm\n",
"// actual flow-rate of motor:\n",
"Q_A=0.006; //m^3/s\n",
"// actual torque delivered by motor:\n",
"T_A=170; //Nm"
   ]
   }
,
{
		   "cell_type": "markdown",
		   "metadata": {},
		   "source": [
			"## Example 7.6_b: SOLUTION_actual_KW_delivered_by_motor.sce"
		   ]
		  },
  {
"cell_type": "code",
	   "execution_count": null,
	   "metadata": {
	    "collapsed": true
	   },
	   "outputs": [],
"source": [
"clc;\n",
"pathname=get_absolute_file_path('7_6_soln.sce')\n",
"filename=pathname+filesep()+'7_6_data.sci'\n",
"exec(filename)\n",
"// Solution:\n",
"// theoretical flow-rate,\n",
"Q_T=(V_D*10^-6)*(N/60); //m^3/s\n",
"Q_T=fix(Q_T)+(fix(ceil((Q_T-fix(Q_T))*10^5))/10^5); //m^3/s ,rounding off the answer\n",
"// volumetric efficiency,\n",
"eta_v=(Q_T/Q_A)*100; //%\n",
"// theoretical torque,\n",
"T_T=((V_D*10^-6)*(p*10^5))/(2*%pi); //Nm\n",
"// mechanical efficiency,\n",
"eta_m=(T_A/T_T)*100; //%\n",
"// overall efficiency,\n",
"eta_o=(eta_v/100)*(eta_m/100)*100; //%\n",
"eta_o=fix(eta_o)+(fix(floor((eta_o-fix(eta_o))*10))/10); //% ,rounding off the answer\n",
"// actual horsepower delivered by motor,\n",
"HP_A=(T_A*N*2*%pi)/(60*1000); //kW\n",
"// Results:\n",
"printf('\n  Results:  ')   \n",
"printf('\n The volumetric efficiency is %.1f percent.',eta_v)\n",
"printf('\n The mechanical efficiency is %.1f percent.',eta_m)\n",
"printf('\n The overall efficiency is %.1f percent.',eta_o)\n",
"printf('\n The actual horsepower delivered by the motor is %.1f kW.',HP_A)"
   ]
   }
,
{
		   "cell_type": "markdown",
		   "metadata": {},
		   "source": [
			"## Example 7.7_a: find_motor_output_torque_in_SI.sci"
		   ]
		  },
  {
"cell_type": "code",
	   "execution_count": null,
	   "metadata": {
	    "collapsed": true
	   },
	   "outputs": [],
"source": [
"// Aim:Refer Example 7-7 for Problem Description \n",
"// Given:\n",
"// operating pressure:\n",
"p=70; //bar\n",
"// volumetric displacement of pump:\n",
"V_D_pump=82; //cm^3\n",
"// speed of pump:\n",
"N_pump=500; //rpm\n",
"// volumetric efficiency of pump:\n",
"eta_v_pump=82; //%\n",
"// mechanical efficiency of pump:\n",
"eta_m_pump=88; //%\n",
"// speed of motor:\n",
"N_motor=400; //rpm\n",
"// volumetric efficiency of motor:\n",
"eta_v_motor=92; //%\n",
"// mechanical efficiency of motor:\n",
"eta_m_motor=90; //%"
   ]
   }
,
{
		   "cell_type": "markdown",
		   "metadata": {},
		   "source": [
			"## Example 7.7_b: SOLUTION_motor_output_torque_in_SI.sce"
		   ]
		  },
  {
"cell_type": "code",
	   "execution_count": null,
	   "metadata": {
	    "collapsed": true
	   },
	   "outputs": [],
"source": [
"clc;\n",
"pathname=get_absolute_file_path('7_7_soln.sce')\n",
"filename=pathname+filesep()+'7_7_data.sci'\n",
"exec(filename)\n",
"// Solution:\n",
"// pump theoretical flow-rate,\n",
"Q_T_pump=(V_D_pump*10^-6)*(N_pump/60); //m^3/s\n",
"// pump actual flow rate,\n",
"Q_A_pump=Q_T_pump*(eta_v_pump/100); //m^3/s\n",
"// motor theoretical flow-rate,\n",
"Q_T_motor=Q_A_pump*(eta_v_motor/100); //m^3/s ,motor actual flow-rate = pump actual-flow rate\n",
"// motor displacement,\n",
"V_D_motor=(Q_T_motor/(N_motor/60))*10^6; //cm^3\n",
"// hydraulic HP delivered to motor,\n",
"HHP_motor=(p*10^5)*Q_A_pump; //W\n",
"// brake HP delivered by motor,\n",
"BHP_motor=HHP_motor*(eta_v_motor/100)*(eta_m_motor/100); //W\n",
"BHP_motor=fix(BHP_motor)+(fix(floor((BHP_motor-fix(BHP_motor))*100))/100); //W ,rounding off the answer\n",
"// torque delivered by motor,\n",
"T_motor=(BHP_motor/N_motor)*(60/(2*%pi)); //Nm\n",
"// Results:\n",
"printf('\n  Results:  ')   \n",
"printf('\n The Displacement of motor is %.1f cm^3.',V_D_motor)\n",
"printf('\n The Motor output torque is %.1f Nm.',T_motor)"
   ]
   }
],
"metadata": {
		  "kernelspec": {
		   "display_name": "Scilab",
		   "language": "scilab",
		   "name": "scilab"
		  },
		  "language_info": {
		   "file_extension": ".sce",
		   "help_links": [
			{
			 "text": "MetaKernel Magics",
			 "url": "https://github.com/calysto/metakernel/blob/master/metakernel/magics/README.md"
			}
		   ],
		   "mimetype": "text/x-octave",
		   "name": "scilab",
		   "version": "0.7.1"
		  }
		 },
		 "nbformat": 4,
		 "nbformat_minor": 0
}
