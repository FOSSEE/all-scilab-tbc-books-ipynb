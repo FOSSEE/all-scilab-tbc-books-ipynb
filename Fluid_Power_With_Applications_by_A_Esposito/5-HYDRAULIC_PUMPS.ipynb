{
"cells": [
 {
		   "cell_type": "markdown",
	   "metadata": {},
	   "source": [
       "# Chapter 5: HYDRAULIC PUMPS"
	   ]
	},
{
		   "cell_type": "markdown",
		   "metadata": {},
		   "source": [
			"## Example 5.10_a: find_yearly_cost_of_electricity.sci"
		   ]
		  },
  {
"cell_type": "code",
	   "execution_count": null,
	   "metadata": {
	    "collapsed": true
	   },
	   "outputs": [],
"source": [
"// Aim:Refer Example 5-10 for Problem Description\n",
"// Given:\n",
"// Speed of the pump:\n",
"N=1000; //rpm\n",
"// Prime mover input torque:\n",
"Ta=120; //N.m\n",
"// overall efficiency:\n",
"eta_o=85; //%\n",
"// operation time= 12 hrs/day for 250 days/year:\n",
"OT=12*250; //hrs/yr\n",
"// cost of electricity:\n",
"coe=0.11; //$/kW.hr\n",
"// overall efficiency for pump:\n",
"eta_l=83.5; //%"
   ]
   }
,
{
		   "cell_type": "markdown",
		   "metadata": {},
		   "source": [
			"## Example 5.10_b: SOLUTION_yearly_cost_of_electricity.sce"
		   ]
		  },
  {
"cell_type": "code",
	   "execution_count": null,
	   "metadata": {
	    "collapsed": true
	   },
	   "outputs": [],
"source": [
"clc;\n",
"pathname=get_absolute_file_path('5_10_soln.sce')\n",
"filename=pathname+filesep()+'5_10_data.sci'\n",
"exec(filename)\n",
"// Solutions:\n",
"// Pump input power,\n",
"IP=Ta*N/9550; //kW\n",
"// Electric motor input power,\n",
"EIP=IP/(eta_o/100); //kW\n",
"// rounding off the above answer\n",
"EIP=fix(EIP)+(fix(round((EIP-fix(EIP))*10))/10); //kW\n",
"// Yearly cost of electricity,\n",
"Yce=EIP*OT*coe; //$/yr\n",
"// Total kW loss,\n",
"kWL=((1-(eta_o/100))*EIP)+((1-(eta_l/100))*IP); //kW\n",
"// rounding off the above answer\n",
"kWL=fix(kWL)+(fix(round((kWL-fix(kWL))*10))/10); //kW\n",
"// Yearly cost due to inefficiencies,\n",
"Yci=(kWL/EIP)*Yce; //$/yr\n",
"// Results:\n",
"printf('\n  Results:  ')\n",
"printf('\n The yearly cost of electricity is %.0f $/yr.',Yce)\n",
"printf('\n The yearly cost of electricity due to inefficiencies is %.0f $/yr.',Yci)"
   ]
   }
,
{
		   "cell_type": "markdown",
		   "metadata": {},
		   "source": [
			"## Example 5.1_a: find_volumetric_efficiency_of_gear_pump.sci"
		   ]
		  },
  {
"cell_type": "code",
	   "execution_count": null,
	   "metadata": {
	    "collapsed": true
	   },
	   "outputs": [],
"source": [
"// Aim:To Find volumetric efficiency of Gear Pump \n",
"// Given:\n",
"// outside diameter of gear pump:\n",
"Do=3; //in\n",
"// inside diameter of gear pump:\n",
"Di=2; //in\n",
"// width of gear pump:\n",
"L=1; //in\n",
"// Actual flow rate of pump:\n",
"Qa=28; //gpm\n",
"// Speed of gear pump:\n",
"N=1800; //rpm"
   ]
   }
,
{
		   "cell_type": "markdown",
		   "metadata": {},
		   "source": [
			"## Example 5.1_b: SOLUTION_volumetric_efficiency_of_gear_pump.sce"
		   ]
		  },
  {
"cell_type": "code",
	   "execution_count": null,
	   "metadata": {
	    "collapsed": true
	   },
	   "outputs": [],
"source": [
"clc;\n",
"pathname=get_absolute_file_path('5_1_soln.sce')\n",
"filename=pathname+filesep()+'5_1_data.sci'\n",
"exec(filename)\n",
"// Solutions:\n",
"// Volumetric Displacementis is given by,\n",
"Vd=(%pi/4)*((Do^2)-(Di^2))*L; //in^3\n",
"// Theoretical Flow rate,\n",
"Qt=(Vd*N)/231; //gpm\n",
"// Volumetric efficiency,\n",
"eta_v=(Qa/Qt)*100; //%\n",
"// Results:\n",
"printf('\n  Results:  ')\n",
"printf('\n The volumetric efficiency of Gear Pump  is %.1f percent.',eta_v)\n",
"printf('\n The answer in the program is different than that in textbook. It may be due to no.s of significant digit in data and calculation')"
   ]
   }
,
{
		   "cell_type": "markdown",
		   "metadata": {},
		   "source": [
			"## Example 5.2_a: find_actual_flowrate_of_gear_pump.sci"
		   ]
		  },
  {
"cell_type": "code",
	   "execution_count": null,
	   "metadata": {
	    "collapsed": true
	   },
	   "outputs": [],
"source": [
"// Aim:To Find actual flow-rate of Gear Pump\n",
"// Given:\n",
"// outside diameter of gear pump:\n",
"Do=75; //mm\n",
"// inside diameter of gear pump:\n",
"Di=50; //mm\n",
"// width of gear pump:\n",
"L=25; //mm\n",
"// Volumetric efficiency,\n",
"eta_v=90; //%\n",
"// Speed of gear pump:\n",
"N=1000; //rpm"
   ]
   }
,
{
		   "cell_type": "markdown",
		   "metadata": {},
		   "source": [
			"## Example 5.2_b: SOLUTION_actual_flowrate_of_gear_pump.sce"
		   ]
		  },
  {
"cell_type": "code",
	   "execution_count": null,
	   "metadata": {
	    "collapsed": true
	   },
	   "outputs": [],
"source": [
"clc;\n",
"pathname=get_absolute_file_path('5_2_soln.sce')\n",
"filename=pathname+filesep()+'5_2_data.sci'\n",
"exec(filename)\n",
"// Solutions:\n",
"// Volumetric Displacementis is given by,\n",
"Vd=(%pi/4)*(((Do/1000)^2)-((Di/1000)^2))*(L/1000); //m^3/rev\n",
"// Actual Flow-rate,\n",
"Qa=Vd*N*(eta_v/100); //m^3/min\n",
"Qa_lpm=Qa*1000; //Lpm\n",
"// rounding off the above answer\n",
"Qa_lpm=fix(Qa_lpm)+(fix(ceil((Qa_lpm-fix(Qa_lpm))*10))/10); //m^3/min\n",
"// Results:\n",
"printf('\n  Results:  ')\n",
"printf('\n The volumetric efficiency of Gear Pump  is %.1f Lpm.',Qa_lpm)"
   ]
   }
,
{
		   "cell_type": "markdown",
		   "metadata": {},
		   "source": [
			"## Example 5.3_a: find_eccentricity_of_vane_pump.sci"
		   ]
		  },
  {
"cell_type": "code",
	   "execution_count": null,
	   "metadata": {
	    "collapsed": true
	   },
	   "outputs": [],
"source": [
"// Aim:To Find eccentricity of Vane Pump \n",
"// Given:\n",
"// volumetric displacement of vane pump:\n",
"Vd=5; //in^3\n",
"// rotor diameter of vane pump:\n",
"Dr=2; //in\n",
"// cam ring diameter of vane pump:\n",
"Dc=3; //in\n",
"// width of vane:\n",
"L=2; //in"
   ]
   }
,
{
		   "cell_type": "markdown",
		   "metadata": {},
		   "source": [
			"## Example 5.3_b: SOLUTION_eccentricity_of_vane_pump.sce"
		   ]
		  },
  {
"cell_type": "code",
	   "execution_count": null,
	   "metadata": {
	    "collapsed": true
	   },
	   "outputs": [],
"source": [
"clc;\n",
"pathname=get_absolute_file_path('5_3_soln.sce')\n",
"filename=pathname+filesep()+'5_3_data.sci'\n",
"exec(filename)\n",
"// Solutions:\n",
"// eccentricity for vane pump,\n",
"e=2*Vd/(%pi*(Dc+Dr)*L); //in\n",
"// Results:\n",
"printf('\n  Results:  ')\n",
"printf('\n The eccentricity of vane pump  is %.3f in.',e)"
   ]
   }
,
{
		   "cell_type": "markdown",
		   "metadata": {},
		   "source": [
			"## Example 5.4_a: find_volumetric_displacement_of_vane_pump.sci"
		   ]
		  },
  {
"cell_type": "code",
	   "execution_count": null,
	   "metadata": {
	    "collapsed": true
	   },
	   "outputs": [],
"source": [
"// Aim:To Find volumetric displacement of Vane Pump \n",
"// Given:\n",
"// rotor diameter of vane pump:\n",
"Dr=50; //mm\n",
"// cam ring diameter of vane pump:\n",
"Dc=75; //mm\n",
"// width of vane:\n",
"L=50; //mm\n",
"// eccentricity:\n",
"e=8; //mm"
   ]
   }
,
{
		   "cell_type": "markdown",
		   "metadata": {},
		   "source": [
			"## Example 5.4_b: SOLUTION_volumetric_displacement_of_vane_pump.sce"
		   ]
		  },
  {
"cell_type": "code",
	   "execution_count": null,
	   "metadata": {
	    "collapsed": true
	   },
	   "outputs": [],
"source": [
"clc;\n",
"pathname=get_absolute_file_path('5_4_soln.sce')\n",
"filename=pathname+filesep()+'5_4_data.sci'\n",
"exec(filename)\n",
"// Solutions:\n",
"// volumetric displacement of pump,\n",
"Vd=(%pi*((Dc/1000)+(Dr/1000))*(e/1000)*(L/1000))/2; //m^3\n",
"// since,1m^3 = 1000L\n",
"Vd=1000*Vd; //L\n",
"// Results:\n",
"printf('\n  Results:  ')\n",
"printf('\n The volumetric displacement of vane pump  is %.4f L.',Vd)"
   ]
   }
,
{
		   "cell_type": "markdown",
		   "metadata": {},
		   "source": [
			"## Example 5.5_a: find_power_pres_compensated_pump_saved.sci"
		   ]
		  },
  {
"cell_type": "code",
	   "execution_count": null,
	   "metadata": {
	    "collapsed": true
	   },
	   "outputs": [],
"source": [
"// Aim:Refer Example 5-5 for Problem Description\n",
"// Given:\n",
"// for Fixed Displacement pump:\n",
"// pump delivery pressure:\n",
"Pd_f=1000; //psi\n",
"// pump flow rate:\n",
"Q_f=20; //gpm\n",
"// oil leakge after cylinder is fully extended:\n",
"Ql_f=0.7; //gpm\n",
"// pressure relief valve setting:\n",
"p=1200; //psi\n",
"// for Pressure Compensated pump:\n",
"// pump flow rate:\n",
"Q_p=0.7; //gpm\n",
"// pressure relief valve setting:\n",
"P=1200; //psi"
   ]
   }
,
{
		   "cell_type": "markdown",
		   "metadata": {},
		   "source": [
			"## Example 5.5_b: SOLUTION_power_pres_compensated_pump_saved.sce"
		   ]
		  },
  {
"cell_type": "code",
	   "execution_count": null,
	   "metadata": {
	    "collapsed": true
	   },
	   "outputs": [],
"source": [
"clc;\n",
"pathname=get_absolute_file_path('5_5_soln.sce')\n",
"filename=pathname+filesep()+'5_5_data.sci'\n",
"exec(filename)\n",
"// Solutions:\n",
"// Hydraulic Power lost in Fixed Displacemnt pump,\n",
"HP_f=(p*Q_f)/1714; //HP\n",
"// Hydraulic Power lost in Pressure Compensated pump,\n",
"HP_p=(P*Q_p)/1714; //HP\n",
"// Therefore, Hydraulic Power saved,\n",
"HP=HP_f-HP_p; //HP\n",
"// Results:\n",
"printf('\n  Results:  ')\n",
"printf('\n The Hydraulic Power saved after cylinder is fully extended is %.2f HP.',HP)"
   ]
   }
,
{
		   "cell_type": "markdown",
		   "metadata": {},
		   "source": [
			"## Example 5.6_a: find_offset_angle_of_piston_pump.sci"
		   ]
		  },
  {
"cell_type": "code",
	   "execution_count": null,
	   "metadata": {
	    "collapsed": true
	   },
	   "outputs": [],
"source": [
"// Aim:To Find offset angle of axial piston pump\n",
"// Given:\n",
"// pump flow rate:\n",
"Qa=16; //gpm\n",
"// speed of pump:\n",
"N=3000; //rpm\n",
"// number of pistons:\n",
"Y=9; \n",
"// piston diameter:\n",
"d=0.5; //in\n",
"// piston circle diameter:\n",
"D=5; //in\n",
"// volumetric efficiency:\n",
"eta_v=95; //%"
   ]
   }
,
{
		   "cell_type": "markdown",
		   "metadata": {},
		   "source": [
			"## Example 5.6_b: SOLUTION_offset_angle_of_piston_pump.sce"
		   ]
		  },
  {
"cell_type": "code",
	   "execution_count": null,
	   "metadata": {
	    "collapsed": true
	   },
	   "outputs": [],
"source": [
"clc;\n",
"pathname=get_absolute_file_path('5_6_soln.sce')\n",
"filename=pathname+filesep()+'5_6_data.sci'\n",
"exec(filename)\n",
"// Solutions:\n",
"// Theoretical flow rate,\n",
"Qt=Qa/(eta_v/100); //gpm\n",
"// Area of piston,\n",
"A=(%pi/4)*(d^2); //in^2\n",
"// tan of offset angle,\n",
"T_theta=(231*Qt)/(D*A*N*Y); \n",
"// offset angle,\n",
"theta=atand(T_theta); //deg\n",
"// Results:\n",
"printf('\n  Results:  ')\n",
"printf('\n The offset angle of axial piston pump is %.1f deg.',theta)"
   ]
   }
,
{
		   "cell_type": "markdown",
		   "metadata": {},
		   "source": [
			"## Example 5.7_a: find_flowrate_of_axial_piston_pump.sci"
		   ]
		  },
  {
"cell_type": "code",
	   "execution_count": null,
	   "metadata": {
	    "collapsed": true
	   },
	   "outputs": [],
"source": [
"// Aim:To Find flow rate of axial piston pump in L/s\n",
"// Given:\n",
"// speed of pump:\n",
"N=1000; //rpm\n",
"// number of pistons:\n",
"Y=9; \n",
"// piston diameter:\n",
"d=15; //mm\n",
"// piston circle diameter:\n",
"D=125; //mm\n",
"// offset angle:\n",
"theta=10; //deg\n",
"// volumetric efficiency:\n",
"eta_v=94; //%"
   ]
   }
,
{
		   "cell_type": "markdown",
		   "metadata": {},
		   "source": [
			"## Example 5.7_b: SOLUTION_flowrate_of_axial_piston_pump.sce"
		   ]
		  },
  {
"cell_type": "code",
	   "execution_count": null,
	   "metadata": {
	    "collapsed": true
	   },
	   "outputs": [],
"source": [
"clc;\n",
"pathname=get_absolute_file_path('5_7_soln.sce')\n",
"filename=pathname+filesep()+'5_7_data.sci'\n",
"exec(filename)\n",
"// Solutions:\n",
"// Area of piston,\n",
"A=(%pi/4)*((d/1000)^2); //m^2\n",
"// offset angle,\n",
"theta=(theta*%pi)/180; //rad\n",
"// Theoretical flow rate,\n",
"Qt=(D/1000)*A*N*Y*tan(theta); //m^3/min\n",
"// Actual flow rate,\n",
"Qa=Qt*(eta_v/100); //m^3/min\n",
"// rounding off the above answer\n",
"Qa=fix(Qa)+(fix(round((Qa-fix(Qa))*1000))/1000); //m^3/min\n",
"// Actual flow rate in L/s,\n",
"Qa=Qa/(60*0.001); //L/s\n",
"// Results:\n",
"printf('\n  Results:  ')\n",
"printf('\n The flow rate of axial piston pump in L/s is %.3f L/s.',Qa)"
   ]
   }
,
{
		   "cell_type": "markdown",
		   "metadata": {},
		   "source": [
			"## Example 5.8_a: find_theoretical_torque_required_by_pump.sci"
		   ]
		  },
  {
"cell_type": "code",
	   "execution_count": null,
	   "metadata": {
	    "collapsed": true
	   },
	   "outputs": [],
"source": [
"// Aim:Refer Example 5-8 for Problem Description\n",
"// Given:\n",
"// Displacement volume:\n",
"Vd=5; //in^3\n",
"// Actual pump flow rate:\n",
"Qa=20; //gpm\n",
"// Speed of the pump:\n",
"N=1000; //rpm\n",
"// Pressure delivered by pump:\n",
"p=1000; //psi\n",
"// Prime mover input torque:\n",
"Ta=900; //in.lb"
   ]
   }
,
{
		   "cell_type": "markdown",
		   "metadata": {},
		   "source": [
			"## Example 5.8_b: SOLUTION_theoretical_torque_required_by_pump.sce"
		   ]
		  },
  {
"cell_type": "code",
	   "execution_count": null,
	   "metadata": {
	    "collapsed": true
	   },
	   "outputs": [],
"source": [
"clc;\n",
"pathname=get_absolute_file_path('5_8_soln.sce')\n",
"filename=pathname+filesep()+'5_8_data.sci'\n",
"exec(filename)\n",
"// Solutions:\n",
"// Theoretical pump flow rate,\n",
"Qt=(Vd*N)/231; //gpm\n",
"// rounding off the above answer\n",
"Qt=fix(Qt)+(fix(floor((Qt-fix(Qt))*10))/10); //gpm\n",
"// Therefore,volumetric efficiency,\n",
"eta_v=(Qa/Qt);\n",
"// Now, mechanical efficiency,\n",
"eta_m=((p*Qt)/1714)/((Ta*N)/63000);\n",
"// overall Efficiency,\n",
"eta_o=eta_v*eta_m*100; //%\n",
"// rounding off the above answer\n",
"eta_o=fix(eta_o)+(fix(floor((eta_o-fix(eta_o))*10))/10); //%\n",
"// Theoretical torque required to operate the pump,\n",
"Tt=floor(eta_m*Ta); //in.lb\n",
"// Results:\n",
"printf('\n  Results:  ')\n",
"printf('\n The overall efficiency of pump is %.1f percent.',eta_o)\n",
"printf('\n The Theoretical torque required to operate the pump  is %.0f in.lb.',Tt)"
   ]
   }
,
{
		   "cell_type": "markdown",
		   "metadata": {},
		   "source": [
			"## Example 5.9_a: find_theoretical_torque_required_in_SI.sci"
		   ]
		  },
  {
"cell_type": "code",
	   "execution_count": null,
	   "metadata": {
	    "collapsed": true
	   },
	   "outputs": [],
"source": [
"// Aim:Refer Example 5-9 for Problem Description\n",
"// Given:\n",
"// Displacement volume:\n",
"Vd=100; //cm^3\n",
"// Actual pump flow rate:\n",
"Qa=0.0015; //m^3/s\n",
"// Speed of the pump:\n",
"N=1000; //rpm\n",
"// Pressure delivered by pump:\n",
"p=70; //bars\n",
"// Prime mover input torque:\n",
"Ta=120; //N.m"
   ]
   }
,
{
		   "cell_type": "markdown",
		   "metadata": {},
		   "source": [
			"## Example 5.9_b: SOLUTION_theoretical_torque_required_in_SI.sce"
		   ]
		  },
  {
"cell_type": "code",
	   "execution_count": null,
	   "metadata": {
	    "collapsed": true
	   },
	   "outputs": [],
"source": [
"clc;\n",
"pathname=get_absolute_file_path('5_9_soln.sce')\n",
"filename=pathname+filesep()+'5_9_data.sci'\n",
"exec(filename)\n",
"// Solutions:\n",
"// volumetric displacement in m^3/rev,\n",
"Vd=100/(10^6); //m^3/rev\n",
"// Speed of pump in rps,\n",
"N=N/60; //rps\n",
"// Theoretical pump flow rate,\n",
"Qt=Vd*N; //m^3/s\n",
"// Therefore,volumetric efficiency,\n",
"eta_v=(Qa/Qt);\n",
"// Now, mechanical efficiency,\n",
"eta_m=(p*10^5*Qt)/(Ta*N*2*(%pi));\n",
"// overall Efficiency,\n",
"eta_o=eta_v*eta_m*100; //%\n",
"// rounding off the above answer\n",
"eta_o=fix(eta_o)+(fix(floor((eta_o-fix(eta_o))*10))/10); //%\n",
"// Theoretical torque required to operate the pump,\n",
"Tt=ceil(eta_m*Ta); //N.m\n",
"// Results:\n",
"printf('\n  Results:  ')\n",
"printf('\n The overall efficiency of pump is %.1f percent.',eta_o)\n",
"printf('\n The Theoretical torque required to operate the pump  is %.0f N.m.',Tt)"
   ]
   }
],
"metadata": {
		  "kernelspec": {
		   "display_name": "Scilab",
		   "language": "scilab",
		   "name": "scilab"
		  },
		  "language_info": {
		   "file_extension": ".sce",
		   "help_links": [
			{
			 "text": "MetaKernel Magics",
			 "url": "https://github.com/calysto/metakernel/blob/master/metakernel/magics/README.md"
			}
		   ],
		   "mimetype": "text/x-octave",
		   "name": "scilab",
		   "version": "0.7.1"
		  }
		 },
		 "nbformat": 4,
		 "nbformat_minor": 0
}
