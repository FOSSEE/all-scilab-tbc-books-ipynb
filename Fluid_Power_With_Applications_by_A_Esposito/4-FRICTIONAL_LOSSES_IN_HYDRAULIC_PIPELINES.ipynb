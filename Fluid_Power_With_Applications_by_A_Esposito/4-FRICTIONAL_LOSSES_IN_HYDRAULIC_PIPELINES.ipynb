{
"cells": [
 {
		   "cell_type": "markdown",
	   "metadata": {},
	   "source": [
       "# Chapter 4: FRICTIONAL LOSSES IN HYDRAULIC PIPELINES"
	   ]
	},
{
		   "cell_type": "markdown",
		   "metadata": {},
		   "source": [
			"## Example 4.10_a: find_pressure_inlet_hydraulic_motor_SI.sci"
		   ]
		  },
  {
"cell_type": "code",
	   "execution_count": null,
	   "metadata": {
	    "collapsed": true
	   },
	   "outputs": [],
"source": [
"// Aim:Refer Example 4-10 for Problem Description\n",
"// Given:\n",
"// Pump hydraulic power:\n",
"HHP=3.73; //kW\n",
"// Pump flow:\n",
"Q=0.00190; //m^3/s\n",
"// Inside Diameter of pipe:\n",
"D=0.0254; //m\n",
"// specific gravity of oil:\n",
"SG_oil=0.9;\n",
"// Kinematic viscosity of oil:\n",
"nu=100; //cS\n",
"// elevation between station 1 and 2:\n",
"Z=-6.10; //m ,-ve sign indicates station 2 is above Station 1\n",
"// Pressure at oil top surface level in hydraulic tank:\n",
"p1=0; //Pa\n",
"// Pump inlet pipe length:\n",
"L1=1.53; //m\n",
"// Pump outlet pipe length up to hydraulic motor:\n",
"L2=4.88; //m"
   ]
   }
,
{
		   "cell_type": "markdown",
		   "metadata": {},
		   "source": [
			"## Example 4.10_b: SOLUTION_pressure_inlet_hydraulic_motor_SI.sce"
		   ]
		  },
  {
"cell_type": "code",
	   "execution_count": null,
	   "metadata": {
	    "collapsed": true
	   },
	   "outputs": [],
"source": [
"clc;\n",
"pathname=get_absolute_file_path('4_10_soln.sce')\n",
"filename=pathname+filesep()+'4_10_data.sci'\n",
"exec(filename)\n",
"// Solution:\n",
"// specific weight of oil,\n",
"gamma1=SG_oil*9800; //N/m^3\n",
"// acceleration due to gravity,\n",
"g=9.80; //m/s^2\n",
"// Since, There is no hydraulic motor,\n",
"Hm=0; //m\n",
"// oil in tank is at rest,\n",
"v1=0; //m/s\n",
"// velocity head at station 1,\n",
"K1=(v1^2)/(2*g); //m\n",
"// velocity through pipe,\n",
"v2=Q/((%pi*(D^2))/4); //m/s\n",
"// velocity head at station 2,\n",
"K2=(v2^2)/(2*g); //m\n",
"// Reynolds Number,\n",
"N_R=((v2*D)/(nu/1000000));\n",
"// friction factor,\n",
"f=64/N_R;\n",
"// From table of 'K factors of common valves and fittings',\n",
"K=0.9;\n",
"// equivalent length of standard elbow,\n",
"Le_std_elbow=((K*(D/12))/f); //m\n",
"// Total equivalent length,\n",
"Le_tot=L1+L2+Le_std_elbow; //m\n",
"// head loss due to friction between Station 1 and 2,\n",
"H_L=((f*Le_tot*K2)/D); //m\n",
"// Pump head,\n",
"Hp=((1000*HHP)/(Q*gamma1)); //m\n",
"// Pressure at station 2,\n",
"p2=(Z+(p1/gamma1)+K1+Hp-Hm-H_L-K2); //m ,Modified Bernoulli equation\n",
"p2=((p2*gamma1)/1000); //kPa\n",
"// Results:\n",
"printf('\n  Results:  ')\n",
"printf('\n The Pressure available at the inlet to hydraulic motor is %.0f kPa.',p2)\n",
"printf('\n The answer in the program is different than that in textbook. It may be due to no.s of significant digit in data and calculation')"
   ]
   }
,
{
		   "cell_type": "markdown",
		   "metadata": {},
		   "source": [
			"## Example 4.1_a: find_reynolds_number_of_hydraulic_oil.sci"
		   ]
		  },
  {
"cell_type": "code",
	   "execution_count": null,
	   "metadata": {
	    "collapsed": true
	   },
	   "outputs": [],
"source": [
"// Aim:To Find Reynolds number of oil \n",
"// Given:\n",
"// Kinematic viscosity of oil:\n",
"nu=100; //cS\n",
"// velocity of oil:\n",
"v=10; //ft/s\n",
"// Pipe diameter:\n",
"D=1; //in"
   ]
   }
,
{
		   "cell_type": "markdown",
		   "metadata": {},
		   "source": [
			"## Example 4.1_b: SOLUTION_reynolds_number_of_hydraulic_oil.sce"
		   ]
		  },
  {
"cell_type": "code",
	   "execution_count": null,
	   "metadata": {
	    "collapsed": true
	   },
	   "outputs": [],
"source": [
"clc;\n",
"pathname=get_absolute_file_path('4_1_soln.sce')\n",
"filename=pathname+filesep()+'4_1_data.sci'\n",
"exec(filename)\n",
"// Solution:\n",
"// Reynolds Number,\n",
"N_R=(7740*v*D)/nu;\n",
"// Results:\n",
"printf('\n  Results:  ')\n",
"printf('\n The Reynolds number of given oil is %.0f.',N_R)"
   ]
   }
,
{
		   "cell_type": "markdown",
		   "metadata": {},
		   "source": [
			"## Example 4.2_a: find_reynolds_number_of_oil_SI.sci"
		   ]
		  },
  {
"cell_type": "code",
	   "execution_count": null,
	   "metadata": {
	    "collapsed": true
	   },
	   "outputs": [],
"source": [
"// Aim:To Find Reynolds number of oil \n",
"// Given:\n",
"// Kinematic viscosity of oil:\n",
"nu=0.001; //m^2/s\n",
"// velocity of oil:\n",
"v=5; //m/s\n",
"// Pipe diameter:\n",
"D=50; //mm"
   ]
   }
,
{
		   "cell_type": "markdown",
		   "metadata": {},
		   "source": [
			"## Example 4.2_b: SOLUTION_reynolds_number_of_oil_SI.sce"
		   ]
		  },
  {
"cell_type": "code",
	   "execution_count": null,
	   "metadata": {
	    "collapsed": true
	   },
	   "outputs": [],
"source": [
"clc;\n",
"pathname=get_absolute_file_path('4_2_soln.sce')\n",
"filename=pathname+filesep()+'4_2_data.sci'\n",
"exec(filename)\n",
"// Solution:\n",
"// Reynolds Number,\n",
"N_R=(v*(D/1000))/nu;\n",
"// Results:\n",
"printf('\n  Results:  ')\n",
"printf('\n The Reynolds number of given oil is %.0f.',N_R)"
   ]
   }
,
{
		   "cell_type": "markdown",
		   "metadata": {},
		   "source": [
			"## Example 4.3_a: find_head_loss_in_friction.sci"
		   ]
		  },
  {
"cell_type": "code",
	   "execution_count": null,
	   "metadata": {
	    "collapsed": true
	   },
	   "outputs": [],
"source": [
"// Aim:Refer Example 4-3 for Problem Description \n",
"// Given:\n",
"// Kinematic viscosity of oil:\n",
"nu=100; //cS\n",
"// velocity of oil:\n",
"v=10; //ft/s\n",
"// Pipe diameter:\n",
"D=1; //in\n",
"// Length of pipe:\n",
"L=100; //ft\n",
"// specific gravity of oil:\n",
"SG_oil=0.9;"
   ]
   }
,
{
		   "cell_type": "markdown",
		   "metadata": {},
		   "source": [
			"## Example 4.3_b: SOLUTION_head_loss_in_friction.sce"
		   ]
		  },
  {
"cell_type": "code",
	   "execution_count": null,
	   "metadata": {
	    "collapsed": true
	   },
	   "outputs": [],
"source": [
"clc;\n",
"pathname=get_absolute_file_path('4_3_soln.sce')\n",
"filename=pathname+filesep()+'4_3_data.sci'\n",
"exec(filename)\n",
"// Solution:\n",
"// acceleration due to gravity,\n",
"g=32.2; //ft/s^2\n",
"// Reynolds Number,\n",
"N_R=(7740*v*D)/nu;\n",
"// Head loss in pipe,\n",
"H_L=round((64*L*(v^2))/(N_R*(D/12)*2*g)); //ft ,Hagen-Poiseuille Equation\n",
"// Head loss in terms of psi,\n",
"H_L=SG_oil*0.0361*12*H_L; //psi\n",
"// Results:\n",
"printf('\n  Results:  ')\n",
"printf('\n The Head Loss due to friction in pipe is %.0f psi.',H_L)"
   ]
   }
,
{
		   "cell_type": "markdown",
		   "metadata": {},
		   "source": [
			"## Example 4.4_a: find_head_loss_in_friction_SI.sci"
		   ]
		  },
  {
"cell_type": "code",
	   "execution_count": null,
	   "metadata": {
	    "collapsed": true
	   },
	   "outputs": [],
"source": [
"// Aim:Refer Example 4-4 for Problem Description \n",
"// Given:\n",
"// Kinematic viscosity of oil:\n",
"nu=0.001; //m^2/s\n",
"// velocity of oil:\n",
"v=5; //m/s\n",
"// Pipe diameter:\n",
"D=50; //mm\n",
"// Length of pipe:\n",
"L=50; //m\n",
"// specific weigth of oil:\n",
"gamma1=8800; //N/m^2"
   ]
   }
,
{
		   "cell_type": "markdown",
		   "metadata": {},
		   "source": [
			"## Example 4.4_b: SOLUTION_head_loss_in_friction_SI.sce"
		   ]
		  },
  {
"cell_type": "code",
	   "execution_count": null,
	   "metadata": {
	    "collapsed": true
	   },
	   "outputs": [],
"source": [
"clc;\n",
"pathname=get_absolute_file_path('4_4_soln.sce')\n",
"filename=pathname+filesep()+'4_4_data.sci'\n",
"exec(filename)\n",
"// Solution:\n",
"// acceleration due to gravity,\n",
"g=9.80; //m/s^2\n",
"// Reynolds Number,\n",
"N_R=(v*(D/1000))/nu;\n",
"// Head loss in pipe,\n",
"H_L=floor((64*L*(v^2))/(N_R*(D/1000)*2*g)); //m ,Hagen-Poiseuille Equation\n",
"// Head loss in terms of kPa,\n",
"H_L1=(gamma1*H_L)/1000; //kPa\n",
"// Results:\n",
"printf('\n  Results:  ')\n",
"printf('\n The Head Loss due to friction in pipe is %.0f m of oil.',H_L)"
   ]
   }
,
{
		   "cell_type": "markdown",
		   "metadata": {},
		   "source": [
			"## Example 4.5_a: find_friction_factor_of_pipe.sci"
		   ]
		  },
  {
"cell_type": "code",
	   "execution_count": null,
	   "metadata": {
	    "collapsed": true
	   },
	   "outputs": [],
"source": [
"// Aim:Refer Example 4-5 for Problem Description \n",
"// Given:\n",
"// Kinematic viscosity of oil:\n",
"nu=50; //cS\n",
"// Pipe diameter:\n",
"D=1; //in\n",
"// velocity of oil:\n",
"v1=10; //ft/s\n",
"v2=40; //ft/s"
   ]
   }
,
{
		   "cell_type": "markdown",
		   "metadata": {},
		   "source": [
			"## Example 4.5_b: SOLUTION_friction_factor_of_pipe.sce"
		   ]
		  },
  {
"cell_type": "code",
	   "execution_count": null,
	   "metadata": {
	    "collapsed": true
	   },
	   "outputs": [],
"source": [
"clc;\n",
"pathname=get_absolute_file_path('4_5_soln.sce')\n",
"filename=pathname+filesep()+'4_5_data.sci'\n",
"exec(filename)\n",
"// Solution:\n",
"// Reynolds Number in 1st case,\n",
"N_R1=(7740*v1*D)/nu;\n",
"// Using Moody diagram from fig 4-9,\n",
"f1=0.042 ;\n",
"// Reynolds Number in 2nd case,\n",
"N_R2=(7740*v2*D)/nu;\n",
"// relative roughness,\n",
"rr=0.0018/D;\n",
"// Using Moody diagram from fig 4-9,\n",
"f2=0.036;\n",
"// Results:\n",
"printf('\n  Results:  ')\n",
"printf('\n The friction factor in 1st case is %.3f.',f1)\n",
"printf('\n The friction factor in 2nd case is %.3f.',f2)"
   ]
   }
,
{
		   "cell_type": "markdown",
		   "metadata": {},
		   "source": [
			"## Example 4.6_a: find_head_loss_across_globe_valve.sci"
		   ]
		  },
  {
"cell_type": "code",
	   "execution_count": null,
	   "metadata": {
	    "collapsed": true
	   },
	   "outputs": [],
"source": [
"// Aim:To Find Head Loss across valve \n",
"// Given:\n",
"// Diameter of globe valve:\n",
"D=1; //in\n",
"// specific gravity of oil:\n",
"SG_oil=0.9;\n",
"// flow rate:\n",
"Q=30; //gpm"
   ]
   }
,
{
		   "cell_type": "markdown",
		   "metadata": {},
		   "source": [
			"## Example 4.6_b: SOLUTION_head_loss_across_globe_valve.sce"
		   ]
		  },
  {
"cell_type": "code",
	   "execution_count": null,
	   "metadata": {
	    "collapsed": true
	   },
	   "outputs": [],
"source": [
"clc;\n",
"pathname=get_absolute_file_path('4_6_soln.sce')\n",
"filename=pathname+filesep()+'4_6_data.sci'\n",
"exec(filename)\n",
"// Solution:\n",
"// fluid velocity,\n",
"v=(Q/449)/((%pi*((D/12)^2))/4); //ft/s\n",
"// rounding off the above answer\n",
"v=fix(v)+(fix(floor((v-fix(v))*10))/10); //ft/s\n",
"// From table of 'K factors of common valves and fittings',\n",
"K=10;\n",
"// acceleration due to gravity,\n",
"g=32.2; //ft/s^2\n",
"// Head Loss across globe valve,\n",
"H_L=(K*(v^2))/(2*g); //ft\n",
"// Pressure drop across Valve,\n",
"delp=SG_oil*0.0361*12*H_L; //psi\n",
"// Results:\n",
"printf('\n  Results:  ')\n",
"printf('\n The head loss across globe valve is %.1f ft of oil.',H_L)"
   ]
   }
,
{
		   "cell_type": "markdown",
		   "metadata": {},
		   "source": [
			"## Example 4.7_a: find_head_loss_across_gate_valve.sci"
		   ]
		  },
  {
"cell_type": "code",
	   "execution_count": null,
	   "metadata": {
	    "collapsed": true
	   },
	   "outputs": [],
"source": [
"// Aim:To Find Head Loss across valve \n",
"// Given:\n",
"// Diameter of gate valve:\n",
"D=50; //mm\n",
"// specific weight of oil:\n",
"gamma1=8800; //N/m^2\n",
"// kinemativ viscosity of oil:\n",
"nu=0.001; //m^2/s\n",
"// flow rate:\n",
"Q=0.02; //m^3/s"
   ]
   }
,
{
		   "cell_type": "markdown",
		   "metadata": {},
		   "source": [
			"## Example 4.7_b: SOLUTION_head_loss_across_gate_valve.sce"
		   ]
		  },
  {
"cell_type": "code",
	   "execution_count": null,
	   "metadata": {
	    "collapsed": true
	   },
	   "outputs": [],
"source": [
"clc;\n",
"pathname=get_absolute_file_path('4_7_soln.sce')\n",
"filename=pathname+filesep()+'4_7_data.sci'\n",
"exec(filename)\n",
"// Solution:\n",
"// fluid velocity,\n",
"v=Q/((%pi*((D/1000)^2))/4); //m/s\n",
"// rounding off the above answer\n",
"v=fix(v)+(fix(round((v-fix(v))*10))/10); //m/s\n",
"// From table of 'K factors of common valves and fittings',\n",
"K=0.19;\n",
"// acceleration due to gravity,\n",
"g=9.80; //m/s^2\n",
"// Head Loss across globe valve,\n",
"H_L=(K*(v^2))/(2*g); //m\n",
"// Pressure drop across Valve,\n",
"delp=(gamma1*H_L)/1000; //kPa\n",
"// Results:\n",
"printf('\n  Results:  ')\n",
"printf('\n The head loss across globe valve is %.2f m of oil.',H_L)"
   ]
   }
,
{
		   "cell_type": "markdown",
		   "metadata": {},
		   "source": [
			"## Example 4.8_a: find_equivalent_length_of_globe_valve.sci"
		   ]
		  },
  {
"cell_type": "code",
	   "execution_count": null,
	   "metadata": {
	    "collapsed": true
	   },
	   "outputs": [],
"source": [
"// Aim:Refer Example 4-8 for Problem Description\n",
"// Given:\n",
"// Kinematic viscosity of oil:\n",
"nu=100; //cS\n",
"// Diameter of steel pipe:\n",
"D=1; //in\n",
"// flow rate:\n",
"Q=30; //gpm\n",
"// Diameter of wide open globe valve:\n",
"D_l=1; //in"
   ]
   }
,
{
		   "cell_type": "markdown",
		   "metadata": {},
		   "source": [
			"## Example 4.8_b: SOLUTION_equivalent_length_of_globe_valve.sce"
		   ]
		  },
  {
"cell_type": "code",
	   "execution_count": null,
	   "metadata": {
	    "collapsed": true
	   },
	   "outputs": [],
"source": [
"clc;\n",
"pathname=get_absolute_file_path('4_8_soln.sce')\n",
"filename=pathname+filesep()+'4_8_data.sci'\n",
"exec(filename)\n",
"// Solution:\n",
"// velocity through steel pipes,\n",
"v=(Q/449)/((%pi*((D/12)^2))/4); //ft/s\n",
"// rounding off the above answer\n",
"v=fix(v)+(fix(floor((v-fix(v))*10))/10); //ft/s\n",
"// Reynolds Number,\n",
"N_R=(7740*v*D)/nu;\n",
"// friction factor,\n",
"f=64/N_R;\n",
"// From table of 'K factors of common valves and fittings',\n",
"K=10;\n",
"// Equivalent Length,\n",
"Le=(K*(D_l/12))/f; //ft\n",
"// Results:\n",
"printf('\n  Results:  ')\n",
"printf('\n The Equivalent Length of Globe valve is %.1f ft.',Le)"
   ]
   }
,
{
		   "cell_type": "markdown",
		   "metadata": {},
		   "source": [
			"## Example 4.9_a: find_pressure_at_inlet_of_hydraulicmotor.sci"
		   ]
		  },
  {
"cell_type": "code",
	   "execution_count": null,
	   "metadata": {
	    "collapsed": true
	   },
	   "outputs": [],
"source": [
"// Aim:Refer Example 4-9 for Problem Description\n",
"// Given:\n",
"// Pump hydraulic power:\n",
"HHP=5; //HP\n",
"// Pump flow:\n",
"Q=30; //gpm\n",
"// Inside Diameter of pipe:\n",
"D=1; //in\n",
"// specific gravity of oil:\n",
"SG_oil=0.9;\n",
"// Kinematic viscosity of oil:\n",
"nu=100; //cS\n",
"// elevation between station 1 and 2:\n",
"Z=-20; //ft ,-ve sign indicates station 2 is above Station 1\n",
"// Pressure at oil top surface level in hydraulic tank:\n",
"p1=0; //psig"
   ]
   }
,
{
		   "cell_type": "markdown",
		   "metadata": {},
		   "source": [
			"## Example 4.9_b: SOLUTION_pressure_at_inlet_of_hydraulicmotor.sce"
		   ]
		  },
  {
"cell_type": "code",
	   "execution_count": null,
	   "metadata": {
	    "collapsed": true
	   },
	   "outputs": [],
"source": [
"clc;\n",
"pathname=get_absolute_file_path('4_9_soln.sce')\n",
"filename=pathname+filesep()+'4_9_data.sci'\n",
"exec(filename)\n",
"// Solution:\n",
"// specific weight of oil,\n",
"gamma1=SG_oil*62.4; //lb/ft^3\n",
"// acceleration due to gravity,\n",
"g=32.2; //ft/s^2\n",
"// Since, There is no hydraulic motor,\n",
"Hm=0; //ft\n",
"// oil in tank is at rest,\n",
"v1=0; //ft/s\n",
"// velocity head at station 1,\n",
"K1=(v1^2)/(2*g); //ft\n",
"// velocity through pipe,\n",
"v2=(Q/449)/((%pi*((D/12)^2))/4); //ft/s\n",
"v2=fix(v2)+(fix(floor((v2-fix(v2))*10))/10); //ft/s ,rounding off the answer\n",
"// velocity head at station 2,\n",
"K2=(v2^2)/(2*g); //ft\n",
"K2=fix(K2)+(fix(ceil((K2-fix(K2))*10))/10); //ft ,rounding off the answer\n",
"// Reynolds Number,\n",
"N_R=round((7740*v2*D)/nu);\n",
"// friction factor,\n",
"f=64/N_R;\n",
"// From table of 'K factors of common valves and fittings',\n",
"K=0.9;\n",
"// equivalent length of standard elbow,\n",
"Le_std_elbow=((K*(D/12))/f); //ft\n",
"// Total equivalent length,\n",
"Le_tot=21+Le_std_elbow; //ft\n",
"// head loss due to friction between Station 1 and 2,\n",
"H_L=round((f*Le_tot*K2)/(D/12)); //ft\n",
"// Pump head,\n",
"Hp=ceil((3950*HHP)/(Q*SG_oil)); //ft\n",
"// Pressure at station 2,\n",
"p2=round(Z+(p1/gamma1)+K1+Hp-Hm-H_L-K2); //ft ,Modified Bernoulli equation\n",
"p2=round((p2*gamma1)/144); //psi\n",
"// Pressure increase across the pump,\n",
"delp=ceil((gamma1*Hp)/144); \n",
"// Results:\n",
"printf('\n  Results:  ')\n",
"printf('\n The Pressure available at the inlet to hydraulic motor is %.0f psi.',p2)"
   ]
   }
],
"metadata": {
		  "kernelspec": {
		   "display_name": "Scilab",
		   "language": "scilab",
		   "name": "scilab"
		  },
		  "language_info": {
		   "file_extension": ".sce",
		   "help_links": [
			{
			 "text": "MetaKernel Magics",
			 "url": "https://github.com/calysto/metakernel/blob/master/metakernel/magics/README.md"
			}
		   ],
		   "mimetype": "text/x-octave",
		   "name": "scilab",
		   "version": "0.7.1"
		  }
		 },
		 "nbformat": 4,
		 "nbformat_minor": 0
}
