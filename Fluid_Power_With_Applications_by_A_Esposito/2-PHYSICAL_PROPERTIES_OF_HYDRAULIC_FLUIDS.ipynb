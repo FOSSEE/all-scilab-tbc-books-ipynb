{
"cells": [
 {
		   "cell_type": "markdown",
	   "metadata": {},
	   "source": [
       "# Chapter 2: PHYSICAL PROPERTIES OF HYDRAULIC FLUIDS"
	   ]
	},
{
		   "cell_type": "markdown",
		   "metadata": {},
		   "source": [
			"## Example 2.10_a: when_fahrenheit_and_celsius_temperature_equals.sci"
		   ]
		  },
  {
"cell_type": "code",
	   "execution_count": null,
	   "metadata": {
	    "collapsed": true
	   },
	   "outputs": [],
"source": [
"// Aim:To find Temperature at which Fahrenheit and Celsius values are equal \n",
"// Given:\n",
"// T(degF) = T(degC)  //Eqn - 1"
   ]
   }
,
{
		   "cell_type": "markdown",
		   "metadata": {},
		   "source": [
			"## Example 2.10_b: SOLUTION_fahrenheit_and_celsius_temp_equals.sce"
		   ]
		  },
  {
"cell_type": "code",
	   "execution_count": null,
	   "metadata": {
	    "collapsed": true
	   },
	   "outputs": [],
"source": [
"clc;\n",
"pathname=get_absolute_file_path('2_10_soln.sce')\n",
"filename=pathname+filesep()+'2_10_data.sci'\n",
"exec(filename)\n",
"// Solution:\n",
"// We know that,\n",
"// T(degF)=((1.8*T(degC))+32)  //Eqn - 2         \n",
"// From Eqn 1 and 2\n",
"// ((1.8*T(degC))+32)= T(degC)\n",
"// (1-1.8)*T(degC)=32\n",
"// -0.8*T(degC)=32\n",
"TdegC=-32/0.8;\n",
"// Results:\n",
"printf('\n  Results:  ')\n",
"printf('\n The temp at which Fahrenheit and Celsius values are equal is %0.1f deg.',TdegC)"
   ]
   }
,
{
		   "cell_type": "markdown",
		   "metadata": {},
		   "source": [
			"## Example 2.11_a: find_change_in_volume_of_oil.sci"
		   ]
		  },
  {
"cell_type": "code",
	   "execution_count": null,
	   "metadata": {
	    "collapsed": true
	   },
	   "outputs": [],
"source": [
"// Aim:To find change in volume of the oil\n",
"// Given:\n",
"// Volume of original oil:\n",
"V=10; //in^3\n",
"// Initial Pressure:\n",
"P1=100; //psi\n",
"// Final pressure:\n",
"P2=2000; //psi\n",
"// Bulk Modullus:\n",
"betaa=250000; //psi"
   ]
   }
,
{
		   "cell_type": "markdown",
		   "metadata": {},
		   "source": [
			"## Example 2.11_b: SOLUTION_change_in_volume_of_oil.sce"
		   ]
		  },
  {
"cell_type": "code",
	   "execution_count": null,
	   "metadata": {
	    "collapsed": true
	   },
	   "outputs": [],
"source": [
"clc;\n",
"pathname=get_absolute_file_path('2_11_soln.sce')\n",
"filename=pathname+filesep()+'2_11_data.sci'\n",
"exec(filename)\n",
"// Solution:\n",
"// Change in pressure,\n",
"delP=P2-P1; //psi\n",
"// Change in volume,\n",
"delV=-((V*delP)/betaa); //in^3 ,- sign indicates oil is being compressed\n",
"// Results:\n",
"printf('\n  Results:  ')\n",
"printf('\n The change in volume of oil is %.3f in^3.',delV)"
   ]
   }
,
{
		   "cell_type": "markdown",
		   "metadata": {},
		   "source": [
			"## Example 2.12_a: find_viscosity_of_oil.sci"
		   ]
		  },
  {
"cell_type": "code",
	   "execution_count": null,
	   "metadata": {
	    "collapsed": true
	   },
	   "outputs": [],
"source": [
"// Aim:To find viscosity of oil in centistokes and centipoise\n",
"// Given:\n",
"// viscosity of oil:\n",
"nu=230; //SUS at\n",
"t=150; //degF.\n",
"// specific gravity of oil:\n",
"gamma1=0.9;"
   ]
   }
,
{
		   "cell_type": "markdown",
		   "metadata": {},
		   "source": [
			"## Example 2.12_b: SOLUTION_viscosity_of_oil.sce"
		   ]
		  },
  {
"cell_type": "code",
	   "execution_count": null,
	   "metadata": {
	    "collapsed": true
	   },
	   "outputs": [],
"source": [
"clc;\n",
"pathname=get_absolute_file_path('2_12_soln.sce')\n",
"filename=pathname+filesep()+'2_12_data.sci'\n",
"exec(filename)\n",
"// Solution:\n",
"// kinematic viscosity of oil in centistokes,\n",
"nu_cs=((0.220*nu)-(135/t)); //centistokes\n",
"// absolute viscosity of oil in centipoise,\n",
"mu_cp=(gamma1*nu_cs); //centipoise\n",
"// Results:\n",
"printf('\n  Results:  ')\n",
"printf('\n The viscosity of oil in centistokes is %0.0f cS.',nu_cs)\n",
"printf('\n The viscosity of oil in centipoise is %0.0f cP.',mu_cp)"
   ]
   }
,
{
		   "cell_type": "markdown",
		   "metadata": {},
		   "source": [
			"## Example 2.13_a: find_kinematic_and_absolute_viscosities.sci"
		   ]
		  },
  {
"cell_type": "code",
	   "execution_count": null,
	   "metadata": {
	    "collapsed": true
	   },
	   "outputs": [],
"source": [
"// Aim:To find kinematic and absolute viscosity of oil in cS and cP respectively\n",
"// Given:\n",
"// Density of oil:\n",
"Den=0.89; //g/cm^3\n",
"// Time flow:\n",
"t=250; //s\n",
"// Calibration constant:\n",
"cc=0.100;"
   ]
   }
,
{
		   "cell_type": "markdown",
		   "metadata": {},
		   "source": [
			"## Example 2.13_b: SOLUTION_kinematic_and_absolute_viscosities.sce"
		   ]
		  },
  {
"cell_type": "code",
	   "execution_count": null,
	   "metadata": {
	    "collapsed": true
	   },
	   "outputs": [],
"source": [
"clc;\n",
"pathname=get_absolute_file_path('2_13_soln.sce')\n",
"filename=pathname+filesep()+'2_13_data.sci'\n",
"exec(filename)\n",
"// Solution:\n",
"// kinematic viscosity of oil in centistokes,\n",
"nu_cs=(t*cc); //centistokes\n",
"// absolute viscosity of oil in centipoise,\n",
"SG=Den;\n",
"mu_cp=(SG*nu_cs); //centipoise\n",
"// rounding off the above answer\n",
"mu_cp=fix(mu_cp)+(fix(round((mu_cp-fix(mu_cp))*10))/10); //centipoise\n",
"// Results:\n",
"printf('\n  Results:  ')\n",
"printf('\n The viscosity of oil in centistokes is %0.1f cS.',nu_cs)\n",
"printf('\n The viscosity of oil in centipoise is %0.1f cP.',mu_cp)"
   ]
   }
,
{
		   "cell_type": "markdown",
		   "metadata": {},
		   "source": [
			"## Example 2.14_a: find_viscosity_of_oil_at_100F.sci"
		   ]
		  },
  {
"cell_type": "code",
	   "execution_count": null,
	   "metadata": {
	    "collapsed": true
	   },
	   "outputs": [],
"source": [
"// Aim:To find viscosity of oil at 100 degF in SUS\n",
"// Given:\n",
"// Viscosity Index:\n",
"VI=80;\n",
"// viscosity of O-VI oil at 100 degF:\n",
"L=400; //SUS\n",
"// viscosity of 100-VI oil at 100 degF:\n",
"H=150; //SUS"
   ]
   }
,
{
		   "cell_type": "markdown",
		   "metadata": {},
		   "source": [
			"## Example 2.14_b: SOLUTION_viscosity_of_oil_at_100F.sce"
		   ]
		  },
  {
"cell_type": "code",
	   "execution_count": null,
	   "metadata": {
	    "collapsed": true
	   },
	   "outputs": [],
"source": [
"clc;\n",
"pathname=get_absolute_file_path('2_14_soln.sce')\n",
"filename=pathname+filesep()+'2_14_data.sci'\n",
"exec(filename)\n",
"// Solution:\n",
"// viscosity of sample oil at 100 degF,\n",
"U=L-(((L-H)*VI)/100); //SUS\n",
"// Results:\n",
"printf('\n  Results:  ')\n",
"printf('\n The viscosity of sample oil at 100 degF is %0.0f SUS.',U)"
   ]
   }
,
{
		   "cell_type": "markdown",
		   "metadata": {},
		   "source": [
			"## Example 2.15_a: find_pressure_on_skin_diver_SI.sci"
		   ]
		  },
  {
"cell_type": "code",
	   "execution_count": null,
	   "metadata": {
	    "collapsed": true
	   },
	   "outputs": [],
"source": [
"// Aim:To find pressure on the skin diver in SI units\n",
"// Given:\n",
"// Depth of Water Body:\n",
"H=18.3; //m"
   ]
   }
,
{
		   "cell_type": "markdown",
		   "metadata": {},
		   "source": [
			"## Example 2.15_b: SOLUTION_pressure_on_skin_diver_SI.sce"
		   ]
		  },
  {
"cell_type": "code",
	   "execution_count": null,
	   "metadata": {
	    "collapsed": true
	   },
	   "outputs": [],
"source": [
"clc;\n",
"pathname=get_absolute_file_path('2_15_soln.sce')\n",
"filename=pathname+filesep()+'2_15_data.sci'\n",
"exec(filename)\n",
"// Solution:\n",
"// specific Weight of water,\n",
"gamma1=9800; //N/m^3        \n",
"// we know pressure,\n",
"// p=(specific weight of liquid * liquid column height)\n",
"p=(gamma1*H); //Pa\n",
"pK=p/1000; //kPa\n",
"// Results:\n",
"printf('\n  Results:  ')\n",
"printf('\n The pressure on skin diver is %.0f kPa.',pK)"
   ]
   }
,
{
		   "cell_type": "markdown",
		   "metadata": {},
		   "source": [
			"## Example 2.16_a: convert_gage_to_absolute_pressure_SI.sci"
		   ]
		  },
  {
"cell_type": "code",
	   "execution_count": null,
	   "metadata": {
	    "collapsed": true
	   },
	   "outputs": [],
"source": [
"// Aim:To convert given pressure into absolute pressure\n",
"// Given:\n",
"// Gage Pressure:\n",
"Pg=-34000; //Pa"
   ]
   }
,
{
		   "cell_type": "markdown",
		   "metadata": {},
		   "source": [
			"## Example 2.16_b: SOLUTION_gage_to_absolute_pressure_SI.sce"
		   ]
		  },
  {
"cell_type": "code",
	   "execution_count": null,
	   "metadata": {
	    "collapsed": true
	   },
	   "outputs": [],
"source": [
"clc;\n",
"pathname=get_absolute_file_path('2_16_soln.sce')\n",
"filename=pathname+filesep()+'2_16_data.sci'\n",
"exec(filename)\n",
"// Solution:\n",
"// Atmospheric Pressure,\n",
"Po=101000; //Pa           \n",
"// Absolute Pressure(Pa) =Gage Pressure + Atmospheric Pressure\n",
"Pa=Pg+Po; //Pa\n",
"// Results:\n",
"printf('\n  Results:  ')\n",
"printf('\n The Absolute Pressure is %0.0f Pa.',Pa)"
   ]
   }
,
{
		   "cell_type": "markdown",
		   "metadata": {},
		   "source": [
			"## Example 2.17_a: find_oil_volume_change_in_SI.sci"
		   ]
		  },
  {
"cell_type": "code",
	   "execution_count": null,
	   "metadata": {
	    "collapsed": true
	   },
	   "outputs": [],
"source": [
"// Aim:To find % change in volume of the oil\n",
"// Given:\n",
"// Volume of original oil:V=164 //cm^3\n",
"// Initial Pressure:\n",
"P1=687; //kPa\n",
"// Final pressure:\n",
"P2=13740; //kPa\n",
"// Bulk Modullus:\n",
"betaa=1718; //MPa"
   ]
   }
,
{
		   "cell_type": "markdown",
		   "metadata": {},
		   "source": [
			"## Example 2.17_b: SOLUTION_oil_volume_change_in_SI.sce"
		   ]
		  },
  {
"cell_type": "code",
	   "execution_count": null,
	   "metadata": {
	    "collapsed": true
	   },
	   "outputs": [],
"source": [
"clc;\n",
"pathname=get_absolute_file_path('2_17_soln.sce')\n",
"filename=pathname+filesep()+'2_17_data.sci'\n",
"exec(filename)\n",
"// Solution:\n",
"// Change in pressure,\n",
"delP=P2-P1; //kPa \n",
"betaa=betaa*1000; //kPA\n",
"// % Change in volume,\n",
"delV=-(delP/betaa)*100; //% ,- sign indicates oil is being compressed\n",
"// Results:\n",
"printf('\n  Results:  ')\n",
"printf('\n The Percentage change in volume of oil is %.3f.',delV)"
   ]
   }
,
{
		   "cell_type": "markdown",
		   "metadata": {},
		   "source": [
			"## Example 2.18_a: find_absolute_viscosity_in_SI.sci"
		   ]
		  },
  {
"cell_type": "code",
	   "execution_count": null,
	   "metadata": {
	    "collapsed": true
	   },
	   "outputs": [],
"source": [
"// Aim:To find absolute viscosity of oil in Ns/m^2 and cP\n",
"// Given:\n",
"// Area of moving plate surface in contact with oil:\n",
"A=1; //m^2\n",
"// Force applied to the moving plate:\n",
"F=10; //N \n",
"// velocity of the moving plate:\n",
"v=1; //m/s\n",
"// oil film thickness:\n",
"y=5; //mm\n",
"y=5*0.001; //m"
   ]
   }
,
{
		   "cell_type": "markdown",
		   "metadata": {},
		   "source": [
			"## Example 2.18_b: SOLUTION_absolute_viscosity_in_SI.sce"
		   ]
		  },
  {
"cell_type": "code",
	   "execution_count": null,
	   "metadata": {
	    "collapsed": true
	   },
	   "outputs": [],
"source": [
"clc;\n",
"pathname=get_absolute_file_path('2_18_soln.sce')\n",
"filename=pathname+filesep()+'2_18_data.sci'\n",
"exec(filename)\n",
"// Solution:\n",
"// absolute viscosity of oil,\n",
"mu=(F/A)/(v/y); //Ns/m^2\n",
"// absolute viscosity of oil in cP,\n",
"mu_P=(F*100000*y*100)/(v*100*A*10000); //poise\n",
"mu_cP=mu_P*100; //centipoise\n",
"// Results:\n",
"printf('\n  Results:  ')\n",
"printf('\n The viscosity of oil is %0.2f Ns/m^2.',mu)\n",
"printf('\n The viscosity of oil is %0.2f cP.',mu_cP)"
   ]
   }
,
{
		   "cell_type": "markdown",
		   "metadata": {},
		   "source": [
			"## Example 2.1_a: find_weight_of_a_body.sci"
		   ]
		  },
  {
"cell_type": "code",
	   "execution_count": null,
	   "metadata": {
	    "collapsed": true
	   },
	   "outputs": [],
"source": [
"// Aim:To Find Weight of Body\n",
"// Given:\n",
"// Mass of the Body:\n",
"m=4; //slugs"
   ]
   }
,
{
		   "cell_type": "markdown",
		   "metadata": {},
		   "source": [
			"## Example 2.1_b: SOLUTION_weight_of_a_body.sce"
		   ]
		  },
  {
"cell_type": "code",
	   "execution_count": null,
	   "metadata": {
	    "collapsed": true
	   },
	   "outputs": [],
"source": [
"clc;\n",
"pathname=get_absolute_file_path('2_1_soln.sce')\n",
"filename=pathname+filesep()+'2_1_data.sci'\n",
"exec(filename)\n",
"// Solutions:\n",
"// we know acceleration due to gravity,\n",
"g=32.2; //ft/s^2\n",
"W=(m*g);\n",
"// Results:\n",
"printf('\n  Results:  ')\n",
"printf('\n The weight of Body is %.0f lb.',W)"
   ]
   }
,
{
		   "cell_type": "markdown",
		   "metadata": {},
		   "source": [
			"## Example 2.2_a: find_specific_weight_of_body.sci"
		   ]
		  },
  {
"cell_type": "code",
	   "execution_count": null,
	   "metadata": {
	    "collapsed": true
	   },
	   "outputs": [],
"source": [
"// Aim:To find the specific weight of a body\n",
"// Given:\n",
"// Weigth of the Body:\n",
"W=129; //lb\n",
"// Volume of the Body:\n",
"V=1.8; //ft^3"
   ]
   }
,
{
		   "cell_type": "markdown",
		   "metadata": {},
		   "source": [
			"## Example 2.2_b: SOLUTION_specific_weight_of_body.sce"
		   ]
		  },
  {
"cell_type": "code",
	   "execution_count": null,
	   "metadata": {
	    "collapsed": true
	   },
	   "outputs": [],
"source": [
"clc;\n",
"pathname=get_absolute_file_path('2_2_soln.sce')\n",
"filename=pathname+filesep()+'2_2_data.sci'\n",
"exec(filename)\n",
"// Solution:\n",
"// we know specific weight,\n",
"// gamma=(Weigth of the Body/Volume of the Body)\n",
"gamma1=(W/V); //lb/ft^3\n",
"// rounding off the above answer\n",
"gamma1=fix(gamma1)+(fix((gamma1-fix(gamma1))*10)/10); //lb/ft^3\n",
"   \n",
"// Results:\n",
"printf('\n  Results:  ')\n",
"printf('\n The specific weight of Body is %.1f lb/ft^3.',gamma1)"
   ]
   }
,
{
		   "cell_type": "markdown",
		   "metadata": {},
		   "source": [
			"## Example 2.3_a: find_specific_gravity_of_air.sci"
		   ]
		  },
  {
"cell_type": "code",
	   "execution_count": null,
	   "metadata": {
	    "collapsed": true
	   },
	   "outputs": [],
"source": [
"// Aim:To find the specific gravity of air at 68 degF\n",
"// Given:\n",
"// specific weight of air at 68 degF:\n",
"gamma_air=0.0752; //lb/ft^3"
   ]
   }
,
{
		   "cell_type": "markdown",
		   "metadata": {},
		   "source": [
			"## Example 2.3_b: SOLUTION_specific_gravity_of_air.sce"
		   ]
		  },
  {
"cell_type": "code",
	   "execution_count": null,
	   "metadata": {
	    "collapsed": true
	   },
	   "outputs": [],
"source": [
"clc;\n",
"pathname=get_absolute_file_path('2_3_soln.sce')\n",
"filename=pathname+filesep()+'2_3_data.sci'\n",
"exec(filename)\n",
"// Solution:\n",
"// we know,\n",
"// specific gravity of air=(specific weight of air/specific weight of water)\n",
"// also we know,specific weight of water at 68 degF,\n",
"gamma_water=62.4; //lb/ft^3\n",
"SG_air=gamma_air/gamma_water;\n",
"// Results:\n",
"printf('\n  Results:  ')\n",
"printf('\n The specific gravity of air %0.5f.',SG_air)"
   ]
   }
,
{
		   "cell_type": "markdown",
		   "metadata": {},
		   "source": [
			"## Example 2.4_a: find_density_of_body.sci"
		   ]
		  },
  {
"cell_type": "code",
	   "execution_count": null,
	   "metadata": {
	    "collapsed": true
	   },
	   "outputs": [],
"source": [
"// Aim:To find Density of body of Example 2-1 and 2-2\n",
"// Given:\n",
"// mass of the Body:\n",
"m=4; //slugs\n",
"// Volume of the Body:\n",
"V=1.8; //ft^3"
   ]
   }
,
{
		   "cell_type": "markdown",
		   "metadata": {},
		   "source": [
			"## Example 2.4_b: SOLUTION_density_of_body.sce"
		   ]
		  },
  {
"cell_type": "code",
	   "execution_count": null,
	   "metadata": {
	    "collapsed": true
	   },
	   "outputs": [],
"source": [
"clc;\n",
"pathname=get_absolute_file_path('2_4_soln.sce')\n",
"filename=pathname+filesep()+'2_4_data.sci'\n",
"exec(filename)\n",
"// Solution:\n",
"// we know density,\n",
"// rho1=(mass of the Body/Volume of the Body)\n",
"rho1=(m/V); //slugs/ft^3\n",
"// also density,rho2=(specific weight/acceleration due to gravity)\n",
"g=32.2; //ft/s^2\n",
"gamma1=71.6; //lb/ft^3\n",
"rho2=(gamma1/g); //slugs/ft^3\n",
"// Results:\n",
"printf('\n  Results:  ')\n",
"printf('\n The Density of Body is %.2f slugs/ft^3.',rho1)\n",
"printf('\n The Density of Body is %.2f slugs/ft^3.',rho2)"
   ]
   }
,
{
		   "cell_type": "markdown",
		   "metadata": {},
		   "source": [
			"## Example 2.5_a: find_pressure_on_skin_diver.sci"
		   ]
		  },
  {
"cell_type": "code",
	   "execution_count": null,
	   "metadata": {
	    "collapsed": true
	   },
	   "outputs": [],
"source": [
"// Aim:To find pressure on the skin diver\n",
"// Given:\n",
"// Depth of Water Body:\n",
"H=60; //ft"
   ]
   }
,
{
		   "cell_type": "markdown",
		   "metadata": {},
		   "source": [
			"## Example 2.5_b: SOLUTION_pressure_on_skin_diver.sce"
		   ]
		  },
  {
"cell_type": "code",
	   "execution_count": null,
	   "metadata": {
	    "collapsed": true
	   },
	   "outputs": [],
"source": [
"clc;\n",
"pathname=get_absolute_file_path('2_5_soln.sce')\n",
"filename=pathname+filesep()+'2_5_data.sci'\n",
"exec(filename)\n",
"// Solution:\n",
"// specific Weight of water,\n",
"gamma1=0.0361; //lb/in^3 \n",
"// Conversion: \n",
"// 1 feet = 12 inches\n",
"// 1 lb/in^2 = 1 psi            \n",
"// we know pressure,\n",
"// p=(specific weight of liquid * liquid column height)\n",
"p=(gamma1*H*12); //psi\n",
"// Results:\n",
"printf('\n  Results:  ')\n",
"printf('\n The pressure on skin diver is %.1f psi.',p)"
   ]
   }
,
{
		   "cell_type": "markdown",
		   "metadata": {},
		   "source": [
			"## Example 2.6_a: find_height_of_barometer_tube.sci"
		   ]
		  },
  {
"cell_type": "code",
	   "execution_count": null,
	   "metadata": {
	    "collapsed": true
	   },
	   "outputs": [],
"source": [
"// Aim:To find tube height of a Barometer\n",
"// Given:\n",
"// liquid used is Water instead of Mercury."
   ]
   }
,
{
		   "cell_type": "markdown",
		   "metadata": {},
		   "source": [
			"## Example 2.6_b: SOLUTION_height_of_barometer_tube.sce"
		   ]
		  },
  {
"cell_type": "code",
	   "execution_count": null,
	   "metadata": {
	    "collapsed": true
	   },
	   "outputs": [],
"source": [
"clc;\n",
"pathname=get_absolute_file_path('2_6_soln.sce')\n",
"filename=pathname+filesep()+'2_6_data.sci'\n",
"exec(filename)\n",
"// Solution:\n",
"// specific Weight of water,\n",
"gamma1=0.0361; //lb/in^3 \n",
"// We also knows Atmospheric Pressure,\n",
"p=14.7; //psi\n",
"// Conversion: \n",
"// 1 feet = 12 inches\n",
"// 1 lb/in^2 = 1 psi            \n",
"// we know pressure,\n",
"// p=(specific weight of liquid * liquid column height)\n",
"// Therefore,\n",
"H=(p/gamma1); //in\n",
"// He=Height in Feet.\n",
"He=H*0.083; //ft\n",
"// Results:\n",
"printf('\n  Results:  ')\n",
"printf('\n The Height of water column is %0.0f ft.',He)"
   ]
   }
,
{
		   "cell_type": "markdown",
		   "metadata": {},
		   "source": [
			"## Example 2.7_a: convert_gage_to_absolute_pressure.sci"
		   ]
		  },
  {
"cell_type": "code",
	   "execution_count": null,
	   "metadata": {
	    "collapsed": true
	   },
	   "outputs": [],
"source": [
"// Aim:To convert given pressure into absolute pressure\n",
"// Given:\n",
"// Gage Pressure:\n",
"Pg=-5; //psi"
   ]
   }
,
{
		   "cell_type": "markdown",
		   "metadata": {},
		   "source": [
			"## Example 2.7_b: SOLUTION_gage_to_absolute_pressure.sce"
		   ]
		  },
  {
"cell_type": "code",
	   "execution_count": null,
	   "metadata": {
	    "collapsed": true
	   },
	   "outputs": [],
"source": [
"clc;\n",
"pathname=get_absolute_file_path('2_7_soln.sce')\n",
"filename=pathname+filesep()+'2_7_data.sci'\n",
"exec(filename)\n",
"// Solution:\n",
"// Atmospheric Pressure,\n",
"Po=14.7; //psi           \n",
"// Absolute Pressure(Pa) =Gage Pressure + Atmospheric Pressure\n",
"Pa=Pg+Po;\n",
"// Results:\n",
"printf('\n  Results:  ')\n",
"printf('\n The Absolute Pressure is %0.1f psi.',Pa)"
   ]
   }
,
{
		   "cell_type": "markdown",
		   "metadata": {},
		   "source": [
			"## Example 2.8_a: find_absolute_pressure_on_skin_diver.sci"
		   ]
		  },
  {
"cell_type": "code",
	   "execution_count": null,
	   "metadata": {
	    "collapsed": true
	   },
	   "outputs": [],
"source": [
"// Aim:To find absolute pressure on skin diver of Example 2-5\n",
"// Given:\n",
"// Gage Pressure:\n",
"Pg=26; //psi"
   ]
   }
,
{
		   "cell_type": "markdown",
		   "metadata": {},
		   "source": [
			"## Example 2.8_b: SOLUTION_absolute_pressure_on_skin_diver.sce"
		   ]
		  },
  {
"cell_type": "code",
	   "execution_count": null,
	   "metadata": {
	    "collapsed": true
	   },
	   "outputs": [],
"source": [
"clc;\n",
"pathname=get_absolute_file_path('2_8_soln.sce')\n",
"filename=pathname+filesep()+'2_8_data.sci'\n",
"exec(filename)\n",
"// Solution:\n",
"// Atmospheric Pressure,\n",
"Po=14.7; //psi           \n",
"// Absolute Pressure(Pa) =Gage Pressure + Atmospheric Pressure\n",
"Pa=Pg+Po; //psi\n",
"// Results:\n",
"printf('\n  Results:  ')\n",
"printf('\n The Absolute Pressure is %0.1f psi.',Pa)"
   ]
   }
,
{
		   "cell_type": "markdown",
		   "metadata": {},
		   "source": [
			"## Example 2.9_a: find_specific_weight_in_SI_system.sci"
		   ]
		  },
  {
"cell_type": "code",
	   "execution_count": null,
	   "metadata": {
	    "collapsed": true
	   },
	   "outputs": [],
"source": [
"// Aim:To Determine specific weights in N/m^3\n",
"// Given:\n",
"// specific weight:\n",
"gamma1=56; //lb/ft^3"
   ]
   }
,
{
		   "cell_type": "markdown",
		   "metadata": {},
		   "source": [
			"## Example 2.9_b: SOLUTION_specific_weight_in_SI_system.sce"
		   ]
		  },
  {
"cell_type": "code",
	   "execution_count": null,
	   "metadata": {
	    "collapsed": true
	   },
	   "outputs": [],
"source": [
"clc;\n",
"pathname=get_absolute_file_path('2_9_soln.sce')\n",
"filename=pathname+filesep()+'2_9_data.sci'\n",
"exec(filename)\n",
"// Solution:\n",
"// We know,\n",
"// 1 N/m^3 = 157 lb/ft^3\n",
"gamma2=157*gamma1; //N/m^3\n",
"// Results:\n",
"printf('\n  Results:  ')\n",
"printf('\n The specific weights is %0.0f N/m^3.',gamma2)\n",
"printf('\n The answer in the program is different than that in textbook. It may be due to no.s of significant digit in data and calculation')"
   ]
   }
],
"metadata": {
		  "kernelspec": {
		   "display_name": "Scilab",
		   "language": "scilab",
		   "name": "scilab"
		  },
		  "language_info": {
		   "file_extension": ".sce",
		   "help_links": [
			{
			 "text": "MetaKernel Magics",
			 "url": "https://github.com/calysto/metakernel/blob/master/metakernel/magics/README.md"
			}
		   ],
		   "mimetype": "text/x-octave",
		   "name": "scilab",
		   "version": "0.7.1"
		  }
		 },
		 "nbformat": 4,
		 "nbformat_minor": 0
}
