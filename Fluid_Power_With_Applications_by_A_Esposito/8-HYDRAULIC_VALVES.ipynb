{
"cells": [
 {
		   "cell_type": "markdown",
	   "metadata": {},
	   "source": [
       "# Chapter 8: HYDRAULIC VALVES"
	   ]
	},
{
		   "cell_type": "markdown",
		   "metadata": {},
		   "source": [
			"## Example 8.1_a: determine_cracking_and_full_flow_pressure.sci"
		   ]
		  },
  {
"cell_type": "code",
	   "execution_count": null,
	   "metadata": {
	    "collapsed": true
	   },
	   "outputs": [],
"source": [
"// Aim:Refer Example 8-1 for Problem Description \n",
"// Given:\n",
"// area of relief valve:\n",
"A=0.75; //in^2\n",
"// spring constant:\n",
"k=2500; //lb/in\n",
"// initial compressed length of spring:\n",
"S=0.20; //in\n",
"// poppet displacement to pass full pump flow:\n",
"L=0.10; //in"
   ]
   }
,
{
		   "cell_type": "markdown",
		   "metadata": {},
		   "source": [
			"## Example 8.1_b: SOLUTION_cracking_and_full_flow_pressure.sce"
		   ]
		  },
  {
"cell_type": "code",
	   "execution_count": null,
	   "metadata": {
	    "collapsed": true
	   },
	   "outputs": [],
"source": [
"clc;\n",
"pathname=get_absolute_file_path('8_1_soln.sce')\n",
"filename=pathname+filesep()+'8_1_data.sci'\n",
"exec(filename)\n",
"// Solution:\n",
"// spring force excerted on poppet when it is fully closed,\n",
"F=k*S; //lb\n",
"// Cracking pressure,\n",
"p_crack=F/A; //psi\n",
"// spring force when poppet moves 0.10 in from its fully closed position,\n",
"F_new=k*(L+S); //lb\n",
"// Full pump flow pressure,\n",
"p_ful_pump_flow=F_new/A; //psi\n",
"  \n",
"// Results:\n",
"printf('\n  Results:  ')   \n",
"printf('\n The Cracking pressure is %.0f psi.',p_crack)\n",
"printf('\n The Full pump flow pressure  is %.0f psi.',p_ful_pump_flow)"
   ]
   }
,
{
		   "cell_type": "markdown",
		   "metadata": {},
		   "source": [
			"## Example 8.2_a: compute_horsepower_across_pressure_relief_valve.sci"
		   ]
		  },
  {
"cell_type": "code",
	   "execution_count": null,
	   "metadata": {
	    "collapsed": true
	   },
	   "outputs": [],
"source": [
"// Aim:To compute horsepower across the pressure relief valve\n",
"// Given:\n",
"// pressure relief valve setting:\n",
"p=1000; //psi\n",
"// pump flow to the tank:\n",
"Q=20; //gpm"
   ]
   }
,
{
		   "cell_type": "markdown",
		   "metadata": {},
		   "source": [
			"## Example 8.2_b: SOLUTION_horsepower_across_pressure_relief_valve.sce"
		   ]
		  },
  {
"cell_type": "code",
	   "execution_count": null,
	   "metadata": {
	    "collapsed": true
	   },
	   "outputs": [],
"source": [
"clc;\n",
"pathname=get_absolute_file_path('8_2_soln.sce')\n",
"filename=pathname+filesep()+'8_2_data.sci'\n",
"exec(filename)\n",
"// Solution:\n",
"// Horsepower across the valve,\n",
"HP=((p*Q)/1714); //HP\n",
" \n",
"// Results:\n",
"printf('\n  Results:  ')   \n",
"printf('\n The Horsepower across the pressure relief valve is %.1f HP.',HP)"
   ]
   }
,
{
		   "cell_type": "markdown",
		   "metadata": {},
		   "source": [
			"## Example 8.3_a: compute_horsepower_across_unloading_valve.sci"
		   ]
		  },
  {
"cell_type": "code",
	   "execution_count": null,
	   "metadata": {
	    "collapsed": true
	   },
	   "outputs": [],
"source": [
"// Aim:To compute horsepower across the unloading valve\n",
"// Given:\n",
"// pump pressure during unloading:\n",
"p=25; //psi\n",
"// pump flow to the tank:\n",
"Q=20; //gpm"
   ]
   }
,
{
		   "cell_type": "markdown",
		   "metadata": {},
		   "source": [
			"## Example 8.3_b: SOLUTION_horsepower_across_unloading_valve.sce"
		   ]
		  },
  {
"cell_type": "code",
	   "execution_count": null,
	   "metadata": {
	    "collapsed": true
	   },
	   "outputs": [],
"source": [
"clc;\n",
"pathname=get_absolute_file_path('8_3_soln.sce')\n",
"filename=pathname+filesep()+'8_3_data.sci'\n",
"exec(filename)\n",
"// Solution:\n",
"// Horsepower across the valve,\n",
"HP=((p*Q)/1714); //HP\n",
" \n",
"// Results:\n",
"printf('\n  Results:  ')   \n",
"printf('\n The Horsepower across the unloading valve is %.2f HP.',HP)"
   ]
   }
,
{
		   "cell_type": "markdown",
		   "metadata": {},
		   "source": [
			"## Example 8.4_a: find_flow_rate_through_the_orifice.sci"
		   ]
		  },
  {
"cell_type": "code",
	   "execution_count": null,
	   "metadata": {
	    "collapsed": true
	   },
	   "outputs": [],
"source": [
"// Aim:To find flow-rate through given orifice\n",
"// Given:\n",
"// pressure drop across orifice:\n",
"del_p=100; //psi\n",
"// orifice diameter:\n",
"D=1; //in\n",
"// specific gravity of oil:\n",
"SG_oil=0.9;\n",
"// flow coefficient for sharp edge orifice:\n",
"C=0.80;\n",
" "
   ]
   }
,
{
		   "cell_type": "markdown",
		   "metadata": {},
		   "source": [
			"## Example 8.4_b: SOLUTION_flow_rate_through_the_orifice.sce"
		   ]
		  },
  {
"cell_type": "code",
	   "execution_count": null,
	   "metadata": {
	    "collapsed": true
	   },
	   "outputs": [],
"source": [
"clc;\n",
"pathname=get_absolute_file_path('8_4_soln.sce')\n",
"filename=pathname+filesep()+'8_4_data.sci'\n",
"exec(filename)\n",
"// Solution:\n",
"// flow-rate through orifice,\n",
"Q=38.1*C*((%pi*(D^2))/4)*sqrt(del_p/SG_oil); //gpm\n",
"// Results:\n",
"printf('\n  Results:  ')   \n",
"printf('\n The flow-rate through orifice is %.0f gpm.',Q)"
   ]
   }
,
{
		   "cell_type": "markdown",
		   "metadata": {},
		   "source": [
			"## Example 8.5_a: determine_capacity_coefficient_of_flowcontrol_valve.sci"
		   ]
		  },
  {
"cell_type": "code",
	   "execution_count": null,
	   "metadata": {
	    "collapsed": true
	   },
	   "outputs": [],
"source": [
"// Aim:To determine the capacity coefficient of flow control valve \n",
"// Given:\n",
"// pressure drop across flow control valve:\n",
"del_p=100; //psi\n",
"del_p1=687; //kPa\n",
"// flow-rate across valve:\n",
"Q=25; //gpm\n",
"Q1=94.8; //Lpm\n",
"// specific gravity of oil:\n",
"SG_oil=0.9; "
   ]
   }
,
{
		   "cell_type": "markdown",
		   "metadata": {},
		   "source": [
			"## Example 8.5_b: SOLUTION_capacity_coefficient_of_flowcontrol_valve.sce"
		   ]
		  },
  {
"cell_type": "code",
	   "execution_count": null,
	   "metadata": {
	    "collapsed": true
	   },
	   "outputs": [],
"source": [
"clc;\n",
"pathname=get_absolute_file_path('8_5_soln.sce')\n",
"filename=pathname+filesep()+'8_5_data.sci'\n",
"exec(filename)\n",
"// Solution:\n",
"// capacity coefficient in English Units,\n",
"Cv=Q/sqrt(del_p/SG_oil); //gpm/sqrt(psi)\n",
"// capacity coefficient in Metric Units,\n",
"Cv1=Q1/sqrt(del_p1/SG_oil); //Lpm/sqrt(kPA)\n",
"// Results:\n",
"printf('\n  Results:  ')   \n",
"printf('\n The capacity coefficient in English unit is %.2f gpm/sqrt(psi).',Cv)\n",
"printf('\n The capacity coefficient in Metric unit is %.2f Lpm/sqrt(kPa).',Cv1)"
   ]
   }
,
{
		   "cell_type": "markdown",
		   "metadata": {},
		   "source": [
			"## Example 8.6_a: determine_capacity_coefficient_of_needle_valve.sci"
		   ]
		  },
  {
"cell_type": "code",
	   "execution_count": null,
	   "metadata": {
	    "collapsed": true
	   },
	   "outputs": [],
"source": [
"// Aim:To determine the capacity coefficient of needle valve \n",
"// Given:\n",
"// Desired cylinder speed:\n",
"v2=10; //in/s\n",
"// Cylinder piston area:\n",
"A1=3.14; //in^2\n",
"// Cylinder rod area:\n",
"Ar=0.79; //in^2\n",
"// Cylinder load:\n",
"F_load=1000; //lb\n",
"// Specific gravity of oil:\n",
"SG_oil=0.9;\n",
"// Pressure relief valve setting:\n",
"p1=500; //psi"
   ]
   }
,
{
		   "cell_type": "markdown",
		   "metadata": {},
		   "source": [
			"## Example 8.6_b: SOLUTION_capacity_coefficient_of_needle_valve.sce"
		   ]
		  },
  {
"cell_type": "code",
	   "execution_count": null,
	   "metadata": {
	    "collapsed": true
	   },
	   "outputs": [],
"source": [
"clc;\n",
"pathname=get_absolute_file_path('8_6_soln.sce')\n",
"filename=pathname+filesep()+'8_6_data.sci'\n",
"exec(filename)\n",
"// Solution:\n",
"// annular area of cylinder,\n",
"A2=A1-Ar; //in^2\n",
"// back pressure in the rod end,\n",
"p2=((p1*A1)-F_load)/A2; //psi\n",
"// flow rate through needle valve based on desired cylinder speed,\n",
"Q=(A2*v2*60)/231; //gpm\n",
"// capacity coefficient of needle valve,\n",
"Cv=Q/sqrt(p2/SG_oil); //gpm/sqrt(psi)\n",
"// Results:\n",
"printf('\n  Results:  ')   \n",
"printf('\n The capacity coefficient of needle valve is %.2f gpm/sqrt(psi).',Cv)"
   ]
   }
],
"metadata": {
		  "kernelspec": {
		   "display_name": "Scilab",
		   "language": "scilab",
		   "name": "scilab"
		  },
		  "language_info": {
		   "file_extension": ".sce",
		   "help_links": [
			{
			 "text": "MetaKernel Magics",
			 "url": "https://github.com/calysto/metakernel/blob/master/metakernel/magics/README.md"
			}
		   ],
		   "mimetype": "text/x-octave",
		   "name": "scilab",
		   "version": "0.7.1"
		  }
		 },
		 "nbformat": 4,
		 "nbformat_minor": 0
}
