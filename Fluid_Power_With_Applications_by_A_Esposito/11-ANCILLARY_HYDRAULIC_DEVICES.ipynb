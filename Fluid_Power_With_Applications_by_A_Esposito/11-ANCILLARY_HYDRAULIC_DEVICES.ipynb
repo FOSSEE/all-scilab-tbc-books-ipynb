{
"cells": [
 {
		   "cell_type": "markdown",
	   "metadata": {},
	   "source": [
       "# Chapter 11: ANCILLARY HYDRAULIC DEVICES"
	   ]
	},
{
		   "cell_type": "markdown",
		   "metadata": {},
		   "source": [
			"## Example 11.1_a: find_the_discharge_flow_and_pressure.sci"
		   ]
		  },
  {
"cell_type": "code",
	   "execution_count": null,
	   "metadata": {
	    "collapsed": true
	   },
	   "outputs": [],
"source": [
"// Aim:To find the discharge flow and pressure \n",
"// Given:\n",
"// high inlet flow-rate:\n",
"Q_high_inlet=20; //gpm\n",
"// low inlet pressure:\n",
"p_low_inlet=500; //psi\n",
"// Ratio of piston area to rod area:\n",
"Ratio=5/1;"
   ]
   }
,
{
		   "cell_type": "markdown",
		   "metadata": {},
		   "source": [
			"## Example 11.1_b: SOLUTION_the_discharge_flow_and_pressure.sce"
		   ]
		  },
  {
"cell_type": "code",
	   "execution_count": null,
	   "metadata": {
	    "collapsed": true
	   },
	   "outputs": [],
"source": [
"clc;\n",
"pathname=get_absolute_file_path('11_1_soln.sce')\n",
"filename=pathname+filesep()+'11_1_data.sci'\n",
"exec(filename)\n",
"// Solution:\n",
"// high discharge pressure,\n",
"p_high_discharge=Ratio*p_low_inlet; //psi\n",
"// low discharge flow-rate,\n",
"Q_low_discharge=Q_high_inlet/Ratio; //gpm\n",
"// Results:\n",
"printf('\n  Results:  ')   \n",
"printf('\n The high discharge pressure is %.0f psi.',p_high_discharge)\n",
"printf('\n The low discharge flow-rate is %.0f gpm.',Q_low_discharge)"
   ]
   }
,
{
		   "cell_type": "markdown",
		   "metadata": {},
		   "source": [
			"## Example 11.2_a: determine_the_downstream_oil_temperature.sci"
		   ]
		  },
  {
"cell_type": "code",
	   "execution_count": null,
	   "metadata": {
	    "collapsed": true
	   },
	   "outputs": [],
"source": [
"// Aim:To find the downstream oil temperature\n",
"// Given:\n",
"// temperature of oil flowing through pressure relief valve:\n",
"T_oil=120; //deg F\n",
"// pressure of oil flowing through pressure relief valve:\n",
"p=1000; //psi\n",
"// oil flow through pressure relief valve:\n",
"Q_gpm=10; //gpm"
   ]
   }
,
{
		   "cell_type": "markdown",
		   "metadata": {},
		   "source": [
			"## Example 11.2_b: SOLUTION_the_downstream_oil_temperature.sce"
		   ]
		  },
  {
"cell_type": "code",
	   "execution_count": null,
	   "metadata": {
	    "collapsed": true
	   },
	   "outputs": [],
"source": [
"clc;\n",
"pathname=get_absolute_file_path('11_2_soln.sce')\n",
"filename=pathname+filesep()+'11_2_data.sci'\n",
"exec(filename)\n",
"// Solution:\n",
"// heat generation rate,\n",
"HP=(p*Q_gpm)/1714; //HP\n",
"// heat generation rate in Btu/min,\n",
"HP_btu=HP*42.4; //Btu/min\n",
"// oil flow-rate in lb/min,\n",
"Q_lb=7.42*Q_gpm; //lb/min\n",
"// temperature increase,\n",
"T_increase=HP_btu/(0.42*Q_lb); //deg F\n",
"// downward oil temperature,\n",
"T_downward=T_oil+T_increase; //deg F\n",
"// Results:\n",
"printf('\n  Results:  ')   \n",
"printf('\n The downstream oil temperature is %.1f deg F.',T_downward)"
   ]
   }
,
{
		   "cell_type": "markdown",
		   "metadata": {},
		   "source": [
			"## Example 11.3_a: determine_downstream_oil_temperature_in_SI.sci"
		   ]
		  },
  {
"cell_type": "code",
	   "execution_count": null,
	   "metadata": {
	    "collapsed": true
	   },
	   "outputs": [],
"source": [
"// Aim:To find the downstream oil temperature in SI Unit\n",
"// Given:\n",
"// temperature of oil flowing through pressure relief valve:\n",
"T_oil=50; //deg C\n",
"// pressure of oil flowing through pressure relief valve:\n",
"p=70; //bar\n",
"// oil flow through pressure relief valve:\n",
"Q=0.000632; //m^3/s"
   ]
   }
,
{
		   "cell_type": "markdown",
		   "metadata": {},
		   "source": [
			"## Example 11.3_b: SOLUTION_downstream_oil_temperature_in_SI.sce"
		   ]
		  },
  {
"cell_type": "code",
	   "execution_count": null,
	   "metadata": {
	    "collapsed": true
	   },
	   "outputs": [],
"source": [
"clc;\n",
"pathname=get_absolute_file_path('11_3_soln.sce')\n",
"filename=pathname+filesep()+'11_3_data.sci'\n",
"exec(filename)\n",
"// Solution:\n",
"// heat generation rate,\n",
"kW=((p*10^5)*Q)/1000; //kW\n",
"// oil flow-rate,\n",
"Q_kg_s=895*Q; //kg/s\n",
"// temperature increase,\n",
"T_increase=kW/(1.8*Q_kg_s); //deg C\n",
"// downward oil temperature,\n",
"T_downward=T_oil+T_increase; //deg C\n",
"// Results:\n",
"printf('\n  Results:  ')   \n",
"printf('\n The downstream oil temperature is %.1f deg C.',T_downward)"
   ]
   }
,
{
		   "cell_type": "markdown",
		   "metadata": {},
		   "source": [
			"## Example 11.4_a: find_heat_exchanger_rating_of_system.sci"
		   ]
		  },
  {
"cell_type": "code",
	   "execution_count": null,
	   "metadata": {
	    "collapsed": true
	   },
	   "outputs": [],
"source": [
"// Aim:To find the rating of heat exchanger required to dissipate generated heat\n",
"// Given:\n",
"// oil flow-rate:\n",
"Q=20; //gpm\n",
"// operating pressure:\n",
"p=1000; //psi\n",
"// overall efficiency of pump:\n",
"eff_overall=85; //%\n",
"// power lost due to friction:\n",
"HP_frict=10; //%"
   ]
   }
,
{
		   "cell_type": "markdown",
		   "metadata": {},
		   "source": [
			"## Example 11.4_b: SOLUTION_heat_exchanger_rating_of_system.sce"
		   ]
		  },
  {
"cell_type": "code",
	   "execution_count": null,
	   "metadata": {
	    "collapsed": true
	   },
	   "outputs": [],
"source": [
"clc;\n",
"pathname=get_absolute_file_path('11_4_soln.sce')\n",
"filename=pathname+filesep()+'11_4_data.sci'\n",
"exec(filename)\n",
"// Solution:\n",
"// pump power loss,\n",
"pump_HP_loss=((1/(eff_overall/100))-1)*((p*Q)/1714); //HP\n",
"// PRV average HP loss,\n",
"PRV_loss=0.5*((p*Q)/1714); //HP\n",
"// line average HP loss,\n",
"line_loss=(HP_frict/100)*PRV_loss; //HP\n",
"// total average loss,\n",
"total_loss=pump_HP_loss+PRV_loss+line_loss; //HP\n",
"// heat exchanger rating,\n",
"HEx_rating=total_loss*2544; //Btu/hr\n",
"// Results:\n",
"printf('\n  Results:  ')   \n",
"printf('\n The heat exchanger rating is %.0f Btu/hr.',HEx_rating)\n",
"printf('\n The answer in the program does not match with that in the textbook due to roundoff error (standard ratings) in textbook')"
   ]
   }
,
{
		   "cell_type": "markdown",
		   "metadata": {},
		   "source": [
			"## Example 11.5_a: find_heat_exchanger_rating_in_SI.sci"
		   ]
		  },
  {
"cell_type": "code",
	   "execution_count": null,
	   "metadata": {
	    "collapsed": true
	   },
	   "outputs": [],
"source": [
"// Aim:To find the rating of heat exchanger required to dissipate generated heat in SI unit\n",
"// Given:\n",
"// oil flow-rate:\n",
"Q=0.00126; //m^3/s\n",
"// operating pressure:\n",
"p=70; //bar\n",
"// overall efficiency of pump:\n",
"eff_overall=85; //%\n",
"// power lost due to friction:\n",
"HP_frict=10; //%"
   ]
   }
,
{
		   "cell_type": "markdown",
		   "metadata": {},
		   "source": [
			"## Example 11.5_b: SOLUTION_heat_exchanger_rating_in_SI.sce"
		   ]
		  },
  {
"cell_type": "code",
	   "execution_count": null,
	   "metadata": {
	    "collapsed": true
	   },
	   "outputs": [],
"source": [
"clc;\n",
"pathname=get_absolute_file_path('11_5_soln.sce')\n",
"filename=pathname+filesep()+'11_5_data.sci'\n",
"exec(filename)\n",
"// Solution:\n",
"// pump power loss,\n",
"pump_loss=((1/(eff_overall/100))-1)*((p*10^5*Q)/1000); //kW\n",
"// PRV average HP loss,\n",
"PRV_loss=0.5*((p*10^5*Q)/1000); //kW\n",
"// line average HP loss,\n",
"line_loss=(HP_frict/100)*PRV_loss; //kW\n",
"// total average loss,\n",
"HEx_rating=pump_loss+PRV_loss+line_loss; //kW\n",
"// Results:\n",
"printf('\n  Results:  ')   \n",
"printf('\n The heat exchanger rating is %.2f kW.',HEx_rating)"
   ]
   }
],
"metadata": {
		  "kernelspec": {
		   "display_name": "Scilab",
		   "language": "scilab",
		   "name": "scilab"
		  },
		  "language_info": {
		   "file_extension": ".sce",
		   "help_links": [
			{
			 "text": "MetaKernel Magics",
			 "url": "https://github.com/calysto/metakernel/blob/master/metakernel/magics/README.md"
			}
		   ],
		   "mimetype": "text/x-octave",
		   "name": "scilab",
		   "version": "0.7.1"
		  }
		 },
		 "nbformat": 4,
		 "nbformat_minor": 0
}
