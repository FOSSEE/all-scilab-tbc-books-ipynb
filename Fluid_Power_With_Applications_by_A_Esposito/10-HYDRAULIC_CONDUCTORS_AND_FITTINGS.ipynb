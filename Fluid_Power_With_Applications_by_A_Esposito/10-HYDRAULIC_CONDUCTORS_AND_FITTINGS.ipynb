{
"cells": [
 {
		   "cell_type": "markdown",
	   "metadata": {},
	   "source": [
       "# Chapter 10: HYDRAULIC CONDUCTORS AND FITTINGS"
	   ]
	},
{
		   "cell_type": "markdown",
		   "metadata": {},
		   "source": [
			"## Example 10.1_a: find_minimum_inside_diameter_of_pipe.sci"
		   ]
		  },
  {
"cell_type": "code",
	   "execution_count": null,
	   "metadata": {
	    "collapsed": true
	   },
	   "outputs": [],
"source": [
"// Aim:To find minimum inside diameter of pipe  \n",
"// Given:\n",
"// flow-rate through pipe:\n",
"Q=30; //gpm\n",
"// average fluid velocity:\n",
"v=20; //ft/s"
   ]
   }
,
{
		   "cell_type": "markdown",
		   "metadata": {},
		   "source": [
			"## Example 10.1_b: SOLUTION_minimum_inside_diameter_of_pipe.sce"
		   ]
		  },
  {
"cell_type": "code",
	   "execution_count": null,
	   "metadata": {
	    "collapsed": true
	   },
	   "outputs": [],
"source": [
"clc;\n",
"pathname=get_absolute_file_path('10_1_soln.sce')\n",
"filename=pathname+filesep()+'10_1_data.sci'\n",
"exec(filename)\n",
"// Solution:\n",
"// flow-rate in ft^3/s,\n",
"Q_fps=Q/449; //ft^3/s\n",
"// minimum required pipe flow area,\n",
"A=(Q_fps/v)*144; //in^2\n",
"// minimum inside diameter,\n",
"D=sqrt((4*A)/(%pi)); //in\n",
"// Results:\n",
"printf('\n  Results:  ')   \n",
"printf('\n The minimum inside diameter of pipe is %.3f in.',D)"
   ]
   }
,
{
		   "cell_type": "markdown",
		   "metadata": {},
		   "source": [
			"## Example 10.2_a: find_minimum_inside_diameter_in_SI.sci"
		   ]
		  },
  {
"cell_type": "code",
	   "execution_count": null,
	   "metadata": {
	    "collapsed": true
	   },
	   "outputs": [],
"source": [
"// Aim:To find minimum inside diameter of pipe in Metric units  \n",
"// Given:\n",
"// flow-rate through pipe:\n",
"Q=0.002; //m^3/s\n",
"// average fluid velocity:\n",
"v=6.1; //m/s"
   ]
   }
,
{
		   "cell_type": "markdown",
		   "metadata": {},
		   "source": [
			"## Example 10.2_b: SOLUTION_minimum_inside_diameter_in_SI.sce"
		   ]
		  },
  {
"cell_type": "code",
	   "execution_count": null,
	   "metadata": {
	    "collapsed": true
	   },
	   "outputs": [],
"source": [
"clc;\n",
"pathname=get_absolute_file_path('10_2_soln.sce')\n",
"filename=pathname+filesep()+'10_2_data.sci'\n",
"exec(filename)\n",
"// Solution:\n",
"// minimum required pipe flow area,\n",
"A=(Q/v); //m^2\n",
"// minimum inside diameter,\n",
"D=sqrt((4*A)/(%pi))*1000; //mm\n",
"// Results:\n",
"printf('\n  Results:  ')   \n",
"printf('\n The minimum inside diameter of pipe is %.1f mm.',D)"
   ]
   }
,
{
		   "cell_type": "markdown",
		   "metadata": {},
		   "source": [
			"## Example 10.3_a: find_safe_working_pressure_of_tube.sci"
		   ]
		  },
  {
"cell_type": "code",
	   "execution_count": null,
	   "metadata": {
	    "collapsed": true
	   },
	   "outputs": [],
"source": [
"// Aim:To find safe working pressure for the tube \n",
"// Given:\n",
"// outside diameter of steel tube:\n",
"Do=1.250; //in\n",
"// inside diameter of steel tube:\n",
"Di=1.060; //in\n",
"// tensile strength of steel tube:\n",
"S=55000; //psi\n",
"// factor of safety:\n",
"FS=8;"
   ]
   }
,
{
		   "cell_type": "markdown",
		   "metadata": {},
		   "source": [
			"## Example 10.3_b: SOLUTION_safe_working_pressure_of_tube.sce"
		   ]
		  },
  {
"cell_type": "code",
	   "execution_count": null,
	   "metadata": {
	    "collapsed": true
	   },
	   "outputs": [],
"source": [
"clc;\n",
"pathname=get_absolute_file_path('10_3_soln.sce')\n",
"filename=pathname+filesep()+'10_3_data.sci'\n",
"exec(filename)\n",
"// Solution:\n",
"// wall thickness,\n",
"t=(Do-Di)/2; //in\n",
"// burst pressure,\n",
"BP=(2*t*S)/Di; //psi\n",
"// working pressure,\n",
"WP=BP/FS; //psi\n",
"// Results:\n",
"printf('\n  Results:  ')   \n",
"printf('\n The working pressure of steel tube is %.0f psi.',WP)\n",
"printf('\n The answer in the program is different than that in textbook. It may be due to no.s of significant digit in data and calculation')"
   ]
   }
,
{
		   "cell_type": "markdown",
		   "metadata": {},
		   "source": [
			"## Example 10.4_a: select_proper_size_steel_tube.sci"
		   ]
		  },
  {
"cell_type": "code",
	   "execution_count": null,
	   "metadata": {
	    "collapsed": true
	   },
	   "outputs": [],
"source": [
"// Aim:Refer Example 10-4 for Problem Description\n",
"// Given:\n",
"// flow-rate:\n",
"Q=30; //gpm\n",
"// operating pressure:\n",
"p=1000; //psi\n",
"// maximum velocity:\n",
"v=20; //ft/s\n",
"// tensile strength of material:\n",
"S=55000; //psi\n",
"// factor of safety:\n",
"FS=8;"
   ]
   }
,
{
		   "cell_type": "markdown",
		   "metadata": {},
		   "source": [
			"## Example 10.4_b: SOLUTION_proper_size_steel_tube.sce"
		   ]
		  },
  {
"cell_type": "code",
	   "execution_count": null,
	   "metadata": {
	    "collapsed": true
	   },
	   "outputs": [],
"source": [
"clc;\n",
"pathname=get_absolute_file_path('10_4_soln.sce')\n",
"filename=pathname+filesep()+'10_4_data.sci'\n",
"exec(filename)\n",
"// Solutions:\n",
"// flow-rate,\n",
"Q=Q/449; //ft^3/s\n",
"// minimum required pipe flow area,\n",
"Ai=(Q/v)*144; //in^2\n",
"// minimum inside diameter,\n",
"Di=sqrt((4*Ai)/(%pi)); //in\n",
"// wall thickness,\n",
"t1=0.049; t2=0.065; //in\n",
"// tube inside diameter,\n",
"D1=0.902; D2=0.870; //in\n",
"// burst pressure,\n",
"BP1=(2*t1*S)/D1; //psi\n",
"// working pressure,\n",
"WP1=BP1/FS; //psi\n",
"printf(' \n The working pressure %.0f psi is not adequate (less than %.0f psi) so next case is considered,',WP1,p)\n",
"// burst pressure,\n",
"BP2=(2*t2*S)/D2; //psi\n",
"// working pressure,\n",
"WP2=BP2/FS; //psi\n",
"// ratio of inner diameter to thickness,\n",
"r2=D2/t2;\n",
"printf(' \n The working pressure %.0f psi is greater than %.0f psi) ,',WP2,p)\n",
"// Results:\n",
"printf('\n  Results:  ')\n",
"printf('\n The ratio of inner diameter to length is %.1f.',r2)\n",
"printf('\n The answer in the program is different than that in textbook. It may be due to no.s of significant digit in data and calculation')"
   ]
   }
,
{
		   "cell_type": "markdown",
		   "metadata": {},
		   "source": [
			"## Example 10.5_a: select_proper_size_steel_tube_SI.sci"
		   ]
		  },
  {
"cell_type": "code",
	   "execution_count": null,
	   "metadata": {
	    "collapsed": true
	   },
	   "outputs": [],
"source": [
"// Aim:Refer Example 10-5 for Problem Description\n",
"// Given:\n",
"// flow-rate:\n",
"Q=0.00190; //m^3/s\n",
"// operating pressure:\n",
"p=70; //bars\n",
"// maximum velocity:\n",
"v=6.1; //m/s\n",
"// tensile strength of material:\n",
"S=379; //MPa\n",
"// factor of safety:\n",
"FS=8;"
   ]
   }
,
{
		   "cell_type": "markdown",
		   "metadata": {},
		   "source": [
			"## Example 10.5_b: SOLUTION_proper_size_steel_tube_SI.sce"
		   ]
		  },
  {
"cell_type": "code",
	   "execution_count": null,
	   "metadata": {
	    "collapsed": true
	   },
	   "outputs": [],
"source": [
"clc;\n",
"pathname=get_absolute_file_path('10_5_soln.sce')\n",
"filename=pathname+filesep()+'10_5_data.sci'\n",
"exec(filename)\n",
"// Solutions:\n",
"// minimum required pipe flow area,\n",
"A=(Q/v); //m^2\n",
"// minimum inside diameter,\n",
"ID=sqrt((4*A)/(%pi))*1000; //mm\n",
"// wall thickness,\n",
"t1=1; t2=2; //mm\n",
"// tube inside diameter,\n",
"D1=20; D2=24; //mm\n",
"// burst pressure,\n",
"BP1=(2*(t1/1000)*S)/(D1/1000); //MPa\n",
"// working pressure,\n",
"WP1=(BP1/FS)*10; //bars\n",
"printf(' \n The working pressure %.0f bars is not adequate (less than %.0f bars) so next case is considered,',WP1,p)\n",
"// burst pressure,\n",
"BP2=(2*(t2/1000)*S)/(D2/1000); //MPa\n",
"// working pressure,\n",
"WP2=(BP2/FS)*10;; //MPa\n",
"// ratio of inner diameter to thickness,\n",
"r2=D2/t2;\n",
"printf(' \n The working pressure %.0f bars is greater than %.0f bars) ,',WP2,p)\n",
"// Results:\n",
"printf('\n  Results:  ')\n",
"printf('\n The ratio of inner diameter to length is %.1f.',r2)"
   ]
   }
],
"metadata": {
		  "kernelspec": {
		   "display_name": "Scilab",
		   "language": "scilab",
		   "name": "scilab"
		  },
		  "language_info": {
		   "file_extension": ".sce",
		   "help_links": [
			{
			 "text": "MetaKernel Magics",
			 "url": "https://github.com/calysto/metakernel/blob/master/metakernel/magics/README.md"
			}
		   ],
		   "mimetype": "text/x-octave",
		   "name": "scilab",
		   "version": "0.7.1"
		  }
		 },
		 "nbformat": 4,
		 "nbformat_minor": 0
}
