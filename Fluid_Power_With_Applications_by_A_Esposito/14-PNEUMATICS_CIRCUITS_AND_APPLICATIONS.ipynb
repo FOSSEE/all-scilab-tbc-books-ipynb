{
"cells": [
 {
		   "cell_type": "markdown",
	   "metadata": {},
	   "source": [
       "# Chapter 14: PNEUMATICS CIRCUITS AND APPLICATIONS"
	   ]
	},
{
		   "cell_type": "markdown",
		   "metadata": {},
		   "source": [
			"## Example 14.10_a: calculate_required_size_of_accumulator_SI.sci"
		   ]
		  },
  {
"cell_type": "code",
	   "execution_count": null,
	   "metadata": {
	    "collapsed": true
	   },
	   "outputs": [],
"source": [
"// Aim:Refer Example 14-7 for Problem Description\n",
"// Given:\n",
"// diamter of hydraulic cylinder:\n",
"D=152; //mm\n",
"// cylinder extension:\n",
"L=2.54; //m\n",
"// duration of cylinder extension:\n",
"t=10; //s\n",
"// time between crushing stroke:\n",
"t_crush=5; //min\n",
"// gas precharge pressure:\n",
"p1=84; //bars abs\n",
"// gas charge pressure when pump is turned on:\n",
"p2=210; //bars abs\n",
"// minimum pressure required to actuate load:\n",
"p3=126; //bars abs"
   ]
   }
,
{
		   "cell_type": "markdown",
		   "metadata": {},
		   "source": [
			"## Example 14.10_b: SOLUTION_required_size_of_accumulator_SI.sce"
		   ]
		  },
  {
"cell_type": "code",
	   "execution_count": null,
	   "metadata": {
	    "collapsed": true
	   },
	   "outputs": [],
"source": [
"clc;\n",
"pathname=get_absolute_file_path('14_10_soln.sce')\n",
"filename=pathname+filesep()+'14_10_data.sci'\n",
"exec(filename)\n",
"// Solutions:\n",
"// volume of hydraulic cylinder,\n",
"V=(%pi/4)*L*((D/1000)^2); //m^3\n",
"// volume of cylinder in charged position,\n",
"V2=V/((p2/p3)-1); //m^3\n",
"// volume of cylinder in final position,\n",
"V3=(p2/p3)*V2; //m^3\n",
"// required size of accumulator,\n",
"V1=floor(((p2*V2)/p1)*1000); //L\n",
"// pump flow-rate with accumulator,\n",
"Q_pump_acc=(2*V*1000)/(t_crush*60); //L/s\n",
"// pump hydraulic power with accumulator,\n",
"kW_pump_acc=(Q_pump_acc*10^-3*p2*10^5)/1000; //kW\n",
"// pump flow-rate without accumulator,\n",
"Q_pump_no_acc=V/t; //L/s\n",
"// pump hydraulic power without accumulator,\n",
"kW_pump_no_acc=(Q_pump_no_acc*10^-3*p3*10^5); //kW\n",
"// Results:\n",
"printf('\n  Results:  ')\n",
"printf('\n The required size of accumulator is %.0f L.',V1)\n",
"printf('\n The pump hydraulic horsepower with accumulator is %.2f kW.',kW_pump_acc)\n",
"printf('\n The pump hydraulic horsepower without accumulator is %.1f kW.',kW_pump_no_acc)"
   ]
   }
,
{
		   "cell_type": "markdown",
		   "metadata": {},
		   "source": [
			"## Example 14.1_a: find_pressure_loss_for_given_pipe.sci"
		   ]
		  },
  {
"cell_type": "code",
	   "execution_count": null,
	   "metadata": {
	    "collapsed": true
	   },
	   "outputs": [],
"source": [
"// Aim:To find pressure loss for a 250 ft length of pipe\n",
"// Given:\n",
"// flow-rate:\n",
"Q=100; //scfm\n",
"// receiver pressure:\n",
"p2=150; //psi\n",
"// atmospheric pressure:\n",
"p1=14.7; //psi\n",
"// length of pipe:\n",
"L=250; //ft"
   ]
   }
,
{
		   "cell_type": "markdown",
		   "metadata": {},
		   "source": [
			"## Example 14.1_b: SOLUTION_pressure_loss_for_given_pipe.sce"
		   ]
		  },
  {
"cell_type": "code",
	   "execution_count": null,
	   "metadata": {
	    "collapsed": true
	   },
	   "outputs": [],
"source": [
"clc;\n",
"pathname=get_absolute_file_path('14_1_soln.sce')\n",
"filename=pathname+filesep()+'14_1_data.sci'\n",
"exec(filename)\n",
"// Solution:\n",
"// compression ratio,\n",
"CR=(p2+p1)/p1;\n",
"// from fig 14-3,\n",
"// inside diameter raised to 5.31,\n",
"k=1.2892; //in\n",
"// experimentally determined coefficient,\n",
"c=0.1025/(1)^0.31;\n",
"// pressure loss,\n",
"p_f=(c*L*Q^2)/(3600*CR*k); //psi\n",
"// Results:\n",
"printf('\n  Results:  ')   \n",
"printf('\n The pressure loss for a 250 ft length of pipe is %.2f psi.',p_f)"
   ]
   }
,
{
		   "cell_type": "markdown",
		   "metadata": {},
		   "source": [
			"## Example 14.2_a: find_pressure_loss_with_pipe_valves.sci"
		   ]
		  },
  {
"cell_type": "code",
	   "execution_count": null,
	   "metadata": {
	    "collapsed": true
	   },
	   "outputs": [],
"source": [
"// Aim:To find pressure loss for a  pipe with valves\n",
"// Given:\n",
"// experimentally determined coefficient:\n",
"c=0.1025;\n",
"// compression ratio:\n",
"CR=11.2;\n",
"// receiver pressure:\n",
"p2=150; //psi\n",
"// atmospheric pressure:\n",
"p1=14.7; //psi\n",
"// length of pipe:\n",
"L=250; //ft"
   ]
   }
,
{
		   "cell_type": "markdown",
		   "metadata": {},
		   "source": [
			"## Example 14.2_b: SOLUTION_pressure_loss_with_pipe_valves.sce"
		   ]
		  },
  {
"cell_type": "code",
	   "execution_count": null,
	   "metadata": {
	    "collapsed": true
	   },
	   "outputs": [],
"source": [
"clc;\n",
"pathname=get_absolute_file_path('14_2_soln.sce')\n",
"filename=pathname+filesep()+'14_2_data.sci'\n",
"exec(filename)\n",
"// Solution:\n",
"// from fig 14-3,\n",
"// inside diameter raised to 5.31,\n",
"k=1.2892; //in\n",
"// length of pipe along with valves,\n",
"L=L+(2*0.56)+(3*29.4)+(5*1.5)+(4*2.6)+(6*1.23); //ft\n",
"// pressure loss,\n",
"p_f=(c*L*Q^2)/(3600*CR*k); //psi\n",
"// Results:\n",
"printf('\n  Results:  ')   \n",
"printf('\n The pressure loss for a 250 ft length of pipe is %.2f psi.',p_f)"
   ]
   }
,
{
		   "cell_type": "markdown",
		   "metadata": {},
		   "source": [
			"## Example 14.3_a: determine_cost_of_electricity_per_year.sci"
		   ]
		  },
  {
"cell_type": "code",
	   "execution_count": null,
	   "metadata": {
	    "collapsed": true
	   },
	   "outputs": [],
"source": [
"// Aim:Refer Example 14-3 for Problem Description\n",
"// Given:\n",
"// air flow-rate:\n",
"Q=270; //scfm\n",
"// pressure at which compressor delivers air:\n",
"p_out=100; //psig\n",
"// overall efficiency of compressor:\n",
"eff_o=75; //%\n",
"// pressure at which compressor delivers air taking friction in account:\n",
"p_out1=115; //psig\n",
"// efficiency of electric motor driving compressor:\n",
"eff_mot=92; //%\n",
"// operating time of compressor:\n",
"t=3000; //hr/year  \n",
"// cost of electricity per watt:\n",
"cost_per_wat=0.11; //$/kWh"
   ]
   }
,
{
		   "cell_type": "markdown",
		   "metadata": {},
		   "source": [
			"## Example 14.3_b: SOLUTION_cost_of_electricity_per_year.sce"
		   ]
		  },
  {
"cell_type": "code",
	   "execution_count": null,
	   "metadata": {
	    "collapsed": true
	   },
	   "outputs": [],
"source": [
"clc;\n",
"pathname=get_absolute_file_path('14_3_soln.sce')\n",
"filename=pathname+filesep()+'14_3_data.sci'\n",
"exec(filename)\n",
"// Solutions:\n",
"// inlet pressure,\n",
"p_in=14.7; //psi\n",
"// actual horsepower at 100 psig,\n",
"act_HP=((p_in*Q)/(65.4*(eff_o/100)))*(((p_out+14.7)/p_in)^0.286-1); //HP\n",
"// actual horsepower at 115 psig,\n",
"act_HP1=((p_in*Q)/(65.4*(eff_o/100)))*(((p_out1+14.7)/p_in)^0.286-1); //HP\n",
"// actual power at 100 psig in kW,\n",
"act_kW=act_HP*0.746; //kW\n",
"// electric power required to drive electric motor at 100 psig,\n",
"elect_kW=act_kW/(eff_mot/100); //kW\n",
"// cost of electricity per year at 100 psig,\n",
"yearly_cost=elect_kW*t*cost_per_wat; //$/yr\n",
"// actual power at 115 psig in kW,\n",
"act_kW1=act_HP1*0.746; //kW\n",
"// electric power required to drive electric motor at 115 psig,\n",
"elect_kW1=act_kW1/(eff_mot/100); //kW\n",
"// cost of electricity per year at 115 psig,\n",
"yearly_cost1=elect_kW1*t*cost_per_wat; //$/yr\n",
"// Results:\n",
"printf('\n  Results:  ')\n",
"printf('\n The actual HP required to drive the compressor at 100 psig is %.1f HP.',act_HP)\n",
"printf('\n The actual HP required to drive the compressor at 115 psig is %.1f HP.',act_HP1)\n",
"printf('\n The cost of electricity per year at 100 psig is %.0f $.',yearly_cost)\n",
"printf('\n The cost of electricity per year at 115 psig is %.0f $.',yearly_cost1)\n",
"printf('\n The answer in the program does not match with that in the textbook due to roundoff error (standard electric ratings)')"
   ]
   }
,
{
		   "cell_type": "markdown",
		   "metadata": {},
		   "source": [
			"## Example 14.4_a: determine_cost_of_leakage_per_year.sci"
		   ]
		  },
  {
"cell_type": "code",
	   "execution_count": null,
	   "metadata": {
	    "collapsed": true
	   },
	   "outputs": [],
"source": [
"// Aim:To determine the yearly cost of leakage of pneumatic system\n",
"// Given:\n",
"// air flow-rate:\n",
"Q=270; //scfm\n",
"// air flow-rate leakage:\n",
"Q_leak=70; //scfm\n",
"// // electric power required to drive electric motor at 100 psig:\n",
"elect_kW=52.3; //kW\n",
"// cost of electricity per watt:\n",
"cost_per_wat=0.11; //$/kWh"
   ]
   }
,
{
		   "cell_type": "markdown",
		   "metadata": {},
		   "source": [
			"## Example 14.4_b: SOLUTION_cost_of_leakage_per_year.sce"
		   ]
		  },
  {
"cell_type": "code",
	   "execution_count": null,
	   "metadata": {
	    "collapsed": true
	   },
	   "outputs": [],
"source": [
"clc;\n",
"pathname=get_absolute_file_path('14_4_soln.sce')\n",
"filename=pathname+filesep()+'14_4_data.sci'\n",
"exec(filename)\n",
"// Solutions:\n",
"// electric power required to compensate for leakage,\n",
"power_rate=(Q_leak/Q)*elect_kW; //kW\n",
"// rounding off the above answer\n",
"power_rate=fix(power_rate)+(fix(round((power_rate-fix(power_rate))*10))/10); //kW\n",
"// cost of electricity per year at 100 psig,\n",
"yearly_leak=power_rate*24*365*cost_per_wat; //$/yr\n",
"// Results:\n",
"printf('\n  Results:  ')\n",
"printf('\n The cost of electricity for leakage per year at 100 psig is %.0f $.',yearly_leak)\n",
"printf('\n The answer in the program does not match with that in the textbook due to roundoff error(standard electric ratings)')"
   ]
   }
,
{
		   "cell_type": "markdown",
		   "metadata": {},
		   "source": [
			"## Example 14.5_a: how_heavy_object_can_be_lifted.sci"
		   ]
		  },
  {
"cell_type": "code",
	   "execution_count": null,
	   "metadata": {
	    "collapsed": true
	   },
	   "outputs": [],
"source": [
"// Aim:Refer Example 14-5 for Problem Description\n",
"// Given:\n",
"// diameter of suction cup lip outer circle:\n",
"Do=6; //in\n",
"// diameter of suction cup inner lip circle:\n",
"Di=5; //in\n",
"// atmospheric pressure:\n",
"p_atm=14.7; //psi\n",
"// suction pressure:\n",
"p_suc=-10; //psi"
   ]
   }
,
{
		   "cell_type": "markdown",
		   "metadata": {},
		   "source": [
			"## Example 14.5_b: SOLUTION_heavy_object_can_be_lifted.sce"
		   ]
		  },
  {
"cell_type": "code",
	   "execution_count": null,
	   "metadata": {
	    "collapsed": true
	   },
	   "outputs": [],
"source": [
"clc;\n",
"pathname=get_absolute_file_path('14_5_soln.sce')\n",
"filename=pathname+filesep()+'14_5_data.sci'\n",
"exec(filename)\n",
"// Solution:\n",
"// suction pressure in absolute,\n",
"p_suc_abs=p_suc+p_atm; //psia\n",
"// maximum weight that suction cup can lift,\n",
"F=ceil((p_atm*(%pi/4)*Do^2)-(p_suc_abs*(%pi/4)*Di^2)); //lb\n",
"// maximum weight suction cup can lift with perfect vaccum,\n",
"W=p_atm*(%pi/4)*Do^2; //lb\n",
"// Results:\n",
"printf('\n  Results:  ')   \n",
"printf('\n The maximum weight that suction cup can lift is %.0f lb.',F)\n",
"printf('\n The maximum weight that suction cup can lift with perfect vacuum is %.0f lb.',W)"
   ]
   }
,
{
		   "cell_type": "markdown",
		   "metadata": {},
		   "source": [
			"## Example 14.6_a: determine_time_for_achieving_vacuum_pressure.sci"
		   ]
		  },
  {
"cell_type": "code",
	   "execution_count": null,
	   "metadata": {
	    "collapsed": true
	   },
	   "outputs": [],
"source": [
"// Aim:To determine the time required to achieve the desired vacuum pressure\n",
"// Given:\n",
"// total volume of space in the suction cup:\n",
"V=6; //ft^3\n",
"// flow-rate produced by vacuum pump:\n",
"Q=4; //scfm\n",
"// desired suction pressure:\n",
"p_vacuum=6; //in Hg abs\n",
"// atmospheric pressure:\n",
"p_atm=30; //in Hg abs"
   ]
   }
,
{
		   "cell_type": "markdown",
		   "metadata": {},
		   "source": [
			"## Example 14.6_b: SOLUTION_time_for_achieving_vacuum_pressure.sce"
		   ]
		  },
  {
"cell_type": "code",
	   "execution_count": null,
	   "metadata": {
	    "collapsed": true
	   },
	   "outputs": [],
"source": [
"clc;\n",
"pathname=get_absolute_file_path('14_6_soln.sce')\n",
"filename=pathname+filesep()+'14_6_data.sci'\n",
"exec(filename)\n",
"// Solutions:\n",
"// time required to achieve the desired vacuum pressure,\n",
"t=(V/Q)*log(p_atm/p_vacuum); //min\n",
"// time required to achieve perfect vacuum pressure,\n",
"t1=(V/Q)*log(p_atm/0.5); //min\n",
"// Results:\n",
"printf('\n  Results:  ')\n",
"printf('\n The time required to achieve the desired vacuum pressure is %.2f min.',t)\n",
"printf('\n The time required to achieve perfect vacuum pressure is %.2f min.',t1)"
   ]
   }
,
{
		   "cell_type": "markdown",
		   "metadata": {},
		   "source": [
			"## Example 14.7_a: calculate_required_size_of_the_accumulator.sci"
		   ]
		  },
  {
"cell_type": "code",
	   "execution_count": null,
	   "metadata": {
	    "collapsed": true
	   },
	   "outputs": [],
"source": [
"// Aim:Refer Example 14-7 for Problem Description\n",
"// Given:\n",
"// diamter of hydraulic cylinder:\n",
"D=6; //in\n",
"// cylinder extension:\n",
"L=100; //in\n",
"// duration of cylinder extension:\n",
"t=10; //s\n",
"// time between crushing stroke:\n",
"t_crush=5; //min\n",
"// gas precharge pressure:\n",
"p1=1200; //psia\n",
"// gas charge pressure when pump is turned on:\n",
"p2=3000; //psia\n",
"// minimum pressure required to actuate load:\n",
"p3=1800; //psia"
   ]
   }
,
{
		   "cell_type": "markdown",
		   "metadata": {},
		   "source": [
			"## Example 14.7_b: SOLUTION_required_size_of_the_accumulator.sce"
		   ]
		  },
  {
"cell_type": "code",
	   "execution_count": null,
	   "metadata": {
	    "collapsed": true
	   },
	   "outputs": [],
"source": [
"clc;\n",
"pathname=get_absolute_file_path('14_7_soln.sce')\n",
"filename=pathname+filesep()+'14_7_data.sci'\n",
"exec(filename)\n",
"// Solutions:\n",
"// volume of hydraulic cylinder,\n",
"V=(%pi/4)*L*(D^2); //in^3\n",
"// volume of cylinder in charged position,\n",
"V2=V/((p2/p3)-1); //in^3\n",
"// volume of cylinder in final position,\n",
"V3=(p2/p3)*V2; //in^3\n",
"// required size of accumulator,\n",
"V1=((p2*V2)/p1)/231; //gal\n",
"// rounding off the above answer,\n",
"V1=fix(V1)+(fix(floor((V1-fix(V1))*10))/10); //gal\n",
"// pump flow-rate with accumulator,\n",
"Q_pump_acc=((2*V)/231)/t_crush; //gpm\n",
"// rounding off the above answer\n",
"Q_pump_acc=fix(Q_pump_acc)+(fix(ceil((Q_pump_acc-fix(Q_pump_acc))*100))/100); //gpm\n",
"// pump hydraulic power with accumulator,\n",
"HP_pump_acc=(Q_pump_acc*p2)/1714; //HP\n",
"// pump flow-rate without accumulator,\n",
"Q_pump_no_acc=(V/231)/(t/60); //gpm\n",
"// pump hydraulic power without accumulator,\n",
"HP_pump_no_acc=(Q_pump_no_acc*p3)/1714; //HP\n",
"// Results:\n",
"printf('\n  Results:  ')\n",
"printf('\n The required size of accumulator is %.1f gal.',V1)\n",
"printf('\n The pump hydraulic horsepower with accumulator is %.2f HP.',HP_pump_acc)\n",
"printf('\n The pump hydraulic horsepower without accumulator is %.1f HP.',HP_pump_no_acc)\n",
"printf('\n The answer in the program is different than that in textbook. It may be due to no.s of significant digit in data and calculation')"
   ]
   }
,
{
		   "cell_type": "markdown",
		   "metadata": {},
		   "source": [
			"## Example 14.8_a: find_electricity_cost_per_year_SI.sci"
		   ]
		  },
  {
"cell_type": "code",
	   "execution_count": null,
	   "metadata": {
	    "collapsed": true
	   },
	   "outputs": [],
"source": [
"// Aim:To calculate the cost of electricity per year in Metric Unit\n",
"// Given:\n",
"// air flow-rate:\n",
"Q=7.65; //m^3/min\n",
"// pressure at which compressor delivers air:\n",
"p_out=687; //kPa gage\n",
"// efficiency of compressor:\n",
"eff_o=75; //%\n",
"// efficiency of electric motor driving compressor:\n",
"eff_mot=92; //%\n",
"// operating time of compressor per year:\n",
"t=3000; //hr  \n",
"// cost of electricity:\n",
"cost_per_wat=0.11; //$/kWh"
   ]
   }
,
{
		   "cell_type": "markdown",
		   "metadata": {},
		   "source": [
			"## Example 14.8_b: SOLUTION_electricity_cost_per_year_SI.sce"
		   ]
		  },
  {
"cell_type": "code",
	   "execution_count": null,
	   "metadata": {
	    "collapsed": true
	   },
	   "outputs": [],
"source": [
"clc;\n",
"pathname=get_absolute_file_path('14_8_soln.sce')\n",
"filename=pathname+filesep()+'14_8_data.sci'\n",
"exec(filename)\n",
"// Solutions:\n",
"// inlet pressure,\n",
"p_in=101; //kPa\n",
"// actual power,\n",
"act_kW=((p_in*Q)/(17.1*(eff_o/100)))*(((p_out+101)/p_in)^0.286-1); //kW\n",
"// electric power required to drive electric motor,\n",
"elect_kW=act_kW/(eff_mot/100); //kW\n",
"// rounding off the above answer\n",
"elect_kW=fix(elect_kW)+(fix(round((elect_kW-fix(elect_kW))*10))/10); //kW\n",
"// cost of electricity,\n",
"yearly_cost=elect_kW*t*cost_per_wat; //$/yr\n",
"// Results:\n",
"printf('\n  Results:  ')\n",
"printf('\n The cost of electricity per year is %.0f $.',yearly_cost)\n",
"printf('\n The answer in the program does not match with that in the textbook due to roundoff error (standard electric ratings)')"
   ]
   }
,
{
		   "cell_type": "markdown",
		   "metadata": {},
		   "source": [
			"## Example 14.9_a: what_flowrate_vacuum_pump_must_deliver.sci"
		   ]
		  },
  {
"cell_type": "code",
	   "execution_count": null,
	   "metadata": {
	    "collapsed": true
	   },
	   "outputs": [],
"source": [
"// Aim:To find the flow-rate to be delivered by vacuum pump\n",
"// Given:\n",
"// lip outside diameter of suction cup:\n",
"Do=100; //mm\n",
"// lip inside diameter of suction cup:\n",
"Di=80; //mm\n",
"// weight of steel sheets:\n",
"F=1000; //N\n",
"// numbers of suction cups:\n",
"N=4; \n",
"// total volume of space inside the suction cup:\n",
"V=0.15; //m^3\n",
"// factor of safety:\n",
"f=2;\n",
"// time required to produce desired vacuum pressure:\n",
"t=1; //min"
   ]
   }
,
{
		   "cell_type": "markdown",
		   "metadata": {},
		   "source": [
			"## Example 14.9_b: SOLUTION_flowrate_vacuum_pump_must_deliver.sce"
		   ]
		  },
  {
"cell_type": "code",
	   "execution_count": null,
	   "metadata": {
	    "collapsed": true
	   },
	   "outputs": [],
"source": [
"clc;\n",
"pathname=get_absolute_file_path('14_9_soln.sce')\n",
"filename=pathname+filesep()+'14_9_data.sci'\n",
"exec(filename)\n",
"// Solutions:\n",
"// atmospheric pressure,\n",
"p_atm=101000; //Pa\n",
"// lip outside area of suction cup,\n",
"Ao=(%pi/4)*(Do/1000)^2; //m^2\n",
"// lip inside area of suction cup,\n",
"Ai=(%pi/4)*(Di/1000)^2; //m^2\n",
"// required vacuum pressure,\n",
"p=((p_atm*Ao)-((F*f)/N))/Ai; //Pa abs\n",
"// flow-rate to be delivered by vacuum pump,\n",
"Q=(V/t)*log(p_atm/p); //m^3/min\n",
"// rounding off the above answer\n",
"Q=fix(Q)+(fix(ceil((Q-fix(Q))*10000))/10000); //m^3/min\n",
"// Results:\n",
"printf('\n  Results:  ')\n",
"printf('\n The flow-rate of air to be delivered by vacuum pump is %.4f m^3/min.',Q)"
   ]
   }
],
"metadata": {
		  "kernelspec": {
		   "display_name": "Scilab",
		   "language": "scilab",
		   "name": "scilab"
		  },
		  "language_info": {
		   "file_extension": ".sce",
		   "help_links": [
			{
			 "text": "MetaKernel Magics",
			 "url": "https://github.com/calysto/metakernel/blob/master/metakernel/magics/README.md"
			}
		   ],
		   "mimetype": "text/x-octave",
		   "name": "scilab",
		   "version": "0.7.1"
		  }
		 },
		 "nbformat": 4,
		 "nbformat_minor": 0
}
