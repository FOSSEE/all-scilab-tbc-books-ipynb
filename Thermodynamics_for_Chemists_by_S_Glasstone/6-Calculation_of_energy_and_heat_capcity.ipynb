{
"cells": [
 {
		   "cell_type": "markdown",
	   "metadata": {},
	   "source": [
       "# Chapter 6: Calculation of energy and heat capcity"
	   ]
	},
{
		   "cell_type": "markdown",
		   "metadata": {},
		   "source": [
			"## Example 6.1: example_1.sce"
		   ]
		  },
  {
"cell_type": "code",
	   "execution_count": null,
	   "metadata": {
	    "collapsed": true
	   },
	   "outputs": [],
"source": [
"clc\n",
"//initialisation of variables\n",
"clear\n",
"m= 5.313*10^-23 //g\n",
"k= 1.38*10^-16 \n",
"T= 298 //K\n",
"R= 82.06 //ml-atm /mol K\n",
"h= 6.624*10^-27 //J /mol\n",
"//CALCULATIONS\n",
"Qt= (2*%pi*m*k*T)^1.5*R*T/h^3\n",
"//RESULTS\n",
"printf ('Qt = %.2e ',Qt)"
   ]
   }
,
{
		   "cell_type": "markdown",
		   "metadata": {},
		   "source": [
			"## Example 6.2: example_2.sce"
		   ]
		  },
  {
"cell_type": "code",
	   "execution_count": null,
	   "metadata": {
	    "collapsed": true
	   },
	   "outputs": [],
"source": [
"clc\n",
"//initialisation of variables\n",
"clear\n",
"Qe= 4.029\n",
"Qe1= -37.02\n",
"Qe2= 4.695*10^4\n",
"T= 300 //K\n",
"R= 1.98 //cal /mol K\n",
"Qe3= 4.158\n",
"Qe4= -200.8\n",
"Qe5= 2.546*10^5\n",
"T1= 500 //K\n",
"//calculations\n",
"Ce= R*((Qe2/Qe)-(Qe1/Qe)^2)/T^2\n",
"Ce1= R*((Qe5/Qe3)-(Qe4/Qe3)^2)/T1^2\n",
"//RESULTS\n",
"printf ('electronic contribution = %.3f cal deg^-1.g.atom^-1',Ce)\n",
"printf ('\n electronic contribution = %.3f cal deg^-1.g.atom^-1',Ce1)"
   ]
   }
,
{
		   "cell_type": "markdown",
		   "metadata": {},
		   "source": [
			"## Example 6.3: example_3.sce"
		   ]
		  },
  {
"cell_type": "code",
	   "execution_count": null,
	   "metadata": {
	    "collapsed": true
	   },
	   "outputs": [],
"source": [
"clc\n",
"//initialisation of variables\n",
"clear\n",
"I= 0.459*10^-40 //g cm^2\n",
"k= 1.38*10^-16\n",
"T= 300 //K\n",
"h= 6.624*10^-27 //J/mol\n",
"I1= 245*10^-40 // g cm^2\n",
"//CALCULATIONS\n",
"Qr= I*k*T*8*%pi^2*0.5/h^2\n",
"Qr1= I1*k*T*8*%pi^2/h^2\n",
"//RESULTS\n",
"printf ('Rotational Partition = %.2f ',Qr)\n",
"printf ('\n Rotational Partition = %.f ',Qr1)"
   ]
   }
,
{
		   "cell_type": "markdown",
		   "metadata": {},
		   "source": [
			"## Example 6.4: example_4.sce"
		   ]
		  },
  {
"cell_type": "code",
	   "execution_count": null,
	   "metadata": {
	    "collapsed": true
	   },
	   "outputs": [],
"source": [
"clc\n",
"//initialisation of variables\n",
"clear\n",
"h= 1.439\n",
"T= 300 //K\n",
"w= 4405 //cm^-1\n",
"w1= 565 //cm^-1\n",
"//CALCULATIONS\n",
"Qv1= (1-%e^(-h*w/T))^-1\n",
"Qv2= (1-%e^(-h*w1/T))^-1\n",
"//RESULTS\n",
"printf ('Vibrational Partition = %.3f ',Qv1)\n",
"printf ('\n Vibrational Partition = %.3f ',Qv2)"
   ]
   }
,
{
		   "cell_type": "markdown",
		   "metadata": {},
		   "source": [
			"## Example 6.5: example_5.sce"
		   ]
		  },
  {
"cell_type": "code",
	   "execution_count": null,
	   "metadata": {
	    "collapsed": true
	   },
	   "outputs": [],
"source": [
"clc\n",
"//initialisation of variables\n",
"clear\n",
"h= 1.439\n",
"T= 300 //K\n",
"w= 565 //cm^-1\n",
"R= 1.98 //cal /mol K\n",
"n= 0.56\n",
"//CALCULATIONS\n",
"Qr= h*w/T\n",
"Cv= n*R\n",
"//RESULTS\n",
"printf ('Vibrational Partition = %.2f ',Qr)\n",
"printf ('\n Cv = %.2f cal deg^-1 mole^-1',Cv)"
   ]
   }
,
{
		   "cell_type": "markdown",
		   "metadata": {},
		   "source": [
			"## Example 6.6: example_6.sce"
		   ]
		  },
  {
"cell_type": "code",
	   "execution_count": null,
	   "metadata": {
	    "collapsed": true
	   },
	   "outputs": [],
"source": [
"clc\n",
"//initialisation of variables\n",
"clear\n",
"R= 1.986 //cal deg^-1 mole^-1\n",
"cv1= 0.392 //cal deg^-1 mole^-1\n",
"cv2= 0.004 //cal deg^-1 mole^-1\n",
"cv3= 0.003 //cal deg^-1 mole^-1\n",
"cv4= 1.265 //cal deg^-1 mole^-1\n",
"cv5= 0.247 //cal deg^-1 mole^-1\n",
"cv6= 0.225 //cal deg^-1 mole^-1\n",
"//CALCULATIONS\n",
"Cv = 3*R+cv1+cv2+cv3\n",
"Cv1= 3*R+cv4+cv5+cv6\n",
"//RESULTS\n",
"printf ('Total heat capacity = %.2f cal deg^-1 mole^-1',Cv)\n",
"printf ('\n Total heat capacity = %.2f cal deg^-1 mole^-1',Cv1)"
   ]
   }
,
{
		   "cell_type": "markdown",
		   "metadata": {},
		   "source": [
			"## Example 6.7: example_7.sce"
		   ]
		  },
  {
"cell_type": "code",
	   "execution_count": null,
	   "metadata": {
	    "collapsed": true
	   },
	   "outputs": [],
"source": [
"clc\n",
"//initialisation of variables\n",
"clear\n",
"R= 1.98 //cal/mol K\n",
"//CALCULATIONS\n",
"Cv= 2.856*R\n",
"//RESULTS\n",
"printf ('Cv = %.2f cal deg^-1 g.atom^-1',Cv)"
   ]
   }
,
{
		   "cell_type": "markdown",
		   "metadata": {},
		   "source": [
			"## Example 6.8: example_8.sce"
		   ]
		  },
  {
"cell_type": "code",
	   "execution_count": null,
	   "metadata": {
	    "collapsed": true
	   },
	   "outputs": [],
"source": [
"clc\n",
"//initialisation of variables\n",
"clear\n",
"R= 1.98 //cal/mol K\n",
"n= 3\n",
"//CALCULATIONS\n",
"Cv= n*R*0.8673\n",
"//RESULTS\n",
"printf ('Cv = %.2f cal deg^-1 g.atom^-1',Cv)"
   ]
   }
,
{
		   "cell_type": "markdown",
		   "metadata": {},
		   "source": [
			"## Example 6.9: example_9.sce"
		   ]
		  },
  {
"cell_type": "code",
	   "execution_count": null,
	   "metadata": {
	    "collapsed": true
	   },
	   "outputs": [],
"source": [
"clc\n",
"//initialisation of variables\n",
"clear\n",
"R= 1.98 //cal/mol K\n",
"n= 3\n",
"//CALCULATIONS\n",
"Cv= n*R*0.904\n",
"//RESULTS\n",
"printf ('Cv = %.2f cal deg^-1.g.atom^-1',Cv)"
   ]
   }
],
"metadata": {
		  "kernelspec": {
		   "display_name": "Scilab",
		   "language": "scilab",
		   "name": "scilab"
		  },
		  "language_info": {
		   "file_extension": ".sce",
		   "help_links": [
			{
			 "text": "MetaKernel Magics",
			 "url": "https://github.com/calysto/metakernel/blob/master/metakernel/magics/README.md"
			}
		   ],
		   "mimetype": "text/x-octave",
		   "name": "scilab",
		   "version": "0.7.1"
		  }
		 },
		 "nbformat": 4,
		 "nbformat_minor": 0
}
