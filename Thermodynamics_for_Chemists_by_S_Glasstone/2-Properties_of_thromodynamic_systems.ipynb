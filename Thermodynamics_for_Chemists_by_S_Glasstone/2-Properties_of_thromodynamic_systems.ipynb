{
"cells": [
 {
		   "cell_type": "markdown",
	   "metadata": {},
	   "source": [
       "# Chapter 2: Properties of thromodynamic systems"
	   ]
	},
{
		   "cell_type": "markdown",
		   "metadata": {},
		   "source": [
			"## Example 2.1: example_2.sce"
		   ]
		  },
  {
"cell_type": "code",
	   "execution_count": null,
	   "metadata": {
	    "collapsed": true
	   },
	   "outputs": [],
"source": [
"clc\n",
"//initialisation of variables\n",
"clear\n",
"T= 40 //C\n",
"R= 0.0820 //lit-atm deg^-1 mol^-1\n",
"v= 0.381 //lit\n",
"b= 0.043 //lit\n",
"a= 3.6 \n",
"//CALCULATIONS\n",
"P= (R*(273+T)/(v-b))-(a/v^2)\n",
"//RESULTS\n",
"printf ('Pressure = %.1f atm',P)"
   ]
   }
,
{
		   "cell_type": "markdown",
		   "metadata": {},
		   "source": [
			"## Example 2.2: example_2.sce"
		   ]
		  },
  {
"cell_type": "code",
	   "execution_count": null,
	   "metadata": {
	    "collapsed": true
	   },
	   "outputs": [],
"source": [
"clc\n",
"//initialisation of variables\n",
"clear\n",
"T= 0 //C\n",
"R= 0.0820 //lit-atm deg^-1 mol^-1\n",
"p= 400 //atm\n",
"//CALCULATIONS\n",
"V= R*(273+T)/p\n",
"//RESULTS\n",
"printf ('Volume of the ideal gas = %.4f lit mol^-1',V)"
   ]
   }
,
{
		   "cell_type": "markdown",
		   "metadata": {},
		   "source": [
			"## Example 2.3: example_3.sce"
		   ]
		  },
  {
"cell_type": "code",
	   "execution_count": null,
	   "metadata": {
	    "collapsed": true
	   },
	   "outputs": [],
"source": [
"clc\n",
"//initialisation of variables\n",
"clear\n",
"p= 400 //atm\n",
"T= 273 //K\n",
"R= 0.0820 //lit-atm deg^-1 mol^-1\n",
"k= 1.27\n",
"//CALCULATIONS\n",
"V= k*R*T/p\n",
"//RESULTS\n",
"printf ('Volume of the ideal gas = %.4f lit mol^-1',V)"
   ]
   }
,
{
		   "cell_type": "markdown",
		   "metadata": {},
		   "source": [
			"## Example 2.4: example_4.sce"
		   ]
		  },
  {
"cell_type": "code",
	   "execution_count": null,
	   "metadata": {
	    "collapsed": true
	   },
	   "outputs": [],
"source": [
"clc\n",
"//initialisation of variables\n",
"clear\n",
"V= 0.381 //lit\n",
"T= 313 //K\n",
"R= 0.0820 //lit-atm deg^-1 mol^-1\n",
"pc= 72.9 //atm\n",
"//CALCULATIONS\n",
"p= R*T/V\n",
"r= p/pc\n",
"//RESULTS\n",
"printf ('Pressure of carbon dioxide gas = %.1f atm',p)\n",
"printf ('\n ratio = %.3f ',r)"
   ]
   }
,
{
		   "cell_type": "markdown",
		   "metadata": {},
		   "source": [
			"## Example 2.5: example_5.sce"
		   ]
		  },
  {
"cell_type": "code",
	   "execution_count": null,
	   "metadata": {
	    "collapsed": true
	   },
	   "outputs": [],
"source": [
"clc\n",
"//initialisation of variables\n",
"clear\n",
"n1= 0.25 //mole\n",
"n2= 0.75 //mole\n",
"l= 0.0832 //lit\n",
"T= 50 //C\n",
"p1= 404 //atm\n",
"p2= 390 //atm\n",
"//CALCULATIONS\n",
"P= n1*p1+n2*p2\n",
"//RESULTS\n",
"printf ('Total Pressure = %.f atm',P)"
   ]
   }
,
{
		   "cell_type": "markdown",
		   "metadata": {},
		   "source": [
			"## Example 2.6: example_6.sce"
		   ]
		  },
  {
"cell_type": "code",
	   "execution_count": null,
	   "metadata": {
	    "collapsed": true
	   },
	   "outputs": [],
"source": [
"clc\n",
"clear\n",
"//initialisation of variables\n",
"n1= 0.25 //mole\n",
"nh= 0.75 //mole\n",
"p= 400 //atm\n",
"T= 50 //C\n",
"vn= 0.083 //lit\n",
"vh= 0.081 //lit\n",
"//CALCULATIONS\n",
"V= n1*vn+vh*nh\n",
"//RESULTS\n",
"printf ('Volume of given mixture is = %.3f lit',V)"
   ]
   }
],
"metadata": {
		  "kernelspec": {
		   "display_name": "Scilab",
		   "language": "scilab",
		   "name": "scilab"
		  },
		  "language_info": {
		   "file_extension": ".sce",
		   "help_links": [
			{
			 "text": "MetaKernel Magics",
			 "url": "https://github.com/calysto/metakernel/blob/master/metakernel/magics/README.md"
			}
		   ],
		   "mimetype": "text/x-octave",
		   "name": "scilab",
		   "version": "0.7.1"
		  }
		 },
		 "nbformat": 4,
		 "nbformat_minor": 0
}
