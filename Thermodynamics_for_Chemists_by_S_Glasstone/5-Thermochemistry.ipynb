{
"cells": [
 {
		   "cell_type": "markdown",
	   "metadata": {},
	   "source": [
       "# Chapter 5: Thermochemistry"
	   ]
	},
{
		   "cell_type": "markdown",
		   "metadata": {},
		   "source": [
			"## Example 5.10: example_10.sce"
		   ]
		  },
  {
"cell_type": "code",
	   "execution_count": null,
	   "metadata": {
	    "collapsed": true
	   },
	   "outputs": [],
"source": [
"clc\n",
"//initialisation of variables\n",
"clear\n",
"c1= 9.3 //cal deg^-1\n",
"c2= 6.3 //cal deg^-1\n",
"n= 2\n",
"dH= -57500 //cal\n",
"V= 3 //cc\n",
"v1= 3.5 //cc\n",
"T1= 25 //C\n",
"p1= 1 //atm\n",
"//CALCULATIONS\n",
"T2= (-dH/(c1+n*c2))+298\n",
"p2= p1*V*T2/(v1*(273+T1))\n",
"//RESULTS\n",
"printf ('Temperature final = %.f K',T2)\n",
"printf ('\n pressure final = %.1f atm',p2)"
   ]
   }
,
{
		   "cell_type": "markdown",
		   "metadata": {},
		   "source": [
			"## Example 5.11: example_11.sce"
		   ]
		  },
  {
"cell_type": "code",
	   "execution_count": null,
	   "metadata": {
	    "collapsed": true
	   },
	   "outputs": [],
"source": [
"clc\n",
"//initialisation of variables\n",
"clear\n",
"Hc= 234.4 //kcal\n",
"Hdc= 300 //kcal\n",
"Hch= 436.5 //kcal\n",
"Hco= 152 //kcal\n",
"Hsco= 70 //kcal\n",
"Hoh= 110.2 //kcal\n",
"Hoo= 885 //kcal\n",
"Hb= 38 //kcal\n",
"Hc= 28 //kcal\n",
"Ha= 206 //kcal\n",
"H1co= 2128 //kcal\n",
"H1oh= 661 //kcal\n",
"H1c= 231 //kcal\n",
"//CALCULATIONS\n",
"dH= Hc+Hdc+Hch+Hco+Hsco+Hoh+Hoo+Ha+Hb+Hc-H1co-H1oh-H1c\n",
"//RESULTS\n",
"printf ('Heat of combustion = %.f kcal',dH)"
   ]
   }
,
{
		   "cell_type": "markdown",
		   "metadata": {},
		   "source": [
			"## Example 5.1: example_1.sce"
		   ]
		  },
  {
"cell_type": "code",
	   "execution_count": null,
	   "metadata": {
	    "collapsed": true
	   },
	   "outputs": [],
"source": [
"clc\n",
"//initialisation of variables\n",
"clear\n",
"Q1= -1227 //kcal\n",
"R= 2*10^-3 //kcal\n",
"T= 25 //C\n",
"dn= -2\n",
"//CALCULATIONS\n",
"Qp= Q1+R*(273+T)*dn\n",
"//RESULTS\n",
"printf ('Heat of reaction = %.1f kcal',Qp)"
   ]
   }
,
{
		   "cell_type": "markdown",
		   "metadata": {},
		   "source": [
			"## Example 5.2: example_2.sce"
		   ]
		  },
  {
"cell_type": "code",
	   "execution_count": null,
	   "metadata": {
	    "collapsed": true
	   },
	   "outputs": [],
"source": [
"clc\n",
"//initialisation of variables\n",
"clear\n",
"H1= -337.3 //kcal\n",
"H2= -68.3 //kcal\n",
"H3= -372.8 //kcal\n",
"//CALCULATIONS\n",
"Ht= H1+H2-H3\n",
"//RESULTS\n",
"printf ('Heat change of reaction = %.1f kcal',Ht)"
   ]
   }
,
{
		   "cell_type": "markdown",
		   "metadata": {},
		   "source": [
			"## Example 5.3: example_3.sce"
		   ]
		  },
  {
"cell_type": "code",
	   "execution_count": null,
	   "metadata": {
	    "collapsed": true
	   },
	   "outputs": [],
"source": [
"clc\n",
"//initialisation of variables\n",
"clear\n",
"dH= -1228.2 //kcal\n",
"n1= 10\n",
"n2= 4\n",
"dH1= -94.05 //kcal\n",
"dH2= -68.32 //kcal\n",
"//CALCULATIONS\n",
"x= n1*dH1+n2*dH2-dH\n",
"//RESULTS\n",
"printf ('Heat of formation = %.1f kcal',x)"
   ]
   }
,
{
		   "cell_type": "markdown",
		   "metadata": {},
		   "source": [
			"## Example 5.4: example_4.sce"
		   ]
		  },
  {
"cell_type": "code",
	   "execution_count": null,
	   "metadata": {
	    "collapsed": true
	   },
	   "outputs": [],
"source": [
"clc\n",
"//initialisation of variables\n",
"clear\n",
"H1= -29.6 //kcal\n",
"H2= -530.6 //kcal\n",
"H3= -94 //kcal\n",
"H4= -68.3 //kcal\n",
"//CALCULATIONS\n",
"dH1= -(H1+H2-3*H3-4*H4)\n",
"dH2= -dH1+3*H3+3*H4\n",
"//RESULTS\n",
"printf ('Heat of combustion = %.f kcal',dH1)\n",
"printf ('\n Standard heat of formation = %.1f kcal',dH2)"
   ]
   }
,
{
		   "cell_type": "markdown",
		   "metadata": {},
		   "source": [
			"## Example 5.5: example_5.sce"
		   ]
		  },
  {
"cell_type": "code",
	   "execution_count": null,
	   "metadata": {
	    "collapsed": true
	   },
	   "outputs": [],
"source": [
"clc\n",
"//initialisation of variables\n",
"clear\n",
"T1= 25 //C\n",
"T2= 100 //C\n",
"dH1= -57.8 //kcal\n",
"Cp1= 8.03 //cal deg^-1\n",
"Cp2= 6.92 //cal deg^-1\n",
"Cp3= 7.04 //cal deg^-1\n",
"//RESULTS\n",
"Cp= Cp1-(Cp2+0.5*Cp3)\n",
"dH2= Cp*10^-3*(T2-T1)+dH1\n",
"//RESULTS\n",
"printf ('Stanadard heat of formation = %.2f kcal mole^-1',dH2)"
   ]
   }
,
{
		   "cell_type": "markdown",
		   "metadata": {},
		   "source": [
			"## Example 5.6: example_6.sce"
		   ]
		  },
  {
"cell_type": "code",
	   "execution_count": null,
	   "metadata": {
	    "collapsed": true
	   },
	   "outputs": [],
"source": [
"clc\n",
"//initialisation of variables\n",
"clear\n",
"a= -2.776\n",
"b= 0.947*10^-3\n",
"c= 0.295*10^-6\n",
"T1= 373 //K\n",
"T2= 298 //K\n",
"dH1= -57.8 //kcal\n",
"//CALCULATIONS\n",
"dH= a*(T1-T2)+0.5*b*(T1^2-T2^2)+0.33*c*(T1^3-T2^3)\n",
"dH2= dH1+(dH/1000)\n",
"//RESULTS\n",
"printf ('Heat obtained = %.f cal ',dH)\n",
"printf ('\n Stanadard heat of formation = %.2f kcal mole^-1',dH2)"
   ]
   }
,
{
		   "cell_type": "markdown",
		   "metadata": {},
		   "source": [
			"## Example 5.7: example_7.sce"
		   ]
		  },
  {
"cell_type": "code",
	   "execution_count": null,
	   "metadata": {
	    "collapsed": true
	   },
	   "outputs": [],
"source": [
"clc\n",
"//initialisation of variables\n",
"clear\n",
"a1= 6.189 \n",
"a2= 3.225\n",
"a3= 10.421\n",
"b1= 7.787*10^-3\n",
"b2= 0.707*10^-3\n",
"b3= -0.3*10^-3\n",
"c1= -0.728*10^-6\n",
"c2= -0.04014*10^-6\n",
"c3= 0.7212*10^-6\n",
"dH= -9.13 //kcal\n",
"//CALCULATIONS\n",
"a= -(a2+a3-a1)*10^-3\n",
"b= -0.5*(b2+b3-b1)*10^-3\n",
"c= -0.33*(c2+c3-c1)*10^-3\n",
"//RESULTS\n",
"printf ('a = %.2e kcal mole^-1',a)\n",
"printf ('\n b = %.2e kcal mole^-1',b)\n",
"printf ('\n c = %.2e kcal mole^-1',c)\n",
"printf ('\n dH = %.2f kcal mole^-1',dH)"
   ]
   }
,
{
		   "cell_type": "markdown",
		   "metadata": {},
		   "source": [
			"## Example 5.8: example_8.sce"
		   ]
		  },
  {
"cell_type": "code",
	   "execution_count": null,
	   "metadata": {
	    "collapsed": true
	   },
	   "outputs": [],
"source": [
"clc\n",
"//initialisation of variables\n",
"clear\n",
"dH= 31.39 //kcal\n",
"k1= 3.397*10^-3 //kcal K^-1\n",
"k2= -1.68*10^-6 //kcal K^-2\n",
"k3= -0.022*10^-9 //kcal K^-3\n",
"k4= 1.17*10^2 //kcal K\n",
"T= 25 //C\n",
"//CALCULTIONS\n",
"H= dH-(k1*(273+T)+k2*(273+T)^2+k3*(273+T)^3+k4*(273+T)^-1)\n",
"//RESULTS\n",
"printf ('Change in enthalpy= %.2f kcal',H)"
   ]
   }
,
{
		   "cell_type": "markdown",
		   "metadata": {},
		   "source": [
			"## Example 5.9: example_9.sce"
		   ]
		  },
  {
"cell_type": "code",
	   "execution_count": null,
	   "metadata": {
	    "collapsed": true
	   },
	   "outputs": [],
"source": [
"clc\n",
"//initialisation of variables\n",
"clear\n",
"dH= 214470 //kcal mole^-1\n",
"a= 72.43 //calmole^-1deg^-1\n",
"b= 13.08*10^-3 //kcalmole^-1\n",
"c= -1.172*10^-6 //kcalmole^-1\n",
"//CALCULATIONS\n",
"x=poly(0,'x')\n",
"vec=roots(a*x+b*x^2+c*x^3-dH)\n",
"T= vec(3)-273\n",
"//RESULTS\n",
"printf ('Temperature = %.f C',T+15)"
   ]
   }
],
"metadata": {
		  "kernelspec": {
		   "display_name": "Scilab",
		   "language": "scilab",
		   "name": "scilab"
		  },
		  "language_info": {
		   "file_extension": ".sce",
		   "help_links": [
			{
			 "text": "MetaKernel Magics",
			 "url": "https://github.com/calysto/metakernel/blob/master/metakernel/magics/README.md"
			}
		   ],
		   "mimetype": "text/x-octave",
		   "name": "scilab",
		   "version": "0.7.1"
		  }
		 },
		 "nbformat": 4,
		 "nbformat_minor": 0
}
