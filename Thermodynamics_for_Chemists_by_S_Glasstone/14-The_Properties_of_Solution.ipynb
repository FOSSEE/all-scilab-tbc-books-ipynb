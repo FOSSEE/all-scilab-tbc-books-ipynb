{
"cells": [
 {
		   "cell_type": "markdown",
	   "metadata": {},
	   "source": [
       "# Chapter 14: The Properties of Solution"
	   ]
	},
{
		   "cell_type": "markdown",
		   "metadata": {},
		   "source": [
			"## Example 14.1: example_1.sce"
		   ]
		  },
  {
"cell_type": "code",
	   "execution_count": null,
	   "metadata": {
	    "collapsed": true
	   },
	   "outputs": [],
"source": [
"clc\n",
"//initialisation of variables\n",
"clear\n",
"M2= 92 //gms\n",
"M1= 78 //gms\n",
"pb= 118.2 //mm\n",
"pt= 36.7 //mm\n",
"//CALCULATIONS\n",
"n1= M2/(M1+M2)\n",
"n2= 1-n1\n",
"p1= n1*pb\n",
"p2= n2*pt\n",
"w= p1*M1/(p2*M2)\n",
"//RESULTS\n",
"printf ('partial pressure of benzene = %.f mm',p1)\n",
"printf ('\n partial pressure of toulene = %.1f mm',p2)\n",
"printf ('\n weight proportions = %.2f ',w)"
   ]
   }
,
{
		   "cell_type": "markdown",
		   "metadata": {},
		   "source": [
			"## Example 14.2: example_2.sce"
		   ]
		  },
  {
"cell_type": "code",
	   "execution_count": null,
	   "metadata": {
	    "collapsed": true
	   },
	   "outputs": [],
"source": [
"clc\n",
"//initialisation of variables\n",
"clear\n",
"vpe= 42 //atm\n",
"p2= 1 //atm\n",
"//CALCULATIONS\n",
"N2= p2/vpe\n",
"//RESULTS\n",
"printf ('Ideal solubility of ethane = %.3f mole fraction',N2)"
   ]
   }
,
{
		   "cell_type": "markdown",
		   "metadata": {},
		   "source": [
			"## Example 14.3: example_3.sce"
		   ]
		  },
  {
"cell_type": "code",
	   "execution_count": null,
	   "metadata": {
	    "collapsed": true
	   },
	   "outputs": [],
"source": [
"clc\n",
"//initialisation of variables\n",
"clear\n",
"p1= 25.7 //atm\n",
"p2= 11.84 //atm\n",
"T1= 173 //K\n",
"T2= 153 //K\n",
"T3= 25 //C\n",
"//CALCULATIONS\n",
"dH= log10(p1/p2)*4.579*T1*T2/(T1-T2)\n",
"p=  p1*10^((dH/4.576)*(273+T3-T1)/((273+T3)*T1))\n",
"s= 1/p\n",
"//RESULTS\n",
"printf ('Heat of reaction = %.f cal mole^-1',dH)\n",
"printf ('\n pressure = %.f atm',p)\n",
"printf ('\n Solubility of methane = %.5f ',s)"
   ]
   }
,
{
		   "cell_type": "markdown",
		   "metadata": {},
		   "source": [
			"## Example 14.4: example_4.sce"
		   ]
		  },
  {
"cell_type": "code",
	   "execution_count": null,
	   "metadata": {
	    "collapsed": true
	   },
	   "outputs": [],
"source": [
"clc\n",
"//initialisation of variables\n",
"clear\n",
"T1= 20 //C\n",
"T2= 80 //C\n",
"H1= 4540 //cal mole^-1\n",
"//CALCULATIONS\n",
"n= 10^(H1*(-T2+T1)/(4.576*(273+T1)*(273+T2)))\n",
"//RESULTS\n",
"printf ('ideal solubility of napthalene = %.3f ',n)"
   ]
   }
,
{
		   "cell_type": "markdown",
		   "metadata": {},
		   "source": [
			"## Example 14.5: example_5.sce"
		   ]
		  },
  {
"cell_type": "code",
	   "execution_count": null,
	   "metadata": {
	    "collapsed": true
	   },
	   "outputs": [],
"source": [
"clc\n",
"//initialisation of variables\n",
"clear\n",
"R= 1.987 //cal mole^-1 K^-1\n",
"T= 278.6 //K\n",
"dH= 30.2 //cal g^-1\n",
"m= 6.054 //gms\n",
"a= 0.1263 //degrees\n",
"//CALCULATIONS\n",
"l= R*T^2/(1000*dH)\n",
"m1= a/l\n",
"M2= m/m1\n",
"//RESULTS\n",
"printf ('molal depression constant = %.2f ',l)\n",
"printf ('\n molality = %.4f ',m1)\n",
"printf ('\n molecular weight of solute = %.f gms',M2)"
   ]
   }
],
"metadata": {
		  "kernelspec": {
		   "display_name": "Scilab",
		   "language": "scilab",
		   "name": "scilab"
		  },
		  "language_info": {
		   "file_extension": ".sce",
		   "help_links": [
			{
			 "text": "MetaKernel Magics",
			 "url": "https://github.com/calysto/metakernel/blob/master/metakernel/magics/README.md"
			}
		   ],
		   "mimetype": "text/x-octave",
		   "name": "scilab",
		   "version": "0.7.1"
		  }
		 },
		 "nbformat": 4,
		 "nbformat_minor": 0
}
