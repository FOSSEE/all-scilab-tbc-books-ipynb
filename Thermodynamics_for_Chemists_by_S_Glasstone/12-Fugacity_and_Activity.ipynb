{
"cells": [
 {
		   "cell_type": "markdown",
	   "metadata": {},
	   "source": [
       "# Chapter 12: Fugacity and Activity"
	   ]
	},
{
		   "cell_type": "markdown",
		   "metadata": {},
		   "source": [
			"## Example 12.1: example_1.sce"
		   ]
		  },
  {
"cell_type": "code",
	   "execution_count": null,
	   "metadata": {
	    "collapsed": true
	   },
	   "outputs": [],
"source": [
"clc\n",
"//initialisation of variables\n",
"clear\n",
"p1= 50 //atm\n",
"p2= 100 //atm\n",
"p3= 200 //atm\n",
"p4= 400 //atm\n",
"p5= 800 //atm\n",
"p6= 1000 //atm\n",
"r1= 0.979\n",
"r2= 0.967\n",
"r3= 0.971\n",
"r4= 1.061\n",
"r5= 1.489\n",
"r6= 1.834\n",
"//CALCULATIONS\n",
"f1= r1*p1\n",
"f2= r2*p2\n",
"f3= r3*p3\n",
"f4= r4*p4\n",
"f5= r5*p5\n",
"f6= r6*p6\n",
"//RESULTS\n",
"printf ('fugacity of nitrogen gas = %.2f atm',f1)\n",
"printf ('\n fugacity of nitrogen gas = %.1f atm',f2)\n",
"printf ('\n fugacity of nitrogen gas = %.1f atm',f3)\n",
"printf ('\n fugacity of nitrogen gas = %.1f atm',f4)\n",
"printf ('\n fugacity of nitrogen gas = %.f atm',f5)\n",
"printf ('\n fugacity of nitrogen gas = %.f atm',f6)"
   ]
   }
,
{
		   "cell_type": "markdown",
		   "metadata": {},
		   "source": [
			"## Example 12.2: example_2.sce"
		   ]
		  },
  {
"cell_type": "code",
	   "execution_count": null,
	   "metadata": {
	    "collapsed": true
	   },
	   "outputs": [],
"source": [
"clc\n",
"//initialisation of variables\n",
"clear\n",
"p1= 50 //atm\n",
"p2= 100 //atm\n",
"p3= 200 //atm\n",
"p4= 400 //atm\n",
"r1= 0.98\n",
"r2= 0.97\n",
"r3= 0.98\n",
"r4= 1.07\n",
"//CALCULATIONS\n",
"f1= p1*r1\n",
"f2= p2*r1\n",
"f3= p3*r3\n",
"f4= p4*r4\n",
"//RESULTS\n",
"printf ('fugacity of nitrogen gas = %.f atm',f1)\n",
"printf ('\n fugacity of nitrogen gas = %.f atm',f2)\n",
"printf ('\n fugacity of nitrogen gas = %.f atm',f3)\n",
"printf ('\n fugacity of nitrogen gas = %.f atm',f4)"
   ]
   }
,
{
		   "cell_type": "markdown",
		   "metadata": {},
		   "source": [
			"## Example 12.3: example_3.sce"
		   ]
		  },
  {
"cell_type": "code",
	   "execution_count": null,
	   "metadata": {
	    "collapsed": true
	   },
	   "outputs": [],
"source": [
"clc\n",
"//initialisation of variables\n",
"clear\n",
"p= 3.66 //atm\n",
"v= 6.01 //litre mole^-1\n",
"T= 0 //C\n",
"R= 0.082 //lit-atm mole^-1 K^-1\n",
"//CALCULATIONS\n",
"f= p^2*v/(R*(273+T))\n",
"//RESULTS\n",
"printf ('fugacity of liquid chlorine = %.2f atm',f)"
   ]
   }
],
"metadata": {
		  "kernelspec": {
		   "display_name": "Scilab",
		   "language": "scilab",
		   "name": "scilab"
		  },
		  "language_info": {
		   "file_extension": ".sce",
		   "help_links": [
			{
			 "text": "MetaKernel Magics",
			 "url": "https://github.com/calysto/metakernel/blob/master/metakernel/magics/README.md"
			}
		   ],
		   "mimetype": "text/x-octave",
		   "name": "scilab",
		   "version": "0.7.1"
		  }
		 },
		 "nbformat": 4,
		 "nbformat_minor": 0
}
