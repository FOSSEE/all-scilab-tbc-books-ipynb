{
"cells": [
 {
		   "cell_type": "markdown",
	   "metadata": {},
	   "source": [
       "# Chapter 3: The first law of thermodynamics"
	   ]
	},
{
		   "cell_type": "markdown",
		   "metadata": {},
		   "source": [
			"## Example 3.1: example_1.sce"
		   ]
		  },
  {
"cell_type": "code",
	   "execution_count": null,
	   "metadata": {
	    "collapsed": true
	   },
	   "outputs": [],
"source": [
"clc\n",
"//initialisation of variables\n",
"clear\n",
"p= 1.013*10^6 //dynecm^2\n",
"T= 273.16 //K\n",
"V= 773.4  //cc\n",
"n= 0.0687 //cal\n",
"//CALCCULATIONS\n",
"W= p*V/T\n",
"k= W/n\n",
"//RESULTS\n",
"printf ('Work of expansion = %.2e ergs',W)\n",
"printf ('\n 1 cal = %.2e ergs',k)"
   ]
   }
,
{
		   "cell_type": "markdown",
		   "metadata": {},
		   "source": [
			"## Example 3.2: example_2.sce"
		   ]
		  },
  {
"cell_type": "code",
	   "execution_count": null,
	   "metadata": {
	    "collapsed": true
	   },
	   "outputs": [],
"source": [
"clc\n",
"//initialisation of variables\n",
"clear\n",
"R= 8.314*10^7 //J/mol K\n",
"T= 298.2 //K\n",
"p1= 1 //atm\n",
"p2= 5 //atm\n",
"//CALCULATIONS\n",
"W= R*T*log(p1/p2)\n",
"//RESULTS\n",
"printf ('Work of expansion = %.2e ergs mole^-1 ',W)"
   ]
   }
],
"metadata": {
		  "kernelspec": {
		   "display_name": "Scilab",
		   "language": "scilab",
		   "name": "scilab"
		  },
		  "language_info": {
		   "file_extension": ".sce",
		   "help_links": [
			{
			 "text": "MetaKernel Magics",
			 "url": "https://github.com/calysto/metakernel/blob/master/metakernel/magics/README.md"
			}
		   ],
		   "mimetype": "text/x-octave",
		   "name": "scilab",
		   "version": "0.7.1"
		  }
		 },
		 "nbformat": 4,
		 "nbformat_minor": 0
}
