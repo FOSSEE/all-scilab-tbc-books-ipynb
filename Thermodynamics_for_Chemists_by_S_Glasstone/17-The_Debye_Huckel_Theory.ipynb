{
"cells": [
 {
		   "cell_type": "markdown",
	   "metadata": {},
	   "source": [
       "# Chapter 17: The Debye Huckel Theory"
	   ]
	},
{
		   "cell_type": "markdown",
		   "metadata": {},
		   "source": [
			"## Example 17.1: example_1.sce"
		   ]
		  },
  {
"cell_type": "code",
	   "execution_count": null,
	   "metadata": {
	    "collapsed": true
	   },
	   "outputs": [],
"source": [
"clc\n",
"//initialisation of variables\n",
"clear\n",
"s= 1.771*10^-4 //mole litre^-1\n",
"s1= 0.3252*10^-2 //mole litre^-1\n",
"//CALCULATIONS\n",
"S= s*10^(0.509*(sqrt(s+s1)-sqrt(s)))\n",
"//RESULTS\n",
"printf ('Solubility = %.2e mole litre^-1',S)"
   ]
   }
,
{
		   "cell_type": "markdown",
		   "metadata": {},
		   "source": [
			"## Example 17.2: example_2.sce"
		   ]
		  },
  {
"cell_type": "code",
	   "execution_count": null,
	   "metadata": {
	    "collapsed": true
	   },
	   "outputs": [],
"source": [
"clc\n",
"//initialisation of variables\n",
"clear\n",
"a= 0.1\n",
"//CALCULATIONS\n",
"r= 10^(-0.509*sqrt(a)/(1+sqrt(a)))\n",
"//RESULTS\n",
"printf ('mean ionic acctivity coefficient = %.3f ',r)"
   ]
   }
],
"metadata": {
		  "kernelspec": {
		   "display_name": "Scilab",
		   "language": "scilab",
		   "name": "scilab"
		  },
		  "language_info": {
		   "file_extension": ".sce",
		   "help_links": [
			{
			 "text": "MetaKernel Magics",
			 "url": "https://github.com/calysto/metakernel/blob/master/metakernel/magics/README.md"
			}
		   ],
		   "mimetype": "text/x-octave",
		   "name": "scilab",
		   "version": "0.7.1"
		  }
		 },
		 "nbformat": 4,
		 "nbformat_minor": 0
}
