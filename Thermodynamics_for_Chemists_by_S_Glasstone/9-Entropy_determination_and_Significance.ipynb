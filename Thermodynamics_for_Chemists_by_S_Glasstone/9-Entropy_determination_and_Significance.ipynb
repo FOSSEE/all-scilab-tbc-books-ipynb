{
"cells": [
 {
		   "cell_type": "markdown",
	   "metadata": {},
	   "source": [
       "# Chapter 9: Entropy determination and Significance"
	   ]
	},
{
		   "cell_type": "markdown",
		   "metadata": {},
		   "source": [
			"## Example 9.1: example_1.sce"
		   ]
		  },
  {
"cell_type": "code",
	   "execution_count": null,
	   "metadata": {
	    "collapsed": true
	   },
	   "outputs": [],
"source": [
"clc\n",
"//initialisation of variables\n",
"clear\n",
"w= 35.46 //gms\n",
"T= 298.2 //K\n",
"Qc= 4.03 \n",
"//CALCULATIONS\n",
"S= 4.576*(1.5*log10(w)+2.5*log10(T)+log10(Qc)-0.5055)\n",
"//RESULTS\n",
"printf ('Standard entropy = %.1f cal deg^-1 g atom^-1',S)"
   ]
   }
,
{
		   "cell_type": "markdown",
		   "metadata": {},
		   "source": [
			"## Example 9.2: example_2.sce"
		   ]
		  },
  {
"cell_type": "code",
	   "execution_count": null,
	   "metadata": {
	    "collapsed": true
	   },
	   "outputs": [],
"source": [
"clc\n",
"//initialisation of variables\n",
"clear\n",
"M= 28 //gms\n",
"T= 25 //C\n",
"I= 13.9*10^-40 // gcm^2\n",
"s= 2\n",
"//CALCULATIONS\n",
"S= 4.576*(1.5*log10(M)+2.5*log10(273.2+T)-0.5055)\n",
"S1= 4.576*(log10(I)+log10(273.2+T)-log10(s)+38.82)\n",
"//RESULTS\n",
"printf ('Standard entropy = %.1f E.U.mole^-1',S)\n",
"printf ('\n Standard entropy = %.1f E.U.mole^-1',S1)"
   ]
   }
,
{
		   "cell_type": "markdown",
		   "metadata": {},
		   "source": [
			"## Example 9.3: example_3.sce"
		   ]
		  },
  {
"cell_type": "code",
	   "execution_count": null,
	   "metadata": {
	    "collapsed": true
	   },
	   "outputs": [],
"source": [
"clc\n",
"//initialisation of variables\n",
"clear\n",
"T= 25 //C\n",
"I= 4.33*10^-40 // gcm^2\n",
"I1= 2.78*10^-40 //g cm^2\n",
"s= 3\n",
"//CALCULATIONS\n",
"S= 4.576*(0.5*log10(I1^2*I)+1.5*log10(273.2+T)-log10(s)+58.51)\n",
"//RESULTS\n",
"printf ('Standard entropy = %.1f cal deg^-1 mole^-1',S)"
   ]
   }
,
{
		   "cell_type": "markdown",
		   "metadata": {},
		   "source": [
			"## Example 9.4: example_4.sce"
		   ]
		  },
  {
"cell_type": "code",
	   "execution_count": null,
	   "metadata": {
	    "collapsed": true
	   },
	   "outputs": [],
"source": [
"clc\n",
"//initialisation of variables\n",
"clear\n",
"Sco= 47.3 //cal deg^-1 \n",
"Sh2= 31.21 //cal deg^-1\n",
"Sc= 1.36 //cal deg^-1\n",
"Sho = 16.75 //cal deg^-1\n",
"//CALCULATIONS\n",
"S= Sco+Sh2-Sc-Sho\n",
"//RESULTS\n",
"printf ('Standard entropy = %.2f cal deg^-1 mole^-1',S)"
   ]
   }
],
"metadata": {
		  "kernelspec": {
		   "display_name": "Scilab",
		   "language": "scilab",
		   "name": "scilab"
		  },
		  "language_info": {
		   "file_extension": ".sce",
		   "help_links": [
			{
			 "text": "MetaKernel Magics",
			 "url": "https://github.com/calysto/metakernel/blob/master/metakernel/magics/README.md"
			}
		   ],
		   "mimetype": "text/x-octave",
		   "name": "scilab",
		   "version": "0.7.1"
		  }
		 },
		 "nbformat": 4,
		 "nbformat_minor": 0
}
