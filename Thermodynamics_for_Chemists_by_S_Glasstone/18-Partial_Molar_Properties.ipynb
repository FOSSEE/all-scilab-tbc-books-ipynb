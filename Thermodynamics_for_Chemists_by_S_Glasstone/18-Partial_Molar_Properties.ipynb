{
"cells": [
 {
		   "cell_type": "markdown",
	   "metadata": {},
	   "source": [
       "# Chapter 18: Partial Molar Properties"
	   ]
	},
{
		   "cell_type": "markdown",
		   "metadata": {},
		   "source": [
			"## Example 18.1: example_1.sce"
		   ]
		  },
  {
"cell_type": "code",
	   "execution_count": null,
	   "metadata": {
	    "collapsed": true
	   },
	   "outputs": [],
"source": [
"clc\n",
"//initialisation of variables\n",
"clear\n",
"k1= 16.4 //ml mole^-1\n",
"k2= 2.5 //ml mole^-2\n",
"k3= -1.2 //ml mole^-3\n",
"m= 1 //molal\n",
"//CALCULATIONS\n",
"Ov= k1+k2*m+k3*m^2\n",
"//RESULTS\n",
"printf ('Apparent molar volume = %.1f ml mole^-1',Ov)"
   ]
   }
,
{
		   "cell_type": "markdown",
		   "metadata": {},
		   "source": [
			"## Example 18.2: example_2.sce"
		   ]
		  },
  {
"cell_type": "code",
	   "execution_count": null,
	   "metadata": {
	    "collapsed": true
	   },
	   "outputs": [],
"source": [
"clc\n",
"//initialisation of variables\n",
"clear\n",
"n= 1 //mole\n",
"n1= 400 //mole\n",
"T= 25 //C\n",
"H1= 5410 //cal\n",
"H2= -5020 //cal\n",
"//CALCULATIONS\n",
"dH= -(H1+H2)\n",
"//RESULTS\n",
"printf ('Heat required to remove the water = %.f cal',dH)"
   ]
   }
,
{
		   "cell_type": "markdown",
		   "metadata": {},
		   "source": [
			"## Example 18.3: example_3.sce"
		   ]
		  },
  {
"cell_type": "code",
	   "execution_count": null,
	   "metadata": {
	    "collapsed": true
	   },
	   "outputs": [],
"source": [
"clc\n",
"//initialisation of variables\n",
"clear\n",
"n= 1 //mole\n",
"n1= 400 //mole\n",
"T= 25 //C\n",
"H1= 23540 //cal\n",
"H2= -5410 //cal\n",
"//CALCULATIONS\n",
"dH= -(H1+H2)\n",
"//RESULTS\n",
"printf ('Heat required to remove the water = %.f cal',dH)"
   ]
   }
,
{
		   "cell_type": "markdown",
		   "metadata": {},
		   "source": [
			"## Example 18.4: example_4.sce"
		   ]
		  },
  {
"cell_type": "code",
	   "execution_count": null,
	   "metadata": {
	    "collapsed": true
	   },
	   "outputs": [],
"source": [
"clc\n",
"//initialisation of variables\n",
"clear\n",
"n1= 1 //mole\n",
"n2= 400 //mole\n",
"H1= 5638 //cal\n",
"H2= 23540 //cal\n",
"L= -1.54 //cal/mole\n",
"l1= -2.16 //cal/mole\n",
"l2= 5842 //cal/mole\n",
"//CALCULATIONS\n",
"Q1= n2*L+H1+H2\n",
"Q2= n2*l1+2*l2\n",
"Q= Q2-Q1\n",
"//RESULTS\n",
"printf ('Heat change = %.f cal',Q)"
   ]
   }
,
{
		   "cell_type": "markdown",
		   "metadata": {},
		   "source": [
			"## Example 18.5: example_5.sce"
		   ]
		  },
  {
"cell_type": "code",
	   "execution_count": null,
	   "metadata": {
	    "collapsed": true
	   },
	   "outputs": [],
"source": [
"clc\n",
"//initialisation of variables\n",
"clear\n",
"L2= 6000 //cal\n",
"v= 3 \n",
"T= 25 //C\n",
"T1= 0 //C\n",
"//CALCULATIONS\n",
"R= ((L2/(v*4.576))*(T-T1)/((273+T1)*(273+T)))\n",
"r= 10^((L2/(v*4.576))*(T-T1)/((273+T1)*(273+T)))\n",
"//RESULTS\n",
"printf ('Ratio = %.3f ',R)\n",
"printf ('\n Relative change in mean ionic coefficient = %.2f ',r)"
   ]
   }
,
{
		   "cell_type": "markdown",
		   "metadata": {},
		   "source": [
			"## Example 18.6: example_6.sce"
		   ]
		  },
  {
"cell_type": "code",
	   "execution_count": null,
	   "metadata": {
	    "collapsed": true
	   },
	   "outputs": [],
"source": [
"clc\n",
"//initialisation of variables\n",
"clear\n",
"L2= 4120 //cal\n",
"l= -108 //cal mole^-1\n",
"L21= -306 //cal mole^-1\n",
"n1= 55.5 //moles\n",
"n2= 1 //mole\n",
"//CALCULATIONS\n",
"Q= L21+L2\n",
"//RESULTS\n",
"printf ('differential heat of solution = %.f cal mole^-1',Q)  "
   ]
   }
,
{
		   "cell_type": "markdown",
		   "metadata": {},
		   "source": [
			"## Example 18.7: example_7.sce"
		   ]
		  },
  {
"cell_type": "code",
	   "execution_count": null,
	   "metadata": {
	    "collapsed": true
	   },
	   "outputs": [],
"source": [
"clc\n",
"//initialisation of variables\n",
"clear\n",
"n1= 2 //moles\n",
"n2= 100 //moles\n",
"Cp1= 17.9 //cal deg^-1 mole^-1\n",
"Cp2= 21.78 //cal deg^-1 mole^-1\n",
"T1= 30 //C\n",
"T2= 25 //C\n",
"L1= 5780 //cal\n",
"L2= 5410 //cal\n",
"h= 5620 //cal mole^-1\n",
"n3= 3 //moles\n",
"Cp3= 16.55 //cal deg^-1 mole^-1\n",
"//CALCULATIONS \n",
"Cp= n2*Cp1+n1*Cp2\n",
"Q= (T2-T1)*Cp\n",
"Q1= (n1*L1+L2)\n",
"Q2= n3*h\n",
"dQ= Q2-Q1\n",
"dH= Q+dQ\n",
"HC= 300*Cp1+n3*Cp3\n",
"t= -dH/HC\n",
"Tf= T2+t\n",
"//RESULTS\n",
"printf ('Increase in temperature = %.2f deg',t)  \n",
"printf ('\n Final temperature = %.1f deg',Tf)  "
   ]
   }
],
"metadata": {
		  "kernelspec": {
		   "display_name": "Scilab",
		   "language": "scilab",
		   "name": "scilab"
		  },
		  "language_info": {
		   "file_extension": ".sce",
		   "help_links": [
			{
			 "text": "MetaKernel Magics",
			 "url": "https://github.com/calysto/metakernel/blob/master/metakernel/magics/README.md"
			}
		   ],
		   "mimetype": "text/x-octave",
		   "name": "scilab",
		   "version": "0.7.1"
		  }
		 },
		 "nbformat": 4,
		 "nbformat_minor": 0
}
