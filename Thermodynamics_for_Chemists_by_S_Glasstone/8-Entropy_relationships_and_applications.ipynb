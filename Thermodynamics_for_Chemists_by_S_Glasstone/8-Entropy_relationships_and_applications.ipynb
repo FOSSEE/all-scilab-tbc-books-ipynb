{
"cells": [
 {
		   "cell_type": "markdown",
	   "metadata": {},
	   "source": [
       "# Chapter 8: Entropy relationships and applications"
	   ]
	},
{
		   "cell_type": "markdown",
		   "metadata": {},
		   "source": [
			"## Example 8.1: example_1.sce"
		   ]
		  },
  {
"cell_type": "code",
	   "execution_count": null,
	   "metadata": {
	    "collapsed": true
	   },
	   "outputs": [],
"source": [
"clc\n",
"//initialisation of variables\n",
"clear\n",
"k1= 6.2\n",
"k2= 1.33*10^-3\n",
"k3= 6.78*10^4\n",
"T1= 800 //C\n",
"T2= 300 //C\n",
"//CALCULATIONS\n",
"dS= k1*log(T1/T2)+k2*(T1-T2)-0.5*k3*(T1^-2-T2^-2)\n",
"//RESULTS\n",
"printf ('Entropy increase = %.2f cal deg^-1 g atom^-1',dS)"
   ]
   }
,
{
		   "cell_type": "markdown",
		   "metadata": {},
		   "source": [
			"## Example 8.2: example_2.sce"
		   ]
		  },
  {
"cell_type": "code",
	   "execution_count": null,
	   "metadata": {
	    "collapsed": true
	   },
	   "outputs": [],
"source": [
"clc\n",
"//initialisation of variables\n",
"clear\n",
"T= 77.32 //K\n",
"p= 1 //atm\n",
"Tc = 126 //K\n",
"Pc= 33.5 //atm\n",
"Mo= 32 //gms\n",
"mo= 27 //gms\n",
"R= 1.98 //cl/mol K\n",
"//CALCULATIONS\n",
"dS= (mo)*R*Tc^3/(Mo*Pc*T^3)\n",
"//RESULTS\n",
"printf ('Entropy increase = %.3f cal deg^-1',dS)"
   ]
   }
,
{
		   "cell_type": "markdown",
		   "metadata": {},
		   "source": [
			"## Example 8.3: example_3.sce"
		   ]
		  },
  {
"cell_type": "code",
	   "execution_count": null,
	   "metadata": {
	    "collapsed": true
	   },
	   "outputs": [],
"source": [
"clc\n",
"//initialisation of variables\n",
"R= 1.987 //cal deg^-1 mole^-1\n",
"T= 25 //C\n",
"Pc= 49.7 //atm\n",
"m= 128 //gms\n",
"pc= 49.7 //atm\n",
"Tc= 154.3 //K\n",
"m1= 9 //gms\n",
"m2= 18\n",
"//CALCULATIONS\n",
"dH= (m1*R*Tc/(m*pc))*(1-m2*(Tc/(273.15+T))^2)*-1\n",
"//RESULTS\n",
"printf ('Enthalpy = %.2f cal mole^-1',dH)"
   ]
   }
,
{
		   "cell_type": "markdown",
		   "metadata": {},
		   "source": [
			"## Example 8.4: example_4.sce"
		   ]
		  },
  {
"cell_type": "code",
	   "execution_count": null,
	   "metadata": {
	    "collapsed": true
	   },
	   "outputs": [],
"source": [
"clc\n",
"//initialisation of variables\n",
"clear\n",
"a= 1.39 //lit^2\n",
"p= 200 //atm\n",
"R= 0.082 //lit-atm /mol K\n",
"T= 298 //K\n",
"//CALCULATIONS\n",
"dC= (1+(2*a*p/(R*T)^2))\n",
"//RESULTS\n",
"printf ('Cp-Cv = %.2f *R lit-atm mole^-1 K^-1',dC)"
   ]
   }
,
{
		   "cell_type": "markdown",
		   "metadata": {},
		   "source": [
			"## Example 8.5: example_5.sce"
		   ]
		  },
  {
"cell_type": "code",
	   "execution_count": null,
	   "metadata": {
	    "collapsed": true
	   },
	   "outputs": [],
"source": [
"clc\n",
"//initialisation of variables\n",
"clear\n",
"P= 200 //atm\n",
"Tc= 126 //k\n",
"T= 25 //C\n",
"Pc= 33.5 //atm\n",
"M= 27 //gms\n",
"m= 16 //gms\n",
"//CALCULATIONS\n",
"dC= (1+(M*Tc^3*P/(m*Pc*(273.2+T)^3)))\n",
"//RESULTS\n",
"printf ('Cp-Cv = %.2f *R cal mole^-1 K^-1',dC)"
   ]
   }
,
{
		   "cell_type": "markdown",
		   "metadata": {},
		   "source": [
			"## Example 8.6: example_6.sce"
		   ]
		  },
  {
"cell_type": "code",
	   "execution_count": null,
	   "metadata": {
	    "collapsed": true
	   },
	   "outputs": [],
"source": [
"clc\n",
"//initialisation of variables\n",
"clear\n",
"T= 25 //C\n",
"b= 0.785*10^-6 //atm^-1\n",
"a= 49.2*10^-6 //deg^-1\n",
"d= 8.93 //gm/cc\n",
"aw= 63.57 //gms\n",
"//CALCULATIONS\n",
"dC= a^2*(273.2+T)*aw*0.0242/(b*d)\n",
"//RESULTS\n",
"printf ('Cp-Cv = %.3f cal deg^-1g atom^-1',dC)"
   ]
   }
,
{
		   "cell_type": "markdown",
		   "metadata": {},
		   "source": [
			"## Example 8.7: example_7.sce"
		   ]
		  },
  {
"cell_type": "code",
	   "execution_count": null,
	   "metadata": {
	    "collapsed": true
	   },
	   "outputs": [],
"source": [
"clc\n",
"//initialisation of variables\n",
"clear\n",
"p= 100 //atm\n",
"T= 25 //C\n",
"a= 1.38\n",
"b= 3.92*10^-2 //lit atm\n",
"R= 0.082 //lit-atm mole^-1 K^-1\n",
"Tc= 126 //K\n",
"Pc= 33.5 //atm\n",
"M= 81 //gms\n",
"m= 32 //gms\n",
"//CALCULATIONS\n",
"dC= a*2*p/(R*(273+T)^2)\n",
"dC1= M*R*Tc^3*p/(m*Pc*(273+T)^3)\n",
"//RESULTS\n",
"printf ('Cp-Cp* = %.3f lit atm deg^-1 mole^-1',dC)\n",
"printf ('\n Cp-Cp* = %.3f lit atm deg^-1 mole^-1',dC1)"
   ]
   }
,
{
		   "cell_type": "markdown",
		   "metadata": {},
		   "source": [
			"## Example 8.8: example_8.sce"
		   ]
		  },
  {
"cell_type": "code",
	   "execution_count": null,
	   "metadata": {
	    "collapsed": true
	   },
	   "outputs": [],
"source": [
"clc\n",
"//initialisation of variables\n",
"clear\n",
"Cp= 8.21*0.0413 //lit-atm deg^-1 mole^-1\n",
"V= 8.64*28*10^-3 //lit\n",
"r= 1.199\n",
"//CALCULATIONS\n",
"u= V*(r-1)/Cp\n",
"//RESULTS\n",
"printf ('Joule-thomson coefficient = %.3f deg atm^-1',u)"
   ]
   }
,
{
		   "cell_type": "markdown",
		   "metadata": {},
		   "source": [
			"## Example 8.9: example_9.sce"
		   ]
		  },
  {
"cell_type": "code",
	   "execution_count": null,
	   "metadata": {
	    "collapsed": true
	   },
	   "outputs": [],
"source": [
"clc\n",
"//initialisation of variables\n",
"clear\n",
"Cp= 8.21*0.0413 //lit-atm\n",
"R= 0.0821 //lit-atm deg^-1 mole^-1\n",
"p= 100 //atm\n",
"T= 20 //C\n",
"a= 1.39 \n",
"b= 3.92*10^-2 //lit-atm^2 mole\n",
"//CALCULATIONS\n",
"u= (1/Cp)*((2*a/(R*(273+T)))-b-(3*a*b*p/(R^2*(273+T)^2)))\n",
"//RESULTS\n",
"printf ('Joule-thomson coefficient = %.3f deg atm^-1',u)"
   ]
   }
],
"metadata": {
		  "kernelspec": {
		   "display_name": "Scilab",
		   "language": "scilab",
		   "name": "scilab"
		  },
		  "language_info": {
		   "file_extension": ".sce",
		   "help_links": [
			{
			 "text": "MetaKernel Magics",
			 "url": "https://github.com/calysto/metakernel/blob/master/metakernel/magics/README.md"
			}
		   ],
		   "mimetype": "text/x-octave",
		   "name": "scilab",
		   "version": "0.7.1"
		  }
		 },
		 "nbformat": 4,
		 "nbformat_minor": 0
}
