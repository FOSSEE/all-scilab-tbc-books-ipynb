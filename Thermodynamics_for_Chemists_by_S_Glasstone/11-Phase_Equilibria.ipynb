{
"cells": [
 {
		   "cell_type": "markdown",
	   "metadata": {},
	   "source": [
       "# Chapter 11: Phase Equilibria"
	   ]
	},
{
		   "cell_type": "markdown",
		   "metadata": {},
		   "source": [
			"## Example 11.1: example_1.sce"
		   ]
		  },
  {
"cell_type": "code",
	   "execution_count": null,
	   "metadata": {
	    "collapsed": true
	   },
	   "outputs": [],
"source": [
"clc\n",
"//initialisation of variables\n",
"clear\n",
"T= 0 //C\n",
"sv= 1.0001 //cc g^-1\n",
"sv1= 1.0907 //cc g^-1\n",
"R= 0.0242 //atm^-1 cc^-1 cal\n",
"p= 79.8 //atm\n",
"//CALCULATIONS\n",
"r= (273.2+T)*(sv-sv1)*R/p\n",
"//RESULTS\n",
"printf ('rate of change of melting point = %.4f deg atm^-1',r)"
   ]
   }
,
{
		   "cell_type": "markdown",
		   "metadata": {},
		   "source": [
			"## Example 11.2: example_2.sce"
		   ]
		  },
  {
"cell_type": "code",
	   "execution_count": null,
	   "metadata": {
	    "collapsed": true
	   },
	   "outputs": [],
"source": [
"clc\n",
"//initialisation of variables\n",
"clear\n",
"T= 95.5 //C\n",
"p= 1 //atm\n",
"v= 0.0126 //cc g^-1\n",
"a= 0.0242 //cal cc^-1 atm^-1\n",
"r= 0.035 //K atm^-1\n",
"//CALCULATIONS\n",
"dH= (273.2+T)*v*a/r\n",
"//RESULTS\n",
"printf ('Heat of transition = %.1f cal g^-1',dH)"
   ]
   }
,
{
		   "cell_type": "markdown",
		   "metadata": {},
		   "source": [
			"## Example 11.3: example_3.sce"
		   ]
		  },
  {
"cell_type": "code",
	   "execution_count": null,
	   "metadata": {
	    "collapsed": true
	   },
	   "outputs": [],
"source": [
"clc\n",
"//initialisation of variables\n",
"clear\n",
"T= 100 //C\n",
"j= 0.0242 //cal cc^-1 atm6-1\n",
"k= 539 //cal g^-1\n",
"p= 1664 //cc g^-1\n",
"//CALCULATIONS\n",
"r= (273.2+T)*(p-1)*j/k\n",
"//RESULTS\n",
"printf ('Rise in temperature per unit of pressure= %.1f deg atm^-1',r)"
   ]
   }
,
{
		   "cell_type": "markdown",
		   "metadata": {},
		   "source": [
			"## Example 11.4: example_4.sce"
		   ]
		  },
  {
"cell_type": "code",
	   "execution_count": null,
	   "metadata": {
	    "collapsed": true
	   },
	   "outputs": [],
"source": [
"clc\n",
"//initialisation of variables\n",
"clear\n",
"T1= 100 //C\n",
"T2= 90 //C\n",
"p= 76 //cm of hg\n",
"H= 542*18.02 //cal mole^-1\n",
"//CALCULATIONS\n",
"p1= p/10^((H/4.576)*((T1-T2)/((273.2+T1)*(273.2+T2))))\n",
"//RESULTS\n",
"printf ('Final vapour pressure of water = %.1f cm',p1)"
   ]
   }
,
{
		   "cell_type": "markdown",
		   "metadata": {},
		   "source": [
			"## Example 11.5: example_5.sce"
		   ]
		  },
  {
"cell_type": "code",
	   "execution_count": null,
	   "metadata": {
	    "collapsed": true
	   },
	   "outputs": [],
"source": [
"clc\n",
"//initialisation of variables\n",
"clear\n",
"T= 239.05 //K\n",
"r= 0.0242 //cal cc6-1 atm^-1\n",
"Vv= 269.1 //cc g^-1\n",
"Vl= 0.7 //cc g^-1\n",
"r1= 3.343 //cm of mercury deg6-1\n",
"p= 76 //cm\n",
"//CALCULATIONS\n",
"tbyp= r1/p\n",
"dH= T*(Vv-Vl)*tbyp*r\n",
"//RESULTS\n",
"printf ('heat of vapourisation of liquid chlorine = %.1f cal g^-1',dH)"
   ]
   }
,
{
		   "cell_type": "markdown",
		   "metadata": {},
		   "source": [
			"## Example 11.6: example_6.sce"
		   ]
		  },
  {
"cell_type": "code",
	   "execution_count": null,
	   "metadata": {
	    "collapsed": true
	   },
	   "outputs": [],
"source": [
"clc\n",
"//initialisation of variables\n",
"clear\n",
"Ta= 441 //C\n",
"Tb= 882 //C\n",
"Tb1= 1218 //C\n",
"//CALCULATIONS\n",
"Ta1= (273+Tb1)*(Tb+273)/(273+Ta)\n",
"Tb= Ta1-273\n",
"//RESULTS\n",
"printf ('Normal boiling point of silver = %.f K',Ta1)\n",
"printf ('\n Normal boiling point of silver in degrees = %.f degrees',Tb)"
   ]
   }
,
{
		   "cell_type": "markdown",
		   "metadata": {},
		   "source": [
			"## Example 11.7: example_7.sce"
		   ]
		  },
  {
"cell_type": "code",
	   "execution_count": null,
	   "metadata": {
	    "collapsed": true
	   },
	   "outputs": [],
"source": [
"clc\n",
"//initialisation of variables\n",
"clear\n",
"T= 40 //C\n",
"T1= 80.1 //C\n",
"//CALCULATIONS\n",
"H= 2*(273.2+T1)\n",
"p= %e^(-(H/(4.576*(273.2+T)))+4.59)/3.07\n",
"//RESULTS\n",
"printf ('vapour pressure = %.1f cm',p)"
   ]
   }
,
{
		   "cell_type": "markdown",
		   "metadata": {},
		   "source": [
			"## Example 11.8: example_8.sce"
		   ]
		  },
  {
"cell_type": "code",
	   "execution_count": null,
	   "metadata": {
	    "collapsed": true
	   },
	   "outputs": [],
"source": [
"clc\n",
"//initialisation of variables\n",
"clear\n",
"p= 23.76 //mm\n",
"R= 0.082 //atm-lit deg^-1 mol^-1\n",
"T= 25 //C\n",
"vl= 18 //ml\n",
"p1= 1 //atm\n",
"//CALCULATIONS\n",
"dP= 0.001*vl*p*p1/(R*(273+T))\n",
"p2= p+dP\n",
"//RESULTS\n",
"printf ('vapour pressure = %.2f mm',p2)\n",
"\n",
"//ANSWER GIVEN IN THE TEXTBOOK IS WRONG"
   ]
   }
,
{
		   "cell_type": "markdown",
		   "metadata": {},
		   "source": [
			"## Example 11.9: example_9.sce"
		   ]
		  },
  {
"cell_type": "code",
	   "execution_count": null,
	   "metadata": {
	    "collapsed": true
	   },
	   "outputs": [],
"source": [
"clc\n",
"//initialisation of variables\n",
"clear\n",
"T= 25 //C\n",
"R= 8.314*10^7 //ergs /mol K\n",
"st= 72 //dynes cm^-1\n",
"mv= 18 //cc mole^-1\n",
"r= 10^-5 //cm\n",
"p= 23.76 //cm\n",
"//CALCULATIONS\n",
"p1= p*10^(2*st*mv/(r*R*2.303*(273.2+T)))\n",
"//RESULTS\n",
"printf ('vapour pressure = %.2f mm',p1)"
   ]
   }
],
"metadata": {
		  "kernelspec": {
		   "display_name": "Scilab",
		   "language": "scilab",
		   "name": "scilab"
		  },
		  "language_info": {
		   "file_extension": ".sce",
		   "help_links": [
			{
			 "text": "MetaKernel Magics",
			 "url": "https://github.com/calysto/metakernel/blob/master/metakernel/magics/README.md"
			}
		   ],
		   "mimetype": "text/x-octave",
		   "name": "scilab",
		   "version": "0.7.1"
		  }
		 },
		 "nbformat": 4,
		 "nbformat_minor": 0
}
