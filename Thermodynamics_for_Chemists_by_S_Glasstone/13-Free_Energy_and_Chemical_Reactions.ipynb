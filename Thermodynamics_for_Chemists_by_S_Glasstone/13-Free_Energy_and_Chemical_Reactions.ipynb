{
"cells": [
 {
		   "cell_type": "markdown",
	   "metadata": {},
	   "source": [
       "# Chapter 13: Free Energy and Chemical Reactions"
	   ]
	},
{
		   "cell_type": "markdown",
		   "metadata": {},
		   "source": [
			"## Example 13.10: example_10.sce"
		   ]
		  },
  {
"cell_type": "code",
	   "execution_count": null,
	   "metadata": {
	    "collapsed": true
	   },
	   "outputs": [],
"source": [
"clc\n",
"//initialisation of variables\n",
"clear\n",
"F1= 24.423//cal deg^-1\n",
"F2= 21.031 //cal deg^-1\n",
"F3= 37.172 //cal deg^-1\n",
"H1= 2.024 //kcal\n",
"H2= 1.035 //kcal\n",
"H3= 2.365 //kcal\n",
"H= -57.8 //kcal\n",
"T= 25 //C\n",
"//CALCULATIONS\n",
"dF= F3-F1-F2\n",
"dH= H3-H1-H2\n",
"Hf= H-dH\n",
"F= Hf-((273.2+T)*dF*10^-3) \n",
"//RESULTS\n",
"printf ('Standard free energy = %.2f kcal',F)"
   ]
   }
,
{
		   "cell_type": "markdown",
		   "metadata": {},
		   "source": [
			"## Example 13.11: example_11.sce"
		   ]
		  },
  {
"cell_type": "code",
	   "execution_count": null,
	   "metadata": {
	    "collapsed": true
	   },
	   "outputs": [],
"source": [
"clc\n",
"//initialisation of variables\n",
"clear\n",
"T= 1000 //C\n",
"j= 1.5\n",
"Q= 35840 //cal\n",
"I= 743*10^-40 //g cm^2\n",
"w= 214 //cm^-2\n",
"Kf= 0.184\n",
"//RESULTS\n",
"printf ('Equilibrium constant = %.3f ',Kf)\n",
"\n",
"//NO SOLUTION IS GIVEN TO SOLVE Kf\n",
"//INCOMPLETE SOLUTION IN THE TEXTBOOK\n",
""
   ]
   }
,
{
		   "cell_type": "markdown",
		   "metadata": {},
		   "source": [
			"## Example 13.12: example_12.sce"
		   ]
		  },
  {
"cell_type": "code",
	   "execution_count": null,
	   "metadata": {
	    "collapsed": true
	   },
	   "outputs": [],
"source": [
"clc\n",
"//initialisation of variables\n",
"clear\n",
"dH= 83 //cal\n",
"R= 1.98 //cal mole K^-1\n",
"T= 25 //C\n",
"M1= 128 //gms\n",
"M2= 4 //gms\n",
"M3= 2 //gms\n",
"M4= 129 //gms\n",
"I1= 4.31 //g cm^2\n",
"I2= 0.920 //g cm^2\n",
"I3= 0.459 //g cm^2\n",
"I4= 8.555 // g cm^2\n",
"//CALCULATIONS\n",
"K= 10^((-dH/(2.303*R*(273.2+T)))+1.5*log10(M1^2*M2/(M3*M4^2))+log10(I1^2*I2/(I3*I4^2)))\n",
"//RESULTS\n",
"printf ('Equilibrium constant = %.2f ',K)"
   ]
   }
,
{
		   "cell_type": "markdown",
		   "metadata": {},
		   "source": [
			"## Example 13.1: example_1.sce"
		   ]
		  },
  {
"cell_type": "code",
	   "execution_count": null,
	   "metadata": {
	    "collapsed": true
	   },
	   "outputs": [],
"source": [
"clc\n",
"//initialisation of variables\n",
"clear\n",
"R= 4.576 //cal deg^-1 mole^-1\n",
"T= 700 //C\n",
"Kp= 0.71\n",
"p1= 1.5 //atm\n",
"p2= 5 //atm\n",
"//CALCULATIONS\n",
"dF= -R*(273+T)*(log(Kp)-log((p1*p2)/(10*p2)))*0.77\n",
"//RESULTS\n",
"printf ('Free energy = %.f cal',dF-10)"
   ]
   }
,
{
		   "cell_type": "markdown",
		   "metadata": {},
		   "source": [
			"## Example 13.2: example_2.sce"
		   ]
		  },
  {
"cell_type": "code",
	   "execution_count": null,
	   "metadata": {
	    "collapsed": true
	   },
	   "outputs": [],
"source": [
"clc\n",
"//initialisation of variables\n",
"clear\n",
"k1= 4600\n",
"k2= -8.64\n",
"k3= 1.86*10^-3\n",
"k4= -0.12*10^-6\n",
"k5= 12.07\n",
"T= 600 //K\n",
"//CALCULATIONS\n",
"Kf= %e^(k1*(1/T)+k2*log10(T)+k3*T+k4*T^2+k5)\n",
"//RESULTS\n",
"printf ('Kf = %.3f ',Kf)"
   ]
   }
,
{
		   "cell_type": "markdown",
		   "metadata": {},
		   "source": [
			"## Example 13.3: example_3.sce"
		   ]
		  },
  {
"cell_type": "code",
	   "execution_count": null,
	   "metadata": {
	    "collapsed": true
	   },
	   "outputs": [],
"source": [
"clc\n",
"//initialisation of variables\n",
"clear\n",
"k= -8810 //cal\n",
"k1= -7.46 //cal K^-1\n",
"k2= 3.69*10^-3 //cal K^-2\n",
"k3= -0.47*10^-6 //cak K^-3\n",
"T= 298 //K\n",
"//CALCULAATIONS\n",
"dH= k+k1*T+k2*T^2+k3*T^3\n",
"//RESULTS\n",
"printf ('Standard heat of reaction = %.f cal',dH)"
   ]
   }
,
{
		   "cell_type": "markdown",
		   "metadata": {},
		   "source": [
			"## Example 13.4: example_4.sce"
		   ]
		  },
  {
"cell_type": "code",
	   "execution_count": null,
	   "metadata": {
	    "collapsed": true
	   },
	   "outputs": [],
"source": [
"clc\n",
"//initialisation of variables\n",
"clear\n",
"k1= -9130 //cal\n",
"k2= 7.46 //cal K^-1\n",
"k3= -3.69*10^-3 //K^-2\n",
"k4= 0.235*10^-6 //K^-3\n",
"k5= -12.07\n",
"T= 298 //K\n",
"R= 1.987 //cal deg^-1 mole^-1\n",
"//CALCULATIONS\n",
"dF= k1+k2*T*log(T)+k3*T^2+k4*T^3+k5*R*T\n",
"//RESULTS\n",
"printf ('Free energy = %.f cal',dF)"
   ]
   }
,
{
		   "cell_type": "markdown",
		   "metadata": {},
		   "source": [
			"## Example 13.5: example_5.sce"
		   ]
		  },
  {
"cell_type": "code",
	   "execution_count": null,
	   "metadata": {
	    "collapsed": true
	   },
	   "outputs": [],
"source": [
"clc\n",
"//initialisation of variables\n",
"clear\n",
"T= 25 //C\n",
"dF1= 61.44 //kcal\n",
"dF= 54.65 //kcal\n",
"R= 4.576 //cal deg^-1 mole^-1\n",
"//CALCULATIONS\n",
"Kf= 10^(-(dF1-dF)*10^3/(R*(273.2+T)))\n",
"//RESULTS\n",
"printf ('Kf at this temperature = %.2e ',Kf)"
   ]
   }
,
{
		   "cell_type": "markdown",
		   "metadata": {},
		   "source": [
			"## Example 13.6: example_6.sce"
		   ]
		  },
  {
"cell_type": "code",
	   "execution_count": null,
	   "metadata": {
	    "collapsed": true
	   },
	   "outputs": [],
"source": [
"clc\n",
"//initialisation of variables\n",
"clear\n",
"R= 4.576 //cal mole^-1 K^-1\n",
"T= 25 //C\n",
"p1= 122 //mm\n",
"F1= -5.88 //kcal\n",
"F2= -33 //kcal\n",
"//CALCULATIONS\n",
"dF= R*(273.2+T)*log10(p1/760)\n",
"F= F2+F1+(dF/1000)\n",
"//RESULTS\n",
"printf ('Standard free energy change = %.f kcal',F)"
   ]
   }
,
{
		   "cell_type": "markdown",
		   "metadata": {},
		   "source": [
			"## Example 13.7: example_7.sce"
		   ]
		  },
  {
"cell_type": "code",
	   "execution_count": null,
	   "metadata": {
	    "collapsed": true
	   },
	   "outputs": [],
"source": [
"clc\n",
"//initialisation of variables\n",
"clear\n",
"r= 3.38*10^-4 //volt deg^-1\n",
"F= 23070 //cal volt^-1 deg^-1\n",
"Sagcl= 23 //E.U.mole^-1\n",
"Shg= 18.5 //E.U.mole^-1\n",
"Sag= 10.2 //E.U.mole^-1\n",
"//CALCULATIONS\n",
"dS= F*r\n",
"shgcl= 2*-(dS-Sagcl-Shg+Sag)\n",
"//RESULTS\n",
"printf ('dS  = %.1f E.U.cal deg^-1',dS)\n",
"printf ('\n molar entropy  = %.f E.U.mole^-1',shgcl)\n",
""
   ]
   }
,
{
		   "cell_type": "markdown",
		   "metadata": {},
		   "source": [
			"## Example 13.8: example_8.sce"
		   ]
		  },
  {
"cell_type": "code",
	   "execution_count": null,
	   "metadata": {
	    "collapsed": true
	   },
	   "outputs": [],
"source": [
"clc\n",
"//initialisation of variables\n",
"clear\n",
"s1= 44.5 //cal deg^-1 mole^-1\n",
"s2= 49 //cal deg^-1 mole^-1\n",
"s3= 51.06 //cal deg^-1 mole^-1\n",
"s4= 16.75 //cal deg^-1 mole^-1\n",
"h1= -17.9 //kcal mole^-1\n",
"h2= 0 //kcal mole^-1\n",
"h3= -94 //kcal mole^-1\n",
"h4= -68.3 //kcal mole^-1\n",
"T= 25 //C\n",
"n= 2\n",
"//CALCULATIONS\n",
"dS= s3+2*s4-s1-n*s2\n",
"dH= h3+n*h4-h1-n*h2\n",
"dF= -0.001*(273.2+T)*dS+dH\n",
"//RESULTS\n",
"printf ('Entropy Change = %.1f E.U',dS)\n",
"printf ('\n Enthalpy Change = %.1f E.U',dH)\n",
"printf ('\n Standard free energy = %.1f kcal',dF)"
   ]
   }
,
{
		   "cell_type": "markdown",
		   "metadata": {},
		   "source": [
			"## Example 13.9: example_9.sce"
		   ]
		  },
  {
"cell_type": "code",
	   "execution_count": null,
	   "metadata": {
	    "collapsed": true
	   },
	   "outputs": [],
"source": [
"clc\n",
"//initialisation of variables\n",
"clear\n",
"a= -15.84 \n",
"b= 22.84*10^-3\n",
"c= -80.97*10^-7 \n",
"T= 25 //C\n",
"H1= -48.1 //kcal\n",
"H2= -26.4\n",
"dS= 53.09\n",
"T1= 327 //C\n",
"r1= 0.58\n",
"r2= 1.1\n",
"r3= 1.13\n",
"//CALCULATIONS\n",
"dH= (H1-H2)*1000-a*(273.2+T)-0.5*b*(273.2+T)^2-0.33*c*(273.2+T)^3\n",
"dF= (H1-H2)*1000+(273.2+T)*dS\n",
"I= (dF-dH+a*(273.2+T)*log(273.2+T)+0.5*b*(273.2+T)^2+0.166*c*(273.2+T)^3)/(273.2+T)\n",
"dF1= (dH-a*(273+T1)*log(273+T1)-0.5*b*(273+T1)^2-0.166*c*(273+T1)^3)+I*(273+T1)\n",
"Kf= 10^(-dF1/(4.576*(273+T1)))\n",
"Jr= r1/(r2^2*r3)\n",
"Kp= Kf/Jr\n",
"//RESULTS\n",
"printf ('heat of formation = %.f cal',dH)\n",
"printf ('\n Entropy = %.f cal',dF)\n",
"printf ('\n Inertia = %.f gm cm^2',I)\n",
"printf ('\n Entropy = %.f cal',dF1)\n",
"printf ('\n Kf = %.1e ',Kf)\n",
"printf ('\n Kp = %.1e ',Kp)"
   ]
   }
],
"metadata": {
		  "kernelspec": {
		   "display_name": "Scilab",
		   "language": "scilab",
		   "name": "scilab"
		  },
		  "language_info": {
		   "file_extension": ".sce",
		   "help_links": [
			{
			 "text": "MetaKernel Magics",
			 "url": "https://github.com/calysto/metakernel/blob/master/metakernel/magics/README.md"
			}
		   ],
		   "mimetype": "text/x-octave",
		   "name": "scilab",
		   "version": "0.7.1"
		  }
		 },
		 "nbformat": 4,
		 "nbformat_minor": 0
}
