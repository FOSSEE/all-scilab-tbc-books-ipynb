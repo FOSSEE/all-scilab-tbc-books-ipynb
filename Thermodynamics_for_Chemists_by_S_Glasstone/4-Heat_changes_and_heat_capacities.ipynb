{
"cells": [
 {
		   "cell_type": "markdown",
	   "metadata": {},
	   "source": [
       "# Chapter 4: Heat changes and heat capacities"
	   ]
	},
{
		   "cell_type": "markdown",
		   "metadata": {},
		   "source": [
			"## Example 4.1: example_1.sce"
		   ]
		  },
  {
"cell_type": "code",
	   "execution_count": null,
	   "metadata": {
	    "collapsed": true
	   },
	   "outputs": [],
"source": [
"clc\n",
"//initialisation of variables\n",
"clear\n",
"T1= 400 //K\n",
"T2= 300 //K\n",
"k1= 6.095 //cal mole^-1 K^-1\n",
"k2= 3.253*10^-3 //cal mole^-1 K^-2\n",
"k3= -1.017*10^-6 //cal mole^-1 K^-3\n",
"//CALCULATIONS\n",
"dH= k1*(T1-T2)+0.5*k2*(T1^2-T2^2)+(1/3)*k3*(T1^3-T2^3)\n",
"//RESULTS\n",
"printf ('Heat required to raise the temperature = %.f cal-mole^-1',dH)"
   ]
   }
,
{
		   "cell_type": "markdown",
		   "metadata": {},
		   "source": [
			"## Example 4.2: example_2.sce"
		   ]
		  },
  {
"cell_type": "code",
	   "execution_count": null,
	   "metadata": {
	    "collapsed": true
	   },
	   "outputs": [],
"source": [
"clc\n",
"//initialisation of variables\n",
"clear\n",
"p1= 10 //atm\n",
"p2= 1 //atm\n",
"T1= 25 //C\n",
"n= 2/5\n",
"//CALCULATIONS\n",
"T2= (p1/p2)^n*(273+T1)-273\n",
"//RESULTS\n",
"printf ('Final temperature = %.f C',T2)"
   ]
   }
,
{
		   "cell_type": "markdown",
		   "metadata": {},
		   "source": [
			"## Example 4.3: example_3.sce"
		   ]
		  },
  {
"cell_type": "code",
	   "execution_count": null,
	   "metadata": {
	    "collapsed": true
	   },
	   "outputs": [],
"source": [
"clc\n",
"//initialisation of variables\n",
"clear\n",
"p1= 20 //atm\n",
"p2= 200 //atm\n",
"T1= 25 //C\n",
"n= 2/7\n",
"//CALCULATIONS\n",
"T2= (p1/p2)^n*(273+T1)-273\n",
"//RESULTS\n",
"printf ('Final temperature = %.f C',T2)"
   ]
   }
,
{
		   "cell_type": "markdown",
		   "metadata": {},
		   "source": [
			"## Example 4.4: example_4.sce"
		   ]
		  },
  {
"cell_type": "code",
	   "execution_count": null,
	   "metadata": {
	    "collapsed": true
	   },
	   "outputs": [],
"source": [
"clc\n",
"//initialisation of variables\n",
"clear\n",
"Cv= 5*4.18*10^7 //ergs deg^-1 mole^-1\n",
"T1= 25 //C\n",
"P2= 5 //atm\n",
"P1= 1 //atm\n",
"n= 2/7\n",
"//CALCULATIONS\n",
"W= Cv*(273+T1)*(1-(P2/P1)^n)\n",
"//RESULTS\n",
"printf ('Work of expansion = %.2e ergs mole^-1',W)"
   ]
   }
,
{
		   "cell_type": "markdown",
		   "metadata": {},
		   "source": [
			"## Example 4.5: example_5.sce"
		   ]
		  },
  {
"cell_type": "code",
	   "execution_count": null,
	   "metadata": {
	    "collapsed": true
	   },
	   "outputs": [],
"source": [
"clc\n",
"//initialisation of variables\n",
"clear\n",
"Ti= 25 //C\n",
"p= 200 //atm\n",
"p= 1 //atm\n",
"dT= 31 //C \n",
"//CALCULATIONS\n",
"Tf= Ti-dT\n",
"//RESULTS\n",
"printf ('Final temperature = %.f degrees',Tf)"
   ]
   }
,
{
		   "cell_type": "markdown",
		   "metadata": {},
		   "source": [
			"## Example 4.6: example_6.sce"
		   ]
		  },
  {
"cell_type": "code",
	   "execution_count": null,
	   "metadata": {
	    "collapsed": true
	   },
	   "outputs": [],
"source": [
"clc\n",
"//initialisation of variables\n",
"clear\n",
"k1= 6.45//cal deg^-1 mol^-1\n",
"k2= 1.41*10^-3 //cal deg^-2 mol^-1\n",
"k3= -0.81*10^-7 //cal deg^-3 mol^-1\n",
"T= 300 //K\n",
"k4= -0.21*1.36 //cal deg^-3 mol^-1 atm^-1\n",
"k5= 6.87*1.5//cal deg^-3 mol^-1 atm^-2\n",
"p= 10^-3\n",
"//CALCULATIONS\n",
"Cp= k1+k2*T+k3*T^2\n",
"dCp= k2+2*k3*T\n",
"dCp1= k4*p+k5*p\n",
"//RESULTS\n",
"printf ('Cp = %.2f cal deg^-1 mole^-1',Cp)\n",
"printf ('\n Specific heat at temperature = %.2e cal deg^-2 mole^-1',dCp)\n",
"printf ('\n Specific heat at pressure = %.2e cal deg^-2 mole^-1 atm^-1',dCp1)"
   ]
   }
],
"metadata": {
		  "kernelspec": {
		   "display_name": "Scilab",
		   "language": "scilab",
		   "name": "scilab"
		  },
		  "language_info": {
		   "file_extension": ".sce",
		   "help_links": [
			{
			 "text": "MetaKernel Magics",
			 "url": "https://github.com/calysto/metakernel/blob/master/metakernel/magics/README.md"
			}
		   ],
		   "mimetype": "text/x-octave",
		   "name": "scilab",
		   "version": "0.7.1"
		  }
		 },
		 "nbformat": 4,
		 "nbformat_minor": 0
}
