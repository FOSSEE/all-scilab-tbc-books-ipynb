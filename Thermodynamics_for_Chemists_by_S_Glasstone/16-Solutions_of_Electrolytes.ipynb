{
"cells": [
 {
		   "cell_type": "markdown",
	   "metadata": {},
	   "source": [
       "# Chapter 16: Solutions of Electrolytes"
	   ]
	},
{
		   "cell_type": "markdown",
		   "metadata": {},
		   "source": [
			"## Example 16.1: example_1.sce"
		   ]
		  },
  {
"cell_type": "code",
	   "execution_count": null,
	   "metadata": {
	    "collapsed": true
	   },
	   "outputs": [],
"source": [
"clc\n",
"//initialisation of variables\n",
"clear\n",
"v= 1\n",
"m= 0.5\n",
"//CALCULATIONS\n",
"m1 = 2*m\n",
"m2 = 1*m\n",
"v1 = 2*v\n",
"v2 = 1*v\n",
"M = (m1^2*m2)^(1/(v1+v2))\n",
"//RESULTS\n",
"printf ('mean ionic molality = %.1f ',m2)\n",
"printf ('\n mean ionic molality = %.3f ',M)"
   ]
   }
,
{
		   "cell_type": "markdown",
		   "metadata": {},
		   "source": [
			"## Example 16.2: example_2.sce"
		   ]
		  },
  {
"cell_type": "code",
	   "execution_count": null,
	   "metadata": {
	    "collapsed": true
	   },
	   "outputs": [],
"source": [
"clc\n",
"//initialisation of variables\n",
"clear\n",
"n= 2\n",
"m= 0.01422\n",
"m1= 0.00869\n",
"m2= 0.025\n",
"//CALCULATIONS\n",
"M = m2+m1\n",
"M1= (M*m1)^(1/n)\n",
"r= m/M1\n",
"//RESULTS\n",
"printf ('mean ionic molality = %.3f ',r)"
   ]
   }
,
{
		   "cell_type": "markdown",
		   "metadata": {},
		   "source": [
			"## Example 16.3: example_3.sce"
		   ]
		  },
  {
"cell_type": "code",
	   "execution_count": null,
	   "metadata": {
	    "collapsed": true
	   },
	   "outputs": [],
"source": [
"clc\n",
"//initialisation of variables\n",
"clear\n",
"mu= 1\n",
"mb= 2\n",
"m= 1 \n",
"m1= 2\n",
"//CALCULATIONS\n",
"ym1= 0.5*(mu*m^2+mu*m^2)\n",
"ym2= 0.5*(mb*m^2+m*m1^2)\n",
"ym3= 0.5*(mu*m1^2+mu*m1^2)\n",
"//RESULTS\n",
"printf ('ionic strength of solution = %.f *m',ym1)\n",
"printf ('\n ionic strength of solution = %.f *m',ym2)\n",
"printf ('\n ionic strength of solution = %.f *m',ym3)"
   ]
   }
],
"metadata": {
		  "kernelspec": {
		   "display_name": "Scilab",
		   "language": "scilab",
		   "name": "scilab"
		  },
		  "language_info": {
		   "file_extension": ".sce",
		   "help_links": [
			{
			 "text": "MetaKernel Magics",
			 "url": "https://github.com/calysto/metakernel/blob/master/metakernel/magics/README.md"
			}
		   ],
		   "mimetype": "text/x-octave",
		   "name": "scilab",
		   "version": "0.7.1"
		  }
		 },
		 "nbformat": 4,
		 "nbformat_minor": 0
}
