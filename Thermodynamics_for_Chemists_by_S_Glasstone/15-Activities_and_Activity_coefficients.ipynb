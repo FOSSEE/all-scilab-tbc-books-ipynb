{
"cells": [
 {
		   "cell_type": "markdown",
	   "metadata": {},
	   "source": [
       "# Chapter 15: Activities and Activity coefficients"
	   ]
	},
{
		   "cell_type": "markdown",
		   "metadata": {},
		   "source": [
			"## Example 15.1: example_1.sce"
		   ]
		  },
  {
"cell_type": "code",
	   "execution_count": null,
	   "metadata": {
	    "collapsed": true
	   },
	   "outputs": [],
"source": [
"clc\n",
"//initialisation of variables\n",
"clear\n",
"p1= 17.222 //mm\n",
"p2= 17.535 //mm\n",
"n= 1 //mole\n",
"m= 1000 //gms\n",
"M= 18.016 //gms\n",
"//CALCULATIONS\n",
"a= p1/p2\n",
"N1= (m/M)/(n+(m/M))\n",
"//RESULTS\n",
"printf ('activity = %.4f ',a)\n",
"printf ('\n activity coefficient = %.4f ',N1)"
   ]
   }
,
{
		   "cell_type": "markdown",
		   "metadata": {},
		   "source": [
			"## Example 15.2: example_2.sce"
		   ]
		  },
  {
"cell_type": "code",
	   "execution_count": null,
	   "metadata": {
	    "collapsed": true
	   },
	   "outputs": [],
"source": [
"clc\n",
"//initialisation of variables\n",
"clear\n",
"M= 0.1 //molal\n",
"Tf= 0.345 //C\n",
"k= -9.702*10^-3\n",
"k1= -5.2*10^-6\n",
"//CALCULATIONS\n",
"a= %e^(k*Tf+k1*Tf^2)\n",
"//RESULTS\n",
"printf ('activity = %.4f ',a)"
   ]
   }
,
{
		   "cell_type": "markdown",
		   "metadata": {},
		   "source": [
			"## Example 15.3: example_3.sce"
		   ]
		  },
  {
"cell_type": "code",
	   "execution_count": null,
	   "metadata": {
	    "collapsed": true
	   },
	   "outputs": [],
"source": [
"clc\n",
"//initialisation of variables\n",
"clear\n",
"R= 1.98*10^-4 //cal mole^-1 deg^-1\n",
"T= 20 //C\n",
"E= -0.11118 //volt\n",
"n2= 0.00326\n",
"n21= 0.0986\n",
"//CALCULATIONS\n",
"r= 10^((-E/(R*(273.16+T)))-log10(n21)+log10(n2))+n21\n",
"a2= r*n21\n",
"//RESULTS\n",
"printf ('a2/N2 = %.3f ',r)\n",
"printf ('\n a2 = %.4f ',a2)\n",
""
   ]
   }
,
{
		   "cell_type": "markdown",
		   "metadata": {},
		   "source": [
			"## Example 15.4: example_4.sce"
		   ]
		  },
  {
"cell_type": "code",
	   "execution_count": null,
	   "metadata": {
	    "collapsed": true
	   },
	   "outputs": [],
"source": [
"clc\n",
"//initialisation of variables\n",
"clear\n",
"n1= 0.424 //mole fraction\n",
"a2= 3.268\n",
"n= 8.3\n",
"//CALCULATIONS\n",
"r= a2/(n*n1)\n",
"//RESULTS\n",
"printf ('a2/N2 = %.3f ',r)"
   ]
   }
,
{
		   "cell_type": "markdown",
		   "metadata": {},
		   "source": [
			"## Example 15.5: example_5.sce"
		   ]
		  },
  {
"cell_type": "code",
	   "execution_count": null,
	   "metadata": {
	    "collapsed": true
	   },
	   "outputs": [],
"source": [
"clc\n",
"//initialisation of variables\n",
"clear\n",
"e= 0.7865 //volt\n",
"emf= 0.8085 //emf\n",
"T= 500 //C\n",
"R= 1.98*10^-4 //cal mol6-1 deg^-1\n",
"n2= 0.5937\n",
"//CALCULATIONS\n",
"a2= 10^((e-emf)/(R*(273+T)))\n",
"r= a2/n2\n",
"//RESULTS\n",
"printf ('activity coefficient = %.2f ',r)"
   ]
   }
,
{
		   "cell_type": "markdown",
		   "metadata": {},
		   "source": [
			"## Example 15.6: example_6.sce"
		   ]
		  },
  {
"cell_type": "code",
	   "execution_count": null,
	   "metadata": {
	    "collapsed": true
	   },
	   "outputs": [],
"source": [
"clc\n",
"//initialisation of variables\n",
"clear\n",
"ac= 1.211\n",
"n2= 0.5937\n",
"//CALCULATIONS\n",
"b= log10(ac)/(1-n2)^2\n",
"//RESULTS\n",
"printf ('Constant = %.4f ',b)"
   ]
   }
],
"metadata": {
		  "kernelspec": {
		   "display_name": "Scilab",
		   "language": "scilab",
		   "name": "scilab"
		  },
		  "language_info": {
		   "file_extension": ".sce",
		   "help_links": [
			{
			 "text": "MetaKernel Magics",
			 "url": "https://github.com/calysto/metakernel/blob/master/metakernel/magics/README.md"
			}
		   ],
		   "mimetype": "text/x-octave",
		   "name": "scilab",
		   "version": "0.7.1"
		  }
		 },
		 "nbformat": 4,
		 "nbformat_minor": 0
}
