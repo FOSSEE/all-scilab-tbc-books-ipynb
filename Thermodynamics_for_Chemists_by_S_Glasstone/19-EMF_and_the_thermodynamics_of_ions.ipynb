{
"cells": [
 {
		   "cell_type": "markdown",
	   "metadata": {},
	   "source": [
       "# Chapter 19: EMF and the thermodynamics of ions"
	   ]
	},
{
		   "cell_type": "markdown",
		   "metadata": {},
		   "source": [
			"## Example 19.1: example_1.sce"
		   ]
		  },
  {
"cell_type": "code",
	   "execution_count": null,
	   "metadata": {
	    "collapsed": true
	   },
	   "outputs": [],
"source": [
"clc\n",
"//initialisation of variables\n",
"clear\n",
"h= 23070 //cal volt^-1 g equiv^-1\n",
"n= 2 //electrons\n",
"e= 1.005 //volts\n",
"T= 25 //C\n",
"e1= 1.015 //volts\n",
"//CALCULATIONS\n",
"dH= (-n*h*(e-((273.2+T)*(e-e1)/T)))/1000\n",
"//RESULTS\n",
"printf ('Heat change in the cell reaction = %.2f kcal',dH)"
   ]
   }
,
{
		   "cell_type": "markdown",
		   "metadata": {},
		   "source": [
			"## Example 19.2: example_2.sce"
		   ]
		  },
  {
"cell_type": "code",
	   "execution_count": null,
	   "metadata": {
	    "collapsed": true
	   },
	   "outputs": [],
"source": [
"clc\n",
"//initialisation of variables\n",
"clear\n",
"E= -0.344 //volt\n",
"E1= -0.401 //volt\n",
"R= 0.05914 //volt\n",
"n= 4\n",
"T= 25 //C\n",
"H= -7300 //cal\n",
"//CALCULATIONS\n",
"po2= 10^(-n*(E-E1)/R)\n",
"dH= -0.5*n*H+0.5*n*(273+T)\n",
"//RESULTS\n",
"printf ('Pressure of Oxygen = %.1e atm',po2)\n",
"printf ('\n Change in Enthalpy = %.f cal',dH+4)"
   ]
   }
,
{
		   "cell_type": "markdown",
		   "metadata": {},
		   "source": [
			"## Example 19.3: example_3.sce"
		   ]
		  },
  {
"cell_type": "code",
	   "execution_count": null,
	   "metadata": {
	    "collapsed": true
	   },
	   "outputs": [],
"source": [
"clc\n",
"//initialisation of variables\n",
"clear\n",
"H= -60.15 //kcal\n",
"e= 2.924 //volt\n",
"v= 23070 //cc\n",
"T= 25 //C\n",
"Sm= 15.2 //E.U.mole^-1\n",
"Sg= 31.2 //E.U.mole^-1\n",
"//CALCULATIONS\n",
"dS= (H*1000-(-e*v))/(273.2+T)\n",
"Sk= (dS+Sm)-0.5*Sg\n",
"//RESULTS\n",
"printf ('Stanadard entropy of pottasium ion  = %.1f E.U.g ion^-1',Sk)"
   ]
   }
,
{
		   "cell_type": "markdown",
		   "metadata": {},
		   "source": [
			"## Example 19.4: example_4.sce"
		   ]
		  },
  {
"cell_type": "code",
	   "execution_count": null,
	   "metadata": {
	    "collapsed": true
	   },
	   "outputs": [],
"source": [
"clc\n",
"//initialisation of variables\n",
"clear\n",
"dS= -4.61 //E.Ugm ion^-1\n",
"SH= 31.21 //E.U gm ion^-1\n",
"Sm= 9.95 //E.U gm ion^-1\n",
"//CALCULATIONS\n",
"Szn= dS-SH+Sm\n",
"//RESULTS\n",
"printf ('Stanadard entropy of zinc ion  = %.1f E.U.g ion^-1',Szn)"
   ]
   }
,
{
		   "cell_type": "markdown",
		   "metadata": {},
		   "source": [
			"## Example 19.5: example_5.sce"
		   ]
		  },
  {
"cell_type": "code",
	   "execution_count": null,
	   "metadata": {
	    "collapsed": true
	   },
	   "outputs": [],
"source": [
"clc\n",
"//initialisation of variables\n",
"clear\n",
"n= 2\n",
"T= 25 //C\n",
"R= 4.576 \n",
"is= 9.57*10^-6\n",
"n1= 4\n",
"f= 0.509 //volts\n",
"dH= 5970 //cal\n",
"SBa= 2.3 //E.U. gm ion^-1\n",
"Sba= 31.5 //E.U. gm ion6-1\n",
"//CALCULATIONS\n",
"r= 10^(-n1*f*sqrt(n1*is))\n",
"dF= -n*R*(273.2+T)*log10(is*r)\n",
"dS= (dH-dF)/(273.2+T)\n",
"Sso= Sba-SBa+dS\n",
"//RESULTS\n",
"printf ('Stanadard entropy of sulfate ion  = %.1f E.U.g ion^-1',Sso)"
   ]
   }
,
{
		   "cell_type": "markdown",
		   "metadata": {},
		   "source": [
			"## Example 19.6: example_6.sce"
		   ]
		  },
  {
"cell_type": "code",
	   "execution_count": null,
	   "metadata": {
	    "collapsed": true
	   },
	   "outputs": [],
"source": [
"clc\n",
"//initialisation of variables\n",
"clear\n",
"f1= 20.66 //kcal\n",
"h1= 21.6 //kcal\n",
"e1= 50.34 //kcal\n",
"f2= 0 //kcal\n",
"f3= -56.70 //kcal\n",
"f4= -26.25 //kcal\n",
"h2= 0 //kcal\n",
"h3= -68.32 //kcal\n",
"h4= -49.5 //kcal\n",
"e2= 49.00 //kcal\n",
"e3= 16.75 //kcal\n",
"e4= 35 //kcal\n",
"n1= 2\n",
"n2= 1.5\n",
"n3= 1\n",
"T= 25 //C\n",
"//CALCULAIONS\n",
"dF= n1*f4-(n1*f1+f3)\n",
"dH= n1*h4-(n1*h1+h3)\n",
"dS= n1*e4-(n1*e1+e3+n2*e2)\n",
"dS1= (dH-dF)*1000/(273.2+T)\n",
"//RESULTS\n",
"printf ('free energy  = %.2f kcal',dF)\n",
"printf ('\n heat of formation  = %.1f kcal',dH)\n",
"printf ('\n Entropy = %.1f E.U',dS)\n",
"printf ('\n Entropy using heat of formation and free energy  = %.1f E.U',dS1)"
   ]
   }
],
"metadata": {
		  "kernelspec": {
		   "display_name": "Scilab",
		   "language": "scilab",
		   "name": "scilab"
		  },
		  "language_info": {
		   "file_extension": ".sce",
		   "help_links": [
			{
			 "text": "MetaKernel Magics",
			 "url": "https://github.com/calysto/metakernel/blob/master/metakernel/magics/README.md"
			}
		   ],
		   "mimetype": "text/x-octave",
		   "name": "scilab",
		   "version": "0.7.1"
		  }
		 },
		 "nbformat": 4,
		 "nbformat_minor": 0
}
