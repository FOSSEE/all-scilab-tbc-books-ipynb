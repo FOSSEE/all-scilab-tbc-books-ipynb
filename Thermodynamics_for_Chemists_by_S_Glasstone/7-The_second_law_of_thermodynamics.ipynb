{
"cells": [
 {
		   "cell_type": "markdown",
	   "metadata": {},
	   "source": [
       "# Chapter 7: The second law of thermodynamics"
	   ]
	},
{
		   "cell_type": "markdown",
		   "metadata": {},
		   "source": [
			"## Example 7.1: example_1.sce"
		   ]
		  },
  {
"cell_type": "code",
	   "execution_count": null,
	   "metadata": {
	    "collapsed": true
	   },
	   "outputs": [],
"source": [
"clc\n",
"//initialisation of variables\n",
"clear\n",
"T1= 308 //K\n",
"T2= 373 //K\n",
"T3= 538 //K\n",
"//CALCULATIONS\n",
"e1= (T2-T1)/T2\n",
"e2= (T3-T1)/T3\n",
"//RESULTS\n",
"printf ('Efficiency = %.3f ',e1)\n",
"printf ('\n Efficiency = %.3f ',e2)"
   ]
   }
,
{
		   "cell_type": "markdown",
		   "metadata": {},
		   "source": [
			"## Example 7.2: example_2.sce"
		   ]
		  },
  {
"cell_type": "code",
	   "execution_count": null,
	   "metadata": {
	    "collapsed": true
	   },
	   "outputs": [],
"source": [
"clc\n",
"//initialisation of variables\n",
"clear\n",
"T= 25 //C\n",
"T1= 0 //C\n",
"h= 79.8 //cal g^-1\n",
"j= 4.18*10^7 //ergs\n",
"//CALCULATIONS\n",
"Wc= (T-T1)*h/(273+T1)\n",
"W= (T-T1)*h*j/(273+T1)\n",
"//RESULTS\n",
"printf ('Work required = %.1f cal',Wc)\n",
"printf ('\n Work required = %.2e ergs',W)"
   ]
   }
,
{
		   "cell_type": "markdown",
		   "metadata": {},
		   "source": [
			"## Example 7.3: example_3.sce"
		   ]
		  },
  {
"cell_type": "code",
	   "execution_count": null,
	   "metadata": {
	    "collapsed": true
	   },
	   "outputs": [],
"source": [
"clc\n",
"//initialisation of variables\n",
"clear\n",
"R= 1.98 //cal//mol K\n",
"x= 0.75\n",
"n= 9\n",
"//CALCULATIONS\n",
"dS= -R*(n*(x/n)*log(x/n)+(1-x)*log(1-x))\n",
"//RESULTS\n",
"printf ('Entropy = %.2f cal deg^-1 mole^-1',dS)"
   ]
   }
],
"metadata": {
		  "kernelspec": {
		   "display_name": "Scilab",
		   "language": "scilab",
		   "name": "scilab"
		  },
		  "language_info": {
		   "file_extension": ".sce",
		   "help_links": [
			{
			 "text": "MetaKernel Magics",
			 "url": "https://github.com/calysto/metakernel/blob/master/metakernel/magics/README.md"
			}
		   ],
		   "mimetype": "text/x-octave",
		   "name": "scilab",
		   "version": "0.7.1"
		  }
		 },
		 "nbformat": 4,
		 "nbformat_minor": 0
}
