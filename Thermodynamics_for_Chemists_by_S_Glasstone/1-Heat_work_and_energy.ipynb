{
"cells": [
 {
		   "cell_type": "markdown",
	   "metadata": {},
	   "source": [
       "# Chapter 1: Heat work and energy"
	   ]
	},
{
		   "cell_type": "markdown",
		   "metadata": {},
		   "source": [
			"## Example 1.1: example_1.sce"
		   ]
		  },
  {
"cell_type": "code",
	   "execution_count": null,
	   "metadata": {
	    "collapsed": true
	   },
	   "outputs": [],
"source": [
"clc\n",
"//initialisation of variables\n",
"clear\n",
"q= 26.45 //coloumbs\n",
"e= 2.432 //volts\n",
"//CALCULATIONS\n",
"Q1= q*e\n",
"Q2= Q1*1.0002*10^7\n",
"//RESULTS\n",
"printf ('Energy expenditure in joules = %.2f int.joules',Q1)\n",
"printf ('\n Energy expenditure in ergs = %.2e ergs',Q2)"
   ]
   }
,
{
		   "cell_type": "markdown",
		   "metadata": {},
		   "source": [
			"## Example 1.2: example_1.sce"
		   ]
		  },
  {
"cell_type": "code",
	   "execution_count": null,
	   "metadata": {
	    "collapsed": true
	   },
	   "outputs": [],
"source": [
"clc\n",
"//initialisation of variables\n",
"clear\n",
"I= 0.565 //amp\n",
"R= 15.43 //ohms\n",
"t= 185 //secs\n",
"Tr= 0.544 //C\n",
"//CALCULATIONS\n",
"Q1= I^2*R*t\n",
"Q2= I^2*R*t/Tr\n",
"//RESULTS\n",
"printf ('Heat capacity = %.f int.joules deg^-1',Q2)\n",
" "
   ]
   }
,
{
		   "cell_type": "markdown",
		   "metadata": {},
		   "source": [
			"## Example 1.3: example_3.sce"
		   ]
		  },
  {
"cell_type": "code",
	   "execution_count": null,
	   "metadata": {
	    "collapsed": true
	   },
	   "outputs": [],
"source": [
"clc\n",
"//initialisation of variables\n",
"clear\n",
"I= 0.565 //amp\n",
"R= 15.43 //ohms\n",
"t= 185 //secs\n",
"Tr= 0.544 //C\n",
"//CALCULATIONS\n",
"Q1= I^2*R*t\n",
"Q2= I^2*R*t/(Tr*4.183)\n",
"//RESULTS\n",
"printf ('Heat capacity = %.1f calories',Q2)\n",
" "
   ]
   }
,
{
		   "cell_type": "markdown",
		   "metadata": {},
		   "source": [
			"## Example 1.4: example_4.sce"
		   ]
		  },
  {
"cell_type": "code",
	   "execution_count": null,
	   "metadata": {
	    "collapsed": true
	   },
	   "outputs": [],
"source": [
"clc\n",
"//initialisation of variables\n",
"clear\n",
"v= 1 //lit\n",
"p= 1 //atm\n",
"h= 76 //cm\n",
"d= 13.595 //kg/cm^3\n",
"g= 980.66 //dunes cm^-2\n",
"j= 4.18 //joules\n",
"//CALCULATIONS\n",
"W= v*p\n",
"W1= h*d*g\n",
"W2= W1*10^-4\n",
"W3= W2/j\n",
"//RESULTS\n",
"printf ('Work done in lit-atm = %.f lit-atm',W)\n",
"printf ('\n Work done in dynes = %.2e dynes cm^-2',W1)\n",
"printf ('\n Work done in ergs = %.2e ergs',W2)\n",
"printf ('\n Work done in calories = %.2f calories',W3)"
   ]
   }
],
"metadata": {
		  "kernelspec": {
		   "display_name": "Scilab",
		   "language": "scilab",
		   "name": "scilab"
		  },
		  "language_info": {
		   "file_extension": ".sce",
		   "help_links": [
			{
			 "text": "MetaKernel Magics",
			 "url": "https://github.com/calysto/metakernel/blob/master/metakernel/magics/README.md"
			}
		   ],
		   "mimetype": "text/x-octave",
		   "name": "scilab",
		   "version": "0.7.1"
		  }
		 },
		 "nbformat": 4,
		 "nbformat_minor": 0
}
