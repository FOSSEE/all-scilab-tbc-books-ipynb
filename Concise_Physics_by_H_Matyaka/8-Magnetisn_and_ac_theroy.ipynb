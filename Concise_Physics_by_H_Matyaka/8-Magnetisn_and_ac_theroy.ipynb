{
"cells": [
 {
		   "cell_type": "markdown",
	   "metadata": {},
	   "source": [
       "# Chapter 8: Magnetisn and ac theroy"
	   ]
	},
{
		   "cell_type": "markdown",
		   "metadata": {},
		   "source": [
			"## Example 8.10: power_loss_ratio.sce"
		   ]
		  },
  {
"cell_type": "code",
	   "execution_count": null,
	   "metadata": {
	    "collapsed": true
	   },
	   "outputs": [],
"source": [
"clc\n",
"clear\n",
"//input\n",
"v=15*10^3 //voltage\n",
"p=80*10^3 //power\n",
"r=430 //resistence\n",
"v1=150*10^3//stepped value\n",
"//calculation\n",
"i=p/v//cable current\n",
"i1=p/v1//stepped up cable current\n",
"k=i*i/(i1*i1)//ratio of power loss\n",
"//output\n",
"printf('the ratio of power loss is %d',k)"
   ]
   }
,
{
		   "cell_type": "markdown",
		   "metadata": {},
		   "source": [
			"## Example 8.11: secondary_power_output.sce"
		   ]
		  },
  {
"cell_type": "code",
	   "execution_count": null,
	   "metadata": {
	    "collapsed": true
	   },
	   "outputs": [],
"source": [
"clc\n",
"clear\n",
"//input\n",
"ep=150*10^3 //electric energy to primary\n",
"e=0.69 //efficieny\n",
"t=70 //time\n",
"//calculation\n",
"es=e*ep//transformer equation\n",
"ps=es/t//power\n",
"//output\n",
"printf('the power output is %3.3e W',ps)"
   ]
   }
,
{
		   "cell_type": "markdown",
		   "metadata": {},
		   "source": [
			"## Example 8.12: charge_produced.sce"
		   ]
		  },
  {
"cell_type": "code",
	   "execution_count": null,
	   "metadata": {
	    "collapsed": true
	   },
	   "outputs": [],
"source": [
"clc\n",
"clear\n",
"//input\n",
"v=250 //dc voltage\n",
"s=0.22 //length\n",
"d=4*10^-3 //diameter\n",
"//calculation\n",
"q=8.9*10^-12*1*0.22*0.22*250/(4*10^-3)//for air\n",
"q1=8.9*10^-12*6.8*0.22*0.22*250/(4*10^-3)//for material\n",
"//output\n",
"printf('the permittivity  for air is %3.3e C',q)\n",
"printf('\n the relative permittivity for material is %3.3e C',q1)"
   ]
   }
,
{
		   "cell_type": "markdown",
		   "metadata": {},
		   "source": [
			"## Example 8.13: relative_permittivity.sce"
		   ]
		  },
  {
"cell_type": "code",
	   "execution_count": null,
	   "metadata": {
	    "collapsed": true
	   },
	   "outputs": [],
"source": [
"clc\n",
"clear\n",
"//input\n",
"d=6*10^-5\n",
"w=0.1\n",
"er=9.4 //relative permittivity of medium\n",
"c=1*10^-6 //capacitance\n",
"//calculation\n",
"l=c*d/(8.9*10^-12*er*w)//parallel plate capacitor formula\n",
"//output\n",
"printf('the length of wax paper is %3.3f m',l)"
   ]
   }
,
{
		   "cell_type": "markdown",
		   "metadata": {},
		   "source": [
			"## Example 8.14: charge_in_capacitors.sce"
		   ]
		  },
  {
"cell_type": "code",
	   "execution_count": null,
	   "metadata": {
	    "collapsed": true
	   },
	   "outputs": [],
"source": [
"clc\n",
"clear\n",
"//input\n",
"v=3 //voltage\n",
"c1=2.5*10^-6 //capacitance\n",
"c2=2.5*10^-6\n",
"c3=2.5*10^-6\n",
"//calculation\n",
"q=v/((1/c1)+(1/c2)+(1/c3))//capacitors in series\n",
"q1=c1*v//capacitors in parallel\n",
"//output\n",
"printf('the pd when capacitors are in series is %3.3e C',q)\n",
"printf('\n the pd when capacitors are in parallel is %3.3e C',q1)"
   ]
   }
,
{
		   "cell_type": "markdown",
		   "metadata": {},
		   "source": [
			"## Example 8.15: rms_and_peak_voltage.sce"
		   ]
		  },
  {
"cell_type": "code",
	   "execution_count": null,
	   "metadata": {
	    "collapsed": true
	   },
	   "outputs": [],
"source": [
"clc\n",
"clear\n",
"//input\n",
"v=14 //voltage\n",
"//calculation\n",
"v0=v*sqrt(2)//rms value\n",
"//output\n",
"printf('rms value of ac is 14 V')\n",
"printf('\n the peak value of ac is %3.3f V',v0)"
   ]
   }
,
{
		   "cell_type": "markdown",
		   "metadata": {},
		   "source": [
			"## Example 8.16: Qmax_and_rms_current.sce"
		   ]
		  },
  {
"cell_type": "code",
	   "execution_count": null,
	   "metadata": {
	    "collapsed": true
	   },
	   "outputs": [],
"source": [
"clc\n",
"clear\n",
"//input\n",
"c=65*10^-6 //capcacitor\n",
"v=12 //voltage\n",
"f=90 //frequency\n",
"//calculation\n",
"vmax=v*sqrt(2)//peak pd\n",
"qmax=c*vmax//from eqn Q=CV\n",
"irms=v*2*%pi*f*c//maximum charge from capacitor reactance\n",
"//output\n",
"printf('the maximum charge is %3.3f A',irms)"
   ]
   }
,
{
		   "cell_type": "markdown",
		   "metadata": {},
		   "source": [
			"## Example 8.17: capacitance_of_C.sce"
		   ]
		  },
  {
"cell_type": "code",
	   "execution_count": null,
	   "metadata": {
	    "collapsed": true
	   },
	   "outputs": [],
"source": [
"clc\n",
"clear\n",
"//input\n",
"r=200 //resistence\n",
"v=14 //voltage\n",
"vr=9//pd across each component\n",
"f=90 //frequency\n",
"//calculation\n",
"c=vr/(2*%pi*f*vr*r)//capacitor connected\n",
"//output\n",
"printf('the capacitor connected is %3.3e F',c)"
   ]
   }
,
{
		   "cell_type": "markdown",
		   "metadata": {},
		   "source": [
			"## Example 8.18: rate_of_change_of_pd.sce"
		   ]
		  },
  {
"cell_type": "code",
	   "execution_count": null,
	   "metadata": {
	    "collapsed": true
	   },
	   "outputs": [],
"source": [
"clc\n",
"clear\n",
"//input\n",
"v=4 //voltage\n",
"r=200 //resistence\n",
"c=8.8*10^-6 //capacitance\n",
"//calculation\n",
"x=v/(r*c)//calculating V/t\n",
"//output\n",
"printf('the initial rate is %3.3e Vs^-1',x)"
   ]
   }
,
{
		   "cell_type": "markdown",
		   "metadata": {},
		   "source": [
			"## Example 8.19: determine_resistance_and_capacitance.sce"
		   ]
		  },
  {
"cell_type": "code",
	   "execution_count": null,
	   "metadata": {
	    "collapsed": true
	   },
	   "outputs": [],
"source": [
"clc\n",
"clear\n",
"//input\n",
"v=14 //voltage\n",
"f=90 //frequency\n",
"i=0.4 //current\n",
"t=55 //phase\n",
"//calculation\n",
"r=v/(i*sqrt(1+tand(t)^2))// value of resistance\n",
"l=r*tand(t)/(2*f*%pi)//value of inductance\n",
"c=1/(4*%pi*%pi*f*f*l)//value of capacitance for resonance to occur\n",
"//output\n",
"printf('the value of resistance is %3.3f ohm',r)\n",
"printf('\nthe value of inductance is %3.3f H',l)\n",
"printf('\nthe value of capacitor is %3.3e F',c)"
   ]
   }
,
{
		   "cell_type": "markdown",
		   "metadata": {},
		   "source": [
			"## Example 8.1: force_on_field.sce"
		   ]
		  },
  {
"cell_type": "code",
	   "execution_count": null,
	   "metadata": {
	    "collapsed": true
	   },
	   "outputs": [],
"source": [
"clc\n",
"clear\n",
"//input\n",
"B=4.3*10^-4//magnetic flux density\n",
"I=6.4//current \n",
"L=4.8//length of wire\n",
"t=24//inclination through the field\n",
"//calculation\n",
"f=B*I*L//force on wire when it is perpendicular\n",
"f1=B*I*L*sind(t)//force on wire when it is inclined at t degrees\n",
"//output\n",
"printf('the force on wire is %3.3f N',f)\n",
"printf('\nthe force at an anglr 24 deg is %3.3e N',f1)"
   ]
   }
,
{
		   "cell_type": "markdown",
		   "metadata": {},
		   "source": [
			"## Example 8.2: flux_density.sce"
		   ]
		  },
  {
"cell_type": "code",
	   "execution_count": null,
	   "metadata": {
	    "collapsed": true
	   },
	   "outputs": [],
"source": [
"clc\n",
"clear\n",
"//input\n",
"i=3.4 //current passing\n",
"a=0.04 //distance from centre of cconductor\n",
"//calcution\n",
"b=(4*%pi*10^-7*5)/(2*%pi*a)//magnetic flux density\n",
"//output\n",
"printf('the flux density is %3.3e T',b)"
   ]
   }
,
{
		   "cell_type": "markdown",
		   "metadata": {},
		   "source": [
			"## Example 8.4: permeability_of_free_space.sce"
		   ]
		  },
  {
"cell_type": "code",
	   "execution_count": null,
	   "metadata": {
	    "collapsed": true
	   },
	   "outputs": [],
"source": [
"clc\n",
"clear\n",
"//INPUT DATA\n",
"Ix=1 //current in first wire\n",
"Iy=1 //current in second wire\n",
"FbyL=2*10^-7 //according to the definition of ampere\n",
"a=1 //distance between the wires\n",
"\n",
"\n",
"//calculation\n",
"\n",
"m=(2*%pi*a*FbyL)/(Ix*Iy)\n",
"\n",
"\n",
"\n",
"//output\n",
"printf('the permeability of free space is %3.3e H/m  ',m)"
   ]
   }
,
{
		   "cell_type": "markdown",
		   "metadata": {},
		   "source": [
			"## Example 8.5: faraday_law.sce"
		   ]
		  },
  {
"cell_type": "code",
	   "execution_count": null,
	   "metadata": {
	    "collapsed": true
	   },
	   "outputs": [],
"source": [
"clc\n",
"clear\n",
"//input\n",
"n=10 //number of rounds\n",
"B=2*10^-2 //flux density\n",
"a=5*10^-4 //areaof cross section\n",
"t=10//time\n",
"//calculation\n",
"c=n*B*a //change in flux\n",
"emf=c/t //induced emf\n",
"//output\n",
"printf('the flux changed is  %3.3e Wb ',c)\n",
"printf('\n the induced emf is %3.3e V',emf)"
   ]
   }
,
{
		   "cell_type": "markdown",
		   "metadata": {},
		   "source": [
			"## Example 8.6: moment_of_couple.sce"
		   ]
		  },
  {
"cell_type": "code",
	   "execution_count": null,
	   "metadata": {
	    "collapsed": true
	   },
	   "outputs": [],
"source": [
"clc\n",
"clear\n",
"//input\n",
"N=250 //number of turns\n",
"B=8.6*10^-4 //flux density\n",
"I=5 //current\n",
"A=16*10^-4//area\n",
"t=35\n",
"//calculation\n",
"c=B*I*A*N*sind(t)//moment of couple\n",
"x=c/(B*I*2*A*N)//doubling the area\n",
"y=asind(x)\n",
"//output\n",
"printf('the moment of couple is %3.3e Nm',c)\n",
"printf('\n the new angle produced  is %3.3f deg',y)"
   ]
   }
,
{
		   "cell_type": "markdown",
		   "metadata": {},
		   "source": [
			"## Example 8.7: maximum_emf_power.sce"
		   ]
		  },
  {
"cell_type": "code",
	   "execution_count": null,
	   "metadata": {
	    "collapsed": true
	   },
	   "outputs": [],
"source": [
"clc\n",
"clear\n",
"//input\n",
"a=20*10^-4 //area\n",
"n=900 //number of turns\n",
"b=5*10^-2 //flux density\n",
"i=4.5 //current\n",
"//calculation\n",
"e=b*a*n*2*%pi*30//emf induced\n",
"p=e*i//power output\n",
"//output\n",
"printf('the emf induced is %3.3f V',e)\n",
"printf('\n the power output is %3.3f W',p)"
   ]
   }
,
{
		   "cell_type": "markdown",
		   "metadata": {},
		   "source": [
			"## Example 8.8: pd_across_motor.sce"
		   ]
		  },
  {
"cell_type": "code",
	   "execution_count": null,
	   "metadata": {
	    "collapsed": true
	   },
	   "outputs": [],
"source": [
"clc\n",
"clear\n",
"//input\n",
"R=68 //resistence\n",
"i=4.5 //current\n",
"e=17 //emf\n",
"//calculation\n",
"v=(i*R)+e//supply pd\n",
"//output\n",
"printf('the supply of pd across motor is %3.0f V',v)"
   ]
   }
,
{
		   "cell_type": "markdown",
		   "metadata": {},
		   "source": [
			"## Example 8.9: transformer_equation.sce"
		   ]
		  },
  {
"cell_type": "code",
	   "execution_count": null,
	   "metadata": {
	    "collapsed": true
	   },
	   "outputs": [],
"source": [
"clc\n",
"clear\n",
"//input\n",
"ns=330 //number of turns of secondary\n",
"np=450 //number of turns in primary\n",
"e=0.65 //efficiency\n",
"vp=240 //ac supply of primary\n",
"//calculation\n",
"vs=e*(vp*ns)/np//transformer equation\n",
"//output\n",
"printf('the pd across secondary is %3.0f V',vs)"
   ]
   }
],
"metadata": {
		  "kernelspec": {
		   "display_name": "Scilab",
		   "language": "scilab",
		   "name": "scilab"
		  },
		  "language_info": {
		   "file_extension": ".sce",
		   "help_links": [
			{
			 "text": "MetaKernel Magics",
			 "url": "https://github.com/calysto/metakernel/blob/master/metakernel/magics/README.md"
			}
		   ],
		   "mimetype": "text/x-octave",
		   "name": "scilab",
		   "version": "0.7.1"
		  }
		 },
		 "nbformat": 4,
		 "nbformat_minor": 0
}
