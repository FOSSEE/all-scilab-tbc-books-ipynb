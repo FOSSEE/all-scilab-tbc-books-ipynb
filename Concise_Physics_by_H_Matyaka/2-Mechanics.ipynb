{
"cells": [
 {
		   "cell_type": "markdown",
	   "metadata": {},
	   "source": [
       "# Chapter 2: Mechanics"
	   ]
	},
{
		   "cell_type": "markdown",
		   "metadata": {},
		   "source": [
			"## Example 2.10: resultant_force.sce"
		   ]
		  },
  {
"cell_type": "code",
	   "execution_count": null,
	   "metadata": {
	    "collapsed": true
	   },
	   "outputs": [],
"source": [
"clc \n",
"clear\n",
"//input magnitude of forces\n",
"f1=40\n",
"f2=50\n",
"//calculation\n",
"d=50^2+40^2+2*50*40*cosd(50)//finding the diagonal\n",
"r=50^2+40^2+2*50*(40)*cosd(130)//reversing the side and finding diagonlprintf('the resultant is %3.3f',d1)\n",
"r1=sqrt(r)//resultant sum\n",
"d1=sqrt(d)// resultant when smaller force is subtracted from larger\n",
"//output\n",
"printf('1. the resultant sum is %3.3f N',d1)\n",
"printf('\n 2. the resultant when smaller force is subtracted from larger is %3.3f N',r1)"
   ]
   }
,
{
		   "cell_type": "markdown",
		   "metadata": {},
		   "source": [
			"## Example 2.11: components_of_velocity.sce"
		   ]
		  },
  {
"cell_type": "code",
	   "execution_count": null,
	   "metadata": {
	    "collapsed": true
	   },
	   "outputs": [],
"source": [
"clc\n",
"clear\n",
"//input\n",
"v=380//velocity\n",
"//calculation\n",
"vh=v*cosd(60)//horizontal component\n",
"vv=v*sind(60)//vertical component\n",
"//output\n",
"printf('the horizontal component is %3.3f ms^-1',vh)\n",
"printf('\nthe vertical component is %3.3f ms^-1',vv)"
   ]
   }
,
{
		   "cell_type": "markdown",
		   "metadata": {},
		   "source": [
			"## Example 2.12: components_of_force.sce"
		   ]
		  },
  {
"cell_type": "code",
	   "execution_count": null,
	   "metadata": {
	    "collapsed": true
	   },
	   "outputs": [],
"source": [
"clc\n",
"clear\n",
"//input\n",
"fc=50//force applied by magnet\n",
"x=90-20 //angle of force\n",
"//calculation\n",
"fb=fc*sind(70)//force due to b\n",
"fa=fc*cosd(70)//force due to a\n",
"//output\n",
"printf('the force due to b is %3.3f N',fb)\n",
"printf('\nthe force due to b is %3.3f N',fa)"
   ]
   }
,
{
		   "cell_type": "markdown",
		   "metadata": {},
		   "source": [
			"## Example 2.13: inelastic_collission.sce"
		   ]
		  },
  {
"cell_type": "code",
	   "execution_count": null,
	   "metadata": {
	    "collapsed": true
	   },
	   "outputs": [],
"source": [
"clc\n",
"clear\n",
"//input\n",
"m1=1\n",
"v1=25\n",
"m2=2\n",
"v2=0\n",
"//calculation\n",
"v=(m1*v1)+(m2*v2)//applying princilpe of conservation of linear momentum\n",
"v4=v/(m1+m2)\n",
"//output\n",
"printf('the velocity with which both will move is %3.3f ms^-1',v4)"
   ]
   }
,
{
		   "cell_type": "markdown",
		   "metadata": {},
		   "source": [
			"## Example 2.14: Inelastic_collission.sce"
		   ]
		  },
  {
"cell_type": "code",
	   "execution_count": null,
	   "metadata": {
	    "collapsed": true
	   },
	   "outputs": [],
"source": [
"clc\n",
"clear\n",
"//input\n",
"m1=1//mass of object 1\n",
"v1=25//velocity of object 1\n",
"m2=2//mass of object 2\n",
"v2=0//body at rest,velocity =0\n",
"v3=10\n",
"//caclulation\n",
"u=((m1*v1)+(m2*v2)-(m2*v3))/2//applying princilpe of conservation of linear momentum\n",
"//output\n",
"printf('\n the value of u is %3.3f ms^-1',-u)"
   ]
   }
,
{
		   "cell_type": "markdown",
		   "metadata": {},
		   "source": [
			"## Example 2.15: angularvelocity_and_centripetal_force.sce"
		   ]
		  },
  {
"cell_type": "code",
	   "execution_count": null,
	   "metadata": {
	    "collapsed": true
	   },
	   "outputs": [],
"source": [
"clc\n",
"clear\n",
"//input\n",
"m=2//mass\n",
"r=4//radius\n",
"v=6//uniform speed\n",
"//calculation\n",
"w=v/r//angular velocity\n",
"f=m*r*w*w//centripetal force\n",
"//output\n",
"printf('the angular velocity is %3.3f rads^-1',w)\n",
"printf('\n the centripetal force is %3.3f N',f)"
   ]
   }
,
{
		   "cell_type": "markdown",
		   "metadata": {},
		   "source": [
			"## Example 2.16: tension_in_arm.sce"
		   ]
		  },
  {
"cell_type": "code",
	   "execution_count": null,
	   "metadata": {
	    "collapsed": true
	   },
	   "outputs": [],
"source": [
"clc\n",
"clear\n",
"//input\n",
"m=140//mass\n",
"v=8//speed\n",
"r=5//radius\n",
"g=9.8//acceleration due to gravity\n",
"//calculation\n",
"t=((m*v^2/5)^2)+(140*9.8)^2 //applying parallelogram of vectors\n",
"t1=sqrt(t)\n",
"//output\n",
"printf('the tension in arm is %3.3f N',t1)"
   ]
   }
,
{
		   "cell_type": "markdown",
		   "metadata": {},
		   "source": [
			"## Example 2.17: inclination_and_reaction.sce"
		   ]
		  },
  {
"cell_type": "code",
	   "execution_count": null,
	   "metadata": {
	    "collapsed": true
	   },
	   "outputs": [],
"source": [
"clc\n",
"clear\n",
"//input\n",
"v=15//velocity\n",
"m=70//mass\n",
"r=50//radius\n",
"//calculation\n",
"x=v*v/(r*10)//applying parallelogram of vectors,then for equilibrium\n",
"y=atand(x)\n",
"r1=(m*10)/cosd(y)\n",
"//output\n",
"printf('the inclination is %3.3f deg',y)\n",
"printf('\n the reaction is %3.3f N',r1)"
   ]
   }
,
{
		   "cell_type": "markdown",
		   "metadata": {},
		   "source": [
			"## Example 2.18: planet_mean_density.sce"
		   ]
		  },
  {
"cell_type": "code",
	   "execution_count": null,
	   "metadata": {
	    "collapsed": true
	   },
	   "outputs": [],
"source": [
"clc\n",
"clear\n",
"//input\n",
"r=5500//radius\n",
"g1=6.7*10^-11\n",
"g=7//acceleration due to gravity\n",
"//calculation of mean density\n",
"p=3*g/(4*%pi*r*10^3*g1)//mean density\n",
"//output\n",
"printf('the mean density of planet is %3.3f kgm^-3',p)"
   ]
   }
,
{
		   "cell_type": "markdown",
		   "metadata": {},
		   "source": [
			"## Example 2.19: orbit_radius_and_linearvelocity.sce"
		   ]
		  },
  {
"cell_type": "code",
	   "execution_count": null,
	   "metadata": {
	    "collapsed": true
	   },
	   "outputs": [],
"source": [
"clc\n",
"clear\n",
"//input\n",
"m=5*10^24//mass of earth\n",
"g1=6.7*10^-11\n",
"//calculation\n",
"r=((6.7*10^-11*5*10^24*(3600*24)^2)/(4*%pi^2))^(1/3)//orbit radius\n",
"v=(2*%pi*r)/(3600*24)//linear velocity\n",
"//output\n",
"printf('the orbit radius is %3.3f',r)\n",
"printf('\n the linear velocity is %3.3f ms^-1',v)"
   ]
   }
,
{
		   "cell_type": "markdown",
		   "metadata": {},
		   "source": [
			"## Example 2.1: acceleration_and_distance.sce"
		   ]
		  },
  {
"cell_type": "code",
	   "execution_count": null,
	   "metadata": {
	    "collapsed": true
	   },
	   "outputs": [],
"source": [
"clc\n",
"clear\n",
"//input from given graph\n",
"//calculation of initial accleration\n",
"ia=18/4\n",
"// calculation of final accleration\n",
"fa=-18/10\n",
"decel=-(fa)//calculation of deceleration\n",
"//calculation of total distance covered\n",
"d=0.5*(4*18)+(8*18)+0.5*(10*18)//area under velocity time graph\n",
"//output\n",
"printf('\n the initial acceleration is %3.3f m/s^2',ia)\n",
"printf('\n the final acceleration is %3.3f m/s^2',decel)\n",
"printf('\n the distance covered is is %3.3f m',d)"
   ]
   }
,
{
		   "cell_type": "markdown",
		   "metadata": {},
		   "source": [
			"## Example 2.20: mass_of_galaxy.sce"
		   ]
		  },
  {
"cell_type": "code",
	   "execution_count": null,
	   "metadata": {
	    "collapsed": true
	   },
	   "outputs": [],
"source": [
"clc\n",
"clear\n",
"//input\n",
"v=3*10^5//orbit speed\n",
"r=4.6*10^20//distance\n",
"g1=6.7*10^-11\n",
"//calculation of mass\n",
"m=v*v*r/g1 //Newtons law\n",
"//output\n",
"printf('the mass is %2.3e kg',m)"
   ]
   }
,
{
		   "cell_type": "markdown",
		   "metadata": {},
		   "source": [
			"## Example 2.21: total_kinetic_energy.sce"
		   ]
		  },
  {
"cell_type": "code",
	   "execution_count": null,
	   "metadata": {
	    "collapsed": true
	   },
	   "outputs": [],
"source": [
"clc\n",
"clear\n",
"//input\n",
"v=0.6//speed\n",
"m=0.3//mass\n",
"//calculation\n",
"e=0.75*m*v*v//total kinetic energy is kinetic energy+moment of inertia\n",
"//output\n",
"printf('the total kinetic energy is %3.3f J',e)"
   ]
   }
,
{
		   "cell_type": "markdown",
		   "metadata": {},
		   "source": [
			"## Example 2.22: time_taken_to_move.sce"
		   ]
		  },
  {
"cell_type": "code",
	   "execution_count": null,
	   "metadata": {
	    "collapsed": true
	   },
	   "outputs": [],
"source": [
"clc\n",
"clear\n",
"//input\n",
"t1=34\n",
"u=0//starts from rest\n",
"x=3//distance to move\n",
"//calculation\n",
"t=(3*3/(10*sind(t1)))^0.5//from law of conservation of energy\n",
"//output\n",
"printf('the time taken is %3.3f s',t)"
   ]
   }
,
{
		   "cell_type": "markdown",
		   "metadata": {},
		   "source": [
			"## Example 2.23: angular_velocity_ratio.sce"
		   ]
		  },
  {
"cell_type": "code",
	   "execution_count": null,
	   "metadata": {
	    "collapsed": true
	   },
	   "outputs": [],
"source": [
"clc\n",
"clear\n",
"//input\n",
"i1=53//inertia when it spins with panels carrying solar cells\n",
"i2=37//inertia about axis of rotation\n",
"//calculation\n",
"r=i1/i2//law of conservation of angular momentum\n",
"//output\n",
"printf('the ratio of angular velocities is %3.3f',r)"
   ]
   }
,
{
		   "cell_type": "markdown",
		   "metadata": {},
		   "source": [
			"## Example 2.25: attributes_of_shm.sce"
		   ]
		  },
  {
"cell_type": "code",
	   "execution_count": null,
	   "metadata": {
	    "collapsed": true
	   },
	   "outputs": [],
"source": [
"clc\n",
"clear\n",
"//input\n",
"f=9//frequency\n",
"x=0//at midpoint of stroke x=0\n",
"//calculation\n",
"t=1/f\n",
"a=-4*%pi^2*f^2*x//acceleration for shm\n",
"v=2*%pi*f*0.05//velocity for shm\n",
"a1=-4*%pi^2*9^2*0.05//acceleration at amplitude\n",
"v1=0//velocity at amplitude is 0\n",
"//output\n",
"printf('the period of oscillation is %3.3f s^-1',t)\n",
"printf('\n the velocity  at midpoint of stroke is %3.3f ms^-1',v)\n",
"printf('\n the acceleration at midpoint of stroke is %3.3f ms^-2',a)\n",
"\n",
"printf('\n the velocity at amplitude is %3.3f  ms^-1',v1)\n",
"printf('\n the acceleration at amplitude is %3.3f ms^-2',a1)"
   ]
   }
,
{
		   "cell_type": "markdown",
		   "metadata": {},
		   "source": [
			"## Example 2.26: simple_harmonic_motion.sce"
		   ]
		  },
  {
"cell_type": "code",
	   "execution_count": null,
	   "metadata": {
	    "collapsed": true
	   },
	   "outputs": [],
"source": [
"clc\n",
"clear\n",
"//input\n",
"g=10\n",
"t=0.3//period of shm\n",
"//calculation\n",
"x=g*t^2/(4*%pi^2)//for shm maximum amplitude\n",
"//output\n",
"printf('the maximum amplitude for bead to be in contact is %3.3f m',x)"
   ]
   }
,
{
		   "cell_type": "markdown",
		   "metadata": {},
		   "source": [
			"## Example 2.27: attrbutes_simple_pendulum.sce"
		   ]
		  },
  {
"cell_type": "code",
	   "execution_count": null,
	   "metadata": {
	    "collapsed": true
	   },
	   "outputs": [],
"source": [
"clc\n",
"clear\n",
"//input\n",
"p1=2.3//period of pendulum\n",
"p2=3.1//period when pendulum is lengthened\n",
"//calculation\n",
"g=4*%pi^2/(p2^2-p1^2)//acceleration of free fall\n",
"l=p1^2*g/(4*%pi^2)//length of pendulum\n",
"//output\n",
"printf('the acceleration of free fall is %3.3f m/s^2',g)\n",
"printf('\n the length of pendulum is %3.3f m',l)"
   ]
   }
,
{
		   "cell_type": "markdown",
		   "metadata": {},
		   "source": [
			"## Example 2.28: maximum_displacement_shm.sce"
		   ]
		  },
  {
"cell_type": "code",
	   "execution_count": null,
	   "metadata": {
	    "collapsed": true
	   },
	   "outputs": [],
"source": [
"clc\n",
"clear\n",
"//INPUT DATA\n",
"f=55 //frequency\n",
"a=7*10^-3 //amplitude\n",
"\n",
"\n",
"//calculation\n",
"a=(-2*%pi*f)^2*a\n",
"\n",
"//output\n",
"printf('the acceleration of the body when it is at its maximum displacement from its zero position is -%3.1f ms^-2',a)"
   ]
   }
,
{
		   "cell_type": "markdown",
		   "metadata": {},
		   "source": [
			"## Example 2.29: maximum_potential_energy_shm.sce"
		   ]
		  },
  {
"cell_type": "code",
	   "execution_count": null,
	   "metadata": {
	    "collapsed": true
	   },
	   "outputs": [],
"source": [
"clc\n",
"clear\n",
"//input\n",
"f=55//frequency\n",
"amp=7*10^-3//amplitude\n",
"m=1.2//mass\n",
"//calculation\n",
"e=0.5*m*4*%pi^2*f^2*amp^2//maximum pe occurs at zero position\n",
"//output\n",
"printf('the maximum pe is %3.3f J',e)"
   ]
   }
,
{
		   "cell_type": "markdown",
		   "metadata": {},
		   "source": [
			"## Example 2.2: acceleration_and_distance.sce"
		   ]
		  },
  {
"cell_type": "code",
	   "execution_count": null,
	   "metadata": {
	    "collapsed": true
	   },
	   "outputs": [],
"source": [
"clc\n",
"clear\n",
"//input\n",
"v=0 //car stops => final velocity=0\n",
"u=29 //initial velocity\n",
"t=11 //time \n",
"//calculation of acceleration\n",
"a=(v-u)/t//eqn of uniformly accelerated body\n",
"//calculating distance travelled during this period\n",
"d=(v+u)*t*0.5//eqn of uniformly accelerated body\n",
"//output\n",
"printf('the accleration is %3.3f ms^-2 ',a)\n",
"printf('\nthe distance travelled is %3.3f m',d)"
   ]
   }
,
{
		   "cell_type": "markdown",
		   "metadata": {},
		   "source": [
			"## Example 2.30: extension_of_steel_wire.sce"
		   ]
		  },
  {
"cell_type": "code",
	   "execution_count": null,
	   "metadata": {
	    "collapsed": true
	   },
	   "outputs": [],
"source": [
"clc\n",
"clear\n",
"//input\n",
"l=6.5//length\n",
"m=0.06//mass of wire\n",
"m1=10//mass attached\n",
"g=9.8//acceleration due to gravity\n",
"e=2.1*10^11//youngs modulus\n",
"ro=8*10^3//density of steel\n",
"//calculation\n",
"e1=m1*g*ro*l*l/(e*m)//extension caused \n",
"pe=0.5*g*m1*e1//potential energy \n",
"//output\n",
"printf('the extension caused is %3.3e m',e1)\n",
"printf('\n the potential energy is %3.3f J',pe)"
   ]
   }
,
{
		   "cell_type": "markdown",
		   "metadata": {},
		   "source": [
			"## Example 2.31: Youngs_modulus.sce"
		   ]
		  },
  {
"cell_type": "code",
	   "execution_count": null,
	   "metadata": {
	    "collapsed": true
	   },
	   "outputs": [],
"source": [
"clc\n",
"clear\n",
"//input\n",
"w=250*10^3\n",
"s=0.00003//strain\n",
"a=0.04//area\n",
"w1=320*10^3\n",
"//calculation\n",
"e=w/(a*s)//youngs module\n",
"st=w1/a//stress\n",
"//output\n",
"printf('the youngs modulus is %3.3e N/m^2',e)\n",
"printf('\n the stress is %3.0e N/m^2',st)"
   ]
   }
,
{
		   "cell_type": "markdown",
		   "metadata": {},
		   "source": [
			"## Example 2.32: wire_length_change.sce"
		   ]
		  },
  {
"cell_type": "code",
	   "execution_count": null,
	   "metadata": {
	    "collapsed": true
	   },
	   "outputs": [],
"source": [
"clc\n",
"clear\n",
"//input\n",
"m=40//mass\n",
"g=9.8//acceleration due to gravity\n",
"E=2*10^11//youngs modulus\n",
"//calculation\n",
"t1=m*g/5//principle of momentum\n",
"t2=4*m*g/5 //principle of momentum\n",
"d=4*(t2-t1)/(4*%pi*10^-6*E)//difference in length\n",
"//output\n",
"printf('the difference is %3.0e m',d)"
   ]
   }
,
{
		   "cell_type": "markdown",
		   "metadata": {},
		   "source": [
			"## Example 2.3: time_to_reach_aircraft.sce"
		   ]
		  },
  {
"cell_type": "code",
	   "execution_count": null,
	   "metadata": {
	    "collapsed": true
	   },
	   "outputs": [],
"source": [
"clc\n",
"clear\n",
"//input\n",
"v=120 //velocity\n",
"a=75 //accleration\n",
"//calculation of time\n",
"t=2*v/(a*cosd(45))//eqn of uniformly accelerated body\n",
"//output\n",
"printf('the time taken is %3.3f s',t)"
   ]
   }
,
{
		   "cell_type": "markdown",
		   "metadata": {},
		   "source": [
			"## Example 2.4: resultant_force.sce"
		   ]
		  },
  {
"cell_type": "code",
	   "execution_count": null,
	   "metadata": {
	    "collapsed": true
	   },
	   "outputs": [],
"source": [
"clc\n",
"clear\n",
"//input\n",
"f1=50\n",
"f2=50\n",
"//calculation of net force\n",
"f=f1+f2 // the two forces act in same direction\n",
"//output\n",
"printf('the resultant force is %3.3f N',f)"
   ]
   }
,
{
		   "cell_type": "markdown",
		   "metadata": {},
		   "source": [
			"## Example 2.5: car_and_wind.sce"
		   ]
		  },
  {
"cell_type": "code",
	   "execution_count": null,
	   "metadata": {
	    "collapsed": true
	   },
	   "outputs": [],
"source": [
"clc\n",
"clear\n",
"//input\n",
"vc=25 //velocity of car\n",
"va=10 //velocity of wind\n",
"va1=15 //velocity of wind westward\n",
"//calculation\n",
"v1=vc+va//resultant velocity for a tail of wind\n",
"v2=vc-va//when wind blows westward at 10 m/s^resultant velocity \n",
"v3=vc-va1//resultant velocity when wind blows westward at 15m/s^2\n",
"//output\n",
"printf('1. the resultant velocity of wind is %3.3f ms^-1 eastwards ',v1)\n",
"printf('\n2. the resultant velocity of wind is %3.3f ms^-1 westwards ',v2)\n",
"printf('\n3. the resultant velocity of wind is %3.3f  ms^-1westwards ',v3)"
   ]
   }
,
{
		   "cell_type": "markdown",
		   "metadata": {},
		   "source": [
			"## Example 2.7: velocity_of_speedboat.sce"
		   ]
		  },
  {
"cell_type": "code",
	   "execution_count": null,
	   "metadata": {
	    "collapsed": true
	   },
	   "outputs": [],
"source": [
"clc \n",
"clear\n",
"//input\n",
"v=30 //velocity of speedboat\n",
"vw=40 //velocity of wind\n",
"//calculation\n",
"x=(30/40)//angle between original velocity of boat and resultant velocity\n",
"y=atand(x)//applying trigonometry\n",
"b=90+y//bearing of boat\n",
"//output\n",
"printf('the bearing of speedboat is %3.3f deg',b)"
   ]
   }
,
{
		   "cell_type": "markdown",
		   "metadata": {},
		   "source": [
			"## Example 2.8: tension_on_string.sce"
		   ]
		  },
  {
"cell_type": "code",
	   "execution_count": null,
	   "metadata": {
	    "collapsed": true
	   },
	   "outputs": [],
"source": [
"clc \n",
"clear\n",
"//input\n",
"f1=6 //tension on string AB\n",
"f2=6 //tension on string BC\n",
"//calculation of tension\n",
"t=2*f1*sind(55)// the resultant tension is the diagonal of rhombus formed\n",
"//output\n",
"printf('/n the resultant tension is %3.3f N',t)"
   ]
   }
],
"metadata": {
		  "kernelspec": {
		   "display_name": "Scilab",
		   "language": "scilab",
		   "name": "scilab"
		  },
		  "language_info": {
		   "file_extension": ".sce",
		   "help_links": [
			{
			 "text": "MetaKernel Magics",
			 "url": "https://github.com/calysto/metakernel/blob/master/metakernel/magics/README.md"
			}
		   ],
		   "mimetype": "text/x-octave",
		   "name": "scilab",
		   "version": "0.7.1"
		  }
		 },
		 "nbformat": 4,
		 "nbformat_minor": 0
}
