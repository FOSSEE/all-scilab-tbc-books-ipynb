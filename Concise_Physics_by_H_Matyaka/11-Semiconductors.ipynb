{
"cells": [
 {
		   "cell_type": "markdown",
	   "metadata": {},
	   "source": [
       "# Chapter 11: Semiconductors"
	   ]
	},
{
		   "cell_type": "markdown",
		   "metadata": {},
		   "source": [
			"## Example 11.1: rms_current_and_peak_pd.sce"
		   ]
		  },
  {
"cell_type": "code",
	   "execution_count": null,
	   "metadata": {
	    "collapsed": true
	   },
	   "outputs": [],
"source": [
"clc\n",
"clear\n",
"//input\n",
"vp=50//ac source supply\n",
"r1=35\n",
"r2=1450 //resistors\n",
"//calculation\n",
"vs=4*vp//transformer equation\n",
"i=100/(r1+r2)//peak current\n",
"irms=i/sqrt(2)//rms current\n",
"v0=100*r1/(r1+r2)\n",
"pp=100-v0//peak pd\n",
"//output\n",
"printf('the rms value of current is %3.3f A',irms)\n",
"printf('\n the peak pd is %3.3f V',pp)"
   ]
   }
,
{
		   "cell_type": "markdown",
		   "metadata": {},
		   "source": [
			"## Example 11.2: common_emittor_transistor.sce"
		   ]
		  },
  {
"cell_type": "code",
	   "execution_count": null,
	   "metadata": {
	    "collapsed": true
	   },
	   "outputs": [],
"source": [
"clc\n",
"clear\n",
"//input\n",
"vbe=1.2//pd across emitter\n",
"ib=120*10^-6//base current\n",
"v1=1.5//final voltafe\n",
"i2=175*10^-6//increased current\n",
"//calculation\n",
"r=vbe/ib//static input resistence\n",
"h=(v1-vbe)/(i2-ib)//input hybrid parameter\n",
"//output\n",
"printf('the static input resistence is %3.0e ohm',r)\n",
"printf('\nthe input hybrid parameter is %3.3e ohm',h)"
   ]
   }
,
{
		   "cell_type": "markdown",
		   "metadata": {},
		   "source": [
			"## Example 11.3: common_base_transistor.sce"
		   ]
		  },
  {
"cell_type": "code",
	   "execution_count": null,
	   "metadata": {
	    "collapsed": true
	   },
	   "outputs": [],
"source": [
"clc\n",
"clear\n",
"//input\n",
"v1=7.5//initial voltag\n",
"v2=11.5//final voltage\n",
"ic=18*10^-6//collector current\n",
"//calculation\n",
"r=(v2-v1)/ic//output resistance\n",
"//output\n",
"printf('the output resistance is %2.2e ohm ',r)"
   ]
   }
,
{
		   "cell_type": "markdown",
		   "metadata": {},
		   "source": [
			"## Example 11.4: common_emittor_amplifier.sce"
		   ]
		  },
  {
"cell_type": "code",
	   "execution_count": null,
	   "metadata": {
	    "collapsed": true
	   },
	   "outputs": [],
"source": [
"clc\n",
"clear\n",
"//input\n",
"vbe=2.5//voltage across base-emitter\n",
"hfe=75//current gain\n",
"rb=75*10^3 //base current\n",
"//calculation\n",
"rc=5*rb/(vbe*hfe)//collector load resistance\n",
"//output\n",
"printf('the collector load resistance is %2.2e ohm',rc)"
   ]
   }
],
"metadata": {
		  "kernelspec": {
		   "display_name": "Scilab",
		   "language": "scilab",
		   "name": "scilab"
		  },
		  "language_info": {
		   "file_extension": ".sce",
		   "help_links": [
			{
			 "text": "MetaKernel Magics",
			 "url": "https://github.com/calysto/metakernel/blob/master/metakernel/magics/README.md"
			}
		   ],
		   "mimetype": "text/x-octave",
		   "name": "scilab",
		   "version": "0.7.1"
		  }
		 },
		 "nbformat": 4,
		 "nbformat_minor": 0
}
