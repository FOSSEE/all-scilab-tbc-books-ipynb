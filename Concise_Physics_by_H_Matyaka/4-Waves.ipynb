{
"cells": [
 {
		   "cell_type": "markdown",
	   "metadata": {},
	   "source": [
       "# Chapter 4: Waves"
	   ]
	},
{
		   "cell_type": "markdown",
		   "metadata": {},
		   "source": [
			"## Example 4.1: amplitude_and_pressure_change.sce"
		   ]
		  },
  {
"cell_type": "code",
	   "execution_count": null,
	   "metadata": {
	    "collapsed": true
	   },
	   "outputs": [],
"source": [
"clc\n",
"clear\n",
"//INPUT DATA\n",
"w=1.8 //wavelength\n",
"//calulation\n",
"y=sind(15*360/180)//displacement at 15cm from reflector\n",
"//output\n",
"printf('1. at 45cm, antinode occurs and hence pressure is minimum')\n",
"printf('\n 2. at 90cm node arises and hence pressure is maximum')\n",
"printf('\n 3. at 15cm frm reflector the displacement is %3.3f',y)"
   ]
   }
,
{
		   "cell_type": "markdown",
		   "metadata": {},
		   "source": [
			"## Example 4.3: length_of_tube.sce"
		   ]
		  },
  {
"cell_type": "code",
	   "execution_count": null,
	   "metadata": {
	    "collapsed": true
	   },
	   "outputs": [],
"source": [
"clc\n",
"clear\n",
"//INPUT DATA\n",
"f=520 //frequency\n",
"t2=293 //air temperature to produce fundamental +273\n",
"t1=273// 0deg C\n",
"v1=330//speed of sound waves\n",
"//calculation\n",
"v2=330*(293/273)^0.5 //speed at 20 deg C\n",
"l=v2/f//wavelength\n",
"len=l/4 - 0.01 //length\n",
"//output\n",
"printf('the length of tube is %3.3f m',len)"
   ]
   }
,
{
		   "cell_type": "markdown",
		   "metadata": {},
		   "source": [
			"## Example 4.4: frequency_of_beats.sce"
		   ]
		  },
  {
"cell_type": "code",
	   "execution_count": null,
	   "metadata": {
	    "collapsed": true
	   },
	   "outputs": [],
"source": [
"clc\n",
"clear\n",
"//INPUT DATA\n",
"v1=330 //speed of sound\n",
"t3=303 //fundamental temperature for the air\n",
"t1=273// 0deg C\n",
"//calculation\n",
"v3=v1*(t3/t1)^0.5 //new speed of sound\n",
"f=v3/0.66 //frequency\n",
"fb=f-520 //frequency of beats\n",
"//output\n",
"printf('the frequency of beats is %3.3f Hz',fb)"
   ]
   }
,
{
		   "cell_type": "markdown",
		   "metadata": {},
		   "source": [
			"## Example 4.5: fundamental_frequency.sce"
		   ]
		  },
  {
"cell_type": "code",
	   "execution_count": null,
	   "metadata": {
	    "collapsed": true
	   },
	   "outputs": [],
"source": [
"clc\n",
"clear\n",
"//INPUT DATA\n",
"T=100 //tension\n",
"l=1.5 //length\n",
"m=0.3*10^-6 //mass\n",
"//calculation\n",
"f=(T/(m/l))^0.5/(2*l)//fundamental frequency produced \n",
"//output\n",
"printf('the fundamental frequency produced is %3.3f Hz',f)"
   ]
   }
,
{
		   "cell_type": "markdown",
		   "metadata": {},
		   "source": [
			"## Example 4.6: doppler_effect.sce"
		   ]
		  },
  {
"cell_type": "code",
	   "execution_count": null,
	   "metadata": {
	    "collapsed": true
	   },
	   "outputs": [],
"source": [
"clc\n",
"clear\n",
"//INPUT DATA\n",
"f=150 //frequency \n",
"v=320 //speed of sound\n",
"ul=11 //speed with which listener approaches\n",
"us=7 //speed of source\n",
"//calculation\n",
"fa=f*v/(v-us)//doppler effect\n",
"fa1=(v+ul)*f/(v)//doppler effect\n",
"fa2=(v+ul)*f/(v-us)//doppler effect\n",
"//output\n",
"printf('frequency when source moves at 7ms^-1 %3.3f Hz',fa)\n",
"\n",
"printf('\n frequency when listener moves at 11ms^-1 %3.3f Hz',fa1)\n",
"printf('\n frequency when source moves at 7ms^-1 and listener at 11ms^-1 %3.3f Hz',fa2)"
   ]
   }
,
{
		   "cell_type": "markdown",
		   "metadata": {},
		   "source": [
			"## Example 4.7: apparent_frequency_change.sce"
		   ]
		  },
  {
"cell_type": "code",
	   "execution_count": null,
	   "metadata": {
	    "collapsed": true
	   },
	   "outputs": [],
"source": [
"clc\n",
"clear\n",
"//INPUT DATA\n",
"us=264 //speed of jet fighter\n",
"x=71.7\n",
"v=340 //velocity of sound\n",
"f=1*10^3 //frequency\n",
"//calculation\n",
"usd=us*cosd(x)//horizontal component of velocity\n",
"fr= (v*f)/(v-usd) -((v*f)/(v+usd))//frequency range ,doppler effect\n",
"//output\n",
"printf('the frequency range is %3.3f Hz ',fr)"
   ]
   }
],
"metadata": {
		  "kernelspec": {
		   "display_name": "Scilab",
		   "language": "scilab",
		   "name": "scilab"
		  },
		  "language_info": {
		   "file_extension": ".sce",
		   "help_links": [
			{
			 "text": "MetaKernel Magics",
			 "url": "https://github.com/calysto/metakernel/blob/master/metakernel/magics/README.md"
			}
		   ],
		   "mimetype": "text/x-octave",
		   "name": "scilab",
		   "version": "0.7.1"
		  }
		 },
		 "nbformat": 4,
		 "nbformat_minor": 0
}
