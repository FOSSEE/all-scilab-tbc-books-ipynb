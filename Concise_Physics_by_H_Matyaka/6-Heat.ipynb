{
"cells": [
 {
		   "cell_type": "markdown",
	   "metadata": {},
	   "source": [
       "# Chapter 6: Heat"
	   ]
	},
{
		   "cell_type": "markdown",
		   "metadata": {},
		   "source": [
			"## Example 6.10: gas_external_work.sce"
		   ]
		  },
  {
"cell_type": "code",
	   "execution_count": null,
	   "metadata": {
	    "collapsed": true
	   },
	   "outputs": [],
"source": [
"clc\n",
"clear\n",
"//input\n",
"m=3*10^-2 //mass of water\n",
"r1=1*10^3//density of water\n",
"r2=0.5//density of steam\n",
"p=1.01*10^5//atmospheric pressure\n",
"//calculation\n",
"v1=m/r1//volume of water\n",
"v2=m/r2//volume of gas\n",
"w=(v2-v1)*p//external work done by gas\n",
"//output\n",
"printf('the work done is %3.0f J',w)"
   ]
   }
,
{
		   "cell_type": "markdown",
		   "metadata": {},
		   "source": [
			"## Example 6.12: platinum_resistance_theromoeter.sce"
		   ]
		  },
  {
"cell_type": "code",
	   "execution_count": null,
	   "metadata": {
	    "collapsed": true
	   },
	   "outputs": [],
"source": [
"clc\n",
"clear\n",
"//input\n",
"r100=6.9//resistence of steam\n",
"r0=5.8 //resistece of ice\n",
"t=550 //temperature\n",
"//calculation\n",
"r=(t*(r100-r0))/100 +5.8//platinum resistance thermometre\n",
"//output\n",
"printf('the resistence is %3.3f ohm',r)"
   ]
   }
,
{
		   "cell_type": "markdown",
		   "metadata": {},
		   "source": [
			"## Example 6.14: length_at_temperature.sce"
		   ]
		  },
  {
"cell_type": "code",
	   "execution_count": null,
	   "metadata": {
	    "collapsed": true
	   },
	   "outputs": [],
"source": [
"clc\n",
"clear\n",
"//input\n",
"l=11.7//length of thermometer at steam\n",
"l0=3.4*10^-2//length of thermometer at ice\n",
"//calculation\n",
"x=0.034+0.034*(0.244*10^-3*45^2)//length of temperature on standard scale\n",
"//output\n",
"printf('thread length is %3.3f m',x)"
   ]
   }
,
{
		   "cell_type": "markdown",
		   "metadata": {},
		   "source": [
			"## Example 6.15: heat_transfer_rate.sce"
		   ]
		  },
  {
"cell_type": "code",
	   "execution_count": null,
	   "metadata": {
	    "collapsed": true
	   },
	   "outputs": [],
"source": [
"clc\n",
"clear\n",
"//input\n",
"a=5 //area\n",
"k=0.07 //thermal conductivity\n",
"dt=21 //temperature difference\n",
"x= 4*10^-3 //thickness of wood\n",
"//calculation\n",
"y=-(k*a*dt/x)//steady state equation\n",
"//output\n",
"printf('the rate of transfer is %3.3f Js^-1',y)"
   ]
   }
,
{
		   "cell_type": "markdown",
		   "metadata": {},
		   "source": [
			"## Example 6.16: temperature_gradient.sce"
		   ]
		  },
  {
"cell_type": "code",
	   "execution_count": null,
	   "metadata": {
	    "collapsed": true
	   },
	   "outputs": [],
"source": [
"clc\n",
"clear\n",
"//input\n",
"d=3*10^-3//thickness of sheet\n",
"l=12*10^-3//seperated distance\n",
"//calculation\n",
"x=1/40//law of conservation of energy\n",
"y=x*d/l//from x\n",
"//output\n",
"printf('the ratio of temperature gradient in rubber to polystyrene is %3.3f0',x)\n",
"printf('\nthe ratio of temperature difference across rubber and polystyrene is %3.3e',y)"
   ]
   }
,
{
		   "cell_type": "markdown",
		   "metadata": {},
		   "source": [
			"## Example 6.1: heat_given_out.sce"
		   ]
		  },
  {
"cell_type": "code",
	   "execution_count": null,
	   "metadata": {
	    "collapsed": true
	   },
	   "outputs": [],
"source": [
"clc\n",
"clear\n",
"//input\n",
"m=0.5 //mass\n",
"c=460 //specific heat capacity of iron\n",
"t1=70//initial temperature\n",
"t2=10//final temperature\n",
"//calculation\n",
"q=m*c*(t1-t2)//heat required \n",
"//output\n",
"printf('the heat required is %3.0f J',q)"
   ]
   }
,
{
		   "cell_type": "markdown",
		   "metadata": {},
		   "source": [
			"## Example 6.2: potential_difference_heater.sce"
		   ]
		  },
  {
"cell_type": "code",
	   "execution_count": null,
	   "metadata": {
	    "collapsed": true
	   },
	   "outputs": [],
"source": [
"clc\n",
"clear\n",
"//input\n",
"T=100 //rise in temperature\n",
"i=2.7 //current\n",
"t=950 //time taken\n",
"mc=0.15//mass of calorimeter \n",
"cy=3*10^3//specific heat capacity of y\n",
"cc=2*10^3//specific heat capacity of calorimeter\n",
"my=160*10^-3//mass of liquid\n",
"//calculation\n",
"v=((my*cy)+(mc*cc))*T/(i*t)//law of conservation of heat\n",
"//output\n",
"printf('the potential difference is %3.0f V',v)"
   ]
   }
,
{
		   "cell_type": "markdown",
		   "metadata": {},
		   "source": [
			"## Example 6.3: heat_loss_and_specific_heat.sce"
		   ]
		  },
  {
"cell_type": "code",
	   "execution_count": null,
	   "metadata": {
	    "collapsed": true
	   },
	   "outputs": [],
"source": [
"clc\n",
"clear\n",
"//input\n",
"iw=4.5 //current\n",
"vw=5.2 //pd of water\n",
"mw=6*10^-2 //flow of water\n",
"cw=4.18*10^3 //heat capacity of water\n",
"ix=5.5//current of x\n",
"iv=7.7//pd of x\n",
"im=18*10^-2//flow of x\n",
"//calculation\n",
"x=(iw*vw)-((mw*cw*5)/60)//rate of heat loss\n",
"cx=(6*4180)/18 +1263//specific heat capacity of x\n",
"//output\n",
"printf('the rate of heat loss is %3.3f W',x)\n",
"printf('\n the specific heat of x is %3.3e Jkg^-1K^-1',cx)"
   ]
   }
,
{
		   "cell_type": "markdown",
		   "metadata": {},
		   "source": [
			"## Example 6.4: Boyles_law.sce"
		   ]
		  },
  {
"cell_type": "code",
	   "execution_count": null,
	   "metadata": {
	    "collapsed": true
	   },
	   "outputs": [],
"source": [
" clc\n",
"clear\n",
"//input\n",
"v1=0.52 //volume of ideal gas\n",
"p1=2.3*10^5 //pressure of ideal gas\n",
"p2=6.7*10^5 //pressure changed\n",
"//calculation\n",
"v2=p1*v1/p2//boyle's law\n",
"//output\n",
"printf('the volume is %3.3f m^3',v2)"
   ]
   }
,
{
		   "cell_type": "markdown",
		   "metadata": {},
		   "source": [
			"## Example 6.5: Charles_law.sce"
		   ]
		  },
  {
"cell_type": "code",
	   "execution_count": null,
	   "metadata": {
	    "collapsed": true
	   },
	   "outputs": [],
"source": [
"clc\n",
"clear\n",
"//input\n",
"v2=11.3 //final volume\n",
"v1=7.8//initial volume\n",
"t1=67+273 //initial temperature\n",
"//calculation\n",
"t2=v2*t1/v1//charles law\n",
"//output\n",
"printf('the final temperature is %3.0d K',t2)"
   ]
   }
,
{
		   "cell_type": "markdown",
		   "metadata": {},
		   "source": [
			"## Example 6.6: pressure_law.sce"
		   ]
		  },
  {
"cell_type": "code",
	   "execution_count": null,
	   "metadata": {
	    "collapsed": true
	   },
	   "outputs": [],
"source": [
"clc\n",
"clear\n",
"//input\n",
"p1=1.01*10^5//initial pressure\n",
"t2=135+273//final temperature\n",
"t1=273//initial temperature\n",
"d=2.8 //density\n",
"//calculation\n",
"p2=p1*t2/t1//pressure law\n",
"p=(3*p2/2.8)^0.5//kinetic theory\n",
"//output\n",
"printf('rms speed of gas molecule is %3.0f m/s',p)"
   ]
   }
,
{
		   "cell_type": "markdown",
		   "metadata": {},
		   "source": [
			"## Example 6.7: KE_and_rms_velocity.sce"
		   ]
		  },
  {
"cell_type": "code",
	   "execution_count": null,
	   "metadata": {
	    "collapsed": true
	   },
	   "outputs": [],
"source": [
"clc\n",
"clear\n",
"//input\n",
"t1=273//initial tenperature\n",
"t2=408//final temperature\n",
"//calculation\n",
"e=t1/t2//ratio of mean molecuar KE\n",
"c1=402*sqrt(0.67)//rms speed\n",
"//output\n",
"printf('the ratio of kinetic energy is %3.3f',e)\n",
"printf('\n  the rms speed of gas molecule is %3.0f ms^-1',c1)"
   ]
   }
,
{
		   "cell_type": "markdown",
		   "metadata": {},
		   "source": [
			"## Example 6.8: ideal_gas_equatio.sce"
		   ]
		  },
  {
"cell_type": "code",
	   "execution_count": null,
	   "metadata": {
	    "collapsed": true
	   },
	   "outputs": [],
"source": [
"clc\n",
"clear\n",
"//input\n",
"p=1.01*10^7 //pressure of gas\n",
"v=0.1 //volume of gas\n",
"R=8.3\n",
"T=280//temperature\n",
"g=0.017//mass of 1 mole\n",
"d=1100//density\n",
"//calculation\n",
"n=p*v/(R*T)//ideal gas equation\n",
"m=n*g//mass of gas\n",
"v=m/d//volume occupied\n",
"//output\n",
"printf('the volume is %3.3e m^3',v)"
   ]
   }
,
{
		   "cell_type": "markdown",
		   "metadata": {},
		   "source": [
			"## Example 6.9: Boyles_law.sce"
		   ]
		  },
  {
"cell_type": "code",
	   "execution_count": null,
	   "metadata": {
	    "collapsed": true
	   },
	   "outputs": [],
"source": [
"clc\n",
"clear\n",
"//input\n",
"p1=9*10^4//total pressure\n",
"x=1*10^4//water pressure\n",
"//calculation\n",
"p2=(p1-x)/2//boyles law\n",
"p=p2+x//adding vapour pressure\n",
"//output\n",
"printf('the final pressure is %3.0e Pa',p)"
   ]
   }
],
"metadata": {
		  "kernelspec": {
		   "display_name": "Scilab",
		   "language": "scilab",
		   "name": "scilab"
		  },
		  "language_info": {
		   "file_extension": ".sce",
		   "help_links": [
			{
			 "text": "MetaKernel Magics",
			 "url": "https://github.com/calysto/metakernel/blob/master/metakernel/magics/README.md"
			}
		   ],
		   "mimetype": "text/x-octave",
		   "name": "scilab",
		   "version": "0.7.1"
		  }
		 },
		 "nbformat": 4,
		 "nbformat_minor": 0
}
