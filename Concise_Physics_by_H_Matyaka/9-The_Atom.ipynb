{
"cells": [
 {
		   "cell_type": "markdown",
	   "metadata": {},
	   "source": [
       "# Chapter 9: The Atom"
	   ]
	},
{
		   "cell_type": "markdown",
		   "metadata": {},
		   "source": [
			"## Example 9.10: count_rate_determination.sce"
		   ]
		  },
  {
"cell_type": "code",
	   "execution_count": null,
	   "metadata": {
	    "collapsed": true
	   },
	   "outputs": [],
"source": [
"clc\n",
"clear\n",
"//input\n",
"w=0.004//weight of manganese\n",
"a=6*10^23\n",
"t=303*24*3600//half time\n",
"//calculation\n",
"N=w*a/0.054//number of moles\n",
"x=0.693*N/(303*24*3600)//count rate from decay law\n",
"//output\n",
"printf('the count rate is %3.3e counts per second',x)"
   ]
   }
,
{
		   "cell_type": "markdown",
		   "metadata": {},
		   "source": [
			"## Example 9.11: determination_of_attributes.sce"
		   ]
		  },
  {
"cell_type": "code",
	   "execution_count": null,
	   "metadata": {
	    "collapsed": true
	   },
	   "outputs": [],
"source": [
"clc\n",
"clear\n",
"//input\n",
"v=400//pd\n",
"d=4*10^-3 //distance of seperation\n",
"B=0.52//flux density\n",
"na=6*10^23//avagadro number\n",
"//calcuation\n",
"E=v/d//electric field strength\n",
"v1=E/B// speed of ions \n",
"m=24*10^-3/na//mass of each ion\n",
"ke=m*v1*v1/2//kinetic energy \n",
"W=1.6*10^-19*1\n",
"KE=ke/W//kinetic energy in electron volts\n",
"//output\n",
"printf('the electric field strength is %3.3e Vm^-1',E)\n",
"printf('\n the speed of ions is %3.3e m/s',v1)\n",
"printf('\n the kinetic energy is %3.3e J',ke)\n",
"printf('\n the kinetic energy in electron volts is %3.3f ev',KE)"
   ]
   }
,
{
		   "cell_type": "markdown",
		   "metadata": {},
		   "source": [
			"## Example 9.12: velocity_selectio.sce"
		   ]
		  },
  {
"cell_type": "code",
	   "execution_count": null,
	   "metadata": {
	    "collapsed": true
	   },
	   "outputs": [],
"source": [
"clc\n",
"clear\n",
"//input\n",
"v=400//pd\n",
"d=4*10^-3 //distance of seperation\n",
"B=0.52//flux density\n",
"na=6*10^23//avagadro number\n",
"//calculation\n",
"x=2*1.6*10^-19/(4*10^-26)//specific charge of ions\n",
"r=1*10^5/(8*10^6*B*B)// path radius\n",
"//output\n",
"printf('the specific charge of ions is %3.0e C/kg',x)\n",
"printf('\n the path radius is %3.3e m',r)"
   ]
   }
,
{
		   "cell_type": "markdown",
		   "metadata": {},
		   "source": [
			"## Example 9.1: electric_field_effect.sce"
		   ]
		  },
  {
"cell_type": "code",
	   "execution_count": null,
	   "metadata": {
	    "collapsed": true
	   },
	   "outputs": [],
"source": [
"clc\n",
"clear\n",
"//input\n",
"v=400 //voltage\n",
"d=0.18 //distance of screen from centre\n",
"e=1.6*10^-19 //electronic charge\n",
"m=9.1*10^-31 //mass\n",
"l=0.03 //length of parallel plates\n",
"s=0.01 //air gap\n",
"//calculation\n",
"w=e*v//work done\n",
"v1=sqrt(2*e*v/m)//speed of electron \n",
"e1=v/s//electric field strength\n",
"d1=d*6*10^3*l/(2*v)//vertical displacement\n",
"//output\n",
"printf('the work done is %3.3e J',w)\n",
"printf('\n the speed of electron is %3.3e ms^-1',v1)\n",
"printf('\n the displacement is %3.3f m',d1)"
   ]
   }
,
{
		   "cell_type": "markdown",
		   "metadata": {},
		   "source": [
			"## Example 9.2: Millikan_experiment.sce"
		   ]
		  },
  {
"cell_type": "code",
	   "execution_count": null,
	   "metadata": {
	    "collapsed": true
	   },
	   "outputs": [],
"source": [
"clc\n",
"clear\n",
"//input\n",
"v=5.7*10^-4 //velocity\n",
"ro=830 //density\n",
"d=4*10^-3\n",
"V=3.2*10^3 //pd\n",
"g=9.8 //acceleration due to gravity\n",
"k=4.2*10^-4 //resistive force of air\n",
"//calculation\n",
"r=sqrt(3*k*v/(4*%pi*ro*g))//equating the forces on drop\n",
"q=4*%pi*r^3*ro*g/(3*V/d)//electric firld between plates\n",
"//output\n",
"printf('the radius of oil drop is %3.3e m',r)\n",
"printf('\n the value of electric firld between plates is %3.3e C',q)"
   ]
   }
,
{
		   "cell_type": "markdown",
		   "metadata": {},
		   "source": [
			"## Example 9.3: Stephan_Boltzmann_law.sce"
		   ]
		  },
  {
"cell_type": "code",
	   "execution_count": null,
	   "metadata": {
	    "collapsed": true
	   },
	   "outputs": [],
"source": [
"clc\n",
"clear\n",
"//input\n",
"sig=6//stephans constant\n",
"//calculation\n",
"x=3^4*6*2^2/6//ratio of rate of emission \n",
"//output\n",
"printf('the ratio of rate of emission is %d and hence larger cube emits faster than smaller',x)"
   ]
   }
,
{
		   "cell_type": "markdown",
		   "metadata": {},
		   "source": [
			"## Example 9.4: working_temperature.sce"
		   ]
		  },
  {
"cell_type": "code",
	   "execution_count": null,
	   "metadata": {
	    "collapsed": true
	   },
	   "outputs": [],
"source": [
"clc\n",
"clear\n",
"//input\n",
"p=900 //power\n",
"d=4*10^-3 //diameter\n",
"l=0.87//length\n",
"sig=5.7*10^-8 //stephans constant\n",
"//calculation\n",
"t=(p/(%pi*d*l*sig))^0.25//temperature\n",
"//output\n",
"printf('the working temperature is %d K',t)"
   ]
   }
,
{
		   "cell_type": "markdown",
		   "metadata": {},
		   "source": [
			"## Example 9.5: stephan_law.sce"
		   ]
		  },
  {
"cell_type": "code",
	   "execution_count": null,
	   "metadata": {
	    "collapsed": true
	   },
	   "outputs": [],
"source": [
"clc\n",
"clear\n",
"//input\n",
"e1=350//heat per second\n",
"t=7+273 //teperature\n",
"sig=5.7*10^-8//stephans constant\n",
"//calculation\n",
"e2=e1*4//stephans law\n",
"E=sig*(t^4-t^4)//stephans law\n",
"//output\n",
"printf('the rate of emission is %3.3f W',e2)\n",
"printf('\nthe rate of emission when outer temperature is increased is %d W',E)"
   ]
   }
,
{
		   "cell_type": "markdown",
		   "metadata": {},
		   "source": [
			"## Example 9.6: incereased_temperature_effect.sce"
		   ]
		  },
  {
"cell_type": "code",
	   "execution_count": null,
	   "metadata": {
	    "collapsed": true
	   },
	   "outputs": [],
"source": [
"clc\n",
"clear\n",
"//input\n",
"t1=280\n",
"t2=290//temperature of surroundings\n",
"sig=5.7*10^-8 //stephans constant\n",
"//calculation\n",
"e3=sig*(t1^4-t2^4)//stephans law\n",
"e1=6.2*10^9*sig \n",
"e3=0.15*e1\n",
"//output\n",
"printf('the absorbing rate is %d W',e3)"
   ]
   }
,
{
		   "cell_type": "markdown",
		   "metadata": {},
		   "source": [
			"## Example 9.7: plancks_theory.sce"
		   ]
		  },
  {
"cell_type": "code",
	   "execution_count": null,
	   "metadata": {
	    "collapsed": true
	   },
	   "outputs": [],
"source": [
"clc\n",
"clear\n",
"//input\n",
"c=3*10^8 //velocity of speed\n",
"w=5.1*10^-7 //wavelength of green light\n",
"w1=0.7 //wavelength of radio waves\n",
"w2=1.3*10^-13 //wavelength of gamma\n",
"h=6.6*10^-34\n",
"//calculation\n",
"e1=h*c/w//plancks theory for greeen light\n",
"e2=h*c/w1//plancks theory for radio waves\n",
"e3=h*c/w2//plancks theory for gamma waves\n",
"//output\n",
"printf('energy carried by green light is %3.3e J',e1)\n",
"printf('\nenergy carried by radio waves is %3.3e J',e2)\n",
"printf('\nenergy carried by gamma waves is %3.3e J',e3)"
   ]
   }
,
{
		   "cell_type": "markdown",
		   "metadata": {},
		   "source": [
			"## Example 9.8: quantities_of_metal.sce"
		   ]
		  },
  {
"cell_type": "code",
	   "execution_count": null,
	   "metadata": {
	    "collapsed": true
	   },
	   "outputs": [],
"source": [
"clc\n",
"clear\n",
"//input\n",
"c=3*10^8//speed of light\n",
"m=9.1*10^-31//mass of electron\n",
"tw=5.12*10^-7//threshhold wavelength\n",
"w1=4.52*10^-8 //radiation wavelength\n",
"h=6.6*10^-34//stephans constant\n",
"//calculation\n",
"f0=c/tw//threshhold frequency\n",
"w=h*f0//work function\n",
"a=h*c/w1//einsteins photo electric equation\n",
"v=sqrt((2*(a-w))/m)//photoelectric energy \n",
"emax=0.5*m*v*v\n",
"//output\n",
"printf('threshhold frequency is %3.3e Hz',f0)\n",
"printf('\n the work function is %3.3e J',w)\n",
"printf('\n the maximum photoelectric speed is %3.3e ms^-1',v)\n",
"printf('\n the maximum photoelectric energy is %3.3e J',emax)"
   ]
   }
,
{
		   "cell_type": "markdown",
		   "metadata": {},
		   "source": [
			"## Example 9.9: decay_law.sce"
		   ]
		  },
  {
"cell_type": "code",
	   "execution_count": null,
	   "metadata": {
	    "collapsed": true
	   },
	   "outputs": [],
"source": [
"clc\n",
"clear\n",
"//input\n",
"t=2.14*10^6*365*24*60*60//half time\n",
"//calculation\n",
"l=0.693/t//decay constant\n",
"t1=1.1097/l//decay law\n",
"t2=t1/(365*60*60*24)//time in yrs\n",
"//output\n",
"printf('time taken is %3.3e yrs',t2)"
   ]
   }
],
"metadata": {
		  "kernelspec": {
		   "display_name": "Scilab",
		   "language": "scilab",
		   "name": "scilab"
		  },
		  "language_info": {
		   "file_extension": ".sce",
		   "help_links": [
			{
			 "text": "MetaKernel Magics",
			 "url": "https://github.com/calysto/metakernel/blob/master/metakernel/magics/README.md"
			}
		   ],
		   "mimetype": "text/x-octave",
		   "name": "scilab",
		   "version": "0.7.1"
		  }
		 },
		 "nbformat": 4,
		 "nbformat_minor": 0
}
