{
"cells": [
 {
		   "cell_type": "markdown",
	   "metadata": {},
	   "source": [
       "# Chapter 3: Fluid Statics"
	   ]
	},
{
		   "cell_type": "markdown",
		   "metadata": {},
		   "source": [
			"## Example 3.01: liquid_level.sce"
		   ]
		  },
  {
"cell_type": "code",
	   "execution_count": null,
	   "metadata": {
	    "collapsed": true
	   },
	   "outputs": [],
"source": [
"//liquid level//\n",
"pathname=get_absolute_file_path('3.01.sce')\n",
"filename=pathname+filesep()+'3.01-data.sci'\n",
"exec(filename)\n",
"//Tube diameter(in mm):\n",
"D=1:25;\n",
"D1=D/1000\n",
"[m n]=size(D1)\n",
"for i=1:n\n",
"//Change in liquid level for water(in mm):\n",
"dhw(i)=4*STw*cosd(thetaw)/dw/g/D1(i);\n",
"//Change in liquid level for mercury(in mm):\n",
"dhm(i)=4*STm*cosd(thetam)/dm/g/D1(i);\n",
"end;\n",
"\n",
"//Plotting tube daimeter and water level:\n",
"plot(D1*1000,dhw,'-o')\n",
"//Plotting tube daimeter and mercury level:\n",
"plot(D1*1000,dhm,'-*')\n",
"legend(['Water';'Mercury']);\n",
"xtitle('Liquid level vs Tube diameter','Liquid level(in mm)','Tube diameter(in mm)')"
   ]
   }
,
{
		   "cell_type": "markdown",
		   "metadata": {},
		   "source": [
			"## Example 3.03: pressure_difference.sce"
		   ]
		  },
  {
"cell_type": "code",
	   "execution_count": null,
	   "metadata": {
	    "collapsed": true
	   },
	   "outputs": [],
"source": [
"//pressure difference//\n",
"pathname=get_absolute_file_path('3.03.sce')\n",
"filename=pathname+filesep()+'3.03-data.sci'\n",
"exec(filename)\n",
"//Pressure difference(in lbf/in^2):\n",
"dp=g*d*(-d1+SGm*d2-SGo*d3+SGm*d4+d5)/12/144\n",
"printf('\n\nRESULTS\n\n')\n",
"printf('\n\nPressure difference between A and B: %f lbf/in^2\n\n',dp)"
   ]
   }
,
{
		   "cell_type": "markdown",
		   "metadata": {},
		   "source": [
			"## Example 3.04: temperature_and_pressure.sce"
		   ]
		  },
  {
"cell_type": "code",
	   "execution_count": null,
	   "metadata": {
	    "collapsed": true
	   },
	   "outputs": [],
"source": [
"//temperature and pressure//\n",
"pathname=get_absolute_file_path('3.04.sce')\n",
"filename=pathname+filesep()+'3.04-data.sci'\n",
"exec(filename)\n",
"//Assuming temperature varies linearly with altitude:\n",
"//Temperature gradient(in F/ft):\n",
"m=(T1-T2)/(z2-z1)\n",
"//Value of g/(m*R):\n",
"v=g/m/R/32.2\n",
"//Pressure at Vail Pass(in inches of Hg):\n",
"p12=p1*((T2+460)/(T1+460))^v\n",
"//Percentage change in density:\n",
"pc1=(p12/p1*(T1+460)/(T2+460)-1)*100\n",
"//Assuming density is constant:\n",
"//Pressure at Vail Pass(in inches of Hg):\n",
"p22=p1*(1-(g*(z2-z1)/(R*32.2)/(T1+460)))\n",
"//Percentage change in density:\n",
"pc2=0;\n",
"//Assuming temperature is constant:\n",
"//Pressure at Vail Pass(in inches of Hg):\n",
"p32=p1*%e^(-g*(z2-z1)/(R*32.2)/(T2+460))\n",
"//Percentage change in density:\n",
"pc3=(p32/p1*(T1+460)/(T1+460)-1)*100\n",
"//For an adiabatic atmosphere:\n",
"p42=p1*((62+460)/(80+460))^(k/(k-1))\n",
"//Percentage change in density:\n",
"pc4=(p42/p1*(T1+460)/(T2+460)-1)*100\n",
"printf('\n\nRESULTS\n\n')\n",
"printf('\n\n1) If temperature varies linearly with altitude\n\n')\n",
"printf('\n\n\tAtmospheric pressure at Vail Pass: %f inches of Hg\n\n',p12)\n",
"printf('\n\n\tPercentage change in density wrt Denver: %f percent\n\n',pc1)\n",
"printf('\n\n2) If density is constant\n\n')\n",
"printf('\n\n\tAtmospheric pressure at Vail Pass: %f inches of Hg\n\n',p22)\n",
"printf('\n\n\tPercentage change in density wrt Denver: %f percent\n\n',pc2)\n",
"printf('\n\n3) If temperature is constant\n\n')\n",
"printf('\n\n\tAtmospheric pressure at Vail Pass: %f inches of Hg\n\n',p32)\n",
"printf('\n\n\tPercentage change in density wrt Denver: %f percent\n\n',pc3)\n",
"printf('\n\n4) For an adiabatic atmosphere\n\n')\n",
"printf('\n\n\tAtmospheric pressure at Vail Pass: %f inches of Hg\n\n',p42)\n",
"printf('\n\n\tPercentage change in density wrt Denver: %f percent\n\n',pc4)"
   ]
   }
,
{
		   "cell_type": "markdown",
		   "metadata": {},
		   "source": [
			"## Example 3.05: force_and_pressure.sce"
		   ]
		  },
  {
"cell_type": "code",
	   "execution_count": null,
	   "metadata": {
	    "collapsed": true
	   },
	   "outputs": [],
"source": [
"//force and pressure//\n",
"pathname=get_absolute_file_path('3.05.sce')\n",
"filename=pathname+filesep()+'3.05-data.sci'\n",
"exec(filename)\n",
"//Net force on the gate(in kN):\n",
"Fr=d*g*w*(D*L+L^2/2*sind(theta))\n",
"//Centre of pressure:\n",
"//Calculation for y coordinate:\n",
"   yc=D/sind(theta)+L/2\n",
"   //Area(in m^2):\n",
"   A=L*w\n",
"   //Moment of inertia of rectangular gate(in m^4):\n",
"   Ixx=w*L^3/12\n",
"   //y coordinate(in m):\n",
"   y=yc+Ixx/A/yc\n",
"//Calculation for x coordinate:\n",
"   Ixy=0\n",
"   xc=w/2\n",
"   //x coordinate(in m):\n",
"   x=xc+Ixy/A/xc\n",
"printf('\n\nRESULTS\n\n')\n",
"printf('\n\nNet force on the gate: %f kN\n\n',Fr/1000)\n",
"printf('\n\nCoordinate of centre of pressure:(%0.1f,%0.1f)\n\n',x,y)\n",
"       \n",
"      "
   ]
   }
,
{
		   "cell_type": "markdown",
		   "metadata": {},
		   "source": [
			"## Example 3.06: force.sce"
		   ]
		  },
  {
"cell_type": "code",
	   "execution_count": null,
	   "metadata": {
	    "collapsed": true
	   },
	   "outputs": [],
"source": [
"//force//\n",
"pathname=get_absolute_file_path('3.06.sce')\n",
"filename=pathname+filesep()+'3.06-data.sci'\n",
"exec(filename)\n",
"//Force required to keep the door shut(in lbf):\n",
"function y=f(z),y=b/L*p0*z+d*b/L*(L*z-z^2),endfunction\n",
"Ft=intg(0,L,f)\n",
"printf('\n\nRESULTS\n\n')\n",
"printf('\n\nForce requiredto kep the door shut: %.1f lbf\n\n',Ft)"
   ]
   }
,
{
		   "cell_type": "markdown",
		   "metadata": {},
		   "source": [
			"## Example 3.07: force_at_equilibrium.sce"
		   ]
		  },
  {
"cell_type": "code",
	   "execution_count": null,
	   "metadata": {
	    "collapsed": true
	   },
	   "outputs": [],
"source": [
"//force at equilibrium//\n",
"pathname=get_absolute_file_path('3.07.sce')\n",
"filename=pathname+filesep()+'3.07-data.sci'\n",
"exec(filename)\n",
"//Horizontal component of resultant force(in kN):\n",
"Frh=0.5*d*g*w*D^2\n",
"//Line of action of Frh(in m):\n",
"y1=0.5*D+w*D^3/12/(0.5*D)/(w*D)\n",
"//Vertical component of resultant force(in kN):\n",
"function y=q(x), y=d*g*w*(D-sqrt(a*x)),endfunction\n",
"Frv=intg(0,D^2/a,q)\n",
"//Line of acion of Frv(in m):\n",
"function k=f(x), k=d*g*w/Frv*x*(D-sqrt(a*x)),endfunction\n",
"xa=intg(0,D^2/a,f)\n",
"//Force required to keep the gate in equilibrium(in kN):\n",
"Fa=1/l*(xa*Frv+(D-y1)*Frh)\n",
"printf('\n\nRESULTS\n\n')\n",
"printf('\n\nForce required to keep the gate at equilibrium: %f kN\n\n',Fa/1000)"
   ]
   }
],
"metadata": {
		  "kernelspec": {
		   "display_name": "Scilab",
		   "language": "scilab",
		   "name": "scilab"
		  },
		  "language_info": {
		   "file_extension": ".sce",
		   "help_links": [
			{
			 "text": "MetaKernel Magics",
			 "url": "https://github.com/calysto/metakernel/blob/master/metakernel/magics/README.md"
			}
		   ],
		   "mimetype": "text/x-octave",
		   "name": "scilab",
		   "version": "0.7.1"
		  }
		 },
		 "nbformat": 4,
		 "nbformat_minor": 0
}
