{
"cells": [
 {
		   "cell_type": "markdown",
	   "metadata": {},
	   "source": [
       "# Chapter 2: Fundamental Concepts"
	   ]
	},
{
		   "cell_type": "markdown",
		   "metadata": {},
		   "source": [
			"## Example 2.02: Viscosity_and_stress.sce"
		   ]
		  },
  {
"cell_type": "code",
	   "execution_count": null,
	   "metadata": {
	    "collapsed": true
	   },
	   "outputs": [],
"source": [
"//Viscosity and stress//\n",
"pathname=get_absolute_file_path('2.02.sce')\n",
"filename=pathname+filesep()+'2.02-data.sci'\n",
"exec(filename)\n",
"\n",
"//Viscosity in units of lbf-s/ft^2:\n",
"u1=u/100/454/32.2*30.5\n",
"//Kinematic viscosity (in m/sec^2):\n",
"v=u1/SG/d*(0.305)^2\n",
"//Shear stress on the upper plate(lbf/ft^2):\n",
"tu=u1*U/D*1000\n",
"//Shear stress on the lower plate(in Pa)\n",
"tl=tu*4.45/0.305^2\n",
"printf('\n\nRESULTS\n\n')\n",
"printf('\n\nViscosity in units of lbf-s/ft^2: %1.8f $lbf-s/ft^2\n\n',u1)\n",
"printf('\n\nKinematic viscosity: %1.8f m/sec^2\n\n',v)\n",
"printf('\n\nShear stres on the upeer plate: %f lbf/ft^2\n\n',tu)\n",
"printf('\n\nSear stress on the lower plate: %f Pa\n\n',tl)"
   ]
   }
],
"metadata": {
		  "kernelspec": {
		   "display_name": "Scilab",
		   "language": "scilab",
		   "name": "scilab"
		  },
		  "language_info": {
		   "file_extension": ".sce",
		   "help_links": [
			{
			 "text": "MetaKernel Magics",
			 "url": "https://github.com/calysto/metakernel/blob/master/metakernel/magics/README.md"
			}
		   ],
		   "mimetype": "text/x-octave",
		   "name": "scilab",
		   "version": "0.7.1"
		  }
		 },
		 "nbformat": 4,
		 "nbformat_minor": 0
}
