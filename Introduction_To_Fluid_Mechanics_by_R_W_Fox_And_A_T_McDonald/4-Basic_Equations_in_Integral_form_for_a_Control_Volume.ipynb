{
"cells": [
 {
		   "cell_type": "markdown",
	   "metadata": {},
	   "source": [
       "# Chapter 4: Basic Equations in Integral form for a Control Volume"
	   ]
	},
{
		   "cell_type": "markdown",
		   "metadata": {},
		   "source": [
			"## Example 4.01: Velocity.sce"
		   ]
		  },
  {
"cell_type": "code",
	   "execution_count": null,
	   "metadata": {
	    "collapsed": true
	   },
	   "outputs": [],
"source": [
"//Velocity//\n",
"pathname=get_absolute_file_path('4.01.sce')\n",
"filename=pathname+filesep()+'4.01-data.sci'\n",
"exec(filename)\n",
"//If I=integral of(pV.dA):\n",
"//For system: Ics=IA1+IA2+IA3+IA4.\n",
"//For area 1\n",
"IA1=-d*V1*A1\n",
"//For area 3: IA2=d*V3*A3=m3\n",
"IA3=m3\n",
"//For area 4: IA4=-d*V4*A4=-d*Q4\n",
"IA4=-d*Q4\n",
"//For area 2:\n",
"IA2=-IA1-IA3-IA4\n",
"//Velocity at section 2(in ft/sec):\n",
"V2=IA2/d/A2\n",
"//V2 is in the negative y direction\n",
"printf('\n\nRESULTS\n\n')\n",
"printf('\n\nVelocity at section 2: -%.0fj ft/sec\n\n',V2)"
   ]
   }
,
{
		   "cell_type": "markdown",
		   "metadata": {},
		   "source": [
			"## Example 4.02: Mass_flow.sce"
		   ]
		  },
  {
"cell_type": "code",
	   "execution_count": null,
	   "metadata": {
	    "collapsed": true
	   },
	   "outputs": [],
"source": [
"//Mass flow//\n",
"pathname=get_absolute_file_path('4.02.sce')\n",
"filename=pathname+filesep()+'4.02-data.sci'\n",
"exec(filename)\n",
"//If I=integral of(pV.dA):\n",
"//For system: ICS=Iab+Ibc+Icd+Ida\n",
"//But ICS=0\n",
"\n",
"//For Aab:\n",
"function p=f(y),p=-d*U*w*y^0,endfunction\n",
"IAab=intg(0,t,f)\n",
"\n",
"//For Acd:\n",
"function q=g(y),q=d*U*w*(2*y/t-(y/t)^2),endfunction\n",
"IAcd=intg(0,t,g)\n",
"\n",
"//Mass flow rate across surface bc(in kg/sec):\n",
"mbc=(-IAab-IAcd)/1000\n",
"printf('\n\nRESULTS\n\n')\n",
"printf('\n\nMass flow rate across surface bc: %.4f kg/sec\n\n',mbc)"
   ]
   }
,
{
		   "cell_type": "markdown",
		   "metadata": {},
		   "source": [
			"## Example 4.03: density.sce"
		   ]
		  },
  {
"cell_type": "code",
	   "execution_count": null,
	   "metadata": {
	    "collapsed": true
	   },
	   "outputs": [],
"source": [
"//density//\n",
"pathname=get_absolute_file_path('4.03.sce')\n",
"filename=pathname+filesep()+'4.03-data.sci'\n",
"exec(filename)\n",
"//Rate of change of air density in tank(in (kg/m^3)/s):\n",
"r=-d*v*A/V/10^6\n",
"printf('\n\nRESULTS\n\n')\n",
"printf('\n\nRate of change of air density in tank: %.3f kg/m^3\n\n',r)\n",
"printf('\n\nThe density decreases as is indicated by the negative sign\n\n')"
   ]
   }
,
{
		   "cell_type": "markdown",
		   "metadata": {},
		   "source": [
			"## Example 4.04: Horizontal_force.sce"
		   ]
		  },
  {
"cell_type": "code",
	   "execution_count": null,
	   "metadata": {
	    "collapsed": true
	   },
	   "outputs": [],
"source": [
"//Horizontal force//\n",
"pathname=get_absolute_file_path('4.04.sce')\n",
"filename=pathname+filesep()+'4.04-data.sci'\n",
"exec(filename)\n",
"//1) Control Volume selected so that area of left surface is equal to the area of the right surface\n",
"u1=15;\n",
"//Force of support on control volum(in kN):\n",
"function y=f(A),y=-u1*d*V,endfunction\n",
"Rx1=intg(0,0.01,f)\n",
"//Horizontal force on support(in kN):\n",
"Kx=-Rx1\n",
"//2) Control volumes are selected do that the area of the left and right surfaces are equial to the area of the plate\n",
"\n",
"function z=g(A),z=-u1*d*V,endfunction\n",
"Fsx=intg(0,0.01,g)\n",
"//Net force on plate:Fx=0=-Bx-pa*Ap+Rx\n",
"//                   Rx=pa*Ap+Bx\n",
"//From the above, it is obtained that: \n",
"Rx2=-2.25\n",
"//Horizontal force on support(in kN):\n",
"Kx2=-Rx2\n",
"printf('\n\nRESULTS\n\n')\n",
"printf('\n\nHorizontal force on support: %.3f kN\n\n',Kx/1000)\n",
"   "
   ]
   }
,
{
		   "cell_type": "markdown",
		   "metadata": {},
		   "source": [
			"## Example 4.05: Scale.sce"
		   ]
		  },
  {
"cell_type": "code",
	   "execution_count": null,
	   "metadata": {
	    "collapsed": true
	   },
	   "outputs": [],
"source": [
"//Scale//\n",
"pathname=get_absolute_file_path('4.05.sce')\n",
"filename=pathname+filesep()+'4.05-data.sci'\n",
"exec(filename)\n",
"//Weight of water in the tank(in lbf):\n",
"d1=62.4;\n",
"WH2O=d1*A*h\n",
"v=-5;\n",
"//Total body force in negative y direction(lbf):\n",
"function y=f(A),y=-v*d2*V1,endfunction\n",
"F=intg(0,A1,f)\n",
"//Force of scale on control volume(in kN):\n",
"Ry=W+WH2O-F\n",
"printf('\n\nRESULTS\n\n')\n",
"printf('\n\nScale Reading: %.3f lbf\n\n',Ry)\n",
"  "
   ]
   }
,
{
		   "cell_type": "markdown",
		   "metadata": {},
		   "source": [
			"## Example 4.06: force_exerted_per_unt.sce"
		   ]
		  },
  {
"cell_type": "code",
	   "execution_count": null,
	   "metadata": {
	    "collapsed": true
	   },
	   "outputs": [],
"source": [
"//force exerted per unt//\n",
"pathname=get_absolute_file_path('4.06.sce')\n",
"filename=pathname+filesep()+'4.06-data.sci'\n",
"exec(filename)\n",
"//X-component of reaction force per unit width of the gate(in N/m):\n",
"Rxw=(d*(V2^2*D2-V1^2*D1))-(d*g/2*(D1^2-D2^2))\n",
"//Horizontal force exerted per unt width on the gate(in N/m):\n",
"Kxw=-Rxw\n",
"printf('\n\nRESULTS\n\n')\n",
"printf('\n\nHorizontal force exerted per unt width on the gate: %.3f kN/m\n\n',Kxw/1000)"
   ]
   }
,
{
		   "cell_type": "markdown",
		   "metadata": {},
		   "source": [
			"## Example 4.07: Force_to_hold.sce"
		   ]
		  },
  {
"cell_type": "code",
	   "execution_count": null,
	   "metadata": {
	    "collapsed": true
	   },
	   "outputs": [],
"source": [
"//Force to hold//\n",
"pathname=get_absolute_file_path('4.07.sce')\n",
"filename=pathname+filesep()+'4.07-data.sci'\n",
"exec(filename)\n",
"//Velocity at section 1(in m/sec):\n",
"V1=V2*A2/A1\n",
"//Gauge pressure(in kPa):\n",
"p1g=p1-patm\n",
"u1=V1;u2=-V2;\n",
"//Reaction force component in the x direction(in N):\n",
"Rx=-p1g*A1-u1*d*V1*A1\n",
"//Reaction force component in the y direction(in N):\n",
"Ry=u2*d*V2*A2\n",
"printf('\n\nRESULTS\n\n')\n",
"printf('\n\nForce to hold elbow acting to the left: %.3f kN\n\n',Rx/1000)\n",
"printf('\n\nForce to hold elbow acting downwards: %.3f N\n\n',Ry)"
   ]
   }
,
{
		   "cell_type": "markdown",
		   "metadata": {},
		   "source": [
			"## Example 4.08: Tension.sce"
		   ]
		  },
  {
"cell_type": "code",
	   "execution_count": null,
	   "metadata": {
	    "collapsed": true
	   },
	   "outputs": [],
"source": [
"//Tension//\n",
"filename=pathname+filesep()+'4.08-data.sci'\n",
"exec(filename)\n",
"//Tension required to pull the belt(in lbf):\n",
"T=Vbelt*m/32.2\n",
"printf('\n\nRESULTS\n\n')\n",
"printf('\n\nTension required to pull the belt: %.3f lbf\n\n',T)"
   ]
   }
,
{
		   "cell_type": "markdown",
		   "metadata": {},
		   "source": [
			"## Example 4.09: pressure_required.sce"
		   ]
		  },
  {
"cell_type": "code",
	   "execution_count": null,
	   "metadata": {
	    "collapsed": true
	   },
	   "outputs": [],
"source": [
"//pressure required//\n",
"pathname=get_absolute_file_path('4.09.sce')\n",
"filename=pathname+filesep()+'4.09-data.sci'\n",
"exec(filename)\n",
"//Minimum gauge pressure required(in lbf/in^2):\n",
"pg=8/%pi^2*d/D1^4*Q^2*((D1/D2)^4-1)*144\n",
"printf('\n\nRESULTS\n\n')\n",
"printf('Minimum gauge pressure required: %.3f lbf/in^2',pg)"
   ]
   }
,
{
		   "cell_type": "markdown",
		   "metadata": {},
		   "source": [
			"## Example 4.10: Net_force.sce"
		   ]
		  },
  {
"cell_type": "code",
	   "execution_count": null,
	   "metadata": {
	    "collapsed": true
	   },
	   "outputs": [],
"source": [
"//Net force//\n",
"pathname=get_absolute_file_path('4.10.sce')\n",
"filename=pathname+filesep()+'4.10-data.sci'\n",
"exec(filename)\n",
"u1=V-U\n",
"u2=(V-U)*cosd(theta)\n",
"v2=(V-U)*sind(theta)\n",
"V1=V-U\n",
"V2=V1\n",
"//X component of moment equation(in N):\n",
"function y=f(A),y=u1*-(d*V1),endfunction\n",
"function z=g(A),z=u2*d*V2,endfunction\n",
"Rx=intg(0,A,f)+intg(0,A,g)\n",
"\n",
"//Y component of moment equation(in N):\n",
"function a=h(A),a=v2*d*V1,endfunction\n",
"Ry=intg(0,A,h) //This is after neglecting weight of vane and the water.\n",
"printf('\n\nRESULTS\n\n')\n",
"printf('\n\nNet force on the vane: %.3f i+%.2f j kN\n\n',Rx/1000,Ry/1000)"
   ]
   }
,
{
		   "cell_type": "markdown",
		   "metadata": {},
		   "source": [
			"## Example 4.11: PLOTTING.sce"
		   ]
		  },
  {
"cell_type": "code",
	   "execution_count": null,
	   "metadata": {
	    "collapsed": true
	   },
	   "outputs": [],
"source": [
"//PLOTTING//\n",
"pathname=get_absolute_file_path('4.11.sce')\n",
"filename=pathname+filesep()+'4.11-data.sci'\n",
"exec(filename)\n",
"//Evaluating the value of Vb:\n",
"Vb=V*(1-cosd(theta))*d*A/M\n",
"//Value of U/V for various values of t\n",
"t=0:20;\n",
"[m n]=size(t)\n",
"for i=1:n\n",
"  U_V(i)=Vb*t(i)/(1+Vb*t(i));\n",
"end\n",
"\n",
"//Plotting U/V vs t:\n",
"plot(t,U_V)\n",
"xtitle('U/V vs t','t (in sec)','U/V')"
   ]
   }
,
{
		   "cell_type": "markdown",
		   "metadata": {},
		   "source": [
			"## Example 4.12: Velocity_of_rocket.sce"
		   ]
		  },
  {
"cell_type": "code",
	   "execution_count": null,
	   "metadata": {
	    "collapsed": true
	   },
	   "outputs": [],
"source": [
"//Velocity of rocket//\n",
"pathname=get_absolute_file_path('4.12.sce')\n",
"filename=pathname+filesep()+'4.12-data.sci'\n",
"exec(filename)\n",
"//Acceleration of rocket at t=0(in m/sec^2):\n",
"Ve*me/M0-g\n",
"//Velocity of rocket at t=10 (in m/sec):\n",
"function y=f(t),y=Ve*me/(M0-me*t)-g,endfunction\n",
"Vcv=intg(0,t,f)\n",
"printf('\n\nRESULTS\n\n')\n",
"printf('\n\nVelocity of rocket at t=10: %.1f m/sec\n\n',Vcv)"
   ]
   }
,
{
		   "cell_type": "markdown",
		   "metadata": {},
		   "source": [
			"## Example 4.14: Relative_speed_and_friction.sce"
		   ]
		  },
  {
"cell_type": "code",
	   "execution_count": null,
	   "metadata": {
	    "collapsed": true
	   },
	   "outputs": [],
"source": [
"//Relative speed and friction//\n",
"pathname=get_absolute_file_path('4.14.sce')\n",
"filename=pathname+filesep()+'4.14-data.sci'\n",
"exec(filename)\n",
"//Area of jet(in mm^2):\n",
"Ajet=%pi/4*D^2\n",
"//Jet speed relative to the nozzle(in m/sec):\n",
"Vrel=Q/2/Ajet*10^6/60/1000\n",
"//Value of w*R in m/sec:\n",
"wR=w*R*2*%pi/60/1000\n",
"//Friction torque at pivot(in N-m):\n",
"Tf=R*(Vrel*cosd(alpha)-wR)*d*Q/1000/60/1000\n",
"printf('\n\nRESULTS\n\n')\n",
"printf('\n\nJet speed relative to each nozzle: %.2f m/sec\n\n',Vrel)\n",
"printf('\n\nFriction torque at pivot: %.5f N-m\n\n',Tf)"
   ]
   }
,
{
		   "cell_type": "markdown",
		   "metadata": {},
		   "source": [
			"## Example 4.16: Rate_of_heat.sce"
		   ]
		  },
  {
"cell_type": "code",
	   "execution_count": null,
	   "metadata": {
	    "collapsed": true
	   },
	   "outputs": [],
"source": [
"//Rate of heat//\n",
"pathname=get_absolute_file_path('4.16.sce')\n",
"filename=pathname+filesep()+'4.16-data.sci'\n",
"exec(filename)\n",
"//Velocity at exit(in ft/sec):\n",
"V2=m*R*(T2+460)/A2/p2/144\n",
"//As power input is to CV, Ws=-600\n",
"//Rate of heat transfer(in Btu/sec):\n",
"Q=Ws*550/778+m*cp*(T2-T1)+m*V2^2/2/32.2/778\n",
"printf('\n\nRESULTS\n\n')\n",
"printf('\n\nRate of heat transfer: %.3f Btu/sec\n\n',Q)"
   ]
   }
,
{
		   "cell_type": "markdown",
		   "metadata": {},
		   "source": [
			"## Example 4.17: Mass_flow_rate.sce"
		   ]
		  },
  {
"cell_type": "code",
	   "execution_count": null,
	   "metadata": {
	    "collapsed": true
	   },
	   "outputs": [],
"source": [
"//Mass flow rate//\n",
"pathname=get_absolute_file_path('4.17.sce')\n",
"filename=pathname+filesep()+'4.17-data.sci'\n",
"exec(filename)\n",
"//Density of tank(in kg/m^3):\n",
"d=(p1+patm)/R/T\n",
"//Mass flow rate of air into the tank(in kg/sec):\n",
"m=d*V*cv*r/R/T*1000\n",
"printf('\n\nRESULTS\n\n')\n",
"printf('\n\nMass flow rate of air into the tank: %.3f g/sec\n\n',m)"
   ]
   }
],
"metadata": {
		  "kernelspec": {
		   "display_name": "Scilab",
		   "language": "scilab",
		   "name": "scilab"
		  },
		  "language_info": {
		   "file_extension": ".sce",
		   "help_links": [
			{
			 "text": "MetaKernel Magics",
			 "url": "https://github.com/calysto/metakernel/blob/master/metakernel/magics/README.md"
			}
		   ],
		   "mimetype": "text/x-octave",
		   "name": "scilab",
		   "version": "0.7.1"
		  }
		 },
		 "nbformat": 4,
		 "nbformat_minor": 0
}
