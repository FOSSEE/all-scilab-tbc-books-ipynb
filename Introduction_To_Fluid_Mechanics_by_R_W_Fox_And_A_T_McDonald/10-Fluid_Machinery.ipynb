{
"cells": [
 {
		   "cell_type": "markdown",
	   "metadata": {},
	   "source": [
       "# Chapter 10: Fluid Machinery"
	   ]
	},
{
		   "cell_type": "markdown",
		   "metadata": {},
		   "source": [
			"## Example 10.01: input_and_power.sce"
		   ]
		  },
  {
"cell_type": "code",
	   "execution_count": null,
	   "metadata": {
	    "collapsed": true
	   },
	   "outputs": [],
"source": [
"//input and power//\n",
"pathname=get_absolute_file_path('10.01.sce')\n",
"filename=pathname+filesep()+'10.01-data.sci'\n",
"exec(filename)\n",
"//Impeller exit width b2(in feet):\n",
"b2=Q*12/(2*%pi*R2*Vrb2*7.48*60)\n",
"//Torque of the Shaft, Tshaft(in ft-lbf):\n",
"Tshaft=w*R2^2*p*Q*2*%pi/3600/7.48/144\n",
"//Power, Wm(in hp):\n",
"Wm=w*Tshaft*2*%pi/60/550\n",
"printf('\n\nRESULTS\n\n')\n",
"printf('\n\nImpeller exit width: %.3f feet\n\n',b2)\n",
"printf('\n\Torque input: %.3f ft-lbf\n\n',Tshaft)\n",
"printf('\n\nPower: %.3f hp\n\n',Wm)"
   ]
   }
,
{
		   "cell_type": "markdown",
		   "metadata": {},
		   "source": [
			"## Example 10.02: volume_and_power.sce"
		   ]
		  },
  {
"cell_type": "code",
	   "execution_count": null,
	   "metadata": {
	    "collapsed": true
	   },
	   "outputs": [],
"source": [
"//volume and power//\n",
"pathname=get_absolute_file_path('10.02.sce')\n",
"filename=pathname+filesep()+'10.02-data.sci'\n",
"exec(filename)\n",
"U=0.5*(Dh+Dt)/2*1200*2*%pi/60\n",
"k=tand(alpha1)+cotd(betta1)\n",
"Vn1=U/k\n",
"V1=Vn1/cosd(alpha1)\n",
"Vt1=V1*sind(alpha1)\n",
"Vrb1=Vn1/sind(betta1)\n",
"//Volume flow rate (in m^3/sec):\n",
"Q=%pi/4*Vn1*(Dt^2-Dh^2)\n",
"k=(U-Vn1*cotd(betta2))/Vn1\n",
"alpha2= atand(k)\n",
"V2=Vn1/cosd(alpha2)\n",
"Vt2=V2*sind(alpha2)\n",
"//Rotor Torque (in N-m):\n",
"Tz=p*Q*(Dh+Dt)/4*(Vt2-Vt1)\n",
"//Power required (in W):\n",
"Wm=w*2*%pi/60*Tz\n",
"printf('\n\nRESULTS\n\n')\n",
"printf('\n\nVolume flow rate: %.3f m^3/sec\n\n',Q)\n",
"printf('\n\nRotor Torque: %.3f N-m\n\n',Tz)\n",
"printf('\n\nPower required: %.3f W\n\n',Wm)"
   ]
   }
,
{
		   "cell_type": "markdown",
		   "metadata": {},
		   "source": [
			"## Example 10.03: Pump_Power.sce"
		   ]
		  },
  {
"cell_type": "code",
	   "execution_count": null,
	   "metadata": {
	    "collapsed": true
	   },
	   "outputs": [],
"source": [
"//Pump Power//\n",
"pathname=get_absolute_file_path('10.03.sce')\n",
"filename=pathname+filesep()+'10.03-data.sci'\n",
"exec(filename)\n",
"[nQ mQ]= size(Q);\n",
"[nps mps]=size(ps);\n",
"[npd mpd]= size(pd);\n",
"[nI mI]= size(I);\n",
"//Correct measured static pressures to he pump centreline p1, p2(in psig):\n",
" j=1:mps;\n",
"  p1=ps(j)+px*g*zs/144\n",
"   j=1:mpd;\n",
"  p2=pd(j)+px*g*zd/144\n",
"  //The value of Pump head(in feet):\n",
"  j=1:mps;\n",
"  Hp=(p2(j)-p1(j))/(px*g)*144\n",
"  //Values of Hydraulic Power delivered(in hp):\n",
"   j=1:mps;\n",
"   Wh=Q(j).*(p2(j)-p1(j))/7.48/60*144/550\n",
"   //Values of motor power output(in hp):\n",
"  j=1:mI;\n",
"  Pin=Effm*sqrt(3)*PF*E*I(j)/746\n",
"  //Values of Pump Efficiecy:\n",
"   j=1:mI;\n",
"  Effp= Wh(j)./Pin(j)*100\n",
"  //Plotting pump characteristics:\n",
"   plot(Q,Hp,'-o')\n",
"  plot(Q,Pin,'-+')\n",
"  plot(Q,Effp,'-*')\n",
"  xtitle('Pump Characteristics','Volume flow rate(in gpm)',['Pump Efficincy(%)    ','   Pump Head(in feet)   ','    Pump Power input(in hp)   '])\n",
"  legend('Hp','Pin','Effp')\n",
"\n",
"\n",
""
   ]
   }
,
{
		   "cell_type": "markdown",
		   "metadata": {},
		   "source": [
			"## Example 10.06: Specific_and_relation.sce"
		   ]
		  },
  {
"cell_type": "code",
	   "execution_count": null,
	   "metadata": {
	    "collapsed": true
	   },
	   "outputs": [],
"source": [
"//Specific and relation//\n",
"pathname=get_absolute_file_path('10.06.sce')\n",
"filename=pathname+filesep()+'10.06-data.sci'\n",
"exec(filename)\n",
"//Specific speed in Us customary units:\n",
"Nscu=N*Qus^0.5/Hus^0.75\n",
"//Conversion to SI units:\n",
"w=1170*2*%pi/60;\n",
"Qsi=Qus/7.48/60*0.305^3;\n",
"Hsi=Hus*0.305;\n",
"//Energy per unit mass is:\n",
"h=g*Hsi;\n",
"//Specific speed in SI units:\n",
"Nssi=w*Qsi^0.5/h^0.75\n",
"//Conversion to hertz:\n",
"whz=N/60;\n",
"//Specific speed in European units:\n",
"Nseu=whz*Qsi^0.5/65.5^0.75\n",
"//Relation between specific speeds in Us customary units and European units:\n",
"Conversionfactor1=Nscu/Nseu\n",
"//Relation between specific speeds in Us customary units and SI units:\n",
"Conversionfactor2=Nscu/Nssi\n",
"printf('\n\nRESULTS\n\n')\n",
"printf('\n\nSpecific speed in US customary units: %.3f \n\n',Nscu)\n",
"printf('\n\nSpecific speed in SI units: %.3f \n\n',Nssi)\n",
"printf('\n\nSpecific speedin European units: %.3f \n\n',Nseu)\n",
"printf('\n\nRelation between specific speeds in Us customary units and European units: %.3f \n\n',Conversionfactor1)\n",
"printf('\n\nRelation between specific speeds in Us customary units and SI units: %.3f \n\n',Conversionfactor2)"
   ]
   }
,
{
		   "cell_type": "markdown",
		   "metadata": {},
		   "source": [
			"## Example 10.07: Comparison_of_head.sce"
		   ]
		  },
  {
"cell_type": "code",
	   "execution_count": null,
	   "metadata": {
	    "collapsed": true
	   },
	   "outputs": [],
"source": [
"//Comparison of head//\n",
"pathname=get_absolute_file_path('10.07.sce')\n",
"filename=pathname+filesep()+'10.07-data.sci'\n",
"exec(filename)\n",
"//Volume flow rate(in gpm) at shut off condition for N2:\n",
"Q2so=N2/N1*Q1so\n",
"//Volume flow(in gpm) rate at best efficiency for N2:\n",
"Q2be=N2/N1*Q1be\n",
"//Relation between pump heads:\n",
"head_relation=(N2/N1)^2\n",
"//Head(in feet) at shut off condition for N2:\n",
"H2so=(N2/N1)^2*H1so\n",
"//Head(in feet) at best efficiency condition for N2:\n",
"H2be=(N2/N1)^2*H1be\n",
"Q1=[Q1so Q1be];\n",
"Q2=[Q2so Q2be];\n",
"H1=[H1so H1be];\n",
"H2=[H2so H2be];\n",
"plot(Q1,H1,'-o')\n",
"plot(Q2,H2,'-*')\n",
"xtitle('Comparison of head for both conditions','Volume Flow Rate','Head') \n",
"legend('1170','1750')"
   ]
   }
,
{
		   "cell_type": "markdown",
		   "metadata": {},
		   "source": [
			"## Example 10.08: NPSHA_and_NPSHR.sce"
		   ]
		  },
  {
"cell_type": "code",
	   "execution_count": null,
	   "metadata": {
	    "collapsed": true
	   },
	   "outputs": [],
"source": [
"//NPSHA and NPSHR// \n",
"pathname=get_absolute_file_path('10.08.sce')\n",
"filename=pathname+filesep()+'10.08-data.sci'\n",
"exec(filename)\n",
"//Diameter of pipe (in feet):\n",
"Df= Di/12\n",
"//Area of crossection of pipe(in ft^2):\n",
"A=%pi/4*Df^2\n",
"//Velocity of flow(in ft/sec):\n",
"V=Q/7.48/A/60\n",
"//For water at T=80F,viscosity=0.927e-5 ft^2/sec, Reynolds number:\n",
"Re=V*Df/v\n",
"//Friction loss Coefficient for this value of Re:\n",
"f=0.0237;\n",
"//For cast iron, roughness(in feet):\n",
"e=0.00085\n",
"//e/D is:\n",
"e/Df\n",
"//Total head loss(in feet):\n",
"HL=K+f*(SE+OGV)+f*(L/Df)+1\n",
"//The heads are(in feet):\n",
"H1=patm*144/(p*g)\n",
"Vh=V^2/2/g\n",
"//Suction head(in feet):\n",
"Hs=H1+h-HL*Vh\n",
"//NPSHA(in feet):\n",
"NPSHA=Hs+Vh-Hv1\n",
"//For a flow rate of 1000 gpm,NPSHR(in feet) for water at 80 F\n",
"NPSHR=10 \n",
"//PLOTTING NPSHA AND NPSHR VERSUS VOLUME FLOW RATE:\n",
"//For 80 F\n",
"Qp=0:100:1500;\n",
"[nQp mQp]=size(Qp);\n",
" for j=1:mQp;\n",
" Vp(j)=Qp(j)/(7.48*A*60);\n",
" Vhp(j)=(Vp(j))^2/2/g;\n",
" Hs(j)=H1+h-HL*Vhp(j);\n",
" end\n",
"\n",
"for j=1:mQp;\n",
"  NPSHAp1(j)=Hs(j)+(Vhp(j))-Hv1;\n",
"end\n",
"\n",
"plot(Qp,NPSHAp1,'-+')\n",
"plot(Qh,NPSHRp,'-o')\n",
"xtitle('Suction head vs Flow rate','Volume flow rate(gpm)','Suction Head(feet)');\n",
"printf('\n\nType (Resume) to continue or (abort) to end\n\n')\n",
"legend('NPSHA','NPSHR')\n",
"pause \n",
"clf\n",
"\n",
"//For 180 F\n",
"for j=1:mQp;\n",
"  NPSHAp2(j)=Hs(j)+(Vhp(j))-Hv2;\n",
"end\n",
"plot(Qp,NPSHAp2,'-+')\n",
"plot(Qh,NPSHRp,'-o')\n",
"xtitle('Suction head vs Flow rate','Volume flow rate(gpm)','Suction Head(feet)');\n",
"legend('NPSHA','NPSHR')\n",
"printf('\n\nRESULTS\n\n')\n",
"printf('\n\nNPSHA at Q=1000 gpm of water at 80 F: %.2f ft\n\n',NPSHA)\n",
"printf('\n\nNPSHR at Q=1000 gpm of water at 80 F: %.1f ft\n\n',NPSHR)"
   ]
   }
,
{
		   "cell_type": "markdown",
		   "metadata": {},
		   "source": [
			"## Example 10.11: Performance_curves.sce"
		   ]
		  },
  {
"cell_type": "code",
	   "execution_count": null,
	   "metadata": {
	    "collapsed": true
	   },
	   "outputs": [],
"source": [
"//Performance curves//\n",
"pathname=get_absolute_file_path('10.11.sce')\n",
"filename=pathname+filesep()+'10.11-data.sci'\n",
"exec(filename)\n",
"[nQ mQ]= size(Q1);\n",
"[np mp]= size(p1);\n",
"[nP mP]= size(P1);\n",
"//Volume flow rate for fan 2(in cfm):\n",
"j=1:mQ;\n",
"Q2=Q1(j)*(N2/N1)*(D2/D1)^3\n",
"//Pressure values for fan 2(in inches of H2O):\n",
"j=1:mp;\n",
"p2=p1(j)*(d2/d1)*((N2/N1)^2)*((D2/D1)^2)\n",
"//Power values for fan 2(in hp):\n",
"j=1:mP;\n",
"P2=P1(j)*(d2/d1)*((N2/N1)^3)*((D2/D1)^5)\n",
"plot(Q2,p2)\n",
"xtitle('Performance curves','Volume flow rate(in cfm)','Pressure head(in inches of water)')\n",
"printf('\n\nType (resume) to continue or (abort) to exit\n\n')\n",
"pause \n",
"clf\n",
"plot(Q2,P2)\n",
"xtitle('Performance curves','Volume flow rate(in cfm)','Power(in hp)')\n",
"printf('\n\nType (resume) to continue or (abort) to exit\n\n')\n",
"pause\n",
"clf\n",
"plot(Q2,Eff)\n",
"xtitle('Performance curves','Volume flow rate(in cfm)','Eficiency(in percentage)')\n",
"//Specific speed of fan(in US customary units) at operating point:\n",
"Nscu= 1150*110000^0.50*0.045^0.75/7.4^0.75\n",
"//Specific speed of fan (in SI units) at operating point:\n",
"Nssi=120*3110^0.5*0.721^0.75/1.84e3^0.75"
   ]
   }
,
{
		   "cell_type": "markdown",
		   "metadata": {},
		   "source": [
			"## Example 10.12: Power_required.sce"
		   ]
		  },
  {
"cell_type": "code",
	   "execution_count": null,
	   "metadata": {
	    "collapsed": true
	   },
	   "outputs": [],
"source": [
"//Power required//\n",
"pathname=get_absolute_file_path('10.12.sce')\n",
"filename=pathname+filesep()+'10.12-data.sci'\n",
"exec(filename)\n",
"//From given graph, for maximum delivery condition, Q=48.5gpm.\n",
"//Volume of oil per revolution delivered by the pump(in in^3/rev):\n",
"vc=Qe/N*231\n",
"//Volumetric Effciency of pump at max flow:\n",
"Effv=vc/va\n",
"//Operating point of the pump is found to be at 1500 psig,Q=46.5gpm\n",
"//Power delivered by the fluid(in hp):\n",
"Pf=Qo*po1/7.48/60*144/550\n",
"//Input power(in hp):\n",
"Pi=Pf/Effp\n",
"//The power delivered to the load(in hp):\n",
"Pl=Q*(po1)/7.48/60*144/550\n",
"//Power dissipated by throttling(in hp):\n",
"Pd=Pf-Pl\n",
"//The dissipation with the variable displacement pump(in hp):\n",
"Pvd=Q*(po2-po1)/7.48/60*144/550\n",
"//Power required for te load sensing pump if pump pressure is 100psi above that required by the load(in hp):\n",
"Pls=Q*100/7.48/60*144/550\n",
"printf('\n\nRESULTS\n\n')\n",
"printf('\n\nVolume of oil per revolution delivered by the pump: %.3f in^3/rev\n\n',vc)\n",
"printf('\n\nRequired pump power input: %.3f hp\n\n',Pi)\n",
"printf('\n\nPower deliverd to the load: %.3f hp\n\n',Pl)\n",
"printf('\n\nPower dissipated by throttling: %.3f hp\n\n',Pd)\n",
"printf('\n\nThe dissipation with the variable displacement pump: %.3f hp\n\n',Pvd)\n",
"printf('\n\nPower required for te load sensing pump if pump pressure is 100psi above that required by the load: %.3f hp\n\n',Pls)"
   ]
   }
,
{
		   "cell_type": "markdown",
		   "metadata": {},
		   "source": [
			"## Example 10.14: propeller.sce"
		   ]
		  },
  {
"cell_type": "code",
	   "execution_count": null,
	   "metadata": {
	    "collapsed": true
	   },
	   "outputs": [],
"source": [
"//propeller//\n",
"pathname=get_absolute_file_path('10.14.sce')\n",
"filename=pathname+filesep()+'10.14-data.sci'\n",
"exec(filename)\n",
"//Propeller Thrust(in MN) :\n",
"Ft=P/V\n",
"//Required power input  to the propeller(in MW):\n",
"Pin=P/Eff\n",
"//Calculating value of D(in m):\n",
"nD=V/J\n",
"D=(Ft*10^6/p/(nD)^2/Cf)^0.5\n",
"//Operating speed (in rpm) is given by:\n",
"n=nD/D*60\n",
"printf('\n\nRESULTS\n\n')\n",
"printf('\n\nDiameter of the single propeller required to pwer the ship:%.3f m\n\n',D)\n",
"printf('\n\nOperating speed of the propeller: %.3f rpm\n\n',n)"
   ]
   }
,
{
		   "cell_type": "markdown",
		   "metadata": {},
		   "source": [
			"## Example 10.16: Actual.sce"
		   ]
		  },
  {
"cell_type": "code",
	   "execution_count": null,
	   "metadata": {
	    "collapsed": true
	   },
	   "outputs": [],
"source": [
"//Actual//\n",
"pathname=get_absolute_file_path('10.16.sce')\n",
"filename=pathname+filesep()+'10.16-data.sci'\n",
"exec(filename)\n",
"//Tip speed ratio of windmill:\n",
"X=N*2*%pi/60*D/2/(V*5/18)\n",
"//Accounting for whirl,max attainable efficiency is:\n",
"Efw=0.53;\n",
"//Kinetic energy flux(in W) is given by:\n",
"KEF=0.5*p*(V*5/18)^3*%pi*(D/2)^2\n",
"//Actual Efficiency:\n",
"Effa=Po/KEF\n",
"//The maximum possible thrust occurs for an interference factor of:\n",
"amax=0.5;\n",
"//Thrust(in W):\n",
"Kx=p*(V*5/18)^2*%pi*(D/2)^2*2*amax*(1-amax)\n",
"printf('\n\nRESULTS\n\n')\n",
"printf('\n\nTip speed ratio of windmill:%.3f\n\n',X)\n",
"printf('\n\nActual Efficiency: %.3f\n\n',Effa)\n",
"printf('\n\nActual Thrust: %.3f W\n\n',Kx)"
   ]
   }
,
{
		   "cell_type": "markdown",
		   "metadata": {},
		   "source": [
			"## Example 10.1: Performance_curves.sce"
		   ]
		  },
  {
"cell_type": "code",
	   "execution_count": null,
	   "metadata": {
	    "collapsed": true
	   },
	   "outputs": [],
"source": [
"//Performance curves//\n",
"pathname=get_absolute_file_path('10.11.sce')\n",
"filename=pathname+filesep()+'10.11-data.sci'\n",
"exec(filename)\n",
"[nQ mQ]= size(Q1);\n",
"[np mp]= size(p1);\n",
"[nP mP]= size(P1);\n",
"//Volume flow rate for fan 2(in cfm):\n",
"j=1:mQ;\n",
"Q2=Q1(j)*(N2/N1)*(D2/D1)^3\n",
"//Pressure values for fan 2(in inches of H2O):\n",
"j=1:mp;\n",
"p2=p1(j)*(d2/d1)*((N2/N1)^2)*((D2/D1)^2)\n",
"//Power values for fan 2(in hp):\n",
"j=1:mP;\n",
"P2=P1(j)*(d2/d1)*((N2/N1)^3)*((D2/D1)^5)\n",
"plot(Q2,p2)\n",
"xtitle('Performance curves','Volume flow rate(in cfm)','Pressure head(in inches of water)')\n",
"printf('\n\nType (resume) to continue or (abort) to exit\n\n')\n",
"pause \n",
"clf\n",
"plot(Q2,P2)\n",
"xtitle('Performance curves','Volume flow rate(in cfm)','Power(in hp)')\n",
"printf('\n\nType (resume) to continue or (abort) to exit\n\n')\n",
"pause\n",
"clf\n",
"plot(Q2,Eff)\n",
"xtitle('Performance curves','Volume flow rate(in cfm)','Eficiency(in percentage)')\n",
"//Specific speed of fan(in US customary units) at operating point:\n",
"Nscu= 1150*110000^0.50*0.045^0.75/7.4^0.75\n",
"//Specific speed of fan (in SI units) at operating point:\n",
"Nssi=120*3110^0.5*0.721^0.75/1.84e3^0.75"
   ]
   }
],
"metadata": {
		  "kernelspec": {
		   "display_name": "Scilab",
		   "language": "scilab",
		   "name": "scilab"
		  },
		  "language_info": {
		   "file_extension": ".sce",
		   "help_links": [
			{
			 "text": "MetaKernel Magics",
			 "url": "https://github.com/calysto/metakernel/blob/master/metakernel/magics/README.md"
			}
		   ],
		   "mimetype": "text/x-octave",
		   "name": "scilab",
		   "version": "0.7.1"
		  }
		 },
		 "nbformat": 4,
		 "nbformat_minor": 0
}
