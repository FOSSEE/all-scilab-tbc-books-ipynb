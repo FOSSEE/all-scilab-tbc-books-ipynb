{
"cells": [
 {
		   "cell_type": "markdown",
	   "metadata": {},
	   "source": [
       "# Chapter 9: External Incompressible Viscous Flow"
	   ]
	},
{
		   "cell_type": "markdown",
		   "metadata": {},
		   "source": [
			"## Example 9.01: static_pressure.sce"
		   ]
		  },
  {
"cell_type": "code",
	   "execution_count": null,
	   "metadata": {
	    "collapsed": true
	   },
	   "outputs": [],
"source": [
"//static pressure//\n",
"pathname=get_absolute_file_path('9.01.sce')\n",
"filename=pathname+filesep()+'9.01-data.sci'\n",
"exec(filename)\n",
"//Change in static pressure between sections 1 and 2:\n",
"C=(((L-2*d1)/(L-2*d2))^4-1)*100;\n",
"printf('\n\nRESULTS\n\n')\n",
"printf('\n\nChange in static pressure between the sections 1 and 2: %.3f percent \n\n',C)"
   ]
   }
,
{
		   "cell_type": "markdown",
		   "metadata": {},
		   "source": [
			"## Example 9.04: Displacement_thickness_and_stress.sce"
		   ]
		  },
  {
"cell_type": "code",
	   "execution_count": null,
	   "metadata": {
	    "collapsed": true
	   },
	   "outputs": [],
"source": [
"//Displacement thickness and stress//\n",
"pathname=get_absolute_file_path('9.04.sce')\n",
"filename=pathname+filesep()+'9.04-data.sci'\n",
"exec(filename)\n",
"//Reynolds number:\n",
"ReL=U*L/v\n",
"//FOR TURBULENT FLOW\n",
"//Disturbance thickness(in m):\n",
"dL1=0.382/ReL^0.2*L\n",
"//Displacement thickness(in m):\n",
"function y=f(n),y=dL1*(1-n^(1/7))\n",
"endfunction\n",
"dl1=intg(0,1,f)\n",
"//Skin friction coefficient:\n",
"Cf1=0.0594/ReL^0.2\n",
"//Wall shear stress(in N/m^2):\n",
"tw1=Cf1*0.5*d*U^2\n",
"//For LAMINAR FLOW:\n",
"//Disturbance thickness(in m)\n",
"dL2=5/sqrt(ReL)*L\n",
"//Displacement thickness(in m):\n",
"dl2=0.344*dL2\n",
"//Skin friction coefficient:\n",
"Cf2=0.664/sqrt(ReL)\n",
"//Wall shear stress(in N/m^2):\n",
"tw2=Cf2*0.5*d*U^2\n",
"//COMPARISON OF VALUES WITH LAMINAR FLOW\n",
"//Disturbance thickness\n",
"D=dL1/dL2\n",
"//Displacement thickness\n",
"DS=dl1/dl2\n",
"//Wall shear stress\n",
"WSS=tw1/tw2\n",
"printf('\n\nRESULTS\n\n')\n",
"printf('\n\nDisturbace thickness: %.3f m\n\n',dL1)\n",
"printf('\n\nDisplacement thickness: %.3f m\n\n',dl1)\n",
"printf('\n\nWall shear stress: %f N/m^2\n\n',tw1)\n",
"printf('\n\nCOMPARISON WIH LAMINAR FLOW\n\n\n')\n",
"printf('\n\n Disturbance thicknes: %.3f \n\n',D)\n",
"printf('\n\nDisplacement thickness: %.3f\n\n',DS)\n",
"printf('\n\nWall shear stress: %.3f \n\n',WSS)"
   ]
   }
,
{
		   "cell_type": "markdown",
		   "metadata": {},
		   "source": [
			"## Example 9.05: force_and_power.sce"
		   ]
		  },
  {
"cell_type": "code",
	   "execution_count": null,
	   "metadata": {
	    "collapsed": true
	   },
	   "outputs": [],
"source": [
"//force and power//\n",
"pathname=get_absolute_file_path('9.05.sce')\n",
"filename=pathname+filesep()+'9.05-data.sci'\n",
"exec(filename)\n",
"//Speed in m/s:\n",
"U=s*6076*0.305/3600\n",
"//Reynolds number:\n",
"Re=U*L/v\n",
"//Drag coefficient:\n",
"Cd=0.455/log10(Re)^2.58-1610/Re\n",
"//Area(in m^2):\n",
"A=L*(W+D)\n",
"//Drag force(in N)\n",
"Fd=Cd*A*0.5*d*U^2\n",
"//Power required to overcome skin friction drag(in W):\n",
"P=Fd*U\n",
"printf('\n\nRESULTS\n\n')\n",
"printf('\n\nDrag force: %f N\n\n',Fd)\n",
"printf('\n\nPower required to overcome skin friction drag: %.3f W\n\n',P)"
   ]
   }
,
{
		   "cell_type": "markdown",
		   "metadata": {},
		   "source": [
			"## Example 9.06: Bending_moment.sce"
		   ]
		  },
  {
"cell_type": "code",
	   "execution_count": null,
	   "metadata": {
	    "collapsed": true
	   },
	   "outputs": [],
"source": [
"//Bending moment//\n",
"pathname=get_absolute_file_path('9.06.sce')\n",
"filename=pathname+filesep()+'9.06-data.sci'\n",
"exec(filename)\n",
"//Velocity in m/sec:\n",
"V=s*5/18\n",
"//Reynolds number:\n",
"Re=d*V*D/u\n",
"//Value of Cd is obtained as:\n",
"Cd=0.35;\n",
"//Area(in m^2):\n",
"A=L^2;\n",
"//Moment about the chimney base(in N-m):\n",
"M0=Cd*A*D/4*d*V^2\n",
"printf('\n\nRESULTS\n\n')\n",
"printf('\n\nBending moment at the bottom of the chimney: %.3f N-m\n\n',M0)\n",
""
   ]
   }
,
{
		   "cell_type": "markdown",
		   "metadata": {},
		   "source": [
			"## Example 9.07: Time_required.sce"
		   ]
		  },
  {
"cell_type": "code",
	   "execution_count": null,
	   "metadata": {
	    "collapsed": true
	   },
	   "outputs": [],
"source": [
"//Time required//\n",
"pathname=get_absolute_file_path('9.07.sce')\n",
"filename=pathname+filesep()+'9.07-data.sci'\n",
"exec(filename)\n",
"//Time required to decelerate to 100 mph(in seconds):\n",
"t=(s1-s2)*2*w/(s1*s2)/Cd/d/A/g*3600/5280\n",
"printf('\n\nRESULTS\n\n')\n",
"printf('\n\nTime required to decelerate to 100 mph: %.3f seconds\n\n',t)"
   ]
   }
,
{
		   "cell_type": "markdown",
		   "metadata": {},
		   "source": [
			"## Example 9.08: Optimum_cruise_speed.sce"
		   ]
		  },
  {
"cell_type": "code",
	   "execution_count": null,
	   "metadata": {
	    "collapsed": true
	   },
	   "outputs": [],
"source": [
"//Optimum cruise speed//\n",
"pathname=get_absolute_file_path('9.08.sce')\n",
"filename=pathname+filesep()+'9.08-data.sci'\n",
"exec(filename)\n",
"//Plotting velocity with drag force\n",
"V=175:25:455;\n",
"\n",
"[m n]=size(V);\n",
"for i=1:n\n",
"  CL(i)=2*W/p*(3600/V(i)/5280)^2/A;\n",
"  Cd(i)=Cd0+CL(i)^2/%pi/ar;\n",
"  Fd(i)=Cd(i)/CL(i)*W;\n",
"  FD(i)=Fd(i)/1000;\n",
"end\n",
"plot(V,FD)\n",
"xtitle('Flight speed vs thrust','Flight Speed(in mph)','Drag Force(in 1000lbf)')\n",
"//Optimum cuise speed at speed level is obtained to be 320 mph from the graph.\n",
"Vosl=320;\n",
"//Ratio of speeds at 30000 ft and at sea level is given by:\n",
"r=sqrt(1/0.375);\n",
"//Stall speed at 30000ft is(in mph):\n",
"Vs3=Vssl*r;\n",
"//Optimum Cruise speed at 30000ft(in mph):\n",
"Vo3=Vosl*r;\n",
"printf('\n\nRESULTS\n\n')\n",
"printf('\n\nOptimum cruise speed at sea level: %.3f mph\n\n',Vosl)\n",
"printf('\n\nStall speed at 30000 ft: %.3f mph\n\n',Vs3)\n",
"printf('\n\nOptimum cruise speed at 30000 ft: %.3f\n\n',Vo3)"
   ]
   }
,
{
		   "cell_type": "markdown",
		   "metadata": {},
		   "source": [
			"## Example 9.09: Aerodynamic_and_Radius.sce"
		   ]
		  },
  {
"cell_type": "code",
	   "execution_count": null,
	   "metadata": {
	    "collapsed": true
	   },
	   "outputs": [],
"source": [
"//Aerodynamic and Radius//\n",
"pathname=get_absolute_file_path('9.09.sce')\n",
"filename=pathname+filesep()+'9.09-data.sci'\n",
"exec(filename)\n",
"//Reynolds number:\n",
"//Value of wD/2V:\n",
"W=0.5*N*D/1000/V*2*%pi/60\n",
"Red=V*D/v;\n",
"//For this value, CL is obtained as:\n",
"CL=0.3;\n",
"//Aerodynamic lift(in N):\n",
"FL=%pi/8*CL*(D/1000)^2*d*V^2;\n",
"//Radius of curvature of the path in the vertical plane(in m) with topspin:\n",
"Rts=V^2/(g+FL/(m/1000));\n",
"//Radius of curvature without topspin(in m):\n",
"Rwts=V^2/g;\n",
"printf('\n\nRESULTS\n\n')\n",
"printf('\n\nAerodynamic lift acting on the ball:%.3f N\n\n',FL)\n",
"printf('\n\nRadius of curvature of the path when ball has topspin:%.3f m\n\n',Rts)\n",
"printf('\n\nRadius of curvature of the path when ball has topspin: %.3f m\n\n',Rwts)"
   ]
   }
],
"metadata": {
		  "kernelspec": {
		   "display_name": "Scilab",
		   "language": "scilab",
		   "name": "scilab"
		  },
		  "language_info": {
		   "file_extension": ".sce",
		   "help_links": [
			{
			 "text": "MetaKernel Magics",
			 "url": "https://github.com/calysto/metakernel/blob/master/metakernel/magics/README.md"
			}
		   ],
		   "mimetype": "text/x-octave",
		   "name": "scilab",
		   "version": "0.7.1"
		  }
		 },
		 "nbformat": 4,
		 "nbformat_minor": 0
}
