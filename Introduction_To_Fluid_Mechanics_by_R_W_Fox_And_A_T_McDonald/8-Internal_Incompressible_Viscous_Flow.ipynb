{
"cells": [
 {
		   "cell_type": "markdown",
	   "metadata": {},
	   "source": [
       "# Chapter 8: Internal Incompressible Viscous Flow"
	   ]
	},
{
		   "cell_type": "markdown",
		   "metadata": {},
		   "source": [
			"## Example 8.01: Leakage_flow_rate.sce"
		   ]
		  },
  {
"cell_type": "code",
	   "execution_count": null,
	   "metadata": {
	    "collapsed": true
	   },
	   "outputs": [],
"source": [
"//Leakage flow rate//\n",
"pathname=get_absolute_file_path('8.01.sce')\n",
"filename=pathname+filesep()+'8.01-data.sci'\n",
"exec(filename)\n",
"//Leakage flow rate (in mm^3/sec):\n",
"Q=%pi/12*D*a^3*(p1-p2)*10^3/u/L\n",
"//Velocity of flow(in m/sec):\n",
"V=Q/%pi/D/a/1000\n",
"//Specific gravity of SAE 10W oil:\n",
"SG=0.92;\n",
"//Reynolds Number:\n",
"Re=SG*dw*V*a/u/1000\n",
"//As Re<1400, flow is laminar.\n",
"printf('\n\nRESULTS\n\n')\n",
"printf('\n\nLeakage flow rate: %.3f mm^3/sec\n\n',Q)"
   ]
   }
,
{
		   "cell_type": "markdown",
		   "metadata": {},
		   "source": [
			"## Example 8.02: Torque_and_power.sce"
		   ]
		  },
  {
"cell_type": "code",
	   "execution_count": null,
	   "metadata": {
	    "collapsed": true
	   },
	   "outputs": [],
"source": [
"//Torque and power//\n",
"pathname=get_absolute_file_path('8.02.sce')\n",
"filename=pathname+filesep()+'8.02-data.sci'\n",
"exec(filename)\n",
"//Shear stres (in lbf/ft^2):\n",
"Tyx=u*N*2*%pi/60*D/2/(a/2)\n",
"//Torqe(in inches-lbf):\n",
"T=%pi/2*Tyx*D^2*L/144\n",
"//Power dissipated in the bearing(in hp):\n",
"P=T*N/60*2*%pi/12/550\n",
"//Reynolds number:\n",
"Re=SG*p*N*2*%pi/60*1.5*a/2/u/144\n",
"printf('\n\nRESULTS\n\n')\n",
"printf('\n\nTorque: %.3f inches-lbf\n\n',T)\n",
"printf('\n\nPower dissipated in the bearing: %.3f hp\n\n',P)"
   ]
   }
,
{
		   "cell_type": "markdown",
		   "metadata": {},
		   "source": [
			"## Example 8.04: Viscosity_of_fluid.sce"
		   ]
		  },
  {
"cell_type": "code",
	   "execution_count": null,
	   "metadata": {
	    "collapsed": true
	   },
	   "outputs": [],
"source": [
"//Viscosity of fluid//\n",
"pathname=get_absolute_file_path('8.04.sce')\n",
"filename=pathname+filesep()+'8.04-data.sci'\n",
"exec(filename)\n",
"//Viscosity of the liquid(in N-s/m^2):\n",
"u=%pi/128*p*1000*D^4/Q/L/1000\n",
"//Velocity(in m/sec)\n",
"V=Q/(%pi/4*D^2)/1000\n",
"//Reynolds number:\n",
"Re=d*V*D/u/1000\n",
"printf('\n\nRESULTS\n\n')\n",
"printf('\n\nViscosity of fluid %.3f N-s/m^2\n\n',u)"
   ]
   }
,
{
		   "cell_type": "markdown",
		   "metadata": {},
		   "source": [
			"## Example 8.05: required.sce"
		   ]
		  },
  {
"cell_type": "code",
	   "execution_count": null,
	   "metadata": {
	    "collapsed": true
	   },
	   "outputs": [],
"source": [
"//required//\n",
"pathname=get_absolute_file_path('8.05.sce')\n",
"filename=pathname+filesep()+'8.05-data.sci'\n",
"exec(filename)\n",
"//Reservoir depth required to maintain flow(in m):\n",
"D1=8*Q^2/(%pi)^2/D^4/g*(f*L/D+K+1)\n",
"//Reynolds number:\n",
"Re=4*d*Q/((%pi)*u*D)\n",
"printf('\n\nRESULTS\n\n')\n",
"printf('\n\nReservoir depth required to maintain flow: %.3f m\n\n',D1)"
   ]
   }
,
{
		   "cell_type": "markdown",
		   "metadata": {},
		   "source": [
			"## Example 8.06: Maximum_and_power.sce"
		   ]
		  },
  {
"cell_type": "code",
	   "execution_count": null,
	   "metadata": {
	    "collapsed": true
	   },
	   "outputs": [],
"source": [
"//Maximum and power//\n",
"pathname=get_absolute_file_path('8.06.sce')\n",
"filename=pathname+filesep()+'8.06-data.sci'\n",
"exec(filename)\n",
"//Velocity of flow(in ft/sec):\n",
"V=Q/24/3600/(%pi/4*(D/12)^2)*42/7.48\n",
"//Maximum spacing(in ft):\n",
"L=2/f*D/12*(p2-p1)/(SG*d)/V^2*144\n",
"//Power needed at each pump(in hp):\n",
"Win=1/Effp*V*%pi/4*(D/12)^2*(p2-p1)/550*144\n",
"printf('\n\nRESULTS\n\n')\n",
"printf('\n\nMaximum spacing: %.3f feet\n\n',L)\n",
"printf('\n\nPower needed at each pump: %.3f hp\n\n',Win)"
   ]
   }
,
{
		   "cell_type": "markdown",
		   "metadata": {},
		   "source": [
			"## Example 8.07: Volume_low.sce"
		   ]
		  },
  {
"cell_type": "code",
	   "execution_count": null,
	   "metadata": {
	    "collapsed": true
	   },
	   "outputs": [],
"source": [
"//Volume low//\n",
"pathname=get_absolute_file_path('8.07.sce')\n",
"filename=pathname+filesep()+'8.07-data.sci'\n",
"exec(filename)\n",
"//Velocity(in ft/sec):\n",
"V2=sqrt(2*g*l/(f*((L+l)/D*12+8)+1))\n",
"//Volume flow rate(in gpm):\n",
"Q=V2*%pi*(D/12)^2/4*7.48*60\n",
"printf('\n\nRESULTS\n\n')\n",
"printf('\n\nVolume low rate: %.3f\n\n',Q)"
   ]
   }
,
{
		   "cell_type": "markdown",
		   "metadata": {},
		   "source": [
			"## Example 8.08: Minimum_diameter.sce"
		   ]
		  },
  {
"cell_type": "code",
	   "execution_count": null,
	   "metadata": {
	    "collapsed": true
	   },
	   "outputs": [],
"source": [
"//Minimum diameter//\n",
"pathname=get_absolute_file_path('8.08.sce')\n",
"filename=pathname+filesep()+'8.08-data.sci'\n",
"exec(filename)\n",
"//Value of dPmax(in psi):\n",
"dPmax=p1-p2\n",
"//Q in cubic feet/sec:\n",
"Q1=1500/60/7.48;\n",
"//Initially assume diameter to be 4inches:\n",
"D=4;\n",
"//Reynolds number:\n",
"Re=4*Q1/%pi/v/D*12\n",
"//For this value, \n",
"f=0.012;\n",
" dP=8*f*L*p*Q1^2/(%pi)^2/D^5*1728;\n",
"while(dP>dPmax)   \n",
"   dP=8*f*L*p*Q1^2/(%pi)^2/D^5*1728;\n",
"   if(dP<dPmax)\n",
"   break\n",
"   else\n",
"   D=D+1;\n",
" end\n",
"end\n",
"printf('\n\nRESULTS\n\n')\n",
"printf('Minimum diameter that can be used:%.1f inches\n\n',D)"
   ]
   }
,
{
		   "cell_type": "markdown",
		   "metadata": {},
		   "source": [
			"## Example 8.09: Loss_Coefficient.sce"
		   ]
		  },
  {
"cell_type": "code",
	   "execution_count": null,
	   "metadata": {
	    "collapsed": true
	   },
	   "outputs": [],
"source": [
"//Loss Coefficient//\n",
"pathname=get_absolute_file_path('8.09.sce')\n",
"filename=pathname+filesep()+'8.09-data.sci'\n",
"exec(filename)\n",
"//Average velocity (in ft/s):\n",
"V2=4/%pi*Q/D^2*144\n",
"//Reynolds number:\n",
"Re=V2*D/v/12\n",
"//For this value,\n",
"f=0.013;\n",
"//Power law exponent:\n",
"n=-1.7+1.8*log10(Re)\n",
"//Value of V/U:\n",
"v_u=2*n^2/(n+1)/(2*n+1)\n",
"//Value of alpha:\n",
"alpha=(1/v_u)^3*2*n^2/(3+n)/(3+2*n)\n",
"//Loss Coefficient for a square edged entrance:\n",
"K=2*g*h/V2^2-f*L/D*12-alpha;\n",
"printf('\n\nRESULTS\n\n')\n",
"printf('\n\nLoss Coefficient for a square edged entrance: %.3f \n\n',K)"
   ]
   }
,
{
		   "cell_type": "markdown",
		   "metadata": {},
		   "source": [
			"## Example 8.10: Volume_and_increase.sce"
		   ]
		  },
  {
"cell_type": "code",
	   "execution_count": null,
	   "metadata": {
	    "collapsed": true
	   },
	   "outputs": [],
"source": [
"//Volume and increase//\n",
"pathname=get_absolute_file_path('8.10.sce')\n",
"filename=pathname+filesep()+'8.10-data.sci'\n",
"exec(filename)\n",
"//Velocity V1(in m/s):\n",
"V1=sqrt(2*g*z0/1.04)\n",
"//Volume flow rate(in m^3/sec):\n",
"Q=V1*%pi*D^2/4\n",
"Kdiff=1-1/A_R^2-Cp\n",
"//For 2nd case:\n",
"//Velocity(in m/s):\n",
"V1=sqrt(2*g*z0/0.59)\n",
"//Volume flow rate(in m^3/s):\n",
"Qd=V1*%pi*D^2/4\n",
"//Increase in discharge after addition of diffuser is:\n",
"dQ=(Qd-Q)/Q*100\n",
"printf('\n\nRESULTS\n\n')\n",
"printf('\n\nVolume flow rate in case1: %.3f m^3/sec\n\n',Q)\n",
"printf('\n\nVolume flow rate in case 2: %.3f m^3/sec\n\n',Qd)\n",
"printf('\n\nIncrease in discharge after addition of diffuser is: %.3f percent\n\n',dQ)"
   ]
   }
,
{
		   "cell_type": "markdown",
		   "metadata": {},
		   "source": [
			"## Example 8.11: Diameter_and_head.sce"
		   ]
		  },
  {
"cell_type": "code",
	   "execution_count": null,
	   "metadata": {
	    "collapsed": true
	   },
	   "outputs": [],
"source": [
"//Diameter and head//\n",
"pathname=get_absolute_file_path('8.11.sce')\n",
"filename=pathname+filesep()+'8.11-data.sci'\n",
"exec(filename)\n",
"\n",
"//Value of K*B^2:\n",
"K_B=Q/(%pi/4*D^2)*sqrt(0.5*d1/g/d2/h)\n",
"//Reynods number:\n",
"ReD1=4/%pi*Q/D/v\n",
"//By trial and error method, the value of beta is fixed at:\n",
"betta=0.66;\n",
"//K is then:\n",
"K=K_B/betta^2\n",
"//Diameter of orifice plate(in m):\n",
"Dt=betta*D\n",
"//Value of p3-p2(in N/m^2):\n",
"P1=d1*Q^2/(%pi/4*D^2)^2*(1/0.65/betta^2-1)\n",
"//Value of p1-p2(in N/m^2):\n",
"P2=d2*g*h\n",
"//Head loss between sections 1 and 3(in N-m/kg):\n",
"hLT=(P2-P1)/d1\n",
"//Expressing the permanent pressure as a fractio of the meter differential:\n",
"C=(P2-P1)/P2\n",
"printf('\n\n\nRESULTS\n\n')\n",
"printf('\n\nDiameter of the orifice: %.3f m\n\n',Dt)\n",
"printf('\n\nHead loss between secions 1 and 3: %.3f N-m/kg\n\n',hLT)"
   ]
   }
],
"metadata": {
		  "kernelspec": {
		   "display_name": "Scilab",
		   "language": "scilab",
		   "name": "scilab"
		  },
		  "language_info": {
		   "file_extension": ".sce",
		   "help_links": [
			{
			 "text": "MetaKernel Magics",
			 "url": "https://github.com/calysto/metakernel/blob/master/metakernel/magics/README.md"
			}
		   ],
		   "mimetype": "text/x-octave",
		   "name": "scilab",
		   "version": "0.7.1"
		  }
		 },
		 "nbformat": 4,
		 "nbformat_minor": 0
}
