{
"cells": [
 {
		   "cell_type": "markdown",
	   "metadata": {},
	   "source": [
       "# Chapter 12: Steady One Dimensional Compressible Flow"
	   ]
	},
{
		   "cell_type": "markdown",
		   "metadata": {},
		   "source": [
			"## Example 12.01: pressure_and_area.sce"
		   ]
		  },
  {
"cell_type": "code",
	   "execution_count": null,
	   "metadata": {
	    "collapsed": true
	   },
	   "outputs": [],
"source": [
"//pressure and area//\n",
"pathname=get_absolute_file_path('12.01.sce')\n",
"filename=pathname+filesep()+'12.01-data.sci'\n",
"exec(filename)\n",
"//Here the stagnation quantities are constant.\n",
"// Stagnation temperature(in K):\n",
"T0=T1*(1+(k-1)/2*M1^2)\n",
"//Stagnation pressure(in kPa):\n",
"p0=p1*((1+(k-1)/2*M1^2)^(k/(k-1)))\n",
"//Finding T2/T1:\n",
"T=t2/t1\n",
"//Temperature at exit(in K):\n",
"T2=T*T1\n",
"//Finding p2/p1:\n",
"P=P2/P1\n",
"//Pressure at exit(in kPa):\n",
"p2=P2*p1\n",
"//Density of air at exit(in kg/m^3):\n",
"d2=p2*10^3/R/T2\n",
"//Velocity of air at exit(in m/sec):\n",
"V2=M2*sqrt(k*R*T2)\n",
"//Finding A2/A1:\n",
"a=a2/a1\n",
"//Area at exit(in m^2):\n",
"A2=a*A1\n",
"printf('\n\nRESULTS\n\n')\n",
"printf('\n\nStagnation temperature: %.3f K\n\n',T0)\n",
"printf('\n\nStagantion pressure: %.3f kPa\n\n',p0)\n",
"printf('\n\nTemperature a exit %.3f K\n\n',T2)\n",
"printf('\n\nPressure at exit: %.3f kPa\n\n',p2)\n",
"printf('\n\nDensity of air at exit: %.3f kg/m^3\n\n',d2)\n",
"printf('\n\nVelocity of air at exit: %.3f m/sec\n\n',V2)\n",
"printf('\n\nArea at exit: %.3f \n\n',A2)"
   ]
   }
,
{
		   "cell_type": "markdown",
		   "metadata": {},
		   "source": [
			"## Example 12.02: Mass_flow.sce"
		   ]
		  },
  {
"cell_type": "code",
	   "execution_count": null,
	   "metadata": {
	    "collapsed": true
	   },
	   "outputs": [],
"source": [
"//Mass flow//\n",
"pathname=get_absolute_file_path('12.02.sce')\n",
"filename=pathname+filesep()+'12.02-data.sci'\n",
"exec(filename)\n",
"//Checking for chocking:\n",
"c=pb/p0;\n",
"if(c<=0.528)\n",
"  //choked\n",
"else\n",
"  //Not choked\n",
"  //Therefore pressure at exit = back pressure\n",
"  pe=pb;\n",
"  //Mach number at exit:\n",
"  Me=(((p0/pe)^((k-1)/k)-1)*(2/(k-1)))^0.5\n",
"  //Temperature at exit(in K):\n",
"  Te=T0/(1+(k-1)/2*Me^2)\n",
"  //Velocity at exit(in m/sec):\n",
"  Ve=Me*sqrt(k*R*Te)\n",
"  //Density at exit(in kg/m^3):\n",
"  de=pe*10^3/R/Te\n",
"  //Mass flow rate of air(kg/sec):\n",
"  m=de*Ve*Ae\n",
"end;\n",
"printf('\n\nRESULTS\n\n')\n",
"printf('\n\nMach number at exit: %.3f\n\n',Me)\n",
"printf('\n\nMass flow rate of air: %.3f kg/sec\n\n',m)\n",
"  "
   ]
   }
,
{
		   "cell_type": "markdown",
		   "metadata": {},
		   "source": [
			"## Example 12.03: mass_and_area.sce"
		   ]
		  },
  {
"cell_type": "code",
	   "execution_count": null,
	   "metadata": {
	    "collapsed": true
	   },
	   "outputs": [],
"source": [
"//mass and area//\n",
"pathname=get_absolute_file_path('12.03.sce')\n",
"filename=pathname+filesep()+'12.03-data.sci'\n",
"exec(filename)\n",
"//Saturation pressure(in psia):\n",
"p0=p1*(1+(k-1)/2*M1^2)^(k/(k-1))\n",
"//Checking for choking:\n",
"x=pb/p0;\n",
"if(x>0.528)\n",
"  //Not choked\n",
"else\n",
"  //choked\n",
"end\n",
"//As there is choking:\n",
"Mt=1;\n",
"//Velocity at entry:\n",
"V1=M1*sqrt(k*R*(T1+460)*32.2)\n",
"//Density at the entry(in lbm/ft^3):\n",
"d1=p1/(R*(T1+460))*144\n",
"//Mass flow rate(in lbm/sec):\n",
"m=d1*V1*A1\n",
"//Finding the valueof A1/A*;\n",
"A=1/M1*((1+(k-1)/2*M1^2)/(1+(k-1)/2))^((k+1)/(2*(k-1)))\n",
"//For choked flow, At=A*\n",
"At=A1/A\n",
"printf('\n\nRESULTS\n\n')\n",
"printf('\n\nMach number at throat: %.3f\n\n',Mt)\n",
"printf('\n\nMass flow rate: %.3f lbm/sec\n\n',m)\n",
"printf('\n\nArea at throat: %.3f ft^2\n\n',At)"
   ]
   }
,
{
		   "cell_type": "markdown",
		   "metadata": {},
		   "source": [
			"## Example 12.04: throat.sce"
		   ]
		  },
  {
"cell_type": "code",
	   "execution_count": null,
	   "metadata": {
	    "collapsed": true
	   },
	   "outputs": [],
"source": [
"//throat//\n",
"pathname=get_absolute_file_path('12.04.sce')\n",
"filename=pathname+filesep()+'12.04-data.sci'\n",
"exec(filename)\n",
"//Temperature at the throat(in K):\n",
"Tt=T0/(1+(k-1)/2*Mt^2)\n",
"//Pressure at throat(in kPa):\n",
"pt=p0*(Tt/T0)^(k/(k-1))\n",
"//Density at throat(in kg/m^3):\n",
"dt=pt*1000/R/Tt\n",
"//Velocity at the throat(in m/s):\n",
"Vt=Mt*sqrt(k*R*Tt)\n",
"//Value of At/A*:\n",
"Ax=1/Mt*((1+(k-1)/2*Mt^2)/(1+(k-1)/2))^((k+1)/(2*(k-1)))\n",
"//Stagnation properties are constant\n",
"//As a result pressure at exit, \n",
"pe=pb;\n",
"//The Mach number at the exit is therefore given by\n",
"Me=sqrt(((p0/pe)^((k-1)/k)-1)*2/(k-1))\n",
"//Calculating the value of Ae/A*:\n",
"Ay=1/Me*((1+(k-1)/2*Me^2)/(1+(k-1)/2))^((k+1)/(2*(k-1)))\n",
"//Value of A*(in m^2):\n",
"A_star=Ae/Ay\n",
"//Area at throat(in m^2):\n",
"At=Ax*A_star\n",
"printf('\n\nRESULTS\n\n')\n",
"printf('\n\nTemperature at the throat: %.3f K\n\n',Tt)\n",
"printf('\n\nPressure at throat: %.3f kPa\n\n',pt)\n",
"printf('\n\nDensity at throat: %.3f kg/m^3\n\n',dt)\n",
"printf('\n\nVelocity at the throat: %.3f m/sec\n\n',Vt)\n",
"printf('\n\nMach number at the exit: %.3f\n\n',Me)\n",
"printf('\n\nArea at throat: %.3f m^2\n\n',At)"
   ]
   }
,
{
		   "cell_type": "markdown",
		   "metadata": {},
		   "source": [
			"## Example 12.05: number_and_flow.sce"
		   ]
		  },
  {
"cell_type": "code",
	   "execution_count": null,
	   "metadata": {
	    "collapsed": true
	   },
	   "outputs": [],
"source": [
"//number and flow//\n",
"pathname=get_absolute_file_path('12.05.sce')\n",
"filename=pathname+filesep()+'12.05-data.sci'\n",
"exec(filename)\n",
"//Mach number at the exit:\n",
"Me=sqrt(((p0/pe)^((k-1)/k)-1)*2/(k-1))\n",
"//Temperature at exit(in K):\n",
"Te=T0/(1+(k-1)/2*Me^2)\n",
"//Mass flow rate(in kg/s):\n",
"m=pe*1000*Me*sqrt(k/R/Te)*Ae\n",
"printf('\n\nRESULTS\n\n')\n",
"printf('\n\nMach number at the exit: %.3f \n\n',Me)\n",
"printf('\n\nMass flow rate: %.3f kg/sec\n\n',m)"
   ]
   }
,
{
		   "cell_type": "markdown",
		   "metadata": {},
		   "source": [
			"## Example 12.06: mass_and_volume.sce"
		   ]
		  },
  {
"cell_type": "code",
	   "execution_count": null,
	   "metadata": {
	    "collapsed": true
	   },
	   "outputs": [],
"source": [
"//mass and volume//\n",
"pathname=get_absolute_file_path('12.06.sce')\n",
"filename=pathname+filesep()+'12.06-data.sci'\n",
"exec(filename)\n",
"//Mach umber at section 1:\n",
"M1=sqrt((2/(k-1)*((p0/p1)^((k-1)/k)-1)))\n",
"//Temperature at section 1(in K):\n",
"T1=T0/(1+(k-1)/2*M1^2)\n",
"//Density at section 1(in kg/m^3):\n",
"d1=p1*1000/R/T1\n",
"//Velocity at section1(in m/sec):\n",
"V1=M1*sqrt(k*R*T1)\n",
"//Area at section 1(in m^2):\n",
"A1=%pi/4*D^2\n",
"//Mass flow rate(in kg/sec):\n",
"m=d1*A1*V1\n",
"//Mach number at section 2:\n",
"M2=sqrt((2/(k-1))*((T0/T2)-1))\n",
"//Velocity at section 2(in m/sec):\n",
"V2=M2*sqrt(k*R*T2)\n",
"//Density at section 2(in kg/m^3):\n",
"d2=d1*V1/V2\n",
"//Pressure at section 2(in kPa):\n",
"p2=d2/1000*R*T2\n",
"//Stagnation pressure at section 2(in kPa):\n",
"p02=p2*(1+(k-1)/2*M2^2)^(k/(k-1))\n",
"//Force exerted on control volume by duct wall(in N):\n",
"F=(p2-p1)*1000*A1+m*(V2-V1)\n",
"printf('\n\nRESULTS\n\n')\n",
"printf('\n\nMass flow rate: %.3f kg/sec\n\n',m)\n",
"printf('\n\nLocal isentropic stagnation pressure at section 2:%.3f kPa\n\n',p02)\n",
"printf('\n\nForce exerted on control volume by duct wall:%.3f N\n\n',F)"
   ]
   }
,
{
		   "cell_type": "markdown",
		   "metadata": {},
		   "source": [
			"## Example 12.07: length.sce"
		   ]
		  },
  {
"cell_type": "code",
	   "execution_count": null,
	   "metadata": {
	    "collapsed": true
	   },
	   "outputs": [],
"source": [
"//length//\n",
"pathname=get_absolute_file_path('12.07.sce')\n",
"filename=pathname+filesep()+'12.07-data.sci'\n",
"exec(filename)\n",
"//Mach number at section 1:\n",
"M1= sqrt(2/(k-1)*((p0/(p0+p1))^((k-1)/k)-1))\n",
"//Temperature at section 1(in K):\n",
"T1=T0/(1+(k-1)/2*(M1)^2)\n",
"V1=M1*sqrt(k*R*T1)\n",
"//Pressure at section 1(in kPa):\n",
"p1=g*dHg*(760-18.9)*10^-3\n",
"//Density at section 1(in kg/m^3):\n",
"d1=p1/R/T1\n",
"//At M1=0.190, \n",
"//(p/p*)1:\n",
"P1=5.745\n",
"// (fLmax/Dh)1:\n",
"F1=16.38\n",
"//Value of L13(in m):\n",
"L13=F1*D/f\n",
"//Value of (p/p*)2:\n",
"P2=p2/p1*P1\n",
"//For this value, Value of M2 is obtained as 0.4\n",
"M2=0.4;\n",
"//For M=0.4, fLmX/D=2.309\n",
"F2=2.309\n",
"//Value of L23(in m):\n",
"L23=F2*D/f\n",
"//Length of duct between section 1 and 2(in m):\n",
"L12=L13-L23\n",
"printf('\n\nRESULTS\n\n')\n",
"printf('\n\nLength of duct required for choking from section 1: %3f m\n\n',L13)\n",
"printf('\n\nMach number section 2: %.3f \n\n',M2)\n",
"printf('\n\Length of duct between section 1 and 2: %.3f m\n\n',L12)"
   ]
   }
,
{
		   "cell_type": "markdown",
		   "metadata": {},
		   "source": [
			"## Example 12.08: velocity_and_entropy.sce"
		   ]
		  },
  {
"cell_type": "code",
	   "execution_count": null,
	   "metadata": {
	    "collapsed": true
	   },
	   "outputs": [],
"source": [
"//velocity and entropy//\n",
"pathname=get_absolute_file_path('12.08.sce')\n",
"filename=pathname+filesep()+'12.08-data.sci'\n",
"exec(filename)\n",
"//Density at section 1(in lbm/ft^3):\n",
"d1=p1*144/R/T1\n",
"//Velocity at section 2(in ft/sec):\n",
"V2=(p1-p2)*144/d1/V1*32.2+V1\n",
"//Density at section 2(in lbm/ft3):\n",
"d2=d1*V1/V2\n",
"//Temperature at section 2(in R):\n",
"T2=p2/d2/R*144\n",
"//Mach number at section 2:\n",
"M2=V2/sqrt(k*R*32.16*T2)\n",
"//Stagnation Temperature at section 2(in R):\n",
"T02=T2*(1+(k-1)/2*M2^2)\n",
"//Stagnation pressure at section 2 (in psia):\n",
"p02=p2*(T02/T2)^(k/(k-1))\n",
"//Mach Number at section 1:\n",
"M1=V1/sqrt(k*R*32.16*T1)\n",
"//Stagnation temperature at section 1(in R):\n",
"T01=T1*(1+(k-1)/2*M1^2)\n",
"//Energy added(in Btu/lbm):\n",
"E=Cp*(T02-T01)\n",
"//Change in entropy(in Btu/(lbm-R)):\n",
"dS=Cp*log(T2/T1)-(Cp-Cv)*log(p2/p1)\n",
"printf('\n\nRESULTS\n\n')\n",
"printf('\n\nVelocity at section 2: %.3f ft/sec\n\n',V2)\n",
"printf('\n\nDensity at section 2: %.3f lbm/ft^3\n\n',d2)\n",
"printf('\n\nTemperature at section 2: %.3f R\n\n',T2)\n",
"printf('\n\nStagnation Temperature at section 2: %.3f R\n\n',T02)\n",
"printf('\n\nStagnation pressure at section 2: %.3f psia\n\n',p02)\n",
"printf('\n\nEnergy added: %.3f Btu/lbm\n\n',E)\n",
"printf('\n\nChange in entropy: %.3f Btu/(lbm-R)\n\n',dS)"
   ]
   }
,
{
		   "cell_type": "markdown",
		   "metadata": {},
		   "source": [
			"## Example 12.09: Temperature_and_entropy.sce"
		   ]
		  },
  {
"cell_type": "code",
	   "execution_count": null,
	   "metadata": {
	    "collapsed": true
	   },
	   "outputs": [],
"source": [
"//Temperature and entropy//\n",
"pathname=get_absolute_file_path('12.09.sce')\n",
"filename=pathname+filesep()+'12.09-data.sci'\n",
"exec(filename)\n",
"//Mach nuber at section 1:\n",
"M1=V1/sqrt(k*R*T1)\n",
"//For these value of M1 and M2,the following values are obtained:\n",
"//(To/T0*)1:\n",
"t01=0.7934;\n",
"//(T0/T0*)2:\n",
"t02=0.9787;\n",
"//(p0/p0*)1:\n",
"P01=1.503;\n",
"//(p0/p0*)2:\n",
"P02=1.019;\n",
"//(T/T*)1:\n",
"t1=0.5289;\n",
"//(T/T*)2:\n",
"t2=0.9119;\n",
"//(p/p*)1:\n",
"P1=0.3636;\n",
"//(p/p*)2:\n",
"P2=0.7958;\n",
"//(V/V*)1:\n",
"v1=1.455;\n",
"//(V/V*)2:\n",
"v2=1.146;\n",
"//Value of T2/T1:\n",
"t=t2/t1\n",
"//Temperature at section 2(in K):\n",
"T2=t*T1\n",
"//Value of p2/p1:\n",
"p=P2/P1\n",
"//Pressure at section 2(in kPa):\n",
"p2=p*p1\n",
"//Value of V2/V1:\n",
"v=v2/v1\n",
"//Velocity at section 2(in m/sec):\n",
"V2=v*V1\n",
"//Density at section 2(in kg/m^3):\n",
"d2=p2*1000/R/T2\n",
"//At M1, T/T0=0.5556\n",
"T01=T1/0.5556\n",
"//At M2, T/T0=0.7764\n",
"T02=T2/0.7764\n",
"//Heat added(in kJ/kg):\n",
"E=Cp*(T02-T01)\n",
"//Change in entropy(kJ/kg-K):\n",
"dS=Cp*log(T2/T1)-R*log(p2/p1)/1000\n",
"printf('\n\nRESULTS\n\n')\n",
"printf('\n\nTemperature at section 2: %.3f K\n\n',T2)\n",
"printf('\n\nPressure at section 2: %.3f kPa\n\n',p2)\n",
"printf('\n\nVelocity at section 2: %.3f m/sec\n\n',V2)\n",
"printf('\n\nDensity at section 2: %.3f kg/m^3\n\n',d2)\n",
"printf('\n\nStagnation temperature at section 2: %.3f K\n\n',T02)\n",
"printf('\n\nHeat added: %.3f kJ/kg\n\n',E)\n",
"printf('\n\nChange in entropy: %.3f kJ/kg\n\n',dS)\n",
""
   ]
   }
,
{
		   "cell_type": "markdown",
		   "metadata": {},
		   "source": [
			"## Example 12.10: Temperature.sce"
		   ]
		  },
  {
"cell_type": "code",
	   "execution_count": null,
	   "metadata": {
	    "collapsed": true
	   },
	   "outputs": [],
"source": [
"//Temperature//\n",
"pathname=get_absolute_file_path('12.10.sce')\n",
"filename=pathname+filesep()+'12.10-data.sci'\n",
"exec(filename)\n",
"//Density at section 1(in kg/m^3):\n",
"d1=p1*1000/R/T1\n",
"//Mach number at section 1:\n",
"M1=V1/sqrt(k*R*T1)\n",
"//Stagnation temperature at section 1(in K):\n",
"T01=T1*(1+(k-1)/2*M1^2)\n",
"//Stagnation pressure at section 1(in kPa):\n",
"p01=p1*(1+(k-1)/2*M1^2)^(k/(k-1))\n",
"//The following values are obtained from the appendix:\n",
"//po2/p01:\n",
"p0=0.7209;\n",
"//T2/T1:\n",
"T=1.687;\n",
"//p2/p1:\n",
"p=4.5;\n",
"//V2/V1:\n",
"V=0.3750;\n",
"//Temperature at section 2 (in K):\n",
"T2=T*T1\n",
"//Pressure at section 2(in kPa):\n",
"p2=p*p1\n",
"//Velocity at section 2(in m/sec):\n",
"V2=V*V1\n",
"//Density at section 2 (in kg/m^3):\n",
"d2=p2*1000/R/T2\n",
"//Stagnation pressure at section 2(in kPa):\n",
"p02=p0*p01\n",
"//Stagnation temperature at section 2(in K):\n",
"T02=T01;\n",
"//Change in entropy(in kJ/(kg-K)):\n",
"dS=-R/1000*log(p0)\n",
"printf('\n\nRESULTS\n\n')\n",
"printf('\n\nTemperature at section 2 : %.3f K\n\n',T2)\n",
"printf('\n\nPressure at section 2: %.3f kPa\n\n',p2)\n",
"printf('\n\nVelocity at section 2: %.3f m/sec\n\n',V2)\n",
"printf('\n\nDensity at section 2 : %.3f kg/m^3\n\n',d2)\n",
"printf('\n\nStagnation pressure at section 2: %.3f kPa\n\n',p02)\n",
"printf('\n\nChange in entropy: %.3f kg-K\n\n',dS)\n",
"printf('\n\nStagnation temperature at section 2: %.3f K\n\n',T02)"
   ]
   }
],
"metadata": {
		  "kernelspec": {
		   "display_name": "Scilab",
		   "language": "scilab",
		   "name": "scilab"
		  },
		  "language_info": {
		   "file_extension": ".sce",
		   "help_links": [
			{
			 "text": "MetaKernel Magics",
			 "url": "https://github.com/calysto/metakernel/blob/master/metakernel/magics/README.md"
			}
		   ],
		   "mimetype": "text/x-octave",
		   "name": "scilab",
		   "version": "0.7.1"
		  }
		 },
		 "nbformat": 4,
		 "nbformat_minor": 0
}
