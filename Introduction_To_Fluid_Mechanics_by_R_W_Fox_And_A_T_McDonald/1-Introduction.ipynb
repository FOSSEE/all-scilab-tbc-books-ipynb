{
"cells": [
 {
		   "cell_type": "markdown",
	   "metadata": {},
	   "source": [
       "# Chapter 1: Introduction"
	   ]
	},
{
		   "cell_type": "markdown",
		   "metadata": {},
		   "source": [
			"## Example 1.01: Head_additio.sce"
		   ]
		  },
  {
"cell_type": "code",
	   "execution_count": null,
	   "metadata": {
	    "collapsed": true
	   },
	   "outputs": [],
"source": [
"//Heat addition//\n",
"filename=pathname+filesep()+'1.01-data.sci'\n",
"exec(filename)\n",
"//Heat added during the process(in kJ):\n",
"Q12=m*cp*(T2-T1)\n",
"printf('\n\nRESULTS\n\n')\n",
"printf('\n\nHeat added during the process: %f kJ\n\n',Q12/1000)"
   ]
   }
,
{
		   "cell_type": "markdown",
		   "metadata": {},
		   "source": [
			"## Example 1.01: Heat_added_during_the_process.sce"
		   ]
		  },
  {
"cell_type": "code",
	   "execution_count": null,
	   "metadata": {
	    "collapsed": true
	   },
	   "outputs": [],
"source": [
"//Heat addition//\n",
"filename=pathname+filesep()+'1.01-data.sci'\n",
"exec(filename)\n",
"//Heat added during the process(in kJ):\n",
"Q12=m*cp*(T2-T1)\n",
"printf('\n\nRESULTS\n\n')\n",
"printf('\n\nHeat added during the process: %f kJ\n\n',Q12/1000)"
   ]
   }
,
{
		   "cell_type": "markdown",
		   "metadata": {},
		   "source": [
			"## Example 1.02: speed_and_actual_speed.sce"
		   ]
		  },
  {
"cell_type": "code",
	   "execution_count": null,
	   "metadata": {
	    "collapsed": true
	   },
	   "outputs": [],
"source": [
"//speed and actual speed//\n",
"pathname=get_absolute_file_path('1.02.sce')\n",
"filename=pathname+filesep()+'1.02-data.sci'\n",
"exec(filename)\n",
"//Speed at which the ball hits the ground(in m/sec):\n",
"V=sqrt(m*g/k*(1-%e^(2*k/m*(-y0))))\n",
"//Terminal speed(in m/sec):\n",
"Vt=sqrt(m*g/k)\n",
"//Ratio of actual speed to the terminal speed:\n",
"r=V/Vt;\n",
"printf('\n\nRESULTS\n\n')\n",
"printf('\n\nSpeed at which the ball hits he ground: %f m/sec\n\n',V)\n",
"printf('\n\nRatio of actual speed to the terminal speed: %f\n\n',r)"
   ]
   }
],
"metadata": {
		  "kernelspec": {
		   "display_name": "Scilab",
		   "language": "scilab",
		   "name": "scilab"
		  },
		  "language_info": {
		   "file_extension": ".sce",
		   "help_links": [
			{
			 "text": "MetaKernel Magics",
			 "url": "https://github.com/calysto/metakernel/blob/master/metakernel/magics/README.md"
			}
		   ],
		   "mimetype": "text/x-octave",
		   "name": "scilab",
		   "version": "0.7.1"
		  }
		 },
		 "nbformat": 4,
		 "nbformat_minor": 0
}
