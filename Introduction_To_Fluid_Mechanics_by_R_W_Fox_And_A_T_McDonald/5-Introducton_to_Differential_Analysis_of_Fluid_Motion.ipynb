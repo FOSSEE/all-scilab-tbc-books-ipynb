{
"cells": [
 {
		   "cell_type": "markdown",
	   "metadata": {},
	   "source": [
       "# Chapter 5: Introducton to Differential Analysis of Fluid Motion"
	   ]
	},
{
		   "cell_type": "markdown",
		   "metadata": {},
		   "source": [
			"## Example 5.02: Rate_of_change.sce"
		   ]
		  },
  {
"cell_type": "code",
	   "execution_count": null,
	   "metadata": {
	    "collapsed": true
	   },
	   "outputs": [],
"source": [
"//Rate of change//\n",
"pathname=get_absolute_file_path('5.02.sce')\n",
"filename=pathname+filesep()+'5.02-data.sci'\n",
"exec(filename)\n",
"//Rate of change of density with time(in kg/m^3-s):\n",
"r=-d*V/L\n",
"printf('\n\nRESULTS\n\n')\n",
"printf('\n\nRate of change of density with time: %.1f kg/m^3-s\n\n',r)"
   ]
   }
,
{
		   "cell_type": "markdown",
		   "metadata": {},
		   "source": [
			"## Example 5.07: angular_and_rotation.sce"
		   ]
		  },
  {
"cell_type": "code",
	   "execution_count": null,
	   "metadata": {
	    "collapsed": true
	   },
	   "outputs": [],
"source": [
"//angular and rotation//\n",
"pathname=get_absolute_file_path('5.07.sce')\n",
"filename=pathname+filesep()+'5.07-data.sci'\n",
"exec(filename)\n",
"//At point b, u=3 mm/sec\n",
"u=3;\n",
"//Displacemet of b(in mm):\n",
"xb=u*t\n",
"//Rate of angular deformation(in s^-1):\n",
"def=U/h\n",
"//Rate of rotation(in s^-1):\n",
"rot=-0.5*U/h\n",
"printf('\n\nRSULTS\n\n')\n",
"printf('\n\nRate of angular deformation: %.1f /sec\n\n',def)\n",
"printf('\n\nRate of rotation: %.1f /sec\n\n',rot)"
   ]
   }
,
{
		   "cell_type": "markdown",
		   "metadata": {},
		   "source": [
			"## Example 5.08: Rates_and_area.sce"
		   ]
		  },
  {
"cell_type": "code",
	   "execution_count": null,
	   "metadata": {
	    "collapsed": true
	   },
	   "outputs": [],
"source": [
"//Rates and area//\n",
"pathname=get_absolute_file_path('5.08.sce')\n",
"filename=pathname+filesep()+'5.08-data.sci'\n",
"exec(filename)\n",
"//Value of T:\n",
"T=log(3/2)/A\n",
"x0=1:2;\n",
"y0=1:2;\n",
"for i=1:2\n",
"  for j=1:2\n",
"  //For X coordinate:\n",
"  X(i)(j)=x0(i)*%e^(A*T)\n",
"  //For Y coordinate:\n",
"  Y(i)(j)=y0(j)*%e^(-A*T)\n",
"  end\n",
"end\n",
"plot(X,Y)\n",
"//Rates of linear deformation in X direction:\n",
"Ax=0.3;\n",
"//Rate of linear deformation in the y direction:\n",
"Ay=-0.3;\n",
"//Rate of volume dilation(s^-1):\n",
"v=A-A\n",
"//Area of abcd:\n",
"A1=1;\n",
"//Area of a'b'c'd':\n",
"A2=(3-3/2)*(4/3-2/3)\n",
"printf('\n\nRESULTS\n\n')\n",
"printf('\n\nRates of linear deformation in X and Y direction: %.1f /s , %.1f /s\n\n',Ax,Ay)\n",
"printf('\n\nRate of volume dilation: %.0f /sec\n\n',v) \n",
"printf('\n\nArea of abcd and a,b,c,d:%.1f m^2, %.1f m^\n\n',A1,A2)"
   ]
   }
,
{
		   "cell_type": "markdown",
		   "metadata": {},
		   "source": [
			"## Example 5.09: Volume_flow_rate.sce"
		   ]
		  },
  {
"cell_type": "code",
	   "execution_count": null,
	   "metadata": {
	    "collapsed": true
	   },
	   "outputs": [],
"source": [
"//Volume flow rate//\n",
"pathname=get_absolute_file_path('5.09.sce')\n",
"filename=pathname+filesep()+'5.09-data.sci'\n",
"exec(filename)\n",
"//Volume flow rate(in m^3/sec):\n",
"Q=d*g*sind(theta)*b*(h/1000)^3*1000/u/3\n",
"printf('RESULTS')\n",
"printf('\n\nVolume flow rate: %.4f m^3/sec\n\n',Q)"
   ]
   }
],
"metadata": {
		  "kernelspec": {
		   "display_name": "Scilab",
		   "language": "scilab",
		   "name": "scilab"
		  },
		  "language_info": {
		   "file_extension": ".sce",
		   "help_links": [
			{
			 "text": "MetaKernel Magics",
			 "url": "https://github.com/calysto/metakernel/blob/master/metakernel/magics/README.md"
			}
		   ],
		   "mimetype": "text/x-octave",
		   "name": "scilab",
		   "version": "0.7.1"
		  }
		 },
		 "nbformat": 4,
		 "nbformat_minor": 0
}
