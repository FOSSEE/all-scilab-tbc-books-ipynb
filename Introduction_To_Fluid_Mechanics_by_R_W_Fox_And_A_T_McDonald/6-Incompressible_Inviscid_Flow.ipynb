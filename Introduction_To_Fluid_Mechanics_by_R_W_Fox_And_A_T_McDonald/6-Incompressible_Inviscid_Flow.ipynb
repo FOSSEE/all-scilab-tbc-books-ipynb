{
"cells": [
 {
		   "cell_type": "markdown",
	   "metadata": {},
	   "source": [
       "# Chapter 6: Incompressible Inviscid Flow"
	   ]
	},
{
		   "cell_type": "markdown",
		   "metadata": {},
		   "source": [
			"## Example 6.01: Volume_flow_rate.sce"
		   ]
		  },
  {
"cell_type": "code",
	   "execution_count": null,
	   "metadata": {
	    "collapsed": true
	   },
	   "outputs": [],
"source": [
"//Volume flow rate//\n",
"pathname=get_absolute_file_path('06.01.sce')\n",
"filename=pathname+filesep()+'06.01-data.sci'\n",
"exec(filename)\n",
"//Velocity of flow(in m/sec):\n",
"V=sqrt(dw/log((r+w)/r)*g/da*p/1000)\n",
"//Volume flow rate(in m^3/sec):\n",
"Q=V*(d*w)\n",
"printf('\n\nRESULTS\n\n')\n",
"printf('\n\nVolume flow rate: %.3f m^3/sec\n\n',Q)"
   ]
   }
,
{
		   "cell_type": "markdown",
		   "metadata": {},
		   "source": [
			"## Example 6.02: Velocity_of_flow.sce"
		   ]
		  },
  {
"cell_type": "code",
	   "execution_count": null,
	   "metadata": {
	    "collapsed": true
	   },
	   "outputs": [],
"source": [
"//Velocity of flow//\n",
"pathname=get_absolute_file_path('06.02.sce')\n",
"filename=pathname+filesep()+'06.02-data.sci'\n",
"exec(filename)\n",
"//Velocity of flow(in m/sec):\n",
"V=sqrt(2*dw*g*p/1000*SG/da)\n",
"printf('\n\nRESULTS\n\n')\n",
"printf('\n\nVelocity of flow: %.3f m/sec\n\n',V)"
   ]
   }
,
{
		   "cell_type": "markdown",
		   "metadata": {},
		   "source": [
			"## Example 6.03: prssure_required.sce"
		   ]
		  },
  {
"cell_type": "code",
	   "execution_count": null,
	   "metadata": {
	    "collapsed": true
	   },
	   "outputs": [],
"source": [
"//prssure required//\n",
"filename=pathname+filesep()+'06.03-data.sci'\n",
"exec(filename)\n",
"//Velocity of flwat the inlet(in m/sec):\n",
"V1=Ae/Ai*V2\n",
"//Gauge pressure required at the inlet(in kPa):\n",
"p=0.5*da*(V2^2-V1^2)\n",
"printf('\n\nRESULTS\n\n')\n",
"printf('\n\nGauge prssure required at the inlet: %.3f kPa\n\n',p/1000)"
   ]
   }
,
{
		   "cell_type": "markdown",
		   "metadata": {},
		   "source": [
			"## Example 6.04: Speed_and_pressure.sce"
		   ]
		  },
  {
"cell_type": "code",
	   "execution_count": null,
	   "metadata": {
	    "collapsed": true
	   },
	   "outputs": [],
"source": [
"//Speed and pressure//\n",
"pathname=get_absolute_file_path('06.04.sce')\n",
"filename=pathname+filesep()+'06.04-data.sci'\n",
"exec(filename)\n",
"//Speed of water at exit(in m/sec):\n",
"V2=sqrt(2*g*z)\n",
"//Pressure at point A in the flow(kPa):\n",
"pA=p1+d*g*(0-l)-0.5*d*V2^2\n",
"printf('\n\nRESULTS\n\n')\n",
"printf('\n\nSpeed of water at exit: %.3f m/sec\n\n',V2)\n",
"printf('\n\nPressure at point A in the flow: %3f kPa\n\n',pA/1000)"
   ]
   }
,
{
		   "cell_type": "markdown",
		   "metadata": {},
		   "source": [
			"## Example 6.05: flow.sce"
		   ]
		  },
  {
"cell_type": "code",
	   "execution_count": null,
	   "metadata": {
	    "collapsed": true
	   },
	   "outputs": [],
"source": [
"//flow//\n",
"pathname=get_absolute_file_path('06.05.sce')\n",
"filename=pathname+filesep()+'06.05-data.sci'\n",
"exec(filename)\n",
"//Velocity of flow at the exit(in ft/sec):\n",
"V2=sqrt(2*g*(Du-Dd/12))\n",
"//Volume flow rate/width(ft^2/sec):\n",
"Q=V2*Dd/12\n",
"printf('\n\nRESULTS\n\n')\n",
"printf('\n\nVelocity of flow at the exit: %.3f ft/sec\n\n',V2)\n",
"printf('\n\nVolume flow rate/width: %.3f ft^2/sec\n\n',Q)"
   ]
   }
,
{
		   "cell_type": "markdown",
		   "metadata": {},
		   "source": [
			"## Example 6.06: pressure.sce"
		   ]
		  },
  {
"cell_type": "code",
	   "execution_count": null,
	   "metadata": {
	    "collapsed": true
	   },
	   "outputs": [],
"source": [
"//pressure//\n",
"pathname=get_absolute_file_path('06.06.sce')\n",
"filename=pathname+filesep()+'06.06-data.sci'\n",
"exec(filename)\n",
"//Pressure of air at 1000 m(in N/m^2):\n",
"p=P1*pa\n",
"//Density of air at 1000m(in kg/m^3):\n",
"d=D1*da\n",
"//Stagnation pressure at A(in kPa):\n",
"p0A=p+0.5*d*(V*1000/3600)^2\n",
"//Static pressure at B(in kPa):\n",
"pB=p+d/2*((V*1000/3600)^2-Vb^2)\n",
"printf('\n\nRESULTS\n\n')\n",
"printf('\n\nStagnation pressure at A: %.3f kPa\n\n',p0A/1000)\n",
"printf('\n\nStatic pressure at B: %.3f kPa\n\n',pB/1000)\n",
""
   ]
   }
,
{
		   "cell_type": "markdown",
		   "metadata": {},
		   "source": [
			"## Example 6.08: temperature.sce"
		   ]
		  },
  {
"cell_type": "code",
	   "execution_count": null,
	   "metadata": {
	    "collapsed": true
	   },
	   "outputs": [],
"source": [
"//temperature//\n",
"pathname=get_absolute_file_path('06.08.sce')\n",
"filename=pathname+filesep()+'06.08-data.sci'\n",
"exec(filename)\n",
"//Velocity of flow at exit(in ft/sec):\n",
"V4=sqrt(2*g*(z3-0))\n",
"//Mass flow rate of water(in slug/sec):\n",
"m=d*V4*A4/144\n",
"//Rise in temperature between points 1 and 2(in R):\n",
"T=Q*3413/3600/m/32.2\n",
"printf('\n\nRESULTS\n\n')\n",
"printf('\n\nRise in temperature between points 1 and 2: %.3f R\n\n',T)"
   ]
   }
,
{
		   "cell_type": "markdown",
		   "metadata": {},
		   "source": [
			"## Example 6.09: Streamline_flow.sce"
		   ]
		  },
  {
"cell_type": "code",
	   "execution_count": null,
	   "metadata": {
	    "collapsed": true
	   },
	   "outputs": [],
"source": [
"//Streamline flow//\n",
"pathname=get_absolute_file_path('06.09.sce')\n",
"filename=pathname+filesep()+'06.09-data.sci'\n",
"exec(filename)\n",
"t=0:5\n",
"//Value of sqrt(2gh):\n",
"x=sqrt(2*g*h)\n",
"//Value of 1/2L*sqrt(2gh):\n",
"y=1/2/L*x\n",
"[m n]=size(t)\n",
"i=1:n;\n",
"//Velocity(in m/sec):\n",
"V2=x*tanh(y*t(i))\n",
"plot(t,V2);\n",
"xtitle('Streamline flow from 1 to 2','Time(in s)','V2(in m/sec)')"
   ]
   }
],
"metadata": {
		  "kernelspec": {
		   "display_name": "Scilab",
		   "language": "scilab",
		   "name": "scilab"
		  },
		  "language_info": {
		   "file_extension": ".sce",
		   "help_links": [
			{
			 "text": "MetaKernel Magics",
			 "url": "https://github.com/calysto/metakernel/blob/master/metakernel/magics/README.md"
			}
		   ],
		   "mimetype": "text/x-octave",
		   "name": "scilab",
		   "version": "0.7.1"
		  }
		 },
		 "nbformat": 4,
		 "nbformat_minor": 0
}
