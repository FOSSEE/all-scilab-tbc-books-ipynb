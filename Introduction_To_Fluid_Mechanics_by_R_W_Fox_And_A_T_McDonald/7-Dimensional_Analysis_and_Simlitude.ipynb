{
"cells": [
 {
		   "cell_type": "markdown",
	   "metadata": {},
	   "source": [
       "# Chapter 7: Dimensional Analysis and Simlitude"
	   ]
	},
{
		   "cell_type": "markdown",
		   "metadata": {},
		   "source": [
			"## Example 7.04: speed_and_force.sce"
		   ]
		  },
  {
"cell_type": "code",
	   "execution_count": null,
	   "metadata": {
	    "collapsed": true
	   },
	   "outputs": [],
"source": [
"//speed and force//\n",
"pathname=get_absolute_file_path('7.04.sce')\n",
"filename=pathname+filesep()+'7.04-data.sci'\n",
"exec(filename)\n",
"//Velocity of prototype in ft/sec\n",
"Vp1=Vp*6080/3600\n",
"//Reynolds number of prototype:\n",
"Rep=Vp1*Dp/vp\n",
"//Rep=Rem\n",
"//Therefore:\n",
"Rem=Rep;\n",
"//Velocity of air for wind tunnel(in ft/sec):\n",
"Vm=Rem*vm/(Dm/12)\n",
"//Drag force on prototype(in lbf):\n",
"Fp=Fm*(dp/dm)*(Vp1/Vm)^2*(Dp/(Dm/12))^2\n",
"printf('\n\nRESULTS\n\n')\n",
"printf('\n\nTest speed in air: %.3f ft/sec\n\n',Vm)\n",
"printf('\n\nDrag force on prototype: %.3f lbf\n\n',Fp)"
   ]
   }
,
{
		   "cell_type": "markdown",
		   "metadata": {},
		   "source": [
			"## Example 7.05: speed_force_and_power.sce"
		   ]
		  },
  {
"cell_type": "code",
	   "execution_count": null,
	   "metadata": {
	    "collapsed": true
	   },
	   "outputs": [],
"source": [
"//speed force and power//\n",
"pathname=get_absolute_file_path('7.05.sce')\n",
"filename=pathname+filesep()+'7.05-data.sci'\n",
"exec(filename)\n",
"//Width of the model(in m):\n",
"wm=S*wp*0.3048\n",
"//Area of model (in m^2):\n",
"Am=S^2*Ap*0.305^2\n",
"[m n]=size(V)\n",
"i=1:n\n",
"//Aerodynamic drag coefficient():\n",
"Cd=2.*Fd(i)/d./(V(i))^2/0.0305\n",
"//Reynolds number:\n",
"Re=V(i)*wm/v\n",
"plot(Re,Cd);\n",
"a=gca()\n",
"a.data_bounds=[100000,0.4;500000,0.6]\n",
"xtitle('Aerodynamic drag coefficient vs drag force','Reynolds number','Model Drag Coeff.')\n",
"//It is seen that drag coefficient becomes constant at CD=0.46above Re=4*10^5 at which speed of air is 40m/s\n",
"CDc=0.46;\n",
"Va=40;\n",
"//Drag force (in N):\n",
"FDp=CDc/2*d*(Vp*5/18)^2*Ap*0.305^2\n",
"//Power required to pull prototype at 100 kmph(in W)\n",
"Pp=FDp*Vp*5/18\n",
"printf('\n\nRESULTS\n\n')\n",
"printf('\n\nSpeed above which Cd is constant: %.3f m/sec\n\n',Va)\n",
"printf('\n\nDrag Force: %.3f kN\n\n',FDp/1000)\n",
"printf('\n\nPower required to pull prototype at 100 kmph: %.3f kW\n\n',Pp/1000)"
   ]
   }
,
{
		   "cell_type": "markdown",
		   "metadata": {},
		   "source": [
			"## Example 7.06: power_and_speed.sce"
		   ]
		  },
  {
"cell_type": "code",
	   "execution_count": null,
	   "metadata": {
	    "collapsed": true
	   },
	   "outputs": [],
"source": [
"//power and speed//\n",
"pathname=get_absolute_file_path('7.06.sce')\n",
"filename=pathname+filesep()+'7.06-data.sci'\n",
"exec(filename)\n",
"//The same pump is used for both the conditions.Hence:\n",
"D2=D1;\n",
"//The same water is used for both the conditions. Hence:\n",
"d2=d1;\n",
"//Flow rate at condition 2(in gpm):\n",
"Q2=Q1*N2/N1*(D2/D1)^3\n",
"//Head at condition 1(in ft):\n",
"H1=(N1*sqrt(Q1)/Nscu1)^(4/3)\n",
"//Head at condition 1(in ft):\n",
"H2=H1*(N2/N1)^2*(D2/D1)^2\n",
"//Pump output power at condition 1(in hp):\n",
"P1=d1*g*Q1*H1/7.48/60/550\n",
"//Pump output power at condition 2(in hp):\n",
"P2=P1*(d2/d1)*(N2/N1)^3*(D2/D1)^5\n",
"//Required input power(in hp):\n",
"Pin=P2/Effp\n",
"//Specific speed at condition 2:\n",
"Nscu2=N2*sqrt(Q2)/H2^(3/4)\n",
"printf('\n\nRESULTS\n\n\n')\n",
"printf('\n\nVolume flow rate at condition 2: %.3f gpm\n\n\n',Q2)\n",
"printf('\n\nHead at condition: %.3f ft\n\n\n',H2)\n",
"printf('\n\nPump output power at condition: %.3f hp\n\n\n',P2)\n",
"printf('\n\nRequired input power: %.3f hp\n\n\n',Pin)\n",
"printf('\n\nSpecific speed at condition 2: %.3f\n\n\n',Nscu2)"
   ]
   }
],
"metadata": {
		  "kernelspec": {
		   "display_name": "Scilab",
		   "language": "scilab",
		   "name": "scilab"
		  },
		  "language_info": {
		   "file_extension": ".sce",
		   "help_links": [
			{
			 "text": "MetaKernel Magics",
			 "url": "https://github.com/calysto/metakernel/blob/master/metakernel/magics/README.md"
			}
		   ],
		   "mimetype": "text/x-octave",
		   "name": "scilab",
		   "version": "0.7.1"
		  }
		 },
		 "nbformat": 4,
		 "nbformat_minor": 0
}
