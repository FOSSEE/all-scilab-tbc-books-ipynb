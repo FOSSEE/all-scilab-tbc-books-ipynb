{
"cells": [
 {
		   "cell_type": "markdown",
	   "metadata": {},
	   "source": [
       "# Chapter 11: Introduction to Compressible Flow"
	   ]
	},
{
		   "cell_type": "markdown",
		   "metadata": {},
		   "source": [
			"## Example 11.01: Change.sce"
		   ]
		  },
  {
"cell_type": "code",
	   "execution_count": null,
	   "metadata": {
	    "collapsed": true
	   },
	   "outputs": [],
"source": [
"//Change//\n",
"pathname=get_absolute_file_path('11.01.sce')\n",
"filename=pathname+filesep()+'11.01-data.sci'\n",
"exec(filename)\n",
"//Density of air at entry:\n",
"d1=p1*10^3/R/T1\n",
"//Area(in m^2):\n",
"A=m/d1/V1\n",
"//Change in enthalpy of air(in kJ/kg):\n",
"dh=cp*(T2-T1)\n",
"//Change in internal energy of air(in kJ/kg):\n",
"du=cv*(T2-T1)\n",
"//Change in entropy(in kJ/(kg-K)):\n",
"ds=cp*log(T2/T1)-R/1000*log(p2/p1)\n",
"printf('\n\nRESULTS\n\n')\n",
"printf('\n\nDuct Area: %.3f m^2\n\n',A)\n",
"printf('\n\nChange in enthalpy of air: %.3f kJ/kg\n\n',dh)\n",
"printf('\n\nChange in internal energy of air:%.3f kJ/kg\n\n',du)\n",
"printf('\n\nChange in entropy: %.3f kg-K\n\n',ds)"
   ]
   }
,
{
		   "cell_type": "markdown",
		   "metadata": {},
		   "source": [
			"## Example 11.03: Speed_of_sound.sce"
		   ]
		  },
  {
"cell_type": "code",
	   "execution_count": null,
	   "metadata": {
	    "collapsed": true
	   },
	   "outputs": [],
"source": [
"//Speed of sound//\n",
"pathname=get_absolute_file_path('11.03.sce')\n",
"filename=pathname+filesep()+'11.03-data.sci'\n",
"exec(filename)\n",
"//Values of altitude(in m):\n",
"Al=0:1000:15000\n",
"[nAl mAl]=size(Al);\n",
"//Values of temperature at given altitudes(in K):\n",
"T=[288.2 281.7 275.2 268.7 262.2 255.7 249.2 242.7 236.2 229.7 223.3 216.8 216.7 216.7 216.7 216.7]; \n",
"[nT mT]=size(T);\n",
"//Values of speed of sound at these altitudes(in m/sec):\n",
"j=1:mT;\n",
"c=sqrt(k*R*T(j))\n",
"//Speed of sound at sea level(in m/sec):\n",
"c1=sqrt(k*R*T(1))\n",
"plot(c,Al)\n",
"xtitle('Variation of sound speed with altitude','Speed of sound(m/sec)','Altitude(m)')\n",
"printf('\n\nRESULTS\n\n')\n",
"printf('\n\nSpeed of sound at sea level: %.3f m/sec\n\n',c1)"
   ]
   }
,
{
		   "cell_type": "markdown",
		   "metadata": {},
		   "source": [
			"## Example 11.04: pressure_and_change.sce"
		   ]
		  },
  {
"cell_type": "code",
	   "execution_count": null,
	   "metadata": {
	    "collapsed": true
	   },
	   "outputs": [],
"source": [
"//pressure and change//\n",
"pathname=get_absolute_file_path('11.04.sce')\n",
"filename=pathname+filesep()+'11.04-data.sci'\n",
"exec(filename)\n",
"//Mach number at entry:\n",
"M1=V1/sqrt(k*R*T1)\n",
"//Stagnation pressure at entry(in kPa):\n",
"p01=p1*(1+(k-1)/2*M1^2)^(k/(k-1))\n",
"//Stagnation temperature at entry(in K):\n",
"T01=T1*(1+(k-1)/2*M1^2)\n",
"//Static pressure at exit(in kPa):\n",
"p2=p02/(1+(k-1)/2*M2^2)^(k/(k-1))\n",
"//Temperature at exit(in K):\n",
"T2=T02/(1+(k-1)/2*M2^2)\n",
"//Change in entropy(in kJ/kg-K):\n",
"ds=cp*log(T2/T1)-R/1000*log(p2/p1)\n",
"printf('\n\nRESULTS\n\n')\n",
"printf('\n\nStagnation pressure at entry: %.3f kPa\n\n',p01)\n",
"printf('\n\nStagnation temperature at entry: %.3f K\n\n',T01)\n",
"printf('\n\nStatic pressure at exit: %.3f kPa\n\n',p2)\n",
"printf('\n\nTemperature at exit: %.3f K\n\n',T2)\n",
"printf('\n\nChange in entropy: %.3f kJ/kg-K\n\n',ds)"
   ]
   }
],
"metadata": {
		  "kernelspec": {
		   "display_name": "Scilab",
		   "language": "scilab",
		   "name": "scilab"
		  },
		  "language_info": {
		   "file_extension": ".sce",
		   "help_links": [
			{
			 "text": "MetaKernel Magics",
			 "url": "https://github.com/calysto/metakernel/blob/master/metakernel/magics/README.md"
			}
		   ],
		   "mimetype": "text/x-octave",
		   "name": "scilab",
		   "version": "0.7.1"
		  }
		 },
		 "nbformat": 4,
		 "nbformat_minor": 0
}
