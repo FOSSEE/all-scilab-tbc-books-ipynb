{
"cells": [
 {
		   "cell_type": "markdown",
	   "metadata": {},
	   "source": [
       "# Chapter 9: Forces on bodies Immersed in fluids"
	   ]
	},
{
		   "cell_type": "markdown",
		   "metadata": {},
		   "source": [
			"## Example 9.1_1: drag_forces_and_coefficient.sce"
		   ]
		  },
  {
"cell_type": "code",
	   "execution_count": null,
	   "metadata": {
	    "collapsed": true
	   },
	   "outputs": [],
"source": [
"\n",
"\n",
"//exapple 9.1 \n",
"clc; funcprot(0);\n",
"// Initialization of Variable\n",
"rho=1.2;\n",
"mu=1.85/100000;\n",
"pi=3.1428;\n",
"d=3;\n",
"v=50*1000/3600;\n",
"//calculation part 1\n",
"Re=d*rho*v/mu;\n",
"//from chart of drag coeff. vs Re\n",
"Cd=0.2;//coeff. of drag\n",
"Ad=pi*d^2/4;//projected area\n",
"Fd=Ad*Cd*rho*v^2/2;\n",
"disp(Fd , 'The drag force on sphere in N');\n",
"//part 2\n",
"v=2;\n",
"l=0.25;\n",
"Re=l*v*rho/mu;\n",
"zi=4*pi*(l^3*3/4/pi)^(2/3)/6/l^2;//sphericity\n",
"//using graph\n",
"Cd=2;\n",
"Ad=l^2;\n",
"Fd=Ad*Cd*rho*v^2/2;\n",
"disp(Fd , 'The drag force on cube in N');\n",
""
   ]
   }
,
{
		   "cell_type": "markdown",
		   "metadata": {},
		   "source": [
			"## Example 9.1_2: lift_force_and_lift_coefficient.sce"
		   ]
		  },
  {
"cell_type": "code",
	   "execution_count": null,
	   "metadata": {
	    "collapsed": true
	   },
	   "outputs": [],
"source": [
"\n",
"\n",
"//exapple 9.2 \n",
"clc; funcprot(0);\n",
"// Initialization of Variable\n",
"rho=1.2;\n",
"mu=1.85/100000;\n",
"pi=3.1428;\n",
"g=9.81;\n",
"d=1.38;\n",
"t=0.1;//thickness\n",
"v=30*1000/3600;\n",
"T=26.2;//Tension\n",
"m=0.51//mass\n",
"theta=60*pi/180;\n",
"//calculation\n",
"Fd=T*cos(theta);\n",
"disp(Fd,'Drag force in N:');\n",
"A=pi*d^2/4;\n",
"Ad=A*cos(theta);//area component to drag\n",
"Cd=2*Fd/Ad/rho/v^2;//coeff of drag\n",
"disp(Cd , 'The drag coefficient:')\n",
"Fg=m*g;//force of gravity\n",
"Fb=rho*pi*d^2/4*t*g;//buoyant force\n",
"Fl=Fg-Fb+T*sin(theta);\n",
"disp(Fl , 'The lift force in N :');\n",
"Al=A*sin(theta);\n",
"Cl=2*Fl/Al/rho/v^2;\n",
"disp(Cl ,'The coefficient of lift:')"
   ]
   }
,
{
		   "cell_type": "markdown",
		   "metadata": {},
		   "source": [
			"## Example 9.1_3: Particle_diameter_and_terminal_settling_velocity.sce"
		   ]
		  },
  {
"cell_type": "code",
	   "execution_count": null,
	   "metadata": {
	    "collapsed": true
	   },
	   "outputs": [],
"source": [
"\n",
"\n",
"//exapple 9.3 \n",
"clc; funcprot(0);\n",
"// Initialization of Variable\n",
"rhog=1200;//density of glycerol\n",
"mu=1.45;\n",
"pi=3.1428;\n",
"g=9.81;\n",
"rhos=2280;//density of sphere\n",
"v=0.04;//terminal velocity;\n",
"a=2*mu*g*(rhos-rhog)/v^3/3/rhog^2;//a=Cd/2/Re\n",
"//using graph of Cd/2/Re vs Re\n",
"Re=0.32;\n",
"d=Re*mu/v/rhog;\n",
"disp(d , 'Diameter of sphere in (m):');"
   ]
   }
,
{
		   "cell_type": "markdown",
		   "metadata": {},
		   "source": [
			"## Example 9.1_4: terminal_settling_velocity_of_sphere.sce"
		   ]
		  },
  {
"cell_type": "code",
	   "execution_count": null,
	   "metadata": {
	    "collapsed": true
	   },
	   "outputs": [],
"source": [
"\n",
"\n",
"//exapple 9.4 \n",
"clc; funcprot(0);\n",
"// Initialization of Variable\n",
"rhoa=1.218;//density of air\n",
"mu=1.73/100000;\n",
"pi=3.1428;\n",
"g=9.81;\n",
"rhop=2280;//density of polythene\n",
"d=0.0034;//diameter\n",
"a=4*d^3*(rhop-rhoa)*rhoa*g/3/mu^2;//a=Cd*Re^2\n",
"//using graph of Cd*Re^2 vs Re\n",
"Re=2200;\n",
"v=Re*mu/d/rhog;\n",
"disp(v , 'The terminal vrlocity in (m/s)');"
   ]
   }
,
{
		   "cell_type": "markdown",
		   "metadata": {},
		   "source": [
			"## Example 9.1_5: effect_of_shape_on_drag_force.sce"
		   ]
		  },
  {
"cell_type": "code",
	   "execution_count": null,
	   "metadata": {
	    "collapsed": true
	   },
	   "outputs": [],
"source": [
"\n",
"\n",
"//exapple 9.2 \n",
"clc; funcprot(0);\n",
"// Initialization of Variable\n",
"pi=3.1428;\n",
"rho=825;\n",
"mu=1.21;\n",
"g=9.81;\n",
"l=0.02;\n",
"de=0.02;//dia exterior\n",
"di=0.012;//dia interior\n",
"//calculation\n",
"//part 1\n",
"zi=pi*(6*(pi*de^2/4-pi*di^2/4)*l/pi)^(2/3)/(pi*l*(di+de)+2*pi*(de^2/4-di^2/4));\n",
"disp(zi, 'sphericity of Raschig ring is:');\n",
"//part 2\n",
"u=0.04;\n",
"ds=0.003//diameter of each sphere\n",
"zi=pi*(6*pi*ds^3/pi)^(2/3)/6/pi/ds^2;//sphericity\n",
"disp(zi, 'sphericity of given object is:');\n",
"Ap=4*ds^2-4*3/4*(ds^2-pi*ds^2/4);//projected area\n",
"dp=sqrt(4*Ap/pi);//projected dia\n",
"Re=dp*u*rho/mu;\n",
"disp(Re, 'Reynolds no. for the object:');\n",
"//using graph b/w Re and zi and Cd\n",
"Cd=105;//coeff. of drag\n",
"Fd=Ap*Cd*u^2*rho/2;\n",
"disp(Fd,'The drag force on object in (N):')\n",
""
   ]
   }
,
{
		   "cell_type": "markdown",
		   "metadata": {},
		   "source": [
			"## Example 9.1_6: estimation_of_hindered_settling_velocity.sce"
		   ]
		  },
  {
"cell_type": "code",
	   "execution_count": null,
	   "metadata": {
	    "collapsed": true
	   },
	   "outputs": [],
"source": [
"\n",
"\n",
"//exapple 9.6 \n",
"clc; funcprot(0);\n",
"// Initialization of Variable\n",
"rho=998;//density of water\n",
"mu=1.25/1000;//viscosity of water\n",
"w=100;//mass of water\n",
"pi=3.1428;\n",
"g=9.81;\n",
"rhog=2280;//density of glass\n",
"wg=60;//mass of glass\n",
"d=45*10^-6;//diameter of glass sphere\n",
"//claculation\n",
"rhom=(w+wg)/(w/rho+wg/rhog);//density of mixure\n",
"e=w/rho/(w/rho+wg/rhog);//volume fraction of watter\n",
"//using charts\n",
"zi=exp(-4.19*(1-e));\n",
"\n",
"K=d*(g*rho*(rhog-rho)*zi^2/mu^2)^(1/3);//stoke's law coeff.\n",
"disp(K);\n",
"if K<3.3 then\n",
"    disp('settling occurs in stoke-s law range');\n",
"    U=g*d^2*e*zi*(rhog-rhom)/18/mu;\n",
"    disp(U,'settling velocity in m/s:')\n",
"else\n",
"    disp('settling does not occurs in stoke-s law range');\n",
"end"
   ]
   }
,
{
		   "cell_type": "markdown",
		   "metadata": {},
		   "source": [
			"## Example 9.1_7: acceleration_of_settling_particle_in_gravitational_feild.sce"
		   ]
		  },
  {
"cell_type": "code",
	   "execution_count": null,
	   "metadata": {
	    "collapsed": true
	   },
	   "outputs": [],
"source": [
"\n",
"\n",
"//exapple 9.7 \n",
"clc; funcprot(0);\n",
"// Initialization of Variable\n",
"rhog=1200;//density of glycerol\n",
"mu=1.45;//viscosity of glycerol\n",
"pi=3.1428;\n",
"g=9.81;\n",
"rhos=2280;//density of sphere\n",
"d=8/1000;\n",
"s=0;\n",
"uf=0.8*0.026;\n",
"//calculation\n",
"function[a]=intre()\n",
"    u=linspace(0,uf,1000);\n",
"    for i=1:1000\n",
"        y=((pi/6*d^3*rhos*g-pi*d^3/6*rhog*g-0.5*pi*d^2/4*24*mu/d/rhog*rhog*u(i))/pi*6/d^3/rhos)^(-1)*uf/1000;\n",
"        s=s+y;\n",
"    end\n",
"    a=s;\n",
"endfunction\n",
"[t]=intre();\n",
"disp(t,'Time taken by particle to reach 80% of its velocity in (s):');"
   ]
   }
],
"metadata": {
		  "kernelspec": {
		   "display_name": "Scilab",
		   "language": "scilab",
		   "name": "scilab"
		  },
		  "language_info": {
		   "file_extension": ".sce",
		   "help_links": [
			{
			 "text": "MetaKernel Magics",
			 "url": "https://github.com/calysto/metakernel/blob/master/metakernel/magics/README.md"
			}
		   ],
		   "mimetype": "text/x-octave",
		   "name": "scilab",
		   "version": "0.7.1"
		  }
		 },
		 "nbformat": 4,
		 "nbformat_minor": 0
}
