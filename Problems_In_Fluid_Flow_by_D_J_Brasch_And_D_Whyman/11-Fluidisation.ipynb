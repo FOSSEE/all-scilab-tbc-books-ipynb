{
"cells": [
 {
		   "cell_type": "markdown",
	   "metadata": {},
	   "source": [
       "# Chapter 11: Fluidisation"
	   ]
	},
{
		   "cell_type": "markdown",
		   "metadata": {},
		   "source": [
			"## Example 11.1_1: particulate_and_aggregative_fluidisation.sce"
		   ]
		  },
  {
"cell_type": "code",
	   "execution_count": null,
	   "metadata": {
	    "collapsed": true
	   },
	   "outputs": [],
"source": [
"\n",
"\n",
"//exapple 11.1 \n",
"clc; funcprot(0);\n",
"// Initialization of Variable\n",
"pi=3.1428;\n",
"d=0.3/1000;\n",
"mu=2.21/100000;\n",
"rho=106.2;//density under operating condition\n",
"u=2.1/100;\n",
"rhos=2600;//density of particles\n",
"l=3.25;\n",
"g=9.81;\n",
"dt=0.95//fluidising diameter\n",
"//part 1\n",
"//calculation\n",
"a=u^2/d/g*d*rho*u/mu*(rhos-rho)/rho*l/dt;\n",
"if a>100 then\n",
"    disp(a,'Bubbling fluidisation will occur as value is ')\n",
"end\n",
"//part 2\n",
"Q=2.04/100000;\n",
"rhos=2510;\n",
"rho=800;\n",
"mu=2.85/1000;\n",
"l=4.01;\n",
"dt=0.63;\n",
"d=0.1/1000;\n",
"u=Q*4/pi/dt^2;\n",
"a=u^2/d/g*d*rho*u/mu*(rhos-rho)/rho*l/dt;\n",
"if a<100*10^-4 then//compare as value of a is much less than 100\n",
"    disp(a,'fluidisation occur in smooth mode as value is:');\n",
"end\n",
""
   ]
   }
,
{
		   "cell_type": "markdown",
		   "metadata": {},
		   "source": [
			"## Example 11.1_2: calculation_of_minimum_flow_rates.sce"
		   ]
		  },
  {
"cell_type": "code",
	   "execution_count": null,
	   "metadata": {
	    "collapsed": true
	   },
	   "outputs": [],
"source": [
"\n",
"\n",
"//exapple 11.2 \n",
"clc; funcprot(0);\n",
"// Initialization of Variable\n",
"d=50/1000000;\n",
"rhos=1850;//density of particle\n",
"rho=880;//density of hydrocarbon\n",
"mu=2.75/1000;//viscosity of hydrocarbon\n",
"e=0.45;//void fraction coeff.\n",
"g=9.81;\n",
"h=1.37;//flow depth\n",
"c=5.5/1000;//c=1/K\n",
"//calculation\n",
"//part 1\n",
"u=c*e^3*d^2*g*(rhos-rho)/mu/(1-e);\n",
"disp(u,'The superficial linear flow rate in (m/s):')\n",
"//part 2\n",
"u=d^2*g*(rhos-rho)/18/mu;\n",
"disp(u,'Terminal Settling Velocity in (m/s):');\n",
"Re=d*u*rho/mu;\n",
"if Re<2 then\n",
"    disp('Stoke law assumption is sustained with this velocity')\n",
"end\n",
"//part 3\n",
"P=g*(rhos-rho)*h*(1-e);\n",
"disp(P,'Pressure drop across fluidised bed in (N/m^2):');"
   ]
   }
,
{
		   "cell_type": "markdown",
		   "metadata": {},
		   "source": [
			"## Example 11.1_3: calculation_of_flow_rates_in_fluidised_beds.sce"
		   ]
		  },
  {
"cell_type": "code",
	   "execution_count": null,
	   "metadata": {
	    "collapsed": true
	   },
	   "outputs": [],
"source": [
"\n",
"\n",
"\n",
"//exapple 11.3 \n",
"clc; funcprot(0);\n",
"// Initialization of Variable\n",
"g=9.81;\n",
"rhos=1980;//density of ore\n",
"rho=1.218;//density of air\n",
"e=0.4;\n",
"mu=1.73/10^5;\n",
"s=0;\n",
"wp=[0 .08 .20 .40 .60 .80 .90 1.00];//weight percent\n",
"d=[0.4 0.5 0.56 0.62 0.68 0.76 0.84 0.94]/1000;\n",
"//part 1\n",
"for i=1:7\n",
"    dav(i)=d(i+1)/2+d(i)/2;//average dia\n",
"    mf(i)=wp(i+1)-wp(i);//mass fraction\n",
"    a(i)=mf(i)/dav(i);\n",
"    s=s+a(i);\n",
"end\n",
"db=1/s;//d bar\n",
"//quadratic coeff. ax^2 +bx +c=0\n",
"c=-(rhos-rho)*g;\n",
"b=150*(1-e)/e^3/db^2*mu;\n",
"a=1.75*rho/e^3/db;\n",
"y=poly([c b a],'U','coeff');\n",
"U=roots(y);\n",
"disp(abs(U(2)), 'the linear air flow rate in (m/s):');\n",
"//part 2\n",
"d=0.4/1000;\n",
"a=2*d^3/3/mu^2*rho*(rhos-rho)*g;\n",
"a=log10(a);\n",
"disp(a,'log10(Re^2/rho/U^2*R)=');\n",
"//using chart\n",
"Re=10^1.853;\n",
"u=Re*mu/rho/d;\n",
"disp(u, 'speed required for smallest particle in (m/s):')"
   ]
   }
,
{
		   "cell_type": "markdown",
		   "metadata": {},
		   "source": [
			"## Example 11.1_4: estimation_of_vessel_diameters_and_height_for_fluidisation_operations.sce"
		   ]
		  },
  {
"cell_type": "code",
	   "execution_count": null,
	   "metadata": {
	    "collapsed": true
	   },
	   "outputs": [],
"source": [
"\n",
"\n",
"//exapple 11.4 \n",
"clc; funcprot(0);\n",
"// Initialization of Variable\n",
"U=2.032/10^4;\n",
"pi=3.1428;\n",
"rho=852;\n",
"g=9.81;\n",
"mu=1.92/1000;\n",
"mf=125/3600;//mass flow rate\n",
"//calculation\n",
"//part 1\n",
"G=U*rho;\n",
"A=mf/G;\n",
"d=sqrt(4*A/pi);\n",
"disp(d, 'the diameter of vessel will be in(m):');\n",
"//part 2\n",
"A=0.201;\n",
"e=0.43;\n",
"ms=102;//mass of solids\n",
"rhos=1500;//density of solid\n",
"L=ms/rhos/A;\n",
"Lmf=L/(1-e);\n",
"disp(Lmf , 'depth of bed in (m):')\n",
"//part 3\n",
"d1=0.2/1000;\n",
"U=2*5.5/10^3*e^3*d1^2*(rhos-rho)*g/mu/(1-e);\n",
"//now euating for e\n",
"//a=e^3/(1-e)\n",
"a=U/5.5*10^3/(d1^2*(rhos-rho)*g/mu);\n",
"y=poly([-a a 0 1],'e','coeff');\n",
"e2=roots(y);\n",
"L=Lmf*(1-e)/(1-e2(3));\n",
"disp(L,'depth of fluidised bed under operating condition in (m):')"
   ]
   }
,
{
		   "cell_type": "markdown",
		   "metadata": {},
		   "source": [
			"## Example 11.1_5: power_required_for_pumping_in_fluidised_beds.sce"
		   ]
		  },
  {
"cell_type": "code",
	   "execution_count": null,
	   "metadata": {
	    "collapsed": true
	   },
	   "outputs": [],
"source": [
"\n",
"\n",
"//exapple 11.5 \n",
"clc; funcprot(0);\n",
"// Initialization of Variable\n",
"g=9.81;\n",
"pi=3.1428;\n",
"r=0.51;\n",
"e=0.48;//void ratio\n",
"rhos=2280;//density of glass\n",
"rho=1.204;//density of air\n",
"U=0.015;//velocity of water entering bed\n",
"L=7.32;\n",
"gam=1.4;//gamma\n",
"neta=0.7//efficiency\n",
"P4=1.013*10^5;\n",
"P1=P4;\n",
"v1=1/1.204;//volume 1\n",
"//calculation\n",
"P3=P4+g*(rhos-rho)*(1-e)*L;\n",
"P2=P3+0.1*85090;\n",
"v2=(P1*v1^gam/P2)^(1/gam);//vlume 2\n",
"W=1/neta*gam/(gam-1)*(P2*v2-P1*v1);//work done\n",
"v3=P2*v2/P3;//volume 3\n",
"M=U*pi*r^2/v3;//mass flow rate\n",
"P=M*W;\n",
"disp(P,'The power supplies to the blower in (W):');"
   ]
   }
,
{
		   "cell_type": "markdown",
		   "metadata": {},
		   "source": [
			"## Example 11.1_6: wall_effect_in_fluidised_beds.sce"
		   ]
		  },
  {
"cell_type": "code",
	   "execution_count": null,
	   "metadata": {
	    "collapsed": true
	   },
	   "outputs": [],
"source": [
"\n",
"\n",
"//exapple 11.6 \n",
"clc; funcprot(0);\n",
"// Initialization of Variable\n",
"dt=12.7/1000;\n",
"d=1.8/1000;\n",
"Q=2.306/10^6;\n",
"pi=3.1428;\n",
"//calculation\n",
"//part 1\n",
"Sc=4/dt;\n",
"S=6/d;\n",
"f=(1+0.5*Sc/S)^2;\n",
"U=Q*4/pi/dt^2;//velocity\n",
"Ua=f*U;//actual velocity\n",
"disp(Ua,'minimum fluidising velocity found using smaller glass column in (m/s):')\n",
"//part 2\n",
"dt=1.5;\n",
"Sc=4/dt;\n",
"f=(1+0.5*Sc/S)^2;\n",
"Ua=f*U;//actual velocity\n",
"disp(Ua,'fluidising velocity found using larger glass column in (m/s):')"
   ]
   }
,
{
		   "cell_type": "markdown",
		   "metadata": {},
		   "source": [
			"## Example 11.1_7: effect_of_particle_size_on_the_ratio_of_terminal_velocity.sce"
		   ]
		  },
  {
"cell_type": "code",
	   "execution_count": null,
	   "metadata": {
	    "collapsed": true
	   },
	   "outputs": [],
"source": [
"\n",
"\n",
"//exapple 11.7 \n",
"clc; funcprot(0);\n",
"// Initialization of Variable\n",
"e=0.4;//incipent to fluidisation\n",
"//calculation\n",
"//part 1\n",
"disp('for Re<500');\n",
"disp('the ratio of terminal velocity & minimmum fluidising velocity is');\n",
"a=3.1*1.75/e^3;\n",
"disp(sqrt(a));\n",
"//part 2\n",
"disp('for Re>500');\n",
"disp('the ratio of terminal velocity & minimmum fluidising velocity is');\n",
"a=150*(1-e)/18/e^3;\n",
"disp(a);"
   ]
   }
],
"metadata": {
		  "kernelspec": {
		   "display_name": "Scilab",
		   "language": "scilab",
		   "name": "scilab"
		  },
		  "language_info": {
		   "file_extension": ".sce",
		   "help_links": [
			{
			 "text": "MetaKernel Magics",
			 "url": "https://github.com/calysto/metakernel/blob/master/metakernel/magics/README.md"
			}
		   ],
		   "mimetype": "text/x-octave",
		   "name": "scilab",
		   "version": "0.7.1"
		  }
		 },
		 "nbformat": 4,
		 "nbformat_minor": 0
}
