{
"cells": [
 {
		   "cell_type": "markdown",
	   "metadata": {},
	   "source": [
       "# Chapter 1: Pipe Flow of Liquids"
	   ]
	},
{
		   "cell_type": "markdown",
		   "metadata": {},
		   "source": [
			"## Example 1.1_10: minimum_pipe_diameter_to_obtain_a_given_fluid_flow.sce"
		   ]
		  },
  {
"cell_type": "code",
	   "execution_count": null,
	   "metadata": {
	    "collapsed": true
	   },
	   "outputs": [],
"source": [
"\n",
"\n",
"//exapple 1.10 \n",
"clc; funcprot(0);\n",
"// Initialization of Variable\n",
"rho=1000;\n",
"mu=1.42/1000;\n",
"g=9.81;\n",
"pi=3.14;\n",
"l=485;\n",
"h=4.5\n",
"e=8.2/100000;\n",
"Q=1500*4.545/1000/3600;\n",
"disp('assume d as 6cm');\n",
"d=0.06;\n",
"u=4*Q/pi/d^2;\n",
"Re=rho*d*u/mu;\n",
"rr=e/d;//relative roughness\n",
"//using moody's chart\n",
"phi=0.0033//friction coeff.\n",
"d=(64*phi*l*Q^2/pi^2/g/h)^0.2;\n",
"disp(d*100, 'The calculated d after (1st iteration which is close to what we assume so we do not do any more iteration) in(cm) ')"
   ]
   }
,
{
		   "cell_type": "markdown",
		   "metadata": {},
		   "source": [
			"## Example 1.1_1: laminar_turnulent_pipe_flow_and_Reynolds_number.sce"
		   ]
		  },
  {
"cell_type": "code",
	   "execution_count": null,
	   "metadata": {
	    "collapsed": true
	   },
	   "outputs": [],
"source": [
"\n",
"\n",
"//exapple 1.1 \n",
"clc; funcprot(0);\n",
"// Initialization of Variable\n",
"//part1\n",
"mu=6.3/100;//viscosity\n",
"rho=1170;//density\n",
"d=.3;//diameter of pipe\n",
"b=0.142;//conversion factor\n",
"pi=3.14;\n",
"//calculation\n",
"Q=150000*b/24/3600//flow rate\n",
"u=Q/pi/d^2*4//flow speed\n",
"Re=rho*u*d/mu\n",
"if    Re>4000    then\n",
"    disp(Re,'the system is in turbulent motion as reynolds no is greater than 4000:');\n",
"elseif Re<2100 then\n",
"    disp(Re,'the system is in laminar motion' );\n",
"else\n",
"    disp(Re, 'the system is in transition motion');\n",
"end\n",
"//part 2\n",
"mu=5.29/1000;\n",
"d=0.06;\n",
"G=0.32;//mass flow rate\n",
"Re= 4*G/pi/d/mu;\n",
"if    Re>4000    then\n",
"    disp(Re,'the system is in turbulent motion as reynolds no is greater than 4000:');\n",
"elseif Re<2100 then\n",
"    disp(Re,'the system is in laminar motion as Re is less than 2100' );\n",
"else\n",
"    disp(Re, 'the system is in transition motion');\n",
"end"
   ]
   }
,
{
		   "cell_type": "markdown",
		   "metadata": {},
		   "source": [
			"## Example 1.1_2: conditions_in_pipeline_while_liquid_passes_in_steady_motion_through_it.sce"
		   ]
		  },
  {
"cell_type": "code",
	   "execution_count": null,
	   "metadata": {
	    "collapsed": true
	   },
	   "outputs": [],
"source": [
"\n",
"\n",
"//exapple 1.2 \n",
"clc; funcprot(0);\n",
"// Initialization of Variable\n",
"G=21.2;//mass flow rate\n",
"rho=1120;//density\n",
"d=0.075;//diameter\n",
"l=50;\n",
"g=9.81;\n",
"pi=3.14;\n",
"delz=24/100;//head difference\n",
"//calculation\n",
"delP=delz*rho*g;//differece of pressure\n",
"u=4*G/pi/d^2/rho;\n",
"phi=delP/rho*d/l/u^2/4*50;\n",
"disp(phi,'The Stanton-Pannel friction factor per unit of length:');\n",
"R=phi*rho*u^2;\n",
"disp(R , 'shear stress exerted by liquid on the pipe wall in (N/m^2):');\n",
"F=pi*d*l*R;\n",
"disp(F , 'Total shear force exerted on the pipe in (N):');\n",
"Re=(.0396/phi)^4;//reynold's no.\n",
"mu=rho*u*d/Re;\n",
"disp(mu , 'viscosity of liquid in (kg/m/s):')\n",
""
   ]
   }
,
{
		   "cell_type": "markdown",
		   "metadata": {},
		   "source": [
			"## Example 1.1_3: laminar_flow_and_Hagen_Poiseuille_equation.sce"
		   ]
		  },
  {
"cell_type": "code",
	   "execution_count": null,
	   "metadata": {
	    "collapsed": true
	   },
	   "outputs": [],
"source": [
"\n",
"\n",
"//exapple 1.3 \n",
"clc; funcprot(0);\n",
"// Initialization of Variable\n",
"pi=3.14;\n",
"g=9.81;\n",
"d=0.00125;\n",
"Re=2100;\n",
"l=0.035;\n",
"rhoc=779;//density of cyclohexane\n",
"rhow=999;//density of water\n",
"muc=1.02/1000;//viscosity of cyclo hexane\n",
"//calculation\n",
"u=Re*muc/rhoc/d;//speed\n",
"Q=pi*d^2*u/4;//volumetric flow rate\n",
"delP=32*muc*u*l/d^2;//pressure difference\n",
"delz=delP/(rhow-rhoc)/g;\n",
"disp(delz*100 , 'the difference between the rise levels of manometer in (cm):')\n",
""
   ]
   }
,
{
		   "cell_type": "markdown",
		   "metadata": {},
		   "source": [
			"## Example 1.1_4: velocity_distribution_in_fluid_in_laminar_motion_in_pipe.sce"
		   ]
		  },
  {
"cell_type": "code",
	   "execution_count": null,
	   "metadata": {
	    "collapsed": true
	   },
	   "outputs": [],
"source": [
"\n",
"\n",
"//exapple 1.4 \n",
"clc; funcprot(0);\n",
"// Initialization of Variable\n",
"d=0.05;\n",
"l=12;\n",
"per=100-2;\n",
"pi=3.1428\n",
"//calculation\n",
"s=sqrt(per/100/4*d^2);//radius of core of pure material\n",
"V=pi*d^2/4*l/(2*(1-(2*s)^2/d^2));\n",
"disp(V, 'The volume of pure material so that 2% technical material appears at the end in (m^3):')"
   ]
   }
,
{
		   "cell_type": "markdown",
		   "metadata": {},
		   "source": [
			"## Example 1.1_5: comparison_of_laminar_and_turbulent_flow.sce"
		   ]
		  },
  {
"cell_type": "code",
	   "execution_count": null,
	   "metadata": {
	    "collapsed": true
	   },
	   "outputs": [],
"source": [
"\n",
"\n",
"//exapple 1.5 \n",
"clc; funcprot(0);\n",
"// Initialization of Variable\n",
"//part 1\n",
"a=1/2*(1-1/sqrt(2));\n",
"disp(a*100, 'The percent value of d for which where pitot tube is kept show average velocity in streamline flow in (%):');\n",
"//part 2\n",
"a=(49/60)^7/2;\n",
"disp(a*100, 'The percent value of d for which where pitot tube is kept show average velocity in turbulent flow in (%):');\n",
"//part 3\n",
"//on equating coefficient of r\n",
"y=a*2;//y=a/100*2*r\n",
"s=1-y;//s=r-y\n",
"//on equating coeff. of 1/4/mu*del(P)/del(l)\n",
"E=(1-s^2-.5)/.5;\n",
"disp(E , 'The erreor shown by pitot tube at new position if value of streamlined flow flow was to be obtained in (%) :');\n",
"disp('The - sign indicates that it will display reduced velocity than what actually is');\n",
""
   ]
   }
,
{
		   "cell_type": "markdown",
		   "metadata": {},
		   "source": [
			"## Example 1.1_6: EX1_1_6.sci"
		   ]
		  },
  {
"cell_type": "code",
	   "execution_count": null,
	   "metadata": {
	    "collapsed": true
	   },
	   "outputs": [],
"source": [
"\n",
"\n",
"//exapple 1.6 \n",
"clc; funcprot(0);\n",
"// Initialization of Variable\n",
"rhon=1068;//density of nitric acid\n",
"mun=1.06/1000//viscosity of nitric acid\n",
"g=9.81;\n",
"l=278;\n",
"d=0.032;\n",
"alpha=1;\n",
"h2=57.4;//height to be raised\n",
"h1=5;//height from which to be raised\n",
"e=.0035/1000;//roughness\n",
"G=2.35//mass flow rate\n",
"//calculations\n",
"//part 1\n",
"u=4*G/rhon/pi/d^2;\n",
"Re=rhon*d*u/mun;\n",
"rr=e/d;//relative roughness\n",
"//Reading's from Moody's Chart\n",
"phi=.00225;//friction coeff.\n",
"W=u^2/2+g*(h2-h1)+4*phi*l*u^2/d;//The work done/kg of fluid flow in J/kg\n",
"V=abs(W)*G;\n",
"disp(abs(V)/1000,  'The Power required to pump acid in kW  :');\n",
"//part 2\n",
"P2=-u^2*rhon/2+g*(h1)*rhon+abs(W+2)*rhon;;\n",
"disp(P2/1000,'The gauge pressure at pump outlet when piping is new in (kPa)' );\n",
"//part 3\n",
"e=.05/1000;\n",
"Re=rhon*d*u/mun;\n",
"rr=e/d;\n",
"//Reading's from Moody's Chart\n",
"phi=0.0029;\n",
"W=u^2/2+g*(h2-h1)+4*phi*l*u^2/d;\n",
"Vnew=abs(W)*G;\n",
"Pi=(Vnew-V)/V*100;\n",
"disp(Pi , 'The increase in power required to transfer in old pipe in (%):');\n",
"//part 4\n",
"P2=-u^2*rhon/2+g*(h1)*rhon+abs(W+2)*rhon;\n",
"disp(P2/1000,'The gauge pressure at pump outlet when piping is old in (kPa)' );"
   ]
   }
,
{
		   "cell_type": "markdown",
		   "metadata": {},
		   "source": [
			"## Example 1.1_7: power_required_for_pumping_when_pipe_system_contains_resistances_to_flow.sce"
		   ]
		  },
  {
"cell_type": "code",
	   "execution_count": null,
	   "metadata": {
	    "collapsed": true
	   },
	   "outputs": [],
"source": [
"\n",
"\n",
"//exapple 1.7 \n",
"clc; funcprot(0);\n",
"// Initialization of Variable\n",
"rho=990;\n",
"mu=5.88/10000;\n",
"g=9.81;\n",
"pi=3.14;\n",
"temp=46+273\n",
"e=1.8/10000//absolute roughness\n",
"Q=4800/1000/3600;\n",
"l=155;\n",
"h=10.5;\n",
"d=0.038;\n",
"delh=1.54//head loss at heat exchanger\n",
"effi=0.6//efficiency\n",
"//calculations\n",
"//part 1\n",
"u=Q*4/pi/d^2;\n",
"Re=rho*d*u/mu;\n",
"rr=e/d;//relative roughness\n",
"//from moody's diagram\n",
"phi=0.0038//friction factor\n",
"alpha=1//constant\n",
"leff=l+h+200*d+90*d;\n",
"Phe=g*delh//pressure head lost at heat exchanger\n",
"W=u^2/2/alpha+Phe+g*h+4*phi*leff*u^2/d;//work done by pump\n",
"G=Q*rho;//mass flow rate\n",
"P=W*G;//power required by pump\n",
"Pd=P/effi//power required to drive pump\n",
"disp(Pd/1000,'power required to drive pump in (kW)');\n",
"//part 2\n",
"P2=(-u^2/2/alpha+W)*rho;\n",
"disp(P2/1000,'The gauge pressure in (kPa):')\n",
"\n",
""
   ]
   }
,
{
		   "cell_type": "markdown",
		   "metadata": {},
		   "source": [
			"## Example 1.1_8: fluid_flow_rate_and_use_of_friction_and_chart.sce"
		   ]
		  },
  {
"cell_type": "code",
	   "execution_count": null,
	   "metadata": {
	    "collapsed": true
	   },
	   "outputs": [],
"source": [
"\n",
"\n",
"//exapple 1.8 \n",
"clc; funcprot(0);\n",
"// Initialization of Variable\n",
"rho=908;\n",
"mu=3.9/100;\n",
"g=9.81;\n",
"pi=3.14;\n",
"d=0.105;\n",
"l=87;\n",
"h=16.8;\n",
"e=0.046/1000;//absolute roughness\n",
"//calculations\n",
"//part1\n",
"P=-rho*g*h;//change in pressure\n",
"a=-P*rho*d^3/4/l/mu^2//a=phi*Re^2\n",
"//using graph given in book(appendix)\n",
"Re=8000;\n",
"u=mu*Re/rho/d;\n",
"Q=u*pi*d^2/4;\n",
"disp(Q,'Volumetric flow rate initial (m^3/s):');\n",
"//part 2\n",
"W=320;\n",
"Pd=W*rho;//pressure drop by pump\n",
"P=P-Pd;\n",
"a=-P*rho*d^3/4/l/mu^2//a=phi*Re^2\n",
"//using graph given in book(appendix)\n",
"Re=15000;\n",
"u=mu*Re/rho/d;\n",
"Q=u*pi*d^2/4;\n",
"disp(Q,'Volumetric flow rate final(part 2) (m^3/s):');\n",
"\n",
""
   ]
   }
,
{
		   "cell_type": "markdown",
		   "metadata": {},
		   "source": [
			"## Example 1.1_9: time_taken_to_drain_a_tank.sce"
		   ]
		  },
  {
"cell_type": "code",
	   "execution_count": null,
	   "metadata": {
	    "collapsed": true
	   },
	   "outputs": [],
"source": [
"\n",
"\n",
"//exapple 1.9 \n",
"clc; funcprot(0);\n",
"// Initialization of Variable\n",
"rho=1000;\n",
"mu=1.25/1000;\n",
"g=9.81;\n",
"pi=3.14\n",
"d1=0.28;//diameter of tank\n",
"d2=0.0042;//diameter of pipe\n",
"l=0.52;//length of pipe\n",
"rr=1.2/1000/d;//relative roughness\n",
"phid=0.00475;\n",
"disp(phid,'It is derived from tyhe graph giben in appedix and can be seen is arying b/w 0.0047 & 0.0048 dependent on D which varies from 0.25 to 0.45')\n",
"//calculations\n",
"function[a]=intregrate()\n",
"    s=0;\n",
"    for i=1:1000\n",
"        D=linspace(0.25,0.45,1000);\n",
"        y=sqrt(((pi*d1^2/pi/d2^2)^2-1)/2/9.81+(4*phid*l*(pi*d1^2/pi/d2^2)^2)/d2/9.81)*((0.52+D(i))^-0.5)*2/10000;\n",
"        s=s+y;\n",
"        \n",
"    end\n",
"    a=s;\n",
"endfunction\n",
"b=intregrate();\n",
"disp(b,'Time required to water level to fall in the tank in (s):');\n",
"\n",
"    "
   ]
   }
],
"metadata": {
		  "kernelspec": {
		   "display_name": "Scilab",
		   "language": "scilab",
		   "name": "scilab"
		  },
		  "language_info": {
		   "file_extension": ".sce",
		   "help_links": [
			{
			 "text": "MetaKernel Magics",
			 "url": "https://github.com/calysto/metakernel/blob/master/metakernel/magics/README.md"
			}
		   ],
		   "mimetype": "text/x-octave",
		   "name": "scilab",
		   "version": "0.7.1"
		  }
		 },
		 "nbformat": 4,
		 "nbformat_minor": 0
}
