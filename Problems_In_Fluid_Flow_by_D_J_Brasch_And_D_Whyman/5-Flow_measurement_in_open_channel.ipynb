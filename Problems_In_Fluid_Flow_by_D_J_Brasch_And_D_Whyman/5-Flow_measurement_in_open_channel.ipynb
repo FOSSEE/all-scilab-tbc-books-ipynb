{
"cells": [
 {
		   "cell_type": "markdown",
	   "metadata": {},
	   "source": [
       "# Chapter 5: Flow measurement in open channel"
	   ]
	},
{
		   "cell_type": "markdown",
		   "metadata": {},
		   "source": [
			"## Example 5.1_10: gradually_varied_flow_behind_a_weir.sce"
		   ]
		  },
  {
"cell_type": "code",
	   "execution_count": null,
	   "metadata": {
	    "collapsed": true
	   },
	   "outputs": [],
"source": [
"\n",
"\n",
"//exapple 5.10 \n",
"clc; funcprot(0);\n",
"// Initialization of Variable\n",
"pi=3.14;\n",
"n=0.022;\n",
"B=5.75;\n",
"s=0.15*pi/180;\n",
"Q=16.8;\n",
"function[y]=normal(x)\n",
"    y=Q-B*x/n*(B*x/(B+2*x))^(2/3)*s^0.5;\n",
"endfunction\n",
"x=fsolve(1.33,normal);\n",
"disp(x,'Normal depth in (m):');\n",
"Dc=(Q^2/g/B^2)^(1/3);\n",
"disp(Dc,'Critical depth in (m):');\n",
"delD=.1;\n",
"D=1.55:.1:2.35\n",
"su=0;\n",
"for i=1:9\n",
"    delL=delD/s*(1-(Dc/D(i))^3)/(1-(x/D(i))^3.33);\n",
"    su=su+delL\n",
"end\n",
"disp(su,'distance in (m) from upstream to that place:')"
   ]
   }
,
{
		   "cell_type": "markdown",
		   "metadata": {},
		   "source": [
			"## Example 5.1_11: analysis_of_hydraulic_jump.sce"
		   ]
		  },
  {
"cell_type": "code",
	   "execution_count": null,
	   "metadata": {
	    "collapsed": true
	   },
	   "outputs": [],
"source": [
"\n",
"\n",
"//exapple 5.11 \n",
"clc; funcprot(0);\n",
"// Initialization of Variable\n",
"g=9.81;\n",
"q=1.49;\n",
"pi=3.14;\n",
"//calculation\n",
"//part1\n",
"Dc=(q^2/g)^.333;\n",
"disp(Dc,'critical depth in (m):');\n",
"//part2\n",
"n=0.021;\n",
"su=1.85*pi/180;//slope upstream\n",
"sd=0.035*pi/180;//slope downstream\n",
"Dnu=(n*q/sqrt(su))^(3/5);\n",
"Dnu=round(Dnu*1000)/1000;\n",
"disp(Dnu,'normal depth upstream in (m):');\n",
"Dnd=(n*q/sqrt(sd))^(3/5);\n",
"disp(Dnd,'normal depth downstream in (m):');\n",
"//part3\n",
"D2u=-0.5*Dnu*(1-sqrt(1+8*q^2/g/Dnu^3));\n",
"D2u=round(D2u*1000)/1000;\n",
"disp(D2u,'conjugate depth for upstream in (m):');\n",
"D1d=-0.5*Dnd*(1-sqrt(1+8*q^2/g/Dnd^3));\n",
"disp(D1d,'conjugate depth for downstream in (m):');\n",
"//part4\n",
"//accurate method\n",
"delD=.022;\n",
"D=0.987:.022:1.141\n",
"dis=0;\n",
"for i=1:8\n",
"    delL=delD/su*(1-(Dc/D(i))^3)/(1-(Dnu/D(i))^3.33);\n",
"    dis=dis+delL\n",
"end\n",
"disp(dis,'distance in (m) of occurence of jump by accurate method:');\n",
"//not so accurate one\n",
"E1=D2u+q^2/2/g/D2u^2;\n",
"E2=Dnd+q^2/2/g/Dnd^2;\n",
"E2=round(E2*1000)/1000;\n",
"E1=round(E1*1000)/1000;\n",
"ahm=(D2u+Dnd)/2;//av. hydraulic mean\n",
"afv=.5*(q/D2u+q/Dnd);//av. fluid velocity\n",
"i=(afv*0.021/ahm^(2/3))^2;\n",
"l=(E2-E1)/(su-i+0.0002);\n",
"disp(l,'distance in (m) of occurence of jump by not so accurate method:')\n",
"//part5\n",
"rho=998;\n",
"Eu=Dnu++q^2/2/g/Dnu^2;\n",
"Eu=round(Eu*1000)/1000;\n",
"P=rho*g*q*(Eu-E1);\n",
"disp(P/1000,'power loss in hydraulic jump per unit width in (kW):')"
   ]
   }
,
{
		   "cell_type": "markdown",
		   "metadata": {},
		   "source": [
			"## Example 5.1_1: use_of_manning_and_chezy_formulae.sce"
		   ]
		  },
  {
"cell_type": "code",
	   "execution_count": null,
	   "metadata": {
	    "collapsed": true
	   },
	   "outputs": [],
"source": [
"\n",
"\n",
"//exapple 5.1 \n",
"clc; funcprot(0);\n",
"// Initialization of Variable\n",
"rho=999.7;\n",
"g=9.81;\n",
"mu=1.308/1000;\n",
"s=1/6950;\n",
"b=0.65;\n",
"h=32.6/100;\n",
"n=0.016;\n",
"//calculation\n",
"//part1\n",
"A=b*h;\n",
"P=b+2*h;\n",
"m=A/P;\n",
"u=s^.5*m^(2/3)/n;\n",
"Q=A*u\n",
"disp(Q,'volumetric flow rate (m^3/s):');\n",
"C=u/m^0.5/s^0.5;\n",
"disp(C,'chezy coefficient (m^0.5/s):');\n",
"a=-m*rho*g*s/mu;//delu/dely\n",
"disp(a,'velocity gradient in the channel (s^-1):')\n",
""
   ]
   }
,
{
		   "cell_type": "markdown",
		   "metadata": {},
		   "source": [
			"## Example 5.1_2: stream_depth_in_trapezoid_channel.sce"
		   ]
		  },
  {
"cell_type": "code",
	   "execution_count": null,
	   "metadata": {
	    "collapsed": true
	   },
	   "outputs": [],
"source": [
"\n",
"\n",
"//exapple 5.2 \n",
"clc; funcprot(0);\n",
"// Initialization of Variable\n",
"Q=0.885;\n",
"pi=3.1428;\n",
"s=1/960;\n",
"s=round(s*1000000)/1000000;\n",
"b=1.36;\n",
"n=0.014;\n",
"theta=55*pi/180;\n",
"//calculation\n",
"function[y]=flow(x);\n",
"    a=(x*(b+x/tan(theta)))/(b+2*x/sin(theta));\n",
"    y=a^(2/3)*s^(1/2)*(x*(b+x/tan(theta)))/n-Q;\n",
"endfunction\n",
"x=fsolve(0.1,flow);\n",
"disp(x,'depth of water in (m):')"
   ]
   }
,
{
		   "cell_type": "markdown",
		   "metadata": {},
		   "source": [
			"## Example 5.1_3: optimum_base_angle_of_a_Vshaped_channel_Slope_of_a_channel.sce"
		   ]
		  },
  {
"cell_type": "code",
	   "execution_count": null,
	   "metadata": {
	    "collapsed": true
	   },
	   "outputs": [],
"source": [
"\n",
"\n",
"//exapple 5.3 \n",
"clc; funcprot(0);\n",
"// Initialization of Variable\n",
"n=0.011;\n",
"h=0.12;\n",
"Q=25/10000;\n",
"//calculation\n",
"deff('y=f(x)','y=1/x^2-1');\n",
"x=fsolve(0.1,f);\n",
"theta=2*atan(x);\n",
"A=h*2*h/tan(theta/2)/2;\n",
"P=2*h*sqrt(2);\n",
"s=Q^2*n^2*P^(4/3)/A^(10/3);\n",
"disp(s,'the slope of channel in (radians):')"
   ]
   }
,
{
		   "cell_type": "markdown",
		   "metadata": {},
		   "source": [
			"## Example 5.1_4: stream_depth_and_maximum_velocity_and_flow_rate_in_a_pipe.sce"
		   ]
		  },
  {
"cell_type": "code",
	   "execution_count": null,
	   "metadata": {
	    "collapsed": true
	   },
	   "outputs": [],
"source": [
"\n",
"\n",
"//exapple 5.4 \n",
"clc; funcprot(0);\n",
"// Initialization of Variable\n",
"//part1\n",
"//maximizing eqution in theta & get a function\n",
"function[y]=theta(x)\n",
"    y=(x-.5*sin(2*x))/2/x^2-(1-cos(2*x))/2/x;\n",
"endfunction\n",
"x=fsolve(2.2,theta);\n",
"x=round(x*1000)/1000;\n",
"a=(1-cos(x))/2;\n",
"printf('velocity will be maximum when stream depth in times of diameter is %.3f',a);\n",
"//part2\n",
"//maximizing eqution in theta & get a function\n",
"function[y]=theta2(x)\n",
"    y=3*(x-.5*sin(2*x))^2*(1-cos(2*x))/2/x-(x-.5*sin(2*x))^3/2/x^2 ;   \n",
"endfunction\n",
"x1=fsolve(2.2,theta2);\n",
"x1=round(x1*1000)/1000;\n",
"a=(1-cos(x1))/2;\n",
"disp('')\n",
"printf('vlumetric flow will be maximum when stream depth in times of diameter is %.3f',a);\n",
"//part3\n",
"r=1;\n",
"A=1*x-0.5*sin(2*x);\n",
"s=0.35*3.14/180;\n",
"P=2*x*r;\n",
"C=78.6;\n",
"u=C*(A/P)^0.5*s^0.5;\n",
"disp(u,'maximum velocity of obtained fluid (m/s):');\n",
"//part4\n",
"disp(x1,'maximum flow rate obtained at angle in (radians):')"
   ]
   }
,
{
		   "cell_type": "markdown",
		   "metadata": {},
		   "source": [
			"## Example 5.1_5: flow_measurement_with_sharp_crested_weir.sce"
		   ]
		  },
  {
"cell_type": "code",
	   "execution_count": null,
	   "metadata": {
	    "collapsed": true
	   },
	   "outputs": [],
"source": [
"\n",
"\n",
"//exapple 5.5 \n",
"clc; funcprot(0);\n",
"// Initialization of Variable\n",
"g=9.81;\n",
"h=28/100;\n",
"Cd=0.62;\n",
"B=46/100;\n",
"Q=0.355;\n",
"n=2;//from francis formula\n",
"//calcualtion\n",
"//part1\n",
"u=sqrt(2*g*h);\n",
"disp(u,'velocity of fluid (m/s):');\n",
"//part2a\n",
"H=(3*Q/2/Cd/B/(2*g)^0.5)^(2/3);\n",
"disp(H,'fluid depth over weir in (m):');\n",
"//part2b\n",
"//using francis formula\n",
"function[y]=root(x)\n",
"    y=Q-1.84*(B-0.1*n*x)*x^1.5;\n",
"endfunction\n",
"x=fsolve(0.2,root);\n",
"disp(x,'fluid depth over weir in if SI units uesd in (m):');\n",
"//part3\n",
"H=18.5/100;\n",
"Q=22/1000;\n",
"a=15*Q/8/Cd/(2*g)^0.5/H^2.5;\n",
"theta=2*atan(a);\n",
"disp(theta*180/3.14,'base angle of the notch of weir (degrees)')"
   ]
   }
,
{
		   "cell_type": "markdown",
		   "metadata": {},
		   "source": [
			"## Example 5.1_6: equation_of_specific_energy_and_analysis_of_tranquil_and_shooting_flow.sce"
		   ]
		  },
  {
"cell_type": "code",
	   "execution_count": null,
	   "metadata": {
	    "collapsed": true
	   },
	   "outputs": [],
"source": [
"\n",
"\n",
"//exapple 5.6 \n",
"clc; funcprot(0);\n",
"// Initialization of Variable\n",
"Q=0.675;\n",
"B=1.65;\n",
"D=19.5/100;\n",
"g=9.81;\n",
"//caculation\n",
"u=Q/B/D;\n",
"u=round(u*1000)/1000;\n",
"E=D+u^2/2/g;\n",
"y=poly([8.53/1000 0 -E 1],'x','coeff');\n",
"x=roots(y);\n",
"disp(x(1),'alternative depth in (m)');\n",
"disp('It is shooting flow');\n",
"Dc=2/3*E;\n",
"Qmax=B*(g*Dc^3)^0.5;\n",
"disp(Qmax,'maximum volumetric flow (m^3/s)');\n",
"Fr=u/sqrt(g*D);\n",
"disp(Fr,'Froude no.');\n",
"a=(E-D)/E;\n",
"disp(a*100,'% of kinetic energy in initial system');\n",
"b=(E-x(1))/E;\n",
"disp(b*100,'% of kinetic energy in final system');"
   ]
   }
,
{
		   "cell_type": "markdown",
		   "metadata": {},
		   "source": [
			"## Example 5.1_7: alternate_depth_of_stream_gradient_of_mild_and_steep_slope.sce"
		   ]
		  },
  {
"cell_type": "code",
	   "execution_count": null,
	   "metadata": {
	    "collapsed": true
	   },
	   "outputs": [],
"source": [
"\n",
"\n",
"//exapple 5.7 \n",
"clc; funcprot(0);\n",
"// Initialization of Variable\n",
"G=338;//mass flow rate\n",
"rho=998;\n",
"q=G/rho;\n",
"E=0.48;\n",
"n=0.015;\n",
"g=9.81;\n",
"B=0.4;\n",
"y=poly([5.85/1000 0 -E 1],'x','coeff');\n",
"x=roots(y);\n",
"disp(x(1),x(2),'alternate depths (m):');\n",
"s=(G*n/rho/x(2)/(B*x(2)/(B+2*x(2)))^(2/3))^2\n",
"disp(s,'slode when depth is 12.9cm');\n",
"s=(G*n/rho/x(1)/(B*x(1)/(B+2*x(1)))^(2/3))^2\n",
"disp(s,'slode when depth is 45.1cm');"
   ]
   }
,
{
		   "cell_type": "markdown",
		   "metadata": {},
		   "source": [
			"## Example 5.1_8: critical_flw_condition.sce"
		   ]
		  },
  {
"cell_type": "code",
	   "execution_count": null,
	   "metadata": {
	    "collapsed": true
	   },
	   "outputs": [],
"source": [
"\n",
"\n",
"//exapple 5.8 \n",
"clc; funcprot(0);\n",
"// Initialization of Variable\n",
"pi=3.14;\n",
"theta=pi/3;\n",
"h=1/tan(theta);\n",
"B=0.845;\n",
"E=0.375;\n",
"g=9.81;\n",
"//calculation\n",
"//part1\n",
"//deducing a polynomial(quadratic) in Dc \n",
"a=5*h;\n",
"b=3*B-4*h*E;\n",
"c=-2*E*B;\n",
"y=poly([c b a],'x','coeff');\n",
"x=roots(y);\n",
"disp(x(2),'critical depth in (m):');\n",
"//part2\n",
"Ac=x(2)*(B+x(2)*tan(theta/2));\n",
"Btc=B+x(2)*tan(theta/2)*2;\n",
"Dcbar=Ac/Btc;\n",
"uc=sqrt(g*Dcbar);\n",
"disp(uc,'critical velocity (m/s):');\n",
"//part3\n",
"Qc=Ac*uc;\n",
"disp(Qc,'Critical volumetric flow (m^3/s):');"
   ]
   }
,
{
		   "cell_type": "markdown",
		   "metadata": {},
		   "source": [
			"## Example 5.1_9: flow_measurement_with_broad_crested_weir.sce"
		   ]
		  },
  {
"cell_type": "code",
	   "execution_count": null,
	   "metadata": {
	    "collapsed": true
	   },
	   "outputs": [],
"source": [
"\n",
"\n",
"//exapple 5.9 \n",
"clc; funcprot(0);\n",
"// Initialization of Variable\n",
"B2=1.60;//breadth at 2\n",
"D2=(1-0.047)*1.27;//depth at 2\n",
"g=9.81;\n",
"B1=2.95;//breadth at 1\n",
"D1=1.27;//depth at 1\n",
"Z=0;\n",
"//calculation\n",
"Q=B2*D2*(2*g*(D1-D2-Z)/(1-(B2*D2/B1/D1)^2))^0.5;\n",
"disp(Q,'volumetric flow rate over flat topped weir over rectangular section in non uniform width(m^3/s)');\n",
"//next part\n",
"B2=12.8;\n",
"D1=2.58;\n",
"Z=1.25;\n",
"Q=1.705*B2*(D1-Z)^1.5;\n",
"disp(Q,'volumetric flow rate over flat topped weir over rectangular section in uniform width (m^3/s):')\n",
""
   ]
   }
],
"metadata": {
		  "kernelspec": {
		   "display_name": "Scilab",
		   "language": "scilab",
		   "name": "scilab"
		  },
		  "language_info": {
		   "file_extension": ".sce",
		   "help_links": [
			{
			 "text": "MetaKernel Magics",
			 "url": "https://github.com/calysto/metakernel/blob/master/metakernel/magics/README.md"
			}
		   ],
		   "mimetype": "text/x-octave",
		   "name": "scilab",
		   "version": "0.7.1"
		  }
		 },
		 "nbformat": 4,
		 "nbformat_minor": 0
}
