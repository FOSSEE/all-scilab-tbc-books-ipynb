{
"cells": [
 {
		   "cell_type": "markdown",
	   "metadata": {},
	   "source": [
       "# Chapter 3: velocity boundary layers"
	   ]
	},
{
		   "cell_type": "markdown",
		   "metadata": {},
		   "source": [
			"## Example 3.1_1: streamline_flow_over_a_flat_plate.sce"
		   ]
		  },
  {
"cell_type": "code",
	   "execution_count": null,
	   "metadata": {
	    "collapsed": true
	   },
	   "outputs": [],
"source": [
"\n",
"\n",
"//exapple 3.1 \n",
"clc; funcprot(0);\n",
"// Initialization of Variable\n",
"rho=998;\n",
"mu=1.002/1000;\n",
"x=48/100;\n",
"u=19.6/100;\n",
"x1=30/100;\n",
"b=2.6;\n",
"//calculation\n",
"//part1\n",
"disp('fluid in boundary layer would be entirely in streamline motion ');\n",
"Re=rho*x*u/mu;\n",
"printf('reynolds no is %.2e',Re);\n",
"//part 2\n",
"Re1=rho*x1*u/mu;\n",
"delta=x1*4.64*Re1^-.5;\n",
"disp(delta*1000,'boundary layer width in (mm):');\n",
"//part3\n",
"y=0.5*delta;//middle of boundary layer\n",
"ux=3/2*u*y/delta-.5*u*(y/delta)^3;\n",
"disp(ux*100,'velocity of water in (cm/s):');\n",
"//part4\n",
"R=0.323*rho*u^2*Re1^-0.5;\n",
"disp(R,'shear stress at 30cm in (N/m^2):');\n",
"//part5\n",
"Rms=0.646*rho*u^2*Re^-0.5;\n",
"disp(Rms,'mean shear stress experienced over whole plate in (N/m^2)');\n",
"//part6\n",
"F=Rms*x*b;\n",
"disp(F,'total force experienced by the plate in (N)')\n",
""
   ]
   }
,
{
		   "cell_type": "markdown",
		   "metadata": {},
		   "source": [
			"## Example 3.1_2: turbulent_flow_over_a_plate.sce"
		   ]
		  },
  {
"cell_type": "code",
	   "execution_count": null,
	   "metadata": {
	    "collapsed": true
	   },
	   "outputs": [],
"source": [
"\n",
"\n",
"//exapple 3.2 \n",
"clc; funcprot(0);\n",
"// Initialization of Variable\n",
"P=102.7*1000;\n",
"M=28.8/1000;\n",
"R=8.314;\n",
"temp=273+18;\n",
"Recrit=10^5;\n",
"u=18.4;\n",
"b=4.7;//width\n",
"x=1.3;\n",
"mu=1.827/100000;\n",
"//calculation\n",
"//part1\n",
"rho=P*M/R/temp;\n",
"xcrit=Recrit*mu/rho/u;\n",
"a=1-xcrit/1.65;\n",
"disp(a*100,'% of surface over which turbulent boundary layer exist is :');\n",
"//part2\n",
"Rex=rho*u*x/mu;\n",
"thik=0.375*Rex^-.2*x;\n",
"disp(thik*100,'thickness of boundary layer in (cm):');\n",
"y=0.5*thik;\n",
"ux=u*(y/thik)^(1/7);\n",
"disp(ux,'velocity of air at mid point is (m/s):')\n",
"//part4\n",
"lthik=74.6*Rex^-.9*x;\n",
"disp(lthik*1000,'thickness of laminar boundary layer in (mm):');\n",
"//part5\n",
"ub=u*(lthik/thik)^(1/7);\n",
"disp(ub,'velocity at outer edge of laminar sublayer in (m/s):');\n",
"//part6\n",
"R=0.0286*rho*u^2*Rex^-0.2;\n",
"disp(R,'shearforce expericienced in (N/m^2):');\n",
"//part7\n",
"x1=1.65;//length of plate\n",
"Rex1=rho*u*x1/mu;\n",
"Rms=0.0358*rho*u^2*Rex1^-0.2;\n",
"disp(Rms,'mean shearforce in (N/m^2):');\n",
"//part8\n",
"F=x1*Rms*b;\n",
"disp(F,'total drag force expericienced by the plate is (N):');\n",
""
   ]
   }
,
{
		   "cell_type": "markdown",
		   "metadata": {},
		   "source": [
			"## Example 3.1_3: EX3_1_3.sce"
		   ]
		  },
  {
"cell_type": "code",
	   "execution_count": null,
	   "metadata": {
	    "collapsed": true
	   },
	   "outputs": [],
"source": [
"\n",
"\n",
"//exapple 3.3 \n",
"clc; funcprot(0);\n",
"// Initialization of Variable\n",
"Q=37.6/1000000;\n",
"d=3.2/100;\n",
"mu=1.002/1000;\n",
"rho=998;\n",
"pi=3.14;\n",
"//calculation\n",
"//part1\n",
"u=4*Q/pi/d^2;\n",
"Re=rho*u*d/mu;\n",
"disp(Re,'pipe flow reynolds no :');\n",
"disp('Water will be in streamline motion in the pipe');\n",
"//part2\n",
"a=-8*u/d;\n",
"disp(a,'velocity gradient at the pipe wall is (s^-1):');\n",
"//part3\n",
"Ro=-mu*a;\n",
"printf('Sherastress at pipe wall is (N/m^2) %.2e',Ro);\n",
"//part4\n",
"Q=2.10/1000;\n",
"u=4*Q/pi/d^2;\n",
"u=round(u*1000)/1000;\n",
"disp(u,'new av. fluid velocity is (m/s):');\n",
"Re=rho*u*d/mu;\n",
"phi=0.0396*Re^-0.25;//friction factor\n",
"phi=round(phi*10^5)/10^5;\n",
"delb=5*d*Re^-1*phi^-.5;\n",
"disp(delb*10^6,'thickness of laminar sublayer in (10^-6m):');\n",
"//part5\n",
"y=30*d/phi^0.5/Re;//thickness\n",
"tbl=y-delb;\n",
"disp(tbl*1000,'thickness of buffer layer in (mm):');\n",
"//part6\n",
"A=pi*d^2/4;//cross sectional area of pipe\n",
"dc=d-2*y;//dia of turbulent core\n",
"Ac=pi*dc^2/4;\n",
"p=(1-A/Ac)*100;\n",
"disp(p,'percentage of pipe-s core occupied by turbulent core is (%):');\n",
"//part7\n",
"uplus=5;//from reference\n",
"ux=uplus*u*phi^0.5;\n",
"disp(ux,'velocity where sublayer and buffer layer meet is (m/s):');\n",
"//part8\n",
"yplus=30;//from reference\n",
"ux2=u*phi^0.5*(2.5*log(yplus)+5.5);\n",
"disp(ux2,'velocity where turbulent core and buffer layer meet is (m/s):');\n",
"//part9\n",
"us=u/0.81;\n",
"disp(us,'fluid velocity along the pipe axis (m/s):');\n",
"//part10\n",
"Ro=phi*rho*u^2;\n",
"disp(Ro,'shearstress at pipe wall (N/m^2):');"
   ]
   }
],
"metadata": {
		  "kernelspec": {
		   "display_name": "Scilab",
		   "language": "scilab",
		   "name": "scilab"
		  },
		  "language_info": {
		   "file_extension": ".sce",
		   "help_links": [
			{
			 "text": "MetaKernel Magics",
			 "url": "https://github.com/calysto/metakernel/blob/master/metakernel/magics/README.md"
			}
		   ],
		   "mimetype": "text/x-octave",
		   "name": "scilab",
		   "version": "0.7.1"
		  }
		 },
		 "nbformat": 4,
		 "nbformat_minor": 0
}
