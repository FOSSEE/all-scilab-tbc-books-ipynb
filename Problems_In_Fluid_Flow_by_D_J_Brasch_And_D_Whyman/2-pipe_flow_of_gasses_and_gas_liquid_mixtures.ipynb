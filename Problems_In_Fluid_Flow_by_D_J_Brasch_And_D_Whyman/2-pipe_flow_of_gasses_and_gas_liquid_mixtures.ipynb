{
"cells": [
 {
		   "cell_type": "markdown",
	   "metadata": {},
	   "source": [
       "# Chapter 2: pipe flow of gasses and gas liquid mixtures"
	   ]
	},
{
		   "cell_type": "markdown",
		   "metadata": {},
		   "source": [
			"## Example 2.1_1: gas_flow_through_pipe_line_when_compressibility_must_be_considered.sce"
		   ]
		  },
  {
"cell_type": "code",
	   "execution_count": null,
	   "metadata": {
	    "collapsed": true
	   },
	   "outputs": [],
"source": [
"\n",
"\n",
"//exapple 2.1 \n",
"clc; funcprot(0);\n",
"// Initialization of Variable\n",
"pi=3.1428;\n",
"mmm=16.04/1000;//molar mass of methane\n",
"mV=22.414/1000;//molar volume\n",
"R=8.314;\n",
"mu=1.08/10^5;\n",
"r=4.2/100;//radius\n",
"rr=0.026/2/r;//relative roughness\n",
"Pfinal=560*1000;\n",
"tfinal=273+24;\n",
"l=68.5;\n",
"m=2.35;//mass flow rate\n",
"//calculation\n",
"A=pi*r^2;\n",
"A=round(A*10^5)/10^5;\n",
"rho=mmm/mV;\n",
"rho24=mmm*Pfinal*273/mV/101.3/tfinal;//density at 24'C\n",
"u=m/rho24/A;\n",
"Re=u*rho24*2*r/mu;\n",
"//from graph\n",
"phi=0.0032;\n",
"//for solving using fsolve we copy numerical value of constant terms\n",
"//using back calculation\n",
"//as pressure maintained should be more than Pfinal so guessed value is Pfinal;\n",
"function[y]=eqn(x)\n",
"    y=m^2/A^2*log(x/Pfinal)+(Pfinal^2-x^2)/2/R/tfinal*mmm+4*phi*l/2/r*m^2/A^2;\n",
"endfunction\n",
"[x,v,info]=fsolve(560*10^3,eqn);\n",
"disp(x/1000,'pressure maintained at compressor in (kN/m^2):');\n",
"\n",
""
   ]
   }
,
{
		   "cell_type": "markdown",
		   "metadata": {},
		   "source": [
			"## Example 2.1_2: flow_of_ideal_gas_at_maximum_velocity_under_isothermal_and_adiabatic_condition.sce"
		   ]
		  },
  {
"cell_type": "code",
	   "execution_count": null,
	   "metadata": {
	    "collapsed": true
	   },
	   "outputs": [],
"source": [
"\n",
"\n",
"//exapple 2.2 \n",
"clc; funcprot(0);\n",
"// Initialization of Variable\n",
"M=28.8/1000;\n",
"mu=1.73/10^5;\n",
"gamm=1.402;\n",
"P1=107.6*10^3;\n",
"V=22.414/1000;\n",
"R=8.314;\n",
"temp=285;\n",
"d=4/1000;\n",
"rr=0.0008;\n",
"phi=0.00285;\n",
"//calculation\n",
"//constant term of equation\n",
"//part1\n",
"a=1-8*phi*l/d;//constant term in deff\n",
"deff('y=f(x)','y=log(x^2)-x^2+2.938');\n",
"[x,v,info]=fsolve(1,f);\n",
"z=1/x;\n",
"z=round(z*1000)/1000;\n",
"disp(z,'ratio of Pw/P1');\n",
"//part2\n",
"Pw=z*P1;\n",
"nuw=V*P1*temp/Pw/M/273;\n",
"Uw=sqrt(nuw*Pw);\n",
"disp(Uw,'maximum velocity in (m/s):')\n",
"//part3\n",
"Gw=pi*d^2/4*Pw/Uw;\n",
"disp(Gw,'maximum mass flow rate in(kg/s):');\n",
"//part4\n",
"G=2.173/1000;\n",
"J=G*Uw^2/2;\n",
"disp(J,'heat taken up to maintain isothermal codition(J/s):');\n",
"//part5\n",
"nu2=2.79;//found from graph\n",
"nu1=R*temp/M/P1;\n",
"P2=P1*(nu1/nu2)^gamm;\n",
"disp(P2/P1,'crtical pressure ratio in adiabatic condition:');\n",
"//part6\n",
"Uw=sqrt(gamm*P2*nu2);\n",
"disp(Uw,'velocity at adiabatic condition in (m/s):');\n",
"//part7\n",
"Gw=pi*d^2/4*Uw/nu2;\n",
"disp(Gw,'mass flow rate at adiabatic condition in (kg/s):');\n",
"//part8\n",
"//polynomial in T of the form ax^2+bx+c=0;\n",
"c=gamm/(gamm-1)*P1*nu1+.5*Gw^2/pi^2/d^4*16*nu1^2;\n",
"b=gamm/(gamm-1)*R/M;\n",
"a=.5*Gw^2/pi^2/d^4*16*(R/M/P2)^2;\n",
"y=poly([-c b a],'x','coeff');\n",
"T2=roots(y);\n",
"disp(T2(2)-273,'temperature of discharging gas in (Celcius)');\n",
"\n",
"\n",
""
   ]
   }
,
{
		   "cell_type": "markdown",
		   "metadata": {},
		   "source": [
			"## Example 2.1_3: flow_of_a_non_ideal_gas_at_maximum_velocity_under_adiabatic_condition.sce"
		   ]
		  },
  {
"cell_type": "code",
	   "execution_count": null,
	   "metadata": {
	    "collapsed": true
	   },
	   "outputs": [],
"source": [
"\n",
"\n",
"//exapple 2.3 \n",
"clc; funcprot(0);\n",
"// Initialization of Variable\n",
"//1 refer to initial condition\n",
"R=8.314;\n",
"P1=550*10^3;\n",
"T1=273+350;\n",
"M=18/1000;\n",
"d=2.4/100;\n",
"pi=3.1428;\n",
"A=pi*d^2/4;\n",
"gamm=1.33;\n",
"roughness=0.096/1000/d;\n",
"l=0.85;\n",
"phi=0.0035//assumed value of friction factor\n",
"//calculation\n",
"nu1=R*T1/M/P1;\n",
"Pw=0.4*P1;//estimation\n",
"nuw=(P1/Pw)^0.75*nu1;\n",
"enthalpy=3167*1000;\n",
"Gw=sqrt(enthalpy*A^2/(gamm*nuw^2/(gamm-1)-nu1^2/2-nuw^2/2));\n",
"function[y]=eqn(x)\n",
" y=log(x/nu1)+(gamm-1)/gamm*(enthalpy/2*(A/Gw)^2*(1/x^2-1/nu1^2)+0.25*(nu1^2/x^2-1)-.5*log(x/nu1))+4*phi*l/d;\n",
"endfunction\n",
"deff('y=f(x)','eqn');\n",
"[x,v,info]=fsolve(0.2,eqn);\n",
"\n",
"if x~=nuw then\n",
"    disp('we again have to estimate Pw/P1');\n",
"    disp('new estimate assumed as 0.45')\n",
"    Pw=0.45*P1;//new estimation\n",
"    nuw=(P1/Pw)^0.75*nu1;\n",
"// & we equalise nu2 to nuw\n",
"nu2=nuw; \n",
"Gw=sqrt(enthalpy*A^2/(gamm*nuw^2/(gamm-1)-nu1^2/2-nuw^2/2));\n",
"printf('mass flow rate of steam through pipe (kg/s): %.2f',Gw); \n",
"//part 2\n",
"disp(Pw/1000,'pressure of pipe at downstream end in (kPa):');\n",
"  \n",
"else\n",
"    disp('our estimation is correct');\n",
"    \n",
"end\n",
"//part3\n",
"enthalpyw=2888.7*1000;//estimated from steam table\n",
"Tw=sqrt((enthalpy-enthalpyw+.5*Gw^2/A^2*nu1^2)*2*A^2/Gw^2/R^2*M^2*Pw^2);\n",
"disp(Tw-273,'temperature of steam emerging from pipe in (Celcius):')\n",
"\n",
"\n",
""
   ]
   }
,
{
		   "cell_type": "markdown",
		   "metadata": {},
		   "source": [
			"## Example 2.1_4: venting_of_gas_from_pressure_vessel.sce"
		   ]
		  },
  {
"cell_type": "code",
	   "execution_count": null,
	   "metadata": {
	    "collapsed": true
	   },
	   "outputs": [],
"source": [
"\n",
"\n",
"//exapple 2.4 \n",
"clc; funcprot(0);\n",
"// Initialization of Variable\n",
"M=28.05/1000;\n",
"gamm=1.23;\n",
"R=8.314;\n",
"atm=101.3*1000;\n",
"P1=3*atm;\n",
"//calculation\n",
"//part1\n",
"P2=P1*(2/(gamm+1))^(gamm/(gamm-1));\n",
"disp(P2/1000,'pressure at nozzle throat (kPa):')\n",
"//part2\n",
"temp=273+50;\n",
"nu1=R*temp/P1/M;\n",
"G=18;//mass flow rate\n",
"nu2=nu1*(P2/P1)^(-1/gamm);\n",
"A=G^2*nu2^2*(gamm-1)/(2*gamm*P1*nu1*(1-(P2/P1)^((gamm-1)/gamm)));\n",
"d=sqrt(4*sqrt(A)/pi);\n",
"disp(d*100,'diameter required at nozzle throat in (cm)')\n",
"//part3\n",
"vel=sqrt(2*gamm*P1*nu1/(gamm-1)*(1-(P2/P1)^((gamm-1)/gamm)));\n",
"disp(vel,'sonic velocity at throat in(m/s):');"
   ]
   }
,
{
		   "cell_type": "markdown",
		   "metadata": {},
		   "source": [
			"## Example 2.1_5: gas_flow_measurement_with_veturimeter.sce"
		   ]
		  },
  {
"cell_type": "code",
	   "execution_count": null,
	   "metadata": {
	    "collapsed": true
	   },
	   "outputs": [],
"source": [
"\n",
"\n",
"//exapple 2.5 \n",
"clc; funcprot(0);\n",
"// Initialization of Variable\n",
"T=273+15;\n",
"rho=999;\n",
"rhom=13559;//density of mercury\n",
"g=9.81;\n",
"P2=764.3/1000*rhom*g;\n",
"R=8.314;\n",
"M=16.04/1000;\n",
"d=4.5/1000;\n",
"A=pi*d^2/4;\n",
"G=0.75/1000;//mass flow rate\n",
"delP=(1-exp(R*T*G^2/2/P2^2/M/A^2))*P2;\n",
"h=-delP/rho/g;\n",
"disp(h*100,'height of manometer in (cm)')"
   ]
   }
,
{
		   "cell_type": "markdown",
		   "metadata": {},
		   "source": [
			"## Example 2.1_6: pressure_drop_required_for_flow_of_a_gas_liquid_mixture_through_pipe.sce"
		   ]
		  },
  {
"cell_type": "code",
	   "execution_count": null,
	   "metadata": {
	    "collapsed": true
	   },
	   "outputs": [],
"source": [
"\n",
"\n",
"//exapple 2.6 \n",
"clc; funcprot(0);\n",
"// Initialization of Variable\n",
"rhol=931;\n",
"mu=1.55/10000;//viscosity of water\n",
"Vsp=0.6057;//specific volume\n",
"T=273+133;\n",
"mug=1.38/100000;//viscosity of steam\n",
"P=300*1000;\n",
"d=0.075;\n",
"Gg=0.05;//mass flow gas phase\n",
"Gl=1.5;//mass flow liquid phase\n",
"A=pi*d^2/4;\n",
"//calculation\n",
"rhog=1/Vsp;\n",
"rhog=round(rhog*1000)/1000;\n",
"velg=Gg/A/rhog;\n",
"velg=round(velg*100)/100;\n",
"Reg=rhog*velg*d/mug;\n",
"//using chart\n",
"phig=0.00245;//friction factor gas phase\n",
"l=1;\n",
"delPg=4*phig*velg^2*rhog/d;\n",
"//consider liquid phase\n",
"vell=Gl/A/rho;\n",
"Rel=rho*vell*d/mu;\n",
"if Rel>4000 & Reg>4000 then\n",
"    disp('both liquid phase and solid phase in turbulent  motion');\n",
"    //from chart\n",
"end\n",
"PHIg=5;\n",
"delP=PHIg^2*delPg;\n",
"disp(delP,'required pressure drop per unit length in (Pa)')"
   ]
   }
],
"metadata": {
		  "kernelspec": {
		   "display_name": "Scilab",
		   "language": "scilab",
		   "name": "scilab"
		  },
		  "language_info": {
		   "file_extension": ".sce",
		   "help_links": [
			{
			 "text": "MetaKernel Magics",
			 "url": "https://github.com/calysto/metakernel/blob/master/metakernel/magics/README.md"
			}
		   ],
		   "mimetype": "text/x-octave",
		   "name": "scilab",
		   "version": "0.7.1"
		  }
		 },
		 "nbformat": 4,
		 "nbformat_minor": 0
}
