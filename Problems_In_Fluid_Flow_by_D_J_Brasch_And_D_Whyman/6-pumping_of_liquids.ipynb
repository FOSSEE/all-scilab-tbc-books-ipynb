{
"cells": [
 {
		   "cell_type": "markdown",
	   "metadata": {},
	   "source": [
       "# Chapter 6: pumping of liquids"
	   ]
	},
{
		   "cell_type": "markdown",
		   "metadata": {},
		   "source": [
			"## Example 6.1_1: cavitation_and_its_avoidance_in_suction_pipes.sce"
		   ]
		  },
  {
"cell_type": "code",
	   "execution_count": null,
	   "metadata": {
	    "collapsed": true
	   },
	   "outputs": [],
"source": [
"\n",
"//example 6.1\n",
"clc; funcprot(0);\n",
"//exapple 6.1 \n",
"// Initialization of Variable\n",
"atp=100.2*1000;\n",
"g=9.81;\n",
"rho_w=996;\n",
"rho_toluene=867;\n",
"vap_pre_toluene=4.535*1000;\n",
"viscosity_toluene=5.26/10000;\n",
"//calculation\n",
"m=(atp-vap_pre_toluene)/rho_toluene/g;\n",
"disp(m,'Max. height of toluene supported by atm. pressure (in m):');\n",
"//part(1)\n",
"hopw=0.650;//head of pump in terms of water\n",
"hopt=hopw*rho_w/rho_toluene;//head of pump in terms of toluene\n",
"Q=1.8*10^-3;//flow in m^3/s\n",
"d=2.3*10^-2;//diameter of pipe\n",
"pi=3.14127;\n",
"//u=4*Q/pi/d^2\n",
"//substituting this for reynolds no.\n",
"Re=4*Q*rho_toluene/pi/d/viscosity_toluene;//reynolds no.\n",
"disp(Re ,'reynolds no :');\n",
"phi=0.0396*Re^-0.25;\n",
"//since both LHS and RHS are function of x(max. ht. ab. toluene) \n",
"//we define a new variable to solve the eqn\n",
"//y=(atp/rho_toluene/g)-(vap_pre_toluene/rho_toluene/g)-(4*phi*16*Q^2*x/pi^2/d^5/g)-hopt;\n",
"//y=x \n",
"//these are two equations\n",
"b=[0;((atp/rho_toluene/g)-(vap_pre_toluene/rho_toluene/g)-hopt)];\n",
"A=[1 -1;1 4*phi*16*Q^2/pi^2/d^5/g];\n",
"x=A\b;\n",
"disp(x(2,1), 'the maximum height above toulene in the tank the pump can be located without risk while flow rate is 1.80dm^3/s (in m):');\n",
"//solution of part(2)\n",
"l=9//length \n",
"u=sqrt(((atp/rho_toluene/g)-(vap_pre_toluene/rho_toluene/g)-hopt-l)*d*g/4/phi/l);//fluid velocity in pipes\n",
"Q=pi*d^2*u/4;\n",
"disp(Q,'Maximum delivery rate if pump is located 9m above toluene tank(in m^3/s)')\n",
"//solution of part(3)\n",
"//clubing d together we get\n",
"Q=1.8/1000;\n",
"a=(atp/rho_toluene/g)-(vap_pre_toluene/rho_toluene/g)-hopt-l;\n",
"b=a*pi^2*g/4/9/16/Q^2/0.0396/(4*Q*rho_toluene/pi/viscosity_toluene)^-0.25;\n",
"d=(1/b)^(1/4.75);\n",
"disp(d , 'minimum smooth diameter of suction pipe which will have flow rate as (1.8 dm^3/s) for pump kept at 9 m high (in m):');\n",
"\n",
"\n",
"\n",
"\n",
"\n",
"\n",
"\n",
"\n",
"\n",
"\n",
"\n",
""
   ]
   }
,
{
		   "cell_type": "markdown",
		   "metadata": {},
		   "source": [
			"## Example 6.1_2: specific_speed_of_a_centrifugal_pump.sce"
		   ]
		  },
  {
"cell_type": "code",
	   "execution_count": null,
	   "metadata": {
	    "collapsed": true
	   },
	   "outputs": [],
"source": [
"\n",
"//example 6.2\n",
"clc; funcprot(0);\n",
"//exapple 6.2 \n",
"// Initialization of Variable\n",
"Q1=24.8/1000;//flow in pump 1\n",
"d1=11.8/100;//diameter of impeller 1\n",
"H1=14.7//head of pump 1\n",
"N1=1450//frequency of motor 1\n",
"Q2=48/1000//flow in pump 2\n",
"//calculation\n",
"H2=1.15*H1;//head of pump 2\n",
"specific_speed=N1*Q1^0.5/H1^0.75;\n",
"N2=specific_speed*H2^0.75/Q2^0.5;//frequency of motor 2\n",
"disp(N2 ,'frequency of motor 2 in rpm');\n",
"d2=sqrt(N2^2*H1/H2/N1^2/d1^2);\n",
"disp(1/d2 , 'diametr of impeller 2 (in m)');\n",
""
   ]
   }
,
{
		   "cell_type": "markdown",
		   "metadata": {},
		   "source": [
			"## Example 6.1_3: theoritical_and_effective_characteristic_of_centrifugal_pump_flow_rate.sce"
		   ]
		  },
  {
"cell_type": "code",
	   "execution_count": null,
	   "metadata": {
	    "collapsed": true
	   },
	   "outputs": [],
"source": [
"\n",
"//example 6.3\n",
"clc; funcprot(0);\n",
"clf()\n",
"//exapple 6.3 \n",
"// Initialization of Variable\n",
"Q=[0 0.01 0.02 0.03 0.04 0.05];//discharge\n",
"effi_hyd=[65.4 71 71.9 67.7 57.5 39.2];\n",
"effi_over=[0 36.1 56.0 61.0 54.1 37.0];\n",
"H_sys=[0 0 0 0 0 0]\n",
"d=0.114;//diameter of pipe\n",
"d_o=0.096;//diameter of impeller\n",
"h=8.75;//elevation\n",
"g=9.81;//acc. of gravity\n",
"rho=999;//denisity of water\n",
"l=60;//length of pipe\n",
"theta=0.611;//angle in radians\n",
"B=0.0125;//width of blades\n",
"pi=3.1412\n",
"mu=1.109/1000;//viscosity of water\n",
"omega=2*pi*1750/60;\n",
"// calculation\n",
" for i=1:6\n",
"     if i==1 then\n",
"     H_sys(i)=h;\n",
" else\n",
"     \n",
"    H_sys(i)=h+8*Q(i)^2/pi^2/d^4/g*(1+8*l*0.0396/d*(4*rho*Q(i)/pi/d/mu)^-0.25);\n",
"end,\n",
"end;\n",
"H_theor=omega^2*d_o^2/g-omega*Q/2/pi/g/B/tan(theta);\n",
"//disp(H_sys'head of system (in m)');\n",
"//disp(H_theor);\n",
"for i=1:6\n",
"    H_eff(i)=effi_hyd(i)*H_theor(i)/100;\n",
"end\n",
"//disp(H_eff);\n",
"plot(Q,effi_hyd, 'r--d');\n",
"plot(Q,effi_over, 'g');\n",
"plot(Q,H_eff,'k');\n",
"plot(Q,H_theor);\n",
"plot(Q,H_sys ,'c-');\n",
"title('system characteritics');\n",
"ylabel('Head(m)or Efficiency(%)');\n",
"xlabel('volumetric flow rate(m^3/s)');\n",
"//calculation of power\n",
"//at intersecting point using datatrip b/w H_sys &H_eff\n",
"Q=0.0336\n",
"effi_over=59.9\n",
"H_eff=13.10\n",
"P=H_eff*rho*g*Q/effi_over/10;\n",
"disp(P ,'Power required to pump fluid at this rate(in KW):')\n",
"\n",
"\n",
"\n",
""
   ]
   }
,
{
		   "cell_type": "markdown",
		   "metadata": {},
		   "source": [
			"## Example 6.1_4: flow_rate_when_cetrifugal_pumps_operate_singly_and_in_parallel.sce"
		   ]
		  },
  {
"cell_type": "code",
	   "execution_count": null,
	   "metadata": {
	    "collapsed": true
	   },
	   "outputs": [],
"source": [
"clc; funcprot(0);\n",
"clf()\n",
"//exapple 6.4 \n",
"// Initialization of Variable\n",
"//each is increased by five units to make each compatible for graph plotting\n",
"Q=[0 0.01 0.02 0.03 0.04 0.05 0.06 0.07 0.08 0.09 0.1];//flow rate\n",
"HeffA=[20.63 19.99 17.80 14.46 10.33 5.71 0 0 0 0 0 ];//Heff of pump A\n",
"HeffB=[18 17 14.95 11.90 8.10 3.90 0 0 0 0 0];//Heff of pump B\n",
"alpha=1;\n",
"h=10.4;\n",
"d=0.14;\n",
"l=98;\n",
"pi=3.1412;\n",
"g=9.81;\n",
"rho=999;\n",
"for i=1:11\n",
"     if i==1 then\n",
"     H_sys(i)=h;\n",
" else\n",
"     \n",
"    H_sys(i)=h+8*Q(i)^2/pi^2/d^4/g*(1+8*l*0.0396/d*(4*rho*Q(i)/pi/d/mu)^-0.25);\n",
"end,\n",
"end;\n",
"//H_sys is head of the system\n",
"disp(H_sys, 'the head of system in terms of height of water :');\n",
"plot(Q,H_sys,'r--d');\n",
"plot(Q,HeffA ,'-c');\n",
"plot(Q,HeffB);\n",
"//at intersecting point using datatrip b/w H_sys &H_effA\n",
"disp(0.03339,'the flow rate at which H_sys takes over HeffA'); "
   ]
   }
,
{
		   "cell_type": "markdown",
		   "metadata": {},
		   "source": [
			"## Example 6.1_5: pumping_with_a_reciprocating_pump.sce"
		   ]
		  },
  {
"cell_type": "code",
	   "execution_count": null,
	   "metadata": {
	    "collapsed": true
	   },
	   "outputs": [],
"source": [
"\n",
"//example 6.5\n",
"clc; funcprot(0);\n",
"//exapple 6.5 \n",
"// Initialization of Variable\n",
"rho=1000;\n",
"dc=.15;\n",
"l=7.8;\n",
"g=9.81;\n",
"pi=3.1428;\n",
"atp=105.4*1000;\n",
"vap_pre=10.85*1000;\n",
"sl=.22;\n",
"dp=0.045;\n",
"h=4.6;\n",
"//('x(t)=sl/2*cos(2*pi*N*t)'  'the function of displcement');\n",
"//'since we have to maximize the acceleration double derivate the terms');\n",
"//since double derivation have the term cos(kt) \n",
"//finding it maxima\n",
"t=linspace(0,5,100);\n",
"k=1;\n",
"function[m,v]= maximacheckerforcosine()\n",
"h=0.00001;\n",
"a=0.00;\n",
"for i=1:400 \n",
"    if (cos(a+h)-cos(a-h))/2*h==0 & cos(i-1)>0 then\n",
"break;\n",
"else \n",
"    a=0.01+a;\n",
"end \n",
"break;   \n",
"end\n",
"m=i-1;\n",
"v=cos(i-1);\n",
"endfunction;\n",
"[a, b]= maximacheckerforcosine();\n",
"disp(a,'time t when the acceleration will be maximum(s)');\n",
"//double derivative will result in a square of value of N\n",
"//lets consider its coefficient all will be devoid of N^2 \n",
"k=sl/2*(2*pi)^2//accn max of piston\n",
"kp=k*1/4*pi*dc^2/1*4/pi/dp^2;//accn coeff. ofsuction pipe\n",
"f=1/4*pi*dp^2*l*rho*kp;//force exerted by piston\n",
"p=f/1*4/pi/dp^2;//pressure exerted by piston\n",
"//calculation\n",
"o=atp-h*rho*g-vap_pre;\n",
"//constant term of quadratic eqn\n",
"y=poly([o 0 -p],'N', 'coeff')\n",
"a=roots(y);\n",
"disp(abs(a(1,1)),'Maximum frequency of oscillation if cavitation o be avoided(in Hz)');\n",
"\n",
"\n",
"\n",
"\n",
"\n",
"\n",
"\n",
""
   ]
   }
,
{
		   "cell_type": "markdown",
		   "metadata": {},
		   "source": [
			"## Example 6.1_6: pumping_with_a_air_lift_pump.sce"
		   ]
		  },
  {
"cell_type": "code",
	   "execution_count": null,
	   "metadata": {
	    "collapsed": true
	   },
	   "outputs": [],
"source": [
"\n",
"//example 6.6\n",
"clc; funcprot(0);\n",
"//exapple 6.6 \n",
"// Initialization of Variable\n",
"rhos=1830;//density of acid\n",
"atp=104.2*1000;//atmospheric pressure\n",
"temp=11+273;//temp in kelvin\n",
"M=28.8/1000;//molar mass of air\n",
"R=8.314;//universal gas constant\n",
"g=9.81;//acceleration of gravity\n",
"pi=3.14;\n",
"d=2.45;//diameter of tank\n",
"l=10.5;//length of tank\n",
"h_s=1.65;//height of surface of acid from below\n",
"effi=0.93//efficiency\n",
"//calculation\n",
"mliq=pi*d^2*l*rhos/4;\n",
"h_atm=atp/rhos/g;//height conversion of atp\n",
"h_r=4.3-1.65;//height difference\n",
"mair=g*h_r*mliq*M/(effi*R*temp*log(h_atm/(h_atm+h_s)));//mass of air\n",
"disp(mair,'mass of air required to lift the sulphuric acid tank');\n",
"disp('The negative sign indicates air is expanding & work done is magnitude of value in kg:');\n",
"m=abs(mair/mliq);\n",
"disp(m, 'The mass of air required for per kilo of acid transferred:');\n",
""
   ]
   }
],
"metadata": {
		  "kernelspec": {
		   "display_name": "Scilab",
		   "language": "scilab",
		   "name": "scilab"
		  },
		  "language_info": {
		   "file_extension": ".sce",
		   "help_links": [
			{
			 "text": "MetaKernel Magics",
			 "url": "https://github.com/calysto/metakernel/blob/master/metakernel/magics/README.md"
			}
		   ],
		   "mimetype": "text/x-octave",
		   "name": "scilab",
		   "version": "0.7.1"
		  }
		 },
		 "nbformat": 4,
		 "nbformat_minor": 0
}
