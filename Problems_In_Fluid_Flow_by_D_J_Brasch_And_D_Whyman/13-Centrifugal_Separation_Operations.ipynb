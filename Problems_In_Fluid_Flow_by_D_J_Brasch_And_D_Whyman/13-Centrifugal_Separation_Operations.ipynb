{
"cells": [
 {
		   "cell_type": "markdown",
	   "metadata": {},
	   "source": [
       "# Chapter 13: Centrifugal Separation Operations"
	   ]
	},
{
		   "cell_type": "markdown",
		   "metadata": {},
		   "source": [
			"## Example 13.1_1: Equations_of_centrifugal_operations.sce"
		   ]
		  },
  {
"cell_type": "code",
	   "execution_count": null,
	   "metadata": {
	    "collapsed": true
	   },
	   "outputs": [],
"source": [
"\n",
"\n",
"//exapple 13.1 \n",
"clc; funcprot(0);\n",
"// Initialization of Variable\n",
"rho=998;\n",
"g=9.81;\n",
"pi=3.1428;\n",
"omega=2*pi*1055/60;//angular rotation\n",
"r=2.55/100//radius outer\n",
"ld=1.55/100;//liq. depth\n",
"l=10.25/100;\n",
"//calculation\n",
"//part1\n",
"a=r*omega^2/g;\n",
"disp(a,'ratio of cetrifugal force & gravitational force is:');\n",
"//part2\n",
"ri=r-ld;//radius internal\n",
"V=pi*(r^2-ri^2)*l;\n",
"sigma=(omega^2*V)/(g*log(r/ri));\n",
"disp(sigma,'equivalent to gravity settling tank of crossectional area of in (m^2):')"
   ]
   }
,
{
		   "cell_type": "markdown",
		   "metadata": {},
		   "source": [
			"## Example 13.1_2: fluid_pressure_in_tubular_bowl_centrifuge.sce"
		   ]
		  },
  {
"cell_type": "code",
	   "execution_count": null,
	   "metadata": {
	    "collapsed": true
	   },
	   "outputs": [],
"source": [
"\n",
"\n",
"//exapple 13.2 \n",
"clc; funcprot(0);\n",
"// Initialization of Variable\n",
"sigma=55*10^6;//maximum stress\n",
"d=35.2/100;\n",
"rhos=8890;//density of bronze\n",
"rho=1105;//density of solution\n",
"t=80/1000;//thickness\n",
"tau=4.325/1000;\n",
"pi=3.1428;\n",
"//calculation\n",
"//part1\n",
"ri=d/2-t;//radius internal\n",
"function [y ]= fround(x,n)\n",
"// fround(x,n)\n",
"// Round the floating point numbers x to n decimal places\n",
"// x may be a vector or matrix// n is the integer number of places to round to\n",
"y=round(x*10^n)/10^n;\n",
"endfunction\n",
"omega=sqrt((sigma*tau*2/d)/(.5*rho*(d^2/4-ri^2)+rhos*tau*d/2));\n",
"N=60*omega/2/pi;\n",
"disp(N,'The maximum safe speed allowed in rpm:');\n",
"//part2\n",
"P=.5*rho*(d^2/4-ri^2)*omega^2;\n",
"P=fround(P/10^4,1)*10^4;\n",
"//disp(P,'the power in N/m^2:');\n",
"printf('the power in N/m^2: %3.2e\n', P);\n",
"a=rho*omega^2*d/2;\n",
"a=fround(a/10^6,1)*10^6;\n",
"//disp(a,'pressure gradient in radial direction in N/m^3:')\n",
"printf('pressure gradient in radial direction in N/m^3: %3.2e\n', a);"
   ]
   }
,
{
		   "cell_type": "markdown",
		   "metadata": {},
		   "source": [
			"## Example 13.1_3: particle_size_determination_of_fine_particles.sce"
		   ]
		  },
  {
"cell_type": "code",
	   "execution_count": null,
	   "metadata": {
	    "collapsed": true
	   },
	   "outputs": [],
"source": [
"\n",
"\n",
"//exapple 13.3 \n",
"clc; funcprot(0);\n",
"// Initialization of Variable\n",
"rhos=1425;//density of organic pigment\n",
"rho=998;//density of water\n",
"pi=3.1428;\n",
"omega=360*2*pi/60;\n",
"mu=1.25/1000;\n",
"t=360;\n",
"r=0.165+0.01;\n",
"ro=0.165;\n",
"//calculation\n",
"d=sqrt(18*mu*log(r/ro)/t/(rhos-rho)/omega^2);\n",
"printf('the minimum diameter in organic pigment in m: %3.1e\n', d);"
   ]
   }
,
{
		   "cell_type": "markdown",
		   "metadata": {},
		   "source": [
			"## Example 13.1_4: flow_rates_in_continuous_centrifugal_sedimentation.sce"
		   ]
		  },
  {
"cell_type": "code",
	   "execution_count": null,
	   "metadata": {
	    "collapsed": true
	   },
	   "outputs": [],
"source": [
"\n",
"\n",
"//exapple 13.4 \n",
"clc; funcprot(0);\n",
"// Initialization of Variable\n",
"rhos=1455;//density of crystals\n",
"rho=998;//density of wliquid\n",
"g=9.81;\n",
"pi=3.1428;\n",
"mu=1.013/1000;\n",
"omega=2*pi*60000/60;\n",
"l=0.5;\n",
"d=2*10^-6;//dia of particles\n",
"r=50.5/1000;//radius\n",
"t=38.5/1000;//thickness of liquid\n",
"//calculation\n",
"ri=r-t;\n",
"V=pi*l*(r^2-ri^2);\n",
"Q=d^2*(rhos-rho)/18/mu*omega^2*V/log(r/ri);\n",
"disp(Q,'the maximum volumetric flow rate in (m^3/s):')"
   ]
   }
,
{
		   "cell_type": "markdown",
		   "metadata": {},
		   "source": [
			"## Example 13.1_5: separation_of_two_immiscible_liquid_by_centrifugation.sce"
		   ]
		  },
  {
"cell_type": "code",
	   "execution_count": null,
	   "metadata": {
	    "collapsed": true
	   },
	   "outputs": [],
"source": [
"\n",
"\n",
"//exapple 13.5 \n",
"clc; funcprot(0);\n",
"// Initialization of Variable\n",
"rhoc=867;//density of cream\n",
"rhom=1034;//density of skimmem milk\n",
"rm=78.2/1000;//radius of skimmed milk\n",
"rc=65.5/1000;//radius of cream\n",
"//calculation\n",
"r=sqrt((rhom*rm^2-rhoc*rc^2)/(rhom-rhoc));\n",
"disp(r,'distance of xis of rotation of cream milk interface in (m):')"
   ]
   }
,
{
		   "cell_type": "markdown",
		   "metadata": {},
		   "source": [
			"## Example 13.1_6: Cyclone_Separators.sce"
		   ]
		  },
  {
"cell_type": "code",
	   "execution_count": null,
	   "metadata": {
	    "collapsed": true
	   },
	   "outputs": [],
"source": [
"\n",
"\n",
"//exapple 13.6 \n",
"clc; funcprot(0);\n",
"// Initialization of Variable\n",
"rho=1.210;//density of air\n",
"mu=1.78/10^5;\n",
"g=9.81;\n",
"rhos=2655;//density of ore\n",
"pi=3.1428;\n",
"d=0.095;\n",
"dp=2*10^-6//particle diameter\n",
"dt=0.333;//dia of cyclone separator\n",
"h=1.28;\n",
"//calculation\n",
"U=dp^2*g*(rhos-rho)/18/mu;\n",
"Q=0.2*(pi*d^2/4)^2*d*g/U/pi/h/dt;\n",
"disp(Q,'volumetric flow rate in(m^3/s):')"
   ]
   }
,
{
		   "cell_type": "markdown",
		   "metadata": {},
		   "source": [
			"## Example 13.1_7: efficiency_of_cyclone_separators.sce"
		   ]
		  },
  {
"cell_type": "code",
	   "execution_count": null,
	   "metadata": {
	    "collapsed": true
	   },
	   "outputs": [],
"source": [
"\n",
"\n",
"//exapple 13.6 \n",
"clc; funcprot(0);\n",
"// Initialization of Variable\n",
"b=4.46*10^4;\n",
"c=1.98*10^4;\n",
"s=0;\n",
"function[a]=intregrate()\n",
"    s=0;\n",
"    for i=1:10889\n",
"        d=linspace(0,10000,10889);\n",
"        y=(1-exp(-b*d(i))*c*(1-exp(-c*d(i))))*0.69;;\n",
"        s=s+y;\n",
"        \n",
"    end\n",
"    a=y;\n",
"endfunction\n",
"a=intregrate();\n",
"disp(a*100,'overall efficiency of cyclone separator in %');"
   ]
   }
],
"metadata": {
		  "kernelspec": {
		   "display_name": "Scilab",
		   "language": "scilab",
		   "name": "scilab"
		  },
		  "language_info": {
		   "file_extension": ".sce",
		   "help_links": [
			{
			 "text": "MetaKernel Magics",
			 "url": "https://github.com/calysto/metakernel/blob/master/metakernel/magics/README.md"
			}
		   ],
		   "mimetype": "text/x-octave",
		   "name": "scilab",
		   "version": "0.7.1"
		  }
		 },
		 "nbformat": 4,
		 "nbformat_minor": 0
}
