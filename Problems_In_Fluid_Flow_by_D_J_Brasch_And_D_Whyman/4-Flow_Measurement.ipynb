{
"cells": [
 {
		   "cell_type": "markdown",
	   "metadata": {},
	   "source": [
       "# Chapter 4: Flow Measurement"
	   ]
	},
{
		   "cell_type": "markdown",
		   "metadata": {},
		   "source": [
			"## Example 4.1_1: use_of_pitot_tube_to_measure_flow_rate.sce"
		   ]
		  },
  {
"cell_type": "code",
	   "execution_count": null,
	   "metadata": {
	    "collapsed": true
	   },
	   "outputs": [],
"source": [
"\n",
"\n",
"//exapple 4.1 \n",
"clc; funcprot(0);\n",
"// Initialization of Variable\n",
"rho=998;\n",
"rhom=1.354*10^4;//density  of mercury\n",
"M=2.83/100;\n",
"mu=1.001/1000;\n",
"mun=1.182/10^5;//vicosity of natural gas\n",
"R=8.314;\n",
"g=9.81;\n",
"h=28.6/100;\n",
"d=54/100;\n",
"//part1\n",
"nu=1/rho;\n",
"delP=h*g*(rhom-rho);\n",
"umax=sqrt(2*nu*delP);\n",
"umax=round(umax*10)/10;\n",
"disp(umax,'maximum fluid velocity in (m/s)');\n",
"Re=umax*d*rho/mu;\n",
"printf('reynold no. is %.2e',Re);\n",
"//using chart\n",
"u=0.81*umax;\n",
"G=rho*pi*d^2/4*u;\n",
"disp(G,'mass flow rate in (kg/s):');\n",
"disp(G/rho,'Volumetric flow rate in (m^3/s):');\n",
"//part2\n",
"P1=689*1000;//initial pressure\n",
"T=273+21;\n",
"nu1=R*T/M/P1;\n",
"nu1=round(nu1*10000)/10000;\n",
"rhog=1/nu1;//density of gas\n",
"h=17.4/100;\n",
"P2=P1+h*(rho-rhog)*g;\n",
"P2=round(P2/100)*100;\n",
"umax2=sqrt(2*P1*nu1*log(P2/P1));\n",
"disp(umax2,'maximum fluid velocity in (m/s)');\n",
"Re=rhog*umax2*d/mun;\n",
"printf('reynold no. is %.3e',Re);\n",
"//from table\n",
"u=0.81*umax2;\n",
"Q=pi*d^2/4*u;\n",
"disp(Q,'volumetric flow rate is (m^3/s):');\n",
"disp(Q*rhog,'mass flow rate  in (kg/s):')\n",
"\n",
""
   ]
   }
,
{
		   "cell_type": "markdown",
		   "metadata": {},
		   "source": [
			"## Example 4.1_2: use_of_pitot_tube_to_measure_flow_of_gas.sce"
		   ]
		  },
  {
"cell_type": "code",
	   "execution_count": null,
	   "metadata": {
	    "collapsed": true
	   },
	   "outputs": [],
"source": [
"\n",
"\n",
"//exapple 4.2 \n",
"clc; funcprot(0);\n",
"// Initialization of Variable\n",
"rd=[0 1 2.5 5 10 15 17.5]/100;//radial distance from pipe\n",
"dlv=[0 0.2 0.36 0.54 0.81 0.98 1]/100;//differnce in liquid levels\n",
"r=[.175 .165 .150 .125 .075 .025 0];//\n",
"g=9.81;\n",
"R=8.314;\n",
"rho=999;\n",
"temp=289;\n",
"P1=148*1000;\n",
"M=7.09/100;\n",
"pi=3.12\n",
"rhoCl2=P1*M/R/temp;//density of Cl2\n",
"nuCl2=1/rhoCl2;//specific volume of Cl2\n",
"function[y]=P2(x);\n",
"    y=P1+x*(rho-rhoCl2)*g;\n",
"endfunction\n",
"for i=1:7\n",
"    y=P2(dlv(i));\n",
"    u(i)=sqrt(2*P1*nuCl2*log(y/P1));\n",
"    a(i)=u(i)*r(i);\n",
"end\n",
"clf();\n",
"plot(r,a);\n",
"xtitle('','r (m)','u*r (m^2/s)');\n",
"s=0;\n",
"for i=1:6//itegration of the plotted graph\n",
"    s=abs((r(i)-r(i+1))*.5*(a(i)+a(1+1)))+s;\n",
"end\n",
"s=s-0.01;\n",
"Q=2*pi*s;\n",
"disp(Q,'volumetric flow rate (m^3/s):');\n",
"disp(Q*rhoCl2,'mass flow rate of chlorine gas (kg/s)')\n",
""
   ]
   }
,
{
		   "cell_type": "markdown",
		   "metadata": {},
		   "source": [
			"## Example 4.1_3: use_of_orifice_and_manometer_to_measure_flow.sce"
		   ]
		  },
  {
"cell_type": "code",
	   "execution_count": null,
	   "metadata": {
	    "collapsed": true
	   },
	   "outputs": [],
"source": [
"\n",
"\n",
"//exapple 4.3 \n",
"clc; funcprot(0);\n",
"// Initialization of Variable\n",
"pi=3.14;\n",
"Cd=0.61;\n",
"rho=999;\n",
"rhoo=877;//density of oil\n",
"g=9.81;\n",
"h=75/100;\n",
"d=12.4/100;//dia of orifice\n",
"d1=15/100;//inside diameter\n",
"nuo=1/rhoo;//specific volume of oil\n",
"//calculation\n",
"//part1\n",
"delP=h*(rho-rhoo)*g;\n",
"A=pi*d^2/4;\n",
"G=Cd*A/nuo*sqrt(2*nuo*delP/(1-(d/d1)^4));\n",
"disp(G,'mass flow rate in (kg/s)')\n",
"//part2\n",
"h=(1+0.5)*d1;\n",
"delP=rhoo/2*(G*nuo/Cd/A)^2*(1-(d/d1)^4)+h*rhoo*g;\n",
"disp(delP,'pressuer differnce between tapping points');\n",
"delh=(delP-h*rhoo*g)/(rho-rhoo)/g;\n",
"disp(delh,'difference in water levels in manometer i (cm)')"
   ]
   }
,
{
		   "cell_type": "markdown",
		   "metadata": {},
		   "source": [
			"## Example 4.1_4: EX4_1_4.sce"
		   ]
		  },
  {
"cell_type": "code",
	   "execution_count": null,
	   "metadata": {
	    "collapsed": true
	   },
	   "outputs": [],
"source": [
"\n",
"\n",
"//exapple 4.4 \n",
"clc; funcprot(0);\n",
"// Initialization of Variable\n",
"rhom=1.356*10^4;//density mercury\n",
"rhon=1266;//density NaOH\n",
"Cd=0.61;\n",
"g=9.81;\n",
"Cdv=0.98;//coeff. of discharge of venturimeter\n",
"Cdo=Cd;//coeff. of discharge of orificemeter\n",
"d=6.5/100;\n",
"pi=3.14;\n",
"A=pi*d^2/4;\n",
"Q=16.5/1000;\n",
"h=0.2;//head differnce\n",
"//calculation\n",
"//part1\n",
"delP=g*h*(rhom-rhon);\n",
"G=rhon*Q;\n",
"nun=1/rhon;//specific volume of NaOH\n",
"Ao=G*nun/Cd*sqrt(1/(2*nun*delP+(G*nun/Cd/A)^2));//area of orifice\n",
"d0=sqrt(4*Ao/pi)\n",
"disp(d0*100,'diameter of orifice in (cm):');\n",
"//part2\n",
"a=(Cdv/Cdo)^2;\n",
"disp(a,'ratio of pressure drop ')"
   ]
   }
,
{
		   "cell_type": "markdown",
		   "metadata": {},
		   "source": [
			"## Example 4.1_5: use_of_rotatometer_for_flow_measurement.sce"
		   ]
		  },
  {
"cell_type": "code",
	   "execution_count": null,
	   "metadata": {
	    "collapsed": true
	   },
	   "outputs": [],
"source": [
"\n",
"\n",
"//exapple 4.5 \n",
"clc; funcprot(0);\n",
"// Initialization of Variable\n",
"M=3.995/100;\n",
"g=9.81;\n",
"R=8.314;\n",
"Cd=0.94;\n",
"temp=289;\n",
"df=9.5/1000;//diameter of float\n",
"Af=pi*df^2/4;//area of float\n",
"P=115*10^3;\n",
"V=0.92/10^6;\n",
"rhoc=3778;//density of ceramic\n",
"//calculation\n",
"rho=P*M/R/temp;\n",
"nu=1/rho;\n",
"P=V*(rhoc-rho)*g/Af;\n",
"disp(P,'pressure drop over the float in (Pa):');\n",
"//part2\n",
"x=.15/25*(25-7.6);\n",
"L=df*100+2*x;\n",
"L=L/100;\n",
"A1=pi*L^2/4;\n",
"A0=A1-Af;\n",
"G=Cd*A0*sqrt(2*rho*P/(1-(A0/A1)^2));\n",
"printf('mass flow rate in (kg/s) is %.3e',G);\n",
"Q=G/rho;\n",
"disp(Q,'Volumetric flow rate in (m^3/s):')"
   ]
   }
,
{
		   "cell_type": "markdown",
		   "metadata": {},
		   "source": [
			"## Example 4.1_6: mass_of_float_required_to_measure_fluid_rate_in_rotatometer.sce"
		   ]
		  },
  {
"cell_type": "code",
	   "execution_count": null,
	   "metadata": {
	    "collapsed": true
	   },
	   "outputs": [],
"source": [
"\n",
"\n",
"//exapple 4.6 \n",
"clc; funcprot(0);\n",
"// Initialization of Variable\n",
"rho=999;\n",
"rhos=8020;//density of steel\n",
"g=9.81;\n",
"pi=3.14;\n",
"df=14.2/1000;//dia of float\n",
"Af=pi*df^2/4;//area of float\n",
"Cd=0.97;\n",
"nu=1/rho;\n",
"Q=4/1000/60;\n",
"G=Q*rho;\n",
"//calculation\n",
"x=0.5*(18.8-df*1000)/280*(280-70);\n",
"L=df*1000+2*x;\n",
"L=L/1000;\n",
"A1=pi*L^2/4;\n",
"A0=A1-Af;\n",
"Vf=Af/g/(rhos-rho)/2/nu*(G*nu/Cd/A0)^2*(1-(A0/A1)^2);\n",
"m=Vf*rhos;\n",
"disp(m*1000,'mass of float equired in (g):')"
   ]
   }
],
"metadata": {
		  "kernelspec": {
		   "display_name": "Scilab",
		   "language": "scilab",
		   "name": "scilab"
		  },
		  "language_info": {
		   "file_extension": ".sce",
		   "help_links": [
			{
			 "text": "MetaKernel Magics",
			 "url": "https://github.com/calysto/metakernel/blob/master/metakernel/magics/README.md"
			}
		   ],
		   "mimetype": "text/x-octave",
		   "name": "scilab",
		   "version": "0.7.1"
		  }
		 },
		 "nbformat": 4,
		 "nbformat_minor": 0
}
