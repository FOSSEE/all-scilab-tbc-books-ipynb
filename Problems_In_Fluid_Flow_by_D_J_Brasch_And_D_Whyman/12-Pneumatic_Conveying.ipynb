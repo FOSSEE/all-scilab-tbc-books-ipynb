{
"cells": [
 {
		   "cell_type": "markdown",
	   "metadata": {},
	   "source": [
       "# Chapter 12: Pneumatic Conveying"
	   ]
	},
{
		   "cell_type": "markdown",
		   "metadata": {},
		   "source": [
			"## Example 12.1_1: flow_pattern_in_pneumatic_conveying.sce"
		   ]
		  },
  {
"cell_type": "code",
	   "execution_count": null,
	   "metadata": {
	    "collapsed": true
	   },
	   "outputs": [],
"source": [
"\n",
"\n",
"//example 12.1 \n",
"clc; funcprot(0);\n",
"// Initialization of Variable\n",
"rho=1.22;\n",
"pi=3.1428;\n",
"rhos=518;\n",
"rhoav=321;\n",
"mu=1.73/10^5;\n",
"g=9.81;\n",
"d=0.65/1000;\n",
"d2=25.5/100;//dia of duct\n",
"ms=22.7/60;//mass flow rate\n",
"//calculation\n",
"e=(rhos-rhoav)/(rhos-rho);\n",
"//coeff of quadratic eqn in U\n",
"//a*x^2+b*x+c=0\n",
"c=-(1-e)*(rhos-rho)*g;\n",
"b=150*(1-e)^2*mu/d^2/e^3;\n",
"a=1.75*(1-e)*rho/d/e^3;\n",
"y=poly([c b a],'U','coeff');\n",
"U=roots(y);\n",
"Us=ms*4/pi/d2^2/rhos;//superficial speed\n",
"Ua=e/e*(U(2)/e+Us/(1-e));\n",
"disp(Ua,'the actual linear flow rate through duct in (m/s):')"
   ]
   }
,
{
		   "cell_type": "markdown",
		   "metadata": {},
		   "source": [
			"## Example 12.1_2: EX12_1_2.sce"
		   ]
		  },
  {
"cell_type": "code",
	   "execution_count": null,
	   "metadata": {
	    "collapsed": true
	   },
	   "outputs": [],
"source": [
"\n",
"\n",
"//example 12.2 \n",
"clc; funcprot(0);\n",
"// Initialization of Variable\n",
"rho=1.22;//density of air\n",
"pi=3.1428;\n",
"rhos=910;//density of polyethene\n",
"d=3.4/1000;//dia of particles\n",
"mu=1.73/10^5;\n",
"g=9.81;\n",
"dt=3.54/100;//dia of duct\n",
"//calculation\n",
"a=2*d^3*rho*g*(rhos-rho)/3/mu^2;\n",
"disp(a,'R/rho/U^2*(Re^2)=');\n",
"//using Chart\n",
"Re=2*10^3;\n",
"U=mu*Re/d/rho;\n",
"b=U/(g*dt)^.5;\n",
"if b>0.35 then\n",
"    disp('choking can occur of this pipe system');\n",
"else\n",
"    disp('choking can not occur of this pipe system');\n",
"end\n",
"//part 2\n",
"Uc=15;//actual gas velocity\n",
"e=((Uc-U)^2/2/g/dt/100+1)^(1/-4.7);\n",
"Usc=(Uc-U)*(1-e);//superficial speed of solid\n",
"Cmax=Usc*rhos*pi*dt^2/4;\n",
"disp(Cmax,'the maximum carrying capacity of polythene particles in (kg/s)');"
   ]
   }
,
{
		   "cell_type": "markdown",
		   "metadata": {},
		   "source": [
			"## Example 12.1_3: prediction_of_pressure_drop_in_horizontal_pneumatic_transport.sce"
		   ]
		  },
  {
"cell_type": "code",
	   "execution_count": null,
	   "metadata": {
	    "collapsed": true
	   },
	   "outputs": [],
"source": [
"\n",
"\n",
"//example 12.3 \n",
"clc; funcprot(0);\n",
"// Initialization of Variable\n",
"rho=1.22;//density of air\n",
"pi=3.1428;\n",
"rhos=1400;//density of coal\n",
"mu=1.73/10^5;\n",
"g=9.81;\n",
"U=25;\n",
"Ut=2.80;\n",
"l=50;\n",
"ms=1.2;//mass flow rate\n",
"mg=ms/10;//mass flow of gas\n",
"//calculation\n",
"Qs=ms/rhos;//flow of solid\n",
"Qg=mg/rho;//flow of gas\n",
"us=U-Ut;//actual linear velocity\n",
"A=Qg/U;\n",
"Us=Qs/A;//solid velocity\n",
"e=(us-Us)/us;\n",
"d=sqrt(4*A/pi);\n",
"function [y ]= fround(x,n)\n",
"// fround(x,n)\n",
"// Round the floating point numbers x to n decimal places\n",
"// x may be a vector or matrix// n is the integer number of places to round to\n",
"y=round(x*10^n)/10^n;\n",
"endfunction\n",
"[d]=fround(d,4);\n",
"Re=d*rho*U/mu;\n",
"//using moody's chart\n",
"phi=2.1/1000;//friction factor\n",
"P1=2*phi*U^2*l*rho/d*2;\n",
"f=0.05/us;\n",
"P2=2*l*f*(0.0098)*rhos*us^2/d;\n",
"P2=fround(P2/1000,1)*1000\n",
"delP=rho*e*U^2+rhos*(0.0098)*us^2+P1+P2;\n",
"//disp(delP,'the pressure difference in kN/m^2 ');\n",
"printf('The Pressure value in (kN/m^2) is %.1f',delP/1000);"
   ]
   }
,
{
		   "cell_type": "markdown",
		   "metadata": {},
		   "source": [
			"## Example 12.1_4: prediction_of_pressure_drop_in_vertical_pneumatic_transport.sce"
		   ]
		  },
  {
"cell_type": "code",
	   "execution_count": null,
	   "metadata": {
	    "collapsed": true
	   },
	   "outputs": [],
"source": [
"\n",
"\n",
"//example 12.4 \n",
"clc; funcprot(0);\n",
"// Initialization of Variable\n",
"rho=1.22;//density of air\n",
"pi=3.1428;\n",
"rhos=1090;//density of steel\n",
"mu=1.73/10^5;\n",
"g=9.81;\n",
"d=14.5/100;\n",
"Qg=0.4;\n",
"Qs=5000/3600/1090;\n",
"Ut=6.5;\n",
"ar=0.046/1000;//absolute roughness\n",
"l=18.5;//length\n",
"//calculation\n",
"function [y ]= fround(x,n)\n",
"// fround(x,n)\n",
"// Round the floating point numbers x to n decimal places\n",
"// x may be a vector or matrix// n is the integer number of places to round to\n",
"y=round(x*10^n)/10^n;\n",
"endfunction\n",
"Us=Qs/pi/d^2*4;//solid velocity\n",
"U=Qg/pi/d^2*4;\n",
"us=U-Ut;//actual linear velocity\n",
"e=1-Us/us;\n",
"e=fround(e,4);\n",
"Re=rho*U*d/mu;\n",
"rr=ar/d;//relative roughness\n",
"//using moody's diagram\n",
"phi=2.08/1000;\n",
"P1=2*phi*U^2*l*rho/d*2;\n",
"f=0.05/us;\n",
"P2=2*l*f*(1-e)*rhos*us^2/d;\n",
"P2=fround(P2/1000,2)*1000;\n",
"delP=rhos*(1-e)*us^2+rhos*(1-e)*g*l+P1+P2;\n",
"//disp(delP,'the pressure difference in kN/m^2 ');\n",
"printf('The Pressure value in (kN/m^2) is %.2f',delP/1000)"
   ]
   }
,
{
		   "cell_type": "markdown",
		   "metadata": {},
		   "source": [
			"## Example 12.1_5: density_phase_flow_regime_for_pneumatic_transport.sce"
		   ]
		  },
  {
"cell_type": "code",
	   "execution_count": null,
	   "metadata": {
	    "collapsed": true
	   },
	   "outputs": [],
"source": [
"\n",
"\n",
"//example 12.5 \n",
"clc; funcprot(0);\n",
"// Initialization of Variable\n",
"l=25;\n",
"pi=3.1428;\n",
"rhos=2690;//density of ore\n",
"emin=0.6;\n",
"emax=0.8;\n",
"//calculation\n",
"Pmax=rhos*(1-emin)*g*l;\n",
"disp(Pmax,'The maximum pressure drop in (N/m^2):');\n",
"Pmin=rhos*(1-emax)*g*l;\n",
"disp(Pmin,'The minimum pressure drop in (N/m^2):');"
   ]
   }
],
"metadata": {
		  "kernelspec": {
		   "display_name": "Scilab",
		   "language": "scilab",
		   "name": "scilab"
		  },
		  "language_info": {
		   "file_extension": ".sce",
		   "help_links": [
			{
			 "text": "MetaKernel Magics",
			 "url": "https://github.com/calysto/metakernel/blob/master/metakernel/magics/README.md"
			}
		   ],
		   "mimetype": "text/x-octave",
		   "name": "scilab",
		   "version": "0.7.1"
		  }
		 },
		 "nbformat": 4,
		 "nbformat_minor": 0
}
