{
"cells": [
 {
		   "cell_type": "markdown",
	   "metadata": {},
	   "source": [
       "# Chapter 7: Flow Through Packed Beds"
	   ]
	},
{
		   "cell_type": "markdown",
		   "metadata": {},
		   "source": [
			"## Example 7.1_1: determination_of_particle_size_and_specific_surface_area_for_a_sample_of_powder.sce"
		   ]
		  },
  {
"cell_type": "code",
	   "execution_count": null,
	   "metadata": {
	    "collapsed": true
	   },
	   "outputs": [],
"source": [
"\n",
"\n",
"//exapple 7.1 \n",
"clc; funcprot(0);\n",
"// Initialization of Variable\n",
"mu=1.83/1000;\n",
"rhom=1.355*10000;//density mercury\n",
"K=5;\n",
"g=9.81;\n",
"d=2.5/100;\n",
"pi=3.14;\n",
"thik=2.73/100;\n",
"rho=3100;//density of particles\n",
"Q=250/(12*60+54)/10^6;\n",
"//calculation\n",
"A=pi*d^2/4;\n",
"Vb=A*thik;//volume of bed\n",
"Vp=25.4/rho/1000;//volume of particles\n",
"e=1-Vp/Vb;\n",
"u=Q/A;\n",
"delP=12.5/100*rhom*g;\n",
"S=sqrt(e^3*delP/K/u/thik/mu/(1-e)^2);\n",
"S=round(S/1000)*1000;\n",
"d=6/S;\n",
"disp(d*10^6,'average particle diameter in (x10^-6m)');\n",
"A=pi*d^2/1000/(4/3*pi*d^3/8*rho);\n",
"disp(A*10^4,'surface area per gram of cement (cm^2):')\n",
""
   ]
   }
,
{
		   "cell_type": "markdown",
		   "metadata": {},
		   "source": [
			"## Example 7.1_2: rate_of_flow_through_packed_bed.sce"
		   ]
		  },
  {
"cell_type": "code",
	   "execution_count": null,
	   "metadata": {
	    "collapsed": true
	   },
	   "outputs": [],
"source": [
"\n",
"\n",
"//exapple 7.2 \n",
"clc; funcprot(0);\n",
"// Initialization of Variable\n",
"mu=2.5/1000;\n",
"rho=897;\n",
"g=9.81;\n",
"pi=3.1414;\n",
"K=5.1;\n",
"l=6.35/1000;\n",
"d=l;\n",
"hei=24.5+0.65;\n",
"len=24.5;\n",
"dc=2.65;//dia of column\n",
"thik=0.76/1000;\n",
"Vs=pi*d^2/4*l-pi*l/4*(d-2*thik)^2;//volume of each ring\n",
"n=3.023*10^6;\n",
"e=1-Vs*n;\n",
"e=round(e*1000)/1000;\n",
"Surfacearea=pi*d*l+2*pi*d^2/4+pi*(d-2*thik)*l-2*pi*(d-2*thik)^2/4;\n",
"S=Surfacearea/Vs;\n",
"S=round(S);\n",
"delP=hei*g*rho;\n",
"delP=round(delP/100)*100;\n",
"u=e^3*delP/K/S^2/mu/(1-e)^2/len;\n",
"Q=pi*dc^2/4*u;\n",
"disp(Q,'initial volumetric flow rate in (m^3/s):')"
   ]
   }
,
{
		   "cell_type": "markdown",
		   "metadata": {},
		   "source": [
			"## Example 7.1_3: EX7_1_3.sce"
		   ]
		  },
  {
"cell_type": "code",
	   "execution_count": null,
	   "metadata": {
	    "collapsed": true
	   },
	   "outputs": [],
"source": [
"\n",
"\n",
"//exapple 7.3 \n",
"clc; funcprot(0);\n",
"// Initialization of Variable\n",
"dr=2;//dia of column\n",
"mu=2.02/10^5;\n",
"rho=998;\n",
"K=5.1;\n",
"g=9.81;\n",
"Q=10000/3600;\n",
"l=50.8/1000;\n",
"d=l;\n",
"n=5790;\n",
"len=18;\n",
"thik=6.35/1000;\n",
"pi=3.1414;\n",
"//part1\n",
"//calculation\n",
"CA=pi*dr^2/4;//cross sectional area\n",
"u=Q/CA;\n",
"Vs=pi*d^2/4*l-pi*l/4*(d-2*thik)^2;//volume of each ring\n",
"e=1-Vs*n;\n",
"Surfacearea=pi*d*l+2*pi*d^2/4+pi*(d-2*thik)*l-2*pi*(d-2*thik)^2/4;\n",
"S=Surfacearea/Vs;\n",
"S=round(S*10)/10;\n",
"delP=K*S^2/e^3*mu*len*u*(1-e)^2;\n",
"delh=delP/rho/g;\n",
"disp(delh*100,'pressure drop in terms of (cm of H20)')\n",
""
   ]
   }
],
"metadata": {
		  "kernelspec": {
		   "display_name": "Scilab",
		   "language": "scilab",
		   "name": "scilab"
		  },
		  "language_info": {
		   "file_extension": ".sce",
		   "help_links": [
			{
			 "text": "MetaKernel Magics",
			 "url": "https://github.com/calysto/metakernel/blob/master/metakernel/magics/README.md"
			}
		   ],
		   "mimetype": "text/x-octave",
		   "name": "scilab",
		   "version": "0.7.1"
		  }
		 },
		 "nbformat": 4,
		 "nbformat_minor": 0
}
