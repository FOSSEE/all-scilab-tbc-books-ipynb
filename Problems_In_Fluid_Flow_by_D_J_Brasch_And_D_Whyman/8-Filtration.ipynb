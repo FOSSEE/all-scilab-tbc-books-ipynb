{
"cells": [
 {
		   "cell_type": "markdown",
	   "metadata": {},
	   "source": [
       "# Chapter 8: Filtration"
	   ]
	},
{
		   "cell_type": "markdown",
		   "metadata": {},
		   "source": [
			"## Example 8.1_1: constant_rate_of_filtration_in_a_plate_and_frame_filter_process.sce"
		   ]
		  },
  {
"cell_type": "code",
	   "execution_count": null,
	   "metadata": {
	    "collapsed": true
	   },
	   "outputs": [],
"source": [
"\n",
"\n",
"//exapple 8.1 \n",
"clc; funcprot(0);\n",
"// Initialization of Variable\n",
"//part1\n",
"a=78/1000;//dV/dt\n",
"rho=998;//density of water\n",
"rhoc=2230;//density of china clay\n",
"rhod=1324;//density of cowdung cake\n",
"mu=1.003/1000;\n",
"P2=3.23*1000;//pressure after 2 min.\n",
"P5=6.53*1000;//pressure after 5 min.\n",
"t=30*60;\n",
"b=[P2;P5];\n",
"A=[a^2*120 a;a^2*300 a];\n",
"x=A\b;\n",
"P=x(1,1)*a^2*t+x(2,1)*a;\n",
"disp(P/1000,'pressure drop at t=30min in (kN/m^2):')\n",
"//part2\n",
"J=0.0278;//mass fraction\n",
"l=1.25;\n",
"b1=0.7;\n",
"A1=l*b1*17*2;//area of filtering\n",
"V=a*30*60;//volume of filterate\n",
"e=1-rhod/rhoc;\n",
"nu=J*rho/((1-J)*(1-e)*rhoc-J*e*rho);\n",
"l1=nu*V/A1;\n",
"disp(l1,'the thickness of filtercake formed after 30 min in (m):')\n",
"//part3\n",
"r=x(1,1)/mu/nu*A1^2;\n",
"L=x(2,1)*A1/r/mu;\n",
"disp(L,'thickness of cake required in (m):');\n",
"//part 4\n",
"S=sqrt(r*e^3/5/(1-e)^2);\n",
"d=6/S;\n",
"disp(d*10^6,'average particle diameter in(10^-6m):')"
   ]
   }
,
{
		   "cell_type": "markdown",
		   "metadata": {},
		   "source": [
			"## Example 8.1_2: Constant_rate_and_pressure_drop_filteration.sce"
		   ]
		  },
  {
"cell_type": "code",
	   "execution_count": null,
	   "metadata": {
	    "collapsed": true
	   },
	   "outputs": [],
"source": [
"\n",
"\n",
"//exapple 8.2 \n",
"clc; funcprot(0);\n",
"// Initialization of Variable\n",
"P1=5.34*1000;//pressure after 3 min.\n",
"P2=9.31*1000;//pressure after 8 min.\n",
"a=240/1000000;//dV/dt\n",
"P3=15*10^3;//final pressure\n",
"//calculation\n",
"b=[P1;P2];\n",
"A=[a^2*180 a;a^2*480 a];\n",
"x=A\b;\n",
"//part1\n",
"t=(P3-x(2,1)*a)/x(1,1)/a^2;\n",
"disp(t,'time at which the required pressure drop have taken place in (s):');\n",
"//part 2\n",
"V1=a*t;\n",
"disp(V1,'volume of filterate in (m^3):');\n",
"//part 3\n",
"V2=0.75;\n",
"t2=t+x(1,1)/2/P3*(V2^2-V1^2)+x(2,1)/P3*(V2-V1);\n",
"disp(t2,'the time required to collect 750dm^3 of filterate in (s):');\n",
"//part 4\n",
"P4=12*10^3;\n",
"a=P4/(x(1,1)*V2+x(2,1));\n",
"t=10/1000/a;\n",
"disp(t,'time required to pass 10dm^3 volume in (s):')\n",
""
   ]
   }
,
{
		   "cell_type": "markdown",
		   "metadata": {},
		   "source": [
			"## Example 8.1_3: determination_of_characteristic_of_filtration_system.sce"
		   ]
		  },
  {
"cell_type": "code",
	   "execution_count": null,
	   "metadata": {
	    "collapsed": true
	   },
	   "outputs": [],
"source": [
"\n",
"\n",
"//exapple 8.3 \n",
"clc; funcprot(0);\n",
"// Initialization of Variable\n",
"a=16/1000;//dV/dt\n",
"J=0.0876;//mass fraction\n",
"rho=999;//density of water\n",
"rhoc=3470;//density of slurry\n",
"mu=1.12/1000;\n",
"rhos=1922;//density of dry filter cake\n",
"t1=3*60;\n",
"t2=8*60;\n",
"V1=33.8/1000;//volume at t1\n",
"V2=33.8/1000+23.25/1000;//volume at t2\n",
"P=12*1000;//pressure difference\n",
"Ap=70^2/10000*2*9;\n",
"As=650/10000;\n",
"//calculation\n",
"b=[t1;t2]\n",
"A=[V1^2/2/P V1/P;V2^2/2/P V2/P];\n",
"x=A\b;\n",
"K1p=x(1,1)*As^2/Ap^2;\n",
"K2p=x(2,1)*As/Ap;\n",
"P2=15*1000;//final pressure drop\n",
"t=(P2-K2p*a)/K1p/a^2;//time for filterate\n",
"V=a*t;//volume of filterate\n",
"e=1-rhos/rhoc;\n",
"nu=J*rho/((1-J)*(1-e)*rhoc-J*e*rho);\n",
"l=(11-1)/200;\n",
"Vf=Ap*l/nu;\n",
"tf=t+K1p/2/P2*(Vf^2-V^2)+K2p/P2*(Vf-V);\n",
"r=K1p/mu/nu*Ap^2;\n",
"L=K2p*Ap/r/mu;\n",
"disp(L,'the thickness of filter which has resistance equal to resistance of filter medium in (m):')\n",
""
   ]
   }
,
{
		   "cell_type": "markdown",
		   "metadata": {},
		   "source": [
			"## Example 8.1_4: EX8_1_4.sce"
		   ]
		  },
  {
"cell_type": "code",
	   "execution_count": null,
	   "metadata": {
	    "collapsed": true
	   },
	   "outputs": [],
"source": [
"\n",
"\n",
"//exapple 8.4 \n",
"clc; funcprot(0);\n",
"// Initialization of Variable\n",
"t1=3*60;//time 3min\n",
"t2=12*60;//time 12min\n",
"t3=5*60;//time 5min\n",
"P=45*1000;//pressure at t1&t2\n",
"P2=85*1000;//pres. at t3\n",
"a=1.86;//area\n",
"mu=1.29/1000;\n",
"c=11.8;\n",
"V1=5.21/1000;//volume at t1\n",
"V2=17.84/1000;//volume at t2\n",
"V3=10.57/1000;//volume at t3\n",
"//calculation\n",
"b=[t1;t2];\n",
"A=[mu*c/2/a^2/P*V1^2 V1/P;mu*c/2/a^2/P*V2^2 V2/P];\n",
"x=A\b;\n",
"r45=x(1,1);\n",
"r85=(t3-x(2,1)*V3/P2)*2*a^2*P2/V3^2/mu/c;\n",
"n=log(r45/r85)/log(45/85);\n",
"rbar=r45/(1-n)/(45*1000)^n;\n",
"r78=rbar*(1-n)*(78*1000)^n;\n",
"//part1\n",
"//polynomial in V as a1x^2+bx+c1=0\n",
"c1=90*60;//time at 90 \n",
"Pt=78*1000;//Pt=pressure at time t=90\n",
"r78=round(r78/10^12)*10^12;\n",
"a1=r78*mu/a^2/Pt*c/2;\n",
"b=x(2,1)/Pt;\n",
"y=poly([-c1 b a1],'V1','coeff');\n",
"V1=roots(y);\n",
"disp(V1(2),'Volume at P=90kPa in (m^3):');\n",
"//part2\n",
"Pt=45*1000;\n",
"c1=90*60;\n",
"a1=r45*mu/a^2/Pt*c/2;\n",
"b=x(2,1)/Pt;\n",
"y=poly([-c1 b a1],'V1','coeff');\n",
"V1=roots(y);\n",
"disp(V1(2),'Volume at p=45kPa in (m^3):');\n",
""
   ]
   }
,
{
		   "cell_type": "markdown",
		   "metadata": {},
		   "source": [
			"## Example 8.1_5: filtration_on_a_rotatory_drum_filter.sce"
		   ]
		  },
  {
"cell_type": "code",
	   "execution_count": null,
	   "metadata": {
	    "collapsed": true
	   },
	   "outputs": [],
"source": [
"\n",
"\n",
"//exapple 8.4 \n",
"clc; funcprot(0);\n",
"// Initialization of Variable\n",
"t=60*0.3/0.5;//time of 1 revollution\n",
"d=34/1000000;\n",
"S=6/d;\n",
"e=0.415;\n",
"J=0.154;\n",
"P=34.8*1000;\n",
"mu=1.17/1000;\n",
"L=2.35/1000;\n",
"rho=999;//density of water\n",
"rhos=4430;//density of barium carbonate\n",
"//calculation\n",
"//part1\n",
"nu=J*rho/((1-J)*(1-e)*rhos-J*e*rho);\n",
"r=5*S^2*(1-e)^2/e^3;\n",
"//quadratic in l\n",
"//in the form of ax^2+bx+c=0\n",
"c=-t;\n",
"b=r*mu*L/nu/P;\n",
"a=r*mu/2/nu/P;\n",
"y=poly([c b a],'l','coeff');\n",
"l=roots(y);\n",
"disp(l(2),'thickness of filter cake in (m):');\n",
"//part2\n",
"d=1.2;\n",
"l1=2.6;\n",
"pi=3.1428;\n",
"u=pi*d*0.5/60;\n",
"Q=u*l1*l(2);\n",
"mnet=Q*(1-e)*rhos+Q*e*rho;\n",
"disp(mnet,'rate at which wet cake will be scrapped in (kg/s):');\n",
"//part3\n",
"md=Q*(1-e)*rhos;//rate at which solid scrapped from the drum\n",
"r=md/0.154;\n",
"disp(r*3600,'rate of which slurry is treated is (kg/h):')\n",
""
   ]
   }
,
{
		   "cell_type": "markdown",
		   "metadata": {},
		   "source": [
			"## Example 8.1_6: filtration_of_centrifugal_filter.sce"
		   ]
		  },
  {
"cell_type": "code",
	   "execution_count": null,
	   "metadata": {
	    "collapsed": true
	   },
	   "outputs": [],
"source": [
"\n",
"\n",
"//exapple 8.6 \n",
"clc; funcprot(0);\n",
"// Initialization of Variable\n",
"mu=0.224;\n",
"rho=1328;\n",
"K=5;\n",
"b=3*.5;//radius\n",
"h=2.5;\n",
"pi=3.1428;\n",
"x=2.1*.5;\n",
"rhos=1581;//density of sucrose\n",
"e=0.435;//void ratio\n",
"J=0.097;//mass fraction\n",
"m=3500;//mass flowing\n",
"a=85/10^6;//side length\n",
"L=48/1000;//thickness\n",
"omega=2*pi*325/60;\n",
"//calculation\n",
"bi=b^2-m/pi/h/(1-e)/rhos;//inner radius\n",
"bi=sqrt(bi);\n",
"bi=round(bi*1000)/1000;\n",
"nu=J*rho/((1-J)*(1-e)*rhos-J*e*rho);\n",
"S=6/a;\n",
"r=5*S^2*(1-e)^2/e^3;\n",
"t=((b^2-bi^2)*(1+2*L/b)+2*bi^2*log(bi/b))/(2*nu*rho*omega^2/r/mu*(b^2-x^2));\n",
"disp(t,'time taken to collect sucrose crystal in (s):');\n",
"//part2\n",
"vl=pi*(b^2-bi^2)*h*e;\n",
"vs=pi*(b^2-bi^2)*h/nu-vl;\n",
"disp(vs,'volume of liquid separated as filterate i (m^3):');\n",
""
   ]
   }
],
"metadata": {
		  "kernelspec": {
		   "display_name": "Scilab",
		   "language": "scilab",
		   "name": "scilab"
		  },
		  "language_info": {
		   "file_extension": ".sce",
		   "help_links": [
			{
			 "text": "MetaKernel Magics",
			 "url": "https://github.com/calysto/metakernel/blob/master/metakernel/magics/README.md"
			}
		   ],
		   "mimetype": "text/x-octave",
		   "name": "scilab",
		   "version": "0.7.1"
		  }
		 },
		 "nbformat": 4,
		 "nbformat_minor": 0
}
