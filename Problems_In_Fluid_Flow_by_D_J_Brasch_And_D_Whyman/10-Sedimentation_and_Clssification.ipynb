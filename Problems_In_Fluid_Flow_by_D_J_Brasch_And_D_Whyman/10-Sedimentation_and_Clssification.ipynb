{
"cells": [
 {
		   "cell_type": "markdown",
	   "metadata": {},
	   "source": [
       "# Chapter 10: Sedimentation and Clssification"
	   ]
	},
{
		   "cell_type": "markdown",
		   "metadata": {},
		   "source": [
			"## Example 10.1_1: determination_of_settling_velocity_from_a_single_batch_sedimentation.sce"
		   ]
		  },
  {
"cell_type": "code",
	   "execution_count": null,
	   "metadata": {
	    "collapsed": true
	   },
	   "outputs": [],
"source": [
"\n",
"\n",
"//example 10.1\n",
"clc; funcprot(0);\n",
"clf()\n",
"//exapple 10.1 \n",
"// Initialization of Variable\n",
"t=[0 0.5 1 2 3 4 5 6 7 8 9 10];//time\n",
"h=[1.10 1.03 .96 .82 .68 .54 .42 .35 .31 .28 .27 .27];\n",
"Cl=[0 0 0 0 0 0 0 0 0 0 0];\n",
"m=0.05;\n",
"V=1/1000;//volume\n",
"//calculations\n",
"Co=m/V;//concentration at t=0\n",
"v(1)=(h(1)-h(2))/(t(2)-t(1));\n",
"Cl(1)=Co;\n",
"for i=2:11\n",
"  \n",
"        v(i)=(h(i-1)-h(i+1))/(t(i+1)-t(i-1));//slope or settling velocity\n",
"        Cl(i)=Co*h(1)/(h(i)+v(i)*t(i));\n",
"\n",
"    \n",
"end\n",
"plot(t,h,'r--d');\n",
"clf();\n",
"plot(Cl,v,'r->');\n",
"xtitle('Concentration vs Settling veocity' , 'Concentration(kg/m^3)' , 'Settling velocity (m/h)');\n",
""
   ]
   }
,
{
		   "cell_type": "markdown",
		   "metadata": {},
		   "source": [
			"## Example 10.1_2: Minimum_area_required_for_a_continuous_thickener.sce"
		   ]
		  },
  {
"cell_type": "code",
	   "execution_count": null,
	   "metadata": {
	    "collapsed": true
	   },
	   "outputs": [],
"source": [
"\n",
"\n",
"//example 10.2\n",
"clc; funcprot(0);\n",
"clf()\n",
"//exapple 10.2 \n",
"// Initialization of Variable\n",
"t=[0 0.5 1 2 3 4 5 6 7 8 9 10];//time\n",
"h=[1.10 1.03 .96 .82 .68 .54 .42 .35 .31 .28 .27 .27];\n",
"Cl=50:5:100;\n",
"U=[19.53 17.71 16.20 14.92 13.82 12.87 12.04 11.31 10.65 9.55];//mass ratio of liquid to solid\n",
"v=[0.139 0.115 0.098 0.083 0.071 0.062 0.055 0.049 0.043 0.034];//terminal velocity\n",
"//above value taken from graph given with ques.\n",
"C=130;//conc. of solids\n",
"Q=0.06;//slurry rate\n",
"Cmax=130//maximum solid conc.\n",
"rhos=2300;//density of solid\n",
"rho=998;//density of water\n",
"V=rho*(1/C-1/rhos);\n",
"F=Q*Cl(1)*3600;\n",
"for i=1:10\n",
"A(i)=F*(U(i)-V)/rho/v(i);\n",
"end\n",
"plot(v,A,'r-');\n",
"xtitle('','Settling Velocity(m/h)', 'Area(m^2)')\n",
"//maxima finding using datatraveller in the graph\n",
"disp(A,'the area for each settling velocity');\n",
"disp('1005 m^2 is the maximum area found out from the plot');\n",
"Qu=Q-F/3600/Cmax;\n",
"disp(Qu, 'Volumetric flow rate of clarified water in (m^3/s):')\n",
" "
   ]
   }
,
{
		   "cell_type": "markdown",
		   "metadata": {},
		   "source": [
			"## Example 10.1_3: classification_of_materials_on_basis_of_settling_velocities.sce"
		   ]
		  },
  {
"cell_type": "code",
	   "execution_count": null,
	   "metadata": {
	    "collapsed": true
	   },
	   "outputs": [],
"source": [
"\n",
"\n",
"//example 10.3\n",
"clc; funcprot(0);\n",
"//exapple 10.3 \n",
"// Initialization of Variable\n",
"rho1=2600;//density lighter\n",
"rho2=5100;//density heavier\n",
"pd1=0.000015:0.000010:0.000095;//particle diameter lighter\n",
"pd2=0.000025:0.00001:0.000095;//particle diameter heavier\n",
"wp1=[0 22 35 47 59 68 75 81 100];//weight distribution lighter\n",
"wp2=[0 21 33.5 48 57.5 67 75 100];//weight distribution heavier\n",
"rho=998.6;//density water\n",
"mu=1.03/1000;//viscosity water\n",
"g=9.81;\n",
"u=0.004;//velocity of water\n",
"d=95/1000000;//paeticle diameter maximum\n",
"//calculation\n",
"//part 1\n",
"Re=d*u*rho/mu;\n",
"d1=sqrt(18*mu*u/g/(rho1-rho));\n",
"d2=sqrt(18*mu*u/g/(rho2-rho));\n",
"function[a]=inter(d,f,g,b);//interpolation linear\n",
"    for i=1:b\n",
"        if d<=f(i+1)& d>f(i)  then\n",
"            break\n",
"        else \n",
"            continue\n",
"        end\n",
"        break\n",
"    end\n",
"    a=(d-f(i))/(f(i+1)-f(i))*(g(i+1)-g(i))+g(i);\n",
"endfunction\n",
"[a]=inter(d1,pd1,wp1,9);\n",
"[b]=inter(d2,pd2,wp2,8);\n",
"v2=1/(1+5)*100-b/100*1/(1+5)*100;\n",
"v1=5/(1+5)*100-a/100*5/(1+5)*100;\n",
"pl2=(v2)/(v2+v1);\n",
"disp(pl2, 'The fraction of heavy ore remained in bottom');\n",
" //part 2\n",
" rho=1500;\n",
" mu=6.25/10000;\n",
" a=log10(2*d^3*rho*g*(rho1-rho)*3*mu^2);//log10(Re^2(R/rho/mu^2))\n",
"  //using value from chart(graph)\n",
"Re=10^0.2136;\n",
"u=Re*mu/rho/d;\n",
"d2=sqrt(18*mu*u/g/(rho1-rho));\n",
"[b]=inter(d2,pd2,wp2,8);\n",
"disp(100-b+3.5,'The percentage of heavy ore left in this case');\n",
"//part 3\n",
"a=0.75//% of heavy ore in overhead product\n",
"s=100*5/6/(100*5/6+0.75*100/6);\n",
"disp(s,'the fraction of light ore in overhead product:');\n",
"//part 4\n",
"da=pd2(1);\n",
"db=pd1(9);\n",
"rho=(da^2*rho2-db^2*rho1)/(-db^2+da^2);\n",
"  disp(rho,'The minimum density required to seperate 2 ores in kg/m^3:')"
   ]
   }
,
{
		   "cell_type": "markdown",
		   "metadata": {},
		   "source": [
			"## Example 10.1_4: density_variation_of_settling_suspension.sce"
		   ]
		  },
  {
"cell_type": "code",
	   "execution_count": null,
	   "metadata": {
	    "collapsed": true
	   },
	   "outputs": [],
"source": [
"\n",
"\n",
"//example 10.4\n",
"clc; funcprot(0);\n",
"//exapple 10.4\n",
"// Initialization of Variable\n",
"rho=998;\n",
"w0=40;//density of slurry\n",
"mu=1.01/1000;\n",
"g=9.81;\n",
"rho1=2660;//density quartz\n",
"h=0.25;\n",
"t=18.5*60;\n",
"mp=[5 11.8 20.2 24.2 28.5 37.6 61.8];\n",
"d=[30.2 21.4 17.4 16.2 15.2 12.3 8.8]/1000000;\n",
"u=h/t;\n",
"d1=sqrt(18*mu*u/g/(rho1-rho));\n",
"function[a]=inter(d,f,g,b);//interpolation linear\n",
"    for i=1:b\n",
"        if d>f(i+1)& d<=f(i)  then\n",
"            break\n",
"        else \n",
"            continue\n",
"        end\n",
"        break\n",
"    end\n",
"    \n",
"    a=-(d-f(i+1))/(f(i)-f(i+1))*(g(i+1)-g(i))+g(i+1);\n",
"endfunction\n",
"[a]=inter(d1,d,mp,6);\n",
"phi=1-a/100;\n",
"rhot=phi*(rho1-rho)/rho1*w0+rho;\n",
"disp(rhot,'the density of suspension at depth 25cm in kg/m^3 is')"
   ]
   }
,
{
		   "cell_type": "markdown",
		   "metadata": {},
		   "source": [
			"## Example 10.1_5: determination_of_particle_size_distribution_using_a_sedimentation_method.sce"
		   ]
		  },
  {
"cell_type": "code",
	   "execution_count": null,
	   "metadata": {
	    "collapsed": true
	   },
	   "outputs": [],
"source": [
"\n",
"\n",
"//example 10.5\n",
"clc; funcprot(0);\n",
"clf()\n",
"//exapple 10.5 \n",
"// Initialization of Variable\n",
"t=[0 45 135 495 1875 6900 66600 86400];//time\n",
"m=[0.1911 0.1586 0.1388 0.1109 0.0805 0.0568 0.0372 0.0359];//mass total\n",
"rho1=3100;//density of cement\n",
"mu=1.2/1000;//viscosity of desperant liquid\n",
"rho=790;//density of desperant liquid\n",
"h=0.2;\n",
"V=10;\n",
"s=0;\n",
"d(1)=100/1000000;//assumed value\n",
"for i=1:7\n",
"    d(i+1)=sqrt(18*mu*h/g/t(i+1)/(rho1-rho));//dia of particles\n",
"    mc(i+1)=m(i+1)-0.2/100*V;//mass of cement\n",
"    s=s+mc(i+1);  \n",
"end\n",
"mc(1)=m(1)-0.2*V/100;\n",
"s=s+mc(1);\n",
"mp(1)=100;\n",
"for i=1:7\n",
"    mp(i+1)=mc(i+1)/mc(1)*100;//mass percent below size\n",
"end\n",
"plot(mp,d);\n",
"xtitle('', '%undersize', 'Particle Size(m)');\n",
"u=h/t(2);\n",
"Re=d(2)*u*rho/mu;\n",
"if Re<2 then\n",
"    disp('since Re<2 for 81% of particles so settlement occurs mainly by stoke-s law')\n",
"end"
   ]
   }
,
{
		   "cell_type": "markdown",
		   "metadata": {},
		   "source": [
			"## Example 10.1_6: determination_of_particle_size_distribution_of_a_suspended_solid.sce"
		   ]
		  },
  {
"cell_type": "code",
	   "execution_count": null,
	   "metadata": {
	    "collapsed": true
	   },
	   "outputs": [],
"source": [
"\n",
"\n",
"//example 10.6\n",
"clc; funcprot(0);\n",
"//exapple 10.6\n",
"clf() \n",
"// Initialization of Variable\n",
"rho=998;\n",
"rho1=2398;//density of ore\n",
"mu=1.01/1000;\n",
"g=9.81;\n",
"h=25/100;\n",
"t=[114 150 185 276 338 396 456 582 714 960];\n",
"m=[0.1429 0.2010 0.2500 0.3564 0.4208 0.4781 0.5354 0.6139 0.6563 0.7277];\n",
"for i=1:10\n",
"ms=0.0573+m(10);//total mass setteled\n",
"d(i)=sqrt(18*mu*h/g/(rho1-rho)/t(i));\n",
"P(i)=m(i)/ms*100;//mass percent of sample\n",
"end\n",
"plot(t,P);\n",
"xtitle('','Settling time (s)','mass percent in (%)');\n",
"disp(P,d,'& its percentage mass distribution respectively' ,'the particle size distribution in (m)' );\n",
"for i=2:9 \n",
"        del(i)=(P(i+1)-P(i-1))/(t(i+1)-t(i-1));//slope \n",
"        W(i)=P(i)-t(i)*del(i);\n",
"        W(1)=P(1)-P(1);\n",
"           \n",
"end\n",
"W(10)=P(10)-t(10)*0.025;\n",
"disp('mass% and diameter(m)respectively with serial no:')\n",
"for i=4:10\n",
"    disp(i-4);\n",
"    disp('mass% is')\n",
"    disp( 'for diameter in(m) of',W(i));\n",
"    disp(d(i));\n",
"   \n",
"end\n",
""
   ]
   }
,
{
		   "cell_type": "markdown",
		   "metadata": {},
		   "source": [
			"## Example 10.1_7: EX10_1_7.sce"
		   ]
		  },
  {
"cell_type": "code",
	   "execution_count": null,
	   "metadata": {
	    "collapsed": true
	   },
	   "outputs": [],
"source": [
"\n",
"\n",
"//example 10.7\n",
"clc; funcprot(0);\n",
"//exapple 10.7 \n",
"// Initialization of Variable\n",
"rho=1002;//density of disperant\n",
"rho1=2240;//density of kaolin\n",
"mu=1.01/1000;//viscosity\n",
"g=9.81;\n",
"t=600;\n",
"h2=0.2;\n",
"h1=0.4;\n",
"dg=15*10^-6;//particle size to be removed\n",
"//calculations\n",
"//part 1\n",
"d=sqrt(18*mu*h2/g/(rho1-rho)/t);\n",
"x=dg/d;\n",
"f=h2/h1*(1-x^2);//fraction separated after first decanting\n",
"g=f*(1-f);\n",
"disp(g,'fraction of particles separated after second decanting');\n",
"disp(f+g,'total fraction of particles separated after decanting')\n",
"//part 2\n",
"h=(1-20/40*(1-x^2))^6;\n",
"disp(h,'fraction of particles separated after sixth decanting');"
   ]
   }
],
"metadata": {
		  "kernelspec": {
		   "display_name": "Scilab",
		   "language": "scilab",
		   "name": "scilab"
		  },
		  "language_info": {
		   "file_extension": ".sce",
		   "help_links": [
			{
			 "text": "MetaKernel Magics",
			 "url": "https://github.com/calysto/metakernel/blob/master/metakernel/magics/README.md"
			}
		   ],
		   "mimetype": "text/x-octave",
		   "name": "scilab",
		   "version": "0.7.1"
		  }
		 },
		 "nbformat": 4,
		 "nbformat_minor": 0
}
