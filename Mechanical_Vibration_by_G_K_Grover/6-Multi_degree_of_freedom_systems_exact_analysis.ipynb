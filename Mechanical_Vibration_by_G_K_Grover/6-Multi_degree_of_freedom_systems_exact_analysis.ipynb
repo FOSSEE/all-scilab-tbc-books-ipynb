{
"cells": [
 {
		   "cell_type": "markdown",
	   "metadata": {},
	   "source": [
       "# Chapter 6: Multi degree of freedom systems exact analysis"
	   ]
	},
{
		   "cell_type": "markdown",
		   "metadata": {},
		   "source": [
			"## Example 6.8_2: system_with_rolling_masses.sce"
		   ]
		  },
  {
"cell_type": "code",
	   "execution_count": null,
	   "metadata": {
	    "collapsed": true
	   },
	   "outputs": [],
"source": [
"clc\n",
"clear\n",
"mprintf('Mechanical vibrations by G.K.Grover\n Example 6.8.2\n')\n",
"//given data\n",
"m1=250;m2=100//mass of two blocks in Kgs\n",
"c1=80;c2=60,c=20//damping coefficients in N-sec/m\n",
"F1=1000;F2=1500//amplitude of force acting on block 1 and 2 rsptly\n",
"k=250000//stiffness of spring in N/m\n",
"W=60//frequency of applied force in rad/sec\n",
"//calculations\n",
"M=[m1,0;0,m2];\n",
"K=[k,-k;-k,k];\n",
"C=[c+c1,-c;-c,c+c2];\n",
"R=[F1;F2;0;0];\n",
"X=K-(W^2)*M\n",
"Y=W*C\n",
"G=[X,-Y;Y,X]\n",
"AB=inv(G) *R//from Eqn6.8.4 in Sec 6.8\n",
"X1=sqrt(AB(1,1)^2 +AB(3,1)^2)\n",
"X2=sqrt(AB(2,1)^2 +AB(4,1)^2)\n",
"//output\n",
"mprintf('The amplitude of vibrations are %fm for mass 1 and %fm for mass 2',X1,X2)"
   ]
   }
],
"metadata": {
		  "kernelspec": {
		   "display_name": "Scilab",
		   "language": "scilab",
		   "name": "scilab"
		  },
		  "language_info": {
		   "file_extension": ".sce",
		   "help_links": [
			{
			 "text": "MetaKernel Magics",
			 "url": "https://github.com/calysto/metakernel/blob/master/metakernel/magics/README.md"
			}
		   ],
		   "mimetype": "text/x-octave",
		   "name": "scilab",
		   "version": "0.7.1"
		  }
		 },
		 "nbformat": 4,
		 "nbformat_minor": 0
}
