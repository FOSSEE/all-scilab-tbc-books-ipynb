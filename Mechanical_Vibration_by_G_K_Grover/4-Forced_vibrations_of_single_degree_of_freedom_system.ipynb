{
"cells": [
 {
		   "cell_type": "markdown",
	   "metadata": {},
	   "source": [
       "# Chapter 4: Forced vibrations of single degree of freedom system"
	   ]
	},
{
		   "cell_type": "markdown",
		   "metadata": {},
		   "source": [
			"## Example 4.10_1: machine_mounted_on_4_identical_springs.sce"
		   ]
		  },
  {
"cell_type": "code",
	   "execution_count": null,
	   "metadata": {
	    "collapsed": true
	   },
	   "outputs": [],
"source": [
"clc\n",
"clear\n",
"mprintf('Mechanical vibrations by G.K.Grover\n Example 4.10.1\n')\n",
"//given data\n",
"m=1000//mass of machine in kg\n",
"Fo=490//amp of force in N\n",
"f=180//freq inRPM\n",
"//calculations\n",
"//case a)\n",
"K=1.96*10^6//total stiffness of springs in N/m\n",
"Wn=sqrt(K/m)\n",
"W=2*%pi*f/60\n",
"bet=(W/Wn)\n",
"zeta=0\n",
"Xst1=Fo/K//amplitude of steady state\n",
"X1=Xst1*(1/(sqrt((1-bet^2)^2+(2*zeta*bet)^2)))//amp of vibration Eqn 4.2.15 in Sec 4.2.1\n",
"Ftr1=Fo*sqrt(1+(2*zeta*bet)^2)/sqrt((1-bet^2)^2+(2*zeta*bet)^2)//force transmitted,Eqn 4.10.2 in Sec 4.10.1\n",
"//case b)\n",
"K=9.8*10^4//total stiffness of springs in N/m\n",
"Wn=sqrt(K/m)\n",
"W=2*%pi*f/60\n",
"bet=(W/Wn)\n",
"zeta=0\n",
"Xst2=Fo/K//amplitude of steady state\n",
"X2=Xst2*(1/(sqrt((1-bet^2)^2+(2*zeta*bet)^2)))//amp of vibration Eqn 4.2.15 in Sec 4.2.1\n",
"Ftr2=Fo*sqrt(1+(2*zeta*bet)^2)/sqrt((1-bet^2)^2+(2*zeta*bet)^2)//force transmitted,Eqn 4.10.2 in Sec 4.10.1\n",
"//output\n",
"mprintf(' a)The amplitude of motion of machine is %f m and the maximum force transmitted\n to the foundation because of the unbalanced force when\n K=1.96*10^6 N/m is %4.4f N\n b)for same case as in a)if K=9.8*10^4 N/m then\n the amplitude of motion of machine is %f m\n and the maximum force transmitted to the foundation because of\n the unbalanced force %4.4f N',X1,Ftr1,X2,Ftr2)"
   ]
   }
,
{
		   "cell_type": "markdown",
		   "metadata": {},
		   "source": [
			"## Example 4.10_2: machine_mounted_on_springs.sce"
		   ]
		  },
  {
"cell_type": "code",
	   "execution_count": null,
	   "metadata": {
	    "collapsed": true
	   },
	   "outputs": [],
"source": [
"clc\n",
"clear\n",
"mprintf('Mechanical vibrations by G.K.Grover\n Example 4.10.2\n')\n",
"//given data\n",
"m=75//mass of machine in kg\n",
"K=11.76*10^5//stiffness of springs in N/m\n",
"zeta=0.2\n",
"mo=2//mass of piston in kg\n",
"stroke=0.08//in m\n",
"e=stroke/2//in m\n",
"N=3000//spee in c.p.m\n",
"//calculations\n",
"Wn=sqrt(K/m)\n",
"W=2*%pi*N/60\n",
"bet=(W/Wn)\n",
"y=(mo/m)\n",
"Fo=mo*W^2*e//max force exerted\n",
"X=y*e*bet^2/(sqrt((1-bet^2)^2+(2*zeta*bet)^2))//Eqn 4.3.2\n",
"Ftr=Fo*sqrt(1+(2*zeta*bet)^2)/sqrt((1-bet^2)^2+(2*zeta*bet)^2)//force transmitted,Eqn 4.10.2 in Sec 4.10.1\n",
"mprintf(' a)The amplitude of vibration of machine is %f m and the \n the vibratory force Ftr transmitted to the foundation is %5.4f N',X,Ftr)\n",
"mprintf('\nNOTE: slight differnce in answer compared to textbook\n is due approximation of values in textbook') "
   ]
   }
,
{
		   "cell_type": "markdown",
		   "metadata": {},
		   "source": [
			"## Example 4.10_3: radio_set_isolated_from_machine.sce"
		   ]
		  },
  {
"cell_type": "code",
	   "execution_count": null,
	   "metadata": {
	    "collapsed": true
	   },
	   "outputs": [],
"source": [
"clc\n",
"clear\n",
"mprintf('Mechanical vibrations by G.K.Grover\n Example 4.10.3\n')\n",
"// given data\n",
"m=20 //mass in kgs\n",
"k=125600 //overall eqivalent stiffness i.e 4*31400 in N/m\n",
"c=1568 //overall damping coefficient i.e 4*392 in N-sec/m\n",
"n=500 //vibrating speed of machine in cpm\n",
"//y=Ysin(w*t)\n",
"Y=0.00005 //vibrating amplitude of machine in m\n",
"W=2*%pi*n/60 //vibrating frequency in rad/sec\n",
"Wn=sqrt(k/m) //natural frequency in rad/sec\n",
"bet=(W/Wn) //speed ratio\n",
"zeta=c/(2*sqrt(k*m)) //damping factor\n",
"//calculations\n",
"X=Y*sqrt((1+(2*zeta*bet)^2)/((1-bet^2)^2+(2*zeta*bet)^2)) //absolute amplitude of vibration of radio from eqn (4.4.6)\n",
"Z=Y*((bet^2)/sqrt(((1-bet^2)^2+(2*zeta*bet)^2)))//from eqn 4.4.11\n",
"FdynT=Z*sqrt((c*W)^2+k^2)//dynamic load total\n",
"Fdyn=FdynT/4 //dynamic load on each isolator\n",
"FdynTmax=m*W^2*X //max dynamic load on the isolators\n",
"Fdynmax=FdynTmax/4 //max dynamic load on each isolator\n",
"//output\n",
"mprintf('a) The amplitude of vibration of radio is %f metres \n b)the dynamic load on each isolator due to vibration is %3.3f N',X,Fdyn)"
   ]
   }
,
{
		   "cell_type": "markdown",
		   "metadata": {},
		   "source": [
			"## Example 4.11_1: vibrotometer.sce"
		   ]
		  },
  {
"cell_type": "code",
	   "execution_count": null,
	   "metadata": {
	    "collapsed": true
	   },
	   "outputs": [],
"source": [
"clc\n",
"clear\n",
"mprintf('Mechanical vibrations by G.K.Grover\n Example 4.11.1\n')\n",
"//given data\n",
"T=2//period of free vibration in sec\n",
"f=1//vertical harmonic frequency of machine in in Hz\n",
"Z=2.5//amplitude of vibrotometer mass relative to vibrotometer frame in mm\n",
"//calculations\n",
"Wn=2*%pi/T\n",
"W=2*%pi*f\n",
"bet=(W/Wn)\n",
"zeta=0//for vibrotometers\n",
"Y=Z*(sqrt((1-bet^2)^2+(2*zeta*bet)^2))/bet^2//amplitude of vibration of machine Eqn 4.4.11 in Sec 4.4.2\n",
"//output\n",
"mprintf(' The amplitude of vibration of support of machine is %4.4f mm',Y)"
   ]
   }
,
{
		   "cell_type": "markdown",
		   "metadata": {},
		   "source": [
			"## Example 4.11_2: commercial_type_vibration_pick_up.sce"
		   ]
		  },
  {
"cell_type": "code",
	   "execution_count": null,
	   "metadata": {
	    "collapsed": true
	   },
	   "outputs": [],
"source": [
"clc\n",
"clear\n",
"mprintf('Mechanical vibrations by G.K.Grover\n Example 4.11.2\n')\n",
"//given data\n",
"fn=5.75//natural frequency in Hz\n",
"zeta=0.65\n",
"ZbyY=1.01\n",
"//case 1\n",
"//substituting for (Z/Y)=1.01 and (W/Wn)=r^2 in Eqn 4.4.11 we get the quadratic eqn as follows\n",
"//0.02*r^4-0.31*r^2+1=0\n",
"//solving for r in above eqn whose rootes are r1 and r2\n",
"r1=sqrt(((0.31)+sqrt(((-0.31)^2)-4*0.02*1))/(2*0.02))\n",
"r2=sqrt(((0.31)-sqrt(((-0.31)^2)-4*0.02*1))/(2*0.02))\n",
"if r1>r2 then\n",
"    r=r1\n",
"    else r=r2\n",
"end\n",
"bet=r//bet=(W/Wn)\n",
"f1=bet*fn\n",
"//case 2\n",
"ZbyY=0.98\n",
"//substituting for (Z/Y)=0.98 and (W/Wn)=r^2 in Eqn 4.4.11 we get the quadratic eqn as follows\n",
"//0.04*r^4+0.31*r^2-1=0\n",
"//solving for r in above eqn whose rootes are r3 and r4\n",
"r3=sqrt((-0.31+sqrt(((0.31)^2)-4*0.04*-1))/(2*0.04))\n",
"r4=sqrt((-0.31-sqrt(((0.31)^2)-4*0.04*-1))/(2*0.04))\n",
"t1=real(r3)\n",
"t2=real(r4)\n",
"if t1>t2 then\n",
"    r=r3\n",
"    else r=r4\n",
"end\n",
"bet=r//bet=(W/Wn)\n",
"f2=bet*fn\n",
"mprintf('The lowest frequency beyond which the amplitude can be measured within\n  (i)one percent error is %4.4f Hz\n (ii)two percent error is %4.4f Hz',f1,f2)"
   ]
   }
,
{
		   "cell_type": "markdown",
		   "metadata": {},
		   "source": [
			"## Example 4.11_3: device_used_to_measure_torsional_accerelartion.sce"
		   ]
		  },
  {
"cell_type": "code",
	   "execution_count": null,
	   "metadata": {
	    "collapsed": true
	   },
	   "outputs": [],
"source": [
"clc\n",
"clear\n",
"mprintf('Mechanical vibrations by G.K.Grover\n Example 4.11.3\n')\n",
"//given data\n",
"J=0.049//moment of inertia in kg-m^2\n",
"Kt=0.98//stiffness in N-m/rad\n",
"Ct=0.11//damping coefficient in N-m_sec/rad\n",
"N=15//R.P.M\n",
"thetaRD=2//relative amplitude between ring and shaft in degrees\n",
"//calculations\n",
"W=N*2*%pi/60 //frequency of  vibrating shaft in rad/sec\n",
"Wn=sqrt(Kt/J) //natural freqency in rad/sec\n",
"zeta=(Ct/(2*sqrt(Kt*J))) //damping factor\n",
"thetaRR=(thetaRD/(57.3)) //relative amplitude in radians\n",
"bet=(W/Wn)\n",
"thetamax=thetaRR*((sqrt((1-bet^2)^2+(2*zeta*bet)^2)/bet^2))\n",
"maxacc=(W^2)*thetamax\n",
"//output\n",
"mprintf('The maximum acceleration of the shaft is %4.4f rad/(sec^2)',maxacc)"
   ]
   }
,
{
		   "cell_type": "markdown",
		   "metadata": {},
		   "source": [
			"## Example 4.11_4: Frahm_tachometer.sce"
		   ]
		  },
  {
"cell_type": "code",
	   "execution_count": null,
	   "metadata": {
	    "collapsed": true
	   },
	   "outputs": [],
"source": [
"clc\n",
"clear\n",
"mprintf('Mechanical vibrations by G.K.Grover\n Example 4.11.4\n')\n",
"//given data\n",
"RF=1800//resonant frequency in rpm\n",
"L=0.050//lenght of steel reed in metres\n",
"B=0.006//width of steel reed in metres\n",
"t=0.00075//thickness of steel reed in metres\n",
"E=19.6*10^10//young's modulus in N/(m^2)\n",
"//calculations\n",
"Wn=2*%pi*RF/60//natural frequency in radians\n",
"I=(B*t^3)/12//moment of inertia in (m^4)\n",
"m=3*E*I/((Wn^2)*L^3)//required mass\n",
"//output\n",
"mprintf('The required mass M to be placed at the end of the reeds of Frahm tachometer is %f Kgs',m)"
   ]
   }
,
{
		   "cell_type": "markdown",
		   "metadata": {},
		   "source": [
			"## Example 4.2_1: periodic_torque_on_suspended_flywheel.sce"
		   ]
		  },
  {
"cell_type": "code",
	   "execution_count": null,
	   "metadata": {
	    "collapsed": true
	   },
	   "outputs": [],
"source": [
"clc\n",
"clear\n",
"mprintf('Mechanical vibrations by G.K.Grover\n Example 4.2.1\n')\n",
"//given data\n",
"//T=To*sin(W*t)\n",
"To=0.588 //maximum value of periodic torque in N-m \n",
"W=4// freqency of applied force in rad/sec\n",
"J=0.12//moment of inertia of wheel in kg-m^2\n",
"Kt=1.176//stiffness of wire in N-m/rad\n",
"Ct=0.392/1 //damping coefficient in N-m_sec/rad\n",
"//calculations\n",
"theta=To/sqrt((Kt-J*W^2)^2+(Ct*W)^2)//Equation for torsional vibration amplitude from Fig (4.2.2) and Eqn (4.2.5)\n",
"MaxDcoup=Ct*W*theta//maximum damping couple in N-m\n",
"if atan((Ct*W)/(Kt-J*W^2))>0  then\n",
"    phiD=(180/%pi)*atan((Ct*W)/(Kt-J*W^2));//from eqn 4.2.6(in degrees)\n",
"else\n",
"    phiD=180+(180/%pi)*atan((Ct*W)/(Kt-J*W^2));\n",
"    \n",
"end\n",
"//output\n",
"mprintf(' a)The maximum angular displacement from rest position is %4.4f radians\n b)The maximum couple applied to dashpot is %4.4f N-m\n c)angle by which the angular displacement lags the torque is %4.4f degrees',theta,MaxDcoup,phiD)"
   ]
   }
,
{
		   "cell_type": "markdown",
		   "metadata": {},
		   "source": [
			"## Example 4.2_2: damping_factor_and_natural_frequency_of_system.sce"
		   ]
		  },
  {
"cell_type": "code",
	   "execution_count": null,
	   "metadata": {
	    "collapsed": true
	   },
	   "outputs": [],
"source": [
"clc\n",
"clear\n",
"mprintf('Mechanical vibrations by G.K.Grover\n Example 4.2.2\n')\n",
"//given data\n",
"Wd=9.8*2*%pi// damped natural freqency in rad/sec\n",
"Wp=9.6*2*%pi//freqency from forced vibration test in rad/sec\n",
"//calculations\n",
"//(Wp/Wn)=sqrt(1-2*zeta^2)...(1) from Eqn 4.2.18 from Sec 4.2.1\n",
"//(Wd/Wn)=sqrt(1-zeta^2)...(2) from Eqn 4.2.19 from Sec 4.2.1\n",
"//dividing (1) by (2)\n",
"x=(Wp/Wd)\n",
"//x=[sqrt(1-2*zeta^2)]/[sqrt(1-zeta^2)]\n",
"zeta=sqrt((1-x)/(2-x))//damping factor obtained on simplifying the above eqn\n",
"//substituting for zeta in eqn 2 above\n",
"Wn=Wd/sqrt(1-zeta^2)//natural frequency of system in rad/sec\n",
"fn=Wn/(2*%pi)//natural frequency of system in Hz\n",
"//output\n",
"mprintf('The damping factor for the system is %f and\n the natural frequency is %4.4f rad/sec or %4.2f Hz',zeta,Wn,fn)\n",
"mprintf('\nNOTE:The damping factor zeta given in textbook is 0.196,which is wrong.')"
   ]
   }
,
{
		   "cell_type": "markdown",
		   "metadata": {},
		   "source": [
			"## Example 4.3_1: system_of_beams_supporting_a_motor.sce"
		   ]
		  },
  {
"cell_type": "code",
	   "execution_count": null,
	   "metadata": {
	    "collapsed": true
	   },
	   "outputs": [],
"source": [
"clc\n",
"clear\n",
"mprintf('Mechanical vibrations b G.K.Grover\n Example 4.3.1\n')\n",
"//given data\n",
"m=1200//mass of motor in kg\n",
"mo=1//unbalanced mass on motor in kg\n",
"e=0.06//location of unbalanced mass from motor in m\n",
"Wn=2210*(2*%pi/60)//resonant freq in rad/sec\n",
"W=1440*(2*%pi/60)//operating freq \n",
"//calculations\n",
"//case 1\n",
"zeta=0.1\n",
"bet=(W/Wn)\n",
"y=(mo/m)//from eqn 4.3.2\n",
"X1=(y*e)*(bet)^2/sqrt((1-bet^2)^2+(2*zeta*bet)^2)//from eqn 4.3.2\n",
"//case 2\n",
"zeta=0\n",
"X2=(y*e)*(bet)^2/sqrt((1-bet^2)^2+(2*zeta*bet)^2)//from eqn 4.3.2\n",
"//output\n",
"mprintf('If the damping is less than 0.1 then the amplitude of \n vibration will be between %f m and %f m',X1,X2)"
   ]
   }
,
{
		   "cell_type": "markdown",
		   "metadata": {},
		   "source": [
			"## Example 4.3_2: single_cylinder_vertical_petrol_engine.sce"
		   ]
		  },
  {
"cell_type": "code",
	   "execution_count": null,
	   "metadata": {
	    "collapsed": true
	   },
	   "outputs": [],
"source": [
"clc\n",
"clear\n",
"mprintf('Mechanical vibrations by G.K.Grover\n Example 4.3.2\n')\n",
"//given data\n",
"m=320//mass of engine in kg\n",
"mo=24//reciprocating mass on motor in kg\n",
"r=0.15//vertical stroke in m\n",
"e=r/2\n",
"delst=0.002//stati defln in m\n",
"C=490/(0.3)//damping recistance in N-sec/m\n",
"g=9.81// gravity in m/sec^2\n",
"N=480//speed in rpm in case b)\n",
"//calculation\n",
"Wn=sqrt(g/delst) //natural freqency in rad/sec\n",
"Nr=Wn/(2*%pi)*60 //resonant speed in rpm\n",
"W=(2*%pi*N/60)\n",
"bet=(W/Wn)\n",
"zeta=(C/(2*m*Wn)) //damping factor\n",
"y=(mo/m)//from eqn 4.3.2\n",
"X=(y*e)*(bet)^2/sqrt((1-bet^2)^2+(2*zeta*bet)^2)//from eqn 4.3.2\n",
"//output\n",
"mprintf(' a)speed of driving shaft at which esonance occurs is %4.4f RPM\n b)The amplitude of steady state forced vibrations when the driving shaft \n of the engine rotates at 480 RPM is %f m',Nr,X) "
   ]
   }
,
{
		   "cell_type": "markdown",
		   "metadata": {},
		   "source": [
			"## Example 4.4_1: mass_hung_from_end_of_vertical_spring.sce"
		   ]
		  },
  {
"cell_type": "code",
	   "execution_count": null,
	   "metadata": {
	    "collapsed": true
	   },
	   "outputs": [],
"source": [
"clc\n",
"clear\n",
"mprintf('Mechanical vibrations by G.K.Grover\n Example 4.4.1\n')\n",
"//given data\n",
"T=0.8//time period of free vibration in sec\n",
"t=0.3//time for which the vertical distance has to be calculated\n",
"//y=18*sin(2*pi*t)\n",
"Y=18//max amplitude in mm\n",
"//calculations\n",
"W=2*%pi\n",
"Wn=(2*%pi/T)\n",
"bet=(W/Wn)\n",
"x=(Y/(1-bet^2))*(sin(W*t)-bet*sin(Wn*t))// from eqn 4.4.17 explained in the same problem\n",
"//output\n",
"mprintf('The vertical distance moved by mass in the first 0.3 sec is %4.4f mm',x)"
   ]
   }
,
{
		   "cell_type": "markdown",
		   "metadata": {},
		   "source": [
			"## Example 4.4_2: support_of_spring_mass_system.sce"
		   ]
		  },
  {
"cell_type": "code",
	   "execution_count": null,
	   "metadata": {
	    "collapsed": true
	   },
	   "outputs": [],
"source": [
"clc\n",
"clear\n",
"mprintf('Mechanical vibrations by G.K.Grover\n Example 4.4.2\n')\n",
"//given data\n",
"m=0.9//mass in kg\n",
"K=1960//stiffness in N/m\n",
"Y=5//amp of vibration of support in m\n",
"N=1150//frequency in cycles per min\n",
"//calculations\n",
"Wn=sqrt(K/m)\n",
"W=N*2*%pi/60//frequency of  vibration of support\n",
"bet=(W/Wn)\n",
"//case 1\n",
"zeta=0\n",
"X1=Y*(sqrt(1+(2*zeta*bet)^2)/sqrt((1-bet^2)^2+(2*zeta*bet)^2))//Eqn (4.4.6)\n",
"//case 2\n",
"zeta =0.2\n",
"X2=Y*(sqrt(1+(2*zeta*bet)^2)/sqrt((1-bet^2)^2+(2*zeta*bet)^2))//Eqn (4.4.6)\n",
"//output\n",
"mprintf('The amplitude of vibration when damping factor=0 is %4.4f mm \n If damping factor=0.2,then amplitude of vibration is %4.4f mm',X1,X2)"
   ]
   }
,
{
		   "cell_type": "markdown",
		   "metadata": {},
		   "source": [
			"## Example 4.4_3: spring_of_automobile_trailer.sce"
		   ]
		  },
  {
"cell_type": "code",
	   "execution_count": null,
	   "metadata": {
	    "collapsed": true
	   },
	   "outputs": [],
"source": [
"clc\n",
"clear\n",
"mprintf('Mechanical vibrations by G.K.Grover\n Example 4.4.3\n')\n",
"//given data\n",
"delst=0.1//steady state defln in m\n",
"g=9.81//acceleration due to gravity\n",
"Y=0.08//amp of vibration of automobile in m\n",
"lambda=14//wavelenght of profile in m\n",
"//calculations\n",
"Wn=sqrt(g/delst)\n",
"fn=Wn/(2*%pi)//frequency of vibration of automobile in Hz\n",
"Vc=(3600/1000)*lambda*fn//critical speed in km/hr\n",
"V=60 //speed in km/hr\n",
"W=V*(1000/3600)*(2*%pi/lambda)\n",
"bet=(W/Wn)\n",
"zeta=0\n",
"X=Y*(sqrt(1+(2*zeta*bet)^2)/sqrt((1-bet^2)^2+(2*zeta*bet)^2))//Eqn (4.4.6)\n",
"//output\n",
"mprintf(' The critical speed of automobile %4.4f km/hr\n The amplitude of vibration at 60 Km/Hr is %4.4f m',Vc,X)"
   ]
   }
,
{
		   "cell_type": "markdown",
		   "metadata": {},
		   "source": [
			"## Example 4.5_1: power_required_to_vibrate_spring_mass_dashpot.sce"
		   ]
		  },
  {
"cell_type": "code",
	   "execution_count": null,
	   "metadata": {
	    "collapsed": true
	   },
	   "outputs": [],
"source": [
"clc\n",
"clear\n",
"mprintf('Mechanical vibrations by G.K.Grover\n Example 4.5.1\n')\n",
"//given data\n",
"X=0.015//amplitude of vibration of spring mass dashpot system in m\n",
"f=100//frquency  of vibration of spring mass dashpot system in Hz\n",
"zeta=0.05\n",
"fnD=22//damped natural frequency in Hz\n",
"m=0.5//mass in kg\n",
"//calculations\n",
"W=2*%pi*fnD\n",
"c=2*m*W*zeta// from Eqn 3.3.6 and Eqn 3.3.7\n",
"Epercycl=%pi*c*(2*%pi*f)*X^2//Eqn 4.5.1...energy dissipated per cycle\n",
"Epersec=Epercycl*f//energy dissipated per sec \n",
"//output\n",
"mprintf(' The power required to vibrate spring mass dashpot system with \n an amplitude of 1.5 cm and at frequency of 100 Hz is %4.4f Watts',Epersec)\n",
"mprintf('\nNOTE: slight differnce in answer compared to textbook\n is due approximation of value of pi') "
   ]
   }
,
{
		   "cell_type": "markdown",
		   "metadata": {},
		   "source": [
			"## Example 4.6_1: horizontal_spring_mass_system_in_dry_friction.sce"
		   ]
		  },
  {
"cell_type": "code",
	   "execution_count": null,
	   "metadata": {
	    "collapsed": true
	   },
	   "outputs": [],
"source": [
"clc\n",
"clear\n",
"mprintf('Mechanical vibrations by G.K.Grover\n Example 4.6.1\n')\n",
"//given data\n",
"mprintf('NOTE:The mass given in textbook should be equal\n to 3.7 kgs and not 8.7 Kgs')\n",
"m=3.7//mass in kg\n",
"g=9.81// gravity \n",
"K=7550////stiffness of in N/m\n",
"u=0.22//coefficient of friction\n",
"Fo=19.6//amp of force in N\n",
"f=5//frequency of force \n",
"//calculations\n",
"F=u*m*g//frictional force\n",
"W=2*%pi*f\n",
"Wn=sqrt(K/m)\n",
"bet=(W/Wn)\n",
"X=(Fo/K)*sqrt(1-(4*F/(%pi*Fo))^2)/(1-bet^2)//Eqn 4.6.2 in Sec 4.6\n",
"Ceq=4*F/(%pi*W*X)//equivalent viscous damping Eqn 4.6.1 in Sec 4.6\n",
"//output\n",
"mprintf('\nThe amplitude of vibration of mass is %f m\n The equivalent viscous damping is %f N-sec/m',X,Ceq)\n",
"mprintf('\nNOTE: slight differnce in answer compared to textbook\n is due approximation of value of pi in the taxtbook') "
   ]
   }
],
"metadata": {
		  "kernelspec": {
		   "display_name": "Scilab",
		   "language": "scilab",
		   "name": "scilab"
		  },
		  "language_info": {
		   "file_extension": ".sce",
		   "help_links": [
			{
			 "text": "MetaKernel Magics",
			 "url": "https://github.com/calysto/metakernel/blob/master/metakernel/magics/README.md"
			}
		   ],
		   "mimetype": "text/x-octave",
		   "name": "scilab",
		   "version": "0.7.1"
		  }
		 },
		 "nbformat": 4,
		 "nbformat_minor": 0
}
