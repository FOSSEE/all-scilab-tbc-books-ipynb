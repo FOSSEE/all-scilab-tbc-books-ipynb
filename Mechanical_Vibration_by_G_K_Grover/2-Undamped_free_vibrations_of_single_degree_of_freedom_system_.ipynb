{
"cells": [
 {
		   "cell_type": "markdown",
	   "metadata": {},
	   "source": [
       "# Chapter 2: Undamped free vibrations of single degree of freedom system "
	   ]
	},
{
		   "cell_type": "markdown",
		   "metadata": {},
		   "source": [
			"## Example 2.3_4: moment_of_inertia_of_flywheel.sce"
		   ]
		  },
  {
"cell_type": "code",
	   "execution_count": null,
	   "metadata": {
	    "collapsed": true
	   },
	   "outputs": [],
"source": [
"clc\n",
"clear\n",
"mprintf('Mechanical vibrations by G.K.Grover\n Example 2.3.4\n')\n",
"//given data\n",
"M=35//mass of flywheel in Kgs\n",
"r=0.3/2 //distance of centre of mass from pivot in m\n",
"T=1.22 //time period of oscillation in sec\n",
"g=9.81//accelaration due to gravity in m/(sec^2)\n",
"//concept is as follows\n",
"//Jo=mass moment of inertia about pivot, Wn=natural freqency\n",
"//thetadd=theta double dot(double differentiation)\n",
"//Jo*thetadd=-M*g*r*theta ....sum of moments is = to zero\n",
"//Jo*thetadd +(M*g*r*theta)=0\n",
"//Wn=sqrt((M*g*r*)/Jo)=2*pi/T\n",
"//calculations\n",
"Jo=M*g*r/((2*%pi/T)^2)\n",
"Jg=Jo-M*r^2 //mass moment of inertia about geometric axis\n",
"//output\n",
"mprintf('Mass moment of inertia about pivot is %4.4f Kg-m^2\n Mass moment of inertia about geometric axis is %4.4f Kg-m^2',Jo,Jg)"
   ]
   }
,
{
		   "cell_type": "markdown",
		   "metadata": {},
		   "source": [
			"## Example 2.4_1: natural_frequency_of_torsional_pendulum.sce"
		   ]
		  },
  {
"cell_type": "code",
	   "execution_count": null,
	   "metadata": {
	    "collapsed": true
	   },
	   "outputs": [],
"source": [
"clc\n",
"clear\n",
"mprintf('Mechanical vibrations by G.K.Grover\n Example 2.4.1\n')\n",
"//given data\n",
"l=1 //lenght in m\n",
"d=0.005 //dia of rod im m\n",
"D=0.2 //dia of dotor in m\n",
"M=2 //mass of motor in Kg\n",
"G=0.83 *10^11 //modulus of rigidity in N/m^2\n",
"//calculations\n",
"J=M*((D/2)^2)/2 //mass moment of inertia in Kg-m^2\n",
"Ip=(%pi/32)*d^4 //section modulus in m^4\n",
"Kt=G*Ip/l //stiffness in N-m/rad\n",
"Wn=sqrt(Kt/J) //natural freqency in rad/sec\n",
"fn=Wn/(2*%pi) //natural freq in Hz\n",
"//output\n",
"mprintf(' The natural freqency of vibration of torsional pendulum is %4.4f rad/sec\n or %4.4f Hz',Wn,fn)\n",
"mprintf('\nNOTE:In book the natural freqency of vibration of torsional pendulum\nis given as 36 Hz which is wrong.')"
   ]
   }
,
{
		   "cell_type": "markdown",
		   "metadata": {},
		   "source": [
			"## Example 2.5_1: mass_in_a_spring_mass_system.sce"
		   ]
		  },
  {
"cell_type": "code",
	   "execution_count": null,
	   "metadata": {
	    "collapsed": true
	   },
	   "outputs": [],
"source": [
"clc\n",
"clear\n",
"mprintf('Mechanical vibrations by G.K.Grover\n Example 2.5.1\n')\n",
"//given data\n",
"k1=2000 //stiffness of spring 1 in N/m\n",
"k2=1500 //stiffness of spring 2 in N/m\n",
"k3=3000 //stiffness of spring 3 in N/m\n",
"k4=500 //stiffness of spring 4 in N/m\n",
"k5=500 //stiffness of spring 5 in N/m\n",
"fn =10 //natural frequency of system in Hz\n",
"//calculations\n",
"Ke1=1/((1/k1)+(1/k2)+(1/k3)) // effective stiffness of  top 3 springs in series in N/m\n",
"Ke2=k4+k5 // effective stiffness of lower 2 springs in parallel in N/m\n",
"Ke=Ke1+Ke2 //  total effective stiffness of sring system\n",
"M=Ke/(2*%pi*fn)^2 //reqired mass such that the natural frequency of system is 10 Hz  (in Kg)\n",
"//output\n",
"mprintf(' The mass required such that the natural frequency of system is 10 Hz\n is %4.4f Kg',M)"
   ]
   }
,
{
		   "cell_type": "markdown",
		   "metadata": {},
		   "source": [
			"## Example 2.5_2: natural_frequency_of_torsional_oscillation.sce"
		   ]
		  },
  {
"cell_type": "code",
	   "execution_count": null,
	   "metadata": {
	    "collapsed": true
	   },
	   "outputs": [],
"source": [
"clc\n",
"clear\n",
"mprintf('Mechanical vibrations by G.K.Grover\n Example 2.5.2\n')\n",
"//given data\n",
"G=0.83*10^11//rigidity modulus in N/m^2\n",
"J=14.7 //mass moment of inertia in kg-m^2\n",
"l1=0.6 //lenght of section 1 in m\n",
"l2=1.8 //lenght of section 2 in m\n",
"l3=0.25 //lenght of section 3 in m\n",
"d1=0.05 //dia of section 1 in m\n",
"d2=0.08 //dia of section 2 in m\n",
"d3=0.03 //dia of section 3 in m\n",
"//calculations\n",
"Kt1=(G/l1)*(%pi/32)*d1^4 //(%pi/32)*d^4 is the section modulus\n",
"Kt2=(G/l2)*(%pi/32)*d2^4\n",
"Kt3=(G/l3)*(%pi/32)*d3^4\n",
"Kt=1/((1/Kt1)+(1/Kt2)+(1/Kt3)) //total effective stiffness of the torsional system\n",
"Wn=sqrt(Kt/J)//natural freq in rad/sec\n",
"fn=Wn/(2*%pi) //natural freq in Hz\n",
"//output\n",
"mprintf(' The natural frequency of torsional oscillation for the given system is\n %4.4f rad/sec or %4.4f Hz.',Wn,fn)\n",
"mprintf('\nNOTE:Since the value of Kt in the textbook has been rounded of\n   to 3 decimal places,the final answer varies slightly.')"
   ]
   }
],
"metadata": {
		  "kernelspec": {
		   "display_name": "Scilab",
		   "language": "scilab",
		   "name": "scilab"
		  },
		  "language_info": {
		   "file_extension": ".sce",
		   "help_links": [
			{
			 "text": "MetaKernel Magics",
			 "url": "https://github.com/calysto/metakernel/blob/master/metakernel/magics/README.md"
			}
		   ],
		   "mimetype": "text/x-octave",
		   "name": "scilab",
		   "version": "0.7.1"
		  }
		 },
		 "nbformat": 4,
		 "nbformat_minor": 0
}
