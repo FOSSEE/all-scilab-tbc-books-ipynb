{
"cells": [
 {
		   "cell_type": "markdown",
	   "metadata": {},
	   "source": [
       "# Chapter 8: Critical speeds of shafts"
	   ]
	},
{
		   "cell_type": "markdown",
		   "metadata": {},
		   "source": [
			"## Example 8.2_1: rotor_mounted_midway_on_shaft.sce"
		   ]
		  },
  {
"cell_type": "code",
	   "execution_count": null,
	   "metadata": {
	    "collapsed": true
	   },
	   "outputs": [],
"source": [
"clc\n",
"clear\n",
"mprintf('Mechanical vibrations by G.K.Grover\n Example 8.2.1\n')\n",
"//given data\n",
"E=1.96*10^11//youngs modulus in N/m^2\n",
"m=5//mass of rotor in kg\n",
"d=0.01//dia of shaft in m\n",
"I=(%pi/64)*d^4///moment of area in m^4\n",
"l=0.4//bearing span in m\n",
"e=0.02//distance of CG away from geometric centre of rotor in mm\n",
"N=3000//speed of shaft in RPM\n",
"//calculations\n",
"k=48*E*I/l^3//stiffness of shaft in N/m\n",
"Wn=sqrt(k/m)\n",
"W=2*%pi*N/60\n",
"bet=(W/Wn)\n",
"r=(bet^2*e/(1-bet^2))//from Eqn 8.2.2 in Sec 8.2 \n",
"rabs=abs(r)//absolute value of displacement\n",
"Rd=k*rabs/1000//total dynamic load in bearings in N(divide by 1000 since r is in mm)\n",
"F=Rd/2//dynamic load on each bearings in N\n",
"//output\n",
"mprintf(' The amplitude of steady state vibration of shaft is %f mm\nNOTE:negetive sign shows that displacement is out of phase with centrifugal force\nThe dynamic force transmtted to the bearings is %4.4f N\n The dynamic load on each bearing is %4.4f N',r,Rd,F) "
   ]
   }
,
{
		   "cell_type": "markdown",
		   "metadata": {},
		   "source": [
			"## Example 8.3_1: disc_mounted_midway_between_bearings.sce"
		   ]
		  },
  {
"cell_type": "code",
	   "execution_count": null,
	   "metadata": {
	    "collapsed": true
	   },
	   "outputs": [],
"source": [
"clc\n",
"clear\n",
"mprintf('Mechanical vibrations by G.K.Grover\n Example 8.3.1\n')\n",
"//given data\n",
"E=1.96*10^11//youngs modulus in N/m^2\n",
"m=4//mass of rotor in kg\n",
"g=9.81//acc due to gravity in m/sec^2\n",
"d=0.009//dia of shaft in m\n",
"I=(%pi/64)*d^4///moment of area in m^4\n",
"l=0.48//bearing span in m\n",
"e=0.003//distance of CG away from geometric centre of rotor in mm\n",
"N=760//speed of shaft in RPM\n",
"c=49//equivalent viscous damping in N-sec/m\n",
"//calculations\n",
"K=48*E*I/l^3//stiffness of shaft in N/m\n",
"Wn=sqrt(K/m)\n",
"W=2*%pi*N/60\n",
"bet=(W/Wn)\n",
"zeta=c/(2*sqrt(K*m))\n",
"r=e*(bet^2/sqrt(((1-bet^2)^2+(2*zeta*bet)^2)))//from Eqn 8.3.4 ,Sec 8.3\n",
"Fd=sqrt((K*r)^2+(c*W*r)^2)//dynamic load on bearing in N\n",
"Fs=m*g//static load in N\n",
"Fmax=Fd+Fs//maximum static load on the shaft under dynamic condition in N\n",
"smax=(Fmax*l/4)*(d/2)/I//maximum stress under dynamic condition in N/m^2\n",
"ss=(Fs*l/4)*(d/2)/I//maximum stress under dead load condition in N/m^2\n",
"Fdamp=(c*W*r)//damping force in N\n",
"Tdamp=Fdamp*r//damping torque in N-m\n",
"P=2*%pi*N*Tdamp/60//power in Watts\n",
"//output\n",
"mprintf(' The mamximum stress in the shaft under dynamic condition is %.3f N/(m^2)\n The dead load stress is %.3f N/(m^2)\n The power required to drive the shaft at 760 RPM is %4.4f Watts',smax,ss,P)"
   ]
   }
,
{
		   "cell_type": "markdown",
		   "metadata": {},
		   "source": [
			"## Example 8.4_1: two_critical_speeds.sce"
		   ]
		  },
  {
"cell_type": "code",
	   "execution_count": null,
	   "metadata": {
	    "collapsed": true
	   },
	   "outputs": [],
"source": [
"clc\n",
"clear\n",
"mprintf('Mechanical vibrations by G.K.Grover\n Example 8.4.1\n')\n",
"//given data\n",
"E=1.96*10^11//youngs modulus in N/m^2\n",
"I=4*10^-7//moment of area in m^4\n",
"M1=100;M2=50//mass of discs 1 and 2 in Kgs\n",
"c=0.18//distance of disc 1 from support in m\n",
"l=0.3//distance of disc 2 from support in m\n",
"g=9.81//aceleration due to gravity in m/sec^2\n",
"//calculations\n",
"a=[(c^3/(3*E*I)),(c^2/(6*E*I)*(3*l-c));(c^2/(6*E*I)*(3*l-c)),(l^3/(3*E*I))]//from SOM\n",
"p=M1*a(1,1)+M2*a(2,2)//from Eqn 8.4.6 ,Sec 8.4\n",
"q=M1*M2*(a(1,1)*a(2,2)-(a(1,2)^2))//from Eqn 8.4.6 ,Sec 8.4\n",
"Wn1=sqrt((p-sqrt(p^2-4*q))/(2*q))//from Eqn 8.4.6 ,Sec 8.4\n",
"Wn2=sqrt((p+sqrt(p^2-4*q))/(2*q))//from Eqn 8.4.6 ,Sec 8.4\n",
"Nc1=Wn1*60/(2*%pi)//critical speed in RPM\n",
"Nc2=Wn2*60/(2*%pi)//critical speed in RPM\n",
"//output\n",
"mprintf(' The critical speeds for the system shown in fig 7.2.1 are %4.4f RPM and %4.4f RPM',Nc1,Nc2)"
   ]
   }
,
{
		   "cell_type": "markdown",
		   "metadata": {},
		   "source": [
			"## Example 8.6_1: right_cantilever_steel_shaft_with_rotor_at_the_end.sce"
		   ]
		  },
  {
"cell_type": "code",
	   "execution_count": null,
	   "metadata": {
	    "collapsed": true
	   },
	   "outputs": [],
"source": [
"clc\n",
"clear\n",
"mprintf('Mechanical vibrations by G.K.Grover\n Example 8.6.1\n')\n",
"//given data\n",
"E=1.96*10^11//youngs modulus in N/m^2\n",
"M=10//mass of rotor in kg\n",
"g=9.81//acc due to gravity in m/sec^2\n",
"ra=0.12//radius of gyration in m\n",
"l=0.3//lenght of steel shaft in m\n",
"b=0.06//thickness of rotor in m\n",
"I=10*10^-8//moment of inertia of section in m^4\n",
"//calculations\n",
"r=sqrt((ra^2/2)+(b^2/12))\n",
"h=3*(r^2)/l^2//from Eqn 8.6.4 ,Sec 8.6\n",
"g1=sqrt((2/h)*((h+1)-sqrt((h+1)^2-h)))//natural frequency,from Eqn 8.6.4 ,Sec 8.6\n",
"g2=sqrt((2/h)*((h+1)+sqrt((h+1)^2-h)))//natural frequency,from Eqn 8.6.4 ,Sec 8.6\n",
"W1=g1*sqrt(3*E*I/(M*l^3))//from Eqn 8.6.4 ,Sec 8.6\n",
"W2=g2*sqrt(3*E*I/(M*l^3))//from Eqn 8.6.4 ,Sec 8.6\n",
"Nc1=W1*60/(2*%pi)//critical speed in RPM\n",
"Nc2=W2*60/(2*%pi)//critical speed in RPM\n",
"//output\n",
"mprintf(' The operating speed of 10000 RPM is not near to either of \n the critical speeds i.e %4.4f RPM or %4.4f RPM.\n Therefore the operating speed is safe.',Nc1,Nc2)"
   ]
   }
],
"metadata": {
		  "kernelspec": {
		   "display_name": "Scilab",
		   "language": "scilab",
		   "name": "scilab"
		  },
		  "language_info": {
		   "file_extension": ".sce",
		   "help_links": [
			{
			 "text": "MetaKernel Magics",
			 "url": "https://github.com/calysto/metakernel/blob/master/metakernel/magics/README.md"
			}
		   ],
		   "mimetype": "text/x-octave",
		   "name": "scilab",
		   "version": "0.7.1"
		  }
		 },
		 "nbformat": 4,
		 "nbformat_minor": 0
}
