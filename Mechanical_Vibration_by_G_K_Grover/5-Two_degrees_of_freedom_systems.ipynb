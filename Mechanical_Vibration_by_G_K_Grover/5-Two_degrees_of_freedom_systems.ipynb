{
"cells": [
 {
		   "cell_type": "markdown",
	   "metadata": {},
	   "source": [
       "# Chapter 5: Two degrees of freedom systems"
	   ]
	},
{
		   "cell_type": "markdown",
		   "metadata": {},
		   "source": [
			"## Example 5.3_2: uniform_rods_pivoted_at_their_upper_ends.sce"
		   ]
		  },
  {
"cell_type": "code",
	   "execution_count": null,
	   "metadata": {
	    "collapsed": true
	   },
	   "outputs": [],
"source": [
"clc\n",
"clear\n",
"mprintf('Mechanical vibrations by G.K.Grover\n Example 5.3.2\n')\n",
"//given data\n",
"m1=5*0.75//mass of rod 1 in kgs\n",
"m2=5*1.00//mass of rod 2 in kgs\n",
"l1=0.75//lenght of rod 1 in m\n",
"l2=1.00//lenght of rod 2 in m\n",
"K=2940//stiffness of spring in N/m\n",
"//calculations\n",
"Wn=sqrt(3*(m1+m2)*K/(m1*m2))//natural frequency in rad/sec\n",
"fn=Wn/(2*%pi)//natural frequency in Hz as solved in the textbook itself\n",
"b1=(K*l2)\n",
"b2=(K*l1-m1*l1*Wn^2/3)\n",
"x=(b2/b1)\n",
"Fmax=K*(l1*1-l2*x)/57.3//to convert into radians\n",
"//output\n",
"mprintf('The frequency of the resulting vibrations if the efect of gravity\n is neglected is %4.4f rad/sec or %4.4f Hz.\n The angular movement of CD is %3.3f degrees(out of phase) \n with the movement of AB.\n The maximum force in the spring is %4.4f N',Wn,fn,x,Fmax) "
   ]
   }
,
{
		   "cell_type": "markdown",
		   "metadata": {},
		   "source": [
			"## Example 5.3_3: shaft_with_2_circular_discs_at_the_end.sce"
		   ]
		  },
  {
"cell_type": "code",
	   "execution_count": null,
	   "metadata": {
	    "collapsed": true
	   },
	   "outputs": [],
"source": [
"clc\n",
"clear\n",
"mprintf('Mechanical vibrations by G.K.Grover\n Example 5.3.3\n')\n",
"//given data\n",
"m1=500//mass of disc 1 in Kgs\n",
"m2=1000//mass of disc 2 in Kgs\n",
"D1=1.25//outer dia of disc 1 in m\n",
"D2=1.9//outer dia of disc 2 in m\n",
"l=3.0//lenght of shaft in m\n",
"d=0.10//dia of shaft in m\n",
"G=0.83*10^11//rigidity modulus in N/m^2\n",
"//calculations\n",
"J1=m1*(D1/2)^2/2//mass moment of inertia in kg-m^2\n",
"J2=m2*(D2/2)^2/2//mass moment of inertia in kg-m^2\n",
"Ip=(%pi/32)*d^4//section modulus of shaft in m^4\n",
"Kt=G*Ip/l//stiffness in N-m/rad\n",
"Wn=sqrt(Kt*(J1+J2)/(J1*J2))//from Eqn 5.3.28,Sec 5.3.3\n",
"fn=Wn/(2*%pi)\n",
"Kt1=2*Kt\n",
"Kt2=2*Kt*2^4\n",
"Kte=1/((1/Kt1)+(1/Kt2))\n",
"x=sqrt(Kte/Kt)//ratio of modified natural freq to original natural frequency\n",
"//output\n",
"mprintf('The natural frequency of the torsional vibration is\n %4.4f rad/sec or %3.3f Hz.\n The ratio of modified natural frequency to original natural frequency\n is %3.3f.Which means stiffening a system increases its natural frequency',Wn,fn,x)"
   ]
   }
,
{
		   "cell_type": "markdown",
		   "metadata": {},
		   "source": [
			"## Example 5.7_1: torque_applied_to_a_torsional_system.sce"
		   ]
		  },
  {
"cell_type": "code",
	   "execution_count": null,
	   "metadata": {
	    "collapsed": true
	   },
	   "outputs": [],
"source": [
"clc\n",
"clear\n",
"mprintf('Mechanical vibrations by G.K.Grover\n Example 5.7.1\n')\n",
"//given data\n",
"J1=0.735//moment of inertia of main system in Kg-m^2\n",
"Kt1=7.35*10^5//torsional stiffness\n",
"To=294//amplitude of applied torque\n",
"W=10^3//frequency of applied torque\n",
"//u=ratio of absorber mass to main mass i.e M2/M1\n",
"//Wn is exitation frequency\n",
"//calculations\n",
"W1=sqrt(Kt1/J1)\n",
"//case1\n",
"x1=0.8//where x=(W/W2)\n",
"u1=[x1^2-1]^2/x1^2//from Eqn 5.7.9,Sec 5.7.1.\n",
"//case 2\n",
"x2=1.2//where x=(W/W2)\n",
"u2=[x2^2-1]^2/x2^2//from Eqn 5.7.9,Sec 5.7.1.\n",
"if u1>u2 then\n",
"    u=u1\n",
"else\n",
"    u=u2\n",
"end\n",
"J2=u*J1//moment of inertia of absorber in Kg-m^2\n",
"Kt2=u*Kt1// total torsional stiffness of absorber \n",
"K=Kt2/(4*0.1^2)//stiffness of each spring in N/m\n",
"b2=-(To/Kt2)//amplitude of vibration in rad\n",
"//output\n",
"mprintf('The maximum moment of inertia of absorber(J2) is %4.4f Kg-m^2 and\n %f is the stiffness of each of the four absorber springs such that\n the resonant frequencies are at least 20 percent from exitation frequency.\n The amplitude of vibration of this absorber(b2) at exitation frequency\n is %f radians',J2,K,b2)"
   ]
   }
,
{
		   "cell_type": "markdown",
		   "metadata": {},
		   "source": [
			"## Example 5.7_2: section_of_pipe_in_a_machine.sce"
		   ]
		  },
  {
"cell_type": "code",
	   "execution_count": null,
	   "metadata": {
	    "collapsed": true
	   },
	   "outputs": [],
"source": [
"clc\n",
"clear\n",
"mprintf('Mechanical vibrations by G.K.Grover\n Example 5.7.2\n')\n",
"//given data\n",
"W1=220*2*%pi/60//vibrating frequency at 220 RPM (in rad/sec)\n",
"W2=W1//frequency to which the spring mass system is tuned to.\n",
"M2=1//mass in spring mass system in kgs\n",
"N1=188//first resonant freq of spring mass system in cpm\n",
"N2=258//second resonant freq of spring mass system in cpm\n",
"//u=ratio of absorber mass to main mass i.e M2/M1\n",
"//calculations\n",
"K2=M2*W2^2\n",
"Wn1=N1*2*%pi/60//first resonant freq of spring mass system in rad/sec\n",
"Wn2=N2*2*%pi/60//second resonant freq of spring mass system in rad/sec\n",
"//case 1\n",
"W=Wn1\n",
"x1=(W/W2)\n",
"u1=[x1^2-1]^2/x1^2//from Eqn 5.7.9,Sec 5.7.1.\n",
"//case 2\n",
"W=Wn2\n",
"x2=(W/W2)\n",
"u2=[x2^2-1]^2/x2^2//from Eqn 5.7.9,Sec 5.7.1.\n",
"//therefore\n",
"u=(u1+u2)/2//which is equal to M2/M1\n",
"M1=M2/u// mass of main system in kgs\n",
"K1=K2/u//stiffness of main system in N/m\n",
"//now\n",
"Wn21=150*2*%pi/60//new first resonant frequency in rad/sec\n",
"Wn22=310*2*%pi/60//new second resonant frequency in rad/sec\n",
"W=Wn21\n",
"x1=(W/W2)\n",
"u1=[x1^2-1]^2/x1^2//from Eqn 5.7.9,Sec 5.7.1.\n",
"//case 2\n",
"W=Wn22\n",
"x2=(W/W2)\n",
"u2=[x2^2-1]^2/x2^2//from Eqn 5.7.9,Sec 5.7.1.\n",
"//choosing the higher value\n",
"if u1>u2 then\n",
"    u=u1\n",
"else\n",
"    u=u2\n",
"end\n",
"M3=M1*u// mass of main system in kgs\n",
"K3=K1*u//stiffness of main system in N/m\n",
"//output\n",
"mprintf(' The mass of main system required is %4.4f kgs\n stiffness of main system reqired is %5.5f N/m\n If the resonant frequencies lie outside the range of 150 to 310 rpm then\n mass of main system is %4.4f kgs\n stiffness of main system is %5.5f N/m',M1,K1,M3,K3)"
   ]
   }
],
"metadata": {
		  "kernelspec": {
		   "display_name": "Scilab",
		   "language": "scilab",
		   "name": "scilab"
		  },
		  "language_info": {
		   "file_extension": ".sce",
		   "help_links": [
			{
			 "text": "MetaKernel Magics",
			 "url": "https://github.com/calysto/metakernel/blob/master/metakernel/magics/README.md"
			}
		   ],
		   "mimetype": "text/x-octave",
		   "name": "scilab",
		   "version": "0.7.1"
		  }
		 },
		 "nbformat": 4,
		 "nbformat_minor": 0
}
