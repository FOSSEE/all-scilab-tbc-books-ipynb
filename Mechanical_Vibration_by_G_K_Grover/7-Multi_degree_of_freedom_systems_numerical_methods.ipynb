{
"cells": [
 {
		   "cell_type": "markdown",
	   "metadata": {},
	   "source": [
       "# Chapter 7: Multi degree of freedom systems numerical methods"
	   ]
	},
{
		   "cell_type": "markdown",
		   "metadata": {},
		   "source": [
			"## Example 7.2_1: fundamental_frequency_by_rayleigh_method.sce"
		   ]
		  },
  {
"cell_type": "code",
	   "execution_count": null,
	   "metadata": {
	    "collapsed": true
	   },
	   "outputs": [],
"source": [
"clc\n",
"clear\n",
"mprintf('Mechanical vibrations by G.K.Grover\n Example 7.2.1\n')\n",
"//given data\n",
"E=1.96*10^11//youngs modulus in N/m^2\n",
"I=4*10^-7//moment of area in m^4\n",
"M1=100;M2=50//mass of discs 1 and 2 in Kgs\n",
"c=0.18//distance of disc 1 from support in m\n",
"l=0.3//distance of disc 2 from support in m\n",
"g=9.81//aceleration due to gravity in m/sec^2\n",
"//calculations\n",
"a=[(c^3/(3*E*I)),(c^2/(6*E*I)*(3*l-c));(c^2/(6*E*I)*(3*l-c)),(l^3/(3*E*I))]//from SOM\n",
"y1=g*(M1*a(1,1)+M2*a(1,2))\n",
"y2=g*(M1*a(2,1)+M2*a(2,2))\n",
"Wn=sqrt(g*(M1*y1+M2*y2)/(M1*y1^2+M2*y2^2))\n",
"//now to find out lower natural frequency\n",
"F1=M1*y1*Wn^2\n",
"F2=M2*y2*Wn^2\n",
"y1new=F1*a(1,1)+F2*a(1,2)\n",
"y2new=F1*a(2,1)+F2*a(2,2)\n",
"Wnnew=sqrt((F1*y1new+F2*y2new)/(M1*y1new^2+M2*y2new^2))//actual natural frequency in rad/sec\n",
"//output\n",
"mprintf(' The practical natural frequency Wn is %4.4f rad/sec,but the lower \n natural frequency Wn`is %4.4f rad/sec which is closer to the actual\n natural frequency',Wn,Wnnew)"
   ]
   }
,
{
		   "cell_type": "markdown",
		   "metadata": {},
		   "source": [
			"## Example 7.3_1: Dunkerly_method.sce"
		   ]
		  },
  {
"cell_type": "code",
	   "execution_count": null,
	   "metadata": {
	    "collapsed": true
	   },
	   "outputs": [],
"source": [
"clc\n",
"clear\n",
"mprintf('Mechanical vibrations by G.K.Grover\n Example 7.3.1\n')\n",
"//given data\n",
"E=1.96*10^11//youngs modulus in N/m^2\n",
"I=4*10^-7//moment of area in m^4\n",
"M1=100;M2=50//mass of discs 1 and 2 in Kgs\n",
"c=0.18//distance of disc 1 from support in m\n",
"l=0.3//distance of disc 2 from support in m\n",
"g=9.81//aceleration due to gravity in m/sec^2\n",
"//calculations\n",
"a=[(c^3/(3*E*I)),(c^2/(6*E*I)*(3*l-c));(c^2/(6*E*I)*(3*l-c)),(l^3/(3*E*I))]//from SOM\n",
"y1=g*M1*a(1,1)//considering only M1 to be acting\n",
"y2=g*M2*a(2,2)//considering only M2 to be acting\n",
"W1=sqrt(g/y1)\n",
"W2=sqrt(g/y2)\n",
"Wn=sqrt(1/((1/W1^2)+(1/W2^2)))//applying Eqn 7.3.7,Sec7.3\n",
"//output\n",
"mprintf(' The natural frequency of transverse vibration obtained from \n Dunkerly method is %4.4f rad/sec which is slightly lower\n than the correct value',Wn)"
   ]
   }
,
{
		   "cell_type": "markdown",
		   "metadata": {},
		   "source": [
			"## Example 7.4_1: Stodola_method.sce"
		   ]
		  },
  {
"cell_type": "code",
	   "execution_count": null,
	   "metadata": {
	    "collapsed": true
	   },
	   "outputs": [],
"source": [
"clc\n",
"clear\n",
"mprintf('Mechanical vibrations by G.K.Grover\n Example 7.4.1\n')\n",
"//given data\n",
"E=1.96*10^11//youngs modulus in N/m^2\n",
"I=4*10^-7//moment of area in m^4\n",
"M1=100;M2=50//mass of discs 1 and 2 in Kgs\n",
"c=0.18//distance of disc 1 from support in m\n",
"l=0.3//distance of disc 2 from support in m\n",
"g=9.81//aceleration due to gravity in m/sec^2\n",
"//calculations\n",
"a=[(c^3/(3*E*I)),(c^2/(6*E*I)*(3*l-c));(c^2/(6*E*I)*(3*l-c)),(l^3/(3*E*I))]//from SOM\n",
"x1(1)=1;x2(1)=1\n",
"for i=1:10//upto 10th iteration for more perfect answer\n",
"F1(i)=100*x1(i)//'i' represents the dash(')\n",
"F2(i)=50*x2(i)\n",
"x1(i)=F1(i)*a(1,1)+F2(i)*a(1,2)\n",
"x2(i)=F1(i)*a(2,1)+F2(i)*a(2,2)\n",
"r=(x2(i)/x1(i))\n",
"x2(i+1)=r\n",
"x1(i+1)=1\n",
"end\n",
"x1dd=1\n",
"W1=(x1dd/x1(10))\n",
"W2=(r/x2(10))\n",
"Wn=sqrt((W1+W2)/2)//natural frequency in rad/sec\n",
"mprintf('The natural frequency of system in iilustrative example 7.2.1 obtained by\nStodala method is Wn=%f rad/sec',Wn)\n",
"mprintf('\nNOTE:The obtained answer is more near to the perfect answer \since 10 iterations/trials\nhas been carried out.In textbook only upto 3rd iteration has been carried out')"
   ]
   }
,
{
		   "cell_type": "markdown",
		   "metadata": {},
		   "source": [
			"## Example 7.7_2: four_rotor_system.sce"
		   ]
		  },
  {
"cell_type": "code",
	   "execution_count": null,
	   "metadata": {
	    "collapsed": true
	   },
	   "outputs": [],
"source": [
"clc\n",
"clear\n",
"mprintf('Mechanical vibrations by G.K.Grover\n Example 7.7.2\n')\n",
"//given data\n",
"J(1)=100//moment of inertia of first rotor in Kg-m^2\n",
"J(2)=50//moment of inertia of second rotor in Kg-m^2\n",
"J(3)=10//moment of inertia of third rotor in Kg-m^2\n",
"J(4)=50//moment of inertia of fourth rotor in Kg-m^2\n",
"Kt(1)=10^4//stiffness of shaft between 1 and 2 in N-m/rad\n",
"Kt(2)=10^4//stiffness of shaft between 2 and 3 in N-m/rad\n",
"Kt(3)=2*10^4//stiffness of shaft between 3 and 4 in N-m/rad\n",
"To=10000//amplitude of applied torque in N-m\n",
"W=5//frequency of applied torque in rad/sec\n",
"//calculations\n",
"b(1)=-(0.789*To)/3825//twist of shaft 1 in rad\n",
"P(1)=J(1)*W^2\n",
"Q(1)=P(1)*b(1)//twisting moment of shaft 1 in N-m\n",
"R(1)=Q(1)\n",
"S(1)=R(1)/Kt(1)//twist of shaft 1 in radians\n",
"b(2)=b(1)-S(1)//twist of shaft 2 in rad\n",
"P(2)=J(2)*W^2\n",
"Q(2)=P(2)*b(2)\n",
"R(2)=Q(1)+Q(2)+To//twisting moment of shaft 2 in N-m\n",
"S(2)=R(2)/Kt(2)//twist of shaft 2 in radians\n",
"b(3)=b(2)-S(2)//twist of shaft 3 in rad\n",
"P(3)=J(3)*W^2\n",
"Q(3)=P(3)*b(3)\n",
"R(3)=Q(2)+Q(3)//twisting moment of shaft 3 in N-m\n",
"S(3)=R(3)/Kt(3)//twist of shaft 3 in radians\n",
"b(4)=b(3)-S(3)//twist of shaft 4 in rad\n",
"P(4)=J(4)*W^2\n",
"Q(4)=P(4)*b(4)\n",
"R(4)=Q(3)+Q(4)//twisting moment of shaft 4 in N-m\n",
"mprintf('The amplitudes of discs are as follows\n disc1=%4.4f rad\n disc2=%4.4f rad\n disc3=%4.4f rad\n disc4=%4.4f rad',b(1),b(2),b(3),b(4))\n",
"mprintf('\nThe twists of shaft are as follows\nfirst shaft=%5.5f rad\nsecond shaft=%5.5f rad\nthird shaft=%5.5f rad',S(1),S(2),S(3))\n",
"mprintf('\nThe twisting moments of shafts are as follows\nfirst shaft=%5.5f N-m\nsecond shaft=%5.5f N-m\nthird shaft=%5.5f N-m',R(1),R(2),R(3)) \n",
"mprintf('\nNOTE:The slight difference in values are due to the more accurate values\ncalculated by SCILAB')"
   ]
   }
],
"metadata": {
		  "kernelspec": {
		   "display_name": "Scilab",
		   "language": "scilab",
		   "name": "scilab"
		  },
		  "language_info": {
		   "file_extension": ".sce",
		   "help_links": [
			{
			 "text": "MetaKernel Magics",
			 "url": "https://github.com/calysto/metakernel/blob/master/metakernel/magics/README.md"
			}
		   ],
		   "mimetype": "text/x-octave",
		   "name": "scilab",
		   "version": "0.7.1"
		  }
		 },
		 "nbformat": 4,
		 "nbformat_minor": 0
}
