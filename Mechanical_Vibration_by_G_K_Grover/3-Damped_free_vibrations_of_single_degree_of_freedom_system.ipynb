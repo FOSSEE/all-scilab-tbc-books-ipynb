{
"cells": [
 {
		   "cell_type": "markdown",
	   "metadata": {},
	   "source": [
       "# Chapter 3: Damped free vibrations of single degree of freedom system"
	   ]
	},
{
		   "cell_type": "markdown",
		   "metadata": {},
		   "source": [
			"## Example 3.3_2: undamped_and_damped_natural_frequencies_of_system.sce"
		   ]
		  },
  {
"cell_type": "code",
	   "execution_count": null,
	   "metadata": {
	    "collapsed": true
	   },
	   "outputs": [],
"source": [
"clc\n",
"clear\n",
"mprintf('Mechanical vibrations by G.K.Grover\n Example 3.3.2\n')\n",
"//given data\n",
"m=10 //mass of solid in Kg\n",
"Kr=3000 //stiffness of  natural rubber in N/m\n",
"Kf=12000 //stiffness of felt in N/m\n",
"Cr=100 //damping coefficient of  natural rubber in N-sec/m\n",
"Cf=330 //damping coefficient of felt in N-sec/m\n",
"//calculations\n",
"Ke=1/((1/Kf)+(1/Kr)) //equivalent stiffness in N/m\n",
"Ce=1/((1/Cf)+(1/Cr)) //equivalent damping coefficient N-sec/m\n",
"Wn=sqrt(Ke/m) // undamped natural freq in rad/sec\n",
"fn=Wn/(2*%pi) // undamped natural freq in Hz\n",
"zeta=Ce/(2*sqrt(Ke*m)) //damping factor\n",
"Wd=sqrt(1-zeta^2)*Wn //damped natural freuency in rad/sec(eqn 3.3.16)\n",
"fd=Wd/(2*%pi) // damped natural frequency in Hz\n",
"//output\n",
"mprintf(' The undamped natural frequency is %4.4f rad/sec or %4.4f Hz\n The damped natural freuency is %4.4f rad/sec or %4.4f Hz',Wn,fn,Wd,fd)"
   ]
   }
,
{
		   "cell_type": "markdown",
		   "metadata": {},
		   "source": [
			"## Example 3.3_3: gun_barrel_recoilling.sce"
		   ]
		  },
  {
"cell_type": "code",
	   "execution_count": null,
	   "metadata": {
	    "collapsed": true
	   },
	   "outputs": [],
"source": [
"clc\n",
"clear\n",
"mprintf('Mechanical vibrations by G.K.Grover\n Example 3.3.3\n')\n",
"//given data\n",
"m=600//mass of gun barrel in Kgs\n",
"k=294000//stiffness in N/m\n",
"x=1.3//recoil of gun in meters\n",
"//calculations\n",
"E=0.5*k*x^2//energy stored at the end of recoil\n",
"Vo=sqrt(2*E/m)//velocity of recoil\n",
"Cc=2*sqrt(k*m)//critical damping in N-sec/m\n",
"Wn=sqrt(k/m)//natural frequency of undamped vibration in rad/sec\n",
"T=2*%pi/Wn//time period of undamped vibration in sec\n",
"Trecoil=(1/4)*T//time period for recoil or outward stroke in sec\n",
"//x=(1.3+28.8*t)*e^(-22.1*t) from eqn 3.3.24\n",
"mprintf('a)the initial recoil velocity of barrel is %f m/s\nb)critical damping co-efficient of the dashpot which is engaged at\nthe end of recoil stroke is %f N-sec/m\n\nsubstituting the value for t in eqn 3.3.24,starting from t=0.1 sec\nwith an increment of 0.01sec we get the following observations\n',Vo,Cc)\n",
"t=0.1\n",
"for i=1:20\n",
"   x=(1.3 +28.8*t)*exp(-22.1*t)\n",
"   mprintf('x=%f at t=%f\n',x,t)\n",
"   t=t+0.01\n",
"end\n",
"mprintf('As x approaches the value of 0.05m,the value of t=0.22sec')\n",
"Trec=0.22\n",
"Tret=Trecoil+Trec\n",
"mprintf('\nc)Therefore time required for barrel to return to position 5cm from\n the initial position is %f sec',Tret)"
   ]
   }
,
{
		   "cell_type": "markdown",
		   "metadata": {},
		   "source": [
			"## Example 3.4_1: disc_of_torsional_pendulum.sce"
		   ]
		  },
  {
"cell_type": "code",
	   "execution_count": null,
	   "metadata": {
	    "collapsed": true
	   },
	   "outputs": [],
"source": [
"clc\n",
"clear\n",
"mprintf('Mechanical vibrations by G.K.Grover\n Example 3.4.1\n')\n",
"//given data\n",
"J=0.06 //moment of inertia of disc of pendulum in Kg-m^2\n",
"G=4.4*10^10 //rigidity modulus in N/m^2\n",
"l=0.4 //lenght of shaft in m\n",
"d=0.1 //diametre of shaft in m\n",
"a1=9 //amplitude of first oscillation in degrees\n",
"a2=6 //amplitude of second oscillation in degrees\n",
"a3=4 //amplitude of third oscillation in degrees\n",
"//calculations\n",
"delta=log(a1/a2) //logarithmic decrement eqn 3.4.1 explained in sec 3.4\n",
"zeta=delta/sqrt(4*%pi^2+delta^2) //representing zeta from eqn 3.4.1 in sec 3.4\n",
"Kt=(G/l)*(%pi/32)*d^4 //(%pi/32)*d^4 is the section modulus\n",
"C=zeta*2*sqrt(Kt*J) // torsional damping coefficient which is the damping torque at unit velocity (similar to eqn 3.3.6 in sec 3.3)\n",
"Wn=sqrt(Kt/J) // undamped natural freq in rad/sec\n",
"T=2*%pi/(sqrt(1-zeta^2)*Wn) //periodic time of vibration \n",
"fn=Wn/(2*%pi) //natural freq of undamped vibration\n",
"//output\n",
"mprintf(' a)logarithmic decrement is %4.4f\n b)damping torque at unit velocity is %4.4f N-m/rad\n c)periodic time of vibration is %4.5f sec\n frequency of vibration if the disc is removed from viscous fluid is %4.4f Hz',delta,C,T,fn)"
   ]
   }
,
{
		   "cell_type": "markdown",
		   "metadata": {},
		   "source": [
			"## Example 3.6_1: spring_mass_system_with_coulomb_damping.sce"
		   ]
		  },
  {
"cell_type": "code",
	   "execution_count": null,
	   "metadata": {
	    "collapsed": true
	   },
	   "outputs": [],
"source": [
"clc\n",
"clear\n",
"mprintf('Mechanical vibrations by G.K.Grover\n Example 3.6.1\n')\n",
"//given data\n",
"m=5 //mass in spring mass system )in kg)\n",
"k=980//stiffnes of spring in N/m\n",
"u=0.025//coefficient of friction\n",
"g=9.81//acceleration due to gravity\n",
"//calculations\n",
"F=u*m*g//frictional force in N\n",
"Wn=sqrt(k/m)// freq of free oscillations in rad/sec\n",
"fn=Wn/(2*%pi)// freq of free oscillations in Hz\n",
"Ai=0.05//initial amplitude in m\n",
"Ar=0.5*Ai//reduced amplitude in m\n",
"totAreduc=Ai-Ar//total reduction in amp in m\n",
"Areducpercycl=4*F/k //reduction in amplitude/cycle explained in section 3.6.2 in eqn 3.6.6\n",
"n=round(totAreduc/Areducpercycl) //number of cycles for 50% reduction in amplitude\n",
"Treduc=n*(2*%pi/Wn)//time taken to achieve 50%reduction\n",
"//output\n",
"mprintf(' a)The frequency of free oscillations is %4.4f rad/sec or %4.4f Hz\n b)number of cycles taken for 50 percent reduction in amplitude is %1.0f cycles\n c)time taken to achieve 50 percent reduction in amplitude is %4.4f sec',Wn,fn,n,Treduc)"
   ]
   }
,
{
		   "cell_type": "markdown",
		   "metadata": {},
		   "source": [
			"## Example 3.6_2: vertical_spring_mass_system.sce"
		   ]
		  },
  {
"cell_type": "code",
	   "execution_count": null,
	   "metadata": {
	    "collapsed": true
	   },
	   "outputs": [],
"source": [
"clc\n",
"clear\n",
"mprintf('Mechanical vibrations by G.K.Grover\n Example 3.6.2\n')\n",
"//given data\n",
"k=9800//stiffnes of spring in N/m\n",
"m=40 //mass in spring mass system )in kg)\n",
"g=9.81//acceleration due to gravity\n",
"F=49//frictional force in N\n",
"x=0.126//total extension of spring in m\n",
"xeq=m*g/k//extension of spring at equillibrium in m\n",
"xi=x-xeq//initial extension of spring from equillibrium in m\n",
"Alosspercycl=4*F/k//reduction in amplitude/cycle explained in section 3.6.2 in eqn 3.6.6\n",
"n=int(xi/Alosspercycl)//number of complete cycles  that system undergoes\n",
"Af=xi-n*Alosspercycl//amplitude at the end of n cycles\n",
"SF=k*Af//spring force acting on the upward direction for an extension of Af\n",
"if F<SF then \n",
"    disp('The spring will move up since spring force is greater than frictional force')\n",
"    Xa=Af//assigning Af to a new variable Xa\n",
"     Xb=0//assume Xb=0 at first\n",
"    //solving the quadratic equation in Xb whose roots are Xb1 and Xb2\n",
"    Xb1=(F+sqrt((-F)^2-(4*(0.5*k)*((-(1/2)*k*Xa^2)+F*Xa))))/k\n",
"    Xb2=(F-sqrt((-F)^2-(4*(0.5*k)*((-(1/2)*k*Xa^2)+F*Xa))))/k\n",
"    if  int(Xb1-Xa)==0 then \n",
"        Xb=Xb2 \n",
"      else\n",
"          Xb=Xb1 \n",
"      end\n",
"      finalext=xeq+Xb\n",
"      mprintf(' The final extention of spring is %f m',finalext)\n",
"    else disp('The spring will not move up since spring force is not greater than frictional force')\n",
"end"
   ]
   }
,
{
		   "cell_type": "markdown",
		   "metadata": {},
		   "source": [
			"## Example 3.7_1: time_taken_for_complete_damping.sce"
		   ]
		  },
  {
"cell_type": "code",
	   "execution_count": null,
	   "metadata": {
	    "collapsed": true
	   },
	   "outputs": [],
"source": [
"clc\n",
"clear\n",
"mprintf('Mechanical vibrations by G.K.Grover\n Example 3.7.1\n')\n",
"//given data\n",
"fnA=12 //frequency of free vibrations of system A in Hz\n",
"fnB=15 //frequency of free vibrations of system B in Hz\n",
"TdA=4.5 //time taken by system A to damp out completely in sec\n",
"//calculations\n",
"TdB=fnA*TdA/fnB //time taken by system B to damp out completely in sec\n",
"//output\n",
"mprintf(' The time taken by system B to damp out completely is %4.4f sec',TdB)"
   ]
   }
],
"metadata": {
		  "kernelspec": {
		   "display_name": "Scilab",
		   "language": "scilab",
		   "name": "scilab"
		  },
		  "language_info": {
		   "file_extension": ".sce",
		   "help_links": [
			{
			 "text": "MetaKernel Magics",
			 "url": "https://github.com/calysto/metakernel/blob/master/metakernel/magics/README.md"
			}
		   ],
		   "mimetype": "text/x-octave",
		   "name": "scilab",
		   "version": "0.7.1"
		  }
		 },
		 "nbformat": 4,
		 "nbformat_minor": 0
}
