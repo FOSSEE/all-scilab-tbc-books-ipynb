{
"cells": [
 {
		   "cell_type": "markdown",
	   "metadata": {},
	   "source": [
       "# Chapter 9: Combustion"
	   ]
	},
{
		   "cell_type": "markdown",
		   "metadata": {},
		   "source": [
			"## Example 9.10: propane_with_250_percent_theoretical_air.sce"
		   ]
		  },
  {
"cell_type": "code",
	   "execution_count": null,
	   "metadata": {
	    "collapsed": true
	   },
	   "outputs": [],
"source": [
"clc\n",
"// initialization of variables\n",
"\n",
"// The reaction equation for theoritical air is \n",
"//C3H8 + 5(O2 + 3.76N2) ---> 3CO2 + 4H2O + 18.8N2\n",
"\n",
"// for 250% theoritical air reaction becomes\n",
"//C3H8 + 12.5(O2 + 3.76N2) ---> 3CO2 + 4H2O + 47N2 + 7.5O2\n",
"\n",
"// All the enthalpy of formation values are taken from Table B.5 with units in kJ/mol\n",
"\n",
"Np=47+7.5+4+3 // number of moles of product\n",
"hfCO2=-393520 // enthalpy of formation associated with CO2\n",
"hbarCO2=(62963+65271)/2 //enthalpy associated with CO2 at 1380 K from table E.4\n",
"hbarCO2dash=(58381+60666)/2 //enthalpy associated with CO2 at 1300 K by average from table E.4\n",
"hdotbarCO2=9364//enthalpy associated with CO2 at 298K from table E.4\n",
"\n",
"hfC3H8=-103850// ehthalpy of formation associated with C3H8\n",
"\n",
"hfH2O=-241820 // enthalpy of formation associated with gaseous H2O\n",
"hbarH2O=(51521+53351)/2 //enthalpy associated with H20 at 1380 K by taking average from table E.6\n",
"hbarH2Odash=48807 //enthalpy associated with H20 at 1300 K  from table E.6\n",
"hdotbarH2O=9904//enthalpy associated with H20 at 298K from table E.6\n",
"\n",
"hbarN2=42920 //enthalpy associated with N2 at 1380K from table E.2 by interpolating enthalpy between 1020K and 980K \n",
"hbarN2dash=40170 //enthalpy associated with N2 at 1300 K from table E.2 \n",
"hdotbarN2=8669//enthalpy associated with N2 at 298K from table E.2\n",
"\n",
"hfO2=(44198+45648)/2 // enthalpy associated with O2 at 1380 Kby taking average from table E.3\n",
"hfO2dash=48807 // enthalpy associated with O2 at 1380 Kby taking average from table E.3\n",
"hdotbarO2=8682//enthalpy associated with O2 at 298K table E.3\n",
"\n",
"// for adiabatic flame temperature first assume products composed only of nitrogen and Q=0 as adiabatic\n",
"hp=(hfC3H8-3*(hfCO2)-4*(hfH2O))/Np +hdotbarN2\n",
"// using hp we assume temp=1380 K\n",
"// then energy for 1380 k is\n",
"H1=3*(hfCO2+hbarCO2-hdotbarCO2)+4*(hfH2O+hbarH2O-hdotbarH2O)+7.5*(hfO2-hdotbarO2)+47*(hbarN2-hdotbarN2) // energy assuming temperature to be 1380 K\n",
"\n",
"//this is very large \n",
"\n",
"// now at 1300 K adiabatic temperature\n",
"H2=3*(hfCO2+hbarCO2dash-hdotbarCO2)+4*(hfH2O+hbarH2Odash-hdotbarH2O)+7.5*(hfO2dash-hdotbarO2)+47*(hbarN2dash-hdotbarN2) // energy assuming temperature to be 1300 K\n",
" \n",
" // now interpolation between these two temperatures\n",
"Tp=1300-((hp+H2)/(H1-H2))*(1380-1300) // adiabatic temperature by interpolation\n",
"printf('The adiabatic flame temperature is %i K',Tp)\n",
"\n",
"//The answers is different in textbook as they hav printed the value of hfCO2 with positive sign while calculating H2\n",
""
   ]
   }
,
{
		   "cell_type": "markdown",
		   "metadata": {},
		   "source": [
			"## Example 9.11: the_adiabatic_flame_temperature.sce"
		   ]
		  },
  {
"cell_type": "code",
	   "execution_count": null,
	   "metadata": {
	    "collapsed": true
	   },
	   "outputs": [],
"source": [
"clc\n",
"// initialization of variables\n",
"\n",
"// The reaction equation for theoritical air is \n",
"//C3H8 + 5(O2 + 3.76N2) ---> 3CO2 + 4H2O + 18.8N2\n",
"\n",
"// All the enthalpy of formation values are taken from Table B.5 with units in kJ/mol\n",
"\n",
"Np=18.8+4+3 // number of moles of product\n",
"hfCO2=-393520 // enthalpy associated with CO2\n",
"hbarCO2=137400 //enthalpy associated with CO2 at 2600 K from table E.4 by interpolation\n",
"hbarCO2dash=125152 //enthalpy associated with CO2 at 2400 K from table E.4\n",
"hdotbarCO2=9364//enthalpy associated with CO2 at 298K from table E.4\n",
"\n",
"hfC3H8=-103850// ehthalpy associated with C3H8\n",
"\n",
"hfH2O=-241820 // enthalpy associated with gaseous H2O\n",
"hbarH2O=114273 //enthalpy associated with H20 at 2600 K from table E.6\n",
"hbarH2Odash=103508 //enthalpy associated with H20 at 2400 K  from table E.6\n",
"hdotbarH2O=9904//enthalpy associated with H20 at 298K from table E.6\n",
"\n",
"hbarN2=86600 //enthalpy associated with N2 at 2600 K from table E.2 by interpolation\n",
"hbarN2dash=79320 //enthalpy associated with N2 at 2400 K from table E.2 \n",
"hdotbarN2=8669//enthalpy associated with N2 at 298K from table E.2\n",
"\n",
"// for adiabatic flame temperature first assume products composed only of nitrogen and Q=0 as adiabatic\n",
"hp=(hfC3H8-3*(hfCO2)-4*(hfH2O))/Np +hdotbarN2 \n",
"\n",
"// using hp we assume temp=2600 K\n",
"// then energy for 2600 k is\n",
"H1=3*(hfCO2+hbarCO2-hdotbarCO2)+4*(hfH2O+hbarH2O-hdotbarH2O)+18.8*(hbarN2-hdotbarN2) // energy assuming temperature to be 2600 K\n",
"\n",
"// now at 2400 K adiabatic temperature\n",
"H2=3*(hfCO2+hbarCO2dash-hdotbarCO2)+4*(hfH2O+hbarH2Odash-hdotbarH2O)+18.8*(hbarN2dash-hdotbarN2) // energy assuming temperature to be 2400 K\n",
" \n",
" // now interpolation between these two temperatures\n",
"Tp=2400-((hp+H2)/(H1-H2))*(2600-2400) // adiabatic temperature by interpolation\n",
"printf('The adiabatic flame temperature is %i K',Tp)\n",
"\n",
"//The answers are slightly different in textbook as they have approximated the values while in SCILAB results are precise\n",
"\n",
"\n",
"\n",
"\n",
""
   ]
   }
,
{
		   "cell_type": "markdown",
		   "metadata": {},
		   "source": [
			"## Example 9.1: air_fuel_ratio_of_20.sce"
		   ]
		  },
  {
"cell_type": "code",
	   "execution_count": null,
	   "metadata": {
	    "collapsed": true
	   },
	   "outputs": [],
"source": [
"clc\n",
"clear\n",
"// initialization of variables\n",
"\n",
"AFactual=20 // air fuel ratio actual\n",
"// The energy balance is done from equation\n",
"\n",
"// C4H10 + 6.5(O2+3.76N2)-----> 4CO2 + 5H2O + 24.44N2\n",
"\n",
"P=100 // atmospheic preesure in kPa\n",
"mair=6.5*(1+3.76)*29 // mass of air\n",
"mfuel=1*58 // mass of fuel\n",
"AFth=mair/mfuel // theoritical air-fuel ratio\n",
"%excessair=(AFactual-AFth)*100/AFth\n",
"\n",
"printf('The %% excess air is %0.2f %% \n',%excessair)\n",
"\n",
"// NOW THE REACTION IS\n",
"// C4H10+ (1+%excessair/100)*6.5*(O2+3.76N2) -----> 4CO2 + 5H2O + 1.903O2 + 31.6N2\n",
"\n",
"%CO2=4/42.5*100 // VOLUME % OF CO2\n",
"\n",
"printf('The volume %% of CO2 is %0.2f %% \n',%CO2)\n",
"\n",
"// NOW WE FIND DEW POINT\n",
"Nv=5 // moles of water\n",
"N=42.5 // moles of air\n",
"Pv=P*(Nv/N) // partial pressure of vapour\n",
"Tdp=49// dew point temperature in degree celsius from table C.2\n",
"\n",
"printf('The Dew point temperature is %i degree celsius',Tdp)\n",
"\n",
"\n",
""
   ]
   }
,
{
		   "cell_type": "markdown",
		   "metadata": {},
		   "source": [
			"## Example 9.2: Butane_with_90_percent_theoretical_air.sce"
		   ]
		  },
  {
"cell_type": "code",
	   "execution_count": null,
	   "metadata": {
	    "collapsed": true
	   },
	   "outputs": [],
"source": [
"clc\n",
"// initialization of variables\n",
"\n",
"%air=0.9 // 90% air is used for combustion\n",
"\n",
"// THE REACTION IS\n",
"// C4H10 + 0.9*6.5*(O2+3.76N2)----> aCO2 + 5H20 + bCO\n",
"// a and b are calculated by atomic balance\n",
"a=2.7\n",
"b=1.3\n",
"%CO=b*100/31 // volume % of CO\n",
"\n",
"printf('The volume %% of CO is %0.2f %% \n',%CO)\n",
"\n",
"mair=6.5*%air*4.76*29 // mass of air in kg\n",
"mfuel=1*58 // mass of fuel butane in kg\n",
"AF=mair/mfuel // air-fuel ratio\n",
"\n",
"printf('The air to fuel ratio is %0.2f kg air/ kg fuel ',AF)\n",
"// THE SOLUTION IS CORRECT BUT  THERE ARE SOME PRINTING MISTAKES IN TEXTBOOK"
   ]
   }
,
{
		   "cell_type": "markdown",
		   "metadata": {},
		   "source": [
			"## Example 9.3: Butane_is_burned_with_dry_air.sce"
		   ]
		  },
  {
"cell_type": "code",
	   "execution_count": null,
	   "metadata": {
	    "collapsed": true
	   },
	   "outputs": [],
"source": [
"clc\n",
"// initialization of variables\n",
"\n",
"// THE REACTION IS\n",
"// aC4H10 + b(O2+3.76N2)----> CO2 + 1CO + 3.5H20 + 84.6N2 + cH2O\n",
"// a, b and c are calculated by atomic balance\n",
"// C: 4a=11+1\n",
"// H:10a=2c\n",
"// O:2b=22+1+7+c\n",
"// solving these equations using matrix\n",
"A=[4 0 0;10 0 -2;0 2 -1]\n",
"B=[12;0;30]\n",
"x=A\B\n",
"a=x(1)\n",
"b=x(2)\n",
"c=x(3)\n",
"\n",
"// Now equation becomes\n",
"//C4H10 + 7.5(O2+3.76N2)----> 3.67CO2 + 0.33CO + 1.17H20 + 28.17N2 + 5H2O\n",
"//MOLES OF AIR in this equation is 7.5 moles\n",
"mairactual=7.5 // in moles\n",
"//MOLES OF AIR in standard equation of Ex.9 is 6.5\n",
"mairtheoritical=6.5\n",
"%theoriticalair=100*(mairactual/mairtheoritical) \n",
"printf('The %% theoritical air is %0.1f %% ',%theoriticalair)"
   ]
   }
,
{
		   "cell_type": "markdown",
		   "metadata": {},
		   "source": [
			"## Example 9.4: Volumetric_analysis_of_the_products_of_combustion.sce"
		   ]
		  },
  {
"cell_type": "code",
	   "execution_count": null,
	   "metadata": {
	    "collapsed": true
	   },
	   "outputs": [],
"source": [
"clc\n",
"// initialization of variables\n",
"// The reaction equation is \n",
"//CaHb + c(O2+3.76N2)---> 10.4CO2 + 1.2CO + 2.8O2 + 85.6N2 + dH2O\n",
"\n",
"// using atomic balancing\n",
"// C:a=10.4+12\n",
"//N:3.76c=85.6\n",
"//O:2c=20.8+1.2+5.6+d\n",
"//H:b=2d\n",
"\n",
"// Solving these equations using matrix\n",
"A=[1 0 0 0;0 0 3.76 0;0 0 2 -1;0 1 0 -2]\n",
"B=[11.6;85.6;27.6;0]\n",
"x=A\B \n",
"a=x(1)\n",
"b=x(2)\n",
"c=x(3)\n",
"d=x(4)\n",
"\n",
"// substituing these values in reaction equation\n",
"//C11.6H37.9 + 21.08(O2+3.76N2)---> 11.6CO2 + 18.95H2O + 79.26N2\n",
"%theoriticalair=22.8*100/21.08 // theoritical air\n",
"excessair=%theoriticalair-100\n",
"\n",
"printf('The excess air is %i %%',excessair)\n",
"\n",
"\n",
""
   ]
   }
,
{
		   "cell_type": "markdown",
		   "metadata": {},
		   "source": [
			"## Example 9.5: enthalpy_of_combustion_of_gaseous_and_liquid_propane.sce"
		   ]
		  },
  {
"cell_type": "code",
	   "execution_count": null,
	   "metadata": {
	    "collapsed": true
	   },
	   "outputs": [],
"source": [
"clc\n",
"// initialization of variables\n",
"// The reaction equation is \n",
"//C3H8 + 5(O2+3.76N2)---> 3CO2 + 18.8N2 + 4H2O\n",
"\n",
"// All the enthalpy of formation values are taken from Table B.5 with units in kJ/mol\n",
"hfCO2=-393520 // enthalpy associated with CO2\n",
"hfH2O=-285830 // enthalpy associated with H2O(l)\n",
"hfC3H8=-103850// ehthalpy associated with C3H8\n",
"\n",
"// by first law Q= Hproducts - Hreactants\n",
"\n",
"Qg=3*(hfCO2)+4*(hfH2O)-(hfC3H8) // enthalpy of combustion for gaseous propane\n",
"\n",
"printf('The enthalpy of combustion for gaseous propane is %i kJ\n',Qg)\n",
"\n",
"hv=15060 // enthalpy of vaporization for propane\n",
"\n",
"Ql=3*(hfCO2)+4*(hfH2O)-(hfC3H8-hv) // enthalpy of combustion for liquid propane\n",
"\n",
"printf(' The enthalpy of combustion for liquid propane is %i kJ\n',Ql)\n",
"\n",
"//The answers are slightly different in textbook as they have approximated the result while in SCILAB results are precise\n",
"\n",
"\n",
"\n",
"\n",
""
   ]
   }
,
{
		   "cell_type": "markdown",
		   "metadata": {},
		   "source": [
			"## Example 9.6: propane_and_air_enter_a_steady_flow_combustion_chamber.sce"
		   ]
		  },
  {
"cell_type": "code",
	   "execution_count": null,
	   "metadata": {
	    "collapsed": true
	   },
	   "outputs": [],
"source": [
"clc\n",
"// initialization of variables\n",
"// The reaction equation is \n",
"//C3H8 + 5(O2+3.76N2)---> 3CO2 + 18.8N2 + 4H2O\n",
"\n",
"// All the enthalpy of formation values are taken from Table B.5 with units in kJ/mol\n",
"hfCO2=-393520 // enthalpy of formation associated with CO2\n",
"hbarCO2=22280 //enthalpy associated with CO2 at 600K from table E.4\n",
"hdotbarCO2=9364//enthalpy associated with CO2 at 298K from table E.4\n",
"\n",
"hfH2O=-241820 // enthalpy of formation associated with gaseous H2O\n",
"hbarH2O=20402 //enthalpy associated with H20 at 600K from table E.6\n",
"hdotbarH2O=9904//enthalpy associated with H20 at 298K from table E.6\n",
"\n",
"hfC3H8=-103850// ehthalpy of formation associated with C3H8\n",
"\n",
"hbarN2=17563 //enthalpy associated with N2 at 600K from table E.2\n",
"hdotbarN2=8669//enthalpy associated with N2 at 298K from table E.2\n",
"// by first law Q= Hproducts - Hreactants\n",
"\n",
"Qg=3*(hfCO2+hbarCO2-hdotbarCO2)+4*(hfH2O+hbarH2O-hdotbarH2O)+18.8*(hbarN2-hdotbarN2)-(hfC3H8) // enthalpy of combustion\n",
"\n",
"printf('The heat transfer required is %i kJ\n',Qg)\n",
"\n",
"//The answer is WRONG textbook as they have made an error in calculating Qg "
   ]
   }
,
{
		   "cell_type": "markdown",
		   "metadata": {},
		   "source": [
			"## Example 9.7: Liquid_octane_fuels_a_jet_engine.sce"
		   ]
		  },
  {
"cell_type": "code",
	   "execution_count": null,
	   "metadata": {
	    "collapsed": true
	   },
	   "outputs": [],
"source": [
"clc\n",
"// initialization of variables\n",
"// The reaction equation is \n",
"\n",
"//C8H18 + 12.5(O2+3.76N2)---> 8CO2 + 47N2 + 9H2O\n",
"\n",
"// All the enthalpy of formation values are taken from Table B.5 with units in kJ/mol\n",
"hfCO2=-393520 // enthalpy of formation associated with CO2\n",
"hbarCO2=42769 //enthalpy associated with CO2 at 1000K from table E.4\n",
"hdotbarCO2=9364//enthalpy associated with CO2 at 298K from table E.4\n",
"\n",
"hfH2O=-241820 // enthalpy of formation associated with gaseous H2O\n",
"hbarH2O=35882 //enthalpy associated with H20 at 1000K from table E.6\n",
"hdotbarH2O=9904//enthalpy associated with H20 at 298K from table E.6\n",
"hfC3H8=-103850// ehthalpy of formation associated with C3H8\n",
"\n",
"hbarN2p=(30784+29476)/2 //enthalpy associated with N2 at 1000K from table E.2 by averaging enthalpy at 1020K and 980K for product\n",
"hbarN2r=17563 //enthalpy associated with N2 at 600K from table E.2 for reactant\n",
"hdotbarN2=8669//enthalpy associated with N2 at 298K from table E.2\n",
"\n",
"hfC8H18=-249910 // enthalpy of formation associated with octane taken from internet as not provided in textbook\n",
"\n",
"hbarO2=17929 // enthalpy associated with O2 at 600K table E.3\n",
"hdotbarO2=8682//enthalpy associated with O2 at 298K table E.3\n",
"\n",
"// using first law and including kinetic energy change\n",
"// 0=Hp-Hr+Mp*(V^2)/2\n",
"\n",
"Hp=8*(hfCO2+hbarCO2-hdotbarCO2)+9*(hfH2O+hbarH2O-hdotbarH2O)+47*(hbarN2p-hdotbarN2)\n",
"// enthalpy of products\n",
"\n",
"Hr=(hfC8H18)+12.5*(hbarO2-hdotbarO2)+47*(hbarN2r-hdotbarN2)\n",
"// enthalpy of reactants\n",
"\n",
"Mp=8*44+9*18+47*28 //(mass of products by multiplying molecular mass to number of moles)\n",
"\n",
"V=sqrt(2*1000*(Hr-Hp)/Mp)// exit velocity using energy balance\n",
"\n",
"printf('The exit velocity is %i m/s',V)\n",
"\n",
"//The answers are slightly different in textbook as they have approximated the values while in SCILAB results are precise\n",
"\n",
"\n",
"\n",
""
   ]
   }
,
{
		   "cell_type": "markdown",
		   "metadata": {},
		   "source": [
			"## Example 9.8: octane_with_300_percent_excess_air.sce"
		   ]
		  },
  {
"cell_type": "code",
	   "execution_count": null,
	   "metadata": {
	    "collapsed": true
	   },
	   "outputs": [],
"source": [
"clc\n",
"// initialization of variables\n",
"\n",
"// The reaction equation with theoritical air is \n",
"// C8H18 + 12.5(O2+3.76N2)---> 8CO2 + 47N2 + 9H2O\n",
"\n",
"// for 400% theoritical air reaction is\n",
"\n",
"// C8H18 + 50(O2+3.76N2)---> 8CO2 + 188N2 + 9H2O + 37.5O2\n",
"\n",
"// All the enthalpy of formation values are taken from Table B.5 with units in kJ/mol\n",
"hfCO2=-393520 // enthalpy of formation associated with CO2\n",
"hbarCO2=42769 //enthalpy associated with CO2 at 1000K from table E.4\n",
"hdotbarCO2=9364//enthalpy associated with CO2 at 298K from table E.4\n",
"hfH2O=-241820 // enthalpy of formation associated with gaseous H2O\n",
"hbarH2O=35882 //enthalpy associated with H20 at 1000K from table E.6\n",
"hdotbarH2O=9904//enthalpy associated with H20 at 298K from table E.6\n",
"hbarN2p=(30784+29476)/2 //enthalpy associated with N2 at 1000K from table E.2 by averaging enthalpy at 1020K and 980K \n",
"hdotbarN2=8669//enthalpy associated with N2 at 298K from table E.2\n",
"\n",
"hfC8H18=-249910 // enthalpy associated with octane taken from internet as not provided in textbook\n",
"hbarO2=31389 // enthalpy associated with O2 at 1000K table E.3\n",
"hdotbarO2=8682//enthalpy associated with O2 at 298K table E.3\n",
"\n",
"Hp=8*(hfCO2+hbarCO2-hdotbarCO2)+9*(hfH2O+hbarH2O-hdotbarH2O)+37.5*(hbarO2-hdotbarO2)+188*(hbarN2p-hdotbarN2)// enthalpy of products\n",
"\n",
"Hr=(hfC8H18)\n",
"// enthalpy of reactants\n",
"\n",
"Q=Hp-Hr // using first law2\n",
"\n",
"printf(' The heat transfer is %i kJ',Q)\n",
"\n",
"//The answers are slightly different in textbook as they have approximated the values while in SCILAB results are precise\n",
"\n",
""
   ]
   }
,
{
		   "cell_type": "markdown",
		   "metadata": {},
		   "source": [
			"## Example 9.9: constant_volume_bomb_calorimeter.sce"
		   ]
		  },
  {
"cell_type": "code",
	   "execution_count": null,
	   "metadata": {
	    "collapsed": true
	   },
	   "outputs": [],
"source": [
"clc\n",
"// initialization of variables\n",
"\n",
"// The reaction equation is \n",
"//C3H8 + 5O2---> 8CO2 + 4H2O\n",
"\n",
"// All the enthalpy of formation values are taken from Table B.5 with units in kJ/mol\n",
"hfCO2=-393520 // enthalpy associated with CO2\n",
"hfH2O=-241820 // enthalpy associated with gaseous H2O\n",
"hfC3H8=103850// enthalpy of formation associated with C3H8\n",
"hfgC3H8=15060// enthalpy of vapourization associated with C3H8\n",
"T=20+273 // temperature in kelvin\n",
"Rbar=8.314 // universal gas constant\n",
"Nr=6 // number of moles of reactants\n",
"Np=7 // number of moles of products\n",
"Hp=3*(hfCO2)+4*(hfH2O) // enthalpy of products\n",
"\n",
"Hr=hfC3H8+hfgC3H8 // enthalpy of reactants\n",
"\n",
"Q=(Hp-Hr-(Nr-Np)*Rbar*T)*10^(-3) // heat transfer from first law\n",
"\n",
"printf(' The heat transfer is %i MJ',Q)\n",
"\n",
"//The answers are slightly different in textbook as they have approximated the values while in SCILAB results are precise"
   ]
   }
],
"metadata": {
		  "kernelspec": {
		   "display_name": "Scilab",
		   "language": "scilab",
		   "name": "scilab"
		  },
		  "language_info": {
		   "file_extension": ".sce",
		   "help_links": [
			{
			 "text": "MetaKernel Magics",
			 "url": "https://github.com/calysto/metakernel/blob/master/metakernel/magics/README.md"
			}
		   ],
		   "mimetype": "text/x-octave",
		   "name": "scilab",
		   "version": "0.7.1"
		  }
		 },
		 "nbformat": 4,
		 "nbformat_minor": 0
}
