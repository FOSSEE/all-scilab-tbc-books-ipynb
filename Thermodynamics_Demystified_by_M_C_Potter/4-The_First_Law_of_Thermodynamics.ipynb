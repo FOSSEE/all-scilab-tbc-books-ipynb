{
"cells": [
 {
		   "cell_type": "markdown",
	   "metadata": {},
	   "source": [
       "# Chapter 4: The First Law of Thermodynamics"
	   ]
	},
{
		   "cell_type": "markdown",
		   "metadata": {},
		   "source": [
			"## Example 4.10: Steam_at_2000_kPa_and_600_degree_celsius.sce"
		   ]
		  },
  {
"cell_type": "code",
	   "execution_count": null,
	   "metadata": {
	    "collapsed": true
	   },
	   "outputs": [],
"source": [
"clc\n",
"// initialization of variables\n",
"P1=2000 // initial pressure in kPa\n",
"T1=600 // initial temperature in degree celsius\n",
"p2=600 // final pressure in kPa\n",
"T2=200 //   final temperature in degree celsius\n",
"d1=0.06 // diameter of inlet pipe in metre\n",
"d2=0.120 // diameter of outlet pipe in metre\n",
"V1=20 // velocity at inlet in m/s\n",
"\n",
"//solution\n",
"// from superheat table C.3 values are noted\n",
"v1=0.1996 // specific volume of superheated steam @ 600*C and 2000 kPa\n",
"v2=0.3520 // specific volume of superheated steam @ 200*C and 2000 kPa\n",
"rho1=1/v1 //  initial density\n",
"rho2=1/v2 // final density\n",
"A1=(%pi*d1**2)/4 // inlet area\n",
"A2=(%pi*d2**2)/4 // exit area\n",
"\n",
"V2=(rho1*A1*V1)/(rho2*A2) // from continuity equation\n",
"printf('The Exit velocity is '+string(V2)+' m/s \n')\n",
"\n",
"mdot=rho1*A1*V1 // mass flow rate\n",
"printf(' The mass flow rate is '+string(mdot)+' kg/s')\n",
"\n",
""
   ]
   }
,
{
		   "cell_type": "markdown",
		   "metadata": {},
		   "source": [
			"## Example 4.11: throttling_valve.sce"
		   ]
		  },
  {
"cell_type": "code",
	   "execution_count": null,
	   "metadata": {
	    "collapsed": true
	   },
	   "outputs": [],
"source": [
"clc\n",
"// initialization of variables\n",
"P1=8000 // initial pressure in kPa\n",
"T1=300 // temperature in degree celsius\n",
"P2=2000 // final pressure in kPa\n",
"\n",
"//solution\n",
"h1=2785 // specific enthalpy of steam in kJ/kg @ 8000 kPa and 300 degree celsius from  steam table\n",
"h2=h1 // throttling process thus enthalpy is constant\n",
"T2=212.4 // from steam table as we know enthalpy and pressure\n",
"hf2=909 // specific enthalpy of saturated liquid @ 2000 kPa and 300 degree celsius\n",
"hg2=2799.5 // specific enthalpy of saturated gas @ 2000 kPa and 300 degree celsius\n",
"x2=(h2-hf2)/(hg2-hf2) // quality of steam\n",
"\n",
"vg2=0.0992 //specific    volume of saturated gas @ 2000 kPa and 212.4*c\n",
"vf2=0.0012 //specific volume of saturated liquid @ 2000 kPa and 212.4*c\n",
"v2=vf2+x2*(vg2-vf2) // from properties of pure substance\n",
"\n",
"printf('The Final Temperature and Specific volume is '+string(T2)+' *C and '+string(v2)+' m^3/kg')"
   ]
   }
,
{
		   "cell_type": "markdown",
		   "metadata": {},
		   "source": [
			"## Example 4.12: turbine_power_output.sce"
		   ]
		  },
  {
"cell_type": "code",
	   "execution_count": null,
	   "metadata": {
	    "collapsed": true
	   },
	   "outputs": [],
"source": [
"clc\n",
"// initialization of variables\n",
"P1=4000 // inlet pressure in kPa\n",
"T1=500 // inlet temperature in degree celsius\n",
"V1=200 // inlet steam velocity in m/s\n",
"d1=0.05 // inlet diameter in 'm'\n",
"P2=80 // exit pressure in kPa\n",
"d2=0.250 // exit diameter in 'm'\n",
"\n",
"// solution\n",
"v1=0.08643 // specific volume from steam table @ 4000 kPa and 500*C\n",
"v2=2.087 // specific volume from steam table @ 80 kPa and 500*C\n",
"rho1=1/v1 // density at inlet\n",
"rho2=1/v2 // density at outlet\n",
"A1=(%pi*d1**2)/4 // inlet area\n",
"A2=(%pi*d2**2)/4\n",
"mdot=rho1*A1*V1 // mass flow rate\n",
"\n",
"//now using table C.3\n",
"h1=3445 // initial specific enthalpy @ 4000 kPa and 500 *C \n",
"h2=2666 // final specific enthalpy @ 80 kPa and 500 *C\n",
"WT=-mdot*(h2-h1) // maximum power from first law\n",
"printf('The power output is '+string(WT)+' kJ/s \n ')\n",
"\n",
"V2=(A1*V1*rho1)/(A2*rho2) \n",
"delKE=mdot*((V2**2)-(V1**2))/2\n",
"printf(' The change in K.E is '+string(delKE)+' J/s')\n",
"// the amswer is different as the solution in scilab is highly precise while the solution in textbook is wrong due to approximation of exit velocity"
   ]
   }
,
{
		   "cell_type": "markdown",
		   "metadata": {},
		   "source": [
			"## Example 4.13: maximum_pressure_increase_by_pump.sce"
		   ]
		  },
  {
"cell_type": "code",
	   "execution_count": null,
	   "metadata": {
	    "collapsed": true
	   },
	   "outputs": [],
"source": [
"clc\n",
"// initialization of variables\n",
"Wdot=10 // pump power in hp\n",
"g=9.81 // acceleration due to gravity\n",
"rho=1000 // density of water in kg/m^3\n",
"d1=0.06 // inlet dimeter in 'm'\n",
"d2=0.10 // oulet diamter in 'm'\n",
"V1=10 // velocity of water at inlet in m/s\n",
"\n",
"//solution\n",
"A1=%pi*(d1**2)/4 // area of inlet\n",
"A2=%pi*(d2**2)/4 // area of outlet\n",
"V2=A1*V1/A2 // oulet velocity from continuity equation\n",
"\n",
"mdot=rho*A1*V1 // mass flow rate\n",
"delP=((((Wdot*746)/mdot)-((V2**2)-V1**2)/(2*g))*rho)/1000 // change in pressure in kPa\n",
"printf('The rise in pressure is '+string(delP)+' kPa')\n",
"// The answer is approximated in textbook , our answer is precise "
   ]
   }
,
{
		   "cell_type": "markdown",
		   "metadata": {},
		   "source": [
			"## Example 4.14: the_supersonic_nozzle.sce"
		   ]
		  },
  {
"cell_type": "code",
	   "execution_count": null,
	   "metadata": {
	    "collapsed": true
	   },
	   "outputs": [],
"source": [
"clc\n",
"// initialization of variables\n",
"P1=7000 // inlet pressure in Pa\n",
"T1=420 // inlet temperature in degree celsius\n",
"V1=400// inlet velocity in m/s\n",
"d1=0.200 // inlet diameter in 'm'\n",
"V2=700 // exit velocity in m/s\n",
"k=1.4 // polytopic index for air\n",
"Cp=1000 // specific heat at constant pressure for air in j/kg.K\n",
"R=287 // specific gas constant for air\n",
"//solution\n",
"\n",
"//part (a)\n",
"T2=(((V1**2)-V2**2)/(2*Cp))+T1 // outlet temperature in degree celsius\n",
"printf('The exit temperature is '+string(T2)+' *C \n')\n",
"\n",
"//part (b)\n",
"\n",
"rho1=P1/(R*(T1+273)) // density at entrance\n",
"A1=(%pi*d1**2)/4\n",
"mdot=rho1*A1*V1 // \n",
"printf(' The mass flow rate is '+string(mdot)+' kg/s \n')\n",
"\n",
"// part (c)\n",
"\n",
"rho2=rho1*(((T2+273)/(T1+273))**(1/(k-1))) // density at exit\n",
"// now we find the exit diameter\n",
"d2=sqrt((rho1*V1*(d1)**2)/(rho2*V2))\n",
"printf(' The outlet diameter is '+string(d2)+' m')\n",
"\n",
"\n",
"\n",
"\n",
""
   ]
   }
,
{
		   "cell_type": "markdown",
		   "metadata": {},
		   "source": [
			"## Example 4.15: heat_exchanger.sce"
		   ]
		  },
  {
"cell_type": "code",
	   "execution_count": null,
	   "metadata": {
	    "collapsed": true
	   },
	   "outputs": [],
"source": [
"clc\n",
"// initialization of variables\n",
"mdots=100 // mass flow rate of sodium in kg/s\n",
"Ts1=450 // inlet temperature of sodium in degree celsius\n",
"Ts2=350 // exit temperature of sodium in degree celsius\n",
"Cp=1.25 // specific heat of sodium in KJ/kg.*C\n",
"Tw1=20 // inlet temperature of water in degree celsius\n",
"Pw=5000 // inlet pressure of water in kPa \n",
"\n",
"// solution\n",
"hw1=88.65 // enthalpy from table C.4\n",
"hw2=2794 // enthalpy from table C.3\n",
"mdotw=(mdots*Cp*(Ts1-Ts2))/(hw2-hw1) // mass flow rate of water\n",
"printf('The mass flow rate of water is '+string(mdotw)+' kg/s \n')\n",
"Qdot=mdotw*(hw2-hw1) // heat transfer in kW using energy equation\n",
"printf(' The rate of heat transfer is '+string(Qdot)+' kW')"
   ]
   }
,
{
		   "cell_type": "markdown",
		   "metadata": {},
		   "source": [
			"## Example 4.1: paddle_wheel_heat_transfer.sce"
		   ]
		  },
  {
"cell_type": "code",
	   "execution_count": null,
	   "metadata": {
	    "collapsed": true
	   },
	   "outputs": [],
"source": [
"clc\n",
"//initialization of variables\n",
"K=100 // spring constant in kN/m\n",
"d=0.8 // dispacement of spring in m\n",
" // to get total work we integrate from 0 to 0.8 displacement\n",
"x1=0; // lower limit of integration\n",
"x2=0.8;  // upper limit of integration\n",
"W12=integrate('K*x','x',x1,x2);\n",
"Q12=W12; // by first law of thermodynamics\n",
"printf('The Heat transfer is '+string(Q12)+' J')\n",
"\n",
"\n",
"\n",
"\n",
""
   ]
   }
,
{
		   "cell_type": "markdown",
		   "metadata": {},
		   "source": [
			"## Example 4.2: internal_energy_increase.sce"
		   ]
		  },
  {
"cell_type": "code",
	   "execution_count": null,
	   "metadata": {
	    "collapsed": true
	   },
	   "outputs": [],
"source": [
"clc\n",
"//initialization of variables\n",
"P= 5*746 // power of fan converted in watt\n",
"t=1*60*60 // time converted to seconds\n",
"\n",
"// by first law of thermodynamics Q=delU + W\n",
"// Q=0 hence -W=delU\n",
"// first we find work input\n",
"W=-P*t // work in J\n",
"delU=-W // from 1st law\n",
"printf('The internal energy increase is '+string(delU)+' J')\n",
"// The answer is approximated in textbook\n",
"// our answer is precise\n",
""
   ]
   }
,
{
		   "cell_type": "markdown",
		   "metadata": {},
		   "source": [
			"## Example 4.3: frictionless_piston.sce"
		   ]
		  },
  {
"cell_type": "code",
	   "execution_count": null,
	   "metadata": {
	    "collapsed": true
	   },
	   "outputs": [],
"source": [
"clc\n",
"//initialization of variables\n",
"P=400 // pressure in kPa\n",
"T1=200 // initial temperature in degree celsius\n",
"V1= 2 // initial volume in m^3\n",
"Q=3500 // heat added in kJ\n",
"v1=0.5342 // specific volume of steam at 200 degree celcius and 0.4 Mpa pressure from table C.3\n",
"u1=2647 // specific internal energy in kJ/kg @ pressure = 0.4 MPa\n",
"m=V1/v1 // mass in kg\n",
"// we have a relation Between u2 and v2 from 1st law of thermodynamics\n",
"v2=1.06 // specific volume at state 2 by trial and error and interpolation\n",
"V2=m*v2 \n",
"u2=((3500-400*(V2-V1))/m)+2647 // specific internal energy for v2=1.06 by trial and error\n",
"\n",
"// on interpolation from steam table at 0.4 MPa we get temperature \n",
"T2=644 // temperature in degree celsius\n",
"printf('The temperature for u2= '+string(u2)+' kJ and\n v2 ='+string(v2)+' kg/m^3 is \n'+string(T2)+' degree celsius')\n",
"// this numerical is solved by trial and error thus refer to Appendix C"
   ]
   }
,
{
		   "cell_type": "markdown",
		   "metadata": {},
		   "source": [
			"## Example 4.4: concept_of_enthalpy.sce"
		   ]
		  },
  {
"cell_type": "code",
	   "execution_count": null,
	   "metadata": {
	    "collapsed": true
	   },
	   "outputs": [],
"source": [
"clc\n",
"// initialization of variables\n",
"P=400 //  pressure in kPa\n",
"T1=200 // initial tmperature in degree celsius\n",
"V=2 // initial volume in m^3\n",
"Q=3500 // heat added in kJ\n",
"\n",
"//solution\n",
"h1=2860 // initial enthalpy @ 200*C and 400 kPa from steam table\n",
"v=0.5342 // specific volume from steam table C.3 \n",
"m=V/v;\n",
"h2=(Q/m)+h1; // final enthalpy in kJ/kg from energy equation\n",
"\n",
"// NOW USING THIS ENTHLAPY AND INTERPOlATING FROM STEAM TABLE\n",
"T2=600+(92.6/224)*100\n",
"printf('The Final temperature is  '+string(T2)+' degree Celsius')\n",
"// result is obtained from interpolation on steam table\n",
"\n",
"\n",
" "
   ]
   }
,
{
		   "cell_type": "markdown",
		   "metadata": {},
		   "source": [
			"## Example 4.5: specific_heat_of_superheated_steam.sce"
		   ]
		  },
  {
"cell_type": "code",
	   "execution_count": null,
	   "metadata": {
	    "collapsed": true
	   },
	   "outputs": [],
"source": [
"clc\n",
"// initialization of variables\n",
"T1=300 // initial temperature in degree celsius\n",
"T2=700 // final temperature in degree celsius\n",
"P=150// pressure in kPa\n",
"m=3 // mass of steam in kg\n",
"\n",
"// solution\n",
"// part (a)\n",
"\n",
"delH=m*integrate('2.07+(T-400)/1480','T',T1,T2) // expressing as function of temperature and integrating\n",
"printf(' The change in Enthalpy is '+string(delH)+' kJ \n')\n",
" \n",
"// part(b)\n",
"CPavg=delH/(m*(T2-T1)) // avg value of specific heat at constant pressure\n",
"printf(' The average value of Cp is '+string(CPavg)+' kJ/kg.*C')"
   ]
   }
,
{
		   "cell_type": "markdown",
		   "metadata": {},
		   "source": [
			"## Example 4.6: enthalpy_change_for_1_kg_of_nitrogen.sce"
		   ]
		  },
  {
"cell_type": "code",
	   "execution_count": null,
	   "metadata": {
	    "collapsed": true
	   },
	   "outputs": [],
"source": [
"clc\n",
"// initialization of variables\n",
"m=1 // mass of nitrogen in kg\n",
"T1=300 // initial temperature in Kelvin\n",
"T2=1200 // final temperature in Kelvin\n",
"M=28 // in kg/kmol\n",
"// part(a)\n",
"// the enthalpy change is found from gas table in App.E\n",
"delh=36777-8723 // from gas table\n",
"delH=delh/M \n",
"printf('The entalpy change from gas table is '+string(delH)+' kJ/kg \n')\n",
"\n",
"// part (b) \n",
"Cp=1.042 // from table B.2\n",
"delH=Cp*(T2-T1)\n",
"printf(' The entalpy change  by assuming constant specific heat is '+string(delH)+' kJ/kg')"
   ]
   }
,
{
		   "cell_type": "markdown",
		   "metadata": {},
		   "source": [
			"## Example 4.7: quasiequilibrium_process.sce"
		   ]
		  },
  {
"cell_type": "code",
	   "execution_count": null,
	   "metadata": {
	    "collapsed": true
	   },
	   "outputs": [],
"source": [
"clc\n",
"// initialization of variables\n",
"x=0.7 // quality of steam\n",
"P1=200 // initial pressure in kPa\n",
"P2=800 // final pressure in kPa\n",
"V=2 // volume in m^3\n",
"//The values are taken from TABLE C.2\n",
"vf1=0.0010 //specific volume of saturated liquid at 200 kPa\n",
"vg1=0.8857 //specific volume of saturated gas at 200 kPa\n",
"uf1=504.5 // specific internal energy of saturated liquid @ state 1\n",
"ug1=2529.5 // speciific internal energy of saturated gas @ state 1\n",
"\n",
"v1=vf1+x*(vg1-vf1); //specific volume of vapour\n",
"m=V/v1\n",
"\n",
"u1=uf1+x*(ug1-uf1) // specific internal energy of vapour @ state 1\n",
"v2=v1 // constant volume process\n",
"u2=((0.6761-0.6203)*(3661-3853)/(0.6761-0.6181))+3853// from steam table @ 800kPa by interpolating\n",
"Q=m*(u2-u1)// heat transfer\n",
"printf('The heat transfer is '+string(Q)+' kJ')\n",
"  \n",
""
   ]
   }
,
{
		   "cell_type": "markdown",
		   "metadata": {},
		   "source": [
			"## Example 4.8: piston_cylinder_arrangement.sce"
		   ]
		  },
  {
"cell_type": "code",
	   "execution_count": null,
	   "metadata": {
	    "collapsed": true
	   },
	   "outputs": [],
"source": [
"clc\n",
"// initialization of variables\n",
"V=0.02 // volume in m^3\n",
"P=400 // pressure in kPa\n",
"T1=50+273 // initial temperature in kelvin\n",
"T2=700+273 // final temperature in kelvin\n",
"Q=50 // heat added in kJ\n",
"R=287 // constant for air\n",
"Cp=1 // constant for specific heat of air\n",
"\n",
"//using the ideal gas equation\n",
"\n",
"m=P*1000*V/(R*T1) // mass of air in kg\n",
"W=Q-(m*Cp*(T2-T1)) // work done from first law\n",
"printf('The Paddle work is '+string(W)+' kJ')\n",
" "
   ]
   }
,
{
		   "cell_type": "markdown",
		   "metadata": {},
		   "source": [
			"## Example 4.9: air_in_an_insulated_cylinder.sce"
		   ]
		  },
  {
"cell_type": "code",
	   "execution_count": null,
	   "metadata": {
	    "collapsed": true
	   },
	   "outputs": [],
"source": [
"clc\n",
"// initialization of variables\n",
"V1=2 // initial volume in m^3\n",
"V2=0.2 // final volume in m^3\n",
"T1=20+273// temperature in kelvin\n",
"P=200 // pressure in kPa\n",
"R=0.287 // constant for air\n",
"gama=1.4 // polytropic index for air\n",
"Cv=0.717// specific heat at constant volume for air\n",
"//solution\n",
"\n",
"//using the ideal gas equation\n",
"m=(P*V1)/(R*T1) // mass in kg\n",
"// process is adiabatic thus\n",
"T2=T1*((V1/V2)**(gama-1))// final temperature\n",
"\n",
"W=-m*Cv*(T2-T1)// work from first law\n",
"printf('The Work is '+string(W)+' kJ')\n",
"// solution is approximated in textbook"
   ]
   }
],
"metadata": {
		  "kernelspec": {
		   "display_name": "Scilab",
		   "language": "scilab",
		   "name": "scilab"
		  },
		  "language_info": {
		   "file_extension": ".sce",
		   "help_links": [
			{
			 "text": "MetaKernel Magics",
			 "url": "https://github.com/calysto/metakernel/blob/master/metakernel/magics/README.md"
			}
		   ],
		   "mimetype": "text/x-octave",
		   "name": "scilab",
		   "version": "0.7.1"
		  }
		 },
		 "nbformat": 4,
		 "nbformat_minor": 0
}
