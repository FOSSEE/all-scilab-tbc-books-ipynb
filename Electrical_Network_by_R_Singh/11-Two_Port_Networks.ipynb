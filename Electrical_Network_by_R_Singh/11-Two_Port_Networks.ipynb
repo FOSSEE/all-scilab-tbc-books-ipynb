{
"cells": [
 {
		   "cell_type": "markdown",
	   "metadata": {},
	   "source": [
       "# Chapter 11: Two Port Networks"
	   ]
	},
{
		   "cell_type": "markdown",
		   "metadata": {},
		   "source": [
			"## Example 11.16: Two_Port_Parameters.sce"
		   ]
		  },
  {
"cell_type": "code",
	   "execution_count": null,
	   "metadata": {
	    "collapsed": true
	   },
	   "outputs": [],
"source": [
"//Two-Port Networks : example 11.16 :(pg11.39 )\n",
"V1s=25;\n",
"I1s=1;\n",
"I2s=2;\n",
"V1o=10;\n",
"V2o=50;\n",
"I2o=2;\n",
"h11=(V1s/I1s);\n",
"h21=(I2s/I1s);\n",
"h12=(V1o/V2o);\n",
"h22=(I2o/V2o);\n",
"printf('\nh11 = V1/I1 = %.f Ohm',h11);//when V2=0\n",
"printf('\nh21= I2/I1 = %.f',h21);//when V2=0\n",
"printf('\nh12 = V1/V2 = %.1f',h12);//when I1=0\n",
"printf('\nh22 = I2/V2 = %.2f mho',h22);//when I1=0\n",
"printf('\nth h-parameters are');\n",
"disp([h11 h12;h21 h22]);"
   ]
   }
,
{
		   "cell_type": "markdown",
		   "metadata": {},
		   "source": [
			"## Example 11.19: Interrelationships_between_parameters.sce"
		   ]
		  },
  {
"cell_type": "code",
	   "execution_count": null,
	   "metadata": {
	    "collapsed": true
	   },
	   "outputs": [],
"source": [
"//Two-Port Networks : example 11.19 :(pg11.49 & 11.50)\n",
"Z11=20;\n",
"Z22=30;\n",
"Z12=10;\n",
"Z21=10;\n",
"dZ=((Z11*Z22)-(Z12*Z21));\n",
"Y11=(Z22/dZ);\n",
"Y12=(-Z12/dZ);\n",
"Y21=(-Z21/dZ);\n",
"Y22=(Z11/dZ);\n",
"A=(Z11/Z21);\n",
"B=(dZ/Z21);\n",
"C=(1/Z21);\n",
"D=(Z22/Z21);\n",
"printf('\nY-parameters');\n",
"printf('\nY11 = Z22/dZ = %.2f mho',Y11);\n",
"printf('\nY12 = -Z12/dZ = %.2f mho',Y12);\n",
"printf('\nY21 = -Z21/dZ = %.2f mho',Y21);\n",
"printf('\nY22 = Z11/dZ = %.2f mho',Y22);\n",
"printf('\n Y-parameters are:');\n",
"disp([Y11 Y12;Y21 Y22]);//Y-parameters in matrix form\n",
"printf('\nABCD parameters');\n",
"printf('\nA = Z11/Z21 = %.f',A);\n",
"printf('\nB = dZ/Z21 = %.f',B);\n",
"printf('\nC = 1/Z21 = %.1f',C);\n",
"printf('\nD = Z22/Z21 = %.f',D);\n",
"printf('\n ABCD parameters are:');\n",
"disp([A B;C D]);//ABCD parameters in matrix form\n",
"\n",
"\n",
"\n",
"\n",
"\n",
"\n",
"\n",
"\n",
"\n",
"\n",
"\n",
"\n",
"\n",
"\n",
"\n",
"\n",
"\n",
"\n",
"\n",
"\n",
"\n",
"\n",
"\n",
"\n",
"\n",
"\n",
"\n",
"\n",
"\n",
"\n",
"\n",
"\n",
"\n",
"\n",
"\n",
""
   ]
   }
,
{
		   "cell_type": "markdown",
		   "metadata": {},
		   "source": [
			"## Example 11.20: Interrelationships_between_parameters.sce"
		   ]
		  },
  {
"cell_type": "code",
	   "execution_count": null,
	   "metadata": {
	    "collapsed": true
	   },
	   "outputs": [],
"source": [
"//Two-Port Networks : example 11.20 :(pg11.50 & 11.51)\n",
"a=0.5;\n",
"b=-0.2;\n",
"d=1\n",
"printf('\nI1 =0.5V1-0.2V2 \nI2=-0.2V1+V2');\n",
"printf('\n Y11 =I1/V1 =%.1f mho',a);//when V2 is 0 in the 1st eqn\n",
"printf('\n Y21 =I2/V1 =%.1f mho',b);//when V2 is 0 in the 1st eqn\n",
"printf('\n Y12 =I1/V2 =%.1f mho',b);//when V1 is 0 in the 2nd eqn\n",
"printf('\n Y22 =I2/V2 =%.f mho',d);//when V1 is 0 in the 2nd eqn\n",
"printf('\nY-parameters are');\n",
"disp([a b;b d]);\n",
"dY=((a*d)-(b*b));\n",
"Z11=(d/dY);\n",
"Z12=(-b/dY);\n",
"Z21=(-b/dY);\n",
"Z22=(a/dY);\n",
"A=(-d/b);\n",
"C=(-dY/b);\n",
"D=(-a/b);\n",
"printf('\ndY=Y11.Y22-Y12.Y21 =%.2f',dY);\n",
"printf('\nZ11 = Y22/dY = %.3f Ohm',Z11);\n",
"printf('\nZ12 = -Y12/dY = %.3f Ohm',Z12);\n",
"printf('\nZ21 = -Y21/-dY = %.3f Ohm',Z21);\n",
"printf('\nZ22 = Y11/dY = %.3f Ohm',Z22);\n",
"printf('\nZ-parameters :');\n",
"disp([Z11 Z12;Z21 Z22]);\n",
"printf('\nA =-Y22/Y21 =%.f',A);\n",
"printf('\nB = -1/Y21 =%.f',A);\n",
"printf('\nC = -dY/Y21 =%.1f',C);\n",
"printf('\nD = -Y11/Y21 =%.1f',D);\n",
"printf('\nABCD parameters :');\n",
"disp([A A;C D]);\n",
"\n",
"\n",
"\n",
"\n",
"\n",
"\n",
"\n",
"\n",
"\n",
""
   ]
   }
,
{
		   "cell_type": "markdown",
		   "metadata": {},
		   "source": [
			"## Example 11.22: Interrelationships_between_parameters.sce"
		   ]
		  },
  {
"cell_type": "code",
	   "execution_count": null,
	   "metadata": {
	    "collapsed": true
	   },
	   "outputs": [],
"source": [
"//Two-Port Networks : example 11.22 :(pg11.52 & 11.53)\n",
"printf('\nApplying KVL to Mesh 1 \nV1 = I1 - I3 - - - -(i)');\n",
"printf('\nApplying KVL to Mesh 2 \nV2 = -4I2 + 2I3 - - - -(ii)');\n",
"printf('\nApplying KVL to Mesh 3 \nI3 = (1/5)I1 + (4/5)I2 - - - -(iii)');\n",
"//substituting (iii) in (i) & (ii),we get\n",
"printf('\nV1 = (4/5)I1 - (4/5)I2 \nV2 = (2/5)I1 - (12/5)I2');\n",
"printf('\nZ-parameters:');\n",
"a=4/5;b=-4/5;c=2/5;d=-12/5;\n",
"disp([a b;c d]);\n",
"dZ=(a*d)-(b*c);\n",
"Y11=(d/dZ);\n",
"Y12=(-b/dZ);\n",
"Y21=(-c/dZ);\n",
"Y22=(a/dZ);\n",
"printf('\nY-parameters are:');\n",
"printf('\ndZ = Z11.Z22 - Z12.Z21 = %.1f',dZ);\n",
"printf('\nY11 = Z22/dZ = %.1f mho',Y11);\n",
"printf('\nY12 = -Z12/dY = %.1f mho',Y12);\n",
"printf('\nY21 = -Z21/-dY = %.1f mho',Y21);\n",
"printf('\nY22 = Z11/dY = %.1f mho',Y22);\n",
"disp([Y11 Y12;Y21 Y22]); "
   ]
   }
,
{
		   "cell_type": "markdown",
		   "metadata": {},
		   "source": [
			"## Example 11.23: Interrelationships_between_parameters.sce"
		   ]
		  },
  {
"cell_type": "code",
	   "execution_count": null,
	   "metadata": {
	    "collapsed": true
	   },
	   "outputs": [],
"source": [
"//Two-Port Networks : example 11.23 :(pg11.53 & 11.54)\n",
"printf('\nApplying KVL to Mesh 1 \nV1 = 4I1 - 2I3 - - - -(i)');\n",
"printf('\nApplying KVL to Mesh 2 \nV2 = 4I2 + 2I3 - - - -(ii)');\n",
"printf('\nApplying KVL to Mesh 3 \n-2I3 = I1 + I2 - - - -(iii)');\n",
"//substituting (iii) in (i) & (ii),we get\n",
"printf('\nV1 = 5I1 + I2 \nV2 = -I1 + 3I2');\n",
"printf('\nZ-parameters:');\n",
"a=5;b=1;c=-1;d=3;\n",
"disp([a b;c d]);\n",
"dZ=(a*d)-(b*c);\n",
"h11=(dZ/d);\n",
"h12=(b/d);\n",
"h21=(-c/d);\n",
"h22=(1/d);\n",
"printf('\ndZ = Z11.Z22 - Z12.Z21 = %.1f',dZ);\n",
"printf('\nh11 = dZ/Z22 = %.1f ',h11);\n",
"printf('\nh12 = Z12/Z22 = %.1f ',h12);\n",
"printf('\nh21 = -Z21/Z22 = %.1f ',h21);\n",
"printf('\nh22 = 1/Z22 = %.1f ',h22);\n",
"printf('\nh-parameters are:');\n",
"disp([h11 h12;h21 h22]); "
   ]
   }
,
{
		   "cell_type": "markdown",
		   "metadata": {},
		   "source": [
			"## Example 11.24: Interrelationships_between_parameters.sce"
		   ]
		  },
  {
"cell_type": "code",
	   "execution_count": null,
	   "metadata": {
	    "collapsed": true
	   },
	   "outputs": [],
"source": [
"//Two-Port Networks : example 11.24 :(pg11.54 & 11.55)\n",
"printf('\nApplying KCL to Node 3 \nV3 = V2/3 - - - -(i)');\n",
"printf('\nI1 = 2V1 - (2/3)V2 - - - -(ii)');\n",
"printf('\nI2 = 3V2 - (V2/3) = (8/3)V2 - - - -(iii)');\n",
"//Comparing (iii) & (ii) ,we get\n",
"printf('\nY-parameters:');\n",
"a=2;b=(-2/3);c=0;d=(8/3);\n",
"disp([a b;b d]);\n",
"dY=((a*d)-(b*c));\n",
"Z11=(d/dY);\n",
"Z12=(-b/dY);\n",
"Z21=(c/dY);\n",
"Z22=(a/dY);\n",
"printf('\ndY=Y11.Y22-Y12.Y21 =%.1f',dY);\n",
"printf('\nZ11 = Y22/dY = %.1f Ohm',Z11);\n",
"printf('\nZ12 = -Y12/dY = %.1f Ohm',Z12);\n",
"printf('\nZ21 = -Y21/-dY = %.f Ohm',Z21);\n",
"printf('\nZ22 = Y11/dY = %.1f Ohm',Z22);\n",
"printf('\nZ-parameters :');\n",
"disp([Z11 Z12;Z21 Z22]);"
   ]
   }
,
{
		   "cell_type": "markdown",
		   "metadata": {},
		   "source": [
			"## Example 11.25: Interrelationships_between_parameters.sce"
		   ]
		  },
  {
"cell_type": "code",
	   "execution_count": null,
	   "metadata": {
	    "collapsed": true
	   },
	   "outputs": [],
"source": [
"//Two-Port Networks : example 11.25 :(pg11.55 & 11.56)\n",
"printf('\nApplying KCL to Node 1 \nI1 = (-3/2)V1 - V2- - -(i)');\n",
"printf('\nApplying KCL to Node 2 \nI2 = 2V1 + 2V2 - - - -(ii)');\n",
"//observing (i) & (ii)\n",
"printf('\nY-parameters:');\n",
"a=(-3/2);b=(-1);c=2;d=2;\n",
"disp([a b;c d]);\n",
"dY=((a*d)-(b*c));\n",
"Z11=(d/dY);\n",
"Z12=(-b/dY);\n",
"Z21=(-c/dY);\n",
"Z22=(a/dY);\n",
"printf('\ndY=Y11.Y22-Y12.Y21 =%.f',dY);\n",
"printf('\nZ11 = Y22/dY = %.f Ohm',Z11);\n",
"printf('\nZ12 = -Y12/dY = %.f Ohm',Z12);\n",
"printf('\nZ21 = -Y21/-dY = %.f Ohm',Z21);\n",
"printf('\nZ22 = Y11/dY = %.1f Ohm',Z22);\n",
"printf('\nZ-parameters :');\n",
"disp([Z11 Z12;Z21 Z22]);"
   ]
   }
,
{
		   "cell_type": "markdown",
		   "metadata": {},
		   "source": [
			"## Example 11.26: Interrelationships_between_parameters.sce"
		   ]
		  },
  {
"cell_type": "code",
	   "execution_count": null,
	   "metadata": {
	    "collapsed": true
	   },
	   "outputs": [],
"source": [
"//Two-Port Networks : example 11.22 :(pg11.52 & 11.53)\n",
"printf('\nApplying KVL to Mesh 1 \nV1 = 2I1 + I2 - - - -(i)');\n",
"printf('\nApplying KVL to Mesh 2 \nV2 = 10I1 + 11I2 - - - -(ii)');\n",
"//observing (i) & (ii)\n",
"printf('\nV1 = (4/5)I1 - (4/5)I2 \nV2 = (2/5)I1 - (12/5)I2');\n",
"printf('\nZ-parameters:');\n",
"a=2;b=1;c=10;d=11;\n",
"disp([a b;c d]);\n",
"dZ=(a*d)-(b*c);\n",
"Y11=(d/dZ);\n",
"Y12=(-b/dZ);\n",
"Y21=(-c/dZ);\n",
"Y22=(a/dZ);\n",
"printf('\nY-parameters are:');\n",
"printf('\ndZ = Z11.Z22 - Z12.Z21 = %.1f',dZ);\n",
"printf('\nY11 = Z22/dZ = %.1f mho',Y11);\n",
"printf('\nY12 = -Z12/dY = %.1f mho',Y12);\n",
"printf('\nY21 = -Z21/-dY = %.1f mho',Y21);\n",
"printf('\nY22 = Z11/dY = %.1f mho',Y22);\n",
"disp([Y11 Y12;Y21 Y22]); \n",
"h11=(dZ/d);\n",
"h12=(b/d);\n",
"h21=(-c/d);\n",
"h22=(1/d);\n",
"printf('\ndZ = Z11.Z22 - Z12.Z21 = %.1f',dZ);\n",
"printf('\nh11 = dZ/Z22 = %.1f Ohm ',h11);\n",
"printf('\nh12 = Z12/Z22 = %.1f ',h12);\n",
"printf('\nh21 = -Z21/Z22 = %.1f ',h21);\n",
"printf('\nh22 = 1/Z22 = %.1f mho',h22);\n",
"printf('\nh-parameters are:');\n",
"disp([h11 h12;h21 h22]); "
   ]
   }
,
{
		   "cell_type": "markdown",
		   "metadata": {},
		   "source": [
			"## Example 11.27: Interrelationships_between_parameters.sce"
		   ]
		  },
  {
"cell_type": "code",
	   "execution_count": null,
	   "metadata": {
	    "collapsed": true
	   },
	   "outputs": [],
"source": [
"//Two-Port Networks : example 11.27 :(pg11.58)\n",
"printf('\nApplying KCL to Node 1 \nI1 = 4V1 - 3V2- - -(i)');\n",
"printf('\nApplying KCL to Node 2 \nI2 = -3V1 + 1.5V2 - - - -(ii)');\n",
"//observing (i) & (ii)\n",
"printf('\nY-parameters:');\n",
"a=4;b=(-3);c=(-3);d=1.5;\n",
"disp([a b;c d]);\n",
"dY=((a*d)-(b*c));\n",
"Z11=(d/dY);\n",
"Z12=(-b/dY);\n",
"Z21=(-c/dY);\n",
"Z22=(a/dY);\n",
"printf('\ndY=Y11.Y22-Y12.Y21 =%.f',dY);\n",
"printf('\nZ11 = Y22/dY = %.f Ohm',Z11);\n",
"printf('\nZ12 = -Y12/dY = %.f Ohm',Z12);\n",
"printf('\nZ21 = -Y21/-dY = %.f Ohm',Z21);\n",
"printf('\nZ22 = Y11/dY = %.1f Ohm',Z22);\n",
"printf('\nZ-parameters :');\n",
"disp([Z11 Z12;Z21 Z22]);"
   ]
   }
,
{
		   "cell_type": "markdown",
		   "metadata": {},
		   "source": [
			"## Example 11.28: Interrelationships_between_parameters.sce"
		   ]
		  },
  {
"cell_type": "code",
	   "execution_count": null,
	   "metadata": {
	    "collapsed": true
	   },
	   "outputs": [],
"source": [
"//Two-Port Networks : example 11.28 :(pg11.58 & 11.59)\n",
"printf('\nApplying KCL to Node 1 \nI1 = 1.5V1 - 0.5V2- - -(i)');\n",
"printf('\nApplying KCL to Node 2 \nI2 = 4V1 - 0.5V2 - - - -(ii)');\n",
"//observing (i) & (ii)\n",
"printf('\nY-parameters:');\n",
"a=1.5;b=(-0.5);c=(4);d=(-0.5);\n",
"disp([a b;c d]);\n",
"dY=((a*d)-(b*c));\n",
"Z11=(d/dY);\n",
"Z12=(-b/dY);\n",
"Z21=(-c/dY);\n",
"Z22=(a/dY);\n",
"printf('\ndY=Y11.Y22-Y12.Y21 =%.f',dY);\n",
"printf('\nZ11 = Y22/dY = %.f Ohm',Z11);\n",
"printf('\nZ12 = -Y12/dY = %.f Ohm',Z12);\n",
"printf('\nZ21 = -Y21/-dY = %.f Ohm',Z21);\n",
"printf('\nZ22 = Y11/dY = %.1f Ohm',Z22);\n",
"printf('\nZ-parameters :');\n",
"disp([Z11 Z12;Z21 Z22]);"
   ]
   }
,
{
		   "cell_type": "markdown",
		   "metadata": {},
		   "source": [
			"## Example 11.29: Interrelationships_between_parameters.sce"
		   ]
		  },
  {
"cell_type": "code",
	   "execution_count": null,
	   "metadata": {
	    "collapsed": true
	   },
	   "outputs": [],
"source": [
"//Two-Port Networks : example 11.29 :(pg11.59 & 11.60)\n",
"printf('\nApplying KCL to Node 1 \nI1 = 3V1 - 2V2- - -(i)');\n",
"printf('\nApplying KCL to Node 2 \nI2 = 3V2 - V3 - - - -(ii)');\n",
"printf('\nApplying KCL to Node 3 \nV3 = (1/3)V2 - - - -(ii)');\n",
"//substituting (iii) in (i) & (ii),we get\n",
"printf('\nI1 = 3V1 - (2/3)V2 \nI2 = 0V1 + (8/3)V2');\n",
"printf('\nY-parameters:');\n",
"a=3;b=(-2/3);c=(0);d=(8/3);\n",
"disp([a b;c d]);\n",
"dY=((a*d)-(b*c));\n",
"Z11=(d/dY);\n",
"Z12=(-b/dY);\n",
"Z21=(c/dY);\n",
"Z22=(a/dY);\n",
"printf('\ndY=Y11.Y22-Y12.Y21 =%.f',dY);\n",
"printf('\nZ11 = Y22/dY = %.1f Ohm',Z11);\n",
"printf('\nZ12 = -Y12/dY = %.1f Ohm',Z12);\n",
"printf('\nZ21 = -Y21/-dY = %.f Ohm',Z21);\n",
"printf('\nZ22 = Y11/dY = %.1f Ohm',Z22);\n",
"printf('\nZ-parameters :');\n",
"disp([Z11 Z12;Z21 Z22]);"
   ]
   }
,
{
		   "cell_type": "markdown",
		   "metadata": {},
		   "source": [
			"## Example 11.30: Interrelationships_between_parameters.sce"
		   ]
		  },
  {
"cell_type": "code",
	   "execution_count": null,
	   "metadata": {
	    "collapsed": true
	   },
	   "outputs": [],
"source": [
"//Two-Port Networks : example 11.30 :(pg11.60 & 11.561)\n",
"printf('\nApplying KVL to Mesh 1 \nV1 = 4I1 + (0.05)I2 - - - -(i)');\n",
"printf('\nApplying KVL to Mesh 2 \nV2 = 2I1 - 10I2 - - - -(ii)');\n",
"//substituting (i) in (ii),\n",
"printf('\nV2 = -40I1 + (1.5)I2');\n",
"printf('\nZ-parameters:');\n",
"a=4;b=0.05;c=-40;d=1.5;\n",
"disp([a b;c d]);\n",
"dZ=(a*d)-(b*c);\n",
"Y11=(d/dZ);\n",
"Y12=(b/dZ);\n",
"Y21=(-c/dZ);\n",
"Y22=(a/dZ);\n",
"printf('\nY-parameters are:');\n",
"printf('\ndZ = Z11.Z22 - Z12.Z21 = %.1f',dZ);\n",
"printf('\nY11 = Z22/dZ = %.1f mho',Y11);\n",
"printf('\nY12 = -Z12/dY = %.f mho',Y12);\n",
"printf('\nY21 = -Z21/-dY = %.1f mho',Y21);\n",
"printf('\nY22 = Z11/dY = %.1f mho',Y22);\n",
"disp([Y11 Y12;Y21 Y22]); "
   ]
   }
,
{
		   "cell_type": "markdown",
		   "metadata": {},
		   "source": [
			"## Example 11.31: Interrelationships_between_parameters.sce"
		   ]
		  },
  {
"cell_type": "code",
	   "execution_count": null,
	   "metadata": {
	    "collapsed": true
	   },
	   "outputs": [],
"source": [
"//Two-Port Networks : example 11.31 :(pg11.61 & 11.62)\n",
"printf('\nApplying KVL to Mesh 1 \nV1 = 3I1 + 5I2 - - - -(i)');\n",
"printf('\nApplying KVL to Mesh 2 \nV2 = 2I1 + 4I2 - 2I3 - - - -(ii)');\n",
"printf('\nApplying KVL to Mesh 3 \nI3 = 2V3 - - - -(iii)');\n",
"//substituting (iii) in (i) & (ii),we get\n",
"printf('\n2V3 = 4I1 + 4I2 \nV2 = -6I1 + 4I2');\n",
"printf('\nZ-parameters:');\n",
"a=3;b=5;c=-6;d=-4;\n",
"disp([a b;c d]);\n",
"dZ=(a*d)-(b*c);\n",
"Y11=(d/dZ);\n",
"Y12=(-b/dZ);\n",
"Y21=(-c/dZ);\n",
"Y22=(a/dZ);\n",
"printf('\nY-parameters are:');\n",
"printf('\ndZ = Z11.Z22 - Z12.Z21 = %.1f',dZ);\n",
"printf('\nY11 = Z22/dZ = %.1f mho',Y11);\n",
"printf('\nY12 = -Z12/dY = %.1f mho',Y12);\n",
"printf('\nY21 = -Z21/-dY = %.1f mho',Y21);\n",
"printf('\nY22 = Z11/dY = %.1f mho',Y22);\n",
"disp([Y11 Y12;Y21 Y22]); "
   ]
   }
],
"metadata": {
		  "kernelspec": {
		   "display_name": "Scilab",
		   "language": "scilab",
		   "name": "scilab"
		  },
		  "language_info": {
		   "file_extension": ".sce",
		   "help_links": [
			{
			 "text": "MetaKernel Magics",
			 "url": "https://github.com/calysto/metakernel/blob/master/metakernel/magics/README.md"
			}
		   ],
		   "mimetype": "text/x-octave",
		   "name": "scilab",
		   "version": "0.7.1"
		  }
		 },
		 "nbformat": 4,
		 "nbformat_minor": 0
}
