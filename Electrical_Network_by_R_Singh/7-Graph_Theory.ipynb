{
"cells": [
 {
		   "cell_type": "markdown",
	   "metadata": {},
	   "source": [
       "# Chapter 7: Graph Theory"
	   ]
	},
{
		   "cell_type": "markdown",
		   "metadata": {},
		   "source": [
			"## Example 7.11: Graph_of_a_Network.sce"
		   ]
		  },
  {
"cell_type": "code",
	   "execution_count": null,
	   "metadata": {
	    "collapsed": true
	   },
	   "outputs": [],
"source": [
"// Graph Theory : example 7.11 :(pg 7.21 & 7.22)\n",
"printf('\nAa=');\n",
"disp(Aa=[0 -1 1 0 0;0 0 -1 -1 -1;-1 0 0 0 1;1 1 0 1 0]);//Complete incidence matrix\n",
"A=[0 -1 1 0 0;0 0 -1 -1 -1;-1 0 0 0 1];//Reduced incidence matrix\n",
"printf('\nNumber of possible trees = |A*A^T|');//A^T=A'=transpose of A \n",
"x=(A*A');\n",
"disp(x);\n",
"det(x);\n",
"printf('\n|A*A^T|=%.f',det(x));//No. of possible trees\n",
"//Tieset Matrix B\n",
"printf('\ntwigs={3,4,5} \nlinks={1,2} \ntieset 1={1,4,5} \ntieset 2={2,3,4}');\n",
"printf('\nB=');\n",
"disp(B=[1 0 0 -1 1;0 1 1 -1 0]);\n",
"//f-cutset Matrix Q\n",
"printf('\nf-cutset 3={3,2} \nf-cutset 4={4,2,1} \nf-cutset 5={5,1}');\n",
"printf('\nQ=');\n",
"disp(Q=[0 -1 1 0 0;1 1 0 1 0;-1 0 0 0 1]);"
   ]
   }
,
{
		   "cell_type": "markdown",
		   "metadata": {},
		   "source": [
			"## Example 7.14: Network_Equilibrium_Equatio.sce"
		   ]
		  },
  {
"cell_type": "code",
	   "execution_count": null,
	   "metadata": {
	    "collapsed": true
	   },
	   "outputs": [],
"source": [
"//Graph Theory : example 7.14 :(pg 7.37 & 7.38)\n",
"//Tieset Matrix B\n",
"printf('\ntieset1={1,4,5} \ntieset2={2,4,6} \ntieset={3,5,6} \nB='); \n",
"B=[1 0 0 1 1 0;0 1 0 -1 0 -1;0 0 1 0 -1 1];\n",
"disp(B);\n",
"printf('\nThe KVL equation in matrix form \nB.Zb.(B^T).Il = B.Vs-B.Zb.Is');\n",
"printf('\nB.Zb.(B^T).Il = B.Vs \nZb=');//Is=0\n",
"Zb=diag([1,1,1,2,2,2]);\n",
"disp(Zb);\n",
"printf('\n(B^T)=');\n",
"disp(B');\n",
"Vs=[2;0;0;0;0;0];\n",
"printf('\nVs=');\n",
"disp(Vs);\n",
"printf('\nB.Zb=');\n",
"x=(B*Zb);\n",
"disp(x);\n",
"printf('\nB.Zb.(B^T)=');\n",
"y=(x*B');\n",
"disp(y);\n",
"printf('\nB.Vs=');\n",
"z=(B*Vs);\n",
"disp(z);\n",
"printf('\nLoad currents:');\n",
"M=[5 -2 -2;-2 5 -2;-2 -2 5];\n",
"H=inv(M);\n",
"N=[2;0;0];\n",
"X=H*N;\n",
"disp(X);\n",
"printf('\nIl1=0.857 A \nIl2=0.571 A \nIl3=0.571 A');\n",
"printf('\nBranch currents:');\n",
"P=(B')*X;\n",
"disp(P);//Currents in amperes\n",
""
   ]
   }
,
{
		   "cell_type": "markdown",
		   "metadata": {},
		   "source": [
			"## Example 7.15: Network_Equilibrium_Equatio.sce"
		   ]
		  },
  {
"cell_type": "code",
	   "execution_count": null,
	   "metadata": {
	    "collapsed": true
	   },
	   "outputs": [],
"source": [
"//Graph Theory : example 7.15 :(pg 7.38 & 7.39)\n",
"//Tieset Matrix B\n",
"printf('\ntieset1={1,4,6} \ntieset2={2,5,6} \ntieset={3,5,4} \nB='); \n",
"B=[1 0 0 1 0 1;0 1 0 0 1 -1;0 0 1 -1 -1 0];\n",
"disp(B);\n",
"printf('\nThe KVL equation in matrix form \nB.Zb.(B^T).Il = B.Vs-B.Zb.Is');\n",
"printf('\nB.Zb.(B^T).Il = B.Vs \nZb=');//Is=0\n",
"Zb=diag([6,4,3,4,6,2]);\n",
"disp(Zb);\n",
"printf('\n(B^T)=');\n",
"disp(B');\n",
"Vs=[12;-6;-8;0;0;0];\n",
"printf('\nVs=');\n",
"disp(Vs);\n",
"printf('\nB.Zb=');\n",
"x=(B*Zb);\n",
"disp(x);\n",
"printf('\nB.Zb.(B^T)=');\n",
"y=(x*B');\n",
"disp(y);\n",
"printf('\nB.Vs=');\n",
"z=(B*Vs);\n",
"disp(z);\n",
"printf('\nLoad currents:');\n",
"M=[12 -2 -4;-2 12 -6;-4 -6 12];\n",
"H=inv(M);\n",
"N=[12;-6;-8];\n",
"X=H*N;\n",
"disp(X);\n",
"printf('\nIl1=0.55 A \nIl2=-0.866 A \nIl3=-0.916 A');"
   ]
   }
,
{
		   "cell_type": "markdown",
		   "metadata": {},
		   "source": [
			"## Example 7.19: Network_Equilibrium_Equatio.sce"
		   ]
		  },
  {
"cell_type": "code",
	   "execution_count": null,
	   "metadata": {
	    "collapsed": true
	   },
	   "outputs": [],
"source": [
"//Graph Theory : example 7.15 :(pg 7.34 & 7.35)\n",
"Q=[1 -1 0 0;0 -1 1 1];\n",
"printf('\nQ=');\n",
"disp(Q);\n",
"printf('\nThe KCL equation in matrix form is given by');\n",
"printf('\nQ.Yb.(Q^T).Vl=Q.Is-Q.Yb.Vs');\n",
"printf('\nQ.Yb.(Q^T).Vl=Q.Is');//Vs=0\n",
"Yb=diag([5,5,5,10]);\n",
"Is=[-10;0;0;0];\n",
"printf('\nYb=');\n",
"disp(Yb);\n",
"printf('\n(Q^T)=');\n",
"disp(Q');\n",
"printf('\nIs=');\n",
"disp(Is);//current entering into nodes is taken as negative\n",
"x=(Q*Yb);\n",
"printf('\nQ.Yb=');\n",
"disp(x);\n",
"y=(x*Q');\n",
"printf('\nQ.Yb.(Q^T)=');\n",
"disp(y);\n",
"z=(Q*Is);\n",
"printf('\nQ.Is=');\n",
"disp(z);\n",
"printf('\nLoad voltages:');\n",
"M=[10 5;5 20];\n",
"P=inv(M);\n",
"N=[-10;0];\n",
"X=(P*N);\n",
"disp(X);\n",
"printf('\nvl1=-1.14 V \nvl2=0.28 V');"
   ]
   }
,
{
		   "cell_type": "markdown",
		   "metadata": {},
		   "source": [
			"## Example 7.20: Network_Equilibrium_Equatio.sce"
		   ]
		  },
  {
"cell_type": "code",
	   "execution_count": null,
	   "metadata": {
	    "collapsed": true
	   },
	   "outputs": [],
"source": [
"//Graph Theory : example 7.20 :(pg 7.35 & 7.36)\n",
"printf('\nf-cutset1={1,4,5,6} \nf-cutset2={2,4,5} \nf-cutset3={3,4,6}');\n",
"Q=[1 0 0 -1 -1 1;0 1 0 -1 -1 0;0 0 1 -1 0 1];\n",
"printf('\nQ=');\n",
"disp(Q);\n",
"printf('\nThe KCL equation in matrix form is given by');\n",
"printf('\nQ.Yb.(Q^T).Vl=Q.Is-Q.Yb.Vs');\n",
"printf('\nQ.Yb.(Q^T).Vl=Q.Is');//Is=0\n",
"Yb=diag([0.2,0.2,0.2,0.1,0.5,0.1]);\n",
"Vs=[910;0;0;0;0;0];\n",
"Is=[0;0;0;0;0;0];\n",
"printf('\nYb=');\n",
"disp(Yb);\n",
"printf('\nVs=');\n",
"disp(Vs);\n",
"printf('\nIs=');\n",
"disp(Is);\n",
"x=(Q*Yb);\n",
"printf('\nQ.Yb=');\n",
"disp(x);\n",
"y=(x*Q');\n",
"printf('\nQ.Yb.(Q^T)=');\n",
"disp(y);\n",
"z=(x*Vs);\n",
"printf('\nQ.Yb.Vs=');\n",
"disp(z);\n",
"printf('\nQ.Is=');\n",
"u=(Q*Is);\n",
"disp(Q*Is);\n",
"v=(u-z);\n",
"printf('\nQ.Is-Q.Yb.Vs=');\n",
"disp(v);\n",
"printf('\nLoad voltages:');\n",
"M=[0.9 0.6 0.2;0.6 0.8 0.1;0.2 0.1 0.3];\n",
"P=inv(M);\n",
"N=[-182;0;0];\n",
"X=(P*N);\n",
"disp(X);\n",
"printf('\nvl1=-460 V \nvl2=320 V \nvl3=200 V');\n",
"\n",
"\n",
"\n",
"\n",
"\n",
"\n",
"\n",
""
   ]
   }
,
{
		   "cell_type": "markdown",
		   "metadata": {},
		   "source": [
			"## Example 7.21: Network_Equilibrium_Equatio.sce"
		   ]
		  },
  {
"cell_type": "code",
	   "execution_count": null,
	   "metadata": {
	    "collapsed": true
	   },
	   "outputs": [],
"source": [
"//Graph Theory : example 7.22 :(pg 7.38 & 7.39)\n",
"printf('\ntwigs={1,2} \nf-cutset1={1,4} \nf-cutset2={2,3}');\n",
"Q=[1 0 0 -1;0 1 -1 0];\n",
"printf('\nQ=');\n",
"disp(Q);\n",
"printf('\nThe KCL equation in matrix form is given by');\n",
"printf('\nQ.Yb.(Q^T).Vl=Q.Is-Q.Yb.Vs');\n",
"Yb=diag([0.25,0.5,0.25,0.5]);\n",
"Vs=[1;1;0;0];\n",
"Is=[0;0;0.5;-0.5];\n",
"printf('\nYb=');\n",
"disp(Yb);\n",
"printf('\n(Q^T)=');\n",
"disp(Q');\n",
"printf('\nVs=');\n",
"disp(Vs);\n",
"printf('\nIs=');\n",
"disp(Is);\n",
"x=(Q*Yb);\n",
"printf('\nQ.Yb=');\n",
"disp(x);\n",
"y=(x*Q');\n",
"printf('\nQ.Yb.(Q^T)=');\n",
"disp(y);\n",
"printf('\nQ.Is=');\n",
"u=(Q*Is);\n",
"disp(Q*Is);\n",
"z=(x*Vs);\n",
"printf('\nQ.Yb.Vs=');\n",
"disp(z);\n",
"v=(u-z);\n",
"printf('\nQ.Is-Q.Yb.Vs=');\n",
"disp(v);\n",
"printf('\nLoad voltages:');\n",
"M=[0.75 0;0 0.75];\n",
"P=inv(M);\n",
"N=[0.25;-1];\n",
"X=(P*N);\n",
"disp(X);\n",
"printf('\nvl1=0.33 V \nvl2=-1.33 V');\n",
"vl2=-1.33;\n",
"v=1+vl2;\n",
"printf('\nV=%.2f',v);\n",
""
   ]
   }
,
{
		   "cell_type": "markdown",
		   "metadata": {},
		   "source": [
			"## Example 7.7: Graph_of_a_Network.sce"
		   ]
		  },
  {
"cell_type": "code",
	   "execution_count": null,
	   "metadata": {
	    "collapsed": true
	   },
	   "outputs": [],
"source": [
"// Graph Theory : example 7.7 : (pg 7.18 & 7.19)\n",
"//Complete incidence matrix Aa\n",
"printf('\nAa=');\n",
"disp(Aa=[1 0 0 -1 1 0 0 0;-1 1 0 0 0 1 0 0;0 -1 1 0 0 0 1 0;0 0 -1 1 0 0 0 1;0 0 0 0 -1 -1 -1 -1]);\n",
"//eliminating last row from Aa\n",
"printf('\nA=');\n",
"disp(A=[1 0 0 -1 1 0 0 0;-1 1 0 0 0 1 0 0;0 -1 1 0 0 0 1 0;0 0 -1 1 0 0 0 1]);\n",
"//Tieset matrix B\n",
"printf('\ntwigs={1,3,5,7} \nlinks={2,4,6,8} \ntieset 2={2,7,5,1} \ntieset 4={4,5,7,3} \ntieset 6={6,5,1} \ntieset 8={8,7,3}');\n",
"// forward direction = 1, reverse direction = -1\n",
"printf('\nB=');\n",
"disp(B=[1 1 0 0 -1 0 1 1;0 0 1 1 1 0 -1 0;1 0 0 0 -1 1 0 0;0 0 1 0 0 0 -1 1]);\n",
"// f-cutset matrix Q\n",
"printf('\nf-cutset 1={1,6,2} \nf-cutset 3={3,4,8} \nf-cutset 5={5,4,6,2} \nf-cutset 7={7,2,8,4}');\n",
"printf('\nQ=');\n",
"disp(Q=[1 -1 0 0 0 -1 0 0;0 0 1 -1 0 0 0 -1;0 1 0 -1 1 1 0 0;0 -1 0 1 0 0 1 1]);"
   ]
   }
,
{
		   "cell_type": "markdown",
		   "metadata": {},
		   "source": [
			"## Example 7.8: Graph_of_a_Network.sce"
		   ]
		  },
  {
"cell_type": "code",
	   "execution_count": null,
	   "metadata": {
	    "collapsed": true
	   },
	   "outputs": [],
"source": [
"// Graph Theory : example 7.8 :(pg 7.19 & 7.20)\n",
"//Complete Incidence Matrix Aa\n",
"printf('\nAa=');\n",
"disp(Aa=[1 0 -1 1;-1 1 0 0;0 -1 1 -1]);\n",
"// Reduced Incidence matrix A  (by eliminating last row from Aa)\n",
"A=[1 0 -1 1;-1 1 0 0];\n",
"printf('\nA=');\n",
"disp(A=[1 0 -1 1;-1 1 0 0]);\n",
"printf('\nNumber of possible trees=|A*A^T|');//A^T=A'= transpose of A\n",
"x=(A*A');\n",
"disp(x);\n",
"printf('\n|A*A^T|=');//determinant of A\n",
"disp(det(x));"
   ]
   }
],
"metadata": {
		  "kernelspec": {
		   "display_name": "Scilab",
		   "language": "scilab",
		   "name": "scilab"
		  },
		  "language_info": {
		   "file_extension": ".sce",
		   "help_links": [
			{
			 "text": "MetaKernel Magics",
			 "url": "https://github.com/calysto/metakernel/blob/master/metakernel/magics/README.md"
			}
		   ],
		   "mimetype": "text/x-octave",
		   "name": "scilab",
		   "version": "0.7.1"
		  }
		 },
		 "nbformat": 4,
		 "nbformat_minor": 0
}
