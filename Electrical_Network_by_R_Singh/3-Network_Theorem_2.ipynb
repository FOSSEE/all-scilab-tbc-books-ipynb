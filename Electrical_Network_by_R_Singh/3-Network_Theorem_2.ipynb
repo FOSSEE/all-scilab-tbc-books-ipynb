{
"cells": [
 {
		   "cell_type": "markdown",
	   "metadata": {},
	   "source": [
       "# Chapter 3: Network Theorem 2"
	   ]
	},
{
		   "cell_type": "markdown",
		   "metadata": {},
		   "source": [
			"## Example 3.10: example10.sce"
		   ]
		  },
  {
"cell_type": "code",
	   "execution_count": null,
	   "metadata": {
	    "collapsed": true
	   },
	   "outputs": [],
"source": [
"//Network Theorem 2\n",
"//pg no 3.11\n",
"//example 3.10\n",
"//when 17 V source is acting alone\n",
"disp('Vx+2I1=0');//equation 1\n",
"disp('Applying KVL to mesh,');\n",
"disp('-5Vx-5I1=17');//equation 2\n",
"A=[1 2;-5 -5];//solving equation in matrix form\n",
"B=[0 17]'\n",
"X=inv(A)*B;\n",
"disp(X);\n",
"disp('I1 = 3.4 A');\n",
"//when the 1 A source is acting alone\n",
"disp('4Vx+3I2=0');//equation 1\n",
"disp('Applying KCL at Node x,');\n",
"disp('Vx=-6/5');//equation 2\n",
"A=[4 3;1 0];//solving equation in matrix form\n",
"B=[0 -6/5]'\n",
"X=inv(A)*B;\n",
"disp(X);\n",
"disp('I2 = 1.6 A');\n",
"a=3.4;\n",
"b=1.6;\n",
"x=a+b;\n",
"printf('\nBy superposition theorem, \nI = I1+I2 = %.f A ',x);"
   ]
   }
,
{
		   "cell_type": "markdown",
		   "metadata": {},
		   "source": [
			"## Example 3.11: example11.sce"
		   ]
		  },
  {
"cell_type": "code",
	   "execution_count": null,
	   "metadata": {
	    "collapsed": true
	   },
	   "outputs": [],
"source": [
"//Network Theorem 2\n",
"//pg no 3.12\n",
"//example 3.11\n",
"//when 5 A source is acting alone\n",
"disp('-V1+4I=0');//equation 1\n",
"disp('Applying KCL to node 1,');\n",
"disp('1.25V1-4I=5');//equation 2\n",
"A=[-1 4;1.25 -4];//solving equation in matrix form\n",
"B=[0 5]'\n",
"X=inv(A)*B;\n",
"disp(X);\n",
"disp('V1 = 20 V');\n",
"//when the 20 V source is acting alone\n",
"disp('from the figure,');\n",
"disp('V2-3I=0');//equation 1\n",
"disp('Applying KVL to the mesh,');\n",
"disp('I=-20');//equation 2\n",
"A=[1 -3;0 1];//solving equation in matrix form\n",
"B=[0 -20]'\n",
"X=inv(A)*B;\n",
"disp(X);\n",
"disp('V2 = -60 V');\n",
"a=20;\n",
"b=-60;\n",
"x=a+b;\n",
"mprintf('\nBy superposition theorem, \n V = V1+V2 = %.f V ',x);"
   ]
   }
,
{
		   "cell_type": "markdown",
		   "metadata": {},
		   "source": [
			"## Example 3.12: example12.sce"
		   ]
		  },
  {
"cell_type": "code",
	   "execution_count": null,
	   "metadata": {
	    "collapsed": true
	   },
	   "outputs": [],
"source": [
"//Network Theorem 2\n",
"//pg no 3.13\n",
"//example 3.12\n",
"//when 18 V source is acting alone\n",
"disp('Vx+I1=0');//equation 1\n",
"disp('Applying KVL to mesh,');\n",
"disp('3Vx-6I1=-18');//equation 2\n",
"A=[1 1;3 -6];//solving equation in matrix form\n",
"B=[0 -18]'\n",
"X=inv(A)*B;\n",
"disp(X);\n",
"disp('I1 = 2 A');\n",
"//when the 3 A source is acting alone\n",
"disp('from the figure,');\n",
"disp('Vx=2 V');//equation 1\n",
"disp('Applying KCL at node 1,');\n",
"disp('3Vx-6I2=0');//equation 2\n",
"A=[1 0;3 -6];//solving equation in matrix form\n",
"B=[2 0]'\n",
"X=inv(A)*B;\n",
"disp(X);\n",
"disp('I2 =1 V');\n",
"a=2;\n",
"b=1;\n",
"x=a+b;\n",
"mprintf('\nBy superposition theorem, \n I = I1+I2 = %.f A ',x);"
   ]
   }
,
{
		   "cell_type": "markdown",
		   "metadata": {},
		   "source": [
			"## Example 3.13: example13.sce"
		   ]
		  },
  {
"cell_type": "code",
	   "execution_count": null,
	   "metadata": {
	    "collapsed": true
	   },
	   "outputs": [],
"source": [
"//Network Theorem 2\n",
"//pg no 3.14\n",
"//example 3.13\n",
"//when 120 V source is acting alone\n",
"disp('Applying KVL to mesh,');\n",
"disp('Iy1=5.45 A');\n",
"//when the 12 A source is acting alone\n",
"disp('from the figure,');\n",
"disp('V1+4Iy2=0');//equation 1\n",
"disp('Applying KCL at node 1,');\n",
"disp('-V1/8 +9/4Iy2=-12');//equation 2\n",
"A=[1 4;-1/8 9/4];//solving equation in matrix form\n",
"B=[0 -12]'\n",
"X=inv(A)*B;\n",
"disp(X);\n",
"disp('Iy2 =-4.36 A');\n",
"//when 40 V source is acting alone\n",
"disp('Applying KVL to mesh,');\n",
"disp('Iy3=-1.82 A');\n",
"a=5.45;\n",
"b=-4.36;\n",
"c=-1.82;\n",
"x=a+b+c;\n",
"mprintf('\nBy superposition theorem, \n I = Iy1+Iy2+Iy3 = %.2f A ',x);"
   ]
   }
,
{
		   "cell_type": "markdown",
		   "metadata": {},
		   "source": [
			"## Example 3.14: example14.sce"
		   ]
		  },
  {
"cell_type": "code",
	   "execution_count": null,
	   "metadata": {
	    "collapsed": true
	   },
	   "outputs": [],
"source": [
"//Network Theorem 2\n",
"//pg no 3.15\n",
"//example 3.14\n",
"//when 18 V source is acting alone\n",
"disp('Vx1-31=0');//equation 1\n",
"disp('Applying KVL to mesh,');\n",
"disp('-3Vx1-9I=-18');//equation 2\n",
"A=[1 -3;-3 -9];//solving equation in matrix form\n",
"B=[0 -18]'\n",
"X=inv(A)*B;\n",
"disp(X);\n",
"disp('Vx1 = 3 V');\n",
"//when the 5 A source is acting alone\n",
"disp('from the figure,');\n",
"disp('V1+Vx2=0');//equation 1\n",
"disp('Applying KCL at node 1,');\n",
"disp('1/2V1-1/2Vx2=5');//equation 2\n",
"A=[1 1;1/2 -1/2];//solving equation in matrix form\n",
"B=[0 5]'\n",
"X=inv(A)*B;\n",
"disp(X);\n",
"disp('Vx2= -5 V');\n",
"//when the 36 V source is acting alone\n",
"disp('from the figure,');\n",
"disp('Vx3+3I=0');//equation 1\n",
"disp('Applying KVL to the mesh,');\n",
"disp('3Vx3-9I=-36');//equation 2\n",
"A=[1 3;3 -9];//solving equation in matrix form\n",
"B=[0 -36]'\n",
"X=inv(A)*B;\n",
"disp(X);\n",
"disp('Vx3= -6 V');\n",
"a=3;\n",
"b=-5;\n",
"c=-6;\n",
"x=a+b+c;\n",
"mprintf('\nBy superposition theorem, \n Vx = Vx1+Vx2+Vx3 = %.f V ',x);"
   ]
   }
,
{
		   "cell_type": "markdown",
		   "metadata": {},
		   "source": [
			"## Example 3.15: example15.sce"
		   ]
		  },
  {
"cell_type": "code",
	   "execution_count": null,
	   "metadata": {
	    "collapsed": true
	   },
	   "outputs": [],
"source": [
"//Network Theorem 2\n",
"//pg no 3.16\n",
"//example 3.15\n",
"a=10;\n",
"b=2;\n",
"c=(5*a)-(20*b);\n",
"x=20;\n",
"y=30;\n",
"z=5;\n",
"r=z+((x*y)/(x+y));\n",
"i=c/(r+c);\n",
"//Calculation of Vth(Thevenin's voltage)\n",
"disp('removing the 10 ohm resistor from the circuit');\n",
"printf('\nFor mesh 1, \nI1 = %.f A',a);\n",
"printf('\nApplying KVL to mesh 2,, \nI2 = %.f A',b);\n",
"printf('\nWriting Vth equation, \n Vth = %.f V',c);\n",
"//Calculation of Rth(Thevenin's Resistance)\n",
"disp('replacing the current source of 10 A with an open circuit  and voltage source of 100 V with a short circuit,');\n",
"printf('\nRth = %.f Ohm',r);\n",
"//Calculation of IL(load current)\n",
"printf('\nIL = %.2f A',i);"
   ]
   }
,
{
		   "cell_type": "markdown",
		   "metadata": {},
		   "source": [
			"## Example 3.16: example16.sce"
		   ]
		  },
  {
"cell_type": "code",
	   "execution_count": null,
	   "metadata": {
	    "collapsed": true
	   },
	   "outputs": [],
"source": [
"//Network Theorem 2\n",
"//pg no 3.17\n",
"//example 3.16\n",
"a=30;\n",
"b=20;\n",
"c=50;\n",
"d=5;\n",
"e=24;\n",
"v=220;\n",
"x=(v/(a+c));\n",
"y=(v/(b+d));\n",
"z=(20*y)-(30*x);\n",
"r=((a*c)/(a+c))+((b*d)/(b+d));\n",
"i=z/(r+e);\n",
"//Calculation the Vth (Thevenin's voltage)\n",
"disp('removing the 24 Ohm resistor from the network');\n",
"printf('\nI1 = %.2f A',x);\n",
"printf('\nI2 = %.1f A',y);\n",
"printf('\nWriting Vth equation, \n Vth = %.1f V',z);\n",
"//Calculation of Rth (Thevenin's resistance)\n",
"disp('replacing the 220 V source with short circuit');\n",
"printf('\nRth = %.2f Ohm',r);\n",
"//Calculation of IL (load current)\n",
"printf('\nIL = %.f A',i);"
   ]
   }
,
{
		   "cell_type": "markdown",
		   "metadata": {},
		   "source": [
			"## Example 3.17: example17.sce"
		   ]
		  },
  {
"cell_type": "code",
	   "execution_count": null,
	   "metadata": {
	    "collapsed": true
	   },
	   "outputs": [],
"source": [
"//Network Theorem 2\n",
"//pg no 3.18\n",
"//example 3.17\n",
"disp('removing the 3 Ohm resistor from the network');\n",
"disp('Applying KVL to mesh 1');\n",
"disp('11*I1-9*I2=50');....//equation 1\n",
"disp('Applying KVL to mesh 2');\n",
"disp('-9*I1+18*I2=0');....//equation 2\n",
"A=[11 -9;-9 18];//solving the equations in matrix form\n",
"B=[50  0]'\n",
"X=inv(A)*B;\n",
"disp(X);\n",
"disp('I1=7.69 A');\n",
"disp('I2=3.85 A');\n",
"//Calculation of Vth (Thevenin's voltage)\n",
"a=7.69;\n",
"b=3.85;\n",
"v=-((5*b)+(8*(b-a)));//the B terminal is positive w.r.t A\n",
"printf('\nWriting Vth equation, \n Vth = %.1f V',v);\n",
"//Calculation of Rth (Thevenin's resistance)\n",
"x=4;\n",
"y=2;\n",
"z=5;\n",
"//delta into star network\n",
"r1=((x*y)/(x+y+z));\n",
"r2=((x*z)/(x+y+z));\n",
"r3=((z*y)/(x+y+z));\n",
"mprintf('\nR1 = %.2f Ohm \nR2 = %.2f Ohm \nR3 = %.2f Ohm',r1,r2,r3);\n",
"m=1.73;\n",
"n=8.91;\n",
"r=(r2+(m*n)/(m+n));\n",
"printf('\nRth = %.2f Ohm',r);\n",
"//Claculation of IL (Load Current)\n",
"i=v/(r+3);\n",
"printf('\nIL = %.2f A',i);"
   ]
   }
,
{
		   "cell_type": "markdown",
		   "metadata": {},
		   "source": [
			"## Example 3.18: example18.sce"
		   ]
		  },
  {
"cell_type": "code",
	   "execution_count": null,
	   "metadata": {
	    "collapsed": true
	   },
	   "outputs": [],
"source": [
"//Network Theorem 2\n",
"//pg no 3.21\n",
"//example 3.18\n",
"disp('removing the 20 Ohm resistor from the network');\n",
"disp('Applying KVL to mesh 1');\n",
"disp('30*I1-15*I2=-75');....//equation 1\n",
"disp('Applying KVL to mesh 2');\n",
"disp('-15*I1+20*I2=20');....//equation 2\n",
"A=[30 -15;-15 20];//solving the equations in matrix form\n",
"B=[-75  20]'\n",
"X=inv(A)*B;\n",
"disp(X);\n",
"disp('I1=-3.2 A');\n",
"disp('I2=-1.4 A');\n",
"//Calculation of Vth (Thevenin's voltage)\n",
"a=-3.2;\n",
"b=-1.4;\n",
"v=45;\n",
"v1=45-10*(a-b);\n",
"printf('\nWriting Vth equation, \n Vth = %.f V',v1);\n",
"//Calculation of Rth (Thevenin's resistance)\n",
"x=10;\n",
"y=5;\n",
"z=5;\n",
"//delta into star network\n",
"r1=((x*y)/(x+y+z));\n",
"r2=((x*z)/(x+y+z));\n",
"r3=((z*y)/(x+y+z));\n",
"mprintf('\nR1 = %.1f Ohm \nR2 = %.1f Ohm \nR3 = %.1f Ohm',r1,r2,r3);\n",
"m=16.25;\n",
"r=((m*r1)/(m+r1))+r1;\n",
"printf('\nRth = %.2f Ohm',r);\n",
"//Claculation of IL (Load Current)\n",
"i=v1/(r+20);\n",
"printf('\nIL = %.2f A',i);"
   ]
   }
,
{
		   "cell_type": "markdown",
		   "metadata": {},
		   "source": [
			"## Example 3.19: example19.sce"
		   ]
		  },
  {
"cell_type": "code",
	   "execution_count": null,
	   "metadata": {
	    "collapsed": true
	   },
	   "outputs": [],
"source": [
"//Network Theorem 2\n",
"//pg no 3.22\n",
"//example 3.19\n",
"disp('removing the 3 Ohm resistor from the network');\n",
"disp('Applying KVL to mesh 1');\n",
"disp('I1=6');....//equation 1\n",
"disp('Applying KVL to mesh 2');\n",
"disp('-12*I1+18*I2=42');....//equation 2\n",
"A=[1 0;-12 18];//solving the equations in matrix form\n",
"B=[6  42]'\n",
"X=inv(A)*B;\n",
"disp(X);\n",
"disp('I2= 6.33 A');\n",
"//Calculation of Vth (Thevenin's voltage)\n",
"a=6.33;\n",
"v=6*a;\n",
"printf('\nWriting Vth equation, \n Vth = %.f V',v);\n",
"//Calculation of Rth (Thevenin's resistance)\n",
"disp('replacing the voltage source with short circuit and current source by open circuit');\n",
"x=6;\n",
"y=12;\n",
"r=(x*y)/(x+y);\n",
"printf('\nRth = %.f Ohm',r);\n",
"//Calculation of IL (load current)\n",
"i=v/(r+3);\n",
"printf('\nIL = %.2f A',i);"
   ]
   }
,
{
		   "cell_type": "markdown",
		   "metadata": {},
		   "source": [
			"## Example 3.1: example1.sce"
		   ]
		  },
  {
"cell_type": "code",
	   "execution_count": null,
	   "metadata": {
	    "collapsed": true
	   },
	   "outputs": [],
"source": [
"//Network Theorem 2\n",
"//pg no 3.2\n",
"//example 3.1\n",
"disp('When 10-V source is acting alone:');\n",
"disp('By current-division formula :');\n",
"I1=10*(0.87/(10+0.87));\n",
"printf('I1=10*(0.87/(10+0.87))= %.2f A (down)', I1);\n",
"disp('When 4 A source is acting alone:');\n",
"disp('By current-division formula :');\n",
"I2=2.86*(0.875/(10+0.875));\n",
"printf('I2=2.86*(0.875/(10+0.875))= %.2f A (down)', I2);\n",
"disp('By superposition theorem:');\n",
"I=I1+I2;\n",
"printf('\nI=I1+I2=0.8+0.23= %.2f A (down)', I);"
   ]
   }
,
{
		   "cell_type": "markdown",
		   "metadata": {},
		   "source": [
			"## Example 3.20: example20.sce"
		   ]
		  },
  {
"cell_type": "code",
	   "execution_count": null,
	   "metadata": {
	    "collapsed": true
	   },
	   "outputs": [],
"source": [
"//Network Theorem 2\n",
"//pg no 3.23\n",
"//example 3.20\n",
"disp('removing the 30 Ohm resistor from the network');\n",
"disp('Applying KVL to supermesh ');\n",
"disp('-I1+I2=13');....//equation 1\n",
"disp('15*I1+100*I2=150');....//equation 2\n",
"//Calculation of Vth (Thevenin's voltage)\n",
"a=3;\n",
"v=(40*a)-50;\n",
"printf('\nWriting Vth equation, \n Vth = %.f V',v);\n",
"//Calculation of Rth (Thevenin's resistance)\n",
"disp('replacing the voltage source with short circuit and current source by open circuit');\n",
"r=(75*40)/(75+40);\n",
"printf('\nRth = %.2f Ohm',r);\n",
"//Calculation of IL (load current)\n",
"i=v/(r+30);\n",
"printf('\nIL = %.2f A',i);"
   ]
   }
,
{
		   "cell_type": "markdown",
		   "metadata": {},
		   "source": [
			"## Example 3.21: example21.sce"
		   ]
		  },
  {
"cell_type": "code",
	   "execution_count": null,
	   "metadata": {
	    "collapsed": true
	   },
	   "outputs": [],
"source": [
"//Network Theorem 2\n",
"//pg no 3.25\n",
"//example 3.21\n",
"//Calculation of Vth\n",
"v=100;\n",
"r=20;\n",
"x=v/r;\n",
"disp('Removing the 20 Ohm resistor from the network');\n",
"printf('\nVth = %.f V ',v);\n",
"//calculation of Rth\n",
"disp('replacing the voltage source with short circuit and current source by open circuit');\n",
"disp('Rth = 0');\n",
"//calculation of IL\n",
"printf('\nIL = %.f A',x);"
   ]
   }
,
{
		   "cell_type": "markdown",
		   "metadata": {},
		   "source": [
			"## Example 3.22: example22.sce"
		   ]
		  },
  {
"cell_type": "code",
	   "execution_count": null,
	   "metadata": {
	    "collapsed": true
	   },
	   "outputs": [],
"source": [
"//Network Theorem 2\n",
"//pg no 3.25\n",
"//example 3.22\n",
"disp('removing the 10 Ohm resistor from the network');\n",
"disp('Applying KVL to mesh 1');\n",
"disp('4*I1-I2=-25');....//equation 1\n",
"disp('Applying KVL to mesh 2');\n",
"disp('-I1+4*I2=10');....//equation 2\n",
"A=[4 -1;-1 4];//solving the equations in matrix form\n",
"B=[-25  10]'\n",
"X=inv(A)*B;\n",
"disp(X);\n",
"disp('I1=-6 A');\n",
"disp('I2=1 A');\n",
"//Calculation of Vth (Thevenin's voltage)\n",
"a=-6;\n",
"b=1;\n",
"v=-((2*a)+(2*b));//the terminal B is positive w.r.t A\n",
"printf('\nWriting Vth equation, \n Vth = %.f V',v);\n",
"//Calculation of Rth (Thevenin's resistance)\n",
"x=2;\n",
"y=2;\n",
"z=1;\n",
"//star into delta network\n",
"r1=x+y+((x*y)/z);\n",
"r2=x+z+((x*z)/y);\n",
"r3=z+y+((z*y)/x);\n",
"mprintf('\nR1 = %.f Ohm \nR2 = %.f Ohm \nR3 = %.f Ohm',r1,r2,r3);\n",
"//Claculation of IL (Load Current)\n",
"r=1.33;\n",
"i=v/(r+v);\n",
"printf('\nIL = %.2f A',i);"
   ]
   }
,
{
		   "cell_type": "markdown",
		   "metadata": {},
		   "source": [
			"## Example 3.23: example23.sce"
		   ]
		  },
  {
"cell_type": "code",
	   "execution_count": null,
	   "metadata": {
	    "collapsed": true
	   },
	   "outputs": [],
"source": [
"//Network Theorem 2\n",
"//pg no 3.28\n",
"//example 3.23\n",
"disp('removing the 1 Ohm resistor from the network');\n",
"disp('writing current equation for meshes 1 & 2 ');\n",
"disp('I1= -3 A');....//equation 1\n",
"disp('I2=1 A');....//equation 2\n",
"//Calculation of Vth (Thevenin's voltage)\n",
"a=-3;\n",
"b=1;\n",
"r=2;\n",
"v=4-2*(a-b);\n",
"printf('\nWriting Vth equation, \n Vth = %.f V',v);\n",
"//Calculation of Rth (Thevenin's resistance)\n",
"disp('replacing the voltage source with short circuit and current source by open circuit');\n",
"disp('Rth = 2 Ohm');\n",
"//Calculation of IL (load current)\n",
"i=v/(r+1);\n",
"printf('\nIL = %.f A',i);"
   ]
   }
,
{
		   "cell_type": "markdown",
		   "metadata": {},
		   "source": [
			"## Example 3.24: example24.sce"
		   ]
		  },
  {
"cell_type": "code",
	   "execution_count": null,
	   "metadata": {
	    "collapsed": true
	   },
	   "outputs": [],
"source": [
"//Network Theorem 1\n",
"//page no-3.29\n",
"//example3.24\n",
"//calculation of Isc (short-circuit current)\n",
"disp('Applying KVL to mesh 1:');\n",
"disp('I1=2');....//equation 1\n",
"disp('Writing current equation to supermesh:');//meshes 2 & 3 will form a supermesh \n",
"disp('I3-I2=4');....//equation 2\n",
"disp('Applying KVL to supermesh:');\n",
"disp('-5I2-15I3=0');....//equation 3\n",
"disp('solving these equations we get :');...//solving equations in matrix form\n",
"A=[1 0 0;0 -1 1;0 -5 -15];\n",
"B=[2 4 0]'\n",
"X=inv(A)*B;\n",
"disp(X);\n",
"disp('I1 = 2 A');\n",
"disp('I2 = -3 A');\n",
"disp('I3 = 1 A');\n",
"a=2;\n",
"b=-3;\n",
"x=a-b;\n",
"printf('\nIsc = %.f A',x);\n",
"//calculation of Rn (norton's resistance)\n",
"disp('replacing the voltage source with short circuit and current source by open circuit');\n",
"c=1;\n",
"m=15;\n",
"y=(c*(m+x))/(c+m+x);\n",
"printf('\nRn = %.2f Ohm',y);\n",
"//calculation of IL (load current)\n",
"z=10;\n",
"i=x*(y/(z+y));\n",
"printf('\nIL = %.2f A',i);"
   ]
   }
,
{
		   "cell_type": "markdown",
		   "metadata": {},
		   "source": [
			"## Example 3.25: example25.sce"
		   ]
		  },
  {
"cell_type": "code",
	   "execution_count": null,
	   "metadata": {
	    "collapsed": true
	   },
	   "outputs": [],
"source": [
"//Network Theorem 1\n",
"//page no-3.30\n",
"//example3.25\n",
"//calculation of Isc (short-circuit current)\n",
"disp('Applying KVL to mesh 1:');\n",
"disp('7*I1-2*I2=20');....//equation 1\n",
"disp('Applying KVL to mesh 2,'); \n",
"disp('-2*I1+10*I2=-12');....//equation 2\n",
"disp('solving these equations we get :');...//solving equations in matrix form\n",
"A=[7 -2;-2 10];\n",
"B=[20 -12]'\n",
"X=inv(A)*B;\n",
"disp(X);\n",
"disp('I2 = -0.67 A');\n",
"a=-0.67;\n",
"printf('\nIsc = I2 = %.2f A',a);\n",
"//calculation of Rn (norton's resistance)\n",
"disp('replacing the voltage source with short circuit ');\n",
"b=5;\n",
"c=2;\n",
"d=8;\n",
"y=((b*c)/(b+c))+d;\n",
"printf('\nRn = %.2f Ohm',y);\n",
"//calculation of IL (load current)\n",
"z=10;\n",
"i=-a*(y/(10+y));\n",
"printf('\nIL = %.2f A',i);"
   ]
   }
,
{
		   "cell_type": "markdown",
		   "metadata": {},
		   "source": [
			"## Example 3.26: example26.sce"
		   ]
		  },
  {
"cell_type": "code",
	   "execution_count": null,
	   "metadata": {
	    "collapsed": true
	   },
	   "outputs": [],
"source": [
"//Network Theorem 1\n",
"//page no-3.31\n",
"//example3.26\n",
"//calculation of Isc (short-circuit current)\n",
"disp('Applying KVL to mesh 1:');\n",
"disp('7*I1-I2=10');....//equation 1\n",
"disp('Applying KVL to mesh 2:'); \n",
"disp('-I1+6*I2-3*I3=0');....//equation 2\n",
"disp('Applying KVL to mesh 3:');\n",
"disp('3*I2-3*I3=20');....//equation 3\n",
"disp('solving these equations we get :');...//solving equations in matrix form\n",
"A=[7 -1 0;-1 6 -3;0 3 -3];\n",
"B=[10 0 20]'\n",
"X=inv(A)*B;\n",
"disp(X);\n",
"disp('I1 = -13.17 A');\n",
"a=13.17;\n",
"printf('\nIsc = -%.2f A',a);\n",
"//calculation of Rn (norton's resistance)\n",
"disp('replacing the voltage source with short circuit ');\n",
"c=1;\n",
"b=6;\n",
"x=(c*b)/(c+b);\n",
"y=x+2;\n",
"z=(y*3)/(y+3);\n",
"printf('\nRn = %.2f Ohm',z);\n",
"//calculation of IL (load current)\n",
"n=10;\n",
"i=a*(z/(z+n));\n",
"printf('\nIL = %.2f A',i);"
   ]
   }
,
{
		   "cell_type": "markdown",
		   "metadata": {},
		   "source": [
			"## Example 3.27: example27.sce"
		   ]
		  },
  {
"cell_type": "code",
	   "execution_count": null,
	   "metadata": {
	    "collapsed": true
	   },
	   "outputs": [],
"source": [
"//Network Theorem 1\n",
"//page no-3.32\n",
"//example3.27\n",
"//calculation of Isc (short-circuit current)\n",
"disp('Applying KVL to mesh 1:');\n",
"disp('20*I1-20*I2=10');....//equation 1\n",
"disp('Applying KVL to mesh 2:'); \n",
"disp('-20*I1+60*I2-20*I3=40');....//equation 2\n",
"disp('Applying KVL to mesh 3:');\n",
"disp('-20*I2+50*I3=-100');....//equation 3\n",
"disp('solving these equations we get :');...//solving equations in matrix form\n",
"A=[20 -20 0;-20 60 -20;0 -20 50];\n",
"B=[10 40 -100]'\n",
"X=inv(A)*B;\n",
"disp(X);\n",
"disp('I1 = 0.81A');\n",
"a=0.81;\n",
"printf('\nIsc = -%.2f A',a);\n",
"//calculation of Rn (norton's resistance)\n",
"disp('replacing the voltage source with short circuit ');\n",
"c=20;\n",
"b=30;\n",
"x=(c*b)/(c+b);\n",
"y=x+c;\n",
"z=(y*c)/(y+c);\n",
"printf('\nRn = %.1f Ohm',z);\n",
"//calculation of IL (load current)\n",
"n=10;\n",
"i=a*(z/(z+n));\n",
"printf('\nIL = %.2f A',i);"
   ]
   }
,
{
		   "cell_type": "markdown",
		   "metadata": {},
		   "source": [
			"## Example 3.28: example28.sce"
		   ]
		  },
  {
"cell_type": "code",
	   "execution_count": null,
	   "metadata": {
	    "collapsed": true
	   },
	   "outputs": [],
"source": [
"//Network Theorem 1\n",
"//page no-3.33\n",
"//example3.28\n",
"//calculation of Isc (short-circuit current)\n",
"disp('Applying KVL to mesh 1:');\n",
"disp('90*I1-60*I2=120');....//equation 1\n",
"disp('Applying KVL to mesh 2:'); \n",
"disp('-60*I1+100*I2-30*I3=40');....//equation 2\n",
"disp('Applying KVL to mesh 3:');\n",
"disp('30*I2-30*I3=-10');....//equation 3\n",
"disp('solving these equations we get :');...//solving equations in matrix form\n",
"A=[90 -60 0;-60 100 -30;0 30 -30];\n",
"B=[120 40 -10]'\n",
"X=inv(A)*B;\n",
"disp(X);\n",
"disp('I3 = 4.67A');\n",
"a=4.67;\n",
"printf('\nIsc = %.2f A',a);\n",
"//calculation of Rn (norton's resistance)\n",
"disp('replacing the voltage source with short circuit ');\n",
"c=30;\n",
"b=60;\n",
"x=(c*b)/(c+b);\n",
"y=x+10;\n",
"z=(y*c)/(y+c);\n",
"printf('\nRn = %.f Ohm',z);"
   ]
   }
,
{
		   "cell_type": "markdown",
		   "metadata": {},
		   "source": [
			"## Example 3.29: example29.sce"
		   ]
		  },
  {
"cell_type": "code",
	   "execution_count": null,
	   "metadata": {
	    "collapsed": true
	   },
	   "outputs": [],
"source": [
"//Network Theorem 1\n",
"//page no-3.34\n",
"//example3.29\n",
"//calculation of Isc (short-circuit current)\n",
"disp('Writing current equation for supermesh :');\n",
"disp('I2-I1=2');....//equation 1\n",
"disp('Applying KVL to supermesh ,'); \n",
"disp('12*I1= 55');....//equation 2\n",
"disp('solving these equations we get :');...//solving equations in matrix form\n",
"A=[-1 1;12 0];\n",
"B=[2 55]'\n",
"X=inv(A)*B;\n",
"disp(X);\n",
"disp('I1 = 4.58 A');\n",
"disp('I2 = 6.58 A');\n",
"a=6.58;\n",
"printf('\nIsc = I2 = %.2f A',a);\n",
"//calculation of Rn (norton's resistance)\n",
"disp('replacing the voltage source with short circuit and current source with open circuit ');\n",
"b=12;\n",
"c=4;\n",
"y=((b*c)/(b+c));\n",
"printf('\nRn = %.f Ohm',y);\n",
"//calculation of IL (load current)\n",
"z=8;\n",
"i=a*(y/(z+y));\n",
"printf('\nIL = %.2f A',i);"
   ]
   }
,
{
		   "cell_type": "markdown",
		   "metadata": {},
		   "source": [
			"## Example 3.2: example2.sce"
		   ]
		  },
  {
"cell_type": "code",
	   "execution_count": null,
	   "metadata": {
	    "collapsed": true
	   },
	   "outputs": [],
"source": [
"//Network Theorem 2\n",
"//pg no 3.4\n",
"//example 3.2\n",
"disp('When 4-A source is acting alone:');\n",
"disp('By current-division formula :');\n",
"I1=3.33*(3.53/(6+3.53));\n",
"printf('I1=3.33*(3.53/(6+3.53)) = %.2f A (down)', I1);\n",
"disp('When 10-V source is acting alone:');\n",
"disp('By current-division formula :');\n",
"I2=0.833*(3.53/(6+3.53));\n",
"printf('I2=0.833*(3.53/(6+3.53))= %.2f A (up)', I2);\n",
"disp('When 3-A source is acting alone:');\n",
"disp('By current-division formula :');\n",
"I3=3*(3.53/(6+3.53));\n",
"printf('I3=3*(3.53/(6+3.53))= %.2f A (down)', I3);\n",
"disp('By superposition theorem:');\n",
"I=I1-I2+I3;\n",
"printf('\nI=I1-I2+I3=1.23-0.31+1.11= %.2f A (down)', I);"
   ]
   }
,
{
		   "cell_type": "markdown",
		   "metadata": {},
		   "source": [
			"## Example 3.30: example30.sce"
		   ]
		  },
  {
"cell_type": "code",
	   "execution_count": null,
	   "metadata": {
	    "collapsed": true
	   },
	   "outputs": [],
"source": [
"//Network Theorem 1\n",
"//page no-3.35\n",
"//example3.30\n",
"//calculation of Isc (short-circuit current)\n",
"disp('Applying KVL to mesh 1:');\n",
"disp('5*I1-2*I2=-2');....//equation 1\n",
"disp('Applying KVL to mesh 2:'); \n",
"disp('4*I2-2*I3=-1');....//equation 2\n",
"disp('Applying KVL to mesh 3:');\n",
"disp('-2*I1-2*I2+4*I3=0');....//equation 3\n",
"disp('solving these equations we get :');...//solving equations in matrix form\n",
"A=[5 -2 0;0 4 -2 ;-2 -2 4];\n",
"B=[-2 -1 0]'\n",
"X=inv(A)*B;\n",
"disp(X);\n",
"disp('I1 = -0.64A');\n",
"disp('I2 = -0.55A');\n",
"disp('I3 = -0.59A');\n",
"a=-0.64;\n",
"b=-0.55;\n",
"c=-0.59;\n",
"printf('\nIsc = I3 = %.2f A',a);\n",
"//calculation of Rn (norton's resistance)\n",
"disp('replacing the voltage source with short circuit ');\n",
"z=2.2;\n",
"printf('\nRn = %.1f Ohm',z);\n",
"//calculation of IL (load current)\n",
"n=1;\n",
"i=-c*(z/(z+n));\n",
"printf('\nIL = %.2f A',i);"
   ]
   }
,
{
		   "cell_type": "markdown",
		   "metadata": {},
		   "source": [
			"## Example 3.31: example31.sce"
		   ]
		  },
  {
"cell_type": "code",
	   "execution_count": null,
	   "metadata": {
	    "collapsed": true
	   },
	   "outputs": [],
"source": [
"//Network Theorem 1\n",
"//page no-3.39\n",
"//example3.31\n",
"//calculation of Vth (Thevenin's voltage)\n",
"a=0.25;\n",
"v=(10*a)+(8*a);\n",
"disp('Writing Vth equation,');\n",
"printf('\nVth = %.f V',v);\n",
"//calculation of Isc (short-circuit current)\n",
"disp('Applying KVL to mesh 1:');\n",
"disp('4*I1-2*I2 = 1');....//equation 1\n",
"disp('Applying KVL to mesh 2:'); \n",
"disp('-18*I1-11*I2=0');....//equation 2\n",
"A=[4 -2;18 -11];\n",
"B=[1 0]'\n",
"X=inv(A)*B;\n",
"disp(X);\n",
"disp('I2 = 2.25 A');\n",
"a=2.25;\n",
"printf('\nIsc = I2 = %.2f A',a);\n",
"//Calculation of Rth\n",
"x=v/a;\n",
"printf('\nRth = %.f Ohm',x);"
   ]
   }
,
{
		   "cell_type": "markdown",
		   "metadata": {},
		   "source": [
			"## Example 3.33: example33.sce"
		   ]
		  },
  {
"cell_type": "code",
	   "execution_count": null,
	   "metadata": {
	    "collapsed": true
	   },
	   "outputs": [],
"source": [
"//Network Theorem 1\n",
"//page no-3.39\n",
"//example3.33\n",
"//calculation of Vth (Thevenin's voltage)\n",
"a=0.25;\n",
"v=(10*a)+(8*a);\n",
"disp('Writing Vth equation,');\n",
"printf('\nVth = %.f V',v);\n",
"//calculation of Isc (short-circuit current)\n",
"disp('Applying KVL to mesh 1:');\n",
"disp('4*I1-2*I2 = 1');....//equation 1\n",
"disp('Applying KVL to mesh 2:'); \n",
"disp('-18*I1-11*I2=0');....//equation 2\n",
"A=[4 -2;18 -11];\n",
"B=[1 0]'\n",
"X=inv(A)*B;\n",
"disp(X);\n",
"disp('I2 = 2.25 A');\n",
"a=2.25;\n",
"printf('\nIsc = I2 = %.2f A',a);\n",
"//Calculation of Rth\n",
"x=v/a;\n",
"printf('\nRth = %.f Ohm',x);"
   ]
   }
,
{
		   "cell_type": "markdown",
		   "metadata": {},
		   "source": [
			"## Example 3.3: example3.sce"
		   ]
		  },
  {
"cell_type": "code",
	   "execution_count": null,
	   "metadata": {
	    "collapsed": true
	   },
	   "outputs": [],
"source": [
"//Network Theorem 2\n",
"//pg no 3.5\n",
"//example 3.3\n",
"disp('When 4-A source is acting alone:');\n",
"disp('By current-division formula :');\n",
"I1=4/(2+1);\n",
"printf('I1=4/(2+1) = %.2f A (down)', I1);\n",
"disp('When 3-A source is acting alone:');\n",
"disp('By current-division formula :');\n",
"I2=3*(2/(2+1));\n",
"printf('I2=3*(2/(2+1)) = %.2f A (down)', I2);\n",
"disp('When 1-A source is acting alone:');\n",
"disp('By current-division formula :');\n",
"I3=1*(2/(2+1));\n",
"printf('I3=1*(2/(2+1)) = %.2f A (down)', I3);\n",
"disp('By superposition theorem:');\n",
"I=I1+I2+I3;\n",
"printf('\nI=I1+I2+I3=1.33+2+0.66= %.2f A (down)', I);"
   ]
   }
,
{
		   "cell_type": "markdown",
		   "metadata": {},
		   "source": [
			"## Example 3.41: example41.sce"
		   ]
		  },
  {
"cell_type": "code",
	   "execution_count": null,
	   "metadata": {
	    "collapsed": true
	   },
	   "outputs": [],
"source": [
"//Network Theorem 1\n",
"//page no-3.47\n",
"//example3.41\n",
"//calculation of Vth\n",
"disp('Removing the variable resistor RL from the network:');\n",
"disp('I2-I1=4');....//equation 1\n",
"disp('Applying KVL at the outerpath:'); \n",
"disp('-6*I1-5*I2=2');....//equation 2\n",
"A=[-1 1;-6 -5];\n",
"B=[4 2]'\n",
"X=inv(A)*B;\n",
"disp(X);\n",
"disp('I1 = -2 A');\n",
"disp('I2 = 2 A');\n",
"disp('Writing Vth equation,');\n",
"a=-2;\n",
"v=8-a;\n",
"printf('\nVth = %.f V',v);\n",
"//calculation of Rth\n",
"disp('replacing the voltage source with short circuit and current source by an open circuit ');\n",
"x=(v*1)/(v+1);\n",
"printf('\nRth = %.2f Ohm',x);\n",
"//calculation of RL\n",
"disp('For maximum power transfer');\n",
"printf('\nRth = RL =%.2f Ohm',x);\n",
"//calculation of Pmax\n",
"m=(v^2)/(4*x);\n",
"printf('\nPmax = %.2f W',m);"
   ]
   }
,
{
		   "cell_type": "markdown",
		   "metadata": {},
		   "source": [
			"## Example 3.42: example42.sce"
		   ]
		  },
  {
"cell_type": "code",
	   "execution_count": null,
	   "metadata": {
	    "collapsed": true
	   },
	   "outputs": [],
"source": [
"//Network Theorem 1\n",
"//page no-3.48\n",
"//example3.42\n",
"//calculation of Vth\n",
"disp('Removing the variable resistor RL from the network:');\n",
"disp('I1=50');....//equation 1\n",
"disp('Applying KVL to mesh 2:'); \n",
"disp('5*I1-10*I2=0');....//equation 2\n",
"A=[1 0;5 -10];\n",
"B=[50 0]'\n",
"X=inv(A)*B;\n",
"disp(X);\n",
"disp('I2 = 25 A');\n",
"disp('Writing Vth equation,');\n",
"a=25;\n",
"v=3*a;\n",
"printf('\nVth = %.f V',v);\n",
"//calculation of Rth\n",
"disp('replacing the current source of 50 A by an open circuit ');\n",
"x=7;\n",
"y=3;\n",
"m=(x*y)/(x+y);\n",
"printf('\nRth = %.1f Ohm',m);\n",
"//calculation of RL\n",
"disp('For maximum power transfer');\n",
"printf('\nRth = RL =%.1f Ohm',m);\n",
"//calculation of Pmax\n",
"n=(v^2)/(4*m);\n",
"printf('\nPmax = %.2f W',n);"
   ]
   }
,
{
		   "cell_type": "markdown",
		   "metadata": {},
		   "source": [
			"## Example 3.43: example43.sce"
		   ]
		  },
  {
"cell_type": "code",
	   "execution_count": null,
	   "metadata": {
	    "collapsed": true
	   },
	   "outputs": [],
"source": [
"//Network Theorem 1\n",
"//page no-3.49\n",
"//example3.43\n",
"//calculation of Vth\n",
"disp('Removing the variable resistor RL from the network:');\n",
"disp('Writing the current equation for the supermesh');\n",
"disp('I2-I1=6');....//equation 1\n",
"disp('Applying KVL to the supermesh :'); \n",
"disp('5*I1+2*I2=10');....//equation 2\n",
"A=[-1 1;5 1];\n",
"B=[6 10]'\n",
"X=inv(A)*B;\n",
"disp(X);\n",
"disp('I1 = -0.29 A');\n",
"disp('I2 = 5.71 A');\n",
"disp('Writing Vth equation,');\n",
"a=5.71;\n",
"v=2*a;\n",
"printf('\nVth = %.f V',v);\n",
"//calculation of Rth\n",
"disp('replacing the current source of 50 A by an open circuit ');\n",
"x=5;\n",
"y=2;\n",
"m=((x*y)/(x+y))+3+4;\n",
"printf('\nRth = %.2f Ohm',m);\n",
"//calculation of RL\n",
"disp('For maximum power transfer');\n",
"printf('\nRth = RL =%.2f Ohm',m);\n",
"//calculation of Pmax\n",
"n=(v^2)/(4*m);\n",
"printf('\nPmax = %.2f W',n);"
   ]
   }
,
{
		   "cell_type": "markdown",
		   "metadata": {},
		   "source": [
			"## Example 3.44: example44.sce"
		   ]
		  },
  {
"cell_type": "code",
	   "execution_count": null,
	   "metadata": {
	    "collapsed": true
	   },
	   "outputs": [],
"source": [
"//Network Theorem 1\n",
"//page no-3.50\n",
"//example3.44\n",
"//calculation of Vth\n",
"disp('Removing the variable resistor RL from the network:');\n",
"disp('Applying KVL to mesh 1');\n",
"disp('15*I1-5*I2=120');....//equation 1\n",
"disp('Applying KVL to the mesh 2:'); \n",
"disp('I2=-6');....//equation 2\n",
"A=[15 -5;0 1];\n",
"B=[120 -6]'\n",
"X=inv(A)*B;\n",
"disp(X);\n",
"disp('I1 = 6 A');\n",
"disp('Writing Vth equation,');\n",
"a=6;\n",
"v=120-(10*a);\n",
"printf('\nVth = %.f V',v);\n",
"//calculation of Rth\n",
"disp('replacing the current source of 50 A by an open circuit ');\n",
"x=10;\n",
"y=5;\n",
"m=((x*y)/(x+y));\n",
"printf('\nRth = %.2f Ohm',m);\n",
"//calculation of RL\n",
"disp('For maximum power transfer');\n",
"printf('\nRth = RL =%.2f Ohm',m);\n",
"//calculation of Pmax\n",
"n=(v^2)/(4*m);\n",
"printf('\nPmax = %.2f W',n);"
   ]
   }
,
{
		   "cell_type": "markdown",
		   "metadata": {},
		   "source": [
			"## Example 3.45: example45.sce"
		   ]
		  },
  {
"cell_type": "code",
	   "execution_count": null,
	   "metadata": {
	    "collapsed": true
	   },
	   "outputs": [],
"source": [
"//Network Theorem 1\n",
"//page no-3.51\n",
"//example3.45\n",
"//calculation of Vth\n",
"disp('Removing the variable resistor RL from the network:');\n",
"disp('I1=3 A');....//equation 1\n",
"disp('Applying KVL to the mesh 2:'); \n",
"disp('-25*I1+41*I2=0');....//equation 2\n",
"A=[1 0;-25 41];\n",
"B=[3 0]'\n",
"X=inv(A)*B;\n",
"disp(X);\n",
"disp('I2 = 1.83 A');\n",
"disp('Writing Vth equation,');\n",
"a=1.83;\n",
"v=-20+(10*a)+(6*a);\n",
"printf('\nVth = %.2f V',v);\n",
"//calculation of Rth\n",
"disp('replacing the current source of 50 A by an open circuit ');\n",
"x=25;\n",
"y=16;\n",
"m=((x*y)/(x+y));\n",
"printf('\nRth = %.2f Ohm',m);\n",
"//calculation of RL\n",
"disp('For maximum power transfer');\n",
"printf('\nRth = RL =%.2f Ohm',m);\n",
"//calculation of Pmax\n",
"n=(v^2)/(4*m);\n",
"printf('\nPmax = %.2f W',n);"
   ]
   }
,
{
		   "cell_type": "markdown",
		   "metadata": {},
		   "source": [
			"## Example 3.46: example46.sce"
		   ]
		  },
  {
"cell_type": "code",
	   "execution_count": null,
	   "metadata": {
	    "collapsed": true
	   },
	   "outputs": [],
"source": [
"//Network Theorem 1\n",
"//page no-3.52\n",
"//example3.46\n",
"//calculation of Vth\n",
"disp('Removing the variable resistor RL from the network:');\n",
"disp('I2-I1=2');....//equation 1\n",
"disp('I2=-3 A');....//equation 2\n",
"A=[-1 1;0 1];\n",
"B=[2 -3]'\n",
"X=inv(A)*B;\n",
"disp(X);\n",
"disp('I1 = -5 A');\n",
"disp('Writing Vth equation,');\n",
"a=-5;\n",
"b=-3;\n",
"v=8-(2*a)-b-6;\n",
"printf('\nVth = %.f V',v);\n",
"//calculation of Rth\n",
"disp('replacing the voltage source with short circuit and current source by an open circuit ');\n",
"m=5;\n",
"printf('\nRth = %.f Ohm',m);\n",
"//calculation of RL\n",
"disp('For maximum power transfer');\n",
"printf('\nRth = RL =%.f Ohm',m);\n",
"//calculation of Pmax\n",
"n=(v^2)/(4*m);\n",
"printf('\nPmax = %.2f W',n);"
   ]
   }
,
{
		   "cell_type": "markdown",
		   "metadata": {},
		   "source": [
			"## Example 3.47: example47.sce"
		   ]
		  },
  {
"cell_type": "code",
	   "execution_count": null,
	   "metadata": {
	    "collapsed": true
	   },
	   "outputs": [],
"source": [
"//Network Theorem 1\n",
"//page no-3.52\n",
"//example3.46\n",
"//calculation of Vth\n",
"disp('Removing the variable resistor RL from the network:');\n",
"disp('By star-delta transformation');\n",
"a=5;\n",
"b=20;\n",
"c=9;\n",
"v=100;\n",
"i=v/(a+a+b+c+c);\n",
"disp('Writing Vth equation,');\n",
"vth=v-(14*i);\n",
"printf('\nVth = %.2f V',vth);\n",
"//calculation of Rth\n",
"disp('replacing the voltage source with short circuit ');\n",
"m=23.92;\n",
"printf('\nRth = %.2f Ohm',m);\n",
"//calculation of RL\n",
"disp('For maximum power transfer');\n",
"printf('\nRth = RL =%.2f Ohm',m);\n",
"//calculation of Pmax\n",
"n=(vth^2)/(4*m);\n",
"printf('\nPmax = %.2f W',n);"
   ]
   }
,
{
		   "cell_type": "markdown",
		   "metadata": {},
		   "source": [
			"## Example 3.48: example48.sce"
		   ]
		  },
  {
"cell_type": "code",
	   "execution_count": null,
	   "metadata": {
	    "collapsed": true
	   },
	   "outputs": [],
"source": [
"//Network Theorem 1\n",
"//page no-3.55\n",
"//example3.48\n",
"//calculation of Vth\n",
"disp('Removing the variable resistor RL from the network:');\n",
"disp('Applying KVL to the mesh 1:'); \n",
"disp('35*I1-30*I2=60');....//equation 1\n",
"disp('Applying KVL to the mesh 2:'); \n",
"disp('I2=2');....//equation 2\n",
"A=[35 -30;0 1];\n",
"B=[60 2]'\n",
"X=inv(A)*B;\n",
"disp(X);\n",
"disp('I1 = 3.43 A');\n",
"disp('Writing Vth equation,');\n",
"a=3.43;\n",
"b=2;\n",
"v=20*(a-b)+20;\n",
"printf('\nVth = %.2f V',v);\n",
"//calculation of Rth\n",
"disp('replacing the voltage source with short circuit and current source by an open circuit ');\n",
"x=15;\n",
"y=20;\n",
"m=((x*y)/(x+y));\n",
"printf('\nRth = %.2f Ohm',m);\n",
"//calculation of RL\n",
"disp('For maximum power transfer');\n",
"printf('\nRth = RL =%.2f Ohm',m);\n",
"//calculation of Pmax\n",
"n=(v^2)/(4*m);\n",
"printf('\nPmax = %.1f W',n);"
   ]
   }
,
{
		   "cell_type": "markdown",
		   "metadata": {},
		   "source": [
			"## Example 3.49: example49.sce"
		   ]
		  },
  {
"cell_type": "code",
	   "execution_count": null,
	   "metadata": {
	    "collapsed": true
	   },
	   "outputs": [],
"source": [
"//Network Theorem 1\n",
"//page no-3.56\n",
"//example3.49\n",
"//calculation of Vth\n",
"disp('Removing the variable resistor RL from the network:');\n",
"x=100;\n",
"a=10;\n",
"b=20;\n",
"c=30;\n",
"d=40;\n",
"i1=x/(a+c);\n",
"i2=x/(b+d);\n",
"printf('\nI1 = %.1f A',i1);\n",
"printf('\ni2 = %.2f A',i2);\n",
"disp('Writing Vth equation,');\n",
"x=2.5;\n",
"y=1.66;\n",
"v=(20*y)-(10*x);\n",
"printf('\nVth = %.1f V',v);\n",
"//calculation of Rth\n",
"disp('replacing the voltage source of 100V with short circuit ');\n",
"m=((a*c)/(a+c))+((b*d)/(b+d));\n",
"printf('\nRth = %.2f Ohm',m);\n",
"//calculation of RL\n",
"disp('For maximum power transfer');\n",
"printf('\nRth = RL =%.2f Ohm',m);\n",
"//calculation of Pmax\n",
"n=(v^2)/(4*m);\n",
"printf('\nPmax = %.2f W',n);"
   ]
   }
,
{
		   "cell_type": "markdown",
		   "metadata": {},
		   "source": [
			"## Example 3.4: example4.sce"
		   ]
		  },
  {
"cell_type": "code",
	   "execution_count": null,
	   "metadata": {
	    "collapsed": true
	   },
	   "outputs": [],
"source": [
"//Network Theorem 2\n",
"//pg no 3.\n",
"//example 3.4\n",
"disp('When 6-V source is acting alone:');\n",
"VAB1=6;\n",
"printf('VAB1 = %.2f V', VAB1);\n",
"disp('When 10-V source is acting alone:');\n",
"disp('Since the resistor of 5 ohm is shorted,the voltage across it is zero')\n",
"VAB2=10;\n",
"printf('VAB2= %.2f V', VAB2);\n",
"disp('When 5-A source is acting alone:');\n",
"disp('Due to short circuit in both the parts');\n",
"VAB3=0;\n",
"printf('VAB3 = %.2f V', VAB3);\n",
"disp('By superposition theorem:');\n",
"VAB=VAB1+VAB2+VAB3;\n",
"printf('\nVAB=VAB=VAB1+VAB2+VAB3= %.2f V', VAB);"
   ]
   }
,
{
		   "cell_type": "markdown",
		   "metadata": {},
		   "source": [
			"## Example 3.50: example50.sce"
		   ]
		  },
  {
"cell_type": "code",
	   "execution_count": null,
	   "metadata": {
	    "collapsed": true
	   },
	   "outputs": [],
"source": [
"//Network Theorem 1\n",
"//page no-3.57\n",
"//example3.50\n",
"//calculation of Vth\n",
"disp('Removing the variable resistor RL from the network:');\n",
"disp('Applying KVL to the mesh 1:'); \n",
"disp('9*I1-3*I2=72');....//equation 1\n",
"disp('Applying KVL to the mesh 2:'); \n",
"disp('-3*I1+9*I2=0');....//equation 2\n",
"A=[9 -3;-3 9];\n",
"B=[72 0]'\n",
"X=inv(A)*B;\n",
"disp(X);\n",
"disp('I1 = 9 A');\n",
"disp('I2 = 3 A');\n",
"disp('Writing Vth equation,');\n",
"a=9;\n",
"b=3;\n",
"v=(6*a)+(2*b);\n",
"printf('\nVth = %.f V',v);\n",
"//calculation of Rth\n",
"disp('replacing the voltage source with short circuit and current source by an open circuit ');\n",
"x=6;\n",
"y=2;\n",
"z=4;\n",
"m=((x*b)/(x+b))+2;\n",
"l=((m*z)/(m+z));\n",
"printf('\nRth = %.f Ohm',l);\n",
"//calculation of RL\n",
"disp('For maximum power transfer');\n",
"printf('\nRth = RL =%.f Ohm',l);\n",
"//calculation of Pmax\n",
"n=(v^2)/(4*l);\n",
"printf('\nPmax = %.f W',n);"
   ]
   }
,
{
		   "cell_type": "markdown",
		   "metadata": {},
		   "source": [
			"## Example 3.51: example51.sce"
		   ]
		  },
  {
"cell_type": "code",
	   "execution_count": null,
	   "metadata": {
	    "collapsed": true
	   },
	   "outputs": [],
"source": [
"//Network Theorem 1\n",
"//page no-3.58\n",
"//example3.51\n",
"//Calculation of Vth\n",
"disp('from the figure');\n",
"disp('Vth=4*I');\n",
"disp('Applying KVL to the mesh');\n",
"disp('0.5*Vth-8*I=-12');\n",
"A=[1 -4;0.5 -8];\n",
"B=[0 -12]'\n",
"X=inv(A)*B;\n",
"disp(X);\n",
"disp('Vth=8 V');\n",
"//Calculation of Isc\n",
"v=8;\n",
"i=12/4;\n",
"printf('\nIsc = %.f A',i);\n",
"//Calculation of Rth\n",
"r=v/i;\n",
"printf('\nRth = Vth/Isc = %.3f Ohm',r);\n",
"//calculation of RL\n",
"disp('For maximum power transfer');\n",
"printf('\nRth = RL =%.3f Ohm',r);\n",
"//calculation of Pmax\n",
"x=v/(2*r);\n",
"printf('\nIL = %.1f A',x);\n",
"n=(x^2)*r;\n",
"printf('\nPmax = %.f W',n);"
   ]
   }
,
{
		   "cell_type": "markdown",
		   "metadata": {},
		   "source": [
			"## Example 3.5: example5.sce"
		   ]
		  },
  {
"cell_type": "code",
	   "execution_count": null,
	   "metadata": {
	    "collapsed": true
	   },
	   "outputs": [],
"source": [
"//Network Theorem 2\n",
"//pg no 3.7\n",
"//example 3.5\n",
"disp('When 5-A source is acting alone:');\n",
"disp('By current-division formula :');\n",
"I1=5*(2/(2+4));\n",
"printf('I1=5*(2/(2+4)) = %.2f A (down)', I1);\n",
"disp('When 2-A source is acting alone:');\n",
"disp('By current-division formula :');\n",
"I2=2*(2/(2+4));\n",
"printf('I2=2*(2/(2+4)) = %.2f A (down)', I2);\n",
"disp('When 6-V source is acting alone:');\n",
"disp('Applying KVL to the mesh');\n",
"disp('-2*I3-6-4*I3=0');\n",
"disp('I3=-1');\n",
"I3=-1;\n",
"printf('I3=-1 A= %.2f A (down)', I3);\n",
"disp('By superposition theorem:');\n",
"I=I1+I2+I3;\n",
"printf('\nI=I1+I2+I3=1.67+0.67-1= %.2f A (down)', I);"
   ]
   }
,
{
		   "cell_type": "markdown",
		   "metadata": {},
		   "source": [
			"## Example 3.6: example6.sce"
		   ]
		  },
  {
"cell_type": "code",
	   "execution_count": null,
	   "metadata": {
	    "collapsed": true
	   },
	   "outputs": [],
"source": [
"//Network Theorem 2\n",
"//pg no 3.8\n",
"//example 3.6\n",
"a=15/38;\n",
"b=10/38;\n",
"x=a+b;\n",
"mprintf('\nApplying KCL at node 1, \nI1 = %.3f',a);//When the 15 V source is acting alone\n",
"mprintf('\nApplying KCL at node 1, \nI1 = %.3f',b);//When the 10 V source is acting alone\n",
"mprintf('\nBy superposition theorem, \nI = I1+I2 = %.3f A',x);"
   ]
   }
,
{
		   "cell_type": "markdown",
		   "metadata": {},
		   "source": [
			"## Example 3.7: example7.sce"
		   ]
		  },
  {
"cell_type": "code",
	   "execution_count": null,
	   "metadata": {
	    "collapsed": true
	   },
	   "outputs": [],
"source": [
"//Network Theorem 2\n",
"//pg no 3.8\n",
"//example 3.7\n",
"a=3;\n",
"b=2;\n",
"x=a+b;\n",
"mprintf('\napplying KCL at node 1, \nIx1 = %.f A',a);//when the 30 V source is acting alone\n",
"mprintf('\napplying KCL at the mesh, \nIx2 = %.f A',b);//when the 20 V source is acting alone\n",
"mprintf('\nBy superposition theorem, Ix = Ix1+Ix2 = %.f A',x);"
   ]
   }
,
{
		   "cell_type": "markdown",
		   "metadata": {},
		   "source": [
			"## Example 3.8: example8.sce"
		   ]
		  },
  {
"cell_type": "code",
	   "execution_count": null,
	   "metadata": {
	    "collapsed": true
	   },
	   "outputs": [],
"source": [
"//Network Theorem 2\n",
"//pg no 3.10\n",
"//example 3.8\n",
"//when 5 V source is acting alone\n",
"disp('Vx+10I1=5');//equation 1\n",
"disp('Applying KVL to mesh,');\n",
"disp('4Vx+12I1=5');//equation 2\n",
"A=[1 10;4 12];//solving equation in matrix form\n",
"B=[5 5]'\n",
"X=inv(A)*B;\n",
"disp(X);\n",
"disp('I1 = 0.535 A');\n",
"//when the 2 A source is acting alone\n",
"disp('Vx+10I2=0');//equation 1\n",
"disp('Applying KCL at Node x,');\n",
"disp('Vx=-10/7');//equation 2\n",
"A=[1 10;1 0];//solving equation in matrix form\n",
"B=[0 -10/7]'\n",
"X=inv(A)*B;\n",
"disp(X);\n",
"disp('I2 = 0.1428 A');\n",
"a=0.535;\n",
"b=0.1428;\n",
"x=a+b;\n",
"printf('\nBy superposition theorem, \nI = I1+I2 = %.3f A ',x);"
   ]
   }
,
{
		   "cell_type": "markdown",
		   "metadata": {},
		   "source": [
			"## Example 3.9: example9.sce"
		   ]
		  },
  {
"cell_type": "code",
	   "execution_count": null,
	   "metadata": {
	    "collapsed": true
	   },
	   "outputs": [],
"source": [
"//Network Theorem 2\n",
"//pg no 3.10\n",
"//example 3.9\n",
"//when 100 V source is acting alone\n",
"disp('Vx-5I1=0');//equation 1\n",
"disp('Applying KVL to mesh,');\n",
"disp('10Vx-15I1=-100');//equation 2\n",
"A=[1 -5;10 -15];//solving equation in matrix form\n",
"B=[0 -100]'\n",
"X=inv(A)*B;\n",
"disp(X);//negative because of opposite direction\n",
"disp('I1 = 2.857 A');\n",
"//when the 10 A source is acting alone\n",
"disp('9Vx+10I2=0');//equation 1\n",
"disp('Applying KCL at Node 1,');\n",
"disp('Vx=-100/7');//equation 2\n",
"A=[9 10;1 0];//solving equation in matrix form\n",
"B=[0 -100/7]'\n",
"X=inv(A)*B;\n",
"disp(X);\n",
"disp('I2 = 12.857 A');\n",
"a=2.857;\n",
"b=12.857;\n",
"x=a+b;\n",
"printf('\nBy superposition theorem, \nI = I1+I2 = %.3f A ',x);"
   ]
   }
],
"metadata": {
		  "kernelspec": {
		   "display_name": "Scilab",
		   "language": "scilab",
		   "name": "scilab"
		  },
		  "language_info": {
		   "file_extension": ".sce",
		   "help_links": [
			{
			 "text": "MetaKernel Magics",
			 "url": "https://github.com/calysto/metakernel/blob/master/metakernel/magics/README.md"
			}
		   ],
		   "mimetype": "text/x-octave",
		   "name": "scilab",
		   "version": "0.7.1"
		  }
		 },
		 "nbformat": 4,
		 "nbformat_minor": 0
}
