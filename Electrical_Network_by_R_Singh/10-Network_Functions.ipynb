{
"cells": [
 {
		   "cell_type": "markdown",
	   "metadata": {},
	   "source": [
       "# Chapter 10: Network Functions"
	   ]
	},
{
		   "cell_type": "markdown",
		   "metadata": {},
		   "source": [
			"## Example 10.35: Determination_of_Residue.sce"
		   ]
		  },
  {
"cell_type": "code",
	   "execution_count": null,
	   "metadata": {
	    "collapsed": true
	   },
	   "outputs": [],
"source": [
"// Network Functions : example 10.35 : (pg 10.35)\n",
"m=(2/(sqrt(2)*sqrt(10)));\n",
"a=90;\n",
"x=(a-atand(3)-atand(1));\n",
"printf('\nF(s) =(4s/s^2+2s+2) = 4s/(s+1-j)*(s+1-j)');\n",
"printf('\n At s=j2');\n",
"//pmag = phasor magnitudes\n",
"printf('\n|F(j2)|=Product of pmag from all zeros to j2/Product of pmag from all poles to j2');\n",
"printf('\n = %.3f',m);\n",
"printf('\nf(w) = atand(2/0)-atand(3)-atand(1)= %.2f degrees',x);"
   ]
   }
,
{
		   "cell_type": "markdown",
		   "metadata": {},
		   "source": [
			"## Example 10.36: Determination_of_Residue.sce"
		   ]
		  },
  {
"cell_type": "code",
	   "execution_count": null,
	   "metadata": {
	    "collapsed": true
	   },
	   "outputs": [],
"source": [
"// Network Functions : example 10.36 : (pg 10.35 & 10.36)\n",
"m=((5*sqrt(17))/(sqrt(20)*4));\n",
"a=90;\n",
"w=(atand(4)+atand(4/3)-(a)-atand(4/2));\n",
"printf('\nF(s) = (s+1)(s+3)/s(s+2))');\n",
"printf('\nAt s=j4');\n",
"//vmag = vector magnitudes\n",
"printf('\nPrduct of vmag from all zeros to j4/ Product of vmag from all poles to j4');\n",
"printf('\n =%.2f',m);\n",
"printf('\nphi(w)= atand(4)+atand(4/3)-atand(4/0)-atand(4/2)');\n",
"printf('\n = %.2f degrees',w);"
   ]
   }
],
"metadata": {
		  "kernelspec": {
		   "display_name": "Scilab",
		   "language": "scilab",
		   "name": "scilab"
		  },
		  "language_info": {
		   "file_extension": ".sce",
		   "help_links": [
			{
			 "text": "MetaKernel Magics",
			 "url": "https://github.com/calysto/metakernel/blob/master/metakernel/magics/README.md"
			}
		   ],
		   "mimetype": "text/x-octave",
		   "name": "scilab",
		   "version": "0.7.1"
		  }
		 },
		 "nbformat": 4,
		 "nbformat_minor": 0
}
