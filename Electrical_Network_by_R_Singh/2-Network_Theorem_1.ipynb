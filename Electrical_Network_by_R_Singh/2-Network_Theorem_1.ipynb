{
"cells": [
 {
		   "cell_type": "markdown",
	   "metadata": {},
	   "source": [
       "# Chapter 2: Network Theorem 1"
	   ]
	},
{
		   "cell_type": "markdown",
		   "metadata": {},
		   "source": [
			"## Example 2.10: example10.sce"
		   ]
		  },
  {
"cell_type": "code",
	   "execution_count": null,
	   "metadata": {
	    "collapsed": true
	   },
	   "outputs": [],
"source": [
"//Network Theorem 1\n",
"//page no-2.19\n",
"//example 2.10\n",
"disp('Applying KVL to mesh 1');\n",
"disp('7*I1-I2=10');....//equation 1\n",
"disp('Applying KVL to mesh 2');\n",
"disp('-I1+6*I2-3*I3=0');....//equation 2\n",
"disp('Applying KVL to mesh 3');\n",
"disp('-3*I2+13*I3=-20');....//equation 3\n",
"disp('Solving the three equations');\n",
"A=[7 -1 0;-1 6 -3;0 -3 13];//solving the equations in matrix form\n",
"B=[10 0 -20]'\n",
"X=inv(A)*B;\n",
"disp(X);\n",
"disp('I1=1.34 A');\n",
"disp('I1=-0.62 A');\n",
"disp('I3=-1.68 A');\n",
"disp('I2ohm=1.34 A');"
   ]
   }
,
{
		   "cell_type": "markdown",
		   "metadata": {},
		   "source": [
			"## Example 2.11: example11.sce"
		   ]
		  },
  {
"cell_type": "code",
	   "execution_count": null,
	   "metadata": {
	    "collapsed": true
	   },
	   "outputs": [],
"source": [
"//Network Theorem 1\n",
"//page no-2.20\n",
"//example 2.11\n",
"disp('Applying KVL to mesh 1');\n",
"disp('3*I1-I2-2*I3=8');....//equation 1\n",
"disp('Applying KVL to mesh 2');\n",
"disp('-I1+8*I2-3*I3=10');....//equation 2\n",
"disp('Applying KVL to mesh 3');\n",
"disp('-2*I1-3*I2+10*I3=12');....//equation 3\n",
"disp('Solving the three equations');\n",
"A=[3 -1 -2;-1 8 -3;-2 -3 10];//solving the equations in matrix form\n",
"B=[8 10 12]'\n",
"X=inv(A)*B;\n",
"disp(X);\n",
"disp('I1=6.01 A');\n",
"disp('I1=3.27 A');\n",
"disp('I3=3.38 A');\n",
"disp('I5ohm=3.38 A');"
   ]
   }
,
{
		   "cell_type": "markdown",
		   "metadata": {},
		   "source": [
			"## Example 2.12: example12.sce"
		   ]
		  },
  {
"cell_type": "code",
	   "execution_count": null,
	   "metadata": {
	    "collapsed": true
	   },
	   "outputs": [],
"source": [
"//Network Theorem 1\n",
"//page no-2.21\n",
"//example 2.12\n",
"disp('Applying KVL to mesh 1');\n",
"disp('8*I1-I2-4*I3=4');....//equation 1\n",
"disp('Applying KVL to mesh 2');\n",
"disp('-I1+8*I2-5*I3=0');....//equation 2\n",
"disp('Applying KVL to mesh 3');\n",
"disp('-4*I1-5*I2+15*I3=0');....//equation 3\n",
"disp('Solving the three equations');\n",
"A=[8 -1 -4;-1 8 -5;-4 -5 15];//solving the equations in matrix form\n",
"B=[4 0 0]'\n",
"X=inv(A)*B;\n",
"disp(X);\n",
"disp('I1=0.66');\n",
"disp('I1=0.24 A');\n",
"disp('I3=0.26 A');\n",
"disp('current supplied by the battery = 0.66 A');"
   ]
   }
,
{
		   "cell_type": "markdown",
		   "metadata": {},
		   "source": [
			"## Example 2.13: example13.sce"
		   ]
		  },
  {
"cell_type": "code",
	   "execution_count": null,
	   "metadata": {
	    "collapsed": true
	   },
	   "outputs": [],
"source": [
"//Network Theorem 1\n",
"//page no-2.22\n",
"//example 2.13\n",
"disp('Applying KVL to mesh 1');\n",
"disp('V+13*I1-2*I2-5*I3=20');...//mesh equation 1\n",
"disp('Applying KVL to mesh 2');\n",
"disp('2*I1-6*I2+I3=0');//mesh equation 2\n",
"disp('Applying KVL to mesh 3');\n",
"disp('V+5*I1+I2-10*I3=0');//mesh equation 3\n",
"disp('putting I1=0 in equation 1, 2 and 3 we get'); \n",
"disp('V-2*I2-5*I3=20');....//equation 1\n",
"disp('-6*I2+I3=0');....//equation 2\n",
"disp('V+I2-10*I3=0');....//equation 3\n",
"disp('Solving the three equations');\n",
"A=[1 -2 -5;0 -6 1;1 1 -10];//solving the equations in matrix form\n",
"B=[20 0 0]'\n",
"X=inv(A)*B;\n",
"disp(X);\n",
"disp('V=43.7 V')"
   ]
   }
,
{
		   "cell_type": "markdown",
		   "metadata": {},
		   "source": [
			"## Example 2.14: example14.sce"
		   ]
		  },
  {
"cell_type": "code",
	   "execution_count": null,
	   "metadata": {
	    "collapsed": true
	   },
	   "outputs": [],
"source": [
"//Network Theorem 1\n",
"//page no-2.13\n",
"//example2.14\n",
"disp('Mesh 1 contains a current source of 6A.Hence, we cannot write KVL equation for Mesh 1.direction of current source and mesh current I1 are same,');\n",
"disp('I1=6A');....//equation 1\n",
"disp('Applying KVL to mesh 2');\n",
"disp('18*I2-6*I3=108');....//equation 2\n",
"disp('Applying KVL to mesh 3');\n",
"disp('6*I2-11*I3=9');....//equation 3\n",
"disp('Solving the three equations');\n",
"A=[18 -6;6 -11];...//solving the equations in matrix form\n",
"B=[108 9]'\n",
"X=inv(A)*B;\n",
"disp(X);\n",
"disp('I3 = 3A');\n",
"disp('I2ohm = 3A');"
   ]
   }
,
{
		   "cell_type": "markdown",
		   "metadata": {},
		   "source": [
			"## Example 2.15: example15.sce"
		   ]
		  },
  {
"cell_type": "code",
	   "execution_count": null,
	   "metadata": {
	    "collapsed": true
	   },
	   "outputs": [],
"source": [
"//Network Theorem 1\n",
"//page no-2.23\n",
"//example2.15\n",
"disp('from the fig,');\n",
"disp('IA=I1');....//equation 1\n",
"disp('IB=I2');....//equation 2\n",
"disp('Applying Kvl to mesh 1:');\n",
"disp('5-5*I1-10*IB-10*(I1-I2)-5*IA=0');\n",
"disp('5-5*I1-10*I2-10*I1+10*I2-5*I1=0');\n",
"disp('-20*I1=-5');\n",
"I1=5/20;\n",
"printf('I1= %.2f A', I1);....//equation 3\n",
"disp('Applying Kvl to mesh 2:');\n",
"disp('15*I1-15*I2=10');....//equation 4\n",
"disp('Put I1=0.25 A in equation 4');\n",
"disp('-6.25=15*I2');\n",
"I2=-6.25/15;\n",
"printf('I2= %.2f A', I2);"
   ]
   }
,
{
		   "cell_type": "markdown",
		   "metadata": {},
		   "source": [
			"## Example 2.17: example17.sce"
		   ]
		  },
  {
"cell_type": "code",
	   "execution_count": null,
	   "metadata": {
	    "collapsed": true
	   },
	   "outputs": [],
"source": [
"//Network Theorem 1\n",
"//page no-2.25\n",
"//example2.17\n",
"disp('from the fig,');\n",
"disp('V1=-5*I1');....//equation 1\n",
"disp('V2=2*I2');....//equation 2\n",
"disp('Applying Kvl to mesh 1:');\n",
"disp('20*I1+3*I2=-5');....//equation 3\n",
"disp('Applying Kvl to mesh 2:');\n",
"disp('11*I1-3*I2=10');...//equation 4\n",
"disp('Solving equations 3 and 4');...//solving equations in matrix form\n",
"A=[20 3;11 -3];\n",
"B=[-5 10]'\n",
"X=inv(A)*B;\n",
"disp(X);\n",
"disp('I1=0.161 A');\n",
"disp('I2=-2.742 A');"
   ]
   }
,
{
		   "cell_type": "markdown",
		   "metadata": {},
		   "source": [
			"## Example 2.18: example18.sce"
		   ]
		  },
  {
"cell_type": "code",
	   "execution_count": null,
	   "metadata": {
	    "collapsed": true
	   },
	   "outputs": [],
"source": [
"//Network Theorem-1\n",
"//pg no.-2.25\n",
"//example2.18\n",
"disp('from the fig,');\n",
"disp('Iy=I1');....//equation 1\n",
"disp('Ix=I1-I2');....//equation 2\n",
"disp('Applying Kvl to mesh 1:');\n",
"disp('-10*I1+3*I2=5');....//equation 3\n",
"disp('Applying Kvl to mesh 2:');\n",
"disp('-I1-3*I2=10');...//equation 4\n",
"disp('Solving equations 3 and 4');...//solving equations in matrix form\n",
"A=[-10 3;-1 -3];\n",
"B=[5 10]'\n",
"X=inv(A)*B;\n",
"disp(X);\n",
"disp('I1=-1.364 A');\n",
"disp('I2=-2878 A');\n",
"x=-1.364;\n",
"y=-2.878;\n",
"Ix=x-y;\n",
"mprintf('\nIy = %.3f A \nIx = %.3f A',x,Ix);"
   ]
   }
,
{
		   "cell_type": "markdown",
		   "metadata": {},
		   "source": [
			"## Example 2.19: example19.sce"
		   ]
		  },
  {
"cell_type": "code",
	   "execution_count": null,
	   "metadata": {
	    "collapsed": true
	   },
	   "outputs": [],
"source": [
"//Network Theorem 1\n",
"//page no-2.26\n",
"//example2.19\n",
"disp('Applying KVL to mesh 1:');\n",
"disp('11*I1-10*I2=2');....//equation 1\n",
"disp('Writing current equation to supermesh:')\n",
"disp('I3-I2=4');....//equation 2\n",
"disp('Applying KVL to outer path of supermesh:');\n",
"disp('2*I1-3*I2-3*I3=0');....//equation 3\n",
"disp('solving these equations we get :');...//solving equations in matrix form\n",
"A=[11 -10 0;0 -1 1;2 -3 -3];\n",
"B=[2 4 0]'\n",
"X=inv(A)*B;\n",
"disp(X);\n",
"I1=-2.35\n",
"I2=-2.78\n",
"I3=1.22\n",
"I4=I1-I2;\n",
"printf('\ncurrent through the 10 ohm resistor = I1-I2 = %.2f A', I4);"
   ]
   }
,
{
		   "cell_type": "markdown",
		   "metadata": {},
		   "source": [
			"## Example 2.1: example1.sce"
		   ]
		  },
  {
"cell_type": "code",
	   "execution_count": null,
	   "metadata": {
	    "collapsed": true
	   },
	   "outputs": [],
"source": [
"//Network Theorem-1\n",
"//pg no.-2.4\n",
"//example2.1\n",
"printf('\nConverting the two delta networks formed by resistors 4.5 Ohm,  3Ohm, and 7.5Ohm into equivalent star networks');\n",
"a=4.5;\n",
"b=3;\n",
"c=7.5;\n",
"R1= (a*c)/(a+b+c);\n",
"R2= (c*b)/(c+b+a);\n",
"R3= (a*b)/(a+b+c);\n",
"mprintf('\nR1=R6 = %.2f Ohm \nR2=R5 = %.1f Ohm \nR3=R4 = %.1f Ohm',R1,R2,R3);"
   ]
   }
,
{
		   "cell_type": "markdown",
		   "metadata": {},
		   "source": [
			"## Example 2.20: example20.sce"
		   ]
		  },
  {
"cell_type": "code",
	   "execution_count": null,
	   "metadata": {
	    "collapsed": true
	   },
	   "outputs": [],
"source": [
"//Network Theorem 1\n",
"//page no-2.26\n",
"//example2.20\n",
"disp('writing equation for supermesh,');\n",
"disp('I1-I3=7');....//equation 1\n",
"disp('Applying Kvl to the outer path of the supermesh:');\n",
"disp('-I1+4*I2-4*I3 = -7');....//equation 2\n",
"disp('Applying Kvl to mesh 2:');\n",
"disp('I1-6*I2+3*I3 = 0');...//equation 3\n",
"disp('Solving equations 1 ,2 and 3');...//solving equations in matrix form\n",
"A=[1 0 -1;-1 4 -4;1 -6 3];\n",
"B=[7 -7 0]'\n",
"X=inv(A)*B;\n",
"disp(X);\n",
"disp('I1=9 A');\n",
"disp('I2=-2.5 A');\n",
"disp('I3=-2 A');\n",
"x=2.5;\n",
"y=2;\n",
"z=x-y;\n",
"mprintf('\nCurrent through the 3-Ohm resistor = I2-I3 =%.1f A',z);"
   ]
   }
,
{
		   "cell_type": "markdown",
		   "metadata": {},
		   "source": [
			"## Example 2.21: example21.sce"
		   ]
		  },
  {
"cell_type": "code",
	   "execution_count": null,
	   "metadata": {
	    "collapsed": true
	   },
	   "outputs": [],
"source": [
"//Network Theorem 1\n",
"//page no-2.27\n",
"//example2.21\n",
"disp('Applying KVL to mesh 1:');\n",
"disp('15*I1-10*I2-5*I3=50');....//equation 1\n",
"disp('Writing current equation to supermesh:')\n",
"disp('I2-I3=2 A');....//equation 2\n",
"disp('Applying KVL to outer path of supermesh:');\n",
"disp('-15*I1+12*I2+6*I3=0');....//equation 3\n",
"disp('solving these equations we get :');...//solving equations in matrix form\n",
"A=[15 -10 -5;0 1 -1;-15 12 6];\n",
"B=[50 2 0]'\n",
"X=inv(A)*B;\n",
"disp(X);\n",
"I1=20\n",
"I2=17.33\n",
"I3=15.33\n",
"I4=I1-I3;\n",
"printf('\ncurrent through the 5 ohm resistor = I1-I3 = %.2f A', I4);"
   ]
   }
,
{
		   "cell_type": "markdown",
		   "metadata": {},
		   "source": [
			"## Example 2.22: example22.sce"
		   ]
		  },
  {
"cell_type": "code",
	   "execution_count": null,
	   "metadata": {
	    "collapsed": true
	   },
	   "outputs": [],
"source": [
"//Network Theorem 1\n",
"//page no-2.28\n",
"//example2.22\n",
"disp('from the fig,');\n",
"disp('I4=40');....//equation 1\n",
"disp('\nmeshes 2 and 3 form a supermesh. current equation for supermesh,')\n",
"disp('-I1+2*I2-I3 = 0');....//equation 2\n",
"disp('Applying Kvl to supermesh:');\n",
"disp('-1/5(I2-I1)-1/20*I2-1/15*I3-1/2(I3-I4)=0');....//equation 3\n",
"disp('applying KVL to mesh 1');\n",
"disp('-1/10*I1-1/5(I1-I2)-1/6(I1-I4)=6');...//equation 4\n",
"disp('Solving equations 1 ,2 ,3 and 4');...//solving equations in matrix form\n",
"A=[0 0 0 1;-1 2 -1 0;0.2 -0.25 -17/30 0.5;-7/15 0.2 0 1/6];\n",
"B=[40 0 0 6]'\n",
"X=inv(A)*B;\n",
"disp(X);\n",
"disp('I1=10 A');\n",
"disp('I2=-20 A');\n",
"disp('I3=30 A');\n",
"disp('I4=40 A');"
   ]
   }
,
{
		   "cell_type": "markdown",
		   "metadata": {},
		   "source": [
			"## Example 2.24: example24.sce"
		   ]
		  },
  {
"cell_type": "code",
	   "execution_count": null,
	   "metadata": {
	    "collapsed": true
	   },
	   "outputs": [],
"source": [
"//Network Theorem 1\n",
"//page no-2.29\n",
"//example2.24\n",
"disp('Applying KCL to node 1:');\n",
"disp('2*V1-V2 = 2');....//equation 1\n",
"disp('Applying KCL to node 2:');\n",
"disp('3*V2-V1 = 4');...//equation 2\n",
"disp('Solving equations 1 and 2');...//solving equations in matrix form\n",
"A=[2 -1;-1 3];\n",
"B=[2 4]'\n",
"X=inv(A)*B;\n",
"disp(X);\n",
"disp('V1= 2 V');\n",
"disp('V2=-2 V');"
   ]
   }
,
{
		   "cell_type": "markdown",
		   "metadata": {},
		   "source": [
			"## Example 2.25: example25.sce"
		   ]
		  },
  {
"cell_type": "code",
	   "execution_count": null,
	   "metadata": {
	    "collapsed": true
	   },
	   "outputs": [],
"source": [
"//Network Theorem 1\n",
"//page no-2.30\n",
"//example2.25\n",
"disp('Applying KCL to node 1:');\n",
"disp('8*VA-2*VB = 50');....//equation 1\n",
"disp('Applying KCL to node 2:');\n",
"disp('-3*VA+9*VB = 85');...//equation 2\n",
"disp('Solving equations 1 and 2');...//solving equations in matrix form\n",
"A=[8 -2;-3 9];\n",
"B=[50 85]'\n",
"X=inv(A)*B;\n",
"disp(X);\n",
"disp('VA= 9.39 V');\n",
"disp('VB= 12.58 V');\n",
""
   ]
   }
,
{
		   "cell_type": "markdown",
		   "metadata": {},
		   "source": [
			"## Example 2.26: example26.sce"
		   ]
		  },
  {
"cell_type": "code",
	   "execution_count": null,
	   "metadata": {
	    "collapsed": true
	   },
	   "outputs": [],
"source": [
"//Network Theorem 1\n",
"//page no-2.30\n",
"//example2.26\n",
"disp('Applying KCL to node 1:');\n",
"disp('5*V1-2*V2 = -24');....//equation 1\n",
"disp('Applying KCL to node 2:');\n",
"disp('10*V1-31*V2+6*V3 = 300');...//equation 2\n",
"disp('Applying KCL to node 3:');\n",
"disp('-4*V2 +9*V3 = 160');...//equation 3\n",
"disp('Solving equations 1,2 and 3');...//solving equations in matrix form\n",
"A=[5 -2 0;10 -31 6;0 -4 9];\n",
"B=[-24 300 160]'\n",
"X=inv(A)*B;\n",
"disp(X);\n",
"disp('V1= -8.77 V');\n",
"disp('V2= -9.92 V');\n",
"disp('V3= 13.37 V');\n",
"x=13.37;\n",
"y=-9.92;\n",
"z=(x-y)/5;\n",
"printf('\ncurrent through the 5 ohm resistor = V3-V2/5 = %.2f A',z);"
   ]
   }
,
{
		   "cell_type": "markdown",
		   "metadata": {},
		   "source": [
			"## Example 2.27: example27.sce"
		   ]
		  },
  {
"cell_type": "code",
	   "execution_count": null,
	   "metadata": {
	    "collapsed": true
	   },
	   "outputs": [],
"source": [
"//Network Theorem 1\n",
"//page no-2.31\n",
"//example2.27\n",
"disp('Applying KCL to node 1:');\n",
"disp('50*V1-20*V2 = 2400');....//equation 1\n",
"disp('Applying KCL to node 2:');\n",
"disp('-10*V1+19*V2 = 240');...//equation 2\n",
"disp('Solving equations 1 and 2');...//solving equations in matrix form\n",
"A=[50 -20;-10 19];\n",
"B=[2400 240]'\n",
"X=inv(A)*B;\n",
"disp(X);\n",
"disp('V1= 67.2 V');\n",
"disp('V2=-48 V');"
   ]
   }
,
{
		   "cell_type": "markdown",
		   "metadata": {},
		   "source": [
			"## Example 2.28: example28.sce"
		   ]
		  },
  {
"cell_type": "code",
	   "execution_count": null,
	   "metadata": {
	    "collapsed": true
	   },
	   "outputs": [],
"source": [
"//Network Theorem 1\n",
"//page no-2.32\n",
"//example2.28\n",
"disp('Applying KCL to node 1:');\n",
"disp('4*VA-2*VB = 5');....//equation 1\n",
"disp('Applying KCL to node 2:');\n",
"disp('-2*VA+3*VB = 4');...//equation 2\n",
"disp('Solving equations 1 and 2');...//solving equations in matrix form\n",
"A=[4 -2;-2 3];\n",
"B=[5 4]'\n",
"X=inv(A)*B;\n",
"disp(X);\n",
"disp('VA= 2.88 V');\n",
"disp('VB= 3.25 V');\n",
"\n",
""
   ]
   }
,
{
		   "cell_type": "markdown",
		   "metadata": {},
		   "source": [
			"## Example 2.29: example29.sce"
		   ]
		  },
  {
"cell_type": "code",
	   "execution_count": null,
	   "metadata": {
	    "collapsed": true
	   },
	   "outputs": [],
"source": [
"//Network Theorem 1\n",
"//page no-2.33\n",
"//example2.29\n",
"disp('Applying KCL to node 1:');\n",
"disp('4*V1-2*V2-V3 = -24');....//equation 1\n",
"disp('Applying KCL to node 2:');\n",
"disp('-50*V1+71*V2-20*V3 = 0');...//equation 2\n",
"disp('Applying KCL to node 3:');\n",
"disp('-5V1-4*V2 +10*V3 = 180');...//equation 3\n",
"disp('Solving equations 1,2 and 3');...//solving equations in matrix form\n",
"A=[4 -2 -1;-50 71 -20;-5 -4 10];\n",
"B=[-24 0 180]'\n",
"X=inv(A)*B;\n",
"disp(X);\n",
"disp('V1= 6.35 V');\n",
"disp('V2= 11.76 V');\n",
"disp('V3= 25.88 V');\n",
"x=25.88;\n",
"y=11.76;\n",
"z=(x-y);\n",
"printf('\ncurrent through the 5 ohm resistor = V3-V2/5 = %.2f A',z);"
   ]
   }
,
{
		   "cell_type": "markdown",
		   "metadata": {},
		   "source": [
			"## Example 2.2: example2.sce"
		   ]
		  },
  {
"cell_type": "code",
	   "execution_count": null,
	   "metadata": {
	    "collapsed": true
	   },
	   "outputs": [],
"source": [
"//Network Theorem-1\n",
"//pg no.-2.2\n",
"//example2.5\n",
"//converting delta network to star network\n",
"a=10;\n",
"b=10;\n",
"c=10;\n",
"R=(a*b)/(a+b+c);\n",
"printf('\nConverting the delta formed by three resistors of 10 Ohm into an equivalent star network');\n",
"mprintf('\nR1=R2=R3= %.3f Ohm',R);"
   ]
   }
,
{
		   "cell_type": "markdown",
		   "metadata": {},
		   "source": [
			"## Example 2.30: example30.sce"
		   ]
		  },
  {
"cell_type": "code",
	   "execution_count": null,
	   "metadata": {
	    "collapsed": true
	   },
	   "outputs": [],
"source": [
"//Network Theorem 1\n",
"//page no-2.34\n",
"//example2.30\n",
"disp('Applying KCL to node 1:');\n",
"disp('8*V1-V2 = 50');....//equation 1\n",
"disp('Applying KCL to node 2:');\n",
"disp('-2*V1+11*V2 = -500');...//equation 2\n",
"disp('Solving equations 1 and 2');...//solving equations in matrix form\n",
"A=[8 -1;-2 17];\n",
"B=[50 -500]'\n",
"X=inv(A)*B;\n",
"disp(X);\n",
"disp('V1= 2.61 V');\n",
"disp('V2=-29.1 V');\n",
"x=2.61;\n",
"y=-29.1;\n",
"I1=-x/2;\n",
"I2=(x-y)/10;//current through 10 Ohm resistor\n",
"I3=(y+50)/2;//50 volts is the supply to the circuit\n",
"mprintf('\nI1= %.2f A \nI2= %.2f A \nI3= %.2f A',I1,I2,I3);\n",
""
   ]
   }
,
{
		   "cell_type": "markdown",
		   "metadata": {},
		   "source": [
			"## Example 2.31: example31.sce"
		   ]
		  },
  {
"cell_type": "code",
	   "execution_count": null,
	   "metadata": {
	    "collapsed": true
	   },
	   "outputs": [],
"source": [
"//Network Theorem 1\n",
"//page no-2.34\n",
"//example2.30\n",
"disp('Applying KCL to node a:');\n",
"disp('0.5*Va-0.2*Vb = 34.2');....//equation 1\n",
"disp('Applying KCL to node b:');\n",
"disp('0.1*Va-0.4*Vb = -32.4');...//equation 2\n",
"disp('Solving equations 1 and 2');...//solving equations in matrix form\n",
"A=[0.5 -0.2;0.1 -0.4];\n",
"B=[34.2 -32.4]'\n",
"X=inv(A)*B;\n",
"disp(X);\n",
"disp('Va= 112 V');\n",
"disp('Vb= 109 V');\n",
"x=112;\n",
"y=109;\n",
"I1=(120-x)/0.2;\n",
"I2=(x-y)/0.3;\n",
"I3=(110-y)/0.1;\n",
"mprintf('\nI1= %.f A \nI2= %.f A \nI3= %.f A',I1,I2,I3);\n",
"\n",
""
   ]
   }
,
{
		   "cell_type": "markdown",
		   "metadata": {},
		   "source": [
			"## Example 2.32: example32.sce"
		   ]
		  },
  {
"cell_type": "code",
	   "execution_count": null,
	   "metadata": {
	    "collapsed": true
	   },
	   "outputs": [],
"source": [
"//Network Theorem 1\n",
"//page no-2.35\n",
"//example2.35\n",
"disp('Applying KCL to node 1:');\n",
"disp('V1 = 50');....//equation 1\n",
"disp('Applying KCL to node 2:');\n",
"disp('-2*V1+17*V2 = 50');...//equation 2\n",
"disp('Solving equations 1 and 2');...//solving equations in matrix form\n",
"A=[1 0;-2 17];\n",
"B=[50 50]'\n",
"X=inv(A)*B;\n",
"disp(X);\n",
"disp('V1= 50 V');\n",
"disp('V2= 8.82 V');\n",
"x=8.82;\n",
"y=(x/10);\n",
"printf('\ncurrent in the 10-Ohm resistor =V2/10 =%.2f A',y);\n",
""
   ]
   }
,
{
		   "cell_type": "markdown",
		   "metadata": {},
		   "source": [
			"## Example 2.33: example33.sce"
		   ]
		  },
  {
"cell_type": "code",
	   "execution_count": null,
	   "metadata": {
	    "collapsed": true
	   },
	   "outputs": [],
"source": [
"//Network Theorem 1\n",
"//page no-2.36\n",
"//example2.33\n",
"disp('Applying KCL to node a:');\n",
"disp('6*Va-5*Vb = -20');....//equation 1\n",
"disp('Applying KCL to node b:');\n",
"disp('-10*Va+17*Vb-5*Vc = 0');...//equation 2\n",
"disp('At node c');\n",
"disp('Vc = 20');\n",
"disp('Solving equations 1,2 and 3');...//solving equations in matrix form\n",
"A=[6 -5 0;-10 17 -5;0 0 1];\n",
"B=[-20 0 20]'\n",
"X=inv(A)*B;\n",
"disp(X);\n",
"disp('Va= 3.08 V');\n",
"disp('Vb= 7.69 V');\n",
"x=3.08;\n",
"y=7.69;\n",
"z=20;\n",
"Va = x-y;\n",
"Vb = y-z;\n",
"mprintf('\nV1 = Va-Vb =%.2f V \nV2 = Vb-Vc =%.2f V',Va,Vb);"
   ]
   }
,
{
		   "cell_type": "markdown",
		   "metadata": {},
		   "source": [
			"## Example 2.34: example34.sce"
		   ]
		  },
  {
"cell_type": "code",
	   "execution_count": null,
	   "metadata": {
	    "collapsed": true
	   },
	   "outputs": [],
"source": [
"//Network Theorem 1\n",
"//page no-2.37\n",
"//example2.334\n",
"disp('At node A:');\n",
"disp('VA = 60');....//equation 1\n",
"disp('Applying KCL to node B:');\n",
"disp('-VA+3*VB-VC = 12');...//equation 2\n",
"disp('Applying KCL to node C:');\n",
"disp('-2*VA-5*VB+10*VC');...//equation 3\n",
"disp('Solving equations 1,2 and 3');...//solving equations in matrix \n",
"A=[1 0 0;-1 3 -1;-2 -5 10];\n",
"B=[60 12 24]'\n",
"X=inv(A)*B;\n",
"disp(X);\n",
"disp('VC= 31.68 V');\n",
"disp('Voltage across the 100 Ohm resistor = 31.68 V');\n",
""
   ]
   }
,
{
		   "cell_type": "markdown",
		   "metadata": {},
		   "source": [
			"## Example 2.35: example35.sce"
		   ]
		  },
  {
"cell_type": "code",
	   "execution_count": null,
	   "metadata": {
	    "collapsed": true
	   },
	   "outputs": [],
"source": [
"//Network Theorem 1\n",
"//page no-2.38\n",
"//example2.35\n",
"disp('Applying KCL to node 1:');\n",
"disp('2.5*V1-0.5*V2 = 5');....//equation 1\n",
"disp('Applying KCL to node 2:');\n",
"disp('V1-V2 = 0');...//equation 2\n",
"disp('Solving equations 1 and 2');...//solving equations in matrix form\n",
"A=[2.5 -0.5;1 -1];\n",
"B=[5 0]'\n",
"X=inv(A)*B;\n",
"disp(X);\n",
"disp('V1= 2.5 V');\n",
"disp('V2=-2.5 V');\n",
""
   ]
   }
,
{
		   "cell_type": "markdown",
		   "metadata": {},
		   "source": [
			"## Example 2.37: example37.sce"
		   ]
		  },
  {
"cell_type": "code",
	   "execution_count": null,
	   "metadata": {
	    "collapsed": true
	   },
	   "outputs": [],
"source": [
"//Network Theorem 1\n",
"//page no-2.39\n",
"//example2.37\n",
"disp('Applying KCL to node 1:');\n",
"disp('2*V1+17*V2 = 0');....//equation 1\n",
"disp('Applying KCL to node 2:');\n",
"disp('V1+6V2 = 0');...//equation 2\n",
"disp('Solving equations 1 and 2');...//solving equations in matrix form\n",
"A=[2 17;1 6];\n",
"B=[0 0]'\n",
"X=inv(A)*B;\n",
"disp(X);\n",
"disp('V1= 0 V');\n",
"disp('V2= 0 V');\n",
"\n",
""
   ]
   }
,
{
		   "cell_type": "markdown",
		   "metadata": {},
		   "source": [
			"## Example 2.38: example38.sce"
		   ]
		  },
  {
"cell_type": "code",
	   "execution_count": null,
	   "metadata": {
	    "collapsed": true
	   },
	   "outputs": [],
"source": [
"//Network Theorem 1\n",
"//page no-2.40\n",
"//example2.38\n",
"disp('Applying KCL to node a:');\n",
"disp('2*Va-0.5*Vb-0.5*Vc = 5');....//equation 1\n",
"disp('Applying KCL to node b:');\n",
"disp('-3/2*Va+5/6*Vb+2/3*Vc = -1');...//equation 2\n",
"disp('Applying KCL to node c:');\n",
"disp('1/2*Va+1/3*Vb-31/30*Vc = -1');...//equation 3\n",
"disp('Solving equations 1,2 and 3');...//solving equations in matrix form\n",
"A=[2 -0.5 -0.5;-3/2 5/6 2/3;0.5 1/3 -31/30 ];\n",
"B=[5 -1 0]'\n",
"X=inv(A)*B;\n",
"disp(X);\n",
"disp('Va= 4.303 V');\n",
"disp('Vb= 3.87 V');\n",
"disp('Vc= 3.33 V');\n",
"\n",
""
   ]
   }
,
{
		   "cell_type": "markdown",
		   "metadata": {},
		   "source": [
			"## Example 2.39: example39.sce"
		   ]
		  },
  {
"cell_type": "code",
	   "execution_count": null,
	   "metadata": {
	    "collapsed": true
	   },
	   "outputs": [],
"source": [
"//Network Theorem 1\n",
"//page no-2.41\n",
"//example2.39\n",
"disp('from the figure');\n",
"disp('V4= 40 V');//equation 1\n",
"disp('nodes 2 and 3 form suoernode:');\n",
"disp('V1-2*V2+V3 = 0');....//equation 2\n",
"disp('Applying KCL to node 1:');\n",
"disp('7/15*V1-1/5*V2 = 2/3');...//equation 3\n",
"disp('Applying KCL to supernode :');\n",
"disp('-23/30*V1 +83/60*V3 = 20');...//equation 4\n",
"disp('Solving equations 1,2,3 and 4');...//solving equations in matrix form\n",
"A=[0 0 0 1;1 -2 1 0;7/15 -1/5 0 0;-23/30 83/60 0 0];\n",
"B=[40 0 2/3 20]'\n",
"X=inv(A)*B;\n",
"disp(X);\n",
"disp('V1= 10 V');\n",
"disp('V2= 20 V');\n",
"disp('V3= 30 V');"
   ]
   }
,
{
		   "cell_type": "markdown",
		   "metadata": {},
		   "source": [
			"## Example 2.3: example3.sce"
		   ]
		  },
  {
"cell_type": "code",
	   "execution_count": null,
	   "metadata": {
	    "collapsed": true
	   },
	   "outputs": [],
"source": [
"//Network Theorem-1\n",
"//pg no.-2.7\n",
"//example2.3\n",
"a=4;\n",
"b=3;\n",
"c=6;\n",
"//star to delta conversion\n",
"R1=c+a+((a*c)/b);\n",
"R2=c+b+((c*b)/a);\n",
"R3=a+b+((a*b)/c);\n",
"x=1.35;\n",
"y=0.9;\n",
"RAB=(c*(x+y))/(c+x+y);\n",
"printf('\nR1 = %.f Ohm',R1);\n",
"printf('\nR2 = %.1f Ohm',R2);\n",
"printf('\nR3 = %.f Ohm',R3);\n",
"printf('\nThe network can be simplified as, \nRAB = %.2f Ohm',RAB);"
   ]
   }
,
{
		   "cell_type": "markdown",
		   "metadata": {},
		   "source": [
			"## Example 2.40: example40.sce"
		   ]
		  },
  {
"cell_type": "code",
	   "execution_count": null,
	   "metadata": {
	    "collapsed": true
	   },
	   "outputs": [],
"source": [
"//Network Theorem 1\n",
"//page no-2.42\n",
"//example2.40\n",
"disp('selecting central node as reference node');\n",
"disp('V1= -12 V');//equation 1\n",
"disp('Applying KCL at node 1:');\n",
"disp('-2*V1+2.5*V2-0.5V3 = 14');....//equation 2\n",
"disp('nodes 3 and 4 form a supernode');\n",
"disp('0.2*V1+V3-1.2*V4 = 0');...//equation 3\n",
"disp('Applying KCL to supernode :');\n",
"disp('0.1*V1-V2+0.5*V3+1.4*V4 = 0');...//equation 4\n",
"disp('Solving equations 1,2,3 and 4');...//solving equations in matrix form\n",
"A=[1 0 0 0;-2 2.5 -0.5 0;0.2 0 1 -1.2;0.1 -1 0.5 1.4];\n",
"B=[-12 14 0 0]'\n",
"X=inv(A)*B;\n",
"disp(X);\n",
"disp('V1= -12 V');\n",
"disp('V2= -4 V');\n",
"disp('V3= 0');\n",
"disp('V4= -2 V');\n",
""
   ]
   }
,
{
		   "cell_type": "markdown",
		   "metadata": {},
		   "source": [
			"## Example 2.5: example5.sce"
		   ]
		  },
  {
"cell_type": "code",
	   "execution_count": null,
	   "metadata": {
	    "collapsed": true
	   },
	   "outputs": [],
"source": [
"//Network Theorem-1\n",
"//pg no.-2.9\n",
"//example2.5\n",
"//converting delta network to star network\n",
"a=25;\n",
"b=20;\n",
"c=35;\n",
"R1=(b*c)/(a+b+c);\n",
"R2=(a*b)/(a+b+c);\n",
"R3=(a*c)/(a+b+c);\n",
"printf('\nConverting the delta formed by resistors 20 Ohm ,25 Ohm, 35 Ohm  into an equivalent star network');\n",
"printf('\nR1= %.2f Ohm',R1);\n",
"printf('\nR2= %.2f Ohm',R2);\n",
"printf('\nR3= %.2f Ohm',R3);"
   ]
   }
,
{
		   "cell_type": "markdown",
		   "metadata": {},
		   "source": [
			"## Example 2.8: example8.sce"
		   ]
		  },
  {
"cell_type": "code",
	   "execution_count": null,
	   "metadata": {
	    "collapsed": true
	   },
	   "outputs": [],
"source": [
"//Network Theorem-1\n",
"//pg no.-2.15\n",
"//example2.8\n",
"a=5;\n",
"b=4;\n",
"c=3;\n",
"//Star to delta conversion\n",
"R1=a+b+((a*b)/c);\n",
"R2=c+b+((c*b)/a);\n",
"R3=a+c+((a*c)/b);\n",
"a1=6;\n",
"b1=4;\n",
"c1=8;\n",
"//Satr to delta conversion\n",
"R4=a1+b1+((a1*b1)/c1);\n",
"R5=c1+b1+((c1*b1)/a1);\n",
"R6=a1+c1+((a1*c1)/b1);\n",
"x=6.17;\n",
"y=9.78;\n",
"RAB=(x*y)/(x+y);\n",
"printf('\nConverting star network formed by 3 Ohm,4 Ohm ,5 Ohm into equivalent delta network ');\n",
"mprintf('\nR1= %.2f Ohm \nR2= %.1f Ohm \nR3 = %.2f Ohm',R1,R2,R3);\n",
"printf('\nSimilarly, converting star network formed by 6 Ohm,4 Ohm ,8 Ohm into equivalent delta network');\n",
"mprintf('\nR4= %.f Ohm \nR5= %.2f Ohm \nR6 = %.f Ohm',R4,R5,R6);\n",
"printf('\n Simplifying the parallel networks, we get \nRAB = %.2f Ohms',RAB);"
   ]
   }
,
{
		   "cell_type": "markdown",
		   "metadata": {},
		   "source": [
			"## Example 2.9: example9.sce"
		   ]
		  },
  {
"cell_type": "code",
	   "execution_count": null,
	   "metadata": {
	    "collapsed": true
	   },
	   "outputs": [],
"source": [
"//Network Theorem 1\n",
"//page no-2.18\n",
"//example2.9\n",
"disp('Applying KVL to mesh 1');\n",
"disp('10*I1-3*I2-6*I3=0');....//equation 1\n",
"disp('Applying KVL to mesh 2');\n",
"disp('-3*I1+10*I2=-5');....//equation 2\n",
"disp('Applying KVL to mesh 3');\n",
"disp('-6*I1+10*I3=25');....//equation 3\n",
"disp('Solving the three equations');\n",
"A=[10 -3 -6;-3 10 0;-6 0 10]//solving the equations in matrix form\n",
"B=[10 -5 25]'\n",
"X=inv(A)*B;\n",
"disp(X);\n",
"disp('I1=4.27 A');\n",
"disp('I2=0.78 A');\n",
"disp('I3=5.06 A');\n",
"disp('I5ohm=4.27 A');"
   ]
   }
],
"metadata": {
		  "kernelspec": {
		   "display_name": "Scilab",
		   "language": "scilab",
		   "name": "scilab"
		  },
		  "language_info": {
		   "file_extension": ".sce",
		   "help_links": [
			{
			 "text": "MetaKernel Magics",
			 "url": "https://github.com/calysto/metakernel/blob/master/metakernel/magics/README.md"
			}
		   ],
		   "mimetype": "text/x-octave",
		   "name": "scilab",
		   "version": "0.7.1"
		  }
		 },
		 "nbformat": 4,
		 "nbformat_minor": 0
}
