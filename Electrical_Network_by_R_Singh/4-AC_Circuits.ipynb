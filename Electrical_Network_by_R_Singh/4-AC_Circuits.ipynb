{
"cells": [
 {
		   "cell_type": "markdown",
	   "metadata": {},
	   "source": [
       "# Chapter 4: AC Circuits"
	   ]
	},
{
		   "cell_type": "markdown",
		   "metadata": {},
		   "source": [
			"## Example 4.14: example14.sce"
		   ]
		  },
  {
"cell_type": "code",
	   "execution_count": null,
	   "metadata": {
	    "collapsed": true
	   },
	   "outputs": [],
"source": [
"//AC Circuits: example 4.14 :(pg 4.11)\n",
"v1=0;\n",
"v2=40;\n",
"v3=60;\n",
"v4=80;\n",
"v5=100;\n",
"t=8;\n",
"Vavg=((v1+v2+v3+v4+v5+v4+v3+v2)/t);\n",
"Vrms=sqrt((v1^2+v2^2+v3^2+v4^2+v5^2+v4^2+v3^2+v2^2)/t);\n",
"disp('Vavg=((0+40+60+80+100+80+60+40)/8)');\n",
"printf('\nVavg=%.1f V',Vavg);\n",
"disp('Vrms=sqrt((0+(40)^2+(60)^2+(80)^2+(100)^2+(80)^2+(60)^2+(40)^2)/8)');\n",
"printf('\nVrms=%.2f V',Vrms);"
   ]
   }
,
{
		   "cell_type": "markdown",
		   "metadata": {},
		   "source": [
			"## Example 4.15: example15.sce"
		   ]
		  },
  {
"cell_type": "code",
	   "execution_count": null,
	   "metadata": {
	    "collapsed": true
	   },
	   "outputs": [],
"source": [
"//AC Circuits : example 4.15 :pg(4.11 & 4.12)\n",
"v1=0;\n",
"v2=10;\n",
"v3=20;\n",
"t=3;\n",
"Vavg=((v1+v2+v3)/t);\n",
"Vrms=(sqrt((v1^2+v2^2+v3^2)/t));\n",
"disp('Vavg=((0+10+20)/3)');\n",
"printf('Vavg=%.f V',Vavg);\n",
"disp('Vrms=(((0)^2+(10)^2+(20)^2)/3)');\n",
"printf('Vrms=%.1f V',Vrms);"
   ]
   }
,
{
		   "cell_type": "markdown",
		   "metadata": {},
		   "source": [
			"## Example 4.1: example1.sce"
		   ]
		  },
  {
"cell_type": "code",
	   "execution_count": null,
	   "metadata": {
	    "collapsed": true
	   },
	   "outputs": [],
"source": [
"//AC Circuits:example 4.1:(pg4.4)\n",
"i=15;\n",
"t=3.375*10^-3;\n",
"f=40;\n",
"pi=3.14;\n",
"Im=(i/sin(2*pi*f*t));\n",
"disp('i=15 Amp');\n",
"disp('t=3.375 ms');\n",
"disp('f=40 Hz');\n",
"disp('i=Im*sin(2*pi*f*t)');\n",
"printf('Im=%.fAmp',Im);"
   ]
   }
,
{
		   "cell_type": "markdown",
		   "metadata": {},
		   "source": [
			"## Example 4.2: example2.sce"
		   ]
		  },
  {
"cell_type": "code",
	   "execution_count": null,
	   "metadata": {
	    "collapsed": true
	   },
	   "outputs": [],
"source": [
"//AC Circuits:example 4.2:(pg4.4)\n",
"f=50;\n",
"Im=100;\n",
"i1=86.6;\n",
"t=(1/600);\n",
"pi=3.14;\n",
"disp('f=50 c/s');\n",
"disp('Im=100 A');\n",
"// part(a)\n",
"disp('i=Im*sin(2*pi*f*t)');\n",
"i=Im*sin(2*pi*f*t);\n",
"printf('i=%.f A',i);\n",
"// part (b)\n",
"disp('i=Im*sin(2*pi*f*t1)');\n",
"t1=(asind(i1/Im)/(2*pi*f));\n",
"printf('t1=%.e second',t1);"
   ]
   }
,
{
		   "cell_type": "markdown",
		   "metadata": {},
		   "source": [
			"## Example 4.33: example33.sce"
		   ]
		  },
  {
"cell_type": "code",
	   "execution_count": null,
	   "metadata": {
	    "collapsed": true
	   },
	   "outputs": [],
"source": [
"//AC Circuits : example 4.33 :pg(4.27)\n",
"Vm=177;\n",
"Im=14.14;\n",
"phi=30;\n",
"V=(Vm/sqrt(2));\n",
"I=(Im/sqrt(2));\n",
"pf=cosd(30);\n",
"P=(V*I*pf);\n",
"disp('v(t)=177sin(314t+10)');// value of 10 is in degrees\n",
"disp('i(t)=14.14sin(314t-20)');//value of 20 is in degrees\n",
"mprintf('\nCurrent i(t) lags behind voltage v(t) by 30degrees');\n",
"disp('phi=30degrees');\n",
"printf('Power factor       pf=cos(30)=%.3f (lagging)',pf);\n",
"printf('\nPower consumed    P=V*I*cos(phi)=%.1f W',P);"
   ]
   }
,
{
		   "cell_type": "markdown",
		   "metadata": {},
		   "source": [
			"## Example 4.3: example3.sce"
		   ]
		  },
  {
"cell_type": "code",
	   "execution_count": null,
	   "metadata": {
	    "collapsed": true
	   },
	   "outputs": [],
"source": [
"//AC Circuits:example 4.3:(pg4.5)\n",
"f=50;\n",
"I=20;\n",
"t1=0.0025;\n",
"t2=0.0125;\n",
"I1=14.14;\n",
"pi=3.14;\n",
"disp('f=50 c/s');\n",
"disp('I=20 A');\n",
"mprintf('Im=I*sqrt(2)');\n",
"Im=(sqrt(2)*I);\n",
"printf('\nIm=%.2f A',Im);\n",
"mprintf('\nEquation of current, \ni=Im*sin(2*pi*f*t)');\n",
"disp('=28.28sin(2*pi*f*t)=28.28sin(100*pi*t)');\n",
"disp('(a)At           t=0.0025 seconds');\n",
"i=(Im*sin(2*pi*f*t1));\n",
"printf('i=%.f A',i); //when t=0.0025seconds\n",
"disp('(b)At           t=0.0125 seconds');\n",
"i=(Im*sin(2*pi*f*t2));\n",
"printf('i=%.f A',i); //when t=0.0125seconds\n",
"disp('(c)             i=28.28sin(100*pi*t) ');\n",
"t=(asind(I1/Im)/(2*pi*f));\n",
"printf('t=%.e second',t);// when I=14.14A"
   ]
   }
,
{
		   "cell_type": "markdown",
		   "metadata": {},
		   "source": [
			"## Example 4.42: example42.sce"
		   ]
		  },
  {
"cell_type": "code",
	   "execution_count": null,
	   "metadata": {
	    "collapsed": true
	   },
	   "outputs": [],
"source": [
"//AC Circuits : example 4.42 :pg(4.32 & 4.33)\n",
"PR=1000;\n",
"VR=200;\n",
"Pcoil=250;\n",
"Vcoil=300;\n",
"R=((VR^2)/PR);\n",
"I=(VR/R);\n",
"r=((Pcoil/(I^2)));\n",
"Zcoil=(Vcoil/I);\n",
"XL=sqrt((Zcoil^2)-(r^2));\n",
"RT=(R+r);\n",
"ZT=sqrt((RT^2)+(XL^2));\n",
"V=(ZT*I);\n",
"printf('\nPR=1000 W \nVR=200 V \nPcoil=250 W \nVcoil=300 V \nPR=(VR^2/R)');\n",
"printf('\nR=%.f Ohms',R);\n",
"printf('\nVR=R*I \nI=%.f A',I);\n",
"disp('Pcoil=(I^2)*r');\n",
"printf('\nResistance of coil      r=%.f Ohm',r);\n",
"printf('\nImpedance of coil       Zcoil=(Vcoil/I)=%.f Ohms',Zcoil);\n",
"printf('\nReactance of coil       XL=sqrt((Zcoil^2)-(r^2)) =%.1f Ohms',XL);\n",
"printf('\nCombined resistance     RT=R+r=%.f Ohms',RT);\n",
"printf('\nCombined impedance      ZT=sqrt(((R+r)^2)+(XL^2)) =%.1f Ohms',ZT);\n",
"printf('\nSupply voltage          V=ZT*I=%.1f V',V);"
   ]
   }
,
{
		   "cell_type": "markdown",
		   "metadata": {},
		   "source": [
			"## Example 4.47: example47.sce"
		   ]
		  },
  {
"cell_type": "code",
	   "execution_count": null,
	   "metadata": {
	    "collapsed": true
	   },
	   "outputs": [],
"source": [
"//AC Circuits : example 4.47 :pg(4.47)\n",
"f1=60;\n",
"V=200;\n",
"P=600;\n",
"I=5;\n",
"f=50;\n",
"Z=V/I;\n",
"r=(P/(I^2));\n",
"XL=sqrt((Z^2)-(r^2));\n",
"L=(XL/(2*%pi*f));\n",
"XL1=(2*%pi*f1*L);\n",
"Z1=sqrt((r^2)+(XL1^2));\n",
"I=(V/Z1);\n",
"printf('\nI=5 A \nV=200 V \nP=600 W \nFor f=50 Hz,');\n",
"printf('\nZ=V/I =%.f Ohms',Z);\n",
"printf('\nP=((I^2)*r) \nr=%.f Ohms',r);\n",
"printf('\nXL=sqrt((Z^2)-(r^2)) \nXL=%.f Ohms',XL);\n",
"printf('\nXL=(2*pi*f*L)\nL=%.4f H',L);\n",
"printf('\nFor  f=60 Hz \nXL=%.1f Ohm',XL1);\n",
"printf('\nr=24 Ohms \nZ=sqrt((r^2)+(XL^2))=%.2f Ohms',Z1);\n",
"printf('\nI=V/Z=%.3f A',I);"
   ]
   }
,
{
		   "cell_type": "markdown",
		   "metadata": {},
		   "source": [
			"## Example 4.48: example48.sce"
		   ]
		  },
  {
"cell_type": "code",
	   "execution_count": null,
	   "metadata": {
	    "collapsed": true
	   },
	   "outputs": [],
"source": [
"//AC Circuits : example 4.48 :(pg 4.37)\n",
"f=50;\n",
"pi=3.14;\n",
"Vdc=12;\n",
"Idc=2.5;\n",
"Vac=230;\n",
"Iac=2;\n",
"Pac=50;\n",
"R=(Vdc/Idc);\n",
"Z=(Vac/Iac);\n",
"Pi=(Pac-((Iac^2)*R));\n",
"RT=(Pac/(Iac^2));\n",
"XL=sqrt((Z^2)-(RT^2));\n",
"L=(XL/(2*pi*f));\n",
"pf=(RT/Z);\n",
"i=(Pi/(Iac^2));\n",
"printf('\nFor dc      V=12 V,      I=2.5 A  \nFor ac      V=230 V,      I=2 A,      P=50 W');\n",
"printf('\nIn an iron-cored coil,there are two types of losses \n(i)Losses in core known as core or iron loss \n(ii)Losses in winding known as copper loss');\n",
"printf('\nP=(I^2)*R+Pi \nP/(I^2)=R+((Pi)/(I^2)) \nRT=R+(Pi/(I^2)) \nwhere R is the resistance of the coil and (Pi/I^2) is the resistance which is equivalent to the effect of iron loss');\n",
"printf('\nFor dc supply,   f=0 \nXL=0');\n",
"printf('\nR=%.1f Ohm',R);\n",
"printf('\nFor ac supply \nZ=%.f Ohms',Z);\n",
"printf('\nIron loss     Pi=P-I^2*R=%.1f W',Pi);\n",
"printf('\nRT=(P/I^2)=%.1f Ohm',RT);\n",
"printf('\nXL=sqrt((Z^2)-(RT^2))=%.1f Ohm',XL);\n",
"printf('\nXL=2*pi*L \nInductance      L=%.3f H',L);\n",
"printf('\nPower factor      =RT/Z=%.3f (lagging)',pf);\n",
"printf('\nThe series resistance equivalent to the effect of iron loss= Pi/(I^2)=%.1f Ohms',i);"
   ]
   }
,
{
		   "cell_type": "markdown",
		   "metadata": {},
		   "source": [
			"## Example 4.49: example49.sce"
		   ]
		  },
  {
"cell_type": "code",
	   "execution_count": null,
	   "metadata": {
	    "collapsed": true
	   },
	   "outputs": [],
"source": [
"//AC Circuits : example 4.49 :(pg 4.37 & 4.38)\n",
"f=50;\n",
"I1=4;\n",
"pf1=0.5;\n",
"V1=200;\n",
"I2=5;\n",
"pf2=0.8;\n",
"V2=40;\n",
"Z1=(V2/I2);\n",
"R=(Z1*pf2);\n",
"XL1=sqrt((Z1^2)-(R^2));\n",
"L1=(XL1/(2*%pi*f));\n",
"Z2=(V1/I1);\n",
"RT=(Z2*pf1);\n",
"XL2=sqrt((Z2^2)-(RT^2));\n",
"L2=(XL2/(2*%pi*f));\n",
"Pi=(V1*I1*pf1-(I1^2)*R);\n",
"printf('\nWith iron core    I=4 A    pf=0.5,    V=200 V \nWithout iron core    I=5 A    pf=0.8,    V=40 V \nWhen the iron-core is removed,');\n",
"printf('\nZ=V/I=%.f Ohms',Z1);\n",
"printf('\npf=R/Z \nR=%.1f Ohms',R);\n",
"printf('\nXL=sqrt((Z^2)-(RT^2))=%.1f Ohms',XL1);\n",
"printf('\nXL=(2*pi*f*L) \nInductance    L=%.4f H',L1);\n",
"printf('\nWith iron core, \nZ=%.f Ohms',Z2);\n",
"printf('\npf=RT/Z \nRT=%.f Ohm',RT);\n",
"printf('\nXL=sqrt((Z^2)-(RT^2))=%.2f Ohm',XL2);\n",
"printf('\nXL=(2*pi*f*L) \nInductance        L=%.4f H',L2);\n",
"printf('\nIron loss      Pi=P=(I^2)*R \n=VIcos(phi)-I^2*R \n=%.1f W',Pi);"
   ]
   }
,
{
		   "cell_type": "markdown",
		   "metadata": {},
		   "source": [
			"## Example 4.4: example4.sce"
		   ]
		  },
  {
"cell_type": "code",
	   "execution_count": null,
	   "metadata": {
	    "collapsed": true
	   },
	   "outputs": [],
"source": [
"//AC Circuits : example 4.4 :pg(4.5)\n",
"pi=3.14;\n",
"Vm=200;\n",
"disp('v=200sin314t');\n",
"disp('v=Vmsin(2*pi*f*t)');\n",
"disp('(2*pi*f)=314');\n",
"f=(314/(2*pi));\n",
"printf('f=%.f Hz',f);\n",
"Vavg=((2*Vm)/pi);\n",
"Vrms=(Vm/sqrt(2));\n",
"mprintf('\nFor a sinusoidal waveform, \nVavg=(2*Vm/pi) \nVrms=(Vm/sqrt(2))');\n",
"kf=(Vrms/Vavg);\n",
"kc=(Vm/Vrms);\n",
"mprintf('\nform fator=%.2f',kf);\n",
"mprintf('\ncrest factor=%.2f',kc);"
   ]
   }
,
{
		   "cell_type": "markdown",
		   "metadata": {},
		   "source": [
			"## Example 4.51: example51.sce"
		   ]
		  },
  {
"cell_type": "code",
	   "execution_count": null,
	   "metadata": {
	    "collapsed": true
	   },
	   "outputs": [],
"source": [
"//AC Circuits : example 4.51 :(pg 4.40 & 4.41)\n",
"P=2000;\n",
"pf=0.5;\n",
"V=230;\n",
"S=(P/pf);\n",
"phi=acosd(pf);\n",
"I=(P/(V*pf));\n",
"Q=(V*I*sind(phi));\n",
"disp('P=2000 W');\n",
"disp('pf=0.5 (leading)');\n",
"disp('V=230 V');\n",
"disp('P=V*I*cos(phi)');\n",
"printf('\nI=%.2f A',I);\n",
"printf('\nS=V*I=P/cos(phi)=%.f VA',S);\n",
"printf('\nphi=%.f degrees',phi);\n",
"printf('\nQ=V*I*sin(phi)=%.f VAR',Q);"
   ]
   }
,
{
		   "cell_type": "markdown",
		   "metadata": {},
		   "source": [
			"## Example 4.52: example52.sce"
		   ]
		  },
  {
"cell_type": "code",
	   "execution_count": null,
	   "metadata": {
	    "collapsed": true
	   },
	   "outputs": [],
"source": [
"//AC Circuits : example 4.52 :(pg 4.41)\n",
"V=240;\n",
"VR=100;\n",
"P=300;\n",
"f=50;\n",
"R=((VR^2)/P);\n",
"I=sqrt(P/R);\n",
"Z=V/I;\n",
"XC=sqrt((Z^2)-(R^2));\n",
"C=(1/(2*%pi*f*XC));\n",
"VC=sqrt((V^2)-(VR^2));\n",
"VCmax=(VC*sqrt(2));\n",
"Qmax=(C*VCmax);\n",
"Emax=((1/2)*C*(VCmax^2));\n",
"printf('\nV=240 V \nVR=100 V \nP=300 W \nf=50 Hz');\n",
"printf('\nP=(VR^2)/R \nR=((VR^2)/P)=%.2f Ohm',R);\n",
"printf('\nP=(I^2)*R \nI=sqrt((P/R)) \nI=%.f A',I);\n",
"printf('\nZ=V/I=%.f Ohm',Z);\n",
"printf('\nXC=sqrt((Z^2)-(R^2))=%.2f Ohm',XC);\n",
"printf('\nXC=1/2*pi*f*C \nC=%.2e F',C);\n",
"printf('\nVoltage across capacitor VC=sqrt((V^2)-(VR^2))=%.2f V',VC);\n",
"printf('\nMaximum value of max charge \nVC=%.2f V \nQmax=C*VCmax=%.4f C',VCmax,Qmax);\n",
"printf('\nMax stored energy Emax=((1/2)*C*(VCmax^2)) \n=%.2f J', Emax);"
   ]
   }
,
{
		   "cell_type": "markdown",
		   "metadata": {},
		   "source": [
			"## Example 4.53: example53.sce"
		   ]
		  },
  {
"cell_type": "code",
	   "execution_count": null,
	   "metadata": {
	    "collapsed": true
	   },
	   "outputs": [],
"source": [
"//AC Circuits : example 4.53 :(pg 4.42)\n",
"C=35*10^-6;\n",
"f=50;\n",
"XC=(1/(2*%pi*f*C));\n",
"R=sqrt(3*(XC^2));\n",
"R^2=(3*(XC^2));\n",
"printf('\nC=35*10^-6 F \nf=50 Hz \nVC=1/2.V \nXC=1/(2*pi*f*C)=%.3f Ohm',XC);\n",
"printf('\nVC=1/2.V \nXC.I=1/2.Z.I \nXC=1/2.Z \nZ=2.XC \nZ=sqrt((R^2)+(XC^2)) \n(2XC)^2=(R^2)+(XC^2) \n3XC^2=R^2');\n",
"mprintf('\nR^2=3*XC^2=%.2f Ohm \nR=%.1f Ohm',R^2,R);"
   ]
   }
,
{
		   "cell_type": "markdown",
		   "metadata": {},
		   "source": [
			"## Example 4.54: example54.sce"
		   ]
		  },
  {
"cell_type": "code",
	   "execution_count": null,
	   "metadata": {
	    "collapsed": true
	   },
	   "outputs": [],
"source": [
"//AC Circuits : example 4.54 :(pg 4.42)\n",
"V=125;\n",
"I=2.2;\n",
"P=96.8;\n",
"f=50;\n",
"Z=V/I;\n",
"R=(P/(I^2));\n",
"Xc=sqrt((Z^2)-(R^2));\n",
"C=(1/(2*%pi*f*Xc));\n",
"printf('\nV=125 V \nP=96.8 W \nI=2.2 A \nf=50 Hz');\n",
"printf('\nZ=V/I=%.2f A',Z);\n",
"printf('\nP=(I^2)*R \nR=%.f Ohm',R);\n",
"printf('\nXc=sqrt((Z^2)-(R^2))=%.2f Ohm',Xc);\n",
"printf('\nXc=1/(2*pi*f*C) \n C=%.2e F',C);"
   ]
   }
,
{
		   "cell_type": "markdown",
		   "metadata": {},
		   "source": [
			"## Example 4.57: Series_RLC_circuit.sce"
		   ]
		  },
  {
"cell_type": "code",
	   "execution_count": null,
	   "metadata": {
	    "collapsed": true
	   },
	   "outputs": [],
"source": [
"//AC Circuits :example 4.57 :(pg 4.46)\n",
"j=%i;\n",
"f=50;\n",
"L=0.22;\n",
"R1=3;\n",
"Z=3.8+j*6.4;\n",
"XL=2*%pi*f*L;\n",
"R2=3.8;\n",
"R=R2-R1;\n",
"X=6.4;\n",
"XC=XL-X;\n",
"C=(1/(2*%pi*f*XC));\n",
"printf('\nZ=(3.8+j*6.4) Ohm');\n",
"printf('\nXL=2*pi*f*L=%.2f Ohm',XL);\n",
"printf('\nZ=(3+j69.12+R-jXC) \n=(3+R)+j(69.12-XC)');\n",
"printf('\n3+R=3.8 \nR=%.1f Ohm',R);\n",
"printf('\nXC=%.2f Ohm',XC);\n",
"printf('\nXC=1/2.pi.f.C \nC=%.e F',C);"
   ]
   }
,
{
		   "cell_type": "markdown",
		   "metadata": {},
		   "source": [
			"## Example 4.58: Series_RLC_circuit.sce"
		   ]
		  },
  {
"cell_type": "code",
	   "execution_count": null,
	   "metadata": {
	    "collapsed": true
	   },
	   "outputs": [],
"source": [
"//AC Circuits : example 4.58 :(pg 4.46)\n",
"R=20;\n",
"phi=45;\n",
"Z=R/cosd(phi);\n",
"XC=sqrt((Z^2)-(R^2));\n",
"XL=(2*XC);\n",
"w=1000;\n",
"L=(XL/w);\n",
"C=(1/(w*XC));\n",
"printf('\nvL=300sin(1000t) \nR=20 Ohm \nphi=45 \nVL(max)=2Vcc(max) \nsqrt(2)*VL=2*sqrt(2)*VC \nI*XL=2*I*XC \nXL=2*XC \ncos(phi)=R/Z');\n",
"printf('\nZ=%.2f Ohm',Z);\n",
"printf('\nZ=sqrt((R^2)+(XL-XC)^2) \nXC=%.f Ohm',XC); //for series R-L-C ckt\n",
"printf('\nXL=2*XC =%.f Ohm',XL);\n",
"printf('\nXL=w*L \nL=%.2f H',L);\n",
"printf('\nXC=1/w*C \nC=%.e F',C);"
   ]
   }
,
{
		   "cell_type": "markdown",
		   "metadata": {},
		   "source": [
			"## Example 4.59: Series_RLC_circuit.sce"
		   ]
		  },
  {
"cell_type": "code",
	   "execution_count": null,
	   "metadata": {
	    "collapsed": true
	   },
	   "outputs": [],
"source": [
"//AC Circuits : example 4.59 :(pg 4.47)\n",
"pf=0.5;\n",
"C=79.59*10^-6;\n",
"f=50;\n",
"XC=(1/(2*%pi*f*C));\n",
"R=pf*XC;\n",
"Zcoil=XC;\n",
"XL=sqrt((Zcoil^2)-(R^2));\n",
"L=(XL/(2*%pi*f));\n",
"printf('\npf=0.5 \nC=79.57uF \nf=50 Hz \nVcoil=VC ');\n",
"printf('\nXC=1/2*pi*f*C =%.f Ohm',XC);\n",
"printf('\nVcoil=VC \nZcoil=XC=%.f Ohm',XC);\n",
"printf('\npf of coil=cos(phi)=R/Zcoil \nResistance of coil R=%.f Ohm',R);\n",
"printf('\nXL=sqrt((Zcoil^2)-(R^2))=%.2f Ohm',XL);\n",
"printf('\nXL=2*pi*f*L \nInductance of coil=%.2f H',L);"
   ]
   }
,
{
		   "cell_type": "markdown",
		   "metadata": {},
		   "source": [
			"## Example 4.5: example5.sce"
		   ]
		  },
  {
"cell_type": "code",
	   "execution_count": null,
	   "metadata": {
	    "collapsed": true
	   },
	   "outputs": [],
"source": [
"//AC Circuits : example 4.5 :(pg 4.6)\n",
"kf=1.2;\n",
"kp=1.5;\n",
"Vavg=10;\n",
"disp('kf=1.2');\n",
"disp('kp=1.5');\n",
"disp('Vavg=10');\n",
"disp('form factor kf=(Vrms/Vavg)');\n",
"Vrms=(kf*Vavg);\n",
"printf('\nVrms=%.f V',Vrms);\n",
"disp('peak factor kp=(Vm/Vrms)');\n",
"Vm=(kp*Vrms);\n",
"printf('\nVm=%.f V',Vm);"
   ]
   }
,
{
		   "cell_type": "markdown",
		   "metadata": {},
		   "source": [
			"## Example 4.60: Series_RLC_Circuit.sce"
		   ]
		  },
  {
"cell_type": "code",
	   "execution_count": null,
	   "metadata": {
	    "collapsed": true
	   },
	   "outputs": [],
"source": [
"//AC Circuits : example 4.60 :(pg 4.48)\n",
"f=50;\n",
"V=250;\n",
"R=5;\n",
"L=9.55;\n",
"Vcoil=300;\n",
"XL=2*%pi*f*L;\n",
"Zcoil=(sqrt((R^2)+(XL^2)));\n",
"I=Vcoil/Zcoil;\n",
"Z=V/I;\n",
"XC1=Zcoil-Z;\n",
"XC2=Zcoil+Z;\n",
"C1=(1/(2*%pi*f*XC1));\n",
"C2=(1/(2*%pi*f*XC2));\n",
"printf('\nV=250 V \nR=5 Ohm \nL=9.55 H \nVcoil=300 V');\n",
"printf('\nXL=2*pi*f*L =%.f Ohm',XL);\n",
"printf('\nZcoil=sqrt(R^2)+(XL^2) =%.f Ohm',Zcoil);\n",
"printf('\nI=Vcoil/Zcoil =%.1f A',I);\n",
"printf('\nZ=V/I =%.f Ohm',Z);//total impedance\n",
"printf('\nZ=sqrt((R^2)+(XL-XC)^2) \nXC=%.f Ohm',XC1);//when XL>XC\n",
"printf('\nC=1/2*pi*f*XC =%.e F',C1);\n",
"printf('\nZ=sqrt((R^2)+(XC-XL)^2) \nXC=%.f Ohm',XC2);//when XC>XL\n",
"printf('\nC=%.e F',C2);"
   ]
   }
,
{
		   "cell_type": "markdown",
		   "metadata": {},
		   "source": [
			"## Example 4.79: Series_Resonance.sce"
		   ]
		  },
  {
"cell_type": "code",
	   "execution_count": null,
	   "metadata": {
	    "collapsed": true
	   },
	   "outputs": [],
"source": [
"//AC Circuits : example 4.79 :(pg 4.64)\n",
"R=10;\n",
"L=0.01;\n",
"C=100*10^-6;\n",
"f0=(1/(2*%pi*sqrt(L*C)));\n",
"BW=(R/(2*%pi*L));\n",
"f1=f0-(BW/2);\n",
"f2=f0+(BW/2);\n",
"printf('\nR=10 Ohm \nL=0.01H \nC=100uF');\n",
"printf('\nf0=1/2*pi*sqrt(L*C)=%.2f Hz',f0);//resonant frequency\n",
"printf('\nBW=R/2*pi*L =%.2f Hz',BW); //bandwidth\n",
"printf('\nf1=f0-BW/2 \n=%.2f Hz',f1); //lower frequency\n",
"printf('\nf2=f0+BW/2 =%.2f Hz',f2); //higher frequency"
   ]
   }
,
{
		   "cell_type": "markdown",
		   "metadata": {},
		   "source": [
			"## Example 4.80: Series_Resonance.sce"
		   ]
		  },
  {
"cell_type": "code",
	   "execution_count": null,
	   "metadata": {
	    "collapsed": true
	   },
	   "outputs": [],
"source": [
"//AC Circuits : example 4.80 :(pg 4.65)\n",
"R=10;\n",
"L=0.2;\n",
"C=40*10^-6;\n",
"V=100;\n",
"f0=(1/(2*%pi*sqrt(L*C)));\n",
"I0=(V/R);\n",
"P0=((I0^2)*R);\n",
"pf=1;\n",
"Vr=(R*I0);\n",
"Vl=((2*%pi*f0*L)*I0);\n",
"Vc=((1/(2*%pi*f0*C))*I0);\n",
"Q=((1/R)*sqrt(L/C));\n",
"f1=(f0-(R/(4*%pi*L)));\n",
"f2=(f0+(R/(4*%pi*L)));\n",
"printf('\nR=10 Ohm \nL=0.2 H \nC=40uF \nV=100 V');\n",
"printf('\n(i) f0= 1/2*pi*sqrt(LC) =%.1f Hz',f0); //resonant frequency\n",
"printf('\n(ii) I0= V/R =%.f A',I0); //current\n",
"printf('\n(iii) P0=(I0^2)*R =%.f W',P0);//power\n",
"printf('\n(iv) pf=1');//power factor\n",
"printf('\n(v) Rv = R.I =%.f V',Vr);//voltage across resistor\n",
"printf('\n Lv = XL.I =%.1f V',Vl);//voltage across inductor\n",
"printf('\n Cv = XC.I =%.1f V',Vc); //voltage across capacitor\n",
"printf('\n(vi) Q =1/R*sqrt(L/C)=%.2f',Q);//Quality factor\n",
"printf('\n(vii)f1 = f0-R/4.pi.L = %.2f Hz',f1); //half power points\n",
"printf('\nf2=f0+R/4.pi.L = %.1f Hz',f2);\n",
"// x initialisation \n",
"x=[-1:0.1:2*%pi];\n",
"//simple plot\n",
"plot(sin(x))\n",
"\n",
"\n",
""
   ]
   }
,
{
		   "cell_type": "markdown",
		   "metadata": {},
		   "source": [
			"## Example 4.81: Series_Resonance.sce"
		   ]
		  },
  {
"cell_type": "code",
	   "execution_count": null,
	   "metadata": {
	    "collapsed": true
	   },
	   "outputs": [],
"source": [
"//AC Circuits : example 4.81 :(pg 4.66)\n",
"V=200;\n",
"Vc=5000;\n",
"I0=20;\n",
"C=4*10^-6;\n",
"R=V/I0;\n",
"Xco=Vc/I0;\n",
"f0=(1/(2*%pi*Xco*C));\n",
"L=(Xco/(2*%pi*f0));\n",
"printf('\nV=200 V \nI0= 20 A \nVc=5000 V \nC=4uF');\n",
"printf('\nR=V/I0 =%.f Ohm',R);//resistance\n",
"printf('\nXco=Vco/Io =%.f Ohm',Xco);\n",
"printf('\nXco=1/2*pi*f0*C \nf0=1/2*pi*Xco*C =%.2f Hz',f0);\n",
"printf('\nat resonance Xco=Xlo \nXlo=%.f Ohm',Xco);\n",
"printf('\nXlo=2*pi*f0*L \nL=%.2f H',L);\n",
""
   ]
   }
,
{
		   "cell_type": "markdown",
		   "metadata": {},
		   "source": [
			"## Example 4.82: Series_Resonance.sce"
		   ]
		  },
  {
"cell_type": "code",
	   "execution_count": null,
	   "metadata": {
	    "collapsed": true
	   },
	   "outputs": [],
"source": [
"//AC Circuits : example 4.82 :(pg 4.66)\n",
"V=230;\n",
"f0=50;\n",
"I0=2;\n",
"Vco=500;\n",
"R=V/I0;\n",
"Xco=Vco/I0;\n",
"C=(1/(2*%pi*f0*Xco));\n",
"L=(Xco/(2*%pi*f0));\n",
"printf('\nV = 230 V \nf0 = 50 Hz \nI0 = 2A \nVco = 500 V');\n",
"printf('\nR=V/I0 =%.f Ohm',R);\n",
"printf('\nXco=Vco/I0 =%.f Ohm',Xco);\n",
"printf('\nXco=1/2.pi.f0.C \nC= %.e F',C);//capacitance\n",
"printf('\nXco=Xlo \nXlo=%.f Ohm',Xco);//at resonance\n",
"printf('\nXlo=2.pi.f0.L \nL=%.3f H',L);//inductance\n",
"\n",
""
   ]
   }
,
{
		   "cell_type": "markdown",
		   "metadata": {},
		   "source": [
			"## Example 4.83: Series_Resonance.sce"
		   ]
		  },
  {
"cell_type": "code",
	   "execution_count": null,
	   "metadata": {
	    "collapsed": true
	   },
	   "outputs": [],
"source": [
"//AC Circuits : example 4.82 :(pg 4.66)\n",
"R=2;\n",
"L=0.01;\n",
"V=200;\n",
"f0=50;\n",
"C=(1/(4*(%pi)^2*L*(f0^2)));\n",
"I0=V/R;\n",
"Vco=I0*(1/(2*%pi*f0*C));\n",
"printf('\nR= 2 Ohm \nL= 0.01 H \nV=200 V \nf0=50 Hz \nf0=1/(2.pi.sqrt(LC)');\n",
"printf('\nC = %.e F',C);//capacitance\n",
"printf('\nI0= V/R =%.f A',I0);//current\n",
"printf('\nVco=I0.Xco \n=%.2f V',Vco); //voltage across capacitor"
   ]
   }
,
{
		   "cell_type": "markdown",
		   "metadata": {},
		   "source": [
			"## Example 4.84: Series_Resonance.sce"
		   ]
		  },
  {
"cell_type": "code",
	   "execution_count": null,
	   "metadata": {
	    "collapsed": true
	   },
	   "outputs": [],
"source": [
"//AC Circuits : example 4.84 :(pg 4.67)\n",
"BW=400;\n",
"Vco=500;\n",
"R=100;\n",
"Vm=10;\n",
"V=(Vm/sqrt(2));\n",
"I0=V/R;\n",
"L=R/BW;\n",
"Q0=Vco/V;\n",
"C=(L/(Q0*R)^2);\n",
"f0=(1/(2*%pi*sqrt(L*C)));\n",
"f1=(f0-(R/(4*%pi*L)));//lower cut-off frequency\n",
"f2=(f0+(R/(4*%pi*L)));//upper cut-off frequency\n",
"printf('\nv(t)=10sinwt \nVco=5000V \nBW=400rad/s \nR=100 Ohm');\n",
"printf('\nV=%.2f V',V);\n",
"printf('\nI0=V/R=%.4f A',I0);\n",
"printf('\nBW=R/L \nL=%.2f H',L);\n",
"printf('\nQ0=Vco/V =%.2f',Q0);\n",
"printf('\nQ0=1/R*sqrt(L/C) \nC=%.e F',C);\n",
"printf('\nf0=1/2.pi.sqrt(LC)=%.2f Hz',f0);\n",
"printf('\nf1=f0-R/4.pi.L =%.2f Hz',f1);//lower cut-off frequency\n",
"printf('\nf2=f0+R/4.pi.L =%.2f Hz',f2); //upper cut-off frequency"
   ]
   }
,
{
		   "cell_type": "markdown",
		   "metadata": {},
		   "source": [
			"## Example 4.85: Series_Resonance.sce"
		   ]
		  },
  {
"cell_type": "code",
	   "execution_count": null,
	   "metadata": {
	    "collapsed": true
	   },
	   "outputs": [],
"source": [
"//AC Circuits : example 4.85 :(pg 4.68)\n",
"R=500;\n",
"f1=100;\n",
"f2=10*10^3;\n",
"BW=f2-f1;\n",
"f0=((f1+f2)/2);\n",
"L=(R/(2*%pi*BW));\n",
"XL0=(2*%pi*f0*L);\n",
"C=(1/(2*%pi*f0*XL0));\n",
"Q0=((1/R)*(sqrt(L/C)));\n",
"printf('\nR= 500 Ohm \nf1 = 100 Hz \nf2=10kHz \nBW= f2-f1 =%.f Hz',BW);\n",
"printf('\nf1=f0-BW/2 ------(i) \nf2=f0+BW/2 ------(ii) \nf1+f2 =2f0 \nf0=(f1+f2)/2 =%.f Hz',f0);\n",
"printf('\nBW=R/2.pi.f0.L \nL=%.6f H',L);\n",
"printf('\nXL0=2.pi.f0.L =%.2f Ohm',XL0);\n",
"printf('\nXL0=XC0 =%.2f Ohm',XL0);//at resonance\n",
"printf('\nXC0 =1/2.pi.f0.C \nC=%.e F',C);\n",
"printf('\nQ0=(1/R*sqrt(L/C)) =%.4f',Q0);"
   ]
   }
,
{
		   "cell_type": "markdown",
		   "metadata": {},
		   "source": [
			"## Example 4.87: Series_Resonance.sce"
		   ]
		  },
  {
"cell_type": "code",
	   "execution_count": null,
	   "metadata": {
	    "collapsed": true
	   },
	   "outputs": [],
"source": [
"//AC Circuits : example 4.87 :(pg 4.69 & 4.70)\n",
"f0=10^6;\n",
"C1=500*10^-12;\n",
"C2=600*10^-12;\n",
"C=500*10^-12;\n",
"x=((2*%pi*f0)^2);\n",
"L=(1/(x*C));\n",
"XL=(2*%pi*f0*L);\n",
"y=2*%pi*f0*C2;\n",
"XC=(1/y);\n",
"R=sqrt(((XL-XC)^2)/3);\n",
"x=sqrt(L/C);\n",
"Q0=((1/R)*x);\n",
"printf('\nf0= 1MHz \nC1=500pF \nC2=600pF \nC=500pF');//At resonance\n",
"printf('\nf0=1/2.pi.sqrt(LC)\nL=%.12f H',L);\n",
"printf('\nXL=2.pi.f0.L =%.2f Ohm',XL);\n",
"printf('\nXC=1/2.pi.f0.C \nXC=%.2f Ohm',XC);\n",
"printf('\nI=1/2.I0 \nV/Z=1/2.V/R \nZ=2R');\n",
"printf('\nsqrt((R^2)-(XL-XC)^2)=2R \nR=%.2f Ohm',R);//Resistance of Inductor\n",
"printf('\nQ0=1/R.sqrt(L/C) \n=%.f',Q0);"
   ]
   }
,
{
		   "cell_type": "markdown",
		   "metadata": {},
		   "source": [
			"## Example 4.88: Parallel_Resonance.sce"
		   ]
		  },
  {
"cell_type": "code",
	   "execution_count": null,
	   "metadata": {
	    "collapsed": true
	   },
	   "outputs": [],
"source": [
"//AC Circuits : example 4.88 :(pg 4.72)\n",
"R=20;\n",
"C=100*10^-6;\n",
"L=0.2;\n",
"DR=(L/(C*R));\n",
"x=(1/(L*C));\n",
"y=((R/L)^2);\n",
"f0=((1/(2*%pi))*sqrt(x-y));\n",
"DR=(L/(C*R));\n",
"printf('\nR=20 Ohm \nL=0.2 H \nC=100uF');\n",
"printf('\nf0=1/2.pi.sqrt(1/LC-R^2/L^2) \n=%.2f Hz',f0);\n",
"printf('\n dynamic resistance =L/CR \n= %.f Ohm',DR);"
   ]
   }
,
{
		   "cell_type": "markdown",
		   "metadata": {},
		   "source": [
			"## Example 4.89: Parallel_Resonance.sce"
		   ]
		  },
  {
"cell_type": "code",
	   "execution_count": null,
	   "metadata": {
	    "collapsed": true
	   },
	   "outputs": [],
"source": [
"//AC Circuits : example 4.89 :(pg 4.72 & 4.73)\n",
"R=20;\n",
"L=200*10^-6;\n",
"f=10^6;\n",
"V=230;\n",
"Rs=8000;\n",
"XL=2*%pi*f*L;\n",
"x=((2*%pi*f)^2);\n",
"y=((R/L)^2);\n",
"C=(1/((x+y)*L));\n",
"Q=((2*%pi*f*L)/R);\n",
"Z=(L/(C*R));\n",
"ZT=(Rs+Z);\n",
"IT=(V/ZT);\n",
"printf('\nR=20 Ohm \nL=200uH \nf=10^6 \nV=230 V \nRs=8000 Ohm \nXL=2.pi.f.L =%.1f Ohm',XL);\n",
"printf('\nf0=1/2.pi.sqrt(1/LC-R^2/L^2) \nC=%.e F',C);\n",
"printf('\nQ0=2.pi.f.L/R =%.2f',Q);//quality factor\n",
"printf('\nZ=L/CR \n=%.f Ohm',Z);//dynamic impedance\n",
"printf('\nZt=%.f Ohm',ZT);//total equivalent Z at resonance\n",
"printf('\nIt=%.e A',IT);//total ckt current"
   ]
   }
],
"metadata": {
		  "kernelspec": {
		   "display_name": "Scilab",
		   "language": "scilab",
		   "name": "scilab"
		  },
		  "language_info": {
		   "file_extension": ".sce",
		   "help_links": [
			{
			 "text": "MetaKernel Magics",
			 "url": "https://github.com/calysto/metakernel/blob/master/metakernel/magics/README.md"
			}
		   ],
		   "mimetype": "text/x-octave",
		   "name": "scilab",
		   "version": "0.7.1"
		  }
		 },
		 "nbformat": 4,
		 "nbformat_minor": 0
}
