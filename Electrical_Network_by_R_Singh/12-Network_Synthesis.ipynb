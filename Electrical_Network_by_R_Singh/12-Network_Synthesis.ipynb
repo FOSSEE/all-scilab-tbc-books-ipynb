{
"cells": [
 {
		   "cell_type": "markdown",
	   "metadata": {},
	   "source": [
       "# Chapter 12: Network Synthesis"
	   ]
	},
{
		   "cell_type": "markdown",
		   "metadata": {},
		   "source": [
			"## Example 12.10: Hurwitz_Polynomials.sce"
		   ]
		  },
  {
"cell_type": "code",
	   "execution_count": null,
	   "metadata": {
	    "collapsed": true
	   },
	   "outputs": [],
"source": [
"// Network Synthesis : example 12.10 : (pg 12.6 & 12.7)\n",
"s=poly(0,'s');\n",
"p1=((s^5)+((s^3))+(s));\n",
"p2=((5*(s^4))+3*(s^2)+1);\n",
"[r,q]=pdiv(p1,p2);\n",
"[r1,q1]=pdiv(p2,r);\n",
"[r2,q2]=pdiv(r,r1);\n",
"[r3,q3]=pdiv(r1,r2);\n",
"[r4,q4]=pdiv(r2,r3);\n",
"printf('\n P(s) = ((s^5)+((s^3))+(s))');\n",
"printf('\n d/ds.P(s)= ((5*(s^4))+3*(s^2)+1)');\n",
"printf('\nQ(s)=P(s)/d/ds.P(s)');\n",
"// values of quotients in continued fraction expansion\n",
"disp(q);\n",
"disp(q1);\n",
"disp(q2);\n",
"disp(q3);\n",
"disp(q4);\n",
"printf('\nSince two quotient terms are negative, P(s) is not hurwitz');"
   ]
   }
,
{
		   "cell_type": "markdown",
		   "metadata": {},
		   "source": [
			"## Example 12.2: Hurwitz_Polynomials.sce"
		   ]
		  },
  {
"cell_type": "code",
	   "execution_count": null,
	   "metadata": {
	    "collapsed": true
	   },
	   "outputs": [],
"source": [
"// Network Synthesis : example 12.2 : (pg 12.2)\n",
"s=poly(0,'s');\n",
"p1=((s^4)+(5*(s)^2)+4);\n",
"p2=((s^3)+(3*s));\n",
"[r,q]=pdiv(p1,p2);\n",
"[r1,q1]=pdiv(p2,r);\n",
"[r2,q2]=pdiv(r,r1);\n",
"[r3,q3]=pdiv(r1,r2);\n",
"printf('\nEven part of P(s) = (s^4)+(5s^3)+4');\n",
"printf('\nOdd part of P(s) = (s^3)+(3s)');\n",
"printf('\nQ(s)= m(s)/n(s)');\n",
"// values of quotients in continued fraction expansion\n",
"disp(q);\n",
"disp(q1);\n",
"disp(q2);\n",
"disp(q3);\n",
"printf('\nSince all the quotient terms are positive, P(s) is hurwitz');"
   ]
   }
,
{
		   "cell_type": "markdown",
		   "metadata": {},
		   "source": [
			"## Example 12.3: Hurwitz_Polynomial.sce"
		   ]
		  },
  {
"cell_type": "code",
	   "execution_count": null,
	   "metadata": {
	    "collapsed": true
	   },
	   "outputs": [],
"source": [
"// Network Synthesis : example 12.3 : (pg 12.2 & 12.3)\n",
"s=poly(0,'s');\n",
"p1=((s^3)+(5*(s)));\n",
"p2=((4*s^2)+(2));\n",
"[r,q]=pdiv(p1,p2);\n",
"[r1,q1]=pdiv(p2,r);\n",
"[r2,q2]=pdiv(r,r1);\n",
"printf('\nEven part of P(s) = ((4*s^2)+(2))');\n",
"printf('\nOdd part of P(s) = ((s^3)+(5*(s)))');\n",
"printf('\nQ(s)= n(s)/m(s)');\n",
"// values of quotients in continued fraction expansion\n",
"disp(q);\n",
"disp(q1);\n",
"disp(q2);\n",
"printf('\nSince all the quotient terms are positive, P(s) is hurwitz');"
   ]
   }
,
{
		   "cell_type": "markdown",
		   "metadata": {},
		   "source": [
			"## Example 12.4: Hurwitz_Polynomials.sce"
		   ]
		  },
  {
"cell_type": "code",
	   "execution_count": null,
	   "metadata": {
	    "collapsed": true
	   },
	   "outputs": [],
"source": [
"// Network Synthesis : example 12.4 : (pg 12.3)\n",
"s=poly(0,'s');\n",
"p1=((s^4)+(3*(s)^2)+12);\n",
"p2=((s^3)+(2*s));\n",
"[r,q]=pdiv(p1,p2);\n",
"[r1,q1]=pdiv(p2,r);\n",
"[r2,q2]=pdiv(r,r1);\n",
"[r3,q3]=pdiv(r1,r2);\n",
"printf('\nEven part of P(s) = ((s^4)+(3*(s)^2)+12)');\n",
"printf('\nOdd part of P(s) = ((s^3)+(2*s))');\n",
"printf('\nQ(s)= m(s)/n(s)');\n",
"// values of quotients in continued fraction expansion\n",
"disp(q);\n",
"disp(q1);\n",
"disp(q2);\n",
"disp(q3);\n",
"printf('\nSince two quotient terms are negative, P(s) is  not hurwitz');"
   ]
   }
,
{
		   "cell_type": "markdown",
		   "metadata": {},
		   "source": [
			"## Example 12.5: Hurwitz_Polynomials.sce"
		   ]
		  },
  {
"cell_type": "code",
	   "execution_count": null,
	   "metadata": {
	    "collapsed": true
	   },
	   "outputs": [],
"source": [
"// Network Synthesis : example 12.5 : (pg 12.3 & 12.4)\n",
"s=poly(0,'s');\n",
"p1=((s^4)+(2*(s)^2)+2);\n",
"p2=((s^3)+(3*s));\n",
"[r,q]=pdiv(p1,p2);\n",
"[r1,q1]=pdiv(p2,r);\n",
"[r2,q2]=pdiv(r,r1);\n",
"[r3,q3]=pdiv(r1,r2);\n",
"printf('\nEven part of P(s) = ((s^4)+(2*(s)^2)+2)');\n",
"printf('\nOdd part of P(s) = (s^3)+(3s)');\n",
"printf('\nQ(s)= m(s)/n(s)');\n",
"// values of quotients in continued fraction expansion\n",
"disp(q);\n",
"disp(q1);\n",
"disp(q2);\n",
"disp(q3);\n",
"printf('\nSince two terms are negative, P(s) is  not hurwitz');"
   ]
   }
,
{
		   "cell_type": "markdown",
		   "metadata": {},
		   "source": [
			"## Example 12.6: Hurwitz_Polynomials.sce"
		   ]
		  },
  {
"cell_type": "code",
	   "execution_count": null,
	   "metadata": {
	    "collapsed": true
	   },
	   "outputs": [],
"source": [
"// Network Synthesis : example 12.6 : (pg 12.4)\n",
"s=poly(0,'s');\n",
"p1=((2*(s^4))+(6*(s)^2)+1);\n",
"p2=((5*(s^3))+(3*s));\n",
"[r,q]=pdiv(p1,p2);\n",
"[r1,q1]=pdiv(p2,r);\n",
"[r2,q2]=pdiv(r,r1);\n",
"[r3,q3]=pdiv(r1,r2);\n",
"printf('\nEven part of P(s) = ((2*s^4)+(6*(s)^2)+1)');\n",
"printf('\nOdd part of P(s) = ((5*s^3)+(3*s))');\n",
"printf('\nQ(s)= m(s)/n(s)');\n",
"// values of quotients in continued fraction expansion\n",
"disp(q);\n",
"disp(q1);\n",
"disp(q2);\n",
"disp(q3);\n",
"printf('\nSince all the quotient terms are positive, P(s) is hurwitz');"
   ]
   }
,
{
		   "cell_type": "markdown",
		   "metadata": {},
		   "source": [
			"## Example 12.7: Hurwitz_Polynomials.sce"
		   ]
		  },
  {
"cell_type": "code",
	   "execution_count": null,
	   "metadata": {
	    "collapsed": true
	   },
	   "outputs": [],
"source": [
"// Network Synthesis : example 12.7 : (pg 12.4 & 12.5)\n",
"s=poly(0,'s');\n",
"p1=((s^4)+(6*(s)^2)+8);\n",
"p2=(7*(s^3)+(21*s));\n",
"[r,q]=pdiv(p1,p2);\n",
"[r1,q1]=pdiv(p2,r);\n",
"[r2,q2]=pdiv(r,r1);\n",
"[r3,q3]=pdiv(r1,r2);\n",
"printf('\nEven part of P(s) = ((s^4)+(6*(s)^2)+8)');\n",
"printf('\nOdd part of P(s) = (7*(s^3)+(21*s))');\n",
"printf('\nQ(s)= m(s)/n(s)');\n",
"// values of quotients in continued fraction expansion\n",
"disp(q);\n",
"disp(q1);\n",
"disp(q2);\n",
"disp(q3);\n",
"printf('\nSince all the quotient terms are positive, P(s) is hurwitz');"
   ]
   }
,
{
		   "cell_type": "markdown",
		   "metadata": {},
		   "source": [
			"## Example 12.8: Hurwitz_Polynomials.sce"
		   ]
		  },
  {
"cell_type": "code",
	   "execution_count": null,
	   "metadata": {
	    "collapsed": true
	   },
	   "outputs": [],
"source": [
"// Network Synthesis : example 12.8 : (pg 12.5)\n",
"s=poly(0,'s');\n",
"p1=((s^4)+(5*(s)^2)+10);\n",
"p2=(5*(s^3)+(4*s));\n",
"[r,q]=pdiv(p1,p2);\n",
"[r1,q1]=pdiv(p2,r);\n",
"[r2,q2]=pdiv(r,r1);\n",
"[r3,q3]=pdiv(r1,r2);\n",
"printf('\nEven part of P(s) = ((s^4)+(5*(s)^2)+10)');\n",
"printf('\nOdd part of P(s) = (5*(s^3)+(4*s))');\n",
"printf('\nQ(s)= m(s)/n(s)');\n",
"// values of quotients in continued fraction expansion\n",
"disp(q);\n",
"disp(q1);\n",
"disp(q2);\n",
"disp(q3);\n",
"printf('\nSince two terms are negative, P(s) is not hurwitz');"
   ]
   }
,
{
		   "cell_type": "markdown",
		   "metadata": {},
		   "source": [
			"## Example 12.9: Hurwitz_Polynomials.sce"
		   ]
		  },
  {
"cell_type": "code",
	   "execution_count": null,
	   "metadata": {
	    "collapsed": true
	   },
	   "outputs": [],
"source": [
"// Network Synthesis : example 12.9 : (pg 12.6)\n",
"s=poly(0,'s');\n",
"p1=((s^5)+(3*(s^3))+(2*s));\n",
"p2=((5*(s^4))+9*(s^2)+2);\n",
"[r,q]=pdiv(p1,p2);\n",
"[r1,q1]=pdiv(p2,r);\n",
"[r2,q2]=pdiv(r,r1);\n",
"[r3,q3]=pdiv(r1,r2);\n",
"[r4,q4]=pdiv(r2,r3);\n",
"printf('\n P(s) = ((s^5)+(3*(s^3))+(2*s))');\n",
"printf('\n d/ds.P(s)= ((5*(s^4))+9*(s^2)+2)');\n",
"printf('\nQ(s)=P(s)/d/ds.P(s)');\n",
"// values of quotients in continued fraction expansion\n",
"disp(q);\n",
"disp(q1);\n",
"disp(q2);\n",
"disp(q3);\n",
"disp(q4);\n",
"printf('\nSince all the quotient terms are positive, P(s) is hurwitz');"
   ]
   }
],
"metadata": {
		  "kernelspec": {
		   "display_name": "Scilab",
		   "language": "scilab",
		   "name": "scilab"
		  },
		  "language_info": {
		   "file_extension": ".sce",
		   "help_links": [
			{
			 "text": "MetaKernel Magics",
			 "url": "https://github.com/calysto/metakernel/blob/master/metakernel/magics/README.md"
			}
		   ],
		   "mimetype": "text/x-octave",
		   "name": "scilab",
		   "version": "0.7.1"
		  }
		 },
		 "nbformat": 4,
		 "nbformat_minor": 0
}
