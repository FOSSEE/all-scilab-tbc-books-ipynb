{
"cells": [
 {
		   "cell_type": "markdown",
	   "metadata": {},
	   "source": [
       "# Chapter 5: Steady State AC Analysis"
	   ]
	},
{
		   "cell_type": "markdown",
		   "metadata": {},
		   "source": [
			"## Example 5.11: example11.sce"
		   ]
		  },
  {
"cell_type": "code",
	   "execution_count": null,
	   "metadata": {
	    "collapsed": true
	   },
	   "outputs": [],
"source": [
"//Steady-State AC Analysis\n",
"//page no - 5.10\n",
"//example 5.11\n",
"disp('when mag-50 ang-0 source is acting alone :');\n",
"function [A] = p2z(R,Theta)\n",
" if argn(2) <> 2 then\n",
"    error('incorrect number of arguments.');\n",
" end\n",
" if ~and(size(R) == size(Theta)) then\n",
"   error('arguments must be of the same dimension.');\n",
" end\n",
" A = R.*exp(%i*%pi*Theta/180.);\n",
"endfunction\n",
"A=p2z(50,0); //converting polar to rec\n",
"disp(A);\n",
"disp('when mag-4 ang-0 source is acting alone :');\n",
"Vab2=0;\n",
"disp('By Super-position theorem :')\n",
"disp('Vab=Vab1+Vab2');\n",
"Vab=A+Vab2;\n",
"printf('Vab = %.f', Vab);\n",
"function [r,th]=rect2pol(x,y)\n",
"//rectangle to polar coordinate conversion\n",
"//based on 'Scilab from a Matlab User's Point of View', Eike Rietsch,\n",
"2002\n",
"  r=sqrt(x^2+y^2);\n",
"  th = atan(y,x)*180/%pi;\n",
"endfunction\n",
"[r,th]=rect2pol(50,0)    //converting back to polar form\n",
"disp(r);\n",
"disp(th);\n",
"disp('Vab= mag-50 ang-0 V')"
   ]
   }
,
{
		   "cell_type": "markdown",
		   "metadata": {},
		   "source": [
			"## Example 5.1: example1.sce"
		   ]
		  },
  {
"cell_type": "code",
	   "execution_count": null,
	   "metadata": {
	    "collapsed": true
	   },
	   "outputs": [],
"source": [
"//Steady-State AC Analysis\n",
"//page no - 5.1\n",
"//example 5.1\n",
"// A = p2z(R,Theta) - Convert from polar to complex form.\n",
"//    R is a matrix containing the magnitudes\n",
"//    Theta is a matrix containing the phase angles (in degrees).\n",
"function [A] = p2z(R,Theta)\n",
" if argn(2) <> 2 then\n",
"    error('incorrect number of arguments.');\n",
" end\n",
" if ~and(size(R) == size(Theta)) then\n",
"   error('arguments must be of the same dimension.');\n",
" end\n",
" A = R.*exp(%i*%pi*Theta/180.);\n",
"endfunction\n",
"\n",
"A=p2z(100,45);//converting from polar to rectangular\n",
"disp(A);\n",
"disp('Applying KVL to Mesh 1 we get :');\n",
"disp('(3+j14)I1-j10I2=70.710678+j70.710678');//Equation 1\n",
"disp('Applying KVL to Mesh 2 we get :');\n",
"disp('I1=0')//equation 2\n",
"disp('putting equation 2 in equation 1:')//putting equation 2 in equation 1\n",
"disp('I2=(70.710678+j70.710678)/-j10');\n",
"I2=A/10*%i;\n",
"disp(I2);\n",
"function [r,th]=rect2pol(x,y)\n",
"//rectangle to polar coordinate conversion\n",
"//based on 'Scilab from a Matlab User's Point of View', Eike Rietsch,\n",
"2002\n",
"  r=sqrt(x^2+y^2);\n",
"  th = atan(y,x)*180/%pi;\n",
"endfunction\n",
"[r,th]=rect2pol(- 7.0710678,7.0710678)//converting back to polar form\n",
"disp(r);\n",
"disp(th);\n",
"disp('I2= mag - 10 ang - 135 A');"
   ]
   }
,
{
		   "cell_type": "markdown",
		   "metadata": {},
		   "source": [
			"## Example 5.2: example2.sce"
		   ]
		  },
  {
"cell_type": "code",
	   "execution_count": null,
	   "metadata": {
	    "collapsed": true
	   },
	   "outputs": [],
"source": [
"//Steady-State AC Analysis\n",
"//page no - 5.1\n",
"//example 5.1\n",
"// A = p2z(R,Theta) - Convert from polar to complex form.\n",
"//    R is a matrix containing the magnitudes\n",
"//    Theta is a matrix containing the phase angles (in degrees).\n",
"function [A] = p2z(R,Theta)\n",
" if argn(2) <> 2 then\n",
"    error('incorrect number of arguments.');\n",
" end\n",
" if ~and(size(R) == size(Theta)) then\n",
"   error('arguments must be of the same dimension.');\n",
" end\n",
" A = R.*exp(%i*%pi*Theta/180.);\n",
"endfunction\n",
"A=p2z(10,30);\n",
"disp(A);   //converting to rectangular form\n",
"M=[8-2*%i, -3, 0; -3, 8+5*%i, -5; 0, -5 7-2*%i];\n",
"N=[A, 0, 0]'\n",
"O=inv(M);\n",
"X=O*N;\n",
"disp(X);\n",
"function [r,th]=rect2pol(x,y)\n",
"//rectangle to polar coordinate conversion\n",
"//based on 'Scilab from a Matlab User's Point of View', Eike Rietsch,\n",
"2002\n",
"  r=sqrt(x^2+y^2);\n",
"  th = atan(y,x)*180/%pi;\n",
"endfunction\n",
"[r,th]=rect2pol(1.3340761,- 0.5209699)//converting back to polar form\n",
""
   ]
   }
],
"metadata": {
		  "kernelspec": {
		   "display_name": "Scilab",
		   "language": "scilab",
		   "name": "scilab"
		  },
		  "language_info": {
		   "file_extension": ".sce",
		   "help_links": [
			{
			 "text": "MetaKernel Magics",
			 "url": "https://github.com/calysto/metakernel/blob/master/metakernel/magics/README.md"
			}
		   ],
		   "mimetype": "text/x-octave",
		   "name": "scilab",
		   "version": "0.7.1"
		  }
		 },
		 "nbformat": 4,
		 "nbformat_minor": 0
}
