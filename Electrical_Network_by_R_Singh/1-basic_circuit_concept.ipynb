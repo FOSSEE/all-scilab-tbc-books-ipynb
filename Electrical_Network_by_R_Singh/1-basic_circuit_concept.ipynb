{
"cells": [
 {
		   "cell_type": "markdown",
	   "metadata": {},
	   "source": [
       "# Chapter 1: basic circuit concept"
	   ]
	},
{
		   "cell_type": "markdown",
		   "metadata": {},
		   "source": [
			"## Example 1.12: example12.sce"
		   ]
		  },
  {
"cell_type": "code",
	   "execution_count": null,
	   "metadata": {
	    "collapsed": true
	   },
	   "outputs": [],
"source": [
"//Basic Circuit Concepts\n",
"//page no-1.17\n",
"//example1.12\n",
"disp('Applying KVL to the circuit :');\n",
"disp('50 - 5*I - 1.2*I - 16 = 0')\n",
"I=(50-16)/6.2;\n",
"printf('I= %.2f Amp', I);\n",
"P=50*I;\n",
"printf('\nPower delivered 50 V source = 50 * 5.48= %.2f W', P);"
   ]
   }
,
{
		   "cell_type": "markdown",
		   "metadata": {},
		   "source": [
			"## Example 1.13: example13.sce"
		   ]
		  },
  {
"cell_type": "code",
	   "execution_count": null,
	   "metadata": {
	    "collapsed": true
	   },
	   "outputs": [],
"source": [
"//Basic Circuit Concepts\n",
"//page no-1.18\n",
"//example1.13\n",
"disp('By Current Division formula ;');\n",
"I4=4*(2/(2+4));\n",
"printf('I4 = 4 * (2/(2+4)) = %.2f Amp', I4);"
   ]
   }
,
{
		   "cell_type": "markdown",
		   "metadata": {},
		   "source": [
			"## Example 1.14: example14.sce"
		   ]
		  },
  {
"cell_type": "code",
	   "execution_count": null,
	   "metadata": {
	    "collapsed": true
	   },
	   "outputs": [],
"source": [
"//Basic Circuit Concepts\n",
"//page no-1.19\n",
"//example1.14\n",
"disp('Applying KVL to the mesh');\n",
"disp('15 - 50*I - 50*I - 5*I');\n",
"I=15/105;\n",
"printf('I=15/105 = %.2f Amp', I);\n",
"V=15-(50*0.143);\n",
"printf('\nVoltage at node 2 = 15 - 50*I = %.2f Volt', V);"
   ]
   }
,
{
		   "cell_type": "markdown",
		   "metadata": {},
		   "source": [
			"## Example 1.15: example15.sce"
		   ]
		  },
  {
"cell_type": "code",
	   "execution_count": null,
	   "metadata": {
	    "collapsed": true
	   },
	   "outputs": [],
"source": [
"//Basic Circuit Concepts\n",
"//pg no.-1.20\n",
"//example 1.15\n",
"r1=3;\n",
"r2=2.33;\n",
"r3=6;\n",
"v1=18;\n",
"v2=5.985;\n",
"mprintf('\nApplying KCL at the node, \n(Va-18)/3+(Va-5.985)/2.33+Va/6 = 0');\n",
"Va=((v1*r2*r3)+(v2*r1*r3))/((r2*r3)+(r1*r3)+(r1*r2));\n",
"printf('\nSolving the equation,we get, \nVa = %.2f V',Va);"
   ]
   }
,
{
		   "cell_type": "markdown",
		   "metadata": {},
		   "source": [
			"## Example 1.1: example1.sce"
		   ]
		  },
  {
"cell_type": "code",
	   "execution_count": null,
	   "metadata": {
	    "collapsed": true
	   },
	   "outputs": [],
"source": [
"//Basic Circuit Concepts\n",
"//page no-1.9\n",
"//example1.1\n",
"disp('Current through 15Ohm resistor is given by:');\n",
"disp('I1=30/15');\n",
"I1=30/15\n",
"printf('current through 15Ohm resistor = %.2f Ampere', I1)\n",
"disp('Current through 5Ohm resistor is given by:')\n",
"disp('I2=5+2');\n",
"I2=5+2\n",
"printf('current through 5ohm resistor = %.2f Ampere', I2)\n",
"disp('R=100-30-5*I2/I1');\n",
"R=(100-30-5*I2)/I1\n",
"printf('R = %.2f Ohm', R);"
   ]
   }
,
{
		   "cell_type": "markdown",
		   "metadata": {},
		   "source": [
			"## Example 1.2: example2.sce"
		   ]
		  },
  {
"cell_type": "code",
	   "execution_count": null,
	   "metadata": {
	    "collapsed": true
	   },
	   "outputs": [],
"source": [
"//Basic Circuit Concepts\n",
"//page no-1.10\n",
"//example1.2\n",
"disp('from the given fig:')\n",
"disp('I2-I3=13');\n",
"disp('-20*I1+8*I2=0');\n",
"disp('-12*I1-16*I3=0');\n",
"//solving these equations in the matrix form\n",
"A=[0 1 -1;-20 8 0;-12 0 -16]\n",
"B=[13 0 0]'\n",
"disp('A=')\n",
"disp(A)\n",
"disp('B=')\n",
"disp(B)\n",
"X=inv(A)*B\n",
"disp('X=')\n",
"disp(X)\n",
"disp('I1 = 4Ampere')\n",
"disp('I2 = 10Ampere')\n",
"disp('I3 = -3Ampere')"
   ]
   }
,
{
		   "cell_type": "markdown",
		   "metadata": {},
		   "source": [
			"## Example 1.3: example3.sce"
		   ]
		  },
  {
"cell_type": "code",
	   "execution_count": null,
	   "metadata": {
	    "collapsed": true
	   },
	   "outputs": [],
"source": [
"//Basic Circuit Concepts\n",
"//pg no-1.11\n",
"//example 1.3\n",
"disp('Iaf=x')\n",
"disp('Ife=x-30')\n",
"disp('Ied=x+40')\n",
"disp('Idc=x-80')\n",
"disp('Icb=x-20')\n",
"disp('Iba=x-80')\n",
"disp('Applying KVL to the closed path AFEDCBA:')//Applying KVL to the path AFEDCBA\n",
"disp('x=4.1/0.1')\n",
"x=4.1/0.1;\n",
"Iaf=x;\n",
"printf('\nIaf = %.2f Ampere', Iaf);\n",
"Ife=x-30\n",
"printf('\nIfe = %.2f Ampere', Ife);\n",
"Ied=x+40;\n",
"printf('\nIed = %.2f Ampere', Ied);\n",
"Idc=x-80;\n",
"printf('\nIdc = %.2f Ampere', Idc);\n",
"Icb=x-20;\n",
"printf('\nIcb = %.2f Ampere', Icb);\n",
"Iba=x-80;\n",
"printf('\nIba = %.2f Ampere', Iba);"
   ]
   }
,
{
		   "cell_type": "markdown",
		   "metadata": {},
		   "source": [
			"## Example 1.4: example4.sce"
		   ]
		  },
  {
"cell_type": "code",
	   "execution_count": null,
	   "metadata": {
	    "collapsed": true
	   },
	   "outputs": [],
"source": [
"//Basic Circuit Concepts\n",
"//pg no- 1.12\n",
"//example 1.4\n",
"disp('Applying KVL to the closed path OBAO');//Applying KVL to the closed path OBAO\n",
"disp('3*x-3*y=2');\n",
"disp('Applying KVL to the closed path ABCA');//Applying KVL to the closed path ABCA\n",
"disp('9*x+12*y=4');\n",
"a=[3 -3;9 12];\n",
"b=[2 4]'\n",
"disp('a=')\n",
"disp(a)\n",
"disp('b=')\n",
"disp(b)\n",
"X=inv(a)*b;\n",
"disp(X)\n",
"disp('x=0.5714286 Ampere');\n",
"disp('y=-0.095238 Ampere');\n",
"disp('Ioa=0.57A')\n",
"disp('Iob=1-0.57')\n",
"Iob=1-0.57;\n",
"printf('\nIob = %2f A', Iob);\n",
"disp('Iab = 0.095');\n",
"Iac=0.57-0.095;\n",
"printf('\nIac = %2f A', Iac);\n",
"disp('Iab=1-0.57 + 0.095')\n",
"Iab=1-0.57 + 0.095;\n",
"printf('\nIob = %2f A', Iab) "
   ]
   }
,
{
		   "cell_type": "markdown",
		   "metadata": {},
		   "source": [
			"## Example 1.5: example5.sce"
		   ]
		  },
  {
"cell_type": "code",
	   "execution_count": null,
	   "metadata": {
	    "collapsed": true
	   },
	   "outputs": [],
"source": [
"//Basic Circuit Concepts\n",
"//pg no-1.12\n",
"//example 1.5\n",
"I1=2/5;\n",
"printf('I1=2/5= %2f Ampere', I1)\n",
"I2=4/8;\n",
"printf('\nI2=4/8= %2f Ampere', I2)\n",
"printf('\nPotential difference between points x and y = Vxy = Vx-Vy')\n",
"printf('\nWriting KVL equations for the path x to y')//Writing KVL equation from x to y\n",
"printf('\nVs+3*I1+4-3*I2-Vy=0')\n",
"printf('\nVs+3*(0.4) + 4- 3*(0.5) -Vy = 0')\n",
"printf('\nVs+3*I1+4-3*I2-Vy = 0')\n",
"printf('\nVx-Vy = -3.7')\n",
"printf('\nVxy = -3.7V')"
   ]
   }
,
{
		   "cell_type": "markdown",
		   "metadata": {},
		   "source": [
			"## Example 1.6: example6.sce"
		   ]
		  },
  {
"cell_type": "code",
	   "execution_count": null,
	   "metadata": {
	    "collapsed": true
	   },
	   "outputs": [],
"source": [
"//Basic Circuit Concepts\n",
"//pg no-1.13\n",
"//example 1.6\n",
"I1=20/15;\n",
"printf('I1=2/5= %2f Ampere', I1)\n",
"I2=15/10;\n",
"printf('\nI2=4/8= %2f Ampere', I2)\n",
"disp('Voltage between points A and B = VAB = VA-VB');\n",
"disp('Writing KVL equations for the path A to B:');//Writing KVL equations for the path A to B\n",
"disp('VA - 5*I1 - 5 - 15 + 6*I2 - VB = 0');\n",
"disp('VA - VB = 5*1.33 + 5 + 15 + 6*1.5');\n",
"VAB=(5*1.33)+5+15-(6*1.5);\n",
"printf('VAB = %.2f Volt', VAB)"
   ]
   }
,
{
		   "cell_type": "markdown",
		   "metadata": {},
		   "source": [
			"## Example 1.7: example7.sce"
		   ]
		  },
  {
"cell_type": "code",
	   "execution_count": null,
	   "metadata": {
	    "collapsed": true
	   },
	   "outputs": [],
"source": [
"//Basic Circuit Concepts\n",
"//page no-1.13\n",
"//example1.7\n",
"I1=5/2;\n",
"printf('I1=2/5= %2f Ampere', I1)\n",
"I2=2;\n",
"printf('\nI2=4/8= %2f Ampere', I2)\n",
"disp('Potential difference VAB = VA - VB');\n",
"disp('Writing KVL equations for path A to B')  //Writing KVL equations for path A to B\n",
"disp('VA - 2*I1 + 8 - 5*I2 - VB = 0');\n",
"disp('VA - VB = (2*2.5) - 8 5 + (5*2)');\n",
"VAB=(2*2.5)-8+(5*2)\n",
"printf('VAB = %.2f Volt', VAB);"
   ]
   }
,
{
		   "cell_type": "markdown",
		   "metadata": {},
		   "source": [
			"## Example 1.8: example8.sce"
		   ]
		  },
  {
"cell_type": "code",
	   "execution_count": null,
	   "metadata": {
	    "collapsed": true
	   },
	   "outputs": [],
"source": [
"//Basic Circuit Concepts\n",
"//page no-1.14\n",
"//example1.8\n",
"I1=10/8;\n",
"printf('I1=2/5= %2f Ampere', I1)\n",
"I2=5;\n",
"printf('\nI2=4/8= %2f Ampere', I2)\n",
"disp('Applying KVL to the path from A to B')  //Applying KVL to the path from A to B\n",
"disp('VA - 3*I1 - 8 + 3*I2 - VB = 0');\n",
"disp('VA - VB = 3*1.25 + 8 - 3*5')\n",
"VAB= (3*1.25)+8-(3*5);\n",
"printf('VAB = %.2f Volt', VAB);"
   ]
   }
],
"metadata": {
		  "kernelspec": {
		   "display_name": "Scilab",
		   "language": "scilab",
		   "name": "scilab"
		  },
		  "language_info": {
		   "file_extension": ".sce",
		   "help_links": [
			{
			 "text": "MetaKernel Magics",
			 "url": "https://github.com/calysto/metakernel/blob/master/metakernel/magics/README.md"
			}
		   ],
		   "mimetype": "text/x-octave",
		   "name": "scilab",
		   "version": "0.7.1"
		  }
		 },
		 "nbformat": 4,
		 "nbformat_minor": 0
}
