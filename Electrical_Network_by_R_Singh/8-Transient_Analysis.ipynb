{
"cells": [
 {
		   "cell_type": "markdown",
	   "metadata": {},
	   "source": [
       "# Chapter 8: Transient Analysis"
	   ]
	},
{
		   "cell_type": "markdown",
		   "metadata": {},
		   "source": [
			"## Example 8.13: example13.sce"
		   ]
		  },
  {
"cell_type": "code",
	   "execution_count": null,
	   "metadata": {
	    "collapsed": true
	   },
	   "outputs": [],
"source": [
"//Transient analysis\n",
"//pg no - 8.17\n",
"//example no - 8.13\n",
"a=((10*30)/(10+30));\n",
"d=5/a;\n",
"b=0;\n",
"c=5*(20/30);\n",
"printf('iL(0-) = %.2f A', d);\n",
"printf('\nvb(0-) = %.f', b);\n",
"printf('\nva(0-) = %.2f V', c);\n",
"disp('Applying Kcl equations at t=0+');\n",
"disp('((va(0+)-5)/10)+(va(0+)/10)+(va(0+)-vb(0+))/20 = 0');        //equation 1\n",
"disp('((vb(0+)-va(0+))/20)+((vb(0+)-5)/10)+(2/3) = 0');            //equation 2\n",
"//solving 1 and 2\n",
"M=[0.25, -0.05; -0.05, 0.15];\n",
"N=[0.5, -0.167]';\n",
"O=inv(M);\n",
"X=O*N;\n",
"disp(X);\n",
"disp('va(0+)= 1.9 A');\n",
"disp('vb(0+)= -0.477 A');"
   ]
   }
,
{
		   "cell_type": "markdown",
		   "metadata": {},
		   "source": [
			"## Example 8.14: example14.sce"
		   ]
		  },
  {
"cell_type": "code",
	   "execution_count": null,
	   "metadata": {
	    "collapsed": true
	   },
	   "outputs": [],
"source": [
"//Transient analysis\n",
"//pg no - 8.17\n",
"//example no - 8.13\n",
"disp('va(0+) = 5V');\n",
"disp('vb(0+) = 5V');\n",
"disp('vb(0+) = 5V');\n",
"disp('Writing KCL Equation at t=0+');\n",
"disp('0.25*va(0+) = 0.75');\n",
"x=(0.75)/(0.25);\n",
"printf('va(0+) = %.f V', x);"
   ]
   }
],
"metadata": {
		  "kernelspec": {
		   "display_name": "Scilab",
		   "language": "scilab",
		   "name": "scilab"
		  },
		  "language_info": {
		   "file_extension": ".sce",
		   "help_links": [
			{
			 "text": "MetaKernel Magics",
			 "url": "https://github.com/calysto/metakernel/blob/master/metakernel/magics/README.md"
			}
		   ],
		   "mimetype": "text/x-octave",
		   "name": "scilab",
		   "version": "0.7.1"
		  }
		 },
		 "nbformat": 4,
		 "nbformat_minor": 0
}
