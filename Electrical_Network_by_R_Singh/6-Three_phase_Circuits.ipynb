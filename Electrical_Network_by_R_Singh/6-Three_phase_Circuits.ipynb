{
"cells": [
 {
		   "cell_type": "markdown",
	   "metadata": {},
	   "source": [
       "# Chapter 6: Three phase Circuits"
	   ]
	},
{
		   "cell_type": "markdown",
		   "metadata": {},
		   "source": [
			"## Example 6.10: Interconnection_of_Three_phases.sce"
		   ]
		  },
  {
"cell_type": "code",
	   "execution_count": null,
	   "metadata": {
	    "collapsed": true
	   },
	   "outputs": [],
"source": [
"// Three-Phase Circuits :example 6.10 :(pg 6.16)\n",
"P=1500*10^3;\n",
"pf=0.85;\n",
"VL=2.2*10^3;\n",
"phi=acosd(pf);\n",
"IL=P/(sqrt(3)*VL*pf);\n",
"Iph=IL/sqrt(3);\n",
"AC=Iph*pf;\n",
"RC=Iph*sind(phi);\n",
"IAC=IL*pf;\n",
"IRC=IL*sind(phi);\n",
"printf('\nP=1500kW \npf=0.85 (lagging) \nVL=2.2kV');\n",
"//For Delta-connected load\n",
"printf('\nP=sqrt(3)*VL*IL*cos(phi) \nIL=%.2f A',IL);\n",
"printf('\nIph=IL/sqrt(3)= %.2f A',Iph);\n",
"//AC=Active Component\n",
"printf('\nAC=Iph*cos(phi) =%.2f A',AC); //in each phase of load\n",
"//RC=Reactive Component\n",
"printf('\nRC=Iph*sin(phi) =%.2f A',RC); //in each phase of load\n",
"//For star-connected source\n",
"printf('\nIAC =%.2f A',IAC); // current of AC in each phase of source\n",
"printf('\nIRC =%.2f A',IRC); // current of RC in each phase of source"
   ]
   }
,
{
		   "cell_type": "markdown",
		   "metadata": {},
		   "source": [
			"## Example 6.11: Interconnection_of_Three_phases.sce"
		   ]
		  },
  {
"cell_type": "code",
	   "execution_count": null,
	   "metadata": {
	    "collapsed": true
	   },
	   "outputs": [],
"source": [
"// Three-Phase Circuits :example 6.11 :(pg 6.16)\n",
"VL=208;\n",
"P=1800;\n",
"IL=10;\n",
"Vph=VL/sqrt(3);\n",
"Zph=(Vph/IL);\n",
"pf=P/(sqrt(3)*VL*IL);\n",
"phi=acosd(pf);\n",
"Rph=Zph*pf;\n",
"Xph=Zph*sind(phi);\n",
"printf('\nVL=208 V \nP=1800 W \nIL= 10 A');\n",
"//For a Wye-connected load,\n",
"printf('\nVph = VL/sqrt(3) =%.2f V',Vph);\n",
"printf('\nIph = IL =%.f A',IL);\n",
"printf('\nZph=Vph/Iph =%.2f Ohm',Zph);\n",
"printf('\nP=sqrt(3)*VL*IL*cos(phi)');\n",
"printf('\ncos(phi)=%.1f degrees',pf);\n",
"printf('\nphi=%.f degrees',phi);\n",
"printf('\nRph=Zph*cos(phi) =%.2f Ohm',Rph);\n",
"printf('\nXph=Zph*sin(phi) =%.2f Ohm',Xph);"
   ]
   }
,
{
		   "cell_type": "markdown",
		   "metadata": {},
		   "source": [
			"## Example 6.12: Interconnection_of_Three_phases.sce"
		   ]
		  },
  {
"cell_type": "code",
	   "execution_count": null,
	   "metadata": {
	    "collapsed": true
	   },
	   "outputs": [],
"source": [
"// Three-Phase Circuits :example 6.12 :(pg 6.17)\n",
"P=100*10^3;\n",
"IL=80;\n",
"VL=1100;\n",
"f=50;\n",
"Vph=(VL/sqrt(3));\n",
"Iph=IL;\n",
"Zph=(Vph/Iph);\n",
"pf=(P/(sqrt(3)*VL*IL));\n",
"phi=acosd(pf);\n",
"Rph=Zph*pf;\n",
"Xph=Zph*sind(phi);\n",
"C=(1/(2*%pi*f*Xph));\n",
"printf('\nP=100kW \nIL=80 A \nVL=1100 V \nf=50 Hz');\n",
"//For a star-connected load\n",
"printf('\nVph =V/sqrt(3) =%.2f',Vph);\n",
"printf('\nIph=IL =%.f A',Iph);\n",
"printf('\nZph=(Vph/Iph)= %.2f Ohm',Zph);\n",
"printf('\nP=sqrt(3)*VL*IL*cos(phi)');\n",
"printf('\ncos(phi)=%.3f (leading)',pf);\n",
"printf('\nphi=%.f degrees',phi);\n",
"printf('\nRph=Zph*cos(phi) =%.2f Ohm',Rph);\n",
"printf('\nXph =Zph*sin(phi) =%.f Ohm',Xph);\n",
"// as current is leading,reactance will be capacitive in nature\n",
"printf('\nXC=(1/2*pi*C)');\n",
"printf('\nC=%.e F',C);\n",
""
   ]
   }
,
{
		   "cell_type": "markdown",
		   "metadata": {},
		   "source": [
			"## Example 6.13: Interconnection_of_Three_phases.sce"
		   ]
		  },
  {
"cell_type": "code",
	   "execution_count": null,
	   "metadata": {
	    "collapsed": true
	   },
	   "outputs": [],
"source": [
"// Three-Phase Circuits :example 6.13 :(pg 6.17 & 6.18)\n",
"VL=400;\n",
"IL=34.65;\n",
"P=14.4*10^3;\n",
"Iph=(IL/sqrt(3));\n",
"Zph=(VL/Iph);\n",
"pf=(P/(sqrt(3)*VL*IL));\n",
"phi=acosd(pf);\n",
"Rph=(Zph*pf);\n",
"Xph=(Zph*sind(phi));\n",
"printf('\nVL=400 V \nIL=34.65 A \nP=14.4kW');\n",
"//For a Delta-connected load\n",
"printf('\nVL=Vph=%.f V',VL);\n",
"printf('\nIph=IL/sqrt(3)=%.f A',Iph);\n",
"printf('\nZph=Vph/Iph =%.f Ohm',Zph);\n",
"printf('\ncos(phi)=P/sqrt(3).VL.IL =%.1f',pf);\n",
"printf('\nphi=%.2f degrees',phi);\n",
"printf('\nRph=Zph.cos(phi) =%.f Ohm',Rph);\n",
"printf('\nXph=Zph.sin(phi)=%.f Ohm',Xph);"
   ]
   }
,
{
		   "cell_type": "markdown",
		   "metadata": {},
		   "source": [
			"## Example 6.14: Interconnection_of_Three_phases.sce"
		   ]
		  },
  {
"cell_type": "code",
	   "execution_count": null,
	   "metadata": {
	    "collapsed": true
	   },
	   "outputs": [],
"source": [
"// Three-Phase Circuits :example 6.14 :(pg 6.18)\n",
"P=10.44*10^3;\n",
"VL=200;\n",
"pf=0.5;\n",
"x=acosd(pf);\n",
"IL=(P/(sqrt(3)*VL*pf));\n",
"Iph=(IL/sqrt(3));\n",
"Zph=(VL/Iph);\n",
"Rph=(Zph*pf);\n",
"Xph=(Zph*sind(x));\n",
"Q=(sqrt(3)*VL*IL*sind(x));\n",
"printf('\nP=10.44kW \nVL=200 V \npf=0.5(leading)');\n",
"// For a delta-connected load,\n",
"printf('\nVL=Vph=%.f V',VL);\n",
"printf('\nP=qrt(3)*VL*IL*cos(phi) \nIL=%.2f A',IL);\n",
"printf('\nIph=IL/sqrt(3) =%.1f A',Iph);\n",
"printf('\nZph=Vph/Iph =%.2f Ohm',Zph);\n",
"printf('\nRph =Zph.cos(phi)=%.3f Ohm',Rph);\n",
"printf('\nXph=Zph.sin(phi)=%.2f Ohm',Xph);\n",
"printf('\nQ=sqrt(3)*VL*IL*sin(phi) = %.2f VAR',Q);"
   ]
   }
,
{
		   "cell_type": "markdown",
		   "metadata": {},
		   "source": [
			"## Example 6.17: Interconnection_of_Three_phases.sce"
		   ]
		  },
  {
"cell_type": "code",
	   "execution_count": null,
	   "metadata": {
	    "collapsed": true
	   },
	   "outputs": [],
"source": [
"// Three-Phase Circuits :example 6.17 :(pg 6.20)\n",
"Po=200*10^3;\n",
"f=50;\n",
"VL=440;\n",
"N=0.91;\n",
"pf=0.86;\n",
"phi=acosd(pf);\n",
"Pi=(Po/N);\n",
"IL=(Pi/(sqrt(3)*VL*pf));\n",
"Iph=(IL/sqrt(3));\n",
"AC=(Iph*pf);\n",
"RC=(Iph*sind(phi));\n",
"printf('\nPo=200 kW \nf=50Hz \nVL= 440 V \nN=0.91 \npf=0.86');\n",
"//For a delta connected load (induction motor)\n",
"printf('\nVph =VL =%.f V',VL);\n",
"printf('\nN=(Po/Pi)');//efficiency\n",
"printf('\nPi=%.f W',Pi);//Input power\n",
"printf('\nPi=sqrt(3)*VL*IL*cos(phi) \nIL=%.1f A',IL);\n",
"printf('\nAC = (Iph*cos(phi))=%.1f A',AC);//Active component of phase current\n",
"printf('\nRC=(Iph*sin(phi)) =%.1f A',RC);//Reactive component of phase current"
   ]
   }
,
{
		   "cell_type": "markdown",
		   "metadata": {},
		   "source": [
			"## Example 6.18: Interconnection_of_Three_phases.sce"
		   ]
		  },
  {
"cell_type": "code",
	   "execution_count": null,
	   "metadata": {
	    "collapsed": true
	   },
	   "outputs": [],
"source": [
"// Three-Phase Circuits :example 6.18 :(pg 6.20)\n",
"VL=400;\n",
"Po=112*10^3;\n",
"pf=0.86;\n",
"phi=(acosd(pf));\n",
"N=0.88; //Efficiency\n",
"Pi=(Po/N);\n",
"IL=(Pi/(sqrt(3)*VL*pf));\n",
"Iph=(IL/sqrt(3));\n",
"AC=(Iph*pf);\n",
"RC=(Iph*sind(phi));\n",
"Aac=(IL*pf);\n",
"Arc=(IL*sind(phi));\n",
"printf('\nVL=400 V \nPo=112kW \npf=0.86 \nN=0.88');\n",
"//For a mesh-connected load (induction motor)\n",
"printf('\nVph=VL=%.f V',VL);\n",
"printf('\nN=Po/Pi  \nPi=%.2f W',Pi);//Input power\n",
"printf('\nPi=sqrt(3)*VL*IL*cos(phi) \nIL=%.1f A',IL);\n",
"printf('\nIph=IL/sqrt(3) =%.2f A',Iph);\n",
"//current in star-connected load=line current drawn by motor\n",
"printf('\nIA=%.1f A',IL);//current in alternate phase\n",
"printf('\nAC=Iph*cos(phi) =%.2f A',AC);//active component in each phase of motor\n",
"printf('\nRC=Iph*sin(phi) =%.2f A',RC);//Reactive component in each phase of motor\n",
"printf('\nAac=%.1f A',Aac);//active component in each alternate phase\n",
"printf('\nArc=%.2f A',Arc);//reactive component in each alternate phase\n",
""
   ]
   }
,
{
		   "cell_type": "markdown",
		   "metadata": {},
		   "source": [
			"## Example 6.19: Interconnection_of_Three_phases.sce"
		   ]
		  },
  {
"cell_type": "code",
	   "execution_count": null,
	   "metadata": {
	    "collapsed": true
	   },
	   "outputs": [],
"source": [
"// Three-Phase Circuits :example 6.19 :(pg 6.21 & 6.22)\n",
"VL=400;\n",
"IL=5;\n",
"Vph=(VL/sqrt(3));\n",
"Zph=(Vph/IL);\n",
"Iph=(IL/sqrt(3));\n",
"Vph1=(Iph*Zph);\n",
"printf('\nVl=400 V \nIL=5 A');\n",
"//For a star-connected load\n",
"printf('\nVph=VL/sqrt(3) =%.2f V',Vph);\n",
"printf('\nIph=IL=%.f A',IL);\n",
"printf('\nZph=Rph=Vph/Iph =%.2f Ohm',Zph);\n",
"//For a delta connected load\n",
"printf('\nIL=5 A \nRph=%.2f Ohm',Zph);\n",
"printf('\nIph=IL/sqrt(3)=%.2f A',Iph);\n",
"printf('\nVph=Iph*Rph \n=%.2f V',Vph1);\n",
"//Voltage needed is 1/3 of the star value\n",
"\n",
"\n",
"\n",
"\n",
"\n",
"\n",
"\n",
"\n",
"\n",
"\n",
"\n",
"\n",
""
   ]
   }
,
{
		   "cell_type": "markdown",
		   "metadata": {},
		   "source": [
			"## Example 6.20: Interconnection_of_Three_phases.sce"
		   ]
		  },
  {
"cell_type": "code",
	   "execution_count": null,
	   "metadata": {
	    "collapsed": true
	   },
	   "outputs": [],
"source": [
"// Three-Phase Circuits :example 6.20 :(pg 6.22 & 6.23)\n",
"VL=400;\n",
"Zph=100;\n",
"Vph=(VL/sqrt(3));\n",
"Iph=(Vph/Zph);\n",
"pf=1;\n",
"P=(sqrt(3)*VL*Iph*pf);\n",
"Iph1=(VL/Zph);\n",
"IL1=(sqrt(3)*Iph1);\n",
"P1=(sqrt(3)*VL*IL1*pf);\n",
"I1=(VL/200);\n",
"Pa=(VL*I1);\n",
"I2=(VL/100);\n",
"Pb=(VL*I1*I2);\n",
"printf('\nVL=400 V \nZph = 100 Ohm');\n",
"//For a star connected load\n",
"printf('\nVph=VL/sqrt(3) =%.2f V',Vph);\n",
"printf('\nIph = VL/Zph =%.2f A',Iph);\n",
"printf('\nIL=Iph =%.2f A',Iph);\n",
"printf('\ncos(phi)=1 \nP=sqrt(3).VL.IL.cos(phi) =%.2f W',P);\n",
"//For a delta connected load\n",
"printf('\nVph=VL=%.f V',VL);\n",
"printf('\nIph=Vph/Zph =%.f A',Iph1);\n",
"printf('\nIL=sqrt(3)*Iph =%.2f A',IL1);\n",
"printf('\nP=sqrt(3)*VL*IL*cos(phi) =%.2f W',P1);\n",
"//When resistors are open circuited\n",
"//(i)Star connection\n",
"printf('\nI= %.f A',I1);//Current in lines\n",
"printf('\nP=%.f W',Pa);//Power taken from mains\n",
"//(ii)Delta connection\n",
"printf('\nI=%.f A',I2);//Current in each phase\n",
"printf('\nP=%.f W',Pb);//Power taken from mains"
   ]
   }
,
{
		   "cell_type": "markdown",
		   "metadata": {},
		   "source": [
			"## Example 6.27: Measurement_of_three_phase_power.sce"
		   ]
		  },
  {
"cell_type": "code",
	   "execution_count": null,
	   "metadata": {
	    "collapsed": true
	   },
	   "outputs": [],
"source": [
"// Three-Phase Circuits :example 6.27 :(pg 6.30 & 6.31)\n",
"W1=2000;\n",
"W2=500;\n",
"W3=-500;\n",
"x=(sqrt(3)*((W1-W2)/(W1+W2)));\n",
"phi=atand(x);\n",
"pf=cosd(phi);\n",
"y=(sqrt(3)*((W1-W3)/(W1+W3)));\n",
"phi1=atand(y);\n",
"pf1=cosd(phi1);\n",
"printf('\nW1 = 2000W \nW2 = 500 W');\n",
"//(i) When both readings are same\n",
"printf('\nWhen W1 &W2 are same \nW1 = 2000W \nW2 = 500 W');\n",
"printf('\ntan(phi)= sqrt(3).(W1-W2/W1+W2) =%.3f ',x);\n",
"printf('\nphi=%.3f degrees',phi);\n",
"printf('\npf=cos(phi)=%.3f ',pf);//Power factor\n",
"//(ii) When the latter reading is obtained after reversing the connection to the current coil of 1 instrument\n",
"printf('\nWhen W2 is reversed \nW1= 2000 W \nW2= -500 W');\n",
"printf('\ntan(phi)= sqrt(3).(W1-W2/W1+W2) =%.3f ',y);\n",
"printf('\nphi=%.2f degrees',phi1);\n",
"printf('\npf=cos(phi)=%.2f ',pf1);//Power factor"
   ]
   }
,
{
		   "cell_type": "markdown",
		   "metadata": {},
		   "source": [
			"## Example 6.28: Measurement_of_three_phase_power.sce"
		   ]
		  },
  {
"cell_type": "code",
	   "execution_count": null,
	   "metadata": {
	    "collapsed": true
	   },
	   "outputs": [],
"source": [
"// Three-Phase Circuits :example 6.28 :(pg 6.31)\n",
"W1=5*10^3;\n",
"W2=-(0.5*10^3);\n",
"P=(W1+W2);\n",
"x=(sqrt(3)*((W1-W2)/(W1+W2)));\n",
"phi=atand(x);\n",
"pf=cosd(phi);\n",
"printf('\nW1=5kW \W2=0.5kW');\n",
"// When the latter readings are obtained after the reversal of the current coil terminals of the wattmeter\n",
"printf('\nWhen W2 is reversed \nW1=5kW \nW2=-0.5kW');\n",
"printf('\nP=W1+W2 = %.1f W',P);//Power\n",
"printf('\ntan(phi)=sqrt(3)*(W1-W2/W1+W2) =%.2f',x);\n",
"printf('\nphi= %.2f degrees ',phi);\n",
"printf('\npf=cos(phi) =%.2f',pf);//Power factor"
   ]
   }
,
{
		   "cell_type": "markdown",
		   "metadata": {},
		   "source": [
			"## Example 6.29: Measurement_of_three_phase_power.sce"
		   ]
		  },
  {
"cell_type": "code",
	   "execution_count": null,
	   "metadata": {
	    "collapsed": true
	   },
	   "outputs": [],
"source": [
"// Three-Phase Circuits :example 6.29 :(pg 6.31)\n",
"S=10*10^3;\n",
"pf=0.342;\n",
"x=(S/sqrt(3));\n",
"phi=acosd(pf);\n",
"W1=x*cosd(30+phi);\n",
"W2=x*cosd(30-phi);\n",
"printf('\nS=10kVA \npf=0.342 \nS=sqrt(3)*VL*IL');\n",
"printf('\nVL*IL=%.f VA',x);\n",
"printf('\ncos(phi)=%.3f',pf);\n",
"printf('\nphi=%.f degrees',phi);\n",
"//(i)when power factor is leading\n",
"printf('\npf leading \nW1=VL.IL.cos(30+phi)= %.f W',W1);\n",
"printf('\n \nW2=VL.IL.cos(30-phi)= %.f W',W2);\n",
"//(i)when power factor is lagging\n",
"printf('\npf lagging \nW1=VL.IL.cos(30-phi)= %.f W',W2);\n",
"printf('\n \nW2=VL.IL.cos(30+phi)= %.f W',W1);"
   ]
   }
,
{
		   "cell_type": "markdown",
		   "metadata": {},
		   "source": [
			"## Example 6.30: Measurement_of_three_phase_power.sce"
		   ]
		  },
  {
"cell_type": "code",
	   "execution_count": null,
	   "metadata": {
	    "collapsed": true
	   },
	   "outputs": [],
"source": [
"// Three-Phase Circuits :example 6.30 :(pg 6.31 & 6.32)\n",
"VL=2000;\n",
"N=0.9;//efficiency\n",
"W1=300*10^3;\n",
"W2=100*10^3;\n",
"P=W1+W2;\n",
"x=(sqrt(3)*((W1-W2)/(W1+W2)));\n",
"phi=atand(x);\n",
"pf=cosd(phi);\n",
"IL=(P/(sqrt(3)*VL*pf));\n",
"printf('\nVL=2000 V \nN=0.9 \nW1=300kW \nW2=100kW');\n",
"printf('\nP=W1+W2 =%.f W',P);//Input Power\n",
"printf('\ntan(phi)=(sqrt(3)*(W1-W2/W1+W2)) =%.3f',x);\n",
"printf('\nphi=%.2f degrees ',phi);\n",
"printf('\ncos(phi)=%.2f',pf);//Power factor\n",
"printf('\nP=sqrt(3)*VL*IL*cos(phi) \nIL=%.2f A',IL);"
   ]
   }
,
{
		   "cell_type": "markdown",
		   "metadata": {},
		   "source": [
			"## Example 6.31: Measurement_of_three_phase_power.sce"
		   ]
		  },
  {
"cell_type": "code",
	   "execution_count": null,
	   "metadata": {
	    "collapsed": true
	   },
	   "outputs": [],
"source": [
"// Three-Phase Circuits :example 6.31 :(pg 6.32)\n",
"VL=220;\n",
"Po=11.2*10^3;\n",
"N=0.88;//efficiency\n",
"IL=38;\n",
"Pi=(Po/N);\n",
"x=(Pi/(sqrt(3)*VL*IL));\n",
"phi=acosd(x);\n",
"W1=(VL*IL*cosd(30-phi));\n",
"W2=(VL*IL*cosd(30+phi));\n",
"printf('\nVL=220 V \nPo=11.2kW \nN=0.88 \nIL=38A \N=(Po/Pi)= %.2f W',Pi);\n",
"printf('\nPi=sqrt(3)*VL*IL*cos(phi) \ncos(phi)=%.2f lagging',x);\n",
"printf('\nphi=%.2f degrees',phi);\n",
"printf('\nW1 =VL*IL*cos(30-phi) =%.2f W',W1);\n",
"printf('\nW2 =VL*IL*cos(30+phi) =%.2f W',W2);"
   ]
   }
,
{
		   "cell_type": "markdown",
		   "metadata": {},
		   "source": [
			"## Example 6.8: Interconnection_of_Three_phases.sce"
		   ]
		  },
  {
"cell_type": "code",
	   "execution_count": null,
	   "metadata": {
	    "collapsed": true
	   },
	   "outputs": [],
"source": [
"// Three-Phase Circuits :example 6.8 :(pg 6.14)\n",
"VL=440;\n",
"P=50*10^3;\n",
"IL=90;\n",
"Iph=IL/sqrt(3);\n",
"pf=(P/(sqrt(3)*VL*IL));\n",
"S=sqrt(3)*VL*IL;\n",
"printf('\nVL=440 V \nP=50kW \nIL=90 A');\n",
"printf('\nVL=Vph=%.f V',VL);//For delta-connected load\n",
"printf('\nIph=IL/sqrt(3)=%.2f A',Iph);\n",
"printf('\nP=sqrt(3)*VL*IL*cos(phi)');\n",
"printf('\ncos(phi)=%.2f (lagging)',pf);\n",
"printf('\nS=sqrt(3)*VL*IL =%.2f VA',S);"
   ]
   }
,
{
		   "cell_type": "markdown",
		   "metadata": {},
		   "source": [
			"## Example 6.9: Interconnection_of_Three_phases.sce"
		   ]
		  },
  {
"cell_type": "code",
	   "execution_count": null,
	   "metadata": {
	    "collapsed": true
	   },
	   "outputs": [],
"source": [
"// Three-Phase Circuits :example 6.9 :(pg 6.15)\n",
"IL=15;\n",
"P=11*10^3;\n",
"S=15*10^3;\n",
"VL=S/(sqrt(3)*IL);\n",
"Vph=VL/sqrt(3);\n",
"x=P/S;\n",
"phi=acosd(P/S);\n",
"Q=sqrt(3)*VL*IL*sind(phi);\n",
"Iph=IL;\n",
"Zph=Vph/Iph;\n",
"R=Zph*cosd(phi);\n",
"XL=Zph*sind(phi);\n",
"Vph1=VL;\n",
"Iph1=(Vph1/Zph);\n",
"IL1=sqrt(3)*Iph1;\n",
"P1=sqrt(3)*VL*IL1*cosd(phi);\n",
"Q1=sqrt(3)*VL*IL1*sind(phi);\n",
"printf('\nIL=15 A \nP=11kW \nS=15kVA ');\n",
"//For a star-connected load\n",
"printf('\nS=sqrt(3)*VL*IL \nVL=%.2f V',Vph);\n",
"printf('\ncos(phi)=P/S =%.3f',x);\n",
"printf('\nphi=%.2f degrees',phi); \n",
"printf('\nQ=sqrt(3).VL.IL.sin(phi) = %.1f VAR',Q);\n",
"printf('\nIph=IL = %.f A',IL);\n",
"printf('\nZph=Vph/Iph = %.2f Ohm',Zph);\n",
"printf('\nR= Zph*cos(phi) =%.2f Ohm',R);\n",
"printf('\nXL=Zph*sin(phi)= %.2f Ohm',XL);\n",
"//If these coils are connected in Delta \n",
"printf('\nCph =VL =%.2f V',VL);\n",
"printf('\nZph= %.2f Ohm',Zph);\n",
"printf('\nIph=Vph/Zph =%.2f A ',Iph1);\n",
"printf('\nIL=sqrt(3)*Iph =%.f A',IL1);\n",
"printf('\nP=sqrt(3)*VL*IL*cos(phi) =%.2f W',P1);\n",
"printf('\nQ=sqrt(3)*VL*IL*sin(phi) =%.2f VAR',Q1);\n",
"\n",
"\n",
""
   ]
   }
],
"metadata": {
		  "kernelspec": {
		   "display_name": "Scilab",
		   "language": "scilab",
		   "name": "scilab"
		  },
		  "language_info": {
		   "file_extension": ".sce",
		   "help_links": [
			{
			 "text": "MetaKernel Magics",
			 "url": "https://github.com/calysto/metakernel/blob/master/metakernel/magics/README.md"
			}
		   ],
		   "mimetype": "text/x-octave",
		   "name": "scilab",
		   "version": "0.7.1"
		  }
		 },
		 "nbformat": 4,
		 "nbformat_minor": 0
}
