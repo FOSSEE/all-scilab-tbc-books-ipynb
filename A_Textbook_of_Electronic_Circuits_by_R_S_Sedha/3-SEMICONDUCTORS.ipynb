{
"cells": [
 {
		   "cell_type": "markdown",
	   "metadata": {},
	   "source": [
       "# Chapter 3: SEMICONDUCTORS"
	   ]
	},
{
		   "cell_type": "markdown",
		   "metadata": {},
		   "source": [
			"## Example 3.10: concentration_of_electrons_and_holes.sce"
		   ]
		  },
  {
"cell_type": "code",
	   "execution_count": null,
	   "metadata": {
	    "collapsed": true
	   },
	   "outputs": [],
"source": [
"clc;\n",
"//e.g 3.10\n",
"ND=2*10**14;\n",
"NA=3*10**14;\n",
"ni=2.3*10**19;\n",
"n=(ni^2)/NA;\n",
"disp('electrons/cm^3',n*1,'n=');\n",
"p=(ni^2)/ND;\n",
"disp('holes/cm^3',p*1,'p=');"
   ]
   }
,
{
		   "cell_type": "markdown",
		   "metadata": {},
		   "source": [
			"## Example 3.11: minority_electron_and_hole_density.sce"
		   ]
		  },
  {
"cell_type": "code",
	   "execution_count": null,
	   "metadata": {
	    "collapsed": true
	   },
	   "outputs": [],
"source": [
"clc;\n",
"//e.g 3.11\n",
"ND=5*10**8;\n",
"NA=6*10**16;\n",
"ni=1.5*10**10;\n",
"n=(ni^2)/NA;//number of electons\n",
"p=(ni^2)/ND;//number of holes\n",
"disp(n*1,'n=');\n",
"disp(p*1,'p=');"
   ]
   }
,
{
		   "cell_type": "markdown",
		   "metadata": {},
		   "source": [
			"## Example 3.12: length.sce"
		   ]
		  },
  {
"cell_type": "code",
	   "execution_count": null,
	   "metadata": {
	    "collapsed": true
	   },
	   "outputs": [],
"source": [
"clc;\n",
"//ex3.12\n",
"d=0.001;\n",
"q=1.6*10**-19;\n",
"ND=10**20;\n",
"R=1000;\n",
"mun=0.1;\n",
"n=ND;//number of free electrons\n",
"sigma=q*n*mun;//conductivity\n",
"disp('S/m',sigma*1,'sigma=');\n",
"a=(1/sigma)*(1/(%pi*(0.001^2)/4));\n",
"l=R/a;\n",
"disp('mm',l*10**3,'l=');"
   ]
   }
,
{
		   "cell_type": "markdown",
		   "metadata": {},
		   "source": [
			"## Example 3.13: concentration_of_holes_and_electrons.sce"
		   ]
		  },
  {
"cell_type": "code",
	   "execution_count": null,
	   "metadata": {
	    "collapsed": true
	   },
	   "outputs": [],
"source": [
"clc;\n",
"//ex3.13\n",
"sigma=100;\n",
"rho=0.1;\n",
"ni=1.5*10**10;\n",
"mun=1300;\n",
"mup=500;\n",
"ni1=2.5*10**13;\n",
"mun1=3800;\n",
"mup1=1800;\n",
"q=1.602*10**-19;\n",
"//concentration of p type germanium\n",
"p=sigma/(q*mup1);\n",
"disp('/cm^3',p*1,'p=');\n",
"n=(ni1^2)/p;\n",
"disp('/cm^3',n*1,'n=');\n",
"//concentration of n type silicon\n",
"n=rho/(mun*q);\n",
"disp('/cm^3',n*1,'n=');\n",
"p=(ni^2)/n;\n",
"disp('/cm^3',p*1,'p=');"
   ]
   }
,
{
		   "cell_type": "markdown",
		   "metadata": {},
		   "source": [
			"## Example 3.14: resistivity_of_germanium_sample.sce"
		   ]
		  },
  {
"cell_type": "code",
	   "execution_count": null,
	   "metadata": {
	    "collapsed": true
	   },
	   "outputs": [],
"source": [
"clc;\n",
"mun=3800;\n",
"mup=1800;\n",
"ni=2.5*10**13;\n",
"Nge=4.41*10**22;\n",
"q=1.602*10**-19;\n",
"ND=Nge/10**8;\n",
"disp('/cm^3',ND*1,'ND=');\n",
"p=(ni^2)/ND;\n",
"disp('/cm^3',p*1,'p=');\n",
"n=ND;\n",
"sigma=q*n*mun;\n",
"disp('(ohm-cm^)-1',sigma*1,'sigma=');\n",
"rho=1/sigma;\n",
"disp('ohm-cm',rho*1,'rho=');"
   ]
   }
,
{
		   "cell_type": "markdown",
		   "metadata": {},
		   "source": [
			"## Example 3.15: resistivity_of_intrinsic_silicon.sce"
		   ]
		  },
  {
"cell_type": "code",
	   "execution_count": null,
	   "metadata": {
	    "collapsed": true
	   },
	   "outputs": [],
"source": [
"clc;\n",
"//ex3.15\n",
"Nsi=4.96*10**22;\n",
"ni=1.52*10**10;\n",
"q=1.6*10**-19;\n",
"mun=1350;\n",
"mup=480;\n",
"//resistivity of intrinsic silicon\n",
"sigma=q*ni*(mun+mup)\n",
"disp('(ohm-cm)^-1',sigma*1,'sigma=');\n",
"rho=1/sigma;\n",
"disp('ohm-cm',rho*1,'rho=');\n",
"//resistivity of doped silicon\n",
"ND=Nsi/(50*10^6);\n",
"disp('/cm^3',ND*1,'ND=');\n",
"n=ND;\n",
"p=(ni**2)/n;\n",
"disp('/cm**3',p*1,'p=');\n",
"sigma=q*n*mun;\n",
"disp('(ohm-cm)^-1',sigma*1,'sigma=');\n",
"rho=1/sigma;\n",
"disp('ohm-cm',rho*1,'rho=');"
   ]
   }
,
{
		   "cell_type": "markdown",
		   "metadata": {},
		   "source": [
			"## Example 3.16: conductivity_of_silicon.sce"
		   ]
		  },
  {
"cell_type": "code",
	   "execution_count": null,
	   "metadata": {
	    "collapsed": true
	   },
	   "outputs": [],
"source": [
"clc;\n",
"mup=0.048;\n",
"mun=0.135;\n",
"q=1.602*10**-19;\n",
"Nsi=5*10**28;\n",
"ni=1.5*10**16;\n",
"sigma=q*ni*(mun+mup);\n",
"disp('ohm-m^-1',sigma*1,'sigma=');\n",
"NA=Nsi/10**7;\n",
"P=NA;\n",
"n=ni^2/P;\n",
"sigma=q*P*mup;\n",
"disp('ohm-m^-1',sigma*1,'sigma=');\n",
"alpha=0.05;\n",
"T=34-20;\n",
"sigma20=0.44*10**-3;\n",
"sigma34=sigma20*(1+alpha*T);\n",
"disp('ohm-m^-1',sigma34*1,'sigma34=');"
   ]
   }
,
{
		   "cell_type": "markdown",
		   "metadata": {},
		   "source": [
			"## Example 3.17: diffusion_coefficients_of_holes_and_electrons.sce"
		   ]
		  },
  {
"cell_type": "code",
	   "execution_count": null,
	   "metadata": {
	    "collapsed": true
	   },
	   "outputs": [],
"source": [
"clc;\n",
"//e.g 3.17\n",
"mun=3600;\n",
"mup=1700;\n",
"k=1.38*10**23;\n",
"T=300;\n",
"DP=mup*(T/11600);//answer given in the book is wrong\n",
"disp('m^2/s',DP*1,'DP=');\n",
"Dn=mun*(T/11600);//answer given in the book is wrong\n",
"disp('m^2/s',Dn*1,'Dn=');"
   ]
   }
,
{
		   "cell_type": "markdown",
		   "metadata": {},
		   "source": [
			"## Example 3.18: electron_mobility.sce"
		   ]
		  },
  {
"cell_type": "code",
	   "execution_count": null,
	   "metadata": {
	    "collapsed": true
	   },
	   "outputs": [],
"source": [
"clc;\n",
"//e.g 3.18\n",
"RH=160;\n",
"rho=0.16;\n",
"mun=(1/rho)*RH;\n",
"disp('cm^2/volt-sec',mun*1,'mu=');"
   ]
   }
,
{
		   "cell_type": "markdown",
		   "metadata": {},
		   "source": [
			"## Example 3.19: conduction_electrons.sce"
		   ]
		  },
  {
"cell_type": "code",
	   "execution_count": null,
	   "metadata": {
	    "collapsed": true
	   },
	   "outputs": [],
"source": [
"clc;\n",
"//ex3.19\n",
"I=50;\n",
"B=1.2;\n",
"t=0.5*10**-3;\n",
"Vh=100;\n",
"q=1.6*10**-19;\n",
"n=(B*I)/(Vh*q*t);\n",
"disp('/m^3',n*1,'n=');"
   ]
   }
,
{
		   "cell_type": "markdown",
		   "metadata": {},
		   "source": [
			"## Example 3.1: length_of_wire_and_current_density.sce"
		   ]
		  },
  {
"cell_type": "code",
	   "execution_count": null,
	   "metadata": {
	    "collapsed": true
	   },
	   "outputs": [],
"source": [
"clc;\n",
"//Ex3.1\n",
"R=1000;\n",
"sigma=5.8*10**7;\n",
"d=0.001;\n",
"//l is length of the cu wire\n",
"l=R*sigma*%pi*(d*d/4);//R=l/(sigma*%pi*(d*d/4))\n",
"disp ('km',l*10**-3,'l=');\n",
"E=10*10**-3;\n",
"J=sigma*E;//current density\n",
"disp('A/m^2',J*1,'J=');"
   ]
   }
,
{
		   "cell_type": "markdown",
		   "metadata": {},
		   "source": [
			"## Example 3.20: number_of_electrons.sce"
		   ]
		  },
  {
"cell_type": "code",
	   "execution_count": null,
	   "metadata": {
	    "collapsed": true
	   },
	   "outputs": [],
"source": [
"clc;\n",
"rho=20*10**-2;\n",
"mu=100*10**-4;\n",
"q=1.6*10**-19;\n",
"n=1/(rho*q*mu);\n",
"disp('/m^3',n*1,'n=');"
   ]
   }
,
{
		   "cell_type": "markdown",
		   "metadata": {},
		   "source": [
			"## Example 3.21: mobility_and_density_of_charge_carrier.sce"
		   ]
		  },
  {
"cell_type": "code",
	   "execution_count": null,
	   "metadata": {
	    "collapsed": true
	   },
	   "outputs": [],
"source": [
"clc;\n",
"Rh=3.66*10**-4;\n",
"rho=8.93*10**-3;\n",
"mu=Rh/rho;\n",
"disp('m^2/V-s',mu*1,'mu=');\n",
"q=1.6*10^-19;\n",
"n=1/(q*Rh);\n",
"disp('/m^3',n*1,'n=');"
   ]
   }
,
{
		   "cell_type": "markdown",
		   "metadata": {},
		   "source": [
			"## Example 3.22: resistivity.sce"
		   ]
		  },
  {
"cell_type": "code",
	   "execution_count": null,
	   "metadata": {
	    "collapsed": true
	   },
	   "outputs": [],
"source": [
"clc;\n",
"//e.g 3.22\n",
"rho=9*10**-3;\n",
"mup=0.003;\n",
"sigma=1/rho;\n",
"disp('S/m',sigma*1,'sigma=');\n",
"RH= mup/sigma;\n",
"disp('m^3*C',RH*1,'RH=');"
   ]
   }
,
{
		   "cell_type": "markdown",
		   "metadata": {},
		   "source": [
			"## Example 3.2: EX3_2.sce"
		   ]
		  },
  {
"cell_type": "code",
	   "execution_count": null,
	   "metadata": {
	    "collapsed": true
	   },
	   "outputs": [],
"source": [
"clc;\n",
"//ex3.2\n",
"d=2*10**-3;\n",
"sigma=5.8*10**7;\n",
"mu=0.0032;\n",
"E=20*10**-3;\n",
"q=1.6*10**-19;\n",
"n=sigma/(q*mu);//sigma=q*n*mu\n",
"disp('/m^3',n*1,'n=');\n",
"J=sigma*E;//current density\n",
"disp('A/m^2',J*1,'J=');\n",
"A=%pi*d*d/4;//area of cross-section of wire\n",
"disp('m^2',A*1,'A=');\n",
"I=J*A;//current flowing in the wire\n",
"disp('A',I*1,'I=');\n",
"V=mu*E;//electron drift velocity\n",
"disp('m/s',V*1,'V=');//answer printed in the book is wrong\n",
""
   ]
   }
,
{
		   "cell_type": "markdown",
		   "metadata": {},
		   "source": [
			"## Example 3.3: mobility_and_relaxation_time_of_electrons.sce"
		   ]
		  },
  {
"cell_type": "code",
	   "execution_count": null,
	   "metadata": {
	    "collapsed": true
	   },
	   "outputs": [],
"source": [
"clc;\n",
"//ex3.3\n",
"p=1.54*10**-8;\n",
"n=5.8*10**28;\n",
"q=1.6*10**-19;\n",
"sigma=1/p;//p=1/sigma..conductivity\n",
"disp('S/m',sigma*1,'sigma=');\n",
"mu=sigma/(q*n*10^-2);//mobility\n",
"disp('m^2/vs',mu*1,'mu=');\n",
"m=9.1*10**-31;\n",
"t=(m*mu)/q;//relaxation time\n",
"disp('ps',t*10^12,'t=');"
   ]
   }
,
{
		   "cell_type": "markdown",
		   "metadata": {},
		   "source": [
			"## Example 3.4: intrinsic_conductivity.sce"
		   ]
		  },
  {
"cell_type": "code",
	   "execution_count": null,
	   "metadata": {
	    "collapsed": true
	   },
	   "outputs": [],
"source": [
"clc;\n",
"//ex 3.4\n",
"mun=0.38;\n",
"mup=0.18;\n",
"n=2.5*10**19;\n",
"a=0.13;\n",
"b=0.05;\n",
"n2=1.5*10**16;\n",
"q=1.6*10**-19;\n",
"sigma=q*n*(mun+mup);// intrinsic coductivity for germanium\n",
"disp('ohm-mu^-1',sigma*1,'sigma=');\n",
"sigma1=q*n2*(a+b);//intrinsic coductivity for silicon\n",
"disp('ohm-m^-1',sigma1*1,'sigma1');"
   ]
   }
,
{
		   "cell_type": "markdown",
		   "metadata": {},
		   "source": [
			"## Example 3.5: intrinsic_conductivity.sce"
		   ]
		  },
  {
"cell_type": "code",
	   "execution_count": null,
	   "metadata": {
	    "collapsed": true
	   },
	   "outputs": [],
"source": [
"clc;\n",
"//ex3.5\n",
"n=1.41*10**16;\n",
"mun=0.145;\n",
"mup=0.05;\n",
"q=1.6*10**-19;\n",
"//sigma=q*n*(mun+mup);\n",
"e=q*n*mun;//contribution by electrons\n",
"h=q*n*mup;//contribution by holes\n",
"disp('ohm-m^-1',e*1,'e=');\n",
"disp('ohm-m^-1',h*1,'h=');"
   ]
   }
,
{
		   "cell_type": "markdown",
		   "metadata": {},
		   "source": [
			"## Example 3.6: concentration_of_free_electrons_and_drift_velocity.sce"
		   ]
		  },
  {
"cell_type": "code",
	   "execution_count": null,
	   "metadata": {
	    "collapsed": true
	   },
	   "outputs": [],
"source": [
"clc;\n",
"//ex3.6\n",
"q=1.60*10**-19;\n",
"l=0.2*10**-3;\n",
"a=0.04*10**-6;\n",
"v=1;\n",
"i=8*10**-3;\n",
"mun=0.13;\n",
"//concentration of free electrons\n",
"R=v/i;//resistance\n",
"disp('ohm',R*1,'R=');\n",
"rho=(R*a)/l;\n",
"disp('ohm-m',rho*1,'rho=');\n",
"sigma=1/rho;//conductivity\n",
"n=sigma/(q*mun);//concentration of free electrons\n",
"disp('/m^3',n*1,'n=')\n",
"//Drift velocity\n",
"j=i/a;\n",
"disp('amp/m^2',j*1,'j=');\n",
"v=j/(n*q);\n",
"disp('m/sec',v*1,'v=');"
   ]
   }
,
{
		   "cell_type": "markdown",
		   "metadata": {},
		   "source": [
			"## Example 3.7: intrinsic_carrier_concentration.sce"
		   ]
		  },
  {
"cell_type": "code",
	   "execution_count": null,
	   "metadata": {
	    "collapsed": true
	   },
	   "outputs": [],
"source": [
"clc;\n",
"//ex3.7\n",
"rho=0.47;\n",
"q=1.6*10**-19;\n",
"mun=0.39;\n",
"mup=0.19;\n",
"sigma=1/rho;//conductivity of intrinsic semiconductor\n",
"disp('ohm-m^-1',sigma*1,'sigma=');\n",
"n=sigma/(q*(mun+mup));//intrinsic carrier concentration of germanium\n",
"disp('/m^3',n*1,'n=');"
   ]
   }
,
{
		   "cell_type": "markdown",
		   "metadata": {},
		   "source": [
			"## Example 3.8: conductivity.sce"
		   ]
		  },
  {
"cell_type": "code",
	   "execution_count": null,
	   "metadata": {
	    "collapsed": true
	   },
	   "outputs": [],
"source": [
"clc;\n",
"//e.g 3.8\n",
"ND=10**21;\n",
"NA=5*10**20;\n",
"q=1.6*10**-19;\n",
"mun=0.18;\n",
"ND1=ND-NA;//number of free electrons\n",
"disp('/m^3',ND1*1,'ND1=');\n",
"SIGMA=ND1*q*mun;//conductivity of silicon\n",
"disp('ohm-m^-1',SIGMA*1,'SIGMA=');"
   ]
   }
,
{
		   "cell_type": "markdown",
		   "metadata": {},
		   "source": [
			"## Example 3.9: donor_concentration.sce"
		   ]
		  },
  {
"cell_type": "code",
	   "execution_count": null,
	   "metadata": {
	    "collapsed": true
	   },
	   "outputs": [],
"source": [
"clc;\n",
"//ex3.9\n",
"rho=100;\n",
"q=1.6*10**-19;\n",
"mun=0.36;\n",
"sigma=1/rho;\n",
"disp('(ohm-m)^-1',sigma*1,'sigma=');\n",
"ND= sigma/(q*mun);//donar concentration\n",
"disp('atoms/m^3',ND*1,'ND=');"
   ]
   }
],
"metadata": {
		  "kernelspec": {
		   "display_name": "Scilab",
		   "language": "scilab",
		   "name": "scilab"
		  },
		  "language_info": {
		   "file_extension": ".sce",
		   "help_links": [
			{
			 "text": "MetaKernel Magics",
			 "url": "https://github.com/calysto/metakernel/blob/master/metakernel/magics/README.md"
			}
		   ],
		   "mimetype": "text/x-octave",
		   "name": "scilab",
		   "version": "0.7.1"
		  }
		 },
		 "nbformat": 4,
		 "nbformat_minor": 0
}
