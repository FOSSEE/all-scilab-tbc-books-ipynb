{
"cells": [
 {
		   "cell_type": "markdown",
	   "metadata": {},
	   "source": [
       "# Chapter 12: THYRISTORS"
	   ]
	},
{
		   "cell_type": "markdown",
		   "metadata": {},
		   "source": [
			"## Example 12.1: destroy_the_device_or_not.sce"
		   ]
		  },
  {
"cell_type": "code",
	   "execution_count": null,
	   "metadata": {
	    "collapsed": true
	   },
	   "outputs": [],
"source": [
"clc;\n",
"//e.g 12.1\n",
"I=40;\n",
"t=15*10**-3;\n",
"SCR=(I^2)*t;\n",
"disp('A^2s',SCR*1,'SCR=');"
   ]
   }
,
{
		   "cell_type": "markdown",
		   "metadata": {},
		   "source": [
			"## Example 12.2: max_allowable_duratio.sce"
		   ]
		  },
  {
"cell_type": "code",
	   "execution_count": null,
	   "metadata": {
	    "collapsed": true
	   },
	   "outputs": [],
"source": [
"clc;\n",
"//e.g 12.2\n",
"a=75;\n",
"Is=100;\n",
"tmax=a/Is**2;\n",
"disp('ms',tmax*10**3,'tmax=');"
   ]
   }
,
{
		   "cell_type": "markdown",
		   "metadata": {},
		   "source": [
			"## Example 12.3: voltage.sce"
		   ]
		  },
  {
"cell_type": "code",
	   "execution_count": null,
	   "metadata": {
	    "collapsed": true
	   },
	   "outputs": [],
"source": [
"clc;\n",
"//e.g 12.3\n",
"VD=0.7;\n",
"n=0.75;\n",
"Vbb=12;\n",
"Vp=n*Vbb+VD;\n",
"disp('V',Vp*1,'Vp=');"
   ]
   }
,
{
		   "cell_type": "markdown",
		   "metadata": {},
		   "source": [
			"## Example 12.4: intrinsic_stand_off_ratio_and_peak_point_voltage.sce"
		   ]
		  },
  {
"cell_type": "code",
	   "execution_count": null,
	   "metadata": {
	    "collapsed": true
	   },
	   "outputs": [],
"source": [
"clc;\n",
"//e.g 12.4\n",
"rb1=4*10**3;\n",
"rb2=2.5*10**3;\n",
"Vbb=15;\n",
"Vd=0.7;\n",
"n=rb1/(rb1+rb2);\n",
"disp(n,'n=');//intrinsic standoff ratio\n",
"Vp=n*Vbb+Vd;\n",
"disp('V',Vp*1,'Vp=');//peak point voltage"
   ]
   }
,
{
		   "cell_type": "markdown",
		   "metadata": {},
		   "source": [
			"## Example 12.5: rB1_and_rB2.sce"
		   ]
		  },
  {
"cell_type": "code",
	   "execution_count": null,
	   "metadata": {
	    "collapsed": true
	   },
	   "outputs": [],
"source": [
"clc;\n",
"//e.g 12.5\n",
"n=0.60;\n",
"rbb=7*10**3;\n",
"rb1=rbb*n;\n",
"disp('kohm',rb1*10**-3,'rb1=');\n",
"rb2=rbb-rb1;\n",
"disp('kohm',rb2*10**-3,'rb2=');"
   ]
   }
],
"metadata": {
		  "kernelspec": {
		   "display_name": "Scilab",
		   "language": "scilab",
		   "name": "scilab"
		  },
		  "language_info": {
		   "file_extension": ".sce",
		   "help_links": [
			{
			 "text": "MetaKernel Magics",
			 "url": "https://github.com/calysto/metakernel/blob/master/metakernel/magics/README.md"
			}
		   ],
		   "mimetype": "text/x-octave",
		   "name": "scilab",
		   "version": "0.7.1"
		  }
		 },
		 "nbformat": 4,
		 "nbformat_minor": 0
}
