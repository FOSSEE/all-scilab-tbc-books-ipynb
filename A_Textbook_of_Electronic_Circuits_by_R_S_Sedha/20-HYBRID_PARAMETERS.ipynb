{
"cells": [
 {
		   "cell_type": "markdown",
	   "metadata": {},
	   "source": [
       "# Chapter 20: HYBRID PARAMETERS"
	   ]
	},
{
		   "cell_type": "markdown",
		   "metadata": {},
		   "source": [
			"## Example 20.10: hfb_and_hfc.sce"
		   ]
		  },
  {
"cell_type": "code",
	   "execution_count": null,
	   "metadata": {
	    "collapsed": true
	   },
	   "outputs": [],
"source": [
"clc;\n",
"hfe=50;\n",
"hfb=-hfe/(1+hfe);\n",
"disp(hfb);\n",
"hfc=-(1+hfe);\n",
"disp(hfc);"
   ]
   }
,
{
		   "cell_type": "markdown",
		   "metadata": {},
		   "source": [
			"## Example 20.11: gain_and_input_resistance.sce"
		   ]
		  },
  {
"cell_type": "code",
	   "execution_count": null,
	   "metadata": {
	    "collapsed": true
	   },
	   "outputs": [],
"source": [
"clc;\n",
"hie=1100;\n",
"hre=2.5*10**-4;\n",
"hfe=50;\n",
"hoe=24*10**-6;\n",
"rL=10*10**3;\n",
"RS=1*10**3;\n",
"hic=hie;\n",
"hrc=1-hre;\n",
"hfc=-(1+hfe);\n",
"Ai=hfc/(1+hoe*rL);\n",
"disp(Ai);\n",
"Ri=hie+hrc*-Ai*rL;\n",
"disp('kOhm',Ri*10**-3,'Ri=');\n",
"Av=(-Ai*rL)/Ri;\n",
"disp(Av);"
   ]
   }
,
{
		   "cell_type": "markdown",
		   "metadata": {},
		   "source": [
			"## Example 20.2: Impedance_voltage_and_current_gain.sce"
		   ]
		  },
  {
"cell_type": "code",
	   "execution_count": null,
	   "metadata": {
	    "collapsed": true
	   },
	   "outputs": [],
"source": [
"clc;\n",
"hie=1.0*10**3;\n",
"hre=1*10**-4;\n",
"hoe=100*10**-6;\n",
"RC=1000;\n",
"RS=1000;\n",
"rL=RC;\n",
"hfe=50;\n",
"Ai=-hfe/(1+hoe*rL);\n",
"Ri=hie+hre*Ai*rL;\n",
"Ris=Ri;\n",
"disp('Ohm',Ris*1,'Ris=');\n",
"delh=hie*hoe-hre*hfe;\n",
"his=1000;\n",
"Ro=(RS+his)/(RS*hoe+delh);\n",
"disp('kOhm',Ro*10**-3,'Ro=');\n",
"Ros=(Ro*rL)/(Ro+rL);\n",
"disp('Ohm',Ros*1,'Ros=');\n",
"Ais=(Ai*RS)/(RS+Ris);\n",
"disp(Ais);\n",
"Av=(Ai*rL)/Ri;\n",
"Avs=(Av*Ris)/(RS+Ris);\n",
"disp(Avs);"
   ]
   }
,
{
		   "cell_type": "markdown",
		   "metadata": {},
		   "source": [
			"## Example 20.3: impedance_current_and_voltage_gain.sce"
		   ]
		  },
  {
"cell_type": "code",
	   "execution_count": null,
	   "metadata": {
	    "collapsed": true
	   },
	   "outputs": [],
"source": [
"clc;\n",
"hie=1.1*10**3;\n",
"hre=2.5*10**-4;\n",
"hfe=50;\n",
"hoe=25*10**-6;\n",
"rs=1*10**3;\n",
"rL=1*10**3;\n",
"Ai=hfe/(1+hoe*rL);\n",
"disp(Ai);\n",
"Ri=hie+hre*Ai*rL;\n",
"disp('Ohm',Ri*1,'Ri=');\n",
"Av=(Ai*rL)/Ri;\n",
"disp(Av);"
   ]
   }
,
{
		   "cell_type": "markdown",
		   "metadata": {},
		   "source": [
			"## Example 20.4: voltage_gain_and_resistance.sce"
		   ]
		  },
  {
"cell_type": "code",
	   "execution_count": null,
	   "metadata": {
	    "collapsed": true
	   },
	   "outputs": [],
"source": [
"clc;\n",
"RC=4*10**3;\n",
"RB=40*10**3;\n",
"RS=10*10**3;\n",
"hie=1100;\n",
"hfe=50;\n",
"hre=0;\n",
"hoe=0;\n",
"RB2=40*10**3;\n",
"rL=(RC*RB2)/(RC+RB2);\n",
"Ai=-hfe/(1+hoe*rL);\n",
"Ri=hie+hre*Ai*rL;\n",
"Av=(Ai*rL)/Ri;\n",
"RB1=40*10**3/(1-Av);\n",
"Ris=(Ri*RB1)/(Ri+RB1);\n",
"disp('ohm',Ris*1,'Ris=');\n",
"Ros=rL;//Ro=infinity\n",
"disp('Ohm',Ros*1,'Ros=');\n",
"Avs=(Av*Ris)/(RS+Ris);\n",
"disp(Avs);"
   ]
   }
,
{
		   "cell_type": "markdown",
		   "metadata": {},
		   "source": [
			"## Example 20.5: resistance_voltage_and_current_gain.sce"
		   ]
		  },
  {
"cell_type": "code",
	   "execution_count": null,
	   "metadata": {
	    "collapsed": true
	   },
	   "outputs": [],
"source": [
"clc;\n",
"hib=28;\n",
"hfb=-0.98;\n",
"hrb=5*10**-4;\n",
"hob=0.34*10**-6;\n",
"rL=1.2*10**3;\n",
"Rs=0;\n",
"Ai=-hfb/(1+hob*rL);\n",
"disp(Ai);\n",
"Ri=hib+hrb*Ai*rL;\n",
"disp('Ohm',Ri*1,'Ri=');\n",
"delh=hib*hob-hrb*hfb;\n",
"Ro=(Rs+hib)/(Rs*hib+delh);\n",
"disp('kOhm',Ro*10**-3,'Ro=');\n",
"Av=(Ai*rL)/Ri;\n",
"disp(Av);"
   ]
   }
,
{
		   "cell_type": "markdown",
		   "metadata": {},
		   "source": [
			"## Example 20.6: resistance_voltage_and_current_gain.sce"
		   ]
		  },
  {
"cell_type": "code",
	   "execution_count": null,
	   "metadata": {
	    "collapsed": true
	   },
	   "outputs": [],
"source": [
"clc;\n",
"hic=2*10**3;\n",
"hfc=-51;\n",
"hrc=1;\n",
"hoc=25*10**-6;\n",
"rL=5*10**3;\n",
"RE=5*10**3;\n",
"Rs=1000;\n",
"R1=10*10**3;\n",
"R2=10*10**3;\n",
"Ai=-hfc/(1+hoc*rL);\n",
"disp(Ai);\n",
"Ri=hic+hrc*Ai*rL;\n",
"disp('kOhm',Ri*10**-3,'Ri=');\n",
"a=(R1*R2)/(R1+R2);\n",
"Ris=(Ri*a)/(Ri+a);\n",
"disp('Ohm',Ris*1,'Ris=');\n",
"Ro=-(Rs+hic)/hfc;\n",
"Ros=(Ro*RE)/(Ro+RE);\n",
"disp('Ohm',Ros*1,'Ros=');\n",
"Ais=(Ai*Rs)/(Rs+Ris);\n",
"disp(Ais);\n",
"Av=(Ai*rL)/Ri;\n",
"disp(Av);\n",
"Avs=(Av*Ris)/(Rs+Ris);\n",
"disp(Avs);"
   ]
   }
,
{
		   "cell_type": "markdown",
		   "metadata": {},
		   "source": [
			"## Example 20.7: resistance_voltage_and_current_gain.sce"
		   ]
		  },
  {
"cell_type": "code",
	   "execution_count": null,
	   "metadata": {
	    "collapsed": true
	   },
	   "outputs": [],
"source": [
"clc;\n",
"hie=1500;\n",
"hfe=50;\n",
"hre=50*10**-4;\n",
"hoe=20*10**-6;\n",
"RC=5*10**3;\n",
"RL=10*10**3;\n",
"R1=20*10**3;\n",
"R2=10*10**3;\n",
"rL=(RC*RL)/(RC+RL);\n",
"Ai=-hfe;\n",
"Ri=hie;\n",
"a=(R1*R2)/(R1+R2);\n",
"Ris=(Ri*a)/(Ri+a);\n",
"disp('kOhm',Ris*10**-3,'Ris=');\n",
"Ro=1/hoe;\n",
"Ros=(Ro*rL)/(Ro+rL);//correction \n",
"disp('kOhm',Ros*10**-3,'Ros=');\n",
"Avs=(Ai*rL)/Ri;\n",
"disp(Avs);\n",
"Ais=Ai;//correction\n",
"disp(Ais);\n",
""
   ]
   }
,
{
		   "cell_type": "markdown",
		   "metadata": {},
		   "source": [
			"## Example 20.8: voltage_and_impedance.sce"
		   ]
		  },
  {
"cell_type": "code",
	   "execution_count": null,
	   "metadata": {
	    "collapsed": true
	   },
	   "outputs": [],
"source": [
"clc;\n",
"RC=12*10**3;\n",
"RL=4.7*10**3;\n",
"R1=33*10**3;\n",
"R2=4.7*10**3;\n",
"IC=1*10**-3;\n",
"hiemin=1*10**3;\n",
"hiemax=5*10**3;\n",
"hfemin=70;\n",
"hfemax=350;\n",
"hie=sqrt(hiemin*hiemax);\n",
"disp('kOhm',hie*10**-3,'hie=');\n",
"hfe=sqrt(hfemin*hfemax);\n",
"disp('Ohm',hfe*1,'hfe=');//answer printed in the book is wrong\n",
"Ri=hie;\n",
"a=(R1*R2)/(R1+R2);\n",
"Ris=(Ri*a)/(Ri+a);\n",
"disp('kOhm',Ris*10**-3,'Ris=');\n",
"Ai=hfe;\n",
"rc=(RC*RL)/(RC+RL);\n",
"Avs=(Ai*rc)/Ri;\n",
"disp(Avs,'Avs=');"
   ]
   }
,
{
		   "cell_type": "markdown",
		   "metadata": {},
		   "source": [
			"## Example 20.9: resistance_voltage_and_current_gain.sce"
		   ]
		  },
  {
"cell_type": "code",
	   "execution_count": null,
	   "metadata": {
	    "collapsed": true
	   },
	   "outputs": [],
"source": [
"clc;\n",
"RB=330*10**3;\n",
"RC=2.7*10**3;\n",
"hfe=120;\n",
"hie=1.175*10**3;\n",
"hoe=20*10**-6;\n",
"Ri=hie;\n",
"Ris=(hie*RB)/(hie+RB);\n",
"disp('kohm',Ris*10**-3,'Ris=');\n",
"Ro=1/hoe;\n",
"Ros=(Ro*RC)/(Ro+RC);\n",
"disp('kohm',Ros*10**-3,'Ros=');\n",
"Ai=hfe;\n",
"disp(Ai);\n",
"Av=(hfe*RC)/Ri;\n",
"disp(Av);"
   ]
   }
],
"metadata": {
		  "kernelspec": {
		   "display_name": "Scilab",
		   "language": "scilab",
		   "name": "scilab"
		  },
		  "language_info": {
		   "file_extension": ".sce",
		   "help_links": [
			{
			 "text": "MetaKernel Magics",
			 "url": "https://github.com/calysto/metakernel/blob/master/metakernel/magics/README.md"
			}
		   ],
		   "mimetype": "text/x-octave",
		   "name": "scilab",
		   "version": "0.7.1"
		  }
		 },
		 "nbformat": 4,
		 "nbformat_minor": 0
}
