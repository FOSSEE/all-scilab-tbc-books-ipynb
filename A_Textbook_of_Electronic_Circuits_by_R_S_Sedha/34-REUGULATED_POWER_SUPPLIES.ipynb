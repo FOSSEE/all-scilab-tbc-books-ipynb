{
"cells": [
 {
		   "cell_type": "markdown",
	   "metadata": {},
	   "source": [
       "# Chapter 34: REUGULATED POWER SUPPLIES"
	   ]
	},
{
		   "cell_type": "markdown",
		   "metadata": {},
		   "source": [
			"## Example 34.10: max_value_of_Rs_and_power.sce"
		   ]
		  },
  {
"cell_type": "code",
	   "execution_count": null,
	   "metadata": {
	    "collapsed": true
	   },
	   "outputs": [],
"source": [
"clc;\n",
"Vz=10;\n",
"Vsmin=13;\n",
"Vsmax=16;\n",
"ILmin=10*10**-3;\n",
"ILmax=85*10**-3;\n",
"Izmin=15*10**-3;\n",
"Rsmax=(Vsmin-Vz)/(Izmin+ILmax);\n",
"disp('ohm',Rsmax*1,'Rsmax=');\n",
"Izmax=((Vsmax-Vz)/Rsmax)-ILmin;\n",
"Pzmax=Izmax*Vz;\n",
"disp('W',Pzmax*1,'Pzmax=');"
   ]
   }
,
{
		   "cell_type": "markdown",
		   "metadata": {},
		   "source": [
			"## Example 34.11: regulated_resistance.sce"
		   ]
		  },
  {
"cell_type": "code",
	   "execution_count": null,
	   "metadata": {
	    "collapsed": true
	   },
	   "outputs": [],
"source": [
"clc;\n",
"Vsmin=19.5;\n",
"Vsmax=22.5;\n",
"RL=6*10**3;\n",
"Vz=18;\n",
"Izmin=2*10**-6;\n",
"Pzmax=60*10**-3;\n",
"rz=20;\n",
"Izmax=sqrt(Pzmax/rz);\n",
"IL=Vz/RL;\n",
"ILmax=IL;\n",
"ILmin=IL;\n",
"Rsmax=(Vsmin-Vz)/(Izmin+ILmax);\n",
"disp('ohm',Rsmax*1,'Rsmax=');\n",
"Rsmin=(Vsmax-Vz)/(Izmax+ILmin);\n",
"disp('ohm',Rsmin*1,'Rsmin=');"
   ]
   }
,
{
		   "cell_type": "markdown",
		   "metadata": {},
		   "source": [
			"## Example 34.12: min_and_max_value_of_zener_current.sce"
		   ]
		  },
  {
"cell_type": "code",
	   "execution_count": null,
	   "metadata": {
	    "collapsed": true
	   },
	   "outputs": [],
"source": [
"clc;\n",
"Vsmin=8;\n",
"Vsmax=12;\n",
"Rs=2.2*10**3;\n",
"Vz=5;\n",
"RL=10*10**3;\n",
"Ismin=(Vsmin-Vz)/Rs;\n",
"Ismax=(Vsmax-Vz)/Rs;\n",
"IL=Vz/RL;\n",
"Izmin=Ismin-IL;\n",
"disp('mA',Izmin*10**3,'Izmin=');\n",
"Izmax=Ismax-IL;\n",
"disp('mA',Izmax*10**3,'Izmax=');"
   ]
   }
,
{
		   "cell_type": "markdown",
		   "metadata": {},
		   "source": [
			"## Example 34.13: zener_regulator.sce"
		   ]
		  },
  {
"cell_type": "code",
	   "execution_count": null,
	   "metadata": {
	    "collapsed": true
	   },
	   "outputs": [],
"source": [
"clc;\n",
"VL=5;\n",
"Vz=5;\n",
"IL=20*10**-3;\n",
"Pzmax=500*10**-3;\n",
"Vsmax=15;\n",
"Vsmin=9;\n",
"Izmax=Pzmax/Vz;\n",
"Ismax=IL+Izmax;\n",
"Vz=VL;\n",
"Rsmin=(Vsmax-Vz)/(Izmax+IL);\n",
"disp('ohm',Rsmin*1,'Rsmin=');\n",
"ILmax=IL;\n",
"Iz=((Vsmin-Vz)/Rsmin)-ILmax;\n",
"disp('mA',Iz*10**3,'Iz=');"
   ]
   }
,
{
		   "cell_type": "markdown",
		   "metadata": {},
		   "source": [
			"## Example 34.14: regulated_voltage_and_circuit_current.sce"
		   ]
		  },
  {
"cell_type": "code",
	   "execution_count": null,
	   "metadata": {
	    "collapsed": true
	   },
	   "outputs": [],
"source": [
"clc;\n",
"Vz=10;\n",
"Vbe=0.7;\n",
"RL=100;\n",
"Vs=15;\n",
"B=100;\n",
"Rs=33;\n",
"VL=Vz+Vbe;\n",
"IL=VL/RL;\n",
"Is=(Vs-VL)/Rs;\n",
"Ic=Is-IL;\n",
"Ib=Ic/B;\n",
"disp('microA',Ib*10**6,'Ib=');"
   ]
   }
,
{
		   "cell_type": "markdown",
		   "metadata": {},
		   "source": [
			"## Example 34.15: voltage_current.sce"
		   ]
		  },
  {
"cell_type": "code",
	   "execution_count": null,
	   "metadata": {
	    "collapsed": true
	   },
	   "outputs": [],
"source": [
"clc;\n",
"Vs=15;\n",
"Vz=8.3;\n",
"B=100;\n",
"R=1.8*10**3;\n",
"RL=2*10**3;\n",
"Vbe=0.7;\n",
"VL=Vz-Vbe;\n",
"Vce=Vs-VL;\n",
"IR=(Vs-Vz)/R;\n",
"IL=VL/RL;\n",
"IB=IL/B;\n",
"disp('microA',IB*10**6,'IB=');//In question beta is 100 but while solving it is taken as 50 which is wrong\n",
"Iz=IR-IB;\n",
"disp('mA',Iz*10**3,'Iz=');\n",
""
   ]
   }
,
{
		   "cell_type": "markdown",
		   "metadata": {},
		   "source": [
			"## Example 34.16: max_value_of_Resistance_and_power.sce"
		   ]
		  },
  {
"cell_type": "code",
	   "execution_count": null,
	   "metadata": {
	    "collapsed": true
	   },
	   "outputs": [],
"source": [
"clc;\n",
"ILmin=0;\n",
"ILmax=2;\n",
"VL=12;\n",
"Vsmin=15;\n",
"Vsmax=20;\n",
"B=100;\n",
"VBE=0.5;\n",
"Vz=12.5;\n",
"Izmin=1*10**-3;\n",
"IBmax=ILmax/B;\n",
"IR=IBmax+Izmin\n",
"Rmax=(Vsmin-Vz)/IR;\n",
"disp('ohm',Rmax*1,'Rmax=');\n",
"Izmax=(Vsmax-Vz)/Rmax;\n",
"disp('mA',Izmax*10**3,'Izmax=');\n",
"Pzmax=Vz*Izmax;\n",
"disp('W',Pzmax*1,'Pzmax=');\n",
"PRmax=(Vsmax-Vz)*Izmax;\n",
"disp('W',PRmax*1,'PRmax=');\n",
"VCEmax=Vsmax-VL;\n",
"disp('V',VCEmax*1,'VCEmax=');\n",
"PDmax=VCEmax*ILmax;\n",
"disp('W',PDmax*1,'PDmax=');"
   ]
   }
,
{
		   "cell_type": "markdown",
		   "metadata": {},
		   "source": [
			"## Example 34.17: circuit_and_value_of_current.sce"
		   ]
		  },
  {
"cell_type": "code",
	   "execution_count": null,
	   "metadata": {
	    "collapsed": true
	   },
	   "outputs": [],
"source": [
"clc;\n",
"VL=12;\n",
"IL=200*10**-3;\n",
"Vs=30;\n",
"Rs=10;\n",
"B1=150;\n",
"Ic1=10*10**-3;\n",
"VBE1=0.7;\n",
"B2=100;\n",
"VBE2=0.7;\n",
"Vz=6;\n",
"Rz=10;\n",
"Iz=20*10**-3;\n",
"ID=10*10**-3;\n",
"I1=10*10**-3;\n",
"RD=(VL-Vz)/ID;\n",
"disp('ohm',RD*1,'RD=');\n",
"//a=R1/R2;\n",
"a=(VL/(Vz+VBE2))-1;\n",
"Ic2=Ic1;\n",
"IB2=Ic2/B2;\n",
"V2=Vz+VBE2;\n",
"Vz=12;\n",
"R1=(Vz-V2)/I1;\n",
"disp('ohm',R1*1,'R1=');\n",
"R2=R1/a;\n",
"disp('ohm',R2*1,'R2=');\n",
"hfe1=B1;\n",
"IB1=(IL+I1+ID)/hfe1;\n",
"I=IB1+Ic2;\n",
"R3=(Vs-(VBE1+VL))/I;\n",
"disp('Kohm',R3*10**-3,'R3=');"
   ]
   }
,
{
		   "cell_type": "markdown",
		   "metadata": {},
		   "source": [
			"## Example 34.18: vout_IL_IE_PI.sce"
		   ]
		  },
  {
"cell_type": "code",
	   "execution_count": null,
	   "metadata": {
	    "collapsed": true
	   },
	   "outputs": [],
"source": [
"clc;\n",
"Vs=25;\n",
"Vz=15;\n",
"RL=1*10**3;\n",
"VBE2=0.7;\n",
"Vout=(Vz/2)+VBE2;\n",
"disp('V',Vout*1,'Vout=');\n",
"IL=Vout/RL;\n",
"IE1=IL;\n",
"disp('mA',IE1*10**3,'IE1=');\n",
"Vce1=Vs-Vout;\n",
"P1=Vce1*IE1;\n",
"disp('mW',P1*10**3,'P1=');"
   ]
   }
,
{
		   "cell_type": "markdown",
		   "metadata": {},
		   "source": [
			"## Example 34.19: min_and_max_value_of_voltage.sce"
		   ]
		  },
  {
"cell_type": "code",
	   "execution_count": null,
	   "metadata": {
	    "collapsed": true
	   },
	   "outputs": [],
"source": [
"clc;\n",
"IADJ=100*10**-6;\n",
"Vin=35;\n",
"VREF=1.25;\n",
"R2=0;\n",
"R1=220;\n",
"Voutmin=VREF*(1+(R2/R1))+IADJ*R2;\n",
"disp('V',Voutmin*1,'Voutmin=');\n",
"R2=5000;\n",
"Voutmax=VREF*(1+(R2/R1))+IADJ*R2;\n",
"disp('V',Voutmax*1,'Voutmax=');"
   ]
   }
,
{
		   "cell_type": "markdown",
		   "metadata": {},
		   "source": [
			"## Example 34.1: value_of_line_regulation.sce"
		   ]
		  },
  {
"cell_type": "code",
	   "execution_count": null,
	   "metadata": {
	    "collapsed": true
	   },
	   "outputs": [],
"source": [
"clc;\n",
"//e.g 34.1\n",
"VL=100*10**-6;\n",
"VS=5;\n",
"LR=VL/VS;\n",
"disp('microV/V',LR*10**6,'LR=');"
   ]
   }
,
{
		   "cell_type": "markdown",
		   "metadata": {},
		   "source": [
			"## Example 34.20: regulated_voltage.sce"
		   ]
		  },
  {
"cell_type": "code",
	   "execution_count": null,
	   "metadata": {
	    "collapsed": true
	   },
	   "outputs": [],
"source": [
"clc;\n",
"R1=220;\n",
"R2=1500;\n",
"Vo=1.25*(1+(R2/R1));\n",
"disp('V',Vo*1,'Vo=');//answer given in book is wrong"
   ]
   }
,
{
		   "cell_type": "markdown",
		   "metadata": {},
		   "source": [
			"## Example 34.21: regulated_dc_output_voltage.sce"
		   ]
		  },
  {
"cell_type": "code",
	   "execution_count": null,
	   "metadata": {
	    "collapsed": true
	   },
	   "outputs": [],
"source": [
"clc;\n",
"R1=240;\n",
"R2=2.4*10**3;\n",
"Vo=1.25*(1+(R2/R1));\n",
"disp('V',Vo*1,'Vo=');"
   ]
   }
,
{
		   "cell_type": "markdown",
		   "metadata": {},
		   "source": [
			"## Example 34.2: Change_in_output_voltage.sce"
		   ]
		  },
  {
"cell_type": "code",
	   "execution_count": null,
	   "metadata": {
	    "collapsed": true
	   },
	   "outputs": [],
"source": [
"clc;\n",
"//e.g 34.2\n",
"LR=1.4*10**-6;\n",
"VS=10;\n",
"//LR=VL/VS;\n",
"VL=LR*VS\n",
"disp('microV',VL*10**6,'VL=');"
   ]
   }
,
{
		   "cell_type": "markdown",
		   "metadata": {},
		   "source": [
			"## Example 34.3: value_of_load_regulatio.sce"
		   ]
		  },
  {
"cell_type": "code",
	   "execution_count": null,
	   "metadata": {
	    "collapsed": true
	   },
	   "outputs": [],
"source": [
"clc;\n",
"//e.g 34.3\n",
"IL=40*10**-3;\n",
"VNL=8;\n",
"VFL=7.995;\n",
"LR=(VNL-VFL)/IL;\n",
"disp('microV/mA',LR*10**3,'LR=');"
   ]
   }
,
{
		   "cell_type": "markdown",
		   "metadata": {},
		   "source": [
			"## Example 34.4: voltage_under_full_load.sce"
		   ]
		  },
  {
"cell_type": "code",
	   "execution_count": null,
	   "metadata": {
	    "collapsed": true
	   },
	   "outputs": [],
"source": [
"clc;\n",
"//e.g 34.4\n",
"VNL=5;\n",
"IL=20*10**-3;\n",
"LR=10*10**-6;\n",
"//LR=(VNL-VFL)/IL;\n",
"VFL=VNL-IL*LR;\n",
"disp('V',VFL*1,'VFL=');"
   ]
   }
,
{
		   "cell_type": "markdown",
		   "metadata": {},
		   "source": [
			"## Example 34.5: magnitude_of_variation_in_output_voltage.sce"
		   ]
		  },
  {
"cell_type": "code",
	   "execution_count": null,
	   "metadata": {
	    "collapsed": true
	   },
	   "outputs": [],
"source": [
"clc;\n",
"//e.g 34.5\n",
"V0=10;\n",
"R=0.00002\n",
"VAR=V0*R;\n",
"disp('mV',VAR*10**3,'VAR=');"
   ]
   }
,
{
		   "cell_type": "markdown",
		   "metadata": {},
		   "source": [
			"## Example 34.6: load_voltage_voltage_drop_and_current.sce"
		   ]
		  },
  {
"cell_type": "code",
	   "execution_count": null,
	   "metadata": {
	    "collapsed": true
	   },
	   "outputs": [],
"source": [
"clc;\n",
"//e.g 34.6\n",
"vs=30;\n",
"rs=240;\n",
"vz=12;\n",
"rl=500;\n",
"vl=vz;\n",
"disp('V',vl,'vl=');\n",
"Is=(vs-vz)/rs\n",
"Vd=Is*rs;\n",
"disp('V',Vd*1,'Vd=');\n",
"Iz=Is-(vl/rl)\n",
"disp('A',Iz*1,'Iz=');"
   ]
   }
,
{
		   "cell_type": "markdown",
		   "metadata": {},
		   "source": [
			"## Example 34.7: min_and_max_value_of_input_voltage.sce"
		   ]
		  },
  {
"cell_type": "code",
	   "execution_count": null,
	   "metadata": {
	    "collapsed": true
	   },
	   "outputs": [],
"source": [
"clc;\n",
"//e.g 34.7\n",
"Vz=5.1;\n",
"rz=10;\n",
"Izmin=1*10**-3;\n",
"Izmax=15*10**-3;\n",
"Rs=600;\n",
"Vomin=Vz+Izmin*rz;\n",
"disp('V',Vomin*1,'Vomin=');\n",
"Vsmin=Izmin*Rs+Vomin;\n",
"disp('V',Vsmin*1,'Vsmin=');\n",
"Vomax=Vz+Izmax*rz;\n",
"disp('V',Vomax*1,'Vomax=');\n",
"Vsmax=Izmax*Rs+Vomax;\n",
"disp('V',Vsmax*1,'Vsmax=');"
   ]
   }
,
{
		   "cell_type": "markdown",
		   "metadata": {},
		   "source": [
			"## Example 34.8: min_and_max_value_of_load_current.sce"
		   ]
		  },
  {
"cell_type": "code",
	   "execution_count": null,
	   "metadata": {
	    "collapsed": true
	   },
	   "outputs": [],
"source": [
"clc;\n",
"//e.g 34.8\n",
"Vs=24;\n",
"Rs=500;\n",
"Vz=12;\n",
"Izmin=3*10**-3;\n",
"Izmax=90*10**-3;\n",
"rz=0;\n",
"Is=(Vs-Vz)/Rs;\n",
"disp('mA',Is*10**3,'Is=');\n",
"ILmax=Is-Izmin;\n",
"disp('mA',ILmax*10**3,'ILmax=');\n",
"RLmin=Vz/ILmax;\n",
"disp('ohm',RLmin*1,'RLmin=');"
   ]
   }
,
{
		   "cell_type": "markdown",
		   "metadata": {},
		   "source": [
			"## Example 34.9: min_and_max_value_of_zener_current.sce"
		   ]
		  },
  {
"cell_type": "code",
	   "execution_count": null,
	   "metadata": {
	    "collapsed": true
	   },
	   "outputs": [],
"source": [
"clc;\n",
"//e.g 34.9\n",
"Vsmin=22;\n",
"Rs=1*10**3;\n",
"Vz=10;\n",
"RL=2*10**3;\n",
"Vsmax=40;\n",
"IL=Vz/RL;\n",
"disp('mA',IL*10**3,'IL=');\n",
"Izmax=((Vsmax-Vz)/Rs)-IL;\n",
"disp('mA',Izmax*10**3,'Izmax=');\n",
"Izmin=((Vsmin-Vz)/Rs)-IL;\n",
"disp('mA',Izmin*10**3,'Izmin=');"
   ]
   }
],
"metadata": {
		  "kernelspec": {
		   "display_name": "Scilab",
		   "language": "scilab",
		   "name": "scilab"
		  },
		  "language_info": {
		   "file_extension": ".sce",
		   "help_links": [
			{
			 "text": "MetaKernel Magics",
			 "url": "https://github.com/calysto/metakernel/blob/master/metakernel/magics/README.md"
			}
		   ],
		   "mimetype": "text/x-octave",
		   "name": "scilab",
		   "version": "0.7.1"
		  }
		 },
		 "nbformat": 4,
		 "nbformat_minor": 0
}
