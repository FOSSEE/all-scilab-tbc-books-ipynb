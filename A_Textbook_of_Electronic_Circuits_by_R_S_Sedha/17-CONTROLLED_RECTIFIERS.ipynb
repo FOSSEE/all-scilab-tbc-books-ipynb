{
"cells": [
 {
		   "cell_type": "markdown",
	   "metadata": {},
	   "source": [
       "# Chapter 17: CONTROLLED RECTIFIERS"
	   ]
	},
{
		   "cell_type": "markdown",
		   "metadata": {},
		   "source": [
			"## Example 17.1: angular_firing_required.sce"
		   ]
		  },
  {
"cell_type": "code",
	   "execution_count": null,
	   "metadata": {
	    "collapsed": true
	   },
	   "outputs": [],
"source": [
"clc;\n",
"//e.g 17.1\n",
"RL=100;\n",
"Vm=300;\n",
"//load power P= Vdc*Idc\n",
"a=(Vm/(2*%pi))^2*(1/RL);\n",
"disp(a);\n",
"p=25;\n",
"//1+cosb=sgrt(25/a)\n",
"b=a*1+cos(sqrt(p/a));\n",
"cosalpha=(sqrt(p/a))-1;\n",
"disp(cosalpha);\n",
"p=80;\n",
"cosalpha=(sqrt(p/a))-1;\n",
"disp(cosalpha,'cosalpha=');\n",
"//or;\n",
"alpha=acosd(cosalpha);\n",
"disp('degree',alpha,'alpha=');"
   ]
   }
,
{
		   "cell_type": "markdown",
		   "metadata": {},
		   "source": [
			"## Example 17.2: power.sce"
		   ]
		  },
  {
"cell_type": "code",
	   "execution_count": null,
	   "metadata": {
	    "collapsed": true
	   },
	   "outputs": [],
"source": [
"clc;\n",
"//e.g 17.2\n",
"vm=200;\n",
"Rl=1*10**3;\n",
"//ALPHA=0degree\n",
"Vdc=vm*0.318;\n",
"Idc=Vdc/Rl;\n",
"P=Vdc*Idc;\n",
"disp('mW',P*10**3,'P=');'OR';disp('W',P*1,'P=');\n",
"//alpha=45 degree\n",
"Vdc=vm*0.27;\n",
"Idc=Vdc/Rl;\n",
"P=Vdc*Idc;\n",
"disp('mW',P*10**3,'P=');'OR';disp('W',P*1,'P=');\n",
"//alpha=90 degree\n",
"Vdc=vm*0.159;\n",
"Idc=Vdc/Rl;\n",
"P=Vdc*Idc;\n",
"disp('mW',P*10**3,'P=');'OR';disp('W',P*1,'P=');\n",
"//alpha=135 degree\n",
"Vdc=vm*0.04660;\n",
"Idc=Vdc/Rl;\n",
"P=Vdc*Idc;\n",
"disp('mW',P*10**3,'P=');'OR';"
   ]
   }
,
{
		   "cell_type": "markdown",
		   "metadata": {},
		   "source": [
			"## Example 17.3: voltage.sce"
		   ]
		  },
  {
"cell_type": "code",
	   "execution_count": null,
	   "metadata": {
	    "collapsed": true
	   },
	   "outputs": [],
"source": [
"clc;\n",
"//e.g 17.3\n",
"Vrms=220;\n",
"a=60;\n",
"Vm=sqrt (2)*Vrms;\n",
"disp('V',Vm*1,'Vm=');\n",
"Vdc=(Vm/(2*%pi))*(1+cosd(60));\n",
"disp('V',Vdc*1,'Vdc=');"
   ]
   }
,
{
		   "cell_type": "markdown",
		   "metadata": {},
		   "source": [
			"## Example 17.4: resistance.sce"
		   ]
		  },
  {
"cell_type": "code",
	   "execution_count": null,
	   "metadata": {
	    "collapsed": true
	   },
	   "outputs": [],
"source": [
"clc;\n",
"//e.g 17.4\n",
"Vrms=100;\n",
"a=45;\n",
"Idc=0.5;\n",
"Vm=sqrt (2)*Vrms;\n",
"disp('V',Vm*1,'Vm=');\n",
"//Idc=(Vm/(2*%pi*RL))*(1+cosd(a));\n",
"RL=(Vm/(2*%pi*Idc))*(1+cosd(a));\n",
"disp('ohm',RL*1,'RL=');"
   ]
   }
,
{
		   "cell_type": "markdown",
		   "metadata": {},
		   "source": [
			"## Example 17.5: chopper_duty_cycle_and_chopping_frequency.sce"
		   ]
		  },
  {
"cell_type": "code",
	   "execution_count": null,
	   "metadata": {
	    "collapsed": true
	   },
	   "outputs": [],
"source": [
"clc;\n",
"//e.g 17.5 \n",
"Ton=30*10**-6;\n",
"Toff=10*10**-6;\n",
"//consider duty cycle=a\n",
"a=Ton/(Ton+Toff);\n",
"disp(a);\n",
"f=(1/(Ton+Toff))\n",
"disp('kHZ',f*10**-3,'f=');"
   ]
   }
,
{
		   "cell_type": "markdown",
		   "metadata": {},
		   "source": [
			"## Example 17.6: dc_output_voltage.sce"
		   ]
		  },
  {
"cell_type": "code",
	   "execution_count": null,
	   "metadata": {
	    "collapsed": true
	   },
	   "outputs": [],
"source": [
"clc;\n",
"//e.g 17.6\n",
"Ton=30*10**-3;\n",
"Toff=10*10**-3;\n",
"Vdc=200;\n",
"a=Ton/(Ton+Toff);\n",
"disp(a);\n",
"Vl=Vdc*a;\n",
"disp('V',Vl*1,'Vl=');"
   ]
   }
],
"metadata": {
		  "kernelspec": {
		   "display_name": "Scilab",
		   "language": "scilab",
		   "name": "scilab"
		  },
		  "language_info": {
		   "file_extension": ".sce",
		   "help_links": [
			{
			 "text": "MetaKernel Magics",
			 "url": "https://github.com/calysto/metakernel/blob/master/metakernel/magics/README.md"
			}
		   ],
		   "mimetype": "text/x-octave",
		   "name": "scilab",
		   "version": "0.7.1"
		  }
		 },
		 "nbformat": 4,
		 "nbformat_minor": 0
}
