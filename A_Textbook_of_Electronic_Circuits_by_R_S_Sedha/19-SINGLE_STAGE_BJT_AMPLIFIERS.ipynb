{
"cells": [
 {
		   "cell_type": "markdown",
	   "metadata": {},
	   "source": [
       "# Chapter 19: SINGLE STAGE BJT AMPLIFIERS"
	   ]
	},
{
		   "cell_type": "markdown",
		   "metadata": {},
		   "source": [
			"## Example 19.10: resistance_voltage_gain_current_gain_power_gain.sce"
		   ]
		  },
  {
"cell_type": "code",
	   "execution_count": null,
	   "metadata": {
	    "collapsed": true
	   },
	   "outputs": [],
"source": [
"clc;\n",
"VS=10*10**-3;\n",
"a=0.98;\n",
"VBE=0.7;\n",
"VCC=10;\n",
"RC=10*10**3;\n",
"RL=5.1*10**3;\n",
"RE=20*10**3;\n",
"VEE=10;\n",
"IE=(VEE-VBE)/RE;\n",
"re=25/IE*10**-3;\n",
"Ri=re;\n",
"Ris=(RE*re)/(RE+re);\n",
"disp('ohm',Ris,'Ris=');\n",
"Ai=a;\n",
"disp(Ai);\n",
"rL=(RC*RL)/(RC+RL);\n",
"Av=rL/re;\n",
"disp(Av);\n",
"Ap=Av*Ai;\n",
"disp(Ap);\n",
"Gp=10*log10(Ap);\n",
"disp('dB',Gp,'Gp=');\n",
"Vin=VS;\n",
"Vo=Av*Vin;\n",
"disp('mV',Vo*10**3,'Vo=');"
   ]
   }
,
{
		   "cell_type": "markdown",
		   "metadata": {},
		   "source": [
			"## Example 19.11: VOLTAGE_GAIN.sce"
		   ]
		  },
  {
"cell_type": "code",
	   "execution_count": null,
	   "metadata": {
	    "collapsed": true
	   },
	   "outputs": [],
"source": [
"clc;\n",
"Rs=50;\n",
"IE=0.465*10**-3;\n",
"re1=53.8;\n",
"Ri=53.8;\n",
"Ris=52.4;\n",
"rL=3.38*10**3;\n",
"Avs=rL/(Rs+re1);\n",
"disp(Avs);\n",
"Av=rL/re1;\n",
"disp(Av);\n",
"Vs=10;\n",
"vo=Avs*Vs;\n",
"vin=vo/Av;\n",
"disp('mV',vin,'vin=');\n",
""
   ]
   }
,
{
		   "cell_type": "markdown",
		   "metadata": {},
		   "source": [
			"## Example 19.12: resistance_and_voltage_gain.sce"
		   ]
		  },
  {
"cell_type": "code",
	   "execution_count": null,
	   "metadata": {
	    "collapsed": true
	   },
	   "outputs": [],
"source": [
"clc;\n",
"VEE=10;\n",
"RE=10*10**3;\n",
"RB=100*10**3;\n",
"B=50;\n",
"VBE=0.7;\n",
"IE=(VEE-VBE)/(RE+(RB/B));\n",
"re=25/IE*10**-3;\n",
"Ri=B*(RE+re);\n",
"disp('Kohm',Ri*10**-3,'Ri=');\n",
"Ris=(RB*Ri)/(RB+Ri);\n",
"Rs=0;\n",
"Ro=re+((RB*Rs)/(RB+Rs))/B;\n",
"disp('ohm',Ro,'Ro=');\n",
"Av=RE/(re+RE);\n",
"disp(Av);"
   ]
   }
,
{
		   "cell_type": "markdown",
		   "metadata": {},
		   "source": [
			"## Example 19.13: resistance_and_voltage.sce"
		   ]
		  },
  {
"cell_type": "code",
	   "execution_count": null,
	   "metadata": {
	    "collapsed": true
	   },
	   "outputs": [],
"source": [
"clc;\n",
"B=80;\n",
"VBE=0.7;\n",
"VCC=15;\n",
"R1=20*10**3;\n",
"R2=20*10**3;\n",
"RS=2*10**3;\n",
"VS=5*10**-3;\n",
"RE=8.2*10**3;\n",
"RL=1.5*10**3;\n",
"VTH=VCC*R2/(R1+R2);\n",
"RTH=(R1*R2)/(R1+R2);\n",
"IE=(VTH-VBE)/(RE+(RTH/B));\n",
"disp('mA',IE*10**3,'IE=');\n",
"re=25/IE*10**-3;\n",
"rL=(RE*RL)/(RE+RL);\n",
"Ri=B*(rL+re);\n",
"Ris=(RTH*Ri)/(RTH+Ri);\n",
"disp('kohm',Ris*10**-3,'Ris=');\n",
"Ro=re+((RS*RTH)/(RS+RTH))/B;\n",
"disp('ohm',Ro,'Ro=');\n",
"Vin=VS*Ris/(RS+Ris);\n",
"disp('mV',Vin*10**3,'Vin=');"
   ]
   }
,
{
		   "cell_type": "markdown",
		   "metadata": {},
		   "source": [
			"## Example 19.1: resistance_and_voltage_gain.sce"
		   ]
		  },
  {
"cell_type": "code",
	   "execution_count": null,
	   "metadata": {
	    "collapsed": true
	   },
	   "outputs": [],
"source": [
"clc;\n",
"//e.g 19.1\n",
"Vcc=10;\n",
"Rc=10*10**3;\n",
"Rb=1*10**6;\n",
"beta=100;\n",
"Vbe=0.7;\n",
"Ib=(Vcc-Vbe)/Rb;\n",
"disp('microA',Ib*10**6,'Ib=');\n",
"Ic=beta*Ib;\n",
"disp('mA',Ic*10**3,'Ic=');\n",
"Ie=Ic;\n",
"re=25/(Ie*10**3);\n",
"disp('ohm',re*1,'re=');\n",
"Ri=beta*re;\n",
"disp('kohm',Ri*10**-3,'Ri=');\n",
"Ris=(Rb*beta*re)/(Rb+beta*re);\n",
"disp('kohm',Ris*10**-3,'Ris=');\n",
"R0=Rc;\n",
"disp('kOhm',R0*10**-3,'R0=');\n",
"Av=Rc/re;\n",
"disp(Av);"
   ]
   }
,
{
		   "cell_type": "markdown",
		   "metadata": {},
		   "source": [
			"## Example 19.2: current_and_gain.sce"
		   ]
		  },
  {
"cell_type": "code",
	   "execution_count": null,
	   "metadata": {
	    "collapsed": true
	   },
	   "outputs": [],
"source": [
"clc;\n",
"//e.g 19.2\n",
"Ri=2.5*10**3;\n",
"Av=200;\n",
"Vs=5*10**-3;\n",
"beta=50;\n",
"ib=(Vs/Ri)\n",
"disp('microA',ib*10**6,'ib=');\n",
"ic=beta*ib;\n",
"disp('microA',ic*10**6,'ic=');\n",
"Ai=beta;\n",
"Ap=Ai*Av;\n",
"disp(Ap);\n",
"Gp=10*log10(Ap);\n",
"disp('dB',Gp*1,'Gp=');"
   ]
   }
,
{
		   "cell_type": "markdown",
		   "metadata": {},
		   "source": [
			"## Example 19.3: resistance_and_gain.sce"
		   ]
		  },
  {
"cell_type": "code",
	   "execution_count": null,
	   "metadata": {
	    "collapsed": true
	   },
	   "outputs": [],
"source": [
"clc;\n",
"//e.g 19.3\n",
"Vcc=20;\n",
"Rc=5*10**3;\n",
"Re=1*10**3;\n",
"Rb=100*10**3;\n",
"beta=150;\n",
"Vbe=0.7;\n",
"Ic=Vcc/(Re+(Rb/beta));\n",
"disp('mA',Ic*10**3,'Ic=');\n",
"Ie=Ic;\n",
"re=25/(Ie*10**3);\n",
"disp('ohm',re*1,'re=');\n",
"Ri=beta*(re+Re);\n",
"disp('kohm',Ri*10**-3,'Ri=');\n",
"Ris=(Rb*Ri)/(Rb+Ri);\n",
"disp('kohm',Ris*10**-3,'Ris=');\n",
"Av=Rc/Re;\n",
"disp(Av);\n",
"Gp=10*log10(Av);\n",
"disp('dB',Gp*1,'Gp=');"
   ]
   }
,
{
		   "cell_type": "markdown",
		   "metadata": {},
		   "source": [
			"## Example 19.4: voltage_gain_and_resistance.sce"
		   ]
		  },
  {
"cell_type": "code",
	   "execution_count": null,
	   "metadata": {
	    "collapsed": true
	   },
	   "outputs": [],
"source": [
"clc;\n",
"//e.g 19.4\n",
"Vcc=12;\n",
"Rc=10*10**3;\n",
"Re=1*10**3;\n",
"Rb=500*10**3;\n",
"beta=50;\n",
"Ic=Vcc/(Re+(Rb/beta));\n",
"disp('mA',Ic*10**3,'Ic=');\n",
"Ie=Ic;\n",
"re=25/(Ie*10**3);\n",
"disp('ohm',re*1,'re=');\n",
"Ri=beta*re;\n",
"disp('ohm',Ri*1,'Ri=');\n",
"Ris=(Rb*Ri)/(Rb+Ri);\n",
"disp('ohm',Ris*1,'Ris=');\n",
"R0=Rc;\n",
"Av=R0/re;\n",
"disp(Av);\n",
"Av=Rc/Re;\n",
"disp(Av);"
   ]
   }
,
{
		   "cell_type": "markdown",
		   "metadata": {},
		   "source": [
			"## Example 19.5: voltage_and_impedance.sce"
		   ]
		  },
  {
"cell_type": "code",
	   "execution_count": null,
	   "metadata": {
	    "collapsed": true
	   },
	   "outputs": [],
"source": [
"clc;\n",
"//e.g 19.5\n",
"Vcc=30;\n",
"Rc=10*10**3;\n",
"RL=3.3*10**3;\n",
"R1=47*10**3;\n",
"R2=15*10**3;\n",
"Re=8.2*10**3;\n",
"beta=200;\n",
"Vs=5*10**-3;\n",
"Vbe=0.7;\n",
"Vth=(Vcc*R2)/(R1+R2);\n",
"disp('V',Vth*1,'Vth=');\n",
"Rth=(R1*R2)/(R1+R2);\n",
"disp('10^3ohm',Rth*10**-3,'Rth=');\n",
"Ie=(Vth-Vbe)/(Re+(Rth/beta));\n",
"disp('mA',Ie*10**3,'Ie=');\n",
"re=25/(Ie*10**3);\n",
"disp('ohm',re*1,'re=');\n",
"rl=(Rc*RL)/(Rc+RL);\n",
"disp('Kohm',rl*10**-3,'rl=');\n",
"Av=rl/re;\n",
"disp(Av);\n",
"Vin=5;\n",
"V0=Av*Vin\n",
"disp('mV',V0*1,'V0=');\n",
"Ri=beta*re;\n",
"disp('Kohm',Ri*10**-3,'Ri=');\n",
"Ris=(Rth*Ri)/(Rth+Ri);\n",
"disp('Kohm',Ris*10**-3,'Ris=');"
   ]
   }
,
{
		   "cell_type": "markdown",
		   "metadata": {},
		   "source": [
			"## Example 19.6: output_voltage_and_output_gain.sce"
		   ]
		  },
  {
"cell_type": "code",
	   "execution_count": null,
	   "metadata": {
	    "collapsed": true
	   },
	   "outputs": [],
"source": [
"clc;\n",
"//e.g 19.6\n",
"Vcc=10;\n",
"Rc=5*10**3;\n",
"Re=1*10**3;0\n",
"RL=50*10**3;\n",
"R1=50*10**3;\n",
"R2=10*10**3;\n",
"Rs=600;\n",
"beta=50;\n",
"Vs=10*10**-3;\n",
"Vbe=0.7;\n",
"Vth=(Vcc*R2)/(R1+R2);\n",
"disp('V',Vth*1,'Vth=');\n",
"Rth=(R1*R2)/(R1+R2);\n",
"disp('10^3ohm',Rth*10**-3,'Rth=');\n",
"Ie=(Vth-Vbe)/(Re+(Rth/beta));\n",
"disp('mA',Ie*10**3,'Ie=');\n",
"re=25/(Ie*10**3);\n",
"disp('ohm',re*1,'re=');\n",
"Ri=beta*re;\n",
"Ris=(Rth*Ri)/(Rth+Ri);\n",
"disp('ohm',Ris*1,'Ris=');\n",
"rl=(Rc*RL)/(Rc+RL);\n",
"disp('Kohm',rl*10**-3,'rl=');\n",
"Av=rl/re;\n",
"disp(Av);\n",
"Vin=(Vs*Ris)/(Ris+Rs);\n",
"disp('mV',Vin*10**3,'Vin=');\n",
"V0=Av*Vin;\n",
"disp('mV',V0*1,'V0=');\n",
"Avs=(Av*Vin)/Vs;\n",
"disp(Avs);"
   ]
   }
,
{
		   "cell_type": "markdown",
		   "metadata": {},
		   "source": [
			"## Example 19.7: voltage_and_impedance.sce"
		   ]
		  },
  {
"cell_type": "code",
	   "execution_count": null,
	   "metadata": {
	    "collapsed": true
	   },
	   "outputs": [],
"source": [
"clc;\n",
"//e.g 19.7\n",
"Vcc=-18;\n",
"Rc=4.3*10**3;\n",
"Re=1*10**3;0\n",
"RL=3*10**3;\n",
"R1=39*10**3;\n",
"R2=8.2*10**3;\n",
"beta1=200;\n",
"Vbe=-0.7;\n",
"Vth=(Vcc*R2)/(R1+R2);\n",
"disp('V',Vth*1,'Vth=');\n",
"Rth=(R1*R2)/(R1+R2);\n",
"disp('kohm',Rth*10**-3,'Rth=');\n",
"Ie=(Vth-Vbe)/(Re+(Rth/beta1));\n",
"disp('mA',Ie*10**3,'Ie=');\n",
"re1=(30*10**-3)/(-Ie);\n",
"disp('ohm',re1*1,'re1=');\n",
"Ri=beta1*re;\n",
"Ris=(Rth*Ri)/(Rth+Ri);\n",
"disp('kohm',Ris*10**-3,'Ris=');\n",
"re=(Rc*RL)/(Rc+RL);\n",
"disp('Kohm',re*10**-3,'re=');\n",
"Av=re/re1;\n",
"disp(Av);"
   ]
   }
,
{
		   "cell_type": "markdown",
		   "metadata": {},
		   "source": [
			"## Example 19.8: Av_Ri_Ro_and_Avs.sce"
		   ]
		  },
  {
"cell_type": "code",
	   "execution_count": null,
	   "metadata": {
	    "collapsed": true
	   },
	   "outputs": [],
"source": [
"clc;\n",
"//e.g 19.8\n",
"Vcc=20;\n",
"Rc=5.7*10**3;\n",
"Re=1*10**3;\n",
"R1=100*10**3;\n",
"R2=10*10**3;\n",
"Rs=100;\n",
"beta1=100;\n",
"Vbe=0.7;\n",
"Vth=(Vcc*R2)/(R1+R2);\n",
"disp('V',Vth*1,'Vth=');\n",
"Rth=(R1*R2)/(R1+R2);\n",
"disp('Kohm',Rth*10**-3,'Rth=');\n",
"Ie=(Vth-Vbe)/(Re+(Rth/beta1));\n",
"disp('mA',Ie*10**3,'Ie=');\n",
"re=25/(Ie*10**3);\n",
"disp('ohm',re*1,'re=');\n",
"Ri=beta1*re;\n",
"Ris=(Rth*Ri)/(Rth+Ri);\n",
"disp('ohm',Ris*1,'Ris=');\n",
"rl=Rc;\n",
"Av=rl/re;\n",
"disp(Av);\n",
"Vin=(Vs*Ris)/(Ris+Rs);\n",
"disp('mV',Vin*1,'Vin=');\n",
"V0=Av*Vin;\n",
"disp('V',V0*10**-3,'V0=');\n",
"Avs=(Av*Vin)/Vs;\n",
"disp(Avs);"
   ]
   }
,
{
		   "cell_type": "markdown",
		   "metadata": {},
		   "source": [
			"## Example 19.9: GAIN_VOLTAGE_AND_RESISTANCE.sce"
		   ]
		  },
  {
"cell_type": "code",
	   "execution_count": null,
	   "metadata": {
	    "collapsed": true
	   },
	   "outputs": [],
"source": [
"clc;\n",
"//e.g 19.9\n",
"Vcc=10;\n",
"Rc=5*10**3;\n",
"RE1=500;\n",
"R1=50*10**3;\n",
"R2=10*10**3;\n",
"Rs=600;\n",
"rE=500;\n",
"beta1=50;\n",
"Vbe=0.7;\n",
"vs=100*10**-3;\n",
"Rl=50*10**3;\n",
"Vth=(Vcc*R2)/(R1+R2);\n",
"disp('V',Vth*1,'Vth=');\n",
"Rth=(R1*R2)/(R1+R2);\n",
"disp('10^3ohm',Rth*10**-3,'Rth=');\n",
"RE=RE1+rE;\n",
"disp('ohm',RE*1,'RE=');\n",
"Ie=(Vth-Vbe)/(RE+(Rth/beta1));\n",
"disp('mA',Ie*10**3,'Ie=');\n",
"re=25/(Ie*10**3);\n",
"disp('ohm',re*1,'re=');\n",
"Ri=beta1*(re+rE);\n",
"disp('Kohm',Ri*10**-3,'Ri=');\n",
"Ris=(Rth*Ri)/(Rth+Ri);\n",
"disp('ohm',Ris*1,'Ris=');\n",
"rl=(Rc*Rl)/(Rc+Rl)\n",
"disp('kohm',rl*10**-3,'rl=');\n",
"Av=rl/(re+rE);\n",
"disp(Av);\n",
"VinBYVs=(Ris)/(Ris+Rs);\n",
"disp('V',VinBYVs*1,'VinBYVs=');\n",
"Avs=Av*VinBYVs;\n",
"disp(Avs);\n",
"V0=Avs*vs;\n",
"disp('mV',V0*10^3,'V0=');//answer printed in the book is wrong(variation in decimal point) "
   ]
   }
],
"metadata": {
		  "kernelspec": {
		   "display_name": "Scilab",
		   "language": "scilab",
		   "name": "scilab"
		  },
		  "language_info": {
		   "file_extension": ".sce",
		   "help_links": [
			{
			 "text": "MetaKernel Magics",
			 "url": "https://github.com/calysto/metakernel/blob/master/metakernel/magics/README.md"
			}
		   ],
		   "mimetype": "text/x-octave",
		   "name": "scilab",
		   "version": "0.7.1"
		  }
		 },
		 "nbformat": 4,
		 "nbformat_minor": 0
}
