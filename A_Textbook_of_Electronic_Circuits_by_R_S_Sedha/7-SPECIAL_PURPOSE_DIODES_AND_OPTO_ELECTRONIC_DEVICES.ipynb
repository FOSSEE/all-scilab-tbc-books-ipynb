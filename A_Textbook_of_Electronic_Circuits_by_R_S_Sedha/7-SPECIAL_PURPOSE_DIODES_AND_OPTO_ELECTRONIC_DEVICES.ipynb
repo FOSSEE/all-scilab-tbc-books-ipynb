{
"cells": [
 {
		   "cell_type": "markdown",
	   "metadata": {},
	   "source": [
       "# Chapter 7: SPECIAL PURPOSE DIODES AND OPTO ELECTRONIC DEVICES"
	   ]
	},
{
		   "cell_type": "markdown",
		   "metadata": {},
		   "source": [
			"## Example 7.10: resistance_and_current.sce"
		   ]
		  },
  {
"cell_type": "code",
	   "execution_count": null,
	   "metadata": {
	    "collapsed": true
	   },
	   "outputs": [],
"source": [
"clc;\n",
"r=1*10**3;\n",
"I=10*10**-3;\n",
"V=30;\n",
"//I=30/(R+r)\n",
"R=(V/I)-r;//when dark\n",
"disp('Kohm',R*10**-3,'R=');\n",
"R=100*10**3;//when illuminated\n",
"Id=(V/(r+R));\n",
"disp('mA',Id*10**3,'Id=');"
   ]
   }
,
{
		   "cell_type": "markdown",
		   "metadata": {},
		   "source": [
			"## Example 7.1: value_of_Izm.sce"
		   ]
		  },
  {
"cell_type": "code",
	   "execution_count": null,
	   "metadata": {
	    "collapsed": true
	   },
	   "outputs": [],
"source": [
"clc;\n",
"//ex7.01\n",
"pzm=500*10**-3;\n",
"vz=6.8;\n",
"Izm=pzm/vz;\n",
"disp('mA',Izm*10**3,'Izm=');"
   ]
   }
,
{
		   "cell_type": "markdown",
		   "metadata": {},
		   "source": [
			"## Example 7.2: maximum_power_dissipatio.sce"
		   ]
		  },
  {
"cell_type": "code",
	   "execution_count": null,
	   "metadata": {
	    "collapsed": true
	   },
	   "outputs": [],
"source": [
"clc;\n",
"//pg no. 117\n",
"pzm=500*10**-3;\n",
"d=3.33*10**-3;\n",
"a=75;\n",
"b=50;\n",
"Td=d*(a-b);\n",
"disp('mW',Td*10**3,'Td=');\n",
"pz=pzm-Td ;\n",
"disp('mW',pz*10**3,'pz=');"
   ]
   }
,
{
		   "cell_type": "markdown",
		   "metadata": {},
		   "source": [
			"## Example 7.3: resistance_of_device.sce"
		   ]
		  },
  {
"cell_type": "code",
	   "execution_count": null,
	   "metadata": {
	    "collapsed": true
	   },
	   "outputs": [],
"source": [
"clc;\n",
"//pg n0 120\n",
"IZ=10*10**-3;\n",
"vz=0.05;\n",
"rz=vz/IZ;\n",
"disp('ohm',rz*1,'rz=');"
   ]
   }
,
{
		   "cell_type": "markdown",
		   "metadata": {},
		   "source": [
			"## Example 7.4: terminal_voltage.sce"
		   ]
		  },
  {
"cell_type": "code",
	   "execution_count": null,
	   "metadata": {
	    "collapsed": true
	   },
	   "outputs": [],
"source": [
"clc;\n",
"Vz=4.7;\n",
"rz=15;\n",
"Iz=20*10**-3;\n",
"VZ1= Vz+(rz*Iz);\n",
"disp('V',VZ1*1,'VZ1=');"
   ]
   }
,
{
		   "cell_type": "markdown",
		   "metadata": {},
		   "source": [
			"## Example 7.5: tuning_range.sce"
		   ]
		  },
  {
"cell_type": "code",
	   "execution_count": null,
	   "metadata": {
	    "collapsed": true
	   },
	   "outputs": [],
"source": [
"clc;\n",
"//e.g7.5\n",
"C1=5*10**-12;//min\n",
"C2=5*10**-12;//min\n",
"L=10*10**-3;\n",
"CT=(C1*C2)/(C1+C2);//CTmax\n",
"disp('F',CT*1,'CT=');\n",
"fo=1/(2*%pi*sqrt(L*CT));\n",
"disp('MHZ',fo*10**-6,'fo=');\n",
"C1=50*10**-12;//max\n",
"C2=50*10**-12;//max\n",
"CT=(C1*C2)/(C1+C2);//CTmin\n",
"disp('F',CT*1,'CT=');\n",
"fo=1/(2*%pi*sqrt(L*CT));\n",
"disp('kHZ',fo*10**-3,'fo=');"
   ]
   }
,
{
		   "cell_type": "markdown",
		   "metadata": {},
		   "source": [
			"## Example 7.6: frequency_of_5th_harmonic.sce"
		   ]
		  },
  {
"cell_type": "code",
	   "execution_count": null,
	   "metadata": {
	    "collapsed": true
	   },
	   "outputs": [],
"source": [
"clc;\n",
"//e.g 7.6\n",
"T=0.04*10**-6;\n",
"f=1/T;\n",
"disp('MHz',f*10**-6,'f=');\n",
"disp('MHz',f*5*10**-6,'f=');//frequency of 5th harmonic"
   ]
   }
,
{
		   "cell_type": "markdown",
		   "metadata": {},
		   "source": [
			"## Example 7.7: resistor.sce"
		   ]
		  },
  {
"cell_type": "code",
	   "execution_count": null,
	   "metadata": {
	    "collapsed": true
	   },
	   "outputs": [],
"source": [
"clc;\n",
"//e.g 7.7\n",
"Vs=8;\n",
"VDmin=1.8;\n",
"VDmax=2;\n",
"Ifmax=16*10**-3;\n",
"Rs=(Vs-VDmin)/Ifmax;\n",
"disp('ohm',Rs*1,'Rs=');\n",
"Rsmax=(Vs-VDmax)/Ifmax;\n",
"disp('ohm',Rsmax*1,'Rsmax=');"
   ]
   }
,
{
		   "cell_type": "markdown",
		   "metadata": {},
		   "source": [
			"## Example 7.8: minimum_and_maximum_value_of_current.sce"
		   ]
		  },
  {
"cell_type": "code",
	   "execution_count": null,
	   "metadata": {
	    "collapsed": true
	   },
	   "outputs": [],
"source": [
"clc;\n",
"//e.g 7.8\n",
"VDmin=1.5;\n",
"VDmax=2.3;\n",
"Vs=10;\n",
"R1=470;\n",
"Imax=(Vs-VDmin)/R1;\n",
"disp('mA',Imax*10**3,'Imax=');\n",
"Imin=(Vs-VDmax)/R1;\n",
"disp('mA',Imin*10**3,'Imin=')"
   ]
   }
,
{
		   "cell_type": "markdown",
		   "metadata": {},
		   "source": [
			"## Example 7.9: Imin_and_Imax.sce"
		   ]
		  },
  {
"cell_type": "code",
	   "execution_count": null,
	   "metadata": {
	    "collapsed": true
	   },
	   "outputs": [],
"source": [
"clc;\n",
"\n",
"//e.g 7.9\n",
"VDmin=1.8;\n",
"VDmax=3;\n",
"Vs1=24;\n",
"Rs1=820;\n",
"Vs2=5;\n",
"Rs2=120;\n",
"Imin=(Vs2-VDmax)/Rs2;\n",
"disp('mA',Imin*10**3,'Imin=');\n",
"Imax=(Vs1-VDmin)/Rs1;\n",
"disp('mA',Imax*10**3,'Imax=');\n",
"Imin=(Vs2-VDmax)/Rs2;\n",
"disp('mA',Imin*10**3,'Imin=');\n",
"Imax=(Vs2-VDmin)/Rs2;\n",
"disp('mA',Imax*10**3,'Imax=');"
   ]
   }
],
"metadata": {
		  "kernelspec": {
		   "display_name": "Scilab",
		   "language": "scilab",
		   "name": "scilab"
		  },
		  "language_info": {
		   "file_extension": ".sce",
		   "help_links": [
			{
			 "text": "MetaKernel Magics",
			 "url": "https://github.com/calysto/metakernel/blob/master/metakernel/magics/README.md"
			}
		   ],
		   "mimetype": "text/x-octave",
		   "name": "scilab",
		   "version": "0.7.1"
		  }
		 },
		 "nbformat": 4,
		 "nbformat_minor": 0
}
