{
"cells": [
 {
		   "cell_type": "markdown",
	   "metadata": {},
	   "source": [
       "# Chapter 33: OP AMP APPLICATION"
	   ]
	},
{
		   "cell_type": "markdown",
		   "metadata": {},
		   "source": [
			"## Example 33.1: value_of_capacitance.sce"
		   ]
		  },
  {
"cell_type": "code",
	   "execution_count": null,
	   "metadata": {
	    "collapsed": true
	   },
	   "outputs": [],
"source": [
"clc;\n",
"R1=1*10**3;\n",
"R2=100*10**3;\n",
"Rf=R2;\n",
"f1=159;\n",
"C=1/(2*%pi*R2*f1);\n",
"disp('microF',C*1,'C=');"
   ]
   }
,
{
		   "cell_type": "markdown",
		   "metadata": {},
		   "source": [
			"## Example 33.2: frequency.sce"
		   ]
		  },
  {
"cell_type": "code",
	   "execution_count": null,
	   "metadata": {
	    "collapsed": true
	   },
	   "outputs": [],
"source": [
"clc;\n",
"R1=1*10**3;\n",
"Rf=51*10**3;\n",
"Cf=0.1*10**-6;\n",
"f=1/(2*%pi*Rf*Cf);\n",
"disp('HZ',f*1,'f=');//ans given in book is wrong\n",
"fmin=10*f;\n",
"disp('HZ',fmin*1,'fmin=');"
   ]
   }
,
{
		   "cell_type": "markdown",
		   "metadata": {},
		   "source": [
			"## Example 33.3: cutoff_frequency_and_max_operating_frequency.sce"
		   ]
		  },
  {
"cell_type": "code",
	   "execution_count": null,
	   "metadata": {
	    "collapsed": true
	   },
	   "outputs": [],
"source": [
"clc;\n",
"R1=10*10**3;\n",
"Cf=0.01*10**-6;\n",
"f=1/(2*%pi*R1*Cf);\n",
"disp('HZ',f*1,'f=');//ans given in book is wrong\n",
"fmin=f/10;\n",
"disp('HZ',fmin*1,'fmin=');"
   ]
   }
,
{
		   "cell_type": "markdown",
		   "metadata": {},
		   "source": [
			"## Example 33.4: frequency.sce"
		   ]
		  },
  {
"cell_type": "code",
	   "execution_count": null,
	   "metadata": {
	    "collapsed": true
	   },
	   "outputs": [],
"source": [
"clc;\n",
"R=51*10**3;\n",
"C=0.001*10**-6;\n",
"f0=1/(2*%pi*R*C);\n",
"disp('HZ',f0*1,'f0=');"
   ]
   }
],
"metadata": {
		  "kernelspec": {
		   "display_name": "Scilab",
		   "language": "scilab",
		   "name": "scilab"
		  },
		  "language_info": {
		   "file_extension": ".sce",
		   "help_links": [
			{
			 "text": "MetaKernel Magics",
			 "url": "https://github.com/calysto/metakernel/blob/master/metakernel/magics/README.md"
			}
		   ],
		   "mimetype": "text/x-octave",
		   "name": "scilab",
		   "version": "0.7.1"
		  }
		 },
		 "nbformat": 4,
		 "nbformat_minor": 0
}
