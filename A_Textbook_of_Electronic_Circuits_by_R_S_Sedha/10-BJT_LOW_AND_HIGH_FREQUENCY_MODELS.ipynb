{
"cells": [
 {
		   "cell_type": "markdown",
	   "metadata": {},
	   "source": [
       "# Chapter 10: BJT LOW AND HIGH FREQUENCY MODELS"
	   ]
	},
{
		   "cell_type": "markdown",
		   "metadata": {},
		   "source": [
			"## Example 10.1: hybrid_pi_parameters.sce"
		   ]
		  },
  {
"cell_type": "code",
	   "execution_count": null,
	   "metadata": {
	    "collapsed": true
	   },
	   "outputs": [],
"source": [
"clc;\n",
"//e.g 10.1\n",
"Ic=10;\n",
"Vce=10;\n",
"hie=500;\n",
"hoe=10**-5;\n",
"hfe=100;\n",
"hre=10**-4;\n",
"gm=Ic/25;\n",
"disp('ohm',gm*1,'gm=');\n",
"rbe=hfe/gm;\n",
"disp('ohm',rbe*1,'rbe=');\n",
"rbb=hie-rbe;\n",
"disp(rbb);\n",
"gbc=hre/rbe;\n",
"disp('*10^-7',gbc*10**7,'gbc=');\n",
"rce=-1/((hoe-(1+hfe)*gbc));\n",
"disp('kohm',rce*10**-3,'rce=');"
   ]
   }
],
"metadata": {
		  "kernelspec": {
		   "display_name": "Scilab",
		   "language": "scilab",
		   "name": "scilab"
		  },
		  "language_info": {
		   "file_extension": ".sce",
		   "help_links": [
			{
			 "text": "MetaKernel Magics",
			 "url": "https://github.com/calysto/metakernel/blob/master/metakernel/magics/README.md"
			}
		   ],
		   "mimetype": "text/x-octave",
		   "name": "scilab",
		   "version": "0.7.1"
		  }
		 },
		 "nbformat": 4,
		 "nbformat_minor": 0
}
