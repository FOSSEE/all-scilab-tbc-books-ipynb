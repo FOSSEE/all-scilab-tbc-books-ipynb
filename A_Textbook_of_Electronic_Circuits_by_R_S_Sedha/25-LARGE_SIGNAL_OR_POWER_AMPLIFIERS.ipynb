{
"cells": [
 {
		   "cell_type": "markdown",
	   "metadata": {},
	   "source": [
       "# Chapter 25: LARGE SIGNAL OR POWER AMPLIFIERS"
	   ]
	},
{
		   "cell_type": "markdown",
		   "metadata": {},
		   "source": [
			"## Example 25.10: max_power.sce"
		   ]
		  },
  {
"cell_type": "code",
	   "execution_count": null,
	   "metadata": {
	    "collapsed": true
	   },
	   "outputs": [],
"source": [
"clc;\n",
"RL=8;\n",
"a=10;\n",
"ICQ=500*10**-3;\n",
"RL=a**2*RL;\n",
"Poac=(1/2)*ICQ**2*RL;\n",
"disp('W',Poac,'Poac=');"
   ]
   }
,
{
		   "cell_type": "markdown",
		   "metadata": {},
		   "source": [
			"## Example 25.11: ac_output_power_ICQ_turns_ratio.sce"
		   ]
		  },
  {
"cell_type": "code",
	   "execution_count": null,
	   "metadata": {
	    "collapsed": true
	   },
	   "outputs": [],
"source": [
"clc;\n",
"Ptrdc=100*10**-3;\n",
"VCC=10;\n",
"RL=16;\n",
"no=0.5;\n",
"Poac=no*Ptrdc;\n",
"disp('mW',Poac*10**3,'Poac=');\n",
"ICQ=2*Poac/VCC;\n",
"disp('A',ICQ,'ICQ=');\n",
"RL1=VCC/ICQ;\n",
"a=sqrt(RL1/RL);\n",
"disp(a);"
   ]
   }
,
{
		   "cell_type": "markdown",
		   "metadata": {},
		   "source": [
			"## Example 25.12: power.sce"
		   ]
		  },
  {
"cell_type": "code",
	   "execution_count": null,
	   "metadata": {
	    "collapsed": true
	   },
	   "outputs": [],
"source": [
"clc;\n",
"VCC=10;\n",
"IP=50*10**-3;\n",
"RL=4;\n",
"I=IP/sqrt(2);\n",
"Poac=I^2*RL;\n",
"disp('mW',Poac*10**3,'Poac=');\n",
"ICQ=IP;\n",
"RL1=VCC/ICQ;\n",
"a=sqrt(RL1/RL);\n",
"disp(a);\n",
"V1=VCC;\n",
"V2=V1/a;\n",
"I2p=V2/RL;\n",
"I2=I2p/sqrt(2);\n",
"P=(I2^2)*RL;\n",
"disp('mW',P*10**3,'P=');"
   ]
   }
,
{
		   "cell_type": "markdown",
		   "metadata": {},
		   "source": [
			"## Example 25.13: power.sce"
		   ]
		  },
  {
"cell_type": "code",
	   "execution_count": null,
	   "metadata": {
	    "collapsed": true
	   },
	   "outputs": [],
"source": [
"clc;\n",
"RL=8;\n",
"VP=16;\n",
"P=(VP^2)/(2*RL);\n",
"disp('W',P,'P=');"
   ]
   }
,
{
		   "cell_type": "markdown",
		   "metadata": {},
		   "source": [
			"## Example 25.14: PinDC_PoAC.sce"
		   ]
		  },
  {
"cell_type": "code",
	   "execution_count": null,
	   "metadata": {
	    "collapsed": true
	   },
	   "outputs": [],
"source": [
"clc;\n",
"no=0.6;\n",
"Pcdc=2.5;\n",
"//Poac=Pindc*no;\n",
"//Pindc=2*Pcdc+Poac;\n",
"Pindc=(2*Pcdc)/(1-no);\n",
"disp('W',Pindc,'Pindc=');\n",
"Poac=0.6*Pindc;\n",
"disp('W',Poac,'Poac=');"
   ]
   }
,
{
		   "cell_type": "markdown",
		   "metadata": {},
		   "source": [
			"## Example 25.1: collector_current_and_Vce.sce"
		   ]
		  },
  {
"cell_type": "code",
	   "execution_count": null,
	   "metadata": {
	    "collapsed": true
	   },
	   "outputs": [],
"source": [
"clc;\n",
"VCC=10;\n",
"R1=10*10**3;\n",
"R2=5*10**3;\n",
"RC=1*10**3;\n",
"RE=500;\n",
"RL=1.5*10**3;\n",
"B=100;\n",
"VBE=0.7;\n",
"VR2=VCC*(R2/(R1+R2));\n",
"IEQ=(VR2-VBE)/RE;\n",
"ICQ=IEQ;\n",
"VCEQ=VCC-ICQ*(RC+RE);\n",
"rL=(RC*RL)/(RC+RL);\n",
"ICsat=ICQ+(VCEQ/rL);\n",
"disp('mA',ICsat*10**3,'ICsat=');\n",
"VCEsat=0;\n",
"disp(VCEsat);\n",
"ICcutoff=0;\n",
"disp(ICcutoff);\n",
"VCEcutoff=VCEQ+ICQ*rL;\n",
"disp('V',VCEcutoff,'VCEcutoff=');"
   ]
   }
,
{
		   "cell_type": "markdown",
		   "metadata": {},
		   "source": [
			"## Example 25.2: COMPLIANCE.sce"
		   ]
		  },
  {
"cell_type": "code",
	   "execution_count": null,
	   "metadata": {
	    "collapsed": true
	   },
	   "outputs": [],
"source": [
"clc;\n",
"VCC=20;\n",
"R1=10*10**3;\n",
"R2=1.8*10**3;\n",
"RC=620;\n",
"RE=200;\n",
"RL=1.2*10**3;\n",
"hfe=180;\n",
"VB=VCC*(R2/(R1+R2));\n",
"VBE=0.7;\n",
"VE=VB-VBE;\n",
"IE=VE/RE;\n",
"IC=IE;\n",
"VCE=VCC-IE*(RC+RE);\n",
"ICQ=IC;\n",
"VCEQ=VCE;\n",
"rL=(RC*RL)/(RC+RL);\n",
"PP=2*ICQ*rL;\n",
"disp('V',PP,'PP=');\n",
"PP=2*VCEQ;\n",
"disp('V',PP,'PP=');"
   ]
   }
,
{
		   "cell_type": "markdown",
		   "metadata": {},
		   "source": [
			"## Example 25.3: voltage_gain_and_power_gain.sce"
		   ]
		  },
  {
"cell_type": "code",
	   "execution_count": null,
	   "metadata": {
	    "collapsed": true
	   },
	   "outputs": [],
"source": [
"clc;\n",
"re=8;\n",
"RC=220;\n",
"RE=47;\n",
"R1=4.7*10**3;\n",
"R2=470;\n",
"B=50;\n",
"rL=RC;\n",
"AV=rL/re;\n",
"Ai=B;\n",
"Ap=AV*Ai;\n",
"disp(Ap);"
   ]
   }
,
{
		   "cell_type": "markdown",
		   "metadata": {},
		   "source": [
			"## Example 25.4: collector_efficiency_and_power_rating_of_transistor.sce"
		   ]
		  },
  {
"cell_type": "code",
	   "execution_count": null,
	   "metadata": {
	    "collapsed": true
	   },
	   "outputs": [],
"source": [
"clc;\n",
"Ptrdc=20;\n",
"Poac=5;\n",
"ne=(Poac/Ptrdc);\n",
"disp('%',ne*100,'ne=');\n",
"'power rating of transistor=20W';"
   ]
   }
,
{
		   "cell_type": "markdown",
		   "metadata": {},
		   "source": [
			"## Example 25.5: ac_power.sce"
		   ]
		  },
  {
"cell_type": "code",
	   "execution_count": null,
	   "metadata": {
	    "collapsed": true
	   },
	   "outputs": [],
"source": [
"\n",
"clc;\n",
"pcdc=10;\n",
"nc=0.32;\n",
"poac=pcdc*nc/(1-nc);\n",
"disp('W',poac,'poac=');"
   ]
   }
,
{
		   "cell_type": "markdown",
		   "metadata": {},
		   "source": [
			"## Example 25.6: power_dissipated.sce"
		   ]
		  },
  {
"cell_type": "code",
	   "execution_count": null,
	   "metadata": {
	    "collapsed": true
	   },
	   "outputs": [],
"source": [
"clc;\n",
"nc=0.5;\n",
"VCC=24;\n",
"Poac=3.5;\n",
"Ptrdc=Poac/nc;\n",
"disp('W',Ptrdc,'Ptrdc=');\n",
"Pcdc=Ptrdc-Poac;\n",
"disp('W',Pcdc,'Pcdc=');"
   ]
   }
,
{
		   "cell_type": "markdown",
		   "metadata": {},
		   "source": [
			"## Example 25.7: power_and_efficiency.sce"
		   ]
		  },
  {
"cell_type": "code",
	   "execution_count": null,
	   "metadata": {
	    "collapsed": true
	   },
	   "outputs": [],
"source": [
"clc;\n",
"VCC=20;\n",
"VCEQ=10;\n",
"ICQ=600*10**-3;\n",
"RL=16;\n",
"IP=300*10**-3;\n",
"Pindc=VCC*ICQ;\n",
"disp('W',Pindc,'Pindc=');\n",
"PRLdc=ICQ**2*RL;\n",
"disp('W',PRLdc,'PRLdc=');\n",
"I=IP/sqrt(2);\n",
"Poac=I**2*RL;\n",
"disp('W',Poac,'Poac=');\n",
"Ptrdc=Pindc-PRLdc;\n",
"disp('W',Ptrdc,'Ptrdc=');\n",
"Pcdc=Ptrdc-Poac;\n",
"disp('W',Pcdc,'Pcdc=');\n",
"no=Poac/Pindc;\n",
"disp('%',no*100,'no=');\n",
"no=Poac/Ptrdc;\n",
"disp('%',no*100,'no=');"
   ]
   }
,
{
		   "cell_type": "markdown",
		   "metadata": {},
		   "source": [
			"## Example 25.8: resistance.sce"
		   ]
		  },
  {
"cell_type": "code",
	   "execution_count": null,
	   "metadata": {
	    "collapsed": true
	   },
	   "outputs": [],
"source": [
"clc;\n",
"a=15;\n",
"RL=8;\n",
"RL1=a**2*RL;\n",
"disp('Kohm',RL1*10**-3,'RL1=');"
   ]
   }
,
{
		   "cell_type": "markdown",
		   "metadata": {},
		   "source": [
			"## Example 25.9: turns_ratio.sce"
		   ]
		  },
  {
"cell_type": "code",
	   "execution_count": null,
	   "metadata": {
	    "collapsed": true
	   },
	   "outputs": [],
"source": [
"clc;\n",
"RL=16;\n",
"RL1=10*10**3;\n",
"a=sqrt(RL1/RL);\n",
"disp(a);"
   ]
   }
],
"metadata": {
		  "kernelspec": {
		   "display_name": "Scilab",
		   "language": "scilab",
		   "name": "scilab"
		  },
		  "language_info": {
		   "file_extension": ".sce",
		   "help_links": [
			{
			 "text": "MetaKernel Magics",
			 "url": "https://github.com/calysto/metakernel/blob/master/metakernel/magics/README.md"
			}
		   ],
		   "mimetype": "text/x-octave",
		   "name": "scilab",
		   "version": "0.7.1"
		  }
		 },
		 "nbformat": 4,
		 "nbformat_minor": 0
}
