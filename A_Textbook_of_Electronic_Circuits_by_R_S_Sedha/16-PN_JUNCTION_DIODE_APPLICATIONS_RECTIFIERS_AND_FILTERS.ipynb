{
"cells": [
 {
		   "cell_type": "markdown",
	   "metadata": {},
	   "source": [
       "# Chapter 16: PN JUNCTION DIODE APPLICATIONS RECTIFIERS AND FILTERS"
	   ]
	},
{
		   "cell_type": "markdown",
		   "metadata": {},
		   "source": [
			"## Example 16.10: capacitance.sce"
		   ]
		  },
  {
"cell_type": "code",
	   "execution_count": null,
	   "metadata": {
	    "collapsed": true
	   },
	   "outputs": [],
"source": [
"clc;\n",
"Vdc=30;\n",
"RL=1*10**3;\n",
"y=0.01;\n",
"C=2890/(y*RL);\n",
"disp('microF',C*1,'C=');"
   ]
   }
,
{
		   "cell_type": "markdown",
		   "metadata": {},
		   "source": [
			"## Example 16.11: size_of_capacitor.sce"
		   ]
		  },
  {
"cell_type": "code",
	   "execution_count": null,
	   "metadata": {
	    "collapsed": true
	   },
	   "outputs": [],
"source": [
"clc;\n",
"Vdc=12;\n",
"Idc=100*10**-3;\n",
"y=0.01;\n",
"L=1;\n",
"C=1.195/(L*y);\n",
"disp('microF',C*1,'C=');"
   ]
   }
,
{
		   "cell_type": "markdown",
		   "metadata": {},
		   "source": [
			"## Example 16.12: ripple_facctor.sce"
		   ]
		  },
  {
"cell_type": "code",
	   "execution_count": null,
	   "metadata": {
	    "collapsed": true
	   },
	   "outputs": [],
"source": [
"clc;\n",
"Idc=0.2;\n",
"Vdc=30;\n",
"C1=100;\n",
"C2=100;\n",
"L=5;\n",
"f=50;\n",
"RL=Vdc/Idc;\n",
"y=5700/(L*C1*C2*RL);\n",
"disp('%',y*100,'y=');"
   ]
   }
,
{
		   "cell_type": "markdown",
		   "metadata": {},
		   "source": [
			"## Example 16.13: Vdc_peak_and_average_current_and_average_power_delivered.sce"
		   ]
		  },
  {
"cell_type": "code",
	   "execution_count": null,
	   "metadata": {
	    "collapsed": true
	   },
	   "outputs": [],
"source": [
"clc;\n",
"Vs=150;\n",
"Idc=2;\n",
"Vdc=2.34*Vs;\n",
"disp('V',Vdc*1,'Vdc=');\n",
"I=Idc/0.955;\n",
"disp('A',I*1,'I=');\n",
"Iavg=2/3;\n",
"disp('A',Iavg*1,'Iavg=');\n",
"Pdc=Vdc*Idc;\n",
"disp('W',Pdc*1,'Pdc=');"
   ]
   }
,
{
		   "cell_type": "markdown",
		   "metadata": {},
		   "source": [
			"## Example 16.1: dc_output_voltage_and_PIV.sce"
		   ]
		  },
  {
"cell_type": "code",
	   "execution_count": null,
	   "metadata": {
	    "collapsed": true
	   },
	   "outputs": [],
"source": [
"clc;\n",
"//e.g 16.1\n",
"V1=230;\n",
"//a=(N2/N1)\n",
"b=(1/10);\n",
"V2=V1*b;\n",
"disp('V',V2*1,'V2=');\n",
"Vm=sqrt(2)*V2;\n",
"disp('V',Vm*1,'Vm=');\n",
"Vdc=0.318*Vm;\n",
"disp('V',Vdc*1,'Vdc=');\n",
"PIV=Vm;\n",
"disp('V',PIV*1,'PIV=');"
   ]
   }
,
{
		   "cell_type": "markdown",
		   "metadata": {},
		   "source": [
			"## Example 16.2: dc_load_current.sce"
		   ]
		  },
  {
"cell_type": "code",
	   "execution_count": null,
	   "metadata": {
	    "collapsed": true
	   },
	   "outputs": [],
"source": [
"clc;\n",
"//e.g 16.2\n",
"RL=20*10**3;\n",
"V2=24;\n",
"Vm=sqrt(2)*V2;\n",
"disp('V',Vm*1,'Vm=');\n",
"Im=Vm/RL;\n",
"disp('mA',Im*10**3,'Im=');\n",
"Idc= 0.318*Im;\n",
"disp('mA',Idc*10**3,'Idc=');"
   ]
   }
,
{
		   "cell_type": "markdown",
		   "metadata": {},
		   "source": [
			"## Example 16.3: maximum_and_average_power.sce"
		   ]
		  },
  {
"cell_type": "code",
	   "execution_count": null,
	   "metadata": {
	    "collapsed": true
	   },
	   "outputs": [],
"source": [
"clc;\n",
"//e.g 16.3\n",
"V1=230;\n",
"//a=(N2/N1)\n",
"b=(1/2);\n",
"RL=200;\n",
"V2=V1*b;\n",
"disp('V',V2*1,'V2=');\n",
"Vm=sqrt(2)*V2;\n",
"disp('V',Vm*1,'Vm=');\n",
"Im=Vm/RL;\n",
"disp('A',Im*1,'Im=');\n",
"Pm=(Im**2)*RL;\n",
"disp('W',Pm*1,'Pm=');\n",
"Vdc=0.318*Vm;\n",
"disp('V',Vdc*1,'Vdc=');\n",
"Idc=(Vdc/RL);\n",
"disp('A',Idc*1,'Idc=');\n",
"Pdc=(Idc**2)*RL;\n",
"disp('W',Pdc*1,'Pdc=');"
   ]
   }
,
{
		   "cell_type": "markdown",
		   "metadata": {},
		   "source": [
			"## Example 16.4: maximum_ac_voltage.sce"
		   ]
		  },
  {
"cell_type": "code",
	   "execution_count": null,
	   "metadata": {
	    "collapsed": true
	   },
	   "outputs": [],
"source": [
"clc;\n",
"//e.g 16.4\n",
"Vdc=30;\n",
"RL=600;\n",
"Rf=25;\n",
"Idc=(Vdc/RL);\n",
"disp('A',Idc*1,'Idc=');\n",
"Im=%pi*Idc;\n",
"disp('A',Im*1,'Im=');\n",
"Vin=Im*(Rf+RL);\n",
"disp('V',Vin*1,'Vin=');"
   ]
   }
,
{
		   "cell_type": "markdown",
		   "metadata": {},
		   "source": [
			"## Example 16.5: dc_output_voltage.sce"
		   ]
		  },
  {
"cell_type": "code",
	   "execution_count": null,
	   "metadata": {
	    "collapsed": true
	   },
	   "outputs": [],
"source": [
"\n",
"clc;\n",
"V2=30;\n",
"RL=5.1*10**3;\n",
"VS=V2/2;\n",
"Vm=sqrt(2)*VS;\n",
"Vdc=0.636*Vm;\n",
"disp('V',Vdc*1,'Vdc=');\n",
"Vdc=Vdc/RL;\n",
"disp('mA',Vdc*10**3,'Vdc=');"
   ]
   }
,
{
		   "cell_type": "markdown",
		   "metadata": {},
		   "source": [
			"## Example 16.6: dc_output_voltage_and_PIV_and_output_frequency.sce"
		   ]
		  },
  {
"cell_type": "code",
	   "execution_count": null,
	   "metadata": {
	    "collapsed": true
	   },
	   "outputs": [],
"source": [
"clc;\n",
"V1=230;\n",
"fin=50;\n",
"//let a=N1/N2\n",
"a=1/4;\n",
"V2=V1*a;\n",
"Vm=sqrt(2)*V2;\n",
"Vdc=0.636*Vm;\n",
"disp('V',Vdc*1,'Vdc=');\n",
"PIV=Vm;\n",
"disp('V',PIV*1,'PIV=');\n",
"fout=2*fin;\n",
"disp('HZ',fout*1,'fout=');"
   ]
   }
,
{
		   "cell_type": "markdown",
		   "metadata": {},
		   "source": [
			"## Example 16.7: dc_output_voltage_PIV_and_rectification_efficiency.sce"
		   ]
		  },
  {
"cell_type": "code",
	   "execution_count": null,
	   "metadata": {
	    "collapsed": true
	   },
	   "outputs": [],
"source": [
"clc;\n",
"V1=230;\n",
"//LET a=N2/N1\n",
"a=1/5;\n",
"RL=100;\n",
"V2=V1*a;\n",
"Vs=V2/2;\n",
"Vm=sqrt(2)*Vs;\n",
"Vdc=2*Vm/%pi;\n",
"disp('V',Vdc*1,'Vdc=');\n",
"PIV=2*Vm;\n",
"disp('V',PIV*1,'PIV=');\n",
"n=0.812//rectifier efficiency of full wave rectifier"
   ]
   }
,
{
		   "cell_type": "markdown",
		   "metadata": {},
		   "source": [
			"## Example 16.8: load_resistor_dc_load_voltage_and_PIV.sce"
		   ]
		  },
  {
"cell_type": "code",
	   "execution_count": null,
	   "metadata": {
	    "collapsed": true
	   },
	   "outputs": [],
"source": [
"clc;\n",
"Vs=200;\n",
"Imax=700*10**-3;\n",
"Iavg=250*10**-3;\n",
"Imax=0.8*Imax;\n",
"disp('mA',Imax*10**3,'Imax=');\n",
"Vm=sqrt(2)*Vs;\n",
"RL=Vm/Imax;\n",
"disp('ohm',RL*1,'RL=');\n",
"Vdc=2*Vm/%pi;\n",
"disp('V',Vdc*1,'Vdc=');\n",
"Idc=Vdc/RL;\n",
"disp('A',Idc*1,'Idc=');\n",
"PIV=2*Vm;\n",
"disp(PIV);"
   ]
   }
,
{
		   "cell_type": "markdown",
		   "metadata": {},
		   "source": [
			"## Example 16.9: inductance.sce"
		   ]
		  },
  {
"cell_type": "code",
	   "execution_count": null,
	   "metadata": {
	    "collapsed": true
	   },
	   "outputs": [],
"source": [
"clc;\n",
"f=50;\n",
"y=0.05;\n",
"RL=100;\n",
"L=RL/(y*3*sqrt(2)*2*%pi*f);\n",
"disp('H',L*1,'L=');\n",
"f=400;\n",
"y=0.05;\n",
"L=RL/(y*3*sqrt(2)*2*%pi*f);\n",
"disp('H',L*1,'L=');"
   ]
   }
],
"metadata": {
		  "kernelspec": {
		   "display_name": "Scilab",
		   "language": "scilab",
		   "name": "scilab"
		  },
		  "language_info": {
		   "file_extension": ".sce",
		   "help_links": [
			{
			 "text": "MetaKernel Magics",
			 "url": "https://github.com/calysto/metakernel/blob/master/metakernel/magics/README.md"
			}
		   ],
		   "mimetype": "text/x-octave",
		   "name": "scilab",
		   "version": "0.7.1"
		  }
		 },
		 "nbformat": 4,
		 "nbformat_minor": 0
}
