{
"cells": [
 {
		   "cell_type": "markdown",
	   "metadata": {},
	   "source": [
       "# Chapter 31: TIME BASE CIRCUIT"
	   ]
	},
{
		   "cell_type": "markdown",
		   "metadata": {},
		   "source": [
			"## Example 31.1: frequency.sce"
		   ]
		  },
  {
"cell_type": "code",
	   "execution_count": null,
	   "metadata": {
	    "collapsed": true
	   },
	   "outputs": [],
"source": [
"clc;\n",
"//e.g 31.1\n",
"R=100*10**3;\n",
"C=0.4*10**-6;\n",
"n=0.57;\n",
"f=1/(2.3*R*C*log10(1/(1-n)));\n",
"disp('HZ',f*1,'f=');"
   ]
   }
,
{
		   "cell_type": "markdown",
		   "metadata": {},
		   "source": [
			"## Example 31.2: period_and_frequency_of_oscillation_and_R.sce"
		   ]
		  },
  {
"cell_type": "code",
	   "execution_count": null,
	   "metadata": {
	    "collapsed": true
	   },
	   "outputs": [],
"source": [
"clc;\n",
"//e.g 31.2\n",
"n=0.62;\n",
"R=5*10**3;\n",
"C=0.05*10**-6;\n",
"T=2.3*R*C*log10(1/(1-n))\n",
"disp('msec',T*10**3,'T=');\n",
"f=1/T;\n",
"disp('HZ',f*1,'f=');\n",
"f1=50;\n",
"T1=1/f1;\n",
"R=T1/(2.3*C*log10(1/(1-n)));\n",
"disp('kohm',R*10**-3,'R=');\n",
"C=0.5*10**-6;\n",
"R=T1/(2.3*C*log10(1/(1-n)));\n",
"disp('kohm',R*10**-3,'R=');"
   ]
   }
],
"metadata": {
		  "kernelspec": {
		   "display_name": "Scilab",
		   "language": "scilab",
		   "name": "scilab"
		  },
		  "language_info": {
		   "file_extension": ".sce",
		   "help_links": [
			{
			 "text": "MetaKernel Magics",
			 "url": "https://github.com/calysto/metakernel/blob/master/metakernel/magics/README.md"
			}
		   ],
		   "mimetype": "text/x-octave",
		   "name": "scilab",
		   "version": "0.7.1"
		  }
		 },
		 "nbformat": 4,
		 "nbformat_minor": 0
}
