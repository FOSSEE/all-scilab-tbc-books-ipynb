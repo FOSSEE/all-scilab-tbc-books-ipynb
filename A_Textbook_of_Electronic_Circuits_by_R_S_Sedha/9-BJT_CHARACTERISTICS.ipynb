{
"cells": [
 {
		   "cell_type": "markdown",
	   "metadata": {},
	   "source": [
       "# Chapter 9: BJT CHARACTERISTICS"
	   ]
	},
{
		   "cell_type": "markdown",
		   "metadata": {},
		   "source": [
			"## Example 9.1: PDmax.sce"
		   ]
		  },
  {
"cell_type": "code",
	   "execution_count": null,
	   "metadata": {
	    "collapsed": true
	   },
	   "outputs": [],
"source": [
"clc;\n",
"//e.g 9.1\n",
"Pdmax=500*10**-3;\n",
"DF=2.28*10**-3;\n",
"T=70;\n",
"Pdmax70=Pdmax-DF*(T-25);\n",
"disp('w',Pdmax70*1,'Pdmax70=');"
   ]
   }
],
"metadata": {
		  "kernelspec": {
		   "display_name": "Scilab",
		   "language": "scilab",
		   "name": "scilab"
		  },
		  "language_info": {
		   "file_extension": ".sce",
		   "help_links": [
			{
			 "text": "MetaKernel Magics",
			 "url": "https://github.com/calysto/metakernel/blob/master/metakernel/magics/README.md"
			}
		   ],
		   "mimetype": "text/x-octave",
		   "name": "scilab",
		   "version": "0.7.1"
		  }
		 },
		 "nbformat": 4,
		 "nbformat_minor": 0
}
