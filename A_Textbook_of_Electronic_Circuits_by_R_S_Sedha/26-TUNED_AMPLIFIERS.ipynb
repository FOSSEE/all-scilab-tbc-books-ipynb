{
"cells": [
 {
		   "cell_type": "markdown",
	   "metadata": {},
	   "source": [
       "# Chapter 26: TUNED AMPLIFIERS"
	   ]
	},
{
		   "cell_type": "markdown",
		   "metadata": {},
		   "source": [
			"## Example 26.1: frequency.sce"
		   ]
		  },
  {
"cell_type": "code",
	   "execution_count": null,
	   "metadata": {
	    "collapsed": true
	   },
	   "outputs": [],
"source": [
"clc;\n",
"//e.g 26.1\n",
"L=150*10**-6;\n",
"C=100*10**-12;\n",
"fo=0.159/sqrt (L*C);\n",
"disp('MHZ',fo*10**-6,'fo');"
   ]
   }
,
{
		   "cell_type": "markdown",
		   "metadata": {},
		   "source": [
			"## Example 26.2: frequency_and_impedance.sce"
		   ]
		  },
  {
"cell_type": "code",
	   "execution_count": null,
	   "metadata": {
	    "collapsed": true
	   },
	   "outputs": [],
"source": [
"clc;\n",
"//e.g 26.2\n",
"L=100*10**-6;\n",
"C=100*10**-12;\n",
"R=5;\n",
"fo=0.159/sqrt (L*C);\n",
"disp('MHZ',fo*10**-6,'fo=');\n",
"Zp=L/(C*R);\n",
"disp('Kohm',Zp*10**-3,'Zp=');"
   ]
   }
,
{
		   "cell_type": "markdown",
		   "metadata": {},
		   "source": [
			"## Example 26.3: bandwidth.sce"
		   ]
		  },
  {
"cell_type": "code",
	   "execution_count": null,
	   "metadata": {
	    "collapsed": true
	   },
	   "outputs": [],
"source": [
"clc;\n",
"//e.g 26.3\n",
"fo=1*10**6;\n",
"Qo=100;\n",
"BW=fo/Qo;\n",
"disp('kHZ',BW*10**-3,'BW=');"
   ]
   }
,
{
		   "cell_type": "markdown",
		   "metadata": {},
		   "source": [
			"## Example 26.4: Q_factor.sce"
		   ]
		  },
  {
"cell_type": "code",
	   "execution_count": null,
	   "metadata": {
	    "collapsed": true
	   },
	   "outputs": [],
"source": [
"clc;\n",
"//e.g 26.4\n",
"fo=1600*10**3;\n",
"BW=10*10**3;\n",
"Qo=fo/BW;\n",
"disp(Qo);"
   ]
   }
,
{
		   "cell_type": "markdown",
		   "metadata": {},
		   "source": [
			"## Example 26.5: Q_factor.sce"
		   ]
		  },
  {
"cell_type": "code",
	   "execution_count": null,
	   "metadata": {
	    "collapsed": true
	   },
	   "outputs": [],
"source": [
"clc;\n",
"//e.g 26.5\n",
"fo=2*10**6;\n",
"BW=50*10**3;\n",
"Qo=fo/BW;\n",
"disp(Qo);"
   ]
   }
,
{
		   "cell_type": "markdown",
		   "metadata": {},
		   "source": [
			"## Example 26.6: impedance.sce"
		   ]
		  },
  {
"cell_type": "code",
	   "execution_count": null,
	   "metadata": {
	    "collapsed": true
	   },
	   "outputs": [],
"source": [
"clc;\n",
"//e.g 26.6\n",
"fo=455*10**3;\n",
"BW=10*10**3;\n",
"XL=1255;\n",
"Qo=fo/BW;\n",
"R=XL/Qo;\n",
"L=XL/(2*%pi*fo);\n",
"C=1/(XL*2*%pi*fo);\n",
"Zp=L/(C*R);\n",
"disp('Kohm',Zp*10**-3,'Zp=');"
   ]
   }
],
"metadata": {
		  "kernelspec": {
		   "display_name": "Scilab",
		   "language": "scilab",
		   "name": "scilab"
		  },
		  "language_info": {
		   "file_extension": ".sce",
		   "help_links": [
			{
			 "text": "MetaKernel Magics",
			 "url": "https://github.com/calysto/metakernel/blob/master/metakernel/magics/README.md"
			}
		   ],
		   "mimetype": "text/x-octave",
		   "name": "scilab",
		   "version": "0.7.1"
		  }
		 },
		 "nbformat": 4,
		 "nbformat_minor": 0
}
