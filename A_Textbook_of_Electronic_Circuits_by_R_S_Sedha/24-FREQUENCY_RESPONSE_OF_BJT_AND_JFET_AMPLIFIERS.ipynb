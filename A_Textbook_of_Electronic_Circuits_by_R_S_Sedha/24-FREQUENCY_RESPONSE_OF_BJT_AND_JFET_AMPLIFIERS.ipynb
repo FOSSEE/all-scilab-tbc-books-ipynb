{
"cells": [
 {
		   "cell_type": "markdown",
	   "metadata": {},
	   "source": [
       "# Chapter 24: FREQUENCY RESPONSE OF BJT AND JFET AMPLIFIERS"
	   ]
	},
{
		   "cell_type": "markdown",
		   "metadata": {},
		   "source": [
			"## Example 24.1: power_gai.sce"
		   ]
		  },
  {
"cell_type": "code",
	   "execution_count": null,
	   "metadata": {
	    "collapsed": true
	   },
	   "outputs": [],
"source": [
"\n",
"clc;\n",
"Pi=5;\n",
"Po=100;\n",
"G=10*log10(Po/Pi);\n",
"disp('dB',G*1,'G=');"
   ]
   }
,
{
		   "cell_type": "markdown",
		   "metadata": {},
		   "source": [
			"## Example 24.2: power_gai.sce"
		   ]
		  },
  {
"cell_type": "code",
	   "execution_count": null,
	   "metadata": {
	    "collapsed": true
	   },
	   "outputs": [],
"source": [
"\n",
"clc;\n",
"Pi=5*10**-3;\n",
"Po=1;\n",
"G=10*log10(Po/Pi);\n",
"disp('dB',G*1,'G=');//ans given in the book is wrong"
   ]
   }
,
{
		   "cell_type": "markdown",
		   "metadata": {},
		   "source": [
			"## Example 24.3: power_gai.sce"
		   ]
		  },
  {
"cell_type": "code",
	   "execution_count": null,
	   "metadata": {
	    "collapsed": true
	   },
	   "outputs": [],
"source": [
"\n",
"clc;\n",
"Pi=20*10**-6;\n",
"Po=100*10**-6;\n",
"G=10*log10(Po/Pi);\n",
"disp('dB',G*1,'G=');"
   ]
   }
,
{
		   "cell_type": "markdown",
		   "metadata": {},
		   "source": [
			"## Example 24.4: power_gai.sce"
		   ]
		  },
  {
"cell_type": "code",
	   "execution_count": null,
	   "metadata": {
	    "collapsed": true
	   },
	   "outputs": [],
"source": [
"\n",
"clc;\n",
"Po=25;\n",
"G=10*log10(Po/(1*10**-3));\n",
"disp('dB',G*1,'G=');"
   ]
   }
,
{
		   "cell_type": "markdown",
		   "metadata": {},
		   "source": [
			"## Example 24.5: gai.sce"
		   ]
		  },
  {
"cell_type": "code",
	   "execution_count": null,
	   "metadata": {
	    "collapsed": true
	   },
	   "outputs": [],
"source": [
"\n",
"clc;\n",
"V2=100;\n",
"V1=25;\n",
"G=10*log10(V2/V1);\n",
"disp('dB',G*1,'G=');"
   ]
   }
,
{
		   "cell_type": "markdown",
		   "metadata": {},
		   "source": [
			"## Example 24.8: frequency_response.sce"
		   ]
		  },
  {
"cell_type": "code",
	   "execution_count": null,
	   "metadata": {
	    "collapsed": true
	   },
	   "outputs": [],
"source": [
"clc;\n",
"R=5*10**3;\n",
"C=0.1*10**-6;\n",
"f1=1/(2*%pi*R*C);\n",
"disp('HZ',f1*1,'f1=');\n",
"i=-21:3:0;\n",
"plot2d(i);\n",
"a=gca() //get the current axes\n",
"a.box='off';\n",
"a.x_location='top';\n",
"xlabel('f (log scale)');\n",
"ylabel( 'Av(dB)');"
   ]
   }
,
{
		   "cell_type": "markdown",
		   "metadata": {},
		   "source": [
			"## Example 24.9: FREQUENCY_AND_PLOT.sce"
		   ]
		  },
  {
"cell_type": "code",
	   "execution_count": null,
	   "metadata": {
	    "collapsed": true
	   },
	   "outputs": [],
"source": [
"\n",
"clc;\n",
"RC=4*10**3;\n",
"R1=40*10**3;\n",
"R2=10*10**3;\n",
"RE=2*10**3;\n",
"RS=1*10**3;\n",
"RL=2.2*10**3;\n",
"CS=10*10**-6;\n",
"CE=20*10**-6;\n",
"CC=1*10**-6;\n",
"B=100;\n",
"VCC=20;\n",
"VB=(R2*VCC)/(R2+R1);\n",
"IE=(VB-0.7)/RE;\n",
"re=(26*10**-3)/IE;\n",
"B*re;\n",
"vo=-(RC*RL)/(RC+RL);\n",
"Av=vo/re;\n",
"a=(R1*R2)/(R1+R2);\n",
"Ri=(a*(B*re))/(a+(B*re));\n",
"Rs=1*10**3;\n",
"vibyvs=Ri/(Ri+Rs);\n",
"Avs=Av*vibyvs;\n",
"a=(R1*R2)/(R1+R2);\n",
"Ri=(a*(B*re))/(a+(B*re));\n",
"fLS=1/(2*%pi*(Rs+Ri)*CS);\n",
"disp('HZ',fLS*1,'fLS=');\n",
"fLC=1/(2*%pi*(RC+RL)*CC);\n",
"disp('HZ',fLC*1,'fLC=');\n",
"a=(R1*R2)/(R1+R2);\n",
"RS=(a*RS)/(a+RS);\n",
"b=(RS/B+re);\n",
"Re=(RE*b)/(RE+b);\n",
"fLE=1/(2*%pi*Re*CE);\n",
"disp('HZ',fLE*1,'fLE=');\n",
"i=-21:3:0;\n",
"plot2d(i);\n",
"a=gca() //get the current axes\n",
"a.box='off';\n",
"a.x_location='top';\n",
"xlabel('f (log scale)');\n",
"ylabel( 'Av(dB)');"
   ]
   }
],
"metadata": {
		  "kernelspec": {
		   "display_name": "Scilab",
		   "language": "scilab",
		   "name": "scilab"
		  },
		  "language_info": {
		   "file_extension": ".sce",
		   "help_links": [
			{
			 "text": "MetaKernel Magics",
			 "url": "https://github.com/calysto/metakernel/blob/master/metakernel/magics/README.md"
			}
		   ],
		   "mimetype": "text/x-octave",
		   "name": "scilab",
		   "version": "0.7.1"
		  }
		 },
		 "nbformat": 4,
		 "nbformat_minor": 0
}
