{
"cells": [
 {
		   "cell_type": "markdown",
	   "metadata": {},
	   "source": [
       "# Chapter 27: FEEDBACK AMPLIFIERS"
	   ]
	},
{
		   "cell_type": "markdown",
		   "metadata": {},
		   "source": [
			"## Example 27.10: bw.sce"
		   ]
		  },
  {
"cell_type": "code",
	   "execution_count": null,
	   "metadata": {
	    "collapsed": true
	   },
	   "outputs": [],
"source": [
"clc;\n",
"//e.g 27.10\n",
"AV=1500;\n",
"BW=4*10**6;\n",
"AV1=150;\n",
"beta=((1500/150)-1)/1500;\n",
"disp(beta);\n",
"BW1=(1+beta*AV)*BW;\n",
"disp('MHZ',BW1*10**-6,'BW1=');"
   ]
   }
,
{
		   "cell_type": "markdown",
		   "metadata": {},
		   "source": [
			"## Example 27.11: frequency.sce"
		   ]
		  },
  {
"cell_type": "code",
	   "execution_count": null,
	   "metadata": {
	    "collapsed": true
	   },
	   "outputs": [],
"source": [
"clc;\n",
"//e.g 27.11\n",
"Rin=4.2*10**3;\n",
"AV=220;\n",
"beta=0.01;\n",
"Ri=(1+beta*AV)*Rin;\n",
"disp('Kohm',Ri*10**-3,'Ri=');\n",
"F1=1.5*10**3;\n",
"FC1=F1/(1+beta*AV);\n",
"disp('HZ ',FC1,'FC1=');\n",
"F2=501.5*10**3;\n",
"FC2=(1+beta*AV)*F2;\n",
"disp('KHZ',FC2*10**-3,'FC2=');"
   ]
   }
,
{
		   "cell_type": "markdown",
		   "metadata": {},
		   "source": [
			"## Example 27.12: gain_and_distortion_gain.sce"
		   ]
		  },
  {
"cell_type": "code",
	   "execution_count": null,
	   "metadata": {
	    "collapsed": true
	   },
	   "outputs": [],
"source": [
"clc;\n",
"//e.g 27.12\n",
"AV=1000;\n",
"f1=50;\n",
"f2=200*10**3;\n",
"D=0.05;\n",
"beta=0.01;\n",
"AV1=AV/(1+beta*AV);\n",
"disp(AV1);\n",
"fl1=f1/(1+beta*AV);\n",
"disp('HZ',fl1,'fl1=');\n",
"fu2=(1+beta*AV)*f2;\n",
"disp('MHZ',fu2*10**-6,'fu2=');\n",
"D1=D/(1+beta*AV);\n",
"disp('%',D1*100,'D1=');"
   ]
   }
,
{
		   "cell_type": "markdown",
		   "metadata": {},
		   "source": [
			"## Example 27.13: beta_and_gain.sce"
		   ]
		  },
  {
"cell_type": "code",
	   "execution_count": null,
	   "metadata": {
	    "collapsed": true
	   },
	   "outputs": [],
"source": [
"clc;\n",
"//e.g 27.13\n",
"AV=100;\n",
"RDN=0.8;\n",
"//0.8=1-(1/(1+beta*AV));\n",
"beta=((1/0.2)-1)/100;\n",
"disp(beta);\n",
"AV1=AV/(1+beta*AV);\n",
"disp(AV1);"
   ]
   }
,
{
		   "cell_type": "markdown",
		   "metadata": {},
		   "source": [
			"## Example 27.14: voltage_gain_and_resistance.sce"
		   ]
		  },
  {
"cell_type": "code",
	   "execution_count": null,
	   "metadata": {
	    "collapsed": true
	   },
	   "outputs": [],
"source": [
"clc;\n",
"//e.g 27.14\n",
"AV=300;\n",
"Ri=1.5*10**3;\n",
"R0=50*10**3;\n",
"b=1/15;\n",
"AV1=AV/(1+b*AV);\n",
"disp(AV1);\n",
"Ri1=(1+b*AV)*Ri;//input resistance\n",
"disp('Kohm',Ri1*10**-3,'Ri1=');\n",
"Ri1=R0/(1+b*AV);//output resistance\n",
"disp('kohm',Ri1*10**-3,'Ri1=');"
   ]
   }
,
{
		   "cell_type": "markdown",
		   "metadata": {},
		   "source": [
			"## Example 27.15: voltage_gain_and_resistance.sce"
		   ]
		  },
  {
"cell_type": "code",
	   "execution_count": null,
	   "metadata": {
	    "collapsed": true
	   },
	   "outputs": [],
"source": [
"clc;\n",
"//e.g 27.15\n",
"hfe=100;\n",
"hie=2*10**3;\n",
"Rc=470;\n",
"Re1=100;\n",
"Re2=100;\n",
"R1=15000;\n",
"R2=5600;\n",
"AV=(hfe*Rc)/hie;\n",
"disp(AV);\n",
"a=((R1*R2)/(R1+R2));\n",
"Ri=(a*hie)/(a+hie);\n",
"disp('ohm',Ri*1,'Ri=');\n",
"b=Re1/Rc;\n",
"AV1=AV/(1+b*AV);\n",
"disp(AV1);\n",
"Ri1=Ri*(1+b*AV);\n",
"disp('OHM',Ri1*1,'Ri1=');"
   ]
   }
,
{
		   "cell_type": "markdown",
		   "metadata": {},
		   "source": [
			"## Example 27.16: gain_and_resistance.sce"
		   ]
		  },
  {
"cell_type": "code",
	   "execution_count": null,
	   "metadata": {
	    "collapsed": true
	   },
	   "outputs": [],
"source": [
"clc;\n",
"//e.g 27.16\n",
"hfe=99;\n",
"hie=2*10**3;\n",
"hie1=2000;\n",
"hie2=2000;\n",
"Rc=22*10**3;\n",
"R4=100;\n",
"R1=220*10**3;\n",
"R2=22*10**3;\n",
"RC1=4.7*10**3;\n",
"R3=7.8*10**3;\n",
"Ri=hie;\n",
"a=(R1*R2)/(R1+R2);\n",
"b=(a*Rc)/(a+Rc);\n",
"R01=(b*hie1)/(b+hie1)\n",
"disp('Kohm',R01*10**-3,'R01=');\n",
"Ri2=hie;\n",
"C=(R3+R4);\n",
"R02=(RC1*C)/(RC1+C)\n",
"disp('Kohm',R02*10**-3,'R02=');\n",
"AV1=hfe*R01/hie;\n",
"AV2=hfe*R02/hie;\n",
"AV=AV1*AV2;\n",
"bta=R4/(R3+R4);\n",
"Ri1=Ri*(1+bta*AV);\n",
"disp('Kohm',Ri1*10**-3,'Ri1=');\n",
"RO2=R02/(1+bta*AV);\n",
"disp('ohm',RO2*1,'RO2=');\n",
"AV1=AV/(1+bta*AV);\n",
"disp(AV1);"
   ]
   }
,
{
		   "cell_type": "markdown",
		   "metadata": {},
		   "source": [
			"## Example 27.1: voltage_gai.sce"
		   ]
		  },
  {
"cell_type": "code",
	   "execution_count": null,
	   "metadata": {
	    "collapsed": true
	   },
	   "outputs": [],
"source": [
"clc;\n",
"//e.g 27.1\n",
"AV=400;\n",
"beta=0.1;\n",
"AV1=AV/(1+beta*AV);\n",
"disp(AV1);"
   ]
   }
,
{
		   "cell_type": "markdown",
		   "metadata": {},
		   "source": [
			"## Example 27.2: fraction_of_output.sce"
		   ]
		  },
  {
"cell_type": "code",
	   "execution_count": null,
	   "metadata": {
	    "collapsed": true
	   },
	   "outputs": [],
"source": [
"clc;\n",
"//e.g 27.2\n",
"AV=1000;\n",
"AV1=10;\n",
"beta=((AV/AV1)-1)/AV;\n",
"disp(beta);"
   ]
   }
,
{
		   "cell_type": "markdown",
		   "metadata": {},
		   "source": [
			"## Example 27.3: feedback.sce"
		   ]
		  },
  {
"cell_type": "code",
	   "execution_count": null,
	   "metadata": {
	    "collapsed": true
	   },
	   "outputs": [],
"source": [
"clc;\n",
"//e.g 27.3\n",
"AV=100;\n",
"AV1=20;\n",
"beta=((AV/AV1)-1)/AV;\n",
"disp(beta);"
   ]
   }
,
{
		   "cell_type": "markdown",
		   "metadata": {},
		   "source": [
			"## Example 27.4: voltage_gain_and_beta.sce"
		   ]
		  },
  {
"cell_type": "code",
	   "execution_count": null,
	   "metadata": {
	    "collapsed": true
	   },
	   "outputs": [],
"source": [
"clc;\n",
"//e.g 27.4\n",
"Vo=12.5;\n",
"Vin1=1.5;\n",
"Vin=0.25;\n",
"AV=Vo/Vin;\n",
"disp(AV);\n",
"AV1=Vo/Vin1;\n",
"beta=((AV/AV1)-1)/AV;\n",
"disp(beta);"
   ]
   }
,
{
		   "cell_type": "markdown",
		   "metadata": {},
		   "source": [
			"## Example 27.5: beta.sce"
		   ]
		  },
  {
"cell_type": "code",
	   "execution_count": null,
	   "metadata": {
	    "collapsed": true
	   },
	   "outputs": [],
"source": [
"clc;\n",
"//e.g 27.5\n",
"AV=60;\n",
"AV1=80;\n",
"//80=AV/(1-BETA*AV)\n",
"beta=((AV1/AV)-1)/AV1;\n",
"disp(beta,'beta=');\n",
"beta=1/AV;\n",
"disp(beta,'beta=');"
   ]
   }
,
{
		   "cell_type": "markdown",
		   "metadata": {},
		   "source": [
			"## Example 27.6: beta.sce"
		   ]
		  },
  {
"cell_type": "code",
	   "execution_count": null,
	   "metadata": {
	    "collapsed": true
	   },
	   "outputs": [],
"source": [
"clc;\n",
"//e.g 27.6\n",
"AV1=100;\n",
"Vin=50*10**-3;\n",
"Vin1=0.6;\n",
"Vo=AV1*Vin1;\n",
"Av=Vo/Vin;\n",
"disp(Av);\n",
"beta=((Av/AV1)-1)/Av;\n",
"disp('*10^-3 ',beta*10**3,'beta=');"
   ]
   }
,
{
		   "cell_type": "markdown",
		   "metadata": {},
		   "source": [
			"## Example 27.7: change_in_closed_loop_gain.sce"
		   ]
		  },
  {
"cell_type": "code",
	   "execution_count": null,
	   "metadata": {
	    "collapsed": true
	   },
	   "outputs": [],
"source": [
"\n",
"clc;\n",
"Av=800;\n",
"B=0.05;\n",
"dAvbyAv=20;\n",
"a=dAvbyAv*(1/(1+B*Av));\n",
"disp('%',a*1,'a=');"
   ]
   }
,
{
		   "cell_type": "markdown",
		   "metadata": {},
		   "source": [
			"## Example 27.8: values_of_AV_and_beta.sce"
		   ]
		  },
  {
"cell_type": "code",
	   "execution_count": null,
	   "metadata": {
	    "collapsed": true
	   },
	   "outputs": [],
"source": [
"clc;\n",
"AV1=100;\n",
"A=0.01;\n",
"B=0.2;\n",
"C=B/A;\n",
"AV=AV1*C;\n",
"beta=C/AV;\n",
"disp(beta,'beta=');"
   ]
   }
,
{
		   "cell_type": "markdown",
		   "metadata": {},
		   "source": [
			"## Example 27.9: gain_and_beta.sce"
		   ]
		  },
  {
"cell_type": "code",
	   "execution_count": null,
	   "metadata": {
	    "collapsed": true
	   },
	   "outputs": [],
"source": [
"clc;\n",
"//e.g 27.9\n",
"AV=100;\n",
"BW=200*10**3;\n",
"beta=0.05;\n",
"BW1=(1+beta*AV)*BW;\n",
"disp('KHZ',BW1*10^-3,'BW1=');\n",
"AV1=AV/(1+beta*AV);\n",
"disp(AV1);\n",
"//1*10**6=(1+beta1*AV)*BW;\n",
"beta1=(((1*10**6)/(200*10**3))-1)/100;\n",
"disp(beta1);"
   ]
   }
],
"metadata": {
		  "kernelspec": {
		   "display_name": "Scilab",
		   "language": "scilab",
		   "name": "scilab"
		  },
		  "language_info": {
		   "file_extension": ".sce",
		   "help_links": [
			{
			 "text": "MetaKernel Magics",
			 "url": "https://github.com/calysto/metakernel/blob/master/metakernel/magics/README.md"
			}
		   ],
		   "mimetype": "text/x-octave",
		   "name": "scilab",
		   "version": "0.7.1"
		  }
		 },
		 "nbformat": 4,
		 "nbformat_minor": 0
}
