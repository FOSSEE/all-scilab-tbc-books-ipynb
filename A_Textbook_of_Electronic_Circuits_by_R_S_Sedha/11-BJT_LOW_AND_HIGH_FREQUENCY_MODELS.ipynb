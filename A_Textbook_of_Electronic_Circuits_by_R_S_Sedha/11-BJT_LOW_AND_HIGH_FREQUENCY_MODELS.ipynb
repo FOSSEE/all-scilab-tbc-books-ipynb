{
"cells": [
 {
		   "cell_type": "markdown",
	   "metadata": {},
	   "source": [
       "# Chapter 11: BJT LOW AND HIGH FREQUENCY MODELS"
	   ]
	},
{
		   "cell_type": "markdown",
		   "metadata": {},
		   "source": [
			"## Example 11.1: drain_current.sce"
		   ]
		  },
  {
"cell_type": "code",
	   "execution_count": null,
	   "metadata": {
	    "collapsed": true
	   },
	   "outputs": [],
"source": [
"clc\n",
"//e.g 11.1\n",
"Idss=15*10**-3;\n",
"Vgso=-5;\n",
"//Id=Idss*(1-(Vgs/Vgso))^2\n",
"Vgs=0;\n",
"Id=Idss*(1-(Vgs/Vgso))^2;\n",
"disp('mA',Id*10**3,'Id=');\n",
"Vgs1=-1;\n",
"Id=Idss*(1-(Vgs1/Vgso))^2;\n",
"disp('mA',Id*10**3,'Id=');\n",
"Vgs2=-4;\n",
"Id=Idss*(1-(Vgs2/Vgso))^2;\n",
"disp('mA',Id*10**3,'Id=');"
   ]
   }
,
{
		   "cell_type": "markdown",
		   "metadata": {},
		   "source": [
			"## Example 11.2: transconductance_curve.sce"
		   ]
		  },
  {
"cell_type": "code",
	   "execution_count": null,
	   "metadata": {
	    "collapsed": true
	   },
	   "outputs": [],
"source": [
"clc;\n",
"Vgs=-5:-5:-20;//Id=Idss*(1-(Vgs/Vgso))^2\n",
"Vgso=-20;\n",
"Idss=12*10**-3;\n",
"Id=Idss*(1-(Vgs/Vgso))^2;\n",
"disp('mA',Id*10**3,'Id=');\n",
"y=0:1:12;\n",
"x=0:-5:-20;\n",
"a=gca() //get the current axes\n",
"a.box='off';\n",
"a.y_location='right';\n",
"plot2d(Vgs,Id);\n",
"xlabel('Gate-to-source voltage  (VGS)');\n",
"ylabel('Drain current  ID(mA)');"
   ]
   }
,
{
		   "cell_type": "markdown",
		   "metadata": {},
		   "source": [
			"## Example 11.4: DRAIN_CURRENT_AND_TRANSCONDUCTANCE.sce"
		   ]
		  },
  {
"cell_type": "code",
	   "execution_count": null,
	   "metadata": {
	    "collapsed": true
	   },
	   "outputs": [],
"source": [
"clc;\n",
"//e.g 11.4\n",
"Idss=20*10**-3;\n",
"vp=-8;\n",
"gmo=5000*10**-6;\n",
"vgs=-4;\n",
"//Id=Idss*(1-(Vgs/Vgso))^2\n",
"Id=Idss*(1-(vgs/vp))^2;\n",
"disp('mA',Id*10**3,'Id=');\n",
"gm=gmo*(1-(vgs/vp));\n",
"disp('microsec',gm*10**6,'gm=');"
   ]
   }
,
{
		   "cell_type": "markdown",
		   "metadata": {},
		   "source": [
			"## Example 11.5: value_og_ID.sce"
		   ]
		  },
  {
"cell_type": "code",
	   "execution_count": null,
	   "metadata": {
	    "collapsed": true
	   },
	   "outputs": [],
"source": [
"clc;\n",
"//e.g 11.5\n",
"Idon=10*10**-3;\n",
"vgs=-12;\n",
"vgsth=-3;\n",
"//Id=K*(vgs-vgsth)^2\n",
"//Idon=K*(vgs-vgsth)^2\n",
"k=Idon/((vgs-vgsth)^2);\n",
"disp('mA',k*10**3,'k=');\n",
"vgs1=-6;\n",
"Idon=k*(vgs1-vgsth)^2;\n",
"disp('mA',Idon*10**3,'Idon=');"
   ]
   }
],
"metadata": {
		  "kernelspec": {
		   "display_name": "Scilab",
		   "language": "scilab",
		   "name": "scilab"
		  },
		  "language_info": {
		   "file_extension": ".sce",
		   "help_links": [
			{
			 "text": "MetaKernel Magics",
			 "url": "https://github.com/calysto/metakernel/blob/master/metakernel/magics/README.md"
			}
		   ],
		   "mimetype": "text/x-octave",
		   "name": "scilab",
		   "version": "0.7.1"
		  }
		 },
		 "nbformat": 4,
		 "nbformat_minor": 0
}
