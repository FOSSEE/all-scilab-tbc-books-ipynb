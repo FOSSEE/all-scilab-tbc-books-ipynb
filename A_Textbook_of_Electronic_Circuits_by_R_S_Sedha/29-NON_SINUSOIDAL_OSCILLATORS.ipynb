{
"cells": [
 {
		   "cell_type": "markdown",
	   "metadata": {},
	   "source": [
       "# Chapter 29: NON SINUSOIDAL OSCILLATORS"
	   ]
	},
{
		   "cell_type": "markdown",
		   "metadata": {},
		   "source": [
			"## Example 29.10: duty_cycle.sce"
		   ]
		  },
  {
"cell_type": "code",
	   "execution_count": null,
	   "metadata": {
	    "collapsed": true
	   },
	   "outputs": [],
"source": [
"clc;\n",
"//e.g 29.10\n",
"R1=6.8*10**3;\n",
"R2=4.7*10**3;\n",
"C1=1000*10**-12;\n",
"t2=0.7*R2*C1;\n",
"disp('microS',t2*10**6,'t2=');\n",
"t1=0.7*(R1+R2)*C1;\n",
"disp('microS',t1*10**6,'t1=');\n",
"dc=(t1/(t1+t2))*100;\n",
"disp('%',dc*1,'dc=');"
   ]
   }
,
{
		   "cell_type": "markdown",
		   "metadata": {},
		   "source": [
			"## Example 29.11: frequency_and_graph.sce"
		   ]
		  },
  {
"cell_type": "code",
	   "execution_count": null,
	   "metadata": {
	    "collapsed": true
	   },
	   "outputs": [],
"source": [
"\n",
"clc;\n",
"R1=27*10**3;\n",
"R2=56*10**3;\n",
"C1=0.01*10**-6;\n",
"t2=0.7*R2*C1;\n",
"t1=0.7*(R1+R2)*C1;\n",
"T=t1+t2;\n",
"f=1/T;\n",
"disp('kHZ',f*10**-3,'f=');\n",
"t=(0:0.1:6*%pi)';\n",
"plot2d1('onn',t,[squarewave(t,60)]);"
   ]
   }
,
{
		   "cell_type": "markdown",
		   "metadata": {},
		   "source": [
			"## Example 29.12: desig.sce"
		   ]
		  },
  {
"cell_type": "code",
	   "execution_count": null,
	   "metadata": {
	    "collapsed": true
	   },
	   "outputs": [],
"source": [
"\n",
"clc;\n",
"f=50*10**3;\n",
"dutyc=0.60;\n",
"C=0.0022*10**-6;\n",
"T=1/f;\n",
"t1=dutyc*T;\n",
"t2=T-t1;\n",
"R2=(t2)/(0.7*C);\n",
"disp('Kohm',R2*10**-3,'R2=');\n",
"R1=(t1)/(0.7*C)-R2;\n",
"disp('Kohm',R1*10**-3,'R1=');"
   ]
   }
,
{
		   "cell_type": "markdown",
		   "metadata": {},
		   "source": [
			"## Example 29.1: FREQUENCY.sce"
		   ]
		  },
  {
"cell_type": "code",
	   "execution_count": null,
	   "metadata": {
	    "collapsed": true
	   },
	   "outputs": [],
"source": [
"clc;\n",
"//e.g 29.1\n",
"R=20*10**3;\n",
"C=100*10**-12;\n",
"f=1/(1.38*R*C);\n",
"disp('kHZ',f*10**-3,'f=');"
   ]
   }
,
{
		   "cell_type": "markdown",
		   "metadata": {},
		   "source": [
			"## Example 29.2: value_of_capacitors.sce"
		   ]
		  },
  {
"cell_type": "code",
	   "execution_count": null,
	   "metadata": {
	    "collapsed": true
	   },
	   "outputs": [],
"source": [
"clc;\n",
"//e.g 29.2\n",
"R1=2*10**3;\n",
"R2=20*10**3;\n",
"C1=0.01*10**-6;\n",
"C2=0.05*10**-6;\n",
"T=0.69*(R1*C1+R2*C2)\n",
"disp('ms',T*10**3,'T=');\n",
"f=1/T;\n",
"disp('kHZ',f*10**-3,'f=');"
   ]
   }
,
{
		   "cell_type": "markdown",
		   "metadata": {},
		   "source": [
			"## Example 29.3: value_of_capacitors.sce"
		   ]
		  },
  {
"cell_type": "code",
	   "execution_count": null,
	   "metadata": {
	    "collapsed": true
	   },
	   "outputs": [],
"source": [
"\n",
"clc;\n",
"T1=1*10**-6;\n",
"f=100*10**3;\n",
"R1=10*10**3;\n",
"R2=10*10**3;\n",
"T=1/f;\n",
"C1=T1/(0.69*R1);\n",
"disp('pF',C1*10**12,'C1=');\n",
"T2=T-T1;\n",
"C2=T2/(0.69*R1);\n",
"disp('pF',C2*10**12,'C2=');"
   ]
   }
,
{
		   "cell_type": "markdown",
		   "metadata": {},
		   "source": [
			"## Example 29.4: value_of_circuit_components.sce"
		   ]
		  },
  {
"cell_type": "code",
	   "execution_count": null,
	   "metadata": {
	    "collapsed": true
	   },
	   "outputs": [],
"source": [
"\n",
"clc;\n",
"T2A=310*10**-6;\n",
"T2B=250*10**-6;\n",
"VCC=15;\n",
"IC=5*10**-3;\n",
"hFC=20;\n",
"RC=VCC/IC;\n",
"RC1=RC;\n",
"RC2=RC;\n",
"disp('ohm',RC*1,'RC1=RC2=RC=');\n",
"hFE=hFC;\n",
"IBsat=IC/hFE;\n",
"IB=2*IBsat;\n",
"R=VCC/IB;\n",
"R1=R;\n",
"R2=R;\n",
"C1=T2A/(0.69*R1);\n",
"disp('pF',C1*10**12,'C1=');\n",
"C2=T2B/(0.69*R2);\n",
"disp('pF',C2*10**12,'C2=');\n",
"tao1=R1*C1;\n",
"disp('microsec',tao1*10**6,'tao1=');\n",
"tao2=R2*C2;\n",
"disp('microsec',tao2*10**6,'tao2=');\n",
"tao11=RC1*C1/2;\n",
"disp('microsec',tao11*10**6,'tao11=');\n",
"tao12=RC2*C2/2;\n",
"disp('microsec',tao12*10**6,'tao12=');"
   ]
   }
,
{
		   "cell_type": "markdown",
		   "metadata": {},
		   "source": [
			"## Example 29.5: duty_cycle.sce"
		   ]
		  },
  {
"cell_type": "code",
	   "execution_count": null,
	   "metadata": {
	    "collapsed": true
	   },
	   "outputs": [],
"source": [
"\n",
"clc;\n",
"f=20*10**3;\n",
"T=1/f;\n",
"disp('microsec',T*10**6,'T=');\n",
"t=(0:0.1:5*%pi)';\n",
"plot2d1('onn',t,[squarewave(t,75)]);"
   ]
   }
,
{
		   "cell_type": "markdown",
		   "metadata": {},
		   "source": [
			"## Example 29.6: R3_and_C1.sce"
		   ]
		  },
  {
"cell_type": "code",
	   "execution_count": null,
	   "metadata": {
	    "collapsed": true
	   },
	   "outputs": [],
"source": [
"\n",
"clc;\n",
"close;\n",
"f=100*10^(-3);\n",
"T=(1/f);\n",
"disp('us',T*1,'T=');\n",
"tp=(1/T);\n",
"disp('us',tp*1,'tp=');\n",
"C1=0.001*10^(-6);\n",
"R3=((5*10^(-6))/(0.69*C1));\n",
"disp('kohm',R3*10^(-3),'R3=');"
   ]
   }
,
{
		   "cell_type": "markdown",
		   "metadata": {},
		   "source": [
			"## Example 29.7: width.sce"
		   ]
		  },
  {
"cell_type": "code",
	   "execution_count": null,
	   "metadata": {
	    "collapsed": true
	   },
	   "outputs": [],
"source": [
"\n",
"clc;\n",
"RC=2*10**3;\n",
"R3=20*10**3;\n",
"rbb=200;\n",
"C1=1000*10**-12;\n",
"T=0.69*C1*R3;\n",
"disp('microsec',T*10**6,'T=');"
   ]
   }
,
{
		   "cell_type": "markdown",
		   "metadata": {},
		   "source": [
			"## Example 29.8: value_of_pulse_width.sce"
		   ]
		  },
  {
"cell_type": "code",
	   "execution_count": null,
	   "metadata": {
	    "collapsed": true
	   },
	   "outputs": [],
"source": [
"clc;\n",
"//e.g 29.8\n",
"R1=2.2*10**3;\n",
"C1=0.01*10**-6;\n",
"tp=1.1*R1*C1;\n",
"disp('microS',tp*10**6,'tp=');"
   ]
   }
,
{
		   "cell_type": "markdown",
		   "metadata": {},
		   "source": [
			"## Example 29.9: CIRCUIT.sce"
		   ]
		  },
  {
"cell_type": "code",
	   "execution_count": null,
	   "metadata": {
	    "collapsed": true
	   },
	   "outputs": [],
"source": [
"\n",
"clc;\n",
"tp=10*10**-6;\n",
"c=1000*10**-12;\n",
"R1=tp/(1.1*c);\n",
"disp('Kohm',R1*10**-3,'R1=');\n",
"t=(0:0.1:5*%pi)';\n",
"plot2d1('onn',t,[squarewave(t,60)]);"
   ]
   }
],
"metadata": {
		  "kernelspec": {
		   "display_name": "Scilab",
		   "language": "scilab",
		   "name": "scilab"
		  },
		  "language_info": {
		   "file_extension": ".sce",
		   "help_links": [
			{
			 "text": "MetaKernel Magics",
			 "url": "https://github.com/calysto/metakernel/blob/master/metakernel/magics/README.md"
			}
		   ],
		   "mimetype": "text/x-octave",
		   "name": "scilab",
		   "version": "0.7.1"
		  }
		 },
		 "nbformat": 4,
		 "nbformat_minor": 0
}
