{
"cells": [
 {
		   "cell_type": "markdown",
	   "metadata": {},
	   "source": [
       "# Chapter 32: OPERATIONAL AMPLIFIERS"
	   ]
	},
{
		   "cell_type": "markdown",
		   "metadata": {},
		   "source": [
			"## Example 32.10: Acl_CMRR_and_maximum_operating_frequency.sce"
		   ]
		  },
  {
"cell_type": "code",
	   "execution_count": null,
	   "metadata": {
	    "collapsed": true
	   },
	   "outputs": [],
"source": [
"clc;\n",
"R2=100*10**3;\n",
"R1=10*10**3;\n",
"Acl=1+(R2/R1);\n",
"Acm=0.001;\n",
"disp(Acl);\n",
"CMRR=Acl/Acm;\n",
"disp(CMRR);\n",
"SR=0.5;\n",
"Vpk=5.5;\n",
"fmax=SR/(2*%pi*Vpk);\n",
"disp('kHZ',fmax*10**3,'fmax=');"
   ]
   }
,
{
		   "cell_type": "markdown",
		   "metadata": {},
		   "source": [
			"## Example 32.11: Acl_CMRR_and_maximum_operating_frequency.sce"
		   ]
		  },
  {
"cell_type": "code",
	   "execution_count": null,
	   "metadata": {
	    "collapsed": true
	   },
	   "outputs": [],
"source": [
"clc;\n",
"Acm=0.001;\n",
"AOL=180000;\n",
"Zin=1*10**6;\n",
"Zout=80;\n",
"SR=0.5;\n",
"Acl=1;\n",
"CMRR=Acl/Acm;\n",
"disp(CMRR);\n",
"Vpk=3;\n",
"fmax=SR/(2*%pi*Vpk)\n",
"disp('kHZ',fmax*10**3,'fmax=');"
   ]
   }
,
{
		   "cell_type": "markdown",
		   "metadata": {},
		   "source": [
			"## Example 32.12: output_voltage.sce"
		   ]
		  },
  {
"cell_type": "code",
	   "execution_count": null,
	   "metadata": {
	    "collapsed": true
	   },
	   "outputs": [],
"source": [
"clc;\n",
"//e.g 32.12\n",
"V1= 0.1;\n",
"V2=1;\n",
"V3=0.5;\n",
"R1=10*10**3;\n",
"R2=10*10**3;\n",
"R3=10*10**3;\n",
"R4=22*10**3;\n",
"Vout=((-R4*V1)/R1)+((-R4*V2)/R2)+((-R4*V3)/R3);\n",
"disp('V',Vout*-1,'Vout=');"
   ]
   }
,
{
		   "cell_type": "markdown",
		   "metadata": {},
		   "source": [
			"## Example 32.14: output_voltage.sce"
		   ]
		  },
  {
"cell_type": "code",
	   "execution_count": null,
	   "metadata": {
	    "collapsed": true
	   },
	   "outputs": [],
"source": [
"clc;\n",
"V1=-2;\n",
"V2=2;\n",
"V3=-1;\n",
"R1=200*10**3;\n",
"R2=250*10**3;\n",
"R3=500*10**3;\n",
"Rf=1*10**6;\n",
"Vout=(-Rf/R1)*V1+(-Rf/R2)*V2+(-Rf/R3)*V3;\n",
"disp('V',Vout*1,'Vout=');"
   ]
   }
,
{
		   "cell_type": "markdown",
		   "metadata": {},
		   "source": [
			"## Example 32.1: CMRR.sce"
		   ]
		  },
  {
"cell_type": "code",
	   "execution_count": null,
	   "metadata": {
	    "collapsed": true
	   },
	   "outputs": [],
"source": [
"clc;\n",
"Adm=200000;\n",
"Acm=6.33;\n",
"CMRR=20*log10(Adm/Acm);\n",
"disp('dB',CMRR*1,'CMRR=');"
   ]
   }
,
{
		   "cell_type": "markdown",
		   "metadata": {},
		   "source": [
			"## Example 32.2: common_mode_gain.sce"
		   ]
		  },
  {
"cell_type": "code",
	   "execution_count": null,
	   "metadata": {
	    "collapsed": true
	   },
	   "outputs": [],
"source": [
"clc;\n",
"Adm=30000;\n",
"//CMRR=20*log10(Adm/Acm);\n",
"a=90/20;\n",
"Acm=(Adm/10^a);\n",
"disp(Acm);"
   ]
   }
,
{
		   "cell_type": "markdown",
		   "metadata": {},
		   "source": [
			"## Example 32.3: maximum_frequency.sce"
		   ]
		  },
  {
"cell_type": "code",
	   "execution_count": null,
	   "metadata": {
	    "collapsed": true
	   },
	   "outputs": [],
"source": [
"clc;\n",
"//e.g 32.3\n",
"SR=0.5*10**6;\n",
"Vpk=0.1;\n",
"fmax=SR/(2*%pi*Vpk);\n",
"disp('kHZ',fmax*10**-3,'fmax=');"
   ]
   }
,
{
		   "cell_type": "markdown",
		   "metadata": {},
		   "source": [
			"## Example 32.4: suitable_opamps.sce"
		   ]
		  },
  {
"cell_type": "code",
	   "execution_count": null,
	   "metadata": {
	    "collapsed": true
	   },
	   "outputs": [],
"source": [
"clc;\n",
"Vpk=10;\n",
"slewrate=0.5*10**6;\n",
"fmax=slewrate/(2*%pi*Vpk);\n",
"disp('HZ',fmax*1,'fmax=');//value of microamp 741\n",
"slewrate=13*10**6;\n",
"fmax=slewrate/(2*%pi*Vpk);\n",
"disp('kHZ',fmax*10**-3,'fmax=');//TLO 81\n",
"//value of microamp 741 is much lower than that of the input signal.And value of TLO81 is much higher than input signal,therefore TLO81 can be used"
   ]
   }
,
{
		   "cell_type": "markdown",
		   "metadata": {},
		   "source": [
			"## Example 32.5: value_of_vi.sce"
		   ]
		  },
  {
"cell_type": "code",
	   "execution_count": null,
	   "metadata": {
	    "collapsed": true
	   },
	   "outputs": [],
"source": [
"clc;\n",
"//e.g 32.5\n",
"ACL=200;\n",
"Vout=8;\n",
"Vin=Vout/ACL;\n",
"disp('mV',Vin*10**3,'Vin=');"
   ]
   }
,
{
		   "cell_type": "markdown",
		   "metadata": {},
		   "source": [
			"## Example 32.7: voltage.sce"
		   ]
		  },
  {
"cell_type": "code",
	   "execution_count": null,
	   "metadata": {
	    "collapsed": true
	   },
	   "outputs": [],
"source": [
"clc;\n",
"//e.g 32.7\n",
"R1=1*10**3;\n",
"R2=10*10**3;\n",
"ACL=R2/R1\n",
"disp('Voltage at node A increases from 1V to 4v');"
   ]
   }
,
{
		   "cell_type": "markdown",
		   "metadata": {},
		   "source": [
			"## Example 32.8: output_voltage.sce"
		   ]
		  },
  {
"cell_type": "code",
	   "execution_count": null,
	   "metadata": {
	    "collapsed": true
	   },
	   "outputs": [],
"source": [
"clc;\n",
"R1=1*10**3;\n",
"R2=2*10**3;\n",
"Vi=1;\n",
"Acl=R2/R1;\n",
"V0=Acl*Vi;\n",
"disp('V',V0*1,'V0=');"
   ]
   }
,
{
		   "cell_type": "markdown",
		   "metadata": {},
		   "source": [
			"## Example 32.9: gain_input_impedance_cmrr_and_fmax.sce"
		   ]
		  },
  {
"cell_type": "code",
	   "execution_count": null,
	   "metadata": {
	    "collapsed": true
	   },
	   "outputs": [],
"source": [
"clc;\n",
"Acm=0.001;\n",
"Aol=180000;\n",
"Zin=1*10**6;\n",
"Zout=80;\n",
"SR=0.5;\n",
"R2=100*10**3;\n",
"R1=10*10**3;\n",
"Acl=R2/R1;\n",
"disp(Acl);\n",
"Zin=R1;\n",
"disp('kOhm',Zin*10**-3,'Zin=');\n",
"disp('Ohm',Zout*1,'Zout=');\n",
"CMRR=Acl/Acm;\n",
"disp(CMRR);\n",
"Vpk=5;\n",
"fmax=SR/(2*%pi*Vpk);\n",
"disp('kHZ',fmax*10**3,'fmax=');"
   ]
   }
],
"metadata": {
		  "kernelspec": {
		   "display_name": "Scilab",
		   "language": "scilab",
		   "name": "scilab"
		  },
		  "language_info": {
		   "file_extension": ".sce",
		   "help_links": [
			{
			 "text": "MetaKernel Magics",
			 "url": "https://github.com/calysto/metakernel/blob/master/metakernel/magics/README.md"
			}
		   ],
		   "mimetype": "text/x-octave",
		   "name": "scilab",
		   "version": "0.7.1"
		  }
		 },
		 "nbformat": 4,
		 "nbformat_minor": 0
}
