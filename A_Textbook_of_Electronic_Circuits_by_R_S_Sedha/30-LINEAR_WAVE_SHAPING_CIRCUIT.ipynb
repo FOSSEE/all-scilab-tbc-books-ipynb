{
"cells": [
 {
		   "cell_type": "markdown",
	   "metadata": {},
	   "source": [
       "# Chapter 30: LINEAR WAVE SHAPING CIRCUIT"
	   ]
	},
{
		   "cell_type": "markdown",
		   "metadata": {},
		   "source": [
			"## Example 30.2: VOLTAGE.sce"
		   ]
		  },
  {
"cell_type": "code",
	   "execution_count": null,
	   "metadata": {
	    "collapsed": true
	   },
	   "outputs": [],
"source": [
"\n",
"clc;\n",
"C=1*10**-6;\n",
"Vi=6;\n",
"R=10*10**3;\n",
"Vo=-3;\n",
"t=8*10**-3;\n",
"tao=R*C;\n",
"disp('msec',tao*10**3,'tao=');\n",
"vf=6*(1-exp(-8/10));\n",
"disp('V',vf*1,'vf=');\n",
"output=vf-3.0;\n",
"disp('V',output*1,'output=');"
   ]
   }
,
{
		   "cell_type": "markdown",
		   "metadata": {},
		   "source": [
			"## Example 30.3: VOLTAGE.sce"
		   ]
		  },
  {
"cell_type": "code",
	   "execution_count": null,
	   "metadata": {
	    "collapsed": true
	   },
	   "outputs": [],
"source": [
"\n",
"clc;\n",
"t=0.1;\n",
"tao=0.2;\n",
"vc=0.5*exp(-t/tao);\n",
"disp('V',vc*1,'vc=');"
   ]
   }
,
{
		   "cell_type": "markdown",
		   "metadata": {},
		   "source": [
			"## Example 30.4: peak_value_of_input_voltage.sce"
		   ]
		  },
  {
"cell_type": "code",
	   "execution_count": null,
	   "metadata": {
	    "collapsed": true
	   },
	   "outputs": [],
"source": [
"\n",
"clc;\n",
"tao=250*10**-12;\n",
"v=50;\n",
"a=v/tao;\n",
"t=0.05*10**-6;\n",
"vp=a*t;\n",
"disp('kV',vp*10**-3,'vp=');"
   ]
   }
],
"metadata": {
		  "kernelspec": {
		   "display_name": "Scilab",
		   "language": "scilab",
		   "name": "scilab"
		  },
		  "language_info": {
		   "file_extension": ".sce",
		   "help_links": [
			{
			 "text": "MetaKernel Magics",
			 "url": "https://github.com/calysto/metakernel/blob/master/metakernel/magics/README.md"
			}
		   ],
		   "mimetype": "text/x-octave",
		   "name": "scilab",
		   "version": "0.7.1"
		  }
		 },
		 "nbformat": 4,
		 "nbformat_minor": 0
}
