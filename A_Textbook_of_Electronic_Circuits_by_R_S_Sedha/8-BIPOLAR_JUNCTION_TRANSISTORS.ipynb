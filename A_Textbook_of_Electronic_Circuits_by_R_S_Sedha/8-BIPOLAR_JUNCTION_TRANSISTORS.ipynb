{
"cells": [
 {
		   "cell_type": "markdown",
	   "metadata": {},
	   "source": [
       "# Chapter 8: BIPOLAR JUNCTION TRANSISTORS"
	   ]
	},
{
		   "cell_type": "markdown",
		   "metadata": {},
		   "source": [
			"## Example 8.10: IC_and_IB.sce"
		   ]
		  },
  {
"cell_type": "code",
	   "execution_count": null,
	   "metadata": {
	    "collapsed": true
	   },
	   "outputs": [],
"source": [
"clc;\n",
"//e.g 8.10\n",
"Ie=12*10**-3;\n",
"beta=140;\n",
"Ib=Ie/(1+beta);\n",
"disp('mA',Ib*10**3,'Ib=');\n",
"Ic=Ie-Ib;\n",
"disp('mA',Ic*10**3,'Ic=');"
   ]
   }
,
{
		   "cell_type": "markdown",
		   "metadata": {},
		   "source": [
			"## Example 8.11: beta_emitter_current_and_new_value_of_beta.sce"
		   ]
		  },
  {
"cell_type": "code",
	   "execution_count": null,
	   "metadata": {
	    "collapsed": true
	   },
	   "outputs": [],
"source": [
"clc;\n",
"IB=105*10**-6;\n",
"IC=2.05*10**-3;\n",
"BETA=IC/IB;\n",
"disp(BETA);\n",
"ALPHA=BETA/(1+BETA);\n",
"disp(ALPHA);\n",
"IE=IC+IB;\n",
"disp('mA',IE*10**3,'IE=');\n",
"DELTA_IB=27*10**-6;\n",
"DELTA_IC=0.65*10**-3;\n",
"IBn=IB+DELTA_IB;\n",
"ICn=IC+DELTA_IC;\n",
"BETAn=ICn/IBn;\n",
"disp(BETAn);"
   ]
   }
,
{
		   "cell_type": "markdown",
		   "metadata": {},
		   "source": [
			"## Example 8.12: collector_and_emitter_current.sce"
		   ]
		  },
  {
"cell_type": "code",
	   "execution_count": null,
	   "metadata": {
	    "collapsed": true
	   },
	   "outputs": [],
"source": [
"clc;\n",
"//e.g 8.12\n",
"alpha=0.98;\n",
"Ico=5*10**-6;\n",
"Ib=100*10**-6;\n",
"Ic=((alpha*Ib)/(1-alpha))+(Ico/(1-alpha));\n",
"disp('mA',Ic*10**3,'Ic=');\n",
"Ie=Ib+Ic;\n",
"disp('mA',Ie*10**3,'Ie=');"
   ]
   }
,
{
		   "cell_type": "markdown",
		   "metadata": {},
		   "source": [
			"## Example 8.13: collector_current.sce"
		   ]
		  },
  {
"cell_type": "code",
	   "execution_count": null,
	   "metadata": {
	    "collapsed": true
	   },
	   "outputs": [],
"source": [
"clc;\n",
"//e.g 8.13\n",
"Icbo=10*10**-6;\n",
"beta=50;\n",
"//Value of collector current when Ib=0.25*10**-3;\n",
" Ib=0.25*10**-3;\n",
" Ic=(beta*Ib)+(1+beta)*Icbo;\n",
" disp('mA',Ic*10**3,'Ic=');\n",
" //Value of new collector current if temperature rises to 50 degree\n",
" t1=27;\n",
" t2=50;\n",
" Icbo50=Icbo*2^((t2-t1)/10);\n",
" disp('microA',Icbo50*10**6,'Icbo50=');\n",
" //collector current at 50 degree\n",
" Ic=beta*Ib+(1+beta)*Icbo50;\n",
" disp('mA',Ic*10**3,'Ic=');"
   ]
   }
,
{
		   "cell_type": "markdown",
		   "metadata": {},
		   "source": [
			"## Example 8.1: base_current.sce"
		   ]
		  },
  {
"cell_type": "code",
	   "execution_count": null,
	   "metadata": {
	    "collapsed": true
	   },
	   "outputs": [],
"source": [
"clc;\n",
"//e.g 8.1\n",
"Ie=10*10**-3;\n",
"Ic=9.8*10**-3;\n",
"//Ie=Ib+Ic\n",
"Ib=Ie-Ic;\n",
"disp('mA',Ib*10**3,'Ib=');"
   ]
   }
,
{
		   "cell_type": "markdown",
		   "metadata": {},
		   "source": [
			"## Example 8.2: current_gain.sce"
		   ]
		  },
  {
"cell_type": "code",
	   "execution_count": null,
	   "metadata": {
	    "collapsed": true
	   },
	   "outputs": [],
"source": [
"clc;\n",
"//e.g 8.2\n",
"Ie=6.28*10**-3;\n",
"Ic=6.20*10**-3;\n",
"a=Ic/Ie;\n",
"disp(a);"
   ]
   }
,
{
		   "cell_type": "markdown",
		   "metadata": {},
		   "source": [
			"## Example 8.3: base_current.sce"
		   ]
		  },
  {
"cell_type": "code",
	   "execution_count": null,
	   "metadata": {
	    "collapsed": true
	   },
	   "outputs": [],
"source": [
"clc;\n",
"//e.g8.3\n",
"a=0.967;\n",
"Ie=10*10**-3;\n",
"Ic=Ie*a;//a=Ic/Ie\n",
"disp('mA',Ic*10**3,'Ic=');\n",
"Ib=Ie-Ic;\n",
"disp('mA',Ib*10**3,'Ib=');"
   ]
   }
,
{
		   "cell_type": "markdown",
		   "metadata": {},
		   "source": [
			"## Example 8.4: IC_and_IB.sce"
		   ]
		  },
  {
"cell_type": "code",
	   "execution_count": null,
	   "metadata": {
	    "collapsed": true
	   },
	   "outputs": [],
"source": [
"clc;\n",
"//e.g 8.4\n",
"Ie=10*10**-3;\n",
"alpha=0.987;\n",
"Ic=Ie*alpha;//alpha=Ic/Ie\n",
"disp('mA',Ic*10**3,'Ic=');\n",
"Ib=Ie-Ic;\n",
"disp('mA',Ib*10**3,'Ib=');"
   ]
   }
,
{
		   "cell_type": "markdown",
		   "metadata": {},
		   "source": [
			"## Example 8.5: alpha_and_beta.sce"
		   ]
		  },
  {
"cell_type": "code",
	   "execution_count": null,
	   "metadata": {
	    "collapsed": true
	   },
	   "outputs": [],
"source": [
"clc;\n",
"//e.g 8.5\n",
"alpha=0.975;\n",
"beta=200;\n",
"beta=(alpha/(1-alpha));\n",
"disp(beta);\n",
"alpha=(beta/(1+beta));\n",
"disp(alpha);"
   ]
   }
,
{
		   "cell_type": "markdown",
		   "metadata": {},
		   "source": [
			"## Example 8.6: emitter_current.sce"
		   ]
		  },
  {
"cell_type": "code",
	   "execution_count": null,
	   "metadata": {
	    "collapsed": true
	   },
	   "outputs": [],
"source": [
"clc;\n",
"//e.g 8.6\n",
"BETA=100;\n",
"IC=40*10**-3;\n",
"IB=IC/BETA;\n",
"IE=IC+IB;\n",
"disp('mA',IE*10**3,'IE=');"
   ]
   }
,
{
		   "cell_type": "markdown",
		   "metadata": {},
		   "source": [
			"## Example 8.7: current.sce"
		   ]
		  },
  {
"cell_type": "code",
	   "execution_count": null,
	   "metadata": {
	    "collapsed": true
	   },
	   "outputs": [],
"source": [
"clc;\n",
"//e.g 8.7\n",
"beta=150;\n",
"Ie=10*10**-3;\n",
"alpha=beta/(1+beta)\n",
"Ic=alpha*Ie;//as alpha=(Ic/Ie)\n",
"disp('mA',Ic*10**3,'Ic=');\n",
"Ib=Ie-Ic;//as  Ie=Ib+Ic\n",
"disp('mA',Ib*10**3,'Ib=');"
   ]
   }
,
{
		   "cell_type": "markdown",
		   "metadata": {},
		   "source": [
			"## Example 8.8: IB_and_IE.sce"
		   ]
		  },
  {
"cell_type": "code",
	   "execution_count": null,
	   "metadata": {
	    "collapsed": true
	   },
	   "outputs": [],
"source": [
"clc;\n",
"//e.g 8.8\n",
"beta=170;\n",
"Ic=80*10**-3;\n",
"Ib=Ic/beta;//beta=(Ic/Ib)\n",
"disp('mA',Ib*10**3,'Ib=');\n",
"Ie=Ic+Ib;\n",
"disp('mA',Ie*10**3,'Ie=');"
   ]
   }
,
{
		   "cell_type": "markdown",
		   "metadata": {},
		   "source": [
			"## Example 8.9: IC_and_IE.sce"
		   ]
		  },
  {
"cell_type": "code",
	   "execution_count": null,
	   "metadata": {
	    "collapsed": true
	   },
	   "outputs": [],
"source": [
"clc;\n",
"//e.g 8.9\n",
"Ib=125*10**-6;\n",
"beta=200;\n",
"Ic=beta*Ib;\n",
"disp('mA',Ic*10**3,'Ic=');\n",
"Ie=Ib+Ic;\n",
"disp('mA',Ie*10**3,'Ie=');"
   ]
   }
],
"metadata": {
		  "kernelspec": {
		   "display_name": "Scilab",
		   "language": "scilab",
		   "name": "scilab"
		  },
		  "language_info": {
		   "file_extension": ".sce",
		   "help_links": [
			{
			 "text": "MetaKernel Magics",
			 "url": "https://github.com/calysto/metakernel/blob/master/metakernel/magics/README.md"
			}
		   ],
		   "mimetype": "text/x-octave",
		   "name": "scilab",
		   "version": "0.7.1"
		  }
		 },
		 "nbformat": 4,
		 "nbformat_minor": 0
}
