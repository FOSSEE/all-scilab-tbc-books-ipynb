{
"cells": [
 {
		   "cell_type": "markdown",
	   "metadata": {},
	   "source": [
       "# Chapter 28: SINUSOIDAL OSCILLATORS"
	   ]
	},
{
		   "cell_type": "markdown",
		   "metadata": {},
		   "source": [
			"## Example 28.10: frequency.sce"
		   ]
		  },
  {
"cell_type": "code",
	   "execution_count": null,
	   "metadata": {
	    "collapsed": true
	   },
	   "outputs": [],
"source": [
"clc;\n",
"//e.g 28.10\n",
"C1=0.1*10**-6;\n",
"C2=1*10**-6;\n",
"L=470*10**-6;\n",
"C=(C1*C2)/(C1+C2)\n",
"fo=1/(2*%pi*sqrt(L*C));\n",
"disp('kHZ',fo*10**-3,'fo=');"
   ]
   }
,
{
		   "cell_type": "markdown",
		   "metadata": {},
		   "source": [
			"## Example 28.11: inductance_and_frequency.sce"
		   ]
		  },
  {
"cell_type": "code",
	   "execution_count": null,
	   "metadata": {
	    "collapsed": true
	   },
	   "outputs": [],
"source": [
"clc;\n",
"//e.g 28.11\n",
"C1=100*10**-12;\n",
"C2=7500*10**-12;\n",
"f01=950*10**3;\n",
"f02=2050*10**3;\n",
"C=(C1*C2)/(C1+C2);\n",
"//f01=1/(2*%pi*sqrt(L*C))\n",
"L1=1/(4*(%pi)^2*C*f01^2);\n",
"disp('microH',L1*10**6,'L1=');\n",
"L2=1/(4*(%pi)^2*C*f02^2);\n",
"disp('microH',L2*10**6,'L2=');"
   ]
   }
,
{
		   "cell_type": "markdown",
		   "metadata": {},
		   "source": [
			"## Example 28.13: frequency.sce"
		   ]
		  },
  {
"cell_type": "code",
	   "execution_count": null,
	   "metadata": {
	    "collapsed": true
	   },
	   "outputs": [],
"source": [
"clc;\n",
"//e.g 28.13\n",
"C1=0.1*10**-6;\n",
"C2=1*10**-6;\n",
"C3=100*10**-12;\n",
"L=470*10**-6;\n",
"C=1/((1/C1)+(1/C2)+(1/C3));\n",
"fo=1/(2*%pi*sqrt(L*C));\n",
"disp('kHZ',fo*10**-3,'fo=');"
   ]
   }
,
{
		   "cell_type": "markdown",
		   "metadata": {},
		   "source": [
			"## Example 28.14: frequency.sce"
		   ]
		  },
  {
"cell_type": "code",
	   "execution_count": null,
	   "metadata": {
	    "collapsed": true
	   },
	   "outputs": [],
"source": [
"clc;\n",
"//e.g 28.14\n",
"L=0.33;\n",
"C1=0.065*10**-12;\n",
"C2=1*10**-12;\n",
"R=5.5*10**3;\n",
"fs=1/(2*%pi*sqrt(L*C1));\n",
"disp('MHZ',fs*10**-6,'fs=');\n",
"Q=(2*%pi*fs*L)/R;\n",
"disp(Q);"
   ]
   }
,
{
		   "cell_type": "markdown",
		   "metadata": {},
		   "source": [
			"## Example 28.15: frequency_fs_and_fp.sce"
		   ]
		  },
  {
"cell_type": "code",
	   "execution_count": null,
	   "metadata": {
	    "collapsed": true
	   },
	   "outputs": [],
"source": [
"clc;//e.g 28.14\n",
"L=0.8;\n",
"C1=0.08*10**-12;\n",
"C2=1*10**-12;\n",
"R=5*10**3;\n",
"fs=1/(2*%pi*sqrt(L*C1));\n",
"disp('MHZ',fs*10**-6,'fs=');\n",
"C=(C1*C2)/(C1+C2);\n",
"fp=1/(2*%pi*sqrt(L*C));\n",
"disp('MHZ',fp*10**-6,'fp=');"
   ]
   }
,
{
		   "cell_type": "markdown",
		   "metadata": {},
		   "source": [
			"## Example 28.1: inductance.sce"
		   ]
		  },
  {
"cell_type": "code",
	   "execution_count": null,
	   "metadata": {
	    "collapsed": true
	   },
	   "outputs": [],
"source": [
"clc;\n",
"//e.g 28.1\n",
"fo=22*10**3;;\n",
"C=2*10**-9;\n",
"L=((0.159/fo)^2)/C;\n",
"disp('H',L*1,'L=');"
   ]
   }
,
{
		   "cell_type": "markdown",
		   "metadata": {},
		   "source": [
			"## Example 28.2: frequency.sce"
		   ]
		  },
  {
"cell_type": "code",
	   "execution_count": null,
	   "metadata": {
	    "collapsed": true
	   },
	   "outputs": [],
"source": [
"clc;\n",
"//e.g 28.2\n",
"fo=2.2*10**6;\n",
"//fo1=(sqrt(2))/sqrt(C);\n",
"fo1=sqrt(2)*fo;\n",
"disp('MHZ',fo1*10**-6,'fo1=');"
   ]
   }
,
{
		   "cell_type": "markdown",
		   "metadata": {},
		   "source": [
			"## Example 28.3: frequency.sce"
		   ]
		  },
  {
"cell_type": "code",
	   "execution_count": null,
	   "metadata": {
	    "collapsed": true
	   },
	   "outputs": [],
"source": [
"clc;\n",
"//e.g 28.3\n",
"C=100*10**-12;\n",
"L1=30*10**-6;\n",
"L2=1*10**-8;\n",
"fo=1/(2*%pi*sqrt((L1+L2)*C));\n",
"disp('MHZ',fo*10**-6,'fo=');"
   ]
   }
,
{
		   "cell_type": "markdown",
		   "metadata": {},
		   "source": [
			"## Example 28.4: frequency.sce"
		   ]
		  },
  {
"cell_type": "code",
	   "execution_count": null,
	   "metadata": {
	    "collapsed": true
	   },
	   "outputs": [],
"source": [
"clc;\n",
"//e.g 28.4\n",
"L1=1000*10**-6;\n",
"L2=100*10**-6;\n",
"M=20*10**-6;\n",
"C=20*10**-12;\n",
"fo=1/(2*%pi*sqrt((L1+L2+2*M)*C));\n",
"disp('MHZ',fo*10**-6,'fo=');"
   ]
   }
,
{
		   "cell_type": "markdown",
		   "metadata": {},
		   "source": [
			"## Example 28.5: frequency.sce"
		   ]
		  },
  {
"cell_type": "code",
	   "execution_count": null,
	   "metadata": {
	    "collapsed": true
	   },
	   "outputs": [],
"source": [
"clc;\n",
"//e.g 28.5\n",
"C=1*10**-9;\n",
"L1=4.7*10**-3;\n",
"L2=47*10**-6;\n",
"fo=1/(2*%pi*sqrt((L1+L2)*C));\n",
"disp('KHZ',fo*10**-3,'fo=');"
   ]
   }
,
{
		   "cell_type": "markdown",
		   "metadata": {},
		   "source": [
			"## Example 28.6: capacitance.sce"
		   ]
		  },
  {
"cell_type": "code",
	   "execution_count": null,
	   "metadata": {
	    "collapsed": true
	   },
	   "outputs": [],
"source": [
"clc;\n",
"//e.g 28.6\n",
"L1=2*10**-3;\n",
"L2=20*10**-6;\n",
"fo=950*10**3;\n",
"C=1/(4*%pi^2*(L1+L2)*fo^2);\n",
"disp('pF',C*10**12,'C=');\n",
"fo=2050*10**3;\n",
"C=1/(4*%pi^2*(L1+L2)*fo^2);\n",
"disp('pF',C*10**12,'C=');"
   ]
   }
,
{
		   "cell_type": "markdown",
		   "metadata": {},
		   "source": [
			"## Example 28.7: capacitance.sce"
		   ]
		  },
  {
"cell_type": "code",
	   "execution_count": null,
	   "metadata": {
	    "collapsed": true
	   },
	   "outputs": [],
"source": [
"clc;\n",
"//e.g 28.7\n",
"L1=0.1*10**-3;\n",
"L2=10*10**-6;\n",
"fo=4110*10**3;\n",
"M=20*10**-6;\n",
"C=1/(4*%pi^2*(L1+L2+M)*fo^2);\n",
"disp('pF',C*10**12,'C=');\n",
"AV=(L1/L2);\n",
"disp(AV);"
   ]
   }
,
{
		   "cell_type": "markdown",
		   "metadata": {},
		   "source": [
			"## Example 28.8: c1_and_c2.sce"
		   ]
		  },
  {
"cell_type": "code",
	   "execution_count": null,
	   "metadata": {
	    "collapsed": true
	   },
	   "outputs": [],
"source": [
"clc;\n",
"//e.g 28.8\n",
"fo=100*10**3;\n",
"L=0.5*10**-3;\n",
"C=2/(4*%pi^2*L*fo^2);\n",
"disp('microF',C*10**6,'C=');"
   ]
   }
,
{
		   "cell_type": "markdown",
		   "metadata": {},
		   "source": [
			"## Example 28.9: gain_and_frequency.sce"
		   ]
		  },
  {
"cell_type": "code",
	   "execution_count": null,
	   "metadata": {
	    "collapsed": true
	   },
	   "outputs": [],
"source": [
"clc;\n",
"//e.g 28.9\n",
"C1=0.001*10**-6;\n",
"C2=0.01*10**-6;\n",
"L=5*10**-6;\n",
"AV=C2/C1;\n",
"disp(AV);\n",
"C=(C1*C2)/(C1+C2)\n",
"fo=1/(2*%pi*sqrt(L*C));\n",
"disp('MHZ',fo*10**-6,'fo=');"
   ]
   }
],
"metadata": {
		  "kernelspec": {
		   "display_name": "Scilab",
		   "language": "scilab",
		   "name": "scilab"
		  },
		  "language_info": {
		   "file_extension": ".sce",
		   "help_links": [
			{
			 "text": "MetaKernel Magics",
			 "url": "https://github.com/calysto/metakernel/blob/master/metakernel/magics/README.md"
			}
		   ],
		   "mimetype": "text/x-octave",
		   "name": "scilab",
		   "version": "0.7.1"
		  }
		 },
		 "nbformat": 4,
		 "nbformat_minor": 0
}
