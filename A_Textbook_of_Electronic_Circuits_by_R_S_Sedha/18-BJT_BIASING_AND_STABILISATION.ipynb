{
"cells": [
 {
		   "cell_type": "markdown",
	   "metadata": {},
	   "source": [
       "# Chapter 18: BJT BIASING AND STABILISATION"
	   ]
	},
{
		   "cell_type": "markdown",
		   "metadata": {},
		   "source": [
			"## Example 18.10: Q_point.sce"
		   ]
		  },
  {
"cell_type": "code",
	   "execution_count": null,
	   "metadata": {
	    "collapsed": true
	   },
	   "outputs": [],
"source": [
"\n",
"clc;\n",
"//e.g 18.10\n",
"Vbe=0.7;\n",
"Rb=100*10**3;\n",
"Vcc=10;\n",
"Rc=10*10**3;\n",
"beta=100;\n",
"Ic=(Vcc-Vbe)/(Rc+(Rb/beta));//collector current\n",
"disp('mA',Ic*10**3,'Ic=');\n",
"Vce=Vcc-(Ic*Rc);//collector to emitter voltage\n",
"disp('V',Vce*1,'Vce=');\n",
"Ic=Vcc/Rc;\n",
"disp('mA',Ic*10**3,'Ic=');\n",
"Vce=Vcc;\n",
"disp('V',Vce*1,'Vce=');"
   ]
   }
,
{
		   "cell_type": "markdown",
		   "metadata": {},
		   "source": [
			"## Example 18.11: IB_IC_AND_IE.sce"
		   ]
		  },
  {
"cell_type": "code",
	   "execution_count": null,
	   "metadata": {
	    "collapsed": true
	   },
	   "outputs": [],
"source": [
"clc;\n",
"//e.g 18.11\n",
"Rb=100*10**3;\n",
"Vcc=10;\n",
"Rc=2*10**3;\n",
"beta1=50;\n",
"Vbe=0.7;\n",
"Ib=(Vcc-Vbe)/(Rb+(beta1*Rc));\n",
"disp('mA',Ib*10**3,'Ib=');\n",
"Ic=beta1*Ib;\n",
"disp('mA',Ic*10**3,'Ic=');\n",
"Ie=Ic;\n",
"disp('mA',Ie*10**3,'Ie=');"
   ]
   }
,
{
		   "cell_type": "markdown",
		   "metadata": {},
		   "source": [
			"## Example 18.12: possible_causes.sce"
		   ]
		  },
  {
"cell_type": "code",
	   "execution_count": null,
	   "metadata": {
	    "collapsed": true
	   },
	   "outputs": [],
"source": [
"\n",
"clc;\n",
"//e.g 18.12\n",
"VCC=9;\n",
"RB=220*10**3;\n",
"RC=3.3*10**3;\n",
"VBE=0.3;\n",
"B=100;\n",
"//if vc=0\n",
"IB=(VCC-VBE)/(RB+(B*RC));\n",
"disp('microA',IB*10**6,'IB=');\n",
"IC=B*IB;\n",
"disp('microA',IC*10**6,'IC=');//CORRECTION IN BOOK\n",
"//if VC=9\n",
"VC=9;\n",
"IC=B*IB;\n",
"disp('mA',IC*10**3,'IC=');\n",
"//IC*RC=0,which means collector resistance is short circuited"
   ]
   }
,
{
		   "cell_type": "markdown",
		   "metadata": {},
		   "source": [
			"## Example 18.13: find_R1.sce"
		   ]
		  },
  {
"cell_type": "code",
	   "execution_count": null,
	   "metadata": {
	    "collapsed": true
	   },
	   "outputs": [],
"source": [
"\n",
"clc;\n",
"//e.g 18.13\n",
"Vcc=12;\n",
"Rc=3.3*10**3;\n",
"Re=100;\n",
"Ie=2*10**-3;\n",
"Vbe=0.7;\n",
"alpha=0.98;\n",
"Ic=alpha*Ie;\n",
"disp('mA',Ic*10**3,'Ic=');\n",
"Vb=Vbe+(Ie*Re);\n",
"disp('V',Vb*1,'Vb=');\n",
"Vc=Vcc-(Ic*Rc);//collector to emitter voltage\n",
"disp('V',Vc*1,'Vc=');\n",
"R2=20*10**3;\n",
"IR2=Vc/R2;\n",
"disp('mA',IR2*10**3,'IR2=');\n",
"Ib=Ie-Ic;\n",
"disp('mA',Ib*10**3,'Ib=');\n",
"IR1=IR2+Ib;\n",
"disp('mA',IR1*10**3,'IR1=');\n",
"R1=(Vc-Vb)/IR1;\n",
"disp('kohm',R1*10**-3,'R1=');"
   ]
   }
,
{
		   "cell_type": "markdown",
		   "metadata": {},
		   "source": [
			"## Example 18.14: base_resistance.sce"
		   ]
		  },
  {
"cell_type": "code",
	   "execution_count": null,
	   "metadata": {
	    "collapsed": true
	   },
	   "outputs": [],
"source": [
"clc;\n",
"VCC=24;\n",
"RC=10*10**3;\n",
"RE=270;\n",
"VBE=0.7;\n",
"B=45;\n",
"VCE=5;\n",
"IC=(VCC-VCE)/RC;\n",
"disp('mA',IC*10**3,'IC=');\n",
"RB=(2.6*10^3)*B;\n",
"disp('kohm',RB*10**-3,'RB=')\n",
""
   ]
   }
,
{
		   "cell_type": "markdown",
		   "metadata": {},
		   "source": [
			"## Example 18.15: dc_bias_current_and_voltage.sce"
		   ]
		  },
  {
"cell_type": "code",
	   "execution_count": null,
	   "metadata": {
	    "collapsed": true
	   },
	   "outputs": [],
"source": [
"\n",
"clc;\n",
"//e.g 18.15\n",
"Rb=33*10**3;\n",
"Vcc=3;\n",
"Rc=1.8*10**3;\n",
"beta=90;\n",
"Vbe=0.7;\n",
"Ib=(Vcc-Vbe)/(Rb+(Rc*beta));//collector current\n",
"disp('mA',Ib*10**3,'Ib=');\n",
"Ic=beta*Ib;\n",
"disp('mA',Ic*10**3,'Ic=');\n",
"Vce=Vcc-(Ic*Rc);//collector to emitter voltage\n",
"disp('V',Vce*1,'Vce=');\n",
"S=(1+beta)/(1+beta*(Rc/(Rc+Rb)))//stability factor"
   ]
   }
,
{
		   "cell_type": "markdown",
		   "metadata": {},
		   "source": [
			"## Example 18.16: current_and_voltage.sce"
		   ]
		  },
  {
"cell_type": "code",
	   "execution_count": null,
	   "metadata": {
	    "collapsed": true
	   },
	   "outputs": [],
"source": [
"\n",
"clc;\n",
"//e.g 18.16\n",
"Vbe=0.7;\n",
"Vcc=10;\n",
"Rc=1*10**3;\n",
"beta=100;\n",
"R1=10*10**3;\n",
"R2=5*10**3;\n",
"Re=500;\n",
"Vb=Vcc*(R2/(R1+R2));\n",
"disp('V',Vb*1,'Vb=');\n",
"Ve=Vb-Vbe;\n",
"disp('V',Ve*1,'Ve=');\n",
"Ie=Ve/Re;\n",
"disp('mA',Ie*10**3,'Ie=');\n",
"Ic=Ie;\n",
"disp('mA',Ic*10**3,'Ic=');\n",
"Vce=Vcc-(Rc+Re);\n",
"disp('V',Ve*1,'Ve=');"
   ]
   }
,
{
		   "cell_type": "markdown",
		   "metadata": {},
		   "source": [
			"## Example 18.17: OPERATING_POINT.sce"
		   ]
		  },
  {
"cell_type": "code",
	   "execution_count": null,
	   "metadata": {
	    "collapsed": true
	   },
	   "outputs": [],
"source": [
"\n",
"clc;\n",
"//e.g 18.17\n",
"Vcc=9;\n",
"Rc=1*10**3;\n",
"Re=680;\n",
"beta=100;\n",
"R1=33*10**3;\n",
"R2=15*10**3;\n",
"Vb=Vcc*(R2/(R1+R2));\n",
"disp('V',Vb*1,'Vb=');\n",
"Vbe=0.7;\n",
"Ve=Vb-Vbe;\n",
"disp('V',Ve*1,'Ve=');\n",
"Ie=Ve/Re;\n",
"disp('mA',Ie*10**3,'Ie=');\n",
"Ic=Ie;\n",
"disp('mA',Ic*10**3,'Ic=');\n",
"VRc=Ic*Rc;\n",
"disp('V',VRc*1,'VRc=');\n",
"Vc=Vcc-VRc;\n",
"disp('V',Vc*1,'Vc=');\n",
"Vce=Vc-Ve;\n",
"disp('V',Vce*1,'Vce=');"
   ]
   }
,
{
		   "cell_type": "markdown",
		   "metadata": {},
		   "source": [
			"## Example 18.18: R1_and_RC.sce"
		   ]
		  },
  {
"cell_type": "code",
	   "execution_count": null,
	   "metadata": {
	    "collapsed": true
	   },
	   "outputs": [],
"source": [
"\n",
"clc;\n",
"VCC=5;\n",
"RE=0.3*10**3;\n",
"IC=1*10**-3;\n",
"VCE=2.5;\n",
"B=100;\n",
"VBE=0.7;\n",
"ICO=0;\n",
"R2=10*10**3;\n",
"IE=IC;\n",
"RC=((VCC-VCE)/IC)-RE;\n",
"disp('ohm',RC*1,'RC=');\n",
"VE=IE*RE;\n",
"VB=VE+VBE;\n",
"R1=VCC*R2-R2;\n",
"disp('Kohm',R1*10**-3,'R1=');"
   ]
   }
,
{
		   "cell_type": "markdown",
		   "metadata": {},
		   "source": [
			"## Example 18.19: IE_and_VCE.sce"
		   ]
		  },
  {
"cell_type": "code",
	   "execution_count": null,
	   "metadata": {
	    "collapsed": true
	   },
	   "outputs": [],
"source": [
"\n",
"clc;\n",
"Vcc=20;\n",
"RC=1*10**3;\n",
"RE=5*10**3;\n",
"R1=10*10**3;\n",
"R2=10*10**3;\n",
"B=462;\n",
"VBE=0.7;\n",
"VB=Vcc*R2/(R1+R2);\n",
"disp('V',VB*1,'VB=');\n",
"VE=VB-VBE;\n",
"IE=VE/RE;\n",
"disp('mA',IE*10**3,'IE=');\n",
"IC=IE;\n",
"VCE=Vcc-IC*RC;\n",
"disp('V',VCE*1,'VCE=');"
   ]
   }
,
{
		   "cell_type": "markdown",
		   "metadata": {},
		   "source": [
			"## Example 18.1: sturation_current_and_cutoff_voltage.sce"
		   ]
		  },
  {
"cell_type": "code",
	   "execution_count": null,
	   "metadata": {
	    "collapsed": true
	   },
	   "outputs": [],
"source": [
"clc;\n",
"//e.g 18.1\n",
"Vbb=10;\n",
"Rb=47*10**3;\n",
"Vcc=20;\n",
"Rc=10*10**3;\n",
"B=100;\n",
"Ic=Vcc/Rc;//saturation current\n",
"disp('mA',Ic*10**3,'Ic=');\n",
"Vce=Vcc;//cut-off voltage\n",
"disp('V',Vce*1,'Vce=');\n",
"i=2:-0.1:0;\n",
"plot2d(i);\n",
"a=gca() //get the current axes\n",
"a.box='off';\n",
"xlabel('VCE');\n",
"ylabel( 'IC');"
   ]
   }
,
{
		   "cell_type": "markdown",
		   "metadata": {},
		   "source": [
			"## Example 18.20: base_current.sce"
		   ]
		  },
  {
"cell_type": "code",
	   "execution_count": null,
	   "metadata": {
	    "collapsed": true
	   },
	   "outputs": [],
"source": [
"\n",
"clc;\n",
"VCC=8;\n",
"VRC=0.5;\n",
"RC=800;\n",
"a=0.96;\n",
"VCE=VCC-VRC;//VRC=IC*RC\n",
"IC=VRC/RC;\n",
"disp('mA',IC*10**3,'IC=');\n",
"IE=IC/a;\n",
"disp('mA',IE*10**3,'IE=');\n",
"IB=IE-IC;\n",
"disp('microA',IB*10**6,'IB=');"
   ]
   }
,
{
		   "cell_type": "markdown",
		   "metadata": {},
		   "source": [
			"## Example 18.21: change_in_collector_current.sce"
		   ]
		  },
  {
"cell_type": "code",
	   "execution_count": null,
	   "metadata": {
	    "collapsed": true
	   },
	   "outputs": [],
"source": [
"\n",
"clc;\n",
"VCC=12;\n",
"RC=1*10**3;\n",
"RE=100;\n",
"R1=25*10**3;\n",
"R2=5*10**3;\n",
"B=50;\n",
"VBE=0.6;\n",
"VTH=VCC*R2/(R1+R2);\n",
"RTH=R1*R2/(R1+R2);\n",
"IE50=(VTH-VBE)/(RE+RTH/B);\n",
"B=150;\n",
"IE150=(VTH-VBE)/(RE+RTH/B);\n",
"ICdiff=(IE150-IE50)/IE50;\n",
"disp('%',ICdiff*100,'ICdiff=')"
   ]
   }
,
{
		   "cell_type": "markdown",
		   "metadata": {},
		   "source": [
			"## Example 18.24: value_of_resistors.sce"
		   ]
		  },
  {
"cell_type": "code",
	   "execution_count": null,
	   "metadata": {
	    "collapsed": true
	   },
	   "outputs": [],
"source": [
"clc;\n",
"B=50;\n",
"VBE=0.7;\n",
"VCC=22.5;\n",
"RC=5.6*10**3;\n",
"VCE=12;\n",
"IC=1.5*10**-3;\n",
"S=3;\n",
"RE=(VCC-IC*RC-VCE)/IC;\n",
"disp('kohm',RE*10^-3,'RE=');\n",
"RTH=(4375)-RE;\n",
"disp('kohm',RTH*10^-3,'RTH=');\n",
"R2=0.1*B*RE;\n",
"disp('kohm',R2*10^-3,'R2=');\n",
"R1=(-RTH*R2)/(RTH-R2);\n",
"disp('kohm',R1*10^-3,'R1=');"
   ]
   }
,
{
		   "cell_type": "markdown",
		   "metadata": {},
		   "source": [
			"## Example 18.25: CURRENT_AND_VOLTAGE.sce"
		   ]
		  },
  {
"cell_type": "code",
	   "execution_count": null,
	   "metadata": {
	    "collapsed": true
	   },
	   "outputs": [],
"source": [
"\n",
"clc;\n",
"VCC=10;\n",
"VEE=10;\n",
"RC=1*10**3;\n",
"RE=5*10**3;\n",
"RB=50*10**3;\n",
"VBE=0.7;\n",
"VE=-VBE;\n",
"IE=(VEE-VBE)/RE;\n",
"disp('mA',IE*10**3,'IE=');\n",
"IC=IE;\n",
"disp('mA',IC*10**3,'IC=');\n",
"VC=VCC-IC*RC;\n",
"VCE=VC-VE;\n",
"disp('volts',VCE*1,'VCE=');"
   ]
   }
,
{
		   "cell_type": "markdown",
		   "metadata": {},
		   "source": [
			"## Example 18.26: change_in_Q_point.sce"
		   ]
		  },
  {
"cell_type": "code",
	   "execution_count": null,
	   "metadata": {
	    "collapsed": true
	   },
	   "outputs": [],
"source": [
"clc;\n",
"VCC=20;\n",
"VEE=20;\n",
"RC=5*10**3;\n",
"RE=10*10**3;\n",
"RB=10*10**3;\n",
"B1=50;\n",
"B2=100;\n",
"VBE1=0.7;\n",
"VBE2=0.6;\n",
"IE1=(VEE-VBE1)/(RE+RB/B1);\n",
"disp('mA',IE1*10**3,'IE1=');\n",
"IC1=IE1;\n",
"VC1=VCC-IC1*RC;\n",
"disp('V',VC1,'VC1=');\n",
"VE=-VBE1;\n",
"VCE1=VC1-VE;\n",
"disp('V',VCE1,'VCE1=');\n",
"IE2=(VEE-VBE2)/(RE+RB/B2);\n",
"disp('mA',IE2*10**3,'IE2=');\n",
"IC2=IE2;\n",
"VC2=VCC-IC2*RC;\n",
"disp('V',VC2,'VC2=');\n",
"VE=-VBE2;\n",
"VCE2=VC-VE;\n",
"disp('V',VCE2,'VCE2=');\n",
"delIc=(IC2-IC1)/IC1;\n",
"disp('%',delIc*100,'delIc=');\n",
"delVCE=(VCE1-VCE2)/VCE2;\n",
"disp('%',delVCE*100,'delVCE=');\n",
"\n",
""
   ]
   }
,
{
		   "cell_type": "markdown",
		   "metadata": {},
		   "source": [
			"## Example 18.27: VOLTAGE_AND_CURRENT.sce"
		   ]
		  },
  {
"cell_type": "code",
	   "execution_count": null,
	   "metadata": {
	    "collapsed": true
	   },
	   "outputs": [],
"source": [
"\n",
"clc;\n",
"VCC=12;\n",
"RC=2*10**3;\n",
"RE=1*10**3;\n",
"R1=100*10**3;\n",
"R2=20*10**3;\n",
"B=100;\n",
"VBE=-0.2;\n",
"VB=-VCC*R2/(R1+R2);\n",
"disp('V',VB*1,'VB=');\n",
"VE=VB-VBE;\n",
"disp('V',VE*1,'VE=');\n",
"IE=-VE/RE;\n",
"IC=IE;\n",
"disp('mA',IC*10**3,'IC=');\n",
"VC=-(VCC-IC*RC);\n",
"disp('V',VC*1,'VC=');\n",
"VCE=VC-(VE);\n",
"disp('V',VCE*1,'VCE=');"
   ]
   }
,
{
		   "cell_type": "markdown",
		   "metadata": {},
		   "source": [
			"## Example 18.28: Quiescent_points.sce"
		   ]
		  },
  {
"cell_type": "code",
	   "execution_count": null,
	   "metadata": {
	    "collapsed": true
	   },
	   "outputs": [],
"source": [
"clc;\n",
"VCC=4.5;\n",
"RC=1.5*10**3;\n",
"RE=0.27*10**3;\n",
"R2=2.7*10**3;\n",
"R1=27*10**3;\n",
"B=44;\n",
"VBE=-0.3;\n",
"VB=-VCC*R2/(R1+R2);\n",
"disp('V',VB*1,'VB=');\n",
"VE=VB-VBE;\n",
"disp('V',VE*1,'VE=');\n",
"IE=-VE/RE;\n",
"IC=IE;\n",
"disp('mA',IC*10**3,'IC=');\n",
"VRC=IC*RC;\n",
"disp('V',VRC*1,'VRC=');\n",
"VC=-[VCC-VRC]\n",
"disp('V',VC*1,'VC=');\n",
"VCE=VC-(VE);\n",
"disp('V',VCE*1,'VCE=');"
   ]
   }
,
{
		   "cell_type": "markdown",
		   "metadata": {},
		   "source": [
			"## Example 18.2: upper_and_lower_ends_of_load_line.sce"
		   ]
		  },
  {
"cell_type": "code",
	   "execution_count": null,
	   "metadata": {
	    "collapsed": true
	   },
	   "outputs": [],
"source": [
"clc;\n",
"//e.g 18.2\n",
"Vbb=10;\n",
"Rb=50*10**3;\n",
"Vcc=20;\n",
"Rc=300;\n",
"beta=200;\n",
"Ic=Vcc/Rc;//saturation current\n",
"disp('mA',Ic*10**3,'Ic=');\n",
"Vce=Vcc;//cut-off voltage\n",
"disp('V',Vce*1,'Vce=');\n",
"Ib=(Vbb-0.7)/Rb;\n",
" disp('10^-3A',Ib*10**3,'Ib=');\n",
" Ic=beta*Ib;\n",
"  disp('10^-3A',Ic*10**3,'Ic=');\n",
"Vce=Vcc-Ic*Rc;\n",
"disp('V',Vce*1,'Vce=');\n",
"i=21:-0.1:0;\n",
"plot2d(i);\n",
"a=gca() //get the current axes\n",
"a.box='off';\n",
"xlabel('VCE');\n",
"ylabel( 'IC');"
   ]
   }
,
{
		   "cell_type": "markdown",
		   "metadata": {},
		   "source": [
			"## Example 18.3: base_and_collector_current_and_VCE.sce"
		   ]
		  },
  {
"cell_type": "code",
	   "execution_count": null,
	   "metadata": {
	    "collapsed": true
	   },
	   "outputs": [],
"source": [
"\n",
"clc;\n",
"//e.g 18.3\n",
"Rb=180*10**3;\n",
"Vcc=25;\n",
"Rc=820;\n",
"beta=80;\n",
"Ib=Vcc/Rb;//saturation current\n",
"disp('mA',Ib*10**3,'Ib=');\n",
"Ic=beta*Ib;\n",
"disp('mA',Ic*10**3,'Ic=');\n",
"Vce=Vcc-(Ic*Rc);//cut-off voltage\n",
"disp('V',Vce*1,'Vce=');"
   ]
   }
,
{
		   "cell_type": "markdown",
		   "metadata": {},
		   "source": [
			"## Example 18.4: RB_and_VCE.sce"
		   ]
		  },
  {
"cell_type": "code",
	   "execution_count": null,
	   "metadata": {
	    "collapsed": true
	   },
	   "outputs": [],
"source": [
"\n",
"clc;\n",
"//e.g 18.4;\n",
"Vcc=12;\n",
"Rc=330;\n",
"Ib=0.3*10**-3;\n",
"beta=100;\n",
"//Ib=Vcc/Rb;//saturation current\n",
"Rb=Vcc/Ib;\n",
"disp('Kohm',Rb*10**-3,'Rb=');\n",
"S=1+beta;\n",
"disp(S);\n",
"Ic=beta*Ib;\n",
"disp('10^-3A',Ic*10**3,'Ic=');\n",
"Vce=Vcc-(Ic*Rc);//cut-off voltage\n",
"disp('V',Vce*1,'Vce=');"
   ]
   }
,
{
		   "cell_type": "markdown",
		   "metadata": {},
		   "source": [
			"## Example 18.5: voltage_and_current.sce"
		   ]
		  },
  {
"cell_type": "code",
	   "execution_count": null,
	   "metadata": {
	    "collapsed": true
	   },
	   "outputs": [],
"source": [
"\n",
"clc;\n",
"//e.g 18.5\n",
"Rb=400*10**3;\n",
"Vcc=20;\n",
"Rc=2*10**3;\n",
"Re=1*10**3;\n",
"beta=100;\n",
"Ib=Vcc/(Rb+(beta*Re));//saturation current\n",
"disp('mA',Ib*10**3,'Ib=');\n",
"Ic=beta*Ib;\n",
"disp('mA',Ic*10**3,'Ic=');\n",
"Vce=Vcc-(Ic*(Rc+Re));//cut-off voltage\n",
"disp('V',Vce*1,'Vce=');"
   ]
   }
,
{
		   "cell_type": "markdown",
		   "metadata": {},
		   "source": [
			"## Example 18.6: find_Ic_and_Vce.sce"
		   ]
		  },
  {
"cell_type": "code",
	   "execution_count": null,
	   "metadata": {
	    "collapsed": true
	   },
	   "outputs": [],
"source": [
"clc;\n",
"//e.g 18.1\n",
"Vcc=12;\n",
"Rc=2.2*10**3;\n",
"Rb=240;\n",
"B=50;\n",
"Vbe=0.7;\n",
"RE=0;\n",
"Ic=(Vcc-Vbe)/(RE+(Rb/B));//collector current\n",
"disp('mA',Ic,'Ic=');\n",
"Vce=Vcc-(Ic*10**-3)*Rc;//CE voltage\n",
"disp('V',Vce*1,'Vce=');\n",
"Icsat=Vcc/Rc;\n",
"disp('mA',Icsat*10**3,'Icsat=');\n",
"Vcec=Vcc;//cutoff voltage\n",
"i=5.45:-0.5:0;\n",
"plot(i);\n",
"a=gca() //get the current axes\n",
"a.box='off';\n",
"xlabel('VCE');\n",
"ylabel( 'IC');"
   ]
   }
,
{
		   "cell_type": "markdown",
		   "metadata": {},
		   "source": [
			"## Example 18.7: load_line.sce"
		   ]
		  },
  {
"cell_type": "code",
	   "execution_count": null,
	   "metadata": {
	    "collapsed": true
	   },
	   "outputs": [],
"source": [
"clc;\n",
"//e.g 18.7\n",
"Vcc=30;\n",
"Rb=1.5*10**6;\n",
"Rc=5*10**3;\n",
"beta=100;\n",
"Ic=Vcc/Rc;//saturation current\n",
"disp('mA',Ic*10**3,'Ic=');\n",
"Vce=Vcc;//cut-off voltage\n",
"disp('V',Vce*1,'Vce=');\n",
"Ib=Vcc/Rb;//base current\n",
"disp('microA',Ib*10**6,'Ib=');\n",
" Ic=beta*Ib;\n",
"  disp('mA',Ic*10**3,'Ic=');\n",
"  Vce=Vcc-Ic*Rc;\n",
"  disp('V',Vce*1,'Vce=');\n",
"i=6:-0.2:0;\n",
"plot2d(i);\n",
"a=gca() //get the current axes\n",
"a.box='off';\n",
"xlabel('VCE');\n",
"ylabel( 'IC');"
   ]
   }
,
{
		   "cell_type": "markdown",
		   "metadata": {},
		   "source": [
			"## Example 18.9: current_voltage_and_stability_factor.sce"
		   ]
		  },
  {
"cell_type": "code",
	   "execution_count": null,
	   "metadata": {
	    "collapsed": true
	   },
	   "outputs": [],
"source": [
"clc;\n",
"//e.g 18.9\n",
"Rb=180*10**3;\n",
"Vcc=25;\n",
"Rc=820;\n",
"Re=200;\n",
"beta=80;\n",
"Vbe=0.7;\n",
"Ic=(Vcc-Vbe)/(Re+(Rb/beta));//collector current\n",
"disp('mA',Ic*10**3,'Ic=');\n",
"Vce=Vcc-(Ic*Rc);//collector to emitter voltage\n",
"disp('V',Vce*1,'Vce=');\n",
"S=(1+beta)/(1+beta*(Re/(Re+Rb)));\n",
"disp(S,'S=');//stability factor"
   ]
   }
],
"metadata": {
		  "kernelspec": {
		   "display_name": "Scilab",
		   "language": "scilab",
		   "name": "scilab"
		  },
		  "language_info": {
		   "file_extension": ".sce",
		   "help_links": [
			{
			 "text": "MetaKernel Magics",
			 "url": "https://github.com/calysto/metakernel/blob/master/metakernel/magics/README.md"
			}
		   ],
		   "mimetype": "text/x-octave",
		   "name": "scilab",
		   "version": "0.7.1"
		  }
		 },
		 "nbformat": 4,
		 "nbformat_minor": 0
}
