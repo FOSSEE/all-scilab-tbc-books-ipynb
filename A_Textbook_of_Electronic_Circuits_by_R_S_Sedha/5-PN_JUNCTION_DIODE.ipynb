{
"cells": [
 {
		   "cell_type": "markdown",
	   "metadata": {},
	   "source": [
       "# Chapter 5: PN JUNCTION DIODE"
	   ]
	},
{
		   "cell_type": "markdown",
		   "metadata": {},
		   "source": [
			"## Example 5.10: VD_VR_I.sce"
		   ]
		  },
  {
"cell_type": "code",
	   "execution_count": null,
	   "metadata": {
	    "collapsed": true
	   },
	   "outputs": [],
"source": [
"clc;\n",
"VS=12;\n",
"R=470;\n",
"VD=0;\n",
"disp(VD);\n",
"VR=VS;\n",
"disp('V',VR*1,'VR=');\n",
"I=(VS/R);\n",
"disp('mA',I*10**3,'I=');"
   ]
   }
,
{
		   "cell_type": "markdown",
		   "metadata": {},
		   "source": [
			"## Example 5.11: current.sce"
		   ]
		  },
  {
"cell_type": "code",
	   "execution_count": null,
	   "metadata": {
	    "collapsed": true
	   },
	   "outputs": [],
"source": [
"clc;\n",
"VS=6;\n",
"R1=330;\n",
"R2=470;\n",
"VD=0.7;\n",
"RT=R1+R2;\n",
"I=(VS-0.7)/RT;\n",
"disp('mA',I*10**3,'I=');"
   ]
   }
,
{
		   "cell_type": "markdown",
		   "metadata": {},
		   "source": [
			"## Example 5.12: voltage_across_resistor_and_current.sce"
		   ]
		  },
  {
"cell_type": "code",
	   "execution_count": null,
	   "metadata": {
	    "collapsed": true
	   },
	   "outputs": [],
"source": [
"clc;\n",
"VS=5;\n",
"R=510;\n",
"VF=0.7;\n",
"VR=VS-0.7;\n",
"disp('V',VR*1,'VR=');\n",
"I=VR/R;\n",
"disp('mA',I*10**3,'I=');\n",
""
   ]
   }
,
{
		   "cell_type": "markdown",
		   "metadata": {},
		   "source": [
			"## Example 5.13: total_current.sce"
		   ]
		  },
  {
"cell_type": "code",
	   "execution_count": null,
	   "metadata": {
	    "collapsed": true
	   },
	   "outputs": [],
"source": [
"clc;\n",
"VS=6;\n",
"VD1=0.7;\n",
"VD2=0.7;\n",
"VR=1.5*10**3;\n",
"I=(VS-VD1-VD2)/VR;\n",
"disp('mA',I*10**3,'I=');\n",
""
   ]
   }
,
{
		   "cell_type": "markdown",
		   "metadata": {},
		   "source": [
			"## Example 5.14: total_current.sce"
		   ]
		  },
  {
"cell_type": "code",
	   "execution_count": null,
	   "metadata": {
	    "collapsed": true
	   },
	   "outputs": [],
"source": [
"clc;\n",
"VS=12;\n",
"R1=1.5*10**3;\n",
"R2=1.8*10**3;\n",
"VD1=0.7;\n",
"VD2=0.7;\n",
"I=(VS-VD1-VD2)/(R1+R2);\n",
"disp('mA',I*10**3,'I=');\n",
""
   ]
   }
,
{
		   "cell_type": "markdown",
		   "metadata": {},
		   "source": [
			"## Example 5.15: output_voltage.sce"
		   ]
		  },
  {
"cell_type": "code",
	   "execution_count": null,
	   "metadata": {
	    "collapsed": true
	   },
	   "outputs": [],
"source": [
"clc;\n",
"V1=0;\n",
"V2=0;\n",
"VO=0;\n",
"disp('V',VO*1,'VO=');\n",
"V1=0;\n",
"V2=5;\n",
"VO=V2-0.7;\n",
"disp('V',VO*1,'VO=');\n",
"V1=5;\n",
"V2=0;\n",
"VO=V1-0.7;\n",
"disp('V',VO*1,'VO=');\n",
"V1=5;\n",
"V2=5;\n",
"VO=V2-0.7;\n",
"disp('V',VO*1,'VO=');"
   ]
   }
,
{
		   "cell_type": "markdown",
		   "metadata": {},
		   "source": [
			"## Example 5.16: waveform_of_voltage.sce"
		   ]
		  },
  {
"cell_type": "code",
	   "execution_count": null,
	   "metadata": {
	    "collapsed": true
	   },
	   "outputs": [],
"source": [
"clc;\n",
"R=20*10**3;\n",
"I=(R-0.7)/R;\n",
"disp('mA',I*1,'I=');\n",
"rj=50;\n",
"rB=1;\n",
"re=rB+rj;\n",
"R1=(R*re)/(re+R);\n",
"disp(R1);\n",
"V=10*(re/(re+1000));\n",
"disp('mV',V*1,'V=');\n",
"i=0:0.01:6*%pi;\n",
"plot(sin(i));"
   ]
   }
,
{
		   "cell_type": "markdown",
		   "metadata": {},
		   "source": [
			"## Example 5.1: Current.sce"
		   ]
		  },
  {
"cell_type": "code",
	   "execution_count": null,
	   "metadata": {
	    "collapsed": true
	   },
	   "outputs": [],
"source": [
"clc;\n",
"//e.g 5.1\n",
"I0=2*10**-7;\n",
"Vf=0.1;\n",
"I=I0*(exp (40*Vf)-1);\n",
"disp('uA',I*10**6,'I=');"
   ]
   }
,
{
		   "cell_type": "markdown",
		   "metadata": {},
		   "source": [
			"## Example 5.2: find_current.sce"
		   ]
		  },
  {
"cell_type": "code",
	   "execution_count": null,
	   "metadata": {
	    "collapsed": true
	   },
	   "outputs": [],
"source": [
"clc;\n",
"//e.g 5.2\n",
"I0=1*10**-3;\n",
"Vf=0.22;\n",
"T=298;\n",
"n=1\n",
"VT=T/11600\n",
"disp('mV',VT*10**3,'VT=');\n",
"I=I0*(exp (Vf/(n*VT))-1);\n",
"disp('A',I*1,'I=');"
   ]
   }
,
{
		   "cell_type": "markdown",
		   "metadata": {},
		   "source": [
			"## Example 5.3: value_of.sce"
		   ]
		  },
  {
"cell_type": "code",
	   "execution_count": null,
	   "metadata": {
	    "collapsed": true
	   },
	   "outputs": [],
"source": [
"clc;\n",
"I1=0.5*10**-3;\n",
"V1=340*10**-3;\n",
"I2=15*10**-3;\n",
"V2=440*10**-3;\n",
"kTbyq=25*10**-3;\n",
"a=V1/kTbyq;\n",
"b=V2/kTbyq;\n",
"//log(I1/I2)==log(exp((b-a)/n));\n",
"n=(a-b)/(log(I1/I2));\n",
"disp(n);"
   ]
   }
,
{
		   "cell_type": "markdown",
		   "metadata": {},
		   "source": [
			"## Example 5.4: saturation_current.sce"
		   ]
		  },
  {
"cell_type": "code",
	   "execution_count": null,
	   "metadata": {
	    "collapsed": true
	   },
	   "outputs": [],
"source": [
"clc;\n",
"I300=10*10**-6;\n",
"T1=300;\n",
"T2=400;\n",
"I400=I300*(2^((T2-T1)/10));\n",
"disp('mA',I400*10**3,'I400=');"
   ]
   }
,
{
		   "cell_type": "markdown",
		   "metadata": {},
		   "source": [
			"## Example 5.5: value_of_VF_for_the_device.sce"
		   ]
		  },
  {
"cell_type": "code",
	   "execution_count": null,
	   "metadata": {
	    "collapsed": true
	   },
	   "outputs": [],
"source": [
"clc;\n",
"rB=2;\n",
"IF=12*10**-3;\n",
"VF=0.7+IF*rB;\n",
"disp('V',VF*1,'VF=');"
   ]
   }
,
{
		   "cell_type": "markdown",
		   "metadata": {},
		   "source": [
			"## Example 5.8: dc_current_and_PDmax.sce"
		   ]
		  },
  {
"cell_type": "code",
	   "execution_count": null,
	   "metadata": {
	    "collapsed": true
	   },
	   "outputs": [],
"source": [
"clc;\n",
"PD=0.5;\n",
"VF=1;\n",
"VBR=150;\n",
"IF=(PD/VF);\n",
"disp('A',IF*1,'IF=');\n",
"IR=(PD/VBR);\n",
"disp('mA',IR*10**3,'IR=');"
   ]
   }
,
{
		   "cell_type": "markdown",
		   "metadata": {},
		   "source": [
			"## Example 5.9: voltage_drop_and_current.sce"
		   ]
		  },
  {
"cell_type": "code",
	   "execution_count": null,
	   "metadata": {
	    "collapsed": true
	   },
	   "outputs": [],
"source": [
"clc;\n",
"R=330;\n",
"VS=5;\n",
"VD=VS;\n",
"disp('V',VD*1,'VD=VS=');\n",
"VR=0;\n",
"disp(VR,'VR=');\n",
"I=0;\n",
"disp(I,'I=');"
   ]
   }
],
"metadata": {
		  "kernelspec": {
		   "display_name": "Scilab",
		   "language": "scilab",
		   "name": "scilab"
		  },
		  "language_info": {
		   "file_extension": ".sce",
		   "help_links": [
			{
			 "text": "MetaKernel Magics",
			 "url": "https://github.com/calysto/metakernel/blob/master/metakernel/magics/README.md"
			}
		   ],
		   "mimetype": "text/x-octave",
		   "name": "scilab",
		   "version": "0.7.1"
		  }
		 },
		 "nbformat": 4,
		 "nbformat_minor": 0
}
