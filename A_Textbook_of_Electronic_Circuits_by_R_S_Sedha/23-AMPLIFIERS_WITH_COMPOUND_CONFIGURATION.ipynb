{
"cells": [
 {
		   "cell_type": "markdown",
	   "metadata": {},
	   "source": [
       "# Chapter 23: AMPLIFIERS WITH COMPOUND CONFIGURATION"
	   ]
	},
{
		   "cell_type": "markdown",
		   "metadata": {},
		   "source": [
			"## Example 23.10: calculate_the_value_of_constant_current.sce"
		   ]
		  },
  {
"cell_type": "code",
	   "execution_count": null,
	   "metadata": {
	    "collapsed": true
	   },
	   "outputs": [],
"source": [
"clc;\n",
"VEE=-18;\n",
"R1=4.3*10**3;\n",
"R2=4.3*10**3;\n",
"RE=1.8*10**3;\n",
"B=100;\n",
"VB=-(-VEE*R2)/(R1+R2);\n",
"VE=VB-0.7\n",
"IE=(VE-(VEE))/RE;\n",
"disp('mA',IE*10**3,'IE=');"
   ]
   }
,
{
		   "cell_type": "markdown",
		   "metadata": {},
		   "source": [
			"## Example 23.11: current.sce"
		   ]
		  },
  {
"cell_type": "code",
	   "execution_count": null,
	   "metadata": {
	    "collapsed": true
	   },
	   "outputs": [],
"source": [
"clc;\n",
"VZ=5.1;\n",
"VBE=0.7;\n",
"RE=1.2*10**3;\n",
"B=200;\n",
"I=(VZ-VBE)/RE;\n",
"disp('mA',I*10**3,'I=');"
   ]
   }
,
{
		   "cell_type": "markdown",
		   "metadata": {},
		   "source": [
			"## Example 23.12: current.sce"
		   ]
		  },
  {
"cell_type": "code",
	   "execution_count": null,
	   "metadata": {
	    "collapsed": true
	   },
	   "outputs": [],
"source": [
"clc;\n",
"VCC=18;\n",
"Rx=2*10**3;\n",
"VBE=0.7;\n",
"Ix=(VCC-VBE)/Rx;\n",
"I=Ix;\n",
"disp('mA',I*10**3,'I=');"
   ]
   }
,
{
		   "cell_type": "markdown",
		   "metadata": {},
		   "source": [
			"## Example 23.13: value_of_current.sce"
		   ]
		  },
  {
"cell_type": "code",
	   "execution_count": null,
	   "metadata": {
	    "collapsed": true
	   },
	   "outputs": [],
"source": [
"clc;\n",
"VC=5;\n",
"Re=2*10**3;\n",
"VCC=6;\n",
"R=2.2*10**3;\n",
"VBE=0.7;\n",
"B=100;\n",
"I='IO';\n",
"I=(VCC-2*VBE)/Re;\n",
"disp('mA',I*10**3,'I=');\n",
"Re=1*10**3;\n",
"I=(VCC-2*VBE)/Re;\n",
"disp('mA',I*10**3,'I=');\n",
"Re=4*10**3;\n",
"I=(VCC-2*VBE)/Re;\n",
"disp('mA',I*10**3,'I=');"
   ]
   }
,
{
		   "cell_type": "markdown",
		   "metadata": {},
		   "source": [
			"## Example 23.14: dc_voltage_and_current.sce"
		   ]
		  },
  {
"cell_type": "code",
	   "execution_count": null,
	   "metadata": {
	    "collapsed": true
	   },
	   "outputs": [],
"source": [
"clc;\n",
"VCC=15;\n",
"VEE=15;\n",
"RE=3.9*10**3;\n",
"RC=4.7*10**3;\n",
"IE=(VEE-0.7)/RE;\n",
"disp('mA',IE*10**3,'IE=');\n",
"IC=IE/2;\n",
"disp('mA',IC*10**3,'IC=');\n",
"VC=VCC-IC*RC;\n",
"disp('V',VC*1,'VC=');"
   ]
   }
,
{
		   "cell_type": "markdown",
		   "metadata": {},
		   "source": [
			"## Example 23.15: IC_AV_VO1.sce"
		   ]
		  },
  {
"cell_type": "code",
	   "execution_count": null,
	   "metadata": {
	    "collapsed": true
	   },
	   "outputs": [],
"source": [
"clc;\n",
"VCC=12;\n",
"VEE=12;\n",
"RE=33*10**3;\n",
"RC1=36*10**3;\n",
"RC2=36*10**3;\n",
"B1=150;\n",
"B2=150;\n",
"vi1=2*10**-3;\n",
"IE=(VEE-0.7)/RE;\n",
"disp('mA',IE*10**3,'IE=');\n",
"IC=IE/2;\n",
"disp('mA',IC*10**3,'IC=');\n",
"RC=36*10**3;\n",
"VC=VCC-IC*RC;\n",
"disp('V',VC*1,'VC=');\n",
"re1=25*10**-3/IE;\n",
"Av=RC/(2*re1);\n",
"disp(Av);\n",
"vo1=Av*vi1;\n",
"disp('V',vo1*1,'vo1=');"
   ]
   }
,
{
		   "cell_type": "markdown",
		   "metadata": {},
		   "source": [
			"## Example 23.16: common_mode_voltage_gain.sce"
		   ]
		  },
  {
"cell_type": "code",
	   "execution_count": null,
	   "metadata": {
	    "collapsed": true
	   },
	   "outputs": [],
"source": [
"clc;\n",
"B=200;\n",
"ri=20*10**3;\n",
"RC=47*10**3;\n",
"RE=43*10**3;\n",
"Ac=(B*RE)/(ri+2*(B+1)*RE);\n",
"disp(Ac);"
   ]
   }
,
{
		   "cell_type": "markdown",
		   "metadata": {},
		   "source": [
			"## Example 23.1: voltage_gain_and_impedance.sce"
		   ]
		  },
  {
"cell_type": "code",
	   "execution_count": null,
	   "metadata": {
	    "collapsed": true
	   },
	   "outputs": [],
"source": [
"clc;\n",
"ID=4*10**-3;\n",
"IDSS=2*ID;\n",
"RS=390;\n",
"VGSQ=-ID*RS;\n",
"VP=-4.5;\n",
"RD=2.2*10**3;\n",
"gm0=(2*IDSS)/(-VP);\n",
"gm=gm0*(1-(VGSQ/VP));\n",
"Av1=-gm*RD;\n",
"Av2=-gm*RD;\n",
"Av=Av1*Av2;\n",
"disp(Av);\n",
"vi=20*10**-3;\n",
"vo=Av*vi;\n",
"disp('mV',vo*10**3,'vo=');\n",
"Zi=10*10**6;\n",
"RG=10*10**6;\n",
"disp('Mohm',Zi*10**-6,'Zi=RG=');\n",
"Z0=2.2*10**3;\n",
"RD=2.2*10**3;\n",
"disp('Kohm',Z0*10**-3,'Z0=RD=');\n",
"RL=10*10**3;\n",
"VL=(RL/(Z0+RL))*vo;\n",
"disp('V',VL*10**3,'VL=');"
   ]
   }
,
{
		   "cell_type": "markdown",
		   "metadata": {},
		   "source": [
			"## Example 23.3: voltage_gai.sce"
		   ]
		  },
  {
"cell_type": "code",
	   "execution_count": null,
	   "metadata": {
	    "collapsed": true
	   },
	   "outputs": [],
"source": [
"clc;\n",
"VCC=18;\n",
"R1=7.5*10**3;\n",
"R2=6.2*10**3;\n",
"R3=3.9*10**3;\n",
"RC=1.5*10**3;\n",
"B1=200;\n",
"B2=200;\n",
"RE=1*10**3;\n",
"CE=100*10**-6;\n",
"VB1=VCC*(R2+R3)/(R1+R2+R3);\n",
"disp('V',VB1*1,'VB1=');\n",
"VB2=VCC*(R3)/(R1+R2+R3);\n",
"disp('V',VB2*1,'VB2=');\n",
"IE2=(VB2-0.7)/RE;\n",
"IC2=IE2;\n",
"IE1=IC2;\n",
"IE=IE1;\n",
"re1=26*10**-3/IE;\n",
"AV1=-re1/re1;\n",
"AV2=-RC/re1;\n",
"AV=AV1*AV2;\n",
"disp(AV);//ans given in book has -ve sign which is wrong\n",
""
   ]
   }
,
{
		   "cell_type": "markdown",
		   "metadata": {},
		   "source": [
			"## Example 23.4: current_gain.sce"
		   ]
		  },
  {
"cell_type": "code",
	   "execution_count": null,
	   "metadata": {
	    "collapsed": true
	   },
	   "outputs": [],
"source": [
"clc;\n",
"B1=160;\n",
"B2=160;\n",
"BD=B1*B2;\n",
"disp(BD);"
   ]
   }
,
{
		   "cell_type": "markdown",
		   "metadata": {},
		   "source": [
			"## Example 23.5: CURRENT_GAIN.sce"
		   ]
		  },
  {
"cell_type": "code",
	   "execution_count": null,
	   "metadata": {
	    "collapsed": true
	   },
	   "outputs": [],
"source": [
"clc;\n",
"BD=6000;\n",
"B1=BD;\n",
"B2=B1;\n",
"B=sqrt(BD);\n",
"disp(B);"
   ]
   }
,
{
		   "cell_type": "markdown",
		   "metadata": {},
		   "source": [
			"## Example 23.6: VE2_IE2_voltage_gai.sce"
		   ]
		  },
  {
"cell_type": "code",
	   "execution_count": null,
	   "metadata": {
	    "collapsed": true
	   },
	   "outputs": [],
"source": [
"clc;\n",
"Vcc=15;\n",
"RB=2.4*10**6;\n",
"BD=6000;\n",
"RE=510;\n",
"Vi=120*10**-3;\n",
"VBE=1.6;\n",
"IB=(Vcc-VBE)/(RB+BD*RE);\n",
"disp('microA',IB*10**6,'IB=');\n",
"IE=BD*IB;\n",
"disp('mA',IE*10**3,'IE=');\n",
"IE2=IE\n",
"VE2=IE2*RE;\n",
"disp('V',VE2*1,'VE2=');"
   ]
   }
,
{
		   "cell_type": "markdown",
		   "metadata": {},
		   "source": [
			"## Example 23.7: zmatrix.sce"
		   ]
		  },
  {
"cell_type": "code",
	   "execution_count": null,
	   "metadata": {
	    "collapsed": true
	   },
	   "outputs": [],
"source": [
"clc;\n",
"hfe=100;\n",
"B=100;\n",
"BD=100**2;\n",
"RE=1*10**3;\n",
"hie=1*10**3;\n",
"ri=10**3;\n",
"Ri=ri+BD*RE;\n",
"disp('Mohm',Ri*10**-6,'Ri=');\n",
"Ro=ri/BD;\n",
"disp('ohm',Ro*1,'Ro=');"
   ]
   }
,
{
		   "cell_type": "markdown",
		   "metadata": {},
		   "source": [
			"## Example 23.8: dc_bias_currents_and_voltages.sce"
		   ]
		  },
  {
"cell_type": "code",
	   "execution_count": null,
	   "metadata": {
	    "collapsed": true
	   },
	   "outputs": [],
"source": [
"clc;\n",
"VCC=16;\n",
"B1=160;\n",
"B2=200;\n",
"RB=1.5*10**6;\n",
"Vi=120*10**-3;\n",
"VEB1=0.7;\n",
"RC=100;\n",
"IB1=(VCC-VEB1)/(RB+B1*B2*RC);\n",
"IB2=B1*IB1;\n",
"IC2=B2*IB2;\n",
"IE1=IB2;\n",
"IC=IE1+IC2;\n",
"Vodc=VCC-IC*RC;\n",
"VBE=0.7;\n",
"Vidc=Vodc-VBE;\n",
"disp('V',Vidc*1,'Vidc=');"
   ]
   }
,
{
		   "cell_type": "markdown",
		   "metadata": {},
		   "source": [
			"## Example 23.9: load_current_and_output_voltage.sce"
		   ]
		  },
  {
"cell_type": "code",
	   "execution_count": null,
	   "metadata": {
	    "collapsed": true
	   },
	   "outputs": [],
"source": [
"clc;\n",
"VDD=18;\n",
"RD=2*10**3;\n",
"IDSS=6*10**-3;\n",
"VP=-3;\n",
"ID=IDSS;\n",
"disp('mA',ID*10**3,'ID=');\n",
"Vo=VDD-ID*RD;\n",
"disp('V',Vo*1,'Vo=');"
   ]
   }
],
"metadata": {
		  "kernelspec": {
		   "display_name": "Scilab",
		   "language": "scilab",
		   "name": "scilab"
		  },
		  "language_info": {
		   "file_extension": ".sce",
		   "help_links": [
			{
			 "text": "MetaKernel Magics",
			 "url": "https://github.com/calysto/metakernel/blob/master/metakernel/magics/README.md"
			}
		   ],
		   "mimetype": "text/x-octave",
		   "name": "scilab",
		   "version": "0.7.1"
		  }
		 },
		 "nbformat": 4,
		 "nbformat_minor": 0
}
