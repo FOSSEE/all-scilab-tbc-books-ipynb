{
"cells": [
 {
		   "cell_type": "markdown",
	   "metadata": {},
	   "source": [
       "# Chapter 21: MULTISTAGE BJT AMPLIFIERS"
	   ]
	},
{
		   "cell_type": "markdown",
		   "metadata": {},
		   "source": [
			"## Example 21.1: total_voltage_gai.sce"
		   ]
		  },
  {
"cell_type": "code",
	   "execution_count": null,
	   "metadata": {
	    "collapsed": true
	   },
	   "outputs": [],
"source": [
"clc;\n",
"Av1=10;\n",
"Av2=20;\n",
"Av3=40;\n",
"Av=Av1*Av2*Av3;\n",
"disp(Av);\n",
"GV1=20*log10(Av1);\n",
"GV2=20*log10(Av2);\n",
"GV3=20*log10(Av3);\n",
"GV=GV1+GV2+GV3;//CORRECTION\n",
"disp('dB',GV*1,'GV=');"
   ]
   }
,
{
		   "cell_type": "markdown",
		   "metadata": {},
		   "source": [
			"## Example 21.2: voltage_gain_and_input_voltage_of_2nd_stage.sce"
		   ]
		  },
  {
"cell_type": "code",
	   "execution_count": null,
	   "metadata": {
	    "collapsed": true
	   },
	   "outputs": [],
"source": [
"clc;\n",
"vin1=0.05;\n",
"vout3=150;\n",
"Av1=20;\n",
"vin3=15;\n",
"Av=vout3/vin1;\n",
"disp(Av);\n",
"Av3=vout3/vin3;\n",
"disp(Av3);\n",
"Av2=Av/(Av3*Av1);\n",
"disp(Av2);\n",
"vin2=Av2/vin3;\n",
"disp('Vpk-pk',vin2*1,'vin2=');\n",
""
   ]
   }
,
{
		   "cell_type": "markdown",
		   "metadata": {},
		   "source": [
			"## Example 21.3: input_resistance_output_resitance_current_and_voltage_gain.sce"
		   ]
		  },
  {
"cell_type": "code",
	   "execution_count": null,
	   "metadata": {
	    "collapsed": true
	   },
	   "outputs": [],
"source": [
"clc;\n",
"VCC=10;\n",
"Rc=5*10**3;\n",
"RB=1*10**6;\n",
"RE=1*10**3;\n",
"RL=10*10**3;\n",
"B1=100;\n",
"B2=100;\n",
"B=B1;\n",
"IE=VCC/(RE+(RB/B1));\n",
"re=25/(IE*10**3);\n",
"Ri1=B*re;\n",
"disp('ohm',Ri1*1,'Ri1=');\n",
"Ri2=B*re;\n",
"disp('ohm',Ri2*1,'Ri2=');\n",
"Ro1=(Rc*Ri2)/(Rc+Ri2);\n",
"disp('ohm',Ro1*1,'Ro1=');\n",
"Ro2=(Rc*RL)/(Rc+RL);\n",
"disp('ohm',Ro2*1,'Ro2=');\n",
"Av1=Ro1/re;\n",
"disp(Av1);\n",
"Av2=Ro2/re;\n",
"disp(Av2);\n",
"Av=Av1*Av2;\n",
"disp(Av);\n",
"Gv=20*log10(Av);\n",
"disp('dB',Gv*1,'Gv=');"
   ]
   }
,
{
		   "cell_type": "markdown",
		   "metadata": {},
		   "source": [
			"## Example 21.4: voltage_gai.sce"
		   ]
		  },
  {
"cell_type": "code",
	   "execution_count": null,
	   "metadata": {
	    "collapsed": true
	   },
	   "outputs": [],
"source": [
"clc;\n",
"VCC=15;\n",
"Rc=3.3*10**3;\n",
"RE=1000;\n",
"R1=33*10**3;\n",
"R2=8.2*10**3;\n",
"RL=10*10**3;\n",
"B=100;\n",
"VBE=0.7;\n",
"VTH=VCC*(R2/(R1+R2));\n",
"RTH=(R1*R2)/(R1+R2);\n",
"IE=(VTH-VBE)/(RE+(RTH/B));\n",
"re=25/(IE*10**3);\n",
"Ri2=B*re;\n",
"disp('ohm',Ri2*1,'Ri2=');//the answer of Ri2 varies from the answer printed in the book with slight difference(11.7 in book & 11.65 here),but this affects some answers further.\n",
"Ro1=(Rc*Ri2)/(Rc+Ri2);\n",
"disp('ohm',Ro1*1,'Ro1=');\n",
"Ro2=(Rc*RL)/(Rc+RL);\n",
"disp('ohm',Ro2*1,'Ro2=');\n",
"Av1=Ro1/re;\n",
"disp(Av1);\n",
"Av2=Ro2/re;\n",
"disp(Av2);\n",
"Av=Av1*Av2;\n",
"disp(Av);\n",
"Gv=20*log10(Av);\n",
"disp('dB',Gv*1,'Gv=');"
   ]
   }
,
{
		   "cell_type": "markdown",
		   "metadata": {},
		   "source": [
			"## Example 21.5: cutoff_frequency_and_voltage_gain.sce"
		   ]
		  },
  {
"cell_type": "code",
	   "execution_count": null,
	   "metadata": {
	    "collapsed": true
	   },
	   "outputs": [],
"source": [
"clc;\n",
"bw=500*10**3;\n",
"Avmax=120;\n",
"f1=25;\n",
"f2=bw+f1;\n",
"disp('kHZ',f2*10**-3,'f2=');\n",
"Av=Avmax/(sqrt(2))\n",
"disp(Av);//ans printed in the book is  wrong"
   ]
   }
,
{
		   "cell_type": "markdown",
		   "metadata": {},
		   "source": [
			"## Example 21.6: individual_stage_gains_and_voltage_gain.sce"
		   ]
		  },
  {
"cell_type": "code",
	   "execution_count": null,
	   "metadata": {
	    "collapsed": true
	   },
	   "outputs": [],
"source": [
"clc;\n",
"VCC=10;\n",
"RB=470*10**3;\n",
"RE=1*10**3;\n",
"RL=1*10**3;\n",
"a=4;\n",
"B=50;\n",
"IE=VCC/(RE+(RB/B));\n",
"re=25/(IE*10**3);\n",
"Ri1=(RB*(B*re))/(RB+(B*re));\n",
"disp('ohm',Ri1*1,'Ri1=');\n",
"Ri2=(RB*(B*re))/(RB+(B*re));\n",
"disp('ohm',Ri2*1,'Ri2=');\n",
"RI2=(a^2)*Ri2;\n",
"RO1=RI2;\n",
"RI2=(a^2)*RL;\n",
"Av1=RO1/re;\n",
"disp(Av1);\n",
"RO2=RI2;\n",
"Av2=RO2/re;\n",
"disp(Av1);\n",
"Av=Av1*Av2;\n",
"disp(Av);\n",
"Gv=20*log10(Av);\n",
"disp('dB',Gv*1,'Gv=');"
   ]
   }
,
{
		   "cell_type": "markdown",
		   "metadata": {},
		   "source": [
			"## Example 21.7: voltage_gai.sce"
		   ]
		  },
  {
"cell_type": "code",
	   "execution_count": null,
	   "metadata": {
	    "collapsed": true
	   },
	   "outputs": [],
"source": [
"clc;\n",
"VCC=12;\n",
"R1=100*10**3;\n",
"R2=20*10**3;\n",
"R3=10*10**3;\n",
"R4=2*10**3;\n",
"R5=10*10**3;\n",
"R6=2*10**3;\n",
"B=100;\n",
"B2=100;\n",
"VTH=VCC*(R2/(R1+R2));\n",
"IE1=VTH/R4;\n",
"re1=25/IE1*10**-3;\n",
"VR6=VCC-IE1*R3;\n",
"IE2=VR6/R6;\n",
"re2=25/IE2*10**-3;\n",
"Ri2=B2*(re2+R6);\n",
"R01=(R3*Ri2)/(R3+Ri2);\n",
"RO2=R5;\n",
"Av1=R01/(re1+R4);\n",
"disp(Av1);\n",
"Av2=RO2/(re2+R6);\n",
"disp(Av2);\n",
"Av=Av1*Av2;\n",
"disp(Av);"
   ]
   }
,
{
		   "cell_type": "markdown",
		   "metadata": {},
		   "source": [
			"## Example 21.8: collector_current_VCE_and_ac_voltage_gain.sce"
		   ]
		  },
  {
"cell_type": "code",
	   "execution_count": null,
	   "metadata": {
	    "collapsed": true
	   },
	   "outputs": [],
"source": [
"clc;\n",
"VCC=10;\n",
"R1=800;\n",
"R2=200;\n",
"R3=600;\n",
"R4=200;\n",
"R5=100;\n",
"R6=1*10**3;\n",
"B=100;\n",
"B2=B;\n",
"VBE=0.7;\n",
"RE=200;\n",
"VR2=VCC*(R2/(R1+R2));\n",
"IE1=(VR2-VBE)/RE;\n",
"IC1=IE1;\n",
"disp('mA',IC1*10**3,'IC1=');\n",
"VC1=VCC-IC1*R3;\n",
"VE1=IE1*R4;\n",
"VCE1=VC1-VE1;\n",
"disp('V',VCE1*1,'VCE1=');\n",
"VE2=VC1-(-VBE);\n",
"IE2=(VCC-VE2)/R6;\n",
"IC2=IE2;\n",
"VC2=IC2*R5;\n",
"VCE2=VC2-VE2;\n",
"disp('V',VCE2*1,'VCE2=');\n",
"re1=25/IE1*10**-3;\n",
"re2=25/IE2*10**-3;\n",
"Ri2=B2*(re2+R6);\n",
"R01=(R3*Ri2)/(R3+Ri2);\n",
"Av1=R01/(re1+R4);\n",
"disp(Av1*1,'Av1=');\n",
"Av2=1;\n",
"disp(Av2*1,'Av2=');\n",
"Av=Av1*Av2;\n",
"disp(Av*1,'Av=');"
   ]
   }
,
{
		   "cell_type": "markdown",
		   "metadata": {},
		   "source": [
			"## Example 21.9: gain_emitter_diode_resistance.sce"
		   ]
		  },
  {
"cell_type": "code",
	   "execution_count": null,
	   "metadata": {
	    "collapsed": true
	   },
	   "outputs": [],
"source": [
"clc;\n",
"VCC=10;\n",
"R1=30*10**3;\n",
"R2=20*10**3;\n",
"RE=1.5*10**3;\n",
"B1=150;\n",
"B2=100;\n",
"VBE=0.7;\n",
"Ai=B1*B2;\n",
"disp(Ai);\n",
"VR2=VCC*(R2/(R1+R2));\n",
"VB2=VR2-VBE;\n",
"VE2=VB2-VBE;\n",
"IE2=VE2/RE;\n",
"re2=25/(IE2*10**3);\n",
"disp('ohm',re2*1,'re2=');\n",
"Ib2=IE2/B2;\n",
"IE1=Ib2;\n",
"re1=25/(IE1*10**3);\n",
"disp('ohm',re1*1,'re1=');\n",
"Ri1=(R1*R2)/(R1+R2);\n",
"disp('Kohm',Ri1*10**-3,'Ri1=');\n",
"Av=RE/((re1/B2)+(re2+RE));\n",
"disp(Av);"
   ]
   }
],
"metadata": {
		  "kernelspec": {
		   "display_name": "Scilab",
		   "language": "scilab",
		   "name": "scilab"
		  },
		  "language_info": {
		   "file_extension": ".sce",
		   "help_links": [
			{
			 "text": "MetaKernel Magics",
			 "url": "https://github.com/calysto/metakernel/blob/master/metakernel/magics/README.md"
			}
		   ],
		   "mimetype": "text/x-octave",
		   "name": "scilab",
		   "version": "0.7.1"
		  }
		 },
		 "nbformat": 4,
		 "nbformat_minor": 0
}
