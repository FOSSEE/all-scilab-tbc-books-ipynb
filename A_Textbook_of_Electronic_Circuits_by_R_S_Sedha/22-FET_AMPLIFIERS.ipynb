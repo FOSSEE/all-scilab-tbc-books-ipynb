{
"cells": [
 {
		   "cell_type": "markdown",
	   "metadata": {},
	   "source": [
       "# Chapter 22: FET AMPLIFIERS"
	   ]
	},
{
		   "cell_type": "markdown",
		   "metadata": {},
		   "source": [
			"## Example 22.10: voltage_gai.sce"
		   ]
		  },
  {
"cell_type": "code",
	   "execution_count": null,
	   "metadata": {
	    "collapsed": true
	   },
	   "outputs": [],
"source": [
"clc;\n",
"//e.g 22.10\n",
"gm=2*10**-3;\n",
"rd=40*10**3;\n",
"RD=20*10**3;\n",
"RG=100*10**6;\n",
"rL=(RD*rd)/(RD+rd);\n",
"Av=-gm*rL;\n",
"disp(Av);\n",
"Ri=RG;\n",
"disp('Mohm',Ri*10**-6,'Ri=');\n",
"Ro=rL;\n",
"disp('Kohm',Ro*10**-3,'Ro=');"
   ]
   }
,
{
		   "cell_type": "markdown",
		   "metadata": {},
		   "source": [
			"## Example 22.11: voltage_gai.sce"
		   ]
		  },
  {
"cell_type": "code",
	   "execution_count": null,
	   "metadata": {
	    "collapsed": true
	   },
	   "outputs": [],
"source": [
"clc;\n",
"//e.g 22.11\n",
"gm=2*10**-3;\n",
"rd=10*10**3;\n",
"RD=50*10**3;\n",
"rl=(rd*RD)/(rd+RD);\n",
"Av=-gm*rl;\n",
"disp(Av);"
   ]
   }
,
{
		   "cell_type": "markdown",
		   "metadata": {},
		   "source": [
			"## Example 22.12: voltage_gai.sce"
		   ]
		  },
  {
"cell_type": "code",
	   "execution_count": null,
	   "metadata": {
	    "collapsed": true
	   },
	   "outputs": [],
"source": [
"clc;\n",
"//e.g 22.12\n",
"RD=100*10**3;\n",
"gm=1.6*10**-3;\n",
"rd=44*10**3;\n",
"Cgs=3*10**-12;\n",
"Cds=1*10**-12;\n",
"Cgd=2.8*10**-12;\n",
"rl=(RD*rd)/(RD+rd);\n",
"Av=-gm*rl;\n",
"disp(Av);"
   ]
   }
,
{
		   "cell_type": "markdown",
		   "metadata": {},
		   "source": [
			"## Example 22.13: rms_output_voltage.sce"
		   ]
		  },
  {
"cell_type": "code",
	   "execution_count": null,
	   "metadata": {
	    "collapsed": true
	   },
	   "outputs": [],
"source": [
"clc;\n",
"//e.g 22.13\n",
"gm=4500*10**-6;\n",
"RD=3*10**3;\n",
"RL=5*10**3;\n",
"vin=100*10**-3;\n",
"ID=2*10**-3;\n",
"rl=(RD*RL)/(RD+RL);\n",
"VO=gm*rl*vin;\n",
"disp('V',VO*1,'VO=');"
   ]
   }
,
{
		   "cell_type": "markdown",
		   "metadata": {},
		   "source": [
			"## Example 22.14: voltage_gai.sce"
		   ]
		  },
  {
"cell_type": "code",
	   "execution_count": null,
	   "metadata": {
	    "collapsed": true
	   },
	   "outputs": [],
"source": [
"clc;\n",
"//e.g 22.14;\n",
"gm=4*10**-3;\n",
"RD=1.5*10**3;\n",
"RG=10*10**6;\n",
"rs=500;\n",
"rl=RD;\n",
"AV=-(gm*rl)/(1+gm*rs);\n",
"disp(AV);\n",
"RL=100*10^3;\n",
"rL=(RD*RL)/(RD+RL);\n",
"AV=-(gm*rL)/(1+gm*rs);\n",
"disp(AV);"
   ]
   }
,
{
		   "cell_type": "markdown",
		   "metadata": {},
		   "source": [
			"## Example 22.15: voltage_gai.sce"
		   ]
		  },
  {
"cell_type": "code",
	   "execution_count": null,
	   "metadata": {
	    "collapsed": true
	   },
	   "outputs": [],
"source": [
"clc;\n",
"// e.g 22.15\n",
"RD=1.5*10**3;\n",
"RS=750;\n",
"RG=1*10**6;\n",
"IDSS=10*10**-3;\n",
"VP=-3.5;\n",
"IDQ=2.3*10**-3;\n",
"VGSQ=-1.8;\n",
"gmo=-2*IDSS/VP;\n",
"gm=gmo*(1-(VGSQ/VP));\n",
"rL=RD;\n",
"AV=-(gm*rL)/(1+gm*RS);\n",
"disp(AV);\n",
"AV=-gm*rL;\n",
"disp(AV);"
   ]
   }
,
{
		   "cell_type": "markdown",
		   "metadata": {},
		   "source": [
			"## Example 22.16: voltage_gain_and_input_output_resistance.sce"
		   ]
		  },
  {
"cell_type": "code",
	   "execution_count": null,
	   "metadata": {
	    "collapsed": true
	   },
	   "outputs": [],
"source": [
"clc;\n",
"//e.g 22.16\n",
"gm=8000*10**-6;\n",
"RS=10*10**3;\n",
"RG=100*10**6;\n",
"(1/gm);\n",
"AV=RS/(RS+(1/gm));\n",
"disp(AV);\n",
"Ri=RG;\n",
"Ro=1/gm;\n",
"disp('ohm',Ro*1,'Ro=');"
   ]
   }
,
{
		   "cell_type": "markdown",
		   "metadata": {},
		   "source": [
			"## Example 22.17: voltage_gain_and_resistance.sce"
		   ]
		  },
  {
"cell_type": "code",
	   "execution_count": null,
	   "metadata": {
	    "collapsed": true
	   },
	   "outputs": [],
"source": [
"clc;\n",
"//e.g 22.17\n",
"vin=2*10**-3;\n",
"gm=5500*10**-6;\n",
"R1=1*10**6;\n",
"R2=1*10**6;\n",
"RS=5000;\n",
"RL=2000;\n",
"(1/gm);\n",
"AV=RS/(RS+(1/gm));\n",
"disp(AV);\n",
"Ri=(R1*R2)/(R1+R2);\n",
"disp('Mohm',Ri*10**-6,'Ri=');\n",
"Ro=(RS/gm)/(RS+1/gm);\n",
"disp('ohm',Ro*1,'Ro=');\n",
"Vo=(RL/(RL+Ro))*(AV*vin);\n",
"disp('mV',Vo*10**3,'Vo=');"
   ]
   }
,
{
		   "cell_type": "markdown",
		   "metadata": {},
		   "source": [
			"## Example 22.18: voltage_gain_and_input_resistance.sce"
		   ]
		  },
  {
"cell_type": "code",
	   "execution_count": null,
	   "metadata": {
	    "collapsed": true
	   },
	   "outputs": [],
"source": [
"clc;\n",
"//e.g 22.18\n",
"gm=2500*10**-6;\n",
"Ri=2000;\n",
"RD=10000;\n",
"AV=gm*RD;\n",
"disp(AV);\n",
"Ri1=(Ri/gm)/(Ri+1/gm);\n",
"disp('ohm',Ri1*1,'Ri1=');"
   ]
   }
,
{
		   "cell_type": "markdown",
		   "metadata": {},
		   "source": [
			"## Example 22.19: output_resistance.sce"
		   ]
		  },
  {
"cell_type": "code",
	   "execution_count": null,
	   "metadata": {
	    "collapsed": true
	   },
	   "outputs": [],
"source": [
"clc;\n",
"//e.g 22.19\n",
"gm=2*10**-3;\n",
"rd=50*10**3;\n",
"Rs=1*10**3;\n",
"Ro=(Rs/gm)/(Rs+1/gm);\n",
"disp('ohm',Ro*1,'Ro=');"
   ]
   }
,
{
		   "cell_type": "markdown",
		   "metadata": {},
		   "source": [
			"## Example 22.1: vdc_vgs.sce"
		   ]
		  },
  {
"cell_type": "code",
	   "execution_count": null,
	   "metadata": {
	    "collapsed": true
	   },
	   "outputs": [],
"source": [
"clc;\n",
"//e.g 22.1\n",
"ID=5*10**-3;\n",
"VDD=10;\n",
"RD=1*10**3;\n",
"RS=500;\n",
"VS=ID*RS;\n",
"disp('V',VS*1,'VS=');\n",
"VD=VDD-ID*RD;\n",
"disp('V',VD*1,'VD=');\n",
"VDS=VD-VS;\n",
"disp('V',VDS*1,'VDS=');\n",
"VGS=-VS;\n",
"disp('V',VGS*1,'VGS=');"
   ]
   }
,
{
		   "cell_type": "markdown",
		   "metadata": {},
		   "source": [
			"## Example 22.20: input_resistance_and_ac_voltage_gain.sce"
		   ]
		  },
  {
"cell_type": "code",
	   "execution_count": null,
	   "metadata": {
	    "collapsed": true
	   },
	   "outputs": [],
"source": [
"clc;\n",
"//e.g 22.20\n",
"gmo=5*10^-3;\n",
"RD=1*10**3;\n",
"Rs=200;\n",
"ID=5*10**-3;\n",
"Ri1=(Rs/gmo)/(Rs+1/gmo);\n",
"disp('ohm',Ri1*1,'Ri1=');\n",
"Vs=ID*Rs;\n",
"disp('V',Vs*1,'Vs=');\n",
"VGS=Vs;\n",
"IDSS=2*ID;\n",
"VGSo=(-2*IDSS)/ID;\n",
"gm=gmo*(1-VGS/-VGSo);\n",
"Av=gm*RD;\n",
"disp(Av);"
   ]
   }
,
{
		   "cell_type": "markdown",
		   "metadata": {},
		   "source": [
			"## Example 22.2: R1.sce"
		   ]
		  },
  {
"cell_type": "code",
	   "execution_count": null,
	   "metadata": {
	    "collapsed": true
	   },
	   "outputs": [],
"source": [
"clc;\n",
"//e.g 22.2\n",
"RD=56*10**3;\n",
"RG=1*10**6;\n",
"IDSS=1.5*10**-3;\n",
"VP=-1.5;\n",
"VD=10;\n",
"VDD=20;\n",
"ID=VD/RD;\n",
"disp('mA',ID*10**3,'ID=');\n",
"//ID=IDSS*(1-(VGS/VP))**2\n",
"VGS=VP*(1-sqrt(ID/IDSS));\n",
"disp('V',VGS*1,'VGS=');\n",
"VS=VGS;\n",
"R1=(-VS/ID)-4*10**3;\n",
"disp('kohm',R1*10**-3,'R1=');"
   ]
   }
,
{
		   "cell_type": "markdown",
		   "metadata": {},
		   "source": [
			"## Example 22.3: RS_and_RD.sce"
		   ]
		  },
  {
"cell_type": "code",
	   "execution_count": null,
	   "metadata": {
	    "collapsed": true
	   },
	   "outputs": [],
"source": [
"clc;\n",
"//e.g 22.3\n",
"ID=1.5*10**-3;\n",
"VDS=10;\n",
"IDSS=5*10**-3;\n",
"VP=-2;\n",
"VDD=20;\n",
"//ID=IDSS*(1-(VGS/VP))**2\n",
"VGS=VP*(1-(ID/IDSS));\n",
"VS=-VGS;\n",
"RS=(VS/ID);\n",
"disp('ohm',RS*1,'RS=');\n",
"RD=((VDD-VDS)/ID)-RS;\n",
"disp('Kohm',RD*10**-3,'RD=');"
   ]
   }
,
{
		   "cell_type": "markdown",
		   "metadata": {},
		   "source": [
			"## Example 22.5: RD_and_RS.sce"
		   ]
		  },
  {
"cell_type": "code",
	   "execution_count": null,
	   "metadata": {
	    "collapsed": true
	   },
	   "outputs": [],
"source": [
"clc;\n",
"//e.g22.5\n",
"VP=5;\n",
"IDSS=12*10**-3;\n",
"VDD=12;\n",
"ID=4*10**-3;\n",
"VDS=6;\n",
"VGS=VP*(1-sqrt(ID/IDSS));\n",
"VS=VGS;\n",
"RS=VS/ID;\n",
"disp('ohm',RS*1,'RS=');\n",
"RD=VDS/ID;\n",
"disp('Kohm',RD*10**-3,'RD=')"
   ]
   }
,
{
		   "cell_type": "markdown",
		   "metadata": {},
		   "source": [
			"## Example 22.6: self_bias_operation_point.sce"
		   ]
		  },
  {
"cell_type": "code",
	   "execution_count": null,
	   "metadata": {
	    "collapsed": true
	   },
	   "outputs": [],
"source": [
"clc;\n",
"//e.g 22.6\n",
"IDSS=10*10**-3;\n",
"VDD=20;\n",
"IDQ=IDSS/2;\n",
"disp('mA',IDQ*10**3,'ID=');\n",
"VDSQ=VDD/2;\n",
"disp('V',VDSQ*1,'VDS=');\n",
"VGS=-2.2;\n",
"RD=(VDD-VDSQ)/IDQ;\n",
"disp('Kohm',RD*10**-3,'RD=');\n",
"RS=-VGS/IDQ;\n",
"disp('ohm',RS*1,'RS=');"
   ]
   }
,
{
		   "cell_type": "markdown",
		   "metadata": {},
		   "source": [
			"## Example 22.7: VGS_and_VDS.sce"
		   ]
		  },
  {
"cell_type": "code",
	   "execution_count": null,
	   "metadata": {
	    "collapsed": true
	   },
	   "outputs": [],
"source": [
"clc;\n",
"//e.g 22.7\n",
"VDD=20;\n",
"RD=2.5*10**3;\n",
"RS=1.5*10**3;\n",
"R1=2*10**6;\n",
"R2=250*10**3;\n",
"ID=4*10**-3;\n",
"VG=(R2*VDD)/(R1+R2);\n",
"VS=ID*RS;\n",
"VGS=VG-VS;\n",
"disp('V',VGS*1,'VGS=');\n",
"VD=VDD-ID*RD;\n",
"VDS=VD-VS;\n",
"disp('V',VDS*1,'VDS=');"
   ]
   }
,
{
		   "cell_type": "markdown",
		   "metadata": {},
		   "source": [
			"## Example 22.8: voltage_gai.sce"
		   ]
		  },
  {
"cell_type": "code",
	   "execution_count": null,
	   "metadata": {
	    "collapsed": true
	   },
	   "outputs": [],
"source": [
"clc;\n",
"//e.g22.8\n",
"gm=4*10**-3;\n",
"RD=1.5*10**3;\n",
"AV=-gm*RD;\n",
"disp(AV);"
   ]
   }
,
{
		   "cell_type": "markdown",
		   "metadata": {},
		   "source": [
			"## Example 22.9: voltage_gai.sce"
		   ]
		  },
  {
"cell_type": "code",
	   "execution_count": null,
	   "metadata": {
	    "collapsed": true
	   },
	   "outputs": [],
"source": [
"clc;\n",
"//e.g 22.9\n",
"gm=2.5*10**-3;\n",
"rd=500*10**3;\n",
"RD=10*10**3;\n",
"rL=(RD*rd)/(rd+RD);\n",
"disp('10^3 ohm',rL*10**-3,'rL=');\n",
"AV=-gm*rL;\n",
"disp(AV);"
   ]
   }
],
"metadata": {
		  "kernelspec": {
		   "display_name": "Scilab",
		   "language": "scilab",
		   "name": "scilab"
		  },
		  "language_info": {
		   "file_extension": ".sce",
		   "help_links": [
			{
			 "text": "MetaKernel Magics",
			 "url": "https://github.com/calysto/metakernel/blob/master/metakernel/magics/README.md"
			}
		   ],
		   "mimetype": "text/x-octave",
		   "name": "scilab",
		   "version": "0.7.1"
		  }
		 },
		 "nbformat": 4,
		 "nbformat_minor": 0
}
