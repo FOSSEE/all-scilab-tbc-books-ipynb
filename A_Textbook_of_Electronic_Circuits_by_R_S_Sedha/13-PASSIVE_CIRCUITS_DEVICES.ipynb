{
"cells": [
 {
		   "cell_type": "markdown",
	   "metadata": {},
	   "source": [
       "# Chapter 13: PASSIVE CIRCUITS DEVICES"
	   ]
	},
{
		   "cell_type": "markdown",
		   "metadata": {},
		   "source": [
			"## Example 13.4: tolerance.sce"
		   ]
		  },
  {
"cell_type": "code",
	   "execution_count": null,
	   "metadata": {
	    "collapsed": true
	   },
	   "outputs": [],
"source": [
"clc;\n",
"R1min=2.7;\n",
"R2min=5.1;\n",
"Rmin=R1min+R2min;\n",
"R1max=3.3;\n",
"R2max=6.9;\n",
"Rmax=R1max+R2max;\n",
"a=9-Rmin;\n",
"b=Rmax-9;\n",
"tolerance=b/9;\n",
"Reqmin=(R1min*R2min)/(R1min+R2min);\n",
"disp('ohm',Reqmin*1,'Reqmin=');\n",
"Reqmax=(R1max*R2max)/(R1max+R2max);\n",
"disp('ohm',Reqmax*1,'Reqmax=');\n",
"R1N=3;\n",
"R2N=6;\n",
"Req=(R1N*R2N)/(R1N+R2N);\n",
"disp('ohm',Req*1,'Req=');\n",
"minval=Reqmin;\n",
"maxval=Reqmax;\n",
"maxchng=0.235;\n",
"t=(maxchng/2)*100;\n",
"disp('%',t*1,'t=');\n",
""
   ]
   }
,
{
		   "cell_type": "markdown",
		   "metadata": {},
		   "source": [
			"## Example 13.5: coil_inductance.sce"
		   ]
		  },
  {
"cell_type": "code",
	   "execution_count": null,
	   "metadata": {
	    "collapsed": true
	   },
	   "outputs": [],
"source": [
"clc;\n",
"//e.g 13.5\n",
"N=150;\n",
"mur=3540;\n",
"mu0=4*%pi*10**-7;\n",
"l=0.05;\n",
"A=5*10**-4;\n",
"L=(mur*mu0*A*N*N)/l;\n",
"disp('H',L*1,'L=');"
   ]
   }
,
{
		   "cell_type": "markdown",
		   "metadata": {},
		   "source": [
			"## Example 13.6: coefficient_of_Coupling.sce"
		   ]
		  },
  {
"cell_type": "code",
	   "execution_count": null,
	   "metadata": {
	    "collapsed": true
	   },
	   "outputs": [],
"source": [
"clc;\n",
"//e.g 13.6\n",
"L1=40*10**-6;\n",
"L2=80*10**-6;\n",
"M=11.3*10**-6;\n",
"k=M/sqrt(L1*L2);\n",
"disp(k);"
   ]
   }
,
{
		   "cell_type": "markdown",
		   "metadata": {},
		   "source": [
			"## Example 13.7: Q_factor_of_coil.sce"
		   ]
		  },
  {
"cell_type": "code",
	   "execution_count": null,
	   "metadata": {
	    "collapsed": true
	   },
	   "outputs": [],
"source": [
"clc;\n",
"//e.g 13.7\n",
"Q=90;\n",
"L=15*10**-6;\n",
"f=10*10**6;\n",
"R0=(2*%pi*f*L)/Q;\n",
"disp('ohm',R0*1,'R0=');"
   ]
   }
,
{
		   "cell_type": "markdown",
		   "metadata": {},
		   "source": [
			"## Example 13.8: capacitance.sce"
		   ]
		  },
  {
"cell_type": "code",
	   "execution_count": null,
	   "metadata": {
	    "collapsed": true
	   },
	   "outputs": [],
"source": [
"clc;\n",
"//e.g 13.8\n",
"A=0.04;\n",
"d=0.02;\n",
"e0=8.85*10**-12;\n",
"er=5.0;\n",
"C=(e0*er*A)/d; \n",
"disp('pF',C*10**12,'C=');//answer printed in the book is wrong."
   ]
   }
,
{
		   "cell_type": "markdown",
		   "metadata": {},
		   "source": [
			"## Example 13.9: thickness_of_dielectric.sce"
		   ]
		  },
  {
"cell_type": "code",
	   "execution_count": null,
	   "metadata": {
	    "collapsed": true
	   },
	   "outputs": [],
"source": [
"clc;\n",
"//e.g 13.9\n",
"A=0.2;\n",
"C=0.428*10**-6;\n",
"e0=8.85*10**-12;\n",
"er=1200;\n",
"d=(e0*er*A)/C;//ans printed in the book is wrong\n",
"disp('mm',d*10**3,'d=');"
   ]
   }
],
"metadata": {
		  "kernelspec": {
		   "display_name": "Scilab",
		   "language": "scilab",
		   "name": "scilab"
		  },
		  "language_info": {
		   "file_extension": ".sce",
		   "help_links": [
			{
			 "text": "MetaKernel Magics",
			 "url": "https://github.com/calysto/metakernel/blob/master/metakernel/magics/README.md"
			}
		   ],
		   "mimetype": "text/x-octave",
		   "name": "scilab",
		   "version": "0.7.1"
		  }
		 },
		 "nbformat": 4,
		 "nbformat_minor": 0
}
