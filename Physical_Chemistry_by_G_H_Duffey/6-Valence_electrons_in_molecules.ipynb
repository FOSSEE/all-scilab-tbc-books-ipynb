{
"cells": [
 {
		   "cell_type": "markdown",
	   "metadata": {},
	   "source": [
       "# Chapter 6: Valence electrons in molecules"
	   ]
	},
{
		   "cell_type": "markdown",
		   "metadata": {},
		   "source": [
			"## Example 6.10: Example_10.sce"
		   ]
		  },
  {
"cell_type": "code",
	   "execution_count": null,
	   "metadata": {
	    "collapsed": true
	   },
	   "outputs": [],
"source": [
"clc\n",
"//initialization of variables\n",
"DHH=42 //kcal/mol\n",
"//calculations\n",
"DHHp=0.5*(DHH)\n",
"//results\n",
"printf('Exchange energy = %.1f kcal/mol',DHHp)"
   ]
   }
,
{
		   "cell_type": "markdown",
		   "metadata": {},
		   "source": [
			"## Example 6.1: Example_1.sce"
		   ]
		  },
  {
"cell_type": "code",
	   "execution_count": null,
	   "metadata": {
	    "collapsed": true
	   },
	   "outputs": [],
"source": [
"clc\n",
"//initialization of variables\n",
"a2=1/8\n",
"//calculations\n",
"b2=1-a2\n",
"a1=sqrt(a2)\n",
"b1=sqrt(b2)\n",
"//results\n",
"printf(' Wave function is %.2f phi1 +%.2f phi2',a1,b1)"
   ]
   }
,
{
		   "cell_type": "markdown",
		   "metadata": {},
		   "source": [
			"## Example 6.3: Example_3.sce"
		   ]
		  },
  {
"cell_type": "code",
	   "execution_count": null,
	   "metadata": {
	    "collapsed": true
	   },
	   "outputs": [],
"source": [
"clc\n",
"//initialization of variables\n",
"sinu=2/sqrt(3)\n",
"cosu=sqrt(2/3)\n",
"//calculations\n",
"tanu=sinu/cosu\n",
"u=atand(sinu/cosu)\n",
"//results\n",
"printf('Bond anagle = %.2f degrees',2*u)"
   ]
   }
,
{
		   "cell_type": "markdown",
		   "metadata": {},
		   "source": [
			"## Example 6.4: Example_4.sce"
		   ]
		  },
  {
"cell_type": "code",
	   "execution_count": null,
	   "metadata": {
	    "collapsed": true
	   },
	   "outputs": [],
"source": [
"clc\n",
"//initialization of variables\n",
"cosu=1/sqrt(3)\n",
"sinu=sqrt(2/3)\n",
"//calculations\n",
"f=1/2 + sqrt(3) /2 *cosu + sqrt(3/2) *sinu\n",
"//results\n",
"printf('Pauling strength = %d ',f)"
   ]
   }
,
{
		   "cell_type": "markdown",
		   "metadata": {},
		   "source": [
			"## Example 6.5: Example_5.sce"
		   ]
		  },
  {
"cell_type": "code",
	   "execution_count": null,
	   "metadata": {
	    "collapsed": true
	   },
	   "outputs": [],
"source": [
"clc\n",
"//initialization of variables\n",
"alpha=60\n",
"//calculations\n",
"cosa=cosd(alpha)\n",
"sina=sind(alpha)\n",
"//results\n",
"printf('Wave function  = %.2f s + %.2f pz',cosa,sina)"
   ]
   }
,
{
		   "cell_type": "markdown",
		   "metadata": {},
		   "source": [
			"## Example 6.9: Example_9.sce"
		   ]
		  },
  {
"cell_type": "code",
	   "execution_count": null,
	   "metadata": {
	    "collapsed": true
	   },
	   "outputs": [],
"source": [
"clc\n",
"//initialization of variables\n",
"DHH=103 //kcal/mol\n",
"//calculations\n",
"DHHp=0.5*(DHH)\n",
"//results\n",
"printf('Bond energy = %.1f kcal/mol',DHHp)"
   ]
   }
],
"metadata": {
		  "kernelspec": {
		   "display_name": "Scilab",
		   "language": "scilab",
		   "name": "scilab"
		  },
		  "language_info": {
		   "file_extension": ".sce",
		   "help_links": [
			{
			 "text": "MetaKernel Magics",
			 "url": "https://github.com/calysto/metakernel/blob/master/metakernel/magics/README.md"
			}
		   ],
		   "mimetype": "text/x-octave",
		   "name": "scilab",
		   "version": "0.7.1"
		  }
		 },
		 "nbformat": 4,
		 "nbformat_minor": 0
}
