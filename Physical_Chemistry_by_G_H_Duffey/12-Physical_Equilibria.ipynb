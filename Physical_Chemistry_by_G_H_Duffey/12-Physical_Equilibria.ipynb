{
"cells": [
 {
		   "cell_type": "markdown",
	   "metadata": {},
	   "source": [
       "# Chapter 12: Physical Equilibria"
	   ]
	},
{
		   "cell_type": "markdown",
		   "metadata": {},
		   "source": [
			"## Example 12.1: Example_1.sce"
		   ]
		  },
  {
"cell_type": "code",
	   "execution_count": null,
	   "metadata": {
	    "collapsed": true
	   },
	   "outputs": [],
"source": [
"clc\n",
"//Initialization of variables\n",
"p=3\n",
"c=2\n",
"//calculations\n",
"f=2-p+c\n",
"//results\n",
"printf('no. of degrees of freedom = %d ',f)"
   ]
   }
,
{
		   "cell_type": "markdown",
		   "metadata": {},
		   "source": [
			"## Example 12.2: Example_2.sce"
		   ]
		  },
  {
"cell_type": "code",
	   "execution_count": null,
	   "metadata": {
	    "collapsed": true
	   },
	   "outputs": [],
"source": [
"clc\n",
"//Initialization of variables\n",
"T=273.2 //K\n",
"vw=1.0001 //cm^3 /g\n",
"vi=1.0907 //cm^3 /g\n",
"hf=79.7 //cal/g\n",
"P1=76 //cm\n",
"P2=4.6 //cm\n",
"//calculations\n",
"dT=T*(vw-vi)*(P2-P1)*13.6*980.7/(hf*4.184*10^7)\n",
"//results\n",
"printf('change in temperature = %.4f deg',dT)\n",
""
   ]
   }
,
{
		   "cell_type": "markdown",
		   "metadata": {},
		   "source": [
			"## Example 12.3: Example_3.sce"
		   ]
		  },
  {
"cell_type": "code",
	   "execution_count": null,
	   "metadata": {
	    "collapsed": true
	   },
	   "outputs": [],
"source": [
"clc\n",
"//Initialization of variables\n",
"V=6.84 //cm^3 /g\n",
"//calculations\n",
"dPbydT=-1.7*4.184*10^7 /(2.19*V*0.06*1.01*10^6)\n",
"//results\n",
"printf('dPbydT = %d atm/deg',dPbydT)"
   ]
   }
,
{
		   "cell_type": "markdown",
		   "metadata": {},
		   "source": [
			"## Example 12.4: Example_4.sce"
		   ]
		  },
  {
"cell_type": "code",
	   "execution_count": null,
	   "metadata": {
	    "collapsed": true
	   },
	   "outputs": [],
"source": [
"clc\n",
"//Initialization of variables\n",
"P=6  //atm\n",
"T=273.2+25 //K\n",
"P=23.8 //mm\n",
"V=0.018 //lt/mol\n",
"R=0.08206 //lt am/deg mol\n",
"//calculations\n",
"dPa=V*P*4536/(R*T*760)\n",
"Pa=dPa+P\n",
"//results\n",
"printf('Pressure = %.1f mm',Pa)"
   ]
   }
,
{
		   "cell_type": "markdown",
		   "metadata": {},
		   "source": [
			"## Example 12.5: Example_5.sce"
		   ]
		  },
  {
"cell_type": "code",
	   "execution_count": null,
	   "metadata": {
	    "collapsed": true
	   },
	   "outputs": [],
"source": [
"clc\n",
"//Initialization of variables\n",
"x=0.25\n",
"Ps1=96 //mm\n",
"Ps2=43.9 //mm\n",
"//calculations\n",
"P1=x*Ps1\n",
"P2=(1-x)*Ps2\n",
"P=P1+P2\n",
"Xdash=P1/P\n",
"//results\n",
"printf('mole fraction of methanol in vapor = %.3f ',Xdash)"
   ]
   }
,
{
		   "cell_type": "markdown",
		   "metadata": {},
		   "source": [
			"## Example 12.6: Example_6.sce"
		   ]
		  },
  {
"cell_type": "code",
	   "execution_count": null,
	   "metadata": {
	    "collapsed": true
	   },
	   "outputs": [],
"source": [
"clc\n",
"//Initialization of variables\n",
"Hv=539.6 //cal/g\n",
"T=273.2+100 //K\n",
"//calculations\n",
"Kb=1.987*T^2 /(1000*Hv)\n",
"//results\n",
"printf('Molal elevation constant = %.3f deg /mole /kg',Kb)"
   ]
   }
,
{
		   "cell_type": "markdown",
		   "metadata": {},
		   "source": [
			"## Example 12.7: Example_7.sce"
		   ]
		  },
  {
"cell_type": "code",
	   "execution_count": null,
	   "metadata": {
	    "collapsed": true
	   },
	   "outputs": [],
"source": [
"clc\n",
"//Initialization of variables\n",
"ms=0.5 //mol/kg\n",
"m=5 //g\n",
"mw=100 //g\n",
"Ws=1000 //g/kg\n",
"//calculations\n",
"Ma=m*Ws/(ms*mw)\n",
"//results\n",
"printf('Molecular weight of solute = %d g/mol ',Ma)"
   ]
   }
,
{
		   "cell_type": "markdown",
		   "metadata": {},
		   "source": [
			"## Example 12.8: Example_8.sce"
		   ]
		  },
  {
"cell_type": "code",
	   "execution_count": null,
	   "metadata": {
	    "collapsed": true
	   },
	   "outputs": [],
"source": [
"clc\n",
"//Initialization of variables\n",
"dT=0.23 //C\n",
"Kb=1.86 //deg/mol/kg\n",
"//calculations\n",
"m=dT/Kb\n",
"//results\n",
"printf('molality of solution = %.2f m',m)"
   ]
   }
,
{
		   "cell_type": "markdown",
		   "metadata": {},
		   "source": [
			"## Example 12.9: Example_9.sce"
		   ]
		  },
  {
"cell_type": "code",
	   "execution_count": null,
	   "metadata": {
	    "collapsed": true
	   },
	   "outputs": [],
"source": [
"clc\n",
"//Initialization of variables\n",
"p=0.1 //m\n",
"T=30+273.2  //K\n",
"R=0.08206 //lt atm /deg/mol\n",
"P1=1 //atm\n",
"//calculations\n",
"w=1000/p\n",
"V=w/1000\n",
"dP=R*T/V\n",
"P=dP+P1\n",
"//results\n",
"printf('Osmotic Pressure =%.2f atm ',P)"
   ]
   }
],
"metadata": {
		  "kernelspec": {
		   "display_name": "Scilab",
		   "language": "scilab",
		   "name": "scilab"
		  },
		  "language_info": {
		   "file_extension": ".sce",
		   "help_links": [
			{
			 "text": "MetaKernel Magics",
			 "url": "https://github.com/calysto/metakernel/blob/master/metakernel/magics/README.md"
			}
		   ],
		   "mimetype": "text/x-octave",
		   "name": "scilab",
		   "version": "0.7.1"
		  }
		 },
		 "nbformat": 4,
		 "nbformat_minor": 0
}
