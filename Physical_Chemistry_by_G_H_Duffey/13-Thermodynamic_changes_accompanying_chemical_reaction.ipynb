{
"cells": [
 {
		   "cell_type": "markdown",
	   "metadata": {},
	   "source": [
       "# Chapter 13: Thermodynamic changes accompanying chemical reaction"
	   ]
	},
{
		   "cell_type": "markdown",
		   "metadata": {},
		   "source": [
			"## Example 13.10: Example_10.sce"
		   ]
		  },
  {
"cell_type": "code",
	   "execution_count": null,
	   "metadata": {
	    "collapsed": true
	   },
	   "outputs": [],
"source": [
"clc\n",
"//Initialization of variables\n",
"x=0.5\n",
"P=0.468 //atm\n",
"//calculations\n",
"P1=x*P\n",
"P2=x*P\n",
"Kp=P1*P2\n",
"//results\n",
"printf('Final pressure after quilibrium = %.4f atm^2',Kp)"
   ]
   }
,
{
		   "cell_type": "markdown",
		   "metadata": {},
		   "source": [
			"## Example 13.1: Example_1.sce"
		   ]
		  },
  {
"cell_type": "code",
	   "execution_count": null,
	   "metadata": {
	    "collapsed": true
	   },
	   "outputs": [],
"source": [
"clc\n",
"//Initialization of variables\n",
"n1=10 //mol\n",
"n2=12 //mol\n",
"//calculations\n",
"dn=n1-n2\n",
"//results\n",
"printf('dHp = dEv- %d *RT',dn)"
   ]
   }
,
{
		   "cell_type": "markdown",
		   "metadata": {},
		   "source": [
			"## Example 13.2: Example_2.sce"
		   ]
		  },
  {
"cell_type": "code",
	   "execution_count": null,
	   "metadata": {
	    "collapsed": true
	   },
	   "outputs": [],
"source": [
"clc\n",
"//Initialization of variables\n",
"Ht1=-22063 //cal\n",
"T=298.15 //K\n",
"//calculations\n",
"H=Ht1 +0.5293*T + 0.3398*10^-3 *T^2 - 2.039*10^-7 *T^3\n",
"//results\n",
"printf('Enthalpy = %d cal',H)"
   ]
   }
,
{
		   "cell_type": "markdown",
		   "metadata": {},
		   "source": [
			"## Example 13.3: Example_3.sce"
		   ]
		  },
  {
"cell_type": "code",
	   "execution_count": null,
	   "metadata": {
	    "collapsed": true
	   },
	   "outputs": [],
"source": [
"clc\n",
"//Initialization of variables\n",
"Cp=0.797 //cal/deg/mol\n",
"//calculations\n",
"S=Cp/3\n",
"//results\n",
"printf('Entropy = %.3f eu/mol',S)"
   ]
   }
,
{
		   "cell_type": "markdown",
		   "metadata": {},
		   "source": [
			"## Example 13.4: Example_4.sce"
		   ]
		  },
  {
"cell_type": "code",
	   "execution_count": null,
	   "metadata": {
	    "collapsed": true
	   },
	   "outputs": [],
"source": [
"clc\n",
"//Initialization of variables\n",
"T1=77.32 //K\n",
"P=1 //atm\n",
"T2=126 //K\n",
"Pc=33.5 //atm\n",
"//calculations\n",
"dS=27/32 *1.987*P/Pc *(T2/T1)^3\n",
"//results\n",
"printf('Change in entropy = %.2f eu/mol',dS)"
   ]
   }
,
{
		   "cell_type": "markdown",
		   "metadata": {},
		   "source": [
			"## Example 13.5: Example_5.sce"
		   ]
		  },
  {
"cell_type": "code",
	   "execution_count": null,
	   "metadata": {
	    "collapsed": true
	   },
	   "outputs": [],
"source": [
"clc\n",
"//Initialization of variables\n",
"S1=57.47\n",
"S2=50.34\n",
"S3=49\n",
"H1=8.09\n",
"H2=21.06\n",
"H3=0\n",
"F1=12.39\n",
"F2=20.72\n",
"F3=0\n",
"//calculations\n",
"dS=S1-S2-0.5*S3\n",
"dH=H1-H2-0.5*H3\n",
"dF=F1-F2-0.5*F3\n",
"//results\n",
"printf('Change in entropy = %.2f eu',dS)\n",
"printf('\n Change in enthalpy = %.2f kcal',dH)\n",
"printf('\n Change in free energy = %.2f kcal',dF)"
   ]
   }
,
{
		   "cell_type": "markdown",
		   "metadata": {},
		   "source": [
			"## Example 13.6: Example_6.sce"
		   ]
		  },
  {
"cell_type": "code",
	   "execution_count": null,
	   "metadata": {
	    "collapsed": true
	   },
	   "outputs": [],
"source": [
"clc\n",
"//Initialization of variables\n",
"P1=0.01\n",
"P2=0.1\n",
"P3=0.01\n",
"dF0=-54640 //cal\n",
"T=298.15 //K\n",
"R=1.987 //cal/deg\n",
"//calculations\n",
"Qp=P1/(P2*P3^0.5)\n",
"dF=dF0+R*T*log(Qp)\n",
"//results\n",
"printf('change in free energy = %d cal',dF)"
   ]
   }
,
{
		   "cell_type": "markdown",
		   "metadata": {},
		   "source": [
			"## Example 13.7: Example_7.sce"
		   ]
		  },
  {
"cell_type": "code",
	   "execution_count": null,
	   "metadata": {
	    "collapsed": true
	   },
	   "outputs": [],
"source": [
"clc\n",
"//Initialization of variables\n",
"disp('From table 13.4 ')\n",
"logKfwater=40.04724\n",
"logKfH2=0\n",
"logKfO2=0\n",
"//calculations\n",
"logK=logKfwater-logKfH2-0.5*logKfO2\n",
"K=10^logK\n",
"//results\n",
"printf('Equilibrium constant = %.4e',K)"
   ]
   }
,
{
		   "cell_type": "markdown",
		   "metadata": {},
		   "source": [
			"## Example 13.8: Example_8.sce"
		   ]
		  },
  {
"cell_type": "code",
	   "execution_count": null,
	   "metadata": {
	    "collapsed": true
	   },
	   "outputs": [],
"source": [
"clc\n",
"//Initialization of variables\n",
"Kp=1.1*10^40 //atm^-0.5\n",
"dn=-0.5\n",
"R=0.08206 //lt atm/deg mol\n",
"T=298.15 //K\n",
"//calculations\n",
"Kc=Kp*(R*T)^(-dn)\n",
"//results\n",
"printf('Kc = %.1e (mol/lt)^-0.5',Kc)"
   ]
   }
,
{
		   "cell_type": "markdown",
		   "metadata": {},
		   "source": [
			"## Example 13.9: Example_9.sce"
		   ]
		  },
  {
"cell_type": "code",
	   "execution_count": null,
	   "metadata": {
	    "collapsed": true
	   },
	   "outputs": [],
"source": [
"clc\n",
"//Initialization of variables\n",
"Kp=0.141 //atm\n",
"P=1 //atm\n",
"nu=2\n",
"R=0.08206 //lt atm/deg mol\n",
"T=298.15 //K\n",
"M=92.02 //g/mol\n",
"//calculations\n",
"a=poly(0,'a');\n",
"p=Kp*a^2 +4*a^2*P -Kp\n",
"z=roots(p)\n",
"alpha=z(1)\n",
"wbyV=P*M/(R*T*(1+(nu-1)*alpha))\n",
"//results\n",
"printf('Density of the equilibrium mixture = %.2f g/lt',wbyV)"
   ]
   }
],
"metadata": {
		  "kernelspec": {
		   "display_name": "Scilab",
		   "language": "scilab",
		   "name": "scilab"
		  },
		  "language_info": {
		   "file_extension": ".sce",
		   "help_links": [
			{
			 "text": "MetaKernel Magics",
			 "url": "https://github.com/calysto/metakernel/blob/master/metakernel/magics/README.md"
			}
		   ],
		   "mimetype": "text/x-octave",
		   "name": "scilab",
		   "version": "0.7.1"
		  }
		 },
		 "nbformat": 4,
		 "nbformat_minor": 0
}
