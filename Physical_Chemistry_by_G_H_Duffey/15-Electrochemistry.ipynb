{
"cells": [
 {
		   "cell_type": "markdown",
	   "metadata": {},
	   "source": [
       "# Chapter 15: Electrochemistry"
	   ]
	},
{
		   "cell_type": "markdown",
		   "metadata": {},
		   "source": [
			"## Example 15.1: Example_1.sce"
		   ]
		  },
  {
"cell_type": "code",
	   "execution_count": null,
	   "metadata": {
	    "collapsed": true
	   },
	   "outputs": [],
"source": [
"clc\n",
"//Initialization of variables\n",
"I=0.5 //amp\n",
"t=55  //min\n",
"we=31.77\n",
"//calculations\n",
"Q=I*t*60\n",
"n=Q/96496\n",
"w=n*we\n",
"//results\n",
"printf('Weight of copper leaving = %.3f g',w)"
   ]
   }
,
{
		   "cell_type": "markdown",
		   "metadata": {},
		   "source": [
			"## Example 15.2: Example_2.sce"
		   ]
		  },
  {
"cell_type": "code",
	   "execution_count": null,
	   "metadata": {
	    "collapsed": true
	   },
	   "outputs": [],
"source": [
"clc\n",
"//Initialization of variables\n",
"w1=0.7532 //g\n",
"w2=0.9972 //g\n",
"wdep=0.4 //g\n",
"we=31.77 //g\n",
"//calculations\n",
"dn=w2/we - w1/we\n",
"t=dn/(wdep/we)\n",
"dne=wdep/we\n",
"dnmig=dn-dne\n",
"tplus=-dnmig/dne\n",
"tminus=1-tplus\n",
"//results\n",
"printf('tplus = %.3f',tplus)\n",
"printf('\n tminus= %.3f',tminus)"
   ]
   }
,
{
		   "cell_type": "markdown",
		   "metadata": {},
		   "source": [
			"## Example 15.3: Example_3.sce"
		   ]
		  },
  {
"cell_type": "code",
	   "execution_count": null,
	   "metadata": {
	    "collapsed": true
	   },
	   "outputs": [],
"source": [
"clc\n",
"//Initialization of variables\n",
"R1=312 //ohms\n",
"R2=1043 //ohms\n",
"c=0.01 //N\n",
"kdash=0.002768 //ohm^-1cm^-1\n",
"//calculations\n",
"k=kdash*R1\n",
"kdash2=k/R2\n",
"lambda=kdash2/(c/1000)\n",
"//results\n",
"printf('Equivalent conductance = %.1f ohm^-1 cm^2 equiv^-1',lambda)"
   ]
   }
,
{
		   "cell_type": "markdown",
		   "metadata": {},
		   "source": [
			"## Example 15.4: Example_4.sce"
		   ]
		  },
  {
"cell_type": "code",
	   "execution_count": null,
	   "metadata": {
	    "collapsed": true
	   },
	   "outputs": [],
"source": [
"clc\n",
"//Initialization of variables\n",
"l1=349.8 \n",
"l2=40.9\n",
"//calculations\n",
"l=l1+l2\n",
"//results\n",
"printf('Conductance for acetic acid = %.1f ohm^-1 cm^2',l)"
   ]
   }
,
{
		   "cell_type": "markdown",
		   "metadata": {},
		   "source": [
			"## Example 15.5: Example_5.sce"
		   ]
		  },
  {
"cell_type": "code",
	   "execution_count": null,
	   "metadata": {
	    "collapsed": true
	   },
	   "outputs": [],
"source": [
"clc\n",
"//Initialization of variables\n",
"l1=63.6\n",
"l2=79.8\n",
"n=1 //mg/lt\n",
"we=116.7 //g/equiv\n",
"//calculations\n",
"l=l1+l2\n",
"c=n*10^-3 /we\n",
"k=c*l/1000\n",
"//results\n",
"printf('Specific conductance = %.2e ohm^-1 cm^-1',k)"
   ]
   }
,
{
		   "cell_type": "markdown",
		   "metadata": {},
		   "source": [
			"## Example 15.6: Example_6.sce"
		   ]
		  },
  {
"cell_type": "code",
	   "execution_count": null,
	   "metadata": {
	    "collapsed": true
	   },
	   "outputs": [],
"source": [
"clc\n",
"//Initialization of variables\n",
"e1=0.763 //volt\n",
"e2=0.337 //volt\n",
"//calculations\n",
"e0=e1+e2\n",
"//results\n",
"printf('Standard electrode potential of the cell = %.3f volts',e0)"
   ]
   }
,
{
		   "cell_type": "markdown",
		   "metadata": {},
		   "source": [
			"## Example 15.7: Example_7.sce"
		   ]
		  },
  {
"cell_type": "code",
	   "execution_count": null,
	   "metadata": {
	    "collapsed": true
	   },
	   "outputs": [],
"source": [
"clc\n",
"//Initialization of variables\n",
"aZn=0.1\n",
"aCu=0.01\n",
"e1=0.763 //volt\n",
"e2=0.337 //volt\n",
"//calculations\n",
"e0=e1+e2\n",
"Q=aZn/aCu\n",
"E=e0- 0.05915*log10(Q) /2\n",
"//results\n",
"printf('Emf of the cell = %.3f volts',E)"
   ]
   }
],
"metadata": {
		  "kernelspec": {
		   "display_name": "Scilab",
		   "language": "scilab",
		   "name": "scilab"
		  },
		  "language_info": {
		   "file_extension": ".sce",
		   "help_links": [
			{
			 "text": "MetaKernel Magics",
			 "url": "https://github.com/calysto/metakernel/blob/master/metakernel/magics/README.md"
			}
		   ],
		   "mimetype": "text/x-octave",
		   "name": "scilab",
		   "version": "0.7.1"
		  }
		 },
		 "nbformat": 4,
		 "nbformat_minor": 0
}
