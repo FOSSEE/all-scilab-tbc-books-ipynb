{
"cells": [
 {
		   "cell_type": "markdown",
	   "metadata": {},
	   "source": [
       "# Chapter 8: First law of thermodynamics"
	   ]
	},
{
		   "cell_type": "markdown",
		   "metadata": {},
		   "source": [
			"## Example 8.1: Example_1.sce"
		   ]
		  },
  {
"cell_type": "code",
	   "execution_count": null,
	   "metadata": {
	    "collapsed": true
	   },
	   "outputs": [],
"source": [
"clc\n",
"//Initialization of variables\n",
"P=1.0132*10^6 //dynes/cm^2\n",
"A=100 //cm^2\n",
"z=10 //cm\n",
"//calculations\n",
"w=P*A*z*10^-7\n",
"//results\n",
"printf('Joules = %.4e J',w)"
   ]
   }
,
{
		   "cell_type": "markdown",
		   "metadata": {},
		   "source": [
			"## Example 8.2: Example_2.sce"
		   ]
		  },
  {
"cell_type": "code",
	   "execution_count": null,
	   "metadata": {
	    "collapsed": true
	   },
	   "outputs": [],
"source": [
"clc\n",
"//Initialization of variables\n",
"P=1.0132*10^6 //dynes/cm^2\n",
"A=100 //cm^2\n",
"z=10 //cm\n",
"//calculations\n",
"w=P*A*z*10^-7\n",
"cal=w/4.184\n",
"//results\n",
"printf('Calories = %.3f cal',cal)"
   ]
   }
,
{
		   "cell_type": "markdown",
		   "metadata": {},
		   "source": [
			"## Example 8.3: Example_3.sce"
		   ]
		  },
  {
"cell_type": "code",
	   "execution_count": null,
	   "metadata": {
	    "collapsed": true
	   },
	   "outputs": [],
"source": [
"clc\n",
"//Initialization of variables\n",
"T=373.2 //K\n",
"n=1 //mol\n",
"qp=9720 //cal/mol\n",
"//calculations\n",
"q=n*qp\n",
"w=1.987*T\n",
"dE=q-w\n",
"//results\n",
"printf('Heat of vaporization = %d cal',q)\n",
"printf('\n Change in energy = %d cal',dE)"
   ]
   }
,
{
		   "cell_type": "markdown",
		   "metadata": {},
		   "source": [
			"## Example 8.4: Example_4.sce"
		   ]
		  },
  {
"cell_type": "code",
	   "execution_count": null,
	   "metadata": {
	    "collapsed": true
	   },
	   "outputs": [],
"source": [
"clc\n",
"//Initialization of variables\n",
"T1=25+273 //K\n",
"T2=25+273 //K\n",
"//calculations\n",
"disp('Since, T2=T1, dE=0')\n",
"dE=0\n",
"w=0\n",
"q=dE+w\n",
"//results\n",
"printf('\n Work done = %d ',w)\n",
"printf('\n Heat transferred = %d ',q)\n",
"printf('\n Change in energy = %d',dE)"
   ]
   }
,
{
		   "cell_type": "markdown",
		   "metadata": {},
		   "source": [
			"## Example 8.5: Example_5.sce"
		   ]
		  },
  {
"cell_type": "code",
	   "execution_count": null,
	   "metadata": {
	    "collapsed": true
	   },
	   "outputs": [],
"source": [
"clc\n",
"//Initialization of variables\n",
"R=1.987 //cal/deg mol\n",
"//calculations\n",
"Cvtr=1.5*R\n",
"Cvrot=1.5*R\n",
"Cvt=Cvtr+Cvrot\n",
"disp('Observed Cv= 6.43')\n",
"Cvobs=6.43\n",
"Cvvib=Cvobs-Cvt\n",
"//results\n",
"printf('Vibrational = %.2f cal/deg mol',Cvvib)"
   ]
   }
],
"metadata": {
		  "kernelspec": {
		   "display_name": "Scilab",
		   "language": "scilab",
		   "name": "scilab"
		  },
		  "language_info": {
		   "file_extension": ".sce",
		   "help_links": [
			{
			 "text": "MetaKernel Magics",
			 "url": "https://github.com/calysto/metakernel/blob/master/metakernel/magics/README.md"
			}
		   ],
		   "mimetype": "text/x-octave",
		   "name": "scilab",
		   "version": "0.7.1"
		  }
		 },
		 "nbformat": 4,
		 "nbformat_minor": 0
}
