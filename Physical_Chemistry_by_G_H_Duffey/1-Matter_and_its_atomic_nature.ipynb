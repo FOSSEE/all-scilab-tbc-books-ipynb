{
"cells": [
 {
		   "cell_type": "markdown",
	   "metadata": {},
	   "source": [
       "# Chapter 1: Matter and its atomic nature"
	   ]
	},
{
		   "cell_type": "markdown",
		   "metadata": {},
		   "source": [
			"## Example 1.10: Example_10.sce"
		   ]
		  },
  {
"cell_type": "code",
	   "execution_count": null,
	   "metadata": {
	    "collapsed": true
	   },
	   "outputs": [],
"source": [
"clc\n",
"//Initialization of variables\n",
"A=[-1 -1 -1 ]\n",
"B=[1 1 -1]\n",
"//calculations\n",
"Ad=sqrt(1+1+1)\n",
"Bd=sqrt(1+1+1)\n",
"dot=A.*B /(Ad*Bd) \n",
"theta=acosd(dot)\n",
"//results\n",
"printf('Angle = %.2f degrees',theta(1,1))"
   ]
   }
,
{
		   "cell_type": "markdown",
		   "metadata": {},
		   "source": [
			"## Example 1.1: Example_1.sce"
		   ]
		  },
  {
"cell_type": "code",
	   "execution_count": null,
	   "metadata": {
	    "collapsed": true
	   },
	   "outputs": [],
"source": [
"clc\n",
"//Initialization of variables\n",
"l=0.71 *10^-8 //cm\n",
"n=200 //lines/cm\n",
"v=0.00145 //radian\n",
"//calculations\n",
"d=1/n\n",
"phi2=2*l/d +v^2\n",
"phi=sqrt(phi2)\n",
"//results\n",
"printf('Angle required = %.2e radian',phi)"
   ]
   }
,
{
		   "cell_type": "markdown",
		   "metadata": {},
		   "source": [
			"## Example 1.2: Example_2.sce"
		   ]
		  },
  {
"cell_type": "code",
	   "execution_count": null,
	   "metadata": {
	    "collapsed": true
	   },
	   "outputs": [],
"source": [
"clc\n",
"//Initialization of variables\n",
"angle=37.25 //degrees\n",
"l=1.539 //A\n",
"n=1 //order\n",
"//calculations\n",
"d=n*l/(2*sind(angle))\n",
"//results\n",
"printf('Interplanar distance = %.3f A',d)"
   ]
   }
,
{
		   "cell_type": "markdown",
		   "metadata": {},
		   "source": [
			"## Example 1.5: Example_5.sce"
		   ]
		  },
  {
"cell_type": "code",
	   "execution_count": null,
	   "metadata": {
	    "collapsed": true
	   },
	   "outputs": [],
"source": [
"clc\n",
"//Initialization of variables\n",
"r1=sqrt(3)\n",
"r2=1\n",
"//calculations\n",
"ratio=r1-r2\n",
"//results\n",
"printf('Ratio of radii = %.3f',ratio)"
   ]
   }
,
{
		   "cell_type": "markdown",
		   "metadata": {},
		   "source": [
			"## Example 1.6: Example_6.sce"
		   ]
		  },
  {
"cell_type": "code",
	   "execution_count": null,
	   "metadata": {
	    "collapsed": true
	   },
	   "outputs": [],
"source": [
"clc\n",
"//Initialization of variables\n",
"d=2.64 //g/cc\n",
"l=4.016*10^-8 //cm\n",
"n=4\n",
"M=25.94 //g/mol\n",
"//calculations\n",
"m=d*l^3 /n\n",
"N0=M/m\n",
"//results\n",
"printf('Avagadro number = %.3e molecule/mol',N0)"
   ]
   }
],
"metadata": {
		  "kernelspec": {
		   "display_name": "Scilab",
		   "language": "scilab",
		   "name": "scilab"
		  },
		  "language_info": {
		   "file_extension": ".sce",
		   "help_links": [
			{
			 "text": "MetaKernel Magics",
			 "url": "https://github.com/calysto/metakernel/blob/master/metakernel/magics/README.md"
			}
		   ],
		   "mimetype": "text/x-octave",
		   "name": "scilab",
		   "version": "0.7.1"
		  }
		 },
		 "nbformat": 4,
		 "nbformat_minor": 0
}
