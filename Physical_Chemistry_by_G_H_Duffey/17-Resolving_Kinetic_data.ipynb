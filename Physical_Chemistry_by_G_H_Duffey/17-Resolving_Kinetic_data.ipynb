{
"cells": [
 {
		   "cell_type": "markdown",
	   "metadata": {},
	   "source": [
       "# Chapter 17: Resolving Kinetic data"
	   ]
	},
{
		   "cell_type": "markdown",
		   "metadata": {},
		   "source": [
			"## Example 17.1: Example_1.sce"
		   ]
		  },
  {
"cell_type": "code",
	   "execution_count": null,
	   "metadata": {
	    "collapsed": true
	   },
	   "outputs": [],
"source": [
"clc\n",
"//Initialization of variablesx1=5\n",
"x2=20\n",
"x1=5\n",
"n1=7.49\n",
"n2=5.14\n",
"//calculations\n",
"n=(log(n1)-log(n2))/(log(100-x1) - log(100-x2))\n",
"//results\n",
"printf('Order of the reaction  = %.2f',n)"
   ]
   }
,
{
		   "cell_type": "markdown",
		   "metadata": {},
		   "source": [
			"## Example 17.2: Example_2.sce"
		   ]
		  },
  {
"cell_type": "code",
	   "execution_count": null,
	   "metadata": {
	    "collapsed": true
	   },
	   "outputs": [],
"source": [
"clc\n",
"//Initialization of variables\n",
"p2=169\n",
"p1=363\n",
"t1=410\n",
"t2=880\n",
"//calculations\n",
"ndash=(log(t2) - log(t1))/(log(p1) - log(p2))\n",
"n=ndash+1\n",
"//results\n",
"printf('Order of the reaction = %.2f',n)"
   ]
   }
,
{
		   "cell_type": "markdown",
		   "metadata": {},
		   "source": [
			"## Example 17.3: Example_3.sce"
		   ]
		  },
  {
"cell_type": "code",
	   "execution_count": null,
	   "metadata": {
	    "collapsed": true
	   },
	   "outputs": [],
"source": [
"clc\n",
"//Initialization of variables\n",
"R=1.987 //cal/deg/mol\n",
"k1=4.45*10^-5\n",
"k2=2.52*10^-6\n",
"T1=283+273.2 //K\n",
"T2=356+273.2 //K\n",
"//calculations\n",
"Ea=2.303*R*1.7530 /(1/T1 - 1/T2)\n",
"logZ= log10(k1) +Ea/(2.303*R*T1)\n",
"Z=10^logZ\n",
"//results\n",
"printf('Activation energy = %d cal/mol',Ea)\n",
"printf('\n Z = %.1e lt /mol sec',Z)"
   ]
   }
,
{
		   "cell_type": "markdown",
		   "metadata": {},
		   "source": [
			"## Example 17.5: Example_5.sce"
		   ]
		  },
  {
"cell_type": "code",
	   "execution_count": null,
	   "metadata": {
	    "collapsed": true
	   },
	   "outputs": [],
"source": [
"clc\n",
"//Initialization of variables\n",
"g1=0.661\n",
"g2=0.899\n",
"g3=0.405\n",
"g4=0.803\n",
"g5=0.946\n",
"g6=0.614\n",
"k=1.33\n",
"//calculations\n",
"k0=k*g3/(g1*g2)\n",
"k2=k0*g4*g5/g6\n",
"//results\n",
"printf('Equlibrium constant = %.2f lt/mol min',k2)"
   ]
   }
],
"metadata": {
		  "kernelspec": {
		   "display_name": "Scilab",
		   "language": "scilab",
		   "name": "scilab"
		  },
		  "language_info": {
		   "file_extension": ".sce",
		   "help_links": [
			{
			 "text": "MetaKernel Magics",
			 "url": "https://github.com/calysto/metakernel/blob/master/metakernel/magics/README.md"
			}
		   ],
		   "mimetype": "text/x-octave",
		   "name": "scilab",
		   "version": "0.7.1"
		  }
		 },
		 "nbformat": 4,
		 "nbformat_minor": 0
}
