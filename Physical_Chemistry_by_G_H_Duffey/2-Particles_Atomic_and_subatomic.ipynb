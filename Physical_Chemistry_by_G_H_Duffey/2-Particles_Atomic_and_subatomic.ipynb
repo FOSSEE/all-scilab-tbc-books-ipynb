{
"cells": [
 {
		   "cell_type": "markdown",
	   "metadata": {},
	   "source": [
       "# Chapter 2: Particles Atomic and subatomic"
	   ]
	},
{
		   "cell_type": "markdown",
		   "metadata": {},
		   "source": [
			"## Example 2.2: Example_2.sce"
		   ]
		  },
  {
"cell_type": "code",
	   "execution_count": null,
	   "metadata": {
	    "collapsed": true
	   },
	   "outputs": [],
"source": [
"clc\n",
"//Initialization of variables\n",
"m1=1.008142\n",
"m2=1.008982\n",
"//calculations\n",
"dm=m1-m2\n",
"dt=abs(dm) *931\n",
"//results\n",
"printf('Increase in kinetic energy = %.3f Mev',dt)"
   ]
   }
,
{
		   "cell_type": "markdown",
		   "metadata": {},
		   "source": [
			"## Example 2.3: Example_3.sce"
		   ]
		  },
  {
"cell_type": "code",
	   "execution_count": null,
	   "metadata": {
	    "collapsed": true
	   },
	   "outputs": [],
"source": [
"clc\n",
"//Initialization of variables\n",
"d=8.642 //g/cc\n",
"M=112.41 //g/mol\n",
"ratio=0.01/100\n",
"nb=2400\n",
"//calculations\n",
"n=d*6.02*10^23 /M\n",
"sigma=nb*10^-24\n",
"x=-2.303*log10(ratio) /(sigma*n)\n",
"//results\n",
"printf('Thickness = %.3f cm',x)"
   ]
   }
,
{
		   "cell_type": "markdown",
		   "metadata": {},
		   "source": [
			"## Example 2.4: Example_4.sce"
		   ]
		  },
  {
"cell_type": "code",
	   "execution_count": null,
	   "metadata": {
	    "collapsed": true
	   },
	   "outputs": [],
"source": [
"clc\n",
"//Initialization of variables\n",
"M1=4\n",
"M2=14\n",
"E=-1.2 //Mev\n",
"//calculations\n",
"R1=1.5*10^-13 *(M1)^(1/3)\n",
"R2=1.5*10^-13 *(M2)^(1/3)\n",
"V1=2*7*(4.8*10^-10)^2 /(R1+R2)\n",
"V2=V1/(1.6*10^-6)\n",
"x=(M1+M2)*V2/M2\n",
"//results\n",
"printf('Threshold = %.1f Mev',x)"
   ]
   }
,
{
		   "cell_type": "markdown",
		   "metadata": {},
		   "source": [
			"## Example 2.6: Example_6.sce"
		   ]
		  },
  {
"cell_type": "code",
	   "execution_count": null,
	   "metadata": {
	    "collapsed": true
	   },
	   "outputs": [],
"source": [
"clc\n",
"//Initialization of variables\n",
"t=1622 //years\n",
"per=1 //percent\n",
"//calculations\n",
"Nratio=1-per/100\n",
"x=t*log10(Nratio) / log10(0.5)\n",
"//results\n",
"printf('Time taken = %.1f years',x)"
   ]
   }
],
"metadata": {
		  "kernelspec": {
		   "display_name": "Scilab",
		   "language": "scilab",
		   "name": "scilab"
		  },
		  "language_info": {
		   "file_extension": ".sce",
		   "help_links": [
			{
			 "text": "MetaKernel Magics",
			 "url": "https://github.com/calysto/metakernel/blob/master/metakernel/magics/README.md"
			}
		   ],
		   "mimetype": "text/x-octave",
		   "name": "scilab",
		   "version": "0.7.1"
		  }
		 },
		 "nbformat": 4,
		 "nbformat_minor": 0
}
