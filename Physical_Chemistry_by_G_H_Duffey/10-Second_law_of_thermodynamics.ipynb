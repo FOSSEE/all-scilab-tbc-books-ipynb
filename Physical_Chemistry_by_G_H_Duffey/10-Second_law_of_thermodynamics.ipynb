{
"cells": [
 {
		   "cell_type": "markdown",
	   "metadata": {},
	   "source": [
       "# Chapter 10: Second law of thermodynamics"
	   ]
	},
{
		   "cell_type": "markdown",
		   "metadata": {},
		   "source": [
			"## Example 10.1: Example_1.sce"
		   ]
		  },
  {
"cell_type": "code",
	   "execution_count": null,
	   "metadata": {
	    "collapsed": true
	   },
	   "outputs": [],
"source": [
"clc\n",
"//Initialization of variables\n",
"T2=100+273.2 //K\n",
"T1=50+273.2 //K\n",
"n=1 //mol\n",
"R=1.987 //cal/deg mol\n",
"//calculations\n",
"dS=5/2 *n*R*2.303*log10(T2/T1)\n",
"//results\n",
"printf('Change in entropy = %.3f eu',dS)"
   ]
   }
,
{
		   "cell_type": "markdown",
		   "metadata": {},
		   "source": [
			"## Example 10.3: Example_3.sce"
		   ]
		  },
  {
"cell_type": "code",
	   "execution_count": null,
	   "metadata": {
	    "collapsed": true
	   },
	   "outputs": [],
"source": [
"clc\n",
"//Initialization of variables\n",
"H=380 //cal\n",
"T=273.2+32.1 //K\n",
"//calculations\n",
"dS=H/T\n",
"//results\n",
"printf('Entropy change = %.2f eu',dS)"
   ]
   }
,
{
		   "cell_type": "markdown",
		   "metadata": {},
		   "source": [
			"## Example 10.5: Example_5.sce"
		   ]
		  },
  {
"cell_type": "code",
	   "execution_count": null,
	   "metadata": {
	    "collapsed": true
	   },
	   "outputs": [],
"source": [
"clc\n",
"//Initialization of variables\n",
"Ha=0\n",
"Hb=0\n",
"//calculations\n",
"H=Ha+Hb\n",
"q=H\n",
"U=0\n",
"w=q-H\n",
"//results\n",
"printf('Work done = %d',w)"
   ]
   }
,
{
		   "cell_type": "markdown",
		   "metadata": {},
		   "source": [
			"## Example 10.6: Example_6.sce"
		   ]
		  },
  {
"cell_type": "code",
	   "execution_count": null,
	   "metadata": {
	    "collapsed": true
	   },
	   "outputs": [],
"source": [
"clc\n",
"//Initialization of variables\n",
"prob=0.001\n",
"R=1\n",
"N=6.023*10^23\n",
"//calculations\n",
"dS=1.987*2.303*log10(prob) /N\n",
"//results\n",
"printf('change in entropy = %.1e eu',dS)"
   ]
   }
,
{
		   "cell_type": "markdown",
		   "metadata": {},
		   "source": [
			"## Example 10.7: Example_7.sce"
		   ]
		  },
  {
"cell_type": "code",
	   "execution_count": null,
	   "metadata": {
	    "collapsed": true
	   },
	   "outputs": [],
"source": [
"clc\n",
"//Initialization of variables\n",
"T=373.2 //K\n",
"c=1.987 //cal/deg\n",
"//calculations\n",
"w=c*T\n",
"A=-w\n",
"//results\n",
"printf('Change in A = %d cal',A)"
   ]
   }
],
"metadata": {
		  "kernelspec": {
		   "display_name": "Scilab",
		   "language": "scilab",
		   "name": "scilab"
		  },
		  "language_info": {
		   "file_extension": ".sce",
		   "help_links": [
			{
			 "text": "MetaKernel Magics",
			 "url": "https://github.com/calysto/metakernel/blob/master/metakernel/magics/README.md"
			}
		   ],
		   "mimetype": "text/x-octave",
		   "name": "scilab",
		   "version": "0.7.1"
		  }
		 },
		 "nbformat": 4,
		 "nbformat_minor": 0
}
