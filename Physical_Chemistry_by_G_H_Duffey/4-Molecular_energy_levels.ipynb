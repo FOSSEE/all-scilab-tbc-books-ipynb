{
"cells": [
 {
		   "cell_type": "markdown",
	   "metadata": {},
	   "source": [
       "# Chapter 4: Molecular energy levels"
	   ]
	},
{
		   "cell_type": "markdown",
		   "metadata": {},
		   "source": [
			"## Example 4.1: Example_1.sce"
		   ]
		  },
  {
"cell_type": "code",
	   "execution_count": null,
	   "metadata": {
	    "collapsed": true
	   },
	   "outputs": [],
"source": [
"clc\n",
"//initialization of variables\n",
"B=10.34 //cm^-1\n",
"c=2.998*10^10 //cm/s\n",
"h=6.625*10^-27 //erg sec\n",
"//calculations\n",
"I=h/(8*%pi^2 *B*c)\n",
"//results\n",
"printf('Moment of inertia = %.2e g cm^2',I)"
   ]
   }
,
{
		   "cell_type": "markdown",
		   "metadata": {},
		   "source": [
			"## Example 4.2: Example_2.sce"
		   ]
		  },
  {
"cell_type": "code",
	   "execution_count": null,
	   "metadata": {
	    "collapsed": true
	   },
	   "outputs": [],
"source": [
"clc\n",
"//Initialization of variables\n",
"ma=1.0080\n",
"mb=35.457\n",
"Na=6.0232*10^23\n",
"I=2.707*10^-40 //g cm^2\n",
"//calculations\n",
"mu1=ma*mb/(ma+mb)\n",
"mu2=mu1/Na\n",
"r=sqrt(I/mu2)\n",
"//results\n",
"printf('Bond length = %.2e cm',r)"
   ]
   }
,
{
		   "cell_type": "markdown",
		   "metadata": {},
		   "source": [
			"## Example 4.3: Example_3.sce"
		   ]
		  },
  {
"cell_type": "code",
	   "execution_count": null,
	   "metadata": {
	    "collapsed": true
	   },
	   "outputs": [],
"source": [
"clc\n",
"//Initialization of variables\n",
"c=2.998*10^10 //cm/s\n",
"wave=2990 //cm^-1\n",
"mu=1.627*10^-24 //g\n",
"//calculations\n",
"k=mu*(2*%pi*c*wave)^2\n",
"//results\n",
"printf('Force constant = %.2e dynes/cm',k)"
   ]
   }
,
{
		   "cell_type": "markdown",
		   "metadata": {},
		   "source": [
			"## Example 4.4: Example_4.sce"
		   ]
		  },
  {
"cell_type": "code",
	   "execution_count": null,
	   "metadata": {
	    "collapsed": true
	   },
	   "outputs": [],
"source": [
"clc\n",
"//initialization of variables\n",
"l1=2886 //cm^-1\n",
"l2=5668 //cm^-1\n",
"//calculations\n",
"wave=2*l1-l2 \n",
"wave2= wave+l1\n",
"x=wave/(2*wave2)\n",
"//results\n",
"printf('anharmonicity constant = %.4f ',x)"
   ]
   }
],
"metadata": {
		  "kernelspec": {
		   "display_name": "Scilab",
		   "language": "scilab",
		   "name": "scilab"
		  },
		  "language_info": {
		   "file_extension": ".sce",
		   "help_links": [
			{
			 "text": "MetaKernel Magics",
			 "url": "https://github.com/calysto/metakernel/blob/master/metakernel/magics/README.md"
			}
		   ],
		   "mimetype": "text/x-octave",
		   "name": "scilab",
		   "version": "0.7.1"
		  }
		 },
		 "nbformat": 4,
		 "nbformat_minor": 0
}
