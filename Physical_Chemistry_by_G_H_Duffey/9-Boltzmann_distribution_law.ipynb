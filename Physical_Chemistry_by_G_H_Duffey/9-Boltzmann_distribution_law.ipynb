{
"cells": [
 {
		   "cell_type": "markdown",
	   "metadata": {},
	   "source": [
       "# Chapter 9: Boltzmann distribution law"
	   ]
	},
{
		   "cell_type": "markdown",
		   "metadata": {},
		   "source": [
			"## Example 9.1: Example_1.sce"
		   ]
		  },
  {
"cell_type": "code",
	   "execution_count": null,
	   "metadata": {
	    "collapsed": true
	   },
	   "outputs": [],
"source": [
"clc\n",
"//Initialization of variables\n",
"r=2.1*10^-6 //cm\n",
"n=889\n",
"x=0.1 //cm\n",
"T=298.2 //K\n",
"//calculations\n",
"V=4/3 *%pi *r^3\n",
"rho=19.3-1\n",
"ffd=rho*V*980.7\n",
"eps=ffd*x\n",
"logN=-6.96*10^-14 /(2.303*1.38*10^-16 *T)\n",
"N=10^logN *n\n",
"//results\n",
"printf('No. of particles = %d ',N+1)"
   ]
   }
,
{
		   "cell_type": "markdown",
		   "metadata": {},
		   "source": [
			"## Example 9.2: Example_2.sce"
		   ]
		  },
  {
"cell_type": "code",
	   "execution_count": null,
	   "metadata": {
	    "collapsed": true
	   },
	   "outputs": [],
"source": [
"clc\n",
"//Initialization of variables\n",
"x=1 //percent\n",
"wave=1595 //cm^-1\n",
"//calculations\n",
"E=2.8593*wave\n",
"Nratio=(100-x)/x\n",
"logN=log10(Nratio)\n",
"T=E/(2.303*1.987*logN)\n",
"//results\n",
"printf('Temperature = %d K',T)"
   ]
   }
],
"metadata": {
		  "kernelspec": {
		   "display_name": "Scilab",
		   "language": "scilab",
		   "name": "scilab"
		  },
		  "language_info": {
		   "file_extension": ".sce",
		   "help_links": [
			{
			 "text": "MetaKernel Magics",
			 "url": "https://github.com/calysto/metakernel/blob/master/metakernel/magics/README.md"
			}
		   ],
		   "mimetype": "text/x-octave",
		   "name": "scilab",
		   "version": "0.7.1"
		  }
		 },
		 "nbformat": 4,
		 "nbformat_minor": 0
}
