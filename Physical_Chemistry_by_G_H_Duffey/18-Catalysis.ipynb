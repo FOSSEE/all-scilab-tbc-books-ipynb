{
"cells": [
 {
		   "cell_type": "markdown",
	   "metadata": {},
	   "source": [
       "# Chapter 18: Catalysis"
	   ]
	},
{
		   "cell_type": "markdown",
		   "metadata": {},
		   "source": [
			"## Example 18.1: Example_1.sce"
		   ]
		  },
  {
"cell_type": "code",
	   "execution_count": null,
	   "metadata": {
	    "collapsed": true
	   },
	   "outputs": [],
"source": [
"clc\n",
"//Initialization of variables\n",
"V1=0.284 //cm^3 /g\n",
"V2=1.43 //cm^3 /g\n",
"P1=142.4 //mm\n",
"P2=760 //mm\n",
"//calculations\n",
"z=(1/V1 - 1/V2)/(1/P1 - 1/P2)\n",
"invVm=1/V2 - z/P2\n",
"Vm=1/invVm\n",
"//results\n",
"printf('Volume = %.1f cm^3/g',Vm)\n",
"//The answer in the textbook is a bit different due to rounding off error."
   ]
   }
,
{
		   "cell_type": "markdown",
		   "metadata": {},
		   "source": [
			"## Example 18.2: Example_2.sce"
		   ]
		  },
  {
"cell_type": "code",
	   "execution_count": null,
	   "metadata": {
	    "collapsed": true
	   },
	   "outputs": [],
"source": [
"clc\n",
"//Initialization of variables\n",
"Vm=2.86 //cc/g\n",
"P=1 //atm\n",
"R=82.06 //cm^3 atm/deg mol\n",
"T=273.2 //deg\n",
"N=6.023*10^23\n",
"sigma=16.2*10^-16 //cm^2 /molecule\n",
"//calculations\n",
"n=P*Vm/(R*T)\n",
"A=N*n*sigma\n",
"//results\n",
"printf('total area = %.2e cm^2 (g catalyst)^-1',A)"
   ]
   }
],
"metadata": {
		  "kernelspec": {
		   "display_name": "Scilab",
		   "language": "scilab",
		   "name": "scilab"
		  },
		  "language_info": {
		   "file_extension": ".sce",
		   "help_links": [
			{
			 "text": "MetaKernel Magics",
			 "url": "https://github.com/calysto/metakernel/blob/master/metakernel/magics/README.md"
			}
		   ],
		   "mimetype": "text/x-octave",
		   "name": "scilab",
		   "version": "0.7.1"
		  }
		 },
		 "nbformat": 4,
		 "nbformat_minor": 0
}
