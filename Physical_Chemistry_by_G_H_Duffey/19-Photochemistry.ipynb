{
"cells": [
 {
		   "cell_type": "markdown",
	   "metadata": {},
	   "source": [
       "# Chapter 19: Photochemistry"
	   ]
	},
{
		   "cell_type": "markdown",
		   "metadata": {},
		   "source": [
			"## Example 19.1: Example_1.sce"
		   ]
		  },
  {
"cell_type": "code",
	   "execution_count": null,
	   "metadata": {
	    "collapsed": true
	   },
	   "outputs": [],
"source": [
"clc\n",
"//Initialization of variables\n",
"r1=0.727\n",
"r2=0.407\n",
"//calculations\n",
"r3=r1*r2\n",
"//results\n",
"printf('Overall transmittance = %.3f',r3)"
   ]
   }
,
{
		   "cell_type": "markdown",
		   "metadata": {},
		   "source": [
			"## Example 19.2: Example_2.sce"
		   ]
		  },
  {
"cell_type": "code",
	   "execution_count": null,
	   "metadata": {
	    "collapsed": true
	   },
	   "outputs": [],
"source": [
"clc\n",
"//Initialization of variables\n",
"r=0.450\n",
"c=0.02 //M\n",
"l=4 //cm\n",
"//calculations\n",
"e=-log10(r) /(c*l)\n",
"//results\n",
"printf('Extinction coefficient = %.2f litres mole^-1 cm^-1',e)"
   ]
   }
,
{
		   "cell_type": "markdown",
		   "metadata": {},
		   "source": [
			"## Example 19.3: Example_3.sce"
		   ]
		  },
  {
"cell_type": "code",
	   "execution_count": null,
	   "metadata": {
	    "collapsed": true
	   },
	   "outputs": [],
"source": [
"clc\n",
"//Initialization of variables\n",
"r1=0.850\n",
"r2=0.50\n",
"//calculations\n",
"Da=-log10(r1)\n",
"Db=-log10(r2)\n",
"D=Da+Db\n",
"r3=10^(-D)\n",
"//results\n",
"printf('Transmittance of solution = %.3f ',r3)"
   ]
   }
,
{
		   "cell_type": "markdown",
		   "metadata": {},
		   "source": [
			"## Example 19.4: Example_4.sce"
		   ]
		  },
  {
"cell_type": "code",
	   "execution_count": null,
	   "metadata": {
	    "collapsed": true
	   },
	   "outputs": [],
"source": [
"clc\n",
"//Initialization of variables\n",
"c=0.000025 //M\n",
"l=2 //cm\n",
"D=0.417\n",
"//calculations\n",
"e=D/(c*l)\n",
"//result\n",
"printf('Extinction coefficient = %d liters mole^-1 cm^-1',e)"
   ]
   }
,
{
		   "cell_type": "markdown",
		   "metadata": {},
		   "source": [
			"## Example 19.5: Example_5.sce"
		   ]
		  },
  {
"cell_type": "code",
	   "execution_count": null,
	   "metadata": {
	    "collapsed": true
	   },
	   "outputs": [],
"source": [
"clc\n",
"//Initialization of variables\n",
"c=0.5 //M\n",
"c1=0.000025 //M\n",
"D2=0.280\n",
"D1=0.417\n",
"//calculations\n",
"c2=D2*c1/(D1)\n",
"dC=c1-c2\n",
"SCN=c- 6*c2 -4*dC\n",
"K=dC*SCN^2 /c2\n",
"//results\n",
"printf('Kc for dissociation = %.2f M^2',K)"
   ]
   }
,
{
		   "cell_type": "markdown",
		   "metadata": {},
		   "source": [
			"## Example 19.6: Example_6.sce"
		   ]
		  },
  {
"cell_type": "code",
	   "execution_count": null,
	   "metadata": {
	    "collapsed": true
	   },
	   "outputs": [],
"source": [
"clc\n",
"//Initialization of variables\n",
"D2=0.249\n",
"D1=0.172\n",
"a2=0.00752\n",
"a1=0.00527\n",
"//calculations\n",
"m=(log(D2) -log(D1))/(log(a2) - log(a1))\n",
"//results\n",
"printf('m = %.2f ',m)"
   ]
   }
,
{
		   "cell_type": "markdown",
		   "metadata": {},
		   "source": [
			"## Example 19.7: Example_7.sce"
		   ]
		  },
  {
"cell_type": "code",
	   "execution_count": null,
	   "metadata": {
	    "collapsed": true
	   },
	   "outputs": [],
"source": [
"clc\n",
"//Initialization of variables\n",
"c=0.1 //M\n",
"V=100 //ml\n",
"v1=25 //ml\n",
"D=0.980\n",
"d1=0.090\n",
"d2=0.150\n",
"//calculations\n",
"a=v1*c/V\n",
"b=(V-v1)*c/V\n",
"Da=a*d1/c\n",
"Db=b*d2/c\n",
"Ddash=Da+Db\n",
"dD=D-Ddash\n",
"//results\n",
"printf('Increase in optical density = %.3f',dD)"
   ]
   }
,
{
		   "cell_type": "markdown",
		   "metadata": {},
		   "source": [
			"## Example 19.8: Example_8.sce"
		   ]
		  },
  {
"cell_type": "code",
	   "execution_count": null,
	   "metadata": {
	    "collapsed": true
	   },
	   "outputs": [],
"source": [
"clc\n",
"//Initialization of variables\n",
"E=50000 //cal/mol\n",
"//calculations\n",
"lam=2.8593/E\n",
"//results\n",
"printf('For the reaction to occur lambda < %d A',lam*10^8)"
   ]
   }
,
{
		   "cell_type": "markdown",
		   "metadata": {},
		   "source": [
			"## Example 19.9: Example_9.sce"
		   ]
		  },
  {
"cell_type": "code",
	   "execution_count": null,
	   "metadata": {
	    "collapsed": true
	   },
	   "outputs": [],
"source": [
"clc\n",
"//Initialization of variables\n",
"lam=3000*10^-8 //cm\n",
"yield=0.420\n",
"Et=70000 //cal\n",
"//calculations\n",
"E=2.8593/lam\n",
"n=yield*Et/E\n",
"//results\n",
"printf('Amount of reactant disappeared = %.3f mol',n)"
   ]
   }
],
"metadata": {
		  "kernelspec": {
		   "display_name": "Scilab",
		   "language": "scilab",
		   "name": "scilab"
		  },
		  "language_info": {
		   "file_extension": ".sce",
		   "help_links": [
			{
			 "text": "MetaKernel Magics",
			 "url": "https://github.com/calysto/metakernel/blob/master/metakernel/magics/README.md"
			}
		   ],
		   "mimetype": "text/x-octave",
		   "name": "scilab",
		   "version": "0.7.1"
		  }
		 },
		 "nbformat": 4,
		 "nbformat_minor": 0
}
