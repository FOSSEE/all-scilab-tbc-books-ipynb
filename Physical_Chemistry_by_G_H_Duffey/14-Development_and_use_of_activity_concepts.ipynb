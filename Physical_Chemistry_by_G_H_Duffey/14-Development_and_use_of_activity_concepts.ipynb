{
"cells": [
 {
		   "cell_type": "markdown",
	   "metadata": {},
	   "source": [
       "# Chapter 14: Development and use of activity concepts"
	   ]
	},
{
		   "cell_type": "markdown",
		   "metadata": {},
		   "source": [
			"## Example 14.10: Example_10.sce"
		   ]
		  },
  {
"cell_type": "code",
	   "execution_count": null,
	   "metadata": {
	    "collapsed": true
	   },
	   "outputs": [],
"source": [
"clc\n",
"//Initialization of variables\n",
"m1=0.1 //m\n",
"m2=0.1 //m\n",
"K=1.754*10^-5 //m\n",
"//calculations\n",
"mu=0.5*(m1*1^2 + m2*1^2)\n",
"disp('From table 14.5,')\n",
"aH=9 //A\n",
"aA=4.5 //A\n",
"disp('From table 14.6')\n",
"gH=0.825\n",
"gA=0.775\n",
"gHA=1\n",
"x1=gHA*K/(gH*gA)\n",
"disp('Assuming x to be small w.r.t m1,')\n",
"x=sqrt(x1*m1)\n",
"//results\n",
"printf('Concentration of H plus ions = %.2e m',x)"
   ]
   }
,
{
		   "cell_type": "markdown",
		   "metadata": {},
		   "source": [
			"## Example 14.11: Example_11.sce"
		   ]
		  },
  {
"cell_type": "code",
	   "execution_count": null,
	   "metadata": {
	    "collapsed": true
	   },
	   "outputs": [],
"source": [
"clc\n",
"//Initialization of variables\n",
"K=1.754*10^-5 //m\n",
"c=0.1\n",
"//calculations\n",
"disp('Neglecting x w.r.t c,')\n",
"x2=K\n",
"x=sqrt(K)\n",
"mu=x\n",
"disp('From tables 14-5 and 14-6,')\n",
"gH=0.963\n",
"gA=0.960\n",
"x22=K/(gH*gA)\n",
"a=poly(0,'a');\n",
"p=a^2 +a*x22 -c*x22\n",
"z=roots(p)\n",
"alpha=z(2)\n",
"//results\n",
"printf('concentration of H plus ions = %.2e m',alpha)"
   ]
   }
,
{
		   "cell_type": "markdown",
		   "metadata": {},
		   "source": [
			"## Example 14.12: Example_12.sce"
		   ]
		  },
  {
"cell_type": "code",
	   "execution_count": null,
	   "metadata": {
	    "collapsed": true
	   },
	   "outputs": [],
"source": [
"clc\n",
"//Initialization of variables\n",
"disp('From table 14.3')\n",
"K1=-13.5089\n",
"K2=-22.9792\n",
"K3=19.2218\n",
"c=0.1 //m\n",
"//calculations\n",
"logK=K1-K2-K3\n",
"K=10^logK\n",
"mu=0.5*(c*1^2 + c*1^2)\n",
"disp('From tables 14-5 and 14-6,')\n",
"gAg=0.745\n",
"gCl=0.755\n",
"x2=K/(gAg*gCl)\n",
"x=sqrt(x2)\n",
"//results\n",
"printf('Solubility of Agcl = %.2e m',x)"
   ]
   }
,
{
		   "cell_type": "markdown",
		   "metadata": {},
		   "source": [
			"## Example 14.13: Example_13.sce"
		   ]
		  },
  {
"cell_type": "code",
	   "execution_count": null,
	   "metadata": {
	    "collapsed": true
	   },
	   "outputs": [],
"source": [
"clc\n",
"//Initialization of variables\n",
"Cna=0.11\n",
"Ccl=0.1\n",
"//calculations\n",
"x=poly(0,'x');\n",
"p=99*x^2 - 2.1*x+Cna*Ccl\n",
"z=roots(p)\n",
"alpha=z(2)\n",
"Na1=Cna-10*alpha\n",
"Cl1=Ccl-10*alpha\n",
"//results\n",
"printf(' Concentration of Na in 1  = %.4f M',Na1)\n",
"printf('\n Concentration of Cl in 1  = %.4f M',Cl1)\n",
"printf('\n Concentration of Na in 2  = %.4f M',alpha)\n",
"printf('\n Concentration of Cl in 2  = %.4f M',alpha)"
   ]
   }
,
{
		   "cell_type": "markdown",
		   "metadata": {},
		   "source": [
			"## Example 14.1: Example_1.sce"
		   ]
		  },
  {
"cell_type": "code",
	   "execution_count": null,
	   "metadata": {
	    "collapsed": true
	   },
	   "outputs": [],
"source": [
"clc\n",
"//Initialization of variables\n",
"x1=0.0200\n",
"Kx=812\n",
"//calculations\n",
"disp('Neglecting 2x in comparision with x1,')\n",
"x=x1/Kx\n",
"//results\n",
"printf('Moles of Iodine present = %.2e mole',x)"
   ]
   }
,
{
		   "cell_type": "markdown",
		   "metadata": {},
		   "source": [
			"## Example 14.2: Example_2.sce"
		   ]
		  },
  {
"cell_type": "code",
	   "execution_count": null,
	   "metadata": {
	    "collapsed": true
	   },
	   "outputs": [],
"source": [
"clc\n",
"//Initialization of variables\n",
"Kc=1.749*10^-5 //M\n",
"n1=0.1 //mole\n",
"n2=0.01 //mole\n",
"//calculations\n",
"c=n1/n2 *Kc\n",
"//results\n",
"printf('Concentration of Hplus ions = %.1e M',c)"
   ]
   }
,
{
		   "cell_type": "markdown",
		   "metadata": {},
		   "source": [
			"## Example 14.3: Example_3.sce"
		   ]
		  },
  {
"cell_type": "code",
	   "execution_count": null,
	   "metadata": {
	    "collapsed": true
	   },
	   "outputs": [],
"source": [
"clc\n",
"//Initialization of variables\n",
"c=0.01 //M\n",
"kc=1.749*10^-5 //M\n",
"//calculations\n",
"x2=c*kc\n",
"x=sqrt(x2)\n",
"//results\n",
"printf('Concentraton of Hplus ions = %.1e M',x)"
   ]
   }
,
{
		   "cell_type": "markdown",
		   "metadata": {},
		   "source": [
			"## Example 14.4: Example_4.sce"
		   ]
		  },
  {
"cell_type": "code",
	   "execution_count": null,
	   "metadata": {
	    "collapsed": true
	   },
	   "outputs": [],
"source": [
"clc\n",
"//Initialization of variables\n",
"K2=1.0008*10^-14 //m^2\n",
"K1=1.754*10^-5 //m\n",
"c=0.1\n",
"//calculations\n",
"disp('Neglecting x w.r.t c,')\n",
"x2=c*K2/K1\n",
"x=sqrt(x2)\n",
"//results\n",
"printf('Concentration of OH minus ions = %.1e m',x)"
   ]
   }
,
{
		   "cell_type": "markdown",
		   "metadata": {},
		   "source": [
			"## Example 14.5: Example_5.sce"
		   ]
		  },
  {
"cell_type": "code",
	   "execution_count": null,
	   "metadata": {
	    "collapsed": true
	   },
	   "outputs": [],
"source": [
"clc\n",
"//Initialization of variables\n",
"disp('from table 14.1,')\n",
"r1=7.47*10^-5 //m\n",
"r2=4.57*10^-3 //m\n",
"mp=1.008*10^-14 //m^2\n",
"//calculations\n",
"r3=r2/r1\n",
"mH2=r3*mp\n",
"mH=sqrt(mH2)\n",
"//results\n",
"printf('Concentraton of Hplus ions = %.2e M',mH)"
   ]
   }
,
{
		   "cell_type": "markdown",
		   "metadata": {},
		   "source": [
			"## Example 14.6: Example_6.sce"
		   ]
		  },
  {
"cell_type": "code",
	   "execution_count": null,
	   "metadata": {
	    "collapsed": true
	   },
	   "outputs": [],
"source": [
"clc\n",
"//Initialization of variables\n",
"disp('from table 14.1,')\n",
"r1=1.75*10^-5 //m\n",
"r2=1.772*10^-4 //m\n",
"mp=1.008*10^-14 //m^2\n",
"//calculations\n",
"r3=r2/r1\n",
"mH2=r3*mp\n",
"mH=sqrt(mH2)\n",
"//results\n",
"printf('Concentraton of Hplus ions = %.1e M',mH)"
   ]
   }
,
{
		   "cell_type": "markdown",
		   "metadata": {},
		   "source": [
			"## Example 14.7: example_7.sce"
		   ]
		  },
  {
"cell_type": "code",
	   "execution_count": null,
	   "metadata": {
	    "collapsed": true
	   },
	   "outputs": [],
"source": [
"clc\n",
"//Initialization of variables\n",
"c=1*10^-6 //m\n",
"K=1.754*10^-5 //m\n",
"Kp=1.008*10^-14 //m^2\n",
"//calculations\n",
"mH=c\n",
"//Iteration 1\n",
"mOH=Kp/mH\n",
"mA=mH-mOH\n",
"mHA=mH*mA/K\n",
"mH2=mH-mHA+mOH\n",
"//Iteration 2\n",
"mOH2=Kp/mH2\n",
"mA2=mH2-mOH2\n",
"mHA2=mH2*mA2/K\n",
"mH3=mH2-mHA2+mOH2\n",
"//From x2\n",
"x2=sqrt(Kp)\n",
"x1=c\n",
"mOH3=Kp/x2\n",
"y2=x1\n",
"//From x1\n",
"mOH4=Kp/c\n",
"mA4=mH-mOH4\n",
"mHA4=mH*mA4/K\n",
"y1=c-mHA4-mA4\n",
"//upon further iterations, we get\n",
"mHplus=mH3\n",
"//results\n",
"printf('Concentration of H plus ions = %.2e m',mHplus)\n",
"//The answer is a bit different due to rounding off error."
   ]
   }
,
{
		   "cell_type": "markdown",
		   "metadata": {},
		   "source": [
			"## Example 14.8: Example_8.sce"
		   ]
		  },
  {
"cell_type": "code",
	   "execution_count": null,
	   "metadata": {
	    "collapsed": true
	   },
	   "outputs": [],
"source": [
"clc\n",
"//Initialization of variableH\n",
"disp('From table 14-3,')\n",
"HH=0\n",
"HHcoo=-98\n",
"HHcooh=-98\n",
"SH=0\n",
"SHcoo=21.9\n",
"SHcooh=39.1\n",
"KH=0\n",
"KHcoo=58.64\n",
"KHcooh=62.38\n",
"//calculationH\n",
"dH=HH+HHcoo-HHcooh\n",
"dS=SH+SHcoo-SHcooh\n",
"dK=KH+KHcoo-KHcooh\n",
"K=10^dK\n",
"//results\n",
"printf(' dS0 = %.1f eu',dS)\n",
"printf('\n dH0 = %.1f kcal',dH)\n",
"printf('\n log Krm = %.2f ',dK)\n",
"printf('\n Krm = %.1e m',K)"
   ]
   }
,
{
		   "cell_type": "markdown",
		   "metadata": {},
		   "source": [
			"## Example 14.9: Example_9.sce"
		   ]
		  },
  {
"cell_type": "code",
	   "execution_count": null,
	   "metadata": {
	    "collapsed": true
	   },
	   "outputs": [],
"source": [
"clc\n",
"//Initialization of variables\n",
"mca=0.01 //m\n",
"mcl=0.02 //m\n",
"//calculations\n",
"Mu=0.5*(mca*4 + mcl*1)\n",
"disp('From table 14-5,')\n",
"aca=6 //A\n",
"acl=3 //A\n",
"disp('From table 14-6,')\n",
"gaca=0.555 \n",
"gacl=0.843\n",
"Aca=gaca*mca\n",
"Acl=gacl*mcl\n",
"//results\n",
"printf('Activity of cl = %.4f ',Acl)\n",
"printf('\n Activity of ca = %.4f ',Aca)"
   ]
   }
],
"metadata": {
		  "kernelspec": {
		   "display_name": "Scilab",
		   "language": "scilab",
		   "name": "scilab"
		  },
		  "language_info": {
		   "file_extension": ".sce",
		   "help_links": [
			{
			 "text": "MetaKernel Magics",
			 "url": "https://github.com/calysto/metakernel/blob/master/metakernel/magics/README.md"
			}
		   ],
		   "mimetype": "text/x-octave",
		   "name": "scilab",
		   "version": "0.7.1"
		  }
		 },
		 "nbformat": 4,
		 "nbformat_minor": 0
}
