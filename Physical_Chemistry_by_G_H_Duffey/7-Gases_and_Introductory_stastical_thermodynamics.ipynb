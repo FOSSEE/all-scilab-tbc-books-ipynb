{
"cells": [
 {
		   "cell_type": "markdown",
	   "metadata": {},
	   "source": [
       "# Chapter 7: Gases and Introductory stastical thermodynamics"
	   ]
	},
{
		   "cell_type": "markdown",
		   "metadata": {},
		   "source": [
			"## Example 7.2: Example_2.sce"
		   ]
		  },
  {
"cell_type": "code",
	   "execution_count": null,
	   "metadata": {
	    "collapsed": true
	   },
	   "outputs": [],
"source": [
"clc\n",
"//Initialization of variables\n",
"h=76 //cm\n",
"d=13.5951 //g/cc\n",
"g=980.655 //cm/s^2\n",
"T=273.15 //K\n",
"v=22414.6 //cm^3 /mol\n",
"//calculations\n",
"P=h*d*g\n",
"R=P*v/(T)\n",
"//results\n",
"printf('Gas constant = %.3e ergs/deg. mol',R)"
   ]
   }
,
{
		   "cell_type": "markdown",
		   "metadata": {},
		   "source": [
			"## Example 7.3: Example_3.sce"
		   ]
		  },
  {
"cell_type": "code",
	   "execution_count": null,
	   "metadata": {
	    "collapsed": true
	   },
	   "outputs": [],
"source": [
"clc\n",
"//Initialization of variables\n",
"cal=4.184*10^7 //ergs\n",
"R=8.315*10^7 //ergs/deg/mol\n",
"//calculations\n",
"Rdash=R/cal\n",
"//results\n",
"printf('R in calories = %.3f cal/ deg mol',Rdash)"
   ]
   }
,
{
		   "cell_type": "markdown",
		   "metadata": {},
		   "source": [
			"## Example 7.4: Example_4.sce"
		   ]
		  },
  {
"cell_type": "code",
	   "execution_count": null,
	   "metadata": {
	    "collapsed": true
	   },
	   "outputs": [],
"source": [
"clc\n",
"//Initialization of variables\n",
"R=8.315*10^7 //ergs/deg/mol\n",
"T=273.2 //deg\n",
"M=4 //g/mol\n",
"//calculations\n",
"u2=3*T*R/M\n",
"u=sqrt(u2)\n",
"//results\n",
"printf('root mean square velocity = %.2e cm/sec',u)"
   ]
   }
,
{
		   "cell_type": "markdown",
		   "metadata": {},
		   "source": [
			"## Example 7.5: Example_5.sce"
		   ]
		  },
  {
"cell_type": "code",
	   "execution_count": null,
	   "metadata": {
	    "collapsed": true
	   },
	   "outputs": [],
"source": [
"clc\n",
"//Initialization of variables\n",
"n1=2\n",
"n2=10\n",
"n3=3\n",
"P=720 //mm of Hg\n",
"//calculations\n",
"n=n1+n2+n3\n",
"x1=n1/n\n",
"P1=x1*P\n",
"x2=n2/n\n",
"P2=x2*P\n",
"x3=n3/n\n",
"P3=x3*P\n",
"//results\n",
"printf('\n Partial pressure of N2 = %d mm',P1)\n",
"printf('\n Partial pressure of O2 = %d mm',P2)\n",
"printf('\n Partial pressure of CO2 = %d mm',P3)"
   ]
   }
,
{
		   "cell_type": "markdown",
		   "metadata": {},
		   "source": [
			"## Example 7.6: Example_6.sce"
		   ]
		  },
  {
"cell_type": "code",
	   "execution_count": null,
	   "metadata": {
	    "collapsed": true
	   },
	   "outputs": [],
"source": [
"clc\n",
"//Initialization of variables\n",
"T=273.2+25 //K\n",
"n=1 //mol\n",
"R=1.987 //cal/deg mol\n",
"//calculations\n",
"Etr=1.5*n*R*T\n",
"Erot=1.5*n*R*T\n",
"Evib=0\n",
"Eel=0\n",
"Etot=Etr+Erot+Evib+Eel\n",
"//results\n",
"printf('Total energy = %d cal',Etot)"
   ]
   }
,
{
		   "cell_type": "markdown",
		   "metadata": {},
		   "source": [
			"## Example 7.7: Example_7.sce"
		   ]
		  },
  {
"cell_type": "code",
	   "execution_count": null,
	   "metadata": {
	    "collapsed": true
	   },
	   "outputs": [],
"source": [
"clc\n",
"//Initialization of variables\n",
"b=24.1 //cm^2/mol\n",
"N=6.023*10^23 //mole^-1\n",
"//calculations\n",
"d=(3*b/(2*%pi*N))^(1/3)\n",
"//results\n",
"printf('Molecular diameter of He = %.2e cm',d)"
   ]
   }
,
{
		   "cell_type": "markdown",
		   "metadata": {},
		   "source": [
			"## Example 7.8: Example_8.sce"
		   ]
		  },
  {
"cell_type": "code",
	   "execution_count": null,
	   "metadata": {
	    "collapsed": true
	   },
	   "outputs": [],
"source": [
"clc\n",
"//Initialization of variables\n",
"P=100 //atm\n",
"T=200 //K\n",
"n=1 //mole\n",
"R=0.08206 //l atm/deg mol\n",
"disp('From psychrometric charts,')\n",
"Tc=126.2 //K\n",
"Pc=33.5 //K\n",
"//calculations\n",
"Pr=P/Pc\n",
"Tr=T/Tc\n",
"disp('From z charts,')\n",
"z=0.83\n",
"V=z*n*R*T/P\n",
"//results\n",
"printf('Volume = %.3f liter',V)"
   ]
   }
],
"metadata": {
		  "kernelspec": {
		   "display_name": "Scilab",
		   "language": "scilab",
		   "name": "scilab"
		  },
		  "language_info": {
		   "file_extension": ".sce",
		   "help_links": [
			{
			 "text": "MetaKernel Magics",
			 "url": "https://github.com/calysto/metakernel/blob/master/metakernel/magics/README.md"
			}
		   ],
		   "mimetype": "text/x-octave",
		   "name": "scilab",
		   "version": "0.7.1"
		  }
		 },
		 "nbformat": 4,
		 "nbformat_minor": 0
}
