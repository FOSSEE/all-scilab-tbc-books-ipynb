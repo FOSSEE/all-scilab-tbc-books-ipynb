{
"cells": [
 {
		   "cell_type": "markdown",
	   "metadata": {},
	   "source": [
       "# Chapter 7: electromagnetic waves"
	   ]
	},
{
		   "cell_type": "markdown",
		   "metadata": {},
		   "source": [
			"## Example 7.1: Energy_of_plane_wave.sce"
		   ]
		  },
  {
"cell_type": "code",
	   "execution_count": null,
	   "metadata": {
	    "collapsed": true
	   },
	   "outputs": [],
"source": [
"//Example 7.1 // Energy of plane wave\n",
"clc;\n",
"clear;\n",
"//given data :\n",
"u=(4D-7*%pi);// permeability(free space) in H/m\n",
"e=8.85D-12;// permitivity(free space) in Farad/m\n",
"H=1;// magnetic field in amp/m\n",
"E=H*sqrt(u/e);// formula to calculate\n",
"disp(E,'magnitude of Energy of plane wave in V/m')"
   ]
   }
,
{
		   "cell_type": "markdown",
		   "metadata": {},
		   "source": [
			"## Example 7.2: impedence_of_medium_and_peak_magnetic_field.sce"
		   ]
		  },
  {
"cell_type": "code",
	   "execution_count": null,
	   "metadata": {
	    "collapsed": true
	   },
	   "outputs": [],
"source": [
"//Example 7.2\n",
"clc;\n",
"clear;\n",
"// 1st part //impedence of medium\n",
"ur=1;//relative permeability\n",
"er=2;//relative permitivity\n",
"uo=(4D-7*%pi);// permeability(free space) in H/m\n",
"eo=8.85D-12;// permitivity(free space) in Farad/m\n",
"u=ur*uo;//permeability(medium) in H/m\n",
"e=er*eo;//permitivity(medium) in Farad/m\n",
"Z=sqrt(u/e);// impedence of medium\n",
"disp(Z,'impedence of medium in ohm')\n",
"// 2nd part //peak magnetic field intensity\n",
"Eo=5;//peak electric field strength in V/m\n",
"Ho=Eo/Z;// Intensity of magnetic field in A/m\n",
"disp(Ho,'Intensity of magnetic field in A/m')\n",
"// 3rd part //velocity of electromagnetic wave\n",
"v=1/sqrt(u*e);//velocity in m/s\n",
"disp(v,'velocity of magnetic field in m/s')"
   ]
   }
,
{
		   "cell_type": "markdown",
		   "metadata": {},
		   "source": [
			"## Example 7.3: wavelength_of_wave_and_amplitude_of_magnetic_field.sce"
		   ]
		  },
  {
"cell_type": "code",
	   "execution_count": null,
	   "metadata": {
	    "collapsed": true
	   },
	   "outputs": [],
"source": [
"//Example 7.3\n",
"clc;\n",
"clear;\n",
"// 1st part //wavelength of wave\n",
"f=3D11;//frequency of wave in Hz\n",
"c=3D8;// speed of light in m/s\n",
"w=c/f;// wavelength in m\n",
"disp(w,'wavelength of wave in m')\n",
"// 2nd part // amplitude of Oscillating magnetic field\n",
"Eo=50;// amplitude of electric field in V/m\n",
"Bo=Eo/c;// ocillating magnetic field in Tesla\n",
"format('e',10);Bo\n",
"disp(Bo,'approx amplitude of oscillating magnetic field in T')"
   ]
   }
,
{
		   "cell_type": "markdown",
		   "metadata": {},
		   "source": [
			"## Example 7.4: solar_energy.sce"
		   ]
		  },
  {
"cell_type": "code",
	   "execution_count": null,
	   "metadata": {
	    "collapsed": true
	   },
	   "outputs": [],
"source": [
"//Example 7.4 // solar energy\n",
"clc;\n",
"clear;\n",
"//given data :\n",
"r=1.5D11;//distance from sun to earth\n",
"P=3.8D26;//power radiated by sun\n",
"N=P/(4*%pi*(r^2));// poyting vector (average energy)\n",
"N=N*60/4.2D4 ;//to convert watt/m2 into cal/cm2.min\n",
"N=ceil(N);\n",
"disp(N,' average solar energy in cal/cm2.min')"
   ]
   }
,
{
		   "cell_type": "markdown",
		   "metadata": {},
		   "source": [
			"## Example 7.5: Dielelctric_constant.sce"
		   ]
		  },
  {
"cell_type": "code",
	   "execution_count": null,
	   "metadata": {
	    "collapsed": true
	   },
	   "outputs": [],
"source": [
"//Example 7.5 // Dielelctric constant\n",
"clc;\n",
"clear;\n",
"//given data :\n",
"v=.62;// velocity factor of coaxial\n",
"Er=1/v^2;// relative permittivity constant\n",
"disp(Er,'dielectric constant of insulator')"
   ]
   }
],
"metadata": {
		  "kernelspec": {
		   "display_name": "Scilab",
		   "language": "scilab",
		   "name": "scilab"
		  },
		  "language_info": {
		   "file_extension": ".sce",
		   "help_links": [
			{
			 "text": "MetaKernel Magics",
			 "url": "https://github.com/calysto/metakernel/blob/master/metakernel/magics/README.md"
			}
		   ],
		   "mimetype": "text/x-octave",
		   "name": "scilab",
		   "version": "0.7.1"
		  }
		 },
		 "nbformat": 4,
		 "nbformat_minor": 0
}
