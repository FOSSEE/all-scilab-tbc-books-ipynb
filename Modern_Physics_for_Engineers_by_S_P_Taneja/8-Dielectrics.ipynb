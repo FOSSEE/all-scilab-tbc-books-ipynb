{
"cells": [
 {
		   "cell_type": "markdown",
	   "metadata": {},
	   "source": [
       "# Chapter 8: Dielectrics"
	   ]
	},
{
		   "cell_type": "markdown",
		   "metadata": {},
		   "source": [
			"## Example 8.1: polarisation_and_Energy_density.sce"
		   ]
		  },
  {
"cell_type": "code",
	   "execution_count": null,
	   "metadata": {
	    "collapsed": true
	   },
	   "outputs": [],
"source": [
"//Example 8.1 // Dielectric\n",
"clc;\n",
"clear;\n",
"//given data :\n",
"k=3;// Dielectric constant\n",
"E=1D6;// field intensity in V/m2\n",
"e=8.85D-12;// permitivity in C2/N.m2\n",
"P=e*(k-1)*E;// polarisation in C/m2\n",
"disp(P,'polarisation in C/m2')\n",
"D=k*e*E;// displacement vector in C/m2\n",
"disp(D,'Displacement in C/m2')\n",
"ED=.5*k*e*E^2;// Energy Density in Joules/m3\n",
"disp(ED,'Energy density in joules/m3')"
   ]
   }
,
{
		   "cell_type": "markdown",
		   "metadata": {},
		   "source": [
			"## Example 8.2: Dipole_moment_of_slab.sce"
		   ]
		  },
  {
"cell_type": "code",
	   "execution_count": null,
	   "metadata": {
	    "collapsed": true
	   },
	   "outputs": [],
"source": [
"//Example 8.2 // Dipole moment of slab\n",
"clc;\n",
"clear;\n",
"//given data :\n",
"D=5D-4;// displacement vector magnitude in m2\n",
"P=4D-4;// Polarisation  vector magnitude  in m2\n",
"E=D-P;// Field Intensity in m2\n",
"V=.5;// volume of slab in m3 \n",
"k=D/E;// dielectric contant \n",
"p=P*V;//total dipole moment in m5\n",
"disp(k,'Dielectric constant')\n",
"disp(p,'total dipole contant in m5')"
   ]
   }
,
{
		   "cell_type": "markdown",
		   "metadata": {},
		   "source": [
			"## Example 8.3: electric_susceptibility.sce"
		   ]
		  },
  {
"cell_type": "code",
	   "execution_count": null,
	   "metadata": {
	    "collapsed": true
	   },
	   "outputs": [],
"source": [
"//Example 8.3 // electric susceptibility\n",
"clc;\n",
"clear;\n",
"//given data :\n",
"k=1.000038;//dielectric constant\n",
"x=k-1;//electric susceptibility\n",
"disp(x,'electric susceptibility')"
   ]
   }
,
{
		   "cell_type": "markdown",
		   "metadata": {},
		   "source": [
			"## Example 8.4: Dipole_moment.sce"
		   ]
		  },
  {
"cell_type": "code",
	   "execution_count": null,
	   "metadata": {
	    "collapsed": true
	   },
	   "outputs": [],
"source": [
"//Example 8.4 // Dipole moment\n",
"clc;\n",
"clear;\n",
"//given data :\n",
"E=100;// Field Intensity in V/m\n",
"k=1.000074;// dielectric contant\n",
"e=8.85D-12;// permitivity in Farad/m\n",
"p=22.4D-3;// dipole moment\n",
"N=6D23/(22.4D-3);// no. of atoms per unit volume at NTP\n",
"p=e*(k-1)*E/N;//  dipole moment in C-m\n",
"disp(p,'total moment in C-m')"
   ]
   }
],
"metadata": {
		  "kernelspec": {
		   "display_name": "Scilab",
		   "language": "scilab",
		   "name": "scilab"
		  },
		  "language_info": {
		   "file_extension": ".sce",
		   "help_links": [
			{
			 "text": "MetaKernel Magics",
			 "url": "https://github.com/calysto/metakernel/blob/master/metakernel/magics/README.md"
			}
		   ],
		   "mimetype": "text/x-octave",
		   "name": "scilab",
		   "version": "0.7.1"
		  }
		 },
		 "nbformat": 4,
		 "nbformat_minor": 0
}
