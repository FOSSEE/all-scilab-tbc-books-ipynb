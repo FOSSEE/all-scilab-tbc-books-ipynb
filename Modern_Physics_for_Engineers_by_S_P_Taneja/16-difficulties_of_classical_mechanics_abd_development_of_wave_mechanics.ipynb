{
"cells": [
 {
		   "cell_type": "markdown",
	   "metadata": {},
	   "source": [
       "# Chapter 16: difficulties of classical mechanics abd development of wave mechanics"
	   ]
	},
{
		   "cell_type": "markdown",
		   "metadata": {},
		   "source": [
			"## Example 16.1: de_broglie_wavelength.sce"
		   ]
		  },
  {
"cell_type": "code",
	   "execution_count": null,
	   "metadata": {
	    "collapsed": true
	   },
	   "outputs": [],
"source": [
"//Example 16.1 //de-broglie wavelength \n",
"clc;\n",
"clear;\n",
"//given data :\n",
"h=6.62D-34;// plank's constant in joules-sec\n",
"m=9.1D-31;// mass of electron in Kg\n",
"V=1.25D3;// Potential difference in kV\n",
"E=V*1.6D-19;// energy associated to potential in joule\n",
"lamda=h/sqrt(2*m*E);// formula to calculate\n",
"disp(lamda,'de broglie wavelength in m ')\n",
"\n",
"//in book it is  wronglly calculated"
   ]
   }
,
{
		   "cell_type": "markdown",
		   "metadata": {},
		   "source": [
			"## Example 16.2: Energy_of_Neutrons.sce"
		   ]
		  },
  {
"cell_type": "code",
	   "execution_count": null,
	   "metadata": {
	    "collapsed": true
	   },
	   "outputs": [],
"source": [
"//Example 16.2 //Energy of Neutrons  \n",
"clc;\n",
"clear;\n",
"//given data :\n",
"m=1.674D-27;// mass of neutron in kg\n",
"h=6.60D-34;// plank's constant in joules-sec\n",
"lamda=1D-10;// de-broglie wavelength in m\n",
"E=h^2/(2*m*lamda^2);// energy of neutrons in joules\n",
"E=E/1.6D-19;// to convert in eV\n",
"disp(E,'energy of neutons in eV')"
   ]
   }
,
{
		   "cell_type": "markdown",
		   "metadata": {},
		   "source": [
			"## Example 16.3: frequency_and_energy_of_photon.sce"
		   ]
		  },
  {
"cell_type": "code",
	   "execution_count": null,
	   "metadata": {
	    "collapsed": true
	   },
	   "outputs": [],
"source": [
"//Example 16.3 //frequency & energy of photon \n",
"clc;\n",
"clear;\n",
"//given data :\n",
"lamda=4D-7;// de-Broglie wavelength in m\n",
"c=3D8;// speed of light in m/s\n",
"h=6.62D-34;// plank's constant in joules-sec\n",
"v=c/lamda;// frequency of photon in Hz\n",
"E=h*v;// energy in joules\n",
"E=E/1.6D-19;// Energy in eV\n",
"disp(v,'frequency of photon in Hz')\n",
"disp(E,'Energy of Photon in eV')"
   ]
   }
,
{
		   "cell_type": "markdown",
		   "metadata": {},
		   "source": [
			"## Example 16.4: de_broglie_wavelength_of_neutrons.sce"
		   ]
		  },
  {
"cell_type": "code",
	   "execution_count": null,
	   "metadata": {
	    "collapsed": true
	   },
	   "outputs": [],
"source": [
"//Example 16.4 //de-broglie wavelength of neutrons \n",
"clc;\n",
"clear;\n",
"//given data :\n",
"k=1.38D-23;// Boltzmann's Constant in joules per K\n",
"T=27;// temperature in degree\n",
"m=1.67D-27;// mass of neutron in kg\n",
"h=6.62D-34;// plank's constant in joules-sec\n",
"T=T+273;// to convert in K\n",
"lamda=h/sqrt(2*m*k*T);// De-broglie Wavelength in m\n",
"disp(lamda,'De-broglie Wavelength in m')"
   ]
   }
,
{
		   "cell_type": "markdown",
		   "metadata": {},
		   "source": [
			"## Example 16.5: de_broglie_wavelength.sce"
		   ]
		  },
  {
"cell_type": "code",
	   "execution_count": null,
	   "metadata": {
	    "collapsed": true
	   },
	   "outputs": [],
"source": [
"//Example 16.5 //de-broglie wavelength \n",
"clc;\n",
"clear;\n",
"//given data :\n",
"m=1.67D-27;// mass of proton in kg\n",
"h=6.62D-34;// plank's constant in joules-sec\n",
"V=2000;// potential Dfference\n",
"ma=4*m;// mass of alpha particle in kg\n",
"q=2*1.6D-19;// charge on alpha particle\n",
"lamda=h/sqrt(2*ma*q*V);// formula to calculate\n",
"disp(lamda,'de-broglie wavelength in m')"
   ]
   }
,
{
		   "cell_type": "markdown",
		   "metadata": {},
		   "source": [
			"## Example 16.6: energy_of_photoelectrons_emitted.sce"
		   ]
		  },
  {
"cell_type": "code",
	   "execution_count": null,
	   "metadata": {
	    "collapsed": true
	   },
	   "outputs": [],
"source": [
"//Example 16.6 //energy of photoelectrons emitted\n",
"clc;\n",
"clear;\n",
"//given data :\n",
"h=6.62D-34;// plank's constant in joules-sec\n",
"c=3D8;//speed of ight\n",
"lamda=6D-7;// Threshlod wavelength in m\n",
"v=6D14;// frequency  in Hz\n",
"E=h*(v-c/lamda);// energy in joules\n",
"E=E/1.6D-19;// to convert in eV\n",
"disp(E,'energy of electrons emitted in eV')"
   ]
   }
],
"metadata": {
		  "kernelspec": {
		   "display_name": "Scilab",
		   "language": "scilab",
		   "name": "scilab"
		  },
		  "language_info": {
		   "file_extension": ".sce",
		   "help_links": [
			{
			 "text": "MetaKernel Magics",
			 "url": "https://github.com/calysto/metakernel/blob/master/metakernel/magics/README.md"
			}
		   ],
		   "mimetype": "text/x-octave",
		   "name": "scilab",
		   "version": "0.7.1"
		  }
		 },
		 "nbformat": 4,
		 "nbformat_minor": 0
}
