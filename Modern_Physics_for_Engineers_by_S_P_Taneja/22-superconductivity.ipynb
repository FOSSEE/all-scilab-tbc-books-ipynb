{
"cells": [
 {
		   "cell_type": "markdown",
	   "metadata": {},
	   "source": [
       "# Chapter 22: superconductivity"
	   ]
	},
{
		   "cell_type": "markdown",
		   "metadata": {},
		   "source": [
			"## Example 22.1: critical_field_and_transition_temperature.sce"
		   ]
		  },
  {
"cell_type": "code",
	   "execution_count": null,
	   "metadata": {
	    "collapsed": true
	   },
	   "outputs": [],
"source": [
"//Example 22.1 // critical field & transition temperature\n",
"clc;\n",
"clear;\n",
"//given data :\n",
"T=4.2;//to calculate critical field at T (kelvin)\n",
"Hc1=1.4D5;// critical magnetic field in amp/m\n",
"Hc2=4.2D5;//critical magnetic field in amp/m\n",
"T1=14;//temperature in kelvin\n",
"T2=13;//temperature ]in kevin \n",
"Tc=sqrt(.5*((T2^2-T1^2)*(Hc1+Hc2)/(Hc1-Hc2)+T1^2+T2^2));// transition temperature\n",
"H=Hc1/(1-(T1/Tc)^2);//field at 0 degree\n",
"Hc=H*(1-(T/Tc)^2)\n",
"disp(Tc,'transition temperature in kelvin')\n",
"disp(Hc,'Critical field at T in amp/m')\n",
"\n",
"//little error due to approximations in book"
   ]
   }
,
{
		   "cell_type": "markdown",
		   "metadata": {},
		   "source": [
			"## Example 22.2: critical_temperature.sce"
		   ]
		  },
  {
"cell_type": "code",
	   "execution_count": null,
	   "metadata": {
	    "collapsed": true
	   },
	   "outputs": [],
"source": [
"//Example 22.2 // critical temperature\n",
"clc;\n",
"clear;\n",
"//given data :\n",
"Tc1=4.185;//critical temperature in kelvin\n",
"M=199.5;// isotropic mass \n",
"M1=203.4;//isotropic mass\n",
"Tc2=Tc1*(M/M1)^.5;// formula\n",
"disp(Tc2,'critical temperature in kelvin') "
   ]
   }
,
{
		   "cell_type": "markdown",
		   "metadata": {},
		   "source": [
			"## Example 22.3: critical_current_density.sce"
		   ]
		  },
  {
"cell_type": "code",
	   "execution_count": null,
	   "metadata": {
	    "collapsed": true
	   },
	   "outputs": [],
"source": [
"//Example 22.3 // critical current density\n",
"clc;\n",
"clear;\n",
"//given data :\n",
"d=1D-3;//diameter of wire in m\n",
"Ho=6.5D4;//critical field at temperature at 0k\n",
"Tc=7.18;// critical temperature in kelvin\n",
"T=4.2;//temperature in kelvin\n",
"Hc=Ho*(1-(T/Tc)^2);//critical field at T kelvin\n",
"Jc=4*Hc/d;//formula\n",
"disp(Jc,'critical current density in A/m2')"
   ]
   }
,
{
		   "cell_type": "markdown",
		   "metadata": {},
		   "source": [
			"## Example 22.4: penetration_depth.sce"
		   ]
		  },
  {
"cell_type": "code",
	   "execution_count": null,
	   "metadata": {
	    "collapsed": true
	   },
	   "outputs": [],
"source": [
"//Example 22.4 // penetration depth\n",
"clc;\n",
"clear;\n",
"//given data :\n",
"w=750;// penetration depth in A\n",
"T=3.5;// temperature in kelvin\n",
"Tc=4.12;// critical temperature in kelvin\n",
"d=13.55D3;//density of mercury\n",
"N=6.023D23;// avogadro number\n",
"M=200D-3;//molecular weight in kg \n",
"wo=w*(1-(T/Tc)^4)^.5;//formula\n",
"disp(wo,'penetration depth in A(angstrom)')\n",
"//n0=d*N/M;//normal electron density at 0 degre\n",
"//n=n0*(1-(T/Tc)^4);//electron density at T\n",
"//disp(n)\n",
"\n",
"//according to question the answer is upto Wo only.\n",
"\n",
"\n",
""
   ]
   }
],
"metadata": {
		  "kernelspec": {
		   "display_name": "Scilab",
		   "language": "scilab",
		   "name": "scilab"
		  },
		  "language_info": {
		   "file_extension": ".sce",
		   "help_links": [
			{
			 "text": "MetaKernel Magics",
			 "url": "https://github.com/calysto/metakernel/blob/master/metakernel/magics/README.md"
			}
		   ],
		   "mimetype": "text/x-octave",
		   "name": "scilab",
		   "version": "0.7.1"
		  }
		 },
		 "nbformat": 4,
		 "nbformat_minor": 0
}
