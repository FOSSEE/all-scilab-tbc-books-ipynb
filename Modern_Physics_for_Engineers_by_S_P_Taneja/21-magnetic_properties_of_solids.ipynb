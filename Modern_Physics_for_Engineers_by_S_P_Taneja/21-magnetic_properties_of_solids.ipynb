{
"cells": [
 {
		   "cell_type": "markdown",
	   "metadata": {},
	   "source": [
       "# Chapter 21: magnetic properties of solids"
	   ]
	},
{
		   "cell_type": "markdown",
		   "metadata": {},
		   "source": [
			"## Example 21.1: electron_spin_magnetic_dipole_moment.sce"
		   ]
		  },
  {
"cell_type": "code",
	   "execution_count": null,
	   "metadata": {
	    "collapsed": true
	   },
	   "outputs": [],
"source": [
"//Example 21.1 // electron spin magnetic dipole moment \n",
"clc;\n",
"clear;\n",
"//given data :\n",
"ub=5.6D-5;//electron spin magnetic moment in eV\n",
"kbT=1/40;//approximate value kb(constant) & at room temperature  in eV\n",
"u=ub/kbT;//formula\n",
"if(u<1)\n",
"    disp(u,'electron spin magnetic dipole moment & kbT/ub>>1')\n",
"    \n",
"   else\n",
"       disp(u,'kbT/ub<<1 so it is  wrong')\n",
"       end"
   ]
   }
,
{
		   "cell_type": "markdown",
		   "metadata": {},
		   "source": [
			"## Example 21.2: diamagnetic_susceptibility.sce"
		   ]
		  },
  {
"cell_type": "code",
	   "execution_count": null,
	   "metadata": {
	    "collapsed": true
	   },
	   "outputs": [],
"source": [
"//Example 21.2 // diamagnetic susceptibility \n",
"clc;\n",
"clear;\n",
"//given data :\n",
"r=.53D-8;//(mean radius)bohr radius in cm\n",
"N=27D23;//atomic density in per cm2\n",
"k=2.8D-13//k=e2/mc2constants e-electron m-mass c=speed of light in cm\n",
"X=-2*(N*k/6)*r^2;//formula for 2 electrons\n",
"disp(X,'diamagnetic susceptibility of helium atom')"
   ]
   }
],
"metadata": {
		  "kernelspec": {
		   "display_name": "Scilab",
		   "language": "scilab",
		   "name": "scilab"
		  },
		  "language_info": {
		   "file_extension": ".sce",
		   "help_links": [
			{
			 "text": "MetaKernel Magics",
			 "url": "https://github.com/calysto/metakernel/blob/master/metakernel/magics/README.md"
			}
		   ],
		   "mimetype": "text/x-octave",
		   "name": "scilab",
		   "version": "0.7.1"
		  }
		 },
		 "nbformat": 4,
		 "nbformat_minor": 0
}
