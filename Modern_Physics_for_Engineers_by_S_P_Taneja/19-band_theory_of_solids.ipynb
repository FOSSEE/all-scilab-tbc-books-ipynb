{
"cells": [
 {
		   "cell_type": "markdown",
	   "metadata": {},
	   "source": [
       "# Chapter 19: band theory of solids"
	   ]
	},
{
		   "cell_type": "markdown",
		   "metadata": {},
		   "source": [
			"## Example 19.1: density_of_electrons_and_holes.sce"
		   ]
		  },
  {
"cell_type": "code",
	   "execution_count": null,
	   "metadata": {
	    "collapsed": true
	   },
	   "outputs": [],
"source": [
" //Example 19.1 // density of electrons and holes \n",
"clc;\n",
"clear;\n",
"//given data :\n",
"//2(2%pikm/h2)^1.5=p(assume) it is a constant\n",
"p=4.83D21;//constant\n",
"T=300;//temperature in kelvin\n",
"E=.7;//semiconductor with gap in eV\n",
"k=1.38D-23;// Boltzmann constant\n",
"d=k*T/1.6D-19;// to convert in eV\n",
"ni=p*((300)^1.5)*exp(-1*E/d);//formula for concentration of intrinsic charge carrier\n",
"disp(ni,'density of electrons and holes in per m3')\n",
"// in book it is wrongly calculated"
   ]
   }
,
{
		   "cell_type": "markdown",
		   "metadata": {},
		   "source": [
			"## Example 19.2: position_of_fermi_level.sce"
		   ]
		  },
  {
"cell_type": "code",
	   "execution_count": null,
	   "metadata": {
	    "collapsed": true
	   },
	   "outputs": [],
"source": [
"//Example 19.2 // position of fermi level \n",
"clc;\n",
"clear;\n",
"//given data :\n",
"//2(2%pikm/h2)^1.5=p(assume) it is a constant\n",
"p=4.83D21;//constant\n",
"nd=5D22;// concentration of donor atoms in atoms/m3\n",
"T=300;// temperature  in kelvin\n",
"k=1.38D-23;// Boltzmann constant\n",
"E=k*T*log(p*T^1.5/nd);//formula for calcilation\n",
"E=E/1.6D-19;//to convert in eV\n",
"disp(E,'position of fermi level in eV')"
   ]
   }
,
{
		   "cell_type": "markdown",
		   "metadata": {},
		   "source": [
			"## Example 19.3: position_of_fermi_level.sce"
		   ]
		  },
  {
"cell_type": "code",
	   "execution_count": null,
	   "metadata": {
	    "collapsed": true
	   },
	   "outputs": [],
"source": [
"//Example 19.3 // position of fermi level \n",
"clc;\n",
"clear;\n",
"//given data :\n",
"Eo=.3;// initial position in eV\n",
"T=300;//initially temperature in kelvin\n",
"T1=330;// final temperature in kelvin\n",
"E=Eo*T1/T;// (formula to calculate) final position in eV\n",
"disp(E,'new position of fermi level in eV')"
   ]
   }
,
{
		   "cell_type": "markdown",
		   "metadata": {},
		   "source": [
			"## Example 19.4: Hall_coefficient_and_Hall_voltage.sce"
		   ]
		  },
  {
"cell_type": "code",
	   "execution_count": null,
	   "metadata": {
	    "collapsed": true
	   },
	   "outputs": [],
"source": [
"//Example 19.4 // Hall coefficient Hall voltage  \n",
"clc;\n",
"clear;\n",
"//given data :\n",
"p=4.83D21;//constant\n",
"a=.428D-9;// unil cell side in m\n",
"E=.15;// fermi level in eV\n",
"k=1.38D-23;// Boltzmann constant\n",
"h=6.626D-34;// plank constant in J-s\n",
"T=300;// temperature in kelvin\n",
"me=9.1D-31;// mass of electron in kg\n",
"me1=.014*me;// effective mass in kg\n",
"mh=.18*me;// effective mass of hole\n",
"I=.1;// current in Amp\n",
"B=.1;// magnetic field in tesla\n",
"b=1D-3;// width of speciman in m\n",
"n=2/a^3;// no. of atoms per unit volume\n",
"d=k*T/1.6D-19;// to convert in eV\n",
"e=1.6D-19;// charge of electron  \n",
"R=1/(n*e);// Hall constant\n",
"disp(R,'Hall coefficient for sodium in m3/C')\n",
"// in second part InSb\n",
"n1=2*((2*%pi*k*T/h^2)^1.5)*((me1*mh)^(3/4))*exp(-1*.15/(2*d));\n",
"// formula for concentration in per m3\n",
"R1=1/(n1*e);// Hall coefficient in m3/C\n",
"V=R*I*B/b;//  Hall  voltage in V\n",
"V1=R1*I*B/b// Hall voltage\n",
"disp(V,'Hall voltage of sodium')\n",
"disp(R1,'Hall coefficient for Insb in m3/C')\n",
"disp(V1,'Hall Voltage of Insb')\n",
"\n",
"\n",
""
   ]
   }
,
{
		   "cell_type": "markdown",
		   "metadata": {},
		   "source": [
			"## Example 19.5: energy_of_electron.sce"
		   ]
		  },
  {
"cell_type": "code",
	   "execution_count": null,
	   "metadata": {
	    "collapsed": true
	   },
	   "outputs": [],
"source": [
"//Example 19.5 // energy of electron \n",
"clc;\n",
"clear;\n",
"//given data :\n",
"h=6.626D-34;// plank constant in J-s\n",
"a=.3D-9;// unit cell width in m \n",
"p=h/(2*a);// electron momentum\n",
"m=9.1D-31;// mass of electron in Kg\n",
"E=p^2/(m*2);// formula for energy\n",
"disp(p,'electron momentum in Kg m/s')\n",
"E=E/1.6D-19;// ro convert in ev\n",
"disp(E,'energy of electron at this momentum in eV')"
   ]
   }
],
"metadata": {
		  "kernelspec": {
		   "display_name": "Scilab",
		   "language": "scilab",
		   "name": "scilab"
		  },
		  "language_info": {
		   "file_extension": ".sce",
		   "help_links": [
			{
			 "text": "MetaKernel Magics",
			 "url": "https://github.com/calysto/metakernel/blob/master/metakernel/magics/README.md"
			}
		   ],
		   "mimetype": "text/x-octave",
		   "name": "scilab",
		   "version": "0.7.1"
		  }
		 },
		 "nbformat": 4,
		 "nbformat_minor": 0
}
