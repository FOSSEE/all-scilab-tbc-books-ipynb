{
"cells": [
 {
		   "cell_type": "markdown",
	   "metadata": {},
	   "source": [
       "# Chapter 18: free electron theory"
	   ]
	},
{
		   "cell_type": "markdown",
		   "metadata": {},
		   "source": [
			"## Example 18.1: Fermi_Energy.sce"
		   ]
		  },
  {
"cell_type": "code",
	   "execution_count": null,
	   "metadata": {
	    "collapsed": true
	   },
	   "outputs": [],
"source": [
"//Example 18.1 //Fermi Energy \n",
"clc;\n",
"clear;\n",
"//given data :\n",
"P=.971D3;// density in Kg/m3\n",
"N=6D26;// Avogadro number in atoms/Kg-mole\n",
"W=22.99;//atomic weigh of sodium\n",
"a=N*P/W;// electron density\n",
"m=9.1D-31;// mass of electron in kg\n",
"h=6.626D-34;// plank's constant in joules-sec\n",
"E=((h^2)/(2*m))*(3*a/%pi)^(2/3);// fermi energy in J\n",
"disp(E,'Fermi energy in J')\n",
"//in book formula taken wrongly"
   ]
   }
,
{
		   "cell_type": "markdown",
		   "metadata": {},
		   "source": [
			"## Example 18.2: Energy_difference.sce"
		   ]
		  },
  {
"cell_type": "code",
	   "execution_count": null,
	   "metadata": {
	    "collapsed": true
	   },
	   "outputs": [],
"source": [
"//Example 18.2 // Energy difference  \n",
"clc;\n",
"clear;\n",
"//given data :\n",
"h=1.0545D-34;// averge Plank's constant in J-s\n",
"m=9.1D-31;// mass of electron in kg\n",
"a=1D-10;// dimension of box in meter\n",
"E1=((h^2)/(2*m))*(%pi/a)^2;//fermi energy of first level in j\n",
"E2=2*((h^2)/(m))*(%pi/a)^2;//fermi energy of second level in J\n",
"D=E2-E1;// difference of energy \n",
"disp(D,'energy difference in J')"
   ]
   }
],
"metadata": {
		  "kernelspec": {
		   "display_name": "Scilab",
		   "language": "scilab",
		   "name": "scilab"
		  },
		  "language_info": {
		   "file_extension": ".sce",
		   "help_links": [
			{
			 "text": "MetaKernel Magics",
			 "url": "https://github.com/calysto/metakernel/blob/master/metakernel/magics/README.md"
			}
		   ],
		   "mimetype": "text/x-octave",
		   "name": "scilab",
		   "version": "0.7.1"
		  }
		 },
		 "nbformat": 4,
		 "nbformat_minor": 0
}
