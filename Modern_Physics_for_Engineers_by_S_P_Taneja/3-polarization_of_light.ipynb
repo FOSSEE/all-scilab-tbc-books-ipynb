{
"cells": [
 {
		   "cell_type": "markdown",
	   "metadata": {},
	   "source": [
       "# Chapter 3: polarization of light"
	   ]
	},
{
		   "cell_type": "markdown",
		   "metadata": {},
		   "source": [
			"## Example 3.10: strength_of_solution.sce"
		   ]
		  },
  {
"cell_type": "code",
	   "execution_count": null,
	   "metadata": {
	    "collapsed": true
	   },
	   "outputs": [],
"source": [
"//Example 3.10 // Strength of solution\n",
"clc;\n",
"clear;\n",
"//given data :\n",
"l=2;//length of solution in decimeter\n",
"theta=12;// angle of rotation in degree\n",
"S=60;//specific rotation in degree\n",
"C=theta/(S*l);// concentration in gm/cc\n",
"disp(C,'strength of solution in gm/cc')"
   ]
   }
,
{
		   "cell_type": "markdown",
		   "metadata": {},
		   "source": [
			"## Example 3.11: optical_thickness_of_quarter_wave_plate.sce"
		   ]
		  },
  {
"cell_type": "code",
	   "execution_count": null,
	   "metadata": {
	    "collapsed": true
	   },
	   "outputs": [],
"source": [
"//Example 3.5 // Thickness of quarter wave plate\n",
"clc;\n",
"clear;\n",
"//given data :\n",
"b=.172;//bifringe of plate\n",
"w=6D-7;// wavelength of light used in m\n",
"t=w/(4*(b));//thickness of  in m\n",
"t=t*100;// to convert in cm\n",
"disp(t,'thickness of quarter wave plate in cm')"
   ]
   }
,
{
		   "cell_type": "markdown",
		   "metadata": {},
		   "source": [
			"## Example 3.1: angle_of_refraction.sce"
		   ]
		  },
  {
"cell_type": "code",
	   "execution_count": null,
	   "metadata": {
	    "collapsed": true
	   },
	   "outputs": [],
"source": [
"//Example 3.1 // Angle of Polarization\n",
"clc;\n",
"clear;\n",
"//given data :\n",
"u=1.54;//refractive index of glass\n",
"i=atan(u);//incidence angle in radian\n",
"r=%pi/2 -i;//refraction angle  in radian brewester's law\n",
"r=r*180/%pi;// to convert in degree\n",
"disp(r,'angle of refraction in degree')"
   ]
   }
,
{
		   "cell_type": "markdown",
		   "metadata": {},
		   "source": [
			"## Example 3.2: refractive_index_of_glass.sce"
		   ]
		  },
  {
"cell_type": "code",
	   "execution_count": null,
	   "metadata": {
	    "collapsed": true
	   },
	   "outputs": [],
"source": [
"//Example 3.2 // Refractive index of glass\n",
"clc;\n",
"clear;\n",
"//given data :\n",
"i=%pi/3;// incidence angle in radian\n",
"//reflected and refracted rays are perpendicular to each other\n",
"u=tan(i);//Refractive  index\n",
"disp(u,'Refractive index of glass')"
   ]
   }
,
{
		   "cell_type": "markdown",
		   "metadata": {},
		   "source": [
			"## Example 3.3: thickness_of_refracting_crystal.sce"
		   ]
		  },
  {
"cell_type": "code",
	   "execution_count": null,
	   "metadata": {
	    "collapsed": true
	   },
	   "outputs": [],
"source": [
"//Example 3.3 // Thickness of doubly refracting crystal\n",
"clc;\n",
"clear;\n",
"//given data :\n",
"Uo=1.55;//refractive index for O ray\n",
"Ue=1.54;//refractive index for E ray\n",
"w=6D-7;// wavelength of light used in m\n",
"p=w/2;// path difference in m\n",
"t=w/(2*(Uo-Ue));//thickness of  in m\n",
"disp(t*1D2,'thickness of doubly refracting crystal in cm') "
   ]
   }
,
{
		   "cell_type": "markdown",
		   "metadata": {},
		   "source": [
			"## Example 3.4: thickness_of_half_wave_plate.sce"
		   ]
		  },
  {
"cell_type": "code",
	   "execution_count": null,
	   "metadata": {
	    "collapsed": true
	   },
	   "outputs": [],
"source": [
"//Example 3.4 // Thickness of half wave plate\n",
"clc;\n",
"//given data :\n",
"Uo=1.54;//Refractive index for Ordinary light\n",
"r=1.007;//ratio of velocity of ordinary to extraordinary\n",
"Ue=r*Uo;//refractive index for extraordinary light\n",
"w=5893D-10;// wavelength of light used in m\n",
"t=w/(2*(Uo-Ue));// thickness of half wave plate in m\n",
"t=abs(t);// thickness always positive\n",
"disp(t,'Thickness of half wave plate in m')"
   ]
   }
,
{
		   "cell_type": "markdown",
		   "metadata": {},
		   "source": [
			"## Example 3.5: thickness_of_quarter_wave_plate.sce"
		   ]
		  },
  {
"cell_type": "code",
	   "execution_count": null,
	   "metadata": {
	    "collapsed": true
	   },
	   "outputs": [],
"source": [
"//Example 3.5 // Thickness of quarter wave plate\n",
"clc;\n",
"clear;\n",
"//given data :\n",
"Uo=1.652;//refractive index for O ray\n",
"Ue=1.488;//refractive index for E ray\n",
"w=546D-9;// wavelength of light used in m\n",
"p=w/2;// path difference in m\n",
"t=w/(4*(Uo-Ue));//thickness of  in m\n",
"t=t*100;// to convert in cm\n",
"disp(t,'thickness of quarter wave plate in cm') "
   ]
   }
,
{
		   "cell_type": "markdown",
		   "metadata": {},
		   "source": [
			"## Example 3.6: thickness_of_calcite_plate.sce"
		   ]
		  },
  {
"cell_type": "code",
	   "execution_count": null,
	   "metadata": {
	    "collapsed": true
	   },
	   "outputs": [],
"source": [
"//Example 3.6 // Thickness of Calcite plate\n",
"clc;\n",
"clear;\n",
"//given data :\n",
"Uo=1.658;//refractive index for O ray\n",
"Ue=1.486;//refractive index for E ray\n",
"w=589D-9;// wavelength of light used in m\n",
"n=1;//integer for odd multiples\n",
"t=(2*n-1)*w/(4*(Uo-Ue));//thickness of Calcite plate in m\n",
"t=t*100;// to convert in cm\n",
"disp(t,'thickness of Calcite plate in cm')"
   ]
   }
,
{
		   "cell_type": "markdown",
		   "metadata": {},
		   "source": [
			"## Example 3.7: amount_of_optical_rotation.sce"
		   ]
		  },
  {
"cell_type": "code",
	   "execution_count": null,
	   "metadata": {
	    "collapsed": true
	   },
	   "outputs": [],
"source": [
"//Example 3.7 // Amount of optical rotation\n",
"clc;\n",
"clear;\n",
"//given data :\n",
"Ur=1.55810;// refractive index for right handed polarized\n",
"Ul=1.55821;//refractive index for left handed polarized\n",
"w=4D-7;//wavelength of light used in m  \n",
"d=.002;// thickness of plate in m\n",
"R=%pi*d*(Ul-Ur)/w;// rotation in radian\n",
"R=R*180/%pi;// to convert in degree\n",
"disp(R,'Amount of optical rotation in degree')\n",
"// in book it is wrongly calculated"
   ]
   }
,
{
		   "cell_type": "markdown",
		   "metadata": {},
		   "source": [
			"## Example 3.8: phase_retardatio.sce"
		   ]
		  },
  {
"cell_type": "code",
	   "execution_count": null,
	   "metadata": {
	    "collapsed": true
	   },
	   "outputs": [],
"source": [
"//Example 3.8 // Phase retardation\n",
"clc;\n",
"clear;\n",
"//given data :\n",
"Uo=1.5508;//refractive index for O ray\n",
"Ue=1.5418;//refractive index for E ray\n",
"w=5D-7;// wavelength of light used in m\n",
"t=.000032;// thickness of plate in m\n",
"p=2*%pi*(Uo-Ue)*t/w;//phase retardation in radian\n",
"disp(p,'phase retardation in radian')"
   ]
   }
,
{
		   "cell_type": "markdown",
		   "metadata": {},
		   "source": [
			"## Example 3.9: specific_rotatio.sce"
		   ]
		  },
  {
"cell_type": "code",
	   "execution_count": null,
	   "metadata": {
	    "collapsed": true
	   },
	   "outputs": [],
"source": [
"//Example 3.9 // Specific rotation\n",
"clc;\n",
"clear;\n",
"//given data :\n",
"theta=6.5;// angle of rotation in degree\n",
"l=2;// length of sugar solution in decimeter\n",
"C=.05;// concentration of sugar solution\n",
"S=theta/(l*C);//specific rotation in degree\n",
"disp(S,'specific rotation of sugar solution in degree')"
   ]
   }
],
"metadata": {
		  "kernelspec": {
		   "display_name": "Scilab",
		   "language": "scilab",
		   "name": "scilab"
		  },
		  "language_info": {
		   "file_extension": ".sce",
		   "help_links": [
			{
			 "text": "MetaKernel Magics",
			 "url": "https://github.com/calysto/metakernel/blob/master/metakernel/magics/README.md"
			}
		   ],
		   "mimetype": "text/x-octave",
		   "name": "scilab",
		   "version": "0.7.1"
		  }
		 },
		 "nbformat": 4,
		 "nbformat_minor": 0
}
