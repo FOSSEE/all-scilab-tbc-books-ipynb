{
"cells": [
 {
		   "cell_type": "markdown",
	   "metadata": {},
	   "source": [
       "# Chapter 5: Fiber Optics"
	   ]
	},
{
		   "cell_type": "markdown",
		   "metadata": {},
		   "source": [
			"## Example 5.1: Numerical_Aperture.sce"
		   ]
		  },
  {
"cell_type": "code",
	   "execution_count": null,
	   "metadata": {
	    "collapsed": true
	   },
	   "outputs": [],
"source": [
"//Example 5.1 \n",
"clc;\n",
"// 1st part //critical angle\n",
"u1=1.48;// refractive index of cladding\n",
"u2=1.5;// refractive index of core\n",
"u=1;// refractive index of air\n",
"theta=asin(u1/u2);// critical angle in radian\n",
"theta=theta*180/%pi;// to convert in degree\n",
"disp(theta,'critical angle in degree')\n",
"// 2nd part //fractional refractive index\n",
"Fr=(u2-u1)/u2;// fractional refractive index\n",
"Fr=Fr*100;// to convert in percent\n",
"disp(Fr,'fractional refractive index in percentage')\n",
"// 3rd part // acceptance angle\n",
"A=asin(sqrt(u2^2-u1^2));// Acceptance angle in radian\n",
"disp(A,'Acceptance angle in radian')\n",
"// 4th part //numerical aperture\n",
"NA=sin(A);// Numerical aperture\n",
"disp(NA,'Numerical aperture ')"
   ]
   }
,
{
		   "cell_type": "markdown",
		   "metadata": {},
		   "source": [
			"## Example 5.2: Number_of_Modes.sce"
		   ]
		  },
  {
"cell_type": "code",
	   "execution_count": null,
	   "metadata": {
	    "collapsed": true
	   },
	   "outputs": [],
"source": [
"//Example 5.2 \n",
"clc;\n",
"// 1st part // V number\n",
"NA=.22;// Numerical aperture\n",
"a=50/2;// radius of core\n",
"w=.850;//wavelength in um\n",
"V=2*%pi*a*NA/w;// V number\n",
"disp(V,'V number')\n",
"// 2nd part // number of modes\n",
"N=(V^2)/4;// number of modes\n",
"disp(N,'number of modes')"
   ]
   }
,
{
		   "cell_type": "markdown",
		   "metadata": {},
		   "source": [
			"## Example 5.3: Refractive_Index.sce"
		   ]
		  },
  {
"cell_type": "code",
	   "execution_count": null,
	   "metadata": {
	    "collapsed": true
	   },
	   "outputs": [],
"source": [
"//Example 5.3 // refractive index  \n",
"clc;\n",
"// given data\n",
"NA=.22;//Numerical Aperature\n",
"Fr=.012;//Fractional refractive index\n",
"u1=NA/sqrt(Fr*(2-Fr));// refractive index of core\n",
"u2=sqrt(u1^2-NA^2);// refractive index of clad\n",
"disp(u1,'Refractive index of core')\n",
"disp(u2,'Refractive index of clad')"
   ]
   }
,
{
		   "cell_type": "markdown",
		   "metadata": {},
		   "source": [
			"## Example 5.4: Numerical_Aperture.sce"
		   ]
		  },
  {
"cell_type": "code",
	   "execution_count": null,
	   "metadata": {
	    "collapsed": true
	   },
	   "outputs": [],
"source": [
"//Example 8.2 // Numerical Aperture & acceptance angle\n",
"clc;\n",
"//given data :\n",
"u1=1.62;//refractive index of core\n",
"u2=1.52;// refractive index of clad\n",
"A=asin(sqrt(u1^2-u2^2));// acceptance angle in radian\n",
"NA=sin(A);// numerical aperture\n",
"A=A*180/%pi;// to convert in degree\n",
"disp(A,'Acceptance angle in degree')\n",
"disp(NA,'Numerical Aperture')"
   ]
   }
],
"metadata": {
		  "kernelspec": {
		   "display_name": "Scilab",
		   "language": "scilab",
		   "name": "scilab"
		  },
		  "language_info": {
		   "file_extension": ".sce",
		   "help_links": [
			{
			 "text": "MetaKernel Magics",
			 "url": "https://github.com/calysto/metakernel/blob/master/metakernel/magics/README.md"
			}
		   ],
		   "mimetype": "text/x-octave",
		   "name": "scilab",
		   "version": "0.7.1"
		  }
		 },
		 "nbformat": 4,
		 "nbformat_minor": 0
}
