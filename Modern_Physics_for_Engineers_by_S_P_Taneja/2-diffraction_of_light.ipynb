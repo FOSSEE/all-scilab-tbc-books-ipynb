{
"cells": [
 {
		   "cell_type": "markdown",
	   "metadata": {},
	   "source": [
       "# Chapter 2: diffraction of light"
	   ]
	},
{
		   "cell_type": "markdown",
		   "metadata": {},
		   "source": [
			"## Example 1.2: wavelength_of_light.sce"
		   ]
		  },
  {
"cell_type": "code",
	   "execution_count": null,
	   "metadata": {
	    "collapsed": true
	   },
	   "outputs": [],
"source": [
"//Example 2.2 // Wavelength of light\n",
"clc;\n",
"clear;\n",
"//given data :\n",
"a=.2D-3;//slit width in m\n",
"D=2;// screen is placed at distance in m\n",
"x=5D-3;// first minima lies at distance to central maxima\n",
"w=(a*x)/D;// wavelength of light in m\n",
"w=w*1D10;// to convert in A\n",
"disp(w,'wavelength of light used in A')\n",
"\n",
""
   ]
   }
,
{
		   "cell_type": "markdown",
		   "metadata": {},
		   "source": [
			"## Example 2.10: difference_of_wavelength.sce"
		   ]
		  },
  {
"cell_type": "code",
	   "execution_count": null,
	   "metadata": {
	    "collapsed": true
	   },
	   "outputs": [],
"source": [
"//Example 2.10 //Difference of wavelengths\n",
"clc;\n",
"clear;\n",
"//given data\n",
"d_theta=.01;// change of diffraction angle\n",
"theta=%pi/6;// diffraction angle\n",
"w=5000;// wavelength used in A\n",
"dw=w*d_theta*cotg(theta)//change of wavelength in A\n",
"disp(dw,'difference of wavelength in A')"
   ]
   }
,
{
		   "cell_type": "markdown",
		   "metadata": {},
		   "source": [
			"## Example 2.11: dispersive_power.sce"
		   ]
		  },
  {
"cell_type": "code",
	   "execution_count": null,
	   "metadata": {
	    "collapsed": true
	   },
	   "outputs": [],
"source": [
"//Example 2.11 // Dispersive power\n",
"clc;\n",
"clear;\n",
"//given data :\n",
"c=1/4000;// grating element\n",
"w=5D-5;// wavelength of light in cm\n",
"n=3;// order of spectrum\n",
"D=n/(c*sqrt(1-((n*w/c)^2)));//dispersive power in radian per cm\n",
"disp(D,'Dispersive power in rad/sec')\n",
"// in book there is calculation mistake"
   ]
   }
,
{
		   "cell_type": "markdown",
		   "metadata": {},
		   "source": [
			"## Example 2.12: resolving_power_and_wavelength.sce"
		   ]
		  },
  {
"cell_type": "code",
	   "execution_count": null,
	   "metadata": {
	    "collapsed": true
	   },
	   "outputs": [],
"source": [
"//Example 2.12 //Difference of wavelengths\n",
"clc;\n",
"clear;\n",
"//part a\n",
"l=5;// length of grating\n",
"N=16000;// no. of lines per inch on the grating\n",
"w=6000;// wavelength used in A\n",
"n=2;// order of specrum\n",
"T=N*l;//total no. of lines on grating\n",
"R=T*n;// resolving power\n",
"disp(R,'resolving power..')\n",
"//part b\n",
"dw=w/(T*n);// wavelength can be resolved in A\n",
"disp(dw,'wavelength can be resolved in A')"
   ]
   }
,
{
		   "cell_type": "markdown",
		   "metadata": {},
		   "source": [
			"## Example 2.13: resolving_power.sce"
		   ]
		  },
  {
"cell_type": "code",
	   "execution_count": null,
	   "metadata": {
	    "collapsed": true
	   },
	   "outputs": [],
"source": [
"//Example 2.14 //Resolving power\n",
"clc;\n",
"clear;\n",
"//given data\n",
"c=12.5D-5;// grating element in cm\n",
"w=5D-5;// wavelength used in cm\n",
"N=40000;//no. of lines on grating\n",
"n=c/w;// order for maximum resolving power\n",
"n=floor(n);//n should be integer\n",
"P=n*N;// maximum resolving power\n",
"disp(P,'Resolving power ')"
   ]
   }
,
{
		   "cell_type": "markdown",
		   "metadata": {},
		   "source": [
			"## Example 2.14: resolving_power.sce"
		   ]
		  },
  {
"cell_type": "code",
	   "execution_count": null,
	   "metadata": {
	    "collapsed": true
	   },
	   "outputs": [],
"source": [
"//Example 2.14 //Resolving power\n",
"clc;\n",
"clear;\n",
"//given data\n",
"c=12.5D-5;// grating element in cm\n",
"w=5D-5;// wavelength used in cm\n",
"N=40000;//no. of lines on grating\n",
"n=c/w;// order for maximum resolving power\n",
"n=floor(n);//n should be integer\n",
"P=n*N;// maximum resolving power\n",
"disp(P,'Resolving power ')"
   ]
   }
,
{
		   "cell_type": "markdown",
		   "metadata": {},
		   "source": [
			"## Example 2.15: radius_of_first_half_of_zone_plate.sce"
		   ]
		  },
  {
"cell_type": "code",
	   "execution_count": null,
	   "metadata": {
	    "collapsed": true
	   },
	   "outputs": [],
"source": [
"//Example 2.14 //Radius of half period element\n",
"clc;\n",
"clear;\n",
"//given data\n",
"f=50;//focal length of convex lens in cm\n",
"w=5D-5;// wavelength used in cm\n",
"n=1;// order of principal maxima\n",
"r=sqrt(n*f*w);// radius of half period element\n",
"disp(r,'Radius of half period element in cm')"
   ]
   }
,
{
		   "cell_type": "markdown",
		   "metadata": {},
		   "source": [
			"## Example 2.16: position_of_spot.sce"
		   ]
		  },
  {
"cell_type": "code",
	   "execution_count": null,
	   "metadata": {
	    "collapsed": true
	   },
	   "outputs": [],
"source": [
"//Example 2.16 //position of brightest spot\n",
"clc;\n",
"clear;\n",
"//given data\n",
"d=.2;// diameter of ring \n",
"n=1;//order of ring \n",
"w=5D-5;//wavelength used in cm\n",
"r=d/2;// radius of ring\n",
"f=(r^2)/(w*n);//position of brightest spot \n",
"disp(f,'position of brightest spot in cm')"
   ]
   }
,
{
		   "cell_type": "markdown",
		   "metadata": {},
		   "source": [
			"## Example 2.17: radii_of_zones.sce"
		   ]
		  },
  {
"cell_type": "code",
	   "execution_count": null,
	   "metadata": {
	    "collapsed": true
	   },
	   "outputs": [],
"source": [
"//Example 2.17 //radii of transparent zone\n",
"clc;\n",
"clear;\n",
"//given data\n",
"f=1;//focal length in m\n",
"n=1;//order of zone\n",
"w=5893D-10;// wavelength used in m\n",
"r=sqrt(n*f*w);//radius of transparent zone\n",
"disp(r,'radius of tranparent in m')\n",
"n=3;//next order\n",
"r=sqrt(n*f*w);//radius of transparent zone\n",
"disp(r,'radius of tranparent in m')\n",
"n=5;//next order\n",
"r=sqrt(n*f*w);//radius of transparent zone\n",
"disp(r,'radius of tranparent in m')"
   ]
   }
,
{
		   "cell_type": "markdown",
		   "metadata": {},
		   "source": [
			"## Example 2.18: focal_length_of_zone.sce"
		   ]
		  },
  {
"cell_type": "code",
	   "execution_count": null,
	   "metadata": {
	    "collapsed": true
	   },
	   "outputs": [],
"source": [
"//Example 2.18 // focal length of zone plate\n",
"clc;\n",
"clear;\n",
"//given data :\n",
"r=200;// radius of curvature in cm\n",
"f=r;//principal focal length in cm\n",
"disp(f,'principal focal length in cm') "
   ]
   }
,
{
		   "cell_type": "markdown",
		   "metadata": {},
		   "source": [
			"## Example 2.19: angular_separation.sce"
		   ]
		  },
  {
"cell_type": "code",
	   "execution_count": null,
	   "metadata": {
	    "collapsed": true
	   },
	   "outputs": [],
"source": [
"//Example 2.19 //Angular sepration\n",
"clc;\n",
"clear;\n",
"//given data\n",
"n=1;// order of spectrum\n",
"wi=.5;// width of grating in cm\n",
"N=2500;//total no. of lines \n",
"c=wi/N;//grating element\n",
"w1=589D-7;// first wavelength of sodium in cm\n",
"//part a\n",
"theta1=asin(n*w1/c)//angular width in radian\n",
"theta1=theta1*180/%pi;//angular width in degree\n",
"disp(theta1,'angular width in degree')\n",
"w2=5896D-8;//second wavelength of sodium in cm\n",
"//part b\n",
"theta2=asin(n*w2/c)//angular width in radian\n",
"theta2=theta2*180/%pi;//angular width in degree\n",
"disp(theta2,'angular width in degree')\n",
"theta=theta2-theta1;//angular sepration degree\n",
"disp(theta,'angular sepration in degree')\n",
"w=(w1+w2)/2;//mid wavelength\n",
"dw=6D-8;// change of wavelength in cm\n",
"n=1;//order of spectrum\n",
"N=w/(n*dw);//no. of lines will appear\n",
"N=floor(N);// N should be integer\n",
"if(1/c>N)\n",
"    disp(N,'No. of lines will appear')\n",
"else\n",
"    disp('they can not be seen differently ')\n",
"end"
   ]
   }
,
{
		   "cell_type": "markdown",
		   "metadata": {},
		   "source": [
			"## Example 2.1: half_angular_width_of_central_maxima.sce"
		   ]
		  },
  {
"cell_type": "code",
	   "execution_count": null,
	   "metadata": {
	    "collapsed": true
	   },
	   "outputs": [],
"source": [
"//Example 2.1 // Half angular width of differation pattern\n",
"clc;\n",
"clear;\n",
"//given data :\n",
"w=6D-7;// wavelength of monochromatic light in m\n",
"a=12D-7;// slit width in m\n",
"theta=asin(w/a);//half angular width of central bright maxima\n",
"theta=theta*180/%pi;// to convert in degree\n",
"disp(theta,'Half angular width of central bright maxima in degree')"
   ]
   }
,
{
		   "cell_type": "markdown",
		   "metadata": {},
		   "source": [
			"## Example 2.3: slit_width.sce"
		   ]
		  },
  {
"cell_type": "code",
	   "execution_count": null,
	   "metadata": {
	    "collapsed": true
	   },
	   "outputs": [],
"source": [
"//Example 2.3 // slit width\n",
"clc;\n",
"clear;\n",
"//given data :\n",
"w=6D-7;// wavelength of light used in m\n",
"D=2;// screen is placed at distance in m\n",
"x=5D-3;// first minima lies at distance to central maxima\n",
"a=(w*D)/x;//slit width in m\n",
"disp(a,'slit width in m')"
   ]
   }
,
{
		   "cell_type": "markdown",
		   "metadata": {},
		   "source": [
			"## Example 2.4: angular_width_and_linear_width_of_central_maxima.sce"
		   ]
		  },
  {
"cell_type": "code",
	   "execution_count": null,
	   "metadata": {
	    "collapsed": true
	   },
	   "outputs": [],
"source": [
"//Example 2.4 // Angular width & linear width of central maxima\n",
"clc;\n",
"clear;\n",
"//given data :\n",
"w=589D-9;// wavelength of light used in m\n",
"D=1;// screen is placed at distance in m\n",
"a=.1D-3;//slit width in m\n",
"theta=asin(w/a);//half angular width in radian\n",
"angle=2*theta;// angular width in radian\n",
"disp(angle,'Angular width of central maxima in radian')\n",
"y=D*angle;// linear width of central maxima in m\n",
"y=y*100;// to convert in cm\n",
"disp(y,'linear width of central maxima in cm')"
   ]
   }
,
{
		   "cell_type": "markdown",
		   "metadata": {},
		   "source": [
			"## Example 2.5: wavelength_of_light.sce"
		   ]
		  },
  {
"cell_type": "code",
	   "execution_count": null,
	   "metadata": {
	    "collapsed": true
	   },
	   "outputs": [],
"source": [
"//Example 2.5 // wavelength of light used\n",
"clc;\n",
"clear;\n",
"//given data :\n",
"c=1/5000;// grating element \n",
"theta=%pi/6;//spectral line deviated \n",
"n=2;//order of spectral line\n",
"w=(c*sin(theta))/(n);//wavelength in cm\n",
"w=w*1D8;//to convert in A\n",
"disp(w,'wavelength of ligth used in A') "
   ]
   }
,
{
		   "cell_type": "markdown",
		   "metadata": {},
		   "source": [
			"## Example 2.6: No_of_lines_in_grating.sce"
		   ]
		  },
  {
"cell_type": "code",
	   "execution_count": null,
	   "metadata": {
	    "collapsed": true
	   },
	   "outputs": [],
"source": [
"//Example 2.6 // minimum number of lines in grating\n",
"clc;\n",
"clear;\n",
"//given data :\n",
"w1=589D-9;//wavelength of one sodium line\n",
"w2=5896D-10//wavelength of second line\n",
"dw=w2-w1;//change of wavelength\n",
"w=(w1+w2)/2;// mid wavelength\n",
"n=1;//order of spectrum\n",
"N=w/(n*dw);//number of lines in grating\n",
"N=floor(N);//no. should be integer\n",
"disp(N,'number of lines in grating')"
   ]
   }
,
{
		   "cell_type": "markdown",
		   "metadata": {},
		   "source": [
			"## Example 2.7: order_of_spectrum.sce"
		   ]
		  },
  {
"cell_type": "code",
	   "execution_count": null,
	   "metadata": {
	    "collapsed": true
	   },
	   "outputs": [],
"source": [
"//Example 2.7 // order of spectrum\n",
"clc;\n",
"clear;\n",
"//given data :\n",
"w=5D-5;//wavelength of light used in cm\n",
"c=1/5000;//grating element\n",
"n=c/w;//order of spectrum \n",
"disp(n,'order of spectrum')"
   ]
   }
,
{
		   "cell_type": "markdown",
		   "metadata": {},
		   "source": [
			"## Example 2.8: Angular_separation_between_lines.sce"
		   ]
		  },
  {
"cell_type": "code",
	   "execution_count": null,
	   "metadata": {
	    "collapsed": true
	   },
	   "outputs": [],
"source": [
"//Example 2.8 //angular separtion\n",
"clc;\n",
"clear;\n",
"//part a\n",
"c=1/5000;//grating element\n",
"w1=5890D-8;// in first case first wavelength used in cm\n",
"n=2;//order of spectrum\n",
"theta=asin((n*w1)/c);//angular separton in radian\n",
"theta=theta*180/%pi;//to convert in degree\n",
"disp(theta,'angular width in degree')\n",
"//part b\n",
"w2=5896D-8;// in second case second wavelength used in cm\n",
"n=2;//order of spectrum\n",
"theta1=asin((n*w2)/c);//angular separton in radian\n",
"theta1=theta1*180/%pi;//to convert in degree\n",
"disp(theta1,'angular width in degree')\n",
"a=theta1-theta;//angular separation in degree\n",
"disp(a,'angular separation in degree')\n",
"//part c\n",
"w=5893D-8;// mid wavelength\n",
"dw=w2-w1;// change in wavelength\n",
"n=2;//order of spectrum\n",
"N=w/(dw*n);//no. of lines in grating\n",
"N=floor(N);//N should be integer\n",
"disp(N,'no. of lines in grating')\n",
""
   ]
   }
,
{
		   "cell_type": "markdown",
		   "metadata": {},
		   "source": [
			"## Example 2.9: lines_no_of_lines_in_grating.sce"
		   ]
		  },
  {
"cell_type": "code",
	   "execution_count": null,
	   "metadata": {
	    "collapsed": true
	   },
	   "outputs": [],
"source": [
"//Example 2.9 //No. of lines in grating\n",
"clc;\n",
"clear;\n",
"//given data\n",
"w1=54D-6;// first wavelength used in cm\n",
"w2=405D-7;// second wavelength used in cm\n",
"//first wavelength  order superimposed on next higher order\n",
"theta=%pi/6;//angle of diffraction in radian\n",
"c=(w1*w2/(w1-w2))/sin(theta);//grating element\n",
"N=1/c;// no. of lines per cm\n",
"N=round(N);// N should be integer\n",
"disp(N,'No. of lines in grating')\n",
""
   ]
   }
],
"metadata": {
		  "kernelspec": {
		   "display_name": "Scilab",
		   "language": "scilab",
		   "name": "scilab"
		  },
		  "language_info": {
		   "file_extension": ".sce",
		   "help_links": [
			{
			 "text": "MetaKernel Magics",
			 "url": "https://github.com/calysto/metakernel/blob/master/metakernel/magics/README.md"
			}
		   ],
		   "mimetype": "text/x-octave",
		   "name": "scilab",
		   "version": "0.7.1"
		  }
		 },
		 "nbformat": 4,
		 "nbformat_minor": 0
}
