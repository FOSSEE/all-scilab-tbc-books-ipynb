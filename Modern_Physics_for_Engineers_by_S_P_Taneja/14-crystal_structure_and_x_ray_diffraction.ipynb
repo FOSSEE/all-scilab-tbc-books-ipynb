{
"cells": [
 {
		   "cell_type": "markdown",
	   "metadata": {},
	   "source": [
       "# Chapter 14: crystal structure and x ray diffraction"
	   ]
	},
{
		   "cell_type": "markdown",
		   "metadata": {},
		   "source": [
			"## Example 14.10: Energy_to_create_defect.sce"
		   ]
		  },
  {
"cell_type": "code",
	   "execution_count": null,
	   "metadata": {
	    "collapsed": true
	   },
	   "outputs": [],
"source": [
"//Example 14.10 // Energy to create defect\n",
"clc;\n",
"clear;\n",
"//given data :\n",
"a=2.82D-10;// interionic distance in m\n",
"T=298;// temperture in kelvin\n",
"k=8.625D-5;// Boltzmann constant eV/k\n",
"n=5D11;// density of defects in per m3\n",
"V=(2*a)^3;//volume of unit cell\n",
"p=4;// no. of ion pairs\n",
"N=p/V;// no. of ion pairs per m3\n",
"E=2*k*T*log(N/n);// energy in eV\n",
"disp(E, 'Energy to create defect in eV')"
   ]
   }
,
{
		   "cell_type": "markdown",
		   "metadata": {},
		   "source": [
			"## Example 14.11: Number_of_defects.sce"
		   ]
		  },
  {
"cell_type": "code",
	   "execution_count": null,
	   "metadata": {
	    "collapsed": true
	   },
	   "outputs": [],
"source": [
"//Example 14.11 // no. of defects\n",
"clc;\n",
"clear;\n",
"//given data :\n",
"k=8.625D-5;// Boltzmann constant eV/k\n",
"E=1.4;// energy to create defect in eV\n",
"T1=293;// temperature in kelvin\n",
"T2=573;// temperature in kelvin\n",
"ratio=exp((-E/k)*(1/(2*T1)-1/(2*T2)));// ratio of no. of defects at T1 & T2\n",
"format('e',10);ratio;\n",
"disp(ratio, 'ratio of number of Frenkel defect')\n",
"ratio=1/ratio;//\n",
"disp(ratio,'it can be written as')"
   ]
   }
,
{
		   "cell_type": "markdown",
		   "metadata": {},
		   "source": [
			"## Example 14.12: fraction_of_vacancy_sites.sce"
		   ]
		  },
  {
"cell_type": "code",
	   "execution_count": null,
	   "metadata": {
	    "collapsed": true
	   },
	   "outputs": [],
"source": [
"//Example 14.12 // fraction of vacancy sites \n",
"clc;\n",
"clear;\n",
"//given data :\n",
"f=1D-10;// fraction of vacancy sites\n",
"T1=500;// temperature in degree\n",
"T2=2*T1;// condition given\n",
"T1=T1+273;// to convert in kelvin\n",
"T2=T2+273;// to convert in kelvin\n",
"f1=exp(T1*log(f)/T2);//new fraction\n",
"disp(f1,'new fraction at new temperature')"
   ]
   }
,
{
		   "cell_type": "markdown",
		   "metadata": {},
		   "source": [
			"## Example 14.4: wavelength_and_angle.sce"
		   ]
		  },
  {
"cell_type": "code",
	   "execution_count": null,
	   "metadata": {
	    "collapsed": true
	   },
	   "outputs": [],
"source": [
"//Example 14.4 // wavelength & angle\n",
"clc;\n",
"clear;\n",
"//given data :\n",
"d=2.82;//spacing between successive planes in A\n",
"theta=8+35/60;//in degree\n",
"theta=theta*%pi/180;// to convert in radian\n",
"n=1;// order of reflection\n",
"lamda=2*d*sin(theta) /n;//de-broglie equation\n",
"disp(lamda,'wavelength of NaCl in A ')\n",
"n=2;//to find angleof reflection\n",
"theta=asin(n*lamda/(2*d));//angle of reflection radian\n",
"theta=theta*180/%pi;// to convert in degree\n",
"disp(theta,'angle of reflection in degree')"
   ]
   }
,
{
		   "cell_type": "markdown",
		   "metadata": {},
		   "source": [
			"## Example 14.5: wavelength_and_speed_of_neutron.sce"
		   ]
		  },
  {
"cell_type": "code",
	   "execution_count": null,
	   "metadata": {
	    "collapsed": true
	   },
	   "outputs": [],
"source": [
"//Example 14.5 // wavelength & speed of neutron\n",
"clc;\n",
"clear;\n",
"//given data :\n",
"n=1;// given first reflection\n",
"d=3.84;//spacing between successive planes in A\n",
"m=1.67D-27;// mass of neutron in kg\n",
"theta=30;//in degree\n",
"theta=theta*%pi/180;// to convert in radian\n",
"lamda=2*d*sin(theta) /n;//de-broglie equation\n",
"disp(lamda,'wavelength of neutron in A ')\n",
"h=6.626D-34;// plank's constant in joules-sec\n",
"lamda=lamda*1D-10;// to convert in m\n",
"v=h/(m*lamda);// e-Broglie relation\n",
"disp(v,'speed of neutron in m/s')\n",
"// in book it is wrongly calculated"
   ]
   }
,
{
		   "cell_type": "markdown",
		   "metadata": {},
		   "source": [
			"## Example 14.6: spacing.sce"
		   ]
		  },
  {
"cell_type": "code",
	   "execution_count": null,
	   "metadata": {
	    "collapsed": true
	   },
	   "outputs": [],
"source": [
"//Example 14.6 // spacing d\n",
"clc;\n",
"clear;\n",
"// 1st part\n",
"theta=5+28/60;// given glancing angle in degree\n",
"n=1;//order of reflections\n",
"lamda=.586;// wavelength in A\n",
"theta=theta*%pi/180;//to convert in degree\n",
"d=n*lamda/(2*sin(theta));// spacing\n",
"disp(d,'spacing in A')\n",
"// in question there is a mistake \n",
"// 2nd part\n",
"theta=12+1/60;// given glancing angle in degree\n",
"n=2;//order of reflections\n",
"theta=theta*%pi/180;//to convert in degree\n",
"d=n*lamda/(2*sin(theta));// spacing\n",
"disp(d,'spacing in A')\n",
"//3rd part\n",
"theta=18+12/60;// given glancing angle in degree\n",
"n=3;//order of reflections\n",
"theta=theta*%pi/180;//to convert in degree\n",
"d=n*lamda/(2*sin(theta));// spacing\n",
"disp(d,'spacing in A')\n",
"\n",
"//The glancing angle is taken differently in the solution"
   ]
   }
,
{
		   "cell_type": "markdown",
		   "metadata": {},
		   "source": [
			"## Example 14.7: glancing_angle.sce"
		   ]
		  },
  {
"cell_type": "code",
	   "execution_count": null,
	   "metadata": {
	    "collapsed": true
	   },
	   "outputs": [],
"source": [
"//Example 14.7 // glancing  angle\n",
"clc;\n",
"clear;\n",
"//given data :\n",
"// 1st part\n",
"lamda=1.549;// wavelength in A\n",
"d=4.255;// in ter planer spacing in A\n",
"n=1;//order of reflection\n",
"theta=asin(n*lamda/(2*d));// glacing angle in radian\n",
"theta=theta*180/%pi;// to convert in degree\n",
"disp(theta,'glancing angle in degree') \n",
"// 2nd part\n",
"n=2;//order of reflection\n",
"theta=asin(n*lamda/(2*d));// glacing angle in radian\n",
"theta=theta*180/%pi;// to convert in degree\n",
"disp(theta,'glancing angle in degree') "
   ]
   }
],
"metadata": {
		  "kernelspec": {
		   "display_name": "Scilab",
		   "language": "scilab",
		   "name": "scilab"
		  },
		  "language_info": {
		   "file_extension": ".sce",
		   "help_links": [
			{
			 "text": "MetaKernel Magics",
			 "url": "https://github.com/calysto/metakernel/blob/master/metakernel/magics/README.md"
			}
		   ],
		   "mimetype": "text/x-octave",
		   "name": "scilab",
		   "version": "0.7.1"
		  }
		 },
		 "nbformat": 4,
		 "nbformat_minor": 0
}
