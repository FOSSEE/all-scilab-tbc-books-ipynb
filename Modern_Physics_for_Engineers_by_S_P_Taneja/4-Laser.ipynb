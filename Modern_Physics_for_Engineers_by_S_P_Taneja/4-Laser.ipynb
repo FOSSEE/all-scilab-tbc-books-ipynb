{
"cells": [
 {
		   "cell_type": "markdown",
	   "metadata": {},
	   "source": [
       "# Chapter 4: Laser"
	   ]
	},
{
		   "cell_type": "markdown",
		   "metadata": {},
		   "source": [
			"## Example 4.1: Coherence_Length.sce"
		   ]
		  },
  {
"cell_type": "code",
	   "execution_count": null,
	   "metadata": {
	    "collapsed": true
	   },
	   "outputs": [],
"source": [
"//Example 4.1 // Coherence length for laser\n",
"clc;\n",
"//given data :\n",
"v=3000;// bandwidth in Hz\n",
"c=3D8;//speed of light in m/s\n",
"t=1/v;//Coherence time in sec\n",
"l=c*t;//coherence length in m\n",
"l=l/1D3;// to convert in km\n",
"disp(l,'Coherence length for laser in km')"
   ]
   }
,
{
		   "cell_type": "markdown",
		   "metadata": {},
		   "source": [
			"## Example 4.2: Coherence_Length.sce"
		   ]
		  },
  {
"cell_type": "code",
	   "execution_count": null,
	   "metadata": {
	    "collapsed": true
	   },
	   "outputs": [],
"source": [
"//Example 4.2 // transverse Coherence length \n",
"clc;\n",
"//given data :\n",
"theta=32;//angle on slit in second\n",
"theta=32*%pi/(60*180);// to convert in radian\n",
"w=5D-5;// wavelength of light used in cm\n",
"C=w/theta;//coherence length in cm\n",
"disp(C,'transverse coherence length in cm')"
   ]
   }
,
{
		   "cell_type": "markdown",
		   "metadata": {},
		   "source": [
			"## Example 4.3: Degree_of_Non_monochromacity.sce"
		   ]
		  },
  {
"cell_type": "code",
	   "execution_count": null,
	   "metadata": {
	    "collapsed": true
	   },
	   "outputs": [],
"source": [
"//Example 4.3 // Degree of non-monochromacity\n",
"clc;\n",
"//given data :\n",
"t=1D-10;//coherence time in sec\n",
"c=3D8;//speed of light in m/s\n",
"w=54D-8;// wavelength of non-monochromacity in m\n",
"B=1/t;//bandwidth in Hz\n",
"v=c/w;//frequency of  source\n",
"D=B/v;// degree of non-monochromacity\n",
"disp(D,'degree of non-monochromacity')"
   ]
   }
],
"metadata": {
		  "kernelspec": {
		   "display_name": "Scilab",
		   "language": "scilab",
		   "name": "scilab"
		  },
		  "language_info": {
		   "file_extension": ".sce",
		   "help_links": [
			{
			 "text": "MetaKernel Magics",
			 "url": "https://github.com/calysto/metakernel/blob/master/metakernel/magics/README.md"
			}
		   ],
		   "mimetype": "text/x-octave",
		   "name": "scilab",
		   "version": "0.7.1"
		  }
		 },
		 "nbformat": 4,
		 "nbformat_minor": 0
}
