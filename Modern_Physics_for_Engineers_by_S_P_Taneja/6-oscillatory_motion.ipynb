{
"cells": [
 {
		   "cell_type": "markdown",
	   "metadata": {},
	   "source": [
       "# Chapter 6: oscillatory motion"
	   ]
	},
{
		   "cell_type": "markdown",
		   "metadata": {},
		   "source": [
			"## Example 6.1: Equilibrium_position_time.sce"
		   ]
		  },
  {
"cell_type": "code",
	   "execution_count": null,
	   "metadata": {
	    "collapsed": true
	   },
	   "outputs": [],
"source": [
"//Example 6.1 // Equilibrium position time \n",
"clc;\n",
"clear;\n",
"//given data :\n",
"A=.05;//Amplitude of SHM in m\n",
"T=6;// period in sec\n",
"Xo=A;// equilibrium position at t=0 position in m\n",
"X=.025;//equilibrium position  in m\n",
"w=2*%pi/T;// angular frequency in rad/sec\n",
"ph=asin(Xo/A);// phase angle in radian\n",
"t=(asin(X/A)-ph)/w// time for equilibrium position in sec\n",
"t=abs(t);// it take positive magnitude\n",
"disp(t,'time to move from Equilibrium position in sec') "
   ]
   }
,
{
		   "cell_type": "markdown",
		   "metadata": {},
		   "source": [
			"## Example 6.2: Maximum_velocity_in_SHM.sce"
		   ]
		  },
  {
"cell_type": "code",
	   "execution_count": null,
	   "metadata": {
	    "collapsed": true
	   },
	   "outputs": [],
"source": [
"//Example 6.2 // Maximum velocity in SHM \n",
"clc;\n",
"clear;\n",
"//given data :\n",
"A=.06;// Amplitude of SHM in m\n",
"T=31.4;// period in sec\n",
"w=2*%pi/T;// angular frequency in rad/sec\n",
"V=A*w;// maximum velocity in m/s\n",
"disp(V,'Maximum velocity in m/s' )"
   ]
   }
,
{
		   "cell_type": "markdown",
		   "metadata": {},
		   "source": [
			"## Example 6.3: Period_of_Oscillation.sce"
		   ]
		  },
  {
"cell_type": "code",
	   "execution_count": null,
	   "metadata": {
	    "collapsed": true
	   },
	   "outputs": [],
"source": [
"//Example 6.3 // Period of Oscillation \n",
"clc;\n",
"clear;\n",
"//given data :\n",
"l=1;// length of pendulum in m\n",
"m=1;// mass of pendulum in kg\n",
"g=9.8;//acceleration of gravity in m/s2\n",
"T=2*%pi*sqrt(l/g);//time period\n",
"disp(T,'Period of Oscillation in sec')"
   ]
   }
,
{
		   "cell_type": "markdown",
		   "metadata": {},
		   "source": [
			"## Example 6.4: period_of_oscillatio.sce"
		   ]
		  },
  {
"cell_type": "code",
	   "execution_count": null,
	   "metadata": {
	    "collapsed": true
	   },
	   "outputs": [],
"source": [
"//Example 6.4 // Period of Oscillation \n",
"clc;\n",
"clear;\n",
"//given data :\n",
"m1=8;// mass suspended in kg\n",
"l=.32;// length of spring stretched in m\n",
"m=.5;// new mass suspended in kg\n",
"g=9.8;//acceleration of gravity in m/s2\n",
"k=m1*g/l;// force constant  of spring in N/m\n",
"disp(k)\n",
"T=2*%pi*sqrt(m/k);// time period of Oscillation\n",
"disp(T,'Time Period of Oscillation sec')\n",
"// in book it is wrongly calculated"
   ]
   }
,
{
		   "cell_type": "markdown",
		   "metadata": {},
		   "source": [
			"## Example 6.6: oscillation_time.sce"
		   ]
		  },
  {
"cell_type": "code",
	   "execution_count": null,
	   "metadata": {
	    "collapsed": true
	   },
	   "outputs": [],
"source": [
"//Example 6.6 // oscillation time \n",
"clc;\n",
"clear;\n",
"//given data :\n",
"r=10;//ratio of energies \n",
"Q=1D4;//quality factor\n",
"v=250;// frequency of fork in cycles/s\n",
"w=2*%pi*v;//angular frequency in rad/sec\n",
"T=Q/w;// relaxation time in sec\n",
"t=T*log(r);// time in sec\n",
"disp(t,'time to become new energy in sec')\n",
""
   ]
   }
,
{
		   "cell_type": "markdown",
		   "metadata": {},
		   "source": [
			"## Example 6.7: Equilibrium_position_time.sce"
		   ]
		  },
  {
"cell_type": "code",
	   "execution_count": null,
	   "metadata": {
	    "collapsed": true
	   },
	   "outputs": [],
"source": [
"//Example 6.7 // Equilibrium position time \n",
"clc;\n",
"clear;\n",
"//given data :\n",
"r=exp(2);//ratio of amplitude\n",
"Q=2D3;//quality factor\n",
"v=240;// frequency of fork in cycles/s\n",
"w=2*%pi*v;//angular frequency in rad/sec\n",
"T=Q/w;// relaxation time in sec\n",
"t=2*T*log(r);//time for ne amplitude\n",
"disp(t,'time to become for new amplitude in sec')"
   ]
   }
,
{
		   "cell_type": "markdown",
		   "metadata": {},
		   "source": [
			"## Example 6.8: Q_factor_and_half_width_of_power_resonance.sce"
		   ]
		  },
  {
"cell_type": "code",
	   "execution_count": null,
	   "metadata": {
	    "collapsed": true
	   },
	   "outputs": [],
"source": [
"//Example 6.8 \n",
"clc;\n",
"clear;\n",
"//part a :\n",
"Ao=.1;// amplitude at minimum frequency in mm\n",
"A=100;//maximum amplitude\n",
"Q=A/Ao;//quality factor\n",
"disp(Q,'Quality factor')\n",
"//part b\n",
"w=100;//resonance frequency in rad/sec\n",
"T=Q/w;//energy decay time\n",
"disp(T,'energy decay time in sec')\n",
"//part c\n",
"hw=1/(2*T);// half width of power resonance curve\n",
"disp(hw,'half width of power resonance curve in rad/sec')"
   ]
   }
,
{
		   "cell_type": "markdown",
		   "metadata": {},
		   "source": [
			"## Example 6.9: amplitude_of_oscillations_and_relative_phase.sce"
		   ]
		  },
  {
"cell_type": "code",
	   "execution_count": null,
	   "metadata": {
	    "collapsed": true
	   },
	   "outputs": [],
"source": [
"//Example 6.9 // amplitude of oscillations & relative phase  \n",
"clc;\n",
"clear;\n",
"//given data :\n",
"m=.1;//suspended mass in kg\n",
"k=100;// force constant in N/m\n",
"Fo=2;// maximum driving force in N\n",
"p=1;// constant in Ns/m\n",
"Wo=sqrt(k/m);//angular frequency in rad/sec in steady state;\n",
"W=50;//angular frequency in rad/sec\n",
"f=Fo/m;\n",
"d=p/(2*m);//damping constant\n",
"B=f/sqrt(((Wo^2)-(W^2))^2+4*(d^2)*(W^2));//amplitude of Oscillation in m\n",
"delta=atan(2*d*W/(Wo^2-W^2));// relative phase in radian\n",
"disp(B,'amplitude of oscillations in m')\n",
"delta=delta*180/%pi +180;// to convert in 0 t0 180 in degree\n",
"disp(delta,'relative phase in degree')"
   ]
   }
],
"metadata": {
		  "kernelspec": {
		   "display_name": "Scilab",
		   "language": "scilab",
		   "name": "scilab"
		  },
		  "language_info": {
		   "file_extension": ".sce",
		   "help_links": [
			{
			 "text": "MetaKernel Magics",
			 "url": "https://github.com/calysto/metakernel/blob/master/metakernel/magics/README.md"
			}
		   ],
		   "mimetype": "text/x-octave",
		   "name": "scilab",
		   "version": "0.7.1"
		  }
		 },
		 "nbformat": 4,
		 "nbformat_minor": 0
}
