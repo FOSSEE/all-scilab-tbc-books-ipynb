{
"cells": [
 {
		   "cell_type": "markdown",
	   "metadata": {},
	   "source": [
       "# Chapter 1: Interference of Light"
	   ]
	},
{
		   "cell_type": "markdown",
		   "metadata": {},
		   "source": [
			"## Example 1.10: Fringe_width.sce"
		   ]
		  },
  {
"cell_type": "code",
	   "execution_count": null,
	   "metadata": {
	    "collapsed": true
	   },
	   "outputs": [],
"source": [
"//Example 1.10 // fringe width\n",
"clc;\n",
"clear;\n",
"//given data :\n",
"b1=0.087;// initally fringe width in mm\n",
"//when distance given in ratio \n",
"r=.75;// ratio\n",
"b=b1/r\n",
"disp(b,'width of fringes in mm')"
   ]
   }
,
{
		   "cell_type": "markdown",
		   "metadata": {},
		   "source": [
			"## Example 1.11: distance_between_coherent_sources.sce"
		   ]
		  },
  {
"cell_type": "code",
	   "execution_count": null,
	   "metadata": {
	    "collapsed": true
	   },
	   "outputs": [],
"source": [
"//Example 1.11 // separation between coherent source  \n",
"clc;\n",
"clear;\n",
"//given data :\n",
"u=1.5;//referactive index of bi-prism\n",
"al=2*%pi/180;//angle in radian\n",
"a=.1;// distance between source & prism in m\n",
"d=2*a*(u-1)*al;// distance between slits in m\n",
"disp(d,'separation between coherent source in meter')"
   ]
   }
,
{
		   "cell_type": "markdown",
		   "metadata": {},
		   "source": [
			"## Example 1.12: Refractive_Index_of_sheet.sce"
		   ]
		  },
  {
"cell_type": "code",
	   "execution_count": null,
	   "metadata": {
	    "collapsed": true
	   },
	   "outputs": [],
"source": [
"//Example 1.12 // refractive index of sheet\n",
"clc;\n",
"clear;\n",
"//given data :\n",
"w=5460D-10;// wavelength in m\n",
"n=6;// number of fringe shifted\n",
"t=6.3D-6;//thickness of material\n",
"u=(n*w)/t +1; // equation for fefractive index\n",
"disp(u,'refractive index of sheet')"
   ]
   }
,
{
		   "cell_type": "markdown",
		   "metadata": {},
		   "source": [
			"## Example 1.14: Thickness_of_plate.sce"
		   ]
		  },
  {
"cell_type": "code",
	   "execution_count": null,
	   "metadata": {
	    "collapsed": true
	   },
	   "outputs": [],
"source": [
"//Example 1.4 // thickness of plate \n",
"clc;\n",
"clear;\n",
"//given data :\n",
"u=1.5;//referactive index of glass plate\n",
"r=60;// refraction angle in degree\n",
"r=r*%pi/180;// to convert in radian\n",
"w=5890D-10;// wavelength in m\n",
"//for least thickness\n",
"t=w/(2*u*cos(r));\n",
"t=t*1D10;// to convert in angstrom\n",
"disp(t,'thickness of plate in A')"
   ]
   }
,
{
		   "cell_type": "markdown",
		   "metadata": {},
		   "source": [
			"## Example 1.15: Film_Thickness.sce"
		   ]
		  },
  {
"cell_type": "code",
	   "execution_count": null,
	   "metadata": {
	    "collapsed": true
	   },
	   "outputs": [],
"source": [
"//Example 1.15 // flim thickness\n",
"clc;\n",
"clear;\n",
"//given data :\n",
"u=1.5;//referactive index of oil\n",
"i=30;// incident angle in degree\n",
"i=i*%pi/180;//to convert in radian\n",
"n=8;//8th dark band\n",
"w=5890D-10;// wavelength in m\n",
"r=sqrt(1-(sin(i)/u)^2);//cos of received angle\n",
"t=n*w/(2*u*r);//formula of thickness\n",
"t=t*1D3;//to convert in mm\n",
"disp(t*1D-3,'flim thickness in m')"
   ]
   }
,
{
		   "cell_type": "markdown",
		   "metadata": {},
		   "source": [
			"## Example 1.16: Order_of_interference.sce"
		   ]
		  },
  {
"cell_type": "code",
	   "execution_count": null,
	   "metadata": {
	    "collapsed": true
	   },
	   "outputs": [],
"source": [
"//Example 1.16 // order of dark band\n",
"clc;\n",
"clear;\n",
"//given data :\n",
"u=4/3;//referactive index of soap flim\n",
"t=1.5D-6;//thickness of soap flim\n",
"i=60;//incident angle in degree\n",
"i=i*%pi/180;// incident angle in radian\n",
"w=5D-7;// wavelength in m\n",
"r=sin(i)/u;//sin of refracted angle\n",
"R=asin(r);//refracted angle in radian\n",
"n=2*u*t*cos(R)/w\n",
"n=floor(n)\n",
"disp(n,'order of dark band')"
   ]
   }
,
{
		   "cell_type": "markdown",
		   "metadata": {},
		   "source": [
			"## Example 1.17: Fringe_Width.sce"
		   ]
		  },
  {
"cell_type": "code",
	   "execution_count": null,
	   "metadata": {
	    "collapsed": true
	   },
	   "outputs": [],
"source": [
"//Example 1.17 // fringe width\n",
"clc;\n",
"clear;\n",
"//given data :\n",
"x=.15;// air flim base width in m\n",
"w=6D-7;// wavelength in m\n",
"ab=0.05D-3;//length wire in m\n",
"u=1;//refractive index of air\n",
"theta=ab/x;\n",
"b=w/(2*u*theta);//fringes width\n",
"disp(b,'width of fringes in meter')"
   ]
   }
,
{
		   "cell_type": "markdown",
		   "metadata": {},
		   "source": [
			"## Example 1.18: Wavelength_of_light.sce"
		   ]
		  },
  {
"cell_type": "code",
	   "execution_count": null,
	   "metadata": {
	    "collapsed": true
	   },
	   "outputs": [],
"source": [
"//Example 1.18 // wavvelength of light\n",
"clc;\n",
"//given data :\n",
"b=.5D-2;//distace between succesive fringes in m\n",
"u=1.4;//refractive index of cellophane\n",
"a=10;//angle of wedge in sec\n",
"a=a*%pi/(60*60*180);//to convert in radian\n",
"w=2*u*a*b;\n",
"w=w*1D10;//to convert in A\n",
"disp(w,'wavelength of light used in A')\n",
"\n",
"//note: Pi is taken as 22/7 in the textbook."
   ]
   }
,
{
		   "cell_type": "markdown",
		   "metadata": {},
		   "source": [
			"## Example 1.19: Wedge_angle.sce"
		   ]
		  },
  {
"cell_type": "code",
	   "execution_count": null,
	   "metadata": {
	    "collapsed": true
	   },
	   "outputs": [],
"source": [
"//Example 1.19 // angle of wedge \n",
"clc;\n",
"clear;\n",
"//given data :\n",
"x=1D-2;//distace of mth dark band\n",
"w=6D-7;// wavelength in m\n",
"m=10;//number of dark band\n",
"a=m*w/(2*x)\n",
"disp(a,'angle of wedge in radian')\n",
"//note: answer in textbook is in seconds"
   ]
   }
,
{
		   "cell_type": "markdown",
		   "metadata": {},
		   "source": [
			"## Example 1.1: fringe_width.sce"
		   ]
		  },
  {
"cell_type": "code",
	   "execution_count": null,
	   "metadata": {
	    "collapsed": true
	   },
	   "outputs": [],
"source": [
"//Example 1.1 // fringe width\n",
"clear;\n",
"clc;\n",
"//given data :\n",
"d=5D-4;// distance between slits in m\n",
"w=5890D-10;// wavelength in m\n",
"D=0.5;//distance between source and screen in m\n",
"b=D*w/d;//fringes width\n",
"disp(b,'width of fringes in meter')"
   ]
   }
,
{
		   "cell_type": "markdown",
		   "metadata": {},
		   "source": [
			"## Example 1.20: No_of_Dark_bands.sce"
		   ]
		  },
  {
"cell_type": "code",
	   "execution_count": null,
	   "metadata": {
	    "collapsed": true
	   },
	   "outputs": [],
"source": [
"//Example 1.20 // number of dark band\n",
"clc;\n",
"clear;\n",
"//given data :\n",
"t=0.01;//thickness of oil film\n",
"t=t*1D-3;//to convert in m\n",
"u=1.4;//refractive index of oil\n",
"w1=4D-7;// first wavelength in m\n",
"w2=5D-7;// second wavelength in m\n",
"a=%pi/4;//flim placed at angle\n",
"cosr=sqrt(1-(sin(a)/u)^2);//formula\n",
"n1=2*u*t*cosr/w1;\n",
"n2=2*u*t*cosr/w2;\n",
"n1=floor(n1);//to convert in integer\n",
"n2=floor(n2);//to convert in integer\n",
"n=n1-n2;//number of dark band\n",
"disp(n,'number of dark band')"
   ]
   }
,
{
		   "cell_type": "markdown",
		   "metadata": {},
		   "source": [
			"## Example 1.21: Radius_of_lens.sce"
		   ]
		  },
  {
"cell_type": "code",
	   "execution_count": null,
	   "metadata": {
	    "collapsed": true
	   },
	   "outputs": [],
"source": [
"//Example 1.21 // radius of lens\n",
"clc;\n",
"clear;\n",
"//given data :\n",
"w=5890D-10;//wavelength used in m\n",
"d=.01;//diameter of dark ring in m\n",
"r=%pi/6;//angle that light passes in radian\n",
"n=3;// order of ring\n",
"u=1;// refractive index of medium  between lens  and plate\n",
"R=u*(d^2)*cos(r)/(4*n*w);// radius of lens in m\n",
"disp(R,'radius of lens in m')"
   ]
   }
,
{
		   "cell_type": "markdown",
		   "metadata": {},
		   "source": [
			"## Example 1.22: Wavelength_of_light.sce"
		   ]
		  },
  {
"cell_type": "code",
	   "execution_count": null,
	   "metadata": {
	    "collapsed": true
	   },
	   "outputs": [],
"source": [
"//Example 1.22 // wavelength used\n",
"clc;\n",
"clear;\n",
"//given data :\n",
"R=3;//radius of lens in m\n",
"n=8;// order of bright ring\n",
"D=.72D-2;// diameter of bright ring in m\n",
"u=1;// refractive index of medium between lens  and plate\n",
"w=(D^2)/((2*n-1)*2*R);// wavelength used in m\n",
"w=w*1D10;//to convert in A\n",
"disp(w,'wavelength of light used in A')"
   ]
   }
,
{
		   "cell_type": "markdown",
		   "metadata": {},
		   "source": [
			"## Example 1.23: Distance_between_rings.sce"
		   ]
		  },
  {
"cell_type": "code",
	   "execution_count": null,
	   "metadata": {
	    "collapsed": true
	   },
	   "outputs": [],
"source": [
"//Example 1.23 // distance between rings\n",
"clc;\n",
"clear;\n",
"//given data :\n",
"R1=100;//radii of curvature in cm\n",
"R2=R1;// given\n",
"w=5400D-8;// wavelength of light in m\n",
"n1=5;// order of ring for case one\n",
"r1=sqrt(n1*w/((1/R1)+(1/R2)));//radii of curvature in cm\n",
"n2=15;// order of ring for second case\n",
"r2=sqrt(n2*w/(1/R1+1/R2));// radii of curvature in cm\n",
"d=r2-r1;// distance between rings\n",
"disp(d,'distance between rings in cm')\n",
""
   ]
   }
,
{
		   "cell_type": "markdown",
		   "metadata": {},
		   "source": [
			"## Example 1.24: Refractive_Index_of_liquid.sce"
		   ]
		  },
  {
"cell_type": "code",
	   "execution_count": null,
	   "metadata": {
	    "collapsed": true
	   },
	   "outputs": [],
"source": [
"//Example 1.24 // refractive index \n",
"clc;\n",
"clear;\n",
"//given data :\n",
"d1=.3;// diameter of ring in cm\n",
"d2=.25;//diameter of ring(in cm) after placing in medium\n",
"u=(d1/d2)^2;// refractive index of medium\n",
"disp(u,'refractive index of medium')"
   ]
   }
,
{
		   "cell_type": "markdown",
		   "metadata": {},
		   "source": [
			"## Example 1.25: Diameter_of_Ring.sce"
		   ]
		  },
  {
"cell_type": "code",
	   "execution_count": null,
	   "metadata": {
	    "collapsed": true
	   },
	   "outputs": [],
"source": [
"//Example 1.25 // diameter of bright ring\n",
"clc;\n",
"clear;\n",
"//given data :\n",
"w=6D-7;// wavelength used in m\n",
"R1=3;//radius of curvature of convex lens in m\n",
"R2=4;//radius of curvature of concave lens in m\n",
"n=13;// order of ring\n",
"r=sqrt((2*n-1)*w/(2*(1/R1-1/R2)));// radius of ring\n",
"disp(2*r,'diameter of bright ring in m')\n",
"\n",
""
   ]
   }
,
{
		   "cell_type": "markdown",
		   "metadata": {},
		   "source": [
			"## Example 1.26: Thickness_of_film.sce"
		   ]
		  },
  {
"cell_type": "code",
	   "execution_count": null,
	   "metadata": {
	    "collapsed": true
	   },
	   "outputs": [],
"source": [
"//Example 1.26 // thickness of flim\n",
"clc;\n",
"clear;\n",
"//given data :\n",
"u=1.5;// refractive index  of flim between lens and plate\n",
"m=10;//no. of fringes shifted in experiment\n",
"w=5890D-10;// wavelength of light used in m\n",
"t=m*w/(2*(u-1));// thickness of plastic flim in m\n",
"t=t*1D9;// to convert in nm\n",
"disp(t,'thickness of flim in nm(nanometer)')"
   ]
   }
,
{
		   "cell_type": "markdown",
		   "metadata": {},
		   "source": [
			"## Example 1.27: Refractive_Index.sce"
		   ]
		  },
  {
"cell_type": "code",
	   "execution_count": null,
	   "metadata": {
	    "collapsed": true
	   },
	   "outputs": [],
"source": [
"//Example 1.27 // refractive index\n",
"clc;\n",
"clear;\n",
"//given data :\n",
"n=150;//no. of frnges shifted\n",
"w=4D-7;// wavelength of light used\n",
"l=.2;//length of tube in m\n",
"u=n*w/(2*l) +1\n",
"disp(u,'refractive index of medium ')\n",
"\n",
""
   ]
   }
,
{
		   "cell_type": "markdown",
		   "metadata": {},
		   "source": [
			"## Example 1.28: Thickness_of_film.sce"
		   ]
		  },
  {
"cell_type": "code",
	   "execution_count": null,
	   "metadata": {
	    "collapsed": true
	   },
	   "outputs": [],
"source": [
"//Example 1.28 // thickness of flim\n",
"clc;\n",
"clear;\n",
"//given data :\n",
"w=589D-9;//wavelength of light used in m\n",
"u=1.45;// refractive index of medium between lens and plate\n",
"n=6.5;// fringes shifted\n",
"t=n*w/(2*(u-1));// thickness of flim in m\n",
"t=t*1D9;//to convert in nano meter\n",
"disp(t,'thickness of flim in nm(nanometer)')"
   ]
   }
,
{
		   "cell_type": "markdown",
		   "metadata": {},
		   "source": [
			"## Example 1.29: Distance_between_position_of_mirrors.sce"
		   ]
		  },
  {
"cell_type": "code",
	   "execution_count": null,
	   "metadata": {
	    "collapsed": true
	   },
	   "outputs": [],
"source": [
"//Example 1.29 // distance between successive poitions of movable mirror\n",
"clc;\n",
"clear;\n",
"//given data :\n",
"w1=5896D-8;//one wavelength of light used in cm\n",
"w2=5890D-8;// second wavelength of light used in cm \n",
"d=w1*w2/(2*(w1-w2));// distance between sucessive position of mirror in cm\n",
"disp(d,'dustance between sucessive position of mirror in cm')   "
   ]
   }
,
{
		   "cell_type": "markdown",
		   "metadata": {},
		   "source": [
			"## Example 1.2: slit_separatio.sce"
		   ]
		  },
  {
"cell_type": "code",
	   "execution_count": null,
	   "metadata": {
	    "collapsed": true
	   },
	   "outputs": [],
"source": [
"//Example 1.2 // double slit separation\n",
"clear;\n",
"clc;\n",
"//given data :\n",
"w=5100D-10;// wavelength in m\n",
"D=2;//distance between source and screen in m\n",
"n=10;// number of fringes\n",
"x=0.02;//width of all n fringes in m\n",
"b=x/n;//fringes width\n",
"d=D*w/b;//double slit width\n",
"disp(d,'double slit separation in meter')\n",
""
   ]
   }
,
{
		   "cell_type": "markdown",
		   "metadata": {},
		   "source": [
			"## Example 1.30: Velocity_of_Light_in_liquid.sce"
		   ]
		  },
  {
"cell_type": "code",
	   "execution_count": null,
	   "metadata": {
	    "collapsed": true
	   },
	   "outputs": [],
"source": [
"//Example 1.30 // velocity of light in medium\n",
"clc;\n",
"clear;\n",
"//given data :\n",
"d1=.3;// diameter of ring in cm\n",
"d2=.25;//diameter of ring(in cm) after placing in medium\n",
"c=3D8;//speed of light in m/s\n",
"u=(d2/d1)^2;// refractive index of medium\n",
"v=u*c;// velocity of light in fluid\n",
"disp(v,'velocity of light in liquid in m/s')"
   ]
   }
,
{
		   "cell_type": "markdown",
		   "metadata": {},
		   "source": [
			"## Example 1.31: Film_Thickness.sce"
		   ]
		  },
  {
"cell_type": "code",
	   "execution_count": null,
	   "metadata": {
	    "collapsed": true
	   },
	   "outputs": [],
"source": [
"//Example 1.31 // thickness of flim\n",
"clc;\n",
"clear;\n",
"//given data :\n",
"w1=6.1D-5;//wavelength of light fall in cm\n",
"w2=6D-5;// wavelength of light fall in cm\n",
"u=1.33;// refractive index soap flim\n",
"si=4/5;//sine of incident angle\n",
"t=w1*w2/(2*(w1-w2)*sqrt(u^2-si^2))\n",
"disp(t,'thickness of flim in cm')\n",
""
   ]
   }
,
{
		   "cell_type": "markdown",
		   "metadata": {},
		   "source": [
			"## Example 1.32: wavelength_of_light.sce"
		   ]
		  },
  {
"cell_type": "code",
	   "execution_count": null,
	   "metadata": {
	    "collapsed": true
	   },
	   "outputs": [],
"source": [
"//Example 1.32 // wavelength of light \n",
"clc;\n",
"//given data :\n",
"n1=5;//order of ring\n",
"n2=25;// order of ring\n",
"m=n2-n1;//difference of ring order\n",
"R=100;//radius of curvature in cm\n",
"d1=.3;//diameter of ring n cm\n",
"d2=.8;//diameter of ring in cm\n",
"w=(d2^2-d1^2)/(4*R*m);//wavelength in cm \n",
"disp(w,'wacelength of light in cm')"
   ]
   }
,
{
		   "cell_type": "markdown",
		   "metadata": {},
		   "source": [
			"## Example 1.33: diameter_of_ring.sce"
		   ]
		  },
  {
"cell_type": "code",
	   "execution_count": null,
	   "metadata": {
	    "collapsed": true
	   },
	   "outputs": [],
"source": [
"//Example 1.33 // diameter of ring\n",
"clc\n",
"clear;\n",
"//given data :\n",
"n1=4;//order of ring\n",
"n2=12;// order of ring\n",
"m=n2-n1;//difference of ring order\n",
"n=20;// order of ring to find\n",
"//let k=4*wavelength**R\n",
"d1=.4;// diameter of first ring in cm\n",
"d2=.7;//diameter of second ring in cm\n",
"k=(d2^2-d1^2)/m;\n",
"d=sqrt(n*k);// diameter of ring in cm\n",
"disp(d,'diameter of ring in cm')\n",
"\n",
"//note: Wrong answer in the textbook.\n",
"\n",
"\n",
"\n",
"\n",
"\n",
""
   ]
   }
,
{
		   "cell_type": "markdown",
		   "metadata": {},
		   "source": [
			"## Example 1.3: wave_length.sce"
		   ]
		  },
  {
"cell_type": "code",
	   "execution_count": null,
	   "metadata": {
	    "collapsed": true
	   },
	   "outputs": [],
"source": [
"//Example 1.3 // wavelength of ligth  \n",
"clc;\n",
"clear;\n",
"//given data :\n",
"d=19D-4;// distance between slits in m\n",
"D=1;//distance between source and screen in m\n",
"b=.31D-3;//fringes width in m\n",
"w=b*d/D;// wavelength in m\n",
"w=w*1D10;// to convert in A\n",
"disp(w,'wavelength of light in A(angstrom)')"
   ]
   }
,
{
		   "cell_type": "markdown",
		   "metadata": {},
		   "source": [
			"## Example 1.4: position_of_fringe.sce"
		   ]
		  },
  {
"cell_type": "code",
	   "execution_count": null,
	   "metadata": {
	    "collapsed": true
	   },
	   "outputs": [],
"source": [
"//Example 1.4 // position of fringe\n",
"clc;\n",
"clear;\n",
"//given data :\n",
"d=2D-3;// distance between slits in m\n",
"w=5890D-10;// wavelength in m\n",
"D=0.04;//distance between source and screen in m\n",
"n=10;// number of fringe which is to locate\n",
"x=n*D*w/d;//position of fringe \n",
"disp(x,'position of nth fringes in meter')"
   ]
   }
,
{
		   "cell_type": "markdown",
		   "metadata": {},
		   "source": [
			"## Example 1.5: Distance_between_coherent_source.sce"
		   ]
		  },
  {
"cell_type": "code",
	   "execution_count": null,
	   "metadata": {
	    "collapsed": true
	   },
	   "outputs": [],
"source": [
"//Example 1.5 // distance between coherent source\n",
"clc;\n",
"//given data :\n",
"b=9.424D-4;//fringes width in m\n",
"w=5890D-10;// wavelength in m\n",
"a=0.05;// distance between source & prism in m\n",
"c=0.75;// distance between prism & screen in m\n",
"D=a+c;//distance between source and screen in m\n",
"d=(D*w)/b;//distance between coherent source\n",
"disp(d,'distance between coherent source in meter')"
   ]
   }
,
{
		   "cell_type": "markdown",
		   "metadata": {},
		   "source": [
			"## Example 1.6: Fringe_width.sce"
		   ]
		  },
  {
"cell_type": "code",
	   "execution_count": null,
	   "metadata": {
	    "collapsed": true
	   },
	   "outputs": [],
"source": [
"//Example 1.6 // fringe width\n",
"clc;\n",
"//given data :\n",
"a=0.10;// distance between source & prism in m\n",
"c=1;// distance between prism & screen in m\n",
"u=1.5;//referactive index of bi-prism\n",
"al=%pi/180;//angle in radian\n",
"d=2*a*(u-1)*al;// distance between slits in m\n",
"w=5900D-10;// wavelength in m\n",
"D=a+c;//distance between source and screen in m\n",
"b=D*w/d;//fringes width\n",
"disp(b,'width of fringes in meter')"
   ]
   }
,
{
		   "cell_type": "markdown",
		   "metadata": {},
		   "source": [
			"## Example 1.8: Vertex_angle.sce"
		   ]
		  },
  {
"cell_type": "code",
	   "execution_count": null,
	   "metadata": {
	    "collapsed": true
	   },
	   "outputs": [],
"source": [
"//Example 1.8 // angle of vertex of biprism \n",
"clc;\n",
"clear;\n",
"//given data :\n",
"u=1.5;//referactive index of bi-prism\n",
"b=.2D-3;//fringes width in m\n",
"al=%pi/180;//angle in radian\n",
"w=5D-7;// wavelength in m\n",
"a=0.25;// distance between source & prism in m\n",
"c=1.75;// distance between prism & screen in m\n",
"D=a+c;//distance between source and screen in m\n",
"d=D*w/b;//distance between slits in m\n",
"a1=d/(2*a*(u-1));// angle in radian\n",
"al=a1*180/%pi;// angle in degree\n",
"vert=180-2*al;// vertex angle\n",
"disp(vert,'angle of vertex of biprism in degree')"
   ]
   }
,
{
		   "cell_type": "markdown",
		   "metadata": {},
		   "source": [
			"## Example 1.9: wavelength.sce"
		   ]
		  },
  {
"cell_type": "code",
	   "execution_count": null,
	   "metadata": {
	    "collapsed": true
	   },
	   "outputs": [],
"source": [
"//Example 1.9 // wavelength of ligth  \n",
"clc;\n",
"clear;\n",
"//given data :\n",
"u=1.5;//referactive index of bi-prism\n",
"a=50;// distance between source & prism in cm\n",
"c=50;// distance between prism & screen in cm\n",
"A=179;// angle of bi-prism in degree\n",
"D=a+c;//distance between source and screen in cm\n",
"b=.0135;//fringes width in cm\n",
"al=(180-A)/2;// angle with base in degree\n",
"al=al*%pi/180;//to convert in radian\n",
"w=2*al*(u-1)*a*b/D// wavelength in cm\n",
"disp(w*1D8,'wavelength of light in Angstrom')"
   ]
   }
],
"metadata": {
		  "kernelspec": {
		   "display_name": "Scilab",
		   "language": "scilab",
		   "name": "scilab"
		  },
		  "language_info": {
		   "file_extension": ".sce",
		   "help_links": [
			{
			 "text": "MetaKernel Magics",
			 "url": "https://github.com/calysto/metakernel/blob/master/metakernel/magics/README.md"
			}
		   ],
		   "mimetype": "text/x-octave",
		   "name": "scilab",
		   "version": "0.7.1"
		  }
		 },
		 "nbformat": 4,
		 "nbformat_minor": 0
}
