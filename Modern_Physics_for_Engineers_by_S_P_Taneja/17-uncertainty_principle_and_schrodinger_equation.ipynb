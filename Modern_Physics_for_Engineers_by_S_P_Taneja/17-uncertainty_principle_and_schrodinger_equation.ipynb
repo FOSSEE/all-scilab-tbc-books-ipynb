{
"cells": [
 {
		   "cell_type": "markdown",
	   "metadata": {},
	   "source": [
       "# Chapter 17: uncertainty principle and schrodinger equation"
	   ]
	},
{
		   "cell_type": "markdown",
		   "metadata": {},
		   "source": [
			"## Example 17.1: Uncertainty_in_angle_of_Emergence.sce"
		   ]
		  },
  {
"cell_type": "code",
	   "execution_count": null,
	   "metadata": {
	    "collapsed": true
	   },
	   "outputs": [],
"source": [
"//Example 17.1 //Uncertainty in angle of Emergence \n",
"clc;\n",
"clear;\n",
"//given data :\n",
"E=3.2D-17;//energy of enectron in J\n",
"m=9.1D-31;// mass of electron in kg\n",
"h=6.626D-34;// plank's constant in J.sec\n",
"r=1D-6;//radius of circular hole in m\n",
"p=sqrt(2*m*E);// momentum in Kg.m/sec\n",
"delta_x=2*r;// uncetainty in position in m\n",
"delta_p=h/(delta_x);// uncertainty in momentum in Kg.m/sec\n",
"delta_theta=delta_p/p;//uncertainty in angle of emergence\n",
"disp(delta_theta,' Uncertainty in angle of Emergence in radian');\n",
"\n",
" //in book it is wrongly calculated"
   ]
   }
,
{
		   "cell_type": "markdown",
		   "metadata": {},
		   "source": [
			"## Example 17.2: Uncertainty_in_frequency_and_uncertainty_in_velocity.sce"
		   ]
		  },
  {
"cell_type": "code",
	   "execution_count": null,
	   "metadata": {
	    "collapsed": true
	   },
	   "outputs": [],
"source": [
"//Example 17.2 //Uncertainty in frequency & uncertainty in velocity \n",
"clc;\n",
"clear;\n",
"//given data :\n",
"ha=1.0545D-34;// average  plank's constant in J.sec\n",
"h=6.626D-34;// plank's constant in J.sec\n",
"t=1D-8;//average time elapse in excitation in sec\n",
"E=ha/t;// uncertainty in energy in j\n",
"f=E/h;//Uncertainty in Energy in Hz\n",
"disp(E,'uncertainty in energy in j')\n",
"disp(f,'Uncertainty in Energy in Hz')"
   ]
   }
],
"metadata": {
		  "kernelspec": {
		   "display_name": "Scilab",
		   "language": "scilab",
		   "name": "scilab"
		  },
		  "language_info": {
		   "file_extension": ".sce",
		   "help_links": [
			{
			 "text": "MetaKernel Magics",
			 "url": "https://github.com/calysto/metakernel/blob/master/metakernel/magics/README.md"
			}
		   ],
		   "mimetype": "text/x-octave",
		   "name": "scilab",
		   "version": "0.7.1"
		  }
		 },
		 "nbformat": 4,
		 "nbformat_minor": 0
}
