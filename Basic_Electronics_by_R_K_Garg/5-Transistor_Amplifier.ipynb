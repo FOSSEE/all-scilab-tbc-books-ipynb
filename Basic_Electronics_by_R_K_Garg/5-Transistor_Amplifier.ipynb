{
"cells": [
 {
		   "cell_type": "markdown",
	   "metadata": {},
	   "source": [
       "# Chapter 5: Transistor Amplifier"
	   ]
	},
{
		   "cell_type": "markdown",
		   "metadata": {},
		   "source": [
			"## Example 5.10: Ai_Ri_Av_and_gammaO.sce"
		   ]
		  },
  {
"cell_type": "code",
	   "execution_count": null,
	   "metadata": {
	    "collapsed": true
	   },
	   "outputs": [],
"source": [
"// Exa 5.10\n",
"clc;\n",
"clear;\n",
"close;\n",
"format('v',6)\n",
"// Given data\n",
"h_ie = 1.5;// in ohm\n",
"h_fe = 100;\n",
"h_re = 3 * 10^-4;\n",
"h_oe = 25 * 10^-6;// in  mho\n",
"V_CC = 20;// in V\n",
"R1 = 50 * 10^3;// in ohm\n",
"R2 = 5 * 10^3;// in ohm\n",
"R_C = 5 * 10^3;// in ohm\n",
"R_L = 10 * 10^3;// in ohm\n",
"R_S = 1;// in k ohm\n",
"Ri= 1.4*10^3;// in ohm\n",
"R_B = (R1*R2)/(R1+R2);// in ohm\n",
"R_Ldesh= R_L*R_C/(R_L+R_C);// in ohm\n",
"// Current gain for transisor,\n",
"Ai= -h_fe/(1+h_oe*R_Ldesh);\n",
"// Overall current gain, A_I= Ai+Ib/I= Ai+R_B/(R_B+Ri) \n",
"A_I= Ai*R_B/(R_B+Ri);\n",
"disp(A_I,'The overall current gain is : ')\n",
"//Part (ii)\n",
"R_i= R_B*Ri/(R_B*Ri);// in k ohm\n",
"disp(R_i,'The value of Ri in k ohm is : ')\n",
"// Part (iii)\n",
"Av= A_I*R_Ldesh/Ri;// voltage gain for transistor\n",
"// overall voltage gain,\n",
"A_VS=  Av*R_i/(R_S+R_i);\n",
"disp(A_VS,'The value of A_VS is : ')\n",
"// Part (iv)\n",
"R_S=R_S*10^3;// in ohm\n",
"R_Sdesh= R_S*R_B/(R_S+R_B);// in ohm\n",
"gamma_o= h_re*h_fe/(h_ie+R_Sdesh)-h_oe;// in mho\n",
"gamma_o= round(gamma_o*10^6);// in µ mho\n",
"disp(gamma_o,'The value of gamma_o in µ mho is : ')\n",
"\n",
"// Note: In the book, all these calculated value is not accurate.\n",
"\n",
""
   ]
   }
,
{
		   "cell_type": "markdown",
		   "metadata": {},
		   "source": [
			"## Example 5.11: Ai_Ri_Av_Ro_Ro1_and_Ap.sce"
		   ]
		  },
  {
"cell_type": "code",
	   "execution_count": null,
	   "metadata": {
	    "collapsed": true
	   },
	   "outputs": [],
"source": [
"// Exa 5.11\n",
"clc;\n",
"clear;\n",
"close;\n",
"format('v',6)\n",
"// Given data\n",
"R_S = 800;// in ohm\n",
"R_L = 2;// in k ohm\n",
"R_L = R_L * 10^3;// in ohm\n",
"h_ie = 1.1;// in k ohm\n",
"h_ie = h_ie * 10^3;// in ohm\n",
"h_fe = 50;\n",
"h_oe = 25;// in µohm\n",
"h_oe = h_oe * 10^-6;// in ohm\n",
"h_re = 2.5*10^-4;\n",
"\n",
"// Part (a) : Exact analysis\n",
"disp('Part (a) : Exact analysis')\n",
"// The current gain\n",
"Ai_exact = -h_fe/(1+(h_oe*R_L));\n",
"disp(Ai_exact,'The current gain is');\n",
"// The input resistance \n",
"Ri = h_ie + (h_re*Ai_exact*R_L);// in ohm\n",
"Ri= Ri*10^-3;// in k ohm\n",
"disp(Ri,'The input resistance in k ohm is');\n",
"Ri= Ri*10^3;// in ohm\n",
"A_V = (Ai_exact*R_L)/Ri;\n",
"// The voltage gain,\n",
"A_VS = (A_V*Ri)/(Ri+R_S);\n",
"disp(A_VS,'The voltage gain is');\n",
"Gamma_o = h_oe - ( (h_re*h_fe)/(h_ie+R_S) );// in mho\n",
"// The output resistance \n",
"Ro = 1/Gamma_o;// in ohm\n",
"Ro= Ro*10^-3;// k ohm\n",
"disp(Ro,'The output resistance in k ohm is');\n",
"Ro= Ro*10^3;// ohm\n",
"// The power gain,\n",
"Ap = Ai_exact*A_V;\n",
"disp(Ap,'The power gain is');\n",
"// The output terminal resistance \n",
"Rot = (Ro*R_L)/(Ro+R_L);// in ohm\n",
"Rot= Rot*10^-3;// in k ohm\n",
"disp(Rot,'The output terminal resistance in k ohm is');\n",
"Rot= Rot*10^3;// in ohm\n",
"\n",
"// Part (b) : Approximate analysis\n",
"disp('Part (b) : Approximate analysis')\n",
"h_re =0;\n",
"h_oe = 0;\n",
"Ai_app = -h_fe/(1+(h_oe*R_L));\n",
"disp(Ai_app,'The value of Ai is');\n",
"Ri = h_ie+(h_re*Ai_app*R_L);\n",
"disp(Ri,'The value of Ri in ohm is');\n",
"A_V= Ai_app*R_L/Ri;\n",
"A_VS = (-A_V*h_ie)/(R_S+h_ie);\n",
"disp(A_VS,'The value of A_VS is');\n",
"Gamma_o = 18.42// in µohms\n",
"Gamma_o = Gamma_o * 10^-6;// in mho\n",
"// // The output resistance \n",
"Ro = 1/Gamma_o;// in ohm\n",
"Ro= Ro*10^-3;// k ohm\n",
"disp(Ro,'The output resistance in k ohm is');\n",
"Ro= Ro*10^3;// ohm\n",
"Ap = Ai_app*A_V;\n",
"disp(Ap,'The value of Ap is');\n",
"//The output terminal resistance, Rot = (Ro*R_L)/(Ro+R_L)= 20;// in k ohm\n",
"Rot= 20;// in k ohm\n",
"disp(Rot,'The output terminal resistance in k ohm is');\n",
"Rot= Rot*10^3;// in ohm\n",
"// Percentage error\n",
"Per_error= abs((Ai_exact-Ai_app)/Ai_exact*100);// in %\n",
"disp(Per_error,'The percentage error in % is');\n",
"\n",
"\n",
""
   ]
   }
,
{
		   "cell_type": "markdown",
		   "metadata": {},
		   "source": [
			"## Example 5.13: Voltage_gain_current_gain_and_power_gain.sce"
		   ]
		  },
  {
"cell_type": "code",
	   "execution_count": null,
	   "metadata": {
	    "collapsed": true
	   },
	   "outputs": [],
"source": [
"// Exa 5.13\n",
"clc;\n",
"clear;\n",
"close;\n",
"format('v',6)\n",
"// Given data\n",
"R_S = 600;// in ohm\n",
"r_i = 400;// in ohm\n",
"Vs = 1;// in mV\n",
"Vs = Vs * 10^-3;// in V\n",
"//Input voltage\n",
"Vi = Vs*(r_i/(R_S+r_i));// in V\n",
"// Input current\n",
"Ii =Vs/(R_S+r_i);// in A\n",
"Vo = 100;// in mV\n",
"Vo = Vo * 10^-3;// in V\n",
"R_L = 5;// in  k ohm\n",
"R_L = R_L * 10^3;// in ohm\n",
"// Output current \n",
"Io = Vo/R_L;// in A\n",
"// voltage gain\n",
"A_V =Vo/Vi ; \n",
"disp(A_V,'The voltage gain is');\n",
"// current gain\n",
"A_I = Io/Ii;\n",
"disp(A_I,'The current gain is');\n",
"// Power gain\n",
"P =A_V*A_I;\n",
"disp(P,'The power gain is');"
   ]
   }
,
{
		   "cell_type": "markdown",
		   "metadata": {},
		   "source": [
			"## Example 5.14: Gain_of_negative_feedback_amplifier.sce"
		   ]
		  },
  {
"cell_type": "code",
	   "execution_count": null,
	   "metadata": {
	    "collapsed": true
	   },
	   "outputs": [],
"source": [
"// Exa 5.14\n",
"clc;\n",
"clear;\n",
"close;\n",
"format('v',6)\n",
"// Given data\n",
"A = 125;\n",
"Beta = 1/10;\n",
"// Gain of negative feedback\n",
"Af = A/(1+(A*Beta));\n",
"disp(Af,'The gain of negative feedback is');"
   ]
   }
,
{
		   "cell_type": "markdown",
		   "metadata": {},
		   "source": [
			"## Example 5.15: Value_of_A_and_B.sce"
		   ]
		  },
  {
"cell_type": "code",
	   "execution_count": null,
	   "metadata": {
	    "collapsed": true
	   },
	   "outputs": [],
"source": [
"// Exa 5.15\n",
"clc;\n",
"clear;\n",
"close;\n",
"format('v',6)\n",
"// Given data\n",
"Af = 100;\n",
"Vi = 0.6;// in V\n",
"Vo =Af*Vi;// in V\n",
"Vi = 50;// in mV\n",
"Vi = Vi * 10^-3;// in V\n",
"// Internal gain of amplifier,\n",
"A = Vo/Vi;\n",
"disp(A,'The value of A is : ');\n",
"B= ((A/Af)-1)/A;\n",
"disp(B,'The value of B is');"
   ]
   }
,
{
		   "cell_type": "markdown",
		   "metadata": {},
		   "source": [
			"## Example 5.16: Change_in_overall_gain.sce"
		   ]
		  },
  {
"cell_type": "code",
	   "execution_count": null,
	   "metadata": {
	    "collapsed": true
	   },
	   "outputs": [],
"source": [
"// Exa 5.16\n",
"clc;\n",
"clear;\n",
"close;\n",
"format('v',6)\n",
"// Given data\n",
"A = 60;// in dB\n",
"A =10^(A/20);\n",
"Beta = 0.005;\n",
"dAbyA = -12/100;//gain reduction in %\n",
"dAf_byAf = (1/(1+(A*Beta)))*dAbyA;// change in overall gain\n",
"dAf_byAf = dAf_byAf * 100;// in %\n",
"disp(dAf_byAf,'The change in overall gain in % is');\n",
"disp('Thus, the overall gain will be reduced by 2%')"
   ]
   }
,
{
		   "cell_type": "markdown",
		   "metadata": {},
		   "source": [
			"## Example 5.17: Feedback_Factor.sce"
		   ]
		  },
  {
"cell_type": "code",
	   "execution_count": null,
	   "metadata": {
	    "collapsed": true
	   },
	   "outputs": [],
"source": [
"// Exa 5.17\n",
"clc;\n",
"clear;\n",
"close;\n",
"format('v',7)\n",
"// Given data\n",
"Zo =  12.6;// in k ohm\n",
"Zo = Zo * 10^3;// in ohm\n",
"A = 60;// in dB\n",
"A = 10^(A/20)\n",
"Zof = 500;// in ohm\n",
"// Zof = Zo/(1+(A*Beta));\n",
"Beta = ((Zo/Zof)-1)/A;\n",
"disp(Beta,'The value of feed back factor is');\n",
"// Part (ii)\n",
"dAbyA= 20/100;// change in gain of basic amplifier\n",
"dAf_byAf =dAbyA*1/(1+A*Beta)*100;//change in overall gain  in  %\n",
"disp(dAf_byAf,'The change in overall gain for 20 % change in gain of the basic amplifier in % is');\n",
"\n",
"// Note: In the book, there is calculation error to find the value of dAf/Af"
   ]
   }
,
{
		   "cell_type": "markdown",
		   "metadata": {},
		   "source": [
			"## Example 5.18: output_and_input_voltage.sce"
		   ]
		  },
  {
"cell_type": "code",
	   "execution_count": null,
	   "metadata": {
	    "collapsed": true
	   },
	   "outputs": [],
"source": [
"// Exa 5.18\n",
"clc;\n",
"clear;\n",
"close;\n",
"format('v',6)\n",
"// Given data\n",
"Vo = 36;// in V\n",
"Vi = 0.028;// in V\n",
"A = Vo/Vi;\n",
"Vf = 1.2;\n",
"Vo = 100;\n",
"Beta = Vf/Vo;\n",
"// Gain with feedback\n",
"Af = A/(1+(A*Beta));\n",
"Vs = Vi;// in V\n",
"// Output voltage\n",
"Vo =Af*Vs;// in V\n",
"disp(Vo,'The output voltage in V is');\n",
"//Df =D/(1+(A*Beta));\n",
"DbyDf = 7/1;\n",
"ABeta = (DbyDf)-1;\n",
"Af =A/(1+(ABeta));\n",
"Vo = 36;// in V\n",
"// The input voltage,\n",
"Vs =Vo/Af;\n",
"disp(Vs,'The input voltage is');"
   ]
   }
,
{
		   "cell_type": "markdown",
		   "metadata": {},
		   "source": [
			"## Example 5.19: Required_feedback_ratio.sce"
		   ]
		  },
  {
"cell_type": "code",
	   "execution_count": null,
	   "metadata": {
	    "collapsed": true
	   },
	   "outputs": [],
"source": [
"// Exa 5.19\n",
"clc;\n",
"clear;\n",
"close;\n",
"format('v',6)\n",
"// Given data\n",
"dAf_byAf = 10/100;\n",
"dAbyA = 10;\n",
"A = 1000;\n",
"// dAf_byAf = dAbyA*(1/(1+(A*Beta)));\n",
"// The required feed back \n",
"Beta = ((dAbyA/dAf_byAf)-1)/A;\n",
"disp(Beta,'The required feed back is');\n",
"Af = A/(1+(A*Beta));// closed loop voltage gain \n",
"disp(Af,'The closed loop voltage gain is');"
   ]
   }
,
{
		   "cell_type": "markdown",
		   "metadata": {},
		   "source": [
			"## Example 5.1: Value_of_C_and_hfe.sce"
		   ]
		  },
  {
"cell_type": "code",
	   "execution_count": null,
	   "metadata": {
	    "collapsed": true
	   },
	   "outputs": [],
"source": [
"// Exa 5.1\n",
"clc;\n",
"clear;\n",
"close;\n",
"format('v',6)\n",
"// Given data\n",
"R_C = 10;// in k ohm\n",
"R_C = R_C * 10^3;// in ohm\n",
"f = 2;// in kHz\n",
"f = f * 10^3;// in Hz\n",
"R = 8;// in  k ohm\n",
"R = R * 10^3;// in ohm\n",
"//Formula,  f = 1/(2*%pi*R*C*sqrt(6+((4*R_C)/R)));\n",
"C = 1/(2*%pi*R*f*sqrt(6+((4*R_C)/R)));// in F\n",
"C= C*10^6;// in µF\n",
"disp(C,'The value of capacitor in µF is');\n",
"h_fe= 23+29*R/R_C+4*R_C/R;\n",
"disp(h_fe,'The value of h_fe is : ')"
   ]
   }
,
{
		   "cell_type": "markdown",
		   "metadata": {},
		   "source": [
			"## Example 5.20: Distortion_and_new_value_of_input_required.sce"
		   ]
		  },
  {
"cell_type": "code",
	   "execution_count": null,
	   "metadata": {
	    "collapsed": true
	   },
	   "outputs": [],
"source": [
"// Exa 5.20\n",
"clc;\n",
"clear;\n",
"close;\n",
"format('v',6)\n",
"// Given data\n",
"Vi= 10*10^-3;// input voltage in V\n",
"A=1000;// open loop voltage gain\n",
"Do= 10;//second harmonic distortion in %\n",
"feedback= 40;//feedback in dB\n",
"feedback= 10^(feedback/20);\n",
"// feedback= 1+A*bita or\n",
"bita= (feedback-1)/A\n",
"Af= A/(1+A*bita);\n",
"// New value of second harmonic distortion,\n",
"Df= Do/(1+A*bita);// in %\n",
"disp(Df,' The new value of second harmonic distortion in % is : ')\n",
"// New value of input required,\n",
"Vs= Vi*(1+A*bita);// in V\n",
"disp(Vs,'The new value of input required in volts is : ')"
   ]
   }
,
{
		   "cell_type": "markdown",
		   "metadata": {},
		   "source": [
			"## Example 5.21: Gain_input_voltage_output_voltage_with_feedback.sce"
		   ]
		  },
  {
"cell_type": "code",
	   "execution_count": null,
	   "metadata": {
	    "collapsed": true
	   },
	   "outputs": [],
"source": [
"// Exa 5.21\n",
"clc;\n",
"clear;\n",
"close;\n",
"format('v',6)\n",
"// Given data\n",
"D = 10/100;\n",
"Df = 1/100;\n",
"A = 200;\n",
"Vs = 10;// in mV\n",
"Vs = Vs * 10^-3;// in V\n",
"// Df = D/(1+A*Beta);\n",
"Beta = (((D/Df)-1)/A);\n",
"// gain with feedback \n",
"Af = A/(1+(A*Beta));\n",
"disp(Af,'The gain with feedback is : ');\n",
"// The output voltage \n",
"Vo = Af*Vs;// in V\n",
"disp(Vo,'The output voltage in V is : ');\n",
"// The input voltage \n",
"Vin = Df+(-Beta*Vo);// in V\n",
"disp(Vin,'The input voltage in V is : ');"
   ]
   }
,
{
		   "cell_type": "markdown",
		   "metadata": {},
		   "source": [
			"## Example 5.22: Input_and_output_impedance.sce"
		   ]
		  },
  {
"cell_type": "code",
	   "execution_count": null,
	   "metadata": {
	    "collapsed": true
	   },
	   "outputs": [],
"source": [
"// Exa 5.22\n",
"clc;\n",
"clear;\n",
"close;\n",
"format('v',8)\n",
"// Given data\n",
"A = 10000;\n",
"Beta = 0.02;\n",
"Zi = 1;// in k ohm\n",
"Zi = Zi * 10^3;// in ohm\n",
"Zo = 10;// in k ohm\n",
"Zo = Zo * 10^3;// in ohm\n",
"// The input impedance \n",
"Zif = Zi*(1+(A*Beta));// in ohm\n",
"Zif= Zif*10^-3;// in k ohm\n",
"disp(Zif,'The input impedance in k ohm is');\n",
"// The output impedance \n",
"Zof = Zo/(1+(A*Beta));// in ohm\n",
"Zof= Zof*10^-3;// in k ohm\n",
"disp(Zof,'The output impedance in k ohm is');\n",
"\n",
"// Note: In the book, there is calculation error to find the value of Zof because 10/201 will be 0.04975 not 0.4975"
   ]
   }
,
{
		   "cell_type": "markdown",
		   "metadata": {},
		   "source": [
			"## Example 5.23: Gain_and_frequency_responce.sce"
		   ]
		  },
  {
"cell_type": "code",
	   "execution_count": null,
	   "metadata": {
	    "collapsed": true
	   },
	   "outputs": [],
"source": [
"// Exa 5.23\n",
"clc;\n",
"clear;\n",
"close;\n",
"format('v',6)\n",
"// Given data\n",
"A = 400;\n",
"Beta = 0.01;\n",
"// The gain with feedback\n",
"Af =A/(1+(A*Beta));\n",
"disp(Af,'The gain with feedback is');\n",
"f_L = 200;// in Hz\n",
"// The Lower cut-off frequency with feedback \n",
"f_LF = f_L/(1+(A*Beta));// in Hz\n",
"disp(f_LF,'The Lower cut-off frequency with feedback in Hz is');\n",
"f_H = 40;// in kHz\n",
"f_H = f_H * 10^3;// in Hz\n",
"// The Upper cut-off frequency with feedback \n",
"f_HF = f_H*(1+(A*Beta));// in Hz\n",
"f_HF=f_HF*10^-3;// in k Hz\n",
"disp(f_HF,'The Upper cut-off frequency with feedback in kHz is');\n",
"\n",
"// Note: In the book, there is calculation error to find the value of gain with feedback i.e. Af, so the answer in the book is wrong."
   ]
   }
,
{
		   "cell_type": "markdown",
		   "metadata": {},
		   "source": [
			"## Example 5.24: Feedback_fractio.sce"
		   ]
		  },
  {
"cell_type": "code",
	   "execution_count": null,
	   "metadata": {
	    "collapsed": true
	   },
	   "outputs": [],
"source": [
"// Exa 5.24\n",
"clc;\n",
"clear;\n",
"close;\n",
"// Given data\n",
"format('v',6)\n",
"A = 4000;\n",
"R1 = 1;// in k ohm\n",
"R1 = R1 * 10^3;// in ohm\n",
"R2 = 9;// in k ohm\n",
"R2 = R2 * 10^3;// in ohm\n",
"Beta = R1/(R1+R2);// feedback fraction \n",
"disp(Beta,'The feedback fraction is');\n",
"// The overall voltage gain with feedback \n",
"Af = A/(1+(A*Beta));\n",
"disp(Af,'The overall voltage gain with feedback is');\n",
"Vs = 2;// in mV\n",
"//Af = Vo/Vs;\n",
"// The output voltage \n",
"Vo = Af*Vs;// in mV\n",
"disp(Vo,'The output voltage in mV is');"
   ]
   }
,
{
		   "cell_type": "markdown",
		   "metadata": {},
		   "source": [
			"## Example 5.25: Percentage_reduction_in_harmonic_distortion.sce"
		   ]
		  },
  {
"cell_type": "code",
	   "execution_count": null,
	   "metadata": {
	    "collapsed": true
	   },
	   "outputs": [],
"source": [
"// Exa 5.25\n",
"clc;\n",
"clear;\n",
"close;\n",
"format('v',6)\n",
"// Given data\n",
"A = 54.8;\n",
"A = 20 * log(A);\n",
"Beta = 1/50;// feedback factor\n",
"// gain with feedback\n",
"Af = A/(1+(A*Beta));\n",
"//Distortion with feedback, Df = D/(1+(A*Beta))\n",
"Df = 1;\n",
"D = 12;\n",
"Pd = (Df/D)*100;// percenatge change in distortion in %\n",
"disp(Pd,'The percentage reduction in harmonic distortion in  % is');"
   ]
   }
,
{
		   "cell_type": "markdown",
		   "metadata": {},
		   "source": [
			"## Example 5.26: Minimum_gain_required_for_oscillation.sce"
		   ]
		  },
  {
"cell_type": "code",
	   "execution_count": null,
	   "metadata": {
	    "collapsed": true
	   },
	   "outputs": [],
"source": [
"// Exa 5.26 \n",
"clc;\n",
"clear;\n",
"close;\n",
"format('v',6)\n",
"// Given data\n",
"// Part(iii)\n",
"Vf_byVo= 1/3;\n",
"bita= Vf_byVo;\n",
"// A*bita>=1 or\n",
"// The minimum gain required for oscillation \n",
"Amin= 1/bita;\n",
"disp(Amin,'The minimum gain required for oscillation is : ')"
   ]
   }
,
{
		   "cell_type": "markdown",
		   "metadata": {},
		   "source": [
			"## Example 5.27: Stability_of_an_amplifier.sce"
		   ]
		  },
  {
"cell_type": "code",
	   "execution_count": null,
	   "metadata": {
	    "collapsed": true
	   },
	   "outputs": [],
"source": [
"// Exa 5.27\n",
"clc;\n",
"clear;\n",
"close;\n",
"format('v',9)\n",
"// Magnitude of loop gain, Mag_Tf= bita*100/(sqrt(1+(f/10^5)^2))^3         (i)\n",
"// Phase of loop gain, P_Tf= -3*atand(f/10^5)                                               (ii)\n",
"f_180= tand(180/3)*10^5;// from eq(ii), frequency at which phase becomes -180°\n",
"bita= 0.20;\n",
"T_f_180= bita*100/(sqrt(1+(f_180/10^5)^2))^3;// from eq (i), the magnitude of loop gain at f_180 for bita= 0.20\n",
"disp(T_f_180,'The magnitude of loop gain for beta = 0.20 is : ')\n",
"bita= 0.02;\n",
"T_f_180= bita*100/(sqrt(1+(f_180/10^5)^2))^3;// from eq (i), the magnitude of loop gain at f_180 for bita= 0.20\n",
"disp(T_f_180,'The magnitude of loop gain for beta = 0.20 is : ')\n",
"disp('Hence system is unstable for beta=0.20 and stable for beta= 0.02 because at beta= 0.20 gain is greater than 1.')\n",
""
   ]
   }
,
{
		   "cell_type": "markdown",
		   "metadata": {},
		   "source": [
			"## Example 5.29: Frequency_of_oscillations.sce"
		   ]
		  },
  {
"cell_type": "code",
	   "execution_count": null,
	   "metadata": {
	    "collapsed": true
	   },
	   "outputs": [],
"source": [
"// Exa 5.29\n",
"clc;\n",
"clear;\n",
"close;\n",
"format('v',6)\n",
"// Given data\n",
"L = 0.01;// in H\n",
"C = 10;// in pF\n",
"C = C * 10^-12;// in F\n",
"// The frequency of oscillation \n",
"f = 1/(2*%pi*sqrt(L*C));// in Hz\n",
"f = f * 10^-3;// in kHz\n",
"disp(f,'The frequency of oscillation in kHz is');\n",
"\n",
"// Note: In the book, the calculation is wrong."
   ]
   }
,
{
		   "cell_type": "markdown",
		   "metadata": {},
		   "source": [
			"## Example 5.2: Value_of_C.sce"
		   ]
		  },
  {
"cell_type": "code",
	   "execution_count": null,
	   "metadata": {
	    "collapsed": true
	   },
	   "outputs": [],
"source": [
"// Exa 5.2\n",
"clc;\n",
"clear;\n",
"close;\n",
"format('v',6)\n",
"// Given data\n",
"f = 10;// in kHz\n",
"f = f * 10^3;// in Hz\n",
"R = 100;// in k ohm\n",
"R = R * 10^3;// in ohm\n",
"//Formula used, f = 1/(2*%pi*R*C);\n",
"C = 1/(2*%pi*R*f);// in F\n",
"C = round(C * 10^12);// in pF\n",
"disp(C,'The value of capacitor in pF is');"
   ]
   }
,
{
		   "cell_type": "markdown",
		   "metadata": {},
		   "source": [
			"## Example 5.30: Range_of_variable_capacitor.sce"
		   ]
		  },
  {
"cell_type": "code",
	   "execution_count": null,
	   "metadata": {
	    "collapsed": true
	   },
	   "outputs": [],
"source": [
"// Exa 5.30\n",
"clc;\n",
"clear;\n",
"close;\n",
"format('v',6)\n",
"// Given data\n",
"L = 150;// in µH\n",
"L = L * 10^-6;// in H\n",
"// f = 1/(2*%pi*sqrt(L*C)) or C = 1/(4*%pi^2*f^2*L)\n",
"//For f= 500 kHz\n",
"f1 = 500;// in kHz\n",
"f1 = f1 * 10^3;// in Hz\n",
"C1 = 1/(4*%pi^2*f1^2*L);// in F\n",
"//For f= 1500 kHz\n",
"f2 = 1500;// in kHz\n",
"f2 = f2 * 10^3;// in Hz\n",
"C2 = 1/(4*%pi^2*f2^2*L);// in F\n",
"C1= C1*10^12;// in pF\n",
"C2= C2*10^12;// in pF\n",
"disp('The required capacitor range is : '+string(C2)+' pF to '+string(C1)+' pF')\n",
"\n",
"// Note: The answer in the book is wrong."
   ]
   }
,
{
		   "cell_type": "markdown",
		   "metadata": {},
		   "source": [
			"## Example 5.31: Operating_frequency_and_feedback_fraction.sce"
		   ]
		  },
  {
"cell_type": "code",
	   "execution_count": null,
	   "metadata": {
	    "collapsed": true
	   },
	   "outputs": [],
"source": [
"// Exa 5.31\n",
"clc;\n",
"clear;\n",
"close;\n",
"format('v',6)\n",
"// Given data\n",
"L = 100;// in µH\n",
"L = L * 10^-6;// in H\n",
"A=10;\n",
"C1 = 0.001;// in µF\n",
"C1 = C1 * 10^-6;// in F\n",
"C2 = 0.01;// in µF\n",
"C2 = C2 * 10^-6;// in F\n",
"C = (C1*C2)/(C1+C2);// in F\n",
"f = 1/(2*%pi*sqrt( L*C ));// in Hz\n",
"f = round(f * 10^-3);// in kHz\n",
"disp(f,'The operating frequency in kHz is');\n",
"Beta = C1/C2;// feedback fraction\n",
"disp(Beta,'The feed back fraction is');\n",
"//Minimum gain to sustain oscillations, Amin*Beta = 1;\n",
"Amin = 1/Beta;\n",
"disp(Amin,'The minimum gain to sustain oscillation is');\n",
"// A = R_C/R_E;\n",
"R_C = 2.5;// in ohm\n",
"R_E = R_C/A;// in ohm\n",
"disp(R_E,'The emitter resistance in ohm is');"
   ]
   }
,
{
		   "cell_type": "markdown",
		   "metadata": {},
		   "source": [
			"## Example 5.32: Value_of_capacitor_of_oscillatory.sce"
		   ]
		  },
  {
"cell_type": "code",
	   "execution_count": null,
	   "metadata": {
	    "collapsed": true
	   },
	   "outputs": [],
"source": [
"// Exa 5.32\n",
"clc;\n",
"clear;\n",
"close;\n",
"format('v',6)\n",
"// Given data\n",
"L1 = 0.1;// in mH\n",
"L1 = L1 * 10^-3;// in H\n",
"L2 = 10;// in mH\n",
"L2 = L2 * 10^-3;// in H\n",
"L = 150;// in µH\n",
"L = L * 10^-6;// in H\n",
"f = 4110;// in kHz\n",
"f = f * 10^3;// in Hz\n",
"//Frequency of oscillations, f = 1/(2*%pi*sqrt(L*C)), So\n",
"C = 1/(4*(%pi^2)*(f^2)*L );// in F\n",
"C = round(C * 10^12);// in pF\n",
"disp(C,'The value of capacitor in pF is');"
   ]
   }
,
{
		   "cell_type": "markdown",
		   "metadata": {},
		   "source": [
			"## Example 5.33: Value_of_C.sce"
		   ]
		  },
  {
"cell_type": "code",
	   "execution_count": null,
	   "metadata": {
	    "collapsed": true
	   },
	   "outputs": [],
"source": [
"// Exa 5.33\n",
"clc;\n",
"clear;\n",
"close;\n",
"format('v',6)\n",
"// Given data\n",
"f = 1;// in kHz\n",
"f = f * 10^3;// in Hz\n",
"R = 10;// in k ohm\n",
"R = R * 10^3;// in ohm\n",
"omega = 2*%pi*f;//in rad/sec\n",
"phi = 60;// in degree\n",
"// tand(phi) = Alpha_C/R = 1/(omega*C*R);\n",
"C = 1/(omega*R*tand(phi));// in F\n",
"C = C * 10^6;// in µF\n",
"disp(C,'The value of C in µF is');"
   ]
   }
,
{
		   "cell_type": "markdown",
		   "metadata": {},
		   "source": [
			"## Example 5.34: Frequency_of_oscillations.sce"
		   ]
		  },
  {
"cell_type": "code",
	   "execution_count": null,
	   "metadata": {
	    "collapsed": true
	   },
	   "outputs": [],
"source": [
"// Exa 5.34\n",
"clc;\n",
"clear;\n",
"close;\n",
"format('v',8)\n",
"// Given data\n",
"R2 = 200;// in k ohm\n",
"R2 = R2 * 10^3;// in ohm\n",
"R1 = R2;// in ohm\n",
"C2 = 250;// in pF\n",
"C2 = C2 * 10^-12;// in F\n",
"C1 = C2;// in F\n",
"R = R2;// in ohm\n",
"C = C2;// in F\n",
"// Frequency of oscillations,\n",
"f = 1/(2*%pi*R*C);// in Hz\n",
"disp(f,'The frequency in Hz is');\n",
"\n",
"// Note: The answer in the book is not accurate."
   ]
   }
,
{
		   "cell_type": "markdown",
		   "metadata": {},
		   "source": [
			"## Example 5.36: Frequency_of_oscillations.sce"
		   ]
		  },
  {
"cell_type": "code",
	   "execution_count": null,
	   "metadata": {
	    "collapsed": true
	   },
	   "outputs": [],
"source": [
"// Exa 5.36\n",
"clc;\n",
"clear;\n",
"close;\n",
"format('v',5)\n",
"// Given data\n",
"C1 = 300;// in pF\n",
"C2 = 100;// in pF\n",
"Ceq = (C1*C2)/(C1+C2);// in pF\n",
"Ceq = Ceq * 10^-12;// in F\n",
"L = 50;// in µH\n",
"L = L * 10^-6;// in H\n",
"// The frequency of oscillation \n",
"f = 1/(2*%pi*sqrt(L*Ceq));// in Hz\n",
"f = f * 10^-6;// in MHz\n",
"disp(f,'The frequency of oscillation in MHz is');\n",
"// For maintaining oscillation, A_loop >=1 and Aopenloop*Beta = 1;\n",
"// Beta = C2/C1;\n",
"Aopenloop = C1/C2;\n",
"disp(Aopenloop,'The minimum gain for maintaining oscillation is');"
   ]
   }
,
{
		   "cell_type": "markdown",
		   "metadata": {},
		   "source": [
			"## Example 5.3: Paraller_and_seried_resonant_frequency_and_Q_factor.sce"
		   ]
		  },
  {
"cell_type": "code",
	   "execution_count": null,
	   "metadata": {
	    "collapsed": true
	   },
	   "outputs": [],
"source": [
"// Exa 5.3\n",
"clc;\n",
"clear;\n",
"close;\n",
"format('v',6)\n",
"// Given data\n",
"C = 0.06;// in pF\n",
"C = C * 10^-12;// in F\n",
"L = 0.5;// in H\n",
"R = 10;// in k ohm\n",
"R = R * 10^3;// in ohm\n",
"Cm = 1;// in pF\n",
"Cm = Cm * 10^-12;// in F\n",
"// The parallel resonant frequency \n",
"f_p = (1/(2*%pi))*( sqrt( (C+Cm)/(L*C*Cm) ) );// in Hz\n",
"f_p= f_p*10^-3;// in kHz\n",
"disp(f_p,'The parallel resonant frequency in kHz is');\n",
"// The series resonant frequency \n",
"f_s = 1/(2*%pi*(sqrt(L*C)));// in Hz\n",
"f_s= f_s*10^-3;// in kHz\n",
"disp(f_s,'The series resonant frequency in kHz is ');\n",
"omega_s = 2*%pi*f_s*10^3;// in rad/sec\n",
"// The Q factor of the crystal \n",
"Q = (omega_s*L)/R;\n",
"disp(Q,'The Q factor of the crystal is');"
   ]
   }
,
{
		   "cell_type": "markdown",
		   "metadata": {},
		   "source": [
			"## Example 5.4: h_parameters.sce"
		   ]
		  },
  {
"cell_type": "code",
	   "execution_count": null,
	   "metadata": {
	    "collapsed": true
	   },
	   "outputs": [],
"source": [
"// Exa 5.4\n",
"clc;\n",
"clear;\n",
"close;\n",
"format('v',6)\n",
"// Given data\n",
"R1 = 6;// in ohm\n",
"R2 = 4;// in ohm\n",
"R3 = 4;// in ohm\n",
"h11 = R1+( (R2*R3)/(R2+R3) );// in ohm\n",
"disp(h11,'The value of h11 in ohm is');\n",
"// i2 = -i*1/2 and h21 = i2/i1 = (-i1/2)/2, So\n",
"h21 = -1/2;\n",
"disp(h21,'The value of h21 is');\n",
"// V1 = V2/2 and h12 = V1/V2 = (V2/2)/2, SO\n",
"h12 = 1/2;\n",
"disp(h12,'The value of h12 is');\n",
"Zo = R2+R3;// output resistance  in ohm\n",
"h22 = 1/Zo;// in mho\n",
"disp(h22,'The value of h22 in mho is');"
   ]
   }
,
{
		   "cell_type": "markdown",
		   "metadata": {},
		   "source": [
			"## Example 5.5: h_parameters.sce"
		   ]
		  },
  {
"cell_type": "code",
	   "execution_count": null,
	   "metadata": {
	    "collapsed": true
	   },
	   "outputs": [],
"source": [
"// Exa 5.5\n",
"clc;\n",
"clear;\n",
"close;\n",
"format('v',6)\n",
"// Given data\n",
"R1 = 3;// in ohm\n",
"R2 = 6;// in ohm\n",
"R3 = 2;// in ohm\n",
"// V1 = (R1*I1)+  (R2*(I1+I2)) = ((R1+R2)*I1)+(R2*I2)   (i)\n",
"// V2 = (R3*I2) + (R2*(I1+I2)) = (R2*I1) + ((R1+R3)*I2) (ii)\n",
"// Standard h-parameter equation \n",
"//V1= h11*I1 +h12*I2 and V2= h21*I1 + h22*I2\n",
"// Comparing eq (i) and (ii) with standard equaation, we get\n",
"h11= R1+R2;\n",
"disp(h11,'The value of h11 is');\n",
"h12= R2;\n",
"disp(h12,'The value of h12 is');\n",
"h21= R2;\n",
"disp(h21,'The value of h21 is');\n",
"h22= R2+R3;\n",
"disp(h22,'The value of h22 is');"
   ]
   }
,
{
		   "cell_type": "markdown",
		   "metadata": {},
		   "source": [
			"## Example 5.7: Value_of_Ai_Av_Avs_Ri_and_Ro.sce"
		   ]
		  },
  {
"cell_type": "code",
	   "execution_count": null,
	   "metadata": {
	    "collapsed": true
	   },
	   "outputs": [],
"source": [
"// Exa 5.7\n",
"clc;\n",
"clear;\n",
"close;\n",
"format('v',6)\n",
"// Given data\n",
"h_ic = 1.1;// in  k ohm\n",
"h_ic = h_ic * 10^3;// in ohm\n",
"h_rc = 1;\n",
"h_fc = -51;\n",
"h_oc = 25;// in µA/V\n",
"h_oc = h_oc * 10^-6;// in A/V\n",
"R_L = 10;// in k ohm\n",
"R_L = R_L * 10^3;// in ohm\n",
"R_S = R_L;// in ohm\n",
"// The current gain,\n",
"Ai = -h_fc/(1+(h_oc*R_L));\n",
"disp(Ai,'The value of Ai is');\n",
"// The value of Ri \n",
"Ri = h_ic+(h_rc*Ai*R_L);// in ohm\n",
"Ri= Ri*10^-3;// in k ohm\n",
"disp(Ri,'The value of Ri in k ohm is');\n",
"Ri= Ri*10^3;// in ohm\n",
"// The value of A_V \n",
"A_V = (Ai*R_L)/Ri;\n",
"disp(A_V,'The value of A_V is');\n",
"Gamma_o = h_oc - ( (h_fc*h_rc)/(h_ic+R_S) );// in mho\n",
"// The value of Ro \n",
"Ro = round(1/Gamma_o);// in ohm\n",
"disp(Ro,'The value of Ro in ohm is');\n",
"A_VS = (A_V*Ri)/(Ri+R_S);\n",
"disp(A_VS,'The value of A_VS is');"
   ]
   }
],
"metadata": {
		  "kernelspec": {
		   "display_name": "Scilab",
		   "language": "scilab",
		   "name": "scilab"
		  },
		  "language_info": {
		   "file_extension": ".sce",
		   "help_links": [
			{
			 "text": "MetaKernel Magics",
			 "url": "https://github.com/calysto/metakernel/blob/master/metakernel/magics/README.md"
			}
		   ],
		   "mimetype": "text/x-octave",
		   "name": "scilab",
		   "version": "0.7.1"
		  }
		 },
		 "nbformat": 4,
		 "nbformat_minor": 0
}
