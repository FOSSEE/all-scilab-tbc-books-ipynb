{
"cells": [
 {
		   "cell_type": "markdown",
	   "metadata": {},
	   "source": [
       "# Chapter 1: Semiconductor Materials And Junction Diode"
	   ]
	},
{
		   "cell_type": "markdown",
		   "metadata": {},
		   "source": [
			"## Example 1.10: Minority_carrier_concentration.sce"
		   ]
		  },
  {
"cell_type": "code",
	   "execution_count": null,
	   "metadata": {
	    "collapsed": true
	   },
	   "outputs": [],
"source": [
"// Exa 1.10\n",
"clc;\n",
"clear;\n",
"close;\n",
"format('v',7)\n",
"// Given data\n",
"n_i = 1.5*10^16;//m^3\n",
"impurity = 10^20;\n",
"minority = (n_i^2)/impurity;// in atoms/m^3\n",
"q = 1.6*10^-19;// in C\n",
"rho = 2*10^3;// in ohm-m\n",
"// The miniority carrier concentration \n",
"miu_n = 1/(q*rho*n_i*2);//  in m^2/V-s\n",
"disp(miu_n,'The miniority carrier concentration in m^2/V-s is');\n",
"n = impurity;\n",
"// The conductivity,\n",
"sigma = q*impurity*miu_n;// in (ohm-m)^-1\n",
"// The resistivity \n",
"rho = 1/sigma;// in  ohm-m\n",
"disp(rho,'The resistivity in ohm-m is');\n",
"kT = 0.026;// in eV\n",
"n_o = n;\n",
"// The position of Fermi level \n",
"E_FdividedEi = kT*log(n_o/n_i);// in eV\n",
"disp(E_FdividedEi,'The position of Fermi level in eV is : ');\n",
"format('e',8)\n",
"// Minority carrier concentration \n",
"M = ((n_i*2)^2)/n_o;// in atoms/cm^3\n",
"disp(M,'Minority carrier concentration in atoms/cm^3 is');"
   ]
   }
,
{
		   "cell_type": "markdown",
		   "metadata": {},
		   "source": [
			"## Example 1.11: Conductivity_and_resistivity_of_an_intrinsic_sample.sce"
		   ]
		  },
  {
"cell_type": "code",
	   "execution_count": null,
	   "metadata": {
	    "collapsed": true
	   },
	   "outputs": [],
"source": [
"// Exa 1.12\n",
"clc;\n",
"clear;\n",
"close;\n",
"format('v',5)\n",
"// Given data\n",
"d = 5.0*10^22;// in atoms/cm^3\n",
"impurity = 10^8;// in atoms\n",
"N_D = d/impurity;\n",
"n_i = 1.45*10^10;\n",
"n = N_D;\n",
"//Low of mass action,  n*p = (n_i^2);\n",
"p = (n_i^2)/n;// in /cm^3\n",
"q = 1.6*10^-19;// in C\n",
"miu_n = 1300;// in cm/V-s\n",
"n_i = n;\n",
"//The Conductivity\n",
"sigma = q*miu_n*n_i;// in (ohm-cm)^-1\n",
"// The resistivity\n",
"rho = 1/sigma;// in ohm-cm\n",
"disp(rho,'The resistivity in ohm-cm is');"
   ]
   }
,
{
		   "cell_type": "markdown",
		   "metadata": {},
		   "source": [
			"## Example 1.12: Resistivity.sce"
		   ]
		  },
  {
"cell_type": "code",
	   "execution_count": null,
	   "metadata": {
	    "collapsed": true
	   },
	   "outputs": [],
"source": [
"// Exa 1.12\n",
"clc;\n",
"clear;\n",
"close;\n",
"format('v',5)\n",
"// Given data\n",
"d = 5.0*10^22;// in atoms/cm^3\n",
"impurity = 10^8;// in atoms\n",
"N_D = d/impurity;\n",
"n_i = 1.45*10^10;\n",
"n = N_D;\n",
"//Low of mass action,  n*p = (n_i^2);\n",
"p = (n_i^2)/n;// in /cm^3\n",
"q = 1.6*10^-19;// in C\n",
"miu_n = 1300;// in cm/V-s\n",
"n_i = n;\n",
"//The Conductivity\n",
"sigma = q*miu_n*n_i;// in (ohm-cm)^-1\n",
"// The resistivity\n",
"rho = 1/sigma;// in ohm-cm\n",
"disp(rho,'The resistivity in ohm-cm is');"
   ]
   }
,
{
		   "cell_type": "markdown",
		   "metadata": {},
		   "source": [
			"## Example 1.14: Minority_carrier_concentration.sce"
		   ]
		  },
  {
"cell_type": "code",
	   "execution_count": null,
	   "metadata": {
	    "collapsed": true
	   },
	   "outputs": [],
"source": [
"// Exa 1.14\n",
"clc;\n",
"clear;\n",
"close;\n",
"format('v',6)\n",
"// Given data\n",
"n_i = 1.5*10^10;// in electrons/cm^3\n",
"N_D = 10^17;// in electrons/cm^3\n",
"n = N_D;// in electrons/cm^3\n",
"// The minority carrier concentration\n",
"p = (n_i^2)/n;// in holes/cm^3\n",
"disp(p,'The minority carrier concentration in holes/cm^3 is');\n",
"kT = 0.026;\n",
"// The location of Fermi level \n",
"E_FminusEi = kT*log(N_D/n_i);// in eV\n",
"disp(E_FminusEi,'The location of Fermi level in eV is');"
   ]
   }
,
{
		   "cell_type": "markdown",
		   "metadata": {},
		   "source": [
			"## Example 1.15: Doping_level_and_drift_velocity.sce"
		   ]
		  },
  {
"cell_type": "code",
	   "execution_count": null,
	   "metadata": {
	    "collapsed": true
	   },
	   "outputs": [],
"source": [
"// Exa 1.15\n",
"clc;\n",
"clear;\n",
"close;\n",
"format('e',9)\n",
"// Given data\n",
"V = 1;// in V\n",
"I = 8;// in mA\n",
"I = I * 10^-3;// in A\n",
"R = V/I;// in ohm\n",
"l = 2;// in mm\n",
"l = l * 10^-1;// in cm\n",
"b = 2;// in mm\n",
"b = b * 10^-1;// in cm\n",
"A = l*b;// in cm^2\n",
"L = 2;// in cm\n",
"// R = (rho*L)/A;\n",
"sigma = L/(R*A);// in (ohm-cm)^-1\n",
"// n = N_D;\n",
"miu_n = 1300;// in cm^2/V-s\n",
"q = 1.6 * 10^-19;// in C\n",
"// sigma = n*q*miu_n;\n",
"N_D = sigma/( miu_n*q );// in /cm^3\n",
"disp(N_D,'The doping level in /cm^3 is');\n",
"d = 2;\n",
"E = V/d;\n",
"// The drift velocity \n",
"Vd = miu_n * E;// in cm/s\n",
"disp(Vd,'The drift velocity in cm/sec is');"
   ]
   }
,
{
		   "cell_type": "markdown",
		   "metadata": {},
		   "source": [
			"## Example 1.17: Conductivity_mobility_and_drift_velocity.sce"
		   ]
		  },
  {
"cell_type": "code",
	   "execution_count": null,
	   "metadata": {
	    "collapsed": true
	   },
	   "outputs": [],
"source": [
"// Exa 1.17\n",
"clc;\n",
"clear;\n",
"close;\n",
"format('e',9)\n",
"// Given data\n",
"l = 1000;// in ft\n",
"l = l * 12*2.54;// in cm\n",
"R = 6.51;// in ohm\n",
"rho = R/l;// in ohm/cm\n",
"// The conductivity \n",
"sigma = 1/rho;// in mho/cm\n",
"sigma = sigma * 10^2;// in mho/m\n",
"D= 1.03*10^-3;// in m\n",
"A= %pi*D^2/4;// in m^2\n",
"disp(sigma,'The conductivity in mho/m is');\n",
"q = 1.6*10^-19;// in C\n",
"n = 8.4*10^28;// in electrons/m^3\n",
"// sigma = n*q*miu;\n",
"miu = sigma/(n*q);// in m^2/V-s\n",
"disp(miu,'The mobility in m^2/V-s is');\n",
"T = 2;\n",
"// The drift velocity \n",
"V = T/(n*q*A);// in m/s\n",
"disp(V,'The drift velocity in m/s is');"
   ]
   }
,
{
		   "cell_type": "markdown",
		   "metadata": {},
		   "source": [
			"## Example 1.18: Concentration_of_holes_and_electrons.sce"
		   ]
		  },
  {
"cell_type": "code",
	   "execution_count": null,
	   "metadata": {
	    "collapsed": true
	   },
	   "outputs": [],
"source": [
"// Exa 1.18\n",
"clc;\n",
"clear;\n",
"close;\n",
"format('e',8)\n",
"// Given data\n",
"N_D = 2*10^16;// in /cm^3\n",
"N_A = 5*10^15;// in /cm^3\n",
"// The concentration of holes \n",
"Pp = N_D-N_A;// in /cm^3\n",
"disp(Pp,'The concentration of holes in /cm^3 is');\n",
"n_i = 10^12;\n",
"// The concentartion of electrons \n",
"n_p = (n_i^2)/Pp;// in /cm^3\n",
"disp(n_p,'The concentartion of electrons in /cm^3 is');"
   ]
   }
,
{
		   "cell_type": "markdown",
		   "metadata": {},
		   "source": [
			"## Example 1.19: Hall_angle.sce"
		   ]
		  },
  {
"cell_type": "code",
	   "execution_count": null,
	   "metadata": {
	    "collapsed": true
	   },
	   "outputs": [],
"source": [
"// Exa 1.19\n",
"clc;\n",
"clear;\n",
"close;\n",
"format('v',6)\n",
"// Given data\n",
"rho = 0.005;// in ohm-m\n",
"Bz = 0.48;// in Wb/m^2\n",
"R_H = 3.55*10^-4;// in m^3/C\n",
"ExByJx= rho;\n",
"// R_H = Ey/(Bz*Jx);\n",
"EyByJx= R_H*Bz;\n",
"// The hall angle \n",
"theta_H = atand(EyByJx/ExByJx);// in °\n",
"disp(theta_H,'The hall angle in degree is');"
   ]
   }
,
{
		   "cell_type": "markdown",
		   "metadata": {},
		   "source": [
			"## Example 1.1: Drift_velocity.sce"
		   ]
		  },
  {
"cell_type": "code",
	   "execution_count": null,
	   "metadata": {
	    "collapsed": true
	   },
	   "outputs": [],
"source": [
"// Exa 1.1\n",
"clc;\n",
"clear;\n",
"close;\n",
"format('v',6)\n",
"// Given data\n",
"miu = 0.2;// in m^2/V-s\n",
"V = 100;// in mV\n",
"V = V * 10^-3;// in V\n",
"d = 0.5;// in mm\n",
"d = d * 10^-3;// in m\n",
"// mobility, miu = Vd/E and\n",
"E = V/d;\n",
"// Drift velocity,\n",
"Vd = miu*E;// in m/s\n",
"disp(Vd,'The electron drift velocity in m/s is');\n",
"// Time required,\n",
"T = d/Vd;// in sec\n",
"T=T*10^6;// in µs\n",
"disp(T,'The time required for an electron to move across the thickness in micro seconds is');"
   ]
   }
,
{
		   "cell_type": "markdown",
		   "metadata": {},
		   "source": [
			"## Example 1.20: Voltage_between_contact.sce"
		   ]
		  },
  {
"cell_type": "code",
	   "execution_count": null,
	   "metadata": {
	    "collapsed": true
	   },
	   "outputs": [],
"source": [
"// Exa 1.20\n",
"clc;\n",
"clear;\n",
"close;\n",
"format('v',9)\n",
"// Given data\n",
"R_H = 3.55 * 10^-4;// in m^3/C\n",
"Ix = 15;// in mA\n",
"Ix = Ix * 10^-3;// in A\n",
"A = 15*1;// in mm\n",
"A = A * 10^-6;// in m^2\n",
"Bz = 0.48;// in Wb/m^2\n",
"Jx = Ix/A;// in A/m^2\n",
"// R_H = Ey/(Bz*Jx);\n",
"Ey = R_H*Bz*Jx;// in V/m\n",
"// voltage between contacts \n",
"Voltage = Ey*Ix;// in V\n",
"disp(Voltage,'The voltage between contacts in V is');"
   ]
   }
,
{
		   "cell_type": "markdown",
		   "metadata": {},
		   "source": [
			"## Example 1.21: Concentration_of_donar_atoms.sce"
		   ]
		  },
  {
"cell_type": "code",
	   "execution_count": null,
	   "metadata": {
	    "collapsed": true
	   },
	   "outputs": [],
"source": [
"// Exa 1.21\n",
"clc;\n",
"clear;\n",
"close;\n",
"format('e',8)\n",
"// Given data\n",
"A = 0.001;// in cm^2\n",
"l = 20;// in µm\n",
"l = l * 10^-4;// in cm\n",
"V = 20;// in V\n",
"I = 100;// in mA\n",
"I = I * 10^-3;// in A\n",
"R = V/I;// in ohm\n",
"// R = l/(sigma*A);\n",
"sigma = l/(R*A);// in (ohm-cm)^-1\n",
"miu_n = 1350;// in cm^2/V-s\n",
"q = 1.6*10^-19;// in C\n",
"// sigma = n*q*miu_n or\n",
"// The concentration of donor atoms \n",
"n = sigma/(q*miu_n);// in cm^-3\n",
"disp(n,'The concentration of donor atoms in cm^-3 is');"
   ]
   }
,
{
		   "cell_type": "markdown",
		   "metadata": {},
		   "source": [
			"## Example 1.22: Dopping_needed.sce"
		   ]
		  },
  {
"cell_type": "code",
	   "execution_count": null,
	   "metadata": {
	    "collapsed": true
	   },
	   "outputs": [],
"source": [
"// Exa 1.22\n",
"clc;\n",
"clear;\n",
"close;\n",
"format('e',8)\n",
"// Given data\n",
"R = 2;// in k ohm\n",
"R = R * 10^3;// in ohm\n",
"L = 200;// in µm\n",
"L = L * 10^-4;// in cm\n",
"A = 10^-6;// in cm^2\n",
"miu_n = 8000;// in cm^2/V-s\n",
"q = 1.6*10^-19;// in C\n",
"n = '0.9*N_D';\n",
"// R = (rho*l)/A= (1/(n*q*miu_n))*(l/A);\n",
"// rho = L/(R*q*miu_n*A);\n",
"n = L/(R*q*miu_n*A);// in /cm^-3\n",
"// The doping needed \n",
"Nd= n/0.9\n",
"disp(Nd,'The doping needed in cm^-3 is');"
   ]
   }
,
{
		   "cell_type": "markdown",
		   "metadata": {},
		   "source": [
			"## Example 1.23: Position_of_Fermi_level.sce"
		   ]
		  },
  {
"cell_type": "code",
	   "execution_count": null,
	   "metadata": {
	    "collapsed": true
	   },
	   "outputs": [],
"source": [
"// Exa 1.23\n",
"clc;\n",
"clear;\n",
"close;\n",
"format('v',6)\n",
"// Given data\n",
"KT = 26*10^-3;\n",
"Nd = 10^15;\n",
"n_i = 1.5*10^10;\n",
"// The position of the Fermi level \n",
"E_FminusE_Fi = KT*log(abs( Nd/n_i ));// in eV\n",
"disp(E_FminusE_Fi,'The position of the Fermi level in eV is');"
   ]
   }
,
{
		   "cell_type": "markdown",
		   "metadata": {},
		   "source": [
			"## Example 1.24: Concentration_of_donar_atoms_added.sce"
		   ]
		  },
  {
"cell_type": "code",
	   "execution_count": null,
	   "metadata": {
	    "collapsed": true
	   },
	   "outputs": [],
"source": [
"// Exa 1.24\n",
"clc;\n",
"clear;\n",
"close;\n",
"format('e',9)\n",
"// Given data\n",
"Na = 5 * 10^15;// in cm^-3\n",
"Nc = 2.8 * 10^19;// in cm^-3\n",
"E_CminusE_F = 0.215;// in eV\n",
"KT = 26* 10^-3;// in eV\n",
"// The concentration of donors atoms \n",
"Nd = Na + Nc * (%e^( -E_CminusE_F/KT ));// in cm^-3\n",
"disp(Nd,'The concentration of donors atoms in cm^-3 is');"
   ]
   }
,
{
		   "cell_type": "markdown",
		   "metadata": {},
		   "source": [
			"## Example 1.25: Dopping_efficiency_of_sample.sce"
		   ]
		  },
  {
"cell_type": "code",
	   "execution_count": null,
	   "metadata": {
	    "collapsed": true
	   },
	   "outputs": [],
"source": [
"// Exa 1.25\n",
"clc;\n",
"clear;\n",
"close;\n",
"format('v',5)\n",
"// Given data\n",
"Nd = 10^18;\n",
"R = 10;// in ohm\n",
"A =10^-6;// in cm^2\n",
"L = 10;// in mm\n",
"L = L * 10^-4;// in cm\n",
"miu_n = 800;// in cm^2/V-s\n",
"q = 1.6*10^-19;// in C\n",
"//Formula used, n = L/(q*miu_n*A*R)\n",
"n = L/(q*miu_n*A*R);// in cm^-3\n",
"// The percentage doping efficiency \n",
"doping = (n/Nd)*100;// % doping efficiency in %\n",
"disp(doping,'The percentage doping efficiency in % is');"
   ]
   }
,
{
		   "cell_type": "markdown",
		   "metadata": {},
		   "source": [
			"## Example 1.26: Flowing_current.sce"
		   ]
		  },
  {
"cell_type": "code",
	   "execution_count": null,
	   "metadata": {
	    "collapsed": true
	   },
	   "outputs": [],
"source": [
"// Exa 1.26\n",
"clc;\n",
"clear;\n",
"close;\n",
"format('v',6)\n",
"// Given data\n",
"Io = 2*10^-7;// in A\n",
"V = 0.1;// in V\n",
"// Current through the diode under forward bias,\n",
"I = Io*( (%e^(40*V))-1 );// in A\n",
"I = I * 10^6;// in µA\n",
"disp(I,'The current through the diode under forward bias in µA is');\n",
"\n",
"// Note: Calculated value of I in the book is wrong."
   ]
   }
,
{
		   "cell_type": "markdown",
		   "metadata": {},
		   "source": [
			"## Example 1.28: Dynamic_resistance.sce"
		   ]
		  },
  {
"cell_type": "code",
	   "execution_count": null,
	   "metadata": {
	    "collapsed": true
	   },
	   "outputs": [],
"source": [
"// Exa 1.28\n",
"clc;\n",
"clear;\n",
"close;\n",
"format('v',6)\n",
"// Given data\n",
"T = 125;// in degree C\n",
"T = T + 273;// in K\n",
"V_T = T/11600;\n",
"Io = 30;// in µA\n",
"Io = Io * 10^-6;// in A\n",
"V = 0.2;// in V\n",
"// The dynamic resistance in forward direction,\n",
"r_f = V_T/( Io * (%e^(V/V_T)) );// in ohm\n",
"disp(r_f,'The dynamic resistance in forward direction in ohm is');\n",
"r_f = V_T/( Io * (%e^(-V/V_T)) );// in ohm\n",
"// The dynamic resistance in reverse direction \n",
"r_f = r_f * 10^-6;// in Mohm\n",
"disp(r_f,'The dynamic resistance in reverse direction in Mohm is');"
   ]
   }
,
{
		   "cell_type": "markdown",
		   "metadata": {},
		   "source": [
			"## Example 1.29: Voltage.sce"
		   ]
		  },
  {
"cell_type": "code",
	   "execution_count": null,
	   "metadata": {
	    "collapsed": true
	   },
	   "outputs": [],
"source": [
"// Exa 1.29\n",
"clc;\n",
"clear;\n",
"close;\n",
"format('v',6)\n",
"// Given data\n",
"Eta = 1;\n",
"V_T = 0.026;\n",
"// I = Io*( (%e^(V/(Eta*V_T))) - 1 ) and  I = -Io;\n",
"// I = -0.9*Io;\n",
"// -0.9*Io = Io*( (%e^(V/(Eta*V_T))) - 1 );\n",
"V = Eta*V_T*log(0.1);// in V\n",
"V = V * 10^3;// in mV\n",
"disp(V,'The voltage in mV is');\n",
"V = 0.05;// in V\n",
"// The ratio of diode current with a forward bias to current with a reverse bias \n",
"If_by_Ir= ( (%e^(V/V_T))-1 )/( (%e^(-V/V_T))-1 );\n",
"disp(If_by_Ir,'The ratio of diode current with a forward bias to current with a reverse bias is');\n",
"Io = 10;// in µA\n",
"V = 0.1;// in V\n",
"// The value of I1 \n",
"I1 = Io*( (%e^(V/V_T))-1 );// in µA\n",
"disp(I1,'The value of I1 in µA is');\n",
"V = 0.2;// in V\n",
"// The value of I2\n",
"I2 = Io*( (%e^(V/V_T))-1 );// in µA \n",
"I2 = I2 * 10^-3;// in mA\n",
"disp(I2,'The value of I2 in mA is');\n",
"V = 0.3;// in V\n",
"// The value of I3\n",
"I3 = Io*( (%e^(V/V_T))-1 );// in µA\n",
"I3 = I3 * 10^-6;// in A\n",
"disp(I3,'The value of I3 in A is');"
   ]
   }
,
{
		   "cell_type": "markdown",
		   "metadata": {},
		   "source": [
			"## Example 1.2: Intrinsic_Conductivity.sce"
		   ]
		  },
  {
"cell_type": "code",
	   "execution_count": null,
	   "metadata": {
	    "collapsed": true
	   },
	   "outputs": [],
"source": [
"// Exa 1.2\n",
"clc;\n",
"clear;\n",
"close;\n",
"format('v',6)\n",
"// Given data\n",
"q = 1.6*10^-19;// in C\n",
"n_i = 2.5*10^19;// in /m^3\n",
"miu_n = 0.38;// in m^2/V-s\n",
"miu_p = 0.18;// in m^2/V-s\n",
"// The intrinsic conductivity for germanium,\n",
"sigma_i = q*n_i*(miu_n+miu_p);// in (ohm-m)^-1\n",
"disp(sigma_i,'The intrinsic conductivity in (ohm-m)^-1 is');"
   ]
   }
,
{
		   "cell_type": "markdown",
		   "metadata": {},
		   "source": [
			"## Example 1.30: Factor.sce"
		   ]
		  },
  {
"cell_type": "code",
	   "execution_count": null,
	   "metadata": {
	    "collapsed": true
	   },
	   "outputs": [],
"source": [
"// Exa 1.30\n",
"clc;\n",
"clear;\n",
"close;\n",
"format('v',6)\n",
"// Given data\n",
"// Io150 = Io25 * 2^((150-25)/10);\n",
"//Io150 = 5800*Io25;\n",
"T = 150;// in degree C\n",
"T = T  + 273;// in K\n",
"V_T = 8.62*10^-5 * T;// in V\n",
"V = 0.4;// in V\n",
"Eta = 2;\n",
"Vt = 0.026;// in V \n",
"// The factor  by which current will get multiplied \n",
"I150byI25= 5800*%e^(V/(Eta*V_T))/%e^(V/(Eta*Vt));\n",
"disp(I150byI25,'The factor  by which current will get multiplied is');"
   ]
   }
,
{
		   "cell_type": "markdown",
		   "metadata": {},
		   "source": [
			"## Example 1.31: Operating_Point.sce"
		   ]
		  },
  {
"cell_type": "code",
	   "execution_count": null,
	   "metadata": {
	    "collapsed": true
	   },
	   "outputs": [],
"source": [
"// Exa 1.31\n",
"clc;\n",
"clear;\n",
"close;\n",
"format('v',6)\n",
"// Given data\n",
"R = 1;// in ohm\n",
"V = 5;// in V\n",
"V1 = 0.5;// in V\n",
"R1 = 1;// in k ohm\n",
"R1 = R1 * 10^3;// in ohm\n",
"// V-(I_D*R1)-(I_D*R) - V1 = 0;\n",
"I_D = (V-V1)/(R1+R);// in A\n",
"I_D = I_D * 10^3;// in mA\n",
"V_D = (I_D*10^-3*R) + V1;// in V\n",
"disp('The operating point of the diode is : '+string(V_D)+' V, '+string(I_D)+' mA')"
   ]
   }
,
{
		   "cell_type": "markdown",
		   "metadata": {},
		   "source": [
			"## Example 1.32: VOlage_drop_across_the_forward_bias_diode.sce"
		   ]
		  },
  {
"cell_type": "code",
	   "execution_count": null,
	   "metadata": {
	    "collapsed": true
	   },
	   "outputs": [],
"source": [
"// Exa 1.32\n",
"clc;\n",
"clear;\n",
"close;\n",
"format('v',6)\n",
"// Given data\n",
"Eta = 1;\n",
"kT = 26;// in meV\n",
"// (%e^((e*V1)/kT)) = 2 or\n",
"//The voltage drop across the forward biased diode\n",
"V1 = log(2)*kT;// in mV\n",
"V1= V1*10^-3;// in V\n",
"disp(V1,'The voltage drop across the forward biased diode, in V is');"
   ]
   }
,
{
		   "cell_type": "markdown",
		   "metadata": {},
		   "source": [
			"## Example 1.33: Space_charge_capacitance_of_Ge_diode.sce"
		   ]
		  },
  {
"cell_type": "code",
	   "execution_count": null,
	   "metadata": {
	    "collapsed": true
	   },
	   "outputs": [],
"source": [
"// Exa 1.33\n",
"clc;\n",
"clear;\n",
"close;\n",
"format('v',6)\n",
"// Given data\n",
"epsilon_Ge = 16/(36*%pi*10^11);// in F/cm\n",
"d = 2*10^-4;// in cm\n",
"A = 1;// in mm^2\n",
"A = A * 10^-2;// in cm^2\n",
"epsilon_o = epsilon_Ge;// in F/cm\n",
"// The space charge capacitance \n",
"C_T = (epsilon_o*A)/d;// in F\n",
"C_T = C_T * 10^12;// in pF\n",
"disp(C_T,'The space charge capacitance in pF is');"
   ]
   }
,
{
		   "cell_type": "markdown",
		   "metadata": {},
		   "source": [
			"## Example 1.34: Transition_capacitance.sce"
		   ]
		  },
  {
"cell_type": "code",
	   "execution_count": null,
	   "metadata": {
	    "collapsed": true
	   },
	   "outputs": [],
"source": [
"// Exa 1.34\n",
"clc;\n",
"clear;\n",
"close;\n",
"format('v',6)\n",
"// Given data\n",
"D = 0.102;// in cm \n",
"A = (%pi*(D^2))/4;// in cm^2\n",
"sigma_p = 0.286;// in (ohm-cm)^-1\n",
"q = 1.6*10^-19;// in C\n",
"miu_p = 500;\n",
"// Formula used, sigma_p = q*miu_p*N_A;\n",
"N_A = sigma_p/(q*miu_p);// in atoms/cm^3\n",
"V1 = 5;// in V\n",
"V2 = 0.35;// in V\n",
"Vb = V1+V2;// in V\n",
"// The transition capacitance,\n",
"C_T = 2.92*10^-4*((N_A/Vb)^(1/2))*A;// in pF/cm^2\n",
"disp(C_T,'The value of C_T in pf/cm^2 is');"
   ]
   }
,
{
		   "cell_type": "markdown",
		   "metadata": {},
		   "source": [
			"## Example 1.35: Transition_capacitance.sce"
		   ]
		  },
  {
"cell_type": "code",
	   "execution_count": null,
	   "metadata": {
	    "collapsed": true
	   },
	   "outputs": [],
"source": [
"// Exa 1.35\n",
"clc;\n",
"clear;\n",
"close;\n",
"format('v',6)\n",
"// Given data\n",
"C_T1 = 15;// in pF\n",
"Vb1 = 8;// in V\n",
"Vb2 = 12;// in V\n",
"// C_T1/C_T2 = (Vb2/Vb1)^(1/2);\n",
"C_T2 = C_T1 * ((Vb1/Vb2)^(1/2));// in pF\n",
"disp(C_T2,'The value of C_T for reverse bias in pF is');"
   ]
   }
,
{
		   "cell_type": "markdown",
		   "metadata": {},
		   "source": [
			"## Example 1.36: Voltage.sce"
		   ]
		  },
  {
"cell_type": "code",
	   "execution_count": null,
	   "metadata": {
	    "collapsed": true
	   },
	   "outputs": [],
"source": [
"// Exa 1.36\n",
"clc;\n",
"clear;\n",
"close;\n",
"format('v',6)\n",
"// Given data\n",
"V_T = 0.026;// in V\n",
"Eta = 1;\n",
"I = '-0.9*Io';\n",
"// T = Io*((%e^(V/(Eta*V_T)))-1 );\n",
"// I = Io*((%e^(V/(Eta*V_T)))-1 );\n",
"V = log(0.1)*V_T;// in V \n",
"V = V * 10^3;// in mV\n",
"disp(V,'The voltage in mV is');"
   ]
   }
,
{
		   "cell_type": "markdown",
		   "metadata": {},
		   "source": [
			"## Example 1.37: Drain_current.sce"
		   ]
		  },
  {
"cell_type": "code",
	   "execution_count": null,
	   "metadata": {
	    "collapsed": true
	   },
	   "outputs": [],
"source": [
"// Exa 1.37\n",
"clc;\n",
"clear;\n",
"close;\n",
"format('v',6)\n",
"// Given data\n",
"Vin = 20;// in V\n",
"Vgamma = 0.7;// in V\n",
"R = 20;// in k ohm\n",
"R = R * 10^3;// in ohm\n",
"// Vin-(I_D*Vin) - Vgamma = 0 or\n",
"// The value of I_D,\n",
"I_D = (Vin-Vgamma)/R;// in A\n",
"I_D = I_D * 10^3;// in mA\n",
"disp(I_D,'Part (a) : The value of I_D for first circuit in mA is');\n",
"\n",
"// Part (b)\n",
"Vin= 10;// in V\n",
"Vgamma = 0.7;// in V\n",
"R = 100;// in k ohm\n",
"// Drain current,\n",
"I_D= Vin/R;// in mV\n",
"disp(I_D,'Part (b) : The value of I_D for second circuit in mA is ')"
   ]
   }
,
{
		   "cell_type": "markdown",
		   "metadata": {},
		   "source": [
			"## Example 1.38: Vo_and_ID.sce"
		   ]
		  },
  {
"cell_type": "code",
	   "execution_count": null,
	   "metadata": {
	    "collapsed": true
	   },
	   "outputs": [],
"source": [
"// Exa 1.38\n",
"clc;\n",
"clear;\n",
"close;\n",
"format('v',6)\n",
"// Given data\n",
"R1 = 1;// in k ohm\n",
"R1 = R1 * 10^3;// in ohm\n",
"R2 = 2;// in k ohm\n",
"R2 = R2 * 10^3;// in ohm\n",
"V = 10;// in V\n",
"V1 = 0.7;// in V \n",
"// V * (I_D*R1) - (R2*I_D) - V1 = 0;\n",
"I_D = (V-V1)/(R1+R2);// in A\n",
"I_D = I_D * 10^3;// in mA\n",
"disp(I_D,'The value of I_D in mA is');\n",
"// The output voltage,\n",
"Vo = (I_D*10^-3 * R2) +V1;// in V\n",
"disp(Vo,'The value of Vo in V is');"
   ]
   }
,
{
		   "cell_type": "markdown",
		   "metadata": {},
		   "source": [
			"## Example 1.39: Current_in_each_branch.sce"
		   ]
		  },
  {
"cell_type": "code",
	   "execution_count": null,
	   "metadata": {
	    "collapsed": true
	   },
	   "outputs": [],
"source": [
"// Exa 1.39\n",
"clc;\n",
"clear;\n",
"close;\n",
"format('v',6)\n",
"// Given data\n",
"V = 10;// in V\n",
"R = 10;// in ohm\n",
"// Current through resistance,\n",
"I = V/R;// in A\n",
"disp(I,'Part (a): The current through resistance in A is : ')\n",
"disp('Part (b) : Current through 10 ohm resistance will be Zero')\n",
"disp('Part (c): Current will be zero')\n",
"disp(I,'Part (d): The diode will be ON and current in A is : ')"
   ]
   }
,
{
		   "cell_type": "markdown",
		   "metadata": {},
		   "source": [
			"## Example 1.3: Intrinsic_carrier_concentration.sce"
		   ]
		  },
  {
"cell_type": "code",
	   "execution_count": null,
	   "metadata": {
	    "collapsed": true
	   },
	   "outputs": [],
"source": [
"// Exa 1.3\n",
"clc;\n",
"clear;\n",
"close;\n",
"format('e',10)\n",
"// Given data\n",
"rho = 0.50;// in ohm-m\n",
"q = 1.6*10^-19;// in C\n",
"miu_n = 0.39;// in m^2/V-s\n",
"miu_p = 0.19;// in m^2/V-s\n",
"sigma = 1/rho;// in (ohm-m)^-1\n",
"//conductivity of a semiconductor, sigma = q*n_i*(miu_p+miu_n) or\n",
"n_i = sigma/(q*(miu_n+miu_p));// in /m^3\n",
"disp(n_i,'The intrinsic carrier concentration per m^3 is');"
   ]
   }
,
{
		   "cell_type": "markdown",
		   "metadata": {},
		   "source": [
			"## Example 1.40: Operating_Point.sce"
		   ]
		  },
  {
"cell_type": "code",
	   "execution_count": null,
	   "metadata": {
	    "collapsed": true
	   },
	   "outputs": [],
"source": [
"// Exa 1.40\n",
"clc;\n",
"clear;\n",
"close;\n",
"format('v',6)\n",
"// Given data\n",
"Vth= 0.5;// in V\n",
"R_F= 1*10^3;// in ohm\n",
"V= 5;// in V\n",
"// Applying KVL for loop, V-Vd-R_F*Ii= 0    (i)\n",
"// When Ii=0\n",
"Vd= V;// in V\n",
"// When Vd= 0\n",
"Ii= V/R_F;// in A\n",
"// From eq(i)\n",
"Ii= (V-Vth)/R_F;// in A\n",
"Vd= V-R_F*Ii;// in V\n",
"disp('The operating point is  : '+string(Vd)+' V, '+string(Ii*10^3)+' mA')"
   ]
   }
,
{
		   "cell_type": "markdown",
		   "metadata": {},
		   "source": [
			"## Example 1.43: Voltages.sce"
		   ]
		  },
  {
"cell_type": "code",
	   "execution_count": null,
	   "metadata": {
	    "collapsed": true
	   },
	   "outputs": [],
"source": [
"// Exa 1.43\n",
"clc;\n",
"clear;\n",
"close;\n",
"format('v',6)\n",
"// Given data\n",
"V_CC = 6;// in V\n",
"Vr = 0.6;// in V\n",
"V1= V_CC;//in V\n",
"V2 = V1-Vr;// in V\n",
"disp(V1,'The voltage at V1 in volts is : ')\n",
"disp(V2,'The voltage at V2 in volts is : ')"
   ]
   }
,
{
		   "cell_type": "markdown",
		   "metadata": {},
		   "source": [
			"## Example 1.44: I1_and_I2.sce"
		   ]
		  },
  {
"cell_type": "code",
	   "execution_count": null,
	   "metadata": {
	    "collapsed": true
	   },
	   "outputs": [],
"source": [
"// Exa 1.44\n",
"clc;\n",
"clear;\n",
"close;\n",
"format('v',6)\n",
"// Given data\n",
"V_T = 0.7;// in V\n",
"V = 5;// in V\n",
"R = 2;// in k ohm\n",
"R = R * 10^3;// in ohm\n",
"Vs = 0.7;\n",
"Vx = Vs+V_T;// in V\n",
"// The value of I1 \n",
"I1 = (V-Vx)/R;// in A\n",
"I1 = I1 * 10^3;// in mA\n",
"disp(I1,'The value of I1 in mA is');\n",
"// The value of I2 \n",
"I2 = I1;// in mA\n",
"disp(I2,'The value of I2 in mA is');"
   ]
   }
,
{
		   "cell_type": "markdown",
		   "metadata": {},
		   "source": [
			"## Example 1.45: Output_waveform.sce"
		   ]
		  },
  {
"cell_type": "code",
	   "execution_count": null,
	   "metadata": {
	    "collapsed": true
	   },
	   "outputs": [],
"source": [
"// Exa 1.45\n",
"clc;\n",
"clear;\n",
"close;\n",
"format('v',6)\n",
"// Given data\n",
"Rf = 300;// in ohm\n",
"V = 0.5;// in V\n",
"R = 600;// in ohm\n",
"Vi = 2;// in V\n",
"// The output voltage \n",
"Vo = (Vi-V)*( R/(R+Rf) );// in V\n",
"disp(Vo,'The value of Vo in V is');"
   ]
   }
,
{
		   "cell_type": "markdown",
		   "metadata": {},
		   "source": [
			"## Example 1.4: Conductivity_of_Si_sample.sce"
		   ]
		  },
  {
"cell_type": "code",
	   "execution_count": null,
	   "metadata": {
	    "collapsed": true
	   },
	   "outputs": [],
"source": [
"// Exa 1.4\n",
"clc;\n",
"clear;\n",
"close;\n",
"format('v',6)\n",
"// Given data\n",
"N_D = 10^21;// in /m^3\n",
"N_A = 5*10^20;// in /m^3\n",
"NdasD = N_D-N_A;// in /m^3\n",
"n = NdasD;// in /m^3\n",
"miu_n = 0.18;// in m^2/V-s\n",
"q = 1.6*10^-19;// in C\n",
"// The conductivity of silicon,\n",
"sigma = q*n*miu_n;// in (ohm-m)^-1\n",
"disp(sigma,'The conductivity of Si sample in (ohm-m)^-1 is');"
   ]
   }
,
{
		   "cell_type": "markdown",
		   "metadata": {},
		   "source": [
			"## Example 1.5: Conductivity_of_the_copper.sce"
		   ]
		  },
  {
"cell_type": "code",
	   "execution_count": null,
	   "metadata": {
	    "collapsed": true
	   },
	   "outputs": [],
"source": [
"// Exa 1.5\n",
"clc;\n",
"clear;\n",
"close;\n",
"format('e',8)\n",
"// Given data\n",
"At = 63.54;// atomic weight of copper\n",
"d = 8.9;// density in gm/cm^3\n",
"n = 6.023*10^23/At*d;// in electron/cm^3\n",
"q = 1.63*10^-19;// in C\n",
"miu = 34.8;// in m^2/V-s\n",
"// The conductivity of copper,\n",
"sigma = n*q*miu;// in mho/cm\n",
"disp(sigma,'The conductivity of copper in mho/cm is');"
   ]
   }
,
{
		   "cell_type": "markdown",
		   "metadata": {},
		   "source": [
			"## Example 1.6: Concentration_of_holes_and_electrons.sce"
		   ]
		  },
  {
"cell_type": "code",
	   "execution_count": null,
	   "metadata": {
	    "collapsed": true
	   },
	   "outputs": [],
"source": [
"// Exa 1.6\n",
"clc;\n",
"clear;\n",
"close;\n",
"format('e',9)\n",
"// Given data\n",
"sigma = 100;// in (ohm-m)^-1\n",
"n_i = 2.5*10^13;// in /cm^3\n",
"miu_n = 3800;// in cm^2/V-s\n",
"miu_p = 1800;// in cm^2/V-s\n",
"q = 1.6*10^-19;// in C\n",
"// Conductivity of a p-type germanium, sigma = q*p*miu_p or\n",
"p = sigma/(q*miu_p);// in /cm^3\n",
"disp(p,'Concentration of holes in a p-type Ge in /cm^3 is');\n",
"// The concentration of electrons in a p-type Ge\n",
"n = (n_i^2)/p;// in /cm^3\n",
"disp(n,'The concentration of electrons in a p-type Ge in /cm^3 is');\n",
"//Given for Si\n",
"sigma= 0.1;// in (ohm m)^-1\n",
"miu_n= 1300;// in cm^2/V-sec\n",
"n_i= 1.5*10^10;// in /cm^3\n",
"//sigma = q*n*miu_n;\n",
"n = sigma/(q*miu_n);// in /cm^3\n",
"disp(n,'The concentration of electrons in n-type Si in /cm^3 is');\n",
"// The concentration of holes in n-type Si\n",
"p = (n_i^2)/n;// in /cm^3\n",
"disp(p,'The concentration of holes in n-type Si in /cm^3 is');"
   ]
   }
,
{
		   "cell_type": "markdown",
		   "metadata": {},
		   "source": [
			"## Example 1.7: Resistivity_of_Ge_sample.sce"
		   ]
		  },
  {
"cell_type": "code",
	   "execution_count": null,
	   "metadata": {
	    "collapsed": true
	   },
	   "outputs": [],
"source": [
"// Exa 1.7\n",
"clc;\n",
"clear;\n",
"close;\n",
"format('v',6)\n",
"// Given data\n",
"miu_n = 3800;// cm^2/V-s\n",
"miu_p = 1800;//  cm^2/V-s\n",
"n_i = 2.5*10^13;// in /cm^3\n",
"Nge = 4.41*10^22;// in /cm^3\n",
"q = 1.602*10^-19;// in C\n",
"impurity = 10^8;\n",
"// The number of donor atoms,\n",
"N_D = Nge/impurity;//in /cm^3\n",
"// The number of holes\n",
"p = (n_i^2)/N_D;// in /cm^3\n",
"// Conductivity of an N-type Ge,\n",
"sigma = q*N_D*miu_n;// in (ohm-cm)^-1\n",
"// The resistivity of the Ge\n",
"rho = 1/sigma;// in ohm-cm\n",
"disp(rho,'The resistivity of a dopped Ge in ohm-cm is');"
   ]
   }
,
{
		   "cell_type": "markdown",
		   "metadata": {},
		   "source": [
			"## Example 1.8: Resistivity_of_intrinsic_Si.sce"
		   ]
		  },
  {
"cell_type": "code",
	   "execution_count": null,
	   "metadata": {
	    "collapsed": true
	   },
	   "outputs": [],
"source": [
"// Exa 1.8\n",
"clc;\n",
"clear;\n",
"close;\n",
"format('e',8)\n",
"// Given data\n",
"Nsi = 4.96*10^22;// in /cm^3\n",
"n_i = 1.52*10^10;// in /cm^2\n",
"q = 1.6*10^-19;// in C\n",
"miu_n = 0.135;// in  m^2/V-s\n",
"miu_n = miu_n * 10^4;// in  cm^2/V-s\n",
"miu_p = 0.048;// in  m^2/V-s\n",
"miu_p = miu_p * 10^4;// in  cm^2/V-s\n",
"// The conductivity of an intrinsic silicon,\n",
"sigma = q*n_i*(miu_n+miu_p);// in (ohm-cm)^-1\n",
"// The resistivity of intrinsic silicon \n",
"rho = 1/sigma;// in ohm-cm\n",
"disp(rho,'The resistivity of intrinsic silicon in ohm-cm is');\n",
"format('v',5)\n",
"impurity = 50*10^6;\n",
"// The number of donor atoms,\n",
"N_D = Nsi/impurity;// in /cm^3\n",
"// Total free electrons,\n",
"n = N_D;// in /cm^3\n",
"// Total holes in a doped Si,\n",
"p = (n_i^2)/n;// in /cm^3\n",
"// Conductivity of a doped Si,\n",
"sigma = q*n*miu_n;// in (ohm-m)^-1\n",
"// The resistivity of doped silicon\n",
"rho = 1/sigma;// in ohm-cm\n",
"disp(rho,'The resistivity of doped silicon in ohm-cm is');"
   ]
   }
,
{
		   "cell_type": "markdown",
		   "metadata": {},
		   "source": [
			"## Example 1.9: Value_of_temperature.sce"
		   ]
		  },
  {
"cell_type": "code",
	   "execution_count": null,
	   "metadata": {
	    "collapsed": true
	   },
	   "outputs": [],
"source": [
"// Exa 1.9\n",
"clc;\n",
"clear;\n",
"close;\n",
"format('v',6)\n",
"// Given data\n",
"N_D= 5*10^28/(2*10^8);\n",
"// The Fermi level, E_F= E_C if,\n",
"N_C= N_D;\n",
"// Formula N_C= 4.82*10^21*T^(3/2)\n",
"T= (N_C/(4.82*10^21))^(2/3);// in K\n",
"disp(T,'The value of temperature in K is : ')"
   ]
   }
],
"metadata": {
		  "kernelspec": {
		   "display_name": "Scilab",
		   "language": "scilab",
		   "name": "scilab"
		  },
		  "language_info": {
		   "file_extension": ".sce",
		   "help_links": [
			{
			 "text": "MetaKernel Magics",
			 "url": "https://github.com/calysto/metakernel/blob/master/metakernel/magics/README.md"
			}
		   ],
		   "mimetype": "text/x-octave",
		   "name": "scilab",
		   "version": "0.7.1"
		  }
		 },
		 "nbformat": 4,
		 "nbformat_minor": 0
}
