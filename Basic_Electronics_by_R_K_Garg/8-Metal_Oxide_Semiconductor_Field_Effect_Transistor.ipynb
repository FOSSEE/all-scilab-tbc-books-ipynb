{
"cells": [
 {
		   "cell_type": "markdown",
	   "metadata": {},
	   "source": [
       "# Chapter 8: Metal Oxide Semiconductor Field Effect Transistor"
	   ]
	},
{
		   "cell_type": "markdown",
		   "metadata": {},
		   "source": [
			"## Example 8.1: Transfer_Characteristics.sce"
		   ]
		  },
  {
"cell_type": "code",
	   "execution_count": null,
	   "metadata": {
	    "collapsed": true
	   },
	   "outputs": [],
"source": [
"// Exa 8.1\n",
"clc;\n",
"clear;\n",
"close;\n",
"format('v',6)\n",
"// Given data\n",
"I_DSS= 10;// in mA\n",
"V_P= -4;// in V\n",
"V_GS= 0:-0.1:V_P;// in V\n",
"// The value of I_D,\n",
"I_D= I_DSS*(1-V_GS/V_P)^2;// in mA\n",
"plot(V_GS,I_D)\n",
"xlabel('V_GS in volts');\n",
"ylabel('I_D in mA');\n",
"title('Transfer characteristics for an n-channel depletion-type MOSFET');\n",
"disp('Transfer characteristics for an n-channel depletion-type MOSFET shown in figure.')"
   ]
   }
,
{
		   "cell_type": "markdown",
		   "metadata": {},
		   "source": [
			"## Example 8.2: Value_of_VDS.sce"
		   ]
		  },
  {
"cell_type": "code",
	   "execution_count": null,
	   "metadata": {
	    "collapsed": true
	   },
	   "outputs": [],
"source": [
"// Exa 8.2\n",
"clc;\n",
"clear;\n",
"close;\n",
"format('v',6)\n",
"// Given data\n",
"V_DD= 20;// in V\n",
"V_GS = 0;// in V\n",
"I_DSS = 10;// in mA\n",
"I_P = I_DSS;// in mA\n",
"I_D = I_DSS;// in mA\n",
"R_D = 1.5;// in k ohm\n",
"// The drain to source voltage,\n",
"V_DS = V_DD - (I_D*R_D);// in V\n",
"disp(V_DS,'The value of V_DS in V is');"
   ]
   }
,
{
		   "cell_type": "markdown",
		   "metadata": {},
		   "source": [
			"## Example 8.3: Drain_curent.sce"
		   ]
		  },
  {
"cell_type": "code",
	   "execution_count": null,
	   "metadata": {
	    "collapsed": true
	   },
	   "outputs": [],
"source": [
"// Exa 8.3\n",
"clc;\n",
"clear;\n",
"close;\n",
"format('v',7)\n",
"// Given data\n",
"I_Don = 5;// in mA\n",
"V_GS = 8;// in V\n",
"V_GST = 4;// in V\n",
"K = I_Don/((V_GS-V_GST)^2);// in mA/V^2\n",
"// Drain current when V_GS= 6 V\n",
"V_GS= 6;// in V\n",
"I_D = K*((V_GS-V_GST)^2);// in mA\n",
"disp(I_D,'The drain current in mA is');"
   ]
   }
,
{
		   "cell_type": "markdown",
		   "metadata": {},
		   "source": [
			"## Example 8.4: Value_of_ID.sce"
		   ]
		  },
  {
"cell_type": "code",
	   "execution_count": null,
	   "metadata": {
	    "collapsed": true
	   },
	   "outputs": [],
"source": [
"// Exa 8.4\n",
"clc;\n",
"clear;\n",
"close;\n",
"format('v',5)\n",
"// Given data\n",
"I_Don = 10;// in mA\n",
"V_GS = -12;// in V\n",
"V_Ton = -3;// in V\n",
"if V_GS<0 then\n",
"    disp('Since the value of V_GS is negative, hence the device is P-channel')\n",
"end\n",
"K = I_Don/((V_GS-V_Ton)^2);// in mA/V\n",
"V_GS = -6;// in V\n",
"// The drain current,\n",
"I_D = K*( (V_GS-V_Ton)^2 );// in mA\n",
"disp(I_D,'The value of I_D in mA is');\n",
"\n",
"// Note: The answer in the book is not accurate."
   ]
   }
,
{
		   "cell_type": "markdown",
		   "metadata": {},
		   "source": [
			"## Example 8.5: IDQ_and_VDS.sce"
		   ]
		  },
  {
"cell_type": "code",
	   "execution_count": null,
	   "metadata": {
	    "collapsed": true
	   },
	   "outputs": [],
"source": [
"// Exa 8.5\n",
"clc;\n",
"clear;\n",
"close;\n",
"format('v',9)\n",
"// Given data\n",
"I_Don = 5;// in mA\n",
"V_GSon = 7;// in V\n",
"V_T = 4;// in V\n",
"V_DD = 9;// in V\n",
"R_D = 1.2;// in k ohm\n",
"R_S = 0.5;// in k ohm\n",
"K = (I_Don)/((V_GSon-V_T)^2);// in mA/V^2\n",
"// The value of drain current,\n",
"I_D = K*((V_GSon-V_T)^2);// in mA\n",
"disp(I_D,'The value of I_D in mA is');\n",
"//The drain to source voltage, V_DS = V_DD - (I_D*R_D) - (I_D*R_S);\n",
"V_DS = V_DD - (I_D*(R_D+R_S));// in V\n",
"disp(V_DS,'The value of V_DS in V');\n",
"\n",
"// Note: The answer in the book is not accurate."
   ]
   }
],
"metadata": {
		  "kernelspec": {
		   "display_name": "Scilab",
		   "language": "scilab",
		   "name": "scilab"
		  },
		  "language_info": {
		   "file_extension": ".sce",
		   "help_links": [
			{
			 "text": "MetaKernel Magics",
			 "url": "https://github.com/calysto/metakernel/blob/master/metakernel/magics/README.md"
			}
		   ],
		   "mimetype": "text/x-octave",
		   "name": "scilab",
		   "version": "0.7.1"
		  }
		 },
		 "nbformat": 4,
		 "nbformat_minor": 0
}
