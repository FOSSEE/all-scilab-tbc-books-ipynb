{
"cells": [
 {
		   "cell_type": "markdown",
	   "metadata": {},
	   "source": [
       "# Chapter 7: Junction Field Effect Transistor"
	   ]
	},
{
		   "cell_type": "markdown",
		   "metadata": {},
		   "source": [
			"## Example 7.10: Transconductance.sce"
		   ]
		  },
  {
"cell_type": "code",
	   "execution_count": null,
	   "metadata": {
	    "collapsed": true
	   },
	   "outputs": [],
"source": [
"// Exa 7.10\n",
"clc;\n",
"clear;\n",
"close;\n",
"format('v',6)\n",
"// Given data\n",
"I_D1 = 1.2;// in mA\n",
"I_D2 = 1.5;// in mA\n",
"// change in gate to source voltage,\n",
"delI_D = I_D2-I_D1;// in mA\n",
"V_GS2 = -4.10;// in V\n",
"V_GS1 = -4.25;// in V\n",
"delV_GS = V_GS2-V_GS1;// in V\n",
"// The transconductance \n",
"g_m = delI_D/delV_GS;// in mA/V\n",
"disp(g_m,'The transconductance in mA/V is');"
   ]
   }
,
{
		   "cell_type": "markdown",
		   "metadata": {},
		   "source": [
			"## Example 7.11: Id_and_gm.sce"
		   ]
		  },
  {
"cell_type": "code",
	   "execution_count": null,
	   "metadata": {
	    "collapsed": true
	   },
	   "outputs": [],
"source": [
"// Exa 7.11\n",
"clc;\n",
"clear;\n",
"close;\n",
"format('v',6)\n",
"// Given data\n",
"I_DSS = 8.4;// in mA\n",
"V_P = -3;// in V\n",
"V_GS = -1.5;// in V\n",
"// The value of I_D,\n",
"I_D = I_DSS*((1-(V_GS/V_P))^2);// in mA\n",
"disp(I_D,'The value of I_D in mA is');\n",
"g_mo = (-2*I_DSS)/V_P;// in mA/V\n",
"// The value of g_m \n",
"g_m = g_mo*(1-(V_GS/V_P));// in mA/V\n",
"disp(g_m,'The value of g_m in mA/V is');"
   ]
   }
,
{
		   "cell_type": "markdown",
		   "metadata": {},
		   "source": [
			"## Example 7.12: Pinch_off_voltage_for_Si_and_Ge.sce"
		   ]
		  },
  {
"cell_type": "code",
	   "execution_count": null,
	   "metadata": {
	    "collapsed": true
	   },
	   "outputs": [],
"source": [
"// Exa 7.12\n",
"clc;\n",
"clear;\n",
"close;\n",
"format('v',6)\n",
"// Given data\n",
"rho = 10;// in ohm-cm\n",
"epsilon_o = 8.86*10^-12;// in c^2/Nm^2\n",
"a = 2*10^-4;// in cm\n",
"// V_P= q*N_A*a^2/(2*epsilon)       (i)\n",
"//  and sigma= n*miu*q = N_A*miu*q => N_A= 1/(q*miu*rho)    (ii)\n",
"// From eq(i) and (ii), V_P = (a^2)/(2*miu_p*Epsilon*rho)\n",
"miu_p= 500;// in cm^2/V-sec  (for Si)\n",
"epsilon= 12*epsilon_o;// for Si\n",
"// The pinch off voltage for Si \n",
"V_P = (a^2)/(2*miu_p*epsilon*rho);//in V\n",
"disp(V_P,'Part (a) : The pinch off voltage for Si in volts is : ')\n",
"miu_p= 1800;// in cm^2/V-sec  (for Ge)\n",
"epsilon= 16*epsilon_o;// for Ge\n",
"// The pinch off voltage for Ge \n",
"V_P = (a^2)/(2*miu_p*epsilon*rho);//in V\n",
"disp(V_P,'Part (b) : The pinch off voltage for Ge in volts is : ')\n",
""
   ]
   }
,
{
		   "cell_type": "markdown",
		   "metadata": {},
		   "source": [
			"## Example 7.14: gm_rd_Zi_Zo_and_Av.sce"
		   ]
		  },
  {
"cell_type": "code",
	   "execution_count": null,
	   "metadata": {
	    "collapsed": true
	   },
	   "outputs": [],
"source": [
"// Exa 7.14\n",
"clc;\n",
"clear;\n",
"close;\n",
"format('v',6)\n",
"// Given data\n",
"I_DSS = 16*10^-3;// in A\n",
"V_P = 4;// in V\n",
"V_GS= 2.86;//in V\n",
"Yos = 25;// in µS\n",
"Yos= Yos* 10^-6;// in S\n",
"R_S= 2.2*10^3;// in ohm\n",
"//gm = gmo * (1-(V_GS/V_P)) or\n",
"gm= 2*I_DSS/V_P*(1-V_GS/V_P);// in A/V\n",
"gm= gm*10^3;// in mA/V\n",
"disp(gm,'Part (i) : The value of gm in mS or mA/V is');\n",
"gm= gm*10^-3;// in A/V\n",
"r_d = 1/Yos;// in ohm\n",
"r_d= r_d*10^-3;// in k ohm\n",
"disp(r_d,'The value of r_d in k ohm is');\n",
"r_d= r_d*10^3;// in ohm\n",
"// Part (ii)\n",
"Zi = 1;// in Mohm\n",
"miu = r_d*gm;\n",
"Zof_int= r_d/(1+miu)\n",
"// The value of Zo \n",
"Zo= Zof_int*R_S/(Zof_int+R_S);// in ohm\n",
"// The value of Av\n",
"Av= miu*R_S/(r_d+(1+miu)*R_S);\n",
"disp(Zi,'Part (ii) : The value of Zi in M ohm is : ')\n",
"disp(Zo,'Part (iii) : The value of Zo in ohm is : ')\n",
"disp(Av,'Part (iv) : The value of Av is : ')"
   ]
   }
,
{
		   "cell_type": "markdown",
		   "metadata": {},
		   "source": [
			"## Example 7.16: Voltage_gai.sce"
		   ]
		  },
  {
"cell_type": "code",
	   "execution_count": null,
	   "metadata": {
	    "collapsed": true
	   },
	   "outputs": [],
"source": [
"// Exa 7.16\n",
"clc;\n",
"clear;\n",
"close;\n",
"format('v',6)\n",
"// GIven data\n",
"g_m = 2*10^-3;// in A/V\n",
"r_d = 10;// in k ohm\n",
"r_d = r_d * 10^3;// in ohm\n",
"R_D = 50;// in k ohm\n",
"R_D = R_D * 10^3;// in ohm\n",
"R_L = 50;// in k ohm\n",
"R_L = R_L * 10^3;// in ohm\n",
"f = 1;// in kHz\n",
"f = f * 10^3;// in Hz\n",
"C = 2;// in nF\n",
"C = C * 10^-9;// in F\n",
"omega= 2*%pi*f;// in radian/sec\n",
"R = (r_d*R_D*R_L)/( (r_d*R_D)+(R_D*R_L)+(R_L*r_d) );// in ohm\n",
"// The voltage gain,\n",
"Av = -g_m*R;\n",
"disp(Av,'Part (a) : The voltage gain is');\n",
"// Part (b) For small value of Cb, \n",
"Av = -g_m*( (r_d*R_D)/(r_d+R_D) );\n",
"Ro = (r_d*R_D)/(r_d+R_D);// in ohm\n",
"X_C = 1/(omega*C);// in ohm\n",
"Av= abs(Av)*R_L/(-%i*X_C+Ro+R_L);\n",
"Mag_Av= abs(Av);// magnitude of voltage gain\n",
"Phase_Av= atand(imag(Av),real(Av));// phase angle of voltage gain in °\n",
"disp(Mag_Av,'Part (b) : Magnitude of voltage gain is : ');\n",
"disp(Phase_Av,'The phase angle of voltage gain in degree is: ')"
   ]
   }
,
{
		   "cell_type": "markdown",
		   "metadata": {},
		   "source": [
			"## Example 7.17: Quiescent_drain_current_drain_to_source_voltage_and_Av.sce"
		   ]
		  },
  {
"cell_type": "code",
	   "execution_count": null,
	   "metadata": {
	    "collapsed": true
	   },
	   "outputs": [],
"source": [
"// Exa 7.17\n",
"clc;\n",
"clear;\n",
"close;\n",
"format('v',6)\n",
"// Given data\n",
"V_DD = 30;// in V\n",
"R_D = 12;// in k ohm\n",
"R_S= 1.5;// in k ohm\n",
"V_GS = -0.47;// in V\n",
"V_P = -2.4;// in V\n",
"I_DSS = 3;// in mA\n",
"I_D= poly(0,'I_D');\n",
"I_D= I_D-I_DSS*(1-(V_GS/V_P)*I_D)^2;\n",
"// On solving equation by polynomial method, quiescent drain current \n",
"I_D= roots(I_D)\n",
"I_D= I_D(2);// in mA\n",
"disp(I_D,'The quiescent drain current in mA is : ')\n",
"V_D= round(V_DD-I_D*R_D);//in V\n",
"V_S= -V_GS*R_S;// in V\n",
"// The quiescent drain to source voltage \n",
"V_DS= ceil(V_D-V_S);// in V\n",
"disp(V_DS,'The quiescent drain to source voltage in volts is : ')\n",
"// gm= gmo*(1-V_GS/V_P)= -2*I_DSS/V_P*(1-V_GS/V_P)\n",
" gm=-2*I_DSS/V_P*(1+V_S/V_P);//in mA/V\n",
" // The small signal voltage gain \n",
" Av= -gm*R_D;\n",
" disp(Av,'The small signal voltage gain is : ')"
   ]
   }
,
{
		   "cell_type": "markdown",
		   "metadata": {},
		   "source": [
			"## Example 7.18: Voltage_gain_and_change_in_output_voltage.sce"
		   ]
		  },
  {
"cell_type": "code",
	   "execution_count": null,
	   "metadata": {
	    "collapsed": true
	   },
	   "outputs": [],
"source": [
"// Exa 7.18\n",
"clc;\n",
"clear;\n",
"close;\n",
"format('v',5)\n",
"// Given data\n",
"I_DSS = 5.6;// in mA\n",
"V_P = -4;// in V\n",
"g_m = 2;// in mA/V\n",
"R_S = 10;// in k ohm\n",
"A_V = (g_m*R_S)/(1+(g_m*R_S));\n",
"Vi = 10;// in V\n",
"// Change in output voltage,\n",
"delVo = A_V*Vi;// in V\n",
"disp(delVo,'The changes in Vo in V is');"
   ]
   }
,
{
		   "cell_type": "markdown",
		   "metadata": {},
		   "source": [
			"## Example 7.19: Change_in_output_voltage.sce"
		   ]
		  },
  {
"cell_type": "code",
	   "execution_count": null,
	   "metadata": {
	    "collapsed": true
	   },
	   "outputs": [],
"source": [
"// Exa 7.19\n",
"clc;\n",
"clear;\n",
"close;\n",
"format('v',6)\n",
"// Given data\n",
"V_CC= 24;// in V\n",
"V_SS= -12// in V\n",
"R_D= 4.7;// in k ohm\n",
"R_S= 10;// in k ohm\n",
"V_P= -4;// in V\n",
"I_DSS= 5.6;// in mA\n",
"// For\n",
"Vi= 0;\n",
"I_D= poly(0,'I_D') ;\n",
"V_GS= Vi-V_SS-I_D*R_S;// in V\n",
"I_D= I_D-I_DSS*(1-V_GS/V_P)^2\n",
"// Evaluating the value of I_D by using polynomial method,\n",
"I_D= roots(I_D);// in mA\n",
"I_D= I_D(2);// taking lower value\n",
"Vo1= V_SS+I_D*R_S;//in V\n",
"disp(Vo1,'For Vi= 0 V, the output voltage in volts is : ')\n",
"// For\n",
"Vi= 10;// in V\n",
"I_D= poly(0,'I_D') ;\n",
"V_GS= Vi-V_SS-I_D*R_S;// in V\n",
"I_D= I_D-I_DSS*(1-V_GS/V_P)^2\n",
"// Evaluating the value of I_D by using polynomial method,\n",
"I_D= roots(I_D);// in mA\n",
"I_D= I_D(2);// taking lower value\n",
"Vo2= V_SS+I_D*R_S;//in V\n",
"disp(Vo2,'For Vi= 10 V, the output voltage in volts is : ')\n",
"del_Vo= Vo2-Vo1;// in V\n",
"disp('This compares well with '+string(del_Vo)+' V of small signal model.')\n",
""
   ]
   }
,
{
		   "cell_type": "markdown",
		   "metadata": {},
		   "source": [
			"## Example 7.1: Transfer_characteristics.sce"
		   ]
		  },
  {
"cell_type": "code",
	   "execution_count": null,
	   "metadata": {
	    "collapsed": true
	   },
	   "outputs": [],
"source": [
"// Exa 7.1\n",
"clc;\n",
"clear;\n",
"close;\n",
"format('v',6)\n",
"// Given data\n",
"I_DSS = 14;// in mA\n",
"V_GSoff = -6;// in V\n",
"V_GS= 0:-0.1:V_GSoff;// in V\n",
"I_D= I_DSS*(1-V_GS/V_GSoff)^2;// in mA\n",
"// Ploting of the dc transfer characteristics\n",
"plot(V_GS,I_D);\n",
"xlabel('V_GS in volts')\n",
"ylabel('I_D in mA')\n",
"title('Transfer characteristics of a JFET')\n",
"disp('Transfer characteristics of a JFET shown in figure.')"
   ]
   }
,
{
		   "cell_type": "markdown",
		   "metadata": {},
		   "source": [
			"## Example 7.20: Vds_Id_and_VGS.sce"
		   ]
		  },
  {
"cell_type": "code",
	   "execution_count": null,
	   "metadata": {
	    "collapsed": true
	   },
	   "outputs": [],
"source": [
"// Exa 7.20\n",
"clc;\n",
"clear;\n",
"close;\n",
"format('v',6)\n",
"// Given data\n",
"V_DD = -60;// in V\n",
"R1 = 1.3;// in Mohm\n",
"R1 = R1 * 10^3;// in ohm\n",
"R2 = 200;// in k ohm\n",
"I_DSS = -4;// in mA\n",
"V_P = 4;// in V\n",
"R_S= 4;// in k ohm\n",
"R_D= 18;// in k ohm\n",
"V_GG = V_DD * (R2/(R1+R2));// in V\n",
"R_G = (R2*R1)/(R1+R2);// in k ohm\n",
"V_G = -8;// in V\n",
"I_D= poly(0,'I_D');\n",
"V_S= I_D*R_S;// in V\n",
"V_GS= V_G-V_S;// in V\n",
"I_D= I_D-I_DSS*(1-V_GS/V_P)^2;\n",
"// Evaluating the value of I_D by using, polynomial method,\n",
"I_D= roots(I_D);// in mA\n",
"I_D= I_D(2);// in mA\n",
"V_S= I_D*R_S;// in V\n",
"V_GS= V_G-V_S;// in V\n",
"V_DS= V_DD-I_D*(R_D+R_S);// in V\n",
"disp(I_D,'The value of I_D in mA is : ')\n",
"disp(V_GS,'The value of V_GS in volts is: ')\n",
"disp(V_DS,'The value of V_DS in volts is : ')"
   ]
   }
,
{
		   "cell_type": "markdown",
		   "metadata": {},
		   "source": [
			"## Example 7.21: IDQ_VGSQ_and_VDS.sce"
		   ]
		  },
  {
"cell_type": "code",
	   "execution_count": null,
	   "metadata": {
	    "collapsed": true
	   },
	   "outputs": [],
"source": [
"// Exa 7.21\n",
"clc;\n",
"clear;\n",
"close;\n",
"format('v',5)\n",
"// Given data\n",
"I_DSS= 6;// in mA\n",
"V_P= -4;// in V\n",
"R_S= 0.43;// in k ohm\n",
"R_D= 1.2;// in k ohm\n",
"V_DD= 12;// in V\n",
"I_D= poly(0,'I_D');\n",
"V_GS= -I_D*R_S;// in V\n",
"I_D= I_D-I_DSS*(1-V_GS/V_P)^2;\n",
"// Evaluating the value of I_D by using polynomial method,\n",
"I_D= roots(I_D);// in mA\n",
"I_D= I_D(2);//in mA (taking lower value)\n",
"V_GSQ= -I_D*R_S// in V\n",
"disp(I_D,'The value of I_DQ in mA is : ')\n",
"disp(V_GSQ,'The value of V_GSQ in volts is : ')\n",
"// part (b) \n",
"// Applying KVL, V_DD-I_D*R_D-V_DS-I_D*R_S=0 or\n",
"V_DS= V_DD-I_D*(R_D+R_S);// in V\n",
"disp(V_DS,'The value of V_DS in volts is : ')\n",
"\n",
"// Note: In the book, the calculated value of I_D is wrong due to this all the answer in the book is wrong."
   ]
   }
,
{
		   "cell_type": "markdown",
		   "metadata": {},
		   "source": [
			"## Example 7.2: Drain_current.sce"
		   ]
		  },
  {
"cell_type": "code",
	   "execution_count": null,
	   "metadata": {
	    "collapsed": true
	   },
	   "outputs": [],
"source": [
"// Exa 7.2\n",
"clc;\n",
"clear;\n",
"close;\n",
"format('v',6)\n",
"// Given data\n",
"I_DSS = 30;// in mA\n",
"V_GSoff = -8;// in V\n",
"V_GS = -5;// in V\n",
"// The value of drain current \n",
"I_D = I_DSS * ((1-(V_GS/V_GSoff))^2);// in mA\n",
"disp(I_D,'The value of drain current in mA is');"
   ]
   }
,
{
		   "cell_type": "markdown",
		   "metadata": {},
		   "source": [
			"## Example 7.3: Value_of_RS_and_RD.sce"
		   ]
		  },
  {
"cell_type": "code",
	   "execution_count": null,
	   "metadata": {
	    "collapsed": true
	   },
	   "outputs": [],
"source": [
"// Exa 7.3\n",
"clc;\n",
"clear;\n",
"close;\n",
"format('v',4)\n",
"// Given data\n",
"I_D = 1.5;// in mA\n",
"I_D = I_D*10^-3;// in A\n",
"V_DS = 10;// in V\n",
"I_DSS = 5;// in mA\n",
"I_DSS = I_DSS * 10^-3;// in A\n",
"V_P = -2;// in V\n",
"V_DD = 20;// in V\n",
"// I_D = I_DSS*((1-(V_GS/V_P))^2);\n",
"// ((V_GS/2)+1) = sqrt(I_D/I_DSS);\n",
"V_GS = 2*( (sqrt(I_D/I_DSS))-1 );// in V\n",
"V_G = 0;// in V\n",
"// V_GS = V_G-V_S;\n",
"V_S = -V_GS;// in V\n",
"R_S = V_S/I_D;// in ohm\n",
"R_S= R_S*10^-3;// in k ohm\n",
"disp(R_S,'The value of R_S in k ohm is');\n",
"R_S= R_S*10^3;// in ohm\n",
"// V_DD = (I_D*R_D) + V_DS + (I_D*R_S);\n",
"R_D = (V_DD-V_DS-(I_D*R_S))/I_D;// in ohm\n",
"R_D = round(R_D * 10^-3);// in k ohm\n",
"disp(R_D,'The value of R_D in k ohm is');"
   ]
   }
,
{
		   "cell_type": "markdown",
		   "metadata": {},
		   "source": [
			"## Example 7.4: VDS_and_VGS.sce"
		   ]
		  },
  {
"cell_type": "code",
	   "execution_count": null,
	   "metadata": {
	    "collapsed": true
	   },
	   "outputs": [],
"source": [
"// Exa 7.4\n",
"clc;\n",
"clear;\n",
"close;\n",
"format('v',6)\n",
"// Given data\n",
"V_DD = 30;// in V\n",
"R_D = 5;// in k ohm\n",
"R_D = R_D * 10^3;// in ohm\n",
"I_D = 2.5;// in mA\n",
"I_D = I_D * 10^-3;// in A\n",
"R_S = 200;// in ohm\n",
"// V_DD = (I_D*R_D) + V_DS + (I_D*R_S);\n",
"V_DS = V_DD - (I_D*(R_D+R_S));// in V\n",
"disp(V_DS,'The value of V_DS in V is');\n",
"// The value of V_GS \n",
"V_GS = -I_D*R_S;// in V\n",
"disp(V_GS,'The value of V_GS in V is');"
   ]
   }
,
{
		   "cell_type": "markdown",
		   "metadata": {},
		   "source": [
			"## Example 7.5: Pinch_off_voltage_and_chanel_half_width.sce"
		   ]
		  },
  {
"cell_type": "code",
	   "execution_count": null,
	   "metadata": {
	    "collapsed": true
	   },
	   "outputs": [],
"source": [
"// Exa 7.5\n",
"clc;\n",
"clear;\n",
"close;\n",
"format('v',4)\n",
"// Given data\n",
"Alpha = 3*10^-6;// in m\n",
"N_D = 10^21;// in electrons/cm^3\n",
"q = 1.6 * 10^-19;// in C\n",
"Epsilon_o = (36*%pi*10^9)^-1;\n",
"Epsilon = 12*Epsilon_o;\n",
"// The pinch of voltage \n",
"V_P = ((q*N_D)/(2*Epsilon))*(Alpha^2);// in V\n",
"disp(V_P,'The pinch of voltage in V is');\n",
"// Part (ii)\n",
"format('e',9)\n",
"VGSbyVp= 1/2;\n",
"// V_GS = ((1-b/Alpha)^2)*V_P\n",
"// The channel half width \n",
"b = Alpha*( 1-sqrt(VGSbyVp));// in m\n",
"b=b*10^2;// in cm\n",
"disp(b,'The channel half width in cm is');"
   ]
   }
,
{
		   "cell_type": "markdown",
		   "metadata": {},
		   "source": [
			"## Example 7.6: VGS_gm_Rs_and_Rd.sce"
		   ]
		  },
  {
"cell_type": "code",
	   "execution_count": null,
	   "metadata": {
	    "collapsed": true
	   },
	   "outputs": [],
"source": [
"// Exa 7.6\n",
"clc;\n",
"clear;\n",
"close;\n",
"format('v',5)\n",
"// Given data\n",
"V_P = -2;// in V\n",
"I_DSS = 1.65;// in mA\n",
"I_D = 0.8;// in mA\n",
"V_DD = 24;// in V\n",
"// I_D =I_DSS*(( 1-(V_GS/V_P) )^2);\n",
"V_GS = V_P*(1-sqrt(I_D/I_DSS))\n",
"disp(V_GS,'The value of V_GS in V is');\n",
"// Part (b)\n",
"g_mo = (-2*I_DSS)/V_P;// in mA/V\n",
"g_m = g_mo*(1-(V_GS/V_P));// in mA/V\n",
"disp(g_m,'The value of gm in mA/V is');\n",
"// Part (c)\n",
"// The value of R_S \n",
"R_S = -V_GS/(I_D*10^-3);// in ohm\n",
"disp(R_S,'The value of R_S in ohm is');\n",
"// Part (d)\n",
"Av= 20;//voltage gain in dB\n",
"Av= 10^(Av/20);\n",
"// r_d >> Rd and |Av|= gm*Rd\n",
"Rd= Av/g_m;// in k ohm\n",
"disp(Rd,'The value of Rd in k ohm is : ')\n",
"\n",
"// Note: The value of R_S in the book is quite different from the coding output because in the book the calculated value of V_GS is not correct, correct value is -0.61"
   ]
   }
,
{
		   "cell_type": "markdown",
		   "metadata": {},
		   "source": [
			"## Example 7.7: VGS_IDQ_VDS_VD_VG_and_VS.sce"
		   ]
		  },
  {
"cell_type": "code",
	   "execution_count": null,
	   "metadata": {
	    "collapsed": true
	   },
	   "outputs": [],
"source": [
"// Exa 7.7\n",
"clc;\n",
"clear;\n",
"close;\n",
"format('v',6)\n",
"// Given data\n",
"I_DSS =10;// in mA\n",
"V_P = -8;// in V\n",
"V_GG = 2;// in V\n",
"V_GS = -V_GG;// in V\n",
"V_DD = 16;// in V\n",
"R_D = 2;// in k ohm\n",
"R_D = R_D * 10^3;// in ohm\n",
"disp(V_GS,'The value of V_GS in V is');\n",
"// Part (b)\n",
"// The value of I_DQ \n",
"I_DQ = I_DSS * (1-V_GS/V_P)^2;// in mA\n",
"disp(I_DQ,'The value of I_DQ in mA is');\n",
"// Part (c)\n",
"// The value of V_DS \n",
"V_DS = V_DD - (I_DQ*10^-3*R_D);// in V\n",
"disp(V_DS,'The value of V_DS in V is');\n",
"// Part (d)\n",
"// The value of V_D \n",
"V_D = V_DS;// in V\n",
"disp(V_D,'The value of V_D in V is');\n",
"// Part (e)\n",
"// The value of V_G \n",
"V_G = V_GS;// in V\n",
"disp(V_G,'The value of V_G in V is');\n",
"// Part (f)\n",
"// The value of V_S \n",
"V_S = 0;// in V\n",
"disp(V_S,'The value of V_S in V is');"
   ]
   }
,
{
		   "cell_type": "markdown",
		   "metadata": {},
		   "source": [
			"## Example 7.8: Value_of_RGS.sce"
		   ]
		  },
  {
"cell_type": "code",
	   "execution_count": null,
	   "metadata": {
	    "collapsed": true
	   },
	   "outputs": [],
"source": [
"// Exa 7.8\n",
"clc;\n",
"clear;\n",
"close;\n",
"format('v',6)\n",
"// Given data\n",
"V_GS = 10;// in V\n",
"I_G = 0.001;// in µA\n",
"I_G = I_G * 10^-6;// in A\n",
"// The resistance between gate and source \n",
"R_GS = V_GS/I_G;// in ohm\n",
"R_GS = R_GS * 10^-6;// in Mohm\n",
"disp(R_GS,'The resistance between gate and source in M ohm is');"
   ]
   }
,
{
		   "cell_type": "markdown",
		   "metadata": {},
		   "source": [
			"## Example 7.9: AC_drain_resistance.sce"
		   ]
		  },
  {
"cell_type": "code",
	   "execution_count": null,
	   "metadata": {
	    "collapsed": true
	   },
	   "outputs": [],
"source": [
"// Exa 7.9\n",
"clc;\n",
"clear;\n",
"close;\n",
"format('v',6)\n",
"// Given data\n",
"delV_DS = 1.5;// in V\n",
"delI_D = 120;// in µA\n",
"delI_D = delI_D*10^-6;// in A\n",
"// The ac drain resistance of the JFET \n",
"r_d = delV_DS/delI_D;// in ohm\n",
"r_d= r_d*10^-3;// in k ohm\n",
"disp(r_d,'The ac drain resistance of the JFET in k ohm is');"
   ]
   }
],
"metadata": {
		  "kernelspec": {
		   "display_name": "Scilab",
		   "language": "scilab",
		   "name": "scilab"
		  },
		  "language_info": {
		   "file_extension": ".sce",
		   "help_links": [
			{
			 "text": "MetaKernel Magics",
			 "url": "https://github.com/calysto/metakernel/blob/master/metakernel/magics/README.md"
			}
		   ],
		   "mimetype": "text/x-octave",
		   "name": "scilab",
		   "version": "0.7.1"
		  }
		 },
		 "nbformat": 4,
		 "nbformat_minor": 0
}
