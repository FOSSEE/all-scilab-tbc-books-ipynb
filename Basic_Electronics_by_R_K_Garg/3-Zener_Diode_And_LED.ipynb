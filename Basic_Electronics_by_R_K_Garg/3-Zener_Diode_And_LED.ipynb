{
"cells": [
 {
		   "cell_type": "markdown",
	   "metadata": {},
	   "source": [
       "# Chapter 3: Zener Diode And LED"
	   ]
	},
{
		   "cell_type": "markdown",
		   "metadata": {},
		   "source": [
			"## Example 3.10: Value_of_VL_IL_IR_and_IZ.sce"
		   ]
		  },
  {
"cell_type": "code",
	   "execution_count": null,
	   "metadata": {
	    "collapsed": true
	   },
	   "outputs": [],
"source": [
"// Exa 3.10\n",
"clc;\n",
"clear;\n",
"close;\n",
"format('v',6)\n",
"// Given data\n",
"R = 200;// in  ohm\n",
"Vi = 20;// in V\n",
"V_Z = 10;// in V\n",
"R_L = 300;// in ohm\n",
"P_Zmax = 400;// in mW\n",
"// The value of V_L \n",
"V_L = (R_L/(R_L+R))*Vi;// in V\n",
"disp(V_L,'The value of V_L in V is');\n",
"V_L = V_Z;// in V\n",
"// The value of I_L \n",
"I_L = V_L/R_L;// in A\n",
"I_L = I_L * 10^3;// in mA\n",
"disp(I_L,'The value of I_L in mA is');\n",
"// The value of I_R \n",
"I_R = (Vi-V_Z)/R;// in A\n",
"I_R = I_R * 10^3;// in mA\n",
"disp(I_R,'The value of I_R in mA is');\n",
"// The value of I_Z \n",
"I_Z = I_R-I_L;// in mA\n",
"disp(I_Z,'The value of I_Z in mA is');\n",
"// V_L >= V_Z and V_L= R_L*Vi/(R_L+R)\n",
"// So, the minimum value of R_L \n",
"R_L= R*V_Z/(Vi-V_Z);// in ohm\n",
"disp(R_L,'The minimum value of R_L in ohm is : ')\n",
""
   ]
   }
,
{
		   "cell_type": "markdown",
		   "metadata": {},
		   "source": [
			"## Example 3.11: Maximum_value_of_Ri.sce"
		   ]
		  },
  {
"cell_type": "code",
	   "execution_count": null,
	   "metadata": {
	    "collapsed": true
	   },
	   "outputs": [],
"source": [
"// Exa 3.11\n",
"clc;\n",
"clear;\n",
"close;\n",
"format('v',6)\n",
"// Given data\n",
"I_Z = 0.2;// in A\n",
"R = 10;// in ohm\n",
"V_Z = 8 + (R*I_Z);// in V\n",
"I_Lmin = V_Z/R;// in A\n",
"I_Zmax = 0.2;//in A\n",
"Vimax = 15;// in V\n",
"// The minimum value of R\n",
"Rimin = (Vimax-V_Z)/(I_Zmax+I_Lmin);// in ohm\n",
"disp(Rimin,'The minimum value of R in ohm is');\n",
"\n",
"// Note: The calculation in the book is not accurate, So the answer in the book is not accurate."
   ]
   }
,
{
		   "cell_type": "markdown",
		   "metadata": {},
		   "source": [
			"## Example 3.12: Output_voltage_and_current_through_the_zener_diode.sce"
		   ]
		  },
  {
"cell_type": "code",
	   "execution_count": null,
	   "metadata": {
	    "collapsed": true
	   },
	   "outputs": [],
"source": [
"// Exa 3.12\n",
"clc;\n",
"clear;\n",
"close;\n",
"format('v',6)\n",
"// Given data\n",
"R_L = 10;// in k ohm\n",
"R_S = 5;// in k ohm\n",
"V_S = 12;// in V\n",
"V_Z = 8;// in V\n",
"V_L = (R_L/(R_S+R_L))*V_S;// in V\n",
"//The output voltage \n",
"Vo = V_L;// in V\n",
"disp(Vo,'The output voltage in V is');\n",
"// The voltage drop across R_S \n",
"R_S = V_S-Vo;// in V\n",
"disp(R_S,'The voltage drop across R_S in V is');\n",
"// The current through the zener diode \n",
"I_Z = 0;// in A\n",
"disp(I_Z,'The current through the zener diode in A is');"
   ]
   }
,
{
		   "cell_type": "markdown",
		   "metadata": {},
		   "source": [
			"## Example 3.13: value_of_VZ_IZ_and_PZ.sce"
		   ]
		  },
  {
"cell_type": "code",
	   "execution_count": null,
	   "metadata": {
	    "collapsed": true
	   },
	   "outputs": [],
"source": [
"// Exa 3.13\n",
"clc;\n",
"clear;\n",
"close;\n",
"format('v',5)\n",
"// Given data\n",
"R_S = 1;// in k ohm\n",
"R_L = 1.2;// in k ohm\n",
"V_Z = 10;// in V\n",
"V_S = 16;// in V\n",
"V_L = (R_L/(R_L+R_S))*V_S;// in V\n",
"//The value of I_Z \n",
"I_Z = 0;// in A\n",
"disp(I_Z,'The value of I_Z in A is');\n",
"// The value of P_Z \n",
"P_Z = 0;\n",
"disp(P_Z,'The value of P_Z is');\n",
"//The value of Vo\n",
"Vo = V_L;// in V\n",
"disp(Vo,'The value of Vo in V is');"
   ]
   }
,
{
		   "cell_type": "markdown",
		   "metadata": {},
		   "source": [
			"## Example 3.14: Value_of_VL_IL_IZ_and_IR.sce"
		   ]
		  },
  {
"cell_type": "code",
	   "execution_count": null,
	   "metadata": {
	    "collapsed": true
	   },
	   "outputs": [],
"source": [
"// Exa 3.14\n",
"clc;\n",
"clear;\n",
"close;\n",
"format('v',6)\n",
"// Given data\n",
"R_L = 200;// in ohm\n",
"Vin = 20;// in V\n",
"V_Z = 10;// in V\n",
"P_Zmaz = 400;// in mW\n",
"R_S = 220;// in ohm\n",
"//The value of V_L with 200 ohm \n",
"V_L =(R_L/(R_S+R_L))*Vin;// in V\n",
"disp(V_L,'The value of V_L with 200 ohm in V is');\n",
"// The value of I_Z with 200 ohm \n",
"I_Z = 0;// in A\n",
"disp(I_Z,'The value of I_Z with 200 ohm in A is');\n",
"// The value of I_L with 200 ohm \n",
"I_L = Vin/(R_S+R_L)*10^3;// in mA\n",
"disp(I_L,'The value of I_L with 200 ohm in mA is');\n",
"//The value of I_R with 200 ohm \n",
"I_R = I_L;// in mA\n",
"disp(I_R,'The value of I_R with 200 ohm in mA is');\n",
"R_L = 50;// in ohm\n",
"V_L = (R_L/(R_S+R_L))*Vin;// in V\n",
"//The value of I_L with 50 ohm \n",
"I_L = Vin/(R_S+R_L)*10^3;// in mA\n",
"disp(I_L,'The value of I_L with 50 ohm in mA is');\n",
"// The value of I_R with 50 ohm \n",
"I_R = I_L;// in mA\n",
"disp(I_R,'The value of I_R with 50 ohm in mA is');\n",
"// The value of I_Z with 50 ohm \n",
"I_Z = 0;// in A\n",
"disp(I_Z,'The value of I_Z with 50 ohm in A is');\n",
"disp(V_L,'The value of V_L with 50 ohm in V is');"
   ]
   }
,
{
		   "cell_type": "markdown",
		   "metadata": {},
		   "source": [
			"## Example 3.15: Value_of_RLmi.sce"
		   ]
		  },
  {
"cell_type": "code",
	   "execution_count": null,
	   "metadata": {
	    "collapsed": true
	   },
	   "outputs": [],
"source": [
"// Exa 3.15\n",
"clc;\n",
"clear;\n",
"close;\n",
"format('v',6)\n",
"// Given data\n",
"V_Z = 15;// in V\n",
"Vin = 24;// in V\n",
"R = 27;// in ohm\n",
"I = (Vin-V_Z)/R;// in A\n",
"// The minimum value of R_L \n",
"R_Lmin = V_Z/I;// in ohm\n",
"disp(R_Lmin,'The minimum value of R_L in ohm is');"
   ]
   }
,
{
		   "cell_type": "markdown",
		   "metadata": {},
		   "source": [
			"## Example 3.16: Minimum_value_of_R.sce"
		   ]
		  },
  {
"cell_type": "code",
	   "execution_count": null,
	   "metadata": {
	    "collapsed": true
	   },
	   "outputs": [],
"source": [
"// Exa 3.16\n",
"clc;\n",
"clear;\n",
"close;\n",
"format('v',6)\n",
"// Given data\n",
"R = 50;// in ohm\n",
"Vin = 10;// in V\n",
"V_Z = 6;// in V\n",
"I = (Vin-V_Z)/R;// in A\n",
"I = I * 10^3;// in mA\n",
"I_Zmin = 5;// in mA\n",
"// I = I_Z+I_L;\n",
"I_Rmax = I-I_Zmin;// in mA\n",
"// The minimum value of R \n",
"R = V_Z/(I_Rmax*10^-3);// in ohm\n",
"disp(R,'The minimum value of R in ohm is');"
   ]
   }
,
{
		   "cell_type": "markdown",
		   "metadata": {},
		   "source": [
			"## Example 3.17: Power_dissipation_in_zener_diode.sce"
		   ]
		  },
  {
"cell_type": "code",
	   "execution_count": null,
	   "metadata": {
	    "collapsed": true
	   },
	   "outputs": [],
"source": [
"// Exa 3.17\n",
"clc;\n",
"clear;\n",
"close;\n",
"format('v',6)\n",
"// Given data\n",
"R = 150*10^3;// in ohm\n",
"R_L = 75;// in k ohm\n",
"R_L = R_L * 10^3;// in ohm\n",
"V_Z = 15;// in V\n",
"Vin = 50;// in V\n",
"R_Z = 0;\n",
"Rth = (R*R_L)/(R+R_L);// in ohm\n",
"Vth = Vin * ( R_L/(R_L+R) );// in V\n",
"I_Z = Vth/Rth;// in A\n",
"// The power dissipation in the zener diode \n",
"P_Z = V_Z*I_Z;// in W\n",
"P_Z= P_Z*10^3;//in mW\n",
"disp(P_Z,'The power dissipation in the zener diode in mW is');\n",
"\n",
"// Note: The calculation in the last line is wrong as 15*0.333 = 5 mW not 0.5mW, So the answer in the book is wrong. "
   ]
   }
,
{
		   "cell_type": "markdown",
		   "metadata": {},
		   "source": [
			"## Example 3.18: Value_of_RL.sce"
		   ]
		  },
  {
"cell_type": "code",
	   "execution_count": null,
	   "metadata": {
	    "collapsed": true
	   },
	   "outputs": [],
"source": [
"// Exa 3.18\n",
"clc;\n",
"clear;\n",
"close;\n",
"format('v',4)\n",
"// Given data\n",
"R = 222;// in ohm\n",
"Vin = 20;// in V\n",
"V_Z = 10;// in V\n",
"P = 400;// in mW\n",
"P= P*10^-3;// in W\n",
"I_Zmax = P/V_Z;// in A\n",
"//I = I_Z+I_L;\n",
"I = (Vin-V_Z)/R;// in A\n",
"I_Lmin = I - I_Zmax;// in mA\n",
"// The value of R_L \n",
"R_L =V_Z/I_Lmin;// in ohm\n",
"R_L= R_L*10^-3;// in k ohm\n",
"disp(R_L,'The value of R_L in k ohm is');"
   ]
   }
,
{
		   "cell_type": "markdown",
		   "metadata": {},
		   "source": [
			"## Example 3.19: Range_of_possible_load_current.sce"
		   ]
		  },
  {
"cell_type": "code",
	   "execution_count": null,
	   "metadata": {
	    "collapsed": true
	   },
	   "outputs": [],
"source": [
"// Exa 3.19\n",
"clc;\n",
"clear;\n",
"close;\n",
"format('v',6)\n",
"// Given data\n",
"R = 12;// in k ohm\n",
"Vin = 6.3;// in V\n",
"V_Z = 4.8;// in V\n",
"I = (Vin-V_Z)/R*10^3;// in mA\n",
"I_Z = 5;// in mA\n",
"// Maximum value of load current,\n",
"I_Lmax = I - I_Z;// in mA\n",
"I_Z = 100;// in mA\n",
"// Minimum value of load current,\n",
"I_Lmin = I - I_Z;// in mA\n",
"disp('The range of possible load current is : '+string(I_Lmin)+' mA <= I_L <= '+string(I_Lmax)+' mA')\n",
"// Minimum value of load resistance,\n",
"R_Lmin= I_Lmin*10^-3*V_Z;// in ohm\n",
"// Maximum value of load resistance,\n",
"R_Lmax= I_Lmax*10^-3*V_Z;// in ohm\n",
"disp('The range of possible load resistance is : '+string(R_Lmin)+' ohm <= R_L <= '+string(R_Lmax)+' ohm')\n",
"// The power rating required for load resistance \n",
"P_Zmax = I_Lmax*10^-3*V_Z;// in W\n",
"P_Zmax= P_Zmax*10^3;// in mW\n",
"disp(P_Zmax,'The power rating required for load resistance in mW is');\n",
"\n",
"// Note: The calculated value of P_Zmax is wrong as 120*10^-3*4.8= 576 mW not 5.76 mW"
   ]
   }
,
{
		   "cell_type": "markdown",
		   "metadata": {},
		   "source": [
			"## Example 3.1: Resistance_of_device.sce"
		   ]
		  },
  {
"cell_type": "code",
	   "execution_count": null,
	   "metadata": {
	    "collapsed": true
	   },
	   "outputs": [],
"source": [
"// Exa 3.1\n",
"clc;\n",
"clear;\n",
"close;\n",
"format('v',6)\n",
"// Given data\n",
"I1 = 30;// in mA\n",
"I2 = 20;// in mA\n",
"delI_Z = I1-I2;// in mA\n",
"delI_Z = delI_Z * 10^-3;// in A\n",
"V1 = 5.75;// in V\n",
"V2 = 5.6;// in V\n",
"delV_Z = V1-V2;// in V\n",
"// The resistance of the device \n",
"r_Z = delV_Z/delI_Z;// in ohm\n",
"disp(r_Z,'The resistance of the device in ohm is');"
   ]
   }
,
{
		   "cell_type": "markdown",
		   "metadata": {},
		   "source": [
			"## Example 3.2: Terminal_voltage.sce"
		   ]
		  },
  {
"cell_type": "code",
	   "execution_count": null,
	   "metadata": {
	    "collapsed": true
	   },
	   "outputs": [],
"source": [
"// Exa 3.2\n",
"clc;\n",
"clear;\n",
"close;\n",
"format('v',6)\n",
"// Given data\n",
"V_Z = 4.7;// in V\n",
"r_Z = 15;// in ohm\n",
"I_Z = 20;// in mA\n",
"I_Z = I_Z * 10^-3;// in A\n",
"// The terminal voltage \n",
"VdasZ = V_Z + (I_Z*r_Z);// in V\n",
"disp(VdasZ,'The terminal voltage in V is');"
   ]
   }
,
{
		   "cell_type": "markdown",
		   "metadata": {},
		   "source": [
			"## Example 3.3: Value_of_IZM.sce"
		   ]
		  },
  {
"cell_type": "code",
	   "execution_count": null,
	   "metadata": {
	    "collapsed": true
	   },
	   "outputs": [],
"source": [
"// Exa 3.3\n",
"clc;\n",
"clear;\n",
"close;\n",
"format('v',5)\n",
"// Given data\n",
"P_ZM = 500;// in mW\n",
"P_ZM = P_ZM * 10^-3;// in W\n",
"V_Z = 6.8;// in V\n",
"// The value of I_ZM \n",
"I_ZM = P_ZM/V_Z;// in A\n",
"I_ZM = I_ZM * 10^3;// in mA\n",
"disp(I_ZM,'The value of I_ZM in mA is');"
   ]
   }
,
{
		   "cell_type": "markdown",
		   "metadata": {},
		   "source": [
			"## Example 3.4: Maximum_power_dissipatio.sce"
		   ]
		  },
  {
"cell_type": "code",
	   "execution_count": null,
	   "metadata": {
	    "collapsed": true
	   },
	   "outputs": [],
"source": [
"// Exa 3.4\n",
"clc;\n",
"clear;\n",
"close;\n",
"format('v',8)\n",
"// Given data\n",
"P_ZM = 1500;// in mW\n",
"Deratingfactor = 3.33;// in mW\n",
"T1 = 85;// in degree C\n",
"T2 = 60;// in degree C\n",
"total = Deratingfactor*(T1-T2);// total derating factor in mW\n",
"// The maximum power dissipation \n",
"P_ZM = P_ZM - total;// in mW\n",
"disp(P_ZM,'The maximum power dissipation in mW is');"
   ]
   }
,
{
		   "cell_type": "markdown",
		   "metadata": {},
		   "source": [
			"## Example 3.5: Value_of_VL_VR_VZ_and_PZ.sce"
		   ]
		  },
  {
"cell_type": "code",
	   "execution_count": null,
	   "metadata": {
	    "collapsed": true
	   },
	   "outputs": [],
"source": [
"// Exa 3.5\n",
"clc;\n",
"clear;\n",
"close;\n",
"format('v',5)\n",
"// Given data\n",
"R_L = 1.2;// in k ohm\n",
"R_L = R_L * 10^3;// in ohm\n",
"Vi = 16;// in V\n",
"R = 1;// in k ohm\n",
"R = R * 10^3;// in ohm\n",
"// The value of V_L \n",
"V_L = (R_L*Vi)/(R+R_L);// in V\n",
"disp(V_L,'The value of V_L in V is');\n",
"V_Z = 10;// in V\n",
"// The value of V_R \n",
"V_R = Vi-V_L;// in V\n",
"disp(V_R,'The value of V_R in V is');\n",
"// The value of I_Z \n",
"I_Z = 0;// in A\n",
"disp(I_Z,'The value of I_Z in A is');\n",
"// The value of P_Z \n",
"P_Z =V_Z*I_Z;// in W\n",
"disp(P_Z,'The value of P_Z in W is');"
   ]
   }
,
{
		   "cell_type": "markdown",
		   "metadata": {},
		   "source": [
			"## Example 3.6: Range_of_value_of_Vi.sce"
		   ]
		  },
  {
"cell_type": "code",
	   "execution_count": null,
	   "metadata": {
	    "collapsed": true
	   },
	   "outputs": [],
"source": [
"// Exa 3.6\n",
"clc;\n",
"clear;\n",
"close;\n",
"format('v',6)\n",
"// Given data\n",
"R_L = 1.2;// in k ohm\n",
"R_L = R_L * 10^3;// in ohm\n",
"R = 220;// in ohm\n",
"V_Z = 20;// in V\n",
"// The minimum value of Vi \n",
"Vimin = ((R_L+R)/R_L)*V_Z;// in V\n",
"disp(Vimin,'The minimum value of Vi in V is');\n",
"I_L = V_Z/R_L;// in A\n",
"I_ZM = 60;// in mA\n",
"I_ZM = I_ZM * 10^-3;// in A\n",
"// I_ZM = I_R-I_L;\n",
"I_Rmax = I_ZM + I_L;\n",
"// The maximum value of Vi \n",
"Vimax = (I_Rmax*R)+V_Z;// in V\n",
"disp(Vimax,'The maximum value of Vi in V is');"
   ]
   }
,
{
		   "cell_type": "markdown",
		   "metadata": {},
		   "source": [
			"## Example 3.7: Whether_zener_diode_operating_in_Breakdown_region.sce"
		   ]
		  },
  {
"cell_type": "code",
	   "execution_count": null,
	   "metadata": {
	    "collapsed": true
	   },
	   "outputs": [],
"source": [
"// Exa 3.7\n",
"clc;\n",
"clear;\n",
"close;\n",
"format('v',5)\n",
"// Given data\n",
"R_L = 1;// in k ohm\n",
"R_L = R_L * 10^3;// in ohm\n",
"R = 270;// in ohm \n",
"V = 18;// in V\n",
"V_Z= 10;// in V\n",
"V_L = (R_L/(R_L+R))*V;// in V\n",
"if V_L > V_Z then\n",
"    disp('As the value of V_L ('+string(V_L)+' V) is greater than the value of V_Z ('+string(V_Z)+' V), So')\n",
"disp('The zener diode is operating in the breakdown region.');\n",
"end"
   ]
   }
,
{
		   "cell_type": "markdown",
		   "metadata": {},
		   "source": [
			"## Example 3.8: Zener_current.sce"
		   ]
		  },
  {
"cell_type": "code",
	   "execution_count": null,
	   "metadata": {
	    "collapsed": true
	   },
	   "outputs": [],
"source": [
"// Exa 3.8\n",
"clc;\n",
"clear;\n",
"close;\n",
"format('v',6)\n",
"// Given data\n",
"V1 = 18;// in V\n",
"V2 = 10;// in V\n",
"R = 250;// in ohm\n",
"I_R = (V1-V2)/R;// in A\n",
"I_R = I_R * 10^3;// in mA\n",
"R_L = 1;// in k ohm\n",
"R_L = R_L * 10^3;// in ohm\n",
"I_L = V2/R_L;// in A\n",
"I_L =I_L * 10^3;// in mA\n",
"// I_R = I_L+I_Z;\n",
"// So, the value of zener current \n",
"I_Z = I_R - I_L;// in mA\n",
"disp(I_Z,'The value of zener current in mA is');"
   ]
   }
,
{
		   "cell_type": "markdown",
		   "metadata": {},
		   "source": [
			"## Example 3.9: Current_flowing_through_resistance_R.sce"
		   ]
		  },
  {
"cell_type": "code",
	   "execution_count": null,
	   "metadata": {
	    "collapsed": true
	   },
	   "outputs": [],
"source": [
"// Exa 3.9\n",
"clc;\n",
"clear;\n",
"close;\n",
"format('v',6)\n",
"// Given data\n",
"R = 10;// in k ohm\n",
"R = R * 10^3;// in ohm\n",
"Vi = 20;// in V\n",
"V_Z = 10;// in V\n",
"I_L = 1;// in mA\n",
"I_L = I_L * 10^-3;// in A\n",
"R_L = 10;// in k ohm\n",
"R_L = R_L * 10^3;// in ohm\n",
"V_L = (R_L/(R_L+R))*Vi;// in V\n",
"// The current flowing through the resistance \n",
"I = (Vi-V_Z)/R;// in A\n",
"I= I*10^3;// in mA\n",
"disp(I,'The current flowing through the resistance in mA is');"
   ]
   }
],
"metadata": {
		  "kernelspec": {
		   "display_name": "Scilab",
		   "language": "scilab",
		   "name": "scilab"
		  },
		  "language_info": {
		   "file_extension": ".sce",
		   "help_links": [
			{
			 "text": "MetaKernel Magics",
			 "url": "https://github.com/calysto/metakernel/blob/master/metakernel/magics/README.md"
			}
		   ],
		   "mimetype": "text/x-octave",
		   "name": "scilab",
		   "version": "0.7.1"
		  }
		 },
		 "nbformat": 4,
		 "nbformat_minor": 0
}
