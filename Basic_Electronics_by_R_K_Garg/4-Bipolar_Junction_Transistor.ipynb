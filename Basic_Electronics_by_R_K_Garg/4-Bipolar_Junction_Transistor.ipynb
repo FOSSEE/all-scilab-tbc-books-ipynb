{
"cells": [
 {
		   "cell_type": "markdown",
	   "metadata": {},
	   "source": [
       "# Chapter 4: Bipolar Junction Transistor"
	   ]
	},
{
		   "cell_type": "markdown",
		   "metadata": {},
		   "source": [
			"## Example 4.10: DC_laod_line.sce"
		   ]
		  },
  {
"cell_type": "code",
	   "execution_count": null,
	   "metadata": {
	    "collapsed": true
	   },
	   "outputs": [],
"source": [
"// Exa 4.10\n",
"clc;\n",
"clear;\n",
"close;\n",
"format('v',6)\n",
"// Given data\n",
"V_BE = 0.6;// in V\n",
"V_CE = 0;// in V\n",
"R_C = 2;// in k ohm\n",
"R_C = R_C * 10^3;// in ohm\n",
"V_CC = 9;// in V\n",
"Beta= 2;\n",
"R_B = 8;// in k ohm\n",
"R_B = R_B * 10^3;// in ohm\n",
"// V_CC - (I_C*R_C) - V_CE = 0;\n",
"I_C = V_CC/R_C;// in A\n",
"I_C= I_C*10^3;// in mA\n",
"V_CE = V_CC;// in V\n",
"plot([V_CE,0],[0,I_C]);\n",
"xlabel('V_CE in volts');\n",
"ylabel('I_C in mA');\n",
"title('DC load line')\n",
"I_C= I_C*10^-3;// in A\n",
"I_B = (V_CC-V_BE)/R_B;// in A\n",
"//Collector emitter voltage, V_CE = V_CC - (I_C*R_C) = V_CC - (Beta*10^-3*I_B*R_C);\n",
"V_CE = V_CC - (Beta*I_B*R_C);// in V\n",
"// Collector current,\n",
"I_C =Beta*I_B;// in A\n",
"I_C= I_C*10^3;// in mA\n",
"disp('The operating point is : '+string(V_CE)+' V, '+string(I_C)+' mA')\n",
"\n",
"\n",
""
   ]
   }
,
{
		   "cell_type": "markdown",
		   "metadata": {},
		   "source": [
			"## Example 4.11: Emitter_current_and_collector_voltage.sce"
		   ]
		  },
  {
"cell_type": "code",
	   "execution_count": null,
	   "metadata": {
	    "collapsed": true
	   },
	   "outputs": [],
"source": [
"// Exa 4.11\n",
"clc;\n",
"clear;\n",
"close;\n",
"format('v',5)\n",
"// Given data\n",
"V_CC = 12;// in V\n",
"Beta = 100;\n",
"R = 600;// in k ohm\n",
"R = R * 10^3;// in ohm\n",
"R1 = 600;// in ohm\n",
"//Applying KVL to input side, V_CC -(I_E*R1) - (I_B*R) - V_BE = 0\n",
"I_B = V_CC/(R+(Beta*R1));// in A\n",
"I_C = Beta*I_B;// in A\n",
"I_E = I_C+I_B;// in A\n",
"// Applying KVL to output side\n",
"V_CE = V_CC - (I_E*R1);// in V\n",
"I_E= I_E*10^3;// in mA\n",
"disp(I_E,'The emitter current in mA is');\n",
"disp(V_CE,'The collector voltage in V is');"
   ]
   }
,
{
		   "cell_type": "markdown",
		   "metadata": {},
		   "source": [
			"## Example 4.12: Value_of_RB.sce"
		   ]
		  },
  {
"cell_type": "code",
	   "execution_count": null,
	   "metadata": {
	    "collapsed": true
	   },
	   "outputs": [],
"source": [
"// Exa 4.12\n",
"clc;\n",
"clear;\n",
"close;\n",
"format('v',5)\n",
"// Given data\n",
"I_C = 6.4;// in mA\n",
"I_C = I_C * 10^-3;// in A\n",
"V_CE = 8.4;// in V\n",
"Beta = 80;\n",
"V_CC= 10;// in V\n",
"R = 250;// in ohm\n",
"R_E = 500;// in ohm\n",
"I_B = I_C/Beta;// in A\n",
"//Applying KVL to the input side, V_CC - (I_B*R_B) - V_BE - (I_E*R1) = 0 or\n",
"R_B = (V_CC-(Beta+1)*R_E*I_B)/I_B\n",
"R_B = R_B * 10^-3;// in k ohm\n",
"disp(R_B,'The value of R_B in k ohm is');"
   ]
   }
,
{
		   "cell_type": "markdown",
		   "metadata": {},
		   "source": [
			"## Example 4.13: Q_point_and_stability_factor.sce"
		   ]
		  },
  {
"cell_type": "code",
	   "execution_count": null,
	   "metadata": {
	    "collapsed": true
	   },
	   "outputs": [],
"source": [
"// Exa 4.13\n",
"clc;\n",
"clear;\n",
"close;\n",
"format('v',5)\n",
"// Given data\n",
"Beta = 44;\n",
"R_L = 1.51 * 10^3;// in ohm\n",
"R_E = 270;// in ohm\n",
"V_CC = 4.5;// in V\n",
"R2 = 2.7 * 10^3;// in ohm\n",
"R1 = 27 * 10^3;// in ohm\n",
"R_C = 1.5 * 10^3;// in ohm\n",
"Vth = V_CC * (R2/(R1+R2));// in V\n",
"Rth = (R1*R2)/(R1+R2);// in ohm\n",
"// Applying KVL to input circuit, Vth - (I_B*Rth) - V_BE - (I_E*R_E) = 0 or\n",
"I_C = (Vth*Beta)/(Rth + (Beta*R_E));// in A     (On putting I_C= Beta*I_B and V_BE=0)\n",
"//Applying KVL to output side, V_CC - (I_C*R_C) - V_CE - (I_E*R_E) = 0;\n",
"V_CE = V_CC - (I_C*(R_C+R_E));// in V\n",
"S = (Beta+1)*( (1+(Rth/R_E))/(Beta+1+(Rth/R_E)) );\n",
"I_C= I_C*10^3;// in mA\n",
"disp(S,'The stability factor is');\n",
"disp('The quiescent points : '+string(I_C)+' mA, '+string(V_CE)+' V')\n",
"\n",
"// Note: In the book the calculated value of V_CE is correct as well as coding output, but at last they print wrong value (4.01 V)"
   ]
   }
,
{
		   "cell_type": "markdown",
		   "metadata": {},
		   "source": [
			"## Example 4.15: Value_of_R1_R2_and_RE.sce"
		   ]
		  },
  {
"cell_type": "code",
	   "execution_count": null,
	   "metadata": {
	    "collapsed": true
	   },
	   "outputs": [],
"source": [
"// Exa 4.15\n",
"clc;\n",
"clear;\n",
"close;\n",
"format('v',5)\n",
"// Given data\n",
"S = 12;\n",
"V_CC = 16;// in V\n",
"R_C = 1.5 * 10^3;// in ohm\n",
"V_CE = 8;// in V\n",
"V_BE= 0.2;// in V\n",
"I_C = 4;// in mA\n",
"I_C = I_C * 10^-3;// in A\n",
"Beta = 50;\n",
"// Vth = V_CC*(R2/(R1+R2)) and Rth = (R1*R2)/(R1+R2);\n",
"//Applying KVL to input side, Vth - I_B*Rth - V_BE - I_E*R_E = 0            (i)\n",
"I_B = I_C/Beta;// in A\n",
"I_E = I_B*(1+Beta);// in A\n",
"// Applying KVL to output section,\n",
"R_E = (V_CC - (I_C*R_C) - V_CE)/I_E;// in ohm\n",
"//S = ((Rth+R3)*(1+Beta))/(Rth + ((1+Beta)*R_E))                (ii)\n",
"Rth= R_E*(1+Beta-S-Beta*S)/(S-1-Beta);// in ohm\n",
"V_BN= V_BE+I_E*R_E;//in V\n",
"Vth= V_BN+I_B*Rth;// in V\n",
"// Vth= V_CC*R2/(R1+R2) and Rth= R2*R1/(R1+R2), So Vth= V_CC*Rth/R1\n",
"R1= V_CC*Rth/Vth;// in ohm\n",
"R2= R1*Rth/(R1-Rth);// in ohm\n",
"R1= round(R1*10^-3);// in k ohm\n",
"R2= R2*10^-3;// in k ohm\n",
"R_E= R_E*10^-3;// in k ohm\n",
"disp(R1,'The value of R1 in kΩ is : ')\n",
"disp(R2,'The value of R2 in kΩ is : ')\n",
"disp(R_E,'The value of R_E in kΩ is : ')\n",
"\n",
"\n",
""
   ]
   }
,
{
		   "cell_type": "markdown",
		   "metadata": {},
		   "source": [
			"## Example 4.19: Region_of_transistor.sce"
		   ]
		  },
  {
"cell_type": "code",
	   "execution_count": null,
	   "metadata": {
	    "collapsed": true
	   },
	   "outputs": [],
"source": [
"// Exa 4.19\n",
"format('v',6)\n",
"clc;\n",
"clear;\n",
"close;\n",
"// Given data\n",
"h_FE = 100;\n",
"R = 50;// in k ohm\n",
"R = R * 10^3;// in ohm\n",
"R1 = 3;// in k ohm\n",
"R1 = R1 * 10^3;// in ohm\n",
"V1 = 10;// in V\n",
"V2 = 5;// in V\n",
"V_BE = 0.8;// in V\n",
"V_CE = 0.2;// in V\n",
"//Applying KVL in input side, V2 - (R*I_B)-V_BE = 0;\n",
"I_B = (V2-V_BE)/R;// in A\n",
"I_B = I_B * 10^3;// in mA\n",
"//Applying KVL to output side, V1 - (R1*I_C) - V_CE = 0;\n",
"I_C = (V1-V_CE)/R1;// in A\n",
"I_C = I_C * 10^3;// in mA\n",
"I_Bmin = I_C/h_FE;// in mA\n",
"if I_B>I_Bmin then\n",
"    disp('As the value of I_B ('+string(I_B)+' mA) is greater than the value of I_Bmin ('+string(I_Bmin)+' mA),')\n",
"    disp('So the transistor will be in saturation region.')\n",
"end"
   ]
   }
,
{
		   "cell_type": "markdown",
		   "metadata": {},
		   "source": [
			"## Example 4.1: Base_current.sce"
		   ]
		  },
  {
"cell_type": "code",
	   "execution_count": null,
	   "metadata": {
	    "collapsed": true
	   },
	   "outputs": [],
"source": [
"// Exa 4.1\n",
"clc;\n",
"clear;\n",
"close;\n",
"format('v',6)\n",
"// Given data\n",
"Alpha = 0.98;\n",
"Vo = 4.9;// in V\n",
"R_L = 5;// in k ohm\n",
"R_L = R_L * 10^3;// in ohm\n",
"I_C = Vo/R_L;// in A\n",
"I_C = I_C * 10^3;// in mA\n",
"// Alpha = I_C/I_E;\n",
"I_E = I_C/Alpha;// in mA\n",
"// The base current \n",
"I_B = I_E-I_C;// in mA\n",
"disp(I_B,'The base current in mA is');"
   ]
   }
,
{
		   "cell_type": "markdown",
		   "metadata": {},
		   "source": [
			"## Example 4.20: Vo_and_minimum_value_of_RC.sce"
		   ]
		  },
  {
"cell_type": "code",
	   "execution_count": null,
	   "metadata": {
	    "collapsed": true
	   },
	   "outputs": [],
"source": [
"// Exa 4.20\n",
"format('v',6)\n",
"clc;\n",
"clear;\n",
"close;\n",
"// Given data\n",
"V_BE= 0.8;// in V\n",
"V_CE= 0.2;// in V\n",
"Beta = 100;\n",
"h_FE = Beta;\n",
"V1 = 3;// in V\n",
"V2 = -10;// in V\n",
"R_B = 7*10^3;// in ohm\n",
"R_E = 3*10^3;// in ohm\n",
"R_C = 500;// in ohm\n",
"//Applying KVL to input side, V1 - (I_B+I_C)*Rc - V_BEsat - (R1*I_B) = 0 or I_B*(R_B+R_C)+I_C*R_C= V1-V_BE              (i)\n",
"// Applying KVL to output side, V2+I_C*R_E+V_CE+R_C*(I_B+I_C) = 0 or   I_B*R_C+I_C*(R_C+R_E)= -V2-V_CE              (ii)\n",
"A= [(R_B+R_C) R_C;R_C (R_C+R_E)];\n",
"B= [V1-V_BE -V2-V_CE];\n",
"C=B*A^-1;// Solving eq(i) and (ii) by matrix method\n",
"I_B= C(1);// in A\n",
"I_C= C(2);// in A\n",
"I_B=I_B*10^3;// in mA\n",
"I_C=I_C*10^3;// in mA\n",
"I_Bmin= I_C/h_FE;//in mA\n",
"if I_B>I_Bmin then\n",
"    disp('Part (a) :')\n",
"    disp('As the value of I_B ('+string(I_B)+' mA) is greater than the value of I_Bmin ('+string(I_Bmin)+' mA),')\n",
"    disp('So the transistor will be in saturation region.')\n",
"end\n",
"Vo= -V_CE-(I_B+I_C)*10^-3*R_C;// in V\n",
"disp(Vo,'Part (b) : The value of Vo in volts is : ')\n",
"V_BEactive= 0.7;// in V\n",
"V_BC= -0.5;\n",
"// V_BN= (1+Beta)*(V1-V_BEactive)*R_C/(R_B+(1+Beta)*R_C)       (iii)\n",
"// V_CN= Beta*R_E*(V1-V_BEactive)/(R_B+(1+Beta)*R_C)                (iv)\n",
"// and V_BC= V_BN-V_CN, so from eq(iii) and (iv)\n",
"R_C= (V_BC*R_B+Beta*R_E*(V1-V_BEactive))/((1+Beta)*(V1-V_BEactive)-V_BC*(1+Beta));// in ohm\n",
"disp(R_C,'Part (c) :The value of R_C in ohm is : ')\n",
"\n",
"// Note : 1  In the book, the calculated value of I_B i.e 0.14mA is wrong.\n",
"// Note: 2   In the book the calculated value of R_C i.e 819 Ω is wrong. we can easily check that on putting 0.819 kΩ in the last step.\n",
"\n",
"\n",
"\n",
"\n",
"\n",
"\n",
"\n",
"\n",
""
   ]
   }
,
{
		   "cell_type": "markdown",
		   "metadata": {},
		   "source": [
			"## Example 4.21: Q_point_value.sce"
		   ]
		  },
  {
"cell_type": "code",
	   "execution_count": null,
	   "metadata": {
	    "collapsed": true
	   },
	   "outputs": [],
"source": [
"// Exa 4.21\n",
"format('v',6)\n",
"clc;\n",
"clear;\n",
"close;\n",
"// Given data\n",
"V_CC = 10;// in V\n",
"R_C = 10;// in k ohm\n",
"R_C = R_C * 10^3;// in ohm\n",
"R_B = 100*10^3;// in ohm\n",
"Beta_dc = 100;\n",
"V_BE = 0.7;// in V\n",
"// Applying KVL to input section, V_CC = (I_E*R_E) + (I_B*R_B) + V_BE or\n",
"I_C = (V_CC-V_BE)/( R_C + (R_B/Beta_dc) );// in A\n",
"V_CE =V_CC - (I_C*R_C);// in V\n",
"I_C=I_C*10^3;// in mA\n",
"disp('DC load line shown in figure.')\n",
"disp('Q-points : '+string(V_CE)+' V, '+string(I_C)+' mA')\n",
"I_Csat =V_CC/R_C*10^3;// in mA\n",
"V_CEcutoff = V_CC;// in V\n",
"plot([V_CEcutoff ,0],[0,I_Csat]);\n",
"xlabel('V_CE in volts');\n",
"ylabel('I_C in mA')\n",
"title('DC load line')"
   ]
   }
,
{
		   "cell_type": "markdown",
		   "metadata": {},
		   "source": [
			"## Example 4.23: Value_of_RE.sce"
		   ]
		  },
  {
"cell_type": "code",
	   "execution_count": null,
	   "metadata": {
	    "collapsed": true
	   },
	   "outputs": [],
"source": [
"// Exa 4.23\n",
"format('v',5)\n",
"clc;\n",
"clear;\n",
"close;\n",
"// Given data\n",
"V_CC = 24;// in V\n",
"V_CE= 12;// in V\n",
"Rc = 5;// in k ohm\n",
"Rc = Rc * 10^3;// in ohm\n",
"Beta = 100;\n",
"I_C = 2;// in mA\n",
"I_C = I_C * 10^-3;// in A\n",
"//Applying KVL to the output section, V_CC = (I_C*R_C) + V_CE + (I_E*R_E) or\n",
"// (V_CC-V_CE)/I_C =Rc + R_E*(1+(1/Beta))   (on putting I_E= I_C+I_B and I_B = I_C/Beta)\n",
"R_E = (((V_CC-V_CE)/I_C)-Rc)*(1/(1+(1/Beta)));// in ohm\n",
"disp(R_E,'The value of R_E in ohm is');"
   ]
   }
,
{
		   "cell_type": "markdown",
		   "metadata": {},
		   "source": [
			"## Example 4.24: Limiting_value_of_R1_and_R2.sce"
		   ]
		  },
  {
"cell_type": "code",
	   "execution_count": null,
	   "metadata": {
	    "collapsed": true
	   },
	   "outputs": [],
"source": [
"// Exa 4.24\n",
"format('v',7)\n",
"clc;\n",
"clear;\n",
"close;\n",
"// Given data\n",
"S = 3;\n",
"Beta = 100;\n",
"I_C = 2;// in mA\n",
"I_C = I_C * 10^-3;// in A\n",
"R_E = 990;// in ohm\n",
"V_CC = 24;// in V\n",
"V_BE= 0.65;// in V\n",
"I_B = I_C/Beta;// in A\n",
"I_E= I_B+I_C;// in A\n",
"// S = ((Beta+1)*(Rth+R_E))/(Rth+(R_E*(1+Beta))), where Rth= R1*R2/(R1+R2)\n",
"Rth = ((R_E*Beta) - (S*R_E) - (S*R_E*Beta) + R_E)/(S-Beta-1);// in ohm\n",
"Vth= I_B*Rth+V_BE+I_E*R_E;// in V\n",
"// Vth= V_CC*R2/(R1+R2) or \n",
"R1= V_CC*Rth/Vth;// in ohm\n",
"R1= R1*10^-3;// in k ohm\n",
"R2= Vth*R1/(V_CC-Vth);// in k ohm\n",
"disp(R1,'The value of R1 in k ohm is : ');\n",
"disp(R2,'The value of R2 in k ohm is : ')"
   ]
   }
,
{
		   "cell_type": "markdown",
		   "metadata": {},
		   "source": [
			"## Example 4.25: Values_of_resistors.sce"
		   ]
		  },
  {
"cell_type": "code",
	   "execution_count": null,
	   "metadata": {
	    "collapsed": true
	   },
	   "outputs": [],
"source": [
"// Exa 4.25\n",
"format('v',7)\n",
"clc;\n",
"clear;\n",
"close;\n",
"// Given data\n",
"I_C =5 * 10^-3;// in A\n",
"V_CE = 8;// in V\n",
"V_E = 6;// in V\n",
"S = 10;\n",
"h_fc = 200;\n",
"Beta = h_fc;\n",
"V_CC = 20;// in V\n",
"V_BE = 0.6;// in V\n",
"I_B =I_C/Beta;// in A\n",
"I_E = I_C+I_B;// in A\n",
"// I_C*R_C = V_CC - V_CE - V_E;\n",
"R_C = (V_CC - V_CE - V_E)/I_C;// in ohm\n",
"R_C = R_C * 10^-3;// in k ohm\n",
"disp(R_C,'The value of R_C in k ohm is');\n",
"R_C = R_C * 10^3;// in ohm\n",
"//Voltage at point E, V_E =I_E*R_E;\n",
"R_E = V_E/I_E;// in ohm\n",
"R_E = R_E * 10^-3;// in k ohm\n",
"disp(R_E,'The value of R_E in k ohm is');\n",
"R_E = R_E * 10^3;// in ohm\n",
"// S = ((Beta+1)*(R_B+R_E))/( R_B+(R_E*(1+Beta)) ), where R_B= R1*R2/(R1+R2)\n",
"R_B = ((R_E*(1+Beta))-(S*R_E*(1+Beta)))/( S-(1+Beta) );// in ohm\n",
"// Vth = V_CC*(R2/(R1+R2)) = V_CC*(R_B/R1)\n",
"// Applying KVL we get, Vth= I_B*R_B+V_BE+V_E or\n",
"Vth = (I_B*R_B) + V_BE + V_E;// in V\n",
"R1 =(V_CC/Vth)*R_B;// in ohm\n",
"R1= R1*10^-3;// in k ohm\n",
"disp(R1,'The value of R1 in k ohm is');\n",
"R2 = (R1*Vth)/(V_CC-Vth);// in k ohm\n",
"disp(R2,'The value of R2 in k ohm is');"
   ]
   }
,
{
		   "cell_type": "markdown",
		   "metadata": {},
		   "source": [
			"## Example 4.26: VBB_to_saturate_the_transistor.sce"
		   ]
		  },
  {
"cell_type": "code",
	   "execution_count": null,
	   "metadata": {
	    "collapsed": true
	   },
	   "outputs": [],
"source": [
"// Exa 4.26\n",
"format('v',5)\n",
"clc;\n",
"clear;\n",
"close;\n",
"// Given data\n",
"V_CEsat = 0.1;// in V\n",
"V_BEsat = 0.6;// in V\n",
"h_fc = 50;\n",
"Beta = h_fc;\n",
"V_CC = 12;// in V\n",
"R_C = 1;// in k ohm\n",
"R_C = R_C * 10^3;// in ohm\n",
"R_B = 10;// in k ohm\n",
"R_B = R_B * 10^3;// in ohm\n",
"// The collector current,\n",
"I_C = (V_CC-V_CEsat)/R_C;// in A\n",
"I_B = I_C/Beta;// in mA\n",
"// The value of V_BB to saturate the transistor \n",
"V_BB = (I_B*R_B) + V_BEsat;// in V\n",
"disp(V_BB,'The value of V_BB to saturate the transistor in V is');"
   ]
   }
,
{
		   "cell_type": "markdown",
		   "metadata": {},
		   "source": [
			"## Example 4.27: IC_and_Vo.sce"
		   ]
		  },
  {
"cell_type": "code",
	   "execution_count": null,
	   "metadata": {
	    "collapsed": true
	   },
	   "outputs": [],
"source": [
"// Exa 4.27\n",
"format('v',6)\n",
"clc;\n",
"clear;\n",
"close;\n",
"// Given data\n",
"V_CC = 30;// in V\n",
"R1 = 90;// in k ohm\n",
"R1 = R1 * 10^3;// in ohm\n",
"R2 = 45;// in k ohm\n",
"R2 = R2 * 10^3;// in  ohm\n",
"R_C = 5;// in  k ohm\n",
"R_C = R_C * 10^3;// in ohm\n",
"R_E = 5;// in k ohm\n",
"R_E =R_E * 10^3;// in ohm\n",
"V_BE = 0.6;// in V\n",
"h_FE = 100;\n",
"Beta = h_FE;\n",
"I_CBO = 10;// in µA\n",
"I_CBO = I_CBO * 10^-6;// in A\n",
"V_BB = V_CC*(R2/(R1+R2));// in V\n",
"Vth = V_BB;// in V\n",
"R_BB = (R1*R2)/(R1+R2);// in ohm\n",
"Rth= R_BB;// in ohm\n",
"I_C = (V_CC-V_BE)/( (Rth/Beta)+R_E );// in A\n",
"I_CEO = (Beta+1)*I_CBO;// in A\n",
"// The value of I_C \n",
"I_C = I_C-I_CEO;// in A\n",
"I_C= I_C*10^3;// in mA\n",
"disp(I_C,'The value of I_C in mA is');\n",
"// The value of Vo\n",
"Vo =V_CC-(I_C*10^-3*R_C);// in V\n",
"disp(Vo,'The value of Vo in V is');\n",
"\n",
"// Note: In the book, the putted value of V_CC (i.e 20 V ) to evaluate the value of I_C is wrong, so the value of I_C in the book is wrong and due to this the value of Vo is also wrong."
   ]
   }
,
{
		   "cell_type": "markdown",
		   "metadata": {},
		   "source": [
			"## Example 4.28: ICO_and_VCEQ.sce"
		   ]
		  },
  {
"cell_type": "code",
	   "execution_count": null,
	   "metadata": {
	    "collapsed": true
	   },
	   "outputs": [],
"source": [
"// Exa 4.28\n",
"format('v',6)\n",
"clc;\n",
"clear;\n",
"close;\n",
"// Given data\n",
"Beta = 130;\n",
"V_BE = 0.7;// in V\n",
"V_CC = 18;// in V\n",
"R1 = 510;// in k ohm\n",
"R1 = R1 * 10^3;// in ohm\n",
"R2 = 510;// in k ohm\n",
"R2 = R2 * 10^3;// in ohm\n",
"R_C = 9.1;// in k ohm\n",
"R_C = R_C * 10^3;// in ohm\n",
"R_E = 7.5*10^3;// in ohm\n",
"Vth = V_CC*(R2/(R1+R2));// in V\n",
"Rth = (R1*R2)/(R1+R2);// in ohm\n",
"//Applying KVL in the input loop, Vth = (I_B*Rth)+V_BE+(I_E*R_E) or\n",
"I_CQ = (Vth-V_BE)/( (Rth/Beta)+R_E+(R_E/Beta) );// in A         (On putting I_E = I_C+I_B and I_C = Beta*I_B)\n",
"I_CQ= I_CQ*10^3;// in mA\n",
"disp(I_CQ,'The value of I_CQ in mA is');\n",
"// Applying KVL in the output loop, V_CC = (I_C*R_C) + V_CEQ + (I_E*R_E);\n",
"V_CEQ = V_CC - (I_CQ*10^-3*( R_C+R_E+(R_E/Beta) ));// in V\n",
"disp(V_CEQ,'The value of V_CEQ in V is');"
   ]
   }
,
{
		   "cell_type": "markdown",
		   "metadata": {},
		   "source": [
			"## Example 4.29: ICQ_and_VCEQ.sce"
		   ]
		  },
  {
"cell_type": "code",
	   "execution_count": null,
	   "metadata": {
	    "collapsed": true
	   },
	   "outputs": [],
"source": [
"// Exa 4.29\n",
"format('v',6)\n",
"clc;\n",
"clear;\n",
"close;\n",
"// Given data\n",
"V_CC = 18;// in V\n",
"V_BE = 0.7;// in V\n",
"R1 = 510;// in k ohm\n",
"R1 = R1 * 10^3;// in ohm\n",
"Beta = 130;\n",
"R_E = 7.5;// in k ohm\n",
"R_E = R_E * 10^3;// in ohm\n",
"R_C = 9.1;// in k ohm\n",
"R_C = R_C * 10^3;// in ohm\n",
"// The value of I_CQ \n",
"I_CQ = (V_CC-V_BE)/( (R1/Beta)+R_E+(R_E/Beta) );// in A\n",
"I_CQ= I_CQ*10^3;// in mA\n",
"disp(I_CQ,'The value of I_CQ in mA is');\n",
"// The value of V_CEQ \n",
"V_CEQ = V_CC - I_CQ*10^-3*(R_C+R_E+(R_E/Beta));// in V\n",
"disp(V_CEQ,'The value of V_CEQ in V is');"
   ]
   }
,
{
		   "cell_type": "markdown",
		   "metadata": {},
		   "source": [
			"## Example 4.2: Collector_and_base_current.sce"
		   ]
		  },
  {
"cell_type": "code",
	   "execution_count": null,
	   "metadata": {
	    "collapsed": true
	   },
	   "outputs": [],
"source": [
"// Exa 4.2\n",
"clc;\n",
"clear;\n",
"close;\n",
"format('v',6)\n",
"// Given data\n",
"Alpha = 0.95;\n",
"I_CBO = 5* 10^-3;// in mA\n",
"I_E = 3;// in mA\n",
"// The collector current \n",
"I_C = (Alpha*I_E)+I_CBO;// in mA\n",
"disp(I_C,'The collector current in mA is');\n",
"// The base current \n",
"I_B = I_E-I_C;// in mA\n",
"disp(I_B,'The base current in mA is');"
   ]
   }
,
{
		   "cell_type": "markdown",
		   "metadata": {},
		   "source": [
			"## Example 4.30: Q_point.sce"
		   ]
		  },
  {
"cell_type": "code",
	   "execution_count": null,
	   "metadata": {
	    "collapsed": true
	   },
	   "outputs": [],
"source": [
"// Exa 4.30\n",
"format('v',5)\n",
"clc;\n",
"clear;\n",
"close;\n",
"// Given data\n",
"V_CC = 10;// in V\n",
"Beta = 90;\n",
"V_BE = 0.7;// in V\n",
"R_E = 4.7;// in k ohm\n",
"R_E = R_E * 10^3;// in ohm\n",
"R_B = 250;// in k ohm\n",
"R_B = R_B * 10^3;// in ohm\n",
"R = 1.2;// in k ohm\n",
"R = R * 10^3;// in ohm\n",
"//Applying KVL for input loop, V_CC = R_E*I_E + R_B*I_B + V_BE  +I_E*R or\n",
"I_CQ = (Beta*(V_CC-V_BE))/( ((1+Beta)*(R_E+R))+R_B );// in A     (On putting I_E = I_C+I_B and I_B = I_C/Beta)\n",
"I_CQ=I_CQ*10^3;// in mA\n",
"disp(I_CQ,'The value of I_CQ in mA is');\n",
"I_CQ=I_CQ*10^-3;// in A\n",
"//Applying KVL for output loop, V_CC = ((I_CQ+(I_CQ/Beta))*R_E)+V_CEQ + ((I_CQ+(I_CQ/Beta))*R)\n",
"V_CEQ = V_CC - ( (I_CQ+(I_CQ/Beta)) * (R_E+R) );// in V\n",
"disp(V_CEQ,'The value of V_CEQ in V is');\n",
"// If beta is increased by 50% i.e\n",
"bita = Beta+Beta/2;\n",
"I_deshCQ = (bita*(V_CC-V_BE))/( ((1+bita)*(R_E+R))+R_B );// in A\n",
"I_deshCQ=I_deshCQ*10^3;// in mA\n",
"disp(I_deshCQ,'The value of I''CQ in mA is');\n",
"V_deshCEQ = V_CC - ( (I_CQ+(I_CQ/bita)) * (R_E+R) );// in V\n",
"disp(V_deshCEQ,'The value of V''CEQ in V is');\n",
"\n",
"// Note: In the book, there is calculation error to evaluate the value of V'CEQ, So the answer in the book is wrong.\n",
""
   ]
   }
,
{
		   "cell_type": "markdown",
		   "metadata": {},
		   "source": [
			"## Example 4.34: Beta_VCC_and_RB.sce"
		   ]
		  },
  {
"cell_type": "code",
	   "execution_count": null,
	   "metadata": {
	    "collapsed": true
	   },
	   "outputs": [],
"source": [
"// Exa 4.34\n",
"format('v',6)\n",
"clc;\n",
"clear;\n",
"close;\n",
"// Given data\n",
"I_B = 20;// in µA\n",
"I_B = I_B * 10^-6;// in A\n",
"R_C = 2.7;// in k ohm\n",
"R_C = R_C * 10^3;// in ohm\n",
"V_CE = 7.3;// in V\n",
"V_BE = 0.7;// in V\n",
"R_E = 0.68;// in k ohm\n",
"R_E = R_E * 10^3;// in ohm\n",
"V_E = 2.1;// in V\n",
"I_E = V_E/R_E;// in A\n",
"I_C =I_E-I_B;// in A  (as I_E = I_C+I_B)\n",
"Beta = I_C/I_B;\n",
"disp(Beta,'The value of beta is');\n",
"// Applying KVL to the output loop, \n",
"V_CC = (I_C*R_C) +V_CE + (I_E*R_E);// in V\n",
"disp(V_CC,'The value of V_CC in V is');\n",
"// Applying KVL to the output loop, V_CC = (I_B*R_B)+V_BE+(I_E*R_E) or\n",
"R_B = (V_CC-V_BE-(I_E*R_E))/I_B;// in ohm\n",
"R_B= R_B*10^-3;// k ohm\n",
"disp(R_B,'The value of R_B in k ohm is');"
   ]
   }
,
{
		   "cell_type": "markdown",
		   "metadata": {},
		   "source": [
			"## Example 4.36: Load_line.sce"
		   ]
		  },
  {
"cell_type": "code",
	   "execution_count": null,
	   "metadata": {
	    "collapsed": true
	   },
	   "outputs": [],
"source": [
"// Exa 4.36\n",
"format('v',5)\n",
"clc;\n",
"clear;\n",
"close;\n",
"// Given data\n",
"V_CC = 20;// in V\n",
"R_C = 3.3;// in k ohm\n",
"R_C = R_C * 10^3;// in ohm\n",
"R_B = 1;// in Mohm\n",
"R_B = R_B * 10^6;// in ohm\n",
"V_CE = V_CC;// in V\n",
"I_C = V_CC/R_C;// in A\n",
"I_C=I_C*10^3;// in mA\n",
"// Plotting of the DC load line,\n",
"plot([V_CE,0],[0,I_C]);\n",
"xlabel('V_CE in volts.');\n",
"ylabel('I_C in mA.');\n",
"title('DC load line.')\n",
"disp(I_C,'At saturation, the value of I_C in mA is : ')\n",
"disp(V_CE,'At cut off, the value of V_CE in volts is : ')\n",
"disp('DC load line shown in figure.');\n",
""
   ]
   }
,
{
		   "cell_type": "markdown",
		   "metadata": {},
		   "source": [
			"## Example 4.37: VCE_and_IE.sce"
		   ]
		  },
  {
"cell_type": "code",
	   "execution_count": null,
	   "metadata": {
	    "collapsed": true
	   },
	   "outputs": [],
"source": [
"// Exa 4.37\n",
"format('v',6)\n",
"clc;\n",
"clear;\n",
"close;\n",
"// Given data\n",
"Beta = 100;\n",
"Rth = 1.8;// in k ohm\n",
"V_CC = 10;// in V\n",
"R2 = 2.2;// in k ohm\n",
"R2 = R2 * 10^3;// in ohm\n",
"R1 = 10;// in k ohm\n",
"R1 = R1 * 10^3;// in ohm\n",
"R_C=3.6*10^3;// in ohm\n",
"R_E = 1;// in k ohm\n",
"R_E = R_E * 10^3;// in ohm\n",
"V_BE = 0.7;// in V\n",
"Vth = (R2/(R1+R2))*V_CC;// in V\n",
"Rth = (R1*R2)/(R1+R2);// in ohm\n",
"// Applying KVL for input loop, Vth = (I_B*Rth)+V_BE+(I_E*R_E) or \n",
"I_E = (Vth-V_BE)/( R_E+(Rth/(Beta+1)) );// in A   (On putting I_E = (Beta+1)*I_B)\n",
"I_E= I_E*10^3;// in mA\n",
"disp(I_E,'The value of I_E in mA is');\n",
"I_B =I_E/(Beta+1);// in mA\n",
"I_C= I_E-I_B;// in mA\n",
"//Applying KVL for output loop, V_CC = (I_C*R_C) + V_CE + (I_E*R_E)\n",
"V_CE = V_CC - (I_C*10^-3*R_C) - (I_E*10^-3*R_E);// in V\n",
"disp(V_CE,'The value of V_CE in V is');"
   ]
   }
,
{
		   "cell_type": "markdown",
		   "metadata": {},
		   "source": [
			"## Example 4.38: Zi_Zo_and_Av.sce"
		   ]
		  },
  {
"cell_type": "code",
	   "execution_count": null,
	   "metadata": {
	    "collapsed": true
	   },
	   "outputs": [],
"source": [
"// Exa 4.38\n",
"format('v',5)\n",
"clc;\n",
"clear;\n",
"close;\n",
"// Given data\n",
"h_fe = 110;\n",
"h_ie = 1.6;// in k ohm\n",
"h_ie = h_ie * 10^3;// in ohm\n",
"h_re = 2*10^-4;\n",
"h_oe = 20*10^-6;// in A/V\n",
"R_B = 470;// in k ohm\n",
"R_B = R_B * 10^3;// in ohm\n",
"R_C = 4.7;// in k ohm\n",
"Ri= 1.51*10^3;// in ohm\n",
"R_C =R_C * 10^3;// in ohm\n",
"Rin = h_ie - ( (h_fe*h_re*R_C)/(1+(h_oe*R_C)) );// in ohm\n",
"// The value of Zi,\n",
"Zi = (R_B*Ri)/(R_B+Ri);// in ohm\n",
"Zi= Zi*10^-3;// in k ohm\n",
"disp(Zi,'The value of Zi in k ohm');\n",
"Zi= Zi*10^3;// in ohm\n",
"R_L = R_C;// in ohm\n",
"// The voltag gain,\n",
"Av = -h_fe/( Zi*(h_oe+(1/R_L)) );\n",
"disp(Av,'The value of Av is');\n",
"Rs = 0;// in ohm\n",
"// The value of Zo \n",
"Zo = 1/( h_oe-( (h_fe*h_re)/(Zi+Rs) ) );// in ohm\n",
"Zo= Zo*10^-3;// k ohm\n",
"disp(Zo,'The value of Zo in k ohm is');"
   ]
   }
,
{
		   "cell_type": "markdown",
		   "metadata": {},
		   "source": [
			"## Example 4.3: value_of_Bita.sce"
		   ]
		  },
  {
"cell_type": "code",
	   "execution_count": null,
	   "metadata": {
	    "collapsed": true
	   },
	   "outputs": [],
"source": [
"// Exa 4.3\n",
"clc;\n",
"clear;\n",
"close;\n",
"format('v',6)\n",
"// Given data\n",
"Alpha = 0.9;\n",
"// For alpha = 0.9, the value of Beta \n",
"Beta = Alpha/(1-Alpha);\n",
"disp(Beta,'For alpha = 0.9, the value of Beta is');\n",
"Alpha = 0.99;\n",
"// For alpha = 0.99, the value of Beta \n",
"Beta = Alpha/(1-Alpha);\n",
"disp(Beta,'For alpha = 0.99, the value of Beta is');\n",
"Alpha = 0.98;\n",
"// For alpha = 0.98, the value of Beta \n",
"Beta = Alpha/(1-Alpha);\n",
"disp(Beta,'For alpha = 0.98, the value of Beta is');"
   ]
   }
,
{
		   "cell_type": "markdown",
		   "metadata": {},
		   "source": [
			"## Example 4.4: Base_current.sce"
		   ]
		  },
  {
"cell_type": "code",
	   "execution_count": null,
	   "metadata": {
	    "collapsed": true
	   },
	   "outputs": [],
"source": [
"// Exa 4.4\n",
"clc;\n",
"clear;\n",
"close;\n",
"format('v',6)\n",
"// Given data\n",
"R_C = 2;// in k ohm\n",
"R_C = R_C * 10^3;// in ohm\n",
"V = 2;// in V\n",
"// The collector current\n",
"I_C = V/R_C;// in A\n",
"Beta = 50;\n",
"// The base current \n",
"I_B = I_C/Beta;// in A\n",
"I_B= I_B*10^6;// in µA\n",
"disp(I_B,'The base current in µA is');"
   ]
   }
,
{
		   "cell_type": "markdown",
		   "metadata": {},
		   "source": [
			"## Example 4.5: Value_of_IC_using_alpha_and_bita.sce"
		   ]
		  },
  {
"cell_type": "code",
	   "execution_count": null,
	   "metadata": {
	    "collapsed": true
	   },
	   "outputs": [],
"source": [
"// Exa 4.5\n",
"clc;\n",
"clear;\n",
"close;\n",
"format('v',6)\n",
"// Given data\n",
"Beta = 49;\n",
"I_E = 12;// in mA\n",
"I_B = 240;// in µA\n",
"I_B = I_B * 10^-3;// in mA\n",
"Alpha = Beta/(1+Beta);\n",
"//Using alpha rating, the value of collector current,\n",
"I_C = Alpha*I_E;// in mA\n",
"disp(Alpha,'The value of alpha is : ')\n",
"disp(I_C,'Using alpha rating, the value of I_C in mA is');\n",
"//Using beta rating, the value of collector current,\n",
"I_C = Beta*I_B;// in mA\n",
"disp(I_C,'Using bita rating, the value of I_C in mA is');"
   ]
   }
,
{
		   "cell_type": "markdown",
		   "metadata": {},
		   "source": [
			"## Example 4.6: Value_of_alpha_and_bita.sce"
		   ]
		  },
  {
"cell_type": "code",
	   "execution_count": null,
	   "metadata": {
	    "collapsed": true
	   },
	   "outputs": [],
"source": [
"// Exa 4.6\n",
"clc;\n",
"clear;\n",
"close;\n",
"format('v',6)\n",
"// Given data\n",
"Alpha = 0.975;\n",
"Beta = Alpha/(1-Alpha);\n",
"// The value of beta,\n",
"disp(Beta,'The value of Beta is');\n",
"Beta = 200;\n",
"// The value of alpha,\n",
"Alpha = Beta/(1+Beta);\n",
"disp(Alpha,'The value of Alpha is');"
   ]
   }
,
{
		   "cell_type": "markdown",
		   "metadata": {},
		   "source": [
			"## Example 4.7: Collector_and_emitter_current.sce"
		   ]
		  },
  {
"cell_type": "code",
	   "execution_count": null,
	   "metadata": {
	    "collapsed": true
	   },
	   "outputs": [],
"source": [
"// Exa 4.7\n",
"clc;\n",
"clear;\n",
"close;\n",
"format('v',6)\n",
"// Given data\n",
"Alpha = 0.98;\n",
"I_CO = 5;// in µA\n",
"I_CO = I_CO * 10^-3;// in mA\n",
"I_B = 100;// in µA\n",
"I_B = I_B * 10^-3;// in mA\n",
"Beta = Alpha/(1-Alpha);\n",
"// The collector current \n",
"I_C = Beta*I_B + (1+Beta)*I_CO;// in mA\n",
"disp(I_C,'The collector current in mA is');\n",
"// The emitter current \n",
"I_E = I_C+I_B;// in mA\n",
"disp(I_E,'The emitter current in mA is');"
   ]
   }
,
{
		   "cell_type": "markdown",
		   "metadata": {},
		   "source": [
			"## Example 4.8: Collector_current.sce"
		   ]
		  },
  {
"cell_type": "code",
	   "execution_count": null,
	   "metadata": {
	    "collapsed": true
	   },
	   "outputs": [],
"source": [
"// Exa 4.8\n",
"clc;\n",
"clear;\n",
"close;\n",
"format('v',7)\n",
"// Given data\n",
"I_CBO = 10;// in µA\n",
"I_CBO = I_CBO * 10^-6;// in A\n",
"Beta = 50;\n",
"h_FE = Beta;\n",
"I_B = 0.25;// in mA\n",
"I_B = I_B * 10^-3;// in A\n",
"// The collector current \n",
"I_C = (Beta*I_B) + ((1+Beta)*I_CBO);//in A\n",
"I_C = I_C * 10^3;// in mA\n",
"disp(I_C,'The collector current in mA is');\n",
"T2 = 50;// in degree C\n",
"T1 = 25;// in degree C\n",
"I_CBOat25 = 10;// in µA\n",
"I_CBOat50 = I_CBOat25 * (2^((T2-T1)/10));// in µA\n",
"I_CBOat50 = I_CBOat50 * 10^-6;// in A\n",
"//The new collector current \n",
"I_C = (Beta*I_B) + ((1+Beta)*I_CBOat50);// in A\n",
"I_C = I_C * 10^3;// in mA\n",
"disp(I_C,'The new collector current in mA is');"
   ]
   }
,
{
		   "cell_type": "markdown",
		   "metadata": {},
		   "source": [
			"## Example 4.9: Value_of_IC_and_VCE.sce"
		   ]
		  },
  {
"cell_type": "code",
	   "execution_count": null,
	   "metadata": {
	    "collapsed": true
	   },
	   "outputs": [],
"source": [
"// Exa 4.9\n",
"clc;\n",
"clear;\n",
"close;\n",
"format('v',6)\n",
"// Given data\n",
"V_BE = 0.6;// in V\n",
"V_CC = 10;// in V\n",
"Beta = 60;\n",
"R_B = 20;// in  k ohm\n",
"R_B = R_B * 10^3;// in ohm\n",
"R_C = 300;// in ohm\n",
"// V_CC - (I_B*R_B)-V_BE = 0;\n",
"I_B = (V_CC-V_BE)/R_B;// in A\n",
"// The collector current \n",
"I_C = Beta*I_B;// in A\n",
"I_C= I_C*10^3;// in mA\n",
"disp(I_C,'The collector current in mA is');\n",
"// V_CC - (I_C*R_C) -V_CE = 0;\n",
"// The collector emitter voltage \n",
"V_CE = V_CC - (I_C*10^-3*R_C);// in V\n",
"disp(V_CE,'The collector emitter voltage in V is');"
   ]
   }
],
"metadata": {
		  "kernelspec": {
		   "display_name": "Scilab",
		   "language": "scilab",
		   "name": "scilab"
		  },
		  "language_info": {
		   "file_extension": ".sce",
		   "help_links": [
			{
			 "text": "MetaKernel Magics",
			 "url": "https://github.com/calysto/metakernel/blob/master/metakernel/magics/README.md"
			}
		   ],
		   "mimetype": "text/x-octave",
		   "name": "scilab",
		   "version": "0.7.1"
		  }
		 },
		 "nbformat": 4,
		 "nbformat_minor": 0
}
