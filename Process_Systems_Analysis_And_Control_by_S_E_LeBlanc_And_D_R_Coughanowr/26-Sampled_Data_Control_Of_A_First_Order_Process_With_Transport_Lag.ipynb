{
"cells": [
 {
		   "cell_type": "markdown",
	   "metadata": {},
	   "source": [
       "# Chapter 26: Sampled Data Control Of A First Order Process With Transport Lag"
	   ]
	},
{
		   "cell_type": "markdown",
		   "metadata": {},
		   "source": [
			"## Example 26.1_a: Sampled_data_system.sce"
		   ]
		  },
  {
"cell_type": "code",
	   "execution_count": null,
	   "metadata": {
	    "collapsed": true
	   },
	   "outputs": [],
"source": [
"//Example 26.1(a)\n",
"clc\n",
"T=1;\n",
"tau=1.25;\n",
"b=exp(-T/tau)\n",
"//For quarter decay ratio\n",
"alpha=0.5\n",
"K=(alpha+b)/(1-b)\n",
"//Ultimate value of C is\n",
"Ci=K/(K+1);\n",
"disp(Ci,'C(inf)=')\n",
"Ri=1;\n",
"Offset=Ri-Ci\n",
"Period=2*T"
   ]
   }
,
{
		   "cell_type": "markdown",
		   "metadata": {},
		   "source": [
			"## Example 26.1_b: Sampled_data_system.sce"
		   ]
		  },
  {
"cell_type": "code",
	   "execution_count": null,
	   "metadata": {
	    "collapsed": true
	   },
	   "outputs": [],
"source": [
"//Example 26.1(a)\n",
"clc\n",
"T=0.5;\n",
"tau=1.25;\n",
"b=exp(-T/tau)\n",
"//For quarter decay ratio\n",
"alpha=0.5\n",
"K=(alpha+b)/(1-b)\n",
"//Ultimate value of C is\n",
"Ci=K/(K+1);\n",
"disp(Ci,'C(inf)=')\n",
"Ri=1;\n",
"Offset=Ri-Ci\n",
"Period=2*T"
   ]
   }
],
"metadata": {
		  "kernelspec": {
		   "display_name": "Scilab",
		   "language": "scilab",
		   "name": "scilab"
		  },
		  "language_info": {
		   "file_extension": ".sce",
		   "help_links": [
			{
			 "text": "MetaKernel Magics",
			 "url": "https://github.com/calysto/metakernel/blob/master/metakernel/magics/README.md"
			}
		   ],
		   "mimetype": "text/x-octave",
		   "name": "scilab",
		   "version": "0.7.1"
		  }
		 },
		 "nbformat": 4,
		 "nbformat_minor": 0
}
