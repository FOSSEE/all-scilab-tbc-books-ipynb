{
"cells": [
 {
		   "cell_type": "markdown",
	   "metadata": {},
	   "source": [
       "# Chapter 20: Control Valves"
	   ]
	},
{
		   "cell_type": "markdown",
		   "metadata": {},
		   "source": [
			"## Example 20.1: Control_Valves.sce"
		   ]
		  },
  {
"cell_type": "code",
	   "execution_count": null,
	   "metadata": {
	    "collapsed": true
	   },
	   "outputs": [],
"source": [
"//Example 20.1\n",
"clc\n",
"Cv=4;\n",
"G=1.26;\n",
"P=100;//psi\n",
"q=Cv*sqrt(P/G);\n",
"disp('gpm',q,'q=')"
   ]
   }
,
{
		   "cell_type": "markdown",
		   "metadata": {},
		   "source": [
			"## Example 20.2: Control_Valves.sce"
		   ]
		  },
  {
"cell_type": "code",
	   "execution_count": null,
	   "metadata": {
	    "collapsed": true
	   },
	   "outputs": [],
"source": [
"//Example 20.2\n",
"clc\n",
"L=100;//ft\n",
"D=1;//ft\n",
"D1=D/12;//inches\n",
"D2=D1*2.42;//centimetres\n",
"rho=62.4;//lb/ft^3\n",
"mu=1.5;//cp\n",
"Cv=4;\n",
"pv=100;//psi\n",
"G=1;\n",
"q=Cv*sqrt(pv/G);//maximum flow\n",
"disp('gpm',q,'q=')\n",
"printf('Let us start flow from q=30 gpm\n')\n",
"q=30;//gpm\n",
"q1=q/(60*7.48);//ft^3/sec\n",
"q2=q1*60*60;//ft^3/hr\n",
"Re=4*q2*rho/(%pi*mu*D2)//Reynolds number\n",
"//For this value of Reynolds number and for smooth pipe fanning friction factor is 0.005\n",
"f=0.005;//fanning friction factor\n",
"gc=32.2;\n",
"p=32*f*L*rho*q1^2/(144*%pi^2*gc*D1^5);//psi\n",
"P=pv-p\n",
"qmax=Cv*sqrt(P/G);\n",
"disp('gpm',qmax,'qmax=')\n",
"x=q/qmax//lift\n",
" "
   ]
   }
,
{
		   "cell_type": "markdown",
		   "metadata": {},
		   "source": [
			"## Example 20.3: Control_Valves.sce"
		   ]
		  },
  {
"cell_type": "code",
	   "execution_count": null,
	   "metadata": {
	    "collapsed": true
	   },
	   "outputs": [],
"source": [
"//Example 20.3\n",
"clc\n",
"L=200;//ft\n",
"D=1;//ft\n",
"D1=D/12;//inches\n",
"D2=D1*2.42;//centimetres\n",
"rho=62.4;//lb/ft^3\n",
"mu=1.5;//cp\n",
"pv=100;//psi\n",
"G=1;\n",
"q=30;//maximum flow\n",
"disp('gpm',30,'q=')\n",
"q1=q/(60*7.48);//ft^3/sec\n",
"q2=q1*60*60;//ft^3/hr\n",
"Re=4*q2*rho/(%pi*mu*D2)//Reynolds number\n",
"//For this value of Reynolds number and for smooth pipe fanning friction factor is 0.005\n",
"f=0.005;//fanning friction factor\n",
"gc=32.2;\n",
"p=32*f*L*rho*q1^2/(144*%pi^2*gc*D1^5);//psi\n",
"P=pv-p\n",
"Cv=q/sqrt(P/G)\n",
"//For q=20\n",
"q=20;//gpm\n",
"q1=q/(60*7.48);//ft^3/sec\n",
"p=32*f*L*rho*q1^2/(144*%pi^2*gc*D1^5);//psi\n",
"P=pv-p\n",
"qmax=Cv*sqrt(P/G);\n",
"disp('gpm',qmax,'qmax=')\n",
"x=q/qmax//lift\n",
" "
   ]
   }
],
"metadata": {
		  "kernelspec": {
		   "display_name": "Scilab",
		   "language": "scilab",
		   "name": "scilab"
		  },
		  "language_info": {
		   "file_extension": ".sce",
		   "help_links": [
			{
			 "text": "MetaKernel Magics",
			 "url": "https://github.com/calysto/metakernel/blob/master/metakernel/magics/README.md"
			}
		   ],
		   "mimetype": "text/x-octave",
		   "name": "scilab",
		   "version": "0.7.1"
		  }
		 },
		 "nbformat": 4,
		 "nbformat_minor": 0
}
