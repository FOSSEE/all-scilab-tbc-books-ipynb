{
"cells": [
 {
		   "cell_type": "markdown",
	   "metadata": {},
	   "source": [
       "# Chapter 12: Closed Loop Transfer functions"
	   ]
	},
{
		   "cell_type": "markdown",
		   "metadata": {},
		   "source": [
			"## Example 12.1: Transfer_functions.sce"
		   ]
		  },
  {
"cell_type": "code",
	   "execution_count": null,
	   "metadata": {
	    "collapsed": true
	   },
	   "outputs": [],
"source": [
"//Example 12.1\n",
"clc\n",
"syms Gc G1 G2 G3 H1 H2 R U1;\n",
"G=Gc*G1*G2*G3*H1*H2;\n",
"g=Gc*G1*G2*G3/(1+G);\n",
"disp(g,'C/R=')\n",
"g1=G2*G3/(1+G);\n",
"disp(g1,'C/U1=')\n",
"g2=G3*H1*H2/(1+G);\n",
"disp(g2,'B/U2=')\n",
"C1=g*R;\n",
"C2=g1*U1;\n",
"disp(C1+C2,'C=')"
   ]
   }
,
{
		   "cell_type": "markdown",
		   "metadata": {},
		   "source": [
			"## Example 12.2: Transfer_functions.sce"
		   ]
		  },
  {
"cell_type": "code",
	   "execution_count": null,
	   "metadata": {
	    "collapsed": true
	   },
	   "outputs": [],
"source": [
"//Example 12.2\n",
"clc\n",
"syms Gc1 Gc2 G1 G2 G3 H1 H2;\n",
"Ga=Gc2*G1/.H2\n",
"Gb=G2*G3\n",
"g=Gc1*Ga*Gb/.H1;\n",
"g=simple(g);\n",
"disp(g,'C/R=')"
   ]
   }
],
"metadata": {
		  "kernelspec": {
		   "display_name": "Scilab",
		   "language": "scilab",
		   "name": "scilab"
		  },
		  "language_info": {
		   "file_extension": ".sce",
		   "help_links": [
			{
			 "text": "MetaKernel Magics",
			 "url": "https://github.com/calysto/metakernel/blob/master/metakernel/magics/README.md"
			}
		   ],
		   "mimetype": "text/x-octave",
		   "name": "scilab",
		   "version": "0.7.1"
		  }
		 },
		 "nbformat": 4,
		 "nbformat_minor": 0
}
