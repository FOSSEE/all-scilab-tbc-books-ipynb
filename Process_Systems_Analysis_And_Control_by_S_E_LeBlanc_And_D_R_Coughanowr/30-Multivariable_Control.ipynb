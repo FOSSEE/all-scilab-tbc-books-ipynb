{
"cells": [
 {
		   "cell_type": "markdown",
	   "metadata": {},
	   "source": [
       "# Chapter 30: Multivariable Control"
	   ]
	},
{
		   "cell_type": "markdown",
		   "metadata": {},
		   "source": [
			"## Example 30.1: Multivariable_control.sce"
		   ]
		  },
  {
"cell_type": "code",
	   "execution_count": null,
	   "metadata": {
	    "collapsed": true
	   },
	   "outputs": [],
"source": [
"//Example 30.1\n",
"clc\n",
"A1=1;\n",
"A2=1/2;\n",
"R1=1/2;\n",
"R2=2;\n",
"R3=1;\n",
"A=[-1/(R1*A1)-1/(R3*A1) 1/(A1*R1);1/(R1*A2) -1/(R2*A2)-1/(A2*R1)]\n",
"B=[1/A1 0;0 1/A2]\n",
"syms s M1 M2;\n",
"I=eye(2,2)\n",
"Gp=inv(s*I-A)*B\n",
"G11=Gp(1,1)\n",
"G12=Gp(1,2)\n",
"G21=Gp(2,1)\n",
"G22=Gp(2,2)\n",
"M=[M1;M2]\n",
"Cs=inv(s*I-A)*B*M\n",
"M1=1/s;\n",
"M2=0;\n",
"Cs=eval(Cs)\n",
"M1=0;\n",
"M2=1/s;\n",
"Cs=eval(Cs)"
   ]
   }
,
{
		   "cell_type": "markdown",
		   "metadata": {},
		   "source": [
			"## Example 30.2: Multivariable_control.sce"
		   ]
		  },
  {
"cell_type": "code",
	   "execution_count": null,
	   "metadata": {
	    "collapsed": true
	   },
	   "outputs": [],
"source": [
"//Example 30.2\n",
"clc\n",
"syms s K1 K2\n",
"Gc11=K1;\n",
"Gc22=K2;\n",
"A1=1;\n",
"A2=1/2;\n",
"R2=2;\n",
"R3=1;\n",
"//In this problem ,Gv is a unit diagonal matrix i.e.,\n",
"Gv1=1;\n",
"Gv2=1;\n",
"A=[-1/(R1*A1)-1/(R3*A1) 1/(A1*R1);1/(R1*A2) -1/(R2*A2)-1/(A2*R1)]\n",
"B=[1/A1 0;0 1/A2]\n",
"I=eye(2,2)\n",
"Gp=inv(s*I-A)*B\n",
"G11=Gp(1,1)\n",
"G12=Gp(1,2)\n",
"G21=Gp(2,1)\n",
"G22=Gp(2,2)\n",
"Gc12=-G12*Gv2*Gc22/(G11*Gv1)\n",
"Gc21=-G21*Gv1*Gc11/(G22*Gv2)\n",
"Gv=[Gv1 0;0 Gv2]\n",
"Gc=[Gc11 Gc12;Gc21 Gc22]\n",
"Go=Gp*Gv*Gc;\n",
"Go=simple(Go)"
   ]
   }
,
{
		   "cell_type": "markdown",
		   "metadata": {},
		   "source": [
			"## Example 30.3: Multivariable_control.sce"
		   ]
		  },
  {
"cell_type": "code",
	   "execution_count": null,
	   "metadata": {
	    "collapsed": true
	   },
	   "outputs": [],
"source": [
"//Example 30.3\n",
"clc\n",
"A1=1;\n",
"A2=1/2;\n",
"R1=1/2;\n",
"R2=2;\n",
"R3=1;\n",
"Gc11=K1;\n",
"Gc22=K2;\n",
"Gc12=0;\n",
"Gc21=0;\n",
"A=[-1/(R1*A1)-1/(R3*A1) 1/(A1*R1);1/(R1*A2) -1/(R2*A2)-1/(A2*R1)]\n",
"B=[1/A1 0;0 1/A2]\n",
"syms s;\n",
"I=eye(2,2)\n",
"Gp=inv(s*I-A)*B\n",
"G11=Gp(1,1)\n",
"G12=Gp(1,2)\n",
"G21=Gp(2,1)\n",
"G22=Gp(2,2)\n",
"Gv1=1;\n",
"Gv2=1;\n",
"Gm=I\n",
"Gv=[Gv1 0;0 Gv2]\n",
"Gc=[Gc11 Gc12;Gc21 Gc22]\n",
"Go=Gp*Gv*Gc;\n",
"Go=simple(Go)\n",
"//From Eq.(30.32)\n",
"P=det(I+Go*Gm)\n",
"disp('=0',simple(P))\n",
""
   ]
   }
],
"metadata": {
		  "kernelspec": {
		   "display_name": "Scilab",
		   "language": "scilab",
		   "name": "scilab"
		  },
		  "language_info": {
		   "file_extension": ".sce",
		   "help_links": [
			{
			 "text": "MetaKernel Magics",
			 "url": "https://github.com/calysto/metakernel/blob/master/metakernel/magics/README.md"
			}
		   ],
		   "mimetype": "text/x-octave",
		   "name": "scilab",
		   "version": "0.7.1"
		  }
		 },
		 "nbformat": 4,
		 "nbformat_minor": 0
}
