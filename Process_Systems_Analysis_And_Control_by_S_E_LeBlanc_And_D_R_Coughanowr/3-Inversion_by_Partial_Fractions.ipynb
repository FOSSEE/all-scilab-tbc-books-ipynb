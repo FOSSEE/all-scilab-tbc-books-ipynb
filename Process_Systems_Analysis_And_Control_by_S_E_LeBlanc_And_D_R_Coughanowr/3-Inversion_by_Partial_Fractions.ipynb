{
"cells": [
 {
		   "cell_type": "markdown",
	   "metadata": {},
	   "source": [
       "# Chapter 3: Inversion by Partial Fractions"
	   ]
	},
{
		   "cell_type": "markdown",
		   "metadata": {},
		   "source": [
			"## Example 3.1: Inverse_laplace_transform.sce"
		   ]
		  },
  {
"cell_type": "code",
	   "execution_count": null,
	   "metadata": {
	    "collapsed": true
	   },
	   "outputs": [],
"source": [
"//Example 3.1\n",
"clc\n",
"s=%s;\n",
"xs=1/(s*(s+1));\n",
"disp(xs,'x(s)=')\n",
"syms t;\n",
"[A]=pfss(xs)\n",
"F1=ilaplace(A(1),s,t);\n",
"F2=ilaplace(A(2),s,t);\n",
"xt=F1+F2;\n",
"disp(xt,'x(t)=')"
   ]
   }
,
{
		   "cell_type": "markdown",
		   "metadata": {},
		   "source": [
			"## Example 3.2: Inverse_laplace_transform.sce"
		   ]
		  },
  {
"cell_type": "code",
	   "execution_count": null,
	   "metadata": {
	    "collapsed": true
	   },
	   "outputs": [],
"source": [
"//Example 3.2\n",
"clc\n",
"s=%s;\n",
"syms t;\n",
"num=poly([-8 9 -6 0 1],'s','coeff');\n",
"den=s*(s-2)*poly([-2 -1 2 1],'s','coeff');\n",
"xs=syslin('c',num/den);\n",
"disp(xs,'x(s)=')\n",
"A=pfss(xs)\n",
"F1=ilaplace(A(1),s,t);\n",
"F2=ilaplace(A(2),s,t);\n",
"F3=ilaplace(A(3),s,t);\n",
"F4=ilaplace(A(4),s,t);\n",
"F5=ilaplace(A(5),s,t);\n",
"xt=F1+F2+F3+F4+F5;\n",
"disp(xt,'x(t)=')"
   ]
   }
,
{
		   "cell_type": "markdown",
		   "metadata": {},
		   "source": [
			"## Example 3.3: Inverse_laplace_transform.sce"
		   ]
		  },
  {
"cell_type": "code",
	   "execution_count": null,
	   "metadata": {
	    "collapsed": true
	   },
	   "outputs": [],
"source": [
"//Example 3.3\n",
"clc\n",
"s=%s;\n",
"syms t;\n",
"xs=2/(s*(s^2+2*s+2));\n",
"disp(xs,'x(s)=')\n",
"[A]=pfss(xs)\n",
"F1=ilaplace(A(1),s,t);\n",
"F2=ilaplace(A(2),s,t);\n",
"xt=F1+F2;\n",
"disp(xt,'x(t)=')"
   ]
   }
,
{
		   "cell_type": "markdown",
		   "metadata": {},
		   "source": [
			"## Example 3.4: Inverse_laplace_transform.sce"
		   ]
		  },
  {
"cell_type": "code",
	   "execution_count": null,
	   "metadata": {
	    "collapsed": true
	   },
	   "outputs": [],
"source": [
"//Example 3.4\n",
"clc\n",
"s=%s;\n",
"syms t;\n",
"xs=2/((s^2+4)*(s+1));\n",
"disp(xs,'x(s)=')\n",
"[A]=pfss(xs)\n",
"F1=ilaplace(A(1),s,t);\n",
"F2=ilaplace(A(2),s,t);\n",
"xt=F1+F2;\n",
"disp(xt,'x(t)=')"
   ]
   }
,
{
		   "cell_type": "markdown",
		   "metadata": {},
		   "source": [
			"## Example 3.5: Inverse_laplace_transform.sce"
		   ]
		  },
  {
"cell_type": "code",
	   "execution_count": null,
	   "metadata": {
	    "collapsed": true
	   },
	   "outputs": [],
"source": [
"//Example 3.5\n",
"clc\n",
"s=%s;\n",
"syms t;\n",
"xs=1/(s*(s^2-2*s+5));\n",
"disp(xs,'x(s)=')\n",
"[A]=pfss(xs)\n",
"F1=ilaplace(A(1),s,t);\n",
"F2=ilaplace(A(2),s,t);\n",
"xt=F1+F2;\n",
"disp(xt,'x(t)=')"
   ]
   }
,
{
		   "cell_type": "markdown",
		   "metadata": {},
		   "source": [
			"## Example 3.6: Inverse_laplace_transform.sce"
		   ]
		  },
  {
"cell_type": "code",
	   "execution_count": null,
	   "metadata": {
	    "collapsed": true
	   },
	   "outputs": [],
"source": [
"//Example 3.6\n",
"clc\n",
"s=%s;\n",
"syms t;\n",
"xs=1/(s*(s^3+3*s^2+3*s+1));\n",
"disp(xs,'x(s)=')\n",
"[A]=pfss(xs)\n",
"F1=ilaplace(A(1),s,t);\n",
"F2=ilaplace(A(2),s,t);\n",
"xt=F1+F2;\n",
"disp(xt,'x(t)=')\n",
""
   ]
   }
],
"metadata": {
		  "kernelspec": {
		   "display_name": "Scilab",
		   "language": "scilab",
		   "name": "scilab"
		  },
		  "language_info": {
		   "file_extension": ".sce",
		   "help_links": [
			{
			 "text": "MetaKernel Magics",
			 "url": "https://github.com/calysto/metakernel/blob/master/metakernel/magics/README.md"
			}
		   ],
		   "mimetype": "text/x-octave",
		   "name": "scilab",
		   "version": "0.7.1"
		  }
		 },
		 "nbformat": 4,
		 "nbformat_minor": 0
}
