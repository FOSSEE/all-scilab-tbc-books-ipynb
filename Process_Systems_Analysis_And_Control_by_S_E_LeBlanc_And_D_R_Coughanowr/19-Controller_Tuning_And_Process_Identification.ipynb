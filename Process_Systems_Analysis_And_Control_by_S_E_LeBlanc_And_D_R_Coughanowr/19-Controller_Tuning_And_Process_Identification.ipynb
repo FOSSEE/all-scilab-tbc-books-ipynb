{
"cells": [
 {
		   "cell_type": "markdown",
	   "metadata": {},
	   "source": [
       "# Chapter 19: Controller Tuning And Process Identification"
	   ]
	},
{
		   "cell_type": "markdown",
		   "metadata": {},
		   "source": [
			"## Example 19.1: Tuning_Rules.sce"
		   ]
		  },
  {
"cell_type": "code",
	   "execution_count": null,
	   "metadata": {
	    "collapsed": true
	   },
	   "outputs": [],
"source": [
"//Example 19.1\n",
"clc\n",
"s=poly(0,'s');\n",
"syms tauI Kc\n",
"Gc=1+1/(tauI*s);\n",
"g1=1/(s+1);\n",
"//g2=exp(-s);\n",
"//we can write exp(-s) as (2-s)/(2+s).Therefore,\n",
"g2=(2-s)/(2+s);\n",
"G=g1*g2;\n",
"G=syslin('c',G)\n",
"Gp=Kc*Gc*G\n",
"Gs=Gp/(1+Gp)//Overall transfer function\n",
"//Ziegler Nicholas method\n",
"scf(1);\n",
"clf\n",
"bode(G)\n",
"show_margins(G)\n",
"//From bode diagrams we get\n",
"wc0=2.03\n",
"Kcu=2.26\n",
"Pu=2*%pi/wc0\n",
"//Since Gc is a PI controller, by Z-N rules\n",
"Kc=0.45*Kcu\n",
"tauI=Pu/1.2\n",
"//Cohen-Coon method\n",
"//Comaparing G with Eq.(19.6), we get\n",
"T=1;\n",
"Td=1;\n",
"Kp=1;\n",
"Kc=T*(0.9+Td/(12*T))/(Kp*Td)\n",
"tauI=Td*(30+3*Td/T)/(9+20*Td/T)"
   ]
   }
,
{
		   "cell_type": "markdown",
		   "metadata": {},
		   "source": [
			"## Example 19.2: Tuning_Rules.sce"
		   ]
		  },
  {
"cell_type": "code",
	   "execution_count": null,
	   "metadata": {
	    "collapsed": true
	   },
	   "outputs": [],
"source": [
"//Example 19.2\n",
"clc\n",
"s=%s;\n",
"syms t Kc tauI;\n",
"Gc=Kc*(1+1/(tauI*s))\n",
"G=1/(s+1)^4;\n",
"G=syslin('c',G)\n",
"Gs=Gc*G/(1+Gc*G)//Overall transfer function\n",
"Us=1/s;\n",
"Cs=G*Us;\n",
"//Cohen-Coon method\n",
"Ct=ilaplace(Cs,s,t)\n",
"Ct1=diff(Ct,t)\n",
"Ct2=diff(Ct1,t)\n",
"disp('=0',Ct2)\n",
"//On solving the equation we get\n",
"t=linsolve(-1,3)\n",
"S=dbl(Ct1)\n",
"C3=dbl(Ct)\n",
"//From the figure 19.10 (B Vs t)\n",
"y2=0.353;\n",
"y1=0;\n",
"x2=3;\n",
"Td=3-(y2-y1)/S\n",
"Bu=1;//ultimate value of B\n",
"//From Eq.(19.4)\n",
"T=Bu/S\n",
"Kp=1;\n",
"//From Table 19.2\n",
"Kc=T*(0.9+Td/(12*T))/(Kp*Td)\n",
"tauI=Td*(30+3*Td/T)/(9+20*Td/T)\n",
"//By Z-N method\n",
"clf\n",
"bode(G)\n",
"show_margins(G)\n",
"//From Bode diagrams we get\n",
"Kcu=4;\n",
"Pu=2*%pi;\n",
"//Since Gc is a PI controller, by Z-N rules\n",
"Kc=0.45*Kcu\n",
"tauI=Pu/1.2\n",
"//By fitting the process reaction curve to a first order wit transport lag model by means of a least square fitting procedure. Applying the least square fit procedure out to t=5 produced the following results\n",
"Td=1.5;\n",
"T=3;\n",
"//By applying Cohen-Coon rules, we get\n",
"Kc=T*(0.9+Td/(12*T))/(Kp*Td)\n",
"tauI=Td*(30+3*Td/T)/(9+20*Td/T)"
   ]
   }
],
"metadata": {
		  "kernelspec": {
		   "display_name": "Scilab",
		   "language": "scilab",
		   "name": "scilab"
		  },
		  "language_info": {
		   "file_extension": ".sce",
		   "help_links": [
			{
			 "text": "MetaKernel Magics",
			 "url": "https://github.com/calysto/metakernel/blob/master/metakernel/magics/README.md"
			}
		   ],
		   "mimetype": "text/x-octave",
		   "name": "scilab",
		   "version": "0.7.1"
		  }
		 },
		 "nbformat": 4,
		 "nbformat_minor": 0
}
