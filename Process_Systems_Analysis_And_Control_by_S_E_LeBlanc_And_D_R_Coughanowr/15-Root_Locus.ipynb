{
"cells": [
 {
		   "cell_type": "markdown",
	   "metadata": {},
	   "source": [
       "# Chapter 15: Root Locus"
	   ]
	},
{
		   "cell_type": "markdown",
		   "metadata": {},
		   "source": [
			"## Example 15.1: Root_locus.sce"
		   ]
		  },
  {
"cell_type": "code",
	   "execution_count": null,
	   "metadata": {
	    "collapsed": true
	   },
	   "outputs": [],
"source": [
"//Example 15.1\n",
"clc\n",
"s=%s;\n",
"syms K;\n",
"N=1;\n",
"D=poly([-1 -2 -3],'s','roots');\n",
"G=syslin('c',N/D);\n",
"disp(K*G,'G=')\n",
"evans(G)\n",
"v=[-3.5 3.5 -6 6];\n",
"mtlb_axis(v);\n",
"xgrid\n",
""
   ]
   }
,
{
		   "cell_type": "markdown",
		   "metadata": {},
		   "source": [
			"## Example 15.2: Root_locus.sce"
		   ]
		  },
  {
"cell_type": "code",
	   "execution_count": null,
	   "metadata": {
	    "collapsed": true
	   },
	   "outputs": [],
"source": [
"//Example 15.2\n",
"clc\n",
"s=%s;\n",
"syms Kc;\n",
"N=1+(2*s/3)+1/(3*s);\n",
"D=(20*s+1)*(10*s+1)*(0.5*s+1);\n",
"G=N/D;\n",
"G=syslin('c',G);\n",
"disp(Kc*G,'G=')\n",
"clf\n",
"evans(G)\n",
"v=[-2.5 1 -5 5];\n",
"mtlb_axis(v);\n",
"xgrid"
   ]
   }
],
"metadata": {
		  "kernelspec": {
		   "display_name": "Scilab",
		   "language": "scilab",
		   "name": "scilab"
		  },
		  "language_info": {
		   "file_extension": ".sce",
		   "help_links": [
			{
			 "text": "MetaKernel Magics",
			 "url": "https://github.com/calysto/metakernel/blob/master/metakernel/magics/README.md"
			}
		   ],
		   "mimetype": "text/x-octave",
		   "name": "scilab",
		   "version": "0.7.1"
		  }
		 },
		 "nbformat": 4,
		 "nbformat_minor": 0
}
