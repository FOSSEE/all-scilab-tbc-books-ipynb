{
"cells": [
 {
		   "cell_type": "markdown",
	   "metadata": {},
	   "source": [
       "# Chapter 14: Stability"
	   ]
	},
{
		   "cell_type": "markdown",
		   "metadata": {},
		   "source": [
			"## Example 14.1: Stability.sce"
		   ]
		  },
  {
"cell_type": "code",
	   "execution_count": null,
	   "metadata": {
	    "collapsed": true
	   },
	   "outputs": [],
"source": [
"//Example 14.1\n",
"clear\n",
"clc\n",
"s=%s;\n",
"G1=10*((0.5*s+1)/s);\n",
"G2=1/(2*s+1);\n",
"H=1;\n",
"G=G1*G2*H\n",
"//The characteristic equation is therefore\n",
"disp('1+G=0')\n",
"disp('=0',1+G,'1+G=');\n",
"//which is equivalent to\n",
"disp('s^2+3*s+5=0');\n",
"h=poly([5,3,1],'s','coeff');\n",
"r=roots(h)\n",
"disp(r,'roots=')\n",
"//Since the real part of roots are negative, the system is stable\n",
"n=length(r);\n",
"c=0;\n",
"for i=1:n\n",
"if (real(r(i,1))<0)\n",
"c=c+1;\n",
"end \n",
"end\n",
"if(c>=1)\n",
"printf('system is stable\n')\n",
"else ('system is unstable')\n",
"end"
   ]
   }
,
{
		   "cell_type": "markdown",
		   "metadata": {},
		   "source": [
			"## Example 14.2: Stability.sce"
		   ]
		  },
  {
"cell_type": "code",
	   "execution_count": null,
	   "metadata": {
	    "collapsed": true
	   },
	   "outputs": [],
"source": [
"//Example 14.2\n",
"clear;\n",
"clc\n",
"h=poly([2,4,5,3,1],'s','coeff');\n",
"r=routh_t(h)\n",
"//Since there is no change in sign in the first column, there are no roots having positive real parts, and the system is stable.\n",
"y=coeff(h);\n",
"n=length(y);\n",
"c=0;\n",
"for i=1:n\n",
"if (r(i,1)<0)\n",
"c=c+1;\n",
"end \n",
"end\n",
"if(c>=1)\n",
"printf('system is unstable')\n",
"else ('system is stable')\n",
"end"
   ]
   }
,
{
		   "cell_type": "markdown",
		   "metadata": {},
		   "source": [
			"## Example 14.3: Stability.sce"
		   ]
		  },
  {
"cell_type": "code",
	   "execution_count": null,
	   "metadata": {
	    "collapsed": true
	   },
	   "outputs": [],
"source": [
"//Example 14.3\n",
"clc\n",
"syms Kc s s3;\n",
"G1=1/((s+1)*(0.5*s+1));\n",
"H=3/(s+3);\n",
"G=Kc*G1*H;\n",
"G=simple(G);\n",
"//The characteristic equation is therefore\n",
"disp('1+G=0')\n",
"disp('=0',1+G,'1+G=');\n",
"//which is equivalent to\n",
"disp('s^3+6*s^2+11*s+6+6*Kc=0')\n",
"routh=[1 11;6 6+6*Kc]\n",
"routh=[routh;-det(routh(1:2,1:2))/routh(2,1),0]\n",
"routh=[routh;-det(routh(2:3,1:2))/routh(3,1),0]\n",
"routh=simple(routh)\n",
"disp('>0',routh(3,1))\n",
"disp('Kc<10')\n",
"Kc=10;\n",
"routh=horner(routh,Kc);\n",
"routh=dbl(routh)\n",
"C=routh(2,1);\n",
"D=routh(2,2);\n",
"p=poly([D 0 C],'s','coeff')\n",
"disp('6*s^2+66=0')\n",
"r=roots(p)\n",
"disp('=0',simple((s-r(1,1))*(s-r(2,1))*(s-s3)))\n",
"//On comparing with the equation\n",
"poly([6+6*Kc 11 6 1],'s','coeff')\n",
"//we get\n",
"s3=-6;\n",
"printf('s1=3.3166248*i,s2=3.3166248*i,,s3=6\n')"
   ]
   }
,
{
		   "cell_type": "markdown",
		   "metadata": {},
		   "source": [
			"## Example 14.4: Stability.sce"
		   ]
		  },
  {
"cell_type": "code",
	   "execution_count": null,
	   "metadata": {
	    "collapsed": true
	   },
	   "outputs": [],
"source": [
"//Example 14.4\n",
"clc\n",
"s=%s;\n",
"tau1=1;\n",
"tau2=1/2;\n",
"tau3=1/3;\n",
"taui=0.25;\n",
"Kc=5;\n",
"n=Kc/(tau1*tau2*tau3)*(taui*s+1);\n",
"d=taui*s*(s+(1/tau1))*(s+(1/tau2))*(s+(1/tau3));\n",
"G=syslin('c',n/d);\n",
"//The characteristic equation is therefore\n",
"disp('1+G=0')\n",
"disp('=0',1+G,'1+G=');\n",
"//which is equivalent to\n",
"disp('s^4+6*s^3+11*s^2+36*s+120=0')\n",
"h=poly([120 36 11 6 1],'s','coeff')\n",
"r=routh_t(h)\n",
"y=coeff(h);\n",
"n=length(y);\n",
"c=0;\n",
"for i=1:n\n",
"if (r(i,1)<0)\n",
"c=c+1;\n",
"end \n",
"end\n",
"if(c>=1)\n",
"printf('system is unstable\n')\n",
"else ('system is stable')\n",
"end"
   ]
   }
],
"metadata": {
		  "kernelspec": {
		   "display_name": "Scilab",
		   "language": "scilab",
		   "name": "scilab"
		  },
		  "language_info": {
		   "file_extension": ".sce",
		   "help_links": [
			{
			 "text": "MetaKernel Magics",
			 "url": "https://github.com/calysto/metakernel/blob/master/metakernel/magics/README.md"
			}
		   ],
		   "mimetype": "text/x-octave",
		   "name": "scilab",
		   "version": "0.7.1"
		  }
		 },
		 "nbformat": 4,
		 "nbformat_minor": 0
}
