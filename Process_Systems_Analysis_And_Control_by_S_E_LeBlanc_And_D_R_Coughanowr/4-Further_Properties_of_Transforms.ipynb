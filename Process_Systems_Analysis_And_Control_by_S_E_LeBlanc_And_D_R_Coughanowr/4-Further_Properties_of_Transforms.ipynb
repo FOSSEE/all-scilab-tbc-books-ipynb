{
"cells": [
 {
		   "cell_type": "markdown",
	   "metadata": {},
	   "source": [
       "# Chapter 4: Further Properties of Transforms"
	   ]
	},
{
		   "cell_type": "markdown",
		   "metadata": {},
		   "source": [
			"## Example 4.1: Final_value_theorem.sce"
		   ]
		  },
  {
"cell_type": "code",
	   "execution_count": null,
	   "metadata": {
	    "collapsed": true
	   },
	   "outputs": [],
"source": [
"//Example 4.1\n",
"clc\n",
"s=%s;\n",
"num=poly(1,'s','coeff');\n",
"den=s*poly([1 3 3 1],'s','coeff');\n",
"xs=num/den;\n",
"disp(xs,'xs=')\n",
"syms s;\n",
"xt=limit(s*xs,s,0);//final value theorem\n",
"disp(xt,'x(t)=')"
   ]
   }
,
{
		   "cell_type": "markdown",
		   "metadata": {},
		   "source": [
			"## Example 4.2: Final_value_theorem.sce"
		   ]
		  },
  {
"cell_type": "code",
	   "execution_count": null,
	   "metadata": {
	    "collapsed": true
	   },
	   "outputs": [],
"source": [
"//Example 4.2\n",
"clc\n",
"s=%s;\n",
"num=poly([-8 0 9 -6 1],'s','coeff');\n",
"den=s*(s-2)*poly([-2 -1 2 1],'s','coeff')\n",
"xs=num/den;\n",
"disp(xs,'x(s)=')\n",
"disp(s*xs,'s*x(s)=')\n",
"[A]=pfss(s*xs)\n",
"printf('since xs becomes infinite for s=1 and s=2, the conditions of the final value theorem are not satisfied\n')\n",
"printf('Final value theorem is not applicable \n')\n",
""
   ]
   }
,
{
		   "cell_type": "markdown",
		   "metadata": {},
		   "source": [
			"## Example 4.4: Laplace_transform.sce"
		   ]
		  },
  {
"cell_type": "code",
	   "execution_count": null,
	   "metadata": {
	    "collapsed": true
	   },
	   "outputs": [],
"source": [
"//Example 4.4\n",
"clc\n",
"syms t s a k;\n",
"xt=laplace('%e^(-a*t)*cos(k*t)',t,s);\n",
"disp(xt,'x(t)=')\n",
"x\n",
"\n",
""
   ]
   }
],
"metadata": {
		  "kernelspec": {
		   "display_name": "Scilab",
		   "language": "scilab",
		   "name": "scilab"
		  },
		  "language_info": {
		   "file_extension": ".sce",
		   "help_links": [
			{
			 "text": "MetaKernel Magics",
			 "url": "https://github.com/calysto/metakernel/blob/master/metakernel/magics/README.md"
			}
		   ],
		   "mimetype": "text/x-octave",
		   "name": "scilab",
		   "version": "0.7.1"
		  }
		 },
		 "nbformat": 4,
		 "nbformat_minor": 0
}
