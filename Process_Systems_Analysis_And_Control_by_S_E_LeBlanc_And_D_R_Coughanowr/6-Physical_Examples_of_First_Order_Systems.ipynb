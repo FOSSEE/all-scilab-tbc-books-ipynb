{
"cells": [
 {
		   "cell_type": "markdown",
	   "metadata": {},
	   "source": [
       "# Chapter 6: Physical Examples of First Order Systems"
	   ]
	},
{
		   "cell_type": "markdown",
		   "metadata": {},
		   "source": [
			"## Example 6.1: First_order_systems.sce"
		   ]
		  },
  {
"cell_type": "code",
	   "execution_count": null,
	   "metadata": {
	    "collapsed": true
	   },
	   "outputs": [],
"source": [
"//Example 6.1\n",
"clc;\n",
"syms s t;\n",
"tau=1;//min\n",
"R=1/9;//ft/cfm\n",
"A=9;\n",
"//from Equation 6.8\n",
"g=R/(tau*s+1);\n",
"disp(g,'H(s)/Q(s)=')\n",
"//from Example 4.5 \n",
"disp('Q(t)=90[u(t)-u(t-0.1)')\n",
"//where u(t) is a unit step function, the laplace transform of it gives\n",
"Qs=90*(1-exp(-0.1*s))/s\n",
"disp(Qs,'Q(s)=')\n",
"Hs=Qs*g;\n",
"disp(Hs,'H(s)=')\n",
"//taking first term for t<0.1, the second term goes equals to zero\n",
"Ht=ilaplace('10*(1/(s*(s+1)))',s,t);//t<0.1\n",
"disp(Ht,'H(t)=')\n",
"disp('H(t)=10(1-yexp(-(-t-0.1)))')//t>0.1\n",
"Ht=10*((1-exp(-t))-(1-exp(-(-t-0.1))));\n",
"disp(Ht,'H(t)=')\n",
"//from Eq.(5.16)\n",
"Ht=R*A*exp(-(t/tau));//impulse \n",
"disp(Ht,'H(t)=')\n",
""
   ]
   }
],
"metadata": {
		  "kernelspec": {
		   "display_name": "Scilab",
		   "language": "scilab",
		   "name": "scilab"
		  },
		  "language_info": {
		   "file_extension": ".sce",
		   "help_links": [
			{
			 "text": "MetaKernel Magics",
			 "url": "https://github.com/calysto/metakernel/blob/master/metakernel/magics/README.md"
			}
		   ],
		   "mimetype": "text/x-octave",
		   "name": "scilab",
		   "version": "0.7.1"
		  }
		 },
		 "nbformat": 4,
		 "nbformat_minor": 0
}
