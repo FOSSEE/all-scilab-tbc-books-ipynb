{
"cells": [
 {
		   "cell_type": "markdown",
	   "metadata": {},
	   "source": [
       "# Chapter 10: Controllers and Final Control Elements"
	   ]
	},
{
		   "cell_type": "markdown",
		   "metadata": {},
		   "source": [
			"## Example 10.1: Control_system.sce"
		   ]
		  },
  {
"cell_type": "code",
	   "execution_count": null,
	   "metadata": {
	    "collapsed": true
	   },
	   "outputs": [],
"source": [
"//Example 10.1\n",
"clear\n",
"clc\n",
"t1=60;//Fahrenheit\n",
"t2=100;//Fahrenheit\n",
"p1=3;//psi\n",
"p2=15;//psi\n",
"T1=71;//Fahrenheit\n",
"T2=75;//Fahrenheit\n",
"pb=((T2-T1)/(t2-t1))*100;\n",
"disp('%',pb,'proportional band=')\n",
"Gain=(p2-p1)/(T2-T1);\n",
"disp('psi/F',Gain,'Gain=')\n",
"//Assume pb is changed to 75% then\n",
"pb=75;//%\n",
"T=(pb*(t2-t1))/100;\n",
"disp('Fahrenheit',T,'T=')\n",
"Gain=(p2-p1)/T;\n",
"disp('psi/F',Gain,'Gain=')"
   ]
   }
],
"metadata": {
		  "kernelspec": {
		   "display_name": "Scilab",
		   "language": "scilab",
		   "name": "scilab"
		  },
		  "language_info": {
		   "file_extension": ".sce",
		   "help_links": [
			{
			 "text": "MetaKernel Magics",
			 "url": "https://github.com/calysto/metakernel/blob/master/metakernel/magics/README.md"
			}
		   ],
		   "mimetype": "text/x-octave",
		   "name": "scilab",
		   "version": "0.7.1"
		  }
		 },
		 "nbformat": 4,
		 "nbformat_minor": 0
}
