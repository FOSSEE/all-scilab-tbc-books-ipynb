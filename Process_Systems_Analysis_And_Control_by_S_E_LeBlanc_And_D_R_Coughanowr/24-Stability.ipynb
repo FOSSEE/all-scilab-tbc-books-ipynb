{
"cells": [
 {
		   "cell_type": "markdown",
	   "metadata": {},
	   "source": [
       "# Chapter 24: Stability"
	   ]
	},
{
		   "cell_type": "markdown",
		   "metadata": {},
		   "source": [
			"## Example 24.1: Stability.sce"
		   ]
		  },
  {
"cell_type": "code",
	   "execution_count": null,
	   "metadata": {
	    "collapsed": true
	   },
	   "outputs": [],
"source": [
"//Example 24.1\n",
"clc\n",
"syms K b z w;\n",
"Gz=K*(1-b)/(z-b)\n",
"//where b=exp(-T/tau)\n",
"//From Eq.(24.4)\n",
"z=w+1/w-1;\n",
"Gz=eval(Gz)\n",
"disp('=0',1+Gz,'1+G(z)=')\n",
"//which is equivalent to\n",
"disp('(K+1)*(1-b)*w+(1+b)-K(1-b)=0')\n",
"routh=[(K+1)*(1-b);(1+b)-K*(1-b)]\n",
"//b is always positive and less than one and K is positive\n",
"//The first element in the array is positive\n",
"//For stability, the Routh test requires that all elements of the first column be positive\n",
"//Therefore,\n",
"disp('>0',routh(2,1))\n",
"disp('K<(1+b)/(1-b)')\n",
""
   ]
   }
],
"metadata": {
		  "kernelspec": {
		   "display_name": "Scilab",
		   "language": "scilab",
		   "name": "scilab"
		  },
		  "language_info": {
		   "file_extension": ".sce",
		   "help_links": [
			{
			 "text": "MetaKernel Magics",
			 "url": "https://github.com/calysto/metakernel/blob/master/metakernel/magics/README.md"
			}
		   ],
		   "mimetype": "text/x-octave",
		   "name": "scilab",
		   "version": "0.7.1"
		  }
		 },
		 "nbformat": 4,
		 "nbformat_minor": 0
}
