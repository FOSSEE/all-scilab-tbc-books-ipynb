{
"cells": [
 {
		   "cell_type": "markdown",
	   "metadata": {},
	   "source": [
       "# Chapter 5: Response of First Order Systems"
	   ]
	},
{
		   "cell_type": "markdown",
		   "metadata": {},
		   "source": [
			"## Example 5.1: First_order_systems.sce"
		   ]
		  },
  {
"cell_type": "code",
	   "execution_count": null,
	   "metadata": {
	    "collapsed": true
	   },
	   "outputs": [],
"source": [
"//Example 5.1\n",
"tau=0.1;//min\n",
"xs=90;//degrees\n",
"A=10;//degrees\n",
"Y_inf=10;//degrees\n",
"Y_t=8;//degrees\n",
"//Substituting into Eq.(5.12) the appropriate values of Y_t,A,and tau gives\n",
"t=-0.1*logm(1-(Y_t/A));//min\n",
"disp('min',t,'time=')"
   ]
   }
,
{
		   "cell_type": "markdown",
		   "metadata": {},
		   "source": [
			"## Example 5.2: First_order_systems.sce"
		   ]
		  },
  {
"cell_type": "code",
	   "execution_count": null,
	   "metadata": {
	    "collapsed": true
	   },
	   "outputs": [],
"source": [
"//Example 5.2\n",
"clear\n",
"clc\n",
"tau=0.1;//min\n",
"xs=100;//Fahrenheit\n",
"ys=100;//Fahrenheit\n",
"A=2;//Fahrenheit\n",
"f=10/%pi;//cycles/min\n",
"w=2*%pi*f;//rad/min\n",
"//From Eq.(5.25), the amplitude of the response and the phase angle are calculated;thus\n",
"disp('Fahrenheit',A/sqrt((tau*w)^2+1),'A/sqrt((tau*w)^2+1)=')\n",
"phi=atan(-w*tau);//radians\n",
"phi=phi*180/%pi;//degrees\n",
"disp('degrees',phi,'phase lag=')\n",
"t=0:0.01:1;\n",
"//From Eq.(5.19), the input of the thermometer is  therefore\n",
"disp('X(t)=2*sin(20*t)');\n",
"//or\n",
"xt=xs+2*sin(20*t);\n",
"//The response of the thermometer is therefore\n",
"disp('Y(t)=0.8944*sin(20*t-63.4349)')\n",
"//or\n",
"yt=ys+0.8944*sin(20*t-63.4349);\n",
"Lag=phi/(360*f);//min\n",
"Lag=abs(Lag);//min\n",
"disp('min',Lag,'Lag=')\n",
"clf;\n",
"plot(t,yt)\n",
"plot(t,xt)\n",
"xlabel('time')\n",
"ylabel('x(t) , y(t)')\n",
"title('x(t) , y(t) Vs time')\n",
"xgrid\n",
"\n",
""
   ]
   }
],
"metadata": {
		  "kernelspec": {
		   "display_name": "Scilab",
		   "language": "scilab",
		   "name": "scilab"
		  },
		  "language_info": {
		   "file_extension": ".sce",
		   "help_links": [
			{
			 "text": "MetaKernel Magics",
			 "url": "https://github.com/calysto/metakernel/blob/master/metakernel/magics/README.md"
			}
		   ],
		   "mimetype": "text/x-octave",
		   "name": "scilab",
		   "version": "0.7.1"
		  }
		 },
		 "nbformat": 4,
		 "nbformat_minor": 0
}
