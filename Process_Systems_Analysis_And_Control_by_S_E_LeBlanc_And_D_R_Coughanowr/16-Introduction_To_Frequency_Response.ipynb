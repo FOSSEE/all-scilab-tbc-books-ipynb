{
"cells": [
 {
		   "cell_type": "markdown",
	   "metadata": {},
	   "source": [
       "# Chapter 16: Introduction To Frequency Response"
	   ]
	},
{
		   "cell_type": "markdown",
		   "metadata": {},
		   "source": [
			"## Example 16.1: Frequency_Response.sce"
		   ]
		  },
  {
"cell_type": "code",
	   "execution_count": null,
	   "metadata": {
	    "collapsed": true
	   },
	   "outputs": [],
"source": [
"//Example 16.1\n",
"clc\n",
"s=%s;\n",
"j=%i;\n",
"f=10/%pi;\n",
"w=2*%pi*f;\n",
"G=1/(0.1*s+1);\n",
"s=w*j;\n",
"Gs=horner(G,s);\n",
"disp(Gs,'G(20j)=')\n",
"[r,theta]=polar(Gs)\n",
"theta=theta*180/%pi;\n",
"disp('degrees',theta,'theta=')\n",
""
   ]
   }
,
{
		   "cell_type": "markdown",
		   "metadata": {},
		   "source": [
			"## Example 16.2: Frequency_Response.sce"
		   ]
		  },
  {
"cell_type": "code",
	   "execution_count": null,
	   "metadata": {
	    "collapsed": true
	   },
	   "outputs": [],
"source": [
"//Example 16.2\n",
"clc\n",
"syms tau s zeta w;\n",
"j=%i;\n",
"n=1;\n",
"d=tau^2*s^2+2*zeta*tau*s+1;\n",
"G=n/d\n",
"s=j*w;\n",
"G=1/(2*s*tau*zeta+s^2*tau^2+1)   \n",
"[num den]=numden(G)\n",
"d=abs(den)\n",
"cof_a_0=coeffs(den,'%i',0)\n",
"cof_a_1=coeffs(den,'%i',1) \n",
"AR=1/d\n",
"theta=AR*atan(-cof_a_1/cof_a_0);\n",
"disp(theta,'Phase angle=')"
   ]
   }
,
{
		   "cell_type": "markdown",
		   "metadata": {},
		   "source": [
			"## Example 16.4: Bode_diagram.sce"
		   ]
		  },
  {
"cell_type": "code",
	   "execution_count": null,
	   "metadata": {
	    "collapsed": true
	   },
	   "outputs": [],
"source": [
"//Example 16.4\n",
"clc\n",
"s=%s;\n",
"H=1/(s+1);\n",
"Hs=syslin('c',H)\n",
"J=1/(s+5);\n",
"Js=syslin('c',J)\n",
"G=Hs*Js;\n",
"Gs=syslin('c',G)\n",
"clf\n",
"bode([Hs;Js;Gs;])\n",
"legend(['1/(s+1)';'1/(s/5+1)';'1/(5*(s+1)*(s/5+1))'])"
   ]
   }
,
{
		   "cell_type": "markdown",
		   "metadata": {},
		   "source": [
			"## Example 16.5: Bode_diagram.sce"
		   ]
		  },
  {
"cell_type": "code",
	   "execution_count": null,
	   "metadata": {
	    "collapsed": true
	   },
	   "outputs": [],
"source": [
"//Example 16.5\n",
"clc\n",
"s=poly(0,'s');\n",
"disp('G=10*(0.5*s+1)*exp(-s/10)/(((s+1)^2)*(0.1*s+1))')\n",
"printf('exp(-0.1*s)=(2-0.1*s)/(2+0.1*s)\n)')\n",
"G=10*(0.5*s+1)*(2-0.1*s)/(((s+1)^2)*(0.1*s+1)*(2+0.1*s));\n",
"Gs=syslin('c',G)\n",
"clf\n",
"bode(Gs)"
   ]
   }
],
"metadata": {
		  "kernelspec": {
		   "display_name": "Scilab",
		   "language": "scilab",
		   "name": "scilab"
		  },
		  "language_info": {
		   "file_extension": ".sce",
		   "help_links": [
			{
			 "text": "MetaKernel Magics",
			 "url": "https://github.com/calysto/metakernel/blob/master/metakernel/magics/README.md"
			}
		   ],
		   "mimetype": "text/x-octave",
		   "name": "scilab",
		   "version": "0.7.1"
		  }
		 },
		 "nbformat": 4,
		 "nbformat_minor": 0
}
