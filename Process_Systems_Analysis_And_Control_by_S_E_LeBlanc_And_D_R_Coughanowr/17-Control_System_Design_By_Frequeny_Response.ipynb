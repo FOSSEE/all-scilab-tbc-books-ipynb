{
"cells": [
 {
		   "cell_type": "markdown",
	   "metadata": {},
	   "source": [
       "# Chapter 17: Control System Design By Frequeny Response"
	   ]
	},
{
		   "cell_type": "markdown",
		   "metadata": {},
		   "source": [
			"## Example 17.1: Frequency_Response.sce"
		   ]
		  },
  {
"cell_type": "code",
	   "execution_count": null,
	   "metadata": {
	    "collapsed": true
	   },
	   "outputs": [],
"source": [
"//Example 17.1\n",
"clc\n",
"s=%s;\n",
"syms Kc\n",
"tau=1;\n",
"taum=1;\n",
"wC=1;\n",
"g1=Kc;\n",
"g2=1/(s+1);\n",
"g3=1/(s+1);\n",
"G1=g2*g3;\n",
"G1=syslin('c',G1)\n",
"G=g1*g2/.g3;\n",
"disp(G,'C(s)/R(s)=')\n",
"//This equation can be written in the form of Kc*(s+1)/((1+Kc)*(tau2^2*s^2+2*tau2*zeta2*s+1)\n",
"tau2=sqrt(1/(1+Kc))\n",
"zeta2=sqrt(1/(1+Kc))\n",
"clf\n",
"bode(G1)\n",
"show_margins(G1)\n",
"//To make the open loop gain 1 at w=4\n",
"phaseangle=-152//degrees\n",
"phasemargin=180+phaseangle//degrees\n",
"//At this phase margin, the gain margin is\n",
"A=0.062//gain margin\n",
"Kc=1/A\n",
"zeta2=dbl(zeta2)"
   ]
   }
,
{
		   "cell_type": "markdown",
		   "metadata": {},
		   "source": [
			"## Example 17.3: Tuning_Rules.sce"
		   ]
		  },
  {
"cell_type": "code",
	   "execution_count": null,
	   "metadata": {
	    "collapsed": true
	   },
	   "outputs": [],
"source": [
"//Example 17.3\n",
"clc;\n",
"syms Kc tauI s;\n",
"g1=Kc*(1+1/(tauI*s));\n",
"g2=1/(s+1);\n",
"g2=exp(-1.02*s)\n",
"G=g1*g2*g3//Openloop transfer function\n",
"//By solving the equation -180=-atan(w)-57.3*1.02*w, we get\n",
"wc0=2;//rad/min\n",
"disp('AR=Kcu/sqrt(1+wc0^2)')\n",
"AR=1;\n",
"Kcu=AR*sqrt(1+wc0^2);\n",
"//From Ziegler-Nicholas rules\n",
"Kc=Kcu*0.45//ultimate gain\n",
"Pu=2*%pi/wc0;//ultimate period\n",
"tauI=Pu/1.2;\n",
"disp('min',tauI,'tauI=')"
   ]
   }
,
{
		   "cell_type": "markdown",
		   "metadata": {},
		   "source": [
			"## Example 17.4: Tuning_Rules.sce"
		   ]
		  },
  {
"cell_type": "code",
	   "execution_count": null,
	   "metadata": {
	    "collapsed": true
	   },
	   "outputs": [],
"source": [
"//Example 17.4\n",
"clc\n",
"s=%s;\n",
"syms Kc K1 tauI tauD\n",
"K=0.09;\n",
"Kc=K1/K;\n",
"Gc=K1*(1+1/(tauI*s)+tauD*s)\n",
"g1=1/((s+1)*(s+2));\n",
"//g2=exp(-0.5*s), we can write it as g2=(2-0.5*s)/(2+0.5*s). Therefore,\n",
"g2=(2-0.5*s)/(2+0.5*s);\n",
"G=g1*g2;\n",
"G=syslin('c',G)\n",
"clf\n",
"bode(G)\n",
"show_margins(G)\n",
"//From the bode diagrams we get\n",
"wc0=1.56;//rad/min\n",
"A=0.145;\n",
"Ku=1/A\n",
"Pu=2*%pi/wc0\n",
"//By Z-N rules\n",
"//For P controller\n",
"K1=0.5*Ku\n",
"Gc=K1\n",
"G1=Gc*G/K1\n",
"//For PI controller\n",
"K1=0.45*Ku\n",
"tauI=Pu/1.2\n",
"Gc=K1*(1+1/(tauI*s))\n",
"G2=Gc*G/K1\n",
"//For PID controller\n",
"K1=0.6*Ku\n",
"tauI=Pu/2\n",
"tauD=Pu/8\n",
"Gc=K1*(1+1/(tauI*s)+tauD*s)\n",
"G3=Gc*G/K1\n",
"clf\n",
"bode([G1;G2;G3])\n",
"legend(['G1';'G2';'G3']);\n",
"\n",
""
   ]
   }
],
"metadata": {
		  "kernelspec": {
		   "display_name": "Scilab",
		   "language": "scilab",
		   "name": "scilab"
		  },
		  "language_info": {
		   "file_extension": ".sce",
		   "help_links": [
			{
			 "text": "MetaKernel Magics",
			 "url": "https://github.com/calysto/metakernel/blob/master/metakernel/magics/README.md"
			}
		   ],
		   "mimetype": "text/x-octave",
		   "name": "scilab",
		   "version": "0.7.1"
		  }
		 },
		 "nbformat": 4,
		 "nbformat_minor": 0
}
