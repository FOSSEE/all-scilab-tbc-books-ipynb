{
"cells": [
 {
		   "cell_type": "markdown",
	   "metadata": {},
	   "source": [
       "# Chapter 7: Response of First Order Systems in Series"
	   ]
	},
{
		   "cell_type": "markdown",
		   "metadata": {},
		   "source": [
			"## Example 7.1: First_order_systems.sce"
		   ]
		  },
  {
"cell_type": "code",
	   "execution_count": null,
	   "metadata": {
	    "collapsed": true
	   },
	   "outputs": [],
"source": [
"//Example 7.1\n",
"clc\n",
"s=%s;\n",
"tau1=0.5;\n",
"tau2=1;\n",
"R2=1;\n",
"//From Eq.(7.8)\n",
"g=R2/((tau1*s+1)*(tau2*s+1))\n",
"disp(g,'H2(s)/Q(s)=')\n",
"Qs=1/s;\n",
"H2s=g*Qs;\n",
"disp(H2s,'H2(s)=')\n",
"syms t;\n",
"H2t=ilaplace(H2s,s,t);\n",
"disp(H2t,'H2(t)=')"
   ]
   }
],
"metadata": {
		  "kernelspec": {
		   "display_name": "Scilab",
		   "language": "scilab",
		   "name": "scilab"
		  },
		  "language_info": {
		   "file_extension": ".sce",
		   "help_links": [
			{
			 "text": "MetaKernel Magics",
			 "url": "https://github.com/calysto/metakernel/blob/master/metakernel/magics/README.md"
			}
		   ],
		   "mimetype": "text/x-octave",
		   "name": "scilab",
		   "version": "0.7.1"
		  }
		 },
		 "nbformat": 4,
		 "nbformat_minor": 0
}
