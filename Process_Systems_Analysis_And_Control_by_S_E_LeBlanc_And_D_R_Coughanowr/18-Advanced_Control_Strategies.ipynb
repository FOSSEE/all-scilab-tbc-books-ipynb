{
"cells": [
 {
		   "cell_type": "markdown",
	   "metadata": {},
	   "source": [
       "# Chapter 18: Advanced Control Strategies"
	   ]
	},
{
		   "cell_type": "markdown",
		   "metadata": {},
		   "source": [
			"## Example 18.3: Tuning_Rules.sce"
		   ]
		  },
  {
"cell_type": "code",
	   "execution_count": null,
	   "metadata": {
	    "collapsed": true
	   },
	   "outputs": [],
"source": [
"//Example 18.3\n",
"clc\n",
"s=%s;\n",
"Kf=-1;\n",
"tp=2;\n",
"//Applying feedforward control rules\n",
"T1=1.5*tp\n",
"T2=0.7*tp\n",
"Gfs=Kf*(T1*s+1)/(T2*s+1);\n",
"disp(Gfs,'Gf(s)=')"
   ]
   }
,
{
		   "cell_type": "markdown",
		   "metadata": {},
		   "source": [
			"## Example 18.5: Internal_Model_Control.sce"
		   ]
		  },
  {
"cell_type": "code",
	   "execution_count": null,
	   "metadata": {
	    "collapsed": true
	   },
	   "outputs": [],
"source": [
"//Example 18.5\n",
"clc\n",
"syms K tau s l;\n",
"Gm=K/(tau*s+1);\n",
"//For this case\n",
"Gma=1;\n",
"Gmm=K/(tau*s+1);\n",
"Gm=Gma*Gmm;\n",
"GI=1/Gmm\n",
"f=1/(l*s+1);\n",
"//In order to be able to implement this transfer function let f(s)=1/(l*s+1)\n",
"//Thus IMC becomes\n",
"GI=f/Gmm\n",
"Gc=GI/(1-GI*Gm)\n",
"//On simplification, it will be in the form of \n",
"Gc=tau*(1+1/(tau*s))/(l*s*K)\n",
"printf('The result is in the form of PI controller')"
   ]
   }
,
{
		   "cell_type": "markdown",
		   "metadata": {},
		   "source": [
			"## Example 18.6: Internal_Model_Control.sce"
		   ]
		  },
  {
"cell_type": "code",
	   "execution_count": null,
	   "metadata": {
	    "collapsed": true
	   },
	   "outputs": [],
"source": [
"//Example \n",
"clc\n",
"syms K taud s tau t\n",
"G=K*exp(-taud*s)/(tau*s+1)\n",
"//we can use an approximation that\n",
"printf('exp(-taud*s)=(2-taud*s/2)/(2+taud*s)\n')\n",
"Gm=K*(2-taud*s/2)/((2+taud*s)*(tau*s+1));//here Gm=G\n",
"//For this model\n",
"Gma=(2-taud*s/2)/(2+taud*s);\n",
"Gmm=K/(tau*s+1);\n",
"Gm=Gma*Gmm;\n",
"GI=1/Gmm\n",
"f=1/(l*s+1);\n",
"//In order to be able to implement this transfer function let f(s)=1/(l*s+1)\n",
"//Thus IMC becomes\n",
"GI=f/Gmm\n",
"Gc=GI/(1-GI*Gm)\n",
"//This may be reduced algebraically to the form given by Eq.(18.21) with\n",
"printf('Kc=(2*tau+taud)/(2*l+taud)\n')\n",
"printf('tauI=tau+taud/2\n')\n",
"printf('tau*taud)/(2*tau+taud)\n')\n",
"printf('tau1=l*taud/2*(l+taud)\n')"
   ]
   }
],
"metadata": {
		  "kernelspec": {
		   "display_name": "Scilab",
		   "language": "scilab",
		   "name": "scilab"
		  },
		  "language_info": {
		   "file_extension": ".sce",
		   "help_links": [
			{
			 "text": "MetaKernel Magics",
			 "url": "https://github.com/calysto/metakernel/blob/master/metakernel/magics/README.md"
			}
		   ],
		   "mimetype": "text/x-octave",
		   "name": "scilab",
		   "version": "0.7.1"
		  }
		 },
		 "nbformat": 4,
		 "nbformat_minor": 0
}
