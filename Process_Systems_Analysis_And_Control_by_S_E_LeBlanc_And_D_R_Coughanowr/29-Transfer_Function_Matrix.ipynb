{
"cells": [
 {
		   "cell_type": "markdown",
	   "metadata": {},
	   "source": [
       "# Chapter 29: Transfer Function Matrix"
	   ]
	},
{
		   "cell_type": "markdown",
		   "metadata": {},
		   "source": [
			"## Example 29.1: Transfer_function_matrix.sce"
		   ]
		  },
  {
"cell_type": "code",
	   "execution_count": null,
	   "metadata": {
	    "collapsed": true
	   },
	   "outputs": [],
"source": [
"//Example 29.1\n",
"clc\n",
"syms t tau\n",
"A=[-1 1;0 -2]\n",
"B=[0;1]\n",
"x0=[-1;0]\n",
"printf('x1=Ax+Bu(t)')\n",
"//On solving given equation\n",
"//let X=exp(A*t)\n",
"X=[exp(-t) exp(-t)-exp(-2*t);0 exp(-2*t)]\n",
"//Y=exp(A*(t-tau))\n",
"Y=[exp(-(t-tau) ) exp(-(t-tau))-exp(-2*(t-tau));0 exp(-2*(t-tau))]\n",
"//From Eq.(29.4)\n",
"xt=X*x0+integ(Y*B,tau,0,t)"
   ]
   }
,
{
		   "cell_type": "markdown",
		   "metadata": {},
		   "source": [
			"## Example 29.2: Transfer_function_matrix.sce"
		   ]
		  },
  {
"cell_type": "code",
	   "execution_count": null,
	   "metadata": {
	    "collapsed": true
	   },
	   "outputs": [],
"source": [
"//Example 29.2\n",
"clc\n",
"A=[-2 0;4 -3]\n",
"B=[1 0;0 2]\n",
"syms s H1s H2s  U1s U2s\n",
"I=eye(2,2)\n",
"Gs=inv(s*I-A)*B\n",
"Hs=[H1s;H2s]\n",
"Us=[U1s;U2s]\n",
"Hs=Gs*Us\n",
"//On comparing\n",
"H1s=Hs(1,1)\n",
"H2s=Hs(2,1)\n",
"U2s=0;\n",
"U1s=1/s;\n",
"H1s=eval(H1s)\n",
"H2s=eval(H2s)\n",
"//On inverse laplace transformations\n",
"H1t=ilaplace(H1s,s,t)\n",
"H2s=ilaplace(H2s,s,t)"
   ]
   }
],
"metadata": {
		  "kernelspec": {
		   "display_name": "Scilab",
		   "language": "scilab",
		   "name": "scilab"
		  },
		  "language_info": {
		   "file_extension": ".sce",
		   "help_links": [
			{
			 "text": "MetaKernel Magics",
			 "url": "https://github.com/calysto/metakernel/blob/master/metakernel/magics/README.md"
			}
		   ],
		   "mimetype": "text/x-octave",
		   "name": "scilab",
		   "version": "0.7.1"
		  }
		 },
		 "nbformat": 4,
		 "nbformat_minor": 0
}
