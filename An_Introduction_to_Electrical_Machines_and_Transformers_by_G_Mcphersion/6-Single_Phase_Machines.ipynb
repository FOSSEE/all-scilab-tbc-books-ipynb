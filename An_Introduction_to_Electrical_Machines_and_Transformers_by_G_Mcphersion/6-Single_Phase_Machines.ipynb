{
"cells": [
 {
		   "cell_type": "markdown",
	   "metadata": {},
	   "source": [
       "# Chapter 6: Single Phase Machines"
	   ]
	},
{
		   "cell_type": "markdown",
		   "metadata": {},
		   "source": [
			"## Example 6.1: Find_the_performance_of_a_single_phase_motor_under_provided_conditions.sce"
		   ]
		  },
  {
"cell_type": "code",
	   "execution_count": null,
	   "metadata": {
	    "collapsed": true
	   },
	   "outputs": [],
"source": [
"clc\n",
"//code uses a userdefined function complexstring\n",
"function s=complexstring(a)\n",
"    \n",
"    \n",
"    if imag(a)>=0 then\n",
"        s=sprintf('%g+%gi',real(a),imag(a))\n",
"    else\n",
"        s=sprintf('%g%gi',real(a),imag(a))\n",
"        \n",
"    end\n",
"    funcprot(0)\n",
"endfunction\n",
"r1m=1.9//resistance in ohms\n",
"x1m=2.6 //reactance in ohms\n",
"r2=3.6 //resistance in ohms\n",
"x2=2.6 //reactance in ohms\n",
"Xm=56 //magnetizing reactance in ohms\n",
"Prot=25 //rotational losses in watts\n",
"f=60 //supply frequency in Hz\n",
"z1m=r1m+(%i*x1m)\n",
"s=0.05 //slip\n",
"disp('Z1m='+complexstring(z1m)+'Ω')\n",
"Zf=((%i*Xm)*((r2/s)+(%i*x2)))/((%i*Xm)+(r2/s)+(%i*x2))//ans may vary due to roundoff error\n",
"disp('Zf/2='+complexstring(Zf/2)+'Ω')\n",
"Zb=((%i*Xm)*((r2/(2-s))+(%i*x2)))/((%i*Xm)+(r2/(2-s))+(%i*x2))//ans may vary due to roundoff error\n",
"disp('Zb/2='+complexstring(Zb/2)+'Ω')\n",
"Vm=115 //voltage in volts\n",
"Im=Vm/((Zf/2)+(Zb/2)+z1m) //ans may vary due to roundoff error\n",
"Imf=Im\n",
"Imb=Im\n",
"disp('Im='+complexstring(Im)+'A')\n",
"Pin=Vm*abs(Im)*(real(Im)/abs(Im))//ans may vary due to roundoff error\n",
"mprintf('Pin=%fW\n',Pin)\n",
"Pg=((abs(Im))^2)*(real(Zf/2)-real(Zb/2))//ans may vary due to roundoff error\n",
"mprintf('Pg=Pgf-Pgb=%fW\n',Pg)\n",
"mprintf('τd=%fN-m\n',Pg/(2*%pi*(f/2)))\n",
"DMP=Pg*(1-s)\n",
"mprintf('DMP=%fW\n',DMP)//ans may vary due to roundoff error\n",
"Pout=DMP-Prot\n",
"mprintf('Pout=%fW\n',Pout)//ans may vary due to roundoff error\n",
"mprintf('Efficiency=%f\n',Pout/Pin)//ans may vary due to roundoff error\n",
"\n",
"\n",
"\n",
"\n",
"\n",
"\n",
"\n",
"\n",
"\n",
"\n",
""
   ]
   }
,
{
		   "cell_type": "markdown",
		   "metadata": {},
		   "source": [
			"## Example 6.2: Calculate_the_starting_torque_for_the_motor_under_provided_parametres.sce"
		   ]
		  },
  {
"cell_type": "code",
	   "execution_count": null,
	   "metadata": {
	    "collapsed": true
	   },
	   "outputs": [],
"source": [
"clc\n",
"//Ex6_2 is an extension of Ex6_1\n",
"//code uses userdefined  function complexstring\n",
"function s=complexstring(a)\n",
"    \n",
"    \n",
"    if imag(a)>=0 then\n",
"        s=sprintf('%g+%gi',real(a),imag(a))\n",
"    else\n",
"        s=sprintf('%g%gi',real(a),imag(a))\n",
"        \n",
"    end\n",
"    funcprot(0)\n",
"endfunction\n",
"r1a=12//resistance in ohms\n",
"x1a=6.5//reactance in ohms\n",
"Xc=-20 //reactance in ohms\n",
"r1m=1.9 //from E6_1\n",
"x2=2.6 //from Ex6_1\n",
"s=1\n",
"a=1.6 //no unit\n",
"r2=3.6 //resistance in ohms\n",
"x2=2.6 //reactance in ohms\n",
"Xm=56 //magnetizing reactance in ohms\n",
"Vm=115 //applied voltage in volts\n",
"Zf=((%i*Xm)*((r2/s)+(%i*x2)))/((%i*Xm)+(r2/s)+(%i*x2))//from Ex6_1\n",
"Zst=Zf\n",
"Zb=Zf\n",
"z1a=r1a+(%i*x1a)+(%i*Xc)\n",
"disp('z1a='+complexstring(z1a)+'Ω')//ans may vary due to roundoff error\n",
"mprintf('z1a=%fohm havinga phase angle of %f degrees\n',abs(z1a),(acos(real(z1a)/abs(z1a)))*180/%pi)\n",
"Z12=((1/2)*(z1a/(a*a)))-(r1m+(%i*x2))//ans in  textbook is wrong\n",
"disp('Z12='+complexstring(Z12)+'Ω')//ans may vary due to roundoff error\n",
"mprintf('Z12=%fohm havinga phase angle of %f degrees\n',abs(Z12),(acos(real(Z12)/abs(Z12)))*180/%pi)\n",
"Vmf=(Vm/2)*(1-(%i/a))\n",
"disp('Vmf='+complexstring(Vmf)+'V')//ans may vary due to roundoff error\n",
"mprintf('Vmf=%fV havinga phase angle of %f degrees\n',abs(Vmf),(-1)*(acos(real(Vmf)/abs(Vmf)))*180/%pi)\n",
"Vmb=(Vm/2)*(1+(%i/a))\n",
"disp('Vmb='+complexstring(Vmb)+'V')//ans may vary due to roundoff error\n",
"mprintf('Vmb=%fV having a phase angle of %f degrees\n',abs(Vmb),(acos(real(Vmb)/abs(Vmb)))*180/%pi)\n",
"Imf=11.77*exp(%i*(-1)*54.93*%pi/180)//textbook doesnt provide any formula or hint for this calculation\n",
"Imb=4.37*exp(%i*(-1)*19.7*%pi/180)//textbook doesnt provide any formula or hint for this calculation\n",
"disp('Imf='+complexstring(Imf)+'A')//ans may vary due to roundoff error\n",
"disp('Imb='+complexstring(Imb)+'A')//ans may vary due to roundoff error\n",
"mprintf('Imf=%fA having a phase angle of %f degrees\n',11.77,-54.93)\n",
"mprintf('Imb=%fA having a phase angle of %f degrees\n',4.37,-19.37)\n",
"mprintf('τst=%fN-m\n',(2*real(Zst)*((abs(Imf)^2)-(abs(Imb)^2)))/(60*%pi))//ans may vary due to roundoff error\n",
"Im=Imf+Imb\n",
"disp('Im='+complexstring(Im)+'A')//ans may vary due to roundoff error\n",
"mprintf('Im=%fA having a phase angle of%f degrees\n',abs(Im),(-1)*(acos(real(Im)/abs(Im)))*180/%pi)\n",
"Ia=(%i*(Imf-Imb))/a\n",
"disp('Ia='+complexstring(Ia)+'A')//ans may vary due to roundoff error\n",
"mprintf('Ia=%fA having a phase angle of %f degrees\n',abs(Ia),(acos(real(Ia)/abs(Ia)))*180/%pi)\n",
"I=Im+Ia\n",
"disp('Line current='+complexstring(I)+'A')//ans may vary due to roundoff error\n",
"mprintf('I=%fA having a phase angle of %f degrees\n',abs(I),(-1)*(acos(real(I)/abs(I)))*180/%pi)\n",
"\n",
"\n",
"\n",
"\n",
"\n",
"\n",
"\n",
""
   ]
   }
],
"metadata": {
		  "kernelspec": {
		   "display_name": "Scilab",
		   "language": "scilab",
		   "name": "scilab"
		  },
		  "language_info": {
		   "file_extension": ".sce",
		   "help_links": [
			{
			 "text": "MetaKernel Magics",
			 "url": "https://github.com/calysto/metakernel/blob/master/metakernel/magics/README.md"
			}
		   ],
		   "mimetype": "text/x-octave",
		   "name": "scilab",
		   "version": "0.7.1"
		  }
		 },
		 "nbformat": 4,
		 "nbformat_minor": 0
}
