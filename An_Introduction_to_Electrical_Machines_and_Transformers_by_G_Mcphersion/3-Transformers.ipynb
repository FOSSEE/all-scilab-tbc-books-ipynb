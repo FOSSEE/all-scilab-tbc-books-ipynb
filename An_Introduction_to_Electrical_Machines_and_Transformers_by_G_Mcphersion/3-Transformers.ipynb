{
"cells": [
 {
		   "cell_type": "markdown",
	   "metadata": {},
	   "source": [
       "# Chapter 3: Transformers"
	   ]
	},
{
		   "cell_type": "markdown",
		   "metadata": {},
		   "source": [
			"## Example 3.10: EX3_10.sce"
		   ]
		  },
  {
"cell_type": "code",
	   "execution_count": null,
	   "metadata": {
	    "collapsed": true
	   },
	   "outputs": [],
"source": [
"clc\n",
"SB=10000000 //rating of transformer\n",
"VL1B=230000 //voltage rating\n",
"IL1B=SB/(sqrt(3)*VL1B)\n",
"mprintf('ILIB=%fA\n',IL1B)\n",
"VL2B=4160\n",
"IL2B=SB/(sqrt(3)*VL2B)\n",
"mprintf('IL2B=%fA\n',IL2B)\n",
"//star delta connected\n",
"mprintf('Rated kVA=SB/1000=%fkVA\n',SB/1000)\n",
"mprintf('Rated 11=I1B=ILIB=%fA\n',IL1B)\n",
"mprintf('Rated I2=I2B=IL2B/sqrt(3)=%fA\n',IL2B/sqrt(3))\n",
"VL1=230 //rating in kV\n",
"VL2=4160//rating in kV\n",
"mprintf('Rated V1=V1B=VL1/sqrt(3)=%fkV\n',VL1/sqrt(3))\n",
"mprintf('V2=V2B=%fV\n',VL2)\n",
"mprintf('turns ratio=V1B/V2B=%f\n',(VL1*1000)/(VL2*sqrt(3)))\n",
"mprintf('kVA per phase=%dkVA\n',3333)\n",
"//delta star connected\n",
"mprintf('Rated kVA=%fkVA\n',SB/1000)\n",
"mprintf('kVa per phase=%dkVA\n',3333)\n",
"mprintf('V1B=VL1B=%fkV\n',VL1)\n",
"mprintf('V2B=VL2B/sqrt(3)=%fV\n',VL2/sqrt(3))\n",
"mprintf('I1B=IL1B/sqrt(3)=%fA\n',IL1B/sqrt(3))\n",
"mprintf('I2B=IL2B=%fA\n',IL2B)\n",
"mprintf('a=V1B/V2B=%f\n',(VL1B*sqrt(3))/VL2B)\n",
"\n",
"//delta delta connected\n",
"mprintf('Rated kVA=%fkVA\n',SB/1000)\n",
"mprintf('kVA per phase=%dkVA\n',3333)\n",
"mprintf('V1B=%fKV\n',VL1B/1000)\n",
"mprintf('V2B=%fV\n',VL2B)\n",
"mprintf('I1B=%fA\n',IL1B/sqrt(3))\n",
"mprintf('IL2B=%fA\n',IL2B/sqrt(3))\n",
"mprintf('a=%f\n',VL1B/VL2B)"
   ]
   }
,
{
		   "cell_type": "markdown",
		   "metadata": {},
		   "source": [
			"## Example 3.11: Find_the_voltage_regulation_at_full_load_and_zero_point_eight_pf_lagging.sce"
		   ]
		  },
  {
"cell_type": "code",
	   "execution_count": null,
	   "metadata": {
	    "collapsed": true
	   },
	   "outputs": [],
"source": [
"clc\n",
"//the code uses userdefined function complexstring\n",
"function s=complexstring(a)\n",
"    \n",
"    \n",
"    if imag(a)>=0 then\n",
"        s=sprintf('%g+%gi',real(a),imag(a))\n",
"    else\n",
"        s=sprintf('%g%gi',real(a),imag(a))\n",
"        \n",
"    end\n",
"    funcprot(0)\n",
"endfunction\n",
"//delta connected\n",
"// sol 1\n",
"V1B=7200 //primary voltage in volts\n",
"VL1B=7200 //primary voltage in volts\n",
"kVA=50 //kva rating \n",
"IL1B=(kVA*1000)/((sqrt(3))*VL1B)//ans may vary due to roundoff error\n",
"mprintf('IL1B=%fA\n',IL1B)\n",
"I1B=IL1B/sqrt(3)//ans may vary due to roundoff error\n",
"mprintf('I1B=%fA\n',I1B)\n",
"//star connected\n",
"VL2B=208 //seconadry voltage in volts\n",
"V2B=VL2B/sqrt(3)//ans may vary due to roundoff error\n",
"mprintf('V2B=%fV\n',VL2B/sqrt(3))\n",
"IL2B=(kVA*1000)/(sqrt(3)*VL2B)//ans may vary due to roundoff error\n",
"mprintf('IL2B=%fA\n',IL2B)\n",
"I2B=IL2B\n",
"a=V1B/V2B//ans may vary due to roundoff error\n",
"mprintf('a=%f\n',a)\n",
"Z2B=V2B/I2B//ans may vary due to roundoff error\n",
"mprintf('Z2B=V2B/I2B=%fΩ\n',Z2B)\n",
"Reqpu=0.012 //percent resistance in ohms\n",
"Xeqpu=0.05 //percent reactance in ohms\n",
"Zeqpu=Reqpu+(%i*Xeqpu)\n",
"mprintf('Zeqpu=%f Ω  with phase angle of %f degrees\n',abs(Zeqpu),(acos(Reqpu/(abs(Zeqpu))))*180/%pi)//ans may vary due to roundoff error,conversion of radians to degree\n",
"Zeq2=Z2B*Zeqpu//ans may vary due to roundoff error\n",
"mprintf('Zeq2=%fΩ with a phase angle of %f degrees\n',abs(Zeq2),(acos(real(Zeq2)/abs(Zeq2)))*180/%pi)//ans may vary due to roundoff error,conversion of radians to degree\n",
"pf=0.8 //power factor of load\n",
"I2=IL2B*exp(%i*(-1)*acos(pf))//ans may vary due to roundoff error,-1 comes due to the lagging power factor\n",
"mprintf('I2=%fA with a phase angle of %f degress\n',abs(I2),(-1)*(acos(real(I2)/abs(I2)))*180/%pi)//ans may vary due to roundoff error,conversion of radians to degree\n",
"V2=120 //seconadry voltage in volts\n",
"V1=a*(V2+(I2*Zeq2))//ans may vary due to roundoff error\n",
"mprintf('V1=%fV with a phase angle of %f degrees\n',abs(V1/a),(acos(real(V1)/abs(V1)))*180/%pi)//ans may vary due to roundoff error,conversion of radians to degree\n",
"Regulation=(abs(V1/a)-V2)/V2//ans may vary due to roundoff error\n",
"mprintf('Regulation=%f\n',Regulation)\n",
"//sol 2(per unit method)\n",
"I2pu=exp(%i*(-1)*acos(pf)) //seconadry current in per unit in amperes\n",
"V2pu=1 //seconadry voltage in per unit in volts\n",
"V1pu=V2pu+(I2pu*Zeqpu)\n",
"mprintf('V1pu=%fV with a phase angle of %f degrees\n',abs(V1pu),(acos(real(V1pu)/abs(V1pu)))*180/%pi)//ans may vary due to roundoff error\n",
"Regulation=(abs(V1/(a*V2B))-(V2B/V2B))/(V2B/V2B)\n",
"mprintf('Regulation=%f\n',Regulation)//ans may vary due to roundoff error\n",
"\n",
"\n",
"\n",
"\n",
"\n",
"\n",
"\n",
"\n",
"\n",
"\n",
"\n",
""
   ]
   }
,
{
		   "cell_type": "markdown",
		   "metadata": {},
		   "source": [
			"## Example 3.12: Find_Magnitude_of_current_in_secondary_of_each_transfomer.sce"
		   ]
		  },
  {
"cell_type": "code",
	   "execution_count": null,
	   "metadata": {
	    "collapsed": true
	   },
	   "outputs": [],
"source": [
"clc\n",
"//the code uses a userdefined function complexstring\n",
"function s=complexstring(a)\n",
"    \n",
"    \n",
"    if imag(a)>=0 then\n",
"        s=sprintf('%g+%gi',real(a),imag(a))\n",
"    else\n",
"        s=sprintf('%g%gi',real(a),imag(a))\n",
"        \n",
"    end\n",
"    funcprot(0)\n",
"endfunction\n",
"kVAL=100 //kva required for supply\n",
"kVAM=20 //kVA rating of motor of the air conditioning compressor\n",
"V=220 //supply voltage in volts\n",
"IL3=(kVAM*1000)/(sqrt(3)*V)\n",
"mprintf('IL3=%fA=|I2| of small transformer\n',IL3)\n",
"//abc sequence\n",
"ph1=36.9 //phase angle of motor current\n",
"IL3=IL3*exp(%i*(-1)*ph1*%pi/180)//-1 comes due to the lagging power factor,conversion of degree to radian for calculation\n",
"mprintf('Il3=%fA with a phase angle of %f degrees\n',abs(IL3),(-1)*ph1)//-1 comes due to the lagging power factor\n",
"disp('IL3='+complexstring(IL3)+'A')\n",
"ph2=30-25.8 //phase angle of Il1\n",
"IL1=((kVAL*1000)/V)*exp(%i*(ph2)*%pi/180)\n",
"disp('IL1='+complexstring(IL1)+'A')\n",
"mprintf('IL1=%f with a phase angle of %f degrees\n',abs(IL1),ph2)\n",
"I2=IL3+IL1\n",
"disp('I2='+complexstring(I2)+'A')\n",
"mprintf('I2=%fA with a phase angle of %f degrees\n',abs(I2),(acos(real(I2)/abs(I2)))*180/%pi)\n",
"//acb sequence\n",
"ph3=30+25.8 //phase angle of Il1 in degrees\n",
"IL1=abs(IL1)*exp(%i*(-1)*(ph3)*%pi/180) //-1 comes due to lagging power factor\n",
"disp('IL1='+complexstring(IL1)+'A')\n",
"mprintf('IL1=%f with a phase angle of %f degrees\n',abs(IL1),(-1)*ph3)//-1 comes due to the lagging power factor\n",
"I2=IL3+IL1\n",
"disp('I2='+complexstring(I2)+'A')\n",
"mprintf('I2=%fA with a phase angle of %f degrees\n',abs(I2),(acos(real(I2)/abs(I2)))*180/%pi)\n",
"\n",
"\n",
"\n",
"\n",
""
   ]
   }
,
{
		   "cell_type": "markdown",
		   "metadata": {},
		   "source": [
			"## Example 3.13: EX3_13.sce"
		   ]
		  },
  {
"cell_type": "code",
	   "execution_count": null,
	   "metadata": {
	    "collapsed": true
	   },
	   "outputs": [],
"source": [
"clc\n",
"SB=300 //rating in kVA at full load\n",
"S=150 //kVA at half load\n",
"Phe=2.7 //core loss in kW\n",
"Phepu=Phe/SB //ans may vary due to roundoff error\n",
"mprintf('Phepu=%f\n',Phepu)\n",
"Reqpu=0.0140 //per unit resistance in ohms=per unit copper loss at full load in watts\n",
"pf=0.9 //power factor at full load\n",
"//efficiency at full load\n",
"mprintf('ηfl=%f\n',pf/(pf+Phepu+Reqpu))//ans may vary due to roundoff error\n",
"//efficiency at half load\n",
"a=S/SB //ratio of kVA at half and full load\n",
"mprintf('ηfl=%f\n',(a*pf)/((a*pf)+Phepu+(a*a*Reqpu)))//ans may vary due to roundoff error\n",
"//for max efficiency\n",
"mprintf('|S|/SB=sqrt(Phepu/Reqpu)=%fA\n',sqrt(Phepu/Reqpu))//ans may vary due to roundoff error\n",
"\n",
"\n",
"\n",
"\n",
"\n",
"\n",
""
   ]
   }
,
{
		   "cell_type": "markdown",
		   "metadata": {},
		   "source": [
			"## Example 3.14: Open_circuit_and_short_circuit_test_on_transformer.sce"
		   ]
		  },
  {
"cell_type": "code",
	   "execution_count": null,
	   "metadata": {
	    "collapsed": true
	   },
	   "outputs": [],
"source": [
"clc\n",
"//open ckt short ckt test\n",
"//code uses userdefined function complexstring\n",
"function s=complexstring(a)\n",
"    \n",
"    \n",
"    if imag(a)>=0 then\n",
"        s=sprintf('%g+%gi',real(a),imag(a))\n",
"    else\n",
"        s=sprintf('%g%gi',real(a),imag(a))\n",
"        \n",
"    end\n",
"    funcprot(0)\n",
"endfunction\n",
"kVA=50 //kVA rating\n",
"Poc=500 //core loss in watts\n",
"Voc=208 //open ckt voltage in volts\n",
"Vphioc=Voc/sqrt(3)\n",
"mprintf('VΦoc=Voc/sqrt(3)=%fV\n',Vphioc)//ans may vary due to roundoff error\n",
"Pphioc=Poc/3\n",
"mprintf('PΦoc=Poc/3=%fW\n',Pphioc)//ans may vary due to roundoff error\n",
"Ioc=8 //open ckt current in amperes\n",
"mprintf('RcLV=VΦ*VΦ/PΦ=%fΩ\n',(Vphioc*Vphioc)/Pphioc)//ans may vary due to roundoff error\n",
"mprintf('Voc^2/Poc=%fΩ\n',(Voc^2)/Poc)//ans may vary due to roundoff error\n",
"mprintf('sinθoc=%f\n',sin(acos(Poc/(sqrt(3)*Ioc*Voc))))//ans may vary due to roundoff error\n",
"mprintf('IΦ=IΦoc *sinθoc=%fA\n',Ioc*sin(acos(Poc/(sqrt(3)*Ioc*Voc))))//ans may vary due to roundoff error\n",
"mprintf('XmLV=VΦoc/IΦ=%fΩ\n',(Voc/sqrt(3))/(Ioc*sin(acos(Poc/(sqrt(3)*Ioc*Voc)))))//ans may vary due to roundoff error\n",
"//short ckt \n",
"Psc=600 //copper loss in watts\n",
"Isc=4.011 //short circuit current in amperes\n",
"Vsc=370 //short circuit voltage in volts\n",
"ReqHV=(Psc/3)/((Isc/sqrt(3))^2)\n",
"mprintf('ReqHV=PΦsc/IΦsc^2=%fΩ\n',ReqHV)//ans may vary due to roundoff error\n",
"ZeqHV=Vsc/(Isc/sqrt(3))\n",
"mprintf('|ZeqHV|=VΦsc/IΦsc=%fΩ\n',ZeqHV)//ans may vary due to roundoff error\n",
"XeqHV=sqrt((ZeqHV^2)-(ReqHV^2))\n",
"mprintf('XeqHV=%fΩ\n',XeqHV)//ans may vary due to roundoff error\n",
"VHVB=7200//secondary side voltage in volts\n",
"VLVB=208/sqrt(3)//primary side voltage in volts\n",
"aV=VHVB/VLVB\n",
"mprintf('NHV/NLV=VHVB/VLVB=%f\n',aV)//ans may vary due to roundoff error\n",
"mprintf('RcHV=RcLV*aV*aV=%fΩ\n',((Vphioc*Vphioc)/Pphioc)*aV*aV)//ans in the textbook is wrong\n",
"mprintf('XmHV=XmLV*aV*aV=%fΩ\n',(Voc/sqrt(3))/(Ioc*sin(acos(Poc/(sqrt(3)*Ioc*Voc))))*aV*aV)//ans in the textbook is wrong\n",
"ZeqLV=(ReqHV+(%i*XeqHV))/(aV*aV)\n",
"disp('ZeqLV='+complexstring(ZeqLV)+'Ω')//ans may vary due to roundoff error\n",
"mprintf('ZeqLV=%f ohms with a phase angle of %f degrees\n',abs(ZeqLV),(acos(real(ZeqLV)/abs(ZeqLV)))*180/%pi)\n",
"SB=50000 //rating of transformer\n",
"ZLVB=(Voc*Voc)/SB\n",
"mprintf('ZLVB=%fΩ\n',ZLVB)//ans may vary due to roundoff error\n",
"Reqpu=(ReqHV/(aV*aV))/ZLVB\n",
"mprintf('Reqpu=%fΩ\n',Reqpu)//ans may vary due to roundoff error\n",
"Xeqpu=(XeqHV/(aV*aV))/ZLVB\n",
"mprintf('Xeqpu=%fΩ\n',Xeqpu)//ans may vary due to roundoff error\n",
"Zeqpu=Reqpu+(%i*Xeqpu)\n",
"disp('Zeqpu='+complexstring(Zeqpu)+'Ω')//ans may vary due to roundoff error\n",
"mprintf('Zeqpu=%fohms with a pgase angle of %f degrees\n',abs(Zeqpu),(acos(real(Zeqpu)/abs(Zeqpu)))*180/%pi)\n",
"V1pu=1+((exp(%i*(-1)*acos(0.8)))*Zeqpu)\n",
"disp('V1pu='+complexstring(V1pu))//ans may vary due to roundoff error\n",
"mprintf('V1pu=%fV with a phase angle of %f degrees\n',abs(V1pu),(acos(real(V1pu)/abs(V1pu)))*180/%pi)\n",
"mprintf('Regulation=%f\n',(abs(V1pu)-1))//ans may vary due to roundoff error\n",
"//full load efficiency\n",
"pf=0.8 //power factor of load\n",
"Phepu=Poc/SB\n",
"mprintf('η=cosθ/cosθ+Reqpu+Phepu=%f\n',pf/(pf+Reqpu+Phepu))//ans may vary due to roundoff error\n",
"//second method\n",
"mprintf('η=%f\n',(SB*pf)/((SB*pf)+Poc+Psc))\n",
"//ans may vary due to roundoff error\n",
"\n",
"\n",
"\n",
"\n",
"\n",
"\n",
"\n",
"\n",
"\n",
""
   ]
   }
,
{
		   "cell_type": "markdown",
		   "metadata": {},
		   "source": [
			"## Example 3.1: EX3_1.sce"
		   ]
		  },
  {
"cell_type": "code",
	   "execution_count": null,
	   "metadata": {
	    "collapsed": true
	   },
	   "outputs": [],
"source": [
"clc\n",
"//code uses userdefined function complexstring\n",
"function s=complexstring(a)\n",
"    \n",
"    \n",
"    if imag(a)>=0 then\n",
"        s=sprintf('%g+%gi',real(a),imag(a))\n",
"    else\n",
"        s=sprintf('%g%gi',real(a),imag(a))\n",
"        \n",
"    end\n",
"    funcprot(0)\n",
"endfunction\n",
"X11=20 //in ohm\n",
"x1=0.05 //in ohm\n",
"X22=2000 //in ohm\n",
"x2=5 //in ohm\n",
"Xm1=X11-x1\n",
"Xm2=X22-x2\n",
"mprintf('Xm1=X11-x1=%fΩ\n',Xm1)\n",
"mprintf('Xm2=X22--x2=%fΩ\n',Xm2)\n",
"X12=sqrt(Xm1*Xm2)\n",
"mprintf('X12=sqrt(Xm1*Xm2)=%fΩ\n',X12)//ans may vary due to roundoff error\n",
"kVA=10 //rated kVA\n",
"V2=1000 //secondary voltage in volts\n",
"I2=(kVA*(10^3))/V2 //rated current\n",
"mprintf('I2=ratedkVA*1000/raated V2=%dA\n',I2)\n",
"Zl=V2/I2 //load impedence\n",
"I1=((Zl+r2+(%i*X22))*I2)/(%i*X12)//ans may vary due to roundoff error\n",
"disp('I1=(Zl+r2+jwL22)*I2/wL12*I1='+complexstring(I1)+'A')\n",
"r1=0.01 //in ohm\n",
"V1=((r1+(%i*X11))*I1)-(%i*X12*I2)\n",
"disp('V1=(r1+jwL11)I1-jwL12I2='+complexstring(V1)+'V')//ans may vary due to roundoff error\n",
"k1=Xm1/X11\n",
"k2=Xm2/X22\n",
"mprintf('k1=%f\n',k1)\n",
"mprintf('k2=%f\n',k2)\n",
"k=sqrt(k1*k2)\n",
"mprintf('k=sqrt(k1*k2)=%f\n',k)\n",
"\n",
""
   ]
   }
,
{
		   "cell_type": "markdown",
		   "metadata": {},
		   "source": [
			"## Example 3.2: EX3_2.sce"
		   ]
		  },
  {
"cell_type": "code",
	   "execution_count": null,
	   "metadata": {
	    "collapsed": true
	   },
	   "outputs": [],
"source": [
"clc\n",
"//code contains user defined function complexstring\n",
"function s=complexstring(a)\n",
"    \n",
"    \n",
"    if imag(a)>=0 then\n",
"        s=sprintf('%g+%gi',real(a),imag(a))\n",
"    else\n",
"        s=sprintf('%g%gi',real(a),imag(a))\n",
"        \n",
"    end\n",
"    funcprot(0)\n",
"endfunction\n",
"i2=141.4 //load current max val in amperes\n",
"r2=0.02 //secondary resistance in ohms\n",
"V2=707/sqrt(2)\n",
"pha=-30 //phase angle of load current with reference with reference voltage in degrees\n",
"I2=(i2/sqrt(2))*exp(%i*pha*3.14/180)//ans may vary due to roundoff error,conversion of degrees in radian for calculation\n",
"mprintf('V2=%dV\n',V2)\n",
"disp('I2='+complexstring(I2)+'A')\n",
"disp('Secondary drop I2r2 is='+complexstring(I2*r2)+'V')//ans may vary due to roundoff error\n",
"L12=3*(10^(-4))//secondary leakage inductance in henry\n",
"w=377 //angular frequency of the supply in rad/sec\n",
"x2=w*L12 //secondary leakage reactance\n",
"mprintf('x2=%fΩ\n',x2)\n",
"E12=(I2*%i*x2)//ans may vary due to roundoff error\n",
"disp('-E12=I2jx2='+complexstring(E12)+'V')\n",
"E2=V2+(r2+(%i*x2))*I2//ans may vary due to roundoff error\n",
"disp('E2='+complexstring(E2)+'V')\n",
"N1=300//primary winding turns\n",
"N2=30 //secondary turns\n",
"a=N1/N2\n",
"mprintf('a=N1/N2=%d\n',a)\n",
"E1=a*E2//ans may vary due to roundoff error\n",
"disp('E1=aE2='+complexstring(E1)+'V')\n",
"Iex1=0.707 //magnitude of exciting current of transformer in amperes\n",
"paex=-80 //phase angle of exciting current in degrees with reference voltage\n",
"Iex=(Iex1/sqrt(2))*exp(%i*paex*3.14/180)//ans may vary due to roundoff error,conversion of degrees to radians for calculation\n",
"I1=(I2/a)+Iex//ans may vary due to roundoff error\n",
"disp('I1='+complexstring(I1)+'A')\n",
"mprintf('Actual ratio=I2/I1=%f\n',abs(I2)/abs(I1))//ans may vary due to roundoff error\n",
"L11=0.03 //leakage inductance of primary in henry\n",
"E11=%i*w*L11*I1//ans may vary due to roundoff error\n",
"disp('E11=jwL11I1='+complexstring(E11)+'V')\n",
"r1=2 //primary winding resistance in ohms\n",
"I1r1=I1*r1//ans may vary due to roundoff error\n",
"disp('I1r2='+complexstring(I1r1)+'V')\n",
"V1=E1+I1r1+E11//ans may vary due to roundoff error\n",
"disp('V1=E1+I1r2+E11='+complexstring(V1)+'V')\n",
"mprintf('Actual voltage ratio is V1/V2=%f\n',abs(V1)/abs(V2))//ans may vary due to roundoff error"
   ]
   }
,
{
		   "cell_type": "markdown",
		   "metadata": {},
		   "source": [
			"## Example 3.3: EX3_3.sce"
		   ]
		  },
  {
"cell_type": "code",
	   "execution_count": null,
	   "metadata": {
	    "collapsed": true
	   },
	   "outputs": [],
"source": [
"clc\n",
"//the code uses userdefined function complexstring\n",
"function s=complexstring(a)\n",
"    \n",
"    \n",
"    if imag(a)>=0 then\n",
"        s=sprintf('%g+%gi',real(a),imag(a))\n",
"    else\n",
"        s=sprintf('%g%gi',real(a),imag(a))\n",
"        \n",
"    end\n",
"    funcprot(0)\n",
"endfunction\n",
"E1=2400 //primary voltage rating in volts\n",
"E2=240 //secondary voltage rating in volts\n",
"z=2 //magnitude of impedance connected to secondary terminals in ohms\n",
"pha1=36.9 //phase angle of impedance connected with reference in degrees\n",
"a=E1/E2\n",
"mprintf('a=%d\n',a)\n",
"V1=2200 // applied primary voltage to transformer in volts\n",
"V2=V1/a\n",
"mprintf('|V2|=|V1|/a=%dV\n',V2)\n",
"I2=V2/(z*exp(pha1*%i*3.14/180))//ans in textbook is wrong,conversion of degree to radian for calculation\n",
"disp('I2='+complexstring(I2)+'A')\n",
"I1=I2/a //ans may vary due to roundoff error\n",
"disp('I1=I2/a='+complexstring(I1)+'A')\n",
"Zin=V1/I1\n",
"disp('Zin=V1/I1='+complexstring(Zin)+'Ω')\n",
"S2=V2*I2\n",
"pf=0.8 //power factor of load\n",
"mprintf('|S2|=|V2||I2|=%fkVA\n',(abs(V2)*abs(I2))/1000)\n",
"mprintf('P2=|S2|*cosθ2=%fkW\n',(abs(S2)*pf)/1000)\n",
"mprintf('|S1|=|V2||I1|=%fkVA\n',(abs(V1)*abs(I1))/1000)\n",
"mprintf('P1=|S1|cosθ1=%fkW\n',((abs(V1)*abs(I1))*cos(pha1*3.14/180))/1000)//ans may vary due to roundoff error,conversion of degree to radian for calculation\n",
"\n",
""
   ]
   }
,
{
		   "cell_type": "markdown",
		   "metadata": {},
		   "source": [
			"## Example 3.4: EX3_4.sce"
		   ]
		  },
  {
"cell_type": "code",
	   "execution_count": null,
	   "metadata": {
	    "collapsed": true
	   },
	   "outputs": [],
"source": [
"clc\n",
"Z=4 //impedance of loudspeaker in ohms\n",
"Zin=500 //impedance of audio line in ohms\n",
"a=sqrt(Zin/Z)//ans may vary due to roundoff error\n",
"mprintf('a=sqrt(Zin/Z)=%f\n',a)//ans may vary due to roundoff error\n",
"P2=10 //audio power in watts\n",
"V2=sqrt(40)//ans may vary due to roundoff error\n",
"mprintf('V2=4*P2=%fV\n',V2) //ans may vary due to roundoff error\n",
"V1=a*V2\n",
"mprintf('V1=aV2=%fV\n',V1)\n",
"\n",
"\n",
""
   ]
   }
,
{
		   "cell_type": "markdown",
		   "metadata": {},
		   "source": [
			"## Example 3.5: Find_core_and_copper_losses_and_efficiency.sce"
		   ]
		  },
  {
"cell_type": "code",
	   "execution_count": null,
	   "metadata": {
	    "collapsed": true
	   },
	   "outputs": [],
"source": [
"clc\n",
"//code uses a userdefined function complexstring\n",
"function s=complexstring(a)\n",
"    \n",
"    \n",
"    if imag(a)>=0 then\n",
"        s=sprintf('%g+%gi',real(a),imag(a))\n",
"    else\n",
"        s=sprintf('%g%gi',real(a),imag(a))\n",
"        \n",
"    end\n",
"    funcprot(0)\n",
"endfunction\n",
"V2=120 //reference voltage in volts\n",
"kVA=16.67*(10^3) //kVA rating of transformer\n",
"I2=kVA/V2 //secondaary current aat unity pf \n",
"mprintf('I2=kVA/V2=%fA\n',I2)//ans may be wrong due to roundoff error\n",
"r2=0.00519 //secondary winding resistance in ohms\n",
"x2=0.0216  //secondary winding reactance in ohms\n",
"a=7200/120\n",
"E2=V2+(I2*(r2+(%i*x2)))//secondary induced voltage //ans may be wrong due to roundoff error\n",
"disp('E2=V2+I2(r2+jx2)='+complexstring(E2)+'V')\n",
"E1=a*E2//ans may be wrong due to roundoff error\n",
"disp('E1='+complexstring(E1)+'V')\n",
"Rc=311000\n",
"Ihe=E1/Rc\n",
"disp('core loss current='+complexstring(Ihe)+'A')\n",
"Phe=((abs(Ihe))^2)*Rc//ans may be wrong due to roundoff error\n",
"mprintf('Core loss Ph+e=|Ih+e|^2*Rc=%fW\n',Phe)\n",
"Xm=54800\n",
"disp('IΦ=E1/jXm='+complexstring(E1/(%i*Xm))+'A')//ans may be wrong due to roundoff error\n",
"Iex=Ihe+(E1/(%i*Xm))\n",
"disp('Iex=Ih+e+IΦ='+complexstring(Iex)+'A')//ans may be wrong due to roundoff error\n",
"I1=Iex+(I2/a)\n",
"disp('I1=Iex+I2/a='+complexstring(I1)+'A')//ans may be wrong due to roundoff error\n",
"r1=18.7 //primary side resistaance\n",
"x1=77.8\n",
"V1=E1+(I1*(r1+(%i*x1)))\n",
"disp('V1=E1+I1(r1+jx1)='+complexstring(V1)+'V')//ans in the textbook is wrong\n",
"Pcu=(((abs(I1))^2)*r1)+(((abs(I2))^2)*r2)//copper loss\n",
"mprintf('Pcu=%fW\n',Pcu)//ans may be wrong due to roundoff error\n",
"mprintf('Efficiencyη=output watts/output+losses=%f\n',16670/(16670+Pcu+Phe))//ans may be wrong due to roundoff error\n",
"\n",
"\n",
"\n",
"\n",
"\n",
"\n",
"\n",
"\n",
"\n",
""
   ]
   }
,
{
		   "cell_type": "markdown",
		   "metadata": {},
		   "source": [
			"## Example 3.6: Find_the_primary_terminal_voltage.sce"
		   ]
		  },
  {
"cell_type": "code",
	   "execution_count": null,
	   "metadata": {
	    "collapsed": true
	   },
	   "outputs": [],
"source": [
"clc\n",
"//extension of Ex3_1\n",
"//uses a userdefined function complexstring\n",
"function s=complexstring(a)\n",
"    \n",
"    \n",
"    if imag(a)>=0 then\n",
"        s=sprintf('%g+%gi',real(a),imag(a))\n",
"    else\n",
"        s=sprintf('%g%gi',real(a),imag(a))\n",
"        \n",
"    end\n",
"    funcprot(0)\n",
"endfunction\n",
"I2=10\n",
"V2=1000\n",
"r2=1\n",
"X11=20 //in ohm\n",
"x1=0.05 //in ohm\n",
"X22=2000 //in ohm\n",
"x2=5 //in ohm\n",
"Xm1=X11-x1\n",
"Xm2=X22-x2\n",
"X12=sqrt(Xm1*Xm2)\n",
"V12=V2+I2*(r2+(%i*(X22-X12)))//ans may vary due to roundof error\n",
"disp('V12='+complexstring(V12)+'V')\n",
"I1=I2+(V12/(%i*X12))//ans may vary due to roundof error\n",
"disp('I1='+complexstring(I1)+'A')\n",
"r1=0.01\n",
"V1=V12+(I1*(r1+(%i*(X11-X12))))//ans may vary due to roundof error\n",
"disp('V1='+complexstring(V1)+'V')\n",
"a=0.1\n",
"Zeq1=r1+(a*a*r2)+(%i*(x1+(a*a*x2)))//ans may vary due to roundof error\n",
"disp('Zeq1='+complexstring(Zeq1)+'Ω')\n",
"V1=(a*V2)+(I2^Zeq1/a)//ans may vary due to roundof error\n",
"disp('V1='+complexstring(V1)+'V')"
   ]
   }
,
{
		   "cell_type": "markdown",
		   "metadata": {},
		   "source": [
			"## Example 3.7: EX3_7.sce"
		   ]
		  },
  {
"cell_type": "code",
	   "execution_count": null,
	   "metadata": {
	    "collapsed": true
	   },
	   "outputs": [],
"source": [
"clc\n",
"//the code uses a userdefined function complexstring\n",
"function s=complexstring(a)\n",
"    \n",
"    \n",
"    if imag(a)>=0 then\n",
"        s=sprintf('%g+%gi',real(a),imag(a))\n",
"    else\n",
"        s=sprintf('%g%gi',real(a),imag(a))\n",
"        \n",
"    end\n",
"    funcprot(0)\n",
"endfunction\n",
"r1=3\n",
"r2=0.03\n",
"x1=15\n",
"x2=0.15\n",
"V1B=2400 //primary side voltage\n",
"V2B=240 //secondary side voltage\n",
"a=V1B/V2B\n",
"Zeq2=(r1/(a^2))+r2+(%i*((x1/(a^2))+x2))//ans may vary due to roundoff error\n",
"disp('Zeq2='+complexstring(Zeq2)+'Ω')\n",
"SB=10000// rated kva of the trnsformer\n",
"V2B=240\n",
"I2B=SB/V2B\n",
"mprintf('I2B=%fA\n',I2B)//ans may vary due to roundoff error\n",
"//with V2 reference\n",
"//0.8 pf lagging\n",
"I2=I2B*exp(%i*(-1)*acos(0.8))//ans may vary due to roundoff error\n",
"disp('I2='+complexstring(I2)+'A')\n",
"V2=240\n",
"V1=a*(V2+I2*Zeq2)//ans may vary due to roundoff error\n",
"disp('V1/a='+complexstring(V1/a)+'V')\n",
"mprintf('|V1|=%fV\n',abs(V1))\n",
"//0.8 pf leading\n",
"I2B=SB/V2B\n",
"I2=I2B*exp(%i*acos(0.8))//ans may vary due to roundoff error\n",
"V1=a*(V2+(I2*Zeq2))//ans may vary due to roundoff error\n",
"disp('V1='+complexstring(V1/a)+'V')\n",
"mprintf('|V1|=%fV\n',abs(V1))//ans may vary due to roundoff error\n",
"\n",
"\n",
""
   ]
   }
,
{
		   "cell_type": "markdown",
		   "metadata": {},
		   "source": [
			"## Example 3.8: Find_the_full_voltage_regulation_at_zero_point_eight_pf_lagging_and_leading.sce"
		   ]
		  },
  {
"cell_type": "code",
	   "execution_count": null,
	   "metadata": {
	    "collapsed": true
	   },
	   "outputs": [],
"source": [
"clc\n",
"//example below is an extension of Ex3_7\n",
"//values below from Ex3_7\n",
"V2B=240 //secndary side voltage\n",
"a=10\n",
"//0.8 pf lagging\n",
"V1=2496.44\n",
"V=V1/a //secondary voltage at full load\n",
"mprintf('|V1/a|=%fV\n',V)\n",
"Regulation=(V-V2B)/V2B //ans may vary due to roundoff error\n",
"mprintf('Regulation=(|V1/a|-V2B)/V2B=%f\n',Regulation)\n",
"//0.8 pf leading\n",
"V1=2347.8 \n",
"V=V1/a\n",
"mprintf('V at 0.8 pf leading=%fV\n',V)\n",
"mprintf('Regulation=%f\n',(V-V2B)/V2B)"
   ]
   }
,
{
		   "cell_type": "markdown",
		   "metadata": {},
		   "source": [
			"## Example 3.9: Find_voltage_regulation_at_full_load_and_zero_point_eight_pf_lagging.sce"
		   ]
		  },
  {
"cell_type": "code",
	   "execution_count": null,
	   "metadata": {
	    "collapsed": true
	   },
	   "outputs": [],
"source": [
"clc\n",
"//code uses usedefined function\n",
"function s=complexstring(a)\n",
"    \n",
"    \n",
"    if imag(a)>=0 then\n",
"        s=sprintf('%g+%gi',real(a),imag(a))\n",
"    else\n",
"        s=sprintf('%g%gi',real(a),imag(a))\n",
"        \n",
"    end\n",
"    funcprot(0)\n",
"endfunction\n",
"pf=0.8 //power factor of full load\n",
"I2=1 //magnitude of load current in amperes in per unit system\n",
"I2pu=I2*exp(%i*(-1)*acos(pf))//-1 comes due to lagging power factor\n",
"disp('I2pu='+complexstring(I2pu)+'A')\n",
"pres=2 //percent resistance in ohms\n",
"preact=5 //percent reactance in ohms\n",
"Zeqpu=(pres/100)+(%i*(preact/100))\n",
"disp('Zeqpu='+complexstring(Zeqpu)+'Ω')\n",
"V1pu=1+(I2pu*Zeqpu)\n",
"disp('V1pu='+complexstring(V1pu)+'V')\n",
"Regulation=abs(V1pu)-1\n",
"mprintf('|V1pu|-1=%f\n',Regulation)\n",
"\n",
""
   ]
   }
],
"metadata": {
		  "kernelspec": {
		   "display_name": "Scilab",
		   "language": "scilab",
		   "name": "scilab"
		  },
		  "language_info": {
		   "file_extension": ".sce",
		   "help_links": [
			{
			 "text": "MetaKernel Magics",
			 "url": "https://github.com/calysto/metakernel/blob/master/metakernel/magics/README.md"
			}
		   ],
		   "mimetype": "text/x-octave",
		   "name": "scilab",
		   "version": "0.7.1"
		  }
		 },
		 "nbformat": 4,
		 "nbformat_minor": 0
}
