{
"cells": [
 {
		   "cell_type": "markdown",
	   "metadata": {},
	   "source": [
       "# Chapter 1: What machines and transformers have in common"
	   ]
	},
{
		   "cell_type": "markdown",
		   "metadata": {},
		   "source": [
			"## Example 1.1: EX1_1.sce"
		   ]
		  },
  {
"cell_type": "code",
	   "execution_count": null,
	   "metadata": {
	    "collapsed": true
	   },
	   "outputs": [],
"source": [
"clc\n",
"\n",
"horsepower=2.5  //rating of induction motor in horsepower at half load\n",
"Vl=230 //terminal voltage of motor in volts\n",
"Il=7   //load current of motor in amperes\n",
"pf=0.8 //power factor of the machine\n",
"Pin=sqrt(3)*Vl*Il*pf //input power in watts\n",
"mprintf('Pin=%f W\n',Pin)//The answer may vary due to roundoff error\n",
"Whp=746 //watts per hp\n",
"Pout=horsepower*Whp //output power in watts\n",
"mprintf('Pout=% f W\n',Pout)\n",
"mprintf('η=%f\n',Pout/Pin)//The answer may vary due to roundoff error //efficiency of the machine\n",
"mprintf('Losses=Pin-Pout=%f W\n',Pin-Pout)//The answer may vary due to roundoff error //losses in the machine in watts\n",
"\n",
"\n",
"\n",
"\n",
"\n",
"\n",
""
   ]
   }
,
{
		   "cell_type": "markdown",
		   "metadata": {},
		   "source": [
			"## Example 1.2: Calculate_efficiency_and_output_power_when_losses_are_365_Watts_in_Example1.sce"
		   ]
		  },
  {
"cell_type": "code",
	   "execution_count": null,
	   "metadata": {
	    "collapsed": true
	   },
	   "outputs": [],
"source": [
"clc\n",
"\n",
"//the below exmaple is an extension of Ex1_1.sce\n",
"Vl=230 //terminal voltage of machine in volts\n",
"Il=7 //current drawn by machine in amperes\n",
"pf=0.8 //power factor of machine\n",
"Pin=sqrt(3)*Vl*Il*pf //from Ex1_1 //input power in watts\n",
"Losses=365 //in watts\n",
"Pout=Pin-Losses //output power in watts\n",
"Whp=746 //watts per hp\n",
"mprintf('η=1-(Losses/Input)=%f\n',1-(Losses/Pin)) //The answer may vary due to roundoff error //efficiency of the machine\n",
"mprintf('Pout=%f W\n',Pout)//The answer may vary due to roundoff error\n",
"mprintf('Pout=%fhp',Pout/Whp)//The asnwer may vary due to roundoff error //output power in horsepower\n",
"\n",
"\n",
"\n",
""
   ]
   }
,
{
		   "cell_type": "markdown",
		   "metadata": {},
		   "source": [
			"## Example 1.3: Find_hysteresis_loss_in_core_A_and_B.sce"
		   ]
		  },
  {
"cell_type": "code",
	   "execution_count": null,
	   "metadata": {
	    "collapsed": true
	   },
	   "outputs": [],
"source": [
"clc\n",
"f=60 //frequency of voltage source in Hz\n",
"x=1.9 //Steinmetz coefficient\n",
"V=80 //applied sinusoidal voltage in volts\n",
"t=100 //no of turns wound on a coil\n",
"hc=500 //hysteresis coefficient \n",
"w=2*%pi*f //angular frequency in rads/sec\n",
"phimax=(sqrt(2)*V)/(t*w)//maximum value of flux in the core in webers\n",
"mprintf('phimax=%fWb\n',phimax)//the answer may vary due to roundoff error\n",
"A1=0.0025 //cross-sectional area of core in metre square\n",
"Bmax1=phimax/A1 //flux density in core A in tesla\n",
"mprintf('Bmax=%fT\n',Bmax1)//the answer may vary due to roundoff error\n",
"lfe1=0.5 //mean flux path length of core A in meters\n",
"VolA=A1*lfe1 //volume of core A in metre cube\n",
"mprintf('VolA=%f metre cube\n',VolA)\n",
"//for core A\n",
"Ph1=VolA*f*hc*(Bmax1^x) //hysteresis loss in core A in watts\n",
"mprintf('Ph=%f W\n',Ph1)//the answer may vary due to roundoff error\n",
"//for core B\n",
"A2=A1*3 //cross sectional area of core B in metre square\n",
"lfe2=0.866 //mean flux path length of core B in metres\n",
"Bmax2=phimax/A2 //flux density in core B in tesla\n",
"VolB=A2*lfe2 //volume of core B in metre cubes\n",
"Ph2=VolB*f*hc*(Bmax2^x) //hysteresis loss of core B in watts\n",
"mprintf('Ph=%f W\n',Ph2)//the answer may vary due to roundoff error\n",
"\n",
"\n",
"\n",
""
   ]
   }
,
{
		   "cell_type": "markdown",
		   "metadata": {},
		   "source": [
			"## Example 1.4: Find_voltage_induced_at_30Hz_eddycurrent_loss_at_60Hz_hysteresis_loss_at_60Hz.sce"
		   ]
		  },
  {
"cell_type": "code",
	   "execution_count": null,
	   "metadata": {
	    "collapsed": true
	   },
	   "outputs": [],
"source": [
"clc\n",
"V1=240 //voltage applied to a winding of transformer(three phase) in volts\n",
"f1=60 //initial applied frequency in Hz\n",
"f2=30 //reduced frequency in Hz\n",
"Phe1=400 //core loss in watts at f1 frequency\n",
"Phe2=169 //core losses in watts at f2 frequency\n",
"mprintf('V2=%dV\n',(f2*V1)/f1)//voltage at 30 Hz frequency\n",
"mprintf('Ph+e/f=Ch+Ce*f\n')//equation for claculating  hysteresis and eddy current loss coefficients\n",
"a=[1 f1;1 f2] //left hand side matix for the equation above\n",
"b=[Phe1/f1;Phe2/f2] //right hand side matrix for the equation above\n",
"c=inv(a)*b\n",
"Ch=c(1,:)//hysteresis loss coefficient in W/Hz\n",
"Ce=c(2,:)//eddy current loss coefficient in W/(Hz*Hz)\n",
"mprintf('Ph=%fW\n',Ch*f1)//ans may vary due to roundoff error //hysteresis loss in watts at 60 Hz\n",
"mprintf('Pe=%fW\n',Ce*f1*f1)//ans may vary due to roundoff error //eddy current loss at 60 Hz in watts\n",
"\n",
"\n",
"\n",
"\n",
"\n",
""
   ]
   }
,
{
		   "cell_type": "markdown",
		   "metadata": {},
		   "source": [
			"## Example 1.5: Find_the_kVA_load_for_the_transformer_to_operate_at_maximum_effifciency.sce"
		   ]
		  },
  {
"cell_type": "code",
	   "execution_count": null,
	   "metadata": {
	    "collapsed": true
	   },
	   "outputs": [],
"source": [
"clc\n",
"Pk=75 //core loss of transfomer in watts\n",
"R=0.048 //internal resistance in ohms\n",
"V2=240// secondary voltage in volts\n",
"I2=sqrt(Pk/R)//secondary current in amperes\n",
"mprintf('I2=%f A\n',I2)//ans may vary due to roundoff error\n",
"mprintf('|S|=V2*I2=%d VA',V2*I2)//The answer in the textbook is wrong //output volt ampere of transformer\n",
"\n",
"\n",
"\n",
"\n",
""
   ]
   }
,
{
		   "cell_type": "markdown",
		   "metadata": {},
		   "source": [
			"## Example 1.6: Find_full_load_speed_regulation_of_the_motor.sce"
		   ]
		  },
  {
"cell_type": "code",
	   "execution_count": null,
	   "metadata": {
	    "collapsed": true
	   },
	   "outputs": [],
"source": [
"clc\n",
"sfl=1746 //speed at full load in rev/min\n",
"snl=1799.5 //speed at no load in rev/min\n",
"mprintf('Voltage Regulation=%f',(snl-sfl)/sfl) //the ans may vary due to round of error\n",
""
   ]
   }
,
{
		   "cell_type": "markdown",
		   "metadata": {},
		   "source": [
			"## Example 1.7: Find_voltage_regulation_for_unity_power_factor_and_zero_point_seven_pf_lagging.sce"
		   ]
		  },
  {
"cell_type": "code",
	   "execution_count": null,
	   "metadata": {
	    "collapsed": true
	   },
	   "outputs": [],
"source": [
"clc\n",
"Vnl=27.3 //no load voltage in volts\n",
"Vfl1=24   //full load voltage at power factor 1 in volts\n",
"mprintf('(Vnl-Vfl/Vfl)=%f\n',(Vnl-Vfl1)/Vfl1) //ans may vary due to roundoff error\n",
"Vfl2=22.1 //full load voltage at power factor 0.7 in volts\n",
"mprintf('Voltage Regulation=%f',(Vnl-Vfl2)/Vfl1)\n",
"\n",
"\n",
"\n",
""
   ]
   }
],
"metadata": {
		  "kernelspec": {
		   "display_name": "Scilab",
		   "language": "scilab",
		   "name": "scilab"
		  },
		  "language_info": {
		   "file_extension": ".sce",
		   "help_links": [
			{
			 "text": "MetaKernel Magics",
			 "url": "https://github.com/calysto/metakernel/blob/master/metakernel/magics/README.md"
			}
		   ],
		   "mimetype": "text/x-octave",
		   "name": "scilab",
		   "version": "0.7.1"
		  }
		 },
		 "nbformat": 4,
		 "nbformat_minor": 0
}
