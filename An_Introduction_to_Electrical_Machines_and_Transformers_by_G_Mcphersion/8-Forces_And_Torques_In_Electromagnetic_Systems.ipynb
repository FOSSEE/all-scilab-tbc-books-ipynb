{
"cells": [
 {
		   "cell_type": "markdown",
	   "metadata": {},
	   "source": [
       "# Chapter 8: Forces And Torques In Electromagnetic Systems"
	   ]
	},
{
		   "cell_type": "markdown",
		   "metadata": {},
		   "source": [
			"## Example 8.2: EX8_2.sce"
		   ]
		  },
  {
"cell_type": "code",
	   "execution_count": null,
	   "metadata": {
	    "collapsed": true
	   },
	   "outputs": [],
"source": [
"clc\n",
"x=0.01 //length in metres\n",
"L=0.03+(270*x*x) //equation provided in the textbook\n",
"mprintf('L(0.01)=%fH\n',L)\n",
"w=377 //angular  frequency in rad/sec\n",
"XL=w*L\n",
"mprintf('XL=wL=%fΩ\n',XL)//ans may vary due to toundoff error\n",
"I=1 //current in ampere\n",
"V=I*XL\n",
"mprintf('V=IXL=%fV\n',V)//ans may vary due to toundoff error\n",
"a=540 //comes from an equation in textbook,unit is henry/metre\n",
"f=(1/2)*(a*x)\n",
"mprintf('f=%fN\n',f)\n",
"\n",
""
   ]
   }
],
"metadata": {
		  "kernelspec": {
		   "display_name": "Scilab",
		   "language": "scilab",
		   "name": "scilab"
		  },
		  "language_info": {
		   "file_extension": ".sce",
		   "help_links": [
			{
			 "text": "MetaKernel Magics",
			 "url": "https://github.com/calysto/metakernel/blob/master/metakernel/magics/README.md"
			}
		   ],
		   "mimetype": "text/x-octave",
		   "name": "scilab",
		   "version": "0.7.1"
		  }
		 },
		 "nbformat": 4,
		 "nbformat_minor": 0
}
