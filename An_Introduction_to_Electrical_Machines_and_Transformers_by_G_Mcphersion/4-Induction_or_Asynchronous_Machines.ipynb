{
"cells": [
 {
		   "cell_type": "markdown",
	   "metadata": {},
	   "source": [
       "# Chapter 4: Induction or Asynchronous Machines"
	   ]
	},
{
		   "cell_type": "markdown",
		   "metadata": {},
		   "source": [
			"## Example 4.1: EX4_1.sce"
		   ]
		  },
  {
"cell_type": "code",
	   "execution_count": null,
	   "metadata": {
	    "collapsed": true
	   },
	   "outputs": [],
"source": [
"clc\n",
"SCL=1000 //stator copper loss in watts\n",
"V=460 //line voltage of induction motor in volts\n",
"I=25 //line current of motor in amperes\n",
"pf=0.85 //power factor of motor\n",
"Pin=sqrt(3)*V*I*pf //ans  may vary due to roundoff error\n",
"mprintf('Pin=%fW\n',Pin)\n",
"Pg=Pin-SCL //air gap power\n",
"mprintf('Pg=%fW\n',Pg)//ans  may vary due to roundoff error\n",
"RCL=500 //rotor copper loss in watts\n",
"Phe=800 //core loss in watts\n",
"Pfw=250 //winding and friction loss in Watts\n",
"PLL=200 //stray load loss in watts\n",
"DMP=Pg-RCL ///developed mechanical power in watts\n",
"mprintf('DMP=%fW\n',DMP)//ans  may vary due to roundoff error\n",
"Prot=Phe+Pfw+PLL //power loss in rotor in watts\n",
"Pout=DMP-Prot\n",
"mprintf('Pout=DMP-Prot=%fW\n',Pout)//ans  may vary due to roundoff error\n",
"mprintf('Horsepower=Pout/746=%fhp\n',Pout/746)//ans  may vary due to roundoff error,conversion of watts to hp needs division by 746\n",
"mprintf('η=Pout/Pin=%f\n',Pout/Pin)//ans  may vary due to roundoff error\n",
"\n",
"\n",
""
   ]
   }
,
{
		   "cell_type": "markdown",
		   "metadata": {},
		   "source": [
			"## Example 4.2: Find_slip_and_operating_speed_and_developed_torque_and_output_torque.sce"
		   ]
		  },
  {
"cell_type": "code",
	   "execution_count": null,
	   "metadata": {
	    "collapsed": true
	   },
	   "outputs": [],
"source": [
"clc\n",
"//this is an extension of Ex4_1\n",
"//following comes from Ex4_1\n",
"SCL=1000 //stator copper loss in watts\n",
"V=460 //line voltage of induction motor in volts\n",
"I=25 //line current of motor in amperes\n",
"pf=0.85 //power factor of motor\n",
"Pin=sqrt(3)*V*I*pf //ans  may vary due to roundoff error\n",
"Pg=Pin-SCL //air gap power\n",
"RCL=500 //rotor copper loss in watts\n",
"Phe=800 //core loss in watts\n",
"Pfw=250 //winding and friction loss in Watts\n",
"PLL=200 //stray load loss in watts\n",
"DMP=Pg-RCL ///developed mechanical power in watts\n",
"Prot=Phe+Pfw+PLL //power loss in rotor in watts\n",
"Pout=DMP-Prot\n",
"//above is from Ex4_1\n",
"s=RCL/Pg\n",
"p=4 //no of poles\n",
"mprintf('s=RCL/Pg=%f\n',s)//ans may vary due to roundoff error\n",
"ws=(4*%pi*60)/p //synchronous angular frequency \n",
"mprintf('ws=%frad/s\n',ws)//ans may vary due to roundoff error\n",
"ns=(120*60)/p\n",
"mprintf('ns=%drev/min\n',ns)//ans may vary due to roundoff error\n",
"w=ws*(1-s)\n",
"n=ns*(1-s)\n",
"mprintf('w=ws(1-s)=%frad/s\n',w)//ans may vary due to roundoff error\n",
"mprintf('n=ns(1-s)=%frev/min\n',n)//ans may vary due to roundoff error\n",
"mprintf('τd=DMP/w=%fN-m\n',DMP/w)//ans may vary due to roundoff error\n",
"mprintf('τ=Pout/w=%fN-m\n',Pout/w)//ans may vary due to roundoff error\n",
"\n",
"\n",
"\n",
"\n",
""
   ]
   }
,
{
		   "cell_type": "markdown",
		   "metadata": {},
		   "source": [
			"## Example 4.3: Calculate_performance_at_1746_rev_per_min_and_starting_current_and_torque.sce"
		   ]
		  },
  {
"cell_type": "code",
	   "execution_count": null,
	   "metadata": {
	    "collapsed": true
	   },
	   "outputs": [],
"source": [
"clc\n",
"//code uses userdefined function complexstring\n",
"function s=complexstring(a)\n",
"    \n",
"    \n",
"    if imag(a)>=0 then\n",
"        s=sprintf('%g+%gi',real(a),imag(a))\n",
"    else\n",
"        s=sprintf('%g%gi',real(a),imag(a))\n",
"        \n",
"    end\n",
"    funcprot(0)\n",
"endfunction\n",
"\n",
"//induction machine parameters in ohms\n",
"r1=0.39 //primary resistance\n",
"r2=0.14 //secondary resistance\n",
"x1=0.35//primary reactance\n",
"x2=0.35//secondary reactance\n",
"Xm=16//manetizing reactance\n",
"VL=220 //supply volatge in volts\n",
"f=60 //frequency in Hz\n",
"//part a\n",
"p=4 //no of poles\n",
"ns=(120*f)/p \n",
"mprintf('ns=%drev/min\n',ns)\n",
"n=1746 //runnimg speed of motor in rev/min\n",
"s=(ns-n)/ns\n",
"mprintf('s=%f\n',s)\n",
"z2=(r2/s)+(%i*x2)//ans may vary due to roundoff error\n",
"disp('Z2='+complexstring(z2)+'Ω')\n",
"mprintf('Z2=%fohm having a phase angle of %f degrees\n',abs(z2),(acos(real(z2)/abs(z2)))*180/%pi)\n",
"Zf=(%i*Xm*z2)/(z2+(%i*Xm))//ans may vary due to roundoff error\n",
"disp('Zf='+complexstring(Zf)+'Ω')\n",
"mprintf('Zf=%fohms having a phase angle of %f degrees\n',abs(Zf),(acos(real(Zf)/abs(Zf)))*180/%pi)\n",
"Rf=real(Zf)//ans may vary due to roundoff error\n",
"mprintf('Rf=%fΩ\n',Rf)\n",
"Zin=r1+(%i*x1)+Zf//ans may vary due to roundoff error\n",
"disp('Zin=r1+jx1+Zf='+complexstring(Zin)+'Ω')\n",
"mprintf('Zin=%fohms having a phase angle of %f degrees\n',abs(Zin),(acos(real(Zin)/abs(Zin)))*180/%pi)\n",
"Powerfctor=real(Zin)/abs(Zin)//ans may vary due to roundoff error\n",
"mprintf('Power facto=%f\n',Powerfctor)\n",
"I1=VL/(sqrt(3)*abs(Zin))\n",
"mprintf('|I1|=%fA\n',I1)//ans may vary due to roundoff error\n",
"Pin=sqrt(3)*I1*VL*Powerfctor\n",
"mprintf('Pin=%fW\n',Pin)//ans in the textbook is wrong\n",
"Pg=3*I1*I1*Rf\n",
"mprintf('Pg=%fW\n',Pg)//ans in the textbook is wrong\n",
"DMP=(1-s)*Pg\n",
"mprintf('Developed power=(1-s)Pg=%fW\n',DMP)//ans in the textbook is wrong\n",
"Prot=s*Pg //rotor copper losses\n",
"Pout=DMP-Prot//ans in the textbook is wrong\n",
"mprintf('Output power=%fW\n',Pout)\n",
"mprintf('Output horsepower=%f\n',Pout/746)//ans may vary due to roundoff error,1 hp=746 watts\n",
"mprintf('Developed torque=%flb-ft\n',7.04*(Pg/ns))//ans may vary due to roundoff error,1 N-m=7.04 lb-ft ot torque\n",
"n=(1-s)*ns//ans may vary due to roundoff error\n",
"mprintf('Output torque=%flb-ft\n',7.04*(Pout/n))\n",
"mprintf('Efficiency=%f\n',Pout/Pin)\n",
"//part b\n",
"s=1 //machine at stanstill\n",
"z2=r2+(%i*x2)//ans may vary due to roundoff error\n",
"disp('Z2='+complexstring(z2)+'Ω')\n",
"mprintf('Z2=%fohm having a phase angle of %f degrees\n',abs(z2),(acos(real(z2)/abs(z2)))*180/%pi)\n",
"Zf=(%i*Xm*z2)/(z2+(%i*Xm))//ans may vary due to roundoff error\n",
"disp('Zf='+complexstring(Zf)+'Ω')\n",
"mprintf('Zf=%fohms having a phase angle of %f degrees\n',abs(Zf),(acos(real(Zf)/abs(Zf)))*180/%pi)\n",
"Zin=r1+(%i*x1)+Zf//ans may vary due to roundoff error\n",
"disp('Zin='+complexstring(Zin)+'Ω')\n",
"mprintf('Zin=%fohms having a phase angle of %f degrees\n',abs(Zin),(acos(real(Zin)/abs(Zin)))*180/%pi)\n",
"I1=VL/(sqrt(3)*abs(Zin))//ans may vary due to roundoff error\n",
"Rf=real(Zf)\n",
"mprintf('Starting current=%fA\n',I1)\n",
"Pg=3*I1*I1*Rf\n",
"mprintf('Pg=%fW\n',Pg)//ans in the textbook is wrong\n",
"mprintf('τd=7.04*(Pg/ns)=%flb-ft\n',7.04*(Pg/ns))//ans may vary due to roundoff error,1 N-M=7.04 lb-ft of torque\n",
"\n",
"\n",
"\n",
"\n",
"\n",
"\n",
"\n",
"\n",
"\n",
"\n",
"\n",
""
   ]
   }
,
{
		   "cell_type": "markdown",
		   "metadata": {},
		   "source": [
			"## Example 4.4: Find_the_pull_out_torque_and_slip_at_which_it_occurs.sce"
		   ]
		  },
  {
"cell_type": "code",
	   "execution_count": null,
	   "metadata": {
	    "collapsed": true
	   },
	   "outputs": [],
"source": [
"clc\n",
"//below is an extension of Ex4_3\n",
"//code uses userdefined function complexstring \n",
"function s=complexstring(a)\n",
"    \n",
"    \n",
"    if imag(a)>=0 then\n",
"        s=sprintf('%g+%gi',real(a),imag(a))\n",
"    else\n",
"        s=sprintf('%g%gi',real(a),imag(a))\n",
"        \n",
"    end\n",
"    funcprot(0)\n",
"endfunction\n",
"x1=0.35 //primary reactance in ohms\n",
"r1=0.39 //primary resistance in ohms\n",
"Xm=16 //magnetizing reactance\n",
"r2=0.14 //secondary resistance in ohms \n",
"x2=0.35 //secondary reactance in ohms\n",
"ws=188.5 //angular frequency in rad/sec\n",
"V=220 //rated voltage in volts\n",
"//part a\n",
"V1m=V/sqrt(3)//ans may vary due to roundoff error\n",
"VTH=V1m*(Xm/(Xm+x2))\n",
"mprintf('VTH=V1m=%fV\n',VTH)//ans may vary due to roundoff error\n",
"X1=x1\n",
"mprintf('X1=%fΩ\n',X1)\n",
"R1=r1*(Xm/(x1+Xm))//ans may vary due to roundoff error\n",
"mprintf('R1=%fΩ\n',R1)\n",
"mprintf('τmax=%fN-m\n',((3/ws)*(VTH^2))/(2*(R1+sqrt((R1^2)+((2*X1)^2)))))//ans may vary due to roundoff error\n",
"//part b\n",
"sM=r2/sqrt((R1^2)+((X1+x1)^2))//ans may vary due to roundoff error\n",
"mprintf('sM=%f\n',sM)\n",
"mprintf('r2/sM=%fΩ\n',r2/sM)//ans may vary due to roundoff error\n",
"Zf=((%i*Xm)*((r2/sM)+(%i*x2)))/((r2/sM)+(%i*(x2+Xm)))//ans may vary due to roundoff error\n",
"disp('Zf='+complexstring(Zf)+'Ω')\n",
"mprintf('Zf=%fohm having a phase angle of %f degrees\n',abs(Zf),(acos(real(Zf)/abs(Zf)))*180/%pi)\n",
"z1=r1+(%i*x1)\n",
"Zin=z1+Zf\n",
"disp('Zin='+complexstring(Zin)+'Ω')//ans may vary due to roundoff error\n",
"mprintf('Zin=%fohm having a phase angle of %f degrees\n',abs(Zin),(acos(real(Zin)/abs(Zin)))*180/%pi)\n",
"I1=V1m/abs(Zin)\n",
"mprintf('I1=%fA\n',I1)//ans may vary due to roundoff error\n",
"Rf=real(Zf) //resistance in ohms\n",
"Pg=3*I1*I1*Rf//ans  in the textbook is wrong\n",
"mprintf('Pg=%fW\n',Pg)\n",
"mprintf('τmax=Pg/ws=%fN-m\n',Pg/ws)//ans may vary due to roundoff error\n",
"\n",
"\n",
"\n",
"\n",
"\n",
"\n",
""
   ]
   }
,
{
		   "cell_type": "markdown",
		   "metadata": {},
		   "source": [
			"## Example 4.5: Find_speed_at_half_of_the_load_and_the_corresponding_outpt_in_horsepower.sce"
		   ]
		  },
  {
"cell_type": "code",
	   "execution_count": null,
	   "metadata": {
	    "collapsed": true
	   },
	   "outputs": [],
"source": [
"clc\n",
"ns=1800 //synchronous speed in rev/min\n",
"n=1745 //initial speed in rev/min\n",
"hp=10 //hp rating of the motor horsepower(1 hp=746 Watts)\n",
"s=(ns-n)/ns\n",
"mprintf('s=%f\n',s)//ans may vary due to roundoff error\n",
"s=s/2 //slip at half torque\n",
"n1=ns*(1-s)//ans may vary due to roundoff error\n",
"mprintf('n=ns(1-s)=%frev/min\n',n1)\n",
"//output at half torque\n",
"mprintf('New horsepower output=%fhp\n',(0.5*hp*n1)/n)//ans may vary due to roundoff error,0.5 factor comes due to half torque\n",
"\n",
"\n",
"\n",
"\n",
""
   ]
   }
,
{
		   "cell_type": "markdown",
		   "metadata": {},
		   "source": [
			"## Example 4.6: Will_the_mootor_run_hotter_or_cooler_if_voltage_drops_to_90_percent.sce"
		   ]
		  },
  {
"cell_type": "code",
	   "execution_count": null,
	   "metadata": {
	    "collapsed": true
	   },
	   "outputs": [],
"source": [
"clc\n",
"V1m(1)=1 //reference voltage in volts\n",
"V1m(2)=0.9//reduced voltage in volts\n",
"ratio=(V1m(1)/V1m(2))^2 //ratio of s2/s1\n",
"mprintf('s2/s1=%f\n',ratio)//ans may vary due to roundoff error\n",
"mprintf('I2(2)/I2(1)=s2*V1m(2)/s1*V1m(1)=%f\n',(V1m(2)/V1m(1))*ratio)//ans may vary due to roundoff error\n",
"mprintf('(copperloss)2/(copperloss)1=(I2(2)/I2(1))^2=%f\n',(V1m(1)/V1m(2))^2)//ans may vary due to roundoff error\n",
"s=0.03 //at 60Hz slip\n",
"ns=1800 //synchronous speed in rev/min\n",
"mprintf('Speed at 90 percent voltage=%frev/min\n',ns*(1-(ratio*s)))//ans may vary due to roundoff error\n",
"\n",
"\n",
"\n",
""
   ]
   }
,
{
		   "cell_type": "markdown",
		   "metadata": {},
		   "source": [
			"## Example 4.7: Calculate_performance_of_motor_at_given_slip.sce"
		   ]
		  },
  {
"cell_type": "code",
	   "execution_count": null,
	   "metadata": {
	    "collapsed": true
	   },
	   "outputs": [],
"source": [
"clc\n",
"//code uses userdefined function complexstring\n",
"function s=complexstring(a)\n",
"    \n",
"    \n",
"    if imag(a)>=0 then\n",
"        s=sprintf('%g+%gi',real(a),imag(a))\n",
"    else\n",
"        s=sprintf('%g%gi',real(a),imag(a))\n",
"        \n",
"    end\n",
"    funcprot(0)\n",
"endfunction\n",
"//dc test\n",
"Vdc=13.8 //dc voltage in volts\n",
"Idc=13 //direct current in amperes\n",
"//no load test\n",
"Vnl=220 //applied no voltage in volts\n",
"f=60 //applied frequency in Hz\n",
"//blocked rotor test\n",
"VBR=23.5 //blocked rotor voltage in volts\n",
"f1=15 //frequency in Hz\n",
"Ia=12.8 //current of phase A\n",
"Ib=13.1 //current of phase B\n",
"Ic=12.9 //current of phase C\n",
"//from blocked rotor\n",
"IBR=(Ia+Ib+Ic)/3 //ans may vary due to roundoff error\n",
"mprintf('IBR=%fA\n',IBR)\n",
"ZBR=VBR/(sqrt(3)*IBR)\n",
"mprintf('|ZBR|=%fΩ\n',ZBR)//ans may vary due to roundoff error\n",
"P1=179 //power in watts\n",
"P2=290 //power in watts\n",
"PBR=P1+P2\n",
"mprintf('PBR=%fW\n',PBR)\n",
"RBR=PBR/(3*(IBR^2))//ans may vary due to roundoff error\n",
"mprintf('RBR=%fΩ\n',RBR)\n",
"mprintf('θBR=%f\n',(acos(PBR/(sqrt(3)*VBR*IBR)))*(180/%pi))//ans may vary due to roundoff error\n",
"mprintf('X`BR=|ZBR|*sinθBR=%fΩ\n',ZBR*sin(acos(PBR/(sqrt(3)*VBR*IBR))))//ans may vary due to roundoff error\n",
"XBR=(f/f1)*(ZBR*sin(acos(PBR/(sqrt(3)*VBR*IBR))))\n",
"mprintf('XBR=(fB/f1)*X`BR=%fΩ\n',XBR)//ans may vary due to roundoff error\n",
"x1=0.4*XBR //designed reactance\n",
"x2=0.6*XBR //designed reactance\n",
"mprintf('x1=%fΩ\n',x1)//ans may vary due to roundoff error\n",
"mprintf('x2=%fΩ\n',x2)//ans may vary due to roundoff error\n",
"//from dc test\n",
"r1=0.5*(Vdc/Idc)\n",
"mprintf('r1=%fΩ\n',r1)//ans may vary due to roundoff error\n",
"r2=RBR-r1\n",
"mprintf('r2=%fΩ\n',r2)//ans may vary due to roundoff error\n",
"//from no load test\n",
"Ia=3.86 //current of phase A in amperes\n",
"Ib=3.86 //current of phase B in amperes\n",
"Ic=3.89 //current of phase C in amperes\n",
"Inl=(Ia+Ib+Ic)/3\n",
"mprintf('Inl=%fA\n',Inl)//ans may vary due to roundoff error\n",
"Znl=Vnl/(sqrt(3)*Inl)\n",
"mprintf('Znl=x1+Xm=%fΩ\n',Znl)//ans may vary due to roundoff error\n",
"Xm=Znl-x1\n",
"mprintf('Xm=Znl-x1=%fΩ\n',Xm)//ans may vary due to roundoff error\n",
"P1=550 //power in watts \n",
"P2=-350 //power in watts\n",
"Pnl=P1+P2\n",
"mprintf('Pnl=%fW\n',Pnl)//ans may vary due to roundoff error\n",
"Pfwc=Pnl-(3*Inl*Inl*r1)\n",
"mprintf('Pfwc=%fW\n',Pfwc)//ans may vary due to roundoff error\n",
"Prot=Pfwc\n",
"s=0.03\n",
"z2=(r2/s)+(%i*x2)\n",
"disp('z2='+complexstring(z2)+'Ω')//ans may vary due to roundoff error\n",
"mprintf('Z2=%fohms with a phase angle of %fdegrees\n',abs(z2),(acos(real(z2)/abs(z2)))*180/%pi)\n",
"Zf=(z2*(%i*Xm))/(z2+(%i*Xm))\n",
"disp('Zf='+complexstring(Zf)+'Ω')//ans may vary due to roundoff error\n",
"mprintf('Zf=%fohms with a phase angle of %fdegrees\n',abs(Zf),(acos(real(Zf)/abs(Zf)))*180/%pi)\n",
"Rf=real(Zf)\n",
"Zin=r1+Zf+(%i*x1)\n",
"disp('Zin='+complexstring(Zin)+'Ω')//ans may vary due to roundoff error\n",
"mprintf('Zin=%fohms with a phase angle of %fdegrees\n',abs(Zin),(acos(real(Zin)/abs(Zin)))*180/%pi)\n",
"mprintf('power factor=%f\n',(real(Zin)/abs(Zin)))//ans may vary due to roundoff error\n",
"I1=Vnl/(sqrt(3)*abs(Zin))\n",
"mprintf('|I1|=%fA\n',I1)//ans may vary due to roundoff error\n",
"Pin=(sqrt(3)*(real(Zin)/abs(Zin))*I1*Vnl)//ans is wrong in textbook\n",
"mprintf('power drawn from line=sqrt(3)*VL*|I|*cosθΦ=%fW\n',Pin)\n",
"Rf=real(Zf)\n",
"Pg=3*I1*I1*Rf\n",
"mprintf('Pg=%fW\n',Pg)//ans is wrong in textbook\n",
"DMP=Pg*(1-s)\n",
"mprintf('DMP=%fW\n',DMP)//ans is wrong in textbook\n",
"Pout=DMP-Prot\n",
"mprintf('output horsepower=%fhp\n',Pout/746)//ans may vary due to roundoff error,1 hp=746 watts\n",
"mprintf('η=Pout/Pin=%f\n',Pout/Pin)//ans may vary due to roundoff error\n",
"\n",
"\n",
"\n",
"\n",
"\n",
"\n",
""
   ]
   }
,
{
		   "cell_type": "markdown",
		   "metadata": {},
		   "source": [
			"## Example 4.8: Upper_limit_of_the_starting_current_at_230v.sce"
		   ]
		  },
  {
"cell_type": "code",
	   "execution_count": null,
	   "metadata": {
	    "collapsed": true
	   },
	   "outputs": [],
"source": [
"clc\n",
"kVA=6.3 //upper limit for kVA per horsepower\n",
"hp=10 //rating of induction motor in hp.(1 hp=746 watts)\n",
"V=230 //voltage rating of the motor\n",
"I=(kVA*hp*1000)/(sqrt(3)*V)\n",
"mprintf('I=%fA\n',I)//ans may vary due to roundoff error\n",
"\n",
"\n",
""
   ]
   }
,
{
		   "cell_type": "markdown",
		   "metadata": {},
		   "source": [
			"## Example 4.9: Find_the_starting_line_current_and_torque_with_provided_compensation.sce"
		   ]
		  },
  {
"cell_type": "code",
	   "execution_count": null,
	   "metadata": {
	    "collapsed": true
	   },
	   "outputs": [],
"source": [
"clc\n",
"vtap=0.8 //percantage voltage tap of compensator\n",
"hp=100 //rating of motor in horsepower,I hp=746 watts\n",
"n=1750 //rated speed of motor in rev/min\n",
"a=1/vtap //compensator turns ratio\n",
"V=2300 //voltage rating of induction motor in volts\n",
"I1=150 //current rating in amperes\n",
"mprintf('a=%f\n',a)\n",
"mprintf('Voltage applied at starting of motor=%fV\n',V/a)\n",
"I1start=I1/a\n",
"mprintf('I1start=(1840/2300)*150A=150/a=%fA\n',I1start)\n",
"IL=I1start/a\n",
"mprintf('IL=I1start/a=%fA\n',IL)\n",
"tfl=hp*5252/n\n",
"mprintf('τfl=(hp*5252)/(rev/min)=%flb-ft\n',tfl)//ans may vary due to roundoff error\n",
"t=1.2*tfl //120 percent of the full load torque in lb-ft\n",
"mprintf('τst=360/a*a=%flb-ft\n',t/(a*a))//ans may vary due to roundoff error\n",
"\n",
"\n",
"\n",
"\n",
"\n",
"\n",
""
   ]
   }
],
"metadata": {
		  "kernelspec": {
		   "display_name": "Scilab",
		   "language": "scilab",
		   "name": "scilab"
		  },
		  "language_info": {
		   "file_extension": ".sce",
		   "help_links": [
			{
			 "text": "MetaKernel Magics",
			 "url": "https://github.com/calysto/metakernel/blob/master/metakernel/magics/README.md"
			}
		   ],
		   "mimetype": "text/x-octave",
		   "name": "scilab",
		   "version": "0.7.1"
		  }
		 },
		 "nbformat": 4,
		 "nbformat_minor": 0
}
