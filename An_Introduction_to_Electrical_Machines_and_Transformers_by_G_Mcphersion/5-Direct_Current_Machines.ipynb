{
"cells": [
 {
		   "cell_type": "markdown",
	   "metadata": {},
	   "source": [
       "# Chapter 5: Direct Current Machines"
	   ]
	},
{
		   "cell_type": "markdown",
		   "metadata": {},
		   "source": [
			"## Example 5.1: EX5_1.sce"
		   ]
		  },
  {
"cell_type": "code",
	   "execution_count": null,
	   "metadata": {
	    "collapsed": true
	   },
	   "outputs": [],
"source": [
"clc\n",
"B=0.78 //flux density in tesla\n",
"A=200*(10^(-4))//cross sectional area in centimetre square\n",
"mprintf('Flux per pole Φ=B.A=%fWb\n',B*A)\n",
"C=95 //no of coils\n",
"Nc=2 //no of turns in each coil\n",
"Z=2*C*Nc\n",
"mprintf('Z=2*C*Nc=%fconductors\n',Z)\n",
"n=1200 //rotating speed in rev/min\n",
"w=(n/60)*(2*%pi)\n",
"mprintf('w=%frad/s\n',w)//ans may vary due to rounof error\n",
"a=2 //no of paths\n",
"p=4 //no of poles\n",
"Ka=(Z*p)/(2*%pi*a)\n",
"mprintf('Ka=%fV-s/Wb\n',Ka)//ans may vary due to rounof error\n",
"Eg=Ka*B*A*w\n",
"mprintf('Eg=Ka*Φ*w=%fV\n',Eg)//ans may vary due to rounof error\n",
"VT=250 //terminal voltage in volts\n",
"ra=0.2 //armture resistance in ohms\n",
"Ia=(VT-Eg)/ra\n",
"mprintf('Ia=%fA\n',Ia)//ans may vary due to rounof error\n",
"Pin=VT*Ia\n",
"mprintf('Pin=%fW\n',Pin)//ans in textbook is wrong\n",
"mprintf('Armature copper loss=%fW\n',((Ia*Ia)*ra))//ans in textbook is wrong\n",
"Pd=Pin-((Ia*Ia)*ra)//ans in textbook is wrong\n",
"mprintf('Pd=Pin-coper loss=%fW\n',Pd)\n",
"mprintf('τd=Pd/w=%fN-m ',Pd/w)\n",
"cf=0.7376 //conversion factor for conversion from N-m to lb-ft\n",
"mprintf('or %flb-ft',(Pd/w)*cf)//ans may vary due to roundoff error\n",
"\n",
"\n",
"\n",
"\n",
"\n",
"\n",
"\n",
"\n",
"\n",
"\n",
""
   ]
   }
,
{
		   "cell_type": "markdown",
		   "metadata": {},
		   "source": [
			"## Example 5.2: EX5_2.sce"
		   ]
		  },
  {
"cell_type": "code",
	   "execution_count": null,
	   "metadata": {
	    "collapsed": true
	   },
	   "outputs": [],
"source": [
"clc\n",
"I=100 //current drawn in amperes\n",
"ra=0.07 //armature resistance in ohms\n",
"Vt=230 //terminal voltage of motor in volts\n",
"mprintf('Eg*=VT*-Iara*=%fV\n',Vt-(I*ra))\n",
"n=1200 //speed of rotation in rev/min\n",
"mprintf('w*=%dπrad/sec\n',(n/60)*2)\n",
"mprintf('KaΦ=Eg*/w*=%fV-s/rad\n',(Vt-(I*ra))/((n/60)*2*%pi))//ans may vary due to roundoff error\n",
"Ia=100 //armature current in ampere\n",
"mprintf('τd=KaΦIa=%fN-m\n',(Ia*(Vt-(I*ra))/((n/60)*2*%pi)))//ans may vary due to roundoff error\n",
"Td=300 //torque in N-m\n",
"Ia=Td/((Vt-(I*ra))/((n/60)*2*%pi))//ans may vary due to roundoff error\n",
"mprintf('Ia=τd/KaΦ=%fA\n',Ia)\n",
"ra=0.07 //resistance in ohms\n",
"VT=230 //voltage in volts\n",
"w=(VT-Ia*ra)/((Vt-(I*ra))/((n/60)*2*%pi))\n",
"mprintf('w=(VT-Iara)/KaΦ=%frad/sec\n',w)//ans may vary due to roundoff error\n",
"\n",
"\n",
""
   ]
   }
,
{
		   "cell_type": "markdown",
		   "metadata": {},
		   "source": [
			"## Example 5.3: Find_speed_of_the_motor_when_it_develops_a_torque_of_300_Newton_metre.sce"
		   ]
		  },
  {
"cell_type": "code",
	   "execution_count": null,
	   "metadata": {
	    "collapsed": true
	   },
	   "outputs": [],
"source": [
"clc\n",
"//Ex5_3 uses a magnetization curve given in textbook\n",
"mprintf('At 1200 rev/min and shunt field current of 0.7A Eg*=90V \n') //from magnetization curve\n",
"n=1200 //speed of rotation in rev/min\n",
"Eg1=90 //voltage in volts\n",
"wB=(n/60)*2\n",
"mprintf('wB=%dπrad/sec\n',wB)\n",
"mprintf('KaΦ*=Eg*/wB=%fV-s/rad\n',Eg1/(wB*%pi))//ans may vary due to roundoff error\n",
"Td=30 //torque in N-m\n",
"Ia=Td/(Eg1/(wB*%pi))\n",
"mprintf('Ia=τd/KaΦ*=%fA\n',Ia)//ans may vary due to roundoff error\n",
"VT=125 //voltage in volts\n",
"ra=0.2 //resistance in ohms\n",
"Eg=VT-(Ia*ra)\n",
"mprintf('Eg=%fV\n',Eg)//ans may vary due to roundoff error\n",
"w=Eg/((Eg1/(wB*%pi)))\n",
"mprintf('w=Eg/KaΦ*=%frad/s\n',w)//ans may vary due to roundoff error\n",
"n=(w*60)/(2*%pi)\n",
"mprintf('n=%frev/min\n',n)//ans may vary due to roundoff error\n",
"//other two techniques\n",
"//first technique\n",
"nB=1200 //speed in rev/min\n",
"n=nB*(Eg/Eg1)//ans may vary due to roundoff error\n",
"mprintf('n=%frev/min\n',n)\n",
"//second technique\n",
"mprintf('τd=%flb-ft\n',Td*0.738)//ans may vary due to roundoff error\n",
"mprintf('Ka`Φ=Eg*/nB=%fV-min/rev\n',Eg/nB)\n",
"Ia=(Td*0.738)/(7.04*(Eg1/nB))//ans may vary due to roundoff error\n",
"mprintf('Ia=τd/(7.04*Ka`*Φ)=%fA\n',Ia)\n",
"n=Eg/(Eg1/nB)\n",
"mprintf('n=Eg/K`aΦ=%frev/min\n',n)//ans may vary due to roundoff error\n",
"\n",
"\n",
"\n",
"\n",
""
   ]
   }
,
{
		   "cell_type": "markdown",
		   "metadata": {},
		   "source": [
			"## Example 5.4: Find_the_terminal_voltage_at_full_load_and_no_load_and_voltage_regulation.sce"
		   ]
		  },
  {
"cell_type": "code",
	   "execution_count": null,
	   "metadata": {
	    "collapsed": true
	   },
	   "outputs": [],
"source": [
"clc\n",
"//Ex5_4 uses a figure given in textbook\n",
"Ia=50 //current in amperes\n",
"IB=50 //current in amperes\n",
"nB=1200 //speed in rev/min\n",
"ratio=0.01 //ratio of Nsc/Nf ,unit less\n",
"Isc=0.6*Ia //equation given in textbook\n",
"mprintf('Isc=%dA\n',Isc)\n",
"If=1.3 //field current in amperes\n",
"mprintf('If*=If+(Nsc/Nf)*Isc=%fA\n',If+(ratio*Isc))\n",
"Eg1=132.5 //voltage in volts\n",
"mprintf('Ka`Φ=Eg*/nB=%fV-min/rev\n',Eg1/nB)//ans may vary due to roundoff error\n",
"n=1140 //speed in rev/min\n",
"Eg=n*(Eg1/nB)\n",
"mprintf('Eg=Ka`n=%fV\n',Eg)//ans may vary due to roundoff error\n",
"ra=0.2 //resistance in ohms\n",
"Ra=0.03+ra //by kirchodff's law and parallel combination or resistances\n",
"mprintf('Ra=%fΩ\n',Ra)\n",
"VTfl=Eg-(Ia*Ra)\n",
"mprintf('VTfl=%fV\n',VTfl)//ans may vary due to roundoff error\n",
"mprintf('If*=If+0=%fA\n',If)\n",
"Eg2=125 //voltage in volts\n",
"VTnl=Eg*(n/nB)\n",
"mprintf('Eg=Eg*(n/nB)=%fV\n',VTnl)//ans may vary due to roundoff error\n",
"mprintf('Voltage Regulation=(VTnl-VTfl)/VTfl=%f%c',((VTnl-VTfl)/VTfl)*100,'%') //ans may vary due to roundoff error\n",
"\n",
"\n",
"\n",
"\n",
""
   ]
   }
,
{
		   "cell_type": "markdown",
		   "metadata": {},
		   "source": [
			"## Example 5.5: Find_the_efficiency_and_input_horsepower_requirements_under_given_conditions.sce"
		   ]
		  },
  {
"cell_type": "code",
	   "execution_count": null,
	   "metadata": {
	    "collapsed": true
	   },
	   "outputs": [],
"source": [
"clc\n",
"V=250 //voltage rating in volts\n",
"Pout=125000 //output power in watts\n",
"ra=0.025 //armature resistance in ohms\n",
"rsc=0.01 //resistance in ohms \n",
"rf=30 //field resistance in ohms\n",
"If=5 //field current in amperes\n",
"mprintf('Shunt field copper loss=%dW\n',If*If*rf)\n",
"Iload=Pout/V\n",
"Ia=Iload+If\n",
"Isc=Iload+If\n",
"mprintf('Ia=Isc=Iload+If=%dA\n',Ia)\n",
"mprintf('Seires filed copper losses=%dW\n',Isc*Isc*rsc)\n",
"mprintf('ACL=%fW\n',Ia*Ia*ra)//ans in textbook is wrong\n",
"mprintf('Brush copper loss=2Ia=%dW\n',2*Ia)\n",
"mprintf('Stray load loss=1%c of 125Kw=%fW\n','%',0.01*Pout)\n",
"Prot=5000 //rotational loss in watts\n",
"losses=(If*If*rf)+(Isc*Isc*rsc)+(Ia*Ia*ra)+(2*Ia)+(0.01*Pout)+Prot //aadding all losses\n",
"\n",
"mprintf('Efficiency=%f%c\n',(Pout/(Pout+losses))*100,'%')//ans may vary due to roundoff eror\n",
"rlosses=500 //rheostat losses in watts\n",
"Pin=Pout+losses+rlosses\n",
"mprintf('Pin required=%fW\n',Pin) //ans in the textbook is wrong\n",
"Ia1=sqrt((Prot+(If*If*rf))/(ra+rsc))\n",
"mprintf('Ia1=%fA\n',Ia1)\n",
"\n",
"\n",
"\n",
"\n",
"\n",
""
   ]
   }
],
"metadata": {
		  "kernelspec": {
		   "display_name": "Scilab",
		   "language": "scilab",
		   "name": "scilab"
		  },
		  "language_info": {
		   "file_extension": ".sce",
		   "help_links": [
			{
			 "text": "MetaKernel Magics",
			 "url": "https://github.com/calysto/metakernel/blob/master/metakernel/magics/README.md"
			}
		   ],
		   "mimetype": "text/x-octave",
		   "name": "scilab",
		   "version": "0.7.1"
		  }
		 },
		 "nbformat": 4,
		 "nbformat_minor": 0
}
