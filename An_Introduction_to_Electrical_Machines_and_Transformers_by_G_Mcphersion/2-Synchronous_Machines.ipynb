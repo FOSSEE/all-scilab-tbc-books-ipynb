{
"cells": [
 {
		   "cell_type": "markdown",
	   "metadata": {},
	   "source": [
       "# Chapter 2: Synchronous Machines"
	   ]
	},
{
		   "cell_type": "markdown",
		   "metadata": {},
		   "source": [
			"## Example 2.10: Find_initial_current_and_current_at_the_end_of_two_cycles.sce"
		   ]
		  },
  {
"cell_type": "code",
	   "execution_count": null,
	   "metadata": {
	    "collapsed": true
	   },
	   "outputs": [],
"source": [
"clc\n",
"xd=1 //in ohms per unit\n",
"xd1=0.3 //in ohms per unit\n",
"xd2=0.2 //in ohms per unit\n",
"Td2=0.03 //time in seconds\n",
"Td1=1 //time in seconds\n",
"MVA=100 //rating in mega volt ampere\n",
"V=16000 //voltage in volts\n",
"I2pu=1/xd2\n",
"mprintf('Ipú́=%dper unit\n',I2pu)\n",
"Ib=(MVA*(10^6))/(sqrt(3)*V)\n",
"mprintf('Ib=%fA\n',Ib)//ans may vary due to roundoff error\n",
"mprintf('Í́=%fA\n',I2pu*Ib)//ans in textbook is wrong\n",
"I1=1/xd1 //current in per unit\n",
"mprintf('Í=Efo/xd́=%fper unit\n',I1)//ans may vary due to roundoff error\n",
"Iss=1/xd//current in per unit\n",
"mprintf('Iss=Efo/xd=1 per unit\n')\n",
"t=2/60 //time in seconds\n",
"mprintf('I=%fper unit\n',(I2pu-I1)*exp(-t/Td2)+(I1-Iss)*exp(-t/Td1)+1)//ans may vary due to roundoff error\n",
"t=10 //time in seconds\n",
"mprintf('I=%fper unit\n',(I2pu-I1)*exp(-t/Td2)+(I1-Iss)*exp(-t/Td1)+1)//ans may vary due to roundoff error\n",
"\n",
"\n",
""
   ]
   }
,
{
		   "cell_type": "markdown",
		   "metadata": {},
		   "source": [
			"## Example 2.1: Find_flux_per_pole_off_the_synchronous_machine.sce"
		   ]
		  },
  {
"cell_type": "code",
	   "execution_count": null,
	   "metadata": {
	    "collapsed": true
	   },
	   "outputs": [],
"source": [
"clc\n",
"L=0.25 //length of stator stack in metre\n",
"r=0.15 //radius of stator stack in metres\n",
"BImax=0.96 //peak value of air gap flux density in tesla\n",
"P=6 //no of machine poles\n",
"phi=(4*L*r*BImax)/P //flux per pole in webers\n",
"mprintf('Φ=%fWb',phi)\n",
"\n",
"\n",
"\n",
"\n",
""
   ]
   }
,
{
		   "cell_type": "markdown",
		   "metadata": {},
		   "source": [
			"## Example 2.2: Determine_the_coil_pitch_and_pitch_factor.sce"
		   ]
		  },
  {
"cell_type": "code",
	   "execution_count": null,
	   "metadata": {
	    "collapsed": true
	   },
	   "outputs": [],
"source": [
"clc\n",
"//the example below is an extension of Ex2_1\n",
"L=0.25 //length of stator stack in metres\n",
"r=0.15 //radius of stator stack in metres\n",
"BImax=0.96 //peak value of air gap flux density in tesla\n",
"P=6 //no of machine poles\n",
"phi=(4*L*r*BImax)/P //flux per pole in webers\n",
"//above comes from Ex2_1\n",
"span=5 //span of each coil given by  no of slots\n",
"edps=30 //electrical degrees per slot in degrees\n",
"p=span*edps//coil pitch in degrees\n",
"mprintf('p=%d°\n',span*edps)\n",
"Nc=2//turns of coil\n",
"Kp=sin(((p/2)*%pi)/180) //pitch factor //degree being converted to radians before calculation\n",
"mprintf('Kp=sin(p/2)=%f\n',Kp) //the ans may vary due to roundoff error\n",
"mprintf('λcmax=Nc*Kp*Φ=%fWb turns\n',Nc*Kp*phi)//max flux linkage //ans may vary due to roundoff error\n",
"ns=1000 //machine speed in rev/min\n",
"p=6 //no of poles\n",
"f=(p*ns)/120 //frequency at given speed in Hertz\n",
"mprintf('f=%dHz\n',f)\n",
"mprintf('Ec=sqrt(2)*Π*f*Nc*kp*Φ=%fV\n',sqrt(2)*%pi*f*Nc*Kp*phi)//ans may vary due to roundoff error //voltage induced at above frequency\n",
"\n",
"\n",
"\n",
"\n",
""
   ]
   }
,
{
		   "cell_type": "markdown",
		   "metadata": {},
		   "source": [
			"## Example 2.3: EX2_3.sce"
		   ]
		  },
  {
"cell_type": "code",
	   "execution_count": null,
	   "metadata": {
	    "collapsed": true
	   },
	   "outputs": [],
"source": [
"clc\n",
"//the example below is an extension of Ex2_1 and Ex2_2\n",
"S1=36 //no of slots\n",
"q1=3 //no of phases\n",
"p=6 //no of poles\n",
"Nc=2 //no of turns per coil\n",
"L=0.25 //length of stator stack in metres\n",
"r=0.15 //radius of stator stack in metres\n",
"BImax=0.96 //peak value of air gap flux density in tesla\n",
"P=6 //no of machine poles\n",
"phi=(4*L*r*BImax)/P //flux per pole in webers\n",
"span=5 //span of each coil given by  no of slots\n",
"edps=30 //electrical degrees per slot in degrees\n",
"p=span*edps//coil pitch in degrees\n",
"Nc=2//turns of coil\n",
"kp=sin(((p/2)*%pi)/180) //pitch factor //degree being converted to radians before calculation\n",
"ns=1000 //machine speed in rev/min\n",
"p=6 //no of poles\n",
"f=(p*ns)/120 //frequency at given speed in Hertz\n",
"Ec=sqrt(2)*%pi*f*Nc*kp*phi//voltage induced at above frequency\n",
"n=S1/(q1*p)\n",
"mprintf('n=S1/(q1*p)=%f\n',n) //coils per group\n",
"edps=30 //electrical degrees per slot //equal to γ as per textbook\n",
"kd=(sin((n*edps*%pi)/(180*2)))/(n*sin((edps/2)*%pi/180)) //distribution factor of the machine //degree converted to radian for calculation\n",
"mprintf('kd=sin(n*γ/2)/n*sin(γ/2)=%f\n',kd)//ans may vary due to roundoff error\n",
"mprintf('|Egroup|=n*Ec*kd=%fV\n',n*Ec*kd)//ans may vary due to roundoff error\n",
"mprintf('|EΦ|=p*|Egroup|=%fV\n',p*n*Ec*kd)//ans may vary due to roundoff error\n",
"mprintf('sqrt(3)*EΦ=%dV\n',sqrt(3)*n*Ec*kd*p)//ans may vary due to roundoff error\n",
"stp=n*Nc*p //series turns per phase //equal to NΦ in textbook\n",
"mprintf('NΦ=n*Nc*p=%dturns\n',stp)\n",
"mprintf('|EΦ|=sqrt(2)*Π*NΦ*f*Φ*kp*kd=%fV',sqrt(2)*%pi*stp*f*kp*kd*phi) //ans may vary due to round off error //induced phase winding\n",
"\n",
""
   ]
   }
,
{
		   "cell_type": "markdown",
		   "metadata": {},
		   "source": [
			"## Example 2.4: EX2_4.sce"
		   ]
		  },
  {
"cell_type": "code",
	   "execution_count": null,
	   "metadata": {
	    "collapsed": true
	   },
	   "outputs": [],
"source": [
"clc\n",
"Vl=2300 //terminal voltage of synchronous motor in volts\n",
"Il=8.8 //minimum line current in ampere\n",
"P=sqrt(3)*Vl*Il\n",
"mprintf('P=%fKW\n',P/1000)//power drawn from the line //ans may vary due to round off error\n",
"pf=0.8 //operating power factor\n",
"mprintf('HP=P/746=%fhp\n',P/746)//ans may vary due to round off error //conversion of power to hp requires division by 746\n",
"S=P/(pf*1000) //total volt amperes of motor in kVA\n",
"mprintf('Q=|S|sinθΦm=|S|sin cos-1(pf)=%fkVAR',S*sin(acos(pf))) //kVAR supplied by motor to the system //ans may vary due to roundoff error\n",
"\n",
"\n",
"\n",
"\n",
"\n",
"\n",
"\n",
"\n",
"\n",
"\n",
"\n",
""
   ]
   }
,
{
		   "cell_type": "markdown",
		   "metadata": {},
		   "source": [
			"## Example 2.5: EX2_5.sce"
		   ]
		  },
  {
"cell_type": "code",
	   "execution_count": null,
	   "metadata": {
	    "collapsed": true
	   },
	   "outputs": [],
"source": [
"clc\n",
"//the following code contains userdefined fucntion complexstring \n",
"function s=complexstring(a)\n",
"    \n",
"    if imag(a)>=0 then\n",
"        s=sprintf('%g+%gi',real(a),imag(a))\n",
"    else\n",
"        s=sprintf('%g%gi',real(a),imag(a))\n",
"        \n",
"    end\n",
"    funcprot(0)\n",
"endfunction\n",
"Load=5000 //load of the plant in kW\n",
"pf1=0.8 //power factor of load(lagging)\n",
"pf2=0.9 //power factor of induction motor\n",
"pf3=0.8 //power factor of synchronous motor\n",
"Hp=500 //rating of induction motor to be replaced in hp\n",
"Pout=0.746*Hp //output power of induction motor in kW\n",
"Eta=0.96 //efficiency of the induction motor equal to η in textbook\n",
"Sp=Load+(Load*tan(acos(pf1)))*%i //original complex power of load in kVA\n",
"disp('Sp=' + complexstring(Sp)+'kVA')\n",
"Pin=Pout/Eta //input power in kW\n",
"mprintf('Pin=%fkW\n',Pin)//complex power of induction motor //the ans may vary due to round off error\n",
"Sm=Pin+(Pin*tan(acos(pf2)))*%i\n",
"disp('Sm='+complexstring(Sm)+'kVA')//the ans may vary due to round off error //complex power of induction motor\n",
"mprintf('\n')\n",
"Ss=Pin-(Pin*tan(acos(pf3)))*%i\n",
"disp('Ss='+complexstring(Ss)+'kVA')//complex power of synchronous machine //the ans may vary due to round off error\n",
"mprintf('\n')\n",
"Qm=(Pin*tan(acos(pf2)))*%i//reactive power of induction motor in kVAR\n",
"Qs=(-1*(Pin*tan(acos(pf3)))*%i)//reactive power of synchronous motor in kVAR\n",
"Sp1=Sp-Qm+Qs\n",
"disp('Sp1='+complexstring(Sp1)+'kVA')//new plant requirement,equal to Sp` in textbook\n",
"mprintf('\n')\n",
"pha=acos(real(Sp1)/abs(Sp1)) //phase angle of Sp1 in radians\n",
"mprintf('New power factor=%f\n',cos(pha))//new power factor //the ans may vary due to round off error\n",
"invl=abs(Sp)//initial value of complex power in kVA\n",
"fnvl=abs(Sp1) //final value of complex power in kVA \n",
"mprintf('Percent reduction=%f%c\n',(((invl-fnvl)/invl)*100),'%')//the ans may vary due to round off error\n",
"\n",
"\n",
"\n",
"\n",
"\n",
"\n",
"\n",
"\n",
"\n",
""
   ]
   }
,
{
		   "cell_type": "markdown",
		   "metadata": {},
		   "source": [
			"## Example 2.6: EX2_6.sce"
		   ]
		  },
  {
"cell_type": "code",
	   "execution_count": null,
	   "metadata": {
	    "collapsed": true
	   },
	   "outputs": [],
"source": [
"clc\n",
"//the example below is an extension of Ex2_5\n",
"//the following code contains userdefined fucntion complexstring \n",
"function s=complexstring(a)\n",
"    \n",
"    if imag(a)>=0 then\n",
"        s=sprintf('%g+%gi',real(a),imag(a))\n",
"    else\n",
"        s=sprintf('%g%gi',real(a),imag(a))\n",
"        \n",
"    end\n",
"    funcprot(0)\n",
"endfunction\n",
"Load=5000 //load of the plant in kW\n",
"pf1=0.8 //power factor of load(lagging)\n",
"Sp=Load+(Load*tan(acos(pf1)))*%i //original complex power of load in kVA\n",
"disp('Sp='+complexstring(Sp)+'kVA')\n",
"pf2=0.9 //new power factor\n",
"Qp1=real(Sp)*tan(acos(0.9)) //reactive power,equal to Qp` in textbook\n",
"mprintf('Qp`=%fkVAR\n',Qp1)//the ans vary due to roundoff error\n",
"Qp=imag(Sp)\n",
"mprintf('Qs=%fkVAR',Qp1-Qp)//KVAR to be supplied by synchronous condenser\n",
"\n",
"\n",
"\n",
"\n",
""
   ]
   }
,
{
		   "cell_type": "markdown",
		   "metadata": {},
		   "source": [
			"## Example 2.7: Calculate_the_excitation_requirement_for_the_alternator.sce"
		   ]
		  },
  {
"cell_type": "code",
	   "execution_count": null,
	   "metadata": {
	    "collapsed": true
	   },
	   "outputs": [],
"source": [
"clc\n",
"\n",
"//the code below uses userdefined complexstring function\n",
"function s=complexstring(a)\n",
"    \n",
"    \n",
"    if imag(a)>=0 then\n",
"        s=sprintf('%g+%gi',real(a),imag(a))\n",
"    else\n",
"        s=sprintf('%g%gi',real(a),imag(a))\n",
"        \n",
"    end\n",
"    funcprot(0)\n",
"endfunction\n",
"VLB=2400 //line to base voltage in volts\n",
"V1=VLB/sqrt(3)  //reference phasor in volts //ans may vary due to roundoff error\n",
"mprintf('V1=%fV\n',V1)\n",
"kVAB=9375 //rated kVA\n",
"I1B=(kVAB*1000)/(sqrt(3)*VLB)\n",
"pf=0.8 //power factor\n",
"mprintf('I1B=%fA\n',I1B) //ans may vary due to roundoff error\n",
"I1=I1B*exp((-1)*%i*(acos(pf)))\n",
"disp('I1='+complexstring(I1)+'A')//ans may vary due to roundoff error\n",
"mprintf('\n')\n",
"x1=0.1//in ohms\n",
"disp('EΦ=V1+jI1x1='+complexstring(V1+%i*I1*x1)+'V')//ans may vary due to roundoff error\n",
"mprintf('\n')\n",
"disp('sqrt3*|EΦ|='+complexstring((abs(V1+%i*I1*x1))*sqrt(3))+'V')\n",
"Ifu=110 //value in ampere,dc\n",
"Ifs=149 //value in ampere,dc\n",
"ks=Ifs/Ifu\n",
"mprintf('ks=%f\n',ks) //ans may vary due to roundoff error\n",
"m1=(abs((V1+%i*I1*x1)))/Ifs //equal to m` in textbook\n",
"mprintf('ḿ́=|EΦ|/Ifs=%fΩ\n',m1)//ans may vary due to roundoff error\n",
"xdu=0.8 //in ohms\n",
"xd=x1+((xdu-x1)/ks)\n",
"mprintf('xd=x1+(xdu-x1)/ks=%fΩ\n',xd)//ans may vary due to roundoff error\n",
"Ef=V1+(%i*I1*xd)\n",
"disp('Ef='+complexstring(Ef)+'V')//ans may vary due to roundoff error\n",
"mprintf('\n')\n",
"mprintf('If=%fA\n',abs(Ef)/m1)//ans may vary due to roundoff error\n",
"\n",
"\n",
"\n",
"\n",
"\n",
"\n",
"\n",
"\n",
"\n",
"\n",
"\n",
""
   ]
   }
,
{
		   "cell_type": "markdown",
		   "metadata": {},
		   "source": [
			"## Example 2.8: Find_filed_current_and_open_circuit_voltage_and_maximumkVAR.sce"
		   ]
		  },
  {
"cell_type": "code",
	   "execution_count": null,
	   "metadata": {
	    "collapsed": true
	   },
	   "outputs": [],
"source": [
"clc\n",
"VLB=2400 //line to base voltage in volts\n",
"Ix=2005 //current in amperes\n",
"xda=VLB/(sqrt(3)*Ix)\n",
"mprintf('xda=%fΩ\n',xda)//ans may vary due to roundoff error\n",
"Ifv=116 //current in amperes\n",
"ma1=VLB/(sqrt(3)*Ifv)//equal to ma` in textbook\n",
"mprintf('má=V1B/Ifv=%fΩ\n',ma1)//ans may vary due to roundoff error\n",
"//from ex 2_7\n",
"V1=VLB/sqrt(3)  //reference phasor in volts \n",
"kVAB=9375 //rated kVA\n",
"I1B=(kVAB*1000)/(sqrt(3)*VLB)//current in amperes\n",
"pf=0.8 //power factor\n",
"I1=I1B*exp((-1)*%i*(acos(pf)))//current in amperes\n",
"Ef=V1+%i*I1*xda\n",
"disp('Ef='+complexstring(Ef)+'V')//ans may vary due to roundoff error\n",
"mprintf('If=|Ef|/má=%fA\n',abs(Ef)/ma1)//ans may vary due to roundoff error\n",
"Voc=2960 //line to line volatge in Volts\n",
"mprintf('V1oc=%fV\n',Voc/sqrt(3))//ans may vary due to roundoff error\n",
"If=240 //current in amperes\n",
"Efmax=ma1*If\n",
"mprintf('Efmax=%dV\n',Efmax)//ans in textbook is wrong\n",
"I1max=(Efmax-V1)/xda //ans in textbook is wrong\n",
"mprintf('I1max=%fA\n',I1max)//ans may vary due to roundoff error\n",
"mprintf('Qmax=%fMVAR',sqrt(3)*VLB*I1max*(10^-6))//ans may vary due to roundoff error\n",
"\n",
"\n",
"\n",
"\n",
"\n",
"\n",
""
   ]
   }
],
"metadata": {
		  "kernelspec": {
		   "display_name": "Scilab",
		   "language": "scilab",
		   "name": "scilab"
		  },
		  "language_info": {
		   "file_extension": ".sce",
		   "help_links": [
			{
			 "text": "MetaKernel Magics",
			 "url": "https://github.com/calysto/metakernel/blob/master/metakernel/magics/README.md"
			}
		   ],
		   "mimetype": "text/x-octave",
		   "name": "scilab",
		   "version": "0.7.1"
		  }
		 },
		 "nbformat": 4,
		 "nbformat_minor": 0
}
