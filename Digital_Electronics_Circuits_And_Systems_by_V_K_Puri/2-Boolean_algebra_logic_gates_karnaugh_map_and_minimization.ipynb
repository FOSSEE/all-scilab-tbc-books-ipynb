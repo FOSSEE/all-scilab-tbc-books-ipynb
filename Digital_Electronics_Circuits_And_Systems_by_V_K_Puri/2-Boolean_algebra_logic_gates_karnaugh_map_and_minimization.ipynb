{
"cells": [
 {
		   "cell_type": "markdown",
	   "metadata": {},
	   "source": [
       "# Chapter 2: Boolean algebra logic gates karnaugh map and minimization"
	   ]
	},
{
		   "cell_type": "markdown",
		   "metadata": {},
		   "source": [
			"## Example 2.10_a: simplification_of_boolean_expression.sce"
		   ]
		  },
  {
"cell_type": "code",
	   "execution_count": null,
	   "metadata": {
	    "collapsed": true
	   },
	   "outputs": [],
"source": [
"//simplification of boolean expressions//\n",
"//example 10.a//\n",
"clc\n",
"//clears the command window//\n",
"clear\n",
"//clears//\n",
"//simplification of boolean expression//\n",
"disp('given Y=(A+B)''.(A''+B'')''')\n",
"disp('Y=(A''.B'').(A.B)');//applying De Morgan's law//\n",
"disp('Y=AA''.BB''')\n",
"disp('the simplified expression is:')\n",
"disp('Y=0');//since x.x''=0//\n",
"//simplified boolean expression//"
   ]
   }
,
{
		   "cell_type": "markdown",
		   "metadata": {},
		   "source": [
			"## Example 2.10_b: simplification_of_boolean_expression.sce"
		   ]
		  },
  {
"cell_type": "code",
	   "execution_count": null,
	   "metadata": {
	    "collapsed": true
	   },
	   "outputs": [],
"source": [
"//simplification of boolean expressions//\n",
"//example 10.b//\n",
"clc\n",
"//clears the command window//\n",
"clear\n",
"//clears//\n",
"//simplification of boolean expression//\n",
"disp('Y=ABC+A''B+ABC''')\n",
"disp('Y=AB(C+C'')+A''B')\n",
"disp('Y=B(A+A'')');//C+C''=1//\n",
"disp('the simplified expression is:')\n",
"disp('Y=B');//simplified expression//\n",
""
   ]
   }
,
{
		   "cell_type": "markdown",
		   "metadata": {},
		   "source": [
			"## Example 2.10_c: simplification_of_boolean_expression.sce"
		   ]
		  },
  {
"cell_type": "code",
	   "execution_count": null,
	   "metadata": {
	    "collapsed": true
	   },
	   "outputs": [],
"source": [
"//simplification of boolean expressions//\n",
"//example 10.c//\n",
"clc\n",
"//clears the command window//\n",
"clear\n",
"//clears//\n",
"//simplification of boolean expression//\n",
"disp('given Y=C(AB''+AB)+BC')\n",
"disp('Y=CA(B''+B)+BC')\n",
"disp('Y=CA+BC');//B+B''=1//\n",
"disp('the simplified expression is:')\n",
"disp('Y=C(A+B)')\n",
"//simplified boolean expression//"
   ]
   }
,
{
		   "cell_type": "markdown",
		   "metadata": {},
		   "source": [
			"## Example 2.11: simplification_of_boolean_expression.sce"
		   ]
		  },
  {
"cell_type": "code",
	   "execution_count": null,
	   "metadata": {
	    "collapsed": true
	   },
	   "outputs": [],
"source": [
"//simplification of boolean expressions//\n",
"//example 11//\n",
"clc\n",
"//clears the command window//\n",
"clear\n",
"//clears//\n",
"//simplification of boolean expression//\n",
"disp('given Y=ABCD+ABCD''+A''BCD+A''BCD''')\n",
"disp('Y=BC(AD+AD''+A''D+A''D'')')\n",
"disp('Y=BC{A(D+D'')+A''(D+D'')}')\n",
"disp('Y=BC(A.1+A''.1)')\n",
"disp('BC(A+A'')')\n",
"disp('the simplified expression is:')\n",
"disp('Y=BC');//simplified boolean expression//"
   ]
   }
,
{
		   "cell_type": "markdown",
		   "metadata": {},
		   "source": [
			"## Example 2.13_a: simplification_of_boolean_expression.sce"
		   ]
		  },
  {
"cell_type": "code",
	   "execution_count": null,
	   "metadata": {
	    "collapsed": true
	   },
	   "outputs": [],
"source": [
"//simplification of boolean expressions//\n",
"//example 13.a//\n",
"clc\n",
"//clears the command window//\n",
"clear\n",
"//clears//\n",
"disp('given Z=(AB''C''+AB''C+ABC+ABC'')(A+B)')\n",
"disp('Z={}AB''(C+C'')+AB(C+C'')}(A+B)')\n",
"disp('Z=(AB''+AB)(A+B)')\n",
"disp('Z=A(B''+B)(A+B)')\n",
"disp('Z=A.1.(A+B)')\n",
"disp('Z=AA+AB')\n",
"disp('Z=A+AB')\n",
"disp('Z=A(1+B)')\n",
"disp('the simplified expression is:')\n",
"disp('A');//simplified boolean expression//"
   ]
   }
,
{
		   "cell_type": "markdown",
		   "metadata": {},
		   "source": [
			"## Example 2.13_b: simplification_of_boolean_expression.sce"
		   ]
		  },
  {
"cell_type": "code",
	   "execution_count": null,
	   "metadata": {
	    "collapsed": true
	   },
	   "outputs": [],
"source": [
"//simplification of boolean expressions//\n",
"//example 13.b//\n",
"clc\n",
"//clears the command window//\n",
"clear\n",
"//clears//\n",
"disp('given A=P+P''QR''+(Q+R)''')\n",
"disp('A=P+P''QR''+Q''.R''');//DE MORGAN'S LAW//\n",
"disp('A=P+R''(P''Q+Q'')')\n",
"disp('A=P+R''[P''Q+Q''(P+P'')]')\n",
"disp('A=P+R''[P''(Q+Q'')+PQ'']')\n",
"disp('A=P+R''[P''+PQ]')\n",
"disp('A=P+R''{(P''+P).(P''+Q'')}')\n",
"disp('A=P+R''(P''+Q'')')\n",
"disp('A=P+P''R''+Q''R''')\n",
"disp('A=(P+P'').(P''+R'')+Q''R''')\n",
"disp('A=1.(P+R'')+Q''R''')\n",
"disp('A=P+R''+Q''R''')\n",
"disp('A=P+R''+Q''R''')\n",
"disp('A=P+R''(1+Q'')')\n",
"disp('the simplified expression is:')\n",
"disp('A=P+R''')"
   ]
   }
,
{
		   "cell_type": "markdown",
		   "metadata": {},
		   "source": [
			"## Example 2.29: finding_SOP.sce"
		   ]
		  },
  {
"cell_type": "code",
	   "execution_count": null,
	   "metadata": {
	    "collapsed": true
	   },
	   "outputs": [],
"source": [
"//finding SOP//\n",
"//example 29//\n",
"clc\n",
"//clears the command window//\n",
"clear\n",
"//clears//\n",
"disp('f=summation(1,2,4,7)')\n",
"disp('f=001+0101+100+111')\n",
"disp('required SOP form:')\n",
"disp('f=A''B''C+A''BC''+AB''C''+ABC');"
   ]
   }
,
{
		   "cell_type": "markdown",
		   "metadata": {},
		   "source": [
			"## Example 2.30: finding_POS.sce"
		   ]
		  },
  {
"cell_type": "code",
	   "execution_count": null,
	   "metadata": {
	    "collapsed": true
	   },
	   "outputs": [],
"source": [
"//finding POS//\n",
"//example 30//\n",
"clc\n",
"//clears the command window//\n",
"clear\n",
"//clears//\n",
"disp('given f=product(0,3,5,6)')\n",
"disp('this indicates (000)(011)(101)(110)')\n",
"disp('f=(A+B+C)(A+B''+C'')(A''+B+C'')(A''+B''+C)');//required POS expression//"
   ]
   }
,
{
		   "cell_type": "markdown",
		   "metadata": {},
		   "source": [
			"## Example 2.31_a: conversion_to_canonical_SOP.sce"
		   ]
		  },
  {
"cell_type": "code",
	   "execution_count": null,
	   "metadata": {
	    "collapsed": true
	   },
	   "outputs": [],
"source": [
"//conversion to canonical SOP//\n",
"//example 31.a//\n",
"clc\n",
"//clears the command window//\n",
"clear\n",
"//clears//\n",
"//conversion to canonical SOP//\n",
"disp('given Y=AB+A''B''+AC+A''C''')\n",
"disp('since x+x''=1,we get')\n",
"disp('Y=AB(C+C'')+A''B''(C+C'')+AC(B+B'')+A''C''(B+B'')')\n",
"disp('Y=ABC+ABC''+A''B''C+A''B''C''+ACB''+ACB''+A''C''B+A''C''B''')\n",
"disp('since ABC and A''B''C'' appear twice,we write them once')\n",
"disp('Y=ABC+ABC''+A''B''C+A''B''C''+AB''C+A''BC''')\n",
"disp('the required SOP expression')\n",
"disp('Y=111+110+001+000+101+010')\n",
"disp('hence the required entries will be at the positions 0,1,2,5,6,7')\n",
"disp('f=summation(0,1,2,5,6,7)')"
   ]
   }
,
{
		   "cell_type": "markdown",
		   "metadata": {},
		   "source": [
			"## Example 2.31_b: conversion_to_canonical_POS.sce"
		   ]
		  },
  {
"cell_type": "code",
	   "execution_count": null,
	   "metadata": {
	    "collapsed": true
	   },
	   "outputs": [],
"source": [
"//conversion to canonical POS//\n",
"//example 31.b//\n",
"clc\n",
"//clears the command window//\n",
"clear\n",
"//clears//\n",
"//conversion to canonical POS//\n",
"disp('given Y=AB+A''B''+AC+A''C''')\n",
"disp('we use the complement of the previous example')\n",
"disp('the entries will be at 3,4 i.e. 011,100 positions')\n",
"disp('Y=A''BC+AB''C''')\n",
"disp('Y=(A''BC.AB''C'')''')\n",
"//de morgan's theorem//\n",
"disp('Y=(A+B''+C'').(A''+B+C)')\n",
"disp('the required POS expression')"
   ]
   }
,
{
		   "cell_type": "markdown",
		   "metadata": {},
		   "source": [
			"## Example 2.32: finding_SOP_and_POS.sce"
		   ]
		  },
  {
"cell_type": "code",
	   "execution_count": null,
	   "metadata": {
	    "collapsed": true
	   },
	   "outputs": [],
"source": [
"//finding SOP and POS//\n",
"//example 32//\n",
"clc\n",
"//clears the command window//\n",
"clear\n",
"//clears//\n",
"disp('given f=A''.(B+C'')')\n",
"disp('f=(A''+BB''+CC'')(B+C''+AA'')')\n",
"disp('f=[(A''+B)(A''+B'')+CC''][(B+C''+A)(B+C''+A'')]')\n",
"disp('f=[C+(A''+B)(A''+B'')][C''+(A''+B)(A''+B)][(A+B+C'')(A''+B+C'')')\n",
"disp('f=(C+A''+B)(C+A''+B'')(C''+A''+B)(C''+A''+B'')(A+B+C'')(A''+B+C)')\n",
"disp('f=(A''+B+C)(A''+B''+C'')(A''+B+C'')(A''+B''+C'')(A+B+C'')')\n",
"disp('f=(100)(110)(101)(111)(001)')\n",
"disp('required POS form is:')\n",
"disp('f=product(1,4,5,6,7)');//required POS form//\n",
"disp('f=A''(B+C'')')\n",
"disp('f=A''B+A''C'')')\n",
"disp('f=A''B(C+C'')+A''C''(B+B'')')\n",
"disp('f=A''BC+A''BC''+A''BC''+A''B''C''')\n",
"disp('f=011+010+000')\n",
"disp('required SOP form is:')\n",
"disp('f=summation(0,2,3)');//required SOP form// \n",
" "
   ]
   }
,
{
		   "cell_type": "markdown",
		   "metadata": {},
		   "source": [
			"## Example 2.33: finding_SOP_and_POS.sce"
		   ]
		  },
  {
"cell_type": "code",
	   "execution_count": null,
	   "metadata": {
	    "collapsed": true
	   },
	   "outputs": [],
"source": [
"//finding SOP and POS//\n",
"//example 33//\n",
"clc\n",
"//clears the command window//\n",
"clear\n",
"//clears//\n",
"disp('given f=B''C')\n",
"disp('f=(B''+AA''+CC'')(C+AA''+BB'')')\n",
"disp('f=((B''+A)(B''+A'')+CC'')((C+A)(C+A'')+BB'')')\n",
"disp('f=[C+(B''+A)(B''+A'')][C''+(B''+A)(B''+A'')][B+(C+A)(C+A'')][B''+(C+A)+(C+A'')]');//using distributive property//\n",
"disp('f=(A+B''+C)(A''+B''+C)(A+B''+C'')(A''+B''+C'')(A+B+C)(A''+B+C)');//using distributive property and retaining repeated factors only once//\n",
"disp('f=(010)(110)(011)(111)(000)(100)')\n",
"disp('required POS form:')\n",
"disp('f=product(0,2,3,4,6,7)')\n",
"//finding SOP//\n",
"disp('f=(A+A'').B''C')\n",
"disp('f=AB''C+A''BC')\n",
"disp('f=101+001')\n",
"disp('required SOP form:')\n",
"disp('f=summation(5,1)')"
   ]
   }
,
{
		   "cell_type": "markdown",
		   "metadata": {},
		   "source": [
			"## Example 2.34: finding_maxterms_and_minterms.sce"
		   ]
		  },
  {
"cell_type": "code",
	   "execution_count": null,
	   "metadata": {
	    "collapsed": true
	   },
	   "outputs": [],
"source": [
"//finding maxterms and minterms//\n",
"//example 34//\n",
"clc\n",
"//clears the command window//\n",
"clear\n",
"//clears//\n",
"//finding minterms and maxterms//\n",
"disp('given Y=AC''+A''C')\n",
"disp('Y=A''C(B+B'')+AC''(B+B'')')\n",
"disp('Y=A''CB+A''CB''+AC''B+AC''B''')\n",
"disp('these are the required minterms')\n",
"disp('the minterms indicate the positions 1,3,4,6')\n",
"disp('the maxterms indicate the positions 0,2,5,7')\n",
"//complementary of minterms//\n",
"disp('Y=(A+B+C)(A+B''+C)+(A''+B+C'')(A''+B''+C'')')\n",
"disp('these are the required maxterms')\n",
""
   ]
   }
,
{
		   "cell_type": "markdown",
		   "metadata": {},
		   "source": [
			"## Example 2.35: finding_maxterms.sce"
		   ]
		  },
  {
"cell_type": "code",
	   "execution_count": null,
	   "metadata": {
	    "collapsed": true
	   },
	   "outputs": [],
"source": [
"//finding maxterms//\n",
"//example 35//\n",
"clc\n",
"//clears the command window//\n",
"clear\n",
"//clears//\n",
"disp('given f=product(0,3,5,6)')\n",
"disp('f=(000)(011)(101)(110)')\n",
"disp('required maxterms:')\n",
"disp('f=(A+B+C)(A+B''+C'')(A''+B+C'')(A''+B''+C)')\n",
""
   ]
   }
,
{
		   "cell_type": "markdown",
		   "metadata": {},
		   "source": [
			"## Example 2.36: finding_required_data.sce"
		   ]
		  },
  {
"cell_type": "code",
	   "execution_count": null,
	   "metadata": {
	    "collapsed": true
	   },
	   "outputs": [],
"source": [
"//finding required data//\n",
"//example 36//\n",
"clc\n",
"//clears the command window//\n",
"clear\n",
"//clears//\n",
"disp('f=A''B''C+A''BC''+AB''C+ABC''');//since f is 1 at positions 1,2,5,6;this is the required SOP expression//\n",
"disp('f=(A+B+C)(A+B''+C'')(A''+B+C)(A''+B''+C'')');//since f is 0 at 0,3,4,7;this is the required POS expression//\n",
"disp('sum of minterms=summation(1,2,5,6)')\n",
"disp('product of maxterms=product(0,3,4,7)')\n",
""
   ]
   }
,
{
		   "cell_type": "markdown",
		   "metadata": {},
		   "source": [
			"## Example 2.37: finding_SOP.sce"
		   ]
		  },
  {
"cell_type": "code",
	   "execution_count": null,
	   "metadata": {
	    "collapsed": true
	   },
	   "outputs": [],
"source": [
"//finding SOP//\n",
"//example 37//\n",
"clc\n",
"//clears the command window//\n",
"clear\n",
"//clears//\n",
"disp('given f=AC')\n",
"disp('f=AC(B+B'')(D+D'')')\n",
"disp('f=ACBD+ACBD''+ACB''D+ACB''D''');//required sum of minterms//\n",
"disp('f=1111+1110+1011+1010')\n",
"disp('required SOP form:')\n",
"disp('f=summation(10,11,14,15)')"
   ]
   }
,
{
		   "cell_type": "markdown",
		   "metadata": {},
		   "source": [
			"## Example 2.38: finding_sum_of_minterms_and_product_of_maxterms.sce"
		   ]
		  },
  {
"cell_type": "code",
	   "execution_count": null,
	   "metadata": {
	    "collapsed": true
	   },
	   "outputs": [],
"source": [
"//sum of minterms and product of maxterms//\n",
"//example 38//\n",
"clc\n",
"//clears the command window//\n",
"clear\n",
"//clears//\n",
"disp('given f=AB+A''BC+C''D')\n",
"disp('f=AB(C+C'')(D+D'')+AB''C(D+D'')+C''D(A+A'')(B+B'')')\n",
"disp('required sum of minterms:')\n",
"disp('f=ABCD+ABCD''+ABC''D+ABC''D''+AB''CD+AB''CD''+AB''C''D+A''BC''D+A''B''C''D')\n",
"disp('f=summation(1,5,9,10,11,12,13,14,15')\n",
"disp('therefore f=product(0,2,3,4,6,7,8)')\n",
"disp('required product of maxterms:')\n",
"disp('f=(A+B+C+D)(A+B+C''+D)(A+B+C''+D'')(A+B+C''+D'')(A+B''+C+D)(A+B''+C''+D)(A+B''+C''+D'')(A''+B+C+D)')"
   ]
   }
,
{
		   "cell_type": "markdown",
		   "metadata": {},
		   "source": [
			"## Example 2.8_a: simplification_of_boolean_expression.sce"
		   ]
		  },
  {
"cell_type": "code",
	   "execution_count": null,
	   "metadata": {
	    "collapsed": true
	   },
	   "outputs": [],
"source": [
"//simplification of boolean expression//\n",
"//example 8.a//\n",
"clc\n",
"//clears the command window//\n",
"clear\n",
"//clears//\n",
"disp('given Y=AB+AB''C(B''C''+C)+A''C''')\n",
"disp('Y=AB+AB''B''CC''+AB''CC+A''C''');//ON MULTIPLICATION//\n",
"disp('Y=AB+AB''C+A''+C''');//CC''=0//\n",
"disp('Y=C''+AB+(A+A'')(A''+B''C)')\n",
"disp('Y=C''+AB+1.(A''+B''C)')\n",
"disp('Y=A''+A.B+C''+B''C')\n",
"disp('Y=(A''+A).(A''+B)+(C''+B'').(C''+C)')\n",
"disp('Y=1.(A''+B)+(C''+B'').1')\n",
"disp('the simplified expression is:')\n",
"disp('Y=A''+B+C''+B''');//required simplified expression//"
   ]
   }
,
{
		   "cell_type": "markdown",
		   "metadata": {},
		   "source": [
			"## Example 2.8_b: simplification_of_boolean_expression.sce"
		   ]
		  },
  {
"cell_type": "code",
	   "execution_count": null,
	   "metadata": {
	    "collapsed": true
	   },
	   "outputs": [],
"source": [
"//simplification of boolean expression//\n",
"//example 8.b//\n",
"clc\n",
"//clears the command window//\n",
"clear\n",
"//clears//\n",
"disp('given Y=A''BC''+A''BC+AB''C''+ABC')\n",
"disp('Y=A''BC''+A''BC+A''BC+AB''C''+ABC')\n",
"disp('Y=A''B(C+C'')+A''BC+AB''C+AB''C''')\n",
"disp('Y=A''B.1+BC(A+A'')+AB''C''');//C+C''=1//\n",
"disp('Y=A''B+BC+AB''C''');//A+A''=1//\n",
"disp('the simplified expression is:')\n",
"disp('Y=B.(A''+C)+AB''C''');//required simplified expression//"
   ]
   }
,
{
		   "cell_type": "markdown",
		   "metadata": {},
		   "source": [
			"## Example 2.9_a: simplification_of_boolean_expression.sce"
		   ]
		  },
  {
"cell_type": "code",
	   "execution_count": null,
	   "metadata": {
	    "collapsed": true
	   },
	   "outputs": [],
"source": [
"//simplification of boolean expression//\n",
"//example 9.a//\n",
"clc\n",
"//clears the command window//\n",
"clear\n",
"//clears//\n",
"//simplification of boolean expression//\n",
"disp('given Y=ABC''D''+ABC''D+ABCD''+ABCD')\n",
"disp('since D+D''=1,we get')\n",
"disp('Y=ABC''(D+D'')+ABC(D''+D)')\n",
"disp('Y=ABC''+ABC')\n",
"disp('Y=AB(C+C'')')\n",
"disp('the simplified expression is:')\n",
"disp('Y=AB');//C+C'=1//\n",
"//answer after simplification//"
   ]
   }
,
{
		   "cell_type": "markdown",
		   "metadata": {},
		   "source": [
			"## Example 2.9_b: simplification_of_boolean_expression.sce"
		   ]
		  },
  {
"cell_type": "code",
	   "execution_count": null,
	   "metadata": {
	    "collapsed": true
	   },
	   "outputs": [],
"source": [
"//simplification of boolean expression//\n",
"//example 9.b//\n",
"clc\n",
"//clears the command window//\n",
"clear\n",
"//clears//\n",
"//simplification of boolean expression//\n",
"disp('given Y=AB+ABC''+A''BC+ABC')\n",
"disp ('on simplification we get')\n",
"disp('Y=AB+ABC''+A''BC+ABC+A''BC')\n",
"disp('Y=AB+AB(C+C'')+BC(A+A'')')\n",
"disp('since x+x''=1,we get')\n",
"disp('Y=AB+AB+BC')\n",
"disp('Y=AB+BC')\n",
"disp('the simplified expression is:')\n",
"disp('Y=B(A+C)')\n",
"//answer after simplification//"
   ]
   }
,
{
		   "cell_type": "markdown",
		   "metadata": {},
		   "source": [
			"## Example 2.9_c: simplification_of_boolean_expression.sce"
		   ]
		  },
  {
"cell_type": "code",
	   "execution_count": null,
	   "metadata": {
	    "collapsed": true
	   },
	   "outputs": [],
"source": [
"//simplification of boolean expressions//\n",
"//example 9.c//\n",
"clc\n",
"//clears the command window//\n",
"clear\n",
"//clears//\n",
"//simplification of boolean expression//\n",
"disp('given Y=AB(A''BC''+AB''C''+A''BC)')\n",
"disp('on multiplication')\n",
"disp('Y=ABA''BC''+ABAB''C''+ABA''BC')\n",
"disp('Y=AA''.BC''+AB''.B''C''+AA''.BC')\n",
"disp('since x.x''=0')\n",
"disp('Y=0.BC''+A.0.C''+0.BC')\n",
"disp('Y=0')\n",
"//answer after simplification//\n",
""
   ]
   }
],
"metadata": {
		  "kernelspec": {
		   "display_name": "Scilab",
		   "language": "scilab",
		   "name": "scilab"
		  },
		  "language_info": {
		   "file_extension": ".sce",
		   "help_links": [
			{
			 "text": "MetaKernel Magics",
			 "url": "https://github.com/calysto/metakernel/blob/master/metakernel/magics/README.md"
			}
		   ],
		   "mimetype": "text/x-octave",
		   "name": "scilab",
		   "version": "0.7.1"
		  }
		 },
		 "nbformat": 4,
		 "nbformat_minor": 0
}
