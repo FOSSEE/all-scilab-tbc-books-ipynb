{
"cells": [
 {
		   "cell_type": "markdown",
	   "metadata": {},
	   "source": [
       "# Chapter 8: D to A and A to D converters"
	   ]
	},
{
		   "cell_type": "markdown",
		   "metadata": {},
		   "source": [
			"## Example 8.10: finding_required_data.sce"
		   ]
		  },
  {
"cell_type": "code",
	   "execution_count": null,
	   "metadata": {
	    "collapsed": true
	   },
	   "outputs": [],
"source": [
"//calculating required data//\n",
"//example 10//\n",
"clc\n",
"//clears the command window//;\n",
"clear\n",
"//clears//\n",
"S=10/10^3;//step size=weight of Ao in V//\n",
"printf('step size=%f volt\n',S);//displaying step size//\n",
"n=99;//no. of steps//\n",
"Vmax=S*n;//maximum full scale output//\n",
"printf('maximum full scale output=%f volt\n',Vmax);//displaying full scale output//\n",
"R=S/Vmax*100;//percentage resolution//\n",
"printf('percentage resolution=%f percent\n',R);//percentage resolution displayed//\n",
"Ao=10/10^3 \n",
"Bo=20/10^3 \n",
"Co=40/10^3 \n",
"Do=80/10^3\n",
"A1=100/10^3\n",
"B1=200/10^3\n",
"C1=400/10^3\n",
"D1=800/10^3\n",
"//weight in V of different inputs//\n",
"//input for D1,C1,B1,A1 is 1101 and for Do,Co,Bo,Ao is 1011//\n",
"V=D1+C1+A1+Do+Bo+Ao;//analog output voltage//\n",
"printf('analog output voltage=%f volt',V);//result displayed//"
   ]
   }
,
{
		   "cell_type": "markdown",
		   "metadata": {},
		   "source": [
			"## Example 8.11: calculating_output_voltages.sce"
		   ]
		  },
  {
"cell_type": "code",
	   "execution_count": null,
	   "metadata": {
	    "collapsed": true
	   },
	   "outputs": [],
"source": [
"//calculating output voltages//\n",
"//example 11//\n",
"clc\n",
"//clears the command window//\n",
"clear\n",
"//clears// \n",
"V=10;//high input voltage//\n",
"VMSB=V/2;//output caused by MSB//\n",
"VMSB2=V/4;//output caused by second MSB//\n",
"VMSB3=V/8;//output caused by third MSB//\n",
"VMSB4=V/16;//output caused by fourth MSB//\n",
"VMSB5=V/32;//output caused by fifth MSB//\n",
"VMSB6=V/64;//output caused by sixth MSB//\n",
"printf('output caused by MSB=%f volt\n',VMSB)\n",
"printf('output caused by second MSB=%f volt\n',VMSB2)\n",
"printf('output caused by third MSB=%f volt\n',VMSB3)\n",
"printf('output caused by fourth MSB=%f volt\n',VMSB4)\n",
"printf('output caused by fifth MSB=%f volt\n',VMSB5)\n",
"printf('output caused by sixth MSB=%f volt\n',VMSB6)\n",
"//displaying the results//"
   ]
   }
,
{
		   "cell_type": "markdown",
		   "metadata": {},
		   "source": [
			"## Example 8.12: finding_output_voltages.sce"
		   ]
		  },
  {
"cell_type": "code",
	   "execution_count": null,
	   "metadata": {
	    "collapsed": true
	   },
	   "outputs": [],
"source": [
"//calculating required data//\n",
"//example 12//\n",
"clc\n",
"//clears the command window//\n",
"clear\n",
"//clears//\n",
"V=10;//high input voltage//\n",
"//first part//\n",
"//digital input is 101001//\n",
"Vo=(10*2^0+0+0+10*2^3+0+10*2^5)/2^6;//output voltage//\n",
"printf('output voltage for digital input 101001=%f volt\n',Vo);//displaying the result//\n",
"//second part//\n",
"//digital input is 110001//\n",
"Vo1=(10*1+0+0+0+10*16+10*32)/64;//output voltage//\n",
"printf('output voltage for input 110001=%f volt',Vo1);//displaying the result//\n",
""
   ]
   }
,
{
		   "cell_type": "markdown",
		   "metadata": {},
		   "source": [
			"## Example 8.13: calculating_maximum_scale_voltage.sce"
		   ]
		  },
  {
"cell_type": "code",
	   "execution_count": null,
	   "metadata": {
	    "collapsed": true
	   },
	   "outputs": [],
"source": [
"//calculating maximum full scale voltage//\n",
"//example 13//\n",
"clc\n",
"//clears the command window//;\n",
"clear\n",
"//clears//\n",
"//digital input is 11111111//\n",
"//high input level=10V//\n",
"Vo=10*(1+2+4+8+16+32+64+128)/256;//output voltage//\n",
"printf('maximum full scale voltage=%f volt',Vo);//result displayed//\n",
""
   ]
   }
,
{
		   "cell_type": "markdown",
		   "metadata": {},
		   "source": [
			"## Example 8.14: finding_required_data.sce"
		   ]
		  },
  {
"cell_type": "code",
	   "execution_count": null,
	   "metadata": {
	    "collapsed": true
	   },
	   "outputs": [],
"source": [
"//calculating required data//\n",
"//example 14//\n",
"clc\n",
"//clears the command window//;\n",
"clear\n",
"//clears//\n",
"//part i//\n",
"//output high voltage=10V//\n",
"VMSB1=1/2*10;//output caused by MSB//\n",
"VMSB2=1/4*10;//output caused by second MSB// \n",
"VMSB3=1/8*10;//output caused by third MSB//\n",
"VLSB=1/16*10;//output caused by LSB//\n",
"printf('output caused by msb=%f volt\n',VMSB1)\n",
"printf('output caused by second msb=%f volt\n',VMSB2)\n",
"printf('output caused by third msb=%f\n',VMSB3)\n",
"printf('output caused by lsb=%f volt\n',VLSB)\n",
"//displaying the results//\n",
"//part ii//\n",
"//input is 1011//\n",
"V=1*VMSB1+0+1*VMSB3+1*VLSB;//output voltage//\n",
"printf('output voltage at input 1011=%f volt\n',V);//displaying the result//\n",
"//3rd part//\n",
"Vo=VMSB1+VMSB2+VMSB3+VLSB;//full scale output voltage which occurs at 1111//\n",
"printf('full scale output voltage=%f volt',Vo);//displaying the result//"
   ]
   }
,
{
		   "cell_type": "markdown",
		   "metadata": {},
		   "source": [
			"## Example 8.15: calculating_number_of_bits.sce"
		   ]
		  },
  {
"cell_type": "code",
	   "execution_count": null,
	   "metadata": {
	    "collapsed": true
	   },
	   "outputs": [],
"source": [
"//calculating no of bits//\n",
"//example 15//\n",
"clc\n",
"//clears the command window//;\n",
"clear\n",
"//clears//\n",
"disp('resolution=voltage corresponding to LSB')\n",
"//weight of LSB=1/2^n,where n=no. of bits//\n",
"disp('Voltage corresponding to LSB=1/2^n*10;which should be equal to resolution which is 10mv')\n",
"disp('therefore 2^n=1000')\n",
"disp('n=10');//nearest value of n which satisfies the equation is 10//\n",
"//result is displayed//"
   ]
   }
,
{
		   "cell_type": "markdown",
		   "metadata": {},
		   "source": [
			"## Example 8.16: finding_resolution.sce"
		   ]
		  },
  {
"cell_type": "code",
	   "execution_count": null,
	   "metadata": {
	    "collapsed": true
	   },
	   "outputs": [],
"source": [
"//calculating required data// \n",
"//example 16//\n",
"clc\n",
"//clears the command window//;\n",
"clear\n",
"//clears//\n",
"V=10;//full scale voltage\n",
"W=1/2^12;//weight of LSB//\n",
"R=V*W;//resolution//\n",
"printf('resolution=%f volt\n',R);//result is displayed//\n",
"S=R;//step size//\n",
"R1=S/V*100;//percentage resolution//\n",
"printf('percentage resolution=%f percent',R1)\n",
"//result displayed//"
   ]
   }
,
{
		   "cell_type": "markdown",
		   "metadata": {},
		   "source": [
			"## Example 8.17: calculating_required_data.sce"
		   ]
		  },
  {
"cell_type": "code",
	   "execution_count": null,
	   "metadata": {
	    "collapsed": true
	   },
	   "outputs": [],
"source": [
"//calculating required data//\n",
"//example 17//\n",
"clc\n",
"//clears the command window//;\n",
"clear\n",
"//clears//\n",
"//n=no. of bits//\n",
"//resolution=1/2^n*5//\n",
"R=5*10^-3;//resolution//\n",
"V=5;//full scale output//\n",
"n=log((5*10^-3)/5)/log(.5)\n",
"//no. of bits//\n",
"n=round(n)\n",
"disp('no of bits:')\n",
"disp(n);//result is displayed//\n",
"S=1/2^n*5;//step size//\n",
"R1=S/V*100;//percentage resolution//\n",
"disp('percentage resolution:')\n",
"disp(R1)\n",
"//result is displayed//"
   ]
   }
,
{
		   "cell_type": "markdown",
		   "metadata": {},
		   "source": [
			"## Example 8.18: calculating_conversion_time.sce"
		   ]
		  },
  {
"cell_type": "code",
	   "execution_count": null,
	   "metadata": {
	    "collapsed": true
	   },
	   "outputs": [],
"source": [
"//calculating conversion time//\n",
"//example 18//\n",
"clc\n",
"//clears the command window//;\n",
"clear\n",
"//clears//\n",
"T=1/(1000*10^3);//time for one clock cycle//\n",
"disp(T)\n",
"n=10;//no. of bits//\n",
"t=(2^n-1)*T;//conversion time for 10 bit A/D converter//\n",
"disp('conversion time for digital ramp A/D converter:')\n",
"disp(t);//displaying result//\n",
"t1=T*10;\n",
"disp('conversion time for 10 bit successive approximation A/D converter:')\n",
"disp(t1)"
   ]
   }
,
{
		   "cell_type": "markdown",
		   "metadata": {},
		   "source": [
			"## Example 8.19: finding_resolution.sce"
		   ]
		  },
  {
"cell_type": "code",
	   "execution_count": null,
	   "metadata": {
	    "collapsed": true
	   },
	   "outputs": [],
"source": [
"//calculating required data//\n",
"//example 19//\n",
"clc\n",
"//clears the command window//;\n",
"clear\n",
"//clears//\n",
"E=10;//change in input voltage//\n",
"n=8;//no. of bits//\n",
"R=E/((2^n)-1);//resolution//\n",
"disp('resolution:')\n",
"disp(R);//displaying result//\n",
"R1=(1/((2^n)-1))*100;//percentage resolution//\n",
"disp('percentage resolution:')\n",
"disp(R1);//displaying result//"
   ]
   }
,
{
		   "cell_type": "markdown",
		   "metadata": {},
		   "source": [
			"## Example 8.1: finding_binary_equivalent_weights.sce"
		   ]
		  },
  {
"cell_type": "code",
	   "execution_count": null,
	   "metadata": {
	    "collapsed": true
	   },
	   "outputs": [],
"source": [
"//finding binary equivalent weights//\n",
"//example 1//\n",
"clc\n",
"//clears the command window//\n",
"clear\n",
"//clears// \n",
"n=6;//no. of bits//\n",
"LSB1=1/((2^6)-1)\n",
"printf('weight of 1st lsb=%f\n',LSB1)\n",
"LSB2=2*LSB1\n",
"printf('weight of 2nd lsb=%f\n',LSB2)\n",
"LSB3=4*LSB1\n",
"printf('weight of 3rd lsb=%f\n',LSB3)\n",
"LSB4=8*LSB1\n",
"printf('weight of 4th lsb=%f\n',LSB4)\n",
"LSB5=16*LSB1\n",
"printf('weight of 5th lsb=%f\n',LSB5)\n",
"MSB=32*LSB1\n",
"printf('weight of msb=%f',MSB)\n",
"//results are displayed//"
   ]
   }
,
{
		   "cell_type": "markdown",
		   "metadata": {},
		   "source": [
			"## Example 8.20: finding_number_of_bits.sce"
		   ]
		  },
  {
"cell_type": "code",
	   "execution_count": null,
	   "metadata": {
	    "collapsed": true
	   },
	   "outputs": [],
"source": [
"//finding no. of bits//\n",
"//example 20//\n",
"clc\n",
"//clears the command window//;\n",
"clear\n",
"//clears//\n",
"E=10;//change in input voltage//\n",
"R=10^-3;//resolution//\n",
"n=log(E/R+1)/log(2);//no of bits//\n",
"n=n+1;\n",
"n=round(n)\n",
"disp('no of bits:')\n",
"disp(n);//result displayed//"
   ]
   }
,
{
		   "cell_type": "markdown",
		   "metadata": {},
		   "source": [
			"## Example 8.21: calculating_maximum_conversion_time.sce"
		   ]
		  },
  {
"cell_type": "code",
	   "execution_count": null,
	   "metadata": {
	    "collapsed": true
	   },
	   "outputs": [],
"source": [
"//finding maximum conversion time//\n",
"//example 21//\n",
"clc\n",
"//clears the command window//;\n",
"clear\n",
"//clears//\n",
"c=2^10;//maximum no of counts//\n",
"f=2*10^-6;//counter advance rate of 1 count per second//\n",
"T=c*f;//conversion time//\n",
"disp('maximum conversion time:')\n",
"disp(T);//displaying result//"
   ]
   }
,
{
		   "cell_type": "markdown",
		   "metadata": {},
		   "source": [
			"## Example 8.22: finding_error_in_voltage.sce"
		   ]
		  },
  {
"cell_type": "code",
	   "execution_count": null,
	   "metadata": {
	    "collapsed": true
	   },
	   "outputs": [],
"source": [
"//finding required data//\n",
"//example 22//\n",
"clc\n",
"//clears the command window//;\n",
"clear\n",
"//clears//\n",
"f=500;//frequency//\n",
"F=2*f;//aperture rate//\n",
"t=5*10^-6;//aperture time//\n",
"v=2*%pi*F*t;//error in voltage//\n",
"disp('error in voltage:')\n",
"disp(v);//displaying result//\n",
"V=v*100;//percentage error//\n",
"disp('percentage error:')\n",
"disp(V);//displaying result//"
   ]
   }
,
{
		   "cell_type": "markdown",
		   "metadata": {},
		   "source": [
			"## Example 8.23: finding_aperture_time.sce"
		   ]
		  },
  {
"cell_type": "code",
	   "execution_count": null,
	   "metadata": {
	    "collapsed": true
	   },
	   "outputs": [],
"source": [
"//finding aperture time//\n",
"//example 23//\n",
"clc\n",
"//clears the command window//;\n",
"clear\n",
"//clears//\n",
"a=.5;//percentage accuracy//\n",
"f=1000;//aperture rate//\n",
"t=a/(2*%pi)*10^-5;//aperture time//\n",
"disp('aperture time:')\n",
"disp(t);//displaying result//"
   ]
   }
,
{
		   "cell_type": "markdown",
		   "metadata": {},
		   "source": [
			"## Example 8.24: finding_quantisation_error.sce"
		   ]
		  },
  {
"cell_type": "code",
	   "execution_count": null,
	   "metadata": {
	    "collapsed": true
	   },
	   "outputs": [],
"source": [
"//calculating required data//\n",
"//example 24//\n",
"clc\n",
"//clears the command window//;\n",
"clear\n",
"//clears//\n",
"n=10;//no. of bits//\n",
"q=1/(2^n)*100;//quantization error expressed as percentage//\n",
"disp('quantization percentage error:')\n",
"disp(q);//displaying result//"
   ]
   }
,
{
		   "cell_type": "markdown",
		   "metadata": {},
		   "source": [
			"## Example 8.25: finding_digital_output_in_binary_form.sce"
		   ]
		  },
  {
"cell_type": "code",
	   "execution_count": null,
	   "metadata": {
	    "collapsed": true
	   },
	   "outputs": [],
"source": [
"//finding digital output in binary form//\n",
"//example 25//\n",
"clc\n",
"//clears the command window//;\n",
"clear\n",
"//clears//\n",
"V=1.085;//analog input voltage//\n",
"R=20*10^-3;//resolution//\n",
"n=V/R;//no of steps//\n",
"n=round(n);//so that output voltage produced is less than analog input voltage//\n",
"num=dec2bin(n,8);//converting to binary//\n",
"disp('digital output:')\n",
"disp(num);//displaying result in binary form//"
   ]
   }
,
{
		   "cell_type": "markdown",
		   "metadata": {},
		   "source": [
			"## Example 8.2: calculating_required_data.sce"
		   ]
		  },
  {
"cell_type": "code",
	   "execution_count": null,
	   "metadata": {
	    "collapsed": true
	   },
	   "outputs": [],
"source": [
"//calculating the required data//\n",
"//example 2//\n",
"clc\n",
"//clears the command window//\n",
"clear\n",
"//clears// \n",
"n=4;\n",
"WLSB1=1/(2^4-1);//weight assigned to LSB//\n",
"printf('weight assigned to LSB=%f\n',WLSB1)\n",
"WLSB2=2*WLSB1;//weight assigned to 2nd LSB//\n",
"printf('weight assigned to second LSB=%f\n',WLSB2)\n",
"WLSB3=4*WLSB1;//weight assigned to 3rd LSB//\n",
"printf('weight assigned to 3rd LSB=%f\n',WLSB3)\n",
"//high level 1=10V//\n",
"V1=10*WLSB1;//change in output voltage due to change in LSB//\n",
"V2=10*8/15;//change in output voltage due to change in MSB//\n",
"printf('change in output voltage due to change in LSB=%f volt\n',V1)\n",
"printf('change in output voltage due to change in MSB=%f volt\n',V2)\n",
"//results are displayed//\n",
"disp('Vo1=(20/R+40/R+80/R)/(1/R+2/R+4/R+8/R)')\n",
"Vo1=140/15;\n",
"printf('output voltage for input 1110=%f volt\n',Vo1) \n",
"disp('Vo2=(10/R+40/R+80/R)/(1/R+2/R+4/R+8/R)')\n",
"Vo2=130/15;\n",
"printf('output voltage for input 1101=%f volt',Vo2) \n",
"//results are displayed//"
   ]
   }
,
{
		   "cell_type": "markdown",
		   "metadata": {},
		   "source": [
			"## Example 8.3: calculating_required_data.sce"
		   ]
		  },
  {
"cell_type": "code",
	   "execution_count": null,
	   "metadata": {
	    "collapsed": true
	   },
	   "outputs": [],
"source": [
"//claculating the required data//\n",
"//example 2//\n",
"clc\n",
"//clears the command window//\n",
"clear\n",
"//clears// \n",
"disp('the full scale maximum voltage occurs when all input are at high level 1')\n",
"Vm=10;//full scale maximum output voltage//\n",
"printf('full scale maximum output voltage=%d volt\n',Vm);//result is displayed//\n",
"n=5\n",
"LSB=1/((2^n)-1);//weight of LSB//\n",
"V1=10*LSB;//change in output voltage due to LSB//\n",
"printf('change in output voltage due to change in lsb=%f volt\n',V1)\n",
"disp('analog output voltage for 11001 is given by Vo=(10/R+80/R+160/R)/(1/R+2/R+4/R+8/R+16/R)')\n",
"Vo=250/31;\n",
"printf('analog output voltage for input 11001=%f volt\n',Vo)"
   ]
   }
,
{
		   "cell_type": "markdown",
		   "metadata": {},
		   "source": [
			"## Example 8.4: finding_required_data.sce"
		   ]
		  },
  {
"cell_type": "code",
	   "execution_count": null,
	   "metadata": {
	    "collapsed": true
	   },
	   "outputs": [],
"source": [
"//calculating required data//\n",
"//example 4//\n",
"clc\n",
"//clears the command window//\n",
"clear\n",
"//clears// \n",
"a=bin2dec('10010')\n",
"Vo=9*10^-3;//output voltage//\n",
"k=Vo/a;//proportionality factor//\n",
"b=bin2dec('11011')\n",
"Vo1=k*b;//analog output voltage//\n",
"printf('analog output voltage=%f volt\n',Vo1);\n",
"//maximum 5 bit digital input is 11111 i.e. 31 in decimal//\n",
"Vm=k*31;//maximum full scale output voltage//\n",
"printf('maximum full scale output voltage=%f volt',Vm);\n",
""
   ]
   }
,
{
		   "cell_type": "markdown",
		   "metadata": {},
		   "source": [
			"## Example 8.5: calculating_required_data.sce"
		   ]
		  },
  {
"cell_type": "code",
	   "execution_count": null,
	   "metadata": {
	    "collapsed": true
	   },
	   "outputs": [],
"source": [
"//calculating required data//\n",
"//example 5//\n",
"clc\n",
"//clears the command window//;\n",
"clear\n",
"//clears// \n",
"LSB1=10;//change in output voltage due to LSB//\n",
"LSB2=2*LSB1;//change in output voltage due to second LSB//\n",
"LSB3=4*LSB1;//change in output voltage due to third LSB//\n",
"LSB4=8*LSB1;//change in output voltage due to fourth LSB//\n",
"LSB5=16*LSB1;//change in output voltage due to fifth LSB//\n",
"Vmax=LSB1+LSB2+LSB3+LSB4+LSB5;//maximum full scale output which occurs at input 11111//\n",
"//all the voltage units are in mV//\n",
"printf('maximum full scale output in mV at 1111=%d volt\n',Vmax);//displaying the result//\n",
"R=10;//resolution in mV since smallest increment due to change in LSB is 10mV//\n",
"printf('resolution=%d volt\n',R);//diaplaying the result//\n",
"S=10;//step size=resolution//\n",
"R1=S/Vmax*100;//percentage resolution//\n",
"printf('percentage resolution=%f percent',R1);//displaying the result//\n",
""
   ]
   }
,
{
		   "cell_type": "markdown",
		   "metadata": {},
		   "source": [
			"## Example 8.6: calculating_required_data.sce"
		   ]
		  },
  {
"cell_type": "code",
	   "execution_count": null,
	   "metadata": {
	    "collapsed": true
	   },
	   "outputs": [],
"source": [
"//calculating required data//\n",
"//example 6//\n",
"clc\n",
"//clears the command window//;\n",
"clear\n",
"//clears//\n",
"N=(2^8)-1;//no. of steps//\n",
"M=1000/N;//no. of steps in which motor speed can varied;motor speed varies from 0 to 1000rpm//\n",
"N1=450/M;//no. of steps required to reach 450rpm//\n",
"N2=round(N1);//rounding the no. of steps//\n",
"disp('For 115th step,speed of motor will be approximately 451rpm which gives an accuracy of .22%')\n",
"//displaying the answer//\n",
""
   ]
   }
,
{
		   "cell_type": "markdown",
		   "metadata": {},
		   "source": [
			"## Example 8.7: calculating_value_of_resistors.sce"
		   ]
		  },
  {
"cell_type": "code",
	   "execution_count": null,
	   "metadata": {
	    "collapsed": true
	   },
	   "outputs": [],
"source": [
"//calculating values of resistors//\n",
"//example 7//\n",
"clc\n",
"//clears the command window//;\n",
"clear\n",
"//clears// \n",
"R1=10*10^3;//resistor in ohm for msb//\n",
"R=16*R1;//resistor for LSB//\n",
"R2=R/2;//resistor for 2nd LSB//\n",
"printf('resistor for lsb=%d ohm\n',R)\n",
"printf('resistor for 2nd lsb=%d ohm',R2)\n",
""
   ]
   }
,
{
		   "cell_type": "markdown",
		   "metadata": {},
		   "source": [
			"## Example 8.8: finding_value_of_resistor.sce"
		   ]
		  },
  {
"cell_type": "code",
	   "execution_count": null,
	   "metadata": {
	    "collapsed": true
	   },
	   "outputs": [],
"source": [
"//calculating value of resistor//\n",
"//example 8//\n",
"clc\n",
"//clears the command window//;\n",
"clear\n",
"//clears// \n",
"R=640*(10^3);//resistor for LSB//\n",
"R1=R/32;//resistor for MSB;since 6 bit,hence LSB is divided by 32//\n",
"printf('resistor for msb=%d ohm',R1);//displaying result//"
   ]
   }
,
{
		   "cell_type": "markdown",
		   "metadata": {},
		   "source": [
			"## Example 8.9: finding_required_data.sce"
		   ]
		  },
  {
"cell_type": "code",
	   "execution_count": null,
	   "metadata": {
	    "collapsed": true
	   },
	   "outputs": [],
"source": [
"//calculating required data//\n",
"//example 9//\n",
"clc\n",
"//clears the command window//;\n",
"clear\n",
"//clears// \n",
"N=2^10-1;//no. of steps//\n",
"Vmax=10*10^-3*N;//maximum full scale output//\n",
"R=(10*10^-3)/Vmax*100;//percentage resolution//\n",
"printf('maximum full scale output=%f ampere\n',Vmax)\n",
"printf('percentage resolution=%f percent',R)\n",
""
   ]
   }
],
"metadata": {
		  "kernelspec": {
		   "display_name": "Scilab",
		   "language": "scilab",
		   "name": "scilab"
		  },
		  "language_info": {
		   "file_extension": ".sce",
		   "help_links": [
			{
			 "text": "MetaKernel Magics",
			 "url": "https://github.com/calysto/metakernel/blob/master/metakernel/magics/README.md"
			}
		   ],
		   "mimetype": "text/x-octave",
		   "name": "scilab",
		   "version": "0.7.1"
		  }
		 },
		 "nbformat": 4,
		 "nbformat_minor": 0
}
