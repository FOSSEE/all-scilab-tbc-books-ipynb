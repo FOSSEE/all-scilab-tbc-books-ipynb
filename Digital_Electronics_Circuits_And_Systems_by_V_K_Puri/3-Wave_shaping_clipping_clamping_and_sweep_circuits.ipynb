{
"cells": [
 {
		   "cell_type": "markdown",
	   "metadata": {},
	   "source": [
       "# Chapter 3: Wave shaping clipping clamping and sweep circuits"
	   ]
	},
{
		   "cell_type": "markdown",
		   "metadata": {},
		   "source": [
			"## Example 3.1: finding_required_data.sce"
		   ]
		  },
  {
"cell_type": "code",
	   "execution_count": null,
	   "metadata": {
	    "collapsed": true
	   },
	   "outputs": [],
"source": [
"//finding required data//\n",
"//example 1//\n",
"clc\n",
"//clears the command window//\n",
"clear\n",
"//clears// \n",
"//finding time constant and time for capacitor to charge 90% of supplied voltage//\n",
"R=10^6 ;//resistance in ohms//\n",
"C=10^-5 ;//capacitance in farads//\n",
"T=R*C\n",
"printf('the time constant=%f seconds\n',T)\n",
"//time constant is found out//\n",
"v=90/100*10;//v=voltage at time t//\n",
"V=10;//voltage in volts//\n",
"//t=required time// \n",
"disp('from the formula v=V*(1-exp(-t/(R*C))),we get the required time as:')\n",
"t=-((R*C)*log(1-(v/V)))\n",
"printf('required time to charge to 90 percent of the supplied voltage=%f seconds',t)\n",
"//the result is t seconds//"
   ]
   }
,
{
		   "cell_type": "markdown",
		   "metadata": {},
		   "source": [
			"## Example 3.2: finding_maximum_amplification.sce"
		   ]
		  },
  {
"cell_type": "code",
	   "execution_count": null,
	   "metadata": {
	    "collapsed": true
	   },
	   "outputs": [],
"source": [
"//finding minimum amplification//\n",
"//example 2//\n",
"clc\n",
"//clears the command window//\n",
"clear\n",
"//clears// \n",
"r=.04*10^-6\n",
"//r is the rise time//\n",
"disp('rise time=(2*v)/(2*%pi*f*V),hence')\n",
"//f=frequency in hetrz;v=output voltage in volts;V=required maximum output voltage in volts//\n",
"f=400*10^3\n",
"v=6.28\n",
"V=(2*v)/(r*2*%pi*f)\n",
"Vin=12.5;//input voltage//\n",
"a=V/Vin\n",
"printf('minimum amplification required=%f ',a)"
   ]
   }
,
{
		   "cell_type": "markdown",
		   "metadata": {},
		   "source": [
			"## Example 3.3_a: finding_clamping_level_voltage.sce"
		   ]
		  },
  {
"cell_type": "code",
	   "execution_count": null,
	   "metadata": {
	    "collapsed": true
	   },
	   "outputs": [],
"source": [
"//finding clamping level voltage//\n",
"//example 3.a//\n",
"clc\n",
"//clears the command window//\n",
"clear\n",
"//clears// \n",
"//charge=voltage/time//\n",
"disp('from equation ((V*4000*10^-6)/20)=((5-V)*4*10^-6)/(20*10^-3)),we get')\n",
"//resistance=20kohm;V=clamping level voltage;charge=voltage*capacitance//\n",
"V=5*(10^-6)\n",
"printf('clamping level voltage=%f volt',V)\n",
"//the answer is displayed//"
   ]
   }
,
{
		   "cell_type": "markdown",
		   "metadata": {},
		   "source": [
			"## Example 3.3_b: finding_clamping_level_voltage.sce"
		   ]
		  },
  {
"cell_type": "code",
	   "execution_count": null,
	   "metadata": {
	    "collapsed": true
	   },
	   "outputs": [],
"source": [
"//finding clamping level voltage//\n",
"//example 3.b//\n",
"clc\n",
"//clears the command window//\n",
"clear\n",
"//clears// \n",
"//charge=voltage/time//\n",
"disp('from equation ((V*4*10^-6)/20)=((5-V)*4000*10^-6)/(20*10^-3)),we get')\n",
"//resistance=20kohm;V=clamping level voltage;charge=voltage*capacitance//\n",
"V=20/8\n",
"printf('clamping level voltage=%f volt',V)\n",
"//the answer is displayed//"
   ]
   }
,
{
		   "cell_type": "markdown",
		   "metadata": {},
		   "source": [
			"## Example 3.4: finding_output_voltage.sce"
		   ]
		  },
  {
"cell_type": "code",
	   "execution_count": null,
	   "metadata": {
	    "collapsed": true
	   },
	   "outputs": [],
"source": [
"//finding output voltage//\n",
"//example 4//\n",
"clc\n",
"//clears the command window//\n",
"clear\n",
"//clears// \n",
"V1=10;//voltage source amplitude//\n",
"Rf=50;//forward rsistance//\n",
"r1=50;//internal resistance//\n",
"i=V1*Rf/(Rf+r1)\n",
"//current through diode during positive half cycle//\n",
"C=10^-6\n",
"T=(Rf+r1)*C;//time constant during conduction//\n",
"f=10*10^3\n",
"T1=1/(2*f);//time duration during which input voltage is positive//\n",
"t=50*10^-6;//given time//\n",
"v=V1*(1-exp(-(t/T)));//voltage across capacitor after 50micro sec//\n",
"Vo=((V1-v)*Rf)/(Rf+r1);//output voltage across diode//\n",
"R=20*10^3;//resistance in series//\n",
"T2=(r1+R)*C;//time constant of discharging circuit//\n",
"V2=v*exp(-(t/T2));//voltage at the end of 50 micro sec//\n",
"printf('output voltage=%f volt',V2)\n",
"//result is displayed//"
   ]
   }
,
{
		   "cell_type": "markdown",
		   "metadata": {},
		   "source": [
			"## Example 3.6: finding_resistance_and_capacitance.sce"
		   ]
		  },
  {
"cell_type": "code",
	   "execution_count": null,
	   "metadata": {
	    "collapsed": true
	   },
	   "outputs": [],
"source": [
"//finding load resistance and value of capacitor//\n",
"//example 6//\n",
"clc\n",
"//clears the command window//\n",
"clear\n",
"//clears// \n",
"Vo=15;//output voltage//\n",
"t=10*10^-3;//time duration//\n",
"tr=.05*10^-6;//rise time//\n",
"Rs=100*10^3;//source resistance//\n",
"C=50*10^-12;//output capacitance//\n",
"S=.05;//sag allowed//\n",
"//tr=.35/f2 where f2=upper cut off frequency//\n",
"//also tr=2.2*R*C where R=load resistance//\n",
"R=tr/(2.2*C)\n",
"printf('resistance=%f ohms\n',R)\n",
"//result is displayed//\n",
"Cs=t/(Rs*S);//Cs=source capacitor//\n",
"printf('capacitance=%f farad',Cs);//result is displayed//\n",
""
   ]
   }
,
{
		   "cell_type": "markdown",
		   "metadata": {},
		   "source": [
			"## Example 3.7: finding_peak_voltage.sce"
		   ]
		  },
  {
"cell_type": "code",
	   "execution_count": null,
	   "metadata": {
	    "collapsed": true
	   },
	   "outputs": [],
"source": [
"//finding peak voltage//\n",
"//example 7//\n",
"clc\n",
"//clears the command window//\n",
"clear\n",
"//clears//\n",
"T=250*10^-12;//time constant//\n",
"t=.05*10^-6;\n",
"Vo=100;//peak output voltage//\n",
"Vi=(Vo*t)/T;//peak voltage of generator//\n",
"printf('peak voltage=%f volt',Vi)\n",
"//result is displayed//\n",
""
   ]
   }
],
"metadata": {
		  "kernelspec": {
		   "display_name": "Scilab",
		   "language": "scilab",
		   "name": "scilab"
		  },
		  "language_info": {
		   "file_extension": ".sce",
		   "help_links": [
			{
			 "text": "MetaKernel Magics",
			 "url": "https://github.com/calysto/metakernel/blob/master/metakernel/magics/README.md"
			}
		   ],
		   "mimetype": "text/x-octave",
		   "name": "scilab",
		   "version": "0.7.1"
		  }
		 },
		 "nbformat": 4,
		 "nbformat_minor": 0
}
