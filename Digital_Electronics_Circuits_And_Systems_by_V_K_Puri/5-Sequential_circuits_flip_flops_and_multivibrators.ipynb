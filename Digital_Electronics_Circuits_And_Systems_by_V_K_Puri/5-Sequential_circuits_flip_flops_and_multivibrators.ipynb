{
"cells": [
 {
		   "cell_type": "markdown",
	   "metadata": {},
	   "source": [
       "# Chapter 5: Sequential circuits flip flops and multivibrators"
	   ]
	},
{
		   "cell_type": "markdown",
		   "metadata": {},
		   "source": [
			"## Example 5.1: finding_required_time.sce"
		   ]
		  },
  {
"cell_type": "code",
	   "execution_count": null,
	   "metadata": {
	    "collapsed": true
	   },
	   "outputs": [],
"source": [
"//finding required time//\n",
"//example 1//\n",
"clc\n",
"//clears the command window//\n",
"clear\n",
"//clears//  \n",
"R=10*10^3;//external resistance//\n",
"C=0.1*10^-6;//timing capacitor//\n",
"T=1.1*R*C;//time for which output remains high in monostable multivibrator using IC 555 timer//\n",
"printf('required time=%f seconds',T);//result is displayed"
   ]
   }
,
{
		   "cell_type": "markdown",
		   "metadata": {},
		   "source": [
			"## Example 5.2: finding_frequency_and_duty_cycle.sce"
		   ]
		  },
  {
"cell_type": "code",
	   "execution_count": null,
	   "metadata": {
	    "collapsed": true
	   },
	   "outputs": [],
"source": [
"//calculating frequency and duty cycle//\n",
"//example 2//\n",
"clc\n",
"//clears the command window//\n",
"clear\n",
"//clears// \n",
"Ra=10*10^3\n",
"Rb=10*10^3\n",
"C=.001*10^-6\n",
"T1=.693*(Ra+Rb)*C;//charging time constant//\n",
"T2=.693*Rb*C;//discharging time constant//\n",
"T=T1+T2;//total time//\n",
"f=1/T;//frequency//\n",
"printf('frequency=%f hertz\n',f);//result is displayed//\n",
"D=T2/T;//duty cycle//\n",
"D=D*100\n",
"printf('duty cycle=%f percent',D)\n",
"//result is displayed//"
   ]
   }
,
{
		   "cell_type": "markdown",
		   "metadata": {},
		   "source": [
			"## Example 5.3: finding_frequency_and_duty_cycle.sce"
		   ]
		  },
  {
"cell_type": "code",
	   "execution_count": null,
	   "metadata": {
	    "collapsed": true
	   },
	   "outputs": [],
"source": [
"//calculating frequency and duty cycle//\n",
"//example 3//\n",
"clc\n",
"//clears the command window//\n",
"clear\n",
"//clears// \n",
"Ra=6.8*10^3\n",
"Rb=3.3*10^3\n",
"C=.1*10^-6\n",
"T1=.693*(Ra+Rb)*C;//charging time constant//\n",
"T2= .693*Rb*C;//discharging time constant//\n",
"T=T1+T2;//total time//\n",
"f=1/T//frequency//\n",
"printf('frequency=%f hertz\n',f);//result is displayed//\n",
"D=T2/T;//duty cycle//\n",
"D=D*100\n",
"printf('duty cycle=%f percent',D);//result is displayed//"
   ]
   }
],
"metadata": {
		  "kernelspec": {
		   "display_name": "Scilab",
		   "language": "scilab",
		   "name": "scilab"
		  },
		  "language_info": {
		   "file_extension": ".sce",
		   "help_links": [
			{
			 "text": "MetaKernel Magics",
			 "url": "https://github.com/calysto/metakernel/blob/master/metakernel/magics/README.md"
			}
		   ],
		   "mimetype": "text/x-octave",
		   "name": "scilab",
		   "version": "0.7.1"
		  }
		 },
		 "nbformat": 4,
		 "nbformat_minor": 0
}
