{
"cells": [
 {
		   "cell_type": "markdown",
	   "metadata": {},
	   "source": [
       "# Chapter 1: Hydrostatics"
	   ]
	},
{
		   "cell_type": "markdown",
		   "metadata": {},
		   "source": [
			"## Example 1.10: Total_pressure.sce"
		   ]
		  },
  {
"cell_type": "code",
	   "execution_count": null,
	   "metadata": {
	    "collapsed": true
	   },
	   "outputs": [],
"source": [
"\n",
"clc \n",
"//initialisation of variables\n",
"l= 6 //ft\n",
"b= 4 //ft\n",
"w= 62.4 //lbs/ft^3\n",
"h= 10 //ft\n",
"//CALCULATIONS\n",
"P= w*l*b*(b/2)\n",
"hn= (b/2)+(l*b^3/(12*l*b*(b/2)))\n",
"P1= w*(h+(b/2))*l*b\n",
"h1= (h+(b/2))+(l*b^3/(12*l*b*(h+(b/2))))\n",
"//RESULTS\n",
"printf('Total pressure = %d lb',P1)\n",
"printf('\n Depth = %.2f ft',hn)\n",
"printf ('\n pressure in ft in case 2= %.3f ft ',h1)"
   ]
   }
,
{
		   "cell_type": "markdown",
		   "metadata": {},
		   "source": [
			"## Example 1.11: position_of_centre_of_pressure.sce"
		   ]
		  },
  {
"cell_type": "code",
	   "execution_count": null,
	   "metadata": {
	    "collapsed": true
	   },
	   "outputs": [],
"source": [
"clc \n",
"//initialisation of variables\n",
"sp= 0.87\n",
"d= 12 //ft\n",
"W= 62.4 //lb/ft^3\n",
"Wa= 30 //lb/in^2\n",
"//CALCULATIONS\n",
"A= %pi*d^2/4\n",
"w= W*sp\n",
"x= Wa*144/(w)\n",
"P= w*A*x\n",
"h= x+(A*d^2/16/(A*x))\n",
"//RESULTS\n",
"printf ('force exerted by the oil upon the gate = %.f lb ',P)\n",
"printf ('\n position of centre of pressure = %.3f ft ',h)"
   ]
   }
,
{
		   "cell_type": "markdown",
		   "metadata": {},
		   "source": [
			"## Example 1.12: Level_of_water.sce"
		   ]
		  },
  {
"cell_type": "code",
	   "execution_count": null,
	   "metadata": {
	    "collapsed": true
	   },
	   "outputs": [],
"source": [
"clc \n",
"//initialisation of variables\n",
"w= 62.4 //lb/ft^3\n",
"a= 60 //degrees\n",
"l= 18 //ft\n",
"b=  4 //ft\n",
"W= 8000 //lb\n",
"//CALCULATIONS\n",
"P= w*b/(sind(a)*2)\n",
"h= ((b/(12*(sind(a))^3))*(sind(a))^2/(b/(sind(a)*2)))+0.5\n",
"h1= (1-h)/sind(a)\n",
"x= ((l*W)/(h1*P))^(1/3)\n",
"//RESULTS\n",
"printf ('Level of water = %.2f ft ',x)"
   ]
   }
,
{
		   "cell_type": "markdown",
		   "metadata": {},
		   "source": [
			"## Example 1.13: Total_comression_in_the_promp_CD.sce"
		   ]
		  },
  {
"cell_type": "code",
	   "execution_count": null,
	   "metadata": {
	    "collapsed": true
	   },
	   "outputs": [],
"source": [
"clc \n",
"//initialisation of variables\n",
"w= 62.4 //lb/ft^3\n",
"l= 12 //ft\n",
"b= 6 //ft\n",
"h= 5.196 //ft\n",
"a= 60 //degrees\n",
"a1= 45 //degrees\n",
"//CALCULATIONS\n",
"P= w*l*b*h/2\n",
"h1= ((l*b^3*(sind(a))^2/12)/(l*b*(h/2)))+(h/2)\n",
"R= P*(b-(h1/cosd(a/2)))/((b*sind(a1))/2)\n",
"//RESULTS\n",
"printf ('Total comression in the promp CD = %.f lb ',R)"
   ]
   }
,
{
		   "cell_type": "markdown",
		   "metadata": {},
		   "source": [
			"## Example 1.14: force_F_required_to_act_horizontally_at_the_top_of_gate.sce"
		   ]
		  },
  {
"cell_type": "code",
	   "execution_count": null,
	   "metadata": {
	    "collapsed": true
	   },
	   "outputs": [],
"source": [
"\n",
"clc \n",
"//initialisation of variables\n",
"w= 62.4 //lb/ft^3\n",
"h= 4 //ft\n",
"b= 6 //ft\n",
"sg= 1.45\n",
"h1= 5 //ft\n",
"a= 90 //degrees\n",
"//CALCULATIONS\n",
"P1= w*sg*h*b*(h1+(h/2))\n",
"P2= w*h*b*(h/2)\n",
"Pr= P1-P2\n",
"hup= ((b*h^3/12)*(sind(a))^2/(h*b*(h1+(h/2))))+(h1+(h/2))\n",
"x1= h+h1-hup\n",
"hd= h*2/3\n",
"x2= h-hd\n",
"x= (P1*x1-P2*x2)/Pr\n",
"d= h1+h-x\n",
"F= Pr*x/4\n",
"//RESULTS\n",
"printf ('P resultant = %.f lb ',Pr)\n",
"printf ('\n depth of centre of pressure = %.3f ft ',d)\n",
"printf ('\n force F required to act horizontally at the top of gate = %.f lb ',F)\n",
"//The answer given in texxtbook is wrong. Please check using a calculator."
   ]
   }
,
{
		   "cell_type": "markdown",
		   "metadata": {},
		   "source": [
			"## Example 1.15: RB.sce"
		   ]
		  },
  {
"cell_type": "code",
	   "execution_count": null,
	   "metadata": {
	    "collapsed": true
	   },
	   "outputs": [],
"source": [
"clc \n",
"//initialisation of variables\n",
"w= 15 //ft\n",
"D= 15 //ft\n",
"W= 62.4 //lb/ft^3\n",
"a= 120 //degrees\n",
"h1= 15 //ft\n",
"h2= 4 ///ft\n",
"h3= 18 //ft\n",
"//CALCULATIONS\n",
"Pu= w*D*W*w/2\n",
"hu= ((w*D^3/12)/(w^2*D/2))+w/2\n",
"Pd= W*h2*w*h2/2\n",
"hd= ((w*h2^3/12)/(h2*h1*(h2/2)))+(h2/2)\n",
"P= Pu-Pd\n",
"h= (Pu*(h1-hu)-Pd*(h2-hd))/P\n",
"F= P/(2*sind(a/4))\n",
"RT= F*(h3-(h1/10)-h)/(h3-(h1/5))\n",
"RB=F-RT\n",
"//RESULTS\n",
"printf ('RB = %.f lb ',RB)"
   ]
   }
,
{
		   "cell_type": "markdown",
		   "metadata": {},
		   "source": [
			"## Example 1.16: S_max.sce"
		   ]
		  },
  {
"cell_type": "code",
	   "execution_count": null,
	   "metadata": {
	    "collapsed": true
	   },
	   "outputs": [],
"source": [
"clc \n",
"//initialisation of variables\n",
"h= 42 //ft\n",
"w= 25 //ft\n",
"d= 8 //ft\n",
"W= 150 //lb/ft^3\n",
"w1= 62.4 //lb/ft^3\n",
"//CALCULATIONS\n",
"W1= W*(h*d+(h*(w-d)/2))\n",
"P= w1*h*(h/2)\n",
"R= sqrt(W1^2+P^2)\n",
"o= atand(P/W1)\n",
"AE= (d*h*(d/2)+(w-d)*h*(d+(w-d)/3)/2)/(d*h+h*(w-d)/2)\n",
"EF= 14*P/W1\n",
"AF= EF+AE\n",
"AH= w/2\n",
"e= AF-AH\n",
"BS= W1*e*AH/(w^3/12)\n",
"DS= W1/w\n",
"Smax= BS+DS\n",
"Smin= DS-BS\n",
"//RESULTS\n",
"printf ('S max = %.f lb/sq ft ',Smax)\n",
"printf ('\n S min = %.f lb/sq ft ',Smin)"
   ]
   }
,
{
		   "cell_type": "markdown",
		   "metadata": {},
		   "source": [
			"## Example 1.17: Volume_of_concrete.sce"
		   ]
		  },
  {
"cell_type": "code",
	   "execution_count": null,
	   "metadata": {
	    "collapsed": true
	   },
	   "outputs": [],
"source": [
"clc \n",
"//initialisation of variables\n",
"W= 145 //lb/cu ft\n",
"M= 500 //lb\n",
"W1= 64 //lb/cu ft\n",
"//CALCULATIONS\n",
"dW= W-W1\n",
"V= M/dW\n",
"//RESULTS\n",
"printf ('Volume of concrete = %.1f cu ft ',V)"
   ]
   }
,
{
		   "cell_type": "markdown",
		   "metadata": {},
		   "source": [
			"## Example 1.18: Depth_necessary_to_just_float_the_ship_in_river.sce"
		   ]
		  },
  {
"cell_type": "code",
	   "execution_count": null,
	   "metadata": {
	    "collapsed": true
	   },
	   "outputs": [],
"source": [
"clc \n",
"//initialisation of variables\n",
"W= 10000 //tons\n",
"A= 15000 //ft^2\n",
"d= 15 //ft\n",
"Dsw= 64 //lb/ft^3\n",
"Dw= 62.4 //lb/ft^3\n",
"//CALCULATIONS\n",
"Vsw= 2240/Dsw\n",
"Vw= 2240/Dw\n",
"dV= Vw-Vsw\n",
"V1= W*dV\n",
"h= W/A\n",
"h1= d+h\n",
"//RESULTS\n",
"printf ('Depth necessary to just float the ship in river = %.2f ft ',h1)"
   ]
   }
,
{
		   "cell_type": "markdown",
		   "metadata": {},
		   "source": [
			"## Example 1.19: Rightening_moment.sce"
		   ]
		  },
  {
"cell_type": "code",
	   "execution_count": null,
	   "metadata": {
	    "collapsed": true
	   },
	   "outputs": [],
"source": [
"clc \n",
"//initialisation of variables\n",
"W= 5000 //tons\n",
"w= 10 //tons\n",
"d= 30 //ft\n",
"x= 5.5 //in\n",
"l= 10 //ft\n",
"a= 15 //degrees\n",
"//CALCULATIONS\n",
"GM= (w*d)*l/(W*(x/12))\n",
"M= GM*sind(a)*W\n",
"//RESULTS\n",
"printf ('Rightening moment = %.f lb ',M)"
   ]
   }
,
{
		   "cell_type": "markdown",
		   "metadata": {},
		   "source": [
			"## Example 1.1: Pressure_of_water.sce"
		   ]
		  },
  {
"cell_type": "code",
	   "execution_count": null,
	   "metadata": {
	    "collapsed": true
	   },
	   "outputs": [],
"source": [
"clc \n",
"//initialisation of variables\n",
"h1= 2 //in\n",
"h2= 2 //in\n",
"wn= 13.6 //g/cc\n",
"w= 1 //g/cc\n",
"W= 62.4 //lbs/ft^3\n",
"//CALCULATIONS\n",
"ha= ((h2*wn/w)-h1)/12\n",
"pa= ha*W/144\n",
"//RESULTS\n",
"printf ('Pressure of water= %.2f lb/sq in ',pa)"
   ]
   }
,
{
		   "cell_type": "markdown",
		   "metadata": {},
		   "source": [
			"## Example 1.20: angle_through_which_the_cube_will_tilt.sce"
		   ]
		  },
  {
"cell_type": "code",
	   "execution_count": null,
	   "metadata": {
	    "collapsed": true
	   },
	   "outputs": [],
"source": [
"clc \n",
"//initialisation of variables\n",
"l= 5 //ft\n",
"h= 20 //in\n",
"n= 1/15\n",
"AG= 50 //in\n",
"x= 30 //in\n",
"w= 62.4 //lb/ft^3\n",
"//CALCULATIONS\n",
"AG1= AG/(1+n)\n",
"G1G2= n*x/(1+n)\n",
"W= l^2*w*(l/2)\n",
"h1= 32 //in\n",
"BK= h1/2\n",
"GK= 10 //in\n",
"G1K= (AG+GK)-AG1\n",
"BG1= BK-G1K\n",
"BM= (l^4/12)*2*12/(l^3*BK*n)\n",
"G1M= BM+BG1\n",
"o= atand(G1G2/G1M)\n",
"//RESULTS\n",
"printf ('angle through which the cube will tilt = %.f degrees ',o)"
   ]
   }
,
{
		   "cell_type": "markdown",
		   "metadata": {},
		   "source": [
			"## Example 1.2: reading_of_mercury.sce"
		   ]
		  },
  {
"cell_type": "code",
	   "execution_count": null,
	   "metadata": {
	    "collapsed": true
	   },
	   "outputs": [],
"source": [
"clc \n",
"//initialisation of variables\n",
"a= 6 //ft\n",
"h= 2 //ft\n",
"sm= 13.6\n",
"sw= 1\n",
"sl=0.8\n",
"//CALCULATIONS\n",
"dh= h*(sm-sw)+a\n",
"h1= (dh-a)/(sl-1)\n",
"//RESULTS\n",
"printf ('pressure difference in ft of water= %.1f ft of water ',dh)\n",
"printf ('\n reading of mercury= %.f ft of liquid ',h1)"
   ]
   }
,
{
		   "cell_type": "markdown",
		   "metadata": {},
		   "source": [
			"## Example 1.3: pressure.sce"
		   ]
		  },
  {
"cell_type": "code",
	   "execution_count": null,
	   "metadata": {
	    "collapsed": true
	   },
	   "outputs": [],
"source": [
"clc \n",
"//initialisation of variables\n",
"sm= 13.6\n",
"so= 0.9\n",
"sw=1\n",
"ha= 12.7 //ft\n",
"hb= 8 //ft\n",
"hc= 7.5 //ft\n",
"hd= 1.75 //ft\n",
"//CALCULATIONS\n",
"pa= (sm-so)*sw\n",
"pc= -hb*so+ha\n",
"pd= ha+so*2-sm*2.5-hc\n",
"pb= hb+hd+pd\n",
"//RESULTS\n",
"printf ('pressure at A= %.2f ft of water ',pa)\n",
"printf ('\n pressure at B= %.2f ft of water ',pb)\n",
"printf ('\n pressure at C= %.2f ft of water ',pc)\n",
"printf ('\n pressure at D= %.2f ft of water ',pd)"
   ]
   }
,
{
		   "cell_type": "markdown",
		   "metadata": {},
		   "source": [
			"## Example 1.4: Reading_of_the_pressure_guage_at_the_top_of_tank.sce"
		   ]
		  },
  {
"cell_type": "code",
	   "execution_count": null,
	   "metadata": {
	    "collapsed": true
	   },
	   "outputs": [],
"source": [
"clc \n",
"//initialisation of variables\n",
"lm= 2 //ft\n",
"lw= 5 //ft\n",
"lo= 8 //ft\n",
"so= 0.75\n",
"p= 40 //lb/in^2\n",
"w= 62.4 //lbs/ft^3\n",
"sm= 13.6\n",
"//CALCULATIONS\n",
"h= p*144/w\n",
"Pd= (h-lm*sm)\n",
"Pc= Pd-lw\n",
"Pb= Pc-lo*so\n",
"Pg= Pb*w/144\n",
"//RESULTS\n",
"printf ('Reading of the pressure guage at the top of tank = %.1f lb/in^2 ',Pg)"
   ]
   }
,
{
		   "cell_type": "markdown",
		   "metadata": {},
		   "source": [
			"## Example 1.5: Depth_of_point.sce"
		   ]
		  },
  {
"cell_type": "code",
	   "execution_count": null,
	   "metadata": {
	    "collapsed": true
	   },
	   "outputs": [],
"source": [
"clc \n",
"//initialisation of variables\n",
"h= 42 //in\n",
"w= 62.4 //lbs/ft^3\n",
"//RESULTS\n",
"D= h*w/(144*12)\n",
"//CALCULATIONS\n",
"printf ('Depth of point = %.1f lb/in^2 ',D)"
   ]
   }
,
{
		   "cell_type": "markdown",
		   "metadata": {},
		   "source": [
			"## Example 1.6: Depth_of_point.sce"
		   ]
		  },
  {
"cell_type": "code",
	   "execution_count": null,
	   "metadata": {
	    "collapsed": true
	   },
	   "outputs": [],
"source": [
"clc \n",
"//initialisation of variables\n",
"h= 200 //ft\n",
"w= 62.4 //lbs/ft^3\n",
"//RESULTS\n",
"D= h*w/(144)\n",
"//CALCULATIONS\n",
"printf ('Depth of point = %.1f lb/in^2 ',D)"
   ]
   }
,
{
		   "cell_type": "markdown",
		   "metadata": {},
		   "source": [
			"## Example 1.7: Total_pressure.sce"
		   ]
		  },
  {
"cell_type": "code",
	   "execution_count": null,
	   "metadata": {
	    "collapsed": true
	   },
	   "outputs": [],
"source": [
"clc \n",
"//initialisation of variables\n",
"w= 62.4 //lbs/ft^3\n",
"l= 2 //ft\n",
"b= 3 //ft\n",
"h= 10 //ft\n",
"//CALCULATIONS\n",
"P= w*l*b*h\n",
"//RESULTS\n",
"printf ('Total pressure = %.f lb ',P)"
   ]
   }
,
{
		   "cell_type": "markdown",
		   "metadata": {},
		   "source": [
			"## Example 1.8: total_pressure.sce"
		   ]
		  },
  {
"cell_type": "code",
	   "execution_count": null,
	   "metadata": {
	    "collapsed": true
	   },
	   "outputs": [],
"source": [
"clc \n",
"//initialisation of variables\n",
"l= 2 //ft\n",
"b= 3 //ft\n",
"a= 60 //degrees\n",
"h= 8 //ft\n",
"w= 62.4 //lbs/ft^3\n",
"//CALCULATIONS\n",
"x= h+(b/l)*cosd(a)\n",
"P= w*l*b*x\n",
"//RESULTS\n",
"printf ('total pressure = %.f lb ',P)"
   ]
   }
,
{
		   "cell_type": "markdown",
		   "metadata": {},
		   "source": [
			"## Example 1.9: total_pressure.sce"
		   ]
		  },
  {
"cell_type": "code",
	   "execution_count": null,
	   "metadata": {
	    "collapsed": true
	   },
	   "outputs": [],
"source": [
"clc \n",
"//initialisation of variables\n",
"l= 2 //ft\n",
"b= 3 //ft\n",
"h= 8 //ft\n",
"w= 62.4 //lbs/ft^3\n",
"//CALCULATIONS\n",
"P= w*l*b*(h+(b/2))\n",
"//RESULTS\n",
"printf ('total pressure = %.f lb ',P)"
   ]
   }
],
"metadata": {
		  "kernelspec": {
		   "display_name": "Scilab",
		   "language": "scilab",
		   "name": "scilab"
		  },
		  "language_info": {
		   "file_extension": ".sce",
		   "help_links": [
			{
			 "text": "MetaKernel Magics",
			 "url": "https://github.com/calysto/metakernel/blob/master/metakernel/magics/README.md"
			}
		   ],
		   "mimetype": "text/x-octave",
		   "name": "scilab",
		   "version": "0.7.1"
		  }
		 },
		 "nbformat": 4,
		 "nbformat_minor": 0
}
