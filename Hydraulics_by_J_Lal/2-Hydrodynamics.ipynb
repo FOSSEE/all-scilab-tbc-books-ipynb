{
"cells": [
 {
		   "cell_type": "markdown",
	   "metadata": {},
	   "source": [
       "# Chapter 2: Hydrodynamics"
	   ]
	},
{
		   "cell_type": "markdown",
		   "metadata": {},
		   "source": [
			"## Example 2.1: v1.sce"
		   ]
		  },
  {
"cell_type": "code",
	   "execution_count": null,
	   "metadata": {
	    "collapsed": true
	   },
	   "outputs": [],
"source": [
"clc \n",
"//initialisation of variables\n",
"Q= 0.8 //ft^3/sec\n",
"w= 62.4 //lb/sec\n",
"d1= 3 //in\n",
"d2= 1.5 //in\n",
"//CALCULATIONS\n",
"Q1= Q*w*60/10\n",
"a1= %pi*(d1/12)^2/4\n",
"a2= %pi*(d2/12)^2/4\n",
"v1= Q/a1\n",
"v2= Q/a2\n",
"//RESULTS\n",
"printf ('v1 = %.1f ft/sec ',v1)\n",
"printf ('\n v2 = %.1f ft/sec ',v2)"
   ]
   }
,
{
		   "cell_type": "markdown",
		   "metadata": {},
		   "source": [
			"## Example 2.2: p2.sce"
		   ]
		  },
  {
"cell_type": "code",
	   "execution_count": null,
	   "metadata": {
	    "collapsed": true
	   },
	   "outputs": [],
"source": [
"clc \n",
"//initialisation of variables\n",
"d1= 12 //in\n",
"d2= 9 //in\n",
"z1= 10 //ft\n",
"z2= 10 //ft\n",
"p1= 15 //lb/in^2\n",
"w= 62.4 //lb/ft^3\n",
"Q= 2 //cuses\n",
"g= 32.2 //ft/sec^2\n",
"//CALCULATIONS\n",
"v1= Q/(%pi*(d1/12)^2/4)\n",
"v2= Q/(%pi*(d2/12)^2/4)\n",
"p2= w*(z1-z2+(p1*144/w)+(v1^2/(2*g))-(v2^2/(2*g)))/144\n",
"//RESULTS\n",
"printf ('p2 = %.3f lb/in^2 ',p2)"
   ]
   }
,
{
		   "cell_type": "markdown",
		   "metadata": {},
		   "source": [
			"## Example 2.3: Discharge.sce"
		   ]
		  },
  {
"cell_type": "code",
	   "execution_count": null,
	   "metadata": {
	    "collapsed": true
	   },
	   "outputs": [],
"source": [
"clc \n",
"//initialisation of variables\n",
"d0= 4 //ft\n",
"d2= 2 //ft\n",
"z0 = 0 //ft\n",
"z1= 5 //ft\n",
"z2= 13 //ft\n",
"h= 9.5 //in\n",
"w= 62.4 //lb/ft^3\n",
"w1= 30 //lb/ft^3\n",
"g= 32.2 //ft/sec^2\n",
"r= 0.1\n",
"//CALCULATIONS\n",
"p2= -h*34/w1\n",
"v2= sqrt(2*g*(z1-p2-z2)/(1+r))\n",
"Q= %pi*(d2/12)^2*v2*w*60/(10*4)\n",
"//RESULTS\n",
"printf ('Discharge = %.f gpm ',Q)\n",
""
   ]
   }
,
{
		   "cell_type": "markdown",
		   "metadata": {},
		   "source": [
			"## Example 2.4: water_pressure_at_top.sce"
		   ]
		  },
  {
"cell_type": "code",
	   "execution_count": null,
	   "metadata": {
	    "collapsed": true
	   },
	   "outputs": [],
"source": [
"clc \n",
"//initialisation of variables\n",
"d1= 2 //ft\n",
"d2= 3 //ft\n",
"v1= 20 //ft/sec\n",
"z1= 20 //ft\n",
"z2= 0 //ft\n",
"h= 5 //ft\n",
"w= 62.4 //lb/ft^3\n",
"g= 32.2 //ft/sec^2\n",
"//CALCULATIONS\n",
"Hl= v1^2*0.15/(2*g)\n",
"a1= %pi*d1^2/4\n",
"a2= %pi*d2^2/4\n",
"v2= a1*v1/a2\n",
"p1= ((h-z1+(v2^2)/(2*g))-(0.85*v1^2/(2*g)))\n",
"//RESULTS\n",
"printf ('water pressure at top = %.2f ft of water ',p1)"
   ]
   }
,
{
		   "cell_type": "markdown",
		   "metadata": {},
		   "source": [
			"## Example 2.5: Discharge.sce"
		   ]
		  },
  {
"cell_type": "code",
	   "execution_count": null,
	   "metadata": {
	    "collapsed": true
	   },
	   "outputs": [],
"source": [
"clc \n",
"//initialisation of variables\n",
"d1= 15 //in\n",
"d2= 6//in\n",
"h= 10 //in of mercury\n",
"C= 0.98\n",
"sm= 13.6\n",
"w= 12\n",
"g= 32.2 //ft/sec^2\n",
"//CALCULATIONS\n",
"a1= %pi*(d1/12)^2/4\n",
"a2= %pi*(d2/12)^2/4\n",
"h1= h*(sm-1)/w\n",
"Q= C*(a1*a2/(sqrt(a1^2-a2^2)))*sqrt(2*g)*sqrt(h1)*6.24*60*60\n",
"//RESULTS\n",
"printf ('Discharge = %.f gph ',Q)"
   ]
   }
,
{
		   "cell_type": "markdown",
		   "metadata": {},
		   "source": [
			"## Example 2.6: Actual_discharge.sce"
		   ]
		  },
  {
"cell_type": "code",
	   "execution_count": null,
	   "metadata": {
	    "collapsed": true
	   },
	   "outputs": [],
"source": [
"clc \n",
"//initialisation of variables\n",
"d1= 8 //in\n",
"d2= 4 //in\n",
"h= 10 //in of mercury\n",
"Cd= 0.98\n",
"g= 32.2 //ft/sec^2\n",
"sm= 13.56\n",
"//CALCULATIONS\n",
"a1= %pi*(d1/12)^2/4\n",
"a2= %pi*(d2/12)^2/4\n",
"h1= h*(sm-1)/12\n",
"Q= a1*a2*sqrt(2*g)*sqrt(h1)/sqrt(a1^2-a2^2)\n",
"Qactual= Cd*Q\n",
"//RESULTS\n",
"printf ('Actual discharge = %.2f cuses ',Qactual)"
   ]
   }
,
{
		   "cell_type": "markdown",
		   "metadata": {},
		   "source": [
			"## Example 2.7: speed_of_submarine.sce"
		   ]
		  },
  {
"cell_type": "code",
	   "execution_count": null,
	   "metadata": {
	    "collapsed": true
	   },
	   "outputs": [],
"source": [
"clc \n",
"//initialisation of variables\n",
"h= 6.8 //in of mercury\n",
"sm= 13.6\n",
"ssw= 1.026\n",
"g= 32.2 //ft/sec^2\n",
"//CALCULATIONS\n",
"V= sqrt(2*g*h*(sm-ssw)/12)*3600/5280\n",
"//RESULTS\n",
"printf ('speed of submarine = %.1f miles per hour ',V)"
   ]
   }
,
{
		   "cell_type": "markdown",
		   "metadata": {},
		   "source": [
			"## Example 2.8: Volume_of_air_passing_through_the_Venturimeter.sce"
		   ]
		  },
  {
"cell_type": "code",
	   "execution_count": null,
	   "metadata": {
	    "collapsed": true
	   },
	   "outputs": [],
"source": [
"clc \n",
"//initialisation of variables\n",
"g= 32.2 //ft/sec^2\n",
"d1= 2 //in\n",
"d2= 12 //in\n",
"r= 1.4\n",
"n= 0.905\n",
"Q= 2995 //lb/ft^2\n",
"w= 0.083 //lb/ft^3\n",
"//CALCULATIONS\n",
"V1= 1/w\n",
"n1= n^((r-1)/r)\n",
"n2= n^(2/r)\n",
"Q= %pi*(d1/12)^2*sqrt(2*g*Q*(1-n1)*r/((r-1)*n2*(1-(d1/d2)^2)))\n",
"//RESULTS\n",
"printf ('Volume of air passing through the Venturimeter = %.1f cuses ',Q)"
   ]
   }
],
"metadata": {
		  "kernelspec": {
		   "display_name": "Scilab",
		   "language": "scilab",
		   "name": "scilab"
		  },
		  "language_info": {
		   "file_extension": ".sce",
		   "help_links": [
			{
			 "text": "MetaKernel Magics",
			 "url": "https://github.com/calysto/metakernel/blob/master/metakernel/magics/README.md"
			}
		   ],
		   "mimetype": "text/x-octave",
		   "name": "scilab",
		   "version": "0.7.1"
		  }
		 },
		 "nbformat": 4,
		 "nbformat_minor": 0
}
