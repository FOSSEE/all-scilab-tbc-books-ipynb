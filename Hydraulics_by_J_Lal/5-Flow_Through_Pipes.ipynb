{
"cells": [
 {
		   "cell_type": "markdown",
	   "metadata": {},
	   "source": [
       "# Chapter 5: Flow Through Pipes"
	   ]
	},
{
		   "cell_type": "markdown",
		   "metadata": {},
		   "source": [
			"## Example 5.10: Pressure_differnece_at_discharge_end.sce"
		   ]
		  },
  {
"cell_type": "code",
	   "execution_count": null,
	   "metadata": {
	    "collapsed": true
	   },
	   "outputs": [],
"source": [
"clc \n",
"//initialisation of variables\n",
"pb= 20 //lb/in^2\n",
"w= 62.4 //lb/ft^3\n",
"Q= 1.96 //cfs\n",
"d1= 0.5 //ft\n",
"d2= 1 //ft\n",
"f= 0.005\n",
"g= 32.2 //ft/sec^2\n",
"l1= 300 //ft\n",
"H= 14.015 //ft of water\n",
"//CALCULATIONS\n",
"v1= Q/(%pi*d1^2/4)\n",
"v2= Q/(%pi*d2^2/4)\n",
"hf1= 4*f*l1*v1^2/(2*g*d1)\n",
"hf2= 4*f*l1*v2^2/(2*g*d2)\n",
"h= (v1-v2)^2/(2*g)\n",
"h1= v1^2/(2*g)\n",
"h2= v2^2/(2*g)\n",
"P= H*w/144\n",
"//RESULTS\n",
"printf ('Loss of head at C = %.3f ft ',h)\n",
"printf ('\n Loss of head at C = %.2f ft ',h1)\n",
"printf ('\n Loss of head at C = %.3f ft ',h2)\n",
"printf ('\n Pressure differnece at discharge end = %.2f lb/in^2 ',P)"
   ]
   }
,
{
		   "cell_type": "markdown",
		   "metadata": {},
		   "source": [
			"## Example 5.11: example_11.sce"
		   ]
		  },
  {
"cell_type": "code",
	   "execution_count": null,
	   "metadata": {
	    "collapsed": true
	   },
	   "outputs": [],
"source": [
"clc \n",
"//initialisation of variables\n",
"d= 8 //in\n",
"l= 6000 //ft\n",
"H= 100 //ft\n",
"H1= 1000 //ft\n",
"f= 0.008\n",
"g= 32.2 //ft/sec^2\n",
"h1= 24 //ft\n",
"h2= 34 //ft \n",
"h3= 25 //ft\n",
"w= 6.24 //lb/ft^3\n",
"//CALCULATIONS\n",
"v= sqrt(H*d*2*g/(4*f*l*12))\n",
"h= -h1+(v^2/(2*g))+h3+(4*f*H1*v^2/(2*g*(d/12)))\n",
"Q= %pi*(d/12)^2*v*3600*w/4\n",
"//RESULTS\n",
"printf ('minimum depth = %.f ft ',h)\n",
"printf ('\n Discharge = %.f gpm',Q)"
   ]
   }
,
{
		   "cell_type": "markdown",
		   "metadata": {},
		   "source": [
			"## Example 5.12: example_12.sce"
		   ]
		  },
  {
"cell_type": "code",
	   "execution_count": null,
	   "metadata": {
	    "collapsed": true
	   },
	   "outputs": [],
"source": [
"clc \n",
"//initialisation of variables\n",
"h= 25 //ft\n",
"l= 2000 //ft\n",
"d= 12 //in\n",
"g= 32.2 //ft/sec^2\n",
"f= 0.005\n",
"dz= 16 //ft\n",
"zb= 25 //ft\n",
"zc= -16 //ft\n",
"//CALCULATIONS\n",
"v= sqrt(2*g*h/(1.5+(4*f*l/(d/12))))\n",
"Q= %pi*(d/12)^2*v/4\n",
"l1= (34-dz)*l/(zb-zc-dz)\n",
"//RESULTS\n",
"printf ('Discharge = %.1f cfs ',Q)\n",
"printf ('\n length of the inlet = %.f ft of water ',l1)"
   ]
   }
,
{
		   "cell_type": "markdown",
		   "metadata": {},
		   "source": [
			"## Example 5.13: example_13.sce"
		   ]
		  },
  {
"cell_type": "code",
	   "execution_count": null,
	   "metadata": {
	    "collapsed": true
	   },
	   "outputs": [],
"source": [
"clc \n",
"//initialisation of variables\n",
"d1= 2 //in\n",
"l1= 25 //ft\n",
"d2= 4 //in\n",
"l2= 140 //ft\n",
"v= 4 //ft/sec\n",
"g= 32.2 //ft/sec^2\n",
"f= 0.0065\n",
"//CALCULATIONS\n",
"v1= v*(d2/d1)^2\n",
"H= (0.5*v1^2/(2*g))+(4*f*l1*12*v1^2/(d1*2*g))+((v1-v)^2/(2*g))+(4*f*l2*12*v^2/(d2*2*g))+(v^2/(2*g))\n",
"//RESULTS\n",
"printf ('necessaey height of water = %.3f ft ',H)"
   ]
   }
,
{
		   "cell_type": "markdown",
		   "metadata": {},
		   "source": [
			"## Example 5.14: example_14.sce"
		   ]
		  },
  {
"cell_type": "code",
	   "execution_count": null,
	   "metadata": {
	    "collapsed": true
	   },
	   "outputs": [],
"source": [
"clc \n",
"//initialisation of variables\n",
"l1= 3000 //ft\n",
"d1= 18 //in\n",
"l2= 1500 //ft\n",
"d2= 15 //ft\n",
"l3= 1000 //ft\n",
"d3= 12 //in\n",
"//CALCULATIONS\n",
"d= ((l1+l2+l3)/((l1/d1^5)+(l2/d2^5)+(l3/d3^5)))^(1/5)\n",
"//RESULTS\n",
"printf ('Diameter = %.2f in ',d)"
   ]
   }
,
{
		   "cell_type": "markdown",
		   "metadata": {},
		   "source": [
			"## Example 5.15: example_15.sce"
		   ]
		  },
  {
"cell_type": "code",
	   "execution_count": null,
	   "metadata": {
	    "collapsed": true
	   },
	   "outputs": [],
"source": [
"clc \n",
"//initialisation of variables\n",
"g= 32.2 //ft/sec^2\n",
"D= 9 //in\n",
"//CALCULATIONS\n",
"d= D/(2^0.4)\n",
"//RESULTS\n",
"printf ('diameter of paralle mains = %.2f in ',d)"
   ]
   }
,
{
		   "cell_type": "markdown",
		   "metadata": {},
		   "source": [
			"## Example 5.16: example_16.sce"
		   ]
		  },
  {
"cell_type": "code",
	   "execution_count": null,
	   "metadata": {
	    "collapsed": true
	   },
	   "outputs": [],
"source": [
"clc \n",
"//initialisation of variables\n",
"d= 2 //ft\n",
"l= 5280 //ft\n",
"f= 0.01\n",
"H= 100 //ft\n",
"g= 32.2 //ft/sec^2\n",
"//CALCLATIONS\n",
"v= sqrt(H*2*d*g/(4*f*l))\n",
"Q= %pi*d^2*v/4\n",
"r= d\n",
"v2= sqrt(H/((r^2+1)*(4*f*l/(2*2*2*g))))\n",
"Q1= 2*%pi*d^2*v2/4\n",
"dQ= Q1-Q\n",
"p= dQ*100/Q\n",
"//RESULTS\n",
"printf ('percentage increase in discharge = %.1f per cent ',p)"
   ]
   }
,
{
		   "cell_type": "markdown",
		   "metadata": {},
		   "source": [
			"## Example 5.18: example_18.sce"
		   ]
		  },
  {
"cell_type": "code",
	   "execution_count": null,
	   "metadata": {
	    "collapsed": true
	   },
	   "outputs": [],
"source": [
"clc \n",
"//initialisation of variables\n",
"A= 10000 //ft^2\n",
"H1= 50 //ft\n",
"H2= 40 //ft\n",
"l= 1500 //ft\n",
"d= 6 //in\n",
"f= 0.0075\n",
"g= 32.2 //f/sec^2\n",
"//CALCULATIONS\n",
"t= 2*A*sqrt((1.5+(4*f*l/(d/12)))/(2*g))*(sqrt(H1)-sqrt(H2))/(%pi*(d/12)^2/4)\n",
"//RESULTS\n",
"printf ('Time taken to lower the level of water = %.f sec ',t)"
   ]
   }
,
{
		   "cell_type": "markdown",
		   "metadata": {},
		   "source": [
			"## Example 5.19: example_19.sce"
		   ]
		  },
  {
"cell_type": "code",
	   "execution_count": null,
	   "metadata": {
	    "collapsed": true
	   },
	   "outputs": [],
"source": [
"clc \n",
"//initialisation of variables\n",
"l= 24 //ft\n",
"b= 12 //ft\n",
"f= 0.006\n",
"d= 4 //in\n",
"l1= 25 //ft\n",
"H1= 6 //ft\n",
"H= 20 //ft\n",
"g= 32.2 //ft/sec^2\n",
"Cd= 0.6\n",
"//CALCULATIONS\n",
"a= %pi*(d/12)^2/4\n",
"A= l*b\n",
"H2= H1+H\n",
"t= 2*A*sqrt((1.5+(4*f*l1/(d/12)))/(2*g))*(sqrt(H2)-sqrt(H))/a\n",
"t1= 2*A*sqrt((1.5+(4*f*l1/(d/12)))/(2*g))*sqrt(H1)/a\n",
"t2= 2*A*sqrt(H1)/(Cd*a*sqrt(2*g))\n",
"//RESULTS\n",
"printf ('Time taken to lower the pipe = %.f sec ',t)\n",
"printf ('\n Time taken to lower the pipe = %.f sec ',t1)\n",
"printf ('\n Time taken to lower the pipe = %.f sec ',t2)"
   ]
   }
,
{
		   "cell_type": "markdown",
		   "metadata": {},
		   "source": [
			"## Example 5.1: hydraulic_mean_depth.sce"
		   ]
		  },
  {
"cell_type": "code",
	   "execution_count": null,
	   "metadata": {
	    "collapsed": true
	   },
	   "outputs": [],
"source": [
"clc \n",
"//initialisation of variables\n",
"h= 4 //ft\n",
"h1= 3 //ft\n",
"r= 3 //ft\n",
"h2= 1.5 //ft\n",
"//CALCULATIONS\n",
"m= (h*h1+(h1^2/2))/(h+(h/2)*sqrt(h1^2+(h1/2)^2))\n",
"a= 2*acosd(h2/r)\n",
"P= 2*%pi*r*a/360\n",
"A= r^2*((2*%pi/3)-sind(a))/2\n",
"H= A/(2*%pi)\n",
"//RESULTS\n",
"printf ('hydraulic mean depth = %.3f ft ',H)"
   ]
   }
,
{
		   "cell_type": "markdown",
		   "metadata": {},
		   "source": [
			"## Example 5.20: example_20.sce"
		   ]
		  },
  {
"cell_type": "code",
	   "execution_count": null,
	   "metadata": {
	    "collapsed": true
	   },
	   "outputs": [],
"source": [
"clc \n",
"//initialisation of variables\n",
"d= 2 //ft\n",
"l= 1000 //ft\n",
"f= 0.0075\n",
"H1= 20 //ft\n",
"A1= 100000 //ft^2\n",
"A2= 50000 //ft^2\n",
"g= 32.2 //ft/sec^2\n",
"//CALCULATIONS\n",
"h= 2*A1/A2\n",
"H2= H1-h\n",
"t= 2*A1*A2*sqrt(1.5+(4*f*l/2))*0.47/((A1+A2)*(%pi*d^2/4)*sqrt(2*g))/60\n",
"//RESULTS\n",
"printf ('Time taken to lower the level of water = %.f min ',t)"
   ]
   }
,
{
		   "cell_type": "markdown",
		   "metadata": {},
		   "source": [
			"## Example 5.21: example_21.sce"
		   ]
		  },
  {
"cell_type": "code",
	   "execution_count": null,
	   "metadata": {
	    "collapsed": true
	   },
	   "outputs": [],
"source": [
"clc \n",
"//initialisation of variables\n",
"H= 1000 //lb/in^2\n",
"Hf= 100 //lb/in^2\n",
"l= 10 //miles\n",
"HP= 100\n",
"g= 32.2 //ft/sec^2\n",
"w= 64.4 //lb/ft^3\n",
"f= 0.006\n",
"//CALCULATIONS\n",
"n= (H-Hf)*100/H\n",
"v= Hf*550/((%pi/4)*n*10*144)\n",
"r= Hf*144*2*g/(w*4*f*l*5280)\n",
"d= (v^2/r)^(1/5)\n",
"//RESULTS\n",
"printf ('Diameter = %.4f ft ',d)"
   ]
   }
,
{
		   "cell_type": "markdown",
		   "metadata": {},
		   "source": [
			"## Example 5.22: example_22.sce"
		   ]
		  },
  {
"cell_type": "code",
	   "execution_count": null,
	   "metadata": {
	    "collapsed": true
	   },
	   "outputs": [],
"source": [
"clc \n",
"//initialisation of variables\n",
"h1= 1640 //ft\n",
"h2= 40 //ft\n",
"d= 8 //in\n",
"l= 2 //miles\n",
"D= 3 //ft\n",
"f= 0.006\n",
"Cv= 0.98\n",
"g= 32.2 //ft/sec^2\n",
"w= 62.4 //lb/ft^3\n",
"//CALCULATIONS\n",
"r= (d/12)/D\n",
"vact= Cv*sqrt(2*g*(h1-h2)/(1+(4*f*l*5280*r^4/D)))\n",
"HP= w*vact^3*(%pi*(d/12)^2/4)/(550*2*g)\n",
"//RESULTS\n",
"printf ('Horse Power of Jet = %.f HP ',HP)"
   ]
   }
,
{
		   "cell_type": "markdown",
		   "metadata": {},
		   "source": [
			"## Example 5.23: example_23.sce"
		   ]
		  },
  {
"cell_type": "code",
	   "execution_count": null,
	   "metadata": {
	    "collapsed": true
	   },
	   "outputs": [],
"source": [
"clc \n",
"//initialisation of variables\n",
"p= 60 //lb/in^2\n",
"l= 300 //ft\n",
"D= 2.5 //in\n",
"d= 7/8 //in\n",
"f= 0.018\n",
"g= 32.2 //ft/sec^2\n",
"w= 62.4 //lb/ft^3\n",
"//CALCULATIONS\n",
"r= (D/d)^4\n",
"V= sqrt(2*g*144*p/(w*(r+0.5+(4*f*l/(D/12)))))\n",
"Q= V*(%pi*(D/12)^2)/4\n",
"//RESULTS\n",
"printf ('Volume of flow = %.3f cu ft/sec ',Q)"
   ]
   }
,
{
		   "cell_type": "markdown",
		   "metadata": {},
		   "source": [
			"## Example 5.24: example_24.sce"
		   ]
		  },
  {
"cell_type": "code",
	   "execution_count": null,
	   "metadata": {
	    "collapsed": true
	   },
	   "outputs": [],
"source": [
"clc \n",
"//initialisation of variables\n",
"D= 3 //in\n",
"l= 800 //ft\n",
"H= 120 //ft\n",
"f= 0.01\n",
"g= 32.2 //ft/sec^2\n",
"w= 62.4 //lb/ft^3\n",
"//CALCULATIONS\n",
"d= ((D/12)^5/(8*f*l))^0.25\n",
"hf= H/3\n",
"dh= H-hf\n",
"v= sqrt(hf*(D/12)*2*g/(4*f*l))\n",
"HPmax= w*%pi*((D/48)^2/4)*v*dh/550\n",
"//RESULTS\n",
"printf ('HPmax = %.3f HP ',HPmax)"
   ]
   }
,
{
		   "cell_type": "markdown",
		   "metadata": {},
		   "source": [
			"## Example 5.25: example_25.sce"
		   ]
		  },
  {
"cell_type": "code",
	   "execution_count": null,
	   "metadata": {
	    "collapsed": true
	   },
	   "outputs": [],
"source": [
"clc \n",
"//initialisation of variables\n",
"l= 2 //miles\n",
"Q= 2*10^6 //gal/day\n",
"d= 12 //in\n",
"t= 16 //sec\n",
"w= 62.4 //lb/ft^3\n",
"g= 32.2 //ft/sec^2\n",
"//CALCULATIO\n",
"Q1=Q*10/(w*24*60*60)\n",
"hi= l*5280*Q1/((%pi*(d/12)^2/4)*(g*t))\n",
"//RESULTS\n",
"printf ('height = %.1f ft ',hi)"
   ]
   }
,
{
		   "cell_type": "markdown",
		   "metadata": {},
		   "source": [
			"## Example 5.26: example_26.sce"
		   ]
		  },
  {
"cell_type": "code",
	   "execution_count": null,
	   "metadata": {
	    "collapsed": true
	   },
	   "outputs": [],
"source": [
"clc \n",
"//initialisation of variables\n",
"d= 6 //in\n",
"Q= 0.7854 //cfs\n",
"E= 30*10^6 //lb/in^2\n",
"t= 0.25 //in\n",
"g= 32.2 //ft/sec^2\n",
"w= 62.4 //lb/ft^3\n",
"K= 300000 //lb/in^2\n",
"//CALCULATIONS\n",
"v= Q/(%pi*(d/12)^2/4)\n",
"p= v/(sqrt(144*(g/w)*((1/K)+(d/(t*E)))))\n",
"//RESULTS\n",
"printf ('rise of presure in the pipe = %.f lb/in^2 ',p)"
   ]
   }
,
{
		   "cell_type": "markdown",
		   "metadata": {},
		   "source": [
			"## Example 5.27: example_27.sce"
		   ]
		  },
  {
"cell_type": "code",
	   "execution_count": null,
	   "metadata": {
	    "collapsed": true
	   },
	   "outputs": [],
"source": [
"clc \n",
"//initialisation of variables\n",
"w= 62.4 //lb/ft^3\n",
"f= 0.005\n",
"Q= 100 //cuses\n",
"m= 40 //Rs\n",
"n= 0.75\n",
"n1= 0.065\n",
"K= 15 //Rs\n",
"//CALCULATIONS\n",
"d= ((5*w/(1.5*550*10))*n*f*Q^3*m/(K*n1))^(1/6.5)\n",
"//RESULTS\n",
"printf ('economical diameter of pipe line = %.3f ft ',d)"
   ]
   }
,
{
		   "cell_type": "markdown",
		   "metadata": {},
		   "source": [
			"## Example 5.2: example_2.sce"
		   ]
		  },
  {
"cell_type": "code",
	   "execution_count": null,
	   "metadata": {
	    "collapsed": true
	   },
	   "outputs": [],
"source": [
"clc \n",
"//initialisation of variables\n",
"d= 3 //ft\n",
"l= 5280 //ft\n",
"v= 3 //ft/sec\n",
"f= 0.005\n",
"g= 32.2 //ft/sec^2\n",
"C= 115\n",
"//CALCULATIONS\n",
"hf= 4*f*l*v^2/(2*g*v)\n",
"m= d/4\n",
"hf1= (v/C)^2*4*l/3\n",
"//RESULTS\n",
"printf ('hf = %.2f ft ',hf)\n",
"printf ('\n hf = %.2f ft ',hf1)"
   ]
   }
,
{
		   "cell_type": "markdown",
		   "metadata": {},
		   "source": [
			"## Example 5.3: example_3.sce"
		   ]
		  },
  {
"cell_type": "code",
	   "execution_count": null,
	   "metadata": {
	    "collapsed": true
	   },
	   "outputs": [],
"source": [
"clc \n",
"//initialisation of variables\n",
"d= 6 //in\n",
"Q= 2 //cfs\n",
"l= 1000 //ft\n",
"f= 0.0055\n",
"w= 62.4 //lb/ft^3\n",
"g= 32.2 //ft/sec^2\n",
"h= 70 //ft\n",
"//CALCULATIONS\n",
"v= Q/(%pi*(d/12)^2/4)\n",
"hf= 4*f*l*w*(Q/(%pi*(d/12)^2/4))^2/((d/12)*2*144*g)\n",
"P= hf+(h*w/144)\n",
"//RESULTS\n",
"printf ('pressure = %.1f lb/in^2 ',hf)\n",
"printf ('\n presure difference = %.2f lb/in^2 ',P)"
   ]
   }
,
{
		   "cell_type": "markdown",
		   "metadata": {},
		   "source": [
			"## Example 5.4: example_4.sce"
		   ]
		  },
  {
"cell_type": "code",
	   "execution_count": null,
	   "metadata": {
	    "collapsed": true
	   },
	   "outputs": [],
"source": [
"\n",
"clc \n",
"//initialisation of variables\n",
"d= 6 //in\n",
"hf= 7.7 //ft\n",
"f= 0.005\n",
"l= 1000 //ft\n",
"g= 32.2 //ft/sec^2\n",
"//CALCULATIONS\n",
"C= sqrt(2*g/f)\n",
"Q= %pi*C*(d/12)^2.5*(hf/1000)^0.5 /8\n",
"//RESULTS\n",
"printf ('Discharge = %.2f cfs ',Q)"
   ]
   }
,
{
		   "cell_type": "markdown",
		   "metadata": {},
		   "source": [
			"## Example 5.5: example_5.sce"
		   ]
		  },
  {
"cell_type": "code",
	   "execution_count": null,
	   "metadata": {
	    "collapsed": true
	   },
	   "outputs": [],
"source": [
"clc \n",
"//initialisation of variables\n",
"Q= 400000\n",
"d= 4 //miles\n",
"h= 50 //ft\n",
"q= 40 //gallons of water\n",
"t= 8 //hr\n",
"f= 0.0075\n",
"w= 6.24 //lb/ft^3\n",
"g= 32.2 //ft/sec^2\n",
"//CALCULATIONS\n",
"Q1=Q*q*0.5/(t*60*60*w)\n",
"d= (4*f*(d*5280)*Q1^2*16/(%pi^2*h*2*g))^0.2*12\n",
"//RESULTS\n",
"printf ('size of the supply = %.1f in ',d)"
   ]
   }
,
{
		   "cell_type": "markdown",
		   "metadata": {},
		   "source": [
			"## Example 5.6: example_6.sce"
		   ]
		  },
  {
"cell_type": "code",
	   "execution_count": null,
	   "metadata": {
	    "collapsed": true
	   },
	   "outputs": [],
"source": [
"clc \n",
"//initialisation of variables\n",
"Q= 0.7 //cfs\n",
"d= 6 //in\n",
"v1= 1.084*10^-5 //ft^2/sec\n",
"v2= 0.394*10^-5 //ft^2/sec\n",
"R= 2320\n",
"//CALCULATIONS\n",
"v3= R*v1/(d/12)\n",
"v4=R*v2/(d/12) \n",
"v= Q*4/(%pi*(d/12)^2)\n",
"//RESULTS\n",
"printf ('crititcal velocity = %.4f ft/sec ',v4)\n",
"printf ('\n actual velocity = %.2f ft/sec ',v)"
   ]
   }
,
{
		   "cell_type": "markdown",
		   "metadata": {},
		   "source": [
			"## Example 5.7: example_7.sce"
		   ]
		  },
  {
"cell_type": "code",
	   "execution_count": null,
	   "metadata": {
	    "collapsed": true
	   },
	   "outputs": [],
"source": [
"\n",
"clc \n",
"//initialisation of variables\n",
"p= 0.91 //units\n",
"u= 0.21 //poise\n",
"q= 200 //gallons\n",
"h= 40 //ft\n",
"l= 200 //ft\n",
"w= 62.4 //lb/ft^3\n",
"d= 3/4 //in\n",
"g=32.2 //ft/s^2\n",
"//CALCULATIONS\n",
"v= u/(p*(30.5)^2)\n",
"Q= q*10/(w*3600*p)\n",
"V= Q/(%pi*(d/12)^2/4)\n",
"Re= V*(d/12)/v\n",
"F= 64/Re\n",
"Hf= F*l*V^2/(2*g*(d/12))\n",
"Ht= Hf+h\n",
"P= w*p*Ht/144\n",
"//RESULTS\n",
"printf ('Pressure head  = %.1f lb/in^2 ',P)"
   ]
   }
,
{
		   "cell_type": "markdown",
		   "metadata": {},
		   "source": [
			"## Example 5.8: example_8.sce"
		   ]
		  },
  {
"cell_type": "code",
	   "execution_count": null,
	   "metadata": {
	    "collapsed": true
	   },
	   "outputs": [],
"source": [
"clc \n",
"//initialisation of variables\n",
"logh= 0.1761\n",
"logk= -0.415\n",
"logv= 0.3010\n",
"//CALCULATIONS\n",
"n= (logh-logk)/logv\n",
"//RESULTS\n",
"printf ('n = %.2f  ',n)"
   ]
   }
],
"metadata": {
		  "kernelspec": {
		   "display_name": "Scilab",
		   "language": "scilab",
		   "name": "scilab"
		  },
		  "language_info": {
		   "file_extension": ".sce",
		   "help_links": [
			{
			 "text": "MetaKernel Magics",
			 "url": "https://github.com/calysto/metakernel/blob/master/metakernel/magics/README.md"
			}
		   ],
		   "mimetype": "text/x-octave",
		   "name": "scilab",
		   "version": "0.7.1"
		  }
		 },
		 "nbformat": 4,
		 "nbformat_minor": 0
}
