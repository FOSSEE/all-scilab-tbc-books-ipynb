{
"cells": [
 {
		   "cell_type": "markdown",
	   "metadata": {},
	   "source": [
       "# Chapter 3: Flow Through Orifices Mouthpieces Nozzles"
	   ]
	},
{
		   "cell_type": "markdown",
		   "metadata": {},
		   "source": [
			"## Example 3.11: time_required_to_reduce_the_water_level_difference.sce"
		   ]
		  },
  {
"cell_type": "code",
	   "execution_count": null,
	   "metadata": {
	    "collapsed": true
	   },
	   "outputs": [],
"source": [
"\n",
"clc \n",
"//initialisation of variables\n",
"H1= 9 //ft\n",
"H2= 4 //ft\n",
"Cd= 0.6\n",
"a= 4 //in^2\n",
"A1= 72 //ft^2\n",
"A2= 24 //ft^2\n",
"g=32.2 //ft/s^2\n",
"//CALCULATIONS\n",
"t= (2*A1*A2/(A1+A2))*(sqrt(H1)-sqrt(H2))*144/(Cd*60*a*sqrt(2*g))\n",
"//RESULTS\n",
"printf ('time required to reduce the water level difference = %.1f min',t)"
   ]
   }
,
{
		   "cell_type": "markdown",
		   "metadata": {},
		   "source": [
			"## Example 3.12: side_of_the_square_orifice.sce"
		   ]
		  },
  {
"cell_type": "code",
	   "execution_count": null,
	   "metadata": {
	    "collapsed": true
	   },
	   "outputs": [],
"source": [
"clc \n",
"//initialisation of variables\n",
"l= 80 //ft\n",
"w= 12 //ft\n",
"t= 3 //min\n",
"Hl= 12 //ft\n",
"g= 32.2 //ft/sec^2\n",
"Cd= 0.6\n",
"//CALCULATIONS\n",
"s= sqrt(2*l*w*Hl^(1/2)/(Cd*sqrt(2*g)*t*60))\n",
"//RESULTS\n",
"printf ('side of the square orifice = %.2f ft',s)"
   ]
   }
,
{
		   "cell_type": "markdown",
		   "metadata": {},
		   "source": [
			"## Example 3.13: Total_discharge.sce"
		   ]
		  },
  {
"cell_type": "code",
	   "execution_count": null,
	   "metadata": {
	    "collapsed": true
	   },
	   "outputs": [],
"source": [
"clc \n",
"//initialisation of variables\n",
"g= 32.2 //ft/sec^2\n",
"Cd= 0.6\n",
"d= 2 //in\n",
"H1= 5 //ft\n",
"//CALCULATIONS\n",
"v= sqrt(2*g*H1)/2\n",
"q= v*Cd*%pi*(d/12)^2/4\n",
"//RESULTS\n",
"printf ('Total discharge = %.3f cfs',q)"
   ]
   }
,
{
		   "cell_type": "markdown",
		   "metadata": {},
		   "source": [
			"## Example 3.14: Discharge_by_appropriate_formula.sce"
		   ]
		  },
  {
"cell_type": "code",
	   "execution_count": null,
	   "metadata": {
	    "collapsed": true
	   },
	   "outputs": [],
"source": [
"\n",
"clc \n",
"//initialisation of variables\n",
"Cd= 0.62\n",
"H= 9 //in\n",
"l= 3 //ft\n",
"g= 32.2 //t/sec^2\n",
"//CALCULATIONS\n",
"Q1= Cd*(H*l/12)*sqrt(2*g*3*H/24)\n",
"Q2= Cd*2*l*sqrt(2*g)*((H/6)^(3/2)-(H/12)^(3/2))/3\n",
"//RESULTS\n",
"printf ('Discharge by appropriate formula = %.2f cfs',Q1)\n",
"printf ('\n Discharge by exact formula = %.2f cfs',Q2)"
   ]
   }
,
{
		   "cell_type": "markdown",
		   "metadata": {},
		   "source": [
			"## Example 3.15: Total_discharge.sce"
		   ]
		  },
  {
"cell_type": "code",
	   "execution_count": null,
	   "metadata": {
	    "collapsed": true
	   },
	   "outputs": [],
"source": [
"clc \n",
"//initialisation of variables\n",
"Cd= 0.62\n",
"B= 2.5 //ft\n",
"H2= 8 //ft\n",
"H1= 7 //ft\n",
"g= 32.2 //ft/sec^2\n",
"h= 4 //ft\n",
"//CALCULATIONS\n",
"Q1= 2*Cd*B*sqrt(2*g)*(H2^(3/2)-H1^(3/2))/3\n",
"Q2= Cd*sqrt(2*g)*sqrt(H2)*B*(h-1)\n",
"Q= Q1+Q2\n",
"//RESULTS\n",
"printf ('Total discharge = %.f cfs',Q)"
   ]
   }
,
{
		   "cell_type": "markdown",
		   "metadata": {},
		   "source": [
			"## Example 3.1: Cr.sce"
		   ]
		  },
  {
"cell_type": "code",
	   "execution_count": null,
	   "metadata": {
	    "collapsed": true
	   },
	   "outputs": [],
"source": [
"clc \n",
"//initialisation of variables\n",
"Q= 16 //gpm\n",
"w= 62.4 //lb/ft^3\n",
"d= 1 //in\n",
"h= 2+(5/12) //ft\n",
"g= 32.2 //ft/sec^2\n",
"x= 11.5 //ft\n",
"h1= 1.2 //in\n",
"//CALCULATIONS\n",
"Cd= Q*10/(60*w*(%pi*(d/12)^2/4)*sqrt(2*g*h))\n",
"Cv= sqrt(x^2/(4*(h1/12)*h*12^2))\n",
"Cc= Cd/Cv\n",
"Cr= (1-Cv^2)/Cv^2\n",
"//RESULTS\n",
"printf ('Cr = %.3f  ',Cr)"
   ]
   }
,
{
		   "cell_type": "markdown",
		   "metadata": {},
		   "source": [
			"## Example 3.2: Cd.sce"
		   ]
		  },
  {
"cell_type": "code",
	   "execution_count": null,
	   "metadata": {
	    "collapsed": true
	   },
	   "outputs": [],
"source": [
"clc \n",
"//initialisation of variables\n",
"Ww= 261 //lb/min\n",
"a= 1 //in^2\n",
"h= 4 //ft\n",
"y=  5 //ft\n",
"W1= 10.65 //lb\n",
"l= 1 //ft\n",
"Q= 261 //lb/min\n",
"w= 62.4 //lb/ft^3\n",
"g= 32.2 //ft/sec^2\n",
"//CALCULATIONS\n",
"v= Q*144/(w*60)\n",
"F= W1*l/y\n",
"v= F*g*60/Q\n",
"vth= sqrt(2*g*h)\n",
"Cv= v/vth\n",
"Q1= Ww/w\n",
"Qth= vth*60/144\n",
"Cd= Q1/Qth\n",
"Cc= Cd/Cv\n",
"//RESULTS\n",
"printf ('Cd = %.3f  ',Cd)\n",
"printf ('\n Cc = %.3f  ',Cc)"
   ]
   }
,
{
		   "cell_type": "markdown",
		   "metadata": {},
		   "source": [
			"## Example 3.3: Work_done.sce"
		   ]
		  },
  {
"cell_type": "code",
	   "execution_count": null,
	   "metadata": {
	    "collapsed": true
	   },
	   "outputs": [],
"source": [
"clc \n",
"//initialisation of variables\n",
"Q= 10 //ft^3/sec\n",
"a1= 1 //ft^2\n",
"a2= 4 //ft^2\n",
"g= 32.2 //ft/sec^2\n",
"p1= 12 //lb/in^2\n",
"v1= 10 //ft/sec\n",
"w= 62.4 //lb/ft^3\n",
"//RESULTS\n",
"v2= v1*a1/a2\n",
"Hl= (v1-v2)^2/(2*g)\n",
"p2= ((p1*144/w)+(v1^2/(2*g))-(v2^2/(2*g))-Hl)*(w/144)\n",
"W= Hl*v1*w/550\n",
"\n",
"//RESULTS\n",
"printf ('Head lost = %.3f ft of water ',Hl)\n",
"printf ('\n Pressure in larger part of pipe = %.2f lb/in^2 ',p2)\n",
"printf ('\n Work done = %.3f HP ',W)"
   ]
   }
,
{
		   "cell_type": "markdown",
		   "metadata": {},
		   "source": [
			"## Example 3.4: Pressure_at_Vent_contraction.sce"
		   ]
		  },
  {
"cell_type": "code",
	   "execution_count": null,
	   "metadata": {
	    "collapsed": true
	   },
	   "outputs": [],
"source": [
"clc \n",
"//initialisation of variables\n",
"Cc= 1\n",
"Cv= 0.833\n",
"d= 2 //in\n",
"g= 32.2 //ft/sec^2\n",
"H= 12 //ft\n",
"Pa= 34 //lb/in^2\n",
"///CALCULATIONS\n",
"Q= Cc*Cv*%pi*(d/12)^2*sqrt(2*g*H)/4\n",
"Cd= Cc*Cv\n",
"Pc= Pa-0.92*H\n",
"//RESULTS\n",
"//RESULTS\n",
"printf ('Discharge = %.3f cu ft/sec ',Q)\n",
"printf ('\n Coefficient of discharge = %.3f  ',Cd)\n",
"printf ('\n Pressure at Vent-contraction= %.2f ft of water ',Pc)"
   ]
   }
,
{
		   "cell_type": "markdown",
		   "metadata": {},
		   "source": [
			"## Example 3.5: Actual_Discharge.sce"
		   ]
		  },
  {
"cell_type": "code",
	   "execution_count": null,
	   "metadata": {
	    "collapsed": true
	   },
	   "outputs": [],
"source": [
"clc \n",
"//initialisation of variables\n",
"H= 4 //ft\n",
"d= 1 //in\n",
"g= 32.2 //ft/sec^2\n",
"Cc= 0.5\n",
"//CALCULATIONS\n",
"Q= Cc*%pi*(d/12)^2*sqrt(2*g*H)/4\n",
"//RESULTS\n",
"printf ('Actual Discharge = %.4f cu ft/sec ',Q)"
   ]
   }
,
{
		   "cell_type": "markdown",
		   "metadata": {},
		   "source": [
			"## Example 3.6: Discharge.sce"
		   ]
		  },
  {
"cell_type": "code",
	   "execution_count": null,
	   "metadata": {
	    "collapsed": true
	   },
	   "outputs": [],
"source": [
"clc \n",
"//initialisation of variables\n",
"D= 4 //ft\n",
"d= 2 //in\n",
"H1= 6 //ft\n",
"H2= 2 //ft\n",
"t= 4 //min\n",
"g= 32.2 //ft/sec^2\n",
"w= 62.4 //lb/ft^3\n",
"H= 5 //ft\n",
"//CALCULATIONS\n",
"Cd= (2*(%pi/4)*D^2*(sqrt(H1)-sqrt(H2)))/(t*60*(%pi/4)*(d/12)^2*sqrt(2*g))\n",
"Q= Cd*(%pi/4)*(d/12)^2*sqrt(2*g*H)*w*60/10\n",
"//RESULTS\n",
"printf ('Cd = %.3f ',Cd)\n",
"printf ('\n Discharge = %.1f gpm',Q)"
   ]
   }
,
{
		   "cell_type": "markdown",
		   "metadata": {},
		   "source": [
			"## Example 3.7: time_required_to_lower_the_water_level.sce"
		   ]
		  },
  {
"cell_type": "code",
	   "execution_count": null,
	   "metadata": {
	    "collapsed": true
	   },
	   "outputs": [],
"source": [
"clc \n",
"//initialisation of variables\n",
"H1= 10 //ft\n",
"H2= 2 //ft\n",
"Cd= 0.61\n",
"d1= 8 //ft\n",
"g= 32.2 //ft/sec^2\n",
"d2= 3 //ft\n",
"//CALCULATIONS\n",
"a= d2^2/144\n",
"H0= H1*d2/(d1-d2)\n",
"t= %pi*(d1/2)^2*((2/5)*(H1^(5/2)-H2^(5/2))+2*H0^2*(sqrt(H1)-sqrt(H2))+(4/3)*H0*(H1^(3/2)-H2^(3/2)))/(60*Cd*a*sqrt(2*g)*(H1+H0)^2)\n",
"//RESULTS\n",
"printf ('time required to lower the water level = %.2f min',t)"
   ]
   }
,
{
		   "cell_type": "markdown",
		   "metadata": {},
		   "source": [
			"## Example 3.8: time_required_to_empty_the_vessel.sce"
		   ]
		  },
  {
"cell_type": "code",
	   "execution_count": null,
	   "metadata": {
	    "collapsed": true
	   },
	   "outputs": [],
"source": [
"\n",
"clc \n",
"//initialisation of variables\n",
"D= 10 //ft\n",
"H1= 17 //ft\n",
"H2= 5 //ft\n",
"d= 3 //in\n",
"Cd= 0.62\n",
"g=32.2 //ft/s^2\n",
"//CALCULATIONS\n",
"t1= (2*%pi*D^2/4)*(sqrt(H1)-sqrt(H2))/(Cd*sqrt(2*g)*%pi*(d/12)^2/4)\n",
"t2= %pi*(14/15)*H2^(5/2)*4/(Cd*%pi*(d/12)^2*sqrt(2*g))\n",
"t= t1+t2\n",
"//RESULTS\n",
"printf ('time required to empty the vessel = %.f sec',t)"
   ]
   }
,
{
		   "cell_type": "markdown",
		   "metadata": {},
		   "source": [
			"## Example 3.9: time_to_emptify_biler.sce"
		   ]
		  },
  {
"cell_type": "code",
	   "execution_count": null,
	   "metadata": {
	    "collapsed": true
	   },
	   "outputs": [],
"source": [
"clc \n",
"//initialisation of variables\n",
"Cd= 0.8\n",
"g= 32.2 //ft/sec^2\n",
"d= 3 //in\n",
"//CALCULATIONS\n",
"t= (60*2/(%pi*(d/12)^2*sqrt(2*g)/4*Cd))*(6-d)^(3/2)/(3*60/2)\n",
"//RESULTS\n",
"printf ('time to emptify biler = %.2f min',t)"
   ]
   }
],
"metadata": {
		  "kernelspec": {
		   "display_name": "Scilab",
		   "language": "scilab",
		   "name": "scilab"
		  },
		  "language_info": {
		   "file_extension": ".sce",
		   "help_links": [
			{
			 "text": "MetaKernel Magics",
			 "url": "https://github.com/calysto/metakernel/blob/master/metakernel/magics/README.md"
			}
		   ],
		   "mimetype": "text/x-octave",
		   "name": "scilab",
		   "version": "0.7.1"
		  }
		 },
		 "nbformat": 4,
		 "nbformat_minor": 0
}
