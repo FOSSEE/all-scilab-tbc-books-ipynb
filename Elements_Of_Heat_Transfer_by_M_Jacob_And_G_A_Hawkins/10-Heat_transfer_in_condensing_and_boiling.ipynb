{
"cells": [
 {
		   "cell_type": "markdown",
	   "metadata": {},
	   "source": [
       "# Chapter 10: Heat transfer in condensing and boiling"
	   ]
	},
{
		   "cell_type": "markdown",
		   "metadata": {},
		   "source": [
			"## Example 10.1: Condensation.sci"
		   ]
		  },
  {
"cell_type": "code",
	   "execution_count": null,
	   "metadata": {
	    "collapsed": true
	   },
	   "outputs": [],
"source": [
"clc();\n",
"clear;\n",
"\n",
"// To determne the heat transfer coefficient for steam\n",
"y=1.9;                                      // Density in slug/ft^-2\n",
"u=0.0354;                                   // Viscosity in slug/ft-hr\n",
"k=0.376;                                    // Thermal conductivity in Btu/hr-ft-degF\n",
"l=32600;                                    // Heat of condensation in Btu/slug\n",
"Tg=142;                                     // Temperature of steam in degF\n",
"Tw=138;                                     // Temperature of wall in degF\n",
"delT=Tg-Tw;                                 // Temperature driving force in degF\n",
"g=418*10^6;                                 // Gravity in ft/sec^2\n",
"L=1/12;                                     // Outside diameter of horizontal tube in ft\n",
"C=0.725;                                    // For horizontal tube\n",
"h=C*(g*y^2*l*k^3/(L*u*delT))^0.25;          // Heat transfer coefficient in Btu/hr-ft^2-degF\n",
"printf('The heat transfer coefficient for steam condensing on a horizontal tube is %d Btu/hr-ft^2-degF',h);"
   ]
   }
],
"metadata": {
		  "kernelspec": {
		   "display_name": "Scilab",
		   "language": "scilab",
		   "name": "scilab"
		  },
		  "language_info": {
		   "file_extension": ".sce",
		   "help_links": [
			{
			 "text": "MetaKernel Magics",
			 "url": "https://github.com/calysto/metakernel/blob/master/metakernel/magics/README.md"
			}
		   ],
		   "mimetype": "text/x-octave",
		   "name": "scilab",
		   "version": "0.7.1"
		  }
		 },
		 "nbformat": 4,
		 "nbformat_minor": 0
}
