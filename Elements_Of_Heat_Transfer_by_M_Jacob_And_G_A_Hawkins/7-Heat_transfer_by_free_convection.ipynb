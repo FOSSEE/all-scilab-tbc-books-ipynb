{
"cells": [
 {
		   "cell_type": "markdown",
	   "metadata": {},
	   "source": [
       "# Chapter 7: Heat transfer by free convection"
	   ]
	},
{
		   "cell_type": "markdown",
		   "metadata": {},
		   "source": [
			"## Example 7.1: Heat_transfer_by_vertical_and_horizontal_surfaces.sci"
		   ]
		  },
  {
"cell_type": "code",
	   "execution_count": null,
	   "metadata": {
	    "collapsed": true
	   },
	   "outputs": [],
"source": [
"clc();\n",
"clear;\n",
"\n",
"// To find the film coefficient for free convetion for a heated plate\n",
"\n",
"tp=200;                                   // Temperature of heated plate in degF\n",
"ta=60;                                    // Temperature of air in degF\n",
"tf=(tp+ta)/2;                             // Temperature of film in degF\n",
"delt=tp-ta;                               // Temperature difference in degF\n",
"Z=950000;                                 // As referred from the chart for corresponding temperature \n",
"L=18/12;                                  // Height of vertical plate in ft \n",
"\n",
"X=L^3*(delt)*Z;\n",
"// This value shows that it is laminar range so formula is as follows\n",
"\n",
"h=0.29*(delt/L)^.25;                      // Heat transfer coeeficient in Btu/hr-ft^2-degF\n",
"printf('The film coefficient for free convetion for the heated plate is %.1f Btu/hr-ft^2/degF',h)"
   ]
   }
,
{
		   "cell_type": "markdown",
		   "metadata": {},
		   "source": [
			"## Example 7.2: Heat_transfer_from_horizontal_surface.sci"
		   ]
		  },
  {
"cell_type": "code",
	   "execution_count": null,
	   "metadata": {
	    "collapsed": true
	   },
	   "outputs": [],
"source": [
"clc();\n",
"clear;\n",
"\n",
"// To find the film coefficient for natural convetion for a heated square plate\n",
"\n",
"tp=300;                                    // Temperature of heated plate in degF\n",
"ta=80;                                     // Temperature of air in degF\n",
"tf=(tp+ta)/2;                              // Temperature of film in degF\n",
"delt=tp-ta;                                // Temperature difference in degF\n",
"Z=610000;                                  // As referred from the chart for corresponding temperature \n",
"L=7/12;                                    // Height of vertical plate in ft \n",
"A=L*L;                                     // Area of square plate in ft^2\n",
"X=L^3*(delt)*Z;\n",
"\n",
"// This value shows that it is turbulent range , so formula for heat transfer coefficient is as follow \n",
"h=0.22*delt^(1/3);                         // Temperature coeeficient in Btu/hr-ft^2-degF\n",
"q=h*A*delt;                                // Heat loss in Btu/hr\n",
"\n",
"printf('The film coefficient for free convetion for the heated plate is %.2f Btu/hr-ft^2-degF',h);\n",
"printf('\n The heat loss by natural convection from the square plate is %.2f Btu/hr',q);"
   ]
   }
,
{
		   "cell_type": "markdown",
		   "metadata": {},
		   "source": [
			"## Example 7.3: Heat_transfer_from_horizontal_cylinders.sci"
		   ]
		  },
  {
"cell_type": "code",
	   "execution_count": null,
	   "metadata": {
	    "collapsed": true
	   },
	   "outputs": [],
"source": [
"clc();\n",
"clear;\n",
"// To calculate heat loss by natural convection in a horizontal nominal steam pipe \n",
"\n",
"D=0.375;                                   // Outer diameter in ft\n",
"T1=200;                                    // Pipe surface temperature in degF\n",
"T2=70;                                     // Air temperature in degF\n",
"Tf=(T1+T2)/2;                              // Film temperature at whih physical properties is to be measured\n",
"delT=T1-T2;\n",
"rho=0.0667/32.2;                           // Density in slug/ft^3\n",
"u=0.0482/32.2;                             // Viscosity in slug/ft-hr\n",
"b=1/(460+T2 );\n",
"Cp=0.241*32.2;                             // Heat capacity in Btu/slug-ft\n",
"// The value of specific heat is related to 1 lb mass so it must be multiplied to 32.2 to convert it into slugs\n",
"k=0.0164;                                  // Thermal conductivity in Btu/hr-ft-degF\n",
"g=32.2*3600;\n",
"// Unit of time used is hour so it must be converted to sec. Hence 3600 is multiplied  \n",
"Ngr=D^3*rho^2*b*g*delT/(u^3);              // Grasshops number\n",
"Npr=u*Cp/k;                                // Prandtls number\n",
"A=log(Ngr*Npr);\n",
"\n",
"// Tha value of A is 6.866\n",
"// Now seeing the value of nusselt number from the table\n",
"\n",
"Nnu=25.2;                                  // Nusselt number\n",
"h=Nnu*k/D;                                 // Heat transfer coefficient \n",
"q=h*delT;                                  // Heat loss per unit area in Btu/hr\n",
"\n",
"printf('Heat loss per unit square foot is %d Btu/hr-ft^2',q);"
   ]
   }
,
{
		   "cell_type": "markdown",
		   "metadata": {},
		   "source": [
			"## Example 7.4: Heat_transfer_from_horizontal_cylinders.sci"
		   ]
		  },
  {
"cell_type": "code",
	   "execution_count": null,
	   "metadata": {
	    "collapsed": true
	   },
	   "outputs": [],
"source": [
"clc();\n",
"clear;\n",
"\n",
"// To find the film coefficient for natural convetion for a heated square plate\n",
"\n",
"tp=200;                                    // Temperature of heated plate in degF\n",
"ta=70;                                     // Temperature of air in degF\n",
"tf=(tp+ta)/2;                              // Temperature of film in degF\n",
"delt=tp-ta;                                // Temperature difference in degF\n",
"Z=910000;                                  // As referred from the chart for corresponding temperature \n",
"D=4.5/12;                                  // Diameter of pipe in ft\n",
"X=D^3*(delt)*Z;\n",
"// This value lies between X=1000 to X=10^9 , so formula for heat transfer coefficient is as follow \n",
"\n",
"h=0.27*(delt/D)^(1/4);                      // Temperature coeeficient in Btu/hr-ft^2-degF\n",
"q=h*delt;                                   // Heat loss in Btu/hr\n",
"\n",
"printf('The film coefficient for free convetion for the heated plate is %.2f Btu/hr-ft^2-degF',h);\n",
"printf('\n The heat loss by natural convection from the square plateis %d Btu/hr',q);"
   ]
   }
],
"metadata": {
		  "kernelspec": {
		   "display_name": "Scilab",
		   "language": "scilab",
		   "name": "scilab"
		  },
		  "language_info": {
		   "file_extension": ".sce",
		   "help_links": [
			{
			 "text": "MetaKernel Magics",
			 "url": "https://github.com/calysto/metakernel/blob/master/metakernel/magics/README.md"
			}
		   ],
		   "mimetype": "text/x-octave",
		   "name": "scilab",
		   "version": "0.7.1"
		  }
		 },
		 "nbformat": 4,
		 "nbformat_minor": 0
}
