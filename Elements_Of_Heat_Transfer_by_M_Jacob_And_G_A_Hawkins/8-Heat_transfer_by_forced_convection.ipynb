{
"cells": [
 {
		   "cell_type": "markdown",
	   "metadata": {},
	   "source": [
       "# Chapter 8: Heat transfer by forced convection"
	   ]
	},
{
		   "cell_type": "markdown",
		   "metadata": {},
		   "source": [
			"## Example 8.1: Heating_of_fluids_in_turbulent_flow.sci"
		   ]
		  },
  {
"cell_type": "code",
	   "execution_count": null,
	   "metadata": {
	    "collapsed": true
	   },
	   "outputs": [],
"source": [
"clc();\n",
"clear;\n",
"\n",
"// To calculate the average film coefficient of heat transfer \n",
"\n",
"D=0.0752;                               // Outer diameter in ft\n",
"T1=61.4;                                // Pipe surface temperature in degF\n",
"T2=69.9;                                // Air temperature in degF\n",
"Tf=(T1+T2)/2;                           // Film temperature at whih physical properties is to be measured\n",
"delT=T1-T2;\n",
"rho=1.94;                               // Density in slug/ft^3 , 62.3/32.2\n",
"u=0.0780;                               // viscosity in slug/ft-hr , 2.51/32.2\n",
"Cp=1*32.2;                              // heat capacity in Btu/slug-ft\n",
"k=0.340;                                // thermal conductivity in Btu/hr-ft-degF\n",
"v=7*3600;                               // velocity in ft/sec\n",
"\n",
"Nre=D*v*rho/u;                          // Reynolds number\n",
"Npr=u*Cp/k;                             // Prandtls number\n",
"Nnu=0.023*Nre^.8*Npr^.4;\n",
"h=Nnu*k/D;                              // heat transfer coefficient \n",
"printf('The average film coefficient of heat transfer is %.d Btu/hr-ft^2-degF',h);"
   ]
   }
,
{
		   "cell_type": "markdown",
		   "metadata": {},
		   "source": [
			"## Example 8.3: The_heating_of_fluids_flowing_normal_to_tubes.sci"
		   ]
		  },
  {
"cell_type": "code",
	   "execution_count": null,
	   "metadata": {
	    "collapsed": true
	   },
	   "outputs": [],
"source": [
"clc();\n",
"clear;\n",
"\n",
"// To calculate heat transfer coeeficient fir air flowing over a pipe\n",
"\n",
"D=1/12;                                    // Inner diameter of pipe in ft\n",
"k=0.0174;                                  // Thermal conductivity in btu/hr-ft-degF\n",
"Nre=8000;                                  // Reynolds number\n",
"\n",
"// From table we can find out nusselt number\n",
"Nnu=0.3*Nre^0.57;                           // Nusselt number\n",
"h=round(Nnu)*k/D;                           // Heat transfer coefficient in btu/hr-ft^2-degF\n",
"\n",
"printf('heat transfer coefficient for air flowing is %.1f Btu/hr-ft^2-degF',h);\n",
""
   ]
   }
],
"metadata": {
		  "kernelspec": {
		   "display_name": "Scilab",
		   "language": "scilab",
		   "name": "scilab"
		  },
		  "language_info": {
		   "file_extension": ".sce",
		   "help_links": [
			{
			 "text": "MetaKernel Magics",
			 "url": "https://github.com/calysto/metakernel/blob/master/metakernel/magics/README.md"
			}
		   ],
		   "mimetype": "text/x-octave",
		   "name": "scilab",
		   "version": "0.7.1"
		  }
		 },
		 "nbformat": 4,
		 "nbformat_minor": 0
}
