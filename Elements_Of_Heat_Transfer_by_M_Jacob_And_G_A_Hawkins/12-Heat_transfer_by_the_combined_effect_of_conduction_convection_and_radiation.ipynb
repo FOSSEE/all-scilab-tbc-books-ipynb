{
"cells": [
 {
		   "cell_type": "markdown",
	   "metadata": {},
	   "source": [
       "# Chapter 12: Heat transfer by the combined effect of conduction convection and radiation"
	   ]
	},
{
		   "cell_type": "markdown",
		   "metadata": {},
		   "source": [
			"## Example 12.1: Heat_losses_from_insulated_horizontal_table.sci"
		   ]
		  },
  {
"cell_type": "code",
	   "execution_count": null,
	   "metadata": {
	    "collapsed": true
	   },
	   "outputs": [],
"source": [
"clc();\n",
"clear;\n",
"\n",
"// To calculate the heat loss per linear foot from a 4-in. (out-side diameter=4.5 in.)nominal horizontal steel pipe covered with 1 in.of insulation\n",
"\n",
"D=4.5/12;                                     // Outer diameter of pipe in ft\n",
"D2=6.5/12;                                    // Outer diameter of insulation in ft\n",
"k=0.035;                                      // Thermal conductivity in Btu/hr-ft-degF\n",
"T1=400;                                       // Temperature of pipe in degF\n",
"T3=70;                                        // Temperature of air in degF\n",
"T2=120;                                       // Assumed temperature in degF \n",
"h=2*k*(T1-T2)/(D2*(T2-T3)*log(D2/D));         // Sum of coefficient of convection and radiation\n",
"delT=T2-T3;                                   // Temperature differnce in degF\n",
"T2=120;                                       // Assumed temperature in degF \n",
"printf('The assumption of T2=120 comes out to be satisfactory and hc+hr=%.1f \n ',h);\n",
"q=h*%pi*D2*delT;                              // Heat loss in Btu/hr\n",
"printf('The heat loss per unit foot of pipe is %d Btu/hr-ft',q);"
   ]
   }
,
{
		   "cell_type": "markdown",
		   "metadata": {},
		   "source": [
			"## Example 12.2: Heat_loss_from_bare_tubes.sci"
		   ]
		  },
  {
"cell_type": "code",
	   "execution_count": null,
	   "metadata": {
	    "collapsed": true
	   },
	   "outputs": [],
"source": [
"clc();\n",
"clear;\n",
"\n",
"// To calculate the heat loss per square foot from an uninsulated 2 inch sch. pipe\n",
"\n",
"D=2.375/12;                                     // Outer diameter of pipe in ft\n",
"k=0.035;                                      // Thermal conductivity in Btu/hr-ft-degF\n",
"T1=400;                                       // Temperature of pipe in degF\n",
"T2=70;                                        // Temperature of air in degF\n",
"delT=T1-T2;                                   // Temperature differnce in degF\n",
"T2=120;                                       // Assumed temperature in degF \n",
"h=3.67;                                    \n",
"// As seen from the table , for delT=330. the value of hc+hr=3.67\n",
"q=h*delT;                                     // Heat loss in Btu/hr\n",
"printf('The heat loss per square foot of pipe is %d Btu/hr-ft',q);"
   ]
   }
],
"metadata": {
		  "kernelspec": {
		   "display_name": "Scilab",
		   "language": "scilab",
		   "name": "scilab"
		  },
		  "language_info": {
		   "file_extension": ".sce",
		   "help_links": [
			{
			 "text": "MetaKernel Magics",
			 "url": "https://github.com/calysto/metakernel/blob/master/metakernel/magics/README.md"
			}
		   ],
		   "mimetype": "text/x-octave",
		   "name": "scilab",
		   "version": "0.7.1"
		  }
		 },
		 "nbformat": 4,
		 "nbformat_minor": 0
}
