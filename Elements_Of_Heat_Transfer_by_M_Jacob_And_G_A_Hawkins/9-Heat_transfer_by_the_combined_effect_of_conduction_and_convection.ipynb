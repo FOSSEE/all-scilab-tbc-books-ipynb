{
"cells": [
 {
		   "cell_type": "markdown",
	   "metadata": {},
	   "source": [
       "# Chapter 9: Heat transfer by the combined effect of conduction and convection"
	   ]
	},
{
		   "cell_type": "markdown",
		   "metadata": {},
		   "source": [
			"## Example 9.10: Heat_exchanger_effectiveness_ratio.sci"
		   ]
		  },
  {
"cell_type": "code",
	   "execution_count": null,
	   "metadata": {
	    "collapsed": true
	   },
	   "outputs": [],
"source": [
"clc();\n",
"clear;\n",
"\n",
"// To calculate the terminal temperature of oil and water \n",
"\n",
"To1=160;                               // inlet temperature of oil in degF\n",
"Cpo=0.5;                               // Specific heat capacity in Btu/lb-degf\n",
"Tw1=60;                                // Inlet temperature of water in degF\n",
"mo=1000;                               // Mass flow rate of oil in lb/hr\n",
"mw=2500;                               // Mass flow rate of water in lb/hr\n",
"Cpw=1;                                 // Heat capacity of water in Btu/hr\n",
"X=mo*Cpo/(mw*Cpw);                     // Ratio of flow rates \n",
"UA=1.15*mo*Cpo;\n",
"B=UA/mo*Cpo;\n",
"\n",
"// from the graph, we can locate the point of A and B And corresponding effectiveness ratio\n",
"E=0.86;                                // Effectiveness ratio\n",
"To2=To1-E*(To1-Tw1);                   // Outlet temperature of oil in degF\n",
"printf('The outlet temperature of oil is %d degF \n',To2);\n",
"\n",
"q=mo*Cpo*(To1-To2);                     // Heat transferred in Btu/hr\n",
"Tw2=Tw1+(q/(mw*Cpw));                   // Outlet temperature of oil in degF\n",
"printf(' The outlet tempearture of water is %.1f degF',Tw2);\n",
"\n",
"\n",
"\n",
"     "
   ]
   }
,
{
		   "cell_type": "markdown",
		   "metadata": {},
		   "source": [
			"## Example 9.11: Combined_conduction_and_convection.sci"
		   ]
		  },
  {
"cell_type": "code",
	   "execution_count": null,
	   "metadata": {
	    "collapsed": true
	   },
	   "outputs": [],
"source": [
"clc();\n",
"clear;\n",
"\n",
"// To compute the temprature distribution\n",
"h=1;                                        // Heat transfer coefficient in Btu/hr-ft^2-degF\n",
"x=1;                                        // Assumed thickness in ft\n",
"k=1;                                        // Thermal conductivity in Btu/hr-ft-degF\n",
"N=h*x/k;\n",
"t0=600;\n",
"t4=200;\n",
"t1=[500 550 550 525 525 512.5 512.5 512.5 506.2 506.2 506.2 506.2 503.1 503.1];\n",
"t2=[450 450 450 450 425 425 425 412.5 412.5 412.5 406.3 406.3 406.3 403.1];\n",
"t3=[350 350 325 325 325 325 312.5 312.5 312.5 306.3 306.3 303.1 303.1 303.1];\n",
"\n",
"// Assumed temperatures in degF for points 1 2 & 3 respectively\n",
"for i=1:14\n",
"th1(i)=t0+t2(i)-2*t1(i);\n",
"th2(i)=t1(i)+t3(i)-2*t2(i);\n",
"th3(i)=t2(i)+t4-2*t3(i);\n",
"printf('Assuming t1=%.1f degF  t2=%.1fdegF  t3=%.1fdegF \n th1=%.1fdegF  th2=%.1fdegF  th3=%.1fdegF \n \n',t1(i),t2(i),t3(i),th1(i),th2(i),th3(i));\n",
"end\n",
"printf('This way assumption must be continued till all sink strengths are zero');"
   ]
   }
,
{
		   "cell_type": "markdown",
		   "metadata": {},
		   "source": [
			"## Example 9.1: Heat_transfer_from_a_rod.sci"
		   ]
		  },
  {
"cell_type": "code",
	   "execution_count": null,
	   "metadata": {
	    "collapsed": true
	   },
	   "outputs": [],
"source": [
"clc();\n",
"clear;\n",
"\n",
"// To find the temperature at the free end is made of copper iron and glass\n",
"\n",
"D = 3/48;                                // diameter in ft\n",
"L = 9/12;                                // Length of steam vessel in ft\n",
"T1 = 210;                                // Vessel temperature in degF\n",
"T2 = 80;                                 // Air temperature in degF\n",
"th0 = T1-T2;                             // Temperature difference in degF\n",
"h = 1.44;                                // Assumed heat coefficient in Btu/hr-ft^2-degF\n",
"C = %pi*D;                               // Circumference of vessel in ft \n",
"A = %pi*D*D/4;                           // Area of vessel in ft^2\n",
"\n",
"// For copper\n",
"k1 = 219;                                // Heat conductivity of copper in Btu/hr-ft-degF\n",
"m1 = sqrt(h*C/(k1*A));                   // in  /ft\n",
"th1 = th0*2/(exp(m1*L)+exp(-m1*L));           \n",
"Tl1 = round(th1+T2);                     // The temperaure at the free end in degF\n",
"printf('Temperature at free end of the copper rod is %d degF \n',Tl1);\n",
"\n",
"// For iron\n",
"k2 = 36;                                 // heat conductivity of copper in Btu/hr-ft-degF\n",
"m2 = sqrt(h*C/(k2*A));                   // in  /ft\n",
"th2 = th0*2/(exp(m2*L)+exp(-m2*L));           \n",
"Tl2 = th2+T2;                            // The temperaure at the free end in degF\n",
"printf(' Temperature at free end of the iron rod is %.2f degF \n',Tl2);\n",
"\n",
"// For glass\n",
"k3 = 0.64;                                // Heat conductivity of copper in Btu/hr-ft-degF\n",
"m3 = sqrt(h*C/(k3*A));                    // in  /ft\n",
"th3 = th0*2/(exp(m3*L)+exp(-m3*L));\n",
"Tl3 = th3+T2;                             // The temperaure at the free end in degF\n",
"printf(' Temperature at free end of the glass rod is %.2f degF \n',Tl3);"
   ]
   }
,
{
		   "cell_type": "markdown",
		   "metadata": {},
		   "source": [
			"## Example 9.2: Heat_transfer_from_a_rod.sci"
		   ]
		  },
  {
"cell_type": "code",
	   "execution_count": null,
	   "metadata": {
	    "collapsed": true
	   },
	   "outputs": [],
"source": [
"clc();\n",
"clear;\n",
"\n",
"// To find the temperature at the free end is made of copper iron and glass\n",
"\n",
"D = 3/48;                                // diameter in ft\n",
"L = 9/12;                                // Length of steam vessel in ft\n",
"T1 = 210;                                // Vessel temperature in degF\n",
"T2 = 80;                                 // Air temperature in degF\n",
"th0 = T1-T2;                             // Temperature difference in degF\n",
"h = 1.44;                                // Assumed heat coefficient in Btu/hr-ft^2-degF\n",
"C = %pi*D;                               // Circumference of vessel in ft \n",
"A = %pi*D*D/4;                           // Area of vessel in ft^2\n",
"\n",
"k = 36;                                  // heat conductivity of copper in Btu/hr-ft-degF\n",
"m = sqrt(h*C/(k*A));                     // in  /ft\n",
"q=k*A*m*th0*(exp(m*L)-exp(-m*L))/(exp(m*L)+exp(-m*L)); \n",
"// Heat loss by iron rod in Btu/hr\n",
"printf('The rate of heat loss by iron rod is %.d Btu/hr',q);\n",
"\n",
""
   ]
   }
,
{
		   "cell_type": "markdown",
		   "metadata": {},
		   "source": [
			"## Example 9.3: Heat_transmision_through_a_plane_wall.sci"
		   ]
		  },
  {
"cell_type": "code",
	   "execution_count": null,
	   "metadata": {
	    "collapsed": true
	   },
	   "outputs": [],
"source": [
"clc();\n",
"clear;\n",
"\n",
"// To calculate the heat transfer coefficient\n",
"\n",
"x = 3/96;                             // Thickness of plate  in ft\n",
"k = 220;                              // thermal conductivity in Btu/hr-ft-degF\n",
"h1 = 480;                             // Inner film coefficient in Btu/hr-ft^2-degF\n",
"h2 = 1250;                            // Outer film coefficient in Btu/hr-ft^2-degF\n",
"U = 1/((1/h1)+(x/k)+(1/h2));          // Overall heat transer coeeficient in Btu-hr-ft^2-degF\n",
"printf('Overall heat transfer coefficient is %d Btu/hr-ft^2-degF',U);"
   ]
   }
,
{
		   "cell_type": "markdown",
		   "metadata": {},
		   "source": [
			"## Example 9.4: Heat_transfer_through_a_cylinder_wall.sci"
		   ]
		  },
  {
"cell_type": "code",
	   "execution_count": null,
	   "metadata": {
	    "collapsed": true
	   },
	   "outputs": [],
"source": [
"clc();\n",
"clear;\n",
"\n",
"// To calculate the overall heat transfer coefficient\n",
"\n",
"r2 = 3/96;                            // Outer radius in ft\n",
"x = 0.1/12;                           // Thickness of plate  in ft\n",
"r1 = r2-x;                            // Outer radius in ft\n",
"k = 200;                              // thermal conductivity in Btu/hr-ft-degF\n",
"h1 = 280;                             // Inner film coefficient in Btu/hr-ft^2-degF\n",
"h2 = 2000;                            // Outer film coefficient in Btu/hr-ft^2-degF\n",
"U = 1/((r2/(h1*r1))+(r2*log(r2/r1)/k)+(1/h2));         // Overall heat transer coeeficient in Btu-hr-ft^2-degF\n",
"printf('Overall heat transfer coefficient is %d Btu/hr-ft^2-degF',U);"
   ]
   }
,
{
		   "cell_type": "markdown",
		   "metadata": {},
		   "source": [
			"## Example 9.5: LMTD.sci"
		   ]
		  },
  {
"cell_type": "code",
	   "execution_count": null,
	   "metadata": {
	    "collapsed": true
	   },
	   "outputs": [],
"source": [
"clc();\n",
"clear;\n",
"\n",
"// To calculate LMTD for heat exchanger\n",
"\n",
"Tc1 = 120;                                  // Inlet cold fluid temperature in degF\n",
"Tc2 = 310;                                  // Outlet cold fluid temperature in degF\n",
"Th1 = 500;                                  // Inlet hot fluid temperature in degF\n",
"Th2 = 400;                                  // Outlet hot fluid temperature in degF\n",
"delt1 = Th2-Tc1;                            // Maximum temperature difference in degF\n",
"delt2 = Th1-Tc2;                            // Minimum temperature difference in degF\n",
"LMTD = (delt1-delt2)/log(delt1/delt2);      // Log mean temperature difference \n",
"printf('The log mean temperature difference is %d degF',LMTD)     "
   ]
   }
,
{
		   "cell_type": "markdown",
		   "metadata": {},
		   "source": [
			"## Example 9.6: LMTD_through_graphs.sci"
		   ]
		  },
  {
"cell_type": "code",
	   "execution_count": null,
	   "metadata": {
	    "collapsed": true
	   },
	   "outputs": [],
"source": [
"clc();\n",
"clear;\n",
"\n",
"// To calculate temperature difference for heat exchanger\n",
"\n",
"Tc1 = 120;                                  // Inlet cold fluid temperature in degF\n",
"Tc2 = 310;                                  // Outlet cold fluid temperature in degF\n",
"Th1 = 500;                                  // Inlet hot fluid temperature in degF\n",
"Th2 = 400;                                  // Outlet hot fluid temperature in degF\n",
"K = (Tc2-Tc1)/(Th2-Tc2);                    // Temperature ratio\n",
"R = (Th1-Th2)/(Tc2-Tc1);                    // Temperature ratio    \n",
"delt1 = Th2-Tc1;                            // Maximum temperature difference in degF\n",
"delt2 = Th1-Tc2;                            // Minimum temperature difference in degF\n",
"LMTD = (delt1-delt2)/log(delt1/delt2);      // Log mean temperature difference\n",
"f = 0.99;                                   // Correction factor as seen from figure\n",
"LMTDc = round(LMTD*f);                      // Corrected log mean temperature difference\n",
"printf('Log mean temperature difference is %d degF',LMTDc);"
   ]
   }
,
{
		   "cell_type": "markdown",
		   "metadata": {},
		   "source": [
			"## Example 9.7: Calculation_for_heat_exchanger_design.sci"
		   ]
		  },
  {
"cell_type": "code",
	   "execution_count": null,
	   "metadata": {
	    "collapsed": true
	   },
	   "outputs": [],
"source": [
"clc();\n",
"clear;\n",
"// To calculate the outside tube area for a single-pass steam condenser\n",
"\n",
"Do=1/12;                               // Outside diameter of the condenser in ft\n",
"Di=0.902/12;                           // Outside diameter of the condenser in ft\n",
"Ts=81.7;                               // Steam temperature in degF\n",
"Tw1=61.4;                              // Water inlet temperature in degF\n",
"Tw2=69.9;                              // Water outlet temperature in degF\n",
"k=63;                                  // Thermal conductivity in Btu/hr-ft-degF\n",
"v=7;                                   // average velocity in ft/sec\n",
"h1=1270;                               // water side film coefficient i Btu/hr-ft^2-degF\n",
"h2=1000;                               // Steam side film coefficient in Btu/hr-ft^2-degF\n",
"\n",
"U=1/((Do/(Di*h1))+(Do*log(Do/Di)/(2*k))+(1/h2));     // Heat transfer coefficient\n",
"LMTD=((Ts-Tw1)-(Ts-Tw2))/log((Ts-Tw1)/(Ts-Tw2));   // Log mean temperature diff.\n",
"m=731300;                                          // Saturated steam to be handled in lb/hr\n",
"L=1097.4-49.7;                                     // Change in enthalpy in Btu/lb\n",
"q=m*L;                                             // Heat required in Btu/hr\n",
"A=q/(U*LMTD);                                      // Area of condenser in ft^2\n",
"printf('The area of steam condenser is %d ft^2',A);\n",
""
   ]
   }
,
{
		   "cell_type": "markdown",
		   "metadata": {},
		   "source": [
			"## Example 9.8: Heat_exchanger_design.sci"
		   ]
		  },
  {
"cell_type": "code",
	   "execution_count": null,
	   "metadata": {
	    "collapsed": true
	   },
	   "outputs": [],
"source": [
"clc();\n",
"clear;\n",
"\n",
"// To calculate overall heat transfer coefficient for heat exchanger\n",
"\n",
"Tc1 = 139.7;                                  // Inlet cold fluid temperature in degF\n",
"Tc2 = 59.5;                                   // Outlet cold fluid temperature in degF\n",
"Th1 = 108.7;                                 // Inlet hot fluid temperature in degF\n",
"Th2 = 97.2;                                   // Outlet hot fluid temperature in degF\n",
"delt1 = Tc1-Th2;                         // Maximum temperature difference in degF\n",
"delt2 = Th1-Tc2;                         // Minimum temperature difference in degF\n",
"LMTD = round((delt1-delt2)/log(delt1/delt2));\n",
"printf(' \n The log mean temperature difference is %d degF',LMTD);     \n",
"\n",
"m = 18210;                              // Flow rate through tubes\n",
"q = m*(Th2-Tc2);                        // Heat loss in Btu/hr\n",
"A = 48.1;                               // Area in ft^2\n",
"U = q/(A*LMTD);                         // Overall heat transfer coefficient\n",
"printf(' \n The overall heat transfer coefficient is %d Btu/hr-ft^2-degF \n',U);\n",
"\n",
"\n",
"// To calcalute using equations estabilished by correlation\n",
"Ts = 113;                               // Average tube temperature in degF\n",
"Tf = (123.9+Ts)/2;                      // Film temperature in degF\n",
"// At this temperature thermal properties are considered\n",
"p1 = 61.7/32.2;                              // Density in slug/ft^3\n",
"u1 = 1.38/32.2;                              // Viscosity in slug/ft-hr\n",
"Cp1 = 1*32.2;                                // Btu/slug/ft\n",
"k1 = 0.366;                                  // Thermal conductivity in Btu/hr-ft-degF\n",
"D1 = 0.375/12;                               // Diameter in ft\n",
"v1 = 7610;                                   // Velocity in ft/sec\n",
"Nre1 = v1*D1*p1/u1;                          // Reynolds number\n",
"Npr1 = u1*Cp1/k1;                            // Prandtls number\n",
"Nnu1 = 0.33*Nre1^0.6*Npr1^(1/3);             // Nusselt number\n",
"h1 = Nnu1*k1/D1;                             // Heat transfer coefficient\n",
"printf(' \n The outer heat transfer coefficient is %d Btu/hr-ft^2-degF ',h1);\n",
"\n",
"// Taking the thermal properties at 78.3 degF\n",
"p2 = 62.2/32.2;                              // Density in slug/ft^3\n",
"u2 = 2.13/32.2;                              // Viscosity in slug/ft-hr\n",
"Cp2 = 1*32.2;                                // Heat capacity in Btu/slug/ft\n",
"k2 = 0.348;                                  // Thermal conductivity in Btu/hr-ft-degF\n",
"D2 = 0.277/12;                               // Diameter in ft\n",
"v2 = 7140;                                   // Velocity in ft/sec\n",
"Nre2 = v2*D2*p2/u2;                          // Reynolds number\n",
"Npr2 = u2*Cp2/k2;                            // Prandtls number\n",
"Nnu2 = 0.023*Nre2^0.8*Npr2^(0.4);            // Nusselt number\n",
"h2 = Nnu2*k2/D2;                             // Heat transfer coefficient\n",
"printf(' \n The inner heat transfer coefficient is %d Btu/hr-ft^2-degF',h2);\n",
"\n",
"k3 = 58;\n",
"U1 = 1/((D1/(D2*h2))+(D1*log(D1/D2)/(2*k3))+(1/h1));   // Heat transfer coefficient \n",
"printf(' \n The overall heat transfer coefficient accordind to estabilished correlation  is %d Btu/hr-ft^2-degF \n',U1);"
   ]
   }
,
{
		   "cell_type": "markdown",
		   "metadata": {},
		   "source": [
			"## Example 9.9b: Heat_transfer_from_wall_in_contact_with_a_medium.sci"
		   ]
		  },
  {
"cell_type": "code",
	   "execution_count": null,
	   "metadata": {
	    "collapsed": true
	   },
	   "outputs": [],
"source": [
"clc();\n",
"clear;\n",
"\n",
"// To calculate the temperature of surface and centre plane\n",
"\n",
"t=2;                                  // Thickness of wall in ft\n",
"To=100;                               // Initial temperature of wall in degF\n",
"Tg=1000;                              // Temperature of hot gases exposed in degF\n",
"k=8;                                  // Thermal conductivity in Btu/hr-ft-degF\n",
"p=162;                                // density in lb/ft^-3\n",
"Cp=0.3;                               // Heat capacity in Btu/lb-degF\n",
"h=1.6;                                // Heat transfer coefficient in Btu/hr-ft^-2-degF\n",
"a=k/(p*Cp);                           // Thermal diffusivity\n",
"\n",
"// Considering the values of a and 4at/L^2 and hl/2k, the value of Phis, Phic and Si can be obtained\n",
"Phis=0.37;\n",
"Phic=0.41;\n",
"Si=0.62;\n",
"\n",
"Ta=Tg+(To-Tg)*Phis;                   // Temperature of surface in degF\n",
"printf('The temperature of surface is %d degF \n ',Ta);\n",
"Tc=Tg+(To-Tg)*Phic;                   // Temperature of center plane in degF\n",
"printf('The temperature of surface is %d degF \n ',Tc);\n",
"A=10;                                  // area of wall through which heat is absorbed\n",
"q=p*Cp*t*A*Si*(To-Tg);                 // Heat absorbed in Btu/hr\n",
"printf('The heat absorbed by wall is %d Btu',q);"
   ]
   }
,
{
		   "cell_type": "markdown",
		   "metadata": {},
		   "source": [
			"## Example 9.9: Heat_exchanger_effectiveness_ratio.sci"
		   ]
		  },
  {
"cell_type": "code",
	   "execution_count": null,
	   "metadata": {
	    "collapsed": true
	   },
	   "outputs": [],
"source": [
"clc();\n",
"clear;\n",
"\n",
"// To determine the value of product of overall heat transfer and the total area\n",
"\n",
"To1=140;                                // inlet temperature of oil in degF\n",
"To2=90;                                 // Outlet temperature of oil in degf\n",
"Cpo=0.5;                                // Specific heat capacity in Btu/lb-degf\n",
"Tw1=60;                                 // Inlet tempearture of water in degF\n",
"Tw2=80;                                 // Outlet temperature of water in degF\n",
"mo=2000;                                // Mass flow rate of oil in lb/hr\n",
"q=mo*Cpo*(To1-To2);                     // Heat transferred in Btu/hr\n",
"Cpw=1;                                  // Heat capacity of water in Btu/hr\n",
"mw=q/(Cpw*(Tw2-Tw1));                   // Mass flow rate in lb/hr\n",
"E1=(Tw1-Tw2)/(Tw1-To2);                 // Effective ratio\n",
"\n",
"// Seeing the effective ratio and mass flow rate ratio, from the graph we get UA\n",
"UA=1.15*mo*Cpo;\n",
"printf('The product of overall heat transfer and total area is %d Btu/hr-degF',UA);"
   ]
   }
],
"metadata": {
		  "kernelspec": {
		   "display_name": "Scilab",
		   "language": "scilab",
		   "name": "scilab"
		  },
		  "language_info": {
		   "file_extension": ".sce",
		   "help_links": [
			{
			 "text": "MetaKernel Magics",
			 "url": "https://github.com/calysto/metakernel/blob/master/metakernel/magics/README.md"
			}
		   ],
		   "mimetype": "text/x-octave",
		   "name": "scilab",
		   "version": "0.7.1"
		  }
		 },
		 "nbformat": 4,
		 "nbformat_minor": 0
}
