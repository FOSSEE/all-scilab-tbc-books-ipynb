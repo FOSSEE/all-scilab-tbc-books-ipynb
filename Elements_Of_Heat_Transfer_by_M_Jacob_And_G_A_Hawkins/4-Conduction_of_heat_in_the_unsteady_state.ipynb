{
"cells": [
 {
		   "cell_type": "markdown",
	   "metadata": {},
	   "source": [
       "# Chapter 4: Conduction of heat in the unsteady state"
	   ]
	},
{
		   "cell_type": "markdown",
		   "metadata": {},
		   "source": [
			"## Example 4.1: Unsteady_state.sci"
		   ]
		  },
  {
"cell_type": "code",
	   "execution_count": null,
	   "metadata": {
	    "collapsed": true
	   },
	   "outputs": [],
"source": [
"clc();\n",
"clear;\n",
"\n",
"// To find heat changes and temperature change on heating of a concrete wall\n",
"\n",
"b=9;                                   // Thickness of the wall in ft\n",
"A=5;                                   // Area of wall \n",
"k=0.44;                                // Thermal conductivity in Btu/hr-ft-degF\n",
"Cp=.202;                               // Specific heat in Btu/lbm-degF\n",
"rho=136;                               // Density in lb/ft^3\n",
"\n",
"function[t]=templength(x);             // Temperature function in terms of length                                                  \n",
"    t = 90 - 80*x +16*x^2 +32*x^3 -25.6*x^4;\n",
"    funcprot(0);\n",
"endfunction\n",
"tgo = derivative(templength,0);        // Temperature gradient at x=0ft\n",
"tgl = derivative(templength,9/12);     // Temperature gradient at x=9/12ft\n",
"\n",
"qo = -k*A*tgo;                         // Heat entering per unit time in Btu/hr\n",
"printf('Heat entering per unit time is %.2f Btu/hr \n',qo);\n",
"ql = -k*A*tgl;                         // Heat coming out per unit time in Btu/hr\n",
"printf(' Heat coming per unit time is %.2f Btu/hr \n',ql);\n",
"q3 = qo-ql;                            //Heat energy stored in Btu/hr\n",
"printf(' Heat energy stored in wall is %.2f Btu/hr \n',q3);\n",
"\n",
"a=k/(rho*Cp);                               // Thermal diffusivity\n",
"function[t2]=doublederivative(y);           // Derivative of tempearture with respect to length in degF/ft\n",
"  t2= -80+32*y+96*y^2-102.4*y^3;\n",
"  funcprot(0);\n",
"endfunction\n",
"timeder0=a*derivative(doublederivative,0);  // derivative of temperature  wrt time at x=0 in degF\n",
"printf(' Time derivative of temperature wrt time at x=0ft is %.2f degF/hr\n',timeder0);\n",
"timeder1=a*derivative(doublederivative,9/12);      // derivative of temperature wrt time at x=9/12 in degF \n",
"printf(' Time derivative of temperature wrt time at x=9/12ft is %.2f degF/hr\n',timeder1);\n",
""
   ]
   }
,
{
		   "cell_type": "markdown",
		   "metadata": {},
		   "source": [
			"## Example 4.2: Unsteady_State.sci"
		   ]
		  },
  {
"cell_type": "code",
	   "execution_count": null,
	   "metadata": {
	    "collapsed": true
	   },
	   "outputs": [],
"source": [
"clc();\n",
"clear;\n",
"// To find heat changes and temperature change on heating of a concrete wall\n",
"b=9;                                 // thickness of the wall in ft\n",
"A=5;                                 // area of wall in ft^2\n",
"k=0.44;                               // Thermal conductivity in Btu/hr-ft-degF\n",
"Cp=.202;                              // Specific heat in Btu/lbm-degF\n",
"rho=136;                              // density in lb/ft^3\n",
"\n",
"function[t]=templength(x);\n",
"    t = 90 - 8*x-80*x^2; \n",
"    funcprot(0);\n",
"endfunction\n",
"tgo = derivative(templength,0);      // temperature gradient at x=0ft\n",
"tgl = derivative(templength,9/12);    // temperature gradient at x=9/12ft\n",
"\n",
"qo = -k*A*tgo;                        // Heat entering per unit time in Btu/hr\n",
"printf('Heat entering per unit time is %.2f Btu/hr \n',qo);\n",
"ql = -k*A*tgl;                        // Heat coming out per unit time in Btu/hr\n",
"printf(' Heat coming per unit time is %.2f Btu/hr \n',ql);\n",
"q3 = qo-ql;                           //Heat energy stored in Btu/hr\n",
"printf(' Heat energy stored in wall is %.2f Btu/hr \n',q3);\n",
"\n",
"a=k/(rho*Cp);                         // Thermal diffusivity in ft^2/hr\n",
"function[t2]=doublederivative(y);     // derivative of tempearture with respect to length in degF/ft\n",
"  t2= -8-160*x;\n",
"  funcprot(0);\n",
"endfunction;\n",
"timeder0=a*derivative(doublederivative,0);         // derivative of temperature  wrt time at x=0 in degF\n",
"printf(' Time derivative of temperature wrt time at x=0ft is %.2f degF/hr\n',timeder0);\n",
"timeder1=a*derivative(doublederivative,9/12);      // derivative of temperature wrt time at x=9/12 in degF \n",
"printf(' Time derivative of temperature wrt time at x=9/12ft is %.2f degF/hr\n',timeder1);\n",
"printf(' Teperature at each part of wall decreases equally');"
   ]
   }
,
{
		   "cell_type": "markdown",
		   "metadata": {},
		   "source": [
			"## Example 4.3: Sudden_change_of_surface_temperature.sci"
		   ]
		  },
  {
"cell_type": "code",
	   "execution_count": null,
	   "metadata": {
	    "collapsed": true
	   },
	   "outputs": [],
"source": [
"clc();\n",
"clear;\n",
"\n",
"// To find the tempearure and heat low in case of sudden heat change\n",
"\n",
"t = 10;              // time elapsed in hr\n",
"Ti= 70;              // tempearature of wall initially in degF\n",
"Ts = 1500;           // temperature of surface when suddenly changed in degF\n",
"a = 0.03;            // thermal diffusivity in ft^2/hr\n",
"k = 0.5;             // thermal conductivity in Btu/hr-ft-degF\n",
"A = 10;              // area of wall in sq ft\n",
"x = 7/12;            // distance from surface where tempearture is to be found in ft\n",
"f = x/(2*sqrt(a*t)); \n",
"// From gaussian error function table erf can be found\n",
"errorf = 0.55;       // Referred from table\n",
"\n",
"T = Ts+(Ti-Ts)*errorf;\n",
"printf('Temperaure at a distance of 7/12ft from surface is %.1f degF \n',T);\n",
"q = -k*A*(Ti-Ts)*exp(-x^2/(4*a*t))/sqrt(t*%pi*a);   // heat flow rate at a distance\n",
"qtot = -k*A*(Ti-Ts)*2*sqrt(t/(%pi*a));              // total heat flowing after 10 hrs in Btu\n",
"printf(' Heat flowing at a distance of 7/12 ft from surface is %d Btu/hr\n',q); \n",
"printf(' Total heat flow after 10hrs is %f Btu',%pi);\n",
""
   ]
   }
,
{
		   "cell_type": "markdown",
		   "metadata": {},
		   "source": [
			"## Example 4.4: Sudden_change_of_temperature.sci"
		   ]
		  },
  {
"cell_type": "code",
	   "execution_count": null,
	   "metadata": {
	    "collapsed": true
	   },
	   "outputs": [],
"source": [
"clc();\n",
"clear;\n",
"// To find the temperature at center of sphere on sudden temperature change\n",
"d = 16/12;                // Diameter of sphere in ft\n",
"t = 20/60;                // Time elapsed in hr\n",
"a = 0.31;                 // thermal diffusivity of steel in ft^2/hr\n",
"Ti = 80;                  // Temperature of steel sphere initially in degF\n",
"Ts = 1200;                 // Temperature of surface suddenly changed in degF\n",
"s = 4*a*t/d^2;            // A parameter \n",
"// From table the value of F(s) can be known \n",
"Fs=0.20;              \n",
"Tc = Ts+(Ti-Ts)*Fs;       // Tempearture at the center of sphere in degF\n",
"printf('The tempearture at the center of steel sphere after 20 mins is %d degF',Tc);  "
   ]
   }
,
{
		   "cell_type": "markdown",
		   "metadata": {},
		   "source": [
			"## Example 4.5: Periodic_temperature_change.sci"
		   ]
		  },
  {
"cell_type": "code",
	   "execution_count": null,
	   "metadata": {
	    "collapsed": true
	   },
	   "outputs": [],
"source": [
"clc();\n",
"clear;\n",
"// To estimate the time lag of temperature (sine) wave \n",
"t = 24;                        // Time period of tempearture wave in hr\n",
"k = 0.6;                       // Thermal conductivity of wall in Btu/hr-ft-degF\n",
"Cp = 0.2;                      // Specific heat capacity of wall in Btu/lb-degF\n",
"y = 110;                       // specific gravity in lb/ft^3\n",
"x = 8/12;                      // Distance from surface in ft\n",
"a = k/(y*Cp);                   // Thermal diffusivity in ft^2/hr\n",
"n=1/t;                         // frequency in /hr\n",
"delr = x/(2*sqrt(a*%pi*n);     // Time lag in hr\n",
"printf('Time lag of the temperature at a point 8 in from surface is %.1f hr', delr;"
   ]
   }
,
{
		   "cell_type": "markdown",
		   "metadata": {},
		   "source": [
			"## Example 4.6: Periodic_change_of_surface_temperature.sci"
		   ]
		  },
  {
"cell_type": "code",
	   "execution_count": null,
	   "metadata": {
	    "collapsed": true
	   },
	   "outputs": [],
"source": [
"clc();\n",
"clear;\n",
"\n",
"// To calculate the range in temperatures at different depths\n",
"T1=-15;                                 // Min temperature at surface in degF\n",
"T2=25;                                  // Max temperature at surface in degF\n",
"t=24;                                   // time gap in hrs\n",
"k=1.3;                                  // thermal conductivity in Btu/hr-ft-degF\n",
"Cp=0.4;                                 // heat capacity in lb/ft-degF\n",
"y=126.1;                                // specific gravity in lb/ft^3\n",
"n=1/t;                                  // frequency in /hr         \n",
"Tm=(T1+T2)/2;\n",
"a=k/(y*Cp);                             // thermal diffusivity in ft^2\n",
"\n",
"x1=2;\n",
"x2=6;\n",
"th0=(T1-T2)/2;\n",
"th1=th0*-exp(-x1*sqrt(%pi*n/a));        // temperature range at 2 ft depth\n",
"th2=th0*-exp(-x2*sqrt(%pi*n/a));        // temperature range at 6 ft depth \n",
"printf('Amplitude of tempearture at 2ft deep is %.2f degF\n',th1);\n",
"printf(' Amplitude of tempearture at 6ft deep is %.2f degF\n',th2);\n",
"printf(' At a depth of 2ft , temperature varies from 4.78 degF to 5.22 degF and at a depth of 6 ft, temperature remains constant at 5 degF');\n",
"delr1=x1/2*sqrt(1/(a*%pi*n));          // time lag at 2 ft depth\n",
"delr2=x2/2*sqrt(1/(a*%pi*n));          // time lag at 6 ft depth\n",
"printf(' Lag of temperature wave at a depth 2 ft is %.1f hr \n',delr1);\n",
"printf(' Lag of temperature wave at a depth 6 ft is %.1f hr \n',delr2);"
   ]
   }
,
{
		   "cell_type": "markdown",
		   "metadata": {},
		   "source": [
			"## Example 4.7: Periodic_change_of_surface_temperature.sci"
		   ]
		  },
  {
"cell_type": "code",
	   "execution_count": null,
	   "metadata": {
	    "collapsed": true
	   },
	   "outputs": [],
"source": [
"clc();\n",
"clear;\n",
"\n",
"// To calculate the range in temoperatures at different depths\n",
"T1=10;                                 // Min temperature at surface in degF\n",
"T2=-10;                                // Max temperature at surface in degF\n",
"t1=24;\n",
"t2=5;                                  // Time gap in hrs\n",
"k=0.3;                                 // Thermal conductivity in Btu/hr-ft-degF\n",
"Cp=0.47;                               // Heat capacity in lb/ft-degF\n",
"y=100;                                 // Specific gravity in lb/ft^3\n",
"n1=1/t1;                               // Frequency in /hr         \n",
"Tm=(T1+T2)/2;a=k/(y*Cp);               // thermal diffusivity in ft^2\n",
"n=1/t1;                                // Frequency in /sec\n",
"x1=1;\n",
"x2=1;                                  // Depth in ft\n",
"th0=(T1-T2)/2;th1=th0*exp(-x1*sqrt(%pi*n/a));        // temperature range at 2 ft depth\n",
"th2=th0*exp(-x2*sqrt(%pi*n/a));        // Temperature range at 6 ft depth \n",
"printf('Amplitude of tempearture at 2ft deep is %.2f degF\n',th1);\n",
"delr1=x1/2*sqrt(1/(a*%pi*n));          // Time lag at 2 ft depth\n",
"printf(' Lag of temperature wave at a depth 2 ft is %.1f hr \n',delr1);\n",
" // To calculate the temperature at a depth of 1 ft , 5 hr after the srface temperature reaches the minimum temperature \n",
" r=3/(4*n);                            // Time at which minimum surface temperature occurs for the first time in hr\n",
" r1=r+5;                               // Time ar which temperature is to be found out in degF\n",
" th3=th0*exp(-x1*sqrt(%pi*n/a))*sin(2*%pi*r1/24-4.53);\n",
" Tr=Tm+th3;                            // Temperature to be found out in degF\n",
" printf(' The temperaure at 1 ft depth is %.2f degF \n',Tr);"
   ]
   }
,
{
		   "cell_type": "markdown",
		   "metadata": {},
		   "source": [
			"## Example 4.8: Unsteady_state_conduction.sci"
		   ]
		  },
  {
"cell_type": "code",
	   "execution_count": null,
	   "metadata": {
	    "collapsed": true
	   },
	   "outputs": [],
"source": [
"clc();\n",
"clear;\n",
"\n",
"// to compute the temperatures at different points \n",
"a=0.02;                             // thermal diffusivity in ft^2/hr\n",
"M=4;                                // the value of 4 is selected for M\n",
"x=9/12;                             // thickness of wall in ft\n",
"delx=1.5/12;\n",
"delr=delx^2/(a*M);                     // at time interval the heat transfeered will change the temperature of sink from tb2 to tb2o\n",
"printf('The time interval is to be of %.3f hr \n',delr);\n",
"\n",
"t1o=370; t2o=435; t3o=480; t4o=485; t5o=440; t6o=360; t7o=250;\n",
" \n",
"// tempetaures at different positions at wall in degF initially\n",
"// we know qo=Z*delx*dely*rho*Cp(tb2'-tb2)/delr    So on solving equations we get tb2'=(tb1+tb3+ta2+tc2)/4\n",
"// using above formula, temperaures at different positions as shown below can be calculated in degF\n",
"\n",
"ta=[370 430 470 473 431 352 250];\n",
"tb=[370 425 461 462 422 346 250]; \n",
"tc=[370 420 452 452 413 341 250];\n",
"td=[370 415 444 442 404 336 250];\n",
"printf(' The temperatures at different positions 0.78 hr after, are as follows \n');\n",
"for i=1:7\n",
"printf(' The temperature at point %d is %d degF \n',i,td(i));\n",
"end\n",
"\n",
""
   ]
   }
,
{
		   "cell_type": "markdown",
		   "metadata": {},
		   "source": [
			"## Example 4.9: Unsteady_state_conduction.sci"
		   ]
		  },
  {
"cell_type": "code",
	   "execution_count": null,
	   "metadata": {
	    "collapsed": true
	   },
	   "outputs": [],
"source": [
"clc();\n",
"clear;\n",
"\n",
"// to compute the temperatures at different points \n",
"\n",
"a=0.53;                             // thermal diffusivity in ft^2/hr\n",
"M=4;                                // the value of 4 is selected for M\n",
"x=6/12;                             // thickness of wall in ft\n",
"delx=2/12;\n",
"delr=delx^2/(a*M);                  // at time interval the heat transfeered will change the temperature of sink from tb2 to tb2o\n",
"printf('the time interval is to be of %.3f hr \n',delr);\n",
"\n",
"// the temperature is constant in the whole wall initiallt 100 degF and afterwards it changes to 1000 degF. \n",
"// we know qo=Z*delx*dely*rho*Cp(tb2'-tb2)/delr    So on solving equations we get tb2'=(tb1+tb3+ta2+tc2)/4\n",
"// Using above formula we can calculate the different temperatures as given below in degF\n",
"\n",
"ta=[100 550 775 888 944];\n",
"tb=[100 550 775 888 944];\n",
"tc=[100 550 775 888 944];\n",
"td=[100 550 775 888 944];\n",
"printf(' the temperatures at different positions 0.052 hr after, are as follows \n');\n",
"printf(' the temperature at point a is %d degF \n',ta(5));\n",
"printf(' the temperature at point a is %d degF \n',tb(5));\n",
"printf(' the temperature at point a is %d degF \n',tc(5));\n",
"printf(' the temperature at point a is %d degF \n',td(5));"
   ]
   }
],
"metadata": {
		  "kernelspec": {
		   "display_name": "Scilab",
		   "language": "scilab",
		   "name": "scilab"
		  },
		  "language_info": {
		   "file_extension": ".sce",
		   "help_links": [
			{
			 "text": "MetaKernel Magics",
			 "url": "https://github.com/calysto/metakernel/blob/master/metakernel/magics/README.md"
			}
		   ],
		   "mimetype": "text/x-octave",
		   "name": "scilab",
		   "version": "0.7.1"
		  }
		 },
		 "nbformat": 4,
		 "nbformat_minor": 0
}
