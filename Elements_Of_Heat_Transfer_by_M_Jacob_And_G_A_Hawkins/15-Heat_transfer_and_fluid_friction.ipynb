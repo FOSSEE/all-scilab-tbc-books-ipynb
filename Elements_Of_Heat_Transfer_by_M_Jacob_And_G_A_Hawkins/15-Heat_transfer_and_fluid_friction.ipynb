{
"cells": [
 {
		   "cell_type": "markdown",
	   "metadata": {},
	   "source": [
       "# Chapter 15: Heat transfer and fluid friction"
	   ]
	},
{
		   "cell_type": "markdown",
		   "metadata": {},
		   "source": [
			"## Example 15.1: Reynolds_Analogy.sci"
		   ]
		  },
  {
"cell_type": "code",
	   "execution_count": null,
	   "metadata": {
	    "collapsed": true
	   },
	   "outputs": [],
"source": [
"clc();\n",
"clear;\n",
"\n",
"// To calculate the pressure drop , heat loss per hour and fil coefficient of heat transfer\n",
"\n",
"Tm=70;                                    // Average air temperature in degF\n",
"Tw=60;                                    // Pipe wall temperature in degF\n",
"thm=Tm-Tw;                                // Mean temperature difference in degF\n",
"// Thm is so small that the fluid properties may be based on 70 degF\n",
"\n",
"v=30;                                     // Velocity in ft/sec \n",
"L=1000;                                   // Length of pipe\n",
"D=3/12;                                   // Diameter in ft\n",
"y=0.15;                                   // Specific weight in  lb/ft^3\n",
"p=0.15/32.2;                              // Density in slug/ft^3\n",
"u=0.00137;                                // Viscosity in slug/ft/hr\n",
"Nre=v*3600*D*p/u;                              // Reynolds number\n",
"f=0.08/(Nre)^.25;                         // Nusselt number\n",
"delp=2*f*L*p*(v^2)/D;                     // Pressure drop in lb/sq.in\n",
"printf('The pressure drop is %d lb/sq.ft \n ',delp);\n",
"\n",
"\n",
"cp=0.24*32.2;                             // Specific heat capacity in slug/degF\n",
"Cp=0.24*0.15;                             // Heat capacity in Btu/ft^3-degF\n",
"k=0.0148;                                 // Thermal conductivity in Btu/ft-hr-degF\n",
"Npr=u*cp/k;                               // Prandtls number\n",
"phi=sqrt(Npr)/(1+(750*sqrt(Npr)/Nre)+7.5*(Npr^0.25)/sqrt(Nre));\n",
"A=%pi*L*D;                                // Area in ft^2\n",
"q=phi*f*Cp*A*v*thm*3600/(2*Npr);          // Heat loss in Btu/hr\n",
"printf('Heat loss per hour of air is %f Btu/hr \n ',phi);\n",
"h=q/(A*thm);                             // Film coefficient\n",
"printf('The film coefficient of heat transfer on the inner pipe wall is %.1f Btu/hr-ft^2-degF',h);\n",
""
   ]
   }
],
"metadata": {
		  "kernelspec": {
		   "display_name": "Scilab",
		   "language": "scilab",
		   "name": "scilab"
		  },
		  "language_info": {
		   "file_extension": ".sce",
		   "help_links": [
			{
			 "text": "MetaKernel Magics",
			 "url": "https://github.com/calysto/metakernel/blob/master/metakernel/magics/README.md"
			}
		   ],
		   "mimetype": "text/x-octave",
		   "name": "scilab",
		   "version": "0.7.1"
		  }
		 },
		 "nbformat": 4,
		 "nbformat_minor": 0
}
