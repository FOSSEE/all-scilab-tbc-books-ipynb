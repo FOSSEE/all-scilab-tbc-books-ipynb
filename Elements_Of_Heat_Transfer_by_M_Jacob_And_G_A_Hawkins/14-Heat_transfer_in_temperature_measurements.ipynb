{
"cells": [
 {
		   "cell_type": "markdown",
	   "metadata": {},
	   "source": [
       "# Chapter 14: Heat transfer in temperature measurements"
	   ]
	},
{
		   "cell_type": "markdown",
		   "metadata": {},
		   "source": [
			"## Example 14.1: Influence_of_convection_and_radiation.sci"
		   ]
		  },
  {
"cell_type": "code",
	   "execution_count": null,
	   "metadata": {
	    "collapsed": true
	   },
	   "outputs": [],
"source": [
"clc();\n",
"clear;\n",
"\n",
"// To calculate the true gas temperature\n",
"\n",
"D1=36/12;                                    // diameter of circular duct in ft\n",
"D2=5/96;                                     // diameter of tube in ft\n",
"Tl=800;                                      // Temperature of tube in degF\n",
"To=500;                                      // Temperature of duct in degF\n",
"k=0.02;                                      // Thermal conductivity in lb/ft^-2-hr\n",
"u=0.18*(10^-9)*(3600^2);                     // Viscosity in slug/ft-hr\n",
"p=0.04/32.2;                                 // Density in slug/ft^3\n",
"n=u/p;                                       // Kinematic viscosity in ft^2/hr\n",
"v=15*3600;                                   // Velocity in ft/hr\n",
"e=0.8;                                       // Emmisivity \n",
"Nre=v*D2/n;                                  // Reynolds number\n",
"Nnu=0.3*(Nre^0.57);                          // Nusselt number\n",
"h=Nnu*k/D2;                                  // Heat transfer coefficient\n",
"Tg=Tl+0.174*e*((((Tl+460)/100)^4)-((To+460)/100)^4)/h;   // Gas temperature in degF\n",
"printf('The temperature of gas is %d degF',Tg);"
   ]
   }
],
"metadata": {
		  "kernelspec": {
		   "display_name": "Scilab",
		   "language": "scilab",
		   "name": "scilab"
		  },
		  "language_info": {
		   "file_extension": ".sce",
		   "help_links": [
			{
			 "text": "MetaKernel Magics",
			 "url": "https://github.com/calysto/metakernel/blob/master/metakernel/magics/README.md"
			}
		   ],
		   "mimetype": "text/x-octave",
		   "name": "scilab",
		   "version": "0.7.1"
		  }
		 },
		 "nbformat": 4,
		 "nbformat_minor": 0
}
