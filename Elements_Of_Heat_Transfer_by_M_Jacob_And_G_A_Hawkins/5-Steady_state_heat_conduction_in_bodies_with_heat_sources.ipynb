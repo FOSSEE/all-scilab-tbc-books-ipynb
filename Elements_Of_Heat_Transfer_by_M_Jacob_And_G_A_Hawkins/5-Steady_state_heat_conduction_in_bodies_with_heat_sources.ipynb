{
"cells": [
 {
		   "cell_type": "markdown",
	   "metadata": {},
	   "source": [
       "# Chapter 5: Steady state heat conduction in bodies with heat sources"
	   ]
	},
{
		   "cell_type": "markdown",
		   "metadata": {},
		   "source": [
			"## Example 5.1: Maximum_temperature_in_coil.sci"
		   ]
		  },
  {
"cell_type": "code",
	   "execution_count": null,
	   "metadata": {
	    "collapsed": true
	   },
	   "outputs": [],
"source": [
"clc();\n",
"clear;\n",
"\n",
"// to calculate the maximum temperature inside the coil when current was 2.5 amp\n",
"// the ratio of radii 12/13.5 is so great that the curvature may be neglected\n",
"\n",
"Di= 10/12;                                      // inside diameter of the coil in ft\n",
"x=7/48;                                         // thickness of coil in ft\n",
"ts=70.5;                                        // Initial temp. of coil in degF\n",
"Rm=12.1;                                        // Resistance of coil \n",
"e=0.0024;                                       // Temperature coefficient of coil in degF\n",
"i=0.009;                                        // Initial current in amp\n",
"V=0.1;                                          // Initial Voltage in volts\n",
"Rs=V/i;                                         // Initial resistance in ohms\n",
"Thm=(Rm/Rs-1)/e;                                // Mean temperature in degF\n",
"Th0=1.5*Thm;                                    // Increase in temperature in degF\n",
"to=ts+Th0;                                      // Maximum temperature in degF\n",
"printf('The maximum temperature of the coil was %.1f degF',to);\n",
""
   ]
   }
,
{
		   "cell_type": "markdown",
		   "metadata": {},
		   "source": [
			"## Example 5.2: Temperare_distribution_in_solid_cylinder.sci"
		   ]
		  },
  {
"cell_type": "code",
	   "execution_count": null,
	   "metadata": {
	    "collapsed": true
	   },
	   "outputs": [],
"source": [
" clc();\n",
"clear;\n",
"\n",
"// to find tempearture difference between inner and outer surface\n",
"r=1/4;                                     // radius in inches\n",
"to=300;                                    // outer surface temperature of cylinder in degF\n",
"q0=10;                                     // i2r heat loss in Btu-in^2/hr\n",
"k=10;                                      // thermal conductivity of the material in Btu/hr-ft-degF\n",
"tc=to+(q0*r*r)*12 /(4*k);                  // temperature at center\n",
"delt=tc-to;\n",
"printf('The temperature diference between center and outer surface is %.2f degF',delt);\n",
"\n",
"// to find heat flow from outer surface\n",
"\n",
"// Total energy within the cylinder must be transferred to as heat to outer surface\n",
"\n",
"v=%pi*r^2;                                 // Volume of heatinf element in in^3\n",
"q1=q0*v;                                   // heat flow to outer surface in Btu/sec\n",
"tr=-q1*r/(2*k);                            // derivative of temperature wrt radius\n",
"q=q1*12;                           // Heat flow at the outer surfae in Btu/hr-ft\n",
"printf('\n Heat transfer per unit length at the outer surface is %.1f Btu/hr',q);"
   ]
   }
],
"metadata": {
		  "kernelspec": {
		   "display_name": "Scilab",
		   "language": "scilab",
		   "name": "scilab"
		  },
		  "language_info": {
		   "file_extension": ".sce",
		   "help_links": [
			{
			 "text": "MetaKernel Magics",
			 "url": "https://github.com/calysto/metakernel/blob/master/metakernel/magics/README.md"
			}
		   ],
		   "mimetype": "text/x-octave",
		   "name": "scilab",
		   "version": "0.7.1"
		  }
		 },
		 "nbformat": 4,
		 "nbformat_minor": 0
}
