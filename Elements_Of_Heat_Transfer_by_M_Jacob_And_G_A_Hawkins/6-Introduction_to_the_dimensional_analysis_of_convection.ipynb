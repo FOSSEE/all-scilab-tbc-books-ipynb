{
"cells": [
 {
		   "cell_type": "markdown",
	   "metadata": {},
	   "source": [
       "# Chapter 6: Introduction to the dimensional analysis of convection"
	   ]
	},
{
		   "cell_type": "markdown",
		   "metadata": {},
		   "source": [
			"## Example 6.1: Reynolds_concept_of_similarity.sci"
		   ]
		  },
  {
"cell_type": "code",
	   "execution_count": null,
	   "metadata": {
	    "collapsed": true
	   },
	   "outputs": [],
"source": [
"clc();\n",
"clear;\n",
"\n",
"// To calculate the reynolds number\n",
"\n",
"u=2.08/32.2;                             // viscosity of water at 80degF in slug/ft-hr\n",
"rho=62.4/32.2;                           // density of water in slug/ft^3\n",
"d=2/12;                                  // inner diameter of tube in ft\n",
"v=10;                                    // average water velocity in ft/sec\n",
"Nre=d*v*rho*3600/u;                      // reynolds number\n",
"// 3600 is multiplies to convert sec into hrs\n",
"printf('Reynolds Number is %d',Nre);"
   ]
   }
,
{
		   "cell_type": "markdown",
		   "metadata": {},
		   "source": [
			"## Example 6.2: Reynolds_number.sci"
		   ]
		  },
  {
"cell_type": "code",
	   "execution_count": null,
	   "metadata": {
	    "collapsed": true
	   },
	   "outputs": [],
"source": [
"clc();\n",
"clear;\n",
"\n",
"// To calculate the reynolds number\n",
"\n",
"u=2.08/32.16;                             // viscosity of water at 80 degF in slug/ft-hr\n",
"m=965000/32.16;                           // mass velocity of water in slug/hr-ft\n",
"d=1/12;                                   // inner diameter of tube in ft\n",
"Nre=m*d/u;                                // reynolds number\n",
"\n",
"// 3600 is multiplies to convert sec into hrs\n",
"printf('Reynolds Number is %d',Nre);"
   ]
   }
],
"metadata": {
		  "kernelspec": {
		   "display_name": "Scilab",
		   "language": "scilab",
		   "name": "scilab"
		  },
		  "language_info": {
		   "file_extension": ".sce",
		   "help_links": [
			{
			 "text": "MetaKernel Magics",
			 "url": "https://github.com/calysto/metakernel/blob/master/metakernel/magics/README.md"
			}
		   ],
		   "mimetype": "text/x-octave",
		   "name": "scilab",
		   "version": "0.7.1"
		  }
		 },
		 "nbformat": 4,
		 "nbformat_minor": 0
}
