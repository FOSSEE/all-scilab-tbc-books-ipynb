{
"cells": [
 {
		   "cell_type": "markdown",
	   "metadata": {},
	   "source": [
       "# Chapter 11: Heat transfer by radiation"
	   ]
	},
{
		   "cell_type": "markdown",
		   "metadata": {},
		   "source": [
			"## Example 11.1: Heat_excahnge_between_black_planes.sci"
		   ]
		  },
  {
"cell_type": "code",
	   "execution_count": null,
	   "metadata": {
	    "collapsed": true
	   },
	   "outputs": [],
"source": [
"clc();\n",
"clear;\n",
"\n",
"// To calculate the net radiant interchange between two parallel black planes\n",
"\n",
"T1=1660/100;                             // Temperature of first black plane in degR\n",
"T2=1260/100;                             // Temperature of second black plane in degR\n",
"s=0.174;                                 // Stephan Boltzman's constant\n",
"q=s*(T1^4-T2^4);\n",
"printf('The net radiant interchange between two bodies of unit area is %d Btu/hr-ft^2',q);"
   ]
   }
,
{
		   "cell_type": "markdown",
		   "metadata": {},
		   "source": [
			"## Example 11.2: Heat_exchange_between_floor_and_roof.sci"
		   ]
		  },
  {
"cell_type": "code",
	   "execution_count": null,
	   "metadata": {
	    "collapsed": true
	   },
	   "outputs": [],
"source": [
"clc()\n",
"// To calculate the net radiant interchange between floor and roof of a furnace\n",
"\n",
"\n",
"A1=15*15;                                // Area of floor in ft^2\n",
"A2=A1;                                   // Area of roof in ft^2\n",
"T1=2460/100;                             // Temperature of floor in degR\n",
"T2=1060/100;                             // temperature of roof in degR\n",
"s=0.174;                                 // Stephan Boltzman's constant\n",
"// S/L=1.5, So considering graph F12=0.31 \n",
"\n",
"F12=0.31;\n",
"q=s*F12*A1*(T1^4-T2^4);\n",
"printf('The net radiant interchange between two bodies of unit area is %d Btu/hr-ft^2',q);"
   ]
   }
,
{
		   "cell_type": "markdown",
		   "metadata": {},
		   "source": [
			"## Example 11.3: Heat_exchange_between_perpendicular_surfaces.sci"
		   ]
		  },
  {
"cell_type": "code",
	   "execution_count": null,
	   "metadata": {
	    "collapsed": true
	   },
	   "outputs": [],
"source": [
"clc()\n",
"// To calculate he net radiant interchange between floor of a furnace and the wall\n",
"\n",
"x=6;                                    // length of wall in ft\n",
"y=12;                                   // breadth of wall in ft\n",
"z=18;                                   // height of wall in ft\n",
"A1=x*y;\n",
"s=0.174;                                // Stephan Boltzman's constant\n",
"T1=1000;                                // Temperature of floor in degF\n",
"T2=500;                                 // Temperature of wall in degF\n",
"Y=y/x;                                  // Ratios\n",
"Z=z/x;                                  \n",
"\n",
"// Seeing the graph, F12 could be found out\n",
"F12=0.165;\n",
"q12=s*F12*A1*((((T1+460)/100)^4)-((T2+460)/100)^4);  // Radiant interchange\n",
"printf('The net radiant interchange between two bodies of unit area is %d Btu/hr-ft^2',q12);"
   ]
   }
,
{
		   "cell_type": "markdown",
		   "metadata": {},
		   "source": [
			"## Example 11.4: Heat_exchange_between_irradiating_surfaces.sci"
		   ]
		  },
  {
"cell_type": "code",
	   "execution_count": null,
	   "metadata": {
	    "collapsed": true
	   },
	   "outputs": [],
"source": [
"clc();\n",
"clear;\n",
"// To calculate the radiant interchange between two black discs\n",
"\n",
"D=10/12;                                   // Diameter of black disc\n",
"L=5/12;                                    // Distance between two discs\n",
"T1=(1500+460)/100;                         // Temperature of disc 1 in degR\n",
"T2=(1000+460)/100;                         // Temperature of disc 2 in degR\n",
"// From the ratio of S/L, the value of F1r2 can be found out\n",
"F1r2=0.669;                                // Shape factor\n",
"A1=%pi*D*D/4;                              // Area of disc 1 in ft^2\n",
"A2=%pi*D*D/4;                              // Area of disc 2 in ft^2\n",
"s=0.174;                                   // Stephan Boltzman's constant\n",
"q12=s*F1r2*A1*((T1^4)-(T2^4));            // Radiant interchange in Btu/hr\n",
"printf('The net radiant interchange between two parallel black discs is %d Btu/hr',q12);"
   ]
   }
,
{
		   "cell_type": "markdown",
		   "metadata": {},
		   "source": [
			"## Example 11.5: heat_excange_between_large_planes_of_different_emissivity.sci"
		   ]
		  },
  {
"cell_type": "code",
	   "execution_count": null,
	   "metadata": {
	    "collapsed": true
	   },
	   "outputs": [],
"source": [
"clc();\n",
"clear;\n",
"// To calculate the net radiant interchange between two parallel black discs\n",
"\n",
"T1=(1500+460)/100;                         // Temperature of plane 1 in degR\n",
"T2=(1000+460)/100;                         // Temperature of plane 2 in degR\n",
"e1=0.8;                                    // Emmisivity for higher temperature\n",
"e2=0.6;                                    // Emmisivity for lower temperature\n",
"s=0.174;                                   // Stephan Boltzman's constant\n",
"D=10/12;                                   // Diameter of disc in ft\n",
"A=%pi/4*D^2;                               // Area of disc in ft^2\n",
"F1r2=0.669;\n",
"F1r2g=1/((1/F1r2)+(1/e1)+(1/e2)-2);        // Shape factor\n",
"q12=s*F1r2g*A*((T1^4)-(T2^4));             // Radiant interchange in Btu/hr\n",
"printf('The net radiant interchange between two parallel very large planes per square foot is %d Btu/hr',q12);"
   ]
   }
,
{
		   "cell_type": "markdown",
		   "metadata": {},
		   "source": [
			"## Example 11.6: Heat_exchange_between_two_non_black_bodies.sci"
		   ]
		  },
  {
"cell_type": "code",
	   "execution_count": null,
	   "metadata": {
	    "collapsed": true
	   },
	   "outputs": [],
"source": [
"clc();\n",
"clear;\n",
"\n",
"// To calculate the net radiant interchange between two parallel planes\n",
"\n",
"T1=1460/100;                            // Temperature of first black plane in degK\n",
"T2=1060/100;                            // temperature of second black plane in degK\n",
"s=0.174;                                // Stephan Boltzman's constant\n",
"e1=0.9;                                 // Emmisivity for higher temperature\n",
"e2=0.7;                                 // Emmisivity for higher temperature\n",
"F1r2=1/((1/e1)+(1/e2)-1);               // Shape factor\n",
"\n",
"q=s*F1r2*(T1^4-T2^4);\n",
"printf('The net radiant interchange between two bodies of unit area is %d Btu/hr-ft^2',q);"
   ]
   }
,
{
		   "cell_type": "markdown",
		   "metadata": {},
		   "source": [
			"## Example 11.7: Heat_exchange_in_an_enclosure.sci"
		   ]
		  },
  {
"cell_type": "code",
	   "execution_count": null,
	   "metadata": {
	    "collapsed": true
	   },
	   "outputs": [],
"source": [
"clc();\n",
"clear;\n",
"\n",
"// To calculate the net radiant interchange per foot length of pipe of 2 in. standard diameter \n",
"\n",
"e=0.8;                                   // emmisivity of pipe metal\n",
"D=2.375/12;                              // Diameter of pipe in ft\n",
"s=0.174;                                 // Stephans Boltzman's constant\n",
"T1=(300+460)/100;                        // Temperature of disc 1 in degF\n",
"T2=(80+460)/100;                         // Temperature of disc 2 in degF\n",
"A1=%pi*D;                                // Area of one foot of pipe in ft^2\n",
"q12=s*e*A1*((T1^4)-(T2^4));              // Radiant interchange in Btu/hr\n",
"printf('The net radiant interchange per foot length of pipe is %.1f Btu/hr-ft',q12);"
   ]
   }
],
"metadata": {
		  "kernelspec": {
		   "display_name": "Scilab",
		   "language": "scilab",
		   "name": "scilab"
		  },
		  "language_info": {
		   "file_extension": ".sce",
		   "help_links": [
			{
			 "text": "MetaKernel Magics",
			 "url": "https://github.com/calysto/metakernel/blob/master/metakernel/magics/README.md"
			}
		   ],
		   "mimetype": "text/x-octave",
		   "name": "scilab",
		   "version": "0.7.1"
		  }
		 },
		 "nbformat": 4,
		 "nbformat_minor": 0
}
