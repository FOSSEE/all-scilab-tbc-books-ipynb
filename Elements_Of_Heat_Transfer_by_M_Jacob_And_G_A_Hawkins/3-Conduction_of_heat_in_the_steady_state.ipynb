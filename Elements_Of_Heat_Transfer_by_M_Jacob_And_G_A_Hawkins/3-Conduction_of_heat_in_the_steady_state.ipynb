{
"cells": [
 {
		   "cell_type": "markdown",
	   "metadata": {},
	   "source": [
       "# Chapter 3: Conduction of heat in the steady state"
	   ]
	},
{
		   "cell_type": "markdown",
		   "metadata": {},
		   "source": [
			"## Example 3.10: realaxatio.sci"
		   ]
		  },
  {
"cell_type": "code",
	   "execution_count": null,
	   "metadata": {
	    "collapsed": true
	   },
	   "outputs": [],
"source": [
"clear;\n",
"clc();\n",
"\n",
"// To find the total heat flow per foot of depth through the sction and the shape factor\n",
"\n",
"k=0.9;                        // thermal conductivity of section material in Btu/hr-ft-degF\n",
"\n",
"// Heat is considered to flow through fictitious rods and only half of the heat flows through symmetry axes    \n",
"\n",
"Ta=300;Tb=441;Tc=600;Td=300;Te=432;Tf=600;Tg=600;Th=600;Ti=300;Tj=384;Tk=461;Tl=485;Tm=490;Tn=300;To=340;Tp=372;Tq=387;Tr=391;Ts=300;Tt=300;Tu=300; Tv=300;Tw=300;\n",
"// Above grid point temperatures are given in the question for the quarter section considered in degF(a,b,c...w are grid points)\n",
"\n",
"q1=4*k*((Tc-Tb)/2+(Tf-Te)+(Tf-Tk)+(Tg-Tl)+(Th-Tm)/2);                           // Amount of heat coming from inside in Btu/hr\n",
"q2=4*k*((Tb-Ta)/2+(Te-Td)+(Tj-Ti)+(To-Tn)+(To-Tt)+(Tp-Tu)+(Tq-Tu)+(Tr-Tw)/2);   // Amount of heat going outside in Btu/hr\n",
"q=(q1+q2)/2;                  // average of heat going in and heat coming out\n",
"printf('\n Total heat flow per unit depth is %.1fBtu/hr',q);\n",
"\n",
"S=q/(k*(Tc-Ta));              // shape factor in ft\n",
"printf('\n Shape factor is %.2fft',S)"
   ]
   }
,
{
		   "cell_type": "markdown",
		   "metadata": {},
		   "source": [
			"## Example 3.1: Conduction_through_homogenous_plane_wall.sci"
		   ]
		  },
  {
"cell_type": "code",
	   "execution_count": null,
	   "metadata": {
	    "collapsed": true
	   },
	   "outputs": [],
"source": [
"clear;\n",
"clc();\n",
"// To find heat loss per square feet of wall surface per hour\n",
"deltax=9/12;                 // thickness of wall in ft\n",
"k=0.18;                // thermal conductivity of wall in B/hr-ft-degF\n",
"t1=1500;                     // inside temperature of oven wall in degF\n",
"t2=400;                      // outside temperature of oven wall in degF\n",
"q=k*(t1-t2)/deltax;          // heat loss in Btu/hr\n",
"printf('\n The heat loss for each square foot of wall surface is %d Btu/hr-ft^2',q);"
   ]
   }
,
{
		   "cell_type": "markdown",
		   "metadata": {},
		   "source": [
			"## Example 3.2: Conduction_through_a_composite_plane_wall.sci"
		   ]
		  },
  {
"cell_type": "code",
	   "execution_count": null,
	   "metadata": {
	    "collapsed": true
	   },
	   "outputs": [],
"source": [
"clear;\n",
"clc();\n",
"\n",
"// To compute tempertures at the contact surfaces inside the furnaces\n",
"\n",
"x1=9/12;             // thickness of firebrick in ft\n",
"k1=0.72;             // thermal conductivity of firebrick in Btu/hr-ft-degF\n",
"x2=5/12;             // thickness of insulating brick in ft\n",
"k2=0.08;             // thermal conductivity of insulating brick in Btu/hr-ft-degF\n",
"x3=7.5/12;           // thickness of redbrick in ft\n",
"k3=0.5;              // thermal conductivity of firebrick in Btu/hr-ft-degF\n",
"t1=1500;             // inner temperature of wall in degF\n",
"t2=150;              // outer temperature of wall in degF\n",
"\n",
"// resistances of mortar joints are neglected\n",
"q=(t1-t2)/(x1/k1+x2/k2+x3/k3);   // heat flow per square ft in Btu/hr\n",
"t2=t1-(q*x1/k1);                 // first contact temperature in degF\n",
"printf('\n The temperature at the contact of firebrick and insulating brick is %d degF',t2);\n",
"\n",
"t3=t2-(q*x2/k2);                 // second contact temperature in degF\n",
"printf('\n The temperature at the contact of insulating brick and red brick is %d degF',t3);"
   ]
   }
,
{
		   "cell_type": "markdown",
		   "metadata": {},
		   "source": [
			"## Example 3.3: Conduction_through_a_homogenous_cylinder_wall.sci"
		   ]
		  },
  {
"cell_type": "code",
	   "execution_count": null,
	   "metadata": {
	    "collapsed": true
	   },
	   "outputs": [],
"source": [
"clear;\n",
"clc();\n",
"\n",
" // to calculate the heat loss from pipe\n",
" \n",
" d1=2.375/12;                   // internal diameter of pipe in ft\n",
" t=1/12;                        // thickness of insulating material in ft\n",
" d2=d1+2*t;                     // external (insulation)diameter of pipe in ft\n",
" k=0.0375;                      // thermal conductivity of insulating material in Btu/hr-ft-F\n",
" l=30;                          // length of pipe in ft\n",
" t1=380;                        // inner surface temperature of insulation\n",
" t2=80;                         // outer surface temperature of insulation\n",
" \n",
" q=2*%pi*k*(t1-t2)/log(d2/d1);  // heat loss per unit length\n",
" printf('\n Heat loss per linear foot is %.d Btu/hr',q)\n",
" \n",
" qtot=round(q)*l;               // heat loss for 30 ft pipe\n",
" printf('\n Total heat loss through 30 ft of pipe is %d Btu/hr',qtot)\n",
" "
   ]
   }
,
{
		   "cell_type": "markdown",
		   "metadata": {},
		   "source": [
			"## Example 3.4: Conduction_through_a_composite_cylinder_wall.sci"
		   ]
		  },
  {
"cell_type": "code",
	   "execution_count": null,
	   "metadata": {
	    "collapsed": true
	   },
	   "outputs": [],
"source": [
"clear;\n",
"clc();\n",
"\n",
"// To calculate heat loss from pipe\n",
"\n",
"d1=10.75/12;            // outer diameter of pipe in ft\n",
"x1=1.5/12;              // thickness of insulation 1 in ft\n",
"x2=2/12;                // thickness of insulation 2 in ft\n",
"d2= d1+2*x1;            // diameter of insulation 1 in ft\n",
"d3=d2+2*x2;             // diameter of insulation 1 in ft\n",
"t1=700;                 // inner surface temperature of composite insulation in degF\n",
"t2=110;                 // outer surface temperature of composite insulation in degF\n",
"k1=0.05;                //thermal conductivity of material 1 in Btu/hr-ft-degF\n",
"k2=0.039;               // thermal conductivity of material 2 in Btu/hr-ft-degF\n",
"\n",
"q=2*%pi*(t1-t2)/(log(d2/d1)/k1+log(d3/d2)/k2);                                     // heat loss per linear foot in Btu/hr\n",
"printf('\n The heat loss is found to be %d Btu/hr-ft', q);"
   ]
   }
,
{
		   "cell_type": "markdown",
		   "metadata": {},
		   "source": [
			"## Example 3.5: Influence_of_variable_conductivity.sci"
		   ]
		  },
  {
"cell_type": "code",
	   "execution_count": null,
	   "metadata": {
	    "collapsed": true
	   },
	   "outputs": [],
"source": [
"clear;\n",
"clc();\n",
"\n",
"// To find out heat loss through 1 sq. ft of flat slab of 85%magnesia and 15% asbestos \n",
"\n",
"km=0.0377;               // Mean thermal conductivity at 220degF\n",
"t1=260;                  // Inner surface temperature of slab in degF \n",
"t2=180;                  // Outer surface temperature of slab in degF\n",
"A=1;                     // Area of slab in ft\n",
"x=2/12;                  // Thickness of insulation in ft\n",
"\n",
"q=km*A*(t1-t2)/x;        // Heat loss through slab in Btu/hr\n",
"printf('\n Heat loss through flat slab is %.1f Btu/hr',q);"
   ]
   }
,
{
		   "cell_type": "markdown",
		   "metadata": {},
		   "source": [
			"## Example 3.6: Conduction_through_edge_and_corner_sections.sci"
		   ]
		  },
  {
"cell_type": "code",
	   "execution_count": null,
	   "metadata": {
	    "collapsed": true
	   },
	   "outputs": [],
"source": [
"clear all\n",
"clc()\n",
"\n",
"// To find out heat loss through conduction through a furnace\n",
"k=0.8                     // Avg. thermal conductivity in Btu/hr-ft-degF\n",
"T1=400                    // Inner surface temperature of furnace in degF \n",
"T2=100                    // Outer surface temperature of furnace in degF\n",
"a=3                       // Length of furnace in ft\n",
"b=4                       // Breadth of furnace in ft\n",
"c=2.5                     // Height of furnace in ft\n",
"Aa=2*a*b                  // Area of surface A in ft^2\n",
"Ab=2*b*c                  // Area of surface A in ft^2\n",
"Ac=2*a*c                  // Area of surface A in ft^2\n",
"x=4.5/12                  // Thickness of insulation in ft\n",
"t=24                      // Time elapsed in hr\n",
"M=4                       // Number of edges\n",
"N=8                       // Number of corners\n",
"\n",
"S=Aa/x+Ab/x+Ac/x+0.54*(a+b+c)*M+0.15*x*N       // Shape factor\n",
"qo=S*k*(T1-T2)                                 // Heat flow per hour\n",
"q=qo*t                                         // Heat loss in 24 hr\n",
"\n",
"printf('The heat loss in 24 hr is %d Btu',q)"
   ]
   }
,
{
		   "cell_type": "markdown",
		   "metadata": {},
		   "source": [
			"## Example 3.7: Conduction_through_sections_of_complicated_range.sci"
		   ]
		  },
  {
"cell_type": "code",
	   "execution_count": null,
	   "metadata": {
	    "collapsed": true
	   },
	   "outputs": [],
"source": [
"clear;\n",
"clc();\n",
"\n",
"// To compute shape factor  for the special section in figure\n",
"\n",
"// Ratio of diameter of circle to the side of square is 0.5. Hence required lines have been estabilished by trial and error method.\n",
"\n",
"M=8*9;                  // number of flow channels for the entire section\n",
"N=8.37;                 // number of equal channel intervals\n",
"// the fractional part arises due to the fractional part of temperature close to border EG\n",
"\n",
"k = M/N;               // Ratio of shape factor to wall length\n",
"printf('\n Shape factor for the special section (where the ratio of radius of circle to half side length is 0.5),S is %.2fL', k );"
   ]
   }
,
{
		   "cell_type": "markdown",
		   "metadata": {},
		   "source": [
			"## Example 3.8: Relaxation_method.sci"
		   ]
		  },
  {
"cell_type": "code",
	   "execution_count": null,
	   "metadata": {
	    "collapsed": true
	   },
	   "outputs": [],
"source": [
"clear;\n",
"clc();\n",
"\n",
"// To find the temperature of planes indicated by grid points using relaxation method\n",
"t1=800;            // inner surface temperature of wall in degF\n",
"t4=200;           //  outer surface temperature of wall in degF\n",
"\n",
"//Grids are square in shape so delx =dely where delx,y sre dimensions of square grid \n",
"\n",
"t2=[700 550 550 587.5 587.5 596.9 596.9 599.3 599.3 599.8];             // Assumed temperature of grid point 1\n",
"t3=[300 300 375 375 393.8 393.8 398.5 398.5 399.6 399.6];               // Assumed temperature of grid point 2\n",
" \n",
"for i=1:9\n",
"     th2(i)=t1+t3(i)-2*t2(i);; // th1= q/kz at grid pt1\n",
"     th3(i)=t2(i)+t4-2*t3(i);// th2= q/kz at grid pt2\n",
"     printf('\n Assuming t2=%.1f  degF and t2=%.1f degF \n th1[%d]=%.1f degF and th2[%d]=%.1f degF \n',t2(i),t3(i),i,th2(i),i,th3(i));     \n",
"     printf(' Since th2[%d] is not equal to th3[%d], hence other values of t2 and t3 are to be assumed\n',i,i);\n",
"end\n",
"\n",
"printf('\nAssuming t2=600 degF and t3=400 degF, th2=th3.');\n",
"printf('\nHence Steady state condition is satisfied at grid temperatures of 400 degF and 600 degF');"
   ]
   }
],
"metadata": {
		  "kernelspec": {
		   "display_name": "Scilab",
		   "language": "scilab",
		   "name": "scilab"
		  },
		  "language_info": {
		   "file_extension": ".sce",
		   "help_links": [
			{
			 "text": "MetaKernel Magics",
			 "url": "https://github.com/calysto/metakernel/blob/master/metakernel/magics/README.md"
			}
		   ],
		   "mimetype": "text/x-octave",
		   "name": "scilab",
		   "version": "0.7.1"
		  }
		 },
		 "nbformat": 4,
		 "nbformat_minor": 0
}
