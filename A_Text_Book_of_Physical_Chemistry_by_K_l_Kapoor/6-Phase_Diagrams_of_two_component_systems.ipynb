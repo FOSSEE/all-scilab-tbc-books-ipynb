{
"cells": [
 {
		   "cell_type": "markdown",
	   "metadata": {},
	   "source": [
       "# Chapter 6: Phase Diagrams of two component systems"
	   ]
	},
{
		   "cell_type": "markdown",
		   "metadata": {},
		   "source": [
			"## Example 6.6_1: Ex_1.sce"
		   ]
		  },
  {
"cell_type": "code",
	   "execution_count": null,
	   "metadata": {
	    "collapsed": true
	   },
	   "outputs": [],
"source": [
"clear\n",
"clc\n",
"DelHmA_f=28.87;//enthalpy of fusion of NaCl in KJ/mol\n",
"DelHmB_f=24.06;//enthalpy of fusion of Na2SO4 in KJ/mol\n",
"R=8.314;//in J/Kmol\n",
"TA=1074;//melting point temperature of NaCl\n",
"XB=48.2/100;//composition of Na2SO4\n",
"XA=(1-XB);//composition of NaCl\n",
"TB=1/((1/TA)-(2.303*R*log10(XA)/(DelHmA_f*10^3))+(2.303*R*log10(XB)/(DelHmB_f*10^3)));//melting point of Na2SO4 in K\n",
"printf('TB=%.1d K',TB)\n",
"T=(1)/((-(2.303*R*log10(XA)/(DelHmA_f*10^3))+(1/TA)));//temperature of the sysytem in K\n",
"printf('\nT=%.1f K',T)\n",
"\n",
"//There are some errors in the solution given in textbook\n",
"//page 313"
   ]
   }
,
{
		   "cell_type": "markdown",
		   "metadata": {},
		   "source": [
			"## Example 6.6_2: Ex_2.sce"
		   ]
		  },
  {
"cell_type": "code",
	   "execution_count": null,
	   "metadata": {
	    "collapsed": true
	   },
	   "outputs": [],
"source": [
"clear\n",
"clc\n",
"M=20;//in Kg\n",
"BC=35;//in mm\n",
"BA=31;//in mm\n",
"M1=(BA/(BA+BC))*M;//mass of Sb in Kg\n",
"printf('M1=%.2f Kg',M1)\n",
"L=(BA+20);//in mm\n",
"M2=(L/(L+BC))*20;//mass of Sb in Kg\n",
"printf('\nM2=%.2f Kg',M2)\n",
"\n",
"//page 314"
   ]
   }
,
{
		   "cell_type": "markdown",
		   "metadata": {},
		   "source": [
			"## Example 6.6_3: Ex_3.sce"
		   ]
		  },
  {
"cell_type": "code",
	   "execution_count": null,
	   "metadata": {
	    "collapsed": true
	   },
	   "outputs": [],
"source": [
"clear \n",
"clc\n",
"X1=80;//mol % of n-heptane\n",
"X2=90;//mol % of n-heptane\n",
"X3=95;//mol % of n-heptane\n",
"X=24;//mol % of n-heptane at -114.4 C\n",
"N1=(100-X1)/(X1-X);//at 80% of n-heptane\n",
"N2=(X1-X)/(100-X);//at 80% of n-heptane\n",
"N=((N2*100)/X1)*100;//%of n-heptane recovered w.r.t to original n-heptane\n",
"printf('N=%.1f',N)\n",
"N3=(100-X2)/(X2-X);//at 90% of n-heptane\n",
"N4=(X2-X)/(100-X);//at 90% of n-heptane\n",
"N=((N4*100)/X2)*100;//%of n-heptane recovered w.r.t to original n-heptane\n",
"printf('\nN=%.1f',N)\n",
"N5=(100-X3)/(X3-X);//at 95% of n-heptane\n",
"N6=(X3-X)/(100-X);//at 95% of n-heptane\n",
"N=((N6*100)/X3)*100;//%of n-heptane recovered w.r.t to original n-heptane\n",
"printf('\nN=%.1f',N)\n",
"\n",
"//page 315"
   ]
   }
,
{
		   "cell_type": "markdown",
		   "metadata": {},
		   "source": [
			"## Example 6.6_5: Ex_4.sce"
		   ]
		  },
  {
"cell_type": "code",
	   "execution_count": null,
	   "metadata": {
	    "collapsed": true
	   },
	   "outputs": [],
"source": [
"clear\n",
"clc\n",
"X1=1.04;//solubility of  KBr in gm/gm\n",
"w=1;//amount of H20 in gm\n",
"X2=0.64;//solubility of KBr after cooling in gm/gm\n",
"M1=(w/X1)*(X1-X2);//mass of water to be added in gm\n",
"M2=(X2/w)*M1;//mass of KBr in the solution in gm\n",
"M=(X1-X2)-M2;//mass of KBr separated in gm\n",
"N1=M*(100/X1);//percent yield of pure KBr\n",
"printf('N1=%.2f',N1)\n",
"M3=(w/X1)*X2;//mass of water remained in above evaporation process in gm\n",
"M4=(X2/w)*(M3);//mass of water remained after cooling in above evaporation process in gm\n",
"M=(X2)*M4;//mass of KBr separated in second crop in gm\n",
"Mt=(X1-X2)+M;//total mass of kBr separated in two crops in gm\n",
"N2=Mt*(100/X1);//percent of KBr recovered\n",
"printf('\nN2=%.2f',N2)\n",
"\n",
"//There are some errors in the solution given in textbook\n",
"//page 317"
   ]
   }
,
{
		   "cell_type": "markdown",
		   "metadata": {},
		   "source": [
			"## Example 6.6_6: Ex_5.sce"
		   ]
		  },
  {
"cell_type": "code",
	   "execution_count": null,
	   "metadata": {
	    "collapsed": true
	   },
	   "outputs": [],
"source": [
"clear\n",
"clc\n",
"M1=40;//total amount of mixture of calcium and aluminium in gm\n",
"w1=54;//amount of aluminium in CaAl2 in gm\n",
"w2=81;//amount of aluminium in CaAl3 in gm\n",
"W1=70;//total amount of aluminium in gm\n",
"X1=(W1-((w2/M1)*M1))/((w1/M1)-(w2/M1));//amount of calcium in gm\n",
"printf('X1=%.1f gm',X1)\n",
"N1=(w1/M1)*X1;//amount of calcium in mixture of CaAl2 in gm\n",
"printf('\nN1=%.1f gm',N1)\n",
"N2=(w2/M1)*(M1-X1);//amount of aluminium in mixture of CaAl3 in gm\n",
"printf('\nN2=%.1f gm',N2)\n",
"M2=20;//total amount of mixture of calcium and aluminium in gm\n",
"W2=90;//total amount of aluminium in gm\n",
"w3=86;//amount of aluminium after melting\n",
"M3=14;//percent of clacium mass melted\n",
"X2=(W2-((w3/M3)*M2))/((w2/M1)-(w3/M3));//amount of calcium in gm\n",
"printf('\nX2=%.1f gm',X2)\n",
"N3=(w2/M1)*X2;//amount of calcium in mixture of CaAL2 in gm\n",
"printf('\nN3=%.1f gm',N3)\n",
"N4=(w3/M3)*(M2-X2);//amount of aluminium in mixture of CaAL3 in gm\n",
"printf('\nN4=%.1f gm',N4)\n",
"\n",
"//There are some errors in the solution given in textbook\n",
"//page 318\n",
"\n",
"//There are some errors in the solution given in textbook\n",
""
   ]
   }
],
"metadata": {
		  "kernelspec": {
		   "display_name": "Scilab",
		   "language": "scilab",
		   "name": "scilab"
		  },
		  "language_info": {
		   "file_extension": ".sce",
		   "help_links": [
			{
			 "text": "MetaKernel Magics",
			 "url": "https://github.com/calysto/metakernel/blob/master/metakernel/magics/README.md"
			}
		   ],
		   "mimetype": "text/x-octave",
		   "name": "scilab",
		   "version": "0.7.1"
		  }
		 },
		 "nbformat": 4,
		 "nbformat_minor": 0
}
