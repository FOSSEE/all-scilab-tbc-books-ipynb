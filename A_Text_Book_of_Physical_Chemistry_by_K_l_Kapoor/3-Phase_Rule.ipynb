{
"cells": [
 {
		   "cell_type": "markdown",
	   "metadata": {},
	   "source": [
       "# Chapter 3: Phase Rule"
	   ]
	},
{
		   "cell_type": "markdown",
		   "metadata": {},
		   "source": [
			"## Example 3.3_1: Ex_1.sce"
		   ]
		  },
  {
"cell_type": "code",
	   "execution_count": null,
	   "metadata": {
	    "collapsed": true
	   },
	   "outputs": [],
"source": [
"clear\n",
"clc\n",
"//In KCL NaCl H20 system\n",
"r=3;//no.of reactions\n",
"C=8;//no. of constituents\n",
"Z=2;//no.of restricting equations\n",
"C1=C-r-Z;//no. of components\n",
"printf('C1=%.1d',C1)\n",
"\n",
"//If salts present in equal amounts\n",
"C1=C-r-(Z+1);//no. of components\n",
"printf('\nC1=%.1d',C1)\n",
"\n",
"//If KCL NaCl as strong electrolytes\n",
"r=1;//no.of reactions\n",
"C=6;//no. of constituents\n",
"Z=2;//no.of restricting equations\n",
"C3=C-r-Z;//no. of components\n",
"printf('\nC3=%.1d',C3)\n",
"\n",
"//If salts present in equal amounts\n",
"C4=C-r-(Z+1);//no. of components\n",
"printf('\nC4=%.1d',C4)\n",
"\n",
"//In KCL NaCl H20 system\n",
"r=5;//no.of reactions\n",
"C=11;//no. of constituents\n",
"Z=2;//no.of restricting equations\n",
"C5=C-r-Z;//no. of components\n",
"printf('\nC5=%.1d',C5)\n",
"\n",
"//If salts present in equal amounts\n",
"C6=C-r-(Z+1);//no. of components\n",
"printf('\nC6=%.1d',C6)\n",
"\n",
"//If KCL NaCl NaBr and KBr as strong electrolytes\n",
"r=1;//no.of reactions\n",
"C=7;//no. of constituents\n",
"Z=2;//no.of restricting equations\n",
"C7=C-r-Z;//no. of components\n",
"printf('\nC7=%.1d',C7)\n",
"\n",
"//If salts present in equal amounts\n",
"C8=C-r-(Z+1);//no. of components\n",
"printf('\nC8=%.1d',C8)\n",
"\n",
"//page 103\n",
"\n",
""
   ]
   }
,
{
		   "cell_type": "markdown",
		   "metadata": {},
		   "source": [
			"## Example 3.3_2: Ex_2.sce"
		   ]
		  },
  {
"cell_type": "code",
	   "execution_count": null,
	   "metadata": {
	    "collapsed": true
	   },
	   "outputs": [],
"source": [
"clear\n",
"clc\n",
"//For system when P_NH3=P_HCl\n",
"r=1;//no.of equations\n",
"C=3;//no. of constituents\n",
"Z1=1;//no. of restricting equations\n",
"C1=C-r-Z1;//no. of components\n",
"printf('C1=%.1d',C1)\n",
"\n",
"//For system when P_NH3 not equal P_HCl\n",
"Z2=0;//no. of restricting equations\n",
"C1=C-r-Z2\n",
"printf('\nC1=%.1d',C1)\n",
"\n",
"//page 103"
   ]
   }
,
{
		   "cell_type": "markdown",
		   "metadata": {},
		   "source": [
			"## Example 3.3_3: Ex_3.sce"
		   ]
		  },
  {
"cell_type": "code",
	   "execution_count": null,
	   "metadata": {
	    "collapsed": true
	   },
	   "outputs": [],
"source": [
"clear\n",
"clc\n",
"C=9;//no. of constituents\n",
"r=5;//no. of equilibium reactions\n",
"Z=1;//no. of restricting conditions\n",
"C1=C-r-Z;//no. of components\n",
"printf('C1=%.1d',C1)\n",
"\n",
"//page 103"
   ]
   }
,
{
		   "cell_type": "markdown",
		   "metadata": {},
		   "source": [
			"## Example 3.3_4: Ex_4.sce"
		   ]
		  },
  {
"cell_type": "code",
	   "execution_count": null,
	   "metadata": {
	    "collapsed": true
	   },
	   "outputs": [],
"source": [
"clear\n",
"clc\n",
"//Arbitrary amounts of A1 and A2 only\n",
"C=4;//no. of constituents\n",
"r=1;//no. of reactions\n",
"Z1=1;//no. of restrictions\n",
"C1=C-r-Z1;//no. of components\n",
"printf('C1=%.1d',C1)\n",
"\n",
"//Arbitrary amounts of A1,A2,A3,A4\n",
"Z2=0\n",
"C1=C-r-Z2;//no. of components\n",
"printf('\nC1=%.1d',C1)\n",
"\n",
"//Different moles of A1 and A2 only\n",
"Z3=2\n",
"C1=C-r-Z3;//no. of components\n",
"printf('\nC1=%.1d',C1)\n",
"\n",
"//page 103"
   ]
   }
],
"metadata": {
		  "kernelspec": {
		   "display_name": "Scilab",
		   "language": "scilab",
		   "name": "scilab"
		  },
		  "language_info": {
		   "file_extension": ".sce",
		   "help_links": [
			{
			 "text": "MetaKernel Magics",
			 "url": "https://github.com/calysto/metakernel/blob/master/metakernel/magics/README.md"
			}
		   ],
		   "mimetype": "text/x-octave",
		   "name": "scilab",
		   "version": "0.7.1"
		  }
		 },
		 "nbformat": 4,
		 "nbformat_minor": 0
}
