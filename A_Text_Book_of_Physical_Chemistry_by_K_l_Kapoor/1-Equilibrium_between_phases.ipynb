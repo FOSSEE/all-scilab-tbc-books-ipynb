{
"cells": [
 {
		   "cell_type": "markdown",
	   "metadata": {},
	   "source": [
       "# Chapter 1: Equilibrium between phases"
	   ]
	},
{
		   "cell_type": "markdown",
		   "metadata": {},
		   "source": [
			"## Example 1.5_10: Ex_10.sce"
		   ]
		  },
  {
"cell_type": "code",
	   "execution_count": null,
	   "metadata": {
	    "collapsed": true
	   },
	   "outputs": [],
"source": [
"clear\n",
"clc\n",
"T=273;//in K\n",
"R=8.314;//in J/Kmol\n",
"DelHm=T*2.303*R;//in J/mol\n",
"printf('DelHm=%.1d J/mol',DelHm)\n",
"\n",
"//page 16\n",
""
   ]
   }
,
{
		   "cell_type": "markdown",
		   "metadata": {},
		   "source": [
			"## Example 1.5_11: Ex_11.sce"
		   ]
		  },
  {
"cell_type": "code",
	   "execution_count": null,
	   "metadata": {
	    "collapsed": true
	   },
	   "outputs": [],
"source": [
"clear;\n",
"clc;\n",
"DelG=2866;//in J/mol\n",
"rhoG=2.25;//in gm/cm^3\n",
"rhoD=3.52;//in gm/cm^3\n",
"MC=12;//mass of carbon\n",
"P1=1;//in atm\n",
"P2=(-DelG/(MC/rhoD-MC/rhoG))+P1\n",
"printf('P2=%.1f Jcm^-3',P2)\n",
"R1=0.082;//in dm^3atm\n",
"R2=8.314;//in J\n",
"P21=P2*(R1*1000/R2)\n",
"printf('\nP21=%.1d atm',P21)\n",
"\n",
"//There are some errors in the solution given in textbook\n",
"//page 23\n",
""
   ]
   }
,
{
		   "cell_type": "markdown",
		   "metadata": {},
		   "source": [
			"## Example 1.5_12: Ex_12.sce"
		   ]
		  },
  {
"cell_type": "code",
	   "execution_count": null,
	   "metadata": {
	    "collapsed": true
	   },
	   "outputs": [],
"source": [
"clear \n",
"clc\n",
"rho1=1.21;//in gm^cm-3\n",
"rho2=1.10;//in gm^cm-3\n",
"P2=3260;//in atm\n",
"T2=298.15;//in K\n",
"P1=2450;//in atm\n",
"T1=242.15;//in K\n",
"MI=18;//molar mass of ice in gm/mol\n",
"R1=8.314;//in J\n",
"R2=0.082;//in atm dm^3\n",
"DelH_Tr=((P2-P1)*(R1/R2)*(MI/rho2-MI/rho1)*T1)/(T2-T1)\n",
"printf('DelH_Tr=%.3f J/mol',DelH_Tr)\n",
"\n",
"//There is an error in the answer given in the textbook\n",
"//In text book he took (T1-T2)=6,but actually (T1-T2)=56\n",
"//page 23"
   ]
   }
,
{
		   "cell_type": "markdown",
		   "metadata": {},
		   "source": [
			"## Example 1.5_13: Ex_13.sce"
		   ]
		  },
  {
"cell_type": "code",
	   "execution_count": null,
	   "metadata": {
	    "collapsed": true
	   },
	   "outputs": [],
"source": [
"clear\n",
"clc\n",
"DelVm_tr=0.0126;//in cm^3/gm\n",
"P=1;//in atm\n",
"Ti=368.65;//in K\n",
"DelTDelP=0.035;//in K/atm\n",
"R1=8.314;//in J\n",
"R2=0.082;//in dm^3atm\n",
"DelHm_tr=Ti*(DelVm_tr*32/1000)*1/(DelTDelP)*(R1/R2)\n",
"printf('DelHm_tr=%.1f J/mol',DelHm_tr)"
   ]
   }
,
{
		   "cell_type": "markdown",
		   "metadata": {},
		   "source": [
			"## Example 1.5_1: Ex_1.sce"
		   ]
		  },
  {
"cell_type": "code",
	   "execution_count": null,
	   "metadata": {
	    "collapsed": true
	   },
	   "outputs": [],
"source": [
"clear ;\n",
"clc ;\n",
"T1 = 234.5 ;// Temperature in K\n",
"P = 1 ; // Pressure in atm\n",
"rho1 = 14.19 // Density of solid Hg in g/(cm^3)\n",
"rho2 = 13.70 // Density of liquid Hg in g/(cm^3)\n",
"V = 200.59 // volume of liquid and solid in g/mol\n",
"delV = ((V/rho2)-(V/rho1))*(10^-3)// in dm^3/mol\n",
"delTdelP = 0.0051 // K/atm\n",
"R1 = 8.314 // in J\n",
"R2 = 0.082 // in (dm)^3/atm\n",
"delH = ((delV*T1)/(delTdelP))*(R1/R2)*10^-3;//molar heat of fusion in kJ/mol\n",
"printf('delH = %.3f (KJ)/mol',delH)\n",
"T2 = 273// in K\n",
"delP = (delH*(R2/R1)*(T2-T1))/(delV*T1)*10^3;//pressure required to raise melting point to T2 in atm\n",
"printf('\ndelP = %d atm ',delP)\n",
"\n",
"\n",
"//Example in page 10"
   ]
   }
,
{
		   "cell_type": "markdown",
		   "metadata": {},
		   "source": [
			"## Example 1.5_2: Ex_2.sce"
		   ]
		  },
  {
"cell_type": "code",
	   "execution_count": null,
	   "metadata": {
	    "collapsed": true
	   },
	   "outputs": [],
"source": [
"clear;\n",
"clc;\n",
"T1=373.15;//in K\n",
"P=1;//atm\n",
"Vv=1674;//in cm^3/gm\n",
"delPdelT=27.12;//in torr/K\n",
"R1=8.314;//in J\n",
"R2=0.082;//in atm/(dm)^3\n",
"delH=((delPdelT)/760)*T1*((Vv*10^-3)*18)*(R1/R2)\n",
"printf('delH =%d J/mol',delH)\n",
"\n",
"////Example in page 15"
   ]
   }
,
{
		   "cell_type": "markdown",
		   "metadata": {},
		   "source": [
			"## Example 1.5_3: Ex_3.sce"
		   ]
		  },
  {
"cell_type": "code",
	   "execution_count": null,
	   "metadata": {
	    "collapsed": true
	   },
	   "outputs": [],
"source": [
"clear;\n",
"clc;\n",
"T1=313.75;//in K\n",
"P1=59.1;//in torr\n",
"T2=353.15;//in K\n",
"P2=298.7;//in torr\n",
"R=2.303*8.314;//in J/(K*mol)\n",
"delH=R*log10(P2/P1)*((T2*T1)/(T2-T1))\n",
"printf('delH=%d J/mol',delH)"
   ]
   }
,
{
		   "cell_type": "markdown",
		   "metadata": {},
		   "source": [
			"## Example 1.5_4: Ex_4.sce"
		   ]
		  },
  {
"cell_type": "code",
	   "execution_count": null,
	   "metadata": {
	    "collapsed": true
	   },
	   "outputs": [],
"source": [
"clear\n",
"clc\n",
"T1=325.15;//in K\n",
"T2=338.15;//in K\n",
"P2=760;//in torr\n",
"DelHm_v=10.5;//\n",
"P1=P2/(10^((DelHm_v/2.303)*((T2/T1)-1)));//in torr\n",
"printf('P1=%.1f torr',P1)\n",
"P=200;//in torr\n",
"T=T2/(1+((2.303/10.5)*log10(P2/P)));//in K\n",
"printf('\nT=%.1d K',T)\n",
"I=log10(P2)-(((DelHm_v*T2)/2.303)*(-1/T2));//\n",
"printf('\nI=%.3f',I)\n",
"\n",
"//There are some errors in the solution given in textbook\n",
"//page 16"
   ]
   }
,
{
		   "cell_type": "markdown",
		   "metadata": {},
		   "source": [
			"## Example 1.5_5: Ex_5.sce"
		   ]
		  },
  {
"cell_type": "code",
	   "execution_count": null,
	   "metadata": {
	    "collapsed": true
	   },
	   "outputs": [],
"source": [
"clear;\n",
"clc;\n",
"P=760;//in torr\n",
"dP=52;//in torr\n",
"dT=2;//in K\n",
"DelH_RTb=10.5;//Trouton rule\n",
"Tb=(DelH_RTb*P)/(dP/dT)\n",
"printf('Tb=%.1f K',Tb)\n",
"R=8.314;//in J/Kmol\n",
"DelH_v=(DelH_RTb*R*Tb)\n",
"printf('\nDelH_v=%1d J/mol',DelH_v)\n",
"\n",
"//There are some errors in the solution given in textbook\n",
"//page 17\n",
""
   ]
   }
,
{
		   "cell_type": "markdown",
		   "metadata": {},
		   "source": [
			"## Example 1.5_6: Ex_6.sce"
		   ]
		  },
  {
"cell_type": "code",
	   "execution_count": null,
	   "metadata": {
	    "collapsed": true
	   },
	   "outputs": [],
"source": [
"clear;\n",
"clc;\n",
"T1=373.15;//in K\n",
"P1=76.0;//in cmHg\n",
"P2=77.0;//in cmHg\n",
"DelHm_v=2255;//in J/gm\n",
"Vm_v=1664;//in cm^3/mol\n",
"Vm_l=1;//in cm^3/mol\n",
"R=8.314;//in J/Kmol\n",
"T2=(1/((1/T1)-((2.303*R/(DelHm_v*18))*log10(P2/P1))))\n",
"printf('T2=%.1f K',T2)\n",
"\n",
"//There are some errors in the solution given in textbook\n",
"//page 18"
   ]
   }
,
{
		   "cell_type": "markdown",
		   "metadata": {},
		   "source": [
			"## Example 1.5_7: Ex_7.sce"
		   ]
		  },
  {
"cell_type": "code",
	   "execution_count": null,
	   "metadata": {
	    "collapsed": true
	   },
	   "outputs": [],
"source": [
"clear;\n",
"clc;\n",
"T1=373.15;//in K\n",
"P1=76.0;//in cmHg\n",
"T2=363.15//in K\n",
"DelHm_v=2268;//in J/gm\n",
"R=8.314;//in J/Kmol\n",
"P2=P1*(10^((DelHm_v*18/(2.303*R))*(1/T1-1/T2)))\n",
"printf('P2=%.1f cmHg',P2)\n",
"\n",
"//page 19\n",
""
   ]
   }
,
{
		   "cell_type": "markdown",
		   "metadata": {},
		   "source": [
			"## Example 1.5_8: Ex_8.sce"
		   ]
		  },
  {
"cell_type": "code",
	   "execution_count": null,
	   "metadata": {
	    "collapsed": true
	   },
	   "outputs": [],
"source": [
"clear\n",
"clc\n",
"T1=456.15;//boiling temperature of iodine in K\n",
"T2=389.65;//vapour pressure temperature of iodine in K\n",
"P1=760;//pressure in torr\n",
"P2=100;//vapour pressure in torr\n",
"DelHm_f=15.65;//heat of fusion in kJ/mol\n",
"R=8.314;//in J/K\n",
"DelHm_v=(2.303*R*log10(P1/P2))/((1/T2)-(1/T1));//heat of vapourization in J/mol\n",
"DelHm_s=(DelHm_f*1000)+DelHm_v;//heat of sublimation in J/mol\n",
"T=311.85;//temperature at solid vapour equilibrium in K\n",
"P=1;//pressure at solid vapour equilibrium in torr\n",
"K1=(DelHm_s)/(2.30*R);//\n",
"K2=(DelHm_v)/(2.30*R);//\n",
"T0=(K1-K2)/((K1*(1/T))-(K2*(1/T2))-log10(P2));//triple point temperature in K\n",
"printf('\nT0=%.1f K',T0)\n",
"P0=10^(K1*((1/T)-(1/T0)));//triple point pressure in torr\n",
"printf('\nP0=%.2f torr',P0)\n",
"\n",
"//There are some errors in the solution given in textbook\n",
"//page 19\n",
""
   ]
   }
,
{
		   "cell_type": "markdown",
		   "metadata": {},
		   "source": [
			"## Example 1.5_9: Ex_9.sce"
		   ]
		  },
  {
"cell_type": "code",
	   "execution_count": null,
	   "metadata": {
	    "collapsed": true
	   },
	   "outputs": [],
"source": [
"clear\n",
"clc\n",
"K1=5.36;//\n",
"K2=4.95;//\n",
"T1=-2875;//in K\n",
"T2=-2740;//in K\n",
"R=8.314;//in J/Kmol\n",
"T=(T2-T1)/(K1-K2);//triple point temperature in K\n",
"printf('T=%.1f K',T)\n",
"P=(10^((T1/T)+K1));//triple point pressure in atm\n",
"printf('\nP=%.7f K atm',P)\n",
"DelHm_s=2.303*R*(-T1);//molar enthalpy of sublimation in J/mol\n",
"DelHm_v=2.303*R*(-T2);//molar enthalpy of vapourization in J/mol\n",
"DelHm_f=DelHm_s-DelHm_v;//molar enthalpy of fusion in J/mol\n",
"printf('\nDelHm_f=%.1d J/mol',DelHm_f)\n",
"DelSm_f=DelHm_f/T;//molar entropy of fusion  in J/Kmol\n",
"printf('\nDelSm_f=%.2f J/Kmol',DelSm_f)\n",
"\n",
"//There are some errors in the solution given in textbook\n",
"//page 20"
   ]
   }
,
{
		   "cell_type": "markdown",
		   "metadata": {},
		   "source": [
			"## Example 1.7_1: Ex_14.sce"
		   ]
		  },
  {
"cell_type": "code",
	   "execution_count": null,
	   "metadata": {
	    "collapsed": true
	   },
	   "outputs": [],
"source": [
"clear\n",
"clc\n",
"T=263.15;//in K\n",
"P2=1.95;//in torr\n",
"rho=0.920;//in gm/cm^3\n",
"P=1;//in atm\n",
"R=0.082;//in dm^3atm/(molK)\n",
"P1=P2*exp((18/(rho*1000))*(P-(P2/760))/(R*T))\n",
"printf('P1=%.3f torr',P1)\n",
"\n",
"//page 29"
   ]
   }
,
{
		   "cell_type": "markdown",
		   "metadata": {},
		   "source": [
			"## Example 1.7_2: Ex_15.sce"
		   ]
		  },
  {
"cell_type": "code",
	   "execution_count": null,
	   "metadata": {
	    "collapsed": true
	   },
	   "outputs": [],
"source": [
"clear\n",
"clc\n",
"P0=100;//in atm\n",
"P=1;//in atm\n",
"P2=31.82;//in torr\n",
"rho=0.996;//in gm/cm^3\n",
"R=0.082;//in dm^3atm/(molK)\n",
"T=303.15;//in K\n",
"P1=P2*(10^(((18/(rho*1000))*(P0-P))/(2.303*R*T)))\n",
"printf('P1=%.1f torr',P1)\n",
"\n",
"//page 29"
   ]
   }
],
"metadata": {
		  "kernelspec": {
		   "display_name": "Scilab",
		   "language": "scilab",
		   "name": "scilab"
		  },
		  "language_info": {
		   "file_extension": ".sce",
		   "help_links": [
			{
			 "text": "MetaKernel Magics",
			 "url": "https://github.com/calysto/metakernel/blob/master/metakernel/magics/README.md"
			}
		   ],
		   "mimetype": "text/x-octave",
		   "name": "scilab",
		   "version": "0.7.1"
		  }
		 },
		 "nbformat": 4,
		 "nbformat_minor": 0
}
