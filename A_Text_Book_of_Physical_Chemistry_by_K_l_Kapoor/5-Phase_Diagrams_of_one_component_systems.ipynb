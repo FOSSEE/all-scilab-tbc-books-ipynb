{
"cells": [
 {
		   "cell_type": "markdown",
	   "metadata": {},
	   "source": [
       "# Chapter 5: Phase Diagrams of one component systems"
	   ]
	},
{
		   "cell_type": "markdown",
		   "metadata": {},
		   "source": [
			"## Example 5.2_1: Ex_1.sce"
		   ]
		  },
  {
"cell_type": "code",
	   "execution_count": null,
	   "metadata": {
	    "collapsed": true
	   },
	   "outputs": [],
"source": [
"clear\n",
"clc\n",
"DelHm_f=6008.5;//in J/mol\n",
"m=18;//molar mass of water in gm/mol\n",
"rho_i=0.917;//density of ice in gm/cm^3\n",
"rho_l=0.99987;//density of liquid in gm/m^3\n",
"DelV=((m/rho_l)-(m/rho_i));\n",
"printf('DelV=%.3f*10^-6 m^3/mol',DelV/10^-6)\n",
"T=273.15;//in K\n",
"P=760;//in mmHg\n",
"Pt=4.6;//triple point pressure in mmHg\n",
"DelPDelT=((DelHm_f)/(T*DelV*10^-6));\n",
"printf('\nDelPdelT=%.3f 10^6 J/Km^3',DelPDelT/10^6)\n",
"DelP=((P-Pt)/P)*101.325*10^3;//in N/m^3\n",
"DelT=(DelP/DelPDelT);\n",
"printf('\nDelT=%.4f K',DelT)\n",
"\n",
"//There are some errors in the solution given in textbook\n",
"//page 222"
   ]
   }
,
{
		   "cell_type": "markdown",
		   "metadata": {},
		   "source": [
			"## Example 5.2_2: Ex_2.sce"
		   ]
		  },
  {
"cell_type": "code",
	   "execution_count": null,
	   "metadata": {
	    "collapsed": true
	   },
	   "outputs": [],
"source": [
"clear\n",
"clc\n",
"R=8.314;//in J/Kmol\n",
"T=273.15;//in K\n",
"m=18;//molar mass of water in gm /mol\n",
"rho_l=0.99987;//density of water ingm/cm^3\n",
"P2=101.325*10^3;//atmospheric pressure in N/m^2\n",
"Pt=4.6;//triple point pressure in mmHg\n",
"P1=(Pt/760)*P2;//\n",
"P=Pt*10^((((m*10^-3)/(rho_l*10^3))*(P2-P1))/(2.303*R*T));//vapour pressure of liquid water in mmHg\n",
"printf('P=%.3f mmHg',P)\n",
"\n",
"//page 223\n",
""
   ]
   }
],
"metadata": {
		  "kernelspec": {
		   "display_name": "Scilab",
		   "language": "scilab",
		   "name": "scilab"
		  },
		  "language_info": {
		   "file_extension": ".sce",
		   "help_links": [
			{
			 "text": "MetaKernel Magics",
			 "url": "https://github.com/calysto/metakernel/blob/master/metakernel/magics/README.md"
			}
		   ],
		   "mimetype": "text/x-octave",
		   "name": "scilab",
		   "version": "0.7.1"
		  }
		 },
		 "nbformat": 4,
		 "nbformat_minor": 0
}
