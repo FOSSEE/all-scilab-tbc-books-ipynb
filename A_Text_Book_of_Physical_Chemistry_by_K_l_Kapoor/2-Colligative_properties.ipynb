{
"cells": [
 {
		   "cell_type": "markdown",
	   "metadata": {},
	   "source": [
       "# Chapter 2: Colligative properties"
	   ]
	},
{
		   "cell_type": "markdown",
		   "metadata": {},
		   "source": [
			"## Example 2.10_1: Ex_14.sce"
		   ]
		  },
  {
"cell_type": "code",
	   "execution_count": null,
	   "metadata": {
	    "collapsed": true
	   },
	   "outputs": [],
"source": [
"clear\n",
"clc\n",
"P=2.47;//osmotic pressure in atm\n",
"DelHm_v=539*18;//in cal/mol\n",
"R=0.082;//in litreatm\n",
"Vm=18.1;//molar volume of water\n",
"T=303;//in K\n",
"Tb=373;//boiling point temperature in K\n",
"DelTb=(P*Vm*10^-3*(Tb^2))/(DelHm_v*(R/1.987)*T)\n",
"printf('DelTb=%.4f K',DelTb)\n",
"\n",
"//The above calculations are done in CGS units\n",
"\n",
"//To convert them into SI units the following changes are done\n",
"R=8.314;//in J/Kmol\n",
"P=2.47*101325;//in N/m^2\n",
"Vm=18.1*10^-6;//in m^3/mol\n",
"\n",
"//Both answers come out be same\n",
"//page 70"
   ]
   }
,
{
		   "cell_type": "markdown",
		   "metadata": {},
		   "source": [
			"## Example 2.10_2: Ex_15.sce"
		   ]
		  },
  {
"cell_type": "code",
	   "execution_count": null,
	   "metadata": {
	    "collapsed": true
	   },
	   "outputs": [],
"source": [
"clear\n",
"clc\n",
"rho=1.59;//density of CCl4 in kg/dm^3\n",
"M1=154;//molar mass of CCl4 in kg/mol\n",
"DelTb=0.60;//boiling point of CCl4 in K\n",
"Kb=5.03;//in Kkg/mol\n",
"m=DelTb/Kb;\n",
"m2=3;//amount added to CCl4 in gm\n",
"m1=100;//amount of CCl4 in gm\n",
"M2=(m2*10^-3)/(m1*10^-3*m);//molar mass of substance\n",
"printf('M2=%.3f kg/mol',M2)\n",
"Kf=31.8;//freezing point depression in Kkg/mol\n",
"DelTf=Kf*m\n",
"printf('\nDelTf=%.3f K',DelTf)\n",
"P=(m2*10^-3/M2)/(((m2*10^-3)/M2)+((m1*10^-3)/(M1*10^-3)));//relative vapour pressure DelP/P1\n",
"printf('\nP=%.5f',P)\n",
"V1m=m1*10^-3/(rho);//volume in dm^3\n",
"R=0.082;//in dm^3atm/Kmol\n",
"T=298;//Temperature in K\n",
"P0=((m2/250)*R*T)/V1m;//osmotic pressure in atm\n",
"printf('\nP0=%.3f atm',P0)\n",
"\n",
"//There are some errors in the solution given in textbook\n",
"//page 71\n",
""
   ]
   }
,
{
		   "cell_type": "markdown",
		   "metadata": {},
		   "source": [
			"## Example 2.11_1: Ex_16.sce"
		   ]
		  },
  {
"cell_type": "code",
	   "execution_count": null,
	   "metadata": {
	    "collapsed": true
	   },
	   "outputs": [],
"source": [
"clear \n",
"clc\n",
"w2=0.122;//amount of benzoic acid in kg\n",
"w1=1;//amount of benzene in kg\n",
"Tb1=353;//boiling point of benzene in K\n",
"Tb2=354.5;//boiling point at which actually boiling of benzene starts in K\n",
"DelH_v=394.57;//in J/gm\n",
"M1=w2/0.122;//amount of benzoic acid in mol\n",
"R=8.314;//in J/Kmol\n",
"M2=((M1*78*10^-3)*R*Tb1^2*w2)/(w1*(Tb2-Tb1)*(DelH_v*78));//apparant molar mass of benzoic acid in kg/mol\n",
"printf('M2=%.4f kg/mol',M2)\n",
"alpha=2*(1-(w2/M2));//degree of dimerisation in mol\n",
"printf('\nalpha=%.4f mol',alpha)\n",
"\n",
"//There are some errors in the solution given in textbook\n",
"//page 75"
   ]
   }
,
{
		   "cell_type": "markdown",
		   "metadata": {},
		   "source": [
			"## Example 2.11_2: Ex_17.sce"
		   ]
		  },
  {
"cell_type": "code",
	   "execution_count": null,
	   "metadata": {
	    "collapsed": true
	   },
	   "outputs": [],
"source": [
"clear\n",
"clc\n",
"w2=0.011;//amount of barium nitrate in kg\n",
"M2=0.2613;//molar mass of barium nitrate inkg/mol\n",
"w1=0.1;//amount of water in kg\n",
"Kb=5.2;//for 100gm of water in K\n",
"m=(w2/M2)/w1;//molality of solution in mol/kg\n",
"DelTb_0=Kb/10*m;//in K\n",
"T=100.46;//boiling point of water\n",
"i=(T-100)/DelTb_0;//van't hoff factor\n",
"v=3;\n",
"alpha=(i-1)/(v-1);//degree of ionization\n",
"printf('alpha=%.2f',alpha)\n",
"\n",
"//page 75\n",
""
   ]
   }
,
{
		   "cell_type": "markdown",
		   "metadata": {},
		   "source": [
			"## Example 2.11_3: Ex_18.sce"
		   ]
		  },
  {
"cell_type": "code",
	   "execution_count": null,
	   "metadata": {
	    "collapsed": true
	   },
	   "outputs": [],
"source": [
"clear\n",
"clc\n",
"M1=324.6;//molar mass of Hg(NO3)2 in gm\n",
"m1=3.24;//amount of Hg(NO3)2 in gm dissolved in water\n",
"w=1;//amount of water in kg\n",
"M0=(m1/M1)*(1/w);//molality of the solution in K\n",
"Kf=1.86;//in Kkg/mol\n",
"DelTf_0=(Kf*M0);// here DelTf_0 is negative\n",
"DelTf=0.0558;//freezing point of the solution here DelTf is negative \n",
"i=(DelTf/DelTf_0);//van't hoff factor\n",
"v=3;\n",
"alpha=(i-1)/(v-1);//degree of dissociation\n",
"printf('alpha=%1d',alpha)\n",
"M2=271.5;//molar mass of HgCl2 in gm\n",
"m2=10.84;//amount of HgCl2 dissolved in water in gm\n",
"M=(m2/M2)*(1/w);//molality of HgCl2 solution in mol/kg\n",
"DelTf1_0=Kf*M;//for HgCl2 solution\n",
"printf('\nDelTf1_0=%.3f K',DelTf1_0)\n",
"\n",
"//page 76"
   ]
   }
,
{
		   "cell_type": "markdown",
		   "metadata": {},
		   "source": [
			"## Example 2.11_4: Ex_19.sce"
		   ]
		  },
  {
"cell_type": "code",
	   "execution_count": null,
	   "metadata": {
	    "collapsed": true
	   },
	   "outputs": [],
"source": [
"clear\n",
"clc\n",
"M=78*10^-3;//molar mass of C6H6 in Kg/mol\n",
"R=8.314;//gas constant in J/Kmol\n",
"Tf2=278.4;//melting point of pure C6H6 in K\n",
"DelHm_v=10.042*10^3;//heat of fusion in J/mol\n",
"Kf=((M*R*Tf2^2)/DelHm_v);//inKkg/mol\n",
"Tf1=277.4;//melting point of C6H6 in Kg/mol\n",
"M1=(Tf2-Tf1)/Kf;//molality in mol/kg\n",
"X1=0.02;//molefraction of CH3COOH\n",
"M2=X1/M;//molality in mol/kg\n",
"Md=(M2-M1);//molality of dimer in mol/kg\n",
"Mm=M1-Md;//molality of monomer in mol/kg\n",
"Keq=(Md)/(Mm^2);//equilibrium constant fo dimerization of CH3COOH\n",
"printf('Keq=%.2f',Keq)\n",
"\n",
"//There are some errors in the solution given in textbook\n",
"//page 76"
   ]
   }
,
{
		   "cell_type": "markdown",
		   "metadata": {},
		   "source": [
			"## Example 2.11_5: Ex_20.sce"
		   ]
		  },
  {
"cell_type": "code",
	   "execution_count": null,
	   "metadata": {
	    "collapsed": true
	   },
	   "outputs": [],
"source": [
"clear\n",
"clc\n",
"DelTf1=0.704;//freezing point of aqueous KCN in K\n",
"Kf=1.86;//in kg/mol\n",
"M1=(DelTf1)/Kf;//molality of the solution containing KCN\n",
"DelTf2=0.530;//freezing point on addition of Hg(CN)2\n",
"M2=(DelTf2)/Kf;//molality on addition og Hg(CN)2\n",
"Kplus=0.1892;//amount of K+ in 1000gm of solvent\n",
"HgCN2=0.095;//amount of Hg(CN)2 added to form complex\n",
"M=(Kplus+Kplus+HgCN2-M2);//\n",
"N=(M/HgCN2);//no. of CN- units combined\n",
"printf('N=%.1f',N)\n",
"\n",
"//Formula is Hg(CN)2^-4\n",
"//page 77"
   ]
   }
,
{
		   "cell_type": "markdown",
		   "metadata": {},
		   "source": [
			"## Example 2.11_6: Ex_21.sce"
		   ]
		  },
  {
"cell_type": "code",
	   "execution_count": null,
	   "metadata": {
	    "collapsed": true
	   },
	   "outputs": [],
"source": [
"clear\n",
"clc\n",
"M1=148.31;//molar mass of Mg(NO2)2 in gm\n",
"m1=6.69;//amount of Mg(NO2)2 dissolved in water\n",
"m2=100;//amount of water \n",
"P1=747;//pressure in torr\n",
"T2=373;//temperature in K\n",
"P=760;//pressure at normal temperature\n",
"X=(m1/M1)/((m1/M1)+(m2/18));//mole fraction of solute in solution \\n",
"DelP=X*P;//\n",
"i=(P-P1)/DelP;//van't hoff factor\n",
"v=3;//\n",
"alpha=(i-1)/(v-1);//degree of dissociation of salt in solution\n",
"printf('alpha=%.3f',alpha)\n",
"\n",
"//page 78\n",
""
   ]
   }
,
{
		   "cell_type": "markdown",
		   "metadata": {},
		   "source": [
			"## Example 2.11_7: Ex_22.sce"
		   ]
		  },
  {
"cell_type": "code",
	   "execution_count": null,
	   "metadata": {
	    "collapsed": true
	   },
	   "outputs": [],
"source": [
"clear\n",
"clc\n",
"C_Mg=0.5;//concentration of Mg2+ ion\n",
"C_SO4=0.7;//concentration of SO4_2- ion\n",
"C_Al=0.1;//concentration of Al3+ ion\n",
"C_Cl=0.3;//cocncentration of Cl- ion\n",
"C_NH4=0.4;//concentration of NH4+ ion\n",
"Z1=2;//valence of Mg2+ ion\n",
"Z2=2;//valence of SO4_2- ion\n",
"Z3=3;//valence of Al3+ ion\n",
"Z4=1;//valence of Cl- ion\n",
"Z5=1;//valence of NH4+ ion\n",
"mu=1/2*(C_Mg*(Z1^2)+C_SO4*(Z2^2)+C_Al*(Z3^2)+C_Cl*(Z4^2)+C_NH4*(Z5^2));//ionic strength\n",
"printf('mu=%.1f',mu)\n",
"\n",
"//page 78"
   ]
   }
,
{
		   "cell_type": "markdown",
		   "metadata": {},
		   "source": [
			"## Example 2.11_8: Ex_23.sce"
		   ]
		  },
  {
"cell_type": "code",
	   "execution_count": null,
	   "metadata": {
	    "collapsed": true
	   },
	   "outputs": [],
"source": [
"clear\n",
"clc\n",
"Kf=1.86;//in Kkg/mol\n",
"m=0.2;//amount of aqueous solution of KCL freezes in mol/kg\n",
"DelTf_0=Kf*m;//in K\n",
"DelTf_1=0.680;//in K\n",
"i1=DelTf_1/DelTf_0;//van't hoff factor\n",
"printf('i1=%.2f',i1)\n",
"v=2;\n",
"alpha=(i1-1)/(v-1);//degree of dissociation\n",
"printf('\nalpha=%.2f',alpha)\n",
"z=1;//valency\n",
"mu=(1/2)*((m*z^1)+(m*z^1))\n",
"printf('\nmu=%.1f',mu)\n",
"i2=v*(1-((0.375+z-z)*(sqrt(mu))))\n",
"printf('\ni2=%.4f',i2)\n",
"Kb=0.52;//in Kkg/mol\n",
"DelTb=i1*Kb*m\n",
"printf('\nDelTb=%.3f K',DelTb)\n",
"R=8.314;//in J/Kmol\n",
"T=273;//in K\n",
"P=i1*(m*10^3)*R*T*(1/101325);//osmotic pressure in atm\n",
"printf('\nP=%.1f atm',P)\n",
"\n",
"//page 79"
   ]
   }
,
{
		   "cell_type": "markdown",
		   "metadata": {},
		   "source": [
			"## Example 2.12_1: Ex_24.sce"
		   ]
		  },
  {
"cell_type": "code",
	   "execution_count": null,
	   "metadata": {
	    "collapsed": true
	   },
	   "outputs": [],
"source": [
"clear\n",
"clc\n",
"DelH2m_f=10;//molar heat of fusion in kJ/mol\n",
"T1=298.15;//temperature in K\n",
"T2=353.35;//freezing temperature in K\n",
"R=8.314;//in J/Kmol\n",
"X=(10^-(((DelH2m_f*10^3)/R)*((1/T1)-(1/T2))));//solubility of napthalene\n",
"printf('X=%.4f',X)\n",
"\n",
"//solution is wrong\n",
"//There are some errors in the solution given in textbook\n",
"//page 81\n",
""
   ]
   }
,
{
		   "cell_type": "markdown",
		   "metadata": {},
		   "source": [
			"## Example 2.12_2: Ex_25.sce"
		   ]
		  },
  {
"cell_type": "code",
	   "execution_count": null,
	   "metadata": {
	    "collapsed": true
	   },
	   "outputs": [],
"source": [
"clear\n",
"clc\n",
"n2=6.2;//in mol\n",
"n1=1000;//in mol\n",
"X=(n2)/((n1/18)+n2);//solubility of sucrose\n",
"T1=298;//in K\n",
"T2=473;//freezing point temperature in K\n",
"R=8.314;//in J/Kmol\n",
"DelH2m_f=-(R*2.303*log10(X)/((1/T1)-(1/T2)));//molar heat of fusion\n",
"printf('DelH2m_f=%.1d J/mol',DelH2m_f)\n",
"\n",
"//There are some errors in the solution given in textbook\n",
"//page 82"
   ]
   }
,
{
		   "cell_type": "markdown",
		   "metadata": {},
		   "source": [
			"## Example 2.2_1: Ex_1.sce"
		   ]
		  },
  {
"cell_type": "code",
	   "execution_count": null,
	   "metadata": {
	    "collapsed": true
	   },
	   "outputs": [],
"source": [
"clear\n",
"clc\n",
"M1=20;//mass of acetic acid in gm\n",
"M2=80;//mass of water in gm\n",
"mM=60;//molar mass of acetic acid in gm\n",
"Vm1=M1/60;//in mol\n",
"Vm2=M2/18;//in mol\n",
"rho=1.026;//in gm/cm^3\n",
"X=Vm1/(Vm1+Vm2);//mole fraction of acetic acid\n",
"printf('X=%.3f',X)\n",
"B=Vm1/(M2/1000);//molality of acetic acid\n",
"printf('\nB=%.3f mol/kg',B)\n",
"V=(M1+M2)/rho\n",
"C=(Vm1)/(V/1000);//molarity of acetic acid\n",
"printf('\nC=%.3f moldm^-3',C)\n",
"\n",
"//There are some errors in the solution given in textbook\n",
"//In textbook the value of X is given in fraction\n",
"//page 36"
   ]
   }
,
{
		   "cell_type": "markdown",
		   "metadata": {},
		   "source": [
			"## Example 2.2_2: Ex_2.sce"
		   ]
		  },
  {
"cell_type": "code",
	   "execution_count": null,
	   "metadata": {
	    "collapsed": true
	   },
	   "outputs": [],
"source": [
"clear \n",
"clc\n",
"C=5;//molarity in mol\n",
"mM=100;//molar mass in gm\n",
"rho=1.289;//in gm/cm^3\n",
"M1=C*mM;//mass of solute\n",
"M2=(rho*1000)-M1;//mass of solvent\n",
"V=(M2)/18;//volume of water solvent in mol\n",
"X=(C)/(V+C);//mole fraction of solute\n",
"printf('X=%.4f',X)\n",
"B=(C)/(M2/1000)\n",
"printf('\nB=%.3f mol/kg',B)\n",
"\n",
"//page 23\n",
""
   ]
   }
,
{
		   "cell_type": "markdown",
		   "metadata": {},
		   "source": [
			"## Example 2.4_1: Ex_3.sce"
		   ]
		  },
  {
"cell_type": "code",
	   "execution_count": null,
	   "metadata": {
	    "collapsed": true
	   },
	   "outputs": [],
"source": [
"clear\n",
"clc\n",
"T=303;//in K\n",
"m2=10;//mass of solute in gm\n",
"m1=80;//mass of solute acetone in gm\n",
"P1=271;//in torr\n",
"P2=283;//in torr\n",
"M1=58;//in gm/mol\n",
"M2=((m2*M1)/(((P2-P1)/P2)*m1))-((M1*m2)/m1)\n",
"printf('M2=%.1f gm/mol',M2)\n",
"\n",
"//page 39\n",
""
   ]
   }
,
{
		   "cell_type": "markdown",
		   "metadata": {},
		   "source": [
			"## Example 2.4_2: Ex_4.sce"
		   ]
		  },
  {
"cell_type": "code",
	   "execution_count": null,
	   "metadata": {
	    "collapsed": true
	   },
	   "outputs": [],
"source": [
"clear\n",
"clc\n",
"P1=74.01;//in torr\n",
"P2=74.66;//in torr\n",
"m2=2;//in gm\n",
"m1=100;//in gm\n",
"M1=78;//in gm\n",
"M2=((m2*M1)/(((P2-P1)/P2)*m1))-((M1*m2)/m1)\n",
"printf('M2=%.1f gm/mol',M2)\n",
"nCH=94.4/5.6;//mass ratio of C and H\n",
"N=nCH*(1/12);//atomic ratio\n",
"printf('\nN=%.1f',N)\n",
"\n",
"//atomic ratio is 7:5 (here N is showed decimals)\n",
"\n",
"EM=(12*7)+(1*5);//empirical mass\n",
"K=M2/EM;//No. of units C7H5 \n",
"printf('\nK=%1f',K)\n",
"\n",
"//Approximately equal to 2, Molecular Formula C14H10\n",
"//There are some errors in the solution given in textbook\n",
"//page 40 "
   ]
   }
,
{
		   "cell_type": "markdown",
		   "metadata": {},
		   "source": [
			"## Example 2.4_3: Ex_5.sce"
		   ]
		  },
  {
"cell_type": "code",
	   "execution_count": null,
	   "metadata": {
	    "collapsed": true
	   },
	   "outputs": [],
"source": [
"clear\n",
"clc\n",
"m1=100;//amount of water in gm\n",
"M1=18;//in gm\n",
"m2=1;//amount of urea in gm\n",
"M2=60;//in gm\n",
"m3=2;//amount of sucrose in gm\n",
"M3=342;//in gm\n",
"X=(m1/M1)/((m1/M1)+(m2/M2)+(m3/M3));//mole fraction of solvent\n",
"P2=23.756;//in torr\n",
"T=298;//in K\n",
"P1=P2*X;//vapour pressure of solution intorr\n",
"printf('P1=%.2f torr',P1)\n",
"\n",
"//There are some errors in the solution given in textbook\n",
"//page 39\n",
""
   ]
   }
,
{
		   "cell_type": "markdown",
		   "metadata": {},
		   "source": [
			"## Example 2.7_3: Ex_6.sce"
		   ]
		  },
  {
"cell_type": "code",
	   "execution_count": null,
	   "metadata": {
	    "collapsed": true
	   },
	   "outputs": [],
"source": [
"clear\n",
"clc\n",
"m1=0.5126;//in dissolved mass in gm\n",
"mM1=128.2;//molar mass of napthalene in gm\n",
"m0=50;//mass of solvent in gm\n",
"B=(m1/mM1)/(m0/1000);//Molality of solution in mol/kg\n",
"printf('B=%.5f mol/kg',B)\n",
"delTb=0.402;//change in tempereature of napthalene in K\n",
"Kb=delTb/B;\n",
"delTbs=0.647//chamge in temp for unknown solution in K\n",
"m2=0.6216;//mass of unknown solute\n",
"M=(Kb*m2*1000)/(delTbs*m0);//molar mass of unknown solute\n",
"printf('\nM=%.2f gm/mol',M)\n",
"\n",
"//page 51\n",
""
   ]
   }
,
{
		   "cell_type": "markdown",
		   "metadata": {},
		   "source": [
			"## Example 2.7_4: Ex_7.sce"
		   ]
		  },
  {
"cell_type": "code",
	   "execution_count": null,
	   "metadata": {
	    "collapsed": true
	   },
	   "outputs": [],
"source": [
"clear\n",
"clc\n",
"P0=100;//vapour pressure in torr\n",
"P2=760;//in torr\n",
"T2=353.15;//in K\n",
"T1=300.15;// in K\n",
"DelSm_v=87.03;//entropy in J/Kmol\n",
"R=8.314;//in J/Kmol\n",
"P1=P2/(10^((DelSm_v*(T2-T1))/(2.303*R*T1)))\n",
"printf('P1=%.1f torr',P1)\n",
"X=(P1-P0)/P1;//Mole fraction of solute\n",
"printf('\nX=%.4f',X)\n",
"T0=(1/T2)+((R*log(1-X))/(DelSm_v*T2))\n",
"Tb=1/T0;//Boiling point of solution\n",
"printf('\nTb=%.1f K',Tb)\n",
"\n",
"//page 52"
   ]
   }
,
{
		   "cell_type": "markdown",
		   "metadata": {},
		   "source": [
			"## Example 2.7_5: Ex_8.sce"
		   ]
		  },
  {
"cell_type": "code",
	   "execution_count": null,
	   "metadata": {
	    "collapsed": true
	   },
	   "outputs": [],
"source": [
"clear\n",
"clc\n",
"M1=76;//molar mass of CS2 in gm\n",
"w2=3.795;//weight of S in 100gm of CS2 in gm\n",
"w1=100;//weight of CS2\n",
"R=8.314;//in J/Kmol\n",
"Tb=319.81;//boiling point of CS2 in K\n",
"Tbp=319.45;//boiling point of pure CS2 in K\n",
"DelHm_v=351.87;//enthalpy of vaporization in J/gm\n",
"M2=(w2*M1*R*(Tb^2))/(w1*(Tb-Tbp)*DelHm_v*76)\n",
"printf('M2=%.1f gm/mol',M2)\n",
"N=M2/32;//no. of s atoms\n",
"printf('\nN=%.1f',N)\n",
"\n",
"//Molecular formula S8\n",
"//There are some errors in the solution given in textbook\n",
"//page 53"
   ]
   }
,
{
		   "cell_type": "markdown",
		   "metadata": {},
		   "source": [
			"## Example 2.8_2: Ex_9.sce"
		   ]
		  },
  {
"cell_type": "code",
	   "execution_count": null,
	   "metadata": {
	    "collapsed": true
	   },
	   "outputs": [],
"source": [
"clear\n",
"clc\n",
"M1=152.2;//molar mass of carbon in gm\n",
"T1=451.55;//melting point temp in K\n",
"T2=433.85;//melting point temp in K(for unknown compound)\n",
"w2=0.0386;//mass of unknown compound in gm\n",
"w1=0.522;//mass of camphor in solution in gm\n",
"R=8.314;//J/Kmol\n",
"DelHm_f=6.844;//in KJ\n",
"Kf=(((R*T1^2)/(DelHm_f*10^3))*(M1/1000))\n",
"printf('Kf=%.1f',Kf)\n",
"DelT_f=(T1-T2);\n",
"B=(DelT_f/Kf);//molality of the solution in mol/kg\n",
"printf('\nB=%.2f mol/kg',B)\n",
"M2=(w2/B)*(1000/w1);\n",
"printf('\nM2=%.1f gm/mol',M2)\n",
"Z=92.3/7.7;//mass ratio of wC and wH\n",
"N0=1/12;//atomic ratio of H and C\n",
"K=(Z*N0);\n",
"printf('\nK=%.1f',K)\n",
"\n",
"//Clearly we get K=1.0 implies empirical formula is CH\n",
"Me=13;//empirical mass in gm\n",
"N=(M2/Me);//no. of units of CH\n",
"printf('\nN=%.1f',N)\n",
"\n",
"//Taking approximately equal to 12 Molecular formula is C12H12\n",
"//There are some errors in the solution given in textbook\n",
"//page 58"
   ]
   }
,
{
		   "cell_type": "markdown",
		   "metadata": {},
		   "source": [
			"## Example 2.8_3: Ex_10.sce"
		   ]
		  },
  {
"cell_type": "code",
	   "execution_count": null,
	   "metadata": {
	    "collapsed": true
	   },
	   "outputs": [],
"source": [
"clear\n",
"clc\n",
"n1=0.1;//amount of napthalene in mol\n",
"n2=0.9;//amount of benzene in mol\n",
"Tf=278.5;//freezing temperature of C6H6 in K\n",
"Tb=353;//boiling temperature of C6H6 in K\n",
"P1=670;//vapour pressure in torr\n",
"P2=760;//in torr\n",
"R=8.314;//in J/Kmol\n",
"M1=78;//atomic mass of C6H6\n",
"DelHm_f=10.67;//in KJ\n",
"X1=(P2-P1)/P2;//\n",
"nT=(n1/X1);//\n",
"nb=(nT-n1);//\n",
"Kfb=((R*Tf^2)/(DelHm_f*1000))*(M1/1000);//\n",
"printf('Kfb=%.3f Kg/mol',Kfb)\n",
"B=(n1/(nb*M1)*1000);//molality of the solution\n",
"printf('\nB=%.3f mol/kg',B)\n",
"DelTf=(Kfb*B);//in K\n",
"T=(Tf-DelTf);//in K\n",
"printf('\nT=%.2f K',T)\n",
"\n",
"//There are some errors in the solution given in textbook\n",
"//page 59"
   ]
   }
,
{
		   "cell_type": "markdown",
		   "metadata": {},
		   "source": [
			"## Example 2.9_1: Ex_11.sce"
		   ]
		  },
  {
"cell_type": "code",
	   "execution_count": null,
	   "metadata": {
	    "collapsed": true
	   },
	   "outputs": [],
"source": [
"clear\n",
"clc\n",
"x1=[0.0200,0.0150,0.0100,0.0075,0.0050,0.00025]\n",
"y2=[0.104,0.101,0.099,0.098]\n",
"x2=[0.0200,0.0150,0.0100,0.0050]\n",
"y1=[0.585,0.440,0.300,0.230,0.18,0.140]\n",
"plot(x1,y1,'go-',x2,y2,'ro-')\n",
"[m1,c1]=reglin(x1,y1)\n",
"[m2,c2]=reglin(x2,y2)\n",
"R=82.0;//in cm^2atm/Kmol\n",
"T=298;//in K\n",
"M=R*T/c2;//molar mass of polyisobutylene in gm/mol\n",
"printf('M=%.1d gm/mol',M)\n",
"\n",
"//There is some error in the solution given in textbook\n",
"//There are some errors in the solution given in textbook\n",
"//page 68"
   ]
   }
,
{
		   "cell_type": "markdown",
		   "metadata": {},
		   "source": [
			"## Example 2.9_2: Ex_12.sce"
		   ]
		  },
  {
"cell_type": "code",
	   "execution_count": null,
	   "metadata": {
	    "collapsed": true
	   },
	   "outputs": [],
"source": [
"clear\n",
"clc\n",
"h=3.9;//height in mm\n",
"rho=1.0;//density of solution\n",
"g=980.7;//acceleration due to gravity in cm/s^2\n",
"P=((h/10)*rho*g);//osmotic pressure in gm/(cms^2)\n",
"V=1000;//volume in cm^3\n",
"T=25;//temperatur in C\n",
"w2=1;//weight of serum albumin\n",
"R=8.314;//in J/Kmol\n",
"M2=(w2*(R*10^7)*(T+273))/(P*V);//molar mass of serum albumin\n",
"printf('M2=%.3f *10^4 g/mol',M2/10^4)\n",
"\n",
"//The above result is in CGS units\n",
"\n",
"//The following results are in SI units\n",
"p=(P/10);//osmotic pressure in N/m^2\n",
"m2=(M2/10^3);//molar mass of serum albumin\n",
"printf('\nm2=%.2f Kg/mol',m2)\n",
"\n",
"//page 67\n",
""
   ]
   }
,
{
		   "cell_type": "markdown",
		   "metadata": {},
		   "source": [
			"## Example 2.9_3: Ex_13.sce"
		   ]
		  },
  {
"cell_type": "code",
	   "execution_count": null,
	   "metadata": {
	    "collapsed": true
	   },
	   "outputs": [],
"source": [
"clear\n",
"clc\n",
"w1=1;//amount of glucose C6H12O6 in gm\n",
"w2=1;//amount of sucrose C12H12022 in gm\n",
"n=(w1/180)+(w2/342);//amount of solute\n",
"R=8.314;//in J/Kmol\n",
"T=25;//in C\n",
"V=1000;//volume of water in gm\n",
"P=(n*R*(T+273))/(V*10^-6);//osmotic pressure of solution\n",
"printf('P=%.3f *10^4 N/m^2',P/10^4) \n",
"w=(w1+w2);//weight of solute\n",
"M=(w*R*(T+273))/(P*(V*10^-3));//molar mass of solute\n",
"printf('\nM=%.4f kg/mol',M)\n",
"Mn=((w1*10^-3)+(w2*10^-3))/(n);//average molar mass in Kg/mol\n",
"printf('\nMn=%.4f kg/mol',Mn)\n",
"\n",
"//page 67"
   ]
   }
],
"metadata": {
		  "kernelspec": {
		   "display_name": "Scilab",
		   "language": "scilab",
		   "name": "scilab"
		  },
		  "language_info": {
		   "file_extension": ".sce",
		   "help_links": [
			{
			 "text": "MetaKernel Magics",
			 "url": "https://github.com/calysto/metakernel/blob/master/metakernel/magics/README.md"
			}
		   ],
		   "mimetype": "text/x-octave",
		   "name": "scilab",
		   "version": "0.7.1"
		  }
		 },
		 "nbformat": 4,
		 "nbformat_minor": 0
}
