{
"cells": [
 {
		   "cell_type": "markdown",
	   "metadata": {},
	   "source": [
       "# Chapter 8: Electrochemical cells"
	   ]
	},
{
		   "cell_type": "markdown",
		   "metadata": {},
		   "source": [
			"## Example 8.10_1: Ex_6.sce"
		   ]
		  },
  {
"cell_type": "code",
	   "execution_count": null,
	   "metadata": {
	    "collapsed": true
	   },
	   "outputs": [],
"source": [
"clear\n",
"clc\n",
"RT_F=0.05915;//in V\n",
"Ecell=0.0295;//in V\n",
"A=0.1;//\n",
"B=0.01;//\n",
"n=(RT_F/Ecell)*(log10(A/B));//\n",
"printf('n=%.1f',n)\n",
"\n",
"//page 459"
   ]
   }
,
{
		   "cell_type": "markdown",
		   "metadata": {},
		   "source": [
			"## Example 8.11_1: Ex_7.sce"
		   ]
		  },
  {
"cell_type": "code",
	   "execution_count": null,
	   "metadata": {
	    "collapsed": true
	   },
	   "outputs": [],
"source": [
"clear\n",
"clc\n",
"k = [24.4,48.8,73.2,85.4]\n",
"E = [0.101,0.116,0.129,0.139]\n",
"l = log10(k./(100-k))\n",
"plot(l,E,'mo-')\n",
"[m,c]=reglin(l,E)\n",
"V=0.0603;//in V\n",
"n=V/m;//\n",
"printf('n=%.1f',n)\n",
"\n",
"//page 460"
   ]
   }
,
{
		   "cell_type": "markdown",
		   "metadata": {},
		   "source": [
			"## Example 8.12_1: Ex_8.sce"
		   ]
		  },
  {
"cell_type": "code",
	   "execution_count": null,
	   "metadata": {
	    "collapsed": true
	   },
	   "outputs": [],
"source": [
"clear\n",
"clc\n",
"E0=0.7991;//in V\n",
"RT_F=0.05915;//in V\n",
"K1=6.02*10^-8;//\n",
"K2=1.995*10^-19;//\n",
"E1=(E0-(RT_F*(-log10(K1))));//\n",
"printf('E1=%.4f V',E1)\n",
"E2=(E0-(RT_F*(-log10(K2))));//\n",
"printf('\nE2=%.4f V',E2)\n",
"\n",
"//page 464"
   ]
   }
,
{
		   "cell_type": "markdown",
		   "metadata": {},
		   "source": [
			"## Example 8.12_2: Ex_9.sce"
		   ]
		  },
  {
"cell_type": "code",
	   "execution_count": null,
	   "metadata": {
	    "collapsed": true
	   },
	   "outputs": [],
"source": [
"clear\n",
"clc\n",
"T=298;//temperature in K\n",
"R=8.314;//J/K\n",
"F=96500;//in C\n",
"Kw=(10^-14);//\n",
"E=((2.303*R*T)/F)*log10(Kw);//reduction potential in V\n",
"printf('E=%.3f V',E)\n",
"\n",
"//page 464"
   ]
   }
,
{
		   "cell_type": "markdown",
		   "metadata": {},
		   "source": [
			"## Example 8.14_1: Ex_10.sce"
		   ]
		  },
  {
"cell_type": "code",
	   "execution_count": null,
	   "metadata": {
	    "collapsed": true
	   },
	   "outputs": [],
"source": [
"clear\n",
"clc\n",
"E3=0.54;//in V\n",
"E4=0.45;//in V\n",
"n3=4;//\n",
"n4=1;//\n",
"n1=5;//\n",
"E1=((-n3*(E3))-(n4*(E4)))/(-n1);// in V\n",
"printf('E1=%.2f V',E1)\n",
"n2=6;//\n",
"n5=1;//\n",
"E5=1.07;//in V\n",
"E2=((-n3*(E3))-(n4*(E4))-(n5*E5))/(-n2);// in V\n",
"printf('\nE2=%.2f V',E2)\n",
"\n",
"//page 468"
   ]
   }
,
{
		   "cell_type": "markdown",
		   "metadata": {},
		   "source": [
			"## Example 8.16_1: Ex_11.sce"
		   ]
		  },
  {
"cell_type": "code",
	   "execution_count": null,
	   "metadata": {
	    "collapsed": true
	   },
	   "outputs": [],
"source": [
"clear\n",
"clc\n",
"E_RHE=(0.1385);//reduction reaction at RHE in V\n",
"RT_F=0.05915;//\n",
"E_LHE=((RT_F*2)*log10(0.2));//reduction reaction at LHE in V\n",
"Ecell=E_RHE-E_LHE;//cell reaction in V\n",
"printf('Ecell=%.4f V',Ecell)\n",
"\n",
"//page 473"
   ]
   }
,
{
		   "cell_type": "markdown",
		   "metadata": {},
		   "source": [
			"## Example 8.16_2: Ex_12.sce"
		   ]
		  },
  {
"cell_type": "code",
	   "execution_count": null,
	   "metadata": {
	    "collapsed": true
	   },
	   "outputs": [],
"source": [
"clear\n",
"clc\n",
"Ecell=0.2860;//in V\n",
"E_RHE=(-0.1522-(-0.403));//in V\n",
"RT_F=0.05915;//\n",
"a=10^((-2/(3*RT_F))*(Ecell-E_RHE))\n",
"printf('a=%.4f',a)\n",
"a1=a^3;//\n",
"printf('\na1=%.5f',a1)\n",
"\n",
"//page 474"
   ]
   }
,
{
		   "cell_type": "markdown",
		   "metadata": {},
		   "source": [
			"## Example 8.16_3: Ex_13.sce"
		   ]
		  },
  {
"cell_type": "code",
	   "execution_count": null,
	   "metadata": {
	    "collapsed": true
	   },
	   "outputs": [],
"source": [
"clear\n",
"clc\n",
"m=0.01021;//in mol/kg\n",
"m1=m*(2*m)^2\n",
"Ecell=1.1566;//in V\n",
"E_RHE=(0.222-(-0.762));//in V\n",
"RT_F=0.05915;//\n",
"K=10^((-2/(3*RT_F))*((Ecell-E_RHE)+((RT_F/2)*log10(m1))));//ion activity coefficient\n",
"printf('K=%.4f',K)\n",
"\n",
"//There are some errors in the solution given in textbook\n",
"//page 474"
   ]
   }
,
{
		   "cell_type": "markdown",
		   "metadata": {},
		   "source": [
			"## Example 8.18_10: Ex_23.sce"
		   ]
		  },
  {
"cell_type": "code",
	   "execution_count": null,
	   "metadata": {
	    "collapsed": true
	   },
	   "outputs": [],
"source": [
"clear\n",
"clc\n",
"E1=-0.224;//in V\n",
"E2=0.337;//in v\n",
"E=(E1-E2);//in V\n",
"n=2;//\n",
"F=96500;//in C/mol\n",
"R=8.314;//in J/Kmol\n",
"T=298;//in K\n",
"Keq=10^((n*F*E)/(2.303*R*T));//equilibrium constant\n",
"printf('Keq=%.1f*10^-19',Keq/10^-19)\n",
"\n",
"//page 486"
   ]
   }
,
{
		   "cell_type": "markdown",
		   "metadata": {},
		   "source": [
			"## Example 8.18_11: Ex_24.sce"
		   ]
		  },
  {
"cell_type": "code",
	   "execution_count": null,
	   "metadata": {
	    "collapsed": true
	   },
	   "outputs": [],
"source": [
"clear\n",
"clc\n",
"E1=-0.151;//in V\n",
"E2=0.799;//in v\n",
"E=(E1-E2);//in V\n",
"RT_F=0.05913;//in V\n",
"Ksp=10^(E/RT_F);//solubility product\n",
"printf('Ksp=%.2f*10^-17',Ksp/10^-17)\n",
"\n",
"//page 487"
   ]
   }
,
{
		   "cell_type": "markdown",
		   "metadata": {},
		   "source": [
			"## Example 8.18_12: Ex_25.sce"
		   ]
		  },
  {
"cell_type": "code",
	   "execution_count": null,
	   "metadata": {
	    "collapsed": true
	   },
	   "outputs": [],
"source": [
"clear\n",
"clc\n",
"E1=0.222;//in V\n",
"E2=0.095;//in v\n",
"E=(E1-E2);//in V\n",
"n=1;//\n",
"F=96500;//in C/mol\n",
"R=8.314;//in J/Kmol\n",
"T=298;//in K\n",
"Keq=10^((n*F*E)/(2.303*R*T));//equilibrium constant\n",
"printf('Keq=%.1f',Keq)\n",
"X=(Keq*0.1)/(1+Keq);//in moldm^3\n",
"printf('\nX=%.6f moldm^3',X)\n",
"Y=0.1-X;//in moldm^3\n",
"printf('\nY=%.6f moldm^3',Y)\n",
"\n",
"//error in the solution\n",
"//There are some errors in the solution given in textbook\n",
"//page 487\n",
""
   ]
   }
,
{
		   "cell_type": "markdown",
		   "metadata": {},
		   "source": [
			"## Example 8.18_13: Ex_26.sce"
		   ]
		  },
  {
"cell_type": "code",
	   "execution_count": null,
	   "metadata": {
	    "collapsed": true
	   },
	   "outputs": [],
"source": [
"clear\n",
"clc\n",
"E1=0.337;//in V\n",
"E2=-0.763;//in v\n",
"E=(E1-E2);//in V\n",
"n=2;//\n",
"F=96500;//in C/mol\n",
"R=8.314;//in J/Kmol\n",
"T=298;//in K\n",
"Keq=10^((n*F*E)/(2.303*R*T));//equilibrium constant\n",
"printf('Keq=%.1f*10^37',Keq/10^37)\n",
"\n",
"//page 488"
   ]
   }
,
{
		   "cell_type": "markdown",
		   "metadata": {},
		   "source": [
			"## Example 8.18_14: Ex_27.sce"
		   ]
		  },
  {
"cell_type": "code",
	   "execution_count": null,
	   "metadata": {
	    "collapsed": true
	   },
	   "outputs": [],
"source": [
"clear\n",
"clc\n",
"m=[0.01,0.02,0.05,0.10,0.20];//\n",
"n=0.01;//\n",
"mu=m+n;//\n",
"E=[1.0495,1.0315,1.0073,0.9885,0.9694]\n",
"E2=0.2225;//in V\n",
"R=0.05913;//in V\n",
"O=log10(m/n);//\n",
"K=(E-E2)/R +O;//\n",
"plot(mu,K,'mo-');//\n",
"[m,c]=reglin(mu,K)\n",
"Ksp=10^-c;//\n",
"printf('Ksp=%.2f*10^-14',Ksp/10^-14)\n",
"\n",
"//There are some errors in the solution given in textbook\n",
"//page 491\n",
""
   ]
   }
,
{
		   "cell_type": "markdown",
		   "metadata": {},
		   "source": [
			"## Example 8.18_15: Ex_28.sce"
		   ]
		  },
  {
"cell_type": "code",
	   "execution_count": null,
	   "metadata": {
	    "collapsed": true
	   },
	   "outputs": [],
"source": [
"clear\n",
"clc\n",
"RT_F=0.05913;//in V\n",
"pH=5;//\n",
"E1=0.280;//in V\n",
"E2=0.6996;//in V\n",
"E=(E1-E2)+(RT_F*pH);//in V\n",
"printf('E=%.4f V',E)\n",
"E=0;//\n",
"pH=(E-(E1-E2))/RT_F;//\n",
"printf('\npH=%.1f',pH)\n",
"pH=7.5\n",
"E=(E1-E2)+(RT_F*pH);//in V\n",
"printf('\nE=%.4f V',E)\n",
"\n",
"//page 489"
   ]
   }
,
{
		   "cell_type": "markdown",
		   "metadata": {},
		   "source": [
			"## Example 8.18_16: Ex_29.sce"
		   ]
		  },
  {
"cell_type": "code",
	   "execution_count": null,
	   "metadata": {
	    "collapsed": true
	   },
	   "outputs": [],
"source": [
"clear\n",
"clc\n",
"RT_F=0.05913;//in V\n",
"pH=7;//\n",
"E=0.062;//in V\n",
"E1=(E-(RT_F*pH));//in V\n",
"E2=0.145;//in V\n",
"pH1=(E2-E1)/RT_F;//\n",
"printf('pH1=%.1f',pH1)\n",
"E=-0.062;//in V\n",
"E1=(E-(RT_F*pH));//in V\n",
"pH2=(E2-E1)/RT_F;//\n",
"printf('\npH2=%.1f',pH2)\n",
"\n",
"//page 499"
   ]
   }
,
{
		   "cell_type": "markdown",
		   "metadata": {},
		   "source": [
			"## Example 8.18_1: Ex_14.sce"
		   ]
		  },
  {
"cell_type": "code",
	   "execution_count": null,
	   "metadata": {
	    "collapsed": true
	   },
	   "outputs": [],
"source": [
"clear\n",
"clc\n",
"n1=2;//\n",
"F=96500;//in C\n",
"E=0.0455//in V\n",
"DelG=-(n1*F*E);//free energy change in J\n",
"printf('DelG=%.1d J',DelG)\n",
"T=298;//in K\n",
"dEdT_p=(3.38*10^-4)\n",
"DelH=-(n1*F*(E-(T*dEdT_p)));//enthalpy change in J\n",
"printf('\nDelH=%.1d J',DelH)\n",
"DelS=(n1*F*dEdT_p);//entropy change in J/K\n",
"printf('\nDelS=%.2f J/K',DelS)\n",
"\n",
"//There are some errors in the solution given in textbook\n",
"//page 480"
   ]
   }
,
{
		   "cell_type": "markdown",
		   "metadata": {},
		   "source": [
			"## Example 8.18_2: Ex_15.sce"
		   ]
		  },
  {
"cell_type": "code",
	   "execution_count": null,
	   "metadata": {
	    "collapsed": true
	   },
	   "outputs": [],
"source": [
"clear\n",
"clc\n",
"n1=2;//\n",
"F=96500;//in C\n",
"E=0.1634//in V\n",
"DelG=-(n1*F*E);//free energy change in J\n",
"printf('DelG=%.1f J',DelG)\n",
"T=298;//in K\n",
"dEdT_p=(0.000837);//in V/K\n",
"DelH=-(n1*F*(E-(T*dEdT_p)));//enthalpy change in J\n",
"printf('\nDelH=%.1d J',DelH)\n",
"DelS=(n1*F*dEdT_p);//entropy change in J/K\n",
"printf('\nDelS=%.2f J/K',DelS)\n",
"\n",
"//There are some errors in the solution given in textbook\n",
"//page 481"
   ]
   }
,
{
		   "cell_type": "markdown",
		   "metadata": {},
		   "source": [
			"## Example 8.18_3: Ex_16.sce"
		   ]
		  },
  {
"cell_type": "code",
	   "execution_count": null,
	   "metadata": {
	    "collapsed": true
	   },
	   "outputs": [],
"source": [
"clear\n",
"clc\n",
"x=[293,298,303]\n",
"y=[0.0663,0.06839,0.07048]\n",
"plot(x,y,'mo-')\n",
"[m,c]=reglin(x,y)\n",
"n=2;//\n",
"F=96500;//in C\n",
"T=298;//in K\n",
"E=0.06839;//in V\n",
"DelG=-n*F*E;//in J\n",
"printf('DelG=%.1f J',DelG)\n",
"DelH=-n*F*(E-(T*m));//in J\n",
"printf('\nDelH=%.1f J',DelH)\n",
"DelS=n*F*m;//in J/K\n",
"printf('\nDelS=%.1f J/K',DelS)\n",
"\n",
"//There are some errors in the solution given in textbook\n",
"//page 482"
   ]
   }
,
{
		   "cell_type": "markdown",
		   "metadata": {},
		   "source": [
			"## Example 8.18_4: Ex_17.sce"
		   ]
		  },
  {
"cell_type": "code",
	   "execution_count": null,
	   "metadata": {
	    "collapsed": true
	   },
	   "outputs": [],
"source": [
"clear\n",
"clc\n",
"n1=2;//\n",
"F=96500;//in C\n",
"E=0.490//in V\n",
"DelG=-(n1*F*E);//free energy change in J\n",
"printf('DelG=%.1f J',DelG)\n",
"T=298;//in K\n",
"dEdT_p=-(1.86*10^-4);//in V/K\n",
"DelH=-(n1*F*(E-(T*dEdT_p)));//enthalpy change in J\n",
"printf('\nDelH=%.1f J',DelH)\n",
"DelS=(n1*F*dEdT_p);//entropy change in J/K\n",
"printf('\nDelS=%.2f J/K',DelS)\n",
"\n",
"//page 483"
   ]
   }
,
{
		   "cell_type": "markdown",
		   "metadata": {},
		   "source": [
			"## Example 8.18_5: Ex_18.sce"
		   ]
		  },
  {
"cell_type": "code",
	   "execution_count": null,
	   "metadata": {
	    "collapsed": true
	   },
	   "outputs": [],
"source": [
"clear\n",
"clc\n",
"n=2;//\n",
"F=96500;//\n",
"DelH=-217780;//in J\n",
"T=273;//in K\n",
"E=1.015;//in V\n",
"dEdT_p=(1/T)*(E+(DelH/(n*F)));//\n",
"printf('dEdT_p=%.3f*10^-4 V/K',dEdT_p/10^-4) \n",
"\n",
"//There are some errors in the solution given in textbook\n",
"//page 483"
   ]
   }
,
{
		   "cell_type": "markdown",
		   "metadata": {},
		   "source": [
			"## Example 8.18_6: Ex_19.sce"
		   ]
		  },
  {
"cell_type": "code",
	   "execution_count": null,
	   "metadata": {
	    "collapsed": true
	   },
	   "outputs": [],
"source": [
"clear\n",
"clc\n",
"DelG1=-237.23;//in kJ\n",
"DelG2=79.71;//in kJ\n",
"n=2;//\n",
"DelG=(DelG1+(n*DelG2));//in kJ\n",
"F=96500;//in C\n",
"T=298;//in K\n",
"E=-((DelG*10^3)/(n*F));//in V\n",
"printf('E=%.3f V',E)\n",
"DelH1=-285.85;//in kJ\n",
"DelH2=56.9;//in kJ\n",
"DelH=(DelH1+(n*DelH2));//in kJ\n",
"dEdT_p=((DelH-DelG)*10^3)/(n*F*T);//in V/K\n",
"printf('\ndEdT_p=%.5f V/K',dEdT_p)\n",
"\n",
"//error in solution\n",
"////There are some errors in the solution given in textbook\n",
"//page 484"
   ]
   }
,
{
		   "cell_type": "markdown",
		   "metadata": {},
		   "source": [
			"## Example 8.18_7: Ex_20.sce"
		   ]
		  },
  {
"cell_type": "code",
	   "execution_count": null,
	   "metadata": {
	    "collapsed": true
	   },
	   "outputs": [],
"source": [
"clear\n",
"clc\n",
"E1=0.771;//in V\n",
"E2=0.150;//in v\n",
"E=(E1-E2);//in V\n",
"n=2;//\n",
"F=96500;//in C/mol\n",
"R=8.314;//in J/Kmol\n",
"T=298;//in K\n",
"Keq=10^((n*F*E)/(2.303*R*T));//equilibrium constant\n",
"printf('Keq=%.1f*10^21',Keq/10^21)\n",
"\n",
"//page 485"
   ]
   }
,
{
		   "cell_type": "markdown",
		   "metadata": {},
		   "source": [
			"## Example 8.18_8: Ex_21.sce"
		   ]
		  },
  {
"cell_type": "code",
	   "execution_count": null,
	   "metadata": {
	    "collapsed": true
	   },
	   "outputs": [],
"source": [
"clear\n",
"clc\n",
"E1=1.51;//in V\n",
"E2=-0.49;//in v\n",
"E=(E1-E2);//in V\n",
"n=2;//\n",
"F=96500;//in C/mol\n",
"R=8.314;//in J/Kmol\n",
"T=298;//in K\n",
"Keq=10^((n*F*E)/(2.303*R*T));//equilibrium constant\n",
"printf('Keq=%.d10^331',Keq/10^331)\n",
"//There are some errors in the solution given in textbook\n",
"//page 486"
   ]
   }
,
{
		   "cell_type": "markdown",
		   "metadata": {},
		   "source": [
			"## Example 8.18_9: Ex_22.sce"
		   ]
		  },
  {
"cell_type": "code",
	   "execution_count": null,
	   "metadata": {
	    "collapsed": true
	   },
	   "outputs": [],
"source": [
"clear\n",
"clc\n",
"E1=-0.40;//in V\n",
"E2=-0.61;//in v\n",
"E=(E1-E2);//in V\n",
"n=2;//\n",
"F=96500;//in C/mol\n",
"R=8.314;//in J/Kmol\n",
"T=298;//in K\n",
"Keq=10^((n*F*E)/(2.303*R*T));//equilibrium constant\n",
"printf('Keq=%.2f*10^7',Keq/10^7)\n",
"\n",
"//page 486"
   ]
   }
,
{
		   "cell_type": "markdown",
		   "metadata": {},
		   "source": [
			"## Example 8.20_1: Ex_30.sce"
		   ]
		  },
  {
"cell_type": "code",
	   "execution_count": null,
	   "metadata": {
	    "collapsed": true
	   },
	   "outputs": [],
"source": [
"clear\n",
"clc\n",
"RT_F=0.05913;//in V\n",
"m_LHC=0.01;//\n",
"gamma_LHC=0.383;//\n",
"m_RHC=1.0;//\n",
"gamma_RHC=0.042;//\n",
"Ecell=-(RT_F*log10((m_LHC*gamma_LHC)/(m_RHC*gamma_RHC)));//\n",
"printf('Ecell=%.4f V',Ecell)\n",
"\n",
"//page 525"
   ]
   }
,
{
		   "cell_type": "markdown",
		   "metadata": {},
		   "source": [
			"## Example 8.20_3: Ex_31.sce"
		   ]
		  },
  {
"cell_type": "code",
	   "execution_count": null,
	   "metadata": {
	    "collapsed": true
	   },
	   "outputs": [],
"source": [
"clear\n",
"clc\n",
"RT_F=0.05913;//in V\n",
"m_LHC=0.01;//\n",
"gamma_LHC=0.708;//\n",
"m_RHC=0.10;//\n",
"gamma_RHC=0.502;//\n",
"Ecell=((-3/2)*(RT_F*log10((m_LHC*gamma_LHC)/(m_RHC*gamma_RHC))));//\n",
"printf('Ecell=%.4f V',Ecell)\n",
"\n",
"//page 527"
   ]
   }
,
{
		   "cell_type": "markdown",
		   "metadata": {},
		   "source": [
			"## Example 8.21_2: Ex_32.sce"
		   ]
		  },
  {
"cell_type": "code",
	   "execution_count": null,
	   "metadata": {
	    "collapsed": true
	   },
	   "outputs": [],
"source": [
"clear\n",
"clc\n",
"RT_F=0.05913;//in V\n",
"m_LHC=0.02;//\n",
"gamma_LHC=0.320;//\n",
"m_RHC=0.2;//\n",
"gamma_RHC=0.110;//\n",
"E1=0.370;//in V\n",
"Ecell_1=(-E1)*(RT_F*log10((m_LHC*gamma_LHC)/(m_RHC*gamma_RHC)));//in V\n",
"printf('Ecell_1=%.4f V',Ecell_1)\n",
"Ecell_2=(Ecell_1)/(2*E1);//in V\n",
"printf('\nEcell_2=%.5f V',Ecell_2)\n",
"\n",
"//page 536"
   ]
   }
,
{
		   "cell_type": "markdown",
		   "metadata": {},
		   "source": [
			"## Example 8.23_1: Ex_33.sce"
		   ]
		  },
  {
"cell_type": "code",
	   "execution_count": null,
	   "metadata": {
	    "collapsed": true
	   },
	   "outputs": [],
"source": [
"clear \n",
"clc\n",
"E1=-0.277;//in V\n",
"E2=-0.744;//in V\n",
"Ecell_1=(E2-E1);//in V\n",
"printf('Ecell_1=%.3f V',Ecell_1)\n",
"Ecell_2=(E1-E2);//in V\n",
"printf('\nEcell_2=%.3f V',Ecell_2)\n",
"\n",
"//page 539"
   ]
   }
,
{
		   "cell_type": "markdown",
		   "metadata": {},
		   "source": [
			"## Example 8.23_2: Ex_34.sce"
		   ]
		  },
  {
"cell_type": "code",
	   "execution_count": null,
	   "metadata": {
	    "collapsed": true
	   },
	   "outputs": [],
"source": [
"clear\n",
"clc\n",
"E1=-0.74;//in V\n",
"E2=-0.40;//in V\n",
"E3=-0.91;//in V\n",
"n1=3;//\n",
"n2=1;//\n",
"n3=6;//\n",
"n=2;//\n",
"E=((n1*E1)-(n2*E2))/n;//in V\n",
"printf('E=%.2f V',E)\n",
"E=E2-E1;//in V\n",
"DelG1=n1*E;//\n",
"printf('\nDelG1=%.2f V',DelG1)\n",
"E=E1-E3;//in V\n",
"DelG2=n3*E;//\n",
"printf('\nDelG2=%.2f V',DelG2)\n",
"E=E2-E3;//in V\n",
"DelG3=n*E;//\n",
"printf('\nDelG3=%.2f V',DelG3)\n",
"RT_F=0.05913;//in V\n",
"Keq=10^(DelG1/RT_F);//\n",
"printf('\nKeq=%.2f*10^17',Keq/10^17)\n",
"\n",
"//page 540"
   ]
   }
,
{
		   "cell_type": "markdown",
		   "metadata": {},
		   "source": [
			"## Example 8.23_3: Ex_35.sce"
		   ]
		  },
  {
"cell_type": "code",
	   "execution_count": null,
	   "metadata": {
	    "collapsed": true
	   },
	   "outputs": [],
"source": [
"clear\n",
"clc\n",
"Ecell=0;//in V\n",
"E1=0;//in V\n",
"E2=-0.40;//in V\n",
"E=(E1-E2);//in V\n",
"T=298;//in K\n",
"RT_F=0.05913;//in V\n",
"Kw=10^-14;//in moldm^3\n",
"Ksp=Kw^2*(10^((-2/RT_F)*(-E)));//in (moldm^3)^2\n",
"printf('Ksp=%.2f*10^-15 (moldm^3)^2',Ksp/10^-15 )\n",
"\n",
"dEdT_p=0.002;//in V/K\n",
"n=2\n",
"F=96500;//inC\n",
"DelG=n*F*E1;//change in gibbs energy\n",
"printf('\nDelG=%.1d ',DelG)\n",
"\n",
"DelS=n*F*dEdT_p;//change in entropy in J/K\n",
"printf('\nDelS=%.1d J/K',DelS)\n",
"\n",
"DelH=DelG+(T*DelS)*10^-3;//change in enthalpy in kJ\n",
"printf('\nDelH=%.3f kJ',DelH)\n",
"\n",
"//page 543"
   ]
   }
,
{
		   "cell_type": "markdown",
		   "metadata": {},
		   "source": [
			"## Example 8.23_4: Ex_36.sce"
		   ]
		  },
  {
"cell_type": "code",
	   "execution_count": null,
	   "metadata": {
	    "collapsed": true
	   },
	   "outputs": [],
"source": [
"clear\n",
"clc\n",
"K1=1;//\n",
"K2=1.66*10^6;//in dm^3/mol\n",
"Keq=(K1/K2);//equilibrium constant in mol/dm^3\n",
"RT_F=0.05913;//in V\n",
"n=1;//\n",
"Ecell=RT_F/n*(log10(Keq))\n",
"printf('Ecell=%.4f V',Ecell)\n",
"E_h=0.337;//\n",
"n2=2\n",
"Ecell_2=n2*E_h\n",
"printf('\nEcell_2=%.3f V',Ecell_2)\n",
"\n",
"//page 544"
   ]
   }
,
{
		   "cell_type": "markdown",
		   "metadata": {},
		   "source": [
			"## Example 8.23_5: Ex_37.sce"
		   ]
		  },
  {
"cell_type": "code",
	   "execution_count": null,
	   "metadata": {
	    "collapsed": true
	   },
	   "outputs": [],
"source": [
"clear\n",
"clc\n",
"RT_F=0.05913;//in V\n",
"Ecell=0.1185//in V\n",
"K1=0.379*10^-3//\n",
"K2=37.9*10^-3//\n",
"m=-(RT_F/Ecell)*log10(K1/K2);//\n",
"printf('m=%.1f',m)\n",
"K3=0.1;//\n",
"K4=1;//\n",
"Ecell_1=0.1263;//in V\n",
"n=(-(Ecell_1*m)/RT_F)/log10(K3/K4);//\n",
"printf('\nn=%.1d',n)\n",
"\n",
"//page 545\n",
""
   ]
   }
,
{
		   "cell_type": "markdown",
		   "metadata": {},
		   "source": [
			"## Example 8.23_6: Ex_38.sce"
		   ]
		  },
  {
"cell_type": "code",
	   "execution_count": null,
	   "metadata": {
	    "collapsed": true
	   },
	   "outputs": [],
"source": [
"clear\n",
"clc\n",
"E1=0.6994;//in V\n",
"RT_F=0.05913;//in V\n",
"E=0.7314;//in V\n",
"kRHE_kLHE=10^((E-E1)/RT_F);//\n",
"printf('kRHE_kLHE=%.3f',kRHE_kLHE)\n",
"K=0.1;//in mol/dm^3\n",
"K2=2.1*10^-4;//in mol/dm^3\n",
"K1=(K2/(kRHE_kLHE^2));//in mol/dm^3\n",
"printf('\nK1=%.2f*10^-5  mol/dm^3',K1/10^-5)\n",
"pH1=-log10(sqrt(K2*K))\n",
"printf('\npH1=%.3f',pH1)\n",
"pH2=-log10(sqrt(K1*K))\n",
"printf('\npH2=%.3f',pH2)\n",
"\n",
"//page 545"
   ]
   }
,
{
		   "cell_type": "markdown",
		   "metadata": {},
		   "source": [
			"## Example 8.23_7: Ex_39.sce"
		   ]
		  },
  {
"cell_type": "code",
	   "execution_count": null,
	   "metadata": {
	    "collapsed": true
	   },
	   "outputs": [],
"source": [
"clear\n",
"clc\n",
"Ecell=-0.188;//in V\n",
"RT_F=0.05913;//in V\n",
"H=10^(Ecell/RT_F);//in mol/dm^3\n",
"M=1/32;//\n",
"alpha=(H/M);//degree of freedom \n",
"printf('alpha=%.3f*10^-2',alpha/10^-2)\n",
"Kh=(M*alpha^2)/(1-alpha);//\n",
"printf('\nKh=%.2f*10^-5 mol/dm^3',Kh/10^-5)\n",
"\n",
"//page 547"
   ]
   }
,
{
		   "cell_type": "markdown",
		   "metadata": {},
		   "source": [
			"## Example 8.9_2: Ex_1.sce"
		   ]
		  },
  {
"cell_type": "code",
	   "execution_count": null,
	   "metadata": {
	    "collapsed": true
	   },
	   "outputs": [],
"source": [
"clear\n",
"clc\n",
"EFe_Pt=0.771;//in V\n",
"EFe=-0.440;//in V\n",
"Ecell=(EFe_Pt-EFe);//in V\n",
"printf('Ecell=%.3f V',Ecell)\n",
"E1=1.510;//in V\n",
"E2=1.223;//in V\n",
"Ecell=(E1-E2);//in V\n",
"printf('\nEcell=%.3f V',Ecell)\n",
"E3=0.401;//in V\n",
"E4=-0.601;//in V\n",
"Ecell=(E3-E4);//in V\n",
"printf('\nEcell=%.3f V',Ecell)\n",
"E5=0.337;//in V\n",
"E6=0.799;//in V\n",
"Ecell=(E5-E6);//in V\n",
"printf('\nEcell=%.3f V',Ecell)\n",
"E7=1.44;//in V\n",
"E8=0.5355;//in V\n",
"Ecell=(E7-E8);//in V\n",
"printf('\nEcell=%.4f V',Ecell)\n",
"E9=0.7991;//in V\n",
"E10=-0.126;//in V\n",
"Ecell=(E9-E10);//in V\n",
"printf('\nEcell=%.4f V',Ecell)\n",
"E11=1.51;//in V\n",
"E12=-0.49;//in V\n",
"Ecell=(E11-E12);//in V\n",
"printf('\nEcell=%.3f V',Ecell)\n",
"E13=1.33;//in V\n",
"E14=0.771;//in V\n",
"Ecell=(E13-E14);//in V\n",
"printf('\nEcell=%.3f V',Ecell)\n",
"E15=0.771;//in V\n",
"E16=0.150;//in V\n",
"Ecell=(E15-E16);//in V\n",
"printf('\nEcell=%.3f V',Ecell)\n",
"E17=0.771;//in V\n",
"E18=0.76;//in V\n",
"Ecell=(E17-E18);//in V\n",
"printf('\nEcell=%.3f V',Ecell)\n",
"E19=0.771;//in V\n",
"E20=1.080;//in V\n",
"Ecell=(E19-E20);//in V\n",
"printf('\nEcell=%.3f V',Ecell)\n",
"\n",
"//page 448\n",
"\n",
"\n",
"\n",
""
   ]
   }
,
{
		   "cell_type": "markdown",
		   "metadata": {},
		   "source": [
			"## Example 8.9_3: Ex_2.sce"
		   ]
		  },
  {
"cell_type": "code",
	   "execution_count": null,
	   "metadata": {
	    "collapsed": true
	   },
	   "outputs": [],
"source": [
"clear\n",
"clc\n",
"E1=1.3595;//in V\n",
"E2=0.337;//in V\n",
"Ecell=(E1-E2);//in V\n",
"printf('\nEcell=%.4f V',Ecell)\n",
"E3=1.510;//in V\n",
"E4=0.337;//in V\n",
"Ecell=(E3-E4);//in V\n",
"printf('\nEcell=%.3f V',Ecell)\n",
"E5=0.7791;//in V\n",
"E6=0.337;//in V\n",
"Ecell=(E5-E6);//in V\n",
"printf('\nEcell=%.4f V',Ecell)\n",
"E7=0.771;//in V\n",
"E8=0.150;//in V\n",
"Ecell=(E7-E8);//in V\n",
"printf('\nEcell=%.3f V',Ecell)\n",
"E9=0.771;//in V\n",
"E10=1.51;//in V\n",
"Ecell=(E9-E10);//in V\n",
"printf('\nEcell=%.3f V',Ecell)\n",
"E11=0.771;//in V\n",
"E12=-0.126;//in V\n",
"Ecell=(E11-E12);//in V\n",
"printf('\nEcell=%.3f V',Ecell)\n",
"\n",
"//All the positive values of Ecell gives forward reaction,negative values of Ecell gives backward reaction\n",
"//page 451"
   ]
   }
,
{
		   "cell_type": "markdown",
		   "metadata": {},
		   "source": [
			"## Example 8.9_4: Ex_3.sce"
		   ]
		  },
  {
"cell_type": "code",
	   "execution_count": null,
	   "metadata": {
	    "collapsed": true
	   },
	   "outputs": [],
"source": [
"clear\n",
"clc\n",
"E1=1.3595;//in V\n",
"E2=0.337;//in V\n",
"Ecell=(E1-E2);//in V\n",
"printf('\nEcell=%.4f V',Ecell)\n",
"E3=1.510;//in V\n",
"E4=0.337;//in V\n",
"Ecell=(E3-E4);//in V\n",
"printf('\nEcell=%.3f V',Ecell)\n",
"E5=0.7791;//in V\n",
"E6=0.337;//in V\n",
"Ecell=(E5-E6);//in V\n",
"printf('\nEcell=%.4f V',Ecell)\n",
"E7=0.771;//in V\n",
"E8=0.150;//in V\n",
"Ecell=(E7-E8);//in V\n",
"printf('\nEcell=%.3f V',Ecell)\n",
"E9=0.771;//in V\n",
"E10=1.51;//in V\n",
"Ecell=(E9-E10);//in V\n",
"printf('\nEcell=%.3f V',Ecell)\n",
"E11=0.771;//in V\n",
"E12=-0.126;//in V\n",
"Ecell=(E11-E12);//in V\n",
"printf('\nEcell=%.3f V',Ecell)\n",
"\n",
"//page 451"
   ]
   }
,
{
		   "cell_type": "markdown",
		   "metadata": {},
		   "source": [
			"## Example 8.9_6: Ex_4.sce"
		   ]
		  },
  {
"cell_type": "code",
	   "execution_count": null,
	   "metadata": {
	    "collapsed": true
	   },
	   "outputs": [],
"source": [
"clear\n",
"clc\n",
"E1=1.07;//in V\n",
"E2=0.45;//in V\n",
"Ecell=(E1-E2);//in V\n",
"printf('\nEcell=%.2f V',Ecell)\n",
"E3=0.71;//in V\n",
"E4=0.54;//in V\n",
"Ecell=(E3-E4);//in V\n",
"printf('\nEcell=%.2f V',Ecell)\n",
"\n",
"//page 454"
   ]
   }
,
{
		   "cell_type": "markdown",
		   "metadata": {},
		   "source": [
			"## Example 8.9_7: Ex_5.sce"
		   ]
		  },
  {
"cell_type": "code",
	   "execution_count": null,
	   "metadata": {
	    "collapsed": true
	   },
	   "outputs": [],
"source": [
"clear\n",
"clc\n",
"E_RHE=(0.5335-(-2.363));//reduction reaction at RHE in V\n",
"RT_F=0.05915;//\n",
"E_LHE=((RT_F/2)*log10(0.1*0.2^2));//reduction reaction at LHE in V\n",
"Ecell=E_RHE-E_LHE;//cell reaction in V\n",
"printf('Ecell=%.4f V',Ecell)\n",
"E_RHE=(0.0-0.0713);//reduction reaction at RHE in V\n",
"RT_F=0.05915;//\n",
"E_LHE=((RT_F)*log10((0.5^(1/2))/(0.02*0.02)));//reduction reaction at LHE in V\n",
"Ecell=E_RHE-E_LHE;//cell reaction in V\n",
"printf('\nEcell=%.4f V',Ecell)\n",
"E_RHE=(0.337-(-0.441));//reduction reaction at RHE in V\n",
"RT_F=0.05915;//\n",
"E_LHE=((RT_F/2)*log10(0.05/0.01));//reduction reaction at LHE in V\n",
"Ecell=E_RHE-E_LHE;//cell reaction in V\n",
"printf('\nEcell=%.4f V',Ecell)\n",
"E_RHE=(0.0-0.0);//reduction reaction at RHE in V\n",
"RT_F=0.05915;//\n",
"E_LHE=((RT_F/2)*log10(6.43/0.127));//reduction reaction at LHE in V\n",
"Ecell=E_RHE-E_LHE;//cell reaction in V\n",
"printf('\nEcell=%.4f V',Ecell)\n",
"E_RHE=(-0.763-0.337);//reduction reaction at RHE in V\n",
"RT_F=0.05915;//\n",
"E_LHE=((RT_F/2)*log10((0.1^2)*0.732));//reduction reaction at LHE in V\n",
"Ecell=E_RHE+E_LHE;//cell reaction in V\n",
"printf('\nEcell=%.3f V',Ecell)\n",
"\n",
"//There are some errors in the solution given in textbook\n",
"//page 455\n",
""
   ]
   }
],
"metadata": {
		  "kernelspec": {
		   "display_name": "Scilab",
		   "language": "scilab",
		   "name": "scilab"
		  },
		  "language_info": {
		   "file_extension": ".sce",
		   "help_links": [
			{
			 "text": "MetaKernel Magics",
			 "url": "https://github.com/calysto/metakernel/blob/master/metakernel/magics/README.md"
			}
		   ],
		   "mimetype": "text/x-octave",
		   "name": "scilab",
		   "version": "0.7.1"
		  }
		 },
		 "nbformat": 4,
		 "nbformat_minor": 0
}
