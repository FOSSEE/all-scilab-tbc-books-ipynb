{
"cells": [
 {
		   "cell_type": "markdown",
	   "metadata": {},
	   "source": [
       "# Chapter 4: Solutions"
	   ]
	},
{
		   "cell_type": "markdown",
		   "metadata": {},
		   "source": [
			"## Example 4.10_1: Ex_19.sce"
		   ]
		  },
  {
"cell_type": "code",
	   "execution_count": null,
	   "metadata": {
	    "collapsed": true
	   },
	   "outputs": [],
"source": [
"clear\n",
"clc\n",
"P=760;//total vapour pressure in torr\n",
"MA=112.5;//molar mass of chlorobenzene in gm\n",
"MB=18;//molar mass of water in gm\n",
"P1=538.9;//vapour pressure of water at 90.6 C\n",
"PA=(P-P1);//vapour pressure of pure chlorobenzene in torr\n",
"W1=(PA*MA)/(P1*MB);//\n",
"W2=1/W1;//\n",
"W=W2+1;//\n",
"M=100;//in gm\n",
"WA=M/W;//\n",
"printf('WA=%.1d gm',WA)\n",
"\n",
"//There are some errors in the solution given in textbook\n",
"//page 191"
   ]
   }
,
{
		   "cell_type": "markdown",
		   "metadata": {},
		   "source": [
			"## Example 4.10_2: Ex_20.sce"
		   ]
		  },
  {
"cell_type": "code",
	   "execution_count": null,
	   "metadata": {
	    "collapsed": true
	   },
	   "outputs": [],
"source": [
"clear\n",
"clc\n",
"Pt=747.3;//toatal pressure in torr\n",
"PB=638.6;//vapour pressure of water\n",
"PA=Pt-PB;//vapour pressure of liquid\n",
"WA=1.27;//in gm\n",
"WB=1;//in gm\n",
"MB=18;//molar mass of water in gm/mol\n",
"MA=(WA/WB)*((PB*MB)/PA);//molar mass of liquid in gm/mol\n",
"printf('MA=%.1f gm/mol',MA)\n",
"\n",
"//page 192"
   ]
   }
,
{
		   "cell_type": "markdown",
		   "metadata": {},
		   "source": [
			"## Example 4.11_1: Ex_21.sce"
		   ]
		  },
  {
"cell_type": "code",
	   "execution_count": null,
	   "metadata": {
	    "collapsed": true
	   },
	   "outputs": [],
"source": [
"clear\n",
"clc\n",
"Xw1=0.01;//in gm/dm^3\n",
"Xw2=0.12;//in gm/dm^3\n",
"Xw3=0.24;//in gm/dm^3\n",
"Xb1=1.848*10^-5;//in gm/dm^3\n",
"Xb2=2.661*10^-3;//in gm/dm^3\n",
"Xb3=1.089*10^-2;//in gm/dm^3\n",
"//Taking Xw1,Xw2,Xb1,Xb1 to calculate n\n",
"n=((log10(Xb1))-(log10(Xb2)))/((log10(Xw1))-(log10(Xw2)));//degree of complexity\n",
"printf('n=%.1f',n)\n",
"\n",
"//Similarly can be done using lines(4,5,7,8) and also for lines (3,5,6,8)\n",
"//For all we get n=2\n",
"//page 200"
   ]
   }
,
{
		   "cell_type": "markdown",
		   "metadata": {},
		   "source": [
			"## Example 4.11_2: Ex_22.sce"
		   ]
		  },
  {
"cell_type": "code",
	   "execution_count": null,
	   "metadata": {
	    "collapsed": true
	   },
	   "outputs": [],
"source": [
"clear\n",
"clc\n",
"KD=9;//distribution coefficient\n",
"M1=0.10825;//amount of p-nitroaniline in gm\n",
"N=0.00693;//amount of p-nitroaniline chlorine dissolved in mol\n",
"N0=0.04342;//molarity of dil HCl\n",
"m1=138;//molar mass of p-nitroaniline in gm/mol\n",
"N1=60;//amount of benzene added in cm^3\n",
"N2=25;//amount of benzene withdrawn in cm^3\n",
"M2=(M1/m1);//amount of free base in 25cm^3 of benzene\n",
"X=(M2*(N1/N2));//amount in mol\n",
"M=(X/(N1/1000));//in mol/dm^3\n",
"M0=(M/KD);//molar concentration of free bas e in aqeous solution\n",
"C=(N-(X+M0));//concentration of unhydrolyzed cation\n",
"C1=(X+M0);//amount of free base in benzene and water\n",
"Ct=(N0+C1);//total amount of acid\n",
"Kh=(M0*Ct)/C;//hydrolysis constant\n",
"printf('kh=%.4f mol/dm^3',Kh)\n",
"\n",
"//There are some errors in the solution given in textbook\n",
"//page 201\n",
"\n",
""
   ]
   }
,
{
		   "cell_type": "markdown",
		   "metadata": {},
		   "source": [
			"## Example 4.11_3: Ex_23.sce"
		   ]
		  },
  {
"cell_type": "code",
	   "execution_count": null,
	   "metadata": {
	    "collapsed": true
	   },
	   "outputs": [],
"source": [
"clear\n",
"clc\n",
"KD=25.8;//\n",
"M1=0.385;//concentration of NH3 in aqueous CuSO4 solution in mol/dm^-3\n",
"M2=0.0112;//concentration of NH3 in chloroform in mol/dm^-3\n",
"m=0.025;//concentration of CuSO4 in mol/dm^-3\n",
"M0=(M2*KD);//concentration of NH3 in aqueous layer in mol/dm^-3\n",
"M=M1-M0;//concentration of combined NH3 in mol/dm^-3\n",
"X=(M/m);//\n",
"printf('X=%.2f',X)\n",
"\n",
"// X is approximately equal to 4\n",
"//page 202"
   ]
   }
,
{
		   "cell_type": "markdown",
		   "metadata": {},
		   "source": [
			"## Example 4.11_4: Ex_24.sce"
		   ]
		  },
  {
"cell_type": "code",
	   "execution_count": null,
	   "metadata": {
	    "collapsed": true
	   },
	   "outputs": [],
"source": [
"clear\n",
"clc\n",
"Ac=10;//\n",
"Ab=1;//\n",
"Kd=Ab/Ac;//\n",
"wn=0.01;//in gm\n",
"w=1.00;//in gm\n",
"Vb=100;//in cm^3\n",
"Vc=10;//in cm^3\n",
"n=log10(wn/w)/(log10((Kd*Vb)/((Kd*Vb)+Vc)));//\n",
"printf('n=%.1f',n)\n",
"V=n*10;//in am^3\n",
"printf('\nV=%.1d',V)\n",
"\n",
"//approximately equal to 7,n=7 is taken in the text book\n",
"////There are some errors in the solution given in textbook\n",
"//page 202"
   ]
   }
,
{
		   "cell_type": "markdown",
		   "metadata": {},
		   "source": [
			"## Example 4.11_5: Ex_25.sce"
		   ]
		  },
  {
"cell_type": "code",
	   "execution_count": null,
	   "metadata": {
	    "collapsed": true
	   },
	   "outputs": [],
"source": [
"clear\n",
"clc\n",
"KD=4.7;//distribution coefficient\n",
"W1=20;//amount of ether added in cm^3\n",
"W2=50;//amount of solution in cm^3\n",
"M=0.20;//amount of aspirin in gm\n",
"w2=(M/(1+(W1*KD)/W2));//mass of aspirin in ether phase in gm\n",
"printf('w2=%.4f gm',w2)\n",
"w1=M-w2;//mass of aspirin in aqueous phase in gm\n",
"printf('\nw1=%.4f gm',w1)\n",
"n=2\n",
"W=10;//\n",
"wn=(((1/KD)*W2)/(((1/KD)*W2)+W))^n*(M);//amount of aspirin unextracted in gm\n",
"printf('\nwn=%.4f gm',wn)\n",
"w=(M-wn);//amount of aspirin extracted in gm\n",
"printf('\nw=%.4f gm',w)\n",
"\n",
"//page 203"
   ]
   }
,
{
		   "cell_type": "markdown",
		   "metadata": {},
		   "source": [
			"## Example 4.6_1: Ex_1.sce"
		   ]
		  },
  {
"cell_type": "code",
	   "execution_count": null,
	   "metadata": {
	    "collapsed": true
	   },
	   "outputs": [],
"source": [
"clear\n",
"clc\n",
"T1=273;//in K\n",
"T2=283;//in K\n",
"R=8.314;//in J/Kmol\n",
"alpha1=0.04889;//absorption coefficients in /atm\n",
"alpha2=0.03802;//absorption coefficients in /atm\n",
"DelH=(2.303*R*log10(alpha2/alpha1))/((1/T1)-(1/T2));//enthalpy of solution\n",
"printf('DelH=%.1d J/mol',DelH)\n",
"\n",
"//Answer comes negative,error in the textbook\n",
"//page 118"
   ]
   }
,
{
		   "cell_type": "markdown",
		   "metadata": {},
		   "source": [
			"## Example 4.6_2: Ex_2.sce"
		   ]
		  },
  {
"cell_type": "code",
	   "execution_count": null,
	   "metadata": {
	    "collapsed": true
	   },
	   "outputs": [],
"source": [
"clear\n",
"clc\n",
"V1=500;//volume of H2O in cm^3\n",
"V2=15.03;//volume of CH4 in cm^3\n",
"V=V2/V1;//volume dissolved in 1 cm^3 water\n",
"P=1;//pressure in atm\n",
"T=273;//Temperature in K\n",
"R=82.06;//In cm^3atm/Kmol\n",
"X=(P*V)/(R*T);//amount of gas dissolved in mol\n",
"M=(X*16);//mass of gas dissolved in gm\n",
"K=M/P;//\n",
"m1=0.001;//amount of CH4 in mol\n",
"m2=300;//amount of H20 in cm^3\n",
"M1=(m1*16)/m2;//mass of gas dissolved in 1 cm^3\n",
"P0=M1/K;//pressure if Henry's law holds in atm\n",
"printf('P0=%.3f atm',P0)\n",
"\n",
" //There are some errors in the solution given in textbook\n",
"//page 58"
   ]
   }
,
{
		   "cell_type": "markdown",
		   "metadata": {},
		   "source": [
			"## Example 4.6_3: Ex_3.sce"
		   ]
		  },
  {
"cell_type": "code",
	   "execution_count": null,
	   "metadata": {
	    "collapsed": true
	   },
	   "outputs": [],
"source": [
"clear\n",
"clc\n",
"Kh=150;//Henry's law constant in torr\n",
"X1=0.12;//mole fraction of acetone\n",
"P=(Kh*X1);//vapour pressure of acetone in torr\n",
"printf('P=%.1d torr',P)\n",
"Kh1=175;//Henry's law constant for chloroform in torr\n",
"X2=(P/Kh1);\n",
"printf('\nX2=%.3f',X2)\n",
"\n",
"//page 119\n",
""
   ]
   }
,
{
		   "cell_type": "markdown",
		   "metadata": {},
		   "source": [
			"## Example 4.6_4: Ex_4.sce"
		   ]
		  },
  {
"cell_type": "code",
	   "execution_count": null,
	   "metadata": {
	    "collapsed": true
	   },
	   "outputs": [],
"source": [
"clear\n",
"clc\n",
"X1=4/100;// amount of NH3 solution\n",
"X2=(1-X1);//amount of water]\n",
"P=17;//vapour pressure of pure water\n",
"PT=50;//total pressure in torr\n",
"P2=(P*X2);//vapour pressure of water in torr\n",
"P1=(PT-P2);//vapour pressure of NH3 in torr\n",
"Kh=P1/X1;//Henry's constant for NH3 in torr\n",
"X=5/100;//mol % of solution\n",
"P10=Kh*X;//pressure of NH3 at 5% mol in torr\n",
"printf('P10=%.1f torr',P10)\n",
"P20=P*(1-X);//pressure of water at 5% mol in torr\n",
"printf('\nP20=%.1f torr',P20)\n",
"PT0=(P10+P20);//total pressure for 5% of mol solution in torr\n",
"printf('\nPT0=%.1f torr',PT0)\n",
"\n",
"//There are some errors in the solution given in textbook\n",
"//page 119"
   ]
   }
,
{
		   "cell_type": "markdown",
		   "metadata": {},
		   "source": [
			"## Example 4.6_5: Ex_5.sce"
		   ]
		  },
  {
"cell_type": "code",
	   "execution_count": null,
	   "metadata": {
	    "collapsed": true
	   },
	   "outputs": [],
"source": [
"clear\n",
"clc\n",
"P1=2/100*101325;//partial pressure of O2 in Pa\n",
"P2=8/100*101325;//partial pressure of N2 in Pa\n",
"Kh1=2.53*10^9;//Henry's law constant for O2 in Pa \n",
"Kh2=5.47*10^9;//Henry's law constant for N2 in Pa\n",
"X1=(P1/Kh1);//mole fraction of O2 \n",
"X2=(P2/Kh2);//mole fraction of N2 \n",
"K=(X1/X2);\n",
"P=1;//in atm\n",
"M1=(K/(P+K))*100;//mol % of O2\n",
"printf('M1=%.2f',M1)\n",
"M2=100-M1;//mol % of N2\n",
"printf('\nM2=%.2f',M2)\n",
"X=X1+X2;//total mole fraction\n",
"N=X*(1000/18);//in mol\n",
"Kf=1.86;//Kkg/mol\n",
"DelTf=(Kf*N);//freezing point of saturated water in K\n",
"printf('\nDelTf=%.5f',DelTf)\n",
"\n",
"//Freezing point will be negative of DelTf\n",
"//There are some errors in the solution given in textbook\n",
"//page 120"
   ]
   }
,
{
		   "cell_type": "markdown",
		   "metadata": {},
		   "source": [
			"## Example 4.7_10: Ex_13.sce"
		   ]
		  },
  {
"cell_type": "code",
	   "execution_count": null,
	   "metadata": {
	    "collapsed": true
	   },
	   "outputs": [],
"source": [
"clear\n",
"clc\n",
"PA=300;//in torr\n",
"PB=800;//in torr\n",
"XA=0.60;//\n",
"XB=1-XA;//\n",
"P=(PA*XA)+(PB*XB);//pressure at which first bubble of vapour is formed\n",
"printf('P=%.1d torr',P)\n",
"YA=(XA*PA)/P;//mole fraction of components in first bubble of vapour\n",
"printf('\nYA=%.2f ',YA)\n",
"YB=(1-YA);//ole fraction of components in first bubble of vapour\n",
"printf('\nYB=%.2f ',YB)\n",
"XA1=(XA*PB)/(PA+((PB-PA)*XA));//mole fraction of last drop of liquid\n",
"printf('\nXA1=%.2f ',XA1)\n",
"XB1=(1-XA1);//mole fraction of last drop of liquid\n",
"printf('\nXB1=%.2f ',XB1)\n",
"P=(PA*XA1)+(PB*XB1);//pressure when the last droplet of liquid remains\n",
"printf('\nP=%.1d torr',P)\n",
"\n",
"//page 151"
   ]
   }
,
{
		   "cell_type": "markdown",
		   "metadata": {},
		   "source": [
			"## Example 4.7_11: Ex_14.sce"
		   ]
		  },
  {
"cell_type": "code",
	   "execution_count": null,
	   "metadata": {
	    "collapsed": true
	   },
	   "outputs": [],
"source": [
"clear\n",
"clc\n",
"Tb=353.25;//temperature of benzene in K\n",
"Tt=383.75;//temperature of toluene in K\n",
"T=368.15;//temperature in K\n",
"DelS_vR=-10.6;//\n",
"Xb=((exp(DelS_vR))-(exp((DelS_vR)*(Tt/T))))/((exp((DelS_vR)*(Tb/T)))-(exp((DelS_vR)*(Tt/T))));//mole fraction of benzene\n",
"printf('Xb=%.4f',Xb)\n",
"Xt=(1-Xb);//mole fraction of benzene\n",
"printf('\nXt=%.4f',Xt)\n",
"Yb=Xb*(exp((-DelS_vR)*(1-(Tb/T))));//\n",
"printf('\nYb=%.4f',Yb)\n",
"Yt=1-Yb;//\n",
"printf('\nYt=%.4f',Yt)\n",
"\n",
"//There are minor errors in solution in textbook\n",
"//page 151"
   ]
   }
,
{
		   "cell_type": "markdown",
		   "metadata": {},
		   "source": [
			"## Example 4.7_12: Ex_15.sce"
		   ]
		  },
  {
"cell_type": "code",
	   "execution_count": null,
	   "metadata": {
	    "collapsed": true
	   },
	   "outputs": [],
"source": [
"clear\n",
"clc\n",
"T1=5100;//in K\n",
"T2=4530;//in K\n",
"A=16.24;//\n",
"B=13.38;//\n",
"PA=760;//in torr\n",
"PB=PA\n",
"TA=-(T1/(log10(PA)-A));//in K\n",
"printf('TA=%.1f K',TA)\n",
"TB=-(T2/(log10(PB)-B));//in K\n",
"printf('\nTB=%.1f K',TB)\n",
"l=round(TA)+3;\n",
"u=round(TB)-6;\n",
"T=l:5:u;\n",
"for i=1:length(T)\n",
"P_A=10^(-T1/T(i)+A);\n",
"P_B=10^(-T2/T(i)+B);\n",
"x_A(i)=(PA-P_B)/(P_A-P_B);\n",
"y_A(i)=x_A(i)*P_A/PB\n",
"end\n",
"plot(x_A,T,y_A,T); xlabel('Mole fraction xA');ylabel('T/K');\n",
"\n",
"//There is no numerical solution to the given question only a graph is plotted\n",
"//page 152\n",
"\n",
""
   ]
   }
,
{
		   "cell_type": "markdown",
		   "metadata": {},
		   "source": [
			"## Example 4.7_13: Ex_16.sce"
		   ]
		  },
  {
"cell_type": "code",
	   "execution_count": null,
	   "metadata": {
	    "collapsed": true
	   },
	   "outputs": [],
"source": [
"clear\n",
"clc\n",
"T=391;//temperature in K\n",
"Yb=0.045;//\n",
"Ya=0.955;//\n",
"T=410;//in K\n",
"X=50/100;//\n",
"XA=0.09;//composition of liquid at l2\n",
"XB=0.91;//composition of liquid at l2\n",
"YA=0.74;//composition of liquid at v2\n",
"YB=0.26;//composition of liquid at v2\n",
"N=(YA-X)/(X-XA);//\n",
"M1=(X-XA)/((YA-X)+(X-XA))*100;//mol % of vapour\n",
"printf('M1=%.2f',M1)\n",
"M2=100-M1;//mol % of vapour\n",
"printf('\nM2=%.2f',M2)\n",
"XA1=0.035;//composition of liquid at l3\n",
"XB1=0.965;////composition of liquid at l3\n",
"Yaf=0.743;//\n",
"X1=(Ya+Yaf)/2;//\n",
"printf('\nX1=%.2f',X1)\n",
"\n",
"//page 154"
   ]
   }
,
{
		   "cell_type": "markdown",
		   "metadata": {},
		   "source": [
			"## Example 4.7_14: Ex_17.sce"
		   ]
		  },
  {
"cell_type": "code",
	   "execution_count": null,
	   "metadata": {
	    "collapsed": true
	   },
	   "outputs": [],
"source": [
"clear\n",
"clc\n",
"n1=270;//amount of sugar in gm\n",
"N1=358;//molar mass of sugar in gm/mol\n",
"n2=1;//amount of water in kg\n",
"N2=18;//molar mass of water in gm/mol\n",
"M1=n1/N1;//amount of sugar in mol\n",
"M2=(n2*1000)/N2;//amount of water in mol\n",
"Mt=M1+M2;//total amount in mol\n",
"Xs=M1/Mt;//mole fraction of sugar\n",
"Xw=M2/Mt;//mole fraction of water\n",
"R=8.314;//in J/Kmol\n",
"T=298;//in K\n",
"DelG_m=(Xs*R*T*log(Xs))+(Xw*R*T*log(Xw))\n",
"printf('DelG_m=%.3f J/mol',DelG_m)\n",
"DelGm=Mt*DelG_m;//\n",
"printf('\nDelGm=%.2f J',DelGm)\n",
"DelS_m=-(DelG_m/T);//\n",
"printf('\nDelS_m=%.3f J/Kmol',DelS_m)\n",
"DelSm=-(DelGm/T);//\n",
"printf('\nDelSm=%.3f J/Kmol',DelSm)\n",
"\n",
"//There are some errors in the solution given in textbook\n",
"//page 154\n",
"\n",
"//there are some minor errors in solutions in textbook"
   ]
   }
,
{
		   "cell_type": "markdown",
		   "metadata": {},
		   "source": [
			"## Example 4.7_15: Ex_18.sce"
		   ]
		  },
  {
"cell_type": "code",
	   "execution_count": null,
	   "metadata": {
	    "collapsed": true
	   },
	   "outputs": [],
"source": [
"clear\n",
"clc\n",
"R=8.314;//in J/Kmol\n",
"T=300;//in K\n",
"Nt=10;//in mol\n",
"m1=1;//in mol\n",
"m2=9;//in mol\n",
"M=10;//in mol\n",
"DelGm1=Nt*R*T*((m1/M*log(m1/M))+(m2/M*log(m2/M)))*(10^-3);//\n",
"printf('DelGm1=%.3f kJ',DelGm1)\n",
"DelSm1=-((DelGm1/T)*1000);//\n",
"printf('\nDelSm1=%.2f J/K',DelSm1)\n",
"Nt1=20;//in mol\n",
"m3=19;//in mol\n",
"M1=20;//in mol\n",
"DelGm3=Nt1*R*T*((m1/M1*log(m1/M1))+(m3/M1*log(m3/M1)))*(10^-3);//\n",
"printf('\nDelGm3=%.3f kJ',DelGm3)\n",
"DelSm3=-((DelGm3/T)*1000);//\n",
"printf('\nDelSm3=%.2f J/K',DelSm3)\n",
"DelGm2=DelGm3-DelGm1\n",
"printf('\nDelGm2=%.3f kJ',DelGm2)\n",
"DelSm2=DelSm3-DelSm1\n",
"printf('\nDelSm2=%.2f J/K',DelSm2)\n",
"\n",
"//There are some errors in the solution given in textbook\n",
"//page 155"
   ]
   }
,
{
		   "cell_type": "markdown",
		   "metadata": {},
		   "source": [
			"## Example 4.7_3: Ex_6.sce"
		   ]
		  },
  {
"cell_type": "code",
	   "execution_count": null,
	   "metadata": {
	    "collapsed": true
	   },
	   "outputs": [],
"source": [
"clear\n",
"clc\n",
"Xt=1/2;//mole fraction of toluene\n",
"Xb=1/2;//mole fraction of benzene\n",
"Pt=4.274;//Partial pressure of toluene in kNm^2\n",
"Pb=13.734;//Partial pressure of benzene in kNm^2\n",
"P=(Xt*Pt)+(Xb*Pb);//total pressure in kNm^2\n",
"printf('P=%.4f kNm^2',P)\n",
"Yt=(Xt*Pt)/P;//compostion of toluene\n",
"printf('\nYt=%.4f ',Yt)\n",
"Yb=(1-Yt);//compostion of benzene\n",
"printf('\nYb=%.4f ',Yb)\n",
"P0=(Pb*Pt)/(Pt+((Pb-Pt)*Xt));//pressure at which last trace liquid disappear\n",
"printf('\nP0=%.3f kNm^2',P0)\n",
"Xt1=(Xt*P0)/Pt;//composition of last trace of toluene\n",
"printf('\nXt1=%.4f kNm^2',Xt1)\n",
"Xb1=(1-Xt1);//composition of last trace of benzene\n",
"printf('\nXb1=%.4f kNm^2',Xb1)\n",
"P=sqrt(Pt*Pb);//pressure when 1 mol of mixture is vaporized in kN/m^2\n",
"printf('\nP=%.3f kN/m^2',P)\n",
"Yb1=1-((P-Pt)/(Pb-Pt));//composition of benzene when 1 mol of mixture is vaporized \n",
"printf('\nYb1=%.3f ',Yb1)\n",
"Yt1=(1-Yb1);//composition of toluene when 1 mol of mixture is vaporized \n",
"printf('\nYt1=%.3f ',Yt1)\n",
"\n",
"//There are some errors in the solution given in textbook\n",
"//page 143"
   ]
   }
,
{
		   "cell_type": "markdown",
		   "metadata": {},
		   "source": [
			"## Example 4.7_4: Ex_7.sce"
		   ]
		  },
  {
"cell_type": "code",
	   "execution_count": null,
	   "metadata": {
	    "collapsed": true
	   },
	   "outputs": [],
"source": [
"clear \n",
"clc\n",
"XA=0.70;\n",
"YA=0.35;\n",
"P=600;//in torr\n",
"PA=(YA*P)/XA;//vapour pressure of pure A\n",
"printf('PA=%.1d torr',PA)\n",
"PB=((1-YA)*P)/(1-XA);//vapour pressure of pure B\n",
"printf('\nPB=%.1f torr',PB)\n",
"\n",
"//page 145"
   ]
   }
,
{
		   "cell_type": "markdown",
		   "metadata": {},
		   "source": [
			"## Example 4.7_5: Ex_8.sce"
		   ]
		  },
  {
"cell_type": "code",
	   "execution_count": null,
	   "metadata": {
	    "collapsed": true
	   },
	   "outputs": [],
"source": [
"clear\n",
"clc\n",
"PA=54.4;//vapour pressure of n-hexane in kN/m^2\n",
"PB=18.8;//vapour pressure of n-heptane in kN/m^2\n",
"YA=0.85;//molar fraction of n-hexane \n",
"XA=(YA*PB)/(PA-((PA-PB)*YA));//mole fraction of n-hexane in equilibrium with vapour\n",
"printf('XA=%.3f',XA)\n",
"R=8.314;//J/Kmol\n",
"DelS_mix=(-((XA*2.303*log10(XA))+((1-XA)*2.303*log10(1-XA))))*R\n",
"printf('\nDelS_mix=%.3f J/K',DelS_mix)\n",
"\n",
"//page 146"
   ]
   }
,
{
		   "cell_type": "markdown",
		   "metadata": {},
		   "source": [
			"## Example 4.7_6: Ex_9.sce"
		   ]
		  },
  {
"cell_type": "code",
	   "execution_count": null,
	   "metadata": {
	    "collapsed": true
	   },
	   "outputs": [],
"source": [
"clear\n",
"clc\n",
"P1=36.7;//vapour pressure of pure toluene in torr\n",
"P2=118.2;//vapour pressure of pure benzene in torr\n",
"nt=50;//% amount of toluene in gm\n",
"nb=50;//% amount of benzene in gm\n",
"Nt=92;//molar mass of toluene in gm/mol\n",
"Nb=78;//molar mass of benzene in gm/mol\n",
"Xt=(nt/Nt)/((nt/Nt)+(nb/Nb));//mole fraction of toluene\n",
"Pt=Xt*P1;//partial pressure of toluene on torr\n",
"Pb=(1-Xt)*P2;//partial pressure of benzene on torr\n",
"P=Pt+Pb;//total pressure of toluene on torr\n",
"printf('P=%.2f torr',P)\n",
"Yt=Pt/P;//mole fraction of toluene in vapour phase\n",
"printf('\nYt=%.3f ',Yt)\n",
"Yb=(1-Yt);//mole fraction of benzene in vapour phase\n",
"printf('\nYb=%.3f ',Yb)\n",
"P0=50;//in torr\n",
"Xt1=(P0-P2)/(P1-P2);//mole fraction of toluene at P=50 torr\n",
"printf('\nXt1=%.4f ',Xt1)\n",
"Xb1=(1-Xt1);//mole fraction of benzene at P=50 torr\n",
"printf('\nXb1=%.4f ',Xb1)\n",
"\n",
"//page 146\n",
""
   ]
   }
,
{
		   "cell_type": "markdown",
		   "metadata": {},
		   "source": [
			"## Example 4.7_7: Ex_10.sce"
		   ]
		  },
  {
"cell_type": "code",
	   "execution_count": null,
	   "metadata": {
	    "collapsed": true
	   },
	   "outputs": [],
"source": [
"clear\n",
"clc\n",
"PA=22.93;//vapour pressure of pure ethyl bromide in kNm^-2\n",
"PB=16.93;//vapour pressure of pure propylene bromide in kNm^-2\n",
"nA=3;//in mol\n",
"nB=2;//in mol\n",
"P=20.4;//in kNm^-2\n",
"XA=(P-PB)/(PA-PB);//mole fraction of ethyl bromide\n",
"printf('XA=%.3f',XA)\n",
"XB=(1-XA);//mole fraction of propylene bromide\n",
"printf('\nXB=%.3f',XB)\n",
"YA=(XA*PA)/P;\n",
"printf('\nYA=%.4f',YA)\n",
"NA=(nA-(XA*(nA+nB)))/(1-(XA/YA));//amount of vaporized ethyl bromide at P\n",
"printf('\nNA=%.4f',NA)\n",
"NB=(NA/YA)-NA;//amount of vaporized propylene bromide at P\n",
"printf('\nNB=%.4f',NB)\n",
"//There are some errors in the solution given in textbook\n",
"//page 147"
   ]
   }
,
{
		   "cell_type": "markdown",
		   "metadata": {},
		   "source": [
			"## Example 4.7_8: Ex_11.sce"
		   ]
		  },
  {
"cell_type": "code",
	   "execution_count": null,
	   "metadata": {
	    "collapsed": true
	   },
	   "outputs": [],
"source": [
"clear\n",
"clc\n",
"YA=0.6497;//\n",
"XA=0.578;//\n",
"nA=3;//\n",
"nB=2;//\n",
"N1=(YA-(nA/(nA+nB)))/((nA/(nA+nB))-XA);//amount of liquid phase\n",
"N2=(1/(1+N1))*(nA+nB);//amount of vapour phase\n",
"NA=YA*((nA+nB)/(1+N1));//mole fraction of ethyl bromide at P\n",
"printf('\nNA=%.4f mol',NA)\n",
"NB=(1-YA)*((nA+nB)/(1+N1));//\n",
"printf('\nNB=%.4f mol',NB)\n",
"\n",
"//page 148"
   ]
   }
,
{
		   "cell_type": "markdown",
		   "metadata": {},
		   "source": [
			"## Example 4.7_9: Ex_12.sce"
		   ]
		  },
  {
"cell_type": "code",
	   "execution_count": null,
	   "metadata": {
	    "collapsed": true
	   },
	   "outputs": [],
"source": [
"clear\n",
"clc\n",
"PA=300;//in torr\n",
"PB=800;//in torr\n",
"YA=0.25;\n",
"XA=(YA*PB)/(PA-((PA-PB)*YA));//mole fraction of component A\n",
"printf('XA=%.4f',XA)\n",
"XB=(1-XA)\n",
"P=(PA*XA)+(PB*XB);//total pressure P in torr\n",
"printf('\nP=%.1f torr',P)\n",
"P0=760;//in torr\n",
"XA1=(P0-PB)/(PA-PB);//mole fraction at normal boiling point\n",
"printf('\nXA1=%.2f ',XA1)\n",
"XB1=(1-XA1);//\n",
"printf('\nXB1=%.2f ',XB1)\n",
"P1=(PA*YA)+(PB*(1-YA));//\n",
"printf('\nP1=%.1d torr ',P1)\n",
"YA1=(YA*PA)/P1;//\n",
"printf('\nYA1=%.3f ',YA1)\n",
"YB1=(1-YA1);//\n",
"printf('\nYB1=%.3f ',YB1)\n",
"\n",
"//page 149"
   ]
   }
],
"metadata": {
		  "kernelspec": {
		   "display_name": "Scilab",
		   "language": "scilab",
		   "name": "scilab"
		  },
		  "language_info": {
		   "file_extension": ".sce",
		   "help_links": [
			{
			 "text": "MetaKernel Magics",
			 "url": "https://github.com/calysto/metakernel/blob/master/metakernel/magics/README.md"
			}
		   ],
		   "mimetype": "text/x-octave",
		   "name": "scilab",
		   "version": "0.7.1"
		  }
		 },
		 "nbformat": 4,
		 "nbformat_minor": 0
}
