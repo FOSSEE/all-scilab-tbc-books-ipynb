{
"cells": [
 {
		   "cell_type": "markdown",
	   "metadata": {},
	   "source": [
       "# Chapter 6: IMPEDENCE MATCHING AND TUNNING"
	   ]
	},
{
		   "cell_type": "markdown",
		   "metadata": {},
		   "source": [
			"## Example 6.1: program_to_design_an_L_section_matching_network.sce"
		   ]
		  },
  {
"cell_type": "code",
	   "execution_count": null,
	   "metadata": {
	    "collapsed": true
	   },
	   "outputs": [],
"source": [
"// example:-6.1,page no.-284.\n",
"// program to design an L section matching network to match a series RC load.\n",
"Zl=200-%i*100; // load impedence.\n",
"Rl=200;Xl=-100;f=500*10^6;Zo=100;\n",
"B1=(Xl+sqrt(Rl/Zo)*sqrt(Rl^2+Xl^2-(Rl*Zo)))/(Rl^2+Xl^2);\n",
"B2=(Xl-sqrt(Rl/Zo)*sqrt(Rl^2+Xl^2-(Rl*Zo)))/(Rl^2+Xl^2);\n",
"C1=(B1/(2*%pi*f))*10^12;\n",
"L2=(-1/(B2*2*%pi*f))*10^9;\n",
"X1=(1/B1)+((Xl*Zo)/Rl)-(Zo/(B1*Rl));\n",
"X2=(1/B2)+((Xl*Zo)/Rl)-(Zo/(B2*Rl));\n",
"L1=(X1/(2*%pi*f))*10^9;\n",
"C2=(-1/(X2*2*%pi*f))*10^12; \n",
"disp(L1,'inductor of first circuit in nH = ') \n",
"disp(C1,'capacitor of the first circuit in pF = ')\n",
"disp(L2,'inductor of second circuit in nH = ')\n",
"disp(C2,'capacitor of the second circuit in pF = ')\n",
"disp('NOTE:-for above specific problem Rl>Zo,positive X implies inductor,negative X implies capacitor,positive B implies capacitor and negative B implies inductor.')"
   ]
   }
,
{
		   "cell_type": "markdown",
		   "metadata": {},
		   "source": [
			"## Example 6.5: design_quarter_wave_matching_transformer.sce"
		   ]
		  },
  {
"cell_type": "code",
	   "execution_count": null,
	   "metadata": {
	    "collapsed": true
	   },
	   "outputs": [],
"source": [
"//example:-6.5,page no.-304.\n",
"//program to design a single section quarter wave matching transformer.\n",
"Zl=10;  // load impedence.\n",
"Zo=50; // characteristic impedence.\n",
"fo=3*10^9;swr=1.5; // maximum limit of swr.\n",
"Z1=sqrt(Zo*Zl); // characteristic impedence of the matching section.\n",
"taom=(swr-1)/(swr+1);\n",
"frac_bw=2-(4/%pi)*acos((taom/sqrt(1-taom^2))*(2*sqrt(Zo*Zl)/abs(Zl-Zo)));  // fractional bandwidth.\n",
"disp(Z1,'charecteristic impedence of matching section = ')\n",
"disp(frac_bw,'fractional bandwidth = ')"
   ]
   }
,
{
		   "cell_type": "markdown",
		   "metadata": {},
		   "source": [
			"## Example 6.6: program_to_evaluate_the_worst_case_percent_error.sce"
		   ]
		  },
  {
"cell_type": "code",
	   "execution_count": null,
	   "metadata": {
	    "collapsed": true
	   },
	   "outputs": [],
"source": [
"// example:-6.6,page no.-307.\n",
"// program to evaluate the worst case percent error in computing magnitude of reflection coefficient.\n",
"Z1=100;Z2=150;Zl=225;\n",
"tao_1=(Z2-Z1)/(Z2+Z1);\n",
"tao_2=(Zl-Z2)/(Zl+Z2);\n",
"tao_exact=(tao_1+tao_2)/(1+tao_1*tao_2); // this results as angle is taken zero.\n",
"tao_approx=tao_1+tao_2;  // this results as angle is taken zero.\n",
"eror=abs(((tao_exact-tao_approx)/tao_exact)*100);\n",
"disp(tao_approx,'approximate value of reflection coefficient is = ')\n",
"disp(eror,'the error in percent is about = ')"
   ]
   }
,
{
		   "cell_type": "markdown",
		   "metadata": {},
		   "source": [
			"## Example 6.7: design_three_section_binomial_transformer.sce"
		   ]
		  },
  {
"cell_type": "code",
	   "execution_count": null,
	   "metadata": {
	    "collapsed": true
	   },
	   "outputs": [],
"source": [
"// example:-6.7,page no.-312.\n",
"// program to design three section binomial transformer.\n",
"Zl=50;Zo=100;N=3;taom=0.05;\n",
"A=(2^-N)*abs((Zl-Zo)/(Zl+Zo));\n",
"frac_bw=2-(4/%pi)*acos(0.5*(taom/A)^2);\n",
"for c=1\n",
"  Z1=Zo*((Zl/Zo)^((2^-N)*(c^N)));\n",
"disp(Z1,'Z1 = ')\n",
"end\n",
"for c=3^(1/3)\n",
"  Z2=Z1*((Zl/Zo)^((2^-N)*(c^N)));\n",
"  disp(Z2,'Z2 = ')\n",
"end\n",
"for c=3^(1/3)\n",
"  Z3=Z2*((Zl/Zo)^((2^-N)*(c^N)));\n",
"  disp(Z3,'Z3 = ')\n",
"end"
   ]
   }
,
{
		   "cell_type": "markdown",
		   "metadata": {},
		   "source": [
			"## Example 6.8: design_three_section_chebysev_transfomer.sce"
		   ]
		  },
  {
"cell_type": "code",
	   "execution_count": null,
	   "metadata": {
	    "collapsed": true
	   },
	   "outputs": [],
"source": [
"// example:-6.8,page no.-316.\n",
"// program to design a three section chebysev transformer.\n",
"Zl=100;Zo=50;taom=0.05;N=3;A=0.05;\n",
"thetam=asec(cosh((1/N)*acosh((1/taom)*abs((Zl-Zo)/(Zl+Zo)))))*(180/%pi);\n",
"x=(cosh((1/N)*acosh((1/taom)*abs((Zl-Zo)/(Zl+Zo)))))\n",
"tao_o=A*(x^3)/2;\n",
"tao_1=(3*A*(x^3-x))/2;  // from symmetry tao_3=tao_0;\n",
"Z1=Zo*((1+tao_o)/(1-tao_o));\n",
"Z2=Z1*((1+tao_1)/(1-tao_1));\n",
"Z3=Zl*((1-tao_o)/(1+tao_o));\n",
"disp(Z1,Z2,Z3,'the characteristic impedences are = ')"
   ]
   }
,
{
		   "cell_type": "markdown",
		   "metadata": {},
		   "source": [
			"## Example 6.9: design_triangular_taper_and_a_klopfenstein_taper.sce"
		   ]
		  },
  {
"cell_type": "code",
	   "execution_count": null,
	   "metadata": {
	    "collapsed": true
	   },
	   "outputs": [],
"source": [
"//example:-6.9,page no.-323.\n",
"//program to designa triangular taper and a klopfenstein taper.\n",
"taom=0.02;Zl=50;Zo=100;\n",
"tao_o=0.5*log(Zl/Zo);\n",
"A=acosh(tao_o/taom);\n",
"A=real(A);\n",
"disp(tao_o,'tao_o = ')\n",
"disp(A,'A = ')"
   ]
   }
],
"metadata": {
		  "kernelspec": {
		   "display_name": "Scilab",
		   "language": "scilab",
		   "name": "scilab"
		  },
		  "language_info": {
		   "file_extension": ".sce",
		   "help_links": [
			{
			 "text": "MetaKernel Magics",
			 "url": "https://github.com/calysto/metakernel/blob/master/metakernel/magics/README.md"
			}
		   ],
		   "mimetype": "text/x-octave",
		   "name": "scilab",
		   "version": "0.7.1"
		  }
		 },
		 "nbformat": 4,
		 "nbformat_minor": 0
}
