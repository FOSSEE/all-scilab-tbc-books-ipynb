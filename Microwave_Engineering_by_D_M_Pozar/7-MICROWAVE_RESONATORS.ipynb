{
"cells": [
 {
		   "cell_type": "markdown",
	   "metadata": {},
	   "source": [
       "# Chapter 7: MICROWAVE RESONATORS"
	   ]
	},
{
		   "cell_type": "markdown",
		   "metadata": {},
		   "source": [
			"## Example 7.1: program_to_compare_the_Q_factor.sce"
		   ]
		  },
  {
"cell_type": "code",
	   "execution_count": null,
	   "metadata": {
	    "collapsed": true
	   },
	   "outputs": [],
"source": [
"// example:-7.1,page no.-339.\n",
"//program to compare the Q of an air filled and teflon filled coaxial line resonator.\n",
"sigma=5.813*10^7;muo=4*%pi*10^-7;f=5*10^9;eta=377;a=1*10^-3;b=4*10^-3;\n",
"omega=2*%pi*f;ko=104.7;B=104.7;alpha=0.022;\n",
"Rs=sqrt((omega*muo)/(2*sigma));\n",
"alphaca=(Rs/(2*eta*log(b/a)))*((1/a)+(1/b)); // attenuation due to conductor loss for air filled line.\n",
"eipsilar=2.08;tandelta=0.0004;  // for teflon filled line.\n",
"alphact=((Rs*sqrt(2.08)*0.01)/(2*eta*log(b/a)))*((1/a)+(1/b)); // attenuation due to conductor loss for teflon filled line.\n",
"alphada=0; // for air filled line.\n",
"alphadt=ko*(sqrt(eipsilar)/2)*tandelta;\n",
"Qair=B/(2*alpha);\n",
"B=B*sqrt(eipsilar);\n",
"alpha=0.062;\n",
"Qteflon=B/(2*alpha);\n",
"disp(Qair,'Qair = ')\n",
"disp(Qteflon,'Qteflon = ')\n",
"disp('conclusion:-Qair is almost twice that of Qteflon')"
   ]
   }
,
{
		   "cell_type": "markdown",
		   "metadata": {},
		   "source": [
			"## Example 7.2: program_to_compute_length_and_Q_of_the_resonator.sce"
		   ]
		  },
  {
"cell_type": "code",
	   "execution_count": null,
	   "metadata": {
	    "collapsed": true
	   },
	   "outputs": [],
"source": [
"//example:-7.2,page no.-342.\n",
"// program to compute the length of the line for resonance at 5 GHZ and the Q of the resonator.\n",
"W=0.0049;c=3*10^8;f=5*10^9;Zo=50;eipsilar=2.2;ko=104.7;tandelta=0.001;\n",
"Rs=0.0184; // taken from example 7.1.\n",
"eipsilae=1.87;  // effective permittivity.\n",
"l=c/(2*f*sqrt(eipsilae)); // resonator length.\n",
"B=(2*%pi*f*sqrt(eipsilae))/c;\n",
"alphac=Rs/(Zo*W);\n",
"alphad=(ko*eipsilar*(eipsilae-1)*tandelta)/(2*sqrt(eipsilae)*(eipsilar-1));\n",
"alpha=alphac+alphad;\n",
"Q=B/(2*alpha);\n",
"disp(l,'length of the line in meter = ')\n",
"disp(Q,'Q of the resonator = ')"
   ]
   }
,
{
		   "cell_type": "markdown",
		   "metadata": {},
		   "source": [
			"## Example 7.3: program_to_find_required_length_and_other.sce"
		   ]
		  },
  {
"cell_type": "code",
	   "execution_count": null,
	   "metadata": {
	    "collapsed": true
	   },
	   "outputs": [],
"source": [
"// example:-7.3,page no.-347.\n",
"// program to find required length,d and Q for l=1 and l=2 resonator mode.\n",
"a=0.04755;b=0.02215;eipsilar=2.25;tandelta=0.0004;f=5*10^9;c=3*10^8;\n",
"k=(2*%pi*f*sqrt(eipsilar))/c // wave number.\n",
"for l=1:1:2\n",
"d=(l*%pi)/sqrt((k^2)-((%pi/b)^2)); // m=1 & n=0 mode.\n",
"disp(d,'d in meter = ')\n",
"end\n",
"eta=377/sqrt(eipsilar);\n",
"Qc1=3380;// l=1.\n",
"Qc2=3864;// l=2.\n",
"Qd=2500;  // Q due to dielectric loss only.\n",
"Q1=((1/Qc1)+(1/Qd))^-1; // for l=1.\n",
"Q2=((1/Qc2)+(1/Qd))^-1; // for l=2.\n",
"disp(Q1,'Q1 = ');\n",
"disp(Q2,'Q2 = ')"
   ]
   }
,
{
		   "cell_type": "markdown",
		   "metadata": {},
		   "source": [
			"## Example 7.4: program_to_find_dimension_and_Q.sce"
		   ]
		  },
  {
"cell_type": "code",
	   "execution_count": null,
	   "metadata": {
	    "collapsed": true
	   },
	   "outputs": [],
"source": [
"//example:-7.4,page no.-353.\n",
"// program to find dimension and Q;\n",
"f=5*10^9;c=3*10^8;p01=3.832;sigma=5.813*10^7;muo=4*%pi*10^-7;\n",
"eipsilar=2.25;\n",
"// mode TE011. and d=2a.\n",
"omega=2*%pi*f;\n",
"eta=377;\n",
"lamda=c/f;\n",
"k=(2*%pi)/lamda;\n",
"// f=(c/(2*%pi))*sqrt((p01/a)^2+(%pi/(2*a))^2); as d=2a given\n",
"a=sqrt((p01)^2+(%pi/2)^2)/k;\n",
"Rs=sqrt((omega*muo)/(2*sigma))\n",
"Qc=(k*a*eta)/(2*Rs); // for m=l=1,n=0 and d=2a.\n",
"disp(a,'a in meter = ')\n",
"disp(Qc,'Qc = ')"
   ]
   }
,
{
		   "cell_type": "markdown",
		   "metadata": {},
		   "source": [
			"## Example 7.5: program_to_find_resonant_frequency_and_Q.sce"
		   ]
		  },
  {
"cell_type": "code",
	   "execution_count": null,
	   "metadata": {
	    "collapsed": true
	   },
	   "outputs": [],
"source": [
"//example:-7.5,page no.-358.\n",
"// program to find the resonant frequency and Q for TE01delta mode.\n",
"delta=0.001;eipsilar=95;a=0.413;L=0.008255;c=3*10^8;\n",
"//tan((B*L)/2)=alpha/beta.\n",
"//ko=(2*%pi*f)/c;\n",
"alpha=sqrt((2.405/a)^2-(ko)^2);\n",
"B=sqrt((eipsilar*(ko)^2)-(2.405/a)^2); // beta\n",
"f1=((c*2.405)/(2*%pi*sqrt(eipsilar)*a))*10^-7;\n",
"f2=((c*2.405)/(2*%pi*a))*10^-7;\n",
"disp(f1,'f1 in GHZ = ')\n",
"disp(f2,'f2 in GHZ = ')\n",
"Q=1/tan(delta);\n",
"disp(Q,'approx. value of Q due to dielectric loss = ')"
   ]
   }
,
{
		   "cell_type": "markdown",
		   "metadata": {},
		   "source": [
			"## Example 7.6: program_to_find_the_mode_number_and_Q.sce"
		   ]
		  },
  {
"cell_type": "code",
	   "execution_count": null,
	   "metadata": {
	    "collapsed": true
	   },
	   "outputs": [],
"source": [
"// example:-7.6,page no.-361.\n",
"// program to find the mode number and Q of given resonator.\n",
"fo=94*10^9;d=0.04;c=3*10^8;muo=4*%pi*10^-7;sigma=5.813*10^7;\n",
"l=(2*d*fo)/c; // mode number.\n",
"Rs=sqrt((2*%pi*fo*muo)/(2*sigma));\n",
"Q=(%pi*l*377)/(4*Rs);\n",
"disp(l,'mode number = ')\n",
"disp(Q,'Q = ')"
   ]
   }
,
{
		   "cell_type": "markdown",
		   "metadata": {},
		   "source": [
			"## Example 7.7: program_to_find_value_of_the_coupling_capacitor.sce"
		   ]
		  },
  {
"cell_type": "code",
	   "execution_count": null,
	   "metadata": {
	    "collapsed": true
	   },
	   "outputs": [],
"source": [
"// example:-7.7,page no.-367.\n",
"// program to find the value of the coupling capacitor required for critical coupling.\n",
"l=0.02175;Zo=50;eipsilae=1.9;c=3*10^8;\n",
"fo=c/(2*l*sqrt(eipsilae)); // first resonant frequency will occur when the resonator ia about l=lamdag/2 in length.\n",
"lamdag=c/fo;\n",
"alpha=1/8.7; // in Np/m.\n",
"Q=%pi/(2*l*alpha);\n",
"bc=sqrt(%pi/(2*Q));\n",
"C=bc/(2*%pi*fo*Zo)*10^12;\n",
"disp(C,'coupling capacitor in pF = ')\n",
"C=bc/(2*%pi*fo*Zo);\n",
"w1=atan(2*%pi*fo*C*Zo)*c/(l*sqrt(eipsilae));  // from equation tan(B*l)=-bc;\n",
"w1=w1*10^-8;\n",
"disp(w1,'frequency in GHZ = ')"
   ]
   }
,
{
		   "cell_type": "markdown",
		   "metadata": {},
		   "source": [
			"## Example 7.8: derive_expression_for_change_in_resonant_frequency.sce"
		   ]
		  },
  {
"cell_type": "code",
	   "execution_count": null,
	   "metadata": {
	    "collapsed": true
	   },
	   "outputs": [],
"source": [
"// example:-7.8,page no.-373.\n",
"// program to derive an expression for the change in resonant frequency.\n",
"syms Ey Hx Hz A Zte n a pi x z d j k t y er eo c wo w b;\n",
"Ey=A*sin((pi*x)/a)*sin((pi*z)/d);\n",
"Hx=((-j*A)/Zte)*sin((pi*x)/a)*cos((pi*z)/d);\n",
"Hz=((j*pi*A)/(k*n*a))*cos((pi*x)/a)*sin((pi*z)/d);\n",
"Ey=Ey^2;\n",
"//c=(er-1)*eo;\n",
"w=c*integ(integ(integ(Ey,z),y),x);\n",
"w=limit(w,z,d)-limit(w,z,0);\n",
"w=limit(w,y,t)-limit(w,y,0);\n",
"w=limit(w,x,a)-limit(w,x,0);\n",
"disp(w)\n",
"// as sin(2*pi)=0;  then last term of above result will be:-\n",
"w=(c*A^2*a*t*d)/4;\n",
"disp(w,'on taking sin(2*pi)=0  , w becomes = ')\n",
"wo=((a*b*d*eo)/2)*A^2;\n",
"deltaw=(w-wo)/wo;\n",
"disp(deltaw,'fractional change in resonant frequency = ')"
   ]
   }
,
{
		   "cell_type": "markdown",
		   "metadata": {},
		   "source": [
			"## Example 7.9: derive_expression_for_change_in_resonant_frequency.sce"
		   ]
		  },
  {
"cell_type": "code",
	   "execution_count": null,
	   "metadata": {
	    "collapsed": true
	   },
	   "outputs": [],
"source": [
"// example:-7.9,page no.-376.\n",
"// program to derive an expression for the change in resonant frequency.\n",
"syms Ey Hx Hz A Zte n a pi x z d j eo c wo w b l ro;\n",
"Ey=A*sin((pi*x)/a)*sin((pi*z)/d);\n",
"Hx=((-j*A)/Zte)*sin((pi*x)/a)*cos((pi*z)/d);\n",
"Hz=((j*pi*A)/(k*n*a))*cos((pi*x)/a)*sin((pi*z)/d);\n",
"Ey=A;// at x=a/2,y,z=d/2;\n",
"Hx=0;// at x=a/2,y,z=d/2;\n",
"Hz=0;// at x=a/2,y,z=d/2;\n",
"//where w is perturbed resonant frequency and wo is unperturbed resonant frequency.\n",
"w=-eo*A^2*pi*l*ro^2;\n",
"wo=(a*b*eo*d*A^2)/2;\n",
"deltaw=(w-wo)/wo;\n",
"disp(deltaw,'the perturbation in resonant frequency w.r.t wo = ')"
   ]
   }
],
"metadata": {
		  "kernelspec": {
		   "display_name": "Scilab",
		   "language": "scilab",
		   "name": "scilab"
		  },
		  "language_info": {
		   "file_extension": ".sce",
		   "help_links": [
			{
			 "text": "MetaKernel Magics",
			 "url": "https://github.com/calysto/metakernel/blob/master/metakernel/magics/README.md"
			}
		   ],
		   "mimetype": "text/x-octave",
		   "name": "scilab",
		   "version": "0.7.1"
		  }
		 },
		 "nbformat": 4,
		 "nbformat_minor": 0
}
