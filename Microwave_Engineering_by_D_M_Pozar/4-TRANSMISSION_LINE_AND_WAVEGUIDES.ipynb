{
"cells": [
 {
		   "cell_type": "markdown",
	   "metadata": {},
	   "source": [
       "# Chapter 4: TRANSMISSION LINE AND WAVEGUIDES"
	   ]
	},
{
		   "cell_type": "markdown",
		   "metadata": {},
		   "source": [
			"## Example 4.1: program_to_find_the_cut_off_frequency.sce"
		   ]
		  },
  {
"cell_type": "code",
	   "execution_count": null,
	   "metadata": {
	    "collapsed": true
	   },
	   "outputs": [],
"source": [
"// example:-4.1,page no.-148.\n",
"// program to find the cut off frequency fo the first four propagating modes.\n",
"a=0.02286;b=0.01016;f=10*10^9;k=209.44;sigma=5.8*10^7;mue=4*%pi*10^-7;\n",
"c=3*10^8;\n",
"m=0;n=1;\n",
"fc=(c/(%pi*2))*sqrt(((%pi*m)/a)^2+((%pi*n)/b)^2);\n",
"fc=fc/(10^9);\n",
"disp(fc,'cut-off frequency for TE01 mode in GHZ=')\n",
"m=1;n=0;\n",
"fc=(c/(%pi*2))*sqrt(((%pi*m)/a)^2+((%pi*n)/b)^2);\n",
"fc=fc/(10^9);\n",
"disp(fc,'cut-off frequency for TE10 mode in GHZ=')\n",
"m=2;n=0;\n",
"fc=(c/(%pi*2))*sqrt(((%pi*m)/a)^2+((%pi*n)/b)^2);\n",
"fc=fc/(10^9);\n",
"disp(fc,'cut-off frequency for TE20 mode in GHZ=')\n",
"m=1;n=1;\n",
"fc=(c/(%pi*2))*sqrt(((%pi*m)/a)^2+((%pi*n)/b)^2);\n",
"fc=fc/(10^9);\n",
"disp(fc,'cut-off frequency for TE11 mode in GHZ=')\n",
"B=sqrt(k^2-(%pi/a)^2)  // for TE10 mode\n",
"Rs=sqrt(((2*%pi*f)*mue)/(2*sigma));   // surface resistance.\n",
"disp(Rs,'surface resistance in ohm=')\n",
"ac=(Rs/(a^3*b*B*k*377))*((2*b*%pi^2)+(a^3*k^2))  //attenuation constant.\n",
"ac=-20*(-ac)*log10(%e);\n",
"disp(ac,'attenuation constant in dB/m=')"
   ]
   }
,
{
		   "cell_type": "markdown",
		   "metadata": {},
		   "source": [
			"## Example 4.2: program_to_find_the_cut_off_frequency.sce"
		   ]
		  },
  {
"cell_type": "code",
	   "execution_count": null,
	   "metadata": {
	    "collapsed": true
	   },
	   "outputs": [],
"source": [
"//example:-4.2,page no.-160.\n",
"//program to find the cut off frequency of two propagating modes of a circular waveguide.\n",
"a=0.005;eipsilar=2.25;f=13*10^9;c=3*10^8;d=0.001;sigma=6.17*01^7;muo=4*%pi*10^-7;\n",
"m=1;n=1;\n",
"p11=1.841;p01=2.405;\n",
"fc=(p11*c)/(2*%pi*a*sqrt(eipsilar));\n",
"kc=p11/a;\n",
"fc=fc/(10^9);\n",
"disp(fc,'cut-off frequency for TE11 mode in GHZ')\n",
"m=0;n=1;\n",
"fc=(p01*c)/(2*%pi*a*sqrt(eipsilar));\n",
"fc=fc/(10^9);\n",
"disp(fc,'cut-off frequency for TE01 mode in GHZ')\n",
"// so,TE01 can't be propagating mode.only TE11 will be.\n",
"k=(2*%pi*f*sqrt(eipsilar))/c;\n",
"disp(k,'k in m-1=')\n",
"B=sqrt(k^2-kc^2);\n",
"disp(B,'propagation constant of TE11 mode')\n",
"ac=(k^2*d)/(2*B);\n",
"Rs=sqrt((2*%pi*f*muo)/(2*sigma));  // surface resistance.\n",
"acm=(Rs/(a*k*377*B))*(kc^2+((k^2)/(p11^2-1)));\n",
"a=ac+acm;\n",
"a=-20*(-0.547*0.5)*log10(%e);\n",
"disp(a,'total attenuation factor in dB=')"
   ]
   }
,
{
		   "cell_type": "markdown",
		   "metadata": {},
		   "source": [
			"## Example 4.3: program_to_find_out_the_highest_usable_frequency.sce"
		   ]
		  },
  {
"cell_type": "code",
	   "execution_count": null,
	   "metadata": {
	    "collapsed": true
	   },
	   "outputs": [],
"source": [
"//example:-4.3,page no.-167.\n",
"//program to find out the highest usable frequency.\n",
"a=0.000889;b=0.0029464;eipsilar=2.2;c=3*10^8;\n",
"// here (b/a)=3.3,so for this kc*a=0.47\n",
"kc=0.47/a;\n",
"fc=(c*kc)/(2*%pi*sqrt(eipsilar))\n",
"fc=fc/(10^9);\n",
"fmax=0.95*fc;\n",
"disp(fmax,'maximum usable frequency in GHZ=')"
   ]
   }
,
{
		   "cell_type": "markdown",
		   "metadata": {},
		   "source": [
			"## Example 4.4: program_to_calculate_and_plot_propagation_constant.sce"
		   ]
		  },
  {
"cell_type": "code",
	   "execution_count": null,
	   "metadata": {
	    "collapsed": true
	   },
	   "outputs": [],
"source": [
"//example:-4.4,page no.-175.\n",
"// program to calculate and plot the propagation constant of first three propagating surface wave mode.\n",
"eipsilar=2.55;c=3*10^8;   // x=d/lamdao;\n",
"x=0.001:0.01:1.2;\n",
"for n=0:1:4\n",
"y=sqrt(eipsilar-((n^2)./(4.*(x^2)*(eipsilar-1))));  // y=beta/lamdao;\n",
"plot2d(x,y,style=2,rect=[0,0,1.2,1.6])\n",
"end\n",
"x=0.001:0.01:1.2;\n",
"for n=1:1:4\n",
"  y=sqrt(eipsilar-((((2.*n)-1)^2)./(16.*(x^2)*(eipsilar-1))))\n",
"  plot2d(x,y,style=6,rect=[0,0,1.2,1.6])\n",
"end\n",
"xtitle('plot of propagation constant of first 4 mode','d/lamdao','beta/Ko');\n",
"legend('TE MODE')"
   ]
   }
,
{
		   "cell_type": "markdown",
		   "metadata": {},
		   "source": [
			"## Example 4.5: program_to_find_width_of_a_copper_strip_line.sce"
		   ]
		  },
  {
"cell_type": "code",
	   "execution_count": null,
	   "metadata": {
	    "collapsed": true
	   },
	   "outputs": [],
"source": [
"// example:-4.5,page no.-180.\n",
"// program to find width of a copper strip line conductor.\n",
"eipsilar=2.20;Zo=50;b=0.0032;d=0.001,f=10^10;t=0.00001;\n",
"c=3*10^8;Rs=0.026;A=4.74;\n",
"x=(30*%pi)/(sqrt(eipsilar)*Zo);\n",
"x=x-0.441;\n",
"w=b*x;\n",
"if ((sqrt(eipsilar)*Zo)<120)\n",
"    disp('width of copper strip line conductor is 0.00266m')\n",
"end\n",
"K=(2*%pi*f*sqrt(eipsilar))/c;\n",
"ad=(K*d)/2;\n",
"ac=(2.7*(10^-3)*Rs*eipsilar*Zo*A)/(30*%pi*(b-t));\n",
"a=ac+ad;\n",
"a=20*a*log10(%e);\n",
"lamda=c/(sqrt(eipsilar)*f);\n",
"alamda=lamda*a;\n",
"disp(K,'wave number=')\n",
"disp(ad,'dielectric aattenuation=')\n",
"disp(ac,'conductor attenuation=')\n",
"disp(a,'total attenuation constant=')\n",
"disp(alamda,'attenuation in dB/lamda=')"
   ]
   }
,
{
		   "cell_type": "markdown",
		   "metadata": {},
		   "source": [
			"## Example 4.7: program_to_calculate_width_and_length.sce"
		   ]
		  },
  {
"cell_type": "code",
	   "execution_count": null,
	   "metadata": {
	    "collapsed": true
	   },
	   "outputs": [],
"source": [
"//example:-4.7,page no.-187.\n",
"//program to calculate the width and length of microstrip line.\n",
"eipsilae=1.87;//effective dielectric constant.\n",
"Zo=50;q=%pi/2;c=3*10^8;\n",
"f=2.5*10^9;\n",
"ko=(2*%pi*f)/c;\n",
"d=0.00127;\n",
"eipsilar=2.20;\n",
"// for w/d>2;\n",
"B=7.985;\n",
"w=3.081*d*100;\n",
"disp(w,'width in centi meter=')\n",
"l=(q*100)/(sqrt(eipsilae)*ko);\n",
"disp(l,'length of microstrip in centi meter=')"
   ]
   }
,
{
		   "cell_type": "markdown",
		   "metadata": {},
		   "source": [
			"## Example 4.9: program_to_calculate_the_group_velocity.sce"
		   ]
		  },
  {
"cell_type": "code",
	   "execution_count": null,
	   "metadata": {
	    "collapsed": true
	   },
	   "outputs": [],
"source": [
"//example:-4.9,page no.-197.\n",
"//program to calculate the group velocity.\n",
"syms w c v;\n",
"B=sym('B');\n",
"ko=sym('ko');\n",
"kc=sym('kc');\n",
"ko=w/c;\n",
"B=sqrt(ko^2-kc^2);\n",
"v=diff(B,w);\n",
"vg=v^(-1);\n",
"vg=(c*B)/ko;\n",
"vp=w/B;\n",
"disp(vg,'group velocity=')\n",
"disp(vp,'phase velocity=')\n",
"disp('conclusion:-since B<ko,we have that vg<c<vp,which indicates that the phase velocity of a waveguide mode may be greater than the speed of light.but the group velocity will be lesser than the speed of light.')"
   ]
   }
],
"metadata": {
		  "kernelspec": {
		   "display_name": "Scilab",
		   "language": "scilab",
		   "name": "scilab"
		  },
		  "language_info": {
		   "file_extension": ".sce",
		   "help_links": [
			{
			 "text": "MetaKernel Magics",
			 "url": "https://github.com/calysto/metakernel/blob/master/metakernel/magics/README.md"
			}
		   ],
		   "mimetype": "text/x-octave",
		   "name": "scilab",
		   "version": "0.7.1"
		  }
		 },
		 "nbformat": 4,
		 "nbformat_minor": 0
}
