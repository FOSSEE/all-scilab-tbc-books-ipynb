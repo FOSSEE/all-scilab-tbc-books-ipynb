{
"cells": [
 {
		   "cell_type": "markdown",
	   "metadata": {},
	   "source": [
       "# Chapter 2: ELECTROMAGNETIC THEORY"
	   ]
	},
{
		   "cell_type": "markdown",
		   "metadata": {},
		   "source": [
			"## Example 2.1: program_to_calculate_wavelength_phase_velocity_and.sce"
		   ]
		  },
  {
"cell_type": "code",
	   "execution_count": null,
	   "metadata": {
	    "collapsed": true
	   },
	   "outputs": [],
"source": [
"// example 2.1,page no.-24.\n",
"// program to calculate wavelength,phase velocity and wave impedence.\n",
"f=3*10^9;\n",
"mur=3;\n",
"muo=4*%pi*10^-7;\n",
"eipsilao=8.854*10^-12;\n",
"eipsilar=7;\n",
"mue=muo*mur;\n",
"eipsila=eipsilao*eipsilar;\n",
"Vp=sqrt(1/(mue*eipsila));\n",
"lamda=Vp/f;\n",
"eta=sqrt(mue/eipsila);\n",
"//Result\n",
"disp(Vp,'phase velocity in meter per second=')       // phase velocity.\n",
"disp(lamda,'wavelength in meter=')   // wavelength.\n",
"disp(eta,'wave impedence in ohm=')    // wave impedence."
   ]
   }
,
{
		   "cell_type": "markdown",
		   "metadata": {},
		   "source": [
			"## Example 2.2: progarm_to_find_out_skin_depth.sce"
		   ]
		  },
  {
"cell_type": "code",
	   "execution_count": null,
	   "metadata": {
	    "collapsed": true
	   },
	   "outputs": [],
"source": [
"// example:-2.2.page no.-26.\n",
"// progarm to find out skin depth of aluminium,copper,gold and silver at frequency 10GHZ.\n",
"f=10*10^9;\n",
"muo=4*%pi*10^-7;  // permeability in free space.\n",
"omega=2*%pi*f;\n",
"sigma_aluminium=3.816*10^7;\n",
"sigma_copper=5.813*10^7;\n",
"sigma_gold=4.098*10^7;\n",
"sigma_silver=6.173*10^7;\n",
"delta1=sqrt(2/(omega*muo*sigma_aluminium));\n",
"delta2=sqrt(2/(omega*muo*sigma_copper));\n",
"delta3=sqrt(2/(omega*muo*sigma_gold));\n",
"delta4=sqrt(2/(omega*muo*sigma_silver));\n",
"//result\n",
"disp(delta1,'skin depth of aluminium in meter=')  // skin depth of aluminium.\n",
"disp(delta2,'skin depth of copper in meter=')  //skin depth of copper.\n",
"disp(delta3,'skin depth of gold in meter=')  //skin depth of gold.\n",
"disp(delta4,'skin depth of silver in meter=')  //skin depth of silver."
   ]
   }
,
{
		   "cell_type": "markdown",
		   "metadata": {},
		   "source": [
			"## Example 2.3: program_to_find_the_resulting_fields.sce"
		   ]
		  },
  {
"cell_type": "code",
	   "execution_count": null,
	   "metadata": {
	    "collapsed": true
	   },
	   "outputs": [],
"source": [
"// example:-2.3,page no.-31.\n",
"//program to find the resulting fields by assumibg plane waves on either side of the current sheet and enforcing the boundary conditions.\n",
"syms E x E1 E2 H1 H2 z Jo A B c N n d ko y;\n",
"sym('n*(E2-E1)=0');   //boundary condition to be satisfied at z=0\n",
"sym('z*(E2-E1)=0');   //   '       '         '         '\n",
"sym('n*(H2-H1)=Jo');  //   '       '         '         '\n",
"sym('z*(H2-H1)=Jo');  //   '       '         '         '\n",
"E1=A*N*exp(%i*ko*z)*x;  // x component of electric field (region z<0).\n",
"H1=A*N*exp(%i*ko*z)*(-y); // -y component of magnetic field (region z<0).\n",
"E2=B*N*exp(-%i*ko*z)*x;   // x component of electric field (region z>0).\n",
"H2=B*N*exp(-%i*ko*z)*y;   // y component of electric field (region z>0).\n",
"disp(E1,'for z<0, E1=')\n",
"disp(H1,'for z<0, H1=')\n",
"disp(E2,'for z>0, E2=')\n",
"disp(H2,'for z>0, H2=')\n",
"//from boundary conditions imposed.we get:-\n",
"c=[-1 -1;1 -1];\n",
"d=[A;B];\n",
"c*d==[Jo;0];\n",
"d=inv(c)*[Jo;0];\n",
"//result\n",
"// A=-Jo/2; B=-Jo/2.\n",
"disp(d)"
   ]
   }
,
{
		   "cell_type": "markdown",
		   "metadata": {},
		   "source": [
			"## Example 2.4: program_to_show_decomposition_in_to_RHCP_and_LHCP.sce"
		   ]
		  },
  {
"cell_type": "code",
	   "execution_count": null,
	   "metadata": {
	    "collapsed": true
	   },
	   "outputs": [],
"source": [
"// example:-2.4,page no.-34.\n",
"// program to show that a circularly polarized plane wave can be decomposed in to RHCP and LHCP.\n",
"A=sym('A');\n",
"B=sym('B');\n",
"Eo=sym('Eo');\n",
"x=sym('x');\n",
"y=sym('y');\n",
"Ko=sym('Ko');\n",
"z=sym('z');\n",
"E=Eo*(x+2*y)*exp(-%i*Ko*z);   // given\n",
"// can be written as:=>E=A*(x-y)*exp(-%i*Ko*z)+B*(x+y)*exp(-%i*Ko*z),so\n",
"p=[1 1;-%i/2 %i/2];\n",
"q=[A;B];\n",
"r=[1;1];\n",
"p*q==Eo*r;\n",
"q=inv(p)*Eo*r;\n",
"//result\n",
"disp('value of A and B will be=')\n",
"disp(q)\n",
"disp(q(1,1)*(x-y)*exp(-%i*Ko*z)+q(2,1)*(x+y)*exp(-%i*Ko*z),'E=')\n",
"//conclusion:-any linearly polarized wave can be decomposed in to two circularly polarized waves."
   ]
   }
,
{
		   "cell_type": "markdown",
		   "metadata": {},
		   "source": [
			"## Example 2.5: program_to_compute_the_poynting_vector.sce"
		   ]
		  },
  {
"cell_type": "code",
	   "execution_count": null,
	   "metadata": {
	    "collapsed": true
	   },
	   "outputs": [],
"source": [
"// example:-2.5,page no.-36.\n",
"// program to compute the poynting vector for the plane wave field.\n",
"syms E Eo H k  s n N x r;\n",
"E=Eo*exp(-%i*k*r); // electric field.\n",
"H=(E/N)*n;  //N is intrinsic impedence,n is unit vector. \n",
"H1=conj(H)  // conjugate of magnetic field.\n",
"s=E*H1;\n",
"//result\n",
"disp(s,'poynting vector is(meter square)=')\n",
"disp('which shows that power density is flowing in the direction of propagation.')"
   ]
   }
,
{
		   "cell_type": "markdown",
		   "metadata": {},
		   "source": [
			"## Example 2.6: program_to_compute_propagation_constant_and_other.sce"
		   ]
		  },
  {
"cell_type": "code",
	   "execution_count": null,
	   "metadata": {
	    "collapsed": true
	   },
	   "outputs": [],
"source": [
"// example:-2.6,page no.-46.\n",
"// program to compute propagation constan,impedence,skin depth,reflection and transmission coefficient.\n",
"f=1*10^9;\n",
"omega=2*%pi*f;\n",
"sigma=5.813*10^7;  // for copper.\n",
"mue=4*%pi*10^-7;   // permeability in free space.\n",
"delta=sqrt(2/(mue*sigma*omega)); // skin depth.\n",
"gama=((1+%i)/delta);  //propagation constant.\n",
"eta=gama/sigma;  // impedence\n",
"etao=377;  //intrinsic impedence in free space.\n",
"tao=((eta-etao)/(eta+etao)); // reflection coefficient.\n",
"t=(2*eta)/(eta+etao);  //transmission coefficient.\n",
"// result\n",
"disp(delta,'skin depth in meter=')\n",
"disp(gama,'propagation constant=')\n",
"disp(eta,'intrinsic impedence in ohm=')\n",
"disp(tao,'reflection coefficient=')\n",
"disp(t,'transmission coefficient=')"
   ]
   }
,
{
		   "cell_type": "markdown",
		   "metadata": {},
		   "source": [
			"## Example 2.7: program_to_plot_the_reflection_coefficients.sce"
		   ]
		  },
  {
"cell_type": "code",
	   "execution_count": null,
	   "metadata": {
	    "collapsed": true
	   },
	   "outputs": [],
"source": [
"// example:-2.7.page no.-50.\n",
"// program to plot the reflection coefficients for parallel and perpendicular polarized plane waves incident from free space on to a dielectric region with Er=2.55,versus incidence angle.\n",
"Er=2.55;  // relaitve permittivity of dielectric medium.\n",
"N1=377;  // intrinsic impedence\n",
"N2=N1/sqrt(Er);  // intrinsic impedence of dielectric medium.\n",
"xb=asin(sqrt(1/(1+1/2.55)));  // brewster angle valid only in case of parallel polarization.\n",
"xt=acos(sqrt(1-(1/Er)^2*sin(xb))); // angle of transmission.\n",
"xi=[0:0.01:%pi/2];  // incidence angle.\n",
"// for parallel polarization\n",
"N2=N2*cos(xt);   \n",
"N1=N1*cos(xi);\n",
"Tpar=(N2-N1)./(N2+N1);\n",
"w=abs(Tpar);\n",
"// result\n",
"subplot(1,2,1)\n",
"xtitle('parallel polarization','xi(incidence angle)','Tpar(reflection coefficient)')\n",
"plot2d(xi,w,style=3,rect=[0,0,%pi/2,1])\n",
"// for perpendicular polarization.     //NOTE:- in case of this polarization.there is no brewster angle.\n",
"xt=acos(sqrt(1-(1/Er)^2*sin(xi)));\n",
"n1=377.*cos(xt);\n",
"n2=(377/sqrt(Er)).*cos(xi);\n",
"Tper=(n2-n1)./(n1+n2);\n",
"z=abs(Tper);\n",
"//result\n",
"subplot(1,2,2)\n",
"xtitle('perpendicular polarization','xi(inxidence angle)','Tper(reflection coefficient)')\n",
"plot2d(xi,z,style=2,rect=[0,0,%pi/2,1])"
   ]
   }
],
"metadata": {
		  "kernelspec": {
		   "display_name": "Scilab",
		   "language": "scilab",
		   "name": "scilab"
		  },
		  "language_info": {
		   "file_extension": ".sce",
		   "help_links": [
			{
			 "text": "MetaKernel Magics",
			 "url": "https://github.com/calysto/metakernel/blob/master/metakernel/magics/README.md"
			}
		   ],
		   "mimetype": "text/x-octave",
		   "name": "scilab",
		   "version": "0.7.1"
		  }
		 },
		 "nbformat": 4,
		 "nbformat_minor": 0
}
