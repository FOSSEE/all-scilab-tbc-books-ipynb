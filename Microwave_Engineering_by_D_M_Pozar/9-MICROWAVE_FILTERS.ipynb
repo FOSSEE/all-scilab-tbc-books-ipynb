{
"cells": [
 {
		   "cell_type": "markdown",
	   "metadata": {},
	   "source": [
       "# Chapter 9: MICROWAVE FILTERS"
	   ]
	},
{
		   "cell_type": "markdown",
		   "metadata": {},
		   "source": [
			"## Example 9.10: design_a_bandpass_filter_using_capacitive_coupled.sce"
		   ]
		  },
  {
"cell_type": "code",
	   "execution_count": null,
	   "metadata": {
	    "collapsed": true
	   },
	   "outputs": [],
"source": [
"// example:-9.10,page no.-524.\n",
"// design a bandpass filter using capacitive coupled resonators,with a 0.5 db equal passband haracteristic.\n",
"fo=2*10^9;delta=0.1;Zo=50;f=2.2*10^9;g1=1.5963;g2=1.0967;g3=1.5963;g4=1;\n",
"f=(1/delta)*((f/fo)-(fo/f));\n",
"x=abs(f/fc)-1; // the value on the horizontal scale.\n",
"x0=sqrt((%pi*delta)/(2*g1))/Zo; // x0=ZoJ1;\n",
"x1=((%pi*delta)/(2*sqrt(g1*g2)))/Zo; // x0=ZoJn;\n",
"B0=x0/(1-(Zo*x0)^2)\n",
"B1=x1/(1-(Zo*x1)^2)\n",
"theta0=(%pi-0.5*(atan(2*Zo*B0)+atan(2*Zo*B1)))*(180/%pi);\n",
"C0=(B0/(2*%pi*fo))*10^12;\n",
"disp(theta0,'thetao in degree = ')\n",
"disp(C0,'the coupling capacitor value in PF = ')"
   ]
   }
,
{
		   "cell_type": "markdown",
		   "metadata": {},
		   "source": [
			"## Example 9.1: program_to_compute_the_propagation_constant.sce"
		   ]
		  },
  {
"cell_type": "code",
	   "execution_count": null,
	   "metadata": {
	    "collapsed": true
	   },
	   "outputs": [],
"source": [
"// example:-9.1,page no.-462.\n",
"// program to compute the propagation constant,phase velocity and bloch impedence.\n",
"Co=2.666*10^-12;\n",
"d=0.01;c=3*10^8;\n",
"Zo=50;f=3*10^9;\n",
"p=(Co*Zo*c)/(2*d); // constant of equation given below.\n",
"y=0:0.001:0.96;\n",
"x=acos(cos(y)-p.*y.*sin(y)); // x=ko*d; and y=beta*d;\n",
"subplot(2,1,1)\n",
"plot2d(x,y,style=2,rect=[-%pi,0,%pi,0.96])\n",
"plot2d(-x,y,style=2,rect=[-%pi,0,%pi,0.96])\n",
"xtitle('k-beta diagram for first pass band ','beta*d','ko*d')\n",
"y=3:0.001:4;\n",
"x=acos(cos(y)-p.*y.*sin(y)); // x=ko*d; and y=beta*d;\n",
"subplot(2,1,2)\n",
"plot2d(x,y,style=3,rect=[-%pi,3,%pi,4])\n",
"plot2d(-x,y,style=3,rect=[-%pi,3,%pi,4])\n",
"xtitle('k-beta diagram for second pass band ','beta*d','ko*d')\n",
"bta=(acos(cos(ko*d)-p*ko*d*sin(ko*d)))/d;\n",
"ko=(2*%pi*f)/c;\n",
"vp=(ko*c)/150; // phase velocity.\n",
"b=2*%pi*f*Co*Zo;\n",
"A=cos(ko*d)-(b/2)*sin(ko*d);\n",
"B=%i*(sin(ko*d)+(b/2)*cos(ko*d)-(b/2));\n",
"Zb=(B*Zo)/sqrt(A^2-1); // bloch impedence.\n",
"disp(Zb,'Bloch impedence = ')\n",
"disp(vp,'phase velocity = ')\n",
"disp(bta,'propagation constant = ')"
   ]
   }
,
{
		   "cell_type": "markdown",
		   "metadata": {},
		   "source": [
			"## Example 9.2: program_to_design_a_low_pass_composite_filter.sce"
		   ]
		  },
  {
"cell_type": "code",
	   "execution_count": null,
	   "metadata": {
	    "collapsed": true
	   },
	   "outputs": [],
"source": [
"// example:-9.2,page no.-473.\n",
"// program to design a low pass composite filter with cutoff frequency of 2 MHZ.\n",
"fc=2*10^6;f=2.05*10^6;Ro=75;\n",
"L=(2*Ro)/(2*%pi*fc);\n",
"C=2/(Ro*2*%pi*fc);\n",
"for m=sqrt(1-(fc/f)^2)\n",
"x=m*L/2;\n",
"y=m*C;\n",
"z=((1-m^2)/(4*m))*L;  // x,y,z are design parameter assumed.\n",
"disp(x,y,z,'design parameter for m=0.2195 ')\n",
"end\n",
"for m=0.6\n",
" x=m*L/2;\n",
" y=m*C/2;\n",
" z=((1-m^2)/(2*m))*L;  // x,y,z are design parameter assumed.\n",
" disp(x,y,z,'design parameter for m=0.6 ')\n",
"end"
   ]
   }
,
{
		   "cell_type": "markdown",
		   "metadata": {},
		   "source": [
			"## Example 9.3: program_to_find_out_number_of_filter_elements.sce"
		   ]
		  },
  {
"cell_type": "code",
	   "execution_count": null,
	   "metadata": {
	    "collapsed": true
	   },
	   "outputs": [],
"source": [
"// example:-9.3,page no.-482.\n",
"// program to find out number of filter elements required.\n",
"fc=8*10^9;f=11*10^9;\n",
"w=2*%pi*f;\n",
"wc=2*%pi*fc;\n",
"x=abs(w/wc)-1;\n",
"disp(x,'from table we see that an attenuation of 20 db at this frequency requires that N>=8  for x = ')"
   ]
   }
,
{
		   "cell_type": "markdown",
		   "metadata": {},
		   "source": [
			"## Example 9.4: program_to_design_a_maximum_flat_low_pass_filter.sce"
		   ]
		  },
  {
"cell_type": "code",
	   "execution_count": null,
	   "metadata": {
	    "collapsed": true
	   },
	   "outputs": [],
"source": [
"// example:-9.4,page no.-488.\n",
"// program to design a maximum flat low pass filter with cut off frequency of 2 GHZ.\n",
"fc=2*10^9;f=3*10^9;\n",
"w=2*%pi*f;\n",
"wc=2*%pi*fc;\n",
"x=abs(w/wc)-1;\n",
"// from table we can see that N=5 will be sufficient.\n",
"// then prototype element values are:-\n",
"g1=0.618;g2=1.618;g3=2.000;g4=1.618;g5=0.618;\n",
"disp(g1,'g1 = ')\n",
"disp(g2,'g2 = ')\n",
"disp(g3,'g3 = ')\n",
"disp(g4,'g4 = ')\n",
"disp(g5,'g5 = ')"
   ]
   }
,
{
		   "cell_type": "markdown",
		   "metadata": {},
		   "source": [
			"## Example 9.5: program_to_design_a_band_pass_filter.sce"
		   ]
		  },
  {
"cell_type": "code",
	   "execution_count": null,
	   "metadata": {
	    "collapsed": true
	   },
	   "outputs": [],
"source": [
"// example:-9.5,page no.-492.\n",
"// design a band pass filter having a 0.5 db equal ripple respnse with N=3.\n",
"N=3;Zo=50;f=1*10^9;delta=1*10^8;\n",
"L1=1.596;L3=1.5963;C2=1.0967;Rl=1.000;\n",
"L_1=(L1*Zo)/(2*%pi*f*delta);\n",
"C_1=delta/(2*%pi*f*L1*Zo);\n",
"L_2=(delta*Zo)/(2*%pi*f*C2);\n",
"C_2=C2/(2*%pi*f*delta*Zo);\n",
"L_3=(L3*Zo)/(2*%pi*f*delta);\n",
"C_3=delta/(2*%pi*f*L3*Zo);\n",
"disp(L_1)\n",
"disp(L_2)\n",
"disp(C_1)\n",
"disp(C_2)\n",
"disp(L_3)\n",
"disp(C_3)"
   ]
   }
,
{
		   "cell_type": "markdown",
		   "metadata": {},
		   "source": [
			"## Example 9.6: design_a_low_pass_filter_using_micrstrip_lines.sce"
		   ]
		  },
  {
"cell_type": "code",
	   "execution_count": null,
	   "metadata": {
	    "collapsed": true
	   },
	   "outputs": [],
"source": [
"// example:-9.6,page no.-498.\n",
"// design a low pass filter for fabrication using micrstrip lines.\n",
"disp('from table,the normalized low pass prototype element values are = ')\n",
"L1=3.3487;C2=0.7117;L3=3.3487;Rl=1.0000;\n",
"n=1+(1/3.3487);\n",
"disp(L1)\n",
"disp(Rl)\n",
"disp(C2)\n",
"disp(L3)\n",
"disp(n)"
   ]
   }
,
{
		   "cell_type": "markdown",
		   "metadata": {},
		   "source": [
			"## Example 9.7: design_a_stepped_impedence_low_pass_filter.sce"
		   ]
		  },
  {
"cell_type": "code",
	   "execution_count": null,
	   "metadata": {
	    "collapsed": true
	   },
	   "outputs": [],
"source": [
"// example:-9.7,page no.-503.\n",
"// design a stepped-impedence low pass filter having a maximally flat response and a cut-off frequency of 2.5 GHZ.\n",
"w=4*10^9;wc=2.5*10^9;Zh=150;Ro=50;Zl=10;\n",
"C1=0.517;L2=1.414;C3=1.932;L4=1.932;C5=1.414;L6=0.517;\n",
"// above values are taken from table.\n",
"// for finding electrical lengths.\n",
"x1=(C1*Zl/Ro)*(180/%pi);\n",
"x2=(L2*Ro/Zh)*(180/%pi);\n",
"x3=(C3*Zl/Ro)*(180/%pi);\n",
"x4=(L4*Ro/Zh)*(180/%pi);\n",
"x5=(C5*Zl/Ro)*(180/%pi);\n",
"x6=(L6*Ro/Zh)*(180/%pi);\n",
"disp(x1)\n",
"disp(x2)\n",
"disp(x3)\n",
"disp(x4)\n",
"disp(x5)\n",
"disp(x6)"
   ]
   }
,
{
		   "cell_type": "markdown",
		   "metadata": {},
		   "source": [
			"## Example 9.8: design_a_coupled_line_band_pass_filter.sce"
		   ]
		  },
  {
"cell_type": "code",
	   "execution_count": null,
	   "metadata": {
	    "collapsed": true
	   },
	   "outputs": [],
"source": [
"// example:-9.8,page no.-516.\n",
"// design a coupled line band pass filter with N=3.\n",
"delta=0.1;f=1.8*10^9;fo=2*10^9;Zo=50;fc=1;\n",
"f=(1/delta)*((f/fo)-(fo/f));\n",
"x=abs(f/fc)-1; // the value on the horizontal scale.\n",
"attntn=20; // from above values.\n",
"disp(attntn,'attenuation in db = ')"
   ]
   }
,
{
		   "cell_type": "markdown",
		   "metadata": {},
		   "source": [
			"## Example 9.9: design_a_bandpass_filter.sce"
		   ]
		  },
  {
"cell_type": "code",
	   "execution_count": null,
	   "metadata": {
	    "collapsed": true
	   },
	   "outputs": [],
"source": [
"// example:-9.9,page no.-521.\n",
"// design a bandpass filter using three quarter wave open circuit stubs.\n",
"f=2*10^9;delta=0.15;Zo=50;N=3;gn=1.5963;\n",
"Zon=4*Zo/(%pi*gn*delta);\n",
"Z_on=(%pi*Zo*delta)/(4*gn);\n",
"disp(Zon,'the cahracteristic impedence of a bandpass filter is = ')\n",
"disp(Z_on,'for a bandpass filter using short circuited stub resonators,the corresponding result is = ')"
   ]
   }
],
"metadata": {
		  "kernelspec": {
		   "display_name": "Scilab",
		   "language": "scilab",
		   "name": "scilab"
		  },
		  "language_info": {
		   "file_extension": ".sce",
		   "help_links": [
			{
			 "text": "MetaKernel Magics",
			 "url": "https://github.com/calysto/metakernel/blob/master/metakernel/magics/README.md"
			}
		   ],
		   "mimetype": "text/x-octave",
		   "name": "scilab",
		   "version": "0.7.1"
		  }
		 },
		 "nbformat": 4,
		 "nbformat_minor": 0
}
