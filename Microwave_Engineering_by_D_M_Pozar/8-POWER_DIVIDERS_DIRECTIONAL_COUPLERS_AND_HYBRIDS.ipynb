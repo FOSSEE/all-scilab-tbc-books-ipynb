{
"cells": [
 {
		   "cell_type": "markdown",
	   "metadata": {},
	   "source": [
       "# Chapter 8: POWER DIVIDERS DIRECTIONAL COUPLERS AND HYBRIDS"
	   ]
	},
{
		   "cell_type": "markdown",
		   "metadata": {},
		   "source": [
			"## Example 8.10: design_180_deg_ring_hybrid_for_50_ohm_system_imped.sce"
		   ]
		  },
  {
"cell_type": "code",
	   "execution_count": null,
	   "metadata": {
	    "collapsed": true
	   },
	   "outputs": [],
"source": [
"// example:-8.10,page no.-440.\n",
"// design a 180 deg. ring hybrid for a 50 ohm system impedence.\n",
"Zo=50;\n",
"Z=sqrt(2)*Zo;\n",
"disp(Z,'the characteristic impedence of the ring transmission line in ohm is = ')"
   ]
   }
,
{
		   "cell_type": "markdown",
		   "metadata": {},
		   "source": [
			"## Example 8.11: calculate_even_and_odd_mode_characteristic_impeden.sce"
		   ]
		  },
  {
"cell_type": "code",
	   "execution_count": null,
	   "metadata": {
	    "collapsed": true
	   },
	   "outputs": [],
"source": [
"// example:-8.11,page no.-444.\n",
"// calculate the even and odd-mode characteristic impedences for a tapered coupled line 180 deg. hybrid for a 3 db coupling ratio and a 50 ohm characteristic impedence.\n",
"alpha=0.707;bta=0.707;Zo=50;\n",
"k=(1-alpha)/(1+alpha);\n",
"Zoe=Zo/k;\n",
"Zoo=k*Zo;\n",
"disp(Zoo,'Zoo =  ')\n",
"disp(Zoe,'at (Z=L) the characteristic impedences of the coupled line must be = ')\n",
"disp('at Z=0,there will be no coupling')"
   ]
   }
,
{
		   "cell_type": "markdown",
		   "metadata": {},
		   "source": [
			"## Example 8.1: program_to_compute_the_reflection_coefficients.sce"
		   ]
		  },
  {
"cell_type": "code",
	   "execution_count": null,
	   "metadata": {
	    "collapsed": true
	   },
	   "outputs": [],
"source": [
"// example:-8.1,page no.-392.\n",
"// program to compute the reflection coefficients seen looking in to the output port.\n",
"// as the power is divided in to 2:1 ratio. and Pin=(1/2)*Vo^2/Zo;\n",
"// so,P1=(1/3)*Pin;and P2=(2/3)*Pin ............(i)\n",
"Zo=50;\n",
"Z1=3*Zo;  // from above condition.............(i)\n",
"Z2=(3/2)*Zo;\n",
"Zin=parallel_impedence(Z1,Z2);  // input impedence to the junction.\n",
"if Zin==Zo\n",
"  disp('input is matched to the 50 ohm sources')\n",
"else\n",
"  disp('not matched')\n",
"end\n",
"Zin1=parallel_impedence(Zo,Z2); // looking in to the 150 ohm source.\n",
"Zin2=parallel_impedence(Zo,Z1); // looking in to the 75 ohm source.\n",
"tao1=(Zin1-Z1)/(Zin1+Z1);\n",
"tao2=(Zin2-Z2)/(Zin2+Z2);\n",
"disp(tao1,'reflection coefficient looking at 150 ohm line = ')\n",
"disp(tao2,'reflection coefficient looking at 75 ohm line = ')"
   ]
   }
,
{
		   "cell_type": "markdown",
		   "metadata": {},
		   "source": [
			"## Example 8.2: design_equi_split_wilkinson_power_divider.sce"
		   ]
		  },
  {
"cell_type": "code",
	   "execution_count": null,
	   "metadata": {
	    "collapsed": true
	   },
	   "outputs": [],
"source": [
"//example:-8.2,page no.-398.\n",
"// program to design an equi-split wilkinson power divider for 50 ohm system impedence.\n",
"Zo=50;\n",
"Z=sqrt(2)*Zo; // impedence of quarter wave transmission line.\n",
"R=2*Zo; // shunt resistor.\n",
"disp(R,'the shunt resistance value should be in ohm = ')\n",
"disp(Z,'the quarter wave transmission line in the divide should have a characteristic impedence in ohm = ')"
   ]
   }
,
{
		   "cell_type": "markdown",
		   "metadata": {},
		   "source": [
			"## Example 8.3: design_bethe_hole_coupler_for_x_band_waveguide.sce"
		   ]
		  },
  {
"cell_type": "code",
	   "execution_count": null,
	   "metadata": {
	    "collapsed": true
	   },
	   "outputs": [],
"source": [
"// example:-8.3,page no.-404.\n",
"// program to design bethe-hole coupler for x-band wave guide.\n",
"f=9*10^9;C=20;a=0.02286;b=0.01016;Ko=188.5;B=129;Z10=550.9;P10=4.22*10^-7;lamdao=0.0333;uo=4*%pi*10^-7;eo=8.854*10^-12;w=2*%pi*f;\n",
"s=(a/%pi)*asin(lamdao/sqrt(2*(lamdao^2-a^2)))*10^3;\n",
"// a=10*b;// as C=20db; // take x=a/b; so x=10;\n",
"ro=(P10/((10*w)*((((2*eo/3)+(4*uo)/(3*Z10^2))*0.944)-((4*%pi^2*uo*0.056)/(3*B^2*a^2*Z10^2)))))^(1/3)*10^3;\n",
"disp(s,'the aperture position in mm = ')\n",
"disp(ro,'the aperture size in mm = ')\n",
"disp('NOTE:-the above shown results completes the design of the betha hole coupler.')"
   ]
   }
,
{
		   "cell_type": "markdown",
		   "metadata": {},
		   "source": [
			"## Example 8.4: program_to_design_a_four_hole_chebysev_coupler.sce"
		   ]
		  },
  {
"cell_type": "code",
	   "execution_count": null,
	   "metadata": {
	    "collapsed": true
	   },
	   "outputs": [],
"source": [
"//example:-8.4,page no.-410.\n",
"// program to design a four hole chebysev coupler in x-band wave guide using round aperture located at s=a/4.\n",
"a=0.02286;b=0.01016;lamdao=0.0333;ko=188.5;bta=129;Z10=550.9;P10=4.22*10^-7;f=9*10^9;no=377;N=3;\n",
"s=a/4;\n",
"kf=((2*ko)/(3*no*P10))*((sin(%pi*s/a)^2)-(2*(bta^2)/(ko^2))*((sin(%pi*s/a)^2)+((%pi^2)/((bta^2)*(a^2)))*(cos(%pi*s/a)^2)));\n",
"kf=abs(kf)\n",
"kb=((2*ko)/(3*no*P10))*((sin(%pi*s/a)^2)+(2*(bta^2)/(ko^2))*((sin(%pi*s/a)^2)-((%pi^2)/((bta^2)*(a^2)))*(cos(%pi*s/a)^2)));\n",
"kb=abs(kb)\n",
"x=cosh(acosh(100)/3);  // x=sec(thetam).\n",
"thetam=asec(x)*180/%pi; // so,thetam=70.6 and 109.4 at the band edge.\n",
"k=10^(-171.94/20);\n",
"ro=(((k/2)^(1/3))*x)*1000;\n",
"r1=(1.5*k*((x^3)-x))^(1/3)*1000;\n",
"disp(kf,'kf = ')\n",
"disp(kb,'kb = ')\n",
"disp(thetam,'thetam in degree = ')\n",
"disp(ro,'ro in mm = ')\n",
"disp(r1,'r1 in mm = ')"
   ]
   }
,
{
		   "cell_type": "markdown",
		   "metadata": {},
		   "source": [
			"## Example 8.5: design_50_ohm_branchline_quadrature_hybrid_junc.sce"
		   ]
		  },
  {
"cell_type": "code",
	   "execution_count": null,
	   "metadata": {
	    "collapsed": true
	   },
	   "outputs": [],
"source": [
"// example:-8.5,page no.-415.\n",
"// program to design a 50 ohm branch-line quadrature hybrid junction.\n",
"Zo=50;\n",
"Z=Zo/sqrt(2);\n",
"disp(Z,'the branch line impedence in ohm will be = ')"
   ]
   }
,
{
		   "cell_type": "markdown",
		   "metadata": {},
		   "source": [
			"## Example 8.6: determine_even_and_odd_mode_characteristic_impeden.sce"
		   ]
		  },
  {
"cell_type": "code",
	   "execution_count": null,
	   "metadata": {
	    "collapsed": true
	   },
	   "outputs": [],
"source": [
"// example:-8.6,page no.-419.\n",
"// program to determine  the even and odd mode characteristic impedence.\n",
"syms C A d W C11 C12 Ce Co v eo er s b uo Zoe Zoo eipsila;\n",
"C=A*eipsila/d;\n",
"C11=(eo*er*W)/((b-s)/2)+(eo*er*W)/((b+s)/2);\n",
"C12=er*eo*W/s;\n",
"Ce==C11;\n",
"Co=C11+2*C12\n",
"v=1/sqrt(er*eo*uo);\n",
"Zoe=1/(v*C11); // as Ce=C11;\n",
"Zoo=1/(v*Co);\n",
"disp(Zoe,'Zoe = ')\n",
"disp(Zoo,'zoo = ')"
   ]
   }
,
{
		   "cell_type": "markdown",
		   "metadata": {},
		   "source": [
			"## Example 8.7: design_a_20_db_single_section_coupled_line_coupler.sce"
		   ]
		  },
  {
"cell_type": "code",
	   "execution_count": null,
	   "metadata": {
	    "collapsed": true
	   },
	   "outputs": [],
"source": [
"// example:-8.7,page no.-425.\n",
"//design a 20 db single section coupled line coupler in stripline.\n",
"C=10^(-20/20);f=3*10^9;eipsila=2.56;Zo=50;b=0.00158;\n",
"Zoe=Zo*sqrt((1+C)/(1-C));\n",
"Zoo=Zo*sqrt((1-C)/(1+C));\n",
"Zoe=eipsila*Zoe;\n",
"Zoo=eipsila*Zoo;\n",
"x=0.72; //x=w/b.\n",
"y=0.34; // y=s/b.\n",
"w=0.72*b*100;\n",
"s=0.34*b*100;\n",
"disp(w,'conductor width in cm = ')\n",
"disp(s,'conductor seperation in cm = ')"
   ]
   }
,
{
		   "cell_type": "markdown",
		   "metadata": {},
		   "source": [
			"## Example 8.8: design_a_three_section_20_db_coupler.sce"
		   ]
		  },
  {
"cell_type": "code",
	   "execution_count": null,
	   "metadata": {
	    "collapsed": true
	   },
	   "outputs": [],
"source": [
"// example:-8.8,page no.-428.\n",
"// design a three section 20 db coupler with a binomial response.\n",
"Zo=50;f=3*10^9;N=3;\n",
"syms C C1 C2 theta;\n",
"C=10^(-20/20);\n",
"disp('for a maximally flat response for a three=section coupler doupble derivative of C will be zero.')\n",
"C1=0.0125;C2=0.125;C3=0.0125;\n",
"Zoe1=Zo*sqrt((1+C1)/(1-C1));\n",
"Zoe3=Zo*sqrt((1+C3)/(1-C3));\n",
"Zoo1=Zo*sqrt((1-C1)/(1+C1));\n",
"Zoo3=Zo*sqrt((1-C1)/(1+C1));\n",
"Zoe2=Zo*sqrt((1+C2)/(1-C2));\n",
"Zoo2=Zo*sqrt((1+C2)/(1-C2));\n",
"disp('the even and odd mode characteristic impedences for each section are = ')\n",
"disp(Zoe1,'Zoe1 = ')\n",
"disp(Zoo1,'Zoo1 = ')\n",
"disp(Zoe2,'Zoe2 = ')\n",
"disp(Zoo2,'Zoo2 = ')\n",
"disp(Zoe3,'Zoe3 = ')\n",
"disp(Zoo3,'Zoo3 = ')"
   ]
   }
,
{
		   "cell_type": "markdown",
		   "metadata": {},
		   "source": [
			"## Example 8.9: design_a_3_dB_50_ohm_langer_coupler.sce"
		   ]
		  },
  {
"cell_type": "code",
	   "execution_count": null,
	   "metadata": {
	    "collapsed": true
	   },
	   "outputs": [],
"source": [
"//example:-8.9,page no.-434.\n",
"// program to design a 3 dB 50 ohm langer coupler for operation at 5 GHZ.\n",
"f=5*10^9;C=10^(-3/20);\n",
"Zo=50;\n",
"Zoe=(((4*C)-3+sqrt(9-(8*C^2)))/((2*C)*sqrt((1-C)/(1+C))))*Zo;\n",
"Zoo=(((4*C)+3-sqrt(9-(8*C^2)))/((2*C)*sqrt((1+C)/(1-C))))*Zo;\n",
"disp(Zoe,'even mode characteristic impedence of a pair of adjacent coupled lines is = ')\n",
"disp(Zoo,'even mode characteristic impedence of a pair of adjacent coupled lines is = ')"
   ]
   }
],
"metadata": {
		  "kernelspec": {
		   "display_name": "Scilab",
		   "language": "scilab",
		   "name": "scilab"
		  },
		  "language_info": {
		   "file_extension": ".sce",
		   "help_links": [
			{
			 "text": "MetaKernel Magics",
			 "url": "https://github.com/calysto/metakernel/blob/master/metakernel/magics/README.md"
			}
		   ],
		   "mimetype": "text/x-octave",
		   "name": "scilab",
		   "version": "0.7.1"
		  }
		 },
		 "nbformat": 4,
		 "nbformat_minor": 0
}
