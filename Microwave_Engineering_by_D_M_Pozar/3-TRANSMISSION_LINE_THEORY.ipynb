{
"cells": [
 {
		   "cell_type": "markdown",
	   "metadata": {},
	   "source": [
       "# Chapter 3: TRANSMISSION LINE THEORY"
	   ]
	},
{
		   "cell_type": "markdown",
		   "metadata": {},
		   "source": [
			"## Example 3.10: program_to_calculate_attenuaton.sce"
		   ]
		  },
  {
"cell_type": "code",
	   "execution_count": null,
	   "metadata": {
	    "collapsed": true
	   },
	   "outputs": [],
"source": [
"// example:-3.10,page no.-114.\n",
"// program to calculate attenuaton due to conductor loss of a coaxial line using incremental inductance rule.\n",
"syms Zo eta pi a b Rs l alpha alpha_c alpha_dash delta alpha_c_dash sigma w mue;\n",
"sd=sqrt(2/(w*mue*sigma))\n",
"Zo=(eta*log(b/a))/(2*pi);\n",
"alpha_c=(Rs/(4*Zo*pi^2))*(diff(log(b/a),b)-diff(log(b/a),a));\n",
"disp(alpha_c,'attenuation due to conductor loss = ')\n",
"alpha_c_dash=alpha_c*(1+((2/pi)*atan((1.4*delta)/sd)));\n",
"disp(alpha_c_dash,'attenuation corrected for surface roughness = ')"
   ]
   }
,
{
		   "cell_type": "markdown",
		   "metadata": {},
		   "source": [
			"## Example 3.1: program_to_determine_transmission_line_parameters.sce"
		   ]
		  },
  {
"cell_type": "code",
	   "execution_count": null,
	   "metadata": {
	    "collapsed": true
	   },
	   "outputs": [],
"source": [
"//example:-3.1,page no.-72.\n",
"// program to determine transmission line parameters.\n",
"syms E H Vo P a b Io mue y z Q pi L eipsila G C R Rs w;\n",
"E=(Vo/(P*log(b/a)))*exp(-%i*y*z); // in radial direction.\n",
"H=(Io/(2*pi*P))*exp(-%i*y*z);   // in phi direction.\n",
"H=H*conj(H)*P;\n",
"E=E*conj(E)*P;\n",
"L=(mue/((Io)^2))*integ(integ(H,P),Q);   // surface integral in culindrical coordinate system\n",
"L=limit(L,P,b)-limit(L,P,a);  // limits when integrated w.r.t rho.\n",
"L=limit(L,Q,2*pi)-limit(L,Q,0);  // limits when integrated w.r.t phi.\n",
"C=(eipsila/(Vo^2))*integ(integ(E,P),Q);  // surface integral in culindrical coordinate system\n",
"C=limit(C,P,b)-limit(C,P,a);    // limits when integrated w.r.t rho.\n",
"C=limit(C,Q,2*pi)-limit(C,Q,0);  // limits when integrated w.r.t phi.\n",
"R=(Rs/(Io^2))*integ(H,Q);   \n",
"R=limit(R,P,b)+limit(R,P,a);\n",
"R=limit(R,Q,2*pi)-limit(R,Q,0);  // limits when integrated w.r.t phi.\n",
"G=((w*eipsila)/(Vo^2))*integ(integ(E,P),Q);  // surface integral in culindrical coordinate system\n",
"G=limit(G,P,b)-limit(G,P,a);   // limits when integrated w.r.t rho.\n",
"G=limit(G,Q,2*pi)-limit(G,Q,0);  // limits when integrated w.r.t phi.\n",
"// result\n",
"disp(L,'self-inductance in H/m =')\n",
"disp(C,'capacitance in F/m =')\n",
"disp(R,'resistance in Ohm/m =')\n",
"disp(G,'shunt conductance in S/m =')"
   ]
   }
,
{
		   "cell_type": "markdown",
		   "metadata": {},
		   "source": [
			"## Example 3.2: program_to_find_out_load_impedence.sce"
		   ]
		  },
  {
"cell_type": "code",
	   "execution_count": null,
	   "metadata": {
	    "collapsed": true
	   },
	   "outputs": [],
"source": [
"// example:-3.2,page no.-87.\n",
"// program to find out load impedence.\n",
"Zo=100;  // characteristic impedence.\n",
"tao=0.560+0.215*%i;  // reflection coefficient.\n",
"z=(1+tao)/(1-tao);   // normalized impedence(normalized w.r.t Zo)\n",
"Zl=z*Zo;\n",
"// result\n",
"disp(Zl,'load impedence = ')\n",
"// by smith chart.\n",
"smith_chart(tao)\n",
"// when analyse with the help of smith chart.see the angle from x=0 axis i.e Tao_real axis.if it is above this axis take angle anticlockwise and if it is below this axis.take angle clockwise from Tao_real axis below."
   ]
   }
,
{
		   "cell_type": "markdown",
		   "metadata": {},
		   "source": [
			"## Example 3.3: program_to_find_out_return_loss_in_dB_and_others.sce"
		   ]
		  },
  {
"cell_type": "code",
	   "execution_count": null,
	   "metadata": {
	    "collapsed": true
	   },
	   "outputs": [],
"source": [
"// example:-3.3,page no.-87.\n",
"// program to find out return loss in dB,SWR and reflection coefficient.\n",
"Zl=80-40*%i;  // load impedence.\n",
"Zo=50; // characteristic impedence.\n",
"z=Zl/Zo;  // normalized impedence.\n",
"tao=reflection_coefficient(Zl,Zo);\n",
"SWR=VSWR(abs(tao));\n",
"Rl=-20*log10(abs(tao));\n",
"disp(abs(tao),'reflection coefficient = ')\n",
"disp(SWR,'standing wave ratio = ')\n",
"disp(Rl,'return loss in dB = ')\n",
"smith_chart(tao)\n",
"// when analyse with the help of smith chart.see the angle from x=0 axis i.e Tao_real axis.if it is above this axis take angle anticlockwise and if it is below this axis.take angle clockwise from Tao_real axis below."
   ]
   }
,
{
		   "cell_type": "markdown",
		   "metadata": {},
		   "source": [
			"## Example 3.4: program_to_find_input_impedence_and_SWR_of_line.sce"
		   ]
		  },
  {
"cell_type": "code",
	   "execution_count": null,
	   "metadata": {
	    "collapsed": true
	   },
	   "outputs": [],
"source": [
"// example no.-3.4,page no.-88.\n",
"// program to find input impedence and SWR of line.\n",
"Zo=75;Zl=37.5+75*%i;l=0.02;eipsilar=2.56;f=3*10^9;c=3*10^8;\n",
"b=(2*%pi*f*sqrt(eipsilar))/c;  // beta\n",
"tao=reflection_coefficient(Zl,Zo);\n",
"Zin=input_impedence(tao,b,l,Zo);\n",
"// result\n",
"disp(Zin,'input impedence = ')\n",
"tao=abs(tao);\n",
"s=VSWR(tao);\n",
"// result\n",
"disp(s,'SWR of the line = ')"
   ]
   }
,
{
		   "cell_type": "markdown",
		   "metadata": {},
		   "source": [
			"## Example 3.5: program_to_find_out_load_admittance_and_other.sce"
		   ]
		  },
  {
"cell_type": "code",
	   "execution_count": null,
	   "metadata": {
	    "collapsed": true
	   },
	   "outputs": [],
"source": [
"// example:-3.5,page no.-91.\n",
"// program to find out load admittance and input admittance of the line\n",
"syms lamda;\n",
"Zl=100+50*%i;\n",
"Zo=50;\n",
"le=0.15;  //electrical length(l/lamda).\n",
"b=(2*%pi);\n",
"tao=reflection_coefficient(Zl,Zo);\n",
"Zin=input_impedence(tao,b,le,Zo);\n",
"Yin=1/Zin;\n",
"Yl=1/Zl;\n",
"// result\n",
"disp(Yin,'input admittance = ')\n",
"disp(Yl,'load admittance = ')"
   ]
   }
,
{
		   "cell_type": "markdown",
		   "metadata": {},
		   "source": [
			"## Example 3.6: program_to_find_out_characteristic_impedence.sce"
		   ]
		  },
  {
"cell_type": "code",
	   "execution_count": null,
	   "metadata": {
	    "collapsed": true
	   },
	   "outputs": [],
"source": [
"//example:-3.6,page no.-93.\n",
"// program to find out characteristic impedence and plot the magnitude of reflection coefficient versus normalized frequency.\n",
"Zl=100;// load impedence\n",
"Zi=50;//impedence of line which is to be matched\n",
"//as it is a quarter wave transformer so,Zi=(Zo)^2/zl;\n",
"Zo=sqrt(Zi*Zl);\n",
"disp(Zo,'characteristic impedence of tne matching section=')\n",
"syms f fo x;\n",
"x=f/fo;\n",
"x=0:0.001:4;\n",
"y=(%pi/2)*(x);\n",
"Zin=Zo*(((Zl*cos(y))+(Zo*%i*sin(y)))./((Zo*cos(y))+(Zl*%i.*sin(y))))\n",
"tao=((Zin-Zo)./(Zin+Zo));\n",
"tao=abs(real(tao)+imag(tao));\n",
"plot2d(x,tao,style=6,rect=[0,0,4,1])\n",
"xtitle('reflection coefficient versus normalized frequency for quarter wave transformer','f/fo','tao(reflection coefficient)')"
   ]
   }
,
{
		   "cell_type": "markdown",
		   "metadata": {},
		   "source": [
			"## Example 3.7: program_to_determine_unknown_load_impedence.sce"
		   ]
		  },
  {
"cell_type": "code",
	   "execution_count": null,
	   "metadata": {
	    "collapsed": true
	   },
	   "outputs": [],
"source": [
"// example:-3.7,page no.-101.\n",
"// NOTE:-this example is a method for calculating unknown load impedence of slotted line section.all data are given and preassumed.\n",
"// program to determine unknown load impedence.\n",
"Zl=0;Zo=50; // for short circuitting the load.\n",
"SWR=%inf;\n",
"// short circuit is removed and replace with unknown load.\n",
"SWR=1.5;lamda=0.04;\n",
"lmin=4.2-2.72;\n",
"tao=(1.5-1)/(1.5+1);\n",
"theta=(%pi+((4*%pi)/4)*1.48);\n",
"tao=abs(tao)*exp(%i*theta);\n",
"Zl=50*((1+tao)/(1-tao));\n",
"// result\n",
"disp(Zl,'load impedence = ')\n",
"smith_chart(tao)\n",
"// when analyse with the help of smith chart.see the angle from x=0 axis i.e Tao_real axis.if it is above this axis take angle anticlockwise and if it is below this axis.take angle clockwise from Tao_real axis below."
   ]
   }
,
{
		   "cell_type": "markdown",
		   "metadata": {},
		   "source": [
			"## Example 3.8: program_to_calculate_attenuation_constant.sce"
		   ]
		  },
  {
"cell_type": "code",
	   "execution_count": null,
	   "metadata": {
	    "collapsed": true
	   },
	   "outputs": [],
"source": [
"// example:-3.8,page no.-108.\n",
"// program to calculate attenuation constant.\n",
"syms alpha R Rs L G C eta a b w pi eipsila eipsilac mue eta;\n",
"//from example 3.1:-alpha=(R*(sqrt(C/L)+G*sqrt(L/C));\n",
"eta=sqrt(mue/eipsila);\n",
"L=(mue/(2*pi))*(log(b/a));\n",
"C=(2*pi*eipsila)/log(b/a);\n",
"R=(Rs/(2*pi))*((1/a)+(1/b));\n",
"G=(2*pi*w*eipsilac)/log(b/a);\n",
"alpha=(1/2)*(R*sqrt(C/L)+G*sqrt(L/C));\n",
"disp(alpha,'attenuation constant = ')"
   ]
   }
,
{
		   "cell_type": "markdown",
		   "metadata": {},
		   "source": [
			"## Example 3.9: program_to_find_the_attenuation_constant.sce"
		   ]
		  },
  {
"cell_type": "code",
	   "execution_count": null,
	   "metadata": {
	    "collapsed": true
	   },
	   "outputs": [],
"source": [
"// example:-3.9,page no.-111.\n",
"// program to find ht eattenuation constant of coaxial line.\n",
"syms E H Vo Zo P a b B z pi Po Q Rs Plc alpha Pld Plc w eipsila;\n",
"//Zo=(eta/(2*pi))*log(b/a);\n",
"E=(Vo/(P*(log(b)-log(a))))*exp(-%i*B*z);   //B=beta.\n",
"H=(Vo/(2*pi*P*Zo))*exp(-%i*B*z);\n",
"H=conj(H)*P; // for defining E cross H*.\n",
"Po=(1/2)*integ(integ((E*H),P),Q);\n",
"Po=limit(Po,P,b)-limit(Po,P,a);\n",
"Po=limit(Po,Q,2*pi)-limit(Po,Q,0);\n",
"disp(Po,'power flowing on the lossless line = ')\n",
"H=(H*conj(H))/P;  // for defining |H|^2;\n",
"Plc=(Rs/2)*integ(integ(H,z),Q);\n",
"Plc=limit(Plc,P,b)+limit(Plc,P,a);\n",
"Plc=limit(Plc,z,1)-limit(Plc,z,0);\n",
"Plc=limit(Plc,Q,2*pi)-limit(Plc,Q,0);\n",
"disp(Plc,'conductor loss = ')\n",
"E=E*conj(E)*P;\n",
"Pld=((w*eipsila)/2)*integ(integ(integ(E,P),Q),z);\n",
"Pld=limit(Pld,P,b)-limit(Pld,P,a);\n",
"Pld=limit(Pld,z,1)-limit(Pld,z,0);\n",
"Pld=limit(Pld,Q,2*pi)-limit(Pld,Q,0);\n",
"disp(Pld,'dielectric loss = ')\n",
"alpha=(Pld+Plc)/(2*Po); // attenuation constant.\n",
"disp(alpha,'attenuation constant = ')"
   ]
   }
],
"metadata": {
		  "kernelspec": {
		   "display_name": "Scilab",
		   "language": "scilab",
		   "name": "scilab"
		  },
		  "language_info": {
		   "file_extension": ".sce",
		   "help_links": [
			{
			 "text": "MetaKernel Magics",
			 "url": "https://github.com/calysto/metakernel/blob/master/metakernel/magics/README.md"
			}
		   ],
		   "mimetype": "text/x-octave",
		   "name": "scilab",
		   "version": "0.7.1"
		  }
		 },
		 "nbformat": 4,
		 "nbformat_minor": 0
}
