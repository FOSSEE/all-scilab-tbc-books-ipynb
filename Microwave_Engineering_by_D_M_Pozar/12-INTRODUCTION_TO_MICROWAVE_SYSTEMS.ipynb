{
"cells": [
 {
		   "cell_type": "markdown",
	   "metadata": {},
	   "source": [
       "# Chapter 12: INTRODUCTION TO MICROWAVE SYSTEMS"
	   ]
	},
{
		   "cell_type": "markdown",
		   "metadata": {},
		   "source": [
			"## Example 12.1: compute_directivity_radiation_intensity_and_others.sce"
		   ]
		  },
  {
"cell_type": "code",
	   "execution_count": null,
	   "metadata": {
	    "collapsed": true
	   },
	   "outputs": [],
"source": [
"// example:-12.1,page no.-668.\n",
"//program to compute directivity,radiation intensity,F,the effective area.\n",
"syms Etheta Hphi ko no Io l r pi theta C phi lamda;\n",
"Etheta=((%i*ko*no*Io*l)/(4*pi*r))*sin(theta)*exp(-%i*ko*r);\n",
"Hphi=((%i*ko*Io*l)/(4*pi*r))*sin(theta)*exp(-%i*ko*r);\n",
"F=(r^2)*(Etheta*conj(Hphi));\n",
"Prad=C*integ(integ(sin(theta)^3,theta),phi);\n",
"Prad=limit(Prad,theta,pi)-limit(Prad,theta,0);\n",
"Prad=limit(Prad,phi,2*pi)-limit(Prad,phi,0); // take cos(pi)=-1;\n",
"Prad=8*pi*C/3;\n",
"D=4*pi*C/Prad;\n",
"Ac=((lamda^2)*D)/(4*pi);\n",
"disp(F,'the radiation intensity is given by = ')\n",
"disp(D,'directivity is given by = ')\n",
"disp(Ac,'the effective area of the dipole = ')"
   ]
   }
,
{
		   "cell_type": "markdown",
		   "metadata": {},
		   "source": [
			"## Example 12.2: program_to_find_the_reactive_power_in_dbm.sce"
		   ]
		  },
  {
"cell_type": "code",
	   "execution_count": null,
	   "metadata": {
	    "collapsed": true
	   },
	   "outputs": [],
"source": [
"// example:-12.2,page no.-674.\n",
"// program to find the reactive power in dbm.\n",
"Pt=120;f=6*10^9;\n",
"Gt=10^4.2;Gr=10^3.1;\n",
"lamda=0.05;R=3.59*10^7;\n",
"Pr=(Pt*Gt*Gr*(lamda^2))/((4*%pi*R)^2);\n",
"Pr=10*log10(Pr/0.001);\n",
"disp(Pr,'received power in dBm will be = ')"
   ]
   }
,
{
		   "cell_type": "markdown",
		   "metadata": {},
		   "source": [
			"## Example 12.3: calculate_the_input_and_output_SNR.sce"
		   ]
		  },
  {
"cell_type": "code",
	   "execution_count": null,
	   "metadata": {
	    "collapsed": true
	   },
	   "outputs": [],
"source": [
"// example:-12.3,page no.-677.\n",
"// program to calculate the input and output SNR.\n",
"f=4*10^9;B=1*10^6;Grf=10^2;Gif=10^3;Lt=10^0.15;Lm=10^0.6;To=290;\n",
"Fm=10^0.7;Tm=(Fm-1)*To;Tp=300;Tb=200;eta=0.9;\n",
"Frf=10^0.3;Fif=10^0.11;k=1.38*10^-23;\n",
"Trf=(Frf-1)*To;\n",
"Tif=(Fif-1)*To;\n",
"Trec=Trf+(Tm/Grf)+((Tif*Lm)/Grf);\n",
"Ttl=(Lt-1)*Tp;\n",
"Ta=eta*Tb+(1-eta)*Tp;\n",
"Ni=k*B*Ta;\n",
"Ni=10*log10(Ni/0.001);  // converting in to dBm.\n",
"si=-80; // in dBm.\n",
"SNRi=si-Ni; // input SNR.\n",
"Tsys=Ta+Ttl+Lt*Trec;\n",
"SNRo=si-10*log10((k*B*Tsys)/0.001);\n",
"disp(SNRi,'input SNR in dB = ')\n",
"disp(SNRo,'output SNR in dB = ')"
   ]
   }
,
{
		   "cell_type": "markdown",
		   "metadata": {},
		   "source": [
			"## Example 12.4: program_to_find_the_maximum_range_of_radar.sce"
		   ]
		  },
  {
"cell_type": "code",
	   "execution_count": null,
	   "metadata": {
	    "collapsed": true
	   },
	   "outputs": [],
"source": [
"// example:-12.4,page no.-683.\n",
"// program to find the maximum range of radar.\n",
"G=10^2.8;Pt=2000;sigma=12;\n",
"Pmin=10^-12;lamda=0.03;\n",
"Rmax=((Pt*(G^2)*sigma*(lamda^2))/(((4*%pi)^3)*Pmin))^(0.25);\n",
"disp(Rmax,'the maximum range of the radar in meter = ')"
   ]
   }
,
{
		   "cell_type": "markdown",
		   "metadata": {},
		   "source": [
			"## Example 12.5: program_to_find_the_J_by_S_ratio.sce"
		   ]
		  },
  {
"cell_type": "code",
	   "execution_count": null,
	   "metadata": {
	    "collapsed": true
	   },
	   "outputs": [],
"source": [
"//example:-12.5,page no.-702.\n",
"// program to find the J/S ratio.\n",
"Gr=10^3.5;Pj=1000;R=3000;Br=1*10^6;Bj=20*10^6;\n",
"Gj=10;lamda=0.03;Pt=10^5;sigma=4;Rj=10000;\n",
"x=(Pj/Pt)*((4*%pi*(R^2)*Gj)/(sigma*Gr))*(Br/Bj); // x=J/S\n",
"x=10*log10(x);\n",
"Grsl=10^(3.5-2);// radar anteena gain in its sidelobe region.\n",
"x1=(Pj/Pt)*(((R^4)*Gj*Grsl)/((Gr^2)*(Rj^2)))*(Br/Bj);\n",
"x1=10*log10(x1);\n",
"disp(x,'THE J/S ration for the SSJ case in dB is = ')\n",
"disp(x1,'THE J/S ratio for the SOJ case in dB is = ')"
   ]
   }
,
{
		   "cell_type": "markdown",
		   "metadata": {},
		   "source": [
			"## Example 12.6: calculate_power_density_of_20_m_from_anteena.sce"
		   ]
		  },
  {
"cell_type": "code",
	   "execution_count": null,
	   "metadata": {
	    "collapsed": true
	   },
	   "outputs": [],
"source": [
"// example:-12.6,page no.-704.\n",
"// program to calculate the power density of 20 m from the anteena.\n",
"G=10^4;Pin=5;R=20;\n",
"S=(Pin*G)/(4*%pi*(R^2))*0.1;\n",
"disp(S,'the power density in the main beam of the anteena at a distance of 20 m in mw/cm^2 = ')"
   ]
   }
],
"metadata": {
		  "kernelspec": {
		   "display_name": "Scilab",
		   "language": "scilab",
		   "name": "scilab"
		  },
		  "language_info": {
		   "file_extension": ".sce",
		   "help_links": [
			{
			 "text": "MetaKernel Magics",
			 "url": "https://github.com/calysto/metakernel/blob/master/metakernel/magics/README.md"
			}
		   ],
		   "mimetype": "text/x-octave",
		   "name": "scilab",
		   "version": "0.7.1"
		  }
		 },
		 "nbformat": 4,
		 "nbformat_minor": 0
}
