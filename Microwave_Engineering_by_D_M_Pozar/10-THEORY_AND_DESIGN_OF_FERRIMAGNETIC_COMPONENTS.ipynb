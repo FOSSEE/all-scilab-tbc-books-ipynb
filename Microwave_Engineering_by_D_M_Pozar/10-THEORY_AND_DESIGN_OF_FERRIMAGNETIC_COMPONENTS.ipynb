{
"cells": [
 {
		   "cell_type": "markdown",
	   "metadata": {},
	   "source": [
       "# Chapter 10: THEORY AND DESIGN OF FERRIMAGNETIC COMPONENTS"
	   ]
	},
{
		   "cell_type": "markdown",
		   "metadata": {},
		   "source": [
			"## Example 10.1: calculate_and_plot_phase_and_attenuation_constants.sce"
		   ]
		  },
  {
"cell_type": "code",
	   "execution_count": null,
	   "metadata": {
	    "collapsed": true
	   },
	   "outputs": [],
"source": [
"// example:-10.1;page no.-547.\n",
"// problem to calculate and plot the phase and attenuation constants for RHCP & LHCP plane wave.\n",
"M=1800;// M=4*pi*Ms;\n",
"deltaH=75;eo=8.854*10^-12;muo=4*%pi*10^-7;c=3*10^8;\n",
"Ho=3570;er=14;tandelta=0.001;\n",
"fo=(2.8*10^9)/Ho; // IN GHZ.\n",
"wo=2*%pi*fo;\n",
"fm=(2.8*10^9)/M;  // IN GHZ.\n",
"wm=2*%pi*fm;\n",
"mue=muo*(1+(wo*wm)/(wo^2-wm^2));\n",
"e=eo*er*(1-%i*tandelta);\n",
"f=0:1000000:20*10^9;\n",
"w=2*%pi.*f;\n",
"k=muo*((w.*wm)/(wo^2-w^2));\n",
"gama=%i*w*sqrt(e.*(mue-k));\n",
"alpha=abs(real(gama));\n",
"bta=abs(imag(gama));\n",
"plot2d(f,gama,style=3,rect=[0,0,20*10^9,24])\n",
"plot2d(f,bta,style=2,rect=[0,0,20*10^9,24])"
   ]
   }
,
{
		   "cell_type": "markdown",
		   "metadata": {},
		   "source": [
			"## Example 10.2: program_to_design_an_e_plane_resonance_isolator.sce"
		   ]
		  },
  {
"cell_type": "code",
	   "execution_count": null,
	   "metadata": {
	    "collapsed": true
	   },
	   "outputs": [],
"source": [
"//example:-10.2,page no.-559.\n",
"// program to design an e plane resonance isolatorin x band waveguide.\n",
"er=13;revatt=30;\n",
"deltaH=200;x=1700;  // x=4*%pi*Ms.\n",
"f=10*10^9;alpha_=12.4; // from graph 10.13.\n",
"L=revatt/alpha_; \n",
"alpha_1=27/L;  \n",
"disp(L,'for total reverse attenuation of 20 db,the length of the slab in cm must be = ')\n",
"disp(alpha_1,'for total reverse attenuation to be at least 27 db, alpha_ in db/cm be > ')"
   ]
   }
,
{
		   "cell_type": "markdown",
		   "metadata": {},
		   "source": [
			"## Example 10.3: program_to_design_a_resonance_isolator.sce"
		   ]
		  },
  {
"cell_type": "code",
	   "execution_count": null,
	   "metadata": {
	    "collapsed": true
	   },
	   "outputs": [],
"source": [
"//example:-10.3.page no.-560.\n",
"// program to design a resonance isolator using the H-plane ferrite slab geometry in x-band.\n",
"f=10*10^9;delta_sbys=0.01;forpims=1700;deltaH=200;\n",
"revatt=30;ko=(2*%pi*f)/(3*10^8);\n",
"Ho=f/(2.8*10^9);\n",
"// for x-band waveguide, a=2.286 cm.\n",
"a=2.286;\n",
"kc=(%pi*100)/a;\n",
"betao=sqrt(ko^2-kc^2);\n",
"x=(1/%pi)*atan(kc/betao); // x=c/a.\n",
"L=revatt/2;\n",
"disp(L,'the slab length required for 30db total reverse attenuation in cm = ')\n",
"disp(kc,'cut-off wave number in m-1 = ')\n",
"disp(betao,'propagation constant = ')"
   ]
   }
,
{
		   "cell_type": "markdown",
		   "metadata": {},
		   "source": [
			"## Example 10.5: design_a_two_slab_remanent_phase_shifter.sce"
		   ]
		  },
  {
"cell_type": "code",
	   "execution_count": null,
	   "metadata": {
	    "collapsed": true
	   },
	   "outputs": [],
"source": [
"//example:10.5,page no.-567.\n",
"// program to design a two slab remanent phase shifter.\n",
"forpims=1786;er=13;f=10*10^9;uo=4*%pi*10^-7;ko=(2*%pi*f)/(3*10^10);\n",
"fm=2.8;s=0.1;// s and a in cm.\n",
"x=(2*%pi*fm*forpims)/(2*%pi*f);// x=wm/w = k/uo.\n",
"a=2.286; // for x-band.\n",
"t=.274; //from figure 10.19;\n",
"diffphaseshift=0.4*ko*(180/%pi); // differential phase shift.\n",
"L_1=180/diffphaseshift; \n",
"L_2=90/diffphaseshift;\n",
"disp(L_1,'the ferrite length required for the 180 deg. phase shift section in cm = ')\n",
"disp(L_2,'the ferrite length required for the 90 deg. phase shift section in cm = ')"
   ]
   }
],
"metadata": {
		  "kernelspec": {
		   "display_name": "Scilab",
		   "language": "scilab",
		   "name": "scilab"
		  },
		  "language_info": {
		   "file_extension": ".sce",
		   "help_links": [
			{
			 "text": "MetaKernel Magics",
			 "url": "https://github.com/calysto/metakernel/blob/master/metakernel/magics/README.md"
			}
		   ],
		   "mimetype": "text/x-octave",
		   "name": "scilab",
		   "version": "0.7.1"
		  }
		 },
		 "nbformat": 4,
		 "nbformat_minor": 0
}
