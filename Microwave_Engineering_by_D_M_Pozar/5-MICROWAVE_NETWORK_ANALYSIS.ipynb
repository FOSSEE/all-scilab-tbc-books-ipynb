{
"cells": [
 {
		   "cell_type": "markdown",
	   "metadata": {},
	   "source": [
       "# Chapter 5: MICROWAVE NETWORK ANALYSIS"
	   ]
	},
{
		   "cell_type": "markdown",
		   "metadata": {},
		   "source": [
			"## Example 5.10: program_to_find_out_expression_for_taoin.sce"
		   ]
		  },
  {
"cell_type": "code",
	   "execution_count": null,
	   "metadata": {
	    "collapsed": true
	   },
	   "outputs": [],
"source": [
"// example:-5.10.page no.-250.\n",
"//program to find out expression for taoin.\n",
"syms P1 P2 S11 S22 S12 S21 taol taoin L1 l2;\n",
"P1=S11; // path one.\n",
"P2=S21*S12*taol;  //path second.\n",
"L1=taol*S22; // loop gain for path 1.\n",
"L2=L1^2;  // loop gain taking two at a time.(but only one loop wiil exist.i.e=L1.)\n",
"L2=0;\n",
"// from mason's gain formula.\n",
"taoin=(S11*(1-taol*S22)+(S21*taol*S12))/(1-taol*S22);\n",
"// result\n",
"disp(taoin)"
   ]
   }
,
{
		   "cell_type": "markdown",
		   "metadata": {},
		   "source": [
			"## Example 5.11: determine_amplitude_of_forward_and_backward_wave.sce"
		   ]
		  },
  {
"cell_type": "code",
	   "execution_count": null,
	   "metadata": {
	    "collapsed": true
	   },
	   "outputs": [],
"source": [
"// example:-5.11,page no.-264.\n",
"// program to determine the amplitude of the forward and backward travelling TE10 modes and the input resistance.\n",
"syms Io a b x y z h1 e1 J P1 A1p A1m pi Z1 delta b1 j P Rin;\n",
"e1=sin(pi*x/a);  // in y direction.\n",
"h1=-sin(pi*x/a)/Z1; // in z direction.\n",
"P1=(2/Z1)*integ(integ(sin(pi*x/a)^2,x),y);\n",
"P1=limit(P1,x,a)-limit(P1,x,0);\n",
"P1=limit(P1,y,b)-limit(P1,y,0);\n",
"// taking sin(2*pi)=0. we get,\n",
"P1=a*b/Z1; \n",
"A1p=(-1/P1)*Io*y; // as for x,it will be one at x=a/2 and 1 for z at z=0;\n",
"A1p=limit(A1p,y,b)-limit(A1p,y,0);\n",
"A1m=(-1/P1)*Io*y; // as for x,it will be one at x=a/2 and 1 for z at z=0;\n",
"A1m=limit(A1m,y,b)-limit(A1m,y,0);\n",
"P=integ(integ(((A1p^2)/Z1)*sin(pi*x/a)^2,x),y);\n",
"P=limit(P,x,a)-limit(P,x,0);\n",
"P=limit(P,y,b)-limit(P,y,0);\n",
"// taking sin(2*pi)=0. we get,\n",
"P=(b*(Io^2)*Z1*pi)/(2*a*pi);\n",
"Rin=2*P/(Io^2);\n",
"disp(A1p,'amplitude of the forward travelling wave = ')\n",
"disp(A1m,'amplitude of the backward travelling wave = ')\n",
"disp(Rin,'input resistance seen by the probe = ')"
   ]
   }
,
{
		   "cell_type": "markdown",
		   "metadata": {},
		   "source": [
			"## Example 5.12: find_excitation_coefficient_of_forward_wave_TE10.sce"
		   ]
		  },
  {
"cell_type": "code",
	   "execution_count": null,
	   "metadata": {
	    "collapsed": true
	   },
	   "outputs": [],
"source": [
"// example:-5.12,page no.-265.\n",
"// program to find the excitation coefficient of the forward travelling TE10 mode.\n",
"syms M Pm uo w j a b Io x y z ro pi Z1 h1 A1p P1 no ko uo eo;\n",
"ko=w*sqrt(uo*eo);\n",
"no=sqrt(uo/eo);\n",
"h1=sin(pi*x/a)*(-1/Z1); // in x direction.\n",
"P1=(2/Z1)*integ(integ(sin(pi*x/a)^2,x),y);\n",
"P1=limit(P1,x,a)-limit(P1,x,0);\n",
"P1=limit(P1,y,b)-limit(P1,y,0);\n",
"// taking sin(2*pi)=0. we get,\n",
"P1=a*b/Z1; \n",
"Pm=Io*pi*(ro^2);  // defined at x=a/2,y=b/2 and z=0;\n",
"M=j*w*uo*Pm;\n",
"A1p=(1/P1)*(-(1/Z1)*M); \n",
"disp(A1p,'the forward wave excitation coefficient will be = ')\n",
"disp('!! NOTE:-replace w=sqrt(uo*eo) and no=sqrt(uo/eo),the answer will match !! ')\n",
"disp(' NOTE:- on integrating, x component will become one at x=a/2,y component will become one at y=b/2 and z component will become one at z=0.')"
   ]
   }
,
{
		   "cell_type": "markdown",
		   "metadata": {},
		   "source": [
			"## Example 5.1: program_to_find_equivalent_voltages_and_current.sce"
		   ]
		  },
  {
"cell_type": "code",
	   "execution_count": null,
	   "metadata": {
	    "collapsed": true
	   },
	   "outputs": [],
"source": [
"// example:-5.1,page no.-209.\n",
"//program to find the equivalent voltages and current.\n",
"syms a b A Zte V I C1 C2 P;\n",
"P=(a*b*A^2)/(4*Zte);\n",
"c=(1/2)*V*I;\n",
"d=(1/2)*(A^2)*C1*C2;\n",
"C1=sqrt((a*b)/2);  // on comparision.\n",
"C2=sqrt((a*b)/2)*Zte;  // on comparision.\n",
"c=[C1 C2];\n",
"disp(c)\n",
"disp('which completes the transmission line equivalence for the TE10 mode.')"
   ]
   }
,
{
		   "cell_type": "markdown",
		   "metadata": {},
		   "source": [
			"## Example 5.2: program_to_compute_reflection_coefficient.sce"
		   ]
		  },
  {
"cell_type": "code",
	   "execution_count": null,
	   "metadata": {
	    "collapsed": true
	   },
	   "outputs": [],
"source": [
"//example:-5.2,page no.-212.\n",
"//program to compute reflection coefficient.\n",
"a=0.03485;b=0.01580;eipsilao=8.854*10^-12;muo=4*%pi*10^-7;\n",
"f=4.5*10^9;\n",
"w=2*%pi*f;  // angular frequency.\n",
"// for z<0 region air filled.\n",
"eipsilar=2.56;  //for z>0 region.\n",
"ko=w*sqrt(muo*eipsilao);\n",
"k=ko*sqrt(eipsilar);\n",
"Ba=sqrt(ko^2-(%pi/a)^2); // propagation constant in air region z<0.\n",
"Bd=sqrt(k^2-(%pi/a)^2);  // propagation constant in dielectric region z>0.\n",
"Zoa=(ko*377)/Ba;\n",
"Zod=(ko*377)/Bd;\n",
"tao=(Zod-Zoa)/(Zod+Zoa);\n",
"disp(tao,'reflection coefficient')"
   ]
   }
,
{
		   "cell_type": "markdown",
		   "metadata": {},
		   "source": [
			"## Example 5.3: program_to_find_z_parameter_of_two_port_network.sce"
		   ]
		  },
  {
"cell_type": "code",
	   "execution_count": null,
	   "metadata": {
	    "collapsed": true
	   },
	   "outputs": [],
"source": [
"//example:-5.3,page no.-220.\n",
"// program to find the z parameter of the two port network.\n",
"syms Z11 Z12 Z22 Z21 V1 I1 V2 I2 Za Zb Zc;\n",
"Z11=Za+Zc;  // for I2=0.\n",
"Z12=(Zc/(Zb+Zc))*(Zb+Zc);  //for I1=0.\n",
"Z21=(Zc/(Za+Zc))*(Za+Zc);  // for I2=0.\n",
"Z22=Zb+Zc;   //for I1=0.\n",
"Z=[Z11 Z12;Z21 Z22];  // z-parameter matrix.\n",
"disp(Z,'Z-parameter of two port network = ')"
   ]
   }
,
{
		   "cell_type": "markdown",
		   "metadata": {},
		   "source": [
			"## Example 5.4: program_to_find_the_s_parameter_of_3_dB_attenuator.sce"
		   ]
		  },
  {
"cell_type": "code",
	   "execution_count": null,
	   "metadata": {
	    "collapsed": true
	   },
	   "outputs": [],
"source": [
"// example:-5.4,page no.-221.\n",
"// program to find the s-parameter of 3-dB attenuator circuit.\n",
"Za=8.56;Zb=8.56,Zc=141.8;Zo=50;\n",
"S11=(((((Zo+Zb)*Zc)/(Zo+Zb+Zc))+Za)-Zo)/(((((Zo+Zb)*Zc)/(Zo+Zb+Zc))+Za)+Zo);  // reflection coefficient seen at port 1.\n",
"S22=(((((Zo+Za)*Zc)/(Zo+Za+Zc))+Zb)-Zo)/(((((Zo+Za)*Zc)/(Zo+Za+Zc))+Zb)+Zo);  // reflection coefficient seen at port 2.\n",
"S12=(((1/((((Zo+Za)*Zc)/(Zo+Za+Zc))+Zb))*(((Zo+Za)*Zc)/(Zo+Za+Zc)))*(Zo/(Zo+Za)));  // transmission coefficient from port 2 to 1.\n",
"S21=(((1/((((Zo+Zb)*Zc)/(Zo+Zb+Zc))+Za))*(((Zo+Zb)*Zc)/(Zo+Zb+Zc)))*(Zo/(Zo+Zb)));  // transmission coefficient from port 1 to 2.\n",
"S=[S11 S12;S21 S22];  // s-parameter matrix.\n",
"disp(S,'S-parameter of 3-db attenuator circuit is =')"
   ]
   }
,
{
		   "cell_type": "markdown",
		   "metadata": {},
		   "source": [
			"## Example 5.5: program_to_determine_reciprccity_and_losslessness.sce"
		   ]
		  },
  {
"cell_type": "code",
	   "execution_count": null,
	   "metadata": {
	    "collapsed": true
	   },
	   "outputs": [],
"source": [
"//example:-5.5,page no.-226.\n",
"//program to determine the reciprccity and lossless of two port network and find return loss.\n",
"syms S Rl tao;\n",
"S=[0.1 0.8*%i;0.8*%i 0.2]; // s-parameter matrix.\n",
"if (S(1,2)==S(2,1))\n",
"  disp('the network is reciprocal.')\n",
"else\n",
"  disp('the network is not reciprocal.')\n",
"end\n",
"if (S(1,1)^2+S(1,2)^2==1)\n",
"  disp('the network is lossless.')\n",
"else\n",
"  disp('the network is lossy.')\n",
"end\n",
"tao=S(1,1)-(S(1,2)*S(2,1))/(1+S(2,2));  //input reflection coefficient.\n",
"Rl=-20*log10(abs(tao));  // return loss in dB.\n",
"//result\n",
"disp(Rl,'return loss at port 1 in dB=')"
   ]
   }
,
{
		   "cell_type": "markdown",
		   "metadata": {},
		   "source": [
			"## Example 5.6: program_to_find_ABCD_parameter_of_two_port_network.sce"
		   ]
		  },
  {
"cell_type": "code",
	   "execution_count": null,
	   "metadata": {
	    "collapsed": true
	   },
	   "outputs": [],
"source": [
"// example:-5.6,page no.-232.\n",
"//program to find the ABCD parameter of a two-port network.\n",
"syms A B C D V1 V2 I1 I2 Z;\n",
"//A=V1/V2;  // for i2=0;\n",
"A=1;\n",
"B=V1/(V1/Z);\n",
"C=0;\n",
"D=I1/I1;\n",
"ABCD=[A B;C D];\n",
"// result\n",
"disp(ABCD,'abcd parameter')"
   ]
   }
,
{
		   "cell_type": "markdown",
		   "metadata": {},
		   "source": [
			"## Example 5.7: program_to_find_admittance_matrix_for_bridge_T.sce"
		   ]
		  },
  {
"cell_type": "code",
	   "execution_count": null,
	   "metadata": {
	    "collapsed": true
	   },
	   "outputs": [],
"source": [
"// example:-5.7,page no.-238.\n",
"// program to find the admittance matrix for bridge-T network.\n",
"syms Za Z1 Z2 Z3 Y Ya Yb D;\n",
"Za=[Z1+Z2 Z2;Z2 Z1+Z2];\n",
"Yb=[1/Z3 -1/Z3;-1/Z3 1/Z3];\n",
"Y1=1/Z1;Y2=1/Z2;\n",
"Ya=1/Za;\n",
"Y=Ya+Yb;\n",
"D=((Z2+Z1)^2-Z2^2);\n",
"// result\n",
"disp(Y,'admittance matrix for bridge-T network=')"
   ]
   }
,
{
		   "cell_type": "markdown",
		   "metadata": {},
		   "source": [
			"## Example 5.8: program_to_compute_power_gains.sce"
		   ]
		  },
  {
"cell_type": "code",
	   "execution_count": null,
	   "metadata": {
	    "collapsed": true
	   },
	   "outputs": [],
"source": [
"// example:-5.8,page no.-243.\n",
"//program to compute power gains.\n",
"f=10^10;Zs=20;Zl=30;Zo=50;\n",
"S=[-0.39+%i*0.225 0.009848+%i*-0.001736;2.02+0.356*%i -0.3464-%i*0.2];\n",
"taos=(Zs-Zo)/(Zs+Zo);\n",
"taol=(Zl-Zo)/(Zl+Zo);\n",
"taoin=S(1,1)+((S(1,2)*S(2,1)*taol)/(1-S(2,2)*taol));\n",
"taoout=S(2,2)+((S(1,2)*S(2,1)*taos)/(1-S(1,1)*taos));\n",
"Ga=(abs(S(2,1)^2)*(1-abs(taos)^2))/((abs(1-S(1,1)*taos)^2)*(1-abs(taoout)^2));\n",
"Gt=(abs(S(2,1)^2)*(1-abs(taos)^2)*(1-abs(taol)^2))/((abs(1-S(2,2)*taol)^2)*abs(1-taos*taoin)^2);\n",
"G=(abs(S(2,1)^2)*(1-abs(taol)^2))/((abs(1-S(2,2)*taol)^2)*(1-abs(taoin)^2));\n",
"disp(G,'actual power gain=')\n",
"disp(Ga,'the available power gain=')\n",
"disp(Gt,'the transducer power gain=')\n",
"disp(taoin,'reflection coefficient looking at port 1=')\n",
"disp(taoout,'reflection coefficient looking at port 2=')\n",
"disp(taos,'reflection coefficient at the source=')\n",
"disp(taol,'reflection coefficient at the load=')"
   ]
   }
,
{
		   "cell_type": "markdown",
		   "metadata": {},
		   "source": [
			"## Example 5.9: program_to_derive_the_expression_for_taoin.sce"
		   ]
		  },
  {
"cell_type": "code",
	   "execution_count": null,
	   "metadata": {
	    "collapsed": true
	   },
	   "outputs": [],
"source": [
"// example:-5.9,page no.-248.\n",
"// program to derive the expression for taoin.\n",
"syms S S11 S22 S12 S21 taol taoin a1 a2 b1 b2 a b;\n",
"S=[S11 S12;S21 S22];\n",
"b=[b1;b2];\n",
"a=[a1;a2];\n",
"b=S*a;\n",
"disp(b)\n",
"//so, S11 will be the reflection coefficient i.e taoin.\n",
"taoin=S11+((S21*S12*taol)/(1-S22*taol));\n",
"// result\n",
"disp(taoin,'the expression for taoin will be=')"
   ]
   }
],
"metadata": {
		  "kernelspec": {
		   "display_name": "Scilab",
		   "language": "scilab",
		   "name": "scilab"
		  },
		  "language_info": {
		   "file_extension": ".sce",
		   "help_links": [
			{
			 "text": "MetaKernel Magics",
			 "url": "https://github.com/calysto/metakernel/blob/master/metakernel/magics/README.md"
			}
		   ],
		   "mimetype": "text/x-octave",
		   "name": "scilab",
		   "version": "0.7.1"
		  }
		 },
		 "nbformat": 4,
		 "nbformat_minor": 0
}
