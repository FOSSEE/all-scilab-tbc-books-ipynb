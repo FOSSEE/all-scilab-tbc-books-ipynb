{
"cells": [
 {
		   "cell_type": "markdown",
	   "metadata": {},
	   "source": [
       "# Chapter 11: ACTIVE MICROWAVE CIRCUITS"
	   ]
	},
{
		   "cell_type": "markdown",
		   "metadata": {},
		   "source": [
			"## Example 11.10: program_to_design_a_transistor_oscillator.sce"
		   ]
		  },
  {
"cell_type": "code",
	   "execution_count": null,
	   "metadata": {
	    "collapsed": true
	   },
	   "outputs": [],
"source": [
"//example:11.10,page no.-637.\n",
"// program to design a transistor oscillator at 4 GHZ using a GaAs FET in common gate configuration.\n",
"s11=2.18*expm(%i*(-35)*%pi/180);\n",
"s21=2.75*expm(%i*(96)*%pi/180);\n",
"s12=1.26*expm(%i*(18)*%pi/180);\n",
"s22=0.52*expm(%i*(155)*%pi/180);// all are s parameter that are applicable for transistor in common gate configuration with aseries inductor.\n",
"delta=s12*s21-s11*s22;\n",
"Ct=conj(s22-delta*conj(s11));\n",
"Rt=abs((s12*s21)/(abs(s22)^2-abs(delta)^2))\n",
"taot=0.59*expm(%i*(-104)*%pi/180);\n",
"taoin=s11+(s12*s21*taot)/(1-s22*taot);\n",
"[mag_taoin,theta_taoin]=polar(taoin)\n",
"Zin=((1+taoin)/(1-taoin))*Zo;\n",
"Zl=-(real(Zin)/3)-(%i*imag(Zin));\n",
"disp([mag_taoin,theta_taoin])\n",
"disp(Zl,'the load impedence will be = ')"
   ]
   }
,
{
		   "cell_type": "markdown",
		   "metadata": {},
		   "source": [
			"## Example 11.11: obtain_the_greatest_ratio_of_off_to_on_attenuation.sce"
		   ]
		  },
  {
"cell_type": "code",
	   "execution_count": null,
	   "metadata": {
	    "collapsed": true
	   },
	   "outputs": [],
"source": [
"//example:-11.11,page no.-642.\n",
"// program to obtain the greatest ratio of  off to on attenuation.\n",
"Cj=0.1*10^-12;Rr=1;Rf=5;Li=0.4*10^-9;f=5*10^9;Zo=50;\n",
"w=2*%pi*f;\n",
"Zr=Rr+%i*((w*Li)-(1/(w*Cj)));\n",
"Zf=Rf+(%i*w*Li);\n",
"// for series circuit.\n",
"ILon=-20*log10(abs((2*Zo)/(2*Zo+Zf)));\n",
"ILoff=-20*log10(abs((2*Zo)/(2*Zo+Zr)));\n",
"// for shunt circuit.\n",
"ILon1=-20*log10(abs((2*Zr)/(2*Zr+Zo)));\n",
"ILoff1=-20*log10(abs((2*Zf)/(2*Zf+Zo)));\n",
"disp(ILon,'for series circuit = ')\n",
"disp(ILoff,'for series circuit = ')\n",
"disp(ILon1,'for shunt circuit = ')\n",
"disp(ILoff1,'for shunt circuit = ')"
   ]
   }
,
{
		   "cell_type": "markdown",
		   "metadata": {},
		   "source": [
			"## Example 11.1: determine_equivalent_noise_temperature_of_amplifie.sce"
		   ]
		  },
  {
"cell_type": "code",
	   "execution_count": null,
	   "metadata": {
	    "collapsed": true
	   },
	   "outputs": [],
"source": [
"// example:-11.1,page no.-589.\n",
"// program to determine the equivalent noise temperature of the amplifier.\n",
"T1=290;P1=-62;G=100;B=10^9;k=1.38*10^-23;\n",
"T2=77;P2=-64.7;Ts=450;\n",
"Y=P1-P2;  // Y-factor in db.\n",
"Y=10^0.27;\n",
"Te=(T1-Y*T2)/(Y-1);\n",
"Po=G*k*B*(Ts+Te);\n",
"Po=10*log10(Po/0.001); /// converting in to dBm.\n",
"disp(Te,'the equivalent noise temperature in kelwin = ')\n",
"disp(Po,'the total noise power out of the amplifier in dBm will be = ')"
   ]
   }
,
{
		   "cell_type": "markdown",
		   "metadata": {},
		   "source": [
			"## Example 11.2: find_the_dynamic_range_of_the_amplifier.sce"
		   ]
		  },
  {
"cell_type": "code",
	   "execution_count": null,
	   "metadata": {
	    "collapsed": true
	   },
	   "outputs": [],
"source": [
"//example:-11.2,page no.-591.\n",
"// program to find the dynamic range of the amplifier.\n",
"G=20;F=3.5; // in db.\n",
"k=1.38*10^-23;To=290;B=2*10^9;\n",
"// output noise power => No=G*F*k*To*B.so in dbm it will be-\n",
"No=20+3.5+10*log10((k*To*B)/0.001);\n",
"DR=10-No;\n",
"disp(DR,'the dynamic range in dB = ')"
   ]
   }
,
{
		   "cell_type": "markdown",
		   "metadata": {},
		   "source": [
			"## Example 11.3: program_to_calculate_the_noise_figure.sce"
		   ]
		  },
  {
"cell_type": "code",
	   "execution_count": null,
	   "metadata": {
	    "collapsed": true
	   },
	   "outputs": [],
"source": [
"// example:-11.3,page no.-593.\n",
"// program to calculate the noise figure ig anteena is replaced by amplifier.\n",
"L=10^0.2;T=300;To=290;Te=150;\n",
"Fl=1+(L-1)*(T/To);\n",
"Fld=10*log10(Fl); // converting in to dBm.\n",
"Fa=1+(Te/To)\n",
"Fad=10*log10(Fa);// converting in to dBm.\n",
"Fcas=Fl+L*(Fa-1);\n",
"Fcasd=10*log10(Fcas);// converting in to dBm.\n",
"disp(Fcasd,'the noise figure of the cascade in dB = ')\n",
"disp(Fad,'the noise figure of the amplifier in dB = ')\n",
"disp(Fld,'the noise figure of the line in dB = ')"
   ]
   }
,
{
		   "cell_type": "markdown",
		   "metadata": {},
		   "source": [
			"## Example 11.4: calculate_the_impedence_of_the_diode.sce"
		   ]
		  },
  {
"cell_type": "code",
	   "execution_count": null,
	   "metadata": {
	    "collapsed": true
	   },
	   "outputs": [],
"source": [
"//example:-11.4,page no.-596.\n",
"//program to calculate the impedence of the diode.\n",
"Cp=0.1*10^-12;Lp=2*10^-9;Cj=0.15*10^-12;Rs=10;Is=0.1*10^(-6);\n",
"Io1=0;Io2=60*10^(-6);alpha=(1/25)*(10^3);\n",
"R1j=1/(alpha*(Io1+Is)); // for Io=0.\n",
"R2j=1/(alpha*(Io2+Is)); // for Io=60 mA.\n",
"disp(R1j,'junction resistance for Io=0, in ohm = ')\n",
"disp(R2j,'junction resistance for Io=0, in ohm = ')"
   ]
   }
,
{
		   "cell_type": "markdown",
		   "metadata": {},
		   "source": [
			"## Example 11.5: determine_the_stability_of_the_transistor.sce"
		   ]
		  },
  {
"cell_type": "code",
	   "execution_count": null,
	   "metadata": {
	    "collapsed": true
	   },
	   "outputs": [],
"source": [
"//example:-11.5,page no.-617.\n",
"//program to determine the stability of the transistor by calculating k and |delta|.\n",
"s11=0.894*expm(%i*(-60.6)*%pi/180);\n",
"s21=3.122*expm(%i*(123.6)*%pi/180);\n",
"s12=0.02*expm(%i*(62.4)*%pi/180);\n",
"s22=0.781*expm(%i*(-27.6)*%pi/180);\n",
"delta=(s11*s22)-(s12*s21);\n",
"[mag_delta,theta_delta]=polar(delta);\n",
"k=(1+(abs(delta)^2)-(abs(s11)^2)-(abs(s22)^2))/(2*abs(s12*s21));\n",
"Cl=conj(s22-delta*conj(s11))/(abs(s22)^2-abs(delta)^2);\n",
"[mag_Cl,theta_Cl]=polar(Cl);\n",
"Rl=abs(s12*s21)/(abs(s22)^2-abs(delta)^2);\n",
"Cs=conj(s11-delta*conj(s22))/(abs(s11)^2-abs(delta)^2);\n",
"[mag_Cs,theta_Cs]=polar(Cs);\n",
"Rs=abs(s12*s21)/(abs(s11)^2-abs(delta)^2);\n",
"disp([mag_Cl,theta_Cl])\n",
"disp([mag_Cs,theta_Cs])\n",
"disp(Rl)\n",
"disp(Rs)\n",
"disp('NOTE:-theta is in radian')"
   ]
   }
,
{
		   "cell_type": "markdown",
		   "metadata": {},
		   "source": [
			"## Example 11.6: design_an_amplifier_for_maximum_gain.sce"
		   ]
		  },
  {
"cell_type": "code",
	   "execution_count": null,
	   "metadata": {
	    "collapsed": true
	   },
	   "outputs": [],
"source": [
"// example:11.6,page no.-620.\n",
"// program to design an amplifier for maximum gain at 4 GHZ using single stub matching section.\n",
"s11=0.72*expm(%i*(-116)*%pi/180);\n",
"s22=0.73*expm(%i*(-54)*%pi/180);\n",
"s12=0.03*expm(%i*(57)*%pi/180);\n",
"s21=2.6*expm(%i*(76)*%pi/180);\n",
"delta=(s11*s22)-(s12*s21)\n",
"k=(1+(abs(delta)^2)-(abs(s11)^2)-(abs(s22)^2))/(2*abs(s12*s21))\n",
"B1=1-(abs(delta)^2)+(abs(s11)^2)-(abs(s22)^2);\n",
"B2=1-(abs(delta)^2)-(abs(s11)^2)+(abs(s22)^2);\n",
"C1=s11-delta*conj(s22);\n",
"C2=s22-delta*conj(s11);\n",
"taos=(B1-sqrt(B1^2-4*abs(C1)^2))/(2*C1);\n",
"[mag_taos,theta_taos]=polar(taos);\n",
"taol=(B2-sqrt(B2^2-4*abs(C2)^2))/(2*C2);\n",
"[mag_taol,theta_taol]=polar(taol);\n",
"Gs=1/(1-abs(taos)^2);\n",
"Gs=10*log10(Gs);\n",
"Go=abs(s21)^2;\n",
"Go=10*log10(Go);\n",
"Gl=(1-abs(taol)^2)/(abs(1-s22*taol)^2);\n",
"Gl=10*log10(Gl);\n",
"Gtmax=Gs+Go+Gl;\n",
"disp(Gs,'Gs = ')\n",
"disp(Go,'Go = ')\n",
"disp(Gl,'Gl = ')\n",
"disp(Gtmax,'the over all transducer gain in dB will be = ')\n",
"Gs=1/(1-abs(taos)^2);\n",
"Gs=10*log10(Gs);"
   ]
   }
,
{
		   "cell_type": "markdown",
		   "metadata": {},
		   "source": [
			"## Example 11.7: design_an_amplifier_to_have_a_gain_of_11_dB.sce"
		   ]
		  },
  {
"cell_type": "code",
	   "execution_count": null,
	   "metadata": {
	    "collapsed": true
	   },
	   "outputs": [],
"source": [
"// example:-11.7,page no.-625.\n",
"// program to design an amplifier to have a gain of 11 dB at 4 GHZ.\n",
"s11=0.75*expm(%i*(-120)*%pi/180);\n",
"s21=2.5*expm(%i*(80)*%pi/180);\n",
"s12=0;\n",
"s22=0.6*expm(%i*(-70)*%pi/180);\n",
"Gsmax=1/(1-abs(s11)^2);\n",
"Gsmax=10*log10(Gsmax);\n",
"Glmax=1/(1-abs(s22)^2);\n",
"Glmax=10*log10(Glmax);\n",
"Go=abs(s21)^2;\n",
"Go=10*log10(Go);\n",
"Gtumax=Gsmax+Glmax+Go;\n",
"disp(Gsmax,'the maximum matching section gain in dB = ')\n",
"disp(Glmax,'the maximum matching section gain in dB = ')\n",
"disp(Go,'the gain of the mismatched transistor in dB = ')\n",
"disp(Gtumax,'the maximum unilateral transducer gain in dB = ')"
   ]
   }
,
{
		   "cell_type": "markdown",
		   "metadata": {},
		   "source": [
			"## Example 11.8: calculate_maximum_error_in_Gt_and_design_amplifier.sce"
		   ]
		  },
  {
"cell_type": "code",
	   "execution_count": null,
	   "metadata": {
	    "collapsed": true
	   },
	   "outputs": [],
"source": [
"// example:-11.8,page no.-629.\n",
"// program to maximum error in Gt and design an amplifier having a 2 dB noise figure with the maximum gain that is compatible with the noise figure.\n",
"s11=0.6*expm(%i*(-60)*%pi/180);\n",
"s21=1.9*expm(%i*(81)*%pi/180);\n",
"s12=0.05*expm(%i*(26)*%pi/180);\n",
"s22=0.5*expm(%i*(-60)*%pi/180);\n",
"Fmin=1.6;F=1.58;Zo=50;\n",
"Fmin1=10^0.16\n",
"tao_opt=0.62*expm(%i*(100)*%pi/180);\n",
"atan(imag(tao_opt)/real(tao_opt))\n",
"Rn=20;\n",
"U=abs(s12*s21*s11*s22)/((1-abs(s11)^2)*(1-abs(s22)^2));\n",
"x=1/(1+U)^2;\n",
"y=1/(1-U)^2;\n",
"disp('x<(Gt/Gtu)<y')\n",
"N=(((F-Fmin1)*Zo)/(4*Rn))*abs(1+tao_opt)^2\n",
"Cf=tao_opt/(N+1);\n",
"[mag_Cf,theta_Cf]=polar(Cf);\n",
"Rf=sqrt(N*(N+1-abs(tao_opt)^2))/(N+1);\n",
"disp(N,'N = ')\n",
"disp([mag_Cf,theta_Cf],'center of the 2 db noise figure circle = ')\n",
"disp(Rf,'the radius of the 2 dB noise figure circle = ')\n",
"Gl=1/(1-abs(s22)^2);\n",
"Gl=10*log10(Gl);\n",
"Go=abs(s21)^2;\n",
"Go=10*log10(Go);\n",
"Gs=1.7; // all Gl,Go,Gtu are in dB.\n",
"Gtu=Gs+Go+Gl;\n",
"disp(Gtu,'the over all transducer gain in db will be = ')"
   ]
   }
,
{
		   "cell_type": "markdown",
		   "metadata": {},
		   "source": [
			"## Example 11.9: design_a_load_matching_network.sce"
		   ]
		  },
  {
"cell_type": "code",
	   "execution_count": null,
	   "metadata": {
	    "collapsed": true
	   },
	   "outputs": [],
"source": [
"// example:-11.9,page no.-635.\n",
"// program to design a load matching network for a 50 ohm load impedence.\n",
"Zo=50;f=6*10^9;taoin=1.25*expm(%i*(40)*%pi/180);\n",
"Zin=((1+taoin)/(1-taoin))*Zo;\n",
"Zl=-Zin;\n",
"disp(Zl,'the load impedence = ')"
   ]
   }
],
"metadata": {
		  "kernelspec": {
		   "display_name": "Scilab",
		   "language": "scilab",
		   "name": "scilab"
		  },
		  "language_info": {
		   "file_extension": ".sce",
		   "help_links": [
			{
			 "text": "MetaKernel Magics",
			 "url": "https://github.com/calysto/metakernel/blob/master/metakernel/magics/README.md"
			}
		   ],
		   "mimetype": "text/x-octave",
		   "name": "scilab",
		   "version": "0.7.1"
		  }
		 },
		 "nbformat": 4,
		 "nbformat_minor": 0
}
