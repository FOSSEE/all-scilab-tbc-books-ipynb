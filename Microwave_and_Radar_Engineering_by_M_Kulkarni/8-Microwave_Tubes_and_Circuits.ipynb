{
"cells": [
 {
		   "cell_type": "markdown",
	   "metadata": {},
	   "source": [
       "# Chapter 8: Microwave Tubes and Circuits"
	   ]
	},
{
		   "cell_type": "markdown",
		   "metadata": {},
		   "source": [
			"## Example 8.10: electron_velocity_and_etc.sce"
		   ]
		  },
  {
"cell_type": "code",
	   "execution_count": null,
	   "metadata": {
	    "collapsed": true
	   },
	   "outputs": [],
"source": [
"//chapter-8 page 344 example 8.10\n",
"//==============================================================================\n",
"clc;\n",
"clear;\n",
"\n",
"//For a 2 cavity klystron amplifier\n",
"V0=900;//Beam voltage in V\n",
"I0=0.03;//Beam current in A\n",
"f=8*10^9;//frequency in Hz\n",
"d=0.001;//gap spacing in either cavity in m\n",
"L=0.04;//spacing between centers of cavities in m\n",
"Rsh=40000;//Effective shunt impedance in ohms\n",
"y=0.582;//value of J1(X)\n",
"X=1.841;\n",
"\n",
"//CALCULATION\n",
"v0=(0.593*sqrt(V0)*10^6)/10^7;//The electron velocity in 10^7 m/sec\n",
"v=v0*10^7;\n",
"t0=(d/v)/10^(-10);//Transit time in 10^(-10) sec\n",
"t=t0*10^(-10);\n",
"a=2*(%pi)*f*t;//Gap transit angle in rad\n",
"Bi=(sin(a/2))/(a/2);//Beam coupling coefficient\n",
"Bo=Bi;\n",
"to=(2*(%pi)*f*L)/v;//dc transit angle in rad\n",
"disp('For maximum outout voltage,V2  J1(X)=0.582,X=1.841');\n",
"V1=((2*V0*X)/(Bo*to))//The input voltage for maximum output voltage in V\n",
"Ro=(V0/I0);\n",
"Av=((Bo^2*to*y*Rsh)/(Ro*X));//Voltage gain\n",
"AvdB=10*log10(Av);//Voltage gain in dB\n",
"\n",
"//OUTPUT\n",
"mprintf('\nThe electron velocity is v0=%1.1f *10^7 m/sec \nThe dc electron Transit time is t0=%1.2f *10^(-10) sec \nThe input voltage for maximum output voltage is V1=%2.2f V \nVoltage gain is Av=%2.2f \nVoltage gain in dB is AvdB=%2.2f dB',v0,t0,V1,Av,AvdB);\n",
"\n",
"//=========================END OF PROGRAM==============================="
   ]
   }
,
{
		   "cell_type": "markdown",
		   "metadata": {},
		   "source": [
			"## Example 8.11: dc_electron_velocity_and_etc.sce"
		   ]
		  },
  {
"cell_type": "code",
	   "execution_count": null,
	   "metadata": {
	    "collapsed": true
	   },
	   "outputs": [],
"source": [
"//chapter-8 page 345 example 8.11\n",
"//==============================================================================\n",
"clc;\n",
"clear;\n",
"\n",
"//For a four cavity Klystron\n",
"V0=20000;//Beam voltage in V\n",
"I=2;//Beam current in A\n",
"f=9*10^9;//Operation frequency in Hz\n",
"p0=10^(-6);//dc electron charge density in C/m^3\n",
"p=10^(-8);//RF charge density in C/m^3\n",
"V=10^5;//Velocity perturbations in m/sec\n",
"e0=8.854*10^(-12);//Permittivity of free space in F/m\n",
"R=0.5;\n",
"\n",
"//CALCULATION\n",
"v0=(0.593*10^6*sqrt(V0))/1000;//The dc electron velocity in Km/sec\n",
"w=2*(%pi)*f;//angular frequency in rad/sec\n",
"v=v0*1000;\n",
"c=(w/v);//The dc Phase Constant\n",
"wp=(sqrt(1.759*10^11*(p0/e0)))/10^8;//The Plasma Frequency in 10^8 rad/sec\n",
"wp1=wp*10^8;\n",
"wq=(R*wp1)/10^8;//The Reduced Plasma Frequency in 10^8 rad/sec\n",
"J0=p0*v;//The dc beam current density in A/sqm\n",
"J=(p*v)-(p0*V);//The instantaneous beam current density in A/sqm\n",
"\n",
"//OUTPUT\n",
"mprintf('\nThe dc electron velocity is v0=%4.2f Km/sec \nThe dc Phase Constant is c=%3.2f rad/sec\nThe Plasma Frequency is wp=%1.2f *10^8 rad/sec \nThe Reduced Plasma Frequency is wq=%1.3f *10^8 rad/sec \nThe dc beam current density is J0=%2.2f A/sqm \nThe instantaneous beam current density is J=%1.4f A/sqm',v0,c,wp,wq,J0,J);\n",
"\n",
"//=========================END OF PROGRAM==============================="
   ]
   }
,
{
		   "cell_type": "markdown",
		   "metadata": {},
		   "source": [
			"## Example 8.12: gap_transit_angle.sce"
		   ]
		  },
  {
"cell_type": "code",
	   "execution_count": null,
	   "metadata": {
	    "collapsed": true
	   },
	   "outputs": [],
"source": [
"//chapter-8 page 345 example 8.12\n",
"//==============================================================================\n",
"clc;\n",
"clear;\n",
"\n",
"//For a reflex klystron \n",
"f=5*10^9;//Frequency of operation in hz\n",
"V0=1000;//anode voltage in V\n",
"d=0.002;//cavity gap in m\n",
"Vr=-500;//repeller voltage in V\n",
"\n",
"//CALCULATION \n",
"N=7/4;//mode value\n",
"VR=abs(Vr);\n",
"L=(((VR+V0)*N)/(6.74*10^(-6)*f*sqrt(V0)))/10^(-3);//Optimum length of the drift region in mm\n",
"u=5.93*10^5*sqrt(V0);// in m/sec\n",
"w=2*(%pi)*f;//angular frequency in rad\n",
"Tg=(w*d)/u;//Gap transit angle in rad\n",
"\n",
"//OUTPUT\n",
"mprintf('\nOptimum length of the drift region is L=%1.3f mm \nGap transit angle is Tg=%1.3f rad',L,Tg);\n",
"\n",
"//=========================END OF PROGRAM==============================="
   ]
   }
,
{
		   "cell_type": "markdown",
		   "metadata": {},
		   "source": [
			"## Example 8.13: efficiency_and_etc.sce"
		   ]
		  },
  {
"cell_type": "code",
	   "execution_count": null,
	   "metadata": {
	    "collapsed": true
	   },
	   "outputs": [],
"source": [
"//chapter-8 page 346 example 8.13\n",
"//==============================================================================\n",
"clc;\n",
"clear;\n",
"\n",
"//For a 2 cavity klystron amplifier\n",
"V0=1200;//Beam voltage in V\n",
"I0=0.03;//Beam current in A\n",
"f=10*10^9;//frequency in Hz\n",
"d=0.001;//gap spacing in either cavity in m\n",
"L=0.04;//spacing between centers of cavities in m\n",
"Rsh=40000;//Effective shunt impedance in ohms\n",
"J1=0.582;//value of J1(X)\n",
"X=1.841;//bunching parameter\n",
"\n",
"//CALCULATION\n",
"v0=0.593*10^6*sqrt(V0);//velocity of reference electron in m/sec\n",
"w=2*(%pi)*f;//angular frequency in rad\n",
"a=w*L/v0;//transit angle without RF voltage in rad\n",
"tg=a*d/L;//average gap transit angle in rad\n",
"Bi=(sin(tg/2))/(tg/2);//beam coupling coefficient \n",
"V1max=((2*X*V0)/(Bi*a));//Input RF voltage for Maximum output voltage in V\n",
"B0=Bi;//output cavity coupling coefficient \n",
"V2=2*B0*I0*J1*Rsh;//in V\n",
"Av=V2/V1max;//Voltage gain \n",
"AvdB=20*log10(Av);//Voltage gain in dB\n",
"n=0.58*(V2/V0)*100;//Maximum efficiency in %\n",
"\n",
"//OUTPUT\n",
"mprintf('\nInput RF voltage for Maximum output voltage is V1max=%2.2f V \nThe Voltage gain is AvdB=%2.2f dB \nMaximum efficiency is I0=%2.2f percentage',V1max,AvdB,n);\n",
"\n",
"//=========================END OF PROGRAM===============================\n",
"\n",
"//Note: Check the answers once \n",
"//There are slight changes in values\n",
"//Input RF voltage for Maximum output voltage is V1max=55.28 V \n",
"//The Voltage gain is AvdB=24.35 dB \n",
"//Maximum efficiency is I0=44.11 percentage "
   ]
   }
,
{
		   "cell_type": "markdown",
		   "metadata": {},
		   "source": [
			"## Example 8.14: cyclotron_angular_frequency_and_etc.sce"
		   ]
		  },
  {
"cell_type": "code",
	   "execution_count": null,
	   "metadata": {
	    "collapsed": true
	   },
	   "outputs": [],
"source": [
"//chapter-8 page 347 example 8.14\n",
"//==============================================================================\n",
"clc;\n",
"clear;\n",
"\n",
"//For aa X-band cylindrical magnetron\n",
"a=0.04;//inner radius in m\n",
"b=0.08;//outer radius in m\n",
"B=0.01;//magnetic flux density in Wb/sqm\n",
"x=1.759*10^11;//Value of e/m in C/kg\n",
"V=30000;//beam voltage in V\n",
"\n",
"//CALCULATION\n",
"w=(x*B)/10^9;//Cyclotron angular frequency in 10^9 rad/sec\n",
"VHC=((x/8)*(B^2)*(b^2)*(1-(a/b)^2)^2)/1000;//Hull cut-off voltage in kV\n",
"Bc=((sqrt(8*(V/x)))/(b*(1-(a/b)^2)))*1000;//Cut-off magnetic flux density in mWb/sqm\n",
"\n",
"//OUTPUT\n",
"mprintf('\nCyclotron angular frequency is w=%1.3f *10^9 rad/sec \nHull cut-off voltage is VHC=%1.4f kV \nCut-off magnetic flux density is Bc=%2.3f mWb/sqm',w,VHC,Bc);\n",
"\n",
"//=========================END OF PROGRAM==============================="
   ]
   }
,
{
		   "cell_type": "markdown",
		   "metadata": {},
		   "source": [
			"## Example 8.15: efficiency_and_etc.sce"
		   ]
		  },
  {
"cell_type": "code",
	   "execution_count": null,
	   "metadata": {
	    "collapsed": true
	   },
	   "outputs": [],
"source": [
"//chapter-8 page 348 example 8.15\n",
"//==============================================================================\n",
"clc;\n",
"clear;\n",
"\n",
"//For a reflex klystron \n",
"n=2;//peak mode value\n",
"V0=280;//beam voltage in V\n",
"I0=0.022;//beam current in A\n",
"Vs=30;//signal voltage in V\n",
"J1=1.25;//bessel coefficient for n=2\n",
"\n",
"//CALCULATION\n",
"Pdc=V0*I0;//The input power in watts\n",
"Pac=((2*Pdc*J1)/((2*n*(%pi))-((%pi)/2)));//The output power in watts\n",
"n=(Pac/Pdc)*100;//Efficiency in percentage\n",
"\n",
"//OUTPUT\n",
"mprintf('\nThe input power is Pdc=%1.2f watts \nThe output power is Pac=%1.1f watts \nEfficiency is n=%2.2f percentage',Pdc,Pac,n);\n",
"\n",
"//=========================END OF PROGRAM===============================\n",
""
   ]
   }
,
{
		   "cell_type": "markdown",
		   "metadata": {},
		   "source": [
			"## Example 8.16: repeller_voltage_and_etc.sce"
		   ]
		  },
  {
"cell_type": "code",
	   "execution_count": null,
	   "metadata": {
	    "collapsed": true
	   },
	   "outputs": [],
"source": [
"//chapter-8 page 348 example 8.16\n",
"//==============================================================================\n",
"clc;\n",
"clear;\n",
"\n",
"//For a reflex klystron \n",
"n=2;//peak mode value\n",
"V0=300;//beam voltage in V\n",
"Rsh=20000;//Shunt resistance in ohms\n",
"L=0.001;//distance in m\n",
"J1=0.582;//bessel coefficient value [JI(X')]\n",
"f=8*10^(9);////Operation frequency in Hz\n",
"V1=200;//RF gap voltage in V\n",
"x=1.759*10^11;//e/m value in C/kg\n",
"\n",
"//CALCULATION\n",
"disp('Assume the gap transit time and beam loading are neglected');\n",
"w=2*(%pi)*f;//angular frequency in rad\n",
"VR=(V0+((sqrt(8*V0/x)*w*L)/((2*(%pi)*n)-((%pi)/2))));//Repeller voltage in V\n",
"disp('Assuming output coupling coefficient Bo=1');\n",
"I0=(V1/(2*J1*Rsh))/10^(-3);//Beam current necessary to obtain an RF gap voltafe of 200V in mA\n",
"\n",
"//OUTPUT\n",
"mprintf('\nThe Repeller voltage is VR=%3.2f V \nBeam current necessary to obtain an RF gap voltafe of 200V is I0=%1.2f mA',VR,I0);\n",
"\n",
"//=========================END OF PROGRAM==============================="
   ]
   }
,
{
		   "cell_type": "markdown",
		   "metadata": {},
		   "source": [
			"## Example 8.1: electron_velocity_and_etc.sce"
		   ]
		  },
  {
"cell_type": "code",
	   "execution_count": null,
	   "metadata": {
	    "collapsed": true
	   },
	   "outputs": [],
"source": [
"//chapter-8 page 336 example 8.1\n",
"//==============================================================================\n",
"clc;\n",
"clear;\n",
"\n",
"//For a four cavity Klystron\n",
"V0=14500;//Beam voltage in V\n",
"I=1.4;//Beam current in A\n",
"f=10^10;//Operation frequency in Hz\n",
"p0=10^(-6);//dc electron charge density in C/m^3\n",
"p=10^(-8);//RF charge density in C/m^3\n",
"V=10^5;//Velocity perturbations in m/sec\n",
"e0=8.854*10^(-12);//Permittivity of free space in F/m\n",
"R=0.4;\n",
"\n",
"//CALCULATION\n",
"v0=(0.593*10^6*sqrt(V0))/10^8;//The dc electron velocity in 10^8 m/sec\n",
"w=2*(%pi)*f;//angular frequency in rad/sec\n",
"v=v0*10^8;\n",
"c=(w/v);//The dc Phase Constant\n",
"wp=(sqrt(1.759*10^11*(p0/e0)))/10^8;//The Plasma Frequency in 10^8 rad/sec\n",
"wp1=wp*10^8;\n",
"wq=(R*wp1)/10^8;//The Reduced Plasma Frequency in 10^8 rad/sec\n",
"J0=p0*v;//The dc beam current density in A/sqm\n",
"J=(p*v)+(p0*V);//The instantaneous beam current density in A/sqm\n",
"\n",
"//OUTPUT\n",
"mprintf('\nThe dc electron velocity is v0=%2.3f *10^8 m/sec \nThe dc Phase Constant is c=%1.2f rad/sec\nThe Plasma Frequency is wp=%1.2f *10^8 rad/sec \nThe Reduced Plasma Frequency is wq=%1.3f *10^8 rad/sec \nThe dc beam current density is J0=%2.1f A/sqm \nThe instantaneous beam current density is J=%1.3f A/sqm',v0,c,wp,wq,J0,J);\n",
"\n",
"//=========================END OF PROGRAM==============================="
   ]
   }
,
{
		   "cell_type": "markdown",
		   "metadata": {},
		   "source": [
			"## Example 8.2: power_and_etc.sce"
		   ]
		  },
  {
"cell_type": "code",
	   "execution_count": null,
	   "metadata": {
	    "collapsed": true
	   },
	   "outputs": [],
"source": [
"//chapter-8 page 337 example 8.2\n",
"//==============================================================================\n",
"clc;\n",
"clear;\n",
"\n",
"//For a 2 cavity klystron amplifier\n",
"Av=15;//Voltage gain in dB\n",
"Pin=0.005;//I/P power in W\n",
"Rin=30000;//Rsh of i/p cavity in ohms\n",
"R0=40000;//Rsh of o/p cavity in ohms\n",
"Rl=40000;//load impedance in ohms\n",
"R=20000;//Parallel resistance of R0 and Rl (R0//Rl) in ohms\n",
"\n",
"//CALCULATION\n",
"Vin=sqrt(Pin*Rin);//The input rms voltage in V  [From Pin=Vin^2/Rin]\n",
"V0=Vin*10^(Av/20);//The output rms voltage in V [From Av=20log(V0/Vin)]\n",
"P0=(V0^2)/R;//The Power delivered to the load in W\n",
"\n",
"//OUTPUT\n",
"mprintf('\nThe input rms voltage is Vin=%2.2f V \nThe output rms voltage is V0=%2.2f V \nThe Power delivered to the load is P0=%1.4f W',Vin,V0,P0);\n",
"\n",
"//=========================END OF PROGRAM===============================\n",
""
   ]
   }
,
{
		   "cell_type": "markdown",
		   "metadata": {},
		   "source": [
			"## Example 8.3: efficiency_and_etc.sce"
		   ]
		  },
  {
"cell_type": "code",
	   "execution_count": null,
	   "metadata": {
	    "collapsed": true
	   },
	   "outputs": [],
"source": [
"//chapter-8 page 338 example 8.3\n",
"//==============================================================================\n",
"clc;\n",
"clear;\n",
"\n",
"//For a reflex klystron \n",
"n=2;//peak mode value\n",
"V0=300;//beam voltage in V\n",
"I0=0.02;//beam current in A\n",
"Vs=40;//signal voltage in V\n",
"J1=1.25;//bessel coefficient for n=2\n",
"\n",
"//CALCULATION\n",
"Pdc=V0*I0;//The input power in watts\n",
"Pac=((2*Pdc*J1)/((2*n*(%pi))-((%pi)/2)));//The output power in watts\n",
"n=(Pac/Pdc)*100;//Efficiency in percentage\n",
"\n",
"//OUTPUT\n",
"mprintf('\nThe input power is Pdc=%1.0f watts \nThe output power is Pac=%1.2f watts \nEfficiency is n=%2.1f percentage',Pdc,Pac,n);\n",
"\n",
"//=========================END OF PROGRAM===============================\n",
""
   ]
   }
,
{
		   "cell_type": "markdown",
		   "metadata": {},
		   "source": [
			"## Example 8.4: electron_velocity_and_etc.sce"
		   ]
		  },
  {
"cell_type": "code",
	   "execution_count": null,
	   "metadata": {
	    "collapsed": true
	   },
	   "outputs": [],
"source": [
"//chapter-8 page 338 example 8.4\n",
"//==============================================================================\n",
"clc;\n",
"clear;\n",
"\n",
"//For a 2 cavity klystron amplifier\n",
"V0=900;//Beam voltage in V\n",
"I0=0.03;//Beam current in A\n",
"f=8*10^9;//frequency in Hz\n",
"d=0.001;//gap spacing in either cavity in m\n",
"L=0.04;//spacing between centers of cavities in m\n",
"Rsh=49000;//Effective shunt impedance in ohms\n",
"J1=0.582;//value of J1(X)\n",
"X=1.841;//bunching parameter\n",
"\n",
"//CALCULATION\n",
"v0=(0.593*10^6*sqrt(V0))/10^6;//velocity of electron in 10^6 m/sec\n",
"w=2*(%pi)*f;//angular frequency in rad\n",
"v=v0*10^6;\n",
"T0=(L/v)/10^(-8);//dc transit time of electrons in 10^(-8) sec\n",
"a=w*T0*10^(-8);//transit angle in rad\n",
"tg=w*d/v;//average gap transit angle in rad\n",
"Tg=tg*(180/(%pi));\n",
"Bi=(sind(Tg/2))/(tg/2);//beam coupling coefficient \n",
"Bo=Bi;//output cavity coupling coefficient \n",
"V1max=((3.68*V0)/(Bi*a));//Input voltage for Maximum output voltage in V\n",
"R0=V0/I0;//impedance in ohms\n",
"Av=(Bo^2*a*Rsh*J1)/(R0*X);//Voltage gain \n",
"AvdB=20*log10(Av);//Voltage gain in dB\n",
"\n",
"//OUTPUT\n",
"mprintf('\nVelocity of electron is v0=%2.2f *10^6 m/sec \nThe dc transit time of electrons is T0=%1.3f *10^(-8) sec \nInput voltage for Maximum output voltage is V1max=%2.3f V \nVoltage gain is Av=%2.2f \nThe Voltage gain in dB is AvdB=%2.2f dB',v0,T0,V1max,Av,AvdB);\n",
"\n",
"//=========================END OF PROGRAM===============================\n",
"\n",
"//Note: Check the calculation given in text book for voltage gain Rsh=49 kohms\n",
"//but, taken as 40 kohms\n",
"//correct answers areVoltage gain is Av=28.52 \n",
"//The Voltage gain in dB is AvdB=29.10 dB"
   ]
   }
,
{
		   "cell_type": "markdown",
		   "metadata": {},
		   "source": [
			"## Example 8.5: efficiency_and_etc.sce"
		   ]
		  },
  {
"cell_type": "code",
	   "execution_count": null,
	   "metadata": {
	    "collapsed": true
	   },
	   "outputs": [],
"source": [
"//chapter-8 page 339 example 8.5\n",
"//==============================================================================\n",
"clc;\n",
"clear;\n",
"\n",
"//For a 2 cavity klystron amplifier\n",
"V0=1200;//Beam voltage in V\n",
"I0=0.028;//Beam current in A\n",
"f=8*10^9;//frequency in Hz\n",
"d=0.001;//gap spacing in either cavity in m\n",
"L=0.04;//spacing between centers of cavities in m\n",
"Rsh=40000;//Effective shunt impedance in ohms\n",
"J1=0.582;//value of J1(X)\n",
"X=1.841;//bunching parameter\n",
"\n",
"//CALCULATION\n",
"w=2*(%pi)*f;//angular frequency in rad\n",
"v0=0.593*10^6*sqrt(V0);//velocity of electron in m/sec\n",
"Vomax=((3.68*V0*v0)/(w*L));//max output power in V\n",
"tg=(w*d)/v0;//avg gap transit angle in rad\n",
"Tg=tg*(180/(%pi));\n",
"Bi=(sind(Tg/2))/(tg/2);//beam coupling coefficient \n",
"Bo=Bi;//output cavity coupling coefficient \n",
"Vimax=Vomax/Bi;//The input microwave voltage in order to generate maximum output voltage in V\n",
"t0=w*L/v0;//transit angle in rad\n",
"R0=V0/I0;//impedance in ohms\n",
"Av=((Bo^2*J1*t0*Rsh)/(R0*X));//Voltage gain \n",
"I2=2*I0*J1;\n",
"V2=Bo*I2*Rsh;\n",
"disp('neglecting beam loading');\n",
"Eff=0.58*(V2/V0)*100;//Efficiency in %\n",
"G0=1/R0;\n",
"GB=(G0/2)*(Bo*(Bo-cos(Tg/2)));//Beam loading conductance in mhos\n",
"RB=(1/GB)/1000;//Beam loading resistance in Kohms\n",
"disp('Beam loading resistance in Kohms is');\n",
"disp(RB);\n",
"disp('The value 73 kohms is very much comparable to Rsh and cannot be neglected because Tg is quite high');\n",
"\n",
"//OUTPUT\n",
"mprintf('\nThe input microwave voltage in order to generate maximum output voltage is Vimax=%2.2f V \nThe voltage gain is Av=%2.2f percentage \nBeam loading conductance is GB=%1.10f mhos',Vimax,Av,GB);\n",
"\n",
"//=========================END OF PROGRAM===============================\n",
"\n",
"\n",
"\n",
""
   ]
   }
,
{
		   "cell_type": "markdown",
		   "metadata": {},
		   "source": [
			"## Example 8.6: electronic_efficiency_and_etc.sce"
		   ]
		  },
  {
"cell_type": "code",
	   "execution_count": null,
	   "metadata": {
	    "collapsed": true
	   },
	   "outputs": [],
"source": [
"//chapter-8 page 338 example 8.4\n",
"//==============================================================================\n",
"clc;\n",
"clear;\n",
"\n",
"//For a reflex klystron \n",
"n=2;//peak mode value\n",
"V0=500;//beam voltage in V\n",
"Rsh=20000;//Shunt resistance in ohms\n",
"L=0.001;//distance in m\n",
"f=8*10^(9);////Operation frequency in Hz\n",
"V1=200;//microwave gap voltage in V\n",
"x=1.759*10^11;//e/m value in C/kg\n",
"J1=0.582;\n",
"\n",
"//CALCULATION\n",
"disp('Assume the gap transit time and beam loading are neglected');\n",
"w=2*(%pi)*f;//angular frequency in rad\n",
"VR=(V0+((sqrt(8*V0/x)*w*L)/((2*(%pi)*n)-((%pi)/2))));//Repeller voltage in V\n",
"disp('Assuming output coupling coefficient Bo=1');\n",
"I0=(V1/(2*J1*Rsh))/10^(-3);//Beam current necessary to obtain an microwave gap voltafe of 200V in mA\n",
"v0=0.593*10^6*sqrt(V0);//velocity of electron in m/sec\n",
"t0=((w*2*L*v0)/(x*(VR+V0)));//transit angle in rad\n",
"Bi=1;//beam coupling coefficient [assume]\n",
"X=((Bi*V1*t0)/(2*V0));\n",
"disp('Since X=1.51, from graph,J1(X)=0.84');\n",
"XJ1=0.84;\n",
"Eff=((2*(XJ1))/((2*n*(%pi))-((%pi)/2)))*100//Efficiency in %\n",
"\n",
"//OUTPUT\n",
"mprintf('\nRepeller voltage is VR=%3.2f V \nThe dc necessary to give an microwave gap voltafe of 200V is I0=%1.2f mA \nElectronic Efficiency is Eff=%2.2f percentage',VR,I0,Eff);\n",
"\n",
"//=========================END OF PROGRAM===============================\n",
"\n",
"//Note: Check the answer for VR once\n",
"//Correct answer is Repeller voltage is VR=1189.36 V "
   ]
   }
,
{
		   "cell_type": "markdown",
		   "metadata": {},
		   "source": [
			"## Example 8.7: efficiency_and_etc.sce"
		   ]
		  },
  {
"cell_type": "code",
	   "execution_count": null,
	   "metadata": {
	    "collapsed": true
	   },
	   "outputs": [],
"source": [
"//chapter-8 page 342 example 8.7\n",
"//==============================================================================\n",
"clc;\n",
"clear;\n",
"\n",
"//For a reflex klystron\n",
"n=1;//mode value\n",
"Pi=0.04;//the dc input power in W\n",
"x=0.278;//ratio of V1 over V0 \n",
"\n",
"//CALCULATION\n",
"X=x*3*(%pi)/4;\n",
"J1=0.3205;//bessel coefficient value [JI(X')]\n",
"ef=((2*X*J1)/((2*(%pi)*n)-((%pi)/2)))*100;//Efficiency of the reflex klystron in %\n",
"Pout=((ef/100)*Pi)/10^(-3);//Total power output in mW\n",
"p=20;//percentage of the power delivered by the electron beam dissipated in the cavity walls\n",
"Pd=Pout*(100-p)/100;//Power delivered to load in mW\n",
"\n",
"//OUTPUT\n",
"mprintf('\nEfficiency of the reflex klystron is ef=%1.2f percentage\nTotal power output is Pout=%1.3f mW \nIf the 20 percentage of the power delivered by the electron beam is dissipated in the cavity walls then the Power delivered to load is Pd=%1.2f mW',ef,Pout,Pd);\n",
"\n",
"//=========================END OF PROGRAM===============================\n",
""
   ]
   }
,
{
		   "cell_type": "markdown",
		   "metadata": {},
		   "source": [
			"## Example 8.8: cyclotron_frequency_and_etc.sce"
		   ]
		  },
  {
"cell_type": "code",
	   "execution_count": null,
	   "metadata": {
	    "collapsed": true
	   },
	   "outputs": [],
"source": [
"//chapter-8 page 342 example 8.8\n",
"//==============================================================================\n",
"clc;\n",
"clear;\n",
"\n",
"//For a circular magnetron\n",
"a=0.15;//inner radius in m\n",
"b=0.45;//outer radius in m\n",
"B=1.2*10^(-3);//magnetic flux density in Wb/sqm\n",
"x=1.759*10^11;//Value of e/m in C/kg\n",
"V=6000;//beam voltage in V\n",
"\n",
"//CALCULATION\n",
"V0=((x/8)*(B^2)*(b^2)*(1-(a/b)^2)^2)/1000;//Hull cut-off voltage in kV\n",
"Bc=((sqrt(8*(V/x)))/(b*(1-(a/b)^2)))*1000;//Cut-off magnetic flux density in mWb/sqm\n",
"fc=((x*B)/(2*(%pi)))/10^9;//Cyclotron frequency in GHz\n",
"\n",
"//OUTPUT\n",
"mprintf('\nHull cut-off voltage is V0=%2.3f kV\nCut-off magnetic flux density is Bc=%1.6f mWb/sqm \nCyclotron frequency is fc=%1.4f GHz',V0,Bc,fc);\n",
"\n",
"//=========================END OF PROGRAM===============================\n",
"\n",
"\n",
"//Check the answers once \n",
"//Correct answers are\n",
"//Hull cut-off voltage is V0=5.066 kV\n",
"//Cut-off magnetic flux density is Bc=1.305953 mWb/sqm \n",
"//Cyclotron frequency is fc=0.0336 GHz "
   ]
   }
,
{
		   "cell_type": "markdown",
		   "metadata": {},
		   "source": [
			"## Example 8.9: phase_velocity_and_anode_voltage.sce"
		   ]
		  },
  {
"cell_type": "code",
	   "execution_count": null,
	   "metadata": {
	    "collapsed": true
	   },
	   "outputs": [],
"source": [
"//chapter-8 page 343 example 8.9\n",
"//==============================================================================\n",
"clc;\n",
"clear;\n",
"\n",
"//For a helical TWT\n",
"c=3*10^8;//Velocity of light in m/sec\n",
"d=0.002;//diameter in m\n",
"x=5000;//no.of turns per m\n",
"m=9.1*10^(-31);//mass of an electron in kg\n",
"e=1.6*10^(-19);//charge of an electron in C\n",
"\n",
"//CALCULATION\n",
"y=(%pi)*d;//circumference in m\n",
"p=1/x;//pitch in m\n",
"Vp=(c*p)/y;//Axial phase velocity in m/sec\n",
"V0=((m*Vp^2)/(2*e));//The Anode voltage at which the TWT can be operated for useful gain in V\n",
"\n",
"//OUTPUT\n",
"mprintf('\nAxial phase velocity is Vp=%6.2f m/sec \nThe Anode voltage at which the TWT can be operated for useful gain is V0=%2.2f V',Vp,V0);\n",
"\n",
"//=========================END OF PROGRAM==============================="
   ]
   }
],
"metadata": {
		  "kernelspec": {
		   "display_name": "Scilab",
		   "language": "scilab",
		   "name": "scilab"
		  },
		  "language_info": {
		   "file_extension": ".sce",
		   "help_links": [
			{
			 "text": "MetaKernel Magics",
			 "url": "https://github.com/calysto/metakernel/blob/master/metakernel/magics/README.md"
			}
		   ],
		   "mimetype": "text/x-octave",
		   "name": "scilab",
		   "version": "0.7.1"
		  }
		 },
		 "nbformat": 4,
		 "nbformat_minor": 0
}
