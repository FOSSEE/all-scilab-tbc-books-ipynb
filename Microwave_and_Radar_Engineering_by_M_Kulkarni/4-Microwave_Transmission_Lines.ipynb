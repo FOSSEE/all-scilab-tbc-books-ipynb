{
"cells": [
 {
		   "cell_type": "markdown",
	   "metadata": {},
	   "source": [
       "# Chapter 4: Microwave Transmission Lines"
	   ]
	},
{
		   "cell_type": "markdown",
		   "metadata": {},
		   "source": [
			"## Example 4.10: area.sce"
		   ]
		  },
  {
"cell_type": "code",
	   "execution_count": null,
	   "metadata": {
	    "collapsed": true
	   },
	   "outputs": [],
"source": [
"//chapter-4 page 148 example 4.10\n",
"//==============================================================================\n",
"clc;\n",
"clear;\n",
"\n",
"//For an air filled circular Waveguide in the dominant mode\n",
"c=3*10^10;//Velocity of Light in cm/sec\n",
"disp('For an air filled circular Waveguide TE11 is the dominant mode ie propagated');\n",
"wc=10;//cutoff wave length in cm\n",
"\n",
"//CALCULATION\n",
"r=((1.841*wc)/(2*(%pi)));//radius of circular Waveguide in cm\n",
"A=(%pi)*r^2;//Cross sectional area of the guide in sq.cms\n",
"fc=(c/wc)/10^9;//Cutoff frequency for TE11 mode in GHz\n",
"disp('Cutoff frequency for TE11 mode in GHz is');\n",
"disp(fc);\n",
"disp('Frequncy above 3GHz can be propagated through the waveguide');\n",
"\n",
"//OUTPUT\n",
"mprintf('\nCross sectional area of the guide is A=%2.2f sq.cms',A);\n",
"\n",
"//=========================END OF PROGRAM==============================="
   ]
   }
,
{
		   "cell_type": "markdown",
		   "metadata": {},
		   "source": [
			"## Example 4.11: possible_modes.sce"
		   ]
		  },
  {
"cell_type": "code",
	   "execution_count": null,
	   "metadata": {
	    "collapsed": true
	   },
	   "outputs": [],
"source": [
"//chapter-4 page 149 example 4.11\n",
"//==============================================================================\n",
"clc;\n",
"clear;\n",
"\n",
"//For a rectangular waveguide\n",
"f=5*10^9;//frequency in Hz\n",
"c=3*10^10;//Velocity of Light in cm/sec\n",
"a=4;//Length of Rectangular Waveguide in cm\n",
"b=3;//Width of Rectangular Waveguide in cm\n",
"\n",
"//CALCULATION\n",
"disp('The condition for the wave to propagate along a guide is that wc>w0.');\n",
"w0=c/f;//free space wavelength in cm\n",
"disp('Free space wavelength w0 in cm is');\n",
"disp(w0);\n",
"disp('For TE waves, wc=(2ab/sqrt((mb)^2+(na)^2))');\n",
"disp('For TE01 waves');\n",
"m1=0;\n",
"n1=1;\n",
"wc1=((2*a*b)/(sqrt((m1*b)^2+(n1*a)^2)));//Cutoff wavelength for TE01 mode in cm\n",
"disp('Cutoff wavelength for TE01 mode in cm is');\n",
"disp(wc1);\n",
"disp('Since wc for TE01=6cm is not greater than w0 TE01,will not propagate for TE01 mode.');\n",
"disp('For TE10 waves');\n",
"m2=1;\n",
"n2=0;\n",
"wc2=((2*a*b)/(sqrt((m2*b)^2+(n2*a)^2)));//Cutoff wavelength for TE10 mode in cm\n",
"disp('Cutoff wavelength for TE10 mode in cm is');\n",
"disp(wc2);\n",
"disp('Since wc TE10 > w0 TE10 is a possible mode.');\n",
"disp('For TE11 waves');\n",
"m3=1;\n",
"n3=1;\n",
"wc3=((2*a*b)/(sqrt((m3*b)^2+(n3*a)^2)));//Cutoff wavelength for TE11 mode in cm\n",
"disp('Cutoff wavelength for TE11 mode in cm is');\n",
"disp(wc3);\n",
"disp('As wc TE11 < w0 TE11 does not propagate.');\n",
"\n",
"//=========================END OF PROGRAM==============================="
   ]
   }
,
{
		   "cell_type": "markdown",
		   "metadata": {},
		   "source": [
			"## Example 4.12: guide_wavelength.sce"
		   ]
		  },
  {
"cell_type": "code",
	   "execution_count": null,
	   "metadata": {
	    "collapsed": true
	   },
	   "outputs": [],
"source": [
"//chapter-4 page 149 example 4.12\n",
"//==============================================================================\n",
"clc;\n",
"clear;\n",
"\n",
"//For an air filled circular Waveguide in the dominant mode\n",
"D=4;//Inner diameter of an air filled circular Waveguide in cm\n",
"c=3*10^10;//Velocity of Light in cm/sec\n",
"\n",
"//CALCULATION\n",
"disp('The dominant mode in the circular waveguide would be like TE11,wc is maximum');\n",
"r=D/2;//radius in cm\n",
"wc=((2*(%pi)*r)/1.841);//Cutoff wavelength in cms\n",
"fc=(c/wc)/10^9;//Cutoff frequency in GHz\n",
"mprintf('\nCutoff wavelength is wc=%1.4f cms \nCutoff frequency is fc=%1.3f GHz',wc,fc);\n",
"disp('Since cut-off frequency is 4.395 GHz,frequencies higher than fc will be propagated.Assume a signal of frequency of 5 GHz is being propagated');\n",
"f=5*10^9;//frequency of signal in Hz\n",
"w0=(c/f);//free space wavelength in cm\n",
"wg=(w0/sqrt(1-(w0/wc)^2));//Guide wavelength in cm\n",
"mprintf('\nWave length in the guide is wg=%2.2f cm',wg);\n",
"\n",
"//=========================END OF PROGRAM==============================="
   ]
   }
,
{
		   "cell_type": "markdown",
		   "metadata": {},
		   "source": [
			"## Example 4.13: frequency.sce"
		   ]
		  },
  {
"cell_type": "code",
	   "execution_count": null,
	   "metadata": {
	    "collapsed": true
	   },
	   "outputs": [],
"source": [
"//chapter-4 page 150 example 4.13\n",
"//==============================================================================\n",
"clc;\n",
"clear;\n",
"\n",
"//For a rectangular waveguide in TE10 mode\n",
"a=6;//Length of Rectangular Waveguide in cm\n",
"b=4;//Width of Rectangular Waveguide in cm\n",
"c=3*10^10;//Velocity of Light in cm/sec\n",
"x=4.55;//distance between maximum and minimum in cm\n",
"\n",
"//CALCULATIONS\n",
"wc=2*a;//Cutoff wavelength for a TE10 mode in cms\n",
"wg=4*x;//Guide Wavelength in cm\n",
"w0=(wg/sqrt(1+(wg/wc)^2));////Free space wavelength in cm\n",
"f=(c/w0)/10^9;//Frequency of the wave in GHz\n",
"\n",
"//OUTPUT\n",
"mprintf('\nFrequency of the wave is f=%1.3f GHz',f);\n",
"\n",
"//=========================END OF PROGRAM==============================="
   ]
   }
,
{
		   "cell_type": "markdown",
		   "metadata": {},
		   "source": [
			"## Example 4.14: guide_wavelength.sce"
		   ]
		  },
  {
"cell_type": "code",
	   "execution_count": null,
	   "metadata": {
	    "collapsed": true
	   },
	   "outputs": [],
"source": [
"//chapter-4 page 151 example 4.14\n",
"//==============================================================================\n",
"clc;\n",
"clear;\n",
"\n",
"//For a rectangular waveguide\n",
"b=2.5;//Length of Rectangular Waveguide in cm\n",
"a=5;//breadth of Rectangular Waveguide in cm\n",
"c=3*10^10;//Velocity of Light in cm/sec\n",
"w0=4.5;//Free space wavelength in cm\n",
"\n",
"//CALCULATION\n",
"disp('For a TE10 mode which is the dominant mode');\n",
"wc=2*a;//Cutoff wavelength in cm\n",
"wg=(w0/sqrt(1-(w0/wc)^2));//Guide wavelength in cm\n",
"Vp=(c/sqrt(1-(w0/wc)^2))/10^10;//Phase Velocity in 10^10 cm/sec\n",
"B=((2*(%pi)*sqrt(wc^2-w0^2))/(w0*wc));//Phase constant in radians\n",
"\n",
"//OUTPUT\n",
"mprintf('\nGuide wavelength is wg=%1.5f cm \nPhase constant is B=%1.3f radians \nPhase Velocity is Vp=%1.2f *10^10 cm/sec',wg,B,Vp);\n",
"\n",
"//=========================END OF PROGRAM===========================================\n",
"\n",
"//Note: Check the answers once\n",
"//Correct answers are\n",
"//Guide wavelength is wg=5.03903 cm \n",
"//Phase constant is B=1.247 radians \n",
"//Phase Velocity is Vp=3.36 *10^10 cm/sec"
   ]
   }
,
{
		   "cell_type": "markdown",
		   "metadata": {},
		   "source": [
			"## Example 4.15: possible_modes.sce"
		   ]
		  },
  {
"cell_type": "code",
	   "execution_count": null,
	   "metadata": {
	    "collapsed": true
	   },
	   "outputs": [],
"source": [
"//chapter-4 page 152 example 4.15\n",
"//==============================================================================\n",
"clc;\n",
"clear;\n",
"\n",
"wcTE10=16;//Critical wavelength of TE10 mode in cm\n",
"wcTM11=7.16;//Critical wavelength of TM11 mode in cm\n",
"wcTM21=5.6;//Critical wavelength of TM21 mode in cm\n",
"disp('For any wave to be propagated, the condition to be met is wc>wo');\n",
"wo1=10;//Free space wavelength in cm\n",
"wo2=5;//Free space wavelength in cm\n",
"disp('Critical wavelength of TE10 mode in cm is');\n",
"disp(wcTE10);\n",
"disp('Critical wavelength of TM11 mode in cm is');\n",
"disp(wcTM11);\n",
"disp('Critical wavelength of TM21 mode in cm is');\n",
"disp(wcTM21);\n",
"disp('For wo1=10cm,The mode that propagates only TE10.Because wcTE10>wo1 and all other modes that is TM11 TM21 donot propagate');\n",
"disp('For wo2=5cm');\n",
"disp('wcTE10>wo2, so TE10 mode propagates');\n",
"disp('wcTM11>wo2, so TE11 mode propagates');\n",
"disp('wcTE21>wo2, so TE21 mode propagates');"
   ]
   }
,
{
		   "cell_type": "markdown",
		   "metadata": {},
		   "source": [
			"## Example 4.16: Characteristic_Impedance.sce"
		   ]
		  },
  {
"cell_type": "code",
	   "execution_count": null,
	   "metadata": {
	    "collapsed": true
	   },
	   "outputs": [],
"source": [
"//chapter-4 page 152 example 4.16\n",
"//==============================================================================\n",
"clc;\n",
"clear;\n",
"\n",
"n=120*(%pi);//Intrinsic Impedance\n",
"a=3;//Length of Rectangular Waveguide in cm\n",
"b=2;//Width of Rectangular Waveguide in cm\n",
"f=10^10;//Frequency in Hz\n",
"c=3*10^10;//Velocity of Light in cm/sec\n",
"\n",
"//CALCULATION\n",
"wc=((2*a*b)/sqrt(a^2+b^2));//Cutoff wavelength in TM11 mode in cms\n",
"w0=(c/f);//Free space wavelength in cms\n",
"ZTM=(n*sqrt(1-(w0/wc)^2));//Characteristic Wave Impedance in ohms\n",
"\n",
"//OUTPUT\n",
"mprintf('\nCharacteristic Wave Impedance is ZTM=%2.3f ohms',ZTM);\n",
"\n",
"\n",
"//=========================END OF PROGRAM=================================\n",
"\n",
"//Note: Check the given answer once it is wrong\n",
" //currect answer is 163.242 ohms"
   ]
   }
,
{
		   "cell_type": "markdown",
		   "metadata": {},
		   "source": [
			"## Example 4.17: guide_wavelength.sce"
		   ]
		  },
  {
"cell_type": "code",
	   "execution_count": null,
	   "metadata": {
	    "collapsed": true
	   },
	   "outputs": [],
"source": [
"//chapter-4 page 152 example 4.17\n",
"//==============================================================================\n",
"clc;\n",
"clear;\n",
"\n",
"c=3*10^10;//Velocity of Light in cm/sec\n",
"f=6*10^9;//Frequency in Hz\n",
"\n",
"//CALCULATION\n",
"fc=(0.8*f);//Given Cutoff frequency for TE11 mode in Hz\n",
"wc=(c/fc);//Cutoff wavelength in cms\n",
"D=((1.841*wc)/(%pi));//Diameter of waveguide in cm\n",
"w0=(c/f);//Free space wavelength in cm\n",
"wg=(w0/sqrt(1-(w0/wc)^2));//Guide wavelength in cm\n",
"\n",
"//OUTPUT\n",
"mprintf('\nDiameter of the waveguide is D=%1.4f cm \nGuide wavelength is wg=%1.3f cm',D,wg);\n",
"\n",
"//=========================END OF PROGRAM==============================="
   ]
   }
,
{
		   "cell_type": "markdown",
		   "metadata": {},
		   "source": [
			"## Example 4.18: proof.sce"
		   ]
		  },
  {
"cell_type": "code",
	   "execution_count": null,
	   "metadata": {
	    "collapsed": true
	   },
	   "outputs": [],
"source": [
"//chapter-4 page 153 example 4.18\n",
"//==============================================================================\n",
"clc;\n",
"clear;\n",
"\n",
"//For a TE10 mode\n",
"a=1.5;//Length of an air filled square Waveguide in m\n",
"b=1;//breadth of an air filled square Waveguide in cm\n",
"c=3*10^10;//Velocity of Light in cm/sec\n",
"f=6*10^9;//Impressed Frequency in Hz\n",
"er=4;//dielectric constant\n",
"\n",
"//CALCULATION\n",
"wc=2*a;//Cutoff wavelength in cm\n",
"fc=(c/wc)/10^9;//Cutoff frequency in GHz\n",
"disp('Cutoff frequency in GHz is');\n",
"disp(fc);\n",
"disp('The impressed frequency of 6 GHz is less than the Cutoff frequency and hence the signal will not pass through the guide');\n",
"w=(c/f);//Wavelength in cm\n",
"disp('Alternatively, the wavelength of the impressed signal in cm is');\n",
"disp(w);\n",
"wair=w;\n",
"disp('which is longer than the cutoff wavelength (3cm) and hence no propagation of the wave');\n",
"w1=wair/sqrt(er);//Wavelength in cm\n",
"disp('If the waveguide is loaded with dielectric of er=4, then the wavelength in cm is');\n",
"disp(w1);\n",
"disp('which is lessthan wair');\n",
"disp('Now the signal with 6 GHz frequency will pass through the dielectric loaded waveguide');\n",
"\n",
"//=========================END OF PROGRAM==============================="
   ]
   }
,
{
		   "cell_type": "markdown",
		   "metadata": {},
		   "source": [
			"## Example 4.19: amount_of_attenuation.sce"
		   ]
		  },
  {
"cell_type": "code",
	   "execution_count": null,
	   "metadata": {
	    "collapsed": true
	   },
	   "outputs": [],
"source": [
"//chapter-4 page 153 example 4.19\n",
"//==============================================================================\n",
"clc;\n",
"clear;\n",
"\n",
"a=0.015;//Length of hollow Rectangular Waveguide in m\n",
"b=1;//breadth of hollow Rectangular Waveguide in cm\n",
"f=6*10^9;//Frequency in Hz in TE10 mode\n",
"c=3*10^8;//Velocity of Light in m/sec\n",
"m=1;//Value of m in TE10 mode\n",
"n=0;//Value of n in TE10 mode\n",
"u=4*(%pi)*10^(-7);//Permeability in free space in Henry\n",
"e=8.854*10^(-12);//Permittivity in free space in F/m\n",
"\n",
"//CALCULATION\n",
"wc=2*a;//Cutoff wavelength for TE10 mode in m\n",
"fc=c/wc;//Cutoff frequency in Hz\n",
"w=2*(%pi)*f;//Angular frequency in rad/sec\n",
"\n",
"//So 6GHz signal will not pass through waveguide but will get attenuated\n",
"A=(sqrt((m*(%pi)/a)^2+(n*(%pi)/b)^2-(w^2*u*e)));//Attenuation in NP/m\n",
"AdB=A*(20/log(10));//Attenuation in dB/m\n",
"\n",
"//OUTPUT\n",
"mprintf('\Amount of Attenuation is A=%3.1f NP/m \nAttenuation is AdB=%4.2f dB/m',A,AdB);\n",
"\n",
"//=========================END OF PROGRAM==============================="
   ]
   }
,
{
		   "cell_type": "markdown",
		   "metadata": {},
		   "source": [
			"## Example 4.1: Characteristic_Impedance.sce"
		   ]
		  },
  {
"cell_type": "code",
	   "execution_count": null,
	   "metadata": {
	    "collapsed": true
	   },
	   "outputs": [],
"source": [
"//chapter-4 page 141 example 4.1\n",
"//==============================================================================\n",
"clc;\n",
"clear;\n",
"\n",
"d=0.0049;//Diameter of inner conductor in met \n",
"D=0.0110;//Inner Diameter of outer conductor in met\n",
"er=2.3;//Polyethylene dielectric\n",
"c=3*10^8;//Velocity of Light in m/sec\n",
"\n",
"//CALCULATIONS\n",
"x=log(D/d);\n",
"L=(2*10^(-1)*x);//Inductance per unit lengths in microH/m\n",
"C=(55.56*(er/x));//The Capacitance per unit lengths in picoF/m\n",
"R0=(x*(60/sqrt(er)));//The Characteristic Impedance in ohms\n",
"V=(c/sqrt(er))/(10^3);//The Velocity of propagation in Km/s\n",
"\n",
"//OUTPUT\n",
"mprintf('\nInductance per unit lengths is L=%1.5f microH/m \nThe Capacitance per unit lengths is C=%2.2f picoF/m \nThe Characteristic Impedance is R0=%2.2f ohms \nThe Velocity of propagation is V=%6.2f Km/s',L,C,R0,V);\n",
"\n",
" //=========================END OF PROGRAM==================================================="
   ]
   }
,
{
		   "cell_type": "markdown",
		   "metadata": {},
		   "source": [
			"## Example 4.20: max_power_handling_capacity.sce"
		   ]
		  },
  {
"cell_type": "code",
	   "execution_count": null,
	   "metadata": {
	    "collapsed": true
	   },
	   "outputs": [],
"source": [
"//chapter-4 page 154 example 4.20\n",
"//==============================================================================\n",
"clc;\n",
"clear;\n",
"\n",
"a=3;//Length of Rectangular Waveguide in cm\n",
"b=1;//Width of Rectangular Waveguide in cm\n",
"f=9*10^9;//Frequency in Hz in TE10 mode\n",
"c=3*10^10;//Velocity of Light in cm/sec\n",
"Emax=3000;//Max potential gradient in V/cm\n",
"\n",
"//CALCULATION\n",
"w0=(c/f);//Free space wavelength in cms\n",
"disp('Free space Wavelength in cm is');\n",
"disp(w0);\n",
"wc=2*a;//Cutoff wavelength in TE10 mode in cms\n",
"wg=(w0/sqrt(1-(w0/wc)^2));//Guide wavelength in cms\n",
"disp('Guide Wavelength in cm is');\n",
"disp(wg);\n",
"P=((6.63*10^(-4))*(Emax^2)*a*b*(w0/wg))/1000;//Power handling capability of the waveguide in kW\n",
"\n",
"//OUTPUT\n",
"mprintf('\nPower handling capability of the waveguide is P=%2.3f kW',P);\n",
"\n",
"\n",
"//=========================END OF PROGRAM=================================\n",
""
   ]
   }
,
{
		   "cell_type": "markdown",
		   "metadata": {},
		   "source": [
			"## Example 4.21: maximum_power.sce"
		   ]
		  },
  {
"cell_type": "code",
	   "execution_count": null,
	   "metadata": {
	    "collapsed": true
	   },
	   "outputs": [],
"source": [
"//chapter-4 page 154 example 4.21\n",
"//==============================================================================\n",
"clc;\n",
"clear;\n",
"\n",
"d=5;//Internal Diameter of circular waveguide in cm\n",
"f=9*10^9;//Frequency in Hz in TE11 mode\n",
"c=3*10^10;//Velocity of Light in cm/sec\n",
"Emax=300;//Max field strength in V/cm\n",
"\n",
"//CALCULATION\n",
"w0=(c/f);//Free space wavelength in cms\n",
"wc=((d*(%pi))/1.841);//Cutoff wavelength in TE11 mode in cms\n",
"wg=(w0/sqrt(1-(w0/wc)^2));//Guide wavelength in cms\n",
"Pmax=(0.498*(Emax^2)*(d^2)*(w0/wg))/1000;//Maximum power in kWatts\n",
"\n",
"//OUTPUT\n",
"mprintf('\nMaximum power is Pmax=%4.2f kWatts',Pmax);\n",
"\n",
"\n",
"//=========================END OF PROGRAM==============================="
   ]
   }
,
{
		   "cell_type": "markdown",
		   "metadata": {},
		   "source": [
			"## Example 4.22: peak_value_of_electric_field.sce"
		   ]
		  },
  {
"cell_type": "code",
	   "execution_count": null,
	   "metadata": {
	    "collapsed": true
	   },
	   "outputs": [],
"source": [
"//chapter-4 page 155 example 4.22\n",
"//==============================================================================\n",
"clc;\n",
"clear;\n",
"\n",
"//For an air filled square waveguide\n",
"a=0.01;//Length of an air filled square Waveguide in m\n",
"b=0.01;//breadth of an air filled square Waveguide in m\n",
"c=3*10^8;//Velocity of Light in m/sec\n",
"f=30*10^9;//Frequency in Hz in TE11 mode\n",
"Pmax=746;//Max power =1 horsepower  in W\n",
"n=120*(%pi);//Impedance of freespace in ohms\n",
"\n",
"//CALCULATION\n",
"w0=(c/f);//Free space wavelength in m\n",
"wc=2*a;//Cutoff wavelength in m\n",
"ZTE=(n/sqrt(1-(w0/wc)^2));//Impedance in ohms\n",
"Emax=(sqrt((Pmax*4*ZTE)/(a*b)))/1000;//The Peak value of Electric field occuring in the guide in kV/m\n",
"//From P=(1/2)*Integration(Re(E*H))da\n",
"//and Pmax=(1/(4*ZTE))*Emax^2*a*b\n",
"\n",
"//OUTPUT\n",
"mprintf('\nThe Peak value of Electric field occuring in the guide is Emax=%3.2f kV/m',Emax);\n",
"\n",
"//=========================END OF PROGRAM===============================\n",
""
   ]
   }
,
{
		   "cell_type": "markdown",
		   "metadata": {},
		   "source": [
			"## Example 4.23: breakdown_power.sce"
		   ]
		  },
  {
"cell_type": "code",
	   "execution_count": null,
	   "metadata": {
	    "collapsed": true
	   },
	   "outputs": [],
"source": [
"//chapter-4 page 156 example 4.23\n",
"//==============================================================================\n",
"clc;\n",
"clear;\n",
"\n",
"//For an air filled rectangular waveguide\n",
"a=0.023;//Length of an air filled  Rectangular Waveguide in m\n",
"b=0.01;//breadth of an air filled Rectangular Waveguide in m\n",
"c=3*10^8;//Velocity of Light in m/sec\n",
"f=9.375*10^9;//Frequency in Hz in TE11 mode\n",
"w0=0.01;//Free space wavelength in m\n",
"wc=0.02;//Cutoff wavelength in m\n",
"Pmax=746;//Max power =1 horsepower  in W\n",
"\n",
"//CALCULATION\n",
"wo=(c/f);//Free space wavelength in cm\n",
"Pbd=(597*a*b*sqrt(1-(wo/(2*a))^2));//The breakdown power for the dominant mode ie TE11 in W\n",
"wg=(w0/sqrt(1-(w0/wc)^2));//Guide wavelength in m\n",
"Emax=(sqrt((Pmax*wg)/(6.63*10^(-4)*w0)))/1000;//Max electric field in kV/m\n",
"\n",
"//OUTPUT\n",
"mprintf('\nThe breakdown power for the dominant mode ie TE11 is Pbd=%1.5f W \nMax electric field is Emax=%1.4f kV/m',Pbd,Emax);\n",
"\n",
"//=========================END OF PROGRAM===========================================\n",
"\n",
"\n",
"//Note: Check the answers once\n",
"//Correct answers are\n",
"//The breakdown power for the dominant mode ie TE11 is Pbd=0.09864 W \n",
"//Max electric field is Emax=1.1398 kV/m "
   ]
   }
,
{
		   "cell_type": "markdown",
		   "metadata": {},
		   "source": [
			"## Example 4.24: breakdown_power.sce"
		   ]
		  },
  {
"cell_type": "code",
	   "execution_count": null,
	   "metadata": {
	    "collapsed": true
	   },
	   "outputs": [],
"source": [
"//chapter-4 page 156 example 4.24\n",
"//==============================================================================\n",
"clc;\n",
"clear;\n",
"\n",
"a=2.5;//Radius of circular waveguide in cm\n",
"d=5;//Internal Diameter of circular waveguide in cm\n",
"f=9*10^9;//Frequency in Hz in TE11 mode\n",
"c=3*10^10;//Velocity of Light in cm/sec\n",
"\n",
"//CALCULATION\n",
"w0=(c/f);//Free space wavelength in cms\n",
"wc=((d*(%pi))/1.841);//Cutoff wavelength in TE11 mode in cms\n",
"fc=(c/wc);//Cutoff frequency in Hz\n",
"Pbd=(1790*(a^2)*sqrt(1-(fc/f)^2))/1000;//Breakdown Power in TE11 mode in kW\n",
"\n",
"//OUTPUT\n",
"mprintf('\nBreakdown Power in TE11 mode is Pbd=%5.3f kW',Pbd);\n",
"\n",
"//=========================END OF PROGRAM==============================="
   ]
   }
,
{
		   "cell_type": "markdown",
		   "metadata": {},
		   "source": [
			"## Example 4.2: attenuation_and_phase_constants.sce"
		   ]
		  },
  {
"cell_type": "code",
	   "execution_count": null,
	   "metadata": {
	    "collapsed": true
	   },
	   "outputs": [],
"source": [
"//chapter-4 page 142 example 4.2\n",
"//==============================================================================\n",
"clc;\n",
"clear;\n",
"\n",
"R=0.05;//Resistance in ohm/m\n",
"L=0.16173*10^(-6);//Inductance per unit lengths in H/m\n",
"C=0.15802*10^(-6);//The Capacitance per unit lengths in F/m\n",
"V=197814.14;//The Velocity of propagation in Km/s\n",
"l=50;//Length of Coaxial Line in met\n",
"Pin=480;//Input Power to the System in watts\n",
"f=3*10^9;//Frequency in Hz\n",
"c=3*10^5;//Velocity of Light in Km/sec\n",
"e0=8.854*10^(-12);//Permittivity in free space in F/m\n",
"\n",
"//CALCULATIONS\n",
"Z0=sqrt(L/C);\n",
"A=(R/(2*Z0));//Attenuation Constant in NP/m\n",
"w=(2*(%pi)*f);//Angular Frequency in rad/sec\n",
"B=(w*sqrt(L*C));//Phase Constant in rad/m\n",
"Vp=(1/sqrt(L*C))/(10^3);//Phase Velocity in Km/s\n",
"er=(((c/V)^2)/e0);//Relative Permittivity\n",
"Pl=(2*Pin*l);//Power Loss in watts\n",
"\n",
"//OUTPUT\n",
"mprintf('\nAttenuation Constant is A=%1.4f NP/m \nPhase Constant is B=%4.3f rad/m \nPhase Velocity is Vp=%4.3f Km/s \nRelative Permittivity is er=%12.2f \nPower Loss is Pl=%5.0f watts',A,B,Vp,er,Pl);\n",
"\n",
"//=========================END OF PROGRAM==========================================="
   ]
   }
,
{
		   "cell_type": "markdown",
		   "metadata": {},
		   "source": [
			"## Example 4.3: breakdown_power.sce"
		   ]
		  },
  {
"cell_type": "code",
	   "execution_count": null,
	   "metadata": {
	    "collapsed": true
	   },
	   "outputs": [],
"source": [
"//chapter-4 page 142 example 4.3\n",
"//==============================================================================\n",
"clc;\n",
"clear;\n",
"\n",
"//For an air filled coaxial cable\n",
"f=9.375*10^9;//operating frequency in Hz\n",
"c=3*10^10;//Velocity of Light in cm/sec\n",
"disp('Assuming a ratio of (b/a)=2.3 and (b+a)<(w/pi) to exclude higher order modes and a dominant mode propagating');\n",
"a=0.36432;//length of coaxial cable in cm\n",
"x=2.3;//ratio of b/a\n",
" \n",
"//CALCULATION\n",
"w0=(c/f);//free space wavelength in cm\n",
"Pbd=(3600*(a^2)*log(x));//Breakdown power of a coaxial cable in kW\n",
"\n",
"//OUTPUT\n",
"mprintf('\nBreakdown power of a coaxial cable is Pbd=%3.0f kW',Pbd);\n",
"\n",
"//=========================END OF PROGRAM==============================="
   ]
   }
,
{
		   "cell_type": "markdown",
		   "metadata": {},
		   "source": [
			"## Example 4.4: Characteristic_Impedance.sce"
		   ]
		  },
  {
"cell_type": "code",
	   "execution_count": null,
	   "metadata": {
	    "collapsed": true
	   },
	   "outputs": [],
"source": [
"//chapter-4 page 142 example 4.4\n",
"//==============================================================================\n",
"clc;\n",
"clear;\n",
"\n",
"b=0.3175;//Distance between ground planes of strip line in cm\n",
"d=0.0539;//Diameter of circular conductor in cm\n",
"er=2.32;//Dielectric Constant \n",
"c=3*10^8;//Velocity of Light in m/sec\n",
"\n",
"//CALCULATION\n",
"Z0=((60/sqrt(er))*log((4*b)/(d*(%pi))));//Characteristic Impedance in ohms\n",
"V=(c/sqrt(er))/(10^3);//The Velocity of propagation in Km/s\n",
"\n",
"//OUTPUT\n",
"mprintf('\nCharacteristic Impedance is Z0=%2.2f ohms \nThe Velocity of propagation is  V=%5.2f Km/s',Z0,V);\n",
"\n",
"//=========================END OF PROGRAM==================================================="
   ]
   }
,
{
		   "cell_type": "markdown",
		   "metadata": {},
		   "source": [
			"## Example 4.5: Characteristic_Impedance.sce"
		   ]
		  },
  {
"cell_type": "code",
	   "execution_count": null,
	   "metadata": {
	    "collapsed": true
	   },
	   "outputs": [],
"source": [
"//chapter-4 page 143 example 4.5\n",
"//==============================================================================\n",
"clc;\n",
"clear;\n",
"\n",
"//For a microstrip transmission line \n",
"er=9.7;//relative dielectric constant of an alumina substrate \n",
"x1=0.5;//w/h ratio in first transmission line \n",
"x2=5;//w/h ratio in second transmission line \n",
"c=3*10^8;//Velocity of Light in m/sec\n",
"\n",
"//CALCULATION\n",
"disp('For case1: w/h=0.5');\n",
"disp('Since x1=0.5<1, for this we use high impedance analysis');\n",
"Eeff1=(((er+1)/2)+((er-1)/2)*(1/((sqrt(1+(12/x1)))+(0.04*(1-x1)^2))));//Effective dielectric constant\n",
"Zo1=((60/sqrt(Eeff1))*log((8/x1)+(x1/4)));//Characteristic impedance in ohms\n",
"V1=(c/sqrt(Eeff1))/10^8;//Velocity of propagation in 10^8 m/sec\n",
"mprintf('\nEffective dielectric constant is Eeff1=%1.2f \nCharacteristic impedance is Zo1=%2.2f ohms \nVelocity of propagation is V1=%1.1f *10^8 m/sec',Eeff1,Zo1,V1);\n",
"\n",
"disp('For case2: w/h=5');\n",
"disp('here x2>1');\n",
"Eeff2=(((er+1)/2)+((er-1)/2)*(1/(sqrt(1+(12/x2)))));//Effective dielectric constant\n",
"Zo2=((120*(%pi)/sqrt(Eeff2))*(1/(x2+1.393+(0.667*log(1.444+x2)))));//Characteristic impedance in ohms\n",
"V2=(c/sqrt(Eeff2))/10^8;//Velocity of propagation in 10^8 m/sec\n",
"mprintf('\nEffective dielectric constant is Eeff2=%1.2f \nCharacteristic impedance is Zo2=%2.2f ohms \nVelocity of propagation is V2=%1.2f *10^8 m/sec',Eeff2,Zo2,V2);\n",
"\n",
"//=========================END OF PROGRAM==============================="
   ]
   }
,
{
		   "cell_type": "markdown",
		   "metadata": {},
		   "source": [
			"## Example 4.6: ratio_of_areas.sce"
		   ]
		  },
  {
"cell_type": "code",
	   "execution_count": null,
	   "metadata": {
	    "collapsed": true
	   },
	   "outputs": [],
"source": [
"//chapter-4 page 144 example 4.6\n",
"//==============================================================================\n",
"clc;\n",
"clear;\n",
"\n",
"//To calculate the ratio of circular waveguide cross-sectional area to the rectangular waveguide cross section\n",
"disp('Assuming that both these waveguides have similar or equal cutoff frequencies/wavelengths');\n",
"\n",
"disp('Case1: When TE wave is propagated');\n",
"disp('For standard rectangular waveguides a=2b and For TE11 dominant mode in circular waveguide wc1=(2(pi)r)/1.841');\n",
"disp('where r is the radius of the circular waveguide and wc1 is the cutoff wavelength for circular waveguide');\n",
"disp('It is given wc1=wc2 where wc2 is the cutoff wavelength for rectangular waveguide');\n",
"disp('For TE10(dominant mode) of propagation in rectangular waveguide wc2=2a');\n",
"disp('Since wc2=(2ab)/(sqrt((mb)^2+(nb)^2)) as m=1;n=0 for TE10 wc2=2ab/b=2a');\n",
"disp('By equating wc1=wc2, we get a=1.70645r');\n",
"disp('For a standard waveguide a=2b therefore, b=a/2');\n",
"disp('Now the area of rectangular waveguide=a*b=a*a/2=1.70645r*1.70645r/2=1.456r^2');\n",
"disp('Area of rectangular waveguide=1.456r^2 ,Area of circular waveguide=(pi)*r^2');\n",
"disp('Ratio of area of circular to area of rectangular waveguide=(Area of circular waveguide/Area of rectangular waveguide)=(pi*r^2)/(1.456r^2)=2.1576873=2.2');\n",
"disp('This clearly shows that the space occupied by a rectangular waveguide system is less compared to that for a circular waveguide system.Hence circular waveguides are not preferred in some applications');\n",
"\n",
"disp('Case2: When TM wave is propagated');\n",
"disp('For TM01 mode wc1=(2*pi*r)/(Pnm)min=(2*pi*r)/Pnm=(2*pi*r)/2.405 where r is the radius of circular waveguide wc1=2.6155r');\n",
"disp('Now if wc2 is the wavelength for TM11 wave propagating in a standard rectangular waveguide wc2=wc1 but wc2=(2ab)/sqrt(a^2+b^2)');\n",
"disp('For standard waveguides,we know a=2b, wc2=(2*2b*b)/sqrt(4b^2+b^2)=(4b^2)/sqrt(5b^2)=4b/sqrt(5)');\n",
"disp('By equating wc1=wc2, we get 2.6155r=4b/sqrt(5)=>b=1.4621r');\n",
"disp('Area of rectangular waveguide=b*b=b^2 but b=1.4621r, so Area of rectangular waveguide=(1.4621r)^2=2.132r^2 and Area of circular waveguide= pi*r^2');\n",
"disp('Ratio of area of circular to area of rectangular waveguide=(Area of circular waveguide/Area of rectangular waveguide)=(pi*r^2)/(2.132r^2)=1.5');\n",
"\n",
"//=========================END OF PROGRAM==============================="
   ]
   }
,
{
		   "cell_type": "markdown",
		   "metadata": {},
		   "source": [
			"## Example 4.7: breadth_of_the_guide.sce"
		   ]
		  },
  {
"cell_type": "code",
	   "execution_count": null,
	   "metadata": {
	    "collapsed": true
	   },
	   "outputs": [],
"source": [
"//chapter-4 page 146 example 4.7\n",
"//==============================================================================\n",
"clc;\n",
"clear;\n",
"\n",
"//For a rectangular waveguide\n",
"disp('For a rectangular waveguide the dominant mode is the TE10 mode.TE10 mode can propagate at a lower frequency');\n",
"f=9*10^9;//frequency in Hz\n",
"wg=4;//guide wavelength in cm\n",
"c=3*10^10;//Velocity of Light in cm/sec\n",
"disp('For TE10 mode wc=2a');\n",
"\n",
"//CALCULATION\n",
"w0=(c/f);//free space wavelength in cm\n",
"wc=(w0/sqrt(1-(w0/wg)^2));//Cutoff wavelength for TE10 mode in cm\n",
"disp('Free space wavelength w0 in cm is');\n",
"disp(w0);\n",
"disp('Cutoff wavelength wc in cm is');\n",
"disp(wc);\n",
"disp('Since wc>w0, the wave propagates');\n",
"a=(wc/2);//length of the guide in cm\n",
"b=(wc/4);//breadth of the guide in cm\n",
"\n",
"//OUTPUT\n",
"mprintf('\nlength of the guide is a=%1.0f cm \nbreadth of the guide is b=%1.1f cm',a,b);\n",
"\n",
"//=========================END OF PROGRAM==============================="
   ]
   }
,
{
		   "cell_type": "markdown",
		   "metadata": {},
		   "source": [
			"## Example 4.8: guide_wavelength.sce"
		   ]
		  },
  {
"cell_type": "code",
	   "execution_count": null,
	   "metadata": {
	    "collapsed": true
	   },
	   "outputs": [],
"source": [
"//chapter-4 page 147 example 4.8\n",
"//==============================================================================\n",
"clc;\n",
"clear;\n",
"\n",
"a=10;//breadth of a rectangular waveguide in cm\n",
"f=2.5*10^9;//Frequency in Hz in TE10 mode\n",
"c=3*10^10;//Velocity of Light in cm/sec\n",
"\n",
"//CALCULATION\n",
"wc=2*a;//Cutoff wavelength for TE10 mode in cm\n",
"w0=(c/f);//Free space wavelength in cm\n",
"x=sqrt(1-(w0/wc)^2);\n",
"wg=(w0/x);//Guide wavelength in cm\n",
"Vp=(c/x)/10^5;//Phase Velocity in Km/sec\n",
"Vg=((c^2)/Vp)/10^10;//Group Velocity in Km/sec\n",
"\n",
"//OUTPUT\n",
"mprintf('\nCutoff wavelength for TE10 mode is wc=%2.0f cm \nGuide wavelength is wg=%2.0f cm \nPhase Velocity is Vp=%7.2f Km/sec \nGroup Velocity is Vg=%6.2f Km/sec',wc,wg,Vp,Vg);\n",
"\n",
"//=========================END OF PROGRAM==============================="
   ]
   }
,
{
		   "cell_type": "markdown",
		   "metadata": {},
		   "source": [
			"## Example 4.9: guide_wavelength.sce"
		   ]
		  },
  {
"cell_type": "code",
	   "execution_count": null,
	   "metadata": {
	    "collapsed": true
	   },
	   "outputs": [],
"source": [
"//chapter-4 page 147 example 4.9\n",
"//==============================================================================\n",
"clc;\n",
"clear;\n",
"\n",
"f=8.6*10^9;//frequency in Hz\n",
"c=3*10^10;//Velocity of Light in cm/sec\n",
"a=2.5;//Length of a Waveguide in cm\n",
"b=1;//Width of a Waveguide in cm\n",
"\n",
"//CALCULATION\n",
"disp('The condition for the wave to propagate along a guide is that wc>w0.');\n",
"w0=c/f;//free space wavelength in cm\n",
"disp('Free space wavelength w0 in cm is');\n",
"disp(w0);\n",
"disp('For TE waves, wc=(2ab/sqrt((mb)^2+(na)^2))');\n",
"disp('For TE01 waves');\n",
"m1=0;\n",
"n1=1;\n",
"wc1=((2*a*b)/(sqrt((m1*b)^2+(n1*a)^2)));//Cutoff wavelength for TE01 mode in cm\n",
"disp('Cutoff wavelength for TE01 mode in cm is');\n",
"disp(wc1);\n",
"disp('Since wc for TE01=2cm is not greater than w0 TE01,will not propagate for TE01 mode.');\n",
"disp('For TE10 waves');\n",
"m2=1;\n",
"n2=0;\n",
"wc2=((2*a*b)/(sqrt((m2*b)^2+(n2*a)^2)));//Cutoff wavelength for TE10 mode in cm\n",
"disp('Cutoff wavelength for TE10 mode in cm is');\n",
"disp(wc2);\n",
"disp('Since wc TE10 > w0 TE10 is a possible mode.');\n",
"fc=(c/wc2)/10^9;//Cutoff frequency in GHz\n",
"disp('For TE11 and TM11 waves');\n",
"m3=1;\n",
"n3=1;\n",
"wc3=((2*a*b)/(sqrt((m3*b)^2+(n3*a)^2)));//Cutoff wavelength for TE11 mode in cm\n",
"disp('Cutoff wavelength for TE11 and TM11 modes in cm is');\n",
"disp(wc3);\n",
"disp('As wc for TE11 and TM11 is < w0 both TE11 and TM11 do not propagate as higher modes.');\n",
"wg=(w0/sqrt(1-(w0/wc2)^2));//Guide wavelength in cm\n",
"disp('From the above analysis we conclude that only TE10 mode is possible');\n",
"\n",
"//OUTPUT\n",
"mprintf('\nCutoff frequency is fc=%1.0f GHz \nGuide wavelength is wg=%1.3f cm',fc,wg);\n",
"\n",
"//=========================END OF PROGRAM===============================\n",
"\n",
"\n",
""
   ]
   }
],
"metadata": {
		  "kernelspec": {
		   "display_name": "Scilab",
		   "language": "scilab",
		   "name": "scilab"
		  },
		  "language_info": {
		   "file_extension": ".sce",
		   "help_links": [
			{
			 "text": "MetaKernel Magics",
			 "url": "https://github.com/calysto/metakernel/blob/master/metakernel/magics/README.md"
			}
		   ],
		   "mimetype": "text/x-octave",
		   "name": "scilab",
		   "version": "0.7.1"
		  }
		 },
		 "nbformat": 4,
		 "nbformat_minor": 0
}
