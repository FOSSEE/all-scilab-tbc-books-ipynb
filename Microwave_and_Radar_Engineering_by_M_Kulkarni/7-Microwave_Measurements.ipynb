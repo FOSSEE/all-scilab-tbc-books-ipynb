{
"cells": [
 {
		   "cell_type": "markdown",
	   "metadata": {},
	   "source": [
       "# Chapter 7: Microwave Measurements"
	   ]
	},
{
		   "cell_type": "markdown",
		   "metadata": {},
		   "source": [
			"## Example 7.1: measured_distance.sce"
		   ]
		  },
  {
"cell_type": "code",
	   "execution_count": null,
	   "metadata": {
	    "collapsed": true
	   },
	   "outputs": [],
"source": [
"//chapter-7 page 278 example 7.1\n",
"//==============================================================================\n",
"clc;\n",
"clear;\n",
"\n",
"a=4;//Length of Waveguide in cm\n",
"b=2.5;//breadth Waveguide in cm\n",
"f=10^10;//Frequency in Hz\n",
"x=0.1;//distance between twice minimum power points in cm\n",
"c=3*10^10;//Velocity of Light in cm/sec\n",
"\n",
"//CALCULATION\n",
"wc=2*a;//Cutoff wavelength in TE10 mode in cms\n",
"w0=(c/f);//Free space wavelength in cms\n",
"wg=(w0/sqrt(1-(w0/wc)^2));//Guide wavelength in cms\n",
"S=(wg/(x*(%pi)));//Voltage Standing Wave Ratio(VSWR) for double minimum method\n",
"\n",
"//OUTPUT\n",
"mprintf('\nFor double minimum method, Voltage Standing Wave Ratio(VSWR) is S=%2.1f',S);\n",
"\n",
"//=========================END OF PROGRAM===============================\n",
""
   ]
   }
,
{
		   "cell_type": "markdown",
		   "metadata": {},
		   "source": [
			"## Example 7.2: VSWR_and_Reflected_power.sce"
		   ]
		  },
  {
"cell_type": "code",
	   "execution_count": null,
	   "metadata": {
	    "collapsed": true
	   },
	   "outputs": [],
"source": [
"//chapter-7 page 279 example 7.2\n",
"//==============================================================================\n",
"clc;\n",
"clear;\n",
"\n",
"x=3;//O/P incident power from first directional coupler in mW\n",
"y=0.1;//O/P reflected power from second directional coupler in mW\n",
"\n",
"//CALCULATION\n",
"Pi=x*100;//Incident Power in mW\n",
"Pr=y*100;//Reflected Power in mW\n",
"p=sqrt(Pr/Pi);//Reflection Coefficient\n",
"S=((1+p)/(1-p));//Voltage Standing Wave Ratio(VSWR)\n",
"\n",
"//OUTPUT\n",
"mprintf('\nVoltage Standing Wave Ratio(VSWR)in the main waveguide is S=%1.2f \nReflected Power is Pr=%2.0f mW',S,Pr);\n",
"\n",
"//=========================END OF PROGRAM==============================="
   ]
   }
,
{
		   "cell_type": "markdown",
		   "metadata": {},
		   "source": [
			"## Example 7.3: VSWR.sce"
		   ]
		  },
  {
"cell_type": "code",
	   "execution_count": null,
	   "metadata": {
	    "collapsed": true
	   },
	   "outputs": [],
"source": [
"//chapter-7 page 279 example 7.3\n",
"//==============================================================================\n",
"clc;\n",
"clear;\n",
"\n",
"Pi=2.5;//Incident Power from one directional coupler in mW\n",
"Pr=0.15;//Reflected Power from other directional coupler in mW\n",
"\n",
"//CALCULATION\n",
"p=sqrt(Pr/Pi);//Reflection Coefficient\n",
"S=((1+p)/(1-p));//Voltage Standing Wave Ratio(VSWR)\n",
"\n",
"//OUTPUT\n",
"mprintf('\nVoltage Standing Wave Ratio(VSWR)in the waveguide is S=%1.2f',S);\n",
"\n",
"//=========================END OF PROGRAM==============================="
   ]
   }
,
{
		   "cell_type": "markdown",
		   "metadata": {},
		   "source": [
			"## Example 7.4: Reflected_power.sce"
		   ]
		  },
  {
"cell_type": "code",
	   "execution_count": null,
	   "metadata": {
	    "collapsed": true
	   },
	   "outputs": [],
"source": [
"//chapter-7 page 279 example 7.4\n",
"//==============================================================================\n",
"clc;\n",
"clear;\n",
"\n",
"S=2;//Voltage Standing Wave Ratio(VSWR)\n",
"C=30;//Coupling Power of a Directional Coupler in dB\n",
"Pf=4.5;//Coupler Incident Sampling Power in mW\n",
"\n",
"//CALCULATION\n",
"p=((S-1)/(S+1));//Reflection Coefficient\n",
"Pi=Pf*10^(C/10);//Incident Power in mW [From C=10log(Pi/Pf)]\n",
"Pr=(Pi*(p^2))/10^3;//Reflected Power in W [From p=sqrt(Pr/Pi)]\n",
"\n",
"//OUTPUT\n",
"mprintf('\nValue of Reflected Power is Pr=%1.2f W',Pr);\n",
"\n",
"//=========================END OF PROGRAM===============================\n",
""
   ]
   }
],
"metadata": {
		  "kernelspec": {
		   "display_name": "Scilab",
		   "language": "scilab",
		   "name": "scilab"
		  },
		  "language_info": {
		   "file_extension": ".sce",
		   "help_links": [
			{
			 "text": "MetaKernel Magics",
			 "url": "https://github.com/calysto/metakernel/blob/master/metakernel/magics/README.md"
			}
		   ],
		   "mimetype": "text/x-octave",
		   "name": "scilab",
		   "version": "0.7.1"
		  }
		 },
		 "nbformat": 4,
		 "nbformat_minor": 0
}
