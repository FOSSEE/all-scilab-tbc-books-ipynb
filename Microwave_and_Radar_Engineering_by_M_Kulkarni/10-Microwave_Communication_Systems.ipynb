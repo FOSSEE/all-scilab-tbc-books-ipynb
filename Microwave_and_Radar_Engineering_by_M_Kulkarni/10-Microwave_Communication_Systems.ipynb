{
"cells": [
 {
		   "cell_type": "markdown",
	   "metadata": {},
	   "source": [
       "# Chapter 10: Microwave Communication Systems"
	   ]
	},
{
		   "cell_type": "markdown",
		   "metadata": {},
		   "source": [
			"## Example 10.10: HPBW.sce"
		   ]
		  },
  {
"cell_type": "code",
	   "execution_count": null,
	   "metadata": {
	    "collapsed": true
	   },
	   "outputs": [],
"source": [
"//chapter-10 page 489 example 10.10\n",
"//==============================================================================\n",
"clc;\n",
"clear;\n",
"\n",
"//For a parabolic antenna\n",
"Gp=1500;//Power gain\n",
"w=0.1;//wavelength in m\n",
"\n",
"//CALCULATION\n",
"D=sqrt(Gp)*(w/(%pi));//Diameter of the circular mouth of a parabolic antenna in m\n",
"HPBW=58*(w/D);//Half Power BeamWidth of the antenna in deg\n",
"\n",
"//OUTPUT\n",
"mprintf('\nDiameter of the circular mouth of a parabolic antenna is D=%1.4f m \nHalf Power BeamWidth of the antenna is HPBW=%1.3f deg',D,HPBW);\n",
"\n",
"//=========================END OF PROGRAM=============================== "
   ]
   }
,
{
		   "cell_type": "markdown",
		   "metadata": {},
		   "source": [
			"## Example 10.11: gai.sce"
		   ]
		  },
  {
"cell_type": "code",
	   "execution_count": null,
	   "metadata": {
	    "collapsed": true
	   },
	   "outputs": [],
"source": [
"//chapter-10 page 490 example 10.11\n",
"//==============================================================================\n",
"clc;\n",
"clear;\n",
"\n",
"D=1;//Assume diameter of the parabolic reflectors in the original system in m\n",
"w=1;//Assume wavelength in m\n",
"\n",
"//CALCULATION\n",
"D1=2*D;//diameter of the parabolic reflectors in the modified system in m\n",
"G=6*(D/w)^2;//gain in original system\n",
"G1=6*(D1/w)^2;//gain in modified system\n",
"GdB=10*log10(G1/G);//Overall gain that can be expected in dB\n",
"GdBo=2*GdB;//Overall gain of the system(combining the two antennas one at the Tx and other at the Rx) in dB\n",
"\n",
"//OUTPUT\n",
"mprintf('\nOverall gain that can be expected is GdB=%1.0f dB \nOverall gain of the system(combining the two antennas one at the Tx and other at the Rx) is GdBo=%1.0f dB',GdB,GdBo);\n",
"\n",
"//=========================END OF PROGRAM=============================== \n",
"\n",
"//Note: Check the answer once ..it should be GdB=10log(4)=6 dB and GdBo=12dB"
   ]
   }
,
{
		   "cell_type": "markdown",
		   "metadata": {},
		   "source": [
			"## Example 10.12: gai.sce"
		   ]
		  },
  {
"cell_type": "code",
	   "execution_count": null,
	   "metadata": {
	    "collapsed": true
	   },
	   "outputs": [],
"source": [
"//chapter-10 page 490 example 10.12\n",
"//==============================================================================\n",
"clc;\n",
"clear;\n",
"\n",
"D=3;//dimension of a paraboloid in m\n",
"f=3*10^9;//frequency (S band) in Hz\n",
"c=3*10^8;//Velocity of light in m/sec\n",
"\n",
"//CALCULATION\n",
"w=c/f;//wave length in m\n",
"BWFN=140*(w/D);//BeamWidth between First Nulls in deg\n",
"BWHP=70*(w/D);//BeamWidth between HalfPower points in deg\n",
"G=6*(D/w)^2;//Gain of the antenna \n",
"\n",
"//OUTPUT\n",
"mprintf('\nBeamWidth between First Nulls is BWFN=%1.2f deg \nBeamWidth between HalfPower points is BWHP=%1.2f deg \nGain of the Antenna is G=%4.0f ',BWFN,BWHP,G);\n",
"\n",
"//=========================END OF PROGRAM=============================== "
   ]
   }
,
{
		   "cell_type": "markdown",
		   "metadata": {},
		   "source": [
			"## Example 10.13: power_gai.sce"
		   ]
		  },
  {
"cell_type": "code",
	   "execution_count": null,
	   "metadata": {
	    "collapsed": true
	   },
	   "outputs": [],
"source": [
"//chapter-10 page 490 example 10.13\n",
"//==============================================================================\n",
"clc;\n",
"clear;\n",
"\n",
"l=1;//(Assume)-dimension(wavelength) in cm\n",
"\n",
"//CALCULATION\n",
"x=5*l;//given square aperture of an optimum horn antenna as a side dimension in cm\n",
"A=x*x;//Area in sq.cm\n",
"Gp=4.5*(A/l^2);//Power gain of an optimum horn antenna\n",
"\n",
"//OUTPUT\n",
"mprintf('\nPower gain of an optimum horn antenna is Gp=%3.1f ',Gp);\n",
"\n",
"//=========================END OF PROGRAM==============================="
   ]
   }
,
{
		   "cell_type": "markdown",
		   "metadata": {},
		   "source": [
			"## Example 10.1: radio_horizo.sce"
		   ]
		  },
  {
"cell_type": "code",
	   "execution_count": null,
	   "metadata": {
	    "collapsed": true
	   },
	   "outputs": [],
"source": [
"//chapter-10 page 486 example 10.1\n",
"//==============================================================================\n",
"clc;\n",
"clear;\n",
"\n",
"ht=144;//TV transmitter antenna height in m\n",
"hr=25;//TV receiver antenna height in m\n",
"//Radio horizon is about 4/3 as far as the optical horizon\n",
"\n",
"//CALCULATION\n",
"dr=4*sqrt(hr);//distance in km\n",
"dt=4*sqrt(ht);//Radio Horizon in km\n",
"d=dt+dr;//The Maximum distance of Propagation of the TV signal in km \n",
"\n",
"//OUTPUT\n",
"mprintf('\nThe Maximum distance of Propagation of the TV signal is d=%2.0f km \nRadio Horizon is dt=%2.0f km',d,dt);\n",
"\n",
"//=========================END OF PROGRAM===============================\n",
""
   ]
   }
,
{
		   "cell_type": "markdown",
		   "metadata": {},
		   "source": [
			"## Example 10.2: value_of_factor.sce"
		   ]
		  },
  {
"cell_type": "code",
	   "execution_count": null,
	   "metadata": {
	    "collapsed": true
	   },
	   "outputs": [],
"source": [
"//chapter-10 page 486 example 10.2\n",
"//==============================================================================\n",
"clc;\n",
"clear;\n",
"\n",
"r=6370*10^3;//radius of the earth in m\n",
"x=-0.05*10^(-6);//the gradient of refractive index of air near the ground per m [du/dh]\n",
"\n",
"//CALCULATION\n",
"k=1/(1+(r*x));//The value of the factor by which the horizon distance of a transmitter will be modified \n",
"\n",
"//OUTPUT\n",
"mprintf('\nThe value of the factor by which the horizon distance of a transmitter will be modified is k=%1.4f',k);\n",
"\n",
"//=========================END OF PROGRAM===================================\n",
""
   ]
   }
,
{
		   "cell_type": "markdown",
		   "metadata": {},
		   "source": [
			"## Example 10.3: power.sce"
		   ]
		  },
  {
"cell_type": "code",
	   "execution_count": null,
	   "metadata": {
	    "collapsed": true
	   },
	   "outputs": [],
"source": [
"//chapter-10 page 487 example 10.3\n",
"//==============================================================================\n",
"clc;\n",
"clear;\n",
"\n",
"//For a microwave LOS link\n",
"f=2*10^9;//frequency of operation in Hz\n",
"c=3*10^8;//Velocity of light in m/sec\n",
"r=50000;//repeater spacing in m\n",
"PrdBm=-20;//required carrier power at the receiver i/p to avoid deterioration due to fading and noise in dBm\n",
"GtdB=34;//antenna gain of transmitter in dB\n",
"GrdB=34;//antenna gain of receiver in dB\n",
"LdB=10;//coupling and waveguide loss in transmitter in dB\n",
"\n",
"//CALULATION\n",
"w=c/f;//wavelength in m\n",
"x=(w^2)/(4*(%pi));\n",
"y=(4*(%pi)*r^2);\n",
"PtdBm=PrdBm+(10*log10(y))-GtdB-(10*log10(x))+LdB-GrdB;//The required Carrier Transmitter power in dBm\n",
"\n",
"//OUTPUT\n",
"mprintf('\nThe required Carrier Transmitter power is PtdBm=%2.1f dBm',PtdBm);\n",
"\n",
"//=========================END OF PROGRAM==================================="
   ]
   }
,
{
		   "cell_type": "markdown",
		   "metadata": {},
		   "source": [
			"## Example 10.4: power.sce"
		   ]
		  },
  {
"cell_type": "code",
	   "execution_count": null,
	   "metadata": {
	    "collapsed": true
	   },
	   "outputs": [],
"source": [
"//chapter-10 page 487 example 10.4\n",
"//==============================================================================\n",
"clc;\n",
"clear;\n",
"\n",
"//For a geostationary communication satellite\n",
"f=6*10^(9);//uplink frequency in Hz\n",
"Pt=1000;//Transmitter power in W\n",
"x=36000*10^3;//vertical distance between surface of earth and satellite in m\n",
"a=5;//antenna elevation angle in deg\n",
"GtdB=60;//antenna gain of transmitter in dB\n",
"GrdB=0;//antenna gain of receiver in dB\n",
"c=3*10^8;//Velocity of light in m/sec\n",
"\n",
"//CALCULATION\n",
"Gt=10^(GtdB/10);//antenna gain of transmitter\n",
"Gr=10^(GrdB/10);//antenna gain of receiver\n",
"w=c/f;//wavelength in m\n",
"Ar=(w^2)*(Gr/(4*(%pi)));//area in sqm\n",
"r=x/(sind(a));//distance between transmitter and receiver in m [From Sine formula and diagram]\n",
"Pr=((Pt*Gt*Ar)/(4*(%pi)*r^2))/10^(-12);//The received power at the input of the satellite receiver in pico watts\n",
"\n",
"//OUTPUT\n",
"mprintf('\nThe received power at the input of the satellite receiver is Pr=%1.2f pico watts(pW)',Pr);\n",
"\n",
"//=========================END OF PROGRAM=============================== "
   ]
   }
,
{
		   "cell_type": "markdown",
		   "metadata": {},
		   "source": [
			"## Example 10.5: antenna_beam_angle.sce"
		   ]
		  },
  {
"cell_type": "code",
	   "execution_count": null,
	   "metadata": {
	    "collapsed": true
	   },
	   "outputs": [],
"source": [
"//chapter-10 page 487 example 10.5\n",
"//==============================================================================\n",
"clc;\n",
"clear;\n",
"\n",
"x1=35855;//Distance between geostationary orbit to surface of earth in km\n",
"x2=6371;//Distance between center of earth to surface of earth in km\n",
"\n",
"//CALCULATION\n",
"x=x1+x2;//distance of satellite from center of earth in km\n",
"y=x2*(%pi);//Circumference of half circle arc in km\n",
"b=y/x;//Beam angle in rad\n",
"Bdeg=(b*180)/(%pi);//Beam angle in deg\n",
"\n",
"//OUTPUT\n",
"mprintf('\nAntenna Beam angle required by a satellite antenna to provide full global coverage from a geostationary orbit is Bdeg=%2.2f deg',Bdeg);\n",
"\n",
"//=========================END OF PROGRAM=============================== "
   ]
   }
,
{
		   "cell_type": "markdown",
		   "metadata": {},
		   "source": [
			"## Example 10.6: round_trip_time.sce"
		   ]
		  },
  {
"cell_type": "code",
	   "execution_count": null,
	   "metadata": {
	    "collapsed": true
	   },
	   "outputs": [],
"source": [
"//chapter-10 page 488 example 10.6\n",
"//==============================================================================\n",
"clc;\n",
"clear;\n",
"\n",
"//For a satellite communication system\n",
"h=35855;//Distance between geostationary orbit to surface of earth in km\n",
"r=6371;//Distance between center of earth to surface of earth in km\n",
"a=5;//earth station elevation angle wrt the geostationary satellite in deg\n",
"b=5;//angle in deg\n",
"c=3*10^5;//Velocity of light in km/sec\n",
"b1=90;//angle for vertical transmission in deg\n",
"a1=0;\n",
"\n",
"//CALCULATION\n",
"d=(sqrt((r+h)^2-(r*cosd(a))^2))-sind(b);//distance in km\n",
"T=2*(d/c);//The round trip time between the earth station and the satellite in sec\n",
"d1=(sqrt((r+h)^2-(r*cosd(a))^2))-sind(b);//distance in km \n",
"Tv=(2/c)*(d1-r);//The round trip time for vertical transmission between the earth station and the satellite in sec\n",
"\n",
"//OUTPUT\n",
"mprintf('\nThe round trip time between the earth station and the satellite is T=%1.3f sec \nThe round trip time for vertical transmission between the earth station and the satellite is Tv=%1.3f sec',T,Tv);\n",
"\n",
"//=========================END OF PROGRAM=============================== "
   ]
   }
,
{
		   "cell_type": "markdown",
		   "metadata": {},
		   "source": [
			"## Example 10.7: figure_of_merit.sce"
		   ]
		  },
  {
"cell_type": "code",
	   "execution_count": null,
	   "metadata": {
	    "collapsed": true
	   },
	   "outputs": [],
"source": [
"//chapter-10 page 488 example 10.7\n",
"//==============================================================================\n",
"clc;\n",
"clear;\n",
"\n",
"Tant=25;//effective noise temperature in K\n",
"Tr=75;//receiver noise temperature in K\n",
"GdB=45;//Isotropic power gain of the antenna in dB\n",
"\n",
"//CALCULATION\n",
"T=Tant+Tr;//The total noise in K\n",
"TdB=10*log10(T);//The total noise in dB\n",
"MdB=GdB-TdB;//Figure of merit of earth station in dB\n",
"\n",
"//OUTPUT\n",
"mprintf('\nFigure of merit of earth station is MdB=%2.0f dB',MdB);\n",
"\n",
"//=========================END OF PROGRAM==============================="
   ]
   }
,
{
		   "cell_type": "markdown",
		   "metadata": {},
		   "source": [
			"## Example 10.8: CNR.sce"
		   ]
		  },
  {
"cell_type": "code",
	   "execution_count": null,
	   "metadata": {
	    "collapsed": true
	   },
	   "outputs": [],
"source": [
"//chapter-10 page 488 example 10.8\n",
"//==============================================================================\n",
"clc;\n",
"clear;\n",
"\n",
"//For a Satellite communication link\n",
"EIRPdB=55.5;//Satellite ESM in dBW\n",
"MdB=35;//G/T ratio of earth station in dB\n",
"LfsdB=245.3//Freespace loss in dB\n",
"\n",
"//CALCULATION\n",
"CNRdB=EIRPdB+MdB-LfsdB+228.6;//Carrier to Noise Ratio at the earth station receiver in dB\n",
"\n",
"//OUTPUT\n",
"mprintf('\nCarrier to Noise Ratio at the earth station receiver is CNRdB=%2.1f dB',CNRdB);\n",
"\n",
"//=========================END OF PROGRAM==============================="
   ]
   }
,
{
		   "cell_type": "markdown",
		   "metadata": {},
		   "source": [
			"## Example 10.9: system_noise_temperature.sce"
		   ]
		  },
  {
"cell_type": "code",
	   "execution_count": null,
	   "metadata": {
	    "collapsed": true
	   },
	   "outputs": [],
"source": [
"//chapter-10 page 489 example 10.9\n",
"//==============================================================================\n",
"clc;\n",
"clear;\n",
"\n",
"D=30;//Diameter of a dish antenna with circular aperture in m\n",
"f=4*10^9;//down link frequency in Hz\n",
"MdB=20;//G/T ratio of earth station in dB\n",
"c=3*10^8;//Velocity of light in m/sec\n",
"\n",
"//CALCULATION\n",
"A=((%pi)/4)*D^2;//area in sqm\n",
"w=c/f;//wavelength in m\n",
"G=(4*(%pi)*A)/w^2;//Gain\n",
"GdB=10*log10(G);//Gain in dB\n",
"TsdB=GdB-MdB;//The System Noise Temperature in dB\n",
"\n",
"//OUTPUT\n",
"mprintf('\nThe System Noise Temperature is TsdB=%2.2f dB',TsdB);\n",
"\n",
"//=========================END OF PROGRAM=============================== "
   ]
   }
],
"metadata": {
		  "kernelspec": {
		   "display_name": "Scilab",
		   "language": "scilab",
		   "name": "scilab"
		  },
		  "language_info": {
		   "file_extension": ".sce",
		   "help_links": [
			{
			 "text": "MetaKernel Magics",
			 "url": "https://github.com/calysto/metakernel/blob/master/metakernel/magics/README.md"
			}
		   ],
		   "mimetype": "text/x-octave",
		   "name": "scilab",
		   "version": "0.7.1"
		  }
		 },
		 "nbformat": 4,
		 "nbformat_minor": 0
}
