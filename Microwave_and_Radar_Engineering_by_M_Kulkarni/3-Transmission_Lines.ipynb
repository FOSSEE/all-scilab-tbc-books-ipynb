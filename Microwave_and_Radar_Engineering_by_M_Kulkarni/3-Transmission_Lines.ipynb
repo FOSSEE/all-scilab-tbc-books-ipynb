{
"cells": [
 {
		   "cell_type": "markdown",
	   "metadata": {},
	   "source": [
       "# Chapter 3: Transmission Lines"
	   ]
	},
{
		   "cell_type": "markdown",
		   "metadata": {},
		   "source": [
			"## Example 3.10: Characteristic_Impedance.sce"
		   ]
		  },
  {
"cell_type": "code",
	   "execution_count": null,
	   "metadata": {
	    "collapsed": true
	   },
	   "outputs": [],
"source": [
"//chapter-3 page 52 example 3.10\n",
"//==============================================================================\n",
"clc;\n",
"clear;\n",
"\n",
"f=1000;//Frequency in Hz\n",
"l=10000;//Length of open wire transmission line in met\n",
"z1=2930;//Magnitude of a short circuit impedance in ohms\n",
"p1=26;//Phase of a short circuit impedance in deg\n",
"z2=260;//Magnitude of a open circuit impedance in ohms\n",
"p2=-32;//Phase of a open circuit impedance in deg\n",
"//CALCULATIONS\n",
"Zsc=((z1*cosd(p1))+((%i)*(z1*sind(p1))));\n",
"Zoc=((z2*cosd(p2))+((%i)*(z2*sind(p2))));\n",
"Z0=sqrt(Zsc*Zoc);//Characteristic Impedance in ohms\n",
"disp('Characteristic Impedance in ohms is');\n",
"[ro,theta]=polar(Z0)\n",
"disp(ro);\n",
"disp(theta*180/%pi);\n",
"g=((1/l)*(atanh(sqrt(Zsc/Zoc))));//Propagation Constant\n",
"disp(g)\n",
"b=imag(g);//Phase Constant\n",
"w=2*f*(%pi);//Angular Frequency in rad/sec\n",
"Vp=w/b;//Phase Velocity in m/sec\n",
"disp(Vp)\n",
"//OUTPUT\n",
"mprintf('\nPhase Velocity is Vp=%5.2f m/sec',Vp);\n",
"\n",
"//=========================END OF PROGRAM==============================================================\n",
"\n",
"\n",
"//Note: Check the calculation once "
   ]
   }
,
{
		   "cell_type": "markdown",
		   "metadata": {},
		   "source": [
			"## Example 3.1: Terminating_Impedance.sce"
		   ]
		  },
  {
"cell_type": "code",
	   "execution_count": null,
	   "metadata": {
	    "collapsed": true
	   },
	   "outputs": [],
"source": [
"//chapter-3 page 47 example 3.1\n",
"//=============================================================================\n",
"clc;\n",
"clear;\n",
"\n",
"Z0=100;//Characteristic Impedance in ohms\n",
"S=5;//Voltage Standing Wave Ratio(VSWR)\n",
"\n",
"//CALCULATION\n",
"Zm=Z0*S;//Termainating impedance at a max of the voltage standing wave\n",
"Zl=Zm;//Loading Impedance\n",
"\n",
"//OUTPUT\n",
"mprintf('Terminating impedance at a maximum of the voltage standing wave is Zl= %3.0f ohms',Zl);\n",
"\n",
"//====================END OF PROGRAM========================================"
   ]
   }
,
{
		   "cell_type": "markdown",
		   "metadata": {},
		   "source": [
			"## Example 3.2: power.sce"
		   ]
		  },
  {
"cell_type": "code",
	   "execution_count": null,
	   "metadata": {
	    "collapsed": true
	   },
	   "outputs": [],
"source": [
"//chapter-3 page 48 example 3.3\n",
"//==============================================================================\n",
"clc;\n",
"clear;\n",
"\n",
"R=8;//Resistance of a transmission line in ohm/km\n",
"L=0.002;//Inductance of a transmission line in henry/km\n",
"C=0.002*(10^(-6));//Capacitance of a transmission line in Farads\n",
"G=0.07*(10^(-6));//Conductance of a transmission line in siemens/km\n",
"f=2000;//Frequency in Hz\n",
"w=2*(%pi)*f;//Angular Frequency in rad/sec\n",
"Vs=2;//Input Voltage in volts\n",
"l=500;//Length of Transmission line in km\n",
"\n",
"//CALCULATIONS\n",
"Z0=sqrt((R+(w*L*(%i)))/(G+(w*C*(%i))));//Characteristic Impedance\n",
"x=real(Z0);\n",
"y=imag(Z0);\n",
"disp('Characteristic Impedance in ohms is');\n",
"disp(Z0);\n",
"g=sqrt((R+(w*L*(%i)))*(G+(w*C*(%i))));//Propagation Constant\n",
"a=real(g);//Attenuation Constant in NP/km\n",
"b=imag(g);//Phase Constant in rad/km\n",
"Is=Vs/Z0;\n",
"I0=Is*exp(-(g*l));//Load current\n",
"m=sqrt((real(I0))^2+(imag(I0)^2));\n",
"P=(m^2)*x;//Power delivered to the load in watts\n",
"\n",
"//OUTPUT\n",
"mprintf('\nAttenuation Constant is a=%1.6f NP/km \nPhase Constant is b=%1.6f rad/km \nPower delivered to the load is P=%1.6f watts',a,b,P);\n",
"\n",
"//===============END OF PROGRAM================================\n",
"\n",
""
   ]
   }
,
{
		   "cell_type": "markdown",
		   "metadata": {},
		   "source": [
			"## Example 3.3: phase_velocity.sce"
		   ]
		  },
  {
"cell_type": "code",
	   "execution_count": null,
	   "metadata": {
	    "collapsed": true
	   },
	   "outputs": [],
"source": [
"//chapter-3 page 48 example 3.3\n",
"//==============================================================================\n",
"clc;\n",
"clear;\n",
"\n",
"w=4*(%pi);//Angular Frequency in rad/sec\n",
"b=0.02543;//Phase Constant in rad/km\n",
"\n",
"//CALCULATION\n",
"Vp=w/b;//Phase Velocity in km/sec\n",
"\n",
"//OUTPUT\n",
"mprintf('Phase Velocity is Vp=%3.2f km/sec',Vp);\n",
"\n",
"//=========END OF PROGRAM=========================\n",
"\n",
"//NOTE:CHECK THE CALCULATION PART GIVEN IN THE TEXTBOOK\n",
"     //GIVEN ANSWER 494.22 KM/SEC\n",
"     //GETTING ANSWER 494.16 KM/SEC\n",
"\n",
""
   ]
   }
,
{
		   "cell_type": "markdown",
		   "metadata": {},
		   "source": [
			"## Example 3.4: power.sce"
		   ]
		  },
  {
"cell_type": "code",
	   "execution_count": null,
	   "metadata": {
	    "collapsed": true
	   },
	   "outputs": [],
"source": [
"//chapter-3 page 48 example 3.4\n",
"//==============================================================================\n",
"clc;\n",
"clear;\n",
"\n",
"f=37.5*10^6;//Frequency in Hz\n",
"c=3*10^8;//Velocity of Light in m/sec\n",
"l1=10;//Length of line in met\n",
"Vg=200;//Generator Voltage in volts(rms)\n",
"Zint=200;//Internal Resistance of Generator in ohms\n",
"Z0=200;//Characteristic Impedance in ohms\n",
"Zl=100;//Load impedance in ohms\n",
"\n",
"//CALCULATIONS\n",
"w=c/f;//Wave Length in met\n",
"b=2*(%pi)/w;\n",
"l1=(5/4)*w;//For Lossless Line\n",
"Zi=Z0*((Zl+(Z0*(%i)*tan(b*l1)))/(Z0+(Zl*(%i)*tan(b*l1))));//Input Impedance at Generator end\n",
"Vs=Vg*(Zi/(Zi+Z0));//Voltage in line in volts\n",
"Is=Vg/(Zi+Z0);//Current in Line drawn from Generator in amps\n",
"Ps=Vs*Is;//Power drawn in line\n",
"Pl=Ps;//For Lossless Lines Power delivered to load is equal to the Power drawn in line\n",
"Il=sqrt((Pl/Zl));//Current flowing in the load\n",
"m=real(Il);//Magnitude of Current flowing in the load\n",
"p=imag(Il);//Phase of Current flowing in the load\n",
"\n",
"//CALCULATIONS\n",
"mprintf('\nCurrent drawn from Generator is Is=%1.3f amps \nMagnitude of Current flowing in the load is m=%1.3f \nPhase of Current flowing in the load is p=%2.2f deg \nPower delivered to load is Pl=%2.2f watts',Is,m,p,Pl);\n",
"\n",
"//=========================END OF PROGRAM=============================================================="
   ]
   }
,
{
		   "cell_type": "markdown",
		   "metadata": {},
		   "source": [
			"## Example 3.5: VSWR_and_Reflection_coefficient.sce"
		   ]
		  },
  {
"cell_type": "code",
	   "execution_count": null,
	   "metadata": {
	    "collapsed": true
	   },
	   "outputs": [],
"source": [
"//chapter-3 page 50 example 3.5\n",
"//==============================================================================\n",
"clc;\n",
"clear;\n",
"\n",
"Z0=50;//Characteristic Impedance in ohms\n",
"f=300*10^6;//Frequency in Hz\n",
"Zl=50+(50*(%i));//Terminating load impedance in ohms\n",
"w=((3*10^8)/f);//Wave Length\n",
"\n",
"//CALCULATIONS\n",
"p=((Zl-Z0)/(Zl+Z0));//Reflection Coefficient(Complex Form)\n",
"y=real(p);\n",
"z=imag(p);\n",
"x=sqrt(y^2+z^2);//Reflection Coefficient Value\n",
"s=((1+x)/(1-x));//Voltage Standing Wave Ratio(VSWR)\n",
"\n",
"//OUTPUT\n",
"mprintf('\nReflection Coefficient is x=%1.4f \nVoltage Standing Wave Ratio(VSWR) is s=%1.2f',x,s);\n",
"\n",
"//===================END OF PROGRAM====================================="
   ]
   }
,
{
		   "cell_type": "markdown",
		   "metadata": {},
		   "source": [
			"## Example 3.6: point_of_attachment.sce"
		   ]
		  },
  {
"cell_type": "code",
	   "execution_count": null,
	   "metadata": {
	    "collapsed": true
	   },
	   "outputs": [],
"source": [
"//chapter-3 page 50 example 3.6\n",
"//==============================================================================\n",
"clc;\n",
"clear;\n",
"\n",
"Zl=100;//Pure Load resistance of a dipole antenna in ohms\n",
"Z0=600;//Characteristic Impedance of a wire feeder in ohms\n",
"f=100*10^6;//Frequency in Hz\n",
"c=3*10^8;//Velocity of Light in m/sec\n",
"\n",
"//CALCULATIONS\n",
"w=c/f;//Wave Length in met\n",
"l=((w/(2*(%pi)))*atan(sqrt(Zl/Z0)));//The position of the Stub in met\n",
"x=atand(sqrt((Zl*Z0))/(Zl-Z0));\n",
"y=180+x;//In Degrees\n",
"l1=((w/(2*(%pi)))*y);//Length of Short Circuited Stub in met\n",
"l0=l1*((%pi)/180);\n",
"\n",
"//OUTPUTS\n",
"mprintf('\nThe Point of Attachment is l=%1.3f met \nLength of SC Stub is l1=%1.2f met',l,l0);\n",
"\n",
"//=========================END OF PROGRAM==============================================================\n",
"\n",
"\n",
""
   ]
   }
,
{
		   "cell_type": "markdown",
		   "metadata": {},
		   "source": [
			"## Example 3.7: Terminating_Impedance.sce"
		   ]
		  },
  {
"cell_type": "code",
	   "execution_count": null,
	   "metadata": {
	    "collapsed": true
	   },
	   "outputs": [],
"source": [
"//chapter-3 page 50 example 3.7\n",
"//==============================================================================\n",
"clc;\n",
"clear;\n",
"\n",
"Z0=50;//Characteristic Impedance in ohms\n",
"S=3.2;//Voltage Standing Wave Ratio(VSWR)\n",
"\n",
"//It is possible to measure the load impedance if the line is assumed lossless,by measuring the VSWR,wavelength and the distance from the load to the nearest voltage minimum\n",
"//CALCULATIONS\n",
"w=1;//Assume Wavelength in met\n",
"Xmin=0.23*w;//Distance from the load to the nearest voltage minimum in met\n",
"b=(2*(%pi))/w;\n",
"Zl=Z0*((1-(S*(%i)*tan(b*Xmin)))/(S-((%i)*tan(b*Xmin))));//Load impedance in ohms\n",
"disp('Load impedance in ohms is');\n",
"disp(Zl);\n",
"\n",
"\n",
"//=========================END OF PROGRAM===================================================\n",
"\n",
"//Note: Check the answer given in Text book once. I think it is wrong in text book.."
   ]
   }
,
{
		   "cell_type": "markdown",
		   "metadata": {},
		   "source": [
			"## Example 3.8: VSWR_and_Impedance.sce"
		   ]
		  },
  {
"cell_type": "code",
	   "execution_count": null,
	   "metadata": {
	    "collapsed": true
	   },
	   "outputs": [],
"source": [
"//chapter-3 page 51 example 3.8\n",
"//==============================================================================\n",
"clc;\n",
"clear;\n",
"\n",
"Z0=50;//Characteristic Impedance in ohms\n",
"Zl=100;//Load impedance in ohms\n",
"f=300*10^3;//Frequency in Hz\n",
"Pl=0.05;//Load Power in watts\n",
"c=3*10^8;//Velocity of Light in m/sec\n",
"\n",
"//CALCULATIONS\n",
"w=c/f;//Wave Length in met\n",
"p=((Zl-Z0)/(Zl+Z0));//Reflection Coefficient\n",
"S=((1+p)/(1-p));//Voltage Standing Wave Ratio(VSWR)\n",
"\n",
"//Since Zl>Z0, first Vmax is located at the load and first Vmin is located at Wavelength/4\n",
"x1max=0;//Position of first Vmax (located at the load) from load in met\n",
"x1min=w/4;//Position of first Vmin from load in met\n",
"Vmax=sqrt(Pl*Zl);//Value of maximum voltage in volts\n",
"Vmin=Vmax/S;//Value of minimum voltage in volts\n",
"Zmax=Z0*S;//Impedance at Vmax in ohms\n",
"Zmin=Z0/S;//Impedance at Vmin in ohms\n",
"\n",
"//OUTPUTS\n",
"mprintf('\nVoltage Standing Wave Ratio(VSWR) is S=%1.0f \nPosition of first Vmax from load is x1max=%d met (located at the load) \nPosition of first Vmin from load is x1min=%3.0f met \nValue of maximum voltage is Vmax=%1.2f volts \nValue of minimum voltage is Vmin=%1.2f volts \nImpedance at Vmax is Zmax=%3.0f ohms \nImpedance at Vmin is Zmin=%2.0f ohms',S,x1max,x1min,Vmax,Vmin,Zmax,Zmin);\n",
"\n",
"//=========================END OF PROGRAM=============================================================="
   ]
   }
,
{
		   "cell_type": "markdown",
		   "metadata": {},
		   "source": [
			"## Example 3.9: Reflection_loss.sce"
		   ]
		  },
  {
"cell_type": "code",
	   "execution_count": null,
	   "metadata": {
	    "collapsed": true
	   },
	   "outputs": [],
"source": [
"//chapter-3 page 52 example 3.9\n",
"//==============================================================================\n",
"clc;\n",
"clear;\n",
"\n",
"Z0=600;//Characteristic Impedance in ohms\n",
"Zs=50;//Generator impedance in ohms\n",
"l=200;//Length of transmission line in met\n",
"Zl=500;//Load impedance in ohms\n",
"\n",
"//CALCULATIONS\n",
"p=((Zl-Z0)/(Zl+Z0));//Reflection Coefficient\n",
"x=abs(p);\n",
"Lr=10*log10(1/(1-x^2));//Reflection loss in dB\n",
"La=0;//Since the line is lossless,attenuation loss is zero dB\n",
"Lt=La+Lr;//Transmission loss in dB\n",
"Lrt=10*log10(x);//Return loss in dB\n",
"\n",
"//OUTPUT\n",
"mprintf('\nReflection loss is Lr=%1.3f dB \nTransmission loss is Lt=%1.3f dB \nReturn loss is Lrt=%2.3f dB',Lr,Lt,Lrt);\n",
"\n",
"//=========================END OF PROGRAM=============================================================="
   ]
   }
],
"metadata": {
		  "kernelspec": {
		   "display_name": "Scilab",
		   "language": "scilab",
		   "name": "scilab"
		  },
		  "language_info": {
		   "file_extension": ".sce",
		   "help_links": [
			{
			 "text": "MetaKernel Magics",
			 "url": "https://github.com/calysto/metakernel/blob/master/metakernel/magics/README.md"
			}
		   ],
		   "mimetype": "text/x-octave",
		   "name": "scilab",
		   "version": "0.7.1"
		  }
		 },
		 "nbformat": 4,
		 "nbformat_minor": 0
}
