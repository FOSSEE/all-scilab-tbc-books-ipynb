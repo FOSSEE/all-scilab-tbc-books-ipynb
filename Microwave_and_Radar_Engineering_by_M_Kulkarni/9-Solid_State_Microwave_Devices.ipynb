{
"cells": [
 {
		   "cell_type": "markdown",
	   "metadata": {},
	   "source": [
       "# Chapter 9: Solid State Microwave Devices"
	   ]
	},
{
		   "cell_type": "markdown",
		   "metadata": {},
		   "source": [
			"## Example 9.10: drift_time.sce"
		   ]
		  },
  {
"cell_type": "code",
	   "execution_count": null,
	   "metadata": {
	    "collapsed": true
	   },
	   "outputs": [],
"source": [
"//chapter-9 page 413 example 9.10\n",
"//==============================================================================\n",
"clc;\n",
"clear;\n",
"\n",
"//For an IMPATT diode\n",
"L=2*10^(-6);//Drift Length in m\n",
"Vd=10^5;//Carrier Drift Velocity (Assume/Consider) in m/sec\n",
"\n",
"//CALCULATION\n",
"t=(L/Vd)/10^(-9);//Drift Time of the Carrier in nano sec [From f=(1/2t)=(Vd/2L)]\n",
"t1=t*10^(-9);\n",
"f=(1/(2*t1))/10^9;//Operating Frequency of the diode in GHz\n",
"\n",
"//OUTPUT\n",
"mprintf('\nDrift Time of the Carrier is t=%1.2f nano sec \nOperating Frequency of the diode is f=%2.0f GHz',t,f);\n",
"\n",
"//=========================END OF PROGRAM===============================\n",
""
   ]
   }
,
{
		   "cell_type": "markdown",
		   "metadata": {},
		   "source": [
			"## Example 9.11: breakdown_voltage_and_etc.sce"
		   ]
		  },
  {
"cell_type": "code",
	   "execution_count": null,
	   "metadata": {
	    "collapsed": true
	   },
	   "outputs": [],
"source": [
"//chapter-9 page 413 example 9.11\n",
"//==============================================================================\n",
"clc;\n",
"clear;\n",
"\n",
"//For an M-Si-M Basitt diode \n",
"er=11.8;//Relative dielectric constant of Si \n",
"e0=8.854*10^(-12);//Permittivity of freespace in F/m\n",
"N=3*10^(21);//Donor Concentration per m^3\n",
"L=6.2*10^(-6);//Si Length in m\n",
"q=1.6*10^(-19);//Charge of an Electron in C\n",
"\n",
"//CALCULATION\n",
"Vbd=((q*N*L^2)/(er*e0));//Breakdown Voltage in V\n",
"Ebd=(Vbd/L)/10^3;//Breakdown Electric Field in kV/m\n",
"\n",
"//OUTPUT\n",
"mprintf('\nBreakdown Voltage is Vbd=%3.1f V \nBreakdown Electric Field is Ebd=%5.0f kV/m',Vbd,Ebd);\n",
"\n",
"//=========================END OF PROGRAM==============================="
   ]
   }
,
{
		   "cell_type": "markdown",
		   "metadata": {},
		   "source": [
			"## Example 9.12: max_power_gain_and_etc.sce"
		   ]
		  },
  {
"cell_type": "code",
	   "execution_count": null,
	   "metadata": {
	    "collapsed": true
	   },
	   "outputs": [],
"source": [
"//chapter-9 page 413 example 9.12\n",
"//==============================================================================\n",
"clc;\n",
"clear;\n",
"\n",
"//For an upconverter parametric amplifier\n",
"rQ=8;//figure of merit for a diode nonlinear capacitor\n",
"r=0.2;\n",
"y=8;//ratio of output frequency over signal frequency (f0/fs)\n",
"Td=300;//Diode Temperature in K\n",
"T0=300;//Ambient Temperature in K\n",
"\n",
"//CALCULATION\n",
"X=((rQ)^2)/y;\n",
"G=((y*X)/(1+sqrt(1+X))^2);//Max power gain \n",
"GdB=10*log10(G);//Maximum Power Gain in dB\n",
"F=(1+((2*Td/T0)*((1/rQ)+(1/rQ)^2)));//Noise Figure \n",
"FdB=10*log10(F);//Noise Figure in dB\n",
"BW=2*r*sqrt(y);//Bandwidth\n",
"\n",
"//OUTPUT\n",
"mprintf('\nMaximum Power Gain is GdB=%1.2f dB\nNoise Figure is FdB=%1.2f dB \nBandWidth is BW=%1.2f',GdB,FdB,BW);\n",
"\n",
"//=========================END OF PROGRAM===============================\n",
"\n",
" "
   ]
   }
,
{
		   "cell_type": "markdown",
		   "metadata": {},
		   "source": [
			"## Example 9.13: gain_and_etc.sce"
		   ]
		  },
  {
"cell_type": "code",
	   "execution_count": null,
	   "metadata": {
	    "collapsed": true
	   },
	   "outputs": [],
"source": [
"//chapter-9 page 414 example 9.13\n",
"//==============================================================================\n",
"clc;\n",
"clear;\n",
"\n",
"//For a negative resistance parametric amplifier\n",
"fs=2*10^9;//Signal Frequency in Hz\n",
"fp=12*10^9;//pump Frequency in Hz\n",
"fi=10*10^9;//idler Frequency in Hz\n",
"fd=5*10^9;//Frequency in Hz\n",
"Ri=1000;//o/p resistance of idler generator in ohms\n",
"Rg=1000;//o/p resistance of signal generator in ohms\n",
"RTs=1000;//total series resistance at fs in ohms\n",
"RTi=1000;//total series resistance at fi in ohms\n",
"r=0.35;\n",
"rQ=10;//figure of merit\n",
"Td=300;//Avg Diode Temperature in K\n",
"T0=300;//Ambient Temperature in K\n",
"C=0.01*10^(-12);//Capacitance in F\n",
"\n",
"//CALCULATION\n",
"ws=2*(%pi)*fs;\n",
"wi=2*(%pi)*fi;\n",
"R=((r^2)/(ws*wi*RTi*C^2));//Equivalent noise resistance in ohms\n",
"a=(R/RTs);\n",
"G=((4*fi*a*Rg*Ri)/(fs*RTs*RTi*(1-a)^2));//Gain\n",
"GdB=10*log10(G);//Gain in dB\n",
"F=(1+((2*Td/T0)*((1/rQ)+(1/rQ)^2)));//Noise Figure \n",
"FdB=10*log10(F);//Noise Figure in dB\n",
"BW=((r/2)*(sqrt(fd/(fs*G))));\n",
"\n",
"//OUTPUT\n",
"mprintf('\nEquivalent noise resistance is R=%4.1f ohms\nGain is GdB=%2.1f dB\nNoise Figure is FdB=%1.2f dB \nBandWidth is BW=%1.3f',R,GdB,FdB,BW);\n",
"\n",
"//=========================END OF PROGRAM===============================\n",
"\n",
"//Note: Check the Bandwidth answer is once It should be 0.027"
   ]
   }
,
{
		   "cell_type": "markdown",
		   "metadata": {},
		   "source": [
			"## Example 9.1: frequency.sce"
		   ]
		  },
  {
"cell_type": "code",
	   "execution_count": null,
	   "metadata": {
	    "collapsed": true
	   },
	   "outputs": [],
"source": [
"//chapter-9 page 411 example 9.1\n",
"//==============================================================================\n",
"clc;\n",
"clear;\n",
"\n",
"L=2*10^(-6);//Drift Length of a IMPATT diode in m\n",
"Vd=(10^7)*(10^(-2));//Drift Velocity for Siin m/sec\n",
"\n",
"//CALCULATION\n",
"f=(Vd/(2*L))/10^9;//Operating Frequency in GHz\n",
"\n",
"//OUTPUT\n",
"mprintf('\nOperating Frequency of the IMPATT diode is f=%2.0f GHz',f);\n",
"\n",
"//=========================END OF PROGRAM==============================="
   ]
   }
,
{
		   "cell_type": "markdown",
		   "metadata": {},
		   "source": [
			"## Example 9.2: threshold_electric_field.sce"
		   ]
		  },
  {
"cell_type": "code",
	   "execution_count": null,
	   "metadata": {
	    "collapsed": true
	   },
	   "outputs": [],
"source": [
"//chapter-9 page 411 example 9.2\n",
"//==============================================================================\n",
"clc;\n",
"clear;\n",
"\n",
"L=75*10^(-6);//Device Length in m\n",
"V=25;//Voltage Pulse Amplified in V\n",
"f=10*10^9;//Operating Frequency in Hz\n",
"\n",
"//CALCULATION\n",
"Eth=(V/L)/10^5;//Threshold Electric Field in kV/cm\n",
"\n",
"//OUTPUT\n",
"mprintf('\nThreshold Electric Field is Eth=%1.2f kV/cm',Eth);\n",
"\n",
"//=========================END OF PROGRAM===============================\n",
""
   ]
   }
,
{
		   "cell_type": "markdown",
		   "metadata": {},
		   "source": [
			"## Example 9.3: power_gai.sce"
		   ]
		  },
  {
"cell_type": "code",
	   "execution_count": null,
	   "metadata": {
	    "collapsed": true
	   },
	   "outputs": [],
"source": [
"//chapter-9 page 411 example 9.3\n",
"//==============================================================================\n",
"clc;\n",
"clear;\n",
"\n",
"fs=2*10^9;//Signal Frequency in Hz\n",
"fp=12*10^9//Pump Frequency in Hz\n",
"Ri=16;//O/P resistance of signal generator in ohms\n",
"Rs=1000;//On types resistance of signal generator in ohms\n",
"\n",
"//CALCULATION\n",
"P=10*log10((fp-fs)/fs);//Power gain in dB\n",
"Pusb=10*log10((fp+fs)/fs);//Power gain as USB converter in dB\n",
"\n",
"//OUTPUT\n",
"mprintf('\nPower gain is P=%1.2f dB \nPower gain as USB converter is Pusb=%1.2f dB',P,Pusb);\n",
"\n",
"//=========================END OF PROGRAM===============================\n",
"\n",
"\n",
"//Note: Answer given in textbook is wrong Check it once..\n",
"//Correct answers are Power gain is P=6.99 dB \n",
"//                    Power gain as USB converter is Pusb=8.45 dB "
   ]
   }
,
{
		   "cell_type": "markdown",
		   "metadata": {},
		   "source": [
			"## Example 9.4: breakdown_voltage_and_etc.sce"
		   ]
		  },
  {
"cell_type": "code",
	   "execution_count": null,
	   "metadata": {
	    "collapsed": true
	   },
	   "outputs": [],
"source": [
"//chapter-9 page 411 example 9.4\n",
"//==============================================================================\n",
"clc;\n",
"clear;\n",
"\n",
"es=12.5;//Relative Dielectric constant\n",
"e0=8.854*10^(-12);//Permittivity in Free Space in F/m\n",
"N=3.2*10^22;//Donor Concentration per m^3\n",
"L=8*10^(-6);//Length of Si BARITT diode in m\n",
"q=1.6*10^(-19);//Charge of an Electron in C\n",
"\n",
"//CALCULATION\n",
"Vc=((q*N*L^2)/(2*es*e0))/10^3;//Critical Voltage in kV\n",
"Vbd=2*Vc;//Breakdown Voltage in kV\n",
"Ebd=(Vbd/L)/100;//Breakdown Electric Field in kV/cm\n",
"\n",
"//OUTPUT\n",
"mprintf('\nCritical Voltage is Vc=%1.2f kV \nBreakdown Voltage is Vbd=%1.2f kV \nBreakdown Electric Field is Ebd=%6.2f kV/cm',Vc,Vbd,Ebd);\n",
"\n",
"//=========================END OF PROGRAM==============================="
   ]
   }
,
{
		   "cell_type": "markdown",
		   "metadata": {},
		   "source": [
			"## Example 9.5: Avalanche_zone_velocity.sce"
		   ]
		  },
  {
"cell_type": "code",
	   "execution_count": null,
	   "metadata": {
	    "collapsed": true
	   },
	   "outputs": [],
"source": [
"//chapter-9 page 412 example 9.5\n",
"//==============================================================================\n",
"clc;\n",
"clear;\n",
"\n",
"J=33000;//Current density in A/sqcm\n",
"Na=2.5*10^16;//Doping Concentation in TRAPATT diode per cubic cm\n",
"q=1.6*10^(-19);//Charge of an Electron in C\n",
"\n",
"//CALCULATION\n",
"Vz=(J/(q*Na))/10^5;//Avalanche Zone Velocity in Km/sec\n",
"\n",
"//OUTPUT\n",
"mprintf('\nAvalanche Zone Velocity is Vz=%2.1f Km/sec',Vz);\n",
"\n",
"//=========================END OF PROGRAM==============================="
   ]
   }
,
{
		   "cell_type": "markdown",
		   "metadata": {},
		   "source": [
			"## Example 9.6: power_gai.sce"
		   ]
		  },
  {
"cell_type": "code",
	   "execution_count": null,
	   "metadata": {
	    "collapsed": true
	   },
	   "outputs": [],
"source": [
"//chapter-9 page 412 example 9.6\n",
"//==============================================================================\n",
"clc;\n",
"clear;\n",
"\n",
"//For an IMPATT diode power amplifier\n",
"Rd=25;//Negative Resistance in ohms\n",
"Rl=50;//Load Resistance in ohms\n",
"\n",
"//CALCULATION\n",
"x=abs(Rd);\n",
"G=((-x-Rl)/(-x+Rl))^2;//Power gain of an IMPATT diode\n",
"\n",
"//OUTPUT\n",
"mprintf('\nPower gain of an IMPATT diode is G=%1.0f',G);\n",
"\n",
"//=========================END OF PROGRAM===============================\n",
"\n",
""
   ]
   }
,
{
		   "cell_type": "markdown",
		   "metadata": {},
		   "source": [
			"## Example 9.7: minimum_voltage.sce"
		   ]
		  },
  {
"cell_type": "code",
	   "execution_count": null,
	   "metadata": {
	    "collapsed": true
	   },
	   "outputs": [],
"source": [
"//chapter-9 page 412 example 9.7\n",
"//==============================================================================\n",
"clc;\n",
"clear;\n",
"\n",
"//For a Gunn Diode\n",
"L=5*10^(-4);//Drift Length in cm\n",
"Vg=3300;//Voltage gradient in V/cm [Vg>3.3 kV/cm]\n",
" \n",
"//CALCULATION\n",
"Vmin=Vg*L;//Minimum Voltage needed to initiate Gunn effect in volts\n",
"\n",
"//OUTPUT\n",
"mprintf('\nMinimum Voltage needed to initiate Gunn effect is Vmin=%1.2f volts',Vmin);\n",
"\n",
"//=========================END OF PROGRAM===============================\n",
""
   ]
   }
,
{
		   "cell_type": "markdown",
		   "metadata": {},
		   "source": [
			"## Example 9.8: rational_frequency.sce"
		   ]
		  },
  {
"cell_type": "code",
	   "execution_count": null,
	   "metadata": {
	    "collapsed": true
	   },
	   "outputs": [],
"source": [
"//chapter-9 page 412 example 9.8\n",
"//==============================================================================\n",
"clc;\n",
"clear;\n",
"\n",
"//For a Gunn Diode\n",
"L=20*10^(-4);//Active Length in cm\n",
"Vd=2*10^7;//Drift Velocity of Electrons in cm/sec\n",
"Ec=3.3*10^3;//Criticl Field for GaAs in V/cm\n",
"\n",
"//CALCULATION\n",
"fn=(Vd/L)/10^9;//Natural(Rational) Frequency in GHz\n",
"Vc=L*Ec;//Critical Voltage of the diode in volts\n",
"\n",
"//OUTPUT\n",
"mprintf('\nNatural(Rational) Frequency is fn=%2.0f GHz \nCritical Voltage of the diode is Vc=%1.1f volts',fn,Vc);\n",
"\n",
"//=========================END OF PROGRAM===============================\n",
" "
   ]
   }
,
{
		   "cell_type": "markdown",
		   "metadata": {},
		   "source": [
			"## Example 9.9: efficiency_and_etc.sce"
		   ]
		  },
  {
"cell_type": "code",
	   "execution_count": null,
	   "metadata": {
	    "collapsed": true
	   },
	   "outputs": [],
"source": [
"//chapter-9 page 412 example 9.9\n",
"//==============================================================================\n",
"clc;\n",
"clear;\n",
"\n",
"//For an IMPATT diode\n",
"Lp=0.5*10^(-9);//Inductance in Henry\n",
"Cj=0.5*10^(-12);//Capacitance in Farad\n",
"Ip=0.8;//RF peak current in A\n",
"Rl=2;//Load Resistance in ohms\n",
"Vbd=100;//Breakdown Voltage in V\n",
"Ib=0.1;//dc Bias current in A\n",
"\n",
"//CALCULATION\n",
"f=(1/(2*(%pi)*sqrt(Lp*Cj)))/10^9;//Resonant Frequency in GHz\n",
"n=((Rl*Ip^2)/(2*Vbd*Ib))*100;//Efficiency in Percentage\n",
"\n",
"//OUTPUT\n",
"mprintf('\nResonant Frequency is f=%2.0f GHz \nEfficiency is n=%1.1f percentage',f,n);\n",
"\n",
"//=========================END OF PROGRAM===============================\n",
""
   ]
   }
],
"metadata": {
		  "kernelspec": {
		   "display_name": "Scilab",
		   "language": "scilab",
		   "name": "scilab"
		  },
		  "language_info": {
		   "file_extension": ".sce",
		   "help_links": [
			{
			 "text": "MetaKernel Magics",
			 "url": "https://github.com/calysto/metakernel/blob/master/metakernel/magics/README.md"
			}
		   ],
		   "mimetype": "text/x-octave",
		   "name": "scilab",
		   "version": "0.7.1"
		  }
		 },
		 "nbformat": 4,
		 "nbformat_minor": 0
}
