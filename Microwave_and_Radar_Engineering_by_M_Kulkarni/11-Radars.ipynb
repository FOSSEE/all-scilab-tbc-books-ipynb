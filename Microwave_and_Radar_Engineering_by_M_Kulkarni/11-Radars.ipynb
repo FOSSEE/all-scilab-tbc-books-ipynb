{
"cells": [
 {
		   "cell_type": "markdown",
	   "metadata": {},
	   "source": [
       "# Chapter 11: Radars"
	   ]
	},
{
		   "cell_type": "markdown",
		   "metadata": {},
		   "source": [
			"## Example 11.1: max_range.sce"
		   ]
		  },
  {
"cell_type": "code",
	   "execution_count": null,
	   "metadata": {
	    "collapsed": true
	   },
	   "outputs": [],
"source": [
"//chapter-11 page 504 example 11.1\n",
"//==============================================================================\n",
"clc;\n",
"clear;\n",
"\n",
"//For a radar system\n",
"Pt=600000;//peak pulse power in W\n",
"Smin=10^(-13);//minimum detectable signal in W \n",
"Ae=5;//cross sectional area of the radar antenna in sq m\n",
"w=0.03;//wavelength in m\n",
"s=20;//radar cross sectional area in sq m\n",
"\n",
"//CALCULATION\n",
"Rmax=(((Pt*s*Ae^2)/(4*(%pi)*Smin*w^2))^(1/4))/1000;//Maximum range of a radar system in km\n",
"RMax=Rmax/1.853;//In nautical miles; 1 nm=1.853 km\n",
"\n",
"//OUTPUT\n",
"mprintf('\nMaximum range of a radar system is Rmax=%3.3f km',Rmax);\n",
"disp('In nautical miles; 1 nm=1.853 km');\n",
"mprintf('\nMaximum range of a radar system in nautical miles is RMax=%3.0f nm',RMax);\n",
"\n",
"//=========================END OF PROGRAM==============================="
   ]
   }
,
{
		   "cell_type": "markdown",
		   "metadata": {},
		   "source": [
			"## Example 11.2: max_range.sce"
		   ]
		  },
  {
"cell_type": "code",
	   "execution_count": null,
	   "metadata": {
	    "collapsed": true
	   },
	   "outputs": [],
"source": [
"//chapter-11 page 504 example 11.2\n",
"//==============================================================================\n",
"clc;\n",
"clear;\n",
"\n",
"//For a radar system\n",
"Pt=250000;//peak transmitted power in W\n",
"G=2500;//power gain of the antenna\n",
"Smin=10^(-14);//minimum detectable signal in W \n",
"Ae=10;//cross sectional area of the radar antenna in sq m\n",
"f=10*10^9;//frequency of radar in Hz\n",
"s=2;//radar cross sectional area in sq m\n",
"c=3*10^8;//Velocity of light in m/sec\n",
"\n",
"//CALCULATION\n",
"w=c/f;//wavelength in m\n",
"Rmax=(((Pt*G*Ae*s)/(Smin*(4*(%pi))^2))^(1/4))/1000;//Maximum range of a radar system in km\n",
"\n",
"//OUTPUT\n",
"mprintf('\nMaximum range of a radar system is Rmax=%3.2f km',Rmax);\n",
"\n",
"//=========================END OF PROGRAM==============================="
   ]
   }
,
{
		   "cell_type": "markdown",
		   "metadata": {},
		   "source": [
			"## Example 11.3: RCS.sce"
		   ]
		  },
  {
"cell_type": "code",
	   "execution_count": null,
	   "metadata": {
	    "collapsed": true
	   },
	   "outputs": [],
"source": [
"//chapter-11 page 504 example 11.3\n",
"//==============================================================================\n",
"clc;\n",
"clear;\n",
"\n",
"//For a marine radar system\n",
"Pt=250000;//peak transmitted power in W\n",
"G=4000;//power gain of the antenna\n",
"R=50000;//maximum range of radar in m\n",
"Pr=10^(-11);//minimum detectable signal in W \n",
"f=10*10^9;//frequency of radar in H\n",
"c=3*10^8;//Velocity of light in m/sec\n",
"\n",
"//CALCULATION\n",
"w=c/f;//wavelength in m\n",
"Ae=((G*w^2)/(4*(%pi)));//cross sectional area of the radar antenna in sq m\n",
"s=((Pr*(4*(%pi)*R^2)^2)/(Pt*G*Ae));//The cross section of the target the radar can sight in sq m\n",
"\n",
"//OUTPUT\n",
"mprintf('\nThe cross section of the target the radar can sight is s=%2.2f sq m',s);\n",
"\n",
"//=========================END OF PROGRAM==============================="
   ]
   }
,
{
		   "cell_type": "markdown",
		   "metadata": {},
		   "source": [
			"## Example 11.4: Duty_cycle_and_etc.sce"
		   ]
		  },
  {
"cell_type": "code",
	   "execution_count": null,
	   "metadata": {
	    "collapsed": true
	   },
	   "outputs": [],
"source": [
"//chapter-11 page 505 example 11.4\n",
"//==============================================================================\n",
"clc;\n",
"clear;\n",
"\n",
"//For a guided missile tracking radar\n",
"Pt=400000;//transmitted power in W\n",
"prf=1500;//pulse repitition frequency in pps(pulse per sec)\n",
"tw=0.8*10^(-6);//pulse width in sec\n",
"c=3*10^8;//Velocity of light in m/sec\n",
"\n",
"//CALCULATION\n",
"Runamb=(c/(2*prf))/1000;//Unambiguous range in km\n",
"dc=tw/(1/prf);//Duty cycle\n",
"Pav=Pt*dc;//Average power in W\n",
"n1=1;\n",
"BW1=(n1/tw)/10^6;//Suitable BW in MHz for n=1\n",
"n2=1.4;\n",
"BW2=(n2/tw)/10^6;//Suitable BW in MHz for n=1.4\n",
"\n",
"//OUTPUT\n",
"mprintf('\nUnambiguous range is Runamb=%3.0f km \nDuty cycle is dc=%1.4f \nAverage power is Pav=%3.0f W',Runamb,dc,Pav);\n",
"disp('For efficiency n=1,suitable bandwidth in MHz is');\n",
"disp(BW1);\n",
"disp('For efficiency n=1.4,suitable bandwidth in MHz is');\n",
"disp(BW2);\n",
"\n",
"//=========================END OF PROGRAM===============================\n",
""
   ]
   }
,
{
		   "cell_type": "markdown",
		   "metadata": {},
		   "source": [
			"## Example 11.5: max_range.sce"
		   ]
		  },
  {
"cell_type": "code",
	   "execution_count": null,
	   "metadata": {
	    "collapsed": true
	   },
	   "outputs": [],
"source": [
"//chapter-11 page 505 example 11.5\n",
"//==============================================================================\n",
"clc;\n",
"clear;\n",
"\n",
"//For a military radar\n",
"Pt=2500000;//power output in W\n",
"f=5*10^9;//frequency of radar in H\n",
"c=3*10^8;//Velocity of light in m/sec\n",
"D=5;//antenna diameter in m\n",
"B=1.6*10^6;//receiver bandwidth in Hz\n",
"s=1;//radar cross sectional area in sq m\n",
"NF=12;//noise figure in dB\n",
"\n",
"//CALCULATION\n",
"w=c/f;//wavelength in m\n",
"F=10^(NF/10);//noise figure\n",
"Rmax=(48*((Pt*s*D^4)/(B*(F-1)*w^2))^(1/4));//Maximum detection range in km\n",
"\n",
"//OUTPUT\n",
"mprintf('\nMaximum detection range of a radar is Rmax=%3.0f km',Rmax);\n",
"\n",
"//=========================END OF PROGRAM==============================="
   ]
   }
,
{
		   "cell_type": "markdown",
		   "metadata": {},
		   "source": [
			"## Example 11.6: factor.sce"
		   ]
		  },
  {
"cell_type": "code",
	   "execution_count": null,
	   "metadata": {
	    "collapsed": true
	   },
	   "outputs": [],
"source": [
"//chapter-11 page 506 example 11.6 \n",
"//==============================================================================\n",
"clc;\n",
"clear;\n",
"\n",
"//For a civilian radar\n",
"Rmax=30;//maximum range in kms\n",
"x=50;\n",
"y=2;\n",
"disp('Maximum range with an equivalent echoing area of 50 times in kms is');\n",
"R=Rmax*x^(1/4);\n",
"disp(R);\n",
"disp('Range would be increased if Tx power is doubled by a factor of');\n",
"f=y^(1/4);\n",
"disp(f);\n",
"\n",
"//=========================END OF PROGRAM==============================="
   ]
   }
],
"metadata": {
		  "kernelspec": {
		   "display_name": "Scilab",
		   "language": "scilab",
		   "name": "scilab"
		  },
		  "language_info": {
		   "file_extension": ".sce",
		   "help_links": [
			{
			 "text": "MetaKernel Magics",
			 "url": "https://github.com/calysto/metakernel/blob/master/metakernel/magics/README.md"
			}
		   ],
		   "mimetype": "text/x-octave",
		   "name": "scilab",
		   "version": "0.7.1"
		  }
		 },
		 "nbformat": 4,
		 "nbformat_minor": 0
}
