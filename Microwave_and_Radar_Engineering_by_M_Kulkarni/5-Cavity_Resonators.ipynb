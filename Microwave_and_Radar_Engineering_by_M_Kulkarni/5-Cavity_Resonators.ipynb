{
"cells": [
 {
		   "cell_type": "markdown",
	   "metadata": {},
	   "source": [
       "# Chapter 5: Cavity Resonators"
	   ]
	},
{
		   "cell_type": "markdown",
		   "metadata": {},
		   "source": [
			"## Example 5.1: minimum_distance.sce"
		   ]
		  },
  {
"cell_type": "code",
	   "execution_count": null,
	   "metadata": {
	    "collapsed": true
	   },
	   "outputs": [],
"source": [
"//chapter-5 page 174 example 5.1\n",
"//==============================================================================\n",
"clc;\n",
"clear;\n",
"\n",
"//For a circular waveguide \n",
"a=3;//radius in cm\n",
"f0=10*10^9;//resonant frequency of a circular resonator in Hz\n",
"disp('Given the mode of operator is TM011 so here n=0,m=1,p=1');\n",
"c=3*10^10;//Velocity of light in cm/sec\n",
"m=1;\n",
"n=0;\n",
"p=1;\n",
"Pnm=2.405;//dominant mode value[TM01]\n",
"\n",
"//CALCULATION\n",
"d=((p*(%pi))/(sqrt((2*(%pi)*f0/c)^2-(Pnm/a)^2)));//The minimum distance between the two end plates in cms\n",
"\n",
"//OUTPUT\n",
"mprintf('\nThe minimum distance between the two end plates of a circular waveguide is d=%1.2f cms',d);\n",
"\n",
"//=========================END OF PROGRAM===============================\n",
""
   ]
   }
,
{
		   "cell_type": "markdown",
		   "metadata": {},
		   "source": [
			"## Example 5.2: lowest_resonant_frequency.sce"
		   ]
		  },
  {
"cell_type": "code",
	   "execution_count": null,
	   "metadata": {
	    "collapsed": true
	   },
	   "outputs": [],
"source": [
"//chapter-5 page 174 example 5.2\n",
"//==============================================================================\n",
"clc;\n",
"clear;\n",
"\n",
"//For a rectangular cavity resonator \n",
"a=2;//breadth in cm\n",
"b=1;//height in cm\n",
"l=3;//length of rectangular waveguide in cm\n",
"disp('Lowest resonant frequency is obtained for the dominant mode TE10[f=c/w where w increases as f decreases. In dominant mode wc is maximum]');\n",
"disp('So the dominant mode is TE101 so here m=1,n=0,p=1');\n",
"c=3*10^10;//Velocity of light in cm/sec\n",
"m=1;\n",
"n=0;\n",
"p=1;\n",
"\n",
"//CALCULATION\n",
"f0=((c/2)*sqrt((m/a)^2+(n/b)^2+(p/l)^2))/10^9;//The resonant frequency of a rectangular cavity resonator in GHz\n",
"\n",
"//OUTPUT\n",
"mprintf('\nThe resonant frequency of a rectangular cavity resonator is f0=%1.0f GHz',f0);\n",
"\n",
"//=========================END OF PROGRAM===============================\n",
""
   ]
   }
,
{
		   "cell_type": "markdown",
		   "metadata": {},
		   "source": [
			"## Example 5.3: resonant_frequency.sce"
		   ]
		  },
  {
"cell_type": "code",
	   "execution_count": null,
	   "metadata": {
	    "collapsed": true
	   },
	   "outputs": [],
"source": [
"//chapter-5 page 175 example 5.3\n",
"//==============================================================================\n",
"clc;\n",
"clear;\n",
"\n",
"//For a circular resonator \n",
"D=12.5;//diameter in cm\n",
"l=5;//length of circular waveguide in cm\n",
"disp('Given the mode of operator is TM012 so here n=0,m=1,p=2');\n",
"c=3*10^10;//Velocity of light in cm/sec\n",
"m=1;\n",
"n=0;\n",
"p=2;\n",
"Pnm=2.405;//dominant mode value[TM01]\n",
"\n",
"//CALCULATION\n",
"a=D/2;//radius in cm\n",
"f0=((c/(2*(%pi)))*sqrt((Pnm/a)^2+((p*(%pi))/l)^2))/10^9;//The resonant frequency of a circular resonator in GHz\n",
"\n",
"//OUTPUT\n",
"mprintf('\nThe resonant frequency of a circular resonator is f0=%1.2f GHz',f0);\n",
"\n",
"//=========================END OF PROGRAM===============================\n",
""
   ]
   }
,
{
		   "cell_type": "markdown",
		   "metadata": {},
		   "source": [
			"## Example 5.4: resonant_frequency.sce"
		   ]
		  },
  {
"cell_type": "code",
	   "execution_count": null,
	   "metadata": {
	    "collapsed": true
	   },
	   "outputs": [],
"source": [
"//chapter-5 page 175 example 5.4\n",
"//==============================================================================\n",
"clc;\n",
"clear;\n",
"\n",
"//For a circular resonator \n",
"a=3;//radius in cm\n",
"b=2;//dimension in cm\n",
"l=4;//length of circular waveguide in cm\n",
"disp('Given the mode of operator is TE101 so here m=1,n=0,p=1');\n",
"c=3*10^10;//Velocity of light in cm/sec\n",
"m=1;\n",
"n=0;\n",
"p=1;\n",
"\n",
"//CALCULATION\n",
"f0=((c/2)*sqrt((m/a)^2+(n/b)^2+(p/l)^2))/10^9;//The resonant frequency of a circular resonator in GHz\n",
"\n",
"//OUTPUT\n",
"mprintf('\nThe resonant frequency of a circular resonator is f0=%1.2f GHz',f0);\n",
"\n",
"//=========================END OF PROGRAM===============================\n",
""
   ]
   }
],
"metadata": {
		  "kernelspec": {
		   "display_name": "Scilab",
		   "language": "scilab",
		   "name": "scilab"
		  },
		  "language_info": {
		   "file_extension": ".sce",
		   "help_links": [
			{
			 "text": "MetaKernel Magics",
			 "url": "https://github.com/calysto/metakernel/blob/master/metakernel/magics/README.md"
			}
		   ],
		   "mimetype": "text/x-octave",
		   "name": "scilab",
		   "version": "0.7.1"
		  }
		 },
		 "nbformat": 4,
		 "nbformat_minor": 0
}
