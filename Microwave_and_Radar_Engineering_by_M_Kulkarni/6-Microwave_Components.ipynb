{
"cells": [
 {
		   "cell_type": "markdown",
	   "metadata": {},
	   "source": [
       "# Chapter 6: Microwave Components"
	   ]
	},
{
		   "cell_type": "markdown",
		   "metadata": {},
		   "source": [
			"## Example 6.10: output_powers.sce"
		   ]
		  },
  {
"cell_type": "code",
	   "execution_count": null,
	   "metadata": {
	    "collapsed": true
	   },
	   "outputs": [],
"source": [
"//Chapter-6, Example 6.10, Page 242\n",
"//=============================================================================\n",
"\n",
"clc ;\n",
"clear;\n",
"close;\n",
"In_loss =0.5; // i n s e r t i o n l o s s ( i n dB)\n",
"C =20; //coupling coefficient i n dB\n",
"D =35; //directivity i n dB\n",
"Pi_Pf =10^( C /10) ;\n",
"Pi =90; // i n Watts\n",
"Pf=Pi/ Pi_Pf ;\n",
"Pf_Pb =10^( D /10) ;\n",
"Pb=Pf/ Pf_Pb ;\n",
"P_rec =(Pi -Pf -Pb); //Power r e c e i v e d ( i n Watts )\n",
"P_rec_dB =10* log (Pi/ P_rec )/log (10) ;\n",
"P_rec_eff = P_rec_dB - In_loss ; // E f f e c t i v e power r e c e i v e d ( i n dB)\n",
"disp ( Pf , 'Output power through coupled port ( i n Watts)=' );\n",
"disp ( Pb , 'Output power through isolated port ( i n Watts)=' );\n",
"disp ( P_rec_dB , ' Power r e c e i v e d ( i n dB)=' );\n",
"disp ( P_rec_eff , ' E f f e c t i v e power r e c e i v e d ( i n dB)=' );\n",
"\n",
"\n",
"//=================================END OF PROGRAM==============================\n",
""
   ]
   }
,
{
		   "cell_type": "markdown",
		   "metadata": {},
		   "source": [
			"## Example 6.11: coupling_isolation_directivity.sce"
		   ]
		  },
  {
"cell_type": "code",
	   "execution_count": null,
	   "metadata": {
	    "collapsed": true
	   },
	   "outputs": [],
"source": [
"//Chapter-6, Example 6.11, Page 242\n",
"//=============================================================================\n",
"clc;\n",
"//Calculations\n",
"S13=0.1*(cos(90*%pi/180)+(%i)*sin(90*%pi/180));//conversion from polar to rectangular\n",
"S13=abs(S13);\n",
"C=-20*log10(S13);//coupling coefficient in dB\n",
"S14=0.05*(cos(90*%pi/180)+(%i)*sin(90*%pi/180));//conversion from polar to rectangular\n",
"S14=abs(S14);\n",
"D=20*log10(S13/S14);//directivity in dB\n",
"I=-20*log10(S14);//isolation in dB\n",
"mprintf('Thus coupling,directivity and isolation are %1.0f dB,%1.2f dB and %2.2f dB respetively ',C,D,I);\n",
"//=================================END OF PROGRAM=============================="
   ]
   }
,
{
		   "cell_type": "markdown",
		   "metadata": {},
		   "source": [
			"## Example 6.12: VSWR.sce"
		   ]
		  },
  {
"cell_type": "code",
	   "execution_count": null,
	   "metadata": {
	    "collapsed": true
	   },
	   "outputs": [],
"source": [
"//chapter-6 page 244 example 6.12\n",
"//==============================================================================\n",
"clc;\n",
"clear;\n",
"\n",
"x=3.5;//distance between two minimas in cm\n",
"y=0.25;//distance between twice minimum power points in cm\n",
"\n",
"//CALCULATION\n",
"wg=2*x;//guided wavelength in cm\n",
"S=(wg/(y*(%pi)));//Voltage Standing Wave Ratio(VSWR)\n",
"\n",
"//OUTPUT\n",
"mprintf('\nVoltage Standing Wave Ratio(VSWR) is S=%1.4f',S);\n",
"\n",
"//=========================END OF PROGRAM===============================\n",
"\n",
""
   ]
   }
,
{
		   "cell_type": "markdown",
		   "metadata": {},
		   "source": [
			"## Example 6.13: phase_shift.sce"
		   ]
		  },
  {
"cell_type": "code",
	   "execution_count": null,
	   "metadata": {
	    "collapsed": true
	   },
	   "outputs": [],
"source": [
"//chapter-6 page 244 example 6.13\n",
"//==============================================================================\n",
"clc;\n",
"clear;\n",
"\n",
"wg=7.2;//guide wavelength in cm\n",
"x=10.5;//Position of reference null without the waveguide component in cm\n",
"y=9.3;//Position of reference null with the waveguide component in cm\n",
"\n",
"//CALCULATION\n",
"z=x-y;//Path difference introduced due to the component in cm\n",
"p=(2*(%pi)*(z/wg));//Phase difference introduced in rad\n",
"Pd=(p*180)/(%pi);//Phase shift introduced in deg\n",
"\n",
"//OUTPUT\n",
"mprintf('\nPhase shift introduced is Pd=%2.0f deg',Pd);\n",
"\n",
"//=========================END OF PROGRAM===============================\n",
"\n",
""
   ]
   }
,
{
		   "cell_type": "markdown",
		   "metadata": {},
		   "source": [
			"## Example 6.2: distance_to_be_shifted.sce"
		   ]
		  },
  {
"cell_type": "code",
	   "execution_count": null,
	   "metadata": {
	    "collapsed": true
	   },
	   "outputs": [],
"source": [
"//Chapter-6, Example 6.2, Page 234\n",
"//=============================================================================\n",
"//Input parameters\n",
"//[s]=[0,(0.3+(%i)*(0.4));(0.3+(%i)*(0.4)),0];//scattering matrix of a two port\n",
"//Calculations\n",
"//to find l such that S12 and S21 will be real when port1 is shifted lm to the left\n",
"//let port 1 be shifted by phi1 degree to the left and port2 position be remained unchanged i.e.,phi2=delta\n",
"//Then [phi]=[e^-(j*phi1),0;0,1]\n",
"//[S']=[phi]*[s]*[phi]\n",
"//for S12 and S21 to be real\n",
"phi1=53.13;//in degrees\n",
"phi1=phi1*(%pi/180);//phi in radians\n",
"b=34.3;//measured in rad/m\n",
"l=(phi1)/b;//distance of shift in m\n",
"//Output\n",
"mprintf('distance that the position of part1 should be shifted to the left so that S21 and S12 will be real numbers is %1.4f m',l)\n",
"//=================================END OF PROGRAM=============================="
   ]
   }
,
{
		   "cell_type": "markdown",
		   "metadata": {},
		   "source": [
			"## Example 6.3: Scattering_parameters.sce"
		   ]
		  },
  {
"cell_type": "code",
	   "execution_count": null,
	   "metadata": {
	    "collapsed": true
	   },
	   "outputs": [],
"source": [
"//Chapter-6, Example 6.3, Page 236\n",
"//=============================================================================\n",
"clc;\n",
"//Input parameters\n",
"D=30;//directivity in dB\n",
"VSWR=1;//VSWR at each port under matched conditions\n",
"C=10;//coupling factor\n",
"//Calculations\n",
"S41=sqrt(0.1);\n",
"S14=S41;//under matched and lossless conditions\n",
"S31=sqrt(((S41)^2)/(10)^(D/10));\n",
"S13=S31;\n",
"S11=(VSWR-1)/(VSWR+1);\n",
"S22=S11;\n",
"S33=S22;\n",
"S44=S33;\n",
"//let input power is given at port1 \n",
"//p1=p2+P3+p4\n",
"S21=sqrt(1-(S41)^2-(S31)^2);\n",
"S12=S21;\n",
"S34=sqrt((0.5)*(1+(S12)^2-0.1-0.0001));\n",
"S43=S34\n",
"S23=sqrt(1-10^-4-(S34)^2)\n",
"S32=S23;\n",
"S24=sqrt(1-0.1-(S34)^2)\n",
"S42=S24;\n",
"[S]=[S11,S12,S13,S14;S21,S22,S23,S24;S31,S32,S33,S34;S41,S42,S43,S44];\n",
"//Output\n",
"mprintf('The scattering matrix is');\n",
"disp([S])\n",
"//=================================END OF PROGRAM=============================="
   ]
   }
,
{
		   "cell_type": "markdown",
		   "metadata": {},
		   "source": [
			"## Example 6.4: powers_in_the_remaining_ports.sce"
		   ]
		  },
  {
"cell_type": "code",
	   "execution_count": null,
	   "metadata": {
	    "collapsed": true
	   },
	   "outputs": [],
"source": [
"//Chapter-6, Example 6.4, Page 238\n",
"//=============================================================================\n",
"clc;\n",
"//Input parameters\n",
"a1=32*10^-3;//power in watts\n",
"a2=0;\n",
"a3=0;\n",
"//Calculations\n",
"[S]=[0.5,-0.5,0.707;-0.5,0.5,0.707;0.707,0.707,0];//S-matrix for H-plane tee\n",
"//[B]=[b1,b2,b3]\n",
"[B]=[S].*[a1,0,0;0,0,0;0,0,0];\n",
"b1=(0.5)^2*a1;//power at port 1\n",
"b2=(-0.5)^2*a1;//power at port 2\n",
"b3=(0.707)^2*a1;//power at port 3\n",
"//Output\n",
"mprintf('Thus b1,b2,b3 are %g W,%g W,%g W respectively',b1,b2,b3);\n",
"//=================================END OF PROGRAM=============================="
   ]
   }
,
{
		   "cell_type": "markdown",
		   "metadata": {},
		   "source": [
			"## Example 6.5: power.sce"
		   ]
		  },
  {
"cell_type": "code",
	   "execution_count": null,
	   "metadata": {
	    "collapsed": true
	   },
	   "outputs": [],
"source": [
"//Chapter-6, Example 6.5, Page 239\n",
"//=============================================================================\n",
"clc;\n",
"//Input parameters\n",
"[S]=[0.5,-0.5,0.707;-0.5,0.5,0.707;0.707,0.707,0];\n",
"R1=60;//load at port1 in ohms\n",
"R2=75;//load at port2 in ohms\n",
"R3=50;//characteristic impedance in ohms\n",
"P3=20*10^-3;//power at port 3 in Watts\n",
"//calculations\n",
"p1=(R1-R3)/(R1+R3);\n",
"p2=(R2-R3)/(R2+R3);\n",
"P1=0.5*P3*(1-(p1)^2);//power delivered to the port1 in Watts\n",
"P2=0.5*P3*(1-(p2)^2);//power delivered to the port2 in Watts\n",
"//Output\n",
"mprintf('Thus power delivered to the port1 and port2 are %g W,%g W respectively',P1,P2);\n",
"//=================================END OF PROGRAM=============================="
   ]
   }
,
{
		   "cell_type": "markdown",
		   "metadata": {},
		   "source": [
			"## Example 6.6: Reflected_power.sce"
		   ]
		  },
  {
"cell_type": "code",
	   "execution_count": null,
	   "metadata": {
	    "collapsed": true
	   },
	   "outputs": [],
"source": [
"//Chapter-6, Example 6.6, Page 239\n",
"//=============================================================================\n",
"clc;\n",
"//Input parameters\n",
"p1=0.5;//reflection coefficient at port 1\n",
"p2=0.6;//reflection coefficient at port 2\n",
"p3=1;//reflection coefficient at port 3\n",
"p4=0.8;//reflection coefficient at port 4\n",
"//[S]=[0,0,0.707,0.707;0,0,0.5,-0.707;0.707,0.707,0,0;-0.707,0.707,0,0];//S matrix of magic Tee\n",
"//solving for b1,b2,b3,b4 we get it as\n",
"//calculations\n",
"b1=0.6566;\n",
"b2=0.7576;\n",
"b3=0.6536;\n",
"b4=0.0893;\n",
"P1=(b1)^2;//power at port1 in watts\n",
"disp(P1);\n",
"P2=(b2)^2;//power at port2 in watts\n",
"disp(P2);\n",
"P3=(b3)^2;//power at port3 in watts\n",
"disp(P3);\n",
"P4=(b4)^2;//power at port4 in watts\n",
"disp(P4);\n",
"//=================================END OF PROGRAM=============================="
   ]
   }
,
{
		   "cell_type": "markdown",
		   "metadata": {},
		   "source": [
			"## Example 6.7: Scattering_matrix.sce"
		   ]
		  },
  {
"cell_type": "code",
	   "execution_count": null,
	   "metadata": {
	    "collapsed": true
	   },
	   "outputs": [],
"source": [
"//Chapter-6, Example 6.7, Page 240\n",
"//=============================================================================\n",
"clc;\n",
"//Input parameters\n",
"ins=0.5;//insertion loss in db\n",
"iso=30;//isolation loss in db\n",
"//Calculations\n",
"S21=10^-(ins/20);//insertion loss=0.5=-20*log[S21]\n",
"S12=10^-(iso/20);//isolation loss=30=-20*log[s12]\n",
"S11=0;\n",
"S22=0;\n",
"[S]=[S11,S12;S21,S22];\n",
"disp(S);\n",
"//=================================END OF PROGRAM=============================="
   ]
   }
,
{
		   "cell_type": "markdown",
		   "metadata": {},
		   "source": [
			"## Example 6.9: Scattering_matrix.sce"
		   ]
		  },
  {
"cell_type": "code",
	   "execution_count": null,
	   "metadata": {
	    "collapsed": true
	   },
	   "outputs": [],
"source": [
"//Chapter-6, Example 6.9, Page 241\n",
"//=============================================================================\n",
"clc;\n",
"//Input parameters\n",
"ins=0.5;//insertion loss in db\n",
"iso=20;//isolation loss in db\n",
"S=2;//VSWR \n",
"//Calculations\n",
"S21=10^-(ins/20);//insertion loss=0.5=-20*log[S21]\n",
"S13=S21;\n",
"S32=S13;\n",
"S12=10^-(iso/20);//isolation loss=30=-20*log[s12]\n",
"S23=S12;\n",
"S31=S23;\n",
"p=(S-1)/(S+1);\n",
"S11=p;\n",
"S22=p;\n",
"S33=p;\n",
"[S]=[S11,S12,S13;S21,S22,S23;S31,S32,S33];\n",
"disp(S);\n",
"//for a perfectly matched,non-reciprocal,lossless 3-port circulator,[S] is given by\n",
"//[S]=[0,0,S13;S21,0,0;,0,S32,0]\n",
"//i.e.,S13=S21=S32=1\n",
"//[S]=[0,0,1;1,0,0;0,1,0]\n",
"//=================================END OF PROGRAM=============================="
   ]
   }
],
"metadata": {
		  "kernelspec": {
		   "display_name": "Scilab",
		   "language": "scilab",
		   "name": "scilab"
		  },
		  "language_info": {
		   "file_extension": ".sce",
		   "help_links": [
			{
			 "text": "MetaKernel Magics",
			 "url": "https://github.com/calysto/metakernel/blob/master/metakernel/magics/README.md"
			}
		   ],
		   "mimetype": "text/x-octave",
		   "name": "scilab",
		   "version": "0.7.1"
		  }
		 },
		 "nbformat": 4,
		 "nbformat_minor": 0
}
