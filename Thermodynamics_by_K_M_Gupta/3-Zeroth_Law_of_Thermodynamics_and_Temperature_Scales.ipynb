{
"cells": [
 {
		   "cell_type": "markdown",
	   "metadata": {},
	   "source": [
       "# Chapter 3: Zeroth Law of Thermodynamics and Temperature Scales"
	   ]
	},
{
		   "cell_type": "markdown",
		   "metadata": {},
		   "source": [
			"## Example 3.10: Reading_of_thermometer.sce"
		   ]
		  },
  {
"cell_type": "code",
	   "execution_count": null,
	   "metadata": {
	    "collapsed": true
	   },
	   "outputs": [],
"source": [
"// Exa 3.10\n",
"clc;\n",
"clear;\n",
"close;\n",
"// Given data\n",
"Tp= 'a+b*Tq+lamda*Tq^2';// relation between Tp and Tq\n",
"Tp0=0;//in °C (at ice point)\n",
"Tq0=0;//in °C (at ice point)\n",
"// Putting these values in relation, we get\n",
"a=0;\n",
"Tp100=100;//in °C ( at steam point)\n",
"Tq100=100;//in °C ( at steam point)\n",
"// Tp100= b*Tq100+lamda*Tq100^2         (i)\n",
"Tp=45;// in °C (in oil path)\n",
"Tq=43;// in °C (in oil path)\n",
"// Tp= b*Tq+lamda*Tq^2                          (ii)\n",
"b= (Tp100-Tp*Tq100^2/Tq^2)/(Tq100-Tq100^2/Tq);// From eq (i) and (ii)\n",
"lamda= (Tp-b*Tq)/Tq^2;\n",
"Tp=20;\n",
"//lamda*Tq^2+b*Tq-Tp=0\n",
"P= [lamda b -Tp];\n",
"Tq= roots(P);// in °C\n",
"disp(Tq,'When P reads 20°C, then the readings of  Q in °C are')\n",
"disp(Tq(2),'The realistic value of Tq in °C is : ')"
   ]
   }
,
{
		   "cell_type": "markdown",
		   "metadata": {},
		   "source": [
			"## Example 3.1: Reading.sce"
		   ]
		  },
  {
"cell_type": "code",
	   "execution_count": null,
	   "metadata": {
	    "collapsed": true
	   },
	   "outputs": [],
"source": [
"// Exa 3.1\n",
"clc;\n",
"clear;\n",
"close;\n",
"// Given data\n",
"t_c = 303-273;// in °C\n",
"t_f = 9/5* t_c+32;// in °F\n",
"disp(t_f,'When the temperature is 303 K then the thermometer reading in °F is : ');\n",
"T_R = 460 + t_f;// °R\n",
"disp(T_R,'The absolute value of the temperature in Rankine scale in °R is :');"
   ]
   }
,
{
		   "cell_type": "markdown",
		   "metadata": {},
		   "source": [
			"## Example 3.2: Temperature_of_fluid.sce"
		   ]
		  },
  {
"cell_type": "code",
	   "execution_count": null,
	   "metadata": {
	    "collapsed": true
	   },
	   "outputs": [],
"source": [
"// Exa 3.2\n",
"clc;\n",
"clear;\n",
"close;\n",
"// Given data\n",
"T_K= '273.15+t_C';\n",
"T_R= '459.67+t_F';\n",
"// t_C= t_F or T_K-T_R= -186.52     (i)\n",
"// T_R/T_K = 1.68                                (ii)\n",
"// From eq (i) and (ii)\n",
"T_K= -186.52/(1-1.68);// temp. in kelvin in K\n",
"T_R= 1.68*T_K;// in temp. in rankine in °R\n",
"t_C= T_K-273.15;// in °C\n",
"t_F= T_R-459.67;// in °F\n",
"disp(T_K,'Temperature in kelvin is : ')\n",
"disp(T_R,'Temperature in °R is ')\n",
"disp(t_C,'Temperature in °C is ')\n",
"disp(t_F,'Temperature in °F is ')"
   ]
   }
,
{
		   "cell_type": "markdown",
		   "metadata": {},
		   "source": [
			"## Example 3.9: Temperature.sce"
		   ]
		  },
  {
"cell_type": "code",
	   "execution_count": null,
	   "metadata": {
	    "collapsed": true
	   },
	   "outputs": [],
"source": [
"// Exa 3.9\n",
"clc;\n",
"clear;\n",
"close;\n",
"// Given data\n",
"p0 = 1.86;\n",
"p100 = 6.81;\n",
"T1=32;\n",
"T2= 212;\n",
"// Relation of T in terms of p for ice point      T1= a*log(p0)+b          (i)\n",
"// Relation of T in terms of p for steam point  T2= a*log(p100)+b     (ii)\n",
"// From eq(i) and (ii)\n",
"a= (T2-T1)/log(p100/p0);\n",
"b= T1-a*log(p0);\n",
"// The temp at \n",
"p=2.5;\n",
"T= a*log(p)+b;// in °unit\n",
"disp(T,'The temperature at p=2.5 in °unit is :')"
   ]
   }
],
"metadata": {
		  "kernelspec": {
		   "display_name": "Scilab",
		   "language": "scilab",
		   "name": "scilab"
		  },
		  "language_info": {
		   "file_extension": ".sce",
		   "help_links": [
			{
			 "text": "MetaKernel Magics",
			 "url": "https://github.com/calysto/metakernel/blob/master/metakernel/magics/README.md"
			}
		   ],
		   "mimetype": "text/x-octave",
		   "name": "scilab",
		   "version": "0.7.1"
		  }
		 },
		 "nbformat": 4,
		 "nbformat_minor": 0
}
