{
"cells": [
 {
		   "cell_type": "markdown",
	   "metadata": {},
	   "source": [
       "# Chapter 10: Steam Power Plant and Rankine Cycle"
	   ]
	},
{
		   "cell_type": "markdown",
		   "metadata": {},
		   "source": [
			"## Example 10.13: Work_output_per_kg.sce"
		   ]
		  },
  {
"cell_type": "code",
	   "execution_count": null,
	   "metadata": {
	    "collapsed": true
	   },
	   "outputs": [],
"source": [
"// Exa 10.13\n",
"clc;\n",
"clear;\n",
"close;\n",
"// Given data\n",
"Q = 1100;// in kW\n",
"m=1;// in kg\n",
"p1 = 15;// in bar\n",
"p1 = p1 * 10^5;// in Pa\n",
"p1 = p1 * 10^-3;// in kPa\n",
"p2 = 0.05 * 10^2;// in kPa\n",
"v1 = 0.16;// m^3 per kg\n",
"v2 = 26;// in m^3 per kg\n",
"V1 = 110;// in m per s\n",
"V2 = 120;// in m per s\n",
"u1 = 2935;// in kJ per kg\n",
"u2 = 1885;// in kJ per kg\n",
"g = 9.8;\n",
"z1 = 0;\n",
"z2 = 0; \n",
"// Formula Q-W= m*{(u2 - u1) + (p2*v2-p1*v1)+1/2*(V2^2-V1^2)+g*(z2 - z1)}\n",
"W =Q-m*{(u2 - u1) + (p2*v2-p1*v1)+1/2*(V2^2-V1^2)+g*(z2 - z1)};// in kW\n",
"disp(W,'Work output per kg in kW is');\n",
"SteamFlowRate = Q / W;// in kg/sec\n",
"SteamFlowRate = SteamFlowRate * 3600;// in kg per hr\n",
"disp(SteamFlowRate,'Steam flow rate in kg/hr is');"
   ]
   }
,
{
		   "cell_type": "markdown",
		   "metadata": {},
		   "source": [
			"## Example 10.14: Ratio_of_mass_flow_rate_of_cooling_water_to_condensing_steam.sce"
		   ]
		  },
  {
"cell_type": "code",
	   "execution_count": null,
	   "metadata": {
	    "collapsed": true
	   },
	   "outputs": [],
"source": [
"// Exa 10.14\n",
"clc;\n",
"clear;\n",
"close;\n",
"// Given data\n",
"h_sen = 191.9;// in kJ/kg\n",
"L = 2392;// in kJ/kg\n",
"x = 0.95;\n",
"t_o = 35;// in °C\n",
"t_i = 20;// in °C\n",
"C = 4.18;\n",
"H_totalwet =  h_sen + (x * L);//in kJ/kg\n",
"// m_steam * (H_totalwet - h_sen) = m_water * C * (t_o - t_i)\n",
"msBYmw = (H_totalwet - h_sen) / ( C * (t_o - t_i));//\n",
"disp(msBYmw,'The Ratio of mass flow rate of cooling water to condensing steam is : ');\n",
""
   ]
   }
,
{
		   "cell_type": "markdown",
		   "metadata": {},
		   "source": [
			"## Example 10.1: Carnot_efficiency.sce"
		   ]
		  },
  {
"cell_type": "code",
	   "execution_count": null,
	   "metadata": {
	    "collapsed": true
	   },
	   "outputs": [],
"source": [
"//Exa 10.1\n",
"clc;\n",
"clear;\n",
"close;\n",
"// Given data\n",
"p1 = 10;// in bar\n",
"p2 = 0.5;// in bar\n",
"T1 = 179.9;// in °C\n",
"T1 = T1 +273;// in K\n",
"T2 = 81.4;// in °C\n",
"T2 = T2 + 273;// in K\n",
"Eta_carnot = (T1 - T2)/T1*100;// in %\n",
"disp(Eta_carnot,'Carnot efficiency of an engine when the steam is 0.87 dry in % is');\n",
"disp(Eta_carnot,'Carnot efficiency of an engine when the steam is dry saturated in % is'); \n",
"T1 = T1 + 50;// in K\n",
"Eta_carnot1 = (T1 - T2) / T1*100;// in %\n",
"disp(Eta_carnot1,'Carnot efficiency of an engine when the steam is superheated in % is');"
   ]
   }
,
{
		   "cell_type": "markdown",
		   "metadata": {},
		   "source": [
			"## Example 10.2: Heat_supplied_to_the_boiler.sce"
		   ]
		  },
  {
"cell_type": "code",
	   "execution_count": null,
	   "metadata": {
	    "collapsed": true
	   },
	   "outputs": [],
"source": [
"// Exa 10.2\n",
"clc;\n",
"clear;\n",
"close;\n",
"// Given data\n",
"h1 = 3015;// in kJ/kg\n",
"h2 = 2326;// in kJ/kg\n",
"h3 = 113;// in kJ/kg\n",
"h4 = 114.95;// in kJ/kg\n",
"Q = h1 - h4;// in kJ/kg\n",
"disp(Q,'Heat supplied to the boiler in kJ/kg is');\n",
"W_T = h1 - h2;/// in kJ/kg\n",
"disp(W_T,'Work developed by turbine in kJ/kg is : ');\n",
"W_P = ( h1 - h3) - Q;// in kJ/kg\n",
"disp(W_P,'Work absorbed by pump in kJ/kg is : ');\n",
"Eta = (W_T - W_P)/Q*100;// in %\n",
"disp(Eta,'Efficiency of flow system in % is : ');"
   ]
   }
,
{
		   "cell_type": "markdown",
		   "metadata": {},
		   "source": [
			"## Example 10.3: Percentage_increse_in_Rankine_efficiency.sce"
		   ]
		  },
  {
"cell_type": "code",
	   "execution_count": null,
	   "metadata": {
	    "collapsed": true
	   },
	   "outputs": [],
"source": [
"// Exa 10.3\n",
"clc;\n",
"clear;\n",
"close;\n",
"// Given data\n",
"phi_s = 6.583;\n",
"phi_w = 1.091;\n",
"phi_s1 = 6.504;\n",
"C_p = 2.25;\n",
"T_sat =179.9;// in °C\n",
"T_sat = T_sat + 273;// in K\n",
"T_sup = T_sat + 50;// in K\n",
"x2 = (phi_s - phi_w)/phi_s1;\n",
"H1 = 2776.2; // in kJ/kg\n",
"H_w2 = 340.6;// in kJ/kg\n",
"L2 = 2305;\n",
"H2 = H_w2 + (x2 * L2);// in kJ/kg\n",
"Eta_rankine = (H1 - H2)/(H1 - H_w2)*100;// in %\n",
"disp(Eta_rankine,'Rankine efficiency in % is');\n",
"phi_w1 = 2.138;\n",
"x1 = 0.87;\n",
"phi_s1 = 4.445;\n",
"phi_w2 = 1.091;\n",
"phi_s2 = 6.504;\n",
"x2 = (phi_w1 + (x1 * phi_s1) - phi_w2) / phi_s2;\n",
"H1 = 762.6 + (x1 * 2013.6);// in kJ/kg\n",
"H2 = 340.6 + (x2 * 2305);// in kJ/kg\n",
"Eta_rankine1 = (H1 - H2) / (H1 - H_w2)*100;// in %\n",
"PerDropInRankine= (Eta_rankine - Eta_rankine1)/Eta_rankine * 100;// in %\n",
"disp(PerDropInRankine,'Percentage drop in Rankine efficiency in % is : ');\n",
"phi_s1 = 6.583;\n",
"phi_w1 = 1.091;\n",
"phi_s2 = 6.504;\n",
"x2 = (phi_s1 + C_p * log(T_sup/T_sat) - phi_w1)/phi_s2;\n",
"H_s1 = 2776.2;\n",
"H1 = H_s1 + C_p * (T_sup - T_sat);// in kJ/kg\n",
"H2 = 340.6 + (0.88 * 2305);// in kJ/kg\n",
"H_w2 = 340.6;\n",
"Eta_rankine2 = (H1 - H2) / (H1 - H_w2);\n",
"Eta_rankine2 = Eta_rankine2 * 10^2;// in percentage\n",
"PerIncInRank = ((Eta_rankine2 - Eta_rankine)/Eta_rankine2) * 100;// in percentage\n",
"disp(PerIncInRank,'Percentage increase in rankine efficiency in % is :');\n",
" \n",
""
   ]
   }
,
{
		   "cell_type": "markdown",
		   "metadata": {},
		   "source": [
			"## Example 10.4: Thermal_efficiency_of_the_cycle.sce"
		   ]
		  },
  {
"cell_type": "code",
	   "execution_count": null,
	   "metadata": {
	    "collapsed": true
	   },
	   "outputs": [],
"source": [
"//Exa 10.4\n",
"clc;\n",
"clear;\n",
"close;\n",
"// Given data\n",
"H2 = 2776.2;// in kJ/kg\n",
"p1 = 10;// in bar\n",
"p_2 = 1;// in bar\n",
"p_3 = 0.25;// in bar\n",
"p_4 = p_3;// in bar\n",
"// w = (H2 - H_2) + ((p_2 - p_3) * v_2);// work done in kJ/kg\n",
"phi_2 = 6.583;\n",
"phi_d2 = 1.303;\n",
"L = 6.057;\n",
"x_2 = (phi_2 - phi_d2) / L;\n",
"H2_desh = 417.5 + (x_2* 2257.9);// in kJ/kg\n",
"v_s = 1.694;\n",
"v_2 = x_2 * v_s;// in m^3 per kg\n",
"w = (H2 - H2_desh) + ((p_2 - p_3) * v_2);// in kJ/kg\n",
"H4 = 282.7;// in kJ/kg\n",
"H_w4 =H4;// in kJ/kg\n",
"HeatSupplied = H2 - H4;// kJ/kg\n",
"Eta_modifiedRankine = w / HeatSupplied*100;// in %\n",
"disp(Eta_modifiedRankine,'Thermal effienciency of the cycle in % is : ');\n",
"HeatRemoved = HeatSupplied - w;// in kJ/kg\n",
"disp(HeatRemoved,'Heat removed in condenser in kJ/kg is : ');"
   ]
   }
],
"metadata": {
		  "kernelspec": {
		   "display_name": "Scilab",
		   "language": "scilab",
		   "name": "scilab"
		  },
		  "language_info": {
		   "file_extension": ".sce",
		   "help_links": [
			{
			 "text": "MetaKernel Magics",
			 "url": "https://github.com/calysto/metakernel/blob/master/metakernel/magics/README.md"
			}
		   ],
		   "mimetype": "text/x-octave",
		   "name": "scilab",
		   "version": "0.7.1"
		  }
		 },
		 "nbformat": 4,
		 "nbformat_minor": 0
}
