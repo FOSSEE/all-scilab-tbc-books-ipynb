{
"cells": [
 {
		   "cell_type": "markdown",
	   "metadata": {},
	   "source": [
       "# Chapter 6: Second Law of Thermodynamics"
	   ]
	},
{
		   "cell_type": "markdown",
		   "metadata": {},
		   "source": [
			"## Example 6.16: Heat_rejected.sce"
		   ]
		  },
  {
"cell_type": "code",
	   "execution_count": null,
	   "metadata": {
	    "collapsed": true
	   },
	   "outputs": [],
"source": [
"//Exa 6.16\n",
"clc;\n",
"clear;\n",
"close;\n",
"// Given data\n",
"Wnet_compresser= 3;// in kW\n",
"Wnet_compresser=Wnet_compresser*3600;// in kJ/h\n",
"Qabsorbed= 50;// in MJ/h\n",
"Qabsorbed=Qabsorbed*10^3;// in kJ/h\n",
"T1 = 46+273;// in K\n",
"T2 = 1+273;// in K\n",
"Qrejected= Wnet_compresser+Qabsorbed;// in kJ/h\n",
"disp(Qrejected*10^-3,'The heat rejected in MJ/h is : ')\n",
"I= -(-Qrejected/T1+Qabsorbed/T2);// in kJ/h\n",
"disp(I,'Irreversibility in kJ/h is : ')"
   ]
   }
,
{
		   "cell_type": "markdown",
		   "metadata": {},
		   "source": [
			"## Example 6.17: Entropy_generated.sce"
		   ]
		  },
  {
"cell_type": "code",
	   "execution_count": null,
	   "metadata": {
	    "collapsed": true
	   },
	   "outputs": [],
"source": [
"//Exa 6.17\n",
"clc;\n",
"clear;\n",
"close;\n",
"// Given data\n",
"T1 = 12;// in °C\n",
"T2 = 92;// in °C\n",
"T1 = T1 + 273;// in K\n",
"T2 = T2 + 273;// in K\n",
"del_T = T2 - T1;// in K\n",
"m = 20;// in kg\n",
"C_v = 4.187;\n",
"s= 1;\n",
"Q = m * s * del_T;// in cal\n",
"Q = Q * 4.18;// in J\n",
"H = 2;// heat given by the heater in kw\n",
"H = H * 10^3;// in J/sec\n",
"t = Q/H;//time taken by the heater to raise the temp. in sec\n",
"disp(t,'Time taken by the heater to raise the temperature in sec is');\n",
"del_phi = m * C_v * log(T2/T1);// in kJ/K\n",
"disp(del_phi,'Entrophy generated during the process in kJ/K');"
   ]
   }
,
{
		   "cell_type": "markdown",
		   "metadata": {},
		   "source": [
			"## Example 6.18: Reversible_irreversible_or_carnot_cycle.sce"
		   ]
		  },
  {
"cell_type": "code",
	   "execution_count": null,
	   "metadata": {
	    "collapsed": true
	   },
	   "outputs": [],
"source": [
"// Exa 6.18\n",
"clc;\n",
"clear;\n",
"close;\n",
"// Given data\n",
"Q1 = 1000;// in kW\n",
"Q2 = 492;// in kW\n",
"T1 = 285;// in °C\n",
"T1 = T1 + 273;// in K\n",
"T2 = 5;// in °C\n",
"T2 = T2 + 273;// in K\n",
"Eta_carnot = (T1-T2)/T1*100;// in percentage\n",
"disp(Eta_carnot,'Carnot efficiency in % is : ')\n",
"Eta_heat = (Q1 - Q2)/Q1*100;// in percentage\n",
"disp(Eta_heat,'Efficiency of the heat engine in % is : ')\n",
"if Eta_heat>Eta_carnot then\n",
"    disp('As the efficiency of heat engine cannot be more than Carnot efficiency, Hence engine cannot execute irreversible cycle.So engine will execute Carnot Cycle which is a reversible cycle too')\n",
"end"
   ]
   }
,
{
		   "cell_type": "markdown",
		   "metadata": {},
		   "source": [
			"## Example 6.19: Output_of_the_engine.sce"
		   ]
		  },
  {
"cell_type": "code",
	   "execution_count": null,
	   "metadata": {
	    "collapsed": true
	   },
	   "outputs": [],
"source": [
"// Exa 6.19\n",
"clc;\n",
"clear;\n",
"close;\n",
"// Given data\n",
"n = 1080;// in cycle/min\n",
"Q_s = 57;// in J/cycle\n",
"T1 = 12;// in °C\n",
"T1 = T1 + 273;// in K\n",
"T2 = 2;// in °C\n",
"T2 = T2 + 273;// in K\n",
"// 1-(Q_r/Q_s) = 1- (T2/T1)\n",
"Q_r = (T2/T1)*Q_s;// in J/cycle\n",
"W = Q_s - Q_r;// in J/cycle\n",
"P_o = W * n;// in J/min\n",
"P_o = P_o/60;// in W\n",
"disp(P_o,'The output of the engine in watt is');\n",
""
   ]
   }
,
{
		   "cell_type": "markdown",
		   "metadata": {},
		   "source": [
			"## Example 6.1: Temperature_of_the_source_and_the_sink.sce"
		   ]
		  },
  {
"cell_type": "code",
	   "execution_count": null,
	   "metadata": {
	    "collapsed": true
	   },
	   "outputs": [],
"source": [
"//Exa 6.1\n",
"clc;\n",
"clear;\n",
"close;\n",
"//Given data\n",
"// In first case     (T1-T2)/T1=1/6           or    T1= 1.2*T2                  (i)\n",
"// In seond case  (T1-(T2-62))/T1= 2/6  or   2*T1 -3*(T2-62)=0      (ii)\n",
"// From eq (i) and (ii)\n",
"T2= 186/0.6;// in K\n",
"T1= 1.2*T2;// in K\n",
"disp(T2-273,'Temperature of the source in °C is : ')\n",
"disp(T1-273,'Temperature of the sink in °C is : ')"
   ]
   }
,
{
		   "cell_type": "markdown",
		   "metadata": {},
		   "source": [
			"## Example 6.20: Minimum_power_required.sce"
		   ]
		  },
  {
"cell_type": "code",
	   "execution_count": null,
	   "metadata": {
	    "collapsed": true
	   },
	   "outputs": [],
"source": [
"// Exa 6.20\n",
"clc;\n",
"clear;\n",
"close;\n",
"// Given data\n",
"Q2 = 10^5;// in kJ/hr\n",
"T1 = -3;// in °C\n",
"T1 = T1 + 273;// in K\n",
"T2 = 22;// in °C\n",
"T2 = T2 + 273;// in K\n",
"COP_heat = 1/(1-T1/T2);\n",
"W = Q2/COP_heat;// in kJ/hr\n",
"W = W/3600;// in kW\n",
"disp(W,'Minimum power required in kW is');"
   ]
   }
,
{
		   "cell_type": "markdown",
		   "metadata": {},
		   "source": [
			"## Example 6.21: Engine_efficiency.sce"
		   ]
		  },
  {
"cell_type": "code",
	   "execution_count": null,
	   "metadata": {
	    "collapsed": true
	   },
	   "outputs": [],
"source": [
"//Exa 6.21\n",
"clc;\n",
"clear;\n",
"close;\n",
"// Given data\n",
"T_A= 927+273;// in K\n",
"T_B= 127+273;// in K\n",
"T_C= T_B;// in K\n",
"// Q_A= Q_B+Q_C+W = 2*Q_B+W (since Q_B=Q_C)     (i)\n",
"// Q_A/T_A= Q_B/T_B+Q_C/T_C or\n",
"// Q_A= 2*Q_B*T_A/T_B           (ii)\n",
"// From eq (i) and (ii)W= 2*Q_B*(T_A/T_B-1)     (iii)\n",
"// Dividing (iii) by (ii)\n",
"WbyQ_A= (T_A/T_B-1)/(T_A/T_B);\n",
"disp(WbyQ_A*100,'The engine efficiency in % is : ')"
   ]
   }
,
{
		   "cell_type": "markdown",
		   "metadata": {},
		   "source": [
			"## Example 6.22: Heat_rejected.sce"
		   ]
		  },
  {
"cell_type": "code",
	   "execution_count": null,
	   "metadata": {
	    "collapsed": true
	   },
	   "outputs": [],
"source": [
"//Exa 6.22\n",
"clc;\n",
"clear;\n",
"close;\n",
"// Given data\n",
"T_A= 700;// in K\n",
"T_B= 600;// in K\n",
"T_C= 500;// in K\n",
"Q_A= 1200;// in kJ\n",
"// Q_B+Q_C= Q_A-200                             (i)\n",
"// Q_A/T_A = Q_B/T_B+Q_C/T_C    (ii)\n",
"// From eq(i) and (ii)\n",
"Q_B= (Q_A*(1/T_B-1/T_A)-200/T_B)/(1/T_B-1/T_C);// in kJ\n",
"Q_C= Q_A-Q_B-200;// in kJ\n",
"disp(Q_B,'The heat rejected at B in kJ is : ')\n",
"disp(Q_C,'The heat rejected at C in kJ is : ')\n",
""
   ]
   }
,
{
		   "cell_type": "markdown",
		   "metadata": {},
		   "source": [
			"## Example 6.23: Intermediate_temperature.sce"
		   ]
		  },
  {
"cell_type": "code",
	   "execution_count": null,
	   "metadata": {
	    "collapsed": true
	   },
	   "outputs": [],
"source": [
"//Exa 6.23\n",
"clc;\n",
"clear;\n",
"close;\n",
"// Given data\n",
"T1= 180+273;// in K\n",
"T2= 20+273;// in K\n",
"// W_A/Q1= 1-T3/T1      (i)\n",
"// W_B/QB= 1-T2/T3      (ii)\n",
"// W_A= W_B                 (iii)\n",
"// Q1= Q_B+W_A          (iv)\n",
"// From eq(i),(ii),(iii) and (iv)\n",
"T3= (T1+T2)/2;// in K\n",
"disp(T3-273,'The intermediate temperature in °C is : ')\n",
"\n",
""
   ]
   }
,
{
		   "cell_type": "markdown",
		   "metadata": {},
		   "source": [
			"## Example 6.24: Least_power_necessary_to_pump.sce"
		   ]
		  },
  {
"cell_type": "code",
	   "execution_count": null,
	   "metadata": {
	    "collapsed": true
	   },
	   "outputs": [],
"source": [
"//Exa 6.24\n",
"clc;\n",
"clear;\n",
"close;\n",
"// Given data\n",
"Q2 = 1.75;// in kJ/sec\n",
"T1 = -15;// in °C\n",
"T1 = T1 + 273;// in K\n",
"T2 = 30;// in °C\n",
"T2 = T2 + 273;// in K\n",
"del_T = T2 - T1;// in K\n",
"// Q2/W_net = T2/(del_T)\n",
"W_net = Q2 * del_T/T1;// in kW\n",
"disp(W_net,'Least power required in kW is');"
   ]
   }
,
{
		   "cell_type": "markdown",
		   "metadata": {},
		   "source": [
			"## Example 6.2: Minimum_power_required.sce"
		   ]
		  },
  {
"cell_type": "code",
	   "execution_count": null,
	   "metadata": {
	    "collapsed": true
	   },
	   "outputs": [],
"source": [
"// Exa 6.2\n",
"clc;\n",
"clear;\n",
"close;\n",
"// Given data\n",
"T1 = 25;// in °C\n",
"T2 = 1;// in °C\n",
"T1 = T1 + 273;// in K\n",
"T2 = T2 + 273;// in K\n",
"HT= 2;// heat transfer across the wall and the roof in MJ/hr\n",
"HT= HT*10^6;// in J/hr\n",
"Q = HT* (T1-T2);// in J/hr\n",
"COP_heat = T1/(T1-T2);\n",
"W_net = Q/COP_heat;// in J/hr\n",
"disp(W_net*10^-3/3600,'Power rquired for operating the pump in kW');\n",
"// Part (b)\n",
"T2= 25;// in °C\n",
"T2=T2+273;// in K\n",
"// COP= T2/(T1-T2)          (i)\n",
"// COP= HT*(T1-T2)/W_net        (ii)\n",
"// From (i) and (ii)\n",
"T1= sqrt(W_net*T2/HT)+T2;// in K\n",
"T1= T1-273;// in °C\n",
"disp(T1,'The value of T1 in °C is : ')"
   ]
   }
,
{
		   "cell_type": "markdown",
		   "metadata": {},
		   "source": [
			"## Example 6.3: Ratio_of_heat_transfer_to_circulating_water_to_the_engine.sce"
		   ]
		  },
  {
"cell_type": "code",
	   "execution_count": null,
	   "metadata": {
	    "collapsed": true
	   },
	   "outputs": [],
"source": [
"//Exa 6.3\n",
"clc;\n",
"clear;\n",
"close;\n",
"//Given data\n",
"heatEngineEffi= 32/100;// heat engine efficiency\n",
"COP= 5;// COP of heat pump\n",
"// heat engine efficiency = Wnet/Q1 = (Q1-Q2)/Q1\n",
"Q1byWnet= 1/heatEngineEffi;\n",
"Q2byWnet= (1-heatEngineEffi)*Q1byWnet;\n",
"// COP = Q4/Wnet = Q4/(Q4-Q3)\n",
"Q4byWnet= COP;\n",
"ratio= (Q2byWnet+Q4byWnet)/Q1byWnet;// ratio of heat transferred to the circulating water to heat trasferred to the engine\n",
"disp(ratio,'Ratio of heat trasferred to the circulating water to heat trasferred to the engine is : ')"
   ]
   }
,
{
		   "cell_type": "markdown",
		   "metadata": {},
		   "source": [
			"## Example 6.4: Claim_of_inventor_is_true_or_not.sce"
		   ]
		  },
  {
"cell_type": "code",
	   "execution_count": null,
	   "metadata": {
	    "collapsed": true
	   },
	   "outputs": [],
"source": [
"//Exa 6.4\n",
"clc;\n",
"clear;\n",
"close;\n",
"//Given data\n",
"Q = 88;// in MJ\n",
"Q=Q*10^3;// in kJ\n",
"T1 = 190;// in °C\n",
"T1 = T1 + 273;// in K\n",
"T3 = -15;// in °C\n",
"T3 = T3 + 273;// in K\n",
"Eta_carnot = (T1 - T3)/T1;\n",
"Wnet= Eta_carnot * Q;// in kJ\n",
"CarnotPower= Wnet/3600;// in kWh\n",
"disp(CarnotPower,'The value of Carnot Power in kWh is : ')\n",
"disp('As the actual power produced by the invented engine is more than the Carnot Power, ');\n",
"disp('so inverter claim is ')\n",
"disp(' not true')"
   ]
   }
,
{
		   "cell_type": "markdown",
		   "metadata": {},
		   "source": [
			"## Example 6.5: Minimum_power_required.sce"
		   ]
		  },
  {
"cell_type": "code",
	   "execution_count": null,
	   "metadata": {
	    "collapsed": true
	   },
	   "outputs": [],
"source": [
"//Exa 6.5\n",
"clc;\n",
"clear;\n",
"close;\n",
"// Given data\n",
"T1 = 24;// in °C\n",
"T1 = T1 + 273;// in K\n",
"T2 = 2;// in °C\n",
"T2 = T2 + 273;// in K\n",
"Q = 100;//in MJ/h\n",
"Q = Q * 10^3;//in kJ/h\n",
"COP_heatPump = T1/(T1-T2);\n",
"W = Q/COP_heatPump;//in kJ/h\n",
"W = W/3600;// in kW\n",
"disp(W,'The theoretical minimum power required to drive the heat pump in kW is : ')\n",
"COP_refrigerator = T2/(T1-T2);\n",
"W = Q/COP_refrigerator;// in kJ/h\n",
"W = W/3600;// in kW\n",
"disp(W,'The theoretical power required to drive the heat pump when it is used as a refrigerator in kW is : ');"
   ]
   }
,
{
		   "cell_type": "markdown",
		   "metadata": {},
		   "source": [
			"## Example 6.6: Reversible_or_irreversible_cycle.sce"
		   ]
		  },
  {
"cell_type": "code",
	   "execution_count": null,
	   "metadata": {
	    "collapsed": true
	   },
	   "outputs": [],
"source": [
"//Exa 6.6\n",
"clc;\n",
"clear;\n",
"close;\n",
"//Given data\n",
"Q1= 278;// in kJ/s\n",
"T1= 283+273;// in K\n",
"T2= 50+273;// in K\n",
"// Let integrate of delta Q by T is V\n",
"disp('Part (a)')\n",
"Q2= 208;// in kJ/s\n",
"// By Clausius inequality \n",
"V= Q1/T1-Q2/T2;\n",
"if V<0 then\n",
"    disp('The cycle is irreversible')\n",
"else\n",
"    if V>0 then\n",
"        disp('Reversible or irreversible cycle is not possible and the result is impossible')\n",
"    else\n",
"        disp('The cycle is reversible')\n",
"    end\n",
"end\n",
"disp('Part (b)')\n",
"Q2= 139;// in kJ/s\n",
"V= Q1/T1-Q2/T2;\n",
"if V<0 then\n",
"    disp('The cycle is irreversible')\n",
"else\n",
"    if V>0 then\n",
"        disp('Reversible or irreversible cycle is not possible and the result is impossible')\n",
"    else\n",
"        disp('The cycle is reversible')\n",
"    end\n",
"end\n",
"disp('Part (c)')\n",
"Q2= 161.5;// in kJ/s\n",
"V= Q1/T1-Q2/T2;\n",
"if V<0 then\n",
"    disp('The cycle is irreversible')\n",
"else\n",
"    if V>0 then\n",
"        disp('Reversible or irreversible cycle is not possible and the result is impossible')\n",
"    else\n",
"        disp('The cycle is reversible')\n",
"    end\n",
"end\n",
""
   ]
   }
],
"metadata": {
		  "kernelspec": {
		   "display_name": "Scilab",
		   "language": "scilab",
		   "name": "scilab"
		  },
		  "language_info": {
		   "file_extension": ".sce",
		   "help_links": [
			{
			 "text": "MetaKernel Magics",
			 "url": "https://github.com/calysto/metakernel/blob/master/metakernel/magics/README.md"
			}
		   ],
		   "mimetype": "text/x-octave",
		   "name": "scilab",
		   "version": "0.7.1"
		  }
		 },
		 "nbformat": 4,
		 "nbformat_minor": 0
}
