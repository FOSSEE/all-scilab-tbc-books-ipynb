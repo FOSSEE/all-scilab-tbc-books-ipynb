{
"cells": [
 {
		   "cell_type": "markdown",
	   "metadata": {},
	   "source": [
       "# Chapter 4: First Law of Thermodynamics"
	   ]
	},
{
		   "cell_type": "markdown",
		   "metadata": {},
		   "source": [
			"## Example 4.10: Maximum_internal_energy.sce"
		   ]
		  },
  {
"cell_type": "code",
	   "execution_count": null,
	   "metadata": {
	    "collapsed": true
	   },
	   "outputs": [],
"source": [
"// Exa 4.10\n",
"clc;\n",
"clear;\n",
"close;\n",
"// Given data\n",
"a= 1160;// in kN/m^2\n",
"b= -800;// in kN/m^2\n",
"v= -a/(2*b)\n",
"Umax= 1.5*(a*v+b*v^2)-85;// in kJ/kg\n",
"// For 1.5 kg mass of gas it is\n",
"Umax= Umax*1.5;// in kJ/kg\n",
"disp(Umax,'The maximum internal energy of the gas in kJ/kg is : ')"
   ]
   }
,
{
		   "cell_type": "markdown",
		   "metadata": {},
		   "source": [
			"## Example 4.11: Exit_velocity_of_air.sce"
		   ]
		  },
  {
"cell_type": "code",
	   "execution_count": null,
	   "metadata": {
	    "collapsed": true
	   },
	   "outputs": [],
"source": [
"// Exa 4.11\n",
"clc;\n",
"clear;\n",
"close;\n",
"// Given data\n",
"T1 = 127;// in °C\n",
"T1 = T1 + 273;// in K\n",
"R = 287;\n",
"V1 = 300;// in m/s\n",
"p1 = 2;// in MPa\n",
"p2 = 0.5;// in MPa\n",
"p1 = p1 * 10^6;// in Pa\n",
"p2 = p2 * 10^6;// in Pa\n",
"C_P = 1.005*10^3;// in J/ kg-K\n",
"Gamma = 1.4;\n",
"V2 = sqrt(2 * C_P *T1 *{1-(p2/p1)^((Gamma-1)/Gamma)} + V1^2);// in m/s\n",
"disp(V2,'The exit velocity of air in m/s is : ');\n",
"m = 600;// in kg/hr\n",
"m = m / 3600;// in kg/sec\n",
"v1 = (R * T1)/p1;// in m^3 per kg\n",
"// m = (A1*V1)/v1 = (A2* V2)/v2\n",
"A1 = (m * v1)/V1;// in m^2\n",
"A1 = A1 * 10^6;// in mm^2\n",
"disp(A1,'Inlet area of the nozzle in square milimeter is : ');\n",
"T2 = T1*(p2/p1)^((Gamma-1)/Gamma);// in K\n",
"v2 = (R * T2)/(p2);// in m^3/kg\n",
"A2 = (m * v2)/V2;// in m^2\n",
"A2 = A2 * 10^6;// in mm^2\n",
"disp(A2,'Exit area of nozzel in square milimeter is : ');"
   ]
   }
,
{
		   "cell_type": "markdown",
		   "metadata": {},
		   "source": [
			"## Example 4.17: Net_heat_transfer.sce"
		   ]
		  },
  {
"cell_type": "code",
	   "execution_count": null,
	   "metadata": {
	    "collapsed": true
	   },
	   "outputs": [],
"source": [
"// Exa 4.17\n",
"clc;\n",
"clear;\n",
"close;\n",
"// Given data\n",
"W = -1;// in kWh\n",
"W = W * 10^3 * 3600;// in J\n",
"del_U = -5000;// in kj\n",
"del_U = del_U * 10^3;// in J\n",
"Q = del_U + W;// in J\n",
"Q = Q * 10^-6;// in MJ\n",
"disp(Q,'Net heat transfer for the system in MJ is : ');"
   ]
   }
,
{
		   "cell_type": "markdown",
		   "metadata": {},
		   "source": [
			"## Example 4.1: Work_done.sce"
		   ]
		  },
  {
"cell_type": "code",
	   "execution_count": null,
	   "metadata": {
	    "collapsed": true
	   },
	   "outputs": [],
"source": [
"// Exa 4.1\n",
"clc;\n",
"clear;\n",
"close;\n",
"// Given data\n",
"p = 1.0;// in MPa\n",
"p = p * 10^6;// in N per m^2\n",
"del_v = 1.5;// in m^3 per min\n",
"del_v = del_v * 60;// in m^3 per h\n",
"W = p * del_v;// in J\n",
"W = W * 10^-6;// in MJ\n",
"disp(W,'Work done by the pump upon the water in MJ');"
   ]
   }
,
{
		   "cell_type": "markdown",
		   "metadata": {},
		   "source": [
			"## Example 4.20: Heat_flows_into_the_system.sce"
		   ]
		  },
  {
"cell_type": "code",
	   "execution_count": null,
	   "metadata": {
	    "collapsed": true
	   },
	   "outputs": [],
"source": [
"//Exa 4.20\n",
"clc;\n",
"clear;\n",
"close;\n",
"// Given data\n",
"Q_acb = 84;//in kJ\n",
"W_acb = 32;// in kJ\n",
"//Formula Q_acb = del_U+W_acb where del_U = U_b - U_a;\n",
"del_U = Q_acb - W_acb;// in kJ\n",
"// Part (a) Path a b d\n",
"W_abd = 10.5;// in kJ\n",
"Q_abd = del_U + W_abd;// in kJ\n",
"disp(Q_abd,'Heat flows into the system along the path a b d in kJ is : ');\n",
"// Part (b) curved path b a\n",
"W_ba = -(21);// in kJ\n",
"Q_ba = -(del_U) + W_ba;// in kJ\n",
"disp(abs(Q_ba),'Heat liberated by the system in kJ is : ');\n",
"// Part (c) process a b and d b\n",
"W_ad = 10.5;// in kJ\n",
"del_U1 = 42;// in kJ\n",
"Q_ad = del_U1 + W_ad;// in kJ\n",
"disp(Q_ad,'Heat absorbed in processes a d  in kJ is : ');\n",
"W_db = -(42);// in kJ\n",
"del_U2 = 52;// in kJ\n",
"Q_bd = del_U2 + W_db;// in kJ\n",
"disp(Q_bd,'Heat absorbed in processes b d in kJ is : ');\n",
"W_db = 0;\n",
"W_abd = W_ad + W_db;// in kJ\n",
"disp(W_abd,'Heat absorbed in processes in a d and d b in kJ is : ');"
   ]
   }
,
{
		   "cell_type": "markdown",
		   "metadata": {},
		   "source": [
			"## Example 4.21: Net_work.sce"
		   ]
		  },
  {
"cell_type": "code",
	   "execution_count": null,
	   "metadata": {
	    "collapsed": true
	   },
	   "outputs": [],
"source": [
"//Exa 4.21\n",
"clc;\n",
"clear;\n",
"close;\n",
"// Given data\n",
"v1 = 5;// in m^3\n",
"p1 = 2;// in bar\n",
"p2 = 6;// in bar\n",
"p3 = 2;// in bar\n",
"p1 = p1 * 10^5;// in N/m^2\n",
"p2 = p2 * 10^5;// in N/m^2\n",
"p3 = p3 * 10^5;// in N/m^2\n",
"n = 1.3;\n",
"v2 = v1 * ((p1/p2)^(1/1.3));// in m^3\n",
"W1_2 = ((p2 * v2)-(p1 * v1))/(1-n);// in J\n",
"Gamma = 1.4;\n",
"v3 = v2 * ((p2/p3)^(1/Gamma));// in m^3\n",
"W2_3 = ((p3 * v3) - (p2 * v2))/(1-Gamma);// in J\n",
"W_net = W1_2 + W2_3;// in J\n",
"W_net = W_net * 10^-3;// in kJ\n",
"disp(W_net,'net work done in kJ is : ');"
   ]
   }
,
{
		   "cell_type": "markdown",
		   "metadata": {},
		   "source": [
			"## Example 4.2: Height_from_which_the_mass_should_fall.sce"
		   ]
		  },
  {
"cell_type": "code",
	   "execution_count": null,
	   "metadata": {
	    "collapsed": true
	   },
	   "outputs": [],
"source": [
"// Exa 4.2\n",
"clc;\n",
"clear;\n",
"close;\n",
"// Given data\n",
"// w = 2*g*h\n",
"g = 9.81;\n",
"m =(0.2+10/1000)*10^3 ;// in gm\n",
"s = 1;// in cal/gm°C\n",
"del_T = 2;// in °C\n",
"H = m * s * del_T;// in cal\n",
"H = H * 10^-3;// kcal\n",
"J = 4.1868 * 1000;\n",
"// W= 2*g*h= J*H\n",
"h = J*H/(2 * g);// in m\n",
"disp(h,'Height from which the mass should fall in meter is : ');"
   ]
   }
,
{
		   "cell_type": "markdown",
		   "metadata": {},
		   "source": [
			"## Example 4.3: Magnitude_and_direction_of_third_heat_transfer.sce"
		   ]
		  },
  {
"cell_type": "code",
	   "execution_count": null,
	   "metadata": {
	    "collapsed": true
	   },
	   "outputs": [],
"source": [
"// Exa 4.3\n",
"clc;\n",
"clear;\n",
"close;\n",
"// Given data\n",
"W1 = -25;// in kJ\n",
"W2 = 45;// in kJ\n",
"Q1 = 65;// in kJ\n",
"Q2 = -40;// in kJ\n",
"// del_U = Q - W and but for a cycle del_U = 0, So\n",
"// Q = W\n",
"// Q1 + Q2 +Q3 = W1 +W2\n",
"Q3 = W1 + W2 - Q1 - Q2;// in kJ\n",
"disp(Q3,'Third Heat transfer in kJ is ');\n",
"disp('That is Third Heat transfer is of '+string(abs(Q3))+' kJ from the fluid');"
   ]
   }
,
{
		   "cell_type": "markdown",
		   "metadata": {},
		   "source": [
			"## Example 4.5: External_work_done.sce"
		   ]
		  },
  {
"cell_type": "code",
	   "execution_count": null,
	   "metadata": {
	    "collapsed": true
	   },
	   "outputs": [],
"source": [
"// Exa 4.5\n",
"clc;\n",
"clear;\n",
"close;\n",
"// Given data\n",
"m = 1.5;// in kg\n",
"T1 = 90;// in °C\n",
"T1 = T1 + 273;//in K\n",
"T2 = 225;// in °C\n",
"T2 = T2 + 273;// in K\n",
"C_p = 0.24;\n",
"C_v = 0.17;\n",
"Q = (m * C_p * (T2-T1));// in kcal\n",
"del_U = (m * C_v * (T2-T1));// in kcal\n",
"W = Q - del_U;// in kcal\n",
"disp(W,'The external work done in kcal is');"
   ]
   }
,
{
		   "cell_type": "markdown",
		   "metadata": {},
		   "source": [
			"## Example 4.7: Mass_of_the_gas.sce"
		   ]
		  },
  {
"cell_type": "code",
	   "execution_count": null,
	   "metadata": {
	    "collapsed": true
	   },
	   "outputs": [],
"source": [
"//Exa 4.7\n",
"clc;\n",
"clear;\n",
"close;\n",
"// Given data\n",
"v1 = 0.5;// in m^3\n",
"v2 = 0.125;// in m^3\n",
"p1 = 1.5;// in bar\n",
"p1 = p1 * 10^5;// in N per m^2\n",
"p2 = 9;//in bar\n",
"p2 = p2 * 10^5;// in N per m^2\n",
"T1 = 100;// in °C\n",
"T1 = T1 + 273;// in K\n",
"R = 8.31;\n",
"// Formula p1*v1= n*R*T1\n",
"n= p1*v1/(R*T1);// in mole\n",
"disp(n,'Mass of gas in mole is :');\n",
"// Part (b)\n",
"// Formula p1*v1/T1 = p2*v2/T2\n",
"T2 = (p2 * v2 * T1)/(p1 * v1);// in K\n",
"disp(T2-273,'Temperature at the end of compression in °C is :');\n",
"// Part (c)\n",
"// Formula p1*v1^n = p2*v2^n\n",
"n1= log(p2/p1)/log(v1/v2)\n",
"disp(n1,'Value of index n of compression is :');\n",
"// Part (d)\n",
"F = 3;\n",
"C_v =1/2*R*F;\n",
"del_U = (n * C_v * (T2-T1));// in J\n",
"disp(del_U*10^-3,'Increase in internal energy of gas in kJ is : ');\n",
"// Part(e)\n",
"Gamma = 1.67;\n",
"Q_12 = n*(Gamma-n1)/(1-n1)*R*(T2-T1)/(Gamma-1);// in J\n",
"Q_12 = Q_12 * 10^-3;// in kJ\n",
"disp(Q_12,'Heat interaction in kJ is : ');\n",
"if Q_12<0 then\n",
"    disp('The -ve sign indicates heat rejection during the process')\n",
"end\n",
"\n",
"// Note: There is some difference between the answer of book and coding . Both the answer is right but accurate answer is of coding.\n",
"//          Because in the book, the taken values are appox. and in the coding the values are accurate\n",
"\n",
"\n",
"\n",
""
   ]
   }
,
{
		   "cell_type": "markdown",
		   "metadata": {},
		   "source": [
			"## Example 4.8: Law_of_the_process.sce"
		   ]
		  },
  {
"cell_type": "code",
	   "execution_count": null,
	   "metadata": {
	    "collapsed": true
	   },
	   "outputs": [],
"source": [
"//Exa 4.8\n",
"clc;\n",
"clear;\n",
"close;\n",
"// Given data\n",
"p1 = 0.01;// in N/mm^2\n",
"p1 = p1 * 10^3;// in kN/m^2\n",
"p2 = 50;// in kN/m^2\n",
"v1 = 5;// in m^3\n",
"v2 = 1.5;// in m^3\n",
"Gamma = 1.4;\n",
"// Formula p1*v1^n = p2*v2^n\n",
"n= log(p2/p1)/log(v1/v2);\n",
"disp(n,'Part (a)    The value of n is : ')\n",
"disp('The process followed during air compression is POLYTROPIC');\n",
"// Part (b)\n",
"disp('Part (b)    The law of the process is p*v^'+string(n)+' = constant');\n",
"// Part (c)\n",
"W= (p1*v1-p2*v2)/(n-1);// in kNm or (kJ)\n",
"disp(W,'Part (c)    Work done during the process in kJ is : ');\n",
"disp('The -ve sign indicates that the work has been done on the system')\n",
"// Part (d)\n",
"Q = ((Gamma - n)/(Gamma - 1) * W);// in kJ\n",
"disp(Q,'Part (d)    Heat transfer during the process in kJ is :');\n",
"disp('The -ve sign indicates that the heat is rejected from the system')"
   ]
   }
,
{
		   "cell_type": "markdown",
		   "metadata": {},
		   "source": [
			"## Example 4.9: Change_in_internal_energy.sce"
		   ]
		  },
  {
"cell_type": "code",
	   "execution_count": null,
	   "metadata": {
	    "collapsed": true
	   },
	   "outputs": [],
"source": [
"// Exa 4.9\n",
"clc;\n",
"clear;\n",
"close;\n",
"// Given data\n",
"// Relation of specific internal energy of the gas\n",
"// U= 1.5*p*v-85 kJ/kg\n",
"p1 = 1000;// in kpa\n",
"p2 = 200;// in pa\n",
"v1 = 0.20;// in m^3\n",
"v2 = 1.20;// in m^3\n",
"m = 1.5;// in kg\n",
"U1= 1.5*p1*v1-85;//  kJ/kg\n",
"U2= 1.5*p2*v2-85;//  kJ/kg\n",
"delU= U2-U1;// in kJ\n",
"disp(delU,'Change in internal energy in kJ is');\n",
"// p1= a+b*v1          (i)\n",
"// p2= a+b*v2          (ii)\n",
"// From eq(i) and (ii)\n",
"b= (p1-p2)/(v1-v2);// in kN/m^2\n",
"a= p1-b*v1;// in kN/m^2 \n",
"disp(a,'The value of a in kN/m^2 is ')\n",
"disp(b,'The value of b in kN/m^2 is ')\n",
"// Part (c)\n",
"// Work done = integration of p w.r.t. v and p = a+b*v1\n",
"W= integrate('a+b*v','v',v1,v2);// in kJ\n",
"disp(W,'Work done in kJ is :')\n",
"// Part (d)\n",
"Q= delU+W;// in kJ\n",
"disp(Q,'The net heat transfer in kJ is : ')"
   ]
   }
],
"metadata": {
		  "kernelspec": {
		   "display_name": "Scilab",
		   "language": "scilab",
		   "name": "scilab"
		  },
		  "language_info": {
		   "file_extension": ".sce",
		   "help_links": [
			{
			 "text": "MetaKernel Magics",
			 "url": "https://github.com/calysto/metakernel/blob/master/metakernel/magics/README.md"
			}
		   ],
		   "mimetype": "text/x-octave",
		   "name": "scilab",
		   "version": "0.7.1"
		  }
		 },
		 "nbformat": 4,
		 "nbformat_minor": 0
}
