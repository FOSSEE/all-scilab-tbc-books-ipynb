{
"cells": [
 {
		   "cell_type": "markdown",
	   "metadata": {},
	   "source": [
       "# Chapter 9: Properties of Steam and Thermodynamic Cycles"
	   ]
	},
{
		   "cell_type": "markdown",
		   "metadata": {},
		   "source": [
			"## Example 9.10: Entropy.sce"
		   ]
		  },
  {
"cell_type": "code",
	   "execution_count": null,
	   "metadata": {
	    "collapsed": true
	   },
	   "outputs": [],
"source": [
"// Exa 9.10\n",
"clc;\n",
"clear;\n",
"close;\n",
"// Given data\n",
"T_sat = 179.88;// in degree c\n",
"T_sat = T_sat + 273;// in k\n",
"T_sup = 200;// in degree c\n",
"T_sup = T_sup + 273;// in k\n",
"L = 2013.6;// in kJ/kg\n",
"C_ps = 2.326;\n",
"C_pw = 1;\n",
"x = 0.8;\n",
"phi_wet = C_pw *log(T_sat/273) + ( (x * L)/T_sat);// in kJ/kg-K\n",
"disp(phi_wet,'Entropy of wet steam in kJ/kg-K is');\n",
"// Part (b)\n",
"phi_dry =C_pw * log(T_sat/273)+L/T_sat;// in kJ/kg\n",
"disp(phi_dry,'Entropy of dry and saturated steam in kJ/kg-K is');\n",
"// Part (c)\n",
"phi_sup = phi_dry+C_ps *log(T_sup/T_sat);// in kJ/kg\n",
"disp(phi_sup,'Entropy at 200°C in kJ/kg-K is :');"
   ]
   }
,
{
		   "cell_type": "markdown",
		   "metadata": {},
		   "source": [
			"## Example 9.11: Volume_of_steam.sce"
		   ]
		  },
  {
"cell_type": "code",
	   "execution_count": null,
	   "metadata": {
	    "collapsed": true
	   },
	   "outputs": [],
"source": [
"// Exa 9.11\n",
"clc;\n",
"clear;\n",
"close;\n",
"// Given data\n",
"m = 1;// in kg\n",
"x = 0.9;\n",
"p = 1;// N/mm^2\n",
"p = p * 10^1;// in bar\n",
"p = p * 10^2;// in kPa\n",
"h_sen  = 762.61;// in kJ/kg\n",
"L = 2013.6;// in kJ/kg\n",
"v_s = 0.1944;// in m^3 per kg\n",
"H_totalwet = h_sen + x*L;// in kJ/kg\n",
"U_wet = H_totalwet - (p * x * v_s);// in kJ/kg\n",
"I = U_wet / H_totalwet;// internal energy as a fraction of total heat\n",
"I = I * 10^2;// in %\n",
"disp(I,'The internal energy in % is');\n",
"// Part (b)\n",
"v_s = 0.1542;// in m^3/kg\n",
"h_sen = 815;// in kJ/kg\n",
"L = 1972;// in kJ/kg\n",
"H_totaldry = 2787;// in kJ/kg\n",
"C_ps = 2.199;\n",
"t_sup = 250;// in °C\n",
"t_sup = t_sup + 273;// in K\n",
"t_sat = 190.74;// in °C\n",
"t_sat = t_sat + 273;// in K\n",
"p1 = 13 * 10^2;// in kPa\n",
"v_ssup = v_s*t_sup/t_sat;// in m^3/kg\n",
"disp(v_ssup,'The volume of superheated steam in m^3/kg is');\n",
"// Part (c)\n",
"t_sat = t_sat - 273;// in °C\n",
"t_sup = t_sup - 273;// in °C\n",
"U_sup =h_sen+L+C_ps*(t_sup-t_sat)-p1*v_ssup;// in kJ\n",
"del_U =  U_sup -  U_wet;// in kJ\n",
"disp(del_U,'Change in internal energy in kJ is :');\n",
"\n",
""
   ]
   }
,
{
		   "cell_type": "markdown",
		   "metadata": {},
		   "source": [
			"## Example 9.12: Condition_of_steam.sce"
		   ]
		  },
  {
"cell_type": "code",
	   "execution_count": null,
	   "metadata": {
	    "collapsed": true
	   },
	   "outputs": [],
"source": [
"// Exa 9.12\n",
"clc;\n",
"clear;\n",
"close;\n",
"// Given data\n",
"m = 0.5;// in kg\n",
"M = 6.6;// in kg\n",
"x1 = M / (M+m);\n",
"h_dry = 2683;//in kJ/kg\n",
"C_p = 2.1;\n",
"h_sen = 814.5;//in kJ/kg\n",
"L = 1973;// in kJ/kg\n",
"t_sup = 120;// in °C\n",
"t_sat = 104.8;// in °C\n",
"x2 =(h_dry+C_p*(t_sup - t_sat)-h_sen)/ L;\n",
"x = x2 * x1;\n",
"disp(x,'the dryness fraction of steam is');"
   ]
   }
,
{
		   "cell_type": "markdown",
		   "metadata": {},
		   "source": [
			"## Example 9.1: Specific_volume_enthalpy_latent_heat_and_entropy.sce"
		   ]
		  },
  {
"cell_type": "code",
	   "execution_count": null,
	   "metadata": {
	    "collapsed": true
	   },
	   "outputs": [],
"source": [
"// Exa 9.1\n",
"clc;\n",
"clear;\n",
"close;\n",
"// Given data\n",
"disp('Part (i) : For dry saturated steam at 17.8 bar')\n",
"p= 17.8;// in bar\n",
"p1= 17.5;// in bar\n",
"p2= 18.0;// in bar\n",
"Vs1= 0.1135;// in litre/kg\n",
"Vs2= 0.1104;// in litre/kg\n",
"Hs1= 2796.1;// in kJ/kg\n",
"Hs2= 2796.4;// in kJ/kg\n",
"L1= 1918;// in kJ/kg\n",
"L2= 1912;// in kJ/kg\n",
"phi_s1= 6.389;// in kJ/kg K\n",
"phi_s2= 6.379;// in kJ/kg K\n",
"Vs= Vs1-(Vs2-Vs1)/(p2-p1)*(p-p1);// in litre/kg\n",
"Hs= Hs1+(Hs2-Hs1)/(p2-p1)*(p-p1);// in kJ/kg\n",
"L= L1- (L1-L2)/(p2-p1)*(p-p1);// in kJ/kg\n",
"phi_s= phi_s1- (phi_s1-phi_s2)/(p2-p1)*(p-p1);// in kJ/kg K\n",
"disp('Part (i) : For dry saturated steam at 17.8 bar')\n",
"disp(Vs,'The specific volume in litre/kg is : ');\n",
"disp(Hs,'The enthalpy in kJ/kg is : ');\n",
"disp(L,'The latent heat in kJ/kg is : ');\n",
"disp(phi_s,'The entropy in kJ/kg K')\n",
"disp('Part (ii) : For superheated steam at 16 bar and 340°C')\n",
"T= 340;// in K\n",
"T1= 300;// in K\n",
"T2= 350;// in K\n",
"Vsup1= 0.1585;// in m^3/kg\n",
"Vsup2= 0.1743;// in m^3/kg\n",
"Hsup1= 3030;// in kJ/kg\n",
"Hsup2= 3142;// in kJ/kg\n",
"phi_sup1= 6.877;// in kJ/kg K\n",
"phi_sup2= 7.063;// in kJ/kg K\n",
"Vsup= Vsup1+(Vsup2-Vsup1)/(T2-T1)*(T-T1);// in m^3/kg\n",
"Hsup= Hsup1+(Hsup2-Hsup1)/(T2-T1)*(T-T1);// in kJ/kg\n",
"phi_sup= phi_sup1+(phi_sup2-phi_sup1)/(T2-T1)*(T-T1);// in kJ/kg\n",
"disp(Vsup,'The specific volume in m^3/kg is : ');\n",
"disp(Hsup,'The enthalpy in kJ/kg is : ');\n",
"disp(phi_sup,'The entropy in kJ/kg K is : ')"
   ]
   }
,
{
		   "cell_type": "markdown",
		   "metadata": {},
		   "source": [
			"## Example 9.2: Condition_of_steam.sce"
		   ]
		  },
  {
"cell_type": "code",
	   "execution_count": null,
	   "metadata": {
	    "collapsed": true
	   },
	   "outputs": [],
"source": [
"// Exa 9.2\n",
"clc;\n",
"clear;\n",
"close;\n",
"// Given data\n",
"h_sen = 798.43;// in kJ/kg\n",
"L = 1984.3;// in kJ/kg\n",
"H_total_wet = 2665.7;\n",
"// H_total_wet= h_sen+x*L\n",
"x = (H_total_wet - h_sen)/L;\n",
"disp(x,'The value of x is :');\n",
"// Part (b)\n",
"h_total_sup= 2961;// in kJ/kg\n",
"Cps= 2.112;// in kJ/kg\n",
"H_total_dry= 2782.7;// in kJ/kg\n",
"// Let deltaT= T_sup-T_sat\n",
"// h_total_sup = h_sen+L+h_sup = H_total_dry +Cps*deltaT\n",
"deltaT= (h_total_sup-H_total_dry)/Cps;// in °C\n",
"disp(deltaT,'Degree of superheat in °C is :')"
   ]
   }
,
{
		   "cell_type": "markdown",
		   "metadata": {},
		   "source": [
			"## Example 9.3: Change_in_enthalpy_and_entropy.sce"
		   ]
		  },
  {
"cell_type": "code",
	   "execution_count": null,
	   "metadata": {
	    "collapsed": true
	   },
	   "outputs": [],
"source": [
"// Exa 9.3\n",
"clc;\n",
"clear;\n",
"close;\n",
"// Given data\n",
"H2 = 3055;// in kj per kg\n",
"H3 = 2550;// in kj per kg\n",
"fie_1 = 7.15;// kj per kg k\n",
"fie_2 = 7.57;// kj per kg k\n",
"d_fie= fie_2 - fie_1;// in kj per kg k\n",
"disp(d_fie,'Change in entropy during throttling process in kJ/kg-K is :');\n",
"dH = H2 - H3;// in kj per kg\n",
"disp(dH,'Change in enthalpy during isentropic process in kJ/kg is : ');\n",
""
   ]
   }
,
{
		   "cell_type": "markdown",
		   "metadata": {},
		   "source": [
			"## Example 9.4: Quantity_of_heat.sce"
		   ]
		  },
  {
"cell_type": "code",
	   "execution_count": null,
	   "metadata": {
	    "collapsed": true
	   },
	   "outputs": [],
"source": [
"// Exa 9.4\n",
"clc;\n",
"clear;\n",
"close;\n",
"// Given data\n",
"H_w = 670.4;// in kJ/kg\n",
"L = 2085;// kJ per kg\n",
"T_sat = 158.8;// in degree c\n",
"m = 4;// in kg\n",
"x = 0.5;\n",
"h_sen = 670.4;// in kJ/kg\n",
"H_totalwet = m * ( h_sen + (x *L));// in kJ\n",
"x1 = 0.95\n",
"H_totalwet1 = m *( h_sen + (x1 *L));// in kJ\n",
"Q1 =  H_totalwet1 - H_totalwet;// in kJ\n",
"disp(Q1,'Part (i) The quantity of heat in case first in kJ is : ');\n",
"// Part (b)\n",
"x2 = 1;\n",
"H_totaldry = m *( h_sen + (x2 *L));// in kJ\n",
"Q2 = H_totaldry - H_totalwet;// in kJ\n",
"disp(Q2,'Part (ii) The quantity of heat in case second in kJ is : ');\n",
"// Part (c)\n",
"H_totalsup = 3062.3;// in kJ per kg\n",
"H_totalsup = m * H_totalsup;// in kJ\n",
"Q3 = H_totalsup - H_totalwet;// in kJ\n",
"disp(Q3,'Part (iii) The quantity of heat in case third in kJ is : ');\n",
"// Part (d)\n",
"H_totalsup = 2950.4;// in kj per kg\n",
"H_totalsup = m * H_totalsup;// in kj\n",
"Q4 = H_totalsup - H_totalwet;// in kj\n",
"disp(Q4,'Part (iv) The quantity of heat in case forth in kJ is : ');"
   ]
   }
,
{
		   "cell_type": "markdown",
		   "metadata": {},
		   "source": [
			"## Example 9.5: Isentropic_efficiency_of_turbine.sce"
		   ]
		  },
  {
"cell_type": "code",
	   "execution_count": null,
	   "metadata": {
	    "collapsed": true
	   },
	   "outputs": [],
"source": [
"// Exa 9.5\n",
"clc;\n",
"clear;\n",
"close;\n",
"// Given data\n",
"p1 = 2.5;// Mpa\n",
"p1 = p1 * 10^6;// in pa\n",
"p1 = p1 * 10^-5;// in bar\n",
"p2 = 10;// in kpa\n",
"p2 = p2 * 10^3;// in pa\n",
"p2 = p2 * 10^-5;// in bar\n",
"H1 = 2878;// in kJ/kg at 25 bar and 250°C\n",
"H2 = 2583.9;// in kJ/kg at 0.1 bar for dry saturated steam\n",
"AHD= H1-H2;// actual heat drop in kJ/kg\n",
"H2_desh = 2110;// in kj per kg\n",
"IHD = H1 - H2_desh;// Isentropic heat drop in kJ/ kg\n",
"Eta_Isentropic = (AHD/IHD) * 100;// in %\n",
"disp(Eta_Isentropic,'Isentropic efficiency in % is');\n",
"// H1 + v1^2/2 + g*z1 + Q = H2 + v2^2/2 + g*z2 + W\n",
"W = H1 - H2;// in kJ/kg (as v1=v2, z1= z2 and Q=0)\n",
"disp(W,'Turbine work is in kJ/kg is :');"
   ]
   }
,
{
		   "cell_type": "markdown",
		   "metadata": {},
		   "source": [
			"## Example 9.6: Dryness_fraction_of_steam.sce"
		   ]
		  },
  {
"cell_type": "code",
	   "execution_count": null,
	   "metadata": {
	    "collapsed": true
	   },
	   "outputs": [],
"source": [
"//Exa 9.6\n",
"clc;\n",
"clear;\n",
"close;\n",
"// Given data\n",
"p1 = 11;// in bar\n",
"p2 = 1.2;// in bar\n",
"H_w1 = 781.1;//in kJ/kg\n",
"L1 = 2000;// in kJ/kg\n",
"t1 = 120;// in degree c\n",
"t1 = t1 + 273;// in K\n",
"t2 = 104.81;// in degree c\n",
"t2 = t2 + 273;// in K\n",
"H_dry2 = 2683.4;// in kJ/kg\n",
"C_p = 2.607;// in kJ/kgK\n",
"// From Hw1+x*L1 = H_dry2+Cp*(t1-t2)\n",
"x = (H_dry2 + (C_p * (t1 - t2)) - H_w1) / L1;\n",
"disp(x,'Dryness fraction of steam is :');\n",
"x1 = (H_dry2 - H_w1)/L1;\n",
"disp(x1,'Maximum dryness fraction of steam is :');"
   ]
   }
,
{
		   "cell_type": "markdown",
		   "metadata": {},
		   "source": [
			"## Example 9.7: Dryness_fraction_of_sample_steam.sce"
		   ]
		  },
  {
"cell_type": "code",
	   "execution_count": null,
	   "metadata": {
	    "collapsed": true
	   },
	   "outputs": [],
"source": [
"//Exa 9.7\n",
"clc;\n",
"clear;\n",
"close;\n",
"// Given data\n",
"W = 21;// in kg\n",
"w_wp = 2;// in kg\n",
"h1 = 781.15;// in kJ/kg\n",
"L1 = 1998.5;// in kJ/kg\n",
"m = 2;// in kg\n",
"h2 = 420.5;// in kJ/kg\n",
"L = 2255.9;// in kJ/kg\n",
"t_sat = 100.4;// in degree c\n",
"t1 = 110;// in degree c\n",
"C_ps = 2;// in kJ/kgK\n",
"x1 = W / (W + w_wp);\n",
"x2 = (h2 + L + m * (t1-t_sat) - h1)/ L1;\n",
"x = x1 * x2;\n",
"disp(x,'The dryness fraction for sample steam is');"
   ]
   }
,
{
		   "cell_type": "markdown",
		   "metadata": {},
		   "source": [
			"## Example 9.8: Heat_transfer_during_the_process.sce"
		   ]
		  },
  {
"cell_type": "code",
	   "execution_count": null,
	   "metadata": {
	    "collapsed": true
	   },
	   "outputs": [],
"source": [
"//Exa 9.8\n",
"clc;\n",
"clear;\n",
"close;\n",
"// Given data\n",
"h_sen = 417.4;// in kJ/kg\n",
"h_totaldry = 2675.4;// in kJ/kg\n",
"L = 2258;// in kJ/kg\n",
"v = 5;// in m^3\n",
"v_v = 4.95;// in m^3\n",
"x = v_v/v;\n",
"Q = h_totaldry -(h_sen +x*L);// in kJ/kg\n",
"disp(Q,'Heat transfered per kg in kJ/kg is : ');"
   ]
   }
,
{
		   "cell_type": "markdown",
		   "metadata": {},
		   "source": [
			"## Example 9.9: Work_done_during_evaporation.sce"
		   ]
		  },
  {
"cell_type": "code",
	   "execution_count": null,
	   "metadata": {
	    "collapsed": true
	   },
	   "outputs": [],
"source": [
"// Exa 9.9\n",
"clc;\n",
"clear;\n",
"close;\n",
"// Given data\n",
"m = 1;// in kg\n",
"p = 10;// in bar\n",
"p = p * 10^2;// in kpa\n",
"x = 0.94;\n",
"h_sen = 762.61;// in kJ/kg\n",
"L = 2013.6;// in kJ/kg\n",
"v_s = 0.1942;// in m^3 per kg\n",
"w_ext = p * x * v_s * m;// in kJ/kg\n",
"disp(w_ext,'The work done during evaporation in kJ/kg is');\n",
"// Part (b)\n",
"L_internal = (x * L) - w_ext;// in kJ/kg\n",
"disp(L_internal,'Internal latent heat in kJ/kg is');\n",
"// Part (c)\n",
"U_wet = h_sen+x*L-p*x*v_s;// in kJ/kg\n",
"disp(U_wet,'Internal energy in kJ/kg is');"
   ]
   }
],
"metadata": {
		  "kernelspec": {
		   "display_name": "Scilab",
		   "language": "scilab",
		   "name": "scilab"
		  },
		  "language_info": {
		   "file_extension": ".sce",
		   "help_links": [
			{
			 "text": "MetaKernel Magics",
			 "url": "https://github.com/calysto/metakernel/blob/master/metakernel/magics/README.md"
			}
		   ],
		   "mimetype": "text/x-octave",
		   "name": "scilab",
		   "version": "0.7.1"
		  }
		 },
		 "nbformat": 4,
		 "nbformat_minor": 0
}
