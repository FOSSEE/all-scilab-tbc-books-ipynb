{
"cells": [
 {
		   "cell_type": "markdown",
	   "metadata": {},
	   "source": [
       "# Chapter 2: Gas Laws Ideal and Real Gases"
	   ]
	},
{
		   "cell_type": "markdown",
		   "metadata": {},
		   "source": [
			"## Example 2.12: Pressure_of_the_gas.sce"
		   ]
		  },
  {
"cell_type": "code",
	   "execution_count": null,
	   "metadata": {
	    "collapsed": true
	   },
	   "outputs": [],
"source": [
"// Exa 2.12\n",
"clc;\n",
"clear;\n",
"close;\n",
"// Given data\n",
"AvogadroNo= 6.023*10^23;\n",
"n= 5/AvogadroNo;// number of moles\n",
"v=10^-6;// in m^3\n",
"T= -270+273;// in K\n",
"R= 0.287;\n",
"p= n*R*T/v;// in kPa\n",
"p= p*10^18;// in aPa\n",
"disp('The pressure in the space is '+string(p)+' aPa');"
   ]
   }
,
{
		   "cell_type": "markdown",
		   "metadata": {},
		   "source": [
			"## Example 2.13: Change_in_enthalpy.sce"
		   ]
		  },
  {
"cell_type": "code",
	   "execution_count": null,
	   "metadata": {
	    "collapsed": true
	   },
	   "outputs": [],
"source": [
"// Exa 2.13\n",
"clc;\n",
"clear;\n",
"close;\n",
"// Given data\n",
"T1= 300;// in K\n",
"T2= 900;// in K\n",
"m=2;// in kg\n",
"Cp= '40+600/sqrt(T)+7000/T';// in kJ/kg mole K\n",
"delta_H=m* integrate('40-600/sqrt(T)+7000/T','T',T1,T2);// in kJ/kg mole\n",
"delta_H= delta_H/17.03;// in kJ/kg\n",
"disp(delta_H,'Change in enthalpy in kJ/kg is : ')"
   ]
   }
,
{
		   "cell_type": "markdown",
		   "metadata": {},
		   "source": [
			"## Example 2.14: Molecular_weight.sce"
		   ]
		  },
  {
"cell_type": "code",
	   "execution_count": null,
	   "metadata": {
	    "collapsed": true
	   },
	   "outputs": [],
"source": [
"// Exa 2.14\n",
"clc;\n",
"clear;\n",
"close;\n",
"// Given data\n",
"m=12;// in kg mol\n",
"v=723.7;// in m^3\n",
"T=140;// in °C\n",
"T=T+273;// in K\n",
"rho= 0.644;// in kg/m^3\n",
"Ro= 8314;// in J/kg-mole K\n",
"// rho= m/v, where m in Kg , so rho= m*M/v\n",
"M= rho*v/m;\n",
"m= m*M;// in kg\n",
"disp(M,'Molecular weight is : ')\n",
"\n",
"// Part (b)\n",
"R= Ro/M;// in J/kg K\n",
"disp(R*10^-3,'Gas constant in kJ/kg K')\n",
"\n",
"// Part(c)\n",
"p= m*R*T/v;// in N/m^2\n",
"p=p*10^-5;// in bar\n",
"disp(p,'The pressure of the gas in bar is : ')"
   ]
   }
,
{
		   "cell_type": "markdown",
		   "metadata": {},
		   "source": [
			"## Example 2.15: Load_that_can_be_lifted_with_the_air_of_aerostat.sce"
		   ]
		  },
  {
"cell_type": "code",
	   "execution_count": null,
	   "metadata": {
	    "collapsed": true
	   },
	   "outputs": [],
"source": [
"// Exa 2.15\n",
"clc;\n",
"clear;\n",
"close;\n",
"// Given data\n",
"p= 0.98;// in bar\n",
"p= p*10^5;// in N/m^2\n",
"v=1000;// in m^3\n",
"T= 27+273;// in K\n",
"g= 9.8;\n",
"M=2;\n",
"Ro= 8314;// in J/kg-mole K\n",
"R=Ro/M;// in kg K\n",
"m= p*v/(R*T);// in kg\n",
"W= m*g;// in N\n",
"disp(W,'The load that can be lifted with the air of aerostat in N is : ')"
   ]
   }
,
{
		   "cell_type": "markdown",
		   "metadata": {},
		   "source": [
			"## Example 2.16: Change_in_enthalpy.sce"
		   ]
		  },
  {
"cell_type": "code",
	   "execution_count": null,
	   "metadata": {
	    "collapsed": true
	   },
	   "outputs": [],
"source": [
"// Exa 2.16\n",
"clc;\n",
"clear;\n",
"close;\n",
"// Given data\n",
"T1= 500;// in K\n",
"T2= 2000;// in K\n",
"m=1;// in kg\n",
"Cp= '11.515-172/sqrt(T)-1530/T';// in kcal/kg mole K\n",
"delta_H=m* integrate('11.515-172/sqrt(T)-1530/T','T',T1,T2);// in kcal/kg mole\n",
"disp(delta_H,'Change in enthalpy in kcal/kg mole is : ')"
   ]
   }
,
{
		   "cell_type": "markdown",
		   "metadata": {},
		   "source": [
			"## Example 2.17: Value_of_Cv_and_Cp.sce"
		   ]
		  },
  {
"cell_type": "code",
	   "execution_count": null,
	   "metadata": {
	    "collapsed": true
	   },
	   "outputs": [],
"source": [
"// Exa 2.17\n",
"clc;\n",
"clear;\n",
"close;\n",
"// Given data\n",
"u='196+0.718*t';\n",
"pv= '0.278*(t+273)';\n",
"duBydt= 0.718;\n",
"Cv= duBydt;// in kJ/kg-K\n",
"h= u+pv;\n",
"h='273.351+1.005*t';\n",
"dhBydt= 1.005;// in kJ/kg-K\n",
"Cp= dhBydt;// in kJ/kg-K\n",
"disp(Cv,'The value of Cv in kJ/kg-K is : ')\n",
"disp(Cp,'The value of Cp in kJ/kg-K is : ')"
   ]
   }
,
{
		   "cell_type": "markdown",
		   "metadata": {},
		   "source": [
			"## Example 2.1: Air_pressure_in_the_tyre.sce"
		   ]
		  },
  {
"cell_type": "code",
	   "execution_count": null,
	   "metadata": {
	    "collapsed": true
	   },
	   "outputs": [],
"source": [
"// Exa 2.1\n",
"clc;\n",
"clear;\n",
"close;\n",
"// Given data\n",
"p1= 2;// in bar\n",
"v1= 30;// in litre\n",
"T1= 27+273;// in K\n",
"T2= -3+273;// in K\n",
"v2= v1;// in litre\n",
"// Gas law  p1*v1/T1= p2*v2/T2\n",
"p2= p1*v1*T2/(T1*v2);// in bar\n",
"disp(p2,'The air pressure in the tyre in bar is :')\n",
" "
   ]
   }
,
{
		   "cell_type": "markdown",
		   "metadata": {},
		   "source": [
			"## Example 2.2: Molar_volume_of_the_gas_mixture.sce"
		   ]
		  },
  {
"cell_type": "code",
	   "execution_count": null,
	   "metadata": {
	    "collapsed": true
	   },
	   "outputs": [],
"source": [
"// Exa 2.2\n",
"clc;\n",
"clear;\n",
"close;\n",
"// Given data\n",
"p= 12;// in bar\n",
"p=p*10^5;// in N/m^2\n",
"v= 25;// in m^3\n",
"T= 30+273;// in K\n",
"// Part (a) Mass of each gas\n",
"//Formula p*v=m*R*T\n",
"R_U= 8314;// in J/kg-mole K\n",
"M_N2= 28.016;// in mole\n",
"M_O2= 32;// in mole\n",
"M_CO2= 44;// in mole\n",
"R_N2= R_U/M_N2;// in J/kg K\n",
"R_O2= R_U/M_O2;// in J/kg K\n",
"R_CO2= R_U/M_CO2;// in J/kg K\n",
"m_of_N2= p*v/(R_N2*T);// in kg\n",
"m_of_O2= p*v/(R_O2*T);// in kg\n",
"m_of_CO2= p*v/(R_CO2*T);// in kg\n",
"disp(m_of_N2,'The mass of Nitrogen gas stored in the vessel in kg is : ')\n",
"disp(m_of_O2,'The mass of Oxygen gas stored in the vessel in kg is : ')\n",
"disp(round(m_of_CO2),'The mass of Carbon dioxide gas stored in the vessel in kg is : ')\n",
"\n",
"// Part (b) Molar Volume\n",
"// Formula v_molar= M*R*T/p= R_U*T/p\n",
"v_molar= R_U*T/p;// in m^3\n",
"disp(v_molar,'Molar volume of the gas mixture in m^3 is : ')\n",
"\n",
"// Part (c) Average density\n",
"// rho_avg= total mass/total volume\n",
"rho_avg= (m_of_N2+m_of_O2+m_of_CO2)/v;// in kg/m^3\n",
"disp(rho_avg,'Average density of the gas mixture in kg/m^3 is : ')"
   ]
   }
,
{
		   "cell_type": "markdown",
		   "metadata": {},
		   "source": [
			"## Example 2.3: Value_of_Cp_Cv_and_R.sce"
		   ]
		  },
  {
"cell_type": "code",
	   "execution_count": null,
	   "metadata": {
	    "collapsed": true
	   },
	   "outputs": [],
"source": [
"// Exa 2.3\n",
"clc;\n",
"clear;\n",
"close;\n",
"// Given data\n",
"Qp= 1230; // kJ/kg\n",
"Qv= 795; // kJ/kg\n",
"t1= 16;// in °C\n",
"t2= 96;// in °C\n",
"R_U= 8.314;\n",
"delta_T= t2-t1;// in °C\n",
"Cp= Qp/delta_T;// in kJ/kg °C\n",
"disp(Cp,'The value of Cp in kJ/kg°C')\n",
"Cv= Qv/delta_T;// in kJ/kg °C\n",
"disp(Cv,'The value of Cv in kJ/kg°C')\n",
"R= Cp-Cv;// in kJ/kg °C\n",
"disp(R,'The value of R in kJ/kg°C')\n",
"molecular_weight= R_U/R;\n",
"disp(molecular_weight,'Molecular weight of the gas is : ')"
   ]
   }
,
{
		   "cell_type": "markdown",
		   "metadata": {},
		   "source": [
			"## Example 2.4: Change_in_internal_energy.sce"
		   ]
		  },
  {
"cell_type": "code",
	   "execution_count": null,
	   "metadata": {
	    "collapsed": true
	   },
	   "outputs": [],
"source": [
"// Exa 2.4\n",
"clc;\n",
"clear;\n",
"close;\n",
"// Given data\n",
"a= 0.85;\n",
"b= 0.00004;\n",
"c= 5*10^-5;\n",
"T1= 300;// in K\n",
"T2= 2300;// in K\n",
"gama= 1.5;// the ratio of specific heats\n",
"m=1;// in kg\n",
"delta_H= m*integrate('a+b*T+c*T^2','T',T1,T2);// in kJ\n",
"disp(delta_H*10^-3,'Change in enthalpy in MJ is : ')\n",
"// Formula delta_U= integration of m*Cv = integration of m*Cp/gama= delta_H/gama\n",
"delta_U= delta_H/gama;// in kJ\n",
"disp(delta_U*10^-3,'The change in internal energy in MJ is : ')"
   ]
   }
,
{
		   "cell_type": "markdown",
		   "metadata": {},
		   "source": [
			"## Example 2.5: Pressure_exerted_by_unit_mass_of_the_gas.sce"
		   ]
		  },
  {
"cell_type": "code",
	   "execution_count": null,
	   "metadata": {
	    "collapsed": true
	   },
	   "outputs": [],
"source": [
"// Exa 2.5\n",
"clc;\n",
"clear;\n",
"close;\n",
"// Given data\n",
"v= 0.9/3;// in m^3/kg\n",
"v= 2*v;// in m^3/kg mole (as M_hydrogen = 2)\n",
"T=120+273;// in K\n",
"R=8314;// in J/kg mole K\n",
"a=2.51*10^4;// in Nm^4/(kg mole)^2\n",
"b= 0.0262;\n",
"// Part (a)\n",
"p= R*T/v;// in N/m^2\n",
"p= p*10^-5;// in bar\n",
"disp(p,'Using perfect gas law the pressure for unit mass of hydrogen in bar is : ')\n",
"\n",
"// Part (b)\n",
"p= R*T/(v-b)-a/v^2;// N/m^2\n",
"p= p*10^-5;// in bar\n",
"disp(p,'Using Van der waals equation, the pressure in bar is : ')"
   ]
   }
,
{
		   "cell_type": "markdown",
		   "metadata": {},
		   "source": [
			"## Example 2.6: Density_of_gas.sce"
		   ]
		  },
  {
"cell_type": "code",
	   "execution_count": null,
	   "metadata": {
	    "collapsed": true
	   },
	   "outputs": [],
"source": [
"// Exa 2.6\n",
"clc;\n",
"clear;\n",
"close;\n",
"// Given data\n",
"p1= 0.98;// in bar\n",
"p2= 0.6;// in bar\n",
"v1= 0.45;// in m^3/kg\n",
"// Applying Boyle's law\n",
"v2= p1*v1/p2;// in m^3/kg\n",
"rho2= 1/v2;// in kg/m^3\n",
"disp(rho2,'The density of the gas under the changed condition in kg/m^3 is : ')"
   ]
   }
,
{
		   "cell_type": "markdown",
		   "metadata": {},
		   "source": [
			"## Example 2.7: Payload.sce"
		   ]
		  },
  {
"cell_type": "code",
	   "execution_count": null,
	   "metadata": {
	    "collapsed": true
	   },
	   "outputs": [],
"source": [
"// Exa 2.7\n",
"clc;\n",
"clear;\n",
"close;\n",
"// Given data\n",
"r=5;// in cm\n",
"R_U= 8314\n",
"T= 27+273;// in K\n",
"V= 4/3*%pi*r^3;// volume of balloon in cm^3\n",
"// atmPressure= 75 cm off mercury = 75/76*1.01325 \n",
"atmPressure= round(75/76*1.01325) ;// in bar\n",
"p= atmPressure;// pressure of hydrogen in balloon in bar\n",
"p=p*10^5;// in N/m^2\n",
"R= R_U/2;// in J/kg K\n",
"m1= p*V/(R*T);// in kg\n",
"// The volume of air displaced = the volume of balloon, so\n",
"R=287;\n",
"T=20+273;// in K\n",
"m2= p*V/(R*T);// in kg\n",
"payload= m2-m1;// in kg\n",
"disp(payload,'Payload that can be lifted along with the balloon in kg is : ')\n",
"\n",
""
   ]
   }
],
"metadata": {
		  "kernelspec": {
		   "display_name": "Scilab",
		   "language": "scilab",
		   "name": "scilab"
		  },
		  "language_info": {
		   "file_extension": ".sce",
		   "help_links": [
			{
			 "text": "MetaKernel Magics",
			 "url": "https://github.com/calysto/metakernel/blob/master/metakernel/magics/README.md"
			}
		   ],
		   "mimetype": "text/x-octave",
		   "name": "scilab",
		   "version": "0.7.1"
		  }
		 },
		 "nbformat": 4,
		 "nbformat_minor": 0
}
