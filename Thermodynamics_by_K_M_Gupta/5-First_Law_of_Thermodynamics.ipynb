{
"cells": [
 {
		   "cell_type": "markdown",
	   "metadata": {},
	   "source": [
       "# Chapter 5: First Law of Thermodynamics"
	   ]
	},
{
		   "cell_type": "markdown",
		   "metadata": {},
		   "source": [
			"## Example 5.1: Mass_flow_rate_of_air.sce"
		   ]
		  },
  {
"cell_type": "code",
	   "execution_count": null,
	   "metadata": {
	    "collapsed": true
	   },
	   "outputs": [],
"source": [
"// Exa 5.1\n",
"clc;\n",
"clear;\n",
"close;\n",
"// Given data\n",
"v1_total = 7;// in m^3/min\n",
"v_s1 = 0.35;// in m^3/kg\n",
"v_s2 = 0.12;// in m^3/kg\n",
"p1 = 1;// in bar\n",
"p1 = p1 * 10^5;// in N/m^2\n",
"p2 = 6;// in bar\n",
"p2 = p2 * 10^5;// in N/m^2\n",
"D1 = 110;// in mm\n",
"D1 = D1 * 10^-3;// in m\n",
"D2 = 65;// in mm\n",
"D2 = D2 * 10^-3;// in m\n",
"Af1 = %pi/4*D1^2;// in m^2\n",
"Af2 = %pi/4*D2^2;// in m^2\n",
"// v1_total = m1 * v_s1\n",
"m1 = v1_total / v_s1;//in kg/min\n",
"disp(m1,'The mass flow rate of air in kg/min is :');\n",
"m2 = m1;// in kg/min\n",
"v2_total = m2 * v_s2;// in m^3/min\n",
"del_W_flow = (p2 * v2_total) - (p1 * v1_total);// in J/min\n",
"disp(del_W_flow*10^-3,'The change in the work flow in kJ/min is : ');\n",
"v_f1 = v1_total/Af1;// in m/min\n",
"v_f2 = v2_total /Af2;//in m/min\n",
"del_v = v_f2 - v_f1;// in m/min\n",
"disp(del_v,'Change in velocity of the air flow in m/min is :');  \n",
"\n",
""
   ]
   }
,
{
		   "cell_type": "markdown",
		   "metadata": {},
		   "source": [
			"## Example 5.2: Rate_of_heat_transfer.sce"
		   ]
		  },
  {
"cell_type": "code",
	   "execution_count": null,
	   "metadata": {
	    "collapsed": true
	   },
	   "outputs": [],
"source": [
"//Exa 5.2\n",
"clc;\n",
"clear;\n",
"close;\n",
"// Given data\n",
"m = 2;// in kg per min\n",
"m = m / 60;// in kg per sec\n",
"W = 20;// in kW\n",
"h1 = 1400;// in kJ/kg\n",
"h2 = 1300;// in kJ/kg\n",
"Q = (m * (h2 - h1)) + W;// in kJ/s\n",
"disp(Q,'Rate of heat transfer to the water jacket in kJ/sec');\n",
" "
   ]
   }
,
{
		   "cell_type": "markdown",
		   "metadata": {},
		   "source": [
			"## Example 5.3: Power_output_of_the_turbine.sce"
		   ]
		  },
  {
"cell_type": "code",
	   "execution_count": null,
	   "metadata": {
	    "collapsed": true
	   },
	   "outputs": [],
"source": [
"// Exa 5.3\n",
"clc;\n",
"clear;\n",
"close;\n",
"// Given data\n",
"g= 9.81;\n",
"p1 = 3;// in Mpa\n",
"p2 = 10;// in kPa\n",
"T1 = 350;// in °C\n",
"T1 = T1 + 273;// in K\n",
"m = 1;// in kg per sec\n",
"v1 = 50;// in m per sec\n",
"v2 = 120;// in m per sec\n",
"z1 = 2;// in m\n",
"z2 = 5;// in m\n",
"C_p = 1.005;// in kJ per sec\n",
"Q = 5;// in kJ per sec\n",
"Q = -(Q) * 10^3;// in J per sec\n",
"T2 = (p2 * T1)/p1;// in K\n",
"del_h = C_p * (T2-T1);// in kJ\n",
"del_h = del_h * 10^3;// in J\n",
"t = m * ( del_h +(v2^2-v1^2)/2 + (g * (z2 - z1)));// t is variable taken  for calculation\n",
"W_s = Q - t;// in J per sec\n",
"W_s = W_s * 10^-6;// in MW\n",
"disp(W_s,'The power output of the turbine in MW');\n",
"// If kinetic and potential energy are ignored then\n",
"W_s2 = Q -(m * del_h);// in J per sec\n",
"W_s2 = W_s2 * 10^-6;// in MW\n",
"errorIntroduced= (abs(W_s)-abs(W_s2))/abs(W_s)*100;// in %\n",
"disp(errorIntroduced,'Total error introduced in % is :');"
   ]
   }
,
{
		   "cell_type": "markdown",
		   "metadata": {},
		   "source": [
			"## Example 5.4: Quantity_of_water_circulated.sce"
		   ]
		  },
  {
"cell_type": "code",
	   "execution_count": null,
	   "metadata": {
	    "collapsed": true
	   },
	   "outputs": [],
"source": [
"//Exa 5.4\n",
"clc;\n",
"clear;\n",
"close;\n",
"//Given data\n",
"h1 = 246.6;// in kJ/kg\n",
"h2 = 198.55;// in kJ/kg\n",
"W = 0;\n",
"g= 9.8;\n",
"Q= -(105000);// in kJ per hr\n",
"// m * (h1 + ((v1*^2)/(2*1000)) + ((g * z1)/1000)) + Q =  m * (h2 + ((v2^2)/(2*1000)) + ((g * z2)/1000)) + W\n",
"// v1 and v2 is change in velocity is neglected and z2 = z1 + 10\n",
"m = Q/( (h2-h1) + ((g * 10)/1000) );// kg per hr\n",
"disp(m,'Quantity of  water circulated through the pipe in kg/hr is');"
   ]
   }
,
{
		   "cell_type": "markdown",
		   "metadata": {},
		   "source": [
			"## Example 5.5: Power_of_motor_required.sce"
		   ]
		  },
  {
"cell_type": "code",
	   "execution_count": null,
	   "metadata": {
	    "collapsed": true
	   },
	   "outputs": [],
"source": [
"//Exa 5.5\n",
"clc;\n",
"clear;\n",
"close;\n",
"//Given data \n",
"m=15;// in kg/min\n",
"m= m/60;// in kg/sec\n",
"H1= 5;// in kJ/kg\n",
"H1= H1*10^3;// in J/kg\n",
"H2= 173;// in kJ/kg\n",
"H2= H2*10^3;// in J/kg\n",
"V1= 5;// in m/s\n",
"V2= 7.5;// in m/s\n",
"Q= 760;// in kJ/min\n",
"Q= Q*10^3/60;// in J/s\n",
"// Formula (H1+V1^2/2)+(-Q)= (H2+V2^2/2)+W\n",
"W= (H1+V1^2/2)+(-Q)-(H2+V2^2/2);// in W/kg\n",
"W= W*10^-3;// in kW/kg\n",
"// The work done will be\n",
"W= m*W;// in kW\n",
"P= abs(W);// in kW\n",
"disp(P,'Power of the motor required to drive the compressor in kW is : ')\n",
"// Part (b)\n",
"v1= 0.5;// in m^3/kg\n",
"v2= 0.15;// in m^3/kg\n",
"// A1/A2= rho2*V2/(rho1*V1) = v1*V2/(v2*V1)\n",
"ratioOFA1andA2= v1*V2/(v2*V1);\n",
"radioOFd1andd2= sqrt(ratioOFA1andA2);\n",
"disp(radioOFd1andd2,'Ratio of inlet pipe diameter to outlet pipe diameter is : ')"
   ]
   }
],
"metadata": {
		  "kernelspec": {
		   "display_name": "Scilab",
		   "language": "scilab",
		   "name": "scilab"
		  },
		  "language_info": {
		   "file_extension": ".sce",
		   "help_links": [
			{
			 "text": "MetaKernel Magics",
			 "url": "https://github.com/calysto/metakernel/blob/master/metakernel/magics/README.md"
			}
		   ],
		   "mimetype": "text/x-octave",
		   "name": "scilab",
		   "version": "0.7.1"
		  }
		 },
		 "nbformat": 4,
		 "nbformat_minor": 0
}
