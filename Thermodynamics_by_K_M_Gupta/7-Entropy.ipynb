{
"cells": [
 {
		   "cell_type": "markdown",
	   "metadata": {},
	   "source": [
       "# Chapter 7: Entropy"
	   ]
	},
{
		   "cell_type": "markdown",
		   "metadata": {},
		   "source": [
			"## Example 7.11: Net_heat_transfer_and_overall_change_in_entropy.sce"
		   ]
		  },
  {
"cell_type": "code",
	   "execution_count": null,
	   "metadata": {
	    "collapsed": true
	   },
	   "outputs": [],
"source": [
"//Exa 7.11\n",
"clc;\n",
"clear;\n",
"close;\n",
"// Given data\n",
"p1 = 1 * 10^5;// in N/m^2\n",
"C_p = 1.005;// in kJ/kg k\n",
"R = 287;// in j/kg k\n",
"T1 = 290;// in K\n",
"T2 = 580;// in K\n",
"v1 = 1;// in m^3\n",
"m = (p1 * v1)/(R * T1);// in kg\n",
"Q = m * R * (T2-T1);// in J\n",
"Q = Q * 10^-3;// in kJ\n",
"del_phi = m * C_p * (log(T2/T1));// in kJ per K\n",
"R = R * 10^-3;// in kJ/kg K\n",
"C_v = C_p - R;// in kJ/kg k\n",
"del1_phi = m * C_v * (log(T1/T2));// in kJ/K\n",
"net_phi = del_phi + del1_phi;// in kJ/K\n",
"disp(net_phi,'Over all change in entrophy in kJ/K');\n",
""
   ]
   }
,
{
		   "cell_type": "markdown",
		   "metadata": {},
		   "source": [
			"## Example 7.2: Change_in_entropy_of_air.sce"
		   ]
		  },
  {
"cell_type": "code",
	   "execution_count": null,
	   "metadata": {
	    "collapsed": true
	   },
	   "outputs": [],
"source": [
"//Exa 7.2\n",
"clc;\n",
"clear;\n",
"close;\n",
"// Given data\n",
"v1 = 0.05;// in m^3\n",
"v2 = 8 * v1;// in m^3\n",
"T1 = 280;// in °C\n",
"T1 = T1 + 273;// in K\n",
"T2 = 25;// in °C\n",
"T2 = T2 + 273;// in K\n",
"p1 = 8;// in bar\n",
"C_p = 1.005;// in kJ/kgK\n",
"C_v = 0.712;// in kJ/kgK\n",
"R = C_p - C_v;// in kJ/kgK\n",
"del_phi = (R * ( log(v2/v1)) ) + (C_v * (log(T2/T1)) );// in kJ/kgK\n",
"disp(del_phi,'The change in entrophy of air during the process in kJ/kgKis');"
   ]
   }
,
{
		   "cell_type": "markdown",
		   "metadata": {},
		   "source": [
			"## Example 7.3: Overall_change_in_entropy.sce"
		   ]
		  },
  {
"cell_type": "code",
	   "execution_count": null,
	   "metadata": {
	    "collapsed": true
	   },
	   "outputs": [],
"source": [
"// Exa 7.3\n",
"clc;\n",
"clear;\n",
"close;\n",
"// Given data\n",
"m = 5;// in kg\n",
"T1 = 50;// in °C\n",
"T1 = T1 + 273;// in K\n",
"T2 = 250;// in °C\n",
"T2 = T2 + 273;// in K\n",
"C_p = 1.0;\n",
"C_v = 0.72;\n",
"T3 = 50;// in °C\n",
"T3 = T3 + 273;// in K\n",
"del_phi = m * C_p * (log(T2/T1));// in kJ/ K (this is increase in entrophy)\n",
"del_phi1 = m * C_v * (log(T3/T2));// in kJ/K (this is decrease in entrophy)\n",
"phi_net = del_phi - abs(del_phi1);// in kJ/K\n",
"disp(phi_net,'The net change in entrophy in kJ/K is');"
   ]
   }
,
{
		   "cell_type": "markdown",
		   "metadata": {},
		   "source": [
			"## Example 7.6: Entropy_generated_during_the_process.sce"
		   ]
		  },
  {
"cell_type": "code",
	   "execution_count": null,
	   "metadata": {
	    "collapsed": true
	   },
	   "outputs": [],
"source": [
"// Exa 7.6\n",
"clc;\n",
"clear;\n",
"close;\n",
"// Given data\n",
"Q1 = 1600;// in kJ\n",
"Q2 = 1600;// in kJ\n",
"T1 = 800;// in K\n",
"T2 = 127;// in °C\n",
"T2 = T2 + 273;// in K\n",
"d1_phi = Q1/T1;// in kJ per K\n",
"d2_phi = Q2/T2;// in kJ per K\n",
"net_phi = d2_phi - d1_phi;// in kJ per K\n",
"disp(net_phi,'Total entrophy generated during the process in kJ/K is : ');"
   ]
   }
,
{
		   "cell_type": "markdown",
		   "metadata": {},
		   "source": [
			"## Example 7.8: The_flow_of_air.sce"
		   ]
		  },
  {
"cell_type": "code",
	   "execution_count": null,
	   "metadata": {
	    "collapsed": true
	   },
	   "outputs": [],
"source": [
"// Exa 7.8\n",
"clc;\n",
"clear;\n",
"close;\n",
"// Given data\n",
"T_A= 50+273;// in K\n",
"T_B= 13+273;// in K\n",
"P_A= 130;// in kPa\n",
"P_B= 100;// in kPa\n",
"Cp= 1.005;// in kJ/kg-K\n",
"pvByT= 0.287;// p in kPa, v in m^3/kg, T in K\n",
"del_S_system= Cp*log(T_B/T_A)-pvByT*log(P_B/P_A);// in kJ/kg-K\n",
"del_S_surrounding=0;\n",
"del_S_universe= del_S_system+del_S_surrounding;// in kJ/kg-K\n",
"disp(del_S_universe,'The change in entropy in kJ/kg-K is : ')\n",
"disp('But a negative change in entropy is not possible,');\n",
"disp('hence the flow of air must be from B to A')"
   ]
   }
,
{
		   "cell_type": "markdown",
		   "metadata": {},
		   "source": [
			"## Example 7.9: Change_in_entropy.sce"
		   ]
		  },
  {
"cell_type": "code",
	   "execution_count": null,
	   "metadata": {
	    "collapsed": true
	   },
	   "outputs": [],
"source": [
"// Exa 7.9\n",
"clc;\n",
"clear;\n",
"close;\n",
"// Given data\n",
"m = 5;// in kg\n",
"s= 4.18;\n",
"T1 = 0;// in °C\n",
"T2 = 20;// in °C\n",
"dt = T2 - T1;// in °C\n",
"Q = m * s * dt;// in kJ\n",
"L = 335;// in kJ/kg\n",
"// Q = m_i * l\n",
"m_i = Q/L;// in kg\n",
"T1 = T1 + 273;// in K\n",
"T2 = T2 + 273;// in K\n",
"del_S = ((m_i * L)/T1) - (m * s * (log(T1/T2)));// in kJ per K\n",
"disp(del_S,'Change in entrophy of the adiabatic in kJ/K is');"
   ]
   }
],
"metadata": {
		  "kernelspec": {
		   "display_name": "Scilab",
		   "language": "scilab",
		   "name": "scilab"
		  },
		  "language_info": {
		   "file_extension": ".sce",
		   "help_links": [
			{
			 "text": "MetaKernel Magics",
			 "url": "https://github.com/calysto/metakernel/blob/master/metakernel/magics/README.md"
			}
		   ],
		   "mimetype": "text/x-octave",
		   "name": "scilab",
		   "version": "0.7.1"
		  }
		 },
		 "nbformat": 4,
		 "nbformat_minor": 0
}
