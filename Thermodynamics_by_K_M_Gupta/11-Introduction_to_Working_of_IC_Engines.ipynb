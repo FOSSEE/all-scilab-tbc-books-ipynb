{
"cells": [
 {
		   "cell_type": "markdown",
	   "metadata": {},
	   "source": [
       "# Chapter 11: Introduction to Working of IC Engines"
	   ]
	},
{
		   "cell_type": "markdown",
		   "metadata": {},
		   "source": [
			"## Example 11.1: Capacity_of_the_engine.sce"
		   ]
		  },
  {
"cell_type": "code",
	   "execution_count": null,
	   "metadata": {
	    "collapsed": true
	   },
	   "outputs": [],
"source": [
"// Exa 11.1\n",
"clc;\n",
"clear;\n",
"close;\n",
"// Given data\n",
"n = 3;\n",
"l = 80;// in mm\n",
"d = 76;// in mm\n",
"r = 8.5;\n",
"V_s = (%pi/4) * d * d * l;// in mm^3\n",
"V_s = V_s * 10^-3;// in cm^3\n",
"// r = 1+ (V_s/V_c)\n",
"V_c = (1/(r - 1)) * V_s;// in cm^3\n",
"disp(V_c*10^3,'Clearance volume of cylinder in mm^3 is : ');\n",
"C = V_s * n;// C stands for capacity of engine in cm^3\n",
"C = C * 10^-3;// in litre\n",
"disp(C,'Capacity of the engine in litre is :');"
   ]
   }
],
"metadata": {
		  "kernelspec": {
		   "display_name": "Scilab",
		   "language": "scilab",
		   "name": "scilab"
		  },
		  "language_info": {
		   "file_extension": ".sce",
		   "help_links": [
			{
			 "text": "MetaKernel Magics",
			 "url": "https://github.com/calysto/metakernel/blob/master/metakernel/magics/README.md"
			}
		   ],
		   "mimetype": "text/x-octave",
		   "name": "scilab",
		   "version": "0.7.1"
		  }
		 },
		 "nbformat": 4,
		 "nbformat_minor": 0
}
