{
"cells": [
 {
		   "cell_type": "markdown",
	   "metadata": {},
	   "source": [
       "# Chapter 2: Applying Hydraulic Principles To Single Acting Linear Systems"
	   ]
	},
{
		   "cell_type": "markdown",
		   "metadata": {},
		   "source": [
			"## Example 2.1: Horsepower_expended.sce"
		   ]
		  },
  {
"cell_type": "code",
	   "execution_count": null,
	   "metadata": {
	    "collapsed": true
	   },
	   "outputs": [],
"source": [
"clc\n",
"//initialisation of variables\n",
"F= 1500 //lb\n",
"L= 54 //IN\n",
"t= 12 //sec\n",
"//CALCULATIONS\n",
"hp= F*L/(t*6600)\n",
"//RESULTS\n",
"printf ('Horsepower expended at the output = %.2f hp',hp)"
   ]
   }
,
{
		   "cell_type": "markdown",
		   "metadata": {},
		   "source": [
			"## Example 2.2: time_required.sce"
		   ]
		  },
  {
"cell_type": "code",
	   "execution_count": null,
	   "metadata": {
	    "collapsed": true
	   },
	   "outputs": [],
"source": [
"clc\n",
"//initialisation of variables\n",
"F= 1500 //lb\n",
"t1= 10 //sec\n",
"F1= 1200 //lb\n",
"//CALCULATIONS\n",
"t2= F*t1/F1\n",
"//RESULTS\n",
"printf ('time required to raise the load = %.1f sec',t2)"
   ]
   }
,
{
		   "cell_type": "markdown",
		   "metadata": {},
		   "source": [
			"## Example 2.3: Pressure_within_the_system.sce"
		   ]
		  },
  {
"cell_type": "code",
	   "execution_count": null,
	   "metadata": {
	    "collapsed": true
	   },
	   "outputs": [],
"source": [
"clc\n",
"//initialisation of variables\n",
"d= 2 //in\n",
"F= 1000 //lb\n",
"t= 10 //sec\n",
"L= 48 //in\n",
"S= 24 //in\n",
"//CALCULATIONS\n",
"ohp= F*L/(t*6600)\n",
"Ac= %pi*d^2/4\n",
"P= ohp*t*6600/(S*Ac)\n",
"//RESULTS\n",
"printf ('Pressure within the system = %.f psi',P)"
   ]
   }
,
{
		   "cell_type": "markdown",
		   "metadata": {},
		   "source": [
			"## Example 2.4: Fluid_horsepower.sce"
		   ]
		  },
  {
"cell_type": "code",
	   "execution_count": null,
	   "metadata": {
	    "collapsed": true
	   },
	   "outputs": [],
"source": [
"clc\n",
"//initialisation of variables\n",
"P= 1000 //psi\n",
"Q= 3 //gpm\n",
"//CALCULATIONS\n",
"Fhp= P*Q/(1714)\n",
"//RESULTS\n",
"printf ('Fluid horsepower = %.2f hp',Fhp)"
   ]
   }
,
{
		   "cell_type": "markdown",
		   "metadata": {},
		   "source": [
			"## Example 2.5: overall_efficiency.sce"
		   ]
		  },
  {
"cell_type": "code",
	   "execution_count": null,
	   "metadata": {
	    "collapsed": true
	   },
	   "outputs": [],
"source": [
"clc\n",
"//initialisation of variables\n",
"Fi= 25 //lb\n",
"li= 12 //in\n",
"ni= 30\n",
"ti= 60 //sec\n",
"F0= 1000 //lb\n",
"Lo= 6 //in\n",
"to= 60 //sec\n",
"//CALCULATIONS\n",
"lhp= Fi*li*ni/(ti*6600)\n",
"Ohp= F0*Lo/(to*6600)\n",
"eo= Ohp*100/lhp\n",
"//RESULTS\n",
"printf ('overall efficiency = %.f percent',eo)"
   ]
   }
,
{
		   "cell_type": "markdown",
		   "metadata": {},
		   "source": [
			"## Example 2.6: Slip.sce"
		   ]
		  },
  {
"cell_type": "code",
	   "execution_count": null,
	   "metadata": {
	    "collapsed": true
	   },
	   "outputs": [],
"source": [
"clc\n",
"//initialisation of variables\n",
"vp= 0.75 //in^3\n",
"n= 9 //strokes\n",
"t= 10 //sec\n",
"d= 2 //in\n",
"Sc= 2 //in\n",
"//CALCULATIONS\n",
"Qt= vp*n/(t*3.85)\n",
"Ac= %pi*d^2/4\n",
"Qa= Ac*Sc/(t*3.85)\n",
"s= Qt-Qa\n",
"s1= (1-(Qa/Qt))*100\n",
"ev= Qa*100/Qt\n",
"//RESULTS\n",
"printf ('Slip = %.3f gpm',s)\n",
"printf (' \n Slip perecentage= %.f percent',s1)\n",
"printf (' \n volumetric efficiency = %.f perecnt',ev)"
   ]
   }
,
{
		   "cell_type": "markdown",
		   "metadata": {},
		   "source": [
			"## Example 2.7: Electro_mechanical_efficiency.sce"
		   ]
		  },
  {
"cell_type": "code",
	   "execution_count": null,
	   "metadata": {
	    "collapsed": true
	   },
	   "outputs": [],
"source": [
"clc\n",
"//initialisation of variables\n",
"eo= 87\n",
"em= 94\n",
"//CALCULATIONS\n",
"ee= eo*100/em\n",
"//RESULTS\n",
"printf ('Electro-mechanical efficiency = %.f percent',ee)"
   ]
   }
],
"metadata": {
		  "kernelspec": {
		   "display_name": "Scilab",
		   "language": "scilab",
		   "name": "scilab"
		  },
		  "language_info": {
		   "file_extension": ".sce",
		   "help_links": [
			{
			 "text": "MetaKernel Magics",
			 "url": "https://github.com/calysto/metakernel/blob/master/metakernel/magics/README.md"
			}
		   ],
		   "mimetype": "text/x-octave",
		   "name": "scilab",
		   "version": "0.7.1"
		  }
		 },
		 "nbformat": 4,
		 "nbformat_minor": 0
}
