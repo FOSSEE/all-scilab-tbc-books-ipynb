{
"cells": [
 {
		   "cell_type": "markdown",
	   "metadata": {},
	   "source": [
       "# Chapter 6: Characteristics of rotary pumps"
	   ]
	},
{
		   "cell_type": "markdown",
		   "metadata": {},
		   "source": [
			"## Example 6.1: input_torque.sce"
		   ]
		  },
  {
"cell_type": "code",
	   "execution_count": null,
	   "metadata": {
	    "collapsed": true
	   },
	   "outputs": [],
"source": [
"clc\n",
"//initialisation of variables\n",
"P= 2500 //psi\n",
"Q= 3 //gpm\n",
"p= 5 //Bhp\n",
"N= 1725 //rpm\n",
"//CALCULATIONS\n",
"eo= P*Q*100/(1714*p)\n",
"To= p*5250/N\n",
"//RESULTS\n",
"printf ('input torque = %.2f lb-ft',To)"
   ]
   }
,
{
		   "cell_type": "markdown",
		   "metadata": {},
		   "source": [
			"## Example 6.2: volumetric_efficiency.sce"
		   ]
		  },
  {
"cell_type": "code",
	   "execution_count": null,
	   "metadata": {
	    "collapsed": true
	   },
	   "outputs": [],
"source": [
"clc\n",
"//initialisation of variables\n",
"Q= 52 //gpm\n",
"v= 3.75 //in^3\n",
"N= 3300 //rpm\n",
"//CALCULATIONS\n",
"ev= 231*Q*100/(v*N)\n",
"//RESULTS\n",
"printf ('volumetric efficiency = %.2f percent',ev)"
   ]
   }
,
{
		   "cell_type": "markdown",
		   "metadata": {},
		   "source": [
			"## Example 6.3: mechanical_efficiency.sce"
		   ]
		  },
  {
"cell_type": "code",
	   "execution_count": null,
	   "metadata": {
	    "collapsed": true
	   },
	   "outputs": [],
"source": [
"clc\n",
"//initialisation of variables\n",
"eo= 87 //percent\n",
"ev= 94 //percent\n",
"p= 10 //bhpi\n",
"//CALCULATIONS\n",
"em= eo/ev\n",
"em1= em*100\n",
"Fhp= p*(1-em)\n",
"//RESULTS\n",
"printf ('frictional horsepower = %.1f hp',Fhp+0.1)\n",
"printf (' \n mechanical efficiency = %.2f percent',em1)"
   ]
   }
,
{
		   "cell_type": "markdown",
		   "metadata": {},
		   "source": [
			"## Example 6.4: volume_flow_rate.sce"
		   ]
		  },
  {
"cell_type": "code",
	   "execution_count": null,
	   "metadata": {
	    "collapsed": true
	   },
	   "outputs": [],
"source": [
"clc\n",
"//initialisation of variables\n",
"n= 9 \n",
"N= 3000 //rpm\n",
"s= 0.75 //inch\n",
"d= 0.5 //inch\n",
"//CALCULATIONS\n",
"Q= n*N*s*%pi*d^2/(4*231)\n",
"//RESULTS\n",
"printf ('volume flow rate = %.1f gpm',Q)"
   ]
   }
,
{
		   "cell_type": "markdown",
		   "metadata": {},
		   "source": [
			"## Example 6.5: minimum_size_of_the_reservoir.sce"
		   ]
		  },
  {
"cell_type": "code",
	   "execution_count": null,
	   "metadata": {
	    "collapsed": true
	   },
	   "outputs": [],
"source": [
"clc\n",
"//initialisation of variables\n",
"d= 6 //in\n",
"N= 120 //in\n",
"Q= 5 //gpm\n",
"//CALCULATIONS\n",
"Vc= %pi*d^2*N/(4*231)\n",
"//RESULTS\n",
"printf ('minimum size of the reservoir = %.2f gpm',Vc)"
   ]
   }
],
"metadata": {
		  "kernelspec": {
		   "display_name": "Scilab",
		   "language": "scilab",
		   "name": "scilab"
		  },
		  "language_info": {
		   "file_extension": ".sce",
		   "help_links": [
			{
			 "text": "MetaKernel Magics",
			 "url": "https://github.com/calysto/metakernel/blob/master/metakernel/magics/README.md"
			}
		   ],
		   "mimetype": "text/x-octave",
		   "name": "scilab",
		   "version": "0.7.1"
		  }
		 },
		 "nbformat": 4,
		 "nbformat_minor": 0
}
