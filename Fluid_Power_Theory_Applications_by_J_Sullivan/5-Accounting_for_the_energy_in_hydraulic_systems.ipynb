{
"cells": [
 {
		   "cell_type": "markdown",
	   "metadata": {},
	   "source": [
       "# Chapter 5: Accounting for the energy in hydraulic systems"
	   ]
	},
{
		   "cell_type": "markdown",
		   "metadata": {},
		   "source": [
			"## Example 5.10: Pressure_drop.sce"
		   ]
		  },
  {
"cell_type": "code",
	   "execution_count": null,
	   "metadata": {
	    "collapsed": true
	   },
	   "outputs": [],
"source": [
"clc\n",
"//initialisation of variables\n",
"Q= 200 //gpm\n",
"d= 2 //in\n",
"S= 0.91\n",
"f= 0.05\n",
"L= 800 //ft\n",
"g= 32.2 //ft/sec^2\n",
"//CALCULATIONS\n",
"v= Q*4/(%pi*3.12*d^2)\n",
"h= 2.598*S*f*L*v^2/(2*g)\n",
"//RESULTS\n",
"printf ('Pressure drop = %.f psi',h)"
   ]
   }
,
{
		   "cell_type": "markdown",
		   "metadata": {},
		   "source": [
			"## Example 5.11: Pressure_drop.sce"
		   ]
		  },
  {
"cell_type": "code",
	   "execution_count": null,
	   "metadata": {
	    "collapsed": true
	   },
	   "outputs": [],
"source": [
"clc\n",
"//initialisation of variables\n",
"Q= 15 //gpm\n",
"d= 1 //in\n",
"s= 0.85\n",
"v= 0.08 //N\n",
"L= 400 //ft\n",
"//CALCULATIONS\n",
"V= Q*4/(%pi*d^2*3.12)\n",
"Nr= 12*V*2*d/v\n",
"h= .43*s*v*L*V/d^2\n",
"//RESULTS\n",
"printf ('Pressure drop = %.2f psi',h)"
   ]
   }
,
{
		   "cell_type": "markdown",
		   "metadata": {},
		   "source": [
			"## Example 5.12: Pressure_drop.sce"
		   ]
		  },
  {
"cell_type": "code",
	   "execution_count": null,
	   "metadata": {
	    "collapsed": true
	   },
	   "outputs": [],
"source": [
"clc\n",
"//initialisation of variables\n",
"Q= 1000 //gpm\n",
"d= 2 //in\n",
"V= 0.30 //N\n",
"L= 500 //ft\n",
"f= 0.034\n",
"S= 0.85\n",
"g= 32.2 //ft/sec^2\n",
"//CALCULATIONS\n",
"v= Q*4/(%pi*3.12*d^2)\n",
"Nr= (12*v*d)/V\n",
"h= 2.598*S*f*L*v^2/(2*g)\n",
"//RESULTS\n",
"printf ('Pressure drop = %.f psi',h+5)"
   ]
   }
,
{
		   "cell_type": "markdown",
		   "metadata": {},
		   "source": [
			"## Example 5.13: equivalent_length.sce"
		   ]
		  },
  {
"cell_type": "code",
	   "execution_count": null,
	   "metadata": {
	    "collapsed": true
	   },
	   "outputs": [],
"source": [
"clc\n",
"//initialisation of variables\n",
"Q= 500 //gpm\n",
"d= 2 //in\n",
"S= 0.91\n",
"kv= 0.25 //N\n",
"r= 0.0012\n",
"K= 3\n",
"f= 0.04\n",
"//CALCULATIONS\n",
"v= Q*4/(%pi*d^2*3.12)\n",
"Nr= (v*d*12)/kv\n",
"Rr= 12*r/d\n",
"Le= K*d/(f*12)\n",
"//RESULTS\n",
"printf ('equivalent length = %.1f ft',Le)"
   ]
   }
,
{
		   "cell_type": "markdown",
		   "metadata": {},
		   "source": [
			"## Example 5.1: velocity_of_fluid_in_the_conductor.sce"
		   ]
		  },
  {
"cell_type": "code",
	   "execution_count": null,
	   "metadata": {
	    "collapsed": true
	   },
	   "outputs": [],
"source": [
"clc\n",
"//initialisation of variables\n",
"Q= 40 //gpm\n",
"d= 2 //in\n",
"d1= 4 //in\n",
"//CALCULATIONS\n",
"v1= Q*4/(%pi*d^2*3.12)\n",
"v2= %pi*v1*4/(%pi*d1^2)\n",
"//RESULTS\n",
"printf ('velocity of fluid in the conductor = %.2f fps',v1)\n",
"printf (' \n  velocity of fluid in a maniflod = %.2f fps',v2)"
   ]
   }
,
{
		   "cell_type": "markdown",
		   "metadata": {},
		   "source": [
			"## Example 5.2: minnimum_diameter.sce"
		   ]
		  },
  {
"cell_type": "code",
	   "execution_count": null,
	   "metadata": {
	    "collapsed": true
	   },
	   "outputs": [],
"source": [
"clc\n",
"//initialisation of variables\n",
"Q= 18 //gpm\n",
"d= 2 //in\n",
"v2= 10 //fps\n",
"//CALCULATIONS\n",
"v1= Q*4/(%pi*d^2*3.12)\n",
"d2= sqrt(4*Q/(%pi*v2*3.12))\n",
"//RESULTS\n",
"printf ('minnimum diameter = %.3f in',d2)"
   ]
   }
,
{
		   "cell_type": "markdown",
		   "metadata": {},
		   "source": [
			"## Example 5.3: veloctity.sce"
		   ]
		  },
  {
"cell_type": "code",
	   "execution_count": null,
	   "metadata": {
	    "collapsed": true
	   },
	   "outputs": [],
"source": [
"clc\n",
"//initialisation of variables\n",
"Q= 10 //gpm\n",
"d= 1 //in\n",
"//CALCULATIONS\n",
"v= Q*4/(%pi*d^2*3.12)\n",
"//RESULTS\n",
"printf ('veloctity = %.1f fps',v)"
   ]
   }
,
{
		   "cell_type": "markdown",
		   "metadata": {},
		   "source": [
			"## Example 5.4: pressure.sce"
		   ]
		  },
  {
"cell_type": "code",
	   "execution_count": null,
	   "metadata": {
	    "collapsed": true
	   },
	   "outputs": [],
"source": [
"clc\n",
"//initialisation of variables\n",
"S= 0.91\n",
"g= 32.2 //ft/sec^2\n",
"P1= 1000 //psi\n",
"Q= 500 //gpm\n",
"d= 3 //in\n",
"d1= 1 //in\n",
"//CALCULATIONS\n",
"v1= Q*4/(3.12*%pi*d^2)\n",
"v2= Q*4/(%pi*d1^2*3.12)\n",
"P2= ((P1*2.31/S)+(v1^2/(2*g))-(v2^2/(2*g)))*(S/2.31)\n",
"//RESULTS\n",
"printf ('pressure = %.f psi',P2-1)"
   ]
   }
,
{
		   "cell_type": "markdown",
		   "metadata": {},
		   "source": [
			"## Example 5.5: energy_exptracted_from_the_fluid.sce"
		   ]
		  },
  {
"cell_type": "code",
	   "execution_count": null,
	   "metadata": {
	    "collapsed": true
	   },
	   "outputs": [],
"source": [
"clc\n",
"//initialisation of variables\n",
"P1= 1000 //psi\n",
"S= 0.85\n",
"P2= 350 //psi\n",
"Hl= 679.41 //ft\n",
"//CALCULATIONS\n",
"Ha= P1*2.31/S\n",
"He= Ha-(P2*2.31/S)-Hl\n",
"//RESULTS\n",
"//RESULTS\n",
"printf ('energy exptracted from the fluid = %.2f ft',He)"
   ]
   }
,
{
		   "cell_type": "markdown",
		   "metadata": {},
		   "source": [
			"## Example 5.6: velocty_of_the_fluid.sce"
		   ]
		  },
  {
"cell_type": "code",
	   "execution_count": null,
	   "metadata": {
	    "collapsed": true
	   },
	   "outputs": [],
"source": [
"clc\n",
"//initialisation of variables\n",
"g= 32 //ft/sec^2\n",
"h= 40 //ft\n",
"//CALCULATIONS\n",
"v= sqrt(2*g*h)\n",
"//RESULTS\n",
"printf ('velocty of the fluid = %.1f fps',v)"
   ]
   }
,
{
		   "cell_type": "markdown",
		   "metadata": {},
		   "source": [
			"## Example 5.7: friction_coefficient_for_the_orifice.sce"
		   ]
		  },
  {
"cell_type": "code",
	   "execution_count": null,
	   "metadata": {
	    "collapsed": true
	   },
	   "outputs": [],
"source": [
"clc\n",
"//initialisation of variables\n",
"Q= 1000 //gpm\n",
"d= 2 //in\n",
"S= 0.85\n",
"dp= 120 //psi\n",
"//CALCULATIONS\n",
"Cf= (1/38.06)*(Q*4/(%pi*d^2))*sqrt(S/dp)\n",
"//RESULTS\n",
"printf ('friction coefficient for the orifice = %.2f ',Cf)"
   ]
   }
,
{
		   "cell_type": "markdown",
		   "metadata": {},
		   "source": [
			"## Example 5.8: Reynolds_number.sce"
		   ]
		  },
  {
"cell_type": "code",
	   "execution_count": null,
	   "metadata": {
	    "collapsed": true
	   },
	   "outputs": [],
"source": [
"clc\n",
"//initialisation of variables\n",
"Q= 100 //gpm\n",
"d= 1 //in\n",
"kv= 0.05 //N\n",
"//CALCULATIONS\n",
"v= Q*4/(3.12*%pi*d^2)\n",
"Nr= (12*v*d)/kv\n",
"//RESULTS\n",
"printf ('Reynolds number = %.f ',Nr+5)"
   ]
   }
,
{
		   "cell_type": "markdown",
		   "metadata": {},
		   "source": [
			"## Example 5.9: Critical_velocity.sce"
		   ]
		  },
  {
"cell_type": "code",
	   "execution_count": null,
	   "metadata": {
	    "collapsed": true
	   },
	   "outputs": [],
"source": [
"clc\n",
"//initialisation of variables\n",
"v= 27 //cp\n",
"s= 0.85\n",
"d= 1 //in\n",
"//CALCULATIONS\n",
"V= v/s\n",
"V1= V*0.001552\n",
"V2= 2000*V1/(12*d)\n",
"V3= 4000*V1/(12*d)\n",
"//RESULTS\n",
"printf ('Critical velocity = %.2f fps',V3)"
   ]
   }
],
"metadata": {
		  "kernelspec": {
		   "display_name": "Scilab",
		   "language": "scilab",
		   "name": "scilab"
		  },
		  "language_info": {
		   "file_extension": ".sce",
		   "help_links": [
			{
			 "text": "MetaKernel Magics",
			 "url": "https://github.com/calysto/metakernel/blob/master/metakernel/magics/README.md"
			}
		   ],
		   "mimetype": "text/x-octave",
		   "name": "scilab",
		   "version": "0.7.1"
		  }
		 },
		 "nbformat": 4,
		 "nbformat_minor": 0
}
