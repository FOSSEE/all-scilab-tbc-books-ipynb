{
"cells": [
 {
		   "cell_type": "markdown",
	   "metadata": {},
	   "source": [
       "# Chapter 8: Characteristics of Actuators"
	   ]
	},
{
		   "cell_type": "markdown",
		   "metadata": {},
		   "source": [
			"## Example 8.10: overall_efficiency.sce"
		   ]
		  },
  {
"cell_type": "code",
	   "execution_count": null,
	   "metadata": {
	    "collapsed": true
	   },
	   "outputs": [],
"source": [
"clc\n",
"//initialisation of variables\n",
"T= 32 //lb-ft\n",
"N= 1200 //rpm\n",
"P= 2000 //psi\n",
"Q= 7.5 //gpm\n",
"//CALCULATIONS\n",
"eo= T*N*100/(P*Q*3.06)\n",
"//RESULTS\n",
"printf ('overall efficiency = %.f percent',eo)"
   ]
   }
,
{
		   "cell_type": "markdown",
		   "metadata": {},
		   "source": [
			"## Example 8.11: Case_drain_loss.sce"
		   ]
		  },
  {
"cell_type": "code",
	   "execution_count": null,
	   "metadata": {
	    "collapsed": true
	   },
	   "outputs": [],
"source": [
"clc\n",
"//initialisation of variables\n",
"Vm= 0.6 //in^3\n",
"N= 2400 //rpm\n",
"Qa= 6.5 //gpm\n",
"p= 50\n",
"//CALCULATIONS\n",
"ev= Vm*N*100/(Qa*231)\n",
"Tf= (100-ev)*Qa/100\n",
"Cl= p*Tf/100\n",
"//RESULTS\n",
"printf ('Case drain loss = %.3f gpm',Cl)"
   ]
   }
,
{
		   "cell_type": "markdown",
		   "metadata": {},
		   "source": [
			"## Example 8.12: mechanical_efficency.sce"
		   ]
		  },
  {
"cell_type": "code",
	   "execution_count": null,
	   "metadata": {
	    "collapsed": true
	   },
	   "outputs": [],
"source": [
"clc\n",
"//initialisation of variables\n",
"eo= 88 //perecent\n",
"ev= 97 //percent\n",
"//CALCULATIONS\n",
"em= eo*100/ev\n",
"//RESULTS\n",
"printf ('mechanical efficency = %.2f percent',em)"
   ]
   }
,
{
		   "cell_type": "markdown",
		   "metadata": {},
		   "source": [
			"## Example 8.1: size_of_the_cylinder_postion.sce"
		   ]
		  },
  {
"cell_type": "code",
	   "execution_count": null,
	   "metadata": {
	    "collapsed": true
	   },
	   "outputs": [],
"source": [
"clc\n",
"//initialisation of variables\n",
"F= 80000 //lbs\n",
"P= 1600 //psi\n",
"//CALCULATIONS\n",
"db= sqrt(4*F/(%pi*P))\n",
"//RESULTS\n",
"printf ('size of the cylinder postion = %.f in',db)"
   ]
   }
,
{
		   "cell_type": "markdown",
		   "metadata": {},
		   "source": [
			"## Example 8.2: Cylinder_velocity.sce"
		   ]
		  },
  {
"cell_type": "code",
	   "execution_count": null,
	   "metadata": {
	    "collapsed": true
	   },
	   "outputs": [],
"source": [
"clc\n",
"//Initialization ogf variables\n",
"Q=25 //gpm\n",
"A=.533 //in^2\n",
"//Calculations \n",
"nu=Q*19.25/(A*60) //Fluid velocity\n",
"nucylinder=Q*19.25/12.56 //Cylinder velocity\n",
"//Results\n",
"printf ('Fluid velocity = %.2f',nu)\n",
"printf ('\n Cylinder velocity = %.2f',nucylinder)"
   ]
   }
,
{
		   "cell_type": "markdown",
		   "metadata": {},
		   "source": [
			"## Example 8.3: length_of_the_stop_tube.sce"
		   ]
		  },
  {
"cell_type": "code",
	   "execution_count": null,
	   "metadata": {
	    "collapsed": true
	   },
	   "outputs": [],
"source": [
"clc\n",
"//initialisation of variables\n",
"d= 3 //in\n",
"P= 2000 //psi\n",
"s= 20 //strokes\n",
"//CALCULATIONS\n",
"Cl= s*d/2\n",
"F= P*%pi*d^2/4\n",
"stl= (Cl-40)/10\n",
"//RESULTS\n",
"printf ('length of the stop tube= %.f in',Cl)\n",
"printf (' \n thrust on the rod= %.f lb',F+3)\n",
"printf (' \n Stop Tube length= %.f stl',stl)"
   ]
   }
,
{
		   "cell_type": "markdown",
		   "metadata": {},
		   "source": [
			"## Example 8.4: total_force_decessary_to_decelarate_the_load.sce"
		   ]
		  },
  {
"cell_type": "code",
	   "execution_count": null,
	   "metadata": {
	    "collapsed": true
	   },
	   "outputs": [],
"source": [
"clc\n",
"//initialisation of variables\n",
"v= 120 //ft/min\n",
"S= 1.5 //in\n",
"w= 8000 //lb\n",
"//CALCULATIONS\n",
"ga= v^2*0.0000517/S\n",
"F= w*ga\n",
"//RESULTS\n",
"printf ('total force decessary to decelarate the load= %.f lb',F-3)"
   ]
   }
,
{
		   "cell_type": "markdown",
		   "metadata": {},
		   "source": [
			"## Example 8.5: total_force_decessary_to_decelarate_the_load.sce"
		   ]
		  },
  {
"cell_type": "code",
	   "execution_count": null,
	   "metadata": {
	    "collapsed": true
	   },
	   "outputs": [],
"source": [
"clc\n",
"//initialisation of variables\n",
"P= 750 //psi\n",
"d= 3 //in\n",
"w= 1500 //lb\n",
"ga= 0.172\n",
"f= 0.12\n",
"v= 50 //ft/min\n",
"s= 0.75 //in\n",
"//CALCULATIONS\n",
"Fa= P*%pi*d^2/4\n",
"F= w*(ga-f)+Fa\n",
"//RESULTS\n",
"printf ('total force decessary to decelarate the load= %.f lb',F-2)"
   ]
   }
,
{
		   "cell_type": "markdown",
		   "metadata": {},
		   "source": [
			"## Example 8.6: pressure_in_the_cylinder.sce"
		   ]
		  },
  {
"cell_type": "code",
	   "execution_count": null,
	   "metadata": {
	    "collapsed": true
	   },
	   "outputs": [],
"source": [
"clc\n",
"//initialisation of variables\n",
"d= 3 //in\n",
"d1= 1.5 //in\n",
"F= 7500 //lb\n",
"//CALCULATIONS\n",
"A1= (%pi/4)*(d^2-d1^2)\n",
"P= F/A1\n",
"//RESULTS\n",
"printf ('pressure in the cylinder = %.f psi',P-1)"
   ]
   }
,
{
		   "cell_type": "markdown",
		   "metadata": {},
		   "source": [
			"## Example 8.7: Theotrical_torque.sce"
		   ]
		  },
  {
"cell_type": "code",
	   "execution_count": null,
	   "metadata": {
	    "collapsed": true
	   },
	   "outputs": [],
"source": [
"clc\n",
"//initialisation of variables\n",
"P= 2000 //psi\n",
"Vm= 0.5 //in^3\n",
"//CALCULATONS\n",
"T= P*Vm*0.16\n",
"//RESULTS\n",
"printf ('Theotrical torque = %.f lb-in',T)"
   ]
   }
,
{
		   "cell_type": "markdown",
		   "metadata": {},
		   "source": [
			"## Example 8.8: Theotrical_speed_of_fluid_power.sce"
		   ]
		  },
  {
"cell_type": "code",
	   "execution_count": null,
	   "metadata": {
	    "collapsed": true
	   },
	   "outputs": [],
"source": [
"clc\n",
"//initialisation of variables\n",
"Q= 7.5 //gpm\n",
"Vm= 2 //in^3\n",
"//CALCULATIONS\n",
"N= 231*Q/Vm\n",
"//RESULTS\n",
"printf ('Theotrical speed of fluid power = %.f rpm',N)"
   ]
   }
,
{
		   "cell_type": "markdown",
		   "metadata": {},
		   "source": [
			"## Example 8.9: effective_flow_rate.sce"
		   ]
		  },
  {
"cell_type": "code",
	   "execution_count": null,
	   "metadata": {
	    "collapsed": true
	   },
	   "outputs": [],
"source": [
"clc\n",
"//initialisation of variables\n",
"Vm= 0.55 //in^3\n",
"N= 3400 //rpm\n",
"//CALCULATIONS\n",
"Q= Vm*N/231\n",
"//RESULTS\n",
"printf ('effective flow rate = %.2f gpm',Q)"
   ]
   }
],
"metadata": {
		  "kernelspec": {
		   "display_name": "Scilab",
		   "language": "scilab",
		   "name": "scilab"
		  },
		  "language_info": {
		   "file_extension": ".sce",
		   "help_links": [
			{
			 "text": "MetaKernel Magics",
			 "url": "https://github.com/calysto/metakernel/blob/master/metakernel/magics/README.md"
			}
		   ],
		   "mimetype": "text/x-octave",
		   "name": "scilab",
		   "version": "0.7.1"
		  }
		 },
		 "nbformat": 4,
		 "nbformat_minor": 0
}
