{
"cells": [
 {
		   "cell_type": "markdown",
	   "metadata": {},
	   "source": [
       "# Chapter 11: Introduction to Pneumatics"
	   ]
	},
{
		   "cell_type": "markdown",
		   "metadata": {},
		   "source": [
			"## Example 11.1: Guage_pressure.sce"
		   ]
		  },
  {
"cell_type": "code",
	   "execution_count": null,
	   "metadata": {
	    "collapsed": true
	   },
	   "outputs": [],
"source": [
"clc\n",
"//initialisation of variables\n",
"V1= 20 //gal\n",
"P1= 20 //psi\n",
"n= 2\n",
"//CALCULATIONS\n",
"V2= V1/n\n",
"P2= (P1+14.7)*V1*231/(V2*231)\n",
"P3= P2-14.7\n",
"//RESULTS\n",
"printf ('Guage pressure = %.1f psi',P3)"
   ]
   }
,
{
		   "cell_type": "markdown",
		   "metadata": {},
		   "source": [
			"## Example 11.2: volume_the_heated_gas_will_occupy.sce"
		   ]
		  },
  {
"cell_type": "code",
	   "execution_count": null,
	   "metadata": {
	    "collapsed": true
	   },
	   "outputs": [],
"source": [
"clc\n",
"//initialisation of variables\n",
"V1= 1500 //in^3\n",
"T= 80 //F\n",
"T1= 200 //F\n",
"//CALCULATIONS\n",
"V2= V1*(460+T1)/(T+460)\n",
"//RESULTS\n",
"printf ('volume the heated gas will occupy = %.1f in^3',V2)"
   ]
   }
,
{
		   "cell_type": "markdown",
		   "metadata": {},
		   "source": [
			"## Example 11.3: guage_pressure.sce"
		   ]
		  },
  {
"cell_type": "code",
	   "execution_count": null,
	   "metadata": {
	    "collapsed": true
	   },
	   "outputs": [],
"source": [
"clc\n",
"//initialisation of variables\n",
"P1= 2000 //in^3\n",
"T= 80 //F\n",
"T1= 250 //F\n",
"//CALCULATIONS\n",
"P2= (P1+14.7)*(460+T1)/(T+460)\n",
"P3= P2-14.7\n",
"//RESULTS\n",
"printf ('guage pressure = %.f psi',P3)"
   ]
   }
,
{
		   "cell_type": "markdown",
		   "metadata": {},
		   "source": [
			"## Example 11.4: guage_pressure.sce"
		   ]
		  },
  {
"cell_type": "code",
	   "execution_count": null,
	   "metadata": {
	    "collapsed": true
	   },
	   "outputs": [],
"source": [
"clc\n",
"//initialisation of variables\n",
"P1= 2000//psi\n",
"V1= 1500 //in^3\n",
"T2= 250 //F\n",
"T1= 75 //F\n",
"V2= 1000 //in^3\n",
"//CALCULATIONS\n",
"P2= (P1+14.7)*V1*(T2+460)/((T1+460)*V2)\n",
"P3= P2-14.7\n",
"//RESULTS\n",
"printf ('guage pressure = %.f psi',P3)"
   ]
   }
,
{
		   "cell_type": "markdown",
		   "metadata": {},
		   "source": [
			"## Example 11.5: air_consumption_in_cfm_of_free_air.sce"
		   ]
		  },
  {
"cell_type": "code",
	   "execution_count": null,
	   "metadata": {
	    "collapsed": true
	   },
	   "outputs": [],
"source": [
"clc\n",
"//initialisation of variables\n",
"s= 10 //stroke\n",
"d= 2 //in\n",
"r= 40 //cpm\n",
"P1= 80 //psi\n",
"//CALCULATIONS\n",
"V1= %pi*d^2*s*r/(4*1728)\n",
"V2= (P1+14.7)*V1/14.7\n",
"//RESULTS\n",
"printf ('air consumption in cfm of free air = %.2f cfm free air',V2)"
   ]
   }
,
{
		   "cell_type": "markdown",
		   "metadata": {},
		   "source": [
			"## Example 11.6: Pressure_drop.sce"
		   ]
		  },
  {
"cell_type": "code",
	   "execution_count": null,
	   "metadata": {
	    "collapsed": true
	   },
	   "outputs": [],
"source": [
"clc\n",
"//initialisation of variables\n",
"V= 650 //cfm\n",
"Cr= 250 //psi\n",
"d= 2 //in\n",
"L= 500 //ft\n",
"//CALCULATIONS\n",
"CR= (Cr+14.7)/14.7\n",
"pf= 0.1025*L*(V/60)^2/(CR*d^(5.31))\n",
"//RESULTS\n",
"printf ('Pressure drop = %.f psi',pf-1)"
   ]
   }
,
{
		   "cell_type": "markdown",
		   "metadata": {},
		   "source": [
			"## Example 11.7: Amount_of_air_passing_thorugh_orifice.sce"
		   ]
		  },
  {
"cell_type": "code",
	   "execution_count": null,
	   "metadata": {
	    "collapsed": true
	   },
	   "outputs": [],
"source": [
"clc\n",
"//initialisation of variables\n",
"d= 1 //in\n",
"P= 100 //psi\n",
"C= 1\n",
"T= 70 //F\n",
"s= 0.07494 //lb/ft^3\n",
"//CALCULATIONS\n",
"Qw= (0.5303*%pi*d^2*(P+14.7))/(4*sqrt(T+460))\n",
"Qv= Qw*60/s\n",
"//RESULTS\n",
"printf ('Amount of air passing thorugh orifice = %.1f cfm',Qv)"
   ]
   }
,
{
		   "cell_type": "markdown",
		   "metadata": {},
		   "source": [
			"## Example 11.8: Size_of_reservoir.sce"
		   ]
		  },
  {
"cell_type": "code",
	   "execution_count": null,
	   "metadata": {
	    "collapsed": true
	   },
	   "outputs": [],
"source": [
"clc\n",
"//initialisation of variables\n",
"t= 5 //min\n",
"Qr= 10 //cfm\n",
"P1= 125 //psi\n",
"P2= 100 //psi\n",
"//CALCULATIONS\n",
"Vr= Qr*t*14.7/(P1-P2)\n",
"//RESULTS\n",
"printf ('Size of reservoir = %.1f ft^3',Vr)"
   ]
   }
],
"metadata": {
		  "kernelspec": {
		   "display_name": "Scilab",
		   "language": "scilab",
		   "name": "scilab"
		  },
		  "language_info": {
		   "file_extension": ".sce",
		   "help_links": [
			{
			 "text": "MetaKernel Magics",
			 "url": "https://github.com/calysto/metakernel/blob/master/metakernel/magics/README.md"
			}
		   ],
		   "mimetype": "text/x-octave",
		   "name": "scilab",
		   "version": "0.7.1"
		  }
		 },
		 "nbformat": 4,
		 "nbformat_minor": 0
}
