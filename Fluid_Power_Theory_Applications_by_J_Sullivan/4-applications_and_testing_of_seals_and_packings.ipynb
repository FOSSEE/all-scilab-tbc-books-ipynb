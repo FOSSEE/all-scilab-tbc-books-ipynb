{
"cells": [
 {
		   "cell_type": "markdown",
	   "metadata": {},
	   "source": [
       "# Chapter 4: applications and testing of seals and packings"
	   ]
	},
{
		   "cell_type": "markdown",
		   "metadata": {},
		   "source": [
			"## Example 4.1: Groove_diameter.sce"
		   ]
		  },
  {
"cell_type": "code",
	   "execution_count": null,
	   "metadata": {
	    "collapsed": true
	   },
	   "outputs": [],
"source": [
"clc\n",
"//initialisation of variables\n",
"d= 4 //in\n",
"p= 20 //percent\n",
"d1= 0.140\n",
"//CALCULATIONS\n",
"Gd= d-2*((100-20)*d1/100)\n",
"Gw= d1+2*(p*d1/100)\n",
"//RESULTS\n",
"printf ('Groove diameter = %.3f in',Gd)\n",
"printf (' \n Groove width = %.3f in',Gw)\n",
"printf (' \n outside diameter = %.f in',d)"
   ]
   }
,
{
		   "cell_type": "markdown",
		   "metadata": {},
		   "source": [
			"## Example 4.2: thickness.sce"
		   ]
		  },
  {
"cell_type": "code",
	   "execution_count": null,
	   "metadata": {
	    "collapsed": true
	   },
	   "outputs": [],
"source": [
"clc\n",
"//initialisation of variables\n",
"D= 2 //in\n",
"S= 10 //in\n",
"s= 10000 //strokes\n",
"V= 231 //in^3\n",
"//CALCULATIONS\n",
"di= V/(S*s*D*%pi)\n",
"//RESULTS\n",
"printf ('thickness = %.7f in',di)"
   ]
   }
,
{
		   "cell_type": "markdown",
		   "metadata": {},
		   "source": [
			"## Example 4.3: final_available_squeeze.sce"
		   ]
		  },
  {
"cell_type": "code",
	   "execution_count": null,
	   "metadata": {
	    "collapsed": true
	   },
	   "outputs": [],
"source": [
"clc\n",
"//initialisation of variables\n",
"d= 0.275 //in\n",
"p= 15\n",
"p1= 20\n",
"p3= 8\n",
"//CALCULATIONS\n",
"Fs= (d*p/100)+(d*p1/100)-(d*p3/100)\n",
"Fs1= Fs*100/d\n",
"//RESULTS\n",
"printf ('final  available squeeze = %.2f percent',Fs1)"
   ]
   }
],
"metadata": {
		  "kernelspec": {
		   "display_name": "Scilab",
		   "language": "scilab",
		   "name": "scilab"
		  },
		  "language_info": {
		   "file_extension": ".sce",
		   "help_links": [
			{
			 "text": "MetaKernel Magics",
			 "url": "https://github.com/calysto/metakernel/blob/master/metakernel/magics/README.md"
			}
		   ],
		   "mimetype": "text/x-octave",
		   "name": "scilab",
		   "version": "0.7.1"
		  }
		 },
		 "nbformat": 4,
		 "nbformat_minor": 0
}
