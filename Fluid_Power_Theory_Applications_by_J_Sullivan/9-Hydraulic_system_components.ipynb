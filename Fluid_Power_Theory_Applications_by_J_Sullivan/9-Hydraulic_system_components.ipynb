{
"cells": [
 {
		   "cell_type": "markdown",
	   "metadata": {},
	   "source": [
       "# Chapter 9: Hydraulic system components"
	   ]
	},
{
		   "cell_type": "markdown",
		   "metadata": {},
		   "source": [
			"## Example 9.1: total_Btu_heat_loss.sce"
		   ]
		  },
  {
"cell_type": "code",
	   "execution_count": null,
	   "metadata": {
	    "collapsed": true
	   },
	   "outputs": [],
"source": [
"clc\n",
"//initialisation of variables\n",
"t= 4 //hr\n",
"Ihp= 8 //ihp\n",
"Ohp= 5 //hp\n",
"//CALCULATIONS\n",
"Hl= t*2544*(Ihp-Ohp)\n",
"//RESULTS\n",
"printf ('total Btu heat loss over a period of 4hr = %.f Btu',Hl)"
   ]
   }
,
{
		   "cell_type": "markdown",
		   "metadata": {},
		   "source": [
			"## Example 9.2: rise_in_temperature_of_the_fluid.sce"
		   ]
		  },
  {
"cell_type": "code",
	   "execution_count": null,
	   "metadata": {
	    "collapsed": true
	   },
	   "outputs": [],
"source": [
"clc\n",
"//initialisation of variables\n",
"t= 1 //sec\n",
"P= 1000 //psi\n",
"Q= 3 //gpm\n",
"Sg= 0.85\n",
"s= 0.42\n",
"//CALCULATIONS\n",
"Hl= 2544*t*P*Q/1714\n",
"Wf= 62.4*Q*60*Sg\n",
"Tr= Hl/(Wf*s)\n",
"//RESULTS\n",
"printf ('rise in temperature of the fluid = %.2f F',Tr)"
   ]
   }
,
{
		   "cell_type": "markdown",
		   "metadata": {},
		   "source": [
			"## Example 9.3: Stroke_length.sce"
		   ]
		  },
  {
"cell_type": "code",
	   "execution_count": null,
	   "metadata": {
	    "collapsed": true
	   },
	   "outputs": [],
"source": [
"clc\n",
"//initialisation of variables\n",
"P= 1500 //psi\n",
"d= 12 //in\n",
"V= 50 //gal\n",
"//CALCULATIONS\n",
"F= P*(%pi*d^2/4)\n",
"S= V*231*4/(%pi*d^2)\n",
"//RESULTS\n",
"printf ('Weight = %.f lb',F)\n",
"printf ('Stroke length = %.1f in',S)"
   ]
   }
,
{
		   "cell_type": "markdown",
		   "metadata": {},
		   "source": [
			"## Example 9.4: Size_of_accumulator.sce"
		   ]
		  },
  {
"cell_type": "code",
	   "execution_count": null,
	   "metadata": {
	    "collapsed": true
	   },
	   "outputs": [],
"source": [
"clc\n",
"//initialisation of variables\n",
"P= 1500 //psig\n",
"V= 5 //gal\n",
"P1= 3000 //psig\n",
"P2= 2000 //psig\n",
"//CALCULATIONS\n",
"V2= V*231*(P2+14.7)/(P1-P2)\n",
"V1= V2*(P1+14.7)/((P+14.7)*231)\n",
"//RESULTS\n",
"printf ('Size of accumulator = %.2f gal',V1)"
   ]
   }
,
{
		   "cell_type": "markdown",
		   "metadata": {},
		   "source": [
			"## Example 9.5: percentage_difference_in_volume.sce"
		   ]
		  },
  {
"cell_type": "code",
	   "execution_count": null,
	   "metadata": {
	    "collapsed": true
	   },
	   "outputs": [],
"source": [
"clc\n",
"//Initialization of variables\n",
"beta=1.4\n",
"p3=2000+14.7 //non guage\n",
"p2=3000+14.7 //non guage\n",
"p1=1500+14.7 //non guage\n",
"deltav=1155\n",
"//Calculations\n",
"v2=(p3/p2)^(1/beta) *(deltav) /(1-(p3/p2)^(1/beta))\n",
"v1=v2*(p2/p1)^(1/beta)\n",
"perdiff=(v1-4627.25)*100/v1\n",
"//Results\n",
"printf('volume 2 = %.1f',v2)\n",
"printf('\n volume 1 = %.1f',v1)\n",
"printf('\n percentage difference in volume = %.2f',perdiff)"
   ]
   }
,
{
		   "cell_type": "markdown",
		   "metadata": {},
		   "source": [
			"## Example 9.6: Wall_thcikness.sce"
		   ]
		  },
  {
"cell_type": "code",
	   "execution_count": null,
	   "metadata": {
	    "collapsed": true
	   },
	   "outputs": [],
"source": [
"clc\n",
"//initialisation of variables\n",
"Fr= 20 //gpm\n",
"P= 2500 //psi\n",
"sf= 4\n",
"Ts= 55000 //psi\n",
"V= 15 //fps\n",
"//CALCULATIONS\n",
"A= Fr*0.3208/V\n",
"ID= 2*sqrt(A/%pi)\n",
"Wt= P*ID/(2*(Ts-P))\n",
"Wt1= Wt*sf\n",
"//RESULTS\n",
"printf ('Wall thcikness = %.3f in',Wt1)"
   ]
   }
],
"metadata": {
		  "kernelspec": {
		   "display_name": "Scilab",
		   "language": "scilab",
		   "name": "scilab"
		  },
		  "language_info": {
		   "file_extension": ".sce",
		   "help_links": [
			{
			 "text": "MetaKernel Magics",
			 "url": "https://github.com/calysto/metakernel/blob/master/metakernel/magics/README.md"
			}
		   ],
		   "mimetype": "text/x-octave",
		   "name": "scilab",
		   "version": "0.7.1"
		  }
		 },
		 "nbformat": 4,
		 "nbformat_minor": 0
}
