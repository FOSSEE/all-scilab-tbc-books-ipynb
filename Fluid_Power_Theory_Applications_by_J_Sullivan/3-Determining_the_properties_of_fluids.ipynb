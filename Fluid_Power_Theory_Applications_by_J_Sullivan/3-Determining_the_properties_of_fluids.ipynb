{
"cells": [
 {
		   "cell_type": "markdown",
	   "metadata": {},
	   "source": [
       "# Chapter 3: Determining the properties of fluids"
	   ]
	},
{
		   "cell_type": "markdown",
		   "metadata": {},
		   "source": [
			"## Example 3.11: coefficient_of_friction.sce"
		   ]
		  },
  {
"cell_type": "code",
	   "execution_count": null,
	   "metadata": {
	    "collapsed": true
	   },
	   "outputs": [],
"source": [
"clc\n",
"//initialisation of variables\n",
"F= 45 //gm\n",
"L= 20000//gm\\n",
"r= 7.86\n",
"s= 1.27\n",
"//CALCULATIONS\n",
"CF= (F/L)*(r/s)*2*sqrt(2)\n",
"//RESULTS\n",
"printf ('coefficient of friction = %.3f ',CF)"
   ]
   }
,
{
		   "cell_type": "markdown",
		   "metadata": {},
		   "source": [
			"## Example 3.1: weight.sce"
		   ]
		  },
  {
"cell_type": "code",
	   "execution_count": null,
	   "metadata": {
	    "collapsed": true
	   },
	   "outputs": [],
"source": [
"clc\n",
"//initialisation of variables\n",
"M= 5//slug\n",
"g= 32 //ft/sec^2\n",
"M1= 10 //kg\n",
"g1= 9.8 //m/sec^2\n",
"M2= 15 //gm\n",
"g2= 980 //cm/sec^2\n",
"//CALCULATIONS\n",
"W= M*g\n",
"W1= M1*g1\n",
"W2= M2*g2\n",
"//RESULTS\n",
"printf ('weight = %.f lb',W)\n",
"printf ('\n weight = %.f N',W1)\n",
"printf ('\n weight = %.f dyn',W2)"
   ]
   }
,
{
		   "cell_type": "markdown",
		   "metadata": {},
		   "source": [
			"## Example 3.2: density.sce"
		   ]
		  },
  {
"cell_type": "code",
	   "execution_count": null,
	   "metadata": {
	    "collapsed": true
	   },
	   "outputs": [],
"source": [
"clc\n",
"//initialisation of variables\n",
"M= 20 //grams\n",
"V= 25 //mm^3\n",
"//CALCULATIONS\n",
"d= M/V\n",
"d1= M*0.001/(V*0.000001)\n",
"d2= M*0.0022/(V*0.00003531)\n",
"//RESULTS\n",
"printf ('density = %.2f gm/cm^3',d)\n",
"printf ('\n density = %.f kg/m^3',d1)\n",
"printf ('\n density = %.1f slugs/ft^3',d2)"
   ]
   }
,
{
		   "cell_type": "markdown",
		   "metadata": {},
		   "source": [
			"## Example 3.3: specific_weight.sce"
		   ]
		  },
  {
"cell_type": "code",
	   "execution_count": null,
	   "metadata": {
	    "collapsed": true
	   },
	   "outputs": [],
"source": [
"clc\n",
"//initialisation of variables\n",
"W= 7200 //lb\n",
"V= 120 //ft^3\n",
"W1= 3600 //lb\n",
"V1= 50 //m^3\n",
"W2= 500 //dyn\n",
"V2= 7000 //cm^3\n",
"//CALCULATIONS\n",
"s= W/V\n",
"s1= W1/V1\n",
"s2= W2/V2\n",
"//RESULTS\n",
"printf ('specific weight = %.f lbs/ft^3',s)\n",
"printf ('\n specific weight = %.f N/m^3',s1)\n",
"printf ('\n specific weight = %.4f dyn/cm^3',s2)"
   ]
   }
,
{
		   "cell_type": "markdown",
		   "metadata": {},
		   "source": [
			"## Example 3.4: Pressure.sce"
		   ]
		  },
  {
"cell_type": "code",
	   "execution_count": null,
	   "metadata": {
	    "collapsed": true
	   },
	   "outputs": [],
"source": [
"clc\n",
"//initialisation of variables\n",
"F= 200 //lb\n",
"A= 4 //in^2\n",
"//CALCULATIONS\n",
"P= F/A\n",
"//RESULTS\n",
"printf ('Pressure = %.f psi',P)"
   ]
   }
,
{
		   "cell_type": "markdown",
		   "metadata": {},
		   "source": [
			"## Example 3.5: Force.sce"
		   ]
		  },
  {
"cell_type": "code",
	   "execution_count": null,
	   "metadata": {
	    "collapsed": true
	   },
	   "outputs": [],
"source": [
"clc\n",
"//initialisation of variables\n",
"P= 1500 //psi\n",
"A= 2//in^2\n",
"//CALCULATIONS\n",
"F= P*A\n",
"//RESULTS\n",
"printf ('Force = %.f lb',F)"
   ]
   }
,
{
		   "cell_type": "markdown",
		   "metadata": {},
		   "source": [
			"## Example 3.6: Pressure.sce"
		   ]
		  },
  {
"cell_type": "code",
	   "execution_count": null,
	   "metadata": {
	    "collapsed": true
	   },
	   "outputs": [],
"source": [
"clc\n",
"//initialisation of variables\n",
"s= 0.85\n",
"h= 50 //ft\n",
"//CALCULATIONS\n",
"P= s*h*0.433\n",
"//RESULTS\n",
"printf ('Pressure = %.1f psi',P)"
   ]
   }
,
{
		   "cell_type": "markdown",
		   "metadata": {},
		   "source": [
			"## Example 3.7: head.sce"
		   ]
		  },
  {
"cell_type": "code",
	   "execution_count": null,
	   "metadata": {
	    "collapsed": true
	   },
	   "outputs": [],
"source": [
"clc\n",
"//initialisation of variables\n",
"P= 1500 //psi\n",
"d= 0.78 \n",
"//CALCULATIONS\n",
"h= P*2.31/d\n",
"//RESULTS\n",
"printf ('head = %.1f ft',h)"
   ]
   }
,
{
		   "cell_type": "markdown",
		   "metadata": {},
		   "source": [
			"## Example 3.8: kinematic_viscosity.sce"
		   ]
		  },
  {
"cell_type": "code",
	   "execution_count": null,
	   "metadata": {
	    "collapsed": true
	   },
	   "outputs": [],
"source": [
"clc\n",
"//initialisation of variables\n",
"k= 0.1200\n",
"t= 225 //sec\n",
"d= 0.82\n",
"//CALCULATIONS\n",
"v= t*k\n",
"u= v*d\n",
"//RESULTS\n",
"printf ('kinematic viscosity = %.1f cP',u)"
   ]
   }
,
{
		   "cell_type": "markdown",
		   "metadata": {},
		   "source": [
			"## Example 3.9: equivalent_viscosity.sce"
		   ]
		  },
  {
"cell_type": "code",
	   "execution_count": null,
	   "metadata": {
	    "collapsed": true
	   },
	   "outputs": [],
"source": [
"clc\n",
"//initialisation of variables\n",
"t= 80 //sec\n",
"//CALCULATIONS\n",
"v= 0.226*t-(195/t)\n",
"v1= 0.00035*t-(0.303/t)\n",
"//RESULTS\n",
"printf ('equivalent viscosity = %.2f cst',v)\n",
"printf (' \n equivalent viscosity = %.3f newtons',v1)"
   ]
   }
],
"metadata": {
		  "kernelspec": {
		   "display_name": "Scilab",
		   "language": "scilab",
		   "name": "scilab"
		  },
		  "language_info": {
		   "file_extension": ".sce",
		   "help_links": [
			{
			 "text": "MetaKernel Magics",
			 "url": "https://github.com/calysto/metakernel/blob/master/metakernel/magics/README.md"
			}
		   ],
		   "mimetype": "text/x-octave",
		   "name": "scilab",
		   "version": "0.7.1"
		  }
		 },
		 "nbformat": 4,
		 "nbformat_minor": 0
}
