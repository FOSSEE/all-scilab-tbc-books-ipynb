{
"cells": [
 {
		   "cell_type": "markdown",
	   "metadata": {},
	   "source": [
       "# Chapter 9: Axial Flow Compressors"
	   ]
	},
{
		   "cell_type": "markdown",
		   "metadata": {},
		   "source": [
			"## Example 9.10: Determination_of_blade_and_air_angle.sce"
		   ]
		  },
  {
"cell_type": "code",
	   "execution_count": null,
	   "metadata": {
	    "collapsed": true
	   },
	   "outputs": [],
"source": [
"clc;\n",
"u=250; // Mean blade speed in m/s\n",
"rp=1.3; // Pressure ratio\n",
"ca=200; // Axial velocity in m/s\n",
"p01=1; // Inlet pressure in bar\n",
"T01=300; // Inlet temperature in kelvin\n",
"R1=0.5; // Degree of reaction\n",
"Cp=1.005; // Specific heat in KJ/kg K\n",
"r=1.4; // Specific heat ratio\n",
"R=287; // Characteristic gas constant in J/kg K\n",
"\n",
"Del_T=(rp^((r-1)/r)-1)*T01;\n",
"//tan_beta1+tan_beta2=(R*2*u/ca);\n",
"//tan_beta1-tan_beta2=(Del_T*Cp*10^3/(u*ca));\n",
"A=[1 1;1 -1]; B=[(R1*2*u/ca) ;(Del_T*Cp*10^3/(u*ca))];\n",
"tan_beta=A\B;\n",
"beta_1=atand (tan_beta(1));\n",
"beta_2=atand (tan_beta(2));\n",
"alpha_1=beta_2; alpha_2=beta_1;\n",
"\n",
"disp ('degree',beta_2,'beta2 = ','degree',beta_1,'beta1 = ');\n",
"disp ('degree',alpha_2,'alpha2 = ','degree',alpha_1,'alpha1 = ');"
   ]
   }
,
{
		   "cell_type": "markdown",
		   "metadata": {},
		   "source": [
			"## Example 9.11: Calculation_of_rotational_speed.sce"
		   ]
		  },
  {
"cell_type": "code",
	   "execution_count": null,
	   "metadata": {
	    "collapsed": true
	   },
	   "outputs": [],
"source": [
"clc;\n",
"n=4; // Number of stage\n",
"rp=10; // Pressure ratio\n",
"eff_p_ac=0.92; // Ploytropic efficiency of axial compressor\n",
"eff_p_cc=0.83; // Polytropic efficiency of centrifugal compressor\n",
"Del_Trise=30; // Axial compressor stage temperature in kelvin\n",
"R=0.5; // Reaction stage\n",
"beta_2=20; // Outlet stator angle in degree\n",
"D=0.25; // Mean diameter of each stage in m\n",
"wf=0.8; // Work done factor\n",
"ca=150; // Axial velocity in m/s\n",
"Di=0.33; //Impeller diameter in m\n",
"mu=0.9; // Slip factor\n",
"p01=1.01; // Ambient pressure in bar\n",
"T01=288; // Ambient temperature in kelvin\n",
"pif=1.04; // Power input factor\n",
"Cp=1.005; // Specific heat in KJ/kg K\n",
"r=1.4; // Specific heat ratio\n",
"R=287; // Characteristic gas constant in J/kg K\n",
"\n",
"beta_1=atand (sqrt ((Cp*10^3*Del_Trise/(wf*ca^2))+(tand(beta_2)^2)));\n",
"u=ca*(tand (beta_1)+tand(beta_2));\n",
"Nac=(u/(3.14*D));\n",
"r1=(1+n*Del_Trise/T01)^(eff_p_ac*r/(r-1)); // Total pressure ratio across the axial compressor\n",
"\n",
"r2=rp/r1; // Pressure ratio across centrifugal compressor\n",
"T02=T01*r1^((r-1)/(eff_p_ac*r));\n",
"T03=T02*r2^((r-1)/(eff_p_cc*r));\n",
"Del_Tsc=T03-T02;\n",
"u=sqrt ((Del_Tsc*Cp*10^3)/(pif*mu));\n",
"Ncc=u/(3.14*Di);\n",
"\n",
"disp ('rps   (roundoff error)',Nac,'Speed of the axial compressor = ');\n",
"disp ('rps   (roundoff error)',Ncc,'Speed of the centrifugal compressor = ');"
   ]
   }
,
{
		   "cell_type": "markdown",
		   "metadata": {},
		   "source": [
			"## Example 9.1: Estimation_of_blade_angles.sce"
		   ]
		  },
  {
"cell_type": "code",
	   "execution_count": null,
	   "metadata": {
	    "collapsed": true
	   },
	   "outputs": [],
"source": [
"clc;\n",
"n=10; // No of stages in the axial flow compressor\n",
"rp=5; // Overall pressure ratio\n",
"eff_C=0.87; // Overall isentropic efficiency\n",
"T1=15+273; // Temperature of air at inlet in kelvin\n",
"u=210; // Blade speed in m/s\n",
"ca=170; // Axial velocity in m/s\n",
"wf=1; // Work factor\n",
"r=1.33; // Specific heat ratio\n",
"Cp=1.005; // Specific heat in kJ/kg K\n",
"\n",
"Del_Tstage=(T1*(rp^((r-1)/r)-1))/(n*eff_C); // Temperature increase per stage\n",
"// By property relations and let us assume \n",
"// tan_beta1-tan_beta2=Del_Tstage*Cp/(wf*u*ca)\n",
"// tan_beta1+tan_beta2=u/ca   for 50% reaction \n",
"// To solve this above equations using matrix method\n",
"a=[1,-1;1,1]; c=[(Del_Tstage*Cp*10^3/(wf*u*ca));u/ca];\n",
"b=a\c;\n",
"beta1=atand(b(1));// Blade angles at inlet\n",
"beta2=atand(b(2)); // Blade angles at outlet\n",
"\n",
"disp ('degree   (roundoff error)',beta2,'Blade angle at outlet = ','degree   (roundoff error)',beta1,'Blade angle at inlet = ');"
   ]
   }
,
{
		   "cell_type": "markdown",
		   "metadata": {},
		   "source": [
			"## Example 9.2: Calculation_of_mass_flow_rate_and_degree_of_reaction.sce"
		   ]
		  },
  {
"cell_type": "code",
	   "execution_count": null,
	   "metadata": {
	    "collapsed": true
	   },
	   "outputs": [],
"source": [
"clc;\n",
"P1=1.0132; // Inlet air pressure in bar\n",
"T01=288; // Inlet air temperature in kelvin\n",
"ca=150; // axial velocity in m/s\n",
"dtip=60; // Tip diameter of rotor in cm\n",
"dhub=50; // Hub diameter of rotor in cm\n",
"N=100; // Speed of rotor in rps\n",
"t_angle=30; // Deflected angle of air in degree (in question it is 30.2 but in solution it is 30)\n",
"P2_P1=1.2; // Stage pressure ratio\n",
"Cp=1005; // Specific heat in J/kg K\n",
"r=1.4; // Specific heat ratio\n",
"R=287; // Characteristic gas constant in J/kg K\n",
"\n",
"u=(3.142857*(dhub+dtip)*10^-2*N)/2; // Mean blade velocity\n",
"beta_1=atand(u/ca); // Blade angle at inlet\n",
"beta_2=beta_1-t_angle; // As air is deflected by 30\n",
"// from velocity triangle\n",
"x=ca*tand(beta_2);\n",
"alpha_2=atand ((u-x)/ca);\n",
"C1=ca;\n",
"T1=T01-(C1^2/(2*Cp)); // Static temperature at inlet\n",
"P2=P1*P2_P1; // Pressure at outlet\n",
"T2=T1*(P2/P1)^((r-1)/r); // Static temperature at outlet\n",
"row_2=(P2*10^5)/(R*T2); // Density at outlet\n",
"m=3.14*(dtip^2-dhub^2)*ca*row_2*10^-4/4; // Mass flow rate\n",
"wf=1; // Work factor\n",
"P=wf*u*ca*m*(tand(beta_1)-tand(beta_2))/1000; // Power developed\n",
"R=ca*(tand(beta_1)+tand(beta_2))/(2*u); // Degree of reaction\n",
"\n",
"disp ('kg/s',m,'Mass flow rate = ');\n",
"disp('kW    (Error due to more decimal values in expression)',P,'Power developed = ');\n",
"disp (R,'Degree of Reaction = ');"
   ]
   }
,
{
		   "cell_type": "markdown",
		   "metadata": {},
		   "source": [
			"## Example 9.3: Estimation_of_number_of_stages_of_the_compressors.sce"
		   ]
		  },
  {
"cell_type": "code",
	   "execution_count": null,
	   "metadata": {
	    "collapsed": true
	   },
	   "outputs": [],
"source": [
"clc;\n",
"beta_1=45; // Inlet blade angle in degree\n",
"beta_2=10; // Outlet blade angle in degree\n",
"rp=6; // Compressor pressure ratio\n",
"eff_C=0.85;// Overall isentropic efficiency\n",
"T1=37+273; // Inet static temperature in kelvin\n",
"u=200; // Blade speed in m/s\n",
"Cp=1005; // Specific heat in J/kg K\n",
"r=1.4; // Specific heat ratio\n",
"R=287; // Characteristic gas constant in J/kg K\n",
"\n",
"// (i). wf=1\n",
"wf=1; // Work factor\n",
"ca=u/(tand(beta_1)+tand(beta_2)); // Axial velocity\n",
"Del_Tstage=wf*u*ca*(tand(beta_1)-tand(beta_2))/Cp; // Stage temperature drop\n",
"Del_Toverall=(T1*(rp^((r-1)/r)-1))/eff_C; // Overall temperature drop\n",
"n=Del_Toverall/Del_Tstage; // No of stages\n",
"\n",
"disp (n,'Number of stages required = ','(i).wf = 1');\n",
"\n",
"// (ii).wf = 0.87\n",
"wf =0.87; // Work factor\n",
"ca=u/(tand(beta_1)+tand(beta_2)); // Axial velocity\n",
"Del_Tstage=wf*u*ca*(tand(beta_1)-tand(beta_2))/Cp; // Stage temperature drop\n",
"Del_Toverall=T1*(rp^((r-1)/r)-1)/eff_C; // Overall temperature drop\n",
"n=Del_Toverall/Del_Tstage; // No of stages\n",
"\n",
"disp (n,'Number of stages required = ','(ii).wf = 0.87');"
   ]
   }
,
{
		   "cell_type": "markdown",
		   "metadata": {},
		   "source": [
			"## Example 9.4: Determination_of_Mach_number_relative_to_Rotor.sce"
		   ]
		  },
  {
"cell_type": "code",
	   "execution_count": null,
	   "metadata": {
	    "collapsed": true
	   },
	   "outputs": [],
"source": [
"clc;\n",
"rp=4; // Total head pressure ratio\n",
"eff_O=0.85; // Overall total head isentropic efficiency\n",
"T01=290; // Total head inlet temperature in kelvin\n",
"alpha_1=10; // Inlet air angle in degree\n",
"alpha_2=45; // Outlet air angle in degree\n",
"u=220; // Blade velocity in m/s\n",
"wf=0.86; // Wok done factor\n",
"R=284.6; // Characteristic gas constant in kJ/kg K\n",
"Cp=1005; // Specific heat in J/kg K\n",
"r=1.4; // Specific heat ratio\n",
"\n",
"eff_P=1/(log10(((rp^((r-1)/r)-1)/eff_O)+1)/(log10(rp)*((r-1)/r)));; \n",
"// From velocity triangle\n",
"ca=u/(tand(alpha_1)+tand(alpha_2)); // Axial velocity\n",
"Del_Tstage=wf*u*ca*(tand(alpha_2)-tand(alpha_1))/Cp; // Stage temperature rise\n",
"T02=T01*(rp)^((r-1)/(r*eff_P)); // Total head temperature \n",
"T02_T01=T02-T01; // Total temperature rise\n",
"n=T02_T01/Del_Tstage; // Total number of stages\n",
"// from velocty traingles\n",
"w1=ca/cosd(alpha_2);\n",
"c1=ca/cosd(alpha_1);\n",
"T1=T01-c1^2/(2*Cp); // Static temperature\n",
"M=w1/sqrt(r*R*T1); // Mach number at inlet\n",
"\n",
"disp (eff_P*100,'Polytropic efficiency of the compressor = ');\n",
"disp (n,'Total number of stages = ');\n",
"disp (M,'Mach number at inlet = ');"
   ]
   }
,
{
		   "cell_type": "markdown",
		   "metadata": {},
		   "source": [
			"## Example 9.5: Calculation_of_pressure_rise_per_blade_ring_and_the_power_input_per_stage.sce"
		   ]
		  },
  {
"cell_type": "code",
	   "execution_count": null,
	   "metadata": {
	    "collapsed": true
	   },
	   "outputs": [],
"source": [
"clc;\n",
"Q=1000; // Flow rate of free air in m^3/min\n",
"P1=0.98; // Inlet pressure in bar\n",
"T1=15+273; // Inlet temperature in kelvin\n",
"Dm=0.6; // Mean diameter in m\n",
"h=6.75; // blade length in cm\n",
"CL=0.6; CD=0.05; // At zero angle of incidence\n",
"Cp=1.005; // Specific heat in kJ/kg K\n",
"r=1.4; // Specific heat ratio\n",
"R=287; // Characteristic gas constant in J/kg K\n",
"k=1-0.1; //Blade occupys 10% of axial area\n",
"N=6000; // speed in rpm\n",
"Ac=19.25*10^-4; // Projected area in m^2\n",
"n=50;\n",
"eff_C=1; // Efficiency of compressor\n",
"\n",
"row=(P1*10^5)/(R*T1); // Density\n",
"A=k*3.14*Dm*h*10^-2; // Area of axial\n",
"ca=Q/(60*A); // Axial velocity\n",
"u=3.14*Dm*N/60; // Blade velocity\n",
"beta_1=atand(u/ca); // Blade angle at inlet\n",
"w=sqrt (ca^2+u^2); // From velocity triangle\n",
"L=CL*row*w^2*Ac/2;\n",
"D=CD*row*w^2*Ac/2;\n",
"P=(L*cosd(beta_1)+D*sind (beta_1))*u*n*10^-3; // Power input / stage\n",
"m=Q*row/60;// mass flow rate\n",
"rp=((P*eff_C/(m*Cp*T1))+1)^(r/(r-1)); // pressure ratio\n",
"P2=rp*P1; // Pressure\n",
"\n",
"disp ('kW   (Roundoff error )',P,'Power input/stage = ');\n",
"disp ('bar',P2,'Pressure at outlet = ');"
   ]
   }
,
{
		   "cell_type": "markdown",
		   "metadata": {},
		   "source": [
			"## Example 9.6: Determination_of_the_direction_of_the_air_entry_to_and_exit_from_the_rotor.sce"
		   ]
		  },
  {
"cell_type": "code",
	   "execution_count": null,
	   "metadata": {
	    "collapsed": true
	   },
	   "outputs": [],
"source": [
"clc;\n",
"T1=290; // Temperature at inlet in kelvin\n",
"n=10; // Number of stages\n",
"rp=6.5; // Pressure ratio\n",
"m=3; // mass flow rate in kg/s\n",
"eff_C=0.9; // isentropic efficiency of the compression\n",
"ca=110; // Axial velocity in m/s\n",
"u=180; // Mean blade velocity in m/s\n",
"Cp=1.005; // Specific heat in kJ/kg K\n",
"r=1.4; // Specific heat ratio\n",
"R=287; // Characteristic gas constant in J/kg K\n",
"\n",
"T_2=(rp)^((r-1)/r)*T1; // temperature after isentropic compression\n",
"T2=((T_2-T1)/eff_C)+T1; // Temperature after actual compression\n",
"P=m*Cp*(T2-T1); // Power given to the air\n",
"Del_Tstage=(T2-T1)/n; // Temperature rise per stage\n",
"Del_ct=Cp*10^3*Del_Tstage/u; // For work done per kg of air per second\n",
"// To find blade angles let solve the following equations\n",
"// Del_ct=ca(tan beta_1-tan beta_2) for symmetrical stages\n",
"// u=ca(tan beta_1=tan beta_2) for degree of reaction = 0.5\n",
"// Solving by matrix method\n",
"A=[1,-1;1,1]; C=[Del_ct/ca;u/ca];\n",
"B=A\C;\n",
"// Blade angles at entry and exit\n",
"beta_1=atand(B(1));\n",
"beta_2=atand(B(2));\n",
"\n",
"disp ('kW   (roundoff error)',P,'Power given to the air = ');\n",
"disp ('degree',beta_2,'Blade angle at exit = ','degree',beta_1,'Blade angle at inlet = ');"
   ]
   }
,
{
		   "cell_type": "markdown",
		   "metadata": {},
		   "source": [
			"## Example 9.7: Calculation_of_the_rotational_speed_and_the_length_of_the_last_stage.sce"
		   ]
		  },
  {
"cell_type": "code",
	   "execution_count": null,
	   "metadata": {
	    "collapsed": true
	   },
	   "outputs": [],
"source": [
"clc;\n",
"rp=4; // Overall pressure ratio\n",
"m=3; // mass flow rate in kg/s\n",
"eff_pc=0.88; // Polytropic efficiency\n",
"Del_Tstage=25; // The stagnation temperature pressure rise in kelvin\n",
"c1=165; // Absolute velocity in m/s\n",
"alpha_1=20; // air angle from axial direction in degree\n",
"wf=0.83; // Workdone factor\n",
"D=18; // Mean diameter of the last stage rotor in cm\n",
"P01=1.01; // Ambient pressure in bar\n",
"T01=288; // Ambient temperature in kelvin\n",
"Cp=1005; // Specific heat in J/kg K\n",
"r=1.4; // Specific heat ratio\n",
"R=287; // Characteristic gas constant in J/kg K\n",
"\n",
"n=1/(1-(r-1)/(r*eff_pc));\n",
"T02=T01*(rp)^((n-1)/n); // Total pressure at stage 2\n",
"Del_Toverall= T02-T01; // Overall temperature difference\n",
"Ns=Del_Toverall/Del_Tstage; // Number of stages\n",
"eff_C=((rp^((r-1)/r)-1)/(rp^((r-1)/(r*eff_pc))-1));// Efficiency of compressor\n",
"rp1=(1+(eff_C*Del_Tstage/T01))^(r/(r-1)); // Pressure ratio acrocc first stage\n",
"Del_Tstage1=Del_Toverall/Ns; // Temperature rise across stage 1\n",
"T0ls=T02-Del_Tstage1; // Temperature at inlet to last stage\n",
"rpls=(1+(eff_C*Del_Tstage1/T0ls))^(r/(r-1)); // Pressure ratio acrocc last stage\n",
"// For symmetrical blade, R=0.5\n",
"beta_2=alpha_1; \n",
"ca=c1*cosd (alpha_1); // Axial velocity\n",
"beta_1=atand(sqrt(((Cp*Del_Tstage1/(wf*ca))/ca)+(tand(beta_2))^2)); // blade angle\n",
"u=ca*(tand(beta_1)+tand(beta_2)); // mean velocity of blade\n",
"N=60*u/(3.14*D*10^-2*60); // Speed in rps\n",
"Po=rp/rpls; // Total pressure at inlet to the last stage\n",
"T0=T0ls; // Total temperature to the last stage\n",
"Tst=T0-c1^2/(2*Cp); // Static temperature\n",
"Pst=Po/(T0/Tst)^((r-1)/r); // Static pressure\n",
"row=(Pst*10^5)/(R*Tst); // Density\n",
"h=m/(ca*row*3.14*D*10^-2);// Length of last stage\n",
"\n",
"disp (Ns,'Number of stages = ');\n",
"disp (rp1,'Pressure ratio across first stage = ');\n",
"disp ('   (roundoff error)',rpls,'Temperature at inlet to last stage = ');\n",
"disp ('degree   (roundoff error)',beta_1,'beta1=' );\n",
"disp ('rps   (roundoff error)',N,'Speed = ');\n",
"disp ('cm   (roundoff error)',h*100,'Length of last stage = ');"
   ]
   }
,
{
		   "cell_type": "markdown",
		   "metadata": {},
		   "source": [
			"## Example 9.8: Calculation_of_the_stage_stagnation_pressure_ratio_and_the_power_input.sce"
		   ]
		  },
  {
"cell_type": "code",
	   "execution_count": null,
	   "metadata": {
	    "collapsed": true
	   },
	   "outputs": [],
"source": [
"clc;\n",
"N=6000; // Speed in rpm\n",
"Del_rise=20; // Stagnation temperature rise in kelvin\n",
"wf=0.93; // Work done factor eff_c=0.89; // Isentropic efficiency of the state \n",
"c1=140; // Inlet velocity in m/s\n",
"p01=1.01; // Ambient pressure in bar\n",
"T01=288; // Ambient temperature in kelvin\n",
"M1=0.95; // Mach number\n",
"Cp=1.005; // Specific heat in J/kg K\n",
"r=1.4; // Specific heat ratio\n",
"R=287; // Characteristic gas constant in J/kg K\n",
"H_T_ratio=0.6; // Hub tip ratio in \n",
"eff_s=0.89; // Stage efficiency\n",
"T1=T01-c1^2/(2*Cp*10^3);\n",
"w1=M1*sqrt (r*R*T1);\n",
"beta_1=acosd (c1/w1);\n",
"u=w1*sind (beta_1);\n",
"beta_2=atand (tand(beta_1)-((Cp*10^3*Del_rise)/(u*wf*c1)));\n",
"p1=p01/(T01/T1)^(r/(r-1));\n",
"row_1=(p1*10^5)/(R*T1);\n",
"Rtip=60*u/(2*3.14*N);\n",
"Rroot=H_T_ratio*Rtip;\n",
"Rm=(Rtip+Rroot)/2;\n",
"h=Rtip-Rroot;\n",
"m=row_1*2*3.14*Rm*h*c1;\n",
"rp=(1+(eff_s*Del_rise)/(T01))^(r/(r-1));\n",
"P=m*Cp*Del_rise;\n",
"uroot=2*3.14*Rroot*N/60;\n",
"beta_1root=atand (uroot/c1);\n",
"beta_2root=atand (tand (beta_1root)-((Cp*10^3*Del_rise)/(wf*uroot*c1)));\n",
"\n",
"disp ('degree',beta_2,'beta 2 = ','degree',beta_1,'beta 1 = ','Rotor air angles at tip:','m',Rtip,'Tip Radius = ','(i). ');\n",
"disp ('kg/s   (Roundoff error)',m,'Mass flow rate = ','(ii).');\n",
"disp ('kW',P,'Power input = ',rp,'Stagnation pressure ratio = ','(iii).');\n",
"disp ('degree',beta_2root,'beta 2 = ','degree',beta_1root,'beta 1 = ','Rotor air angles at root sections','(iv).');\n",
""
   ]
   }
,
{
		   "cell_type": "markdown",
		   "metadata": {},
		   "source": [
			"## Example 9.9: EX9_9.sce"
		   ]
		  },
  {
"cell_type": "code",
	   "execution_count": null,
	   "metadata": {
	    "collapsed": true
	   },
	   "outputs": [],
"source": [
"clc;\n",
"rp=1.35; // Actual pressure ratio\n",
"DelT_rise=30; // Actual temperature rise in K\n",
"beta_1=47; // Inlet blade angle in degree\n",
"beta_2=15; // Outlet blade angle in degree\n",
"u=225; // Peripheral velocity in m/s\n",
"ca=180; // Axial velocity in m/s\n",
"T01=27+273; // Ambient temperature in kelvin\n",
"Cp=1.005; // Specific heat in KJ/kg K\n",
"r=1.4; // Specific heat ratio\n",
"R=287; // Characteristic gas constant in J/kg K\n",
"\n",
"eff_s=(rp^((r-1)/r)-1)*T01/DelT_rise;\n",
"wf=(DelT_rise*Cp*10^3)/(u*ca*(tand(beta_1)-tand(beta_2)));\n",
"\n",
"disp ('%',eff_s*100,'Stage Efficiency = ');\n",
"disp (wf,'Work done factor = ');"
   ]
   }
],
"metadata": {
		  "kernelspec": {
		   "display_name": "Scilab",
		   "language": "scilab",
		   "name": "scilab"
		  },
		  "language_info": {
		   "file_extension": ".sce",
		   "help_links": [
			{
			 "text": "MetaKernel Magics",
			 "url": "https://github.com/calysto/metakernel/blob/master/metakernel/magics/README.md"
			}
		   ],
		   "mimetype": "text/x-octave",
		   "name": "scilab",
		   "version": "0.7.1"
		  }
		 },
		 "nbformat": 4,
		 "nbformat_minor": 0
}
