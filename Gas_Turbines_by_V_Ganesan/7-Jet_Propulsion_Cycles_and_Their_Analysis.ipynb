{
"cells": [
 {
		   "cell_type": "markdown",
	   "metadata": {},
	   "source": [
       "# Chapter 7: Jet Propulsion Cycles and Their Analysis"
	   ]
	},
{
		   "cell_type": "markdown",
		   "metadata": {},
		   "source": [
			"## Example 7.10: Calculation_of_exit_speed_of_the_gases_and_the_thrust_developed.sce"
		   ]
		  },
  {
"cell_type": "code",
	   "execution_count": null,
	   "metadata": {
	    "collapsed": true
	   },
	   "outputs": [],
"source": [
"clc;\n",
"ma=(12*10^4)/3600; // Air flow rate in kg/s\n",
"T01=15+273; // Temperature in kelvin\n",
"rp=4; // pressure ratio\n",
"p01=1.03; // Pressure in bar\n",
"T02=182+273; // Temperature in kelvin\n",
"T03=815+273; // Temperature in kelvin\n",
"T04=650+273; // Temperature in kelvin\n",
"ci=800*1000/3600; // Velocity in m/s\n",
"eff_nozzle=0.90; // Nozzle efficiency\n",
"Cpa=1.005;// Specific heat of air  at constant pressure in kJ/kg K\n",
"Cpg=1.147;// Specific heat of fuel at constant pressure in kJ/kg K\n",
"rg=1.33;// Specific heat ratio of fuel\n",
"r=1.4; // Specific heat ratio of air\n",
"p03=4.12; // in bar\n",
"\n",
"eff_c=1/((T02-T01)/(T01*((rp^((r-1)/r))-1)));\n",
"eff_T=eff_c;\n",
"Wc=ma*Cpa*(T02-T01);\n",
"rp_T=(1/(1-((T03-T04)/(eff_T*T03))))^((r/(r-1)));\n",
"p04=p03/rp_T;\n",
"p04_pc=1/(1-((rg-1)/((rg+1)*eff_nozzle)))^(rg/(rg-1));\n",
"p5=p01;\n",
"T_5=T04*(p5/p04)^((rg-1)/rg);\n",
"T5=T04-eff_nozzle*(T04-T_5);\n",
"cj=sqrt(2*Cpg*10^3*(T04-T5));\n",
"F=ma*(cj-ci);\n",
"\n",
"disp ('%',eff_c*100,'Efficiency of the compressor = ');\n",
"disp ('%',eff_T*100,'Efficiency of the Turbine = ');\n",
"disp ('kW',Wc,'Compressor work = ');\n",
"disp ('m/s   (roundoff error)',cj,'The exit speed of gases = ');\n",
"disp ('N   (roundoff error)',F,'Thrust developed = ');"
   ]
   }
,
{
		   "cell_type": "markdown",
		   "metadata": {},
		   "source": [
			"## Example 7.1: Calculation_of_Thrust_power_and_Heat_Input.sce"
		   ]
		  },
  {
"cell_type": "code",
	   "execution_count": null,
	   "metadata": {
	    "collapsed": true
	   },
	   "outputs": [],
"source": [
"clc;\n",
"CV=43; // Calorific value of fuel in MJ/kg\n",
"mf=0.18*9000/3600; // Fuel consumption in kg/s\n",
"F=9; // Thrust in kN\n",
"ci=500; // Aircraft velocity in m/s\n",
"ma=27; // Mass of air passing through compressor in kg/s\n",
"\n",
"A_F=ma/mf; // Air fuel ratio\n",
"PT=F*ci; // Thrust power\n",
"Q=mf*(CV*10^3); // Heat supplied\n",
"eff=PT/Q; // Overall efficiency\n",
"disp (A_F,'Air fuel ratio  = ');\n",
"disp ('%',eff*100,'Overall efficiency = ');"
   ]
   }
,
{
		   "cell_type": "markdown",
		   "metadata": {},
		   "source": [
			"## Example 7.2: Calculation_of_The_Total_Design_Thrust.sce"
		   ]
		  },
  {
"cell_type": "code",
	   "execution_count": null,
	   "metadata": {
	    "collapsed": true
	   },
	   "outputs": [],
"source": [
"clc;\n",
"T03=1200; // Maximum turbine inblet temperature in kelvin\n",
"rc=4.25; // Pressure ratio across compressor\n",
"ma=25; // Mass flow rate in kg/s\n",
"eff_C=0.87; // Isentropic efficiency of the compressor\n",
"eff_T=0.915; // Isentropic efficiency of turbine\n",
"eff_n=0.965; // Propelling nozzle efficiency\n",
"eff_Tr=0.985; // Transmission efficiency\n",
"del_pcomb=0.21; // Combustion chamber pressure loss in bar\n",
"Cpa=1.005; // Specific heat at constant pressure of air in kJ/kg K\n",
"ra=1.4; // Specific heat ratio of air\n",
"Cpg=1.147; // Specific heat of fuel in kJ/kg K\n",
"rg=1.33; // Specific heat of fuel\n",
"T01=293; // Ambient temperature in kelvin\n",
"p01=1; // Ambient pressure in bar\n",
"A_F=50; // Air Fuel ratio\n",
"p02=rc/p01;\n",
"\n",
"T02=(T01*((rc)^((ra-1)/ra)-1)/eff_C)+T01; // Actual temperature at state 2\n",
"T04=T03-((Cpa*(T02-T01))/(eff_Tr*Cpg)); // Temperature at state 4\n",
"rt=(1/(1-((T03-T04)/(eff_T*T03))))^(1/((rg-1)/rg)); // Pressure ratio across turbine\n",
"p04=(p02-del_pcomb)/rt; // Pressure at 4\n",
"p5=p01;\n",
"T_5=T04/(p04/p5)^((rg-1)/rg); // Temperature at 5\n",
"T5=T04-eff_n*(T04-T_5); \n",
"c5=sqrt (2*Cpg*10^3*(T04-T5)); \n",
"F=ma*c5; // Total design thrust\n",
"p04_pc=1/(1-((1/eff_n)*((rg-1)/(rg+1))))^(rg/(rg-1))\n",
"pc=p04*(1/p04_pc); \n",
"Tc=T04*(1/p04_pc)^((rg-1)/rg);\n",
"R=Cpg*10^3*(rg-1)/rg;\n",
"cj=sqrt (rg*R*Tc);\n",
"row_c=(pc*10^5)/(R*Tc);\n",
"A=ma/(row_c*cj); // Area of the propelling nozzle\n",
"d=sqrt (4*A/3.14); // Diameter of the nozzle\n",
"pa=p01;\n",
"Fp=(pc-pa)*10^5*A;// Pressure thrust\n",
"Fm=ma*cj;\n",
"Ft=Fp+Fm; // Total thrust\n",
"sfc=(ma/A_F)*3600/Ft;\n",
"\n",
"disp ('N   (roundoff error)',F,' Total design thrust/s = ');\n",
"disp ('N   (roundoff error)',Ft,'Total thrust /s = ');\n",
"disp ('kg/ N thrust h',sfc, 'Specific fuel consumption = ');"
   ]
   }
,
{
		   "cell_type": "markdown",
		   "metadata": {},
		   "source": [
			"## Example 7.3: Calculation_of_the_velocity_leaving_the_nozzle.sce"
		   ]
		  },
  {
"cell_type": "code",
	   "execution_count": null,
	   "metadata": {
	    "collapsed": true
	   },
	   "outputs": [],
"source": [
"clc;\n",
"p03=4.5; // Pressure at turbine inlet in bar\n",
"T03=800+273; // Temperature at turbine inlet in kelvin\n",
"p04=1.75; // Pressure at turbine outlet in bar\n",
"eff_T=0.75; //Turbine efficiency\n",
"p05=1.03; // Pressure at state 5 in bar\n",
"Cp=1.05; // Specific heat at constant pressure  in kJ/kg K\n",
"r=1.38; // Specific heat ratio \n",
"\n",
"T04=T03*(1-eff_T*(1-(1/(p03/p04)^((r-1)/r)))); // Temperature at state 4\n",
"cj=sqrt (2*Cp*10^3*T04*(1-(1/(p04/p05)^((r-1)/r)))); // Velocity leaving nozzle\n",
"\n",
"disp ('K',T04,'(i).Temperature of the gas entering the jet (nozzle) = ');\n",
"disp ('m/s',cj,'(ii).Velocity of gas leaving the jet = ');"
   ]
   }
,
{
		   "cell_type": "markdown",
		   "metadata": {},
		   "source": [
			"## Example 7.4: Calculation_of_propulsive_efficiency.sce"
		   ]
		  },
  {
"cell_type": "code",
	   "execution_count": null,
	   "metadata": {
	    "collapsed": true
	   },
	   "outputs": [],
"source": [
"clc;\n",
"cj=2700; // The effective jet velocity from jet engine in m/s\n",
"ci=1350; // Flight velocity in m/s\n",
"ma=78.6; // Air flow rate in m/s\n",
"\n",
"a=ci/cj;\n",
"F=ma*(cj-ci); // Thrust\n",
"P=F*ci; // Thrust power\n",
"eff_P=2*a/(a+1); // Propulsive efficiency\n",
"\n",
"disp ('N',F,'(i).Thrust = ');\n",
"disp ('MN',P/10^6,'(ii). Thrust power = ');\n",
"disp ('%',eff_P*100,'(iii). Propulsive efficiency = ');"
   ]
   }
,
{
		   "cell_type": "markdown",
		   "metadata": {},
		   "source": [
			"## Example 7.5: Calculation_of_the_thrust_and_Specific_fuel_consumption.sce"
		   ]
		  },
  {
"cell_type": "code",
	   "execution_count": null,
	   "metadata": {
	    "collapsed": true
	   },
	   "outputs": [],
"source": [
"clc;\n",
"pa=0.458; // Ambient pressure in bar\n",
"Ta=248; // Ambient temperature in kelvin\n",
"Ci=805*1000/3600; // Speed of the aircraft in m/s\n",
"rp=4;// Pressure ratio\n",
"DelP_comb=0.21; // Combustion chamber pressure loss in bar\n",
"T03=1100; // Turbine inlet temperature in kelvin\n",
"eff_ram=0.95; // Intake duct efficiency\n",
"eff_c=0.85; // Compressor efficiency\n",
"eff_T=0.90; // Turbine efficiency\n",
"eff_m=0.99; // Mechanical efficiency of transmission\n",
"eff_nozzle=0.95; // Nozzle efficiency\n",
"CV=43; // Low calorific value in MJ/kg\n",
"Ac=0.0935; // Nozzle outlet area in m^2\n",
"Cpa=1.005;// Specific heat of air  at constant pressure in kJ/kg K\n",
"Cpg=1.147;// Specific heat of fuel at constant pressure in kJ/kg K\n",
"rg=1.33;// Specific heat ratio of fuel\n",
"r=1.4; // Specific heat ratio of air\n",
"R=287; // Characteristic gas constant in J/kg K\n",
"\n",
"p01=pa*(1+eff_ram*((1+Ci^2/(2*Cpa*Ta*10^3))^(r/(r-1))-1));\n",
"p02=p01*rp;\n",
"T01=Ta+Ci^2/(2*Cpa*10^3);\n",
"T02=T01+T01*(rp^((r-1)/r)-1)/eff_c;\n",
"T04=T03-(Cpa*(T02-T01))/(Cpg*eff_m);\n",
"p03=p02-DelP_comb;\n",
"T_04=T03-(T03-T04)/eff_T;\n",
"p04=p03*(T_04/T03)^(r/(r-1));\n",
"p04_pc=1/(1-(((rg-1)/(rg+1))/eff_nozzle))^(rg/(rg-1));\n",
"Tc=T04*(1/p04_pc)^((rg-1)/rg);\n",
"pc=p04/p04_pc;\n",
"row_c=(pc*10^5)/(R*Tc);\n",
"cj=sqrt (rg*R*Tc);\n",
"m=row_c*Ac*cj;\n",
"F=m*(cj-Ci)+Ac*(pc-pa)*10^5; // Total thrust\n",
"mf=(m*Cpg*(T03-T02))/(CV*10^3);\n",
"sfc=mf*3600/F; // specific fuel consumption\n",
"\n",
"disp ('N   (roundoff error)',F,'Total thrust = ');\n",
"disp ('kg/N h   (roundoff error)',sfc,'specific fuel consumption = ');\n",
""
   ]
   }
,
{
		   "cell_type": "markdown",
		   "metadata": {},
		   "source": [
			"## Example 7.6: Calculation_of_specific_power_output.sce"
		   ]
		  },
  {
"cell_type": "code",
	   "execution_count": null,
	   "metadata": {
	    "collapsed": true
	   },
	   "outputs": [],
"source": [
"clc;\n",
"ci=600*1000/3600; // Velocity in m/s\n",
"Cpa=1.005;// Specific heat of air  at constant pressure in kJ/kg K\n",
"Cpg=1.147;// Specific heat of fuel at constant pressure in kJ/kg K\n",
"rg=1.33;// Specific heat ratio of fuel\n",
"r=1.4; // Specific heat ratio of air\n",
"R=287; // Characteristic gas constant in J/kg K\n",
"pa=0.458; // Ambient pressure in bar\n",
"Ta=-15+273; // Ambient temperature in kelvin\n",
"rp=9; // pressure ratio\n",
"T03=1200; // Maximum temperature in kelvin\n",
"eff_ram=0.9; // Intake duct efficiency\n",
"eff_c=0.89; // Compressor efficiency\n",
"eff_T=0.93; // Turbine efficiency\n",
"eff_m=0.98; // Mechanical efficiency of transmission\n",
"\n",
"cj=ci\n",
"T_01=Ta+(ci^2/(2*Cpa*10^3));\n",
"p_01=pa*(T_01/Ta)^(r/(r-1));\n",
"p01=eff_ram*(p_01-pa);\n",
"p02=rp*p01;\n",
"T01=T_01;\n",
"T_02=T01*rp^((r-1)/r);\n",
"T02=T01+(T_02-T01)/(eff_c);\n",
"T_04=T03*(1/rp)^((rg-1)/rg);\n",
"T04=T03-eff_T*(T03-T_04);\n",
"WN=Cpg*(T03-T04)-Cpa*(T02-T01)/eff_m;// net work done\n",
"eff_th=WN/(Cpg*(T03-T02)); // Thermal efficiency\n",
"\n",
"disp ('kJ/kg   (roundoff error)',WN,'Net work done = ');\n",
"disp ('%',eff_th*100,'Thermal efficiency = ');"
   ]
   }
,
{
		   "cell_type": "markdown",
		   "metadata": {},
		   "source": [
			"## Example 7.7: Determination_of_rate_of_fuel_consumption.sce"
		   ]
		  },
  {
"cell_type": "code",
	   "execution_count": null,
	   "metadata": {
	    "collapsed": true
	   },
	   "outputs": [],
"source": [
"clc;\n",
"pa=0.7; // Ambient pressure in bar\n",
"Ta=1+273; // Ambient temperature in kelvin\n",
"Ci=800*1000/3600; // Speed of the aircraft in m/s\n",
"rp=5;// Pressure ratio\n",
"eff_ram=1.00; // Intake duct efficiency\n",
"eff_c=0.85; // Compressor efficiency\n",
"eff_T=0.90; // Turbine efficiency\n",
"eff_comb=0.98; //Combustion efficiency \n",
"eff_nozzle=0.95; // Nozzle efficiency\n",
"rp_T=2.23;// Turbine pressure ratio\n",
"CV=43; // Low calorific value in MJ/kg\n",
"Cpa=1.005;// Specific heat of air  at constant pressure in kJ/kg K\n",
"Cpg=1.005;// Specific heat of fuel at constant pressure in kJ/kg K\n",
"rg=1.4;// Specific heat ratio of fuel\n",
"r=1.4; // Specific heat ratio of air\n",
"R=287; // Characteristic gas constant in J/kg K\n",
"F=25000; // Thrust in N\n",
"\n",
"cj=2*Ci;\n",
"T_01=Ta+(Ci^2/(2*Cpa*10^3));\n",
"T01=T_01;\n",
"T02=T01+(T01*(((rp)^((r-1)/r))-1))/eff_c;\n",
"p_01=pa*(1+Ci^2/(2*Cpa*10^3*Ta))^(r/(r-1));\n",
"p01=eff_ram*(p_01-pa);\n",
"p02=rp*p01;\n",
"T03=(T02-T01)/(eff_T*(1-1/rp_T^((r-1)/r)));\n",
"ma=F/(cj-Ci);\n",
"// Neglecting the effect of the mass addition of fuel on the right hand side\n",
"mf=(ma*Cpa*(T03-T02))/(eff_comb*CV*10^3);\n",
"\n",
"disp ('kg/s',ma,'Mass flow rate of air = ');\n",
"disp ('kg/s   (roundoff error)',mf,'Mass flow rate of fuel = ');"
   ]
   }
,
{
		   "cell_type": "markdown",
		   "metadata": {},
		   "source": [
			"## Example 7.8: Calculation_of_the_take_off_thrust.sce"
		   ]
		  },
  {
"cell_type": "code",
	   "execution_count": null,
	   "metadata": {
	    "collapsed": true
	   },
	   "outputs": [],
"source": [
"clc;\n",
"Ta=288; // Ambient temperature in kelvin\n",
"pa=1.01; // Ambient pressure in bar\n",
"p04=2.4; // Stagnation pressure in bar\n",
"T04=1000;// Stagnation temperature in kelvin\n",
"m=23; // Mass flow rate in kg/s\n",
"rp=1.75; // Pressure ratio\n",
"eff_f=0.88 ; // Efficiency of the fan\n",
"eff_ft=0.9; // Efficiency of the fan turbine\n",
"Cpa=1.005;// Specific heat of air  at constant pressure in kJ/kg K\n",
"Cpg=1.147;// Specific heat of fuel at constant pressure in kJ/kg K\n",
"rg=1.33;// Specific heat ratio of fuel\n",
"r=1.4; // Specific heat ratio of air\n",
"R=284.6; // Characteristic gas constant in J/kg K\n",
"T01=Ta;\n",
"p01=pa;\n",
"pc=p04*(2/(r+1))^(r/(r-1));\n",
"// since pc>pa the nozzle will choke\n",
"Tc=T04*(2/(r+1));\n",
"row_c=pc*10^5/(R*Tc);\n",
"cj=sqrt (r*R*Tc);\n",
"A=m/(row_c*cj);\n",
"p1=pa;\n",
"F=m*cj+(A*(pc-p1)*10^5);\n",
"// For fan engine\n",
"T_02=T01*(rp)^((r-1)/r);\n",
"T02=T01+(T_02-T01)/eff_f;\n",
"// For cold nozzle\n",
"m_nozzle=2*m; // Flow through cold nozzle\n",
"pc1=p01*rp*(2/(r+1))^(r/(r-1));\n",
"F_cold=m_nozzle*sqrt (2*Cpa*10^3*(T02-T01));\n",
"// Fan Turbine\n",
"T05=T04-((m_nozzle*Cpa*(T02-T01))/(m*Cpg));\n",
"T_05=T04-(T04-T05)/eff_ft;\n",
"p_05=p04*(T_05/T04)^(rg/(rg-1));\n",
"pc=p_05*(2/(rg+1))^(rg/(rg-1));\n",
"F_hot=m*sqrt (2*Cpg*10^3*(T05-T01));\n",
"Takeoffthrust= F_cold + F_hot;\n",
"\n",
"disp ('m^2   (roundoff error)',A,'Nozzle Exit area = ');\n",
"disp ('N   (roundoff error)',F,'Total Thrust = ');\n",
"disp ('N   (roundoff error)',Takeoffthrust,'Take-off Thrust = ');"
   ]
   }
,
{
		   "cell_type": "markdown",
		   "metadata": {},
		   "source": [
			"## Example 7.9: Calculation_of_thrust_provided_by_the_engine_and_the_thrust_power_developed.sce"
		   ]
		  },
  {
"cell_type": "code",
	   "execution_count": null,
	   "metadata": {
	    "collapsed": true
	   },
	   "outputs": [],
"source": [
"clc;\n",
"ma=18.2; // Massflow rater in m/s\n",
"Mi=0.6; // Mach number \n",
"pa=0.55; // Ambient pressure in bar\n",
"Ta=255; // Ambient temperature in kelvin\n",
"rp=5; // Pressure ratio\n",
"T03=1273; // Maximum temperature in kelvin\n",
"eff_c=0.81; // Compressor efficiency\n",
"eff_T=0.85; // Turbine efficiency\n",
"eff_nozzle=0.915; // Nozzle efficiency\n",
"eff_ram=0.9; // Intake duct efficiency\n",
"CV=45870; // Low calorific value in kJ/kg\n",
"Cpa=1.005;// Specific heat of air  at constant pressure in kJ/kg K\n",
"Cpg=1.147;// Specific heat of fuel at constant pressure in kJ/kg K\n",
"rg=1.33;// Specific heat ratio of fuel\n",
"r=1.4; // Specific heat ratio of air\n",
"R=284.6; // Characteristic gas constant in J/kg K\n",
"\n",
"ci=Mi*sqrt(r*R*Ta);\n",
"T_01=Ta+ci^2/(2*Cpa*10^3);\n",
"T01=T_01;\n",
"p_01=pa*(T01/Ta)^(r/(r-01));\n",
"p01=eff_ram*(p_01-pa)+pa;\n",
"p02=rp*p01;\n",
"T02=T01*(1+((rp^((r-1)/r))-1)/eff_c);\n",
"Wc=ma*Cpa*(T02-T01);\n",
"WT=Wc;\n",
"mf=ma/((CV/(Cpg*(T03-T02)))-1);\n",
"f1=mf/ma;\n",
"T04=T03-(WT/((ma+mf)*Cpg));\n",
"rp_T=(1/(1-((1-(T04/T03))/eff_T)))^(r/(r-1));\n",
"p03=p02;\n",
"p04=p03/rp_T;\n",
"p04_pc=1/(1-((rg-1)/((rg+1)*eff_nozzle)))^(rg/(rg-1));\n",
"pc=p04_pc/p04;\n",
"Tc=T04*(1/p04_pc)^((rg-1)/rg);\n",
"cj=sqrt (r*R*Tc);\n",
"row_c=pc*10^5/(R*Tc);\n",
"An=(ma+mf)/(row_c*cj);\n",
"F=(ma+mf)*cj-ma*ci+An*(pc-pa);\n",
"Fp=F*ci;\n",
"\n",
"disp ('kW   (roundoff error)',Wc,'Work of compression = ');\n",
"disp ('kW   (roundoff error)',WT,'Power output of the turbine = ');\n",
"disp (f1,'Fuel-Air ratio = ');\n",
"disp ('N   (roundoff error)',F,'Thrust = ');\n",
"disp ('kW   (roundoff error)',Fp/1000,'Thrust power = ');"
   ]
   }
],
"metadata": {
		  "kernelspec": {
		   "display_name": "Scilab",
		   "language": "scilab",
		   "name": "scilab"
		  },
		  "language_info": {
		   "file_extension": ".sce",
		   "help_links": [
			{
			 "text": "MetaKernel Magics",
			 "url": "https://github.com/calysto/metakernel/blob/master/metakernel/magics/README.md"
			}
		   ],
		   "mimetype": "text/x-octave",
		   "name": "scilab",
		   "version": "0.7.1"
		  }
		 },
		 "nbformat": 4,
		 "nbformat_minor": 0
}
