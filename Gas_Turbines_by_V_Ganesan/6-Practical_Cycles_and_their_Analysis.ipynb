{
"cells": [
 {
		   "cell_type": "markdown",
	   "metadata": {},
	   "source": [
       "# Chapter 6: Practical Cycles and their Analysis"
	   ]
	},
{
		   "cell_type": "markdown",
		   "metadata": {},
		   "source": [
			"## Example 6.10: Plotting_variation_of_Isentropic_efficiency_over_a_range_of_pressure_ratio.sce"
		   ]
		  },
  {
"cell_type": "code",
	   "execution_count": null,
	   "metadata": {
	    "collapsed": true
	   },
	   "outputs": [],
"source": [
"clc;\n",
"eff_C=0.85; // Isentropic efficiency of the compressor\n",
"rp=4; // Pressure ratio\n",
"r=1.4; // specific heat ratio\n",
"eff_pc=(((r-1)/r)*log (rp))/log (((rp^((r-1)/r)-1)/eff_C)+1);\n",
"disp ('%',eff_pc*100,'Polytropic efficiency = ');\n",
"disp ('variation of compressor efficiency with compression ratio is shown in window1');\n",
"xset('window',1);\n",
"function eff_c=f(rc)\n",
"    eff_c=(rc^0.286-1)/(rc^0.326-1);\n",
"endfunction\n",
"rc=linspace (2,10,4);\n",
"plot(rc,f);\n",
"title ('variation of compressor efficiency with compression ratio','fontsize',4,'color','blue');\n",
"xlabel('compression ratio (rc)','fontsize',4,'color','blue');\n",
"ylabel ('Compressor efficiency','fontsize',4,'color','blue');"
   ]
   }
,
{
		   "cell_type": "markdown",
		   "metadata": {},
		   "source": [
			"## Example 6.11: EX6_11.sce"
		   ]
		  },
  {
"cell_type": "code",
	   "execution_count": null,
	   "metadata": {
	    "collapsed": true
	   },
	   "outputs": [],
"source": [
"clc;\n",
"eff_pe=0.88; // Compressor and turbine polytropic efficiencies\n",
"T01=310; // Temperature at LP compressor inlet in kelvin\n",
"p01=14; // Pressure at LP compressor inlet in bar\n",
"rp=2; // Compressor pressure ratio\n",
"T03=300;// Temperature at HP compressor inlet in kelvin\n",
"m=180; // Mass flow of Helium in kg/s\n",
"Q=500; // Heat input to gas turbine in MW\n",
"T07=700; // Helium Temperature at entry to reactor channels in kelvin\n",
"P_precoller=0.34; // Pressure loss in pre-cooler and intercooler in bar\n",
"P_loss_HE=0.27; // Pressure loss in heat exchanger in bar\n",
"P_loss_RC=1.03; // Pressure loss in reactor channel in bar\n",
"eff_pc=0.88; // Polytropiic efficiency\n",
"Cp=5.19;// Specific heat   at constant pressure in kJ/kg K\n",
"r=1.66; // Specific heat ratio \n",
"\n",
"n_1_n=((r-1)/r)*(1/eff_pc);\n",
"T02=T01*rp^n_1_n;\n",
"T04=T03*rp^n_1_n;\n",
"T05=((Q*10^3)/(m*Cp))+T07;\n",
"T_press_loss=P_precoller+P_loss_HE+P_loss_RC; // Total pressure loss\n",
"p05=56-T_press_loss;\n",
"p06=p01+P_precoller+P_loss_HE;\n",
"n__1_n=eff_pc*((r-1)/r);\n",
"T06=T05/(p05/p06)^n__1_n;\n",
"WC=m*Cp*((T02-T01)+(T04-T03)); // Work of compressor\n",
"WT=m*Cp*(T05-T06); // Work of Turbine\n",
"WN=WT-WC; // Net work output\n",
"eff_th=WN/(Q*10^3); // Efficiency\n",
"eff=(T07-T04)/(T06-T04); // Effectiveness\n",
"\n",
"disp ('MW   (roundoff error)',WN/1000,'Power output = ');\n",
"disp ('%   (roundoff error)',eff_th*100,'Thermal efficiency = ');\n",
"disp ('%   (roundoff error)',eff*100,'Effectiveness = ');"
   ]
   }
,
{
		   "cell_type": "markdown",
		   "metadata": {},
		   "source": [
			"## Example 6.12: Calculation_of_the_isentropic_efficiency_of_the_turbine_and_the_mass_flow_of_air.sce"
		   ]
		  },
  {
"cell_type": "code",
	   "execution_count": null,
	   "metadata": {
	    "collapsed": true
	   },
	   "outputs": [],
"source": [
"clc;\n",
"rp=4; // Pressure ratio\n",
"WN=1500; // Net work output in kW\n",
"T01=25+273; // Inlet temperature in kelvin\n",
"p01=1; // Inlet pressure in bar\n",
"p03=4; // Turbine inlet pressure in bar\n",
"T03=700+273;// turbine inlet temperature in kelvin\n",
"eff_c=0.85; // Compressor efficiency\n",
"eff_over=0.21; // Overall efficiency\n",
"Cp=1.005;// Specific heat of air  at constant pressure in kJ/kg K\n",
"r=1.4; // Specific heat ratio of air\n",
"\n",
"T02=T01+T01*(rp^((r-1)/r)-1)/eff_c;\n",
"Q=WN/eff_over;\n",
"m=Q/(Cp*(T03-T02));\n",
"Wn=WN/m; // Net work per kg\n",
"T04=T03-T02+T01-(Wn/Cp);\n",
"T_04=T03/rp^((r-1)/r);\n",
"eff_T=(T03-T04)/(T03-T_04);\n",
"\n",
"disp ('kg/s',m,'Mass flow rate = ');\n",
"disp ('%',eff_T*100,'Isentropic efficiency  of the Turbine = ');"
   ]
   }
,
{
		   "cell_type": "markdown",
		   "metadata": {},
		   "source": [
			"## Example 6.13: Determination_of_pressure_of_the_gas_entering_the_low_pressure_turbine.sce"
		   ]
		  },
  {
"cell_type": "code",
	   "execution_count": null,
	   "metadata": {
	    "collapsed": true
	   },
	   "outputs": [],
"source": [
"clc;\n",
"rp=4; // Pressure ratio\n",
"eff_c=0.86; // Compressor efficiency\n",
"eff_Thp=0.84;// High pressure turbine efficiency\n",
"eff_Tlp=0.8;// Low pressure turbine efficiency\n",
"eff_M=0.92; // Mechanical efficiency\n",
"T03=660+273; // in kelvin\n",
"T05=625+273; // In kelvin\n",
"T01=15+273; // Inlet temperature in kelvin\n",
"p01=1; // Inlet pressure in bar\n",
"Cp=1.005;// Specific heat of air  at constant pressure in kJ/kg K\n",
"r=1.4; // Specific heat ratio of air\n",
"eff= 0.75; // Heat exchanger effectiveness\n",
"\n",
"T_02=T01*(rp)^((r-1)/r);\n",
"T02=((T_02-T01)/eff_c)+T01;\n",
"T04=T03-((T02-T01)/eff_M);\n",
"// In HP turbine\n",
"T_04=T03-((T03-T04)/eff_Thp);\n",
"p_04=rp/(T03/T_04)^(r/(r-1));\n",
"// In LP turbine\n",
"p05=p_04;p_06=p01;\n",
"T_06=T05/(p05/p_06)^((r-1)/r);\n",
"T06=T05-(eff_Tlp*(T05-T_06));\n",
"T07=T02+eff*(T06-T02);\n",
"Q=Cp*(T03-T07+T05-T04);\n",
"Wc=Cp*(T02-T01);\n",
"WT=Cp*(T03-T04+T05-T06);\n",
"eff_th=(WT-Wc)/Q;\n",
"\n",
"disp ('bar',p_04,'(i).Pressure of gas entering low pressure turbine = ');\n",
"disp ('%',eff_th*100,'Overall efficiency = ');"
   ]
   }
,
{
		   "cell_type": "markdown",
		   "metadata": {},
		   "source": [
			"## Example 6.14: Calculation_of_pressure_ratio_and_cycle_efficiency.sce"
		   ]
		  },
  {
"cell_type": "code",
	   "execution_count": null,
	   "metadata": {
	    "collapsed": true
	   },
	   "outputs": [],
"source": [
"clc;\n",
"T01=38+273; // Inlet temperature of compressor in kelvin\n",
"eff_c=0.82; // Compressor efficiency\n",
"T03=650+273; // Turbine inlet temperature in kelvin\n",
"eff_T=0.8; // Turbine efficiency\n",
"Cpa=1.005;// Specific heat of air  at constant pressure in kJ/kg K\n",
"Cpg=1.147;// Specific heat of fuel at constant pressure in kJ/kg K\n",
"rg=1.33;// Specific heat ratio of fuel\n",
"r=1.4; // Specific heat ratio of air\n",
"\n",
"t=T03/T01;\n",
"// For maximun specific work we know that\n",
"ropt=(sqrt (t*eff_c*eff_T))^(r/(r-1));\n",
"T_02=T01*ropt^((r-1)/r);\n",
"T02=T01+(T_02-T01)/eff_c;\n",
"T_04=T03/ropt^((rg-1)/rg);\n",
"T04=T03-eff_T*(T03-T_04);\n",
"eff_th=((Cpg*(T03-T04))-(Cpa*(T02-T01)))/(Cpg*(T03-T02));\n",
"\n",
"disp (ropt,'Optimum pressure ratio = ');\n",
"disp ('%',eff_th*100, 'Overall efficiency = ');"
   ]
   }
,
{
		   "cell_type": "markdown",
		   "metadata": {},
		   "source": [
			"## Example 6.15: Estimation_of_the_temperature_of_the_gases_at_entry_to_the_turbine.sce"
		   ]
		  },
  {
"cell_type": "code",
	   "execution_count": null,
	   "metadata": {
	    "collapsed": true
	   },
	   "outputs": [],
"source": [
"clc;\n",
"p01=1; // Stagnation pressure at entry in bar\n",
"pa=0.93; // Static pressure at entry in bar\n",
"T1=10+273;// Static temperature in entry in kelvin\n",
"p02=6; // Pressure at state 2 in bar\n",
"T02=230+273; // Temperature at state 2 in kelvin\n",
"P=5100; // Turbine output power in kW\n",
"A=0.1; // Compressor entry area in m^2\n",
"Cpa=1.005;// Specific heat of air  at constant pressure in kJ/kg K\n",
"Cpg=1.147;// Specific heat of fuel at constant pressure in kJ/kg K\n",
"rg=1.33;// Specific heat ratio of fuel\n",
"r=1.4; // Specific heat ratio of air\n",
"R=287; // Characteristic constant in J/kg K\n",
"T04=460+273; // Exhaust pipe temperature in kelvin\n",
"\n",
"M=sqrt (((p01/pa)^((r-1)/r)-1)/((r-1)/2));\n",
"T01=T1*(1+(r-1)/2*M^2);\n",
"T_02=T01*(p02/p01)^((r-1)/r);\n",
"eff_c=(T_02-T01)/(T02-T01);\n",
"row_s=(pa*10^5)/(R*T1);\n",
"a=sqrt (r*R*T1);\n",
"V=M*a;\n",
"m=row_s*A*V;\n",
"T03=(P/(m*Cpg))+T04;\n",
"\n",
"disp ('%',eff_c*100,'Compressor efficiency = ');\n",
"disp ('kg/s',m,'Mass flow rate = ');\n",
"disp ('K   (roundoff error)',T03,'Turbine inlet stagnation temperature = ');"
   ]
   }
,
{
		   "cell_type": "markdown",
		   "metadata": {},
		   "source": [
			"## Example 6.16: Calculation_of_efficiency_and_work_ratio_of_modern_turbines_and_old_turbines.sce"
		   ]
		  },
  {
"cell_type": "code",
	   "execution_count": null,
	   "metadata": {
	    "collapsed": true
	   },
	   "outputs": [],
"source": [
"clc;\n",
"T01=27+273; // Inlet temperature in kelvin\n",
"p01=1; // Inlet pressure in bar\n",
"rp=3; // Pressure ratio\n",
"Cpa=1.005;// Specific heat of air  at constant pressure in kJ/kg K\n",
"Cpg=1.147;// Specific heat of fuel at constant pressure in kJ/kg K\n",
"rg=1.33;// Specific heat ratio of fuel\n",
"r=1.4; // Specific heat ratio of air\n",
"R=287; // Characteristic constant in J/kg K\n",
"\n",
"T_02=T01*rp^((r-1)/r);\n",
"// Turbines 70 years ago\n",
"eff_c=0.65; // Compressor efficiency \n",
"eff_T=0.7; // Turbine efficiency\n",
"T03=700+273; // in kelvin\n",
"T02=T01*(1+((rp^((r-1)/r)-1)/eff_c));\n",
"T04=T03*(1-eff_T*(1-(1/rp^((rg-1)/rg))));\n",
"eff_th=(Cpg*(T03-T04)-Cpa*(T02-T01))/(Cpg*(T03-T02));\n",
"WR=(Cpg*(T03-T04)-Cpa*(T02-T01))/(Cpg*(T03-T04));\n",
"\n",
"disp (WR,'Work ratio = ',eff_th*100,'The Efficiency = ','(i).70 years ago');\n",
"\n",
"//Modern turbines\n",
"eff_c=0.85; // Compressor efficiency \n",
"eff_T=0.9; // Turbine efficiency\n",
"T03=1000+273; // in kelvin\n",
"T02=T01+(T_02-T01)/eff_c;\n",
"T_04=T03/rp^((rg-1)/rg);\n",
"T04=T03-eff_T*(T03-T_04);\n",
"Wc=Cpa*(T02-T01);\n",
"WT=Cpg*(T03-T04);\n",
"WN=WT-Wc;\n",
"eff_th=WN/(Cpg*(T03-T02));\n",
"WR=WN/WT;\n",
"\n",
"disp (WR,'Work ratio = ','%',eff_th*100,'The Efficiency = ','(ii).Modern turbines');"
   ]
   }
,
{
		   "cell_type": "markdown",
		   "metadata": {},
		   "source": [
			"## Example 6.17: Determination_of_necessary_mass_flow_rate.sce"
		   ]
		  },
  {
"cell_type": "code",
	   "execution_count": null,
	   "metadata": {
	    "collapsed": true
	   },
	   "outputs": [],
"source": [
"clc;\n",
"rp=7; // Pressure ratio\n",
"T03=1000; // Maximum temperature in kelvin\n",
"eff_c=0.85; // Compressor efficiency\n",
"eff_T=0.9; // Turbine efficiency\n",
"T01=288; // Air entering temperature in kelvin\n",
"PN=750; // Power output in kW\n",
"Cpa=1.005;// Specific heat of air  at constant pressure in kJ/kg K\n",
"Cpg=1.147;// Specific heat of fuel at constant pressure in kJ/kg K\n",
"rg=1.33;// Specific heat ratio of fuel\n",
"r=1.4; // Specific heat ratio of air\n",
"R=287; // Characteristic constant in J/kg K\n",
"\n",
"// Actual cycle\n",
"T02=T01*(1+((rp^((r-1)/r)-1)/eff_c));\n",
"T04=T03*(1-(eff_T*(1-(1/rp^((r-1)/r)))));\n",
"WN_a=(Cpa*(T03-T04)-Cpa*(T02-T01));\n",
"eff_th=WN_a/(Cpa*(T03-T02));\n",
"disp ('%',eff_th*100,'The Efficiency = ','kJ/kg',WN_a,'Net work = ','(i).Actual cycles');\n",
"\n",
"// Ideal cycle\n",
"WN=Cpa*((T03*(1-(1/rp^((r-1)/r))))-T01*((rp^((r-1)/r)-1)));\n",
"eff_th=1-(1/rp^((r-1)/r));\n",
"ma=PN/WN_a;\n",
"\n",
"disp ('kg/s',ma,'Mass flow rate  = ','%',eff_th*100,'The Efficiency = ','kJ/kg',WN,'Net work = ','(ii).Ideal cycles');"
   ]
   }
,
{
		   "cell_type": "markdown",
		   "metadata": {},
		   "source": [
			"## Example 6.18: EX6_18.sce"
		   ]
		  },
  {
"cell_type": "code",
	   "execution_count": null,
	   "metadata": {
	    "collapsed": true
	   },
	   "outputs": [],
"source": [
"clc;\n",
"m=5; // Mass flow rate in kg/s\n",
"p01=1; // Pressure at state 1 in bar\n",
"p02=5; // Pressure at state 2 in bar\n",
"eff_c=0.85;// Compressor efficiency\n",
"eff_Thp=0.87; // High pressure turbine efficiency\n",
"eff_Tlp=0.82; // Low pressure turbine efficiency\n",
"T03=675+273; // HP turbine inlet temperature in kelvin\n",
"eff=0.7; // Effectiveness of the heat exchanger\n",
"T01=15+273; // Temperature at state 1 in kelvin\n",
"Cpa=1.005;// Specific heat of air  at constant pressure in kJ/kg K\n",
"r=1.4; // Specific heat ratio of air\n",
"R=287; // Characteristic constant in J/kg K\n",
"p03=p02;\n",
"\n",
"T_02=T01*(p02/p01)^((r-1)/r);\n",
"T02=T01+(T_02-T01)/eff_c;\n",
"T04=T01-T02+T03;\n",
"T_04=T03-(T03-T04)/eff_Thp;\n",
"p04=p03/(T03/T_04)^(r/(r-1));\n",
"p05=p01;\n",
"T_05=T04/(p04/p05)^((r-1)/r);\n",
"T05=T04-eff_Tlp*(T04-T_05);\n",
"T0x=eff*(T05-T02)+T02;\n",
"Wlpt=Cpa*(T04-T05);\n",
"Plpt=Wlpt*m;\n",
"Q=Cpa*(T03-T0x);\n",
"eff_th=Wlpt/Q;\n",
"\n",
"disp ('Intermediate pressure p04 and temperature T04 between the two turbine stages ');\n",
"disp ('K',T04,'To4 = ','bar',p04,'P04 = ');\n",
"disp ('kW',Plpt,'Power output of LP turbine = ');\n",
"disp ('kJ/kg',Q,'Heat supplied = ');\n",
"disp ('%',eff_th*100,'The Overall efficiency = ');"
   ]
   }
,
{
		   "cell_type": "markdown",
		   "metadata": {},
		   "source": [
			"## Example 6.19: EX6_19.sce"
		   ]
		  },
  {
"cell_type": "code",
	   "execution_count": null,
	   "metadata": {
	    "collapsed": true
	   },
	   "outputs": [],
"source": [
"clc;\n",
"rlp=3; // Pressure ratio\n",
"rhp=rlp;\n",
"eff_c=0.82; // Compressor efficiency\n",
"T04=650+273; // Temperature at state 4 in kelvin\n",
"T05=540+273; // Temperature at state 5 in kelvin\n",
"eff_T=0.87; // Efficiency of turbine\n",
"T01=15+273; // Temperature at compressor inlet in kelvin\n",
"Cpa=1.005;// Specific heat of air  at constant pressure in kJ/kg K\n",
"Cpg=1.147;// Specific heat of fuel at constant pressure in kJ/kg K\n",
"rg=1.33;// Specific heat ratio of fuel\n",
"r=1.4; // Specific heat ratio of air\n",
"\n",
"T02=T01*(1+(rlp^((r-1)/r)-1)/eff_c);\n",
"T03=T02*(1+(rhp^((r-1)/r)-1)/eff_c);\n",
"T_06=T05/(rlp)^(2*(rg-1)/rg);\n",
"T06=T05-eff_T*(T05-T_06);\n",
"x1=1-((T02-T01)/(((Cpg/Cpa)*(T05-T06)-(T03-T02))));\n",
"x=abs (x1);\n",
"T07=T04*(1-(eff_T*(1-(1/rhp^((rg-1)/rg)))));\n",
"eff_th=(x*Cpg*(T04-T07))/((1-x)*Cpg*(T05-T03)+x*Cpg*(T04-T02));\n",
"\n",
"disp ('%',(x)*100,'Percentage of the total air intake that passes to the power turbine = ');\n",
"disp ('%   (Roundoff error)',(eff_th)*100,'The overall efficiency = ');\n",
""
   ]
   }
,
{
		   "cell_type": "markdown",
		   "metadata": {},
		   "source": [
			"## Example 6.1: Calculation_of_Net_power_and_overall_efficiency_of_installation.sce"
		   ]
		  },
  {
"cell_type": "code",
	   "execution_count": null,
	   "metadata": {
	    "collapsed": true
	   },
	   "outputs": [],
"source": [
"clc;\n",
"p01=1; // Pressure at state 1 in bar\n",
"T01=30+273; // Temperature at state 1 in kelvin\n",
"p02=6; // Pressure of air after compressed in bar\n",
"eff_c=0.87; // Isentropic efficiency of compressor\n",
"T03=700+273; // Temperature at state 3 in kelvin\n",
"eff_T=0.85; // Isentropic efficiency of the turbine \n",
"CV=43.1; // calorific value of fuel in MJ/kg\n",
"ma=80; // Mass flow rate of air in kg/min\n",
"\n",
"Cpa=1.005;// Specific heat of air  at constant pressure in kJ/kg K\n",
"Cpg=1.147;// Specific heat of fuel at constant pressure in kJ/kg K\n",
"rg=1.33;// Specific heat ratio of fuel\n",
"r=1.4; // Specific heat ratio of air\n",
"T_02=T01*(p02/p01)^((r-1)/r); // from T-S diagram\n",
"T02=T01+(T_02-T01)/eff_c; // Temperature after compression\n",
"// Neglecting the addition of fuel in the combustion chamber we have mf+ma=ma\n",
"mf=(ma/60)*Cpg*(T03-T02)/(CV*10^3);\n",
"ma_mf=(ma/60)*(1/mf); // Air fuel ratio\n",
"A_F=ma_mf;\n",
"p04=p01;p03=p02;\n",
"T_04=T03*(p04/p03)^((rg-1)/rg);\n",
"T04=T03-eff_T*(T03-T_04);\n",
"WN=(ma/60)*Cpg*(T03-T04)-(ma/60)*Cpa*(T02-T01); //The net power of installation\n",
"eff_th=WN/(mf*CV*10^3); // The overall thermal efficiency\n",
"\n",
"disp (A_F,'(i).Air fuel ratio of the turbine gases = ');\n",
"disp ('K',T04,'(ii).The final temperature of exhaust gases = ');\n",
"disp ('kW',WN,'(iii).The net power of installation = ');\n",
"disp ('%',eff_th*100,'(iv).The overall thermal efficiency = ');"
   ]
   }
,
{
		   "cell_type": "markdown",
		   "metadata": {},
		   "source": [
			"## Example 6.20: Calculation_of_the_Thermal_efficiency.sce"
		   ]
		  },
  {
"cell_type": "code",
	   "execution_count": null,
	   "metadata": {
	    "collapsed": true
	   },
	   "outputs": [],
"source": [
"clc;\n",
"rp=2; // Pressure ratio\n",
"T01=15+273; // Inlet temperature in kelvin\n",
"p01=1; // Inlet pressure in bar\n",
"T05=700+273; // Temperature at state 5 in kelvin\n",
"T07=T05;\n",
"eff_c=0.85; // compressor efficiency\n",
"eff_T=0.85; // Turbine efficiency\n",
"eff=0.5; // Effectiveness of heat exchanger\n",
"Cp=1.147;// Specific heat at constant pressure in kJ/kg K\n",
"rg=1.33;// Specific heat ratio of fuel\n",
"r=1.4; // Specific heat ratio of air\n",
"\n",
"T03=T01;\n",
"// p02/p01=p04/p03=rp\n",
"//p04/p01=p05/p08=rp^2\n",
"T_02=T01*(rp)^((r-1)/r);\n",
"T02=T01+(T_02-T01)/eff_c;\n",
"T04=T02;\n",
"T_06=T05/rp^((rg-1)/rg);\n",
"T06=T05-eff_T*(T05-T_06);\n",
"T08=T06;\n",
"T09=T04+eff*(T08-T04);\n",
"WN=Cp*(T07-T08);\n",
"Q=Cp*(2*T05-T06-T09);\n",
"eff_th=WN/Q;\n",
"\n",
"disp ('kJ/kg',WN,'Net work done = ');\n",
"disp ('%',eff_th*100,'The overall efficiency = ');"
   ]
   }
,
{
		   "cell_type": "markdown",
		   "metadata": {},
		   "source": [
			"## Example 6.21: Calculation_of_cycle_thermal_efficiency.sce"
		   ]
		  },
  {
"cell_type": "code",
	   "execution_count": null,
	   "metadata": {
	    "collapsed": true
	   },
	   "outputs": [],
"source": [
"clc;\n",
"T01=270+273; // Temperature at state 1 in kelvin\n",
"T03=T01;\n",
"p01=1; // Inlet pressure in bar\n",
"rp=6; // Pressure ratio\n",
"eff_c=0.85; // Compressor efficiency\n",
"T05=1150+273; // Temperature at inlet to expansion in kelvin\n",
"eff_T=0.9; // Turbine efficiency\n",
"n=1.24; // Polytropic index\n",
"R=10.05; // in kJ/kg K\n",
"\n",
"T_02=T01*rp^((n-1)/n);\n",
"T02=T01+(T_02-T01)/eff_c;\n",
"Cv=R/(n-1);\n",
"Cp=R+Cv;\n",
"Wc=2*Cp*(T02-T01);\n",
"T_06=T05/rp^((n-1)/n);\n",
"T06=T05-eff_T*(T05-T_06);\n",
"WT=2*Cp*(T05-T06);\n",
"Q=Cp*(T05-T02)+Cp*(T05-T06);\n",
"WN=WT-Wc;\n",
"eff_th=WN/Q;\n",
"\n",
"disp ('%',eff_th*100,'The Cycle efficiency = ');"
   ]
   }
,
{
		   "cell_type": "markdown",
		   "metadata": {},
		   "source": [
			"## Example 6.2: Calculation_of_ratio_of_compressor_to_turbine_work.sce"
		   ]
		  },
  {
"cell_type": "code",
	   "execution_count": null,
	   "metadata": {
	    "collapsed": true
	   },
	   "outputs": [],
"source": [
"clc;\n",
"p01=1; // Air inlet pressure in bar\n",
"T01=7+273;// Air inlet temperature in kelvin\n",
"p02=4; // Pressure at state 2 in bar\n",
"eff_c=0.82;// Isentropic efficiency of compressor\n",
"T03=800+273; // Maximum temperature at the turbine inlet in kelvin\n",
"eff_T=0.85; // Isentropic efficiency of the turbine\n",
"CV=43.1; // calorific value of fuel in MJ/kg\n",
"Cpa=1.005;// Specific heat of air  at constant pressure in kJ/kg K\n",
"Cpg=1.147;// Specific heat of fuel at constant pressure in kJ/kg K\n",
"rg=1.33;// Specific heat ratio of fuel\n",
"r=1.4; // Specific heat ratio of air\n",
"LS=0.85;\n",
"mf=1; // Let assume mass of fuel to be 1 kg\n",
"\n",
"T_02=T01*(p02/p01)^((r-1)/r); // from T-S diagram\n",
"T02=T01+(T_02-T01)/eff_c; // Temperature after compression\n",
"Wc=Cpa*(T02-T01); // Work of compression\n",
"Q=Cpg*(T03-T02); // Heat supplied\n",
"p04=p01;p03=p02;\n",
"T_04=T03*(p04/p03)^((rg-1)/rg);\n",
"T04=T03-eff_T*(T03-T_04);\n",
"WT=Cpg*(T03-T04); // Turbine work\n",
"WN=WT-Wc; // Net work done\n",
"eff_th=WN/(Q/LS); // The thermal efficiency\n",
"ma_mf=(LS*CV*10^3/Q)-1; // AIR FUEL ratio\n",
"ma=mf*ma_mf;\n",
"sfc=(3600/(ma_mf*WN)); // specific fuel consumption\n",
"Wc_WT=(Wc*ma)/(WT*(ma+mf)); // work ratio\n",
"\n",
"disp ('kJ/kg of air',Wc,'(i).Compressor work = ');\n",
"disp ('kJ/kg of air',Q,'(ii).Heat supplied = ');\n",
"disp ('kJ/kg of air',WT,'(iii).Turbine work = ');\n",
"disp ('kJ/kg of air',WN,'(iv).Net work = ');\n",
"disp ('%',eff_th*100,'(v).Thermal Efficiency = ');\n",
"disp (ma_mf,'(vi).Air/Fuel ratio = ')\n",
"disp ('kg/kWh',sfc,'(vii).Specific fuel consumption =');\n",
"disp (Wc_WT,'(viii).Ratio of compressor work to turbine work = ');"
   ]
   }
,
{
		   "cell_type": "markdown",
		   "metadata": {},
		   "source": [
			"## Example 6.3: Calculation_of_effect_of_pressure_loss.sce"
		   ]
		  },
  {
"cell_type": "code",
	   "execution_count": null,
	   "metadata": {
	    "collapsed": true
	   },
	   "outputs": [],
"source": [
"clc;\n",
"eff_c=0.82; // Isentropic efficency of the compressor \n",
"eff_T=0.85; // Isentropic efficency of the turbine\n",
"eff_m=0.99; // Mechanical transmission efficiency\n",
"rp=7; // Pressure ratio\n",
"T03=1000; // Maximum cycle temperature in kelvin\n",
"eff_comb=0.97; // Combustion efficiency \n",
"CV=43.1; // Calorific value in MJ/kg\n",
"ma=20; // Air mass flow rate in kg/s\n",
"eff_reg=0.75; // Regenerator effectiveness\n",
"del_P=0.1; // Regenerator gas side pressure loss in bar\n",
"T01=327; // Ambient temperature in kelvin\n",
"p01=1; // Ambient pressure in bar\n",
"Cpa=1.005;// Specific heat of air  at constant pressure in kJ/kg K\n",
"Cpg=1.147;// Specific heat of fuel at constant pressure in kJ/kg K\n",
"rg=1.33;// Specific heat ratio of fuel\n",
"r=1.4; // Specific heat ratio of air\n",
"\n",
"//(i).With Regeneration and pressure loss\n",
"T_02=T01*(rp)^((r-1)/r);\n",
"T02=T01+(T_02-T01)/eff_c;\n",
"p04=p01+del_P;\n",
"p03=rp/p01;\n",
"T_04=T03*(p04/p03)^((rg-1)/rg);\n",
"T04_1=T03-eff_T*(T03-T_04);\n",
"T05=T02+eff_reg*(T04_1-T02);\n",
"mf1=(ma*Cpg*(T03-T05))/(CV*10^3*eff_comb); // By neglecting the effect of change in mass flow rate due to mf in combustion chamber\n",
"p03_p04_1=p03/p04;\n",
"WT1=(ma+mf1)*Cpg*(T03-T04_1); // Turbine work\n",
"WN1=(ma+mf1)*Cpg*(T03-T04_1)-(ma*Cpa*(T02-T01)/eff_m); // Net work output\n",
"sfc1=mf1*3600/WN1; // Specifc fuel consumption\n",
"eff_th1=WN1/(mf1*CV*10^3); // Thermal efficiency\n",
"\n",
"\n",
"\n",
"//(ii).Without Regenerator and without pressure loss\n",
"\n",
"p04=p01;\n",
"T_04=T03*(p04/p03)^((rg-1)/rg);\n",
"T04_2=T03-eff_T*(T03-T_04);\n",
"mf2=(ma*Cpg*(T03-T02))/(CV*10^3*eff_comb);\n",
"WT2=(ma*Cpg*(T03-T04_2));\n",
"WN2=(ma*Cpg*(T03-T04_2))-(ma*Cpa*(T02-T01)/eff_m); // Net work output\n",
"p03_p04_2=p03/p04;\n",
"sfc2=mf2*3600/WN2; // Specific fuel consumption\n",
"eff_th2=WN2/(mf2*CV*10^3); // Thermal efficiency\n",
"\n",
"\n",
"//(iii).With Regenerator and without pressure loss\n",
"T_02=T01*(rp)^((r-1)/r);\n",
"T02=T01+(T_02-T01)/eff_c;\n",
"p04=p01;\n",
"p03=rp/p01;\n",
"T_04=T03*(p04/p03)^((rg-1)/rg);\n",
"T04_3=T03-eff_T*(T03-T_04);\n",
"T05=T02+eff_reg*(T04_3-T02);\n",
"WT3=(ma*Cpg*(T03-T05));\n",
"mf3=(ma*Cpg*(T03-T05))/(CV*10^3*eff_comb); // By neglecting the effect of change in mass flow rate due to mf in combustion chamber\n",
"p03_p04_3=p03/p04;\n",
"WN3=(ma+mf3)*Cpg*(T03-T04_3)-(ma*Cpa*(T02-T01)/eff_m); // Net work output\n",
"sfc3=mf3*3600/WN3; // Specifc fuel consumption\n",
"eff_th3=WN3/(mf3*CV*10^3); // Thermal efficiency\n",
"\n",
"\n",
"printf('Quantities \t\t\t \t\tRegenerator \t\t\t\t\t\t Without');\n",
"printf ('\n\t\t\t\twith Del_P\t\twithout Del_P\t\t\t\tregenerator and Del_P');\n",
"printf ('\n\t\t\t\t(roundoff error)\t(roundoff error)\t\t\t(roundoff error)');\n",
"printf('\n\n P03/P04\t\t\t%f\t\t%f\t\t\t\t\t%f',p03_p04_1,p03_p04_3,p03_p04_2);\n",
"printf ('\n\nT04 (K)\t\t\t\t%f\t\t%f\t\t\t\t\t%f',T04_1,T04_3,T04_2);\n",
"printf ('\n\nmf (kg/s)\t\t\t%f\t\t%f\t\t\t\t\t%f',mf1,mf3,mf2);\n",
"printf ('\n\nWT (kW)\t\t\t\t%f\t\t%f\t\t\t\t\t%f',WT1,WT3,WT2);\n",
"printf ('\n\nsfc (kg/kW h)\t\t\t%f\t\t%f\t\t\t\t\t%f',sfc1,sfc3,sfc2);\n",
"printf ('\n\nefficiency (in percentage)\t%f\t\t%f\t\t\t\t\t%f',eff_th1*100,eff_th3*100,eff_th2*100);\n",
"\n",
"printf ('\n\nAs can be seen from the table that pressure loss plays a major role in the efficiency than the regenerator. \n\nHence,more care should be taken in the design to have minimum pressure loss.');"
   ]
   }
,
{
		   "cell_type": "markdown",
		   "metadata": {},
		   "source": [
			"## Example 6.4: Calculation_of_net_power_out_SFC_and_overall_Efficiency.sce"
		   ]
		  },
  {
"cell_type": "code",
	   "execution_count": null,
	   "metadata": {
	    "collapsed": true
	   },
	   "outputs": [],
"source": [
"clc;\n",
"eff_c=0.8; // Isentropic efficiency of compression each stage\n",
"eff_CT=0.88; // Isentropic efficiency of compressor turbine\n",
"eff_PT=0.88; // Isentropic efficiency of power turbine\n",
"eff_trans=0.98; // Turbine to compressor transmission efficiency\n",
"rp=3; // Pressure ratio in each stage of compression\n",
"T08=297; // Temperature after intercooler in kelvin\n",
"ma=15; // Air mass flow in kg/s\n",
"eff_reg=0.8; // Regenerator effectiveness\n",
"del_P=0.1; // Regenerator gas side pressure loss in bar\n",
"T01=327; // Ambient temperature in kelvin\n",
"p01=1; // Ambient pressure in bar\n",
"T03=1000; // Maximum cycle temperature in kelvin\n",
"CV=43.1; // Calorific value in MJ/kg\n",
"Cpa=1.005;// Specific heat of air  at constant pressure in kJ/kg K\n",
"Cpg=1.147;// Specific heat of fuel at constant pressure in kJ/kg K\n",
"rg=1.33;// Specific heat ratio of fuel\n",
"r=1.4; // Specific heat ratio of air\n",
"p03=rp^2; // Pressre at state 3 in bar\n",
"T_07=T01*(rp)^((r-1)/r);\n",
"T07=T01+(T_07-T01)/eff_c;\n",
"WLPC=ma*Cpa*(T07-T01); //  Work of low pressue compressor\n",
"T_02=T08*(rp)^((r-1)/r);\n",
"T02=T08+(T_02-T08)/eff_c;\n",
"WHPC=ma*Cpa*(T02-T08);\n",
"WC=WLPC+WHPC; // Compressor work\n",
"WCa=WC/eff_trans; // Actual compressor work\n",
"// Neglecting effect of mf\n",
"T09=T03-(WCa/(ma*Cpg));\n",
"T_09=T03-(T03-T09)/eff_PT;\n",
"p09=p03/(T03/T_09)^(rg/(rg-1));\n",
"p04=p01+del_P;\n",
"T_04=T09*(p04/p09)^((rg-1)/rg);\n",
"T04=T09-eff_PT*(T09-T_04);\n",
"WTP=ma*Cpg*(T09-T04); // Work output of power turbine\n",
"T05=T02+eff_reg*(T04-T02);\n",
"mf=(ma*Cpg*(T03-T05))/(CV*10^3);\n",
"sfc=mf*3600/(WTP);//Specifc fuel consumption\n",
"eff_th=WTP/(mf*CV*10^3); // Thermal efficiency\n",
"\n",
"\n",
"disp ('kW   (roundoff error)',WTP,'Work output of power turbine = ');\n",
"disp ('kg/kW h',sfc,'Specifc fuel consumption = ');\n",
"disp ('%',eff_th*100,'Thermal efficiency = ');"
   ]
   }
,
{
		   "cell_type": "markdown",
		   "metadata": {},
		   "source": [
			"## Example 6.5: Calculation_of_the_thermal_efficiency_and_air_rate.sce"
		   ]
		  },
  {
"cell_type": "code",
	   "execution_count": null,
	   "metadata": {
	    "collapsed": true
	   },
	   "outputs": [],
"source": [
"clc;\n",
"Wplant=1850; // Plant work output in KW\n",
"p01=1; // Ambient pressure in bar\n",
"T01=27+273; // Ambient temperature in kelvin\n",
"T03=720+273; // Maximum cycle temperature in kelvin\n",
"rp=2.5; // Pressure ratio\n",
"eff_T=0.80; // Turbine and compressor efficiency\n",
"eff_reg=0.75; // Regenerator effectiveness\n",
"eff_comb=0.98; // Combustion efficiency \n",
"CV=43.1; // Calorific value in MJ/kg\n",
"del_p=0.03; // Pressure drop\n",
"p02=6.25; // Pressure in bar\n",
"Cpa=1.005;// Specific heat of air  at constant pressure in kJ/kg K\n",
"Cpg=1.147;// Specific heat of fuel at constant pressure in kJ/kg K\n",
"rg=1.33;// Specific heat ratio of fuel\n",
"r=1.4; // Specific heat ratio of air\n",
"\n",
"T_07=T01*rp^((r-1)/r);\n",
"T07=T01+(T_07-T01)/eff_T;\n",
"T02=T07;\n",
"WLPC=Cpa*(T07-T01); // Work of low pressure compressor\n",
"WHPT=WLPC;\n",
"T09=T03-WHPT/Cpg;\n",
"T_09=T03-(T03-T09)/eff_T;\n",
"p03=(1-del_p)^2*p02\n",
"p09=p03/(T03/T_09)^(rg/(rg-1));\n",
"p10=p09*(1-del_p);\n",
"T10=T03;\n",
"p04=p01+del_p;\n",
"T_04=T10*(p04/p10)^((rg-1)/rg);\n",
"T04=T10-eff_T*(T10-T_04);\n",
"Wlpt=Cpg*(T10-T04);\n",
"WN=Wlpt-WHPT;\n",
"ma=Wplant/WN;\n",
"T05=T02+eff_reg*(T04-T02);\n",
"Q=Cpg*(T03-T05+T10-T09);\n",
"eff_th=WN/Q;\n",
"WHPT_1=ma*WHPT;\n",
"Wlpt_1=ma*Wlpt;\n",
"mf=ma*Q*3600/(eff_comb*CV*10^3);\n",
"sfc=mf/Wplant;\n",
"\n",
"disp ('K',T_07,'T_07 = ');\n",
"disp ('K',T07,'T07 = ');\n",
"disp ('K',T09,'T09 = ');\n",
"disp ('K',T_09,'T_09 = ');\n",
"disp ('K',T_04,'T_04 = ');\n",
"disp ('K',T04,'T04 = ');\n",
"disp ('K',T05,'T05 = ');\n",
"disp ('bar',p03,'P03 = ');\n",
"disp ('bar',p09,'P09 = ');\n",
"disp ('bar',p10,'P10 = ');\n",
"disp ('kg/s',ma,'Mass flow rate = ');\n",
"disp ('%',eff_th*100,'The overall efficiency = ');\n",
"disp ('kg of fuel/kW h',sfc,'Specific fuel consumption = ');"
   ]
   }
,
{
		   "cell_type": "markdown",
		   "metadata": {},
		   "source": [
			"## Example 6.6: Calculation_of_Compressor_efficiency_and_the_temperature_ratio.sce"
		   ]
		  },
  {
"cell_type": "code",
	   "execution_count": null,
	   "metadata": {
	    "collapsed": true
	   },
	   "outputs": [],
"source": [
"clc;\n",
"rp=11.3137; // Pressure ratio\n",
"WN=0; // Net work output\n",
"Q=476.354; // Heat added per kg of air mass in kJ\n",
"T01=300; // Inlet air total temperature in kelvin\n",
"eff_T=0.71; // turbine efficiency\n",
"Cpa=1.005;// Specific heat of air  at constant pressure in kJ/kg K\n",
"Cpg=1.147;// Specific heat of fuel at constant pressure in kJ/kg K\n",
"rg=1.33;// Specific heat ratio of fuel\n",
"r=1.4; // Specific heat ratio of air\n",
"\n",
"T_02=T01*rp^((r-1)/r);\n",
"T03_T02=Q/Cpa;\n",
"T03_T_04=rp^((r-1)/r);\n",
"T04_T03=1-(eff_T*(1/T03_T_04)*(T03_T_04-1));\n",
"T04=T01+(T03_T02);\n",
"T03=T04/T04_T03;\n",
"t=T03/T01; //Temperature ratio\n",
"T02=T03-T03_T02;\n",
"eff_C=(T_02-T01)/(T02-T01); // Compressor efficiency\n",
"\n",
"disp ('%',eff_C*100,'Compressor Efficiency = ',);\n",
"disp (t,'Temperature ratio = ');"
   ]
   }
,
{
		   "cell_type": "markdown",
		   "metadata": {},
		   "source": [
			"## Example 6.7: Calculation_of_suitable_pressure_ratio.sce"
		   ]
		  },
  {
"cell_type": "code",
	   "execution_count": null,
	   "metadata": {
	    "collapsed": true
	   },
	   "outputs": [],
"source": [
"clc;\n",
"eff_C=0.7042; // Efficiency of the compressor\n",
"eff_T=0.71; // Efficiency of the turbine\n",
"Q=476.354; // Head added in kJ/kg\n",
"WR=0.0544; // Work ratio\n",
"T01=300;// Total inlet temperature in kelvin\n",
"Cpa=1.005;// Specific heat of air  at constant pressure in kJ/kg K\n",
"Cpg=1.147;// Specific heat of fuel at constant pressure in kJ/kg K\n",
"rg=1.33;// Specific heat ratio of fuel\n",
"r=1.4; // Specific heat ratio of air\n",
"\n",
"c_t=(1-WR)*(eff_T*eff_C);\n",
"t=((Q/(Cpg*T01))+1-1/eff_C)/(1-c_t/eff_C); // Temperature ratio\n",
"c=c_t*t;\n",
"rp=c^(r/(r-1)); // Pressure ratio\n",
"\n",
"disp (rp,'Pressure ratio = ');\n",
"disp (t,'Temperature ratio = ');"
   ]
   }
,
{
		   "cell_type": "markdown",
		   "metadata": {},
		   "source": [
			"## Example 6.8: Calculation_of_minimum_temperature_ratio.sce"
		   ]
		  },
  {
"cell_type": "code",
	   "execution_count": null,
	   "metadata": {
	    "collapsed": true
	   },
	   "outputs": [],
"source": [
"clc;\n",
"WR=0.3; // Work ratio\n",
"rp=12; // Pressure ratio \n",
"t=4; // Temperature ratio\n",
"Cpa=1.005;// Specific heat of air  at constant pressure in kJ/kg K\n",
"Cpg=1.147;// Specific heat of fuel at constant pressure in kJ/kg K\n",
"rg=1.33;// Specific heat ratio of fuel\n",
"r=1.4; // Specific heat ratio of air\n",
"\n",
"c=rp^((r-1)/r);\n",
"eff_C_T=1/((1-WR)*t/c);\n",
"tmin=c/eff_C_T;\n",
"eff=1-1/c;\n",
"\n",
"disp (tmin,'Minimum Temperature ratio = ');\n",
"disp ('%',eff*100,'Efficiency = ');"
   ]
   }
,
{
		   "cell_type": "markdown",
		   "metadata": {},
		   "source": [
			"## Example 6.9: Calculation_of_Isentropic_efficiency_of_Turbine.sce"
		   ]
		  },
  {
"cell_type": "code",
	   "execution_count": null,
	   "metadata": {
	    "collapsed": true
	   },
	   "outputs": [],
"source": [
"clc;\n",
"eff_pe=0.85; // Polytropic efficiency of the compressor\n",
"T_02_T01=2;\n",
"Cpa=1.005;// Specific heat of air  at constant pressure in kJ/kg K\n",
"Cpg=1.147;// Specific heat of fuel at constant pressure in kJ/kg K\n",
"rg=1.33;// Specific heat ratio of fuel\n",
"r=1.4; // Specific heat ratio of air\n",
"\n",
"rc=(T_02_T01)^(r/(r-1));\n",
"eff_C=(T_02_T01-1)/(((rc^(((r-1)/r)*(1/eff_pe)))-1)); // Compressor efficiency\n",
"eff_T=(1-(1/rc)^(eff_pe*(r-1)/r))/(1-(1/rc)^((r-1)/r)); // Turbine efficiency\n",
"\n",
"\n",
"disp ('%',eff_C*100,' Isentropic compressor efficiency = ');\n",
"disp ('%',eff_T*100,' Isentropic Turbine efficiency = ');"
   ]
   }
],
"metadata": {
		  "kernelspec": {
		   "display_name": "Scilab",
		   "language": "scilab",
		   "name": "scilab"
		  },
		  "language_info": {
		   "file_extension": ".sce",
		   "help_links": [
			{
			 "text": "MetaKernel Magics",
			 "url": "https://github.com/calysto/metakernel/blob/master/metakernel/magics/README.md"
			}
		   ],
		   "mimetype": "text/x-octave",
		   "name": "scilab",
		   "version": "0.7.1"
		  }
		 },
		 "nbformat": 4,
		 "nbformat_minor": 0
}
