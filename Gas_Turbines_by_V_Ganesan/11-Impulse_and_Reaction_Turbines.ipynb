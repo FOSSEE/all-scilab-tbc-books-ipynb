{
"cells": [
 {
		   "cell_type": "markdown",
	   "metadata": {},
	   "source": [
       "# Chapter 11: Impulse and Reaction Turbines"
	   ]
	},
{
		   "cell_type": "markdown",
		   "metadata": {},
		   "source": [
			"## Example 11.1: Estimation_of_maximum_number_of_stages_required.sce"
		   ]
		  },
  {
"cell_type": "code",
	   "execution_count": null,
	   "metadata": {
	    "collapsed": true
	   },
	   "outputs": [],
"source": [
"clc;\n",
"p02=6; // Inlet pressure in bar\n",
"T02=900; // Inlet temperature in kelvin\n",
"p0fs=1; // Outlet pressure in bar\n",
"eff_isenT=0.85; // insentropic efficiency of turbine\n",
"alpha_2=75; // Nozzle outlet angle in degree\n",
"u=250; // Mean blade velocity in m/s\n",
"Cp=1.15*10^3; // Specific heat in J/ kg K\n",
"r=1.333; // Specific heat ratio\n",
"\n",
"T0fs=T02/(p02/p0fs)^((r-1)/r); // Isentropic temperature at the exit of the final stage\n",
"Del_Toverall=eff_isenT*(T02-T0fs); // Actual overall temperature drop\n",
"c2=2*u/sind (alpha_2); // absolute velocity\n",
"c3= c2*cosd (alpha_2);// absolute velocity\n",
"c1=c3; // From velocity triangles\n",
"Del_Tstage=(c2^2-c1^2)/(2*Cp); // Stage temperature drop\n",
"n=Del_Toverall/Del_Tstage; // Number of stages\n",
"\n",
"disp (round (n),'Number of stages n =');"
   ]
   }
,
{
		   "cell_type": "markdown",
		   "metadata": {},
		   "source": [
			"## Example 11.2: Determination_of_output_power_developed_by_the_turbine_shaft.sce"
		   ]
		  },
  {
"cell_type": "code",
	   "execution_count": null,
	   "metadata": {
	    "collapsed": true
	   },
	   "outputs": [],
"source": [
"clc;\n",
"N=10000; // Speed of gas turbine in rpm\n",
"T01=700+273.15; // Total head temperature at nozzle entry in kelvin\n",
"P01=4.5; //Total head pressure at nozzle entry in bar\n",
"P02=2.6; // Outlet pressure from nozzle in bar\n",
"p3=1.5;// Pressure at trbine outlet annulus in bar\n",
"M=0.5; // Mach number at outlet\n",
"alpha_2=70; // outlet nozzle angle in degrees\n",
"D=64; // Blade mean diameter in cm\n",
"m=22.5; // Mass flow rate in kg/s\n",
"eff_T=0.99; // turbine mechanical efficiency\n",
"Cp=1.147; // Specific heat in kJ/kg K\n",
"r=1.33; // Specific heat ratio\n",
"fl=0.03; // frictional loss\n",
"R=284.6; // characteristic gas constant in J/kg K\n",
"\n",
"eff_N=1-fl; // Nozzle efficiency\n",
"T_02=(P02/P01)^((r-1)/r)*T01; // Isentropic temperature after expansion\n",
"T02=T01-eff_N*(T01-T_02); // Actual temperature after expansion\n",
"c2=sqrt (2*Cp*10^3*(T01-T02)); // Absolute velocity\n",
"u=(3.14*D*10^-2*N)/60; // Mean blade velocity\n",
"// From velocity triangles\n",
"wt2=c2*sind (alpha_2)-u;\n",
"ca=c2*cosd (alpha_2);\n",
"beta_2=atand((wt2)/ca);\n",
"T3=T02/(P02/p3)^((r-1)/r); // Assuming rotor losses are negligible\n",
"c3=M*sqrt (r*R*T3); // Absolute velocity\n",
"beta_3=atand(u/c3);\n",
"ct2=c2*sind(alpha_2);\n",
"P=eff_T*m*(ct2)*u/1000; // Power developed\n",
"\n",
"disp ('degree',beta_3,'Gas angle at exit = ','degree',beta_2,'Gas angle at entry','(i).');\n",
"disp ('kW   (roundoff error)',P,'Power developed = ','(ii).');"
   ]
   }
,
{
		   "cell_type": "markdown",
		   "metadata": {},
		   "source": [
			"## Example 11.3: Estimation_of_the_blade_angle_and_power_produced.sce"
		   ]
		  },
  {
"cell_type": "code",
	   "execution_count": null,
	   "metadata": {
	    "collapsed": true
	   },
	   "outputs": [],
"source": [
"clc;\n",
"alpha_2=65; // Nozzle discharge angle in degree\n",
"c3=300; // Absolute velocity in m/s\n",
"alpha_3=30; // in degrees\n",
"\n",
"ca2=c3*cosd (alpha_3); // Axial velocity\n",
"c2=ca2/cosd(alpha_2); //  Absolute velocity\n",
"// ca3=ca2=ca and equal blade angles then\n",
"ca=ca2;\n",
"beta_2=atand((c2*sind(alpha_2)+c3*sind(alpha_3))/(2*ca)); // Blade angle\n",
"beta_3=beta_2; // equal blade angles\n",
"u=c2*sind(alpha_2)-ca2*tand(beta_2); // Mean blade velocity\n",
"// From velocity triangles\n",
"ct2=c2*sind(alpha_2);\n",
"ct3=c3*sind(alpha_3);\n",
"WT=u*(ct2+ct3)/1000; // Work done\n",
"sigma=u/c2; // optimum speed ratio\n",
"eff_B=4*(sigma*sind(alpha_2)-sigma^2);\n",
"\n",
"disp ('degree',beta_2,'Blade angle = beta_2= beta_3 = ');\n",
"disp ('kJ/kg   (roundoff error)',WT,'Power Produced = ');\n",
"disp ('%',eff_B*100,'Blade efficiency = ');"
   ]
   }
,
{
		   "cell_type": "markdown",
		   "metadata": {},
		   "source": [
			"## Example 11.4: Calculation_of_blade_angle_used_and_the_mass_flow_rate_required.sce"
		   ]
		  },
  {
"cell_type": "code",
	   "execution_count": null,
	   "metadata": {
	    "collapsed": true
	   },
	   "outputs": [],
"source": [
"clc;\n",
"P01=7; // Pressure at inlet in bar\n",
"T01=300+273.15; // Temperature at inlet in kelvin\n",
"P02=3; // Pressure at outlet in bar\n",
"alpha_2=70; // Nozzle angle in degree\n",
"eff_N=0.9; // Isentropic efficiency of nozzle\n",
"WT=75; // Power Produced in kW\n",
"Cp=1.15; // Specific heat in kJ/kg K\n",
"r=1.33; // Specific heat ratio\n",
"\n",
"T_02=T01*(P02/P01)^((r-1)/r); // Isentropic temperature after expansion\n",
"T02=T01-eff_N*(T01-T_02); // Actual temperature after expansion\n",
"c2=sqrt (2*Cp*10^3*(T01-T02)); // Absolute velocity\n",
"// For optimum blade speed ratio\n",
"u=(c2*sind (alpha_2)/2); // Mean blade velocity\n",
"beta_2=atand((c2*sind(alpha_2)-u)/(c2*cosd(alpha_2))); // Blade angle\n",
"// From velocity triangles\n",
"ct2=c2*sind(alpha_2);\n",
"w2=c2*cosd(alpha_2)/cosd(beta_2);\n",
"w3=w2; // Equal inlet and outlet angles\n",
"beta_3=54; // in degrees\n",
"ct3=w3*sind(beta_3)-u;\n",
"m=(WT*10^3)/(u*(ct2+ct3)); // Gas mass flow rate\n",
"\n",
"disp ('degree',beta_2,'Blade angle = ');\n",
"disp ('kg/s',m,'Gas Mass Flow Rate = ');"
   ]
   }
,
{
		   "cell_type": "markdown",
		   "metadata": {},
		   "source": [
			"## Example 11.5: EX11_5.sce"
		   ]
		  },
  {
"cell_type": "code",
	   "execution_count": null,
	   "metadata": {
	    "collapsed": true
	   },
	   "outputs": [],
"source": [
"clc;\n",
"P01=4.6; // Total head inlet pressure in bar\n",
"T01=700+273.15; // Total head inlet temperature in kelvin\n",
"P2=1.6; // Static head pressure at mean radius in bar\n",
"Dm_h=10; // Mean blade diameter/blade height\n",
"lc=0.1; // Nozzle losses coefficient\n",
"alpha_2=60; // Nozzle outlet angle in degree\n",
"Cp=1.147; // Specific heat in kJ/kg K\n",
"r=1.33; // Specific heat ratio\n",
"m=20; // Mass flow rate in kg/s\n",
"R=284.6; // characteristic gas constant in J/kg K\n",
"\n",
"T_2=T01*(P2/P01)^((r-1)/r); // Isentropic temperature after expansion\n",
"T2=(lc*T01+T_2)/(1+lc); // Actual temperature after expansion\n",
"c2=sqrt(2*Cp*10^3*(T01-T2)); // Absolute velocity\n",
"// From velocity triangles\n",
"ca=c2*cosd(alpha_2);\n",
"row=P2*10^5/(R*T2); // Density of gas\n",
"A=m/(ca*row); // Area\n",
"Dm=sqrt (A*Dm_h/3.14); // Mean Diameter\n",
"h=Dm/10; // Blade height\n",
"rm=Dm/2; // Mean radius\n",
"// At root\n",
"r_root=(Dm-h)/2;\n",
"//At the tip\n",
"r_tip=(Dm+h)/2;\n",
"// Free vorte flow\n",
"ct_mean=c2*sind (alpha_2);\n",
"// At the root\n",
"ct2_root=(ct_mean*rm)/r_root;\n",
"alpha2_root=atand(ct2_root/ca);\n",
"c2_root=ct2_root/sind (alpha2_root);\n",
"T2_root=T01-c2_root^2/(2*Cp*10^3);\n",
"// At the tip\n",
"ct2_tip=ct_mean*rm/r_tip;\n",
"alpha2_tip = atand (ct2_tip/ca);\n",
"c2_tip=ct2_tip/sind(alpha2_tip);\n",
"T2_tip=T01-c2_tip^2/(2*Cp*10^3);\n",
"\n",
"disp ('degree',alpha2_root,'Discharge angle at the root = ','m/s',c2_root,'Gas velocity at the root = ','K',T2_root,'Gas Temperature at the root = ','A the Root');\n",
"disp ('degree',alpha2_tip,'Discharge angle at the tip = ','m/s',c2_tip,'Gas velocity at the tip = ','K',T2_tip,'Gas Temperature at the tip = ','A the tip');"
   ]
   }
],
"metadata": {
		  "kernelspec": {
		   "display_name": "Scilab",
		   "language": "scilab",
		   "name": "scilab"
		  },
		  "language_info": {
		   "file_extension": ".sce",
		   "help_links": [
			{
			 "text": "MetaKernel Magics",
			 "url": "https://github.com/calysto/metakernel/blob/master/metakernel/magics/README.md"
			}
		   ],
		   "mimetype": "text/x-octave",
		   "name": "scilab",
		   "version": "0.7.1"
		  }
		 },
		 "nbformat": 4,
		 "nbformat_minor": 0
}
