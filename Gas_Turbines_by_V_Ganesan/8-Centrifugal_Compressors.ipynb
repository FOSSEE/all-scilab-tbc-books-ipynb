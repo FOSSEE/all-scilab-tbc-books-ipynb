{
"cells": [
 {
		   "cell_type": "markdown",
	   "metadata": {},
	   "source": [
       "# Chapter 8: Centrifugal Compressors"
	   ]
	},
{
		   "cell_type": "markdown",
		   "metadata": {},
		   "source": [
			"## Example 8.10: Calculation_of_the_torque_power_required_and_the_head_developed.sce"
		   ]
		  },
  {
"cell_type": "code",
	   "execution_count": null,
	   "metadata": {
	    "collapsed": true
	   },
	   "outputs": [],
"source": [
"clc;\n",
"m=30; // mass flow rate in kg/s\n",
"N=15000; // Speed in rpm\n",
"r2=0.3; // Radius in m\n",
"D2=r2*2; // Diameter in m\n",
"w2=100; // Relative velocity in m/s\n",
"beta_1=80; // in degrees\n",
"p01=1; // Inlet pressure in bar\n",
"T01=300 // Inlet temperature in kelvin\n",
"Cp=1.005; // specific heat at constant pressure in kJ/kg K\n",
"r=1.4; // Specific heat ratio\n",
"R=287; // Characteristic gas constant in J/kg K\n",
"\n",
"u2=3.14*D2*N/60;\n",
"ct2=u2-(w2*cosd (beta_1));\n",
"Fr=m*ct2*r2;\n",
"P=Fr*(2*3.14*N/60);\n",
"W=u2*ct2;\n",
"P02=p01*(1+(W*10^-3/(Cp*T01)))^(r/(r-1));\n",
"\n",
"disp ('Nm',Fr,'Torque = ');\n",
"disp ('kW',P/1000,'Power = ');\n",
"disp ('bar',P02,'Head Developed = ');"
   ]
   }
,
{
		   "cell_type": "markdown",
		   "metadata": {},
		   "source": [
			"## Example 8.1: Calculation_of_compressor_efficiency.sce"
		   ]
		  },
  {
"cell_type": "code",
	   "execution_count": null,
	   "metadata": {
	    "collapsed": true
	   },
	   "outputs": [],
"source": [
"clc;\n",
"N=11500; // Speed in rpm\n",
"T01=21+273; // Inlet total temperature in kelvin\n",
"p01=1;// Inlet total pressure in bar\n",
"p02=4;// Outlet total pressure in bar\n",
"D=0.75; // impeller diameter in m\n",
"mu=0.92;// slip factor\n",
"Cp=1.005; // specific heat at constant pressure in kJ/kg K\n",
"r=1.4; // Specific heat ratio\n",
"\n",
"u=3.14*D*N/60;\n",
"W=mu*u^2;\n",
"T02=W/(Cp*10^3)+T01;\n",
"T_02=T01*(p02/p01)^((r-1)/r);\n",
"eff_c=(T_02-T01)/(T02-T01);\n",
"\n",
"disp ('%',eff_c*100,'Efficiency of the compressor = ');"
   ]
   }
,
{
		   "cell_type": "markdown",
		   "metadata": {},
		   "source": [
			"## Example 8.2: Estimation_of_the_probable_axial_width_of_the_impeller.sce"
		   ]
		  },
  {
"cell_type": "code",
	   "execution_count": null,
	   "metadata": {
	    "collapsed": true
	   },
	   "outputs": [],
"source": [
"clc;\n",
"m=35; // mass flow rate of air in kg/s\n",
"D=0.76; // Impeller diameter in m\n",
"N=11500; // speed in rpm\n",
"eff_c=0.8; // Efficiency of the compressor \n",
"rp=4.2; // Pressure ratio\n",
"cr=120; // Radial velocity in m/s\n",
"p01=1; // Inlet pressure in bar\n",
"T01=47+273; // Inlet temperature in kelvin\n",
"Cp=1.005; // specific heat at constant pressure in kJ/kg K\n",
"r=1.4; // Specific heat ratio\n",
"R=287; // Characteristic gas constant in J/kg K\n",
"\n",
"T_02=T01*rp^((r-1)/r);\n",
"T02=T01+(T_02-T01)/eff_c;\n",
"// ignoring the effects of the velocity of flow\n",
"p02=rp/p01;\n",
"row2=p02*10^5/(R*T02);\n",
"Atip=m/(row2*cr);\n",
"AW=Atip/(3.14*D); // Axial width\n",
"\n",
"disp ('cm',AW*100,'Axial Width = ');"
   ]
   }
,
{
		   "cell_type": "markdown",
		   "metadata": {},
		   "source": [
			"## Example 8.3: Calculation_of_theoretical_blade_angles.sce"
		   ]
		  },
  {
"cell_type": "code",
	   "execution_count": null,
	   "metadata": {
	    "collapsed": true
	   },
	   "outputs": [],
"source": [
"clc;\n",
"D=0.15; // Inlet eye diameter in m\n",
"N=20000; // Speed in rpm\n",
"ca1=107; // Axial velocity in m/s\n",
"T01=294; // Inlet temperature in kelvin\n",
"p01=1.03; // Inlet pressure in kg/cm^2\n",
"Cp=1.005; // specific heat at constant pressure in kJ/kg K\n",
"r=1.4; // Specific heat ratio\n",
"R=287; // Characteristic gas constant in J/kg K\n",
"\n",
"u1=3.14*D*N/60;\n",
"beta_1=atand (ca1/u1);// Blade angle \n",
"cr=u1/cosd (beta_1);\n",
"a=sqrt (r*R*(T01-ca1^2/(2*Cp*10^3)));\n",
"M=cr/a; // Mach number at the tip\n",
"\n",
"disp ('degree',beta_1,'(i).Theoretical angle of the blade at this point = ');\n",
"disp (M,'(ii).Mach number of the flow at the tip of the eye = ');"
   ]
   }
,
{
		   "cell_type": "markdown",
		   "metadata": {},
		   "source": [
			"## Example 8.4: Calculation_of_final_temperature_of_the_gases_and_the_work_done_per_kg_of_gas.sce"
		   ]
		  },
  {
"cell_type": "code",
	   "execution_count": null,
	   "metadata": {
	    "collapsed": true
	   },
	   "outputs": [],
"source": [
"clc;\n",
"T01=0+273; // Inlet gas temperature in kelvin\n",
"p01=0.7; // Inlet pressure in bar\n",
"p02=1.05; // Delivery pressure in bar\n",
"eff_c=0.83; // Compressor efficiency\n",
"Cp=1.005;// Specific heat   at constant pressure in kJ/kg K\n",
"Cv=0.717;// Specific heat   at constant volume in kJ/kg K\n",
"r=1.4; // Specific heat ratio \n",
"\n",
"T_02=T01*(p02/p01)^((r-1)/r);\n",
"T02=T01+(T_02-T01)/eff_c; // Final temperature of the gas\n",
"Wc=Cp*(T02-T01); // Work of compression\n",
"\n",
"// With additional compressor\n",
"T_03=T02*(p02/p01)^((r-1)/r);\n",
"T03=T02+(T_03-T02)/eff_c; \n",
"T_03=T01*(p02/p01)^(2*(r-1)/r);\n",
"eff_overall=(T_03-T01)/(T03-T01);\n",
"\n",
"disp ('K',T02,'Final temperature of the gas = ');\n",
"disp ('kJ/kg',Wc,' Work of compression = ');\n",
"disp ('%',eff_overall*100,'Overall efficiency = ');"
   ]
   }
,
{
		   "cell_type": "markdown",
		   "metadata": {},
		   "source": [
			"## Example 8.5: Calculation_of_impeller_diameters_and_the_width_at_the_impeller_exit.sce"
		   ]
		  },
  {
"cell_type": "code",
	   "execution_count": null,
	   "metadata": {
	    "collapsed": true
	   },
	   "outputs": [],
"source": [
"clc;\n",
"N=12500; // Speed in rpm\n",
"m=15; // Mass flow rate in kg/s\n",
"rp=4; // Pressure ratio\n",
"eff_c=0.75; // Isentropic efficiency \n",
"mu=0.9; // Slip factor\n",
"pi=0.3; // Flow coefficient at impeller exit\n",
"D=0.15; // Hub diameter in m\n",
"ca2=150; // Axial velocity in m/s\n",
"T01=275; // Inlet temperature in kelvin\n",
"p01=1; // Inlet pressure in bar\n",
"Cp=1.005;// Specific heat   at constant pressure in kJ/kg K\n",
"Cv=0.717;// Specific heat   at constant volume in kJ/kg K\n",
"r=1.4; // Specific heat ratio \n",
"R=287; // Characteristic gas constant in J/kg K\n",
"\n",
"u2=ca2/pi;\n",
"P=m*mu*u2^2/1000; // Power output\n",
"D2=u2*60/(3.14*N);\n",
"T1=T01-ca2^2/(2*Cp*10^3);\n",
"p1=p01*(T1/T01)^(r/(r-1));\n",
"row1=p1*10^5/(R*T1);\n",
"A1=m/(row1*ca2);\n",
"D1=sqrt ((A1*4/(3.14))+D^2);\n",
"p3_p1=rp;\n",
"p2=2*p1;\n",
"T_2=T1*(p2/p1)^((r-1)/r);\n",
"T2=T1+(T_2-T1)/eff_c;\n",
"row2=p2*10^5/(R*T2);\n",
"W2=(m)/(row2*ca2*3.14*D2);\n",
"\n",
"disp ('kW',P,'Power = ');\n",
"disp ('Impeller Diameters');\n",
"disp ('cm',D2*100,'D2 = ','cm   (roundoff error)',D1*100,'D1 = ');\n",
"disp ('Impeller width')\n",
"disp ('cm   (roundoff error)',W2*100,'W2 = ');"
   ]
   }
,
{
		   "cell_type": "markdown",
		   "metadata": {},
		   "source": [
			"## Example 8.6: Calculation_of_the_minimum_possible_depth_of_the_diffuser.sce"
		   ]
		  },
  {
"cell_type": "code",
	   "execution_count": null,
	   "metadata": {
	    "collapsed": true
	   },
	   "outputs": [],
"source": [
"clc;\n",
"m=14; // mass flow rate in kg/s\n",
"rp=4; // pressure ratio\n",
"N=12000; // Speed in rpm\n",
"T01=288; // Inlet temperature in kelvin\n",
"p01=1.033; // Inlet pressure in bar\n",
"Cp=1.005;// Specific heat   at constant pressure in kJ/kg K\n",
"Cv=0.717;// Specific heat   at constant volume in kJ/kg K\n",
"r=1.4; // Specific heat ratio \n",
"R=287; // Characteristic gas constant in J/kg K\n",
"mu=0.9; // Slip factor\n",
"chi=1.04; // Power input factor\n",
"eff_c=0.8; // Compressor efficiency\n",
"\n",
"T03=(((rp^((r-1)/r))-1)*T01/eff_c)+T01;;\n",
"U=sqrt ((T03-T01)*Cp*10^3/(chi*mu));\n",
"D=U*60/(3.14*N);\n",
"\n",
"T3=T03/1.2;\n",
"c2=sqrt (r*R*T3);\n",
"ca2=sqrt (c2^2-(mu*U)^2);\n",
"T02=eff_c*(T03-T01)+T01;\n",
"Loss=T03-T02;\n",
"T2=T3-Loss/2\n",
"p2=p01*(T2/T01)^(r/(r-1));\n",
"row2=p2*10^5/(R*T2);\n",
"A=m/(row2*ca2);\n",
"Depth=A/(2*3.14*D/2);\n",
"\n",
"disp ('cm',D*100,'Overall diameter of the Impeller  = ');\n",
"disp ('cm   (roundoff error)',Depth*100,'Depth of the diffuser = ');"
   ]
   }
,
{
		   "cell_type": "markdown",
		   "metadata": {},
		   "source": [
			"## Example 8.7: Calculation_of_impeller_and_diffuser_blade_angles_at_inlet.sce"
		   ]
		  },
  {
"cell_type": "code",
	   "execution_count": null,
	   "metadata": {
	    "collapsed": true
	   },
	   "outputs": [],
"source": [
"clc;\n",
"N=10000; // Speed in rpm\n",
"Q=600; // Flow rate m^2/min\n",
"rp=4; // Pressure ratio \n",
"eff_c=0.82; // Compressor efficiency\n",
"T01=293; // Inlet temperature in kelvin\n",
"p01=1.0; // Inlet pressure in bar\n",
"Cp=1.005;// Specific heat   at constant pressure in kJ/kg K\n",
"Cv=0.717;// Specific heat   at constant volume in kJ/kg K\n",
"r=1.4; // Specific heat ratio \n",
"R=287; // Characteristic gas constant in J/kg K\n",
"ca=60; // Axial velocity in m/s\n",
"D2_D1=2 ;// Diameter ratio\n",
"\n",
"T_03=T01*rp^((r-1)/r);\n",
"T03=T01+(T_03-T01)/eff_c;\n",
"u2=sqrt (Cp*10^3*(T03-T01));\n",
"Wc=u2^2; // Work of compression\n",
"D2=(u2*60/(3.14*N));\n",
"D1=D2/D2_D1;\n",
"T1=T01-(ca^2/(2-Cp*10^3));\n",
"p1=p01*(T1/T01)^(r/(r-1));\n",
"row1=p1*10^5/(R*T1);\n",
"Wroot=(Q/60)*(1/(ca*3.14*D1));\n",
"u1=3.14*N*D1/60;\n",
"alpha_root=atand (ca/u1);\n",
"alpha_tip= atand (ca/u2);\n",
"\n",
"disp ('(i).Power input ');\n",
"disp ('kW/kg/s',Wc/1000,'Wc = ');\n",
"disp ('(ii).Impeller Diameters');\n",
"disp ('m',D2,'D2 = ','m',D1,'D1 = ');\n",
"disp ('(iii).Impeller and diffuser blade angles at inlet');\n",
"disp ('degree',alpha_tip,'alpha_tip = ','degree',alpha_root,'alpha_root = ');"
   ]
   }
,
{
		   "cell_type": "markdown",
		   "metadata": {},
		   "source": [
			"## Example 8.8: Calculation_of_slip_factor.sce"
		   ]
		  },
  {
"cell_type": "code",
	   "execution_count": null,
	   "metadata": {
	    "collapsed": true
	   },
	   "outputs": [],
"source": [
"clc;\n",
"rp=4; // Pressure ratio\n",
"eff_c=0.8; // Compressor efficiency \n",
"N=15000; // Speed in rpm\n",
"T01=293; // Inlet temperature in kelvin\n",
"De=0.25; // Diameter of eye in m\n",
"C1=150; // Absolute velocity in m/s\n",
"Di=0.6; // Impeller diameter in m\n",
"a1=25; // in degree\n",
"Cp=1.005;// Specific heat   at constant pressure in kJ/kg K\n",
"Cv=0.717;// Specific heat   at constant volume in kJ/kg K\n",
"r=1.4; // Specific heat ratio \n",
"R=287; // Characteristic gas constant in J/kg K\n",
"\n",
"T02=T01*rp^((r-1)/r);\n",
"DelT_actual=(T02-T01)/eff_c;\n",
"P=Cp*10^3*DelT_actual; // Power input\n",
"u1=3.14*De*N/60;\n",
"ct1=C1*sind (a1);\n",
"// At Exit\n",
"u2=3.14*Di*N/60;\n",
"ct2=(P+(u1*ct1))/u2;\n",
"mu=ct2/u2; // Slip factor\n",
"\n",
"disp (mu,'Slip Factor = ');\n",
""
   ]
   }
,
{
		   "cell_type": "markdown",
		   "metadata": {},
		   "source": [
			"## Example 8.9: Determination_of_number_of_radial_impeller_vanes.sce"
		   ]
		  },
  {
"cell_type": "code",
	   "execution_count": null,
	   "metadata": {
	    "collapsed": true
	   },
	   "outputs": [],
"source": [
"clc;\n",
"P=180*10^3; // Power input in J\n",
"N=15000; // Speed in rpm\n",
"a1=25; // in degrees\n",
"De=0.25; // Mean dia of the eye in m\n",
"Di=0.6;// Impeller tip diameter in m\n",
"c1=150; // Absolute air velocity at inlet in m/s\n",
"\n",
"u1=3.14*De*N/60;\n",
"u2=3.14*Di*N/60;\n",
"ct1=c1*sind (a1);\n",
"ct2=(P+(u1*ct1))/u2;\n",
"mu=ct2/u2;\n",
"z=(1.98)/(1-mu); // Number of impeller vanes\n",
"disp(z,'Number of impeller vanes using Stanitz formulae = ');"
   ]
   }
],
"metadata": {
		  "kernelspec": {
		   "display_name": "Scilab",
		   "language": "scilab",
		   "name": "scilab"
		  },
		  "language_info": {
		   "file_extension": ".sce",
		   "help_links": [
			{
			 "text": "MetaKernel Magics",
			 "url": "https://github.com/calysto/metakernel/blob/master/metakernel/magics/README.md"
			}
		   ],
		   "mimetype": "text/x-octave",
		   "name": "scilab",
		   "version": "0.7.1"
		  }
		 },
		 "nbformat": 4,
		 "nbformat_minor": 0
}
