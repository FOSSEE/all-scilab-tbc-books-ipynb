{
"cells": [
 {
		   "cell_type": "markdown",
	   "metadata": {},
	   "source": [
       "# Chapter 5: Ideal Cycles and their Analysis"
	   ]
	},
{
		   "cell_type": "markdown",
		   "metadata": {},
		   "source": [
			"## Example 5.10: Determination_of_the_cycle_thermal_efficiency.sce"
		   ]
		  },
  {
"cell_type": "code",
	   "execution_count": null,
	   "metadata": {
	    "collapsed": true
	   },
	   "outputs": [],
"source": [
"clc;\n",
"T1=15+273; // Inlet temperature of air at compressor inlet in kelvin\n",
"rp=6; // Compressor pressure ratio\n",
"T3=750+273; // Maximum permissible temperature in kelvin\n",
"T5=T3; // After reheat\n",
"Cp=1.005; // Specific heat at constant pressure in kJ/kg K\n",
"r=1.4; // Specific heat ratio\n",
"\n",
"c=rp^((r-1)/r); \n",
"T2=T1*c; // Temperature at state 2\n",
"p3_p4=sqrt (rp); // For maximum expansion work\n",
"T4=T3/(p3_p4)^((r-1)/r); // Temperature at state 4\n",
"T6=T4; // As pressure ratio is same\n",
"Wc=Cp*(T2-T1); // Compressor work\n",
"WT=Cp*(T3-T4)+Cp*(T5-T6); // Turbine work\n",
"T7=T4; // Because of 100% regeneration\n",
"q=Cp*(T3-T7)+Cp*(T5-T4); // Heat supplied\n",
"WN=WT-Wc; // Net work done\n",
"eff=WN/q; // Efficiency of the plant\n",
"Wratio=WN/WT; // Work ratio\n",
"disp ('kJ/kg of air',q,'Heat supplied = ');\n",
"disp ('kW   (roundoff error)',WN,'Net shaft work = ');\n",
"disp ('%',eff*100,'The cycle thermal efficiency = ');\n",
"disp (Wratio,'Work ratio = ');"
   ]
   }
,
{
		   "cell_type": "markdown",
		   "metadata": {},
		   "source": [
			"## Example 5.11: Calculation_of_Efficiency_under_conditions_giving_maximum_work.sce"
		   ]
		  },
  {
"cell_type": "code",
	   "execution_count": null,
	   "metadata": {
	    "collapsed": true
	   },
	   "outputs": [],
"source": [
"clc;\n",
"Tmin=5+273; // Minimum operating temperature in kelvin\n",
"Tmax=839+273; // Maximum operating temperature in kelvin \n",
"Cp=1.005; // Specific heat at constant pressure in kJ/kg K\n",
"r=1.4; // Specific heat ratio\n",
"\n",
"eff_carnot=1-Tmin/Tmax; // Efficiency of the carnot cycle\n",
"c=1/(1-eff_carnot);\n",
"p2_p1=c^(r/(r-1)); // Pressure ratio\n",
"disp (p2_p1,'(i).Pressure ratio at which efficiency equals Carnot cycle efficiency = ');\n",
"t=Tmax/Tmin; // Temperature ratio\n",
"// Pressure ratio for maximum work is obtained when\n",
"c=sqrt (t); \n",
"p2_p1=c^(r/(r-1)); // Pressure ratio\n",
"eff=1-1/c;// Efficiency at maximum work output\n",
"disp (p2_p1,'(ii).Pressure ratio at which maximum work is obtained = ');\n",
"disp ('%',eff*100,'(iii).Efficiency at maximum work output = ');"
   ]
   }
,
{
		   "cell_type": "markdown",
		   "metadata": {},
		   "source": [
			"## Example 5.12: Comparison_of_basic_cycle_with_modified_cycles.sce"
		   ]
		  },
  {
"cell_type": "code",
	   "execution_count": null,
	   "metadata": {
	    "collapsed": true
	   },
	   "outputs": [],
"source": [
"clc;\n",
"rp=4;// Overall pressure ratio \n",
"T1=300; // Temperature at state 1 in kelvin\n",
"T3=1000; // Temperature at state 3 in kelvin\n",
"Cp=1; // Specific heat at constant pressure in kJ/kg K\n",
"Cv=0.717; // Specific heat at constant volume in kJ/kg K\n",
"\n",
"// Basic cycle\n",
"r=Cp/Cv; // Specific heat ratio\n",
"c=rp^((r-1)/r);\n",
"t=T3/T1; // Temperature ratio\n",
"WN=Cp*T1*(t*(1-1/c)-(c-1)); // Net work output\n",
"eff=(1-1/c)*100;  // Efficiency of the cycle\n",
"\n",
"// Basic cycle with heat exchanger\n",
"WN_he=WN;\n",
"eff_he=(1-c/t)*100; // Efficiency of the cycle with heat exchanger\n",
"dev_WN1=(WN_he-WN)*100/WN; //Percentage deviation of Net work from basic cycle\n",
"dev_eff1=(eff_he-eff)*100/eff; // Percentage deviation of efficiency from basic cycle\n",
"\n",
"// Basic cycle with intercooled compressor\n",
"WN_ic=(Cp*T1)*(t*(1-1/c)-2*(sqrt(c)-1));\n",
"eff_ic=(1-(((t/c)+sqrt(c)-2)/(t-sqrt(c))))*100;\n",
"dev_WN2=(WN_ic-WN)*100/WN; //Percentage deviation of Net work from basic cycle\n",
"dev_eff2=(eff_ic-eff)*100/eff; // Percentage deviation of efficiency from basic cycle\n",
"\n",
"// Basic cycle with heat exchanger and intercooled compressor\n",
"WN_iche=WN_ic;\n",
"eff_iche=(1-((2*(sqrt(c)-1))/(t*(1-1/c))))*100;\n",
"dev_WN3=(WN_iche-WN)*100/WN; //Percentage deviation of Net work from basic cycle\n",
"dev_eff3=(eff_iche-eff)*100/eff; // Percentage deviation of efficiency from basic cycle\n",
"\n",
"printf ('Cycle \t\t\t\t\t\t   WN(kJ/kg) \t\tefficiency (in percentage)\t\t  percentage Change in WN \t\tpercentage change in efficiency');\n",
"printf('\n\t\t\t\t\t\t(roundoff error)    \t(roundoff error)   \t\t\t (roundoff error)\t\t\t\t (roundoff error)');\n",
"printf ('\n\nBasci cycle \t\t\t\t\t %f \t\t\t %f\t\t\t\t\t - \t\t\t\t\t -',WN,eff);\n",
"printf ('\n\nWith Heat Exchanger \t\t\t\t %f \t\t\t %f\t\t\t\t\t %f \t\t\t %f',WN_he,eff_he,dev_WN1,dev_eff1);\n",
"printf ('\n\nWith intercooling \t\t\t\t %f \t\t\t %f\t\t\t\t\t %f \t\t\t %f',WN_ic,eff_ic,dev_WN2,dev_eff2);\n",
"printf ('\n\nWith Heat Exchanger & Intercooling \t\t %f \t\t\t %f\t\t\t\t\t %f \t\t\t %f',WN_iche,eff_iche,dev_WN3,dev_eff3);"
   ]
   }
,
{
		   "cell_type": "markdown",
		   "metadata": {},
		   "source": [
			"## Example 5.13: Comparison_of_Carnot_efficiency_with_Brayton_efficiency.sce"
		   ]
		  },
  {
"cell_type": "code",
	   "execution_count": null,
	   "metadata": {
	    "collapsed": true
	   },
	   "outputs": [],
"source": [
"clc;\n",
"T1=27+273; // Temperature at state 1 in kelvin\n",
"T3=827+273; // Temperature at state 3 in kelvin\n",
"Cp=1.005; // Specific heat at constant pressure in kJ/kg K\n",
"r=1.4; // Specific heat ratio\n",
"\n",
"t=T3/T1; // Temperature ratio\n",
"Wmax=Cp*((T3*(1-1/sqrt(t)))-T1*(sqrt(t)-1)); // Maximum work\n",
"eff_wmax=(1-1/sqrt(t)); // Efficiency of brayton cycle\n",
"Tmax=T3; Tmin=T1;\n",
"eff_carnot=(Tmax-Tmin)/Tmax; // Carnot efficiency\n",
"disp ('kJ/kg of air',Wmax,'Maximum net work per kg of air = ');\n",
"disp ('%',eff_wmax*100,'Brayton cycle efficiency = ');\n",
"disp ('%',eff_carnot*100,'Carnot cycle efficiency = ');"
   ]
   }
,
{
		   "cell_type": "markdown",
		   "metadata": {},
		   "source": [
			"## Example 5.15: Calculation_of_Improvement_in_Efficiency.sce"
		   ]
		  },
  {
"cell_type": "code",
	   "execution_count": null,
	   "metadata": {
	    "collapsed": true
	   },
	   "outputs": [],
"source": [
"clc;\n",
"p1=1; // Pressure at state 1 in bar\n",
"T1=300; // Temperature at state 1 in kelvin\n",
"p4=5; // Pressure at state 4 in bar\n",
"T5=1250; // Temperature at state 5 in kelvin\n",
"Cp=1.005; // Specific heat at constant pressure in kJ/kg K\n",
"r=1.4; // Specific heat ratio\n",
"\n",
"rp=p4/p1; // pressure ratio\n",
"p2=sqrt (rp); // Because of perfect intercooling\n",
"c1=p2^((r-1)/r); \n",
"T2=T1*c1; // Temperature at state 2\n",
"T4=T2; T3=T1;\n",
"\n",
"Wc1=Cp*(T2-T1); // Work of compressor 1\n",
"Wc=2*Wc1; // net work of compressor\n",
"WT1=Wc;\n",
"T6=T5-(WT1/Cp); // Temperature at state 6\n",
"p5_p6=(T5/T6)^(r/(r-1)); // Pressure ratio\n",
"p6=rp/p5_p6; // Pressure at state 6\n",
"p7=p1; T7=T5;p8=p6;\n",
"T8=T7*(p7/p8)^((r-1)/r); // Temperature in state 8\n",
"WT2=Cp*(T7-T8); // Turbine 2 work\n",
"q=Cp*(T5-T4)+Cp*(T7-T6); // Heat supplied\n",
"eff=WT2/q; // Efficiency of the cycle\n",
"// With regenerator\n",
"T9=T8;\n",
"q_withregen=Cp*((T5-T9)+(T7-T6)); // Heat supplied with regenerator\n",
"eff_withregen=WT2/q_withregen; // Efficiency of the cycle with regenerator\n",
"I_eff=(eff_withregen-eff)/eff_withregen; // Percentage improvement in efficiency\n",
"\n",
"disp ('%',eff*100,'Efficiency of the cycle = ','kJ/kg',q,'Heat supplied = ','kJ/kg',WT2,'Work of turbine = ','(i). Without regenerator ');\n",
"disp ('%',eff_withregen*100,'Efficiency of the cycle = ','kJ/kg   (roundoff error)',q_withregen,'Heat supplied = ','(ii). With regenerator' );\n",
"\n",
"disp ('%',I_eff*100,'Percentage improvement in efficiency = ');"
   ]
   }
,
{
		   "cell_type": "markdown",
		   "metadata": {},
		   "source": [
			"## Example 5.16: Calculation_of_Efficiency_ratio_of_the_power_plants.sce"
		   ]
		  },
  {
"cell_type": "code",
	   "execution_count": null,
	   "metadata": {
	    "collapsed": true
	   },
	   "outputs": [],
"source": [
"clc;\n",
"p1=1; // pressure at inlet in bar\n",
"T1=27+273; // Temperature at inlet in kelvin\n",
"T4=1200; // Maximum temperature in kelvin\n",
"t=T4/T1; // Temperature ratio\n",
"r=1.4; // Specific heat ratio\n",
"\n",
"rp=t;\n",
"c=rp^((r-1)/r);\n",
"x=(1-sqrt(c)/rp)/(1-c/rp);\n",
"eff2_1=x;\n",
"r1=sqrt(rp);\n",
"r2=r1; r3=r1; r4=r1;\n",
"\n",
"disp (eff2_1,'Efficiency ratio of power plants = ');\n",
"disp (r4,'pressure ratio of LPT = ',r3,'pressure ratio of HPT = ',r2,'pressure ratio of HPC = ',r1,'pressure ratio of LPC = ');"
   ]
   }
,
{
		   "cell_type": "markdown",
		   "metadata": {},
		   "source": [
			"## Example 5.19: Determination_of_Net_power_output.sce"
		   ]
		  },
  {
"cell_type": "code",
	   "execution_count": null,
	   "metadata": {
	    "collapsed": true
	   },
	   "outputs": [],
"source": [
"clc;\n",
"m=30; // Mass flow rate in kg/s\n",
"p1=1; // pressure of air at compressor inlet in bar\n",
"T1=273+15; // Temperature of air at compressor inlet in kelvin\n",
"p2=10.5; // Pressure of air at compressor outlet\n",
"T_R=420; // Temperature rise due to combustion in kelvin\n",
"p4=1.2; // Pressure at turbine outlet in bar\n",
"Cp=1.005; // Specific heat at constant pressure in kJ/kg K\n",
"r=1.4; // Specific heat ratio\n",
"\n",
"T2=T1*(p2/p1)^((r-1)/r); // Temperature at state 2\n",
"T3=T2+T_R; // Temperature at state 3\n",
"p3=p2;\n",
"T4=T3/(p3/p4)^((r-1)/r);\n",
"Wc=m*Cp*(T2-T1); // Compressor work\n",
"WT=m*Cp*(T3-T4); // Turbine work\n",
"WN=WT-Wc; // Net work output\n",
"Q=m*Cp*(T3-T2); // Heat supplied\n",
"eff_th=WN/Q; // Thermal efficiency\n",
"\n",
"disp ('%',eff_th*100,'Thermal efficiency = ','kW   (roundoff error)',WN,'Power output = ','kW',Q,'Heat supplied = ');"
   ]
   }
,
{
		   "cell_type": "markdown",
		   "metadata": {},
		   "source": [
			"## Example 5.1: Calculation_of_MEP_and_Efficiency.sce"
		   ]
		  },
  {
"cell_type": "code",
	   "execution_count": null,
	   "metadata": {
	    "collapsed": true
	   },
	   "outputs": [],
"source": [
"clc;\n",
"p1=1; // Pressure before compression in bar\n",
"T1=350; // Temperature before compression in kelvin\n",
"T3=2000; // Temperature after combustion in kelvin\n",
"rp=1.3; // Pressure ratio\n",
"Cp=1.005; // Specific heat at constant pressure in kJ/kg K\n",
"r=1.4; // Specific heat ratio\n",
"R=287; // Characteristic gas constant in J/kg K\n",
"\n",
"T2=T1*(rp)^((r-1)/r); // Temperature at the end of the compression\n",
"T4=T3*(1/rp)^((r-1)/r); // Temperature after expansion\n",
"Wc=Cp*(T2-T1); // Work done during compression\n",
"WT=Cp*(T3-T4); // Work done during expansion\n",
"WN=WT-Wc; // Net work done\n",
"p2=rp*p1; // Pressure at state 2\n",
"p3=p2; p4=p1; // Constant pressure process\n",
"V1=R*T1/(p1*10^5); // specific Volume at state 1\n",
"V2=R*T2/(p2*10^5); // specific Volume at state 2\n",
"V3=R*T3/(p3*10^5); // specific Volume at state 3\n",
"V4=R*T4/(p4*10^5); // specific Volume at state 4\n",
"imep=WN*10^3/(V4-V2); // Mean effective pressure\n",
"q=Cp*(T3-T2); // Heat supplied\n",
"eff=WN/q; // Efficiency of a Joule cycle\n",
"disp ('bar',imep*10^-5,'Mean effective pressure = ');\n",
"disp ('%',eff*100,'Efficiency of a Joule cycle = ');\n",
""
   ]
   }
,
{
		   "cell_type": "markdown",
		   "metadata": {},
		   "source": [
			"## Example 5.2: Calculation_of_Improvement_in_Efficiency.sce"
		   ]
		  },
  {
"cell_type": "code",
	   "execution_count": null,
	   "metadata": {
	    "collapsed": true
	   },
	   "outputs": [],
"source": [
"clc;\n",
"p1=1; // Pressure before compression in bar\n",
"T1=350; // Temperature before compression in kelvin\n",
"T3=2000; // Temperature after combustion in kelvin\n",
"rp=1.3; // Pressure ratio\n",
"Cp=1.005; // Specific heat at constant pressure in kJ/kg K\n",
"r=1.4; // Specific heat ratio\n",
"R=287; // Characteristic gas constant in J/kg K\n",
"\n",
"T2=T1*(rp)^((r-1)/r); // Temperature at the end of the compression\n",
"T4=T3*(1/rp)^((r-1)/r); // Temperature after expansion\n",
"Wc=Cp*(T2-T1); // Work done during compression\n",
"WT=Cp*(T3-T4); // Work done during expansion\n",
"WN=WT-Wc; // Net work done\n",
"T5=T4; // For a perfect heat exchange\n",
"q=Cp*(T3-T5); // Heat added\n",
"eff2=WN/q; // Efficiency of a modified Joule cycle\n",
"eff1=0.072220534; // Efficiency of a joule cycle\n",
"disp ('%',eff2*100,'Efficiency of a modified Joule cycle = ');\n",
"disp (eff2/eff1,'Improvement in efficiency = ');"
   ]
   }
,
{
		   "cell_type": "markdown",
		   "metadata": {},
		   "source": [
			"## Example 5.3: calculation_of_net_power_output_of_the_cycle.sce"
		   ]
		  },
  {
"cell_type": "code",
	   "execution_count": null,
	   "metadata": {
	    "collapsed": true
	   },
	   "outputs": [],
"source": [
"clc;\n",
"rp=6; // Pressure ratio\n",
"T1=300; // Inlet air temperature to the compressor in kelvin\n",
"T3=577+273; // Inlet temperature of air at turbine in kelvin\n",
"Vr=240; // Volume rate in m^3/s\n",
"Cp=1.005; // Specific heat at constant pressure in kJ/kg K\n",
"r=1.4; // Specific heat ratio\n",
"R=287; // Characteristic gas constant in J/kg K\n",
"p1=1; // pressure at state 1 in bar\n",
"\n",
"T2=T1*(rp)^((r-1)/r); // Temperature at the end of the compression\n",
"T4=T3*(1/rp)^((r-1)/r); // Temperature after expansion\n",
"Wc=Cp*(T2-T1); // Work done during compression\n",
"WT=Cp*(T3-T4); // Work done during expansion\n",
"WN=WT-Wc; // Net work done\n",
"q=Cp*(T3-T2); // Heat supplied\n",
"row1=p1*10^5/(R*T1); // Density of air at state 1\n",
"P=WN*Vr*row1; // Power output\n",
"eff=WN/q; // Efficiency of a cycle\n",
"disp ('MW   (roundoff error)',P/1000,'Power Output = ');\n",
"disp ('%',eff*100,'Efficiency of a cycle = ');"
   ]
   }
,
{
		   "cell_type": "markdown",
		   "metadata": {},
		   "source": [
			"## Example 5.4: Calculation_of_Efficiency_and_work_of_compression.sce"
		   ]
		  },
  {
"cell_type": "code",
	   "execution_count": null,
	   "metadata": {
	    "collapsed": true
	   },
	   "outputs": [],
"source": [
"clc;\n",
"T1=300; // Inlet air temperature to the compressor in kelvin\n",
"p1=1; // pressure at state 1 in bar\n",
"T2=475; // Temperature at discharge in kelvin\n",
"p2=5;// Pressure at state 2\n",
"T5=655; // Temperature after heat exchanger in kelvin\n",
"T3=870+273; // Temperature at he turbine inlet in kelvin\n",
"T4=450+273; // Temperature after turbine in kelvin\n",
"Cp=1.005; // Specific heat at constant pressure in kJ/kg K\n",
"r=1.4; // Specific heat ratio\n",
"R=287; // Characteristic gas constant in J/kg K\n",
"\n",
"Wc=Cp*(T2-T1); // Work done during compression\n",
"WT=Cp*(T3-T4); // Work done during expansion\n",
"WN=WT-Wc; // Net work done\n",
"q=Cp*(T3-T5); // Heat supplied\n",
"eff=WN/q; // Efficiency of a cycle\n",
"\n",
"disp ('kJ/kg',WN,'(i). The output per kg of air = ');\n",
"disp ('%',eff*100,'(ii).The efficiency of the cycle = ');\n",
"disp ('kJ/kg',Wc,'(iii). The work required to drive the compressor = ');"
   ]
   }
,
{
		   "cell_type": "markdown",
		   "metadata": {},
		   "source": [
			"## Example 5.5: Calculation_of_Thermal_Efficiency.sce"
		   ]
		  },
  {
"cell_type": "code",
	   "execution_count": null,
	   "metadata": {
	    "collapsed": true
	   },
	   "outputs": [],
"source": [
"clc;\n",
"p1=1.4; // Pressure at state 1 in bar\n",
"T1=310; // Temperature at state 1 in kelvin\n",
"rp=5; // Pressure ratio\n",
"Tmax=1050; // Maximum temperatuer in kelvin\n",
"WN=3000; // Net output in kW\n",
"Cp=1.005; // Specific heat at constant pressure in kJ/kg K\n",
"r=1.4; // Specific heat ratio\n",
"R=287; // Characteristic gas constant in J/kg K\n",
"\n",
"T3=Tmax;\n",
"T2=T1*(rp)^((r-1)/r); // Temperature at the state 2\n",
"T4=T3/(rp)^((r-1)/r); // Temperature at the state 4\n",
"T5=T4; // As regenerator effectiveness in 100 %\n",
"m=WN/(Cp*((T3-T4)-(T2-T1))); // mass flow rate of air\n",
"eff=(T3-T4-T2+T1)/(T3-T5); // Efficiency of a cycle\n",
"disp ('%',eff*100,'(i). Thermal efficiency of the cycle = ');\n",
"disp ('kg/min   (roundoff error)',m*60,'(ii). The mass flow rate of air per minute = ');"
   ]
   }
,
{
		   "cell_type": "markdown",
		   "metadata": {},
		   "source": [
			"## Example 5.6: Calculation_of_Pressure_ratio_of_compressor_and_turbine.sce"
		   ]
		  },
  {
"cell_type": "code",
	   "execution_count": null,
	   "metadata": {
	    "collapsed": true
	   },
	   "outputs": [],
"source": [
"clc;\n",
"T1=290; // Compressor inlet temperature in kelvin\n",
"T2=460; // Compressor outlet temperature in kelvin\n",
"T3=900+273; // Turbine inlet temperature in kelvin\n",
"T4=467+273; // Turbine outlet temperature in kelvin\n",
"Cp=1.005; // Specific heat at constant pressure in kJ/kg K\n",
"r=1.4; // Specific heat ratio\n",
"R=287; // Characteristic gas constant in J/kg K\n",
"\n",
"c=T2/T1; // Temperature ratio\n",
"rpc=c^(r/(r-1)); // Compression ratio\n",
"WN=(Cp*((T3-T4)-(T2-T1))); // Specific power\n",
"T5=T4; // Assuming regenerator effectiveness to be 100%\n",
"eff=WN/(Cp*(T3-T5)); // Overall efficiency of the cycle\n",
"Wc=Cp*(T2-T1); // Work required to drive the compressor\n",
"rpt=(T3/T4)^(r/(r-1)); // Turbine pressure ratio\n",
"disp (rpt,' Turbine pressure ratio =  ',rpc,' Compressor pressure ratio = ','(i).');\n",
"disp ('kJ/kg',WN,'(ii). Specific power output = ');\n",
"disp ('%',eff*100, '(iii). Overall efficiency of the cycle = ');\n",
"disp ('kJ/kg',Wc,' (iv). Work required to drive the compressor = ');"
   ]
   }
,
{
		   "cell_type": "markdown",
		   "metadata": {},
		   "source": [
			"## Example 5.7: Calculation_of_temperature_drop_across_the_turbine.sce"
		   ]
		  },
  {
"cell_type": "code",
	   "execution_count": null,
	   "metadata": {
	    "collapsed": true
	   },
	   "outputs": [],
"source": [
"clc;\n",
"nW_WT=0.563; // Ratio of net work to turbine work\n",
"T1=300; // Inlet temperature to the compressor in kelvin\n",
"eff=0.35; // Thermal efficiency of the unit\n",
"m=10; // massflow rate in kg/s\n",
"Cp=1; // Specific heat at constant pressure in kJ/kg K\n",
"r=1.4; // Specific heat ratio\n",
"\n",
"c=1/(1-eff); // For ideal simple cycle\n",
"T2=T1*c; // Temperature at state 2\n",
"Wc=Cp*(T2-T1); // Compressor work\n",
"WT=Wc/(1-nW_WT); // Turbine work\n",
"WN=WT-Wc; // Net work\n",
"q=WN/eff; // Net heat supplied per kg of air\n",
"T3=(q/Cp)+T2; // Temperature at state 3\n",
"T4=T3/c; // Temperature at state 4\n",
"T3_T4=T3-T4; // Temperature drop across the turbine\n",
"disp ('K',T3_T4,'Temperature drop across the turbine = ');"
   ]
   }
,
{
		   "cell_type": "markdown",
		   "metadata": {},
		   "source": [
			"## Example 5.8: Calculation_of_turbine_pressure_ratio.sce"
		   ]
		  },
  {
"cell_type": "code",
	   "execution_count": null,
	   "metadata": {
	    "collapsed": true
	   },
	   "outputs": [],
"source": [
"clc;\n",
"p=336.5; //specific power output of a turbine in kW/kg\n",
"T4=700; // Temperature at turbine outlet in kelvin\n",
"Cp=1; // Specific heat at constant pressure in kJ/kg K\n",
"Cv=0.717; // Specific heat at constant volume in kJ/kg K\n",
"\n",
"r=Cp/Cv; // Specific heat ratio\n",
"T3=T4+(p/Cp); // Temperature at turbine inlet \n",
"p3_p4=(T3/T4)^(r/(r-1)); // Pressure ratio across the turbine\n",
"disp (round(p3_p4),'Pressure ratio across the turbine = ');"
   ]
   }
,
{
		   "cell_type": "markdown",
		   "metadata": {},
		   "source": [
			"## Example 5.9: Estimation_of_thermal_efficiency_of_the_plant.sce"
		   ]
		  },
  {
"cell_type": "code",
	   "execution_count": null,
	   "metadata": {
	    "collapsed": true
	   },
	   "outputs": [],
"source": [
"clc;\n",
"T1=300; // Minimum operating temperature in kelvin\n",
"T3=900; // Maximum operating temperature in kelvin\n",
"p1=1; // Minimum pressure in bar\n",
"p3=4; // Maximum pressure in bar\n",
"m=1600; // Mass flowrate in kg/min\n",
"r=1.4; // Specific heat ratio\n",
"Cp=1.005; // Specific heat at constant pressure in kJ/kg K\n",
"\n",
"p2=p3; p4=p1; // Constant pressure process\n",
"c=(p2/p1)^((r-1)/r); \n",
"eff=(1-1/c); // The efficiency of the cycle\n",
"t=T3/T1; // ratio of maximum and minimum temperature\n",
"W=Cp*T1*(t*(1-1/c)-(c-1)); // Work output per kg of air\n",
"P=(m/60)*W; // Shaft power available\n",
"disp ('%',eff*100,' Thermal efficiency of the plant = ');\n",
"disp ('kW   (roundoff error)',P,'Shaft power available for external Load = ');"
   ]
   }
],
"metadata": {
		  "kernelspec": {
		   "display_name": "Scilab",
		   "language": "scilab",
		   "name": "scilab"
		  },
		  "language_info": {
		   "file_extension": ".sce",
		   "help_links": [
			{
			 "text": "MetaKernel Magics",
			 "url": "https://github.com/calysto/metakernel/blob/master/metakernel/magics/README.md"
			}
		   ],
		   "mimetype": "text/x-octave",
		   "name": "scilab",
		   "version": "0.7.1"
		  }
		 },
		 "nbformat": 4,
		 "nbformat_minor": 0
}
