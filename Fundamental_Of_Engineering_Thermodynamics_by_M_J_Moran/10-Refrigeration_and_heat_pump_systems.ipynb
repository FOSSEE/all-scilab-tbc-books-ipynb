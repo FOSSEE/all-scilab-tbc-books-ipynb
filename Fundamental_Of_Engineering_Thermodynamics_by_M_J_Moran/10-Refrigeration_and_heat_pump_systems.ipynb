{
"cells": [
 {
		   "cell_type": "markdown",
	   "metadata": {},
	   "source": [
       "# Chapter 10: Refrigeration and heat pump systems"
	   ]
	},
{
		   "cell_type": "markdown",
		   "metadata": {},
		   "source": [
			"## Example 10.1: Example_1.sce"
		   ]
		  },
  {
"cell_type": "code",
	   "execution_count": null,
	   "metadata": {
	    "collapsed": true
	   },
	   "outputs": [],
"source": [
"//(10.1)  Refrigerant 134a is the working fluid in an ideal vapor-compression refrigeration cycle that communicates thermally with a cold region at 0C and a warm region at 26C. Saturated vapor enters the compressor at 0C and saturated liquid leaves the condenser at 26C. The mass flow rate of the refrigerant is 0.08 kg/s. Determine (a) the compressor power, in kW, (b) the refrigeration capacity, in tons, (c) the coefficient of performance, and (d) the coefficient of performance of a Carnot refrigeration cycle operating between warm and cold regions at 26 and 0C, respectively.\n",
"\n",
"//solution\n",
"\n",
"//variable initialization\n",
"\n",
"Tc = 273                                                                        //temperature of cold region in kelvin\n",
"Th = 299                                                                        //temperature of hot region in kelvin\n",
"mdot = .08                                                                      //mass flow rate in kg/s\n",
"\n",
"//analysis\n",
"//At the inlet to the compressor, the refrigerant is a saturated vapor at 0C, so from Table A-10\n",
"h1 = 247.23                                                                     //in kj/kg\n",
"s1 = .9190                                                                      //in kj/kg.k\n",
"\n",
"//The pressure at state 2s is the saturation pressure corresponding to 26C, or\n",
"p2 = 6.853                                                                      //in bars\n",
"//The refrigerant at state 2s is a superheated vapor with\n",
"h2s = 264.7                                                                     //in kj/kg\n",
"//State 3 is saturated liquid at 26C, so\n",
"h3 = 85.75                                                                      //in kj/kg\n",
"h4 = h3                                                                         //since The expansion through the valve is a throttling process\n",
"\n",
"//part(a)\n",
"Wcdot = mdot*(h2s-h1)                                                           //The compressor work input in KW\n",
"printf('the compressor power, in kW, is:  %f',Wcdot)\n",
"\n",
"//part(b)\n",
"Qindot = mdot*(h1-h4)*60/211                                                    //refrigeration capacity in ton\n",
"printf('\nthe refrigeration capacity in tons is:  %f',Qindot)\n",
"\n",
"//part(c)\n",
"funcprot(0)\n",
"beta = (h1-h4)/(h2s-h1)\n",
"printf('\nthe coefficient of performance is:  %f',beta)\n",
"\n",
"//part(d)\n",
"betamax = Tc/(Th-Tc)\n",
"printf('\n the coefficient of performance of a Carnot refrigeration cycle operating between warm and cold regions at 26 and 0C, respectively is:  %f',betamax)\n",
"\n",
"\n",
"\n",
"\n",
"\n",
"\n",
"\n",
"\n",
"\n",
"\n",
""
   ]
   }
,
{
		   "cell_type": "markdown",
		   "metadata": {},
		   "source": [
			"## Example 10.2: Example_2.sce"
		   ]
		  },
  {
"cell_type": "code",
	   "execution_count": null,
	   "metadata": {
	    "collapsed": true
	   },
	   "outputs": [],
"source": [
"//(10.2)  Modify Example 10.1 to allow for temperature differences between the refrigerant and the warm and cold regions as follows. Saturated vapor enters the compressor at 10C. Saturated liquid leaves the condenser at a pressure of 9 bar. Determine for the modified vapor-compression refrigeration cycle (a) the compressor power, in kW, (b) the refrigeration capacity, in tons, (c) the coefficient of performance. Compare results with those of Example 10.1.\n",
"\n",
"//solution\n",
"mdot = .08                                                                      //mass flow rate in kg/s\n",
"//analysis\n",
"//at the inlet to the compressor, the refrigerant is a saturated vapor at 10C, so from Table A-10,\n",
"h1 = 241.35                                                                     //in kj/kg\n",
"s1 = .9253                                                                      //in kj/kg.k\n",
"//Interpolating in Table A-12 gives\n",
"h2s = 272.39                                                                    //in kj/kg.k\n",
"//State 3 is a saturated liquid at 9 bar, so\n",
"h3 = 99.56                                                                      //in kj/kg\n",
"h4 = h3                                                                         //since The expansion through the valve is a throttling process\n",
"\n",
"//part(a)\n",
"Wcdot = mdot*(h2s-h1)                                                           //The compressor power input in KW\n",
"printf('the compressor power in kw is:  %f',Wcdot)\n",
"\n",
"//part(b)\n",
"Qindot = mdot*(h1-h4)*60/211                                                    //refrigeration capacity in tons\n",
"printf('\nthe refrigeration capacity in tons is:  %f',Qindot)\n",
"\n",
"//part(c)\n",
"beta = (h1-h4)/(h2s-h1)\n",
"printf('\nthe coefficient of performance is:  %f',beta)\n",
"\n",
"\n",
"\n",
"\n",
"\n",
"\n",
"\n",
"\n",
""
   ]
   }
,
{
		   "cell_type": "markdown",
		   "metadata": {},
		   "source": [
			"## Example 10.3: Example_3.sce"
		   ]
		  },
  {
"cell_type": "code",
	   "execution_count": null,
	   "metadata": {
	    "collapsed": true
	   },
	   "outputs": [],
"source": [
"//(10.3)  Reconsider the vapor-compression refrigeration cycle of Example 10.2, but include in the analysis that the compressor has an efficiency of 80%. Also, let the temperature of the liquid leaving the condenser be 30C. Determine for the modified cycle (a) the compressor power, in kW, (b) the refrigeration capacity, in tons, (c) the coefficient of performance, and (d) the rates of exergy destruction within the compressor and expansion valve, in kW, for T0 = 299 K (26C).\n",
"\n",
"//solution\n",
"Tnot = 299                                                                      //in kelvin\n",
"etac = .8                                                                       //compressor efficiency of 80 percent\n",
"mdot = .08                                                                      //mass flow rate in kg/s\n",
"//analysis\n",
"//State 1 is the same as in Example 10.2, so\n",
"h1 = 241.35                                                                     //in kj/kg\n",
"s1 = .9253                                                                      //in kj/kg.k\n",
"//from example 10.2\n",
"h2s = 272.39                                                                    //in kj/kg\n",
"h2 =(h2s-h1)/etac + h1                                                          //in kj/kg\n",
"//Interpolating in Table A-12,\n",
"s2 = .9497                                                                      //in kj/kg.k\n",
"\n",
"h3 = 91.49                                                                      //in kj/kg\n",
"s3 = .3396\n",
"h4 = h3                                                                         //since The expansion through the valve is a throttling process\n",
"//from data table\n",
"hf4 = 36.97                                                                     //in kj/kg\n",
"hg4 = 241.36                                                                    //in kj/kg\n",
"sf4 = .1486                                                                     //in kj/kg.k\n",
"sg4 = .9253                                                                     //in kj/kg.k\n",
"x4 = (h4-hf4)/(hg4-hf4)                                                         //quality at state 4\n",
"s4 = sf4 + x4*(sg4-sf4)                                                         //specific entropy at state 4 in kj/kg.k\n",
"\n",
"//part(a)\n",
"Wcdot = mdot*(h2-h1)                                                            //compressor power in kw\n",
"printf('the compressor power in kw is:  %f',Wcdot)\n",
"\n",
"//part(b)\n",
"Qindot = mdot*(h1-h4)*60/211                                                    //refrigeration capacity in ton\n",
"printf('\n\nnthe refrigeration capacity in ton is:  %f',Qindot)\n",
"\n",
"//part(c)\n",
"beta = (h1-h4)/(h2-h1)                                                          //coefficient of performance \n",
"printf('\n\nthe coefficient of performance is:  %f',beta)\n",
"\n",
"//part(d)\n",
"Eddotc = mdot*Tnot*(s2-s1)                                                      //in kw\n",
"Eddotv = mdot*Tnot*(s4-s3)                                                      //in kw\n",
"printf('\n\nthe rate of exergy destruction within the compressor is:  %f',Eddotc)\n",
"printf('\nthe rate of exergy destruction within the valve is:  %f',Eddotv)\n",
"\n",
"\n",
"\n",
"\n",
"\n",
"\n",
"\n",
"\n",
"\n",
"\n",
""
   ]
   }
,
{
		   "cell_type": "markdown",
		   "metadata": {},
		   "source": [
			"## Example 10.4: Example_4.sce"
		   ]
		  },
  {
"cell_type": "code",
	   "execution_count": null,
	   "metadata": {
	    "collapsed": true
	   },
	   "outputs": [],
"source": [
"//(10.4)   Air enters the compressor of an ideal Brayton refrigeration cycle at 1 bar, 270K, with a volumetric flow rate of 1.4 m3/s. If the compressor pressure ratio is 3 and the turbine inlet temperature is 300K, determine (a) the net power input, in kW, (b) the refrigeration capacity, in kW, (c) the coefficient of performance\n",
"\n",
"//solution\n",
"\n",
"//variable initialization\n",
"p1 = 1                                                                          //in bar\n",
"T1 = 270                                                                        //in kelvin\n",
"AV = 1.4                                                                        //in m^3/s\n",
"r = 3                                                                           //compressor pressure ratio\n",
"T3 = 300                                                                        //turbine inlet temperature in kelvin\n",
"\n",
"//analysis\n",
"//From Table A-22,\n",
"h1 = 270.11                                                                     //in kj/kg\n",
"pr1 = .9590\n",
"pr2 = r*pr1\n",
"//interpolating in Table A-22,\n",
"h2s = 370.1                                                                     //in kj/kg\n",
"//From Table A-22,\n",
"h3 = 300.19                                                                     //in kj/kg\n",
"pr3 = 1.3860\n",
"pr4 = pr3/r\n",
"//Interpolating in Table A-22, we obtain\n",
"h4s = 219                                                                       //in kj/kg\n",
"\n",
"//part(a)\n",
"R = 8.314                                                                       //universal gas constant, in SI units\n",
"M = 28.97                                                                       //molar mass of air in grams\n",
"mdot = (AV*p1)/((R/M)*T1)*10^2                                                  //mass flow rate in kg/s\n",
"\n",
"Wcycledot = mdot*((h2s-h1)-(h3-h4s))\n",
"printf('the net power input in kw is:  %f',Wcycledot)\n",
"\n",
"//part(b)\n",
"Qindot = mdot*(h1-h4s)                                                          //refrigeration capacity in kw\n",
"printf('\nthe refregeration capacity in kw is:  %f',Qindot)\n",
"\n",
"//part(c)\n",
"beta = Qindot/Wcycledot                                                         //coefficient of performance\n",
"printf('\nthe coefficient of performance is:  %f',beta)\n",
"\n",
"\n",
"\n",
"\n",
"\n",
"\n",
"\n",
"\n",
"\n",
"\n",
"\n",
"\n",
"\n",
""
   ]
   }
,
{
		   "cell_type": "markdown",
		   "metadata": {},
		   "source": [
			"## Example 10.5: Example_5.sce"
		   ]
		  },
  {
"cell_type": "code",
	   "execution_count": null,
	   "metadata": {
	    "collapsed": true
	   },
	   "outputs": [],
"source": [
"//(10.5)  Reconsider Example 10.4, but include in the analysis that the compressor and turbine each have an isentropic efficiency of 80%. Determine for the modified cycle (a) the net power input, in kW, (b) the refrigeration capacity, in kW, (c) the coefficient of performance, and interpret its value.\n",
"\n",
"//solution\n",
"funcprot(0)\n",
"\n",
"//part(a)\n",
"wcdots = 99.99                                                                  //work per unit mass for the isentropic compression determined with data from the solution in Example 10.4 in kj/kg\n",
"mdot = 1.807                                                                    //mass flow rate in kg/s from 10.4\n",
"etac = .8                                                                       //isentropic efficiency of compressor\n",
"Wcdot = mdot*wcdots/etac                                                        //The power input to the compressor in kw\n",
"\n",
"//Using data form the solution to Example 10.4 gives\n",
"wtdots =81.19                                                                   //in kj/kg\n",
"etat = .8                                                                       //isentropic efficiency of turbine\n",
"Wtdot = mdot*etat*wtdots                                                        //actual turbine work in kw\n",
"\n",
"Wdotcycle = Wcdot-Wtdot                                                         //The net power input to the cycle in kw\n",
"printf('the net power input in kw is:  %f',Wdotcycle)\n",
"\n",
"//part(b)\n",
"h3 = 300.19                                                                     //in kj/kg\n",
"h4 = h3 -Wtdot/mdot\n",
"//from table A-22\n",
"h1 = 270.11                                                                     //in kj/kg\n",
"Qindot = mdot*(h1-h4)                                                            //refrigeration capacity in kw\n",
"printf('\nthe refrigeration capacity in kw is:  %f',Qindot)\n",
"\n",
"//part(c)\n",
"beta = Qindot/Wdotcycle                                                         //coefficient of performance \n",
"printf('\nthe coefficient of performance is:  %f',beta)\n",
"\n",
"\n",
"\n",
"\n",
"\n",
"\n",
"\n",
"\n",
""
   ]
   }
],
"metadata": {
		  "kernelspec": {
		   "display_name": "Scilab",
		   "language": "scilab",
		   "name": "scilab"
		  },
		  "language_info": {
		   "file_extension": ".sce",
		   "help_links": [
			{
			 "text": "MetaKernel Magics",
			 "url": "https://github.com/calysto/metakernel/blob/master/metakernel/magics/README.md"
			}
		   ],
		   "mimetype": "text/x-octave",
		   "name": "scilab",
		   "version": "0.7.1"
		  }
		 },
		 "nbformat": 4,
		 "nbformat_minor": 0
}
