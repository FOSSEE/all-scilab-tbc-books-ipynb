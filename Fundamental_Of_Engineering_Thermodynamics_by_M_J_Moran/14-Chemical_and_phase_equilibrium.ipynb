{
"cells": [
 {
		   "cell_type": "markdown",
	   "metadata": {},
	   "source": [
       "# Chapter 14: Chemical and phase equilibrium"
	   ]
	},
{
		   "cell_type": "markdown",
		   "metadata": {},
		   "source": [
			"## Example 14.10: Example_10.sce"
		   ]
		  },
  {
"cell_type": "code",
	   "execution_count": null,
	   "metadata": {
	    "collapsed": true
	   },
	   "outputs": [],
"source": [
"//(14.10)  A closed system at a temperature of 20C and a pressure of 1 bar consists of a pure liquid water phase in equilibrium with a vapor phase composed of water vapor and dry air. Determine the departure, in percent, of the partial pressure of the water vapor from the saturation pressure of water at 20C.\n",
"\n",
"\n",
"\n",
"//solution\n",
"//With data from Table A-2 at 20C,\n",
"vf = 1.0018e-3                                                                  //in m^3/kg\n",
"psat = .0239                                                                    //in bar\n",
"p = 1                                                                           //in bar\n",
"T = 293.15                                                                      //in kelvin\n",
"\n",
"Rbar = 8.314                                                                    //universal gas constant in SI units\n",
"M = 18.02                                                                       //molat mass of water in kg/kmol\n",
"\n",
"pvbypsat = %e^(vf*(p-psat)*10^5/[(1000*Rbar/M)*T])\n",
"\n",
"percent = (pvbypsat-1)*100\n",
"printf('the departure, in percent, of the partial pressure of the water vapor from the saturation pressure of water at 20 is:  %f',percent)"
   ]
   }
,
{
		   "cell_type": "markdown",
		   "metadata": {},
		   "source": [
			"## Example 14.1: Example_1.sce"
		   ]
		  },
  {
"cell_type": "code",
	   "execution_count": null,
	   "metadata": {
	    "collapsed": true
	   },
	   "outputs": [],
"source": [
"//(14.1)  Evaluate the equilibrium constant, expressed as log10K, for the reaction at (a) 298 K and (b) 2000 K. Compare with the value obtained from Table A-27.\n",
"  \n",
"  \n",
"//solution\n",
"\n",
"//The reaction is CO + .5O2  ---->   CO2\n",
"\n",
"//part(a)\n",
"T = 298                                                                         //in kelvin\n",
"Rbar = 8.314                                                                    //universal gas constant in SI units\n",
"//from table A-25\n",
"\n",
"hfbarCO2 = -393520                                                              //in kj/kmol\n",
"hfbarCO = -110530                                                               //in kj/kmol\n",
"hfbarO2 = 0                                                                     //in kj/kmol\n",
"deltahbarCO2 = 0                                                                //in kj/kmol\n",
"deltahbarCO = 0                                                                 //in kj/kmol\n",
"deltahbarO2 = 0                                                                 //in kj/kmol\n",
"sbarCO2 = 213.69                                                                //in kj/kmol.K\n",
"sbarCO = 197.54                                                                 //in kj/kmol.K\n",
"sbarO2 = 205.03                                                                 //in kj/kmol.K\n",
"\n",
"deltaG = [hfbarCO2-hfbarCO-.5*hfbarO2] + [deltahbarCO2-deltahbarCO-.5*deltahbarO2] - T*(sbarCO2-sbarCO-.5*sbarO2)\n",
"lnK = -deltaG/(Rbar*T)\n",
"logK = (1/log(10))*lnK\n",
"//from table A-27\n",
"logKtable = 45.066\n",
"printf('part(a) the value of equilibrium constant expressed as log10K is:  %f',logK)\n",
"printf('\nthe value of equilibrium constant expressed as log10K from table A-27 is:  %f',logKtable)\n",
"\n",
"//part(b)\n",
"T = 2000                                                                        //in kelvin\n",
"//from table A-23\n",
"hfbarCO2 = -393520                                                              //in kj/kmol\n",
"hfbarCO = -110530                                                               //in kj/kmol\n",
"hfbarO2 = 0                                                                     //in kj/kmol\n",
"deltahbarCO2 = 100804-9364                                                      //in kj/kmol\n",
"deltahbarCO = 65408 - 8669                                                      //in kj/kmol\n",
"deltahbarO2 = 67881 - 8682                                                      //in kj/kmol\n",
"sbarCO2 = 309.210                                                               //in kj/kmol.K\n",
"sbarCO = 258.6                                                                  //in kj/kmol.K\n",
"sbarO2 = 268.655                                                                //in kj/kmol.K\n",
"\n",
"deltaG = [hfbarCO2-hfbarCO-.5*hfbarO2] + [deltahbarCO2-deltahbarCO-.5*deltahbarO2] - T*(sbarCO2-sbarCO-.5*sbarO2)\n",
"lnK = -deltaG/(Rbar*T)\n",
"logK = (1/log(10))*lnK\n",
"//from table A-27\n",
"logKtable = 2.884\n",
"printf('\n\npart(b) the value of equilibrium constant expressed as log10K is:  %f',logK)\n",
"printf('\nthe value of equilibrium constant expressed as log10K from table A-27 is:  %f',logKtable)\n",
"\n",
"\n",
"\n",
"\n",
"\n",
"\n",
"\n",
"\n",
"\n",
"\n",
"\n",
"\n",
""
   ]
   }
,
{
		   "cell_type": "markdown",
		   "metadata": {},
		   "source": [
			"## Example 14.2: Example_2.sce"
		   ]
		  },
  {
"cell_type": "code",
	   "execution_count": null,
	   "metadata": {
	    "collapsed": true
	   },
	   "outputs": [],
"source": [
"//(14.2)  One kilomole of carbon monoxide, CO, reacts with .5kmol of oxygen, O2, to form an equilibrium mixture of CO2, CO, and O2 at 2500 K and (a) 1 atm, (b) 10 atm. Determine the equilibrium composition in terms of mole fractions\n",
"\n",
"\n",
"//solution\n",
"\n",
"//Applying conservation of mass, the overall balanced chemical reaction equation is\n",
"//CO + .5O2    ------->    zCO + (z/2)O2 + (1-z)CO2\n",
"\n",
"//At 2500 K, Table A-27 gives\n",
"log10K = -1.44\n",
"K = 10^log10K                                                                   //equilibrium constant\n",
"//part(a)\n",
"p = 1                                                                           //in atm\n",
"//solving equation K = (z/(1-z))*(2/(2 + z))^.5 *(p/1)^.5 gives\n",
"z = .129\n",
"yCO = 2*z/(2 + z)\n",
"yO2 = z/(2 + z)\n",
"yCO2 = 2*(1 - z)/(2 + z)\n",
"printf('part(a) mole fraction of CO is:  %f',yCO)\n",
"printf('\nmole fraction of O2 is:  %f',yO2)\n",
"printf('\nmole fraction of CO2 is:  %f',yCO2)\n",
"\n",
"//part(b)\n",
"p = 10                                                                          //in atm\n",
"//solving equation K = (z/(1-z))*(2/(2 + z))^.5 *(p/1)^.5 gives\n",
"z = .062\n",
"yCO = 2*z/(2 + z)\n",
"yO2 = z/(2 + z)\n",
"yCO2 = 2*(1 - z)/(2 + z)\n",
"printf('\n\npart(b) mole fraction of CO is:  %f',yCO)\n",
"printf('\nmole fraction of O2 is:  %f',yO2)\n",
"printf('\nmole fraction of CO2 is:  %f',yCO2)"
   ]
   }
,
{
		   "cell_type": "markdown",
		   "metadata": {},
		   "source": [
			"## Example 14.3: Example_3.sce"
		   ]
		  },
  {
"cell_type": "code",
	   "execution_count": null,
	   "metadata": {
	    "collapsed": true
	   },
	   "outputs": [],
"source": [
"//(14.3)  Measurements show that at a temperature T and a pressure of 1 atm, the equilibrium mixture for the system of Example 14.2 has the composition yCO = 0.298,yO2 = .149, yCO2 = .553.Determine the temperature T of the mixture, in K.\n",
"\n",
"\n",
"//solution\n",
"yCO = .298\n",
"//solving yCO = 2z/(2 + z)\n",
"z = 2*yCO/(2 - yCO)\n",
"\n",
"p = 1                                                                           //in atm\n",
"pref = 1                                                                        //in atm\n",
"\n",
"K = (z/(1-z))*(z/(2 + z))^.5*(p/pref)^.5\n",
"\n",
"//with this value of K, table A-27 gives\n",
"T = 2881\n",
"printf('the temperature T of the mixture in kelvin is:  %f',T)"
   ]
   }
,
{
		   "cell_type": "markdown",
		   "metadata": {},
		   "source": [
			"## Example 14.4: Example_4.sce"
		   ]
		  },
  {
"cell_type": "code",
	   "execution_count": null,
	   "metadata": {
	    "collapsed": true
	   },
	   "outputs": [],
"source": [
"//(14.4)  One kilomole of carbon monoxide reacts with the theoretical amount of air to form an equilibrium mixture of CO2, CO, O2, and N2 at 2500 K and 1 atm. Determine the equilibrium composition in terms of mole fractions, and compare with the result of Example 14.2.\n",
"\n",
"\n",
"\n",
"//solution\n",
"\n",
"//For a complete reaction of CO with the theoretical amount of air\n",
"//CO + .5 O2 + 1.88N2  ----->  CO2 + 1.88N2    \n",
"//Accordingly, the reaction of CO with the theoretical amount of air to form CO2, CO, O2, and N2 is\n",
"//CO + .5O2 + 1.88N2 --->  zCO + z/2 O2 + (1-z)CO2 + 1.88N2\n",
"\n",
"K = .0363                                                                       //equilibrium constant the solution to Example 14.2\n",
"p =1                                                                            //in atm\n",
"pref = 1                                                                        //in atm\n",
"\n",
"//solving K = (z*z^.5/(1-z))*((p/pref)*2/(5.76+z))^.5 gives\n",
"z = .175\n",
"yCO = 2*z/(5.76 + z)\n",
"yO2 = z/(5.76 + z)\n",
"yCO2 = 2*(1-z)/(5.76 + z)\n",
"yN2 = 3.76/(5.76 + z)\n",
"printf('the mole fraction of CO is:  %f',yCO)\n",
"printf('\nthe mole fraction of O2 is:  %f',yO2)\n",
"printf('\nthe mole fraction of CO2 is:  %f',yCO2)\n",
"printf('\nthe mole fraction of N2 is:  %f',yN2)"
   ]
   }
,
{
		   "cell_type": "markdown",
		   "metadata": {},
		   "source": [
			"## Example 14.5: Example_5.sce"
		   ]
		  },
  {
"cell_type": "code",
	   "execution_count": null,
	   "metadata": {
	    "collapsed": true
	   },
	   "outputs": [],
"source": [
"//(14.5)  Carbon dioxide at 25C, 1 atm enters a reactor operating at steady state and dissociates, giving an equilibrium mixture of CO2, CO, and O2 that exits at 3200 K, 1 atm. Determine the heat transfer to the reactor, in kJ per kmol of CO2 entering. The effectsof kinetic and potential energy can be ignored and Wcvdot = 0\n",
"\n",
"\n",
"\n",
"//solution\n",
"\n",
"//Applying the conservation of mass principle, the overall dissociation reaction is described by\n",
"//CO2  ---->  zCO2 + (1-z)CO + ((1-z)/2)O2\n",
"\n",
"p = 1                                                                           //in atm\n",
"pref = 1                                                                        //in atm\n",
"//At 3200 K, Table A-27 gives\n",
"log10k = -.189\n",
"k = 10^log10k\n",
"//solving k = ((1-z)/2)*((1-z)/(3-z))^.5 gives\n",
"z = .422\n",
"\n",
"//from tables A-25  and A-23\n",
"hfbarCO2 = -393520                                                              //in kj/kmol\n",
"deltahbarCO2 = 174695-9364                                                      //in kj/kmol\n",
"hfbarCO = -110530                                                               //in kj/kmol\n",
"deltahbarCO = 109667-8669                                                       //in kj/kmol\n",
"hfbarO2 = 0                                                                     //in kj/kmol\n",
"deltahbarO2 = 114809-8682                                                       //in kj/kmol\n",
"hfbarCO2r =  -393520                                                             //in kj/kmol\n",
"deltahbarCO2r = 0                                                                //in kj/kmol\n",
"\n",
"Qcvdot = .422*(hfbarCO2 + deltahbarCO2) + .578*(hfbarCO + deltahbarCO) + .289*(hfbarO2 + deltahbarO2)- (hfbarCO2r + deltahbarCO2r)  \n",
"printf('the heat transfer to the reactor, in kJ per kmol of CO2 entering is:  %f',Qcvdot)   "
   ]
   }
,
{
		   "cell_type": "markdown",
		   "metadata": {},
		   "source": [
			"## Example 14.6: Example_6.sce"
		   ]
		  },
  {
"cell_type": "code",
	   "execution_count": null,
	   "metadata": {
	    "collapsed": true
	   },
	   "outputs": [],
"source": [
"//(14.6)  Carbon monoxide at 25C, 1 atm enters a well-insulated reactor and reacts with the theoretical amount of air entering at the same temperature and pressure. An equilibrium mixture of CO2, CO, O2, and N2 exits the reactor at a pressure of 1 atm. For steady-state operation and negligible effects of kinetic and potential energy, determine the composition and temperature of the exiting mixture in K.\n",
"\n",
"\n",
"//solution\n",
"\n",
"//The overall reaction is\n",
"//CO + .5O2 + 1.88N2  ------->   zCO + (z/2)O2 + (1-z)CO2 + 1.88N2\n",
"p =1                                                                            //in atm\n",
"pref = 1                                                                        //in atm\n",
"\n",
"//solving equations K = (z/(1-z))*(z/(5.76+z))^.5   and  z*deltahbarCO + (z/2)*deltahbarO2 + (1-z)*deltahbarCO2 + 1.88deltahbarN2 + (1-z)*[hfbarCO2-hfbarCO]= 0\n",
"z = .125\n",
"T = 2399                                                                        //in kelvin\n",
"printf('the temperature of the exiting mixture in kelvin is:  %f',T)\n",
"printf('\ncomposition of the equilibrium mixture, in kmol per kmol of CO entering the reactor, is then 0.125CO, 0.0625O2, 0.875CO2, 1.88N2.')"
   ]
   }
,
{
		   "cell_type": "markdown",
		   "metadata": {},
		   "source": [
			"## Example 14.7: Example_7.sce"
		   ]
		  },
  {
"cell_type": "code",
	   "execution_count": null,
	   "metadata": {
	    "collapsed": true
	   },
	   "outputs": [],
"source": [
"printf('IT software problem')"
   ]
   }
,
{
		   "cell_type": "markdown",
		   "metadata": {},
		   "source": [
			"## Example 14.8: Example_8.sce"
		   ]
		  },
  {
"cell_type": "code",
	   "execution_count": null,
	   "metadata": {
	    "collapsed": true
	   },
	   "outputs": [],
"source": [
"//(14.8)  Consider an equilibrium mixture at 2000K consisting of Cs, Cs+, and e-, where Cs denotes neutral cesium atoms, Cs+ singly ionized cesium ions, and e- free electrons. The ionization-equilibrium constant at this temperature for\n",
"//    Cs <--> Cs+ + e-\n",
"//is K = 15.63. Determine the pressure, in atmospheres, if the ionization of Cs is 95% complete, and plot percent completion of ionization versus pressure ranging from 0 to 10 atm.\n",
"\n",
"\n",
"\n",
"//solution\n",
"//The ionization of cesium to form a mixture of Cs, Cs+, and e- is described by\n",
"//Cs  ---->  (1-z)Cs + zCs+ + Ze-\n",
"\n",
"K = 15.63\n",
"z = .95\n",
"pref =1                                                                         //in atm\n",
"p = pref*K*((1-z^2)/z^2)\n",
"printf('the pressure in atm if the ionization of CS is 95 percent complete is:  %f',p)\n",
"\n",
"x = linspace(0,10,100)\n",
"for i = 1:100\n",
"    y(1,i) = 100*sqrt(1/(1+x(1,i)/K))\n",
"end\n",
"plot(x,y)\n",
"xtitle('','p(atm)','z(%)')"
   ]
   }
,
{
		   "cell_type": "markdown",
		   "metadata": {},
		   "source": [
			"## Example 14.9: Example_9.sce"
		   ]
		  },
  {
"cell_type": "code",
	   "execution_count": null,
	   "metadata": {
	    "collapsed": true
	   },
	   "outputs": [],
"source": [
"//(14.9)  As a result of heating, a system consisting initially of 1 kmol of CO2,.5 kmol of O2, and  5 kmol of N2 forms an equilibrium mixture of CO2, CO, O2, N2, and NO at 3000 K, 1 atm. Determine the composition of the equilibrium mixture.\n",
"\n",
"\n",
"\n",
"//solution\n",
"\n",
"//The overall reaction can be written as\n",
"//CO2 + .5O2 + .5N2  ---->  aCO + bNO + (1-a)CO2 + .5(1+a-b)O2 + .5(1-b)N2\n",
"\n",
"//At 3000 K, Table A-27 provides\n",
"log10K1 = -.485                                                                 //equilibrium constant of the reaction CO2 <--> CO + .5O2\n",
"log10K2 = -.913                                                                 //equilibrium constant of the reaction .5O2 + .5N2 <-->NO\n",
"\n",
"K1 = 10^log10K1\n",
"K2 = 10^log10K2\n",
"\n",
"//solving equations K1 = (a/(1-a))*((1+a-b)/(4+a))^.5  and  K2 = 2b/((1+a-b)*(1-b))^.5\n",
"a = .3745\n",
"b = .0675\n",
"printf('The composition of the equilibrium mixture, in kmol per kmol of CO2 present initially, is then 0.3745CO, 0.0675NO, 0.6255CO2, 0.6535O2, 0.4663N2.')"
   ]
   }
],
"metadata": {
		  "kernelspec": {
		   "display_name": "Scilab",
		   "language": "scilab",
		   "name": "scilab"
		  },
		  "language_info": {
		   "file_extension": ".sce",
		   "help_links": [
			{
			 "text": "MetaKernel Magics",
			 "url": "https://github.com/calysto/metakernel/blob/master/metakernel/magics/README.md"
			}
		   ],
		   "mimetype": "text/x-octave",
		   "name": "scilab",
		   "version": "0.7.1"
		  }
		 },
		 "nbformat": 4,
		 "nbformat_minor": 0
}
