{
"cells": [
 {
		   "cell_type": "markdown",
	   "metadata": {},
	   "source": [
       "# Chapter 13: Reacting mixtures and combustion"
	   ]
	},
{
		   "cell_type": "markdown",
		   "metadata": {},
		   "source": [
			"## Example 13.10: Example_10.sce"
		   ]
		  },
  {
"cell_type": "code",
	   "execution_count": null,
	   "metadata": {
	    "collapsed": true
	   },
	   "outputs": [],
"source": [
"//(13.10)  Determine the change in entropy of the system of Example 13.6 in kJ/K.\n",
"\n",
"\n",
"//solution\n",
"Rbar = 8.314                                                                    //universal gas constant in SI units\n",
"//The chemical equation for the complete combustion of methane with oxygen is\n",
"//CH4 + 2O2 ---->  CO2 + 2H2O\n",
"yCH4 = 1/3\n",
"yO2 = 2/3\n",
"yCO2 = 1/3\n",
"yH2O = 2/3\n",
"//from table A-25\n",
"sbarCH4atTref = 186.16                                                          //in kj/kmol.K\n",
"sbarO2atTref = 205.03                                                           //in kj/kmol.K\n",
"\n",
"sbarCH4 = sbarCH4atTref - Rbar*log(yCH4)\n",
"sbarO2 = sbarO2atTref - Rbar*log(yO2)\n",
"\n",
"p2 = 3.02                                                                       //in atm\n",
"pref = 1                                                                        //in atm\n",
"//with help from table A-23\n",
"sbarCO2 = 263.559 - Rbar*log(yCO2*p2/pref)                                      //in kj/kmol.K\n",
"sbarH2O = 228.321 - Rbar*log(yH2O*p2/pref)                                      //in kj/kmol.K\n",
"\n",
"deltaS = sbarCO2 + 2*sbarH2O - sbarCH4 -2*sbarO2                                //in kj/K\n",
"printf('the chenge in entropy of the system  in kJ/K is:  %f',deltaS)"
   ]
   }
,
{
		   "cell_type": "markdown",
		   "metadata": {},
		   "source": [
			"## Example 13.11: Example_11.sce"
		   ]
		  },
  {
"cell_type": "code",
	   "execution_count": null,
	   "metadata": {
	    "collapsed": true
	   },
	   "outputs": [],
"source": [
"//(13.11)  Determine the Gibbs function of formation of methane at the standard state, 25C and 1 atm, in kJ/kmol, and compare with the value given in Table A-25.\n",
"\n",
"\n",
"\n",
"//solution\n",
"\n",
"//Methane is formed from carbon and hydrogen according to\n",
"//C + 2H2 ------>  CH4\n",
"\n",
"//In the present case, all substances are at the same temperature and pressure, 25C and 1 atm, which correspond to the standard reference state values\n",
"hCbar = 0\n",
"hH2bar = 0\n",
"gRbar = 0\n",
"//With enthalpy of formation and absolute entropy data from Table A-25\n",
"hfbarCH4 = -74850\n",
"sbarCH4 = 186.16\n",
"sbarC = 5.74\n",
"sbarH2 = 130.57\n",
"\n",
"Tref = 298.15                                                                   //in kelvin\n",
"\n",
"gfbarCH4 = hfbarCH4 -Tref*(sbarCH4-sbarC-2*sbarH2)                              //in kj/kmol\n",
"printf('the gibbs function of formation of methane at the standard state is:  %f',gfbarCH4)"
   ]
   }
,
{
		   "cell_type": "markdown",
		   "metadata": {},
		   "source": [
			"## Example 13.12: Example_12.sce"
		   ]
		  },
  {
"cell_type": "code",
	   "execution_count": null,
	   "metadata": {
	    "collapsed": true
	   },
	   "outputs": [],
"source": [
"//(13.12)  Determine the chemical exergy of liquid octane at 25C, 1 atm, in kJ/kg. (a) Using Eq. 13.36, evaluate the chemical exergy for an environment consisting of a gas phase at 25C, 1 atm obeying the ideal gas model with the following composition on a molar basis: N2, 75.67%; O2, 20.35%; H2O, 3.12%; CO2, 0.03%; other, 0.83%. (b) Evaluate the chemical exergy using Eq. 13.44b and standard chemical exergies from Table A-26 (Model II).\n",
"\n",
"\n",
"\n",
"//solution\n",
"\n",
"//Complete combustion of liquid octane with O2 is described by\n",
"//C8H18(l) + 12.5O2   ------>   8CO2 + 9H2O\n",
"\n",
"//part(a)\n",
"Rbar = 8.314                                                                    //universal gas constant in SI units\n",
"Tnot = 298.15                                                                   //in kelvin\n",
"//from table A-25\n",
"gbarC8H18 = 6610\n",
"gbarO2 = 0\n",
"gbarCO2 = -394380\n",
"gbarH2O = -228590\n",
"\n",
"yO2 = .2035\n",
"yCO2 = .0003\n",
"yH2O = .0312\n",
"\n",
"M = 114.22                                                                      //molecular weight of liquid octane\n",
"\n",
"ech = ((gbarC8H18 + 12.5*gbarO2 -8*gbarCO2 -9*gbarH2O) + Rbar*Tnot*log(yO2^12.5/(yCO2^8*yH2O^9    )))/M\n",
"printf('part(a) the chemical exergy obtained on a unit mass basis is:  %f',ech)\n",
"\n",
"//part(b)\n",
"//With data from Table A-25 and Model II of Table A-26\n",
"gbarH2O = -237180\n",
"ebarCO2 = 19870\n",
"ebarH2O = 900\n",
"ebarO2 = 3970\n",
"\n",
"ech = ((gbarC8H18 + 12.5*gbarO2 -8*gbarCO2 - 9*gbarH2O) + 8*ebarCO2 + 9*ebarH2O - 12.5*ebarO2)/M\n",
"printf('\n\npart(b) chemical exergy on a unit mass basis is:  %f',ech)\n",
"\n",
"\n",
"\n",
"\n",
"\n",
"\n",
"\n",
"\n",
"\n",
"\n",
"\n",
"\n",
""
   ]
   }
,
{
		   "cell_type": "markdown",
		   "metadata": {},
		   "source": [
			"## Example 13.13: Example_13.sce"
		   ]
		  },
  {
"cell_type": "code",
	   "execution_count": null,
	   "metadata": {
	    "collapsed": true
	   },
	   "outputs": [],
"source": [
"//(13.13)   Steam at 5 bar, 240C leaks from a line in a vapor power plant. Evaluate the flow exergy of the steam, in kJ/kg, relative to an environment at 25C, 1 atm in which the mole fraction of water vapor is yeH2O = 0.0303\n",
"\n",
"\n",
"//solution\n",
"Rbar = 8.314                                                                    //universal gas constant in SI units\n",
"Tnot = 298                                                                      //in kelvin\n",
"//With data from the steam tables\n",
"h = 2939.9                                                                      //in kj/kg\n",
"hnot = 104.9                                                                    //in kj/kg\n",
"s = 7.2307                                                                      //in kj/kg\n",
"snot = .3674                                                                    //in kj/kg\n",
"//With data from Table A-25\n",
"gbarH2Oliq = -237180\n",
"gbarH2Ogas = -228590\n",
"yeH2O = .0303\n",
"M =18                                                                           //molar mass of steam\n",
"\n",
"ech = (1/M)*(gbarH2Oliq-gbarH2Ogas + Rbar*Tnot*log(1/yeH2O))                    //in kj/kg\n",
"\n",
"ef = h-hnot-Tnot*(s-snot) + ech                                                 //in kj/kg\n",
"printf(' the flow exergy of the steam, in kJ/k is:  %f',ef)"
   ]
   }
,
{
		   "cell_type": "markdown",
		   "metadata": {},
		   "source": [
			"## Example 13.14: Example_14.sce"
		   ]
		  },
  {
"cell_type": "code",
	   "execution_count": null,
	   "metadata": {
	    "collapsed": true
	   },
	   "outputs": [],
"source": [
"//(13.14)   Methane gas enters a reactor and burns completely with 140% theoretical air. Combustion products exit as a mixture at temperature T and a pressure of 1 atm. For T = 480 and 1560 K, evaluate the flow exergy of the combustion products, in kJ per kmol of fuel. Perform calculations relative to an environment consisting of an ideal gas mixture at 25C, 1 atm with the molar analysis, yeN2 = 0.7567, yeO2 = 0.2035, yeH2O = 0.0303, yeCO2 = 0.0003.\n",
"\n",
"\n",
"\n",
"//solution\n",
"\n",
"//For 140% theoretical air, the reaction equation for complete combustion of methane is\n",
"//CH4 + 2.8(O2 + 3.76N2)  ------->  CO2 + 2H2O + 10.53N2 + .8O2\n",
"\n",
"//for product side\n",
"yCO2p = 1/(1+2+10.53+.8)\n",
"yH2Op = 2/(1+2+10.53+.8)\n",
"yN2p = 10.53/(1+2+10.53+.8)\n",
"yO2p = .8/(1+2+10.53+.8)\n",
"\n",
"Rbar = 8.314                                                                    //universal gas constant in SI units\n",
"Tnot = 298.15                                                                      //in kelvin\n",
"\n",
"yeN2 = .7567\n",
"yeO2 = .2035\n",
"yeH2O = .0303\n",
"yeCO2 = .0003\n",
"\n",
"ebarch = Rbar*Tnot*(log(yCO2p/yeCO2) + 2*log(yH2Op/yeH2O) + 10.53*log(yN2p/yeN2) + .8*log(yO2p/yeO2))\n",
"\n",
"//with data from tables A-23 at 480 and 1560 kelvin,the thermomechanical contribution to the flow exergy, per mole of fuel, is\n",
"contri480 = 17712                                                               //kJ per kmol of fuel\n",
"contri1560 = 390853                                                             //kJ per kmol of fuel\n",
"\n",
"efbar480 = contri480 + ebarch                                                   //kJ per kmol of fuel\n",
"efbar1560 = contri1560 + ebarch                                                 //kJ per kmol of fuel\n",
"\n",
"printf('at T= 480k, the flow exergy of the combustion products, in kJ per kmol of fuel is:  %f',efbar480)\n",
"printf('\nat T = 1560K, the flow exergy of the combustion products, in kJ per kmol of fuel is:  %f',efbar1560)\n",
"\n",
"\n",
"\n",
"\n",
"\n",
"\n",
"\n",
"\n",
""
   ]
   }
,
{
		   "cell_type": "markdown",
		   "metadata": {},
		   "source": [
			"## Example 13.15: Example_15.sce"
		   ]
		  },
  {
"cell_type": "code",
	   "execution_count": null,
	   "metadata": {
	    "collapsed": true
	   },
	   "outputs": [],
"source": [
"//(13.15)  Devise and evaluate an exergetic efficiency for the internal combustion engine of Example 13.4. For the fuel, use the chemical exergy value determined in Example 13.12(a).\n",
"\n",
"\n",
"//solution\n",
"\n",
"mFdot = 1.8e-3                                                                  //fuel mass flow rate in kg/s\n",
"ech = 47346                                                                     //in kj/kg, from example 13.12(a)\n",
"Wcvdot = 37                                                                     //power developed by the engine in kw\n",
"\n",
"Efdot = mFdot*ech                                                               //rate at which exergy enters with the fuel in kw\n",
"\n",
"epsilon = Wcvdot/Efdot                                                          //exergetic efficiency\n",
"printf('the exergetic efficiency is:  %f',epsilon)"
   ]
   }
,
{
		   "cell_type": "markdown",
		   "metadata": {},
		   "source": [
			"## Example 13.16: Example_16.sce"
		   ]
		  },
  {
"cell_type": "code",
	   "execution_count": null,
	   "metadata": {
	    "collapsed": true
	   },
	   "outputs": [],
"source": [
"//(13.16)   For the reactor of Example 13.9, determine the exergy destruction, in kJ per kmol of fuel, and devise and evaluate an exergetic efficiency. Consider (a) complete combustion with the theoretical amount of air (b) complete combustion with 400% theoretical air. For the fuel, use the chemical exergy value determined in Example 13.12(a).\n",
"\n",
"\n",
"//solution\n",
"\n",
"Tnot = 298                                                                      //in kelvin\n",
"\n",
"//For the case of complete combustion with the theoretical amount of air\n",
"sigmadot = 5404                                                                 //rate of entropy production from example 13.9, in kj/kmol.K\n",
"Eddot = Tnot*sigmadot                                                           //in kj/kmol\n",
"Efdot = 5407843                                                                 //rate at which exergy enters with the fuel from example 13.12, in kj/kmol\n",
"epsilon = 1-Eddot/Efdot\n",
"printf('the exergetic efficiency with theoretical amount of air is:  %f',epsilon)\n",
"\n",
"//for the case of combustion with 400% theoretical air\n",
"sigmadot = 9754                                                                 //rate of entropy production from example 13.9, in kj/kmol.K\n",
"Eddot = Tnot*sigmadot                                                           ////in kj/kmol\n",
"epsilon = 1-Eddot/Efdot\n",
"printf('\nthe exergetic efficiency with 400 percent theoretical amount of air is:  %f',epsilon)"
   ]
   }
,
{
		   "cell_type": "markdown",
		   "metadata": {},
		   "source": [
			"## Example 13.1: Example_1.sce"
		   ]
		  },
  {
"cell_type": "code",
	   "execution_count": null,
	   "metadata": {
	    "collapsed": true
	   },
	   "outputs": [],
"source": [
"//(13.1)  Determine the air–fuel ratio on both a molar and mass basis for the complete combustion of octane, C8H18, with (a) the theoretical amount of air, (b) 150% theoretical air (50% excess air).\n",
"\n",
"//solution\n",
"\n",
"//part(a)\n",
"//the combustion equation can be written in the form of \n",
"//C8H18 + a(O2 + 3.76N2) --> b CO2 + c H2O + d N2\n",
"//using conservation of mass principle\n",
"b = 8\n",
"c = 18/2\n",
"a = (2*b+c)/2\n",
"d = 3.76*a\n",
"\n",
"//The air–fuel ratio on a molar basis is\n",
"AFbar = a*(1+3.76)/1\n",
"\n",
"Ma = 28.97                                                                      //molar mass of air\n",
"MC8H18 = 114.22                                                                 //molar mass of C8H18\n",
"//The air–fuel ratio expressed on a mass basis is\n",
"AF = AFbar*[Ma/MC8H18]\n",
"\n",
"printf('The air–fuel ratio on a molar basis is:  %f',AFbar)\n",
"printf('\nThe air–fuel ratio expressed on a mass basis is:  %f',AF)\n",
"\n",
"//part(b)\n",
"//For 150% theoretical air, the chemical equation for complete combustion takes the form\n",
"//c8H18 + 1.5*12.5*(O2 + 3.76N2) --->  b CO2 + c H2O + d N2 + e O2\n",
"//using conservation of mass\n",
"b = 8\n",
"c =18/2\n",
"e = (1.5*12.5*2 - c -2*b)/2\n",
"d = 1.5*12.5*3.76\n",
"//The air–fuel ratio on a molar basis is\n",
"AFbar = 1.5*12.5*(1+3.76)/1\n",
"//The air–fuel ratio expressed on a mass basis is\n",
"AF = AFbar*[Ma/MC8H18]\n",
"printf('\n\nThe air–fuel ratio on a molar basis is:  %f',AFbar)\n",
"printf('\nThe air–fuel ratio expressed on a mass basis is:  %f',AF)\n",
"\n",
"\n",
"\n",
"\n",
"\n",
"\n",
"\n",
"\n",
"\n",
""
   ]
   }
,
{
		   "cell_type": "markdown",
		   "metadata": {},
		   "source": [
			"## Example 13.2: Example_2.sce"
		   ]
		  },
  {
"cell_type": "code",
	   "execution_count": null,
	   "metadata": {
	    "collapsed": true
	   },
	   "outputs": [],
"source": [
"//(13.2)  Methane, CH4, is burned with dry air. The molar analysis of the products on a dry basis is CO2, 9.7%; CO, 0.5%; O2, 2.95%; and N2, 86.85%. Determine (a) the air–fuel ratio on both a molar and a mass basis, (b) the percent theoretical air, (c) the dew point temperature of the products, in C, if the mixture were cooled at 1 atm.\n",
"\n",
"//solution\n",
"\n",
"//part(a)\n",
"//The chemical equation\n",
"//a CH4 + b*(O2 + 3.76N2)  --->  9.7CO2 + .5CO + 2.95O2 + 86.85N2 + cH2O\n",
"\n",
"//applying conservation of mass \n",
"a = 9.7 + .5\n",
"c = 2*a\n",
"b = [9.7*2+.5+2*2.95+c]/2\n",
"\n",
"Ma = 28.97                                                                      //molar mass of air\n",
"MCH4 = 16.04                                                                    //molar mass of methane\n",
"//On a molar basis, the air–fuel ratio is\n",
"AFbar = b*(1+3.76)/a\n",
"//On a mass basis\n",
"AF = AFbar*(Ma/MCH4)\n",
"\n",
"printf('the air-fuel ratio on a molar basis is:  %f',AFbar)\n",
"printf('\nthe air-fuel ratio on a mass basis is:  %f',AF)\n",
"\n",
"//part(b)\n",
"//The balanced chemical equation for the complete combustion of methane with the theoretical amount of air is\n",
"//CH4 + 2(O2 + 3.76N2)  --->  CO2 + 2H2O + 7.52N2\n",
"//The theoretical air–fuel ratio on a molar basis is\n",
"AFbartheo = 2*(1+3.76)/1\n",
"//The percent theoretical air is\n",
"Ta = AFbar/AFbartheo\n",
"printf('\n\nthe percent theoretical air is:  %f',Ta*100)\n",
"\n",
"//part(c)\n",
"//the mole fraction of the water vapor is\n",
"yv = 20.4/(100+20.4)\n",
"pv = yv*1\n",
"//Interpolating in Table A-2,\n",
"T = 57                                                                          //in degree celcius\n",
"printf('\n\nthe dew point temperature of the products, in C, if the mixture were cooled at 1 atm is:  %f',T)\n",
"\n",
"\n",
"\n",
"\n",
"\n",
"\n",
"\n",
"\n",
"\n",
"\n",
"\n",
"\n",
"\n",
"\n",
"\n",
"  "
   ]
   }
,
{
		   "cell_type": "markdown",
		   "metadata": {},
		   "source": [
			"## Example 13.3: Example_3.sce"
		   ]
		  },
  {
"cell_type": "code",
	   "execution_count": null,
	   "metadata": {
	    "collapsed": true
	   },
	   "outputs": [],
"source": [
"//(13.3)  A natural gas has the following molar analysis: CH4, 80.62%; C2H6, 5.41%; C3H8, 1.87%; C4H10, 1.60%; N2, 10.50%. The gas is burned with dry air, giving products having a molar analysis on a dry basis: CO2, 7.8%; CO, 0.2%; O2, 7%; N2, 85%. (a) Determine the air–fuel ratio on a molar basis. (b) Assuming ideal gas behavior for the fuel mixture, determine the amount of products in kmol that would be formed from 100 m3 of fuel mixture at 300 K and 1 bar. (c) Determine the percent of theoretical air.\n",
"\n",
"//solution\n",
"\n",
"//part(a)\n",
"//The chemical equation\n",
"//(.8062CH4 + .0541C2H6 + .0187C3H8 + .0160C4H10 + .1050N2) + a(O2 + 3.76N2)  ---->  b(.078CO2 + .002CO + .07O2 + .85N2) + c H2O\n",
"\n",
"//using mass conservation\n",
"b = [.8062 + 2*.0541 + 3*.0187 + 4*.0160]/(.078 + .002)\n",
"c = [4*.8062 + 6*.0541 + 8*.0187 + 10*.0160]/2\n",
"a = {b*[2*.078+.002+2*.07] + c}/2\n",
"\n",
"//The air–fuel ratio on a molar basis is\n",
"AFbar = a*(1+3.76)/1\n",
"printf('the air-fuel ratio on a molar mass basis is:  %f',AFbar)\n",
"\n",
"//part(b)\n",
"p = 1                                                                           //in bar\n",
"V = 100                                                                         //in m^3\n",
"Rbar = 8314                                                                     //in N.m/kmol.K\n",
"T = 300                                                                         //in kelvin\n",
"//The amount of fuel in kmol\n",
"nF = (p*10^5*V)/(Rbar*T)\n",
"//the amount of product mixture that would be formed from 100 m3 of fuel mixture is\n",
"n = nF*(b+c)\n",
"printf('\n\nthe amount of products in kmol that would be formed from 100 m3 of fuel mixture at 300 K and 1 bar is:  %f',n)\n",
"\n",
"//part(c)\n",
"//The balanced chemical equation for the complete combustion of the fuel mixture with the theoretical amount of air is\n",
"//(10.8062CH4 + 0.0541C2H6 + 0.0187C3H8 + 0.0160C4H10 + 0.1050N2) + 2(O2 + 3.76N2)   ----> 1.0345CO2 + 1.93H2O + 7.625N2\n",
"//The theoretical air–fuel ratio on a molar basis is\n",
"AFbartheo = 2*(1+3.76)/1\n",
"//The percent theoretical air is\n",
"Ta = AFbar/AFbartheo\n",
"printf('\n\nthe percent of theoretical air is:  %f',Ta*100)\n",
"\n",
"\n",
"\n",
"\n",
"\n",
"\n",
"\n",
"\n",
"\n",
"\n",
"\n",
"\n",
"\n",
""
   ]
   }
,
{
		   "cell_type": "markdown",
		   "metadata": {},
		   "source": [
			"## Example 13.4: Example_4.sce"
		   ]
		  },
  {
"cell_type": "code",
	   "execution_count": null,
	   "metadata": {
	    "collapsed": true
	   },
	   "outputs": [],
"source": [
"//(13.4)   Liquid octane enters an internal combustion engine operating at steady state with a mass flow rate of 1.8  103 kg/s and is mixed with the theoretical amount of air. The fuel and air enter the engine at 25C and 1 atm. The mixture burns completely and combustion products leave the engine at 890 K. The engine develops a power output of 37 kW. Determine the rate of heat transfer from the engine, in kW, neglecting kinetic and potential energy effects.\n",
"//solution\n",
"//The balanced chemical equation for complete combustion with the theoretical amount of air is obtained from the solution to Example 13.1 as\n",
"//C8H18 +12.5O2 + 47N2 -----> 8CO2 + 9H2O + 47N2\n",
"//from tabel A-25\n",
"hRbar = -249910                                                                 //in kj/kmol\n",
"//With enthalpy of formation values for CO2 and H2O(g) from Table A-25, and enthalpy values for N2, H2O, and CO2 from Table A-23\n",
"hpbar = 8*[-393520 + (36876 - 9364)] + 9*[-241820 + (31429 - 9904)] + 47*[(26568 - 8669)]\n",
"mfdot = 1.8e-3                                                                  //mass flow rate of liquid octane in kg/s\n",
"M = 114.22                                                                      //molar mass of octane\n",
"nFdot = mfdot/M                                                                 //molar flow rate of the fuel in kmol/s\n",
"Wcvdot = 37                                                                     //power output of the engine in kw\n",
"Qcvdot = Wcvdot + nFdot*(hpbar-hRbar)                                           //in kw\n",
"printf('the rate of heat transfer from the engine, in kW is:  %f',Qcvdot)"
   ]
   }
,
{
		   "cell_type": "markdown",
		   "metadata": {},
		   "source": [
			"## Example 13.5: Example_5.sce"
		   ]
		  },
  {
"cell_type": "code",
	   "execution_count": null,
	   "metadata": {
	    "collapsed": true
	   },
	   "outputs": [],
"source": [
"//(13.5)  Methane gas at 400 K and 1 atm enters a combustion chamber, where it is mixed with air entering at 500 K and 1 atm. The products of combustion exit at 1800 K and 1 atm with the product analysis given in Example 13.2. For operation at steady state, determine the rate of heat transfer from the combustion chamber in kJ per kmol of fuel. Neglect kinetic and potential energy effects. The average value for the specific heat cpbar of methane between 298 and 400 K is 38 kJ/kmol K.\n",
"\n",
"\n",
"//solution\n",
"\n",
"//When expressed on a per mole of fuel basis, the balanced chemical equation obtained in the solution to Example 13.2  takes the form\n",
"//CH4 + 2.265O2 + 8.515N2  ------>  .951CO2 + .049CO + .289O2 + 8.515N2 + 2H2O\n",
"cpbar = 38                                                                      //specific heat in KJ/kmol.K\n",
"//from table A-25\n",
"hfnotbar = -74850                                                               //enthalpy of formation for methane\n",
"//from table A-23\n",
"deltahbarO2 = 14770-8682\n",
"deltahbarN2 = 14581-8669\n",
"\n",
"hRbar = hfnotbar + cpbar*(400-298) + 2.265*deltahbarO2 + 8.515*deltahbarN2      //in kj/kmol\n",
"//With enthalpy of formation values for CO2, CO, and H2O(g) from Table A-25 and enthalpy values from Table A-23\n",
"hpbar = .951*[-393520 + (88806 - 9364)] + .049*[-110530 + (58191 - 8669)] + .289*(60371 - 8682) + 8.515*(57651 - 8669) + 2*[-241820 + (72513 - 9904)]\n",
"\n",
"Qcvdot = hpbar - hRbar                                                          //in kj/kmol\n",
"printf('the rate of heat transfer from the combustion chamber in kJ per kmol of fuel is:  %f',Qcvdot)"
   ]
   }
,
{
		   "cell_type": "markdown",
		   "metadata": {},
		   "source": [
			"## Example 13.6: Example_6.sce"
		   ]
		  },
  {
"cell_type": "code",
	   "execution_count": null,
	   "metadata": {
	    "collapsed": true
	   },
	   "outputs": [],
"source": [
"//(13.6)   A mixture of 1 kmol of gaseous methane and 2 kmol of oxygen initially at 25C and 1 atm burns completely in a closed, rigid container. Heat transfer occurs until the products are cooled to 900 K. If the reactants and products each form ideal gas mixtures, determine (a) the amount of heat transfer, in kJ, and (b) the final pressure, in atm.\n",
"\n",
"\n",
"//solution\n",
"\n",
"//variable initialization\n",
"nCH4 = 1                                                                        //moles of methane in kmol\n",
"nO2 = 2                                                                         //moles of oxygen in kmol\n",
"T1 = 25                                                                         //in degree celcius\n",
"p1 = 1                                                                          //in atm\n",
"T2 = 900                                                                        //in kelvin\n",
"Rbar = 8.314                                                                    //universal gas constant\n",
"//The chemical reaction equation for the complete combustion of methane with oxygen is\n",
"//CH4 + 2O2   ---->   CO2 + 2H2O\n",
"\n",
"//part(a)\n",
"//with enthalpy of formation values from table A-25\n",
"hfbarCO2 = -393520\n",
"hfbarH2O = -241820\n",
"hfbarCH4 = -74850\n",
"//with enthalpy values from table A-23\n",
"deltahbarCO2 = 37405-9364\n",
"deltahbarH2O = 31828-9904\n",
"\n",
"Q = ((hfbarCO2 + deltahbarCO2)+2*(hfbarH2O + deltahbarH2O) - hfbarCH4) + 3*Rbar*(T1+273-T2)\n",
"printf('the amount of heat transfer in kJ is:  %f',Q)\n",
"\n",
"//part(b)\n",
"p2 = p1*(T2/(T1+273))                                                           //in atm\n",
"printf('\nthe final pressure in atm is:  %f',p2)\n",
"\n",
"\n",
"\n",
"\n",
"\n",
"\n",
"\n",
"\n",
"\n",
"\n",
"\n",
""
   ]
   }
,
{
		   "cell_type": "markdown",
		   "metadata": {},
		   "source": [
			"## Example 13.7: Example_7.sce"
		   ]
		  },
  {
"cell_type": "code",
	   "execution_count": null,
	   "metadata": {
	    "collapsed": true
	   },
	   "outputs": [],
"source": [
"//(13.7)   Calculate the enthalpy of combustion of gaseous methane, in kJ per kg of fuel, (a) at 25C, 1 atm with liquid water in the products, (b) at 25C, 1 atm with water vapor in the products. (c) Repeat part (b) at 1000 K, 1 atm.\n",
"\n",
"\n",
"//solution\n",
"\n",
"//The combustion equation is\n",
"//CH4 + 2O2 + 7.52N2  ---->  CO2 + 2H2O + 7.52N2\n",
"\n",
"//part(a)\n",
"//With enthalpy of formation values from Table A-25\n",
"hfbarCO2 = -393520                                                              //in kj/kmol\n",
"hfbarH2O = -285830                                                              //in kj/kmol\n",
"hfbarCH4 = -74850                                                               //in kj/kmol\n",
"\n",
"hRPbar = hfbarCO2 + 2*hfbarH2O - hfbarCH4                                       //in kj/kmol\n",
"M = 16.04                                                                       //molar mass of CH4 in kg/kmol\n",
"hRP = hRPbar/M                                                                  //in kj/kg\n",
"printf('part(a)the enthalpy of combustion of gaseous methane, in kJ per kg of fuel is:  %f',hRP)\n",
"\n",
"//part(b)\n",
"hfbarCO2 = -393520                                                              //in kj/kmol\n",
"hfbarH2O = -241820                                                              //in kj/kmol\n",
"hfbarCH4 = -74850                                                               //in kj/kmol\n",
"\n",
"hRPbar = hfbarCO2 + 2*hfbarH2O - hfbarCH4                                       //in kj/kmol\n",
"hRP = hRPbar/M                                                                  //in kj/kg\n",
"printf('\n\npart(b)the enthalpy of combustion of gaseous methane, in kJ per kg of fuel is:  %f',hRP)\n",
"\n",
"//part(c)\n",
"//from table A-23\n",
"deltahbarO2 = 31389-8682                                                     //in kj/kmol\n",
"deltahbarH2O = 35882-9904                                                    //in kj/kmol\n",
"deltahbarCO2 = 42769-9364                                                    //in kj/kmol\n",
"\n",
"//using table A-21\n",
"function cpbar = f(T)\n",
"    cpbar = (3.826 - (3.979e-3)*T + 24.558e-6*T^2 - 22.733e-9*T^3 + 6.963e-12*T^4)*8.314\n",
"endfunction\n",
"\n",
"deltahbarCH4 = intg(298,1000,f)\n",
"var = deltahbarCH4\n",
"\n",
"hRPbar = hRPbar + (deltahbarCO2 + 2*deltahbarH2O - var -2*deltahbarO2)\n",
"hRP = hRPbar/M                                                                  //in kj/kg\n",
"printf('\n\npart(c)the enthalpy of combustion of gaseous methane, in kJ per kg of fuel is:  %f',hRP)\n",
"\n",
"\n",
"\n",
"\n",
"\n",
"\n",
"\n",
"\n",
"\n",
"\n",
"\n",
"\n",
"\n",
"\n",
"\n",
"\n",
"\n",
""
   ]
   }
,
{
		   "cell_type": "markdown",
		   "metadata": {},
		   "source": [
			"## Example 13.8: Example_8.sce"
		   ]
		  },
  {
"cell_type": "code",
	   "execution_count": null,
	   "metadata": {
	    "collapsed": true
	   },
	   "outputs": [],
"source": [
"//(13.8)  Liquid octane at 25C, 1 atm enters a well-insulated reactor and reacts with air entering at the same temperature and pressure. For steady-state operation and negligible effects of kinetic and potential energy, determine the temperature of the combustion products for complete combustion with (a) the theoretical amount of air, (b) 400% theoretical air.\n",
"\n",
"//solution\n",
"\n",
"//part(a)\n",
"//For combustion of liquid octane with the theoretical amount of air, the chemical equation is\n",
"//C8H18(l) + 12.5 O2 + 47N2   -------> 8 CO2 + 9 H2O(g) + 47N2\n",
"//with enthalpy of formation data from Table A-25\n",
"hfbarC8H18 = -249910                                                            //in kj/kmol\n",
"hfbarCO2 = -393520\n",
"hfbarH2O = -241820\n",
"\n",
"RHS = hfbarC8H18 -(8*hfbarCO2 + 9*hfbarH2O)                                     //in kj/kmol\n",
"\n",
"//at temperature 2400k\n",
"LHS1 = 5089337                                                                   //in kj/kmol\n",
"//at temperature 2350 k\n",
"LHS2 = 4955163                                                                   //in kj/kmol\n",
"//Interpolation between these temperatures gives\n",
"Tp = 2400 + [(2400-2350)/(LHS1-LHS2)]*(RHS-LHS1)\n",
"printf('the temperature in kelvin with theoretical amount of air is:  %f',Tp)\n",
"\n",
"//part(b)\n",
"//For complete combustion of liquid octane with 400% theoretical air, the chemical equation is\n",
"//C8H18(l) + 50O2 + 188N2  -------->  8CO2 + 9H2O + 37.5O2 + 188N2\n",
"\n",
"//proceeding iteratively as part(a)\n",
"Tp = 962                                                                        //in kelvin\n",
"printf('\n\nthe temperature in kelvin using 400 percent theoretical air is:  %f',Tp)\n",
"\n",
"\n",
"\n",
"\n",
"\n",
"\n",
"\n",
"\n",
"\n",
"\n",
"\n",
""
   ]
   }
,
{
		   "cell_type": "markdown",
		   "metadata": {},
		   "source": [
			"## Example 13.9: Example_9.sce"
		   ]
		  },
  {
"cell_type": "code",
	   "execution_count": null,
	   "metadata": {
	    "collapsed": true
	   },
	   "outputs": [],
"source": [
"//(13.9)  Liquid octane at 25C, 1 atm enters a well-insulated reactor and reacts with air entering at the same temperature and pressure. The products of combustion exit at 1 atm pressure. For steady-state operation and negligible effects of kinetic and potential energy, determine the rate of entropy production, in kJ/K per kmol of fuel, for complete combustion with (a) the theoretical amount of air, (b) 400% theoretical air.\n",
"\n",
"//solution\n",
"\n",
"//part(a)\n",
"Tp = 2395                                                                       //in kelvin, from example 13.8\n",
"//For combustion of liquid octane with the theoretical amount of air, the chemical equation is\n",
"//C8H18(l) + 12.5O2 + 47N2  ---->  8CO2 + 9H2O(g) + 47N2\n",
"\n",
"//from table A-25\n",
"sFbar = 360.79                                                                  //absolute entropy of liquid octane in kj/kmol.K\n",
"\n",
"//from table A-23\n",
"//for reactant side\n",
"sbarO2atTref = 205.03                                                           //in kj/kmol.K\n",
"sbarN2atTref = 191.5                                                            //in kj/kmol.K\n",
"\n",
"Rbar = 8.314                                                                    //universal gas constant in SI units\n",
"\n",
"yO2 = .21\n",
"yN2 = .79\n",
"\n",
"sbarO2 = sbarO2atTref - Rbar*log(yO2)                                           //in kj/kmol.K\n",
"sbarN2 = sbarN2atTref - Rbar*log(yN2)                                           //in kj/kmol.K\n",
"\n",
"//for product side\n",
"yCO2 = 8/64\n",
"yH2O = 9/64\n",
"yN2p = 47/64\n",
"\n",
"//with the help from table A-23\n",
"sbarCO2 = 320.173 - Rbar*log(yCO2)\n",
"sbarH2O = 273.986 - Rbar*log(yH2O)\n",
"sbarN2p = 258.503 - Rbar*log(yN2p)\n",
"\n",
"sigmadot = (8*sbarCO2 + 9*sbarH2O + 47*sbarN2p) - sFbar - (12.5*sbarO2 + 47*sbarN2)\n",
"printf(' the rate of entropy production, in kJ/K per kmol of fuel with theoretical amount of air is:  %f',sigmadot)\n",
"\n",
"//part(b)\n",
"//The complete combustion of liquid octane with 400% theoretical air is described by the following chemical equation:\n",
"//C8H18(l) + 50 O2 + 188N2  ----->  8 CO2 + 9H2O(g) + 37.5O2 + 188N2\n",
"\n",
"//for product side \n",
"yCO2 = 8/242.5\n",
"yH2O = 9/242.5\n",
"yO2 = 37.5/242.5\n",
"yN2p = 188/242.5\n",
"\n",
"//with help from table A-23\n",
"sbarCO2 = 267.12 - Rbar*log(yCO2)\n",
"sbarH2O = 231.01 - Rbar*log(yH2O)\n",
"sbarO2p = 242.12 - Rbar*log(yO2)\n",
"sbarN2p = 226.795 - Rbar*log(yN2p)\n",
"\n",
"sigmadot = (8*sbarCO2 + 9*sbarH2O + 37.5*sbarO2p +188*sbarN2p) -sFbar - (50*sbarO2 + 188*sbarN2)\n",
"printf('\n\nthe rate of entropy production, in kJ/K per kmol of fuel with 400 percent theoretical air is:  %f',sigmadot)\n",
"\n",
"\n",
"\n",
"\n",
"\n",
"\n",
"\n",
"\n",
"\n",
"\n",
"\n",
"\n",
"\n",
"\n",
""
   ]
   }
],
"metadata": {
		  "kernelspec": {
		   "display_name": "Scilab",
		   "language": "scilab",
		   "name": "scilab"
		  },
		  "language_info": {
		   "file_extension": ".sce",
		   "help_links": [
			{
			 "text": "MetaKernel Magics",
			 "url": "https://github.com/calysto/metakernel/blob/master/metakernel/magics/README.md"
			}
		   ],
		   "mimetype": "text/x-octave",
		   "name": "scilab",
		   "version": "0.7.1"
		  }
		 },
		 "nbformat": 4,
		 "nbformat_minor": 0
}
