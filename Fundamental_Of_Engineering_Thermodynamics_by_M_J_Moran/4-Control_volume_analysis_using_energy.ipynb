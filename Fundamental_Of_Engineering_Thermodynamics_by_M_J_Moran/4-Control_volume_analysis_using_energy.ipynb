{
"cells": [
 {
		   "cell_type": "markdown",
	   "metadata": {},
	   "source": [
       "# Chapter 4: Control volume analysis using energy"
	   ]
	},
{
		   "cell_type": "markdown",
		   "metadata": {},
		   "source": [
			"## Example 4.10: Example_10.sce"
		   ]
		  },
  {
"cell_type": "code",
	   "execution_count": null,
	   "metadata": {
	    "collapsed": true
	   },
	   "outputs": [],
"source": [
"//(4.10)   An industrial process discharges gaseous combustion products at 478K, 1 bar with a mass flow rate of 69.78 kg/s. As shown in Fig. E 4.10, a proposed system for utilizing the combustion products combines a heat-recovery steam generator with a turbine. At steady state, combustion products exit the steam generator at 400K, 1 bar and a separate stream of water enters at .275 MPa, 38.9C with a mass flow rate of 2.079 kg/s. At the exit of the turbine, the pressure is 0.07 bars and the quality is 93%. Heat transfer from the outer surfaces of the steam generator and turbine can be ignored, as can the changes in kinetic and potential energies of the flowing streams. There is no significant pressure drop for the water flowing through the steam generator. The combustion products can be modeled as air as an ideal gas. (a) Determine the power developed by the turbine, in kJ/s. (b) Determine the turbine inlet temperature, in C.\n",
"\n",
"//solution \n",
"\n",
"//variable initialization\n",
"P1 = 1                      //pressure of industrial discharge in bar\n",
"T1 = 478                    //temperature of industrial discharge in kelvin\n",
"m1dot = 69.78               //mass flow rate of industrial discharge in kg/s\n",
"T2 = 400                   //temperature of exit products from steam generator in kelvin\n",
"P2 = 1                     //pressure of exit products from steam generator in bar\n",
"P3 = .275                  //pressure of water stream entering the generator in Mpa\n",
"T3 = 38.9                  //temperature of water stream entering the generator in degree celcius\n",
"m3dot = 2.079               //mass flow rate of water stream entering in kg/s\n",
"P5 = .07                   //exit pressure of the turbine in bars\n",
"x5 = .93                   //quality of turbine exit\n",
"\n",
"//part (a)\n",
"m2dot = m1dot              //since gas and water streams do not mix\n",
"m5dot = m3dot              //--DO\n",
"\n",
"//from table A-22,\n",
"h1 = 480.3                //in kj/kg\n",
"h2 = 400.98                //in Kj/kg\n",
"\n",
"//from table A-2,\n",
"h3 = 162.9                //assumption: h3 = hf(T3), units in Kj/kg\n",
"\n",
"//from table A-3\n",
"hf5 = 161                 //in kj/kg\n",
"hg5 = 2571.72             //in kj/kg\n",
"\n",
"h5 = hf5 + x5*(hg5-hf5)\n",
"Wcvdot = m1dot*h1 + m3dot*h3 - m2dot*h2 - m5dot*h5\n",
"\n",
"printf('the power developed by the turbine in kj/s is: \n\t Wcvdot = %f',Wcvdot)\n",
"\n",
"//part(b)\n",
"P4 = P3                 //from the assumption that there is no pressure drop for water flowing through the steam generator\n",
"h4 = h3 + (m1dot/m3dot)*(h1 -h2)    //from steady state energy rate balance\n",
"//interpolating in table A-4, with these P4 and h4\n",
"T4 = 180                //in degree celcius\n",
"printf('\n\nturbine inlet temperature in degree celcius is :\n\t T4 = %f',T4)\n",
"\n",
"\n",
"\n",
"\n",
"\n",
"\n",
"\n",
"\n",
"\n",
"\n",
"\n",
"\n",
"\n",
"\n",
"\n",
"\n",
"\n",
"\n",
"\n",
"\n",
"\n",
"\n",
"\n",
"\n",
""
   ]
   }
,
{
		   "cell_type": "markdown",
		   "metadata": {},
		   "source": [
			"## Example 4.11: Example_11.sce"
		   ]
		  },
  {
"cell_type": "code",
	   "execution_count": null,
	   "metadata": {
	    "collapsed": true
	   },
	   "outputs": [],
"source": [
"//(4.11)  A tank having a volume of 0.85 m3 initially contains water as a two-phase liquid—vapor mixture at 260C and a quality of 0.7. Saturated water vapor at 260C is slowly withdrawn through a pressure-regulating valve at the top of the tank as energy is transferred by heat to maintain the pressure constant in the tank. This continues until the tank is filled with saturated vapor at 260C. Determine the amount of heat transfer, in kJ. Neglect all kinetic and potential energy effects.\n",
"\n",
"\n",
"//solution\n",
"\n",
"//variable initialization\n",
"V = .85                              //volume of tank in m^3\n",
"T1 = 260                             //initial temperature of the tank in degree celcius\n",
"X1 = .7                              //initial quality\n",
"\n",
"//from table A-2\n",
"uf1 = 1128.4                         //in kg/kg\n",
"ug1 = 2599                           //in kg/kg\n",
"\n",
"vf1 = 1.2755e-3                      //in m^3/kg\n",
"vg1 = .04221                         //in m^3/kg\n",
"\n",
"u1 = uf1 + X1*(ug1-uf1)              //in kj/kg\n",
"v1 = vf1 + X1*(vg1-vf1)              //in m^3/kg\n",
"\n",
"m1 = V/v1                            //initial mass in kg\n",
"\n",
"//for final state, from table A-2,\n",
"u2 = 2599                            // units in KJ/kg \n",
"v2 = 42.21e-3                        //units in m^3/Kg\n",
"he = 2796.6                          //units in KJ/kg\n",
"m2 =  V/v2                           //final mass in kg\n",
"U2 = m2*u2                           //final internal energy in KJ\n",
"U1 = m1*u1                           //initial internal energy in KJ\n",
"Qcv = (U2-U1) - he*(m2-m1)\n",
"printf('the amount of heat transfer in KJ is : \n\t Qcv = %f',Qcv)\n",
"\n",
"\n",
"\n",
"\n",
"\n",
"\n",
""
   ]
   }
,
{
		   "cell_type": "markdown",
		   "metadata": {},
		   "source": [
			"## Example 4.12: Example_12.sce"
		   ]
		  },
  {
"cell_type": "code",
	   "execution_count": null,
	   "metadata": {
	    "collapsed": true
	   },
	   "outputs": [],
"source": [
"// (4.12)  Steam at a pressure of 15 bar and a temperature of 320C is contained in a large vessel. Connected to the vessel through a valve is a turbine followed by a small initially evacuated tank with a volume of 0.6 m3. When emergency power is required, the valve is opened and the tank fills with steam until the pressure is 15 bar. The temperature in the tank is then 400C. The filling process takes place adiabatically and kinetic and potential energy effects are negligible. Determine the amount of work developed by the turbine, in kJ.\n",
"\n",
"\n",
"// solution\n",
"\n",
"//variable initialization\n",
"Pv = 15                                            //pressure in the vessel in bar\n",
"Tv = 320                                           //temperature in the vessel in degree celcius\n",
"Vt = .6                                            //volume of a tank in m^3\n",
"Tt = 400                                           //temperature in the tank in degree celcius when the tank is full\n",
"\n",
"//since the tank is initially empty\n",
"m1 = 0\n",
"u1 = 0\n",
"\n",
"//from table A-4, at 15bar and 400 degree celcius\n",
"v2 = .203                                         //in m^3/kg\n",
"m2 = Vt/v2                                        //mass within the tank at the end of the process in kg\n",
"//from table A-4,\n",
"hi = 3081.9                                       //in kj/kg\n",
"u2 = 2951.3                                       //in kj/kg\n",
"deltaUcv = m2*u2-m1*u1\n",
"Wcv = hi*(m2-m1)-deltaUcv\n",
"printf('the amount of work developed by the turbine in kj is:\n\t Wcv = %f ',Wcv)\n",
""
   ]
   }
,
{
		   "cell_type": "markdown",
		   "metadata": {},
		   "source": [
			"## Example 4.13: Example_13.sce"
		   ]
		  },
  {
"cell_type": "code",
	   "execution_count": null,
	   "metadata": {
	    "collapsed": true
	   },
	   "outputs": [],
"source": [
"//(4.13)  An air compressor rapidly fills a .28m3 tank, initially containing air at 21C, 1 bar, with air drawn from the atmosphere at 21C, 1 bar. During filling, the relationship between the pressure and specific volume of the air in the tank is pv^1.4 = constant. The ideal gas model applies for the air, and kinetic and potential energy effects are negligible. Plot the pressure, in atm, and the temperature, in F, of the air within the tank, each versus the ratio m/m1, where m1 is the initial mass in the tank and m is the mass in the tank at time t > 0. Also, plot the compressor work input, in kJ, versus m/m1. Let m/m1 vary from 1 to 3.\n",
"\n",
"\n",
"\n",
"//solution\n",
"printf('its an IT software problem')"
   ]
   }
,
{
		   "cell_type": "markdown",
		   "metadata": {},
		   "source": [
			"## Example 4.14: Example_14.sce"
		   ]
		  },
  {
"cell_type": "code",
	   "execution_count": null,
	   "metadata": {
	    "collapsed": true
	   },
	   "outputs": [],
"source": [
"// (4.14)   A tank containing 45 kg of liquid water initially at 45C has one inlet and one exit with equal mass flow rates. Liquid water enters at 45C and a mass flow rate of 270 kg/h. A cooling coil immersed in the water removes energy at a rate of 7.6 kW. The water is well mixed by a paddle wheel so that the water temperature is uniform throughout. The power input to the water from the paddle wheel is 0.6 kW. The pressures at the inlet and exit are equal and all kinetic and potential energy effects can be ignored. Plot the variation of water temperature with time.\n",
"\n",
"\n",
"//solution\n",
"\n",
"//variable initialization\n",
"\n",
"funcprot(0)\n",
"mcv = 45                                      //initial mass of water in kg \n",
"Ti = 318                                      //initial temperature of water in kelvin\n",
"mdot = 270/3600                               //mass flow rate in kg/s\n",
"Qcvdot = -7.6*10^3                            //rate of energy removal by coil in Watt\n",
"Wcvdot = -.6*10^3                                  //power input from the paddle in Watt\n",
"\n",
"c = 4.2*10^3                                      //specific heat for liquid water in J/Kg.k\n",
"\n",
"function Tdot= f(t,T)\n",
"    Tdot = (Qcvdot-Wcvdot+mdot*c*(Ti-T))/(mcv*c)    \n",
"endfunction\n",
"\n",
"t = 0:.1:3600\n",
"T = ode(Ti,0,t,f)\n",
"plot2d(t/3600,T)\n",
"xtitle('','time(h)','water temperature(kelvin)')\n",
"\n",
""
   ]
   }
,
{
		   "cell_type": "markdown",
		   "metadata": {},
		   "source": [
			"## Example 4.1: Example_1.sce"
		   ]
		  },
  {
"cell_type": "code",
	   "execution_count": null,
	   "metadata": {
	    "collapsed": true
	   },
	   "outputs": [],
"source": [
"//(4.1)    A feedwater heater operating at steady state has two inlets and one exit. At inlet 1, water vapor enters at p1 = 7 bar, T1=  200C with a mass flow rate of 40 kg/s. At inlet 2, liquid water at p2 = 7 bar, T2 = 40C enters through an area A2 = 25 cm2. Saturated liquid at 7 bar exits at 3 with a volumetric flow rate of 0.06 m3/s. Determine the mass flow rates at inlet 2 and at the exit, in kg/s, and the velocity at inlet 2, in m/s.\n",
"\n",
"//solution\n",
"\n",
"//variable initialization\n",
"P1 = 7                                   //pressure at inlet 1 in bar\n",
"T1 = 200                                 //temperature at inlet 1 in degree celcius\n",
"m1dot = 40                               //mass flow rate in Kg/s at inlet 1\n",
"P2 = 7                                   //pressure in bar at inlet 2\n",
"T2 = 40                                  //temperature at inlet 2 in degree celcius\n",
"A2 = 25                                  //area of inlet 2 in cm^2\n",
"P3 = 7                                   //exit pressure in bar \n",
"AV3 = .06                                //volumetric flow rate through exit in m^3/s\n",
"\n",
"//from table A-3\n",
"v3 = 1.108*10^(-3)                       //specific volume at the exit in m^3/Kg\n",
"m3dot = AV3/v3                           //mass flow rate at the exit\n",
"m2dot = m3dot-m1dot                      //mass flow rate at inlet 2\n",
"//from table A-2\n",
"v2 = 1.0078*10^(-3)                      //specific volume in state 2 in m^3/kg\n",
"V2 =m2dot*v2/(A2*10^(-4))\n",
"printf('the mass flow rate at the inlet 2 in kg/s is \n\t m2dot = %f',m2dot)\n",
"printf('\n the mass flow rate at the exit in kg/s is \n\t m3dot =%f',m3dot)\n",
"printf('\n\nthe velocity at inlet 2 in m/s is \n\t V2 = %f',V2)\n",
"\n",
"\n",
""
   ]
   }
,
{
		   "cell_type": "markdown",
		   "metadata": {},
		   "source": [
			"## Example 4.2: Example_2.sce"
		   ]
		  },
  {
"cell_type": "code",
	   "execution_count": null,
	   "metadata": {
	    "collapsed": true
	   },
	   "outputs": [],
"source": [
"// (4.2)    Water flows into the top of an open barrel at a constant mass flow rate of 7 kg/s. Water exits through a pipe near the base with a mass flow rate proportional to the height of liquid inside:medot = 1.4L, where L is the instantaneous liquid height, in m. The area of the base is 0.2 m2, and the density of water is 1000 kg/m3. If the barrel is initially empty, plot the variation of liquid height with time and comment on the result.\n",
"\n",
"//solution\n",
"\n",
"//variable initialization\n",
"midot = 7                                  //inlet mass flow rate in kg/s\n",
"A = .2                                     //area of base in m^2\n",
"d = 1000                                   //density of water in kg/m^3\n",
"\n",
"function Ldot = f(t,L)\n",
"    Ldot = (midot/(d*A))-((1.4*L)/(d*A))  \n",
"endfunction\n",
"\n",
"t=0:.01:1000\n",
"L = ode(0,0,t,f)\n",
"plot2d(t,L)\n",
"xtitle('','time','height')"
   ]
   }
,
{
		   "cell_type": "markdown",
		   "metadata": {},
		   "source": [
			"## Example 4.3: Example_3.sce"
		   ]
		  },
  {
"cell_type": "code",
	   "execution_count": null,
	   "metadata": {
	    "collapsed": true
	   },
	   "outputs": [],
"source": [
"// (4.3)   Steam enters a converging–diverging nozzle operating at steady state with p1 = 40 bar, T1=  400C, and a velocity of 10 m/s. The steam flows through the nozzle with negligible heat transfer and no significant change in potential energy. At the exit, p2 = 15 bar, and the velocity is 665 m/s. The mass flow rate is 2 kg/s. Determine the exit area of the nozzle, in m2.\n",
"\n",
"//solution\n",
"\n",
"//variable initialization\n",
"p1 = 40                                 //entry pressure in bar\n",
"T1 = 400                                //entry temperature in degree celcius\n",
"V1 = 10                                 //entry velocity in m/s\n",
"P2 = 15                                 //exit pressure in bar\n",
"V2 =665                                 //exit velocity in m/s\n",
"mdot = 2                                //mass flow rate in kg/s\n",
"\n",
"//from table A-4\n",
"h1 = 3213.6                            //specific enthalpy in in kj/kg\n",
"\n",
"h2 = h1+((V1^2-V2^2)/2)/1000\n",
"\n",
"//from table A-4\n",
"v2 = .1627                             //specific volume at the exit in m^3/kg\n",
"A2 = mdot*v2/V2\n",
"printf('the exit area of the nozzle in m^2 is \n\t A2 = %e',A2)"
   ]
   }
,
{
		   "cell_type": "markdown",
		   "metadata": {},
		   "source": [
			"## Example 4.4: Example_4.sce"
		   ]
		  },
  {
"cell_type": "code",
	   "execution_count": null,
	   "metadata": {
	    "collapsed": true
	   },
	   "outputs": [],
"source": [
"//(4.4)   Steam enters a turbine operating at steady state with a mass flow rate of 4600 kg/h. The turbine develops a power output of 1000 kW. At the inlet, the pressure is 60 bar, the temperature is 400C, and the velocity is 10 m/s. At the exit, the pressure is 0.1 bar, the quality is 0.9 (90%), and the velocity is 50 m/s. Calculate the rate of heat transfer between the turbine and surroundings, in kW.\n",
"\n",
"//solution\n",
"\n",
"//variable initialization\n",
"m1dot = 4600                         //mass flow rate in Kg/h\n",
"Wcvdot = 1000                        //turbine power output in kw\n",
"P1 = 60                              //inlet pressure in bar\n",
"T1 = 400                             //inlet temperature in degree celcius\n",
"V1 = 10                              //inlet velocity in m/s\n",
"P2 = .1                              //exit pressure in bar\n",
"x2 = .9                              //the quality at the exit\n",
"V2 = 50                              //exit velocity in m/s\n",
"\n",
"//from table A-4\n",
"h1 = 3177.2                          //specific enthalpy at the inlet in kj/kg\n",
"//from table A-3\n",
"hf2 = 191.83\n",
"hg2 = 2584.63\n",
"\n",
"h2 = hf2+x2*(hg2-hf2)                //specific enthalpy at the exit in kj/kg\n",
"Qcvdot = Wcvdot + m1dot*((h2-h1)+(V2^2-V1^2)/(2*1000))/3600\n",
"printf('the rate of heat transfer between the turbine and surroundings in kw is:\n\t Qcvdot = %f',Qcvdot)"
   ]
   }
,
{
		   "cell_type": "markdown",
		   "metadata": {},
		   "source": [
			"## Example 4.5: Example_5.sce"
		   ]
		  },
  {
"cell_type": "code",
	   "execution_count": null,
	   "metadata": {
	    "collapsed": true
	   },
	   "outputs": [],
"source": [
"//(4.5)   Air enters a compressor operating at steady state at a pressure of 1 bar, a temperature of 290 K, and a velocity of 6 m/s through an inlet with an area of 0.1 m2. At the exit, the pressure is 7 bar, the temperature is 450 K, and the velocity is 2 m/s. Heat transfer from the compressor to its surroundings occurs at a rate of 180 kJ/min. Employing the ideal gas model, calculate the power input to the compressor, in kW.\n",
"\n",
"//solution\n",
"\n",
"//variable initialization\n",
"P1 = 1                               //entry pressure in bar\n",
"T1 = 290                             //entry temperature in kelvin \n",
"V1 = 6                               //entry velocity in m/s\n",
"A1 = .1                              //inlet area in m^2\n",
"P2 = 7                               //exit pressure in bar\n",
"T2 = 450                             //exit temperature in kelvin\n",
"V2 = 2                               //exit velocity in m/s\n",
"Qcvdot = -180                        //heat transfer rate in KJ/min\n",
"\n",
"R = 8.314                            //univsersal gas constant in SI units\n",
"v1 = (R*1000*T1)/(28.97*P1*10^5)     //specific volume \n",
"mdot = (A1*V1)/v1                    //mass flow rate \n",
"\n",
"//from table A-22\n",
"h1 = 290.16                         //specific enthalpy in KJ/kg\n",
"h2 = 451.8                          //specific enthalpy in Kj/Kg\n",
"Wcvdot = Qcvdot/60 + mdot*((h1-h2)+(v1^2-V2^2)/(2*1000));\n",
"printf('the power input to the compressor in kw is :\n\tWcvdot = %f',Wcvdot)"
   ]
   }
,
{
		   "cell_type": "markdown",
		   "metadata": {},
		   "source": [
			"## Example 4.6: Example_6.sce"
		   ]
		  },
  {
"cell_type": "code",
	   "execution_count": null,
	   "metadata": {
	    "collapsed": true
	   },
	   "outputs": [],
"source": [
"// (4.6) A power washer is being used to clean the siding of a house. Water enters at 20C, 1 atm, with a volumetric flow rate of 0.1 liter/s through a 2.5-cm-diameter hose. A jet of water exits at 23C, 1 atm, with a velocity of 50 m/s at an elevation of 5 m. At steady state, the magnitude of the heat transfer rate from the power unit to the surroundings is 10% of the power input. The water can be considered incompressible, and g = 9.81 m/s2. Determine the power input to the motor, in kW.\n",
"\n",
"\n",
"//solution\n",
"\n",
"//variable initialization\n",
"T1 = 20                               //entry temperature in degree celcius\n",
"P1 = 1                                //entry pressure in atm\n",
"AV1 = .1                              //entry volumetric flow rate in litre/s\n",
"D1 = 2.5                              //diameter of the hose in cm\n",
"T2 = 23                               //exit temperature in degree celcius\n",
"P2 = 1                                //exit pressure in atm\n",
"V2 =50                                //exit velocity in m/s\n",
"Z2 = 5                                //elevation in m\n",
"g = 9.81                              //acceleration due to gravity in m/s^2\n",
"\n",
"//from table A-2\n",
"v = 1.0018*10^(-3)                    //specific volume in m^3/kg\n",
"\n",
"mdot = (AV1/1000)/v                   //mass flow rate in kg/s\n",
"V1 = (AV1/1000)/(%pi*(D1/(2*100))^2)  //entry velocity in m/s\n",
"c = 4.18                              //from table A-19\n",
"deltah = c*(T2-T1)+v*(P2-P1)\n",
"Wcvdot = (mdot/.9)*[-deltah+(V1^2-V2^2)/(2*1000)+g*(0-Z2)/1000]\n",
"printf('the power input to the motor in KW is :\n\t = %f',Wcvdot)\n",
""
   ]
   }
,
{
		   "cell_type": "markdown",
		   "metadata": {},
		   "source": [
			"## Example 4.7: Example_7.sce"
		   ]
		  },
  {
"cell_type": "code",
	   "execution_count": null,
	   "metadata": {
	    "collapsed": true
	   },
	   "outputs": [],
"source": [
"// (4.7)   Steam enters the condenser of a vapor power plant at 0.1 bar with a quality of 0.95 and condensate exits at 0.1 bar and 45C. Cooling water enters the condenser in a separate stream as a liquid at 20C and exits as a liquid at 35C with no change in pressure. Heat transfer from the outside of the condenser and changes in the kinetic and potential energies of the flowing streams can be ignored. For steady-state operation, determine (a) the ratio of the mass flow rate of the cooling water to the mass flow rate of the condensing stream. (b) the rate of energy transfer from the condensing steam to the cooling water, in kJ per kg of steam passing through the condenser.\n",
"\n",
"//solution\n",
"\n",
"//variable initialization\n",
"P1 = .1                                    //pressure of steam entering in bar\n",
"x1 = .95                                   //quality of steam entering\n",
"P2 = .1                                    //pressure of exiting condensate in bar\n",
"T2 = 45                                    //temperature of exiting condensate in degree celcius\n",
"T3 = 20                                    //temperature of cooling entry water in degree celcius\n",
"T4 = 35                                    //temperature of cooling exit water in degree celcius\n",
"\n",
"//part (a)\n",
"//from table A-3\n",
"hf = 191.83                               //in KJ/kg\n",
"hg = 2584.7                               //in Kj/kg\n",
"h1 = hf + x1*(hg-hf)                      //in kj/kg\n",
"\n",
"h2 = 188.45                              //by  assumption At states 2, 3, and 4, h is approximately equal to hf(T), in kj/kg\n",
"deltah4_3= 62.7                         //by assumption 4,in kj/kg\n",
"ratio = (h1-h2)/(deltah4_3)\n",
"printf('the ratio of the mass flow rate of the cooling water to the mass flow rate of the condensing stream is :\n\t m3dot/m1dot = %f',ratio)\n",
"\n",
"//part(b)\n",
"Qrate = (h2-h1)\n",
"printf('\n\nthe rate of energy transfer from the condensing steam to the cooling water, in kJ per kg of steam passing through the condenser is :\n\t Qrate =  %f',Qrate)\n",
"\n",
"\n",
"\n",
"\n",
"\n",
"\n",
"\n",
"\n",
"\n",
"\n",
"\n",
"\n",
"\n",
"  "
   ]
   }
,
{
		   "cell_type": "markdown",
		   "metadata": {},
		   "source": [
			"## Example 4.8: Example_8.sce"
		   ]
		  },
  {
"cell_type": "code",
	   "execution_count": null,
	   "metadata": {
	    "collapsed": true
	   },
	   "outputs": [],
"source": [
"// (4.8)   The electronic components of a computer are cooled by air flowing through a fan mounted at the inlet of the electronics enclosure. At steady state, air enters at 20C, 1 atm. For noise control, the velocity of the entering air cannot exceed 1.3 m/s. For temperature control, the temperature of the air at the exit cannot exceed 32C. The electronic components and fan receive, respectively, 80 W and 18 W of electric power. Determine the smallest fan inlet diameter, in cm, for which the limits on the entering air velocity and exit air temperature are met.\n",
"\n",
"//solution\n",
"\n",
"//variable initialization\n",
"T1 = 293                               //temperature of entering air in kelvin\n",
"P1 = 1.01325*(10^5)                     //pressure of entering air in pascal\n",
"V1max = 1.3                           //maximum velocity of entering air in m/s\n",
"T2max = 305                            //maximum temperature at the exit in kelvin \n",
"Pec = -80                              //power received by elecrtonic components in watt\n",
"Pf = -18                               //power received by fan in watt\n",
"\n",
"R = 8.314                             //universal gas constant in SI units\n",
"M = 28.97*(10^(-3))                             //molar mass of air in kg\n",
"Qcvdot = 0                            //Heat transfer from the outer surface of the electronics enclosure to the surroundings is negligible.\n",
"Cp = 1.005*(10^3)                            //in j/Kg.k\n",
"\n",
"Wcvdot = Pec + Pf                     //total electric power provided to the electronic components and fan in watt\n",
"mdotmin = (-Wcvdot)/(Cp*(T2max-T1))   //minimum mass flow rate\n",
"v1 = ((R/M)*T1)/P1                    //specific volume\n",
"A1min = (mdotmin*v1)/V1max\n",
"D1min = sqrt(4*A1min/(%pi))\n",
"printf('the smallest fan inlet diameter in cm is:\n\t D1min = %f',D1min*100)"
   ]
   }
,
{
		   "cell_type": "markdown",
		   "metadata": {},
		   "source": [
			"## Example 4.9: Example_9.sce"
		   ]
		  },
  {
"cell_type": "code",
	   "execution_count": null,
	   "metadata": {
	    "collapsed": true
	   },
	   "outputs": [],
"source": [
"// (4.9)  A supply line carries a two-phase liquid–vapor mixture of steam at 20 bars. A small fraction of the flow in the line is diverted through a throttling calorimeter and exhausted to the atmosphere at 1 bar. The temperature of the exhaust steam is measured as 120C. Determine the quality of the steam in the supply line.\n",
"\n",
"//solution\n",
"\n",
"//variable initialization\n",
"P1 = 20                             //pressure in supply line in bars\n",
"P2 = 1                              //exhaust pressure in bar\n",
"T2 = 120                            //exhaust temperature in degree celcius\n",
"\n",
"//from table A-3 at 20 bars\n",
"hf1 = 908.79                     //in kj/kg\n",
"hg1 = 2799.5                     //in kj/kg\n",
"\n",
"//from table A-4, at 1 bar and 120 degree celcius\n",
"h2 = 2766.6                      //in kj/kg\n",
"h1 = h2                          //from throttling process assumption\n",
"x1 = (h1-hf1)/(hg1-hf1)\n",
"printf('the quality of the steam in the supply line is:\n\tx1 = %f',x1)\n",
""
   ]
   }
],
"metadata": {
		  "kernelspec": {
		   "display_name": "Scilab",
		   "language": "scilab",
		   "name": "scilab"
		  },
		  "language_info": {
		   "file_extension": ".sce",
		   "help_links": [
			{
			 "text": "MetaKernel Magics",
			 "url": "https://github.com/calysto/metakernel/blob/master/metakernel/magics/README.md"
			}
		   ],
		   "mimetype": "text/x-octave",
		   "name": "scilab",
		   "version": "0.7.1"
		  }
		 },
		 "nbformat": 4,
		 "nbformat_minor": 0
}
