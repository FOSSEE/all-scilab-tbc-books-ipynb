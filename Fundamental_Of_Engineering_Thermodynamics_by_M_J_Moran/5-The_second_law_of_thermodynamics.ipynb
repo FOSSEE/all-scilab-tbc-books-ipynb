{
"cells": [
 {
		   "cell_type": "markdown",
	   "metadata": {},
	   "source": [
       "# Chapter 5: The second law of thermodynamics"
	   ]
	},
{
		   "cell_type": "markdown",
		   "metadata": {},
		   "source": [
			"## Example 5.1: Example_1.sce"
		   ]
		  },
  {
"cell_type": "code",
	   "execution_count": null,
	   "metadata": {
	    "collapsed": true
	   },
	   "outputs": [],
"source": [
"// (5.1)   An inventor claims to have developed a power cycle capable of delivering a net work output of 410 kJ for an energy input by heat transfer of 1000 kJ. The system undergoing the cycle receives the heat transfer from hot gases at a temperature of 500 K and discharges energy by heat transfer to the atmosphere at 300 K. Evaluate this claim.\n",
"//solution\n",
"//variable initialization\n",
"W = 410                                          //net work output in kj claimed \n",
"Q = 1000                                         //energy input by heat transfer in kj\n",
"Tc = 300                                         //temperature of cold reservoir in kelvin\n",
"TH = 500                                         //temperature of hot reservoir in kelvin\n",
"eta = W/Q                                        //thermal efficiency\n",
"etamax = 1-Tc/TH\n",
"printf('eta = %f',eta)\n",
"printf('\n etamax  = %f',etamax)\n",
"printf('\n since eta is more than etamax, the claim is not authentic')"
   ]
   }
,
{
		   "cell_type": "markdown",
		   "metadata": {},
		   "source": [
			"## Example 5.2: Example_2.sce"
		   ]
		  },
  {
"cell_type": "code",
	   "execution_count": null,
	   "metadata": {
	    "collapsed": true
	   },
	   "outputs": [],
"source": [
"// (5.2)  By steadily circulating a refrigerant at low temperature through passages in the walls of the freezer compartment, a refrigerator maintains the freezer compartment at 5C when the air surrounding the refrigerator is at 22C. The rate of heat transfer from the freezer compartment to the refrigerant is 8000 kJ/h and the power input required to operate the refrigerator is 3200 kJ/h. Determine the coefficient of performance of the refrigerator and compare with the coefficient of performance of a reversible refrigeration cycle operating between reservoirs at the same two temperatures.\n",
"\n",
"\n",
"//solution\n",
"\n",
"//variable initialization\n",
"funcprot(0)\n",
"Qcdot = 8000                                //in kj/h\n",
"Wcycledot = 3200                            //in kj/h\n",
"Tc = 268                                    //temperature of compartment in kelvin\n",
"TH = 295                                   //temperature of the surrounding air in kelvin\n",
"\n",
"beta = Qcdot/Wcycledot                     //coefficient of performance\n",
"betamax = Tc/(TH-Tc)                        //reversible coefficient of performance\n",
"printf('coefficient of performance is : \n\t beta = %f',beta)\n",
"printf('\n\n coefficient of performance of a reversible cycle is :\n\t betamax = %f',betamax) "
   ]
   }
,
{
		   "cell_type": "markdown",
		   "metadata": {},
		   "source": [
			"## Example 5.3: Example_3.sce"
		   ]
		  },
  {
"cell_type": "code",
	   "execution_count": null,
	   "metadata": {
	    "collapsed": true
	   },
	   "outputs": [],
"source": [
"//(5.3)   A dwelling requires 5 * 10^5 kJ per day to maintain its temperature at 22C when the outside temperature is 10C. (a) If an electric heat pump is used to supply this energy, determine the minimum theoretical work input for one day of operation, in kJ.\n",
"\n",
"\n",
"//solution\n",
"\n",
"//variable initialization\n",
"Tc = 283                      //in kelvin\n",
"TH = 295                      //in kelvin\n",
"QH = 5*10^5                   //in kj per day\n",
"\n",
"Wcyclemin = (1-Tc/TH)*QH\n",
"printf('minimum theoretical work input for one day of operation in kj is:\n\tWmin = %e',Wcyclemin)"
   ]
   }
],
"metadata": {
		  "kernelspec": {
		   "display_name": "Scilab",
		   "language": "scilab",
		   "name": "scilab"
		  },
		  "language_info": {
		   "file_extension": ".sce",
		   "help_links": [
			{
			 "text": "MetaKernel Magics",
			 "url": "https://github.com/calysto/metakernel/blob/master/metakernel/magics/README.md"
			}
		   ],
		   "mimetype": "text/x-octave",
		   "name": "scilab",
		   "version": "0.7.1"
		  }
		 },
		 "nbformat": 4,
		 "nbformat_minor": 0
}
