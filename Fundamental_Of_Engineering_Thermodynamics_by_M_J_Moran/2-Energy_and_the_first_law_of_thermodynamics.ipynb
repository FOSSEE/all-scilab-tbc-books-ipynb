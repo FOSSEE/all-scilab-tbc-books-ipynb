{
"cells": [
 {
		   "cell_type": "markdown",
	   "metadata": {},
	   "source": [
       "# Chapter 2: Energy and the first law of thermodynamics"
	   ]
	},
{
		   "cell_type": "markdown",
		   "metadata": {},
		   "source": [
			"## Example 2.1: Example_1.sce"
		   ]
		  },
  {
"cell_type": "code",
	   "execution_count": null,
	   "metadata": {
	    "collapsed": true
	   },
	   "outputs": [],
"source": [
"//(2.1)  A gas in a piston–cylinder assembly undergoes an expansion process for which the relationship between pressure and volume is given by p*(v^n) = constant.The initial pressure is 3 bar, the initial volume is 0.1 m3, and the final volume is 0.2 m3. Determine the work for the process,in kJ, if (a) n=1.5, (b) n=1.0,and (c) n=0.\n",
"\n",
"//solution\n",
"\n",
"// variable initialization\n",
"p1 = 3*(10^5) // initial pressure of gas in pascal\n",
"v1 = .1 //initial volumme of gas in meter^3\n",
"v2 = .2 //final volume of gas in meter^3\n",
"\n",
"//part (a) i.e. n=1.5\n",
"funcprot(0);\n",
"function [constant] = f1(n)\n",
"    constant = p1*(v1^n);                      //p*(v^n) = constant\n",
"endfunction;\n",
"\n",
"function [p] = f2(v,n)                         \n",
"    p = f1(n)/(v^n);                          //expressing pressure as function of volume        \n",
"endfunction;\n",
"\n",
"function [work1] = f3(n)\n",
"    work1 = intg(v1,v2,f2);                   //integrating pdv from initial to final volume \n",
"endfunction;\n",
"\n",
"w1 = f3(1.5)/1000;                           // divided by 1000 to convert to KJ\n",
"disp(w1,'the work done for n=1.5 in KJ is');\n",
"\n",
"//part(b) i.e. n = 1\n",
"\n",
"w2 = f3(1)/1000;\n",
"disp(w2,'the work done for n=1 in KJ is');\n",
"\n",
"//part(c) i.e. n=0\n",
"\n",
"w3 = f3(0)/1000;\n",
"disp(w3,'the work done for n=0 in KJ is');\n",
"\n",
"\n",
"\n",
"\n",
""
   ]
   }
,
{
		   "cell_type": "markdown",
		   "metadata": {},
		   "source": [
			"## Example 2.2: Example_2.sce"
		   ]
		  },
  {
"cell_type": "code",
	   "execution_count": null,
	   "metadata": {
	    "collapsed": true
	   },
	   "outputs": [],
"source": [
"// (2.2) Four kilograms of a certain gas is contained within a piston–cylinder assembly. The gas undergoes a process for which the pressure–volume relationship is p*(v^1.5) = constant. The initial pressure is 3 bar, the initial volume is 0.1 m3, and the final volume is 0.2 m3. The change in specific internal energy of the gas in the process is u2-u1 =- 4.6 kJ/kg. There are no significant changes in kinetic or potential energy. Determine the net heat transfer for the process, in kJ.\n",
"\n",
"// solution\n",
"\n",
"//variable initialization\n",
"p1 = 3*(10^5) // initial pressure in pascal\n",
"v1 = .1       // initial volume in m3\n",
"v2 = .2      // initial volume in m3\n",
"m = 4        //mass of the gas in kg\n",
"deltau = -4.6 // change in specific internal energy in KJ/Kg\n",
"\n",
"\n",
"funcprot(0);\n",
"function [constant] = f1(n)\n",
"    constant = p1*(v1^n);                      //p*(v^n) = constant\n",
"endfunction;\n",
"\n",
"function [p] = f2(v,n)                         \n",
"    p = f1(n)/(v^n);                          //expressing pressure as function of volume        \n",
"endfunction;\n",
"\n",
"function [work] = f3(n)\n",
"    work = intg(v1,v2,f2);                   //integrating pdv from initial to final volume \n",
"endfunction;\n",
"\n",
"w = f3(1.5)/1000;                           // divided by 1000 to convert to KJ\n",
"\n",
"deltaU = m*deltau;                           // change in internal energy in KJ\n",
"Q = deltaU + w;                              // neglecting kinetic and potential energy changes\n",
"\n",
"disp(Q,'net heat transfer for the process in KJ')\n",
"\n",
""
   ]
   }
,
{
		   "cell_type": "markdown",
		   "metadata": {},
		   "source": [
			"## Example 2.3: Example_3.sce"
		   ]
		  },
  {
"cell_type": "code",
	   "execution_count": null,
	   "metadata": {
	    "collapsed": true
	   },
	   "outputs": [],
"source": [
"//(2.3) Air is contained in a vertical piston–cylinder assembly fitted with an electrical resistor. The atmosphere exerts a pressure of 1 bar on the top of the piston, which has a mass of 45 kg and a face area of .09 m2. Electric current passes through the resistor, and the volume of the air slowly increases by .045 m3 while its pressure remains constant. The mass of the air is .27 kg, and its specific internal energy increases by 42 kJ/kg. The air and piston are at rest initially and finally. The piston–cylinder material is a ceramic composite and thus a good insulator. Friction between the piston and cylinder wall canbe ignored, and the local acceleration of gravity is g = 9.81 m/s2. Determine the heat transfer from the resistor to the air, in kJ, for a system consisting of (a) the air alone, (b) the air and the piston.\n",
"//solution\n",
"// variable initialization\n",
"patm = 10^5          // atmospheric pressure in pascal.\n",
"mp = 45                // mass of piston in Kg\n",
"A = .09                // face area of piston in m2\n",
"deltaV = .045          // increment of the volume of air in m3\n",
"m = .27                // mass of air in kg\n",
"deltau = 42            // specific internal energy increase of air in kJ/kg\n",
"g = 9.81               // local acceleration of gravity\n",
"//part (a) i.e. air is system\n",
"p = (mp*g)/A + patm ;           //constant pressure of air obtained from equilibrium of piston\n",
"w = (p*deltaV)/1000;           //work done in KJ\n",
"deltaU = m*deltau;             // internal energy change of air in KJ\n",
"Q = w + deltaU;                // applying first with air as system\n",
"printf('the answer given in book is incorrect.They have miscalculated deltaU.The correct heat transfer from resistor to air in KJ for air alone as system is:\n\n\tQ=%f',Q);\n",
"// the answer given in book is incorrect. deltaU is incorrect in book. \n",
"//part(b) i.e.  (air+piston) is system\n",
"wd = (patm*deltaV)/1000;              // work done in KJ\n",
"deltaz = (deltaV)/A;                  // change in elevation of piston\n",
"deltaPE = (mp*g*deltaz)/1000;                // change in potential energy of piston in KJ\n",
"Qt = wd + deltaPE + deltaU;            // applying first law with air plus piston as system \n",
"printf('\n\nthe answer given in book is incorrect.They have miscalculated deltaU.The correct heat transfer from resistor to air in KJ for air + piston as system is:\n\n\tQt=%f',Qt);\n",
" "
   ]
   }
,
{
		   "cell_type": "markdown",
		   "metadata": {},
		   "source": [
			"## Example 2.4: Example_4.sce"
		   ]
		  },
  {
"cell_type": "code",
	   "execution_count": null,
	   "metadata": {
	    "collapsed": true
	   },
	   "outputs": [],
"source": [
"//(2.4) During steady-state operation, a gearbox receives 60 kW through the input shaft and delivers power through the output shaft.For the gearbox as the system, the rate of energy transfer by convection is Qdot = -hA(tb-tf) where h = 0.171 kW/m2.k is the heat transfer coefficient,  A=  1.0 m2 is the outer surface area of the gearbox, Tb = 300k is the temperature at the outer surface, and Tf  293k is the temperature of the surrounding air away from the immediate vicinity of the gearbox. For the gearbox, evaluate the heat transfer rate and the power delivered through the output shaft, each in kW.\n",
"\n",
"//solution\n",
"\n",
"// initializing variables\n",
"w1dot = -60                // input work rate in KW\n",
"h = .171                   // heat transfer coefficient,unit in KW/m2 .K\n",
"A = 1                      // outer surface area of gearbox, unit in m2\n",
"Tb = 300                   // outer surface temperature in kelvin\n",
"Tf = 293                   // temperature of the sorrounding\n",
"\n",
"Qdot = -h*A*(Tb-Tf);       // rate of energy transfer by heat\n",
"wdot = Qdot;                // steady state energy equation\n",
"w2dot = wdot-w1dot;\n",
"\n",
"printf('the heat transfer rate in KW is:\n\tQdot = %f',Qdot);\n",
"printf('\n\nthe power delivered through output shaft in KW is:\n\tw2dot = %f',w2dot);\n",
"\n",
""
   ]
   }
,
{
		   "cell_type": "markdown",
		   "metadata": {},
		   "source": [
			"## Example 2.5: Example_5.sce"
		   ]
		  },
  {
"cell_type": "code",
	   "execution_count": null,
	   "metadata": {
	    "collapsed": true
	   },
	   "outputs": [],
"source": [
"//(2.5) A silicon chip measuring 5 mm on a side and 1 mm in thickness is embedded in a ceramic substrate. At steady state, the chip has an electrical power input of 0.225 W. The top surface of the chip is exposed to a coolant whose temperature is 20 degree Celcius . The heat transfer coefficient for convection between the chip and the coolant is 150 W/m2 K. If heat transfer by conduction between the chip and the substrate is negligible, determine the surface temperature of the chip, in degree Celcius.\n",
"\n",
"// solution\n",
"\n",
"//variable initialization\n",
"\n",
"s=5*(10^-3);                     //measurement on a side in meter\n",
"wdot = -.225                      //power input in watt\n",
"Tf = 293                         //coolant temprature in kelvin\n",
"h = 150                          //heat transfer coefficient in w/m2 k\n",
"\n",
"A = s^2;                         //surface area\n",
"Tb = ((-wdot/(h*A)) + Tf - 273) ;        //surface temperature in degree\n",
"\n",
"printf('the surface temperature of the chip in degree celcius is:\n\t Tb = %f',Tb);"
   ]
   }
,
{
		   "cell_type": "markdown",
		   "metadata": {},
		   "source": [
			"## Example 2.6: Example_6.sce"
		   ]
		  },
  {
"cell_type": "code",
	   "execution_count": null,
	   "metadata": {
	    "collapsed": true
	   },
	   "outputs": [],
"source": [
"//(2.6) The rate of heat transfer between a certain electric motor and its surroundings varies with time as Qdot = -.2[1-e^(-.05t)] where t is in seconds and Qdot in KW.The shaft of the motor rotates at a constant speed of omega = 100 rad/s and applies a constant torque of tau = 18 N.m to an external load. The motor draws a constant electric power input equal to 2.0 kW. For the motor, plot Qdot and Wdot,each in kW, and the change in energy deltaE in kJ, as functions of time from t =0 to t = 120s.\n",
"\n",
"//solution\n",
"\n",
"//initializing variables\n",
"omega = 100;                      // motor rotation speed in rad/s\n",
"tau = 18;                         //torque applied by shaft in N.m\n",
"Welecdot = -2;                    // electric power input in KW\n",
"\n",
"funcprot(0);\n",
"Wshaftdot = (tau*omega)/1000;     //shaft work rate in KW\n",
"Wdot = Welecdot + Wshaftdot;      //net work rate in KW\n",
"\n",
"function [Qdot]=f(t)\n",
"    Qdot = (-.2)* [1-%e^(-.05*t)];\n",
"endfunction\n",
"\n",
"function [Edot]=f1(t)              //function for rate of change of energy\n",
"    Edot =(-.2)* [1-%e^(-.05*t)] - Wdot ;\n",
"endfunction;\n",
"\n",
"function [deltaE] =f2(t)           //function for change in energy  \n",
"    deltaE = intg(0,t,f1);    \n",
"endfunction;\n",
"\n",
"t = linspace(0,120,100);\n",
"for i = 1:100\n",
"    Qdt(1,i)= f((120/99)*(i-1));\n",
"    Wdt(1,i)= Wdot;\n",
"    dltaE(1,i)= f2((120/99)*(i-1));\n",
"end\n",
"plot2d(t,Qdt,rect=[0,-.25,120,0]);\n",
"plot2d(t,Wdt,style=5,rect=[0,-.25,120,0]);\n",
"xtitle('','time,s','Qdot,Wdot,KW');\n",
"legend('Qdot','Wdot');\n",
"xset('window',1);\n",
"plot2d(t,dltaE);\n",
"xtitle('deltaE versus time','Time, s','deltaE, KJ');"
   ]
   }
],
"metadata": {
		  "kernelspec": {
		   "display_name": "Scilab",
		   "language": "scilab",
		   "name": "scilab"
		  },
		  "language_info": {
		   "file_extension": ".sce",
		   "help_links": [
			{
			 "text": "MetaKernel Magics",
			 "url": "https://github.com/calysto/metakernel/blob/master/metakernel/magics/README.md"
			}
		   ],
		   "mimetype": "text/x-octave",
		   "name": "scilab",
		   "version": "0.7.1"
		  }
		 },
		 "nbformat": 4,
		 "nbformat_minor": 0
}
