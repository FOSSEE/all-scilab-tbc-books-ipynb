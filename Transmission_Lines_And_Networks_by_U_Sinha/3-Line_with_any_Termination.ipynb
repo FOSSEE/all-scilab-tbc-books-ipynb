{
"cells": [
 {
		   "cell_type": "markdown",
	   "metadata": {},
	   "source": [
       "# Chapter 3: Line with any Termination"
	   ]
	},
{
		   "cell_type": "markdown",
		   "metadata": {},
		   "source": [
			"## Example 3.10: Calculating_power_delivered_at_receiving_end.sce"
		   ]
		  },
  {
"cell_type": "code",
	   "execution_count": null,
	   "metadata": {
	    "collapsed": true
	   },
	   "outputs": [],
"source": [
"clear;\n",
"clc;\n",
"f=1000;l=1000;R=10.4;L=0.00367;G=0.8*(10^-6);C=0.00835*(10^-6);Es=10;\n",
"//value of Es as taken in solution\n",
"w=2*%pi*f;\n",
"Z=R+round((%i*w*L));\n",
"Y=G+(%i*w*C);\n",
"Zo=sqrt(Z/Y);\n",
"P=sqrt(Z*Y);\n",
"Is=Es/Zo;\n",
"Ir=Is*exp(-P*l);\n",
"P=((abs(Ir))^2)*real(Zo);\n",
"printf('-Power delivered at receiving end = %f micro-watt',P*(10^6));\n",
"//the difference in result  is due to erroneous value in textbook.\n",
"disp('The difference in result is due to erroneous value in textbook')"
   ]
   }
,
{
		   "cell_type": "markdown",
		   "metadata": {},
		   "source": [
			"## Example 3.11: EX3_11.sce"
		   ]
		  },
  {
"cell_type": "code",
	   "execution_count": null,
	   "metadata": {
	    "collapsed": true
	   },
	   "outputs": [],
"source": [
"clear;\n",
"clc;\n",
"l=50;Zo=692*exp(%i*(-%pi/(180/12)));a=0.00755;b=0.0355;Zr=300;f=1000;Vs=10;\n",
"P=a+(%i*b);\n",
"Zin=Zo*((Zr*cosh(P*l))+(Zo*sinh(P*l)))/((Zo*cosh(P*l))+(Zr*sinh(P*l)));\n",
"Is=Vs/Zin*(10)^-1;\n",
"A=real(Is);\n",
"B=imag(Is);\n",
"printf('-Sending end current = %f /_ %f Amp\n',round(abs(Is)*10^5)/10^5,round(atan(B,A)*180*10/%pi)/10);\n",
"Vr=Vs*((cosh(P*l))-((Zo*sinh(P*l))/Zin));\n",
"C=real(Vr);\n",
"D=imag(Vr);\n",
"printf('-Receiving end voltage = %f /_ %f volts\n',round(abs(Vr)*10)/10,round(atan(D,C)*180/%pi));\n",
"Ir=Vr/Zr;\n",
"E=real(Ir);\n",
"F=imag(Ir);\n",
"printf('-Receiving end current = %f /_ %f Amp\n',round(abs(Ir)*1000)/1000,round(atan(F,E)*180/%pi));\n",
"modIr=abs(Ir);\n",
"Rr=Zr;\n",
"Pr=((modIr)^2)*Rr;\n",
"theta=atan((imag(Zin))/(real(Zin)));\n",
"modIs=abs(Is);\n",
"Ps=Vs*modIs*cos(theta);\n",
"n=(Pr/Ps)*10;\n",
"printf('-Efficiency of transmission(in percentage)= %f',round(n));"
   ]
   }
,
{
		   "cell_type": "markdown",
		   "metadata": {},
		   "source": [
			"## Example 3.12: Calculating_the_resistance_and_inductance_of_the_series_and_shunt_elements.sce"
		   ]
		  },
  {
"cell_type": "code",
	   "execution_count": null,
	   "metadata": {
	    "collapsed": true
	   },
	   "outputs": [],
"source": [
"clear;\n",
"clc;\n",
"l=10;Zo=280*exp(-%i*(%pi/(180/30)));P=0.08*exp(%i*(%pi/(180/40)));f=5000/(2*%pi);\n",
"w=2*%pi*f;\n",
"Z1=Zo*tanh(P*l/2);\n",
"Rs=real(Z1); \n",
"Ls=imag(Z1)/w;\n",
"printf('-Resistance of series element = %f ohms\n',fix(Rs));\n",
"printf('-Inductance of series element = %f mH\n',round(Ls*(10^3)*100)/100);\n",
"Z2=Zo/(sinh(P*l));\n",
"Rsh=real(Z2);\n",
"Csh=-imag(Z2)/w;\n",
"printf('-Resistance of shunt element = %f ohms\n',round(Rsh*10)/10);\n",
"printf('-Capacitance of shunt element = %f microfarads',fix(Csh*1000)/1000);"
   ]
   }
,
{
		   "cell_type": "markdown",
		   "metadata": {},
		   "source": [
			"## Example 3.13: Determining_the_characteristic_impedance_and_propagation_constant.sce"
		   ]
		  },
  {
"cell_type": "code",
	   "execution_count": null,
	   "metadata": {
	    "collapsed": true
	   },
	   "outputs": [],
"source": [
"clear;\n",
"clc;\n",
"l=5;f=5000/(2*%pi);Rs=175;Ls=10*(10^-3);Rsh=270;Csh=0.2*(10^-6);\n",
"w=2*%pi*f;\n",
"Z1=(Rs+(%i*w*Ls)); //Z1=Z1/2\n",
"Z2=Rsh-(%i/(w*Csh));\n",
"t=sqrt((Z1)/((Z1)+(2*Z2)));\n",
"P=2*(atanh(t))/l;\n",
"A=real(P);\n",
"B=imag(P);\n",
"printf('Propagation constant = % f + %f per loop km\n',round(A*100)/100,round(B*100)/100);\n",
"Zo=Z1/(tanh((P*l)/2));\n",
"C=real(Zo);\n",
"D=imag(Zo);\n",
"printf('Characteristic impedance = %f /_ %f ohms',round(abs(Zo)*1000)/1000,round(atan(D,C)*180/%pi));\n",
"//the difference in result  is due to erroneous value in textbook.\n",
"disp('The difference in result is due to erroneous value in textbook')"
   ]
   }
,
{
		   "cell_type": "markdown",
		   "metadata": {},
		   "source": [
			"## Example 3.14: Calculating_voltage_and_current.sce"
		   ]
		  },
  {
"cell_type": "code",
	   "execution_count": null,
	   "metadata": {
	    "collapsed": true
	   },
	   "outputs": [],
"source": [
"clear;\n",
"clc;\n",
"a=0;Zo=50;Vr=100;l=50;y=10;Ir=0;f=20*(10^6);\n",
"lo=300/f; //lo=lambda\n",
"b=2*%pi/lo;\n",
"P=a+(%i*b);\n",
"V=(Vr*cosh(P*y))+(Ir*Zo*sinh(P*y));\n",
"printf('-Voltage at the required point = %f /_ %f volts\n',abs(V),atan(imag(V),real(V))*180/%pi);\n",
"I=((Vr/Zo)*sinh(P*y))+(Ir*cosh(P*y));\n",
"A=real(I);\n",
"B=imag(I);\n",
"printf('-Current at required point = %f /_ %f Amps',round(abs(I)*1000)/1000,atan(B,A)*180/%pi);"
   ]
   }
,
{
		   "cell_type": "markdown",
		   "metadata": {},
		   "source": [
			"## Example 3.15: Calculating_input_impedance.sce"
		   ]
		  },
  {
"cell_type": "code",
	   "execution_count": null,
	   "metadata": {
	    "collapsed": true
	   },
	   "outputs": [],
"source": [
"clear;\n",
"clc;\n",
"Zo=600;Zr=%i*150;l=0.25;f=300*(10^6);\n",
"lo=300/f; //lo=lambda\n",
"b=2*%pi/lo;\n",
"Zin=Zo*Zo/Zr;\n",
"A=real(Zin);\n",
"B=imag(Zin);\n",
"printf('Zin = %f + j(%f) ohms',A,B);"
   ]
   }
,
{
		   "cell_type": "markdown",
		   "metadata": {},
		   "source": [
			"## Example 3.16: Calculating_power_consumed_in_load.sce"
		   ]
		  },
  {
"cell_type": "code",
	   "execution_count": null,
	   "metadata": {
	    "collapsed": true
	   },
	   "outputs": [],
"source": [
"clear;\n",
"clc;\n",
"f=7.5*(10^3);R=2.6;L=2.4*(10^-3);C=.0078*(10^-6);G=.11*(10^-6);l=50;Vs=10;\n",
"w=2*%pi*f;\n",
"Z=R+(%i*w*L);\n",
"Y=G+(%i*w*C);\n",
"Zo=sqrt(Z/Y);\n",
"P=sqrt(Z*Y);\n",
"Is=Vs/Zo;\n",
"Ir=Is*(exp(-P*l));\n",
"Ir1=abs(Ir);\n",
"Rr=real(Zo);\n",
"Pr=Ir1*Ir1*Rr;\n",
"printf('Power consumed in load is Pr = %f mW',round(Pr*(10^3)*10)/10);\n",
"//the difference in result  is due to erroneous value in textbook.\n",
"disp('The difference in result is due to erroneous value in textbook')"
   ]
   }
,
{
		   "cell_type": "markdown",
		   "metadata": {},
		   "source": [
			"## Example 3.17: Calculating_the_exact_and_approximate_distance_to_fault.sce"
		   ]
		  },
  {
"cell_type": "code",
	   "execution_count": null,
	   "metadata": {
	    "collapsed": true
	   },
	   "outputs": [],
"source": [
"clear;\n",
"clc;\n",
"R=10.4;L=0.0036;C=0.0083*(10^-6);G=0;f1=1420;f2=1860;\n",
"Favg=(f1+f2)/2;\n",
"w=2*%pi*Favg;\n",
"Z=R+(%i*w*L);\n",
"Y=G+(%i*w*C);\n",
"P=sqrt(Z*Y);\n",
"a=real(P);\n",
"b=imag(P);\n",
"v=w/b;\n",
"d=v/(2*(f2-f1));\n",
"printf('-Approximate distance = %f km\n',round(d));\n",
"w1=2*%pi*f1;\n",
"Z1=R+(%i*w1*L);\n",
"Y1=G+(%i*w1*C);\n",
"P1=sqrt(Z1*Y1);\n",
"a1=real(P1);\n",
"b1=imag(P1);\n",
"v1=w1/b1;\n",
"w2=2*%pi*f2;\n",
"Z2=R+(%i*w2*L);\n",
"Y2=G+(%i*w2*C);\n",
"P2=sqrt(Z2*Y2);\n",
"a2=real(P2);\n",
"b2=imag(P2);\n",
"v2=w2/b2;\n",
"D=(v1*v2)/(2*((v1*f2)-(v2*f1)));\n",
"printf('-Exact distance = %f km',round(D*10)/10);"
   ]
   }
,
{
		   "cell_type": "markdown",
		   "metadata": {},
		   "source": [
			"## Example 3.18: Calculating_the_reflection_factor_and_reflection_loss.sce"
		   ]
		  },
  {
"cell_type": "code",
	   "execution_count": null,
	   "metadata": {
	    "collapsed": true
	   },
	   "outputs": [],
"source": [
"clear;\n",
"clc;\n",
"Z1=300;Zo=650*exp(%i*(-%pi/(180/12)));Z2=Zo;\n",
"Z=Z1+Z2;\n",
"K=(2*sqrt(Z1*abs(Z2)))/abs(Z);\n",
"printf('-Reflection factor = %f\n',round(K*1000)/1000);\n",
"L=20*(log10(1/K));\n",
"printf('-Reflection loss = %f db',round(L*100)/100);\n",
"//the difference in result of reflection loss is due to erroneous value in textbook.\n",
"disp('The difference in result of reflection loss is due to erroneous value in textbook')"
   ]
   }
,
{
		   "cell_type": "markdown",
		   "metadata": {},
		   "source": [
			"## Example 3.19: Calculating_reflection_coefficient_and_input_impedance.sce"
		   ]
		  },
  {
"cell_type": "code",
	   "execution_count": null,
	   "metadata": {
	    "collapsed": true
	   },
	   "outputs": [],
"source": [
"clear;\n",
"clc;\n",
"Zo=600;a=0.01;b=0.03;l=100;Zr=200;\n",
"P=a+(%i*b);\n",
"K=(Zr-Zo)/(Zr+Zo);\n",
"printf('Reflection coefficient = %f /_- %f\n',abs(K),atan(imag(K),real(K))*180/%pi);\n",
"k=((abs(K))*exp(-2*P*l));\n",
"b=(1+k)/(1-k);\n",
"Zin=Zo*b;\n",
"C=real(Zin);\n",
"D=imag(Zin);\n",
"printf('Input impedance Zin = %f + j(%f) ohms',round(C*1000)/1000,round(D*100)/100);\n",
"//Zin has been wrongly calculated in the book\n",
""
   ]
   }
,
{
		   "cell_type": "markdown",
		   "metadata": {},
		   "source": [
			"## Example 3.1: Calculating_sending_end_voltage.sce"
		   ]
		  },
  {
"cell_type": "code",
	   "execution_count": null,
	   "metadata": {
	    "collapsed": true
	   },
	   "outputs": [],
"source": [
"clear;\n",
"clc;\n",
"l=10;a=0.03;b=0.03;Vr=4;f=1000;\n",
"P=a+(%i*b);\n",
"Vs=Vr*(exp(P*l));\n",
"C=real(Vs);\n",
"D=imag(Vs);\n",
"printf('Sending end voltage is Vs = %f /_ %f volts',fix(abs(Vs)*100)/100,round(atan(D,C)*180/%pi));"
   ]
   }
,
{
		   "cell_type": "markdown",
		   "metadata": {},
		   "source": [
			"## Example 3.20: Finding_reflection_loss.sce"
		   ]
		  },
  {
"cell_type": "code",
	   "execution_count": null,
	   "metadata": {
	    "collapsed": true
	   },
	   "outputs": [],
"source": [
"clc;\n",
"Zo=632.8;Zr=80;\n",
"F=20*log10((2*Zr*Zo)/(Zo+Zr));\n",
"printf('Reflection loss = %f db',round(F*100)/100);\n",
"//the difference in result  is due to erroneous value in textbook.\n",
"disp('The difference in result is due to erroneous value in textbook')"
   ]
   }
,
{
		   "cell_type": "markdown",
		   "metadata": {},
		   "source": [
			"## Example 3.2: Calculating_rms_value_voltage_and_current.sce"
		   ]
		  },
  {
"cell_type": "code",
	   "execution_count": null,
	   "metadata": {
	    "collapsed": true
	   },
	   "outputs": [],
"source": [
"clear;\n",
"clc;\n",
"Zo=50;Vr=10;Ir=0;a=0;\n",
"B=%pi/4;\n",
"V=(Vr*cos(B))+(%i*(Ir*Zo*sin(B)));\n",
"I=(Ir*cos(B))+(%i*((Vr*sin(B))/Zo));\n",
"C=real(I);\n",
"D=imag(I);\n",
"printf('-R.m.s.voltage at the required distance is V = %f volts\n',round((V)*100)/100);\n",
"printf('-R.m.s.current at required distance is I = %f /_ %f  Amps',round(abs(I)*1000)/1000,atan(D,C)*180/%pi);"
   ]
   }
,
{
		   "cell_type": "markdown",
		   "metadata": {},
		   "source": [
			"## Example 3.3: Calculating_the_rms_value_of_voltage_and_current.sce"
		   ]
		  },
  {
"cell_type": "code",
	   "execution_count": null,
	   "metadata": {
	    "collapsed": true
	   },
	   "outputs": [],
"source": [
"clc;\n",
"Zo=500*exp(%i*(-%pi/(180/43)));l=10;P=0.07+(%i*0.08);Vs=5;\n",
"V=Vs*(exp(-P*l));\n",
"I=V/Zo;\n",
"C=real(V);\n",
"D=imag(V);\n",
"E=real(I)*(10^3);\n",
"F=imag(I)*(10^3);\n",
"printf('-R.m.s.voltage at the required distance is V = %f /_ %f V\n',round(abs(V)*10)/10,round(atan(D,C)*180*10/%pi)/10);\n",
"printf('-R.m.s.current at required distance is I = %f/_ %f  mA',round(abs(I)*10^3),round(atan(F,E)*180*10/%pi)/10);"
   ]
   }
,
{
		   "cell_type": "markdown",
		   "metadata": {},
		   "source": [
			"## Example 3.4: Calculating_the_input_impedance_of_line.sce"
		   ]
		  },
  {
"cell_type": "code",
	   "execution_count": null,
	   "metadata": {
	    "collapsed": true
	   },
	   "outputs": [],
"source": [
"clear;\n",
"clc;\n",
"Zo=710*exp(%i*(%pi/(180/14)));l=100;P=0.007+(%i*0.028);Zr=300;\n",
"K=round(sinh(P*l)*100)/100;J=round(cosh(P*l)*100)/100;\n",
"Zin=Zo*((Zr*J)+(Zo*K))/((Zo*J)+(Zr*K));\n",
"C=real(Zin);\n",
"D=imag(Zin);\n",
"printf('Input impedance of line is Zin = %f /_ %f ohms',abs(Zin),round(atan(D,C)*180*10/%pi)/10);\n",
"A=((Zr*J)+(Zo*K));\n",
"B=((Zo*J)+(Zr*K));\n",
"//the difference in result  is due to erroneous value in textbook.\n",
"disp('The difference in result is due to erroneous value in textbook')"
   ]
   }
,
{
		   "cell_type": "markdown",
		   "metadata": {},
		   "source": [
			"## Example 3.5: Calculating_sending_end_impedance.sce"
		   ]
		  },
  {
"cell_type": "code",
	   "execution_count": null,
	   "metadata": {
	    "collapsed": true
	   },
	   "outputs": [],
"source": [
"clear;\n",
"clc;\n",
"Zo=55;Zr=115+(%i*75);n=1.183;\n",
"//value of Zr as taken in solution\n",
"m=(2*%pi*n)-(2*%pi);\n",
"Zin=Zo*(Zr+(%i*Zo*tan(m)))/(Zo+(%i*Zr*tan(m)));\n",
"C=real(Zin);\n",
"D=imag(Zin);\n",
"printf('Sending end impedance is Zin = %f + j(%f) ohms',fix(C*10)/10,fix(D*10)/10);\n",
""
   ]
   }
,
{
		   "cell_type": "markdown",
		   "metadata": {},
		   "source": [
			"## Example 3.6: Calculating_input_impedance.sce"
		   ]
		  },
  {
"cell_type": "code",
	   "execution_count": null,
	   "metadata": {
	    "collapsed": true
	   },
	   "outputs": [],
"source": [
"clear;\n",
"clc;\n",
"Zo=50*exp(-%i*(%pi/(180/5)));a=0.001;b=%pi/1.8;Vr=0.5*exp(%i*(%pi/(180/30)));\n",
"l=100;x=4; //Vr=voltage reflection coefficient\n",
"modVr=abs(Vr);\n",
"A=modVr*exp(-2*a*(l-x));\n",
"Zin=Zo*(1+A)/(1-A);\n",
"C=real(Zin);\n",
"D=imag(Zin);\n",
"printf('Input impedance of transmission line = %f /_ %f ohms',fix(abs(Zin)*100)/100,atan(D,C)*180/%pi);"
   ]
   }
,
{
		   "cell_type": "markdown",
		   "metadata": {},
		   "source": [
			"## Example 3.7: Calculating_the_value_of_voltage_reflection_coefficient.sce"
		   ]
		  },
  {
"cell_type": "code",
	   "execution_count": null,
	   "metadata": {
	    "collapsed": true
	   },
	   "outputs": [],
"source": [
"clear;\n",
"clc;\n",
"Ka=0.2*exp(%i*(-%pi/(180/30)));d=1/12;\n",
"Kb=Ka/exp(%i*%pi*4*d);\n",
"printf('Desired value of voltage reflection coefficient = %f /_ %f',abs(Kb),atan(imag(Kb),real(Kb))*180/%pi);"
   ]
   }
,
{
		   "cell_type": "markdown",
		   "metadata": {},
		   "source": [
			"## Example 3.8: Calculating_the_ratio_of_transmitter_voltage_to_receiver_voltage.sce"
		   ]
		  },
  {
"cell_type": "code",
	   "execution_count": null,
	   "metadata": {
	    "collapsed": true
	   },
	   "outputs": [],
"source": [
"clear;\n",
"clc;\n",
"Zo=710*exp(%i*(-%pi/(180/16)));a=0.01;b=0.035;l=100;Zr=300;\n",
"P=a+(%i*b);\n",
"V=(cosh(P*l))+((Zo/Zr)*sinh(P*l)); //V=Vs/Vr\n",
"modV=abs(V);\n",
"V1=log(modV)*8.686;\n",
"V2=log(modV);\n",
"printf('-Ratio of the transmitter voltage and the receiver voltage in nepers = %f\n',round((V2)*100)/100);\n",
"printf('-Ratio of the transmitter voltage and the receiver voltage in decibels = %f\n',round((V1)*100)/100);"
   ]
   }
,
{
		   "cell_type": "markdown",
		   "metadata": {},
		   "source": [
			"## Example 3.9: Calculating_the_value_of_voltage_reflection_coefficient.sce"
		   ]
		  },
  {
"cell_type": "code",
	   "execution_count": null,
	   "metadata": {
	    "collapsed": true
	   },
	   "outputs": [],
"source": [
"clear;\n",
"clc;\n",
"Zo=692*exp(%i*(-%pi/(180/12 )));Zr=200;l=100;V=1;f=1000;\n",
"K=(Zr-Zo)/(Zr+Zo);\n",
"C=real(K);\n",
"D=imag(K);\n",
"printf('Voltage reflection coefficient = %f /_ %f',round(abs(K)*100)/100,round(atan(D,C)*180*10/%pi)/10);"
   ]
   }
],
"metadata": {
		  "kernelspec": {
		   "display_name": "Scilab",
		   "language": "scilab",
		   "name": "scilab"
		  },
		  "language_info": {
		   "file_extension": ".sce",
		   "help_links": [
			{
			 "text": "MetaKernel Magics",
			 "url": "https://github.com/calysto/metakernel/blob/master/metakernel/magics/README.md"
			}
		   ],
		   "mimetype": "text/x-octave",
		   "name": "scilab",
		   "version": "0.7.1"
		  }
		 },
		 "nbformat": 4,
		 "nbformat_minor": 0
}
