{
"cells": [
 {
		   "cell_type": "markdown",
	   "metadata": {},
	   "source": [
       "# Chapter 9: Artificial Lines"
	   ]
	},
{
		   "cell_type": "markdown",
		   "metadata": {},
		   "source": [
			"## Example 9.1: Designing_an_artificial_line.sce"
		   ]
		  },
  {
"cell_type": "code",
	   "execution_count": null,
	   "metadata": {
	    "collapsed": true
	   },
	   "outputs": [],
"source": [
"clear;\n",
"clc;\n",
"R=10.4;L=3.67*(10^-3);G=0.8*(10^-6);C=0.00835*(10^-6);bmax=0.1;\n",
"f=5.5*(10^3); //artificial line will be designed fr highest frequecy of operation\n",
"w=2*%pi*f;\n",
"Z=R+(%i*w*L);\n",
"Y=G+(%i*w*C);\n",
"P=sqrt(Z*Y);\n",
"b=imag(P);\n",
"l=bmax/b;\n",
"Zs=Z*l/2;\n",
"Zsh=1/(Y*l);\n",
"Zr=Y*l;\n",
"R1=real(Zs);\n",
"printf('-R1/2 = %f ohms\n',round(R1*10)/10);\n",
"L1=imag(Zs)/w;\n",
"printf('-L1/2 = %f mH\n',fix(L1*(10^3)*100)/100);\n",
"C2=imag(Zr)/w;\n",
"printf('-C2 = %f microfarads\n',fix(C2*(10^6)*10^4)/10^4);\n",
"G2=real(Zr);\n",
"R2=1/(round(G2*10^6*10)/10);\n",
"printf('-R2 = %f m ohms',R2);"
   ]
   }
,
{
		   "cell_type": "markdown",
		   "metadata": {},
		   "source": [
			"## Example 9.2: Designing_an_artificial_line.sce"
		   ]
		  },
  {
"cell_type": "code",
	   "execution_count": null,
	   "metadata": {
	    "collapsed": true
	   },
	   "outputs": [],
"source": [
"clear;\n",
"clc;\n",
"R=16.64;L=5.87*(10^-3);G=1.28*(10^-6);C=0.0134*(10^-6);bmax=0.1;f2=5500;f1=30;\n",
"w=2*%pi*f2;\n",
"Z=R+(%i*w*L);\n",
"Y=G+(%i*w*C);\n",
"P=fix(sqrt(Z*Y)*10^4)/10^4;\n",
"a=-f1*((-3*real(P)*real(P)*imag(P))-((imag(P))^3))/24;\n",
"a1=round(a*1000)/1000;\n",
"v=sqrt(bmax/a1);\n",
"l=f1/v;\n",
"R1=R*f1/(2*l);\n",
"L1=L*f1*10^3/(2*l);\n",
"C1=C*f1*10^6/l;\n",
"G1=G*f1/l;\n",
"Rg=1/G1;\n",
"printf('The elements of the artificial line are:\n');\n",
"printf(' R/2 = %f ohms\n',fix(R1*100)/100);\n",
"printf(' L/2 = %f mH\n',fix(L1*100)/100);\n",
"printf(' C = %f microfarads\n',fix(C1*1000)/1000);\n",
"printf(' Rg = %f k ohms\n',round((Rg*0.1)/100));"
   ]
   }
,
{
		   "cell_type": "markdown",
		   "metadata": {},
		   "source": [
			"## Example 9.3: Designing_a_delay_line_using_T_section.sce"
		   ]
		  },
  {
"cell_type": "code",
	   "execution_count": null,
	   "metadata": {
	    "collapsed": true
	   },
	   "outputs": [],
"source": [
"clear;\n",
"clc;\n",
"Ro=500;Td=1*(10^-6);Tr=0.3*(10^-6);\n",
"n=1.1*((Td/Tr)^(3/2));\n",
"N=round(n);\n",
"printf('-Number of T-sections required = %f\n',N);\n",
"C=Td/(1.07*N*Ro);\n",
"printf('-C = %f microfarads\n',C*(10^6));\n",
"L=(Ro*Td)/(1.07*n);\n",
"printf('-L = %f mH',L*(10^3));\n",
"//the difference in result of L is due to erroneous value in textbook.\n",
"disp('The difference in result of L is due to erroneous value in textbook')"
   ]
   }
,
{
		   "cell_type": "markdown",
		   "metadata": {},
		   "source": [
			"## Example 9.4: Designing_an_artificial_line.sce"
		   ]
		  },
  {
"cell_type": "code",
	   "execution_count": null,
	   "metadata": {
	    "collapsed": true
	   },
	   "outputs": [],
"source": [
"clear;\n",
"clc;\n",
"R=10.4;L=3.66*(10^-3);G=0.8*(10^-6);C=0.00835*(10^-6);bmax=0.1;s=7.88;f=5000;w=2*%pi*f;\n",
"Z=R+(%i*w*L);\n",
"Y=G+(%i*w*C);\n",
"P=sqrt(Z*Y);\n",
"b=imag(P);\n",
"lmax=bmax/b;\n",
"l=s/20; //l<lmax\n",
"Zs=Z*l/2;\n",
"Zsh=1/(Y*l);\n",
"Zr=Y*l;\n",
"R1=real(Zs);\n",
"printf('-R1 = %f ohms\n',round(R1*100)/100);\n",
"L1=imag(Zs)/w;\n",
"printf('-L1 = %f mH\n',round(L1*(10^3)*100)/100);\n",
"C2=imag(Zr)/w;\n",
"printf('-C2 = %f microfarads\n',C2*(10^6));\n",
"G2=real(Zr);\n",
"printf('-G2 = %f micromhos',G2*(10^6));"
   ]
   }
],
"metadata": {
		  "kernelspec": {
		   "display_name": "Scilab",
		   "language": "scilab",
		   "name": "scilab"
		  },
		  "language_info": {
		   "file_extension": ".sce",
		   "help_links": [
			{
			 "text": "MetaKernel Magics",
			 "url": "https://github.com/calysto/metakernel/blob/master/metakernel/magics/README.md"
			}
		   ],
		   "mimetype": "text/x-octave",
		   "name": "scilab",
		   "version": "0.7.1"
		  }
		 },
		 "nbformat": 4,
		 "nbformat_minor": 0
}
