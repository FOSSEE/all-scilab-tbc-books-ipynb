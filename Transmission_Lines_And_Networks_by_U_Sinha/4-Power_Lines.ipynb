{
"cells": [
 {
		   "cell_type": "markdown",
	   "metadata": {},
	   "source": [
       "# Chapter 4: Power Lines"
	   ]
	},
{
		   "cell_type": "markdown",
		   "metadata": {},
		   "source": [
			"## Example 4.2: Determining_equivalent_pi_network.sce"
		   ]
		  },
  {
"cell_type": "code",
	   "execution_count": null,
	   "metadata": {
	    "collapsed": true
	   },
	   "outputs": [],
"source": [
"clear;\n",
"clc\n",
"l=225;Zo=401-(%i*29);P=(0.148+(%i*2.06))*(10^-3);\n",
"Zs=Zo*sinh(P*l);\n",
"A=real(Zs);\n",
"B=imag(Zs);\n",
"printf('-Series branch of the equivalent network will have the impedance = %f + j(%f) ohms\n',round(A),round(B));\n",
"Zsh=Zo*coth(P*l/2);\n",
"C=real(Zsh);\n",
"D=imag(Zsh);\n",
"printf('-Shunt branch of the equivalent network will have the impedanc = j(%f) ohms',round(D))"
   ]
   }
,
{
		   "cell_type": "markdown",
		   "metadata": {},
		   "source": [
			"## Example 4.3: Calculating_inductance_per_km_of_line.sce"
		   ]
		  },
  {
"cell_type": "code",
	   "execution_count": null,
	   "metadata": {
	    "collapsed": true
	   },
	   "outputs": [],
"source": [
"clear;\n",
"clc;\n",
"r=1.25;d1=75;d2=150;\n",
"r1=0.7718*r;\n",
"ds=nthroot((r1*r1*d1*d1),4);\n",
"dm=sqrt(d2*(sqrt((d2*d2)+(d1*d1))));\n",
"L=0.9212*log10(dm/ds);\n",
"printf('Total loop inductance = %f mH/loop km',round(L*100)/100);"
   ]
   }
,
{
		   "cell_type": "markdown",
		   "metadata": {},
		   "source": [
			"## Example 4.4: Calculating_characteristic_impedance_and_propagation_constant.sce"
		   ]
		  },
  {
"cell_type": "code",
	   "execution_count": null,
	   "metadata": {
	    "collapsed": true
	   },
	   "outputs": [],
"source": [
"clear;\n",
"clc;\n",
"l=440;L=2.2*(10^-3);C=0.0136*(10^-6);R=0.120;G=0;f=60;\n",
"w=2*%pi*f;\n",
"Z=R+(%i*w*L);\n",
"Y=G+(%i*w*C);\n",
"Zo=sqrt(Z/Y);\n",
"A=real(Zo);\n",
"B=imag(Zo);\n",
"printf('-Characteristic impedance = %f + j(%f) ohms\n',round(A),round(B));\n",
"P=sqrt(Z*Y);\n",
"E=real(P)*10^4;\n",
"F=imag(P)*10^3;\n",
"printf('-Propagation constant = %f * 10^-4 + j(%f) * 10^-3 per km',fix(E*100)/100,fix(F*100)/100);"
   ]
   }
,
{
		   "cell_type": "markdown",
		   "metadata": {},
		   "source": [
			"## Example 4.5: Calculating_inductive_reactance.sce"
		   ]
		  },
  {
"cell_type": "code",
	   "execution_count": null,
	   "metadata": {
	    "collapsed": true
	   },
	   "outputs": [],
"source": [
"clear;\n",
"clc;\n",
"f=50;r=5*(10^-3);x=.5;y=3;z=4.5;t=6;s=5;\n",
"r1=0.7788*r; //r1=GMR\n",
"Dab=round(sqrt((y^2)+(x^2))*1000)/1000;\n",
"Dab1=round(sqrt((y^2)+(s^2))*1000)/1000;\n",
"Daa=sqrt((t^2)+(z^2));\n",
"Dab2=Dab;\n",
"Dab3=Dab1;\n",
"dab=round(nthroot((Dab1*Dab3*Dab*Dab2),4)*100)/100;\n",
"dca=fix(nthroot((t*t*z*z),4)*100)/100;\n",
"ds1=nthroot((r1*r1*7.5*7.5),4);\n",
"ds2=nthroot((r1*r1*5.5*5.5),4);\n",
"ds3=ds1;\n",
"ds=round(nthroot((ds1*ds2*ds3),3)*1000)/1000;\n",
"La=fix(0.4606*log10(dca/ds)*100)/100;\n",
"X=2*3*f*La*10^-3;\n",
"printf('Inductive reactance = %f ohm/km/phase',X);"
   ]
   }
,
{
		   "cell_type": "markdown",
		   "metadata": {},
		   "source": [
			"## Example 4.6: Calculating_capacitive_susceptance.sce"
		   ]
		  },
  {
"cell_type": "code",
	   "execution_count": null,
	   "metadata": {
	    "collapsed": true
	   },
	   "outputs": [],
"source": [
"clear;\n",
"clc;\n",
"dia=2*(10^-2);f=50;d=3.5;\n",
"r=dia/2;\n",
"Cab=0.01207/(log10(d/r))*(10^-6);\n",
"Xc=1/(2*%pi*f*Cab);\n",
"Bc=(1/Xc)*10^6;\n",
"printf('Capacitive susceptance per km = %f * 10^-6 mho/km',round(Bc*100)/100);"
   ]
   }
,
{
		   "cell_type": "markdown",
		   "metadata": {},
		   "source": [
			"## Example 4.7: Determining_the_capacitance_per_km_and_charging_current.sce"
		   ]
		  },
  {
"cell_type": "code",
	   "execution_count": null,
	   "metadata": {
	    "collapsed": true
	   },
	   "outputs": [],
"source": [
"clear;\n",
"clc;\n",
"dia=2*(10^-2);f=50;d1=3.5;V=66000;\n",
"r=dia/2;\n",
"Cn1=0.02414/(log10(d1/r))*(10^-6);\n",
"printf('(a)Capacitance per km = %f microfarads/km,to neutral\n',fix(Cn1*(10^6)*10^5)/10^5);\n",
"Vn=V/sqrt(3);\n",
"Ic1=Vn*2*%pi*f*Cn1;\n",
"printf('\tCharging current = %f mA/km\n',fix(Ic1*(10^3)*10)/10);\n",
"d1=3.5;d2=4.5;d3=5.5;\n",
"Deq=nthroot(d1*d2*d3,3);\n",
"Cn2=0.02414/(log10(Deq/r))*(10^-6);\n",
"printf('(b)Capacitance per km =%f microfarads/km,to neutral\n',fix(Cn2*(10^6)*10^5)/10^5);\n",
"Ic2=Vn*2*%pi*f*Cn2;\n",
"printf('\tCharging current = %f mA/km',round(Ic2*(10^3)));"
   ]
   }
],
"metadata": {
		  "kernelspec": {
		   "display_name": "Scilab",
		   "language": "scilab",
		   "name": "scilab"
		  },
		  "language_info": {
		   "file_extension": ".sce",
		   "help_links": [
			{
			 "text": "MetaKernel Magics",
			 "url": "https://github.com/calysto/metakernel/blob/master/metakernel/magics/README.md"
			}
		   ],
		   "mimetype": "text/x-octave",
		   "name": "scilab",
		   "version": "0.7.1"
		  }
		 },
		 "nbformat": 4,
		 "nbformat_minor": 0
}
