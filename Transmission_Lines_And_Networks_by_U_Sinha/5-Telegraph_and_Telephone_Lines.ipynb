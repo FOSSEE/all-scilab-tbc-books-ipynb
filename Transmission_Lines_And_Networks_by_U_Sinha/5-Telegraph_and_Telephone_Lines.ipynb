{
"cells": [
 {
		   "cell_type": "markdown",
	   "metadata": {},
	   "source": [
       "# Chapter 5: Telegraph and Telephone Lines"
	   ]
	},
{
		   "cell_type": "markdown",
		   "metadata": {},
		   "source": [
			"## Example 5.10: Calculating_length_of_line_for_a_given_attenuation.sce"
		   ]
		  },
  {
"cell_type": "code",
	   "execution_count": null,
	   "metadata": {
	    "collapsed": true
	   },
	   "outputs": [],
"source": [
"clear;\n",
"clc;\n",
"a=0.005;f=1000;al=0.05;att=10 //att=given attenuation in db\n",
"lo=att/(a*8.686);\n",
"printf('-For the open wire line the required length is lo = %f km\n',round(lo*10)/10);\n",
"lc=att/(al*8.686);\n",
"printf('-For the cable the required length is lc = %f km',fix(lc*100)/100);"
   ]
   }
,
{
		   "cell_type": "markdown",
		   "metadata": {},
		   "source": [
			"## Example 5.11: Calculating_cutoff_frequency_and_attenuation_and_phase_velocity.sce"
		   ]
		  },
  {
"cell_type": "code",
	   "execution_count": null,
	   "metadata": {
	    "collapsed": true
	   },
	   "outputs": [],
"source": [
"clear;\n",
"clc;\n",
"R=20;C=0.03*(10^-6);L=0;G=0;r=18.2;l=78*(10^-3);d=2.1;f=3000/(2*%pi);\n",
"Rc=R+(r/d);\n",
"Lc=L+(l/d);\n",
"Fc=1/(%pi*(sqrt(Lc*C*d)));\n",
"printf('(i)Cutoff frequency = %f kHz\n',round(Fc*(10^-3)*100)/100);\n",
"al=((Rc/2)*sqrt(C/Lc))+((G/2)*sqrt(Lc/C));\n",
"printf('(ii)Attenuation per km = %f neper/km\n',fix(al*10000)/10000);\n",
"Vp1=(1/(sqrt(Lc*C)))*10^-4;\n",
"printf('(iii)Phase velocity = %f * 10^4 km/sec',fix(Vp1*1000)/1000);\n",
"//the difference in result of attenuation per km and phase velocity is due to erroneous value in textbook.\n",
"disp('The difference in result of attenuation per km and phase velocity is due to erroneous value in textbook')"
   ]
   }
,
{
		   "cell_type": "markdown",
		   "metadata": {},
		   "source": [
			"## Example 5.12: EX5_12.sce"
		   ]
		  },
  {
"cell_type": "code",
	   "execution_count": null,
	   "metadata": {
	    "collapsed": true
	   },
	   "outputs": [],
"source": [
"clear;\n",
"clc;\n",
"R=80;C=0.06*(10^-6);L=0;G=0;f=2500;al=0.04;ratio=40;\n",
"fc=2*f;\n",
"//ratio=ratio off resistance to inductance of loading coil\n",
"A=2/(3.14*3.14*C*4*f*f); //A=Lc*d\n",
"B=al/(%pi*f*1.414*C/2);\n",
"C=%pi*f*1.414*C/2;\n",
"y=poly([ratio*C*100*A -al*100 80*100*C],'x','coeff');\n",
"a=roots(y);\n",
"b=round(a(1,1)*100)/100;\n",
"Lo=round((A/b)*1000)/1000;\n",
"printf('Adding %f Henry coils at intervals of %f km is the practical and economically possible solution.',Lo,b)"
   ]
   }
,
{
		   "cell_type": "markdown",
		   "metadata": {},
		   "source": [
			"## Example 5.13: Calculating_rate_of_transmission_of_information.sce"
		   ]
		  },
  {
"cell_type": "code",
	   "execution_count": null,
	   "metadata": {
	    "collapsed": true
	   },
	   "outputs": [],
"source": [
"clear;\n",
"clc;\n",
"B=3000; //B=band width\n",
"D=30; //D=ratio of signal power to noise power in db\n",
"P=10^(D/10); // P=converting D into a numerical ratio\n",
"A=fix(log2(1+P)*100)/100\n",
"C=B*A;\n",
"printf('Rate of transmission of information = %f bits/sec',C);"
   ]
   }
,
{
		   "cell_type": "markdown",
		   "metadata": {},
		   "source": [
			"## Example 5.14: Calculating_a_and_b_and_cut_off_frequency.sce"
		   ]
		  },
  {
"cell_type": "code",
	   "execution_count": null,
	   "metadata": {
	    "collapsed": true
	   },
	   "outputs": [],
"source": [
"clear;\n",
"clc;\n",
"R=55;L=0.6*(10^-3);G=1*(10^-6);C=0.04*(10^-6);f=800;r=8;l=0.1;d=2.5; //value of l(loading coil inductance) as taken in solution\n",
"w=2*%pi*f;\n",
"Z=round(R+(%i*w*L));\n",
"Y=G+(%i*w*C);\n",
"Zo=sqrt(Z/Y);\n",
"P=round(sqrt(Z*Y)*10^4)/10^4;\n",
"Zc=r+(%i*w*l);\n",
"A=fix(((cosh(P*d))+(Zc*(sinh(P*d))/(2*Zo)))*10^3)/10^3;\n",
"Pl=(acosh(A))/d;\n",
"al=real(Pl);\n",
"bl=imag(Pl);\n",
"printf('New value of attenuation constant = %f neper/km\n',round(al*100)/100);\n",
"printf(' New value of phase constant = %f rad/km\n',round(bl*1000)/1000);\n",
"Lc=L+(l/(d*10^3));\n",
"Fc=1/(3.14*(sqrt(Lc*C*d)));\n",
"printf(' Cutoff frequency = %f * 10^4 Hz',round(Fc*10^-2)/10^2);\n",
"//the difference in result  is due to erroneous value in textbook.\n",
"disp('The difference in result is due to erroneous value in textbook')"
   ]
   }
,
{
		   "cell_type": "markdown",
		   "metadata": {},
		   "source": [
			"## Example 5.15: Calculating_wavelength_of_line.sce"
		   ]
		  },
  {
"cell_type": "code",
	   "execution_count": null,
	   "metadata": {
	    "collapsed": true
	   },
	   "outputs": [],
"source": [
"clear;\n",
"clc;\n",
"R=10;C=0.008*(10^-6);l=60; //value of R as taken in solution\n",
"Rt=R*l; //Rt=total resistannce\n",
"Ct=C*l; //Ct=total capacitance\n",
"f=1600 //assupmtion\n",
"w=2*%pi*f;\n",
"b=sqrt(f*Rt*Ct/2);\n",
"lo=2*%pi/b;\n",
"printf('Wavelength of line = %f metres',fix(lo*100)/100);"
   ]
   }
,
{
		   "cell_type": "markdown",
		   "metadata": {},
		   "source": [
			"## Example 5.16: Calculating_the_value_of_attenuation.sce"
		   ]
		  },
  {
"cell_type": "code",
	   "execution_count": null,
	   "metadata": {
	    "collapsed": true
	   },
	   "outputs": [],
"source": [
"clear;\n",
"clc;\n",
"R=45;L=1.2*(10^-3);G=5*(10^-6);C=0.065*(10^-6);w=20000;l=22*(10^-3);s=1.1;\n",
"pf=0.005//pf=power factor //value of pf as taken in solution\n",
"r=pf*w*L;\n",
"Rc=R+(r/s);\n",
"Lc=L+(l/s);\n",
"P=sqrt((Rc+(%i*w*Lc))*(G+(%i*w*C)));\n",
"theta=round(atan(imag(P),real(P))*180/%pi);\n",
"a=abs(P)*cos(theta*%pi/180);\n",
"printf('Attenuation constant of line = %f neper/km',fix(a*10^4)/10^4);"
   ]
   }
,
{
		   "cell_type": "markdown",
		   "metadata": {},
		   "source": [
			"## Example 5.17: Calculating_potential_at_mid_point.sce"
		   ]
		  },
  {
"cell_type": "code",
	   "execution_count": null,
	   "metadata": {
	    "collapsed": true
	   },
	   "outputs": [],
"source": [
"clear;\n",
"clc;\n",
"l=100;R=10;G=10^-5;Vs=40;Zr=0;\n",
"Zo=sqrt(R/G);\n",
"P=sqrt(R*G);\n",
"Zin=Zo*(Zr+(Zo*tanh(P*l)))/(Zo+(Zr*tanh(P*l)));\n",
"Is=Vs/Zin;\n",
"V=(Vs*(cosh(P*l)))-(Is*Zo*(sinh(P*l)));\n",
"Vm=2*V;\n",
"printf('Potential at mid point = %f volts',Vm);\n",
"//the difference in result  is due to erroneous value in textbook.\n",
"disp('The difference in result is due to erroneous value in textbook')"
   ]
   }
,
{
		   "cell_type": "markdown",
		   "metadata": {},
		   "source": [
			"## Example 5.1: Calculating_decrease_in_attenuation_and_cut_off_frequency.sce"
		   ]
		  },
  {
"cell_type": "code",
	   "execution_count": null,
	   "metadata": {
	    "collapsed": true
	   },
	   "outputs": [],
"source": [
"clear;\n",
"clc;\n",
"R=28;C=0.04*(10^-6);G=0;L=0;f=1600;s=2000;r=3.7;l=88*(10^-3);\n",
"Rc=R+(r/(s*(10^-3)));\n",
"Lc=L+(l/(s*(10^-3)));\n",
"Fc=1/(%pi*(sqrt(Lc*C)));\n",
"printf('-Cutoff frequency = %f Hz\n',round(Fc));\n",
"w=2*%pi*f;\n",
"a=sqrt(w*C*R/2);\n",
"al=((Rc/2)*sqrt(C/Lc))+((G/2)*sqrt(Lc/C));\n",
"A=(a-al)*8.686;\n",
"printf('-Decrease in attenuation = %f db/km',round(A*100)/100);"
   ]
   }
,
{
		   "cell_type": "markdown",
		   "metadata": {},
		   "source": [
			"## Example 5.2: Calculating_Zo_and_a_and_b_and_Vp.sce"
		   ]
		  },
  {
"cell_type": "code",
	   "execution_count": null,
	   "metadata": {
	    "collapsed": true
	   },
	   "outputs": [],
"source": [
"clear;\n",
"clc;\n",
"R=10.15;L=3.93*(10^-3);G=0.29*(10^-6);C=0.008*(10^-6);w=5000;r=7.3;l=246*(10^-3);\n",
"s=7.88;\n",
"Rc=R+(r/s);\n",
"Lc=L+(l/s);\n",
"al=((Rc/2)*sqrt(C/Lc))+((G/2)*sqrt(Lc/C));\n",
"printf('-a = %f neper/km\n',round(al*10000)/10000);\n",
"b=w*(sqrt(Lc*C));\n",
"printf('-b = %f radians/km\n',round(b*10^4)/10^4);\n",
"lo=2*%pi/b; //lo=lambda\n",
"printf('-lo = %f km\n',round(lo*100)/100);\n",
"Vp=(w/b)*10^-4;\n",
"printf('-Vp = %f * 10^4 km/sec\n',round(Vp*100)/100);\n",
"Zo=(sqrt(Lc/C))*10^-3;\n",
"printf('-Zo = %f * 10^3 ohms',fix(Zo*100)/100);"
   ]
   }
,
{
		   "cell_type": "markdown",
		   "metadata": {},
		   "source": [
			"## Example 5.3: Calculating_modified_Zo_and_a_and_Vp.sce"
		   ]
		  },
  {
"cell_type": "code",
	   "execution_count": null,
	   "metadata": {
	    "collapsed": true
	   },
	   "outputs": [],
"source": [
"clear;\n",
"clc;\n",
"R=10.4;L=3.67*(10^-3);G=0.8*(10^-6);C=0.00835*(10^-6);w=5000;r=7.3;l=246*(10^-3);\n",
"s=7.88;\n",
"Rc=R+(r/s);\n",
"Lc=L+(l/s);\n",
"Z=fix((Rc+(%i*w*Lc))*100)/100;\n",
"Y=G+(%i*w*C);\n",
"Zo=sqrt(Z/Y);\n",
"A=real(Zo);\n",
"B=imag(Zo);\n",
"P=sqrt(Z*Y);\n",
"a=real(P);\n",
"b=imag(P);\n",
"Vp=w/b;\n",
"phi=(round(atan(imag(Z),real(Z))*180*10/%pi)/10)-round(atan(imag(Y),real(Y))*180*10/%pi)/10;\n",
"printf('(i)Using exact method Zo = %f /_ %f ohms\n',round(abs(Zo)),phi);\n",
"printf('\t\t\ta = %f neper/km\n',round(a*10^4)/10^4);\n",
"printf('\t\t\tVp = %f * 10^4 km/sec\n',round(Vp*10^-2)/10^2);\n",
"Zo1=sqrt(Lc/C);\n",
"printf('(ii)Using approximate methos Zo = %f ohms\n',round(Zo1));\n",
"al=((Rc/2)*sqrt(C/Lc))+((G/2)*sqrt(Lc/C));\n",
"printf('\t\t\ta = %f neper/km\n',round(al*10^5)/10^5);\n",
"b1=w*(sqrt(Lc*C));\n",
"Vp1=1/(sqrt(Lc*C));\n",
"printf('\t\t\tVp = %f * 10^4 km/sec',round(Vp1*10^-2)/10^2);"
   ]
   }
,
{
		   "cell_type": "markdown",
		   "metadata": {},
		   "source": [
			"## Example 5.4: EX5_4.sce"
		   ]
		  },
  {
"cell_type": "code",
	   "execution_count": null,
	   "metadata": {
	    "collapsed": true
	   },
	   "outputs": [],
"source": [
"clear;\n",
"clc;\n",
"R=10;C=0.04*(10^-6);L=0;G=0;f=1000;l=100*(10^-3);r=12;d=0.9;\n",
"w=2*%pi*f;\n",
"a=sqrt(w*C*R/2);\n",
"b=sqrt(w*C*R/2);\n",
"Vp=(w/b)*10^-5;\n",
"printf('-Phase velocity before loading = %f * 10^5 km/sec\n',fix(Vp*10)/10);\n",
"Rc=R+(r/d);\n",
"Lc=L+(l/d);\n",
"al=((Rc/2)*sqrt(C/Lc))+((G/2)*sqrt(Lc/C));\n",
"Vpl=(1/(sqrt(Lc*C)))*10^-4;\n",
"printf('-Phase velocity after loading = %f * 10^4 km/sec\n',Vpl);\n",
"A=a-al;\n",
"printf('-Decrease in attenuation = %f neper/km\n',round(A*10000)/10000);\n",
"Fc=1/(%pi*(sqrt(Lc*C*d)));\n",
"printf('-Cutoff frequency = %f kHz',round(Fc*(10^-3)*1000)/1000);"
   ]
   }
,
{
		   "cell_type": "markdown",
		   "metadata": {},
		   "source": [
			"## Example 5.5: Calculating_attenuation_and_cut_off_frequency.sce"
		   ]
		  },
  {
"cell_type": "code",
	   "execution_count": null,
	   "metadata": {
	    "collapsed": true
	   },
	   "outputs": [],
"source": [
"clear;\n",
"clc;\n",
"R=40;C=0.06*(10^-6);L=0;G=0;r=15;l=80*(10^-3);d=1.2;f=(5/(2*%pi))*10^3;\n",
"Rc=R+(r/d);\n",
"Lc=L+(l/d)\n",
"w=2*%pi*f;\n",
"Z=Rc+(%i*w*Lc);\n",
"Y=G+(%i*w*C);\n",
"P=sqrt(Z*Y);\n",
"a=real(P);\n",
"printf('(a)Attenuation constant a = %f neper/km\n',round(a*1000)/1000);\n",
"Fc=1/(%pi*(sqrt(l*C*d)));\n",
"printf('(b)Cutoff frequency = %f kHz',round(Fc*(10^-3)*1000)/1000);\n",
""
   ]
   }
,
{
		   "cell_type": "markdown",
		   "metadata": {},
		   "source": [
			"## Example 5.6: Calculating_attenuation_and_highest_frequency_of_transmission.sce"
		   ]
		  },
  {
"cell_type": "code",
	   "execution_count": null,
	   "metadata": {
	    "collapsed": true
	   },
	   "outputs": [],
"source": [
"clear;\n",
"clc;\n",
"R=25;C=0.04*(10^-6);L=0.6*(10^-3);G=0;l=45*(10^-3);r=20;d=1;f=1000;\n",
"Rc=R+(r/d);\n",
"Lc=L+(l/d)\n",
"w=2*%pi*f;\n",
"Z=Rc+(%i*w*Lc);\n",
"Y=G+(%i*w*C);\n",
"P=sqrt(Z*Y);\n",
"a=real(P);\n",
"printf('-Attenuation per km line = %f neper/km\n',round(a*10^5)/10^5);\n",
"Fc=1/(%pi*(sqrt(Lc*C*d)));\n",
"printf('-Highest frequency of transmission will be cutoff frequency = %f kHz',round(Fc*(10^-3)*10^3)/10^3);"
   ]
   }
,
{
		   "cell_type": "markdown",
		   "metadata": {},
		   "source": [
			"## Example 5.7: Calculating_the_value_of_Zo_and_a_and_Vp_after_loading.sce"
		   ]
		  },
  {
"cell_type": "code",
	   "execution_count": null,
	   "metadata": {
	    "collapsed": true
	   },
	   "outputs": [],
"source": [
"clear;\n",
"clc;\n",
"R=42.1;L=1*(10^-3);G=1.5*(10^-6);C=0.062*(10^-6);f=796;r=2.7;l=31*(10^-3);\n",
"d=1.135;\n",
"Rc=R+(r/d);\n",
"Lc=round((L+(l/d))*1000)/1000;\n",
"Zo=sqrt(Lc/C);\n",
"printf('-Zo after loading = %f ohms\n',round(Zo));\n",
"al=((Rc/2)*sqrt(C/Lc))+((G/2)*sqrt(Lc/C));\n",
"printf('-a after loading = %f neper/km\n',round(al*10^4)/10^4);\n",
"Vp=1/(sqrt(Lc*C));\n",
"printf('-Approximate value of Vp = %f km/sec',fix(Vp));"
   ]
   }
,
{
		   "cell_type": "markdown",
		   "metadata": {},
		   "source": [
			"## Example 5.8: Calculating_cut_off_frequency_and_attenuation.sce"
		   ]
		  },
  {
"cell_type": "code",
	   "execution_count": null,
	   "metadata": {
	    "collapsed": true
	   },
	   "outputs": [],
"source": [
"clear;\n",
"clc;\n",
"R=30;L=0;G=0;C=7000*(10^-12);f=3/(2*%pi)*(10^3);r=35;l=70*(10^-3);\n",
"d=1;\n",
"Rc=R+(r/d);\n",
"Lc=L+(l/d);\n",
"Fc=1/(%pi*(sqrt(Lc*C*d)));\n",
"printf('-Approximate value of highest frequency = %f kHz\n',round(Fc*(10^-3)*100)/100);\n",
"al=((Rc/2)*sqrt(C/Lc))+((G/2)*sqrt(Lc/C));\n",
"printf('-Approximate value of attenuation per km after = %f neper/km',round(al*10^4)/10^4);"
   ]
   }
,
{
		   "cell_type": "markdown",
		   "metadata": {},
		   "source": [
			"## Example 5.9: Calculating_Zo_and_a_and_b.sce"
		   ]
		  },
  {
"cell_type": "code",
	   "execution_count": null,
	   "metadata": {
	    "collapsed": true
	   },
	   "outputs": [],
"source": [
"clear;\n",
"clc;\n",
"R=44;L=0.001;G=1*(10^-6);C=0.065*(10^-6);f=1600;r=3.7;l=88*(10^-3);\n",
"d=1.136;\n",
"w=2*%pi*f;\n",
"Rc=R+(r/d);\n",
"Lc=L+(l/d);\n",
"Zo=sqrt(Lc/C);\n",
"printf('-Approximate value of Zo = %f ohms\n',round(Zo*100)/100);\n",
"al=(((Rc/2)*sqrt(C/Lc))+((G/2)*sqrt(Lc/C)))*8.686;\n",
"printf('-Approximate value of a = %f db/km\n',fix(al*1000)/1000);\n",
"b=w*(sqrt(Lc*C));\n",
"printf('-Approximate value of b = %f radians/km',fix(b*1000)/1000);\n",
"//the difference in result of Zo is due to erroneous value in textbook.\n",
"disp('The difference in result of Zo is due to erroneous value in textbook')"
   ]
   }
],
"metadata": {
		  "kernelspec": {
		   "display_name": "Scilab",
		   "language": "scilab",
		   "name": "scilab"
		  },
		  "language_info": {
		   "file_extension": ".sce",
		   "help_links": [
			{
			 "text": "MetaKernel Magics",
			 "url": "https://github.com/calysto/metakernel/blob/master/metakernel/magics/README.md"
			}
		   ],
		   "mimetype": "text/x-octave",
		   "name": "scilab",
		   "version": "0.7.1"
		  }
		 },
		 "nbformat": 4,
		 "nbformat_minor": 0
}
