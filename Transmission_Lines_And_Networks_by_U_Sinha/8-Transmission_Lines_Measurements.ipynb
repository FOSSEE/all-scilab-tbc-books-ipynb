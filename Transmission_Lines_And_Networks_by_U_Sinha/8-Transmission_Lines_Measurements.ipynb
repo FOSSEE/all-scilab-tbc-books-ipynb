{
"cells": [
 {
		   "cell_type": "markdown",
	   "metadata": {},
	   "source": [
       "# Chapter 8: Transmission Lines Measurements"
	   ]
	},
{
		   "cell_type": "markdown",
		   "metadata": {},
		   "source": [
			"## Example 8.1: Calculating_the_value_of_load_impedance.sce"
		   ]
		  },
  {
"cell_type": "code",
	   "execution_count": null,
	   "metadata": {
	    "collapsed": true
	   },
	   "outputs": [],
"source": [
"clear;\n",
"clc;\n",
"K=0.5*exp(%i*(30)/(180/%pi));\n",
"Zo=100;\n",
"Zl=Zo*(1+K)/(1-K);\n",
"A=real(Zl);\n",
"B=imag(Zl);\n",
"printf('Load impedance = %f /_ %f ohms',fix(abs(Zl)),round(atan(B,A)*180/%pi));"
   ]
   }
,
{
		   "cell_type": "markdown",
		   "metadata": {},
		   "source": [
			"## Example 8.2: Calculating_insertion_loss.sce"
		   ]
		  },
  {
"cell_type": "code",
	   "execution_count": null,
	   "metadata": {
	    "collapsed": true
	   },
	   "outputs": [],
"source": [
"clear;\n",
"clc;\n",
"P1=67;P2=30;\n",
"L=10*log10(P1/P2);\n",
"printf('Insertion loss = %f db',fix(L*100)/100);"
   ]
   }
,
{
		   "cell_type": "markdown",
		   "metadata": {},
		   "source": [
			"## Example 8.3: Calculating_insertion_loss.sce"
		   ]
		  },
  {
"cell_type": "code",
	   "execution_count": null,
	   "metadata": {
	    "collapsed": true
	   },
	   "outputs": [],
"source": [
"clear;\n",
"clc;\n",
"S=2;\n",
"Lr=10*log10(((S+1)^2)/(4*S));\n",
"Ld=10*log10((S+1)/(S-1));\n",
"L=Ld+Lr;\n",
"printf('Insertion loss = %f db',round(L*100)/100);\n",
"//the difference in result  is due to erroneous value in textbook.\n",
"disp('The difference in result is due to erroneous value in textbook')"
   ]
   }
],
"metadata": {
		  "kernelspec": {
		   "display_name": "Scilab",
		   "language": "scilab",
		   "name": "scilab"
		  },
		  "language_info": {
		   "file_extension": ".sce",
		   "help_links": [
			{
			 "text": "MetaKernel Magics",
			 "url": "https://github.com/calysto/metakernel/blob/master/metakernel/magics/README.md"
			}
		   ],
		   "mimetype": "text/x-octave",
		   "name": "scilab",
		   "version": "0.7.1"
		  }
		 },
		 "nbformat": 4,
		 "nbformat_minor": 0
}
