{
"cells": [
 {
		   "cell_type": "markdown",
	   "metadata": {},
	   "source": [
       "# Chapter 16: Attenuators"
	   ]
	},
{
		   "cell_type": "markdown",
		   "metadata": {},
		   "source": [
			"## Example 16.10: Designing_a_T_pad.sce"
		   ]
		  },
  {
"cell_type": "code",
	   "execution_count": null,
	   "metadata": {
	    "collapsed": true
	   },
	   "outputs": [],
"source": [
"clear;\n",
"clc;\n",
"Ri1=50;Ri2=200;p=5;\n",
"d=p/100;\n",
"Ai=atanh(1/(1+d));A=fix(Ai*100)/100;\n",
"R3=(sqrt(Ri1*Ri2))/sinh(A);\n",
"R2=(Ri2/tanh(A))-R3;\n",
"R1=(Ri1/tanh(A))-R3;\n",
"printf('The desired elements of T-pad are:\n');\n",
"printf(' R1 = %f ohms\n',round(R1));\n",
"printf(' R2 = %f ohms\n',fix(R2*10)/10);\n",
"printf(' R3 = %f ohms\n',round(R3*10)/10);"
   ]
   }
,
{
		   "cell_type": "markdown",
		   "metadata": {},
		   "source": [
			"## Example 16.11: Designing_an_unbalances_pi_attenuator.sce"
		   ]
		  },
  {
"cell_type": "code",
	   "execution_count": null,
	   "metadata": {
	    "collapsed": true
	   },
	   "outputs": [],
"source": [
"clear;\n",
"clc;\n",
"D=20;Ri1=200;Ri2=500;\n",
"Ai=D*0.115;\n",
"Gi1=1/Ri1;Gi2=1/Ri2;\n",
"G3=(sqrt(Gi1*Gi2))/sinh(Ai);\n",
"G2=(Gi2/tanh(Ai))-G3;\n",
"G1=(Gi1/tanh(Ai))-G3;\n",
"R3=1/G3;R2=1/G2;R1=1/G1;\n",
"printf('The desired pi attenuator will be:\n');\n",
"printf(' R1 = %f ohms\n',round(R1*10)/10);\n",
"printf(' R2 = %f ohms\n',round(R2*10)/10);\n",
"printf(' R3 = %f ohms\n',round(R3));\n",
"//the difference in result of R3 is due to erroneous value in textbook.\n",
"disp('The difference in result of R3 is due to erroneous value in textbook')"
   ]
   }
,
{
		   "cell_type": "markdown",
		   "metadata": {},
		   "source": [
			"## Example 16.12: Designing_a_T_attenuator.sce"
		   ]
		  },
  {
"cell_type": "code",
	   "execution_count": null,
	   "metadata": {
	    "collapsed": true
	   },
	   "outputs": [],
"source": [
"clear;\n",
"clc;\n",
"R1=500;R2=110;\n",
"Ro=sqrt((2*2*R1*R1/4)+(2*R1*R2));\n",
"a=acosh(1+(2*R1/(2*R2)));\n",
"Ri1=Ro;Ri2=150;Ai=round(a*10)/10;\n",
"R3=(sqrt(Ri1*Ri2))/(fix(sinh(Ai)*100)/100);\n",
"R2=(Ri2/(round(tanh(Ai)*10^4)/10^4))-(fix(R3*100)/100);\n",
"R1=(Ri1/(round(tanh(Ai)*10^4)/10^4))-R3;\n",
"printf('The desired elements of the attenuator are:\n');\n",
"printf('R1 = %f ohms\n',fix(R1*100)/100);\n",
"printf('R2 = %f ohms\n',fix(R2*100)/100);\n",
"printf('R3 = %f ohms\n',fix(R3*100)/100);\n",
""
   ]
   }
,
{
		   "cell_type": "markdown",
		   "metadata": {},
		   "source": [
			"## Example 16.13: Designing_a_ladder_attenuator.sce"
		   ]
		  },
  {
"cell_type": "code",
	   "execution_count": null,
	   "metadata": {
	    "collapsed": true
	   },
	   "outputs": [],
"source": [
"clear;\n",
"clc;\n",
"Ro=600;D=5;\n",
"N=10^(D/20);\n",
"R1=Ro*(N+1)/(N-1);\n",
"R2=Ro*((N*N)-1)/(2*N);\n",
"printf('The desired ladder attenuator will be:\n');\n",
"printf('R1 = %f ohms\n',round(R1));\n",
"printf('R2 = %f ohms\n',round(R2));\n",
"//the difference in result of R1 is due to erroneous value in textbook.\n",
"disp('The difference in result of R1 is due to erroneous value in textbook')"
   ]
   }
,
{
		   "cell_type": "markdown",
		   "metadata": {},
		   "source": [
			"## Example 16.14: Designing_an_attenuator.sce"
		   ]
		  },
  {
"cell_type": "code",
	   "execution_count": null,
	   "metadata": {
	    "collapsed": true
	   },
	   "outputs": [],
"source": [
"clear;\n",
"clc;\n",
"d=12;Ro=500;\n",
"D=(d-3)/3;\n",
"N=round(10^(D/20)*1000)/1000;\n",
"R1=Ro*(N+1)/(N-1);\n",
"R2=Ro*(round((N*N))-1)/(2*N);\n",
"printf('The desired attenuator will be:\n');\n",
"printf('R1 = %f ohms\n',round(R1));\n",
"printf('R2 = %f ohms\n',round(R2));\n",
"//the difference in result of R1 is due to erroneous value in textbook.\n",
"disp('The difference in result of R1 is due to erroneous value in textbook')"
   ]
   }
,
{
		   "cell_type": "markdown",
		   "metadata": {},
		   "source": [
			"## Example 16.15: Designing_a_balanced_attenuator.sce"
		   ]
		  },
  {
"cell_type": "code",
	   "execution_count": null,
	   "metadata": {
	    "collapsed": true
	   },
	   "outputs": [],
"source": [
"clear;\n",
"clc;\n",
"d1=0;d2=5;d3=10;d4=15;d5=20;Ro=600;\n",
"printf('For 0 db loss:\n');\n",
"printf('  R1 = 0\n  R2 = infinite\n\n');\n",
"n=4;\n",
"for i=1:n\n",
"    N=10^(5*i/20);\n",
"    R2=Ro*(N-1);\n",
"    R1=Ro/(N-1);\n",
"    printf('\n For %d db loss:\n',5*i);\n",
"    printf('  R1=%f\n',round(R1));\n",
"    printf('  R2=%f\n',round(R2));\n",
"end"
   ]
   }
,
{
		   "cell_type": "markdown",
		   "metadata": {},
		   "source": [
			"## Example 16.16: EX16_16.sce"
		   ]
		  },
  {
"cell_type": "code",
	   "execution_count": null,
	   "metadata": {
	    "collapsed": true
	   },
	   "outputs": [],
"source": [
"clear;\n",
"clc;\n",
"Ro=600;R1=240;\n",
"R2=((Ro*Ro)-(4*R1*R1))/(4*R1);\n",
"d=acosh(1+(2*R1/R2));\n",
"printf('Value of shunt resistance = %d ohm\n',R2);\n",
"printf(' Attenuation = %f db',round(d*8.686*10)/10);"
   ]
   }
,
{
		   "cell_type": "markdown",
		   "metadata": {},
		   "source": [
			"## Example 16.17: Designing_a_L_type_attenuator.sce"
		   ]
		  },
  {
"cell_type": "code",
	   "execution_count": null,
	   "metadata": {
	    "collapsed": true
	   },
	   "outputs": [],
"source": [
"clear;\n",
"clc;\n",
"Ri1=500;d=15;\n",
"P=d/8.686;\n",
"N=exp(P);\n",
"R1=Ri1*(1-(1/N));\n",
"R2=Ri1/(N-1);\n",
"printf('The desired attenuator will be:\n');\n",
"printf(' R1 = %f ohms\n',round(R1));\n",
"printf(' R2 = %f ohms\n',round(R2));"
   ]
   }
,
{
		   "cell_type": "markdown",
		   "metadata": {},
		   "source": [
			"## Example 16.18: Designing_a_minimum_loss_pad.sce"
		   ]
		  },
  {
"cell_type": "code",
	   "execution_count": null,
	   "metadata": {
	    "collapsed": true
	   },
	   "outputs": [],
"source": [
"clear;\n",
"clc;\n",
"Ri1=72;Ri2=52;\n",
"R1=Ri1*sqrt(1-(Ri2/Ri1));\n",
"R2=Ri2/sqrt(1-(Ri2/Ri1));\n",
"x=sqrt(Ri1/Ri2);\n",
"L=20*log10(x+(sqrt((x*x)-1)));\n",
"printf('The desired elements will be:\n');\n",
"printf(' R1 = %f ohms\n',round(R1));\n",
"printf(' R2 = %f ohms\n',fix(R2*10)/10);\n",
"printf(' Value of loss produced by the network = %f db',round(L));"
   ]
   }
,
{
		   "cell_type": "markdown",
		   "metadata": {},
		   "source": [
			"## Example 16.1: Designing_a_symmetrical_bridge_T_network.sce"
		   ]
		  },
  {
"cell_type": "code",
	   "execution_count": null,
	   "metadata": {
	    "collapsed": true
	   },
	   "outputs": [],
"source": [
"clear;\n",
"clc;\n",
"D=40;Ro=600;\n",
"N=10^(D/20);\n",
"R3=Ro*(N-1);\n",
"R2=Ro/(N-1);\n",
"R1=Ro;\n",
"printf('R1 = %f ohms\n',R1);\n",
"printf(' R2 = %f ohms\n',round(R2*100)/100);\n",
"printf(' R3 = %f k ohms\n',R3*(10^-3));"
   ]
   }
,
{
		   "cell_type": "markdown",
		   "metadata": {},
		   "source": [
			"## Example 16.2: Designing_a_T_pad_attenuator.sce"
		   ]
		  },
  {
"cell_type": "code",
	   "execution_count": null,
	   "metadata": {
	    "collapsed": true
	   },
	   "outputs": [],
"source": [
"clear;\n",
"clc;\n",
"D=20;Ro=600;\n",
"N=10^(D/20);\n",
"R1=Ro*(N-1)/(N+1);\n",
"R2=Ro*2*N/((N*N)-1);\n",
"printf('R1 = %f ohms\n',round(R1*10)/10);\n",
"printf(' R2 = %f ohms\n',round(R2*10)/10);"
   ]
   }
,
{
		   "cell_type": "markdown",
		   "metadata": {},
		   "source": [
			"## Example 16.3: Designing_a_T_type_attenuator.sce"
		   ]
		  },
  {
"cell_type": "code",
	   "execution_count": null,
	   "metadata": {
	    "collapsed": true
	   },
	   "outputs": [],
"source": [
"clear;\n",
"clc;\n",
"D=20;Ro=75;\n",
"N=10^(D/20);\n",
"R1=Ro*(N-1)/(N+1);\n",
"R2=Ro*2*N/((N*N)-1);\n",
"printf('R1 = %f ohms\n',round(R1*100)/100);\n",
"printf(' R2 = %f ohms\n',round(R2*100)/100);"
   ]
   }
,
{
		   "cell_type": "markdown",
		   "metadata": {},
		   "source": [
			"## Example 16.4: Designing_an_attenuator_and_determining_its_equivalent_T_structure.sce"
		   ]
		  },
  {
"cell_type": "code",
	   "execution_count": null,
	   "metadata": {
	    "collapsed": true
	   },
	   "outputs": [],
"source": [
"clear;\n",
"clc;\n",
"D=20;Ro=500;\n",
"N=10^(D/20);\n",
"R1=Ro*(N-1)/(N+1);\n",
"R2=Ro*(N+1)/(N-1);\n",
"printf('The elements of the attenuator are:\n');\n",
"printf('R1 = %f ohms\n',round(R1*100)/100);\n",
"printf(' R2 = %f ohms\n\n',round(R2*100)/100);\n",
"r1=R1;\n",
"r2=(R2-R1)/2;\n",
"printf('The equivalent T structure of the designed lattice:\n');\n",
"printf(' R1 = %f ohms\n',round(r1*100)/100);\n",
"printf(' R2 = %f ohms\n',round(r2*100)/100);"
   ]
   }
,
{
		   "cell_type": "markdown",
		   "metadata": {},
		   "source": [
			"## Example 16.5: Finding_the_elements_of_the_arm_of_a_T_section_symmetrical_resistive_attenuator.sce"
		   ]
		  },
  {
"cell_type": "code",
	   "execution_count": null,
	   "metadata": {
	    "collapsed": true
	   },
	   "outputs": [],
"source": [
"clear;\n",
"clc;\n",
"D=15;Ro=75;\n",
"N=10^(D/20);\n",
"R1=Ro*(N-1)/(N+1);\n",
"R2=Ro*2*N/((N*N)-1);\n",
"printf('The arms of the T section will contain:\n');\n",
"printf(' R1 = %f ohms\n',round(R1*100)/100);\n",
"printf(' R2 = %f ohms\n',round(R2*100)/100);\n",
"//the difference in result of R1 is due to erroneous value in textbook.\n",
"disp('The difference in result of R1 is due to erroneous value in textbook')"
   ]
   }
,
{
		   "cell_type": "markdown",
		   "metadata": {},
		   "source": [
			"## Example 16.6: Calculating_the_characteristic_and_attenuation_per_section_of_an_attenuator.sce"
		   ]
		  },
  {
"cell_type": "code",
	   "execution_count": null,
	   "metadata": {
	    "collapsed": true
	   },
	   "outputs": [],
"source": [
"clear;\n",
"clc;\n",
"R1=175;R2=350;\n",
"y=poly([1 -3 1],'N','coeff');\n",
"f=roots(y);\n",
"N=f(1,1);\n",
"D=20*log10(N);\n",
"Ro=R1*(N+1)/(N-1);\n",
"printf('The characteristic impedance of T attenuator = %f ohms and its attenuation per section is %f db',round(Ro*10)/10,round(D*100)/100);\n",
""
   ]
   }
,
{
		   "cell_type": "markdown",
		   "metadata": {},
		   "source": [
			"## Example 16.7: Determining_the_resistance_value_of_a_T_type_attenuator_pad.sce"
		   ]
		  },
  {
"cell_type": "code",
	   "execution_count": null,
	   "metadata": {
	    "collapsed": true
	   },
	   "outputs": [],
"source": [
"clear;\n",
"clc;\n",
"D=40;Ri1=70;Ri2=600;\n",
"Ai=D*0.115;\n",
"R3=(sqrt(Ri1*Ri2))/sinh(Ai);\n",
"R2=(Ri2/tanh(Ai))-R3;\n",
"R1=(Ri1/tanh(Ai))-R3;\n",
"printf('The desired elements of T-pad are:\n');\n",
"printf(' R1 = %f ohms\n',round(R1*100)/100);\n",
"printf(' R2 = %f ohms\n',round(R2));\n",
"printf(' R3 = %f ohms\n',round(R3*100)/100);"
   ]
   }
,
{
		   "cell_type": "markdown",
		   "metadata": {},
		   "source": [
			"## Example 16.8: Finding_the_elements_of_a_balanced_T_pad.sce"
		   ]
		  },
  {
"cell_type": "code",
	   "execution_count": null,
	   "metadata": {
	    "collapsed": true
	   },
	   "outputs": [],
"source": [
"clear;\n",
"clc;\n",
"D=10;Ri1=150;Ri2=75;\n",
"Ai=D*0.115;\n",
"R3=(sqrt(Ri1*Ri2))/sinh(Ai);\n",
"R2=(Ri2/tanh(Ai))-R3;\n",
"R1=(Ri1/tanh(Ai))-R3;\n",
"printf('The desired elements of T-pad are:\n');\n",
"printf(' R1 = %f ohms\n',round(R1*100)/100);\n",
"printf(' R2 = %f ohms\n',round(R2*10)/10);\n",
"printf(' R3= %f ohms\n\n',fix(R3*100)/100);\n",
"R2a=sqrt((Ri1*Ri2*Ri2)/(Ri1-Ri2));\n",
"R1a=sqrt(Ri1*(Ri1-Ri2));\n",
"printf('The minimum loss pad will be a L attenuator:\n');\n",
"printf(' R1 = %f ohms\n',round(R1a));\n",
"printf(' R2 = %f ohms\n',round(R2a));"
   ]
   }
,
{
		   "cell_type": "markdown",
		   "metadata": {},
		   "source": [
			"## Example 16.9: Designing_L_type_attenuator.sce"
		   ]
		  },
  {
"cell_type": "code",
	   "execution_count": null,
	   "metadata": {
	    "collapsed": true
	   },
	   "outputs": [],
"source": [
"clear;\n",
"clc;\n",
"Ri1=500;D=15;\n",
"N=10^(D/20);N1=fix(N*1000)/1000;\n",
"R2=Ri1/(N1-1);\n",
"R1=Ri1*(1-(1/N));\n",
"printf('The series arm of the L attenuator is %f ohms,while its shunt arm is %f ohms',round(R1),round(R2));\n",
"//the difference in result of R2 is due to erroneous value in textbook.\n",
"disp('The difference in result of R2 is due to erroneous value in textbook')"
   ]
   }
],
"metadata": {
		  "kernelspec": {
		   "display_name": "Scilab",
		   "language": "scilab",
		   "name": "scilab"
		  },
		  "language_info": {
		   "file_extension": ".sce",
		   "help_links": [
			{
			 "text": "MetaKernel Magics",
			 "url": "https://github.com/calysto/metakernel/blob/master/metakernel/magics/README.md"
			}
		   ],
		   "mimetype": "text/x-octave",
		   "name": "scilab",
		   "version": "0.7.1"
		  }
		 },
		 "nbformat": 4,
		 "nbformat_minor": 0
}
