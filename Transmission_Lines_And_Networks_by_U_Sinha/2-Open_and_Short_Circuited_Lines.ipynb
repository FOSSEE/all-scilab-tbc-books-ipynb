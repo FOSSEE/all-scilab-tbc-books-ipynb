{
"cells": [
 {
		   "cell_type": "markdown",
	   "metadata": {},
	   "source": [
       "# Chapter 2: Open and Short Circuited Lines"
	   ]
	},
{
		   "cell_type": "markdown",
		   "metadata": {},
		   "source": [
			"## Example 2.10: Calculating_Zo_and_a_and_b.sce"
		   ]
		  },
  {
"cell_type": "code",
	   "execution_count": null,
	   "metadata": {
	    "collapsed": true
	   },
	   "outputs": [],
"source": [
"clear;\n",
"clc;\n",
"f=20*(10^6);l=32;Zsc=17+(%i*19.4);Zoc=115-(%i*138);\n",
"Zo=sqrt(Zoc*Zsc);\n",
"X=real(Zo);\n",
"Y=imag(Zo);\n",
"printf('-Characteristic impedance = %f /_ %f ohms\n',round(abs(Zo)),round(atan(Y,X)*180*10/%pi)/10);\n",
"Z1=sqrt(Zsc/Zoc);\n",
"A=real(Z1);\n",
"B=imag(Z1);\n",
"D=(1+A+(%i*B))/(1-(A+(%i*B)));\n",
"r=sqrt(((real(D))^2)+((imag(D))^2));\n",
"theta=atan((imag(D))/(real(D)));\n",
"n=6;\n",
"P=(1/(2*l))*((log(r))+(%i*(theta+(2*n*%pi))));\n",
"b=imag(P);\n",
"a=real(P);\n",
"printf('-Attenuation factor = %f neper/m\n',round(a*10000)/10000);\n",
"printf('-Phase propagation factor = %f radians/m',round(b*100)/100);"
   ]
   }
,
{
		   "cell_type": "markdown",
		   "metadata": {},
		   "source": [
			"## Example 2.11: Calculating_Zo_and_a_and_b.sce"
		   ]
		  },
  {
"cell_type": "code",
	   "execution_count": null,
	   "metadata": {
	    "collapsed": true
	   },
	   "outputs": [],
"source": [
"clear;\n",
"clc;\n",
"f=20*(10^6);Zoc=1390;Zsc=4.61;l=5; \n",
"lo=(3*(10^8))/f; //lo=wavelength\n",
"Zo=sqrt(Zoc*Zsc);\n",
"printf('-Characteristic impedance = %f ohms\n',round(Zo));\n",
"er=(lo/l)^2; //er=relative permittivity of dielectric\n",
"printf('-Relative permittivity of dielectric = %f\n',er);\n",
"P=fix(((atanh(sqrt(Zsc/Zoc)))/l)*10000)/10000;\n",
"a=P*8.686;\n",
"printf('-a = %f db/m\n',fix(a*10000)/10000);\n",
"Vp=(3*(10^8))/(sqrt(er)*10^8);\n",
"printf('-Velocity of propagation = %f * 10^8 m/sec',Vp);\n",
"//the difference in result of attenuation constant  is due to erroneous value in textbook.\n",
"disp('The difference in result of the value of attenuation constant is due to erroneous value in textbook')"
   ]
   }
,
{
		   "cell_type": "markdown",
		   "metadata": {},
		   "source": [
			"## Example 2.1: Calculating_Zo.sce"
		   ]
		  },
  {
"cell_type": "code",
	   "execution_count": null,
	   "metadata": {
	    "collapsed": true
	   },
	   "outputs": [],
"source": [
"clc;\n",
"Zoc=900*exp(%i*(-%pi/(180/30)));Zsc=400*exp(%i*(-%pi/(180/10)));f=1.6*(10^3);\n",
"Zo=sqrt(Zoc*Zsc);\n",
"A=real(Zo);\n",
"B=imag(Zo);\n",
"printf('Zo = %f /_ %f ohms',abs(Zo),atan(B,A)*180/%pi);"
   ]
   }
,
{
		   "cell_type": "markdown",
		   "metadata": {},
		   "source": [
			"## Example 2.2: Calculating_the_line_constants.sce"
		   ]
		  },
  {
"cell_type": "code",
	   "execution_count": null,
	   "metadata": {
	    "collapsed": true
	   },
	   "outputs": [],
"source": [
"clear;\n",
"clc;\n",
"f=796;Zoc=328*exp(%i*(-%pi/(180/29.2)));Zsc=1548*exp(%i*(%pi/(180/6.8)));l=50;\n",
"Zo=sqrt(Zoc*Zsc);\n",
"C=real(Zo);\n",
"D=imag(Zo);\n",
"printf('-Zo = %f /_ %f ohms\n',fix(abs(Zo)),atan(D,C)*180/%pi);\n",
"w=2*%pi*f;\n",
"Z1=sqrt(Zsc/Zoc);\n",
"A=real(Z1);\n",
"B=imag(Z1);\n",
"D=(1+A+(%i*B))/(1-(A+(%i*B)));\n",
"r=abs(D);\n",
"theta=atan((imag(D))/(real(D)))-%pi;\n",
"n=1;\n",
"P=(1/(2*l))*((log(r))+(%i*(theta+(2*n*%pi))));\n",
"E=real(P);\n",
"F=imag(P);\n",
"printf('-P = %f /_ %f\n',round(abs(P)*10000)/10000,round(atan(F,E)*180*100/%pi)/100);\n",
"Z=P*Zo;\n",
"R=real(Z);\n",
"L=(imag(Z))/w;\n",
"printf('-R = %f ohms/km\n',round(R*100)/100);\n",
"printf('-L = %f mH/km\n',round(L*(10^3)*100)/100);\n",
"Y=P/Zo;\n",
"G=real(Y);\n",
"C=(imag(Y))/w;\n",
"printf('-G = %f micro-mhos/km\n',round(G*(10^6)));\n",
"printf('-C = %f microfarads/km',round(C*(10^6)*10000)/10000);"
   ]
   }
,
{
		   "cell_type": "markdown",
		   "metadata": {},
		   "source": [
			"## Example 2.3: Calculating_the_received_current_and_voltage.sce"
		   ]
		  },
  {
"cell_type": "code",
	   "execution_count": null,
	   "metadata": {
	    "collapsed": true
	   },
	   "outputs": [],
"source": [
"clear;\n",
"clc;\n",
"Zo=600;a=0.1;b=0.05;x=10;Is=20*(10^-3);\n",
"Vr=0;\n",
"printf('-Receiving end voltage Vr=0 because the receiving end has been short ciruited\n');\n",
"P=a+(%i*b);\n",
"Ir=Is/(cosh(10*P));\n",
"A=real(Ir);\n",
"B=imag(Ir);\n",
"printf('-Received current is Ir = %f /_ %f mA ',round(abs(Ir)*(10^3)*100)/100,fix(atan(B,A)*180*10/%pi)/10);"
   ]
   }
,
{
		   "cell_type": "markdown",
		   "metadata": {},
		   "source": [
			"## Example 2.4: Determining_Zo_and_a_and_b_and_primary_constants_of_line.sce"
		   ]
		  },
  {
"cell_type": "code",
	   "execution_count": null,
	   "metadata": {
	    "collapsed": true
	   },
	   "outputs": [],
"source": [
"clear;\n",
"clc;\n",
"Zoc=1930*exp(%i*(%pi/(180/68.9)));Zsc=1308*exp(%i*(-%pi/(180/76.2)));l=8;w=5000;\n",
"Zo=sqrt(Zoc*Zsc);\n",
"C=real(Zo);\n",
"D=imag(Zo);\n",
"printf('-Zo = %f /_ %f ohms\n',round(abs(Zo)),round(atan(D,C)*180*100/%pi)/100);\n",
"Z1=sqrt(Zsc/Zoc);\n",
"A=round(real(Z1)*1000)/1000;\n",
"B=round(imag(Z1)*1000)/1000;\n",
"D=(1+A+(%i*B))/(1-(A+(%i*B)));K=round((1+A+(%i*B))*100)/100;J=round((1-(A+(%i*B)))*10)/10;\n",
"phi1=atan(imag(K),real(K))+(%pi/4);\n",
"phi2=atan(imag(J),real(J));\n",
"phi3=phi1-phi2;\n",
"P=(1/(2*8))*(log(round(abs(K/J)*10)/10)+(%i*(round(phi3*10)/10+(6.28))));\n",
"printf(' -a = %f neper/km\n',fix(real(P)*100)/100);\n",
"printf(' -b = %f radians/km\n',fix(imag(P)*1000)/1000);\n",
"Z=P*Zo;\n",
"R=real(Z);\n",
"L=(imag(Z))/w;\n",
"printf(' -R = %f ohms/km\n',round(R*1000)/1000);\n",
"printf(' -L = %f mH/km\n',round(L*(10^6))/1000);\n",
"Y=P/Zo;\n",
"G=real(Y);\n",
"C=(imag(Y))/w;\n",
"printf(' -G = %f micro-mhos/km\n',-round(G*(10^9))/1000);\n",
"printf(' -C = %f microfarads/km',round(C*(10^9))/1000);\n",
"//the difference in result  is due to erroneous value in textbook.\n",
"disp('The difference in result is due to erroneous value in textbook')"
   ]
   }
,
{
		   "cell_type": "markdown",
		   "metadata": {},
		   "source": [
			"## Example 2.5: Calculating_the_line_constants.sce"
		   ]
		  },
  {
"cell_type": "code",
	   "execution_count": null,
	   "metadata": {
	    "collapsed": true
	   },
	   "outputs": [],
"source": [
"clear;\n",
"clc;\n",
"w=5000;Zoc=1300*exp(%i*(%pi/(180/80)));Zsc=3200*exp(%i*(-%pi/(180/80)));l=40;\n",
"Zo=sqrt(Zoc*Zsc);\n",
"Z1=sqrt(Zsc/Zoc);\n",
"A=real(Z1);\n",
"B=imag(Z1);\n",
"D=(1+A+(%i*B))/(1-(A+(%i*B)));K=(1+A+(%i*B));J=(1-(A+(%i*B)));\n",
"r=round(abs(D)*1000)/1000;\n",
"theta=round(atan((imag(D))/(real(D)))*10)/10;\n",
"P=(1/(2*l))*((log(r))+(%i*(theta+6.28)));\n",
"b=imag(P);\n",
"Z=P*Zo;\n",
"R=real(Z);\n",
"L=(imag(Z))/w;\n",
"printf('R = %f ohms\n',fix(R*100)/100);\n",
"printf(' L = %f mH/km\n',round(L*(10^6))/1000);\n",
"Y=P/Zo;\n",
"G=real(Y);\n",
"C=(imag(Y))/w;\n",
"printf(' G = %f micro-mhos/km\n',round(G*(10^8))/100);\n",
"printf(' C = %f micro-farads/km',round(C*(10^9))/1000);\n",
"//the difference in result of L and C is due to erroneous value in textbook.\n",
"disp('The difference in result of L and C is due to erroneous value in textbook')\n",
""
   ]
   }
,
{
		   "cell_type": "markdown",
		   "metadata": {},
		   "source": [
			"## Example 2.6: Calculating_Zo_and_P_and_line_constants.sce"
		   ]
		  },
  {
"cell_type": "code",
	   "execution_count": null,
	   "metadata": {
	    "collapsed": true
	   },
	   "outputs": [],
"source": [
"clear;\n",
"clc;\n",
"Zoc=286*exp(%i*(-%pi/(180/40)));Zsc=1520*exp(%i*(%pi/(180/16)));l=50;f=700;\n",
"w=2*%pi*f;\n",
"Zo=sqrt(Zoc*Zsc);\n",
"S=real(Zo);\n",
"T=imag(Zo);\n",
"printf('-Characteristic impedance of transmission line is Zo = %f /_ %f ohms\n',round(abs(Zo)*100)/100,atan(T,S)*180/%pi);\n",
"A=atanh(sqrt(Zsc/Zoc));\n",
"P=A/l;\n",
"U=real(P);\n",
"V=imag(P);\n",
"printf('-Propagation constant = %f /_ %f\n',fix(abs(P)*1000)/1000,round(atan(V,U)*180*100/%pi)/100)\n",
"Z=P*Zo;\n",
"R=real(Z);\n",
"L=(imag(Z))/w;\n",
"printf('-R = %f ohms/km\n',round(R*100)/100);\n",
"printf('-L = %f mH/km\n',fix(L*(10^3)*100)/100);\n",
"Y=P/Zo;\n",
"G=real(Y);\n",
"C=(imag(Y))/w;\n",
"printf('-G = %f micromhos/km\n',fix(G*(10^6)*100)/100);\n",
"printf('-C = %f microfarads/km',fix(C*(10^6)*10^5)/10^5);\n",
"\n",
""
   ]
   }
,
{
		   "cell_type": "markdown",
		   "metadata": {},
		   "source": [
			"## Example 2.7: Calculating_the_series_impedance_and_shunt_admittance_per_km_of_line.sce"
		   ]
		  },
  {
"cell_type": "code",
	   "execution_count": null,
	   "metadata": {
	    "collapsed": true
	   },
	   "outputs": [],
"source": [
"clear;\n",
"clc;\n",
"Zoc=2500*exp(%i*(-%pi/(180/70)));Zsc=49*exp(%i*(%pi/(180/25)));l=1;\n",
"f=(8000)/(2*%pi);\n",
"w=2*%pi*f;\n",
"Zo=sqrt(Zoc*Zsc);\n",
"A=atanh(sqrt(Zsc/Zoc));\n",
"P=A/l;\n",
"P1=P*l/1000;\n",
"Z=P1*Zo;\n",
"printf('Series impedance of line is Z = %f /_ %f ohms/km\n',round(abs(Z)*1000)/1000,atan(imag(Z),real(Z))*180/%pi);\n",
"Y=P1/Zo;\n",
"printf('Shunt admittance of line is Y = %f /_ %f mhos/km',round(abs(Y)*10^6*10)/10,atan(imag(Y),real(Y))*180/%pi);"
   ]
   }
,
{
		   "cell_type": "markdown",
		   "metadata": {},
		   "source": [
			"## Example 2.8: Calculating_Zo_and_a_and_b.sce"
		   ]
		  },
  {
"cell_type": "code",
	   "execution_count": null,
	   "metadata": {
	    "collapsed": true
	   },
	   "outputs": [],
"source": [
"clear;\n",
"clc;\n",
"Zoc=2000*exp(%i*(-%pi/(180/80)));Zsc=20*exp(%i*(%pi/(180/20)));l=0.5;w=10000;\n",
"//value of length of cable as taken in solution\n",
"Zo=sqrt(Zoc*Zsc);\n",
"C=real(Zo);\n",
"D=imag(Zo);\n",
"printf('-Zo = %f /_ %f ohms\n',abs(Zo),atan(D,C)*180/%pi);\n",
"A=atanh(sqrt(Zsc/Zoc));\n",
"P=A/l;\n",
"a=real(P);\n",
"printf('-a = %f neper/km\n',fix(a*10000)/10000);\n",
"b=imag(P);\n",
"printf('-b = %f henry/km',round(b*10000)/10000);"
   ]
   }
,
{
		   "cell_type": "markdown",
		   "metadata": {},
		   "source": [
			"## Example 2.9: Calculating_output_current_when_far_end_is_short_circuited.sce"
		   ]
		  },
  {
"cell_type": "code",
	   "execution_count": null,
	   "metadata": {
	    "collapsed": true
	   },
	   "outputs": [],
"source": [
"clear;\n",
"clc;\n",
"Vs=1;f=1000;l=150;Zo=692*exp(%i*(-%pi/(180/12)));a=0.0047;b=0.022;Vr=0;\n",
"P=a+(%i*b);\n",
"Ir=1/(Zo*sinh((a*l)+(b*l)));\n",
"C=real(Ir);\n",
"D=imag(Ir);\n",
"printf('Output current(in amperes)= %f /_ %f mA',round(abs(Ir)*10^6)/1000,atan(D,C)*180/%pi);\n",
"//the difference in result  is due to erroneous value in textbook.\n",
"disp('The difference in result is due to erroneous value in textbook')"
   ]
   }
],
"metadata": {
		  "kernelspec": {
		   "display_name": "Scilab",
		   "language": "scilab",
		   "name": "scilab"
		  },
		  "language_info": {
		   "file_extension": ".sce",
		   "help_links": [
			{
			 "text": "MetaKernel Magics",
			 "url": "https://github.com/calysto/metakernel/blob/master/metakernel/magics/README.md"
			}
		   ],
		   "mimetype": "text/x-octave",
		   "name": "scilab",
		   "version": "0.7.1"
		  }
		 },
		 "nbformat": 4,
		 "nbformat_minor": 0
}
