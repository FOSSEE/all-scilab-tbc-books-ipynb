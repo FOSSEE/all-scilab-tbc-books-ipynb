{
"cells": [
 {
		   "cell_type": "markdown",
	   "metadata": {},
	   "source": [
       "# Chapter 6: Ultrahigh Frequency Lines"
	   ]
	},
{
		   "cell_type": "markdown",
		   "metadata": {},
		   "source": [
			"## Example 6.11: Calculating_point_of_attachment_and_length_of_stub.sce"
		   ]
		  },
  {
"cell_type": "code",
	   "execution_count": null,
	   "metadata": {
	    "collapsed": true
	   },
	   "outputs": [],
"source": [
"clear;\n",
"clc;\n",
"ZR=100;Zo=600;f=100*(10^6);\n",
"lo=300/(f*(10^-6)); //lo=wavelength\n",
"Ls=(lo/(2*%pi))*(atan(sqrt(ZR/Zo)));\n",
"printf('-Point of attachment = %f cms\n',round(Ls*(10^2)*10)/10)\n",
"Lt=(lo/(2*%pi))*(%pi+(atan((sqrt(ZR*Zo))/(ZR-Zo))));\n",
"printf('-Length of the short circuited stub = %f cms',round(Lt*(10^2)));"
   ]
   }
,
{
		   "cell_type": "markdown",
		   "metadata": {},
		   "source": [
			"## Example 6.14: Calculating_point_of_attachment_and_length_of_stub.sce"
		   ]
		  },
  {
"cell_type": "code",
	   "execution_count": null,
	   "metadata": {
	    "collapsed": true
	   },
	   "outputs": [],
"source": [
"clear;\n",
"clc;\n",
"f=10^9;K=0.5*exp(%i*(30)/(180/%pi));\n",
"lo=300/(f*(10^-6)); //lo=wavelength\n",
"ampK=abs(K);\n",
"phi=atan(imag(K)/real(K));\n",
"Ls=(lo/(4*%pi))*(phi+%pi-acos(ampK));\n",
"printf('-Position of stub = %f cm\n',Ls*(10^2));\n",
"Lt=(lo/(2*%pi))*(atan(sqrt(1-(ampK*ampK)))/(2*ampK));\n",
"printf('-Length of the stub = %f cm',round(Lt*(10^2)*100)/100);"
   ]
   }
,
{
		   "cell_type": "markdown",
		   "metadata": {},
		   "source": [
			"## Example 6.15: Calculating_point_of_attachment_and_length_of_stub.sce"
		   ]
		  },
  {
"cell_type": "code",
	   "execution_count": null,
	   "metadata": {
	    "collapsed": true
	   },
	   "outputs": [],
"source": [
"clear;\n",
"clc;\n",
"Zo=400;ZR=200-(%i*100);lo=3; //lo=wavelength\n",
"//value os Zo as taken in solution\n",
"K=(ZR-Zo)/(ZR+Zo);\n",
"ampK=abs(K);\n",
"phi=%pi + atan(imag(K)/real(K));\n",
"Ls=(lo/(4*%pi))*(phi+%pi-acos(ampK));\n",
"printf('Shortest distance from the lead to the stub location = %f metres\n',round(Ls*100)/100);\n",
"Lt=(lo/(2*%pi))*(atan(sqrt(1-(ampK*ampK)))/(2*ampK));\n",
"printf('Length of the short circuited stub = %f metres',fix(Lt*10)/10);"
   ]
   }
,
{
		   "cell_type": "markdown",
		   "metadata": {},
		   "source": [
			"## Example 6.17: Calculating_the_dimensions_of_a_quarter_wave_line.sce"
		   ]
		  },
  {
"cell_type": "code",
	   "execution_count": null,
	   "metadata": {
	    "collapsed": true
	   },
	   "outputs": [],
"source": [
"clear;\n",
"clc;\n",
"ZR=300;s=9;d=0.1\n",
"r=d/2;\n",
"Zof=276*log10(s/r);\n",
"Zoq=sqrt(ZR*Zof);\n",
"do=(s*2)/10^(Zoq/276);\n",
"printf('Diameter of wire used = %f cm',fix(do*10)/10);\n",
""
   ]
   }
,
{
		   "cell_type": "markdown",
		   "metadata": {},
		   "source": [
			"## Example 6.18: Designing_a_quarter_wave_transformer.sce"
		   ]
		  },
  {
"cell_type": "code",
	   "execution_count": null,
	   "metadata": {
	    "collapsed": true
	   },
	   "outputs": [],
"source": [
"clear;\n",
"clc;\n",
"Zin=36;Zt=500;f=40;x=0.97\n",
"Zo=sqrt(Zin*Zt);\n",
"A=10^(Zo/276);\n",
"lo=300/f;\n",
"l1=lo*x/4;\n",
"printf('-The characteristic impedance of the transmission line = %f ohms\n',round(Zo));\n",
"printf('-The spacing between the conductors shud be %f times the radius of the conductor\n',round(A));\n",
"printf('-The length of the quarter wavelength transformer must be %f metres',round(l1*100)/100);"
   ]
   }
,
{
		   "cell_type": "markdown",
		   "metadata": {},
		   "source": [
			"## Example 6.19: Designing_a_single_stub_matching_given_system_to_eliminate_standing_wave_ratio.sce"
		   ]
		  },
  {
"cell_type": "code",
	   "execution_count": null,
	   "metadata": {
	    "collapsed": true
	   },
	   "outputs": [],
"source": [
"clear;\n",
"clc;\n",
"f=150;S=4.48;Ymin=6*(10^-2);\n",
"lo=300/(f); //lo=wavelength\n",
"b=(2*%pi)/lo;\n",
"phi=round(((2*b*Ymin)-%pi)*100)/100;\n",
"phi1=-phi;\n",
"ampK=round(((S-1)/(S+1))*10)/10;\n",
"Ls=(lo/(4*%pi))*(phi1+%pi-round(acos(ampK)));\n",
"printf('Point of attachment = %f cm\n',round(Ls*(10^4))/100);\n",
"Lt=(lo/(2*%pi))*(atan(sqrt(1+(ampK*ampK)))/(2*ampK));\n",
"printf('Length of the stub = %f cm',round(Lt*(10^4))/100);\n",
"//the difference in result  is due to erroneous value in textbook.\n",
"disp('The difference in result is due to erroneous value in textbook')"
   ]
   }
,
{
		   "cell_type": "markdown",
		   "metadata": {},
		   "source": [
			"## Example 6.1: Calculating_complex_reflection_coefficient_and_terminal_impedance.sce"
		   ]
		  },
  {
"cell_type": "code",
	   "execution_count": null,
	   "metadata": {
	    "collapsed": true
	   },
	   "outputs": [],
"source": [
"clear;\n",
"clc;\n",
"f=200*(10^6);s=4.48;ymin=6;Zo=300; //s=standing wave ratio\n",
"lo=300/(f*(10^-6)); //where f is in megahertz ,lo=wavelength of wave in air\n",
"b=2*%pi/lo;\n",
"phi=(2*b*ymin*(10^-2))-%pi;\n",
"ampK=(s-1)/(s+1); //ampK=amplitude of the reflection coefficient\n",
"K=ampK*(exp(%i*phi));\n",
"A=real(K);\n",
"B=imag(K);\n",
"printf('-Complex reflection coefficient= %f /_ %f\n',round(abs(K)*1000)/1000,round(atan(B,A)*180/%pi));\n",
"ZR=(Zo*(1+K))/(1-K);\n",
"C=real(ZR);\n",
"D=imag(ZR);\n",
"printf('-Terminating impedance of line = %f /_ %f ohms',abs(ZR),round(atan(D,C)*180*10/%pi)/10);"
   ]
   }
,
{
		   "cell_type": "markdown",
		   "metadata": {},
		   "source": [
			"## Example 6.20: calculating_frequency_and_terminated_impedance.sce"
		   ]
		  },
  {
"cell_type": "code",
	   "execution_count": null,
	   "metadata": {
	    "collapsed": true
	   },
	   "outputs": [],
"source": [
"clear;\n",
"clc;\n",
"s=3.3;Zo=300;l=15;\n",
"ampK=round(((s-1)/(s+1))*100)/100;\n",
"Zr=Zo*(1+ampK)/(1-ampK);\n",
"printf('-Terminated impedance = %f ohms\n',fix(Zr));\n",
"lo=(2*2*%pi*l*(10^-2))/%pi; //lo=wavelength\n",
"f=300/lo;\n",
"printf('-Frequency = %f MHz',f);"
   ]
   }
,
{
		   "cell_type": "markdown",
		   "metadata": {},
		   "source": [
			"## Example 6.21: Calculating_load_and_input_impedance.sce"
		   ]
		  },
  {
"cell_type": "code",
	   "execution_count": null,
	   "metadata": {
	    "collapsed": true
	   },
	   "outputs": [],
"source": [
"clear;\n",
"clc;\n",
"Ymin=18*(10^-2);S=2.5;dmin=20*(10^-2);l=52*(10^-2);Zo=300;\n",
"//dmin=distance betweeen adjacent voltage minimas\n",
"ampK=round(((S-1)/(S+1))*100)/100;\n",
"ZR=fix(Zo*(1+ampK)/(1-ampK));\n",
"printf('Input impedance = %f ohms\n',ZR);\n",
"lo=2*dmin; //lo=wavelength\n",
"b=(2*%pi)/lo;\n",
"phi=(2*b*Ymin)-%pi;\n",
"theta=-fix((phi-(2*b*l)));\n",
"Zm=Zo*(round((1+(ampK*exp(%i*theta)))*100)/100)/(round((1-(ampK*exp(%i*theta)))*100)/100);\n",
"printf('Load impedance = %f + j(%f) ohms',round(real(Zm*100))/100,round(imag(Zm*100))/100);\n",
"//the difference in result  is due to erroneous value in textbook.\n",
"disp('The difference in result is due to erroneous value in textbook')"
   ]
   }
,
{
		   "cell_type": "markdown",
		   "metadata": {},
		   "source": [
			"## Example 6.2: Calculating_value_of_load_impedance.sce"
		   ]
		  },
  {
"cell_type": "code",
	   "execution_count": null,
	   "metadata": {
	    "collapsed": true
	   },
	   "outputs": [],
"source": [
"clear;\n",
"clc;\n",
"Zo=75;s=3;d=1/5;\n",
"B=2*%pi*d; //B=b*ymax where ymax=position of the current maxima which is 1/5th                   wavelength away from the load(here)\n",
"phi=2*B;\n",
"ampK=(s-1)/(s+1); //ampK=amplitude of the reflection coefficient\n",
"K=ampK*(exp(%i*phi));\n",
"ZR=round(((Zo*(1+K))*100)/100)/(round((1-K)*1000)/1000);\n",
"C=real(ZR);\n",
"D=imag(ZR);\n",
"printf('Load impedance = %f /_ %f ohms',round(abs(ZR)*10)/10,round(atan(imag(ZR),real(ZR))*180*100/%pi)/100);\n",
"//the difference in result  is due to erroneous value in textbook.\n",
"disp('The difference in result is due to erroneous value in textbook')"
   ]
   }
,
{
		   "cell_type": "markdown",
		   "metadata": {},
		   "source": [
			"## Example 6.3: Calculating_VSWR_and_position_of_voltage_minimum_nearest_to_load.sce"
		   ]
		  },
  {
"cell_type": "code",
	   "execution_count": null,
	   "metadata": {
	    "collapsed": true
	   },
	   "outputs": [],
"source": [
"clear;\n",
"clc;\n",
"Zo=50;f=300*(10^6);ZR=50+(%i*50);\n",
"lo=300/(f*(10^-6)); //where f is in megahertz ,lo=wavelength of wave in air\n",
"K=(ZR-Zo)/(ZR+Zo);\n",
"ampK=sqrt((real(K)^2)+(imag(K)^2));\n",
"S=(1+ampK)/(1-ampK);\n",
"printf('-VSWR = %f\n',round(S*100)/100);\n",
"phi=atan(imag(K)/real(K));\n",
"ymax=phi*lo/(2*2*%pi);\n",
"ymin=ymax+(lo/4);\n",
"printf('-Position of voltage minimum nearest load = %f metres',round(ymin*10000)/10000);"
   ]
   }
,
{
		   "cell_type": "markdown",
		   "metadata": {},
		   "source": [
			"## Example 6.4: Calculating_standing_wave_ratio.sce"
		   ]
		  },
  {
"cell_type": "code",
	   "execution_count": null,
	   "metadata": {
	    "collapsed": true
	   },
	   "outputs": [],
"source": [
"clear;\n",
"clc;\n",
"Zo=400;ZRa=70,ZRb=800;ZRc=650-(%i*475);\n",
"Ka=(ZRa-Zo)/(ZRa+Zo);\n",
"ampKa=sqrt((real(Ka)^2)+(imag(Ka)^2));\n",
"Sa=(1+ampKa)/(1-ampKa);\n",
"printf('(a)Standing wave ratio = %f\n',round(Sa*100)/100);\n",
"Kb=(ZRb-Zo)/(ZRb+Zo);\n",
"ampKb=sqrt((real(Kb)^2)+(imag(Kb)^2));\n",
"Sb=(1+ampKb)/(1-ampKb);\n",
"printf('(b)Standing wave ratio = %f\n',Sb);\n",
"Kc=(ZRc-Zo)/(ZRc+Zo);\n",
"ampKc=sqrt((real(Kc)^2)+(imag(Kc)^2));\n",
"Sc=(1+ampKc)/(1-ampKc);\n",
"printf('(c)Standing wave ratio = %f',round(Sc*1000)/1000);"
   ]
   }
,
{
		   "cell_type": "markdown",
		   "metadata": {},
		   "source": [
			"## Example 6.5: Calculating_value_of_load_impedance.sce"
		   ]
		  },
  {
"cell_type": "code",
	   "execution_count": null,
	   "metadata": {
	    "collapsed": true
	   },
	   "outputs": [],
"source": [
"clear;\n",
"clc;\n",
"s=2;f=300*(10^6);lo=1;ymin=0.8; //lo=wavelength\n",
"ampK=(s-1)/(s+1);\n",
"b=2*%pi/lo;\n",
"phi=(2*b*ymin)-%pi;\n",
"K=ampK*(exp(%i*phi));\n",
"Zr=(1+K)/(1-K);\n",
"A=real(Zr);\n",
"B=imag(Zr);\n",
"printf('Value of load impedance = %f /_ %f ohms',round(abs(Zr)*10)/10,fix(atan(B,A)*180*100/%pi)/100);\n",
"//the difference in result  is due to erroneous value in textbook.\n",
"disp('The difference in result is due to erroneous value in textbook')"
   ]
   }
],
"metadata": {
		  "kernelspec": {
		   "display_name": "Scilab",
		   "language": "scilab",
		   "name": "scilab"
		  },
		  "language_info": {
		   "file_extension": ".sce",
		   "help_links": [
			{
			 "text": "MetaKernel Magics",
			 "url": "https://github.com/calysto/metakernel/blob/master/metakernel/magics/README.md"
			}
		   ],
		   "mimetype": "text/x-octave",
		   "name": "scilab",
		   "version": "0.7.1"
		  }
		 },
		 "nbformat": 4,
		 "nbformat_minor": 0
}
