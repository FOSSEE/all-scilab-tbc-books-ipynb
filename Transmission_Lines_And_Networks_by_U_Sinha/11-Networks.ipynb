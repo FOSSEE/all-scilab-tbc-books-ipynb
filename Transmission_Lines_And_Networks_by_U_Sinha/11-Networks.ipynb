{
"cells": [
 {
		   "cell_type": "markdown",
	   "metadata": {},
	   "source": [
       "# Chapter 11: Networks"
	   ]
	},
{
		   "cell_type": "markdown",
		   "metadata": {},
		   "source": [
			"## Example 11.10: Designing_a_reactive_T_network.sce"
		   ]
		  },
  {
"cell_type": "code",
	   "execution_count": null,
	   "metadata": {
	    "collapsed": true
	   },
	   "outputs": [],
"source": [
"clear;\n",
"clc; //solved using the value of w used in the solution\n",
"Rl=1000;Xg=250+(%i*200);w=2*(10^6);\n",
"Rg=real(Xg);\n",
"X1=sqrt(Rg*Rl);\n",
"X2=X1;\n",
"X3=X1;\n",
"C3=1/(w*X3);\n",
"printf('-C3 = %d pf\n',C3*(10^12));\n",
"L1=X1/w;\n",
"printf('-L1 = %d micro-henry\n',L1*(10^6));\n",
"L2=X2/w;\n",
"Xc=-%i*imag(Xg);\n",
"X21=X2+(Xc/%i);\n",
"L21=X21/w;\n",
"printf('-L2 = %d micro-henry',L21*(10^6));"
   ]
   }
,
{
		   "cell_type": "markdown",
		   "metadata": {},
		   "source": [
			"## Example 11.11: Determining_the_equivalent_T_network.sce"
		   ]
		  },
  {
"cell_type": "code",
	   "execution_count": null,
	   "metadata": {
	    "collapsed": true
	   },
	   "outputs": [],
"source": [
"clear;\n",
"clc;\n",
"Zin=400+(%i*4000);Zout1=100+(%i*1000);Zout2=38+(%i*380);\n",
"Zoc1=Zin;Zoc2=Zout1;Zsc2=Zout2;\n",
"Z3=sqrt(Zoc1*(Zoc2-Zsc2));\n",
"Z1=Zoc1-Z3;\n",
"Z2=Zoc2-Z3;\n",
"A=real(Z1);\n",
"B=imag(Z1);\n",
"C=real(Z2);\n",
"D=imag(Z2);\n",
"E=real(Z3);\n",
"F=imag(Z3);\n",
"printf('-Z1 = %f + j(%f) ohms\n',round(A*10)/10,round(B*10)/10);\n",
"printf('-Z2 = %f + j(%f) ohms\n',fix(C*10)/10,fix(D));\n",
"printf('-Z3 = %f + j(%f) ohms\n',fix(E*10)/10,fix(F));\n",
"\n",
""
   ]
   }
,
{
		   "cell_type": "markdown",
		   "metadata": {},
		   "source": [
			"## Example 11.12: Finding_the_elements_of_the_arms_of_a_loss_less_T_network.sce"
		   ]
		  },
  {
"cell_type": "code",
	   "execution_count": null,
	   "metadata": {
	    "collapsed": true
	   },
	   "outputs": [],
"source": [
"clear;\n",
"clc;\n",
"w=5*(10^6);Rg=800;Rl=200;b=-12;\n",
"X3=-(sqrt(Rg*Rl))/sin(b*%pi/180);\n",
"L3=X3/w;\n",
"X1=(-Rg/tan(b*%pi/180))+((sqrt(Rg*Rl)/sin(b*%pi/180)));\n",
"L1=X1/w;\n",
"X2=(-Rl/tan(b*%pi/180))+((sqrt(Rg*Rl)/sin(b*%pi/180)));\n",
"C2=-1/(X2*w);\n",
"printf('-L3 = %f micro-henry\n',fix(L3*(10^6)));\n",
"printf('-L1 = %f micro-henry\n',fix(L1*(10^6)));\n",
"printf('-C2 = %f pf',round(C2*(10^12)));"
   ]
   }
,
{
		   "cell_type": "markdown",
		   "metadata": {},
		   "source": [
			"## Example 11.13: Determining_the_image_and_iterative_impedance_and_equivalent_T_network.sce"
		   ]
		  },
  {
"cell_type": "code",
	   "execution_count": null,
	   "metadata": {
	    "collapsed": true
	   },
	   "outputs": [],
"source": [
"clear;\n",
"clc;\n",
"Ya=40*(10^-3);Yb=50*(10^-3);Yc=20*(10^-3);\n",
"Za=1/Ya;Zb=1/Yb;Zc=1/Yc;\n",
"Z1=Zb*Zc/(Za+Zb+Zc);\n",
"Z2=Za*Zc/(Za+Zb+Zc);\n",
"Z3=Zb*Za/(Za+Zb+Zc);\n",
"Zi1=sqrt(((Z3+Z1)/(Z3+Z2))*((Z1*Z2)+(Z2*Z3)+(Z1*Z3)));\n",
"printf('(a)Zi1 = %f ohms\n',round(Zi1));\n",
"Zi2=sqrt(((Z3+Z2)/(Z3+Z1))*((Z1*Z2)+(Z2*Z3)+(Z1*Z3)));\n",
"printf('   Zi2 = %f ohms\n',round(Zi2*100)/100);\n",
"Zt1=(1/2)*((Z1-Z2)+(sqrt(((Z1-Z2)^2)+(4*((Z1*Z2)+(Z2*Z3)+(Z1*Z3))))));\n",
"printf('   Zt1 = %f ohms\n',fix(Zt1*100)/100);\n",
"Zt2=(1/2)*((Z2-Z1)+(sqrt(((Z1-Z2)^2)+(4*((Z1*Z2)+(Z2*Z3)+(Z1*Z3))))));\n",
"printf('   Zt2 = %f ohms\n\n',fix(Zt2*100)/100);\n",
"Zb1=Za*Zb/(Za+Zb);\n",
"Z11=Zb*Zc/(Zb+Zc+Zb1);\n",
"Z21=Zb1*Zc/(Zb+Zc+Zb1);\n",
"Z31=Zb1*Zb/(Zb+Zc+Zb1);\n",
"Zr=Zc+Z21;\n",
"Zs=Z21+Zb;\n",
"Z12=Z31*Zs/(Z31+Zr+Za);\n",
"Z22=Zr*Za/(Z31+Zr+Za);\n",
"Z32=Z31*Za/(Z31+Zr+Za);\n",
"Z121=Z12+Z11;\n",
"printf('  The desired T network will be as:\n');\n",
"printf('  Z1 = %f ohms\n',round(Z121*100)/100);\n",
"printf('  Z2 = %f ohms\n',fix(Z22*10)/10);\n",
"printf('  Z3 = %f ohms\n',round(Z32*10^4)/10^4);\n",
"\n",
"\n",
""
   ]
   }
,
{
		   "cell_type": "markdown",
		   "metadata": {},
		   "source": [
			"## Example 11.14: EX11_14.sce"
		   ]
		  },
  {
"cell_type": "code",
	   "execution_count": null,
	   "metadata": {
	    "collapsed": true
	   },
	   "outputs": [],
"source": [
"clear;\n",
"clc;\n",
"L=20*(10^-3);C=0.064*(10^-6);f=400;\n",
"w=2*%pi*f;\n",
"Z1=round(2*%i*w*L*10)/10;\n",
"Z2=1/(%i*w*C);\n",
"Zo=sqrt((Z1*Z1/4)+(Z1*Z2));\n",
"printf('Characteristic impedance = %f ohms\n',round(Zo*100)/100);\n",
"Pf=(1+(Z1/(2*Z2)));\n",
"printf(' Propagation constant = %f',round(Pf*100)/100);\n",
"//the difference in result  is due to erroneous value in textbook.\n",
"disp('The difference in result is due to erroneous value in textbook')"
   ]
   }
,
{
		   "cell_type": "markdown",
		   "metadata": {},
		   "source": [
			"## Example 11.15: Calculating_characteristic_impedance_and_propagation_function.sce"
		   ]
		  },
  {
"cell_type": "code",
	   "execution_count": null,
	   "metadata": {
	    "collapsed": true
	   },
	   "outputs": [],
"source": [
"clear;\n",
"clc;\n",
"Za=300;Zc=600;R=1000;\n",
"Zi1=sqrt((Za*Za)+(Za*Zc));\n",
"Zi2=Za*Zc/sqrt((Za*Za)+(Za*Zc));\n",
"Zt1=(Za/2)+sqrt((Za*Za/4)+(Za*Zc));\n",
"Zt2=(-Za/2)+sqrt((Za*Za/4)+(Za*Zc));\n",
"printf('The image impedances are:\n ');\n",
"printf('Zi1 = %f ohms\n',round(Zi1*10)/10);\n",
"printf(' Zi2 = %f ohms\n',round(Zi2*10)/10);\n",
"printf(' Zt1 = %f ohms\n',Zt1);\n",
"printf(' Zt2 = %f ohms\n\n',Zt2);\n",
"I=(((R+Zt1+Zt2)*(R+Zt1)/(Zt1))-Zt1)*(1/(R+R));\n",
"Ir=20*log10(round((I*1000))/1000);\n",
"printf(' Insertion loss = %f db',Ir);\n",
"\n",
"\n",
""
   ]
   }
,
{
		   "cell_type": "markdown",
		   "metadata": {},
		   "source": [
			"## Example 11.16: Designing_a_L_matching_loss_less_network.sce"
		   ]
		  },
  {
"cell_type": "code",
	   "execution_count": null,
	   "metadata": {
	    "collapsed": true
	   },
	   "outputs": [],
"source": [
"clear;\n",
"clc;\n",
"Rg=100;Rl=50;f=5*(10^6);\n",
"w=2*%pi*f;\n",
"X21=sqrt(Rl*(Rg-Rl));\n",
"X22=-X21;\n",
"X31=-Rg*sqrt(Rl/(Rg-Rl));\n",
"X32=-X31;\n",
"L2=X21/w;\n",
"printf('(i)X2 is inductive and X3 is capacitive where\n  X2=L2 = %f microhenry\n',round(L2*(10^6)*1000)/1000);\n",
"C2=-1/(w*X31);\n",
"printf('  X3=C3 = %f pf\n',round(C2*(10^12)*10)/10);\n",
"L31=X32/w;\n",
"printf('(ii)X3 is inductive and X2 is capacitive where\n  X3=L3 = %f microhenry\n',round(L31*(10^6)*1000)/1000);\n",
"C21=-1/(w*X22);\n",
"printf('  X2=C2 = %f pf',round(C21*(10^12)));"
   ]
   }
,
{
		   "cell_type": "markdown",
		   "metadata": {},
		   "source": [
			"## Example 11.17: Calculating_different_losses_and_total_insertion_loss.sce"
		   ]
		  },
  {
"cell_type": "code",
	   "execution_count": null,
	   "metadata": {
	    "collapsed": true
	   },
	   "outputs": [],
"source": [
"clear;\n",
"clc;\n",
"Zl=100;Zsh=500;Zg=300;\n",
"Zoc=Zl+Zsh;\n",
"Zsc=Zl+(1/((1/Zl)+(1/Zsh)));\n",
"Zi1=sqrt(Zoc*Zsc);\n",
"Zi2=Zi1;\n",
"theta=atanh(sqrt(Zsc/Zoc));\n",
"att=theta*8.686;\n",
"printf('-Attenuation loss = %f db\n',round(att*10)/10);\n",
"inp=20*log10(round((Zi1+Zg))/(2*sqrt(Zi1*Zg)));\n",
"printf('-Loss due to mismatch at the input = %f db\n',round(inp*100)/100);\n",
"out=20*log10((Zi2+Zl)/(2*(sqrt(Zi2*Zl))));\n",
"printf('-Loss due to mismatch at output = %f db\n',round(out*100)/100);\n",
"Ki1=(Zi1-Zg)/(Zi1+Zg);\n",
"Ki2=(Zi2-Zl)/(Zi2+Zl);\n",
"inte=-20*log10(1-(Ki1*Ki2*exp(-2*theta)));\n",
"printf('-Loss due to interaction = %f db\n',fix(inte*100)/100);\n",
"ext=20*log10((Zg+Zl)/(2*sqrt(Zg*Zl)));\n",
"printf('-External reflection loss = %f db\n',round(ext*100)/100);\n",
"tot=att+inp+out-inte-ext;\n",
"printf('-Total insertion loss = %f db\n',fix(tot*100)/100);\n",
""
   ]
   }
,
{
		   "cell_type": "markdown",
		   "metadata": {},
		   "source": [
			"## Example 11.18: Calculating_the_elements_of_a_L_section_network.sce"
		   ]
		  },
  {
"cell_type": "code",
	   "execution_count": null,
	   "metadata": {
	    "collapsed": true
	   },
	   "outputs": [],
"source": [
"clear;\n",
"clc;\n",
"Rg=8000;Zl=500+(%i*500);f=5*(10^6);\n",
"//value of f as taken in solution\n",
"w=2*%pi*f;\n",
"Xc=-%i*imag(Zl);\n",
"Rl=real(Zl);\n",
"X21=sqrt(Rl*(Rg-Rl));\n",
"X22=-X21;\n",
"X31=-Rg*sqrt(Rg/(Rg-Rl));\n",
"X32=-X31;\n",
"X2a=X21+(Xc/%i);\n",
"L2a=X2a/w;\n",
"C3a=-1/(w*X31);\n",
"printf('(a)X2 is inductive and X3 is capacitive where\n   X2=L2 = %f mH\n',round(L2a*(10^3)*1000)/1000);\n",
"printf('   X3=C3 = %f pf\n',round(C3a*(10^12)*1000)/1000);\n",
"X2b=X22+(Xc/%i);\n",
"C2b=-1/(w*X2b);\n",
"L3b=X32/w;\n",
"printf('(b)X2 is capacitive and X3 is inductive where\n   X2=C2 = %f pf\n',round(C2b*(10^12)*100)/100);\n",
"printf('   X3=L3 = %f mH',round(L3b*(10^3)*1000)/1000);"
   ]
   }
,
{
		   "cell_type": "markdown",
		   "metadata": {},
		   "source": [
			"## Example 11.19: Calculating_image_impedance_and_transfer_constant.sce"
		   ]
		  },
  {
"cell_type": "code",
	   "execution_count": null,
	   "metadata": {
	    "collapsed": true
	   },
	   "outputs": [],
"source": [
"clear;\n",
"clc;\n",
"Zoc1=-%i*400;Zoc2=-%i*600;Zsc1=%i*267;Zsc2=%i*400;\n",
"A=Zoc1/Zsc1;\n",
"B=Zoc2/Zsc2;\n",
"printf('(a)Since Zoc1/Zsc1 = Zoc2/Zsc2 = %f the results are consistant\n',round(A*10)/10);\n",
"Zi1=sqrt(Zoc1*Zsc1);\n",
"Zi2=sqrt(Zoc2*Zsc2);\n",
"printf('The image impedances are:\n Zi1 = %f ohms\n Zi2 = %f ohms\n',round(Zi1*10)/10,round(Zi2*10)/10);\n",
"C=(1+sqrt(B))/(1-sqrt(B));\n",
"phi=round(atan(imag(C),real(C))*180*10/%pi)/10;\n",
"theta=round(%i*phi*%pi*1000/(2*180))/1000;\n",
"printf('Image transfer constant = j %f',theta/%i);"
   ]
   }
,
{
		   "cell_type": "markdown",
		   "metadata": {},
		   "source": [
			"## Example 11.1: Calculating_image_and_iterative_impedance.sce"
		   ]
		  },
  {
"cell_type": "code",
	   "execution_count": null,
	   "metadata": {
	    "collapsed": true
	   },
	   "outputs": [],
"source": [
"clear;\n",
"clc;\n",
"Za=200;\n",
"Zb=400;\n",
"Zc=500;\n",
"Zi1=sqrt((Za+Zc)*((Za*Zc)+(Za*Zb)+(Zc*Zb))/(Zb+Zc));\n",
"printf('(a)Image impedance Zi1 = %f ohms\n',round(Zi1*10)/10);\n",
"Zi2=sqrt((Zb+Zc)*((Za*Zc)+(Za*Zb)+(Zc*Zb))/(Za+Zc));\n",
"printf('  Image impedance Zi2 = %f ohms\n',round(Zi2));\n",
"Zt1=(1/2)*((Za-Zb)+sqrt(((Za-Zb)^2)+(4*((Za*Zb)+(Za*Zc)+(Zb*Zc)))));\n",
"printf('(b)Iterative impedances Zt1 = %f ohms\n',round(Zt1*10)/10);\n",
"Zt2=(1/2)*((Zb-Za)+sqrt(((Zb-Za)^2)+(4*((Za*Zb)+(Za*Zc)+(Zb*Zc)))));\n",
"printf('  Iterative impedances Zt2 = %f ohms',round(Zt2*10)/10);"
   ]
   }
,
{
		   "cell_type": "markdown",
		   "metadata": {},
		   "source": [
			"## Example 11.20: Calculating_reduction_in_power.sce"
		   ]
		  },
  {
"cell_type": "code",
	   "execution_count": null,
	   "metadata": {
	    "collapsed": true
	   },
	   "outputs": [],
"source": [
"clear;\n",
"clc;\n",
"Zg=300;Zi=400;Zi1=600;theta=10;\n",
"thetai=theta/8.686;\n",
"Zi2=Zi1;\n",
"Ir=thetai + log(((Zi1+Zg)/(2*sqrt(Zi1*Zg)))*((Zi1+Zi)/(2*sqrt(Zi1*Zi)))*((Zi+Zg)/(2*sqrt(Zi*Zg)))*((1-(((Zg-Zi1)/(Zg+Zi1))*((Zi-Zi1)/(Zi+Zi1))*exp(-2*thetai)))));\n",
"Ir1=(round(Ir*10)/10)*8.686;\n",
"printf('The reduction in power will be = %f db',round(Ir1*100)/100);"
   ]
   }
,
{
		   "cell_type": "markdown",
		   "metadata": {},
		   "source": [
			"## Example 11.21: EX11_21.sce"
		   ]
		  },
  {
"cell_type": "code",
	   "execution_count": null,
	   "metadata": {
	    "collapsed": true
	   },
	   "outputs": [],
"source": [
"clear;\n",
"clc;\n",
"R1=200;L1=100*(10^-3);R2=200;L2=100*(10^-3);C2=2.5*(10^-6);w=2000;\n",
"Z1=R1+(%i*w*L1);\n",
"Z2=1/(%i*w*C2);\n",
"Zoc=Z1+Z2;\n",
"Zsc=Z1+(1/((1/Z1)+(1/Z2)));\n",
"Zo=sqrt(Zoc*Zsc);\n",
"printf('-Characteristic impedance = %f ohms\n',round(Zo));\n",
"P=atanh(sqrt(Zsc/Zoc));\n",
"a=real(P);\n",
"printf('-Attenuation constant = %f nepers\n',round(a*100)/100);\n",
"b=(imag(P))*180/%pi;\n",
"printf('-Phase shift constant = %d degrees',b);"
   ]
   }
,
{
		   "cell_type": "markdown",
		   "metadata": {},
		   "source": [
			"## Example 11.22: Calculating_image_impedance_and_propagation_constant_and_elements_of_T_network.sce"
		   ]
		  },
  {
"cell_type": "code",
	   "execution_count": null,
	   "metadata": {
	    "collapsed": true
	   },
	   "outputs": [],
"source": [
"clear;\n",
"clc;\n",
"Z1o=1260*(exp(%i*30/(180/(%pi))));Z2o=2430*(exp(-%i*34/(180/(%pi))));\n",
"Z1s=318*(exp(%i*72/(180/(%pi))));Z2s=613*(exp(%i*8/(180/(%pi))));\n",
"Zi1=sqrt(Z1o*Z1s);\n",
"A=real(Zi1);\n",
"B=imag(Zi1);\n",
"printf('(i)Image impedance Zi1 = %f /_ %f ohms\n',round(abs(Zi1)),atan(B,A)*180/%pi);\n",
"Zi2=sqrt(Z2o*Z2s);\n",
"C=real(Zi2);\n",
"D=imag(Zi2);\n",
"printf('  Image impedance Zi2 = %f /_ %f ohms\n',round(abs(Zi2)),atan(D,C)*180/%pi);\n",
"Z3=sqrt(Z2o*(round(Z1o)-round(Z1s)));\n",
"Z1=Z1o-Z3;\n",
"Z2=Z2o-Z3;\n",
"\n",
"P=atanh(sqrt(Z1s/Z1o));\n",
"printf(' (ii)Propagation constant = %f /_ %f\n',round(abs(P*100))/100,round(atan(imag(P),real(P))*100)/100);\n",
"printf(' (iii)The elements of the T network are:\n');\n",
"printf('     Z1 = %f + j(%f) ohms\n',round(real(Z1)),round(imag(Z1)));\n",
"printf('     Z2 = %f + j(%f) ohms\n',round(real(Z2)),round(imag(Z2)));\n",
"printf('     Z3 = %f + j(%f) ohms',round(real(Z3)),round(imag(Z3)));\n",
""
   ]
   }
,
{
		   "cell_type": "markdown",
		   "metadata": {},
		   "source": [
			"## Example 11.2: Calculating_iterative_impedance.sce"
		   ]
		  },
  {
"cell_type": "code",
	   "execution_count": null,
	   "metadata": {
	    "collapsed": true
	   },
	   "outputs": [],
"source": [
"clear;\n",
"clc;\n",
"Za=%i*200;Zc=-%i*500;\n",
"Zt1=(Za/2)+(sqrt((Za*Za/4)+(Za*Zc)));\n",
"A=real(Zt1);\n",
"B=imag(Zt1);\n",
"printf('Iterative impedances Zt1 = %d + j(%d) ohms\n ',A,B);\n",
"Zt2=(-Za/2)+(sqrt((Za*Za/4)+(Za*Zc)));\n",
"C=real(Zt2);\n",
"D=imag(Zt2);\n",
"printf('Iterative impedances Zt2 = %d + j(%d) ohms',C,D);"
   ]
   }
,
{
		   "cell_type": "markdown",
		   "metadata": {},
		   "source": [
			"## Example 11.3: Calculating_iterative_and_image_impedance.sce"
		   ]
		  },
  {
"cell_type": "code",
	   "execution_count": null,
	   "metadata": {
	    "collapsed": true
	   },
	   "outputs": [],
"source": [
"clear;\n",
"clc;\n",
"Z1=30+(%i*7.5);Z2=50+(%i*10);Z3=-%i*3229;\n",
"Za=Z1;Zb=Z2;Zc=Z3;\n",
"a=Za+Zc;\n",
"b=Zb+Zc;\n",
"s=(Za*Zb)+(Zb*Zc)+(Zc*Za);\n",
"Zi1=sqrt(a*s/b);\n",
"printf('Image impedances Zi1 = %f /_ %f ohms\n',round(abs(Zi1)*10)/10,round(atan(imag(Zi1),real(Zi1))*180*100/%pi)/100);\n",
"Zi2=sqrt(b*s/a);\n",
"printf(' Image impedances Zi1 = %f /_ %f ohms\n',round(abs(Zi2)*10)/10,round(atan(imag(Zi2),real(Zi2))*180*100/%pi)/100);\n",
"Zt1=(1/2)*((Za-Zb)+sqrt(((Za-Zb)^2)+(4*s)));\n",
"printf(' Iterative impedances Zt1 = %f + j(%f) ohms\n',round(real(Zt1)*100)/100,round(imag(Zt1)*100)/100);\n",
"Zt2=(1/2)*((Zb-Za)+sqrt(((Za-Zb)^2)+(4*s)));\n",
"printf(' Iterative impedances Zt1 = %f + j(%f) ohms\n',round(real(Zt2)*100)/100,round(imag(Zt2)*100)/100);\n",
"//the difference in result  is due to erroneous value in textbook.\n",
"disp('The difference in result is due to erroneous value in textbook')"
   ]
   }
,
{
		   "cell_type": "markdown",
		   "metadata": {},
		   "source": [
			"## Example 11.4: Calculating_image_and_iterative_impedances_and_transfer_constants.sce"
		   ]
		  },
  {
"cell_type": "code",
	   "execution_count": null,
	   "metadata": {
	    "collapsed": true
	   },
	   "outputs": [],
"source": [
"clear;\n",
"clc;\n",
"Za=%i*300;Zc=-%i*700;\n",
"Zoc1=Za+Zc;\n",
"Zsc1=Za;\n",
"Zoc2=Zc;\n",
"Zsc2=(Za*Zc)/(Za+Zc);\n",
"Zi1=sqrt(Zoc1*Zsc1);\n",
"printf('-Image impedance Zi1 = %f ohms\n',round(Zi1));\n",
"Zi2=sqrt(Zoc2*Zsc2);\n",
"printf('-Image impedance Zi2(in ohms)= %f ohms\n',round(Zi2));\n",
"Zt1=(Za/2)+(sqrt((Za*Za/4)+(Za*Zc)));\n",
"A=real(Zt1)\n",
"B=imag(Zt1);\n",
"printf('-Iterative impedance Zt1 = %f + j(%f) ohms\n',round(A),B);\n",
"Zt2=(-Za/2)+(sqrt((Za*Za/4)+(Za*Zc)));\n",
"C=real(Zt2);\n",
"D=imag(Zt2);\n",
"printf('-Iterative impedance Zt2 = %f + j(%f) ohms\n',round(C),D);\n",
"I=(1+(sqrt(Zsc1/Zoc1)))/(1-(sqrt(Zsc1/Zoc1)));\n",
"Qi=(log(I))/2;\n",
"E=real(Qi);\n",
"F=imag(Qi);\n",
"printf('-Image transfer constant = %f + j(%f)\n',E,round(F*1000)/1000);\n",
"I1=(Zt1+Zc);\n",
"I2=Zc;\n",
"Q2=log(I1/I2);\n",
"G=real(Q2);\n",
"H=imag(Q2);\n",
"printf('-Iterative transfer constant = %f +j(%f)',G,round(H*180*10/%pi)/10);"
   ]
   }
,
{
		   "cell_type": "markdown",
		   "metadata": {},
		   "source": [
			"## Example 11.5: Computing_the_insertion_ratio_and_loss.sce"
		   ]
		  },
  {
"cell_type": "code",
	   "execution_count": null,
	   "metadata": {
	    "collapsed": true
	   },
	   "outputs": [],
"source": [
"clear;\n",
"clc;\n",
"Zg=100;Zl=500;b=63.4;a=0;\n",
"theta=a+(%i*b);\n",
"Fr=2*(sqrt(Zg*Zl))/(Zg+Zl);\n",
"IR=Fr*exp(theta);\n",
"A=real(IR);\n",
"B=imag(IR);\n",
"printf('-Insertion ratio = %f /_ %f\n',fix(abs(IR)*100)/100,theta/%i);\n",
"IL=-20*log10(Fr);\n",
"printf('-Insertion loss = %f db',round(IL*10)/10);"
   ]
   }
,
{
		   "cell_type": "markdown",
		   "metadata": {},
		   "source": [
			"## Example 11.6: Determining_the_components_of_a_symmetrical_T_section_network.sce"
		   ]
		  },
  {
"cell_type": "code",
	   "execution_count": null,
	   "metadata": {
	    "collapsed": true
	   },
	   "outputs": [],
"source": [
"clear;\n",
"clc;\n",
"Zoc=800;Zsc=600;\n",
"R2=sqrt((Zoc*Zoc)-(Zsc*Zoc));\n",
"R1=2*(Zoc-R2);\n",
"printf('The components of the network are:\n');\n",
"printf('  R1/2 = %d ohms\n',R1/2);\n",
"printf('  R2 = %d ohms',R2);"
   ]
   }
,
{
		   "cell_type": "markdown",
		   "metadata": {},
		   "source": [
			"## Example 11.7: Calculating_current.sce"
		   ]
		  },
  {
"cell_type": "code",
	   "execution_count": null,
	   "metadata": {
	    "collapsed": true
	   },
	   "outputs": [],
"source": [
"clear;\n",
"clc;\n",
"Z1=20;Z2=10;Vrms=10;\n",
"Zot=sqrt(((Z1*Z1)/4)+(Z1*Z2));\n",
"I=Vrms/Zot;\n",
"a=[30 27.32;1 -3.732];\n",
"b=[0.577;0];\n",
"b=inv(a)*b;\n",
"printf('Current flowing through the terminating impedance = %f mA',round(b(2,1)*(10^4)*100)/100);"
   ]
   }
,
{
		   "cell_type": "markdown",
		   "metadata": {},
		   "source": [
			"## Example 11.8: Calculating_characteristic_impedance.sce"
		   ]
		  },
  {
"cell_type": "code",
	   "execution_count": null,
	   "metadata": {
	    "collapsed": true
	   },
	   "outputs": [],
"source": [
"clear;\n",
"clc;\n",
"Z1=50+(%i*125);Z2=200-(%i*100);\n",
"Zot=sqrt((Z1/4)*(Z1+(4*Z2)));\n",
"A=real(Zot);\n",
"B=imag(Zot);\n",
"printf('Characteristic impedance = %f + j(%f) ohms',round(A),round(B*100)/100);"
   ]
   }
,
{
		   "cell_type": "markdown",
		   "metadata": {},
		   "source": [
			"## Example 11.9: Designing_a_L_section.sce"
		   ]
		  },
  {
"cell_type": "code",
	   "execution_count": null,
	   "metadata": {
	    "collapsed": true
	   },
	   "outputs": [],
"source": [
"clear;\n",
"clc;\n",
"Zl=20+(-%i*5);w=5*(10^6);Rg=600;\n",
"Rl=real(Zl);\n",
"Xc=-%i*imag(Zl);\n",
"A=imag(Xc);\n",
"printf('Compensating reactance = j(%d) ohms\n ',A);\n",
"X21=-sqrt(Rl*(Rg-Rl));\n",
"X22=-X21;\n",
"X31=-Rg*sqrt(Rl/(Rg-Rl));\n",
"X32=-X31;\n",
"X2a=X22+(Xc/%i);\n",
"L2=X2a/w;\n",
"C3=-1/(w*X31);\n",
"printf('(a)In the first case X2 is inductive, X2=L2 = %f micro-henry\n',round(L2*(10^6)*100)/100);\n",
"printf('\t\t\t\t\tX3=C3 = %f pf\n',round(C3*(10^12)));\n",
"X2b=X21+(Xc/%i);\n",
"C2=-1/(w*X2b);\n",
"L3=X32/w;\n",
"printf('(b)In the second case X2 is capacitive,X2=C2 = %f pf\n',round(C2*(10^12)));\n",
"printf('\t\t\t\t\tX3=L3 = %f micro-henry',round(L3*(10^6)*10)/10);"
   ]
   }
],
"metadata": {
		  "kernelspec": {
		   "display_name": "Scilab",
		   "language": "scilab",
		   "name": "scilab"
		  },
		  "language_info": {
		   "file_extension": ".sce",
		   "help_links": [
			{
			 "text": "MetaKernel Magics",
			 "url": "https://github.com/calysto/metakernel/blob/master/metakernel/magics/README.md"
			}
		   ],
		   "mimetype": "text/x-octave",
		   "name": "scilab",
		   "version": "0.7.1"
		  }
		 },
		 "nbformat": 4,
		 "nbformat_minor": 0
}
