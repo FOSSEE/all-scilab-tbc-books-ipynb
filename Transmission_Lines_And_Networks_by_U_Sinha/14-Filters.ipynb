{
"cells": [
 {
		   "cell_type": "markdown",
	   "metadata": {},
	   "source": [
       "# Chapter 14: Filters"
	   ]
	},
{
		   "cell_type": "markdown",
		   "metadata": {},
		   "source": [
			"## Example 14.10: Designing_a_high_pass_composite_filter.sce"
		   ]
		  },
  {
"cell_type": "code",
	   "execution_count": null,
	   "metadata": {
	    "collapsed": true
	   },
	   "outputs": [],
"source": [
"clear;\n",
"clc;\n",
"fc=1.2*(10^3);fi=1.1*(10^3);Rk=600; //fi=frequency at which infinite attenuation occrus\n",
"L0=Rk/(4*%pi*fc);\n",
"C0=1/(4*%pi*fc*Rk);\n",
"printf('The elements of the constant-K H.P. are:\n');\n",
"printf('  L = %f mH\n',fix(L0*(10^3)*100)/100);\n",
"printf('  C = %f microfarads\n\n',fix(C0*(10^6)*100)/100);\n",
"m1=round(sqrt(1-((fi/fc)^2))*10)/10;\n",
"C1=2*C0/m1;\n",
"L1=L0/m1;\n",
"C2=4*m1*C0/(1-(m1*m1));\n",
"printf('The elements of the m-derived H.P.T. filter are:\n');\n",
"printf('  2C/m = %f microfarads\n',fix(C1*(10^6)*100)/100);\n",
"printf('  L/m = %f mH\n',round(L1*(10^3)*10)/10);\n",
"printf('  4mC/(1-m^2) = %f microfarads\n\n',fix(C2*(10^6)*100)/100);\n",
"m2=0.6;\n",
"C3=2*C0/m2;\n",
"L2=L0/m2;\n",
"C4=4*m2*C0/(1-(m2*m2));\n",
"printf('The elements of the terminating half section m-derived H.P.T. filter are:\n');\n",
"printf('  2C/m = %f microfarads\n',round(C3*(10^6)*100)/100);\n",
"printf('  L/m = %f mH\n',round(L2*(10^3)*100)/100);\n",
"printf('  4mC/(1-m^2) = %f microfarads\n\n',round(C4*(10^6)*100)/100);\n",
"printf('The complete composite filter is constructed by using the  constant-K in cascade with the sharp-cut off m-derived section and terminating half section');"
   ]
   }
,
{
		   "cell_type": "markdown",
		   "metadata": {},
		   "source": [
			"## Example 14.11: Designing_a_high_pass_filter_and_finding_the_frequency_of_peak_attenuation.sce"
		   ]
		  },
  {
"cell_type": "code",
	   "execution_count": null,
	   "metadata": {
	    "collapsed": true
	   },
	   "outputs": [],
"source": [
"clear;\n",
"clc;\n",
"fc=1*(10^6);Rk=75;m=0.6;\n",
"L0=Rk/(4*%pi*fc);\n",
"C0=1/(4*%pi*fc*Rk);\n",
"printf('The elements of the prototype T-section H.P. are:\n');\n",
"printf('  L = %f mH\n',round(L0*(10^3)*1000)/1000);\n",
"printf('  C = %f picofarads\n\n',round(C0*(10^12)));\n",
"C1=2*C0/m;\n",
"L1=L0/m;\n",
"C2=4*m*C0/(1-(m*m));\n",
"printf(' The elements of the terminating half section m-derived H.P.T. filter are:\n');\n",
"printf('  2C/m = %f picofarads\n',fix(C1*(10^12)));\n",
"printf('  L/m = %f mH\n',round(L1*(10^6))/1000);\n",
"printf('  Cshunt = %f picofarads\n\n',round(C2*(10^12)));\n",
"fi=fc*sqrt(1-(m*m));\n",
"printf(' Frequency of peak attenuation = %d kHz',fi*(10^-3));"
   ]
   }
,
{
		   "cell_type": "markdown",
		   "metadata": {},
		   "source": [
			"## Example 14.12: Designing_a_low_pass_composite_filter.sce"
		   ]
		  },
  {
"cell_type": "code",
	   "execution_count": null,
	   "metadata": {
	    "collapsed": true
	   },
	   "outputs": [],
"source": [
"clear;\n",
"clc;\n",
"Rk=500;fc=1000;fi1=1065;fi2=1250;\n",
"L0=Rk/(%pi*fc);\n",
"C0=1/(%pi*fc*Rk);\n",
"printf('The elements of the constant-K L.P. are:\n');\n",
"printf('  L = %f mH\n',round(L0*(10^3)));\n",
"printf('  C = %f microfarads\n\n',round(C0*(10^6)*100)/100);\n",
"m1=0.4\n",
"L1=m1*L0/2;\n",
"L2=(1-(m1*m1))*L0/(4*m1);\n",
"C1=m1*C0;\n",
"printf('The elements of the m-derived L.P.T. filter are:\n');\n",
"printf('  mL/2 = %f mH\n',round(L1*(10^3)*10)/10);\n",
"printf(' mC = %f microfarads\n',round(C1*(10^6)*1000)/1000);\n",
"printf('  (1-m^2)L/4m = %f mH\n\n',fix(L2*(10^3)*10)/10);\n",
"m2=sqrt(1-((fc/fi2)^2));\n",
"L3=m2*L0/2;\n",
"L4=(1-(m2*m2))*L0/(4*m2);\n",
"C2=m2*C0;\n",
"printf('The elements of the terminating half sections m-derived L.P.T. filter are:\n');\n",
"printf('  mL/2 = %f mH\n',fix(L3*(10^3)*10)/10);\n",
"printf('  C = %f microfarads\n',round(C2*(10^6)*1000)/1000);\n",
"printf('  Lshunt = %f mH\n\n',fix(L4*(10^3)*10)/10);\n",
"printf('The complete composite filter is constructed by using the  constant-K in cascade with the short-cut of m-derived section and terminating half section');"
   ]
   }
,
{
		   "cell_type": "markdown",
		   "metadata": {},
		   "source": [
			"## Example 14.13: Designing_a_prototype_band_pass_filter.sce"
		   ]
		  },
  {
"cell_type": "code",
	   "execution_count": null,
	   "metadata": {
	    "collapsed": true
	   },
	   "outputs": [],
"source": [
"clear;\n",
"clc;\n",
"f1=1000;f2=4000;Rk=600;\n",
"C1=(f2-f1)/(4*%pi*Rk*f1*f2);\n",
"L1=Rk/(%pi*(f2-f1));\n",
"C2=1/(%pi*Rk*(f2-f1));\n",
"L2=Rk*(f2-f1)/(4*%pi*f1*f2);\n",
"printf('The elements of the prototype band pass filter are:\n');\n",
"printf('  L1 = %f mH\n',fix(L1*(10^5))/100);\n",
"printf('  C1 = %f microfarads\n',round(C1*(10^11))/10^5);\n",
"printf('  L2 = %f mH\n',round(L2*(10^4))/10);\n",
"printf('  C2 = %f microfarads',round(C2*(10^10))/10^4);"
   ]
   }
,
{
		   "cell_type": "markdown",
		   "metadata": {},
		   "source": [
			"## Example 14.14: Designing_a_prototype_T_section_of_a_band_pass_filter.sce"
		   ]
		  },
  {
"cell_type": "code",
	   "execution_count": null,
	   "metadata": {
	    "collapsed": true
	   },
	   "outputs": [],
"source": [
"clear;\n",
"clc;\n",
"f1=12000;f2=16000;Rk=600;\n",
"C1=(f2-f1)/(4*%pi*Rk*f1*f2);\n",
"L1=Rk/(%pi*(f2-f1));\n",
"C2=1/(%pi*Rk*(f2-f1));\n",
"L2=Rk*(f2-f1)/(4*%pi*f1*f2);\n",
"printf('The elements of the prototype band pass filter are:\n');\n",
"printf('  L1 = %f mH\n',round(L1*(10^5))/100);\n",
"printf('  C1 = %f picofarads\n',round(C1*(10^12)));\n",
"printf('  L2 = %f mH\n',L2*(10^3));\n",
"printf('  C2 = %f microfarads',C2*(10^6));\n",
"//the difference in result of L2 and C2 is due to erroneous value in textbook.\n",
"disp('The difference in result of C2 and L2 is due to erroneous value in textbook')"
   ]
   }
,
{
		   "cell_type": "markdown",
		   "metadata": {},
		   "source": [
			"## Example 14.15: Designing_a_m_derived_low_pass_filter.sce"
		   ]
		  },
  {
"cell_type": "code",
	   "execution_count": null,
	   "metadata": {
	    "collapsed": true
	   },
	   "outputs": [],
"source": [
"clear;\n",
"clc;\n",
"fc=5000;fi=1.25*fc;Rk=600; //fi=frequency at which infinite attenuation occus\n",
"L0=Rk/(%pi*fc);\n",
"C0=1/(%pi*fc*Rk);\n",
"m=sqrt(1-((fc/fi)^2));\n",
"L1=m*L0/2;\n",
"L2=(1-(m*m))*L0/(4*m);\n",
"C1=m*C0;\n",
"printf('The elements of the m-derived L.P.T. filter are:\n');\n",
"printf('  mL/2 = %f mH\n',round(L1*(10^5))/100);\n",
"printf('  mC = %f microfarads\n',fix(C1*(10^10))/10^4);\n",
"printf('  (1-m^2)L/4m = %f mH',round(L2*(10^4))/10);"
   ]
   }
,
{
		   "cell_type": "markdown",
		   "metadata": {},
		   "source": [
			"## Example 14.16: Determining_the_values_of_shun_arm_of_network.sce"
		   ]
		  },
  {
"cell_type": "code",
	   "execution_count": null,
	   "metadata": {
	    "collapsed": true
	   },
	   "outputs": [],
"source": [
"clear;\n",
"clc;\n",
"L=0.5*(10^-3);C=0.01*(10^-6);Rk=600;\n",
"L1=2*L;\n",
"C1=C/2;\n",
"L2=Rk*Rk*C1;\n",
"C2=L1/(Rk*Rk);\n",
"printf('The elements of the shunt arm will be an inductance of %f mH in parallel with a capacitance of %f microfarads',L2*(10^3),round(C2*(10^10))/10^4);"
   ]
   }
,
{
		   "cell_type": "markdown",
		   "metadata": {},
		   "source": [
			"## Example 14.17: Designing_a_low_pass_composite_filter.sce"
		   ]
		  },
  {
"cell_type": "code",
	   "execution_count": null,
	   "metadata": {
	    "collapsed": true
	   },
	   "outputs": [],
"source": [
"clear;\n",
"clc;\n",
"fc=2400;fi=2500;Rk=600; //fi=frequency at which infinite attenuation occus\n",
"L0=Rk/(3.14*fc);\n",
"C0=1/(3.14*fc*Rk);\n",
"printf('The elements of the constant-K L.P. are:\n');\n",
"printf('  L = %f mH\n',round(L0*(10^5))/100);\n",
"printf('  C = %f microfarads\n\n',round(C0*(10^10))/10^4);\n",
"m1=sqrt(1-((fc/fi)^2));\n",
"L1=m1*L0/2;\n",
"L2=(1-(m1*m1))*L0/(4*m1);\n",
"C1=m1*C0;\n",
"printf('The elements of the m-derived L.P.T. filter are:\n');\n",
"printf('  mL/2 = %f mH\n',round(L1*(10^5))/100);\n",
"printf('  mC = %f microfarads\n',round(C1*(10^10))/10^4);\n",
"printf('  (1-m^2)L/4m = %f mH\n\n',round(L2*(10^5))/100);\n",
"m2=0.6;\n",
"L3=m2*L0/2;\n",
"L4=(1-(m2*m2))*L0/(2*m2);\n",
"C2=m2*C0/2;\n",
"printf('The elements of the terminating half sections m-derived L.P.T. filter are:\n');\n",
"printf('  mL/2 = %f mH\n',round(L3*(10^5))/100);\n",
"printf('  mC/2 = %f microfarads\n',round(C2*(10^10))/10^4);\n",
"printf('  (1-m^2)L/2m = %f mH\n\n',fix(L4*(10^5))/100);\n",
"printf('The complete composite filter is constructed by using the  constant-K in cascade with the short-cut of m-derived section and terminating half section');\n",
""
   ]
   }
,
{
		   "cell_type": "markdown",
		   "metadata": {},
		   "source": [
			"## Example 14.18: Determining_the_cut_off_frequency_and_characteristic_impedance.sce"
		   ]
		  },
  {
"cell_type": "code",
	   "execution_count": null,
	   "metadata": {
	    "collapsed": true
	   },
	   "outputs": [],
"source": [
"clear;\n",
"clc;\n",
"C0=1*(10^-6);L0=10*(10^-3);\n",
"C=C0/2;\n",
"L=L0;\n",
"Rk1=sqrt(L/C);\n",
"fc1=1/(4*%pi*sqrt(L*C));\n",
"printf('The cut-off frequency(high pass) = %f Hz\n',round(fc1));\n",
"printf(' The characteristic impedance(high pass) = %f ohms\n\n',round(Rk1*10)/10);\n",
"C1=C0*2;\n",
"Rk2=sqrt(L/C1);\n",
"fc2=1/(%pi*sqrt(L*C1));\n",
"printf(' The cut-off frequency(low pass) = %f Hz\n',fix(fc2));\n",
"printf(' The characteristic impedance(low pass) = %f ohms',fix(Rk2*10)/10);"
   ]
   }
,
{
		   "cell_type": "markdown",
		   "metadata": {},
		   "source": [
			"## Example 14.19: Designing_a_low_pass_composite_filter.sce"
		   ]
		  },
  {
"cell_type": "code",
	   "execution_count": null,
	   "metadata": {
	    "collapsed": true
	   },
	   "outputs": [],
"source": [
"clear;\n",
"clc;\n",
"Rk=500;fc=4000;fi=5000; //fi=frequency at which infinite attenuation occurs\n",
"L0=Rk/(%pi*fc);\n",
"C0=1/(%pi*fc*Rk);\n",
"printf('The elements of the constant-K L.P. are:\n');\n",
"printf('  L = %f mH\n',round(L0*(10^4))/10);\n",
"printf('  C = %f microfarads\n\n',round(C0*(10^9))/1000);\n",
"m1=sqrt(1-((fc/fi)^2));\n",
"L1=m1*L0/2;\n",
"L2=(1-(m1*m1))*L0/(4*m1);\n",
"C1=m1*C0;\n",
"printf('The elements of the m-derived L.P.T. filter are:\n');\n",
"printf('  mL/2 = %f mH\n',round(L1*(10^5))/100);\n",
"printf('  C = %f microfarads\n',round(C1*(10^10))/10^4);\n",
"printf('  Lshunt = %f mH\n\n',round(L2*(10^5))/100);\n",
"m2=0.6;\n",
"L3=m2*L0/2;\n",
"L4=(1-(m2*m2))*L0/(2*m2);\n",
"C2=m2*C0/2;\n",
"printf('The elements of the terminating half sections m-derived L.P.T. filter are:\n');\n",
"printf('  Lseris = %f mH\n',round(L3*(10^5))/100);\n",
"printf('  C = %f microfarads\n',round(C2*(10^10))/10^4);\n",
"printf('  Lshunt = %f mH\n\n',round(L4*(10^5))/100);\n",
"printf('The complete composite filter is constructed by using the  constant-K in cascade with the short-cut of m-derived section and terminating half section');\n",
"//the difference in result of the elements of the m derived L.P. T section is due to erroneous value in textbook.\n",
"disp('The difference in result of the elements of the m derived L.P. T section is due to erroneous value in textbook')"
   ]
   }
,
{
		   "cell_type": "markdown",
		   "metadata": {},
		   "source": [
			"## Example 14.1: Calculating_values_of_inductor_and_capacitor.sce"
		   ]
		  },
  {
"cell_type": "code",
	   "execution_count": null,
	   "metadata": {
	    "collapsed": true
	   },
	   "outputs": [],
"source": [
"clear;\n",
"clc;\n",
"Rk=600;fc=3000;\n",
"L=Rk/(%pi*fc);\n",
"printf('-Desired value of inductor L = %f mH\n',round(L*(10^3)*10)/10);\n",
"C=1/(%pi*Rk*fc);\n",
"printf('-Desired value of capacitor C = %f microfarads',round(C*(10^6)*10^4)/10^4);"
   ]
   }
,
{
		   "cell_type": "markdown",
		   "metadata": {},
		   "source": [
			"## Example 14.20: Determining_the_second_resonance_frequency.sce"
		   ]
		  },
  {
"cell_type": "code",
	   "execution_count": null,
	   "metadata": {
	    "collapsed": true
	   },
	   "outputs": [],
"source": [
"clear;\n",
"clc;\n",
"fr=1*(10^6);C=0.04*(10^-12);C1=6*(10^-12);\n",
"fa=fr*(1+(C/(2*C1)));\n",
"printf('The second resonance frequency = %f MHz',round(fa*(10^-2))/10^4);"
   ]
   }
,
{
		   "cell_type": "markdown",
		   "metadata": {},
		   "source": [
			"## Example 14.21: Computing_the_values_of_elements_of_filter.sce"
		   ]
		  },
  {
"cell_type": "code",
	   "execution_count": null,
	   "metadata": {
	    "collapsed": true
	   },
	   "outputs": [],
"source": [
"clear;\n",
"clc;\n",
"Rk=600;f1=120*(10^3);f2=123*(10^3);\n",
"C1=(f2-f1)/(4*%pi*Rk*f1*f2);\n",
"L1=Rk/(%pi*(f2-f1));\n",
"C2=L1/(Rk*Rk);\n",
"L2=Rk*(f2-f1)/(4*%pi*f1*f2);\n",
"printf('The elements of the T-type constant k band pass filter are:\n');\n",
"printf(' L1 = %f mH\n',fix((L1)*(10^4))/10);\n",
"printf(' C1 = %f picofarads\n',fix((C1)*(10^14))/100);\n",
"printf(' L2 = %f microhenry\n',fix((L2)*(10^7))/10);\n",
"printf(' C2 = %f microfarads',round((C2)*(10^9))/1000);"
   ]
   }
,
{
		   "cell_type": "markdown",
		   "metadata": {},
		   "source": [
			"## Example 14.22: Calculating_bandwidth.sce"
		   ]
		  },
  {
"cell_type": "code",
	   "execution_count": null,
	   "metadata": {
	    "collapsed": true
	   },
	   "outputs": [],
"source": [
"clear;\n",
"clc;\n",
"C=1/100;fo=1000; //C=C1/C2\n",
"//value of fo as taken in solution\n",
"f1=fo*((sqrt(C+1))-sqrt(C));\n",
"f2=fo*((sqrt(C+1))+sqrt(C));\n",
"BW=f2-f1;\n",
"printf('Bandwidth = %d Hz',(BW));"
   ]
   }
,
{
		   "cell_type": "markdown",
		   "metadata": {},
		   "source": [
			"## Example 14.23: Finding_the_values_of_the_elements_of_a_prototype_filter.sce"
		   ]
		  },
  {
"cell_type": "code",
	   "execution_count": null,
	   "metadata": {
	    "collapsed": true
	   },
	   "outputs": [],
"source": [
"clear;\n",
"clc;\n",
"Ro=600;f=120;fo=1500; //f=f2-f1\n",
"F=fo*fo; //F=f1*f2\n",
"l1=Ro/(2*%pi*f);\n",
"c1=round(f*10^11/(2*Ro*%pi*F))/10^5;\n",
"c2=round(1*10^8/(%pi*Ro*f))/100;\n",
"l2=Ro*f/(4*%pi*F);\n",
"n=(1/2)*(sqrt(((2*c2/(c1/2))+9)-1));\n",
"C1=((2*n)-1)*c1*10^-6/(2*n);\n",
"C2=c1*10^-6/n;\n",
"L=n*n*l2;\n",
"C3=c2*10^-6/(n*n);\n",
"printf('The elements of the filter are:\n');\n",
"printf(' (2n-1)C1/n = %f microfarads\n',fix(C1*(10^9))/1000);\n",
"printf(' 2C1/n = %f microfarads\n',fix((C2)*(10^10))/10^4);\n",
"printf(' (n^2)L2  = %f H\n',round(L*10)/10);\n",
"printf(' C2/(n^2) = %f microfards',round((C3)*(10^9))/1000);"
   ]
   }
,
{
		   "cell_type": "markdown",
		   "metadata": {},
		   "source": [
			"## Example 14.2: Calculating_cut_off_frequency_and_attenuation_and_phase_shift.sce"
		   ]
		  },
  {
"cell_type": "code",
	   "execution_count": null,
	   "metadata": {
	    "collapsed": true
	   },
	   "outputs": [],
"source": [
"clear;\n",
"clc;\n",
"L=20*(10^-3);C=0.32*(10^-6);f=15*(10^3);\n",
"fc=(1/(3.14*(sqrt(L*C))));\n",
"printf('Cutoff frequency fc = %f kHz\n',fix(fc*0.1)/100);\n",
"Rk=sqrt(L/C);\n",
"printf(' Value of nominal terminating impedance Rk = %f ohms\n',fix(Rk*10)/10);\n",
"a=2*(acosh(f/fc));\n",
"printf(' Value of attenuation a = %f db\n',fix(a*8.686*100)/100);\n",
"printf(' Phase shift of the low pass filter = pi radians');"
   ]
   }
,
{
		   "cell_type": "markdown",
		   "metadata": {},
		   "source": [
			"## Example 14.3: Calculating_value_of_L_and_C.sce"
		   ]
		  },
  {
"cell_type": "code",
	   "execution_count": null,
	   "metadata": {
	    "collapsed": true
	   },
	   "outputs": [],
"source": [
"clear;\n",
"clc;\n",
"fc=10*(10^3);Rk=600;\n",
"L=Rk/(4*%pi*fc);\n",
"printf('-Value of L = %f mH\n',fix(L*(10^3)*10^3)/10^3);\n",
"C=1/(4*%pi*fc*Rk);\n",
"printf('-Value of C = %f microfarads',fix(C*(10^6)*10^5)/10^5);"
   ]
   }
,
{
		   "cell_type": "markdown",
		   "metadata": {},
		   "source": [
			"## Example 14.4: EX14_4.sce"
		   ]
		  },
  {
"cell_type": "code",
	   "execution_count": null,
	   "metadata": {
	    "collapsed": true
	   },
	   "outputs": [],
"source": [
"clear;\n",
"clc;\n",
"L=60*(10^-3);C=0.2*(10^-6);\n",
"fc=1/(%pi*(sqrt(L*C)));\n",
"printf('(i)Cut off frequency fc for the low pass filter = %f kHz\n\n',round(fc*(10^-1))/100);\n",
"fa=1000;\n",
"Za=(sqrt(L/C))*(sqrt(1-((fa/fc)^2)));\n",
"printf(' (ii)Iterative impedance at f=1 KHz = %f ohms\n',fix(Za));\n",
"fb=5000;\n",
"Zb=(sqrt(L/C))*(sqrt(1-((fb/fc)^2)));\n",
"printf('   Iterative impedance at f=5 KHz = j(%f) ohms\n\n',fix(Zb/%i));\n",
"aa=0; //attenuation at frequency fa\n",
"ba=2*(asind(fa/fc)); //phase shift at frequency fa\n",
"ab=2*acosh(fb/fc); //attenuation at frequency fb\n",
"bb=180; //attenuation at frequency fb\n",
"V1=exp(aa); //V1=(Vin/Vout) at frequency of 1kHz\n",
"V2=exp(ab); //V2=(Vin/Vout) at frequency of 5kHz\n",
"printf(' (iii)At 5kHz,the voltage ratio = %f and phase difference = %f degrees\n',round(V2*10)/10,bb);\n",
"printf('     At 1kHz,the voltage ratio = %f and phase difference = %f degrees\n',V1,fix(ba*10)/10);"
   ]
   }
,
{
		   "cell_type": "markdown",
		   "metadata": {},
		   "source": [
			"## Example 14.5: Determining_the_elements_of_a_prototype_HP_T_section_filter.sce"
		   ]
		  },
  {
"cell_type": "code",
	   "execution_count": null,
	   "metadata": {
	    "collapsed": true
	   },
	   "outputs": [],
"source": [
"clear;\n",
"clc;\n",
"fc=1000;Rk=600;\n",
"L=Rk/(4*%pi*fc);\n",
"C=1/(4*%pi*fc*Rk);\n",
"printf('Thus,the series elements are two capacitors of value %f microfarad each and shunt inductance of value %f mH.',round(C*(10^3)*10^6)/10^5,fix(L*(10^3)*100)/100);"
   ]
   }
,
{
		   "cell_type": "markdown",
		   "metadata": {},
		   "source": [
			"## Example 14.6: Calculating_frequency.sce"
		   ]
		  },
  {
"cell_type": "code",
	   "execution_count": null,
	   "metadata": {
	    "collapsed": true
	   },
	   "outputs": [],
"source": [
"clear;\n",
"clc;\n",
"a=1.15;\n",
"F=cosh(a/2);\n",
"printf('The frequency at which low pass filter will havean attenuation 10 db will be %f times the cut off frequency',round(F*100)/100);"
   ]
   }
,
{
		   "cell_type": "markdown",
		   "metadata": {},
		   "source": [
			"## Example 14.7: Designing_a_m_derived_T_section_low_pass_filter.sce"
		   ]
		  },
  {
"cell_type": "code",
	   "execution_count": null,
	   "metadata": {
	    "collapsed": true
	   },
	   "outputs": [],
"source": [
"clear;\n",
"clc;\n",
"Rk=600;fc=1000;fi=1050;\n",
"L0=Rk/(%pi*fc);\n",
"C0=1/(%pi*fc*Rk);\n",
"m=round(sqrt(1-((fc/fi)^2))*10)/10;\n",
"L1=m*L0/2;\n",
"printf('-mL/2 = %f mH\n',round(L1*(10^3)*100)/100);\n",
"C=m*C0;\n",
"printf('-mC = %f microfarads\n',round(C*(10^6)*1000)/1000);\n",
"L2=L0*((1-(m*m))/(4*m));\n",
"printf('-(1-m^2)L/(4m) = %f mH',L2*(10^3));\n",
"//the difference in result is due to erroneous value in textbook.\n",
"disp('The difference in result is due to erroneous value in textbook')"
   ]
   }
,
{
		   "cell_type": "markdown",
		   "metadata": {},
		   "source": [
			"## Example 14.8: Designing_an_m_derived_T_section_high_pass_filter.sce"
		   ]
		  },
  {
"cell_type": "code",
	   "execution_count": null,
	   "metadata": {
	    "collapsed": true
	   },
	   "outputs": [],
"source": [
"clear;\n",
"clc;\n",
"fc=20*(10^3);Rk=600;m=0.6;\n",
"L0=Rk/(4*%pi*fc);\n",
"C0=1/(4*%pi*fc*Rk);\n",
"C1=2*C0/m;\n",
"printf('-2C/m = %f microfarads\n',round(C1*(10^6)*1000)/1000);\n",
"L=L0/m;\n",
"printf('-L/m = %f mH\n',round(L*(10^3)*100)/100)\n",
"C2=C0*((4*m)/(1-(m*m)));\n",
"printf('-4mC/(1-m^2) = %f microfarads',round(C2*(10^6)*1000)/1000);"
   ]
   }
,
{
		   "cell_type": "markdown",
		   "metadata": {},
		   "source": [
			"## Example 14.9: Designing_a_low_pass_filter.sce"
		   ]
		  },
  {
"cell_type": "code",
	   "execution_count": null,
	   "metadata": {
	    "collapsed": true
	   },
	   "outputs": [],
"source": [
"clear;\n",
"clc;\n",
"fc=2000;fi=2050;Rk=500; //fi=frequency at which infinite attenuation occurs\n",
"L0=Rk/(%pi*fc);\n",
"C0=1/(%pi*fc*Rk);\n",
"printf('The elements of the constant-K L.P. are:\n');\n",
"printf('  L = %f mH\n',fix(L0*(10^3)*10)/10);\n",
"printf('  C = %f microfarads\n\n',fix(C0*(10^6)*1000)/1000);\n",
"m1=round(sqrt(1-((fc/fi)^2))*100)/100;\n",
"L1=m1*L0/2;\n",
"L2=(1-(m1*m1))*L0/(4*m1);\n",
"C1=m1*C0;\n",
"printf('The elements of the m-derived L.P.T. filter are:\n');\n",
"printf('  mL/2 = %f mH\n',fix(L1*(10^3)*100)/100);\n",
"printf('  mC = %f microfarads\n',fix(C1*(10^6)*100)/100);\n",
"printf('  (1-m^2)L/4m = %f mH\n\n',fix(L2*(10^3)*100)/100);\n",
"m2=0.6;\n",
"L3=m2*L0/2;\n",
"L4=(1-(m2*m2))*L0/(4*m2);\n",
"C2=m2*C0;\n",
"printf('The elements of the terminating half sections m-derived L.P.T. filter are:\n');\n",
"printf('  mL/2 = %f mH\n',fix(L3*(10^3)*10)/10);\n",
"printf('  mC = %f microfarads\n',fix(C2*(10^6)*10000)/10000);\n",
"printf('  (1-m^2)L/4m = %f mH\n\n',fix(L4*(10^3)*10)/10);\n",
"printf('The complete composite filter is constructed by using the  constant-K in cascade with the short-cut of m-derived section and terminating half section');"
   ]
   }
],
"metadata": {
		  "kernelspec": {
		   "display_name": "Scilab",
		   "language": "scilab",
		   "name": "scilab"
		  },
		  "language_info": {
		   "file_extension": ".sce",
		   "help_links": [
			{
			 "text": "MetaKernel Magics",
			 "url": "https://github.com/calysto/metakernel/blob/master/metakernel/magics/README.md"
			}
		   ],
		   "mimetype": "text/x-octave",
		   "name": "scilab",
		   "version": "0.7.1"
		  }
		 },
		 "nbformat": 4,
		 "nbformat_minor": 0
}
